{
 "metadata": {
  "name": "",
  "signature": "sha256:a04a4d0f176c83000d5d4a57477bbe1da1eb7a2da88e100d507445cc1d387f19"
 },
 "nbformat": 3,
 "nbformat_minor": 0,
 "worksheets": [
  {
   "cells": [
    {
     "cell_type": "heading",
     "level": 1,
     "metadata": {},
     "source": [
      "Chapter-10 Voltage Regulators"
     ]
    },
    {
     "cell_type": "heading",
     "level": 2,
     "metadata": {},
     "source": [
      "Example 10.1 - Page 311"
     ]
    },
    {
     "cell_type": "code",
     "collapsed": false,
     "input": [
      "import math\n",
      "#Given data\n",
      "Idc= 300 # in mA\n",
      "C= 200 # in \u00b5F\n",
      "Vmax= 24 # in V\n",
      "Vrms= 2.4*Idc/C #in V\n",
      "Vr_peak= math.sqrt(3)*Vrms # in V\n",
      "Vdc= Vmax-Vr_peak # in V\n",
      "print \"The minimum input voltage = %0.2f V\" %Vdc"
     ],
     "language": "python",
     "metadata": {},
     "outputs": [
      {
       "output_type": "stream",
       "stream": "stdout",
       "text": [
        "The minimum input voltage = 17.76 V\n"
       ]
      }
     ],
     "prompt_number": 2
    },
    {
     "cell_type": "heading",
     "level": 2,
     "metadata": {},
     "source": [
      "Example 10.2 - Page 311"
     ]
    },
    {
     "cell_type": "code",
     "collapsed": false,
     "input": [
      "#Given data\n",
      "VR= 12 # in V\n",
      "IL= 0.5 # in A\n",
      "RL= 25 # in \u03a9\n",
      "# Resistanc required,\n",
      "R= VR/IL # in \u03a9\n",
      "VL= IL*RL # in V\n",
      "Vout= VR+VL #output voltage in V\n",
      "Vin= Vout+2 # input voltage in V\n",
      "print \"The input voltage = %0.1f V\" %Vin"
     ],
     "language": "python",
     "metadata": {},
     "outputs": [
      {
       "output_type": "stream",
       "stream": "stdout",
       "text": [
        "The input voltage = 26.5 V\n"
       ]
      }
     ],
     "prompt_number": 4
    },
    {
     "cell_type": "heading",
     "level": 2,
     "metadata": {},
     "source": [
      "Example 10.3 - Page 311"
     ]
    },
    {
     "cell_type": "code",
     "collapsed": false,
     "input": [
      "#Given data\n",
      "R1= 240 # in \u03a9\n",
      "R2= 1.2*10**3 # in \u03a9\n",
      "# Regulated output voltage in the circuit,\n",
      "Vout= 1.25*(1+R2/R1) # in V\n",
      "print \"The regulated output voltage = %0.1f V\" %Vout"
     ],
     "language": "python",
     "metadata": {},
     "outputs": [
      {
       "output_type": "stream",
       "stream": "stdout",
       "text": [
        "The regulated output voltage = 7.5 V\n"
       ]
      }
     ],
     "prompt_number": 5
    },
    {
     "cell_type": "heading",
     "level": 2,
     "metadata": {},
     "source": [
      "Example 10.4 - Page 311"
     ]
    },
    {
     "cell_type": "code",
     "collapsed": false,
     "input": [
      "#Given data\n",
      "V_REG= 15 # in V\n",
      "I_Q= 10*10**-3 # in A\n",
      "R1= 40 # in \u03a9\n",
      "# When potentiometer R2=0 \u03a9 (minimum)\n",
      "R2= 0 # in \u03a9\n",
      "Vout= (1+R2/R1)*V_REG+I_Q*R2 \n",
      "print \"The minimum output voltage = %0.f V\" %Vout\n",
      "# When potentiometer R2=200 \u03a9 (maximum)\n",
      "R2= 200 # in \u03a9\n",
      "Vout= (1+R2/R1)*V_REG+I_Q*R2 \n",
      "print \"The maximum output voltage = %0.f V\" %Vout"
     ],
     "language": "python",
     "metadata": {},
     "outputs": [
      {
       "output_type": "stream",
       "stream": "stdout",
       "text": [
        "The minimum output voltage = 15 V\n",
        "The maximum output voltage = 92 V\n"
       ]
      }
     ],
     "prompt_number": 7
    },
    {
     "cell_type": "heading",
     "level": 2,
     "metadata": {},
     "source": [
      "Example 10.5 - Page 324 "
     ]
    },
    {
     "cell_type": "code",
     "collapsed": false,
     "input": [
      "#Given data \n",
      "V_REF= 1.25 # in V\n",
      "R1= 2.5*10**3 # in \u03a9\n",
      "R2= 1*10**3 # in \u03a9\n",
      "I= V_REF/R2 # in A\n",
      "# The output voltage,\n",
      "Vout= I*(R1+R2) # in V\n",
      "print \"The regulated output voltage = %0.3f V\" %Vout"
     ],
     "language": "python",
     "metadata": {},
     "outputs": [
      {
       "output_type": "stream",
       "stream": "stdout",
       "text": [
        "The regulated output voltage = 4.375 V\n"
       ]
      }
     ],
     "prompt_number": 8
    },
    {
     "cell_type": "heading",
     "level": 2,
     "metadata": {},
     "source": [
      "Example 10.6 - Page 324"
     ]
    },
    {
     "cell_type": "code",
     "collapsed": false,
     "input": [
      "#Given data\n",
      "V_REF= 1.25 # in V\n",
      "R1= 3*10**3 # in \u03a9\n",
      "R2= 1*10**3 # in \u03a9\n",
      "Vin= 20 # in V\n",
      "Vout= V_REF*(R1+R2)/R2 # output voltage in volts\n",
      "# Duty cycle,\n",
      "D= Vout/Vin*100 # in %\n",
      "print \"The duty cycle = %0.f %%\" %D"
     ],
     "language": "python",
     "metadata": {},
     "outputs": [
      {
       "output_type": "stream",
       "stream": "stdout",
       "text": [
        "The duty cycle = 25 %\n"
       ]
      }
     ],
     "prompt_number": 9
    }
   ],
   "metadata": {}
  }
 ]
}