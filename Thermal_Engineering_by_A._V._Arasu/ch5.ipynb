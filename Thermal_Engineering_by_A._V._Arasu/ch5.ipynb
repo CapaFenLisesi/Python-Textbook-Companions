{
 "metadata": {
  "name": "",
  "signature": "sha256:2b6bc93922bd7b11c4334e4b77fa7e0b05d2efd84a162a89a3c4553815d1a094"
 },
 "nbformat": 3,
 "nbformat_minor": 0,
 "worksheets": [
  {
   "cells": [
    {
     "cell_type": "heading",
     "level": 1,
     "metadata": {},
     "source": [
      "Chapter 5 :\n",
      "Air Compressors"
     ]
    },
    {
     "cell_type": "heading",
     "level": 2,
     "metadata": {},
     "source": [
      "Example 5.1  Page no : 250"
     ]
    },
    {
     "cell_type": "code",
     "collapsed": false,
     "input": [
      "\n",
      "# Variables\n",
      "D = 0.2;\t\t\t#Cylinder diameter in m\n",
      "L = 0.3;\t\t\t#Cylinder Stroke in m\n",
      "P1 = 1.;\t\t\t#Pressure at entry in bar\n",
      "T1 = 300.;\t\t\t#Temperature at entry in K\n",
      "P2 = 8.;\t\t\t#Pressure at exit in bar\n",
      "n = 1.25;\t\t\t#Adiabatic gas constant\n",
      "N = 100.;\t\t\t#Speed in rpm\n",
      "R = 287.;\t\t\t#Universal gas constant in J/kg-K\n",
      "\n",
      "# Calculations\n",
      "x = (n-1)/n;\t\t\t#Ratio\n",
      "V1 = (3.147*L*(D**2))/4;\t\t\t#Volume of cylinder in m**3/cycle\n",
      "W = (P1*(10**5)*V1*(((P2/P1)**x)-1))/x;\t\t\t#Work done in J/cycle\n",
      "Pc = (W*100)/(60*1000);\t\t\t#Indicated power of compressor in kW\n",
      "m = (P1*(10**5)*V1)/(R*T1);\t\t\t#Mass of air delivered in kg/cycle\n",
      "md = m*N;\t\t\t#Mass delivered per minute in kg\n",
      "T2 = T1*((P2/P1)**x);\t\t\t#Temperature of air delivered in K\n",
      "\n",
      "# Results\n",
      "print 'Indicated power of compressor is %3.2f kW  \\\n",
      "\\nMass of air delivered by compressor per minute is %3.2f kg  \\\n",
      "\\nTemperature of air delivered is %3.1fK'%(Pc,md,T2)\n"
     ],
     "language": "python",
     "metadata": {},
     "outputs": [
      {
       "output_type": "stream",
       "stream": "stdout",
       "text": [
        "Indicated power of compressor is 4.06 kW  \n",
        "Mass of air delivered by compressor per minute is 1.10 kg  \n",
        "Temperature of air delivered is 454.7K\n"
       ]
      }
     ],
     "prompt_number": 1
    },
    {
     "cell_type": "heading",
     "level": 2,
     "metadata": {},
     "source": [
      "Example 5.2  Page no : 251"
     ]
    },
    {
     "cell_type": "code",
     "collapsed": false,
     "input": [
      "\n",
      "import math \n",
      "\n",
      "# Variables\n",
      "IP = 37.;\t\t\t#Indicated power in kW\n",
      "P1 = 0.98;\t\t\t#Pressure at entry in bar\n",
      "T1 = 288.;\t\t\t#Temperature at entry in K\n",
      "P2 = 5.8;\t\t\t#Pressure at exit in bar\n",
      "n = 1.2;\t\t\t#Adiabatic gas constant\n",
      "N = 100.;\t\t\t#Speed in rpm\n",
      "Ps = 151.5;\t\t\t#Piston speed in m/min\n",
      "a = 2.;\t\t\t#For double acting compressor\n",
      "\n",
      "# Calculations\n",
      "L = Ps/(2*N);\t\t\t#Stroke length in m\n",
      "x = (n-1)/n;\t\t\t#Ratio\n",
      "r = (3.147*L)/4;\t\t\t#Ratio of volume to bore\n",
      "D = math.sqrt((IP*1000*60*x)/(N*a*r*P1*(10**5)*(((P2/P1)**x)-1)));\t\t\t#Cylinder diameter in m\n",
      "\n",
      "# Results\n",
      "print 'Stroke length of cylinder is %3.4f m  \\\n",
      "\\nCylinder diameter is %3.4f m'%(L,D)\n"
     ],
     "language": "python",
     "metadata": {},
     "outputs": [
      {
       "output_type": "stream",
       "stream": "stdout",
       "text": [
        "Stroke length of cylinder is 0.7575 m  \n",
        "Cylinder diameter is 0.3030 m\n"
       ]
      }
     ],
     "prompt_number": 2
    },
    {
     "cell_type": "heading",
     "level": 2,
     "metadata": {},
     "source": [
      "Example 5.3  Page no : 251"
     ]
    },
    {
     "cell_type": "code",
     "collapsed": false,
     "input": [
      "import math \n",
      "\n",
      "# Variables\n",
      "IP = 11.;\t\t\t#Indicated power in kW\n",
      "P1 = 1.;\t\t\t#Pressure at entry in bar\n",
      "P2 = 7.;\t\t\t#Pressure at exit in bar\n",
      "n = 1.2;\t\t\t#Adiabatic gas consmath.tant\n",
      "Ps = 150.;\t\t\t#Piston speed in m/s\n",
      "a = 2.; \t\t\t#For double acting compressor\n",
      "r = 1.5;\t\t\t#Storke to bore ratio\n",
      "\n",
      "# Calculations\n",
      "x = (n-1)/n;\t\t\t#Ratio\n",
      "y = 3.147/(4*(r**2));\t\t\t#Ratio of volume to the cube of stroke\n",
      "z = (P1*(10**2)*y*(((P2/P1)**x)-1))/x;\t\t\t#Ratio of workdone to the cube of stroke\n",
      "L = (math.sqrt(IP/(z*Ps)))*1000;\t\t\t#Stroke in mm\n",
      "D = (L/r);\t\t\t#Bore in mm\n",
      "\n",
      "# Results\n",
      "print 'Stroke length of cylinder is %3.0f mm  \\\n",
      "\\nBore diameter of cylinder is %3.0f mm'%(L,D)\n"
     ],
     "language": "python",
     "metadata": {},
     "outputs": [
      {
       "output_type": "stream",
       "stream": "stdout",
       "text": [
        "Stroke length of cylinder is  30 mm  \n",
        "Bore diameter of cylinder is  20 mm\n"
       ]
      }
     ],
     "prompt_number": 3
    },
    {
     "cell_type": "heading",
     "level": 2,
     "metadata": {},
     "source": [
      "Example 5.4  Page no : 252"
     ]
    },
    {
     "cell_type": "code",
     "collapsed": false,
     "input": [
      "\n",
      "# Variables\n",
      "x = 0.05            # ratio\n",
      "P1 = 1.;\t\t\t#Pressure at point 1 in bar\n",
      "T1 = 310.;\t\t\t#Temperature at point 1 in K\n",
      "n = 1.2;\t\t\t#Adiabatic gas constant\n",
      "P2 = 7.;\t\t\t#Pressure at point 2 in bar\n",
      "Pa = 1.01325;\t\t\t#Atmospheric pressure in bar\n",
      "Ta = 288.;\t\t\t#Atmospheric temperature in K\n",
      "\n",
      "# Calculations\n",
      "V1 = 1+x;\t\t\t#Ratio of volume of air sucked to stroke volume\n",
      "V4 = ((P2/P1)**(1/n))/20;\t\t\t#Ratio of volume delivered to stroke volume\n",
      "DV = V1-V4;\t\t\t#Difference in volumes\n",
      "nv1 = DV*100;\t\t\t#Volumetric efficiency\n",
      "V = (P1*DV*Ta)/(T1*Pa);\t\t\t#Ratio of volumes referred to atmospheric conditions\n",
      "nv2 = V*100;\t\t\t#Volumetric efficiency referred to atmospheric conditions\n",
      "W = (n*0.287*T1*((P2/P1)**((n-1)/n)-1))/(n-1);\t\t\t#Work required in kJ/kg\n",
      "\n",
      "# Results\n",
      "print 'Volumetric efficiency is %3.1f percent  \\\n",
      "\\nVolumetric efficiency referred to atmospheric conditions is %3.1f percent  \\\n",
      "\\nWork required is %3.1f kJ/kg'%(nv1,nv2,W)\n"
     ],
     "language": "python",
     "metadata": {},
     "outputs": [
      {
       "output_type": "stream",
       "stream": "stdout",
       "text": [
        "Volumetric efficiency is 79.7 percent  \n",
        "Volumetric efficiency referred to atmospheric conditions is 73.1 percent  \n",
        "Work required is 204.5 kJ/kg\n"
       ]
      }
     ],
     "prompt_number": 2
    },
    {
     "cell_type": "heading",
     "level": 2,
     "metadata": {},
     "source": [
      "Example 5.5  Page no : 253"
     ]
    },
    {
     "cell_type": "code",
     "collapsed": false,
     "input": [
      "\n",
      "# Variables\n",
      "D = 0.2;\t\t\t#Bore in m\n",
      "L = 0.3;\t\t\t#Stroke in m\n",
      "P1 = 1.;\t\t\t#Pressure at point 1 in bar\n",
      "P2 = 7.;\t\t\t#Pressure at point 2 in bar\n",
      "n = 1.25;\t\t\t#Adiabatic gas constant\n",
      "lc = 0.015\n",
      "\n",
      "# Calculations\n",
      "V3 = (3.147*(D**2)*lc)/4.;\t\t\t#Clearance volume in m**3\n",
      "Vs = (3.147*(D**2)*L)/4.;\t\t\t#Stoke volume in m**3\n",
      "C = V3/Vs;\t\t\t#Clearance ratio\n",
      "nv = (1+C-(C*((P2/P1)**(1/n))))*100;\t\t\t#Volumetric efficiency\n",
      "DV = (nv*Vs)/100.;\t\t\t#Volume of air taken in (m**3)/stroke\n",
      "\n",
      "# Results\n",
      "print 'Theoretical volume of air taken in per stroke is %.2e m**3/stroke'%(DV)\n"
     ],
     "language": "python",
     "metadata": {},
     "outputs": [
      {
       "output_type": "stream",
       "stream": "stdout",
       "text": [
        "Theoretical volume of air taken in per stroke is 7.67e-03 m**3/stroke\n"
       ]
      }
     ],
     "prompt_number": 4
    },
    {
     "cell_type": "heading",
     "level": 2,
     "metadata": {},
     "source": [
      "Example 5.6  Page no : 254"
     ]
    },
    {
     "cell_type": "code",
     "collapsed": false,
     "input": [
      "\n",
      "import math \n",
      "\n",
      "# Variables\n",
      "D = 0.2;\t\t\t#Bore in m\n",
      "L = 0.3;\t\t\t#Stroke in m\n",
      "P1 = 1.;\t\t\t#Pressure at point 1 in bar\n",
      "r = 0.05            # ratio\n",
      "T1 = 293.;\t\t\t#Temperature at point 1 in K\n",
      "P2 = 5.5;\t\t\t#Pressure at point 2 in bar\n",
      "n = 1.3;\t\t\t#Adiabatic gas constant\n",
      "N = 500.;\t\t\t#Speed of compressor in rpm\n",
      "\n",
      "# Calculations\n",
      "x = (n-1)/n;\t\t\t#Ratio\n",
      "Vs = (3.147*L*(D**2))/4;\t\t\t#Stroke volume in m**3\n",
      "Vc = r*Vs;\t\t\t#Clearance volume in m**3\n",
      "V1 = Vc+Vs;\t\t\t#Volume at point 1 in m**3\n",
      "V4 = Vc*((P2/P1)**(1/n));\t\t\t#Volume at point 4 in m**3\n",
      "EVs = V1-V4;\t\t\t#Effective swept volume in m**3\n",
      "W = (P1*(10**5)*EVs*(((P2/P1)**x)-1))/x;\t\t\t#Work done in J/cycle\n",
      "MEP = (W/Vs)/(10**5);\t\t\t#Mean effective pressure in bar\n",
      "P = (W*N)/(60*1000);\t\t\t#Power required in kW\n",
      "\n",
      "# Results\n",
      "print 'Mean effective pressure is %3.2f bar  \\\n",
      "\\nPower required is %3.2f kW'%(MEP,P)\n",
      "\n",
      "# rounding off error"
     ],
     "language": "python",
     "metadata": {},
     "outputs": [
      {
       "output_type": "stream",
       "stream": "stdout",
       "text": [
        "Mean effective pressure is 1.81 bar  \n",
        "Power required is 14.21 kW\n"
       ]
      }
     ],
     "prompt_number": 5
    },
    {
     "cell_type": "heading",
     "level": 2,
     "metadata": {},
     "source": [
      "Example 5.7  Page no : 255"
     ]
    },
    {
     "cell_type": "code",
     "collapsed": false,
     "input": [
      "import math \n",
      "\n",
      "# Variables\n",
      "D = 0.2;\t\t\t#Bore in m\n",
      "L = 0.3;\t\t\t#Stroke in m\n",
      "P1 = 97.;\t\t\t#Pressure at entry in kN/(m**2)\n",
      "P4 = P1;\t\t\t#Pressure at point 4 in kN/(m**2)\n",
      "T1 = 293.;\t\t\t#Temperature at point 1 in K\n",
      "P2 = 550.;\t\t\t#Compression Pressure in kN/(m**2)\n",
      "P3 = P2;\t\t\t#Pressure at point 3 in kN/(m**2)\n",
      "n = 1.3;\t\t\t#Adiabatic gas constant\n",
      "N = 500.;\t\t\t#Speed of compressor in rpm\n",
      "Pa = 101.325;\t\t\t#Air pressure in kN/(m**2)\n",
      "Ta = 288.;\t\t\t#Air temperature in K\n",
      "\n",
      "# Calculations\n",
      "x = (n-1)/n;\t\t\t#Ratio\n",
      "DV = (3.147*L*(D**2))/4;\t\t\t#Difference in volumes in m**3\n",
      "V3 = r*DV;\t\t\t#Clearance volume in m**3\n",
      "V1 = V3+DV;\t\t\t#Volume at point 1 in m**3\n",
      "V4 = V3*((P3/P4)**(1/n));\t\t\t#Volume at point 4 in m**3\n",
      "Vs = V1-V4;\t\t\t#Effective swept volume in m**3\n",
      "EVs = Vs*N;\t\t\t#Effective swept volume per min\n",
      "Va = (P1*EVs*Ta)/(Pa*T1);\t\t\t#Free air delivered in (m**3)/min\n",
      "nV = ((V1-V4)/(V1-V3))*100;\t\t\t#Volumetric effciency\n",
      "T2 = T1*((P2/P1)**x);\t\t\t#Air delivery temperature in K\n",
      "t2 = T2-273;\t\t\t#Air delivery temperature in oC\n",
      "W = (n*P1*(V1-V4)*(((P2/P1)**x)-1))*N/((n-1)*60);\t\t\t#Cycle power in kW\n",
      "Wiso = P1*V1*(math.log(P2/P1));\t\t\t#Isothermal workdone\n",
      "niso = (Wiso/(4.33*0.493))*100;\t\t\t#Isothermal efficiency\n",
      "\n",
      "# Results\n",
      "print 'Free air delivered is %3.3f m**3/min  \\\n",
      "\\nVolumetric efficiency is %3.0f percent  \\\n",
      "\\nAir delivery temperature is %3.1f oC  \\\n",
      "\\nCycle power is %3.0f kW  \\\n",
      "\\nIsothermal efficiency is %3.1f percent'%(Va,nV,t2,W,round(niso,-1))\n",
      "\n",
      "# rounding off error"
     ],
     "language": "python",
     "metadata": {},
     "outputs": [
      {
       "output_type": "stream",
       "stream": "stdout",
       "text": [
        "Free air delivered is 3.820 m**3/min  \n",
        "Volumetric efficiency is  86 percent  \n",
        "Air delivery temperature is 164.3 oC  \n",
        "Cycle power is  14 kW  \n",
        "Isothermal efficiency is 80.0 percent\n"
       ]
      }
     ],
     "prompt_number": 12
    },
    {
     "cell_type": "heading",
     "level": 2,
     "metadata": {},
     "source": [
      "Example 5.8  Page no : 257"
     ]
    },
    {
     "cell_type": "code",
     "collapsed": false,
     "input": [
      "\n",
      "import math \n",
      "\n",
      "# Variables\n",
      "Ve = 30.;\t\t\t#Volume of air entering compressor per hour in m**3\n",
      "P1 = 1.;\t\t\t#Presure of air entering compressor in bar\n",
      "N = 450.;\t\t\t#Speed in rpm\n",
      "P2 = 6.5;\t\t\t#Pressure at point 2 in bar\n",
      "nm = 0.8;\t\t\t#Mechanical efficiency\n",
      "nv = 0.75;\t\t\t#Volumetric efficiency\n",
      "niso = 0.76;\t\t\t#Isothermal efficiency\n",
      "\n",
      "# Calculations\n",
      "Vs = Ve/(nv*3600);\t\t\t#Swept volume per sec in (m**3)/s\n",
      "V = (Vs*60)/N;\t\t\t#Swept volume per cycle in m**3\n",
      "V1 = (Ve*60)/(3600*N);\t\t\t#Volume at point 1 in m**3\n",
      "Wiso = P1*100*V1*math.log(P2/P1);\t\t\t#Isothermal workdone per cycle\n",
      "Wact = Wiso/niso;\t\t\t#Actual workdone per cycle on air\n",
      "MEP = (Wact/V)/100;\t\t\t#Mean effective pressure in bar\n",
      "IP = (Wact*N)/60;\t\t\t#Indicated power in kW\n",
      "BP = IP/nm;\t\t\t#Brake power in kW\n",
      "\n",
      "# Results\n",
      "print 'Mean effective pressure is %3.3f bar  \\\n",
      "\\nBrake power is %3.2f kW'%(MEP,BP)\n",
      "\n",
      "# rounding off error"
     ],
     "language": "python",
     "metadata": {},
     "outputs": [
      {
       "output_type": "stream",
       "stream": "stdout",
       "text": [
        "Mean effective pressure is 1.847 bar  \n",
        "Brake power is 2.57 kW\n"
       ]
      }
     ],
     "prompt_number": 13
    },
    {
     "cell_type": "heading",
     "level": 2,
     "metadata": {},
     "source": [
      "Example 5.9  Page no : 258"
     ]
    },
    {
     "cell_type": "code",
     "collapsed": false,
     "input": [
      "\n",
      "import math \n",
      "\n",
      "# Variables\n",
      "Va = 15.;\t\t\t#Volume of air in (m**3)/min\n",
      "Pa = 1.01325;\t\t\t#Pressure of air in bar\n",
      "Ta = 302.;\t\t\t#Air temperature in K\n",
      "P1 = 0.985;\t\t\t#Pressure at point 1 in bar\n",
      "r = 0.04            # ratio\n",
      "T1 = 313.;\t\t\t#Temperature at point 1 in K\n",
      "y = 1.3;\t\t\t#Ratio of stroke to bore diameter\n",
      "N = 300.;\t\t\t#Speed in rpm\n",
      "n = 1.3;\t\t\t#Adiabatic gas constant\n",
      "P2 = 7.5;\t\t\t#Pressure at point 2 in bar\n",
      "\n",
      "# Calculations\n",
      "x=((P2/P1)**(1./n))-1;\n",
      "a = x*r;\t\t\t#Ratio of volume at point 4 to swept volume\n",
      "nv = 1-a;\t\t\t#Volumetric efficiency\n",
      "V1 = (Pa*Va*T1)/(Ta*P1);\t\t\t#Volume at point 1 in (m**3)/min\n",
      "Vs = V1/(nv*N*2);\t\t\t#Swept volume in m**3\n",
      "D = ((Vs*4)/(math.pi*y))**(1./3);\t\t\t#Bore in m\n",
      "L = y*D;\t\t\t#Stroke in m\n",
      "\n",
      "# Results\n",
      "print 'Cylinder bore in %3.3f m  \\\n",
      "\\nCylinder stroke %3.3f m'%(D,L)\n",
      "\n",
      "# rounding off error"
     ],
     "language": "python",
     "metadata": {},
     "outputs": [
      {
       "output_type": "stream",
       "stream": "stdout",
       "text": [
        "Cylinder bore in 0.313 m  \n",
        "Cylinder stroke 0.407 m\n"
       ]
      }
     ],
     "prompt_number": 22
    },
    {
     "cell_type": "heading",
     "level": 2,
     "metadata": {},
     "source": [
      "Example 5.10  Page no : 259"
     ]
    },
    {
     "cell_type": "code",
     "collapsed": false,
     "input": [
      "\n",
      "import math \n",
      "\n",
      "# Variables\n",
      "P1 = 0.98;\t\t\t#Pressure at point 1 in bar\n",
      "P4 = P1;\t\t\t#Pressure at point 4 in bar\n",
      "P2 = 7.;\t\t\t#Pressure at point 2 in bar\n",
      "P3 = P2;\t\t\t#Pressure at point 3 in bar\n",
      "n = 1.3;\t\t\t#Adiabatic gas consmath.tant\n",
      "Ta = 300.;\t\t\t#Air temperature in K\n",
      "Pa = 1.013;\t\t\t#Air pressure in bar\n",
      "T1 = 313.;\t\t\t#Temperature at point 1 in K\n",
      "Va = 15.;\t\t\t#Volume of air delivered in m**3\n",
      "R = 0.287;\t\t\t#Universal gas constant in kJ/kg-K\n",
      "c = 0.04\n",
      "\n",
      "# Calculations\n",
      "x = (n-1)/n;\t\t\t#Ratio\n",
      "r = (P2/P1)**(1/n);\t\t\t#Ratio of volumes\n",
      "a = r*c;\t\t\t#Ratio of volume at point 4 to swept volume\n",
      "DV = 1+c-a;\t\t\t#Difference in volumes\n",
      "V = (P1*DV*Ta)/(T1*Pa);\t\t\t#Volume of air delivered per cycle\n",
      "nv = V*100;\t\t\t#Volumetric efficiency\n",
      "DV1 = (Pa*Va*T1)/(Ta*P1);\t\t\t#Difference in volumes\n",
      "T2 = T1*((P2/P1)**x);\t\t\t#Temperature at point 2 in K\n",
      "ma = (Pa*100*Va)/(R*Ta);\t\t\t#Mass of air delivered in kg/min\n",
      "IP = (ma*R*(T2-T1))/(x*60);\t\t\t#Indicated power in kW\n",
      "Piso = (ma*R*T1*math.log(P2/P1))/60;\t\t\t#Isothermal indicated power in kW\n",
      "niso = (Piso/IP)*100;\t\t\t#Isothermal efficiency\n",
      "\n",
      "# Results\n",
      "print 'Volumetric efficiency is %3.1f percent  \\\n",
      "\\nIndicated power is %3.2f kW  \\\n",
      "\\nIsothermal efficiency is %3.0f percent'%(nv,IP,niso)\n"
     ],
     "language": "python",
     "metadata": {},
     "outputs": [
      {
       "output_type": "stream",
       "stream": "stdout",
       "text": [
        "Volumetric efficiency is 79.6 percent  \n",
        "Indicated power is 65.74 kW  \n",
        "Isothermal efficiency is  79 percent\n"
       ]
      }
     ],
     "prompt_number": 23
    },
    {
     "cell_type": "heading",
     "level": 2,
     "metadata": {},
     "source": [
      "Example 5.11  Page no : 261"
     ]
    },
    {
     "cell_type": "code",
     "collapsed": false,
     "input": [
      "\n",
      "# Variables\n",
      "V1 = 7.*(10**-3);\t\t\t#Volume of air in (m**3)/s\n",
      "P1 = 1.013;\t\t\t#Pressure of air in bar\n",
      "T1 = 288.;\t\t\t#Air temperature in K\n",
      "P2 = 14.;\t\t\t#Pressure at point 2 in bar\n",
      "n = 1.3;\t\t\t#Adiabatic gas constant\n",
      "nm = 0.82;\t\t\t#Mechanical efficiency\n",
      "\n",
      "# Calculations\n",
      "x = (n-1)/n;\t\t\t#Ratio\n",
      "W = (P1*100*V1*(((P2/P1)**x)-1))/x;\t\t\t#Work done by compressor in kW\n",
      "P = W/nm;\t\t\t#Power requred to drive compressor in kW\n",
      "\n",
      "# Results\n",
      "print 'Power requred to drive compressor is %3.2f kW'%(P)\n"
     ],
     "language": "python",
     "metadata": {},
     "outputs": [
      {
       "output_type": "stream",
       "stream": "stdout",
       "text": [
        "Power requred to drive compressor is 3.12 kW\n"
       ]
      }
     ],
     "prompt_number": 24
    },
    {
     "cell_type": "heading",
     "level": 2,
     "metadata": {},
     "source": [
      "Example 5.12  Page no : 261"
     ]
    },
    {
     "cell_type": "code",
     "collapsed": false,
     "input": [
      "# Variables\n",
      "L = 0.15;\t\t\t#Stroke in mm\n",
      "D = 0.15;\t\t\t#Bore in mm\n",
      "N = 8.;\t\t\t#Speed in rps\n",
      "P1 = 100.;\t\t\t#Pressure at point 1 in kN/(m**2)\n",
      "P2 = 550.;\t\t\t#Pressure at point 2 in kN/(m**2)\n",
      "n = 1.32;\t\t\t#Adiabatic gas constant\n",
      "C = 0.06            # RATIO\n",
      "\n",
      "# Calculations\n",
      "x = (n-1)/n;\t\t\t#Ratio\n",
      "nv = (1+C-(C*((P2/P1)**(1/n))))*100;\t\t\t#Volumetric efficiency\n",
      "DV = (3.147*(D**2)*L)/4;\t\t\t#Difference in volumes at points 1 and 3\n",
      "DV1 = (nv*DV)/100;\t\t\t#Difference in volumes at points 1 and 4\n",
      "V2 = DV1*((P1/P2)**(1/n))*N;\t\t\t#Volume of air delivered per second\n",
      "W = (P1*DV1*(((P2/P1)**x)-1))*N/x;\t\t\t#Power of compressor in kW\n",
      "\n",
      "# Results\n",
      "print 'Theoretical volume efficiency is %3.1f percent  \\\n",
      "\\nVolume of air delivered is %3.5f m**3/s  \\\n",
      "\\nPower of compressor is %3.3f kW'%(nv,V2,W)\n"
     ],
     "language": "python",
     "metadata": {},
     "outputs": [
      {
       "output_type": "stream",
       "stream": "stdout",
       "text": [
        "Theoretical volume efficiency is 84.2 percent  \n",
        "Volume of air delivered is 0.00491 m**3/s  \n",
        "Power of compressor is 3.774 kW\n"
       ]
      }
     ],
     "prompt_number": 26
    },
    {
     "cell_type": "heading",
     "level": 2,
     "metadata": {},
     "source": [
      "Example 5.13  Page no : 262"
     ]
    },
    {
     "cell_type": "code",
     "collapsed": false,
     "input": [
      "\n",
      "import math \n",
      "\n",
      "# Variables\n",
      "V = 16.;\t\t\t#Volume of air compresssed in m**3\n",
      "P1 = 1.;\t\t\t#Pressure at point 1 in bar\n",
      "P3 = 10.5;\t\t\t#Pressure at point 3 in bar\n",
      "T1 = 294.;\t\t\t#Temperature at point 1 in K\n",
      "Tc = 25.;\t\t\t#Temperature of cooling water in oC\n",
      "n = 1.35;\t\t\t#Adiabatics gas constant\n",
      "R = 0.287;\t\t\t#Universal gas constant in kJ/kg-K\n",
      "Cp = 1.005;\t\t\t#Specific heat at constant pressure in kJ/kg-K\n",
      "Cw = 4.187;\t\t\t#Specific heat of water in kJ/kg-K\n",
      "\n",
      "# Calculations\n",
      "x = (n-1)/n;\t\t\t#Ratio\n",
      "P2 = math.sqrt(P1*P3);\t\t\t#Pressure at point 2 in bar\n",
      "W1 = (2*P1*100*V*(((P2/P1)**x)-1))/(x*60);\t\t\t#Indicated power of compressor from P1 to P2 in kW\n",
      "W2 = (P1*100*V*(((P3/P1)**x)-1))/(x*60);\t\t\t#Indicated power of compressor from P1 to P3 in kW\n",
      "T4 = T1*((P2/P1)**x);\t\t\t#Maximum temperature for two stage compression in K\n",
      "T2 = T1*((P3/P1)**x);\t\t\t#Maximum temperature for single stage compression in K\n",
      "m = (P1*100*V)/(R*T1);\t\t\t#Mass of air compressed in kg/min\n",
      "Q = m*Cp*(T4-T1);\t\t\t#Heat rejected by air in kJ/min\n",
      "mc = Q/(Cw*Tc);\t\t\t#Mass of cooling water in kg/min\n",
      "\n",
      "# Results\n",
      "print 'Minimum indicated power required for 2 stage compression is %3.1f kW  \\\n",
      "\\nPower required for single stage compression is 18 percent more than that for \\\n",
      "two stage compression with perfect intercooling  \\\n",
      "\\nMaximum temperature for two stage compression is %3.1f K  \\\n",
      "\\nMaximum temperature for single stage compression is %3.1f K  \\\n",
      "\\nHeat rejected by air is %3.1f kJ/min  \\\n",
      "\\nMass of cooling water required is %3.1f kg/min'%(W1,T4,T2,Q,mc)\n"
     ],
     "language": "python",
     "metadata": {},
     "outputs": [
      {
       "output_type": "stream",
       "stream": "stdout",
       "text": [
        "Minimum indicated power required for 2 stage compression is 73.3 kW  \n",
        "Power required for single stage compression is 18 percent more than that for two stage compression with perfect intercooling  \n",
        "Maximum temperature for two stage compression is 398.8 K  \n",
        "Maximum temperature for single stage compression is 540.9 K  \n",
        "Heat rejected by air is 1996.6 kJ/min  \n",
        "Mass of cooling water required is 19.1 kg/min\n"
       ]
      }
     ],
     "prompt_number": 1
    },
    {
     "cell_type": "heading",
     "level": 2,
     "metadata": {},
     "source": [
      "Example 5.14  Page no : 264"
     ]
    },
    {
     "cell_type": "code",
     "collapsed": false,
     "input": [
      "\n",
      "import math \n",
      "\n",
      "# Variables\n",
      "V = 0.2;\t\t\t#Air flow rate in (m**3)/s\n",
      "P1 = 0.1;\t\t\t#Intake pressure in MN/(m**2)\n",
      "P3 = 0.7;\t\t\t#Final pressure in MN/(m**2)\n",
      "T1 = 289.;\t\t\t#Intake temperature in K\n",
      "n = 1.25;\t\t\t#Adiabatic gas constant\n",
      "N = 10.;\t\t\t#Compressor speed in rps\n",
      "\n",
      "# Calculations\n",
      "x = (n-1)/n;\t\t\t#Ratio\n",
      "P2 = math.sqrt(P1*P3);\t\t\t#Intermediate pressure in MN/(m**2)\n",
      "V1 = (V/N)*1000;\t\t\t#Total volume of LP cylinder in litres\n",
      "V2 = ((P1*V1)/P2);\t\t\t#Total volume of HP cylinder in litres\n",
      "W = ((2*P1*V*(((P2/P1)**x)-1))/x)*1000;\t\t\t#Cycle power in kW\n",
      "\n",
      "# Results\n",
      "print 'Intermediate pressure is %3.3f MN/m**2  \\\n",
      "\\nTotal volume of LP cylinder is %3.0f litres  \\\n",
      "\\nTotal volume of HP cylinder is %3.1f litres  \\\n",
      "\\nCycle power is %3.0f kW'%(P2,V1,V2,W)\n"
     ],
     "language": "python",
     "metadata": {},
     "outputs": [
      {
       "output_type": "stream",
       "stream": "stdout",
       "text": [
        "Intermediate pressure is 0.265 MN/m**2  \n",
        "Total volume of LP cylinder is  20 litres  \n",
        "Total volume of HP cylinder is 7.6 litres  \n",
        "Cycle power is  43 kW\n"
       ]
      }
     ],
     "prompt_number": 28
    },
    {
     "cell_type": "heading",
     "level": 2,
     "metadata": {},
     "source": [
      "Example 5.15  Page no : 265"
     ]
    },
    {
     "cell_type": "code",
     "collapsed": false,
     "input": [
      "\n",
      "# Variables\n",
      "P1 = 1.;\t\t\t#Pressure at point 1 in bar\n",
      "T1 = 290.;\t\t\t#Temperature at point 1 in K\n",
      "P3 = 60.;\t\t\t#Pressure at point 3 in bar\n",
      "P2 = 8.;\t\t\t#Pressure at point 2 in bar\n",
      "T2 = 310.;\t\t\t#Temperature at point 2 in K\n",
      "L = 0.2;\t\t\t#Stroke in m\n",
      "D = 0.15;\t\t\t#Bore in m\n",
      "n = 1.35;\t\t\t#Adiabatic gas constant\n",
      "N = 200.;\t\t\t#Speed in rpm\n",
      "\n",
      "# Calculations\n",
      "x = (n-1)/n;\t            \t\t#Ratio\n",
      "V1 = (3.147*(D**2)*L)/4;\t\t\t#Volume at point 1 in m**3\n",
      "V2 = (P1*V1*T2)/(T1*P2);\t\t\t#Volume of air entering LP cylinder in m**3\n",
      "W = ((P1*(10**5)*V1*(((P2/P1)**x)-1))/x)+((P2*(10**5)*V2*(((P3/P2)**x)-1))/x);\t\t\t#Workdone by compressor per cycle in J\n",
      "P = (W*N)/(60*1000);\t\t    \t#Power of compressor in kW\n",
      "\n",
      "# Results\n",
      "print 'Power of compressor is %3.2f kW'%(P)\n",
      "\n",
      "# rounding off error"
     ],
     "language": "python",
     "metadata": {},
     "outputs": [
      {
       "output_type": "stream",
       "stream": "stdout",
       "text": [
        "Power of compressor is 6.59 kW\n"
       ]
      }
     ],
     "prompt_number": 2
    },
    {
     "cell_type": "heading",
     "level": 2,
     "metadata": {},
     "source": [
      "Example 5.16  Page no : 265"
     ]
    },
    {
     "cell_type": "code",
     "collapsed": false,
     "input": [
      "import math \n",
      "\n",
      "# Variables\n",
      "N = 220.;\t\t\t#Speed of compressor in rpm\n",
      "P1 = 1.;\t\t\t#Pressure entering LP cylinder in bar\n",
      "T1 = 300.;\t\t\t#Temperature at point 1 in K\n",
      "Dlp = 0.36;\t\t\t#Bore of LP cylinder in m\n",
      "Llp = 0.4;\t\t\t#Stroke of LP cylinder in m\n",
      "Lhp = 0.4;\t\t\t#Stoke of HP cylinder in m\n",
      "P2 = 4.;\t\t\t#Pressure leaving LP cylinder in bar\n",
      "P5 = 3.8;\t\t\t#Pressure entering HP cylinder in bar\n",
      "T3 = 300.;\t\t\t#Temperature entering HP cylinder in K\n",
      "P6 = 15.2;\t\t\t#Dicharge pressure in bar\n",
      "n = 1.3;\t\t\t#Adiabatic gas constant\n",
      "Cp = 1.0035;\t\t\t#Specific heat at constant pressure in kJ/kg-K\n",
      "R = 0.287;\t\t\t#Universal gas constant in kJ/kg-K\n",
      "T5 = T1;\t\t\t#Temperature at point 5 in K\n",
      "C = 0.04\n",
      "# Calculations\n",
      "x = (n-1)/n;\t\t\t#Ratio\n",
      "Vslp = round((math.pi*(Dlp**2)*Llp*N*2)/4,2);\t\t\t#Swept volume of LP cylinder in m**3/min\n",
      "nv = round(1+C-(C*((P2/P1)**(1/n))),4);\t\t\t#Volumetric efficiency\n",
      "V1 = nv*Vslp;\t\t\t#Volume of air drawn at point 1 in (m**3)/min\n",
      "m = round((P1*100*V1)/(R*T1),2);\t\t\t#Mass of air in kg/min\n",
      "T2 = round(T1*((P2/P1)**x));\t\t\t#Temperature at point 2 in K\n",
      "QR = m*Cp*(T2-T5);\t\t\t#Heat rejected in kJ/min\n",
      "V5 = (m*R*T5)/(P5*100);\t\t\t#Volume of air drawn in HP cylinder M**3/min\n",
      "Plp = P2/P1;\t\t\t#Pressure ratio of LP cylinder\n",
      "Php = P6/P5;\t\t\t#Pressure ratio of HP cylinder\n",
      "Vshp = V5/nv;\t\t\t#Swept volume of HP cylinder in m**3/min\n",
      "Dhp = math.sqrt((Vshp*4)/(3.147*Lhp*N*2));\t\t\t#Bore of HP cylinder in m\n",
      "P = (m*R*(T2-T1))/(x*60);\t\t\t#Power required for HP cylinder in kW\n",
      "\n",
      "print V5,Plp,Php,Vshp,Dhp,P\n",
      "# Results\n",
      "print 'Heat rejected in intercooler is %3.1f kJ/min  \\\n",
      "\\nDiameter of HP cylinder is %3.4f m  \\\n",
      "\\nPower required for HP cylinder is %3.0f kW'%(QR,Dhp,P)\n",
      "\n",
      "# rounding off error. please check\n"
     ],
     "language": "python",
     "metadata": {},
     "outputs": [
      {
       "output_type": "stream",
       "stream": "stdout",
       "text": [
        "4.35484736842 4.0 4.0 4.71405863652 0.184511219993 45.0178314444\n",
        "Heat rejected in intercooler is 2179.5 kJ/min  \n",
        "Diameter of HP cylinder is 0.1845 m  \n",
        "Power required for HP cylinder is  45 kW\n"
       ]
      }
     ],
     "prompt_number": 8
    },
    {
     "cell_type": "heading",
     "level": 2,
     "metadata": {},
     "source": [
      "Example 5.17  Page no : 267"
     ]
    },
    {
     "cell_type": "code",
     "collapsed": false,
     "input": [
      "import math \n",
      "\n",
      "# Variables\n",
      "P1 = 1.;\t\t\t#Pressure at point 1 in bar\n",
      "P3 = 30.;\t\t\t#Pressure at point 3 in bar\n",
      "T1 = 300.;\t\t\t#Temperature at point 1 in K\n",
      "n = 1.3;\t\t\t#Adiabatics gas constant\n",
      "\n",
      "# Calculations\n",
      "P2 = math.sqrt(P1*P3);\t\t\t#Intermediate pressure in bar\n",
      "rD = math.sqrt(P2/P1);\t\t\t#Ratio of cylinder diameters\n",
      "\n",
      "# Results\n",
      "print 'Ratio of cylinder diameters is %3.2f'%(rD)\n"
     ],
     "language": "python",
     "metadata": {},
     "outputs": [
      {
       "output_type": "stream",
       "stream": "stdout",
       "text": [
        "Ratio of cylinder diameters is 2.34\n"
       ]
      }
     ],
     "prompt_number": 41
    },
    {
     "cell_type": "heading",
     "level": 2,
     "metadata": {},
     "source": [
      "Example 5.18  Page no : 268"
     ]
    },
    {
     "cell_type": "code",
     "collapsed": false,
     "input": [
      "\n",
      "# Variables\n",
      "P1 = 1.013;\t\t\t#Pressure at point 1 in bar\n",
      "T1 = 288.;\t\t\t#Temperaturea at point 1 in K\n",
      "v1 = 8.4;\t\t\t#free air delivered by compressor in m**3\n",
      "P4 = 70.;\t\t\t#Pressure at point 4 in bar\n",
      "n = 1.2;\t\t\t#Adiabatic gas constant\n",
      "Cp = 1.0035;\t\t\t#Specific heat at constant pressure in kJ/kg-K\n",
      "\n",
      "# Calculations\n",
      "x = (n-1)/n;\t\t\t#Ratio\n",
      "P2 = P1*((P4/P1)**(1./3));\t\t\t#LP cylinder delivery pressure in bar\n",
      "P3 = P2*((P4/P1)**(1./3));\t\t\t#IP cylinder delivery pressure in bar\n",
      "r = P2/P1;\t\t\t#Ratio of cylinder volumes\n",
      "r1 = P3/P2;\t\t\t#Ratio of cylinder volumes\n",
      "r2 = r*r1;\t\t\t#Ratio of cylinder volumes\n",
      "V3 = 1;\t\t\t#Volume at point 3 in m**3\n",
      "T4 = T1*((P2/P1)**x);\t\t\t#Three stage outlet temperature in K\n",
      "QR = Cp*(T4-T1);\t\t\t#Heat rejected in intercooler in kJ/kg of air\n",
      "W = ((3*P1*100*v1*(((P4/P1)**(x/3))-1))/(x*60));\t\t\t#Total indiacted power in kW\n",
      "\n",
      "# Results\n",
      "print 'LP cylinder delivery pressure is %3.3f bar  \\\n",
      "\\nIP cylinder delivery pressure is %3.2f bar  \\\n",
      "\\nRatio of cylinder volumes is %3.2f:%3.1f:%3.0f  \\\n",
      "\\nTemperature at end of each stage is %3.2f K  \\\n",
      "\\nHeat rejected in each intercooler is %3.1f kJ/kg of air  \\\n",
      "\\nTotal indicated power is %3.2f kW'%(P2,P3,r2,r1,V3,T4,QR,W)\n"
     ],
     "language": "python",
     "metadata": {},
     "outputs": [
      {
       "output_type": "stream",
       "stream": "stdout",
       "text": [
        "LP cylinder delivery pressure is 4.157 bar  \n",
        "IP cylinder delivery pressure is 17.06 bar  \n",
        "Ratio of cylinder volumes is 16.84:4.1:  1  \n",
        "Temperature at end of each stage is 364.41 K  \n",
        "Heat rejected in each intercooler is 76.7 kJ/kg of air  \n",
        "Total indicated power is 67.72 kW\n"
       ]
      }
     ],
     "prompt_number": 42
    },
    {
     "cell_type": "heading",
     "level": 2,
     "metadata": {},
     "source": [
      "Example 5.19  Page no : 269"
     ]
    },
    {
     "cell_type": "code",
     "collapsed": false,
     "input": [
      "\n",
      "# Variables\n",
      "D = 0.45;\t\t\t#Bore in m\n",
      "L = 0.3;\t\t\t#Stroke in m\n",
      "P1 = 1.;\t\t\t#Pressure at point 1 inn bar\n",
      "T1 = 291.;\t\t\t#Temperature at point 1 in K\n",
      "P4 = 15.;\t\t\t#Pressure at point 4 in bar\n",
      "n = 1.3;\t\t\t#Adiabatic gas constant\n",
      "R = 0.29;\t\t\t#Universal gas constant in kJ/kg-K\n",
      "\n",
      "# Calculations\n",
      "x = (n-1)/n;\t\t\t#Ratio\n",
      "k = (P4/P1)**(1./3);\t\t\t#Pressure ratio\n",
      "P2 = k*P1;\t\t\t#Pressure at point 2 in bar\n",
      "P3 = k*P2;\t\t\t#Pressure at point 1 in bar\n",
      "Vslp = (3.147*(D**2)*L)/4;\t\t\t#Swept volume of LP cylinder\n",
      "V7 = C*Vslp;\t\t\t#Volume at point 7 in m**3\n",
      "V1 = Vslp+V7;\t\t\t#Volume at point 1 in m**3\n",
      "V8 = V7*(k**(1/n));\t\t\t#Volume at point 8 in m**3\n",
      "EVs = (V1-V8)*1000;\t\t\t#Effective swept volume in litres\n",
      "T4 = T1*(k**x);\t\t\t#Temperature at point 4 in K\n",
      "t4 = T4-273;\t\t\t#Delivery temperature in oC\n",
      "DV = ((P1*T4*(V1-V8))/(P4*T1))*1000;\t\t\t#Delivery volume per stroke in litres\n",
      "W = (3*R*T1*((k**x)-1))/x;\t\t\t#Workdone per kg of air in kJ\n",
      "\n",
      "# Results\n",
      "print 'Intermediate pressures are %3.3f bar and %3.3f bar  \\\n",
      "\\nEffective swept volume of LP cylinder is %3.2f litres  \\\n",
      "\\nTemperature of air delivered per stroke is %3.1f oC  \\\n",
      "\\nVolume of air delivered per stroke is %3.2f litres  \\\n",
      "\\nWork done per kg of air is %3.1f kJ'%(P2,P3,EVs,t4,DV,W)\n"
     ],
     "language": "python",
     "metadata": {},
     "outputs": [
      {
       "output_type": "stream",
       "stream": "stdout",
       "text": [
        "Intermediate pressures are 2.466 bar and 6.082 bar  \n",
        "Effective swept volume of LP cylinder is 44.92 litres  \n",
        "Temperature of air delivered per stroke is 85.4 oC  \n",
        "Volume of air delivered per stroke is 3.69 litres  \n",
        "Work done per kg of air is 254.1 kJ\n"
       ]
      }
     ],
     "prompt_number": 43
    },
    {
     "cell_type": "heading",
     "level": 2,
     "metadata": {},
     "source": [
      "Example 5.20  Page no : 271"
     ]
    },
    {
     "cell_type": "code",
     "collapsed": false,
     "input": [
      "\n",
      "import math \n",
      "\n",
      "# Variables\n",
      "P1 = 1.;\t\t\t#Pressure at point 1 in bar\n",
      "Pns = 100.;\t\t\t#Maximum pressure in bar\n",
      "p = 4.; \t\t\t#Pressure ratio\n",
      "\n",
      "# Calculations\n",
      "Ns = math.log(Pns)/math.log(p);\t\t\t#Number of stages\n",
      "y = math.ceil(Ns);\t                \t\t#Rounding off to next higher integer\n",
      "ps = (Pns/P1)**(1/y);\t\t\t        #Exact stage pressure ratio\n",
      "P2 = ps*P1;\t\t\t#Pressure at point 2 in bar\n",
      "P3 = ps*P2;\t\t\t#Pressure at point 3 in bar\n",
      "P4 = ps*P3;\t\t\t#Pressure at point 4 in bar\n",
      "\n",
      "# Results\n",
      "print 'Number of stages are %3.2f  \\\n",
      "\\nExact stage pressure ratio is %3.3f  \\\n",
      "\\nIntermediate pressures are %3.3f bar, %3.2f bar, %3.2f bar'%(y,ps,P2,P3,P4)\n",
      "\n",
      "# rounding off error"
     ],
     "language": "python",
     "metadata": {},
     "outputs": [
      {
       "output_type": "stream",
       "stream": "stdout",
       "text": [
        "Number of stages are 4.00  \n",
        "Exact stage pressure ratio is 3.162  \n",
        "Intermediate pressures are 3.162 bar, 10.00 bar, 31.62 bar\n"
       ]
      }
     ],
     "prompt_number": 51
    }
   ],
   "metadata": {}
  }
 ]
}