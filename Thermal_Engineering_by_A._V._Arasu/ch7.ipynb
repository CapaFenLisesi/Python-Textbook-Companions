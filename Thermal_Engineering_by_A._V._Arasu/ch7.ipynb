{
 "cells": [
  {
   "cell_type": "markdown",
   "metadata": {},
   "source": [
    "# Chapter 7 : Air Conditioning"
   ]
  },
  {
   "cell_type": "markdown",
   "metadata": {},
   "source": [
    "## Example 7.1  Page no : 345"
   ]
  },
  {
   "cell_type": "code",
   "execution_count": 1,
   "metadata": {
    "collapsed": false
   },
   "outputs": [
    {
     "name": "stdout",
     "output_type": "stream",
     "text": [
      "Heating capacity of coil is 5.40 kW  \n",
      "Surface temperature of coil is  35 C  \n",
      "Capacity of humidifier is 3.33 kg/hr\n"
     ]
    }
   ],
   "source": [
    "\n",
    "# Variables\n",
    "DBTo = 10.;\t\t\t#Out door Dry bulb temperature in oC\n",
    "WBTo = 8.;\t\t\t#Out door Wet bulb temperature in oC\n",
    "DBTi = 20.;\t\t\t#In door Dry bulb temperature in oC\n",
    "RH = 0.6;\t\t\t#Re-Heat factor\n",
    "a = 0.3;\t\t\t#amount of air circulated in (m**3)/min/person\n",
    "S = 50.;\t\t\t#Seating capacity of office\n",
    "BPF = 0.32;\t\t\t#ByPass factor\n",
    "ha = 25.;\t\t\t#Enthalpy at point a from Psychrometric chart shown in Page 346 in kJ/kg\n",
    "hb = 42.5;\t\t\t#Enthalpy at point b from Psychrometric chart shown in Page 346 in kJ/kg\n",
    "hc = 42.5;\t\t\t#Enthalpy at point c from Psychrometric chart shown in Page 346 in kJ/kg\n",
    "Wa = 0.006;\t\t\t#Specific humidity at point a from Psychrometric chart shown in Page 346 in kg/kg dry air\n",
    "Wc = 0.009;\t\t\t#Specific humidity at point c from Psychrometric chart shown in Page 346 in kg/kg dry air\n",
    "Tb = 27.;\t\t\t#Temperature at point b in oC\n",
    "na = 0.81;\t\t\t#Specific Volume from Psychrometric chart shown in page 346 in (m**3)/kg\n",
    "\n",
    "# Calculations\n",
    "ma = (a*S)/(na*60);\t\t\t#mass of air circulated per second in kg/s\n",
    "Hc = ma*(hb-ha);\t\t\t#Heating capacity of coil in kW\n",
    "Ts = (Tb-(BPF*DBTo))/(1-BPF);\t\t\t#Heating coil surface temperature in oC\n",
    "C = (ma*3600)*(Wc-Wa);\t\t\t#Capacity of humidifier in kg/hr\n",
    "\n",
    "# Results\n",
    "print 'Heating capacity of coil is %3.2f kW  \\\n",
    "\\nSurface temperature of coil is %3.0f C  \\\n",
    "\\nCapacity of humidifier is %3.2f kg/hr'%(Hc,Ts,C)\n",
    "\n",
    "# rounding off error"
   ]
  },
  {
   "cell_type": "markdown",
   "metadata": {},
   "source": [
    "## Example 7.2  Page no : 346"
   ]
  },
  {
   "cell_type": "code",
   "execution_count": 2,
   "metadata": {
    "collapsed": false
   },
   "outputs": [
    {
     "name": "stdout",
     "output_type": "stream",
     "text": [
      "Capacity of cooling coil is 6.16 tonnes  \n",
      "Capacity of heating coil is 3.6 kW  \n",
      "Amount of water vapour removed per hour is 17.80 kg/hr  \n",
      "Bypass factor is 0.385\n"
     ]
    }
   ],
   "source": [
    "# Variables\n",
    "S = 60.;\t\t\t#No. of staff\n",
    "DBTo = 30.;\t\t\t#Out door Dry bulb temperature in oC\n",
    "RHo = 0.7;\t\t\t#Re-Heat factor at out-door\n",
    "a = 0.4;\t\t\t#amount of air circulated in (m**3)/min/person\n",
    "DBTi = 20.;\t\t\t#In door Dry bulb temperature in oC\n",
    "RHi = 0.6;\t\t\t#Re-Heat factor at indoor\n",
    "Td = 25.;\t\t\t#Heating coil surface temperature in oC\n",
    "ha = 82.5;\t\t\t#Enthalpy at point a from Psychrometric chart shown in Page 347 in kJ/kg\n",
    "hb = 34.5;\t\t\t#Enthalpy at point b from Psychrometric chart shown in Page 347 in kJ/kg\n",
    "hc = 42.5;\t\t\t#Enthalpy at point c from Psychrometric chart shown in Page 347 in kJ/kg\n",
    "Wa = 0.020;\t\t\t#Specific humidity at point a from Psychrometric chart shown in Page 347 in kg/kg dry air\n",
    "Wb = 0.009;\t\t\t#Specific humidity at point b from Psychrometric chart shown in Page 347 in kg/kg dry air\n",
    "Tb = 12.;\t\t\t#Temperature at point b in oC\n",
    "na = 0.89;\t\t\t#Specific Volume from Psychrometric chart shown in page 346 in (m**3)/kg\n",
    "\n",
    "# Calculations\n",
    "ma = (a*S)/(na*60);\t\t\t#mass of air circulated per second in kg/s\n",
    "Hc = (ma*(ha-hb))/3.5;\t\t\t#Heating capacity of cooling coil in tonnes\n",
    "Hh = ma*(hc-hb);\t\t\t#Heating capacity of heating coil in kW\n",
    "W = (ma*3600)*(Wa-Wb);\t\t\t#Amount of water vapour removed per hour in kg/hr\n",
    "BPF = (Td-DBTi)/(Td-Tb);\t\t\t#By-Pass factor\n",
    "\n",
    "# Results\n",
    "print 'Capacity of cooling coil is %3.2f tonnes  \\\n",
    "\\nCapacity of heating coil is %3.1f kW  \\\n",
    "\\nAmount of water vapour removed per hour is %3.2f kg/hr  \\\n",
    "\\nBypass factor is %3.3f'%(Hc,Hh,W,BPF)\n"
   ]
  },
  {
   "cell_type": "markdown",
   "metadata": {},
   "source": [
    "## Example 7.3  Page no : 347"
   ]
  },
  {
   "cell_type": "code",
   "execution_count": 2,
   "metadata": {
    "collapsed": false
   },
   "outputs": [
    {
     "name": "stdout",
     "output_type": "stream",
     "text": [
      "Supply air condition to the room is 2.74 kg/s  \n",
      "Refrigeration load due to reheat is 4.93 ton  \n",
      "Total refrigerating capacity is 16.28 ton  \n",
      "Quantity of fresh air supplied is 0.365 m**3/s\n"
     ]
    }
   ],
   "source": [
    "\n",
    "\n",
    "# Variables\n",
    "RSH = 10.;\t\t\t#Room sensible heat in kW\n",
    "RLH = 10.;\t\t\t#Room latent heat in kW\n",
    "td1 = 25.;\t\t\t#Inside temperature in oC\n",
    "RH1 = 0.5;\t\t\t#Inside Re-Heat factor\n",
    "h1 = 50.4;\t\t\t#Enthalpy at point 1 in kJ/kg\n",
    "td2 = 35.;\t\t\t#Out door Dry bulb temperature in oC\n",
    "tw2 = 28.;\t\t\t#Out door Wet bulb temperature in oC\n",
    "CR = 4.;\t\t\t#Cooling coil ratio\n",
    "BPF = 0.1;\t\t\t#Cooling coil bypass factor\n",
    "tADP = 10;\t\t\t#Apparatus dew point temperature in oC\n",
    "RH3 = 0.55;\t\t\t#Re-Heat factor at point 3\n",
    "h3 = 58.2;\t\t\t#Enthalpy at point 3 in kJ/kg\n",
    "RH4 = 0.95;\t\t\t#Re-Heat factor at point 4\n",
    "h4 = 32.2;\t\t\t#Enthalpy at point 4 in kJ/kg\n",
    "RH5 = 0.81;\t\t\t#Re-Heat factor at point 5\n",
    "h5 = 36.8;\t\t\t#Enthalpy at point 5 in kJ/kg\n",
    "RH6 = 0.54;\t\t\t#Re-Heat factor at point 6\n",
    "h6 = 43.1;\t\t\t#Enthalpy at point 5 in kJ/kg\n",
    "td6 = 22.;\t\t\t#Temperature at point 6 in oC\n",
    "\n",
    "# Calculations\n",
    "td3 = ((td2-td1)/5)+td1;\t\t\t#Temperature at point 3 from Psychrometric chart shown in Page 348 in oC\n",
    "td4 = (BPF*(td3-tADP))+tADP;\t\t\t#Temperature at point 4 from Psychrometric chart shown in Page 348 in oC\n",
    "td5 = td4+((td1-td4)/5);\t\t\t#Temperature at point 5 from Psychrometric chart shown in Page 348 in oC\n",
    "RSHF = RSH/(RSH+RLH);\t\t\t#Room Sensible Heat Factor\n",
    "QR = h1-h6;\t\t\t#Total heat removed in kJ/kg\n",
    "S = (RSH+RLH)/QR;\t\t\t#Supply air quantity in kg/s\n",
    "R = (S*(h6-h5))/3.5;\t\t\t#Refrigeration load due to reheat in ton\n",
    "D = (S*4)/5;\t\t\t#Dehumidified air quantity in kg/s\n",
    "T = (D*(h3-h4))/3.5;\t\t\t#Total refrigerating capacity in ton\n",
    "Q = (D/5)/1.2;\t\t\t#Quantity of fresh air supplied in (m**3)/s\n",
    "\n",
    "# Results\n",
    "print 'Supply air condition to the room is %3.2f kg/s  \\\n",
    "\\nRefrigeration load due to reheat is %3.2f ton  \\\n",
    "\\nTotal refrigerating capacity is %3.2f ton  \\\n",
    "\\nQuantity of fresh air supplied is %3.3f m**3/s'%(S,R,T,Q)\n"
   ]
  }
 ],
 "metadata": {
  "kernelspec": {
   "display_name": "Python 2",
   "language": "python",
   "name": "python2"
  },
  "language_info": {
   "codemirror_mode": {
    "name": "ipython",
    "version": 2
   },
   "file_extension": ".py",
   "mimetype": "text/x-python",
   "name": "python",
   "nbconvert_exporter": "python",
   "pygments_lexer": "ipython2",
   "version": "2.7.6"
  }
 },
 "nbformat": 4,
 "nbformat_minor": 0
}
