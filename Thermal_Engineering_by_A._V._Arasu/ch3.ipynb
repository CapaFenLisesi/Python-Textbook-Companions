{
 "metadata": {
  "name": "",
  "signature": "sha256:3e461b166983dbc4e8640a4c60ebf5164b7675ebb01d9440eb0b63f7316d9dde"
 },
 "nbformat": 3,
 "nbformat_minor": 0,
 "worksheets": [
  {
   "cells": [
    {
     "cell_type": "heading",
     "level": 1,
     "metadata": {},
     "source": [
      "Chapter 3 :\n",
      "Internal Combustion Engines"
     ]
    },
    {
     "cell_type": "heading",
     "level": 2,
     "metadata": {},
     "source": [
      "Example 3.1  Page no : 139"
     ]
    },
    {
     "cell_type": "code",
     "collapsed": false,
     "input": [
      "\n",
      "# Variables\n",
      "d = 200.;\t\t\t#diameter of cylinder in mm\n",
      "L = 300.;\t\t\t#stroke of cylinder in mm\n",
      "Vc = 1.73;\t\t\t#Clearance volume in litres\n",
      "imep = 650.;\t\t\t#indicated mean effective pressure in kN/(m**2)\n",
      "g = 6.2;\t\t\t#gas consumption in (m**3)/h\n",
      "CV = 38.5;\t\t\t#Calorific value in MJ/(m**3)\n",
      "y = 1.4;\t\t\t#Ratio of specific heats\n",
      "N = 150.;\t\t\t#No. of firing cycles per minute\n",
      "\n",
      "# Calculations\n",
      "Vs = ((3.1415/4)*(d**2)*L)*(10**-6);\t\t\t#Stroke volume in litres\n",
      "Vt = Vs+Vc;\t\t\t#Total volume in litres\n",
      "rv = (Vt/Vc);\t\t\t#Compression ratio\n",
      "n = (1-(1/rv**(y-1)))*100;\t\t\t#Air standard efficiency\n",
      "IP = imep*(Vs*10**-3)*(N/60);\t\t\t#Indicated power in kW\n",
      "F = (g*CV*1000)/3600;\t\t\t#Fuel energy input in kW\n",
      "nT = (IP/F)*100;\t\t\t#Indicated thermal efficiency\n",
      "\n",
      "# Results\n",
      "# 1st answer is wrong in book\n",
      "print 'Air Standard Efficiency is %3.1f percent  \\\n",
      "\\nIndicated Power is %3.1f kW \\\n",
      "\\nIndicated thermal efficiency is %3.0f percent'%(n,IP,nT)\n"
     ],
     "language": "python",
     "metadata": {},
     "outputs": [
      {
       "output_type": "stream",
       "stream": "stdout",
       "text": [
        "Air Standard Efficiency is 52.5 percent  \n",
        "Indicated Power is 15.3 kW \n",
        "Indicated thermal efficiency is  23 percent\n"
       ]
      }
     ],
     "prompt_number": 1
    },
    {
     "cell_type": "heading",
     "level": 2,
     "metadata": {},
     "source": [
      "Example 3.2  Page no : 140"
     ]
    },
    {
     "cell_type": "code",
     "collapsed": false,
     "input": [
      "\n",
      "# Variables\n",
      "Vs = 0.0008;\t\t\t#Swept volume in m**3\n",
      "Vc = 0.00015;\t\t\t#Clearance volume in m**3\n",
      "CV = 38.;\t\t\t#Calorific value in MJ/(m**3)\n",
      "v = 0.45;\t\t\t#volume in m**3\n",
      "IP = 81.5;\t\t\t#Indicated power in kW\n",
      "y = 1.4;\t\t\t#Ratio of specific heats\n",
      "\n",
      "# Calculations\n",
      "rv = (Vs+Vc)/Vc;\t\t\t#Compression ratio\n",
      "n = (1-(1/rv**(y-1)));\t\t\t#Air standard efficiency\n",
      "Ps = (v*CV*1000.)/60;\t\t\t#Power supplied in kW\n",
      "nact = IP/Ps;\t\t\t#Actual efficiency\n",
      "nr = (nact/n)*100;\t\t\t#Relative efficiency\n",
      "\n",
      "\n",
      "# Results\n",
      "print 'Relative Efficiency is %3.2f percent'%(nr)\n",
      "\n",
      "# rounding error in book answer. please check."
     ],
     "language": "python",
     "metadata": {},
     "outputs": [
      {
       "output_type": "stream",
       "stream": "stdout",
       "text": [
        "Relative Efficiency is 54.77 percent\n"
       ]
      }
     ],
     "prompt_number": 2
    },
    {
     "cell_type": "heading",
     "level": 2,
     "metadata": {},
     "source": [
      "Example 3.3  Page no : 141"
     ]
    },
    {
     "cell_type": "code",
     "collapsed": false,
     "input": [
      "# Variables\n",
      "n = 6.;\t\t\t    #No. of cylinders\n",
      "d = 0.61;\t\t\t#Diameter in m\n",
      "L = 1.25;\t\t\t#Stroke in m\n",
      "N = 2.;\t\t    \t#No.of revolutions per second\n",
      "m = 340.;\t\t\t#mass of fuel oil in kg\n",
      "CV = 44200.;\t\t#Calorific value in kJ/kg\n",
      "T = 108.;\t\t\t#Torque in kN-m\n",
      "imep = 775.;\t\t#Indicated mean efective pressure in kN/(m**2)\n",
      "\n",
      "# Calculations\n",
      "IP = (imep*L*3.1415*(d**2)*N)/(8);\t\t\t#Indicated power in kW\n",
      "TotalIP = (n*IP);\t\t\t    #Total indicated power in kW\n",
      "BP = (2*3.1415*N*T);\t\t\t#Brake power in kW\n",
      "PI = (m*CV)/3600.;\t\t\t    #Power input in kW\n",
      "nB = (BP/PI)*100.;\t\t    \t#Brake thermal efficiency\n",
      "bmep = (BP*8)/(n*L*3.1415*(d**2)*2);\t\t\t#Brake mean effective pressure in kN/(m**2)\n",
      "nM = (BP/TotalIP)*100;\t\t\t#Mechanical efficiency\n",
      "bsfc = m/BP;\t        \t\t#Brake specific fuel consumption in kg/kWh\n",
      "\n",
      "# Results\n",
      "print 'Total Indicated Power is %3.1f kW  \\\n",
      "\\nBrake Power is %3.1f kW \\\n",
      "\\nBrake thermal efficiency is %3.1f percent  \\\n",
      "\\nBrake mean effective pressure is %3.1f kN/m**2 \\\n",
      "\\nMechanical efficiency is %3.1f percent  \\\n",
      "\\nBrake specific fuel consumption is %3.3f kg/kW.hr'%(TotalIP,BP,nB,bmep,nM,bsfc)\n"
     ],
     "language": "python",
     "metadata": {},
     "outputs": [
      {
       "output_type": "stream",
       "stream": "stdout",
       "text": [
        "Total Indicated Power is 1698.6 kW  \n",
        "Brake Power is 1357.1 kW \n",
        "Brake thermal efficiency is 32.5 percent  \n",
        "Brake mean effective pressure is 619.2 kN/m**2 \n",
        "Mechanical efficiency is 79.9 percent  \n",
        "Brake specific fuel consumption is 0.251 kg/kW.hr\n"
       ]
      }
     ],
     "prompt_number": 2
    },
    {
     "cell_type": "heading",
     "level": 2,
     "metadata": {},
     "source": [
      "Example 3.4  Page no : 142"
     ]
    },
    {
     "cell_type": "code",
     "collapsed": false,
     "input": [
      "# Variables\n",
      "Hm = 21.;\t\t\t#Mean height of indicator diagram in mm\n",
      "isn = 27.;\t\t\t#indicator spring number in kN/(m**2)/mm\n",
      "Vs = 14.;\t\t\t#Swept volume in litres\n",
      "N = 6.6;\t\t\t#Speed of engine in rev/s\n",
      "Pe = 77.;\t\t\t#Effective brake load in kg\n",
      "Re = 0.7;\t\t\t#Effective vrake radius in m\n",
      "mf = 0.002;\t\t\t#fuel consumed in kg/s\n",
      "CV = 44000.;\t\t\t#Calorific value of fuel in kJ/kg\n",
      "mc = 0.15;\t\t\t#cooling water circulation in kg/s\n",
      "Ti = 311.;\t\t\t#cooling water inlet temperature in K\n",
      "To = 344.;\t\t\t#cooling water outlet temperature in K\n",
      "C = 4.18;\t\t\t#specific heat capacity of water in kJ/kg-K\n",
      "Ee = 33.6;\t\t\t#Energy to exhaust gases in kJ/s\n",
      "g = 9.81;\t\t\t#Acceleration due to geravity in m/(s**2)\n",
      "\n",
      "# Calculations\n",
      "imep = isn*Hm;\t\t\t#Indicated mean efective pressure in kN/(m**2)\n",
      "IP = (imep*Vs*N)/(2000);\t\t\t#Indicated Power in kW\n",
      "BP = (2*3.1415*N*g*Pe*Re)/1000;\t\t\t#Brake Power in kW\n",
      "nM = (BP/IP)*100;\t\t\t#Mechanical efficiency\n",
      "Ef = mf*CV;\t\t\t#Eneergy from fuel in kJ/s\n",
      "Ec = mc*C*(To-Ti);\t\t\t#Energy to cooling water in kJ/s\n",
      "Es = Ef-(BP+Ec+Ee);\t\t\t#Energy to surroundings in kJ/s\n",
      "p = (BP*100)/Ef;\t\t\t#Energy to BP in %\n",
      "q = (Ec*100)/Ef;\t\t\t#Energy to coolant in %\n",
      "r = (Ee*100)/Ef;\t\t\t#Energy to exhaust in %\n",
      "w = (Es*100)/Ef;\t\t\t#Energy to surroundings in %\n",
      "\n",
      "# Results\n",
      "print 'Indicated Power is %3.1f kW  \\\n",
      "\\nBrake Power is %3.0f kW  \\\n",
      "\\nMechanical Efficiency is %3.0f percent  \\\n",
      "\\nENERGY BALANCE                     kJ/s     Percentage \\\n",
      "\\nEnergy from fuel                  %3.0f        100 \\\n",
      "\\nEnergy to BP                      %3.0f        %3.0f \\\n",
      "\\nEnergy to coolant                 %3.01f       %3.1f \\\n",
      "\\nEnergy to exhaust                 %3.1f        %3.1f \\\n",
      "\\nEnergy to surroundings, etc       %3.1f        %3.1f'%(IP,BP,nM,Ef,BP,p,Ec,q,Ee,r,Es,w)\n"
     ],
     "language": "python",
     "metadata": {},
     "outputs": [
      {
       "output_type": "stream",
       "stream": "stdout",
       "text": [
        "Indicated Power is 26.2 kW  \n",
        "Brake Power is  22 kW  \n",
        "Mechanical Efficiency is  84 percent  \n",
        "ENERGY BALANCE                     kJ/s     Percentage \n",
        "Energy from fuel                   88        100 \n",
        "Energy to BP                       22         25 \n",
        "Energy to coolant                 20.7       23.5 \n",
        "Energy to exhaust                 33.6        38.2 \n",
        "Energy to surroundings, etc       11.8        13.4\n"
       ]
      }
     ],
     "prompt_number": 2
    },
    {
     "cell_type": "heading",
     "level": 2,
     "metadata": {},
     "source": [
      "Example 3.5  Page no : 143"
     ]
    },
    {
     "cell_type": "code",
     "collapsed": false,
     "input": [
      "\n",
      "# Variables\n",
      "t = 30.;\t\t\t#duration of trial in minutes\n",
      "N = 1750.;\t\t\t#speed in rpm\n",
      "T = 330.;\t\t\t#brake torque in Nm\n",
      "m = 9.35;\t\t\t#mass of fuel in kg\n",
      "CV = 42300.;\t\t\t#Calorific value in kJ/kg\n",
      "mj = 483.;\t\t\t#jacket cooling water circulation in kg\n",
      "Ti = 290.;\t\t\t#inlet temperature in K\n",
      "T0 = 350.;\t\t\t#outlet temperature in K\n",
      "ma = 182.;\t\t\t#air consumption in kg\n",
      "Te = 759.;\t\t\t#exhaust temperature in K\n",
      "Ta = 256.;\t\t\t#atmospheric temperature in K\n",
      "nM = 0.83;\t\t\t#Mechanical efficiency\n",
      "ms = 1.25;\t\t\t#mean specific heat capacity of exhaust gas in kJ/kg-K\n",
      "Cw = 4.18;\t\t\t#specific heat capacity of water in kJ/kg-K\n",
      "\n",
      "# Calculations\n",
      "BP = (2*3.1415*T*N)/(60*1000);\t\t\t#Brake power in kW\n",
      "sfc = (m*2)/BP;\t\t\t#specific fuel consumption in kg/kWh\n",
      "IP = BP/nM;\t\t\t#Indicated power in kW\n",
      "nIT = IP/(m*2/3600*CV)*100    \t\t\t#Indicated thermal efficiency\n",
      "Ef = (m/t*CV)     \t\t\t#Eneergy from fuel in kJ/min\n",
      "EBP = BP*60;\t\t\t#Energy to BP in kJ/min\n",
      "Ec = (mj*Cw*(T0-Ti))/t;\t\t\t#Energy to cooling water in kJ/min\n",
      "Ee = ((ma+m)*ms*(Te-Ti))/30;\t\t\t#Energy to exhaust in kJ/min\n",
      "Es = Ef-(EBP+Ec+Ee);\t\t\t#Energy to surroundings in kJ/min\n",
      "\n",
      "# Results\n",
      "print 'Break power is %3.1f kW  \\\n",
      "\\nSpecific fuel consumption is %3.3f kg/kWh  \\\n",
      "\\nIndicated thermal efficiency is %3.1f percent  \\\n",
      "\\nEnergy from fuel is %3.0f kJ/min  \\\n",
      "\\nEnergy to BP is %3.0f kJ/min  \\\n",
      "\\nEnergy to cooling water is %3.0f kJ/min  \\\n",
      "\\nEnergy to exhaust is %3.0f kJ/min  \\\n",
      "\\nEnergy to surroundings is %d kJ/min'%(BP,sfc,nIT,round(Ef,-2),EBP,Ec,Ee,Es)\n",
      "\n",
      "# rounding off error"
     ],
     "language": "python",
     "metadata": {},
     "outputs": [
      {
       "output_type": "stream",
       "stream": "stdout",
       "text": [
        "Break power is 60.5 kW  \n",
        "Specific fuel consumption is 0.309 kg/kWh  \n",
        "Indicated thermal efficiency is 33.2 percent  \n",
        "Energy from fuel is 13200 kJ/min  \n",
        "Energy to BP is 3628 kJ/min  \n",
        "Energy to cooling water is 4038 kJ/min  \n",
        "Energy to exhaust is 3739 kJ/min  \n",
        "Energy to surroundings is 1777 kJ/min\n"
       ]
      }
     ],
     "prompt_number": 6
    },
    {
     "cell_type": "heading",
     "level": 2,
     "metadata": {},
     "source": [
      "Example 3.6  Page no : 144"
     ]
    },
    {
     "cell_type": "code",
     "collapsed": false,
     "input": [
      "\n",
      "# Variables\n",
      "BP0 = 12.;\t\t\t#Brake Power output in kW\n",
      "BP1 = 40.5;\t\t\t#Brake Power in trial 1 in kW\n",
      "BP2 = 40.2;\t\t\t#Brake Power in trial 2 in kW\n",
      "BP3 = 40.1;\t\t\t#Brake Power in trial 3 in kW\n",
      "BP4 = 40.6;\t\t\t#Brake Power in trial 4 in kW\n",
      "BP5 = 40.7;\t\t\t#Brake Power in trial 5 in kW\n",
      "BP6 = 40.0;\t\t\t#Brake Power in trial 6 in kW\n",
      "\n",
      "# Calculations\n",
      "BPALL = BP0+BP6;\t\t\t#Total Brake Power in kW\n",
      "IP1 = BPALL-BP1;\t\t\t#Indicated Power in trial 1 in kW\n",
      "IP2 = BPALL-BP2;\t\t\t#Indicated Power in trial 2 in kW\n",
      "IP3 = BPALL-BP3;\t\t\t#Indicated Power in trial 3 in kW\n",
      "IP4 = BPALL-BP4;\t\t\t#Indicated Power in trial 4 in kW\n",
      "IP5 = BPALL-BP5;\t\t\t#Indicated Power in trial 5 in kW\n",
      "IP6 = BPALL-BP6;\t\t\t#Indicated Power in trial 6 in kW\n",
      "IPALL = IP1+IP2+IP3+IP4+IP5+IP6;\t\t\t#Total Indicated Power in kW\n",
      "nM = (BPALL/IPALL)*100;\t\t\t#Mechanical efficiency\n",
      "\n",
      "# Results\n",
      "print 'Indicated Power of the engine is %3.1f kW  \\\n",
      "\\nMechanical efficiency of the engine is %3.1f percent'%(IPALL,nM)\n"
     ],
     "language": "python",
     "metadata": {},
     "outputs": [
      {
       "output_type": "stream",
       "stream": "stdout",
       "text": [
        "Indicated Power of the engine is 69.9 kW  \n",
        "Mechanical efficiency of the engine is 74.4 percent\n"
       ]
      }
     ],
     "prompt_number": 6
    },
    {
     "cell_type": "heading",
     "level": 2,
     "metadata": {},
     "source": [
      "Example 3.7  Page no : 145"
     ]
    },
    {
     "cell_type": "code",
     "collapsed": false,
     "input": [
      "\n",
      "import math\n",
      "\n",
      "# Variables\n",
      "n = 2.;\t\t\t#No. of cylinders\n",
      "N = 4000.;\t\t\t#speed of engine in rpm\n",
      "nV = 0.77;\t\t\t#Volumetric efficiency\n",
      "nM = 0.75;\t\t\t#Mechanical efficiency\n",
      "m = 10.;\t\t\t#fuel consumed in lit/h\n",
      "g = 0.73;\t\t\t#spcific gravity of fuel\n",
      "Raf = 18.;\t\t\t#air-fuel ratio\n",
      "Np = 600.;\t\t\t#piston speed in m/min\n",
      "imep = 5.;\t\t\t#Indicated mean efective pressure in bar\n",
      "R = 281.;\t\t\t#Universal gas constant in J/kg-K\n",
      "T = 288.;\t\t\t#Standard temperature in K\n",
      "P = 1.013;\t\t\t#Standard pressure in bar\n",
      "\n",
      "\n",
      "# Calculations\n",
      "L = Np/(2*N);\t\t\t#Piston stroke in m\n",
      "mf = m*g;\t\t\t#mass of fuel in kg/h\n",
      "ma = mf*Raf;\t\t\t#mass of air required in kg/h\n",
      "Va = (ma*R*T)/(P*60*(10**5));\t\t\t#volume of air required in (m**3)/min\n",
      "D = math.sqrt((2*Va)/(nV*L*N*3.1415));\t\t\t#Diameter in m\n",
      "IP = (2*imep*100*L*3.1415*(D**2)*N)/(4.*60);\t\t\t#Indicated Power in kW\n",
      "BP = nV*IP;\t\t\t#Brake Power in kW\n",
      "\n",
      "# Results\n",
      "print 'Piston Stroke is %3.3f m  \\\n",
      "\\nBore diameter is %3.4f m  \\\n",
      "\\nBrake power is %3.1f kW'%(L,D,BP)\n",
      "\n",
      "# rounding off error"
     ],
     "language": "python",
     "metadata": {},
     "outputs": [
      {
       "output_type": "stream",
       "stream": "stdout",
       "text": [
        "Piston Stroke is 0.075 m  \n",
        "Bore diameter is 0.0694 m  \n",
        "Brake power is 14.6 kW\n"
       ]
      }
     ],
     "prompt_number": 5
    }
   ],
   "metadata": {}
  }
 ]
}