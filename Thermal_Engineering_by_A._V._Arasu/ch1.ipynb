{
 "cells": [
  {
   "cell_type": "markdown",
   "metadata": {},
   "source": [
    "# Chapter 1 : Fuels and Combustion"
   ]
  },
  {
   "cell_type": "markdown",
   "metadata": {},
   "source": [
    "## Example 1.1  Page no : 15"
   ]
  },
  {
   "cell_type": "code",
   "execution_count": 1,
   "metadata": {
    "collapsed": false
   },
   "outputs": [
    {
     "name": "stdout",
     "output_type": "stream",
     "text": [
      "Minimum mass of air per kg of coal is 11.45 kg\n"
     ]
    }
   ],
   "source": [
    "\n",
    "# Variables\n",
    "C = 0.91;\t\t\t#Percentage composition of Carbon\n",
    "H = 0.03;\t\t\t#Percentage composition of Hydrogen\n",
    "O = 0.02;\t\t\t#Percentage composition of Oxygen\n",
    "N = 0.008;\t\t\t#Percentage composition of Nitrogen\n",
    "S = 0.008;\t\t\t#Percentage composition of Sulphur\n",
    "\n",
    "# Calculations\n",
    "m = (11.5*C)+(34.5*(H-(O/8)))+(4.3*S);\t\t\t#Mass of air per kg of coal in kg\n",
    "\n",
    "# Results\n",
    "print 'Minimum mass of air per kg of coal is %3.2f kg'%(m)\n"
   ]
  },
  {
   "cell_type": "markdown",
   "metadata": {},
   "source": [
    "## Example 1.2  Page no : 16"
   ]
  },
  {
   "cell_type": "code",
   "execution_count": 2,
   "metadata": {
    "collapsed": false
   },
   "outputs": [
    {
     "name": "stdout",
     "output_type": "stream",
     "text": [
      "Theoretical volume of air at N.T.P per kg fuel is 10.85 m**3)/kg of fuel\n"
     ]
    }
   ],
   "source": [
    "\n",
    "# Variables\n",
    "C = 0.86;\t\t\t#Percentage composition of Carbon\n",
    "H = 0.12;\t\t\t#Percentage composition of Hydrogen\n",
    "O = 0.01;\t\t\t#Percentage composition of Oxygen\n",
    "S = 0.01;\t\t\t#Percentage composition of Sulphur\n",
    "v = 0.773;\t\t\t#Specific volume of air at N.T.P in (m**3)/kg\n",
    "\n",
    "# Calculations\n",
    "m = (11.5*C)+(34.5*(H-(O/8)))+(4.3*S);\t\t\t#Theoretical mass of air per kg of coal in kg\n",
    "vth = m*v;\t\t\t#Theoretical volume of air at N.T.P per kg fuel in (m**3)/kg of fuel\n",
    "\n",
    "# Results\n",
    "print 'Theoretical volume of air at N.T.P per kg fuel is %3.2f m**3)/kg of fuel'%(vth)\n"
   ]
  },
  {
   "cell_type": "markdown",
   "metadata": {},
   "source": [
    "## Example 1.3  Page no : 16"
   ]
  },
  {
   "cell_type": "code",
   "execution_count": 3,
   "metadata": {
    "collapsed": false
   },
   "outputs": [
    {
     "name": "stdout",
     "output_type": "stream",
     "text": [
      "Minimum quantity of air required for complete combustion is 10.83 kg  \n",
      "Total mass of products of combustion is 11.792 kg\n"
     ]
    }
   ],
   "source": [
    "\n",
    "\n",
    "# Variables\n",
    "C = 0.78;\t\t\t#Percentage composition of Carbon\n",
    "H = 0.06;\t\t\t#Percentage composition of Hydrogen\n",
    "O = 0.078;\t\t\t#Percentage composition of Oxygen\n",
    "N = 0.012;\t\t\t#Percentage composition of Nitrogen\n",
    "S = 0.03;\t\t\t#Percentage composition of Sulphur\n",
    "\n",
    "# Calculations\n",
    "m = (11.5*C)+(34.5*(H-(O/8)))+(4.3*S);\t\t\t#Minimum quantity of air required in kg\n",
    "mt = ((11*C)/3)+(9*H)+(2*S)+(8.32+N);\t\t\t#Total mass of products of combustion in kg\n",
    "\n",
    "# Results\n",
    "print 'Minimum quantity of air required for complete combustion is %3.2f kg  \\\n",
    "\\nTotal mass of products of combustion is %3.3f kg'%(m,mt)\n"
   ]
  },
  {
   "cell_type": "markdown",
   "metadata": {},
   "source": [
    "## Example 1.4  Page no : 17"
   ]
  },
  {
   "cell_type": "code",
   "execution_count": 2,
   "metadata": {
    "collapsed": false
   },
   "outputs": [
    {
     "name": "stdout",
     "output_type": "stream",
     "text": [
      "Mass of dry flue gases per kg of coal burnt is 19 kg\n"
     ]
    }
   ],
   "source": [
    "\n",
    "# Variables\n",
    "C = 0.84;\t\t\t#Percentage composition of Carbon\n",
    "H = 0.09;\t\t\t#Percentage composition of Hydrogen\n",
    "CO2 = 0.0875;\t\t\t#Volumetric composition of CO2\n",
    "CO = 0.0225;\t\t\t#Volumetric composition of CO\n",
    "O2 = 0.08;\t\t\t#Volumetric composition of Oxygen\n",
    "N2 = 0.81;\t\t\t#Volumetric composition of Nitrogen\n",
    "M1 = 44.;\t\t\t#Molecular mass of CO2\n",
    "M2 = 28.;\t\t\t#Molecular mass of CO\n",
    "M3 = 32.;\t\t\t#Molecular mass of O2\n",
    "M4 = 28.;\t\t\t#Molecular mass of N2\n",
    "\n",
    "# Calculations\n",
    "c1 = CO2*M1;\t\t\t#Proportional mass of CO2\n",
    "c2 = CO*M2;\t    \t\t#Proportional mass of CO\n",
    "c3 = O2*M3;\t\t    \t#Proportional mass of O2\n",
    "c4 = N2*M4;\t\t\t    #Proportional mass of N2\n",
    "c = c1+c2+c3+c4;\t\t\t#Total proportional mass of constituents\n",
    "m1 = c1/c;\t\t    \t#Mass of CO2 per kg of flue gas in kg\n",
    "m2 = c2/c;\t\t    \t#Mass of CO per kg of flue gas in kg\n",
    "m3 = c3/c;\t\t    \t#Mass of O2 per kg of flue gas in kg\n",
    "m4 = c4/c;\t\t    \t#Mass of N2 per kg of flue gas in kg\n",
    "d1 = m1*100;\t\t\t#Mass analysis of CO2\n",
    "d2 = m2*100;\t\t\t#Mass analysis of CO\n",
    "d3 = m3*100;\t\t\t#Mass analysis of O2\n",
    "d4 = m4*100;\t\t\t#Mass analysis of N2\n",
    "m = ((3*m1)/11)+((3*m2)/7.);\t\t\t#Mass of carbon in kg\n",
    "md = C/m;\t\t\t    #Mass of dry flue gas in kg\n",
    "\n",
    "# Results\n",
    "print 'Mass of dry flue gases per kg of coal burnt is %.f kg'%(md)\n",
    "\n",
    "# note : rounding off error"
   ]
  },
  {
   "cell_type": "markdown",
   "metadata": {},
   "source": [
    "## Example 1.5  Page no : 17"
   ]
  },
  {
   "cell_type": "code",
   "execution_count": 5,
   "metadata": {
    "collapsed": false
   },
   "outputs": [
    {
     "name": "stdout",
     "output_type": "stream",
     "text": [
      "Minimum air required to burn 1 kg of coal is 8.43 kg  \n",
      "Mass of air actually supplied per kg of coal is 11.521 kg  \n",
      "Amount of excess air supplied per kg of coal burnt is 3.090 kg\n"
     ]
    }
   ],
   "source": [
    "\n",
    "\n",
    "# Variables\n",
    "C = 0.624;\t\t\t#Percentage composition of Carbon\n",
    "H = 0.042;\t\t\t#Percentage composition of Hydrogen\n",
    "O = 0.045;\t\t\t#Percentage composition of Oxygen\n",
    "CO2 = 0.13;\t\t\t#Volumetric composition of CO2\n",
    "CO = 0.003;\t\t\t#Volumetric composition of CO\n",
    "O2 = 0.06;\t\t\t#Volumetric composition of Oxygen\n",
    "N2 = 0.807;\t\t\t#Volumetric composition of Nitrogen\n",
    "M1 = 44;\t\t\t#Molecular mass of CO2\n",
    "M2 = 28;\t\t\t#Molecular mass of CO\n",
    "M3 = 32;\t\t\t#Molecular mass of O2\n",
    "M4 = 28;\t\t\t#Molecular mass of N2\n",
    "mw = 0.378;\t\t\t#Mass of H2O in kg\n",
    "\n",
    "# Calculations\n",
    "m = (11.5*C)+(34.5*(H-(O/8)));\t\t\t#Minimum air required in kg\n",
    "c1 = CO2*M1;\t\t\t#Proportional mass of CO2\n",
    "c2 = CO*M2;\t\t\t#Proportional mass of CO\n",
    "c3 = O2*M3;\t\t\t#Proportional mass of O2\n",
    "c4 = N2*M4;\t\t\t#Proportional mass of N2\n",
    "c = c1+c2+c3+c4;\t\t\t#Total proportional mass of constituents\n",
    "m1 = c1/c;\t\t\t#Mass of CO2 per kg of flue gas in kg\n",
    "m2 = c2/c;\t\t\t#Mass of CO per kg of flue gas in kg\n",
    "m3 = c3/c;\t\t\t#Mass of O2 per kg of flue gas in kg\n",
    "m4 = c4/c;\t\t\t#Mass of N2 per kg of flue gas in kg\n",
    "d1 = m1*100;\t\t\t#Mass analysis of CO2\n",
    "d2 = m2*100;\t\t\t#Mass analysis of CO\n",
    "d3 = m3*100;\t\t\t#Mass analysis of O2\n",
    "d4 = m4*100;\t\t\t#Mass analysis of N2\n",
    "mC = ((3*m1)/11)+((3*m2)/7);\t\t\t#Mass of carbon in kg\n",
    "md = C/mC;\t\t\t#Mass of dry flue gas in kg\n",
    "mact = (md+mw)-(C+H+O);\t\t\t#Actual air supplied per kg of fuel in kg\n",
    "me = mact-m;\t\t\t#Mass of excess air per kg of fuel in kg\n",
    "\n",
    "# Results\n",
    "print 'Minimum air required to burn 1 kg of coal is %3.2f kg  \\\n",
    "\\nMass of air actually supplied per kg of coal is %3.3f kg  \\\n",
    "\\nAmount of excess air supplied per kg of coal burnt is %3.3f kg'%(m,mact,me)\n",
    "#rounding-off errors"
   ]
  },
  {
   "cell_type": "markdown",
   "metadata": {},
   "source": [
    "## Example 1.6  Page no : 19"
   ]
  },
  {
   "cell_type": "code",
   "execution_count": 6,
   "metadata": {
    "collapsed": false
   },
   "outputs": [
    {
     "name": "stdout",
     "output_type": "stream",
     "text": [
      "Mass of air to be supplied is 9.92 kg  \n",
      "Mass of CO2 produced per kg of coal is 2.86 kg  \n",
      "Mass of H2O produced per kg of coal is 0.27 kg\n",
      "Mass of SO2 produced per kg of coal is 0.02 kg  \n",
      "Mass of excess O2 produced per kg of coal is 0.69 kg  \n",
      "Mass of N2 produced per kg of coal is 9.90 kg \n"
     ]
    }
   ],
   "source": [
    "\n",
    "\n",
    "# Variables\n",
    "C = 0.78;\t\t\t#Percentage composition of Carbon\n",
    "H = 0.03;\t\t\t#Percentage composition of Hydrogen\n",
    "O = 0.03;\t\t\t#Percentage composition of Oxygen\n",
    "S = 0.01;\t\t\t#Percentage composition of Sulphur\n",
    "me = 0.3;\t\t\t#Mass of excess air supplied\n",
    "\n",
    "# Calculations\n",
    "m = (11.5*C)+(34.5*(H-(O/8)))+(4.3*S);\t\t\t#Mass of air per kg of coal in kg\n",
    "mec = me*m;\t\t\t#Excess air supplied per kg of coal in kg\n",
    "mact = m+mec;\t\t\t#Actual mass of air supplied per kg of coal in kg\n",
    "mCO2 = (11*C)/3;\t\t\t#Mass of CO2 produced per kg of coal in kg\n",
    "mHw = 9*H;\t\t\t#Mass of H2O produced per kg of coal in kg\n",
    "mSO2 = 2*S;\t\t\t#Mass of SO2 produced per kg of coal in kg\n",
    "mO2 = 0.232*mec;\t\t\t#Mass of excess O2 produced per kg of coal in kg\n",
    "mN2 = 0.768*mact;\t\t\t#Mass of N2 produced per kg of coal in kg\n",
    "\n",
    "# Results\n",
    "print 'Mass of air to be supplied is %3.2f kg  \\\n",
    "\\nMass of CO2 produced per kg of coal is %3.2f kg  \\\n",
    "\\nMass of H2O produced per kg of coal is %3.2f kg\\\n",
    "\\nMass of SO2 produced per kg of coal is %3.2f kg  \\\n",
    "\\nMass of excess O2 produced per kg of coal is %3.2f kg  \\\n",
    "\\nMass of N2 produced per kg of coal is %3.2f kg '%(m,mCO2,mHw,mSO2,mO2,mN2)\n"
   ]
  },
  {
   "cell_type": "markdown",
   "metadata": {},
   "source": [
    "## Example 1.7  Page no : 20"
   ]
  },
  {
   "cell_type": "code",
   "execution_count": 3,
   "metadata": {
    "collapsed": false
   },
   "outputs": [
    {
     "name": "stdout",
     "output_type": "stream",
     "text": [
      "Minimum mass of air required is 11.4 kg  \n",
      "Total mass of dry flue gases per kg of fuel is 17.93 kg  \n",
      "Percentage composition of CO2 by volume is 12.69 percent  \n",
      "Percentage composition of SO2 by volume is 0.048 percent  \n",
      "Percentage composition of O2 by volume is 7.2 percent  \n",
      "Percentage composition of N2 by volume is 80.08 percent\n"
     ]
    }
   ],
   "source": [
    "\n",
    "\n",
    "# Variables\n",
    "C = 0.9;\t\t\t#Percentage composition of Carbon\n",
    "H = 0.033;\t\t\t#Percentage composition of Hydrogen\n",
    "O = 0.03;\t\t\t#Percentage composition of Oxygen\n",
    "N = 0.008;\t\t\t#Percentage composition of Nitrogen\n",
    "S = 0.009;\t\t\t#Percentage composition of Sulphur\n",
    "M1 = 44;\t\t\t#Molecular mass of CO2\n",
    "M2 = 64;\t\t\t#Molecular mass of SO2\n",
    "M3 = 32;\t\t\t#Molecular mass of O2\n",
    "M4 = 28;\t\t\t#Molecular mass of N2\n",
    "\n",
    "# Calculations\n",
    "m = (11.5*C)+(34.5*(H-(O/8)))+(4.3*S);\t\t\t#Minimum mass of air per kg of coal in kg\n",
    "mCO2 = (11*C)/3;\t\t\t#Mass of CO2 produced per kg of coal in kg\n",
    "mHw = 9*H;\t\t\t#Mass of H2O produced per kg of coal in kg\n",
    "mSO2 = 2*S;\t\t\t#Mass of SO2 produced per kg of coal in kg\n",
    "mt = 11.5*1.5;\t\t\t#Total mass of air supplied per kg of coal in kg\n",
    "me = mt-m;\t\t\t#Excess air supplied in kg\n",
    "mO2 = 0.232*me;\t\t\t#Mass of excess O2 produced per kg of coal in kg\n",
    "mN2 = 0.768*mt;\t\t\t#Mass of N2 produced per kg of coal in kg\n",
    "mtN2 = mN2+N;\t\t\t#Total mass of Nitrogen in exhaust in kg\n",
    "md = mCO2+mSO2+mO2+mtN2;\t\t\t#Total mass of dry flue gases per kg of fuel in kg\n",
    "CO2 = (mCO2/md)*100;\t\t\t#Percentage composition of CO2 by mass in percent\n",
    "SO2 = (mSO2/md)*100;\t\t\t#Percentage composition of SO2 by mass in percent\n",
    "O2 = (mO2/md)*100;\t\t\t#Percentage composition of O2 by mass in percent\n",
    "N2 = (mN2/md)*100;\t\t\t#Percentage composition of N2 by mass in percent\n",
    "c1 = CO2/M1;\t\t\t#Proportional volume of CO2\n",
    "c2 = SO2/M2;\t\t\t#Proportional volume of SO2\n",
    "c3 = O2/M3;\t\t\t#Proportional volume of O2\n",
    "c4 = N2/M4;\t\t\t#Proportional volume of N2\n",
    "c = c1+c2+c3+c4;\t\t\t#Total proportional volume of constituents\n",
    "m1 = c1/c;\t\t\t#Volume of CO2 in 1 (m**3) of flue gas\n",
    "m2 = c2/c;\t\t\t#Volume of SO2 in 1 (m**3) of flue gas\n",
    "m3 = c3/c;\t\t\t#Volume of O2 in 1 (m**3) of flue gas\n",
    "m4 = c4/c;\t\t\t#Volume of N2 in 1 (m**3) of flue gas\n",
    "d1 = m1*100;\t\t\t#Volume analysis of CO2\n",
    "d2 = m2*100;\t\t\t#Volume analysis of SO2\n",
    "d3 = m3*100;\t\t\t#Volume analysis of O2\n",
    "d4 = m4*100;\t\t\t#Volume analysis of N2\n",
    "\n",
    "# Results\n",
    "print 'Minimum mass of air required is %3.1f kg  \\\n",
    "\\nTotal mass of dry flue gases per kg of fuel is %3.2f kg  \\\n",
    "\\nPercentage composition of CO2 by volume is %3.2f percent  \\\n",
    "\\nPercentage composition of SO2 by volume is %3.3f percent  \\\n",
    "\\nPercentage composition of O2 by volume is %3.1f percent  \\\n",
    "\\nPercentage composition of N2 by volume is %3.2f percent'%(m,md,d1,d2,d3,d4)\n",
    "\n",
    "# note : rounding off error"
   ]
  },
  {
   "cell_type": "markdown",
   "metadata": {},
   "source": [
    "## Example 1.8  Page no : 21"
   ]
  },
  {
   "cell_type": "code",
   "execution_count": 5,
   "metadata": {
    "collapsed": false
   },
   "outputs": [
    {
     "name": "stdout",
     "output_type": "stream",
     "text": [
      "Mass of air actually supplied per kg of coal is 18.20 kg  \n",
      "Percentage of excess air is 60 percent\n"
     ]
    }
   ],
   "source": [
    "\n",
    "\n",
    "# Variables\n",
    "C = 0.88;\t\t\t#Percentage composition of Carbon\n",
    "H = 0.036;\t\t\t#Percentage composition of Hydrogen\n",
    "O = 0.048;\t\t\t#Percentage composition of oxygen\n",
    "CO2 = 0.109;\t\t\t#Volumetric composition of CO2\n",
    "CO = 0.01;\t\t\t#Volumetric composition of CO\n",
    "O2 = 0.071;\t\t\t#Volumetric composition of Oxygen\n",
    "N2 = 0.81;\t\t\t#Volumetric composition of Nitrogen\n",
    "M1 = 44.;\t\t\t#Molecular mass of CO2\n",
    "M2 = 28.;\t\t\t#Molecular mass of CO\n",
    "M3 = 32.;\t\t\t#Molecular mass of O2\n",
    "M4 = 28.;\t\t\t#Molecular mass of N2\n",
    "\n",
    "# Calculations\n",
    "m = (11.5*C)+(34.5*(H-(O/8)));\t\t\t#Theoretical air required in kg\n",
    "c1 = CO2*M1;\t\t\t#Proportional mass of CO2\n",
    "c2 = CO*M2;\t\t\t#Proportional mass of CO\n",
    "c3 = O2*M3;\t\t\t#Proportional mass of O2\n",
    "c4 = N2*M4;\t\t\t#Proportional mass of N2\n",
    "c = c1+c2+c3+c4;\t\t\t#Total proportional mass of constituents\n",
    "m1 = c1/c;\t\t\t#Mass of CO2 per kg of flue gas in kg\n",
    "m2 = c2/c;\t\t\t#Mass of CO per kg of flue gas in kg\n",
    "m3 = c3/c;\t\t\t#Mass of O2 per kg of flue gas in kg\n",
    "m4 = c4/c;\t\t\t#Mass of N2 per kg of flue gas in kg\n",
    "mC = ((3*m1)/11)+((3*m2)/7);\t\t\t#Mass of carbon in kg\n",
    "md = C/mC;\t\t\t#Mass of dry flue gas in kg\n",
    "hc = H*9;\t\t\t#Hydrogen combustion in kg of H2O\n",
    "mair = (md+hc)-(C+H+O);\t\t\t#Mass of air supplied per kg of coal in kg\n",
    "me = mair-m;\t\t\t#Excess air per kg of coal in kg\n",
    "mN2 = m4*md;\t\t\t#Mass of nitrogen per kg of coal in kg\n",
    "mact = mN2/0.768;\t\t\t#Actual mass of air per kg of coal in kg\n",
    "pe = (me/m)*100;\t\t\t#Perccentage excess air in percent\n",
    "\n",
    "# Results\n",
    "print 'Mass of air actually supplied per kg of coal is %3.2f kg  \\\n",
    "\\nPercentage of excess air is %.f percent'%(mact,pe)\n",
    "\n",
    "# note : rounding off error"
   ]
  },
  {
   "cell_type": "markdown",
   "metadata": {},
   "source": [
    "## Example 1.9  Page no : 22"
   ]
  },
  {
   "cell_type": "code",
   "execution_count": 1,
   "metadata": {
    "collapsed": false
   },
   "outputs": [
    {
     "name": "stdout",
     "output_type": "stream",
     "text": [
      "Mass of excess air supplied per kg of fuel burnt is 6.0 kg/kg of fuel  \n",
      "Air-fuel ratio is 20.7:1\n"
     ]
    }
   ],
   "source": [
    "\n",
    "\n",
    "# Variables\n",
    "C = 0.84;\t\t\t#Percentage composition of Carbon\n",
    "H = 0.14;\t\t\t#Percentage composition of Hydrogen\n",
    "O = 0.02;\t\t\t#Percentage composition of oxygen\n",
    "CO2 = 8.85;\t\t\t#Volumetric composition of CO2\n",
    "CO = 1.2;\t\t\t#Volumetric composition of CO\n",
    "O2 = 6.8;\t\t\t#Volumetric composition of Oxygen\n",
    "N2 = 83.15;\t\t\t#Volumetric composition of Nitrogen\n",
    "M1 = 44.;\t\t\t#Molecular mass of CO2\n",
    "M2 = 28.;\t\t\t#Molecular mass of CO\n",
    "M3 = 32.;\t\t\t#Molecular mass of O2\n",
    "M4 = 28.;\t\t\t#Molecular mass of N2\n",
    "a = 8/3.;\t\t\t#O2 required per kg C\n",
    "b = 8.; \t\t\t#O2 required per kg H2\n",
    "mair = 0.23;\t\t\t#Mass of air\n",
    "\n",
    "# Calculations\n",
    "c = C*a;\t\t\t#O2 required per kg of fuel for C\n",
    "d = H*b;\t\t\t#O2 required per kg of fuel for H2\n",
    "tO2 = c+d+O;\t\t\t#Theoreticcal O2 required in kg/kg of fuel\n",
    "tm = tO2/mair;\t\t\t#Theoretical mass of air in kg/kg of fuel\n",
    "c1 = CO2*M1;\t\t\t#Proportional mass of CO2 by Volume\n",
    "c2 = CO*M2;\t\t\t#Proportional mass of CO by Volume\n",
    "c3 = O2*M3;\t\t\t#Proportional mass of O2 by Volume\n",
    "c4 = N2*M4;\t\t\t#Proportional mass of N2 by Volume\n",
    "c = c1+c2+c3+c4;\t\t\t#Total proportional mass of constituents\n",
    "m1 = c1/c;\t\t\t#Mass of CO2 per kg of flue gas in kg\n",
    "m2 = c2/c;\t\t\t#Mass of CO per kg of flue gas in kg\n",
    "m3 = c3/c;\t\t\t#Mass of O2 per kg of flue gas in kg\n",
    "m4 = c4/c;\t\t\t#Mass of N2 per kg of flue gas in kg\n",
    "mC = ((m1*12)/M1)+((m2*12)/M2);\t\t\t#Mass of carbon per kg of dry flue gas in kg\n",
    "md = C/mC;\t\t\t#Mass of dry flue per kg of fuel in kg\n",
    "p = (4*m2)/7;\t\t\t#Oxygen required to burn CO in kg\n",
    "meO2 = md*(m3-p);\t\t\t#Mass of excess O2 per kg of fuel in kg\n",
    "me = meO2/mair;\t\t\t#Mass of excess air in kg/kg fuel\n",
    "mt = tm+me;\t\t\t#Total air required per kg fuel\n",
    "\n",
    "# Results\n",
    "print 'Mass of excess air supplied per kg of fuel burnt is %3.1f kg/kg of fuel  \\\n",
    "\\nAir-fuel ratio is %3.1f:1'%(me,mt)\n",
    "\n",
    "# rounding off error"
   ]
  },
  {
   "cell_type": "markdown",
   "metadata": {},
   "source": [
    "## Example 1.10  Page no : 23"
   ]
  },
  {
   "cell_type": "code",
   "execution_count": 10,
   "metadata": {
    "collapsed": false
   },
   "outputs": [
    {
     "name": "stdout",
     "output_type": "stream",
     "text": [
      "Volume of air required for complete combustion is 1.178 m**3)\n"
     ]
    }
   ],
   "source": [
    "\n",
    "# Variables\n",
    "H2 = 0.27;\t\t\t#Percentage composition of H2 by volume\n",
    "CO2 = 0.18;\t\t\t#Percentage composition of CO2 by volume\n",
    "CO = 0.125;\t\t\t#Percentage composition of CO by volume\n",
    "CH4 = 0.025;\t\t\t#Percentage composition of CH4 by volume\n",
    "N2 = 0.4;\t\t\t#Percentage composition of N2 by volume\n",
    "\n",
    "# Calculations\n",
    "v = (2.38*(H2+CO))+(9.52*CH4);\t\t\t#Volume of air required for complete combustion in (m**3)\n",
    "\n",
    "# Results\n",
    "print 'Volume of air required for complete combustion is %3.3f m**3)'%(v)\n"
   ]
  },
  {
   "cell_type": "markdown",
   "metadata": {},
   "source": [
    "## Example 1.11  Page no : 24"
   ]
  },
  {
   "cell_type": "code",
   "execution_count": 3,
   "metadata": {
    "collapsed": false
   },
   "outputs": [
    {
     "name": "stdout",
     "output_type": "stream",
     "text": [
      "Air-fuel ratio by volume is 5.055\n"
     ]
    }
   ],
   "source": [
    "\n",
    "# Variables\n",
    "H2 = 0.5;\t\t\t#Percentage composition of H2 by volume\n",
    "CO2 = 0.1;\t\t\t#Percentage composition of CO2 by volume\n",
    "CO = 0.05;\t\t\t#Percentage composition of CO by volume\n",
    "CH4 = 0.25;\t\t\t#Percentage composition of CH4 by volume\n",
    "N2 = 0.1;\t\t\t#Percentage composition of N2 by volume\n",
    "pCO2 = 8;\t\t\t#Percentage volumetric analysis of CO2\n",
    "pO2 = 6;\t\t\t#Percentage volumetric analysis of O2\n",
    "pN2 = 86;\t\t\t#Percentage volumetric analysis of N2\n",
    "\n",
    "\n",
    "# Calculations\n",
    "v = (2.38*(H2+CO))+(9.52*CH4);\t\t\t#Volume of air required for complete combustion in (m**3)\n",
    "vN2 = v*0.79;\t\t\t#Volume of nitrogen in the air in m**3\n",
    "a = CO+CH4+CO2;\t\t\t#CO2 formed per m**3 of fuel gas burnt\n",
    "b = vN2+N2;\t\t\t#N2 formed per m**3 of fuel gas burnt\n",
    "vt = a+b;\t\t\t#Total volume of dry flue gas formed in m**3\n",
    "ve = (pO2*vt)/(21-pO2);\t\t\t#Excess air supplied in m**3\n",
    "V = v+ve;\t\t\t#Total quantity of air supplied in m**3\n",
    "afr = V/1\n",
    "\n",
    "# Results\n",
    "print 'Air-fuel ratio by volume is %3.3f'%(afr)\n"
   ]
  },
  {
   "cell_type": "markdown",
   "metadata": {},
   "source": [
    "## Example 1.12  Page no : 24"
   ]
  },
  {
   "cell_type": "code",
   "execution_count": 12,
   "metadata": {
    "collapsed": false
   },
   "outputs": [
    {
     "name": "stdout",
     "output_type": "stream",
     "text": [
      "Volume of air required for complete combustion is 0.952 m**3)  \n",
      "Volume of CO2 per m**3 of gas fuel is 0.29 m**3/m**3 of gas fuel  \n",
      "Volume of N2 per m**3 of gas fuel is 1.603 m**3/m**3 of gas fuel  \n",
      "Volume of excess O2 per m**3 of gas fuel is 0.08 m**3/m**3 of gas fuel  \n",
      "Total volume of dry combustion products is 1.973 m**3/m**3 of gas fuel \n",
      "Percentage volume of CO2 is 14.7 percent  \n",
      "Percentage volume of N2 is 81.25 percent  \n",
      "Percentage volume of O2 is 4.05 percent\n"
     ]
    }
   ],
   "source": [
    "\n",
    "# Variables\n",
    "H2 = 0.14;\t\t\t#Percentage composition of H2 by volume\n",
    "CO2 = 0.05;\t\t\t#Percentage composition of CO2 by volume\n",
    "CO = 0.22;\t\t\t#Percentage composition of CO by volume\n",
    "CH4 = 0.02;\t\t\t#Percentage composition of CH4 by volume\n",
    "O2 = 0.02;\t\t\t#Percentage composition of O2 by volume\n",
    "N2 = 0.55;\t\t\t#Percentage composition of N2 by volume\n",
    "e = 0.4;\t\t\t#Excess air supplied\n",
    "# Calculations\n",
    "v = (2.38*(H2+CO))+(9.52*CH4)-(4.76*O2);\t\t\t#Volume of air required for complete combustion in (m**3)\n",
    "ve = v*e;\t\t\t#Volume of excess air supplied in m**3\n",
    "vtN2 = v-(v*0.21);\t\t\t#Volume of N2 in theoretical air in m**3\n",
    "veN2 = ve-(ve*0.21);\t\t\t#Volume of N2 in excess air in m**3\n",
    "vt = vtN2+veN2;\t\t\t#Total volume of N2 in air supplied in m**3\n",
    "vCO2 = CO+CH4+CO2;\t\t\t#CO2 formed per m**3 of fuel gas\n",
    "vN2 = vt+N2;\t\t\t#N2 formed per m**3 of fuel gas\n",
    "veO2 = ve*0.21;\t\t\t#Volume of excess O2 per m**3 of fuel gas\n",
    "vT = vCO2+vN2+veO2;\t\t\t#Total volume of dry combustion products\n",
    "pCO2 = (vCO2*100)/vT;\t\t\t#Percentage volume of CO2\n",
    "pN2 = (vN2*100)/vT;\t\t\t#Percentage volume of N2\n",
    "pO2 = (veO2*100)/vT;\t\t\t#Percentage volume of O2\n",
    "\n",
    "# Results\n",
    "print 'Volume of air required for complete combustion is %3.3f m**3)  \\\n",
    "\\nVolume of CO2 per m**3 of gas fuel is %3.2f m**3/m**3 of gas fuel  \\\n",
    "\\nVolume of N2 per m**3 of gas fuel is %3.3f m**3/m**3 of gas fuel  \\\n",
    "\\nVolume of excess O2 per m**3 of gas fuel is %3.2f m**3/m**3 of gas fuel  \\\n",
    "\\nTotal volume of dry combustion products is %3.3f m**3/m**3 of gas fuel \\\n",
    "\\nPercentage volume of CO2 is %3.1f percent  \\\n",
    "\\nPercentage volume of N2 is %3.2f percent  \\\n",
    "\\nPercentage volume of O2 is %3.2f percent'%(v,vCO2,vN2,veO2,vT,pCO2,pN2,pO2)\n"
   ]
  }
 ],
 "metadata": {
  "kernelspec": {
   "display_name": "Python 2",
   "language": "python",
   "name": "python2"
  },
  "language_info": {
   "codemirror_mode": {
    "name": "ipython",
    "version": 2
   },
   "file_extension": ".py",
   "mimetype": "text/x-python",
   "name": "python",
   "nbconvert_exporter": "python",
   "pygments_lexer": "ipython2",
   "version": "2.7.6"
  }
 },
 "nbformat": 4,
 "nbformat_minor": 0
}
