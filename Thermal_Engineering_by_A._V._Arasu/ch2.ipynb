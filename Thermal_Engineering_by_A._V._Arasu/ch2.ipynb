{
 "cells": [
  {
   "cell_type": "markdown",
   "metadata": {},
   "source": [
    "# Chapter 2 : Gas Power Cycles"
   ]
  },
  {
   "cell_type": "markdown",
   "metadata": {},
   "source": [
    "## Example 2.1  Page no : 55"
   ]
  },
  {
   "cell_type": "code",
   "execution_count": 1,
   "metadata": {
    "collapsed": false
   },
   "outputs": [
    {
     "name": "stdout",
     "output_type": "stream",
     "text": [
      "Maximum pressure of the cycle is 9.434 MPa  \n",
      "Maximum temperature of the cycle  is 3632 K  \n",
      "Cycle efficiency is 56.4 percent  \n",
      "Mean effective pressure is 1.533 MPa\n"
     ]
    }
   ],
   "source": [
    "\n",
    "# Variables\n",
    "P1 = 0.1;\t\t\t#Pressure of air supplied in MPa\n",
    "T1 = 308;\t\t\t#Temperature of air supplied in K\n",
    "rv = 8;\t\t\t#Compression ratio\n",
    "q1 = 2100;\t\t\t#Heat supplied in kJ/kg\n",
    "Cp = 1.005;\t\t\t#Specific heat at constant pressure in kJ/kg-K\n",
    "Cv = 0.718;\t\t\t#Specific heat at constant volume in kJ/kg-K\n",
    "R = 0.287;\t\t\t#Universal gas constant in kJ/kg-K\n",
    "\n",
    "# Calculations\n",
    "y = Cp/Cv;\t\t\t#Ratio of specific heats\n",
    "n = (1-(1/(rv**(y-1))))*100;\t\t\t#Cycle efficiency\n",
    "v1 = (R*T1)/(P1*1000);\t\t\t#Specific volume at point 1 in (m**3)/kg\n",
    "v2 = v1/rv;\t\t\t#Specific volume at point 2 in (m**3)/kg\n",
    "T2 = T1*(rv**(y-1));\t\t\t#Temperature at point 2 in K\n",
    "T3 = (q1/Cv)+T2;\t\t\t#Temperature at point 3 in K\n",
    "P2 = P1*(rv**y);\t\t\t#Pressure at point 2 in MPa\n",
    "P3 = P2*(T3/T2);\t\t\t#Pressure at point 3 in MPa\n",
    "wnet = (q1*n)/100;\t\t\t#Net workdone in J/kg\n",
    "MEP = (wnet/(v1-v2))/1000;\t\t\t#Mean effective pressure in MPa\n",
    "\n",
    "# Results\n",
    "print 'Maximum pressure of the cycle is %3.3f MPa  \\\n",
    "\\nMaximum temperature of the cycle  is %3.0f K  \\\n",
    "\\nCycle efficiency is %3.1f percent  \\\n",
    "\\nMean effective pressure is %3.3f MPa'%(P3,T3,n,MEP)\n"
   ]
  },
  {
   "cell_type": "markdown",
   "metadata": {},
   "source": [
    "## Example 2.2  Page no : 57"
   ]
  },
  {
   "cell_type": "code",
   "execution_count": 2,
   "metadata": {
    "collapsed": false
   },
   "outputs": [
    {
     "name": "stdout",
     "output_type": "stream",
     "text": [
      "Relative efficiency of the engine is 38.8 percent\n"
     ]
    }
   ],
   "source": [
    "\n",
    "# Variables\n",
    "d = 80;\t\t\t#Bore in mm\n",
    "L = 85;\t\t\t#Stroke in mm\n",
    "Vc = 0.06;\t\t\t#Clearance volume in litre\n",
    "n = 0.22;\t\t\t#Actual thermal efficiency\n",
    "y = 1.4;\t\t\t#Ratio of specific heats\n",
    "\n",
    "# Calculations\n",
    "Vs = (3.147/4)*(d**2)*L;\t\t\t#Stroke volume in mm**3\n",
    "Vt = Vs+(Vc*(10**6));\t\t\t#Total volume in mm**3\n",
    "rv = Vt/(Vc*(10**6));\t\t\t#Compression ratio\n",
    "ni = (1-(1/(rv**(y-1))));\t\t\t#Ideal thermal efficiency\n",
    "nr = (n/ni)*100;\t\t\t#Relative efficiency\n",
    "\n",
    "# Results\n",
    "print 'Relative efficiency of the engine is %3.1f percent'%(nr)\n"
   ]
  },
  {
   "cell_type": "markdown",
   "metadata": {},
   "source": [
    "## Example 2.3  Page no : 57"
   ]
  },
  {
   "cell_type": "code",
   "execution_count": 3,
   "metadata": {
    "collapsed": false
   },
   "outputs": [
    {
     "name": "stdout",
     "output_type": "stream",
     "text": [
      "Clearance volume is 14.6 percent of swept volume  \n",
      "Otto cycle efficiency is 56.15 percent\n"
     ]
    }
   ],
   "source": [
    "\n",
    "\n",
    "# Variables\n",
    "d = 0.137;\t\t\t#Bore in m\n",
    "L = 0.13;\t\t\t#Stroke in m\n",
    "Vc = 280*(10**-6);\t\t\t#Clearance volume in m**3\n",
    "y = 1.4;\t\t\t#Ratio of specific heats\n",
    "\n",
    "# Calculations\n",
    "Vs = (3.147/4)*(d**2)*L;\t\t\t#Stroke volume in m**3\n",
    "rv = (Vc/Vs)*100;\t\t\t#Compression ratio\n",
    "rvf = (Vs+Vc)/Vc;\t\t\t#final compression ratio\n",
    "n = (1-(1/rvf**(y-1)))*100;\t\t\t#Cycle efficiency\n",
    "\n",
    "# Results\n",
    "print 'Clearance volume is %3.1f percent of swept volume  \\\n",
    "\\nOtto cycle efficiency is %3.2f percent'%(rv,n)\n"
   ]
  },
  {
   "cell_type": "markdown",
   "metadata": {},
   "source": [
    "## Example 2.4  Page no : 58"
   ]
  },
  {
   "cell_type": "code",
   "execution_count": 1,
   "metadata": {
    "collapsed": false
   },
   "outputs": [
    {
     "name": "stdout",
     "output_type": "stream",
     "text": [
      "Maximum pressure of the cycle is 6449.19 kPa  \n",
      "Maximum temperature of the cycle is 1968.7 K  \n",
      "Amount of heat transferred is 0.65 kJ  \n",
      "Thermal efficiency is 59.4 percent  \n",
      "Mean effective pressure is 718.3 kPa\n"
     ]
    }
   ],
   "source": [
    "\n",
    "# Variables\n",
    "rv = 9.5;\t\t\t#Compression ratio\n",
    "P1 = 100.;\t\t\t#Air pressure in kPa\n",
    "T1 = 290.;\t\t\t#Air temperature in K\n",
    "V1 = 600.*(10**-6);\t\t\t#Volume of air in m**3\n",
    "T4 = 800.;\t\t\t#Final temperature in K\n",
    "R = 287.;\t\t\t#Universal gas constant in J/kg.K\n",
    "Cv = 0.718;\t\t\t#Specific heat at constant volume in kJ/kg.K\n",
    "y = 1.4;\t\t\t#Ratio of specific heats\n",
    "\n",
    "# Calculations\n",
    "T3 = T4*(rv**(y-1));\t\t\t#Temperature at the end of constant volume heat addition in K\n",
    "P2 = P1*(rv**y);\t\t\t#Pressure at point 2 in kPa\n",
    "T2 = T1*(rv**(y-1));\t\t\t#Temperature at point 2 in K\n",
    "P3 = P2*(T3/T2);\t\t\t#Pressure at point 3 in kPa\n",
    "m = (P1*1000*V1)/(R*T1);\t\t\t#Specific mass in kg/s\n",
    "Q = m*Cv*(T3-T2);\t\t\t#Heat transferred in kJ\n",
    "n = (1-(1/rv**(y-1)))*100;\t\t\t#Thermal efficiency\n",
    "Wnet = (n*Q)/100;\t\t\t#Net workdone in kJ\n",
    "MEP = Wnet/(V1*(1-(1/rv)));\t\t\t#Mean effective pressure in kPa\n",
    "\n",
    "# Results\n",
    "print 'Maximum pressure of the cycle is %3.2f kPa  \\\n",
    "\\nMaximum temperature of the cycle is %3.1f K  \\\n",
    "\\nAmount of heat transferred is %3.2f kJ  \\\n",
    "\\nThermal efficiency is %3.1f percent  \\\n",
    "\\nMean effective pressure is %3.1f kPa'%(P3,T3,Q,n,MEP)\n",
    "\n",
    "# rounding off error"
   ]
  },
  {
   "cell_type": "markdown",
   "metadata": {},
   "source": [
    "## Example 2.5  Page no : 60"
   ]
  },
  {
   "cell_type": "code",
   "execution_count": 5,
   "metadata": {
    "collapsed": false
   },
   "outputs": [
    {
     "name": "stdout",
     "output_type": "stream",
     "text": [
      "Pressure at the end of heat addition process is 4392.3 kPa\n",
      "Temperature at the end of heat addition process is 1733.8 K\n",
      "Net work output is 423.54 kJ/kg\n",
      "Thermal efficiency is 56.47 percent\n",
      "Mean effective pressure is 534 kPa\n"
     ]
    }
   ],
   "source": [
    "\n",
    "\n",
    "# Variables\n",
    "rv = 8.;\t\t\t#Compression ratio\n",
    "P1 = 95.;\t\t\t#Pressure at point 1 in kPa\n",
    "T1 = 300.;\t\t\t#Temperature at point 1 in K\n",
    "q23 = 750.;\t\t\t#Heat transferred during consmath.tant volume heat addition process in kJ/kg\n",
    "y = 1.4;\t\t\t#Ratio of specific heats\n",
    "Cv = 0.718;\t\t\t#Specific heat at constant volume in kJ/kg-K\n",
    "R = 287.;\t\t\t#Universal gas constant in J/kg-K\n",
    "\n",
    "# Calculations\n",
    "T2 = T1*(rv**(y-1));\t\t\t#Temperature at point 2 in K\n",
    "P2 = P1*(rv**y);\t\t\t#Pressure at point 2 in kPa\n",
    "T3 = (q23/Cv)+T2;\t\t\t#Temperature at point 3 in K\n",
    "P3 = P2*(T3/T2);\t\t\t#Pressure at point 3 in kPa\n",
    "nth = (1-(1/(rv**(y-1))))*100;\t\t\t#Thermal efficiency\n",
    "Wnet = (nth*q23)/100;\t\t\t#Net work output in kJ/kg\n",
    "v1 = (R*T1)/(P1*1000);\t\t\t#Speific volume at point 1 in (m**3)/kg\n",
    "MEP = Wnet/(v1*(1-(1/rv)));\t\t\t#Mean effective pressure in kPa\n",
    "\n",
    "# Results\n",
    "print 'Pressure at the end of heat addition process is %3.1f kPa'%P3\n",
    "print 'Temperature at the end of heat addition process is %3.1f K'%T3\n",
    "print 'Net work output is %3.2f kJ/kg'%Wnet\n",
    "print 'Thermal efficiency is %3.2f percent'%nth\n",
    "print 'Mean effective pressure is %3.0f kPa'%MEP\n"
   ]
  },
  {
   "cell_type": "markdown",
   "metadata": {},
   "source": [
    "## Example 2.6  Page no : 61"
   ]
  },
  {
   "cell_type": "code",
   "execution_count": 6,
   "metadata": {
    "collapsed": false
   },
   "outputs": [
    {
     "name": "stdout",
     "output_type": "stream",
     "text": [
      "Air standard efficiency is 60.4 percent\n"
     ]
    }
   ],
   "source": [
    "\n",
    "# Variables\n",
    "rv = 14.;\t\t\t#Compression ratio\n",
    "c = 0.06;\t\t\t#Cut-off percentage\n",
    "y = 1.4;\t\t\t#Ratio of specific heats\n",
    "\n",
    "# Calculations\n",
    "rc = 1.78;\t\t\t#Cut-off ratio\n",
    "nth = (1-(((rc**y)-1)/((rv**(y-1))*y*(rc-1))))*100;\t\t\t#Thermal efficiency\n",
    "\n",
    "# Results\n",
    "print 'Air standard efficiency is %3.1f percent'%(nth)\n"
   ]
  },
  {
   "cell_type": "markdown",
   "metadata": {},
   "source": [
    "## Example 2.7  Page no : 62"
   ]
  },
  {
   "cell_type": "code",
   "execution_count": 8,
   "metadata": {
    "collapsed": false
   },
   "outputs": [
    {
     "name": "stdout",
     "output_type": "stream",
     "text": [
      "Cut-off ratio is 2.01  \n",
      "Heat supplied is 884.4 kJ/kg\n",
      "Cycle efficiency is 61.3 percent  \n",
      "Mean effective pressure is 699.35 kPa\n"
     ]
    }
   ],
   "source": [
    "\n",
    "\n",
    "# Variables\n",
    "rv = 16.;\t\t\t#Compression ratio\n",
    "P1 = 0.1;\t\t\t#Pressure at point 1 in MPa\n",
    "T1 = 288.;\t\t\t#Temperature at point 1 in K\n",
    "T3 = 1753.;\t\t\t#Temperature at point 3 in K\n",
    "y = 1.4;\t\t\t#Ratio of specific heats\n",
    "Cp = 1.005;\t\t\t#Specific heat at constant pressure in kJ/kg-K\n",
    "R = 0.287;\t\t\t#Universal gas constant in kJ/kg-K\n",
    "\n",
    "# Calculations\n",
    "T2 = int(T1*(rv**(y-1)));\t\t\t#Temperature at point 2 in K\n",
    "rc = round(T3/T2,2);\t\t\t#Cut-off ratio\n",
    "q1 = Cp*(T3-T2);\t\t\t#Heat supplied in kJ/kg\n",
    "nth = (1-(((rc**y)-1)/((rv**(y-1))*y*(rc-1))))*100;\t\t\t#Cycle efficiency\n",
    "wnet = int((q1*nth)/100);\t\t\t#Net work done in kJ/kg\n",
    "v1 = round((R*T1)/(P1*1000),3);\t\t\t#Speific volume at point 1 in (m**3)/kg\n",
    "v2 = round(v1/rv,3);\t\t\t#Speific volume at point 2 in (m**3)/kg\n",
    "MEP = wnet/(v1-v2);\t\t\t#Mean effective pressure in kPa\n",
    "\n",
    "# Results\n",
    "print 'Cut-off ratio is %3.2f  \\\n",
    "\\nHeat supplied is %3.1f kJ/kg\\\n",
    "\\nCycle efficiency is %3.1f percent  \\\n",
    "\\nMean effective pressure is %3.2f kPa'%(rc,q1,nth,MEP)\n",
    "\n",
    "# rounding off error"
   ]
  },
  {
   "cell_type": "markdown",
   "metadata": {},
   "source": [
    "## Example 2.8  Page no : 64"
   ]
  },
  {
   "cell_type": "code",
   "execution_count": 8,
   "metadata": {
    "collapsed": false
   },
   "outputs": [
    {
     "name": "stdout",
     "output_type": "stream",
     "text": [
      "Air standard efficiency at 5 percent cut-off is 59.36 percent\n",
      "Air standard efficiency at 8 percent cut-off is 57.40 percent\n",
      "Percentage loss in efficiency is 1.95 percent\n"
     ]
    }
   ],
   "source": [
    "\n",
    "\n",
    "# Variables\n",
    "d = 0.15;\t\t\t#Bore in m\n",
    "L = 0.25;\t\t\t#Stroke in m\n",
    "Vc = 400*(10**-6);\t\t\t#Clearance volume in m**3\n",
    "V2 = Vc;\t\t\t#Clearance volume in m**3\n",
    "c1 = 0.05;\t\t\t#Cut-off percentage 1\n",
    "c2 = 0.08;\t\t\t#Cut-off percentage 2\n",
    "y = 1.4;\t\t\t#Ratio of specific heats\n",
    "\n",
    "# Calculations\n",
    "Vs = (3.147/4)*(d**2)*L;\t\t\t#Stroke volume in m**3\n",
    "V31 = V2+(c1*Vs);\t\t\t#Volume at the point of cut-off in m**3\n",
    "rc1 = V31/V2;\t\t\t#Cut-off ratio 1\n",
    "rv = (Vc+Vs)/Vc;\t\t\t#Compression ratio\n",
    "nth1 = (1-(((rc1**y)-1)/((rv**(y-1))*y*(rc1-1))))*100;\t\t\t#Air standard efficiency 1\n",
    "V32 = V2+(c2*Vs);\t\t\t#Volume at the point of cut-off in m**3\n",
    "rc2 = V32/V2;\t\t\t#Cut-off ratio 2\n",
    "nth2 = (1-(((rc2**y)-1)/((rv**(y-1))*y*(rc2-1))))*100;\t\t\t#Air standard efficiency 2\n",
    "pl = nth1-nth2;\t\t\t#Percentage loss in efficiency\n",
    "\n",
    "# Results\n",
    "print 'Air standard efficiency at 5 percent cut-off is %3.2f percent\\\n",
    "\\nAir standard efficiency at 8 percent cut-off is %3.2f percent\\\n",
    "\\nPercentage loss in efficiency is %3.2f percent'%(nth1,nth2,pl)\n"
   ]
  },
  {
   "cell_type": "markdown",
   "metadata": {},
   "source": [
    "## Example 2.9  Page no : 65"
   ]
  },
  {
   "cell_type": "code",
   "execution_count": 9,
   "metadata": {
    "collapsed": false
   },
   "outputs": [
    {
     "name": "stdout",
     "output_type": "stream",
     "text": [
      "Maximum temperature attained during the cycle is 1595.4 oC  \n",
      "Thermal efficiency of the cycle is 60.3 percent\n"
     ]
    }
   ],
   "source": [
    "\n",
    "\n",
    "# Variables\n",
    "e = 7.5;\t\t\t#Expansion ratio\n",
    "c = 15.;\t\t\t#Compression ratio\n",
    "P1 = 98.;\t\t\t#Pressure at point 1 in kN/(m**2)\n",
    "P4 = 258.;\t\t\t#Pressure at point 4 in kN/(m**2)\n",
    "T1 = 317.;\t\t\t#Temperature at point 1 in K\n",
    "y = 1.4;\t\t\t#Ratio of specific heats\n",
    "\n",
    "# Calculations\n",
    "T4 = T1*(P4/P1);\t\t\t#Temperature at point 4 in K\n",
    "T3 = T4*(e**(y-1));\t\t\t#Temperature at point 3 in K\n",
    "t3 = T3-273;\t\t\t#Temperature at point 3 in oC\n",
    "T2 = T1*(c**(y-1));\t\t\t#Temperature at point 2 in K\n",
    "n = (1-((T4-T1)/(y*(T3-T2))))*100;\t\t\t#Thermal efficiency\n",
    "\n",
    "# Results\n",
    "print 'Maximum temperature attained during the cycle is %3.1f oC  \\\n",
    "\\nThermal efficiency of the cycle is %3.1f percent'%(t3,n)\n",
    "\n",
    "# rounding off error"
   ]
  },
  {
   "cell_type": "markdown",
   "metadata": {},
   "source": [
    "## Example 2.10  Page no : 66"
   ]
  },
  {
   "cell_type": "code",
   "execution_count": 11,
   "metadata": {
    "collapsed": false
   },
   "outputs": [
    {
     "name": "stdout",
     "output_type": "stream",
     "text": [
      "Thermal efficiency is 63.5 percent  \n",
      "Mean effective pressure is 933 kPa\n"
     ]
    }
   ],
   "source": [
    "\n",
    "# Variables\n",
    "rv = 20.;\t\t\t#Compression ratio\n",
    "P1 = 95.;\t\t\t#Pressure at point 1 in kPa\n",
    "T1 = 293.;\t\t\t#Temperature at point 1 in K\n",
    "T3 = 2200.;\t\t\t#Temperature at point 3 in K\n",
    "y = 1.4;\t\t\t#Ratio of specific heats\n",
    "R = 287.;\t\t\t#Universal gas constant in J/kg-K\n",
    "Cp = 1.005;\t\t\t#Specific heat at constant pressure in kJ/kg-K\n",
    "\n",
    "# Calculations\n",
    "P2 = P1*(rv**y);\t\t\t#Pressure at point 2 in kPa\n",
    "T2 = T1*(rv**(y-1));\t\t\t#Temperature at point 2 in K\n",
    "v2 = (R*T2)/(P2*1000);\t\t\t#Specific volume at point 2 in (m**3)/kg\n",
    "v3 = v2*(T3/T2);\t\t\t#Specific volume at point 3 in (m**3)/kg\n",
    "rc = v3/v2;\t\t\t#Cut-off ratio\n",
    "nth = (1-(((rc**y)-1)/((rv**(y-1))*y*(rc-1))))*100;\t\t\t#Thermal efficiency\n",
    "q23 = Cp*(T3-T2);\t\t\t#Heat flow between points 2 and 3 in kJ/kg\n",
    "wnet = (nth*q23)/100;\t\t\t#Net workdone in kJ/kg\n",
    "MEP = wnet/(v2*(rv-1));\t\t\t#Mean effective pressure in kPa\n",
    "\n",
    "# Results\n",
    "print 'Thermal efficiency is %3.1f percent  \\\n",
    "\\nMean effective pressure is %.f kPa'%(nth,MEP)\n",
    "\n",
    "# rounding off error"
   ]
  },
  {
   "cell_type": "markdown",
   "metadata": {},
   "source": [
    "## Example 2.11  Page no : 68"
   ]
  },
  {
   "cell_type": "code",
   "execution_count": 11,
   "metadata": {
    "collapsed": false
   },
   "outputs": [
    {
     "name": "stdout",
     "output_type": "stream",
     "text": [
      "Cut-off ratio is   2  \n",
      "Air standard efficiency is 65.36 percent\n"
     ]
    }
   ],
   "source": [
    "\n",
    "# Variables\n",
    "rv = 21.;\t\t\t#Compression ratio\n",
    "re = 10.5;\t\t\t#Expansion ratio\n",
    "y = 1.4;\t\t\t#Ratio of specific heats\n",
    "\n",
    "# Calculations\n",
    "rc = rv/re;\t\t\t#Cut-off ratio\n",
    "nth = (1-(((rc**y)-1)/((rv**(y-1))*y*(rc-1))))*100;\t\t\t#Air standard efficiency\n",
    "\n",
    "# Results\n",
    "print 'Cut-off ratio is %3.0f  \\\n",
    "\\nAir standard efficiency is %3.2f percent'%(rc,nth)\n"
   ]
  },
  {
   "cell_type": "markdown",
   "metadata": {},
   "source": [
    "## Example 2.12  Page no : 69"
   ]
  },
  {
   "cell_type": "code",
   "execution_count": 12,
   "metadata": {
    "collapsed": false
   },
   "outputs": [
    {
     "name": "stdout",
     "output_type": "stream",
     "text": [
      "Ideal efficiency of engine is 61.5 percent\n"
     ]
    }
   ],
   "source": [
    "\n",
    "# Variables\n",
    "rv = 16.;\t\t\t#Compression ratio\n",
    "rp = 1.5;\t\t\t#Pressure ratio\n",
    "y = 1.4;\t\t\t#Ratio of specific heats\n",
    "cp = 8;\t\t\t#Cut-off percentage\n",
    "\n",
    "# Calculations\n",
    "rc = 2.2;\t\t\t#Cut-off ratio\n",
    "ntd = (1-((rp*(rc**y)-1)/((rv**(y-1)*((rp-1)+(y*rp*(rc-1)))))))*100;\t\t\t#Dual cycle efficiency\n",
    "\n",
    "# Results\n",
    "print 'Ideal efficiency of engine is %3.1f percent'%(ntd)\n"
   ]
  },
  {
   "cell_type": "markdown",
   "metadata": {},
   "source": [
    "## Example 2.13  Page no : 69"
   ]
  },
  {
   "cell_type": "code",
   "execution_count": 13,
   "metadata": {
    "collapsed": false
   },
   "outputs": [
    {
     "name": "stdout",
     "output_type": "stream",
     "text": [
      "Ideal efficiency of the engine is 62.2 percent\n"
     ]
    }
   ],
   "source": [
    "\n",
    "# Variables\n",
    "d = 0.2;\t\t\t#Bore in m\n",
    "L = 0.5;\t\t\t#Stroke in m\n",
    "c = 0.06;\t\t\t#Cut-off percentage\n",
    "y = 1.4;\t\t\t#Ratio of specific heats\n",
    "rv = 15.;\t\t\t#Compression ratio\n",
    "rp = 1.4;\t\t\t#Pressure ratio\n",
    "\n",
    "# Calculations\n",
    "Vs = (3.147/4)*(d**2)*L;\t\t\t#Stroke volume in m**3\n",
    "DV = c*Vs;\t\t\t#Difference in volumes at points 4 and 3\n",
    "V3 = Vs/(rv-1);\t\t\t#Specific volume at point 3 in m**3\n",
    "V4 = V3+DV;\t\t\t#Specific volume at point 4 in m**3\n",
    "rc = V4/V3;\t\t\t#Cut-off ratio\n",
    "ntd = (1-((rp*(rc**y)-1)/((rv**(y-1)*((rp-1)+(y*rp*(rc-1)))))))*100;\t\t\t#Ideal efficiency\n",
    "\n",
    "# Results\n",
    "print 'Ideal efficiency of the engine is %3.1f percent'%(ntd)\n"
   ]
  },
  {
   "cell_type": "markdown",
   "metadata": {},
   "source": [
    "## Example 2.14  Page no : 70"
   ]
  },
  {
   "cell_type": "code",
   "execution_count": 12,
   "metadata": {
    "collapsed": false
   },
   "outputs": [
    {
     "name": "stdout",
     "output_type": "stream",
     "text": [
      "Amount of heat added is 1742.1 kJ/kg  \n",
      "Amount of heat rejected is 772.91 kJ/kg  \n",
      "Workdone per cycle is 12.23 kJ/cycle  \n",
      "Thermal efficiency is 55.63 percent\n"
     ]
    }
   ],
   "source": [
    "\n",
    "\n",
    "# Variables\n",
    "d = 0.2;\t\t\t#Bore in m\n",
    "L = 0.3;\t\t\t#Stroke in m\n",
    "c = 0.04;\t\t\t#Cut-off percentage\n",
    "y = 1.4;\t\t\t#Ratio of specific heats\n",
    "rv = 8.;\t\t\t#Compression ratio\n",
    "P1 = 1.;\t\t\t#Pressure at point 1 in bar\n",
    "P3 = 60.;\t\t\t#Pressure at point 3 in bar\n",
    "T1 = 298.;\t\t\t#Temperature at point 1 in K\n",
    "R = 287.;\t\t\t#Universal gas constant in J/kg\n",
    "Cv = 0.718;\t\t\t#Speific heat at constant volume in kJ/kg-K\n",
    "Cp = 1.005;\t\t\t#Speific heat at constant pressure in kJ/kg-K\n",
    "\n",
    "# Calculations\n",
    "Vs = (3.147/4)*(d**2)*L;\t\t\t#Stroke volume in m**3\n",
    "V2 = Vs/(rv-1);\t\t\t#Specific volume at point 2 in m**3\n",
    "V3 = V2;\t\t\t#Specific volume at point 3 in m**3\n",
    "V1 = V2+Vs;\t\t\t#Specific volume at pont 1 in m**3\n",
    "V5 = V1;\t\t\t#Specific volume at pont 5 in m**3\n",
    "P2 = P1*(rv**y);\t\t\t#Pressure at point 2 in bar\n",
    "T2 = T1*(rv**(y-1));\t\t\t#Temperature at point 2 in K\n",
    "T3 = T2*(P3/P2);\t\t\t#Temperature at point 3 in K\n",
    "V4 = V3+(c*(V1-V2));\t\t\t#Specific volume at point 4 in m**3\n",
    "T4 = T3*(V4/V3);\t\t\t#Temperature at point 4 in K\n",
    "T5 = T4*((V4/V5)**(y-1));\t\t\t#Temperature at point 5 in K\n",
    "q1 = (Cv*(T3-T2))+(Cp*(T4-T3));\t\t\t#Heat added in kJ/kg\n",
    "q2 = Cv*(T5-T1);\t\t\t#Heat rejected in kJ/kg\n",
    "nth = (1-(q2/q1))*100;\t\t\t#Thermal efficiency\n",
    "m = (P1*V1*(10**5))/(R*T1);\t\t\t#Mass of air supplied in kg\n",
    "W = m*(q1-q2);\t\t\t#Workdone in kJ/cycle\n",
    "\n",
    "# Results\n",
    "print 'Amount of heat added is %3.1f kJ/kg  \\\n",
    "\\nAmount of heat rejected is %3.2f kJ/kg  \\\n",
    "\\nWorkdone per cycle is %3.2f kJ/cycle  \\\n",
    "\\nThermal efficiency is %3.2f percent'%(q1,q2,W,nth)\n",
    "\n",
    "# rounding off error"
   ]
  },
  {
   "cell_type": "markdown",
   "metadata": {},
   "source": [
    "## Example 2.15  Page no : 72"
   ]
  },
  {
   "cell_type": "code",
   "execution_count": 15,
   "metadata": {
    "collapsed": false
   },
   "outputs": [
    {
     "name": "stdout",
     "output_type": "stream",
     "text": [
      "Mean effective pressure is 19.78 bar\n",
      "Thermal efficiency is 56.48 percent\n"
     ]
    }
   ],
   "source": [
    "\n",
    "\n",
    "# Variables\n",
    "P1 = 1.;\t\t\t#Pressure at point 1 in bar\n",
    "P3 = 70.;\t\t\t#Pressure at point 3 in bar\n",
    "T1 = 310.;\t\t\t#Temperature at point 1 in K\n",
    "rv = 10.;\t\t\t#Compression ratio\n",
    "y = 1.4;\t\t\t#Ratio of specific heats\n",
    "qin = 2805.;\t\t\t#Heat added in kJ/kg\n",
    "m = 1.;\t\t\t#Mass of air in kg\n",
    "R = 287.;\t\t\t#Universal gas constant in J/kg\n",
    "Cv = 0.718;\t\t\t#Speific heat at constant volume in kJ/kg-K\n",
    "Cp = 1.005;\t\t\t#Speific heat at constant pressure in kJ/kg-K\n",
    "\n",
    "# Calculations\n",
    "V1 = (m*R*T1)/(P1*(10**5));\t\t\t#Volume at point 1 in m**3\n",
    "T2 = T1*(rv**(y-1));\t\t\t#Temperature at point 2 in K\n",
    "P2 = P1*(rv**y);\t\t\t#Pressure at point 2 in K\n",
    "T3 = T2*(P3/P2);\t\t\t#Temperature at point 3 in K\n",
    "q23 = Cv*(T3-T2);\t\t\t#Heat supplied at constant volume in kJ/kg\n",
    "q34 = qin-q23;\t\t\t#Heat supplied at constant pressure in kJ/kg\n",
    "T4 = (q34/Cp)+T3;\t\t\t#Temperature at point 4 in K\n",
    "V2 = V1/rv;\t\t\t#Volume at point 2 in m**3\n",
    "V4 = V2*(T4/T3);\t\t\t#Volume at point 4 in m**3\n",
    "V5 = V1;\t\t\t#Volume at point 5 in m**3\n",
    "T5 = T4*((V4/V5)**(y-1));\t\t\t#Temperature at point 5 in K\n",
    "qout = Cv*(T5-T1);\t\t\t#Heat rejected in kJ/kg\n",
    "nth = (1-(qout/qin))*100;\t\t\t#Thermal efficiency\n",
    "W = qin-qout;\t\t\t#Workdone in kJ/kg\n",
    "Vs = V1*(1-(1/rv));\t\t\t#Swept volume in (m**3)/kg\n",
    "MEP = (W/Vs)/100;\t\t\t#Mean effective pressure in bar\n",
    "\n",
    "# Results\n",
    "print 'Mean effective pressure is %3.2f bar\\\n",
    "\\nThermal efficiency is %3.2f percent'%(MEP,nth)"
   ]
  },
  {
   "cell_type": "markdown",
   "metadata": {},
   "source": [
    "## Example 2.16  Page no : 74"
   ]
  },
  {
   "cell_type": "code",
   "execution_count": 17,
   "metadata": {
    "collapsed": false
   },
   "outputs": [
    {
     "name": "stdout",
     "output_type": "stream",
     "text": [
      "Cycle efficiency is 26.94 percent  \n",
      "Heat supplied to air is 517.7 kJ/kg  \n",
      "Work available at the shaft is 139.47 kJ/kg\n",
      "Heat rejected in the cooler is 378.23 kJ/kg  \n",
      "Turbine exit temperature is 674.34 K\n"
     ]
    }
   ],
   "source": [
    "\n",
    "\n",
    "# Variables\n",
    "P1 = 1.;\t\t\t#Pressure at point 1 in bar\n",
    "T1 = 298.;\t\t\t#Temperature at point 1 in K\n",
    "P2 = 3.;\t\t\t#Pressure at point 2 in bar\n",
    "T3 = 923.;\t\t\t#Temperature at point 3 in K\n",
    "y = 1.4;\t\t\t#Ratio of specific heats\n",
    "Cp = 1.005;\t\t\t#Speific heat at constant pressure in kJ/kg-K\n",
    "\n",
    "# Calculations\n",
    "x = (y-1)/y;\t\t\t#Ratio\n",
    "rp = P2/P1;\t\t\t#Pressure ratio\n",
    "nth = (1-(1/(rp**x)))*100;\t\t\t#Cycle efficiency\n",
    "T2 = T1*(rp**x);\t\t\t#Temperature at point 2 in K\n",
    "q1 = Cp*(T3-T2);\t\t\t#Heat supplied in kJ/kg\n",
    "Wout = (nth*q1)/100;\t\t\t#Work output in kJ/kg\n",
    "q2 = q1-Wout;\t\t\t#Heat rejected in kJ/kg\n",
    "T4 = T3*((1/rp)**x);\t\t\t#Temperature at point 4 in K\n",
    "\n",
    "# Results\n",
    "print 'Cycle efficiency is %3.2f percent  \\\n",
    "\\nHeat supplied to air is %3.1f kJ/kg  \\\n",
    "\\nWork available at the shaft is %3.2f kJ/kg\\\n",
    "\\nHeat rejected in the cooler is %3.2f kJ/kg  \\\n",
    "\\nTurbine exit temperature is %3.2f K'%(nth,q1,Wout,q2,T4)\n"
   ]
  },
  {
   "cell_type": "markdown",
   "metadata": {},
   "source": [
    "## Example 2.17  Page no : 75"
   ]
  },
  {
   "cell_type": "code",
   "execution_count": 14,
   "metadata": {
    "collapsed": false
   },
   "outputs": [
    {
     "name": "stdout",
     "output_type": "stream",
     "text": [
      "Optimum pressure ratio is 14.74  \n",
      "Maximum net specific work output 401 kJ/kg  \n",
      "Thermal efficiency  54 percent  \n",
      "Work ratio is 0.54  \n",
      "Carnot efficiency is  79 percent\n"
     ]
    }
   ],
   "source": [
    "\n",
    "import math\n",
    "\n",
    "# Variables\n",
    "T1 = 283.;\t\t\t#Temperature at point 1 in K\n",
    "T3 = 1353.;\t\t\t#Temperature at point 3 in K\n",
    "y = 1.41;\t\t\t#Ratio of specific heats\n",
    "Cp = 1.007;\t\t\t#Specific heat constant pressure in kJ/kg-K\n",
    "\n",
    "# Calculations\n",
    "x = (y-1)/y;\t            \t\t#Ratio\n",
    "rpmax = ((T3/T1)**(1/x));\t\t\t#Maximum pressure ratio\n",
    "rpopt = math.sqrt(rpmax);\t\t\t#Optimum pressure ratio\n",
    "T2 = T1*(rpopt**x);\t        \t\t#Temperature at point 2 in K\n",
    "T4 = T2;\t\t\t                #Maximum temperature at point 4 in K\n",
    "Wmax = Cp*((T3-T4)-(T2-T1));\t\t\t#Maximum net specific work output in kJ/kg\n",
    "nth = (Wmax/(Cp*(T3-T2)))*100;\t\t\t#Thermal efficiency\n",
    "WR = nth/100;           \t\t\t#Work ratio\n",
    "nc = ((T3-T1)/T3)*100;\t    \t\t#Carnot efficiency\n",
    "\n",
    "# Results\n",
    "print 'Optimum pressure ratio is %3.2f  \\\n",
    "\\nMaximum net specific work output %3.0f kJ/kg  \\\n",
    "\\nThermal efficiency %3.0f percent  \\\n",
    "\\nWork ratio is %3.2f  \\\n",
    "\\nCarnot efficiency is %3.0f percent'%(rpopt,Wmax,nth,WR,nc)\n",
    "\n",
    "# rounding off error. please check."
   ]
  },
  {
   "cell_type": "markdown",
   "metadata": {},
   "source": [
    "## Example 2.18  Page no : 76"
   ]
  },
  {
   "cell_type": "code",
   "execution_count": 20,
   "metadata": {
    "collapsed": false
   },
   "outputs": [
    {
     "name": "stdout",
     "output_type": "stream",
     "text": [
      "Maximum work per kg of air is 239.47 kJ/kg  \n",
      "Cycle efficiency is  47 percent\n",
      "Ratio of brayton cycle efficiency to carnot efficieny is 0.654\n"
     ]
    }
   ],
   "source": [
    "\n",
    "\n",
    "# Variables\n",
    "Tmin = 300.;\t\t\t#Minimum temperature in K\n",
    "Tmax = 1073.;\t\t\t#Maximum temperature in K\n",
    "Cp = 1.005;\t\t\t#Specific heat at constant pressure in kJ/kg-K\n",
    "\n",
    "# Calculations\n",
    "Wmax = Cp*((math.sqrt(Tmax)-math.sqrt(Tmin))**2);\t\t\t#Maximum work output in kJ/kg\n",
    "nB = (1-math.sqrt(Tmin/Tmax))*100;\t\t\t#Brayton cycle efficiency\n",
    "nC = (1-(Tmin/Tmax))*100;\t\t        \t#Carnot efficiency\n",
    "r = nB/nC;\t                    \t\t    #Ratio of brayton cycle efficiency to carnot efficieny\n",
    "\n",
    "# Results\n",
    "print 'Maximum work per kg of air is %3.2f kJ/kg  \\\n",
    "\\nCycle efficiency is %3.0f percent\\\n",
    "\\nRatio of brayton cycle efficiency to carnot efficieny is %3.3f'%(Wmax,nB,r)\n"
   ]
  },
  {
   "cell_type": "markdown",
   "metadata": {},
   "source": [
    "## Example 2.19  Page no : 77"
   ]
  },
  {
   "cell_type": "code",
   "execution_count": 21,
   "metadata": {
    "collapsed": false
   },
   "outputs": [
    {
     "name": "stdout",
     "output_type": "stream",
     "text": [
      "Net power output of the turbine is 1014 kW  \n",
      "Thermal efficiency of the plant is  32 percent\n",
      "Work ratio is 0.446\n"
     ]
    }
   ],
   "source": [
    "\n",
    "\n",
    "# Variables\n",
    "T1 = 291.;\t\t\t#Temperature at point 1 in K\n",
    "P1 = 100.;\t\t\t#Pressure at point 1 in kN/(m**2)\n",
    "nC = 0.85;\t\t\t#Isentropic efficiency of compressor\n",
    "nT = 0.88;\t\t\t#Isentropic effficiency of turbine\n",
    "rp = 8.;\t\t\t#Pressure ratio\n",
    "T3 = 1273.;\t\t\t#Temperature at point 3 in K\n",
    "m = 4.5;\t\t\t#Mass flow rate of air in kg/s\n",
    "y = 1.4;\t\t\t#Ratio of speciifc heats\n",
    "Cp = 1.006;\t\t\t#Specific heat at constant pressure in kJ/kg-K\n",
    "\n",
    "# Calculations\n",
    "x = (y-1)/y;\t\t\t#Ratio\n",
    "T2s = T1*(rp**x);\t\t\t#Temperature at point 2s in K\n",
    "T2 = T1+((T2s-T1)/nC);\t\t\t#Temperature at point 2 in K\n",
    "t2 = T2-273;\t\t\t#Temperature at point 2 in oC\n",
    "T4s = T3*((1/rp)**x);\t\t\t#Temperature at point 4s in K\n",
    "T4 = T3-((T3-T4s)*nT);\t\t\t#Temperature at point 4 in K\n",
    "t4 = T4-273;\t\t\t#Temperature at point 4 in oC\n",
    "W = m*Cp*((T3-T4)-(T2-T1));\t\t\t#Net power output in kW\n",
    "nth = (((T3-T4)-(T2-T1))/(T3-T2))*100;\t\t\t#Thermal efficiency\n",
    "WR = W/(m*Cp*(T3-T4));\t\t\t#Work ratio\n",
    "\n",
    "# Results\n",
    "print 'Net power output of the turbine is %3.0f kW  \\\n",
    "\\nThermal efficiency of the plant is %3.0f percent\\\n",
    "\\nWork ratio is %3.3f'%(W,nth,WR)\n",
    "\n"
   ]
  },
  {
   "cell_type": "markdown",
   "metadata": {},
   "source": [
    "## Example 2.20  Page no : 79"
   ]
  },
  {
   "cell_type": "code",
   "execution_count": 1,
   "metadata": {
    "collapsed": false
   },
   "outputs": [
    {
     "name": "stdout",
     "output_type": "stream",
     "text": [
      "Percentage increase in the cycle efficiency due to regeneration is 41.41 percent\n"
     ]
    }
   ],
   "source": [
    "\n",
    "# Variables\n",
    "P1 = 0.1;\t\t\t#Pressure at point 1 in MPa\n",
    "T1 = 303.;\t\t\t#Temperature at point 1 in K\n",
    "T3 = 1173.;\t\t\t#Temperature at point 3 in K\n",
    "rp = 6.; \t\t\t#Pressure ratio\n",
    "nC = 0.8;\t\t\t#Compressor efficiency\n",
    "nT = nC;\t\t\t#Turbine efficiency\n",
    "e = 0.75;\t\t\t#Regenerator effectiveness\n",
    "y = 1.4;\t\t\t#Ratio of specific heats\n",
    "Cp = 1.005;\t\t\t#Specific heat at constant pressure in kJ/kg-K\n",
    "\n",
    "# Calculations\n",
    "x = (y-1)/y;    \t\t\t#Ratio\n",
    "T2s = T1*(rp**x);\t\t\t#Temperature at point 2s in K\n",
    "T4s = T3/(rp**x);\t\t\t#Temperature at point 4s in K\n",
    "DTa = (T2s-T1)/nC;\t\t\t#Difference in temperatures at point 2 and 1 in K\n",
    "DTb = (T3-T4s)*nT;\t\t\t#Difference in temperatures at point 3 and 4 in K\n",
    "wT = Cp*DTb;\t    \t\t#Turbine work in kJ/kg\n",
    "wC = Cp*DTa;\t\t    \t#Compressor work in kJ/kg\n",
    "T2 = DTa+T1;\t\t\t    #Temperature at point 2 in K\n",
    "q1 = Cp*(T3-T2);\t\t\t#Heat supplied in kJ/kg\n",
    "nth1 = ((wT-wC)/q1)*100;\t\t\t#Cycle efficiency without regenerator\n",
    "T4 = T3-DTb;\t\t    \t#Temperature at point 4 in K\n",
    "T5 = T2+(e*(T4-T2));\t\t\t#Temperature at point 5 in K\n",
    "q2 = Cp*(T3-T5);\t\t\t#Heat supplied with regenerator in kJ/kg\n",
    "nth2 = ((wT-wC)/q2)*100;\t\t\t#Cycle efficiency with regenerator\n",
    "p = ((nth2-nth1)/nth1)*100;\t\t\t#Percentage increase due to regeneration\n",
    "\n",
    "# Results\n",
    "print 'Percentage increase in the cycle efficiency due to regeneration is %3.2f percent'%(p)\n",
    "\n",
    "# rounding off error. please check."
   ]
  },
  {
   "cell_type": "markdown",
   "metadata": {},
   "source": [
    "## Example 2.21  Page no : 80"
   ]
  },
  {
   "cell_type": "code",
   "execution_count": 23,
   "metadata": {
    "collapsed": false
   },
   "outputs": [
    {
     "name": "stdout",
     "output_type": "stream",
     "text": [
      "Velocity of air leaving the nozzle is 712.5 m/s\n"
     ]
    }
   ],
   "source": [
    "\n",
    "# Variables\n",
    "P1 = 1.;\t\t\t#Pressure at point 1 in atm\n",
    "P3 = 5.;\t\t\t#Pressure at point 3 in atm\n",
    "T1 = 288.;\t\t\t#Temperature at point 1 in K\n",
    "T4 = 1143.;\t\t\t#Temperature at point 4 in K\n",
    "y = 1.4;\t\t\t#Ratio of specific heats\n",
    "Cp = 1.005;\t\t\t#Specific heat at constant pressure in kJ/kg-K\n",
    "\n",
    "# Calculations\n",
    "rp = P3/P1;\t\t\t#Pressure ratio\n",
    "x = round((y-1)/y,3);\t\t\t#Ratio\n",
    "rpx = round(rp**x,2)\n",
    "T3 = round(T1*(rpx));\t\t\t#Temperature at point 3 in K\n",
    "T5 = T4-(T3-T1);\t\t\t#Temperature at point 5 in K\n",
    "T6 = T4/(rpx);\t\t\t#Temperature at point 6 in K\n",
    "C6 = math.sqrt(2000*Cp*(T5-T6));\t\t\t#Velocity of air leaving the nozzle in m/s\n",
    "\n",
    "\n",
    "# Results\n",
    "print 'Velocity of air leaving the nozzle is %3.1f m/s'%(C6)\n",
    "\n",
    "# rounding error. Please check. there is rounding off error in book"
   ]
  },
  {
   "cell_type": "markdown",
   "metadata": {},
   "source": [
    "## Example 2.22  Page no : 81"
   ]
  },
  {
   "cell_type": "code",
   "execution_count": 24,
   "metadata": {
    "collapsed": false
   },
   "outputs": [
    {
     "name": "stdout",
     "output_type": "stream",
     "text": [
      "Pressure at the turbine exit is 374.2 kPa  \n",
      "Velocity of exhaust gases are 933.5 m/s  \n",
      "Propulsive efficiency is 26.9 percent\n"
     ]
    }
   ],
   "source": [
    "\n",
    "\n",
    "# Variables\n",
    "C1 = 280.;\t\t\t#Velocity of aircraft in m/s\n",
    "P1 = 48.;\t\t\t#Pressure at point 1 kPa\n",
    "T1 = 260.;\t\t\t#Temperature at point 1 in K\n",
    "rp = 13.;\t\t\t#Pressure ratio\n",
    "T4 = 1300.;\t\t\t#Temperature at point 4 in K\n",
    "Cp = 1005.;\t\t\t#Specific heat at constant pressure in J/kg\n",
    "y = 1.4;\t\t\t#Ratio of specific heats\n",
    "\n",
    "# Calculations\n",
    "x = (y-1)/y;\t\t\t#Ratio\n",
    "T2 = T1+((C1**2)/(2*Cp));\t\t\t#Temperature at point 2 in K\n",
    "P2 = P1*((T2/T1)**(1/x));\t\t\t#Pressure at point 2 in kPa\n",
    "P3 = rp*P2;\t\t\t#Pressure at point 3 in kPa\n",
    "P4 = P3;\t\t\t#Pressure at point 4 in kPa\n",
    "T3 = T2*(rp**x);\t\t\t#Temperature at point 3 in K\n",
    "T5 = T4-T3+T2;\t\t\t#Temperature at point 5 in K\n",
    "P5 = P4*((T5/T4)**(1/x));\t\t\t#Pressure at point 5 in kPa\n",
    "P6 = P1;\t\t\t#Pressure at point 6 in kPa\n",
    "T6 = T5*((P6/P5)**x);\t\t\t#Temperature at point 6 in K\n",
    "C6 = math.sqrt(2*Cp*(T5-T6));\t\t\t#Velocity of air at nozzle exit in m/s\n",
    "W = (C6-C1)*C1;\t\t\t#Propulsive power in J/kg\n",
    "Q = Cp*(T4-T3);\t\t\t#Total heat transfer rate in J/kg\n",
    "nP = (W/Q)*100;\t\t\t#Propulsive efficiency\n",
    "\n",
    "# Results\n",
    "print 'Pressure at the turbine exit is %3.1f kPa  \\\n",
    "\\nVelocity of exhaust gases are %3.1f m/s  \\\n",
    "\\nPropulsive efficiency is %3.1f percent'%(P5,C6,nP)\n",
    "\n"
   ]
  }
 ],
 "metadata": {
  "kernelspec": {
   "display_name": "Python 2",
   "language": "python",
   "name": "python2"
  },
  "language_info": {
   "codemirror_mode": {
    "name": "ipython",
    "version": 2
   },
   "file_extension": ".py",
   "mimetype": "text/x-python",
   "name": "python",
   "nbconvert_exporter": "python",
   "pygments_lexer": "ipython2",
   "version": "2.7.6"
  }
 },
 "nbformat": 4,
 "nbformat_minor": 0
}
