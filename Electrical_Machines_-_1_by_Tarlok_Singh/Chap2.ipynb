{
 "metadata": {
  "name": "",
  "signature": ""
 },
 "nbformat": 3,
 "nbformat_minor": 0,
 "worksheets": [
  {
   "cells": [
    {
     "cell_type": "heading",
     "level": 1,
     "metadata": {},
     "source": [
      "Chapter2 - DC Machines"
     ]
    },
    {
     "cell_type": "heading",
     "level": 2,
     "metadata": {},
     "source": [
      "Exam:2.3 page 60"
     ]
    },
    {
     "cell_type": "code",
     "collapsed": false,
     "input": [
      "from __future__ import division\n",
      "#Caption:Find the current per path of armature\n",
      "\n",
      "I_a=200 #rated armature current(in Amp)\n",
      "P=12 #number of poles in machine\n",
      "A_1=2 #number of parallel paths with wave winding\n",
      "A_2=P #number of parallel paths with lap winding\n",
      "I_1=I_a/A_1 #current per path in case of wave winding(in Amp)\n",
      "print 'current per path in case of wave winding = %0.2f A'%I_1\n",
      "I_2=I_a/A_2 #current per path in case of lap winding(in Amp)\n",
      "print 'current per path in case of lap winding = %0.2f A'%I_2"
     ],
     "language": "python",
     "metadata": {},
     "outputs": [
      {
       "output_type": "stream",
       "stream": "stdout",
       "text": [
        "current per path in case of wave winding = 100.00 A\n",
        "current per path in case of lap winding = 16.67 A\n"
       ]
      }
     ],
     "prompt_number": 1
    },
    {
     "cell_type": "heading",
     "level": 2,
     "metadata": {},
     "source": [
      "Exam:2.4 page 60"
     ]
    },
    {
     "cell_type": "code",
     "collapsed": false,
     "input": [
      "#Caption:Calculate the induced emf in machine \n",
      "N_1=500 #starting speed of machine(in rpm)\n",
      "E_1=200 #emf of the machine at N_1 (in V)\n",
      "N_2=600 #new speed of machine(in rpm)\n",
      "E_2=E_1*N_2/N_1 #emf of the machine atN_2 (in V)\n",
      "print 'induced emf while the machine is running at 600 rpm = %0.2f V '%E_2 "
     ],
     "language": "python",
     "metadata": {},
     "outputs": [
      {
       "output_type": "stream",
       "stream": "stdout",
       "text": [
        "induced emf while the machine is running at 600 rpm = 240.00 V \n"
       ]
      }
     ],
     "prompt_number": 2
    },
    {
     "cell_type": "heading",
     "level": 2,
     "metadata": {},
     "source": [
      "Exam:2.5 page 61"
     ]
    },
    {
     "cell_type": "code",
     "collapsed": false,
     "input": [
      "#Caption:calculate the generated emf\n",
      "S_1=80 #Number of armature slots \n",
      "S_2=6 #Number of conductor per slot\n",
      "Z=S_1*S_2 #Number of armature conductors\n",
      "F=50 #Flux per pole(in mWb)\n",
      "F_1=F*10**-3 #(in Wb)\n",
      "P=6 #Number of poles\n",
      "A=P #Number of parallel paths\n",
      "N=1200 #armature speed(in rpm)\n",
      "E_g=F_1*Z*N*P/(60*A) #EMF generated in 6 pole lap wound dc generator (in Volts)\n",
      "print 'EMF generated in 6 pole lap wound dc generator = %0.2f V'%E_g"
     ],
     "language": "python",
     "metadata": {},
     "outputs": [
      {
       "output_type": "stream",
       "stream": "stdout",
       "text": [
        "EMF generated in 6 pole lap wound dc generator = 480.00 V\n"
       ]
      }
     ],
     "prompt_number": 3
    },
    {
     "cell_type": "heading",
     "level": 2,
     "metadata": {},
     "source": [
      "Exam:2.6 page 61"
     ]
    },
    {
     "cell_type": "code",
     "collapsed": false,
     "input": [
      "#Caption:Calculate the voltage generated in 4 pole generator\n",
      "\n",
      "S_1=51 #Number of slots \n",
      "S_2=20 #Number of conductor per slot\n",
      "Z=S_1*S_2 #number of armature conductors\n",
      "F=7 #flux per pole(in mWb) \n",
      "F_1=F*10**-3 #flux per pole(in Wb)\n",
      "P=4 #Number of poles\n",
      "A=2 #Number of parallel paths (armature is wave wound)\n",
      "N=1500 #speed of the machine(in rpm)\n",
      "E_g=F_1*Z*N*P/(60*A) #generated emf\n",
      "print 'voltage generated in machine = %0.2f V'%E_g"
     ],
     "language": "python",
     "metadata": {},
     "outputs": [
      {
       "output_type": "stream",
       "stream": "stdout",
       "text": [
        "voltage generated in machine = 357.00 V\n"
       ]
      }
     ],
     "prompt_number": 4
    },
    {
     "cell_type": "heading",
     "level": 2,
     "metadata": {},
     "source": [
      "Exam:2.7 page 61"
     ]
    },
    {
     "cell_type": "code",
     "collapsed": false,
     "input": [
      "#Caption:Find out the speed for 6 pole machine \n",
      "F=60 #flux per pole(in m Wb)\n",
      "F_1=F*10**-3 #flux per pole(in Wb)\n",
      "Z=480 #Number of armature conductors\n",
      "P=6 #Number of poles\n",
      "A=2 #Number of parallel paths(Armature wave wound)\n",
      "E_g=320 #generated emf (in V)\n",
      "N=E_g*60*A/(F_1*Z*P) #speed(in rpm)\n",
      "print 'speed of the machine = %0.2f rpm '%N "
     ],
     "language": "python",
     "metadata": {},
     "outputs": [
      {
       "output_type": "stream",
       "stream": "stdout",
       "text": [
        "speed of the machine = 222.22 rpm \n"
       ]
      }
     ],
     "prompt_number": 5
    },
    {
     "cell_type": "heading",
     "level": 2,
     "metadata": {},
     "source": [
      "Exam:2.8 page 62"
     ]
    },
    {
     "cell_type": "code",
     "collapsed": false,
     "input": [
      "from math import ceil\n",
      "#Caption:calculate the suitable number of conductor per slot hence determine the actual value of flux\n",
      "\n",
      "F_1=0.05 #flux per pole(in Wb )\n",
      "N=350 #speed(in rpm)\n",
      "P=8 #no of poles\n",
      "A=P #no of parallel path\n",
      "E_g=240 #voltage generated (in V)\n",
      "Z_1=E_g*60*A/(F_1*N*P) #total no of armature conductor required\n",
      "C_s=ceil(Z_1/120) #number of conductor per slot\n",
      "print 'number of conductor per slot =' ,C_s\n",
      "A_s=120 #armature slots \n",
      "Z_2=A_s*C_s #total conductors in armature slot\n",
      "F_2=E_g*60*A/(N*Z_2*P) #Actual value of flux(in Wb)\n",
      "print 'Actual value of flux = %0.4f Wb '%F_2 "
     ],
     "language": "python",
     "metadata": {},
     "outputs": [
      {
       "output_type": "stream",
       "stream": "stdout",
       "text": [
        "number of conductor per slot = 7.0\n",
        "Actual value of flux = 0.0490 Wb \n"
       ]
      }
     ],
     "prompt_number": 8
    },
    {
     "cell_type": "heading",
     "level": 2,
     "metadata": {},
     "source": [
      "Exam:2.9 page 62"
     ]
    },
    {
     "cell_type": "code",
     "collapsed": false,
     "input": [
      "#Caption:Calculate the emf if the speed is 1500 rpm\n",
      "\n",
      "P=8 #Number of poles\n",
      "F=2 #flux per pole (in mWb)\n",
      "F_1=2*10**-2 #flux per pole (in Wb)\n",
      "Z=960 #number of conductor\n",
      "A=P #Number of parallel paths(lap winding)\n",
      "N=1500 #speed (in rpm)\n",
      "E_g=P*F*1e-2*Z*N/(60*A) #emf generated (in Volts)\n",
      "print 'emf generated = %0.f V'%E_g"
     ],
     "language": "python",
     "metadata": {},
     "outputs": [
      {
       "output_type": "stream",
       "stream": "stdout",
       "text": [
        "emf generated = 480 V\n"
       ]
      }
     ],
     "prompt_number": 14
    },
    {
     "cell_type": "heading",
     "level": 2,
     "metadata": {},
     "source": [
      "Exam:2.10 page 63"
     ]
    },
    {
     "cell_type": "code",
     "collapsed": false,
     "input": [
      "#Caption:Calculate the increase of main field flux in percentage\n",
      "\n",
      "N_1=750 #speed of dc machine(in rpm)\n",
      "E_1=220 #induced emf in dc machine when running at N_1\n",
      "N_2=700 #speed of dc machine second time (in rpm)\n",
      "E_2=250 #induced emf in dc machine when running at N_2\n",
      "F=E_2*N_1/(E_1*N_2) \n",
      "Inc=(F-1) \n",
      "print 'increase in main field flux of the dc machine = %0.2f %%'%(Inc*100) "
     ],
     "language": "python",
     "metadata": {},
     "outputs": [
      {
       "output_type": "stream",
       "stream": "stdout",
       "text": [
        "increase in main field flux of the dc machine = 21.75 %\n"
       ]
      }
     ],
     "prompt_number": 17
    },
    {
     "cell_type": "heading",
     "level": 2,
     "metadata": {},
     "source": [
      "Exam:2.11 page 63"
     ]
    },
    {
     "cell_type": "code",
     "collapsed": false,
     "input": [
      "#caption: a)find the emf generated in a 6 pole machine  b)find speed at which machine generated 550 V emf\n",
      "\n",
      "F_1=0.06 #Flux per pole(in Wb)\n",
      "N_1=250 #speed of the rotor(in rpm)\n",
      "A=2 #number of parllel (paths armature wave wound)\n",
      "P=6 #poles in machine\n",
      "Z=664 #total conductor in machine\n",
      "E_g=P*F_1*N_1*Z/(60*A) #emf generated\n",
      "print 'emf generated in machine = %0.2f V'%E_g\n",
      "E_2=550 #new emf generating machine(in V)\n",
      "F_2=0.058 #flux per pole (in Wb) for generating E_2\n",
      "N_2=60*E_2*A/(P*F_2*Z) #new speed at which machine generating E_2(in rpm)\n",
      "print 'new speed of the rotor = %0.2f rpm '%N_2 "
     ],
     "language": "python",
     "metadata": {},
     "outputs": [
      {
       "output_type": "stream",
       "stream": "stdout",
       "text": [
        "emf generated in machine = 498.00 V\n",
        "new speed of the rotor = 285.63 rpm \n"
       ]
      }
     ],
     "prompt_number": 18
    },
    {
     "cell_type": "heading",
     "level": 2,
     "metadata": {},
     "source": [
      "Exam:2.12 page 66"
     ]
    },
    {
     "cell_type": "code",
     "collapsed": false,
     "input": [
      "#Caption :determine the value of torque in Nw-m\n",
      "\n",
      "F=24 #flux per pole (in m Wb)\n",
      "F_1=F*10**-3 #flux per pole (in Wb)\n",
      "Z=760 #number of conductors in armature\n",
      "P=4 #number of pole\n",
      "A=2 #number of parallel paths\n",
      "I_a=50 #armature cuurrent(in Amp)\n",
      "T_a=0.159*F_1*Z*P*I_a/A #torque develope(in Nw-m)\n",
      "print 'torque developed in machine = %0.f Nw-m '%T_a "
     ],
     "language": "python",
     "metadata": {},
     "outputs": [
      {
       "output_type": "stream",
       "stream": "stdout",
       "text": [
        "torque developed in machine = 290 Nw-m \n"
       ]
      }
     ],
     "prompt_number": 20
    },
    {
     "cell_type": "heading",
     "level": 2,
     "metadata": {},
     "source": [
      "Exam:2.13 page 67"
     ]
    },
    {
     "cell_type": "code",
     "collapsed": false,
     "input": [
      "#Caption: calculate the total torque in Nw-m\n",
      "\n",
      "P=6 #poles \n",
      "A=P #number of parallel paths\n",
      "S=60 #slots in motor\n",
      "C_s=12 #conductor per slot\n",
      "Z=S*C_s #total conductor in machine\n",
      "I_a=50 #armature current(in Amp)\n",
      "F_1=20#flux per pole(in m Wb)\n",
      "F_2=F_1*10**-3 #flux per pole)(in Wb)\n",
      "T=0.15924*F_2*Z*P*I_a/A #total torque (in Nw-m)\n",
      "print 'total torque by motor = %0.2f Nw-m '%T"
     ],
     "language": "python",
     "metadata": {},
     "outputs": [
      {
       "output_type": "stream",
       "stream": "stdout",
       "text": [
        "total torque by motor = 114.65 Nw-m \n"
       ]
      }
     ],
     "prompt_number": 22
    },
    {
     "cell_type": "heading",
     "level": 2,
     "metadata": {},
     "source": [
      "Exam:2.14 page 67"
     ]
    },
    {
     "cell_type": "code",
     "collapsed": false,
     "input": [
      "#Caption:Calculate the drop in speed when motor takes 51 Amp\n",
      "\n",
      "V=220 #supply voltage(in V)\n",
      "R_sh=220 #shunt field resistance(in Ohm)\n",
      "R_a=0.2 #armature resistance(in Ohm)\n",
      "I_sh=V/R_sh #shunt field current(in Amp)\n",
      "N_1=1200 #starting speed of the motor(in rpm)\n",
      "I_1=5.4 #at N_1 speed current in motor(in Amp)\n",
      "I_a1=I_1-I_sh #armature current at speed N_1(in Amp)\n",
      "E_b1=V-I_a1*R_a #emf induced due to I_a1(in V)\n",
      "I_2=51 #new current which motor taking(in Amp)\n",
      "I_a2=I_2-I_sh #armature current at I_2(in Amp)\n",
      "E_b2=V-I_a2*R_a #emf induced due to I_a2(in V)\n",
      "N_2=E_b2*N_1/E_b1 #speed of the motor when taking I_2 current(in rpm)\n",
      "N_r=ceil(N_1-N_2) #reduction in speed(in rpm)\n",
      "print 'reduction in speed = %0.2f rpm '%N_r "
     ],
     "language": "python",
     "metadata": {},
     "outputs": [
      {
       "output_type": "stream",
       "stream": "stdout",
       "text": [
        "reduction in speed = 50.00 rpm \n"
       ]
      }
     ],
     "prompt_number": 23
    },
    {
     "cell_type": "heading",
     "level": 2,
     "metadata": {},
     "source": [
      "Exam:2.15 page 68"
     ]
    },
    {
     "cell_type": "code",
     "collapsed": false,
     "input": [
      "#Caption:In a dc machine Calculate (a)induced emf  (b)Electro magnetic torque (c)armature copper loss \n",
      "\n",
      "V=220 #voltage at the armature of dc motor\n",
      "I_a=15 #current through armature(in Amp)\n",
      "R_a=1 #armature resistance(in Ohm)\n",
      "w=100 #speed of the machine(in radian/sec)\n",
      "E=V-I_a*R_a #induced emf(in V)\n",
      "print 'induced emf = %0.2f V '%E \n",
      "T=E*I_a/w #electro magnentic torque developed(in Nw-m)\n",
      "print 'electro magnentic torque developed = %0.2f Nw-m '%T \n",
      "L=(I_a**2)*R_a #Armature copper loss(in Watt)\n",
      "print 'Armature copper loss = %0.2f Watt' %L"
     ],
     "language": "python",
     "metadata": {},
     "outputs": [
      {
       "output_type": "stream",
       "stream": "stdout",
       "text": [
        "induced emf = 205.00 V \n",
        "electro magnentic torque developed = 30.75 Nw-m \n",
        "Armature copper loss = 225.00 Watt\n"
       ]
      }
     ],
     "prompt_number": 75
    },
    {
     "cell_type": "heading",
     "level": 2,
     "metadata": {},
     "source": [
      "Exam:2.16 page 69"
     ]
    },
    {
     "cell_type": "code",
     "collapsed": false,
     "input": [
      "#Caption:Calculate the electro magnetic torque\n",
      "\n",
      "E=250 #emf induced in dc machine(in V)\n",
      "I_a=20 #current flowing through the armature(in Amp)\n",
      "N=1500 #speed(in rpm)\n",
      "T_e=0.1591*E*I_a*60/N #torque developed in machine(in Nw-m)\n",
      "print 'electro magnetic torque developed in dc machine = %0.2f Nw-m '%T_e "
     ],
     "language": "python",
     "metadata": {},
     "outputs": [
      {
       "output_type": "stream",
       "stream": "stdout",
       "text": [
        "electro magnetic torque developed in dc machine = 31.82 Nw-m \n"
       ]
      }
     ],
     "prompt_number": 24
    },
    {
     "cell_type": "heading",
     "level": 2,
     "metadata": {},
     "source": [
      "Exam:2.17 page 69"
     ]
    },
    {
     "cell_type": "code",
     "collapsed": false,
     "input": [
      "#Caption:calculate the gross torque in dc machine\n",
      "\n",
      "P=4 #number of poles \n",
      "Z=1600 #number of armature conductor\n",
      "F=0.027 #flux per pole(in Wb)\n",
      "A=2 #number of parallel paths (wave wound)\n",
      "I=75 #current in machine(in Amp)\n",
      "N=1000 #speed of the motor(in rpm)\n",
      "T=0.1591*P*F*Z*I/A #torque generate in machine(in Nw-m)\n",
      "print 'Torque generated in machine = %0.2f Nw-m '%T "
     ],
     "language": "python",
     "metadata": {},
     "outputs": [
      {
       "output_type": "stream",
       "stream": "stdout",
       "text": [
        "Torque generated in machine = 1030.97 Nw-m \n"
       ]
      }
     ],
     "prompt_number": 25
    },
    {
     "cell_type": "heading",
     "level": 2,
     "metadata": {},
     "source": [
      "Exam:2.18 page 75"
     ]
    },
    {
     "cell_type": "code",
     "collapsed": false,
     "input": [
      "#Caption:Calculate the value of back emf\n",
      "\n",
      "V=230 #applied voltage (in V)\n",
      "R_a=0.1 #armature resistance(in Ohm)\n",
      "I_a=60 #armature current (in Amp)\n",
      "E_b=V-I_a*R_a #back emf(in Volts)\n",
      "print 'back emf produced by machine = %0.2f V '%E_b "
     ],
     "language": "python",
     "metadata": {},
     "outputs": [
      {
       "output_type": "stream",
       "stream": "stdout",
       "text": [
        "back emf produced by machine = 224.00 V \n"
       ]
      }
     ],
     "prompt_number": 27
    },
    {
     "cell_type": "heading",
     "level": 2,
     "metadata": {},
     "source": [
      "Exam:2.19 page 75"
     ]
    },
    {
     "cell_type": "code",
     "collapsed": false,
     "input": [
      "#Capyion:find the change in back emf from no load to load\n",
      "\n",
      "V=220 #given voltage to machine(in V)\n",
      "R_a=0.5 #armature circuit resistance(in ohm)\n",
      "I_1=25 #full load armature current(in Amp)\n",
      "I_2=5 #no load armature current(in Amp)\n",
      "E_1=V-I_1*R_a #back emf at full load(in V)\n",
      "E_2=V-I_2*R_a #back emf at no load(in V)\n",
      "E=E_2-E_1 #change in back emf no load to load\n",
      "print 'change in back emf from no load to load = %0.2f Volts '%E "
     ],
     "language": "python",
     "metadata": {},
     "outputs": [
      {
       "output_type": "stream",
       "stream": "stdout",
       "text": [
        "change in back emf from no load to load = 10.00 Volts \n"
       ]
      }
     ],
     "prompt_number": 28
    },
    {
     "cell_type": "heading",
     "level": 2,
     "metadata": {},
     "source": [
      "Exam:2.20 page 76\n"
     ]
    },
    {
     "cell_type": "code",
     "collapsed": false,
     "input": [
      "#Caption: Determine the back emf in dc shunt motor\n",
      "\n",
      "V=220 #voltage(in V)\n",
      "R_a=0.7 #Armature resistance(in Ohm)\n",
      "R_f=200 #field resistant(in Ohm)\n",
      "P_1=8*10**3 #motor output power(in Watt)\n",
      "P_2=8*10**3/0.8 #motor input power(in Watt)\n",
      "I_m=P_2/V #motor input current(in Amp)\n",
      "I_sh=V/R_f #shunt field current (in Amp)\n",
      "I_a=I_m-I_sh #Armature current(in Amp)\n",
      "E_b=V-I_a*R_a #Back emf (in V)\n",
      "print 'Back emf produced in motor = %0.2f Volts '%E_b "
     ],
     "language": "python",
     "metadata": {},
     "outputs": [
      {
       "output_type": "stream",
       "stream": "stdout",
       "text": [
        "Back emf produced in motor = 188.95 Volts \n"
       ]
      }
     ],
     "prompt_number": 29
    },
    {
     "cell_type": "heading",
     "level": 2,
     "metadata": {},
     "source": [
      "Exam:21 page 76"
     ]
    },
    {
     "cell_type": "code",
     "collapsed": false,
     "input": [
      "#Caption :Determine the total armature power developed when working as a)Generator b)motor\n",
      "\n",
      "P=25*10**3 #output generator power(in Watt)\n",
      "V=250 #output generator voltage(in V)\n",
      "R_f=125 #field resistance(in Ohm)\n",
      "R_a=0.05 #armature resistance(in Ohm)\n",
      "I_sh=V/R_f #shunt field current(in Amp)\n",
      "#IN case of generator\n",
      "I_o=P/V #output generator current(in Amp)\n",
      "I_a1=I_o+I_sh #armature current for a generator(in Amp)\n",
      "E_a1=250+I_a1*R_a #generated emf in armature(in V)\n",
      "P_a1=E_a1*I_a1 #generated power in armature when working as a generator(in Watt)\n",
      "P_g=P_a1*10**-3 #generated power in armature when working as a generator(in kW)\n",
      "print 'power developed in armature when working as a generator = %0.2f kW '%P_g \n",
      "#IN case of motor\n",
      "I_in=P/V #motor input current(in Amp)\n",
      "I_a2=I_in-I_sh #armature current for a motor(in Amp)\n",
      "E_a2=250-I_a2*R_a #generated emf in armature when working as a motor(in V)\n",
      "P_a2=E_a2*I_a2 #generated power in armature when working as a motor(in Watt)\n",
      "P_m=P_a2*10**-3 #generated power in armature when working as a motor(in KW)\n",
      "print 'power developed in armature when working as a motor = %0.2f kW '%P_m "
     ],
     "language": "python",
     "metadata": {},
     "outputs": [
      {
       "output_type": "stream",
       "stream": "stdout",
       "text": [
        "power developed in armature when working as a generator = 26.02 kW \n",
        "power developed in armature when working as a motor = 24.02 kW \n"
       ]
      }
     ],
     "prompt_number": 30
    },
    {
     "cell_type": "heading",
     "level": 2,
     "metadata": {},
     "source": [
      "Exam:2.22 page 83"
     ]
    },
    {
     "cell_type": "code",
     "collapsed": false,
     "input": [
      "#Caption :Calculated power developed in armature when machine running as (a)Generator (b)Motor\n",
      "\n",
      "V=250 #line voltage(in V)\n",
      "R_sh=125 #shunt field resistance(in Ohm)\n",
      "I_sh=V/R_sh #shunt field current(in Amp)\n",
      "I_l=80 #line current(in Amp)\n",
      "R_a=0.1 #armature resistance(in Ohm)\n",
      "#As A Generator\n",
      "I_a1=I_l+I_sh #armature current in generator(in Amp)\n",
      "E_g=V+I_a1*R_a #generated emf(in V)\n",
      "P_1=E_g*I_a1*10**-3 #power developed in armature (in KW)\n",
      "print 'power developed in armature when machine running as a generator = %0.2f kW '%P_1 \n",
      "#As A Motor\n",
      "I_a2=I_l-I_sh #armature current in motor(in Amp)\n",
      "E_b=V-I_a2*R_a #back emf in motor(in V)\n",
      "P_2=E_b*I_a2*10**-3 #power developed in armature (in KW)\n",
      "print 'power developed in armature when machine running as a Motor = %0.2f kW'%P_2 "
     ],
     "language": "python",
     "metadata": {},
     "outputs": [
      {
       "output_type": "stream",
       "stream": "stdout",
       "text": [
        "power developed in armature when machine running as a generator = 21.17 kW \n",
        "power developed in armature when machine running as a Motor = 18.89 kW\n"
       ]
      }
     ],
     "prompt_number": 31
    },
    {
     "cell_type": "heading",
     "level": 2,
     "metadata": {},
     "source": [
      "Exam:2.23 page 83"
     ]
    },
    {
     "cell_type": "code",
     "collapsed": false,
     "input": [
      "#Caption:Calculated speed of the motor when the current is 10 Amp\n",
      "\n",
      "V=230 #supply voltage(in V)\n",
      "R_a=0.8 #armature resistance(in Ohm)\n",
      "R_f=0.8#field resistance(in Ohm)\n",
      "I_1=20 #dc motor taking current from supply(in Amp)\n",
      "E_1=V-R_a*I_1 #emf generated due to I_1(in V)\n",
      "N_1=600 #speed of the motor due to I_1\n",
      "I_2=10 #current(in Amp) at which speed of the motor need to calculate\n",
      "E_2=V-R_a*I_2 #emf generated due to I_2(in Volts)\n",
      "N_2=E_2*I_1*N_1/(E_1*I_2) #speed of the motor when machine drawing 10(in Amp) current\n",
      "print 'speed of the motor when machine drawing 10 Amp current = %0.0f rpm '%N_2 "
     ],
     "language": "python",
     "metadata": {},
     "outputs": [
      {
       "output_type": "stream",
       "stream": "stdout",
       "text": [
        "speed of the motor when machine drawing 10 Amp current = 1245 rpm \n"
       ]
      }
     ],
     "prompt_number": 33
    },
    {
     "cell_type": "heading",
     "level": 2,
     "metadata": {},
     "source": [
      "Exam:2.24 page 84"
     ]
    },
    {
     "cell_type": "code",
     "collapsed": false,
     "input": [
      "#Caption:Percentage change in speed of a d.c. motor\n",
      "\n",
      "V=240 #supply voltage(in V)\n",
      "R_a=0.5 #armature resistance(in Ohm)\n",
      "I_1=100 #armature current (in Amp)\n",
      "I_2=50 #changed armature current(in Amp)\n",
      "E_1=V-R_a*I_1 #induced emf(in V)\n",
      "E_2=V-R_a*I_2 #changed induced emf due to I_2\n",
      "#flux per pole is constant\n",
      "N_r=E_2/E_1 #ratio of speed in machine due to voltage change\n",
      "N_rp=(N_r-1)*100 #Percentage change in speed of  d.c. motor\n",
      "print 'Percentage change in speed of d.c. motor =',round(N_rp ,2)\n",
      "# Answer wrong in the textbook."
     ],
     "language": "python",
     "metadata": {},
     "outputs": [
      {
       "output_type": "stream",
       "stream": "stdout",
       "text": [
        "Percentage change in speed of d.c. motor = 13.16\n"
       ]
      }
     ],
     "prompt_number": 50
    },
    {
     "cell_type": "heading",
     "level": 2,
     "metadata": {},
     "source": [
      "Exam:2.25 page 100"
     ]
    },
    {
     "cell_type": "code",
     "collapsed": false,
     "input": [
      "#Caption:Find the speed at which motor will run when connected in series with a 4 Ohm resistance\n",
      "\n",
      "V=200 #supply voltage (in V)\n",
      "R_m=1 #motor resistance b/w terminals(in Ohm)\n",
      "I_1=15 #motor input current(in Amp)\n",
      "N_1=800 #speed of the motor (in rpm)\n",
      "E_1=V-(I_1*R_m) #back emf developed(in V)\n",
      "R=4 #resistance connected in series with motor (in Ohm)\n",
      "I_2=I_1 #when resistance of 4 Ohm connected in series with the motor ,motor input current is same\n",
      "E_2=V-I_2*(R_m+R) #back emf developed when R connected in series with motor(in V)\n",
      "N_2=E_2*N_1/E_1 #speed of the motor when it connected in series with a 4 Ohm resistance(in rpm)\n",
      "print 'speed of the motor when it connected in series with a 4 Ohm resistance = %0.1f rpm '%N_2 "
     ],
     "language": "python",
     "metadata": {},
     "outputs": [
      {
       "output_type": "stream",
       "stream": "stdout",
       "text": [
        "speed of the motor when it connected in series with a 4 Ohm resistance = 540.5 rpm \n"
       ]
      }
     ],
     "prompt_number": 52
    },
    {
     "cell_type": "heading",
     "level": 2,
     "metadata": {},
     "source": [
      "Exam:2.26 page 100"
     ]
    },
    {
     "cell_type": "code",
     "collapsed": false,
     "input": [
      "#Caption:Determine the speed when armature current is 75 Amp and the excitation is increased by 15 %\n",
      "\n",
      "V=220 #supply voltage(in V)\n",
      "R_a=0.03 #armature resistance(in Ohm)\n",
      "R_se=0.07 #field resistance(in Ohm)\n",
      "I_a1=40 #armature current in first case(in Amp)\n",
      "N_1=900 #motor running speed at 40 Amp armature current(in rpm)\n",
      "E_1=V-I_a1*(R_a+R_se) #induced emf due to 40 Amp armature current (in V)\n",
      "I_a2=75 #armature current in second case(in Amp)\n",
      "E_2=V-I_a2*(R_a+R_se) #induced emf due to 75 Amp armature current (in V)\n",
      "#Flux is F_1 when I_a1 and F_2 when I_a2. F_2=1.15*F_1 because Excitation is increased by 15% so F=(F_1/F_2)\n",
      "F=1.15 #Ratio of F_2/F_1\n",
      "N_2=ceil(N_1*E_2/(F*E_1)) #motor speed when armature current is 75 Amp and the excitation is increased by 15 %(in rpm)\n",
      "print 'motor speed when armature current is 75 Amp and the excitation is increased by 15 %% = %0.2f rpm'%N_2 "
     ],
     "language": "python",
     "metadata": {},
     "outputs": [
      {
       "output_type": "stream",
       "stream": "stdout",
       "text": [
        "motor speed when armature current is 75 Amp and the excitation is increased by 15 % = 770.00 rpm\n"
       ]
      }
     ],
     "prompt_number": 53
    },
    {
     "cell_type": "heading",
     "level": 2,
     "metadata": {},
     "source": [
      "Exam:2.27 page 101"
     ]
    },
    {
     "cell_type": "code",
     "collapsed": false,
     "input": [
      "#Caption:Calculate H.P. is being transmitted by the shaft of motor\n",
      "\n",
      "V=220 #supply voltage(in V)\n",
      "N=900 #running speed of a shunt motor(in rpm)\n",
      "T=1000 #torque exerted by motor (in Nw-m)\n",
      "w=2*3.14159*N/60 #angular speed(in rad/sec)\n",
      "P=w*T #power transmitted (in Watt)\n",
      "H_p=P/735.5 #power transmitted in H.P.(metric)\n",
      "print 'power transmitted by the shaft of motor = %0.1f H.P.(metric)' %H_p"
     ],
     "language": "python",
     "metadata": {},
     "outputs": [
      {
       "output_type": "stream",
       "stream": "stdout",
       "text": [
        "power transmitted by the shaft of motor = 128.1 H.P.(metric)\n"
       ]
      }
     ],
     "prompt_number": 55
    },
    {
     "cell_type": "heading",
     "level": 2,
     "metadata": {},
     "source": [
      "Exam:2.28 page 102"
     ]
    },
    {
     "cell_type": "code",
     "collapsed": false,
     "input": [
      "#Caption:Calculate the torque\n",
      "\n",
      "P_1=70 #power transmitted by the shaft of a motor in H.P(metric)\n",
      "P_2=P_1*735.5 #power (in Watts)\n",
      "N=500 #speed of the motor(in rpm)\n",
      "w=2*3.1416*N/60 #angular speed (in radian/sec)\n",
      "T=P_2/w #torque in motor (in Nw-m)\n",
      "print 'torque in motor = %0.1f Nw-m '%T "
     ],
     "language": "python",
     "metadata": {},
     "outputs": [
      {
       "output_type": "stream",
       "stream": "stdout",
       "text": [
        "torque in motor = 983.3 Nw-m \n"
       ]
      }
     ],
     "prompt_number": 57
    },
    {
     "cell_type": "heading",
     "level": 2,
     "metadata": {},
     "source": [
      "Exam:2.29 page 102"
     ]
    },
    {
     "cell_type": "code",
     "collapsed": false,
     "input": [
      "#Caption:Find the speed when the armature takes 70 Amp \n",
      "\n",
      "V=400 #voltage for a shunt motor (in V)\n",
      "R_a=0.2 #armature resistance(in Ohm)\n",
      "I_a1=100 #starting armature current(in Amp)\n",
      "N_1=1000 #speed of the motor when I_a1 armature current flows in armature\n",
      "E_1=V-I_a1*R_a #emf induced at I_a1 armature current (in V)\n",
      "I_a2=70 #changed armature current(in Amp)\n",
      "E_2=V-I_a2*R_a #emf induced for I_a2 current(in V)\n",
      "#flux is constant\n",
      "N_2=ceil(E_2*N_1/E_1) #speed of the motor when 70 Amp current flowing through armature\n",
      "print 'speed of the motor when 70 Amp current flowing through armature = %0.1f rpm'%N_2 "
     ],
     "language": "python",
     "metadata": {},
     "outputs": [
      {
       "output_type": "stream",
       "stream": "stdout",
       "text": [
        "speed of the motor when 70 Amp current flowing through armature = 1016.0 rpm\n"
       ]
      }
     ],
     "prompt_number": 59
    },
    {
     "cell_type": "heading",
     "level": 2,
     "metadata": {},
     "source": [
      "Exam:2.30 page 103"
     ]
    },
    {
     "cell_type": "code",
     "collapsed": false,
     "input": [
      "#Caption:resistance required to be connected in series to reduced speed of machine to 800 rpm (in Ohm)\n",
      "\n",
      "V=400 #voltage applied across the motor(in V)\n",
      "R_sh=100 #shunt resistance of motor(in Ohm)\n",
      "I=70 #total current flowing through motor(in Amp)\n",
      "I_sh=V/R_sh #current flowing through the shunt resistance(in Amp)\n",
      "I_a1=I-I_sh #current flowing through the armature(in Amp)\n",
      "R_a1=0.03 #resistance of armature(in Ohm)\n",
      "R_se=0.5 #series resistance with armature(in Ohm)\n",
      "R_a=R_a1+R_se #total resistance in armature circuit(in Ohm)\n",
      "E_1=V-I_a1*R_a #emf induced due to this R_a resistance(in V) \n",
      "N_1=900 #given speed of the motor(in r.p.m.)\n",
      "N_2=800 #desired speed of the motor(in r.p.m.)\n",
      "E_2=E_1*(N_2/N_1) #emf induced due to armature resistance when motor spped is 800(in V)\n",
      "R_a2=(400-E_2)/66 #resistance required to be connected in series(in Ohm)\n",
      "print 'net resistance of armature which reduce speed of the machine to 800 rpm = %0.3f Ohm '%R_a2 \n",
      "R=R_a2-R_a1 #additional resistance required to be connected in series to reduced speed of machine to 800 rpm (in Ohm)\n",
      "print 'additional resistance required to be connected in series to reduced speed of machine to 800 rpm = %0.3f Ohm '%R "
     ],
     "language": "python",
     "metadata": {},
     "outputs": [
      {
       "output_type": "stream",
       "stream": "stdout",
       "text": [
        "net resistance of armature which reduce speed of the machine to 800 rpm = 1.145 Ohm \n",
        "additional resistance required to be connected in series to reduced speed of machine to 800 rpm = 1.115 Ohm \n"
       ]
      }
     ],
     "prompt_number": 62
    },
    {
     "cell_type": "heading",
     "level": 2,
     "metadata": {},
     "source": [
      "Exam:2.31 page 104"
     ]
    },
    {
     "cell_type": "code",
     "collapsed": false,
     "input": [
      "#Caption:Motor speed at full load\n",
      "\n",
      "V=230 #supply voltage\n",
      "I_a1=2 #no load current(in Amp)\n",
      "N_1=1500 #speed of the motor at no load\n",
      "R_a=0.3 #Armature resistance(in Ohm)\n",
      "I_a2=50 #full load current(in Amp)\n",
      "E_1=V-I_a1*R_a #emf generated at no load\n",
      "E_2=V-I_a2*R_a #emf generated at full load\n",
      "N_2=(E_2/E_1)*N_1 #full load speed (flux assumed constant)\n",
      "print 'D.c. motor speed at full load when flux assumed constant = %0.2f rpm '%ceil(N_2) "
     ],
     "language": "python",
     "metadata": {},
     "outputs": [
      {
       "output_type": "stream",
       "stream": "stdout",
       "text": [
        "D.c. motor speed at full load when flux assumed constant = 1406.00 rpm \n"
       ]
      }
     ],
     "prompt_number": 63
    },
    {
     "cell_type": "heading",
     "level": 2,
     "metadata": {},
     "source": [
      "Exam:2.32 page 104"
     ]
    },
    {
     "cell_type": "code",
     "collapsed": false,
     "input": [
      "#Caption:calculate the speed of a d.c. shunt generator when it running as d.c. motor and taking 50 KW power at 250 volt\n",
      "\n",
      "#calculation when machine is running as generator\n",
      "V=250 #applied voltage to d.c. shunt generator\n",
      "P_1=50000 #power delivers by d.c. shunt generator at V_1\n",
      "N_1=400 #generator running at V_1 ,P_1\n",
      "R_a=0.02 #armature resistance(in Ohm)\n",
      "R_sh=50 #field resistance(in Ohm)\n",
      "I_l=P_1/V #load current(in Amp)\n",
      "I_sh=V/R_sh #field current(in Amp)\n",
      "I_a1=I_l+I_sh #armature current when machine working as a generator(in Amp)\n",
      "C_d=1 #contact drop (in volt per brush)\n",
      "E_1=V+I_a1*R_a+2*C_d #induced emf by machine when working as a generator(in V)\n",
      "#calculation when machine is running as motor\n",
      "I_a2=I_l-I_sh#armature current when machine working as a motor(in Amp)\n",
      "E_2=V-I_a2*R_a-2*C_d #induced emf by machine when working as a motor(in V)\n",
      "N_2=(E_2/E_1)*N_1 #speed of the machine when running as shunt motor(in r.p.m.)\n",
      "print 'speed of the machine when running as shunt motor and taking 50 KW power at 250 volt = %0.2f r.p.m. '%N_2 "
     ],
     "language": "python",
     "metadata": {},
     "outputs": [
      {
       "output_type": "stream",
       "stream": "stdout",
       "text": [
        "speed of the machine when running as shunt motor and taking 50 KW power at 250 volt = 381.26 r.p.m. \n"
       ]
      }
     ],
     "prompt_number": 92
    },
    {
     "cell_type": "heading",
     "level": 2,
     "metadata": {},
     "source": [
      "Exam:2.33 page 105"
     ]
    },
    {
     "cell_type": "code",
     "collapsed": false,
     "input": [
      "#Caption:Calculate the value of resistance to be connected in series with the armature to reduce the speed to 750 r.p.m.\n",
      "\n",
      "V=220 #applied voltage to shunt motor(in V)\n",
      "I_a1=40 #armature current in first case(in Amp)\n",
      "R_a=0.5 #armature circuit resistance(in Ohm)\n",
      "N_1=900 #speed of the motor at I_a1 (in rpm)\n",
      "E_b1=V-I_a1*R_a #emf generated in armature circuit due to I_a1(in V)\n",
      "N_2=750 #desired motor speed (in rpm)\n",
      "I_a2=30 #armature current in case of N_2 motor speed(in Amp)\n",
      "E_b2=(N_2/N_1)*E_b1 #emf generated in second case when motor speed is N_2\n",
      "#R resistance added in series with the armature circuit to reduced the speed of motor \n",
      "R=(205-E_b2)/30 #resistance added in series with the armature circuit to reduced the speed of motor\n",
      "print 'resistance added in series with the armature circuit to reduced the speed of motor = %0.2f Ohm '%R "
     ],
     "language": "python",
     "metadata": {},
     "outputs": [
      {
       "output_type": "stream",
       "stream": "stdout",
       "text": [
        "resistance added in series with the armature circuit to reduced the speed of motor = 1.28 Ohm \n"
       ]
      }
     ],
     "prompt_number": 64
    },
    {
     "cell_type": "heading",
     "level": 2,
     "metadata": {},
     "source": [
      "Exam:2.34 page 106"
     ]
    },
    {
     "cell_type": "code",
     "collapsed": false,
     "input": [
      "#Caption:what resistance should be placed in series with armature to reduced the speed of the motor to 700 rpm\n",
      "\n",
      "V=220 #applied voltage to shunt motor(in V)\n",
      "R_a=0.3 #armature circuit resistance(in Ohm)\n",
      "I_a=15 #armature current(in Amp)\n",
      "E_b1=V-I_a*R_a #emf generated in armature circuit(in V)\n",
      "N_1=1000 #motor speed when E_b1 generated(in rpm) \n",
      "N_2=700 #desired motor speed (in rpm)\n",
      "E_b2=(N_2/N_1)*E_b1 #emf generated in second case when motor speed is N_2\n",
      "R=(215.5-E_b2)/15 #resistance added in series with the armature circuit to reduced the speed of motor (in Ohm)\n",
      "print 'resistance added in series with the armature circuit to reduced the speed of motor = %0.2f Ohm '%R "
     ],
     "language": "python",
     "metadata": {},
     "outputs": [
      {
       "output_type": "stream",
       "stream": "stdout",
       "text": [
        "resistance added in series with the armature circuit to reduced the speed of motor = 4.31 Ohm \n"
       ]
      }
     ],
     "prompt_number": 65
    },
    {
     "cell_type": "heading",
     "level": 2,
     "metadata": {},
     "source": [
      "Exam:2.35 page 107"
     ]
    },
    {
     "cell_type": "code",
     "collapsed": false,
     "input": [
      "#Caption:In a shunt motor find the resistance required in series with the armature circuit to reduce the speed of motor by 50 percent\n",
      "\n",
      "I_a1=40 #Armature current(in Amp)\n",
      "R_a=0.6 #Armature circuit resistance(in Ohm)\n",
      "#T_1/T_2=I_a1/I_a2 \n",
      "#T_1=T_2\n",
      "V=220 \n",
      "I_a2=I_a1 #current when speed reduced 50%\n",
      "E_b1=V-(R_a*I_a1) #emf induced in circuit\n",
      "N_r=0.5 #Ratio of speed (N_2/N_1)\n",
      "#E_b2=V-I_a2*R\n",
      "#R is a total armature resistance in the second case\n",
      "#N_2/N_1=E_b2/E_b1\n",
      "#N_r=(V-I_a2*R)/E_b1\n",
      "R=(V-(N_r*E_b1))/I_a2-R_a #the resistance required in series with the armature circuit to reduce the speed of motor 50%\n",
      "print 'the resistance required in series with the armature circuit to reduce the speed of motor by 50%% = %0.1f Ohm' % R"
     ],
     "language": "python",
     "metadata": {},
     "outputs": [
      {
       "output_type": "stream",
       "stream": "stdout",
       "text": [
        "the resistance required in series with the armature circuit to reduce the speed of motor by 50% = 2.4 Ohm\n"
       ]
      }
     ],
     "prompt_number": 75
    },
    {
     "cell_type": "heading",
     "level": 2,
     "metadata": {},
     "source": [
      "Exam:2.36 page 107"
     ]
    },
    {
     "cell_type": "code",
     "collapsed": false,
     "input": [
      "#Caption:Calculate the induced emf in a D.C. machine for speed of 600 rpm \n",
      "#assuming the flux is constant\n",
      "N_1=500 #primary speed of the motor(in rpm)\n",
      "E_1=180 #induced emf in d.c. machine when running at N_1 (in V)\n",
      "N_2=600 #secondary speed of the motor (in rpm)\n",
      "E_2=(N_2/N_1)*E_1 #induced emf in d.c. machine when running at N_2 (in V)\n",
      "print 'the emf induced in a D.C. machine when machine running at 600 rpm speed = %0.2f V '% E_2 "
     ],
     "language": "python",
     "metadata": {},
     "outputs": [
      {
       "output_type": "stream",
       "stream": "stdout",
       "text": [
        "the emf induced in a D.C. machine when machine running at 600 rpm speed = 216.00 V \n"
       ]
      }
     ],
     "prompt_number": 76
    },
    {
     "cell_type": "heading",
     "level": 2,
     "metadata": {},
     "source": [
      "Exam:2.37 page 108"
     ]
    },
    {
     "cell_type": "code",
     "collapsed": false,
     "input": [
      "#Caption:In a dc machine calculate speed at which the induced emf will be 250 Volts\n",
      "\n",
      "E_1=220 #Primary emf(in Volts)\n",
      "N_1=750 #Speed of the machine at 220 Volts\n",
      "E_2=250 #Secondary emf(in Volts)\n",
      "N_2=(E_2/E_1)*N_1 #Speed of the machine at which emf will be 250 Volts\n",
      "print 'Speed of the machine at which emf will be 250 Volts = %0.f'%N_2 \n",
      "N_3=700 #Speed of the machine when main field flux increase\n",
      "E_3=250 #induced emf when flux increase(in Volts)\n",
      "F_x=(E_3/E_2)*(N_2/N_3) #Ratio of flux when speed is N_3 and N_2\n",
      "F=(F_x-1)*100 #Percentage change in flux for induced emf of 250 Volts and speed 700 rpm(in %)\n",
      "print 'Percentage change in flux when induced emf 250 Volts and speed 700 rpm = %0.2f %%'% F "
     ],
     "language": "python",
     "metadata": {},
     "outputs": [
      {
       "output_type": "stream",
       "stream": "stdout",
       "text": [
        "Speed of the machine at which emf will be 250 Volts = 852\n",
        "Percentage change in flux when induced emf 250 Volts and speed 700 rpm = 21.75 %\n"
       ]
      }
     ],
     "prompt_number": 78
    },
    {
     "cell_type": "heading",
     "level": 2,
     "metadata": {},
     "source": [
      "Exam:2.38 page 109"
     ]
    },
    {
     "cell_type": "code",
     "collapsed": false,
     "input": [
      "#Caption:Calculate induced emf when running at speed of 1380 rpm.\n",
      "\n",
      "P=4 #Poles in d.c. machine\n",
      "Z=594 #number of conductor in d.c. machine\n",
      "F=0.0075 #flux per pole(in Wb)\n",
      "N=1380 #speed of the motor\n",
      "A=2 #number of parallel paths \n",
      "E=P*F*N*Z/(60*A) #emf generated in machine when running at speed of 1380 rpm.\n",
      "print 'emf generated in machine when running at speed of 1380 rpm = %0.2f V '%ceil(E) "
     ],
     "language": "python",
     "metadata": {},
     "outputs": [
      {
       "output_type": "stream",
       "stream": "stdout",
       "text": [
        "emf generated in machine when running at speed of 1380 rpm = 205.00 V \n"
       ]
      }
     ],
     "prompt_number": 79
    },
    {
     "cell_type": "heading",
     "level": 2,
     "metadata": {},
     "source": [
      "Exam:2.39 page 109"
     ]
    },
    {
     "cell_type": "code",
     "collapsed": false,
     "input": [
      "#Caption:Calculate the speed and calculate the electro magnetic torque.\n",
      "\n",
      "V_1=230 #supply voltage(in V)\n",
      "I_a1=100 #motor taking current from supply(in Amp)\n",
      "N_1=600 #speed of the motor when I_a1 current taking from supply(in rpm)\n",
      "R_a=0.12 #resistance of armature circuit(in Ohm)\n",
      "R_f=0.03 #resistance of series winding(in Ohm)\n",
      "R=R_a+R_f #total resistance(in Ohm)\n",
      "I_a2=50 #desired current of the motor\n",
      "E_1=V_1-I_a1*R #emf induced when current I_a1 flowing\n",
      "E_2=V_1-I_a2*R #emf induced when current I_a2 flowing\n",
      "N_2=(E_2/E_1)*(I_a1/I_a2)*N_1 #speed of the motor when 50 Amp current taking from supply(in rpm)\n",
      "print 'speed of the motor when 50 Amp current taking from supply = %0.2f rpm '%N_2 \n",
      "T_1=E_1*I_a1*60/(2*3.14*N_1) #electro-magnetic torque generated when motor running at 600 rpm(in Nw-m)\n",
      "print 'electro-magnetic torque generatedwhen motor running at 600 rpm = %0.2f Nw-m '%T_1 \n",
      "T_2=E_2*I_a2*60/(2*3.14*N_2) #electro-magnetic torque generated in second case(in Nw-m)\n",
      "print 'electro-magnetic torque generated in second case = %0.2f Nw-m '%T_2\n",
      "# Answer in the textbok are not accurate."
     ],
     "language": "python",
     "metadata": {},
     "outputs": [
      {
       "output_type": "stream",
       "stream": "stdout",
       "text": [
        "speed of the motor when 50 Amp current taking from supply = 1241.86 rpm \n",
        "electro-magnetic torque generatedwhen motor running at 600 rpm = 342.36 Nw-m \n",
        "electro-magnetic torque generated in second case = 85.59 Nw-m \n"
       ]
      }
     ],
     "prompt_number": 81
    },
    {
     "cell_type": "heading",
     "level": 2,
     "metadata": {},
     "source": [
      "Exam:2.40 page 110"
     ]
    },
    {
     "cell_type": "code",
     "collapsed": false,
     "input": [
      "#Caption:What resistance must be inserted in series with the armature to reduce the speed to 500 rpm\n",
      "\n",
      "V=250 #applied voltage to a shunt motor(in V)\n",
      "I_a=20 #armature current(in Amp)\n",
      "R_a=0.5 #armature resistance(in Ohm)\n",
      "N_1=1000 #speed of the motor due to these readings(in rpm)\n",
      "E_1=V-I_a*R_a #emf induced in machine(in V)\n",
      "N_2=500 #desired speed of the motor(in rpm)\n",
      "E_2=(N_2/N_1)*E_1 #emf in case of motor speed N_2\n",
      "#R_1 additional resistance added to reduce the speed to 500 rpm\n",
      "R_1=(V-E_2)/I_a-R_a #resistance applied in series with armature to reduce the speed to 500 rpm\n",
      "print 'resistance applied in series with armature to reduce the speed to 500 rpm = %0.2f Ohm '%R_1 \n",
      "# Answer wrong in the textbook."
     ],
     "language": "python",
     "metadata": {},
     "outputs": [
      {
       "output_type": "stream",
       "stream": "stdout",
       "text": [
        "resistance applied in series with armature to reduce the speed to 500 rpm = 6.00 Ohm \n"
       ]
      }
     ],
     "prompt_number": 83
    },
    {
     "cell_type": "heading",
     "level": 2,
     "metadata": {},
     "source": [
      "Exam:2.41 page 129"
     ]
    },
    {
     "cell_type": "code",
     "collapsed": false,
     "input": [
      "#Caption:Determine the torque in Kgm.,H.P. & efficiency of the motor.\n",
      "\n",
      "W_1=75 #load on one side of the brake(in Kg)\n",
      "W_2=5 #load on other side of the brake(in Kg)\n",
      "W=W_1-W_2 #effective force(in Kg)\n",
      "R=1 #radius of the brake pulley (in m)\n",
      "T=W*R #torque(in Kg-m)\n",
      "N=1200 #speed of the small shunt motor(in rpm)\n",
      "H=(2*3.14)*(N*T)/33000 #torque in H.P.\n",
      "print 'torque = %0.2f H.P. '% H \n",
      "H_P=735.5 #value of one H.P.\n",
      "O_p=H*H_P #output power(in Watt)\n",
      "I_c=80 #input current(in Amp)\n",
      "V=250 #input voltage(in V)\n",
      "I_p=I_c*V #input power(in Watt)\n",
      "E=(O_p/I_p)*100 #efficiency of the motor\n",
      "print 'efficiency of the motor = %0.2f %%'%E \n",
      "# 2nd part Answer wrong in the textbook."
     ],
     "language": "python",
     "metadata": {},
     "outputs": [
      {
       "output_type": "stream",
       "stream": "stdout",
       "text": [
        "torque = 15.99 H.P. \n",
        "efficiency of the motor = 58.79 %\n"
       ]
      }
     ],
     "prompt_number": 86
    },
    {
     "cell_type": "heading",
     "level": 2,
     "metadata": {},
     "source": [
      "Exam:2.42 page 129\n"
     ]
    },
    {
     "cell_type": "code",
     "collapsed": false,
     "input": [
      "#Caption:Determine the torque in Kgm.,output in Watts & efficiency of the motor.\n",
      "\n",
      "W_1=40 #load on one side of the brake(in Kg)\n",
      "W_2=5 #load on other side of the brake(in Kg)\n",
      "W=W_1-W_2 #effective force(in Kg)\n",
      "R=0.5 #radius of the brake pulley (in m)\n",
      "T=W*R #torque(in Kg-m)\n",
      "N=1500 #speed of the small shunt motor(in rpm)\n",
      "O=(2*3.14)*(N*T)/60 #output (in Kg-m/sec)\n",
      "O_p=O*9.81 #output (in watts)\n",
      "print 'output = %0.2f watts'%ceil(O_p) \n",
      "I_c=80 #input current(in Amp)\n",
      "V=400 #input voltage(in V)\n",
      "I_p=I_c*V #input power(in Watt)\n",
      "E=(O_p/I_p)*100 #efficiency of the motor\n",
      "print 'efficiency of the motor = %0.1f %%'%E "
     ],
     "language": "python",
     "metadata": {},
     "outputs": [
      {
       "output_type": "stream",
       "stream": "stdout",
       "text": [
        "output = 26953.00 watts\n",
        "efficiency of the motor = 84.2 %\n"
       ]
      }
     ],
     "prompt_number": 88
    },
    {
     "cell_type": "heading",
     "level": 2,
     "metadata": {},
     "source": [
      "Exam:2.43 page 129"
     ]
    },
    {
     "cell_type": "code",
     "collapsed": false,
     "input": [
      "#Caption:Calculate the efficiency of the motor\n",
      "\n",
      "W=10 #Spring reading (in Kg)\n",
      "R=0.8 #brake arm length (in m)\n",
      "T=W*R #torque (in kg-m)\n",
      "N=1200 #speed of the small shunt motor(in rpm)\n",
      "O=(2*3.14)*(N*T)/60 #output (in Kg-m/sec)\n",
      "O_p=O*9.81 #output (in watts)\n",
      "V=250 #input voltage(in V)\n",
      "I=50 #input current(in Amp)\n",
      "I_p=V*I #input power(in watts)\n",
      "E=(O_p/I_p)*100 #efficiency of the motor\n",
      "print 'efficiency of the motor = %0.2f %%'%E "
     ],
     "language": "python",
     "metadata": {},
     "outputs": [
      {
       "output_type": "stream",
       "stream": "stdout",
       "text": [
        "efficiency of the motor = 78.86 %\n"
       ]
      }
     ],
     "prompt_number": 89
    },
    {
     "cell_type": "heading",
     "level": 2,
     "metadata": {},
     "source": [
      "Exam:2.44 page 130"
     ]
    },
    {
     "cell_type": "code",
     "collapsed": false,
     "input": [
      "#Caption:Estimate the output and efficiency of a shunt motor when the input current is 20Amp and 100Amp\n",
      "\n",
      "V=500 #applied voltage(in V)\n",
      "R_sh=500 #field resistance (in Ohm)\n",
      "R_a=0.2 #armature resistance(in Ohm)\n",
      "I_o=4 #no load current (in Amp)\n",
      "I_sh=V/R_sh #field current(in Amp)\n",
      "I_a=I_o-I_sh #armature current(in Amp)\n",
      "L_cf=V*I_sh #copper losses in field(in watts)\n",
      "L_ca=(I_a**2)*R_a #copper losses in armature(in watts)\n",
      "L_tc=L_cf+L_ca #total copper losses\n",
      "L_t=V*I_o #input power to motor on no load(in watts)\n",
      "L_m=L_t-L_tc #iron & mechanical losses(in watts)\n",
      "L_c=L_m+L_cf #constant losses(in watts)\n",
      "#(a) when input current is 20 Amp\n",
      "I_l1=20 #input current(in Amp)\n",
      "I_a1=I_l1-I_sh #armature current when I_l1 input current(in Amp)\n",
      "L_ca1=(I_a1**2)*R_a #copper losses in armature when I_l1 input current(in watts)\n",
      "L_T1=L_c+L_ca1 #total losses at this load(in watts)\n",
      "I_p=V*I_l1 #input power(in watts)\n",
      "O_p1=I_p-L_T1 #output power when input current is 20 Amp(in watts)\n",
      "print 'output power when input current is 20 Amp = %0.2f Watts '%O_p1 \n",
      "E_1=(O_p1/I_p)*100 #efficiency of the shunt motor when input current is 20 Amp\n",
      "print 'efficiency of the shunt motor when input current is 20 Amp = %0.3f %%'%E_1 \n",
      "#(b) when input current is 100 Amp\n",
      "I_l2=100 #input current(in Amp)\n",
      "I_a2=I_l2-I_sh #armature current when I_l2 input current(in Amp)\n",
      "L_ca2=(I_a2**2)*R_a #copper losses in armature when I_l2 input current(in watts)\n",
      "L_T2=L_c+L_ca2 #total losses at this load(in watts)\n",
      "I_p=V*I_l2 #input power(in watts)\n",
      "O_p2=I_p-L_T2 #output power when input current is 100 Amp(in watts)\n",
      "print 'output power when input current is 100 Amp = %0.2f Watts '%O_p2 \n",
      "E_2=(O_p2/I_p)*100 #efficiency of the shunt motor when input current is 100 Amp\n",
      "print 'efficiency of the shunt motor when input current is 100 Amp = %0.2f %%'%E_2 "
     ],
     "language": "python",
     "metadata": {},
     "outputs": [
      {
       "output_type": "stream",
       "stream": "stdout",
       "text": [
        "output power when input current is 20 Amp = 7929.60 Watts \n",
        "efficiency of the shunt motor when input current is 20 Amp = 79.296 %\n",
        "output power when input current is 100 Amp = 46041.60 Watts \n",
        "efficiency of the shunt motor when input current is 100 Amp = 92.08 %\n"
       ]
      }
     ],
     "prompt_number": 91
    },
    {
     "cell_type": "heading",
     "level": 2,
     "metadata": {},
     "source": [
      "Exam:2.45 page 131"
     ]
    },
    {
     "cell_type": "code",
     "collapsed": false,
     "input": [
      "#Caption:Calculate the motor output, H.P. and efficiency when the total current taken from the mains is 35 Amp\n",
      "\n",
      "V=230 #applied voltage(in V)\n",
      "R_sh=230 #field resistance (in Ohm)\n",
      "R_a=0.3 #armature resistance(in Ohm)\n",
      "I_o=2.5 #no load current (in Amp)\n",
      "I_sh=V/R_sh #field current(in Amp)\n",
      "I_a=I_o-I_sh #armature current(in Amp)\n",
      "L_cf=V*I_sh #copper losses in field(in watts)\n",
      "L_ca=(I_a**2)*R_a #copper losses in armature(in watts)\n",
      "L_tc=L_cf+L_ca #total copper losses\n",
      "L_t=V*I_o #input power to motor on no load(in watts)\n",
      "L_m=L_t-L_tc #iron & mechanical losses(in watts)\n",
      "L_c=L_m+L_cf #constant losses(in watts)\n",
      "# when input current is 35 Amp(On load condition)\n",
      "I_l=35 #input current(in Amp)\n",
      "I_a1=I_l-I_sh #armature current when I_l input current(in Amp)\n",
      "L_ca1=(I_a1**2)*R_a #copper losses in armature when I_l input current(in watts)\n",
      "L_T1=L_c+L_ca1 #total losses at this load(in watts)\n",
      "I_p=V*I_l #input power(in watts)\n",
      "O_p=I_p-L_T1 #output power(in watts)\n",
      "print 'output power of motor = %0.3f Watts '%O_p \n",
      "Hp=O_p/746 #the shunt motor H.P\n",
      "print 'the shunt motor H.P.= %0.2f'%Hp \n",
      "E_1=(O_p/I_p)*100 #efficiency of the shunt motor when input current is 35 Amp\n",
      "print 'efficiency of the shunt motor when input current is 35 Amp = %0.1f %%'%E_1 "
     ],
     "language": "python",
     "metadata": {},
     "outputs": [
      {
       "output_type": "stream",
       "stream": "stdout",
       "text": [
        "output power of motor = 7128.875 Watts \n",
        "the shunt motor H.P.= 9.56\n",
        "efficiency of the shunt motor when input current is 35 Amp = 88.6 %\n"
       ]
      }
     ],
     "prompt_number": 95
    },
    {
     "cell_type": "heading",
     "level": 2,
     "metadata": {},
     "source": [
      "Exam:2.46 page 132"
     ]
    },
    {
     "cell_type": "code",
     "collapsed": false,
     "input": [
      "#Caption:Calculate the full load motor output and its efficiency\n",
      "\n",
      "V=500 #applied voltage(in V)\n",
      "R_sh=250 #field resistance (in Ohm)\n",
      "R_a=0.2 #resistance of armature including brushes(in Ohm)\n",
      "I_o=5 #no load current (in Amp)\n",
      "I_sh=V/R_sh #shunt field current(in Amp)\n",
      "I_a=I_o-I_sh #armature current(in Amp)\n",
      "L_a=(I_a**2)*R_a #armature brush drop(in watts)\n",
      "L_t=V*I_o #input to motor on no load(in watts)\n",
      "L_c=L_t-L_a #constant losses(in watts)\n",
      "#On full load condition\n",
      "I_l=52 #input current(in Amp)\n",
      "I_a1=I_l-I_sh #armature current when I_l1 input current(in Amp)\n",
      "L_a1=(I_a1**2)*R_a #losses in armature when I_l1 input current(in watts)\n",
      "L_T1=L_c+L_a1 #total losses at this load(in watts)\n",
      "I_p=V*I_l #input power(in watts)\n",
      "O_p=I_p-L_T1 #output power(in watts)\n",
      "print 'output of the motor = %0.2f Watts '%O_p \n",
      "Hp=O_p/735.5 #the shunt motor H.P\n",
      "print 'the shunt motor H.P.= %0.2f' %Hp\n",
      "E_1=(O_p/I_p)*100 #efficiency of the full load shunt motor when input current is 52 Amp\n",
      "print 'efficiency of the full load shunt motor when input current is 52 Amp = %0.1f %%'%E_1 "
     ],
     "language": "python",
     "metadata": {},
     "outputs": [
      {
       "output_type": "stream",
       "stream": "stdout",
       "text": [
        "output of the motor = 23001.80 Watts \n",
        "the shunt motor H.P.= 31.27\n",
        "efficiency of the full load shunt motor when input current is 52 Amp = 88.5 %\n"
       ]
      }
     ],
     "prompt_number": 98
    },
    {
     "cell_type": "heading",
     "level": 2,
     "metadata": {},
     "source": [
      "Exam:2.47 page 132"
     ]
    },
    {
     "cell_type": "code",
     "collapsed": false,
     "input": [
      "#Caption:Determine the input in Watts & efficiency of the generator\n",
      "\n",
      "O_p=50 #output of a machine (in KW)\n",
      "O_p1=50*(10)**3 #output (in watts)\n",
      "L_i=4000 #internal losses(in watts)\n",
      "I_p=O_p1+L_i #input(in watts)\n",
      "print 'input = %0.f Watts '%I_p \n",
      "E=(O_p1/I_p)*100 #efficiency of the generator\n",
      "print 'efficiency of the generator = %0.2f %%'% E "
     ],
     "language": "python",
     "metadata": {},
     "outputs": [
      {
       "output_type": "stream",
       "stream": "stdout",
       "text": [
        "input = 54000 Watts \n",
        "efficiency of the generator = 92.59 %\n"
       ]
      }
     ],
     "prompt_number": 100
    },
    {
     "cell_type": "heading",
     "level": 2,
     "metadata": {},
     "source": [
      "Exam:2.48 page 133"
     ]
    },
    {
     "cell_type": "code",
     "collapsed": false,
     "input": [
      "#Caption:Determine the internal losses,torque & efficiency of the motor\n",
      "\n",
      "V=240 #supply voltage(in V)\n",
      "I=80 #motor taking current(in Amp)\n",
      "Hp=20 #motor giving H.P.\n",
      "I_p=V*I #input (in watts)\n",
      "O_p=Hp*735.5 #output (in watts)\n",
      "L_i=I_p-O_p #internal losses(in watts)\n",
      "print 'internal losses in motor = %0.2f Watts '%L_i \n",
      "N=1300 #motor speed (in rpm)\n",
      "T=O_p*60/(2*3.14*N) #torque generated in motor(in Nw-m)\n",
      "print 'torque generated in motor = %0.f Nw-m '% T \n",
      "E=(O_p/I_p)*100 #efficiency of the motor\n",
      "print 'efficiency of the motor = %0.1f %%' %E"
     ],
     "language": "python",
     "metadata": {},
     "outputs": [
      {
       "output_type": "stream",
       "stream": "stdout",
       "text": [
        "internal losses in motor = 4490.00 Watts \n",
        "torque generated in motor = 108 Nw-m \n",
        "efficiency of the motor = 76.6 %\n"
       ]
      }
     ],
     "prompt_number": 103
    },
    {
     "cell_type": "heading",
     "level": 2,
     "metadata": {},
     "source": [
      "Exam:2.49 page 133"
     ]
    },
    {
     "cell_type": "code",
     "collapsed": false,
     "input": [
      "#Caption:Find the copper losses,iron& friction losses and commerical efficiency.\n",
      "\n",
      "V=250 #supply voltage(in V)\n",
      "R_sh=100 #shunt field resistance(in Ohm)\n",
      "R_a=0.1 #armature resistance(in Ohm)\n",
      "I_sh=V/R_sh #field current(in Amp)\n",
      "I_l=197.5 #motor taking current(in Amp)\n",
      "I_a=I_l+I_sh #Armature current(in Amp)\n",
      "E=V+I_a*R_a #E.M.F generated(in V)\n",
      "Hp=80 #motor giving H.P.\n",
      "P_m=Hp*735.5 #mechanical power input (in watts)\n",
      "P_a=E*I_a #electrical power developed in armature(in watts)\n",
      "L_i=P_m-P_a #iron & friction losses(in watts)\n",
      "print 'iron & friction losses in motor = %0.2f Watts '%L_i \n",
      "O_p=V*I_l #electrical power output\n",
      "L_c=P_a-O_p #copper losses(in watts)\n",
      "print 'copper losses in a shunt generator = %0.2f Watts '%L_c \n",
      "L_t=L_i+L_c #Total losses(in Watts)\n",
      "I_p=O_p+L_t #Input(in Watts)\n",
      "E_f=(O_p/I_p)*100 #Commerical efficiency\n",
      "print 'commerical efficiency = %0.2f %%'%E_f \n",
      "# 3rd part Answer wrong in the textbook."
     ],
     "language": "python",
     "metadata": {},
     "outputs": [
      {
       "output_type": "stream",
       "stream": "stdout",
       "text": [
        "iron & friction losses in motor = 4840.00 Watts \n",
        "copper losses in a shunt generator = 4625.00 Watts \n",
        "commerical efficiency = 83.91 %\n"
       ]
      }
     ],
     "prompt_number": 105
    },
    {
     "cell_type": "heading",
     "level": 2,
     "metadata": {},
     "source": [
      "Exam:2.50 page 134"
     ]
    },
    {
     "cell_type": "code",
     "collapsed": false,
     "input": [
      "#Caption:Determine Copper losses and total losses and Output and BHP of the motor and efficiency of the motor\n",
      "\n",
      "V=230 #supply voltage(in V)\n",
      "I_l=200 #line current(in Amp)\n",
      "I_p=V*I_l #input power (in watts)\n",
      "R_sh=50 #shunt field resistance(in Ohm)\n",
      "R_a=0.04 #armature resistance (in ohm)\n",
      "I_sh=V/R_sh #shunt field currrent(in Amp)\n",
      "I_a=I_l-I_sh #armature current(in Amp)\n",
      "L_cf=V*I_sh #copper losses in the field(in watts)\n",
      "L_ca=(I_a**2)*R_a #copper loses in armature(in watts)\n",
      "L_ct=L_cf+L_ca #Total copper losses(in watts)\n",
      "print 'copper losses of the motor = %0.2f Watts '%L_ct \n",
      "L_s=1500 #Stray losses (in watts)\n",
      "L_t=L_ct+L_s #total losses(in watts)\n",
      "print 'total losses of the motor = %0.2f Watts '%L_t \n",
      "O_p=I_p-L_t #output of the motor(in watts)\n",
      "print 'Output of the motor = %0.2f Watts'%O_p \n",
      "Bhp=O_p/735.5 #B.H.P. of the motor (in H.P.)\n",
      "print 'B.H.P. of the motor = %0.3f H.P. '%Bhp \n",
      "E=(O_p/I_p)*100 #efficiency of the motor(in %)\n",
      "print 'efficiency of the motor = %0.2f %%'%E "
     ],
     "language": "python",
     "metadata": {},
     "outputs": [
      {
       "output_type": "stream",
       "stream": "stdout",
       "text": [
        "copper losses of the motor = 2585.25 Watts \n",
        "total losses of the motor = 4085.25 Watts \n",
        "Output of the motor = 41914.75 Watts\n",
        "B.H.P. of the motor = 56.988 H.P. \n",
        "efficiency of the motor = 91.12 %\n"
       ]
      }
     ],
     "prompt_number": 107
    },
    {
     "cell_type": "heading",
     "level": 2,
     "metadata": {},
     "source": [
      "Exam:2.51 page 135"
     ]
    },
    {
     "cell_type": "code",
     "collapsed": false,
     "input": [
      "#Caption:Calculate the speed and BHP of the motor\n",
      "\n",
      "V=250 #applied emf(in V)\n",
      "R_sh=0.05 #field resistance (in Ohm)\n",
      "R_a=0.1 #armature resistance(in Ohm)\n",
      "I=80 #motor current(in Amp)\n",
      "A_s=240 #armature slots \n",
      "C_s=4 #number of conductor per slot\n",
      "Z=A_s*C_s #total number of conductor\n",
      "E_b=V-I*(R_a+R_sh) #Back emf(in V)\n",
      "A=2 #number of parallel paths for wave wound\n",
      "P=6 #poles\n",
      "F=1.75 #flux per pole (in megalines)\n",
      "F_1=1.75*10**-2 #flux per pole (in Wb)\n",
      "N=E_b*60*A/(F_1*Z*P) #speed of the motor (in rpm)\n",
      "print 'speed of the motor = %0.f rpm '%N \n",
      "I_p=V*I #input to the motor(in watts)\n",
      "L_c=(I**2)*(R_a+R_sh) #copper losses(in watts)\n",
      "L_i=900 #iron and friction losses(in watts)\n",
      "L_t=L_c+L_i #total losses(in watts)\n",
      "O_p=I_p-L_t #output(in watts)\n",
      "BHP=O_p/746 #B.H.P. of the motor\n",
      "print 'B.H.P. of the motor = %0.1f H.P'% BHP "
     ],
     "language": "python",
     "metadata": {},
     "outputs": [
      {
       "output_type": "stream",
       "stream": "stdout",
       "text": [
        "speed of the motor = 283 rpm \n",
        "B.H.P. of the motor = 24.3 H.P\n"
       ]
      }
     ],
     "prompt_number": 111
    }
   ],
   "metadata": {}
  }
 ]
}
