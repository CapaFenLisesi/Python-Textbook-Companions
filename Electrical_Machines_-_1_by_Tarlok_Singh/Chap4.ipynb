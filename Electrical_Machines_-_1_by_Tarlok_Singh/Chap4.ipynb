{
 "metadata": {
  "name": "",
  "signature": ""
 },
 "nbformat": 3,
 "nbformat_minor": 0,
 "worksheets": [
  {
   "cells": [
    {
     "cell_type": "heading",
     "level": 1,
     "metadata": {},
     "source": [
      "Chapter4 - Three Phase Transformer"
     ]
    },
    {
     "cell_type": "heading",
     "level": 2,
     "metadata": {},
     "source": [
      "Exam:4.1 page 263"
     ]
    },
    {
     "cell_type": "code",
     "collapsed": false,
     "input": [
      "from __future__ import division\n",
      "from math import ceil\n",
      "#Caption:Determines the turns per phase for the HV and LV winding of the 3 phase transformer.\n",
      "\n",
      "F_max=0.024 #Maximum flux (in weber)\n",
      "f=50 #Supply frequency(in Hz)\n",
      "E_1p=11000 #Primary phase voltage(in Volts)\n",
      "N_1=ceil(E_1p/(4.44*F_max*f)) #Turns per phase on primary\n",
      "print 'turns per phase for the H.V. winding of the 3 phase transformer =',N_1\n",
      "E_2l=400 #Secondary line voltage(in Volts)\n",
      "E_2p=E_2l/(3)**(1/2) #Secondary phase voltage(in Volts)\n",
      "N_2=ceil(E_2p/(4.44*F_max*f)) #turns per phase for the L.V. winding of the 3 phase transformer\n",
      "print 'turns per phase for the L.V. winding of the 3 phase transformer =',N_2\n",
      "# Answer wrong in the textbook."
     ],
     "language": "python",
     "metadata": {},
     "outputs": [
      {
       "output_type": "stream",
       "stream": "stdout",
       "text": [
        "turns per phase for the H.V. winding of the 3 phase transformer = 2065.0\n",
        "turns per phase for the L.V. winding of the 3 phase transformer = 44.0\n"
       ]
      }
     ],
     "prompt_number": 2
    },
    {
     "cell_type": "heading",
     "level": 2,
     "metadata": {},
     "source": [
      "Exam:4.2 page 264"
     ]
    },
    {
     "cell_type": "code",
     "collapsed": false,
     "input": [
      "#Caption:In a three phase transformer Calculate the secondary line voltage at no load \n",
      "\n",
      "#when windings are star delta connected\n",
      "V=3300 #the supply voltage(in Volts)\n",
      "V_l1=V #Primary line voltage in star delta conection\n",
      "N_1=420 #turns on the primary side of the transformer\n",
      "N_2=36 #turns on the secondary side of the transformer\n",
      "V_p1=V_l1/(3)**(1/2) #Primary phase voltage in star delta connection\n",
      "V_p2=V_p1*(N_2/N_1) #Secondary phase voltage in star delta connection\n",
      "V_l2=V_p2 #Secondary line voltage when windings are star delta connected(in Volts)\n",
      "print 'Secondary line voltage when windings are star delta connected = %0.2f Volts '%V_l2 \n",
      "#when windings are delta star connected\n",
      "V_P1=V #Primary phase voltage(in Volts)\n",
      "V_L1=V_P1 #Primary line voltage in delta star connection\n",
      "V_P2=V_P1*(N_2/N_1) #Secondary phase voltage in delta star connection\n",
      "V_L2=V_P2*(3)**(1/2) #Secondary line voltage when windings are delta star connected(in Volts)= \n",
      "print 'Secondary line voltage when windings are delta star connected = %0.2f Volts '%V_L2 "
     ],
     "language": "python",
     "metadata": {},
     "outputs": [
      {
       "output_type": "stream",
       "stream": "stdout",
       "text": [
        "Secondary line voltage when windings are star delta connected = 163.31 Volts \n",
        "Secondary line voltage when windings are delta star connected = 489.92 Volts \n"
       ]
      }
     ],
     "prompt_number": 3
    },
    {
     "cell_type": "heading",
     "level": 2,
     "metadata": {},
     "source": [
      "Exam:4.3 page 264"
     ]
    },
    {
     "cell_type": "code",
     "collapsed": false,
     "input": [
      "#Caption:Find the secondary no load voltage and primary secondary currents in a 3 phase transformer\n",
      "\n",
      "V_l=11000 #Input voltage(in Volts)\n",
      "V_1ph=V_l/(3)**(1/2) #Phase voltage\n",
      "KVA=50*10**(3) #\n",
      "#KVA=((3)**(1/2))*V_l*I_l\n",
      "I_1l=KVA/(((3)**(1/2))*V_l) #Line current\n",
      "I_1ph=I_1l #Star system value of phase current\n",
      "print 'Value of primary phase and line current = %0.2f Amp '%I_1ph \n",
      "N_1=1000 #Primary turns\n",
      "N_2=90 #Secondary turns\n",
      "V_2ph=(N_2/N_1)*V_1ph #secondary phase voltage(in Volts)\n",
      "#V_2ph=V_2l delta system\n",
      "print 'Value of secondary phase and line voltage = %0.2f Volts '%V_2ph \n",
      "I_2ph=(N_1/N_2)*I_1ph #secondary phase current(in Amp)\n",
      "print 'Value of secondary phase current = %0.2f Amp '%I_2ph \n",
      "I_2l=I_2ph*3**(1/2) #secondary line current(in Amp)\n",
      "print 'Value of secondary line current = %0.2f Amp' %I_2l"
     ],
     "language": "python",
     "metadata": {},
     "outputs": [
      {
       "output_type": "stream",
       "stream": "stdout",
       "text": [
        "Value of primary phase and line current = 2.62 Amp \n",
        "Value of secondary phase and line voltage = 571.58 Volts \n",
        "Value of secondary phase current = 29.16 Amp \n",
        "Value of secondary line current = 50.51 Amp\n"
       ]
      }
     ],
     "prompt_number": 4
    }
   ],
   "metadata": {}
  }
 ]
}
