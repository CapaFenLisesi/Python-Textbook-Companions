{
 "metadata": {
  "name": "",
  "signature": ""
 },
 "nbformat": 3,
 "nbformat_minor": 0,
 "worksheets": [
  {
   "cells": [
    {
     "cell_type": "heading",
     "level": 1,
     "metadata": {},
     "source": [
      "Chapter3 - Transformer(Single Phase)"
     ]
    },
    {
     "cell_type": "heading",
     "level": 2,
     "metadata": {},
     "source": [
      "Exam:3.1 page 167"
     ]
    },
    {
     "cell_type": "code",
     "collapsed": false,
     "input": [
      "from __future__ import division\n",
      "from math import ceil\n",
      "#Caption:Calculate the number of turns on both primary and secondary winding in a single phase transformer\n",
      "\n",
      "E_1=500 #primary induced emf(in Volts)\n",
      "E_2=250 #secondary induced emf(in Volts)\n",
      "F=50 #supply frequency(in Hz)\n",
      "B_max=1.2 #maximum flux density(in T)\n",
      "a=0.009 #cross sectional area(in square meter)\n",
      "F_x=B_max*a #maximum value of flux(in Wb)\n",
      "N_1=ceil(E_1/(4.44*F*F_x)) #number of primary turns\n",
      "print 'number of primary turns in transformer =',N_1 \n",
      "N_2=ceil(E_2/(4.44*F*F_x)) #number of secondary turns\n",
      "print 'number of secondary turns in transformer =',N_2 "
     ],
     "language": "python",
     "metadata": {},
     "outputs": [
      {
       "output_type": "stream",
       "stream": "stdout",
       "text": [
        "number of primary turns in transformer = 209.0\n",
        "number of secondary turns in transformer = 105.0\n"
       ]
      }
     ],
     "prompt_number": 1
    },
    {
     "cell_type": "heading",
     "level": 2,
     "metadata": {},
     "source": [
      "Exam:3.2 page 167"
     ]
    },
    {
     "cell_type": "code",
     "collapsed": false,
     "input": [
      "#Caption:In a loss less transformer calculate \n",
      "#(a)Number of turns on high voltage side (b)The primary current (c)The secondary current\n",
      "\n",
      "V_1=110 #primary voltage(in Volts)\n",
      "V_2=220 #secondary voltage(in Volts)\n",
      "N_1=130 #low voltage side turns\n",
      "N_2=N_1*V_2/V_1 #high voltage side turns\n",
      "print 'Number of turns on high voltage side =',N_2 \n",
      "O_p=1 #Output of the transformer in KVA\n",
      "I_2=O_p*1000/V_2 #Secondary current(in Amp)\n",
      "I_1=O_p*1000/V_1 #Primary current(in Amp)\n",
      "print 'Primary current = %0.2f Amp'%I_1\n",
      "print 'Secondary current = %0.2f Amp'%I_2 "
     ],
     "language": "python",
     "metadata": {},
     "outputs": [
      {
       "output_type": "stream",
       "stream": "stdout",
       "text": [
        "Number of turns on high voltage side = 260.0\n",
        "Primary current = 9.09 Amp\n",
        "Secondary current = 4.55 Amp\n"
       ]
      }
     ],
     "prompt_number": 2
    },
    {
     "cell_type": "heading",
     "level": 2,
     "metadata": {},
     "source": [
      "Exam:3.3 Page 168"
     ]
    },
    {
     "cell_type": "code",
     "collapsed": false,
     "input": [
      "#Caption:Calculate the secondary voltage and the volts per turn\n",
      "\n",
      "N_1=800 #Primary turns in a transformer\n",
      "N_2=200 #Secondary turns in a transformer\n",
      "V_1=100 #Primary voltage\n",
      "V_2=V_1*(N_2/N_1) #Secondary voltage\n",
      "print 'Secondary voltage = %0.2f Volts '%V_2 \n",
      "V_n=V_1/N_1 #Volts per turn\n",
      "print 'Volts per turn =',V_n "
     ],
     "language": "python",
     "metadata": {},
     "outputs": [
      {
       "output_type": "stream",
       "stream": "stdout",
       "text": [
        "Secondary voltage = 25.00 Volts \n",
        "Volts per turn = 0.125\n"
       ]
      }
     ],
     "prompt_number": 3
    },
    {
     "cell_type": "heading",
     "level": 2,
     "metadata": {},
     "source": [
      "Exam:3.4 Page 169"
     ]
    },
    {
     "cell_type": "code",
     "collapsed": false,
     "input": [
      "#Caption:Calculate the primary current in a single phase transformer\n",
      "\n",
      "V_1=230 #Primary voltage(in Volts)\n",
      "V_2=460 #Secondary voltage(in Volts)\n",
      "I_2=10 #secondary current(in Amp)\n",
      "I_1=I_2*(V_2/V_1) #Primary current(in Amp)\n",
      "print 'Primary current = %0.2f Amp'%I_1"
     ],
     "language": "python",
     "metadata": {},
     "outputs": [
      {
       "output_type": "stream",
       "stream": "stdout",
       "text": [
        "Primary current = 20.00 Amp\n"
       ]
      }
     ],
     "prompt_number": 4
    },
    {
     "cell_type": "heading",
     "level": 2,
     "metadata": {},
     "source": [
      "Exam:3.5 Page 169"
     ]
    },
    {
     "cell_type": "code",
     "collapsed": false,
     "input": [
      "#Caption:Calculate (a)the approximate values of the primary and secondary currents (b)the approimate number of primary turns\n",
      "\n",
      "V_1=6600 #Primary voltage(in Volts)\n",
      "V_2=400 #Secondary voltage(in Volts)\n",
      "N_2=100 #secondary turns\n",
      "O_p=200 #output of a transformer in KVA\n",
      "I_1=O_p*1000/V_1 #Full load primary current(in Amp)\n",
      "print 'Full load primary current = %0.1f Amp'%I_1 \n",
      "I_2=O_p*1000/V_2 #Full load secondary current(in Amp)\n",
      "print 'Full load secondary current = %0.f Amp '%I_2 \n",
      "N_1=N_2*(V_1/V_2) #Number of primary turns\n",
      "print 'Number of primary turns =',N_1 "
     ],
     "language": "python",
     "metadata": {},
     "outputs": [
      {
       "output_type": "stream",
       "stream": "stdout",
       "text": [
        "Full load primary current = 30.3 Amp\n",
        "Full load secondary current = 500 Amp \n",
        "Number of primary turns = 1650.0\n"
       ]
      }
     ],
     "prompt_number": 8
    },
    {
     "cell_type": "heading",
     "level": 2,
     "metadata": {},
     "source": [
      "Exam:3.6 page 169"
     ]
    },
    {
     "cell_type": "code",
     "collapsed": false,
     "input": [
      "#Caption:Find voltage in secondary terminal\n",
      "V_1=100 #Primary voltage(in Volts)\n",
      "N_1=20 #Number of primary turns\n",
      "N_2=40 #Number of secondary turns\n",
      "V_2=(N_2/N_1)*V_1 #voltage of the secondary terminal(in Volts)\n",
      "print 'voltage of the secondary terminal = %0.2f V'%V_2"
     ],
     "language": "python",
     "metadata": {},
     "outputs": [
      {
       "output_type": "stream",
       "stream": "stdout",
       "text": [
        "voltage of the secondary terminal = 200.00 V\n"
       ]
      }
     ],
     "prompt_number": 9
    },
    {
     "cell_type": "heading",
     "level": 2,
     "metadata": {},
     "source": [
      "Exam:3.7 page 170"
     ]
    },
    {
     "cell_type": "code",
     "collapsed": false,
     "input": [
      "#Caption:Calculate the r.m.s value of the induced emf in the secondary coil.\n",
      "\n",
      "F_x=0.02 #Maximum value of flux(in Wb)\n",
      "N_2=55 #Number of secondary turns\n",
      "F=50 #Supply frequency(in Hz)\n",
      "E_2=4.44*F*F_x*N_2 #r.m.s value of induced emf in the secondary (in Volts)\n",
      "print 'r.m.s value of induced emf in the secondary = %0.1f Volts '%E_2 \n"
     ],
     "language": "python",
     "metadata": {},
     "outputs": [
      {
       "output_type": "stream",
       "stream": "stdout",
       "text": [
        "r.m.s value of induced emf in the secondary = 244.2 Volts \n"
       ]
      }
     ],
     "prompt_number": 11
    },
    {
     "cell_type": "heading",
     "level": 2,
     "metadata": {},
     "source": [
      "Exam:3.8 page 170"
     ]
    },
    {
     "cell_type": "code",
     "collapsed": false,
     "input": [
      "#Caption:In single phase transformer Calculate (a)The maximum flux density in the core and (b)induced emf in the secondary\n",
      "\n",
      "N_1=80 #Primary turns\n",
      "N_2=240 #secondary turns\n",
      "f=50 #Supply frequency(in Hz)\n",
      "E_1=240 #Supply voltage(in Volts)\n",
      "F_max=E_1/(4.44*f*N_1) #Maximum value of the flux in the core\n",
      "a=200 #Cross sectional area of core(in cm**2)\n",
      "A=a*10**-4 #Cross sectional area of core(in m**2)\n",
      "B_max=F_max/A #Peak value of flux density in the core(in T)\n",
      "print 'Peak value of flux density in the core = %0.4f T '%B_max \n",
      "E_2=E_1*(N_2/N_1) #Induced emf in the secondary winding(in Volts)\n",
      "print 'Induced emf in the secondary winding = %0.f Volts '%E_2 "
     ],
     "language": "python",
     "metadata": {},
     "outputs": [
      {
       "output_type": "stream",
       "stream": "stdout",
       "text": [
        "Peak value of flux density in the core = 0.6757 T \n",
        "Induced emf in the secondary winding = 720 Volts \n"
       ]
      }
     ],
     "prompt_number": 15
    },
    {
     "cell_type": "heading",
     "level": 2,
     "metadata": {},
     "source": [
      "Exam:3.9 page 171"
     ]
    },
    {
     "cell_type": "code",
     "collapsed": false,
     "input": [
      "#Caption:Calculate (a)Primary and secondary currents on full load (b)the maximum value of flux (c)the number of primary turns.\n",
      "\n",
      "O_p=200 #Rated output (in KVA)\n",
      "V_1=3300 #Primary voltage (in Volts)\n",
      "V_2=240 #Secondary voltage (in Volts)\n",
      "N_2=100 #Secondary turns\n",
      "f=50 #supply frequency(in Hz)\n",
      "I_1=O_p*1000/V_1 #Primary current(in Amp)\n",
      "print 'Primary current on full load = %0.2f Amp'%I_1 \n",
      "I_2=O_p*1000/V_2 #secondary current(in Amp)\n",
      "print 'secondary current on full load = %0.2f Amp '%I_2 \n",
      "F_x=V_2/(4.44*f*N_2) #Maximum value of flux(in Wb)\n",
      "print 'Maximum value of flux = %0.4f Wb '%F_x \n",
      "N_1=N_2*(V_1/V_2) #Primary turns\n",
      "print 'Primary turns =',N_1 \n",
      "# Answer wrong in the textbook."
     ],
     "language": "python",
     "metadata": {},
     "outputs": [
      {
       "output_type": "stream",
       "stream": "stdout",
       "text": [
        "Primary current on full load = 60.61 Amp\n",
        "secondary current on full load = 833.33 Amp \n",
        "Maximum value of flux = 0.0108 Wb \n",
        "Primary turns = 1375.0\n"
       ]
      }
     ],
     "prompt_number": 18
    },
    {
     "cell_type": "heading",
     "level": 2,
     "metadata": {},
     "source": [
      "Exam:3.10 page 175"
     ]
    },
    {
     "cell_type": "code",
     "collapsed": false,
     "input": [
      "#Caption:In a single phase transformer primary side is open , Find (a)core loss, (b)loss component of current ,(c)Magnetising current.\n",
      "\n",
      "\n",
      "O_p=50 #output (in KVA)\n",
      "V_2=230 #Secondary voltage(in Volts)\n",
      "P=187 #meter's power reading (in watt)\n",
      "I_w=P/V_2 #Loss component of current(in Amp)\n",
      "I_o=6.5 #meter's current reading (in Amp)\n",
      "I_m=((I_o)**2-(I_w)**2) #Magnetising current(in Amp)\n",
      "P=V_2*I_w #Core loss(in watt)\n",
      "print 'Core loss = %0.2f Watt '%P \n",
      "print 'Loss component of current = %0.3f Amp '%I_w \n",
      "print 'Magnetising current = %0.2f Amp'%I_m "
     ],
     "language": "python",
     "metadata": {},
     "outputs": [
      {
       "output_type": "stream",
       "stream": "stdout",
       "text": [
        "Core loss = 187.00 Watt \n",
        "Loss component of current = 0.813 Amp \n",
        "Magnetising current = 41.59 Amp\n"
       ]
      }
     ],
     "prompt_number": 20
    },
    {
     "cell_type": "heading",
     "level": 2,
     "metadata": {},
     "source": [
      "Exam:3.11 page 175"
     ]
    },
    {
     "cell_type": "code",
     "collapsed": false,
     "input": [
      "from math import pi, degrees, acos, sin, cos\n",
      "#Caption:In a transformer Calculate \n",
      "#(a)Magnetising component of no load current (b)the iron loss (c)the maximum value of flux in the core.\n",
      "\n",
      "V_1=460 #supply voltage(in Volts)\n",
      "I_o=15 #No load current (in Amp)\n",
      "p=degrees(acos(0.2)) #power angle(when power factor is 0.2)\n",
      "n=sin(p*pi/180) \n",
      "I_m=I_o*n #Magnetising component of no load current \n",
      "print 'Magnetising component of no load current = %0.2f Amp '%I_m \n",
      "L_ir=V_1*I_o*cos(p*pi/180)/1000 #the iron loss in transformer(in kWatt)\n",
      "print 'the iron loss in transformer = %0.2f kW '%L_ir \n",
      "E_1=V_1 #at no load condition\n",
      "N_1=550 #primary winding\n",
      "f=50 #supply frequency (in Hz)\n",
      "F_m=E_1/(4.44*N_1*f) #the maximum value of flux in the core(in Wb)\n",
      "print 'the maximum value of flux in the core = %0.4f Wb'%F_m "
     ],
     "language": "python",
     "metadata": {},
     "outputs": [
      {
       "output_type": "stream",
       "stream": "stdout",
       "text": [
        "Magnetising component of no load current = 14.70 Amp \n",
        "the iron loss in transformer = 1.38 kW \n",
        "the maximum value of flux in the core = 0.0038 Wb\n"
       ]
      }
     ],
     "prompt_number": 22
    },
    {
     "cell_type": "heading",
     "level": 2,
     "metadata": {},
     "source": [
      "Exam:3.12 page 176"
     ]
    },
    {
     "cell_type": "code",
     "collapsed": false,
     "input": [
      "#Caption:In a single phase transformer, Find (a)The magnetising current (b)The iron loss current \n",
      "\n",
      "p=degrees(acos(0.22)) #power angle(when power factor is 0.22)\n",
      "I_o=0.3 #no load current(in Amp)\n",
      "I_m=I_o*sin(p*pi/180) #Magnetising current(in Amp)\n",
      "print 'Magnetising current = %0.4f Amp'%I_m \n",
      "I_w=I_o*cos(p*pi/180) #Iron loss current (in Amp)\n",
      "print 'Iron loss current = %0.3f Amp '%I_w "
     ],
     "language": "python",
     "metadata": {},
     "outputs": [
      {
       "output_type": "stream",
       "stream": "stdout",
       "text": [
        "Magnetising current = 0.2926 Amp\n",
        "Iron loss current = 0.066 Amp \n"
       ]
      }
     ],
     "prompt_number": 25
    },
    {
     "cell_type": "heading",
     "level": 2,
     "metadata": {},
     "source": [
      "Exam:3.13 page 177"
     ]
    },
    {
     "cell_type": "code",
     "collapsed": false,
     "input": [
      "#Caption:Find the active and reactive components of a single phase transformer.\n",
      "\n",
      "V_1=440 #supply Voltage(in Volts)\n",
      "p=degrees(acos(0.3) )#power angle when power factor is 0.3\n",
      "P_o=80 #power input to the hv winding(in Watt)\n",
      "I_o=P_o/(V_1*cos(p*pi/180)) #No load current (in Amp)\n",
      "I_w=I_o*cos(p*pi/180) #Active component of no  load current (in Amp)\n",
      "print 'Active component of no load current = %0.3f Amp '%I_w \n",
      "I_m=I_o*sin(p*pi/180) #Reactive component of no load current (in Amp)\n",
      "print 'Reactive component of no load current = %0.3f Amp '%I_m "
     ],
     "language": "python",
     "metadata": {},
     "outputs": [
      {
       "output_type": "stream",
       "stream": "stdout",
       "text": [
        "Active component of no load current = 0.182 Amp \n",
        "Reactive component of no load current = 0.578 Amp \n"
       ]
      }
     ],
     "prompt_number": 28
    },
    {
     "cell_type": "heading",
     "level": 2,
     "metadata": {},
     "source": [
      "Exam:3.14 page 181"
     ]
    },
    {
     "cell_type": "code",
     "collapsed": false,
     "input": [
      "#Caption:In a single phase transformer Calculate the current taken by the primary winding.\n",
      "\n",
      "V_1=6600 #Primary voltage(in Volts)\n",
      "V_2=400 #Secondary voltage(in Volts)\n",
      "I_o=0.7 #NO load current(in Amp)\n",
      "p_o=0.24 #No load power factor\n",
      "q_o=degrees(acos(p_o)) #power angle when no load power factor is 0.24\n",
      "I_2=100 #Secondary current(in Amp)\n",
      "p_2=0.8 #Secondary power factor\n",
      "q_2=degrees(acos(p_2)) #power angle when secondary power factor is 0.8\n",
      "K=V_2/V_1 #ratio of primary to secondary voltage\n",
      "I_1=K*I_2 #primary current(in Amp)\n",
      "Q=q_o-q_2 #resultant power angle\n",
      "I=((I_o)**2 + (I_1)**2+2*I_o*I_1*cos(Q*pi/180))**(1/2) #Resultant current taken by the primary(in Amp)\n",
      "print 'Resultant current taken by the primary = %0.2f Amp '%I "
     ],
     "language": "python",
     "metadata": {},
     "outputs": [
      {
       "output_type": "stream",
       "stream": "stdout",
       "text": [
        "Resultant current taken by the primary = 6.62 Amp \n"
       ]
      }
     ],
     "prompt_number": 29
    },
    {
     "cell_type": "heading",
     "level": 2,
     "metadata": {},
     "source": [
      "Exam:3.15 page 182"
     ]
    },
    {
     "cell_type": "code",
     "collapsed": false,
     "input": [
      "#Caption:In a single phase transformer Calculate the current taken by the primary winding.\n",
      "\n",
      "V_1=440 #Primary voltage(in Volts)\n",
      "V_2=110 #Secondary voltage(in Volts)\n",
      "I_o=5 #NO load current(in Amp)\n",
      "p_o=0.2 #No load power factor\n",
      "q_o=degrees(acos(p_o)) #power angle when no load power factor is 0.24\n",
      "I_2=120 #Secondary current(in Amp)\n",
      "p_2=0.8 #Secondary power factor\n",
      "q_2=degrees(acos(p_2)) #power angle when secondary power factor is 0.8\n",
      "K=V_2/V_1 #ratio of primary to secondary voltage\n",
      "I_1=K*I_2 #primary current(in Amp)\n",
      "Q=q_o-q_2 #resultant power angle\n",
      "I=((I_o)**2 + (I_1)**2+2*I_o*I_1*cos(Q*pi/180))**(1/2) #Resultant current taken by the primary(in Amp)\n",
      "print 'Resultant current taken by the primary = %0.2f Amp '%I "
     ],
     "language": "python",
     "metadata": {},
     "outputs": [
      {
       "output_type": "stream",
       "stream": "stdout",
       "text": [
        "Resultant current taken by the primary = 33.90 Amp \n"
       ]
      }
     ],
     "prompt_number": 30
    },
    {
     "cell_type": "heading",
     "level": 2,
     "metadata": {},
     "source": [
      "Exam:3.16 page 187"
     ]
    },
    {
     "cell_type": "code",
     "collapsed": false,
     "input": [
      "#Caption:In a single phase transformer Calculate Equivalent resistance \n",
      "\n",
      "V_1=4400 #Primary voltage (in Volts)\n",
      "V_2=220 #Secondary voltage (in Volts)\n",
      "R_1=3.45 #Primary resistance (in Ohm)\n",
      "X_1=5.2 #Primary reactances (in Ohm)\n",
      "R_2=0.009 #secondary resistance (in Ohm)\n",
      "X_2=0.015 #secondary reactance (in Ohm)\n",
      "K=V_2/V_1 #voltage ratio\n",
      "R_o1=R_1+(R_2/K**2) #Equivalent resistance as referred to primary(in Ohm)\n",
      "print 'Equivalent resistance as referred to primary = %0.2f Ohm '%R_o1 \n",
      "R_o2=R_2+(R_1*K**2) #Equivalent resistance as referred to secondary(in Ohm)\n",
      "print 'Equivalent resistance as referred to secondary = %0.4f Ohm '%R_o2 \n",
      "X_o1=X_1+(X_2/K**2) #Equivalent reactance as referred to primary(in Ohm)\n",
      "print 'Equivalent reactance as referred to primary = %0.2f Ohm'%X_o1 \n",
      "X_o2=X_2+X_1*(K**2) #Equivalent reactance as referred to secondary(in Ohm)\n",
      "print 'Equivalent reactance as referred to secondary = %0.3f Ohm '%X_o2 \n",
      "Z_o1=((R_o1)**2 + (X_o1)**2)**(1/2) #Equivalent impedence as referred to primary(in Ohm)\n",
      "print 'Equivalent impedence as referred to primary = %0.2f Ohm'%Z_o1 \n",
      "Z_o2=((R_o2)**2 + (X_o2)**2)**(1/2) #Equivalent impedence as referred to secondary(in Ohm)\n",
      "print 'Equivalent impedence as referred to secondary = %0.3f Ohm'%Z_o2 "
     ],
     "language": "python",
     "metadata": {},
     "outputs": [
      {
       "output_type": "stream",
       "stream": "stdout",
       "text": [
        "Equivalent resistance as referred to primary = 7.05 Ohm \n",
        "Equivalent resistance as referred to secondary = 0.0176 Ohm \n",
        "Equivalent reactance as referred to primary = 11.20 Ohm\n",
        "Equivalent reactance as referred to secondary = 0.028 Ohm \n",
        "Equivalent impedence as referred to primary = 13.23 Ohm\n",
        "Equivalent impedence as referred to secondary = 0.033 Ohm\n"
       ]
      }
     ],
     "prompt_number": 34
    },
    {
     "cell_type": "heading",
     "level": 2,
     "metadata": {},
     "source": [
      "Exam:3.17 page 190"
     ]
    },
    {
     "cell_type": "code",
     "collapsed": false,
     "input": [
      "#Caption:In a single phase transformer Calculate the secondary terminal voltage at full load.\n",
      "\n",
      "V_1=2000 #Primary voltage at no load or full load(in Volts)\n",
      "V_2=400 #Secondary voltage at no load (in Volts)\n",
      "K=V_2/V_1 #Ratio of transformation\n",
      "R_1=5 #Primary resistance(in Ohm)\n",
      "R_2=0.2 #Secondary resistance(in Ohm)\n",
      "X_1=12 #Primary reactance(in Ohm)\n",
      "X_2=0.48 #Secondary reactance(in Ohm)\n",
      "R_o2=R_2 + (K**2)*R_1 #Equivalent resistance as referred to secondary(in Ohm)\n",
      "X_o2=X_2 + (K**2)*X_1 #Equivalent reactance as referred to secondary(in Ohm)\n",
      "O_p=10 #Rated output(i KVA)\n",
      "I_2=O_p*1000/V_2 #Full load secondary current(in Amp)\n",
      "p=0.8 #power factor\n",
      "a=degrees(acos(p)) #power angle\n",
      "V_d=I_2*R_o2*cos(a*pi/180) + I_2*X_o2*sin(a*pi/180) #Voltage drop (in Volts)\n",
      "V=V_2-V_d #Secondary terminal voltage at full load (in Volts)\n",
      "print 'Secondary terminal voltage at full load = %0.2f Volts '%V "
     ],
     "language": "python",
     "metadata": {},
     "outputs": [
      {
       "output_type": "stream",
       "stream": "stdout",
       "text": [
        "Secondary terminal voltage at full load = 377.60 Volts \n"
       ]
      }
     ],
     "prompt_number": 35
    },
    {
     "cell_type": "heading",
     "level": 2,
     "metadata": {},
     "source": [
      "Exam:3.18 page 191"
     ]
    },
    {
     "cell_type": "code",
     "collapsed": false,
     "input": [
      "#Caption:In a single phase transformer Calculate the secondary terminal voltage at full load.\n",
      "\n",
      "V_1=11000 #Primary voltage at no load or full load(in Volts)\n",
      "V_2=400 #Secondary voltage at no load (in Volts)\n",
      "K=V_2/V_1 #Ratio of transformation\n",
      "R_1=4 #Primary resistance(in Ohm)\n",
      "R_2=0.2 #Secondary resistance(in Ohm)\n",
      "X_1=10 #Primary reactance(in Ohm)\n",
      "X_2=0.4 #Secondary reactance(in Ohm)\n",
      "R_o2=R_2 + (K**2)*R_1 #Equivalent resistance as referred to secondary(in Ohm)\n",
      "X_o2=X_2 + (K**2)*X_1 #Equivalent reactance as referred to secondary(in Ohm)\n",
      "O_p=10 #Rated output(in KVA)\n",
      "I_2=O_p*1000/V_2 #Full load secondary current(in Amp)\n",
      "Z_o2=((R_o2)**2 +(X_o2)**2)**(1/2) #Equivalent impedance as referred to secondary(in Ohm)\n",
      "V=V_2-I_2*Z_o2 #Secondary terminal voltage at full load (in Volts)\n",
      "print 'Secondary terminal voltage at full load = %0.3f Volts '%V "
     ],
     "language": "python",
     "metadata": {},
     "outputs": [
      {
       "output_type": "stream",
       "stream": "stdout",
       "text": [
        "Secondary terminal voltage at full load = 388.465 Volts \n"
       ]
      }
     ],
     "prompt_number": 40
    },
    {
     "cell_type": "heading",
     "level": 2,
     "metadata": {},
     "source": [
      "Exam:3.19 page 195"
     ]
    },
    {
     "cell_type": "code",
     "collapsed": false,
     "input": [
      "#Caption:In a single phase transformer Determine equivalent resistance \n",
      "\n",
      "V_1=2000 #Primary voltage at no load or full load(in Volts)\n",
      "V_2=400 #Secondary voltage at no load (in Volts)\n",
      "K=V_2/V_1 #Ratio of transformation\n",
      "R_1=5.2 #Primary resistance(in Ohm)\n",
      "R_2=0.2 #Secondary resistance(in Ohm)\n",
      "X_1=12.5 #Primary reactance(in Ohm)\n",
      "X_2=0.5 #Secondary reactance(in Ohm)\n",
      "R_o2=R_2 + (K**2)*R_1 #Equivalent resistance as referred to secondary(in Ohm)\n",
      "print 'Equivalent resistance as referred to secondary = %0.2f Ohm '%R_o2 \n",
      "X_o2=X_2 + (K**2)*X_1 #Equivalent reactance as referred to secondary(in Ohm)\n",
      "print 'Equivalent reactance as referred to secondary = %0.2f Ohm '%X_o2 \n",
      "# Answer wrong in the textbook."
     ],
     "language": "python",
     "metadata": {},
     "outputs": [
      {
       "output_type": "stream",
       "stream": "stdout",
       "text": [
        "Equivalent resistance as referred to secondary = 0.41 Ohm \n",
        "Equivalent reactance as referred to secondary = 1.00 Ohm \n"
       ]
      }
     ],
     "prompt_number": 42
    },
    {
     "cell_type": "heading",
     "level": 2,
     "metadata": {},
     "source": [
      "Exam:3.20 page 195"
     ]
    },
    {
     "cell_type": "code",
     "collapsed": false,
     "input": [
      "#Caption:Determine equivalent resistance and reactance \n",
      "\n",
      "V_1=2000 #Primary voltage at no load or full load(in Volts)\n",
      "V_2=200 #Secondary voltage at no load (in Volts)\n",
      "K=V_2/V_1 #Ratio of transformation\n",
      "R_1=2 #Primary resistance(in Ohm)\n",
      "R_2=0.025 #Secondary resistance(in Ohm)\n",
      "X_1=4 #Primary reactance(in Ohm)\n",
      "X_2=0.04 #Secondary reactance(in Ohm)\n",
      "R_eq12=(K**2)*R_1 #equivalent resistance of primary referred to secondary(in Ohm)\n",
      "print 'equivalent resistance of primary referred to secondary = %0.2f Ohm '%R_eq12 \n",
      "X_eq12=(K**2)*X_1 #equivalent reactance of primary referred to secondary(in Ohm)\n",
      "print 'equivalent reactance of primary referred to secondary = %0.2f Ohm '%X_eq12 \n",
      "R_e2=(K**2)*R_1 + R_2 #total resistance of primary referred to secondary(in Ohm)\n",
      "print 'total resistance of primary referred to secondary = %0.3f Ohm '%R_e2 \n",
      "X_e2=(K**2)*X_1 + X_2 #total reactance of primary referred to secondary(in Ohm)\n",
      "print 'total reactance of primary referred to secondary = %0.3f Ohm '%X_e2 \n",
      "R_eq21=R_2/(K**2) #equivalent resistance of secondary referred to primar(in Ohm)\n",
      "print 'equivalent resistance of secondary referred to primary = %0.2f Ohm '%R_eq21 \n",
      "X_eq21=X_2/(K**2) #equivalent reactance of secondary referred to primar(in Ohm)\n",
      "print 'equivalent reactance of secondary referred to primary = %0.2f Ohm '%X_eq21 \n",
      "R_e1=R_1 + R_2/(K**2) #total resistance of secondary referred to primary(in Ohm)\n",
      "print 'total resistance of secondary referred to primary = %0.2f Ohm '%R_e1 \n",
      "X_e1=X_1 + X_2/(K**2) #total reactance of secondary referred to primary(in Ohm)\n",
      "print 'total reactance of secondary referred to primary = %0.2f Ohm '%X_e1 "
     ],
     "language": "python",
     "metadata": {},
     "outputs": [
      {
       "output_type": "stream",
       "stream": "stdout",
       "text": [
        "equivalent resistance of primary referred to secondary = 0.02 Ohm \n",
        "equivalent reactance of primary referred to secondary = 0.04 Ohm \n",
        "total resistance of primary referred to secondary = 0.045 Ohm \n",
        "total reactance of primary referred to secondary = 0.080 Ohm \n",
        "equivalent resistance of secondary referred to primary = 2.50 Ohm \n",
        "equivalent reactance of secondary referred to primary = 4.00 Ohm \n",
        "total resistance of secondary referred to primary = 4.50 Ohm \n",
        "total reactance of secondary referred to primary = 8.00 Ohm \n"
       ]
      }
     ],
     "prompt_number": 45
    },
    {
     "cell_type": "heading",
     "level": 2,
     "metadata": {},
     "source": [
      "Exam:3.21 Page 196"
     ]
    },
    {
     "cell_type": "code",
     "collapsed": false,
     "input": [
      "#Caption:Determine Primary resistance and total resistance of transformer referred to primary.\n",
      "\n",
      "V_1=2000 #Primary voltage at no load or full load(in Volts)\n",
      "V_2=220 #Secondary voltage at no load (in Volts)\n",
      "R_1=1.06 #Primary resistance(in Ohm)\n",
      "R_2=0.013 #Secondary resistance(in Ohm)\n",
      "K=V_2/V_1 #Ratio of transformation\n",
      "R_eq1=(K**2)*R_1 #Primary resistance referred to secondary(in Ohm)\n",
      "print 'Primary resistance referred to secondary = %0.4f Ohm '%R_eq1 \n",
      "R_eq2=R_2/(K**2) #secondary resistance referred to primary(in Ohm)\n",
      "print 'secondary resistance referred to primary = %0.4f Ohm '%R_eq2 \n",
      "R_e1=R_1 + R_eq2 #total resistance of transformer referred to primary(in Ohm)\n",
      "print 'total resistance of transformer referred to primary = %0.4f Ohm '%R_e1 "
     ],
     "language": "python",
     "metadata": {},
     "outputs": [
      {
       "output_type": "stream",
       "stream": "stdout",
       "text": [
        "Primary resistance referred to secondary = 0.0128 Ohm \n",
        "secondary resistance referred to primary = 1.0744 Ohm \n",
        "total resistance of transformer referred to primary = 2.1344 Ohm \n"
       ]
      }
     ],
     "prompt_number": 49
    },
    {
     "cell_type": "heading",
     "level": 2,
     "metadata": {},
     "source": [
      "Exam:3.22 page 200"
     ]
    },
    {
     "cell_type": "code",
     "collapsed": false,
     "input": [
      "#Caption:In a single phase transformer Find Full load regulation at a power factor (a) 0.8 lagging (b) unity (c) 0.8 leading.\n",
      "\n",
      "V_1=6600 #Primary voltage (in Volts)\n",
      "V_2=250 #Secondary voltage (in Volts)\n",
      "K=V_2/V_1 #Ratio of transformation\n",
      "R_1=10 #Primary resistance (in Ohm)\n",
      "R_2=0.02 #Secondary resistance (in Ohm)\n",
      "X_o1=35 #Total leakage reactance referred to the primary winding(in Ohm)\n",
      "R_o2=R_2 + R_1*(K**2) #Equivalent resistance reffered to the secondary(in Ohm)\n",
      "X_o2=X_o1*(K**2) #Equivalent reactance reffered to the secondary(in Ohm)\n",
      "O_p=40 #Rated output (in KVA)\n",
      "I_2=O_p*1000/250 #Secondary current(in Amp)\n",
      "P_1=0.8 #Power factor\n",
      "q=(acos(P_1)) \n",
      "V_r1=((I_2*R_o2*cos(q) + I_2*X_o2*sin(q))/V_2)*100 #Voltage regulation at 0.8 lagging power factor(in %)\n",
      "print 'Voltage regulation at 0.8 lagging power factor = %0.3f %%'%V_r1 \n",
      "V_r0=(I_2*R_o2/V_2)*100 #Voltage regulation at unity power factor(in %)\n",
      "print 'Voltage regulation at unity power factor = %0.2f %%'%V_r0 \n",
      "V_r2=((I_2*R_o2*cos(q) - I_2*X_o2*sin(q))/V_2)*100 #Voltage regulation at 0.8 leading power factor(in %)\n",
      "print 'Voltage regulation at 0.8 leading power factor = %0.2f %%'%V_r2 \n",
      "# Answer wrong in the textbook."
     ],
     "language": "python",
     "metadata": {},
     "outputs": [
      {
       "output_type": "stream",
       "stream": "stdout",
       "text": [
        "Voltage regulation at 0.8 lagging power factor = 3.687 %\n",
        "Voltage regulation at unity power factor = 2.20 %\n",
        "Voltage regulation at 0.8 leading power factor = -0.17 %\n"
       ]
      }
     ],
     "prompt_number": 56
    },
    {
     "cell_type": "heading",
     "level": 2,
     "metadata": {},
     "source": [
      "Exam:3.23 page 201"
     ]
    },
    {
     "cell_type": "code",
     "collapsed": false,
     "input": [
      "#Caption:Calculate the regulation of transformer\n",
      "\n",
      "#(I_2*R_a2/E_2)*100=1\n",
      "Rs_d=1 #Percentage resistive drop\n",
      "#(I_2*X_a2/E_2)*100=5\n",
      "Re_d=5 #Percentage reactive drop\n",
      "#power factor=cosd(q1)=0.8 (lagging)\n",
      "q1=degrees(acos(0.8) )\n",
      "#Voltage regulation= ((I_2*R_a2*cosd(q1)+I_2*X_a2*sind(q1))/100)*100\n",
      "#V_r=(I_2*R_a2/E_2)*100*cosd(q1)+(I_2*X_a2/E_2)*100*sind(q1)\n",
      "V_r1=Rs_d*cos(q1*pi/180)+Re_d*sin(q1*pi/180) #Voltage regulation when power factor is 0.8 lagging\n",
      "print 'Voltage regulation when power factor is 0.8 lagging = %0.2f %%'%V_r1 \n",
      "q2=-degrees(acos(0.8) )\n",
      "#V_r2=(I_2*R_a2/E_2)*100*cosd(q2)+(I_2*X_a2/E_2)*100*sind(q2) #Voltage regulation when power factor is 0.8 leading\n",
      "V_r2=Rs_d*cos(q2*pi/180)+Re_d*sin(q2*pi/180) #Voltage regulation when power factor is 0.8 leading\n",
      "print 'Voltage regulation when power factor is 0.8 leading = %0.2f %%'%V_r2,"
     ],
     "language": "python",
     "metadata": {},
     "outputs": [
      {
       "output_type": "stream",
       "stream": "stdout",
       "text": [
        "Voltage regulation when power factor is 0.8 lagging = 3.80 %\n",
        "Voltage regulation when power factor is 0.8 leading = -2.20 %\n"
       ]
      }
     ],
     "prompt_number": 57
    },
    {
     "cell_type": "heading",
     "level": 2,
     "metadata": {},
     "source": [
      "Exam:3.25 page 208"
     ]
    },
    {
     "cell_type": "code",
     "collapsed": false,
     "input": [
      "#Caption:In a single phase transformer Calculate the efficiency at unity power at Full load and Half load.\n",
      "\n",
      "P_c=400 #Full load copper loss(in Watts)\n",
      "P_C=P_c/1000 #Full load copper loss(in KW)\n",
      "P_i=350 #Full load iron loss(in Watts)\n",
      "P_I=P_i/1000 #Full load iron loss(in KW)\n",
      "P_f=1 #Power factor\n",
      "KVA=25 #Rating of the transformer\n",
      "O_p=KVA*P_f #Output at full load condition(in KW)\n",
      "L_1=P_C+P_I #Losses at full load condition(in KW)\n",
      "I_p=O_p+L_1 #Input at full load condition(in KW)\n",
      "E_fL=(O_p/I_p)*100 #Efficiency in full load condition\n",
      "print 'Efficiency of the tranformer at full load condition = %0.2f %%'%E_fL \n",
      "#At half load condition\n",
      "O_P=(1/2)*KVA*P_f #Output of the transformer at half load condition\n",
      "L_2=((1/2)**2)*P_C+P_I #Losses at half load condition(in KW)\n",
      "I_P=O_P+L_2 #Input at half load condition\n",
      "E_hL=(O_P/I_P)*100 #Efficiency of the transformer at half load condition(in %)\n",
      "print 'Efficiency of the transformer at half load condition = %0.2f %%'%E_hL "
     ],
     "language": "python",
     "metadata": {},
     "outputs": [
      {
       "output_type": "stream",
       "stream": "stdout",
       "text": [
        "Efficiency of the tranformer at full load condition = 97.09 %\n",
        "Efficiency of the transformer at half load condition = 96.53 %\n"
       ]
      }
     ],
     "prompt_number": 43
    },
    {
     "cell_type": "heading",
     "level": 2,
     "metadata": {},
     "source": [
      "Exam:3.26 page 209"
     ]
    },
    {
     "cell_type": "code",
     "collapsed": false,
     "input": [
      "#Caption:Calculate the single phase transformer efficiency for 75% of the full load output at power factor unity and 0.8 lagging.\n",
      "\n",
      "P_i=1.5 #Core loss(in KW)\n",
      "P_c=4.5 #Full load copper loss(in KW)\n",
      "P_C=((3/4)**2)*P_c #Copper loss at 75% of full load(in KW)\n",
      "P_t=P_i+P_C #Total loss at 75% of full load output(in KW)\n",
      "KVA=300 #Rating of the transformer(in KVA)\n",
      "P_f1=1 #power factor value when it is unity\n",
      "P_f2=0.8 #power factor value when it is 0.8 lagging\n",
      "O_p1=0.75*KVA*P_f1 #Output at 75% of full load and at unity power factor(in KW)\n",
      "E_f1=(O_p1/(O_p1+P_t))*100 #Efficiency of the transformer for 75% of full load output at power factor unity(in %)\n",
      "print 'Efficiency of the transformer for 75%% of full load output at power factor unity = %0.2f %%'%E_f1 \n",
      "O_p2=0.75*KVA*P_f2 #Output at 75% of full load and at 0.8 lagging power factor(in KW)\n",
      "E_f2=(O_p2/(O_p2+P_t))*100 #Efficiency of the transformer for 75% of full load output at power factor 0.8 lagging(in %)\n",
      "print 'Efficiency of the transformer for 75%% of full load output at power factor 0.8 lagging = %0.2f %%' %E_f2"
     ],
     "language": "python",
     "metadata": {},
     "outputs": [
      {
       "output_type": "stream",
       "stream": "stdout",
       "text": [
        "Efficiency of the transformer for 75% of full load output at power factor unity = 98.24 %\n",
        "Efficiency of the transformer for 75% of full load output at power factor 0.8 lagging = 97.81 %\n"
       ]
      }
     ],
     "prompt_number": 58
    },
    {
     "cell_type": "heading",
     "level": 2,
     "metadata": {},
     "source": [
      "Exam:3.27 page 210"
     ]
    },
    {
     "cell_type": "code",
     "collapsed": false,
     "input": [
      "#Caption:In a single phase transformer Calculate efficiency at full load, unity power factor. \n",
      "\n",
      "P_f1=1 #power factor unity\n",
      "P_f2=0.8 #power factor 0.8 lagging or leading\n",
      "KVA=25 #Rating of the transformer(in KVA)\n",
      "O_p1=KVA*P_f1 #Output at unity power factor(in KW)\n",
      "P_c=400 #copper losses(in Watt)\n",
      "P_C=P_c/1000 #copper losses(in KW)\n",
      "P_i=320 #iron losses(in Watt)\n",
      "P_I=P_i/1000 #iron losses(in KW)\n",
      "P_T=P_I+P_C #total losses(in KW)\n",
      "I_p1=O_p1+P_T #Input (in KW)\n",
      "E_f1=(O_p1/I_p1)*100 #Efficiency of the transformer at full load and unity power factor(in %)\n",
      "print 'Efficiency of the transformer at full load and unity power factor = %0.2f %%' %E_f1\n",
      "O_p2=KVA*P_f2 #output at 0.8 lagging power factor(in KW)\n",
      "I_p2=O_p2+P_T #input incase of 0.8 power factor(in KW)\n",
      "E_f2=(O_p2/I_p2)*100 #Efficiency of the transformer at full load and 0.8 lagging power factor(in %)\n",
      "print 'Efficiency of the transformer at full load and 0.8 lagging power factor = %0.2f %%' %E_f2\n",
      "E_f3=E_f2 #At 0.8 leading power factor. since there is no change in input and output, so efficiency is unchanged\n",
      "print 'At 0.8 leading power factor. since there is no change in input and output, so efficiency is unchanged = %0.2f %%' %E_f3"
     ],
     "language": "python",
     "metadata": {},
     "outputs": [
      {
       "output_type": "stream",
       "stream": "stdout",
       "text": [
        "Efficiency of the transformer at full load and unity power factor = 97.20 %\n",
        "Efficiency of the transformer at full load and 0.8 lagging power factor = 96.53 %\n",
        "At 0.8 leading power factor. since there is no change in input and output, so efficiency is unchanged = 96.53 %\n"
       ]
      }
     ],
     "prompt_number": 59
    },
    {
     "cell_type": "heading",
     "level": 2,
     "metadata": {},
     "source": [
      "Exam:3.28 page 210"
     ]
    },
    {
     "cell_type": "code",
     "collapsed": false,
     "input": [
      "#Caption:Calculate the efficiency of the transformer on Half load and Full load.\n",
      "KVA=100 #rating of the(in KVA)\n",
      "P_f=0.8 #power factor\n",
      "O_p=(1/2)*KVA*P_f #Output at half load(in KW)\n",
      "P_i=700 #iron loss (in Watt)\n",
      "P_i1=P_i/1000 #iron loss at half and full load(in KW)\n",
      "P_c=400 #copper losses (in Watt)\n",
      "P_c1=((1/2)**2)*P_c/1000 #copper losses at half load condition (in KW)\n",
      "P_t=P_c1+P_i1 #Total losses in half load condition(in KW)\n",
      "E_f=(O_p/(O_p+P_t))*100 #Efficiency of the transformer on half load in percentage\n",
      "print 'Efficiency of the transformer on half load = %0.2f %%' %E_f\n",
      "O_P=KVA*P_f #Output in case of full load(in KW)\n",
      "P_c2=P_c/1000 #Copper losss at full load condition(in KW)\n",
      "P_T=P_c2+P_i1 #Total losses in full load condition(in KW)\n",
      "E_F=(O_P/(O_P+P_T))*100 #Efficiency of the transformer on full load condition in percentage\n",
      "print 'Efficiency of the transformer on full load condition = %0.2f %%' %E_F"
     ],
     "language": "python",
     "metadata": {},
     "outputs": [
      {
       "output_type": "stream",
       "stream": "stdout",
       "text": [
        "Efficiency of the transformer on half load = 98.04 %\n",
        "Efficiency of the transformer on full load condition = 98.64 %\n"
       ]
      }
     ],
     "prompt_number": 60
    },
    {
     "cell_type": "heading",
     "level": 2,
     "metadata": {},
     "source": [
      "Exam:3.29 page 213"
     ]
    },
    {
     "cell_type": "code",
     "collapsed": false,
     "input": [
      "#Caption:In a single phase transformer Calculate the efficiency at full load unity power factor\n",
      "\n",
      "KVA=25 #Rating of the transformer(in KVA)\n",
      "P_c=400 #Full load copper loss(in Watt)\n",
      "P_c1=P_c/1000 #Full load copper loss(in KW)\n",
      "P_i=350 #Iron loss(in Watt)\n",
      "P_i1=P_i/1000 #Iron loss (in KW)\n",
      "P_f=1 #Power factor unity\n",
      "P_f1=0.8 #Power factor 0.8 lagging\n",
      "O_p1=KVA*P_f #Output at full load and unity power factor(in KW)\n",
      "P_t1=P_c1+P_i1 #Total losses at full load and unity power factor(in KW)\n",
      "I_p1=O_p1+P_t1 #Input at full load and unity power factor(in KW)\n",
      "E_f1=(O_p1/I_p1)*100 #Efficiency of the transformer at full load and unity power factor(in KW)\n",
      "print 'Efficiency of the transformer at full load and unity power factor = %0.2f kW'%E_f1 \n",
      "O_p2=(1/2)*KVA*P_f1 #Output At half full load, 0.8 power factor lag.(in KW)\n",
      "P_c2=((1/2)**2)*P_c1 #Copper loss At half full load, 0.8 power factor lag.(in KW)\n",
      "P_t2=P_c2+P_i1 #Total loss At half full load, 0.8 power factor lag.(in KW)\n",
      "I_p2=O_p2+P_t2 #Input At half full load, 0.8 power factor lag.(in KW)\n",
      "E_f2=(O_p2/I_p2)*100 #Efficiency of the transformer at half full load and 0.8 lagging power factor(in KW)\n",
      "print 'Efficiency of the transformer at half full load and 0.8 lagging power factor = %0.2f kW'%E_f2 \n",
      "#Maximum efficiency occurs when Copper loss = Iron loss,let the maximum efficiency occcur at x times full load\n",
      "x=(P_i/P_c)**(1/2) \n",
      "L=x*KVA #load in KVA corresponding to maximum efficiency\n",
      "print 'the load for maximum efficiency = %0.2f kVA '%L "
     ],
     "language": "python",
     "metadata": {},
     "outputs": [
      {
       "output_type": "stream",
       "stream": "stdout",
       "text": [
        "Efficiency of the transformer at full load and unity power factor = 97.09 kW\n",
        "Efficiency of the transformer at half full load and 0.8 lagging power factor = 95.69 kW\n",
        "the load for maximum efficiency = 23.39 kVA \n"
       ]
      }
     ],
     "prompt_number": 61
    },
    {
     "cell_type": "heading",
     "level": 2,
     "metadata": {},
     "source": [
      "Exam:3.30 page 214"
     ]
    },
    {
     "cell_type": "code",
     "collapsed": false,
     "input": [
      "#Caption:In a single phase transformer Calculate the efficiency of full load current\n",
      "\n",
      "KVA=50 #Rating of the transformer(in KVA)\n",
      "V_1=6600 #Primary voltage(in Volt)\n",
      "V_2=200 #Secondary voltage(in VOlt)\n",
      "I_1=KVA*1000/6600 #Full load primary current(in Amp)\n",
      "P_f1=1 #power factor at unity\n",
      "P_f2=0.8 #Power factor at 0.8\n",
      "O_p1=KVA*P_f1 #Output at unity power factor(in KW)\n",
      "P_i=650 #Iron loss(in Watt)\n",
      "P_i1=P_i/1000 #Iron loss (in KW)\n",
      "P_c=885 #Copper loss(in Watt)\n",
      "P_c1=P_c/1000 #Copper loss(in KW)\n",
      "I_p1=O_p1+P_c1+P_i1 #Input at unity power factor(in KW)\n",
      "E_f1=(O_p1/I_p1)*100 #Efficiency of the transformer at unity power factor\n",
      "print 'Efficiency of the transformer at unity power factor = %0.f %% '%E_f1 \n",
      "O_p2=KVA*P_f2 #Output at 0.8 power factor(in KW) \n",
      "#Maximum efficiency occurs when Copper loss = Iron loss,let the maximum efficiency occcur at x times full load\n",
      "x=(P_i1/P_c1)**(1/2) \n",
      "print 'the maximum efficiency occurs at the full load of = %0.3f'%x \n",
      "O_P=x*KVA*P_f2 #Output at maximum efficiency(in KW)\n",
      "E_F=(O_P/(O_P+P_i1+P_c1))*100 #Maximum Efficiency of the transformer at 0.8 power factor\n",
      "print 'Maximum Efficiency of the transformer = %0.2f %%' %E_F\n",
      "# Answer wrong in the textbook."
     ],
     "language": "python",
     "metadata": {},
     "outputs": [
      {
       "output_type": "stream",
       "stream": "stdout",
       "text": [
        "Efficiency of the transformer at unity power factor = 97 % \n",
        "the maximum efficiency occurs at the full load of = 0.857\n",
        "Maximum Efficiency of the transformer = 95.71 %\n"
       ]
      }
     ],
     "prompt_number": 66
    },
    {
     "cell_type": "heading",
     "level": 2,
     "metadata": {},
     "source": [
      "Exam:3.31 page 214"
     ]
    },
    {
     "cell_type": "code",
     "collapsed": false,
     "input": [
      "#Caption:In the single phase transformer,find the ratio of iron and copper loss such that maximum efficiency occurs at 75% of full load.\n",
      "\n",
      "x=75/100 #the value of load which is 75% of full load\n",
      "P_r=x**2 #Ratio of the iron loss and copper loss for maximum efficiency\n",
      "print 'Ratio of the iron and copper loss for the maximum efficiency =',P_r "
     ],
     "language": "python",
     "metadata": {},
     "outputs": [
      {
       "output_type": "stream",
       "stream": "stdout",
       "text": [
        "Ratio of the iron and copper loss for the maximum efficiency = 0.5625\n"
       ]
      }
     ],
     "prompt_number": 67
    },
    {
     "cell_type": "heading",
     "level": 2,
     "metadata": {},
     "source": [
      "Exam:3.32 page 215"
     ]
    },
    {
     "cell_type": "code",
     "collapsed": false,
     "input": [
      "#Caption:In a single phase transformer Calculate the iron losses and the full load copper losses.\n",
      "\n",
      "KVA=400 #Rating of the transformer(in KVA)\n",
      "E_f1=0.9877 #Transformer efficiency when delivering full load at 0.8 power factor\n",
      "P_f1=0.8 #power factor at full load\n",
      "P_f2=1 #power factor at half load\n",
      "O_p1=KVA*P_f1 #Output on full load when power factor is 0.8(in KW)\n",
      "I_p1=(O_p1/E_f1) #Input on full load when power factor is 0.8(in KW)\n",
      "P_t1=I_p1-O_p1 #Total losses on full load when power factor is 0.8(in KW)\n",
      "O_p2=(1/2)*KVA*P_f2 #Output at half load when power factor is 1\n",
      "E_f2=0.9913 #Transformer efficiency when delivering half load at 1 power factor\n",
      "I_p2=O_p2/E_f2 #Input at half load when power factor is 1\n",
      "P_t2=I_p2-O_p2#Total losses at half load when power factor is 1\n",
      "#P_t1=P_c+P_i\n",
      "#P_t2=(1/4)P_c+P_i\n",
      "P_c=(4/3)*(P_t1-P_t2) #Full load and copper losses\n",
      "P_i=(1/3)*(4*P_t2-P_t1) #iron losses\n",
      "print 'full load and copper losses = %0.3f kW'%P_c \n",
      "print 'iron loss = %0.3f kW '%P_i "
     ],
     "language": "python",
     "metadata": {},
     "outputs": [
      {
       "output_type": "stream",
       "stream": "stdout",
       "text": [
        "full load and copper losses = 2.973 kW\n",
        "iron loss = 1.012 kW \n"
       ]
      }
     ],
     "prompt_number": 70
    },
    {
     "cell_type": "heading",
     "level": 2,
     "metadata": {},
     "source": [
      "Exam:3.33 page 216"
     ]
    },
    {
     "cell_type": "code",
     "collapsed": false,
     "input": [
      "from math import ceil\n",
      "#Caption:In a transformer find all day efficiency\n",
      "\n",
      "KVA=15 #Rating of the transformer(in KVA)\n",
      "E_f=0.98 #Efficiency of the transformer\n",
      "P_F=1 #for unity power factor\n",
      "O_P=KVA*P_F #Output of the transformer at unity power factor(in KW)\n",
      "I_P=O_P/E_f #Input to the transformer(in KW)\n",
      "P_T=I_P-O_P #Total losses(in KW)\n",
      "#At Maximum efficiency\n",
      "P_C=P_T/2 #copper loss for maximum efficiency(in KW)\n",
      "P_I=P_C #iron losss at maximum efficiency copper loss=iron loss\n",
      "L_1=2 #load for 12 hours (in KW)\n",
      "L_2=12 #load for 6 hours (in KW)\n",
      "L_3=18 #load for next 6 hours (in KW)\n",
      "P_f1=0.5 #Power factor at L_1 load\n",
      "P_f2=0.8 #Power factor at L_2 load\n",
      "P_f3=0.9 #Power factor at L_3 load\n",
      "T_1=12 #Time when L_1 working(in hours)\n",
      "T_2=6 #Time when L_2 working(in hours)\n",
      "T_3=6 #Time when L_3 working(in hours)\n",
      "O_p1=L_1*T_1+L_2*T_2+L_3*T_3 #All day output(in KWh)\n",
      "P_i1=P_I*24 #Iron losses for 24 hours(in KWh)\n",
      "P_c1=T_1*P_C*((L_1/P_f1)/KVA)**2+T_2*P_C*((L_2/P_f2)/KVA)**2+T_3*P_C*((L_3/P_f3)/KVA)**2 #Copper loss for 24 hours(in KWh)\n",
      "P_t=P_c1+P_i1 #Total losses of transformer for 24 hours(in KWh)\n",
      "I_p1=O_p1+P_t #All day input(in KWh)\n",
      "E_f1=(O_p1/I_p1)*100 #All day efficiency of transformer\n",
      "print 'All day efficiency of transformer = %0.2f %% '%ceil(E_f1) "
     ],
     "language": "python",
     "metadata": {},
     "outputs": [
      {
       "output_type": "stream",
       "stream": "stdout",
       "text": [
        "All day efficiency of transformer = 97.00 % \n"
       ]
      }
     ],
     "prompt_number": 73
    },
    {
     "cell_type": "heading",
     "level": 2,
     "metadata": {},
     "source": [
      "Exam:3.34 page 217"
     ]
    },
    {
     "cell_type": "code",
     "collapsed": false,
     "input": [
      "#Caption:In a transformer find all day efficiency\n",
      "\n",
      "KVA=1500 #Rating of the transformer(in KVA)\n",
      "P_C=4.5 #copper loss for maximum efficiency(in KW)\n",
      "P_I=3.2 #iron losss at maximum efficiency copper loss=iron loss\n",
      "L_1=1200 #load for 6 hours (in KW)\n",
      "L_2=900 #load for next 10 hours (in KW)\n",
      "L_3=300 #load for next 4 hours (in KW)\n",
      "L_4=0 #load for next 4 hours (in KW)\n",
      "P_f1=0.8 #Power factor at L_1 load\n",
      "P_f2=0.75 #Power factor at L_2 load\n",
      "P_f3=0.8 #Power factor at L_3 load\n",
      "P_f4=0 #Power factor at L_4 load\n",
      "T_1=6 #Number of hours when L_1 working(in hours)\n",
      "T_2=10 #Number of hours when L_2 working(in hours)\n",
      "T_3=4 #Number of hours when L_3 working(in hours)\n",
      "T_4=4 #Number of hours when L_4 working(in hours)\n",
      "O_p1=L_1*T_1+L_2*T_2+L_3*T_3 #All day output(in KWh)\n",
      "P_i1=P_I*24 #Iron losses for 24 hours(in KWh)\n",
      "P_c1=T_1*P_C*((L_1/P_f1)/KVA)**2+T_2*P_C*((L_2/P_f2)/KVA)**2+T_3*P_C*((L_3/P_f3)/KVA)**2 #Copper loss for 24 hours(in KWh)\n",
      "P_t=P_c1+P_i1 #Total losses of transformer for 24 hours(in KWh)\n",
      "I_p1=O_p1+P_t #All day input(in KWh)\n",
      "E_f1=(O_p1/I_p1)*100 #All day efficiency of transformer\n",
      "print 'All day efficiency of transformer = %0.2f %%' %(E_f1)"
     ],
     "language": "python",
     "metadata": {},
     "outputs": [
      {
       "output_type": "stream",
       "stream": "stdout",
       "text": [
        "All day efficiency of transformer = 99.24 %\n"
       ]
      }
     ],
     "prompt_number": 74
    },
    {
     "cell_type": "heading",
     "level": 2,
     "metadata": {},
     "source": [
      "Exam:3.35 page 218"
     ]
    },
    {
     "cell_type": "code",
     "collapsed": false,
     "input": [
      "#Caption:In a transformer find all day efficiency\n",
      "\n",
      "KVA=15 #Rating of the transformer(in KVA)\n",
      "P_c=0.35 #Full load copper loss (in KW)\n",
      "P_i=0.25 #iron losss \n",
      "P_I=P_i*24 #Iron loss per day\n",
      "L_1=1/4 #load for 9 hours of full load\n",
      "L_2=1 #load for 7 hours of full load\n",
      "L_3=3/4 #load for next 6 hours of full load\n",
      "P_f1=0.6 #Power factor at L_1 load\n",
      "P_f2=0.8 #Power factor at L_2 load\n",
      "P_f3=1 #Power factor at L_3 load\n",
      "T_1=9 #Time when L_1 working(in hours)\n",
      "T_2=7 #Time when L_2 working(in hours)\n",
      "T_3=6 #Time when L_3 working(in hours)\n",
      "P_c1=((1/4)**2)*P_c #Copper loss at 1/4 load\n",
      "P_C1=9*P_c1 #Copper loss for 9 hours at 1/4 load\n",
      "P_c2=P_c #Copper loss at full load\n",
      "P_C2=7*P_c2 #Copper loss for 7 hours at full load\n",
      "P_c3=((3/4)**2)*P_c #Copper loss at 3/4 load\n",
      "P_C3=6*P_c3 #Copper loss for 6 hours at 3/4 load\n",
      "P_C=P_C1+P_C2+P_C3 #Copper loss per day(in KW)\n",
      "P_T=P_C+P_I #Iron loss per day(in KW)\n",
      "O_P=L_1*KVA*P_f1*T_1+L_2*KVA*P_f2*T_2+L_3*KVA*P_f3*T_3 #Total output per day(in KWh)\n",
      "I_P=O_P+P_T #Total input(in KWh)\n",
      "E_F=(O_P/I_P)*100 #All day efficiency(in %)\n",
      "print 'All day efficiency = %0.2f %%' %E_F"
     ],
     "language": "python",
     "metadata": {},
     "outputs": [
      {
       "output_type": "stream",
       "stream": "stdout",
       "text": [
        "All day efficiency = 94.59 %\n"
       ]
      }
     ],
     "prompt_number": 75
    },
    {
     "cell_type": "heading",
     "level": 2,
     "metadata": {},
     "source": [
      "Exam:3.36 page 225"
     ]
    },
    {
     "cell_type": "code",
     "collapsed": false,
     "input": [
      "#Caption:Calculate the economy of copper in auto transformer and current distribution in primary\n",
      "\n",
      "V_1=500 #Primary voltage\n",
      "V_2=400 #Secondary voltage\n",
      "I_2=100 #Secondary voltage\n",
      "I_1=V_2*I_2/V_1 #Primary current\n",
      "print 'Current in primary winding = %0.2f Amp '%I_1\n",
      "K=V_2/V_1 #Transformer ratio\n",
      "S=K*100 #Saving (in %)\n",
      "print 'Economy of copper = %0.2f %%'%S"
     ],
     "language": "python",
     "metadata": {},
     "outputs": [
      {
       "output_type": "stream",
       "stream": "stdout",
       "text": [
        "Current in primary winding = 80.00 Amp \n",
        "Economy of copper = 80.00 %\n"
       ]
      }
     ],
     "prompt_number": 76
    },
    {
     "cell_type": "heading",
     "level": 2,
     "metadata": {},
     "source": [
      "Exam:3.37 page 225"
     ]
    },
    {
     "cell_type": "code",
     "collapsed": false,
     "input": [
      "#Caption:In a auto transformer determine Transformation ratio secondary current primary current\n",
      "\n",
      "V_1=250 #Primary voltage(in Voltage)\n",
      "V_2=125 #Secondary voltage(in Voltage)\n",
      "K=V_2/V_1 #Transformation ratio\n",
      "N_1=250 #Primary turns\n",
      "print 'Transformation ratio =',K\n",
      "P_f=1 #Unity power factor\n",
      "L=5 #Value of load(in KW)\n",
      "I_2=L*1000/(V_2*P_f) #Secondary current(in Amp)\n",
      "print 'Secondary current = %0.2f Amp '%I_2 \n",
      "I_1=K*I_2 #Primary current(in Amp)\n",
      "print 'Primary current = %0.2f Amp '%I_1 \n",
      "N_2=K*N_1 #Secondary turns\n",
      "print 'number of turns across secondary winding =',N_2 "
     ],
     "language": "python",
     "metadata": {},
     "outputs": [
      {
       "output_type": "stream",
       "stream": "stdout",
       "text": [
        "Transformation ratio = 0.5\n",
        "Secondary current = 40.00 Amp \n",
        "Primary current = 20.00 Amp \n",
        "number of turns across secondary winding = 125.0\n"
       ]
      }
     ],
     "prompt_number": 77
    },
    {
     "cell_type": "heading",
     "level": 2,
     "metadata": {},
     "source": [
      "Exam:3.38 page 29"
     ]
    },
    {
     "cell_type": "code",
     "collapsed": false,
     "input": [
      "#Caption:In an auto transformer determine current in different section and KVA output and power transferred\n",
      "\n",
      "KVA=10 \n",
      "V_1=2400 #Voltage in first winding\n",
      "V_2=240 #Voltage in second winding\n",
      "I_1=KVA*1000/V_1 #Current rating of 2400 Volts winding\n",
      "I_2=KVA*1000/V_2 #Current rating of 240 Volts winding\n",
      "I_l=I_1+I_2 #Total load current\n",
      "print 'Current rating of 2400 Volts winding = %0.2f Amp '%I_1 \n",
      "print 'Current rating of 240 Volts winding = %0.2f Amp '%I_2 \n",
      "print 'Total load current = %0.2f Amp '%I_l \n",
      "KVA_r=V_1*I_l/1000 #KVA output rating\n",
      "print 'KVA output rating = %0.2f KVA '%KVA_r \n",
      "P_i=V_1*I_1 #power transferred inductively\n",
      "P_c=V_1*I_2 #power transferred conductively\n",
      "print 'power transferred inductively = %0.2f VA '%P_i \n",
      "print 'power transferred conductively = %0.2f VA '%P_c \n",
      "N_1=2640 #Number Primary winding in case of two winding transformer\n",
      "N_2=2400 #Number Secondary winding in case of two winding transformer\n",
      "K=N_1/N_2 #Transformer ratio\n",
      "Saving=(1/K)*100 #Saving in copper\n",
      "print 'Saving in copper = %0.2f %%'%Saving \n",
      "# Answer wrong in the textbook."
     ],
     "language": "python",
     "metadata": {},
     "outputs": [
      {
       "output_type": "stream",
       "stream": "stdout",
       "text": [
        "Current rating of 2400 Volts winding = 4.17 Amp \n",
        "Current rating of 240 Volts winding = 41.67 Amp \n",
        "Total load current = 45.83 Amp \n",
        "KVA output rating = 110.00 KVA \n",
        "power transferred inductively = 10000.00 VA \n",
        "power transferred conductively = 100000.00 VA \n",
        "Saving in copper = 90.91 %\n"
       ]
      }
     ],
     "prompt_number": 79
    },
    {
     "cell_type": "heading",
     "level": 2,
     "metadata": {},
     "source": [
      "Exam:3.39 Page 230"
     ]
    },
    {
     "cell_type": "code",
     "collapsed": false,
     "input": [
      "#Caption:In a transformer calculate Power output and power transformed and power conducted\n",
      "KVA=25 \n",
      "V_s=2200 #Source voltage\n",
      "V_1=2200 #Voltage in first winding\n",
      "V_2=220 #Voltage in second winding\n",
      "I_1=KVA*1000/V_1 #Current rating of 2200 V winding\n",
      "I_2=KVA*1000/V_2 #Current rating of 220 V winding\n",
      "V_o=V_1+V_2 #Output voltage\n",
      "I_l=I_1+I_2 #Input line current\n",
      "I_o=I_2 #Output current of auto transformer\n",
      "KVA_r=V_o*I_2/1000 #KVA rating\n",
      "P_f1=0.8 #\n",
      "P_o=KVA*P_f1 #Power output at full load and 0.8 power factor\n",
      "KVA_t=V_1*I_1/1000 #KVA transformed \n",
      "print 'KVA transformed = %0.2f kVA'%KVA_t\n",
      "P_t=KVA_t*P_f1 #Power transformed(in KW)\n",
      "print 'Power transformed = %0.2f kW'%P_t\n",
      "KVA_c=V_s*I_o/1000 #KVA conducted(in KVA)\n",
      "P_c=KVA_c*P_f1 #Power conducted(in KW)\n",
      "print 'Power conducted = %0.2f kW'%P_c\n",
      "#E_f=Output/(Output+Losses)\n",
      "#Losses=((1/E_f)-1)*Output\n",
      "E_f=0.9 #Efficiency of the two winding transformer\n",
      "P_f2=0.85 #New power factor of the two einding transformer\n",
      "O_p1=KVA_t*1000*P_f2 #Output of the two winding transformer\n",
      "L=((1/E_f)-1)*O_p1 #losses in a 2-winding transformer\n",
      "#Losses in auto transformer=losses in 2-winding transformer\n",
      "O_P=KVA_r*1000*P_f2 #output of the auto transformer\n",
      "E_F=(O_P/(O_P+L))*100 #Efficiency of the auto transformer(in %)\n",
      "print 'Efficiency of the auto transformer = %0.2f %%'%E_F\n",
      "# Answer wrong in the textbook."
     ],
     "language": "python",
     "metadata": {},
     "outputs": [
      {
       "output_type": "stream",
       "stream": "stdout",
       "text": [
        "KVA transformed = 25.00 kVA\n",
        "Power transformed = 20.00 kW\n",
        "Power conducted = 200.00 kW\n",
        "Efficiency of the auto transformer = 99.00 %\n"
       ]
      }
     ],
     "prompt_number": 81
    }
   ],
   "metadata": {}
  }
 ]
}
