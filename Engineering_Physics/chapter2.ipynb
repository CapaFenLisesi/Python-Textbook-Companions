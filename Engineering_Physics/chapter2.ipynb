{
 "metadata": {
  "name": "",
  "signature": "sha256:2b54094513f6b50d68fe3b6c91cd7d7cafc36254b75abea2a0d6c88b266fd509"
 },
 "nbformat": 3,
 "nbformat_minor": 0,
 "worksheets": [
  {
   "cells": [
    {
     "cell_type": "heading",
     "level": 1,
     "metadata": {},
     "source": [
      "Chapter2:INTERFERENCE"
     ]
    },
    {
     "cell_type": "heading",
     "level": 2,
     "metadata": {},
     "source": [
      "Ex2.2:pg-41"
     ]
    },
    {
     "cell_type": "code",
     "collapsed": false,
     "input": [
      "import math\n",
      "#to calculate ratio of intensity\n",
      "#I1/I2=1/25\n",
      "#formula is a1/a2=math.sqrt(I1/I2)=1/5\n",
      "a2=5 #a2=5*a1\n",
      "a1=1\n",
      "I=((1+5)**2)/((1-5)**2)\n",
      "print \"ratio of intensity at the maxima and minima in the interference pattern is Imax/Imin=((a1+a2)**2)/((a1-a2)**2)=\",((a1+a2)**2)/((a1-a2)**2),\"unitless\"\n",
      "#answer is given in terms of ratio\n"
     ],
     "language": "python",
     "metadata": {},
     "outputs": [
      {
       "output_type": "stream",
       "stream": "stdout",
       "text": [
        "ratio of intensity at the maxima and minima in the interference pattern is Imax/Imin=((a1+a2)**2)/((a1-a2)**2)= 2 unitless\n"
       ]
      }
     ],
     "prompt_number": 1
    },
    {
     "cell_type": "heading",
     "level": 2,
     "metadata": {},
     "source": [
      "Ex2.3:pg-42"
     ]
    },
    {
     "cell_type": "code",
     "collapsed": false,
     "input": [
      "import math\n",
      "#to calculate ratio of intensity at this point to that at the centre of a bright fringe\n",
      "#the intensity at any pont is I=a1**2+a2**2+2*a1*a2*cos del\n",
      "#let a1=a2=a\n",
      "#phase difference del is 0\n",
      "#then I0=a**2+a**2+2*a*a*cos 0\n",
      "#we get I0=4a**2\n",
      "I0=4 #intensity\n",
      "#path difference is lemda/8\n",
      "#phase difference =2*math.pi/lemda*path difference=math.pi/4\n",
      "#I1=a**2+a**2+2a*a*cos math.pi/4\n",
      "#I1=3.414a**2\n",
      "I1=3.414\n",
      "intensity=I1/I0\n",
      "print \" ratio of intensity =\",intensity,\"unitless\"\n"
     ],
     "language": "python",
     "metadata": {},
     "outputs": [
      {
       "output_type": "stream",
       "stream": "stdout",
       "text": [
        " ratio of intensity = 0.8535 unitless\n"
       ]
      }
     ],
     "prompt_number": 2
    },
    {
     "cell_type": "heading",
     "level": 2,
     "metadata": {},
     "source": [
      "Ex2.4:pg-42"
     ]
    },
    {
     "cell_type": "code",
     "collapsed": false,
     "input": [
      "import math\n",
      "#to calculate ratio of maximum intensity to minimum intensity\n",
      "#formula is I1/I2=a1**2/a2**2=100/1\n",
      "#a1/a2=10/1\n",
      "a1=10  #a1=10*a2\n",
      "a2=1\n",
      "print \"the ratio of maximum intensity to minmum intensity in the interference pattern Imax/Imin=((a1+a2)**2)/((a1-a2)**2)=\",((a1+a2)**2)/((a1-a2)**2),\"unitless\" \n",
      "#answer is given in terms of ratio in the book\n"
     ],
     "language": "python",
     "metadata": {},
     "outputs": [
      {
       "output_type": "stream",
       "stream": "stdout",
       "text": [
        "the ratio of maximum intensity to minmum intensity in the interference pattern Imax/Imin=((a1+a2)**2)/((a1-a2)**2)= 1 unitless\n"
       ]
      }
     ],
     "prompt_number": 3
    },
    {
     "cell_type": "heading",
     "level": 2,
     "metadata": {},
     "source": [
      "Ex2.5:pg-43"
     ]
    },
    {
     "cell_type": "code",
     "collapsed": false,
     "input": [
      "import math\n",
      "#to calculate relative intensities\n",
      "#Imax/Imin=(a1+a2)**2/(a1-a2)**2+105/95\n",
      "#(a1+a2)/(a1-a2)=1.051\n",
      "#we get a1/a2=40 \n",
      "a1=40 #a1=40*a2\n",
      "a2=1\n",
      "print \"the ratio of the intensities of interfering sources is I1/I2=a1**2/a2**2=\",a1**2/a2**2,\"unitless\"\n",
      "#answer is given in terms of ratio in the book\n"
     ],
     "language": "python",
     "metadata": {},
     "outputs": [
      {
       "output_type": "stream",
       "stream": "stdout",
       "text": [
        "the ratio of the intensities of interfering sources is I1/I2=a1**2/a2**2= 1600 unitless\n"
       ]
      }
     ],
     "prompt_number": 1
    },
    {
     "cell_type": "heading",
     "level": 2,
     "metadata": {},
     "source": [
      "Ex2.7:pg-52"
     ]
    },
    {
     "cell_type": "code",
     "collapsed": false,
     "input": [
      "import math\n",
      "#to calculate distance between the two coherent sources\n",
      "lamda=5890*10**-10 #wavelength in m\n",
      "omega=9.424*10**-4 #width of the fringes in m\n",
      "D=.80 #distance in m\n",
      "twod=D*lamda/omega\n",
      "print \"the distance between two coherent sources is twod=\",twod,\"m\"\n"
     ],
     "language": "python",
     "metadata": {},
     "outputs": [
      {
       "output_type": "stream",
       "stream": "stdout",
       "text": [
        "the distance between two coherent sources is twod= 0.0005 m\n"
       ]
      }
     ],
     "prompt_number": 5
    },
    {
     "cell_type": "heading",
     "level": 2,
     "metadata": {},
     "source": [
      "Ex2.8:pg-53"
     ]
    },
    {
     "cell_type": "code",
     "collapsed": false,
     "input": [
      "import math\n",
      "#to calculate fringe width \n",
      "mu=1.5 #refractive index (unitless)\n",
      "alpha=math.pi/180 #refracting angle in radian\n",
      "Y1=20*10**-2 #distance between the source and the biprism in m\n",
      "Y2=80*10**-2 #distance in m\n",
      "D=Y1+Y2 # distance in m\n",
      "lamda=6900*10**-10 #wavelength in m\n",
      "twod=2*(mu-1)*alpha*Y1 \n",
      "omega=D*lamda/twod\n",
      "print \"the fringe width is omega=\",round(omega,7),\"m\"\n"
     ],
     "language": "python",
     "metadata": {},
     "outputs": [
      {
       "output_type": "stream",
       "stream": "stdout",
       "text": [
        "the fringe width is omega= 0.0001977 m\n"
       ]
      }
     ],
     "prompt_number": 2
    },
    {
     "cell_type": "heading",
     "level": 2,
     "metadata": {},
     "source": [
      "Ex2.9:pg-53"
     ]
    },
    {
     "cell_type": "code",
     "collapsed": false,
     "input": [
      "import math\n",
      "#to calculate wavelength of light\n",
      "omega=(1.888*10**-2)/20 #in (m)\n",
      "D=1.20 #distance of eye piece from the source in m\n",
      "twod=0.00075 #distance between two virtual sources in m\n",
      "lamda=(omega*twod/D)/(10e-11)\n",
      "print \"the wavelength of light is lamda=\",lamda,\"Angstrom\"\n",
      "\n"
     ],
     "language": "python",
     "metadata": {},
     "outputs": [
      {
       "output_type": "stream",
       "stream": "stdout",
       "text": [
        "the wavelength of light is lamda= 5900.0 Angstrom\n"
       ]
      }
     ],
     "prompt_number": 44
    },
    {
     "cell_type": "heading",
     "level": 2,
     "metadata": {},
     "source": [
      "Ex2.10:pg-54"
     ]
    },
    {
     "cell_type": "code",
     "collapsed": false,
     "input": [
      "import math\n",
      "#to calculate thickness of glass plate\n",
      "n=3\n",
      "mu=1.5 #refractive index (unitless)\n",
      "lamda=5450*10**-10 #wavelength in m\n",
      "t=n*lamda/(mu-1)\n",
      "print \"the thickness of glass plate is t=\",t,\"m\"\n"
     ],
     "language": "python",
     "metadata": {},
     "outputs": [
      {
       "output_type": "stream",
       "stream": "stdout",
       "text": [
        "the thickness of glass plate is t= 3.27e-06 m\n"
       ]
      }
     ],
     "prompt_number": 4
    },
    {
     "cell_type": "heading",
     "level": 2,
     "metadata": {},
     "source": [
      "Ex2.11:pg-54"
     ]
    },
    {
     "cell_type": "code",
     "collapsed": false,
     "input": [
      "import math\n",
      "#to calculate refractive index of the sheet\n",
      "t=6.3*10**-6 #thickness of thin sheet of transparent material in m\n",
      "lamda=5460*10**-10 #wavelength in m\n",
      "n=6\n",
      "mu=(n*lamda/t)+1\n",
      "print \"the refractive index of the sheet is mu=\",mu,\"unitless\"\n"
     ],
     "language": "python",
     "metadata": {},
     "outputs": [
      {
       "output_type": "stream",
       "stream": "stdout",
       "text": [
        "the refractive index of the sheet is mu= 1.52 unitless\n"
       ]
      }
     ],
     "prompt_number": 9
    },
    {
     "cell_type": "heading",
     "level": 2,
     "metadata": {},
     "source": [
      "Ex2.12:pg-54"
     ]
    },
    {
     "cell_type": "code",
     "collapsed": false,
     "input": [
      "import math\n",
      "#to calculate refractive index of mica\n",
      "t=1.2*10**-8 #thickness of thin sheet of mica in m\n",
      "n=1 \n",
      "lamda=6*10**-7 #wavelength in m\n",
      "mu=(n*lamda/t)+1\n",
      "print \"the refractive index of mica is mu=\",mu,\"unitless\"\n",
      "#answer is given wrong in the book=1.50\n"
     ],
     "language": "python",
     "metadata": {},
     "outputs": [
      {
       "output_type": "stream",
       "stream": "stdout",
       "text": [
        "the refractive index of mica is mu= 51.0 unitless\n"
       ]
      }
     ],
     "prompt_number": 11
    },
    {
     "cell_type": "heading",
     "level": 2,
     "metadata": {},
     "source": [
      "Ex2.13:pg-54"
     ]
    },
    {
     "cell_type": "code",
     "collapsed": false,
     "input": [
      "import math\n",
      "#to calculate intensity\n",
      "mu=1.5 #refractive index(unitless)\n",
      "t=1.5*10**-6 #thickness of thin glass plate in m\n",
      "pathdifference=(mu-1)*t # in m\n",
      "lamda=5*10**-7 #wavelength in m\n",
      "#del=2*math.pi*pathdifference/lamda\n",
      "#del=3*math.pi\n",
      "a1=1\n",
      "      #where a1=a2=a\n",
      "a2=1\n",
      "#formula is I=a1**2+a2**2+2*a1*a2*cos del\n",
      "# where cos 3math.pi=-1\n",
      "I=a1**2+a2**2+2*a1*a2*(-1) \n",
      "print \"the intensity at the centre of the screen is I=\",I,\"unitless\" \n",
      "#to calculate lateral shift\n",
      "D=1 #distance in m\n",
      "twod=5*10**-4 #distance between two slits in m\n",
      "mu=1.5 #refractive index (unitless)\n",
      "t=1.5*10**-6 #thickness of thin glass plate in m\n",
      "x0=D*(mu-1)*t/twod\n",
      "print \"the lateral shift of the central maximum is x0=\",x0,\"m\"\n"
     ],
     "language": "python",
     "metadata": {},
     "outputs": [
      {
       "output_type": "stream",
       "stream": "stdout",
       "text": [
        "the intensity at the centre of the screen is I= 0 unitless\n",
        "the lateral shift of the central maximum is x0= 0.0015 m\n"
       ]
      }
     ],
     "prompt_number": 8
    },
    {
     "cell_type": "heading",
     "level": 2,
     "metadata": {},
     "source": [
      "Ex2.14:pg-55"
     ]
    },
    {
     "cell_type": "code",
     "collapsed": false,
     "input": [
      "import math\n",
      "#to calculate spacing between the slits\n",
      "lamda=6*10**-5 #wavelength in cm\n",
      "omegatheta=0.1*math.pi/180 #angular width of a fringe in radians\n",
      "twod=lamda/omegatheta\n",
      "print \"the spacing between the slits is twod=\",\"{:.2e}\".format(twod),\"cm\"\n"
     ],
     "language": "python",
     "metadata": {},
     "outputs": [
      {
       "output_type": "stream",
       "stream": "stdout",
       "text": [
        "the spacing between the slits is twod= 3.44e-02 cm\n"
       ]
      }
     ],
     "prompt_number": 9
    },
    {
     "cell_type": "heading",
     "level": 2,
     "metadata": {},
     "source": [
      "Ex2.15:pg-55"
     ]
    },
    {
     "cell_type": "code",
     "collapsed": false,
     "input": [
      "import math\n",
      "#to calculate distance of the third bright fringe on the screen from the central maximum \n",
      "lamda=6.5*10**-5 #wavelength in cm\n",
      "twod=0.2 #distance between the slits in cm\n",
      "D=120 #distance between the plane of the slits and the screen in cm\n",
      "n=3 \n",
      "X3=D*n*lamda/twod\n",
      "print \"the distance of the third bright fringe from the central maximum is X3=\",X3,\"cm\"\n",
      "#to calculate the least distance from the central maximum \n",
      "lamda1=6.5*10**-5 #wavelength in cm\n",
      "lamda2=5.2*10**-5 #wavelength in cm\n",
      "#Xn=Dnlamda1/2d=D(n+1)lamda2/2d\n",
      "#we get,\n",
      "n=lamda2/(lamda1-lamda2)\n",
      "print \"n=\",n,\"unitless\"\n",
      "Xn=D*n*lamda1/twod\n",
      "print \"the distance from the central maximum when the bright fringes due to both wavelengths coincide is Xn=\",Xn,\"cm\"\n",
      " \n"
     ],
     "language": "python",
     "metadata": {},
     "outputs": [
      {
       "output_type": "stream",
       "stream": "stdout",
       "text": [
        "the distance of the third bright fringe from the central maximum is X3= 0.117 cm\n",
        "n= 4.0 unitless\n",
        "the distance from the central maximum when the bright fringes due to both wavelengths coincide is Xn= 0.156 cm\n"
       ]
      }
     ],
     "prompt_number": 17
    },
    {
     "cell_type": "heading",
     "level": 2,
     "metadata": {},
     "source": [
      "Ex2.16:pg-56"
     ]
    },
    {
     "cell_type": "code",
     "collapsed": false,
     "input": [
      "import math\n",
      "#to calculate refractive index \n",
      "D=10 #distance in  cm\n",
      "twod=0.2 #distance detween the slits in cm\n",
      "t=0.05 #thickness of transparent plate in cm\n",
      "deltaX=0.5 #in cm\n",
      "mu=(deltaX*twod/(D*t))+1\n",
      "print \"the refractive index of the transparent plate is mu=\",mu,\"unitless\"\n",
      "#to calculate order\n",
      "n=10 \n",
      "lamda=7000*10**-8 #wavelength in cm\n",
      "#path difference =n*lamda\n",
      "n1=n*lamda/(5000*10**-8) \n",
      "print \"the order will be visible is n1=\",n1,\"unitless\"\n",
      "#to calculate distance between the two coherent sources\n",
      "D=100 #distance in m \n",
      "lamda=6000*10**-8 #wavelength in cm\n",
      "omega=0.05 #distance between two consecutive bright fringes on the screen in cm\n",
      "twod=D*lamda/omega\n",
      "print \"the distance between the coherent sources is twod=\",twod,\"cm\"\n",
      "#to calculate wavelength\n",
      "Xn=1 #distance of fourth bright fringe from the central fringe in cm\n",
      "twod=0.02 #distance between the two coherent sources in cm\n",
      "n=4 \n",
      "D=100 #distance in cm \n",
      "lamda=Xn*twod/(n*D)\n",
      "print \"the wavelength of light is lamda=\",lamda,\"cm\"\n",
      "#to calculate wavelength\n",
      "#position of nth bright fringe from the centre of the central fringe is Xn=D*n*lamda/2d----eq(1)\n",
      "#fringe width umega=D*lamda/2d---------------------eq(2)\n",
      "#from eq(1) and eq(2) we get, Xn=n*omega\n",
      "#for 11th bright fringe X11=11*omega\n",
      "#position for nth dark fringe Xn'=(2n+1)D*lamda/4d\n",
      "#X4'=(7/2)*omega\n",
      "#distance between 11th and 4th dark fringe =0.8835 cm\n",
      "#we get  \n",
      "omega=0.1178 #in cm\n",
      "twod=0.05 #distance between slis in cm\n",
      "D=100 # distance in cm\n",
      "lamda=omega*twod/D \n",
      "print \"the wavelength of light is lamda=\",lamda,\"cm\"\n",
      "#to calculate changed fringe width\n",
      "#X10-X0=10*omega\n",
      "#given that X10-X0=14.73-12.34=2.39mm \n",
      "omega=0.239 #in mm\n",
      "lamda=6000 #wavelength in angstrom\n",
      "lamda1=5000 #lamda'=5000 angstrom\n",
      "omega1=omega*lamda1/lamda\n",
      "print \"the changed fringe width is omega1=\",omega1,\"mm\"\n",
      "#to calculate thickness of mica sheet\n",
      "n=3\n",
      "mu=1.6 #refractive index(unitless)\n",
      "lamda=5.89*10**-5 #wavelength in cm\n",
      "t=n*lamda/(mu-1)\n",
      "print \"the thickness of mica sheet is t=\",t,\"cm\"\n",
      "#answer of thickness is given wrong in the book =0.002945 cm\n"
     ],
     "language": "python",
     "metadata": {},
     "outputs": [
      {
       "output_type": "stream",
       "stream": "stdout",
       "text": [
        "the refractive index of the transparent plate is mu= 1.2 unitless\n",
        "the order will be visible is n1= 14.0 unitless\n",
        "the distance between the coherent sources is twod= 0.12 cm\n",
        "the wavelength of light is lamda= 5e-05 cm\n",
        "the wavelength of light is lamda= 5.89e-05 cm\n",
        "the changed fringe width is omega1= 0.199166666667 mm\n",
        "the thickness of mica sheet is t= 0.0002945 cm\n"
       ]
      }
     ],
     "prompt_number": 18
    },
    {
     "cell_type": "heading",
     "level": 2,
     "metadata": {},
     "source": [
      "Ex2.17:pg-75"
     ]
    },
    {
     "cell_type": "code",
     "collapsed": false,
     "input": [
      "import math\n",
      "#to calculate the smallest thickness of the plate\n",
      "mu=1.5 #refractive index(unitless)\n",
      "r=60*math.pi/180 #angle of refraction in radians\n",
      "lamda=5890*10**-10 #wavelength in m\n",
      "n=1\n",
      "#formula is t=n*lamda/(2*mu*cosr) where cosr=0.5\n",
      "t=n*lamda/(2*mu*0.5)\n",
      "print \"the smallest thickness of the plate which will appear dark by reflection is t=\",\"{:.3e}\".format(t),\"m\"\n"
     ],
     "language": "python",
     "metadata": {},
     "outputs": [
      {
       "output_type": "stream",
       "stream": "stdout",
       "text": [
        "the smallest thickness of the plate which will appear dark by reflection is t= 3.927e-07 m\n"
       ]
      }
     ],
     "prompt_number": 10
    },
    {
     "cell_type": "heading",
     "level": 2,
     "metadata": {},
     "source": [
      "Ex2.18:pg-75"
     ]
    },
    {
     "cell_type": "code",
     "collapsed": false,
     "input": [
      "import math\n",
      "#to calculate least thickness of the film\n",
      "lamda=5893*10**-10#wavelength in m\n",
      "r=0 #in degree\n",
      "mu=1.42 #refractive index\n",
      "n=1\n",
      "#the formula is t=n*lamda/(2*mu*cosr), where cos0=1\n",
      "t=n*lamda/(2*mu*1)\n",
      "print \"the least thickness of the film that will appear black is t=\",t,\"m\"\n",
      "t=(2*n-1)*lamda/(2*mu*1*2)\n",
      "print \"the least thickness of the film that will appear bright is t=\",t,\"m\"\n"
     ],
     "language": "python",
     "metadata": {},
     "outputs": [
      {
       "output_type": "stream",
       "stream": "stdout",
       "text": [
        "the least thickness of the film that will appear black is t= 2.075e-07 m\n",
        "the least thickness of the film that will appear bright is t= 1.0375e-07 m\n"
       ]
      }
     ],
     "prompt_number": 20
    },
    {
     "cell_type": "heading",
     "level": 2,
     "metadata": {},
     "source": [
      "Ex2.19:pg-76"
     ]
    },
    {
     "cell_type": "code",
     "collapsed": false,
     "input": [
      "import math\n",
      "#to calculate thickness of the film\n",
      "lamda1=6.1*10**-7 #wavelength in m\n",
      "lamda2=6*10**-7 # wavelength in m\n",
      "#the two dark consecutive fringes are overlapping for the wavelength lamda1 and lamda2 respectively\n",
      "#then, n*lamda1=(n+1)*lamda2\n",
      "#we get,\n",
      "n=lamda2/(lamda1-lamda2)\n",
      "sini=4.0/5\n",
      "mu=4.0/3\n",
      "#formula is mu=sini/sinr\n",
      "sinr=0.6\n",
      "cosr=math.sqrt(1-(sinr)**2)\n",
      "t=n*lamda1/(2*mu*cosr)\n",
      "print \"the thickness of the film is t=\",\"{:.2e}\".format(t),\"m\"\n"
     ],
     "language": "python",
     "metadata": {},
     "outputs": [
      {
       "output_type": "stream",
       "stream": "stdout",
       "text": [
        "the thickness of the film is t= 1.72e-05 m\n"
       ]
      }
     ],
     "prompt_number": 11
    },
    {
     "cell_type": "heading",
     "level": 2,
     "metadata": {},
     "source": [
      "Ex2.20:pg-77"
     ]
    },
    {
     "cell_type": "code",
     "collapsed": false,
     "input": [
      "import math\n",
      "#to calculate thickness of the film\n",
      "mu=1.33 #refractive index of soap film (unitless)\n",
      "i=45*math.pi/180\n",
      "#the formula is mu=sini/sinr \n",
      "sinr=0.5317 \n",
      "cosr=math.sqrt(1-(sinr)**2)\n",
      "#for destructive interference\n",
      "lamda=5890*10**-10 #wavelength in m\n",
      "n=1\n",
      "t=n*lamda/(2*mu*cosr)\n",
      "print \"the thickness of the film is t=\",\"{:.3e}\".format(t),\"m\"\n"
     ],
     "language": "python",
     "metadata": {},
     "outputs": [
      {
       "output_type": "stream",
       "stream": "stdout",
       "text": [
        "the thickness of the film is t= 2.614e-07 m\n"
       ]
      }
     ],
     "prompt_number": 12
    },
    {
     "cell_type": "heading",
     "level": 2,
     "metadata": {},
     "source": [
      "Ex2.21:pg-77"
     ]
    },
    {
     "cell_type": "code",
     "collapsed": false,
     "input": [
      "import math\n",
      "#to calculate angle of the wedge\n",
      "lamda=6000*10**-10 #wavelength in m\n",
      "mu=1.4 #refractive index in unitless\n",
      "omega=2*10.0**-3 #distance in m\n",
      "theta=lamda/(2*mu*omega)\n",
      "print \"the angle of the wedge is theta =\",\"{:.2e}\".format(theta),\"radians\"\n"
     ],
     "language": "python",
     "metadata": {},
     "outputs": [
      {
       "output_type": "stream",
       "stream": "stdout",
       "text": [
        "the angle of the wedge is theta = 1.07e-04 radians\n"
       ]
      }
     ],
     "prompt_number": 13
    },
    {
     "cell_type": "heading",
     "level": 2,
     "metadata": {},
     "source": [
      "Ex2.22:pg-77"
     ]
    },
    {
     "cell_type": "code",
     "collapsed": false,
     "input": [
      "import math\n",
      "#to calculate wavelength of light \n",
      "theta=10*22.0/(7*60*60*180.0) #angle of wedge in radians\n",
      "omega=5*10.0**-2 #distance between the successive fringes in m\n",
      "mu=1.4 #refractive index\n",
      "lamda=2.0*mu*theta*omega/(10e-10)\n",
      "print \"the wavelength of light is lamda=\",round(lamda),\"Angstrom\"\n"
     ],
     "language": "python",
     "metadata": {},
     "outputs": [
      {
       "output_type": "stream",
       "stream": "stdout",
       "text": [
        "the wavelength of light is lamda= 6790.0 Angstrom\n"
       ]
      }
     ],
     "prompt_number": 23
    },
    {
     "cell_type": "heading",
     "level": 2,
     "metadata": {},
     "source": [
      "Ex2.23:pg-78"
     ]
    },
    {
     "cell_type": "code",
     "collapsed": false,
     "input": [
      "import math\n",
      "#to calculate wavelength of the light\n",
      "D15=0.590*10**-2 #diamater of 15th ring in m\n",
      "D5=0.336*10**-2 #diameter of 5th ring in m\n",
      "p=1 # in m\n",
      "R=1 #radius of plano convex lens in m\n",
      "#formula is lamda=Dn+p**2-Dn**2/4pR\n",
      "lamda=((D15**2)-(D5**2))/(4*p*R)/(10e-10)\n",
      "print \"the wavelength of the monochromatic light is lamda=\",int(lamda),\"Angstrom\"\n",
      "\n"
     ],
     "language": "python",
     "metadata": {},
     "outputs": [
      {
       "output_type": "stream",
       "stream": "stdout",
       "text": [
        "the wavelength of the monochromatic light is lamda= 5880 Angstrom\n"
       ]
      }
     ],
     "prompt_number": 14
    },
    {
     "cell_type": "heading",
     "level": 2,
     "metadata": {},
     "source": [
      "Ex2.24:pg-78"
     ]
    },
    {
     "cell_type": "code",
     "collapsed": false,
     "input": [
      "import math\n",
      "#to calculate refractive index of the liquid\n",
      "n=6\n",
      "lamda=6000*10**-10 #wavelength in m\n",
      "R=1 #radius of curvature of the curved surface in m\n",
      "Dn=3.1*10**-3 #diameter of 6th bright ring in m\n",
      "mu=2*(2*n-1)*lamda*R/Dn**2\n",
      "print \"the refractive index of the liquid is mu=\",round(mu,3),\"unitless\"\n"
     ],
     "language": "python",
     "metadata": {},
     "outputs": [
      {
       "output_type": "stream",
       "stream": "stdout",
       "text": [
        "the refractive index of the liquid is mu= 1.374 unitless\n"
       ]
      }
     ],
     "prompt_number": 28
    },
    {
     "cell_type": "heading",
     "level": 2,
     "metadata": {},
     "source": [
      "Ex2.25:pg-78"
     ]
    },
    {
     "cell_type": "code",
     "collapsed": false,
     "input": [
      "import math\n",
      "#to calculate radius of curvature\n",
      "lamda=5900*10**-10 #wavelength in m\n",
      "n=10\n",
      "Dn=5*10**-3 # diameter of 10th dark ring in m\n",
      "R=Dn**2/(4*n*lamda)\n",
      "print \"the radius of curvature of the lens is R=\",round(R,3),\"m\"\n",
      "#to calculate thichness\n",
      "t=n*lamda/2\n",
      "print \"the thickness of the air film is t=\",t,\"m\"\n",
      "\n"
     ],
     "language": "python",
     "metadata": {},
     "outputs": [
      {
       "output_type": "stream",
       "stream": "stdout",
       "text": [
        "the radius of curvature of the lens is R= 1.059 m\n",
        "the thickness of the air film is t= 2.95e-06 m\n"
       ]
      }
     ],
     "prompt_number": 15
    },
    {
     "cell_type": "heading",
     "level": 2,
     "metadata": {},
     "source": [
      "Ex2.26:pg-79"
     ]
    },
    {
     "cell_type": "code",
     "collapsed": false,
     "input": [
      "import math\n",
      "#to calculate the distance from the apex of the wedge at which the maximum due to the two wavelengths first coincide\n",
      "#condition for maxima for normal incidence air film is 2t=(2n+1)lamda/2\n",
      "#let nth order maximum due to lamda1 coincides with (n+1)th order maximum due to lamda2 \n",
      "#we get , n=(3lamda2-lamda1)/2(lamda1-lamda2)\n",
      "# we also get, 2t=lamda1*lamda2/(lamda1-lamda2)\n",
      "#t=X*theta\n",
      "lamda1=5896.0*10**-8 #wavelength in cm\n",
      "lamda2=5890.0*10**-8 #wavelength in cm\n",
      "theta=0.3*math.pi/180 #angle of wedge\n",
      "X=lamda1*lamda2/(2*(lamda1-lamda2)*theta)\n",
      "print \"the distance from the apex of the wedge is X=\",round(X,3),\"cm\"\n"
     ],
     "language": "python",
     "metadata": {},
     "outputs": [
      {
       "output_type": "stream",
       "stream": "stdout",
       "text": [
        "the distance from the apex of the wedge is X= 5.527 cm\n"
       ]
      }
     ],
     "prompt_number": 17
    },
    {
     "cell_type": "heading",
     "level": 2,
     "metadata": {},
     "source": [
      "Ex2.27:pg-80"
     ]
    },
    {
     "cell_type": "code",
     "collapsed": false,
     "input": [
      "import math\n",
      "#to calculate radius of curvature \n",
      "n=10.0\n",
      "Dn=0.50 #diameter of 10th ring in cm\n",
      "lamda=6000*10**-8 #wavelength in cm\n",
      "R=Dn**2/(4*n*lamda)\n",
      "print \"the radius of curvature of the lens is R=\",R,\"cm\"\n",
      "#answer is given wrong in the book =106 cm\n",
      "#to calculate thickness of the film\n",
      "t=Dn**2/(8*R)\n",
      "print \"the thickness of the film is t=\",\"{:.1e}\".format(t),\"cm\"\n"
     ],
     "language": "python",
     "metadata": {},
     "outputs": [
      {
       "output_type": "stream",
       "stream": "stdout",
       "text": [
        "the radius of curvature of the lens is R= 104.166666667 cm\n",
        "the thickness of the film is t= 3.0e-04 cm\n"
       ]
      }
     ],
     "prompt_number": 19
    },
    {
     "cell_type": "heading",
     "level": 2,
     "metadata": {},
     "source": [
      "Ex2.28:pg-80"
     ]
    },
    {
     "cell_type": "code",
     "collapsed": false,
     "input": [
      "import math\n",
      "#to calculate diameter\n",
      "#the difference of (n+p)th and nth dark ring is Dn+p**2-Dn**2=4nRlamda\n",
      "N=12 #where N=n+p\n",
      "n=4\n",
      "D12=0.7 #diameter of 12th dark ring in cm\n",
      "D4=0.4 #diameter of 4th dark ring in cm\n",
      "#D12**2-D4**2=4pRlamda where p=8 ----eq(1)\n",
      "#D20**2-D4**2=4pRlamda where p=16 -----eq(2)\n",
      "#divide eq(2) by eq(1) ,we get\n",
      "D20=math.sqrt((2*D12**2)-D4**2)\n",
      "print \"the diameter of 20th dark ring is D20=\",round(D20,2),\"cm\"\n",
      "\n"
     ],
     "language": "python",
     "metadata": {},
     "outputs": [
      {
       "output_type": "stream",
       "stream": "stdout",
       "text": [
        "the diameter of 20th dark ring is D20= 0.91 cm\n"
       ]
      }
     ],
     "prompt_number": 21
    },
    {
     "cell_type": "heading",
     "level": 2,
     "metadata": {},
     "source": [
      "Ex2.29:pg-80"
     ]
    },
    {
     "cell_type": "code",
     "collapsed": false,
     "input": [
      "import math\n",
      "#to calculate diameter \n",
      "lamda1=6*10**-5 #wavelength in cm\n",
      "lamda2=4.5*10**-5 #wavelength in cm\n",
      "R=90 #radius of curvature of the curved surface in cm\n",
      "#Dn**2=4nRlamda1 -------eq(1)\n",
      "#Dn+1**2=4(n+1)Rlamda2-------eq(2)\n",
      "#the nth dark ring due to lamda1 coincides with (n+1)th dark ring due to lamda2\n",
      "#from eq(1) and eq(2)-4nRlamda1=4(n+1)Rlamda2\n",
      "# we get,\n",
      "n=lamda2/(lamda1-lamda2)\n",
      "Dn=math.sqrt(4*n*R*lamda1)\n",
      "print \"the diameter of nth dark ring for lamda1 is Dn=\",round(Dn,3),\"cm\"\n"
     ],
     "language": "python",
     "metadata": {},
     "outputs": [
      {
       "output_type": "stream",
       "stream": "stdout",
       "text": [
        "the diameter of nth dark ring for lamda1 is Dn= 0.255 cm\n"
       ]
      }
     ],
     "prompt_number": 22
    },
    {
     "cell_type": "heading",
     "level": 2,
     "metadata": {},
     "source": [
      "Ex2.30:pg-81"
     ]
    },
    {
     "cell_type": "code",
     "collapsed": false,
     "input": [
      "import math\n",
      "#to calculate the difference of square of diameters for nth and (n+p)th ring when light of wavelength lamda is changed to lamda'\n",
      "lamda=6*10**-5 #wavelength in cm\n",
      "lamda1=4.5*10**-5 #wavelength in cm\n",
      "#Let D=(D**2-Dn**2)=0.125 cm**2 \n",
      "D=0.125\n",
      "#formula is D'(n+p)**2-D'n**2=lamda'*(D(n+p)**2-Dn**2)/lamda\n",
      "print \"the difference of square of diameters is D1(n+p)**2-D1n**2=(lamda1*D)/lamda=\",(lamda1*D)/lamda,\"cm**2\"\n",
      "#to calculate difference of square of diamaters when liqquid of refractive index mu' is introduced\n",
      "mu=1 #refractive index (unitless)\n",
      "mu1=1.33 # mu'=1.33\n",
      "#formula is D'(n+p)**2-D'n**2=(mu/mu')*(D(n+p)**2-Dn**2)\n",
      "print \"the difference of square of diameters is D1(n+p)**2-D1n**2=(mu*D)/mu1=\",round((mu*D)/mu1,3),\"cm**2\"\n",
      "#to calculate difference of square of diameters when radius of curvature of convex surface of the plano convex lens is doubled\n",
      "R1=2 #radius of curvature is R'=2R\n",
      "R=1\n",
      "#formula is D'(n+p)**2-D'n**2=(R'/R)*(D(n+p)**2-Dn**2)\n",
      "print \"the difference of square of diameters is D1(n+p)**2-D1n**2=(R1*D)/R=\",round((R1*D)/R,2),\"cm**2\"\n"
     ],
     "language": "python",
     "metadata": {},
     "outputs": [
      {
       "output_type": "stream",
       "stream": "stdout",
       "text": [
        "the difference of square of diameters is D1(n+p)**2-D1n**2=(lamda1*D)/lamda= 0.09375 cm**2\n",
        "the difference of square of diameters is D1(n+p)**2-D1n**2=(mu*D)/mu1= 0.094 cm**2\n",
        "the difference of square of diameters is D1(n+p)**2-D1n**2=(R1*D)/R= 0.25 cm**2\n"
       ]
      }
     ],
     "prompt_number": 27
    }
   ],
   "metadata": {}
  }
 ]
}