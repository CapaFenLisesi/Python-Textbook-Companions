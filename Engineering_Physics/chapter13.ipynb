{
 "metadata": {
  "name": "",
  "signature": "sha256:54e553aa602b5b46f788e4b29d82727b714210cbc37d72a1b8625b974bd8b58b"
 },
 "nbformat": 3,
 "nbformat_minor": 0,
 "worksheets": [
  {
   "cells": [
    {
     "cell_type": "heading",
     "level": 1,
     "metadata": {},
     "source": [
      "Chapter13:SUPERCONDUCTIVITY"
     ]
    },
    {
     "cell_type": "heading",
     "level": 2,
     "metadata": {},
     "source": [
      "\n",
      "Ex13.1:pg-357"
     ]
    },
    {
     "cell_type": "code",
     "collapsed": false,
     "input": [
      "#example 1\n",
      "#to calculate value of Temperature\n",
      "import math\n",
      "Bc=105.0*10**3 #magnetic field in amp/m\n",
      "Bo=150.0*10**3 #critical field of the metal in amp/m \n",
      "Tc=9.2 #critical temperature of the metal in K\n",
      "T=Tc*math.sqrt(1-(Bc/Bo))#temperature\n",
      "print\"\\n the value of temperature is\",round(T,3),\"K\"\n",
      "\n"
     ],
     "language": "python",
     "metadata": {},
     "outputs": [
      {
       "output_type": "stream",
       "stream": "stdout",
       "text": [
        "\n",
        " the value of temperature is 5.039 K\n"
       ]
      }
     ],
     "prompt_number": 9
    },
    {
     "cell_type": "heading",
     "level": 2,
     "metadata": {},
     "source": [
      "Ex13.2:pg-357"
     ]
    },
    {
     "cell_type": "code",
     "collapsed": false,
     "input": [
      "#example 2\n",
      "#to calculate temperature\n",
      "import math\n",
      "Tc=7.18 #critical temperature in K\n",
      "Bc=4.5*10**3  #critical field in A/m\n",
      "Bo=6.5*10**3 #critical magnetic field in A/m\n",
      "T=Tc*math.sqrt(1-(Bc/Bo))# temperature\n",
      "print\"\\n the temperature is\",round(T,2),\"K\"\n",
      "#to calculate critical current density at that temperature\n",
      "r=1*10**-3 #diameter of the wire in mm\n",
      "TJc=(Bc*2*math.pi*r)/(math.pi*r**2)# critical current density\n",
      "print\"\\n the critical current density at that temperature is\",\"{:.1e}\".format(TJc),\"A/m^2\"\n"
     ],
     "language": "python",
     "metadata": {},
     "outputs": [
      {
       "output_type": "stream",
       "stream": "stdout",
       "text": [
        "\n",
        " the temperature is 3.98 K\n",
        "\n",
        " the critical current density at that temperature is 9.0e+06 A/m^2\n"
       ]
      }
     ],
     "prompt_number": 2
    }
   ],
   "metadata": {}
  }
 ]
}