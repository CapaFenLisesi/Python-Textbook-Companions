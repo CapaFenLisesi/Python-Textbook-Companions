{
 "metadata": {
  "name": "Chapter1",
  "signature": "sha256:e55f587b2da98ead68f73bb2b4d29bef91aa67eb577c460fb9dcaab92acc4339"
 },
 "nbformat": 3,
 "nbformat_minor": 0,
 "worksheets": [
  {
   "cells": [
    {
     "cell_type": "heading",
     "level": 1,
     "metadata": {},
     "source": "1: Ultrasonics"
    },
    {
     "cell_type": "heading",
     "level": 2,
     "metadata": {},
     "source": "Example number 1.1, Page number 20"
    },
    {
     "cell_type": "code",
     "collapsed": false,
     "input": "#Variable declaration\nv = 1440;         #velocity of ultrasonic waves(m/s)\nt = 0.33;         #time elapsed(s)\n\n#Calculation\nd = v*t;      #distance travelled(m)\nd1 = d/2;     #depth of submarine(m)\n\n#Result\nprint \"depth of the submerged submarine is\",d1, \"m\"",
     "language": "python",
     "metadata": {},
     "outputs": [
      {
       "output_type": "stream",
       "stream": "stdout",
       "text": "depth of the submerged submarine is 237.6 m\n"
      }
     ],
     "prompt_number": 1
    },
    {
     "cell_type": "heading",
     "level": 2,
     "metadata": {},
     "source": "Example number 1.2, Page number 21"
    },
    {
     "cell_type": "code",
     "collapsed": false,
     "input": "#importing modules\nimport math\n\n#Variable declaration\nl = 40;     #length of iron rod(mm)\nE = 115*10**9;      #Young's modulus(N/m**2)\nrho = 7.25*10**3;   #density of pure iron(kg/m**3)\n\n#Calculation\nl = l*10**-3;     #length of iron rod(m)\nnew = (1/(2*l))*math.sqrt(E/rho);     #natural frequency of the rod(Hz)\nnew = new*10**-3;             #natural frequency of the rod(kHz)\nnew=math.ceil(new*10**3)/10**3;   #rounding off to 3 decimals\n\n#Result\nprint \"depth of the submerged submarine is\",new, \"kHz\"",
     "language": "python",
     "metadata": {},
     "outputs": [
      {
       "output_type": "stream",
       "stream": "stdout",
       "text": "depth of the submerged submarine is 49.785 kHz\n"
      }
     ],
     "prompt_number": 2
    },
    {
     "cell_type": "heading",
     "level": 2,
     "metadata": {},
     "source": "Example number 1.3, Page number 21"
    },
    {
     "cell_type": "code",
     "collapsed": false,
     "input": "#importing modules\nimport math\n\n#Variable declaration\nl = 1;     #length of quartz crystal(mm)\nE = 7.9*10**10;      #Young's modulus(N/m**2)\nrho = 2650;   #density(kg/m**3)\n\n#Calculation\nl = l*10**-3;     #length of iron rod(m)\nnew = (1/(2*l))*math.sqrt(E/rho);     #natural frequency of the rod(Hz)\nnew = new*10**-6;                   \nnew=math.ceil(new*10**2)/10**2;   #rounding off to 2 decimals\n\n#Result\nprint \"fundamental frequency of crystal is\",new, \"*10**6 Hz\"",
     "language": "python",
     "metadata": {},
     "outputs": [
      {
       "output_type": "stream",
       "stream": "stdout",
       "text": "fundamental frequency of crystal is 2.73 *10**6 Hz\n"
      }
     ],
     "prompt_number": 3
    },
    {
     "cell_type": "heading",
     "level": 2,
     "metadata": {},
     "source": "Example number 1.4, Page number 22"
    },
    {
     "cell_type": "code",
     "collapsed": false,
     "input": "#importing modules\nimport math\n\n#Variable declaration\nd = 0.55;        #distance between 2 constructive antinodes(mm)\nnew = 1.5;      #frequency of crystal(MHz)\n \n#Calculation\nnew = new*10**6;        #frequency of crystal(Hz)\nd = d*10**-3;     #distance between 2 constructive antinodes(m)\n#distance between 2 antinodes is given by lamda/2\nlamda = 2*d;      #wavelength of ultrasonic waves(m)\nv = new*lamda;       #velocity of waves(m/s)\n\n#Result\nprint \"velocity of waves is\",int(v), \"m/s\"",
     "language": "python",
     "metadata": {},
     "outputs": [
      {
       "output_type": "stream",
       "stream": "stdout",
       "text": "velocity of waves is 1650 m/s\n"
      }
     ],
     "prompt_number": 4
    },
    {
     "cell_type": "heading",
     "level": 2,
     "metadata": {},
     "source": "Example number 1.5, Page number 22"
    },
    {
     "cell_type": "code",
     "collapsed": false,
     "input": "#importing modules\nimport math\n\n#Variable declaration\nl = 50;     #length of rod(mm)\nE = 11.5*10**10;      #Young's modulus(N/m**2)\nrho = 7250;   #density(kg/m**3)\n\n#Calculation\nl = l*10**-3;     #length of iron rod(m)\nnew = (1/(2*l))*math.sqrt(E/rho);     #natural frequency of the rod(Hz)\nnew = new*10**-3;       #natural frequency of the rod(kHz)\nnew = math.ceil(new*10**2)/10**2;   #rounding off to 2 decimals\n\n#Result\nprint \"natural frequency of rod is\",new, \"kHz\"",
     "language": "python",
     "metadata": {},
     "outputs": [
      {
       "output_type": "stream",
       "stream": "stdout",
       "text": "natural frequency of rod is 39.83 kHz\n"
      }
     ],
     "prompt_number": 5
    },
    {
     "cell_type": "heading",
     "level": 2,
     "metadata": {},
     "source": "Example number 1.6, Page number 22"
    },
    {
     "cell_type": "code",
     "collapsed": false,
     "input": "#importing modules\nimport math\n\n#Variable declaration\nl = 2;     #length of crystal(mm)\nE = 7.9*10**10;      #Young's modulus(N/m**2)\nrho = 2650;   #density(kg/m**3)\n\n#Calculation\nl = l*10**-3;     #length of iron rod(m)\nnew = (1/(2*l))*math.sqrt(E/rho);     #natural frequency of the rod(Hz)\nnew = new*10**-6;         #natural frequency of the rod(MHz)\nnew=math.ceil(new*10**3)/10**3;   #rounding off to 3 decimals\n\n#Result\nprint \"frequency of crystal is\",new, \"MHz\"",
     "language": "python",
     "metadata": {},
     "outputs": [
      {
       "output_type": "stream",
       "stream": "stdout",
       "text": "frequency of crystal is 1.365 MHz\n"
      }
     ],
     "prompt_number": 6
    },
    {
     "cell_type": "heading",
     "level": 2,
     "metadata": {},
     "source": "Example number 1.7, Page number 23"
    },
    {
     "cell_type": "code",
     "collapsed": false,
     "input": "#importing modules\nimport math\n\n#Variable declaration\nl = 3;     #length of crystal(mm)\nE = 8*10**10;      #Young's modulus(N/m**2)\nrho = 2500;   #density(kg/m**3)\n\n#Calculation\nl = l*10**-3;     #length of iron rod(m)\nnew = (1/(2*l))*math.sqrt(E/rho);     #natural frequency of the rod(Hz)\nnew = new*10**-3;         #natural frequency of the rod(kHz) \nnew=math.ceil(new*10**2)/10**2;   #rounding off to 2 decimals\n\n#Result\nprint \"frequency of crystal is\",new, \"kHz\"",
     "language": "python",
     "metadata": {},
     "outputs": [
      {
       "output_type": "stream",
       "stream": "stdout",
       "text": "frequency of crystal is 942.81 kHz\n"
      }
     ],
     "prompt_number": 8
    },
    {
     "cell_type": "heading",
     "level": 2,
     "metadata": {},
     "source": "Example number 1.8, Page number 23"
    },
    {
     "cell_type": "code",
     "collapsed": false,
     "input": "#importing modules\nimport math\n\n#Variable declaration\nl = 1.5;     #length of crystal(mm)\nE = 7.9*10**10;      #Young's modulus(N/m**2)\nrho = 2650;   #density(kg/m**3)\n\n#Calculation\nl = l*10**-3;     #length of iron rod(m)\nnew = (1/(2*l))*math.sqrt(E/rho);     #natural frequency of the rod(Hz)\nnew = new*10**-6;         #natural frequency of the rod(MHz) \nnew=math.ceil(new*10**2)/10**2;   #rounding off to 2 decimals\n\n#Result\nprint \"frequency of crystal is\",new, \"MHz\"",
     "language": "python",
     "metadata": {},
     "outputs": [
      {
       "output_type": "stream",
       "stream": "stdout",
       "text": "frequency of crystal is 1.82 MHz\n"
      }
     ],
     "prompt_number": 10
    },
    {
     "cell_type": "heading",
     "level": 2,
     "metadata": {},
     "source": "Example number 1.9, Page number 24"
    },
    {
     "cell_type": "code",
     "collapsed": false,
     "input": "#Variable declaration\nv = 1440;         #velocity of ultrasonic waves(m/s)\nt = 0.95;         #time elapsed(s)\n\n#Calculation\nd = v*t;      #distance travelled(m)\nd1 = d/2;     #depth of sea(m)\n\n#Result\nprint \"depth of the submerged submarine is\",int(d1), \"m\"",
     "language": "python",
     "metadata": {},
     "outputs": [
      {
       "output_type": "stream",
       "stream": "stdout",
       "text": "depth of the submerged submarine is 684 m\n"
      }
     ],
     "prompt_number": 11
    },
    {
     "cell_type": "heading",
     "level": 2,
     "metadata": {},
     "source": "Example number 1.10, Page number 24"
    },
    {
     "cell_type": "code",
     "collapsed": false,
     "input": "#Variable declaration\nv = 1440;         #velocity of ultrasonic waves(m/s)\nt = 0.83;         #time elapsed(s)\n\n#Calculation\nd = v*t;      #distance travelled(m)\nd1 = d/2;     #depth of submarine(m)\n\n#Result\nprint \"depth of the submerged submarine is\",d1, \"m\"",
     "language": "python",
     "metadata": {},
     "outputs": [
      {
       "output_type": "stream",
       "stream": "stdout",
       "text": "depth of the submerged submarine is 597.6 m\n"
      }
     ],
     "prompt_number": 12
    },
    {
     "cell_type": "heading",
     "level": 2,
     "metadata": {},
     "source": "Example number 1.11, Page number 24"
    },
    {
     "cell_type": "code",
     "collapsed": false,
     "input": "#importing modules\nimport math\n\n#Variable declaration\naS = 1050;      #total absorption inside hall(Sabine)\nV = 9000;       #volume of cinema hall(m**3)\n\n#Calculation\nT = 0.165*V/aS;     #reverberation time of hall(s)\nT = math.ceil(T*10**4)/10**4;   #rounding off to 4 decimals\n\n#Result\nprint \"reverberation time of the hall is\",T, \"s\"",
     "language": "python",
     "metadata": {},
     "outputs": [
      {
       "output_type": "stream",
       "stream": "stdout",
       "text": "reverberation time of the hall is 1.4143 s\n"
      }
     ],
     "prompt_number": 13
    },
    {
     "cell_type": "heading",
     "level": 2,
     "metadata": {},
     "source": "Example number 1.12, Page number 25"
    },
    {
     "cell_type": "code",
     "collapsed": false,
     "input": "#importing modules\nimport math\n\n#Variable declaration\na = 0.65;      #average absorption coefficient(Sabine/m**2)\nV = 13500;       #volume of auditorium(m**3)\nT = 1.2;         #reverberation time of hall(s)\n\n#Calculation\nS = 0.165*V/(a*T);     #reverberation time of hall(s)\nS = math.ceil(S*10)/10;   #rounding off to 1 decimal\n\n#Result\nprint \"total area of interior surface is\",S, \"m**2\"",
     "language": "python",
     "metadata": {},
     "outputs": [
      {
       "output_type": "stream",
       "stream": "stdout",
       "text": "total area of interior surface is 2855.8 m**2\n"
      }
     ],
     "prompt_number": 14
    },
    {
     "cell_type": "heading",
     "level": 2,
     "metadata": {},
     "source": "Example number 1.13, Page number 25"
    },
    {
     "cell_type": "code",
     "collapsed": false,
     "input": "#importing modules\nimport math\n\n#Variable declaration\nV = 15000;       #volume of cinema hall(m**3)\nT1 = 1.3;        #initial reverberation time of hall(s)\na1S1 = 300;      #number of chairs placed\n\n#Calculation\naS = 0.165*V/T1;         #total absorption of hall\nT2 = (0.165*V)/(aS+a1S1);      #reverberation time of hall after adding chairs(s)\nT2 = math.ceil(T2*10**4)/10**4;   #rounding off to 4 decimals\n\n#Result\nprint \"reverberation time of the hall after adding chairs is\",T2, \"s\"",
     "language": "python",
     "metadata": {},
     "outputs": [
      {
       "output_type": "stream",
       "stream": "stdout",
       "text": "reverberation time of the hall after adding chairs is 1.1231 s\n"
      }
     ],
     "prompt_number": 15
    },
    {
     "cell_type": "heading",
     "level": 2,
     "metadata": {},
     "source": "Example number 1.14, Page number 26"
    },
    {
     "cell_type": "code",
     "collapsed": false,
     "input": "#Variable declaration\nv = 1440;         #velocity of ultrasonic waves(m/s)\nt = 0.5;         #time elapsed(s)\n\n#Calculation\nd = v*t;      #distance travelled(m)\nd1 = d/2;     #depth of submarine(m)\n\n#Result\nprint \"depth of the submerged submarine is\",int(d1), \"m\"",
     "language": "python",
     "metadata": {},
     "outputs": [
      {
       "output_type": "stream",
       "stream": "stdout",
       "text": "depth of the submerged submarine is 360 m\n"
      }
     ],
     "prompt_number": 16
    },
    {
     "cell_type": "heading",
     "level": 2,
     "metadata": {},
     "source": "Example number 1.15, Page number 26"
    },
    {
     "cell_type": "code",
     "collapsed": false,
     "input": "#importing modules\nimport math\n\n#Variable declaration\nd = 0.4;        #distance between 2 constructive antinodes(mm)\nnew = 1.5;      #frequency of crystal(MHz)\n \n#Calculation\nnew = new*10**6;        #frequency of crystal(Hz)\nd = d*10**-3;     #distance between 2 constructive antinodes(m)\n#distance between 2 antinodes is given by lamda/2\nlamda = 2*d;      #wavelength of ultrasonic waves(m)\nv = new*lamda;       #velocity of waves(m/s)\n\n#Result\nprint \"velocity of waves is\",int(v), \"m/s\"",
     "language": "python",
     "metadata": {},
     "outputs": [
      {
       "output_type": "stream",
       "stream": "stdout",
       "text": "velocity of waves is 1200 m/s\n"
      }
     ],
     "prompt_number": 17
    },
    {
     "cell_type": "heading",
     "level": 2,
     "metadata": {},
     "source": "Example number 1.16, Page number 26"
    },
    {
     "cell_type": "code",
     "collapsed": false,
     "input": "#importing modules\nimport math\n\n#Variable declaration\nl = 40;     #length of iron rod(mm)\nE = 11.5*10**10;      #Young's modulus(N/m**2)\nrho = 7250;   #density of pure iron(kg/m**3)\n\n#Calculation\nl = l*10**-3;     #length of iron rod(m)\nnew = (1/(2*l))*math.sqrt(E/rho);     #natural frequency of the rod(Hz)\nnew = new*10**-3;             #natural frequency of the rod(kHz)\nnew=math.ceil(new*10**3)/10**3;   #rounding off to 3 decimals\n\n#Result\nprint \"depth of the submerged submarine is\",new, \"kHz\"",
     "language": "python",
     "metadata": {},
     "outputs": [
      {
       "output_type": "stream",
       "stream": "stdout",
       "text": "depth of the submerged submarine is 49.785 kHz\n"
      }
     ],
     "prompt_number": 18
    }
   ],
   "metadata": {}
  }
 ]
}