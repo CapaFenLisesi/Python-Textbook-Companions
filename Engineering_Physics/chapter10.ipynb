{
 "metadata": {
  "name": "",
  "signature": "sha256:a79be9375f475037255b00d45fe0971e7606cfc4e70e2a086d7c77b20c6b87d7"
 },
 "nbformat": 3,
 "nbformat_minor": 0,
 "worksheets": [
  {
   "cells": [
    {
     "cell_type": "heading",
     "level": 1,
     "metadata": {},
     "source": [
      "Chapter10:MAGNETIC PROPERTIES OF MATERIALS"
     ]
    },
    {
     "cell_type": "heading",
     "level": 2,
     "metadata": {},
     "source": [
      "Ex10.1:pg-288"
     ]
    },
    {
     "cell_type": "code",
     "collapsed": false,
     "input": [
      "import math\n",
      "#to calculate permeability and susceptibility of the bar\n",
      "phi=2.4*10**-5 #magnetic flux in weber\n",
      "A=0.2*10**-4 #cross sectional area in m**2\n",
      "B=phi/A #magnetic induction in N/Am\n",
      "H=1200 #magnetising field in A/m\n",
      "mu=B/H\n",
      "print \"permeability is mu=\",\"{:.2e}\".format(mu),\"N/A**2\"\n",
      "muo=4*math.pi*10**-7 \n",
      "chim=(mu/muo)-1\n",
      "print \"susceptibility is chim=\",round(chim,2),\"unitless\"\n",
      "#the answer is given wrong in the book (round off error) chim=737\n"
     ],
     "language": "python",
     "metadata": {},
     "outputs": [
      {
       "output_type": "stream",
       "stream": "stdout",
       "text": [
        "permeability is mu= 1.00e-03 N/A**2\n",
        "susceptibility is chim= 794.77 unitless\n"
       ]
      }
     ],
     "prompt_number": 2
    },
    {
     "cell_type": "heading",
     "level": 2,
     "metadata": {},
     "source": [
      "Ex10.2:pg-289"
     ]
    },
    {
     "cell_type": "code",
     "collapsed": false,
     "input": [
      "import math\n",
      "#to calculate current should be sent through the solenoid\n",
      "l=.10 #length in m\n",
      "N=50 #number of turns\n",
      "H=5*10**3 #magnetising field in A/m\n",
      "i=H*l/N \n",
      "print \"current is i=\",i,\"A\"\n"
     ],
     "language": "python",
     "metadata": {},
     "outputs": [
      {
       "output_type": "stream",
       "stream": "stdout",
       "text": [
        "current is i= 10.0 A\n"
       ]
      }
     ],
     "prompt_number": 2
    },
    {
     "cell_type": "heading",
     "level": 2,
     "metadata": {},
     "source": [
      "Ex10.3:pg-289"
     ]
    },
    {
     "cell_type": "code",
     "collapsed": false,
     "input": [
      "import math\n",
      "#to calculate magnetic moment of the rod\n",
      "#formula is B=muo*(H+I)\n",
      "#where H=ni\n",
      "n=500.0 #number of turns in turns/m\n",
      "i=0.5 #current passed through the solenoid in A\n",
      "mur=1200.0 #relative permeability\n",
      "I=(mur-1)*n*i #intensity of magnetisation in A/m\n",
      "V=10**-3 #volume in m**3\n",
      "M=I*V\n",
      "print \"the magnetic moment of the rod is M=\",round(M),\"A-m**2\"\n"
     ],
     "language": "python",
     "metadata": {},
     "outputs": [
      {
       "output_type": "stream",
       "stream": "stdout",
       "text": [
        "the magnetic moment of the rod is M= 300.0 A-m**2\n"
       ]
      }
     ],
     "prompt_number": 1
    },
    {
     "cell_type": "heading",
     "level": 2,
     "metadata": {},
     "source": [
      "Ex10.4:pg-290"
     ]
    },
    {
     "cell_type": "code",
     "collapsed": false,
     "input": [
      "import math\n",
      "#to calculate flux density,magnetic intensity,permeability of iron\n",
      "phi=2.0*10**-6 #flux in the ring in weber\n",
      "A=10**-4 #cross-sectional area in m**2\n",
      "B=phi/A \n",
      "print \"flux density is B=\",\"{:.2e}\".format(B),\"weber/m**2\"\n",
      "N=200.0 #number of turns\n",
      "i=0.30 #current flows in the windings in A\n",
      "l=0.2 #length in m\n",
      "H=N*i/l\n",
      "print \"magnetic intensity is H=\",H,\"A-turn/m\"\n",
      "mu=B/H\n",
      "print \"permeability is mu=\",round(mu,6),\"weber/A-m\"\n",
      "muo=4*math.pi*10**-7 \n",
      "mur=mu/muo\n",
      "print \"relative permeability is mur=\",round(mur,2),\"unitless\"\n",
      "\n",
      "#the answer for H in the book is wrong\n",
      "#the answer for mu in book is wrong due to wrong H\n",
      "#the answer in book for mur is wrong due to \n"
     ],
     "language": "python",
     "metadata": {},
     "outputs": [
      {
       "output_type": "stream",
       "stream": "stdout",
       "text": [
        "flux density is B= 2.00e-02 weber/m**2\n",
        "magnetic intensity is H= 300.0 A-turn/m\n",
        "permeability is mu= 6.7e-05 weber/A-m\n",
        "relative permeability is mur= 53.05 unitless\n"
       ]
      }
     ],
     "prompt_number": 3
    },
    {
     "cell_type": "heading",
     "level": 2,
     "metadata": {},
     "source": [
      "Ex10.5:pg-294"
     ]
    },
    {
     "cell_type": "code",
     "collapsed": false,
     "input": [
      "import math\n",
      "#to calculate number of ampere turns\n",
      "l=0.5 #length in m\n",
      "mu=6.5*10**-3 #permeability of iron in henry/m\n",
      "A=2*10**-4 #area of cross-section in m**-4\n",
      "R=l/(mu*A) #reluctance in A-turns/weber\n",
      "flux=4*10**-4 #in weber\n",
      "mmf=flux*R\n",
      "print \"the number of ampere turns is mmf=\",round(mmf,1),\"ampere-turns\"\n"
     ],
     "language": "python",
     "metadata": {},
     "outputs": [
      {
       "output_type": "stream",
       "stream": "stdout",
       "text": [
        "the number of ampere turns is mmf= 153.8 ampere-turns\n"
       ]
      }
     ],
     "prompt_number": 9
    },
    {
     "cell_type": "heading",
     "level": 2,
     "metadata": {},
     "source": [
      "Ex10.6:pg-294"
     ]
    },
    {
     "cell_type": "code",
     "collapsed": false,
     "input": [
      "import math\n",
      "#to calculate relative permeability of the medium\n",
      "phi=1.5*10**-3 #magnetic flux in weber\n",
      "l=math.pi*50*10**-2 #length in m\n",
      "A=10*10**-4 #area of cross-section\n",
      "N=1000 #number of turns\n",
      "i=5 #current in A\n",
      "muo=4*math.pi*10**-7\n",
      "#phi(magnetic flux)=m.m.f/reluctance\n",
      "#phi=N*i*muo*mur*A/l\n",
      "#we get,\n",
      "mur=phi*l/(N*i*A*muo)\n",
      "print \"relative permeability of the medium is mur=\",mur,\"unitless\"\n"
     ],
     "language": "python",
     "metadata": {},
     "outputs": [
      {
       "output_type": "stream",
       "stream": "stdout",
       "text": [
        "relative permeability of the medium is mur= 375.0 unitless\n"
       ]
      }
     ],
     "prompt_number": 9
    },
    {
     "cell_type": "heading",
     "level": 2,
     "metadata": {},
     "source": [
      "Ex10.7:pg-295"
     ]
    },
    {
     "cell_type": "code",
     "collapsed": false,
     "input": [
      "import math\n",
      "#to calculate magnetising current\n",
      "#formula is phi(magnetic flux)=m.m.f/reluctance\n",
      "#phi=N*i*mu*A/l--------eq(1)\n",
      "#phi=BA------------eq(2)\n",
      "B=0.20 #magnetic flux density in weber/m**2\n",
      "l=1 #average length of the circuit in m \n",
      "N=100 #number of turns\n",
      "mu=7.3*10**-3 #in h.m\n",
      "#from eq(1)and eq(2),we get\n",
      "i=B*l/(N*mu)\n",
      "print \"magnetising current is i=\",round(i,3),\"A\"\n"
     ],
     "language": "python",
     "metadata": {},
     "outputs": [
      {
       "output_type": "stream",
       "stream": "stdout",
       "text": [
        "magnetising current is i= 0.274 A\n"
       ]
      }
     ],
     "prompt_number": 10
    }
   ],
   "metadata": {}
  }
 ]
}