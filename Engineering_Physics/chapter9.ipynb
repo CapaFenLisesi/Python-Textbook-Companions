{
 "metadata": {
  "name": "",
  "signature": "sha256:5dfcc3b8a36b2e69e76da78cbe3cbbcd618d029b3ed8c322ee0560bc514169c3"
 },
 "nbformat": 3,
 "nbformat_minor": 0,
 "worksheets": [
  {
   "cells": [
    {
     "cell_type": "heading",
     "level": 1,
     "metadata": {},
     "source": [
      "Chapter9:DIELECTRIC PROPERTIESOF MATERIALS"
     ]
    },
    {
     "cell_type": "heading",
     "level": 2,
     "metadata": {},
     "source": [
      "Ex9.1:pg-269"
     ]
    },
    {
     "cell_type": "code",
     "collapsed": false,
     "input": [
      "import math\n",
      "#to calculate dielectric constant of the liquid\n",
      "#capacitance of the air filled dielectric Cair=Q/Vo-----------eq(1)\n",
      "#when dielectric is filled between the plates ,Cliquid=Q/V\n",
      "#then Cliquid=epsilonr*Q/Vo------eq(2)\n",
      "Vo=60\n",
      "                  #voltage in volts\n",
      "V=30\n",
      "#from eq(1) and eq(2),we get\n",
      "epsilon0=Vo/V\n",
      "print \"the dielectric constant of the liquid is epsilon0=\",epsilon0,\"unitless\"\n"
     ],
     "language": "python",
     "metadata": {},
     "outputs": [
      {
       "output_type": "stream",
       "stream": "stdout",
       "text": [
        "the dielectric constant of the liquid is epsilon0= 2 unitless\n"
       ]
      }
     ],
     "prompt_number": 1
    },
    {
     "cell_type": "heading",
     "level": 2,
     "metadata": {},
     "source": [
      "Ex9.2:pg-269"
     ]
    },
    {
     "cell_type": "code",
     "collapsed": false,
     "input": [
      "import math\n",
      "#to calculate charge on the capacitance\n",
      "epsilon0=8.854*10**-12 #permittivity\n",
      "epsilonr=6 #relative permittivity\n",
      "V=100 #voltage in volts\n",
      "d=1.5*10**-3 #distance in m\n",
      "A=4*10**-4#area in m**2\n",
      "Q=epsilon0*epsilonr*A*V/d\n",
      "print \"the charge on the capacitance is Q=\",\"{:.2e}\".format(Q),\"Coulomb\"\n"
     ],
     "language": "python",
     "metadata": {},
     "outputs": [
      {
       "output_type": "stream",
       "stream": "stdout",
       "text": [
        "the charge on the capacitance is Q= 1.42e-09 Coulomb\n"
       ]
      }
     ],
     "prompt_number": 1
    },
    {
     "cell_type": "heading",
     "level": 2,
     "metadata": {},
     "source": [
      "Ex9.3:pg-269"
     ]
    },
    {
     "cell_type": "code",
     "collapsed": false,
     "input": [
      "import math\n",
      "#to calculate voltage\n",
      "A=6.50*10**-4 #area in m**2\n",
      "Q=2*10**-10 #charge in C\n",
      "d=4*10**-3 #plate separation in m\n",
      "epsilon0=8.854*10**-12\n",
      "epsilonr=3.5 #dielectric constant\n",
      "V=Q*d/(epsilon0*epsilonr*A)\n",
      "print \"the resultant voltage across the capacitor is V=\",round(V,1),\"volt\"\n"
     ],
     "language": "python",
     "metadata": {},
     "outputs": [
      {
       "output_type": "stream",
       "stream": "stdout",
       "text": [
        "the resultant voltage across the capacitor is V= 39.7 volt\n"
       ]
      }
     ],
     "prompt_number": 2
    }
   ],
   "metadata": {}
  }
 ]
}