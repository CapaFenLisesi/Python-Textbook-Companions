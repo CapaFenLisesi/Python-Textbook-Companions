{
 "metadata": {
  "name": "",
  "signature": "sha256:63e794f26755ea447faa48915f48af2a1824429b5991c82dc73f1b261af07c7e"
 },
 "nbformat": 3,
 "nbformat_minor": 0,
 "worksheets": [
  {
   "cells": [
    {
     "cell_type": "heading",
     "level": 1,
     "metadata": {},
     "source": [
      "Chapter11:ULTRASONICS"
     ]
    },
    {
     "cell_type": "heading",
     "level": 2,
     "metadata": {},
     "source": [
      "Ex11.1:pg-303"
     ]
    },
    {
     "cell_type": "code",
     "collapsed": false,
     "input": [
      "import math\n",
      "#to calculate fundemental frequency\n",
      "Y=7.9*10**10 #Young modulus for quartz in Nm**-2\n",
      "rho=2.65*10**3 #density of quartz in kg/m**3\n",
      "#the velocity of longitudinal wave is given by\n",
      "v=math.sqrt(Y/rho)  #in m/s\n",
      "#for fundamental mode of vibration ,thickness is given by lamda/2\n",
      "lamda=2*0.001 #wavelength in m\n",
      "nu=v/lamda\n",
      "print \"the fundamental frequency is nu=\",round(nu,2),\"Hz\"\n",
      "#answer is given wrong in the book ,nu=2730 Hz\n"
     ],
     "language": "python",
     "metadata": {},
     "outputs": [
      {
       "output_type": "stream",
       "stream": "stdout",
       "text": [
        "the fundamental frequency is nu= 2729987.21 Hz\n"
       ]
      }
     ],
     "prompt_number": 2
    }
   ],
   "metadata": {}
  }
 ]
}