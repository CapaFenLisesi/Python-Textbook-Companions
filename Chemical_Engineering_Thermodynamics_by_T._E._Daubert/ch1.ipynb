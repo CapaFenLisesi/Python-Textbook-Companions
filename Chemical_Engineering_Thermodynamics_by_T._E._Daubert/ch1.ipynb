{
 "metadata": {
  "name": "",
  "signature": "sha256:de8d33c7b9d51e88746e761918ff52cb67c086883ba151d5269fcccdacab917b"
 },
 "nbformat": 3,
 "nbformat_minor": 0,
 "worksheets": [
  {
   "cells": [
    {
     "cell_type": "heading",
     "level": 1,
     "metadata": {},
     "source": [
      "Chapter 1 : Purpose, Usefulness, And Definitions of Thermodynamics"
     ]
    },
    {
     "cell_type": "heading",
     "level": 2,
     "metadata": {},
     "source": [
      "Example 1.1 page : 3"
     ]
    },
    {
     "cell_type": "code",
     "collapsed": false,
     "input": [
      "\t\t\t\n",
      "# Variables\n",
      "P = 2050. \t\t\t#kPa\n",
      "T = 700. \t\t\t#K\n",
      "E = 10.\t    \t\t#J\n",
      "\t\t\t\n",
      "# Calculations\n",
      "Pe = P*10**3 *0.3048**2 /4.4482 /144\n",
      "Te = T*1.8-460\n",
      "Ee = E*10**8 /(1055.1)\n",
      "\t\t\t\n",
      "# Results\n",
      "print \"Temperature  =  %d F\"%(Te)\n",
      "print \" Pressure  =  %d lbf/in**2 \"%(Pe)\n",
      "print \" Energy  =  %.2e Btu\"%(Ee)\n"
     ],
     "language": "python",
     "metadata": {},
     "outputs": [
      {
       "output_type": "stream",
       "stream": "stdout",
       "text": [
        "Temperature  =  800 F\n",
        " Pressure  =  297 lbf/in**2 \n",
        " Energy  =  9.48e+05 Btu\n"
       ]
      }
     ],
     "prompt_number": 1
    }
   ],
   "metadata": {}
  }
 ]
}