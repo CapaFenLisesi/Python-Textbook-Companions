{
 "metadata": {
  "name": "",
  "signature": "sha256:ef87408e4a8aa5645fed756dcb555fc2d4a33d3c6244d485bc79468e75ba8f65"
 },
 "nbformat": 3,
 "nbformat_minor": 0,
 "worksheets": [
  {
   "cells": [
    {
     "cell_type": "heading",
     "level": 1,
     "metadata": {},
     "source": [
      "Chapter 3 : Conservation of energy - First law of Thermodynamics"
     ]
    },
    {
     "cell_type": "heading",
     "level": 2,
     "metadata": {},
     "source": [
      "Example 3.1 page : 47"
     ]
    },
    {
     "cell_type": "code",
     "collapsed": false,
     "input": [
      "\t\t\t\n",
      "# Variables\n",
      "mass = 4000. \t\t\t#kg/m**2\n",
      "Patm = 1.013*10**5 \t\t\t#pa\n",
      "g = 9.807\n",
      "M = 28.\n",
      "R = 8.3143*10**3\n",
      "T = 303. \t\t\t#K\n",
      "P1 = 800.*10**3 \t\t\t#pa\n",
      "\t\t\t\n",
      "# Calculations\n",
      "Ps = Patm+mass*g\n",
      "n = 1/M\n",
      "V1 = n*R*T/P1\n",
      "W = Ps*(2*V1)\n",
      "\t\t\t\n",
      "# Results\n",
      "print \"Work done on the surroundings  =  %d J\"%(W)\n"
     ],
     "language": "python",
     "metadata": {},
     "outputs": [
      {
       "output_type": "stream",
       "stream": "stdout",
       "text": [
        "Work done on the surroundings  =  31609 J\n"
       ]
      }
     ],
     "prompt_number": 1
    },
    {
     "cell_type": "heading",
     "level": 2,
     "metadata": {},
     "source": [
      "Example 3.2a page : 51"
     ]
    },
    {
     "cell_type": "code",
     "collapsed": false,
     "input": [
      "\t\t\t\n",
      "# Variables\n",
      "t1 = 1000. \t\t\t#K\n",
      "p1 = 20. \t\t\t#Mpa\n",
      "p2 = 10. \t\t\t#Mpa\n",
      "ti = 600. \t\t\t#K\n",
      "t2 = 700. \t\t\t#K\n",
      "v1 = 0.02188\n",
      "vi = 0.02008\n",
      "v2 = 0.02825\n",
      "Ei = 2617.5\n",
      "E2 = 2893.1\n",
      "E1 = 3441.8\n",
      "x = 0.22\n",
      "m = 1. \t\t\t#kg\n",
      "cp = 4.186\n",
      "t3 = 639. \t\t\t#K\n",
      "H3 = 2409.5\n",
      "H1 = 3879.3\n",
      "\t\t\t\n",
      "# Calculations\n",
      "Tf =  ti+ (v1-vi)/(v2-vi) *(t2-ti)\n",
      "Ef =  Ei+ x*(E2-Ei)\n",
      "Q1 = Ef-E1\n",
      "\t\t\t\n",
      "# Results\n",
      "print (\"part a\")\n",
      "print \"Heat transfer  =  %.1f kJ/kg\"%(Q1)\n"
     ],
     "language": "python",
     "metadata": {},
     "outputs": [
      {
       "output_type": "stream",
       "stream": "stdout",
       "text": [
        "part a\n",
        "Heat transfer  =  -763.7 kJ/kg\n"
       ]
      }
     ],
     "prompt_number": 2
    },
    {
     "cell_type": "heading",
     "level": 2,
     "metadata": {},
     "source": [
      "Example 3.2b page : 52"
     ]
    },
    {
     "cell_type": "code",
     "collapsed": false,
     "input": [
      "\t\t\t\n",
      "# Variables\n",
      "t1 = 1000. \t\t\t#K\n",
      "p1 = 20. \t\t\t#Mpa\n",
      "p2 = 10. \t\t\t#Mpa\n",
      "ti = 600. \t\t\t#K\n",
      "t2 = 700. \t\t\t#K\n",
      "v1 = 0.02188\n",
      "vi = 0.02008\n",
      "v2 = 0.02825\n",
      "Ei = 2617.5\n",
      "E2 = 2893.1\n",
      "E1 = 3441.8\n",
      "x = 0.22\n",
      "m = 1. \t\t\t#kg\n",
      "cp = 4.186\n",
      "t3 = 639. \t\t\t#K\n",
      "H3 = 2409.5\n",
      "H1 = 3879.3\n",
      "\t\t\t\n",
      "# Calculations\n",
      "Tf =  ti+ (v1-vi)/(v2-vi) *(t2-ti)\n",
      "Hf = H3 - m*cp*(t3-Tf)\n",
      "Q2 = Hf-H1\n",
      "\t\t\t\n",
      "# Results\n",
      "print (\"part b\")\n",
      "print \"Heat transfer  =  %.f kJ/kg\"%(Q2)\n"
     ],
     "language": "python",
     "metadata": {},
     "outputs": [
      {
       "output_type": "stream",
       "stream": "stdout",
       "text": [
        "part b\n",
        "Heat transfer  =  -1541 kJ/kg\n"
       ]
      }
     ],
     "prompt_number": 4
    },
    {
     "cell_type": "heading",
     "level": 2,
     "metadata": {},
     "source": [
      "Example 3.3 page : 63"
     ]
    },
    {
     "cell_type": "code",
     "collapsed": false,
     "input": [
      "import math \n",
      "\t\t\t\n",
      "# Variables\n",
      "p1 = 2.181\n",
      "p2 = 2.637\n",
      "p3 = 3.163\n",
      "vg1 = 0.09150\n",
      "vg2 = 0.07585\n",
      "vg3 = 0.06323\n",
      "vl1 = 0.00118\n",
      "vl2 = 0.00120\n",
      "vl3 = 0.00122\n",
      "M = 18.\n",
      "t1 = 490. \t\t\t#K\n",
      "t2 = 500. \t\t\t#K\n",
      "t3 = 510. \t\t\t#K\n",
      "R = 8.3143\n",
      "\t\t\t\n",
      "# Calculations\n",
      "lam1 =  (p2-p1)*10**3 *M*(vg2-vl2) *2.154/ math.log(t3/t1)\n",
      "lam2  =  math.log(p3/p1) *R/(1/t1 -1/t3)\n",
      "err = (lam2-lam1)/lam1\n",
      "\t\t\t\n",
      "# Results\n",
      "print \"latent heat umath.sing calyperon equation  =  %d kJ/kmol\"%(lam1)\n",
      "print \" latent heat umath.sing the clasius calyperon equation  =  %d kJ/kmol\"%(lam2)\n",
      "print \" Error  =  %d percent\"%(err*100)\n"
     ],
     "language": "python",
     "metadata": {},
     "outputs": [
      {
       "output_type": "stream",
       "stream": "stdout",
       "text": [
        "latent heat umath.sing calyperon equation  =  32990 kJ/kmol\n",
        " latent heat umath.sing the clasius calyperon equation  =  38618 kJ/kmol\n",
        " Error  =  17 percent\n"
       ]
      }
     ],
     "prompt_number": 5
    },
    {
     "cell_type": "heading",
     "level": 2,
     "metadata": {},
     "source": [
      "Example 3.4 page : 66"
     ]
    },
    {
     "cell_type": "code",
     "collapsed": false,
     "input": [
      "\t\t\t\n",
      "# Variables\n",
      "h1 = 147360 \n",
      "h2 = 29790\n",
      "\t\t\t\n",
      "# Calculations\n",
      "Hr = h1-h2\n",
      "\t\t\t\n",
      "# Results\n",
      "print \"heat of reaction  =  %d kJ/kmol\"%(Hr)\n"
     ],
     "language": "python",
     "metadata": {},
     "outputs": [
      {
       "output_type": "stream",
       "stream": "stdout",
       "text": [
        "heat of reaction  =  117570 kJ/kmol\n"
       ]
      }
     ],
     "prompt_number": 6
    },
    {
     "cell_type": "heading",
     "level": 2,
     "metadata": {},
     "source": [
      "Example 3.5 page : 73"
     ]
    },
    {
     "cell_type": "code",
     "collapsed": false,
     "input": [
      "\t\t\t\n",
      "# Variables\n",
      "R = 8314.3\n",
      "T = 700. \t\t\t#K\n",
      "T2 = 437.5 \t\t\t#K\n",
      "T3 = 350. \t\t\t#K\n",
      "T4 = T3\n",
      "p2 = 0.552 \t\t\t#Mpa\n",
      "p1 = 2.758 \t\t\t#Mpa\n",
      "cp = 29.3\n",
      "R0 = 8.3\n",
      "k = 1.4\n",
      "\t\t\t\n",
      "# Calculations\n",
      "cv = cp-R0\n",
      "Q1 = -R*T*math.log(p2/p1)\n",
      "Q2 = cv*(T2-T)\n",
      "dH2 =  cp*(T2-T)\n",
      "p3 = p2*T3/T2\n",
      "p3 = 0.345\n",
      "Q3 = cp*(T3-T2)\n",
      "dE3 = cv*(T3-T2)\n",
      "W3 = Q3-dE3\n",
      "T5 = T4*(p1/p3)**((k-1)/k)\n",
      "dH4 =  cp*(T5-T4)\n",
      "W4 = -cv*(T5-T4)\n",
      "Q5 =  cp*(T-T5)\n",
      "dE5 = cv*(T-T5)\n",
      "W5 = Q5-dE5\n",
      "\t\t\t\n",
      "# Results\n",
      "print (\"part a isothermal\")\n",
      "print \"dH  =  0, dE = 0,  Q =  W  =  %.f kJ/kmol\"%(Q1/10**3)\n",
      "print (\"part 2 isometric\")\n",
      "print \"dH  =  %d kJ/kmol, W = 0,  Q =  dE  =  %.f kJ/kmol\"%(dH2,Q2)\n",
      "print (\"part 3 isobaric\")\n",
      "print \"dE  =  %.f kJ/kmol, W =  %d kJ/kmol,  Q =  dH  =  %.f kJ/kmol\"%(dE3,W3,Q3)\n",
      "print (\"part 4 adiabatic\")\n",
      "print \"dH  =  %d kJ/kmol, W =  -dE  =  %d kJ/kmol,  Q =  0 kJ/kmol\"%(dH4,W4)\n",
      "print (\"part 5 isobaric\")\n",
      "print \"dE  =  %d kJ/kmol, W =  %d kJ/kmol,  Q =  dH  =  %d kJ/kmol\"%(dE5,W5,Q5)\n",
      "print (\"The graph cannot be plotted since volume axis values are not known. In the textbook it is randomly drawn to be of that shape.\")\n",
      "\n",
      "# rounding off error."
     ],
     "language": "python",
     "metadata": {},
     "outputs": [
      {
       "output_type": "stream",
       "stream": "stdout",
       "text": [
        "part a isothermal\n",
        "dH  =  0, dE = 0,  Q =  W  =  9363 kJ/kmol\n",
        "part 2 isometric\n",
        "dH  =  -7691 kJ/kmol, W = 0,  Q =  dE  =  -5512 kJ/kmol\n",
        "part 3 isobaric\n",
        "dE  =  -1838 kJ/kmol, W =  -726 kJ/kmol,  Q =  dH  =  -2564 kJ/kmol\n",
        "part 4 adiabatic\n",
        "dH  =  8317 kJ/kmol, W =  -dE  =  -5961 kJ/kmol,  Q =  0 kJ/kmol\n",
        "part 5 isobaric\n",
        "dE  =  1388 kJ/kmol, W =  548 kJ/kmol,  Q =  dH  =  1937 kJ/kmol\n",
        "The graph cannot be plotted since volume axis values are not known. In the textbook it is randomly drawn to be of that shape.\n"
       ]
      }
     ],
     "prompt_number": 12
    },
    {
     "cell_type": "heading",
     "level": 2,
     "metadata": {},
     "source": [
      "Example 3.6 page : 76"
     ]
    },
    {
     "cell_type": "code",
     "collapsed": false,
     "input": [
      "%matplotlib inline\n",
      "from matplotlib.pylab import xlabel,ylabel,plot\n",
      "import math \n",
      "\t\t\t\n",
      "# Variables\n",
      "p = [2.75, 0.5, 0.31, 0.31, 2.75]\n",
      "v = [116.17, 654.8, 654.8, 597, 110.65]\n",
      "t = [440, 440, 170, 140, 410]\n",
      "h = [3325, 3356, 2802.6, 2738.5, 3257.7]\n",
      "e = [3005.6, 3028.6, 2602.6, 2553.6, 2953.4]\n",
      "\t\t\t\n",
      "# Calculations\n",
      "dh1 = h[1] - h[0]\n",
      "de1 = e[1] - e[0]\n",
      "q2 = e[2] - e[1]\n",
      "dh2 = h[2] - h[1]\n",
      "dh3 = h[3] - h[2]\n",
      "de3 = e[3] - e[2]\n",
      "W3 =  p[2] *(v[3] - v[2])\n",
      "Q3 =  de3+W3\n",
      "dh4 = h[4]  -h[3]\n",
      "de4 = e[4] -e[3]\n",
      "dh5 = h[0] - h[4]\n",
      "de5 =  e[0] - e[4]\n",
      "W5 =  p[4] *(v[0] - v[4])\n",
      "q5  =  de5+W5\n",
      "\t\t\t\n",
      "# Results\n",
      "print \"In case 1 , dH  =  %.1f kJ/kg dE  =  %.1f kJ/kg W =  pDv kJ/kg Q =  %.1f + W kJ/kg\"%(dh1,de1,de1)\n",
      "print \" In case 2, W  = 0 kJ/kg Q  =  dE  =  %d kJ/kg dH  =  %.1f kJ/kg\"%(q2,dh2)\n",
      "print \" In case 3, dH =  %.1f kJ/kg dE  =  %.1f kJ/kg W =  %.1f kJ/kg Q  =  %.1f kJ/kg\"%(dh3,de3,W3,Q3)\n",
      "print \" In case 4, Q =  0 kJ/kg dH  =  %.1f kJ/kg dE  =  -W  =  %.1f kJ/kg\"%(dh4,de4)\n",
      "print \" In case 5, dH  =  %.1f kJ/kg dE  =  %.1f kJ/kg W  =  %.1f kJ/kg Q  =  %.1f kJ/kg\"%(dh5,de5,W5,q5)\n",
      "xlabel(\"Volume (m**3/kg)\")\n",
      "ylabel(\"Pressure (Mpa)\")\n",
      "plot(v,p)\n"
     ],
     "language": "python",
     "metadata": {},
     "outputs": [
      {
       "output_type": "stream",
       "stream": "stdout",
       "text": [
        "In case 1 , dH  =  31.0 kJ/kg dE  =  23.0 kJ/kg W =  pDv kJ/kg Q =  23.0 + W kJ/kg\n",
        " In case 2, W  = 0 kJ/kg Q  =  dE  =  -426 kJ/kg dH  =  -553.4 kJ/kg\n",
        " In case 3, dH =  -64.1 kJ/kg dE  =  -49.0 kJ/kg W =  -17.9 kJ/kg Q  =  -66.9 kJ/kg\n",
        " In case 4, Q =  0 kJ/kg dH  =  519.2 kJ/kg dE  =  -W  =  399.8 kJ/kg\n",
        " In case 5, dH  =  67.3 kJ/kg dE  =  52.2 kJ/kg W  =  15.2 kJ/kg Q  =  67.4 kJ/kg\n"
       ]
      },
      {
       "metadata": {},
       "output_type": "pyout",
       "prompt_number": 2,
       "text": [
        "[<matplotlib.lines.Line2D at 0x10a39acd0>]"
       ]
      },
      {
       "metadata": {},
       "output_type": "display_data",
       "png": "[encoded data removed]",
       "text": [
        "<matplotlib.figure.Figure at 0x108041690>"
       ]
      }
     ],
     "prompt_number": 2
    },
    {
     "cell_type": "heading",
     "level": 2,
     "metadata": {},
     "source": [
      "Example 3.7 page : 80"
     ]
    },
    {
     "cell_type": "code",
     "collapsed": false,
     "input": [
      "import math \n",
      "\t\t\t\n",
      "# Variables\n",
      "P = 0.1*10**6 \t\t\t#Pa\n",
      "P2 = 0.55*10**6 \t\t\t#Pa\n",
      "M = 28.84\n",
      "R = 8314.4\n",
      "T1 = 303.1 \t\t\t#K\n",
      "T2 = 316.1 \t\t\t#K\n",
      "d1 = 0.154 \t\t\t#m\n",
      "d2 = 0.028 \t\t\t#m\n",
      "mass = 0.25 \t\t\t#m**3/s\n",
      "Q = 2.764*10**8 \t\t\t#J/h\n",
      "cp = 29.3*10**3 \n",
      "\t\t\t\n",
      "# Calculations\n",
      "rho1 =  P*M/(T1*R)\n",
      "u1 = mass/(math.pi/4 *d1**2)\n",
      "rho2 =  P2*M/(R*T2)\n",
      "u2 = u1*d1**2 *rho1/(d2**2 *rho2)\n",
      "Wsd =  (u2**2 - u1**2 )/2 + cp/M *(T2-T1) + Q/(mass*rho1*3600)\n",
      "mdot =  u1*math.pi/4 *d1**2 *rho1\n",
      "Ws = Wsd*mdot/745.7\n",
      "\t\t\t\n",
      "# Results\n",
      "print \"Power input to the compressor  =  %d hp\"%(Ws)\n"
     ],
     "language": "python",
     "metadata": {},
     "outputs": [
      {
       "output_type": "stream",
       "stream": "stdout",
       "text": [
        "Power input to the compressor  =  109 hp\n"
       ]
      }
     ],
     "prompt_number": 14
    },
    {
     "cell_type": "heading",
     "level": 2,
     "metadata": {},
     "source": [
      "Example 3.8 page : 81"
     ]
    },
    {
     "cell_type": "code",
     "collapsed": false,
     "input": [
      "import math \n",
      "\t\t\t\n",
      "# Variables\n",
      "u1 = 1.1 \t\t\t#m/s\n",
      "rho1 = 1.21*10**3 \t\t\t#kg/m**3\n",
      "d1 = 0.078\n",
      "z1 = 4\n",
      "h2 = 18 \t\t\t#m\n",
      "g = 9.806\n",
      "\t\t\t\n",
      "# Calculations\n",
      "mdot =  u1*rho1*math.pi/4 *d1**2\n",
      "Wsd =  z1+h2\n",
      "Ws = Wsd*mdot*g\n",
      "dP =  Ws*rho1/mdot\n",
      "\t\t\t\n",
      "# Results\n",
      "print \"Power input  =  %d W\"%(Ws)\n",
      "print \"Pressure drop  =  %.3f Mpa\"%(dP/10**6)\n"
     ],
     "language": "python",
     "metadata": {},
     "outputs": [
      {
       "output_type": "stream",
       "stream": "stdout",
       "text": [
        "Power input  =  1372 W\n",
        "Pressure drop  =  0.261 Mpa\n"
       ]
      }
     ],
     "prompt_number": 15
    },
    {
     "cell_type": "heading",
     "level": 2,
     "metadata": {},
     "source": [
      "Example 3.9 page : 87"
     ]
    },
    {
     "cell_type": "code",
     "collapsed": false,
     "input": [
      "import math \n",
      "\t\t\t\n",
      "# Variables\n",
      "eff = 0.75\n",
      "Hf = [-110600, -241980, -393770, 0]\n",
      "Hc = [30.35, 36, 45.64, 29.30]\n",
      "T2 = 540. \t    \t\t#C\n",
      "T1 = 25. \t\t    \t#C\n",
      "mass = 500. \t\t\t#kmol H2 produced\n",
      "\t\t\t\n",
      "# Calculations\n",
      "dHr =  Hf[2] + Hf[3] - Hf[0] -Hf[1]\n",
      "dHpr =  (eff*(Hc[2] +Hc[3]) + (1-eff)*(Hc[1]+Hc[0]))*(T2-T1)\n",
      "q =  dHr*eff +dHpr\n",
      "heat  =  q*mass/eff\n",
      "\t\t\t\n",
      "# Results\n",
      "print \"Heat produced  =  %.3e kJ\"%(heat)\n"
     ],
     "language": "python",
     "metadata": {},
     "outputs": [
      {
       "output_type": "stream",
       "stream": "stdout",
       "text": [
        "Heat produced  =  4.397e+06 kJ\n"
       ]
      }
     ],
     "prompt_number": 16
    },
    {
     "cell_type": "heading",
     "level": 2,
     "metadata": {},
     "source": [
      "Example 3.10 page : 87"
     ]
    },
    {
     "cell_type": "code",
     "collapsed": false,
     "input": [
      "import math \n",
      "\t\t\t\n",
      "# Variables\n",
      "eff = 0.75\n",
      "Hf = [-110600, -241980, -393770, 0]\n",
      "Hc = [30.35, 36 ,45.64, 29.30]\n",
      "T2 = 540. \t\t\t#C\n",
      "T1 = 25. \t\t\t#C\n",
      "mass = 500. \t\t\t#kmol H2 produced\n",
      "work = 10.**6 \t\t\t#kJ\n",
      "\t\t\t\n",
      "# Calculations\n",
      "dHr =  Hf[2] + Hf[3] - Hf[0] -Hf[1]\n",
      "dHpr =  (eff*(Hc[2] +Hc[3]) + (1-eff)*(Hc[1]+Hc[0]))*(T2-T1)\n",
      "q =  dHr*eff +dHpr\n",
      "heat  =  q*mass/eff\n",
      "qe = heat-work\n",
      "\t\t\t\n",
      "# Results\n",
      "print \"Heat produced  =  %.3e kJ\"%(qe)\n"
     ],
     "language": "python",
     "metadata": {},
     "outputs": [
      {
       "output_type": "stream",
       "stream": "stdout",
       "text": [
        "Heat produced  =  3.397e+06 kJ\n"
       ]
      }
     ],
     "prompt_number": 17
    },
    {
     "cell_type": "heading",
     "level": 2,
     "metadata": {},
     "source": [
      "Example 3.11 page : 89"
     ]
    },
    {
     "cell_type": "code",
     "collapsed": false,
     "input": [
      "from numpy import array\n",
      "\t\t\t\n",
      "# Variables\n",
      "so3 = 6.\n",
      "h2 = -296840. \t\t\t#kJ/kmol\n",
      "h3 = -395720. \t\t\t#kJ/kmol\n",
      "t2 = 400. \t\t\t#C\n",
      "t1 = 25. \t\t\t#C\n",
      "\t\t\t\n",
      "# Calculations\n",
      "Hr = so3*(h3-h2)\n",
      "cp = array([1.059, 0.967, 0.714])\n",
      "n = array([82.76, 11 ,8])\n",
      "M = array([28, 32, 64])\n",
      "Ht =  sum(cp*n*M)\n",
      "Hre = Ht*(t2-t1)\n",
      "Hpr = Hre-Hr\n",
      "Tf = t1 + Hpr/3261.6\n",
      "\t\t\t\n",
      "# Results\n",
      "print \"temperature of exit gases  =  %d C\"%(Tf)\n"
     ],
     "language": "python",
     "metadata": {},
     "outputs": [
      {
       "output_type": "stream",
       "stream": "stdout",
       "text": [
        "temperature of exit gases  =  570 C\n"
       ]
      }
     ],
     "prompt_number": 3
    },
    {
     "cell_type": "heading",
     "level": 2,
     "metadata": {},
     "source": [
      "Example 3.12 page: 91"
     ]
    },
    {
     "cell_type": "code",
     "collapsed": false,
     "input": [
      "from numpy import array\n",
      "\t\t\t\n",
      "# Variables\n",
      "x = 0.25\n",
      "Hr = 1.4278*10**6 \t\t\t#kJ/kmol\n",
      "ti = 25.         \t\t\t#C\n",
      "cp = array([1.24, 2.39, 1.11])\n",
      "M = array([44 ,18, 32])\n",
      "z = array([12, 3, 0.5])\n",
      "r = 4.186\n",
      "\t\t\t\n",
      "# Calculations\n",
      "v = cp*M*z\n",
      "v2 = sum(v)\n",
      "T = ti+ Hr/(v2)\n",
      "\t\t\t\n",
      "# Results\n",
      "print \"Theoretical temperature  =  %d C\"%(T)\n"
     ],
     "language": "python",
     "metadata": {},
     "outputs": [
      {
       "output_type": "stream",
       "stream": "stdout",
       "text": [
        "Theoretical temperature  =  1806 C\n"
       ]
      }
     ],
     "prompt_number": 4
    }
   ],
   "metadata": {}
  }
 ]
}