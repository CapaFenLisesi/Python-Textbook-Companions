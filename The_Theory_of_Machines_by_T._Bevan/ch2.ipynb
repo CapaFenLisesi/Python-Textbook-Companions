{
 "metadata": {
  "name": ""
 },
 "nbformat": 3,
 "nbformat_minor": 0,
 "worksheets": [
  {
   "cells": [
    {
     "cell_type": "heading",
     "level": 1,
     "metadata": {},
     "source": [
      "Chapter 2: Motion Inertia"
     ]
    },
    {
     "cell_type": "heading",
     "level": 1,
     "metadata": {},
     "source": [
      "Example 1, Page 28"
     ]
    },
    {
     "cell_type": "code",
     "collapsed": false,
     "input": [
      "#Variable declaration\n",
      "#a) INELASTIC\n",
      "#for sphere 1 ,mass=m1 and initial velocity=u1 \n",
      "#for sphere 2 ,mass=m2 and initial velocity=u2\n",
      "m1=100.#lb\n",
      "u1=10.#ft/s\n",
      "m2=50.#lb\n",
      "u2=5.#ft/s\n",
      "\n",
      "#Calculations\n",
      "v=(m1*u1+m2*u2)/(m1+m2)\n",
      "#change in kinetic energy\n",
      "#initial kinetic energy = ke1\n",
      "ke1=(m1*(u1**2)+m2*(u2**2))/(2*32.2)\n",
      "#Kinetic Energy after inelastic colision = ke2\n",
      "ke2=((m1+m2)*8.333**2)/(2*32.2)\n",
      "#Change in Kinetic Energy =l\n",
      "l=ke1-ke2\n",
      "#b) Elastic\n",
      "# for a very short time bodies will have a common velocity given by v=8.333 ft/s\n",
      "# for a very short time bodies will have a common velocity given by v=8.333 ft/s\n",
      "#immidiately after impact ends the velocities for both the bodies are given by v1 and v2\n",
      "v1=2*v-u1\n",
      "v2=2*v-u2\n",
      "#c) Coeeficient of Restitution=0.6\n",
      "e=0.6\n",
      "ve1=(1+e)*v-e*u1\n",
      "ve2=(1+e)*v-e*u2\n",
      "ke3=(m1*(ve1**2)+m2*(ve2**2))/(2*32.2)\n",
      "loss=ke1-ke3\n",
      "\n",
      "#Results\n",
      "print \"kinetic energy before collisio0n is %.1f ft lb\"%ke1\n",
      "print \"\\na) INELASTIC\"\n",
      "print \"velocity after collision is %.3f ft/s\"%v\n",
      "print \"the Kinetic Energy after collision is %.1f ft lb\"%ke2\n",
      "print \"the change in Kinetic Energy after collision is %.1f ft lb\"%l\n",
      "print \"\\nb) ELASTIC\"\n",
      "print \"velocity of 1 after collision is %.3f ft/s\"%v1\n",
      "print \"velocity of 2 after collision is %.3f ft/s\"%v2\n",
      "print \"there is no loss of kinetic energy in case of elastic collision\"\n",
      "print \"\\nc) e=0.6\"\n",
      "print \"velocity of 1 after collision is %.3f ft/s\"%ve1\n",
      "print \"velocity of 2 after collision is %.3f ft/s\"%ve2\n",
      "print \"the Kinetic Energy after collision is %.1f ft lb\"%ke3\n",
      "print \"the change in Kinetic Energy after collision is %.2f ft lb\"%loss"
     ],
     "language": "python",
     "metadata": {},
     "outputs": [
      {
       "output_type": "stream",
       "stream": "stdout",
       "text": [
        "kinetic energy before collisio0n is 174.7 ft lb\n",
        "\n",
        "a) INELASTIC\n",
        "velocity after collision is 8.333 ft/s\n",
        "the Kinetic Energy after collision is 161.7 ft lb\n",
        "the change in Kinetic Energy after collision is 13.0 ft lb\n",
        "\n",
        "b) ELASTIC\n",
        "velocity of 1 after collision is 6.667 ft/s\n",
        "velocity of 2 after collision is 11.667 ft/s\n",
        "there is no loss of kinetic energy in case of elastic collision\n",
        "\n",
        "c) e=0.6\n",
        "velocity of 1 after collision is 7.333 ft/s\n",
        "velocity of 2 after collision is 10.333 ft/s\n",
        "the Kinetic Energy after collision is 166.4 ft lb\n",
        "the change in Kinetic Energy after collision is 8.28 ft lb\n"
       ]
      }
     ],
     "prompt_number": 25
    },
    {
     "cell_type": "heading",
     "level": 2,
     "metadata": {},
     "source": [
      "Example 2, Page 29"
     ]
    },
    {
     "cell_type": "code",
     "collapsed": false,
     "input": [
      "#Variable declaration\n",
      "m1=15.#tons\n",
      "u1=12.#m/h\n",
      "m2=5.#tons\n",
      "u2=8.#m/h\n",
      "k=2.#ton/in\n",
      "e1=0.5#coefficient of restitution\n",
      "\n",
      "#Calculations&Results\n",
      "#conservation of linear momentum\n",
      "v=(m1*u1+m2*u2)/(m1+m2)\n",
      "print \"velocity at the instant of  collision is %.2f mph\"%v\n",
      "e=(m1*m2*(88./60)**2*(u1-u2)**2)/(2*32.2*(u1+u2))\n",
      "print \"The difference between the kinetic energy before and during the impact is %.2f ft tons\"%e\n",
      "#energy stored in spring equals energy dissipated\n",
      "#s=(1/2)*k*x**2\n",
      "#s=e\n",
      "#since there are 4 buffer springs ,4x**2=24 inches (2 ft=24 inches)\n",
      "x=((e*12)/4)**.5\n",
      "print \"Maximum deflection of the spring is %.2f in\"%x\n",
      "# maximum force acting between pair of buffer = stiffness of spring*deflection\n",
      "f=k*x\n",
      "print \"Maximum force acting between each buffer is %.2f tons\"%f\n",
      "#assuming perfectly elastic collision\n",
      "#for loaded truck \n",
      "v1=2*11-12\n",
      "#for unloaded truck \n",
      "v2=2*11-8\n",
      "print \"Speed of loaded truck after impact %.2f mph\"%v1\n",
      "print \"speed of unloaded truck after impact %.2f mph\"%v2\n",
      "#if coefficient of restitution =o.5\n",
      "#for loaded truck \n",
      "ve1=(1+.5)*11-.5*12\n",
      "#for unloaded truck \n",
      "ve2=(1+.5)*11-.5*8\n",
      "print \"Speed of loaded truck after impact when e=0.5 %.2f mph\"%ve1\n",
      "print \"Speed of unloaded truck after impact when e=0.5 %.2f mph\"%ve2\n",
      "#net loss of kinetic energy=(1-e**2)*energy stored in spring\n",
      "l=(1-(e1**2))*2#ft tons\n",
      "print \"Net loss of kinetic energy is %.2f ft tons\"%l"
     ],
     "language": "python",
     "metadata": {},
     "outputs": [
      {
       "output_type": "stream",
       "stream": "stdout",
       "text": [
        "velocity at the instant of  collision is 11.00 mph\n",
        "The difference between the kinetic energy before and during the impact is 2.00 ft tons\n",
        "Maximum deflection of the spring is 2.45 in\n",
        "Maximum force acting between each buffer is 4.90 tons\n",
        "Speed of loaded truck after impact 10.00 mph\n",
        "speed of unloaded truck after impact 14.00 mph\n",
        "Speed of loaded truck after impact when e=0.5 10.50 mph\n",
        "Speed of unloaded truck after impact when e=0.5 12.50 mph\n",
        "Net loss of kinetic energy is 1.50 ft tons\n"
       ]
      }
     ],
     "prompt_number": 3
    },
    {
     "cell_type": "heading",
     "level": 2,
     "metadata": {},
     "source": [
      "Example 3, Page 31"
     ]
    },
    {
     "cell_type": "code",
     "collapsed": false,
     "input": [
      "import math\n",
      "\n",
      "#Variable declaration\n",
      "m1=500.#lb ft^2\n",
      "m2=1500.#lb ft^2\n",
      "k=150#lb ft^2\n",
      "w1=150#rpm\n",
      "\n",
      "#Calculations&Results\n",
      "N=(w1*m1)/(m1+m2)\n",
      "print \"Angular velocity at the instant when speeds of the flywheels are equalised is given by %.f r.p.m\"%N\n",
      "#kinetic energy at this instance \n",
      "ke1=(1./2)*((m1+m2)/32.2)*((math.pi*N)/30)**2\n",
      "print \"The kinetic energy of the system at this instance is %.2f ft lb\"%ke1\n",
      "\n",
      "#initial kinetic energy\n",
      "ke0=(1./2)*((m1)/32.2)*((math.pi*w1)/30)**2\n",
      "print \"The initial kinetic energy of the system is %.2f ft lb\"%ke0\n",
      "\n",
      "#strain energy = s\n",
      "s=ke0-ke1\n",
      "print \"strain energy stored in the spring is %.2f ft lb which is approximately 1435 ft lb\"%s\n",
      "\n",
      "x=((1435*2)/150)**.5\n",
      "print \"Maximum angular displacement is %.2f in radians which is equal to 250 degrees\"%x\n",
      "#na1 and na are initial and final speeds of the flywheel 1 and same nb1 and nb for flywheel 2 \n",
      "na=2*N-w1#w1=na1\n",
      "nb=2*N-0#nb1=0\n",
      "print \"Speed of flywheel a and b when spring regains its unstrained position are %.2f rpm and %.2f rpm respectively\"%(na,nb)"
     ],
     "language": "python",
     "metadata": {},
     "outputs": [
      {
       "output_type": "stream",
       "stream": "stdout",
       "text": [
        "Angular velocity at the instant when speeds of the flywheels are equalised is given by 38 r.p.m\n",
        "The kinetic energy of the system at this instance is 478.92 ft lb\n",
        "The initial kinetic energy of the system is 1915.68 ft lb\n",
        "strain energy stored in the spring is 1436.76 ft lb which is approximately 1435 ft lb\n",
        "Maximum angular displacement is 4.36 in radians which is equal to 250 degrees\n",
        "Speed of flywheel a and b when spring regains its unstrained position are -75.00 rpm and 75.00 rpm respectively\n"
       ]
      }
     ],
     "prompt_number": 4
    },
    {
     "cell_type": "heading",
     "level": 2,
     "metadata": {},
     "source": [
      "Example 4, Page 36"
     ]
    },
    {
     "cell_type": "code",
     "collapsed": false,
     "input": [
      "import math\n",
      "\n",
      "#Variable declaration\n",
      "m1=150 #lb\n",
      "l=3#ft\n",
      "#number of oscillation per second is given by n\n",
      "\n",
      "#Calculations&Results\n",
      "n=(50/92.5)\n",
      "print \"number of oscillation per second = %.3f\"%n\n",
      "#length of simple pendulum is given by L=g/(2*math.pi*n)**2\n",
      "L=32.2/(2*math.pi*n)**2\n",
      "print \"length of simple pendulum = %.2f ft\"%L\n",
      "# distance of cg from point of suspension is given by a\n",
      "a=25./12\n",
      "k=(a*(L-a))**.5#radius of gyration\n",
      "moi=m1*k**2\n",
      "print \"The moment of inertia of rod is %.f lb ft**2\"%moi"
     ],
     "language": "python",
     "metadata": {},
     "outputs": [
      {
       "output_type": "stream",
       "stream": "stdout",
       "text": [
        "number of oscillation per second = 0.541\n",
        "length of simple pendulum = 2.79 ft\n",
        "The moment of inertia of rod is 221 lb ft**2\n"
       ]
      }
     ],
     "prompt_number": 6
    },
    {
     "cell_type": "heading",
     "level": 2,
     "metadata": {},
     "source": [
      "Example 5, Page 37"
     ]
    },
    {
     "cell_type": "code",
     "collapsed": false,
     "input": [
      "import math\n",
      "\n",
      "#Variable declaration\n",
      "n1=50/84.4\n",
      "n2=50/80.3\n",
      "\n",
      "#Calculations\n",
      "L1=(32.2*12)*(84.4/(100*math.pi))**2\n",
      "L2=(32.2*12)*(80.3/(100*math.pi))**2\n",
      "#a1(L1-a1)=k**2=a2(L2-a2) and a1+a2=30 inches\n",
      "#substituting and solving for a we get \n",
      "a1=141/6.8\n",
      "a2=30-a1\n",
      "k=(a1*(L1-a1))**.5\n",
      "moi=90*(149./144)#moi=m*k**2\n",
      "\n",
      "#Results\n",
      "print \"length of equivalent simple pendulum when axis coincides with small end and big end respectively-\"\n",
      "print \"L1=%.1f in\"%L1\n",
      "print \"L2=%.1f in\"%L2\n",
      "print \"distances of cg from small end and big end centers respectively are-\"\n",
      "print \"a1=%.1f in\"%a1\n",
      "print \"a2=%.1f in\"%a2\n",
      "print \"Moment of inertia of rod =%.2f lb ft^2\"%moi"
     ],
     "language": "python",
     "metadata": {},
     "outputs": [
      {
       "output_type": "stream",
       "stream": "stdout",
       "text": [
        "length of equivalent simple pendulum when axis coincides with small end and big end respectively-\n",
        "L1=27.9 in\n",
        "L2=25.2 in\n",
        "distances of cg from small end and big end centers respectively are-\n",
        "a1=20.7 in\n",
        "a2=9.3 in\n",
        "Moment of inertia of rod =93.13 lb ft^2\n"
       ]
      }
     ],
     "prompt_number": 7
    },
    {
     "cell_type": "heading",
     "level": 2,
     "metadata": {},
     "source": [
      "Example 6, Page 39"
     ]
    },
    {
     "cell_type": "code",
     "collapsed": false,
     "input": [
      "import math\n",
      "\n",
      "#Variable declaration\n",
      "m1=150\n",
      "l=8.5\n",
      "g=32.2\n",
      "a=83.2\n",
      "n=25\n",
      "\n",
      "#Calculations&Results\n",
      "#k=(a/2*%pi*n)*(g/l)**0.5\n",
      "k=(14*a*((g)**0.5))/(2*math.pi*n*(l**0.5))\n",
      "k1=14.5/12\n",
      "print \"radius of gyration is %.2f inches which is equal to %.2f ft\"%(k,k1)\n",
      "moi=m1*(k1**2)\n",
      "print \"moment of inertia=%.f lb ft^2\"%moi"
     ],
     "language": "python",
     "metadata": {},
     "outputs": [
      {
       "output_type": "stream",
       "stream": "stdout",
       "text": [
        "radius of gyration is 14.43 inches which is equal to 1.21 ft\n",
        "moment of inertia=219 lb ft^2\n"
       ]
      }
     ],
     "prompt_number": 8
    },
    {
     "cell_type": "heading",
     "level": 2,
     "metadata": {},
     "source": [
      "Example 7, Page 41"
     ]
    },
    {
     "cell_type": "code",
     "collapsed": false,
     "input": [
      "#Variable declaration\n",
      "m=2.5#lb\n",
      "a=6#in\n",
      "k=3.8#in\n",
      "l=9#in\n",
      "c=3#in\n",
      "w=22500\n",
      "\n",
      "#Calculations&Results\n",
      "#k^2=ab\n",
      "#case a) to find equivalent dynamic system\n",
      "b=(k**2)/a\n",
      "ma=(2.5*6)/8.42#m*a/a+b\n",
      "mb=m-ma\n",
      "print \"Mass ma =%.2f lb will be situated at 6 inches from cg \\nand mb =%.2f lb will be situated at %.2f inches \" \\\n",
      "      \"\\nfrom cg in the equivalent dynamical system\"%(ma,mb,b)\n",
      "\n",
      "#if two masses are situated at the bearing centres \n",
      "ma1=(2.5*6)/9\n",
      "mb1=m-ma1\n",
      "k1=(a*c)**.5\n",
      "#t=m*((k1^2)-(k^2))*w\n",
      "t=((2.5*(18-3.8**2))*22500)/(32.2*12*12)\n",
      "print \"\\ncorrection couple which must be applied in order that the two mass system is dynamically equivalent to\"\\\n",
      "      \"the rod is given by %.1f lb ft\"%t\n"
     ],
     "language": "python",
     "metadata": {},
     "outputs": [
      {
       "output_type": "stream",
       "stream": "stdout",
       "text": [
        "Mass ma =1.78 lb will be situated at 6 inches from cg \n",
        "and mb =0.72 lb will be situated at 2.41 inches \n",
        "from cg in the equivalent dynamical system\n",
        "\n",
        "correction couple which must be applied in order that the two mass system is dynamically equivalent tothe rod is given by 43.2 lb ft\n"
       ]
      }
     ],
     "prompt_number": 16
    },
    {
     "cell_type": "heading",
     "level": 2,
     "metadata": {},
     "source": [
      "Example 8, Page 44"
     ]
    },
    {
     "cell_type": "code",
     "collapsed": false,
     "input": [
      "#Variable declaration\n",
      "m=20.#lb\n",
      "g=32.2\n",
      "a=200#ft/s^2\n",
      "w=120#rad/s^2\n",
      "k=7.#in\n",
      "\n",
      "#Calculations\n",
      "f=(m/g)*a#effective force appllied to the link\n",
      "#this force acts parallel to the acceleration fg\n",
      "t=(m/g)*(k/12)**2*w#couple required in order to provide the angular acceleration\n",
      "#the line of action of F is therefore at a distance from G given by\n",
      "x=t/f\n",
      "\n",
      "#Results\n",
      "print \"Effective force applied to the link is %.3f lb and the line of action of F is therefore at a distance\"\\\n",
      "      \"from G given by %.3f ft\"%(f,x)\n",
      "print \"F is the resultant of Fa and Fb, using x as shown in figure.25 , the force F may then be resolved along\" \\\n",
      "      \"the appropriate lines of action to give the magnitudes of Fa and Fb\"\n",
      "print \"From the scaled diagram shown in figure we get,Fa=65 lb and Fb=91 lb\""
     ],
     "language": "python",
     "metadata": {},
     "outputs": [
      {
       "output_type": "stream",
       "stream": "stdout",
       "text": [
        "Effective force applied to the link is 124.224 lb and the line of action of F is therefore at a distancefrom G given by 0.204 ft\n",
        "F is the resultant of Fa and Fb, using x as shown in figure.25 , the force F may then be resolved alongthe appropriate lines of action to give the magnitudes of Fa and Fb\n",
        "From the scaled diagram shown in figure we get,Fa=65 lb and Fb=91 lb\n"
       ]
      }
     ],
     "prompt_number": 19
    },
    {
     "cell_type": "heading",
     "level": 2,
     "metadata": {},
     "source": [
      "Example 9, Page 46"
     ]
    },
    {
     "cell_type": "code",
     "collapsed": false,
     "input": [
      "#Variable declaration\n",
      "m=10#ton\n",
      "m2=1000#lb\n",
      "a=3#ft/s^2\n",
      "\n",
      "#Calculations\n",
      "#the addition to actual mass in order to allow for the rotational inertia of the wheels and axles\n",
      "m1=2*(1000./2240)*(15./21)**2#m1=m2*k**2/r**2 and 1 ton=2240 lbs\n",
      "M=m+m1\n",
      "F=3*(10.46/32.2)#F=M.a\n",
      "f=F*2240#lb\n",
      "Fa=(2*1000./2240)*(3/32.2)*(15./21)**2#total tangential force required in order to provide the angular acceleration of the wheels and axles\n",
      "#Limiting friction force =uW \n",
      "#u*10>0.042\n",
      "u=0.042/10\n",
      "\n",
      "#Results\n",
      "print \"The total tangential force required in order to provide the angular acceleration of the wheels and axles is %.3f ton\"%Fa\n",
      "print \"If there is to be pure rolling ,u>%.4f\"%u\n"
     ],
     "language": "python",
     "metadata": {},
     "outputs": [
      {
       "output_type": "stream",
       "stream": "stdout",
       "text": [
        "The total tangential force required in order to provide the angular acceleration of the wheels and axles is 0.042 ton\n",
        "If there is to be pure rolling ,u>0.0042\n"
       ]
      }
     ],
     "prompt_number": 20
    },
    {
     "cell_type": "heading",
     "level": 2,
     "metadata": {},
     "source": [
      "Example 10, Page 48"
     ]
    },
    {
     "cell_type": "code",
     "collapsed": false,
     "input": [
      "#Variable declaration\n",
      "Ia=200#lb ft2\n",
      "Ib=15#lb ft2\n",
      "G=5#wb==5*wa\n",
      "m=150.#lb\n",
      "r=8#in\n",
      "\n",
      "#Calculations\n",
      "#the equivalent mass of the geared system referred to the circumference of the drum is given by\n",
      "#Me=(1./r)**2*(Ia+(G**2*Ib))\n",
      "Me=(12./r)**2*(Ia+(G**2*Ib))\n",
      "M=m+Me\n",
      "a=(m/M)*32.2#acceleration\n",
      "#if efficiency of gearing is 90% then Me=(1/r**2)*(Ia+(G**2*Ib)/n)\n",
      "n=.9\n",
      "Me1=(12./r)**2*(Ia+(G**2*Ib)/n)\n",
      "M1=Me1+m\n",
      "a1=(m/M1)*32.2\n",
      "\n",
      "#Results\n",
      "print \"acceleration = %.2f ft/s2\"%a\n",
      "print \"acceleration when gear efficiency is 0.9= %.2f ft/s2\"%a1"
     ],
     "language": "python",
     "metadata": {},
     "outputs": [
      {
       "output_type": "stream",
       "stream": "stdout",
       "text": [
        "acceleration = 3.35 ft/s2\n",
        "acceleration when gear efficiency is 0.9= 3.14 ft/s2\n"
       ]
      }
     ],
     "prompt_number": 21
    },
    {
     "cell_type": "heading",
     "level": 2,
     "metadata": {},
     "source": [
      "Example 11, Page 49"
     ]
    },
    {
     "cell_type": "code",
     "collapsed": false,
     "input": [
      "#Variable declaration\n",
      "#let\n",
      "#S=displacement of car from rest with uniform acceleration a, the engine torque T assumed to remain ocnstant\n",
      "#v=final speed ofcar\n",
      "#G=gear ratio\n",
      "#r=effective radius\n",
      "#n=efficiency of transmission\n",
      "#M=mass of the car\n",
      "#Ia and Ib=moments of inertia of road whels and engine \n",
      "#formulas => F=29.5nG ; Me= 1648+$.54nG^2 ; a=32.2 F/Me\n",
      "#given\n",
      "G1=22.5\n",
      "G2=12.5\n",
      "G3=7.3\n",
      "G4=5.4\n",
      "n=.82#for 1st ,2nd and 3rd gear\n",
      "n4=.9#for 4th gear\n",
      "\n",
      "#Calculations\n",
      "F1=29.5*n*G1\n",
      "F2=29.5*n*G2\n",
      "F3=29.5*n*G3\n",
      "F4=29.5*n4*G4\n",
      "#on reduction and putting values we get\n",
      "Me1=1648+4.54*n*G1**2\n",
      "Me2=1648+4.54*n*G2**2\n",
      "Me3=1648+4.54*n*G3**2\n",
      "Me4=1648+4.54*n4*G4**2\n",
      "a1=32.2*F1/Me1\n",
      "a2=32.2*F2/Me2\n",
      "a3=32.2*F3/Me3\n",
      "a4=32.2*F4/Me4\n",
      "\n",
      "#Results\n",
      "print \"Maximum acceleration of car on top gear is %.2f ft/s^2\"%a4\n",
      "print \"Maximum acceleration of car on third gear is %.2f ft/s^2\"%a3\n",
      "print \"Maximum acceleration of car on second gear is %.2f ft/s^2\"%a2\n",
      "print \"Maximum acceleration of car on first gear is %.2f ft/s^2\"%a1"
     ],
     "language": "python",
     "metadata": {},
     "outputs": [
      {
       "output_type": "stream",
       "stream": "stdout",
       "text": [
        "Maximum acceleration of car on top gear is 2.61 ft/s^2\n",
        "Maximum acceleration of car on third gear is 3.08 ft/s^2\n",
        "Maximum acceleration of car on second gear is 4.37 ft/s^2\n",
        "Maximum acceleration of car on first gear is 4.96 ft/s^2\n"
       ]
      }
     ],
     "prompt_number": 22
    },
    {
     "cell_type": "heading",
     "level": 2,
     "metadata": {},
     "source": [
      "Example 12, Page 57"
     ]
    },
    {
     "cell_type": "code",
     "collapsed": false,
     "input": [
      "import math\n",
      "\n",
      "#Variable declaration\n",
      "I=40#lb ft2\n",
      "n=500#rpm\n",
      "\n",
      "#Calculations\n",
      "w=math.pi*n/30#angular velocity\n",
      "wp=2*math.pi/5#angular velocity of precession\n",
      "I1=I/32.2\n",
      "T=I1*w*wp#gyroscopic couple\n",
      "\n",
      "#Result\n",
      "print \"The couple supplied to the shaft= %.2f lb ft\"%T"
     ],
     "language": "python",
     "metadata": {},
     "outputs": [
      {
       "output_type": "stream",
       "stream": "stdout",
       "text": [
        "The couple supplied to the shaft= 81.74 lb ft\n"
       ]
      }
     ],
     "prompt_number": 1
    },
    {
     "cell_type": "heading",
     "level": 2,
     "metadata": {},
     "source": [
      "Example 13, Page 57"
     ]
    },
    {
     "cell_type": "code",
     "collapsed": false,
     "input": [
      "import math\n",
      "\n",
      "#Variable declaration\n",
      "I=250#lb ft2\n",
      "n=1600#rpm\n",
      "v=150#mph\n",
      "r=500#ft\n",
      "\n",
      "#Calculations&Results\n",
      "w=math.pi*160/3#angular velocity of rotation\n",
      "wp=(150.*88)/(60*500)#angular velocity of precession\n",
      "#a) with three bladed screw\n",
      "#T=I*w*wp\n",
      "T=(250/32.2)*math.pi*(160./3)*wp\n",
      "#b)with two bladed air screw\n",
      "#T1=2*I*w*wp*sin(o)\n",
      "print \"The magnitude of gyroscopic couple is given by %.0f lb ft\"%T\n",
      "#Tix=T(1-cos(2o)) lb ft\n",
      "#T1y=Tsin(2o)) lb ft\n",
      "print \"The component gyroscopic couple in the vertical plane =%.0f(1-cos(2x)) lb ft\"%T\n",
      "print \"The component gyroscopic couple in the horizontal plane =%.0f(sin(2x)) lb ft\"%T"
     ],
     "language": "python",
     "metadata": {},
     "outputs": [
      {
       "output_type": "stream",
       "stream": "stdout",
       "text": [
        "The magnitude of gyroscopic couple is given by 572 lb ft\n",
        "The component gyroscopic couple in the vertical plane =572(1-cos(2x)) lb ft\n",
        "The component gyroscopic couple in the horizontal plane =572(sin(2x)) lb ft\n"
       ]
      }
     ],
     "prompt_number": 24
    }
   ],
   "metadata": {}
  }
 ]
}