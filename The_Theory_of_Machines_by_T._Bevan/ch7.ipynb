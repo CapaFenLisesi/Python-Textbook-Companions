{
 "metadata": {
  "name": ""
 },
 "nbformat": 3,
 "nbformat_minor": 0,
 "worksheets": [
  {
   "cells": [
    {
     "cell_type": "heading",
     "level": 1,
     "metadata": {},
     "source": [
      "Chapter 7: Belt, Rope and Chain Drive"
     ]
    },
    {
     "cell_type": "heading",
     "level": 2,
     "metadata": {},
     "source": [
      "Example 1, Page 228"
     ]
    },
    {
     "cell_type": "code",
     "collapsed": false,
     "input": [
      "import math\n",
      "\n",
      "#Variable declaration\n",
      "#given-belt is perfectly elastic and massless \n",
      "u=0.3\n",
      "v=3600#ft/min\n",
      "V=v/60#ft/sec\n",
      "theta=165#degrees\n",
      "\n",
      "#Calculations\n",
      "x=theta*math.pi/180\n",
      "k=math.e**(u*x)#k=T1/T2=e^(u*x)\n",
      "To=500#lb\n",
      "T1=2*k*To/(k+1)\n",
      "T2=T1/k\n",
      "T=T1-T2#effective tension\n",
      "H=T*V/550#horsepower transmitted\n",
      "\n",
      "#Result\n",
      "print \"The horse-power transmitted = %.2f\"%H"
     ],
     "language": "python",
     "metadata": {},
     "outputs": [
      {
       "output_type": "stream",
       "stream": "stdout",
       "text": [
        "The horse-power transmitted = 44.40\n"
       ]
      }
     ],
     "prompt_number": 1
    },
    {
     "cell_type": "heading",
     "level": 2,
     "metadata": {},
     "source": [
      "Example 2, Page 234"
     ]
    },
    {
     "cell_type": "code",
     "collapsed": false,
     "input": [
      "import math\n",
      "\n",
      "#Variable declaration\n",
      "w=1.2#lb/ft^2\n",
      "u=0.3\n",
      "v=3600#ft/min\n",
      "V=v/60#ft/sec\n",
      "theta=165#degrees\n",
      "g=32.2#ft/s^2\n",
      "\n",
      "#Calculations\n",
      "x=theta*math.pi/180\n",
      "k=math.e**(u*x)#k=T1/T2=e^(u*x)\n",
      "To=500#lb\n",
      "#Solution a)Vertical drive\n",
      "Tc=w*V**2/g#equation 7.5\n",
      "#solution a)\n",
      "H=2*(k-1)*(To-Tc)*V/((k+1)*550)\n",
      "Vmax=(To*g/(3*w))**(1./2)\n",
      "Hmax=2*(k-1)*(To-Tc)*Vmax/((k+1)*550)\n",
      "#Solution b)\n",
      "To1=To+Tc\n",
      "#from equation 7.15 2/To1^2=1/Tt^2+1/Ts^2\n",
      "#T1/T2=k\n",
      "T2=367 #lb - from trail and error\n",
      "T1=k*T2\n",
      "Tt=T1+Tc\n",
      "Ts=T2+Tc\n",
      "HP=(T1-T2)*V/550\n",
      "\n",
      "#Results\n",
      "print \"Solution a)\\nHorsepower transmitted= %.1f\\nMaximum Horsepower transmitted= %.1f (at velocit = %.1f ft/s^2)\"\\\n",
      "      \"\\n\\nSolution b)\\nTt=%.f lb\\nTs=%.f lb\\nHorsepower transmitted= %.1f\"%(H,Hmax,Vmax,Tt,Ts,HP)\n"
     ],
     "language": "python",
     "metadata": {},
     "outputs": [
      {
       "output_type": "stream",
       "stream": "stdout",
       "text": [
        "Solution a)\n",
        "Horsepower transmitted= 32.5\n",
        "Maximum Horsepower transmitted= 36.2 (at velocit = 66.9 ft/s^2)\n",
        "\n",
        "Solution b)\n",
        "Tt=1005 lb\n",
        "Ts=501 lb\n",
        "Horsepower transmitted= 54.9\n"
       ]
      }
     ],
     "prompt_number": 3
    }
   ],
   "metadata": {}
  }
 ]
}