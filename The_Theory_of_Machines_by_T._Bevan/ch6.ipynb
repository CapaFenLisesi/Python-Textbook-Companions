{
 "metadata": {
  "name": ""
 },
 "nbformat": 3,
 "nbformat_minor": 0,
 "worksheets": [
  {
   "cells": [
    {
     "cell_type": "heading",
     "level": 1,
     "metadata": {},
     "source": [
      "Chapter 6: Friction"
     ]
    },
    {
     "cell_type": "heading",
     "level": 2,
     "metadata": {},
     "source": [
      "Example 1, Page 185"
     ]
    },
    {
     "cell_type": "code",
     "collapsed": false,
     "input": [
      "import math\n",
      "\n",
      "#Variable declaration\n",
      "theta=60.#degrees\n",
      "u1=0.15#between surfaces A annd B\n",
      "u2=0.10#for the guides\n",
      "\n",
      "#Calculations\n",
      "phi=math.degrees(math.atan(u1))\n",
      "phi1=math.degrees(math.atan(u2))\n",
      "alpha=(theta+phi+phi1)/2#from 6.22, maximum efficiency is obtained at alpha\n",
      "#from 6.23, maximum efficiency is given by nmax=(cos(theta+phi+phi1)+1)/(cos(theta-phi-phi1)+1)\n",
      "nmax=(math.cos((theta+phi+phi1)*math.pi/180)+1)/(math.cos((theta-phi-phi1)*math.pi/180)+1)\n",
      "\n",
      "#Results\n",
      "print \"Maximum efficiency = %.2f %% and it is obtained when alpha = %.2f degrees\"%((nmax*100),alpha)\n"
     ],
     "language": "python",
     "metadata": {},
     "outputs": [
      {
       "output_type": "stream",
       "stream": "stdout",
       "text": [
        "Maximum efficiency = 74.90 % and it is obtained when alpha = 37.12 degrees\n"
       ]
      }
     ],
     "prompt_number": 23
    },
    {
     "cell_type": "heading",
     "level": 2,
     "metadata": {},
     "source": [
      "Example 3, Page 193"
     ]
    },
    {
     "cell_type": "code",
     "collapsed": false,
     "input": [
      "import math\n",
      "\n",
      "#Variable declaration\n",
      "#from equation 6.36 we know, M=(2/3)*u*W*(ri^3-r2^3)/(r1^2-r2^2)\n",
      "u=0.04\n",
      "W=16#tons\n",
      "w=W*2240#lbs\n",
      "r1=8#in\n",
      "r2=6#in\n",
      "N=120\n",
      "P=50#lb/in^2\n",
      "\n",
      "#Calculations\n",
      "M=(2./3)*u*w*(r1**3-r2**3)/(r1**2-r2**2)\n",
      "hp=M*2*math.pi*N/(12*33000)#horse power absorbed\n",
      "#from fig 137,effective bearing surface per pad is calsulate from the dimensions to be 58.5 in^2\n",
      "A=58.5#in^2\n",
      "n=w/(A*P)\n",
      "x=math.floor(n)\n",
      "\n",
      "#Results\n",
      "print \"Horsepower absorbed = %.2f\\nNumber of collars required = %.f\"%(hp,x)"
     ],
     "language": "python",
     "metadata": {},
     "outputs": [
      {
       "output_type": "stream",
       "stream": "stdout",
       "text": [
        "Horsepower absorbed = 19.24\n",
        "Number of collars required = 12\n"
       ]
      }
     ],
     "prompt_number": 14
    },
    {
     "cell_type": "heading",
     "level": 2,
     "metadata": {},
     "source": [
      "Example 4, Page 195"
     ]
    },
    {
     "cell_type": "code",
     "collapsed": false,
     "input": [
      "import math\n",
      "\n",
      "#Variable declaration\n",
      "ratio=1.25\n",
      "u=.675\n",
      "P=12#hp\n",
      "\n",
      "#Calculations\n",
      "#W=P*%pi*(r1^2-r2^2); Total axal thrust.\n",
      "#M=u*W*(r1+r2); Total friction moemnt \n",
      "#reducing the two equations and using ratio=1.25(r1=1.25*r2) we get, M=u*21.2*r2^3\n",
      "ReqM=65#lb ft \n",
      "RM=ReqM*12#lb in\n",
      "r2=(RM/(u*P*math.pi*(1.25**2-1)))**(1./3)\n",
      "r1=1.25*r2\n",
      "d1=r1*2\n",
      "d2=r2*2\n",
      "\n",
      "#Results\n",
      "print \"The dimensions of the friction surfaces are:\\nOuter Diameter= %.1f in\\nInner Diameter= %.1f in\"%(d1,d2)"
     ],
     "language": "python",
     "metadata": {},
     "outputs": [
      {
       "output_type": "stream",
       "stream": "stdout",
       "text": [
        "The dimensions of the friction surfaces are:\n",
        "Outer Diameter= 9.5 in\n",
        "Inner Diameter= 7.6 in\n"
       ]
      }
     ],
     "prompt_number": 15
    },
    {
     "cell_type": "heading",
     "level": 2,
     "metadata": {},
     "source": [
      "Example 5, Page 196"
     ]
    },
    {
     "cell_type": "code",
     "collapsed": false,
     "input": [
      "import math\n",
      "\n",
      "#Variable declaration\n",
      "P=20#lb/in^2\n",
      "u=0.07#friction coefficient\n",
      "N=3600#rpm\n",
      "H=100#hp\n",
      "r1=5#in\n",
      "\n",
      "#Calculations\n",
      "r2=0.8*r1#given\n",
      "A=math.pi*(r1**2-r2**2)#the area of each friction surface\n",
      "W=A*P#total axial thrust on plates\n",
      "M=(1./2)*u*W*(r1+r2)#friction moment for each pair of contacts\n",
      "T=H*33000*12/(2*math.pi*N)#total torque to be transmitted\n",
      "x=(T/M)#effective friction surfaces required\n",
      "\n",
      "#Results\n",
      "print \"\\nNumber of effective friction surfaces required= %.f\"%x\n"
     ],
     "language": "python",
     "metadata": {},
     "outputs": [
      {
       "output_type": "stream",
       "stream": "stdout",
       "text": [
        "\n",
        "Number of effective friction surfaces required= 10\n"
       ]
      }
     ],
     "prompt_number": 16
    },
    {
     "cell_type": "heading",
     "level": 2,
     "metadata": {},
     "source": [
      "Example 7, Page 198"
     ]
    },
    {
     "cell_type": "code",
     "collapsed": false,
     "input": [
      "import math\n",
      "\n",
      "#Variable declaration\n",
      "P=6 #tons\n",
      "u=0.05\n",
      "theta=60#degrees\n",
      "CP=80\n",
      "Stroke=16#in\n",
      "OC=Stroke/2\n",
      "r1=7#in\n",
      "r2=15#in\n",
      "r3=4.4#in\n",
      "\n",
      "#Calculations\n",
      "#Radius of friction circle\n",
      "ro=u*r1\n",
      "rc=u*r2\n",
      "rp=u*r3\n",
      "phi=math.degrees(math.asin(OC*math.sin(theta*math.pi/180)/CP))\n",
      "alpha=math.degrees(math.asin((rc+rp)/CP))\n",
      "#a) without friction\n",
      "Qa=P/math.cos((phi)*math.pi/180)\n",
      "Xa=OC*math.cos((30-phi)*math.pi/180)#tensile force transmitted along the eccentric rod when friction is NOT taken into account\n",
      "Ma=Qa*Xa/12\n",
      "#b) with friction\n",
      "Qb=P/math.cos((phi-alpha)*math.pi/180)#tensile force transmitted along the eccentric rod when friction is taken into account\n",
      "Xb=OC*math.cos((30-(phi-alpha))*math.pi/180)-(rc+ro)\n",
      "Mb=Qb*Xb/12\n",
      "n=Mb/Ma\n",
      "\n",
      "#Results\n",
      "print \"Turning moment applied to OC:\\na)Without friction= %.2f ton.ft\\nb)With friction(u=0.05)= %.2f ton.ft\"%(Ma,Mb)\n",
      "print \"\\nThe efficiency of the mechanism is %.2f %%\"%(n*100)"
     ],
     "language": "python",
     "metadata": {},
     "outputs": [
      {
       "output_type": "stream",
       "stream": "stdout",
       "text": [
        "Turning moment applied to OC:\n",
        "a)Without friction= 3.64 ton.ft\n",
        "b)With friction(u=0.05)= 3.06 ton.ft\n",
        "\n",
        "The efficiency of the mechanism is 84.17 %\n"
       ]
      }
     ],
     "prompt_number": 21
    },
    {
     "cell_type": "heading",
     "level": 2,
     "metadata": {},
     "source": [
      "Example 8, Page 201"
     ]
    },
    {
     "cell_type": "code",
     "collapsed": false,
     "input": [
      "import math\n",
      "import numpy as np\n",
      "\n",
      "#Variable declaration\n",
      "stroke=4#in\n",
      "d=11.5#in\n",
      "ds=4#in\n",
      "dp=14#in\n",
      "theta=math.pi\n",
      "u1=.25\n",
      "T1=350#lb\n",
      "u2=0.1\n",
      "\n",
      "#Calculations\n",
      "k=math.e**(u1*theta)\n",
      "T2=T1/k\n",
      "Tor=(T1-T2)*(dp/2)#total resisting torque\n",
      "#total resisting torque is also given by P*(r+2*(cos%pi/6))+u2*R*(ds/2)\n",
      "#equating and putting values we get the following quadratic equation\n",
      "p = [1,-1163,334200]\n",
      "a=np.roots(p)\n",
      "\n",
      "#Results\n",
      "print \"P=\",a\n",
      "print \"The larger of two values is inadmissible. \\n It corresponds to a negative sign in front of the second\" \\\n",
      "      \"term on the \\n right hand side of equation (1)\""
     ],
     "language": "python",
     "metadata": {},
     "outputs": [
      {
       "output_type": "stream",
       "stream": "stdout",
       "text": [
        "P= [ 644.28733949  518.71266051]\n",
        "The larger of two values is inadmissible. \n",
        " It corresponds to a negative sign in front of the secondterm on the \n",
        " right hand side of equation (1)\n"
       ]
      }
     ],
     "prompt_number": 22
    }
   ],
   "metadata": {}
  }
 ]
}