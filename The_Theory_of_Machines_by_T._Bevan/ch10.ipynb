{
 "metadata": {
  "name": ""
 },
 "nbformat": 3,
 "nbformat_minor": 0,
 "worksheets": [
  {
   "cells": [
    {
     "cell_type": "heading",
     "level": 1,
     "metadata": {},
     "source": [
      "Chapter 10: Toothed Gearing"
     ]
    },
    {
     "cell_type": "heading",
     "level": 2,
     "metadata": {},
     "source": [
      "Example 1, Page 320"
     ]
    },
    {
     "cell_type": "code",
     "collapsed": false,
     "input": [
      "import math\n",
      "\n",
      "#Variable declaration\n",
      "Teeth=48\n",
      "pitch=.75 #in\n",
      "\n",
      "#Calculations\n",
      "D=Teeth*pitch/math.pi\n",
      "\n",
      "#Result\n",
      "print \"The pitch diameter is %.3f in\"%D"
     ],
     "language": "python",
     "metadata": {},
     "outputs": [
      {
       "output_type": "stream",
       "stream": "stdout",
       "text": [
        "The pitch diameter is 11.459 in\n"
       ]
      }
     ],
     "prompt_number": 1
    },
    {
     "cell_type": "heading",
     "level": 2,
     "metadata": {},
     "source": [
      "Example 2, Page 320"
     ]
    },
    {
     "cell_type": "code",
     "collapsed": false,
     "input": [
      "import math\n",
      "\n",
      "#Variable declaration\n",
      "T=48#teeth\n",
      "pd=4#diametral pitch\n",
      "\n",
      "#Calculations\n",
      "D=T/pd#pitch diameter\n",
      "p=math.pi/pd#the circular pitch\n",
      "\n",
      "#Results\n",
      "print \"The pitch diameter = %.f in\\nThe circular pitch = %.4f in\"%(D,p)"
     ],
     "language": "python",
     "metadata": {},
     "outputs": [
      {
       "output_type": "stream",
       "stream": "stdout",
       "text": [
        "The pitch diameter = 12 in\n",
        "The circular pitch = 0.7854 in\n"
       ]
      }
     ],
     "prompt_number": 2
    },
    {
     "cell_type": "heading",
     "level": 2,
     "metadata": {},
     "source": [
      "Example 3, Page 321"
     ]
    },
    {
     "cell_type": "code",
     "collapsed": false,
     "input": [
      "import math\n",
      "\n",
      "#Variable declaration\n",
      "T=48\n",
      "m=6#mm ; module\n",
      "\n",
      "#Calculations\n",
      "D=m*T\n",
      "p=math.pi*m\n",
      "dia=D/10#cm\n",
      "P=p*0.0393700787#inches\n",
      "\n",
      "#Results\n",
      "print \"Pitch diameter = %.1f cm\\nCircular pitch = %.4f in\"%(dia,P)"
     ],
     "language": "python",
     "metadata": {},
     "outputs": [
      {
       "output_type": "stream",
       "stream": "stdout",
       "text": [
        "Pitch diameter = 28.0 cm\n",
        "Circular pitch = 0.7421 in\n"
       ]
      }
     ],
     "prompt_number": 3
    },
    {
     "cell_type": "heading",
     "level": 2,
     "metadata": {},
     "source": [
      "Example 4, Page 334"
     ]
    },
    {
     "cell_type": "code",
     "collapsed": false,
     "input": [
      "import math\n",
      "\n",
      "#Variable declaration\n",
      "phi=20*math.pi/180\n",
      "\n",
      "#Calculations\n",
      "#Solution a)\n",
      "ar=1\n",
      "t1=2*ar/math.sin(phi)**2#from equation 10.7\n",
      "T1=math.ceil(t1)\n",
      "#Solution b)\n",
      "aw=1.\n",
      "t2=2*aw/((1+3*math.sin(phi)**2)**(1./2)-1)#from euation 10.6\n",
      "T2=math.ceil(t2)\n",
      "#solution c)\n",
      "t=1.\n",
      "T=3.\n",
      "A=(t/T)*(t/T+2)\n",
      "t3=2*aw*(t/T)/((1+A*math.sin(phi)**2)**(1./2)-1)#from 10.5\n",
      "T3=math.ceil(t3)\n",
      "\n",
      "#Results\n",
      "print \"Smallest number of teeth theoretically required in order to avoid interference on a pinion which is to gear with\"\\\n",
      "      \"\\na) A rack , t= %.f\\nb) An equal pinion , t=  %.f\\nc) A wheel to give a ratio of 3 to 1 , t= %.f\"%(T1,T2,T3)"
     ],
     "language": "python",
     "metadata": {},
     "outputs": [
      {
       "output_type": "stream",
       "stream": "stdout",
       "text": [
        "Smallest number of teeth theoretically required in order to avoid interference on a pinion which is to gear with\n",
        "a) A rack , t= 18\n",
        "b) An equal pinion , t=  13\n",
        "c) A wheel to give a ratio of 3 to 1 , t= 15\n"
       ]
      }
     ],
     "prompt_number": 5
    },
    {
     "cell_type": "heading",
     "level": 2,
     "metadata": {},
     "source": [
      "Example 5, Page 338"
     ]
    },
    {
     "cell_type": "code",
     "collapsed": false,
     "input": [
      "import math\n",
      "\n",
      "#Variable declaration\n",
      "t=25\n",
      "phi=20*math.pi/180\n",
      "\n",
      "#Calculations\n",
      "#let pitch be 1 \n",
      "R=t/(2*math.pi)#R=t*p/(2*math.pi)\n",
      "Larc=1.6#1.6*p\n",
      "#AB=Larc*math.cos(phi)\n",
      "AB=Larc*math.cos(phi)\n",
      "Ra=(4.47+13.97)**(1./2)#by simplifying AB+2{(Ra^2-R^2*cos(phi)^2)-R*sin(phi)} and using p =1\n",
      "Addendum=Ra-R\n",
      "#writing p in place of p=1\n",
      "\n",
      "#Result\n",
      "print \"Addendum required = %.2fp\"%Addendum"
     ],
     "language": "python",
     "metadata": {},
     "outputs": [
      {
       "output_type": "stream",
       "stream": "stdout",
       "text": [
        "Addendum required = 0.32p\n"
       ]
      }
     ],
     "prompt_number": 6
    },
    {
     "cell_type": "heading",
     "level": 2,
     "metadata": {},
     "source": [
      "Example 6, Page 338"
     ]
    },
    {
     "cell_type": "code",
     "collapsed": false,
     "input": [
      "import math\n",
      "\n",
      "#Variable declaration\n",
      "#let module be 1\n",
      "m=1\n",
      "t1=28\n",
      "t2=45\n",
      "\n",
      "#Calculations\n",
      "r=t1*m/2\n",
      "R=t2*m/2\n",
      "ra=r+m\n",
      "Ra=R+m\n",
      "phi1=14.5*math.pi/180\n",
      "#10.8 => AB =(ra^2-r^2*cos(phi)^2)^(1/2)+(Ra^2-R^2*cos(phi)^2)^(1/2)-(r+R)*sin(phi)\n",
      "#AB=A+B-C\n",
      "A=m*(ra**2-r**2*math.cos(phi1)**2)**(1./2)\n",
      "B=m*(Ra**2-R**2*math.cos(phi1)**2)**(1./2)\n",
      "C=m*(r+R)*math.sin(phi1)\n",
      "AB=A+B-C\n",
      "p=math.pi*m\n",
      "ABp=AB/math.pi\n",
      "arc1=ABp/math.cos(phi1)#length of arc of contact\n",
      "phi2=20*math.pi/180\n",
      "#10.8 => AB =(ra^2-r^2*cos(phi)^2)^(1/2)+(Ra^2-R^2*cos(phi)^2)^(1/2)-(r+R)*sin(phi)\n",
      "a=m*(ra**2-r**2*math.cos(phi2)**2)**(1./2)\n",
      "b=m*(Ra**2-R**2*math.cos(phi2)**2)**(1./2)\n",
      "c=m*(r+R)*math.sin(phi2)\n",
      "ab=a+b-c\n",
      "abp=ab/math.pi\n",
      "arc2=abp/math.cos(phi2)#length of arc of contact\n",
      "\n",
      "#Results\n",
      "print \"Length of path of contact\\nWhen phi = 14.5 degrees = %.3fm\\nWhen phi = 20 degrees = %.2fm\"\\\n",
      "      \"\\n\\nLength of arc of contact\\nWhen phi = 14.5 degrees = %.2fp\\nWhen phi = 20 degrees = %.3fp\"%(AB,ab,arc1,arc2)"
     ],
     "language": "python",
     "metadata": {},
     "outputs": [
      {
       "output_type": "stream",
       "stream": "stdout",
       "text": [
        "Length of path of contact\n",
        "When phi = 14.5 degrees = 6.092m\n",
        "When phi = 20 degrees = 4.97m\n",
        "\n",
        "Length of arc of contact\n",
        "When phi = 14.5 degrees = 2.00p\n",
        "When phi = 20 degrees = 1.685p\n"
       ]
      }
     ],
     "prompt_number": 7
    }
   ],
   "metadata": {}
  }
 ]
}