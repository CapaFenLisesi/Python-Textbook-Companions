{
 "metadata": {
  "name": ""
 },
 "nbformat": 3,
 "nbformat_minor": 0,
 "worksheets": [
  {
   "cells": [
    {
     "cell_type": "heading",
     "level": 1,
     "metadata": {},
     "source": [
      "Chapter 11: Gear Trains"
     ]
    },
    {
     "cell_type": "heading",
     "level": 2,
     "metadata": {},
     "source": [
      "Example 1, Page 369"
     ]
    },
    {
     "cell_type": "code",
     "collapsed": false,
     "input": [
      "#Variable declaration\n",
      "Ns=26#rpm of spindle\n",
      "N1=4#rpm of lead screw\n",
      "#the only wheel in the set of which 13 is a factor is that with 65 teeth\n",
      "T1=65\n",
      "T2=25#to satisfy the Ns/n1 ratio and to select from given set\n",
      "T3=75#to satisfy the Ns/n1 ratio and to select from given set\n",
      "\n",
      "#Calculations\n",
      "T4=T1*T3*N1/(Ns*T2)\n",
      "#solution b\n",
      "Ns1=35\n",
      "N1=4\n",
      "Tb1=105#to satisfy the Ns/n1 ratio and to select from given set\n",
      "Tb2=30#to satisfy the Ns/n1 ratio and to select from given set\n",
      "Tb3=100#to satisfy the Ns/n1 ratio and to select from given set\n",
      "Tb4=Tb1*Tb3*N1/(Ns1*Tb2)\n",
      "\n",
      "#Results\n",
      "print \"a)The change wheel used will have %.f, %.f, %.f and %.f teeths\\nb) The change wheel used will have %.f, %.f, %.f \"\\\n",
      "      \"and %.f teeths\"%(T1,T2,T3,T4,Tb1,Tb2,Tb3,Tb4)"
     ],
     "language": "python",
     "metadata": {},
     "outputs": [
      {
       "output_type": "stream",
       "stream": "stdout",
       "text": [
        "a)The change wheel used will have 65, 25, 75 and 30 teeths\n",
        "b) The change wheel used will have 105, 30, 100 and 40 teeths\n"
       ]
      }
     ],
     "prompt_number": 2
    },
    {
     "cell_type": "heading",
     "level": 2,
     "metadata": {},
     "source": [
      "Example 2, Page 371"
     ]
    },
    {
     "cell_type": "code",
     "collapsed": false,
     "input": [
      "import math\n",
      "\n",
      "#Variable declaration\n",
      "v=15#ft/min\n",
      "d=2#ft\n",
      "N=450#rpm\n",
      "\n",
      "#Calculations\n",
      "N1=d*v/(2*math.pi)#rpm of barrel\n",
      "s=N/N1#total reduction speed required\n",
      "#With a minimum number of teeth = 20\n",
      "T=20\n",
      "T1=T*(s)**(1./3)\n",
      "R=(T1/T)**3\n",
      "\n",
      "#Results\n",
      "print \"If the minimum number of teeth is fixed at 20, the might be as follow ( %.f / 20 )^3 = %.1f\"\\\n",
      "      \"\\nThis is sufficiently close to the required ratio\"%(T1,R)"
     ],
     "language": "python",
     "metadata": {},
     "outputs": [
      {
       "output_type": "stream",
       "stream": "stdout",
       "text": [
        "If the minimum number of teeth is fixed at 20, the might be as follow ( 91 / 20 )^3 = 94.2\n",
        "This is sufficiently close to the required ratio\n"
       ]
      }
     ],
     "prompt_number": 3
    },
    {
     "cell_type": "heading",
     "level": 2,
     "metadata": {},
     "source": [
      "Example 3, Page 374"
     ]
    },
    {
     "cell_type": "code",
     "collapsed": false,
     "input": [
      "import math\n",
      "\n",
      "#Variable declaration\n",
      "d=7.#in; central distance\n",
      "k1=2.*7*7#T1+t1/(2*7)=7\n",
      "k2=2.*7*5#T2+t2/(2*5)=7\n",
      "G=9./1\n",
      "\n",
      "#Calculations\n",
      "t1=(-(k1+k2)+((k1+k2)**2+4*(G-1)*(k1*k2))**(1/2))/(2*(G-1))\n",
      "a=math.ceil(t1)\n",
      "b=math.floor(t1)\n",
      "T1=k1-a\n",
      "T2=k2-a\n",
      "T3=k2-b\n",
      "G1=T1*T2/(a*a)\n",
      "G2=T1*T3/(a*b)\n",
      "dp=a/d\n",
      "#case b)\n",
      "tb1=23#let t1 = 23\n",
      "Tb1=k1-tb1\n",
      "Gb1=Tb1/tb1\n",
      "Gb2=G/Gb1\n",
      "tb2=k2/(Gb2+1)\n",
      "p=math.ceil(tb2)\n",
      "Tb2=k2-p\n",
      "l=Tb1-1\n",
      "m=tb1+1\n",
      "n=Tb2+1\n",
      "o=p-1\n",
      "Gb2=l*n/(m*o)\n",
      "\n",
      "#Results\n",
      "print \"a) No of teeth = %.f, %.f, %.f, %.f\\nG = %.2f\\n\\nb) No of teeth = %.f, %.f, %.f, %.f\\nG = %.2f\\n\\n\"%(T1,T2,a,b,G2,l,m,n,o,Gb2)"
     ],
     "language": "python",
     "metadata": {},
     "outputs": [
      {
       "output_type": "stream",
       "stream": "stdout",
       "text": [
        "a) No of teeth = 108, 80, -10, -11\n",
        "G = 79.53\n",
        "\n",
        "b) No of teeth = 74, 24, 52, 18\n",
        "G = 8.91\n",
        "\n",
        "\n"
       ]
      }
     ],
     "prompt_number": 6
    },
    {
     "cell_type": "heading",
     "level": 2,
     "metadata": {},
     "source": [
      "Example 5, Page 388"
     ]
    },
    {
     "cell_type": "code",
     "collapsed": false,
     "input": [
      "#Variable declaration\n",
      "Tb=27.\n",
      "Tc=30\n",
      "Td=24\n",
      "Te=21\n",
      "\n",
      "#Calculations\n",
      "k=Te*Tb/(Tc*Td)#k=Nd/Ne\n",
      "#by applying componendo and dividendo, using Ne=0 and reducing we get\n",
      "a=(1-k)#where a = Nd/Na\n",
      "b=1./a\n",
      "\n",
      "#Results\n",
      "print \"The ratio of the speed of driving shaft to the speed of driven shaft, Na/Nd = %.2f\"%b"
     ],
     "language": "python",
     "metadata": {},
     "outputs": [
      {
       "output_type": "stream",
       "stream": "stdout",
       "text": [
        "The ratio of the speed of driving shaft to the speed of driven shaft, Na/Nd = 4.71\n"
       ]
      }
     ],
     "prompt_number": 9
    },
    {
     "cell_type": "heading",
     "level": 2,
     "metadata": {},
     "source": [
      "Example 6, Page 391"
     ]
    },
    {
     "cell_type": "code",
     "collapsed": false,
     "input": [
      "#Variable declaration\n",
      "Tb=75.\n",
      "Tc=18\n",
      "Td=17\n",
      "Te=71\n",
      "N1=500#rpm\n",
      "\n",
      "#Calculations\n",
      "k=Tb*Td/(Tc*Te)#k=Ne/Nb\n",
      "#case a)\n",
      "#using componendo and dividendo , Nb=0 and reducing we get\n",
      "a=1-k#a=Ne/Na\n",
      "Na=N1\n",
      "Ne=Na*a\n",
      "#case b)\n",
      "Na1=500#given\n",
      "Nb1=100#given\n",
      "Ne1=k*(Nb1-Na1)+Na1\n",
      "\n",
      "#Results\n",
      "print \"case a) Ne= %.3f rpm\\ncase b) Ne= %.1f rpm\"%(Ne,Ne1)"
     ],
     "language": "python",
     "metadata": {},
     "outputs": [
      {
       "output_type": "stream",
       "stream": "stdout",
       "text": [
        "case a) Ne= 1.174 rpm\n",
        "case b) Ne= 100.9 rpm\n"
       ]
      }
     ],
     "prompt_number": 10
    },
    {
     "cell_type": "heading",
     "level": 2,
     "metadata": {},
     "source": [
      "Example 8, Page 398"
     ]
    },
    {
     "cell_type": "code",
     "collapsed": false,
     "input": [
      "import math\n",
      "\n",
      "#Variable declaration\n",
      "Td=23.\n",
      "Ta=19\n",
      "Tb=20\n",
      "Tc=22\n",
      "\n",
      "#Calculations\n",
      "k=Td*Ta/(Tb*Tc)\n",
      "#using componendo and dividendo, Nc=0 and reducing we get\n",
      "a=1./k-1#a=Nd/Ne\n",
      "b=1./a#- denotes opposite direction\n",
      "d=5280*12/(math.pi*5*b)\n",
      "p=math.ceil(d)\n",
      "\n",
      "#Results\n",
      "print \"The diameter must be = %.1f in\\nThe numbers of teeths are therefore suitable for a cyclometer for bicycle with %.f \"\\\n",
      "      \"inches wheels\"%(d,p)\n"
     ],
     "language": "python",
     "metadata": {},
     "outputs": [
      {
       "output_type": "stream",
       "stream": "stdout",
       "text": [
        "The diameter must be = 27.7 in\n",
        "The numbers of teeths are therefore suitable for a cyclometer for bicycle with 28 inches wheels\n"
       ]
      }
     ],
     "prompt_number": 12
    },
    {
     "cell_type": "heading",
     "level": 2,
     "metadata": {},
     "source": [
      "Example 10, Page 403"
     ]
    },
    {
     "cell_type": "code",
     "collapsed": false,
     "input": [
      "#Variable declaration\n",
      "s1=26\n",
      "s2=24\n",
      "s3=23\n",
      "sr=31\n",
      "i1=70\n",
      "i2=72\n",
      "i3=61\n",
      "ir=71\n",
      "t=1500#lb in \n",
      "\n",
      "#Calculations\n",
      "k1=-i3/s3#Ns3-Ni2/(Ni3-Ni2)=k\n",
      "#S3 is fixed thus \n",
      "k2=1-(1./k1)#k2=Ni3/Ni2\n",
      "k3=-i2/s2#k3=Ns2-Ni3/(Ni2-Ni3)\n",
      "k4=(1./k2-1)*k3+1#k4=Ns2/Ni3  ; reducing using k2 and k3\n",
      "k5=-i1/s1#Ns1-Nf/(Ni1-Nf)\n",
      "k6=(1-k5)/(1-k5/k4)#k6=Ns1/Nf\n",
      "\n",
      "#Result\n",
      "print \"Ns1/Nf = %.2f\"%k6"
     ],
     "language": "python",
     "metadata": {},
     "outputs": [
      {
       "output_type": "stream",
       "stream": "stdout",
       "text": [
        "Ns1/Nf = 1.47\n"
       ]
      }
     ],
     "prompt_number": 13
    }
   ],
   "metadata": {}
  }
 ]
}