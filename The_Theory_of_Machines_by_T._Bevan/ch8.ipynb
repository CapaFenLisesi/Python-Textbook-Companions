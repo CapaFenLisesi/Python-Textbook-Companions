{
 "metadata": {
  "name": ""
 },
 "nbformat": 3,
 "nbformat_minor": 0,
 "worksheets": [
  {
   "cells": [
    {
     "cell_type": "heading",
     "level": 1,
     "metadata": {},
     "source": [
      "Chapter 8: Brakes and Dynamometers"
     ]
    },
    {
     "cell_type": "heading",
     "level": 2,
     "metadata": {},
     "source": [
      "Example 1, Page 252"
     ]
    },
    {
     "cell_type": "code",
     "collapsed": false,
     "input": [
      "import math\n",
      "\n",
      "#Variable declaration\n",
      "dia=12#in\n",
      "r=dia/2\n",
      "CQ=7#in\n",
      "OC=6#in\n",
      "OH=15#in\n",
      "u=0.3\n",
      "P=100#lb\n",
      "\n",
      "#Calculations\n",
      "phi=math.atan(u)\n",
      "x=r*math.sin(phi)#in inches;radius of friction circle\n",
      "a=5.82#from figure\n",
      "Tb=P*OH*x/a#braking torque\n",
      "\n",
      "#Result\n",
      "print \"The braking torque of the drum Tb= %.f lb\"%Tb"
     ],
     "language": "python",
     "metadata": {},
     "outputs": [
      {
       "output_type": "stream",
       "stream": "stdout",
       "text": [
        "The braking torque of the drum Tb= 444 lb\n"
       ]
      }
     ],
     "prompt_number": 1
    },
    {
     "cell_type": "heading",
     "level": 2,
     "metadata": {},
     "source": [
      "Example 2, Page 252"
     ]
    },
    {
     "cell_type": "code",
     "collapsed": false,
     "input": [
      "import math\n",
      "\n",
      "#Variable declaration\n",
      "OH=15#in\n",
      "l=OH\n",
      "u=0.3\n",
      "P=100#lb\n",
      "dia=12#in\n",
      "r=dia/2\n",
      "\n",
      "#Calculations\n",
      "phi=math.atan(u)\n",
      "#according to fig 170(b)\n",
      "#for clockwise rotation\n",
      "a=6#from figure\n",
      "x=r*math.sin(phi)#in inches;radius of friction circle\n",
      "Tb=P*l*x/a#braking torque on the drum\n",
      "#for counter clockwise rotation\n",
      "a1=5.5#in\n",
      "Tb1=P*l*x/a1#braking torque on the drum\n",
      "#according to figure 172(a)\n",
      "#for clockwise rotation\n",
      "a2=6.48#from figure\n",
      "x=r*math.sin(phi)#in inches;radius of friction circle\n",
      "Tb2=P*l*x/a2#braking torque on the drum\n",
      "#for counter clockwise rotation\n",
      "a3=6.38#in\n",
      "Tb3=P*l*x/a3#braking torque on the drum\n",
      "T1=math.ceil(Tb1)\n",
      "T2=math.ceil(Tb2)\n",
      "T3=math.ceil(Tb3)\n",
      "\n",
      "#Result\n",
      "print \"Braking torque on drum:\\nWhen dimensions are measured from fig 170(b)\\nFor clockwise rotation= %.f lb in\"\\\n",
      "\"\\nFor counter clockwise rotation= %.f lb in\"%(Tb,T1)\n",
      "print \"\\nWhen dimensions are measured from fig 171(a)\\nFor clockwise rotation= %.f lb in\"\\\n",
      "\"\\nFor counter clockwise rotation= %.f lb\"%(T2,T3)\n"
     ],
     "language": "python",
     "metadata": {},
     "outputs": [
      {
       "output_type": "stream",
       "stream": "stdout",
       "text": [
        "Braking torque on drum:\n",
        "When dimensions are measured from fig 170(b)\n",
        "For clockwise rotation= 431 lb in\n",
        "For counter clockwise rotation= 471 lb in\n",
        "\n",
        "When dimensions are measured from fig 171(a)\n",
        "For clockwise rotation= 400 lb in\n",
        "For counter clockwise rotation= 406 lb\n"
       ]
      }
     ],
     "prompt_number": 5
    },
    {
     "cell_type": "heading",
     "level": 2,
     "metadata": {},
     "source": [
      "Example 3, Page 253"
     ]
    },
    {
     "cell_type": "code",
     "collapsed": false,
     "input": [
      "import math\n",
      "\n",
      "#Variable declaration\n",
      "u=.35\n",
      "Tb=500#lb.ft\n",
      "rd=10#in\n",
      "\n",
      "#Calculations\n",
      "phi=math.atan(u)\n",
      "x=rd*math.sin(phi)\n",
      "#F*OD=R*a=R1*a\n",
      "#R=R1\n",
      "#2*R*x=Tb\n",
      "OD=24#in\n",
      "a=11.5#inches; From figure\n",
      "F=Tb*a*12/(OD*2*x)\n",
      "#from figure\n",
      "HG=4#in\n",
      "GK=12#in\n",
      "HL=12.22#in\n",
      "P=F*HG/GK\n",
      "Fhd=HL*P/HG\n",
      "\n",
      "#Results\n",
      "print \"a) Magnitude of P = %.f lb\"%P\n",
      "print \"b) Magnitude of Fhd = %.f lb\"%Fhd"
     ],
     "language": "python",
     "metadata": {},
     "outputs": [
      {
       "output_type": "stream",
       "stream": "stdout",
       "text": [
        "a) Magnitude of P = 145 lb\n",
        "b) Magnitude of Fhd = 443 lb\n"
       ]
      }
     ],
     "prompt_number": 6
    },
    {
     "cell_type": "heading",
     "level": 2,
     "metadata": {},
     "source": [
      "Example 4, Page 259"
     ]
    },
    {
     "cell_type": "code",
     "collapsed": false,
     "input": [
      "import math\n",
      "\n",
      "#Variable declaration\n",
      "u=.3\n",
      "theta=270*math.pi/180\n",
      "l=18#in\n",
      "a=4#in\n",
      "Di=15#in\n",
      "Do=21#in\n",
      "w=.5#tons\n",
      "\n",
      "#Calculations\n",
      "W=w*2204#lb\n",
      "Q=W*Di/Do#required tangential braking force on the drum\n",
      "k=math.e**(u*theta)#k=T1/T2\n",
      "p=Q*a/(l*(k-1))\n",
      "\n",
      "#Result\n",
      "print \"Least force required, P = %.f lb\"%p"
     ],
     "language": "python",
     "metadata": {},
     "outputs": [
      {
       "output_type": "stream",
       "stream": "stdout",
       "text": [
        "Least force required, P = 56 lb\n"
       ]
      }
     ],
     "prompt_number": 7
    },
    {
     "cell_type": "heading",
     "level": 2,
     "metadata": {},
     "source": [
      "Example 5, Page 260"
     ]
    },
    {
     "cell_type": "code",
     "collapsed": false,
     "input": [
      "import math\n",
      "\n",
      "#Variable declaration\n",
      "n=12\n",
      "u=.28\n",
      "a=4.5#in\n",
      "b=1#in\n",
      "l=21#in\n",
      "r=15#in\n",
      "Tb=4000#lb\n",
      "\n",
      "#Calculations\n",
      "theta=10*math.pi/180\n",
      "#k=Tn/To\n",
      "k=((1+u*math.tan(theta))/(1-u*math.tan(theta)))**n\n",
      "Q=Tb*(12./r)\n",
      "P=Q*(a-b*k)/(l*(k-1))#from combining 8.6 with k=e^u*theta\n",
      "\n",
      "#Result\n",
      "print \"The least effort required = P = %.1f lb\"%P"
     ],
     "language": "python",
     "metadata": {},
     "outputs": [
      {
       "output_type": "stream",
       "stream": "stdout",
       "text": [
        "The least effort required = P = 82.2 lb\n"
       ]
      }
     ],
     "prompt_number": 8
    },
    {
     "cell_type": "heading",
     "level": 2,
     "metadata": {},
     "source": [
      "Example 6, Page 264"
     ]
    },
    {
     "cell_type": "code",
     "collapsed": false,
     "input": [
      "#Variable declaration\n",
      "w=9.5 #ft\n",
      "h= 2. #ft\n",
      "x=4. #ft\n",
      "v=30.#mph\n",
      "\n",
      "#Calculations\n",
      "V=1.46667*v#ft/s\n",
      "u1=.1\n",
      "u2=.6\n",
      "g=32.2#ft/s**2\n",
      "#a) rear wheels braked\n",
      "fa1=(u1*(w-x)*g)/(w+u1*h)\n",
      "fa2=(u2*(w-x)*g)/(w+u2*h)\n",
      "sa1=V**2/(2*fa1)\n",
      "sa2=V**2/(2*fa2)\n",
      "#b) front wheels braked\n",
      "fb1=u1*x*g/(w-u1*h)\n",
      "fb2=u2*x*g/(w-u2*h)\n",
      "sb1=V**2/(2*fb1)\n",
      "sb2=V**2/(2*fb2)\n",
      "#c) All wheels braked\n",
      "fc1=u1*g\n",
      "fc2=u2*g\n",
      "sc1=V**2/(2*fc1)\n",
      "sc2=V**2/(2*fc2)\n",
      "k1=(x+u1*h)/(w-x-u1*h)#Na/Nb\n",
      "k2=(x+u2*h)/(w-x-u2*h)#Na/Nb\n",
      "\n",
      "#Results\n",
      "print \"Coefficient of friction = 0.1\\na) Minimum distance in which car may be stopped when the rear brakes are\"\\\n",
      "\"applied = %.f ft\\nb) Minimum distance in which car may be stopped when the front brakes are applied = %.f ft\"\\\n",
      "\"\\nc) Minimum distance in which car may be stopped when all brakes are applied = %.f ft\"%(sa1,sb1,sc1)\n",
      "print \"\\nCoefficient of friction = 0.6\\na) Minimum distance in which car may be stopped when the rear brakes are \"\\\n",
      "\"applied = %.1f ft\\nb) Minimum distance in which car may be stopped when the front brakes are applied = %.f ft\"\\\n",
      "\"\\nc) Minimum distance in which car may be stopped when all brakes are applied = %.1f ft\"%(sa2,sb2,sc2)\n",
      "print \"\\nRequired ration of Na/Nb\\nFor u1 = 0.1 -> %.3f\\nFor u2 = 0.6 -> %.2f\"%(k1,k2)"
     ],
     "language": "python",
     "metadata": {},
     "outputs": [
      {
       "output_type": "stream",
       "stream": "stdout",
       "text": [
        "Coefficient of friction = 0.1\n",
        "a) Minimum distance in which car may be stopped when the rear brakes areapplied = 530 ft\n",
        "b) Minimum distance in which car may be stopped when the front brakes are applied = 699 ft\n",
        "c) Minimum distance in which car may be stopped when all brakes are applied = 301 ft\n",
        "\n",
        "Coefficient of friction = 0.6\n",
        "a) Minimum distance in which car may be stopped when the rear brakes are applied = 97.5 ft\n",
        "b) Minimum distance in which car may be stopped when the front brakes are applied = 104 ft\n",
        "c) Minimum distance in which car may be stopped when all brakes are applied = 50.1 ft\n",
        "\n",
        "Required ration of Na/Nb\n",
        "For u1 = 0.1 -> 0.792\n",
        "For u2 = 0.6 -> 1.21\n"
       ]
      }
     ],
     "prompt_number": 9
    }
   ],
   "metadata": {}
  }
 ]
}