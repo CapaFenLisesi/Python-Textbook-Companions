{
 "metadata": {
  "name": ""
 },
 "nbformat": 3,
 "nbformat_minor": 0,
 "worksheets": [
  {
   "cells": [
    {
     "cell_type": "heading",
     "level": 1,
     "metadata": {},
     "source": [
      "Chapter 14: Balancing"
     ]
    },
    {
     "cell_type": "heading",
     "level": 2,
     "metadata": {},
     "source": [
      "Example 1, Page 491"
     ]
    },
    {
     "cell_type": "code",
     "collapsed": false,
     "input": [
      "#Variable declaration\n",
      "W=200#lb\n",
      "r=9#in\n",
      "b1=15#in\n",
      "bm=b1\n",
      "l=10#in\n",
      "d=50#in\n",
      "\n",
      "#Calculations\n",
      "#case a\n",
      "ma=d+l\n",
      "Bm1=W*r*l/(d*bm)#From 14.2\n",
      "B11=W*r*ma/(d*b1)#from 14.3\n",
      "#case b\n",
      "mb=d-l\n",
      "Bm2=W*r*l/(d*bm)#from 14.2\n",
      "B12=W*r*mb/(d*b1)#from 14.3\n",
      "\n",
      "#Results\n",
      "print \"a) Bm= %.f lb ; B1= %.f lb\\nb) Bm= %.f lb ; B1= %.f lb\"%(Bm1,B11,Bm2,B12)"
     ],
     "language": "python",
     "metadata": {},
     "outputs": [
      {
       "output_type": "stream",
       "stream": "stdout",
       "text": [
        "a) Bm= 24 lb ; B1= 144 lb\n",
        "b) Bm= 24 lb ; B1= 96 lb\n"
       ]
      }
     ],
     "prompt_number": 9
    },
    {
     "cell_type": "heading",
     "level": 2,
     "metadata": {},
     "source": [
      "Example 2, Page 491"
     ]
    },
    {
     "cell_type": "code",
     "collapsed": false,
     "input": [
      "import math\n",
      "\n",
      "#Variable declaration\n",
      "Wa=200#lb\n",
      "Wb=300#lb\n",
      "Wc=240#lb\n",
      "W1=260#lb\n",
      "ra=9#in\n",
      "rb=7#in\n",
      "rc=10#in\n",
      "r1=12#in\n",
      "R=24#in\n",
      "\n",
      "#Calculations\n",
      "alpha=45*math.pi/180\n",
      "bita=75*math.pi/180\n",
      "gama=135*math.pi/180\n",
      "Hb=Wa*ra+Wb*rb*math.cos(alpha)-Wc*rc*math.cos(gama-bita)-W1*r1*math.cos(bita)#horizontal component after resolving\n",
      "Vb=Wb*rb*math.sin(alpha)+Wc*rc*math.sin(gama-bita)-W1*r1*math.sin(bita)#vertical component after resolving\n",
      "Bb=(Hb**2+Vb**2)**(1./2)\n",
      "B=Bb/R\n",
      "theta=math.degrees(math.atan(Vb/Hb))\n",
      "\n",
      "#Results\n",
      "print \"Balance weight required = %.1f lb\\ntheta = %.2f degrees\"%(B,theta)"
     ],
     "language": "python",
     "metadata": {},
     "outputs": [
      {
       "output_type": "stream",
       "stream": "stdout",
       "text": [
        "Balance weight required = 57.9 lb\n",
        "theta = 23.28 degrees\n"
       ]
      }
     ],
     "prompt_number": 2
    },
    {
     "cell_type": "heading",
     "level": 2,
     "metadata": {},
     "source": [
      "Example 5, Page 500"
     ]
    },
    {
     "cell_type": "code",
     "collapsed": false,
     "input": [
      "import math\n",
      "\n",
      "#Variable declaration\n",
      "W=180.#lb\n",
      "R=150.#lb\n",
      "c=.5\n",
      "N=300.#rpm\n",
      "r=7.5/12#ft\n",
      "g = 32.2\n",
      "\n",
      "#Calculations\n",
      "Bb=(W+c*R)*r*12\n",
      "b=6#in\n",
      "B=Bb/b\n",
      "w=(math.pi*N)/30\n",
      "Uf=(1./2)*(R/g)*w**2*r\n",
      "a=math.floor(Uf)\n",
      "\n",
      "#Results\n",
      "print \"Balance weight required = %.1f lb\\n The resultant unbalanced force = %.f lb\\n\"%(B,a)"
     ],
     "language": "python",
     "metadata": {},
     "outputs": [
      {
       "output_type": "stream",
       "stream": "stdout",
       "text": [
        "Balance weight required = 318.8 lb\n",
        " The resultant unbalanced force = 1436 lb\n",
        "\n"
       ]
      }
     ],
     "prompt_number": 8
    },
    {
     "cell_type": "heading",
     "level": 2,
     "metadata": {},
     "source": [
      "Example 12, Page 517"
     ]
    },
    {
     "cell_type": "code",
     "collapsed": false,
     "input": [
      "import math\n",
      "\n",
      "#Variable declaration\n",
      "N=1500 #rpm\n",
      "R=4#lb\n",
      "g=32.2#ft/s^2\n",
      "w=math.pi*N/30\n",
      "stroke=5.#in\n",
      "r=stroke/2\n",
      "l=9#in\n",
      "b=3.5#in\n",
      "\n",
      "#Calculations\n",
      "B=(3./2)*R*r/b#primary force\n",
      "n=l/r\n",
      "F=(3./2)*R*w**2*r/(g*12*n)#secondary force\n",
      "\n",
      "#Results\n",
      "print \"Resultant primary force = %.2f lb\\nResultant secondary force = %.f lb\"%(B,F)"
     ],
     "language": "python",
     "metadata": {},
     "outputs": [
      {
       "output_type": "stream",
       "stream": "stdout",
       "text": [
        "Resultant primary force = 4.29 lb\n",
        "Resultant secondary force = 266 lb\n"
       ]
      }
     ],
     "prompt_number": 12
    },
    {
     "cell_type": "heading",
     "level": 2,
     "metadata": {},
     "source": [
      "Example 13, Page 519"
     ]
    },
    {
     "cell_type": "code",
     "collapsed": false,
     "input": [
      "import math\n",
      "\n",
      "#Variable declaration\n",
      "g=32.2#ft/s^2\n",
      "n=2000#rpm\n",
      "R=6#lb\n",
      "r=3.#in\n",
      "L=11.#in\n",
      "\n",
      "#Calculations\n",
      "w=math.pi*n/30\n",
      "n=L/r\n",
      "#minimum secondary force\n",
      "F1=2*R*w**2*r/(g*n*12)\n",
      "a=math.floor(F1)\n",
      "#maximum secondary force\n",
      "F2=6*R*w**2*r/(g*n*12)\n",
      "b=math.floor(F2)\n",
      "\n",
      "#Results\n",
      "print \"Minimum secondary force = %.f lb\\nMaximum secondary force = %.f lb\"%(a,b)"
     ],
     "language": "python",
     "metadata": {},
     "outputs": [
      {
       "output_type": "stream",
       "stream": "stdout",
       "text": [
        "Minimum secondary force = 1114 lb\n",
        "Maximum secondary force = 3343 lb\n"
       ]
      }
     ],
     "prompt_number": 14
    }
   ],
   "metadata": {}
  }
 ]
}