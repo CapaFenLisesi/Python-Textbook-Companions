{
 "metadata": {
  "name": ""
 },
 "nbformat": 3,
 "nbformat_minor": 0,
 "worksheets": [
  {
   "cells": [
    {
     "cell_type": "heading",
     "level": 1,
     "metadata": {},
     "source": [
      "Chapter 13: Governors"
     ]
    },
    {
     "cell_type": "heading",
     "level": 2,
     "metadata": {},
     "source": [
      "Example 1, Page 459"
     ]
    },
    {
     "cell_type": "code",
     "collapsed": false,
     "input": [
      "#Variable declaration\n",
      "#all lengths are in inches\n",
      "W=120.#lb\n",
      "w=15#lb\n",
      "AB=12\n",
      "BF=8\n",
      "BC=12\n",
      "BE=6.5\n",
      "g=35230#inches rpm\n",
      "\n",
      "#Calculations\n",
      "#at Minimum radius \n",
      "AF=(AB**2-BF**2)**(1./2)\n",
      "CE=(BC**2-BE**2)**(1./2)\n",
      "k2=(BE*AF)/(CE*BF)\n",
      "N2=(((W/2)*(1+k2)+w)*g/(w*AF))**(1./2)\n",
      "#At MAximum radius \n",
      "BF1=10\n",
      "BE1=8.5\n",
      "AF1=(AB**2-BF1**2)**(1./2)\n",
      "CE1=(BC**2-BE1**2)**(1./2)\n",
      "k1=(BE1*AF1)/(CE1*BF1)\n",
      "N1=(((W/2)*(1+k1)+w)*g/(w*AF1))**(1./2)\n",
      "\n",
      "#Results\n",
      "print \"N1 (corresponding maximum radius) = %.1f rpm\\nN2 (corresponding minimum radius) = %.1f rpm\"%(N1,N2)"
     ],
     "language": "python",
     "metadata": {},
     "outputs": [
      {
       "output_type": "stream",
       "stream": "stdout",
       "text": [
        "N1 (corresponding maximum radius) = 201.7 rpm\n",
        "N2 (corresponding minimum radius) = 176.2 rpm\n"
       ]
      }
     ],
     "prompt_number": 2
    },
    {
     "cell_type": "heading",
     "level": 2,
     "metadata": {},
     "source": [
      "Example 2, Page 462"
     ]
    },
    {
     "cell_type": "code",
     "collapsed": false,
     "input": [
      "import math\n",
      "\n",
      "#Variable declaration\n",
      "BG=4#in\n",
      "\n",
      "#Calculations&Results\n",
      "#solution a\n",
      "w=15#lb\n",
      "W=120.#lb\n",
      "k=.720\n",
      "BD=10.08#in\n",
      "CE=BD\n",
      "DG=BD+BG\n",
      "#by equating quations 13.2 and 13.10 and reducing, we get\n",
      "w1=(W/2*(1+k))/(((W/2*(1+k)+w)*DG/(BD*w))-1)\n",
      "print \"Weight of ball = %.3f lb\"%w1\n",
      "#solution b\n",
      "CD=6.5#in\n",
      "BC=12#in\n",
      "BF=10.#in\n",
      "AB=12#in\n",
      "CG=(DG**2+CD**2)**(1./2)\n",
      "gama=math.atan(CD/DG)\n",
      "bita=math.asin(CD/BC)\n",
      "alpha1=math.asin(BF/AB)\n",
      "bita1=math.asin(8.5/BC)\n",
      "gama1=gama+bita1-bita\n",
      "F=((w1+W/2)*8.471*(math.tan(alpha1)+math.tan(bita1)))/(CG*math.cos(gama1))-(w1*math.tan(gama1))\n",
      "print\"F1= %.1f lb\"%F\n",
      "r1=CG*math.sin(gama1)+1.5#radius of rotation\n",
      "N1=(30/math.pi)*(F*32.2*12/(w1*r1))**(1./2)\n",
      "print \"r1= %.2f in\\nN1= %.1f rpm\"%(r1,N1)"
     ],
     "language": "python",
     "metadata": {},
     "outputs": [
      {
       "output_type": "stream",
       "stream": "stdout",
       "text": [
        "Weight of ball = 10.313 lb\n",
        "F1= 113.1 lb\n",
        "r1= 10.85 in\n",
        "N1= 188.7 rpm\n"
       ]
      }
     ],
     "prompt_number": 4
    },
    {
     "cell_type": "heading",
     "level": 2,
     "metadata": {},
     "source": [
      "Example 3, Page 466"
     ]
    },
    {
     "cell_type": "code",
     "collapsed": false,
     "input": [
      "import math\n",
      "\n",
      "#Variable declaration\n",
      "w=3#lb\n",
      "g=32.2\n",
      "N2=300\n",
      "\n",
      "#Calculations\n",
      "w2=(N2*math.pi/30)\n",
      "r2=3./12#ft\n",
      "N1=1.06*N2\n",
      "r1=4.5/12#ft\n",
      "a=4#in\n",
      "b=2#in\n",
      "ro=3.5/12#ft\n",
      "F2=w*w2**2*r2/g\n",
      "F1=F2*N1**2*r1/(N2**2*r2)\n",
      "p=2*a**2*(F1-F2)/(b**2*(r1-r2))\n",
      "Fc=F2+(F1-F2)*(.5/1.5)\n",
      "N=(Fc*g/(ro*w))**(1./2)*30/math.pi\n",
      "Ns=math.ceil(N)\n",
      "\n",
      "#Result\n",
      "print \"N = %.1f rpm\"%Ns"
     ],
     "language": "python",
     "metadata": {},
     "outputs": [
      {
       "output_type": "stream",
       "stream": "stdout",
       "text": [
        "N = 308.0 rpm\n"
       ]
      }
     ],
     "prompt_number": 6
    },
    {
     "cell_type": "heading",
     "level": 2,
     "metadata": {},
     "source": [
      "Example 4, Page 468"
     ]
    },
    {
     "cell_type": "code",
     "collapsed": false,
     "input": [
      "import math\n",
      "\n",
      "#Variable declaration\n",
      "w=5#lb\n",
      "g=32.2\n",
      "N2=240#rpm\n",
      "\n",
      "#Calculations\n",
      "w2=(N2*math.pi/30)\n",
      "r2=5./12#ft\n",
      "N1=1.05*N2\n",
      "r1=7./12#ft\n",
      "a=6.#in\n",
      "b=4#in\n",
      "pb=3./2\n",
      "F2=w*w2**2*r2/g\n",
      "F1=F2*N1**2*r1/(N2**2*r2)\n",
      "p=2*(a/b)**2*((F1-F2)/(r1*12-r2*12)-4*pb)\n",
      "\n",
      "#Result\n",
      "print \"Equivalent stiffness; p = %.f lb/in\"%p"
     ],
     "language": "python",
     "metadata": {},
     "outputs": [
      {
       "output_type": "stream",
       "stream": "stdout",
       "text": [
        "Equivalent stiffness; p = 23 lb/in\n"
       ]
      }
     ],
     "prompt_number": 8
    },
    {
     "cell_type": "heading",
     "level": 2,
     "metadata": {},
     "source": [
      "Example 5, Page 470"
     ]
    },
    {
     "cell_type": "code",
     "collapsed": false,
     "input": [
      "import math\n",
      "\n",
      "#Variable declaration\n",
      "w=3.#lb\n",
      "W=15.#lb\n",
      "g=32.2\n",
      "r2=2.5/12#ft\n",
      "N2=240.#rpm\n",
      "\n",
      "#Calculations\n",
      "w2=N2*math.pi/30\n",
      "F2=w*w2**2*r2/g\n",
      "a=4.5#in\n",
      "b=2#in\n",
      "sleevelift=0.5\n",
      "r1=r2*12+a*sleevelift/b#the increase of radius for a scleeve lift is 0.5 in\n",
      "N1=1.05*N2\n",
      "F1=(N1/N2)**2*(r1/(r2*12))*F2\n",
      "#a) at minimum radius\n",
      "S2=(F2*a/b-w)*2-W\n",
      "#b) At maximum radius\n",
      "DB=r1-r2*12\n",
      "BI=1.936#in\n",
      "AD=a\n",
      "BI=b\n",
      "S1=2*(F1*AD/BI-w*(DB+BI)/BI)-W\n",
      "k=(S1-S2)/sleevelift\n",
      "\n",
      "#Result\n",
      "print \"Stiffness of the spring is %.1f lb/in\"%k"
     ],
     "language": "python",
     "metadata": {},
     "outputs": [
      {
       "output_type": "stream",
       "stream": "stdout",
       "text": [
        "Stiffness of the spring is 59.3 lb/in\n"
       ]
      }
     ],
     "prompt_number": 9
    },
    {
     "cell_type": "heading",
     "level": 2,
     "metadata": {},
     "source": [
      "Example 6, Page 475"
     ]
    },
    {
     "cell_type": "code",
     "collapsed": false,
     "input": [
      "#Variable declaration\n",
      "c=0.01\n",
      "W=120#lb\n",
      "w=15#lb\n",
      "k=.720\n",
      "h=8.944#in\n",
      "\n",
      "#Calculations\n",
      "Q=c*(W+2*w/(1+k))\n",
      "x=(2*c/(1+2*c))*(1+k)*h\n",
      "P=Q*x\n",
      "\n",
      "#Result\n",
      "print \"Governor power = Q*x = %.3f in lb\"%P\n"
     ],
     "language": "python",
     "metadata": {},
     "outputs": [
      {
       "output_type": "stream",
       "stream": "stdout",
       "text": [
        "Governor power = Q*x = 0.415 in lb\n"
       ]
      }
     ],
     "prompt_number": 10
    },
    {
     "cell_type": "heading",
     "level": 2,
     "metadata": {},
     "source": [
      "Example 7, Page 475"
     ]
    },
    {
     "cell_type": "code",
     "collapsed": false,
     "input": [
      "#Variable declaration\n",
      "r=6#in\n",
      "a=6#in\n",
      "b=4#in\n",
      "#from example 4(using conditions and calculating constants A and B) we get F=11.1r-14.6\n",
      "#when r=6 , F= 52\n",
      "F=52#lb\n",
      "\n",
      "#Calculations\n",
      "inc=2*.01*52#increase neglecting very small values\n",
      "F1=F+inc\n",
      "F2=2*a*inc/b#Force required to prevent the sleeve from rising \n",
      "F3=F2/2#Force is uniformly distributed\n",
      "r2=-14.6/(F1/r-11.1)#from equation 1\n",
      "x=r2-r#increase in radius of rotation\n",
      "lift=b*x/a#sleeve lift\n",
      "P=F3*lift#governor power\n",
      "\n",
      "#Result\n",
      "print \"Governor power = %.3f in lb\"%P"
     ],
     "language": "python",
     "metadata": {},
     "outputs": [
      {
       "output_type": "stream",
       "stream": "stdout",
       "text": [
        "Governor power = 0.479 in lb\n"
       ]
      }
     ],
     "prompt_number": 12
    },
    {
     "cell_type": "heading",
     "level": 2,
     "metadata": {},
     "source": [
      "Example 10, Page 483"
     ]
    },
    {
     "cell_type": "code",
     "collapsed": false,
     "input": [
      "#Variable declaration\n",
      "fs=3.#lb\n",
      "W=90#lb\n",
      "w=15#lb\n",
      "\n",
      "#Calculations\n",
      "#fb=(fs/2)*(1+k)*(r/h) From equation 13.31\n",
      "k=1#All the arms are of equal length\n",
      "#fb=fs*(r/h)\n",
      "#comparing the above result with the one obtained from example 8 , F=(W+w)*(r/h), we get coefficient of insensitiveness = k = (N1-N2)/N = fs/(W+w)\n",
      "k=fs/(W+w)\n",
      "K=k*100\n",
      "\n",
      "#Result\n",
      "print \"Coefficient of insensitiveness = %.3f\"%k"
     ],
     "language": "python",
     "metadata": {},
     "outputs": [
      {
       "output_type": "stream",
       "stream": "stdout",
       "text": [
        "Coefficient of insensitiveness = 0.029\n"
       ]
      }
     ],
     "prompt_number": 13
    },
    {
     "cell_type": "heading",
     "level": 2,
     "metadata": {},
     "source": [
      "Example 11, Page 484"
     ]
    },
    {
     "cell_type": "code",
     "collapsed": false,
     "input": [
      "#Variable declaration\n",
      "a=4.5#in\n",
      "b=2#in\n",
      "r1=2.5#in\n",
      "r2=4.5#in\n",
      "F2=12.25#lb\n",
      "F1=25.4#lb\n",
      "fs=1.5#lb\n",
      "\n",
      "#Calculations\n",
      "fb=(fs/2)*(b/a)\n",
      "#At minimum radii\n",
      "k1=fb/F2\n",
      "#At maximum radii\n",
      "k2=fb/F1\n",
      "\n",
      "#Results\n",
      "print \"Coefficient of insensitiveness\\nAt minimum radii = %.4f\\nAt maximum radii = %.4f\"%(k1,k2)"
     ],
     "language": "python",
     "metadata": {},
     "outputs": [
      {
       "output_type": "stream",
       "stream": "stdout",
       "text": [
        "Coefficient of insensitiveness\n",
        "At minimum radii = 0.0272\n",
        "At maximum radii = 0.0131\n"
       ]
      }
     ],
     "prompt_number": 14
    }
   ],
   "metadata": {}
  }
 ]
}