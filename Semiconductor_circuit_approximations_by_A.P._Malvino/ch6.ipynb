{
 "cells": [
  {
   "cell_type": "markdown",
   "metadata": {},
   "source": [
    "# Chapter 6 Common-Emitter Approximations"
   ]
  },
  {
   "cell_type": "markdown",
   "metadata": {},
   "source": [
    "## Example 6.2 Page No 153"
   ]
  },
  {
   "cell_type": "code",
   "execution_count": 2,
   "metadata": {
    "collapsed": false
   },
   "outputs": [
    {
     "name": "stdout",
     "output_type": "stream",
     "text": [
      "The total voltage across the 10 Ω resistance = 9.99 mV is :\n"
     ]
    }
   ],
   "source": [
    "# given data\n",
    "R1= 10.0##  Ω\n",
    "R2= 10010##  Ω\n",
    "V1= 10##  V\n",
    "# The total voltage across the 10 Ω resistance \n",
    "V= R1/R2*V1##  V\n",
    "V= V*10**3##  mV\n",
    "print \"The total voltage across the 10 Ω resistance = %.2f mV is :\"%V"
   ]
  },
  {
   "cell_type": "markdown",
   "metadata": {},
   "source": [
    "## Example 6.3 Page No 156"
   ]
  },
  {
   "cell_type": "code",
   "execution_count": 3,
   "metadata": {
    "collapsed": false
   },
   "outputs": [
    {
     "name": "stdout",
     "output_type": "stream",
     "text": [
      "The total current through diode = 57.20 µA\n"
     ]
    }
   ],
   "source": [
    "# given data\n",
    "R= 10*10**3##  Ω\n",
    "V_CC= 15##  V\n",
    "V_BE= 0.7##  V\n",
    "Vt= 25*10**-3##  V\n",
    "Vp= 1*10**-3##  V\n",
    "I= (V_CC-V_BE)/R##  A\n",
    "r_ac= Vt/I##  Ω\n",
    "# The total current through diode \n",
    "Ip= Vp/r_ac##  A\n",
    "Ip= Ip*10**6##  µA\n",
    "print \"The total current through diode = %.2f µA\"%Ip"
   ]
  },
  {
   "cell_type": "markdown",
   "metadata": {},
   "source": [
    "## Example 6.4 Page No 162"
   ]
  },
  {
   "cell_type": "code",
   "execution_count": 4,
   "metadata": {
    "collapsed": false
   },
   "outputs": [
    {
     "name": "stdout",
     "output_type": "stream",
     "text": [
      "The output voltage = 381.26 mV\n",
      "The input impedance of amplifier = 4.14 kΩ\n"
     ]
    }
   ],
   "source": [
    "# given data\n",
    "R1= 47*10**3##  Ω\n",
    "R2= 15*10**3##  Ω\n",
    "R_E= 8.2*10**3##  Ω\n",
    "R_C= 10*10**3##  Ω\n",
    "R3= 3.3*10**3##  Ω\n",
    "bita= 200#\n",
    "V_CC= 30##  V\n",
    "V_BE= 0.7##  V\n",
    "Vin= 5*10**-3##in V\n",
    "Vt= 25*10**-3##  V\n",
    "V2= R2*V_CC/(R1+R2)##  V\n",
    "# DC voltage across emitter\n",
    "V_E= V2-V_BE##  V\n",
    "# Emitter current\n",
    "I_E= V_E/R_E##  A\n",
    "r_desh_e= Vt/I_E##  Ω\n",
    "r_L= R_C*R3/(R_C+R3)##in Ω\n",
    "A= r_L/r_desh_e#\n",
    "# The output voltage \n",
    "Vout= A*Vin##  V\n",
    "Zin_base= bita*r_desh_e##  Ω\n",
    "# The input impedance of amplifier \n",
    "Zin= R1*R2*Zin_base/(R2*Zin_base+R1*Zin_base+R1*R2)##  Ω\n",
    "Vout= Vout*10**3##  mV\n",
    "Zin= Zin*10**-3##  k ohm\n",
    "print \"The output voltage = %.2f mV\"%Vout\n",
    "print \"The input impedance of amplifier = %.2f kΩ\"%Zin"
   ]
  },
  {
   "cell_type": "markdown",
   "metadata": {},
   "source": [
    "## Example 6.5 Page No 163"
   ]
  },
  {
   "cell_type": "code",
   "execution_count": 5,
   "metadata": {
    "collapsed": false
   },
   "outputs": [
    {
     "name": "stdout",
     "output_type": "stream",
     "text": [
      "The base voltage = 1.80 V\n",
      "The collector voltage = 6.04 V\n"
     ]
    }
   ],
   "source": [
    "# given data\n",
    "R1= 10*10**3##  Ω\n",
    "R2= 2.2*10**3##  Ω\n",
    "R_C= 3.6*10**3##  Ω\n",
    "V_CC= 10##  V\n",
    "I_C= 1.1*10**-3##  A\n",
    "# The base voltage \n",
    "V_B= R2*V_CC/(R1+R2)##  V\n",
    "# The collector voltage \n",
    "V_C= V_CC-I_C*R_C##  V\n",
    "print \"The base voltage = %.2f V\"%V_B\n",
    "print \"The collector voltage = %.2f V\"%V_C"
   ]
  },
  {
   "cell_type": "markdown",
   "metadata": {},
   "source": [
    "## Example 6.6 Page No 164"
   ]
  },
  {
   "cell_type": "code",
   "execution_count": 6,
   "metadata": {
    "collapsed": false
   },
   "outputs": [
    {
     "name": "stdout",
     "output_type": "stream",
     "text": [
      "The output voltage = 158.40 mV\n"
     ]
    }
   ],
   "source": [
    "# given data\n",
    "V2= 1.1##  V\n",
    "Vin= 1*10**-3##  V\n",
    "Vt= 25*10**-3##  V\n",
    "R2= 1*10**3##  Ω\n",
    "R_C= 3.6*10**3##  Ω\n",
    "I_E= V2/R2##  A\n",
    "# Emitter diode ac resistance\n",
    "r_desh_e= Vt/I_E##  Ω\n",
    "A= R_C/r_desh_e#\n",
    "# The output voltage \n",
    "Vout= A*Vin##  V\n",
    "Vout= Vout*10**3##  mV\n",
    "print \"The output voltage = %.2f mV\"%Vout"
   ]
  },
  {
   "cell_type": "markdown",
   "metadata": {},
   "source": [
    "## Example 6.7 Page No 167"
   ]
  },
  {
   "cell_type": "code",
   "execution_count": 8,
   "metadata": {
    "collapsed": false
   },
   "outputs": [
    {
     "name": "stdout",
     "output_type": "stream",
     "text": [
      "The minimum voltage gain = 89.00\n",
      "The maximum voltage gain = 178.00\n"
     ]
    }
   ],
   "source": [
    "# given data\n",
    "R_C= 10*10**3##  Ω\n",
    "R_L= 82*10**3##  Ω\n",
    "r_E= 1*10**3##  Ω\n",
    "r_desh_e_min= 50##  Ω\n",
    "r_desh_e_max= 100##  Ω\n",
    "r_L= R_C*R_L/(R_C+R_L)##  Ω\n",
    "# The minimum voltage gain \n",
    "A_min= r_L/r_desh_e_max#\n",
    "# The maximum voltage gain \n",
    "A_max= r_L/r_desh_e_min#\n",
    "print \"The minimum voltage gain = %.2f\"%A_min\n",
    "print \"The maximum voltage gain = %.2f\"%A_max"
   ]
  },
  {
   "cell_type": "markdown",
   "metadata": {},
   "source": [
    "## Example 6.8 Page No 169"
   ]
  },
  {
   "cell_type": "code",
   "execution_count": 9,
   "metadata": {
    "collapsed": false
   },
   "outputs": [
    {
     "name": "stdout",
     "output_type": "stream",
     "text": [
      "The input impedance of the amplifier = 10.79 kΩ\n"
     ]
    }
   ],
   "source": [
    "# given data\n",
    "bita= 200#\n",
    "R1= 47*10**3##  Ω\n",
    "R2= 15*10**3##  Ω\n",
    "r_E=  1*10**3##  Ω\n",
    "r_desh_e= 50##  Ω\n",
    "Zin_base= bita*(r_E+r_desh_e)##  Ω\n",
    "# The input impedance of the amplifier \n",
    "Zin= R1*R2*Zin_base/(R1*R2+R1*Zin_base+R2*Zin_base)##  Ω\n",
    "Zin= Zin*10**-3##  k ohm\n",
    "print \"The input impedance of the amplifier = %.2f kΩ\"%Zin"
   ]
  },
  {
   "cell_type": "markdown",
   "metadata": {},
   "source": [
    "## Example 6.9 Page No 171"
   ]
  },
  {
   "cell_type": "code",
   "execution_count": 10,
   "metadata": {
    "collapsed": false
   },
   "outputs": [
    {
     "name": "stdout",
     "output_type": "stream",
     "text": [
      "The input impedance of each stage = 1.18 kΩ\n"
     ]
    }
   ],
   "source": [
    "# given data\n",
    "bita= 150#\n",
    "R1= 10*10**3##  Ω\n",
    "R2= 2.2*10**3##  Ω\n",
    "R_E= 1*10**3##  Ω\n",
    "V_CC= 10##  V\n",
    "V_BE= 0.7##  V\n",
    "Vt= 25*10**-3##  V\n",
    "V_B= R2*V_CC/(R1+R2)##  V\n",
    "V_E= V_B-V_BE##  V\n",
    "# The emitter current,\n",
    "I_E= V_E/R_E##  A\n",
    "r_desh_e= Vt/I_E##  Ω\n",
    "Zin_base= bita*r_desh_e##  Ω\n",
    "# The input impedance of each stage \n",
    "Zin= R1*R2*Zin_base/(R1*R2+R1*Zin_base+R2*Zin_base)##  Ω\n",
    "Zin= Zin*10**-3##  k ohm\n",
    "print \"The input impedance of each stage = %.2f kΩ\"%Zin"
   ]
  },
  {
   "cell_type": "markdown",
   "metadata": {},
   "source": [
    "## Example 6.10 Page No 172"
   ]
  },
  {
   "cell_type": "code",
   "execution_count": 11,
   "metadata": {
    "collapsed": false
   },
   "outputs": [
    {
     "name": "stdout",
     "output_type": "stream",
     "text": [
      "The ac output voltage across the final load resistor = 0.99 volts\n"
     ]
    }
   ],
   "source": [
    "# given data\n",
    "bita= 150#\n",
    "R1= 10*10**3##  Ω\n",
    "R2= 2.2*10**3##  Ω\n",
    "R_E= 1*10**3##  Ω\n",
    "Rs= 1*10**3##  Ω\n",
    "R_C= 3.6*10**3##  Ω\n",
    "R_L= 1.5*10**3##  Ω\n",
    "V_CC= 10##  V\n",
    "V_BE= 0.7##  V\n",
    "Vt= 25*10**-3##  V\n",
    "Vin= 1*10**-3##  V\n",
    "V_B= R2*V_CC/(R1+R2)##  V\n",
    "V_E= V_B-V_BE##  V\n",
    "I_E= V_E/R_E##  A\n",
    "r_desh_e= Vt/I_E##  Ω\n",
    "Zin_base= bita*r_desh_e##  Ω\n",
    "Zin= R1*R2*Zin_base/(R1*R2+R1*Zin_base+R2*Zin_base)##  Ω\n",
    "Vb1= Zin*Vin/(Rs+Zin)##  V\n",
    "r_L= R_C*Zin/(R_C+Zin)##  Ω\n",
    "V_B= R2*V_CC/(R1+R2)##  V\n",
    "V_E= V_B-V_BE##  V\n",
    "I_E= V_E/R_E##  A\n",
    "r_desh_e= Vt/I_E##  Ω\n",
    "A1= r_L/r_desh_e#\n",
    "Vb2= A1*Vb1##  V\n",
    "r_L= R_C*R_L/(R_C+R_L)##  Ω\n",
    "A2= r_L/r_desh_e#\n",
    "# The ac output voltage across the final load resistor \n",
    "Vout= A2*Vb2##  V\n",
    "A= A1*A2#\n",
    "Vout= A*Vb1##  V\n",
    "print \"The ac output voltage across the final load resistor = %.2f volts\"%Vout"
   ]
  },
  {
   "cell_type": "markdown",
   "metadata": {},
   "source": [
    "## Example 6.11 Page No 173"
   ]
  },
  {
   "cell_type": "code",
   "execution_count": 12,
   "metadata": {
    "collapsed": false
   },
   "outputs": [
    {
     "name": "stdout",
     "output_type": "stream",
     "text": [
      "The ac voltage at the final output = 18.77 mV\n"
     ]
    }
   ],
   "source": [
    "# given data\n",
    "bita= 150#\n",
    "R1= 10*10**3##  Ω\n",
    "R2= 2.2*10**3##  Ω\n",
    "R_C= 3.6*10**3##  Ω\n",
    "Rs= 1*10**3##  Ω\n",
    "R_L= 1.5*10**3##  Ω\n",
    "r_E= 180##  Ω\n",
    "R_E= 1*10**3##  Ω\n",
    "V_CC= 10##  V\n",
    "V_BE= 0.7##  V\n",
    "Vt= 25*10**-3##  V\n",
    "Vin= 1*10**-3##  V\n",
    "V_B= R2*V_CC/(R1+R2)##  V\n",
    "V_E= V_B-V_BE##  V\n",
    "I_E= V_E/R_E##  A\n",
    "r_desh_e= Vt/I_E##  Ω\n",
    "Zin_base= bita*(r_desh_e+r_E)##  Ω\n",
    "Zin= R1*R2*Zin_base/(R1*R2+R1*Zin_base+R2*Zin_base)##  Ω\n",
    "r_L= R_C*Zin/(R_C+Zin)##  Ω\n",
    "A1= r_L/(r_E+r_desh_e)#\n",
    "r_L= R_C*R_L/(R_C+R_L)##  Ω\n",
    "A2= r_L/(r_desh_e+r_E)#\n",
    "A= A1*A2#\n",
    "Vb1= Zin*Vin/(Rs+Zin)##  V\n",
    "# The ac voltage at the final output \n",
    "Vout= A*Vb1##  V\n",
    "Vout= Vout*10**3##  mV\n",
    "print \"The ac voltage at the final output = %.2f mV\"%Vout"
   ]
  }
 ],
 "metadata": {
  "kernelspec": {
   "display_name": "Python 2",
   "language": "python",
   "name": "python2"
  },
  "language_info": {
   "codemirror_mode": {
    "name": "ipython",
    "version": 2
   },
   "file_extension": ".py",
   "mimetype": "text/x-python",
   "name": "python",
   "nbconvert_exporter": "python",
   "pygments_lexer": "ipython2",
   "version": "2.7.9"
  }
 },
 "nbformat": 4,
 "nbformat_minor": 0
}
