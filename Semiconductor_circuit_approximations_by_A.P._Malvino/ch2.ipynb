{
 "cells": [
  {
   "cell_type": "markdown",
   "metadata": {},
   "source": [
    "# Chapter 2 Rectifier Diodes"
   ]
  },
  {
   "cell_type": "markdown",
   "metadata": {},
   "source": [
    "## Example 2.1 Page No 29"
   ]
  },
  {
   "cell_type": "code",
   "execution_count": 2,
   "metadata": {
    "collapsed": false
   },
   "outputs": [
    {
     "name": "stdout",
     "output_type": "stream",
     "text": [
      "The output voltage = 15.00 volts\n",
      "The current = 1.50 mA\n"
     ]
    }
   ],
   "source": [
    "# given data\n",
    "Vin= 15.0##  V\n",
    "R_L= 10.0##  kΩ\n",
    "# The output voltage\n",
    "Vout= Vin ##  V\n",
    "# The current\n",
    "I= Vout/R_L##  mA\n",
    "print \"The output voltage = %.2f volts\"%Vout\n",
    "print \"The current = %.2f mA\"%I"
   ]
  },
  {
   "cell_type": "markdown",
   "metadata": {},
   "source": [
    "## Example 2.2 Page No 30"
   ]
  },
  {
   "cell_type": "code",
   "execution_count": 6,
   "metadata": {
    "collapsed": false
   },
   "outputs": [
    {
     "name": "stdout",
     "output_type": "stream",
     "text": [
      "The output voltage = 0 volts\n",
      "The voltage across the diode = 15.00 volts\n"
     ]
    }
   ],
   "source": [
    "# given data\n",
    "Vin= 15.0##  V\n",
    "I=0#\n",
    "R_L= 10.0##  kΩ\n",
    "R_L= R_L*10**3##  Ω\n",
    "# The output voltage \n",
    "Vout= I*R_L##  V\n",
    "# The voltage across the diode \n",
    "V_R= Vin-Vout##  V\n",
    "print \"The output voltage = %.f volts\"%Vout\n",
    "print \"The voltage across the diode = %.2f volts\"%V_R"
   ]
  },
  {
   "cell_type": "markdown",
   "metadata": {},
   "source": [
    "## Example 2.4 Page No 31"
   ]
  },
  {
   "cell_type": "code",
   "execution_count": 9,
   "metadata": {
    "collapsed": false
   },
   "outputs": [
    {
     "name": "stdout",
     "output_type": "stream",
     "text": [
      "The peak current through the diode = 1.50 mA\n",
      "The maximum reverse voltage = 15.00 volts\n"
     ]
    }
   ],
   "source": [
    "# given data\n",
    "Vin= 15.0##  V\n",
    "V_P= Vin##  V\n",
    "R_L= 10##  kΩ\n",
    "R_L= R_L*10**3##  Ω\n",
    "Vout=0#\n",
    "# The peak current through the diode \n",
    "I_P= V_P/R_L##  A\n",
    "# The maximum reverse voltage \n",
    "V_R= Vin-Vout##  V\n",
    "I_P= I_P*10**3##  mA\n",
    "print \"The peak current through the diode = %.2f mA\"%I_P\n",
    "print \"The maximum reverse voltage = %.2f volts\"%V_R"
   ]
  },
  {
   "cell_type": "markdown",
   "metadata": {},
   "source": [
    "## Example 2.5 Page No 33"
   ]
  },
  {
   "cell_type": "code",
   "execution_count": 10,
   "metadata": {
    "collapsed": false
   },
   "outputs": [
    {
     "name": "stdout",
     "output_type": "stream",
     "text": [
      "The output voltage = 14.30 volts\n",
      "The current = 1.43 mA\n",
      "The power dissipation of the diode = 1.00 mW\n"
     ]
    }
   ],
   "source": [
    "# given data\n",
    "Vin= 15.0##  V\n",
    "V_K= 0.7##  V\n",
    "R_L= 10.0##  kΩ\n",
    "R_L= R_L*10**3##  Ω\n",
    "# The output voltage \n",
    "Vout= Vin-V_K##  V\n",
    "# The current \n",
    "I= Vout/R_L##  A\n",
    "# The power dissipation of the diode \n",
    "P= V_K*I##  W\n",
    "I=I*10**3##  mA\n",
    "P= round(P*10**3)##  mW\n",
    "print \"The output voltage = %.2f volts\"%Vout\n",
    "print \"The current = %.2f mA\"%I\n",
    "print \"The power dissipation of the diode = %.2f mW\"%P"
   ]
  },
  {
   "cell_type": "markdown",
   "metadata": {},
   "source": [
    "## Example 2.6 Page No 34"
   ]
  },
  {
   "cell_type": "code",
   "execution_count": 11,
   "metadata": {
    "collapsed": false
   },
   "outputs": [
    {
     "name": "stdout",
     "output_type": "stream",
     "text": [
      "The peak output voltage = 14.30 volts\n",
      "The maximum forward current = 1.43 mA\n",
      "The peak inverse voltage = 15.00 volts\n"
     ]
    }
   ],
   "source": [
    "# given data\n",
    "Vin= 15.0##  V\n",
    "V_K= 0.7##  V\n",
    "Vout=0##  V\n",
    "R_L= 10.0##  kΩ\n",
    "R_L= R_L*10**3##  Ω\n",
    "# The peak output voltage \n",
    "V_P= Vin-V_K##  V\n",
    "# The maximum forward current \n",
    "I_P= V_P/R_L##  A\n",
    "# The peak inverse voltage \n",
    "PIV= Vin-Vout##  V\n",
    "I_P= I_P*10**3##  mA\n",
    "print \"The peak output voltage = %.2f volts\"%V_P\n",
    "print \"The maximum forward current = %.2f mA\"%I_P\n",
    "print \"The peak inverse voltage = %.2f volts\"%PIV"
   ]
  },
  {
   "cell_type": "markdown",
   "metadata": {},
   "source": [
    "## Example 2.7 Page No 36"
   ]
  },
  {
   "cell_type": "code",
   "execution_count": 1,
   "metadata": {
    "collapsed": false
   },
   "outputs": [
    {
     "name": "stdout",
     "output_type": "stream",
     "text": [
      "The peak voltage = 9.12 volts\n",
      "The peak inverse voltage = 10.00 volts\n"
     ]
    }
   ],
   "source": [
    "# given data\n",
    "Vin= 10.0##  V\n",
    "V_K= 0.7##  V\n",
    "Vout=0##  V\n",
    "R_L= 1000.0##  kΩ\n",
    "r_B= 20.0##  Ω\n",
    "# The peak forward current,\n",
    "I_P= (Vin-V_K)/(R_L+r_B)##  A\n",
    "# The peak voltage \n",
    "V_P= I_P*R_L##  V\n",
    "# The peak inverse voltage \n",
    "PIV= Vin-Vout##  V\n",
    "print \"The peak voltage = %.2f volts\"%V_P\n",
    "print \"The peak inverse voltage = %.2f volts\"%PIV"
   ]
  }
 ],
 "metadata": {
  "kernelspec": {
   "display_name": "Python 2",
   "language": "python",
   "name": "python2"
  },
  "language_info": {
   "codemirror_mode": {
    "name": "ipython",
    "version": 2
   },
   "file_extension": ".py",
   "mimetype": "text/x-python",
   "name": "python",
   "nbconvert_exporter": "python",
   "pygments_lexer": "ipython2",
   "version": "2.7.9"
  }
 },
 "nbformat": 4,
 "nbformat_minor": 0
}
