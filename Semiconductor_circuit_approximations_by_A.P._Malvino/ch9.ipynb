{
 "cells": [
  {
   "cell_type": "markdown",
   "metadata": {},
   "source": [
    "# Chapter 9 Class A Power Amplifiers"
   ]
  },
  {
   "cell_type": "markdown",
   "metadata": {},
   "source": [
    "## Example 9.1 Page No 220"
   ]
  },
  {
   "cell_type": "code",
   "execution_count": 1,
   "metadata": {
    "collapsed": false
   },
   "outputs": [
    {
     "data": {
      "image/png": "[encoded data removed]",
      "text/plain": [
       "<matplotlib.figure.Figure at 0x7f9f5f942a50>"
      ]
     },
     "metadata": {},
     "output_type": "display_data"
    },
    {
     "name": "stdout",
     "output_type": "stream",
     "text": [
      "DC and AC load line shown in figure.\n"
     ]
    }
   ],
   "source": [
    "from numpy import arange\n",
    "%matplotlib inline\n",
    "from matplotlib.pyplot import plot,xlabel,ylabel,show,title,subplot\n",
    "# given data\n",
    "V_CC= 10##  V\n",
    "V_BE= 0.7##  V\n",
    "R1= 2.2##  kΩ\n",
    "R2= 10##  kΩ\n",
    "R_E= 1##  kΩ\n",
    "R_C= 3.6##  kΩ\n",
    "R= 1.5##  kΩ\n",
    "# The base voltage\n",
    "V_B= R1*V_CC/(R1+R2)##  V\n",
    "# The emitter current,\n",
    "I_E= (V_B-V_BE)/R_E##  mA\n",
    "# The collector current,\n",
    "I_CQ= I_E##  mA\n",
    "# The collector emitter voltage,\n",
    "V_CE= V_CC-I_E*(R_C+R_E)##  V\n",
    "V_CEQ= V_CE##  V\n",
    "# The saturation current,\n",
    "I_Csat= V_CC/(R_C+R_E)##  mA\n",
    "V_CEcutoff= V_CC##  V\n",
    "V_CE= arange(0,0.1+V_CEcutoff,0.1)  #  V\n",
    "I_C= (V_CC-V_CE)/(R_C+R_E)##  mA\n",
    "# The dc and ac load line\n",
    "subplot(121)\n",
    "plot(V_CE,I_C)\n",
    "xlabel(\"V_CE in volts\")\n",
    "ylabel(\"I_C in mA\")\n",
    "title(\"DC load line\")\n",
    "r_L= R_C*R/(R_C+R)##  kΩ\n",
    "I_Csat= I_CQ+V_CEQ/r_L##  mA\n",
    "Vce_cutoff= V_CEQ+I_CQ*r_L##  V\n",
    "x=[0,Vce_cutoff]#\n",
    "y=[I_Csat, 0]\n",
    "subplot(122)\n",
    "plot(x,y)\n",
    "xlabel(\"V_CE in volts\")\n",
    "ylabel(\"I_C in mA\")\n",
    "title(\"AC load line\")\n",
    "show()\n",
    "print \"DC and AC load line shown in figure.\""
   ]
  },
  {
   "cell_type": "markdown",
   "metadata": {},
   "source": [
    "## Example 9.2 Page No 221"
   ]
  },
  {
   "cell_type": "code",
   "execution_count": 6,
   "metadata": {
    "collapsed": false
   },
   "outputs": [
    {
     "name": "stdout",
     "output_type": "stream",
     "text": [
      "The cut off value of V_CE = 18.66 volts\n"
     ]
    }
   ],
   "source": [
    "# given data\n",
    "V_BE= 0.7##  V\n",
    "V_CC= 30##  V\n",
    "R_E= 8.2##  Ω\n",
    "R1= 22##  Ω\n",
    "R2= 47##  Ω\n",
    "R_C= 10##  Ω\n",
    "R_L= 30##in Ω\n",
    "# The base to ground voltage,\n",
    "V_B= R1*V_CC/(R1+R2)##  V\n",
    "# The emitter current,\n",
    "I_E= (V_B-V_BE)/R_E##  A\n",
    "# The collector current,\n",
    "I_CQ= I_E##  A\n",
    "# The collector emitter voltage,\n",
    "V_CEQ= V_CC-I_E*(R_E+R_C)##  V\n",
    "# The load resistance,\n",
    "r_L= R_C*R_L/(R_C+R_L)##  Ω\n",
    "I_Csat= I_E+V_CEQ/r_L##  A\n",
    "Vce_cutoff= V_CEQ+I_CQ*r_L##  V\n",
    "print \"The cut off value of V_CE = %.2f volts\"%Vce_cutoff"
   ]
  },
  {
   "cell_type": "markdown",
   "metadata": {},
   "source": [
    "## Example 9.3 Page No 223"
   ]
  },
  {
   "cell_type": "code",
   "execution_count": 7,
   "metadata": {
    "collapsed": false
   },
   "outputs": [
    {
     "name": "stdout",
     "output_type": "stream",
     "text": [
      "The cut off value of V_CE = 15.35 volts\n"
     ]
    }
   ],
   "source": [
    "# given data\n",
    "V_BE= 0.7##  V\n",
    "V_CC= 20##  V\n",
    "V_B= 10##  V\n",
    "R_E= 50##  Ω\n",
    "# The collector current,\n",
    "I_CQ= (V_B-V_BE)/R_E##  A\n",
    "# The collector emitter voltage,\n",
    "V_CEQ= V_CC-I_CQ*R_E##  V\n",
    "R1= 50##  Ω\n",
    "R2= 50##  Ω\n",
    "# The load resistance,\n",
    "r_L= R1*R2/(R1+R2)##  Ω\n",
    "I_Csat= I_CQ+V_CEQ/r_L##  A\n",
    "Vce_cutoff= V_CEQ+I_CQ*r_L##  V\n",
    "print \"The cut off value of V_CE = %.2f volts\"%Vce_cutoff"
   ]
  },
  {
   "cell_type": "markdown",
   "metadata": {},
   "source": [
    "## Example 9.4 Page No 227"
   ]
  },
  {
   "cell_type": "code",
   "execution_count": 12,
   "metadata": {
    "collapsed": false
   },
   "outputs": [
    {
     "name": "stdout",
     "output_type": "stream",
     "text": [
      "The ac compliance = 5.71 volts\n"
     ]
    }
   ],
   "source": [
    "# given data\n",
    "V_E= 1.0##  V\n",
    "R_E=1*10**3##  Ω\n",
    "V_CC= 10.0##  V\n",
    "R_C= 4.0*10**3##  Ω\n",
    "R_L= 10.0*10**3##  Ω\n",
    "# The collector current,\n",
    "I_CQ= V_E/R_E##  A\n",
    "I_C= I_CQ##  A\n",
    "# The collector emitter voltage,\n",
    "V_CEQ= V_CC-I_C*(R_C+R_E)##  V\n",
    "# The load resistance,\n",
    "r_L= R_L*R_C/(R_L+R_C)##  Ω\n",
    "#The ac compliance,\n",
    "PP= 2*I_CQ*r_L##  V\n",
    "print \"The ac compliance = %.2f volts\"%PP"
   ]
  },
  {
   "cell_type": "markdown",
   "metadata": {},
   "source": [
    "## Example 9.5 Page No 227"
   ]
  },
  {
   "cell_type": "code",
   "execution_count": 13,
   "metadata": {
    "collapsed": false
   },
   "outputs": [
    {
     "name": "stdout",
     "output_type": "stream",
     "text": [
      "When R_L = 1 MΩ, the value of 2I_CQrL = 7.97 volts\n",
      "When R_L = 100 kΩ, the value of 2I_CQrL = 7.69 volts\n",
      "When R_L = 10 kΩ, the value of 2I_CQrL = 5.71 volts\n",
      "When R_L = 1 kΩ, the value of 2I_CQrL = 1.60 volts\n",
      "When R_L = 100 Ω, the value of 2I_CQrL = 0.20 volts\n"
     ]
    }
   ],
   "source": [
    "# given data\n",
    "V_E= 1.0##  V\n",
    "R_E=1*10**3##  Ω\n",
    "R_C= 4.0*10**3##  Ω\n",
    "V_CC= 10.0##  V\n",
    "I_CQ= V_E/R_E##  A\n",
    "I_C= I_CQ##  A\n",
    "V_CEQ= V_CC-I_C*(R_C+R_E)##  V\n",
    "# (i) when R_L = 1 MΩ, the value of 2I_CQrL\n",
    "R_L= 1*10**6##  Ω\n",
    "r_L= R_L*R_C/(R_L+R_C)##  Ω\n",
    "I_CQrL= I_CQ*r_L##in A\n",
    "print \"When R_L = 1 MΩ, the value of 2I_CQrL = %.2f volts\"%(2*I_CQrL)\n",
    "# (ii) when R_L = 100 kΩ, the value of 2I_CQrL\n",
    "R_L= 100*10**3##  Ω\n",
    "r_L= R_L*R_C/(R_L+R_C)##  Ω\n",
    "I_CQrL= I_CQ*r_L##in A\n",
    "print \"When R_L = 100 kΩ, the value of 2I_CQrL = %.2f volts\"%(2*I_CQrL)\n",
    "# (iii) when R_L = 10 kΩ, the value of 2I_CQrL\n",
    "R_L= 10*10**3##  Ω\n",
    "r_L= R_L*R_C/(R_L+R_C)##  Ω\n",
    "I_CQrL= I_CQ*r_L##in A\n",
    "print \"When R_L = 10 kΩ, the value of 2I_CQrL = %.2f volts\"%(2*I_CQrL)\n",
    "# (iv) when R_L = 1 kΩ, the value of 2I_CQrL\n",
    "R_L= 1*10**3##  Ω\n",
    "r_L= R_L*R_C/(R_L+R_C)##  Ω\n",
    "I_CQrL= I_CQ*r_L##in A\n",
    "print \"When R_L = 1 kΩ, the value of 2I_CQrL = %.2f volts\"%(2*I_CQrL)\n",
    "# (v) when R_L = 100 Ω, the value of 2I_CQrL\n",
    "R_L= 100##  Ω\n",
    "r_L= R_L*R_C/(R_L+R_C)##  Ω\n",
    "I_CQrL= I_CQ*r_L##in A\n",
    "print \"When R_L = 100 Ω, the value of 2I_CQrL = %.2f volts\"%(2*I_CQrL)"
   ]
  },
  {
   "cell_type": "markdown",
   "metadata": {},
   "source": [
    "## Example 9.6 Page No 230"
   ]
  },
  {
   "cell_type": "code",
   "execution_count": 18,
   "metadata": {
    "collapsed": false
   },
   "outputs": [
    {
     "name": "stdout",
     "output_type": "stream",
     "text": [
      "The value of R1 is    : 40.40   kΩ  (standard value : 39 kΩ)\n",
      "The value of R2 is    : 7.60    kΩ  (standard value : 7.5 kΩ)\n",
      "The value of R_E is   : 240.00   Ω  (standard value : 240 Ω)\n",
      "The value of R_C is   : 0.96    kΩ  (standard value : 1 kΩ)\n"
     ]
    }
   ],
   "source": [
    "# given data\n",
    "V_CC= 12##  V\n",
    "V_BE= 0.7##  V\n",
    "I_CQ= 5*10**-3##  A\n",
    "bita= 200## unit less\n",
    "# The emitter voltage,\n",
    "V_E= 0.1*V_CC##  V\n",
    "# The emitter current,\n",
    "I_E= I_CQ##  A\n",
    "# The emitter resistance,\n",
    "R_E= V_E/I_E##  Ω\n",
    "# The collector resistance,\n",
    "R_C= 4*R_E##  Ω\n",
    "# The base voltage,\n",
    "V_B= V_E+V_BE##  V\n",
    "I_C= I_CQ##  A\n",
    "I_B= I_C/bita##  A\n",
    "R= V_CC/(10*I_B)##  Ω\n",
    "R2= V_B/(10*I_B)##  Ω\n",
    "R1= R-R2##  Ω\n",
    "R1= R1*10**-3##  k ohm\n",
    "R2= R2*10**-3##  k ohm\n",
    "R_C= R_C*10**-3##  k ohm\n",
    "print \"The value of R1 is    : %.2f\"%(R1),\"  kΩ  (standard value : 39 kΩ)\"\n",
    "print \"The value of R2 is    : %.2f\"%(R2),\"   kΩ  (standard value : 7.5 kΩ)\"\n",
    "print \"The value of R_E is   : %.2f\"%(R_E),\"  Ω  (standard value : 240 Ω)\"\n",
    "print \"The value of R_C is   : %.2f\"%(R_C),\"   kΩ  (standard value : 1 kΩ)\""
   ]
  },
  {
   "cell_type": "markdown",
   "metadata": {},
   "source": [
    "## Example 9.7 Page No 231"
   ]
  },
  {
   "cell_type": "code",
   "execution_count": 19,
   "metadata": {
    "collapsed": false
   },
   "outputs": [
    {
     "name": "stdout",
     "output_type": "stream",
     "text": [
      "The ac compliance = 5.15 volts\n"
     ]
    }
   ],
   "source": [
    "# given data\n",
    "I_CQ= 5*10**-3##  A\n",
    "R_C= 1*10**3##  Ω\n",
    "R_L= 1*10**3##  Ω\n",
    "# The load resistance\n",
    "r_L= R_C*R_L/(R_C+R_L)##  Ω\n",
    "# The ac compliance,\n",
    "PP= 2*I_CQ*r_L##  V\n",
    "I_CQ= 5.15*10**-3##  A\n",
    "PP= 2*I_CQ*r_L##  V\n",
    "print \"The ac compliance = %.2f volts\"%PP"
   ]
  },
  {
   "cell_type": "markdown",
   "metadata": {},
   "source": [
    "## Example 9.9 Page No 234"
   ]
  },
  {
   "cell_type": "code",
   "execution_count": 21,
   "metadata": {
    "collapsed": false
   },
   "outputs": [
    {
     "name": "stdout",
     "output_type": "stream",
     "text": [
      "The value of R1 is    : 27.97   kΩ  (standard value : 39 kΩ)\n",
      "The value of R2 is    : 6.83    kΩ  (standard value : 7.5 kΩ)\n",
      "The value of R_E is   : 240.00   Ω  (standard value : 240 Ω)\n",
      "The value of R_C is   : 1.00    kΩ  (standard value : 1 kΩ)\n"
     ]
    }
   ],
   "source": [
    "# given data\n",
    "V_CC= 12.0##  V\n",
    "V_BE= 0.7##  V\n",
    "R_C= 1*10**3##  Ω\n",
    "R_E= 240.0##  Ω\n",
    "r_L= 500.0##  Ω\n",
    "bita= 200.0## unit less\n",
    "# The required collector current,\n",
    "I_CQ= V_CC/(R_C+R_E+r_L)##  A\n",
    "# The emitter voltage,\n",
    "V_E= I_CQ*R_E##  V\n",
    "# The base voltage,\n",
    "V_B= V_E+V_BE##  V\n",
    "I_C= I_CQ##  A\n",
    "I_B= I_C/bita##  A\n",
    "# The total resistance of the voltage divider,\n",
    "R= V_CC/(10*I_B)##  Ω\n",
    "R2= V_B/(10*I_B)##  Ω\n",
    "R1= R-R2##  Ω\n",
    "R1= R1*10**-3##  k ohm\n",
    "R2= R2*10**-3##  k ohm\n",
    "R_C= R_C*10**-3##  k ohm\n",
    "print \"The value of R1 is    : %.2f\"%(R1),\"  kΩ  (standard value : 39 kΩ)\"\n",
    "print \"The value of R2 is    : %.2f\"%(R2),\"   kΩ  (standard value : 7.5 kΩ)\"\n",
    "print \"The value of R_E is   : %.2f\"%(R_E),\"  Ω  (standard value : 240 Ω)\"\n",
    "print \"The value of R_C is   : %.2f\"%(R_C),\"   kΩ  (standard value : 1 kΩ)\""
   ]
  },
  {
   "cell_type": "markdown",
   "metadata": {},
   "source": [
    "## Example 9.10 Page No 236"
   ]
  },
  {
   "cell_type": "code",
   "execution_count": 22,
   "metadata": {
    "collapsed": false
   },
   "outputs": [
    {
     "name": "stdout",
     "output_type": "stream",
     "text": [
      "The maximum ac load power = 0.45 mW\n"
     ]
    }
   ],
   "source": [
    "# given data\n",
    "R_C= 3.6##  kΩ\n",
    "R_L= 1.5##  kΩ\n",
    "V_CEQ= 4.94##  V\n",
    "I_CQ= 1.1##  mA\n",
    "# The quiescent power dissipation of the transistor,\n",
    "P_DQ= V_CEQ*I_CQ##  mW\n",
    "r_L= R_C*R_L/(R_C+R_L)##  kΩ\n",
    "PP= 2*I_CQ*r_L##  V\n",
    "# The maximum ac load power,\n",
    "P_Lmax= PP**2/(8*R_L)##  mW\n",
    "print \"The maximum ac load power = %.2f mW\"%P_Lmax"
   ]
  },
  {
   "cell_type": "markdown",
   "metadata": {},
   "source": [
    "## Example 9.11 Page No 240"
   ]
  },
  {
   "cell_type": "code",
   "execution_count": 23,
   "metadata": {
    "collapsed": false
   },
   "outputs": [
    {
     "name": "stdout",
     "output_type": "stream",
     "text": [
      "The efficiency = 5.58 %\n"
     ]
    }
   ],
   "source": [
    "# given data\n",
    "V_E= 1.71##  V\n",
    "R_E= 240##  Ω\n",
    "V_CC= 12##  V\n",
    "R_C= 1*10**3##  Ω\n",
    "R_L= 1*10**3##  Ω\n",
    "I= 0.355*10**-3##  A\n",
    "I_CQ= V_E/R_E##  A\n",
    "I_C= I_CQ##  A\n",
    "# The collector emitter voltage,\n",
    "V_CEQ= V_CC-I_C*(R_C+R_E)##  V\n",
    "r_L= R_C*R_L/(R_C+R_L)##  Ω\n",
    "PP= 2*V_CEQ##  V\n",
    "# The maximum ac load power,\n",
    "P_Lmax= PP**2/(8*R_L)##  W\n",
    "I_CC= I_C+I##  A\n",
    "P_CC= V_CC*I_CC##  W\n",
    "# The efficiency \n",
    "Eta= P_Lmax/P_CC*100##  %\n",
    "print \"The efficiency = %.2f %%\"%Eta"
   ]
  },
  {
   "cell_type": "markdown",
   "metadata": {},
   "source": [
    "## Example 9.12 Page No 244"
   ]
  },
  {
   "cell_type": "code",
   "execution_count": 24,
   "metadata": {
    "collapsed": false
   },
   "outputs": [
    {
     "name": "stdout",
     "output_type": "stream",
     "text": [
      "The case temperature = 130.00 °C\n",
      "The power rating = 60.00 watt\n"
     ]
    }
   ],
   "source": [
    "# given data\n",
    "Ta= 70## ambient temperature = %.2f °C\n",
    "P= 30##  power dissipation = %.2f W\n",
    "theta_CS= 0.5##  °C/W\n",
    "theta_SA= 1.5##  °C/W\n",
    "# The case temperature\n",
    "Tc= Ta+P*(theta_CS+theta_SA)##  °C\n",
    "# The power rating\n",
    "P_Dmax= 60##  W\n",
    "print \"The case temperature = %.2f °C\"%Tc\n",
    "print \"The power rating = %.2f watt\"%P_Dmax"
   ]
  }
 ],
 "metadata": {
  "kernelspec": {
   "display_name": "Python 2",
   "language": "python",
   "name": "python2"
  },
  "language_info": {
   "codemirror_mode": {
    "name": "ipython",
    "version": 2
   },
   "file_extension": ".py",
   "mimetype": "text/x-python",
   "name": "python",
   "nbconvert_exporter": "python",
   "pygments_lexer": "ipython2",
   "version": "2.7.9"
  }
 },
 "nbformat": 4,
 "nbformat_minor": 0
}
