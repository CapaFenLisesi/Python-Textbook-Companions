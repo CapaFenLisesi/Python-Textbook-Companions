{
 "cells": [
  {
   "cell_type": "markdown",
   "metadata": {},
   "source": [
    "# Chapter 14 Thyristors"
   ]
  },
  {
   "cell_type": "markdown",
   "metadata": {},
   "source": [
    "## Example 14.1 Page No 342"
   ]
  },
  {
   "cell_type": "code",
   "execution_count": 2,
   "metadata": {
    "collapsed": false
   },
   "outputs": [
    {
     "name": "stdout",
     "output_type": "stream",
     "text": [
      "The load current = 140.00 mA\n"
     ]
    }
   ],
   "source": [
    "# given data\n",
    "V1=15.##  V\n",
    "V2=1.##  V\n",
    "R= 100.##  Ω\n",
    "# The load current \n",
    "I= (V1-V2)/R##  A\n",
    "I= I*10**3##  mA\n",
    "print \"The load current = %.2f mA\"%I"
   ]
  },
  {
   "cell_type": "markdown",
   "metadata": {},
   "source": [
    "## Example 14.2 Page No 342"
   ]
  },
  {
   "cell_type": "code",
   "execution_count": 3,
   "metadata": {
    "collapsed": false
   },
   "outputs": [
    {
     "name": "stdout",
     "output_type": "stream",
     "text": [
      "The input voltage = 0.90 volts\n"
     ]
    }
   ],
   "source": [
    "# given data\n",
    "I= 4##  mA\n",
    "I=I*10**-3##  A\n",
    "V1=0.5## voltage across diode = %.2f V\n",
    "R=100##  Ω\n",
    "# The input voltage \n",
    "V= V1+I*R##  V\n",
    "print \"The input voltage = %.2f volts\"%V"
   ]
  },
  {
   "cell_type": "markdown",
   "metadata": {},
   "source": [
    "## Example 14.6 Page No 351"
   ]
  },
  {
   "cell_type": "code",
   "execution_count": 8,
   "metadata": {
    "collapsed": false
   },
   "outputs": [
    {
     "name": "stdout",
     "output_type": "stream",
     "text": [
      "The emitter current = 50.00 mA\n"
     ]
    }
   ],
   "source": [
    "# given data\n",
    "Eta= 0.85#\n",
    "V= 10.##  V\n",
    "V1= Eta*V##  V\n",
    "V= 20.##  V\n",
    "R= 400.##  Ω\n",
    "# The emitter current\n",
    "I_E= V/R##  A\n",
    "I_E= I_E*10**3##  mA\n",
    "print \"The emitter current = %.2f mA\"%I_E"
   ]
  },
  {
   "cell_type": "markdown",
   "metadata": {},
   "source": [
    "## Example 14.7 Page No 351"
   ]
  },
  {
   "cell_type": "code",
   "execution_count": 9,
   "metadata": {
    "collapsed": false
   },
   "outputs": [
    {
     "name": "stdout",
     "output_type": "stream",
     "text": [
      "The emitter supply voltage = 3.80 volts\n"
     ]
    }
   ],
   "source": [
    "# given data\n",
    "V_E= 1##  V\n",
    "R= 400##  Ω\n",
    "I= 7*10**-3##  A\n",
    "# The emitter supply voltage\n",
    "V= V_E+I*R##  V\n",
    "print \"The emitter supply voltage = %.2f volts\"%V"
   ]
  }
 ],
 "metadata": {
  "kernelspec": {
   "display_name": "Python 2",
   "language": "python",
   "name": "python2"
  },
  "language_info": {
   "codemirror_mode": {
    "name": "ipython",
    "version": 2
   },
   "file_extension": ".py",
   "mimetype": "text/x-python",
   "name": "python",
   "nbconvert_exporter": "python",
   "pygments_lexer": "ipython2",
   "version": "2.7.9"
  }
 },
 "nbformat": 4,
 "nbformat_minor": 0
}
