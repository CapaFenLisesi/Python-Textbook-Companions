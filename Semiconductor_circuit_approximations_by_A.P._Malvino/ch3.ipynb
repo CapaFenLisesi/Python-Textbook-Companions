{
 "cells": [
  {
   "cell_type": "markdown",
   "metadata": {},
   "source": [
    "# Chapter 3 Special Diodes"
   ]
  },
  {
   "cell_type": "markdown",
   "metadata": {},
   "source": [
    "## Exa 3.1 Page No 53"
   ]
  },
  {
   "cell_type": "code",
   "execution_count": 2,
   "metadata": {
    "collapsed": false
   },
   "outputs": [
    {
     "name": "stdout",
     "output_type": "stream",
     "text": [
      "The LED current = 21.28 mA\n"
     ]
    }
   ],
   "source": [
    "# given data\n",
    "Vin= 12.0##  V\n",
    "V_LED= 2##  V\n",
    "Rs= 470##  Ω\n",
    "Vs= Vin-V_LED##  V\n",
    "# The LED current \n",
    "I= Vs/Rs##  A\n",
    "I= I*10**3##  mA\n",
    "print \"The LED current = %.2f mA\"%I"
   ]
  },
  {
   "cell_type": "markdown",
   "metadata": {},
   "source": [
    "## Exa 3.2 Page No 53"
   ]
  },
  {
   "cell_type": "code",
   "execution_count": 3,
   "metadata": {
    "collapsed": false
   },
   "outputs": [
    {
     "name": "stdout",
     "output_type": "stream",
     "text": [
      "When supply voltage is 5 V, the LED current = 6.38 mA\n",
      "When supply voltage is 10 V, the LED current = 17.02 mA\n",
      "When supply voltage is 15 V, the LED current = 27.66 mA\n",
      "When supply voltage is 20 V, the LED current = 38.30 mA\n"
     ]
    }
   ],
   "source": [
    "# given data\n",
    "Vin= 5.0##  V\n",
    "V_LED= 2.0##  V\n",
    "Rs= 470.0##  Ω\n",
    "Vs= Vin-V_LED##  V\n",
    "# When supply voltage is 5 V, the LED current\n",
    "I= Vs/Rs##  A\n",
    "I= I*10**3##  mA\n",
    "print \"When supply voltage is 5 V, the LED current = %.2f mA\"%I\n",
    "Vin= 10##  V\n",
    "Vs= Vin-V_LED##  V\n",
    "# When supply voltage is 10 V, the LED current\n",
    "I= Vs/Rs##  A\n",
    "I= I*10**3##  mA\n",
    "print \"When supply voltage is 10 V, the LED current = %.2f mA\"%I\n",
    "Vin= 15##  V\n",
    "Vs= Vin-V_LED##  V\n",
    "# When supply voltage is 15 V, the LED current\n",
    "I= Vs/Rs##  A\n",
    "I= I*10**3##  mA\n",
    "print \"When supply voltage is 15 V, the LED current = %.2f mA\"%I\n",
    "Vin= 20##  V\n",
    "Vs= Vin-V_LED##  V\n",
    "# When supply voltage is 20 V, the LED current\n",
    "I= Vs/Rs##  A\n",
    "I= I*10**3##  mA\n",
    "print \"When supply voltage is 20 V, the LED current = %.2f mA\"%I"
   ]
  },
  {
   "cell_type": "markdown",
   "metadata": {},
   "source": [
    "## Exa 3.4 Page No 61"
   ]
  },
  {
   "cell_type": "code",
   "execution_count": 4,
   "metadata": {
    "collapsed": false
   },
   "outputs": [
    {
     "name": "stdout",
     "output_type": "stream",
     "text": [
      "The tuning range = 18.67\n"
     ]
    }
   ],
   "source": [
    "# given data\n",
    "C1= 560.0##transistor capacitance at 1V = %.2f pF\n",
    "C2= 30##transistor capacitance at 10V = %.2f pF\n",
    "# The tuning range \n",
    "tuningRange= C1/C2#\n",
    "print \"The tuning range = %.2f\"%tuningRange"
   ]
  },
  {
   "cell_type": "markdown",
   "metadata": {},
   "source": [
    "## Exa 3.5 Page No 68"
   ]
  },
  {
   "cell_type": "code",
   "execution_count": 5,
   "metadata": {
    "collapsed": false
   },
   "outputs": [
    {
     "name": "stdout",
     "output_type": "stream",
     "text": [
      "The minimum zener current = 12.20 mA\n",
      "The maximum zener current = 36.59 mA\n",
      "The output voltage = 10.00 V\n"
     ]
    }
   ],
   "source": [
    "# given data\n",
    "Vin_min= 20.0##  V\n",
    "Vin_max= 40.0##  V\n",
    "Vz= 10.0##  V\n",
    "Rs= 820.0##  Ω\n",
    "# The minimum zener current,\n",
    "Iz_min= (Vin_min-Vz)/Rs##  A\n",
    "# The maximum zener current, \n",
    "Iz_max= (Vin_max-Vz)/Rs##  A\n",
    "# The output voltage,\n",
    "Vout= Vz##  V\n",
    "Iz_min= Iz_min*10**3##  mA\n",
    "Iz_max= Iz_max*10**3##  mA\n",
    "print \"The minimum zener current = %.2f mA\"%Iz_min\n",
    "print \"The maximum zener current = %.2f mA\"%Iz_max\n",
    "print \"The output voltage = %.2f V\"%Vout"
   ]
  },
  {
   "cell_type": "markdown",
   "metadata": {},
   "source": [
    "## Exa 3.6 Page No 70"
   ]
  },
  {
   "cell_type": "code",
   "execution_count": 6,
   "metadata": {
    "collapsed": false
   },
   "outputs": [
    {
     "name": "stdout",
     "output_type": "stream",
     "text": [
      "The minimum zener current = 11.95 mA\n",
      "The maximum zener current = 35.84 mA\n",
      "The minimum output voltage = 10.20 V\n",
      "The maximum output voltage = 10.61 V\n"
     ]
    }
   ],
   "source": [
    "# given data\n",
    "Rs= 820.0##  Ω\n",
    "Rz= 17.0##  Ω\n",
    "R_T= Rs+Rz##  Ω\n",
    "Vz= 10.0##  V\n",
    "Vin_min= 20.0##  V\n",
    "Vin_max= 40.0##  V\n",
    "# The minimum zener current \n",
    "Iz_min= (Vin_min-Vz)/R_T##  A\n",
    "# The maximum zener current \n",
    "Iz_max= (Vin_max-Vz)/R_T##  A\n",
    "# The minimum output voltage \n",
    "Vout_min= Vz+Iz_min*Rz##  V\n",
    "# The maximum output voltage \n",
    "Vout_max= Vz+Iz_max*Rz##  V\n",
    "Iz_min= Iz_min*10**3##  mA\n",
    "Iz_max= Iz_max*10**3##  mA\n",
    "print \"The minimum zener current = %.2f mA\"%Iz_min\n",
    "print \"The maximum zener current = %.2f mA\"%Iz_max\n",
    "print \"The minimum output voltage = %.2f V\"%Vout_min\n",
    "print \"The maximum output voltage = %.2f V\"%Vout_max"
   ]
  },
  {
   "cell_type": "markdown",
   "metadata": {},
   "source": [
    "## Exa 3.7 Page No 72"
   ]
  },
  {
   "cell_type": "code",
   "execution_count": 7,
   "metadata": {
    "collapsed": false
   },
   "outputs": [
    {
     "name": "stdout",
     "output_type": "stream",
     "text": [
      "The maximum current rating = 16.13 mA\n"
     ]
    }
   ],
   "source": [
    "# given data\n",
    "P= 100.0## power rating = %.2f mW\n",
    "V= 6.2##  V\n",
    "# The maximum current rating \n",
    "I_ZM= P/V##  mA\n",
    "print \"The maximum current rating = %.2f mA\"%I_ZM"
   ]
  },
  {
   "cell_type": "markdown",
   "metadata": {},
   "source": [
    "## Exa 3.8 Page No 73"
   ]
  },
  {
   "cell_type": "code",
   "execution_count": 8,
   "metadata": {
    "collapsed": false
   },
   "outputs": [
    {
     "name": "stdout",
     "output_type": "stream",
     "text": [
      "The value of I_S = 72.22 mA\n",
      "The value of I_L = 60.00 mA\n",
      "The value of I_Z = 12.22 mA\n"
     ]
    }
   ],
   "source": [
    "# given data\n",
    "Vz= 12.0##  V\n",
    "Vout= Vz##  V\n",
    "Vin= 25.0##  V\n",
    "R_S= 180.0##  Ω\n",
    "R_L= 200.0##  Ω\n",
    "# The value of I_S \n",
    "I_S= (Vin-Vout)/R_S##  A\n",
    "# The value of I_L \n",
    "I_L= Vout/R_L##  A\n",
    "# The value of I_Z \n",
    "I_Z= I_S-I_L##  A\n",
    "I_S= I_S*10**3##  mA\n",
    "I_L= I_L*10**3##  mA\n",
    "I_Z= I_Z*10**3##  mA\n",
    "print \"The value of I_S = %.2f mA\"%I_S\n",
    "print \"The value of I_L = %.2f mA\"%I_L\n",
    "print \"The value of I_Z = %.2f mA\"%I_Z"
   ]
  },
  {
   "cell_type": "markdown",
   "metadata": {},
   "source": [
    "## Exa 3.9 Page No 73"
   ]
  },
  {
   "cell_type": "code",
   "execution_count": 11,
   "metadata": {
    "collapsed": false
   },
   "outputs": [
    {
     "name": "stdout",
     "output_type": "stream",
     "text": [
      "(i) For 200 Ω load resistance\n",
      "The value of I_S = 72.22 mA\n",
      "The value of I_L = 60.00 mA\n",
      "The value of I_Z = 12.22 mA\n",
      "(ii) For 400 Ω load resistance\n",
      "The value of I_S = 72.22 mA\n",
      "The value of I_L = 30.00 mA\n",
      "The value of I_Z = 42.22 mA\n",
      "(iii) For 600 Ω load resistance\n",
      "The value of I_S = 72.22 mA\n",
      "The value of I_L = 20.00 mA\n",
      "The value of I_Z = 52.22 mA\n",
      "(iv) For 800 Ω load resistance\n",
      "The value of I_S = 72.22 mA\n",
      "The value of I_L = 15.00 mA\n",
      "The value of I_Z = 57.22 mA\n",
      "(v) For 1 kΩ load resistance\n",
      "The value of I_S = 72.22 mA\n",
      "The value of I_L = 12.00 mA\n",
      "The value of I_Z = 60.22 mA\n"
     ]
    }
   ],
   "source": [
    "# given data\n",
    "print \"(i) For 200 Ω load resistance\"\n",
    "R_L= 200.0##  Ω\n",
    "Vz= 12.0##  V\n",
    "Vout= Vz##  V\n",
    "Vin= 25.0##  V\n",
    "R_S= 180.0##  Ω\n",
    "# The value of I_S \n",
    "I_S= (Vin-Vout)/R_S##  A\n",
    "# The value of I_L \n",
    "I_L= Vout/R_L##  A\n",
    "# The value of I_Z \n",
    "I_Z= I_S-I_L##  A\n",
    "I_S= I_S*10**3##  mA\n",
    "I_L= I_L*10**3##  mA\n",
    "I_Z= I_Z*10**3##  mA\n",
    "print \"The value of I_S = %.2f mA\"%I_S\n",
    "print \"The value of I_L = %.2f mA\"%I_L\n",
    "print \"The value of I_Z = %.2f mA\"%I_Z\n",
    "print \"(ii) For 400 Ω load resistance\"\n",
    "R_L= 400##  Ω\n",
    "# The value of I_S \n",
    "I_S= (Vin-Vout)/R_S##  A\n",
    "# The value of I_L \n",
    "I_L= Vout/R_L##  A\n",
    "# The value of I_Z \n",
    "I_Z= I_S-I_L##  A\n",
    "I_S= I_S*10**3##  mA\n",
    "I_L= I_L*10**3##  mA\n",
    "I_Z= I_Z*10**3##  mA\n",
    "print \"The value of I_S = %.2f mA\"%I_S\n",
    "print \"The value of I_L = %.2f mA\"%I_L\n",
    "print \"The value of I_Z = %.2f mA\"%I_Z\n",
    "print \"(iii) For 600 Ω load resistance\"\n",
    "R_L= 600##  Ω\n",
    "# The value of I_S \n",
    "I_S= (Vin-Vout)/R_S##  A\n",
    "# The value of I_L \n",
    "I_L= Vout/R_L##  A\n",
    "# The value of I_Z \n",
    "I_Z= I_S-I_L##  A\n",
    "I_S= I_S*10**3##  mA\n",
    "I_L= I_L*10**3##  mA\n",
    "I_Z= I_Z*10**3##  mA\n",
    "print \"The value of I_S = %.2f mA\"%I_S\n",
    "print \"The value of I_L = %.2f mA\"%I_L\n",
    "print \"The value of I_Z = %.2f mA\"%I_Z\n",
    "print \"(iv) For 800 Ω load resistance\"\n",
    "R_L= 800##  Ω\n",
    "# The value of I_S \n",
    "I_S= (Vin-Vout)/R_S##  A\n",
    "# The value of I_L \n",
    "I_L= Vout/R_L##  A\n",
    "# The value of I_Z \n",
    "I_Z= I_S-I_L##  A\n",
    "I_S= I_S*10**3##  mA\n",
    "I_L= I_L*10**3##  mA\n",
    "I_Z= I_Z*10**3##  mA\n",
    "print \"The value of I_S = %.2f mA\"%I_S\n",
    "print \"The value of I_L = %.2f mA\"%I_L\n",
    "print \"The value of I_Z = %.2f mA\"%I_Z\n",
    "print \"(v) For 1 kΩ load resistance\"\n",
    "R_L= 1*10**3##  Ω\n",
    "# The value of I_S \n",
    "I_S= (Vin-Vout)/R_S##  A\n",
    "# The value of I_L \n",
    "I_L= Vout/R_L##  A\n",
    "# The value of I_Z \n",
    "I_Z= I_S-I_L##  A\n",
    "I_S= I_S*10**3##  mA\n",
    "I_L= I_L*10**3##  mA\n",
    "I_Z= I_Z*10**3##  mA\n",
    "print \"The value of I_S = %.2f mA\"%I_S\n",
    "print \"The value of I_L = %.2f mA\"%I_L\n",
    "print \"The value of I_Z = %.2f mA\"%I_Z"
   ]
  },
  {
   "cell_type": "markdown",
   "metadata": {},
   "source": [
    "## Exa 3.10 Page No 73"
   ]
  },
  {
   "cell_type": "code",
   "execution_count": 12,
   "metadata": {
    "collapsed": false
   },
   "outputs": [
    {
     "name": "stdout",
     "output_type": "stream",
     "text": [
      "The output voltage = 12.34 V\n"
     ]
    }
   ],
   "source": [
    "# given data\n",
    "R_Z= 7.0##  Ω\n",
    "I_Z1=12.2##  mA\n",
    "I_Z2=60.2##  mA\n",
    "deltaV_Z=(I_Z2-I_Z1)*R_Z##  mV\n",
    "deltaV_Z= deltaV_Z*10**-3##  V\n",
    "Vz= 12##  V\n",
    "# The output voltage,\n",
    "Vout= Vz+deltaV_Z##  V\n",
    "print \"The output voltage = %.2f V\"%Vout"
   ]
  },
  {
   "cell_type": "markdown",
   "metadata": {},
   "source": [
    "## Exa 3.11 Page No 74"
   ]
  },
  {
   "cell_type": "code",
   "execution_count": 13,
   "metadata": {
    "collapsed": false
   },
   "outputs": [
    {
     "name": "stdout",
     "output_type": "stream",
     "text": [
      "The value of I_S = 15.00 mA\n",
      "The value of I_L = 12.00 mA\n",
      "The value of I_Z = 3.00 mA\n"
     ]
    }
   ],
   "source": [
    "# given data\n",
    "Vz= 12.0##  V\n",
    "Vin= 15.0##  V\n",
    "R_S= 200.0##  Ω\n",
    "R_L= 1*10**3##  Ω\n",
    "# The value of I_S \n",
    "I_S= (Vin-Vz)/R_S##  A\n",
    "# The value of I_L \n",
    "I_L= Vz/R_L##  A\n",
    "# The value of I_Z \n",
    "I_Z= I_S-I_L##  A\n",
    "I_S= I_S*10**3##  mA\n",
    "I_L= I_L*10**3##  mA\n",
    "I_Z= I_Z*10**3##  mA\n",
    "print \"The value of I_S = %.2f mA\"%I_S\n",
    "print \"The value of I_L = %.2f mA\"%I_L\n",
    "print \"The value of I_Z = %.2f mA\"%I_Z"
   ]
  },
  {
   "cell_type": "markdown",
   "metadata": {},
   "source": [
    "## Exa 3.12 Page No 75"
   ]
  },
  {
   "cell_type": "code",
   "execution_count": 15,
   "metadata": {
    "collapsed": false
   },
   "outputs": [
    {
     "name": "stdout",
     "output_type": "stream",
     "text": [
      "(i) For 15 V input voltage\n",
      "The value of I_S = 15.00 mA\n",
      "The value of I_L = 12.00 mA\n",
      "The value of I_Z = 3.00 mA\n",
      "(ii) For 20 V input voltage\n",
      "The value of I_S = 40.00 mA\n",
      "The value of I_L = 12.00 mA\n",
      "The value of I_Z = 28.00 mA\n",
      "(iii) For 25 V input voltage\n",
      "The value of I_S = 65.00 mA\n",
      "The value of I_L = 12.00 mA\n",
      "The value of I_Z = 53.00 mA\n",
      "(iv) For 30 V input voltage\n",
      "The value of I_S = 90.00 mA\n",
      "The value of I_L = 12.00 mA\n",
      "The value of I_Z = 78.00 mA\n",
      "(v) For 35 V input voltage\n",
      "The value of I_S = 115.00 mA\n",
      "The value of I_L = 12.00 mA\n",
      "The value of I_Z = 103.00 mA\n"
     ]
    }
   ],
   "source": [
    "# given data\n",
    "print \"(i) For 15 V input voltage\"\n",
    "Vin= 15.0##  V\n",
    "Vz= 12.0##  V\n",
    "R_S= 200.0##  Ω\n",
    "R_L= 1*10**3##  Ω\n",
    "# The value of I_S \n",
    "I_S= (Vin-Vz)/R_S##  A\n",
    "# The value of I_L \n",
    "I_L= Vz/R_L##  A\n",
    "# The value of I_Z \n",
    "I_Z= I_S-I_L##  A\n",
    "I_S= I_S*10**3##  mA\n",
    "I_L= I_L*10**3##  mA\n",
    "I_Z= I_Z*10**3##  mA\n",
    "print \"The value of I_S = %.2f mA\"%I_S\n",
    "print \"The value of I_L = %.2f mA\"%I_L\n",
    "print \"The value of I_Z = %.2f mA\"%I_Z\n",
    "print \"(ii) For 20 V input voltage\"\n",
    "Vin= 20##  V\n",
    "# The value of I_S \n",
    "I_S= (Vin-Vz)/R_S##  A\n",
    "# The value of I_L \n",
    "I_L= Vz/R_L##  A\n",
    "# The value of I_Z \n",
    "I_Z= I_S-I_L##  A\n",
    "I_S= I_S*10**3##  mA\n",
    "I_L= I_L*10**3##  mA\n",
    "I_Z= I_Z*10**3##  mA\n",
    "print \"The value of I_S = %.2f mA\"%I_S\n",
    "print \"The value of I_L = %.2f mA\"%I_L\n",
    "print \"The value of I_Z = %.2f mA\"%I_Z\n",
    "print \"(iii) For 25 V input voltage\"\n",
    "Vin= 25##  V\n",
    "# The value of I_S \n",
    "I_S= (Vin-Vz)/R_S##  A\n",
    "# The value of I_L \n",
    "I_L= Vz/R_L##  A\n",
    "# The value of I_Z \n",
    "I_Z= I_S-I_L##  A\n",
    "I_S= I_S*10**3##  mA\n",
    "I_L= I_L*10**3##  mA\n",
    "I_Z= I_Z*10**3##  mA\n",
    "print \"The value of I_S = %.2f mA\"%I_S\n",
    "print \"The value of I_L = %.2f mA\"%I_L\n",
    "print \"The value of I_Z = %.2f mA\"%I_Z\n",
    "print \"(iv) For 30 V input voltage\"\n",
    "Vin= 30##  V\n",
    "# The value of I_S \n",
    "I_S= (Vin-Vz)/R_S##  A\n",
    "# The value of I_L \n",
    "I_L= Vz/R_L##  A\n",
    "# The value of I_Z \n",
    "I_Z= I_S-I_L##  A\n",
    "I_S= I_S*10**3##  mA\n",
    "I_L= I_L*10**3##  mA\n",
    "I_Z= I_Z*10**3##  mA\n",
    "print \"The value of I_S = %.2f mA\"%I_S\n",
    "print \"The value of I_L = %.2f mA\"%I_L\n",
    "print \"The value of I_Z = %.2f mA\"%I_Z\n",
    "print \"(v) For 35 V input voltage\"\n",
    "Vin= 35##  V\n",
    "# The value of I_S \n",
    "I_S= (Vin-Vz)/R_S##  A\n",
    "# The value of I_L \n",
    "I_L= Vz/R_L##  A\n",
    "# The value of I_Z \n",
    "I_Z= I_S-I_L##  A\n",
    "I_S= I_S*10**3##  mA\n",
    "I_L= I_L*10**3##  mA\n",
    "I_Z= I_Z*10**3##  mA\n",
    "print \"The value of I_S = %.2f mA\"%I_S\n",
    "print \"The value of I_L = %.2f mA\"%I_L\n",
    "print \"The value of I_Z = %.2f mA\"%I_Z"
   ]
  }
 ],
 "metadata": {
  "kernelspec": {
   "display_name": "Python 2",
   "language": "python",
   "name": "python2"
  },
  "language_info": {
   "codemirror_mode": {
    "name": "ipython",
    "version": 2
   },
   "file_extension": ".py",
   "mimetype": "text/x-python",
   "name": "python",
   "nbconvert_exporter": "python",
   "pygments_lexer": "ipython2",
   "version": "2.7.9"
  }
 },
 "nbformat": 4,
 "nbformat_minor": 0
}
