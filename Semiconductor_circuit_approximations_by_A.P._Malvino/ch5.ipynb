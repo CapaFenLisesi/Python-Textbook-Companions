{
 "cells": [
  {
   "cell_type": "markdown",
   "metadata": {},
   "source": [
    "# Chapter 5 Bipolar Transistors"
   ]
  },
  {
   "cell_type": "markdown",
   "metadata": {},
   "source": [
    "## Example 5.1 Page No 125"
   ]
  },
  {
   "cell_type": "code",
   "execution_count": 1,
   "metadata": {
    "collapsed": false
   },
   "outputs": [
    {
     "name": "stdout",
     "output_type": "stream",
     "text": [
      "The dc voltage between the collector and emitter = 16.12 volts\n"
     ]
    }
   ],
   "source": [
    "# given data\n",
    "V_BB= 10##in V\n",
    "V_BE= 0.7##in V\n",
    "V_CC= 20##  V\n",
    "R_B= 1.5##  MΩ\n",
    "R_B= R_B*10**6##in Ω\n",
    "R_C= 5*10**3##in Ω\n",
    "bita= 125## unit less\n",
    "I_B= (V_BB-V_BE)/R_B##in A\n",
    "I_C= bita*I_B##in A\n",
    "# The dc voltage between the collector and emitter \n",
    "V_CE= V_CC-I_C*R_C##in V\n",
    "print \"The dc voltage between the collector and emitter = %.2f volts\"%V_CE"
   ]
  },
  {
   "cell_type": "markdown",
   "metadata": {},
   "source": [
    "## Example 5.2 Page No 125"
   ]
  },
  {
   "cell_type": "code",
   "execution_count": 3,
   "metadata": {
    "collapsed": false
   },
   "outputs": [
    {
     "data": {
      "image/png": "[encoded data removed]",
      "text/plain": [
       "<matplotlib.figure.Figure at 0x7fddb9364090>"
      ]
     },
     "metadata": {},
     "output_type": "display_data"
    }
   ],
   "source": [
    "from numpy import arange\n",
    "%matplotlib inline\n",
    "from matplotlib.pyplot import plot,xlabel,ylabel,title,show\n",
    "# given data\n",
    "V_CC= 30##  V\n",
    "R_C= 1.5##in kΩ\n",
    "Ver_intercept= V_CC/R_C##in mA\n",
    "Hor_intercept= V_CC##  V\n",
    "V_CE= arange(0,0.1+Hor_intercept,0.1) #V\n",
    "I_C= [(V_CC-VCE)/R_C for VCE in V_CE] ##  mA\n",
    "# DC load line\n",
    "plot(V_CE,I_C)\n",
    "xlabel(\"V_CE in volts\")\n",
    "ylabel(\"I_C in mA\")\n",
    "title(\"DC load line\")\n",
    "show()"
   ]
  },
  {
   "cell_type": "markdown",
   "metadata": {},
   "source": [
    "## Example 5.3 Page No 126"
   ]
  },
  {
   "cell_type": "code",
   "execution_count": 4,
   "metadata": {
    "collapsed": false
   },
   "outputs": [
    {
     "name": "stdout",
     "output_type": "stream",
     "text": [
      "The value of I_C = 6.01 mA\n",
      "The value of V_CE = 20.98 volts\n"
     ]
    }
   ],
   "source": [
    "# given data\n",
    "V_BE= 0.7##in V\n",
    "V_CC= 30##  V\n",
    "R_B= 390##  kΩ\n",
    "R_B= R_B*10**3##in Ω\n",
    "R_C= 1.5*10**3##in Ω\n",
    "bita= 80## unit less\n",
    "I_B= (V_CC-V_BE)/R_B##in A\n",
    "# The collector current,\n",
    "I_C= bita*I_B##in A\n",
    "# The value of V_CE\n",
    "V_CE= V_CC-I_C*R_C##in V\n",
    "I_C= I_C*10**3##  mA\n",
    "print \"The value of I_C = %.2f mA\"%I_C\n",
    "print \"The value of V_CE = %.2f volts\"%V_CE"
   ]
  },
  {
   "cell_type": "markdown",
   "metadata": {},
   "source": [
    "## Example 5.4 Page No 126"
   ]
  },
  {
   "cell_type": "code",
   "execution_count": 6,
   "metadata": {
    "collapsed": false
   },
   "outputs": [
    {
     "name": "stdout",
     "output_type": "stream",
     "text": [
      "The LED current = 18.00 mA\n",
      "The value of Vin = 6.34 volts\n"
     ]
    }
   ],
   "source": [
    "# given data\n",
    "V_BE= 0.7##  V\n",
    "V_LED= 2.0##in V\n",
    "V_CC= 20##  V\n",
    "R_B= 47##  kΩ\n",
    "R_B= R_B*10**3##in Ω\n",
    "R_C= 1*10**3##in Ω\n",
    "bita= 150## unit less\n",
    "# The LED current\n",
    "I_LED= (V_CC-V_LED)/R_C##  A\n",
    "I_Csat= I_LED##  A\n",
    "I_Bsat= I_Csat/bita##  A\n",
    "# The input voltage,\n",
    "V_IN= I_Bsat*R_B+V_BE##in V\n",
    "I_LED= I_LED*10**3##  mA\n",
    "print \"The LED current = %.2f mA\"%I_LED\n",
    "print \"The value of Vin = %.2f volts\"%V_IN"
   ]
  },
  {
   "cell_type": "markdown",
   "metadata": {},
   "source": [
    "## Example 5.5 Page No 129"
   ]
  },
  {
   "cell_type": "code",
   "execution_count": 8,
   "metadata": {
    "collapsed": false
   },
   "outputs": [
    {
     "name": "stdout",
     "output_type": "stream",
     "text": [
      "The collector voltage = 22.56 volts\n"
     ]
    }
   ],
   "source": [
    "# given data\n",
    "Vz= 10##  V\n",
    "V_BE= 0.7##  V\n",
    "V_CC= 30.0##  V\n",
    "R_E= 5##  kΩ\n",
    "R_E= R_E*10**3##in Ω\n",
    "R_C= 4##  kΩ\n",
    "R_C= R_C*10**3##in Ω\n",
    "V_E= Vz-V_BE##  V\n",
    "I_E= V_E/R_E##  A\n",
    "I_C= I_E##  A\n",
    "# The collector voltage\n",
    "V_C= V_CC-I_C*R_C##  V\n",
    "print \"The collector voltage = %.2f volts\"%V_C"
   ]
  },
  {
   "cell_type": "markdown",
   "metadata": {},
   "source": [
    "## Example 5.6 Page No 130"
   ]
  },
  {
   "cell_type": "code",
   "execution_count": 10,
   "metadata": {
    "collapsed": false
   },
   "outputs": [
    {
     "name": "stdout",
     "output_type": "stream",
     "text": [
      "The collector voltage = 18.40 volts\n"
     ]
    }
   ],
   "source": [
    "# given data\n",
    "V_BE= 0.7##  V\n",
    "R2= 1*10**3##in Ω\n",
    "R1= 3.9*10**3##in Ω\n",
    "R_E= 100##  Ω\n",
    "R_C= 150##  kΩ\n",
    "V_CC= 25.0##  V\n",
    "Vz= R2*V_CC/(R1+R2)##  V\n",
    "V_E= Vz-V_BE##  V\n",
    "I_E= V_E/R_E##  A\n",
    "I_C= I_E##  A\n",
    "# The collector voltage \n",
    "V_C= V_CC-I_C*R_C##  V\n",
    "print \"The collector voltage = %.2f volts\"%V_C"
   ]
  },
  {
   "cell_type": "markdown",
   "metadata": {},
   "source": [
    "## Example 5.7 Page No 130"
   ]
  },
  {
   "cell_type": "code",
   "execution_count": 11,
   "metadata": {
    "collapsed": false
   },
   "outputs": [
    {
     "name": "stdout",
     "output_type": "stream",
     "text": [
      "In the first stage the collector voltage = 12.85 volts\n",
      "In the second stage the collector voltage = 10.09 volts\n"
     ]
    }
   ],
   "source": [
    "# given data\n",
    "R_E= 2*10**3##  Ω\n",
    "R_C= 1*10**3##  kΩ\n",
    "V_E= 4.3##in V\n",
    "V_CC= 15.0##  V\n",
    "I_E= V_E/R_E##  A\n",
    "I_C= I_E##in A\n",
    "# = %.2f the first stage the collector voltage \n",
    "V_C= V_CC-I_C*R_C##  A\n",
    "print \"In the first stage the collector voltage = %.2f volts\"%V_C\n",
    "# Second stage\n",
    "V_E= 2.3##  V\n",
    "R_E= 220##  Ω\n",
    "R_C= 470##  Ω\n",
    "I_E= V_E/R_E##  A\n",
    "I_C= I_E##in A\n",
    "# = %.2f the second stage the collector voltage \n",
    "V_C= V_CC-I_C*R_C##  A\n",
    "print \"In the second stage the collector voltage = %.2f volts\"%V_C\n",
    "\n",
    "# Note : In the book, the calculated value of collector voltage in first stage is not accurate."
   ]
  },
  {
   "cell_type": "markdown",
   "metadata": {},
   "source": [
    "## Example 5.8 Page No 133"
   ]
  },
  {
   "cell_type": "code",
   "execution_count": 12,
   "metadata": {
    "collapsed": false
   },
   "outputs": [
    {
     "name": "stdout",
     "output_type": "stream",
     "text": [
      "The minimum value of collector current = 0.98 mA\n",
      "The maximum value of collector current = 2.93 mA\n"
     ]
    }
   ],
   "source": [
    "# given data\n",
    "V_BE= 0.7##in V\n",
    "V_CC= 30##  V\n",
    "R_B= 3*10**6##  Ω\n",
    "bitamin= 100## unit less\n",
    "bitamax= 300## unit less\n",
    "I_B= (V_CC-V_BE)/R_B##  A\n",
    "# The minimum value of collector current \n",
    "I_Cmin= bitamin*I_B##  A\n",
    "# The maximum value of collector current \n",
    "I_Cmax= bitamax*I_B##  A\n",
    "I_Cmin= I_Cmin*10**3##  mA\n",
    "I_Cmax= I_Cmax*10**3##  mA\n",
    "print \"The minimum value of collector current = %.2f mA\"%I_Cmin\n",
    "print \"The maximum value of collector current = %.2f mA\"%I_Cmax"
   ]
  },
  {
   "cell_type": "markdown",
   "metadata": {},
   "source": [
    "##  Example 5.9 Page No 139"
   ]
  },
  {
   "cell_type": "code",
   "execution_count": 13,
   "metadata": {
    "collapsed": false
   },
   "outputs": [
    {
     "name": "stdout",
     "output_type": "stream",
     "text": [
      "The value of I_C = 9.33 mA\n",
      "The value of V_CE = 5.58 volts\n"
     ]
    }
   ],
   "source": [
    "# given data\n",
    "V_BE= 0.7##in V\n",
    "V_CC= 15##  V\n",
    "R_E= 100##  Ω\n",
    "R_C= 910##  Ω\n",
    "R_B= 430*10**3##  Ω\n",
    "bita= 300## unit less\n",
    "# The collector current,\n",
    "I_C= (V_CC-V_BE)/(R_E+R_B/bita)##  A\n",
    "I_C= I_C*10**3##  mA\n",
    "print \"The value of I_C = %.2f mA\"%I_C\n",
    "I_C= I_C*10**-3##  A\n",
    "# The collector to emitter voltage,\n",
    "V_CE= V_CC-I_C*(R_C+R_E)##  V\n",
    "print \"The value of V_CE = %.2f volts\"%V_CE"
   ]
  },
  {
   "cell_type": "markdown",
   "metadata": {},
   "source": [
    "## Example 5.10 Page No  140"
   ]
  },
  {
   "cell_type": "code",
   "execution_count": 14,
   "metadata": {
    "collapsed": false
   },
   "outputs": [
    {
     "name": "stdout",
     "output_type": "stream",
     "text": [
      "The value of I_C = 8.58 mA\n",
      "The value of V_CE = 6.42 volts\n"
     ]
    }
   ],
   "source": [
    "# given data\n",
    "V_BE= 0.7##in V\n",
    "V_CC= 15##  V\n",
    "R_C= 1*10**3##  Ω\n",
    "R_B= 200*10**3##  Ω\n",
    "bita= 300## unit less\n",
    "# The collector current,\n",
    "I_C= (V_CC-V_BE)/(R_C+R_B/bita)##  A\n",
    "I_C=I_C*10**3##  mA\n",
    "print \"The value of I_C = %.2f mA\"%I_C\n",
    "I_C=I_C*10**-3##  A\n",
    "# The collector to emitter voltage,\n",
    "V_CE= V_CC-I_C*R_C##  V\n",
    "print \"The value of V_CE = %.2f volts\"%V_CE"
   ]
  },
  {
   "cell_type": "markdown",
   "metadata": {},
   "source": [
    "## Example 5.11 Page No 140"
   ]
  },
  {
   "cell_type": "code",
   "execution_count": 15,
   "metadata": {
    "collapsed": false
   },
   "outputs": [
    {
     "name": "stdout",
     "output_type": "stream",
     "text": [
      "The value of I_C = 1.43 mA\n",
      "The value of V_CE = 8.41 volts\n"
     ]
    }
   ],
   "source": [
    "# given data\n",
    "V_BE= 0.7##in V\n",
    "V_CC= 15##  V\n",
    "V_EE= 15##  V\n",
    "R_E= 10*10**3##  Ω\n",
    "R_C= 5.1*10**3##  Ω\n",
    "I_E= (V_EE-V_BE)/R_E##  A\n",
    "# The collector current,\n",
    "I_C= I_E##  A\n",
    "V_C= V_CC-I_C*R_C##  A\n",
    "V_E= -V_BE##  V\n",
    "V_CE= V_C-V_E##  V\n",
    "# The collector to emitter voltage,\n",
    "V_CE= V_CC+V_EE-I_C*(R_C+R_E)\n",
    "I_C= I_C*10**3##  mA\n",
    "print \"The value of I_C = %.2f mA\"%I_C\n",
    "print \"The value of V_CE = %.2f volts\"%V_CE"
   ]
  },
  {
   "cell_type": "markdown",
   "metadata": {},
   "source": [
    "## Example 5.12 Page No 142"
   ]
  },
  {
   "cell_type": "code",
   "execution_count": 16,
   "metadata": {
    "collapsed": false
   },
   "outputs": [
    {
     "name": "stdout",
     "output_type": "stream",
     "text": [
      "For first stage the collector voltage to ground = 22.93 volts\n",
      "For second stage the collector voltage to ground = 13.95 volts\n"
     ]
    }
   ],
   "source": [
    "# given data\n",
    "V_BE= 0.7##in V\n",
    "V_CC= 30##  V\n",
    "Vz= 6##  V\n",
    "R_E= 3*10**3##  Ω\n",
    "R_C= 4*10**3##  Ω\n",
    "I_E= (Vz-V_BE)/R_E##  A\n",
    "I_C= I_E##  A\n",
    "# For first stage the collector voltage to ground \n",
    "V_C= V_CC-I_C*R_C##  v\n",
    "print \"For first stage the collector voltage to ground = %.2f volts\"%V_C\n",
    "Vz= 10##  V\n",
    "R_E= 2*10**3##in Ω\n",
    "R_C= 3*10**3##  Ω\n",
    "I_E= (Vz-V_BE)/R_E##  A\n",
    "I_C= I_E##  A\n",
    "# For second stage the collector voltage to ground \n",
    "V_C= I_C*R_C##  v\n",
    "print \"For second stage the collector voltage to ground = %.2f volts\"%V_C"
   ]
  }
 ],
 "metadata": {
  "kernelspec": {
   "display_name": "Python 2",
   "language": "python",
   "name": "python2"
  },
  "language_info": {
   "codemirror_mode": {
    "name": "ipython",
    "version": 2
   },
   "file_extension": ".py",
   "mimetype": "text/x-python",
   "name": "python",
   "nbconvert_exporter": "python",
   "pygments_lexer": "ipython2",
   "version": "2.7.9"
  }
 },
 "nbformat": 4,
 "nbformat_minor": 0
}
