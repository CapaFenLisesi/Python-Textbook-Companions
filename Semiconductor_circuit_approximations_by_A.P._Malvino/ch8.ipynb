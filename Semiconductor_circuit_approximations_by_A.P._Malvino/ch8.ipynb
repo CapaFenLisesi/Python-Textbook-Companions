{
 "cells": [
  {
   "cell_type": "markdown",
   "metadata": {},
   "source": [
    "# Chapter 8 Common-Base Approximations"
   ]
  },
  {
   "cell_type": "markdown",
   "metadata": {},
   "source": [
    "## Example 8.1 Page No 209"
   ]
  },
  {
   "cell_type": "code",
   "execution_count": 1,
   "metadata": {
    "collapsed": false
   },
   "outputs": [
    {
     "name": "stdout",
     "output_type": "stream",
     "text": [
      "The value of V_CB = 20.35 volts\n"
     ]
    }
   ],
   "source": [
    "# given data\n",
    "V_EE= 10##  V\n",
    "V_BE= 0.7##  V\n",
    "R_E= 20*10**3##  Ω\n",
    "V_CC= 25##  V\n",
    "R_C= 10*10**3##  Ω\n",
    "# The emitter current\n",
    "I_E= (V_EE-V_BE)/R_E##  A\n",
    "I_C= I_E##  A\n",
    "# The collector to base voltage,\n",
    "V_CB= V_CC-I_C*R_C##  V\n",
    "print \"The value of V_CB = %.2f volts\"%V_CB"
   ]
  },
  {
   "cell_type": "markdown",
   "metadata": {},
   "source": [
    "## Example 8.2 Page No 209"
   ]
  },
  {
   "cell_type": "code",
   "execution_count": 2,
   "metadata": {
    "collapsed": false
   },
   "outputs": [
    {
     "name": "stdout",
     "output_type": "stream",
     "text": [
      "The value of V_CB = 1.28 volts\n"
     ]
    }
   ],
   "source": [
    "# given data\n",
    "V_EE= 12##  V\n",
    "V_BE= 0.7##  V\n",
    "R_E= 5.6*10**3##  Ω\n",
    "V_CC= 15##  V\n",
    "R_C= 6.8*10**3##  Ω\n",
    "# The emitter current,\n",
    "I_E= (V_EE-V_BE)/R_E##  A\n",
    "I_C= I_E##  A\n",
    "# The collector to base voltage\n",
    "V_CB= V_CC-I_C*R_C##  V\n",
    "print \"The value of V_CB = %.2f volts\"%V_CB\n",
    "\n",
    "# Note : The answer in the book is not accurate."
   ]
  },
  {
   "cell_type": "markdown",
   "metadata": {},
   "source": [
    "## Example 8.3 Page No 211"
   ]
  },
  {
   "cell_type": "code",
   "execution_count": 3,
   "metadata": {
    "collapsed": false
   },
   "outputs": [
    {
     "name": "stdout",
     "output_type": "stream",
     "text": [
      "The output voltage = 390.00 mV\n"
     ]
    }
   ],
   "source": [
    "# given data\n",
    "V_EE= 15##  V\n",
    "V_BE= 0.7##  V\n",
    "R_E= 22*10**3##  Ω\n",
    "Vin= 2*10**-3##  V\n",
    "V= 25*10**-3##  V\n",
    "R1= 10*10**3##  Ω\n",
    "R2= 30*10**3##  Ω\n",
    "I_E= (V_EE-V_BE)/R_E##  A\n",
    "# The ac resistance of emitter diode,\n",
    "r_desh_e= V/I_E##  Ω\n",
    "r_L= R1*R2/(R1+R2)##  Ω\n",
    "# The voltage gain\n",
    "A= r_L/r_desh_e#\n",
    "# The output voltage \n",
    "Vout= A*Vin##  V\n",
    "Vout= Vout*10**3##  mV\n",
    "print \"The output voltage = %.2f mV\"%Vout"
   ]
  },
  {
   "cell_type": "markdown",
   "metadata": {},
   "source": [
    "## Example 8.4 Page No 212"
   ]
  },
  {
   "cell_type": "code",
   "execution_count": 4,
   "metadata": {
    "collapsed": false
   },
   "outputs": [
    {
     "name": "stdout",
     "output_type": "stream",
     "text": [
      "The output voltage = 8.72 mV\n"
     ]
    }
   ],
   "source": [
    "# given data\n",
    "V_EE= 10##  V\n",
    "V_BE= 0.7##  V\n",
    "R_E= 6.8*10**3##  Ω\n",
    "Rs= 100##  Ω\n",
    "R1= 3.3*10**3##  Ω\n",
    "R2= 1.5*10**3##  Ω\n",
    "V= 25*10**-3##  V\n",
    "Vs= 1*10**-3##  V\n",
    "I_E= (V_EE-V_BE)/R_E##  A\n",
    "r_desh_e= V/I_E##  Ω\n",
    "Zin= r_desh_e##  Ω\n",
    "# The input voltage to the emitter,\n",
    "Vin= Zin*Vs/(Rs+Zin)##  V\n",
    "r_L= R1*R2/(R1+R2)##  Ω\n",
    "# The voltage gain,\n",
    "A= r_L/r_desh_e#\n",
    "# The output voltage \n",
    "Vout= A*Vin##  V\n",
    "Vout= Vout*10**3##  mV\n",
    "print \"The output voltage = %.2f mV\"%Vout"
   ]
  }
 ],
 "metadata": {
  "kernelspec": {
   "display_name": "Python 2",
   "language": "python",
   "name": "python2"
  },
  "language_info": {
   "codemirror_mode": {
    "name": "ipython",
    "version": 2
   },
   "file_extension": ".py",
   "mimetype": "text/x-python",
   "name": "python",
   "nbconvert_exporter": "python",
   "pygments_lexer": "ipython2",
   "version": "2.7.9"
  }
 },
 "nbformat": 4,
 "nbformat_minor": 0
}
