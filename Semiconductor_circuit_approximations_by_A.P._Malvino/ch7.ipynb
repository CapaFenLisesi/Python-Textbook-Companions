{
 "cells": [
  {
   "cell_type": "markdown",
   "metadata": {},
   "source": [
    "# Chapter 7 Common-Collector Approximations"
   ]
  },
  {
   "cell_type": "markdown",
   "metadata": {},
   "source": [
    "## Example 7.1 Page No 183"
   ]
  },
  {
   "cell_type": "code",
   "execution_count": 3,
   "metadata": {
    "collapsed": false
   },
   "outputs": [
    {
     "name": "stdout",
     "output_type": "stream",
     "text": [
      "Q-point = (5.70V,10.00mA)\n",
      "DC load line shown in figure\n"
     ]
    },
    {
     "data": {
      "image/png": "[encoded data removed]",
      "text/plain": [
       "<matplotlib.figure.Figure at 0x7f83366aa1d0>"
      ]
     },
     "metadata": {},
     "output_type": "display_data"
    }
   ],
   "source": [
    "from numpy import arange\n",
    "%matplotlib inline\n",
    "from matplotlib.pyplot import show,title,ylabel,xlabel,plot\n",
    "# given data\n",
    "V_CC= 10##  V\n",
    "R_E= 430##  Ω\n",
    "V_BE= 0.7##in V\n",
    "V_B= 5##in V\n",
    "# The collector saturation current,\n",
    "I_Csat= V_CC/R_E##  A\n",
    "# The collector emitter voltage,\n",
    "V_CEcutoff= V_CC##  V\n",
    "# The collector current,\n",
    "I_C= (V_B-V_BE)/R_E##  A\n",
    "# The collector emitter voltage,\n",
    "V_CE= V_CC-(V_B-V_BE)##  V\n",
    "I_C= I_C*10**3##  mA\n",
    "print \"Q-point = (%.2fV,%.2fmA)\"%(V_CE,I_C)\n",
    "print \"DC load line shown in figure\"\n",
    "I_C= I_C*10**-3##  A\n",
    "V_CE= arange(0,0.1+V_CEcutoff,0.1) #  V\n",
    "I_C= (V_CC-V_CE)/R_E*10**3##  mA\n",
    "# The plot of DC load line\n",
    "plot(V_CE,I_C)#\n",
    "xlabel(\"V_CE in volts\")\n",
    "ylabel(\"I_C in mA\")\n",
    "title(\"DC load line\")\n",
    "show()"
   ]
  },
  {
   "cell_type": "markdown",
   "metadata": {},
   "source": [
    " ## Example 7.2 Page No 184"
   ]
  },
  {
   "cell_type": "code",
   "execution_count": 4,
   "metadata": {
    "collapsed": false
   },
   "outputs": [
    {
     "name": "stdout",
     "output_type": "stream",
     "text": [
      "The output voltage = 99.17 mV\n"
     ]
    }
   ],
   "source": [
    "# given data\n",
    "Vin= 100##  mV\n",
    "Vin= Vin*10**-3##  V\n",
    "R_E= 430##  Ω\n",
    "R_L= 1*10**3##  Ω\n",
    "r_e= 2.5##  Ω\n",
    "# The ac load resistance,\n",
    "r_L= R_E*R_L/(R_E+R_L)##  Ω\n",
    "A= r_L/(r_L+r_e)## unit less\n",
    "# The output voltage \n",
    "Vout= A*Vin##  V\n",
    "Vout= Vout*10**3##  mV\n",
    "print \"The output voltage = %.2f mV\"%Vout"
   ]
  },
  {
   "cell_type": "markdown",
   "metadata": {},
   "source": [
    "## Example 7.3 Page No 186"
   ]
  },
  {
   "cell_type": "code",
   "execution_count": 6,
   "metadata": {
    "collapsed": false
   },
   "outputs": [
    {
     "name": "stdout",
     "output_type": "stream",
     "text": [
      "The voltge gain = 0.97\n",
      "The input impedence = 3.85 kΩ\n"
     ]
    }
   ],
   "source": [
    "# given data\n",
    "R_E= 430##  Ω\n",
    "R_L= 100##  Ω\n",
    "R1= 10*10**3##  Ω\n",
    "R2= 10*10**3##  Ω\n",
    "bita= 200## unit less\n",
    "r_e= 2.5##  Ω\n",
    "r_L= R_E*R_L/(R_E+R_L)##  Ω\n",
    "# The voltge gain \n",
    "A= r_L/(r_L+r_e)#\n",
    "print \"The voltge gain = %.2f\"%A\n",
    "Zin_base= bita*(r_L+r_e)##  Ω\n",
    "# The input impedence \n",
    "Zin= R1*R2*Zin_base/(R1*R2+R2*Zin_base+Zin_base*R1)##  Ω\n",
    "Zin= Zin*10**-3##  k ohm\n",
    "print \"The input impedence = %.2f kΩ\"%Zin"
   ]
  },
  {
   "cell_type": "markdown",
   "metadata": {},
   "source": [
    "## Example 7.4 Page No 187"
   ]
  },
  {
   "cell_type": "code",
   "execution_count": 7,
   "metadata": {
    "collapsed": false
   },
   "outputs": [
    {
     "name": "stdout",
     "output_type": "stream",
     "text": [
      "The power gain = 194.01\n"
     ]
    }
   ],
   "source": [
    "# given data\n",
    "R_E= 430##  Ω\n",
    "R_L= 100##  Ω\n",
    "R1= 10*10**3##  Ω\n",
    "R2= 10*10**3##  Ω\n",
    "bita= 200#\n",
    "r_e= 2.5##  Ω\n",
    "# The load resistance\n",
    "r_L= R_E*R_L/(R_E+R_L)##  Ω\n",
    "# The power gain \n",
    "G= bita*r_L/(r_L+r_e)#\n",
    "print \"The power gain = %.2f\"%G"
   ]
  },
  {
   "cell_type": "markdown",
   "metadata": {},
   "source": [
    "## Example 7.5 Page No 191"
   ]
  },
  {
   "cell_type": "code",
   "execution_count": 8,
   "metadata": {
    "collapsed": false
   },
   "outputs": [
    {
     "name": "stdout",
     "output_type": "stream",
     "text": [
      "The ac output voltage = 33.33 mV\n"
     ]
    }
   ],
   "source": [
    "# given data\n",
    "R_C= 5*10**3##  Ω\n",
    "r_e= 25##  Ω\n",
    "Vin= 1*10**-3##  V\n",
    "R_L= 1*10**3##  Ω\n",
    "A= R_C/r_e#\n",
    "# Thevenin voltage,\n",
    "V_TH= A*Vin##  V\n",
    "# The ac output voltage \n",
    "Vout= R_L*V_TH/(R_C+R_L)##  V\n",
    "Vout= Vout*10**3##  mV\n",
    "print \"The ac output voltage = %.2f mV\"%Vout"
   ]
  },
  {
   "cell_type": "markdown",
   "metadata": {},
   "source": [
    "## Example 7.7 Page No 194"
   ]
  },
  {
   "cell_type": "code",
   "execution_count": 9,
   "metadata": {
    "collapsed": false
   },
   "outputs": [
    {
     "name": "stdout",
     "output_type": "stream",
     "text": [
      "The ac output voltage = 183.21 mV\n"
     ]
    }
   ],
   "source": [
    "# given data\n",
    "V_B= 1.8##  V\n",
    "V_E= 1.1##  V\n",
    "V_TH= 200*10**-3##  V\n",
    "I_E= 1*10**-3##  A\n",
    "r_e= 2.5##in Ω\n",
    "bita=200#\n",
    "V_CC= 10##  V\n",
    "R_C= 5*10**3##  Ω\n",
    "R_E= 430##  Ω\n",
    "R_L= 1*10**3##in Ω\n",
    "I_C= I_E##  A\n",
    "# The collector voltage,\n",
    "V_C= V_CC-I_C*R_C##  V\n",
    "V_E= 4.3##  V\n",
    "# The emitter current,\n",
    "I_E= V_E/R_E##  A\n",
    "# The base current,\n",
    "I_B= I_E/bita##  A\n",
    "# The load resistance,\n",
    "r_L= R_E*R_L/(R_E+R_L)##  Ω\n",
    "Zin= bita*(r_L+r_e)##  Ω\n",
    "Vin= Zin*V_TH/(R_C+Zin)##  V\n",
    "# The ac output voltage\n",
    "Vout= r_L*Vin/(r_L+r_e)##in V\n",
    "Vout= Vout*10**3##  mV\n",
    "print \"The ac output voltage = %.2f mV\"%Vout"
   ]
  },
  {
   "cell_type": "markdown",
   "metadata": {},
   "source": [
    "## Example 7.9 Page No 199"
   ]
  },
  {
   "cell_type": "code",
   "execution_count": 10,
   "metadata": {
    "collapsed": false
   },
   "outputs": [
    {
     "name": "stdout",
     "output_type": "stream",
     "text": [
      "The value of r''e2 = 2.50 Ω\n",
      "The value of r''e1 = 250.00 Ω\n"
     ]
    }
   ],
   "source": [
    "# given data\n",
    "R1= 100##in kΩ\n",
    "R2= 100##in kΩ\n",
    "R3= 360##in Ω\n",
    "bita= 100#\n",
    "V1= 5##  V\n",
    "v1= 1.4##  V\n",
    "v2= 25##  mV\n",
    "# Voltage at first base\n",
    "V2= R1/R2*V1##  V\n",
    "# Emitter current = %.2f second transistor\n",
    "I_E2= (V2-v1)/R3##  A\n",
    "I_E2= I_E2*10**3##  mA\n",
    "# Resistance of second emitter diode,\n",
    "r_desh_e2= v2/I_E2##  Ω\n",
    "# Base current\n",
    "I_B2= I_E2/bita##  mA \n",
    "# Emitter current,\n",
    "I_E1= I_B2##  mA\n",
    "# First emitter diode resistance\n",
    "r_desh_e1= v2/I_E1##  Ω\n",
    "print \"The value of r''e2 = %.2f Ω\"%r_desh_e2\n",
    "print \"The value of r''e1 = %.2f Ω\"%r_desh_e1"
   ]
  },
  {
   "cell_type": "markdown",
   "metadata": {},
   "source": [
    "## Example 7.10 Page No 200"
   ]
  },
  {
   "cell_type": "code",
   "execution_count": 11,
   "metadata": {
    "collapsed": false
   },
   "outputs": [
    {
     "name": "stdout",
     "output_type": "stream",
     "text": [
      "The input impedence = 49.09 kΩ\n"
     ]
    }
   ],
   "source": [
    "# given data\n",
    "R_E= 360##  Ω\n",
    "R_L= 1*10**3##  Ω\n",
    "R1= 100*10**3##in Ω\n",
    "R2= 100*10**3##in Ω\n",
    "r_desh_e1= 250##  Ω\n",
    "r_desh_e2= 2.5##  Ω\n",
    "h_FE= 100#\n",
    "h_fe= 100#\n",
    "# The load resistance,\n",
    "r_L= R_E*R_L/(R_E+R_L)##  Ω\n",
    "Zin1= h_FE*h_fe*r_L##  Ω\n",
    "Zin= R1*R2*Zin1/(R1*R2+R2*Zin1+Zin1*R1)##  Ω\n",
    "Zin2= h_FE*(r_L+r_desh_e2)##  Ω\n",
    "Zin1= h_FE*(Zin2+r_desh_e1)##  Ω\n",
    "# The input impedence \n",
    "Zin= R1*R2*Zin1/(R1*R2+R2*Zin1+Zin1*R1)##  Ω\n",
    "Zin= Zin*10**-3##  k ohm\n",
    "print \"The input impedence = %.2f kΩ\"%Zin"
   ]
  },
  {
   "cell_type": "markdown",
   "metadata": {},
   "source": [
    "## Example 7.11 Page No 203"
   ]
  },
  {
   "cell_type": "code",
   "execution_count": 12,
   "metadata": {
    "collapsed": false
   },
   "outputs": [
    {
     "name": "stdout",
     "output_type": "stream",
     "text": [
      "The current through the zener diode = -7.75 mA\n",
      "The transistor power dissipation = 6.63 watt\n"
     ]
    }
   ],
   "source": [
    "# given data\n",
    "Vin= 20##  V\n",
    "Vz= 10##  V\n",
    "Rs= 680##  Ω\n",
    "V_BE= 0.7##  V\n",
    "R_L= 15##  Ω\n",
    "bita= 80#\n",
    "Is= (Vin-Vz)/Rs##  A\n",
    "Vout= Vz-V_BE##  V\n",
    "I_E= Vout/R_L##  A\n",
    "I_L= I_E##  A\n",
    "I_B= I_E/bita##  A\n",
    "# The current through the zener diode \n",
    "Iz= Is-I_B##  A\n",
    "V_CE= Vin-Vout##  V\n",
    "# The transistor power dissipation \n",
    "Po= I_L*(Vin-Vout)##  W\n",
    "Iz= Iz*10**3##  mA\n",
    "print \"The current through the zener diode = %.2f mA\"%Iz\n",
    "print \"The transistor power dissipation = %.2f watt\"%Po"
   ]
  }
 ],
 "metadata": {
  "kernelspec": {
   "display_name": "Python 2",
   "language": "python",
   "name": "python2"
  },
  "language_info": {
   "codemirror_mode": {
    "name": "ipython",
    "version": 2
   },
   "file_extension": ".py",
   "mimetype": "text/x-python",
   "name": "python",
   "nbconvert_exporter": "python",
   "pygments_lexer": "ipython2",
   "version": "2.7.9"
  }
 },
 "nbformat": 4,
 "nbformat_minor": 0
}
