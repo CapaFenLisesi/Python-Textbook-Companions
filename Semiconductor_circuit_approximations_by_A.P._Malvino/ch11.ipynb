{
 "cells": [
  {
   "cell_type": "markdown",
   "metadata": {},
   "source": [
    "# Chapter 11 More Amplifier Theory"
   ]
  },
  {
   "cell_type": "markdown",
   "metadata": {},
   "source": [
    "## Example 11.1 Page No 274"
   ]
  },
  {
   "cell_type": "code",
   "execution_count": 1,
   "metadata": {
    "collapsed": false
   },
   "outputs": [
    {
     "name": "stdout",
     "output_type": "stream",
     "text": [
      "The closed loop voltage gain = 47.81\n"
     ]
    }
   ],
   "source": [
    "# given data\n",
    "r_F= 220##  Ω\n",
    "r_E= 4.7##in Ω\n",
    "# The closed loop voltage gain \n",
    "A_CL= r_F/r_E+1#\n",
    "print \"The closed loop voltage gain = %.2f\"%A_CL"
   ]
  },
  {
   "cell_type": "markdown",
   "metadata": {},
   "source": [
    "## Example 11.2 Page No 287"
   ]
  },
  {
   "cell_type": "code",
   "execution_count": 3,
   "metadata": {
    "collapsed": false
   },
   "outputs": [
    {
     "name": "stdout",
     "output_type": "stream",
     "text": [
      "The value of alpha = 0.99\n",
      "The value of r''e = 29.17 Ω\n",
      "The value of r''c = 14.12 MΩ\n"
     ]
    }
   ],
   "source": [
    "# given data\n",
    "h_ie= 3.5*10**3##in Ω\n",
    "h_fe= 120.0#\n",
    "h_re= 1.3*10**-4#\n",
    "h_oe= 8.5*10**-6##  S\n",
    "bita= h_fe## unit less\n",
    "# The value of alpha \n",
    "alpha= h_fe/(h_fe+1)#\n",
    "print \"The value of alpha = %.2f\"%alpha\n",
    "# The value of r'e\n",
    "r_desh_e= h_ie/h_fe##  Ω\n",
    "r_desh_c= h_fe/h_oe##  Ω\n",
    "print \"The value of r''e = %.2f Ω\"%r_desh_e\n",
    "# The value of r'c\n",
    "r_desh_c= r_desh_c*10**-6##  Mohm\n",
    "print \"The value of r''c = %.2f MΩ\"%r_desh_c"
   ]
  },
  {
   "cell_type": "markdown",
   "metadata": {},
   "source": [
    "## Example 11.3 Page No 288"
   ]
  },
  {
   "cell_type": "code",
   "execution_count": 4,
   "metadata": {
    "collapsed": false
   },
   "outputs": [
    {
     "name": "stdout",
     "output_type": "stream",
     "text": [
      "The value of r''b = 175.00 Ω\n"
     ]
    }
   ],
   "source": [
    "# given data\n",
    "h_rb= 1.75*10**-4#\n",
    "h_ob= 10**-6##  S\n",
    "r_desh_b= h_rb/h_ob##  Ω\n",
    "print \"The value of r''b = %.2f Ω\"%r_desh_b"
   ]
  },
  {
   "cell_type": "markdown",
   "metadata": {},
   "source": [
    "## Example 11.4 Page No 289"
   ]
  },
  {
   "cell_type": "code",
   "execution_count": 6,
   "metadata": {
    "collapsed": false
   },
   "outputs": [
    {
     "name": "stdout",
     "output_type": "stream",
     "text": [
      "The voltage gain = 68.02\n"
     ]
    }
   ],
   "source": [
    "# given data\n",
    "h_fe= 120## unit less\n",
    "h_ie= 3.5*10**3##in Ω\n",
    "r_L= 2*10**3##  Ω\n",
    "h_oe= 8.5*10**-6##  S\n",
    "h_re= 1.3*10**-4## unit less\n",
    "# The voltage gain \n",
    "A= h_fe*r_L/(h_ie*(1+h_oe*r_L)-h_re*h_fe*r_L)\n",
    "print \"The voltage gain = %.2f\"%A"
   ]
  }
 ],
 "metadata": {
  "kernelspec": {
   "display_name": "Python 2",
   "language": "python",
   "name": "python2"
  },
  "language_info": {
   "codemirror_mode": {
    "name": "ipython",
    "version": 2
   },
   "file_extension": ".py",
   "mimetype": "text/x-python",
   "name": "python",
   "nbconvert_exporter": "python",
   "pygments_lexer": "ipython2",
   "version": "2.7.9"
  }
 },
 "nbformat": 4,
 "nbformat_minor": 0
}
