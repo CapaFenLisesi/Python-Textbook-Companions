{
 "metadata": {
  "name": "",
  "signature": "sha256:aba1be8ae42bb18059b4160131b71a6cc6c951a9fe76f13e7e039fc1531e880b"
 },
 "nbformat": 3,
 "nbformat_minor": 0,
 "worksheets": [
  {
   "cells": [
    {
     "cell_type": "heading",
     "level": 1,
     "metadata": {},
     "source": [
      "Chapter 6: Sorting Techniques"
     ]
    },
    {
     "cell_type": "heading",
     "level": 2,
     "metadata": {},
     "source": [
      "Example 1, page no. 155"
     ]
    },
    {
     "cell_type": "code",
     "collapsed": false,
     "input": [
      "MAX = 20\n",
      "arr = []\n",
      "print \"Enter the number of elements : \",\n",
      "n = int(raw_input())\n",
      "print \"Enter %d elements: \" %n\n",
      "for i in range(n):\n",
      "    arr.append(int(raw_input()))\n",
      "print \"Unsorted list is : \"\n",
      "for i in range(n):\n",
      "    print arr[i],\n",
      "for i in range(n):\n",
      "    xchanges=0\n",
      "    for j in range(n-1-i):\n",
      "        if (arr[j] > arr[j+1]):\n",
      "            arr[j], arr[j+1] = arr[j+1],arr[j]\n",
      "            xchanges+=1\n",
      "    if (xchanges == 0):\n",
      "        break\n",
      "    print \"\\nAfter pass %d elements are : \" %(i+1)\n",
      "    for k in range(n):\n",
      "        print arr[k],\n",
      "print \"\\nSorted list is : \"\n",
      "for i in range(n):\n",
      "    print arr[i],"
     ],
     "language": "python",
     "metadata": {},
     "outputs": [
      {
       "output_type": "stream",
       "stream": "stdout",
       "text": [
        "Enter the number of elements : "
       ]
      },
      {
       "name": "stdout",
       "output_type": "stream",
       "stream": "stdout",
       "text": [
        "3\n"
       ]
      },
      {
       "output_type": "stream",
       "stream": "stdout",
       "text": [
        " Enter 3 elements: \n"
       ]
      },
      {
       "name": "stdout",
       "output_type": "stream",
       "stream": "stdout",
       "text": [
        "15\n"
       ]
      },
      {
       "name": "stdout",
       "output_type": "stream",
       "stream": "stdout",
       "text": [
        "10\n"
       ]
      },
      {
       "name": "stdout",
       "output_type": "stream",
       "stream": "stdout",
       "text": [
        "5\n"
       ]
      },
      {
       "output_type": "stream",
       "stream": "stdout",
       "text": [
        "Unsorted list is : \n",
        "15 10 5 \n",
        "After pass 1 elements are : \n",
        "10 5 15 \n",
        "After pass 2 elements are : \n",
        "5 10 15 \n",
        "Sorted list is : \n",
        "5 10 15\n"
       ]
      }
     ],
     "prompt_number": 2
    },
    {
     "cell_type": "heading",
     "level": 2,
     "metadata": {},
     "source": [
      "Example 2, page no. 157"
     ]
    },
    {
     "cell_type": "code",
     "collapsed": false,
     "input": [
      "def bubblesort(a, n):\n",
      "    for i in range(1,n):\n",
      "        for j in range(0,n-1):\n",
      "            if (a[j] > a[j+1]):\n",
      "                a[j], a[j+1] = a[j+1], a[j]\n",
      "\n",
      "a = []\n",
      "print \"\\nEnter the number of elements: \",\n",
      "n = int(raw_input())\n",
      "l = n;\n",
      "print \"\\nEnter the elements: \",\n",
      "while(l>0):\n",
      "    a.append(int(raw_input()))\n",
      "    l -= 1\n",
      "bubblesort(a,n);\n",
      "print \"\\nSorted array is: \",\n",
      "l = 0\n",
      "while(l < n):\n",
      "    print a[l],\n",
      "    l += 1"
     ],
     "language": "python",
     "metadata": {},
     "outputs": [
      {
       "output_type": "stream",
       "stream": "stdout",
       "text": [
        " \n",
        "Enter the number of elements: "
       ]
      },
      {
       "name": "stdout",
       "output_type": "stream",
       "stream": "stdout",
       "text": [
        "3\n"
       ]
      },
      {
       "output_type": "stream",
       "stream": "stdout",
       "text": [
        " \n",
        "Enter the elements: "
       ]
      },
      {
       "name": "stdout",
       "output_type": "stream",
       "stream": "stdout",
       "text": [
        "15\n"
       ]
      },
      {
       "name": "stdout",
       "output_type": "stream",
       "stream": "stdout",
       "text": [
        "10\n"
       ]
      },
      {
       "name": "stdout",
       "output_type": "stream",
       "stream": "stdout",
       "text": [
        "5\n"
       ]
      },
      {
       "output_type": "stream",
       "stream": "stdout",
       "text": [
        " \n",
        "Sorted array is:  5 10 15\n"
       ]
      }
     ],
     "prompt_number": 4
    },
    {
     "cell_type": "heading",
     "level": 2,
     "metadata": {},
     "source": [
      "Example 3, page no. 160"
     ]
    },
    {
     "cell_type": "code",
     "collapsed": false,
     "input": [
      "arr = []\n",
      "print \"\\nEnter the number of elements: \",\n",
      "n = int(raw_input())\n",
      "for i in range(n):\n",
      "    print \"Enter element %d: \" %(i+1),\n",
      "    arr.append(int(raw_input()))\n",
      "print \"\\nUnsorted list is: \",\n",
      "for i in range(n):\n",
      "    print arr[i],\n",
      "\n",
      "for i in range(0,n-1):\n",
      "    smallest = i\n",
      "    for k in range(i+1,n):\n",
      "       if (arr[smallest] > arr[k]):\n",
      "           smallest = k\n",
      "       if (i != smallest):\n",
      "           arr[i], arr[smallest] = arr[smallest], arr[i]\n",
      "    print \"\\nAfter pass %d elements are: \" %(i+1),\n",
      "    for j in range(n):\n",
      "        print arr[j],\n",
      "\n",
      "print \"\\nSorted list is: \",\n",
      "for i in range(n):\n",
      "    print arr[i],"
     ],
     "language": "python",
     "metadata": {},
     "outputs": [
      {
       "output_type": "stream",
       "stream": "stdout",
       "text": [
        "\n",
        "Enter the number of elements: "
       ]
      },
      {
       "name": "stdout",
       "output_type": "stream",
       "stream": "stdout",
       "text": [
        "3\n"
       ]
      },
      {
       "output_type": "stream",
       "stream": "stdout",
       "text": [
        " Enter element 1: "
       ]
      },
      {
       "name": "stdout",
       "output_type": "stream",
       "stream": "stdout",
       "text": [
        "15\n"
       ]
      },
      {
       "output_type": "stream",
       "stream": "stdout",
       "text": [
        " Enter element 2: "
       ]
      },
      {
       "name": "stdout",
       "output_type": "stream",
       "stream": "stdout",
       "text": [
        "10\n"
       ]
      },
      {
       "output_type": "stream",
       "stream": "stdout",
       "text": [
        " Enter element 3: "
       ]
      },
      {
       "name": "stdout",
       "output_type": "stream",
       "stream": "stdout",
       "text": [
        "5\n"
       ]
      },
      {
       "output_type": "stream",
       "stream": "stdout",
       "text": [
        " \n",
        "Unsorted list is:  15 10 5 \n",
        "After pass 1 elements are:  5 15 10 \n",
        "After pass 2 elements are:  5 10 15 \n",
        "Sorted list is:  5 10 15\n"
       ]
      }
     ],
     "prompt_number": 5
    },
    {
     "cell_type": "heading",
     "level": 2,
     "metadata": {},
     "source": [
      "Example 4, page no. 161"
     ]
    },
    {
     "cell_type": "code",
     "collapsed": false,
     "input": [
      "def selectionsort(a, n):\n",
      "    for i in range(n-1):\n",
      "        for j in range(i+1, n):\n",
      "            if (a[i]>a[j]):\n",
      "                a[i], a[j] = a[j],a[i]\n",
      "\n",
      "a = []\n",
      "print \"\\nEnter the number of elements: \",\n",
      "n = int(raw_input())\n",
      "l = n\n",
      "print \"\\nEnter the elements: \",\n",
      "while(l > 0):\n",
      "    a.append(int(raw_input()))\n",
      "    l -= 1\n",
      "selectionsort(a, n)\n",
      "print \"\\nSorted array: \",\n",
      "l = 0\n",
      "while(l < n):\n",
      "    print a[l],\n",
      "    l += 1"
     ],
     "language": "python",
     "metadata": {},
     "outputs": [
      {
       "output_type": "stream",
       "stream": "stdout",
       "text": [
        "\n",
        "Enter the number of elements: "
       ]
      },
      {
       "name": "stdout",
       "output_type": "stream",
       "stream": "stdout",
       "text": [
        "3\n"
       ]
      },
      {
       "output_type": "stream",
       "stream": "stdout",
       "text": [
        " \n",
        "Enter the elements: "
       ]
      },
      {
       "name": "stdout",
       "output_type": "stream",
       "stream": "stdout",
       "text": [
        "15\n"
       ]
      },
      {
       "name": "stdout",
       "output_type": "stream",
       "stream": "stdout",
       "text": [
        "10\n"
       ]
      },
      {
       "name": "stdout",
       "output_type": "stream",
       "stream": "stdout",
       "text": [
        "5\n"
       ]
      },
      {
       "output_type": "stream",
       "stream": "stdout",
       "text": [
        " \n",
        "Sorted array:  5 10 15\n"
       ]
      }
     ],
     "prompt_number": 6
    },
    {
     "cell_type": "heading",
     "level": 2,
     "metadata": {},
     "source": [
      "Example 5, page no. 166"
     ]
    },
    {
     "cell_type": "code",
     "collapsed": false,
     "input": [
      "arr = []\n",
      "print \"\\nEnter the number of elements: \",\n",
      "n = int(raw_input())\n",
      "for i in range(n):\n",
      "    print \"Enter element %d: \" %(i+1),\n",
      "    arr.append(int(raw_input()))\n",
      "print \"\\nUnsorted list is: \",\n",
      "for i in range(n):\n",
      "    print arr[i],\n",
      "for j in range (1, n):\n",
      "    k=arr[j]\n",
      "    i = j-1\n",
      "    while (i>=0):\n",
      "        if k < arr[i]:\n",
      "            arr[i+1]=arr[i]\n",
      "        i-=1\n",
      "    arr[i+1]=k\n",
      "    print \"\\nPass %d, Element inserted in proper place: %d \" %(j,k),\n",
      "    for i in range(n):\n",
      "        print arr[i],\n",
      "\n",
      "print \"\\nSorted list is: \",\n",
      "for i in range(n):\n",
      "    print arr[i],"
     ],
     "language": "python",
     "metadata": {},
     "outputs": [
      {
       "output_type": "stream",
       "stream": "stdout",
       "text": [
        "\n",
        "Enter the number of elements: "
       ]
      },
      {
       "name": "stdout",
       "output_type": "stream",
       "stream": "stdout",
       "text": [
        "3\n"
       ]
      },
      {
       "output_type": "stream",
       "stream": "stdout",
       "text": [
        " Enter element 1: "
       ]
      },
      {
       "name": "stdout",
       "output_type": "stream",
       "stream": "stdout",
       "text": [
        "15\n"
       ]
      },
      {
       "output_type": "stream",
       "stream": "stdout",
       "text": [
        " Enter element 2: "
       ]
      },
      {
       "name": "stdout",
       "output_type": "stream",
       "stream": "stdout",
       "text": [
        "10\n"
       ]
      },
      {
       "output_type": "stream",
       "stream": "stdout",
       "text": [
        " Enter element 3: "
       ]
      },
      {
       "name": "stdout",
       "output_type": "stream",
       "stream": "stdout",
       "text": [
        "5\n"
       ]
      },
      {
       "output_type": "stream",
       "stream": "stdout",
       "text": [
        " \n",
        "Unsorted list is:  15 10 5 \n",
        "Pass 1, Element inserted in proper place: 10  10 15 5 \n",
        "Pass 2, Element inserted in proper place: 5  5 10 15 \n",
        "Sorted list is:  5 10 15\n"
       ]
      }
     ],
     "prompt_number": 7
    },
    {
     "cell_type": "heading",
     "level": 2,
     "metadata": {},
     "source": [
      "Example 6, page no. 169"
     ]
    },
    {
     "cell_type": "code",
     "collapsed": false,
     "input": [
      "arr = []\n",
      "print \"Enter the number of elements : \",\n",
      "n = int(raw_input())\n",
      "for i in range(n):\n",
      "    print \"Enter element %d : \" %(i+1),\n",
      "    arr.append(int(raw_input()))\n",
      "print \"Unsorted list is : \",\n",
      "for i in range(n):\n",
      "    print arr[i],\n",
      "print \"\\nEnter maximum increment (odd value) : \",\n",
      "incr = int(raw_input())\n",
      "\n",
      "while(incr>=1):\n",
      "    for j in range(incr,n):\n",
      "        k = arr[j]\n",
      "        i = j-incr\n",
      "        while (i>=0 and k < arr[i]):\n",
      "            arr[i+incr] = arr[i]\n",
      "            i = i-incr\n",
      "        arr[i+incr] = k\n",
      "    print \"\\nIncrement=%d \" %incr\n",
      "    for i in range(n):\n",
      "        print arr[i],\n",
      "    incr = incr-2\n",
      "print \"\\nSorted list is : \",\n",
      "for i in range(n):\n",
      "    print arr[i],"
     ],
     "language": "python",
     "metadata": {},
     "outputs": [
      {
       "output_type": "stream",
       "stream": "stdout",
       "text": [
        "Enter the number of elements : "
       ]
      },
      {
       "name": "stdout",
       "output_type": "stream",
       "stream": "stdout",
       "text": [
        "3\n"
       ]
      },
      {
       "output_type": "stream",
       "stream": "stdout",
       "text": [
        " Enter element 1 : "
       ]
      },
      {
       "name": "stdout",
       "output_type": "stream",
       "stream": "stdout",
       "text": [
        "15\n"
       ]
      },
      {
       "output_type": "stream",
       "stream": "stdout",
       "text": [
        " Enter element 2 : "
       ]
      },
      {
       "name": "stdout",
       "output_type": "stream",
       "stream": "stdout",
       "text": [
        "10\n"
       ]
      },
      {
       "output_type": "stream",
       "stream": "stdout",
       "text": [
        " Enter element 3 : "
       ]
      },
      {
       "name": "stdout",
       "output_type": "stream",
       "stream": "stdout",
       "text": [
        "5\n"
       ]
      },
      {
       "output_type": "stream",
       "stream": "stdout",
       "text": [
        " Unsorted list is :  15 10 5 \n",
        "Enter maximum increment (odd value) : "
       ]
      },
      {
       "name": "stdout",
       "output_type": "stream",
       "stream": "stdout",
       "text": [
        "3\n"
       ]
      },
      {
       "output_type": "stream",
       "stream": "stdout",
       "text": [
        " \n",
        "Increment=3 \n",
        "15 10 5 \n",
        "Increment=1 \n",
        "5 10 15 \n",
        "Sorted list is :  5 10 15\n"
       ]
      }
     ],
     "prompt_number": 8
    },
    {
     "cell_type": "heading",
     "level": 2,
     "metadata": {},
     "source": [
      "Example 7, page no. 173"
     ]
    },
    {
     "cell_type": "code",
     "collapsed": false,
     "input": [
      "def display(arr, low, up):\n",
      "    for i in range(low, up):\n",
      "        print arr[i],\n",
      "        \n",
      "def quick(arr, low, up):\n",
      "    left = low\n",
      "    right = up\n",
      "    piv = low\n",
      "    pivot_placed = False\n",
      "    print low, up\n",
      "    if (low>=up):\n",
      "        return\n",
      "    print \"\\nSublist: \",\n",
      "    display(arr,low,up)\n",
      "    while(pivot_placed == False):\n",
      "        while(arr[piv] <= arr[right] and piv != right):\n",
      "            right=right-1\n",
      "        if (piv==right):\n",
      "            pivot_placed = True\n",
      "        if (arr[piv] > arr[right]):\n",
      "            arr[piv], arr[right] = arr[right], arr[piv]\n",
      "            piv=right\n",
      "        while(arr[piv]>=arr[left] and left != piv):\n",
      "            left=left+1\n",
      "        if (piv==left):\n",
      "            pivot_placed = True\n",
      "        if (arr[piv] < arr[left]):\n",
      "            arr[piv], arr[left] = arr[left], arr[piv]\n",
      "            piv = left\n",
      "    print \"\\n-> Pivot Placed is %d -> \" %arr[piv]\n",
      "    display(arr,low,up)\n",
      "    quick(arr,low,piv-1)\n",
      "    quick(arr,piv+1,up)\n",
      "\n",
      "arr = []\n",
      "print \"\\nEnter the number of elements : \",\n",
      "n = int(raw_input())\n",
      "for i in range(n):\n",
      "    print \"Enter element %d: \" %(i+1),\n",
      "    arr.append(int(raw_input()))\n",
      "print \"\\nUnsorted list: \",\n",
      "display(arr, 0, n)\n",
      "quick(arr,0, n-1)\n",
      "print \"\\nSorted List: \",\n",
      "display(arr, 0, n)"
     ],
     "language": "python",
     "metadata": {},
     "outputs": [
      {
       "output_type": "stream",
       "stream": "stdout",
       "text": [
        "\n",
        "Enter the number of elements : "
       ]
      },
      {
       "name": "stdout",
       "output_type": "stream",
       "stream": "stdout",
       "text": [
        "3\n"
       ]
      },
      {
       "output_type": "stream",
       "stream": "stdout",
       "text": [
        " Enter element 1: "
       ]
      },
      {
       "name": "stdout",
       "output_type": "stream",
       "stream": "stdout",
       "text": [
        "15\n"
       ]
      },
      {
       "output_type": "stream",
       "stream": "stdout",
       "text": [
        " Enter element 2: "
       ]
      },
      {
       "name": "stdout",
       "output_type": "stream",
       "stream": "stdout",
       "text": [
        "10\n"
       ]
      },
      {
       "output_type": "stream",
       "stream": "stdout",
       "text": [
        " Enter element 3: "
       ]
      },
      {
       "name": "stdout",
       "output_type": "stream",
       "stream": "stdout",
       "text": [
        "5\n"
       ]
      },
      {
       "output_type": "stream",
       "stream": "stdout",
       "text": [
        " \n",
        "Unsorted list:  15 10 5 0 2\n",
        "\n",
        "Sublist:  15 10 \n",
        "-> Pivot Placed is 15 -> \n",
        "5 10 0 1\n",
        "\n",
        "Sublist:  5 \n",
        "-> Pivot Placed is 5 -> \n",
        "5 0 -1\n",
        "1 1\n",
        "3 2\n",
        "\n",
        "Sorted List:  5 10 15\n"
       ]
      }
     ],
     "prompt_number": 9
    },
    {
     "cell_type": "heading",
     "level": 2,
     "metadata": {},
     "source": [
      "Example 8, page no. 177"
     ]
    },
    {
     "cell_type": "code",
     "collapsed": false,
     "input": [
      "arr1 = []\n",
      "arr2 = []\n",
      "arr3 = []\n",
      "print \"\\nEnter the number of elements in list1: \", \n",
      "max1 = int(raw_input())\n",
      "print \"\\nTake the elements in sorted order \\n\",\n",
      "for i in range(max1):\n",
      "    print \"Enter element %d : \" %(i+1),\n",
      "    arr1.append(int(raw_input()))\n",
      "print \"\\nEnter the number of elements in list2: \"\n",
      "max2 = int(raw_input())\n",
      "print \"\\nTake the elements in sorted order :\\n\"\n",
      "for i in range(max2):\n",
      "    print \"Enter element %d: \"%(i+1),\n",
      "    arr2.append(int(raw_input()))\n",
      "i = 0\n",
      "j = 0\n",
      "while((i < max1) and (j < max2)):\n",
      "    if (arr1[i] < arr2[j]):\n",
      "        arr3.append(arr1[i])\n",
      "        i += 1\n",
      "    else:\n",
      "        arr3.append(arr2[j])\n",
      "        j += 1\n",
      "while(i < max1):\n",
      "    arr3.append(arr1[i])\n",
      "    i += 1\n",
      "while(j < max2):\n",
      "    arr3.append(arr2[j])\n",
      "    j += 1\n",
      "print \"\\nList 1: \",\n",
      "for i in range(max1):\n",
      "    print arr1[i],\n",
      "print \"\\nList 2: \",\n",
      "for i in range(max2):\n",
      "    print arr2[i],\n",
      "print \"\\nMerged list: \"\n",
      "for i in range(max1+max2):\n",
      "    print arr3[i],"
     ],
     "language": "python",
     "metadata": {},
     "outputs": [
      {
       "output_type": "stream",
       "stream": "stdout",
       "text": [
        " \n",
        "Enter the number of elements in list1: "
       ]
      },
      {
       "name": "stdout",
       "output_type": "stream",
       "stream": "stdout",
       "text": [
        "2\n"
       ]
      },
      {
       "output_type": "stream",
       "stream": "stdout",
       "text": [
        " \n",
        "Take the elements in sorted order \n",
        "Enter element 1 : "
       ]
      },
      {
       "name": "stdout",
       "output_type": "stream",
       "stream": "stdout",
       "text": [
        "10\n"
       ]
      },
      {
       "output_type": "stream",
       "stream": "stdout",
       "text": [
        " Enter element 2 : "
       ]
      },
      {
       "name": "stdout",
       "output_type": "stream",
       "stream": "stdout",
       "text": [
        "15\n"
       ]
      },
      {
       "output_type": "stream",
       "stream": "stdout",
       "text": [
        " \n",
        "Enter the number of elements in list2: \n"
       ]
      },
      {
       "name": "stdout",
       "output_type": "stream",
       "stream": "stdout",
       "text": [
        "5\n"
       ]
      },
      {
       "output_type": "stream",
       "stream": "stdout",
       "text": [
        "\n",
        "Take the elements in sorted order :\n",
        "\n",
        "Enter element 1: "
       ]
      },
      {
       "name": "stdout",
       "output_type": "stream",
       "stream": "stdout",
       "text": [
        "1\n"
       ]
      },
      {
       "output_type": "stream",
       "stream": "stdout",
       "text": [
        " Enter element 2: "
       ]
      },
      {
       "name": "stdout",
       "output_type": "stream",
       "stream": "stdout",
       "text": [
        "2\n"
       ]
      },
      {
       "output_type": "stream",
       "stream": "stdout",
       "text": [
        " Enter element 3: "
       ]
      },
      {
       "name": "stdout",
       "output_type": "stream",
       "stream": "stdout",
       "text": [
        "3\n"
       ]
      },
      {
       "output_type": "stream",
       "stream": "stdout",
       "text": [
        " Enter element 4: "
       ]
      },
      {
       "name": "stdout",
       "output_type": "stream",
       "stream": "stdout",
       "text": [
        "4\n"
       ]
      },
      {
       "output_type": "stream",
       "stream": "stdout",
       "text": [
        " Enter element 5: "
       ]
      },
      {
       "name": "stdout",
       "output_type": "stream",
       "stream": "stdout",
       "text": [
        "5\n"
       ]
      },
      {
       "output_type": "stream",
       "stream": "stdout",
       "text": [
        " \n",
        "List 1:  10 15 \n",
        "List 2:  1 2 3 4 5 \n",
        "Merged list: \n",
        "1 2 3 4 5 10 15\n"
       ]
      }
     ],
     "prompt_number": 11
    },
    {
     "cell_type": "heading",
     "level": 2,
     "metadata": {},
     "source": [
      "Example 9, page no. 179"
     ]
    },
    {
     "cell_type": "code",
     "collapsed": false,
     "input": [
      "arr = []\n",
      "temp = []\n",
      "\n",
      "print \"\\nEnter the number of elements: \",\n",
      "n = int(raw_input())\n",
      "for i in range(n):\n",
      "    print \"Enter element %d: \" %(i+1),\n",
      "    arr.append(int(raw_input()))\n",
      "print \"\\nUnsorted list is: \",\n",
      "for i in range(n):\n",
      "    print arr[i],\n",
      "\n",
      "size = 1\n",
      "\n",
      "while size < n:\n",
      "    l1 = 0\n",
      "    k = 0\n",
      "    while(l1+size<n):\n",
      "        h1 = l1 + (size - 1)\n",
      "        l2 = h1 + 1\n",
      "        h2 = l2 + (size - 1)\n",
      "        if (h2>=n):\n",
      "            h2 = n-1\n",
      "        i=l1\n",
      "        j=l2\n",
      "        while(i<=h1 and j<=h2 ):\n",
      "            if (arr[i]<=arr[j]):\n",
      "                temp.append(arr[i])\n",
      "                i += 1\n",
      "            else:\n",
      "                temp.append(arr[j])\n",
      "                j += 1\n",
      "        while(i<=h1):\n",
      "            temp.append(arr[i])\n",
      "            i += 1\n",
      "        while(j<=h2):\n",
      "            temp.append(arr[j])\n",
      "            j += 1\n",
      "        l1 = h2+1\n",
      "    for i in range (l1, n):\n",
      "        temp.append(arr[i])\n",
      "    for i in range(0):\n",
      "        arr[i]=temp[i]\n",
      "    print \"\\nSize=%d \\nElements are: \" %size\n",
      "    for i in range(n):\n",
      "        print arr[i],\n",
      "    size = size * 2\n",
      "arr = temp    \n",
      "print \"\\nSorted list is:\",\n",
      "for i in range(n):\n",
      "    print arr[i],"
     ],
     "language": "python",
     "metadata": {},
     "outputs": [
      {
       "output_type": "stream",
       "stream": "stdout",
       "text": [
        "\n",
        "Enter the number of elements: "
       ]
      },
      {
       "name": "stdout",
       "output_type": "stream",
       "stream": "stdout",
       "text": [
        "3\n"
       ]
      },
      {
       "output_type": "stream",
       "stream": "stdout",
       "text": [
        " Enter element 1: "
       ]
      },
      {
       "name": "stdout",
       "output_type": "stream",
       "stream": "stdout",
       "text": [
        "15\n"
       ]
      },
      {
       "output_type": "stream",
       "stream": "stdout",
       "text": [
        " Enter element 2: "
       ]
      },
      {
       "name": "stdout",
       "output_type": "stream",
       "stream": "stdout",
       "text": [
        "10\n"
       ]
      },
      {
       "output_type": "stream",
       "stream": "stdout",
       "text": [
        " Enter element 3: "
       ]
      },
      {
       "name": "stdout",
       "output_type": "stream",
       "stream": "stdout",
       "text": [
        "5\n"
       ]
      },
      {
       "output_type": "stream",
       "stream": "stdout",
       "text": [
        " \n",
        "Unsorted list is:  15 10 5 \n",
        "Size=1 \n",
        "Elements are: \n",
        "15 10 5 \n",
        "Size=2 \n",
        "Elements are: \n",
        "15 10 5 \n",
        "Sorted list is: 10 15 5\n"
       ]
      }
     ],
     "prompt_number": 1
    },
    {
     "cell_type": "heading",
     "level": 2,
     "metadata": {},
     "source": [
      "Example 10, page no. 181"
     ]
    },
    {
     "cell_type": "code",
     "collapsed": false,
     "input": [
      "from numpy import zeros\n",
      "array = []\n",
      "def merge(low, mid, high):\n",
      "    global array\n",
      "    temp = zeros(len(array))\n",
      "    i = low;\n",
      "    j = mid +1 ;\n",
      "    k = low ;\n",
      "    print array\n",
      "    while((i<=mid) and (j<=high)):\n",
      "        if (array[i]<=array[j]):\n",
      "            temp[k] = array[i]\n",
      "            k += 1\n",
      "            i += 1\n",
      "        else:\n",
      "            temp[k] = array[j]\n",
      "            k += 1\n",
      "            j += 1\n",
      "    while(i<=mid):\n",
      "        temp[k] = array[i]\n",
      "        k += 1\n",
      "        i += 1\n",
      "    while(j<=high):\n",
      "        temp[k] = array[j]\n",
      "        k += 1\n",
      "        j += 1\n",
      "\n",
      "    for i in range(low,high+1):\n",
      "        array[i] = temp[i]\n",
      "\n",
      "def merge_sort(low, high):\n",
      "    if (low != high):\n",
      "        mid = (low+high)/2;\n",
      "        merge_sort(low , mid)\n",
      "        merge_sort(mid+1, high)\n",
      "        merge(low, mid, high)\n",
      "        \n",
      "print \"\\nEnter the number of elements: \"\n",
      "n = int(raw_input())\n",
      "for i in range(n):\n",
      "    print \"Enter element %d: \" %(i+1),\n",
      "    array.append(int(raw_input()))\n",
      "print \"\\nUnsorted list is: \",\n",
      "for i in range(n):\n",
      "    print array[i],\n",
      "merge_sort(0, n-1)\n",
      "print \"\\nSorted list is :\",\n",
      "for i in range(n):\n",
      "    print array[i],"
     ],
     "language": "python",
     "metadata": {},
     "outputs": [
      {
       "output_type": "stream",
       "stream": "stdout",
       "text": [
        "\n",
        "Enter the number of elements: \n"
       ]
      },
      {
       "name": "stdout",
       "output_type": "stream",
       "stream": "stdout",
       "text": [
        "3\n"
       ]
      },
      {
       "output_type": "stream",
       "stream": "stdout",
       "text": [
        "Enter element 1: "
       ]
      },
      {
       "name": "stdout",
       "output_type": "stream",
       "stream": "stdout",
       "text": [
        "15\n"
       ]
      },
      {
       "output_type": "stream",
       "stream": "stdout",
       "text": [
        " Enter element 2: "
       ]
      },
      {
       "name": "stdout",
       "output_type": "stream",
       "stream": "stdout",
       "text": [
        "10\n"
       ]
      },
      {
       "output_type": "stream",
       "stream": "stdout",
       "text": [
        " Enter element 3: "
       ]
      },
      {
       "name": "stdout",
       "output_type": "stream",
       "stream": "stdout",
       "text": [
        "5\n"
       ]
      },
      {
       "output_type": "stream",
       "stream": "stdout",
       "text": [
        " \n",
        "Unsorted list is:  15 10 5 [15, 10, 5]\n",
        "[10.0, 15.0, 5]\n",
        "\n",
        "Sorted list is : 5.0 10.0 15.0\n"
       ]
      }
     ],
     "prompt_number": 2
    },
    {
     "cell_type": "heading",
     "level": 2,
     "metadata": {},
     "source": [
      "Example 11, page no. 184"
     ]
    },
    {
     "cell_type": "code",
     "collapsed": false,
     "input": [
      "from numpy import zeros\n",
      "class node:\n",
      "    def __init__(self, info=None, link=None):\n",
      "        self.info = info\n",
      "        self.link = link\n",
      "\n",
      "start = None\n",
      "\n",
      "\n",
      "def display():\n",
      "    global start\n",
      "    p = start\n",
      "    while(p != None):\n",
      "        print p.info,\n",
      "        p = p.link\n",
      "    print \"\"\n",
      "        \n",
      "def large_dig(p):\n",
      "    large = 0\n",
      "    ndig = 0\n",
      "    while (p!=None):\n",
      "        if (p.info > large):\n",
      "            large = p.info\n",
      "        p = p.link\n",
      "    print \"\\nLargest Element is %d\" %large\n",
      "    while (large!=0):\n",
      "        ndig += 1\n",
      "        large = large/10\n",
      "    print \"\\nNumber of digits in it are %d \" %ndig\n",
      "    return ndig\n",
      "\n",
      "def digit(number, k):\n",
      "    digit = 0\n",
      "    for i in range (1, k+1):\n",
      "        digit = number % 10 ;\n",
      "        number = number /10 ;\n",
      "    return digit\n",
      "\n",
      "def radix_sort():\n",
      "    global start\n",
      "    rear = []\n",
      "    front = []\n",
      "    least_sig=1;\n",
      "    most_sig=large_dig(start);\n",
      "    for k in range(least_sig, most_sig+1):\n",
      "        print \"\\nPASS %d : Examining %dth digit from right\" %(k,k)\n",
      "        for i in range(0,10):\n",
      "            rear.append(None)\n",
      "            front.append(None)\n",
      "        maxdig=0\n",
      "        mindig=9\n",
      "        p = start\n",
      "        while(p!=None):\n",
      "            dig = digit(p.info, k)\n",
      "            if (dig>maxdig):\n",
      "                maxdig=dig\n",
      "            if (dig<mindig):\n",
      "                mindig=dig  \n",
      "            if (front[dig] == None):\n",
      "                front[dig] = p\n",
      "            else:\n",
      "                rear[dig].link = p\n",
      "            rear[dig] = p\n",
      "            p = p.link\n",
      "        print \"\\nmindig=%d maxdig=%d\\n\" %(mindig, maxdig)\n",
      "        start = front[mindig]\n",
      "        for i in range(mindig,maxdig):\n",
      "            if (rear[i+1]!=None):\n",
      "                rear[i].link = front[i+1]\n",
      "            else:\n",
      "                rear[i+1]=rear[i];\n",
      "        rear[maxdig].link = None\n",
      "        print \"\\nNew list : \",\n",
      "        display()\n",
      "\n",
      "\n",
      "q = node()\n",
      "print \"Enter the number of elements in the list: \",\n",
      "n = int(raw_input())\n",
      "for i in range(n):\n",
      "    print \"Enter element %d: \" %(i+1),\n",
      "    item = int(raw_input())\n",
      "    tmp = node()\n",
      "    tmp.info = item\n",
      "    tmp.link = None\n",
      "    if (start == None):\n",
      "        start = tmp\n",
      "        print start.info\n",
      "    else:\n",
      "        q = start\n",
      "        while(q.link != None):\n",
      "            q = q.link\n",
      "            print q.info\n",
      "        q.link = tmp\n",
      "print \"\\nUnsorted list is: \",\n",
      "display()\n",
      "radix_sort()\n",
      "print \"\\nSorted list is: \"\n",
      "display ()"
     ],
     "language": "python",
     "metadata": {},
     "outputs": [
      {
       "output_type": "stream",
       "stream": "stdout",
       "text": [
        "Enter the number of elements in the list: "
       ]
      },
      {
       "name": "stdout",
       "output_type": "stream",
       "stream": "stdout",
       "text": [
        "3\n"
       ]
      },
      {
       "output_type": "stream",
       "stream": "stdout",
       "text": [
        " Enter element 1: "
       ]
      },
      {
       "name": "stdout",
       "output_type": "stream",
       "stream": "stdout",
       "text": [
        "15\n"
       ]
      },
      {
       "output_type": "stream",
       "stream": "stdout",
       "text": [
        " 15\n",
        "Enter element 2: "
       ]
      },
      {
       "name": "stdout",
       "output_type": "stream",
       "stream": "stdout",
       "text": [
        "10\n"
       ]
      },
      {
       "output_type": "stream",
       "stream": "stdout",
       "text": [
        " Enter element 3: "
       ]
      },
      {
       "name": "stdout",
       "output_type": "stream",
       "stream": "stdout",
       "text": [
        "12\n"
       ]
      },
      {
       "output_type": "stream",
       "stream": "stdout",
       "text": [
        " 10\n",
        "\n",
        "Unsorted list is:  15 10 12 \n",
        "\n",
        "Largest Element is 15\n",
        "\n",
        "Number of digits in it are 2 \n",
        "\n",
        "PASS 1 : Examining 1th digit from right\n",
        "\n",
        "mindig=0 maxdig=5\n",
        "\n",
        "\n",
        "New list :  10 12 15 \n",
        "\n",
        "PASS 2 : Examining 2th digit from right\n",
        "\n",
        "mindig=1 maxdig=1\n",
        "\n",
        "\n",
        "New list :  10 12 15 \n",
        "\n",
        "Sorted list is: \n",
        "10 12 15 \n"
       ]
      }
     ],
     "prompt_number": 2
    },
    {
     "cell_type": "heading",
     "level": 2,
     "metadata": {},
     "source": [
      "Example 12, Page no. 197"
     ]
    },
    {
     "cell_type": "code",
     "collapsed": false,
     "input": [
      "arr = []\n",
      "n = None\n",
      "\n",
      "def display():\n",
      "    global n\n",
      "    for i in range(n):\n",
      "        print arr[i],\n",
      "\n",
      "\n",
      "def insert(num, loc):\n",
      "    while(loc>0):\n",
      "        par = (loc-1)/2;\n",
      "        if (num<=arr[par]):\n",
      "            arr[loc] = num\n",
      "            return\n",
      "        arr[loc] = arr[par]\n",
      "        loc=par\n",
      "    arr[0] = num\n",
      "\n",
      "def create_heap():\n",
      "    global n\n",
      "    for i in range(n):\n",
      "        arr.append(i)\n",
      "\n",
      "def del_root(last):\n",
      "    i=0\n",
      "    arr[i], arr[last] = arr[last], arr[i]\n",
      "    left = 2*i+1\n",
      "    right = 2*i+2\n",
      "    while(right<last):\n",
      "        if (arr[i]>=arr[left] and arr[i]>=arr[right]):\n",
      "            return\n",
      "        if (arr[right]<=arr[left]):\n",
      "            arr[i], arr[left] = arr[left], arr[i]\n",
      "        else:\n",
      "            arr[i], arr[right] = arr[right], arr[i]\n",
      "            i=right;\n",
      "        left=2*i+1;\n",
      "        right=2*i+2;\n",
      "    if (left==last-1 and arr[i]<arr[left]):\n",
      "        arr[i], arr[left] = arr[left], arr[i]\n",
      "\n",
      "def heap_sort():\n",
      "    global n\n",
      "    last = n-1\n",
      "    while(last>0):\n",
      "        del_root(last)\n",
      "        last -= 1\n",
      "\n",
      "print \"Enter number of elements: \",\n",
      "n = int(raw_input())\n",
      "for i in range(n):\n",
      "    print \"Enter element %d: \" %(i+1),\n",
      "    arr.append(int(raw_input()))\n",
      "print \"\\nEntered list is: \",\n",
      "display()\n",
      "create_heap()\n",
      "print \"\\nHeap is: \",\n",
      "display()\n",
      "heap_sort()\n",
      "print \"\\nSorted list is: \",\n",
      "display()"
     ],
     "language": "python",
     "metadata": {},
     "outputs": [
      {
       "output_type": "stream",
       "stream": "stdout",
       "text": [
        "Enter number of elements: "
       ]
      },
      {
       "name": "stdout",
       "output_type": "stream",
       "stream": "stdout",
       "text": [
        "3\n"
       ]
      },
      {
       "output_type": "stream",
       "stream": "stdout",
       "text": [
        " Enter element 1: "
       ]
      },
      {
       "name": "stdout",
       "output_type": "stream",
       "stream": "stdout",
       "text": [
        "15\n"
       ]
      },
      {
       "output_type": "stream",
       "stream": "stdout",
       "text": [
        " Enter element 2: "
       ]
      },
      {
       "name": "stdout",
       "output_type": "stream",
       "stream": "stdout",
       "text": [
        "10\n"
       ]
      },
      {
       "output_type": "stream",
       "stream": "stdout",
       "text": [
        " Enter element 3: "
       ]
      },
      {
       "name": "stdout",
       "output_type": "stream",
       "stream": "stdout",
       "text": [
        "5\n"
       ]
      },
      {
       "output_type": "stream",
       "stream": "stdout",
       "text": [
        " \n",
        "Entered list is:  15 10 5 \n",
        "Heap is:  15 10 5 \n",
        "Sorted list is:  5 10 15\n"
       ]
      }
     ],
     "prompt_number": 15
    }
   ],
   "metadata": {}
  }
 ]
}