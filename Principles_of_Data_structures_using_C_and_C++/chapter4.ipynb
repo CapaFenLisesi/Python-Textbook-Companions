{
 "metadata": {
  "name": "",
  "signature": "sha256:78073ee3f019a89e9443c28342a99a4f8760679d25266109d7f7c11d0a9e5ceb"
 },
 "nbformat": 3,
 "nbformat_minor": 0,
 "worksheets": [
  {
   "cells": [
    {
     "cell_type": "heading",
     "level": 1,
     "metadata": {},
     "source": [
      "Chapter 4: The Queue"
     ]
    },
    {
     "cell_type": "heading",
     "level": 2,
     "metadata": {},
     "source": [
      "Example 1, page no. 68"
     ]
    },
    {
     "cell_type": "code",
     "collapsed": false,
     "input": [
      "import sys\n",
      "\n",
      "MAX = 50\n",
      "queue_arr = []\n",
      "rear = [-1]\n",
      "front = [-1]\n",
      "\n",
      "def insert():\n",
      "    if (rear[0] == MAX-1):\n",
      "        print \"Queue is full...\"\n",
      "        return\n",
      "    else:\n",
      "        if(front[0] == -1):\n",
      "            front[0] = 0\n",
      "        print \"Input the element to be added: \"\n",
      "        added_item = int(raw_input())\n",
      "        rear[0] = rear[0]+1\n",
      "        queue_arr.append(added_item)\n",
      "\n",
      "def que_del(): # del() is an inbuilt function in python so we name it as que_del here\n",
      "    print front[0]\n",
      "    if(front[0] == -1 or front[0]>rear[0]):\n",
      "        print \"Queue is empty...\"\n",
      "        return\n",
      "    else:\n",
      "        dell = front[0]\n",
      "        print \"Deleted element from queue is: \", queue_arr[dell]\n",
      "        front[0] = front[0]+1\n",
      "\n",
      "def display():\n",
      "    if(front[0] == -1 or front[0]>rear[0]):\n",
      "        print \"Queue is empty...\"\n",
      "        return\n",
      "    else:\n",
      "        print \"Queue is: \"\n",
      "        for i in range(front[0],rear[0]+1):\n",
      "            print queue_arr[i],\n",
      "\n",
      "while(1):\n",
      "    print \"\\n1. Insert\"\n",
      "    print \"2. Delete\"\n",
      "    print \"3. Display\"\n",
      "    print \"4. Quit\"\n",
      "    print \"Enter your choice: \"\n",
      "    choice = raw_input()\n",
      "    if choice == '1':\n",
      "        insert()\n",
      "    elif choice == '2':\n",
      "        que_del()\n",
      "    elif choice == '3':\n",
      "        display()\n",
      "    elif choice == '4':\n",
      "        sys.exit()\n",
      "    else:\n",
      "        print \"You entered an invalid choice...\""
     ],
     "language": "python",
     "metadata": {},
     "outputs": [
      {
       "output_type": "stream",
       "stream": "stdout",
       "text": [
        "\n",
        "1. Insert\n",
        "2. Delete\n",
        "3. Display\n",
        "4. Quit\n",
        "Enter your choice: \n"
       ]
      },
      {
       "name": "stdout",
       "output_type": "stream",
       "stream": "stdout",
       "text": [
        "1\n"
       ]
      },
      {
       "output_type": "stream",
       "stream": "stdout",
       "text": [
        "Input the element to be added: \n"
       ]
      },
      {
       "name": "stdout",
       "output_type": "stream",
       "stream": "stdout",
       "text": [
        "5\n"
       ]
      },
      {
       "output_type": "stream",
       "stream": "stdout",
       "text": [
        "\n",
        "1. Insert\n",
        "2. Delete\n",
        "3. Display\n",
        "4. Quit\n",
        "Enter your choice: \n"
       ]
      },
      {
       "name": "stdout",
       "output_type": "stream",
       "stream": "stdout",
       "text": [
        "1\n"
       ]
      },
      {
       "output_type": "stream",
       "stream": "stdout",
       "text": [
        "Input the element to be added: \n"
       ]
      },
      {
       "name": "stdout",
       "output_type": "stream",
       "stream": "stdout",
       "text": [
        "10\n"
       ]
      },
      {
       "output_type": "stream",
       "stream": "stdout",
       "text": [
        "\n",
        "1. Insert\n",
        "2. Delete\n",
        "3. Display\n",
        "4. Quit\n",
        "Enter your choice: \n"
       ]
      },
      {
       "name": "stdout",
       "output_type": "stream",
       "stream": "stdout",
       "text": [
        "3\n"
       ]
      },
      {
       "output_type": "stream",
       "stream": "stdout",
       "text": [
        "Queue is: \n",
        "5 10 \n",
        "1. Insert\n",
        "2. Delete\n",
        "3. Display\n",
        "4. Quit\n",
        "Enter your choice: \n"
       ]
      },
      {
       "name": "stdout",
       "output_type": "stream",
       "stream": "stdout",
       "text": [
        "4\n"
       ]
      },
      {
       "ename": "SystemExit",
       "evalue": "",
       "output_type": "pyerr",
       "traceback": [
        "An exception has occurred, use %tb to see the full traceback.\n",
        "\u001b[1;31mSystemExit\u001b[0m\n"
       ]
      },
      {
       "output_type": "stream",
       "stream": "stderr",
       "text": [
        "To exit: use 'exit', 'quit', or Ctrl-D.\n"
       ]
      }
     ],
     "prompt_number": 2
    },
    {
     "cell_type": "heading",
     "level": 2,
     "metadata": {},
     "source": [
      "Example 2, page no. 73"
     ]
    },
    {
     "cell_type": "code",
     "collapsed": false,
     "input": [
      "import sys\n",
      "MAX = 50\n",
      "\n",
      "class circular_queue:\n",
      "    def __init__(self):\n",
      "        self.cqueue_arr = []\n",
      "        self.rear = -1\n",
      "        self.front = -1\n",
      "\n",
      "    def insert(self):\n",
      "        if((self.front == 0 and self.rear == MAX-1) or (self.front == self.rear+1)):\n",
      "            print \"Queue is full...\"\n",
      "            return\n",
      "        if(self.front == -1):\n",
      "            self.front = 0\n",
      "            self.rear = 0\n",
      "        else:\n",
      "            if(self.rear == MAX-1):\n",
      "                rear = 0\n",
      "            else:\n",
      "                self.rear = self.rear+1\n",
      "        print \"Enter element to be added: \"\n",
      "        item_added = int(raw_input())\n",
      "        self.cqueue_arr.append(item_added)\n",
      "    \n",
      "    def que_del(self):\n",
      "        if(self.front == -1):\n",
      "            print \"Queue is empty...\"\n",
      "            return\n",
      "        print \"Element deleted from queue is: \", self.cqueue_arr[self.front]\n",
      "        if(self.front == self.rear):\n",
      "            self.front = -1\n",
      "            self.rear = -1\n",
      "        else:\n",
      "            if(self.front == MAX-1):\n",
      "                self.front = 0\n",
      "            else:\n",
      "                self.front += 1\n",
      "    \n",
      "    def display(self):\n",
      "        front_pos = self.front\n",
      "        rear_pos = self.rear\n",
      "        if(self.front == -1):\n",
      "            print \"Queue is empty...\"\n",
      "            return\n",
      "        print \"Queue Elements: \",\n",
      "        if(front_pos <= rear_pos):\n",
      "            while(front_pos <= rear_pos):\n",
      "                print \" \", self.cqueue_arr[front_pos],\n",
      "                front_pos += 1\n",
      "                \n",
      "co = circular_queue()\n",
      "while(1):\n",
      "    print \"\\n1. Insert\"\n",
      "    print \"2. Delete\"\n",
      "    print \"3. Display\"\n",
      "    print \"4. Quit\"\n",
      "    print \"Enter your choice: \"\n",
      "    choice = int(raw_input())\n",
      "    if choice == 1:\n",
      "        co.insert()\n",
      "    elif choice == 2:\n",
      "        co.que_del()\n",
      "    elif choice == 3:\n",
      "        co.display()\n",
      "    elif choice == 4:\n",
      "        sys.exit()\n",
      "    else:\n",
      "        print \"You entered an invalid choice...\""
     ],
     "language": "python",
     "metadata": {},
     "outputs": [
      {
       "output_type": "stream",
       "stream": "stdout",
       "text": [
        "\n",
        "1. Insert\n",
        "2. Delete\n",
        "3. Display\n",
        "4. Quit\n",
        "Enter your choice: \n"
       ]
      },
      {
       "name": "stdout",
       "output_type": "stream",
       "stream": "stdout",
       "text": [
        "1\n"
       ]
      },
      {
       "output_type": "stream",
       "stream": "stdout",
       "text": [
        "Enter element to be added: \n"
       ]
      },
      {
       "name": "stdout",
       "output_type": "stream",
       "stream": "stdout",
       "text": [
        "5\n"
       ]
      },
      {
       "output_type": "stream",
       "stream": "stdout",
       "text": [
        "\n",
        "1. Insert\n",
        "2. Delete\n",
        "3. Display\n",
        "4. Quit\n",
        "Enter your choice: \n"
       ]
      },
      {
       "name": "stdout",
       "output_type": "stream",
       "stream": "stdout",
       "text": [
        "1\n"
       ]
      },
      {
       "output_type": "stream",
       "stream": "stdout",
       "text": [
        "Enter element to be added: \n"
       ]
      },
      {
       "name": "stdout",
       "output_type": "stream",
       "stream": "stdout",
       "text": [
        "10\n"
       ]
      },
      {
       "output_type": "stream",
       "stream": "stdout",
       "text": [
        "\n",
        "1. Insert\n",
        "2. Delete\n",
        "3. Display\n",
        "4. Quit\n",
        "Enter your choice: \n"
       ]
      },
      {
       "name": "stdout",
       "output_type": "stream",
       "stream": "stdout",
       "text": [
        "1\n"
       ]
      },
      {
       "output_type": "stream",
       "stream": "stdout",
       "text": [
        "Enter element to be added: \n"
       ]
      },
      {
       "name": "stdout",
       "output_type": "stream",
       "stream": "stdout",
       "text": [
        "15\n"
       ]
      },
      {
       "output_type": "stream",
       "stream": "stdout",
       "text": [
        "\n",
        "1. Insert\n",
        "2. Delete\n",
        "3. Display\n",
        "4. Quit\n",
        "Enter your choice: \n"
       ]
      },
      {
       "name": "stdout",
       "output_type": "stream",
       "stream": "stdout",
       "text": [
        "3\n"
       ]
      },
      {
       "output_type": "stream",
       "stream": "stdout",
       "text": [
        "Queue Elements:    5   10   15 \n",
        "1. Insert\n",
        "2. Delete\n",
        "3. Display\n",
        "4. Quit\n",
        "Enter your choice: \n"
       ]
      },
      {
       "name": "stdout",
       "output_type": "stream",
       "stream": "stdout",
       "text": [
        "4\n"
       ]
      },
      {
       "ename": "SystemExit",
       "evalue": "",
       "output_type": "pyerr",
       "traceback": [
        "An exception has occurred, use %tb to see the full traceback.\n",
        "\u001b[1;31mSystemExit\u001b[0m\n"
       ]
      },
      {
       "output_type": "stream",
       "stream": "stderr",
       "text": [
        "To exit: use 'exit', 'quit', or Ctrl-D.\n"
       ]
      }
     ],
     "prompt_number": 3
    },
    {
     "cell_type": "heading",
     "level": 2,
     "metadata": {},
     "source": [
      "Example 3, page no. 80"
     ]
    },
    {
     "cell_type": "code",
     "collapsed": false,
     "input": [
      "import sys\n",
      "\n",
      "MAX = 50\n",
      "left = -1\n",
      "right = -1\n",
      "dqueue_arr = []\n",
      "\n",
      "# insert element to right\n",
      "def insert_right():\n",
      "    global left, right, dqueue_arr\n",
      "    if ((left == 0 and right == MAX-1) or (left == right+1)):\n",
      "        print \"Queue is full...\"\n",
      "        return\n",
      "    if(left == -1):\n",
      "        left = 0\n",
      "        right = 0\n",
      "    else:\n",
      "        if(right == MAX-1):\n",
      "            right = 0;\n",
      "        else:\n",
      "            right = right+1;\n",
      "    print \"Input the element for adding in queue: \"\n",
      "    added_item = int(raw_input())\n",
      "    # Inputting the element at the right\n",
      "    dqueue_arr.append(added_item)\n",
      "\n",
      "def insert_left():\n",
      "    global left, right, dqueue_arr\n",
      "    # Checking for queue overflow\n",
      "    if ((left == 0 and right == MAX-1) or (left == right+1)):\n",
      "        print \"Queue is full...\"\n",
      "        return\n",
      "    if (left == -1): # If queue is initially empty\n",
      "        left = 0;\n",
      "        right = 0;\n",
      "    else:\n",
      "        if (left== 0):\n",
      "            left = MAX -1;\n",
      "        else:\n",
      "            left = left-1;\n",
      "        print \"\\nInput the element for adding in queue:\"\n",
      "        added_item = int(raw_input())\n",
      "        # inputting at the left side of the queue\n",
      "        dqueue_arr.insert(added_item,left)\n",
      "\n",
      "# This function will delete an element from the queue from the left side\n",
      "def delete_left():\n",
      "    global left, right, dqueue_arr\n",
      "    # Checking for queue underflow\n",
      "    if (left == -1):\n",
      "        print \"Queue is empty... \"\n",
      "        return\n",
      "    # deleting the element from the left side\n",
      "    print \"Element deleted from queue is: \", dqueue_arr[left]\n",
      "    if(left == right): # Queue has only one element \n",
      "        left = -1\n",
      "        right = -1\n",
      "    else:\n",
      "        if (left == MAX-1):\n",
      "            left = 0\n",
      "        else:\n",
      "            left = left+1\n",
      "            \n",
      "# Function to delete an element from the right hand side of the de-queue\n",
      "def delete_right():\n",
      "    global left, right, dqueue_arr\n",
      "    # Checking for underflow conditions\n",
      "    if (left == -1):\n",
      "        print \"Queue is empty...\"\n",
      "        return\n",
      "    print \"Element deleted from queue is : \", dqueue_arr[right]\n",
      "    if(left == right): # queue has only one element\n",
      "        left = -1\n",
      "        right = -1\n",
      "    else:\n",
      "        if (right == 0):\n",
      "            right = MAX-1\n",
      "        else:\n",
      "            right = right -1\n",
      "\n",
      "# Displaying all the contents of the queue\n",
      "def display_queue():\n",
      "    global left, right, dqueue_arr\n",
      "    front_pos = left \n",
      "    rear_pos = right\n",
      "    # Checking whether the queue is empty or not\n",
      "    if (left == -1):\n",
      "        print \"Queue is empty...\"\n",
      "        return\n",
      "    # displaying the queue elements\n",
      "    print \"Queue elements :\",\n",
      "    if (front_pos <= rear_pos):\n",
      "        while(front_pos <= rear_pos):\n",
      "            print \" \", dqueue_arr[front_pos],\n",
      "            front_pos = front_pos + 1\n",
      "\n",
      "# Function to implement all the operation of the input restricted queue\n",
      "def input_que():\n",
      "    global left, right, dqueue_arr\n",
      "    while(1):\n",
      "        # menu options to input restricted queue\n",
      "        print \"\\n1.Insert at right\"\n",
      "        print \"2.Delete from left\\n\"\n",
      "        print \"3.Delete from right\\n\"\n",
      "        print \"4.Display\\n\"\n",
      "        print \"5.Quit\\n\"\n",
      "        print \"\\nEnter your choice : \"\n",
      "        choice = int(raw_input())\n",
      "        if choice == 1:\n",
      "            insert_right()\n",
      "            display_queue()\n",
      "        elif choice == 2:\n",
      "            delete_left()\n",
      "        elif choice == 3:\n",
      "            delete_right()\n",
      "        elif choice == 4:\n",
      "            display_queue()\n",
      "        elif choice == 5:\n",
      "            sys.exit\n",
      "        else:\n",
      "            print \"Wrong choice...\"\n",
      "\n",
      "def output_que():\n",
      "    global left, right, dqueue_arr\n",
      "    while(1):\n",
      "        # menu options for output restricted queue\n",
      "        print \"\\n1. Insert at right\"\n",
      "        print \"2. Insert at left\"\n",
      "        print \"3. Delete from left\"\n",
      "        print \"4. Display\"\n",
      "        print \"5 .Quit\"\n",
      "        print \"Enter your choice: \"\n",
      "        choice = int(raw_input())\n",
      "        if choice == 1:\n",
      "            insert_right()\n",
      "        elif choice == 2:\n",
      "            insert_left()\n",
      "        elif choice == 3:\n",
      "            delete_left()\n",
      "        elif choice == 4:\n",
      "            display_queue()\n",
      "        elif choice == 5:\n",
      "            sys.exit()\n",
      "        else:\n",
      "            print \"Wrong choice...\"\n",
      "\n",
      "# Main menu options\n",
      "print \"1. Input restricted dequeue\"\n",
      "print \"2. Output restricted dequeue\"\n",
      "print \"3. Enter your choice: \"\n",
      "choice = int(raw_input())\n",
      "if choice == 1:\n",
      "    input_que()\n",
      "elif choice == 2:\n",
      "    output_que()\n",
      "else:\n",
      "    print \"Wrong choice...\""
     ],
     "language": "python",
     "metadata": {},
     "outputs": [
      {
       "output_type": "stream",
       "stream": "stdout",
       "text": [
        "1. Input restricted dequeue\n",
        "2. Output restricted dequeue\n",
        "3. Enter your choice: \n"
       ]
      },
      {
       "name": "stdout",
       "output_type": "stream",
       "stream": "stdout",
       "text": [
        "2\n"
       ]
      },
      {
       "output_type": "stream",
       "stream": "stdout",
       "text": [
        "\n",
        "1. Insert at right\n",
        "2. Insert at left\n",
        "3. Delete from left\n",
        "4. Display\n",
        "5 .Quit\n",
        "Enter your choice: \n"
       ]
      },
      {
       "name": "stdout",
       "output_type": "stream",
       "stream": "stdout",
       "text": [
        "1\n"
       ]
      },
      {
       "output_type": "stream",
       "stream": "stdout",
       "text": [
        "Input the element for adding in queue: \n"
       ]
      },
      {
       "name": "stdout",
       "output_type": "stream",
       "stream": "stdout",
       "text": [
        "5\n"
       ]
      },
      {
       "output_type": "stream",
       "stream": "stdout",
       "text": [
        "\n",
        "1. Insert at right\n",
        "2. Insert at left\n",
        "3. Delete from left\n",
        "4. Display\n",
        "5 .Quit\n",
        "Enter your choice: \n"
       ]
      },
      {
       "name": "stdout",
       "output_type": "stream",
       "stream": "stdout",
       "text": [
        "1\n"
       ]
      },
      {
       "output_type": "stream",
       "stream": "stdout",
       "text": [
        "Input the element for adding in queue: \n"
       ]
      },
      {
       "name": "stdout",
       "output_type": "stream",
       "stream": "stdout",
       "text": [
        "10\n"
       ]
      },
      {
       "output_type": "stream",
       "stream": "stdout",
       "text": [
        "\n",
        "1. Insert at right\n",
        "2. Insert at left\n",
        "3. Delete from left\n",
        "4. Display\n",
        "5 .Quit\n",
        "Enter your choice: \n"
       ]
      },
      {
       "name": "stdout",
       "output_type": "stream",
       "stream": "stdout",
       "text": [
        "3\n"
       ]
      },
      {
       "output_type": "stream",
       "stream": "stdout",
       "text": [
        "Element deleted from queue is:  5\n",
        "\n",
        "1. Insert at right\n",
        "2. Insert at left\n",
        "3. Delete from left\n",
        "4. Display\n",
        "5 .Quit\n",
        "Enter your choice: \n"
       ]
      },
      {
       "name": "stdout",
       "output_type": "stream",
       "stream": "stdout",
       "text": [
        "4\n"
       ]
      },
      {
       "output_type": "stream",
       "stream": "stdout",
       "text": [
        "Queue elements :   10 \n",
        "1. Insert at right\n",
        "2. Insert at left\n",
        "3. Delete from left\n",
        "4. Display\n",
        "5 .Quit\n",
        "Enter your choice: \n"
       ]
      },
      {
       "name": "stdout",
       "output_type": "stream",
       "stream": "stdout",
       "text": [
        "5\n"
       ]
      },
      {
       "ename": "SystemExit",
       "evalue": "",
       "output_type": "pyerr",
       "traceback": [
        "An exception has occurred, use %tb to see the full traceback.\n",
        "\u001b[1;31mSystemExit\u001b[0m\n"
       ]
      },
      {
       "output_type": "stream",
       "stream": "stderr",
       "text": [
        "To exit: use 'exit', 'quit', or Ctrl-D.\n"
       ]
      }
     ],
     "prompt_number": 5
    }
   ],
   "metadata": {}
  }
 ]
}