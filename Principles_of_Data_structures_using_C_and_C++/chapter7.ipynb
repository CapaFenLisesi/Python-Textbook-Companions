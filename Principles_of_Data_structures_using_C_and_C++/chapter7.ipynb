{
 "metadata": {
  "name": "",
  "signature": "sha256:c26c5d09848ed75dce1b0018e66d619a73d2133d6f4cf9d9908ab7addd4dbb8f"
 },
 "nbformat": 3,
 "nbformat_minor": 0,
 "worksheets": [
  {
   "cells": [
    {
     "cell_type": "heading",
     "level": 1,
     "metadata": {},
     "source": [
      "Chapter 7: Searchin & Hashing"
     ]
    },
    {
     "cell_type": "heading",
     "level": 2,
     "metadata": {},
     "source": [
      "Example 1, page no. 208"
     ]
    },
    {
     "cell_type": "code",
     "collapsed": false,
     "input": [
      "import sys\n",
      "\n",
      "arr = []\n",
      "opt = 'y'\n",
      "print \"nHow many elements you want to enter in the array: \",\n",
      "n = int(raw_input())\n",
      "for i in range(n):\n",
      "    print \"Enter element %d: \" %(i+1),\n",
      "    arr.append(int(raw_input()))\n",
      "print \"\\n\\nPress any key to continue...\"\n",
      "raw_input()\n",
      "\n",
      "while (1):\n",
      "    if opt == 'Y' or opt == 'y':\n",
      "        print \"Enter the element to be searched: \",\n",
      "        item = int(raw_input())\n",
      "        found = False\n",
      "        for i in range(n):\n",
      "            if (item == arr[i]):\n",
      "                print \"\\n%d found at position %d\"  %(item,(i+1))\n",
      "                found = True\n",
      "                break\n",
      "        if not found:\n",
      "            print \"Item %d not found in array\" %item\n",
      "        print \"Press (Y/y) to continue: \",\n",
      "        opt = raw_input()\n",
      "    else:\n",
      "        sys.exit()"
     ],
     "language": "python",
     "metadata": {},
     "outputs": [
      {
       "output_type": "stream",
       "stream": "stdout",
       "text": [
        "nHow many elements you want to enter in the array: "
       ]
      },
      {
       "name": "stdout",
       "output_type": "stream",
       "stream": "stdout",
       "text": [
        "3\n"
       ]
      },
      {
       "output_type": "stream",
       "stream": "stdout",
       "text": [
        " Enter element 1: "
       ]
      },
      {
       "name": "stdout",
       "output_type": "stream",
       "stream": "stdout",
       "text": [
        "15\n"
       ]
      },
      {
       "output_type": "stream",
       "stream": "stdout",
       "text": [
        " Enter element 2: "
       ]
      },
      {
       "name": "stdout",
       "output_type": "stream",
       "stream": "stdout",
       "text": [
        "10\n"
       ]
      },
      {
       "output_type": "stream",
       "stream": "stdout",
       "text": [
        " Enter element 3: "
       ]
      },
      {
       "name": "stdout",
       "output_type": "stream",
       "stream": "stdout",
       "text": [
        "5\n"
       ]
      },
      {
       "output_type": "stream",
       "stream": "stdout",
       "text": [
        " \n",
        "\n",
        "Press any key to continue...\n"
       ]
      },
      {
       "name": "stdout",
       "output_type": "stream",
       "stream": "stdout",
       "text": [
        "\n"
       ]
      },
      {
       "output_type": "stream",
       "stream": "stdout",
       "text": [
        "Enter the element to be searched: "
       ]
      },
      {
       "name": "stdout",
       "output_type": "stream",
       "stream": "stdout",
       "text": [
        "5\n"
       ]
      },
      {
       "output_type": "stream",
       "stream": "stdout",
       "text": [
        " \n",
        "5 found at position 3\n",
        "Press (Y/y) to continue: "
       ]
      },
      {
       "name": "stdout",
       "output_type": "stream",
       "stream": "stdout",
       "text": [
        "n\n"
       ]
      },
      {
       "ename": "SystemExit",
       "evalue": "",
       "output_type": "pyerr",
       "traceback": [
        "An exception has occurred, use %tb to see the full traceback.\n",
        "\u001b[1;31mSystemExit\u001b[0m\n"
       ]
      },
      {
       "output_type": "stream",
       "stream": "stderr",
       "text": [
        "To exit: use 'exit', 'quit', or Ctrl-D.\n"
       ]
      }
     ],
     "prompt_number": 1
    },
    {
     "cell_type": "heading",
     "level": 2,
     "metadata": {},
     "source": [
      "Example 2, page no. 211"
     ]
    },
    {
     "cell_type": "code",
     "collapsed": false,
     "input": [
      "import sys\n",
      "\n",
      "arr = []\n",
      "print \"How many elements you want to enter in the array ?: \",\n",
      "n = int(raw_input())\n",
      "for i in range(n):\n",
      "    print \"Enter element %d: \" %(i+1),\n",
      "    arr.append(int(raw_input()))\n",
      "print \"\\nPress any key to continue...\",\n",
      "raw_input()\n",
      "opt = 'y'\n",
      "while(1):\n",
      "    if opt == \"Y\" or opt == \"y\":\n",
      "        print \"Enter the element to be searched: \",\n",
      "        item = int(raw_input())\n",
      "        start = 0\n",
      "        end = n - 1\n",
      "        middle = (start + end)/2\n",
      "        while(item != arr[middle] and start <= end):\n",
      "            if (item > arr[middle]):\n",
      "                start = middle+1\n",
      "            else:\n",
      "                end = middle-1\n",
      "            middle = (start+end)/2\n",
      "        if (item==arr[middle]):\n",
      "            print \"%d found at position %d\" %(item,(middle + 1));\n",
      "        if (start>end):\n",
      "            print \"%d not found in array\" %item\n",
      "        print \"Press (Y/y) to continue: \",\n",
      "        opt = raw_input()\n",
      "    else:\n",
      "        sys.exit()"
     ],
     "language": "python",
     "metadata": {},
     "outputs": [
      {
       "output_type": "stream",
       "stream": "stdout",
       "text": [
        " How many elements you want to enter in the array ?: "
       ]
      },
      {
       "name": "stdout",
       "output_type": "stream",
       "stream": "stdout",
       "text": [
        "3\n"
       ]
      },
      {
       "output_type": "stream",
       "stream": "stdout",
       "text": [
        " Enter element 1: "
       ]
      },
      {
       "name": "stdout",
       "output_type": "stream",
       "stream": "stdout",
       "text": [
        "15\n"
       ]
      },
      {
       "output_type": "stream",
       "stream": "stdout",
       "text": [
        " Enter element 2: "
       ]
      },
      {
       "name": "stdout",
       "output_type": "stream",
       "stream": "stdout",
       "text": [
        "10\n"
       ]
      },
      {
       "output_type": "stream",
       "stream": "stdout",
       "text": [
        " Enter element 3: "
       ]
      },
      {
       "name": "stdout",
       "output_type": "stream",
       "stream": "stdout",
       "text": [
        "5\n"
       ]
      },
      {
       "output_type": "stream",
       "stream": "stdout",
       "text": [
        " \n",
        "Press any key to continue..."
       ]
      },
      {
       "name": "stdout",
       "output_type": "stream",
       "stream": "stdout",
       "text": [
        "\n"
       ]
      },
      {
       "output_type": "stream",
       "stream": "stdout",
       "text": [
        " Enter the element to be searched: "
       ]
      },
      {
       "name": "stdout",
       "output_type": "stream",
       "stream": "stdout",
       "text": [
        "10\n"
       ]
      },
      {
       "output_type": "stream",
       "stream": "stdout",
       "text": [
        " 10 found at position 2\n",
        "Press (Y/y) to continue: "
       ]
      },
      {
       "name": "stdout",
       "output_type": "stream",
       "stream": "stdout",
       "text": [
        "n\n"
       ]
      },
      {
       "ename": "SystemExit",
       "evalue": "",
       "output_type": "pyerr",
       "traceback": [
        "An exception has occurred, use %tb to see the full traceback.\n",
        "\u001b[1;31mSystemExit\u001b[0m\n"
       ]
      },
      {
       "output_type": "stream",
       "stream": "stderr",
       "text": [
        "To exit: use 'exit', 'quit', or Ctrl-D.\n"
       ]
      }
     ],
     "prompt_number": 2
    },
    {
     "cell_type": "heading",
     "level": 2,
     "metadata": {},
     "source": [
      "Example 3, page no. 215"
     ]
    },
    {
     "cell_type": "code",
     "collapsed": false,
     "input": [
      "class interpolation:\n",
      "    def InterSearch(self, arr, no):\n",
      "        Low = 0\n",
      "        High = no - 1\n",
      "        print \"Enter the Number to be searched: \",\n",
      "        key = int(raw_input())\n",
      "        while(Low < High):\n",
      "            Mid = (Low+(High-Low)) * ((key-arr[Low])/(arr[High]-arr[Low]))\n",
      "            if (key < arr[Mid]):\n",
      "                High = Mid-1\n",
      "            elif (key > arr[Mid]):\n",
      "                Low = Mid+1;\n",
      "            else:\n",
      "                print \"The key \", key, \" is found at the location \", Mid\n",
      "                return\n",
      "        print \"\\nThe Key \" , key, \" is NOT found\"\n",
      "\n",
      "\n",
      "ob = interpolation()\n",
      "print \"Enter the number of elements: \",\n",
      "n = int(raw_input())\n",
      "a = []\n",
      "for i in range(n):\n",
      "    print \"Enter element %d: \" %(i+1),\n",
      "    a.append(int(raw_input()))\n",
      "b = a\n",
      "ob.InterSearch(b,n);\n",
      "print \"Press any key to continue...\",\n",
      "raw_input()"
     ],
     "language": "python",
     "metadata": {},
     "outputs": [
      {
       "output_type": "stream",
       "stream": "stdout",
       "text": [
        "Enter the number of elements: "
       ]
      },
      {
       "name": "stdout",
       "output_type": "stream",
       "stream": "stdout",
       "text": [
        "3\n"
       ]
      },
      {
       "output_type": "stream",
       "stream": "stdout",
       "text": [
        " Enter element 1: "
       ]
      },
      {
       "name": "stdout",
       "output_type": "stream",
       "stream": "stdout",
       "text": [
        "5\n"
       ]
      },
      {
       "output_type": "stream",
       "stream": "stdout",
       "text": [
        " Enter element 2: "
       ]
      },
      {
       "name": "stdout",
       "output_type": "stream",
       "stream": "stdout",
       "text": [
        "10\n"
       ]
      },
      {
       "output_type": "stream",
       "stream": "stdout",
       "text": [
        " Enter element 3: "
       ]
      },
      {
       "name": "stdout",
       "output_type": "stream",
       "stream": "stdout",
       "text": [
        "15\n"
       ]
      },
      {
       "output_type": "stream",
       "stream": "stdout",
       "text": [
        " Enter the Number to be searched: "
       ]
      },
      {
       "name": "stdout",
       "output_type": "stream",
       "stream": "stdout",
       "text": [
        "15\n"
       ]
      },
      {
       "output_type": "stream",
       "stream": "stdout",
       "text": [
        " The key  15  is found at the location  2\n",
        "Press any key to continue..."
       ]
      },
      {
       "name": "stdout",
       "output_type": "stream",
       "stream": "stdout",
       "text": [
        "\n"
       ]
      },
      {
       "metadata": {},
       "output_type": "pyout",
       "prompt_number": 5,
       "text": [
        "''"
       ]
      },
      {
       "output_type": "stream",
       "stream": "stdout",
       "text": [
        "\n"
       ]
      }
     ],
     "prompt_number": 5
    },
    {
     "cell_type": "heading",
     "level": 2,
     "metadata": {},
     "source": [
      "Example 4, page no. 217"
     ]
    },
    {
     "cell_type": "code",
     "collapsed": false,
     "input": [
      "def fib(n):\n",
      "    f1 = 0\n",
      "    f2 = 1\n",
      "    for i in range(n):\n",
      "        temp = f2\n",
      "        f2 = (f1+f2)\n",
      "        f1 = temp\n",
      "    return f2\n",
      "\n",
      "def fibonacci_search(lst, n, item):\n",
      "    j = 1\n",
      "    while(fib(j)<n):\n",
      "        f1 = fib(j-2)\n",
      "        j += 1\n",
      "    f2 = fib(j-3)\n",
      "    mid = n-(f1+1);\n",
      "    while (item != lst[mid]):\n",
      "        if(mid<0 or item > lst[mid]):\n",
      "            if (f1==1):\n",
      "                return -1\n",
      "            mid = mid+f2\n",
      "            f1 = f1-f2\n",
      "            f2 = f2-f1\n",
      "        else:\n",
      "            if (f2==0):\n",
      "                return -1\n",
      "            mid = mid-f2\n",
      "            t = f1-f2\n",
      "            f1 = f2\n",
      "            f2 = t\n",
      "    return mid\n",
      "        \n",
      "lst = []\n",
      "print \"Enter the total number of list: \",\n",
      "n = int(raw_input())\n",
      "print \"Enter the elements in the list \"\n",
      "for i in range(n):\n",
      "    print \"Input number \", i+1, \": \",\n",
      "    lst.append(int(raw_input()))\n",
      "print \"Enter the number to be searched: \",\n",
      "item = int(raw_input())\n",
      "loc = fibonacci_search(lst, n, item)\n",
      "if (loc != -1):\n",
      "    print \"The number is in the list...\"\n",
      "else:\n",
      "    print \"The number is not in the list...\"\n",
      "raw_input()"
     ],
     "language": "python",
     "metadata": {},
     "outputs": [
      {
       "output_type": "stream",
       "stream": "stdout",
       "text": [
        "Enter the total number of list: "
       ]
      },
      {
       "name": "stdout",
       "output_type": "stream",
       "stream": "stdout",
       "text": [
        "3\n"
       ]
      },
      {
       "output_type": "stream",
       "stream": "stdout",
       "text": [
        " Enter the elements in the list \n",
        "Input number  1 : "
       ]
      },
      {
       "name": "stdout",
       "output_type": "stream",
       "stream": "stdout",
       "text": [
        "5\n"
       ]
      },
      {
       "output_type": "stream",
       "stream": "stdout",
       "text": [
        " Input number  2 : "
       ]
      },
      {
       "name": "stdout",
       "output_type": "stream",
       "stream": "stdout",
       "text": [
        "10\n"
       ]
      },
      {
       "output_type": "stream",
       "stream": "stdout",
       "text": [
        " Input number  3 : "
       ]
      },
      {
       "name": "stdout",
       "output_type": "stream",
       "stream": "stdout",
       "text": [
        "15\n"
       ]
      },
      {
       "output_type": "stream",
       "stream": "stdout",
       "text": [
        " Enter the number to be searched: "
       ]
      },
      {
       "name": "stdout",
       "output_type": "stream",
       "stream": "stdout",
       "text": [
        "10\n"
       ]
      },
      {
       "output_type": "stream",
       "stream": "stdout",
       "text": [
        " The number is in the list...\n"
       ]
      },
      {
       "name": "stdout",
       "output_type": "stream",
       "stream": "stdout",
       "text": [
        "\n"
       ]
      },
      {
       "metadata": {},
       "output_type": "pyout",
       "prompt_number": 6,
       "text": [
        "''"
       ]
      }
     ],
     "prompt_number": 6
    }
   ],
   "metadata": {}
  }
 ]
}