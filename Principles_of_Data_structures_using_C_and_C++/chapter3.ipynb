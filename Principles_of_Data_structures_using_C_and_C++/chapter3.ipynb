{
 "metadata": {
  "name": "",
  "signature": "sha256:c98469f20d33ab4fe0f1fcb5a671c040610d80e4c529865895fc0cc3edbc9a24"
 },
 "nbformat": 3,
 "nbformat_minor": 0,
 "worksheets": [
  {
   "cells": [
    {
     "cell_type": "raw",
     "metadata": {},
     "source": [
      "Chapter 3: The Stack"
     ]
    },
    {
     "cell_type": "heading",
     "level": 2,
     "metadata": {},
     "source": [
      "Example 1, page no. 28"
     ]
    },
    {
     "cell_type": "code",
     "collapsed": false,
     "input": [
      "MAXSIZE = 100\n",
      "\n",
      "class stack:\n",
      "    def __init__(self):\n",
      "        self.stack = []\n",
      "        self.top = -1\n",
      "\n",
      "def push(pu):\n",
      "    if(pu.top == MAXSIZE-1):\n",
      "        print \"The stack is full\"\n",
      "    else:\n",
      "        print \"Enter the element to be inserted: \"\n",
      "        item = int(raw_input())\n",
      "        pu.stack.append(item)\n",
      "        pu.top += 1\n",
      "\n",
      "def pop(po):\n",
      "    if(po.top == -1):\n",
      "        print \"Stack is empty\"\n",
      "    else:\n",
      "        item = po.stack[po.top]\n",
      "        po.top-=1\n",
      "        print \"The item deleted is: %d\" %item\n",
      "\n",
      "\n",
      "def traverse(pt):\n",
      "    if(pt.top == -1):\n",
      "        print \"Stack is empty\"\n",
      "    else:\n",
      "        print \"The element(s) in the stack are...\"\n",
      "        i = pt.top\n",
      "        while(i>=0):\n",
      "            print \"%d\" %pt.stack[i],\n",
      "            i-=1\n",
      "\n",
      "ps = stack()\n",
      "ch = 'y'\n",
      "\n",
      "while(ch == 'Y' or ch == 'y'):\n",
      "    print \"1. PUSH\"\n",
      "    print \"2. POP\"\n",
      "    print \"3. TRAVERSE\"\n",
      "    print \"Enter your choice: \"\n",
      "    choice = int(raw_input())\n",
      "    if(choice == 1):\n",
      "        push(ps)\n",
      "    elif(choice == 2):\n",
      "        pop(ps)\n",
      "    elif(choice == 3):\n",
      "        traverse(ps)\n",
      "    else:\n",
      "        print \"You entered a wrong choice...\"\n",
      "    \n",
      "    print \"\\nPrint Y/y to continue\"\n",
      "    ch = raw_input()\n"
     ],
     "language": "python",
     "metadata": {},
     "outputs": [
      {
       "output_type": "stream",
       "stream": "stdout",
       "text": [
        "1. PUSH\n",
        "2. POP\n",
        "3. TRAVERSE\n",
        "Enter your choice: \n"
       ]
      },
      {
       "name": "stdout",
       "output_type": "stream",
       "stream": "stdout",
       "text": [
        "1\n"
       ]
      },
      {
       "output_type": "stream",
       "stream": "stdout",
       "text": [
        "Enter the element to be inserted: \n"
       ]
      },
      {
       "name": "stdout",
       "output_type": "stream",
       "stream": "stdout",
       "text": [
        "5\n"
       ]
      },
      {
       "output_type": "stream",
       "stream": "stdout",
       "text": [
        "\n",
        "Print Y/y to continue\n"
       ]
      },
      {
       "name": "stdout",
       "output_type": "stream",
       "stream": "stdout",
       "text": [
        "y\n"
       ]
      },
      {
       "output_type": "stream",
       "stream": "stdout",
       "text": [
        "1. PUSH\n",
        "2. POP\n",
        "3. TRAVERSE\n",
        "Enter your choice: \n"
       ]
      },
      {
       "name": "stdout",
       "output_type": "stream",
       "stream": "stdout",
       "text": [
        "1\n"
       ]
      },
      {
       "output_type": "stream",
       "stream": "stdout",
       "text": [
        "Enter the element to be inserted: \n"
       ]
      },
      {
       "name": "stdout",
       "output_type": "stream",
       "stream": "stdout",
       "text": [
        "10\n"
       ]
      },
      {
       "output_type": "stream",
       "stream": "stdout",
       "text": [
        "\n",
        "Print Y/y to continue\n"
       ]
      },
      {
       "name": "stdout",
       "output_type": "stream",
       "stream": "stdout",
       "text": [
        "3\n"
       ]
      }
     ],
     "prompt_number": 2
    },
    {
     "cell_type": "heading",
     "level": 2,
     "metadata": {},
     "source": [
      "Exampe 2, page no. 31"
     ]
    },
    {
     "cell_type": "code",
     "collapsed": false,
     "input": [
      "MAXSIZE = 100\n",
      "\n",
      "class stack:\n",
      "    \n",
      "    def __init__(self):\n",
      "        self.stack = []\n",
      "        self.top = -1\n",
      "    \n",
      "    def push(self,pu):\n",
      "        if(pu.top == MAXSIZE-1):\n",
      "            print \"The stack is full\"\n",
      "        else:   \n",
      "            print \"Enter the element to be inserted: \"\n",
      "            item = int(raw_input())\n",
      "            pu.stack.append(item)\n",
      "            pu.top += 1\n",
      "\n",
      "    def pop(self,po):\n",
      "        if(po.top == -1):\n",
      "            print \"Stack is empty\"\n",
      "        else:\n",
      "            item = po.stack[po.top]\n",
      "            po.top-=1\n",
      "            print \"The item deleted is: %d\" %item\n",
      "    \n",
      "    def traverse(self,pt):\n",
      "        if(pt.top == -1):\n",
      "            print \"Stack is empty\"\n",
      "        else:\n",
      "            print \"The element(s) in the stack are...\"\n",
      "            i = pt.top\n",
      "            while(i>=0):\n",
      "                print \"%d\" %pt.stack[i],\n",
      "                i-=1\n",
      "\n",
      "ps = stack()\n",
      "ch = 'y'\n",
      "\n",
      "while(ch == 'Y' or ch == 'y'):\n",
      "    print \"1. PUSH\"\n",
      "    print \"2. POP\"\n",
      "    print \"3. TRAVERSE\"\n",
      "    print \"Enter your choice: \"\n",
      "    choice = int(raw_input())\n",
      "    if(choice == 1):\n",
      "        ps.push(ps)\n",
      "    elif(choice == 2):\n",
      "        ps.pop(ps)\n",
      "    elif(choice == 3):\n",
      "        ps.traverse(ps)\n",
      "    else:\n",
      "        print \"You entered a wrong choice...\"\n",
      "    \n",
      "    print \"\\nPrint Y/y to continue\"\n",
      "    ch = raw_input()\n"
     ],
     "language": "python",
     "metadata": {},
     "outputs": [
      {
       "output_type": "stream",
       "stream": "stdout",
       "text": [
        "1. PUSH\n",
        "2. POP\n",
        "3. TRAVERSE\n",
        "Enter your choice: \n"
       ]
      },
      {
       "name": "stdout",
       "output_type": "stream",
       "stream": "stdout",
       "text": [
        "1\n"
       ]
      },
      {
       "output_type": "stream",
       "stream": "stdout",
       "text": [
        "Enter the element to be inserted: \n"
       ]
      },
      {
       "name": "stdout",
       "output_type": "stream",
       "stream": "stdout",
       "text": [
        "5\n"
       ]
      },
      {
       "output_type": "stream",
       "stream": "stdout",
       "text": [
        "\n",
        "Print Y/y to continue\n"
       ]
      },
      {
       "name": "stdout",
       "output_type": "stream",
       "stream": "stdout",
       "text": [
        "y\n"
       ]
      },
      {
       "output_type": "stream",
       "stream": "stdout",
       "text": [
        "1. PUSH\n",
        "2. POP\n",
        "3. TRAVERSE\n",
        "Enter your choice: \n"
       ]
      },
      {
       "name": "stdout",
       "output_type": "stream",
       "stream": "stdout",
       "text": [
        "1\n"
       ]
      },
      {
       "output_type": "stream",
       "stream": "stdout",
       "text": [
        "Enter the element to be inserted: \n"
       ]
      },
      {
       "name": "stdout",
       "output_type": "stream",
       "stream": "stdout",
       "text": [
        "10\n"
       ]
      },
      {
       "output_type": "stream",
       "stream": "stdout",
       "text": [
        "\n",
        "Print Y/y to continue\n"
       ]
      },
      {
       "name": "stdout",
       "output_type": "stream",
       "stream": "stdout",
       "text": [
        "y\n"
       ]
      },
      {
       "output_type": "stream",
       "stream": "stdout",
       "text": [
        "1. PUSH\n",
        "2. POP\n",
        "3. TRAVERSE\n",
        "Enter your choice: \n"
       ]
      },
      {
       "name": "stdout",
       "output_type": "stream",
       "stream": "stdout",
       "text": [
        "3\n"
       ]
      },
      {
       "output_type": "stream",
       "stream": "stdout",
       "text": [
        "The element(s) in the stack are...\n",
        "10 5 \n",
        "Print Y/y to continue\n"
       ]
      },
      {
       "name": "stdout",
       "output_type": "stream",
       "stream": "stdout",
       "text": [
        "n\n"
       ]
      }
     ],
     "prompt_number": 4
    },
    {
     "cell_type": "heading",
     "level": 2,
     "metadata": {},
     "source": [
      "Example 3, page no. 31"
     ]
    },
    {
     "cell_type": "code",
     "collapsed": false,
     "input": [
      "def fact(n):\n",
      "    if (n<=0):\n",
      "        return 1\n",
      "    else:\n",
      "        return n * fact(n-1)\n",
      "\n",
      "print \"Enter a number: \"\n",
      "n = int(raw_input())\n",
      "n = fact(n)\n",
      "print \"Factorial is: %d\" %n"
     ],
     "language": "python",
     "metadata": {},
     "outputs": [
      {
       "output_type": "stream",
       "stream": "stdout",
       "text": [
        "Enter a number: \n"
       ]
      },
      {
       "name": "stdout",
       "output_type": "stream",
       "stream": "stdout",
       "text": [
        "5\n"
       ]
      },
      {
       "output_type": "stream",
       "stream": "stdout",
       "text": [
        "Factorial is: 120\n"
       ]
      }
     ],
     "prompt_number": 5
    },
    {
     "cell_type": "heading",
     "level": 2,
     "metadata": {},
     "source": [
      "Example 4, page no. 36"
     ]
    },
    {
     "cell_type": "code",
     "collapsed": false,
     "input": [
      "class tower:\n",
      "    \n",
      "    def __init__(self):\n",
      "        self.nodisk = 0\n",
      "        self.fromtower = \"\"\n",
      "        self.totower = \"\"\n",
      "        self.auxtower = \"\"\n",
      "    \n",
      "    def hanoi(self,i, frm_t, to_t, aux_t):\n",
      "        if(i <= 1):\n",
      "            print \"Move from disk 1 from tower \" + frm_t + \" to tower \" + to_t\n",
      "            return\n",
      "        self.hanoi(i-1, frm_t, aux_t, to_t)\n",
      "        print \"\\nMove from disk \" + str(i) + \" from tower \" + frm_t + \" to tower \" + to_t\n",
      "        self.hanoi(i-1,aux_t, to_t, frm_t)\n",
      "\n",
      "print \"-----------Tower of Hanoi-------------\"\n",
      "print \"Enter number of disks: \"\n",
      "no = int(raw_input())\n",
      "ob = tower()\n",
      "ob.hanoi(no,'X','Y','Z')\n",
      "print \"Press any key to continue...\"\n",
      "raw_input()"
     ],
     "language": "python",
     "metadata": {},
     "outputs": [
      {
       "output_type": "stream",
       "stream": "stdout",
       "text": [
        "-----------Tower of Hanoi-------------\n",
        "Enter number of disks: \n"
       ]
      },
      {
       "name": "stdout",
       "output_type": "stream",
       "stream": "stdout",
       "text": [
        "4\n"
       ]
      },
      {
       "output_type": "stream",
       "stream": "stdout",
       "text": [
        "Move from disk 1 from tower X to tower Z\n",
        "\n",
        "Move from disk 2 from tower X to tower Y\n",
        "Move from disk 1 from tower Z to tower Y\n",
        "\n",
        "Move from disk 3 from tower X to tower Z\n",
        "Move from disk 1 from tower Y to tower X\n",
        "\n",
        "Move from disk 2 from tower Y to tower Z\n",
        "Move from disk 1 from tower X to tower Z\n",
        "\n",
        "Move from disk 4 from tower X to tower Y\n",
        "Move from disk 1 from tower Z to tower Y\n",
        "\n",
        "Move from disk 2 from tower Z to tower X\n",
        "Move from disk 1 from tower Y to tower X\n",
        "\n",
        "Move from disk 3 from tower Z to tower Y\n",
        "Move from disk 1 from tower X to tower Z\n",
        "\n",
        "Move from disk 2 from tower X to tower Y\n",
        "Move from disk 1 from tower Z to tower Y\n",
        "Press any key to continue...\n"
       ]
      },
      {
       "name": "stdout",
       "output_type": "stream",
       "stream": "stdout",
       "text": [
        "\n"
       ]
      },
      {
       "metadata": {},
       "output_type": "pyout",
       "prompt_number": 6,
       "text": [
        "''"
       ]
      }
     ],
     "prompt_number": 6
    },
    {
     "cell_type": "heading",
     "level": 2,
     "metadata": {},
     "source": [
      "Example 5, page no. 48"
     ]
    },
    {
     "cell_type": "code",
     "collapsed": false,
     "input": [
      "MAXSIZE = 100\n",
      "\n",
      "class stack:\n",
      "    def __init__(self):\n",
      "        self.stack = []\n",
      "        self.top = -1\n",
      "\n",
      "def push(pu,symbol):\n",
      "    if(pu.top == MAXSIZE-1):\n",
      "        print \"The stack is full\"\n",
      "    else:\n",
      "        pu.stack.append(symbol)\n",
      "        pu.top += 1\n",
      "    return pu\n",
      "\n",
      "def pop(po):\n",
      "    if(po.top == -1):\n",
      "        print \"Stack is empty\"\n",
      "    else:\n",
      "        symbol = po.stack.pop()\n",
      "        po.top-=1\n",
      "    return symbol,po\n",
      "        \n",
      "        \n",
      "def prec(symbol):\n",
      "    if symbol == '(':\n",
      "        return 1\n",
      "    elif symbol == ')':\n",
      "        return 2\n",
      "    elif symbol == '+' or symbol == '-':\n",
      "        return 3\n",
      "    elif symbol == '*' or symbol == '/' or symbol == '%':\n",
      "        return 4\n",
      "    elif symbol == '^':\n",
      "        return 5\n",
      "    else:\n",
      "        return 0\n",
      "\n",
      "def infix_postfix(infix):\n",
      "    \n",
      "    length = len(infix)\n",
      "    ps = stack()\n",
      "    infix += ')'\n",
      "    ps = push(ps,'(')\n",
      "    postfix = []\n",
      "    for i in range(0,length+1):\n",
      "        ret_val = prec(infix[i])\n",
      "        if ret_val == 1:\n",
      "            ps = push(ps,infix[i])\n",
      "        elif(ret_val == 2):\n",
      "            ch,ps = pop(ps)\n",
      "            while(ch != '('):\n",
      "                postfix.append(ch)\n",
      "                ch,ps = pop(ps)\n",
      "        elif(ret_val == 3):\n",
      "            ch,ps = pop(ps)\n",
      "            while(prec(ch) >= 3):\n",
      "                postfix.append(ch)\n",
      "                ch,ps = pop(ps)\n",
      "            ps=push(ps,ch)\n",
      "            ps=push(ps,infix[i])\n",
      "        elif(ret_val == 4):\n",
      "            ch,ps = pop(ps)\n",
      "            while(prec(ch) >= 4):\n",
      "                postfix.append(ch)\n",
      "                ch,ps = pop(ps)\n",
      "            ps=push(ps,ch)\n",
      "            ps=push(ps,infix[i])\n",
      "        elif(ret_val == 5):\n",
      "            ch,ps = pop(ps)\n",
      "            while(prec(ch) == 5):\n",
      "                postfix.append(ch)\n",
      "                ch,ps = pop(ps)\n",
      "            ps=push(ps,ch)\n",
      "            ps=push(ps,infix[i])\n",
      "        else:\n",
      "            postfix.append(infix[i])\n",
      "\n",
      "    print \"The postfix expression is: \"\n",
      "    print postfix\n",
      "\n",
      "choice = 'y'\n",
      "while (choice == 'Y' or choice == 'y'):\n",
      "    print \"Enter an infix expression: \"\n",
      "    infix = raw_input()\n",
      "    infix_postfix(infix)\n",
      "    print \"Do you want to continue? Y/y \"\n",
      "    choice = raw_input()"
     ],
     "language": "python",
     "metadata": {},
     "outputs": [
      {
       "output_type": "stream",
       "stream": "stdout",
       "text": [
        "Enter an infix expression: \n"
       ]
      },
      {
       "name": "stdout",
       "output_type": "stream",
       "stream": "stdout",
       "text": [
        "a+b\n"
       ]
      },
      {
       "output_type": "stream",
       "stream": "stdout",
       "text": [
        "The postfix expression is: \n",
        "['a', 'b', '+']\n",
        "Do you want to continue? Y/y \n"
       ]
      },
      {
       "name": "stdout",
       "output_type": "stream",
       "stream": "stdout",
       "text": [
        "n\n"
       ]
      }
     ],
     "prompt_number": 9
    },
    {
     "cell_type": "heading",
     "level": 2,
     "metadata": {},
     "source": [
      "Example 6, page no. 52"
     ]
    },
    {
     "cell_type": "code",
     "collapsed": false,
     "input": [
      "\n",
      "MAXSIZE = 100\n",
      "\n",
      "class stack:\n",
      "    def __init__(self):\n",
      "        self.stack = []\n",
      "        self.top = -1\n",
      "\n",
      "    def push(self, pu, symbol):\n",
      "        if(pu.top == MAXSIZE-1):\n",
      "            print \"The stack is full\"\n",
      "        else:\n",
      "            pu.stack.append(symbol)\n",
      "            pu.top += 1\n",
      "        return pu\n",
      "\n",
      "    def pop(self, po):\n",
      "        if(po.top == -1):\n",
      "            print \"Stack is empty\"\n",
      "        else:\n",
      "            symbol = po.stack.pop()\n",
      "            po.top-=1\n",
      "        return symbol,po\n",
      "            \n",
      "            \n",
      "    def prec(self, symbol):\n",
      "        if symbol == '(':\n",
      "            return 1\n",
      "        elif symbol == ')':\n",
      "            return 2\n",
      "        elif symbol == '+' or symbol == '-':\n",
      "            return 3\n",
      "        elif symbol == '*' or symbol == '/' or symbol == '%':\n",
      "            return 4\n",
      "        elif symbol == '^':\n",
      "            return 5\n",
      "        else:\n",
      "            return 0\n",
      "\n",
      "def infix_postfix(infix):\n",
      "    \n",
      "    length = len(infix)\n",
      "    ps = stack()\n",
      "    infix += ')'\n",
      "    ps = ps.push(ps,'(')\n",
      "    postfix = []\n",
      "    for i in range(0,length+1):\n",
      "        ret_val = ps.prec(infix[i])\n",
      "        if ret_val == 1:\n",
      "            ps = ps.push(ps,infix[i])\n",
      "        elif(ret_val == 2):\n",
      "            ch,ps = ps.pop(ps)\n",
      "            while(ch != '('):\n",
      "                postfix.append(ch)\n",
      "                ch,ps = ps.pop(ps)\n",
      "        elif(ret_val == 3):\n",
      "            ch,ps = ps.pop(ps)\n",
      "            while(ps.prec(ch) >= 3):\n",
      "                postfix.append(ch)\n",
      "                ch,ps = ps.pop(ps)\n",
      "            ps = ps.push(ps,ch)\n",
      "            ps = ps.push(ps,infix[i])\n",
      "        elif(ret_val == 4):\n",
      "            ch,ps = ps.pop(ps)\n",
      "            while(ps.prec(ch) >= 4):\n",
      "                postfix.append(ch)\n",
      "                ch,ps = ps.pop(ps)\n",
      "            ps = ps.push(ps,ch)\n",
      "            ps = ps.push(ps,infix[i])\n",
      "        elif(ret_val == 5):\n",
      "            ch,ps = ps.pop(ps)\n",
      "            while(ps.prec(ch) == 5):\n",
      "                postfix.append(ch)\n",
      "                ch,ps = ps.pop(ps)\n",
      "            ps = ps.push(ps,ch)\n",
      "            ps = ps.push(ps,infix[i])\n",
      "        else:\n",
      "            postfix.append(infix[i])\n",
      "    print \"The postfix expression is: \"\n",
      "    print postfix\n",
      "\n",
      "choice = 'y'\n",
      "while (choice == 'Y' or choice == 'y'):\n",
      "    print \"Enter an infix expression: \"\n",
      "    infix = raw_input()\n",
      "    infix_postfix(infix)\n",
      "    print \"Do you want to continue? Y/y \"\n",
      "    choice = raw_input()"
     ],
     "language": "python",
     "metadata": {},
     "outputs": [
      {
       "output_type": "stream",
       "stream": "stdout",
       "text": [
        "Enter an infix expression: \n"
       ]
      },
      {
       "name": "stdout",
       "output_type": "stream",
       "stream": "stdout",
       "text": [
        "a+b\n"
       ]
      },
      {
       "output_type": "stream",
       "stream": "stdout",
       "text": [
        "The postfix expression is: \n",
        "['a', 'b', '+']\n",
        "Do you want to continue? Y/y \n"
       ]
      },
      {
       "name": "stdout",
       "output_type": "stream",
       "stream": "stdout",
       "text": [
        "n\n"
       ]
      }
     ],
     "prompt_number": 1
    },
    {
     "cell_type": "heading",
     "level": 2,
     "metadata": {},
     "source": [
      "Example 7, page no. 57"
     ]
    },
    {
     "cell_type": "code",
     "collapsed": false,
     "input": [
      "MAXSIZE = 100\n",
      "\n",
      "class stack:\n",
      "    def __init__(self):\n",
      "        self.stack = []\n",
      "        self.top = -1\n",
      "\n",
      "def push(pu,item):\n",
      "    if(pu.top == MAXSIZE-1):\n",
      "        print \"The stack is full\"\n",
      "    else:\n",
      "        pu.stack.append(item)\n",
      "        pu.top += 1\n",
      "    return pu\n",
      "\n",
      "def pop(po):\n",
      "    if(po.top == -1):\n",
      "        print \"Stack is empty\"\n",
      "    else:\n",
      "        item = po.stack.pop()\n",
      "        po.top-=1\n",
      "        return po, item\n",
      "\n",
      "def postfix_eval(postfix):\n",
      "    ps = stack()\n",
      "    for i in range(0,len(postfix)):\n",
      "        if(postfix[i]<='9' and postfix[i]>='0'):\n",
      "            ps = push(ps, postfix[i])\n",
      "        else:\n",
      "            ps, a = pop(ps)\n",
      "            ps, b = pop(ps)\n",
      "            a = int(a)\n",
      "            b = int(b)\n",
      "            temp = 0\n",
      "            if postfix[i] == \"+\":\n",
      "                temp = b+a\n",
      "            elif postfix[i] == \"-\":\n",
      "                temp = b-a\n",
      "            elif postfix[i] == \"*\":\n",
      "                temp = b*a\n",
      "            elif postfix[i] == \"/\":\n",
      "                temp = b/a\n",
      "            elif postfix[i] == \"%\":\n",
      "                temp = a%b\n",
      "            elif postfix[i] == \"^\":\n",
      "                temp = pow(a,b)\n",
      "            ps = push(ps, temp)\n",
      "    ps, a = pop(ps)\n",
      "    return a\n",
      "\n",
      "choice = \"y\"\n",
      "while(choice == \"Y\" or choice == \"y\"):\n",
      "    print \"Enter the postfix expression: \",\n",
      "    post_fix = raw_input()\n",
      "    print \"The post fix evaluation is \", postfix_eval(post_fix),\n",
      "    print \"\\nYou want to continue(Y/y) ?? \"\n",
      "    choice = raw_input()"
     ],
     "language": "python",
     "metadata": {},
     "outputs": [
      {
       "output_type": "stream",
       "stream": "stdout",
       "text": [
        "Enter the postfix expression: "
       ]
      },
      {
       "name": "stdout",
       "output_type": "stream",
       "stream": "stdout",
       "text": [
        "54+\n"
       ]
      },
      {
       "output_type": "stream",
       "stream": "stdout",
       "text": [
        " The post fix evaluation is  9 \n",
        "You want to continue(Y/y) ?? \n"
       ]
      },
      {
       "name": "stdout",
       "output_type": "stream",
       "stream": "stdout",
       "text": [
        "n\n"
       ]
      }
     ],
     "prompt_number": 3
    },
    {
     "cell_type": "code",
     "collapsed": false,
     "input": [
      "# Example 8 will be same as Example 6."
     ],
     "language": "python",
     "metadata": {},
     "outputs": []
    }
   ],
   "metadata": {}
  }
 ]
}