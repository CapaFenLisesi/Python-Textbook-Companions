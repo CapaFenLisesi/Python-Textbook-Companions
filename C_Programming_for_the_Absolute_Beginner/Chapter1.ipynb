{
 "metadata": {
  "name": "",
  "signature": "sha256:ed1073b28a905078eb23296522b8b59bf416e5275a011e43147248d1acd57f5a"
 },
 "nbformat": 3,
 "nbformat_minor": 0,
 "worksheets": [
  {
   "cells": [
    {
     "cell_type": "heading",
     "level": 1,
     "metadata": {},
     "source": [
      "Chapter 1 GETTING STARTED WITH C PROGRAMMING"
     ]
    },
    {
     "cell_type": "heading",
     "level": 2,
     "metadata": {},
     "source": [
      "Example 1.1, Page No. 6"
     ]
    },
    {
     "cell_type": "code",
     "collapsed": false,
     "input": [
      "print \"C you later\""
     ],
     "language": "python",
     "metadata": {},
     "outputs": [
      {
       "output_type": "stream",
       "stream": "stdout",
       "text": [
        "C you later\n"
       ]
      }
     ],
     "prompt_number": 1
    },
    {
     "cell_type": "heading",
     "level": 2,
     "metadata": {},
     "source": [
      "Example 1.2, Page No. 18"
     ]
    },
    {
     "cell_type": "code",
     "collapsed": false,
     "input": [
      "print \"Chapter 1. Getting Started with C programming\"\n",
      "print \"This is an example of format bug.\"\n",
      "print \"The format issue can be corrected by using\"\n",
      "print \"the \\n and \\\\ escape sequnece\""
     ],
     "language": "python",
     "metadata": {},
     "outputs": [
      {
       "output_type": "stream",
       "stream": "stdout",
       "text": [
        "Chapter 1. Getting Started with C programming\n",
        "This is an example of format bug.\n",
        "The format issue can be corrected by using\n",
        "the \n",
        " and \\ escape sequnece\n"
       ]
      }
     ],
     "prompt_number": 2
    },
    {
     "cell_type": "heading",
     "level": 2,
     "metadata": {},
     "source": [
      "Exmaple 1.3, Page No. 18"
     ]
    },
    {
     "cell_type": "code",
     "collapsed": false,
     "input": [
      "print \"Chapter 1. Getting Started with C programming\"\n",
      "print \"This is an example of format bug.\"\n",
      "print \"The format issue can be corrected by using\"\n",
      "print \"the \\\\n and \\\\\\\\ escape sequnece\""
     ],
     "language": "python",
     "metadata": {},
     "outputs": [
      {
       "output_type": "stream",
       "stream": "stdout",
       "text": [
        "Chapter 1. Getting Started with C programming\n",
        "This is an example of format bug.\n",
        "The format issue can be corrected by using\n",
        "the \\n and \\\\ escape sequnece\n"
       ]
      }
     ],
     "prompt_number": 4
    }
   ],
   "metadata": {}
  }
 ]
}