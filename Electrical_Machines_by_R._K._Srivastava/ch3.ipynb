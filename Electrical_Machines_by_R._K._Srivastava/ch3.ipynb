{
 "metadata": {
  "name": "",
  "signature": "sha256:8c0e26b2120c740eae3eda89e337841bb8c023e39333e40c3ee698af058c7096"
 },
 "nbformat": 3,
 "nbformat_minor": 0,
 "worksheets": [
  {
   "cells": [
    {
     "cell_type": "heading",
     "level": 1,
     "metadata": {},
     "source": [
      "Chapter 3 : Transformers"
     ]
    },
    {
     "cell_type": "heading",
     "level": 2,
     "metadata": {},
     "source": [
      "Example 3.1  Page No : 26"
     ]
    },
    {
     "cell_type": "code",
     "collapsed": false,
     "input": [
      "import math \n",
      "\n",
      "\n",
      "# GIVEN DATA\n",
      "\n",
      "Z = (0.05 + 0.05 * 1j) * 100;          # Transmission line parameters (impedance) in Ohms (multiplied by 100 because dismath.tance of the Transmission line is 100km)\n",
      "R = 0.05 * 100;                        # Transmission line resistance in Ohms (multiplied by 100 because dismath.tance of the Transmission line is 100km)\n",
      "V1 = 220;                             # Terminal voltage in Volts\n",
      "V2 = 1 * 10 ** 3;                      # Terminal volatge from Generator side in Volts\n",
      "P = 20 * 10 ** 3;                      # Power in Watts\n",
      "\n",
      "\n",
      "# CACULATIONS\n",
      "\n",
      "I1 = P/V1;                          # Line current for 220V in Amphere\n",
      "I2 = P/V2;                          # Line current for 1kV in Amphere\n",
      "I1Z = Z*I1;                         # Voltage drop due to I1 in Volts \n",
      "I2Z = Z*I2;                         # Voltage drop due to I2 in Volts\n",
      "Loss1 = (I1 ** 2) * R * 10 ** -3;     # Line loss for I1 in kW\n",
      "Loss2 = (I2 ** 2) * R * 10 ** -3;     # Line loss for I2 in kW\n",
      "Vg1 = V1 + I1Z;                     # Input Voltages on Generator Terminal in Volts\n",
      "Vg2 = V2 + I2Z;                     # Input Voltages on Generator Terminal in Volts\n",
      "\n",
      "\n",
      "# DISPLAY RESULTS\n",
      "\n",
      "print (\"EXAMPLE : 3.1 : SOLUTION :-\") ;\n",
      "print \" a.1) Voltage drop due to I1 ,I1Z = % .2f+j%.2f  V  \"%(I1Z.real,I1Z.imag);\n",
      "print \" a.2) Voltage drop due to I2 , I2Z = % .f+j%.f  V \"%(I2Z.real,I2Z.imag);\n",
      "print \" b.1) Line loss for I1 , Loss1 = %.2f kW  \"%(Loss1);\n",
      "print \" b.2) Line loss for I2 , Loss2 = % .2f kW \"%(Loss2);\n",
      "print \" c.1) Input Voltages on Generator Terminal from a load terminal , Vg1 = %.2f+j%.2f = %.2f V  \"%(Vg1.real,Vg1.imag,abs(Vg1));\n",
      "print \" c.2) Input Voltages on Generator Terminal from a Generating Station , Vg2 = % .f+j%.f = %.2f V \"%(Vg2.real,Vg2.imag,abs(Vg2));\n",
      "print \"    [ TEXT BOOK SOLUTION IS PRINTED WRONGLY  I verified by manual calculation ]\" ;\n",
      "print \"      WRONGLY PRINTED ANSWERS ARE :- a I1Z = 450.45+j450.45V instead of 454.55+j454.55 V\" ;\n",
      "print \" b) Vg1 = 670.45)+j450.45) = 807.72 V  instead of % .2f+j%.2f = %.2f V \"%(Vg1.real,Vg1.imag,abs(Vg1) );\n"
     ],
     "language": "python",
     "metadata": {},
     "outputs": [
      {
       "output_type": "stream",
       "stream": "stdout",
       "text": [
        "EXAMPLE : 3.1 : SOLUTION :-\n",
        " a.1) Voltage drop due to I1 ,I1Z =  450.00+j450.00  V  \n",
        " a.2) Voltage drop due to I2 , I2Z =  100+j100  V \n",
        " b.1) Line loss for I1 , Loss1 = 40.50 kW  \n",
        " b.2) Line loss for I2 , Loss2 =  2.00 kW \n",
        " c.1) Input Voltages on Generator Terminal from a load terminal , Vg1 = 670.00+j450.00 = 807.09 V  \n",
        " c.2) Input Voltages on Generator Terminal from a Generating Station , Vg2 =  1100+j100 = 1104.54 V \n",
        "    [ TEXT BOOK SOLUTION IS PRINTED WRONGLY  I verified by manual calculation ]\n",
        "      WRONGLY PRINTED ANSWERS ARE :- a I1Z = 450.45+j450.45V instead of 454.55+j454.55 V\n",
        " b) Vg1 = 670.45)+j450.45) = 807.72 V  instead of  670.00+j450.00 = 807.09 V \n"
       ]
      }
     ],
     "prompt_number": 1
    },
    {
     "cell_type": "heading",
     "level": 2,
     "metadata": {},
     "source": [
      "Example 3.2  Page No : 28"
     ]
    },
    {
     "cell_type": "code",
     "collapsed": false,
     "input": [
      "import math \n",
      "\n",
      "# GIVEN DATA\n",
      "E1 = 6.6 * 10 ** 3;              # Primary voltage in Volts\n",
      "E2 = 220;                       # Secondary Voltage in volts \n",
      "f = 50;                         # Frequency in Hertz\n",
      "phi_m = 0.06;                   # Flux in Weber\n",
      "S = 50 * 10**6;                  # Rating of the math.single-phase transformer in VA\n",
      "\n",
      "# CALCULATIONS\n",
      "N1 = E1/(4.44*f*phi_m);         # Number of turns in Primary\n",
      "vpn1 = E1/N1;                    # Voltage per turns in Primary in Volts/turn\n",
      "N2 = E2/(4.44*f*phi_m);         # Number of turns in Secondary\n",
      "vpn2 = E2/N2;                    # Voltage per turns in Secondary in Volts/turn\n",
      "\n",
      "\n",
      "# DISPLAY RESULTS\n",
      "print (\"EXAMPLE : 3.2 : SOLUTION :-\") ;\n",
      "print \" a.1) Number of turns in Primary , N1 = %.1f Turns nearly 496 Turns  \"%(N1);\n",
      "print \" a.2) Number of turns in Secondary , N2 = %.1f Turns nearly 16 Turns \"%(N2);\n",
      "print \" b.1) Voltage per turns in Primary , vpn1 = %.1f Volts/turns  \"%(vpn1);\n",
      "print \" b.2) Voltage per turns in Secondary , vpn2 = %.2f Volts/turns  \"%(vpn2);"
     ],
     "language": "python",
     "metadata": {},
     "outputs": [
      {
       "output_type": "stream",
       "stream": "stdout",
       "text": [
        "EXAMPLE : 3.2 : SOLUTION :-\n",
        " a.1) Number of turns in Primary , N1 = 495.5 Turns nearly 496 Turns  \n",
        " a.2) Number of turns in Secondary , N2 = 16.5 Turns nearly 16 Turns \n",
        " b.1) Voltage per turns in Primary , vpn1 = 13.3 Volts/turns  \n",
        " b.2) Voltage per turns in Secondary , vpn2 = 13.32 Volts/turns  \n"
       ]
      }
     ],
     "prompt_number": 2
    },
    {
     "cell_type": "heading",
     "level": 2,
     "metadata": {},
     "source": [
      "Example 3.3  Page No : 30"
     ]
    },
    {
     "cell_type": "code",
     "collapsed": false,
     "input": [
      "\n",
      "\n",
      "\n",
      "# GIVEN DATA\n",
      "f = 50;                 # Frequency in Hertz\n",
      "N = 50;                 # Number of turns in Secondary\n",
      "E =220;                 # Induced voltage in Volts\n",
      "\n",
      "\n",
      "# CALCULATIONs \n",
      "phi_m = E/(4.44*f*N);        # Maximum value of the Flux in Weber\n",
      "\n",
      "\n",
      "# DISPLAY RESULTS\n",
      "\n",
      "print (\"EXAMPLE : 3.3 : SOLUTION :-\") ;\n",
      "print \" a) Maximum value of the Flux , phi_m = % .7f Wb  \"%(phi_m);\n"
     ],
     "language": "python",
     "metadata": {},
     "outputs": [
      {
       "output_type": "stream",
       "stream": "stdout",
       "text": [
        "EXAMPLE : 3.3 : SOLUTION :-\n",
        " a) Maximum value of the Flux , phi_m =  0.0198198 Wb  \n"
       ]
      }
     ],
     "prompt_number": 3
    },
    {
     "cell_type": "heading",
     "level": 2,
     "metadata": {},
     "source": [
      "Example 3.4  Page No : 32"
     ]
    },
    {
     "cell_type": "code",
     "collapsed": false,
     "input": [
      "\n",
      "# GIVEN DATA\n",
      "S = 1.5;               # Transformer Rating in KVA\n",
      "E1 = 220.;              # HV side voltage in volts\n",
      "E2 = 40.;               # LV side voltage in volts\n",
      "\n",
      "\n",
      "# CALCULATION\n",
      "Ihv = (S * 10 ** 3)/E1;             # Rated HV side Curent in Amphere\n",
      "Ilv = (S * 10 ** 3)/E2;             # Rated lV side Curent in Amphere\n",
      "\n",
      "\n",
      "# DISPLAY RESULTS\n",
      "print (\"EXAMPLE : 3.4 : SOLUTION :-\") ;\n",
      "print \" a) Rated HV side Curent , Ihv = %.2f A  \"%(Ihv);\n",
      "print \" b) Rated LV side Curent , Ilv = %.1f A \"%(Ilv);\n"
     ],
     "language": "python",
     "metadata": {},
     "outputs": [
      {
       "output_type": "stream",
       "stream": "stdout",
       "text": [
        "EXAMPLE : 3.4 : SOLUTION :-\n",
        " a) Rated HV side Curent , Ihv = 6.82 A  \n",
        " b) Rated LV side Curent , Ilv = 37.5 A \n"
       ]
      }
     ],
     "prompt_number": 4
    },
    {
     "cell_type": "heading",
     "level": 2,
     "metadata": {},
     "source": [
      "Example 3.5  Page No : 36"
     ]
    },
    {
     "cell_type": "code",
     "collapsed": false,
     "input": [
      "import math \n",
      "\n",
      "# GIVEN DATA\n",
      "Ai = 2.3 * 10 ** -3;                 # Cross-Sectional area of the core in Meter-Square\n",
      "mue_0 = 4*math.pi*10** -7;               # Permeability of the air in Henry/Meter\n",
      "Fe_loss = 2.6;                      # Iron loss at the working Flux density Watts/kg\n",
      "Fe_den = 7.8 * 10 ** 3;              # Density of the Iron in kg/Meter-Cube\n",
      "N1 = 800.;                           # Number of Turns of the Primary winding\n",
      "L = 2.5;                            # Length of the Flux path in Meter\n",
      "mue_r = 1000.;                       # Relative Permeability\n",
      "E = 400.;                            # Primary Volatge of the Transformer in Volts\n",
      "f = 50.;                             # Frequency in Hertz\n",
      "\n",
      "\n",
      "# CALCULATIONS\n",
      "Bm = E/(4.44*f*Ai*800);             # Flux Density in Weber/Meter-Square\n",
      "phi_m = (Bm*Ai)*10**3;               # Maximum Flux in the core in milli-Weber\n",
      "F = (L*Bm)/(mue_r*mue_0);           # Magnetizing MMF in Amphere-turns\n",
      "Im = F/(N1*math.sqrt(2));                # Magnetizing Current in Amphere\n",
      "Vol = L*Ai;                         # Volume of the Core in Meter-Cube\n",
      "W = Vol * Fe_den;                   # Weight of the Core in kg\n",
      "Total_Fe_loss = Fe_loss * W;        # Total Iron loss in Watt\n",
      "Ic = Total_Fe_loss/E;               # Loss component of Current in Amphere\n",
      "Io= math.sqrt((Ic ** 2)+(Im ** 2));        # No load Current in Amphere\n",
      "pf_angle = math.degrees(math.atan(Io/Ic));            # No load Power factor angle in degree\n",
      "pf = math.degrees(math.cos(math.radians(pf_angle)));                # No load Power factor \n",
      "\n",
      "\n",
      "# DISPLAY RESULTS\n",
      "print (\"EXAMPLE : 3.5 : SOLUTION :-\") ;print \" a) Maximum Flux in the core , phi_m = %.6f mWb  \"%(phi_m);\n",
      "print \" b) No load Current , I0 = %.3f A \"%(Io);\n",
      "print \" c) No load Power factor angle  =  %.3f degree  \"%(pf_angle);\n",
      "print \" d) No load Power factor =  %.4f  \"%(pf);\n"
     ],
     "language": "python",
     "metadata": {},
     "outputs": [
      {
       "output_type": "stream",
       "stream": "stdout",
       "text": [
        "EXAMPLE : 3.5 : SOLUTION :-\n",
        " a) Maximum Flux in the core , phi_m = 2.252252 mWb  \n",
        " b) No load Current , I0 = 1.746 A \n",
        " c) No load Power factor angle  =  80.523 degree  \n",
        " d) No load Power factor =  9.4336  \n"
       ]
      }
     ],
     "prompt_number": 5
    },
    {
     "cell_type": "heading",
     "level": 2,
     "metadata": {},
     "source": [
      "Example 3.6  Page No : 39"
     ]
    },
    {
     "cell_type": "code",
     "collapsed": false,
     "input": [
      "# GIVEN DATA\n",
      "S = 5.;                  # Transformer Rating in kVA\n",
      "V1 = 220.;               # HV side voltage in volts\n",
      "V2 = 110.;               # LV side voltage in Volts\n",
      "P = 4. * 10 ** 2;         # Load of the Transformer\n",
      "pf = 0.8;               # Power Factor (lagging)\n",
      "f = 50.;                 # Frequency in Hertz\n",
      "\n",
      "\n",
      "# CALCULATIONS\n",
      "a = V1/V2;              # Turn Ratio of the Transformer\n",
      "\n",
      "# case (a) At full load\n",
      "I1 = (S * 10 ** 3)/V1;       # Primary current at full load in Amphere\n",
      "I2 = (S * 10 ** 3)/V2;       # Secondary Current at full Load in Amphere\n",
      "\n",
      "# Case (b) At 4kW, 0.8 lagging pf load\n",
      "I11 = (4 * 10 ** 3 * 0.8)/V1;       # Primary current At 4kW, 0.8 lagging pf load in Amphere\n",
      "I22 = (4 * 10 ** 3 * 0.8)/V2;       # Secondary Current At 4kW, 0.8 lagging pf load in Amphere\n",
      "\n",
      "\n",
      "# DISPLAY RESULTS\n",
      "print (\"EXAMPLE : 3.6 : SOLUTION :-\") ;\n",
      "print \"   a)   Turn Ratio of the Transformer , a = %.f  \"%(a);\n",
      "print \" b.1.1) Primary current at full load , I1 = %.2f A \"%(I1);\n",
      "print \" b.1.2) Secondary current at full load , I2 = %.2f A  \"%(I2);\n",
      "print \" b.2.1) Primary current at 4kW, 0.8 lagging pf load , I1 = %.3f A \"%(I11);\n",
      "print \" b.2.1) Secondary current at 4kW, 0.8 lagging pf load , I2 = %.3f A \"%(I22);\n"
     ],
     "language": "python",
     "metadata": {},
     "outputs": [
      {
       "output_type": "stream",
       "stream": "stdout",
       "text": [
        "EXAMPLE : 3.6 : SOLUTION :-\n",
        "   a)   Turn Ratio of the Transformer , a = 2  \n",
        " b.1.1) Primary current at full load , I1 = 22.73 A \n",
        " b.1.2) Secondary current at full load , I2 = 45.45 A  \n",
        " b.2.1) Primary current at 4kW, 0.8 lagging pf load , I1 = 14.545 A \n",
        " b.2.1) Secondary current at 4kW, 0.8 lagging pf load , I2 = 29.091 A \n"
       ]
      }
     ],
     "prompt_number": 6
    },
    {
     "cell_type": "heading",
     "level": 2,
     "metadata": {},
     "source": [
      "Example 3.7  Page No : 41"
     ]
    },
    {
     "cell_type": "code",
     "collapsed": false,
     "input": [
      "# GIVEN DATA\n",
      "a = 100./200;                        # Turn ratio of the Ideal transformer\n",
      "R = 1.0;                            # resistance across the secondary side having 200 turns in Ohms  \n",
      "\n",
      "\n",
      "# CALCULATIONS\n",
      "R1 = (a ** 2)*R;                     # Referred value of the resistance from Primary side having 100 turns in Ohms\n",
      "\n",
      "\n",
      "# DISPLAY RESULTS\n",
      "print (\"EXAMPLE : 3.7 : SOLUTION :-\") ;\n",
      "print \" a) Referred value of the %.f Ohm resistance from Primary side having 100 turns , R1 = %.2f ohms  \"%(R,R1);\n",
      "print \"    [ TEXT BOOK SOLUTION IS PRINTED WRONGLY  I verified by manual calculation ]\" ;\n",
      "print \"      WRONGLY PRINTED ANSWERS ARE :- a) Referred value of the resistance from Primary side having\\\n",
      "\\n 100 turns = 0.025 Ohms instead of %.2f Ohms  \"%(R1);\n"
     ],
     "language": "python",
     "metadata": {},
     "outputs": [
      {
       "output_type": "stream",
       "stream": "stdout",
       "text": [
        "EXAMPLE : 3.7 : SOLUTION :-\n",
        " a) Referred value of the 1 Ohm resistance from Primary side having 100 turns , R1 = 0.25 ohms  \n",
        "    [ TEXT BOOK SOLUTION IS PRINTED WRONGLY  I verified by manual calculation ]\n",
        "      WRONGLY PRINTED ANSWERS ARE :- a) Referred value of the resistance from Primary side having\n",
        " 100 turns = 0.025 Ohms instead of 0.25 Ohms  \n"
       ]
      }
     ],
     "prompt_number": 7
    },
    {
     "cell_type": "heading",
     "level": 2,
     "metadata": {},
     "source": [
      "Example 3.8  Page No : 44"
     ]
    },
    {
     "cell_type": "code",
     "collapsed": false,
     "input": [
      "# GIVEN DATA\n",
      "S = 60.;                # Tranformer Rating in kVA\n",
      "V1 = 6600.;             # HV Side Voltage Rating of the Transformer in Volts\n",
      "V2 = 220.;              # LV Side Voltage Rating of the Transformer in Volts\n",
      "R1 = 7.8;              # primary resistances of the Transformer in Ohms\n",
      "R2 = 0.0085;           # Secondary resistances of the Transformer in Ohms\n",
      "\n",
      "\n",
      "# CALCULATIONS\n",
      "a = V1/V2;             # Transformation Ratio\n",
      "Rp = R1+(a**2)*R2;      # resistance referred to Primary side in Ohms \n",
      "Rs = (R1/(a**2))+R2;    # resistance referred to Secondary side in Ohms\n",
      "Ip = (S*1000)/V1       #  Current in Primary Side in Ampheres\n",
      "Cu_loss = Rp*(Ip**2);   # Copper loss in Transformer in Watts\n",
      "\n",
      "\n",
      "# DISPLAY RESULTS\n",
      "print (\"EXAMPLE : 3.8 : SOLUTION :-\") ;\n",
      "print \" a) Equlivalent resistance as Referred to Primary Side, Rp = % .2f ohms \"%(Rp)\n",
      "print \" b) Equlivalent resistance as Referred to Secondary Side, Rs = % .5f ohms \"%(Rs)\n",
      "print \" c) Total Copper Loss, Cu_loss = % .2f W \"%(Cu_loss)\n",
      "\n"
     ],
     "language": "python",
     "metadata": {},
     "outputs": [
      {
       "output_type": "stream",
       "stream": "stdout",
       "text": [
        "EXAMPLE : 3.8 : SOLUTION :-\n",
        " a) Equlivalent resistance as Referred to Primary Side, Rp =  15.45 ohms \n",
        " b) Equlivalent resistance as Referred to Secondary Side, Rs =  0.01717 ohms \n",
        " c) Total Copper Loss, Cu_loss =  1276.86 W \n"
       ]
      }
     ],
     "prompt_number": 8
    },
    {
     "cell_type": "heading",
     "level": 2,
     "metadata": {},
     "source": [
      "Example 3.9  Page No : 45"
     ]
    },
    {
     "cell_type": "code",
     "collapsed": false,
     "input": [
      "# GIVEN DATA\n",
      "V1 = 11000.;            # HV Side Voltage Rating of the Transformer in Volts\n",
      "V2 = 440.;              # LV Side Voltage Rating of the Transformer in Volts\n",
      "R = 1.0;               # resistance across the secondary side having 11kV in Ohms\n",
      "\n",
      "\n",
      "# CALCULATIONS\n",
      "a = V1/V2;                          # Turns ratio of the ideal transformers\n",
      "R2 = (a ** 2)*R;                     # Referred value of the resistance from Primary side having 440V in Ohms\n",
      "\n",
      "\n",
      "# DISPLAY RESULTS\n",
      "\n",
      "print (\"EXAMPLE : 3.9 : SOLUTION :-\") ;\n",
      "print \" a) Referred value of the resistance from Primary side having 440V , R2 = %.f Ohms  \"%(R2);\n"
     ],
     "language": "python",
     "metadata": {},
     "outputs": [
      {
       "output_type": "stream",
       "stream": "stdout",
       "text": [
        "EXAMPLE : 3.9 : SOLUTION :-\n",
        " a) Referred value of the resistance from Primary side having 440V , R2 = 625 Ohms  \n"
       ]
      }
     ],
     "prompt_number": 9
    },
    {
     "cell_type": "heading",
     "level": 2,
     "metadata": {},
     "source": [
      "Example 3.10  Page No : 48"
     ]
    },
    {
     "cell_type": "code",
     "collapsed": false,
     "input": [
      "import cmath\n",
      "import math\n",
      "\n",
      "# GIVEN DATA\n",
      "V1 = 440.;                                       # HV Side Voltage Rating of the Transformer in Volts\n",
      "V2 = 220.;                                       # LV Side Voltage Rating of the Transformer in Volts\n",
      "pf_o = 0.2;                                     # No-load Power factor lagging\n",
      "pf_l = 0.8;                                     # Load Power factor lagging\n",
      "I_o = 5.;                                        # No-load current in Amphere\n",
      "I_2 = 120.;                                      # Load current in Amphere\n",
      "\n",
      "# CALCULATIONS\n",
      "a = V1/V2;                                      # Turns ratio of the two winding Transformers\n",
      "theta_o =math.degrees(math.acos(math.radians(pf_o)));                          # No load power factor of the two winding Transformers in Degrees\n",
      "Io = I_o * cmath.exp(-(1j*theta_o*math.pi/180));          # No load current of the two winding Transformers (minus because lagging) in Amphere\n",
      "theta =math.degrees(math.acos(math.radians(pf_l)));                            # load power factor of the two winding Transformers in Degrees\n",
      "I2 = I_2 * cmath.exp(-(1j*theta*math.pi/180));            # secondary load current of the two winding Transformers (minus because lagging) in Amphere\n",
      "I21 = I2/a;                                     # Secondary referred to the primaryin Amphere\n",
      "I1 = Io + I21;                                  # Primary current in Amphere\n",
      "I1_mag = abs(I1);                               # Primary current magnitude inj Amphere\n",
      "theta_1 = (math.atan2(I1.imag,I1.real));            # Primary current angle in Degree\n",
      "\n",
      "\n",
      "# DISPLAY RESULTS\n",
      "\n",
      "print (\"EXAMPLE : 3.10 : SOLUTION :-\") ;\n",
      "print \" a) Primary current , I1 = %.2f < %.1f A  \"%(I1_mag,theta_1);"
     ],
     "language": "python",
     "metadata": {},
     "outputs": [
      {
       "output_type": "stream",
       "stream": "stdout",
       "text": [
        "EXAMPLE : 3.10 : SOLUTION :-\n",
        " a) Primary current , I1 = 65.00 < -1.6 A  \n"
       ]
      }
     ],
     "prompt_number": 11
    },
    {
     "cell_type": "heading",
     "level": 2,
     "metadata": {},
     "source": [
      "Example 3.11  Page No : 50"
     ]
    },
    {
     "cell_type": "code",
     "collapsed": false,
     "input": [
      "import math \n",
      "import cmath \n",
      "\n",
      "# GIVEN DATA\n",
      "\n",
      "S = 50.;             # kVA Rating of the Transformer\n",
      "f = 50.;             # Frequency in Hertz\n",
      "Wo = 190.;           # Meter Readings when HV Winding kept open in Watt\n",
      "Vo = 230.;           # Meter Readings when HV Winding kept open in Volts\n",
      "Io = 6.5;           # Meter Readings when HV Winding kept open in Amphere\n",
      "R2 = 0.06;          # resistance of the LV Winding in Ohms\n",
      "V1 = 2300.;          # Voltage across the HV Side in Volts\n",
      "V2 = 230.;           # Voltage across the LV Side in Volts\n",
      "AC = 230.;           # Tranformer connected to AC mains in Volts\n",
      "\n",
      "\n",
      "# CALCULATIONS\n",
      "\n",
      "a = V1/V2;                                    # Trasformation ratio of the Transformer\n",
      "Wc = Wo - ((Io ** 2) * R2);                    # Core loss in Watts\n",
      "Po = Wc;                                      # Core loss in Watts\n",
      "Pc = Wc;                                      # Core loss in Watts\n",
      "cos_theta_o = Po/(Vo*Io);                     # No load power factor\n",
      "theta_o =math.degrees(math.acos(math.radians(cos_theta_o)));                 # No load power factor angle in Degrees\n",
      "Ic = Io * math.degrees(math.cos(math.radians(theta_o)));                    \n",
      "E = V1 - Io * cmath.exp(1j*(theta_o)*math.pi/180);  \n",
      "Rc = Pc/(Ic ** 2 );                             # Core loss resistance in Ohms\n",
      "Im = Io *math.degrees(math.sin(math.radians(theta_o)));                       # Current through the Magnetizing branch in Amphre     \n",
      "Xm = E/Im;                                     # Magnetizing  reactance in Ohms\n",
      "Ift = (S * 10 ** 3)/V2;                         # Full Load current in Amphere\n",
      "Ie = (Io/Ift)*100;                             # Percentage of the Exicting Current in Amphere\n",
      "\n",
      "\n",
      "# DISPLAY RESULTS\n",
      "\n",
      "print (\"EXAMPLE : 3.11 : SOLUTION :-\") ;\n",
      "print \"  a)  Core loss , Wc = %.2f W  \"%(Wc);\n",
      "print \" b.1) No load power factor angle , theta_o = % .2f Degree \"%(theta_o);\n",
      "print \" b.2) No load power factor , (costheta_o) = % .6f \"%(cos_theta_o );\n",
      "print \" c.1) Curent through Core loss Component , Ic = %.4f A  \"%(Ic);\n",
      "print \" c.2) Core loss resistance , Rc = %.2f Ohms  \"%(Rc);\n",
      "print \"  d)  Current through the Magnetizing Component Xm , Im = % .2f A \"%(Im);\n",
      "print \"  e)  Percentage of the Exicting Current  = % .2f Percent \"%(Ie);\n"
     ],
     "language": "python",
     "metadata": {},
     "outputs": [
      {
       "output_type": "stream",
       "stream": "stdout",
       "text": [
        "EXAMPLE : 3.11 : SOLUTION :-\n",
        "  a)  Core loss , Wc = 187.47 W  \n",
        " b.1) No load power factor angle , theta_o =  89.87 Degree \n",
        " b.2) No load power factor , (costheta_o) =  0.125395 \n",
        " c.1) Curent through Core loss Component , Ic = 0.8151 A  \n",
        " c.2) Core loss resistance , Rc = 282.19 Ohms  \n",
        "  d)  Current through the Magnetizing Component Xm , Im =  372.42 A \n",
        "  e)  Percentage of the Exicting Current  =  2.99 Percent \n"
       ]
      }
     ],
     "prompt_number": 12
    },
    {
     "cell_type": "heading",
     "level": 2,
     "metadata": {},
     "source": [
      "Example 3.12  Page No : 54"
     ]
    },
    {
     "cell_type": "code",
     "collapsed": false,
     "input": [
      "import math \n",
      "from numpy.linalg import solve\n",
      "\n",
      "# GIVEN DATA\n",
      "N1 = 1000.;               # 1st Test at No-load condition f1 Frequency, Speed in RPM\n",
      "Vo1 = 250.;               # 1st Test at No-load condition f1 Frequency, Voltage in Volts\n",
      "Io1 = 0.5;               # 1st Test at No-load condition f1 Frequency, Current in Amphere\n",
      "Wo1= 230.;                # 1st Test at No-load condition f1 Frequency, Power in Watts\n",
      "\n",
      "N2 = 900.;                # 2nd Test at No-load condition f2 Frequency, Speed in RPM\n",
      "Vo2 = 225.;               # 2nd Test at No-load condition f2 Frequency, Voltage in Volts\n",
      "Io2= 0.5;                # 2nd Test at No-load condition f2 Frequency, Current in Amphere\n",
      "Wo2 = 200.;               # 2nd Test at No-load condition f2 Frequency, Power in Watts\n",
      "p = 6.;                  # Number of poles of math.single phase alternator\n",
      "N = 220.;                # Number of the turns of math.single phase alternator\n",
      "R = 0.66;               # resistance of the math.single phase alternator in Ohms\n",
      "\n",
      "\n",
      "# CALCULATIONS\n",
      "f1 = (N1*p)/120;              # 1st case Supply Frequency in Hertz\n",
      "Ratio1 = Vo1/f1;              # 1st case Ratio of the Volatge and Frequency in Volts/Hertz\n",
      "f2 = (N2*p)/120;              # 2nd case Supply Frequency in Hertz\n",
      "Ratio2 = Vo2/f2;              # 2nd case Ratio of the Volatge and Frequency in Volts/Hertz\n",
      "\n",
      "c = (Wo1-(Io1**2)*R)/f1;         # No-load corrected losses Eq 1 in Watts\n",
      "d = (Wo2-(Io2**2)*R)/f2;         # No-load corrected losses Eq 2 in watts\n",
      "\n",
      "x = [[ 1, f1] ,[ 1, f2] ];            # No-load corrected losses Eq 1 in watts\n",
      "y = [ [c] , [d] ];                  # No-load corrected losses Eq 2 in watts\n",
      "\n",
      "E = solve(x,y);                        # Solution of constants A in Watts/Hertz and B in watts/Hertz-Sqare in matrix form\n",
      "A = E[0];                     # Solution of constant A in Watts/Hertz\n",
      "B = E[1];                     # Solution of constant B in watts/Hertz-Sqare\n",
      "Ph = f1*A;                      # Hysteresis loss at 50 Hertz in Watts\n",
      "Pe = (f1**2)*B;                  # Eddy current loss at 50 Hertz in Watts\n",
      "\n",
      "\n",
      "# DISPLAY RESULTS\n",
      "\n",
      "print (\"EXAMPLE : 3.12 : SOLUTION :-\") ;\n",
      "print \" a) Hysteresis loss at %.f Hertz , Ph = %.3f W  \"%(f1,Ph);\n",
      "print \" b) Eddy current loss at %.f Hertz , Pe = % .2f W \"%(f1,Pe);"
     ],
     "language": "python",
     "metadata": {},
     "outputs": [
      {
       "output_type": "stream",
       "stream": "stdout",
       "text": [
        "EXAMPLE : 3.12 : SOLUTION :-\n",
        " a) Hysteresis loss at 50 Hertz , Ph = 151.874 W  \n",
        " b) Eddy current loss at 50 Hertz , Pe =  77.96 W \n"
       ]
      }
     ],
     "prompt_number": 13
    },
    {
     "cell_type": "heading",
     "level": 2,
     "metadata": {},
     "source": [
      "Example 3.13  Page No : 59"
     ]
    },
    {
     "cell_type": "code",
     "collapsed": false,
     "input": [
      "import math \n",
      "from numpy.linalg import solve\n",
      "\n",
      "# GIVEN DATA\n",
      "\n",
      "N1 = 1500.;               # 1st Test on Transformer at f1 Frequency and Vo1 voltage, Speed in RPM\n",
      "Vo1 = 250.;               # 1st Test on Transformer at f1 Frequency and Vo1 voltage, Voltage in Volts\n",
      "Wo1= 55.;                 # 1st Test on Transformer at f1 Frequency and Vo1 voltage, Power in Watts\n",
      "N2 = 1200.;               # 2nd Test on Transformer at f2 Frequency and Vo2 voltage, Speed in RPM\n",
      "Vo2 = 200.;               # 2nd Test on Transformer at f2 Frequency and Vo2 voltage, Voltage in Volts\n",
      "Wo2 = 40.;                # 2nd Test on Transformer at f2 Frequency and Vo2 voltage, Power in Watts\n",
      "p = 4.;                   # Number of poles of math.single phase alternator\n",
      "\n",
      "\n",
      "# CALCULATIONS\n",
      "f1 = (N1*p)/120;              # 1st case Supply Frequency in Hertz\n",
      "Ratio1 = Vo1/f1;              # 1st case Ratio of the Volatge and Frequency in Volts/Hertz\n",
      "f2 = (N2*p)/120;              # 2nd case Supply Frequency in Hertz\n",
      "Ratio2 = Vo2/f2;              # 2nd case Ratio of the Volatge and Frequency in Volts/Hertz\n",
      "\n",
      "c = Wo1/f1;         # No-load corrected losses Eq 1 in Watts\n",
      "d = Wo2/f2;         # No-load corrected losses Eq 2 in watts\n",
      "\n",
      "x = [ [1, f1] , [1, f2] ];             # No-load corrected losses Eq 1 in watts\n",
      "y = [ [c] , [d] ];                   # No-load corrected losses Eq 2 in watts\n",
      "\n",
      "E = solve(x,y);                        # Solution of constants A in Watts/Hertz and B in watts/Hertz-Sqare in matrix form\n",
      "A = E[0];                      # Solution of constant A in Watts/Hertz\n",
      "B = E[1];                      # Solution of constant B in watts/Hertz-Sqare\n",
      "Ph1 = f1*A;                      # Hysteresis loss at 50 Hertz in Watts\n",
      "Pe1 = (f1**2)*B;                  # Eddy current loss at 50 Hertz in Watts\n",
      "Ph2 = f2*A;                      # Hysteresis loss at 40 Hertz in Watts\n",
      "Pe2 = (f2**2)*B;                  # Eddy current loss at 40 Hertz in Watts\n",
      "\n",
      "\n",
      "# DISPLAY RESULTS\n",
      "\n",
      "print (\"EXAMPLE : 3.13 : SOLUTION :-\") ;\n",
      "print \" a.1) Hysteresis loss at %.f Hertz , Ph = %.f W  \"%(f1,Ph1);\n",
      "print \" a.2) Eddy current loss at %.f Hertz , Pe = %.f W \"%(f1,Pe1);\n",
      "print \" b.1) Hysteresis loss at %.f Hertz , Ph = %.f W  \"%(f2,Ph2);\n",
      "print \" b.2) Eddy current loss at %.f Hertz , Pe = %.f W \"%(f2,Pe2);\n",
      "print \"    [ TEXT BOOK SOLUTION IS PRINTED WRONGLY  I verified by manual calculation ]\" ;\n",
      "print \"      WRONGLY PRINTED ANSWERS ARE :- a) Hysteresis loss at %.f Hertz , Ph = 25 W instead of %.f W  \"%(f2,Ph2);\n"
     ],
     "language": "python",
     "metadata": {},
     "outputs": [
      {
       "output_type": "stream",
       "stream": "stdout",
       "text": [
        "EXAMPLE : 3.13 : SOLUTION :-\n",
        " a.1) Hysteresis loss at 50 Hertz , Ph = 30 W  \n",
        " a.2) Eddy current loss at 50 Hertz , Pe = 25 W \n",
        " b.1) Hysteresis loss at 40 Hertz , Ph = 24 W  \n",
        " b.2) Eddy current loss at 40 Hertz , Pe = 16 W \n",
        "    [ TEXT BOOK SOLUTION IS PRINTED WRONGLY  I verified by manual calculation ]\n",
        "      WRONGLY PRINTED ANSWERS ARE :- a) Hysteresis loss at 40 Hertz , Ph = 25 W instead of 24 W  \n"
       ]
      }
     ],
     "prompt_number": 14
    },
    {
     "cell_type": "heading",
     "level": 2,
     "metadata": {},
     "source": [
      "Example 3.14  Page No : 62"
     ]
    },
    {
     "cell_type": "code",
     "collapsed": false,
     "input": [
      "import math \n",
      "\n",
      "# GIVEN DATA\n",
      "\n",
      "S = 10 * 10 ** 3;        # Rating of the Single Transformer in VA\n",
      "f = 50;                 # Frequency in Hertz\n",
      "Pc = 110;               # Required input no-load at normal voltage in Watts (Core loss)\n",
      "Psc = 120;              # Required input Short-circuit at full-load current in Watts (copper loss or short circuit loss)\n",
      "\n",
      "\n",
      "# CALCUATIONS\n",
      "# case (a) for Unity power factor\n",
      "\n",
      "cos_theta1 = 1;                                                                  # Unity Power factor\n",
      "K1 = 1.0;                                                                        # Full load\n",
      "K2 = 0.5;                                                                        # Half load\n",
      "eta_11 = 100 * (K1*S*cos_theta1)/((K1*S*cos_theta1)+Pc+( K1 ** 2 )*Psc);          # Efficiency at unity factor and full load ( beacuse taken k1 = 1 ) in percentage\n",
      "eta_12 = 100 * (K2*S*cos_theta1)/((K2*S*cos_theta1)+Pc+( K2 ** 2 )*Psc);          # Efficiency at unity factor and half load ( beacuse taken k2 = 0.5 ) in percentage\n",
      "\n",
      "# case (b) for 0.8 power factor lagging\n",
      "\n",
      "cos_theta2 = 0.8;                                                                # 0.8 power factor lagging\n",
      "eta_21 = 100 * (K1*S*cos_theta2)/((K1*S*cos_theta2)+Pc+( K1 ** 2 )*Psc);          # Efficiency at 0.8 power factor lagging and full load ( beacuse taken k1 = 1 ) in percentage\n",
      "eta_22 = 100 * (K2*S*cos_theta2)/((K2*S*cos_theta2)+Pc+( K2 ** 2 )*Psc);          # Efficiency at 0.8 power factor lagging and half load ( beacuse taken k2 = 0.5 ) in percentage\n",
      "\n",
      "# Case (c) for 0.8 poer factor leading\n",
      "\n",
      "eta_31 = eta_21;                         # Efficiency at 0.8 power factor leading and full load will be same as the Efficiency at 0.8 power factor lagging and full load in percentage\n",
      "eta_32 = eta_22;                         # Efficiency at 0.8 power factor leading and half load will be same as the Efficiency at 0.8 power factor lagging and half load in percentage\n",
      "\n",
      "# Case (d) Maximum Efficiency assumed that unity power factor \n",
      "# Psc = Pc At Maximum Efficiency\n",
      "\n",
      "eta_41 = 100 * (K1*S*cos_theta1)/((K1*S*cos_theta1)+Pc+Pc);          # Maximum Efficiency at unity factor and full load ( beacuse taken k1 = 1 ) in percentage\n",
      "\n",
      "# Case (e) Maximum Efficiency assumed that 0.8 power factor lagging \n",
      "# Psc = Pc At Maximum Efficiency\n",
      "\n",
      "eta_51 = 100 * (K1*S*cos_theta2)/((K1*S*cos_theta2)+Pc+Pc);          # Maximum Efficiency at unity factor and full load ( beacuse taken k1 = 1 ) in percentage\n",
      "\n",
      "# Case (f) Maximum Efficiency assumed that 0.8 power factor leading\n",
      "# Psc = Pc At Maximum Efficiency\n",
      "\n",
      "eta_61 = eta_51;                                                     # Maximum Efficiency at 0.8 power factor leading and full load will be same as the Maximum Efficiency at 0.8 power factor lagging and full load in percentage\n",
      "out1 = K1*S*cos_theta1;                                             # Output at which maximum efficiency occurs at unity power factor at full load in Watts\n",
      "out2 = K1*S*cos_theta2;                                             # Output at which maximum efficiency occurs at 0.8 power factor lagging at full load in Watts\n",
      "out3 = K1*S*cos_theta2;                                             # Output at which maximum efficiency occurs at unity power factor leading at full load in Watts\n",
      "\n",
      "# DISPLAY RESULTS\n",
      "\n",
      "print (\"EXAMPLE : 3.14 : SOLUTION :-\") ;\n",
      "print \" a.1) Efficiency at unity power factor and full load , eta = %.2f Percent  \"%(eta_11);\n",
      "print \" a.2) Efficiency at unity power factor and half load , eta= % .2f Percent \"%(eta_12);\n",
      "print \" b.1) Efficiency at 0.8 power factor lagging and full load  , eta = %.2f Percent  \"%(eta_21);\n",
      "print \" b.2) Efficiency at 0.8 power factor lagging and half load  , eta= % .2f Percent \"%(eta_22);\n",
      "print \" c.1) Efficiency at 0.8 power factor leading and full load  , eta = %.2f Percent  \"%(eta_31);\n",
      "print \" c.2) Efficiency at 0.8 power factor leading and half load  , eta= % .2f Percent \"%(eta_32);\n",
      "print \"  d)  Maximum Efficiency at unity power factor and full load , eta = %.2f Percent  \"%(eta_41);\n",
      "print \"  e)  Maximum Efficiency at 0.8 power factor lagging and full load , eta = %.2f Percent  \"%(eta_51);\n",
      "print \"  f)  Maximum Efficiency at 0.8 power factor leading and full load , eta = %.2f Percent  \"%(eta_61);\n",
      "print \"  g)  Output at which maximum efficiency occurs at unity power factor at full load = %.f W  \"%(out1);\n",
      "print \"  h)  Output at which maximum efficiency occurs at 0.8 power factor lagging at full load = %.f W  \"%(out2);\n",
      "print \"  i)  Output at which maximum efficiency occurs at 0.8 power factor leading at full load = %.f W  \"%(out3);\n",
      "print \" IN THE ABOVE PROBLEM MAXIMUM EFFICIENCY AND THE OUTPUT AT WHICH THE MAXIMUM EFFICIENCY OCCURS IS\\\n",
      "\\n NOT CALCULATED IN THE TEXT BOOK \"\n"
     ],
     "language": "python",
     "metadata": {},
     "outputs": [
      {
       "output_type": "stream",
       "stream": "stdout",
       "text": [
        "EXAMPLE : 3.14 : SOLUTION :-\n",
        " a.1) Efficiency at unity power factor and full load , eta = 97.75 Percent  \n",
        " a.2) Efficiency at unity power factor and half load , eta=  97.28 Percent \n",
        " b.1) Efficiency at 0.8 power factor lagging and full load  , eta = 97.21 Percent  \n",
        " b.2) Efficiency at 0.8 power factor lagging and half load  , eta=  96.62 Percent \n",
        " c.1) Efficiency at 0.8 power factor leading and full load  , eta = 97.21 Percent  \n",
        " c.2) Efficiency at 0.8 power factor leading and half load  , eta=  96.62 Percent \n",
        "  d)  Maximum Efficiency at unity power factor and full load , eta = 97.85 Percent  \n",
        "  e)  Maximum Efficiency at 0.8 power factor lagging and full load , eta = 97.32 Percent  \n",
        "  f)  Maximum Efficiency at 0.8 power factor leading and full load , eta = 97.32 Percent  \n",
        "  g)  Output at which maximum efficiency occurs at unity power factor at full load = 10000 W  \n",
        "  h)  Output at which maximum efficiency occurs at 0.8 power factor lagging at full load = 8000 W  \n",
        "  i)  Output at which maximum efficiency occurs at 0.8 power factor leading at full load = 8000 W  \n",
        " IN THE ABOVE PROBLEM MAXIMUM EFFICIENCY AND THE OUTPUT AT WHICH THE MAXIMUM EFFICIENCY OCCURS IS\n",
        " NOT CALCULATED IN THE TEXT BOOK \n"
       ]
      }
     ],
     "prompt_number": 15
    },
    {
     "cell_type": "heading",
     "level": 2,
     "metadata": {},
     "source": [
      "Example 3.15  Page No : 65"
     ]
    },
    {
     "cell_type": "code",
     "collapsed": false,
     "input": [
      "import math \n",
      "\n",
      "# GIVEN DATA\n",
      "# Refer figure 3.17 page no. 101\n",
      "\n",
      "S = 500. * 10 ** 6;                   # Rating of power transformer in VA\n",
      "V1 = 400. * 10**3;                    # HV side rating of the power transformer in Volts\n",
      "V2 = 131. * 10**3;                    # LV side rating of the power transformer in Volts\n",
      "pcu = 5.;                            # Rated Copper loss in Percentage\n",
      "pi = 1.;                             # Rated Core loss in Percentage\n",
      "\n",
      "\n",
      "# CALCULATIONS\n",
      "\n",
      "Pcu = S*(pcu/100);                              # Rated Copper loss in Watts\n",
      "Pi = S*(pi/100);                                # Rated Core loss in Watts\n",
      "kt = 0.25*3 + 0.75*3 + 1*3 + 0.5*3 + 1.0*3 + 0.25*6 + 1.0*3;            # From graph figure 3.17 page no. 101\n",
      "out = S*kt;                                     # Output energy in kilo-watt-hour\n",
      "kt2 = 0.54375;                                   # From graph figure 3.17 page no. 101\n",
      "eloss = 24*Pi + S*kt2;                          # Energy required in losses in kilo-watt-hour { Energy required in losses = 24*Pi + sigma(copper loss * duration)}\n",
      "eta = 100*(out/(out+eloss));                    # All day efficiency\n",
      "\n",
      "\n",
      "# DISPLAY RESULTS\n",
      "\n",
      "print (\"EXAMPLE : 3.15: SOLUTION :-\");\n",
      "print \" a) All day efficiency = %.2f percent \"%(eta)\n"
     ],
     "language": "python",
     "metadata": {},
     "outputs": [
      {
       "output_type": "stream",
       "stream": "stdout",
       "text": [
        "EXAMPLE : 3.15: SOLUTION :-\n",
        " a) All day efficiency = 95.03 percent \n"
       ]
      }
     ],
     "prompt_number": 16
    },
    {
     "cell_type": "heading",
     "level": 2,
     "metadata": {},
     "source": [
      "Example 3.16  Page No : 68"
     ]
    },
    {
     "cell_type": "code",
     "collapsed": false,
     "input": [
      "import math \n",
      "\n",
      "\n",
      "# GIVEN DATA\n",
      "\n",
      "S = 20. * 10 ** 3;                    # Rating of the Step-down Transformer in VA\n",
      "f = 50.;                             # Frequency in Hertz\n",
      "V = 200.;                            # Normally supplied Voltage of Step-down Transformer in Volts\n",
      "Vsc = 100.;                          # Potential difference when Secondary being Short- Circuited in Volts\n",
      "Isc = 10.;                           # Primary Current when Secondary being Short- Circuited in Amphere\n",
      "Cos_theta_sc = 0.28;                # Power factor when Secondary being Short- Circuited\n",
      "\n",
      "\n",
      "# CALCULATIONS\n",
      "\n",
      "I = S/V;                                    # Rated primary current in Amphere\n",
      "Wsc = Vsc * Isc * Cos_theta_sc;             # Power loss when Secondary being Short- Circuited in Watts\n",
      "R = Wsc/(Isc ** 2);                          # resistance of Transformer referred to primary side in Ohms\n",
      "Z = Vsc/Isc;                                # Referred Impedence in Ohms\n",
      "X = math.sqrt((Z**2)-(R**2));                      # Leakage reactance referred to primary side in Ohms\n",
      "Er = (I*R)/V;                               # Per unit resistance in Ohms\n",
      "Ex = (I*X)/V;                               # Per unit reactance in Ohms\n",
      "Cos_theta1 = 1.0;                           # Unity Power factor\n",
      "Cos_theta2 = 0.6;                           # 0.6 Power factor Lagging\n",
      "Cos_theta3 = 0.6;                           # 0.6 Power factor Leading\n",
      "Sin_theta1 = 0.0;                           # Unity Power factor\n",
      "Sin_theta2 = 0.8;                           # 0.6 Power factor Lagging\n",
      "Sin_theta3 = 0.8;                           # 0.6 Power factor Leading\n",
      "E1 = (Er*Cos_theta1)+(Ex*Sin_theta1);       # pu Regulation at Unity Power factor\n",
      "E2 = (Er*Cos_theta2)+(Ex*Sin_theta2);       # pu Regulation at 0.6 Power factor Lagging\n",
      "E3 = (Er*Cos_theta3)-(Ex*Sin_theta3);       # pu Regulation at 0.6 Power factor Leading\n",
      "\n",
      "\n",
      "# DISPLAY RESULTS\n",
      "\n",
      "print (\"EXAMPLE : 3.16 : SOLUTION :-\") ;\n",
      "print \" a) pu Regulation at Unity Power factor , E = %.1f  \"%(E1);\n",
      "print \" b) pu Regulation at 0.6 Power factor Lagging , E= % .2f \"%(E2);\n",
      "print \" c) pu Regulation at 0.6 Power factor Leading , E= % .2f \"%(E3);\n",
      "\n",
      "\n",
      "\n"
     ],
     "language": "python",
     "metadata": {},
     "outputs": [
      {
       "output_type": "stream",
       "stream": "stdout",
       "text": [
        "EXAMPLE : 3.16 : SOLUTION :-\n",
        " a) pu Regulation at Unity Power factor , E = 1.4  \n",
        " b) pu Regulation at 0.6 Power factor Lagging , E=  4.68 \n",
        " c) pu Regulation at 0.6 Power factor Leading , E= -3.00 \n"
       ]
      }
     ],
     "prompt_number": 17
    },
    {
     "cell_type": "heading",
     "level": 2,
     "metadata": {},
     "source": [
      "Example 3.17  Page No : 73"
     ]
    },
    {
     "cell_type": "code",
     "collapsed": false,
     "input": [
      "import math \n",
      "\n",
      "\n",
      "# GIVEN DATA\n",
      "\n",
      "S = 500.;                            # Rating of the 3-Phase transformer in kVA\n",
      "V1 = 11. * 10 ** 3;                   # Votage rating of the 3-Phase transformer on HV side in Volts\n",
      "V2 = 400.;                           # Votage rating of the 3-Phase transformer on LV side in Volts\n",
      "f = 60.;                             # Frequencyin Hertz\n",
      "eta = 98.;                           # Maximum Efficency of the Transformer in Percentage Operating at 80% full load and Unity Power factor \n",
      "K = 0.8;                            # Beacuse 80% Full load\n",
      "x = 1.0;                            # Unity Power factor\n",
      "Ex = 4.5;                           # Percentage impedance \n",
      "\n",
      "\n",
      "# CALCULATIONS\n",
      "\n",
      "Out = S * K * x;                      # Output in KiloWatts at 80% full load and Unity Power factor \n",
      "Inp = Out/(eta/100);                  # Input in KiloWatts at full load and Unity Power factor \n",
      "Total_loss = Inp - Out;               # Total loss at full load  in KiloWatts\n",
      "Cu_loss = Total_loss/2;               # Copper loss in KiloWatts at 80% full load and Unity Power factor \n",
      "Pcu = Cu_loss/(K **2 );                # Full load Copper loss in KiloWatts\n",
      "Er = Pcu/S;                           # Per unit resistance\n",
      "theta = math.degrees(math.atan((Ex/100)/Er));           # Power factor angle at secondary terminal voltage is minimum in Degrees\n",
      "Pf =math.degrees(math.cos(math.radians(theta)));                     # Load power factor for minimum volatge of the secondary terminal\n",
      "\n",
      "\n",
      "# DISPLAY RESULTS\n",
      "\n",
      "print (\"EXAMPLE : 3.17 : SOLUTION :-\") ;\n",
      "print \" a) Load power factor for minimum volatge of the secondary terminal ( math.costheta) = %.4f lagging  \"%(Pf);\n"
     ],
     "language": "python",
     "metadata": {},
     "outputs": [
      {
       "output_type": "stream",
       "stream": "stdout",
       "text": [
        "EXAMPLE : 3.17 : SOLUTION :-\n",
        " a) Load power factor for minimum volatge of the secondary terminal ( math.costheta) = 15.6248 lagging  \n"
       ]
      }
     ],
     "prompt_number": 18
    },
    {
     "cell_type": "heading",
     "level": 2,
     "metadata": {},
     "source": [
      "Example 3.19  Page No : 74"
     ]
    },
    {
     "cell_type": "code",
     "collapsed": false,
     "input": [
      "import math \n",
      "\n",
      "# GIVEN DATA\n",
      "\n",
      "Sa = 200;               # Rating of the TWO 1-Phase Transformer in kVA\n",
      "Z1 = 0.005 + 0.08 * 1j  # Equivalent Impedance of the Transformer-1 in Per-Unit\n",
      "Z2 = 0.0075 + 0.04 * 1j # Equivalent Impedance of the Transformer-2 in Per-Unit\n",
      "P = 400;                # Total load in kiloWatts\n",
      "Cos_theta = 1.0;        # Unity power factor\n",
      "\n",
      "\n",
      "# CALCULATIONS\n",
      "\n",
      "kVA = P/Cos_theta;       # kVA rating of the Transformer\n",
      "S = kVA;                 # kVA rating of the Transformer\n",
      "S1 = ( Z2/(Z1+Z2) )*S;   # Load shared by Transformer-1 in kVA\n",
      "S2 = S - S1;             # Load shared by Transformer-2 in kVA\n",
      "\n",
      "\n",
      "# DISPLAY RESULTS\n",
      "\n",
      "print (\"EXAMPLE : 3.19 : SOLUTION :-\") ;\n",
      "print \" a) Load shared by Transformer-1 , S1 = %.2f+j%.2f) kVA  \"%(S1.real,S1.imag);\n",
      "print \" b )Load shared by Transformer-2 , S2 = %.2f+j%.2f kVA  \"%(S2.real,S2.imag);\n",
      "print \"    [ TEXT BOOK SOLUTION IS PRINTED WRONGLY  I verified by manual calculation ]\" ;\n",
      "print \"      WRONGLY PRINTED ANSWERS ARE :- a) S1 = -131.90)+j38.47)kVA instead of %.2f+j%.2f) kVA  \"%(S1.real,S1.imag);\n",
      "print \"                                     b) S2 = 268.1)+j.38047)kVA  instead of %.2f+j%.2f kVA  \"%(S2.real,S2.imag);\n"
     ],
     "language": "python",
     "metadata": {},
     "outputs": [
      {
       "output_type": "stream",
       "stream": "stdout",
       "text": [
        "EXAMPLE : 3.19 : SOLUTION :-\n",
        " a) Load shared by Transformer-1 , S1 = 134.48+j-10.99) kVA  \n",
        " b )Load shared by Transformer-2 , S2 = 265.52+j10.99 kVA  \n",
        "    [ TEXT BOOK SOLUTION IS PRINTED WRONGLY  I verified by manual calculation ]\n",
        "      WRONGLY PRINTED ANSWERS ARE :- a) S1 = -131.90)+j38.47)kVA instead of 134.48+j-10.99) kVA  \n",
        "                                     b) S2 = 268.1)+j.38047)kVA  instead of 265.52+j10.99 kVA  \n"
       ]
      }
     ],
     "prompt_number": 19
    },
    {
     "cell_type": "heading",
     "level": 2,
     "metadata": {},
     "source": [
      "Example 3.20  Page No : 78"
     ]
    },
    {
     "cell_type": "code",
     "collapsed": false,
     "input": [
      "import math \n",
      "\n",
      "\n",
      "# GIVEN DATA\n",
      "\n",
      "V1 = 110;               # Primary voltage of the Two Transformers the two primaries are connected in parallel in Volts\n",
      "I1 = 2.0;               # Primary Current in Amphere\n",
      "P1 = 40;                # Primary power intake in Watts\n",
      "V2 = 28;                # secondary voltage of the Two Transformers the two secondary are connected in phase opposition in Volts\n",
      "I2 = 6.8;               # secondary Current in Amphere\n",
      "P2 = 180.;               # secondary power intake in Watts\n",
      "a = 110./220;            # Turn ratio of the Transformer\n",
      "\n",
      "\n",
      "# CALCULATIONS\n",
      "\n",
      "theta_o = math.acos(math.radians((a*P1)/(a*I1*V1)));                      # Primary Power factor angle in Degrees\n",
      "Io = 1.0 * (math.degrees(math.cos(math.radians(theta_o)))-math.degrees(math.sin(math.radians(theta_o)))* 1j);                   # No-load current in individual transformer in Amphere\n",
      "theta_sc = math.acos(math.radians((a*P2)/(a*I2*V2)));                    # Secondary Power factor angle in Degrees\n",
      "i_sc = I2 * ( math.degrees(math.cos(math.radians(theta_sc)))-math.degrees(math.sin(math.radians(theta_sc)))* 1j);      # Secondary current in Amphere\n",
      "I_sc = (1/a)*i_sc;                                     # referred Secondary current in each of the primary side in Amphere\n",
      "It1 = Io + I_sc;                                       # LT winding current in the 1st Transformer in Amphere\n",
      "It2 = Io - I_sc;                                       # LT winding current in the 2nd Transformer in Amphere\n",
      "In1 = It1 + It2;                                       # The current flowing on paralel connected LT winding (This is same as total no-load current in the two Transforemer) in Amphere\n",
      "\n",
      "\n",
      "# DISPLAY RESULTS\n",
      "\n",
      "print (\"EXAMPLE : 3.20 : SOLUTION :-\") ;\n",
      "print \" a) LT  Primary ) winding current in the 1st Transformer  It1 = %.3f+j%.4f) A  \"%(It1.real,It1.imag);\n",
      "print \" b) LT  Primary ) winding current in the 2nd Transformer  It2= %.3f+j%.5f A \"%(It2.real,It2.imag);\n",
      "print \" c) LT winding are connected in parallel,  the current flowing on paralel connected LT winding\\\n",
      "\\n In1 = %.3f+j%.5f) A \"%(In1.real,In1.imag);\n"
     ],
     "language": "python",
     "metadata": {},
     "outputs": [
      {
       "output_type": "stream",
       "stream": "stdout",
       "text": [
        "EXAMPLE : 3.20 : SOLUTION :-\n",
        " a) LT  Primary ) winding current in the 1st Transformer  It1 = 836.210+j-22.7033) A  \n",
        " b) LT  Primary ) winding current in the 2nd Transformer  It2= -721.662+j19.56840 A \n",
        " c) LT winding are connected in parallel,  the current flowing on paralel connected LT winding\n",
        " In1 = 114.549+j-3.13485) A \n"
       ]
      }
     ],
     "prompt_number": 20
    },
    {
     "cell_type": "heading",
     "level": 2,
     "metadata": {},
     "source": [
      "Example 3.21  Page No : 83"
     ]
    },
    {
     "cell_type": "code",
     "collapsed": false,
     "input": [
      "import math \n",
      "\n",
      "# GIVEN DATA\n",
      "# Refer figures 3.31(a), 3.31(b) and 3.31(c):- Page no. 121\n",
      "\n",
      "VaH = 220.;                   # HV side Voltage of the two winding Transformer in volts for case(a)\n",
      "VaL = 110.;                   # LV side Voltage of the two winding Transformer in volts for case(a)\n",
      "VbH = 330.;                   # HV side Voltage of the two winding Transformer in volts for case(b)\n",
      "VbL = 220.;                    # LV side Voltage of the two winding Transformer in volts for case(b)\n",
      "VcH = 330;                    # HV side Voltage of the two winding Transformer in volts for case(c) \n",
      "VcL = 110.;                    # LV side Voltage of the two winding Transformer in volts for case(c)\n",
      "S = 1.5;                      # Ratings of the the two winding Transformer in kVA\n",
      "I1 = 6.8;                     # Rated current in HV side in Amphere \n",
      "I2 = 13.6;                    # Rated current in LV side in Amphere \n",
      "\n",
      "\n",
      "# CALCULATIONS\n",
      "# for case(a):- figure 3.31(b) page no. 121\n",
      "\n",
      "IbH = I2;                        # Current of Auto-Transformer in HV side in Amphere\n",
      "IbL = I1 + I2;                   # Current of Auto-Transformer in LV side in Amphere\n",
      "KVA_b_L = (VbL*IbL)/1000;        # LV side kVA rating of the Auto-Transformer in kVA\n",
      "KVA_b_H = (VbH*IbH)/1000;        # HV side kVA rating of the Auto-Transformer in kVA\n",
      "\n",
      "# for case(b):- figure 3.31(c) page no. 121\n",
      "\n",
      "IcH = I1;                         # Current of Auto-Transformer in HV side in Amphere\n",
      "IcL = I1 + I2;                    # Current of Auto-Transformer in LV side in Amphere\n",
      "KVA_c_L = (VcL*IcL)/1000;         # LV side kVA rating of the Auto-Transformer in kVA\n",
      "KVA_c_H = (VcH*IcH)/1000;         # HV side kVA rating of the Auto-Transformer in kVA\n",
      "\n",
      "\n",
      "# DISPLAY RESULTS\n",
      "\n",
      "print (\"EXAMPLE : 3.21 : SOLUTION :-\") ;\n",
      "print \" a.1) Current of Auto-Transformer in HV side for case b) , IH = %.1f A  \"%(IbH);\n",
      "print \"       Current of Auto-Transformer in LV side for case b), IL= % .1f A \"%(IbL);\n",
      "print \" a.2) LV side kVA rating of the Auto-Transformer for case b), KVAL = % .3f kVA  \"%(KVA_b_L);\n",
      "print \"       HV side kVA rating of the Auto-Transformer for case b), KVAH= % .3f kVA \"%(KVA_b_H);\n",
      "print \" b.1) Current of Auto-Transformer in HV side for case c) , IH = %.1f A  \"%(IcH);\n",
      "print \"       Current of Auto-Transformer in LV side for case c) , IL= % .1f A \"%(IcL);\n",
      "print \" b.2) LV side kVA rating of the Auto-Transformer for case c), KVAL = % .3f kVA  \"%(KVA_c_L);\n",
      "print \"       HV side kVA rating of the Auto-Transformer for case c)  KVAH= % .3f kVA \"%(KVA_c_H);\n"
     ],
     "language": "python",
     "metadata": {},
     "outputs": [
      {
       "output_type": "stream",
       "stream": "stdout",
       "text": [
        "EXAMPLE : 3.21 : SOLUTION :-\n",
        " a.1) Current of Auto-Transformer in HV side for case b) , IH = 13.6 A  \n",
        "       Current of Auto-Transformer in LV side for case b), IL=  20.4 A \n",
        " a.2) LV side kVA rating of the Auto-Transformer for case b), KVAL =  4.488 kVA  \n",
        "       HV side kVA rating of the Auto-Transformer for case b), KVAH=  4.488 kVA \n",
        " b.1) Current of Auto-Transformer in HV side for case c) , IH = 6.8 A  \n",
        "       Current of Auto-Transformer in LV side for case c) , IL=  20.4 A \n",
        " b.2) LV side kVA rating of the Auto-Transformer for case c), KVAL =  2.244 kVA  \n",
        "       HV side kVA rating of the Auto-Transformer for case c)  KVAH=  2.244 kVA \n"
       ]
      }
     ],
     "prompt_number": 21
    },
    {
     "cell_type": "heading",
     "level": 2,
     "metadata": {},
     "source": [
      "Example 3.22  Page No : 84"
     ]
    },
    {
     "cell_type": "code",
     "collapsed": false,
     "input": [
      "import math \n",
      "\n",
      "# GIVEN DATA\n",
      "\n",
      "S = 10. * 10 ** 3;                  # Rating of the Two-winding Transformer in VA\n",
      "V1 = 2000.;                        # HV side voltage of the Two-winding Transformer in Volts\n",
      "V2 = 200.;                         # LV side voltage of the Two-winding Transformer in Volts\n",
      "V_A_H = 2200.;                     # Two-winding Transformer is connected to auto transformer HV side in Volts\n",
      "V_A_L = 200.;                      # Two-winding Transformer is connected to auto transformer LV side in Volts\n",
      "f = 50.;                           # Frequency in Hertz\n",
      "\n",
      "\n",
      "# CALCULATIONS\n",
      "# for finding (a)\n",
      "\n",
      "I2 = S/V2;                          # Rated LV side current of winding for Step-up Auto transformer in Amphere\n",
      "I1 = S/V1;                          # Rated HV side current of winding for Step-up Auto transformer in Amphere\n",
      "IaH = I2;                           # The HV side current in the Auto-Transformer for Full-load in Amphere\n",
      "IaL = I2 + I1 ;                     # The LV side current in the Auto-Transformer for Full-load in Amphere\n",
      "VL = V1;                            # LV side voltage in Volts\n",
      "VH = V1 + V2;                       # HV side voltage in Volts\n",
      "KVA_a_L = (VL*IaL)/1000;            # kVA rating of LV SIDE \n",
      "KVA_a_H = (VH*IaH)/1000;            # kVA rating of HV SIDE \n",
      "\n",
      "# For finding (b)\n",
      "\n",
      "IbH = I1;                           # HV side Rated current through the Auto-Transformer in Amphere\n",
      "IbL = I1 + I2;                      # LV side Rated current through the Auto-Transformer in Amphere\n",
      "KVA_b_L = (V_A_L*IbL)/1000;         # kVA rating of LV SIDE as output Auto-Transformer\n",
      "KVA_b_H = (V_A_H*IbH)/1000;         # kVA rating of HV SIDE as output Auto-Transformer \n",
      "\n",
      "# case (c)\n",
      "\n",
      "V = V1;                             # Voltage on the Secondary, if the Commom windings are open\n",
      "\n",
      "\n",
      "# DISPLAY RESULTS\n",
      "\n",
      "print (\"EXAMPLE : 3.22 : SOLUTION :-\") ;\n",
      "print \" a.1)  HV side Curent supplied by the common windings , IH = %.f A  \"%(IaH);\n",
      "print \" a.2)  LV side Curent supplied by the common windings , IL= %.f A \"%(IaL);\n",
      "print \" b.1)  KVA rating of LV SIDE as output Auto-Transformer , KVAL = %.f kVA  \"%(KVA_b_L);\n",
      "print \" b.2)  KVA rating of HV SIDE as output Auto-Transformer , KVAH= %.f kVA \"%(KVA_b_H);\n",
      "print \"  c)   Voltage on the Secondary, if the Commom windings are open , V = %.f V  \"%(V);\n"
     ],
     "language": "python",
     "metadata": {},
     "outputs": [
      {
       "output_type": "stream",
       "stream": "stdout",
       "text": [
        "EXAMPLE : 3.22 : SOLUTION :-\n",
        " a.1)  HV side Curent supplied by the common windings , IH = 50 A  \n",
        " a.2)  LV side Curent supplied by the common windings , IL= 55 A \n",
        " b.1)  KVA rating of LV SIDE as output Auto-Transformer , KVAL = 11 kVA  \n",
        " b.2)  KVA rating of HV SIDE as output Auto-Transformer , KVAH= 11 kVA \n",
        "  c)   Voltage on the Secondary, if the Commom windings are open , V = 2000 V  \n"
       ]
      }
     ],
     "prompt_number": 22
    },
    {
     "cell_type": "heading",
     "level": 2,
     "metadata": {},
     "source": [
      "Example 3.23  Page No : 86"
     ]
    },
    {
     "cell_type": "code",
     "collapsed": false,
     "input": [
      "import math \n",
      "import cmath \n",
      "\n",
      "\n",
      "\n",
      "# GIVEN DATA\n",
      "\n",
      "S = 100.;                                  # Rating of the 3-Phase Transformer in kVA\n",
      "VH = 11.;                                  # HV side voltage in kilo-Volts\n",
      "VL = 440.;                                 # LV side voltage in Volts\n",
      "Vl = 400.;                                 # Line voltage in Volts\n",
      "ZA = 0.6;                                 # Line impedance in line A in Ohms\n",
      "ZB = 0.6*(0.8 + 0.6 * 1j);                # Line impedance in line B in Ohms\n",
      "ZC = 0.6*(0.5 - 0.866 * 1j);              # Line impedance in line C in Ohms\n",
      "\n",
      "\n",
      "# CALCULATIONS\n",
      "\n",
      "Vp = Vl/math.sqrt(3);                                                  # Phase voltage in Volts \n",
      "VAB = Vl * cmath.exp( 1j * 0 * math.pi/180);                                # Line Voltage across line A and B in Volts\n",
      "VBC = Vl * cmath.exp( 1j * (-120) * math.pi/180);                           # Line Voltage across line B and C in Volts\n",
      "VCA = Vl * cmath.exp( 1j * 120 * math.pi/180);                              # Line Voltage across line C and A in Volts\n",
      "VAN = (Vl/math.sqrt(3)) * cmath.exp( 1j * (-30) * math.pi/180);                  # Phase Voltage across line A and Neutral in Volts\n",
      "VBN = (Vl/math.sqrt(3)) * cmath.exp( 1j * (-150) * math.pi/180);                 # Phase Voltage across line B and Neutral in Volts\n",
      "VCN = (Vl/math.sqrt(3)) * cmath.exp( 1j * (90) * math.pi/180);                   # Phase Voltage across line C and Neutral in Volts\n",
      "IA = VAN/ZA;                                                      # Line current in line A in Amphere\n",
      "IB = VBN/ZB;                                                      # Line current in line B in Amphere\n",
      "IC = VCN/ZC;                                                      # Line current in line C in Amphere\n",
      "IN = IA + IB + IC ;                                               # Current in the Neutral in Amphere\n",
      "Y = (1/ZA)+(1/ZB)+(1/ZC);                                         # Net Admitmath.tance in mho\n",
      "VN = IN/Y;                                                        # Neutral Potential in Volts\n",
      "VDA = VAN - VN;                                                   # Voltage drops across the ZA in Volts\n",
      "VDB = VBN - VN;                                                   # Voltage drops across the ZB in Volts\n",
      "VDC = VCN - VN;                                                   # Voltage drops across the ZC in Volts\n",
      "\n",
      "\n",
      "# DISPLAY RESULTS\n",
      "\n",
      "print (\"EXAMPLE : 3.23 : SOLUTION :-\") ;\n",
      "print \" a.1) Line current in line A  , IA = %.f<%.f A  \"%(abs(IA),math.degrees(math.atan2(IA.imag,IA.real)));\n",
      "print \" a.2) Line current in line B  , IB = %.f<%.2f A \"%(abs(IB),math.degrees(math.atan2(IB.imag,IB.real)));\n",
      "print \" a.3) Line current in line C  , IC = %.f<%.f A  \"%(abs(IC),math.degrees(math.atan2(IC.imag,IC.real)));\n",
      "print \" b.1) Phase Voltage across line A and Neutral , VAN = %.f<%.f V \"%(abs(VAN),math.degrees(math.atan2(VAN.imag,VAN.real)));\n",
      "print \" b.2) Phase Voltage across line B and Neutral , VBN = %.f<%.f V  \"%(abs(VBN),math.degrees(math.atan2(VBN.imag,VBN.real)));\n",
      "print \" b.3) Phase Voltage across line C and Neutral , VCN = %.f<%.f V \"%(abs(VCN),math.degrees(math.atan2(VCN.imag,VCN.real)));\n",
      "print \"  c)   Neutral Potential , VN = %.1f<%.2f V  \"%(abs(VN),math.degrees(math.atan2(VN.imag,VN.real)));\n",
      "print \"    [ TEXT BOOK SOLUTION IS PRINTED WRONGLY  I verified by manual calculation ]\" ;\n",
      "print \"      WRONGLY PRINTED ANSWERS ARE :- a) IC = 385<-90.1 V instead of %.f<%.f A  \"%(abs(IC),math.degrees(math.atan2(IC.imag,IC.real)));\n",
      "print \"                                     b) VN = 230.5<78.17 V  instead of %.1f<%.2f V  \"%(abs(VN),math.degrees(math.atan2(VN.imag,VN.real)) );\n",
      "print \" From Calculation of the IC, rest all the Calculated values in the TEXT BOOK is WRONG because of the IC value is WRONGLY calculated and the same used for the further Calculation part \";\n"
     ],
     "language": "python",
     "metadata": {},
     "outputs": [
      {
       "output_type": "stream",
       "stream": "stdout",
       "text": [
        "EXAMPLE : 3.23 : SOLUTION :-\n",
        " a.1) Line current in line A  , IA = 385<-30 A  \n",
        " a.2) Line current in line B  , IB = 385<173.13 A \n",
        " a.3) Line current in line C  , IC = 385<150 A  \n",
        " b.1) Phase Voltage across line A and Neutral , VAN = 231<-30 V \n",
        " b.2) Phase Voltage across line B and Neutral , VBN = 231<-150 V  \n",
        " b.3) Phase Voltage across line C and Neutral , VCN = 231<90 V \n",
        "  c)   Neutral Potential , VN = 99.7<166.53 V  \n",
        "    [ TEXT BOOK SOLUTION IS PRINTED WRONGLY  I verified by manual calculation ]\n",
        "      WRONGLY PRINTED ANSWERS ARE :- a) IC = 385<-90.1 V instead of 385<150 A  \n",
        "                                     b) VN = 230.5<78.17 V  instead of 99.7<166.53 V  \n",
        " From Calculation of the IC, rest all the Calculated values in the TEXT BOOK is WRONG because of the IC value is WRONGLY calculated and the same used for the further Calculation part \n"
       ]
      }
     ],
     "prompt_number": 23
    },
    {
     "cell_type": "heading",
     "level": 2,
     "metadata": {},
     "source": [
      "Example 3.24  Page No : 91"
     ]
    },
    {
     "cell_type": "code",
     "collapsed": false,
     "input": [
      "import math \n",
      "\n",
      "\n",
      "# GIVEN DATA\n",
      "VL = 11000.;                     # Line-line voltage of the 3 identical 1-phase Transformer in Volts\n",
      "IL = 10.;                        # Line current of the 3 identical 1-phase Transformer in Amphere\n",
      "a = 10.;                         # Ratio of trun per phase of the 3 identical 1-phase Transformer\n",
      "\n",
      "\n",
      "# CALCULATIONS\n",
      "# For case (a) STAR-STAR\n",
      "\n",
      "VPp_a = VL/math.sqrt(3);               # Primary phase volatge in Volts\n",
      "IPp_a = IL;                       # Primary phase current in Amphere\n",
      "VSp_a = VPp_a/a;                  # Secondary phase voltage in Volts\n",
      "ISp_a = a*IPp_a;                  # Secondary phase current in Amphere\n",
      "ISl_a = ISp_a;                    # Secondary line current in Amphere\n",
      "VSl_a = VSp_a*math.sqrt(3);            # Secondary line voltage in Volts\n",
      "Out_a = math.sqrt(3)*VSl_a*ISl_a/1000; # Output in kVA\n",
      "\n",
      "# For case (b) STAR-DELTA\n",
      "\n",
      "VPp_b = VL/math.sqrt(3);               # Primary phase volatge in Volts\n",
      "IPp_b = IL;                       # Primary phase current in Amphere\n",
      "VSp_b = VPp_a/a;                  # Secondary phase voltage in Volts\n",
      "ISp_b = a*IPp_b;                  # Secondary phase current in Amphere\n",
      "ISl_b = math.sqrt(3)*ISp_b;            # Secondary line current in Amphere\n",
      "VSl_b = VSp_b;                    # Secondary line voltage in Volts\n",
      "Out_b = math.sqrt(3)*VSl_b*ISl_b/1000; # Output in kVA\n",
      "\n",
      "# For case (c) DELTA-DELTA\n",
      "\n",
      "VPp_c = VL;                       # Primary phase volatge in Volts\n",
      "IPp_c = IL/math.sqrt(3);               # Primary phase current in Amphere\n",
      "VSp_c = VPp_c/a;                  # Secondary phase voltage in Volts\n",
      "ISp_c = a*IPp_c;                  # Secondary phase current in Amphere\n",
      "ISl_c = math.sqrt(3)*ISp_c;            # Secondary line current in Amphere\n",
      "VSl_c = VSp_c;                    # Secondary line voltage in Volts\n",
      "Out_c = math.sqrt(3)*VSl_c*ISl_c/1000; # Output in kVA\n",
      "\n",
      "# For case (d) DALTA-STAR\n",
      "\n",
      "VPp_d = VL;                       # Primary phase volatge in Volts\n",
      "IPp_d = IL/math.sqrt(3);               # Primary phase current in Amphere\n",
      "VSp_d = VPp_d/a;                  # Secondary phase voltage in Volts\n",
      "ISp_d = a*IPp_d;                  # Secondary phase current in Amphere\n",
      "ISl_d = ISp_d;                    # Secondary line current in Amphere\n",
      "VSl_d = math.sqrt(3)*VSp_d;            # Secondary line voltage in Volts\n",
      "Out_d = math.sqrt(3)*VSl_d*ISl_d/1000; #Output in kVA\n",
      "\n",
      "\n",
      "# DISPLAY RESULTS\n",
      "\n",
      "print (\"EXAMPLE : 3.24 : SOLUTION :-\") ;\n",
      "print \" For STAR-STAR Connection  a.1) Secondary line voltage = %.f V  \"%(VSl_a);\n",
      "print \" a.2) Secondary line current = % .f A \"%(ISl_a);\n",
      "print \" a.3) Primary phase current = %.f A  \"%(IPp_a);\n",
      "print \" a.4) Secondary phase current = %.f A \"%(ISp_a);\n",
      "print \" a.5) Output = %.2f kVA  \"%(Out_a);\n",
      "print \" For STAR-DELTA Connection   b.1) Secondary line voltage = % .f V \"%(VSl_b);\n",
      "print \" b.2) Secondary line current = %.f A  \"%(ISl_b);\n",
      "print \" b.3) Primary phase current = %.f A \"%(IPp_b);\n",
      "print \" b.4) Secondary phase current = %.f A  \"%(ISp_b);\n",
      "print \" b.5) Output = % .2f kVA \"%(Out_b);\n",
      "print \" For DELTA-DELTA Connection  c.1) Secondary line voltage = %.f V  \"%(VSl_c);\n",
      "print \" c.2) Secondary line current = %.2f A \"%(ISl_c);\n",
      "print \" c.3) Primary phase current = %.2f A  \"%(IPp_c);\n",
      "print \" c.4) Secondary phase current = %.1f A \"%(ISp_c);\n",
      "print \" c.5) Output = %.1f kVA  \"%(Out_c);\n",
      "print \" For DELTA-STAR Connection  d.1) Secondary line voltage = % .2f V \"%(VSl_d);\n",
      "print \" d.2) Secondary line current = %.1f A  \"%(ISl_d);\n",
      "print \" d.3) Primary phase current = %.2f A \"%(IPp_d);\n",
      "print \" d.4) Secondary phase current  = %.1f A  \"%(ISp_d);\n",
      "print \" d.5) Output = % .1f kVA \"%(Out_d);\n"
     ],
     "language": "python",
     "metadata": {},
     "outputs": [
      {
       "output_type": "stream",
       "stream": "stdout",
       "text": [
        "EXAMPLE : 3.24 : SOLUTION :-\n",
        " For STAR-STAR Connection  a.1) Secondary line voltage = 1100 V  \n",
        " a.2) Secondary line current =  100 A \n",
        " a.3) Primary phase current = 10 A  \n",
        " a.4) Secondary phase current = 100 A \n",
        " a.5) Output = 190.53 kVA  \n",
        " For STAR-DELTA Connection   b.1) Secondary line voltage =  635 V \n",
        " b.2) Secondary line current = 173 A  \n",
        " b.3) Primary phase current = 10 A \n",
        " b.4) Secondary phase current = 100 A  \n",
        " b.5) Output =  190.53 kVA \n",
        " For DELTA-DELTA Connection  c.1) Secondary line voltage = 1100 V  \n",
        " c.2) Secondary line current = 100.00 A \n",
        " c.3) Primary phase current = 5.77 A  \n",
        " c.4) Secondary phase current = 57.7 A \n",
        " c.5) Output = 190.5 kVA  \n",
        " For DELTA-STAR Connection  d.1) Secondary line voltage =  1905.26 V \n",
        " d.2) Secondary line current = 57.7 A  \n",
        " d.3) Primary phase current = 5.77 A \n",
        " d.4) Secondary phase current  = 57.7 A  \n",
        " d.5) Output =  190.5 kVA \n"
       ]
      }
     ],
     "prompt_number": 24
    }
   ],
   "metadata": {}
  }
 ]
}