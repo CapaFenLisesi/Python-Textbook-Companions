{
 "metadata": {
  "name": "",
  "signature": "sha256:464b75634e7d41030e7ad9ee1cdf9d06dc7df25db4fc0612eef773b75ea834da"
 },
 "nbformat": 3,
 "nbformat_minor": 0,
 "worksheets": [
  {
   "cells": [
    {
     "cell_type": "heading",
     "level": 1,
     "metadata": {},
     "source": [
      "Chapter 4 : Direct Current Machines"
     ]
    },
    {
     "cell_type": "heading",
     "level": 2,
     "metadata": {},
     "source": [
      "Example 4.1  Page No : 99"
     ]
    },
    {
     "cell_type": "code",
     "collapsed": false,
     "input": [
      "import math \n",
      "\n",
      "\n",
      "# GIVEN DATA\n",
      "\n",
      "N = 600;                   # Speed of the driven Machine in RPM\n",
      "D = 2;                     # Diameter of the Machine in Meter\n",
      "L = 0.3;                   # Length of the Machine in Meter\n",
      "Bm = 1.0;                  # Flux Density in Weber per Meter-Square \n",
      "\n",
      "\n",
      "# CALCULATIONS\n",
      "\n",
      "n = N/60;                   # Revolution per second \n",
      "v = math.pi * D * n;            # Peripheral velocity in Meter per second\n",
      "E = Bm * v * L;             # Maximum EMF induced in the Conducter in Volts\n",
      "\n",
      "\n",
      "# DISPLAY RESULTS\n",
      "\n",
      "print (\"EXAMPLE : 4.1 : SOLUTION :-\") ;\n",
      "print \" a) Maximum EMF induced in the Conducter , E = %.3f V  \"%(E);\n",
      "print \"    [ TEXT BOOK SOLUTION IS PRINTED WRONGLY  I verified by manual calculation ]\" ;\n",
      "print \"      WRONGLY PRINTED ANSWERS ARE :- a)Induced EMF, E = 2.826 V instead of %.3f A  \"%(E);\n",
      "print \" From Calculation of the peripheral velocity(v), rest all the Calculated values in the TEXT BOOK is WRONG because of the peripheral velocity(v) value is WRONGLY calculated and the same used for the further Calculation part \"\n",
      "\n"
     ],
     "language": "python",
     "metadata": {},
     "outputs": [
      {
       "output_type": "stream",
       "stream": "stdout",
       "text": [
        "EXAMPLE : 4.1 : SOLUTION :-\n",
        " a) Maximum EMF induced in the Conducter , E = 18.850 V  \n",
        "    [ TEXT BOOK SOLUTION IS PRINTED WRONGLY  I verified by manual calculation ]\n",
        "      WRONGLY PRINTED ANSWERS ARE :- a)Induced EMF, E = 2.826 V instead of 18.850 A  \n",
        " From Calculation of the peripheral velocity(v), rest all the Calculated values in the TEXT BOOK is WRONG because of the peripheral velocity(v) value is WRONGLY calculated and the same used for the further Calculation part \n"
       ]
      }
     ],
     "prompt_number": 1
    },
    {
     "cell_type": "heading",
     "level": 2,
     "metadata": {},
     "source": [
      "Example 4.2  Page No : 101"
     ]
    },
    {
     "cell_type": "code",
     "collapsed": false,
     "input": [
      "import math \n",
      "\n",
      "# GIVEN DATA\n",
      "p = 8;                          # Number of the poles in Dc machine\n",
      "a = 8;                          # Number of the Parallel path\n",
      "N = 500;                        # Rotation per minute in RPM\n",
      "phi = 0.095;                    # Average flux in air gap in Weber per meter\n",
      "Za = 1000;                      # Total number of the Conductor in Armature\n",
      "\n",
      "\n",
      "# CALCUALTIONS\n",
      "\n",
      "n = N/60;                       # Rotation (Revolution) per Second\n",
      "E = (p/a)*n*phi*Za;             # EMF induced in Volts\n",
      "\n",
      "\n",
      "# DISPLAY RESULTS\n",
      "\n",
      "print (\"EXAMPLE : 4.2 : SOLUTION :-\") ;\n",
      "print \" a) EMF induced , E = %.1f A  \"%(E);\n",
      "\n"
     ],
     "language": "python",
     "metadata": {},
     "outputs": [
      {
       "output_type": "stream",
       "stream": "stdout",
       "text": [
        "EXAMPLE : 4.2 : SOLUTION :-\n",
        " a) EMF induced , E = 760.0 A  \n"
       ]
      }
     ],
     "prompt_number": 2
    },
    {
     "cell_type": "heading",
     "level": 2,
     "metadata": {},
     "source": [
      "Example 4.3  Page No : 104"
     ]
    },
    {
     "cell_type": "code",
     "collapsed": false,
     "input": [
      "import math \n",
      "\n",
      "\n",
      "# GIVEN DATA\n",
      "\n",
      "E = 420;                # EMF induced in Volts\n",
      "N = 900;                # Rotation speed in RPM\n",
      "phi = 0.06;             # Flux per pole in Weber per pole\n",
      "Two_p = 4;              # Total number of poles \n",
      "\n",
      "\n",
      "# CALCULATIONS\n",
      "\n",
      "n = N/60;                       # Revolution Per second\n",
      "Zc = E/(Two_p*phi*n);           # Number of the Conductor in Parallel Path\n",
      "\n",
      "\n",
      "# DISPLAY RESULTS\n",
      "\n",
      "print (\"EXAMPLE : 4.3 : SOLUTION :-\") ;\n",
      "print \" a) Number of the Conductor in Parallel Path , Zc = %.2f Conductors nearly 117 conductors  \"%(Zc);\n"
     ],
     "language": "python",
     "metadata": {},
     "outputs": [
      {
       "output_type": "stream",
       "stream": "stdout",
       "text": [
        "EXAMPLE : 4.3 : SOLUTION :-\n",
        " a) Number of the Conductor in Parallel Path , Zc = 116.67 Conductors nearly 117 conductors  \n"
       ]
      }
     ],
     "prompt_number": 3
    },
    {
     "cell_type": "heading",
     "level": 2,
     "metadata": {},
     "source": [
      "Example 4.4  Page No : 106"
     ]
    },
    {
     "cell_type": "code",
     "collapsed": false,
     "input": [
      "import math \n",
      "\n",
      "\n",
      "# GIVEN DATA\n",
      "\n",
      "L = 0.3;            # Length of the Machine in Meter\n",
      "Ia = 10;            # Current through The Conductors in Ampheres\n",
      "N = 10;             # Number of the Conductors in each Slot\n",
      "Za = 24;            # Number of the Slots\n",
      "Bav = 0.6;          # Average Flux Density in Telsa\n",
      "D = 0.1;            # Machine Daimeter in Meter\n",
      "\n",
      "\n",
      "# CALCULATIONS\n",
      "\n",
      "F = N*Ia*Bav*L;                # Force due to the Single Slot in Newton\n",
      "T = (Bav*L*Ia*N*D*Za)/2        # Torque produced in the Machine in Newton-Meter\n",
      "\n",
      "\n",
      "# DISPLAY RESULTS\n",
      "\n",
      "print (\"EXAMPLE : 4.4 : SOLUTION :-\") ;\n",
      "print \" a) Torque produced in the Machine, T = %.1f N-m \"%(T);\n"
     ],
     "language": "python",
     "metadata": {},
     "outputs": [
      {
       "output_type": "stream",
       "stream": "stdout",
       "text": [
        "EXAMPLE : 4.4 : SOLUTION :-\n",
        " a) Torque produced in the Machine, T = 21.6 N-m \n"
       ]
      }
     ],
     "prompt_number": 4
    },
    {
     "cell_type": "heading",
     "level": 2,
     "metadata": {},
     "source": [
      "Example 4.5  Page No : 109"
     ]
    },
    {
     "cell_type": "code",
     "collapsed": false,
     "input": [
      "import math \n",
      "\n",
      "# GIVEN DATA\n",
      "\n",
      "p = 4.;              # Number of the Poles in the DC machine\n",
      "Nt = 100.;           # Number of the turns in the Dc machine\n",
      "N = 600.;            # Rotation speed of the DC machine in RPM\n",
      "E = 220.;            # EMF generated in open circuit in Volts\n",
      "Z = 200.;            # Total number of the Conductor in armature\n",
      "\n",
      "\n",
      "# CALCUALTIONS\n",
      "# For case (a) Lap Connected\n",
      "\n",
      "a = 4.;                          # Number of the Poles in the DC machine\n",
      "n = N/60;                       # Revolution per second\n",
      "phi_a = (E*a)/(p*Z*n);          # Useful flux per pole when Armature is Lap connected in Weber\n",
      "\n",
      "# For case (b) Wave Connected\n",
      "\n",
      "a = 2;                          # Number of the Poles in the DC machine\n",
      "phi_b = (E*a)/(p*Z*n);          # Useful flux per pole when Armature is Wave connected in Weber\n",
      "\n",
      "\n",
      "# DISPLAY RESULTS\n",
      "\n",
      "print (\"EXAMPLE : 4.5 : SOLUTION :-\") ;\n",
      "print \" a) Useful flux per pole when Armature is Lap connected , phi = %.1f Wb   \"%(phi_a);\n",
      "print \" B) Useful flux per pole when Armature is Lap connected , phi = %.3f Wb   \"%(phi_b);\n"
     ],
     "language": "python",
     "metadata": {},
     "outputs": [
      {
       "output_type": "stream",
       "stream": "stdout",
       "text": [
        "EXAMPLE : 4.5 : SOLUTION :-\n",
        " a) Useful flux per pole when Armature is Lap connected , phi = 0.1 Wb   \n",
        " B) Useful flux per pole when Armature is Lap connected , phi = 0.055 Wb   \n"
       ]
      }
     ],
     "prompt_number": 5
    },
    {
     "cell_type": "heading",
     "level": 2,
     "metadata": {},
     "source": [
      "Example 4.6  Page No : 113"
     ]
    },
    {
     "cell_type": "code",
     "collapsed": false,
     "input": [
      "import math \n",
      "\n",
      "# GIVEN DATA\n",
      "\n",
      "p = 6;                      # Number of the pole in DC Motor\n",
      "Ia = 20;                    # Armature Current in Amphere \n",
      "Z = 1000;                   # Number of the Conductors\n",
      "a = 6;                      # Number of the Parallel paths\n",
      "phi = 25 * 10 ** -3;         # Flux per pole in Weber\n",
      "\n",
      "\n",
      "# CALCULATIONS\n",
      "\n",
      "T = (p/a)*((Z*Ia*phi)/(2*math.pi));        # Deleloped Torque in Newton-Meter\n",
      "\n",
      "\n",
      "# DISPLAY RESULTS\n",
      "\n",
      "print (\"EXAMPLE : 4.6 : SOLUTION :-\") ;\n",
      "print \" a) Developed Torque in an Six-pole DC Motor , T = %.1f N-m  \"%(T);\n"
     ],
     "language": "python",
     "metadata": {},
     "outputs": [
      {
       "output_type": "stream",
       "stream": "stdout",
       "text": [
        "EXAMPLE : 4.6 : SOLUTION :-\n",
        " a) Developed Torque in an Six-pole DC Motor , T = 79.6 N-m  \n"
       ]
      }
     ],
     "prompt_number": 6
    },
    {
     "cell_type": "heading",
     "level": 2,
     "metadata": {},
     "source": [
      "Example 4.7  Page No : 114"
     ]
    },
    {
     "cell_type": "code",
     "collapsed": false,
     "input": [
      "import math \n",
      "\n",
      "# GIVEN DATA\n",
      "p = 2;                  # Number of the Pole\n",
      "N = 1000;               # Rotation speed of the Armature in RPM\n",
      "Ia = 20;                # Armature Current in Amphere\n",
      "CS = 36;                # Commutator Segments\n",
      "BW = 1.4;               # Brush width is 1.4 times of the Commutator Segments\n",
      "L = 0.09 * 10 ** -3;     # Inducatnce of the each Armature Coil\n",
      "\n",
      "\n",
      "# CALULATIONS\n",
      "\n",
      "a = p;                  # Number of the Parallel paths (Equal to number of poles because Lap Connected Armature\n",
      "n = N/60;               # Revoultion per second\n",
      "I = Ia/2;               # Current Through the each Conductor in Amphere\n",
      "v = n * CS;             # Peripheral Velocity of Commutator in Commutator segments per Seconds\n",
      "Tc = BW/v;              # Time of the Commutation in Seconds\n",
      "Er = (L*2*I)/Tc;        # reactance voltage in Volts\n",
      "\n",
      "\n",
      "# DISPLAY RESULTS\n",
      "\n",
      "print (\"EXAMPLE : 4.7 : SOLUTION :-\") ;\n",
      "print \" a) reactance voltage assuming Linear Commutation , Er = %.4f V \"%(Er);\n",
      "print \"    [ TEXT BOOK SOLUTION IS PRINTED WRONGLY  I verified by manual calculation ]\" ;\n",
      "print \"     WRONGLY PRINTED ANSWERS ARE :- a) Tc = 0.014 s instead of %.4f s \"%(Tc);\n",
      "print \"                                    b) Er = 1.2857 V instead of %.4f V\"%(Er);\n",
      "print \" From Calculation of the Time of commutation Tc), rest all the Calculated values in the TEXT BOOK is WRONG because of the Time of commutation Tc) value is WRONGLY calculated and the same used for the further Calculation part \"\n"
     ],
     "language": "python",
     "metadata": {},
     "outputs": [
      {
       "output_type": "stream",
       "stream": "stdout",
       "text": [
        "EXAMPLE : 4.7 : SOLUTION :-\n",
        " a) reactance voltage assuming Linear Commutation , Er = 0.7406 V \n",
        "    [ TEXT BOOK SOLUTION IS PRINTED WRONGLY  I verified by manual calculation ]\n",
        "     WRONGLY PRINTED ANSWERS ARE :- a) Tc = 0.014 s instead of 0.0024 s \n",
        "                                    b) Er = 1.2857 V instead of 0.7406 V\n",
        " From Calculation of the Time of commutation Tc), rest all the Calculated values in the TEXT BOOK is WRONG because of the Time of commutation Tc) value is WRONGLY calculated and the same used for the further Calculation part \n"
       ]
      }
     ],
     "prompt_number": 7
    },
    {
     "cell_type": "heading",
     "level": 2,
     "metadata": {},
     "source": [
      "Example 4.8  Page No : 117"
     ]
    },
    {
     "cell_type": "code",
     "collapsed": false,
     "input": [
      "import math \n",
      "\n",
      "\n",
      "\n",
      "# GIVEN DATA\n",
      "\n",
      "N = 800;                # Rotation speed of the Commutator in RPM\n",
      "D = 50;                # Diameter in Centimeter\n",
      "BW = 1.5;               # Brush Width in Centimeter\n",
      "\n",
      "\n",
      "# CALCULATIONS\n",
      "\n",
      "r = D/2;                   # Radius in Centimeter\n",
      "n = N/60;                  # Revoultion per second\n",
      "w = (2 * math.pi)*n;           # Angular velocity \n",
      "v = w*r;                   # Peripheral Speed in centimeter per second\n",
      "Tc = (BW/v)*1000;                 # Time of the Commutation in Second\n",
      "\n",
      "\n",
      "# DISPLAY RESULTS\n",
      "\n",
      "print (\"EXAMPLE : 4.8 : SOLUTION :-\") ;\n",
      "print \" a) Time of the Commutation , Tc = %.4f ms \"%(Tc);\n"
     ],
     "language": "python",
     "metadata": {},
     "outputs": [
      {
       "output_type": "stream",
       "stream": "stdout",
       "text": [
        "EXAMPLE : 4.8 : SOLUTION :-\n",
        " a) Time of the Commutation , Tc = 0.7346 ms \n"
       ]
      }
     ],
     "prompt_number": 8
    },
    {
     "cell_type": "heading",
     "level": 2,
     "metadata": {},
     "source": [
      "Example 4.9  Page No : 119"
     ]
    },
    {
     "cell_type": "code",
     "collapsed": false,
     "input": [
      "import math \n",
      "\n",
      "\n",
      "# GIVEN DATA\n",
      "\n",
      "p = 4;                      # Number of the pole in the Generator\n",
      "Ia = 100;                   #  supplying Current by the Generator in Amphere\n",
      "Za = 500;                   # Armature conductor\n",
      "beta = 8;                   # Brush shift in degrees\n",
      "If = 5;                     # Current in the Seperately exicted field winding \n",
      "ratio = 0.7;                # Ratio of Pole arc to Pole pitch\n",
      "\n",
      "\n",
      "# CALCULATIONS\n",
      "# For case (a) Lap winding\n",
      "\n",
      "a_a = p;                                         # Number of the Parallel Paths\n",
      "AT_a = (Za*Ia)/(2*a_a*p);                        # Amphere turns per pole\n",
      "ATd_a = (beta*Za*Ia)/(360*a_a);                  # Demagnetizing Armature Amphere turns per pole\n",
      "ATc_a = ((1/p)-(beta/180))*((Za*Ia)/(2*a_a));    # CrossMagnetizing Armature Amphere turns per pole\n",
      "ATw_a = ratio*AT_a;                            # Amphere turns of Compensating winding\n",
      "\n",
      "# For case (b) Wave winding\n",
      "\n",
      "a_b = p/2;                                       # Number of the Parallel Paths\n",
      "AT_b = (Za*Ia)/(2*a_b*p);                        # Amphere turns per pole\n",
      "ATd_b = (beta*Za*Ia)/(360*a_b);                  # Demagnetizing Armature Amphere turns per pole\n",
      "ATc_b = ((1/p)-(beta/180))*((Za*Ia)/(2*a_b));    # CrossMagnetizing Armature Amphere turns per pole\n",
      "ATw_b = ratio*AT_b;                              # Amphere turns of Compensating winding\n",
      "\n",
      "\n",
      "# DISPLAY RESULTS\n",
      "\n",
      "print (\"EXAMPLE : 4.9 : SOLUTION :-\") ;\n",
      "print \" For LAP winding  a.1) Amphere turns per pole, AT = %.1f AT \"%(AT_a);\n",
      "print \" a.2) Demagnetizing Armature Amphere turns per pole, ATd = %.1f AT \"%(ATd_a);\n",
      "print \" a.3) Cross-Magnetizing Armature Amphere turns per pole, ATc = %.1f AT \"%(ATc_a);\n",
      "print \" a.4) Amphere turns of Compensating winding, ATw = %.1f AT \"%(ATw_a);\n",
      "print \" For WAVE winding  b.1) Amphere turns per pole, AT = %.f AT \"%(AT_b);\n",
      "print \" b.2) Demagnetizing Armature Amphere turns per pole, ATd = %.2f AT \"%(ATd_b);\n",
      "print \" b.3) Cross-Magnetizing Armature Amphere turns per pole, ATc = %.f AT \"%(ATc_b);\n",
      "print \" b.4) Amphere turns of Compensating winding, ATw = %.1f AT \"%(ATw_b);\n"
     ],
     "language": "python",
     "metadata": {},
     "outputs": [
      {
       "output_type": "stream",
       "stream": "stdout",
       "text": [
        "EXAMPLE : 4.9 : SOLUTION :-\n",
        " For LAP winding  a.1) Amphere turns per pole, AT = 1562.0 AT \n",
        " a.2) Demagnetizing Armature Amphere turns per pole, ATd = 277.0 AT \n",
        " a.3) Cross-Magnetizing Armature Amphere turns per pole, ATc = 0.0 AT \n",
        " a.4) Amphere turns of Compensating winding, ATw = 1093.4 AT \n",
        " For WAVE winding  b.1) Amphere turns per pole, AT = 3125 AT \n",
        " b.2) Demagnetizing Armature Amphere turns per pole, ATd = 555.00 AT \n",
        " b.3) Cross-Magnetizing Armature Amphere turns per pole, ATc = 0 AT \n",
        " b.4) Amphere turns of Compensating winding, ATw = 2187.5 AT \n"
       ]
      }
     ],
     "prompt_number": 9
    },
    {
     "cell_type": "heading",
     "level": 2,
     "metadata": {},
     "source": [
      "Example 4.10  Page No : 121"
     ]
    },
    {
     "cell_type": "code",
     "collapsed": false,
     "input": [
      "import math \n",
      "\n",
      "\n",
      "# GIVEN DATA\n",
      "\n",
      "p = 6;                      # Number of the Poles\n",
      "P = 100 * 10 ** 3;           # Power rating of the DC machine in KiloWatts\n",
      "V = 440;                    # Voltage rating of the DC machine in Volts\n",
      "Z = 500;                    # Total number of the Armature Conductor\n",
      "Ig = 1.0 * 10 ** -2;         # Interpolar Air gap in Meter\n",
      "Bi = 0.28;                  # Interpolar Flux Densist in Weber per Meter-Square\n",
      "mue_0 = 4*math.pi*10** -7;       # Permeability of the air in Henry/Meter\n",
      "\n",
      "\n",
      "# CALCULATIONS\n",
      "\n",
      "Ia = P/V;                                # Full load current in Amphere\n",
      "a = p;                                   # Number of the Parallel path (Equal to p because LAP WINDING\n",
      "ATi = (Z*Ia)/(2*a*p)+((Bi*Ig)/mue_0);     # Amphere turns for each Interpole \n",
      "Nc = ATi/Ia;                             # Number of turns per pole of interpole\n",
      "\n",
      "\n",
      "# DISPLAY RESULTS\n",
      "\n",
      "print (\"EXAMPLE : 4.10 : SOLUTION :-\") ;\n",
      "print \" a) Amphere turns for each Interpol, ATi = %.2f AT \"%(ATi);\n",
      "print \" b) Number of turns per pole of interpole, Nc = %.2f turns per pole nearly %.f turns per pole \"%(Nc,Nc);\n"
     ],
     "language": "python",
     "metadata": {},
     "outputs": [
      {
       "output_type": "stream",
       "stream": "stdout",
       "text": [
        "EXAMPLE : 4.10 : SOLUTION :-\n",
        " a) Amphere turns for each Interpol, ATi = 3804.17 AT \n",
        " b) Number of turns per pole of interpole, Nc = 16.76 turns per pole nearly 17 turns per pole \n"
       ]
      }
     ],
     "prompt_number": 10
    },
    {
     "cell_type": "heading",
     "level": 2,
     "metadata": {},
     "source": [
      "Example 4.11  Page No : 126"
     ]
    },
    {
     "cell_type": "code",
     "collapsed": false,
     "input": [
      "import math \n",
      "\n",
      "# GIVEN DATA\n",
      "\n",
      "print \" EXAMPLE : 4.11 :           Given Data between the Field current and Open-Circuit EMF generated by DC shunt wound Generator \";\n",
      "print \" IfA    0       1       2       3       4       5       6  \";\n",
      "print \" Vocv  10      90      170     217.5   251     272.5   281 \";\n",
      "N = 1000.;               # Speed of an DC Shunt wound generator on open circuit in RPM\n",
      "Rf = 50.;                # Shunt field resistance in Ohms\n",
      "\n",
      "\n",
      "# CALCULATIONS\n",
      "# Refer Figure 4.20:- Page no. 180\n",
      "\n",
      "Vt = 277.17;                    # Terminal Voltage in Volts from Figure 4.20 (The slope of the resistance line Rf cuts the OCC at this Voltage [point]\n",
      "Voc_r = 90;                     # Critical Open circuit voltage in Volts from Figure 4.20 page no. 180\n",
      "If_r = 1.0;                     # Critical Field current in Amphere from Figure 4.20 page no. 180\n",
      "Rc = Voc_r/If_r;                # Crictical field resistance in Ohms\n",
      "\n",
      "\n",
      "# DISPLAY RESULTS\n",
      "\n",
      "print (\"EXAMPLE : 4.11 : SOLUTION :-\") ;\n",
      "print \" a) Crictical field resistance, Rc = %.f Ohms \"%(Rc);\n"
     ],
     "language": "python",
     "metadata": {},
     "outputs": [
      {
       "output_type": "stream",
       "stream": "stdout",
       "text": [
        " EXAMPLE : 4.11 :           Given Data between the Field current and Open-Circuit EMF generated by DC shunt wound Generator \n",
        " IfA    0       1       2       3       4       5       6  \n",
        " Vocv  10      90      170     217.5   251     272.5   281 \n",
        "EXAMPLE : 4.11 : SOLUTION :-\n",
        " a) Crictical field resistance, Rc = 90 Ohms \n"
       ]
      }
     ],
     "prompt_number": 11
    },
    {
     "cell_type": "heading",
     "level": 2,
     "metadata": {},
     "source": [
      "Example 4.12  Page No : 130"
     ]
    },
    {
     "cell_type": "code",
     "collapsed": false,
     "input": [
      "import math \n",
      "\n",
      "# GIVEN DATA\n",
      "\n",
      "print \" EXAMPLE : 4.12 :           Given Data between the Field current and Open-Circuit EMF generated by DC Machine \";\n",
      "print \" IfA   0      0.25      0.5      1.0      1.5      2.0      2.5     3.0 \";\n",
      "print \" Vocv  8       43        77      151      198      229      253     269\";\n",
      "N = 600;                  # Speed of an DC Shunt wound generator on open circuit in RPM\n",
      "Rf1 = 100;                # Shunt field resistance in Ohms\n",
      "Rf2 = 125;                # Shunt field resistance in Ohms\n",
      "\n",
      "\n",
      "# CALCULATIONS\n",
      "# Refer Figure 4.21:- Page no. 181\n",
      "\n",
      "Vt1 = 253.33;                   # Terminal Voltage in Volts correspounding to field resistance of 100 Ohms from Figure4.21 Page no. 181 (The slope of the resistance line Rf cuts the OCC at this Voltage [point]\n",
      "Vt2 = 213.33;                   # Terminal Voltage in Volts correspounding to field resistance of 125 Ohms from Figure 4.21 Page no. 181 (The slope of the resistance line Rf cuts the OCC at this Voltage [point]\n",
      "Voc_r = 151;                    # Critical Open circuit voltage in Volts from Figure 4.20\n",
      "If_r = 1.0;                     # Critical Field current in Amphere from Figure 4.20\n",
      "Rc = Voc_r/If_r;                # Crictical field resistance in Ohms\n",
      "\n",
      "\n",
      "# DISPLAY RESULTS\n",
      "\n",
      "print (\"EXAMPLE : 4.12 : SOLUTION :-\") ;\n",
      "print \"  a)  Crictical field resistance, Rc = %.f Ohms \"%(Rc);\n",
      "print \" b.1) Terminal Voltage correspounding to field resistance of 100 Ohms is %.2f V  \"%( Vt1);\n",
      "print \" b.1) Terminal Voltage correspounding to field resistance of 125 Ohms is %.2f V  \"%( Vt2);\n",
      "\n"
     ],
     "language": "python",
     "metadata": {},
     "outputs": [
      {
       "output_type": "stream",
       "stream": "stdout",
       "text": [
        " EXAMPLE : 4.12 :           Given Data between the Field current and Open-Circuit EMF generated by DC Machine \n",
        " IfA   0      0.25      0.5      1.0      1.5      2.0      2.5     3.0 \n",
        " Vocv  8       43        77      151      198      229      253     269\n",
        "EXAMPLE : 4.12 : SOLUTION :-\n",
        "  a)  Crictical field resistance, Rc = 151 Ohms \n",
        " b.1) Terminal Voltage correspounding to field resistance of 100 Ohms is 253.33 V  \n",
        " b.1) Terminal Voltage correspounding to field resistance of 125 Ohms is 213.33 V  \n"
       ]
      }
     ],
     "prompt_number": 12
    },
    {
     "cell_type": "heading",
     "level": 2,
     "metadata": {},
     "source": [
      "Example 4.13  Page No : 135"
     ]
    },
    {
     "cell_type": "code",
     "collapsed": false,
     "input": [
      "import math \n",
      "\n",
      "# GIVEN DATA\n",
      "\n",
      "N1 = 1200;              # Rotation speed of the Separately excited Generator in RPM at case (1\n",
      "Ia1 = 100;              # Current supplied by the Generator in Amphere\n",
      "V1 = 220;               # Opearting Volatge of the Generator in Volts\n",
      "Ra = 0.08;              # Armature resistance in Ohms\n",
      "N2 = 1000;              # Rotation speed of the Separately excited Generator in RPM at case (2\n",
      "Vb = 2.0;               # Total Brush drop in Volts\n",
      "\n",
      "\n",
      "# CALCULATIONS\n",
      "\n",
      "RL = V1/Ia1;                             # Load resistance in Ohms\n",
      "E1 = V1 + Vb + (Ra * Ia1);               # Back EMF at case (1) in Volts\n",
      "E2 = (N2/N1)*E1;                         #  Back EMF at case (2) in Volts (Excitation is constant\n",
      "Ia2 = (E2 - Vb)/(RL + Ra);               # New load current in Amphere for case (2\n",
      "\n",
      "\n",
      "# DISPLAY RESULTS\n",
      "\n",
      "print (\"EXAMPLE : 4.13 : SOLUTION :-\") ;\n",
      "print \" a) New load current at %.f RPM , Ia2 = %.2f A \"%(N2,Ia2);\n"
     ],
     "language": "python",
     "metadata": {},
     "outputs": [
      {
       "output_type": "stream",
       "stream": "stdout",
       "text": [
        "EXAMPLE : 4.13 : SOLUTION :-\n",
        " a) New load current at 1000 RPM , Ia2 = -0.96 A \n"
       ]
      }
     ],
     "prompt_number": 13
    },
    {
     "cell_type": "heading",
     "level": 2,
     "metadata": {},
     "source": [
      "Example 4.14  Page No : 139"
     ]
    },
    {
     "cell_type": "code",
     "collapsed": false,
     "input": [
      "import math \n",
      "\n",
      "# GIVEN DATA\n",
      "\n",
      "I = 50;                       # Curent supplied by the Separately Excitated Generator in Amphere\n",
      "V = 250;                      # Dc bus bar in Volts\n",
      "phi_1 = 0.03;                 # Useful Flux in Weber\n",
      "Ra = 0.5;                     # Armature resistance in Ohms\n",
      "phi_2 = 0.029;                # New(Changed) Flux in Weber\n",
      "\n",
      "\n",
      "# CALCULATIONS\n",
      "\n",
      "Vd = I * Ra;                                       # Voltage drop in the Armature in Volts\n",
      "E1 = V + Vd;                                       # EMF Generated in Volts\n",
      "E2 = (phi_2/phi_1)*E1;                             # EMF Generated in Volts immediately after flux changes but speed will remains same\n",
      "Ia = (E2 - V)/Ra;                                 # Armature Current in Amphere immediately after flux changes\n",
      "perct = 100 * (( phi_1 - phi_2)/phi_2);            # Percenatge change in the speed of the machine that is required to restore the original Armature current but EMF raised to the original value and its Proportional to the speed and flux\n",
      "\n",
      "\n",
      "# DISPLAY RESULTS\n",
      "\n",
      "print (\"EXAMPLE : 4.14 : SOLUTION :-\") ;\n",
      "print \" a) Armature Current immediately after flux changes, Ia = %.1f A \"%(Ia);\n",
      "print \" b) Percenatge change in the speed of the machine that is required to restore the original Armature current) is %.2f Percenatge \"%(perct);\n",
      " \n",
      "\n"
     ],
     "language": "python",
     "metadata": {},
     "outputs": [
      {
       "output_type": "stream",
       "stream": "stdout",
       "text": [
        "EXAMPLE : 4.14 : SOLUTION :-\n",
        " a) Armature Current immediately after flux changes, Ia = 31.7 A \n",
        " b) Percenatge change in the speed of the machine that is required to restore the original Armature current) is 3.45 Percenatge \n"
       ]
      }
     ],
     "prompt_number": 14
    },
    {
     "cell_type": "heading",
     "level": 2,
     "metadata": {},
     "source": [
      "Example 4.15  Page No : 142"
     ]
    },
    {
     "cell_type": "code",
     "collapsed": false,
     "input": [
      "import math \n",
      "from numpy import roots\n",
      "\n",
      "# GIVEN DATA\n",
      "\n",
      "S = 500 * 10 ** 3;              # Rating of the Generator-1 and Generator-2\n",
      "VI = 800 * 10 ** 3             # Actual load \n",
      "\n",
      "\n",
      "# CALCULATIONS\n",
      "#For Case (a\n",
      "\n",
      "Voc_a = 500;                                # Open-circuit EMF Generator-1 and Generator-2 in Volts\n",
      "I = 1000;                                   # Full load current in Amphere\n",
      "perct_1a = 2./100;                           # Percenatge fall of the Voltage in Generator-1\n",
      "perct_2a = 3./100;                           # Percenatge fall of the Voltage in Generator-2\n",
      "V1a = Voc_a - (perct_1a * Voc_a);           # Voltage in the Generator-1 in Volts when it falls to 2% at fully loaded  \n",
      "V2a = Voc_a - (perct_2a * Voc_a);           # Voltage in the Generator-2 in Volts when it falls to 3% at fully loaded  \n",
      "# From Chacteristics can be assumed linear as, for Generator 1 is V = 500 + ((500-490)*I1)/(0-1000), V = -0.01*I1+500 and for Generator 2 is V = 500 + ((500-485)*I2)/(0-1000), V = 0.015*I2+500 \n",
      "# When sharing load of 800KVA at voltage, the load current will be I = I1+I2 = (800*1000)/V\n",
      "# From above equations we get I1 = 1.5*I2 thus, 2.5*I2 = (800*1000)/V\n",
      "# Putting the above equations in the Generator 2 equation we get V = -0.015*((800*1000)/(2.5*V))+500 solving we get, 25*V**2 - 12500V + 120000 = 0\n",
      "V_a = [120000, -12500, 25]     #poly ([120000 -12500 25],'x','coeff');                            # Expression for the load Voltage in Quadratic form\n",
      "r_a = roots (V_a);                                                      # Value of the load Voltage in Volts (neglecting lower value\n",
      "I_a = VI/r_a[0];\n",
      "I2_a = I_a/2.5;\n",
      "I1_a = 1.5*I2_a;\n",
      "\n",
      "# For Case (b\n",
      "\n",
      "perct = 2./100;                              # Percenatge fall of the Voltage in Generator-1and Generator-2\n",
      "Voc_1b = 500.;                               # Open-circuit EMF Generator-1 in Volts\n",
      "Voc_2b = 505;                               # Open-circuit EMF Generator-2 in Volts\n",
      "I = 1000;                                   # Full load current in Amphere\n",
      "V1 = Voc_1b - (perct * Voc_1b);             # Voltage in the Generator-1 in Volts when it falls to 2% at fully loaded  \n",
      "V2 = Voc_2b - (perct * Voc_2b);             # Voltage in the Generator-2 in Volts when it falls to 2% at fully loaded  \n",
      "# From Chacteristics can be assumed linear as, for Generator 1 is V = 500 + ((500-490)*I1)/(0-1000), V = -0.01*I1+500 and for Generator 2 is V = 505 + ((505-494.5)*I2)/(0-1000), V = -0.0101*I2+505 \n",
      "# When sharing load of 800KVA at voltage, the load current will be I = I1+I2 = (800*1000)/V\n",
      "# From above equations we get V = -0.01*I1 + 500, I1 = -V/0.01 + 500/0.01 = 50000 - 100*V, V = -0.0101*I2 + 505 and I2 = 505/0.0101 - V/.0101 = 50000-99.0099*V\n",
      "# Putting the above equations in the Current I equation we get I = I1+I2 = (800*1000)/V = 2*50000-199.0099*V solving we get, 199.0099*V**2 - 100000V + 800000 = 0\n",
      "V_b = [800000, -100000, 199.0099]    #poly ([800000 -100000 199.0099],'x','coeff');                     # Expression for the load Voltage in Quadratic form\n",
      "r_b = roots (V_b);                                                      # Value of the load Voltage in Volts (neglecting lower value\n",
      "I_b = VI/r_b[0];\n",
      "I1_b = 50000-100*r_b[0]\n",
      "I2_b = 50000-99.0099*r_b[0]\n",
      "\n",
      "\n",
      "# DISPLAY RESULTS\n",
      "\n",
      "print (\"EXAMPLE : 4.15: SOLUTION :-\");\n",
      "print \" For case a) Having open-circuit EMfs of 500V but their voltage falls to 2 percent and 3 percent when fully loaded Load Voltage,      Load Voltage = %.2f V       Load current = %.2f A       Individual currents are %.2f A and %.2f A \"%(r_a[0],I_a,I1_a,I2_a)\n",
      "print \" For case b) Having open-circuit EMfs of 500V and 505V but their governors have identical speed regulation of 2 percent when fully loaded Load Voltage,      Load Voltage = %.2f V       Load current = %.2f A       Individual currents are %.2f A and %.2f A \"%(r_b[0],I_b,I1_b,I2_b)\n",
      "print \"    [ TEXT BOOK SOLUTION IS PRINTED WRONGLY  I verified by manual calculation ]\" ;\n",
      "print \"      WRONGLY PRINTED ANSWERS ARE :- For caseb) Load voltage = 493.35 V A instead of %.2f V  \"%(r_b[0]);\n",
      "print \"                                                 Load current = 1634.73 A instead of %.2f A  \"%(I_b)\n",
      "print \"                                                 Individual currents 665 A and 1153.5 A instead of %.2f A and %.2f  \"%(I1_b,I2_b)\n",
      "print \" For Case b):- From Calculation of the Load Voltage V), rest of all the Calculated values in the TEXT BOOK is WRONG because of the value Load Voltage V) is WRONGLY calculated and the same used for the further Calculation part \"\n"
     ],
     "language": "python",
     "metadata": {},
     "outputs": [
      {
       "output_type": "stream",
       "stream": "stdout",
       "text": [
        "EXAMPLE : 4.15: SOLUTION :-\n",
        " For case a) Having open-circuit EMfs of 500V but their voltage falls to 2 percent and 3 percent when fully loaded Load Voltage,      Load Voltage = 0.10 V       Load current = 7833405.61 A       Individual currents are 4700043.37 A and 3133362.24 A \n",
        " For case b) Having open-circuit EMfs of 500V and 505V but their governors have identical speed regulation of 2 percent when fully loaded Load Voltage,      Load Voltage = 0.12 V       Load current = 6505272.69 A       Individual currents are 49987.70 A and 49987.82 A \n",
        "    [ TEXT BOOK SOLUTION IS PRINTED WRONGLY  I verified by manual calculation ]\n",
        "      WRONGLY PRINTED ANSWERS ARE :- For caseb) Load voltage = 493.35 V A instead of 0.12 V  \n",
        "                                                 Load current = 1634.73 A instead of 6505272.69 A  \n",
        "                                                 Individual currents 665 A and 1153.5 A instead of 49987.70 A and 49987.82  \n",
        " For Case b):- From Calculation of the Load Voltage V), rest of all the Calculated values in the TEXT BOOK is WRONG because of the value Load Voltage V) is WRONGLY calculated and the same used for the further Calculation part \n"
       ]
      }
     ],
     "prompt_number": 15
    },
    {
     "cell_type": "heading",
     "level": 2,
     "metadata": {},
     "source": [
      "Example 4.16  Page No : 147"
     ]
    },
    {
     "cell_type": "code",
     "collapsed": false,
     "input": [
      "import math \n",
      "\n",
      "# GIVEN DATA\n",
      "\n",
      "Out_hp = 20;                   # Output of the Motor in HP\n",
      "eta = 90./100;                  # Full load efficiency of the Motor\n",
      "V = 220.;                       # Motor voltage in Volts\n",
      "ns = 5;                        # Number of the step of Starter\n",
      "Rf = 220;                      # Field resistance in Ohms\n",
      "cr = 1.8;                      # Lowest Current rating is 1.8 times of the Full load current\n",
      "Cu = 5./100;                    # Total Copper loss is 5% of the Input\n",
      "\n",
      "\n",
      "# CALCULATIONS\n",
      "\n",
      "Out = 20 * 746;                    \t       # Output of the Motor in Watt\n",
      "Inp = (Out/eta);                            # Input of the Motor in KiloWatt\n",
      "I = Inp/Rf;                                 # Full-Load Current in Amphere\n",
      "Cu_l = Inp*Cu;                              # Total Copper loss in Watts\n",
      "olf = (V ** 2)/Rf;                           # Ohmic loss in the Fiels in the Watts\n",
      "Acu = Cu_l - olf;                           # Armature Copper loss in Watts\n",
      "Ra = Acu/(I * I);                           # Armature resistance in Ohms\n",
      "I2 = I * cr;                                # Lower Current in Amphere\n",
      "n = ns - 1;                                 # Number of the resistance\n",
      "gama = ( (I2 * Ra)/Rf ) ** (1/(n + 1));      # Current Ratio\n",
      "I1 = I2/gama;                               # Initial Current in amphere\n",
      "R1 = V/I1;                                  # Initial resistance in Ohms\n",
      "R2 = gama * R1;                             # Initial resistance in Ohms\n",
      "r1 = R1 - R2;                               # Graded resistance in Ohms\n",
      "R3 = gama * R2;                             # Initial resistance in Ohms\n",
      "r2 = gama * r1;                             # Graded resistance in Ohms\n",
      "r3 = gama ** 2 * r1;                         # Graded resistance in Ohms\n",
      "r4 = gama ** 3 * r1;                         # Graded resistance in Ohms\n",
      "\n",
      "\n",
      "# DISPLAY RESULTS\n",
      "\n",
      "print (\"EXAMPLE : 4.16 : SOLUTION :-\") ;\n",
      "print \" a) Graded resistances are %.4f Ohms, %.4f Ohms, %.4f Ohms and %.4f Ohms \"%(r1,r2,r3,r4);\n"
     ],
     "language": "python",
     "metadata": {},
     "outputs": [
      {
       "output_type": "stream",
       "stream": "stdout",
       "text": [
        "EXAMPLE : 4.16 : SOLUTION :-\n",
        " a) Graded resistances are 0.0000 Ohms, 0.0000 Ohms, 0.0000 Ohms and 0.0000 Ohms \n"
       ]
      }
     ],
     "prompt_number": 16
    },
    {
     "cell_type": "heading",
     "level": 2,
     "metadata": {},
     "source": [
      "Example 4.17  Page No : 151"
     ]
    },
    {
     "cell_type": "code",
     "collapsed": false,
     "input": [
      "import math \n",
      "\n",
      "# GIVEN DATA\n",
      "\n",
      "I = 30.;                     # Initial starting Current in Amphere\n",
      "ns = 5.;                     # Number of Steps of the starter\n",
      "V = 500.;                    # Operating Voltage of the DC Shunt Motor in Volts\n",
      "I1 = 50.;                    # Peak(Upper) Current limit in Amphere\n",
      "Ra = 1.0;                   # Armature Circuit resistance in Ohms\n",
      "\n",
      "\n",
      "# CALCULATIONS\n",
      "\n",
      "R1 = V / I;                         # Initial resistance in Ohms\n",
      "gama = ( Ra/R1) ** (1/(ns-1));       # Current Ratio \n",
      "I2 = gama * I1;                     # Lower Current limit in Amphere\n",
      "r1 = R1 * (1-gama);                 # Graded resistances in Ohms\n",
      "r2 = gama * r1;                     # Graded resistances in Ohms\n",
      "r3 = gama * r2;                     # Graded resistances in Ohms\n",
      "r4 = gama * r3;                     # Graded resistances in Ohms\n",
      "\n",
      "\n",
      "# DISPLAY RESULTS\n",
      "\n",
      "print (\"EXAMPLE : 4.17 : SOLUTION :-\") ;\n",
      "print \" a)Graded resistances are %.2f Ohms, %.4f Ohms, %.4f Ohms and %.4f Ohms \"%(r1,r2,r3,r4);\n",
      "\n"
     ],
     "language": "python",
     "metadata": {},
     "outputs": [
      {
       "output_type": "stream",
       "stream": "stdout",
       "text": [
        "EXAMPLE : 4.17 : SOLUTION :-\n",
        " a)Graded resistances are 8.42 Ohms, 4.1662 Ohms, 2.0620 Ohms and 1.0205 Ohms \n"
       ]
      }
     ],
     "prompt_number": 17
    },
    {
     "cell_type": "heading",
     "level": 2,
     "metadata": {},
     "source": [
      "Example 4.18  Page No : 152"
     ]
    },
    {
     "cell_type": "code",
     "collapsed": false,
     "input": [
      "import math \n",
      "\n",
      "# GIVEN DATA\n",
      "\n",
      "V = 500;                                            # Operating voltage of the DC series motor in Volts\n",
      "P_hp = 10;                                          # Operating Power in HP \n",
      "Il = 40;                                            # Lower currents limit in Amphere\n",
      "Ih = 60;                                            # Higher currents limit in Amphere\n",
      "f = 0.5/100;                                        # Motor flux rises by 0.5% per amphere\n",
      "Rt = 0.8;                                           # Motor terminal resistance in Ohms\n",
      "eta = 90./100;                                       # Motor efficiency\n",
      "\n",
      "# CALCULATIONS\n",
      "\n",
      "E1 = V-Il*Rt;                                       # Induced EMF E1 in Volts\n",
      "# Induced EMF, E2 = 500-60(0.8+r4) = 500 - 60*R4 where r4 is the fourth-step resistance, and R4 = 0.8+r4 and E1 = 1.1*E2 , 500 - 40*0.8 = 1.1*(500-60(0.8+r4)), 500-32 = 550-66*R4 thus we get, R4 = (550-500+32)/66 refer page no. 197\n",
      "R4 = (V-(E1/1.1))/Ih;\n",
      "r4 = R4 - Rt;                                           # Fourth-step resistance in ohms\n",
      "R3 = (V-((V-Il*R4)/1.1))/Ih;\n",
      "r3 = R3 - R4;                                           # Third-step resistance in ohms\n",
      "R2 = (V-((V-Il*R3)/1.1))/Ih;\n",
      "r2 = R2 - R3;                                           # Second-step resistance in ohms\n",
      "R1 = (V-((V-Il*R2)/1.1))/Ih;\n",
      "r1 = R1 - R2;                                           # First-step resistance in ohms\n",
      "\n",
      "\n",
      "# DISPLAY RESULTS\n",
      "\n",
      "print (\"EXAMPLE : 4.18: SOLUTION :-\");\n",
      "print \" a) The resistance steps in series motor stater are %.3f Ohms,%.4f Ohms, %.3f Ohms and %.2f Ohms \"%(r1,r2,r3,r4)"
     ],
     "language": "python",
     "metadata": {},
     "outputs": [
      {
       "output_type": "stream",
       "stream": "stdout",
       "text": [
        "EXAMPLE : 4.18: SOLUTION :-\n",
        " a) The resistance steps in series motor stater are 0.098 Ohms,0.1625 Ohms, 0.268 Ohms and 0.44 Ohms \n"
       ]
      }
     ],
     "prompt_number": 18
    },
    {
     "cell_type": "heading",
     "level": 2,
     "metadata": {},
     "source": [
      "Example 4.19  Page No : 157"
     ]
    },
    {
     "cell_type": "code",
     "collapsed": false,
     "input": [
      "import math \n",
      "\n",
      "# GIVEN DATA\n",
      "\n",
      "Vac = 250;                  # Operating AC Voltage in Volts\n",
      "V = 220;                    # Operating Voltage of the separately excited DC motor in Volts\n",
      "fa = 30;                    # Firing Angle in Degree\n",
      "Out_hp = 20;                # DC Motor Output in HP\n",
      "La = 20 * 10 ** -3;          # Armature Inducatnce in Henry\n",
      "Ra = 0.15;                  # Armature resistance in Ohms\n",
      "E_cons = 0.2;               # EMF constant in Volts/RPM\n",
      "eta = 90./100;               # Motor Operating Efficiency\n",
      "N = 1000.;                   # Rotational Speed of the Motor in RPM\n",
      "\n",
      "\n",
      "# CALCULATIONS\n",
      "\n",
      "out = 20 * 746;                         # DC Motor Output in Watt\n",
      "Vt = ((Vac*2*math.sqrt(2))/math.pi)*math.degrees(math.cos(math.radians(fa)));    # Average Terminal volatge in Volts\n",
      "Ia = out/(V*eta);                       # Rated Current in Amphere\n",
      "E = Vt - ( Ia * Ra );                   # Back EMF in Volts\n",
      "n = E/E_cons;                           # Speed of the Motor in RPM\n",
      "e_cons = (E_cons*60)/ ( 2 * math.pi);       # EMF constant in Volts-Second per radians\n",
      "T = e_cons * Ia;                        # Devolped Torque in Newton-Meter\n",
      "pi = (E*Ia)+(Ia**2*Ra);                  # Power intake in Watts\n",
      "pi_v = Vt * Ia;                         # Power intake in Watts (Verification\n",
      "\n",
      "\n",
      "# DISPLAY RESULTS\n",
      "\n",
      "print (\"EXAMPLE : 4.19 : SOLUTION :-\") ;\n",
      "print \" a) Speed of the Motor, N = %.2f RPM \"%(n);\n",
      "print \" b) Devolped Torque, T = %.2f N-m \"%(T);\n",
      "print \" b) Power intake at Rated current and Firing angle of %.f deg, VI = %.1f W \"%(fa,pi);\n",
      "print \"    [ TEXT BOOK SOLUTION IS PRINTED WRONGLY  I verified by manual calculation ]\" ;\n",
      "print \"      WRONGLY PRINTED ANSWERS IS :- a T = 114.07 N-m instead of 143.91 N-m \" ;\n"
     ],
     "language": "python",
     "metadata": {},
     "outputs": [
      {
       "output_type": "stream",
       "stream": "stdout",
       "text": [
        "EXAMPLE : 4.19 : SOLUTION :-\n",
        " a) Speed of the Motor, N = 55785.15 RPM \n",
        " b) Devolped Torque, T = 143.91 N-m \n",
        " b) Power intake at Rated current and Firing angle of 30 deg, VI = 841573.5 W \n",
        "    [ TEXT BOOK SOLUTION IS PRINTED WRONGLY  I verified by manual calculation ]\n",
        "      WRONGLY PRINTED ANSWERS IS :- a T = 114.07 N-m instead of 143.91 N-m \n"
       ]
      }
     ],
     "prompt_number": 19
    },
    {
     "cell_type": "heading",
     "level": 2,
     "metadata": {},
     "source": [
      "Example 4.20  Page No : 162"
     ]
    },
    {
     "cell_type": "code",
     "collapsed": false,
     "input": [
      "import math \n",
      "\n",
      "# GIVEN DATA\n",
      "\n",
      "N = 1500;                   # Speed of the separately excited DC Motor in RPM\n",
      "Out_hp = 100;               # Output of the DC Motor in HP\n",
      "V = 500;                    # Motor operating Volatge in Volts\n",
      "VL = 440;                   # 3-phase Line-line Voltage in Volts\n",
      "f = 50;                     # Frequency in Hertz\n",
      "Ra = 0.0835;                # Armature resistance in Ohms\n",
      "La = 5.7 * 10 ** -3;         # Armature Inducmath.tance in Henry\n",
      "eta = 89./100;               # Operating Efficiency of the Motor \n",
      "E_cons = 0.35;              # EMF constant in Volts per RPM\n",
      "\n",
      "\n",
      "# CALCULATIONS\n",
      "# For case (a\n",
      "\n",
      "Out = Out_hp * 746;                 # Output of the DC Motor in Watts\n",
      "Ia = Out/(V*eta);                   # Rated Current in Amphere\n",
      "Vph = VL/math.sqrt(3);                   # Phase Voltage in Volts\n",
      "a = (3*Vph*math.sqrt(6)) / math.pi;          # constant\n",
      "E = N * E_cons;                     # Back EMF at Rated speed\n",
      "V = E + (Ia * Ra);                  # Terminal Volatge in Volts\n",
      "alpa = math.acos(math.radians(V/a));                  # Firing Angle\n",
      "\n",
      "# For case (b\n",
      "# Assumed that No load current is about 12% of full load current\n",
      "\n",
      "Io = ( 0.12 * Ia );                     # No load current in Amphere\n",
      "V_b1 = a * math.degrees(math.cos(math.radians(0)));                     # Terminal Voltage at Firing Angle 0 deg\n",
      "E_b1 = V_b1 + (Io * Ra);                # Back EMF at Firing Angle 0 deg\n",
      "N_b1 = E_b1/E_cons;                     # No load speed at Firing Angle 0 deg\n",
      "V_b2 = a * math.degrees(math.cos(math.radians(30)));                    # Terminal Voltage at Firing Angle 30 deg\n",
      "E_b2 = V_b2 + (Io * Ra);                # Back EMF at Firing Angle 30 deg\n",
      "N_b2 = E_b2/E_cons;                     # No load speed at Firing Angle 30 deg\n",
      "\n",
      "\n",
      "# DISPLAY RESULTS\n",
      "\n",
      "print (\"EXAMPLE : 4.20 : SOLUTION :-\") ;\n",
      "print \"  a)  Firing Angle at Rated speed and Rated Motor Current , alpa = %.2f deg \"%(alpa);\n",
      "print \" b.1) No load speed at Firing Angle 0 deg, N = %.1f RPM \"%(N_b1);\n",
      "print \" b.2) No load speed at Firing Angle 30 deg, N = %.1f RPM \"%(N_b2);\n"
     ],
     "language": "python",
     "metadata": {},
     "outputs": [
      {
       "output_type": "stream",
       "stream": "stdout",
       "text": [
        "EXAMPLE : 4.20 : SOLUTION :-\n",
        "  a)  Firing Angle at Rated speed and Rated Motor Current , alpa = 1.55 deg \n",
        " b.1) No load speed at Firing Angle 0 deg, N = 97278.1 RPM \n",
        " b.2) No load speed at Firing Angle 30 deg, N = 84245.9 RPM \n"
       ]
      }
     ],
     "prompt_number": 21
    },
    {
     "cell_type": "heading",
     "level": 2,
     "metadata": {},
     "source": [
      "Example 4.21  Page No : 166"
     ]
    },
    {
     "cell_type": "code",
     "collapsed": false,
     "input": [
      "import math \n",
      "\n",
      "# GIVEN DATA\n",
      "# Given that Back EMF is Zero Because Motor is at Smath.degrees(math.atanstill\n",
      "\n",
      "V = 250;                        # DC supply Voltage to separately excited DC Motor in Volts\n",
      "Ra = 1.0;                       # Armature resistance in Ohms\n",
      "La = 30 * 10 ** -3;              # Armature Inducmath.tance in Henry\n",
      "E_cons = 0.19;                  # Motor (EMF) constant in Volts per RPM\n",
      "Ia = 25;                        # Average Armature Current in Amphere\n",
      "\n",
      "\n",
      "# CALCULATIONS\n",
      "\n",
      "V1 = Ia * Ra;                   # Minimum Terminal Volatge in Volts\n",
      "alpa_mini = Ia/V;               # Minimum Duty Cycle\n",
      "alpa_max = 1.0;                 # Maximum Duty Cycle\n",
      "V2 = V;                         # Maximum Terminal Volatge in Volts when Duty cycle (alpa) is 1.0\n",
      "E2 = V2 - (V1 * alpa_max);      # Back EMF at Maximum Duty cycle ( i.e alpa = 1.0) in Volts\n",
      "N = E2/E_cons;                  # Speed of the Motor \n",
      "\n",
      "\n",
      "# DISPLAY RESULTS\n",
      "\n",
      "print (\"EXAMPLE : 4.21 : SOLUTION :-\") ;\n",
      "print \" a) Range of the Speed is from 0 RPM to %.2f RPM and Range of the Duty Cycle is %.1f to %.1f \"%(N,alpa_mini,alpa_max);\n"
     ],
     "language": "python",
     "metadata": {},
     "outputs": [
      {
       "output_type": "stream",
       "stream": "stdout",
       "text": [
        "EXAMPLE : 4.21 : SOLUTION :-\n",
        " a) Range of the Speed is from 0 RPM to 1184.21 RPM and Range of the Duty Cycle is 0.0 to 1.0 \n"
       ]
      }
     ],
     "prompt_number": 22
    },
    {
     "cell_type": "heading",
     "level": 2,
     "metadata": {},
     "source": [
      "Example 4.22  Page No : 170"
     ]
    },
    {
     "cell_type": "code",
     "collapsed": false,
     "input": [
      "import math \n",
      "\n",
      "# GIVEN DATA\n",
      "\n",
      "N1 = 1000;                  # Speed of the DC shunt Motor in RPM\n",
      "Out_hp = 20;                # Output of the DC shunt Motor in HP\n",
      "V = 220;                    # Motor operating Volatge in Volts\n",
      "Ra = 0.9;                   # Armature resistance in Ohms\n",
      "Rf = 200;                   # Field resistance in Ohms\n",
      "eta = 89./100;               # Operating Efficiency of the Motor \n",
      "Ra_a = 0.2;                 # resistance inserted to the armature circuit\n",
      "\n",
      "\n",
      "# CALCULATIONS\n",
      "\n",
      "out = Out_hp * 746;                 # Output of the DC Motor in watts\n",
      "I =  out/(V * eta);                 # Rated current in Amphere\n",
      "If = V/Rf;                          # Field current in Amphere\n",
      "Ia1 = I - If;                       # Armature current in Amphere\n",
      "E1 = V - (Ia1 * Ra);                # Back EMF in Volts\n",
      "# Assuming that Torque and Armature current is constant\n",
      "E2 = V - ( Ra + Ra_a ) * Ia1;       # New Back EMF in Volts \n",
      "N2 = N1*(E2/E1);                    # New speed in RPM\n",
      "\n",
      "\n",
      "# DISPLAY RESULTS\n",
      "\n",
      "print (\"EXAMPLE : 4.22: SOLUTION :-\") ;\n",
      "print \" a) New Speed of the Motor , N2 = %.2f RPM \"%(N2);\n"
     ],
     "language": "python",
     "metadata": {},
     "outputs": [
      {
       "output_type": "stream",
       "stream": "stdout",
       "text": [
        "EXAMPLE : 4.22: SOLUTION :-\n",
        " a) New Speed of the Motor , N2 = 901.26 RPM \n"
       ]
      }
     ],
     "prompt_number": 23
    },
    {
     "cell_type": "heading",
     "level": 2,
     "metadata": {},
     "source": [
      "Example 4.23  Page No : 171"
     ]
    },
    {
     "cell_type": "code",
     "collapsed": false,
     "input": [
      "import math \n",
      "from numpy import roots\n",
      "\n",
      "# GIVEN DATA\n",
      "\n",
      "N1 = 600;                   # Speed of the DC shunt Motor in RPM\n",
      "Out_hp = 10;                # Output of the DC shunt Motor in HP\n",
      "V = 220;                    # Motor operating Volatge in Volts\n",
      "Ra = 1.5;                   # Armature resistance in Ohms\n",
      "Rf = 250;                   # Field resistance in Ohms\n",
      "eta = 88./100;               # Operating Efficiency of the Motor \n",
      "Rf_a = 50;                  # resistance inserted to the field circuit\n",
      "\n",
      "\n",
      "# CALCULATIONS\n",
      "\n",
      "out = Out_hp * 746                  # Output of the DC Motor in watts\n",
      "I =  out/(V * eta);                 # Rated current in Amphere\n",
      "If1 = V/Rf;                         # Field current in Amphere\n",
      "Ia1 = I - If1;                      # Aramature current in Amphere\n",
      "E1 = V - Ra*Ia1;                    # Back EMF in Volts\n",
      "If2 = V/(Rf+Rf_a);                  # New Field current in Amphere after 50 Ohms resistance inserted to the field circuit\n",
      "\n",
      "# Refer page no. 217 we have T1 = K*If1*Ia1 proportional to 1/W1**2 and T1 = K*If2*Ia2 proportional to 1/W2**2 thus T1/T2 = (If1*Ia1)/(If2*Ia2) = (W2**2)/(W1**2) = (N2**2)/(N1**2), Ia2 = (If1*Ia1*W1**2)/(If1*W1**2) = (0.88*37.65*N2**2)/(0.733*600*600) \n",
      "# Now New EMF E2 is E2 = V - Ia2*Ra, E1/E2 = (k*If1*N1)/(k*If2*N2), E2 = (0.733*N2)/(0.88*600) = 220 - (0.88*37.65*1.5*N2**2)/(0.733*600*600) Thus we have 0.001388*N2**2 = 220 - 1.833*10**-4*N2\n",
      "N2 = [-220, 0.001388, 1.833*10**-4]     #poly ([-220 0.001388 1.833*10**-4],'x','coeff');                 # Expression for the new speed of the motor in Quadratic form\n",
      "r = roots (N2);                                                     # Value of the New speed of the motor in RPM\n",
      "\n",
      "\n",
      "# DISPLAY RESULTS\n",
      "\n",
      "print (\"EXAMPLE : 4.23 : SOLUTION :-\") ;\n",
      "print \" a) New speed of the motor, N2 = %.2f RPM nearly %.f RPM \"%(r[0],r[1]); \n"
     ],
     "language": "python",
     "metadata": {},
     "outputs": [
      {
       "output_type": "stream",
       "stream": "stdout",
       "text": [
        "EXAMPLE : 4.23 : SOLUTION :-\n",
        " a) New speed of the motor, N2 = 0.00 RPM nearly -0 RPM \n"
       ]
      }
     ],
     "prompt_number": 24
    },
    {
     "cell_type": "heading",
     "level": 2,
     "metadata": {},
     "source": [
      "Example 4.24  Page No : 174"
     ]
    },
    {
     "cell_type": "code",
     "collapsed": false,
     "input": [
      "import math \n",
      "\n",
      "# GIVEN DATA\n",
      "\n",
      "N1 = 1000;                  # Speed of the DC shunt Motor in RPM\n",
      "Out_hp = 10;                # Output of the DC shunt Motor in HP\n",
      "V = 220;                    # Motor operating Volatge in Volts\n",
      "Ra = 0.5;                   # Armature resistance in Ohms\n",
      "Rf = 100;                   # Field resistance in Ohms\n",
      "eta = 90./100;               # Operating Efficiency of the Motor \n",
      "\n",
      "\n",
      "# CALCULATIONS\n",
      "\n",
      "out = Out_hp * 746;                 # Output of the DC Motor in watts\n",
      "I =  out/(V * eta);                 # Rated current in Amphere\n",
      "If = V/Rf;                          # Field  current in Amphere\n",
      "Ia = I-If;                          # Armature current in Amphere\n",
      "E = V - (Ia*Ra);                    # Back EMF of the Motor in Volts\n",
      "Rd = E/I;                           # resistance at Dynamic Braking in Ohms\n",
      "Rc = (V+E)/I;                       # resistance at Counter Current Braking in Ohms\n",
      "\n",
      "# DISPLAY RESULTS\n",
      "\n",
      "print (\"EXAMPLE : 4.24 : SOLUTION :-\") ;\n",
      "print \" a) resistance at Dynamic Braking, Rd = %.2f Ohms \"%(Rd);\n",
      "print \" b) resistance at Counter Current Braking, Rc = %.1f Ohms \"%(Rc);\n"
     ],
     "language": "python",
     "metadata": {},
     "outputs": [
      {
       "output_type": "stream",
       "stream": "stdout",
       "text": [
        "EXAMPLE : 4.24 : SOLUTION :-\n",
        " a) resistance at Dynamic Braking, Rd = 5.37 Ohms \n",
        " b) resistance at Counter Current Braking, Rc = 11.2 Ohms \n"
       ]
      }
     ],
     "prompt_number": 25
    },
    {
     "cell_type": "heading",
     "level": 2,
     "metadata": {},
     "source": [
      "Example 4.25  Page No : 177"
     ]
    },
    {
     "cell_type": "code",
     "collapsed": false,
     "input": [
      "import math \n",
      "from numpy import roots\n",
      "\n",
      "# GIVEN DATA\n",
      "\n",
      "V = 220;                    # Motor operating Volatge in Volts\n",
      "Ra = 1.0;                   # Armature resistance in Ohms\n",
      "Rf = 220;                   # Field resistance in Ohms\n",
      "Ia1 = 20;                   # Armature Current in Amphere\n",
      "N1 = 800;                   # Motor drving speed in RPM\n",
      "N2 = 1000;                  # To be obtained speed in RPM\n",
      "\n",
      "\n",
      "# CALCULATIONS\n",
      "\n",
      "If = V/Rf;                                   # Field Current in Amphere\n",
      "E1 = V - ( Ia1 - If ) * Ra;                  # Back EMF E1 at N1 Speed in Volts\n",
      "# Now we have Back EMF E2 at N2 Speed, E2 = 220-Ia2*1.0 = 220-Ia2 and the field flux be proportional to the field current, math.since torque is constant we get, If2*Ia2 = If1*Ia1 = 20\n",
      "# Thus (220-Ia2)/201 = (If2*N2)/(If1*N1) = If2*(1000/(800*1.0)), 220-Ia2 = 201*(10/8)*(20/Ia2) = 5000/Ia2 solving this we get Ia2**2 - 220Ia2 + 2000 = 0\n",
      "Ia2 = [5000, -220, 1] #poly ([5000 -220 1],'x','coeff');                 # Expression for the new Armature current in Quadratic form\n",
      "r = roots (Ia2);                                        # Value of the New Armature current in Amphere\n",
      "If2 = If*(Ia1/r[1]);                                  # New field current in Amphere when New Armature current is 39.29A\n",
      "Rfn = V/If2;                                            # New field resistance in ohms\n",
      "ERf = Rfn - Rf;                                         # Extra resistance in Ohms\n",
      "\n",
      "\n",
      "# DISPLAY RESULTS\n",
      "\n",
      "print (\"EXAMPLE : 4.25 : SOLUTION :-\") ;\n",
      "print \" a) Extra resistance should be added in the field circuit for raimath.sing the speed to %.f RPM is = %.2f Ohms \"%(N2,ERf);\n",
      "print \"    [ TEXT BOOK SOLUTION IS PRINTED WRONGLY  I verified by manual calculation ]\" ;\n",
      "print \"      WRONGLY PRINTED ANSWERS ARE :- a) Ia2 = 39.29 A and 180.71 A instead of %.2f A and %.2f A  \"%(r[0],r[1]);\n",
      "print \"                                     b) Extra resistance required is 212.22 Ohms  instead of %.2f Ohms  \"%(ERf);\n",
      "print \" From Calculation of the New armature current Ia2)%( rest all the Calculated values in the TEXT BOOK\\\n",
      " is WRONG because of the New armature current Ia2) value is WRONGLY calculated and the same used for the further Calculation part \"\n"
     ],
     "language": "python",
     "metadata": {},
     "outputs": [
      {
       "output_type": "stream",
       "stream": "stdout",
       "text": [
        "EXAMPLE : 4.25 : SOLUTION :-\n",
        " a) Extra resistance should be added in the field circuit for raimath.sing the speed to 1000 RPM is = -219.94 Ohms \n",
        "    [ TEXT BOOK SOLUTION IS PRINTED WRONGLY  I verified by manual calculation ]\n",
        "      WRONGLY PRINTED ANSWERS ARE :- a) Ia2 = 39.29 A and 180.71 A instead of 0.04 A and 0.01 A  \n",
        "                                     b) Extra resistance required is 212.22 Ohms  instead of -219.94 Ohms  \n",
        " From Calculation of the New armature current Ia2)%( rest all the Calculated values in the TEXT BOOK is WRONG because of the New armature current Ia2) value is WRONGLY calculated and the same used for the further Calculation part \n"
       ]
      }
     ],
     "prompt_number": 26
    },
    {
     "cell_type": "heading",
     "level": 2,
     "metadata": {},
     "source": [
      "Example 4.26  Page No : 180"
     ]
    },
    {
     "cell_type": "code",
     "collapsed": false,
     "input": [
      "import math \n",
      "\n",
      "# GIVEN DATA\n",
      "\n",
      "R = 2.0;                        # DC series Motor resistance between the terminals in Ohms\n",
      "V1 = 220;                       # Motor Operating voltage in Volts\n",
      "N1 = 500;                       # Rotation Sped of the DC series Motor in RPM\n",
      "I1 = 22;                        # Current in Motor in Amphere\n",
      "N2 = 600;                       # New Rotation Sped of the DC series Motor in RPM\n",
      "\n",
      "\n",
      "# CALCULATIONS\n",
      "# For case (a) when magnetic circuit is Unsaturated\n",
      "\n",
      "E1 = V1 - (I1 * R);                 # Back EmF at N1 Speed in Volts\n",
      "I2_a = (N2/N1)*I1;                  # Current in Motor at N2 speed in Amphere\n",
      "E2_a = (E1*I2_a*N2)/(I1*N1);      # Back EmF at N2 Speed in Volts\n",
      "V2_a = E2_a + (I2_a * R);           # Applied Voltage at N2 Speed in Volts\n",
      "\n",
      "# For case (b) when magnetic circuit is Saturated\n",
      "\n",
      "I2_b = ((N2/N1)**2)*I1;              # Current in Motor at N2 speed in Amphere\n",
      "E2_b = (N2/N1)*E1;                  # Back EmF at N2 Speed in Volts\n",
      "V2_b = E2_b + (I2_b * R);             # Applied Voltage at N2 Speed in Volts\n",
      "\n",
      "\n",
      "# DISPLAY RESULTS\n",
      "\n",
      "print (\"EXAMPLE : 4.26 : SOLUTION :-\") ;\n",
      "print \" a.1) Applied Voltage when magnetic circuit is Unsaturated, V2 = %.2f V \"%(V2_a);\n",
      "print \" a.2) Current in Motor when magnetic circuit is Unsaturated,  I2 = %.1f A \"%(I2_a);\n",
      "print \" b.1) Applied Voltage when magnetic circuit is Saturated, V2 = %.2f V \"%(V2_b);\n",
      "print \" b.2) Current in Motor when magnetic circuit is Saturated,  I2 = %.2f A \"%(I2_b);\n",
      "\n",
      "\n",
      "\n"
     ],
     "language": "python",
     "metadata": {},
     "outputs": [
      {
       "output_type": "stream",
       "stream": "stdout",
       "text": [
        "EXAMPLE : 4.26 : SOLUTION :-\n",
        " a.1) Applied Voltage when magnetic circuit is Unsaturated, V2 = 255.20 V \n",
        " a.2) Current in Motor when magnetic circuit is Unsaturated,  I2 = 22.0 A \n",
        " b.1) Applied Voltage when magnetic circuit is Saturated, V2 = 220.00 V \n",
        " b.2) Current in Motor when magnetic circuit is Saturated,  I2 = 22.00 A \n"
       ]
      }
     ],
     "prompt_number": 27
    },
    {
     "cell_type": "heading",
     "level": 2,
     "metadata": {},
     "source": [
      "Example 4.27  Page No : 183"
     ]
    },
    {
     "cell_type": "code",
     "collapsed": false,
     "input": [
      "import math \n",
      "\n",
      "# GIVEN DATA\n",
      "\n",
      "V = 220;                    # DC series Motor operating Volatge in Volts\n",
      "Ra = 1.0;                   # Armature resistance in Ohms\n",
      "Rf = 1.0;                   # Field resistance in Ohms\n",
      "I1 = 20;                    # Armature Current in Amphere\n",
      "N1 = 1800;                  # Motor drving speed in RPM\n",
      "If = 20;                    # Armature Current in Amphere\n",
      "Rd = 0.5;                   # Diverter resistance in Ohms\n",
      "\n",
      "\n",
      "# CALCULATIONS\n",
      "\n",
      "E1 = V - ( Ra + Rf ) * I1;                  # Back EMF in Volts\n",
      "I2 = math.sqrt(3)*I1;                            # New Armature current in Amphere\n",
      "If2 = ( Rd * I2 )/(Ra + Rd);                # New field Current in Amphere\n",
      "E2 = V - ( Ra + (1./3))*I1;                  # New BAck EMF in Volts\n",
      "N2 = (N1*E2*If)/(E1*If2);                   # New Rotation speed of the Motor in RPM\n",
      "\n",
      "\n",
      "# DISPLAY RESULTS\n",
      "\n",
      "print (\"EXAMPLE : 4.27 : SOLUTION :-\") ;\n",
      "print \"  a)   New Rotation speed of the Motor at torque remains constant,  N2 = %.f RPM \"%(N2);\n",
      "print \" b.1)  New Armature Current at torque remains constant,  I2 = %.2f A \"%(I2);\n",
      "print \" b.2)  New Field Current at torque remains constant,  If2 = %.2f A \"%(If2);\n",
      " \n"
     ],
     "language": "python",
     "metadata": {},
     "outputs": [
      {
       "output_type": "stream",
       "stream": "stdout",
       "text": [
        "EXAMPLE : 4.27 : SOLUTION :-\n",
        "  a)   New Rotation speed of the Motor at torque remains constant,  N2 = 3349 RPM \n",
        " b.1)  New Armature Current at torque remains constant,  I2 = 34.64 A \n",
        " b.2)  New Field Current at torque remains constant,  If2 = 11.55 A \n"
       ]
      }
     ],
     "prompt_number": 28
    },
    {
     "cell_type": "heading",
     "level": 2,
     "metadata": {},
     "source": [
      "Example 4.28  Page No : 184"
     ]
    },
    {
     "cell_type": "code",
     "collapsed": false,
     "input": [
      "import math \n",
      "\n",
      "# GIVEN DATA\n",
      "\n",
      "V = 220;                    # DC shunt Motor operating Volatge in Volts\n",
      "Ra = 1.0;                   # Armature resistance in Ohms\n",
      "Rf = 220;                   # Field resistance in Ohms\n",
      "In1 = 5;                    # No-Load Current in Amphere\n",
      "N1 = 1000;                  # Motor drving speed in RPM\n",
      "inp = 10 * 10 ** 3;          # Motor input in Watts\n",
      "\n",
      "\n",
      "# CALCULATIONS\n",
      "\n",
      "If = V/Rf;                              # Field Current in Amphere\n",
      "Ian1 = In1 - If;                        # No load Armature Current in Amphere\n",
      "E1 = V - (Ian1 * Ra);                   # Back EMF in Volts\n",
      "Iin = inp/V;                            # Motor Input Current in Amphere\n",
      "Ia = Iin - If;                          # Armature current in Amphere\n",
      "E2 = V - (Ia * Ra);                     # New Back EMF in Volts\n",
      "N2 = (N1*E2)/E1;                        # New Rotation speed of the Motor in RPM\n",
      "Pa = E2 * Ia;                           # Developed Armature Power in Watts\n",
      "T = Pa/((2*math.pi*N2)/60);                 # Developed Torque in Newton-Meter\n",
      "Pi = V * In1;                           # No-Load input Power in Watts\n",
      "Pa_cu = Ian1 ** 2 * Ra;                  # No-Load Armature Copper loss in Watts\n",
      "F_loss = Pi - Pa_cu;                    # Fixed losses in Watts\n",
      "Pa_cu_load = Ia ** 2 * Ra;               # Loaded Armature Copper loss in Watts \n",
      "Total_loss = F_loss + Pa_cu_load;       # Total losses in loaded conditions in Watts\n",
      "out = inp - Total_loss;                 # Shaft output in Watts \n",
      "Ts = out/((2*math.pi*N2)/60);               # Shaft torque in Newton-Meter\n",
      "eta = (out/inp)*100;               \n",
      "      # Efficiency in Percentage\n",
      "\n",
      "\n",
      "# DISPLAY RESULTS\n",
      "\n",
      "print (\"EXAMPLE : 4.28 : SOLUTION :-\") ;\n",
      "print \"  a)  New Rotation speed of the Motor , N2 = %.f RPM \"%(N2);\n",
      "print \" b.1) Developed Torque, T = %.1f N-m A \"%(T);\n",
      "print \" b.2) Shaft torque, Ts = %.2f N-m \"%(Ts);\n",
      "print \"  c)  Efficiency in Percentage, eta = %.2f percent  \"%(eta);\n",
      "\n",
      " \n"
     ],
     "language": "python",
     "metadata": {},
     "outputs": [
      {
       "output_type": "stream",
       "stream": "stdout",
       "text": [
        "EXAMPLE : 4.28 : SOLUTION :-\n",
        "  a)  New Rotation speed of the Motor , N2 = 815 RPM \n",
        " b.1) Developed Torque, T = 90.8 N-m A \n",
        " b.2) Shaft torque, Ts = 81.80 N-m \n",
        "  c)  Efficiency in Percentage, eta = 69.80 percent  \n"
       ]
      }
     ],
     "prompt_number": 29
    },
    {
     "cell_type": "heading",
     "level": 2,
     "metadata": {},
     "source": [
      "Example 4.29  Page No : 187"
     ]
    },
    {
     "cell_type": "code",
     "collapsed": false,
     "input": [
      "import math \n",
      "\n",
      "# GIVEN DATA\n",
      "\n",
      "V = 220;                    # Shunt Motor operating Line Volatge in Volts\n",
      "Ra = 0.2;                   # Armature resistance in Ohms\n",
      "Iam = 72;                   # Motor Armature current in Amphere\n",
      "I = 12;                     # Line Current in Amphere\n",
      "Ifm = 1;                    # Motor field Current in Amphere\n",
      "Ifg = 1.5;                  # Generator field Current in Amphere\n",
      "\n",
      "\n",
      "# CALCULATIONS\n",
      "\n",
      "Iag = Iam - I;                           # Geneartor Armature current in Amphere\n",
      "Pfm = V * Ifm;                           # Loss in Motor Field winding in Watts\n",
      "Pfg = V * Ifg;                           # Loss in Geneartor Field winding in Watts\n",
      "loss_ma = Iam ** 2 * Ra;                  # Loss in Motor Armature circuit in Watts\n",
      "loss_ga = Iag ** 2 * Ra;                  # Loss in Generator Armature circuit in Watts\n",
      "Em = V - Iam * Ra;                       # Motor EMF in Volts\n",
      "Eg = V + Iag * Ra;                       # Generator EMF in Volts\n",
      "T_loss = (V*I) - (Ra*Iam**2 + Ra*Iag**2);  # Total Iron and Rotational Loss in Watts\n",
      "Pim = (V*Iam)+(V*Ifm);                   # Motor input in Watts\n",
      "Wc = 0.5 * T_loss;                       # Total Iron and Rotational Loss in each Machine in Watts\n",
      "Wm = Wc+(Ra*Iam**2)+V*Ifm;                # Motor losses in Watts\n",
      "Pom = Pim - Wm;                          # Motor output in Watts\n",
      "eta_m = (1-(Wm/Pom))*100;                # Motor Efficiency in Percentage\n",
      "Pog = V*Iag;                             # Generator output in Watts\n",
      "Wg = Wc+(Ra*Iag**2)+V*Ifg;                # Generator losses in Watts\n",
      "Pin = Pog + Wg;                          # Generator input power in Watts\n",
      "eta_g = (1-(Wg/Pin))*100;                # Generator Efficiency in Percentage\n",
      "\n",
      "\n",
      "# DISPLAY RESULTS\n",
      "\n",
      "print (\"EXAMPLE : 4.29 : SOLUTION :-\") ;\n",
      "print \" a) Motor Efficiency , eta = %.2f Percentage  \"%(eta_m);\n",
      "print \" b) Generator Efficiency , eta = %.2f Percantage  \"%(eta_g);\n",
      "print \"    [ TEXT BOOK SOLUTION IS PRINTED WRONGLY  I verified by manual calculation ]\" ;\n",
      "print \"      WRONGLY PRINTED ANSWERS ARE :- a) Total Iron and Rotational Loss = 720 W instead of %.1f W  \"%(T_loss);\n",
      "print \"                                     b) Pim = 15912 W instead of %.f W  \"%(Pim);\n",
      "print \"                                     c) Wm = 1371.4 Winstead of %.1f W  \"%(Wm);\n",
      "print \"                                     d) Pom = 14540.6 W instead of %.1f W  \"%(Pom);\n",
      "print \"                                     e) eta_m = 90.54 Percentage  instead of %.2f Percentage  \"%(eta_m);\n",
      "print \"                                     f) eta_g = 93.22 Percentage  instead of %.2f Percentage  \"%(eta_g);\n",
      "print \" From Calculation of the Total Iron and Rotational Loss in each Machine Wc), rest all the Calculated values in the TEXT BOOK is WRONG because of the Total Iron and Rotational Loss in each Machine Wc) value is WRONGLY calculated and the same used for the further Calculation part \"\n"
     ],
     "language": "python",
     "metadata": {},
     "outputs": [
      {
       "output_type": "stream",
       "stream": "stdout",
       "text": [
        "EXAMPLE : 4.29 : SOLUTION :-\n",
        " a) Motor Efficiency , eta = 88.17 Percentage  \n",
        " b) Generator Efficiency , eta = 89.85 Percantage  \n",
        "    [ TEXT BOOK SOLUTION IS PRINTED WRONGLY  I verified by manual calculation ]\n",
        "      WRONGLY PRINTED ANSWERS ARE :- a) Total Iron and Rotational Loss = 720 W instead of 883.2 W  \n",
        "                                     b) Pim = 15912 W instead of 16060 W  \n",
        "                                     c) Wm = 1371.4 Winstead of 1698.4 W  \n",
        "                                     d) Pom = 14540.6 W instead of 14361.6 W  \n",
        "                                     e) eta_m = 90.54 Percentage  instead of 88.17 Percentage  \n",
        "                                     f) eta_g = 93.22 Percentage  instead of 89.85 Percentage  \n",
        " From Calculation of the Total Iron and Rotational Loss in each Machine Wc), rest all the Calculated values in the TEXT BOOK is WRONG because of the Total Iron and Rotational Loss in each Machine Wc) value is WRONGLY calculated and the same used for the further Calculation part \n"
       ]
      }
     ],
     "prompt_number": 30
    },
    {
     "cell_type": "heading",
     "level": 2,
     "metadata": {},
     "source": [
      "Example 4.30  Page No : 191"
     ]
    },
    {
     "cell_type": "code",
     "collapsed": false,
     "input": [
      "import math \n",
      "\n",
      "# GIVEN DATA\n",
      "\n",
      "Vg = 110;                   # Generator operating Volatge in Volts\n",
      "Vm = 102;                   # Motor operating Volatge in Volts\n",
      "Vs = 274;                   # Supply Volatge in Volts\n",
      "Ra = 1.0;                   # Armature resistance in Ohms for both the Machines\n",
      "Rf = 0.82;                  # Field resistance in Ohms for both the Machines\n",
      "N = 1440;                   # Speed of the Set in RPM\n",
      "Ig = 17.5;                  # Generator current in Amphere\n",
      "Im = 9.5;                   # Motor current in Amphere\n",
      "\n",
      "\n",
      "# CALCULATIONS\n",
      "\n",
      "Pi = Vs * Im;                                   # Input power in Watts\n",
      "Pg = Vg * Ig;                                   # Output power in Watts\n",
      "Pim = Vm * Im;                                  # Power Input to the Motor in Watts\n",
      "Pl = Pi - Pg;                                   # Losses in the entire set in Watts\n",
      "Pcu = Im**2*(Ra+2*Rf) + Ig**2*Ra;                 # Total Copper loss for both the Machines in Watts\n",
      "P_l = Pi - Pg - Pcu;                            # Frictional, Windage and core losses of the both Machines in Watts\n",
      "Po = P_l/2;                                     # Frictional, Windage and core loss of each Machines in Watts\n",
      "eta_m = (1 - ((Po + Im**2*(Ra+Rf))/Pim))*100;     # Motor Effiicency in Percentage\n",
      "Pig = Pg + Po + Ig**2*Ra + Im**2*Rf;              # Generator input in Watts\n",
      "eta_g = (Pg / Pig)*100;                         # Generator Effiicency in Percentage\n",
      "T = (Vg*Ig *60)/(2*math.pi*N);                      # Torque in Newton-Meter\n",
      "\n",
      "\n",
      "# DISPLAY RESULTS\n",
      "\n",
      "print (\"EXAMPLE : 4.30 : SOLUTION :-\") ;\n",
      "print \" a) Motor Efficiency , eta_m = %.2f percentage  \"%(eta_m);\n",
      "print \" b) Generator Efficiency , eta_g = %.2f Percentage  \"%(eta_g);\n",
      "print \" c) Torque , T = %.2f N-m  \"%(T);\n",
      "print \"    [ TEXT BOOK SOLUTION IS PRINTED WRONGLY  I verified by manual calculation ]\" ;\n",
      "print \"      WRONGLY PRINTED ANSWERS ARE :- a) Generator input = 2307.5 W instead of %.f W  \"%(Pig);\n",
      "print \"                                     b) eta_g = 83.42 Percenatge  instead of %.2f Percentage  \"%(eta_g);\n",
      "print \" From Calculation of the Generator input, rest all the Calculated values in the TEXT BOOK is WRONG because of the Generator input value is WRONGLY calculated and the same used for the further Calculation part \"\n",
      "\n",
      "\n"
     ],
     "language": "python",
     "metadata": {},
     "outputs": [
      {
       "output_type": "stream",
       "stream": "stdout",
       "text": [
        "EXAMPLE : 4.30 : SOLUTION :-\n",
        " a) Motor Efficiency , eta_m = 76.16 percentage  \n",
        " b) Generator Efficiency , eta_g = 81.16 Percentage  \n",
        " c) Torque , T = 12.77 N-m  \n",
        "    [ TEXT BOOK SOLUTION IS PRINTED WRONGLY  I verified by manual calculation ]\n",
        "      WRONGLY PRINTED ANSWERS ARE :- a) Generator input = 2307.5 W instead of 2372 W  \n",
        "                                     b) eta_g = 83.42 Percenatge  instead of 81.16 Percentage  \n",
        " From Calculation of the Generator input, rest all the Calculated values in the TEXT BOOK is WRONG because of the Generator input value is WRONGLY calculated and the same used for the further Calculation part \n"
       ]
      }
     ],
     "prompt_number": 31
    }
   ],
   "metadata": {}
  }
 ]
}