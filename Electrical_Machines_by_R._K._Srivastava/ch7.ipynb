{
 "metadata": {
  "name": "",
  "signature": "sha256:dbe4ae4abbcc34db307e5801136e4ecd6dbefd3be4e18a630c646e9dd4af11df"
 },
 "nbformat": 3,
 "nbformat_minor": 0,
 "worksheets": [
  {
   "cells": [
    {
     "cell_type": "heading",
     "level": 1,
     "metadata": {},
     "source": [
      "Chapter 7 : Special Motors and Introduction to Generalized Machines Theory"
     ]
    },
    {
     "cell_type": "heading",
     "level": 2,
     "metadata": {},
     "source": [
      "Example 7.1  Page No : 395"
     ]
    },
    {
     "cell_type": "code",
     "collapsed": false,
     "input": [
      "import math \n",
      "\n",
      "# GIVEN DATA\n",
      "\n",
      "D = 35*10**-2;                               # Outer diameter of the conducting disk in Meter\n",
      "d = 10*10**-2;                               # Inner diameter of the conducting disk in Meter\n",
      "B = 1.0;                                    # Axial magnetic field in Telsa\n",
      "N = 900;                                    # Rotating shaft running in RPM\n",
      "\n",
      "\n",
      "# ,S\n",
      "\n",
      "Wr = (2*math.pi*N)/60;                           # Rotational angular speed in radians/s\n",
      "Er = ((D**2-d**2)*B*Wr)/8;                     # EMF induced in Volts\n",
      "\n",
      "\n",
      "# DISPLAY RESULTS\n",
      "\n",
      "print (\"EXAMPLE : 7.1: SOLUTION :-\");\n",
      "print \" a) Induced EMF in the outer and inner rims of the disk, Er = %.4f V \"%(Er)\n"
     ],
     "language": "python",
     "metadata": {},
     "outputs": [
      {
       "output_type": "stream",
       "stream": "stdout",
       "text": [
        "EXAMPLE : 7.1: SOLUTION :-\n",
        " a) Induced EMF in the outer and inner rims of the disk, Er = 1.3254 V \n"
       ]
      }
     ],
     "prompt_number": 1
    },
    {
     "cell_type": "heading",
     "level": 2,
     "metadata": {},
     "source": [
      "Example 7.2  Page No : 398"
     ]
    },
    {
     "cell_type": "code",
     "collapsed": false,
     "input": [
      "import math \n",
      "\n",
      "# GIVEN DATA\n",
      "\n",
      "D = 0.120;                  # Outer Radius of the Printed Circuit Motor in meter\n",
      "d = 0.060;                  # Inner Radius of the Printed Circuit Motor in meter\n",
      "B = 0.7;                # Axial Flux Density in Telsa\n",
      "V = 12;                     # Volage Supplied to the Motor in Volts\n",
      "R = 2700;                   # Motor Speed in RPM\n",
      "n = 0.65;                   # Efficiency of Motor\n",
      "p = 94;                     # Output Power of Motor in Watts\n",
      "I = 12;                     # Motor current in Ampheres\n",
      "\n",
      "\n",
      "# ,S\n",
      "\n",
      "w = ((2*(math.pi))*R)/60;        # The Angular Velocity in Radians/second\n",
      "T = p/w;                     # Torque in Newton-Meter\n",
      "N = (8*T)/((D**2-d**2)*B*I)    # Total Number of Conductors\n",
      "\n",
      "\n",
      "# DISPLAY RESULTS\n",
      "\n",
      "print (\"EXAMPLE : 7.2 : SOLUTION :-\") ;\n",
      "print \" a) Torque, T = %.2f N-m  \"%(T);\n",
      "print \" b) Total Number of Conductors, N = %.2f nearly 30 \"%(N);\n"
     ],
     "language": "python",
     "metadata": {},
     "outputs": [
      {
       "output_type": "stream",
       "stream": "stdout",
       "text": [
        "EXAMPLE : 7.2 : SOLUTION :-\n",
        " a) Torque, T = 0.33 N-m  \n",
        " b) Total Number of Conductors, N = 29.32 nearly 30 \n"
       ]
      }
     ],
     "prompt_number": 2
    },
    {
     "cell_type": "heading",
     "level": 2,
     "metadata": {},
     "source": [
      "Example 7.3  Page No : 399"
     ]
    },
    {
     "cell_type": "code",
     "collapsed": false,
     "input": [
      "import math \n",
      "\n",
      "\n",
      "# GIVEN DATA\n",
      "\n",
      "m = 2;                                          # Total number of phase in servo Motor\n",
      "f = 50;                                         # Frequency in Hertz\n",
      "V = 220;                                        # Operating Voltage of the servo Motor in Volts\n",
      "R1 = 250;                                       # Circuit Parameter in Ohms\n",
      "R2 = 750;                                       # Circuit Parameter in Ohms\n",
      "X1 = 50;                                        # Circuit Parameter in Ohms\n",
      "X2 = 50;                                        # Circuit Parameter in Ohms\n",
      "Xm = 1000;                                      # Circuit Parameter in Ohms\n",
      "s = 0.6;                                        # Slip\n",
      "Va = 220;                                       # Unbalanced Voltage in Volts\n",
      "Vb = 150 * (1j * (-60) * math.pi/180)**2;           # Unbalanced Voltage in Volts\n",
      "\n",
      "\n",
      "# ,S\n",
      "\n",
      "Va1 = (Va + 1j*Vb)/2;                                      # Positive sequence voltage in Volts\n",
      "Va2 = (Va - 1j*Vb)/2;                                      # Negative sequence voltage in Volts\n",
      "Z11 = (R1+1j*X1);\n",
      "Z12 =  (((1j*Xm)*(R2/s+1j*X2))/(1j*Xm+R2/s+1j*X2));\n",
      "Z1 = Z11 + Z12 ;                                           # Positive sequence impedance in Ohms\n",
      "Z2 = (R1+1j*X1) + (((1j*Xm)*(R2/(2-s)+1j*X2))/(1j*Xm+R2/(2-s)+1j*X2));    # Negative sequence impedance in Ohms\n",
      "Ia1 = Va1/Z1;                                              # Positive sequence current in Amphere\n",
      "I12 = (Ia1*Z12)/(R2/s);                                    # Positive sequence current in Amphere\n",
      "Ia2 = Va2/Z2;                                              # Negative sequence current in Amphere\n",
      "I22 = (Ia2*Z2)/(R2/(2-s));                                 # Negative sequence current in Amphere\n",
      "T1 = 2*(abs(I12)**2)*R2/s;                                  # Positive sequence torque in Newton-meter\n",
      "T2 = 2*(abs(I22)**2)*R2/(2-s);                              # Negative sequence torque in Newton-meter\n",
      "T = T1 - T2;                                               # resultant torque in Newton-meter\n",
      "Ia = Ia1 + Ia2;                                            # Line current in Amphere\n",
      "Ib = (-1j*Ia1) + (1j*Ia2);                                 # Line current in Amphere\n",
      "\n",
      "\n",
      "# DISPLAY RESULTS\n",
      "\n",
      "print (\"EXAMPLE : 7.3: SOLUTION :-\");\n",
      "print \" a) resultant torque, T = %.2f N-m \"%(T)\n",
      "print \" b) Phase currents line currents), Ia = %.2f < %.2f A                                      Ib = %.2f < %.2f \"%(abs(Ia), math.atan2(Ia.imag,Ia.real), abs(Ib), math.degrees(math.atan2(Ib.imag,Ib.real)))\n",
      "print \" IN THE ABOVE PROBLEM ALL THE VALUES PRINTED IN THE TEXT BOOK ARE NOT ACCURATE%( SO VALUE OF THE TORQUE AND LINE CURRENTS ARE DIFFERING, WHEN WE COMPARED TO THE TEXT BOOK ANSWERS FOR THE SAME. \"\n",
      "print \" IN EVERY CALCULATED PARAMETER IN THE TEXT BOOK SLIGHT VARIATION IS THERE AS WE COMPARED TO MANUAL , ITS FROM POSITIVE SEQUENCE VOLTAGE Va1 \"\n"
     ],
     "language": "python",
     "metadata": {},
     "outputs": [
      {
       "output_type": "stream",
       "stream": "stdout",
       "text": [
        "EXAMPLE : 7.3: SOLUTION :-\n",
        " a) resultant torque, T = -51.72 N-m \n",
        " b) Phase currents line currents), Ia = 0.24 < -0.42 A                                      Ib = 0.24 < 137.30 \n",
        " IN THE ABOVE PROBLEM ALL THE VALUES PRINTED IN THE TEXT BOOK ARE NOT ACCURATE%( SO VALUE OF THE TORQUE AND LINE CURRENTS ARE DIFFERING, WHEN WE COMPARED TO THE TEXT BOOK ANSWERS FOR THE SAME. \n",
        " IN EVERY CALCULATED PARAMETER IN THE TEXT BOOK SLIGHT VARIATION IS THERE AS WE COMPARED TO MANUAL , ITS FROM POSITIVE SEQUENCE VOLTAGE Va1 \n"
       ]
      }
     ],
     "prompt_number": 3
    },
    {
     "cell_type": "heading",
     "level": 2,
     "metadata": {},
     "source": [
      "Example 7.4  Page No : 404"
     ]
    },
    {
     "cell_type": "code",
     "collapsed": false,
     "input": [
      "import math \n",
      "\n",
      "# GIVEN DATA\n",
      "\n",
      "m = 2;                                          # Total number of phase in AC drag-cup servo Motor\n",
      "p = 2;                                          # Number of poles\n",
      "Va = 220;                                       # Operating Voltage of the servo Motor in Volts\n",
      "R1 = 350;                                       # Circuit Parameter in Ohms\n",
      "R2 = 250;                                       # Circuit Parameter in Ohms\n",
      "X1 = 60;                                        # Circuit Parameter in Ohms\n",
      "X2 = 50;                                        # Circuit Parameter in Ohms\n",
      "Xm = 900;                                       # Circuit Parameter in Ohms\n",
      "s = 0.3;                                        # Slip\n",
      "p = 0.8;                                        # Ratio of the control winding and main winding voltage\n",
      "\n",
      "\n",
      "# ,S\n",
      "\n",
      "Va1 = (Va*(1+p))/2;                                        # Positive sequence voltage in Volts\n",
      "Va2 = (Va*(1-p))/2;                                        # Negative sequence voltage in Volts\n",
      "Z11 = (R1+1j*X1);\n",
      "Z12 =  (((1j*Xm)*(R2/s+1j*X2))/(1j*Xm+R2/s+1j*X2));\n",
      "Z1 = Z11 + Z12 ;                                           # Positive sequence impedance in Ohms\n",
      "Z2 = (R1+1j*X1) + (((1j*Xm)*(R2/(2-s)+1j*X2))/(1j*Xm+R2/(2-s)+1j*X2));    # Negative sequence impedance in Ohms\n",
      "Ia1 = Va1/Z1;                                              # Positive sequence current in Amphere\n",
      "I12 = (Ia1*Z12)/(R2/s);                                    # Positive sequence current in Amphere\n",
      "Ia2 = Va2/Z2;                                              # Negative sequence current in Amphere\n",
      "I22 = (Ia2*Z2)/(R2/(2-s));                                 # Negative sequence current in Amphere\n",
      "T1 = 2*(abs(I12)**2)*R2/s;                                  # Positive sequence torque in Newton-meter\n",
      "T2 = 2*(abs(I22)**2)*R2/(2-s);                              # Negative sequence torque in Newton-meter\n",
      "T = T1 - T2;                                               # resultant torque in Newton-meter\n",
      "\n",
      "\n",
      "# DISPLAY RESULTS\n",
      "\n",
      "print (\"EXAMPLE : 7.4: SOLUTION :-\");\n",
      "print \" a) resultant torque, T = %.2f N-m \"%(T)\n",
      "print \" IN THE ABOVE PROBLEM ALL THE VALUES PRINTED IN THE TEXT BOOK ARE NOT ACCURATE, SO VALUE OF THE TORQUE AND LINE CURRENTS ARE DIFFERING WHEN WE COMPARED TO THE TEXT BOOK ANSWERS FOR THE SAME. \"\n",
      "print \" IN EVERY CALCULATED PARAMETER IN THE TEXT BOOK SLIGHT VARIATION IS THERE AS WE COMPARED TO MANUAL , ITS FROM POSITIVE SEQUENCE IMPEDANCE Z1 \"\n",
      "\n"
     ],
     "language": "python",
     "metadata": {},
     "outputs": [
      {
       "output_type": "stream",
       "stream": "stdout",
       "text": [
        "EXAMPLE : 7.4: SOLUTION :-\n",
        " a) resultant torque, T = 33.70 N-m \n",
        " IN THE ABOVE PROBLEM ALL THE VALUES PRINTED IN THE TEXT BOOK ARE NOT ACCURATE, SO VALUE OF THE TORQUE AND LINE CURRENTS ARE DIFFERING WHEN WE COMPARED TO THE TEXT BOOK ANSWERS FOR THE SAME. \n",
        " IN EVERY CALCULATED PARAMETER IN THE TEXT BOOK SLIGHT VARIATION IS THERE AS WE COMPARED TO MANUAL , ITS FROM POSITIVE SEQUENCE IMPEDANCE Z1 \n"
       ]
      }
     ],
     "prompt_number": 4
    },
    {
     "cell_type": "heading",
     "level": 2,
     "metadata": {},
     "source": [
      "Example 7.5  Page No : 409"
     ]
    },
    {
     "cell_type": "code",
     "collapsed": false,
     "input": [
      "import math \n",
      "\n",
      "# GIVEN DATA\n",
      "\n",
      "R = 15;                                             # resistance of the fractional horse power AC series motor in Ohms\n",
      "V = 230;                                            # AC supply voltage in Volts\n",
      "f = 50;                                             # Frequency in Hertz\n",
      "I = 1.2;                                            # Motor current in Amphere\n",
      "NDC = 2500;                                         # Rotating speed of the Motor during DC Operation in RPM\n",
      "L = 0.5;                                            # Total inducmath.tance in Henry\n",
      "\n",
      "\n",
      "# CALCUALTIONS\n",
      "\n",
      "X = 2*math.pi*f*L;                                                  # reactance in Ohms\n",
      "NAC = NDC * (math.sqrt(V**2-(I*X)**2)-(I*R)) / (V-(I*R));              # Rotating speed of the Motor during AC Operation in RPM\n",
      "pf = math.sqrt(1-((I*X)/V)**2);                                       # Power factor lagging\n",
      "\n",
      "\n",
      "# DISPLAY RESULTS\n",
      "\n",
      "print (\"EXAMPLE : 7.5: SOLUTION :-\");\n",
      "print \" When the Motor operting at AC 230V, 50 Hz  a) NAC = %.f RPM \"%(NAC)\n",
      "print \" b) Power factor = %.4f lagging \"%(pf)\n"
     ],
     "language": "python",
     "metadata": {},
     "outputs": [
      {
       "output_type": "stream",
       "stream": "stdout",
       "text": [
        "EXAMPLE : 7.5: SOLUTION :-\n",
        " When the Motor operting at AC 230V, 50 Hz  a) NAC = 1342 RPM \n",
        " b) Power factor = 0.5730 lagging \n"
       ]
      }
     ],
     "prompt_number": 5
    },
    {
     "cell_type": "heading",
     "level": 2,
     "metadata": {},
     "source": [
      "Example 7.6  Page No : 413"
     ]
    },
    {
     "cell_type": "code",
     "collapsed": false,
     "input": [
      "import math \n",
      "from numpy import roots\n",
      "from numpy import poly\n",
      "\n",
      "# GIVEN DATA\n",
      "\n",
      "R = 1.4;                                            # Total resistance of the AC series motor in Ohms\n",
      "V = 115.;                                            # supply voltage in Volts\n",
      "f = 50.;                                             # Frequency in Hertz\n",
      "N = 5000.;                                           # Rotating speed in RPM\n",
      "X = 12.;                                             # Total reactance in Ohms\n",
      "P = 250.;                                            # Electrical power output in Watts\n",
      "loss = 18.;                                          # Rotational losses in Watts\n",
      "\n",
      "\n",
      "# ,S\n",
      "\n",
      "Pd = P + loss;                                          # Mechanical power developed in Watts\n",
      "# We know that Er = Pd/I and from phasor diagram in figure 7.11 page no. 501 V**2 = (Er+I*R)**2+(I*X)**2, 115**2 = (268/I-1.4*I)**2+(12*I)**2, 13225*I**2 = 71824+2.036*I**4-750.4*I**2+144*I**2, solving this we get 2.036*I**4-13831.4*I**2+71824 = 0, I**4-6793.42*I**2+3577 = 0 this gives I = 2.28A or 82.38A (The above , part is wrong )\n",
      "i = poly([3577,0,-6793.42,0,1]);                   # Expression for the Current in Quadratic form\n",
      "a = roots (i);                                         # 4-Value of the current in Amphere  \n",
      "print a;\n",
      "print i;\n",
      "I = a[4];                                                     # Curent in Amphere neglecting higher value and negative value\n",
      "\n",
      "pf_a = math.sqrt(1-((I*X)/V)**2);                                     # Power factor lagging\n",
      "Er_a = math.sqrt(V**2-(I*X)**2)-(I*R);                                 # Rotational Voltage in Volts\n",
      "T_a = (Er_a*I)/(2*math.pi*N/60);                                    # Developed torque in Newton-meter\n",
      "Ih = I/2;                                                       # Current halved in Amphere\n",
      "pf_b = math.sqrt(1-((Ih*X)/V)**2);                                    # Power factor lagging when load current halved\n",
      "Er_b = math.sqrt(V**2-(Ih*X)**2)-(Ih*R);                               # Rotational Voltage in Volts when load current halved\n",
      "N2 = (N*Er_b*I)/(Er_a*Ih);                                      # New speed in RPM when load current halved\n",
      "T_b = (Er_b*Ih)/(2*math.pi*N2/60);                                  # Developed torque in Newton-meter when load current halved\n",
      "eta = 100*(Er_b*Ih)/(V*Ih*pf_b);                                # Efficiency when load current halved\n",
      "\n",
      "\n",
      "# DISPLAY RESULTS\n",
      "\n",
      "print (\"EXAMPLE : 7.6: SOLUTION :-\");\n",
      "print \" At rated condition, \\n\\n (a.1) Current, I = %.2f A \"%(I)\n",
      "print \" a.2) Power factor = %.3f lagging \"%(pf_a)\n",
      "print \" a.3) Developed torque = %.2f N-m \"%(T_a)\n",
      "print \" When load current halved (reduced to half), \\n\\n (b.1) Speed, N2 = %.f RPM \"%(N2)\n",
      "print \" b.2) Power factor = %.4f lagging \"%(pf_b)\n",
      "print \" b.3) Developed torque = %.2f N-m \"%(T_b)\n",
      "print \" b.4) Efficiency = %.1f percenatge \"%(eta)\n",
      "print \" From , of the Current(I), rest all the Calculated values in the TEXT BOOK is WRONG because of the Current equation and its value both are WRONGLY calculated and the same used for the further , part, so all the values are in the TEXT BOOK IS WRONG \";\n"
     ],
     "language": "python",
     "metadata": {},
     "outputs": [
      {
       "output_type": "stream",
       "stream": "stdout",
       "text": [
        "[ -6.79342000e+03   3.57700000e+03   1.00000000e+00   0.00000000e+00\n",
        "   0.00000000e+00]\n",
        "[  1.00000000e+00   3.21542000e+03  -2.43032798e+07   2.43000633e+07\n",
        "   0.00000000e+00   0.00000000e+00]\n",
        "EXAMPLE : 7.6: SOLUTION :-\n",
        " At rated condition, \n",
        "\n",
        " (a.1) Current, I = 0.00 A \n",
        " a.2) Power factor = 1.000 lagging \n",
        " a.3) Developed torque = 0.00 N-m \n",
        " When load current halved (reduced to half), \n",
        "\n",
        " (b.1) Speed, N2 = nan RPM \n",
        " b.2) Power factor = 1.0000 lagging \n",
        " b.3) Developed torque = nan N-m \n",
        " b.4) Efficiency = nan percenatge \n",
        " From , of the Current(I), rest all the Calculated values in the TEXT BOOK is WRONG because of the Current equation and its value both are WRONGLY calculated and the same used for the further , part, so all the values are in the TEXT BOOK IS WRONG \n"
       ]
      }
     ],
     "prompt_number": 8
    },
    {
     "cell_type": "heading",
     "level": 2,
     "metadata": {},
     "source": [
      "Example 7.7  Page No : 418"
     ]
    },
    {
     "cell_type": "code",
     "collapsed": false,
     "input": [
      "import math \n",
      "\n",
      "\n",
      "# GIVEN DATA\n",
      "\n",
      "V = 220;                                            # supply voltage in Volts\n",
      "f = 50;                                             # Frequency in Hertz\n",
      "p = 4;                                              # Number of poles\n",
      "Xm = 50;                                            # Mutual reactance in Ohms\n",
      "Rs = 0.4;                                           # resistance of stator windings in Ohms\n",
      "Xs = 2.5;                                           # Leakage reactance of stator windings in Ohms\n",
      "Ra = 2.2;                                           # resistance of Armature windings in Ohms\n",
      "Xa = 3.1;                                           # Leakage reactance of armature windings in Ohms\n",
      "loss = 30;                                          # Rotational losses in Watts\n",
      "N = 2000;                                           # Motor running speed in RPM\n",
      "\n",
      "\n",
      "# ,S\n",
      "\n",
      "Ns = (120*f)/p;                                                        # Synchronous speed in RPM\n",
      "s = N/Ns;                                                              # Speed ratio\n",
      "I1 = V/(2*Rs + 2*1j*Xs + 2*1j*Xm + (1j*Xm**2)*((s-1j)/(Ra+1j*Xa+1j*Xm)));# line current in Amphere\n",
      "pf = math.degrees(math.cos(math.radians(math.degrees(math.atan2(I1.imag,I1.real)))));                                   # Power factor lagging\n",
      "I2 = (s-1j)*(1j*Xm*I1)/(Ra+1j*Xa+1j*Xm);                                  # line current in Amphere\n",
      "P1 = V*abs(I1)*math.degrees(math.cos(math.radians(math.degrees(math.atan2(I1.imag,I1.real)))));                         # Input power in Watts\n",
      "Pm = P1 - 2*(abs(I1)**2)*Rs - (abs(I2)**2)*Ra;                           # Mechanical power developed in Watts\n",
      "Po = Pm - loss;                                                        # output power in Watts\n",
      "eta = 100*(Po/P1);                                                     # Efficiency \n",
      "\n",
      "\n",
      "# DISPLAY RESULTS\n",
      "\n",
      "print (\"EXAMPLE : 7.7: SOLUTION :-\");\n",
      "print \" a) Line currents, I1 = %.2f < %.2f A and I2 = %.2f < %.2f A \"%(abs(I1),math.degrees(math.atan2(I1.imag,I1.real)),abs(I2),math.degrees(math.atan2(I2.imag,I2.real)))\n",
      "print \" b) Power factor = %.2f lagging \"%(pf)\n",
      "print \" c) Efficiency = %.2f percentage \"%(eta)\n",
      "print \"    [ TEXT BOOK SOLUTION IS PRINTED WRONGLY  I verified by manual , ]\" ;\n",
      "print \"      WRONGLY PRINTED ANSWERS ARE :- a) I1 = 3.37 < -42.78 A instead of %.2f < j%.2f) A  \"%(abs(I1),math.degrees(math.atan2(I1.imag,I1.real)));\n",
      "print \"                                     b) I2 = 5.26 < -77.34 A instead of %.2f < j%.2f) A  \"%(abs(I2),math.degrees(math.atan2(I2.imag,I2.real)));\n",
      "print \"                                     b) eta = 81.53 percent instead of %.2f percent   \"%(eta)\n",
      "print \" From , of the I1, rest all the Calculated values in the TEXT BOOK is WRONG because of the I1 value is WRONGLY calculated and the same used for the further , part \"\n"
     ],
     "language": "python",
     "metadata": {},
     "outputs": [
      {
       "output_type": "stream",
       "stream": "stdout",
       "text": [
        "EXAMPLE : 7.7: SOLUTION :-\n",
        " a) Line currents, I1 = 2.82 < -50.31 A and I2 = 3.76 < -92.94 A \n",
        " b) Power factor = 36.59 lagging \n",
        " c) Efficiency = 99.70 percentage \n",
        "    [ TEXT BOOK SOLUTION IS PRINTED WRONGLY  I verified by manual , ]\n",
        "      WRONGLY PRINTED ANSWERS ARE :- a) I1 = 3.37 < -42.78 A instead of 2.82 < j-50.31) A  \n",
        "                                     b) I2 = 5.26 < -77.34 A instead of 3.76 < j-92.94) A  \n",
        "                                     b) eta = 81.53 percent instead of 99.70 percent   \n",
        " From , of the I1, rest all the Calculated values in the TEXT BOOK is WRONG because of the I1 value is WRONGLY calculated and the same used for the further , part \n"
       ]
      }
     ],
     "prompt_number": 7
    },
    {
     "cell_type": "heading",
     "level": 2,
     "metadata": {},
     "source": [
      "Example 7.8  Page No : 421"
     ]
    },
    {
     "cell_type": "code",
     "collapsed": false,
     "input": [
      "import math \n",
      "\n",
      "# GIVEN DATA\n",
      "\n",
      "V = 220.;                                            # supply voltage in Volts\n",
      "f = 50.;                                             # Frequency in Hertz\n",
      "p = 4.;                                              # Number of poles\n",
      "Xm = 60.;                                            # Mutual reactance in Ohms\n",
      "Rs = 1.0;                                           # resistance of stator windings in Ohms\n",
      "Xs = 6.0;                                           # Leakage reactance of stator windings in Ohms\n",
      "Ra = 2.5;                                           # resistance of Armature windings in Ohms\n",
      "Xa = 6.0;                                           # Leakage reactance of armature windings in Ohms\n",
      "P_hp = 1.;                                           # Output power in HP\n",
      "N = 1400.;                                           # Motor running speed in RPM\n",
      "alpha = 15.;                                         # Brush print lacement from the low-impedance position in degree \n",
      "\n",
      "# CALCULATIONS\n",
      "\n",
      "Ns = (120*f)/p;                                                        # Synchronous speed in RPM\n",
      "s = N/Ns;                                                              # Speed ratio\n",
      "I = V / (Rs + 1j*(Xs+Xm) + (1j*Xm**2*((math.cos(math.radians(alpha)))))*(s*(math.sin(math.radians(alpha)))-(1j*((math.cos(math.radians(alpha))))))/(Ra+1j*(Xa+Xm)));                                           # Curent in Amphere\n",
      "# I = V / (Rs + %i*(Xs+Xm) + (%i*Xm^2*cosd(alpha))*(s*sind(alpha)-(%i*cosd(alpha)))/(Ra+%i*(Xa+Xm)));                                               // Curent in Amphere\n",
      "pf = math.degrees(math.cos(math.radians(math.degrees(math.atan2(I.imag,I.real)))));                                     # Power factor lagging\n",
      "\n",
      "\n",
      "# DISPLAY RESULTS\n",
      "\n",
      "print (\"EXAMPLE : 7.8: SOLUTION :-\");\n",
      "print \" a) Currents, I = %.2f < %.2f A \"%(abs(I), math.degrees(math.atan(I.imag))%(I.real))\n",
      "print \" b) Power factor = %.4f lagging \"%(pf)\n"
     ],
     "language": "python",
     "metadata": {},
     "outputs": [
      {
       "output_type": "stream",
       "stream": "stdout",
       "text": [
        "EXAMPLE : 7.8: SOLUTION :-\n",
        " a) Currents, I = 9.94 < 2.37 A \n",
        " b) Power factor = 40.4770 lagging \n"
       ]
      }
     ],
     "prompt_number": 15
    },
    {
     "cell_type": "heading",
     "level": 2,
     "metadata": {},
     "source": [
      "Example 7.9  Page No : 426"
     ]
    },
    {
     "cell_type": "code",
     "collapsed": false,
     "input": [
      "import math \n",
      "\n",
      "\n",
      "# GIVEN DATA\n",
      "\n",
      "E2 = 100.;                                   # Per phase smath.degrees(math.atanstill EMF in Volts\n",
      "Z2s = 0.025 + 1j*0.08;                      # Rotor circuit impedance at smath.degrees(math.atanstill\n",
      "E = 50.;                                     # Injected EMF in Volts\n",
      "\n",
      "\n",
      "# ,S\n",
      "\n",
      "I2 = 0;                                     # Assuming Current is zero\n",
      "s1 = (E/E2)+(I2*Z2s)/E2;                    # Slip when injected EMF is opposite to the E2 \n",
      "s2 = (-E/E2)+(I2*Z2s)/E2;                   # Slip when injected EMF is phase with E2 \n",
      "\n",
      "\n",
      "# DISPLAY RESULTS\n",
      "\n",
      "print (\"EXAMPLE : 7.9: SOLUTION :-\");\n",
      "print \" a) Slip when injected EMF is opposite to the E2, s = %.1f \"%(s1.real)\n",
      "print \" b) Slip when injected EMF is phase with E2, s = %.1f \"%(s2.real)\n"
     ],
     "language": "python",
     "metadata": {},
     "outputs": [
      {
       "output_type": "stream",
       "stream": "stdout",
       "text": [
        "EXAMPLE : 7.9: SOLUTION :-\n",
        " a) Slip when injected EMF is opposite to the E2, s = 0.5 \n",
        " b) Slip when injected EMF is phase with E2, s = -0.5 \n"
       ]
      }
     ],
     "prompt_number": 17
    },
    {
     "cell_type": "heading",
     "level": 2,
     "metadata": {},
     "source": [
      "Example 7.10  Page No : 427"
     ]
    },
    {
     "cell_type": "code",
     "collapsed": false,
     "input": [
      "import math \n",
      "\n",
      "# GIVEN DATA\n",
      "\n",
      "L = 1.0;                                            # Length in Meter\n",
      "S = 60;                                             # Number of slots\n",
      "f = 50;                                             # Frequency in Hertz\n",
      "v = 440;                                            # Operating Volage of the Motor in Volts\n",
      "V = 11.5;                                           # Running speed of the motor in Meter/second\n",
      "m = 3;                                              # Number of phases\n",
      "p = 8;                                              # Total number of Poles\n",
      "\n",
      "\n",
      "# ,S\n",
      "\n",
      "Vs = (2*L*f)/p;                                         # Synchronous linear speed in Meter/second\n",
      "s = (Vs-V)/Vs;                                          # Linear slip\n",
      "Vph = v/math.sqrt(3);                                        # Phase Voltage in Volts\n",
      "Z1 = 6.0 + 1j*5;                                        # Impedance in Ohms refer figure and page no. 526\n",
      "Z2 = ((100*1j)*(5*1j+8.2/s))/(100*1j+5*1j+8.2/s);       # Impedance in Ohms refer figure and page no. 526\n",
      "Z = Z1 + Z2;                                            # Total Impedance in Ohms\n",
      "I = Vph/Z;                                              # Per phase Current when Machine is running at 11.5 m/s in Amphere\n",
      "pf = math.degrees(math.cos(math.radians(math.degrees(math.atan2(I.imag,I.real)))));                      # Power factor lagging\n",
      "\n",
      "\n",
      "# DISPLAY RESULTS\n",
      "\n",
      "print (\"EXAMPLE : 7.10 : SOLUTION :-\") ;\n",
      "print \" a) Synchronous linear speed, Vs = %.1f m/s  \"%(Vs);\n",
      "print \" b) Per phase current when Machine is running at 11.5 m/s, I = %.2f < %.2f A \"%(abs(I),math.degrees(math.atan2(I.imag,I.real)))\n"
     ],
     "language": "python",
     "metadata": {},
     "outputs": [
      {
       "output_type": "stream",
       "stream": "stdout",
       "text": [
        "EXAMPLE : 7.10 : SOLUTION :-\n",
        " a) Synchronous linear speed, Vs = 12.5 m/s  \n",
        " b) Per phase current when Machine is running at 11.5 m/s, I = 3.27 < -46.37 A \n"
       ]
      }
     ],
     "prompt_number": 18
    },
    {
     "cell_type": "heading",
     "level": 2,
     "metadata": {},
     "source": [
      "Example 7.11  Page No : 428"
     ]
    },
    {
     "cell_type": "code",
     "collapsed": false,
     "input": [
      "import math \n",
      "\n",
      "# GIVEN DATA\n",
      "\n",
      "s = 9.;                                              # Degree per step of the stepper motor\n",
      "N = 200.;                                            # Rotation Speed of the Stepper motor in RPM\n",
      "\n",
      "\n",
      "# ,S\n",
      "\n",
      "spr = 360/s;                                       # Steps Per Revolution (360 is full revolution)\n",
      "pps = (N*spr)/60;                                       # Input pulse rate in pulses per second\n",
      "\n",
      "\n",
      "# DISPLAY RESULTS\n",
      "\n",
      "print (\"EXAMPLE : 7.11: SOLUTION :-\");\n",
      "print \" a) Input pulse rate is %.2f pulses per second \"%(pps)\n"
     ],
     "language": "python",
     "metadata": {},
     "outputs": [
      {
       "output_type": "stream",
       "stream": "stdout",
       "text": [
        "EXAMPLE : 7.11: SOLUTION :-\n",
        " a) Input pulse rate is 133.33 pulses per second \n"
       ]
      }
     ],
     "prompt_number": 20
    },
    {
     "cell_type": "heading",
     "level": 2,
     "metadata": {},
     "source": [
      "Example 7.13  Page No : 430"
     ]
    },
    {
     "cell_type": "code",
     "collapsed": false,
     "input": [
      "import math \n",
      " \n",
      "\n",
      "# GIVEN DATA\n",
      "\n",
      "L1 = 1.1;                                               # Inducmath.tance in Henry\n",
      "L2 = 1.07;                                              # Inducmath.tance in Henry\n",
      "dtheta = 1;                                             # Rotor rotation in Mechanical degree\n",
      "r = 0.10;                                               # Radius of the rotor in Meter\n",
      "I = 20;                                                 # Coil Current in Amphere\n",
      "\n",
      "\n",
      "# ,S\n",
      "\n",
      "dl = L1-L2;                                             # Change in Inducmath.tance of one of its stator coils in Henry\n",
      "F = (I**2*dl)/(2*dtheta);                                # Force on the math.single rotor pole in Newton\n",
      "T = F*r;                                                # Insmath.tanmath.taneous Torque in Newton-meter\n",
      "\n",
      "\n",
      "# DISPLAY RESULTS\n",
      "\n",
      "print (\"EXAMPLE : 7.13: SOLUTION :-\");\n",
      "print \" a) Insmath.tanmath.taneous Torque, T = %.1f N-m \"%(T)\n",
      "print \"The force is a motoring force math.since inducmath.tance of the coil is rimath.sing\"\n"
     ],
     "language": "python",
     "metadata": {},
     "outputs": [
      {
       "output_type": "stream",
       "stream": "stdout",
       "text": [
        "EXAMPLE : 7.13: SOLUTION :-\n",
        " a) Insmath.tanmath.taneous Torque, T = 0.6 N-m \n",
        "The force is a motoring force math.since inducmath.tance of the coil is rimath.sing\n"
       ]
      }
     ],
     "prompt_number": 21
    },
    {
     "cell_type": "heading",
     "level": 2,
     "metadata": {},
     "source": [
      "Example 7.14  Page No : 435"
     ]
    },
    {
     "cell_type": "code",
     "collapsed": false,
     "input": [
      "import math \n",
      "\n",
      "# GIVEN DATA\n",
      "\n",
      "Va = 220 * ( 1j * 0 * math.pi/180)**2;                                # Three phase in Volts\n",
      "Vb = 230 * ( 1j * (-115) * math.pi/180)**2;                           #  Three phase in Volts\n",
      "Vc = 250 * ( 1j * (-245) * math.pi/180)**2;                           #  Three phase in Volts\n",
      "\n",
      "\n",
      "# CALCUALTIONS\n",
      "# We know that operator :-\n",
      "\n",
      "alpha = 1 * ( 1j * 120 * math.pi/180)**2;\n",
      "alpha2 = 1 * ( 1j * (-120) * math.pi/180)**2;\n",
      "Va0 = (Va+Vb+Vc)/3                                              # Zero sequence Voltage in Volts\n",
      "Va1 = (Va+alpha*Vb+alpha2*Vc)/3                                 # Positive sequence Voltage in Volts\n",
      "Va2 = (Va+alpha2*Vb+alpha*Vc)/3                                 # Negative sequence Voltage in Volts\n",
      "\n",
      "\n",
      "# DISPLAY RESULTS\n",
      "\n",
      "print (\"EXAMPLE : 7.14 : SOLUTION :-\") ;\n",
      "print \" a) Zero sequence Voltage, Va0 = %.2f < %.2f V \"%(abs(Va0),math.degrees(math.atan2(Va0.imag,Va0.real)));\n",
      "print \" b) Positive sequence Voltage, Va1 = %.3f < %.2f V \"%(abs(Va1),math.degrees(math.atan2(Va1.imag,Va1.real)));\n",
      "print \" c) Negative sequence Voltage, Va1 = %.2f < %.1f V \"%(abs(Va2),math.degrees(math.atan2(Va2.imag,Va2.real)));\n",
      "  \n"
     ],
     "language": "python",
     "metadata": {},
     "outputs": [
      {
       "output_type": "stream",
       "stream": "stdout",
       "text": [
        "EXAMPLE : 7.14 : SOLUTION :-\n",
        " a) Zero sequence Voltage, Va0 = 1832.58 < 180.00 V \n",
        " b) Positive sequence Voltage, Va1 = 8038.588 < 0.00 V \n",
        " c) Negative sequence Voltage, Va1 = 8038.59 < 0.0 V \n"
       ]
      }
     ],
     "prompt_number": 22
    }
   ],
   "metadata": {}
  }
 ]
}