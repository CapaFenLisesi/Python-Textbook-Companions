{
 "metadata": {
  "name": "",
  "signature": "sha256:83ee6d1c752a11776a3f51dfb2cc636a1d14090445de8f66b53483fb5dea2c8a"
 },
 "nbformat": 3,
 "nbformat_minor": 0,
 "worksheets": [
  {
   "cells": [
    {
     "cell_type": "heading",
     "level": 1,
     "metadata": {},
     "source": [
      "Chapter 11 : AC Power"
     ]
    },
    {
     "cell_type": "heading",
     "level": 2,
     "metadata": {},
     "source": [
      "Example 11.1  Page No : 199"
     ]
    },
    {
     "cell_type": "code",
     "collapsed": false,
     "input": [
      "%matplotlib inline\n",
      "\n",
      "import math \n",
      "from numpy import arange,ones\n",
      "from matplotlib.pyplot import plot,xlabel,ylabel,suptitle, subplot\n",
      "\n",
      "#Problem 11.1\")\n",
      "\n",
      "# Given\n",
      "#resistance  = 1000ohm\")\n",
      "t = arange(0,1+0.5,0.5)\n",
      "i = ones(len(t))\n",
      "i1 = -i;\n",
      "\n",
      "subplot(2,1,1)\n",
      "plot(t,i)\n",
      "plot(t+1,i1)\n",
      "plot(t+2,i)\n",
      "plot(t+3,i1)\n",
      "suptitle(\"i vs t\")\n",
      "xlabel('t in ms')\n",
      "ylabel('i in mA')\n",
      "\n",
      "i = 1.*10**-3*i\n",
      "R = 1000;\n",
      "#p = i**2*R\n",
      "p = i**2*R;\n",
      "subplot(2,1,2)\n",
      "plot(t,p)\n",
      "suptitle(\"p vs t\")\n",
      "xlabel('t in ms')\n",
      "ylabel('p in mW')\n",
      "\n"
     ],
     "language": "python",
     "metadata": {},
     "outputs": [
      {
       "output_type": "stream",
       "stream": "stdout",
       "text": [
        "[ 0.   0.5  1. ]\n"
       ]
      },
      {
       "metadata": {},
       "output_type": "pyout",
       "prompt_number": 10,
       "text": [
        "<matplotlib.text.Text at 0x10f37cf50>"
       ]
      },
      {
       "metadata": {},
       "output_type": "display_data",
       "png": "[encoded data removed]",
       "text": [
        "<matplotlib.figure.Figure at 0x10f2484d0>"
       ]
      }
     ],
     "prompt_number": 10
    },
    {
     "cell_type": "heading",
     "level": 2,
     "metadata": {},
     "source": [
      "Example 11.2  Page No : 204"
     ]
    },
    {
     "cell_type": "code",
     "collapsed": false,
     "input": [
      "%matplotlib inline\n",
      "\n",
      "import math \n",
      "from numpy import arange,ones\n",
      "from matplotlib.pyplot import plot,xlabel,ylabel,suptitle, subplot#Problem 11.2\")\n",
      "\n",
      "t = arange(0,1.5,0.5)\n",
      "i = ones(len(t))\n",
      "i1 = -i;\n",
      "\n",
      "subplot(2,2,1)\n",
      "plot(t,i)\n",
      "plot(t+1,i1)\n",
      "suptitle(\"i vs t\")\n",
      "xlabel('t in ms')\n",
      "ylabel('i in mA')\n",
      "#Voltage across capacitor vC = (1/C)*integrate(i*dt)\n",
      "#On integration\n",
      "t = arange(0,0.001+0.0005,0.0005)\n",
      "v = 2000*t\n",
      "v1 = 2-v;\n",
      "subplot(2,2,2)\n",
      "plot(t,v)\n",
      "plot(t+0.001,v1)\n",
      "plot(t+0.002,v)\n",
      "plot(t+0.003,v1)\n",
      "suptitle(\"v vs t\")\n",
      "xlabel('t in ms')\n",
      "ylabel('v in V')\n",
      "\n",
      "#Power is p = v*i\n",
      "t = arange(0,.001+.0005,.0005)\n",
      "p = 2000*t\n",
      "p1 = p-2;\n",
      "subplot(2,2,3)\n",
      "plot(t,p)\n",
      "plot(t+0.001,p1)\n",
      "plot(t+0.002,p)\n",
      "plot(t+0.003,p1)\n",
      "suptitle(\"p vs t\")\n",
      "xlabel('t in ms')\n",
      "ylabel('p in W')\n",
      "\n",
      "#Work is (C*v**2)/2\n",
      "t = arange(0,.001+.0005,.0005)\n",
      "w = t**2\n",
      "w1 = t**2+1*10**-6-(2*10**-3*t);\n",
      "subplot(2,2,4)\n",
      "plot(t,w)\n",
      "plot(t+0.001,w1)\n",
      "plot(t+0.002,w)\n",
      "plot(t+0.003,w1)\n",
      "suptitle(\"w vs t\")\n",
      "xlabel('t in ms')\n",
      "ylabel('w in J')\n"
     ],
     "language": "python",
     "metadata": {},
     "outputs": [
      {
       "metadata": {},
       "output_type": "pyout",
       "prompt_number": 12,
       "text": [
        "<matplotlib.text.Text at 0x10f7ca150>"
       ]
      },
      {
       "metadata": {},
       "output_type": "display_data",
       "png": "[encoded data removed]",
       "text": [
        "<matplotlib.figure.Figure at 0x10f596750>"
       ]
      }
     ],
     "prompt_number": 12
    },
    {
     "cell_type": "heading",
     "level": 2,
     "metadata": {},
     "source": [
      "Example 11.4  Page No : 206"
     ]
    },
    {
     "cell_type": "code",
     "collapsed": false,
     "input": [
      "import math \n",
      "#Problem 11.4\")\n",
      "\n",
      "# Given\n",
      "#Veff = 110V Z = 10+i8 ohm\")\n",
      "Veff = 110;\n",
      "Z = 10+1j*8\n",
      "Zmag = math.sqrt(10**2+8**2)\n",
      "Zph = (math.tan(8./10)*180)/math.pi\n",
      "P = (Veff**2*R)/(Zmag**2)\n",
      "pf = math.cos((Zph*math.pi)/180)\n",
      "\n",
      "print \"Power factor is : %.4f\"%pf"
     ],
     "language": "python",
     "metadata": {},
     "outputs": [
      {
       "output_type": "stream",
       "stream": "stdout",
       "text": [
        "Power factor is : 0.5151\n"
       ]
      }
     ],
     "prompt_number": 16
    },
    {
     "cell_type": "heading",
     "level": 2,
     "metadata": {},
     "source": [
      "Example 11.5  Page No : 211"
     ]
    },
    {
     "cell_type": "code",
     "collapsed": false,
     "input": [
      "import math \n",
      "#Problem 11.5\")\n",
      "\n",
      "# Given\n",
      "#Veff = 110V Ieff = 20(-50 deg)\")\n",
      "Imagn = 20;Iph  = -50;\n",
      "Veff = 110;\n",
      "\n",
      "P = Veff*Imagn*math.cos((abs(Iph)*math.pi)/180)\n",
      "Q = Veff*Imagn*math.sin((abs(Iph)*math.pi)/180)\n",
      "print \"Average power is %3.1fW\"%(P)\n",
      "print \"Reactive power is %3.1fvar\"%(Q)\n",
      "\n"
     ],
     "language": "python",
     "metadata": {},
     "outputs": [
      {
       "output_type": "stream",
       "stream": "stdout",
       "text": [
        "Average power is 1414.1W\n",
        "Reactive power is 1685.3var\n"
       ]
      }
     ],
     "prompt_number": 17
    },
    {
     "cell_type": "heading",
     "level": 2,
     "metadata": {},
     "source": [
      "Example 11.10  Page No : 213"
     ]
    },
    {
     "cell_type": "code",
     "collapsed": false,
     "input": [
      "import math \n",
      "from scipy.linalg import polar\n",
      "#Problem 11.10\")\n",
      "\n",
      "# Given\n",
      "#Veff = 10V v = 10*math.sqrt(2)*math.cos(w*t)\");\n",
      "Veff = 10;vmag = 10*1.414\n",
      "\n",
      "#a)\")\n",
      "Z1 = 1+1j\n",
      "R,Theta = polar([[Z1]])\n",
      "R = R[0][0].real\n",
      "Theta = Theta[0][0].real\n",
      "print \"i1 = %d*math.cosw*t-%d)\"%(vmag/R,Theta)\n",
      "I1eff = (vmag/R)/1.414\n",
      "#p1(t) = 100*math.sqrt(2)*math.cos(wt)*math.cos(wt-45)\n",
      "#On solving\n",
      "#p1(t) = 50+50*math.sqrt(2)*math.cos(2*w*t-45) W\")\n",
      "P1 = Veff*I1eff*math.cos(Theta)\n",
      "Q1 = Veff*I1eff*math.sin(Theta)\n",
      "S1 = P1+1j*Q1\n",
      "S1mag = math.sqrt(P1**2+Q1**2)\n",
      "pf1 = P1/S1mag\n",
      "print \"P1 = %dWQ1 = %dvarpf1 = %0.4flag)\"%(P1,Q1,pf1)\n",
      "\n",
      "\n",
      "#b)\")\n",
      "Z2 = 1-1j\n",
      "R,Theta = polar([[Z2]])\n",
      "R = R[0][0].real\n",
      "Theta = Theta[0][0].real\n",
      "\n",
      "print \"i2 = %d*math.cosw*t%d)\"%((vmag/R),Theta)\n",
      "I2eff = (vmag/R)/1.414\n",
      "#p2(t) = 100*math.sqrt(2)*math.cos(wt)*math.cos(wt+45)\n",
      "#On solving\n",
      "#p2(t) = 50+50*math.sqrt(2)*math.cos(2*w*t+45) W\")\n",
      "P2 = Veff*I2eff*math.cos(Theta)\n",
      "Q2 = Veff*I2eff*math.sin(Theta)\n",
      "S2 = P2+1j*Q2\n",
      "S2mag = math.sqrt(P2**2+Q2**2)\n",
      "pf2 = P2/S2mag\n",
      "print \"P2 = %dWQ2 = %dvarpf2 = %0.4flag)\"%(P2,Q2,pf2)\n",
      "\n",
      "#c)\")\n",
      "Zmag = (Z1*Z2)/(Z1+Z2)\n",
      "print \"i = %d*math.cosw*t)\"%(vmag/Zmag).real\n",
      "Ieff = (vmag/Zmag)/1.414\n",
      "#p(t) = 100*math.sqrt(2)*math.sqrt(2)*math.cos(wt)*math.cos(wt)\n",
      "#On solving\n",
      "#p2(t) = 200*math.cos(w*t)**2 W\")\n",
      "P = (Veff*Ieff).real\n",
      "Q = 0\n",
      "S = P*Q\n",
      "Smag = math.sqrt(P**2+Q**2)\n",
      "pf = P/Smag\n",
      "print \"P = %dWQ = %dvarpf = %0.4f\"%(P,Q,pf)\n"
     ],
     "language": "python",
     "metadata": {},
     "outputs": [
      {
       "output_type": "stream",
       "stream": "stdout",
       "text": [
        "i1 = 19*math.cosw*t-1)\n",
        "P1 = 22WQ1 = 139varpf1 = 0.1559lag)\n",
        "i2 = 19*math.cosw*t1)\n",
        "P2 = 22WQ2 = 139varpf2 = 0.1559lag)\n",
        "i = 14*math.cosw*t)\n",
        "P = 100WQ = 0varpf = 1.0000\n"
       ]
      }
     ],
     "prompt_number": 27
    },
    {
     "cell_type": "heading",
     "level": 2,
     "metadata": {},
     "source": [
      "Example 11.11  Page No : 218"
     ]
    },
    {
     "cell_type": "code",
     "collapsed": false,
     "input": [
      "import math \n",
      "#Problem 11.11\")\n",
      "\n",
      "# Given\n",
      "#v = 42.5*math.cos(1000*t+30 deg)V Z = 3+i4 ohm\")\n",
      "Vmag = 42.5;\n",
      "Z = 3+1j*4;\n",
      "R = math.sqrt(3**2+4**2)\n",
      "Theta = math.tan(4./3)*(180/math.pi)\n",
      "Veffm = Vmag/math.sqrt(2)\n",
      "Veffph = 30\n",
      "Ieffm = Veffm/R\n",
      "Ieffph = 30-Theta\n",
      "\n",
      "Smag = Veffm*Ieffm\n",
      "Sph = Veffph-Ieffph\n",
      "x = Smag*math.cos((Sph*math.pi)/180)\n",
      "y = Smag*math.sin((Sph*math.pi)/180)\n",
      "z = complex(x,y)\n",
      "pf = math.cos((Theta*math.pi)/180);\n",
      "\n",
      "print \"Real Power is %fW\"%(x)\n",
      "print \"Reactive Power is %fvarinductive)\"%(y)\n",
      "print \"Complex Power is %fVA\"%(Smag)\n",
      "print \"Power factor is %3.1flag)\"%(pf)\n",
      "\n"
     ],
     "language": "python",
     "metadata": {},
     "outputs": [
      {
       "output_type": "stream",
       "stream": "stdout",
       "text": [
        "Real Power is -99.086517W\n",
        "Reactive Power is -151.020703varinductive)\n",
        "Complex Power is 180.625000VA\n",
        "Power factor is -0.5lag)\n"
       ]
      }
     ],
     "prompt_number": 29
    },
    {
     "cell_type": "heading",
     "level": 2,
     "metadata": {},
     "source": [
      "Example 11.12  Page No : 220"
     ]
    },
    {
     "cell_type": "code",
     "collapsed": false,
     "input": [
      "import math \n",
      "#Problem 11.12\")\n",
      "\n",
      "# Given\n",
      "#pf1 = 1 ; pf2 = 0.5 ; pf3 = 0.5\")\n",
      "#P1 = 10kW;P2 = 20kW;P3 = 15kW\")\n",
      "#Power supply is 6kV\")\n",
      "P1 = 10000;\n",
      "P2 = 20000;\n",
      "P3 = 15000;\n",
      "Veff = 6000;\n",
      "pf1 = 1   #implifies that theta1 = 0\n",
      "t1 = 0\n",
      "Q1 = P1*t1\n",
      "\n",
      "pf2 = 0.5   #implifies that theta1 = 60\n",
      "t2 = 1.73;\n",
      "Q2 = P2*t2\n",
      "\n",
      "pf3 = 1   #implifies that theta1 = 53.13\n",
      "t3 = 1.33;\n",
      "Q3 = P3*t3\n",
      "\n",
      "PT = P1+P2+P3\n",
      "QT = Q1+Q2+Q3\n",
      "ST = math.sqrt(PT**2+QT**2)\n",
      "pfT = PT/ST\n",
      "Ieff = ST/Veff\n",
      "Ieffph = math.cos(pfT)*(180/math.pi)\n",
      "print \"PT = %dWQT = %dvarST = %dVApf = %0.2flag)Ieff = %3.1f%3.2f deg)\"%(PT,QT,ST,pfT,Ieff,Ieffph)\n"
     ],
     "language": "python",
     "metadata": {},
     "outputs": [
      {
       "output_type": "stream",
       "stream": "stdout",
       "text": [
        "PT = 45000WQT = 54550varST = 70715VApf = 0.64lag)Ieff = 11.846.08 deg)\n"
       ]
      }
     ],
     "prompt_number": 30
    },
    {
     "cell_type": "heading",
     "level": 2,
     "metadata": {},
     "source": [
      "Example 11.13  Page No : 221"
     ]
    },
    {
     "cell_type": "code",
     "collapsed": false,
     "input": [
      "import math \n",
      "#Problem 11.13\")\n",
      "\n",
      "# Given\n",
      "#Power factor is 0.95(lag)\")\n",
      "vmag = 240;Zmag = 3.5;Zph = 25;\n",
      "I1mag = vmag/Zmag;iph = 0-Zph;\n",
      "#Smag = Veff*Ieff\n",
      "Smag = (vmag/math.sqrt(2))*(I1mag/math.sqrt(2))\n",
      "Sph = 0+abs(iph)\n",
      "x = Smag*math.cos((Sph*math.pi)/180)\n",
      "y = Smag*math.sin((Sph*math.pi)/180)\n",
      "z = complex(x,y)\n",
      "pf = 0.95\n",
      "theta = math.cos(0.95)*(180/math.pi)\n",
      "#From fig 11.11\n",
      "#Solving for Qc\n",
      "Qc = y-(math.tan((theta*math.pi)/180)*x)\n",
      "print \" Qc = %dvarCapacitive )\"%(Qc)\n"
     ],
     "language": "python",
     "metadata": {},
     "outputs": [
      {
       "output_type": "stream",
       "stream": "stdout",
       "text": [
        " Qc = -1426varCapacitive )\n"
       ]
      }
     ],
     "prompt_number": 32
    },
    {
     "cell_type": "heading",
     "level": 2,
     "metadata": {},
     "source": [
      "Example 11.14  Page No : 223"
     ]
    },
    {
     "cell_type": "code",
     "collapsed": false,
     "input": [
      "import math \n",
      "#Problem 11.14\")\n",
      "\n",
      "# Given\n",
      "#Power  = 1000kW ; pf = 0.5(lag)\")\n",
      "#Voltage source is 5kV\")\n",
      "#Improved power factor is 0.8\")\n",
      "\n",
      "#Before improvement\n",
      "P = 1000*10**3;\n",
      "pf = 0.5;V = 5*10**3;\n",
      "S = (P/pf)*10**-3\n",
      "I = S/V\n",
      "\n",
      "#After improvement\n",
      "P = 1000*10**3;\n",
      "pf = 0.8;V = 5*10**3;\n",
      "S = (P/pf)*10**-3\n",
      "I1 = S/V\n",
      "\n",
      "#Current is reduced by \")\n",
      "red = ((I-I1)/I)*100\n",
      "print \"Percentage reduction in current is %3.1fpercent\"%(red)\n",
      "\n"
     ],
     "language": "python",
     "metadata": {},
     "outputs": [
      {
       "output_type": "stream",
       "stream": "stdout",
       "text": [
        "Percentage reduction in current is 37.5percent\n"
       ]
      }
     ],
     "prompt_number": 33
    },
    {
     "cell_type": "heading",
     "level": 2,
     "metadata": {},
     "source": [
      "Example 11.16  Page No : 228"
     ]
    },
    {
     "cell_type": "code",
     "collapsed": false,
     "input": [
      "import math \n",
      "from numpy import real,imag\n",
      "#Problem 11.16\")\n",
      "\n",
      "# Given\n",
      "#Vg = 100V(rms)\")\n",
      "#Zg = 1+i Z1 = 2\")\n",
      "Vg = 100;\n",
      "\n",
      "#a)\")\n",
      "Zg = 1+1j;\n",
      "Z1 = 2\n",
      "Z = Z1+Zg\n",
      "Zmag = math.sqrt(Z.real**2+Z.imag**2)\n",
      "I = Vg/Zmag\n",
      "PZ1 = real(Z1)*(I**2)\n",
      "Pg = real(Zg)*(I**2)\n",
      "PT = PZ1+Pg\n",
      "print \"PZ = %dW Pg = %dW PT = %dW\"%(PZ1,Pg,PT);\n",
      "\n",
      "#b)\")\n",
      "#If Z2 = a+i*b\n",
      "#Zg* = 1-i\n",
      "#Given that\n",
      "#(Z1*Z2)/(Z1+Z2) = 1-i\n",
      "#As Z1 = 2 and solving for Z2\n",
      "print (-1j,\"Z2 = \") \n",
      "  \n",
      "#c)\")\n",
      "#If Z2 is taken the value as calculated in b) then Z = 1-i\n",
      "Zg = 1+1j;\n",
      "Z1 = 2;\n",
      "Z = 1-1j;\n",
      "Zt = Z+Zg\n",
      "Zmag = math.sqrt(real(Zt)**2+imag(Zt)**2)\n",
      "I = Vg/Zmag\n",
      "PZ = real(Z)*(I**2)\n",
      "Pg = real(Zg)*(I**2)\n",
      "#To calculate PZ1 and PZ2 we need to first calculate IZ1 nad IZ2\n",
      "VZ = I*(1-1j)\n",
      "IZ1 = VZ/Z1\n",
      "IZ1mag = math.sqrt(real(IZ1)**2+imag(IZ1)**2)\n",
      "PZ1 = real(Z1)*(IZ1mag**2)\n",
      "PZ2 = PZ-PZ1\n",
      "PT = PZ1+PZ2+Pg\n",
      "print \"PZ = %dW Pg = %dW PT = %dW\"%(PZ,Pg,PT);\n"
     ],
     "language": "python",
     "metadata": {},
     "outputs": [
      {
       "output_type": "stream",
       "stream": "stdout",
       "text": [
        "PZ = 2000W Pg = 1000W PT = 3000W\n",
        "(-1j, 'Z2 = ')\n",
        "PZ = 2500W Pg = 2500W PT = 5000W\n"
       ]
      }
     ],
     "prompt_number": 37
    },
    {
     "cell_type": "heading",
     "level": 2,
     "metadata": {},
     "source": [
      "Example 11.17  Page No : 233"
     ]
    },
    {
     "cell_type": "code",
     "collapsed": false,
     "input": [
      "import math \n",
      "#Problem 11.17\")\n",
      "\n",
      "# Given\n",
      "#v1 = 5*math.cos(w1*t)  v2 = 10*math.cos(w2*t+60)\")\n",
      "#The circuit is modeled as\n",
      "#resistance is 10ohm and inducmath.tance is 5mH\")\n",
      "R = 10;L = 5*10**-3;\n",
      "#Let V be phasor voltage between the terminals\n",
      "Vmag = 10;\n",
      "Vph = 60; \n",
      "x = Vmag*math.cos((Vph*math.pi)/180);\n",
      "y = Vmag*math.sin((Vph*math.pi)/180);\n",
      "z = complex(x,y)\n",
      "\n",
      "#a)\")\n",
      "w1 = 2000;w2 = 4000;\n",
      "#Let Z be the impedance of the coil\n",
      "Z1 = R+1j*L*w1\n",
      "Z2 = R+1j*L*w2\n",
      "V1 = 5;\n",
      "#By applying superposition i = i1-i2\n",
      "I1 = V1/Z1\n",
      "R1,Theta = polar([[I1]])\n",
      "R1 = R1[0][0].real\n",
      "Theta = Theta[0][0].real\n",
      "\n",
      "print \"i1 = %0.2f*math.cos%dt%d deg)\"%(R1,w1,Theta*180/math.pi);\n"
     ],
     "language": "python",
     "metadata": {},
     "outputs": [
      {
       "output_type": "stream",
       "stream": "stdout",
       "text": [
        "i1 = 0.71*math.cos2000t20 deg)\n"
       ]
      }
     ],
     "prompt_number": 39
    }
   ],
   "metadata": {}
  }
 ]
}