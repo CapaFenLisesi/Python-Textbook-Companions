{
 "metadata": {
  "name": "",
  "signature": "sha256:b3a6cfc1d2c872aca30cd5b6a87aa7825822b184d347f3d205eddfb7ba133797"
 },
 "nbformat": 3,
 "nbformat_minor": 0,
 "worksheets": [
  {
   "cells": [
    {
     "cell_type": "heading",
     "level": 1,
     "metadata": {},
     "source": [
      "Chapter 1 : Introduction"
     ]
    },
    {
     "cell_type": "heading",
     "level": 2,
     "metadata": {},
     "source": [
      "Example 1.1  Page No : 1"
     ]
    },
    {
     "cell_type": "code",
     "collapsed": false,
     "input": [
      "\n",
      "# Given\n",
      "m = 10.;        # Acceleration is 2.0m/s**2\n",
      "a = 2.;         # mass\n",
      "\n",
      "# Calculation and Results\n",
      "#a)\")\n",
      "F = m*a\n",
      "print \"Force is %dN\"%(F)\n",
      "#b)\")\n",
      "t = 4;            # time\n",
      "x = (a*t*t)/2\n",
      "KE = (F*x)\n",
      "P = KE/t\n",
      "print \"Position is %dm\"%(x)\n",
      "print \"Kinetic energy  = %3.1fJ\"%(KE)\n",
      "print \"Power  = %3.1fW\"%(P)\n"
     ],
     "language": "python",
     "metadata": {},
     "outputs": [
      {
       "output_type": "stream",
       "stream": "stdout",
       "text": [
        "Force is 20N\n",
        "Position is 16m\n",
        "Kinetic energy  = 320.0J\n",
        "Power  = 80.0W\n"
       ]
      }
     ],
     "prompt_number": 1
    },
    {
     "cell_type": "heading",
     "level": 2,
     "metadata": {},
     "source": [
      "Example 1.2  Page No : 3"
     ]
    },
    {
     "cell_type": "code",
     "collapsed": false,
     "input": [
      "\n",
      "# Given\n",
      "i = 5.;         # current flow\n",
      "\n",
      "# Calculation\n",
      "#As electroms/min is asked so we need to convert A(C/s) to C/min\n",
      "i1 = 5*60;\n",
      "#Let e be electronic charge\n",
      "e = 1.602*10**-19\n",
      "n = (i1/e)\n",
      "\n",
      "# Results\n",
      "print \"Number of electrons  = %3.2f electrons/min\"%(n)"
     ],
     "language": "python",
     "metadata": {},
     "outputs": [
      {
       "output_type": "stream",
       "stream": "stdout",
       "text": [
        "Number of electrons  = 1872659176029962633216.00 electrons/min\n"
       ]
      }
     ],
     "prompt_number": 2
    },
    {
     "cell_type": "heading",
     "level": 2,
     "metadata": {},
     "source": [
      "Example 1.3  Page No : 8"
     ]
    },
    {
     "cell_type": "code",
     "collapsed": false,
     "input": [
      "\n",
      "# Given\n",
      "E = 9.25*10**-6         ##Energy is 9.25uJ\")\n",
      "q = 0.5*10**-6;         # #Charge to be transferred is 0.5uC\")\n",
      "\n",
      "# Calculation\n",
      "#1 volt is 1 joule per coulomb\n",
      "V = E/q;\n",
      "\n",
      "# Results\n",
      "print \"Potential difference between two points a and b is %3.1fV\"%(V)\n"
     ],
     "language": "python",
     "metadata": {},
     "outputs": [
      {
       "output_type": "stream",
       "stream": "stdout",
       "text": [
        "Potential difference between two points a and b is 18.5V\n"
       ]
      }
     ],
     "prompt_number": 3
    },
    {
     "cell_type": "heading",
     "level": 2,
     "metadata": {},
     "source": [
      "Example 1.4  Page No : 10"
     ]
    },
    {
     "cell_type": "code",
     "collapsed": false,
     "input": [
      "\n",
      "# Given\n",
      "#Potential difference is 50V\")\n",
      "#Charge per minute is 120C/min\")\n",
      "V = 50.\n",
      "x = 120;\n",
      "\n",
      "# Calculation\n",
      "#As Electrical energy is to be calculated charge per minute is to be converted in charge per second\n",
      "#Charge per second is nothing but the current\n",
      "i = x/60;\n",
      "P = i*V;\n",
      "#Since is 1W = 1J/s\n",
      "\n",
      "# Results\n",
      "print \"Rate of energy conversion is %dJ/s\"%(P)\n",
      "\n"
     ],
     "language": "python",
     "metadata": {},
     "outputs": [
      {
       "output_type": "stream",
       "stream": "stdout",
       "text": [
        "Rate of energy conversion is 100J/s\n"
       ]
      }
     ],
     "prompt_number": 4
    }
   ],
   "metadata": {}
  }
 ]
}