{
 "metadata": {
  "name": "",
  "signature": "sha256:542e92bd62de523a8cd9abe5adfd1eec8e64f2ebaa6b2ac5b00d208e9be115e3"
 },
 "nbformat": 3,
 "nbformat_minor": 0,
 "worksheets": [
  {
   "cells": [
    {
     "cell_type": "heading",
     "level": 1,
     "metadata": {},
     "source": [
      "Chapter 5 : Analysis Methods"
     ]
    },
    {
     "cell_type": "heading",
     "level": 2,
     "metadata": {},
     "source": [
      "Example 5.8  Page No : 76"
     ]
    },
    {
     "cell_type": "code",
     "collapsed": false,
     "input": [
      "import math \n",
      "#From figure 5.13(a)\n",
      "\n",
      "#Applying KVL equation to the loop \n",
      "I = (20.+10)/(3+6)\n",
      "\n",
      "# Calculation and Results\n",
      "#As current will not flow in upper 3 ohm resistor so Thevenin voltage is equal to either of the two parallel branches\n",
      "V1 = 20.-I*3\n",
      "print \"Thevenin voltage  =  %dV\"%(V1)\n",
      "\n",
      "# Left 3 ohm and 6 ohm resistor are in parallel and their equivalent is in series with 3 ohm\n",
      "R1 = 3+(3.*6)/(3+6)\n",
      "print \"Thevenin resistance  = %dohm\"%(R1)\n",
      "\n",
      "#Now to find Norton's equivalent\n",
      "I1 = V1/R1\n",
      "print \" Norton current  = %dA\"%(I1)\n",
      "#The value of resistance in Norton equivalent will not change but will come in parallel with current source\")\n"
     ],
     "language": "python",
     "metadata": {},
     "outputs": [
      {
       "output_type": "stream",
       "stream": "stdout",
       "text": [
        "Thevenin voltage  =  10V\n",
        "Thevenin resistance  = 5ohm\n",
        " Norton current  = 2A\n"
       ]
      }
     ],
     "prompt_number": 1
    }
   ],
   "metadata": {}
  }
 ]
}