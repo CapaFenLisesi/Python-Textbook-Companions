{
 "metadata": {
  "name": "chapter7"
 },
 "nbformat": 3,
 "nbformat_minor": 0,
 "worksheets": [
  {
   "cells": [
    {
     "cell_type": "heading",
     "level": 1,
     "metadata": {},
     "source": "Chapter 7:Parallel Circuits"
    },
    {
     "cell_type": "heading",
     "level": 2,
     "metadata": {},
     "source": "Problem no:7.5, Page no:67\n"
    },
    {
     "cell_type": "code",
     "collapsed": false,
     "input": "from __future__ import division\n\n#Cal of Equivalent resistance\n\n#Initialization\n\n#Resistors connected in parallel in Ohm\n\nR1=5\n\nR2=10\n\nfrom decimal import *\n\n#Calculation\n\nR=(R1*R2)/(R1+R2)\n\nprint \"R=\",round(R,2),\"ohm\"",
     "language": "python",
     "metadata": {},
     "outputs": [
      {
       "output_type": "stream",
       "stream": "stdout",
       "text": "R= 3.33 ohm\n"
      }
     ],
     "prompt_number": 1
    },
    {
     "cell_type": "heading",
     "level": 2,
     "metadata": {},
     "source": "Problem no:7.1, Page no:64"
    },
    {
     "cell_type": "code",
     "collapsed": false,
     "input": "from __future__ import division\n\n#Cal of Equivalent resistance\n\n#Initialization\n\n#Resistors connected in parallel\n\nR1=R2=R3=5                  #in Ohm\n\n#Calculation\n\nR=1/((1/R1)+(1/R2)+(1/R3))\n\nprint \"R=\",round(R,2),\"Ohm\"",
     "language": "python",
     "metadata": {},
     "outputs": [
      {
       "output_type": "stream",
       "stream": "stdout",
       "text": "R= 1.67 Ohm\n"
      }
     ],
     "prompt_number": 8
    },
    {
     "cell_type": "heading",
     "level": 2,
     "metadata": {},
     "source": "Problem no:7.6, Page no:67"
    },
    {
     "cell_type": "code",
     "collapsed": false,
     "input": "from __future__ import division\n\n#Cal of resistance(R2) to be reduced\n\n#Initialization\n\n#Resistance in Ohm\n\nR1=50\n\nR=20\n\nR2=(R1*R)/(R1-R)\n\nprint \"R2=\",round(R2,1),\"Ohm\"\n \n",
     "language": "python",
     "metadata": {},
     "outputs": [
      {
       "output_type": "stream",
       "stream": "stdout",
       "text": "R2= 33.3\n"
      }
     ],
     "prompt_number": 10
    },
    {
     "cell_type": "heading",
     "level": 2,
     "metadata": {},
     "source": "Problem no:7.7, Page no:67"
    },
    {
     "cell_type": "code",
     "collapsed": false,
     "input": "from __future__ import division\n\n#Cal of Power in series and parallel\n\n#Initialization\n\nR1=R2=240                            # in Ohm\n\nV=120                                #voltage in volts\n\n#(a)Power in series\n\nR=R1+R2                              #Equivalent resistance\n\nI=V/R                                #Current in the circuit\n\nP=(I**2)*R1                          #Power dissipated\n\nprint \"(a)P=\",int(P),\"W\"\n\n#(b)POwer in Parallel\n\nP=(V**2)/R1\n\nprint \"(b)P=\",int(P),\"W\"\n\n\nprint \"The bulbs will be higher when connected in parallel.\"",
     "language": "python",
     "metadata": {},
     "outputs": [
      {
       "output_type": "stream",
       "stream": "stdout",
       "text": "(a)P= 15 W\n(b)P= 60 W\nThe bulbs will be higher when connected in parallel.\n"
      }
     ],
     "prompt_number": 19
    },
    {
     "cell_type": "heading",
     "level": 2,
     "metadata": {},
     "source": "Problem no:7.10, Page no:69"
    },
    {
     "cell_type": "code",
     "collapsed": false,
     "input": "from __future__ import division\n\n#Cal of resistor to be connected with the meter\n\n#Initialization\n\nI_meter=0.001        #meter current in ampere\n\nI_shunt=0.999        #Shunt current in ampere\n\nR_meter=40            #Shunt resistance in Ohm\n\nR_shunt=(I_meter/I_shunt)*R_meter\n\nprint \"R_shunt=\",round(R_shunt,2),\"Ohm\"\n\nprint \"A\",R_shunt,\"Ohm resistor in parallel with the meter will permit it to measure currents from 0 to 1 A\"",
     "language": "python",
     "metadata": {},
     "outputs": [
      {
       "output_type": "stream",
       "stream": "stdout",
       "text": "R_shunt= 0.04 Ohm\nA 0.04004004004 Ohm resistor in parallel with the meter will permit it to measure currents from 0 to 1 A\n"
      }
     ],
     "prompt_number": 23
    }
   ],
   "metadata": {}
  }
 ]
}