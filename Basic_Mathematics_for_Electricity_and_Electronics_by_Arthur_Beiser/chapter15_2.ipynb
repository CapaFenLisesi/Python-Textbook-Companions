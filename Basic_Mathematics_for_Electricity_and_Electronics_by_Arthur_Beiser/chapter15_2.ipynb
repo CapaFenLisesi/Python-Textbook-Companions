{
 "metadata": {
  "name": "chapter15"
 },
 "nbformat": 3,
 "nbformat_minor": 0,
 "worksheets": [
  {
   "cells": [
    {
     "cell_type": "heading",
     "level": 1,
     "metadata": {},
     "source": "Chapter 15:Parallel AC Circuits"
    },
    {
     "cell_type": "heading",
     "level": 2,
     "metadata": {},
     "source": "Problem no:15.1, Page no:176"
    },
    {
     "cell_type": "code",
     "collapsed": false,
     "input": "from __future__ import division\n\nimport math\n\n#Initialization\n\nV=240                     #Voltage in volts\n\n#Resistance in Ohm\n\nR1=400\n\nR2=500\n\n#Cal of current in each resistor\n\nI1=V/R1\n\nI2=V/R2\n\nprint \"(a) I1=\" ,I1,\"A\",\"I2=\",I2,\"A\"\n\n#Cal of total current\n\nI=I1+I2\n\nprint \"(b) I=\",I,\"A\"\n\n#Cal of Total resistance\n\nR=V/I\n\nprint \"(c) R=\",int(R),\"Ohm\"\n\n#Cal of Total power\n\nP=I*V*math.cos(0)\n\nprint \"(d) P=\",int(P),\"W\"\n",
     "language": "python",
     "metadata": {},
     "outputs": [
      {
       "output_type": "stream",
       "stream": "stdout",
       "text": "(a) I1= 0.6 A I2= 0.48 A\n(b) I= 1.08 A\n(c) R= 222 Ohm\n(d) P= 259 W\n"
      }
     ],
     "prompt_number": 38
    },
    {
     "cell_type": "heading",
     "level": 2,
     "metadata": {},
     "source": "Problem no:15.2, Page no:176"
    },
    {
     "cell_type": "code",
     "collapsed": false,
     "input": "from __future__ import division\n\nimport math\n\n#Initialization\n\n#Capacitance in muF\n\nC1=30\n\nC2=50\n\nV=50         #Voltage in volts\n\nf=400     #frequency in Hz\n\n#Cal of current in each resistor\n\nXc1=1/(2*3.14*f*C1*10**-6)\n\nI1=V/Xc1\n\nXc2=round(1/(2*3.14*f*C2*10**-6))\n\nI2=V/Xc2\n\nprint \"(a) I1=\",round(I1,1),\"A\"\n\nprint \"    I2=\",I2,\"A\"\n\n#Cal of total current\n\nI=I1+I2\n\nprint \"(b) I=\",int(I),\"A\"\n\n#Cal of Impedance\n\nZ=V/I\n\nprint \"(c) Z=\",int(round(Z)),\"Ohm\"\n\n#Cal of Total power\n\nW=I*V*math.cos(math.radians(90))\n\nprint \"(d) W=\",int(W)\n",
     "language": "python",
     "metadata": {},
     "outputs": [
      {
       "output_type": "stream",
       "stream": "stdout",
       "text": "(a) I1= 3.8 A\n    I2= 6.25 A\n(b) I= 10 A\n(c) Z= 5 Ohm\n(d) W= 0\n"
      }
     ],
     "prompt_number": 39
    },
    {
     "cell_type": "heading",
     "level": 2,
     "metadata": {},
     "source": "Problem no:15.12, Page no:183"
    },
    {
     "cell_type": "code",
     "collapsed": false,
     "input": "from __future__ import division\n\nimport math\n\n#Cal of resonance frquency\n\n#Initialization\n\nL=180                        #Inductance in muH\n\nC=100                        #Capacitance in pF\n\n#Calculation\n\nL=L*(10**-6)\n\nC=C*(10**-12)\n\nfo=1/((2*math.pi)*(math.sqrt(L*C)))\n\nfo=fo/10**6                   #Convert fo in MHz\n\nprint \"fo=\",round(fo,1),\"MHz\"",
     "language": "python",
     "metadata": {},
     "outputs": [
      {
       "output_type": "stream",
       "stream": "stdout",
       "text": "fo= 1.2 MHz\n"
      }
     ],
     "prompt_number": 40
    }
   ],
   "metadata": {}
  }
 ]
}