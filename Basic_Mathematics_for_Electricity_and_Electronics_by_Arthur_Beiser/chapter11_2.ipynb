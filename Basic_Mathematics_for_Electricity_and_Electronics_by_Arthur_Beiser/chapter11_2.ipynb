{
 "metadata": {
  "name": "chapter11"
 },
 "nbformat": 3,
 "nbformat_minor": 0,
 "worksheets": [
  {
   "cells": [
    {
     "cell_type": "heading",
     "level": 1,
     "metadata": {},
     "source": "Chapter 11:Capacitance"
    },
    {
     "cell_type": "heading",
     "level": 2,
     "metadata": {},
     "source": "Problem no:11.1, Page no:123"
    },
    {
     "cell_type": "code",
     "collapsed": false,
     "input": "from __future__ import division\n\n#Cal of charge on capacitors plates\n\n#initialization\n\nC=200                          #Capacitance in pF\n\nV=100                          #Voltage in V\n\n#Calculation\n\nC=200E-12                      #Convert Capacitance in F\n\nQ=C*V                          #Capacitance formula\n\nprint \"Q=\",Q,\"C\"",
     "language": "python",
     "metadata": {},
     "outputs": [
      {
       "output_type": "stream",
       "stream": "stdout",
       "text": "Q= 2e-08 C\n"
      }
     ],
     "prompt_number": 1
    },
    {
     "cell_type": "heading",
     "level": 2,
     "metadata": {},
     "source": "Problem no:11.2, Page no:123"
    },
    {
     "cell_type": "code",
     "collapsed": false,
     "input": "from __future__ import division\n\n#Cal of Capacitance\n\n#Initialization\n\nQ=5E-4                            #Charge in C\n\nV=300                             #Voltage in V\n\n#Calculation\n\nC=Q/V                             #Capacitance Formula           \n\nC=C*(10**6)                       #Convert Capacitance in muF\n \nprint \"C=\",round(C,2),\"muF\"",
     "language": "python",
     "metadata": {},
     "outputs": [
      {
       "output_type": "stream",
       "stream": "stdout",
       "text": "The Capacitance is 1.67 muF\n"
      }
     ],
     "prompt_number": 3
    },
    {
     "cell_type": "heading",
     "level": 2,
     "metadata": {},
     "source": "Problem no:11.3, Page no:124"
    },
    {
     "cell_type": "code",
     "collapsed": false,
     "input": "from __future__ import division\n\n#Cal of Capacitance\n\n#Initialization\n\nEo=8.85E-12                     #Permittivity in F/m\n\nA=5                             #Area in cm^2\n\nd=0.1                           #distance in mm\n\n#Calculation\n\nK=1                             #dielectric constant in air\n\nA=A/100                         #Convert Area in m^2\n\nd=d/1000                        #Convert diameter in m\n\nC=(K*Eo*(A**2))/(d)\n\nC=int(C*(10**12))                    #Convert Capacitance in pF\n\nprint \"(a)C=\",C,\"pF\"\n\nK=6                             #Permittivity for mica given\n\nC=K*C\n\nprint \"(b)C=\",C,\"pF\"",
     "language": "python",
     "metadata": {},
     "outputs": [
      {
       "output_type": "stream",
       "stream": "stdout",
       "text": "(a)C= 221 pF\n(b)C= 1326 pF\n"
      }
     ],
     "prompt_number": 4
    },
    {
     "cell_type": "heading",
     "level": 2,
     "metadata": {},
     "source": "Problem no:11.4, Page no:124"
    },
    {
     "cell_type": "code",
     "collapsed": false,
     "input": "from __future__ import division\n\n#Cal of dielectric constant of Benzene\n\n#Initialization\n\nC1=2                        #Capacitance in air in muF\n\nC2=4.6                      #Capacitance in Benzene\n\nK1=1                        #Dielectric constant for air\n\n#Calculation\n\nK2=K1*(C2/C1)\n\nprint \"K2=\",K2",
     "language": "python",
     "metadata": {},
     "outputs": [
      {
       "output_type": "stream",
       "stream": "stdout",
       "text": "K2= 2.3\n"
      }
     ],
     "prompt_number": 5
    },
    {
     "cell_type": "heading",
     "level": 2,
     "metadata": {},
     "source": "Problem no:11.7, Page no:125"
    },
    {
     "cell_type": "code",
     "collapsed": false,
     "input": "from __future__ import division\n\nimport math\n\n#Cal of voltage and charge\n\n#Initialization\n\nC=100                     #Capacitance in muF\n\nW=50                      #Energy in J\n\n#Calculation\n \nC=C*(10**-6)              #Convert Capacitance in F \n \nV=math.sqrt((2*W)/C)\n\nprint \"(a)V=\",int(V),\"V\"\n\nQ=C*V\nprint \"(b)Q=\",Q,\"C\"\n",
     "language": "python",
     "metadata": {},
     "outputs": [
      {
       "output_type": "stream",
       "stream": "stdout",
       "text": "(a)V= 1000 V\n(b)Q= 0.1 C\n"
      }
     ],
     "prompt_number": 14
    },
    {
     "cell_type": "heading",
     "level": 2,
     "metadata": {},
     "source": "Problem no:11.8, Page no:126"
    },
    {
     "cell_type": "code",
     "collapsed": false,
     "input": "from __future__ import division\n\n#Cal of Equivalent Capacitance\n\n#Initialization\n\n#Capacitance in muF\n\nC1=1\n\nC2=2\n\nC3=3\n\n#Calculation\n\nC=1/((1/C1)+(1/C2)+(1/C3))      #Formula for capacitors in series\n\nprint \"C=\",round(C,3),\"muF\"\n",
     "language": "python",
     "metadata": {},
     "outputs": [
      {
       "output_type": "stream",
       "stream": "stdout",
       "text": "C= 0.545 muF\n"
      }
     ],
     "prompt_number": 6
    },
    {
     "cell_type": "heading",
     "level": 2,
     "metadata": {},
     "source": "Problem no:11.9, Page no:126"
    },
    {
     "cell_type": "code",
     "collapsed": false,
     "input": "from __future__ import division\n\n#Cal of Equivalent Capacitance\n\n#Initialization\n\n#Capacitance in muF\n\nC1=2\n\nC2=3\n\n#Calculation\n\nC=(C1*C2)/(C1+C2)              #Formula for Capacitors in series\n\nprint \"C=\",C,\"muF\"",
     "language": "python",
     "metadata": {},
     "outputs": [
      {
       "output_type": "stream",
       "stream": "stdout",
       "text": "C= 1.2 muF\n"
      }
     ],
     "prompt_number": 7
    },
    {
     "cell_type": "heading",
     "level": 2,
     "metadata": {},
     "source": "Problem no:11.12, Page no:127"
    },
    {
     "cell_type": "code",
     "collapsed": false,
     "input": "from __future__ import division\n\n\n#Initialization\n\n#Cal of Equivalent capacitance\n\n#Capacitance in muF\n\nC1=5\n\nC2=10\n\nV=1000                   #Voltage in Volts\n\nC=C1+C2\n\nprint \"(a) C=\",C,\"pF\"\n\n#Cal of Charge\n\nQ1=(C1*10**-12)*V\n\nQ2=(C2*10**-12)*V\n\nprint \"(b) Q1=\",Q1,\"C\"\n\nprint \"    Q2=\",Q2,\"C\"\n",
     "language": "python",
     "metadata": {},
     "outputs": [
      {
       "output_type": "stream",
       "stream": "stdout",
       "text": "(a) C= 15 pF\n(b) Q1= 5e-09 C\n    Q2= 1e-08 C\n"
      }
     ],
     "prompt_number": 9
    },
    {
     "cell_type": "heading",
     "level": 2,
     "metadata": {},
     "source": "Problem no:11.13, Page no:130"
    },
    {
     "cell_type": "code",
     "collapsed": false,
     "input": "from __future__ import division\n\n\n#Initialization\n\n#Cal of Final charge\n\nC=20                            #Capacitance in muF\n\nV=45                            #Voltage in volts\n\nR=2000                          #Resistance in Ohm\n\nQo=(C*10**-6)*V\n\nprint \"(a) Qo=\", \"%.0e\" %Qo,\"C\"\n\n#Cal of Time\n\nT=R*(C*10**-6)\n\nprint \"(b) T=\",T,\"s\"\n",
     "language": "python",
     "metadata": {},
     "outputs": [
      {
       "output_type": "stream",
       "stream": "stdout",
       "text": "(a) Qo= 9e-04 C\n(b) T= 0.04 s\n"
      }
     ],
     "prompt_number": 52
    },
    {
     "cell_type": "heading",
     "level": 2,
     "metadata": {},
     "source": "Problem no:11.14, Page no:130"
    },
    {
     "cell_type": "code",
     "collapsed": false,
     "input": "from __future__ import division\n\nimport math\n\n#Initialization\n\nt=0.01\n\nQo=9E-4\n\n#Cal of charge when t=0.01 s\n\nt_T=round(math.exp(-t/0.04),2)\n\nQ=Qo*(1-t_T)\n\nprint \"Q=\",\"%.0e\" %Q,\"C\"\n\n\n#Cal of Charge when t=0.1 s\n\nt=0.1\n\nt_T=round(math.exp(-t/0.04),2)\n\nQ=Qo*(1-t_T)\n\nprint \"Q=\",\"%.1e\" %Q,\"C\"",
     "language": "python",
     "metadata": {},
     "outputs": [
      {
       "output_type": "stream",
       "stream": "stdout",
       "text": "Q= 2e-04 C\nQ= 8.3e-04 C\n"
      }
     ],
     "prompt_number": 54
    }
   ],
   "metadata": {}
  }
 ]
}