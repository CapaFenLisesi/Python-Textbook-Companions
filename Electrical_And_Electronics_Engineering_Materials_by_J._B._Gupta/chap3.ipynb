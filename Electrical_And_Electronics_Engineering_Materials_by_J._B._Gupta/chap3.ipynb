{
 "metadata": {
  "name": "",
  "signature": "sha256:a96bbbdccc6f55b0164bcf77a9bc387adedc3a678279c448dfc55de8004bfc24"
 },
 "nbformat": 3,
 "nbformat_minor": 0,
 "worksheets": [
  {
   "cells": [
    {
     "cell_type": "heading",
     "level": 1,
     "metadata": {},
     "source": [
      "Chapter 3 - Semiconductors"
     ]
    },
    {
     "cell_type": "heading",
     "level": 2,
     "metadata": {},
     "source": [
      "Exa3.1 page 127"
     ]
    },
    {
     "cell_type": "code",
     "collapsed": false,
     "input": [
      "from __future__ import division\n",
      "from math import sqrt\n",
      "# given data\n",
      "E=2.1 #in eV\n",
      "E=E*1.602*10**-19 # in J\n",
      "m=9.107*10**-31 # in kg (mass of electron)\n",
      "# Formula E=1/2*m*v**2\n",
      "v=sqrt(2*E/m) \n",
      "print \" Velocity of electron at Fermi-level is : %0.1e\"%(v),\" m/s\""
     ],
     "language": "python",
     "metadata": {},
     "outputs": [
      {
       "output_type": "stream",
       "stream": "stdout",
       "text": [
        " Velocity of electron at Fermi-level is : 8.6e+05  m/s\n"
       ]
      }
     ],
     "prompt_number": 1
    },
    {
     "cell_type": "heading",
     "level": 2,
     "metadata": {},
     "source": [
      "Exa3.2 page 127"
     ]
    },
    {
     "cell_type": "code",
     "collapsed": false,
     "input": [
      "# given data\n",
      "E=5.5 # in eV  (Fermi energy)\n",
      "E=E*1.6*10**-19 # in J \n",
      "miu_e=7.04*10**-3  #in m**2/V-s  (Mobility of electrons)\n",
      "n=5.8*10**28   # in /m**3   (Number of conduction electrons/m**3)\n",
      "e=1.6*10**-19  # in coulomb\n",
      "m=9.1*10**-31 #in kg\n",
      "#(i) Relaxation time,\n",
      "tau=miu_e/e*m \n",
      "print \"(i) Relaxation time is : \",(tau),\" second\" \n",
      "sigma=(n*e*miu_e) \n",
      "#(ii) Resistivity of conductor,\n",
      "rho=1/sigma \n",
      "print \"(ii) Resistivity of conductor is : %0.2e\"%(rho),\" ohm-meter\" \n",
      "# (iii) Let Velocity of electrons with fermi energy = v\n",
      "v=sqrt(2*E/m) \n",
      "print \"(iii) Velocity of electron with Fermi-level is : %0.4e\"%(v),\" m/s\" "
     ],
     "language": "python",
     "metadata": {},
     "outputs": [
      {
       "output_type": "stream",
       "stream": "stdout",
       "text": [
        "(i) Relaxation time is :  4.004e-14  second\n",
        "(ii) Resistivity of conductor is : 1.53e-08  ohm-meter\n",
        "(iii) Velocity of electron with Fermi-level is : 1.3907e+06  m/s\n"
       ]
      }
     ],
     "prompt_number": 2
    },
    {
     "cell_type": "heading",
     "level": 2,
     "metadata": {},
     "source": [
      "Exa3.3 page 132"
     ]
    },
    {
     "cell_type": "code",
     "collapsed": false,
     "input": [
      "# given data\n",
      "n_i=2.5*10**13 # in /cm**3\n",
      "rho=0.039 # in ohm-cm\n",
      "sigma_n=1/rho \n",
      "e=1.602*10**-19 # in C\n",
      "miu_e=3600 # in cm**2/V-s\n",
      "#since sigma_n = n*e*miu_e = N_D*e*miu_e\n",
      "N_D=sigma_n/(e*miu_e) \n",
      "n=N_D # (approx)\n",
      "print \"Concentration of electrons is : %0.2e\"%(n),\" /cm**3\" \n",
      "p=n_i**2/n \n",
      "print \"Concentration of holes is : %0.1e\"%(p),\" /cm**3\" "
     ],
     "language": "python",
     "metadata": {},
     "outputs": [
      {
       "output_type": "stream",
       "stream": "stdout",
       "text": [
        "Concentration of electrons is : 4.45e+16  /cm**3\n",
        "Concentration of holes is : 1.4e+10  /cm**3\n"
       ]
      }
     ],
     "prompt_number": 3
    },
    {
     "cell_type": "heading",
     "level": 2,
     "metadata": {},
     "source": [
      "Exa3.4 page 133"
     ]
    },
    {
     "cell_type": "code",
     "collapsed": false,
     "input": [
      "from __future__ import division\n",
      "# given data\n",
      "SiliconAtom=5*10**22 # unit less (Number of silicon atom)\n",
      "DonorImpurity=1/10**6 \n",
      "n_i=1.45*10**10 # in cm**-3\n",
      "e=1.602*10**-19 # in C\n",
      "miu_e=1300 # taking miu_e for Si as 1300 cm**2/V-s\n",
      "# (i) Donor atom concentraion\n",
      "# Formula N_D= Number of silicon atoms/cm**3 * donor impurity\n",
      "N_D=SiliconAtom*DonorImpurity \n",
      "print \"(i) Donor atom concentration is : \",(N_D),\" per cm**3\" \n",
      "\n",
      "# (ii) Mobile electron concentration\n",
      "n=N_D  # (approx.)\n",
      "print \"(ii) Mobile electron concentration is : \",(n),\" per cm**3\" \n",
      "\n",
      "# (iii) Hole concentration\n",
      "p=n_i**2/N_D \n",
      "print \"(iii) Hole concentration is : %0.3e\"%(p),\" /cm**3\" \n",
      "\n",
      "#(iv) conductivity of doped silicon sample\n",
      "sigma=n*e*miu_e \n",
      "print \"(iv) conductivity of doped silicon sample is : \",(sigma),\" S/cm\" \n",
      "\n",
      "rho=1/sigma \n",
      "#(v) resistance of given semiconductor\n",
      "l=0.5 # in cm\n",
      "a=(50*10**-4)**2\n",
      "R=rho*l/a \n",
      "print \"(v) Resistance of give semiconductor is : %0.f\"%(R),\" ohm\" "
     ],
     "language": "python",
     "metadata": {},
     "outputs": [
      {
       "output_type": "stream",
       "stream": "stdout",
       "text": [
        "(i) Donor atom concentration is :  5e+16  per cm**3\n",
        "(ii) Mobile electron concentration is :  5e+16  per cm**3\n",
        "(iii) Hole concentration is : 4.205e+03  /cm**3\n",
        "(iv) conductivity of doped silicon sample is :  10.413  S/cm\n",
        "(v) Resistance of give semiconductor is : 1921  ohm\n"
       ]
      }
     ],
     "prompt_number": 4
    },
    {
     "cell_type": "heading",
     "level": 2,
     "metadata": {},
     "source": [
      "Exa3.5 page 133"
     ]
    },
    {
     "cell_type": "code",
     "collapsed": false,
     "input": [
      "# given data\n",
      "n_i=1.4*10**18 # in m**3\n",
      "N_D=1.4*10**24 # in m**3\n",
      "n=N_D # (approx)\n",
      "p=n_i**2/n \n",
      "# let Ratio of electron to hole concentration = r\n",
      "r=n/p \n",
      "print \"Ratio of electron to hole concentration is : \",(r)"
     ],
     "language": "python",
     "metadata": {},
     "outputs": [
      {
       "output_type": "stream",
       "stream": "stdout",
       "text": [
        "Ratio of electron to hole concentration is :  1e+12\n"
       ]
      }
     ],
     "prompt_number": 5
    },
    {
     "cell_type": "heading",
     "level": 2,
     "metadata": {},
     "source": [
      "Exa3.6 page 138"
     ]
    },
    {
     "cell_type": "code",
     "collapsed": false,
     "input": [
      "# given data\n",
      "n_i=2.5*10**13 # in cm**3\n",
      "e=1.6*10**-19 # in coulomb\n",
      "miu_h=1800 # in cm**2/V-s\n",
      "miu_e=3800 # in cm**2/V-s\n",
      "sigma_i=n_i*e*(miu_e+miu_h) \n",
      "print \"Intrinsic conductivity is : \",(sigma_i),\" /ohm-cm\" \n",
      "rho_i=1/sigma_i \n",
      "print \"Intrinsic resistiviry is : %0.2f\"%(rho_i),\" ohm-cm\""
     ],
     "language": "python",
     "metadata": {},
     "outputs": [
      {
       "output_type": "stream",
       "stream": "stdout",
       "text": [
        "Intrinsic conductivity is :  0.0224  /ohm-cm\n",
        "Intrinsic resistiviry is : 44.64  ohm-cm\n"
       ]
      }
     ],
     "prompt_number": 6
    },
    {
     "cell_type": "heading",
     "level": 2,
     "metadata": {},
     "source": [
      "Exa3.7 page 138"
     ]
    },
    {
     "cell_type": "code",
     "collapsed": false,
     "input": [
      "# given data\n",
      "rho_i=0.47 # in ohm-meter\n",
      "sigma_i=1/rho_i \n",
      "miu_e=0.39 # in m**2/V-s\n",
      "miu_h=0.19 # in m**2/V-s\n",
      "e=1.6*10**-19 # in C\n",
      "\n",
      "# since sigma_i=n_i*e*(miu_e+miu_h) \n",
      "n_i=sigma_i/(e*(miu_e+miu_h)) \n",
      "# so Density of electrons = Intrinsic Concentration,n_i\n",
      "print \"Density of electons is : %0.3e\"%(n_i),\" /m**3\" \n",
      "E=10**4 # in V/m\n",
      "v_n=miu_e*E \n",
      "print \"Drift velocity of electrons is : \",(v_n),\" m/s\" \n",
      "v_h=miu_h*E \n",
      "print \"Drift velocity of holes is : \",(v_h),\" m/s\" "
     ],
     "language": "python",
     "metadata": {},
     "outputs": [
      {
       "output_type": "stream",
       "stream": "stdout",
       "text": [
        "Density of electons is : 2.293e+19  /m**3\n",
        "Drift velocity of electrons is :  3900.0  m/s\n",
        "Drift velocity of holes is :  1900.0  m/s\n"
       ]
      }
     ],
     "prompt_number": 7
    },
    {
     "cell_type": "heading",
     "level": 2,
     "metadata": {},
     "source": [
      "Exa3.8 page 138"
     ]
    },
    {
     "cell_type": "code",
     "collapsed": false,
     "input": [
      "# given data\n",
      "n_i=1.5*10**10 # in /cm**3\n",
      "miu_e=1300 # in cm**2/V-s\n",
      "miu_h=450 # in cm**2/V-s\n",
      "e=1.6*10**-19 # in C  (charge of electrons)\n",
      "sigma_i=n_i*e*(miu_e+miu_h) \n",
      "print \"Conductivity of silicon (intrinsic) is : \",(sigma_i),\" /ohm-cm\" \n",
      "N_A=10**18 # in /cm**3\n",
      "print \"conductivity of the resulting P-type silicon semiconductor\"\n",
      "sigma_p=e*N_A*miu_h \n",
      "print (sigma_p),\" /ohm-cm\" "
     ],
     "language": "python",
     "metadata": {},
     "outputs": [
      {
       "output_type": "stream",
       "stream": "stdout",
       "text": [
        "Conductivity of silicon (intrinsic) is :  4.2e-06  /ohm-cm\n",
        "conductivity of the resulting P-type silicon semiconductor\n",
        "72.0  /ohm-cm\n"
       ]
      }
     ],
     "prompt_number": 8
    },
    {
     "cell_type": "heading",
     "level": 2,
     "metadata": {},
     "source": [
      "Exa3.9 page 139"
     ]
    },
    {
     "cell_type": "code",
     "collapsed": false,
     "input": [
      "# given data\n",
      "n_i=2.5*10**13 # in /m**3\n",
      "miu_e=3800 # in cm**2/V-s\n",
      "miu_h=1800 # in cm**2/V-s\n",
      "e=1.6*10**-19 # in C  (charge of electrons)\n",
      "sigma_i=n_i*e*(miu_e+miu_h) \n",
      "print \"Intrinsic conductivity is : \",(sigma_i),\" /ohm-cm\" \n",
      "# Let Number of germanium atoms/cm**3 = no_g\n",
      "no_g=4.41*10**22 \n",
      "# since Donor impurity = 1 donor atom / 10**7 germanium atoms, so \n",
      "DonorImpurity=10**-7 \n",
      "N_D=no_g*DonorImpurity \n",
      "n=N_D  # (approx)\n",
      "p=n_i**2/N_D \n",
      "# so\n",
      "sigma_n=e*N_D*miu_e \n",
      "print \"conductivity in N-type germanium semiconductor is : %0.2f\"%(sigma_n),\" /ohm-cm\" "
     ],
     "language": "python",
     "metadata": {},
     "outputs": [
      {
       "output_type": "stream",
       "stream": "stdout",
       "text": [
        "Intrinsic conductivity is :  0.0224  /ohm-cm\n",
        "conductivity in N-type germanium semiconductor is : 2.68  /ohm-cm\n"
       ]
      }
     ],
     "prompt_number": 9
    },
    {
     "cell_type": "heading",
     "level": 2,
     "metadata": {},
     "source": [
      "Exa3.10 page 139"
     ]
    },
    {
     "cell_type": "code",
     "collapsed": false,
     "input": [
      "# given data\n",
      "e=1.6*10**-19 #in C\n",
      "miu_e=.38 # in m**2/V-s\n",
      "miu_h=.18 # in m**2/V-s\n",
      "l=25 # in mm (length)\n",
      "l=l*10**-3 # in m \n",
      "w=4 # in mm (width)\n",
      "w=w*10**-3 # in m\n",
      "t=1.5 # in mm (thickness)\n",
      "t=t*10**-3 # in m\n",
      "V=10 # in V\n",
      "l=25 # in mm\n",
      "l=l*10**-3 #in m\n",
      "E=V/l \n",
      "#(i) \n",
      "v_e=miu_e*E \n",
      "v_h=miu_h*E \n",
      "print \"Electron drift velocity is : \",(v_e),\" m/s\" \n",
      "print \"Hole drift velocity is : \",(v_h),\" m/s\" \n",
      "n_i=2.5*10**19 #in /m**3\n",
      "#(ii)\n",
      "sigma_i=n_i*e*(miu_e+miu_h) \n",
      "print \"Intrinsic conductiviry of Ge is : \",(sigma_i),\" /ohm-cm\" \n",
      "#(iii)\n",
      "a=w*t \n",
      "I=sigma_i*E*a # in amp\n",
      "I=I*10**3 # in m A\n",
      "print \"Total current is : \",(I),\" mA\" "
     ],
     "language": "python",
     "metadata": {},
     "outputs": [
      {
       "output_type": "stream",
       "stream": "stdout",
       "text": [
        "Electron drift velocity is :  152.0  m/s\n",
        "Hole drift velocity is :  72.0  m/s\n",
        "Intrinsic conductiviry of Ge is :  2.24  /ohm-cm\n",
        "Total current is :  5.376  mA\n"
       ]
      }
     ],
     "prompt_number": 10
    },
    {
     "cell_type": "heading",
     "level": 2,
     "metadata": {},
     "source": [
      "Exa3.11 page 139"
     ]
    },
    {
     "cell_type": "code",
     "collapsed": false,
     "input": [
      "# given data\n",
      "k_desh=1.38*10**-23 # in J degree**-1\n",
      "e=1.602*10**-19 # in C\n",
      "miu_e=3600 # in cm**2/V-s\n",
      "miu_h=1700 # in cm**2/V-s\n",
      "T=300 # in K\n",
      "D_e=miu_e*k_desh*T/e \n",
      "print \"Diffusion constant of electrons is : %0.f\"%(D_e),\" cm**2/s\" \n",
      "D_h=miu_h*k_desh*T/e \n",
      "print \"Diffusion constant of holes is : %0.2f\"%(D_h),\" cm**2/s\" "
     ],
     "language": "python",
     "metadata": {},
     "outputs": [
      {
       "output_type": "stream",
       "stream": "stdout",
       "text": [
        "Diffusion constant of electrons is : 93  cm**2/s\n",
        "Diffusion constant of holes is : 43.93  cm**2/s\n"
       ]
      }
     ],
     "prompt_number": 11
    },
    {
     "cell_type": "heading",
     "level": 2,
     "metadata": {},
     "source": [
      "Exa3.12 page 143"
     ]
    },
    {
     "cell_type": "code",
     "collapsed": false,
     "input": [
      "# given data\n",
      "e=1.6*10**-19 # in coulomb\n",
      "Resistivity=9*10**-3 # in ohm-m\n",
      "R_H=3.6*10**-4 # in m**3 coulomb**-1  (Hall Coefficient)\n",
      "sigma=1/Resistivity \n",
      "rho=1/R_H \n",
      "n=rho/e \n",
      "print \"Density of charge carriers is : %0.5e\"%(n),\" /m^3\" \n",
      "miu=sigma*R_H \n",
      "print \"Mobility is : \",(miu),\" m^2/V-s\" "
     ],
     "language": "python",
     "metadata": {},
     "outputs": [
      {
       "output_type": "stream",
       "stream": "stdout",
       "text": [
        "Density of charge carriers is : 1.73611e+22  /m^3\n",
        "Mobility is :  0.04  m^2/V-s\n"
       ]
      }
     ],
     "prompt_number": 12
    },
    {
     "cell_type": "heading",
     "level": 2,
     "metadata": {},
     "source": [
      "Exa3.13 page 143"
     ]
    },
    {
     "cell_type": "code",
     "collapsed": false,
     "input": [
      "# given data\n",
      "E_x=100 # in V/m\n",
      "e=1.6*10**-19 # in C\n",
      "R_H=0.0145 # in m**3/coulomb\n",
      "miu_n=0.36 # in m**2/volt-second\n",
      "# Formula R_H=1/(n*e)\n",
      "n=1/(R_H*e) \n",
      "sigma=n*e*miu_n \n",
      "J=sigma*E_x \n",
      "print \"Current density is : %0.f\"%(J),\" A per m**2\" "
     ],
     "language": "python",
     "metadata": {},
     "outputs": [
      {
       "output_type": "stream",
       "stream": "stdout",
       "text": [
        "Current density is : 2483  A per m**2\n"
       ]
      }
     ],
     "prompt_number": 13
    },
    {
     "cell_type": "heading",
     "level": 2,
     "metadata": {},
     "source": [
      "Exa3.14 page 144"
     ]
    },
    {
     "cell_type": "code",
     "collapsed": false,
     "input": [
      "# given data\n",
      "Resistivity=9 # in milli-ohm-m\n",
      "Resistivity=9*10**-3 # in ohm-m\n",
      "miu=0.03 # in m**2/V-s\n",
      "sigma=1/Resistivity \n",
      "R_H=miu/sigma \n",
      "print \"Half coefficient is : %0.1e\"%(R_H),\" m**3/C\" "
     ],
     "language": "python",
     "metadata": {},
     "outputs": [
      {
       "output_type": "stream",
       "stream": "stdout",
       "text": [
        "Half coefficient is : 2.7e-04  m**3/C\n"
       ]
      }
     ],
     "prompt_number": 14
    },
    {
     "cell_type": "heading",
     "level": 2,
     "metadata": {},
     "source": [
      "Exa3.15 page 144"
     ]
    },
    {
     "cell_type": "code",
     "collapsed": false,
     "input": [
      "# given data\n",
      "E_x=5 # in V/cm\n",
      "miu_e=3800 # in cm**2/V-s\n",
      "B_z=0.1 # in Wb/m**2\n",
      "d=4 # in mm\n",
      "d=d*10**-3 # in m\n",
      "v=miu_e*E_x #in cm/second\n",
      "v=v*10**-2 # in m/second\n",
      "V_H=B_z*v*d # in V\n",
      "V_H=V_H*10**3 # in m V\n",
      "print \"Hall voltage is : \",(V_H),\" mV\" "
     ],
     "language": "python",
     "metadata": {},
     "outputs": [
      {
       "output_type": "stream",
       "stream": "stdout",
       "text": [
        "Hall voltage is :  76.0  mV\n"
       ]
      }
     ],
     "prompt_number": 15
    },
    {
     "cell_type": "heading",
     "level": 2,
     "metadata": {},
     "source": [
      "Exa3.16 page 144"
     ]
    },
    {
     "cell_type": "code",
     "collapsed": false,
     "input": [
      "# given data\n",
      "rho=200 # in Kilo ohm-cm\n",
      "rho=rho*10**-2 # in kilo ohm m\n",
      "rho=rho*10**3 # in ohm meter\n",
      "sigma=1/rho \n",
      "V_H=50 # in mV\n",
      "V_H=V_H*10**-3 #in V\n",
      "I=10 # in miu A\n",
      "I=I*10**-6 #in A\n",
      "B_z=0.1 # in Wb/m**2\n",
      "w=3 #in mm\n",
      "w=w*10**-3 #in meter\n",
      "R_H=V_H*w/(B_z*I) \n",
      "print \"Mobility of holes in p-type silicon bar is : \"\n",
      "miu_h=sigma*R_H \n",
      "print str(miu_h),\" m**2/V-s\" "
     ],
     "language": "python",
     "metadata": {},
     "outputs": [
      {
       "output_type": "stream",
       "stream": "stdout",
       "text": [
        "Mobility of holes in p-type silicon bar is : \n",
        "0.075  m**2/V-s\n"
       ]
      }
     ],
     "prompt_number": 16
    },
    {
     "cell_type": "heading",
     "level": 2,
     "metadata": {},
     "source": [
      "Exa3.17 page 144"
     ]
    },
    {
     "cell_type": "code",
     "collapsed": false,
     "input": [
      "# given data\n",
      "N_D=1*10**21 # in /m**3\n",
      "B_Z=0.2 # in T\n",
      "J=600 # in A/m**2\n",
      "n=N_D \n",
      "d=4 #in mm\n",
      "d=d*10**-3 # in meterr\n",
      "e=1.6*10**-19 # in C  (electron charge)\n",
      "# Formula  V_H*w/(B_Z*I) = 1/(n*e) , hence V_H=B_Z*I/(n*e*w)\n",
      "# where I=J*w*d\n",
      "# putting I=J*w*d in V_H=B_Z*I/(n*e*w), we get\n",
      "V_H=B_Z*J*d/(n*e) # in V\n",
      "V_H=V_H*10**3 # in mV\n",
      "print \"Hall Voltage is : \",(V_H),\" mV\" "
     ],
     "language": "python",
     "metadata": {},
     "outputs": [
      {
       "output_type": "stream",
       "stream": "stdout",
       "text": [
        "Hall Voltage is :  3.0  mV\n"
       ]
      }
     ],
     "prompt_number": 17
    },
    {
     "cell_type": "heading",
     "level": 2,
     "metadata": {},
     "source": [
      "Exa3.18 page 145"
     ]
    },
    {
     "cell_type": "code",
     "collapsed": false,
     "input": [
      "# given data\n",
      "w=0.1 # in mm\n",
      "B_Z=0.6 # in T\n",
      "R_H=3.8*10**-4 # in m**3/C\n",
      "I=10 # in mA\n",
      "I=I*10**-3 #in A\n",
      "V_H=R_H*B_Z*I/w # in V\n",
      "V_H=V_H*10**6 # in V\n",
      "print \"Hall voltage is : \",(V_H),\" micro volt\" "
     ],
     "language": "python",
     "metadata": {},
     "outputs": [
      {
       "output_type": "stream",
       "stream": "stdout",
       "text": [
        "Hall voltage is :  22.8  micro volt\n"
       ]
      }
     ],
     "prompt_number": 18
    },
    {
     "cell_type": "heading",
     "level": 2,
     "metadata": {},
     "source": [
      "Exa3.19 page 145"
     ]
    },
    {
     "cell_type": "code",
     "collapsed": false,
     "input": [
      "# given data\n",
      "Resistivity=9.23*10**-3 # in ohm-m\n",
      "R_H=3.84*10**-4 #in m**3/C   (Hall Coefficient)\n",
      "sigma=1/Resistivity \n",
      "rho=1/R_H \n",
      "e=1.6*10**-19 # in C (electron charge)\n",
      "n=rho/e \n",
      "print \"Density of charge carriers is : %0.3e\"%(n),\" /m**2\" \n",
      "miu=sigma*R_H \n",
      "print \"Mobility is : \",round(miu,4),\" m**2/V-s\""
     ],
     "language": "python",
     "metadata": {},
     "outputs": [
      {
       "output_type": "stream",
       "stream": "stdout",
       "text": [
        "Density of charge carriers is : 1.628e+22  /m**2\n",
        "Mobility is :  0.0416  m**2/V-s\n"
       ]
      }
     ],
     "prompt_number": 19
    },
    {
     "cell_type": "heading",
     "level": 2,
     "metadata": {},
     "source": [
      "Exa3.20 page 145"
     ]
    },
    {
     "cell_type": "code",
     "collapsed": false,
     "input": [
      "from math import atan, degrees\n",
      "# given data\n",
      "B=0.48 # in Wb/m**2\n",
      "R_H=3.55*10**-4 # in m**3/C\n",
      "Resistivity=.00912 # in ohm\n",
      "sigma=1/Resistivity \n",
      "theta_H=degrees(atan(sigma*B*R_H) )\n",
      "print \"Hall angle is : \",round(theta_H,4),\" degree\""
     ],
     "language": "python",
     "metadata": {},
     "outputs": [
      {
       "output_type": "stream",
       "stream": "stdout",
       "text": [
        "Hall angle is :  1.0704  degree\n"
       ]
      }
     ],
     "prompt_number": 20
    },
    {
     "cell_type": "heading",
     "level": 2,
     "metadata": {},
     "source": [
      "Exa3.21 page 154"
     ]
    },
    {
     "cell_type": "code",
     "collapsed": false,
     "input": [
      "# given data\n",
      "T=27 # in degree C\n",
      "T=T+273 # in K\n",
      "# Let E_C - E_F =E_CF\n",
      "E_CF=0.3 # in eV\n",
      "# Formula E_C - E_F = k*T*log(n_C/N_D)\n",
      "# Let log(n_C/N_D) = L, so\n",
      "L=E_CF/T \n",
      "T_desh=55 # in degree C\n",
      "T_desh=T_desh+273 # in K\n",
      "#At temperature T_desh\n",
      "new_fermi_level= T_desh*L   # where L=log(n_C/N_D)\n",
      "print \"The new position of Fermi Level is : \",(new_fermi_level),\" V\" "
     ],
     "language": "python",
     "metadata": {},
     "outputs": [
      {
       "output_type": "stream",
       "stream": "stdout",
       "text": [
        "The new position of Fermi Level is :  0.328  V\n"
       ]
      }
     ],
     "prompt_number": 21
    },
    {
     "cell_type": "heading",
     "level": 2,
     "metadata": {},
     "source": [
      "Exa3.22 page 154"
     ]
    },
    {
     "cell_type": "code",
     "collapsed": false,
     "input": [
      "from math import log\n",
      "# given data\n",
      "N_A=8*10**14 # in /cm**3\n",
      "N_D=N_A \n",
      "n_i=2*10**13 # in /cm**3\n",
      "k=8.61*10**-5 # in eV/K\n",
      "T=300 # in K\n",
      "V_0=k*T*log(N_D*N_A/n_i**2) \n",
      "print \"Potential barrier is : %0.2f\"%(V_0),\" V\" "
     ],
     "language": "python",
     "metadata": {},
     "outputs": [
      {
       "output_type": "stream",
       "stream": "stdout",
       "text": [
        "Potential barrier is : 0.19  V\n"
       ]
      }
     ],
     "prompt_number": 22
    },
    {
     "cell_type": "heading",
     "level": 2,
     "metadata": {},
     "source": [
      "Exa3.23 page 155"
     ]
    },
    {
     "cell_type": "code",
     "collapsed": false,
     "input": [
      "# given data\n",
      "# (i) when\n",
      "I_D=2 # in mA\n",
      "I_D=I_D*10**-3 # in A\n",
      "V_D=0.5 # in V\n",
      "R1=V_D/I_D \n",
      "print \"Resistace is : \",(R1),\" ohm\" \n",
      "# (ii) when\n",
      "I_D=20 # in mA\n",
      "I_D=I_D*10**-3 # in A\n",
      "V_D=0.8 # in V\n",
      "R2=V_D/I_D \n",
      "print \"Resistace is : \",(R2),\" ohm\" \n",
      "# (ii) when\n",
      "I_D=-1 # in miu A\n",
      "I_D=I_D*10**-6 # in A\n",
      "V_D=-10 # in V\n",
      "R3=V_D/I_D # in ohm\n",
      "R3=R3*10**-6 # in M ohm\n",
      "print \"Resistace is : \",(R3),\" M ohm\" "
     ],
     "language": "python",
     "metadata": {},
     "outputs": [
      {
       "output_type": "stream",
       "stream": "stdout",
       "text": [
        "Resistace is :  250.0  ohm\n",
        "Resistace is :  40.0  ohm\n",
        "Resistace is :  10.0  M ohm\n"
       ]
      }
     ],
     "prompt_number": 23
    },
    {
     "cell_type": "heading",
     "level": 2,
     "metadata": {},
     "source": [
      "Exa3.24 page 155"
     ]
    },
    {
     "cell_type": "code",
     "collapsed": false,
     "input": [
      "from math import exp\n",
      "# given data\n",
      "E_G=0.72 # in eV\n",
      "E_F=E_G/2 # in eV\n",
      "k=8.61*10**-5  # in eV/K\n",
      "T=300 # in K\n",
      "# Formula n_C/n = 1/1+%e**(E_G-E_F)/k*T\n",
      "# Let n_C/n = N\n",
      "N=1/(1+exp((E_G-E_F)/(k*T))) \n",
      "\n",
      "print \"Fraction of the total number of electrons (conduction band as well as valence band) : %0.2e\"%(N)"
     ],
     "language": "python",
     "metadata": {},
     "outputs": [
      {
       "output_type": "stream",
       "stream": "stdout",
       "text": [
        "Fraction of the total number of electrons (conduction band as well as valence band) : 8.85e-07\n"
       ]
      }
     ],
     "prompt_number": 24
    },
    {
     "cell_type": "heading",
     "level": 2,
     "metadata": {},
     "source": [
      "Exa3.25 page 160"
     ]
    },
    {
     "cell_type": "code",
     "collapsed": false,
     "input": [
      "# given data\n",
      "I_0=.15 # in micro amp\n",
      "I_0=I_0*10**-6 # in A\n",
      "V=0.12 # in V\n",
      "V_T=26 # in mV\n",
      "V_T=V_T*10**-3 # in V\n",
      "I=I_0*(exp(V/V_T)-1) # in amp\n",
      "I=I*10**6 # in micro amp\n",
      "print \"Large reverse bias current is : %0.f\"%(I),\" micro amp\" "
     ],
     "language": "python",
     "metadata": {},
     "outputs": [
      {
       "output_type": "stream",
       "stream": "stdout",
       "text": [
        "Large reverse bias current is : 15  micro amp\n"
       ]
      }
     ],
     "prompt_number": 25
    },
    {
     "cell_type": "heading",
     "level": 2,
     "metadata": {},
     "source": [
      "Exa3.26 page 160"
     ]
    },
    {
     "cell_type": "code",
     "collapsed": false,
     "input": [
      "# given data\n",
      "I=.01 # in A\n",
      "I_0=2.5*10**-6 # in  amp\n",
      "nita=2 # for silicon\n",
      "V_T=26 # in mV\n",
      "V_T=V_T*10**-3 # in V\n",
      "# Formula I=I_0*(%e**(V/(nita*V_T))-1) \n",
      "V=nita*V_T*log(I/I_0+1) \n",
      "print \"Forward voltage is : %0.2f\"%(V),\" V\"   "
     ],
     "language": "python",
     "metadata": {},
     "outputs": [
      {
       "output_type": "stream",
       "stream": "stdout",
       "text": [
        "Forward voltage is : 0.43  V\n"
       ]
      }
     ],
     "prompt_number": 26
    },
    {
     "cell_type": "heading",
     "level": 2,
     "metadata": {},
     "source": [
      "Exa3.27 page 160"
     ]
    },
    {
     "cell_type": "code",
     "collapsed": false,
     "input": [
      "# given data\n",
      "N_D=10**21 # in m**-3\n",
      "N_A=10**22 # in m**-3\n",
      "D_e=3.4*10**-3 # in m**2/s\n",
      "D_h=1.2*10**-3 # in m**2/s\n",
      "L_e=7.1*10**-4 # in m\n",
      "L_h=3.5*10**-4 # in m\n",
      "n_i=1.602*10**16 # in /m**3\n",
      "e=1.6*10**-19 # in C (electron charge)\n",
      "# Formula  I_0=a*e*[D_h/(L_h*N_D) + D_e/(L_e*N_A)]*n_i**2\n",
      "#and\n",
      "# Reverse saturation current density = I_0/a = [D_h/(L_h*N_D) + D_e/(L_e*N_A)]*e*n_i**2 , So\n",
      "CurrentDensity= (D_h/(L_h*N_D) + D_e/(L_e*N_A))*e*n_i**2 # in A\n",
      "CurrentDensity=CurrentDensity*10**6 # in micro A\n",
      "print \"Reverse saturation current density is : %0.2f\"%(CurrentDensity),\"  micro amp\" "
     ],
     "language": "python",
     "metadata": {},
     "outputs": [
      {
       "output_type": "stream",
       "stream": "stdout",
       "text": [
        "Reverse saturation current density is : 0.16   micro amp\n"
       ]
      }
     ],
     "prompt_number": 27
    },
    {
     "cell_type": "heading",
     "level": 2,
     "metadata": {},
     "source": [
      "Exa3.28 page 163"
     ]
    },
    {
     "cell_type": "code",
     "collapsed": false,
     "input": [
      "# given data'\n",
      "N_D=10**17*10**6 # in m**-3\n",
      "N_A=0.5*10**16*10**6 # in atoms/m**3\n",
      "epsilon_r=10 # in F/m\n",
      "epsilon_o=8.85*10**-12 # in F/m\n",
      "epsilon=epsilon_r*epsilon_o \n",
      "e=1.602*10**-19 # in C (electron charge)\n",
      "# (i) when no external voltage is applied i.e.\n",
      "V=0 \n",
      "V_B=0.7 # in V\n",
      "W=sqrt(2*epsilon*V_B/e*(1/N_A+1/N_D)) \n",
      "print \"Junction width is : %0.3e\"%(W),\" m\" \n",
      "# (ii) when external voltage of -10 V is applied i.e.\n",
      "V=-10 # in V\n",
      "V_o=0.7 # in V\n",
      "V_B=V_o-V \n",
      "W=sqrt(2*epsilon*V_B/e*(1/N_A+1/N_D)) \n",
      "print \"Junction width is : %0.3e\"%(W),\" m\" \n",
      "\n",
      "# Note: Answer in the book is wrong"
     ],
     "language": "python",
     "metadata": {},
     "outputs": [
      {
       "output_type": "stream",
       "stream": "stdout",
       "text": [
        "Junction width is : 4.030e-07  m\n",
        "Junction width is : 1.576e-06  m\n"
       ]
      }
     ],
     "prompt_number": 28
    }
   ],
   "metadata": {}
  }
 ]
}