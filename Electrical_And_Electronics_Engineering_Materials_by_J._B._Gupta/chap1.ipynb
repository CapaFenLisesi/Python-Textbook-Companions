{
 "metadata": {
  "name": "",
  "signature": "sha256:8e8826d7c281bfe44efc7f7351ec8ba5a5829ab40f667469ca3e50c8e761a1f8"
 },
 "nbformat": 3,
 "nbformat_minor": 0,
 "worksheets": [
  {
   "cells": [
    {
     "cell_type": "heading",
     "level": 1,
     "metadata": {},
     "source": [
      "Chapter 1 - Crystal Structures of Materials"
     ]
    },
    {
     "cell_type": "heading",
     "level": 2,
     "metadata": {},
     "source": [
      "Exa3 page 25"
     ]
    },
    {
     "cell_type": "code",
     "collapsed": false,
     "input": [
      "from __future__ import division\n",
      "from math import sqrt\n",
      "#given data\n",
      "#atomic radius\n",
      "r=1.278  #in Angstrum\n",
      "#atomic weight\n",
      "aw=63.5 \n",
      "#Avogadro's number\n",
      "an=6.023*10**23 \n",
      "#copper has FCC structure for which\n",
      "a=(4*r)/sqrt(2) # in Angstrum\n",
      "a=a*10**-10 #in m\n",
      "#Mass of one atom \n",
      "m=aw/an #in gm\n",
      "m=m*10**-3 #in kg\n",
      "#volume of one unit cell of copper crystal,\n",
      "V=a**3 #in meter cube\n",
      "#Number of atoms present in one unit cell of Cu(FCC Structure),\n",
      "n=4 \n",
      "#Density of crystal\n",
      "rho=(m*n)/V #in kg/m**3\n",
      "print \"Density of crystal is : \",round(rho,0),\"kg/m**3\" "
     ],
     "language": "python",
     "metadata": {},
     "outputs": [
      {
       "output_type": "stream",
       "stream": "stdout",
       "text": [
        "Density of crystal is :  8929.0 kg/m**3\n"
       ]
      }
     ],
     "prompt_number": 1
    },
    {
     "cell_type": "heading",
     "level": 2,
     "metadata": {},
     "source": [
      "Exa4 page 27"
     ]
    },
    {
     "cell_type": "code",
     "collapsed": false,
     "input": [
      "from math import pi, sin\n",
      "#given data :\n",
      "#wavelength\n",
      "lamda=1.539  #in Angstrum\n",
      "#angle\n",
      "theta=22.5  # in degree\n",
      "n=1 #(first order)\n",
      "\n",
      "# Formula n*lamda=2*d*sin(theta) , so\n",
      "# interplaner distance,\n",
      "d=lamda/(2*sin(theta*pi/180)) \n",
      "print \"Interplaner distance is : \",round(d,2),\"  Angstrum\""
     ],
     "language": "python",
     "metadata": {},
     "outputs": [
      {
       "output_type": "stream",
       "stream": "stdout",
       "text": [
        "Interplaner distance is :  2.01   Angstrum\n"
       ]
      }
     ],
     "prompt_number": 2
    },
    {
     "cell_type": "heading",
     "level": 2,
     "metadata": {},
     "source": [
      "Exa5 page 27"
     ]
    },
    {
     "cell_type": "code",
     "collapsed": false,
     "input": [
      "#given data :\n",
      "n=2 \n",
      "d=0.4 # in nenometer\n",
      "d=d*10**-9 # in meter\n",
      "theta=16.8/2 # in degree\n",
      "#using Bragg's equation we have n*lamda=2*d*sin(theta), so\n",
      "lamda=(2*d*sin(8.4*pi/180))/n \n",
      "print \"Wavelength of X-rays used is : \",round(lamda*10**10,3),\" Angstrum\" "
     ],
     "language": "python",
     "metadata": {},
     "outputs": [
      {
       "output_type": "stream",
       "stream": "stdout",
       "text": [
        "Wavelength of X-rays used is :  0.584  Angstrum\n"
       ]
      }
     ],
     "prompt_number": 3
    },
    {
     "cell_type": "heading",
     "level": 2,
     "metadata": {},
     "source": [
      "Exa6 page 28"
     ]
    },
    {
     "cell_type": "code",
     "collapsed": false,
     "input": [
      "#given data :\n",
      "a=3.15  #in Angstrum\n",
      "a=a*10**-10 #in meter\n",
      "#angle\n",
      "theta=20.2 #in degree\n",
      "n=1 #(first order)\n",
      "#for BCC crystal\n",
      "d110=a/sqrt(2) #in meter\n",
      "#Formula n*lamda=2*d*sin(theta)\n",
      "lamda=(2*d110*sin(theta*pi/180))/n #in meter\n",
      "print \"Wavelength is : \",round(lamda*10**10,2),\" Angstrum\""
     ],
     "language": "python",
     "metadata": {},
     "outputs": [
      {
       "output_type": "stream",
       "stream": "stdout",
       "text": [
        "Wavelength is :  1.54  Angstrum\n"
       ]
      }
     ],
     "prompt_number": 4
    },
    {
     "cell_type": "heading",
     "level": 2,
     "metadata": {},
     "source": [
      "Exa7 page 28"
     ]
    },
    {
     "cell_type": "code",
     "collapsed": false,
     "input": [
      "from math import asin, degrees\n",
      "#given data :\n",
      "lamda=0.842  #in Angstrum\n",
      "lamda=lamda*10**-10  # in meter\n",
      "#theta=8degree 35minutes\n",
      "theta=8+35/60 #in degree\n",
      "n=1 #(first order)\n",
      "#Formula n*lamda=2*d*sin(theta)\n",
      "d=n*lamda/(2*sin(pi/180*theta))\n",
      "#For third Order reflection :\n",
      "#Formula n*lamda=2*d*sin(theta)\n",
      "n=3 #order\n",
      "theta=degrees(asin(n*lamda/(2*d)) )\n",
      "print \"Angle of incidence for third order reflection\",round(theta),\"degree \" # Answer wrong in the textbook."
     ],
     "language": "python",
     "metadata": {},
     "outputs": [
      {
       "output_type": "stream",
       "stream": "stdout",
       "text": [
        "Angle of incidence for third order reflection 27.0 degree \n"
       ]
      }
     ],
     "prompt_number": 5
    }
   ],
   "metadata": {}
  }
 ]
}