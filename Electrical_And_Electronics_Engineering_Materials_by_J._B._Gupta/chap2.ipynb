{
 "metadata": {
  "name": "",
  "signature": "sha256:df0529c98b437c18203d09c26cf952aa676f19a5d6a69450a8afb37e90e41d49"
 },
 "nbformat": 3,
 "nbformat_minor": 0,
 "worksheets": [
  {
   "cells": [
    {
     "cell_type": "heading",
     "level": 1,
     "metadata": {},
     "source": [
      "Chapter 2 - Conductivity of Metals"
     ]
    },
    {
     "cell_type": "heading",
     "level": 2,
     "metadata": {},
     "source": [
      "Exa2.1 page 50"
     ]
    },
    {
     "cell_type": "code",
     "collapsed": false,
     "input": [
      "#given data :\n",
      "J=2.4  #in A/mm**2\n",
      "J=2.4*10**6  #in A/m**2\n",
      "n=5*10**28  #unitless\n",
      "e=1.6*10**-19  # in coulomb\n",
      "#Formula : J=e*n*v\n",
      "v=J/(e*n) #in m/s\n",
      "print \"Drift velocity is : \",(v),\" m/s or \",(v*10**3),\" mm/s\""
     ],
     "language": "python",
     "metadata": {},
     "outputs": [
      {
       "output_type": "stream",
       "stream": "stdout",
       "text": [
        "Drift velocity is :  0.0003  m/s or  0.3  mm/s\n"
       ]
      }
     ],
     "prompt_number": 41
    },
    {
     "cell_type": "heading",
     "level": 2,
     "metadata": {},
     "source": [
      "Exa2 page 50"
     ]
    },
    {
     "cell_type": "code",
     "collapsed": false,
     "input": [
      "#given data :\n",
      "#Electron density\n",
      "n=1*10**24 #unit less\n",
      "#Electron charge\n",
      "e=1.6*10**-19  # in coulomb\n",
      "#Drift velocity\n",
      "v=1.5*10**-2  # in meter per second\n",
      "#cross-sectional area\n",
      "A=1  # in centimeter square\n",
      "A=1*10**-4  # in meter square\n",
      "I=e*n*v*A # in ampere\n",
      "print \"Magnitude of current is :\",(I),\" A\""
     ],
     "language": "python",
     "metadata": {},
     "outputs": [
      {
       "output_type": "stream",
       "stream": "stdout",
       "text": [
        "Magnitude of current is : 0.24  A\n"
       ]
      }
     ],
     "prompt_number": 42
    },
    {
     "cell_type": "heading",
     "level": 2,
     "metadata": {},
     "source": [
      "Exa2.3 page 50"
     ]
    },
    {
     "cell_type": "code",
     "collapsed": false,
     "input": [
      "#given data :\n",
      "miu_e=7.04*10**-3  #in m**2/V-s\n",
      "n=5.8*10**28   # in /m**3\n",
      "e=1.6*10**-19  # in coulomb\n",
      "m=9.1*10**-31 #in kg\n",
      "#(i) Relaxation time,\n",
      "tau=miu_e/e*m \n",
      "print \"Relaxation time is : \",(tau),\" second\" \n",
      "sigma=(n*e*miu_e) \n",
      "#(ii) Resistivity of conductor,\n",
      "rho=1/sigma \n",
      "print \"Resistivity of conductor is : %0.3e\"%rho,\" ohm-meter\" "
     ],
     "language": "python",
     "metadata": {},
     "outputs": [
      {
       "output_type": "stream",
       "stream": "stdout",
       "text": [
        "Relaxation time is :  4.004e-14  second\n",
        "Resistivity of conductor is : 1.531e-08  ohm-meter\n"
       ]
      }
     ],
     "prompt_number": 43
    },
    {
     "cell_type": "heading",
     "level": 2,
     "metadata": {},
     "source": [
      "Exa4 page 50"
     ]
    },
    {
     "cell_type": "code",
     "collapsed": false,
     "input": [
      "#given data :\n",
      "rho=1.73*10**-8 #in ohm-meter\n",
      "toh=2.42*10**-14   #in second\n",
      "e=1.6*10**-19  #in C\n",
      "m=9.1*10**-31 #in kg\n",
      "sigma=1/rho \n",
      "#(i) Number of free electrons per m**3\n",
      "print \"Number of free electrons per cube meter is : \",(n)\n",
      "n=(m*sigma)/(e**2*toh) \n",
      "#(ii) Mobility of electrons,\n",
      "miu_e=(e*toh)/m \n",
      "print \"Mobility of electrons is : %0.3e\"%(miu_e),\" m**2/V-s\" \n",
      "#Note: Answer in the book is wrong"
     ],
     "language": "python",
     "metadata": {},
     "outputs": [
      {
       "output_type": "stream",
       "stream": "stdout",
       "text": [
        "Number of free electrons per cube meter is :  5.8e+28\n",
        "Mobility of electrons is : 4.255e-03  m**2/V-s\n"
       ]
      }
     ],
     "prompt_number": 44
    },
    {
     "cell_type": "heading",
     "level": 2,
     "metadata": {},
     "source": [
      "Exa5 page 51"
     ]
    },
    {
     "cell_type": "code",
     "collapsed": false,
     "input": [
      "#given data :\n",
      "rho=1.54*10**-8  #in ohm-meter\n",
      "#since sigma=1/roh\n",
      "sigma=1/rho \n",
      "n=5.8*10**28   #unit less\n",
      "e=1.6*10**-19  #in C (electron charge)\n",
      "m=9.1*10**-31 #in kg (mass of electron)\n",
      "#(i) Relaxation time\n",
      "toh=(sigma*m)/(n*e**2) \n",
      "print \"(i) Relaxation time of electrons is : %0.3e\"%(toh),\" seconds\" \n",
      "#(ii) Mobility of electrons,\n",
      "miu_e=(e*toh)/m \n",
      "print \"(ii) Mobility of electrons is : %0.3e\"%(miu_e),\" m**2/V-s\" "
     ],
     "language": "python",
     "metadata": {},
     "outputs": [
      {
       "output_type": "stream",
       "stream": "stdout",
       "text": [
        "(i) Relaxation time of electrons is : 3.980e-14  seconds\n",
        "(ii) Mobility of electrons is : 6.997e-03  m**2/V-s\n"
       ]
      }
     ],
     "prompt_number": 45
    },
    {
     "cell_type": "heading",
     "level": 2,
     "metadata": {},
     "source": [
      "Exa2.6 page 51"
     ]
    },
    {
     "cell_type": "code",
     "collapsed": false,
     "input": [
      "#given data :\n",
      "rho=1.7*10**-8  #in ohm-meter\n",
      "#since sigma=1/roh\n",
      "sigma=1/rho \n",
      "n=8.5*10**28   #unit less\n",
      "e=1.6*10**-19  #in C (electron charge)\n",
      "m=9.1*10**-31 #in kg\n",
      "# Relaxation time\n",
      "toh=(sigma*m)/(n*e**2) \n",
      "print \" Relaxation time of electrons is : %0.3e\"%(toh),\" seconds\" "
     ],
     "language": "python",
     "metadata": {},
     "outputs": [
      {
       "output_type": "stream",
       "stream": "stdout",
       "text": [
        " Relaxation time of electrons is : 2.460e-14  seconds\n"
       ]
      }
     ],
     "prompt_number": 46
    },
    {
     "cell_type": "heading",
     "level": 2,
     "metadata": {},
     "source": [
      "Exa2.7 page 51"
     ]
    },
    {
     "cell_type": "code",
     "collapsed": false,
     "input": [
      "#given data :\n",
      "E=100 #in V/m\n",
      "rho=1.5*10**-8  #in ohm-meter\n",
      "#since sigma=1/roh\n",
      "sigma=1/rho \n",
      "n=6*10**28   #unit less\n",
      "e=1.601*10**-19  #in C\n",
      "m=9.107*10**-31 #in kg\n",
      "# Relaxation time\n",
      "toh=(sigma*m)/(n*e**2) \n",
      "print \"(i) Relaxation time of electrons is : %0.3e\"%(toh),\" seconds\" \n",
      "#Drift velocity\n",
      "v=(e*E*toh)/m \n",
      "print \"(ii) Drift velocity is : %0.3f\"%(v),\" m/s\" "
     ],
     "language": "python",
     "metadata": {},
     "outputs": [
      {
       "output_type": "stream",
       "stream": "stdout",
       "text": [
        "(i) Relaxation time of electrons is : 3.948e-14  seconds\n",
        "(ii) Drift velocity is : 0.694  m/s\n"
       ]
      }
     ],
     "prompt_number": 47
    },
    {
     "cell_type": "heading",
     "level": 2,
     "metadata": {},
     "source": [
      "Exa2.8 page 52"
     ]
    },
    {
     "cell_type": "code",
     "collapsed": false,
     "input": [
      "from math import pi\n",
      "#given data :\n",
      "#Diameter of copper wire\n",
      "d=2 #in milimeter\n",
      "d=.002 #in meter\n",
      "#conductivity of copper\n",
      "nita=5.8*10**7 #in second per meter\n",
      "#Electron mobility\n",
      "miu_e=.0032 #in meter square per volt-second\n",
      "#Applied electric field\n",
      "E=20 #in mV/m\n",
      "E=.02  #in V/m\n",
      "e=1.6*10**-19 \n",
      "#(i) From eq. (2.13)\n",
      "#charge density\n",
      "n=nita/(e*miu_e) #in per meter cube\n",
      "print \"(i) Charge density is : %0.3e\"%(n),\" /meter cube\" \n",
      "#(ii) from eq. (2.9)\n",
      "#current density\n",
      "J=nita*E # in A/m**2\n",
      "print \"(ii) Current density is : \",(J),\" A/m**2\" \n",
      "#(iii) Current flowing in the wire I=J* Area of x-section of wire\n",
      "# Area of x-section of wire= (pi*d**2)/4\n",
      "I=(J*pi*d**2)/4 \n",
      "print \"(iii) Current flowing in the wire is : %0.2e\"%(I),\" A\" \n",
      "#(iv) form eq.2.14\n",
      "#Electron drift velocity\n",
      "v=miu_e*E \n",
      "print \"(iv) Electron drift velocity is : %0.1e\"%(v),\" m/s\" "
     ],
     "language": "python",
     "metadata": {},
     "outputs": [
      {
       "output_type": "stream",
       "stream": "stdout",
       "text": [
        "(i) Charge density is : 1.133e+29  /meter cube\n",
        "(ii) Current density is :  1160000.0  A/m**2\n",
        "(iii) Current flowing in the wire is : 3.64e+00  A\n",
        "(iv) Electron drift velocity is : 6.4e-05  m/s\n"
       ]
      }
     ],
     "prompt_number": 48
    },
    {
     "cell_type": "heading",
     "level": 2,
     "metadata": {},
     "source": [
      "Exa2.9 page 52"
     ]
    },
    {
     "cell_type": "code",
     "collapsed": false,
     "input": [
      "#given data\n",
      "rho=0.5  # in ohm-meter\n",
      "J=100  #in A/m**2\n",
      "miu_e=0.4  #in m**2/V-s\n",
      "E=J*rho  # since E=J/sigma\n",
      "# Formula v=miu_e*E\n",
      "v=miu_e*E \n",
      "print \"Electron drift velocity is : \",(v),\" m/s\" \n",
      "print \"Time taken by the electron to travel 10*10**-6 m in crystal =\",\n",
      "# let Time taken by the electron to travel 10*10**-6 m in crystal = t\n",
      "t=(10*10**-6)/v \n",
      "print (t),\"second\" "
     ],
     "language": "python",
     "metadata": {},
     "outputs": [
      {
       "output_type": "stream",
       "stream": "stdout",
       "text": [
        "Electron drift velocity is :  20.0  m/s\n",
        "Time taken by the electron to travel 10*10**-6 m in crystal = 5e-07 second\n"
       ]
      }
     ],
     "prompt_number": 49
    },
    {
     "cell_type": "heading",
     "level": 2,
     "metadata": {},
     "source": [
      "Exa10 page 52"
     ]
    },
    {
     "cell_type": "code",
     "collapsed": false,
     "input": [
      "#given data\n",
      "miu_e=0.17 #in m**2/V-s\n",
      "miu_h=0.035 #in m**2/V-s\n",
      "nita_i=1.1*10**16  #in /m**3\n",
      "e=1.6*10**-19 # in C (electron charge)\n",
      "# Intrinsic conductivity,\n",
      "sigma_i=(nita_i*e)*(miu_e+miu_h) \n",
      "IntrinsicResistivity=1/sigma_i \n",
      "print \"Intrinsic resistivity is : %0.2e\"%(IntrinsicResistivity),\" ohm-meter\" "
     ],
     "language": "python",
     "metadata": {},
     "outputs": [
      {
       "output_type": "stream",
       "stream": "stdout",
       "text": [
        "Intrinsic resistivity is : 2.77e+03  ohm-meter\n"
       ]
      }
     ],
     "prompt_number": 50
    },
    {
     "cell_type": "heading",
     "level": 2,
     "metadata": {},
     "source": [
      "Exa11 page 52"
     ]
    },
    {
     "cell_type": "code",
     "collapsed": false,
     "input": [
      "#given data\n",
      "rho_i=2*10**-3  #in ohm-m  (there is miss printed in this line in the book)\n",
      "sigma_i=1/rho_i \n",
      "miu_e=0.3 # in m**2/V-s\n",
      "miu_h=0.1 #  in m**2/V-s\n",
      "e=1.6*10**-19  # in C\n",
      "# Formula sigma_i=nita_i*e*(miu_e+miu_h)\n",
      "nita_i=sigma_i/(e*(miu_e+miu_h)) \n",
      "print \"Carrier density is : %0.2e\"%(nita_i),\" /m**3\" "
     ],
     "language": "python",
     "metadata": {},
     "outputs": [
      {
       "output_type": "stream",
       "stream": "stdout",
       "text": [
        "Carrier density is : 7.81e+21  /m**3\n"
       ]
      }
     ],
     "prompt_number": 51
    },
    {
     "cell_type": "heading",
     "level": 2,
     "metadata": {},
     "source": [
      "Exa2.13 page 56"
     ]
    },
    {
     "cell_type": "code",
     "collapsed": false,
     "input": [
      "from __future__ import division\n",
      "#given data\n",
      "R_15=250 # in ohm\n",
      "R_t2=300  # in ohm\n",
      "alpha=0.0039 # in degree C\n",
      "t1=15 \n",
      "#Formula R_t2 = R_15 * [1 + alpha1*(t2 - t1)]\n",
      "t2=((R_t2/R_15)-1)/alpha+t1 \n",
      "print \"Temperature when its resistance is 300 ohms is : \",round(t2,1),\" degree C\" "
     ],
     "language": "python",
     "metadata": {},
     "outputs": [
      {
       "output_type": "stream",
       "stream": "stdout",
       "text": [
        "Temperature when its resistance is 300 ohms is :  66.3  degree C\n"
       ]
      }
     ],
     "prompt_number": 52
    },
    {
     "cell_type": "heading",
     "level": 2,
     "metadata": {},
     "source": [
      "Exa2.15 page 57"
     ]
    },
    {
     "cell_type": "code",
     "collapsed": false,
     "input": [
      "#given data\n",
      "alpha0=0.0038 # in ohm/ohm/degree C\n",
      "t1=20  #in degree C\n",
      "alpha20=1/(1/alpha0+t1) \n",
      "R1=400 #in ohm\n",
      "#Formula R2=R1*[1+alpha20*(t2-t1)]\n",
      "R2=R1*(1+alpha20*(80-20)) \n",
      "print \"Resistance of wire at 80 degree C si : \",round(R2,1),\" ohm\""
     ],
     "language": "python",
     "metadata": {},
     "outputs": [
      {
       "output_type": "stream",
       "stream": "stdout",
       "text": [
        "Resistance of wire at 80 degree C si :  484.8  ohm\n"
       ]
      }
     ],
     "prompt_number": 53
    },
    {
     "cell_type": "heading",
     "level": 2,
     "metadata": {},
     "source": [
      "Exa2.16 page 57"
     ]
    },
    {
     "cell_type": "code",
     "collapsed": false,
     "input": [
      "# given data\n",
      "R1 = 50 # ohm\n",
      "R2 = 57.2 # ohm\n",
      "t1 = 25 # degree C\n",
      "t2 = 70 # degree C\n",
      "\n",
      "\n",
      "from sympy import symbols, solve, N\n",
      "alfa0, R0 = symbols('alfa0 R0') # temperature coefficient at 0 degree C\n",
      "\n",
      "# Accrding to formula :\n",
      "#r1 = R0(1+t1*alfa0)\n",
      "#r2 = R0(1+t2*alfa0)\n",
      "r1byr2 = R1/R2\n",
      "alfa0 = solve((1+t1*alfa0)/(1+t2*alfa0)-r1byr2)[0]\n",
      "alfa0 = N(alfa0, 3)\n",
      "\n",
      "print \"alpha0 = \",alfa0,\" ohm/ohm/degree C\" "
     ],
     "language": "python",
     "metadata": {},
     "outputs": [
      {
       "output_type": "stream",
       "stream": "stdout",
       "text": [
        "alpha0 =  0.00348  ohm/ohm/degree C\n"
       ]
      }
     ],
     "prompt_number": 54
    },
    {
     "cell_type": "heading",
     "level": 2,
     "metadata": {},
     "source": [
      "Exa2.17 page 57"
     ]
    },
    {
     "cell_type": "code",
     "collapsed": false,
     "input": [
      "# given data\n",
      "R1 = 45 # ohm\n",
      "R2 = 59 # ohm\n",
      "t1 = 25 # degree C\n",
      "t2 = 75 # degree C\n",
      "\n",
      "\n",
      "from sympy import symbols, solve, N\n",
      "alfa0, R0 = symbols('alfa0 R0') # temperature coefficient at 0 degree C\n",
      "\n",
      "# Accrding to formula :\n",
      "#r1 = R0(1+t1*alfa0)\n",
      "#r2 = R0(1+t2*alfa0)\n",
      "r1byr2 = R1/R2\n",
      "alfa0 = solve((1+t1*alfa0)/(1+t2*alfa0)-r1byr2)[0]\n",
      "alfa0 = N(alfa0, 5)\n",
      "\n",
      "print \"alpha0 = %0.2e\"%alfa0,\" ohm/ohm/degree C\" "
     ],
     "language": "python",
     "metadata": {},
     "outputs": [
      {
       "output_type": "stream",
       "stream": "stdout",
       "text": [
        "alpha0 = 7.37e-03  ohm/ohm/degree C\n"
       ]
      }
     ],
     "prompt_number": 55
    },
    {
     "cell_type": "heading",
     "level": 2,
     "metadata": {},
     "source": [
      "Exa2.18 page 58"
     ]
    },
    {
     "cell_type": "code",
     "collapsed": false,
     "input": [
      "# given data\n",
      "R1 = 3.146 # ohm\n",
      "R2 = 3.767 # ohm\n",
      "t1 = 40 # degree C\n",
      "t2 = 100 # degree C\n",
      "\n",
      "\n",
      "from sympy import symbols, solve, N\n",
      "alfa0, R0 = symbols('alfa0 R0') # temperature coefficient at 0 degree C\n",
      "\n",
      "# Accrding to formula :\n",
      "#r1 = R0(1+t1*alfa0)\n",
      "#r2 = R0(1+t2*alfa0)\n",
      "r1byr2 = R1/R2\n",
      "alfa0 = solve((1+t1*alfa0)/(1+t2*alfa0)-r1byr2)[0]\n",
      "alfa0 = N(alfa0, 3)\n",
      "\n",
      "print \"Temperature coefficient of resistance at 40 degree C = \",\n",
      "alpha40=1/(1/alpha0+40) \n",
      "print round(alpha40,5)\n",
      "#Formula R1 = R0 * (1+40*alpha0)\n",
      "R0=R1/(1+40*alpha0) \n",
      "print \"Resistance of platinum coil at 0 degree C is : \",round(R0,3),\" ohm \" "
     ],
     "language": "python",
     "metadata": {},
     "outputs": [
      {
       "output_type": "stream",
       "stream": "stdout",
       "text": [
        "Temperature coefficient of resistance at 40 degree C =  0.0033\n",
        "Resistance of platinum coil at 0 degree C is :  2.731  ohm \n"
       ]
      }
     ],
     "prompt_number": 56
    },
    {
     "cell_type": "heading",
     "level": 2,
     "metadata": {},
     "source": [
      "Exa2.19 page 58"
     ]
    },
    {
     "cell_type": "code",
     "collapsed": false,
     "input": [
      "# given data\n",
      "R1 = 18 # ohm\n",
      "R2 = 20 # ohm\n",
      "R3 = 21 # ohm\n",
      "t1 = 20 # degree C\n",
      "t2 = 50 # degree C\n",
      "ts = 15 # degree C # surrounding temperature\n",
      "\n",
      "from sympy import symbols, solve, N\n",
      "alfa0, R0, t = symbols('alfa0 R0 t') # temperature coefficient at 0 degree C\n",
      "\n",
      "# Accrding to formula :\n",
      "#r1 = R0(1+t1*alfa0)\n",
      "#r2 = R0(1+t2*alfa0)\n",
      "#r3 = R0(1+t*alfa0)\n",
      "r1byr2 = R1/R2\n",
      "alfa0 = solve((1+t1*alfa0)/(1+t2*alfa0)-r1byr2)[0]\n",
      "alfa0 = N(alfa0, 3)\n",
      "\n",
      "r3byr2 = R3/R2\n",
      "t = solve(r3byr2 - (1+alfa0*t)/(1+alfa0*t2), t)[0]\n",
      "tr = t-ts # temp. rise\n",
      "print \"Temperature rise = %0.f degree C\" %tr"
     ],
     "language": "python",
     "metadata": {},
     "outputs": [
      {
       "output_type": "stream",
       "stream": "stdout",
       "text": [
        "Temperature rise = 50 degree C\n"
       ]
      }
     ],
     "prompt_number": 57
    },
    {
     "cell_type": "heading",
     "level": 2,
     "metadata": {},
     "source": [
      "Exa2.20 page 59"
     ]
    },
    {
     "cell_type": "code",
     "collapsed": false,
     "input": [
      "from __future__ import division\n",
      "from fractions import Fraction\n",
      "#given data\n",
      "alpha20=1/254.5 # in ohm/ohm/degree C\n",
      "t2=60 #degree C\n",
      "t1=20 #degree C\n",
      "rho0=1.6*10**-6 \n",
      "alpha60=1/(1/alpha20+(t2-t1)) \n",
      "print \"Temperature coefficient of resistance at 60 degree C is : \",Fraction(alpha60).limit_denominator(1000),\"or\",round(alpha60,5),\" ohm/(ohm/degree C)\" \n",
      "#from alpha20=1/(1/alpha0+20)\n",
      "alpha0=1/(1/alpha20-20) \n",
      "#Formula rho60=rho0*(1+alpha0*t)\n",
      "rho60=rho0*(1+alpha0*t2) \n",
      "print \"Specific resistance at 60 degree C is : %0.4e\"%(rho60),\" ohm-cm\""
     ],
     "language": "python",
     "metadata": {},
     "outputs": [
      {
       "output_type": "stream",
       "stream": "stdout",
       "text": [
        "Temperature coefficient of resistance at 60 degree C is :  2/589 or 0.0034  ohm/(ohm/degree C)\n",
        "Specific resistance at 60 degree C is : 2.0094e-06  ohm-cm\n"
       ]
      }
     ],
     "prompt_number": 58
    },
    {
     "cell_type": "heading",
     "level": 2,
     "metadata": {},
     "source": [
      "Exa2.21 page 59"
     ]
    },
    {
     "cell_type": "code",
     "collapsed": false,
     "input": [
      "#given data\n",
      "R=95.5 #in ohm\n",
      "l=1 #in meter\n",
      "d=0.08 #in mm\n",
      "d=d*10**-3 #in meter\n",
      "a=(pi*d**2)/4 \n",
      "#Formula R=rho*l/a\n",
      "rho=R*a/l \n",
      "print \"Resistance of the wire material is : %0.3e\"%(rho),\" ohm-meter\""
     ],
     "language": "python",
     "metadata": {},
     "outputs": [
      {
       "output_type": "stream",
       "stream": "stdout",
       "text": [
        "Resistance of the wire material is : 4.800e-07  ohm-meter\n"
       ]
      }
     ],
     "prompt_number": 59
    },
    {
     "cell_type": "heading",
     "level": 2,
     "metadata": {},
     "source": [
      "Exa2.22 page 59"
     ]
    },
    {
     "cell_type": "code",
     "collapsed": false,
     "input": [
      "#given data\n",
      "R=4 #in ohm\n",
      "d=0.0274 #in cm\n",
      "d=0.000274 #in meter\n",
      "rho=10.3 #in miu ohm-cm\n",
      "rho=10.3*10**-8 #in ohm-m\n",
      "a=(pi*d**2)/4 \n",
      "\n",
      "#Formula R=rho*l/a\n",
      "l=R*a/rho \n",
      "print \"Lenght of wire is : %0.2f\"%(l),\" meters\""
     ],
     "language": "python",
     "metadata": {},
     "outputs": [
      {
       "output_type": "stream",
       "stream": "stdout",
       "text": [
        "Lenght of wire is : 2.29  meters\n"
       ]
      }
     ],
     "prompt_number": 60
    },
    {
     "cell_type": "heading",
     "level": 2,
     "metadata": {},
     "source": [
      "Exa2.23 page 60"
     ]
    },
    {
     "cell_type": "code",
     "collapsed": false,
     "input": [
      "#given data\n",
      "V=220 # in V\n",
      "W=100 #in watt\n",
      "R100=V**2/W #in ohm\n",
      "alpha20=0.005 \n",
      "t1=20 \n",
      "t2=2000 \n",
      "# since R100=R20*[1+alpha20*(t2-t1)]\n",
      "R20=R100/(1+alpha20 * (t2-t1)) \n",
      "I20=V/R20 \n",
      "print \"Current flowing at the instant of switching on a 100 W metal filament lamp is : \",round(I20,2),\" A\""
     ],
     "language": "python",
     "metadata": {},
     "outputs": [
      {
       "output_type": "stream",
       "stream": "stdout",
       "text": [
        "Current flowing at the instant of switching on a 100 W metal filament lamp is :  4.95  A\n"
       ]
      }
     ],
     "prompt_number": 61
    },
    {
     "cell_type": "heading",
     "level": 2,
     "metadata": {},
     "source": [
      "Exa2.24 page 60"
     ]
    },
    {
     "cell_type": "code",
     "collapsed": false,
     "input": [
      "from fractions import Fraction\n",
      "#given data\n",
      "t2=50 # in degree C\n",
      "t1=20  # in degree C\n",
      "R1=600 # in ohm\n",
      "R2=300 # in ohm\n",
      "\n",
      "# Let resistance of 600 ohm resistance at 50 degree C = R_600\n",
      "R_600=R1*(1+(t2-t1)*.001) # in ohm\n",
      "# Let resistance of 300 ohm resistance at 50 degree C = R_300\n",
      "R_300=R2*(1+(t2-t1)*.004) # in ohm\n",
      "R_50=R_600+R_300 # in ohm\n",
      "print \"Resistance of combination at 50degree C is : \",(R_50),\" ohm\"\n",
      "R_20=R1+R2 # in ohm\n",
      "alpha_20=(R_50/R_20-1)/(t2-t1) \n",
      "alpha_50=1/(1/(alpha_20)+(t2-t1)) \n",
      "print \"Effective temperature coefficient of combination at 50 degree C is : \",Fraction(alpha_50).limit_denominator(1000),\"per degree C\""
     ],
     "language": "python",
     "metadata": {},
     "outputs": [
      {
       "output_type": "stream",
       "stream": "stdout",
       "text": [
        "Resistance of combination at 50degree C is :  954.0  ohm\n",
        "Effective temperature coefficient of combination at 50 degree C is :  1/530 per degree C\n"
       ]
      }
     ],
     "prompt_number": 62
    },
    {
     "cell_type": "heading",
     "level": 2,
     "metadata": {},
     "source": [
      "Exa2.25 page 61"
     ]
    },
    {
     "cell_type": "code",
     "collapsed": false,
     "input": [
      "#given data\n",
      "toh=1.73#in micro-ohm-cm\n",
      "tohDesh=1.74 #in micro-ohm-cm\n",
      "sigma=1/toh # conductivities of pure metal\n",
      "sigmaDesh=1/tohDesh #conductivities metal with impurity\n",
      "PercentImpurity=((sigma-sigmaDesh)/sigma)*100 \n",
      "print \" Percent impurity in the rod is : %0.4f\"%(PercentImpurity),\" %\""
     ],
     "language": "python",
     "metadata": {},
     "outputs": [
      {
       "output_type": "stream",
       "stream": "stdout",
       "text": [
        " Percent impurity in the rod is : 0.5747  %\n"
       ]
      }
     ],
     "prompt_number": 63
    },
    {
     "cell_type": "heading",
     "level": 2,
     "metadata": {},
     "source": [
      "Exa2.26 page 64"
     ]
    },
    {
     "cell_type": "code",
     "collapsed": false,
     "input": [
      "#given data\n",
      "ElectricalResistivity=2.86*10**-6 #in ohm-cm\n",
      "sigma=1/ElectricalResistivity \n",
      "T=273+20 # in Kelvin (Temperature)\n",
      "#Formula K/(sigma*T)=2.44*10**-8\n",
      "K=(2.44*10**-8*T*sigma) \n",
      "print \"Thermal conductivity of Al = %0.2f\"%K"
     ],
     "language": "python",
     "metadata": {},
     "outputs": [
      {
       "output_type": "stream",
       "stream": "stdout",
       "text": [
        "Thermal conductivity of Al = 2.50\n"
       ]
      }
     ],
     "prompt_number": 64
    },
    {
     "cell_type": "heading",
     "level": 2,
     "metadata": {},
     "source": [
      "Exa2.27 page 69"
     ]
    },
    {
     "cell_type": "code",
     "collapsed": false,
     "input": [
      "#given data\n",
      "E_AC=16*10**-6 #in V per degree C\n",
      "E_BC=-34*10**-6 #in V per degree C\n",
      "#By law of successive contact (or intermediate metals)\n",
      "E_AB=E_AC-E_BC #in V/degree C\n",
      "E_AB=E_AB*10**6 # in miu V/degree C\n",
      "print \"EMF of iron with respect to constantan is : \",(E_AB),\" micro V/degree C\""
     ],
     "language": "python",
     "metadata": {},
     "outputs": [
      {
       "output_type": "stream",
       "stream": "stdout",
       "text": [
        "EMF of iron with respect to constantan is :  50.0  micro V/degree C\n"
       ]
      }
     ],
     "prompt_number": 65
    },
    {
     "cell_type": "heading",
     "level": 2,
     "metadata": {},
     "source": [
      "Exa2.28 page 69"
     ]
    },
    {
     "cell_type": "code",
     "collapsed": false,
     "input": [
      "#given data\n",
      "E_AC=7.4 #in miu V per degree C\n",
      "E_BC=-34.4 #in miu V per degree C\n",
      "#By law of successive contact (or intermediate metals)\n",
      "E_AB=E_AC-E_BC #in miu V/degree C\n",
      "E_AB=E_AB*10**-6 # in  V/degree C\n",
      "# Let Thermo-emf for a temperature difference of 250 degree C = EMF_250\n",
      "EMF_250=E_AB*250 # in V\n",
      "EMF_250=EMF_250*10**3 #in mV\n",
      "print \"Termo-emf for a temperature difference of 250 degree C is \",(EMF_250),\" mV\" "
     ],
     "language": "python",
     "metadata": {},
     "outputs": [
      {
       "output_type": "stream",
       "stream": "stdout",
       "text": [
        "Termo-emf for a temperature difference of 250 degree C is  10.45  mV\n"
       ]
      }
     ],
     "prompt_number": 66
    },
    {
     "cell_type": "heading",
     "level": 2,
     "metadata": {},
     "source": [
      "Exa2.29 page 70"
     ]
    },
    {
     "cell_type": "code",
     "collapsed": false,
     "input": [
      "#given data\n",
      "#Take iron as metal A and copper as metal B with respect to lead\n",
      "#For metal A:\n",
      "p_A=16.2 \n",
      "q_A=-0.02 \n",
      "#For metal B:\n",
      "p_B=2.78 \n",
      "q_B=+0.009 \n",
      "p_AB=p_A-p_B \n",
      "q_AB=q_A-q_B \n",
      "T2=210 #in degree C\n",
      "T1=10 # in degree C\n",
      "E=p_AB*(T2-T1)+q_AB/2*(T2**2-T1**2) \n",
      "print \"Thermo-electric emf is : \",(E),\" micro V\" \n",
      "Tn=-p_AB/q_AB \n",
      "print \"Neutral temperature is : \",round(Tn,0),\" degree C\" "
     ],
     "language": "python",
     "metadata": {},
     "outputs": [
      {
       "output_type": "stream",
       "stream": "stdout",
       "text": [
        "Thermo-electric emf is :  2046.0  micro V\n",
        "Neutral temperature is :  463.0  degree C\n"
       ]
      }
     ],
     "prompt_number": 67
    },
    {
     "cell_type": "heading",
     "level": 2,
     "metadata": {},
     "source": [
      "Exa2.30 page 70"
     ]
    },
    {
     "cell_type": "code",
     "collapsed": false,
     "input": [
      "from math import ceil\n",
      "#given data\n",
      "p_A=17.34 \n",
      "q_A=-0.0487 \n",
      "p_B=1.36 \n",
      "q_B=+0.0095 \n",
      "p_AB=p_A-p_B \n",
      "q_AB=q_A-q_B \n",
      "T2=210 #in degree C\n",
      "T1=10 # in degree C\n",
      "E=p_AB*(T2-T1)+q_AB/2*(T2**2-T1**2) #in miu V\n",
      "E=E*10**-3 #in m V\n",
      "print \"Thermo-electric emf is : \",(ceil(E)),\" m V\" \n",
      "Tn=-p_AB/q_AB \n",
      "print \"Neutral temperature is : \",(ceil(Tn)),\" degree C\" \n",
      "Tc=10 # in degree C\n",
      "Ti=Tn+(Tn-Tc) \n",
      "print \"Temperature of inversion is : \",(ceil(Ti)),\" degree C\" \n",
      "E_max=15.98*(275-10)-1/2*0.0582*(275**2-10**2) #in miu V\n",
      "E_max=E_max*10**-3 # in mV\n",
      "print \"Maximum possible thermo-electric emf at neutral temperature that is at 275 degree C is : %0.3f\"%(E_max),\" mV\" "
     ],
     "language": "python",
     "metadata": {},
     "outputs": [
      {
       "output_type": "stream",
       "stream": "stdout",
       "text": [
        "Thermo-electric emf is :  2.0  m V\n",
        "Neutral temperature is :  275.0  degree C\n",
        "Temperature of inversion is :  540.0  degree C\n",
        "Maximum possible thermo-electric emf at neutral temperature that is at 275 degree C is : 2.037  mV\n"
       ]
      }
     ],
     "prompt_number": 68
    },
    {
     "cell_type": "heading",
     "level": 2,
     "metadata": {},
     "source": [
      "Exa2.31 page 72"
     ]
    },
    {
     "cell_type": "code",
     "collapsed": false,
     "input": [
      "#given data\n",
      "rho=146*10**-6# in ohm-cm\n",
      "a=1 #in cm**2\n",
      "l=1 #in cm\n",
      "# let current = i\n",
      "i=0.06 #in amp \n",
      "R=rho*l/a #in ohm\n",
      "# Let potential difference per degree centigrade = P\n",
      "P=i*R # By Ohm's law\n",
      "print \"Potential difference per degree centigrade is : \",(P),\" volt\" "
     ],
     "language": "python",
     "metadata": {},
     "outputs": [
      {
       "output_type": "stream",
       "stream": "stdout",
       "text": [
        "Potential difference per degree centigrade is :  8.76e-06  volt\n"
       ]
      }
     ],
     "prompt_number": 69
    },
    {
     "cell_type": "heading",
     "level": 2,
     "metadata": {},
     "source": [
      "Exa2.32 page 73"
     ]
    },
    {
     "cell_type": "code",
     "collapsed": false,
     "input": [
      "from sympy.mpmath import quad\n",
      "#given data\n",
      "T_lower=10 # in degree C\n",
      "T_upper=150 # in degree C\n",
      "\n",
      "# T for iron at any temperature T degree C w.r.t. lead is given by (17.34-0.0487 T)*10**-6 and that for copper by (1.36-.0095 T)*10**-6\n",
      "T_i = lambda T: (17.34-0.0487*T)*10**-6 #Thermo-electric power\n",
      "T_c = lambda T: (1.36-0.0095*T)*10**-6 #Thermo-electric power\n",
      "\n",
      "# Thermo-electric power, P=dE/dT\n",
      "# or dE=P*dT\n",
      "# Thermo-emf for copper between temperature 10 degree C and 150 degree C,\n",
      "\n",
      "\n",
      "E_c= quad(T_c,[T_lower,T_upper]) \n",
      "# Thermo-emf for iron between temperature 10 degree C and 150 degree C,\n",
      "E_i= quad(T_i,[T_lower,T_upper]) \n",
      "# Thermo-emp for copper-iron thermo-couple\n",
      "E=E_i-E_c \n",
      "print \"Thermo-emf for iron between temperature 10 degree C and 150 degree C is : \",(E*10**6),\" micro V\" "
     ],
     "language": "python",
     "metadata": {},
     "outputs": [
      {
       "output_type": "stream",
       "stream": "stdout",
       "text": [
        "Thermo-emf for iron between temperature 10 degree C and 150 degree C is :  1798.16  micro V\n"
       ]
      }
     ],
     "prompt_number": 70
    },
    {
     "cell_type": "heading",
     "level": 2,
     "metadata": {},
     "source": [
      "Exa2.34 page 79"
     ]
    },
    {
     "cell_type": "code",
     "collapsed": false,
     "input": [
      "#given data\n",
      "Hc_0=8*10**5 #in A/m\n",
      "Tc=7.26 #in K\n",
      "T=4 #in K\n",
      "Hc_T=Hc_0*(1-(T/Tc)**2)\n",
      "print \"The critical value of magnetic field at T=4 K is : %0.4e\"%(Hc_T),\" A/m\" "
     ],
     "language": "python",
     "metadata": {},
     "outputs": [
      {
       "output_type": "stream",
       "stream": "stdout",
       "text": [
        "The critical value of magnetic field at T=4 K is : 5.5715e+05  A/m\n"
       ]
      }
     ],
     "prompt_number": 71
    },
    {
     "cell_type": "heading",
     "level": 2,
     "metadata": {},
     "source": [
      "Exa2.35 page 79"
     ]
    },
    {
     "cell_type": "code",
     "collapsed": false,
     "input": [
      "from __future__ import division\n",
      "#given data\n",
      "Hc=7900 #in A/m\n",
      "d=1 #in mm\n",
      "r=d/2 #in mm\n",
      "r=r*10**-3 #in m\n",
      "Ic=2*pi*r*Hc \n",
      "print \"Critical current is : %0.3f\"%(Ic),\" A\" "
     ],
     "language": "python",
     "metadata": {},
     "outputs": [
      {
       "output_type": "stream",
       "stream": "stdout",
       "text": [
        "Critical current is : 24.819  A\n"
       ]
      }
     ],
     "prompt_number": 72
    },
    {
     "cell_type": "heading",
     "level": 2,
     "metadata": {},
     "source": [
      "Exa2.36 page 79"
     ]
    },
    {
     "cell_type": "code",
     "collapsed": false,
     "input": [
      "#given data\n",
      "Hc_0=8*10**4 #in A/m\n",
      "Tc=7.2 #in K\n",
      "T=4.5 #in K\n",
      "d=1 #in mm\n",
      "r=d/2 #in mm\n",
      "r=r*10**-3 #in m\n",
      "Hc=Hc_0*(1-(T/Tc)**2)\n",
      "print \"The critical field at T=4.5 K is : %0.3e\"%(Hc),\" A/m\" \n",
      "Ic=2*pi*r*Hc \n",
      "print \"Critical current is : %0.2f\"%(Ic),\" A\" "
     ],
     "language": "python",
     "metadata": {},
     "outputs": [
      {
       "output_type": "stream",
       "stream": "stdout",
       "text": [
        "The critical field at T=4.5 K is : 4.875e+04  A/m\n",
        "Critical current is : 153.15  A\n"
       ]
      }
     ],
     "prompt_number": 73
    },
    {
     "cell_type": "heading",
     "level": 2,
     "metadata": {},
     "source": [
      "Exa2.37 page 86"
     ]
    },
    {
     "cell_type": "code",
     "collapsed": false,
     "input": [
      "from math import sqrt\n",
      "# Formula R=rho*l/a\n",
      "#putting value for copper wire\n",
      "R=2 # in ohm\n",
      "l=100 #in meter\n",
      "rho=1.7*10**-8 # (for copper)\n",
      "a=rho*l/R #in meter\n",
      "a=a*10**6 # in mm\n",
      "# Formula a=pi/4*d**2\n",
      "d_copper=sqrt(a*4/pi)  #  (d_copper is diameter for copper)\n",
      "\n",
      "# Formula R=rho*l/a\n",
      "#putting value for Aluminium wire\n",
      "R=2 # in ohm\n",
      "l=100 #in meter\n",
      "rho=2.8*10**-8 # (for aluminium)\n",
      "a=rho*l/R #in meter\n",
      "a=a*10**6 # in mm\n",
      "# Formula a=pi/4*d**2\n",
      "d_aluminium=sqrt(a*4/pi)  #  (d_aluminium is diameter for aluminium)\n",
      "DiaRatio=d_aluminium/d_copper  #  (DiaRatio is ratio of diameter of aluminium and copper)\n",
      "print \"The diameter of the aluminium wire is \",round(DiaRatio,2),\" times that of copper wire\" "
     ],
     "language": "python",
     "metadata": {},
     "outputs": [
      {
       "output_type": "stream",
       "stream": "stdout",
       "text": [
        "The diameter of the aluminium wire is  1.28  times that of copper wire\n"
       ]
      }
     ],
     "prompt_number": 74
    },
    {
     "cell_type": "heading",
     "level": 2,
     "metadata": {},
     "source": [
      "Exa2.38 page 99"
     ]
    },
    {
     "cell_type": "code",
     "collapsed": false,
     "input": [
      "from math import log\n",
      "#given data\n",
      "l=60 # in cm\n",
      "l=l*10**-2 #in meter\n",
      "d=20 # in cm \n",
      "d=d*10**-2 #in meter\n",
      "D=35 # in cm \n",
      "D=D*10**-2 #in meter\n",
      "r1=d/2 \n",
      "r2=D/2 \n",
      "rho=8000 # in ohm-cm\n",
      "rho=80 # in ohm-m\n",
      "# Let Insulation resistance of the liquid resistor = Ir\n",
      "Ir=(rho/(2*pi*l))*log(r2/r1) \n",
      "print \" Insulation resistance of the liquid resistor is : \",round(Ir,2),\" ohm\""
     ],
     "language": "python",
     "metadata": {},
     "outputs": [
      {
       "output_type": "stream",
       "stream": "stdout",
       "text": [
        " Insulation resistance of the liquid resistor is :  11.88  ohm\n"
       ]
      }
     ],
     "prompt_number": 75
    },
    {
     "cell_type": "heading",
     "level": 2,
     "metadata": {},
     "source": [
      "Exa2.39 page 100"
     ]
    },
    {
     "cell_type": "code",
     "collapsed": false,
     "input": [
      "#given data\n",
      "R_desh=1820 # in M ohm\n",
      "R_desh=R_desh*10**6 # in ohm\n",
      "d1=1.5 # in cm\n",
      "d1=d1*10**-2 # in meter\n",
      "d2=5 # in cm\n",
      "d2=d2*10**-2 # in meter\n",
      "l=3000 # in meter\n",
      "r1=d1/2 \n",
      "r2=d2/2 \n",
      "\n",
      "rho= (2*pi*l*R_desh)/log(r2/r1) \n",
      "print \"Resistivity of dielectric is : %0.2e\"%(rho),\" ohm meter\""
     ],
     "language": "python",
     "metadata": {},
     "outputs": [
      {
       "output_type": "stream",
       "stream": "stdout",
       "text": [
        "Resistivity of dielectric is : 2.85e+13  ohm meter\n"
       ]
      }
     ],
     "prompt_number": 76
    },
    {
     "cell_type": "heading",
     "level": 2,
     "metadata": {},
     "source": [
      "Exa2.40 page 100"
     ]
    },
    {
     "cell_type": "code",
     "collapsed": false,
     "input": [
      "# given data\n",
      "# First Case:\n",
      "r1=1.5/2 # in cm\n",
      "# let radius thickness of insulation = r1_t\n",
      "r1_t=1.5 # in cm\n",
      "r2=r1+r1_t \n",
      "R_desh=500 # in M ohm\n",
      "R_desh=R_desh*10**6 # in ohm\n",
      "# Second case:\n",
      "r1_desh=r1 # in cm (as before)\n",
      "# let radius thickness of insulation = r2_t\n",
      "r2_t=2.5 # in cm\n",
      "r2_desh=r1+r2_t \n",
      "# since Insulation resistance , R_desh= sigma/(2*pi*l)*log(r2/r1) and\n",
      "#                               R1_desh= sigma/(2*pi*l)*log(r2_desh/r1_desh)\n",
      "# Dividing R1_desh by R1, We get\n",
      "# R1_desh/R_desh = log(r2_desh/r1_desh)/log(r2/r1)\n",
      "# Let R = R1_desh/R_desh, Now\n",
      "R= log(r2_desh/r1_desh)/log(r2/r1) \n",
      "R1_desh=R*R_desh \n",
      "print \"New insulation resistance is : \",round(R1_desh*10**-6,2),\" M ohm\" "
     ],
     "language": "python",
     "metadata": {},
     "outputs": [
      {
       "output_type": "stream",
       "stream": "stdout",
       "text": [
        "New insulation resistance is :  667.36  M ohm\n"
       ]
      }
     ],
     "prompt_number": 77
    },
    {
     "cell_type": "heading",
     "level": 2,
     "metadata": {},
     "source": [
      "Exa2.41 page 101"
     ]
    },
    {
     "cell_type": "code",
     "collapsed": false,
     "input": [
      "from math import exp\n",
      "\n",
      "# given data\n",
      "t1=20 # in degree C\n",
      "t2=36 # in degree C\n",
      "alpha_20=0.0043 # in per degree C  (Temperature Coefficient)\n",
      "InsulationResistance=480*10**6 # in ohm\n",
      "copper_cond_res=0.7 # in ohm  (copper conductor resistance)\n",
      "l=500*10**-3 # in kilo meter (length)\n",
      "R1_desh=InsulationResistance * l # in ohm\n",
      "\n",
      "# From Formula log(R2_desh)= log(R1_desh-K*(t2-t1))\n",
      "# K= 1/(t2-t1)*log(R1_desh/R2_desh)\n",
      "# since when t2-t1=10 degree C and R1_desh/R2_desh= 2\n",
      "\n",
      "K=1/10*log(2) \n",
      "\n",
      "# (i) Insulation resistance at any temperature t2, R2_desh is given by\n",
      "logR2_desh= log(R1_desh)-(t2-t1)/10* log(2) \n",
      "R2_desh= exp(logR2_desh)\n",
      "  \n",
      "print \"(i) Insulation resistance at any temperature : \",round(R2_desh*10**-6,2),\" Mega ohm\" \n",
      "  \n",
      "# (ii) \n",
      "R_20= copper_cond_res/l # in ohm\n",
      "R_36=R_20*(1+alpha_20*(t2-t1))\n",
      "    \n",
      "print \"(ii) Resistance at 36 degree C is : \",(R_36),\" ohm\"\n",
      "    "
     ],
     "language": "python",
     "metadata": {},
     "outputs": [
      {
       "output_type": "stream",
       "stream": "stdout",
       "text": [
        "(i) Insulation resistance at any temperature :  79.17  Mega ohm\n",
        "(ii) Resistance at 36 degree C is :  1.49632  ohm\n"
       ]
      }
     ],
     "prompt_number": 78
    }
   ],
   "metadata": {}
  }
 ]
}