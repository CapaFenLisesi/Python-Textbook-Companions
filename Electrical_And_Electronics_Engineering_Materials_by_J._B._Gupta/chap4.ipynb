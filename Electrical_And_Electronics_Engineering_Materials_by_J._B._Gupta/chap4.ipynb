{
 "metadata": {
  "name": "",
  "signature": "sha256:c1260907a128bcdd9e68ce2295ce1e28beeee0ab6e7ba3bfd49dd804d883442b"
 },
 "nbformat": 3,
 "nbformat_minor": 0,
 "worksheets": [
  {
   "cells": [
    {
     "cell_type": "heading",
     "level": 1,
     "metadata": {},
     "source": [
      "Chapter 4 - Biolar junction & Field Effect Transistors"
     ]
    },
    {
     "cell_type": "heading",
     "level": 2,
     "metadata": {},
     "source": [
      "Exa 4.1 page 195"
     ]
    },
    {
     "cell_type": "code",
     "collapsed": false,
     "input": [
      "#given data :\n",
      "VGS=10 #in Volt\n",
      "IG=0.001 #in uAmpere\n",
      "IG=IG*10**-6 #in Ampere\n",
      "RGS=VGS/IG #in Ohm\n",
      "print \"Resistance between gate and source = %0.2f Mohm \"%(RGS*10**-6) "
     ],
     "language": "python",
     "metadata": {},
     "outputs": [
      {
       "output_type": "stream",
       "stream": "stdout",
       "text": [
        "Resistance between gate and source = 10000.00 Mohm \n"
       ]
      }
     ],
     "prompt_number": 1
    },
    {
     "cell_type": "heading",
     "level": 2,
     "metadata": {},
     "source": [
      "Exa 4.2 page 195"
     ]
    },
    {
     "cell_type": "code",
     "collapsed": false,
     "input": [
      "#given data :\n",
      "delVDS=1.5 #in Volt\n",
      "delID=120 #in uAmpere\n",
      "delID=delID*10**-6 #in Ampere\n",
      "rd=delVDS/delID #in Ohm\n",
      "print \"AC drain Resistance of JFET = %0.2f kohm\"%(rd*10**-3)"
     ],
     "language": "python",
     "metadata": {},
     "outputs": [
      {
       "output_type": "stream",
       "stream": "stdout",
       "text": [
        "AC drain Resistance of JFET = 12.50 kohm\n"
       ]
      }
     ],
     "prompt_number": 2
    },
    {
     "cell_type": "heading",
     "level": 2,
     "metadata": {},
     "source": [
      "Exa 4.3 page 195"
     ]
    },
    {
     "cell_type": "code",
     "collapsed": false,
     "input": [
      "#given data :\n",
      "ID2=1.5 #in mAmpere\n",
      "ID1=1.2 #in mAmpere\n",
      "delID=ID2-ID1 #in Ampere\n",
      "VGS1=-4.25 #in Volt\n",
      "VGS2=-4.10 #in Volt\n",
      "delVGS=VGS2-VGS1 #in Volt\n",
      "gm=delID/delVGS #in Ohm\n",
      "print \"Transconductance = %0.2f mA/V \"%gm \n",
      "print \"Transconductance = %0.2f uS \"%(gm*10**3) "
     ],
     "language": "python",
     "metadata": {},
     "outputs": [
      {
       "output_type": "stream",
       "stream": "stdout",
       "text": [
        "Transconductance = 2.00 mA/V \n",
        "Transconductance = 2000.00 uS \n"
       ]
      }
     ],
     "prompt_number": 3
    },
    {
     "cell_type": "heading",
     "level": 2,
     "metadata": {},
     "source": [
      "Exa 4.4 page 195"
     ]
    },
    {
     "cell_type": "code",
     "collapsed": false,
     "input": [
      "#given data :\n",
      "VDS1=5 #in Volt\n",
      "VDS2=12 #in Volt\n",
      "VDS3=12 #in Volt\n",
      "VGS1=0 #in Volt\n",
      "VGS2=0 #in Volt\n",
      "VGS3=-0.25 #in Volt\n",
      "ID1=8 #in mAmpere\n",
      "ID2=8.2 #in mAmpere\n",
      "ID3=7.5 #in mAmpere\n",
      "#AC drain resistance\n",
      "delVDS=VDS2-VDS1 #in Volt\n",
      "delID=ID2-ID1 #in mAmpere\n",
      "rd=delVDS/delID #in Kohm\n",
      "print \"AC Drain resistance = %0.2f kohm \"%(rd) \n",
      "#Transconductance\n",
      "delID=ID3-ID2 #in mAmpere\n",
      "delVGS=VGS3-VGS2 #in Volt\n",
      "gm=delID/delVGS #in mA/V or mS\n",
      "print \"Transconductance = %0.2f mA/V  \"%gm \n",
      "#Amplification Factor\n",
      "meu=rd*1000*gm*10**-3 #unitless\n",
      "print \"Amplification Factor : \" ,meu"
     ],
     "language": "python",
     "metadata": {},
     "outputs": [
      {
       "output_type": "stream",
       "stream": "stdout",
       "text": [
        "AC Drain resistance = 35.00 kohm \n",
        "Transconductance = 2.80 mA/V  \n",
        "Amplification Factor :  98.0\n"
       ]
      }
     ],
     "prompt_number": 4
    },
    {
     "cell_type": "heading",
     "level": 2,
     "metadata": {},
     "source": [
      "Exa 4.5 page 196"
     ]
    },
    {
     "cell_type": "code",
     "collapsed": false,
     "input": [
      "from math import sqrt\n",
      "#given data :\n",
      "VP=-4.5 #in Volt\n",
      "IDSS=10 #in mAmpere\n",
      "IDS=2.5 #in mAmpere\n",
      "#Formula : IDS=IDSS*[1-VGS/VP]**2\n",
      "VGS=VP*(1-sqrt(IDS/IDSS)) #in Volt\n",
      "gm=(-2*IDSS*10**-3)*(1-VGS/VP)/VP #in mA/V or mS\n",
      "print \"Transconductance = %0.2f mA/V \"%(gm*1000) "
     ],
     "language": "python",
     "metadata": {},
     "outputs": [
      {
       "output_type": "stream",
       "stream": "stdout",
       "text": [
        "Transconductance = 2.22 mA/V \n"
       ]
      }
     ],
     "prompt_number": 5
    },
    {
     "cell_type": "heading",
     "level": 2,
     "metadata": {},
     "source": [
      "Exa 4.6 page 196"
     ]
    },
    {
     "cell_type": "code",
     "collapsed": false,
     "input": [
      "#given data :\n",
      "gm=10 #in mS\n",
      "gm=gm*10**-3 #in S\n",
      "IDSS=10 #in uAmpere\n",
      "IDSS=IDSS*10**-6 #in Ampere\n",
      "#VGS(OFF):VGS=VP\n",
      "#Formula : gm=gmo=-2*IDSS/VP=-2*IDSS/VG(Off)\n",
      "VGS_OFF=-2*IDSS/gm #in Volt\n",
      "print \"VGS(OFF) = %0.2f mV \"%(VGS_OFF*1000) "
     ],
     "language": "python",
     "metadata": {},
     "outputs": [
      {
       "output_type": "stream",
       "stream": "stdout",
       "text": [
        "VGS(OFF) = -2.00 mV \n"
       ]
      }
     ],
     "prompt_number": 6
    },
    {
     "cell_type": "heading",
     "level": 2,
     "metadata": {},
     "source": [
      "Exa 4.7 page 196"
     ]
    },
    {
     "cell_type": "code",
     "collapsed": false,
     "input": [
      "from __future__ import division\n",
      "#given data :\n",
      "VP=-4 #in Volt\n",
      "VGS=-2 #in Volt\n",
      "IDSS=10 #in mAmpere\n",
      "IDSS=IDSS*10**-3 #in Ampere\n",
      "#Formula : ID=IDSS*[1-VGS/VP]**2\n",
      "ID=IDSS*(1-VGS/VP)**2 #in Ampere\n",
      "print \"Drain Current = %0.2f mA \"%(ID*1000) \n",
      "print \"The minimum value of VDS for pinch-off region is equal to VP. Thus the minimum value of VDS : VDS(min) =\",VP,\"V\" "
     ],
     "language": "python",
     "metadata": {},
     "outputs": [
      {
       "output_type": "stream",
       "stream": "stdout",
       "text": [
        "Drain Current = 2.50 mA \n",
        "The minimum value of VDS for pinch-off region is equal to VP. Thus the minimum value of VDS : VDS(min) = -4 V\n"
       ]
      }
     ],
     "prompt_number": 7
    },
    {
     "cell_type": "heading",
     "level": 2,
     "metadata": {},
     "source": [
      "Exa 4.8 page 197"
     ]
    },
    {
     "cell_type": "code",
     "collapsed": false,
     "input": [
      "#given data :\n",
      "IDSS=8.7 #in mAmpere\n",
      "IDSS=IDSS*10**-3 #in Ampere\n",
      "VP=-3 #in Volt\n",
      "VGS=-1 #in Volt\n",
      "#ID\n",
      "ID=IDSS*(1-VGS/VP)**2\n",
      "print \"Drain current ID = %0.4f mA \"%(ID*1000) \n",
      "#gmo\n",
      "gmo=-2*IDSS/VP #in S\n",
      "print \"Transconductance for VGS=0V = %0.2f mA/V or mS\"%(gmo*1000)\n",
      "#gm\n",
      "gm=gmo*(1-VGS/VP) #in S\n",
      "print \"Transconductance = %0.3f mA/V or mS\"%(gm*1000) "
     ],
     "language": "python",
     "metadata": {},
     "outputs": [
      {
       "output_type": "stream",
       "stream": "stdout",
       "text": [
        "Drain current ID = 3.8667 mA \n",
        "Transconductance for VGS=0V = 5.80 mA/V or mS\n",
        "Transconductance = 3.867 mA/V or mS\n"
       ]
      }
     ],
     "prompt_number": 8
    },
    {
     "cell_type": "heading",
     "level": 2,
     "metadata": {},
     "source": [
      "Exa 4.9 page 197"
     ]
    },
    {
     "cell_type": "code",
     "collapsed": false,
     "input": [
      " \n",
      "#given data :\n",
      "IDSS=8.4 #in mAmpere\n",
      "IDSS=IDSS*10**-3 #in Ampere\n",
      "VP=-3 #in Volt\n",
      "VGS=-1.5 #in Volt\n",
      "#ID\n",
      "ID=IDSS*(1-VGS/VP)**2\n",
      "print \"Drain current ID = %0.2f mA \"%(ID*1000) \n",
      "#gmo\n",
      "gmo=-2*IDSS/VP #in S\n",
      "print \"Transconductance for VGS=0V = %0.2f mA/V or mS \"%(gmo*1000) \n",
      "gm=gmo*(1-VGS/VP) #in S\n",
      "print \"Transconductance = %0.2f mA/V or mS \"%(gm*1000) "
     ],
     "language": "python",
     "metadata": {},
     "outputs": [
      {
       "output_type": "stream",
       "stream": "stdout",
       "text": [
        "Drain current ID = 2.10 mA \n",
        "Transconductance for VGS=0V = 5.60 mA/V or mS \n",
        "Transconductance = 2.80 mA/V or mS \n"
       ]
      }
     ],
     "prompt_number": 9
    },
    {
     "cell_type": "heading",
     "level": 2,
     "metadata": {},
     "source": [
      "Exa 4.10 page 197"
     ]
    },
    {
     "cell_type": "code",
     "collapsed": false,
     "input": [
      "#given data :\n",
      "VP=-4.5 #in Volt\n",
      "IDSS=9 #in mAmpere\n",
      "IDSS=IDSS*10**-3 #in Ampere\n",
      "IDS=3 #in mAmpere\n",
      "IDS=IDS*10**-3 #in Ampere\n",
      "#Formula : IDS=IDSS*[1-VGS/VP]**2\n",
      "VGS=VP*(1-sqrt(IDS/IDSS)) #in Volt\n",
      "print \"ID=3mA at VGS = %0.3f Volt \"%(VGS) \n",
      "gm=(-2*IDSS)*(1-VGS/VP)/VP #in mA/V or mS\n",
      "print \"Transconductance = %0.2f mA/V or mS \"%(gm*1000) "
     ],
     "language": "python",
     "metadata": {},
     "outputs": [
      {
       "output_type": "stream",
       "stream": "stdout",
       "text": [
        "ID=3mA at VGS = -1.902 Volt \n",
        "Transconductance = 2.31 mA/V or mS \n"
       ]
      }
     ],
     "prompt_number": 10
    },
    {
     "cell_type": "heading",
     "level": 2,
     "metadata": {},
     "source": [
      "Exa 4.11 page 197"
     ]
    },
    {
     "cell_type": "code",
     "collapsed": false,
     "input": [
      "from __future__ import division\n",
      "#given data :\n",
      "ID_on=5 #in mAmpere\n",
      "VGS_on=8 #in Volt\n",
      "VGS=6 #in Volt\n",
      "VGST=4 #in Volt\n",
      "k=ID_on/(VGS_on-VGST)**2 #in mA/V**2\n",
      "ID=k*(VGS-VGST)**2 #in mA\n",
      "print \"Drain current = %0.2f mA \"%ID "
     ],
     "language": "python",
     "metadata": {},
     "outputs": [
      {
       "output_type": "stream",
       "stream": "stdout",
       "text": [
        "Drain current = 1.25 mA \n"
       ]
      }
     ],
     "prompt_number": 11
    }
   ],
   "metadata": {}
  }
 ]
}