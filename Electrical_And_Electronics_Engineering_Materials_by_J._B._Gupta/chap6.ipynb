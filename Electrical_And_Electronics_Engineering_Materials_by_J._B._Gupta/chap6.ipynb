{
 "metadata": {
  "name": "",
  "signature": "sha256:4eeeffa6f59d30b4e1f2c12f47c2e935c082ccc92041f27a88a14bdc2e7590f1"
 },
 "nbformat": 3,
 "nbformat_minor": 0,
 "worksheets": [
  {
   "cells": [
    {
     "cell_type": "heading",
     "level": 1,
     "metadata": {},
     "source": [
      "Chapter 6 - Dielectric Properties of Materials"
     ]
    },
    {
     "cell_type": "heading",
     "level": 2,
     "metadata": {},
     "source": [
      "Exa 6.1 page 291"
     ]
    },
    {
     "cell_type": "code",
     "collapsed": false,
     "input": [
      "from math import pi\n",
      "# given data\n",
      "epsilon_r=2.5 \n",
      "epsilon_o=8.854*10**-12 \n",
      "d=.2*10**-3 # in m\n",
      "A=20*10**-4 # in m**2\n",
      "omega=2*pi*10**6 # in radians/s\n",
      "f=10**6 \n",
      "tan_delta=4*10**-4 \n",
      "C=epsilon_o*epsilon_r*A/d # in F\n",
      "print \"Capicitance is : \",(C*10**12),\" miu miu F\" \n",
      "# Formula P=V**2/R, so\n",
      "# R=V**2/P and P= V**2*2*pi* f * C * tan delta, putting the value of P, we get\n",
      "R=1/(2*pi*f*C*tan_delta) # in ohm\n",
      "print \"The element of parallel R-C circuit is : %0.3f\"%(R*10**-6),\" M ohm\" "
     ],
     "language": "python",
     "metadata": {},
     "outputs": [
      {
       "output_type": "stream",
       "stream": "stdout",
       "text": [
        "Capicitance is :  221.35  miu miu F\n",
        "The element of parallel R-C circuit is : 1.798  M ohm\n"
       ]
      }
     ],
     "prompt_number": 1
    },
    {
     "cell_type": "heading",
     "level": 2,
     "metadata": {},
     "source": [
      "Exa 6.2 page 301"
     ]
    },
    {
     "cell_type": "code",
     "collapsed": false,
     "input": [
      "# given data\n",
      "g=0.055 # in V-m/N\n",
      "t=2*10**-3 # in m\n",
      "P=1.25*10**6 # in N/m**2\n",
      "epsilon=40.6*10**-12 # in F/m\n",
      "V_out=g*t*P \n",
      "print \"Output voltage is : \",(V_out),\" V\" \n",
      "# Formula Charge Sensivity=epsilon_o*epsilon_r*g=epsilon*g\n",
      "ChargeSensivity=epsilon*g \n",
      "print \"Charge Sensivity is : \",(ChargeSensivity),\" C/N\" "
     ],
     "language": "python",
     "metadata": {},
     "outputs": [
      {
       "output_type": "stream",
       "stream": "stdout",
       "text": [
        "Output voltage is :  137.5  V\n",
        "Charge Sensivity is :  2.233e-12  C/N\n"
       ]
      }
     ],
     "prompt_number": 2
    },
    {
     "cell_type": "heading",
     "level": 2,
     "metadata": {},
     "source": [
      "Exa 6.3 page 301"
     ]
    },
    {
     "cell_type": "code",
     "collapsed": false,
     "input": [
      "# given data\n",
      "V_out=150 # in V\n",
      "t=2*10**-3 # in m\n",
      "g=0.05 # in V-m/N\n",
      "A=5*5*10**-6 # in m**2\n",
      "F=V_out*A/(g*t) # in N\n",
      "print \"Force applied is : \",F,\" N\""
     ],
     "language": "python",
     "metadata": {},
     "outputs": [
      {
       "output_type": "stream",
       "stream": "stdout",
       "text": [
        "Force applied is :  37.5  N\n"
       ]
      }
     ],
     "prompt_number": 3
    },
    {
     "cell_type": "heading",
     "level": 2,
     "metadata": {},
     "source": [
      "Exa 6.4 page 302"
     ]
    },
    {
     "cell_type": "code",
     "collapsed": false,
     "input": [
      "# given data\n",
      "g=12*10**-3 # in V-m/N\n",
      "t=1.25*10**-3 # in m\n",
      "A=5*5*10**-6 # in m**2\n",
      "F=3 # in N\n",
      "ChargeSensitivity=150*10**-12 # in C/N\n",
      "P=F/A \n",
      "V_out=g*t*P # in V\n",
      "Q=ChargeSensitivity*F \n",
      "print \"Total charge developed is : \"+str(Q)+\" C\" \n",
      "# Formula C=Q/V \n",
      "C=Q/V_out \n",
      "print \"Capacitance is : \",(C*10**12),\" micro F\" \n",
      "\n",
      "# Note: Answer in the Book is wrong"
     ],
     "language": "python",
     "metadata": {},
     "outputs": [
      {
       "output_type": "stream",
       "stream": "stdout",
       "text": [
        "Total charge developed is : 4.5e-10 C\n",
        "Capacitance is :  250.0  micro F\n"
       ]
      }
     ],
     "prompt_number": 4
    }
   ],
   "metadata": {}
  }
 ]
}