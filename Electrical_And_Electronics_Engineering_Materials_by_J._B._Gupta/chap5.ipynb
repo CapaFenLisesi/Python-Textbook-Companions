{
 "metadata": {
  "name": "",
  "signature": "sha256:8973e988ba50241c61545087202684c50199bbf725f85368bb7440e1bdbbb193"
 },
 "nbformat": 3,
 "nbformat_minor": 0,
 "worksheets": [
  {
   "cells": [
    {
     "cell_type": "heading",
     "level": 1,
     "metadata": {},
     "source": [
      "Chapter 5 - Magnetic Properties of Materials"
     ]
    },
    {
     "cell_type": "heading",
     "level": 2,
     "metadata": {},
     "source": [
      "Exa 5.1 page 237"
     ]
    },
    {
     "cell_type": "code",
     "collapsed": false,
     "input": [
      "# given data\n",
      "Area_hysteresis_curve=9.3 #in cm**2\n",
      "Cordinate1_1cm=1000 #in AT/m\n",
      "Cordinate2_1cm=0.2 #in T\n",
      "#Part (i)\n",
      "hysteresis_loss=Area_hysteresis_curve*Cordinate1_1cm*Cordinate2_1cm #in J/m**3/cycle\n",
      "print \"Hysteresis loss/m**3/cycle = %0.2f J/m**3/cycle \"%(hysteresis_loss) \n",
      "#Part (ii)\n",
      "f=50 #in Hz\n",
      "H_LossPerCubicMeter=hysteresis_loss*f #in Watts\n",
      "print \"Hysteresis loss Per Cubic Meter = %0.2f kW\"%(H_LossPerCubicMeter*10**-3)"
     ],
     "language": "python",
     "metadata": {},
     "outputs": [
      {
       "output_type": "stream",
       "stream": "stdout",
       "text": [
        "Hysteresis loss/m**3/cycle = 1860.00 J/m**3/cycle \n",
        "Hysteresis loss Per Cubic Meter = 93.00 kW\n"
       ]
      }
     ],
     "prompt_number": 1
    },
    {
     "cell_type": "heading",
     "level": 2,
     "metadata": {},
     "source": [
      "Exa 5.2 page 237"
     ]
    },
    {
     "cell_type": "code",
     "collapsed": false,
     "input": [
      "# given data\n",
      "Area_hysteresis_loop=93 #in cm**2\n",
      "scale1_1cm=0.1 #in Wb/m**2\n",
      "scale2_1cm=50 #in AT/m\n",
      "\n",
      "hysteresis_loss=Area_hysteresis_loop*scale1_1cm*scale2_1cm #in J/m**3/cycle\n",
      "print \"Hysteresis loss/m**3/cycle = %0.2f J/m**3/cycle \"%(hysteresis_loss) \n",
      "\n",
      "f=65 #unit less\n",
      "V=1500*10**-6 # in m**3\n",
      "P_h=hysteresis_loss*f*V \n",
      "print \"Hysteresis loss is : %0.2f\"%(P_h),\" W\" "
     ],
     "language": "python",
     "metadata": {},
     "outputs": [
      {
       "output_type": "stream",
       "stream": "stdout",
       "text": [
        "Hysteresis loss/m**3/cycle = 465.00 J/m**3/cycle \n",
        "Hysteresis loss is : 45.34  W\n"
       ]
      }
     ],
     "prompt_number": 2
    },
    {
     "cell_type": "heading",
     "level": 2,
     "metadata": {},
     "source": [
      "Exa 5.3 page 237"
     ]
    },
    {
     "cell_type": "code",
     "collapsed": false,
     "input": [
      "from math import floor\n",
      "# given data\n",
      "nita=628 # in J/m**3\n",
      "B_max=1.3 # in Wb/m**2\n",
      "f=25 # in Hz\n",
      "ironMass=50 # in kg\n",
      "densityOfIron=7.8*10**3 # in kg/m**3\n",
      "V=ironMass/densityOfIron \n",
      "x=12.5 # in AT/m\n",
      "y=0.1 # in T\n",
      "# formula Hysteresis loss/second = nita*B_max**1.6*f*V\n",
      "H_Loss_per_second = nita*B_max**1.6*f*V  # in J/s\n",
      "H_Loss_per_second=floor(H_Loss_per_second) \n",
      "H_Loss_per_hour= H_Loss_per_second*60*60 # in J\n",
      "print \"Hysteresis Loss per hour is : \",(H_Loss_per_hour),\" J\" \n",
      "# Let Hysteresis Loss per m**3 per cycle = H1\n",
      "H1=nita*B_max**1.6 \n",
      "# formula  hysteresis loss/m**3/cycle = x*y*area of B-H loop\n",
      "Area_of_B_H_loop=H1/(x*y) \n",
      "Area_of_B_H_loop=floor(Area_of_B_H_loop) \n",
      "print \"Area of B-H loop is : \",(Area_of_B_H_loop),\" cm**2\" "
     ],
     "language": "python",
     "metadata": {},
     "outputs": [
      {
       "output_type": "stream",
       "stream": "stdout",
       "text": [
        "Hysteresis Loss per hour is :  550800.0  J\n",
        "Area of B-H loop is :  764.0  cm**2\n"
       ]
      }
     ],
     "prompt_number": 3
    },
    {
     "cell_type": "heading",
     "level": 2,
     "metadata": {},
     "source": [
      "Exa 5.4 page 237"
     ]
    },
    {
     "cell_type": "code",
     "collapsed": false,
     "input": [
      "from __future__ import division\n",
      "# given data\n",
      "H_L_per_M_Cube_per_C=380 # in W-S\n",
      "f=50 # unit less\n",
      "density=7800 # in kg/m**3\n",
      "V=1/density # in m**3\n",
      "# formula Hysteresis loss = Hysteresis loss/m**3/cycle * f * V\n",
      "P_h=H_L_per_M_Cube_per_C * f * V \n",
      "print \"Hysteresis loss is : %0.2f\"%(P_h), \"W\" "
     ],
     "language": "python",
     "metadata": {},
     "outputs": [
      {
       "output_type": "stream",
       "stream": "stdout",
       "text": [
        "Hysteresis loss is : 2.44 W\n"
       ]
      }
     ],
     "prompt_number": 4
    },
    {
     "cell_type": "heading",
     "level": 2,
     "metadata": {},
     "source": [
      "Exa 5.5 page 239"
     ]
    },
    {
     "cell_type": "code",
     "collapsed": false,
     "input": [
      "# given data\n",
      "P_e1=1600 # in watts\n",
      "B_max1=1.2 # in T\n",
      "f1=50 # in Hz\n",
      "B_max2=1.5 # in T\n",
      "f2=60 # in Hz\n",
      "# P_e propotional to B_max**2*f**2, so\n",
      "P_e2=P_e1*(B_max2/B_max1)**2*(f2/f1)**2\n",
      "print \"Eddy current loss is : \",(P_e2),\" watts\" "
     ],
     "language": "python",
     "metadata": {},
     "outputs": [
      {
       "output_type": "stream",
       "stream": "stdout",
       "text": [
        "Eddy current loss is :  3600.0  watts\n"
       ]
      }
     ],
     "prompt_number": 5
    }
   ],
   "metadata": {}
  }
 ]
}