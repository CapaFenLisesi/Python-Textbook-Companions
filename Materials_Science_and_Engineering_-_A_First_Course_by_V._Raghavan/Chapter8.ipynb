{
 "metadata": {
  "name": "",
  "signature": "sha256:eb64c006b6cab81b7d1b64dd2eb7c6e769f43093f546114eee318bacfbdab2b3"
 },
 "nbformat": 3,
 "nbformat_minor": 0,
 "worksheets": [
  {
   "cells": [
    {
     "cell_type": "heading",
     "level": 1,
     "metadata": {},
     "source": [
      "Chapter8-Diffusion in Solids"
     ]
    },
    {
     "cell_type": "heading",
     "level": 2,
     "metadata": {},
     "source": [
      "Ex1-pg180"
     ]
    },
    {
     "cell_type": "code",
     "collapsed": false,
     "input": [
      "## calculate the rate at which hydrogen escapes through the walls of the steel tank\n",
      "import math\n",
      "t = 5. ## thickness in mm\n",
      "c = 10. ## concentration\n",
      "D = 1e-9 ## diffusion coefficient\n",
      "print(\"\\n Example 8.1\")\n",
      "j  = D*c/(t*1e-3)\n",
      "print'%s %.2e %s '%(\"\\n Outward flux is \",j,\" kg m^-2 s^-1\")\n",
      "\n"
     ],
     "language": "python",
     "metadata": {},
     "outputs": [
      {
       "output_type": "stream",
       "stream": "stdout",
       "text": [
        "\n",
        " Example 8.1\n",
        "\n",
        " Outward flux is  2.00e-06  kg m^-2 s^-1 \n"
       ]
      }
     ],
     "prompt_number": 1
    },
    {
     "cell_type": "heading",
     "level": 2,
     "metadata": {},
     "source": [
      "Ex2-pg186"
     ]
    },
    {
     "cell_type": "code",
     "collapsed": false,
     "input": [
      "## Calculate maximum time till which material can be kept at 550 degree Celsius\n",
      "import math\n",
      "D_0 = 0.24e-4 ## diffusion coefficient\n",
      "Q = 121e3\n",
      "R = 8.314## Universal gas constant\n",
      "T = 550. ## temperature in Celsius\n",
      "k = 0.2 ## thickness of pure Al sheet in mm\n",
      "d = 0.1 ## penetration depth in mm\n",
      "c_x = 0.4 ## concentration in percentage\n",
      "A  = 2. ## Constant in percentage\n",
      "B = 2.## Constant in percentage\n",
      "print(\"\\n Example 8.2\")\n",
      "x = d-k\n",
      "D_cu_al = D_0*math.exp(-Q/(R*(T+273.))) \n",
      "k = (A-c_x)/B\n",
      "if k ==0.8:\n",
      "    z = 0.9 ## from table\n",
      "t = (x*1e-3)**2/(z**2.*4.*D_cu_al)## time in sec\n",
      "\n",
      "print'%s %.2f %s  %.2f %s'%(\"\\n Material can be kept at\",T,\" degree Celsius for nearly\",t/60,\" minute\")## answer in book is 100 min\n",
      "\n"
     ],
     "language": "python",
     "metadata": {},
     "outputs": [
      {
       "output_type": "stream",
       "stream": "stdout",
       "text": [
        "\n",
        " Example 8.2\n",
        "\n",
        " Material can be kept at 550.00  degree Celsius for nearly  102.58  minute\n"
       ]
      }
     ],
     "prompt_number": 3
    },
    {
     "cell_type": "heading",
     "level": 2,
     "metadata": {},
     "source": [
      "Ex3-pg188"
     ]
    },
    {
     "cell_type": "code",
     "collapsed": false,
     "input": [
      "## Calculate minimum depth up to which post machining is to be done\n",
      "import math\n",
      "D_0 = 0.7e-4 ## diffusion coefficient\n",
      "Q = 157. ## Energy in kJ mol**-1, considered from table 8.2\n",
      "R = 8.314## Universal gas constant\n",
      "T = 950. ## temperature in Celsius\n",
      "c2 = 0.8 ## concentration in percentage\n",
      "cs = 0. ## concentration in percentage\n",
      "c_x = 0.6## concentration in percentage\n",
      "t = 4. ## time in hours\n",
      "a = 1. ##let\n",
      "print(\"\\n Example 8.3\")\n",
      "A = cs\n",
      "B = c2-cs \n",
      "D = D_0*math.exp(-Q*1e3/(R*(T+273.)))\n",
      "k = math.exp(((A-c_x)/B))*-1.\n",
      "if k >0.7 :\n",
      "    if k<0.712 :\n",
      "           z = 0.81 ## from table\n",
      "    \n",
      "z=0.81\n",
      "x = z*2.*math.sqrt(D*t*3600.)\n",
      "\n",
      "print'%s %.2f %s '%(\"\\n Depth up to which machining is required is nearly \",x*1e3,\" mm\")\n",
      "## numerical value of answer in book is 0.75\n",
      "\n"
     ],
     "language": "python",
     "metadata": {},
     "outputs": [
      {
       "output_type": "stream",
       "stream": "stdout",
       "text": [
        "\n",
        " Example 8.3\n",
        "\n",
        " Depth up to which machining is required is nearly  0.72  mm \n"
       ]
      }
     ],
     "prompt_number": 7
    },
    {
     "cell_type": "heading",
     "level": 2,
     "metadata": {},
     "source": [
      "Ex4-pg189"
     ]
    },
    {
     "cell_type": "code",
     "collapsed": false,
     "input": [
      "## Calculate time required to get required boron concentration\n",
      "import math\n",
      "D = 4e-17 ## diffusion coefficient\n",
      "c1 = 0.\n",
      "cs = 3e26\n",
      "c_x = 1e23 ## number of atoms\n",
      "x = 2e-6 ## depth in m\n",
      "print(\"\\n Example 8.4\")\n",
      "A = cs\n",
      "B = cs - c1\n",
      "k = (A-c_x)/B\n",
      "if k >0.99966 :\n",
      "    if k< 0.9997 :\n",
      "        z = 2.55 ## from table\n",
      "    \n",
      "z=2.55\n",
      "t = x**2./(z**2.*4.*D)## time in sec\n",
      "\n",
      "print'%s %.2f %s '%(\"\\n Time required to get required boron concentration is \",t,\" sec\")## answer in book is 3845 sec\n",
      "\n"
     ],
     "language": "python",
     "metadata": {},
     "outputs": [
      {
       "output_type": "stream",
       "stream": "stdout",
       "text": [
        "\n",
        " Example 8.4\n",
        "\n",
        " Time required to get required boron concentration is  3844.68  sec \n"
       ]
      }
     ],
     "prompt_number": 8
    },
    {
     "cell_type": "heading",
     "level": 2,
     "metadata": {},
     "source": [
      "Ex5-pg194"
     ]
    },
    {
     "cell_type": "code",
     "collapsed": false,
     "input": [
      "## Calculate ratio of cross sectional areas\n",
      "import math\n",
      "r = 10. ## radius in mm\n",
      "t = 4. ## thickness in angstrom\n",
      "print(\"\\n Example 8.5\")\n",
      "r = 2.*math.pi*r*1e-3*t*1e-10/(math.pi*(r*1e-3)**2.)\n",
      "print'%s %.2e %s '%(\"\\n Ratio of cross sectional areas is  \",r,\"\")\n",
      "\n"
     ],
     "language": "python",
     "metadata": {},
     "outputs": [
      {
       "output_type": "stream",
       "stream": "stdout",
       "text": [
        "\n",
        " Example 8.5\n",
        "\n",
        " Ratio of cross sectional areas is   8.00e-08  \n"
       ]
      }
     ],
     "prompt_number": 9
    }
   ],
   "metadata": {}
  }
 ]
}