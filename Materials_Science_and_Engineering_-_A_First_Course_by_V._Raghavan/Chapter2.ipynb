{
 "metadata": {
  "name": "",
  "signature": "sha256:07f61c36f4ee70b23f265b818d9f1841b5b1a2cc75ba2a7f289233eee162d63f"
 },
 "nbformat": 3,
 "nbformat_minor": 0,
 "worksheets": [
  {
   "cells": [
    {
     "cell_type": "heading",
     "level": 1,
     "metadata": {},
     "source": [
      "Chapter2-Equilibrium and Kinetics"
     ]
    },
    {
     "cell_type": "heading",
     "level": 2,
     "metadata": {},
     "source": [
      "Ex1-pg13"
     ]
    },
    {
     "cell_type": "code",
     "collapsed": false,
     "input": [
      "## Calculate the entropy increase\n",
      "import math\n",
      "del_h = 6.02 ## Heat added in kJ/mol\n",
      "t_m = 273.15 ## mean temperature in kelvin\n",
      "print(\"\\n Example 2.1\")\n",
      "del_s = del_h*1e3/t_m\n",
      "print\"%s %.2f %s\"%(\"\\n Increase in entropy is \",del_s,\" J mol^-1 K^-1\")\n"
     ],
     "language": "python",
     "metadata": {},
     "outputs": [
      {
       "output_type": "stream",
       "stream": "stdout",
       "text": [
        "\n",
        " Example 2.1\n",
        "\n",
        " Increase in entropy is  22.04  J mol^-1 K^-1\n"
       ]
      }
     ],
     "prompt_number": 1
    },
    {
     "cell_type": "heading",
     "level": 2,
     "metadata": {},
     "source": [
      "Ex2-pg16"
     ]
    },
    {
     "cell_type": "code",
     "collapsed": false,
     "input": [
      "## Calculation of fraction of atoms with energy equal to or greater than 1eV at temperatures\n",
      "import math\n",
      "E = 1. ## energy in electron volt\n",
      "e = 1.6e-19 ## charge on electron\n",
      "k = 1.38e-23 ## constant\n",
      "t1 = 300. ## temperature in K\n",
      "t2 = 1500. ## temperature in K\n",
      "print(\"\\n Example 2.2\")\n",
      "print(\"\\n\\n Part A:\")\n",
      "n_N = math.exp(-(e/(k*t1)))\n",
      "print\"%s %.2f %s %.2e %s \"%(\"\\n Fraction of atoms with energy equal to or greater than 1eV at temperature \",t1,\" K is\" ,n_N, \" \") ## numerical value of answer in book is 2e-17\n",
      "print(\"\\n\\n Part B:\")\n",
      "n_N = math.exp(-(e/(k*t2)))\n",
      "print\"%s %.2f %s %.2e %s \"%(\"\\n Fraction of atoms with energy equal to or greater than 1eV at temperature\",t2,\" K is \", n_N,\" \") ## numerical value of answer in book is 4.3e4\n",
      "\n",
      "#ans are converted into units \n"
     ],
     "language": "python",
     "metadata": {},
     "outputs": [
      {
       "output_type": "stream",
       "stream": "stdout",
       "text": [
        "\n",
        " Example 2.2\n",
        "\n",
        "\n",
        " Part A:\n",
        "\n",
        " Fraction of atoms with energy equal to or greater than 1eV at temperature  300.00  K is 1.64e-17   \n",
        "\n",
        "\n",
        " Part B:\n",
        "\n",
        " Fraction of atoms with energy equal to or greater than 1eV at temperature 1500.00  K is  4.40e-04   \n"
       ]
      }
     ],
     "prompt_number": 5
    }
   ],
   "metadata": {}
  }
 ]
}