{
 "metadata": {
  "name": "",
  "signature": "sha256:c5dbae6b072806174f365424df1f228e2db090f713ce7d815b535004e0fe45db"
 },
 "nbformat": 3,
 "nbformat_minor": 0,
 "worksheets": [
  {
   "cells": [
    {
     "cell_type": "heading",
     "level": 1,
     "metadata": {},
     "source": [
      "Chapter13-Oxidation and Corrosion"
     ]
    },
    {
     "cell_type": "heading",
     "level": 2,
     "metadata": {},
     "source": [
      "Ex2-pg327"
     ]
    },
    {
     "cell_type": "code",
     "collapsed": false,
     "input": [
      "## Calculation of required quantity of magnesium\n",
      "import math\n",
      "j = 15. ## current density in mA m**-2\n",
      "m = 0.0243 ## molar mass of magnesium\n",
      "F = 96490. ## farad charge\n",
      "n = 2. ## charge on ion\n",
      "t = 10. ## time in years\n",
      "print(\"\\n Example 13.2\")\n",
      "a = m*j*1e-3*(t*365.*24.*3600.)/(n*F)\n",
      "print'%s %.2f %s '%(\"\\n Amount of magnesium required is \",a,\" kg m^-2\")\n"
     ],
     "language": "python",
     "metadata": {},
     "outputs": [
      {
       "output_type": "stream",
       "stream": "stdout",
       "text": [
        "\n",
        " Example 13.2\n",
        "\n",
        " Amount of magnesium required is  0.60  kg m^-2 \n"
       ]
      }
     ],
     "prompt_number": 1
    }
   ],
   "metadata": {}
  }
 ]
}