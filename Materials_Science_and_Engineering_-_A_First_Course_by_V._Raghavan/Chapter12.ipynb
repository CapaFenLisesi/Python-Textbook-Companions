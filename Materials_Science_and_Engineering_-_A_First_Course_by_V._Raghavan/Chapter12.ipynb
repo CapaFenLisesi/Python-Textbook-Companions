{
 "metadata": {
  "name": "",
  "signature": "sha256:0f11efb2446d3925dee0c3b6ccd93c1c04ea56a7a8105c3f31b2f153d6912c4c"
 },
 "nbformat": 3,
 "nbformat_minor": 0,
 "worksheets": [
  {
   "cells": [
    {
     "cell_type": "heading",
     "level": 1,
     "metadata": {},
     "source": [
      "Chapter12-Fracture"
     ]
    },
    {
     "cell_type": "heading",
     "level": 2,
     "metadata": {},
     "source": [
      "Ex1-pg302"
     ]
    },
    {
     "cell_type": "code",
     "collapsed": false,
     "input": [
      "## Estimate fracture strength\n",
      "import math\n",
      "c = 2. ## crack of half length in micro meter\n",
      "Y = 70. ## young\u2019s modulus in GN m**-2\n",
      "Gamma = 1. ## specific surface energy \n",
      "print(\"\\n Example 12.1\")\n",
      "sigma_f = math.sqrt(2.*Gamma*Y*1e9/(math.pi*c*1e-6))/1e6\n",
      "r = Y*1e3/sigma_f\n",
      "print'%s %.2f %s %.2f %s  '%(\"\\n Fracture strength of\",math.ceil(sigma_f),\" MN m^-2 is\"   \" \",(math.ceil(r/100.)*100.),\"th of young\u2019s modulus. \")\n",
      "print(\"\\n Thus Griffiths criterion bridges the gap between the \\n observed and ideal strengths of brittle material\")\n",
      "\n"
     ],
     "language": "python",
     "metadata": {},
     "outputs": [
      {
       "output_type": "stream",
       "stream": "stdout",
       "text": [
        "\n",
        " Example 12.1\n",
        "\n",
        " Fracture strength of 150.00  MN m^-2 is  500.00 th of young\u2019s modulus.   \n",
        "\n",
        " Thus Griffiths criterion bridges the gap between the \n",
        " observed and ideal strengths of brittle material\n"
       ]
      }
     ],
     "prompt_number": 12
    },
    {
     "cell_type": "heading",
     "level": 2,
     "metadata": {},
     "source": [
      "Ex2-pg304"
     ]
    },
    {
     "cell_type": "code",
     "collapsed": false,
     "input": [
      "## Estimate the brittle fracture strength at low temperatures\n",
      "import math\n",
      "Gamma = 1.5## specific surface energy in J/m**2\n",
      "Y = 200 ## Young\u2019s modulus in GN/m**2\n",
      "c = 2. ## half length of crack\n",
      "\n",
      "print(\"\\n Example 12.2\")\n",
      "sigma_f = math.sqrt(2.*Gamma*Y*(1*10**9)/(math.pi*c*1e-6))\n",
      "\n",
      "print'%s %.2f %s '%(\"\\n Brittle fracture strength at low temperatures is \",sigma_f/1e6,\" MNm^-2 \")## answer in book is 310MNm**-2\n",
      "\n"
     ],
     "language": "python",
     "metadata": {},
     "outputs": [
      {
       "output_type": "stream",
       "stream": "stdout",
       "text": [
        "\n",
        " Example 12.2\n",
        "\n",
        " Brittle fracture strength at low temperatures is  309.02  MNm^-2  \n"
       ]
      }
     ],
     "prompt_number": 13
    },
    {
     "cell_type": "heading",
     "level": 2,
     "metadata": {},
     "source": [
      "Ex3-pg306"
     ]
    },
    {
     "cell_type": "code",
     "collapsed": false,
     "input": [
      "## Estimate the temperature at which the ductility of brittle transition occurs at given strain rates\n",
      "import math\n",
      "\n",
      "Gamma = 2.## specific surface energy in J/m**2\n",
      "Y = 350. ## Young\u2019s modulus in GN/m**2\n",
      "c = 2. ## half length of crack\n",
      "de_dt1 = 1e-2 ## strain rate\n",
      "de_dt2 = 1e-5 ## strain rate\n",
      "print(\"\\n Example 12.3\")\n",
      "print(\"\\n Part A:\")\n",
      "sigma_f = math.sqrt(2.*Gamma*Y*1e9/(math.pi*c*1e-6))\n",
      "sigma_y = sigma_f/1e6\n",
      "T = 173600./(sigma_y-20.6-61.3*math.log10(de_dt1))## temperature calculation\n",
      "\n",
      "print'%s %.2e %s %.2f %s '%(\"\\n Transition temperature for strain rate\",de_dt1,\" s^-1 is \",T,\" K\")## answer in book is 300 K\n",
      "print(\"\\n\\n Part B:\")\n",
      "\n",
      "T = 173600./(sigma_y-20.6-61.3*math.log10(de_dt2))## temperature calculation\n",
      "\n",
      "print'%s %.2e %s %.2f %s  '%(\"\\n Transition temperature for strain rate \",de_dt2,\" s^-1 is \",T,\" K\")## answer in book is 230 K\n",
      "## Solution in book for two parts is divided into three parts\n",
      "\n"
     ],
     "language": "python",
     "metadata": {},
     "outputs": [
      {
       "output_type": "stream",
       "stream": "stdout",
       "text": [
        "\n",
        " Example 12.3\n",
        "\n",
        " Part A:\n",
        "\n",
        " Transition temperature for strain rate 1.00e-02  s^-1 is  302.42  K \n",
        "\n",
        "\n",
        " Part B:\n",
        "\n",
        " Transition temperature for strain rate  1.00e-05  s^-1 is  229.04  K  \n"
       ]
      }
     ],
     "prompt_number": 17
    }
   ],
   "metadata": {}
  }
 ]
}