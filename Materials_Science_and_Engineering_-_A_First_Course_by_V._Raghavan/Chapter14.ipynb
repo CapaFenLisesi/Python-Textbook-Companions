{
 "metadata": {
  "name": "",
  "signature": "sha256:16b890340088f9fd7022f78eb620d8c82c89eeb756443b6c5302051840234e10"
 },
 "nbformat": 3,
 "nbformat_minor": 0,
 "worksheets": [
  {
   "cells": [
    {
     "cell_type": "heading",
     "level": 1,
     "metadata": {},
     "source": [
      "Chapter14-Conductors and Resistors"
     ]
    },
    {
     "cell_type": "heading",
     "level": 2,
     "metadata": {},
     "source": [
      "Ex1-pg336"
     ]
    },
    {
     "cell_type": "code",
     "collapsed": false,
     "input": [
      "## Calculate energy difference\n",
      "import math\n",
      "n_x1 = 1. ## atomic level\n",
      "n_y1 = 1.## atomic level\n",
      "n_z1 = 1.## atomic level\n",
      "n_x2 = 2.## atomic level\n",
      "L = 10. ## lattice parameter in mm\n",
      "h = 6.626e-34 ## plank constant\n",
      "m_e = 9.109e-31 ## mass of electron in kg\n",
      "print(\"\\n Example 14.1\")\n",
      "E1 = h**2.*(n_x1**2.+n_y1**2.+n_z1**2.)/(8.*m_e*(L*1e-3)**2.)\n",
      "E2 = h**2.*(n_x2**2+n_y1**2.+n_z1**2.)/(8.*m_e*(L*1e-3)**2.)\n",
      "E = E2-E1 ## energy difference \n",
      "print'%s %.2e %s '%(\"\\n Energy difference is \",E,\" J \")\n"
     ],
     "language": "python",
     "metadata": {},
     "outputs": [
      {
       "output_type": "stream",
       "stream": "stdout",
       "text": [
        "\n",
        " Example 14.1\n",
        "\n",
        " Energy difference is  1.81e-33  J  \n"
       ]
      }
     ],
     "prompt_number": 1
    },
    {
     "cell_type": "heading",
     "level": 2,
     "metadata": {},
     "source": [
      "Ex2-p340"
     ]
    },
    {
     "cell_type": "code",
     "collapsed": false,
     "input": [
      "## Calculate conductivity of copper at 300 K\n",
      "import math\n",
      "tau = 2e-14 ## collision time of electron in s\n",
      "e = 1.602e-19 ## charge on electron\n",
      "m_e = 9.1e-31 ## mass of electron in kg\n",
      "\n",
      "print(\"\\n Example 14.2\")\n",
      "n = 6.023e23*8960/0.06354\n",
      "\n",
      "sigma= n*e**2*tau/m_e\n",
      "print'%s %.2e %s '%(\"\\n Conductivity of copper at 300 K is \",sigma,\" ohm^-1 m^-1 \")\n"
     ],
     "language": "python",
     "metadata": {},
     "outputs": [
      {
       "output_type": "stream",
       "stream": "stdout",
       "text": [
        "\n",
        " Example 14.2\n",
        "\n",
        " Conductivity of copper at 300 K is  4.79e+07  ohm^-1 m^-1  \n"
       ]
      }
     ],
     "prompt_number": 3
    },
    {
     "cell_type": "heading",
     "level": 2,
     "metadata": {},
     "source": [
      "Ex3-pg341"
     ]
    },
    {
     "cell_type": "code",
     "collapsed": false,
     "input": [
      "## Estimation of resistivity due to impurity scattering of 1% of Nickel in copper lattice\n",
      "import math\n",
      "r_cu = 1.8e-8 ## resistivity of pure copper in ohm-m\n",
      "r_Ni_cu = 7e-8 ##resistivity of copper 4% Ni in ohm-m\n",
      "per1 = 4.##impurity in percent\n",
      "per2 = 1. ## impurity in percent\n",
      "print(\"\\n Example 14.3\")\n",
      "r = (r_Ni_cu-r_cu)*per2/per1 ## resistivity of copper 1% Ni in ohm-m\n",
      "print'%s %.2e %s '%(\"\\n Resistivity due to impurity scattering of 1 %% of Nickel in copper lattice is \",r,\" ohm-m\")\n"
     ],
     "language": "python",
     "metadata": {},
     "outputs": [
      {
       "output_type": "stream",
       "stream": "stdout",
       "text": [
        "\n",
        " Example 14.3\n",
        "\n",
        " Resistivity due to impurity scattering of 1 %% of Nickel in copper lattice is  1.30e-08  ohm-m \n"
       ]
      }
     ],
     "prompt_number": 5
    }
   ],
   "metadata": {}
  }
 ]
}