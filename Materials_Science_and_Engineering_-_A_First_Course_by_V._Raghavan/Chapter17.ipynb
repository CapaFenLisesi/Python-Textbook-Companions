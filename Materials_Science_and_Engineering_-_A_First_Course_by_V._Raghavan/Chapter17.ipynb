{
 "metadata": {
  "name": "",
  "signature": "sha256:6d409ad229d7ea8b04d3a7ade9af76e0d2068bf06a44cce3098f24579258ada7"
 },
 "nbformat": 3,
 "nbformat_minor": 0,
 "worksheets": [
  {
   "cells": [
    {
     "cell_type": "heading",
     "level": 1,
     "metadata": {},
     "source": [
      "Chapter17-Dielectric Materials"
     ]
    },
    {
     "cell_type": "heading",
     "level": 2,
     "metadata": {},
     "source": [
      "Ex1-pg414"
     ]
    },
    {
     "cell_type": "code",
     "collapsed": false,
     "input": [
      "## calculation of relative dielectric constant\n",
      "l= 10.## length of capacitor in mm\n",
      "b = 10. ## width of capacitor in mm\n",
      "d = 2. ## distance of separation in mm\n",
      "c = 1e-9 ## capacitance in farad\n",
      "epsilon_0 = 8.85e-12 ## permittivity of free space\n",
      "print(\"\\n Example 17.1\")\n",
      "epsilon_r = c*d*1e-3/(epsilon_0*l*1e-3*b*1e-3)\n",
      "\n",
      "print'%s %.2f %s '%(\"\\n Relative dielectric constant is \",epsilon_r,\"\")\n",
      "\n"
     ],
     "language": "python",
     "metadata": {},
     "outputs": [
      {
       "output_type": "stream",
       "stream": "stdout",
       "text": [
        "\n",
        " Example 17.1\n",
        "\n",
        " Relative dielectric constant is  2259.89  \n"
       ]
      }
     ],
     "prompt_number": 1
    },
    {
     "cell_type": "heading",
     "level": 2,
     "metadata": {},
     "source": [
      "Ex2-pg421"
     ]
    },
    {
     "cell_type": "code",
     "collapsed": false,
     "input": [
      "## calculate the polarization of a BaTio3 crystal\n",
      "import math\n",
      "Ti_shift= 0.06 ## shift of TI ion in angstrom\n",
      "O_shift = 0.06 ## shift of oxygen ion of side face in angstrom\n",
      "o_shift = 0.08 ##shift of oxygen ion of top and bottom faces in angstrom\n",
      "O_charge  = 2. ## unit charge on oxygen ion of side face\n",
      "o_charge  = 2. ## unit charge on oxygen ion of top and bottom faces\n",
      "Ti_charge  = 4. ## unit charge on titanium ion \n",
      "n_O = 2. ## number of oxygen ion of side face\n",
      "n_o = 1. ## number of oxygen ion of top and bottom face\n",
      "n_Ti = 1. ## number of titanium ion \n",
      "e = 1.6e-19 ## amount of one unit charge in coulomb\n",
      "print(\"\\n Example 17.2\")\n",
      "p_Ti = n_Ti*Ti_charge *e*Ti_shift*1e-10\n",
      "p_O = n_O*O_charge*e*O_shift*1e-10\n",
      "p_o = n_o*o_charge*e*o_shift*1e-10\n",
      "Total = p_Ti+p_O+p_o\n",
      "P = Total/(4.03*3.98**2*1e-30)\n",
      "print'%s %.2f %s '%(\"\\n Polarization of BaTiO3 crystal is \",P,\" Cm^-2 \")\n",
      "\n"
     ],
     "language": "python",
     "metadata": {},
     "outputs": [
      {
       "output_type": "stream",
       "stream": "stdout",
       "text": [
        "\n",
        " Example 17.2\n",
        "\n",
        " Polarization of BaTiO3 crystal is  0.16  Cm^-2  \n"
       ]
      }
     ],
     "prompt_number": 3
    }
   ],
   "metadata": {}
  }
 ]
}