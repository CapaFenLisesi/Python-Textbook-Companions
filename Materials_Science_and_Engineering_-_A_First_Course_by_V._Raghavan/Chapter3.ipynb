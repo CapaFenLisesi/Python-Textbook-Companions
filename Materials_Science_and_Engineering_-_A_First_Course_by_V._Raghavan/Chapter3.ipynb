{
 "metadata": {
  "name": "",
  "signature": "sha256:9e17f5e0d12d7afd0d39f3b8eb55c19d25440f2b9aacf49c5777e41e024a9c9f"
 },
 "nbformat": 3,
 "nbformat_minor": 0,
 "worksheets": [
  {
   "cells": [
    {
     "cell_type": "heading",
     "level": 1,
     "metadata": {},
     "source": [
      "Chapter3-Crystal Geometry and Structure Determination"
     ]
    },
    {
     "cell_type": "heading",
     "level": 2,
     "metadata": {},
     "source": [
      "Ex2-pg 25"
     ]
    },
    {
     "cell_type": "code",
     "collapsed": false,
     "input": [
      "## Calculate effective number of lattice point in three cubic space lattice\n",
      "import math\n",
      "sc_n = 1/8. ## sharing of one lattice point in a unit cell\n",
      "sc_N = 8. ## Number of lattice points in Simple cubic \n",
      "bcc_n_e = 1/4.## sharing of one edge lattice point in a BCC \n",
      "bcc_N_e = 4.## Number of edge lattice point in a BCC \n",
      "bcc_n_c  = 1.## sharing of one body center lattice point in a BCC \n",
      "bcc_N_c = 1.## Number of body center lattice point in a BCC \n",
      "fcc_n_e = 1/8. ## sharing of one corner lattice point in a FCC \n",
      "fcc_N_e = 8.## Number of corner lattice point in a FCC \n",
      "fcc_n_f = 1./2. ## sharing of one face center lattice point in a FCC \n",
      "fcc_N_f = 6.## Number of face center lattice point in a FCC \n",
      "print(\"\\n Example 3.2 \")\n",
      "sc_net = sc_n*sc_N\n",
      "bcc_net = bcc_n_e*bcc_N_e+bcc_n_c*bcc_N_c\n",
      "fcc_net = fcc_n_e*fcc_N_e+fcc_n_f*fcc_N_f\n",
      "print(\"\\n Effective number of lattice points are as:\")\n",
      "print(                                            \"\\n\\n Space lattice                \\t Abbreviation \\t                              Effective number of lattice point in unit cell \\n\")\n",
      "print\"%s %.2f %s %.2f %s %.2f %s\"%(\"Simple cubic \\t\\tSC \\t\\t\\t\\t \",sc_net,\"\\n Body center cubic\\tBCC \\t\\t\\t\\t \",bcc_net,\"     \\n Face centered cubic\\tFCC \\t\\t\\t\\t \",fcc_net,\" \")\n",
      "\n"
     ],
     "language": "python",
     "metadata": {},
     "outputs": [
      {
       "output_type": "stream",
       "stream": "stdout",
       "text": [
        "\n",
        " Example 3.2 \n",
        "\n",
        " Effective number of lattice points are as:\n",
        "\n",
        "\n",
        " Space lattice                \t Abbreviation \t                              Effective number of lattice point in unit cell \n",
        "\n",
        "Simple cubic \t\tSC \t\t\t\t  1.00 \n",
        " Body center cubic\tBCC \t\t\t\t  2.00      \n",
        " Face centered cubic\tFCC \t\t\t\t  4.00  \n"
       ]
      }
     ],
     "prompt_number": 6
    },
    {
     "cell_type": "heading",
     "level": 2,
     "metadata": {},
     "source": [
      "Ex7-pg40"
     ]
    },
    {
     "cell_type": "code",
     "collapsed": false,
     "input": [
      "##  Determine Interplanar spacing and miller indices\n",
      "import math\n",
      "a = 3.16 ## lattice parameter in angstrom\n",
      "l1 = 1. ## line number\n",
      "l2 = 2. ## line number\n",
      "l3 = 3. ## line number\n",
      "l4 = 4. ## line number\n",
      "theta1 = 20.3 ## angle for line 1\n",
      "theta2 = 29.2## angle for line 2\n",
      "theta3 = 36.7## angle for line 3\n",
      "theta4 = 43.6## angle for line 4\n",
      "n = 1 ## order \n",
      "D = 1.54 ## wavelength in angstrom\n",
      "print(\" Example 3.7\")\n",
      "d1 = D/(2.*math.sin(theta1*math.pi/180.))\n",
      "d2 = D/(2.*math.sin(theta2*math.pi/180.))\n",
      "d3 = D/(2.*math.sin(theta3*math.pi/180.))\n",
      "d4 = D/(2.*math.sin(theta4*math.pi/180.))\n",
      "x1 = a**2/d1**2  \n",
      "x2 = a**2/d2**2  \n",
      "x3 = a**2/d3**2  \n",
      "x4 = a**2/d4**2 ## where x is function of h,k and l\n",
      "print'%s %.2f %s'%(\" Interplanar spacing is  \",x1,\" angstrom \") ## answer in book is 2.220 angstrom\n",
      "if  math.floor(x1) == 2:\n",
      "    print'%s %.2f %s'%(\" For a**2/d**2 = \",x1,\"\\t Reflection plane is {110}\")\n",
      "\n",
      "\n",
      "if math.floor(x2) == 4 :\n",
      "        print'%s %.2f %s'%(\" For a**2/d**2 =\",x2,\" \\t Reflection plane is {200}\")\n",
      "\n",
      "if math.floor(x3) == 6:\n",
      "    print'%s %.2f %s'%(\" For a**2/d**2 =\",x3,\" \\t Reflection plane is {211}\") \n",
      "\n",
      "\n",
      "if math.floor(x4) == 8:\n",
      "    print'%s %.2f %s'%(\" For a**2/d**2 =\",x4,\" \\t Reflection plane is {220}\") \n",
      "\n"
     ],
     "language": "python",
     "metadata": {},
     "outputs": [
      {
       "output_type": "stream",
       "stream": "stdout",
       "text": [
        " Example 3.7\n",
        " Interplanar spacing is   2.03  angstrom \n",
        " For a**2/d**2 =  2.03 \t Reflection plane is {110}\n",
        " For a**2/d**2 = 4.01  \t Reflection plane is {200}\n",
        " For a**2/d**2 = 6.02  \t Reflection plane is {211}\n",
        " For a**2/d**2 = 8.01  \t Reflection plane is {220}\n"
       ]
      }
     ],
     "prompt_number": 9
    },
    {
     "cell_type": "heading",
     "level": 2,
     "metadata": {},
     "source": [
      "Ex8-pg45"
     ]
    },
    {
     "cell_type": "code",
     "collapsed": false,
     "input": [
      "## Determine structure and lattice parameter of material\n",
      "import math\n",
      "d = 114.6 ## diameter of power camera in angstrom\n",
      "D= 1.54 ## wavelength in angstrom\n",
      "s1 = 86.\n",
      "s2 = 100.\n",
      "s3 = 148.\n",
      "s4 = 180.\n",
      "s5 = 188.\n",
      "s6 = 232. \n",
      "s7 = 272.\n",
      "print(\"\\n Example 3.8\")\n",
      "R = d/2.      ## Radius \n",
      "if R==57.3 :\n",
      "  k = 1/4. ## Bragg angle factor\n",
      "a1 = (math.sin(s1*k*math.pi/180))**2.\n",
      "a2 = (math.sin(s2*k*math.pi/180))**2.\n",
      "a3 = (math.sin(s3*k*math.pi/180))**2.\n",
      "a4 = (math.sin(s4*k*math.pi/180))**2.\n",
      "a5 = (math.sin(s5*k*math.pi/180))**2.\n",
      "a6 = (math.sin(s6*k*math.pi/180))**2.\n",
      "a7 = (math.sin(s7*k*math.pi/180))**2.\n",
      "c = 22. ## constant to convert into integral number\n",
      "\n",
      "print'%s %.2f%s %.2f%s %.2f%s %.2f%s %.2f%s %.2f%s %.2f%s '%(\"\\n Within experimental error, values are as in integral ratio are as: \\n \",math.ceil(c*a1),\":\",math.ceil(c*a2),\":\",math.ceil(c*a3),\":\",math.ceil(c*a4),\":\",math.ceil(c*a5),\":\",math.ceil(c*a6),\" :\",math.ceil(c*a7),\"\")\n",
      "\n",
      "print(\" So, this structure is FCC and material is copper with 3.62 angstrom lattice parameter\")\n",
      "\n"
     ],
     "language": "python",
     "metadata": {},
     "outputs": [
      {
       "output_type": "stream",
       "stream": "stdout",
       "text": [
        "\n",
        " Example 3.8\n",
        "\n",
        " Within experimental error, values are as in integral ratio are as: \n",
        "  3.00: 4.00: 8.00: 11.00: 12.00: 16.00 : 19.00 \n",
        " So, this structure is FCC and material is copper with 3.62 angstrom lattice parameter\n"
       ]
      }
     ],
     "prompt_number": 10
    }
   ],
   "metadata": {}
  }
 ]
}