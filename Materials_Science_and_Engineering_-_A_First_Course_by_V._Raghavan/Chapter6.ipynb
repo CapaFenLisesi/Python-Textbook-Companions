{
 "metadata": {
  "name": "",
  "signature": "sha256:fa6856d58b3f27d024cbbd84107a03ee360d90d6e0a0229efb8a791c3590e2c5"
 },
 "nbformat": 3,
 "nbformat_minor": 0,
 "worksheets": [
  {
   "cells": [
    {
     "cell_type": "heading",
     "level": 1,
     "metadata": {},
     "source": [
      "Chapter6-Crystal Imperfection"
     ]
    },
    {
     "cell_type": "heading",
     "level": 2,
     "metadata": {},
     "source": [
      "Ex1-pg125"
     ]
    },
    {
     "cell_type": "code",
     "collapsed": false,
     "input": [
      "## Find equilibrium concentration of vacancies in metals at given temperature\n",
      "import math\n",
      "t1 = 0. ## temperature in kelvin\n",
      "t2 = 300. ## temperature in kelvin\n",
      "t3 = 900.## temperature in kelvin\n",
      "R = 8.314 ## universal gas constant\n",
      "del_hf_al = 68. ## Enthalpy of formation of aluminium crystal in KJ\n",
      "del_hf_ni = 168. ## Enthalpy of formation of nickel crystal in KJ\n",
      "print(\"\\n Example 6.1\")\n",
      "\n",
      "print'%s %.2f %s '%(\"\\n Equilibrium concentration of vacancies of aluminium at\",t1,\"K is 0\")\n",
      "n_N = math.exp(-del_hf_al*1e3/(R*t2))\n",
      "print'%s %.2f %s %.2e %s  '%(\"\\n Equilibrium concentration of vacancies of aluminium at \",t2,\"K is \",n_N,\"\") ## answer in book is 1.45e-12\n",
      "n_N = math.exp(-del_hf_al*1e3/(R*t3))\n",
      "print'%s %.2f %s %.2e %s  '%(\"\\n Equilibrium concentration of vacancies of aluminium at\",t3,\"K is\",n_N,\"\") ## answer in book is 1.12e-4\n",
      "\n",
      "print'%s %.2f %s '%(\"\\n\\n Equilibrium concentration of vacancies of Nickel at \",t1,\"K is 0\") \n",
      "n_N = math.exp(-del_hf_ni*1e3/(R*t2))\n",
      "print'%s %.2f %s %.2e %s '%(\"\\n Equilibrium concentration of vacancies of Nickel at \",t2,\"K is\",n_N,\"\")\n",
      "n_N = math.exp(-del_hf_ni*1e3/(R*t3))\n",
      "print'%s %.2f %s %.2e %s  '%(\"\\n Equilibrium concentration of vacancies of Nickel at\",t3,\"K is\",n_N,\"\") ## answer in book is 1.78e-10\n",
      "\n"
     ],
     "language": "python",
     "metadata": {},
     "outputs": [
      {
       "output_type": "stream",
       "stream": "stdout",
       "text": [
        "\n",
        " Example 6.1\n",
        "\n",
        " Equilibrium concentration of vacancies of aluminium at 0.00 K is 0 \n",
        "\n",
        " Equilibrium concentration of vacancies of aluminium at  300.00 K is  1.44e-12   \n",
        "\n",
        " Equilibrium concentration of vacancies of aluminium at 900.00 K is 1.13e-04   \n",
        "\n",
        "\n",
        " Equilibrium concentration of vacancies of Nickel at  0.00 K is 0 \n",
        "\n",
        " Equilibrium concentration of vacancies of Nickel at  300.00 K is 5.59e-30  \n",
        "\n",
        " Equilibrium concentration of vacancies of Nickel at 900.00 K is 1.77e-10   \n"
       ]
      }
     ],
     "prompt_number": 1
    },
    {
     "cell_type": "heading",
     "level": 2,
     "metadata": {},
     "source": [
      "Ex2-pg132"
     ]
    },
    {
     "cell_type": "code",
     "collapsed": false,
     "input": [
      "## Compute the line energy of dislocation\n",
      "import math\n",
      "a = 2.87 ## lattice parameter in angstrom\n",
      "b= 2.49 ## magnitude of burgers vector in angstrom\n",
      "G = 80.2 ## shear modulus in GN\n",
      "print(\"\\n Example 6.2\")\n",
      "E = G*1e9*(b*1e-10)**2.*1./2. \n",
      "print'%s %.2e %s '%(\"\\n Line energy of dislocation is \",E,\" J m^-1\")\n",
      "\n"
     ],
     "language": "python",
     "metadata": {},
     "outputs": [
      {
       "output_type": "stream",
       "stream": "stdout",
       "text": [
        "\n",
        " Example 6.2\n",
        "\n",
        " Line energy of dislocation is  2.49e-09  J m^-1 \n"
       ]
      }
     ],
     "prompt_number": 2
    },
    {
     "cell_type": "heading",
     "level": 2,
     "metadata": {},
     "source": [
      "Ex4-pg136"
     ]
    },
    {
     "cell_type": "code",
     "collapsed": false,
     "input": [
      "## calculation of down climb of crystal on heating\n",
      "import math\n",
      "a = 1e10## total number of edge dislocation \n",
      "N = 6.023e23 ## Avogadro number\n",
      "R = 8.314 ## Universal gas constant\n",
      "t1 = 0. ## initial temperature in K\n",
      "t2 = 1000. ## Final temperature in K\n",
      "del_hf = 100. ## Enthalpy of vacancy formation in KJ\n",
      "d = 2. ## length of one step in angstrom\n",
      "v = 5.5e-6 ## volume of one mole crystal\n",
      "print(\"\\n Example 6.4\")\n",
      "n = N*math.exp(-(del_hf*1e3)/(R*(t2-t1)))/v\n",
      "k = 1/(d*1e-10) ## atoms required for 1 m climb\n",
      "b = n/(k*a)## average amount of climb\n",
      "c = b*d*1e-10\n",
      "\n",
      "print'%s %.2e %s '%(\"\\n Average down climb of crystal is\",c,\"m\")\n",
      "\n"
     ],
     "language": "python",
     "metadata": {},
     "outputs": [
      {
       "output_type": "stream",
       "stream": "stdout",
       "text": [
        "\n",
        " Example 6.4\n",
        "\n",
        " Average down climb of crystal is 2.62e-06 m \n"
       ]
      }
     ],
     "prompt_number": 3
    },
    {
     "cell_type": "heading",
     "level": 2,
     "metadata": {},
     "source": [
      "Ex5-pg137"
     ]
    },
    {
     "cell_type": "code",
     "collapsed": false,
     "input": [
      "## Calculate surface energy of copper crystal of type {111}\n",
      "import math\n",
      "E = 56.4 ## bond energy in KJ\n",
      "N_a = 6.023 *(10**23); ## Avogadro\u2019s number\n",
      "n = 12. ## number of bonds\n",
      "m = 3. ## number of broken bonds \n",
      "N = 1.77e19 ## number of atoms in copper crystal of type {111} per m**2\n",
      "print(\"\\n Example 6.5\")\n",
      "b_e = 1./2.*E*1e3*n/N_a ## bond energy per atom\n",
      "e_b = b_e*m/n ## energy of broken bond at surface\n",
      "s_e = e_b*N ## surface enthalpy of copper\n",
      "print'%s %.2f %s '%(\"\\n Surface enthalpy of copper is \",s_e,\" J m^-2\")\n",
      "print'%s %.2f %s '%(\"\\n Surface enthalpy of copper is \",s_e*1e3,\" erg cm^-2\")\n",
      "## Answer in book is 2490 erg cm**-2\n",
      "\n"
     ],
     "language": "python",
     "metadata": {},
     "outputs": [
      {
       "output_type": "stream",
       "stream": "stdout",
       "text": [
        "\n",
        " Example 6.5\n",
        "\n",
        " Surface enthalpy of copper is  2.49  J m^-2 \n",
        "\n",
        " Surface enthalpy of copper is  2486.17  erg cm^-2 \n"
       ]
      }
     ],
     "prompt_number": 4
    },
    {
     "cell_type": "heading",
     "level": 2,
     "metadata": {},
     "source": [
      "Ex6-pg141"
     ]
    },
    {
     "cell_type": "code",
     "collapsed": false,
     "input": [
      "## Compute the angle at the bottom of groove of a boundary\n",
      "import math\n",
      "Gamma_gb = 1. ## let, energy of grain boundary\n",
      "Gamma_s = 3.* Gamma_gb ## energy of free surface\n",
      "print(\"\\n Example 6.6\")\n",
      "theta = 2.*math.acos(1./2.*(Gamma_gb/Gamma_s))\n",
      "\n",
      "print'%s %.2f %s '%(\"\\n Angle at the bottom of groove of a boundary is\",math.ceil(theta*57.3),\" degrees.\")\n",
      "\n"
     ],
     "language": "python",
     "metadata": {},
     "outputs": [
      {
       "output_type": "stream",
       "stream": "stdout",
       "text": [
        "\n",
        " Example 6.6\n",
        "\n",
        " Angle at the bottom of groove of a boundary is 161.00  degrees. \n"
       ]
      }
     ],
     "prompt_number": 9
    }
   ],
   "metadata": {}
  }
 ]
}