{
 "metadata": {
  "name": "",
  "signature": "sha256:d359714b832a71ae6ab4d8cee8a73282cd2c3d7f036a10d18caa2d88c1f9d336"
 },
 "nbformat": 3,
 "nbformat_minor": 0,
 "worksheets": [
  {
   "cells": [
    {
     "cell_type": "heading",
     "level": 1,
     "metadata": {},
     "source": [
      "Chapter4-Atomic Structure and Chemical Bonding"
     ]
    },
    {
     "cell_type": "heading",
     "level": 2,
     "metadata": {},
     "source": [
      "Ex1-pg56"
     ]
    },
    {
     "cell_type": "code",
     "collapsed": false,
     "input": [
      "## Calculate frequency and wavelength of radiation\n",
      "import math\n",
      "E = 1.64e-18 ## energy difference between two states in J\n",
      "h= 6.626e-34 ## planks constant\n",
      "c = 2.998e8 ## speed of light in m/s\n",
      "print(\"\\n Example 4.1\")\n",
      "nu = E/h\n",
      "D = c/nu\n",
      "print'%s %.2e %s'%(\"\\n Frequency of emitted radiation is \",nu,\" Hz\")\n",
      "print'%s %.2e %s %.2f %s '%(\"\\n Wavelength of emitted radiation is \",D,\" m \\n\\t \\tor\\t\\t \",D*1e10,\" angstrom\")## answer in book is 1210 angstrom\n",
      "\n"
     ],
     "language": "python",
     "metadata": {},
     "outputs": [
      {
       "output_type": "stream",
       "stream": "stdout",
       "text": [
        "\n",
        " Example 4.1\n",
        "\n",
        " Frequency of emitted radiation is  2.48e+15  Hz\n",
        "\n",
        " Wavelength of emitted radiation is  1.21e-07  m \n",
        "\t \tor\t\t  1211.27  angstrom \n"
       ]
      }
     ],
     "prompt_number": 2
    },
    {
     "cell_type": "heading",
     "level": 2,
     "metadata": {},
     "source": [
      "Ex3-pg70"
     ]
    },
    {
     "cell_type": "code",
     "collapsed": false,
     "input": [
      "## Reconcile the difference of energy\n",
      "import math\n",
      "e_a = 713. ## enthalpy of atomization in kJ/mol\n",
      "e_b = 347. ## bond energy in kJ/mol\n",
      "a = 4. ## total number of atoms in single crystal structure\n",
      "b = 2. ## number of atoms in a bond\n",
      "print(\"\\n Example 4.3\")\n",
      "k = a/b ## effective number of bond per atom\n",
      "e = k*e_b\n",
      "print'%s %.2f%s '%(\"\\n \",e,\" kJ should be the enthalpy of atomization of diamond\")\n",
      "print'%s %.2f%s %.2f%s '%(\"\\n However, \",e,\" kJ is very close to \",e_a,\" kJ\")\n",
      "\n"
     ],
     "language": "python",
     "metadata": {},
     "outputs": [
      {
       "output_type": "stream",
       "stream": "stdout",
       "text": [
        "\n",
        " Example 4.3\n",
        "\n",
        "  694.00 kJ should be the enthalpy of atomization of diamond \n",
        "\n",
        " However,  694.00 kJ is very close to  713.00 kJ \n"
       ]
      }
     ],
     "prompt_number": 4
    },
    {
     "cell_type": "heading",
     "level": 2,
     "metadata": {},
     "source": [
      "Ex4-pg73"
     ]
    },
    {
     "cell_type": "code",
     "collapsed": false,
     "input": [
      "## Calculation of fraction of hydrogen bonds which breaks during ice melting\n",
      "\n",
      "del_h = 6.02 ## enthalpy of fusion in kJ/mol\n",
      "n = 2. ## number of hydrogen atom in 1 water atom\n",
      "del_b = 20.5 ## hydrogen bond energy in kJ/mol\n",
      "print(\"\\n Example 4.4\")\n",
      "f = del_h/(n*del_b)\n",
      "print'%s %.2f %s '%(\"\\n Fraction of hydrogen bonds which broken is \",f,\"\")\n",
      "\n"
     ],
     "language": "python",
     "metadata": {},
     "outputs": [
      {
       "output_type": "stream",
       "stream": "stdout",
       "text": [
        "\n",
        " Example 4.4\n",
        "\n",
        " Fraction of hydrogen bonds which broken is  0.15  \n"
       ]
      }
     ],
     "prompt_number": 6
    }
   ],
   "metadata": {}
  }
 ]
}