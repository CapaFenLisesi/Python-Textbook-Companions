{
 "metadata": {
  "name": "",
  "signature": "sha256:c6204b0be2f159dfc51c07e5062a3a0cf9c2a500b0506a82e0f8a50a35414b6c"
 },
 "nbformat": 3,
 "nbformat_minor": 0,
 "worksheets": [
  {
   "cells": [
    {
     "cell_type": "heading",
     "level": 1,
     "metadata": {},
     "source": [
      "Chapter15-Semiconductors"
     ]
    },
    {
     "cell_type": "heading",
     "level": 2,
     "metadata": {},
     "source": [
      "Ex1-pg364"
     ]
    },
    {
     "cell_type": "code",
     "collapsed": false,
     "input": [
      "## Calculate intrinsic carrier density\n",
      "import math\n",
      "rho = 3000. ## resistivity in ohm m\n",
      "mu_e = 0.14\n",
      "mu_h = 0.05 \n",
      "e = 1.602e-19 ## charge on electron\n",
      "print(\"\\n Example 15.1\")\n",
      "sigma = 1./rho\n",
      "n = sigma/((mu_e+mu_h)*e)\n",
      "print'%s %.2e %s '%(\"\\n Intrinsic carrier density is\",n,\" m^-3\")\n"
     ],
     "language": "python",
     "metadata": {},
     "outputs": [
      {
       "output_type": "stream",
       "stream": "stdout",
       "text": [
        "\n",
        " Example 15.1\n",
        "\n",
        " Intrinsic carrier density is 1.10e+16  m^-3 \n"
       ]
      }
     ],
     "prompt_number": 2
    }
   ],
   "metadata": {}
  }
 ]
}