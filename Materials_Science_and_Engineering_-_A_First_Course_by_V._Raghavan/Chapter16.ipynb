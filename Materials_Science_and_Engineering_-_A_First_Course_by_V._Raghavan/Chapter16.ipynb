{
 "metadata": {
  "name": "",
  "signature": "sha256:49eee1bf685c57d78f6a0d062f25db1aae24355b49e5448aa43098820a5b9d5e"
 },
 "nbformat": 3,
 "nbformat_minor": 0,
 "worksheets": [
  {
   "cells": [
    {
     "cell_type": "heading",
     "level": 1,
     "metadata": {},
     "source": [
      "Chapter16-Magnetic Material"
     ]
    },
    {
     "cell_type": "heading",
     "level": 2,
     "metadata": {},
     "source": [
      "Ex1-pg396"
     ]
    },
    {
     "cell_type": "code",
     "collapsed": false,
     "input": [
      "## Calculate the net magnetic moment per iron atom in crystal\n",
      "import math\n",
      "a = 2.87 ## lattice parameter in angstrom\n",
      "n = 2. ## number of atoms per unit cell\n",
      "m = 1750. ## Saturation magnetization in kAm^-1\n",
      "mu = 9.273e-24 ## bohr magneton \n",
      "print(\"\\n Example 16.1\")\n",
      "m_atom = m*1e3*(a*1e-10)**3. /n\n",
      "mu_b = m_atom/mu\n",
      "\n",
      "print'%s %.2e %s '%(\"\\n Net magnetic moment per iron atom in crystal is \",m_atom,\" Am^2\")\n",
      "print'%s %.2f %s '%(\"\\n In unit of mu_b, Net magnetic moment per iron atom in crystal is  \",mu_b,\"\")\n",
      "\n",
      "#due to round of error"
     ],
     "language": "python",
     "metadata": {},
     "outputs": [
      {
       "output_type": "stream",
       "stream": "stdout",
       "text": [
        "\n",
        " Example 16.1\n",
        "\n",
        " Net magnetic moment per iron atom in crystal is  2.07e-23  Am^2 \n",
        "\n",
        " In unit of mu_b, Net magnetic moment per iron atom in crystal is   2.23  \n"
       ]
      }
     ],
     "prompt_number": 3
    },
    {
     "cell_type": "heading",
     "level": 2,
     "metadata": {},
     "source": [
      "Ex2-pg398"
     ]
    },
    {
     "cell_type": "code",
     "collapsed": false,
     "input": [
      "## Comparison of saturation temperatures\n",
      "import math\n",
      "t1 = 0. ## temperature in kelvin\n",
      "t2 = 300. ## temperature in kelvin\n",
      "m_net_Gd = 7. ## net magnetic moment of gadolinium\n",
      "m_net_Co = 1.7 ## net magnetic moment of cobalt\n",
      "t_c_Gd = 289. ## curie temperature for Gd\n",
      "print(\"\\n Example 16.2\")\n",
      "print(\"\\n Part A:\")\n",
      "if m_net_Gd> m_net_Co :\n",
      "\tprint'%s %.2f %s  %.2f %s %.2f %s '%(\"\\n At\",t1,\" K\"    and   \" Net magnetic moment of gadolinium i.e. \",m_net_Gd,\" is greater than net magnetic moment of cobalt i.e.  \" and \"\",m_net_Co,\"\")\n",
      "\n",
      "\n",
      "print(\"\\n So, Gd will have higher saturation magnetization\")\n",
      "\n",
      "print(\"\\n\\n Part B:\")\n",
      "if t_c_Gd<t2 :\n",
      "\tprint'%s %.2f %s %.2f %s  '%(\"\\n At temperature \",t2,\" K, Gd is above its curie temperature of \",t_c_Gd,\"K\")\n",
      "print'%s %.2f %s '%(\"\\n Gd will be paramagnetic at \",t2,\" K and will have negligible magnetization\\n as compared to Co, which has higher curie temperature\")\n",
      "\n",
      "\n"
     ],
     "language": "python",
     "metadata": {},
     "outputs": [
      {
       "output_type": "stream",
       "stream": "stdout",
       "text": [
        "\n",
        " Example 16.2\n",
        "\n",
        " Part A:\n",
        "\n",
        " At 0.00  Net magnetic moment of gadolinium i.e.   7.00  1.70  \n",
        "\n",
        " So, Gd will have higher saturation magnetization\n",
        "\n",
        "\n",
        " Part B:\n",
        "\n",
        " At temperature  300.00  K, Gd is above its curie temperature of  289.00 K  \n",
        "\n",
        " Gd will be paramagnetic at  300.00  K and will have negligible magnetization\n",
        " as compared to Co, which has higher curie temperature \n"
       ]
      }
     ],
     "prompt_number": 9
    },
    {
     "cell_type": "heading",
     "level": 2,
     "metadata": {},
     "source": [
      "Ex4-pg402"
     ]
    },
    {
     "cell_type": "code",
     "collapsed": false,
     "input": [
      "## Calculation of hysteresis loss\n",
      "import math\n",
      "v = 0.01 ## volume in m**3\n",
      "x = 1e-4 ## axis intercept\n",
      "y = 1e2 ## axis intercept\n",
      "a = 60000. ## Hysteresis loop area\n",
      "f = 50. ## frequency in Hz\n",
      "print(\"\\n Example 16.4\")\n",
      "e = x*y*a ## Energy loss in one loop\n",
      "E = e*v ## energy loss in core in one cycle\n",
      "P = E*f ## Power loss\n",
      "print'%s %.2f %s '%(\"\\n Power loss due to hysteresis is\",P,\" W\")\n"
     ],
     "language": "python",
     "metadata": {},
     "outputs": [
      {
       "output_type": "stream",
       "stream": "stdout",
       "text": [
        "\n",
        " Example 16.4\n",
        "\n",
        " Power loss due to hysteresis is 300.00  W \n"
       ]
      }
     ],
     "prompt_number": 10
    },
    {
     "cell_type": "heading",
     "level": 2,
     "metadata": {},
     "source": [
      "Ex5-pg403"
     ]
    },
    {
     "cell_type": "code",
     "collapsed": false,
     "input": [
      "## Calculation of eddy current loss at normal voltage and frequency\n",
      "import math\n",
      "Total1 = 2300. ## total iron loss in W at 440 V and 50 Hz\n",
      "Total2 = 750. ## total iron loss in W at 220 V and 25 Hz\n",
      "print(\"\\n Example 16.5\")\n",
      "W_e = 1./2.*(Total1-2.*Total2)\n",
      "print'%s %.2f %s '%(\"\\n Eddy current loss at normal voltage and frequency is \",4*W_e,\"W\")\n",
      "\n"
     ],
     "language": "python",
     "metadata": {},
     "outputs": [
      {
       "output_type": "stream",
       "stream": "stdout",
       "text": [
        "\n",
        " Example 16.5\n",
        "\n",
        " Eddy current loss at normal voltage and frequency is  1600.00 W \n"
       ]
      }
     ],
     "prompt_number": 11
    }
   ],
   "metadata": {}
  }
 ]
}