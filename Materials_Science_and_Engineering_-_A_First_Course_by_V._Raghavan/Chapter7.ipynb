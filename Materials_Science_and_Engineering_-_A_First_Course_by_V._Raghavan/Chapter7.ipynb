{
 "metadata": {
  "name": "",
  "signature": "sha256:6058ee9335eb8486dde92c786d6aaef47672e17f1116d924510c8a3608a3e5c8"
 },
 "nbformat": 3,
 "nbformat_minor": 0,
 "worksheets": [
  {
   "cells": [
    {
     "cell_type": "heading",
     "level": 1,
     "metadata": {},
     "source": [
      "Chapter7-Phase Diagram"
     ]
    },
    {
     "cell_type": "heading",
     "level": 2,
     "metadata": {},
     "source": [
      "Ex1-pg149"
     ]
    },
    {
     "cell_type": "code",
     "collapsed": false,
     "input": [
      "## Find degrees of freedom of a system of two components\n",
      "c = 2 ## number of components\n",
      "print(\"\\n Example 7.1\")\n",
      "for n in range (1,4):\n",
      "    p = (c-1.) +2. ## Total variables\n",
      "    f = c-n+2. ## degree of freedom\n",
      "    print'%s %.2f %s  %.2f %s'%(\"\\n\\n Degree of freedom for two components when \\n number of phases is \",n,\" is \",f,\"\")\n",
      "\n",
      "#it is same for other values "
     ],
     "language": "python",
     "metadata": {},
     "outputs": [
      {
       "output_type": "stream",
       "stream": "stdout",
       "text": [
        "\n",
        " Example 7.1\n",
        "\n",
        "\n",
        " Degree of freedom for two components when \n",
        " number of phases is  1.00  is   3.00 \n",
        "\n",
        "\n",
        " Degree of freedom for two components when \n",
        " number of phases is  2.00  is   2.00 \n",
        "\n",
        "\n",
        " Degree of freedom for two components when \n",
        " number of phases is  3.00  is   1.00 \n"
       ]
      }
     ],
     "prompt_number": 2
    },
    {
     "cell_type": "heading",
     "level": 2,
     "metadata": {},
     "source": [
      "Ex2-pg152"
     ]
    },
    {
     "cell_type": "code",
     "collapsed": false,
     "input": [
      "## Find minimum number of component in system\n",
      "\n",
      "p = 4. ## number of phases of system\n",
      "f = 0. ## number of degree of system\n",
      "\n",
      "print(\"\\n Example 7.2\")\n",
      "C = f+p-1. ## components number\n",
      "print'%s %.2f %s '%(\"\\n Minimum number of components in system is \",C,\"\")\n"
     ],
     "language": "python",
     "metadata": {},
     "outputs": [
      {
       "output_type": "stream",
       "stream": "stdout",
       "text": [
        "\n",
        " Example 7.2\n",
        "\n",
        " Minimum number of components in system is  3.00  \n"
       ]
      }
     ],
     "prompt_number": 4
    },
    {
     "cell_type": "heading",
     "level": 2,
     "metadata": {},
     "source": [
      "Ex3-pg160"
     ]
    },
    {
     "cell_type": "code",
     "collapsed": false,
     "input": [
      "## Calculate amount of pure water that can be extracted from sea water\n",
      "\n",
      "L = 23.3 ## % composition of L\n",
      "a = 3.5 ## concentration of Nacl in sea water\n",
      "ice = 0. ## % composition of ice\n",
      "print(\"\\n Example 7.3\")\n",
      "f_ice = (L-a)/(L-ice)\n",
      "print'%s %.2f %s '%(\"\\n Fractional amount of pure water that can be extracted from sea water is \",f_ice,\"\")\n"
     ],
     "language": "python",
     "metadata": {},
     "outputs": [
      {
       "output_type": "stream",
       "stream": "stdout",
       "text": [
        "\n",
        " Example 7.3\n",
        "\n",
        " Fractional amount of pure water that can be extracted from sea water is  0.85  \n"
       ]
      }
     ],
     "prompt_number": 5
    },
    {
     "cell_type": "heading",
     "level": 2,
     "metadata": {},
     "source": [
      "Ex5-pg167"
     ]
    },
    {
     "cell_type": "code",
     "collapsed": false,
     "input": [
      "## Calculate proeutectoid ferrite and eutectoid ferrite in 0.6% steel\n",
      "import math\n",
      "a = 0 ## limiting value\n",
      "b = 0.8 ## limiting value\n",
      "c = 0.6 ## percentage composition of carbon\n",
      "f = 0.88 ## fraction of ferrite in a eutectoid steel\n",
      "print(\"\\n Example 7.5\")\n",
      "f_pro_alpha = (b-c)/(b-a)\n",
      "f_perlite = 1 - f_pro_alpha\n",
      "f_eut = f*f_perlite\n",
      "print'%s %.2f %s '%(\"\\n Composition of proeutectoid ferrite is \",f_perlite,\"\")\n",
      "print'%s %.2f %s '%(\"\\n Composition of eutectoid ferrite is \",f_eut,\"\")\n"
     ],
     "language": "python",
     "metadata": {},
     "outputs": [
      {
       "output_type": "stream",
       "stream": "stdout",
       "text": [
        "\n",
        " Example 7.5\n",
        "\n",
        " Composition of proeutectoid ferrite is  0.75  \n",
        "\n",
        " Composition of eutectoid ferrite is  0.66  \n"
       ]
      }
     ],
     "prompt_number": 7
    }
   ],
   "metadata": {}
  }
 ]
}