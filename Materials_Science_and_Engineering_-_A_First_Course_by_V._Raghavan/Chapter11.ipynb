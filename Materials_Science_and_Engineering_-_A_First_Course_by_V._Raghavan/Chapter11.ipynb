{
 "metadata": {
  "name": "",
  "signature": "sha256:d3a8c5b01364e398c7f3109644f038ddfc3b020172ef15aabe48199da5bb5843"
 },
 "nbformat": 3,
 "nbformat_minor": 0,
 "worksheets": [
  {
   "cells": [
    {
     "cell_type": "heading",
     "level": 1,
     "metadata": {},
     "source": [
      "Chapter11-Plastic Deformation and Creep in Crystalline Materials"
     ]
    },
    {
     "cell_type": "heading",
     "level": 2,
     "metadata": {},
     "source": [
      "Ex2-pg272"
     ]
    },
    {
     "cell_type": "code",
     "collapsed": false,
     "input": [
      "## Calculate the stress required to move the dislocation at given temperature\n",
      "import math\n",
      "b = 2. ## burger vector in angstrom\n",
      "v = 20.*b**3. ## activation volume \n",
      "tau_pn = 1000. ## P-N stress of crystal in MNm**-2\n",
      "k = 1.38e-23 ## physical constant\n",
      "t1 = 0. ## temperature in K\n",
      "t2 = 100.## temperature in K \n",
      "t3 = 300.## temperature in K\n",
      "t4 = 500.## temperature in K\n",
      "print(\"\\n Example 11.2\")\n",
      "print(\"\\n\\n Part A:\")\n",
      "T = t1\n",
      "tau_app = tau_pn - 40.*k*T/(v*1e-30)\n",
      "print'%s %.2f %s  %.2f %s  '%(\"\\n The stress required to move the dislocation at temperature\",T,\"K is\",tau_app,\" MNm^-2\")\n",
      "print(\"\\n\\n Part B:\")\n",
      "T = t2\n",
      "tau_app = tau_pn - 40*k*T/(v*1e-30*1e6)\n",
      "print'%s %.2f %s  %.2f %s '%(\"\\n The stress required to move the dislocation at temperature\",T,\"K is\",tau_app,\" MNm^-2\")\n",
      "print(\"\\n\\n Part C:\")\n",
      "T = t3\n",
      "tau_app = tau_pn - 40*k*T/(v*1e-30*1e6)\n",
      "if tau_app<0 :\n",
      "    print(\"\\n Stress to be applied is zero\")\n",
      "    print'%s %.2f %s'%(\"\\n The stress required to move the dislocation at temperature \",T,\"K entirely overcome by thermal fluctuations\")\n",
      "\n",
      "print(\"\\n\\n Part D:\")\n",
      "T = t4\n",
      "tau_app = tau_pn - 40*k*T/(v*1e-30*1e6)\n",
      "if tau_app<0:\n",
      "    print(\"\\n Stress to be applied is zero\")\n",
      "    print'%s %.2f %s'%(\"\\n The stress required to move the dislocation at temperature \",T,\"K entirely overcome by thermal fluctuations\")\n",
      "\n"
     ],
     "language": "python",
     "metadata": {},
     "outputs": [
      {
       "output_type": "stream",
       "stream": "stdout",
       "text": [
        "\n",
        " Example 11.2\n",
        "\n",
        "\n",
        " Part A:\n",
        "\n",
        " The stress required to move the dislocation at temperature 0.00 K is  1000.00  MNm^-2  \n",
        "\n",
        "\n",
        " Part B:\n",
        "\n",
        " The stress required to move the dislocation at temperature 100.00 K is  655.00  MNm^-2 \n",
        "\n",
        "\n",
        " Part C:\n",
        "\n",
        " Stress to be applied is zero\n",
        "\n",
        " The stress required to move the dislocation at temperature  300.00 K entirely overcome by thermal fluctuations\n",
        "\n",
        "\n",
        " Part D:\n",
        "\n",
        " Stress to be applied is zero\n",
        "\n",
        " The stress required to move the dislocation at temperature  500.00 K entirely overcome by thermal fluctuations\n"
       ]
      }
     ],
     "prompt_number": 1
    },
    {
     "cell_type": "heading",
     "level": 2,
     "metadata": {},
     "source": [
      "Ex3-pg278"
     ]
    },
    {
     "cell_type": "code",
     "collapsed": false,
     "input": [
      "## Calculate the dislocation density in copper\n",
      "import math\n",
      "mu = 44. ## shear modulus of copper in GN m**-2\n",
      "b = 2.55 ## burgers vector in angstrom\n",
      "tau = 35. ## shear stress in MN m**-2\n",
      "print(\"Example 11.3\")\n",
      "l = mu*1e9*b*1e-10/(tau*1e6)\n",
      "rho = 1./l**2.\n",
      "\n",
      "print'%s %.2f %s '%(\"\\n Dislocation density in copper is \",rho,\"  m^-2\")\n",
      "## Answer in book is 1e12 m**-2 and due to round off error\n"
     ],
     "language": "python",
     "metadata": {},
     "outputs": [
      {
       "output_type": "stream",
       "stream": "stdout",
       "text": [
        "Example 11.3\n",
        "\n",
        " Dislocation density in copper is  9730840967078.78   m^-2 \n"
       ]
      }
     ],
     "prompt_number": 2
    },
    {
     "cell_type": "heading",
     "level": 2,
     "metadata": {},
     "source": [
      "Ex4-pg280"
     ]
    },
    {
     "cell_type": "code",
     "collapsed": false,
     "input": [
      "##  Find the yield stress for a grain size of ASTM 9\n",
      "import math\n",
      "sigma1 = 120. ## initial yield strength of material in MNm**-2\n",
      "sigma2 = 220. ## Final yield strength of material in MN m**-2\n",
      "d1 = 0.04 ## initial diameter in mm\n",
      "d2 = 0.01 ## final diameter in mm\n",
      "n = 9. ## astm number\n",
      "print(\"Example 11.4\")\n",
      "k = (sigma2-sigma1)*1e6/(1./math.sqrt(d2*1e-3)-1./math.sqrt(d1*1e-3))\n",
      "sigma_i = sigma1*1e6 -k/math.sqrt((d1*1e-3))\n",
      "d = 1/math.sqrt(2**(n-1.)*1e4/645.)\n",
      "sigma_y = sigma_i+k*(d*1e-3)**(-0.5)\n",
      "\n",
      "print'%s %.2f %s '%(\"\\n Yield stress for a grain size of ASTM 9 is \",math.ceil(sigma_y/1e6),\" MN m^-2\")\n",
      "\n"
     ],
     "language": "python",
     "metadata": {},
     "outputs": [
      {
       "output_type": "stream",
       "stream": "stdout",
       "text": [
        "Example 11.4\n",
        "\n",
        " Yield stress for a grain size of ASTM 9 is  179.00  MN m^-2 \n"
       ]
      }
     ],
     "prompt_number": 3
    },
    {
     "cell_type": "heading",
     "level": 2,
     "metadata": {},
     "source": [
      "Ex5-pg283"
     ]
    },
    {
     "cell_type": "code",
     "collapsed": false,
     "input": [
      "## Estimate the change in yield strength \n",
      "import math\n",
      "n1 = 1e6 ## initial number of particles\n",
      "n2 = 1e3 ## final number of particle\n",
      "print(\"\\n Example 11.5\")\n",
      "k = (n1/n2)**(1/3.)\n",
      "print'%s %.2f %s '%(\"\\n Yield strength would have decreased to \",100/k,\" of its initial value.\")\n"
     ],
     "language": "python",
     "metadata": {},
     "outputs": [
      {
       "output_type": "stream",
       "stream": "stdout",
       "text": [
        "\n",
        " Example 11.5\n",
        "\n",
        " Yield strength would have decreased to  10.00  of its initial value. \n"
       ]
      }
     ],
     "prompt_number": 4
    }
   ],
   "metadata": {}
  }
 ]
}