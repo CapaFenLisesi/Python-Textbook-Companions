{
 "metadata": {
  "name": "",
  "signature": "sha256:7c23cfd3350d207503dfdb74b404976d843853cbb0ab8c71fe2271d01101eed7"
 },
 "nbformat": 3,
 "nbformat_minor": 0,
 "worksheets": [
  {
   "cells": [
    {
     "cell_type": "heading",
     "level": 1,
     "metadata": {},
     "source": [
      "Chapter9-Phase Transformation"
     ]
    },
    {
     "cell_type": "heading",
     "level": 2,
     "metadata": {},
     "source": [
      "Ex1-pg206"
     ]
    },
    {
     "cell_type": "code",
     "collapsed": false,
     "input": [
      "## Calculate the critical free energy of nucleation of ice from water and critical radius\n",
      "import math\n",
      "del_t1 = 0.## temperature difference in degree Celsius\n",
      "del_t2 = -5. ## temperature difference in degree Celsius\n",
      "del_t3 = -40. ## temperature difference in degree Celsius\n",
      "del_h = 6.02 ## enthalpy of fusion in kJ/mol\n",
      "T_m = 273. ## mean temperature\n",
      "Gamma = 0.076 ## energy of ice water interface in J /m**2\n",
      "v = 19 ## molar volume of ice\n",
      "print(\"\\n Example 9.1\")\n",
      "print(\"\\n Part A\")\n",
      "print'%s %.2f %s '%(\"\\n At del_t = \",del_t1,\", there is no supercooling. So there is no critical radius\")\n",
      "print(\"\\n\\n Part B\")\n",
      "del_f = 16./3.*math.pi*(Gamma)**3.*T_m**2./((del_h*1e3*1e6/v)**2.*del_t2**2.)\n",
      "r = 2.*T_m*Gamma/(-del_h*1e3*1e6/v*del_t2)\n",
      "print'%s %.2e %s '%(\"\\n Critical free energy of nucleation is \",del_f,\"J\")\n",
      "print'%s %.2f %s '%(\"\\n Critical radius is  \",math.ceil(r*1e10),\"angstrom\")\n",
      "print(\"\\n\\n Part C\")\n",
      "temp_r = del_t3/del_t2\n",
      "del_f_ = del_f/temp_r**2\n",
      "r_ = r/temp_r\n",
      "\n",
      "print'%s %.2e %s '%(\"\\n Critical free energy of nucleation is \",del_f,\"J\")\n",
      "print'%s %.2f %s '%(\"\\n Critical radius is  \", math.ceil(r_*1e10),\"angstrom\")\n",
      "\n"
     ],
     "language": "python",
     "metadata": {},
     "outputs": [
      {
       "output_type": "stream",
       "stream": "stdout",
       "text": [
        "\n",
        " Example 9.1\n",
        "\n",
        " Part A\n",
        "\n",
        " At del_t =  0.00 , there is no supercooling. So there is no critical radius \n",
        "\n",
        "\n",
        " Part B\n",
        "\n",
        " Critical free energy of nucleation is  2.18e-16 J \n",
        "\n",
        " Critical radius is   262.00 angstrom \n",
        "\n",
        "\n",
        " Part C\n",
        "\n",
        " Critical free energy of nucleation is  2.18e-16 J \n",
        "\n",
        " Critical radius is   33.00 angstrom \n"
       ]
      }
     ],
     "prompt_number": 1
    },
    {
     "cell_type": "heading",
     "level": 2,
     "metadata": {},
     "source": [
      "Ex2-pg208"
     ]
    },
    {
     "cell_type": "code",
     "collapsed": false,
     "input": [
      "## Calculate the change in del_f required to increase nucleation rate\n",
      "import math\n",
      "T= 300. ## temperature in kelvin\n",
      "R = 8.314 ## universal gas constant\n",
      "k = 2.303 ## conversion factor\n",
      "a1 = 1e42\n",
      "a2 = 1e6 ## nucleation rate\n",
      "a3 = 1e10 ## nucleation rate\n",
      "print(\"Example 9.2\")\n",
      "I1 = (math.log10(a1)-math.log10(a2))*k*R*T ## exponent factor\n",
      "I2 = (math.log10(a1)-math.log10(a3))*k*R*T## exponent factor\n",
      "del_f = I1-I2 ## difference \n",
      "a = 10**(math.log10(a3)-math.log10(a2))\n",
      "\n",
      "print'%s %.2f %s %.2e %s %.2e %s '%(\"\\n  A change of\",math.ceil(del_f/1e3),\" KJ mol^-1\" \"energy is required to increase nucleation factor from \\n\",a,\" m^-3 s^-1  to \" \"\",a3,\" m^-3 s^-1 \")\n",
      "\n"
     ],
     "language": "python",
     "metadata": {},
     "outputs": [
      {
       "output_type": "stream",
       "stream": "stdout",
       "text": [
        "Example 9.2\n",
        "\n",
        "  A change of 23.00  KJ mol^-1energy is required to increase nucleation factor from \n",
        " 1.00e+04  m^-3 s^-1  to  1.00e+10  m^-3 s^-1  \n"
       ]
      }
     ],
     "prompt_number": 4
    },
    {
     "cell_type": "heading",
     "level": 2,
     "metadata": {},
     "source": [
      "Ex4-pg211"
     ]
    },
    {
     "cell_type": "code",
     "collapsed": false,
     "input": [
      "## Calculate del_f_het as a fraction of del_f_homo\n",
      "import math\n",
      "Gamma_alpha_del = 0.5 ## in J m**-2\n",
      "Gamma_alpha_beta = 0.5 ## in J m**-2\n",
      "Gamma_beta_del = 0.01 ## in J m**-2\n",
      "\n",
      "print(\"\\n Example 9.4\") \n",
      "theta = math.cos((Gamma_alpha_del -Gamma_beta_del)/Gamma_alpha_beta)*57.3\n",
      "del_f_ratio = 1/4.*(2.-3.*math.cos(theta)+(math.cos(theta))**3)\n",
      "\n",
      "\n",
      "print'%s %.2f %s '%(\"\\n del_f_het is \",del_f_ratio,\"th fraction of  del_f_homo.\")\n",
      "\n",
      "#due to round off error "
     ],
     "language": "python",
     "metadata": {},
     "outputs": [
      {
       "output_type": "stream",
       "stream": "stdout",
       "text": [
        "\n",
        " Example 9.4\n",
        "\n",
        " del_f_het is  0.01 th fraction of  del_f_homo. \n"
       ]
      }
     ],
     "prompt_number": 7
    },
    {
     "cell_type": "heading",
     "level": 2,
     "metadata": {},
     "source": [
      "Ex6-pg229"
     ]
    },
    {
     "cell_type": "code",
     "collapsed": false,
     "input": [
      "## Calculate the free energy change during recrystallization\n",
      "\n",
      "mu = 45.5e9\n",
      "b = 2.55e-10\n",
      "n1 = 1e9 ## initial dislocation density\n",
      "n2 = 1e13 ## final dislocation density\n",
      "print(\"\\n Example 9.6\") \n",
      "E = 1./2.*mu*b**2.*n2\n",
      "del_g = E ## as difference between initial and final dislocation energy is four order magnitude\n",
      "print'%s %.2f %s '%(\"\\n Free energy change during recrystallization is \",-del_g,\" J m^-3\")\n",
      "## Numerical value of answer in book is 14800\n",
      "\n"
     ],
     "language": "python",
     "metadata": {},
     "outputs": [
      {
       "output_type": "stream",
       "stream": "stdout",
       "text": [
        "\n",
        " Example 9.6\n",
        "\n",
        " Free energy change during recrystallization is  -14793.19  J m^-3 \n"
       ]
      }
     ],
     "prompt_number": 9
    }
   ],
   "metadata": {}
  }
 ]
}