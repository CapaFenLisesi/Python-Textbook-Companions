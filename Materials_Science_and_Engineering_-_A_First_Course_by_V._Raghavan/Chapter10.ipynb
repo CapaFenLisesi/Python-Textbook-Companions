{
 "metadata": {
  "name": "",
  "signature": "sha256:54bf1ecfdeab359bd681b8ad9be2450b463fb9328cc57981f13e582965adc751"
 },
 "nbformat": 3,
 "nbformat_minor": 0,
 "worksheets": [
  {
   "cells": [
    {
     "cell_type": "heading",
     "level": 1,
     "metadata": {},
     "source": [
      "Chapter10 - Elastic Anelastic and Viscoelastic Behaviour"
     ]
    },
    {
     "cell_type": "heading",
     "level": 2,
     "metadata": {},
     "source": [
      "Ex1-pg229"
     ]
    },
    {
     "cell_type": "code",
     "collapsed": false,
     "input": [
      "## Estimate young\u2019s modulus of material\n",
      "\n",
      "import math\n",
      "n = 1.\n",
      "m = 9.\n",
      "A = 7.68e-29 ## Constant having unit J m \n",
      "r_0 = 2.5e-10 ## bonding distance in m\n",
      "print(\"\\n Example 10.1\")\n",
      "\n",
      "B = A*(r_0**(8.))/(9.)\n",
      "\n",
      "Y = (90.*B/(r_0)**11.-2.*A/(r_0)**3.)/r_0\n",
      "\n",
      "print'%s %.2f %s '%(\"\\n Young\u2019s modulus of material is \",Y/1e9,\" GN m^-2\")\n",
      "\n"
     ],
     "language": "python",
     "metadata": {},
     "outputs": [
      {
       "output_type": "stream",
       "stream": "stdout",
       "text": [
        "\n",
        " Example 10.1\n",
        "\n",
        " Young\u2019s modulus of material is  157.29  GN m^-2 \n"
       ]
      }
     ],
     "prompt_number": 9
    },
    {
     "cell_type": "heading",
     "level": 2,
     "metadata": {},
     "source": [
      "Ex2-pg245"
     ]
    },
    {
     "cell_type": "code",
     "collapsed": false,
     "input": [
      "## Calculation of stress in fibers\n",
      "import math\n",
      "Y_f = 440.\n",
      "Y_m = 71. \n",
      "sigma_total= 100. ## total load\n",
      "print(\"\\n Example 10.2\")\n",
      "r = Y_f/Y_m\n",
      "sigma_f = r*(sigma_total/0.7)/(1.+r*3./7.)\n",
      "print(\"\\n Part A:\")\n",
      "print'%s %.2f %s '%(\"\\n When load is applied parallel to fiber then, stress in fiber is \",sigma_f,\" MN m^-2\")\n",
      "\n",
      "print(\"\\n\\n Part B:\")\n",
      "print'%s %.2f %s '%(\"\\n When load is applied perpendicular to fiber then, stress in fiber and matrix is same i.e.\",sigma_total,\" MN m^-2\")\n",
      "\n"
     ],
     "language": "python",
     "metadata": {},
     "outputs": [
      {
       "output_type": "stream",
       "stream": "stdout",
       "text": [
        "\n",
        " Example 10.2\n",
        "\n",
        " Part A:\n",
        "\n",
        " When load is applied parallel to fiber then, stress in fiber is  242.16  MN m^-2 \n",
        "\n",
        "\n",
        " Part B:\n",
        "\n",
        " When load is applied perpendicular to fiber then, stress in fiber and matrix is same i.e. 100.00  MN m^-2 \n"
       ]
      }
     ],
     "prompt_number": 10
    },
    {
     "cell_type": "heading",
     "level": 2,
     "metadata": {},
     "source": [
      "Ex3-pg251"
     ]
    },
    {
     "cell_type": "code",
     "collapsed": false,
     "input": [
      "## Estimate diffusion coefficient\n",
      "import math\n",
      "t_r = 100. ## relaxation time in s\n",
      "d = 2.5 ## distance in angstrom\n",
      "print(\"\\n Example 10.3\")\n",
      "f = 1./t_r ## jump frequency\n",
      "D = (d*1e-10)**2.*f\n",
      "print'%s %.2e %s '%(\"\\n Diffusion coefficient is \",D,\" m^2 s^-1\")\n",
      "\n"
     ],
     "language": "python",
     "metadata": {},
     "outputs": [
      {
       "output_type": "stream",
       "stream": "stdout",
       "text": [
        "\n",
        " Example 10.3\n",
        "\n",
        " Diffusion coefficient is  6.25e-22  m^2 s^-1 \n"
       ]
      }
     ],
     "prompt_number": 11
    }
   ],
   "metadata": {}
  }
 ]
}