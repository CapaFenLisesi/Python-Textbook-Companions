{
 "metadata": {
  "name": "",
  "signature": "sha256:890c9b370210a599c4e0bbeca9a5d1dc6dc9ba0a8591f448dac9fdcfb4d52554"
 },
 "nbformat": 3,
 "nbformat_minor": 0,
 "worksheets": [
  {
   "cells": [
    {
     "cell_type": "heading",
     "level": 1,
     "metadata": {},
     "source": [
      "Chapter5-Structure of Solid"
     ]
    },
    {
     "cell_type": "heading",
     "level": 2,
     "metadata": {},
     "source": [
      "Ex1-pg86"
     ]
    },
    {
     "cell_type": "code",
     "collapsed": false,
     "input": [
      "## Calculate packing efficiency and density of diamond\n",
      "import math\n",
      "n_c = 1/8. ## sharing of corner atom in a unit cell\n",
      "N_c = 8. ## Number of corner atoms in unit cell\n",
      "n_b = 1. ## sharing of body centered atom in a unit cell\n",
      "N_b = 4. ## Number of body centered atoms in unit cell\n",
      "n_f = 0.5## sharing of face centered atom in a unit cell\n",
      "N_f = 6.## Number of face centered atoms in unit cell\n",
      "a = 1. ## let lattice parameter\n",
      "m = 12. ## mass of carbon\n",
      "print(\"\\n Example 5.1\")\n",
      "print(\"\\n Part A:\")\n",
      "N = n_c*N_c+n_b*N_b+n_f*N_f ## effective number of atoms\n",
      "r = a*math.sqrt(3.)/8.\n",
      "p_e = N*4./3.*math.pi*r**3./a**3. ## packing efficiency\n",
      "\n",
      "print'%s %.2f %s '%(\"\\n Packing efficiency of diamond is \",p_e,\"\")\n",
      "print(\"\\n\\n Part B:\")\n",
      "a = 3.57 ## lattice parameter in angstrom\n",
      "d = m*1.66e-27*N/(a*1e-10)**3.\n",
      "print'%s %.2f %s '%(\"\\n Density of diamond is \",d,\" Kg/m^3\")## numerical answer in book is 3500\n",
      "print'%s %.2f %s '%(\"\\n Density of diamond is \",d/1000,\" g/cm^3\")\n"
     ],
     "language": "python",
     "metadata": {},
     "outputs": [
      {
       "output_type": "stream",
       "stream": "stdout",
       "text": [
        "\n",
        " Example 5.1\n",
        "\n",
        " Part A:\n",
        "\n",
        " Packing efficiency of diamond is  0.34  \n",
        "\n",
        "\n",
        " Part B:\n",
        "\n",
        " Density of diamond is  3502.47  Kg/m^3 \n",
        "\n",
        " Density of diamond is  3.50  g/cm^3 \n"
       ]
      }
     ],
     "prompt_number": 2
    },
    {
     "cell_type": "heading",
     "level": 2,
     "metadata": {},
     "source": [
      "Ex3-pg92"
     ]
    },
    {
     "cell_type": "code",
     "collapsed": false,
     "input": [
      "## calculate the c/a ratio for an ideally close packed HCP crystal\n",
      "import math\n",
      "a = 1. ## let\n",
      "PR = a\n",
      "print(\" Example 5.3\")\n",
      "RT = a/math.sqrt(3.)\n",
      "PT = math.sqrt(PR**2.-RT**2.)\n",
      "c_a = 2.*PT/PR\n",
      "## Calculations are made on the crystal structure drawn in book\n",
      "print'%s %.2f %s '%(\"\\n c/a ratio for an ideally close packed HCP crystal is \",c_a,\"\")\n",
      "\n"
     ],
     "language": "python",
     "metadata": {},
     "outputs": [
      {
       "output_type": "stream",
       "stream": "stdout",
       "text": [
        " Example 5.3\n",
        "\n",
        " c/a ratio for an ideally close packed HCP crystal is  1.63  \n"
       ]
      }
     ],
     "prompt_number": 4
    },
    {
     "cell_type": "heading",
     "level": 2,
     "metadata": {},
     "source": [
      "Ex4-pg94"
     ]
    },
    {
     "cell_type": "code",
     "collapsed": false,
     "input": [
      "## find the size of largest sphere that can fit into a tetrahedral void\n",
      "import math\n",
      "r = 1. ## let\n",
      "a = 3./4. \n",
      "print(\"\\n Example 5.4\")\n",
      "pt = 2.*math.sqrt(2./3.)*r\n",
      "s = a*pt-r ## size of sphere\n",
      "print'%s %.2f %s '%(\"\\n Size of largest sphere that can fit into a tetrahedral void is r\",s,\"\")\n",
      "\n"
     ],
     "language": "python",
     "metadata": {},
     "outputs": [
      {
       "output_type": "stream",
       "stream": "stdout",
       "text": [
        "\n",
        " Example 5.4\n",
        "\n",
        " Size of largest sphere that can fit into a tetrahedral void is r 0.22  \n"
       ]
      }
     ],
     "prompt_number": 5
    },
    {
     "cell_type": "heading",
     "level": 2,
     "metadata": {},
     "source": [
      "Ex5-pg99"
     ]
    },
    {
     "cell_type": "code",
     "collapsed": false,
     "input": [
      "## find critical radius ratio for triangular coordination\n",
      "import math\n",
      "theta = 60. ## angle in degree\n",
      "print(\"\\n Example 5.5\")\n",
      "r_c_a = (2./3.*2.*math.sin(theta*math.pi/180.))-1. ## ratio calculation\n",
      "print'%s %.2f %s '%(\"\\n Critical radius ratio for triangular coordination is  \",r_c_a,\"\")\n"
     ],
     "language": "python",
     "metadata": {},
     "outputs": [
      {
       "output_type": "stream",
       "stream": "stdout",
       "text": [
        "\n",
        " Example 5.5\n",
        "\n",
        " Critical radius ratio for triangular coordination is   0.15  \n"
       ]
      }
     ],
     "prompt_number": 6
    },
    {
     "cell_type": "heading",
     "level": 2,
     "metadata": {},
     "source": [
      "Ex6-pg101"
     ]
    },
    {
     "cell_type": "code",
     "collapsed": false,
     "input": [
      "## Calculate density of MgO\n",
      "import math\n",
      "r_mg = 0.78 ## radius of magnesium cation in angstrom\n",
      "r_o = 1.32 ## radius of oxygen anion in angstrom\n",
      "n = 4. ## effective number of unit cell\n",
      "m_o = 16. ## mass of oxygen\n",
      "m_mg = 24.3 ## mass of magnesium\n",
      "print(\"\\n Example 5.6\")\n",
      "a = 2.*(r_mg+r_o)## lattice parameter\n",
      "d = (m_o+m_mg)*1.66e-27*n/(a*1e-10)**3.## density \n",
      "print'%s %.2f %s '%(\"\\n Density of MgO is \",d,\" Kg/m^3\") ## answer is 3610 kg/m**3\n",
      "print'%s %.2f %s '%(\"\\n Density of MgO is \",d/1000,\" g/cm^3\")\n"
     ],
     "language": "python",
     "metadata": {},
     "outputs": [
      {
       "output_type": "stream",
       "stream": "stdout",
       "text": [
        "\n",
        " Example 5.6\n",
        "\n",
        " Density of MgO is  3611.81  Kg/m^3 \n",
        "\n",
        " Density of MgO is  3.61  g/cm^3 \n"
       ]
      }
     ],
     "prompt_number": 8
    }
   ],
   "metadata": {}
  }
 ]
}