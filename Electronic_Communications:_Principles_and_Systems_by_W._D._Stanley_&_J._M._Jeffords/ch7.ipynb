{
 "metadata": {
  "name": "",
  "signature": "sha256:433d3f1a9b61373a0e4a26c847d60db974761fd710f99ff70bb64c86929966fd"
 },
 "nbformat": 3,
 "nbformat_minor": 0,
 "worksheets": [
  {
   "cells": [
    {
     "cell_type": "heading",
     "level": 1,
     "metadata": {},
     "source": [
      "Chapter 7 : Angle modulation methods"
     ]
    },
    {
     "cell_type": "heading",
     "level": 2,
     "metadata": {},
     "source": [
      "Example 7.1  Page No : 227"
     ]
    },
    {
     "cell_type": "code",
     "collapsed": false,
     "input": [
      "%matplotlib inline\n",
      "from numpy import zeros,concatenate,array,arange,ones,linspace\n",
      "from matplotlib.pyplot import plot,suptitle,xlabel,ylabel,subplot\n",
      "import math \n",
      "\n",
      "t = linspace(0,20);\n",
      "def theta(t):     #function for insmath.tanmath.tanious phase\n",
      "    return 3*math.pi*t**2;\n",
      "\n",
      "def frequency(t):     #function for insmath.tanmath.tanious phase\n",
      "    Ws = 6*math.pi*t;\n",
      "    return Ws/(2*math.pi);\n",
      "\n",
      "subplot(2,1,1)\n",
      "plot(t,theta(t))#,1);\n",
      "suptitle('Plot1:Insmath.tanmath.tanious signal phase')\n",
      "xlabel('t')\n",
      "ylabel('theta')\n",
      "fs = frequency(t);\n",
      "subplot(2,1,2)\n",
      "plot(t,fs)\n",
      "suptitle('Plot2:Frequency')\n",
      "xlabel('t')\n",
      "ylabel('fs')\n"
     ],
     "language": "python",
     "metadata": {},
     "outputs": [
      {
       "metadata": {},
       "output_type": "pyout",
       "prompt_number": 1,
       "text": [
        "<matplotlib.text.Text at 0x110f5a410>"
       ]
      },
      {
       "metadata": {},
       "output_type": "display_data",
       "png": "[encoded data removed]",
       "text": [
        "<matplotlib.figure.Figure at 0x110f241d0>"
       ]
      }
     ],
     "prompt_number": 1
    },
    {
     "cell_type": "heading",
     "level": 2,
     "metadata": {},
     "source": [
      "Example 7.2  Page No : 230"
     ]
    },
    {
     "cell_type": "code",
     "collapsed": false,
     "input": [
      "# Variables\n",
      "#v(t) = 80*math.cos[(2*math.pi*10**8*t)+20*math.sin(2*math.pi*10**3*t)]     --eq\n",
      "#v(t) = A*math.cos[Wc*t+Bmath.sin(Wm*t)]    --eq7-27\n",
      "#comparing the above 2 equations we get \n",
      "A = 80.;     #volts\n",
      "fc = 10.**8;  #Hz\n",
      "fm = 10.**3;  #Hz\n",
      "B = 20.;\n",
      "\n",
      "# Calculations and Results\n",
      "print '(a) The carrier cyclic frequency is ',fc,\"Hz\"\n",
      "print '(b) The modulating frequency is ',fm,'Hz'\n",
      "print '(c) The modulation index is ',B\n",
      "delta_f = B*fm;\n",
      "print '(d) The frequency deviation is ',delta_f,'Hz'\n",
      "R = 50.;  #ohm\n",
      "P = A**2/(2*R);\n",
      "print '(e) The average power is ',P,'W'\n"
     ],
     "language": "python",
     "metadata": {},
     "outputs": [
      {
       "output_type": "stream",
       "stream": "stdout",
       "text": [
        "(a) The carrier cyclic frequency is  100000000.0 Hz\n",
        "(b) The modulating frequency is  1000.0 Hz\n",
        "(c) The modulation index is  20.0\n",
        "(d) The frequency deviation is  20000.0 Hz\n",
        "(e) The average power is  64.0 W\n"
       ]
      }
     ],
     "prompt_number": 2
    },
    {
     "cell_type": "heading",
     "level": 2,
     "metadata": {},
     "source": [
      "Example 7.3  Page No : 230"
     ]
    },
    {
     "cell_type": "code",
     "collapsed": false,
     "input": [
      "# Variables\n",
      "#from ex 7.2\n",
      "#v(t) = 80*math.cos[(2*math.pi*10**8*t)+20*math.sin(2*math.pi*10**3*t)]     --eq\n",
      "B = 20.;\n",
      "\n",
      "# Calculations\n",
      "delta_theta = B;   #for PM\n",
      "\n",
      "# Results\n",
      "print 'The maximum phase deviation for PM is ',delta_theta\n"
     ],
     "language": "python",
     "metadata": {},
     "outputs": [
      {
       "output_type": "stream",
       "stream": "stdout",
       "text": [
        "The maximum phase deviation for PM is  20.0\n"
       ]
      }
     ],
     "prompt_number": 3
    },
    {
     "cell_type": "heading",
     "level": 2,
     "metadata": {},
     "source": [
      "Example 7.4  Page No : 231"
     ]
    },
    {
     "cell_type": "code",
     "collapsed": false,
     "input": [
      "\n",
      "# Results\n",
      "print ('The equation becomes');\n",
      "print ('v(t) = 80*math.cos[(2*math.pi*10**8*t)+10*math.sin(4*math.pi*10**3*t)]');\n"
     ],
     "language": "python",
     "metadata": {},
     "outputs": [
      {
       "output_type": "stream",
       "stream": "stdout",
       "text": [
        "The equation becomes\n",
        "v(t) = 80*math.cos[(2*math.pi*10**8*t)+10*math.sin(4*math.pi*10**3*t)]\n"
       ]
      }
     ],
     "prompt_number": 4
    },
    {
     "cell_type": "heading",
     "level": 2,
     "metadata": {},
     "source": [
      "Example 7.5  Page No : 231"
     ]
    },
    {
     "cell_type": "code",
     "collapsed": false,
     "input": [
      "\n",
      "# Results\n",
      "print ('The equation becomes');\n",
      "print ('v(t) = 80*math.cos[(2*math.pi*10**8*t)+20*math.sin(4*math.pi*10**3*t)]');\n"
     ],
     "language": "python",
     "metadata": {},
     "outputs": [
      {
       "output_type": "stream",
       "stream": "stdout",
       "text": [
        "The equation becomes\n",
        "v(t) = 80*math.cos[(2*math.pi*10**8*t)+20*math.sin(4*math.pi*10**3*t)]\n"
       ]
      }
     ],
     "prompt_number": 5
    },
    {
     "cell_type": "heading",
     "level": 2,
     "metadata": {},
     "source": [
      "Example 7.6  Page No : 231"
     ]
    },
    {
     "cell_type": "code",
     "collapsed": false,
     "input": [
      "# Variables\n",
      "delta_f = 12.;   #kHz\n",
      "fm = 4.;   #kHz\n",
      "\n",
      "# Calculations\n",
      "B = delta_f/fm;  #modulating index for FM\n",
      "\n",
      "# Results\n",
      "print ('The expression is');\n",
      "print '(vt) = A*math.cos[2*pi*10**8*t)+%i*math.sin%i*2*pi*10**3*t)]'%(B,fm);\n"
     ],
     "language": "python",
     "metadata": {},
     "outputs": [
      {
       "output_type": "stream",
       "stream": "stdout",
       "text": [
        "The expression is\n",
        "(vt) = A*math.cos[2*pi*10**8*t)+3*math.sin4*2*pi*10**3*t)]\n"
       ]
      }
     ],
     "prompt_number": 6
    },
    {
     "cell_type": "heading",
     "level": 2,
     "metadata": {},
     "source": [
      "Example 7.7  Page No : 231"
     ]
    },
    {
     "cell_type": "code",
     "collapsed": false,
     "input": [
      "\n",
      "# Variables\n",
      "delta_theta = 6.;   #kHz\n",
      "fm = 5.;   #kHz\n",
      "\n",
      "# Results\n",
      "print ('The expression is');\n",
      "print '(vt) = A*math.cos[2*pi*10**8*t)+%i*math.sin%i*2*pi*10**3*t)]'%(delta_theta,fm);\n"
     ],
     "language": "python",
     "metadata": {},
     "outputs": [
      {
       "output_type": "stream",
       "stream": "stdout",
       "text": [
        "The expression is\n",
        "(vt) = A*math.cos[2*pi*10**8*t)+6*math.sin5*2*pi*10**3*t)]\n"
       ]
      }
     ],
     "prompt_number": 7
    },
    {
     "cell_type": "heading",
     "level": 2,
     "metadata": {},
     "source": [
      "Example 7.8  Page No : 235"
     ]
    },
    {
     "cell_type": "code",
     "collapsed": false,
     "input": [
      "# Variables\n",
      "delta_f = 400.;   #Hz\n",
      "fm = 2000.;   #Hz\n",
      "\n",
      "# Calculations and Results\n",
      "B = delta_f/fm;   #\n",
      "print 'The modulation index is',B\n",
      "print ('(For B< = 2.5 , the signal is NBFM)');\n",
      "Bt = 2*fm;  \n",
      "print 'The transmission bandwidth Bt =  %i Hz '%(Bt)\n"
     ],
     "language": "python",
     "metadata": {},
     "outputs": [
      {
       "output_type": "stream",
       "stream": "stdout",
       "text": [
        "The modulation index is 0.2\n",
        "(For B< = 2.5 , the signal is NBFM)\n",
        "The transmission bandwidth Bt =  4000 Hz \n"
       ]
      }
     ],
     "prompt_number": 8
    },
    {
     "cell_type": "heading",
     "level": 2,
     "metadata": {},
     "source": [
      "Example 7.9  Page No : 235"
     ]
    },
    {
     "cell_type": "code",
     "collapsed": false,
     "input": [
      "\n",
      "# Variables\n",
      "delta_f = 8000;   #Hz\n",
      "fm = 100.;   #Hz\n",
      "\n",
      "# Calculations and Results\n",
      "B = delta_f/fm;   #\n",
      "print 'The modulation index is',B\n",
      "print ('(For B> = 50 , the signal is VWBFM)');\n",
      "Bt = 2*delta_f;  \n",
      "print 'The transmission bandwidth Bt =  %i Hz '%(Bt)\n"
     ],
     "language": "python",
     "metadata": {},
     "outputs": [
      {
       "output_type": "stream",
       "stream": "stdout",
       "text": [
        "The modulation index is 80.0\n",
        "(For B> = 50 , the signal is VWBFM)\n",
        "The transmission bandwidth Bt =  16000 Hz \n"
       ]
      }
     ],
     "prompt_number": 9
    },
    {
     "cell_type": "heading",
     "level": 2,
     "metadata": {},
     "source": [
      "Example 7.10  Page No : 238"
     ]
    },
    {
     "cell_type": "code",
     "collapsed": false,
     "input": [
      "# Variables\n",
      "delta_f = 6.;   #kHz\n",
      "W = 2.;   #kHz\n",
      "\n",
      "# Calculations and Results\n",
      "D = delta_f/W;   #deviation ratio\n",
      "print 'The deviation ratio is',D\n",
      "Bt = 2*(delta_f+W);   #carsom's rule is applicable\n",
      "print 'The transmission bandwidth Bt =  %i kHz '%(Bt)\n"
     ],
     "language": "python",
     "metadata": {},
     "outputs": [
      {
       "output_type": "stream",
       "stream": "stdout",
       "text": [
        "The deviation ratio is 3.0\n",
        "The transmission bandwidth Bt =  16 kHz \n"
       ]
      }
     ],
     "prompt_number": 10
    },
    {
     "cell_type": "heading",
     "level": 2,
     "metadata": {},
     "source": [
      "Example 7.11  Page No : 239"
     ]
    },
    {
     "cell_type": "code",
     "collapsed": false,
     "input": [
      "# Variables\n",
      "W = 2.;   #kHz  (as in ex 7.10)\n",
      "delta_theta = 3.;\n",
      "\n",
      "# Calculations\n",
      "Bt = 2*(1+delta_theta)*W;   #applying carsom's rule\n",
      "\n",
      "# Results\n",
      "print 'The transmission bandwidth Bt =  %i kHz '%(Bt)\n"
     ],
     "language": "python",
     "metadata": {},
     "outputs": [
      {
       "output_type": "stream",
       "stream": "stdout",
       "text": [
        "The transmission bandwidth Bt =  16 kHz \n"
       ]
      }
     ],
     "prompt_number": 11
    },
    {
     "cell_type": "heading",
     "level": 2,
     "metadata": {},
     "source": [
      "Example 7.12  Page No : 239"
     ]
    },
    {
     "cell_type": "code",
     "collapsed": false,
     "input": [
      "%matplotlib inline\n",
      "from numpy import zeros,concatenate,array,arange,ones,linspace\n",
      "from matplotlib.pyplot import plot,suptitle,xlabel,ylabel,subplot\n",
      "import math \n",
      "\n",
      "delta_f = 75;   #kHz\n",
      "fm = array([.025, .075, .75, 1.5, 5, 10, 15])   #in kHz\n",
      "def Beta(fm,delta_f):\n",
      "    return delta_f *(1/fm);\n",
      "\n",
      "def Bandwidth(fm,delta_f):\n",
      "    Bt = zeros(7)\n",
      "    Bt[0:3]  =  2 *delta_f;\n",
      "    for i in range(3,7):\n",
      "       Bt[i]  =  2 *(delta_f + fm[i]); \n",
      "    return Bt\n",
      "\n",
      "B = Beta(fm,delta_f);\n",
      "Bt = Bandwidth(fm,delta_f);   #applying carsom's rule\n",
      "print ('Table - 7.2');\n",
      "print ('fm(kHz)     Beta       Bt(kHz)');\n",
      "for i in range(7):\n",
      "    print '%4.3f         '%(fm[i]),\n",
      "    print '%4.1f        '%(B[i]),\n",
      "    print '%i'%(Bt[i]);\n",
      "\n",
      "plot(fm,Bt);\n",
      "suptitle('Bandwidth of FM')\n",
      "xlabel('fm,kHz')\n",
      "ylabel('Bt,kHz')\n"
     ],
     "language": "python",
     "metadata": {},
     "outputs": [
      {
       "output_type": "stream",
       "stream": "stdout",
       "text": [
        "Table - 7.2\n",
        "fm(kHz)     Beta       Bt(kHz)\n",
        "0.025          3000.0         150\n",
        "0.075          1000.0         150\n",
        "0.750          100.0         150\n",
        "1.500          50.0         153\n",
        "5.000          15.0         160\n",
        "10.000           7.5         170\n",
        "15.000           5.0         180\n"
       ]
      },
      {
       "metadata": {},
       "output_type": "pyout",
       "prompt_number": 12,
       "text": [
        "<matplotlib.text.Text at 0x110fb06d0>"
       ]
      },
      {
       "metadata": {},
       "output_type": "display_data",
       "png": "[encoded data removed]",
       "text": [
        "<matplotlib.figure.Figure at 0x1102f51d0>"
       ]
      }
     ],
     "prompt_number": 12
    },
    {
     "cell_type": "heading",
     "level": 2,
     "metadata": {},
     "source": [
      "Example 7.13  Page No : 240"
     ]
    },
    {
     "cell_type": "code",
     "collapsed": false,
     "input": [
      "%matplotlib inline\n",
      "from matplotlib.pyplot import plot,suptitle,xlabel,ylabel\n",
      "from numpy import array\n",
      "\n",
      "# Variables\n",
      "delta_f = 75;   #kHz\n",
      "fm = array([.025, .075, .75, 1.5, 5, 10, 15])   #in kHz (From prob-7.12)\n",
      "\n",
      "# Calculations and Results\n",
      "delta_theta = delta_f/fm[6];\n",
      "Bt = 12*fm;   #applying carsom's rule\n",
      "print 'Delta theta = ',delta_theta\n",
      "\n",
      "plot(fm,Bt);\n",
      "suptitle('Bandwidth of PM')\n",
      "xlabel('fm,kHz')\n",
      "ylabel('Bt,kHz')\n"
     ],
     "language": "python",
     "metadata": {},
     "outputs": [
      {
       "output_type": "stream",
       "stream": "stdout",
       "text": [
        "Delta theta =  5.0\n"
       ]
      },
      {
       "metadata": {},
       "output_type": "pyout",
       "prompt_number": 16,
       "text": [
        "<matplotlib.text.Text at 0x111054a50>"
       ]
      },
      {
       "metadata": {},
       "output_type": "display_data",
       "png": "[encoded data removed]",
       "text": [
        "<matplotlib.figure.Figure at 0x1111920d0>"
       ]
      }
     ],
     "prompt_number": 16
    },
    {
     "cell_type": "heading",
     "level": 2,
     "metadata": {},
     "source": [
      "Example 7.14  Page No : 242"
     ]
    },
    {
     "cell_type": "code",
     "collapsed": false,
     "input": [
      "# Variables\n",
      "delta_f1 = 2.;   #kHz\n",
      "fc1 = 100.;      #kHz\n",
      "W = 5.;          #kHz\n",
      "\n",
      "# Calculations and Results\n",
      "fc2 = 3*fc1;\n",
      "print '(a)  The output center frequency  = ',fc2\n",
      "delta_f2 = 3*delta_f1;\n",
      "print '(b)  The output frequency deviation = ',delta_f2\n",
      "\n",
      "D1 = delta_f1/W;\n",
      "D2 = 3*D1;\n",
      "print '(c)  The output deviation ratio  = ',D2\n"
     ],
     "language": "python",
     "metadata": {},
     "outputs": [
      {
       "output_type": "stream",
       "stream": "stdout",
       "text": [
        "(a)  The output center frequency  =  300.0\n",
        "(b)  The output frequency deviation =  6.0\n",
        "(c)  The output deviation ratio  =  1.2\n"
       ]
      }
     ],
     "prompt_number": 17
    },
    {
     "cell_type": "heading",
     "level": 2,
     "metadata": {},
     "source": [
      "Example 7.16  Page No : 248"
     ]
    },
    {
     "cell_type": "code",
     "collapsed": false,
     "input": [
      "\n",
      "# Variables\n",
      "Kf = 4.;    #kHz/V\n",
      "f0 = 100.;  #kHz\n",
      "\n",
      "# Calculations and Results\n",
      "#  Part a\n",
      "vm = 2.;   #Volts\n",
      "delta_f = Kf*vm; #kHz\n",
      "f = f0+delta_f;      #kHz\n",
      "print '(a)  The change in frequency is',delta_f,'Corresponding frequwncy to this input is',f\n",
      "\n",
      "#Part b\n",
      "vm = -3;   #Volts\n",
      "delta_f = Kf*vm; #kHz\n",
      "f = f0+delta_f;      #kHz\n",
      "print '(b)  In this case,the change in frequency is',delta_f,'Corresponding frequwncy to this input is',f\n"
     ],
     "language": "python",
     "metadata": {},
     "outputs": [
      {
       "output_type": "stream",
       "stream": "stdout",
       "text": [
        "(a)  The change in frequency is 8.0 Corresponding frequwncy to this input is 108.0\n",
        "(b)  In this case,the change in frequency is -12.0 Corresponding frequwncy to this input is 88.0\n"
       ]
      }
     ],
     "prompt_number": 18
    },
    {
     "cell_type": "heading",
     "level": 2,
     "metadata": {},
     "source": [
      "Example 7.17  Page No : 248"
     ]
    },
    {
     "cell_type": "code",
     "collapsed": false,
     "input": [
      "import math \n",
      "from numpy import array,concatenate,zeros\n",
      "\n",
      "#All frequencies in kHz\n",
      "fci = 100.;    #basic center frequency\n",
      "fco = 100000.;  #output center frequency\n",
      "delta_f = (3000./3072)*0.025;   #maximum frequency deviation at modulator\n",
      "W = 15.;\n",
      "D = delta_f/W;\n",
      "Bt = 2*W;  \n",
      "table_row1 = array([fci ,delta_f, D, Bt]);  #At point A\n",
      "def table(table_row,multiplier):\n",
      "    return  concatenate((table_row[0:3]*multiplier ,[table_row[3]]))\n",
      "    \n",
      "table_row2 = table(table_row1,4);   #at point B\n",
      "table_row3 = table(table_row2,4);   #at point C\n",
      "table_row4 = table(table_row3,4);   #at point D\n",
      "\n",
      "def table1(table_row,multiplier):\n",
      "    table1 = zeros(4)\n",
      "    table1[0:3] =  table_row[0:3]*multiplier;\n",
      "    Bt = 2*(table1[1]+W);  #Applying carsons rule Bt = 2*(delta_f+W)\n",
      "    table1[3] =  Bt;\n",
      "    return table1\n",
      "    \n",
      "\n",
      "table_row5 = table1(table_row4,3);   #at point E    ,carsons rule applied from here\n",
      "table_row6 = concatenate(([(fco/16)], table_row5[1:4]));   #at point F  ,center frequency after mixer\n",
      "table_row7 = table1(table_row6,4);   #at point G\n",
      "table_row8 = table1(table_row7,4);   #at point H\n",
      "table_row9 = table_row8;               #at point I\n",
      "print ('Point    fc      delta_f     D           Bt');\n",
      "def lay(Point,t_row):\n",
      "    print \" %c    %8.0i\"%(Point,t_row[0]),\n",
      "    for i in range(1,4):\n",
      "       print \"    %3.4f\"%(t_row[i]),\n",
      "    print \"\"\n",
      "\n",
      "lay('A',table_row1);\n",
      "lay('B',table_row2);\n",
      "lay('C',table_row3);\n",
      "lay('D',table_row4);\n",
      "lay('E',table_row5);\n",
      "lay('F',table_row6);\n",
      "lay('G',table_row7);\n",
      "lay('H',table_row8);\n",
      "lay('I',table_row9);\n"
     ],
     "language": "python",
     "metadata": {},
     "outputs": [
      {
       "output_type": "stream",
       "stream": "stdout",
       "text": [
        "Point    fc      delta_f     D           Bt\n",
        " A         100     0.0244     0.0016     30.0000 \n",
        " B         400     0.0977     0.0065     30.0000 \n",
        " C        1600     0.3906     0.0260     30.0000 \n",
        " D        6400     1.5625     0.1042     30.0000 \n",
        " E       19200     4.6875     0.3125     39.3750 \n",
        " F        6250     4.6875     0.3125     39.3750 \n",
        " G       25000     18.7500     1.2500     67.5000 \n",
        " H      100000     75.0000     5.0000     180.0000 \n",
        " I      100000     75.0000     5.0000     180.0000 \n"
       ]
      }
     ],
     "prompt_number": 19
    },
    {
     "cell_type": "heading",
     "level": 2,
     "metadata": {},
     "source": [
      "Example 7.18  Page No : 258"
     ]
    },
    {
     "cell_type": "code",
     "collapsed": false,
     "input": [
      "# Variables\n",
      "#All frequencies in kHz\n",
      "Kd = 2.;    #V/kHz\n",
      "fc = 100.;\n",
      "\n",
      "# Calculations and Results\n",
      "# part a\n",
      "f = 102.5;\n",
      "delta_f = f-fc;\n",
      "vd = Kd*delta_f;    #V\n",
      "print '(a)  The first case result is',vd\n",
      "\n",
      "# part b\n",
      "f = 98.5;\n",
      "delta_f = f-fc;\n",
      "vd = Kd*delta_f;   #V\n",
      "print '(a)  The second case result is',vd\n"
     ],
     "language": "python",
     "metadata": {},
     "outputs": [
      {
       "output_type": "stream",
       "stream": "stdout",
       "text": [
        "(a)  The first case result is 5.0\n",
        "(a)  The second case result is -3.0\n"
       ]
      }
     ],
     "prompt_number": 20
    },
    {
     "cell_type": "heading",
     "level": 2,
     "metadata": {},
     "source": [
      "Example 7.19  Page No : 261"
     ]
    },
    {
     "cell_type": "code",
     "collapsed": false,
     "input": [
      "%matplotlib inline\n",
      "from numpy import zeros,concatenate,array,arange,ones,linspace\n",
      "from matplotlib.pyplot import plot,suptitle,xlabel,ylabel,subplot\n",
      "import math \n",
      "\n",
      "#All frequencies in Hz\n",
      "D = 5.;     #deviation ratio\n",
      "fc = array([400., 560., 730., 960.]);    #Center frequency\n",
      "delta_f = 0.075*fc;     #frequency deviation\n",
      "W = delta_f/D ;         #modulating frequency\n",
      "Bt = 2 *(delta_f + W);  #Bandwidth\n",
      "fl = fc - Bt/2;          #Lower frequency\n",
      "fh = fc + Bt/2;          #Higher frequency\n",
      "\n",
      "x = arange(301,1108,1);\n",
      "y = [1.5];\n",
      "y = concatenate((y ,zeros(len(arange(302,fl[0]+1)))))\n",
      "for i in range(3):\n",
      "    y = concatenate((y ,ones(len(arange(fl[i],fh[i]+1)))));\n",
      "    y = concatenate((y ,zeros(len(arange(fh[i]+1,fl[i+1]+1)))));\n",
      "\n",
      "y = concatenate((y, ones(len(arange(fl[3],fh[3]+1)))));\n",
      "y = concatenate((y, zeros(len(arange(fh[3],1101)))));\n",
      "print len(x),len(y)\n",
      "plot(x,y);\n",
      "suptitle('Composite baseband spectrum')\n",
      "xlabel('f,Hz');\n",
      "delta_frt = D*1046;\n",
      "Brt = 2*(delta_frt+1046);\n",
      "print '(b)  The RF transmission bandwidth is ',Brt,'Hz'\n"
     ],
     "language": "python",
     "metadata": {},
     "outputs": [
      {
       "output_type": "stream",
       "stream": "stdout",
       "text": [
        "807 807\n",
        "(b)  The RF transmission bandwidth is "
       ]
      },
      {
       "output_type": "stream",
       "stream": "stdout",
       "text": [
        " 12552.0 Hz\n"
       ]
      },
      {
       "metadata": {},
       "output_type": "display_data",
       "png": "[encoded data removed]",
       "text": [
        "<matplotlib.figure.Figure at 0x11112bdd0>"
       ]
      }
     ],
     "prompt_number": 21
    }
   ],
   "metadata": {}
  }
 ]
}