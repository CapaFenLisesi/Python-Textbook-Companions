{
 "metadata": {
  "name": "",
  "signature": "sha256:6adfb962c162522a5b4c85ba98a9b356a9133d8e8a683421e650fcbf769672f6"
 },
 "nbformat": 3,
 "nbformat_minor": 0,
 "worksheets": [
  {
   "cells": [
    {
     "cell_type": "heading",
     "level": 1,
     "metadata": {},
     "source": [
      "Chapter 17 : Satellite communication"
     ]
    },
    {
     "cell_type": "heading",
     "level": 2,
     "metadata": {},
     "source": [
      "Example 17.1  Page No : 547"
     ]
    },
    {
     "cell_type": "code",
     "collapsed": false,
     "input": [
      "import math \n",
      "\n",
      "# Variables\n",
      "H = 10.**6;    #meter\n",
      "\n",
      "# Calculations and Results\n",
      "v = 20*10**6/math.sqrt(H+6.4*10**6);   #m/s\n",
      "print 'a)velocity , v = %i m/s'%(v);\n",
      "R = 6.4*10**6;    #data rate in bits per second\n",
      "C = 2*math.pi*(H+R);    #circumference in m\n",
      "print ' b)circumference , C = %i m'%(C);    #raunded value of C shown in book solution\n",
      "T = C/v;\n",
      "print ' c)The period is , T = %.2f seconds or %.2f minutes'%(T,T/60);\n"
     ],
     "language": "python",
     "metadata": {},
     "outputs": [
      {
       "output_type": "stream",
       "stream": "stdout",
       "text": [
        "a)velocity , v = 7352 m/s\n",
        " b)circumference , C = 46495571 m\n",
        " c)The period is , T = 6324.08 seconds or 105.40 minutes\n"
       ]
      }
     ],
     "prompt_number": 1
    },
    {
     "cell_type": "heading",
     "level": 2,
     "metadata": {},
     "source": [
      "Example 17.2  Page No : 548"
     ]
    },
    {
     "cell_type": "code",
     "collapsed": false,
     "input": [
      "import math \n",
      "\n",
      "# Variables\n",
      "L = 37;   #latitude in degree\n",
      "R = 6400.;  \n",
      "H = 36000.;  #from the text\n",
      "\n",
      "# Calculations\n",
      "del1 = math.atan(R*math.sin(L*math.pi/180)/(H+R*(1-math.cos(L*math.pi/180))))   #Declination angle\n",
      "\n",
      "# Results\n",
      "print 'The ange is %.2f degree'%(del1*180/math.pi);\n"
     ],
     "language": "python",
     "metadata": {},
     "outputs": [
      {
       "output_type": "stream",
       "stream": "stdout",
       "text": [
        "The ange is 5.90 degree\n"
       ]
      }
     ],
     "prompt_number": 2
    },
    {
     "cell_type": "heading",
     "level": 2,
     "metadata": {},
     "source": [
      "Example 17.3  Page No : 552"
     ]
    },
    {
     "cell_type": "code",
     "collapsed": false,
     "input": [
      "import math \n",
      "\n",
      "# Variables\n",
      "c = 3.*10**8;   #speed of light in m/s\n",
      "f = 3.7*10**9;   #Hz\n",
      "\n",
      "# Calculations and Results\n",
      "lembda = c/f;   #m\n",
      "print 'The wave length is %.4f cm '%(lembda*100)\n",
      "theta_3dB = 8;    #degree\n",
      "D = 70*lembda/theta_3dB     #m\n",
      "print 'The diameter is, D =  %.4f m '%(D);\n",
      "eta_1 = .6;     #illumination efficiency \n",
      "G = eta_1*(math.pi*D/lembda)**2;    #gain calculation\n",
      "print 'The Gain is G =  %.2f '%(G)\n",
      "G_dB = 10*math.log10(G);   #dB gain\n",
      "print 'The Gain in dB is GdB) =  %.3f dB '%(G_dB)\n"
     ],
     "language": "python",
     "metadata": {},
     "outputs": [
      {
       "output_type": "stream",
       "stream": "stdout",
       "text": [
        "The wave length is 8.1081 cm \n",
        "The diameter is, D =  0.7095 m \n",
        "The Gain is G =  453.38 \n",
        "The Gain in dB is GdB) =  26.565 dB \n"
       ]
      }
     ],
     "prompt_number": 3
    },
    {
     "cell_type": "heading",
     "level": 2,
     "metadata": {},
     "source": [
      "Example 17.4  Page No : 553"
     ]
    },
    {
     "cell_type": "code",
     "collapsed": false,
     "input": [
      "import math \n",
      "\n",
      "# Variables\n",
      "theta_3dB = 1.6;    # beamwidth in degree\n",
      "eta_1 = .6;     #illumination efficiency \n",
      "\n",
      "# Calculations and Results\n",
      "G = eta_1*48000/(theta_3dB)**2;    #gain calculation\n",
      "print 'The Gain is G =  %.0f '%(G)\n",
      "G_dB = 10*math.log10(G);   #dB gain\n",
      "print 'The Gain in dB is GdB) =  %.1f dB '%(G_dB)\n"
     ],
     "language": "python",
     "metadata": {},
     "outputs": [
      {
       "output_type": "stream",
       "stream": "stdout",
       "text": [
        "The Gain is G =  11250 \n",
        "The Gain in dB is GdB) =  40.5 dB \n"
       ]
      }
     ],
     "prompt_number": 4
    },
    {
     "cell_type": "heading",
     "level": 2,
     "metadata": {},
     "source": [
      "Example 17.5  Page No : 554"
     ]
    },
    {
     "cell_type": "code",
     "collapsed": false,
     "input": [
      "import math \n",
      "\n",
      "# Variables\n",
      "theta_3dB = .3;    # minimum practical beamwidth in degree\n",
      "eta_1 = .6;     #illumination efficiency \n",
      "\n",
      "# Calculations and Results\n",
      "G = eta_1*48000/(theta_3dB)**2;    #gain calculation\n",
      "print 'The Gain is G =  %.0f '%(G)\n",
      "G_dB = 10*math.log10(G);   #dB gain\n",
      "print 'The Gain in dB is GdB) =  %.1f dB '%(G_dB)\n"
     ],
     "language": "python",
     "metadata": {},
     "outputs": [
      {
       "output_type": "stream",
       "stream": "stdout",
       "text": [
        "The Gain is G =  320000 \n",
        "The Gain in dB is GdB) =  55.1 dB \n"
       ]
      }
     ],
     "prompt_number": 5
    },
    {
     "cell_type": "heading",
     "level": 2,
     "metadata": {},
     "source": [
      "Example 17.6  Page No : 554"
     ]
    },
    {
     "cell_type": "code",
     "collapsed": false,
     "input": [
      "import math \n",
      "\n",
      "# Variables\n",
      "c = 3*10**8;   #speed of light in m/s\n",
      "f = 5.925*10**9;   #Hz\n",
      "\n",
      "# Calculations and Results\n",
      "lembda = c/f;   #m\n",
      "print 'The wave length is %.3f cm '%(lembda*100)\n",
      "theta_3dB = 1.6;    # beamwidth degree\n",
      "D = 70*lembda/theta_3dB     #m\n",
      "print 'The diameter is, D =  %.3f m '%(D);\n"
     ],
     "language": "python",
     "metadata": {},
     "outputs": [
      {
       "output_type": "stream",
       "stream": "stdout",
       "text": [
        "The wave length is 5.063 cm \n",
        "The diameter is, D =  2.215 m \n"
       ]
      }
     ],
     "prompt_number": 6
    },
    {
     "cell_type": "heading",
     "level": 2,
     "metadata": {},
     "source": [
      "Example 17.7  Page No : 556"
     ]
    },
    {
     "cell_type": "code",
     "collapsed": false,
     "input": [
      "import math \n",
      "\n",
      "# Variables\n",
      "l = 127.-70.2;     #Difference in longitude\n",
      "L = 40.5    #Latitude of New York\n",
      "\n",
      "# Calculations\n",
      "d_km = 35.786*10**3*math.sqrt(1+0.42*(1-math.cos(L*math.pi/180)*math.cos(l*math.pi/180)));\n",
      "\n",
      "# Results\n",
      "print 'The distance is %.0f km '%(d_km)\n"
     ],
     "language": "python",
     "metadata": {},
     "outputs": [
      {
       "output_type": "stream",
       "stream": "stdout",
       "text": [
        "The distance is 39932 km \n"
       ]
      }
     ],
     "prompt_number": 7
    },
    {
     "cell_type": "heading",
     "level": 2,
     "metadata": {},
     "source": [
      "Example 17.8  Page No : 556"
     ]
    },
    {
     "cell_type": "code",
     "collapsed": false,
     "input": [
      "import math \n",
      "\n",
      "# Variables\n",
      "PtdBW = 20.\n",
      "GtdB = 55.\n",
      "\n",
      "# Calculations and Results\n",
      "EIRP_dBW = PtdBW+GtdB;\n",
      "print 'The EIRP for uplink earth station is %.0f dBW '%(EIRP_dBW)\n",
      "l = 91-70.2;     #Difference in longitude\n",
      "L = 40.5    #Latitude of New York\n",
      "d_km = 35.786*10**3*math.sqrt(1+0.42*(1-math.cos(L*math.pi/180)*math.cos(l*math.pi/180)));\n",
      "print 'The distance is %.0f km '%(d_km)\n",
      "\n",
      "f = 6.125      #Uplink frequency in GHz\n",
      "alfa1_dB = 20*math.log10(f)+20*math.log10(d_km)+92.44;    #Path loss\n",
      "print 'The path loss is %.2f dB '%(alfa1_dB)\n",
      "\n",
      "FdB = 3;    #noise figure in dB\n",
      "F = 10**(FdB/10)   #absolute noise figure   (exact value)\n",
      "Te = (F-1)*290;   #Noise temperature\n",
      "print 'The Noise temperature of satellite reciever is %.0f K '%(Te)\n",
      "Ti = 300;    #input noise temperature in K\n",
      "Tsys = Ti+Te\n",
      "print 'The system temperature of satellite reciever is %.0f K '%(Tsys)\n",
      "G_dB = 27      #satellite reciever antwnna gain\n",
      "GT = G_dB-10*math.log10(Tsys);     #G/T ratio in dB\n",
      "print 'The G/T ratio for satellite reciever is %.2f dB/K '%(GT)\n",
      "B = 36*10**6  ;#   Bandwidth  in Hz\n",
      "L_misc = 1.6      #atmospheric loss\n",
      "CN = EIRP_dBW-alfa1_dB+GT+228.6-10*math.log10(B)-L_misc;    #C/N in dB\n",
      "print 'The carrier power to noise ratio at the satellite reciever is %.2f dB '%(CN)\n",
      "#  Value of F is rouded to 2 in the text\n"
     ],
     "language": "python",
     "metadata": {},
     "outputs": [
      {
       "output_type": "stream",
       "stream": "stdout",
       "text": [
        "The EIRP for uplink earth station is 75 dBW \n",
        "The distance is 37897 km \n",
        "The path loss is 199.75 dB \n",
        "The Noise temperature of satellite reciever is 0 K \n",
        "The system temperature of satellite reciever is 300 K \n",
        "The G/T ratio for satellite reciever is 2.23 dB/K \n",
        "The carrier power to noise ratio at the satellite reciever is 28.91 dB \n"
       ]
      }
     ],
     "prompt_number": 8
    },
    {
     "cell_type": "heading",
     "level": 2,
     "metadata": {},
     "source": [
      "Example 17.9  Page No : 557"
     ]
    },
    {
     "cell_type": "code",
     "collapsed": false,
     "input": [
      "import math \n",
      "\n",
      "# Variables\n",
      "EIRP_dBW = 47.8;   #dBW\n",
      "l = 91.-90;     #Difference in longitude\n",
      "L = 32.    #Latitude of New York\n",
      "\n",
      "# Calculations and Results\n",
      "d_km = 35.786*10**3*math.sqrt(1+0.42*(1-math.cos(L*math.pi/180)*math.cos(l*math.pi/180)));\n",
      "print 'The distance is %.0f km '%(d_km)\n",
      "\n",
      "f = 3.9      #downlink frequency in GHz\n",
      "alfa1_dB = 20*math.log10(f)+20*math.log10(d_km)+92.44;    #Path loss\n",
      "print 'The path loss is %.2f dB '%(alfa1_dB)\n",
      "\n",
      "F = 1.778   #absolute noise figure \n",
      "Te = (F-1)*290;   #Noise temperature\n",
      "print 'The Noise temperature of satellite reciever is %.2f K '%(Te)\n",
      "Ti = 150;    #input noise temperature in K\n",
      "Tsys = Ti+Te\n",
      "print 'The system temperature of satellite reciever is %.2f K '%(Tsys)\n",
      "G_dB = 42      #satellite reciever antwnna gain\n",
      "GT = G_dB-10*math.log10(Tsys);     #G/T ratio in dB\n",
      "print 'The G/T ratio for satellite reciever is %.2f dB/K '%(GT)\n",
      "B = 36*10**6  ;#   Bandwidth  in Hz\n",
      "L_misc = 1      #atmospheric loss\n",
      "CN = EIRP_dBW-alfa1_dB+GT+228.6-10*math.log10(B)-L_misc;    #C/N in dB\n",
      "print 'The carrier power to noise ratio at the satellite reciever is %.1f dB '%(CN)\n"
     ],
     "language": "python",
     "metadata": {},
     "outputs": [
      {
       "output_type": "stream",
       "stream": "stdout",
       "text": [
        "The distance is 36911 km \n",
        "The path loss is 195.60 dB \n",
        "The Noise temperature of satellite reciever is 225.62 K \n",
        "The system temperature of satellite reciever is 375.62 K \n",
        "The G/T ratio for satellite reciever is 16.25 dB/K \n",
        "The carrier power to noise ratio at the satellite reciever is 20.5 dB \n"
       ]
      }
     ],
     "prompt_number": 9
    }
   ],
   "metadata": {}
  }
 ]
}