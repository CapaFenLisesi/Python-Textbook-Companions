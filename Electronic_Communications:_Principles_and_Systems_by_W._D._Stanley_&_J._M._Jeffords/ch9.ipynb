{
 "metadata": {
  "name": "",
  "signature": "sha256:b930c6c496122eb54fe019df88d1f394053d7bba2a749adf989d9e8db7a14c97"
 },
 "nbformat": 3,
 "nbformat_minor": 0,
 "worksheets": [
  {
   "cells": [
    {
     "cell_type": "heading",
     "level": 1,
     "metadata": {},
     "source": [
      "Chapter 9 : Digital communication I Binary Systems"
     ]
    },
    {
     "cell_type": "heading",
     "level": 2,
     "metadata": {},
     "source": [
      "Example 9.1  Page No : 304"
     ]
    },
    {
     "cell_type": "code",
     "collapsed": false,
     "input": [
      "# Calculations and Results\n",
      "bits = 4;\n",
      "print 'a) M = %i values'%(2**bits);\n",
      "bits = 8;\n",
      "print 'b) M = %i values'%(2**bits);\n",
      "bits = 16;\n",
      "print 'c) M = %i values'%(2**bits);\n"
     ],
     "language": "python",
     "metadata": {},
     "outputs": [
      {
       "output_type": "stream",
       "stream": "stdout",
       "text": [
        "a) M = 16 values\n",
        "b) M = 256 values\n",
        "c) M = 65536 values\n"
       ]
      }
     ],
     "prompt_number": 1
    },
    {
     "cell_type": "heading",
     "level": 2,
     "metadata": {},
     "source": [
      "Example 9.2  Page No : 304"
     ]
    },
    {
     "cell_type": "code",
     "collapsed": false,
     "input": [
      "import math\n",
      "# Calculations and Results\n",
      "N = math.log(100);\n",
      "print 'a) N = %.2f bits'%(N);\n"
     ],
     "language": "python",
     "metadata": {},
     "outputs": [
      {
       "output_type": "stream",
       "stream": "stdout",
       "text": [
        "a) N = 4.61 bits\n"
       ]
      }
     ],
     "prompt_number": 4
    },
    {
     "cell_type": "heading",
     "level": 2,
     "metadata": {},
     "source": [
      "Example 9.3  Page No : 309"
     ]
    },
    {
     "cell_type": "code",
     "collapsed": false,
     "input": [
      "%matplotlib inline\n",
      "from numpy import zeros,concatenate,array,arange,ones,linspace,sin\n",
      "from matplotlib.pyplot import plot,suptitle,xlabel,ylabel,subplot\n",
      "import math \n",
      "\n",
      "#input graph\n",
      "t = arange(0,15,.1);\n",
      "y = concatenate(((1./9)*arange(0,1.1,.1)**2, (1./8)*arange(1.1,2.1,.1)**2.1));\n",
      "y = concatenate((y, (7./8)*sin(2*math.pi*t[21:150]/18.5)));\n",
      "plot(t,y);\n",
      "y = 8*y;   \n",
      "#quantized form\n",
      "y1 = [];\n",
      "for i in range(0,150,10):\n",
      "    for m in range(-7,8,1):\n",
      "        if y[i] < m+0.5:\n",
      "            break;\n",
      "        \n",
      "    y1 = concatenate((y1, m*ones(10)))\n",
      "\n",
      "y1 = y1/8;\n",
      "plot(t,y1)#,[5]);\n",
      "# Some operations on entities created by plot2d ...\n",
      "suptitle('Anamath.log and quantized signals')\n",
      "xlabel('t,ms')\n",
      "ylabel('Normalised signal level')\n",
      "\n"
     ],
     "language": "python",
     "metadata": {},
     "outputs": [
      {
       "metadata": {},
       "output_type": "pyout",
       "prompt_number": 5,
       "text": [
        "<matplotlib.text.Text at 0x104c4dd10>"
       ]
      },
      {
       "metadata": {},
       "output_type": "display_data",
       "png": "[encoded data removed]",
       "text": [
        "<matplotlib.figure.Figure at 0x103a97790>"
       ]
      }
     ],
     "prompt_number": 5
    },
    {
     "cell_type": "heading",
     "level": 2,
     "metadata": {},
     "source": [
      "Example 9.4  Page No : 310"
     ]
    },
    {
     "cell_type": "code",
     "collapsed": false,
     "input": [
      "# Variables\n",
      "N = 8.;\n",
      "Vfs = 20.;  #Volts\n",
      "\n",
      "# Calculations and Results\n",
      "delta_Xu = 2**-N;\n",
      "print 'a)  The normalised unipolar step size is %f '%(delta_Xu);\n",
      "delta_vu = delta_Xu*Vfs;\n",
      "print 'b)  The actual step size is %.2f mV '%(delta_vu*10**3);\n",
      "Xumax = 1-delta_Xu;\n",
      "print 'c)  The normalized maximum quantized level is %f '%(Xumax);\n",
      "vumax = Xumax*Vfs;\n",
      "print 'd)  The actual maximum quantized level is %f V '%(vumax);\n",
      "Eu = delta_Xu/2;\n",
      "print 'e)  The normalized peak error is %f '%(Eu);\n",
      "eu = Eu*Vfs;\n",
      "print 'f)  The actual peak error is %.2f mV '%(eu*10**3);\n"
     ],
     "language": "python",
     "metadata": {},
     "outputs": [
      {
       "output_type": "stream",
       "stream": "stdout",
       "text": [
        "a)  The normalised unipolar step size is 0.003906 \n",
        "b)  The actual step size is 78.12 mV \n",
        "c)  The normalized maximum quantized level is 0.996094 \n",
        "d)  The actual maximum quantized level is 19.921875 V \n",
        "e)  The normalized peak error is 0.001953 \n",
        "f)  The actual peak error is 39.06 mV \n"
       ]
      }
     ],
     "prompt_number": 6
    },
    {
     "cell_type": "heading",
     "level": 2,
     "metadata": {},
     "source": [
      "Example 9.5  Page No : 311"
     ]
    },
    {
     "cell_type": "code",
     "collapsed": false,
     "input": [
      "# Variables\n",
      "Vfs = 10.;  #Volts\n",
      "N = 8.;\n",
      "\n",
      "# Calculations and Results\n",
      "delta_Xb = 2**(-N+1);\n",
      "print 'a)  The normalised bipolar step size is %f '%(delta_Xb);\n",
      "delta_vb = delta_Xb*Vfs;\n",
      "print 'b)  The actual step size is %.2f mV '%(delta_vb*10**3);\n",
      "Xbmax = 1-delta_Xb;\n",
      "print 'c)  The normalized maximum quantized level is %f '%(Xbmax);\n",
      "vbmax = Xbmax*Vfs;\n",
      "print 'd)  The actual maximum quantized level is %f V '%(vbmax);\n",
      "Eb = delta_Xb/2;\n",
      "print 'e)  The normalized peak error is %f '%(Eb);\n",
      "eb = Eb*Vfs;\n",
      "print 'f)  The actual peak error is %.2f mV '%(eb*10**3);\n"
     ],
     "language": "python",
     "metadata": {},
     "outputs": [
      {
       "output_type": "stream",
       "stream": "stdout",
       "text": [
        "a)  The normalised bipolar step size is 0.007812 \n",
        "b)  The actual step size is 78.12 mV \n",
        "c)  The normalized maximum quantized level is 0.992188 \n",
        "d)  The actual maximum quantized level is 9.921875 V \n",
        "e)  The normalized peak error is 0.003906 \n",
        "f)  The actual peak error is 39.06 mV \n"
       ]
      }
     ],
     "prompt_number": 7
    },
    {
     "cell_type": "heading",
     "level": 2,
     "metadata": {},
     "source": [
      "Example 9.6  Page No : 313"
     ]
    },
    {
     "cell_type": "code",
     "collapsed": false,
     "input": [
      "import math \n",
      "from numpy import array,log\n",
      "\n",
      "# Variables\n",
      "Vimax = 16.;  #Volts\n",
      "Vomax = 2.;  #Volts\n",
      "m = 255.;     #meu\n",
      "\n",
      "# Calculations\n",
      "vi = array([2, 4, 8, 16]);\n",
      "vo = Vomax*log(1+m*vi/Vimax)/math.log(1+m);\n",
      "table = [vi.transpose(), vo.transpose()];\n",
      "print ' viV    voV';\n",
      "print (table);\n"
     ],
     "language": "python",
     "metadata": {},
     "outputs": [
      {
       "output_type": "stream",
       "stream": "stdout",
       "text": [
        " viV    voV\n",
        "[array([ 2,  4,  8, 16]), array([ 1.25972975,  1.50420207,  1.75140614,  2.        ])]\n"
       ]
      }
     ],
     "prompt_number": 9
    },
    {
     "cell_type": "heading",
     "level": 2,
     "metadata": {},
     "source": [
      "Example 9.7  Page No : 319"
     ]
    },
    {
     "cell_type": "code",
     "collapsed": false,
     "input": [
      "\n",
      "# Variables\n",
      "#all time in ms\n",
      "#all frequencies in kHz\n",
      "W = 5.;\n",
      "N = 8.;  #bits\n",
      "k = 19.+1;  #word\n",
      "\n",
      "# Calculations and Results\n",
      "fs = 2*W;\n",
      "print 'fs = %i kHz'%(fs);\n",
      "Tf = 1/fs;\n",
      "print ' Tf = %.1f ms'%(Tf);\n",
      "Tw = Tf/k;\n",
      "print ' Tw = %i micro second'%(Tw*10**3);\n",
      "tau = Tw/N;\n",
      "print ' tau = %.3f micro second'%(tau*10**3);\n",
      "Bt = 0.5/tau;\n",
      "print ' Bt = %ikHz'%(Bt);\n"
     ],
     "language": "python",
     "metadata": {},
     "outputs": [
      {
       "output_type": "stream",
       "stream": "stdout",
       "text": [
        "fs = 10 kHz\n",
        " Tf = 0.1 ms\n",
        " Tw = 5 micro second\n",
        " tau = 0.625 micro second\n",
        " Bt = 800kHz\n"
       ]
      }
     ],
     "prompt_number": 10
    },
    {
     "cell_type": "heading",
     "level": 2,
     "metadata": {},
     "source": [
      "Example 9.8  Page No : 323"
     ]
    },
    {
     "cell_type": "code",
     "collapsed": false,
     "input": [
      "# Variables\n",
      "#all frequencies in kHz\n",
      "R = 200;  #kbits/s\n",
      "\n",
      "# Calculations\n",
      "Bt = R;   #kHz\n",
      "\n",
      "# Results\n",
      "print ' Bt = %ikHz'%(Bt);\n"
     ],
     "language": "python",
     "metadata": {},
     "outputs": [
      {
       "output_type": "stream",
       "stream": "stdout",
       "text": [
        " Bt = 200kHz\n"
       ]
      }
     ],
     "prompt_number": 11
    },
    {
     "cell_type": "heading",
     "level": 2,
     "metadata": {},
     "source": [
      "Example 9.9  Page No : 326"
     ]
    },
    {
     "cell_type": "code",
     "collapsed": false,
     "input": [
      "\n",
      "# Variables\n",
      "#all frequencies in kHz\n",
      "R = 200;  #kbits/s\n",
      "delta_f = 150;  #f1-f0\n",
      "\n",
      "# Calculations\n",
      "Bt = delta_f+R;   #kHz\n",
      "\n",
      "# Results\n",
      "print ' Bt = %ikHz'%(Bt);\n"
     ],
     "language": "python",
     "metadata": {},
     "outputs": [
      {
       "output_type": "stream",
       "stream": "stdout",
       "text": [
        " Bt = 350kHz\n"
       ]
      }
     ],
     "prompt_number": 12
    },
    {
     "cell_type": "heading",
     "level": 2,
     "metadata": {},
     "source": [
      "Example 9.10  Page No : 329"
     ]
    },
    {
     "cell_type": "code",
     "collapsed": false,
     "input": [
      "# Variables\n",
      "#all frequencies in kHz\n",
      "R = 200;  #kbits/s\n",
      "\n",
      "# Calculations\n",
      "Bt = R;   #kHz\n",
      "\n",
      "# Results\n",
      "print ' Bt = %ikHz'%(Bt);\n"
     ],
     "language": "python",
     "metadata": {},
     "outputs": [
      {
       "output_type": "stream",
       "stream": "stdout",
       "text": [
        " Bt = 200kHz\n"
       ]
      }
     ],
     "prompt_number": 13
    }
   ],
   "metadata": {}
  }
 ]
}