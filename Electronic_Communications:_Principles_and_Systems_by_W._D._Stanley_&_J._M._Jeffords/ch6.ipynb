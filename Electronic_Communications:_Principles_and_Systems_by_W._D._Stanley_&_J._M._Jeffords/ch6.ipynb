{
 "metadata": {
  "name": "",
  "signature": "sha256:c63ffc1f6b0e1f51118b3e863bfed507c4db4871f94fba21b5d97233f2622030"
 },
 "nbformat": 3,
 "nbformat_minor": 0,
 "worksheets": [
  {
   "cells": [
    {
     "cell_type": "heading",
     "level": 1,
     "metadata": {},
     "source": [
      "Chapter 6 : Amplitude Modulation Methods"
     ]
    },
    {
     "cell_type": "heading",
     "level": 2,
     "metadata": {},
     "source": [
      "Example 6.1  Page No : 186"
     ]
    },
    {
     "cell_type": "code",
     "collapsed": false,
     "input": [
      "\n",
      "# Variables\n",
      "#All frequencies in kHz\n",
      "fc = 1*10**3; #in kHz\n",
      "W = 15;  \n",
      "\n",
      "# Calculations and Results\n",
      "DSBl = fc-W;  #lowest freq of DSB signal\n",
      "DSBh = fc+W;  #highest freq of DSB signal\n",
      "print '(a)  The range of freq is from ',DSBl,'to',DSBh\n",
      "\n",
      "BT = 2*W;\n",
      "print '(b)  Transmission bandwidth is ',BT\n"
     ],
     "language": "python",
     "metadata": {},
     "outputs": [
      {
       "output_type": "stream",
       "stream": "stdout",
       "text": [
        "(a)  The range of freq is from  985 to 1015\n",
        "(b)  Transmission bandwidth is  30\n"
       ]
      }
     ],
     "prompt_number": 1
    },
    {
     "cell_type": "heading",
     "level": 2,
     "metadata": {},
     "source": [
      "Example 6.2  Page No : 186"
     ]
    },
    {
     "cell_type": "code",
     "collapsed": false,
     "input": [
      "# Variables\n",
      "#All frequencies in kHz\n",
      "fi = 250.;  #input freq\n",
      "\n",
      "# Calculations and Results\n",
      "LSB = [fi-1,fi-3,fi-5];\n",
      "USB = [fi+1,fi+3,fi+5];\n",
      "print '(a)  The upper sideband and lower sideband ,USB:' ,USB,'and LSB:',LSB\n",
      "BT = 2*5;\n",
      "print 'The net transmission bandwidth is ',BT\n",
      "\n"
     ],
     "language": "python",
     "metadata": {},
     "outputs": [
      {
       "output_type": "stream",
       "stream": "stdout",
       "text": [
        "(a)  The upper sideband and lower sideband ,USB: [251.0, 253.0, 255.0] and LSB: [249.0, 247.0, 245.0]\n",
        "The net transmission bandwidth is  10\n"
       ]
      }
     ],
     "prompt_number": 2
    },
    {
     "cell_type": "heading",
     "level": 2,
     "metadata": {},
     "source": [
      "Example 6.3  Page No : 190"
     ]
    },
    {
     "cell_type": "code",
     "collapsed": false,
     "input": [
      "# Variables\n",
      "fc = 1*10**3; #in kHz\n",
      "W = 15;  \n",
      "\n",
      "# Calculations and Results\n",
      "LSBl = fc-W;  #lowest freq of LSB\n",
      "USBh = fc+W;  #highest freq of USB\n",
      "print '(a)  The range of freq(in kHz) for LSB is from ',LSBl,'to',fc\n",
      "print '(b)  The range of freq(in kHz) for USB is from ',fc,'to',USBh\n",
      "BT = W;\n",
      "print '(b)  Transmission bandwidth is ',BT\n"
     ],
     "language": "python",
     "metadata": {},
     "outputs": [
      {
       "output_type": "stream",
       "stream": "stdout",
       "text": [
        "(a)  The range of freq(in kHz) for LSB is from  985 to 1000\n",
        "(b)  The range of freq(in kHz) for USB is from  1000 to 1015\n",
        "(b)  Transmission bandwidth is  15\n"
       ]
      }
     ],
     "prompt_number": 3
    },
    {
     "cell_type": "heading",
     "level": 2,
     "metadata": {},
     "source": [
      "Example 6.4  Page No : 190"
     ]
    },
    {
     "cell_type": "code",
     "collapsed": false,
     "input": [
      "# Variables\n",
      "#All frequencies in kHz\n",
      "fi = 250;  #input freq\n",
      "\n",
      "# Calculations and Results\n",
      "LSB = [fi-1, fi-3, fi-5];\n",
      "USB = [fi+1, fi+3, fi+5];\n",
      "print '(a)  For LSB transmission freq are' ,LSB\n",
      "print '(b)  For USB transmission freq are',USB\n",
      "\n",
      "W = 5;\n",
      "BT = W;\n",
      "print '(c)  The transmission bandwidth is ',BT\n",
      "\n"
     ],
     "language": "python",
     "metadata": {},
     "outputs": [
      {
       "output_type": "stream",
       "stream": "stdout",
       "text": [
        "(a)  For LSB transmission freq are [249, 247, 245]\n",
        "(b)  For USB transmission freq are [251, 253, 255]\n",
        "(c)  The transmission bandwidth is  5\n"
       ]
      }
     ],
     "prompt_number": 4
    },
    {
     "cell_type": "heading",
     "level": 2,
     "metadata": {},
     "source": [
      "Example 6.5  Page No : 195"
     ]
    },
    {
     "cell_type": "code",
     "collapsed": false,
     "input": [
      "from numpy import array\n",
      "#All frequencies in kHz\n",
      "#refer Ex 6.4\n",
      "fi = 250;  #input freq\n",
      "LSB = array([fi-1, fi-3, fi-5]);  #from Ex 6.4\n",
      "\n",
      "# Calculations\n",
      "fc = 250;  #carrier freq\n",
      "f0sum = fc+LSB;\n",
      "f0diff = fc-LSB;\n",
      "\n",
      "# Results\n",
      "print '(a)  The output frequencies (in kHz) are ',f0diff,f0sum\n",
      "print '(b)  At low pass filter,the actual frequencies (in kHz) are ',f0diff\n"
     ],
     "language": "python",
     "metadata": {},
     "outputs": [
      {
       "output_type": "stream",
       "stream": "stdout",
       "text": [
        "(a)  The output frequencies (in kHz) are  [1 3 5] [499 497 495]\n",
        "(b)  At low pass filter,the actual frequencies (in kHz) are  [1 3 5]\n"
       ]
      }
     ],
     "prompt_number": 6
    },
    {
     "cell_type": "heading",
     "level": 2,
     "metadata": {},
     "source": [
      "Example 6.6  Page No : 195"
     ]
    },
    {
     "cell_type": "code",
     "collapsed": false,
     "input": [
      "from numpy import array\n",
      "\n",
      "# Variables\n",
      "#All frequencies in kHz\n",
      "fi = 250;  #input freq\n",
      "USB = array([fi+1, fi+3, fi+5]); #from Ex 6.4\n",
      "#\n",
      "# Calculations\n",
      "fc = 250;  #carrier freq\n",
      "f0sum = fc+USB;\n",
      "f0diff = USB-fc;\n",
      "\n",
      "# Results\n",
      "print '(a)  The output frequencies (in kHz) are ',f0sum,f0diff\n",
      "print '(b)  At low pass filter,the actual frequencies (in kHz) are',f0diff\n",
      "\n"
     ],
     "language": "python",
     "metadata": {},
     "outputs": [
      {
       "output_type": "stream",
       "stream": "stdout",
       "text": [
        "(a)  The output frequencies (in kHz) are  [501 503 505] [1 3 5]\n",
        "(b)  At low pass filter,the actual frequencies (in kHz) are [1 3 5]\n"
       ]
      }
     ],
     "prompt_number": 7
    },
    {
     "cell_type": "heading",
     "level": 2,
     "metadata": {},
     "source": [
      "Example 6.7  Page No : 195"
     ]
    },
    {
     "cell_type": "code",
     "collapsed": false,
     "input": [
      "from numpy import array\n",
      "\n",
      "#All frequencies in kHz\n",
      "#refer Ex 6.4\n",
      "\n",
      "# Variables\n",
      "fi = 250.;  #input freq\n",
      "LSB = array([fi-1, fi-3, fi-5]);  #from Ex 6.7\n",
      "\n",
      "# Calculations\n",
      "fc = 250.1;  #carrier freq\n",
      "f0sum = fc+LSB;\n",
      "f0diff = fc-LSB;\n",
      "\n",
      "# Results\n",
      "print '(a)  The output frequencies (in kHz) are ',f0sum,f0diff\n",
      "print '(b)  At low pass filter,the frequencies (in kHz) are ',f0diff\n"
     ],
     "language": "python",
     "metadata": {},
     "outputs": [
      {
       "output_type": "stream",
       "stream": "stdout",
       "text": [
        "(a)  The output frequencies (in kHz) are  [ 499.1  497.1  495.1] [ 1.1  3.1  5.1]\n",
        "(b)  At low pass filter,the frequencies (in kHz) are  [ 1.1  3.1  5.1]\n"
       ]
      }
     ],
     "prompt_number": 8
    },
    {
     "cell_type": "heading",
     "level": 2,
     "metadata": {},
     "source": [
      "Example 6.8  Page No : 200"
     ]
    },
    {
     "cell_type": "code",
     "collapsed": false,
     "input": [
      "# Variables\n",
      "fc = 250;  #carrier freq\n",
      "\n",
      "# Calculations and Results\n",
      "LSB = [fc-1, fc-3, fc-5];\n",
      "USB = [fc+1, fc+3, fc+5];\n",
      "print '(a)  The spectrum contains following freq.LSB:' ,LSB\n",
      "print 'USB:',USB,\n",
      "print 'carrier:',fc\n",
      "\n",
      "W = 5;\n",
      "BT = 2*W;\n",
      "print 'The transmission bandwidth is ',BT\n"
     ],
     "language": "python",
     "metadata": {},
     "outputs": [
      {
       "output_type": "stream",
       "stream": "stdout",
       "text": [
        "(a)  The spectrum contains following freq.LSB: [249, 247, 245]\n",
        "USB: [251, 253, 255] carrier: 250\n",
        "The transmission bandwidth is  10\n"
       ]
      }
     ],
     "prompt_number": 10
    },
    {
     "cell_type": "heading",
     "level": 2,
     "metadata": {},
     "source": [
      "Example 6.9  Page No : 200"
     ]
    },
    {
     "cell_type": "code",
     "collapsed": false,
     "input": [
      "# Variables\n",
      "#All voltage in V\n",
      "m = 0.6;   #modulation factor\n",
      "A = 100;   #peak carrier level (in V)\n",
      "\n",
      "# Calculations\n",
      "Vmax = A*(1+m);\n",
      "Vmin = A*(1-m);\n",
      "\n",
      "# Results\n",
      "print 'The maximum and minimum values of positive envelope is','Vmax:',Vmax,'Vmin:',Vmin\n"
     ],
     "language": "python",
     "metadata": {},
     "outputs": [
      {
       "output_type": "stream",
       "stream": "stdout",
       "text": [
        "The maximum and minimum values of positive envelope is Vmax: 160.0 Vmin: 40.0\n"
       ]
      }
     ],
     "prompt_number": 11
    },
    {
     "cell_type": "heading",
     "level": 2,
     "metadata": {},
     "source": [
      "Example 6.10  Page No : 201"
     ]
    },
    {
     "cell_type": "code",
     "collapsed": false,
     "input": [
      "# Variables\n",
      "Ratio = .5/2;  #  Ratio = Vmin/Vmax\n",
      "\n",
      "# Calculations\n",
      "m = (1-Ratio)/(1+Ratio);   #modulation factor\n",
      "\n",
      "# Results\n",
      "print 'The modulation factor is ',m\n",
      "print 'The %age modulation is ',m*100\n"
     ],
     "language": "python",
     "metadata": {},
     "outputs": [
      {
       "output_type": "stream",
       "stream": "stdout",
       "text": [
        "The modulation factor is  0.6\n",
        "The %age modulation is  60.0\n"
       ]
      }
     ],
     "prompt_number": 12
    },
    {
     "cell_type": "heading",
     "level": 2,
     "metadata": {},
     "source": [
      "Example 6.11  Page No : 201"
     ]
    },
    {
     "cell_type": "code",
     "collapsed": false,
     "input": [
      "\n",
      "# Calculations\n",
      "def sideband_amplitude(m,A):\n",
      "    return m*A/2;  #As:sideband amplitude\n",
      "               #m:modulation factor\n",
      "               #A:carrier amplitude\n",
      "# Variables\n",
      "A = 10.;\n",
      "m = 0;\n",
      "\n",
      "# Results\n",
      "print '(a) For m = 0, sideband amplitude is ',sideband_amplitude(m,A)\n",
      "m = 0.5;\n",
      "print '(b) For m = 0.5, sideband amplitude is ',sideband_amplitude(m,A)\n",
      "m = 1.;\n",
      "print '(c) For m = 1, sideband amplitude is ',sideband_amplitude(m,A)\n"
     ],
     "language": "python",
     "metadata": {},
     "outputs": [
      {
       "output_type": "stream",
       "stream": "stdout",
       "text": [
        "(a) For m = 0, sideband amplitude is  0.0\n",
        "(b) For m = 0.5, sideband amplitude is  2.5\n",
        "(c) For m = 1, sideband amplitude is  5.0\n"
       ]
      }
     ],
     "prompt_number": 13
    },
    {
     "cell_type": "heading",
     "level": 2,
     "metadata": {},
     "source": [
      "Example 6.12  Page No : 203"
     ]
    },
    {
     "cell_type": "code",
     "collapsed": false,
     "input": [
      "# Variables\n",
      "fc = 455.;  #in kHz\n",
      "\n",
      "# Calculations and Results\n",
      "Tc = (1./fc)*10**3;  #in micro sec\n",
      "print '(a)  The carrier period is',Tc,'micro s'\n",
      "\n",
      "tau = 10*Tc;  #in micro sec\n",
      "print 'The time consmath.tant is selected 10Tc:',tau,'micro s'\n",
      "\n",
      "C = 0.01*10**-6;  #in F\n",
      "R = (tau*10**-6)/C;  #ohm\n",
      "print 'R is determined',R,'ohm'\n",
      "\n",
      "W = 5.;  #in kHz\n",
      "Tm = 1/W*10**3;  #micro sec\n",
      "print 'The shortest modulation period Tm = ',Tm,'micro sec'\n"
     ],
     "language": "python",
     "metadata": {},
     "outputs": [
      {
       "output_type": "stream",
       "stream": "stdout",
       "text": [
        "(a)  The carrier period is 2.1978021978 micro s\n",
        "The time consmath.tant is selected 10Tc: 21.978021978 micro s\n",
        "R is determined 2197.8021978 ohm\n",
        "The shortest modulation period Tm =  200.0 micro sec\n"
       ]
      }
     ],
     "prompt_number": 14
    },
    {
     "cell_type": "heading",
     "level": 2,
     "metadata": {},
     "source": [
      "Example 6.14  Page No : 208"
     ]
    },
    {
     "cell_type": "code",
     "collapsed": false,
     "input": [
      "# Variables\n",
      "A = 200.;  # in Volts\n",
      "R = 50.;   #in ohm\n",
      "\n",
      "# Calculations and Results\n",
      "P = A**2/(4*R);  #in W\n",
      "print '(a)   The sverage power is ',P,'W'\n",
      "\n",
      "Pp = A**2/(2*R);  #in W\n",
      "print '(b)   The peak envelop power is ',Pp,\"W\"\n"
     ],
     "language": "python",
     "metadata": {},
     "outputs": [
      {
       "output_type": "stream",
       "stream": "stdout",
       "text": [
        "(a)   The sverage power is  200.0 W\n",
        "(b)   The peak envelop power is  400.0 W\n"
       ]
      }
     ],
     "prompt_number": 15
    },
    {
     "cell_type": "heading",
     "level": 2,
     "metadata": {},
     "source": [
      "Example 6.15  Page No : 208"
     ]
    },
    {
     "cell_type": "code",
     "collapsed": false,
     "input": [
      "import math \n",
      "\n",
      "# Variables\n",
      "P = 1000.;  #in watts\n",
      "R = 50.;  #in ohm\n",
      "\n",
      "# Calculations\n",
      "Vrms = math.sqrt(R*P);  #in V\n",
      "Irms = math.sqrt(P/R);  #in A\n",
      "\n",
      "# Results\n",
      "print 'The unmodulated rms carrier voltage is ',Vrms,\"V\"\n",
      "print 'The unmodulated rms carrier current is ',Irms,\"A\"\n"
     ],
     "language": "python",
     "metadata": {},
     "outputs": [
      {
       "output_type": "stream",
       "stream": "stdout",
       "text": [
        "The unmodulated rms carrier voltage is  223.60679775 V\n",
        "The unmodulated rms carrier current is  4.472135955 A\n"
       ]
      }
     ],
     "prompt_number": 16
    },
    {
     "cell_type": "heading",
     "level": 2,
     "metadata": {},
     "source": [
      "Example 6.16  Page No : 209"
     ]
    },
    {
     "cell_type": "code",
     "collapsed": false,
     "input": [
      "import math \n",
      "\n",
      "# Calculations\n",
      "#All power in Watts\n",
      "Pc = 1000.;\n",
      "\n",
      "def avg_P(m):           #function for total average power\n",
      "    return (1+(m**2/2))*Pc;\n",
      "\n",
      "def peak_P(m):          #function for peak power\n",
      "    return (1+m)**2*Pc;\n",
      "\n",
      "def SB_P(m):          #function for SB power\n",
      "    return avg_P(m)-Pc;\n",
      "\n",
      "def lay(m):          #function for print laying table\n",
      "    table = [m*100, avg_P(m), peak_P(m), SB_P(m)];\n",
      "    print (table);\n",
      "\n",
      "\n",
      "# Results\n",
      "print ('Summary for the result is print layed in the table ');\n",
      "print ('Mod**n_%  Avg_Pwr  Peak_Pwr SB_Pwe');\n",
      "m = 0.;   #for m = 0\n",
      "lay(m);\n",
      "m = 0.5;   #for m = 0.5\n",
      "lay(m);\n",
      "m = 1.;      #for m = 1\n",
      "lay(m);\n"
     ],
     "language": "python",
     "metadata": {},
     "outputs": [
      {
       "output_type": "stream",
       "stream": "stdout",
       "text": [
        "Summary for the result is print layed in the table \n",
        "Mod**n_%  Avg_Pwr  Peak_Pwr SB_Pwe\n",
        "[0.0, 1000.0, 1000.0, 0.0]\n",
        "[50.0, 1125.0, 2250.0, 125.0]\n",
        "[100.0, 1500.0, 4000.0, 500.0]\n"
       ]
      }
     ],
     "prompt_number": 17
    },
    {
     "cell_type": "heading",
     "level": 2,
     "metadata": {},
     "source": [
      "Example 6.17  Page No : 210"
     ]
    },
    {
     "cell_type": "code",
     "collapsed": false,
     "input": [
      "import math \n",
      "\n",
      "# Variables\n",
      "#All power in Watts\n",
      "#All voltage in volts\n",
      "#All current in ampere\n",
      "R = 50;   \n",
      "m = 0.5;\n",
      "P = 1125;  #for m = 0.5\n",
      "\n",
      "# Calculations and Results\n",
      "Vrms = math.sqrt(R*P);\n",
      "Irms = math.sqrt(P/R);\n",
      "print '(a)  For m = 0.5, Vrms and Irms are:',Vrms,'V',Irms,'A'\n",
      "m = 1.;\n",
      "P = 1500.;  #For m = 1\n",
      "Vrms = math.sqrt(R*P);\n",
      "Irms = math.sqrt(P/R);\n",
      "print '(b)  For m = 1, Vrms and Irms are:',Vrms,'V',Irms,'A'\n"
     ],
     "language": "python",
     "metadata": {},
     "outputs": [
      {
       "output_type": "stream",
       "stream": "stdout",
       "text": [
        "(a)  For m = 0.5, Vrms and Irms are: 237.170824513 V 4.69041575982 A\n",
        "(b)  For m = 1, Vrms and Irms are: 273.861278753 V 5.47722557505 A\n"
       ]
      }
     ],
     "prompt_number": 18
    }
   ],
   "metadata": {}
  }
 ]
}