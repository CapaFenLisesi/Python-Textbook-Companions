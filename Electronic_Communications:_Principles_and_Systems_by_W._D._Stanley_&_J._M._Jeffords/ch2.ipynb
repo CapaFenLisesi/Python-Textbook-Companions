{
 "metadata": {
  "name": "",
  "signature": "sha256:864553603dd4721841ece01ff88819765d78956507068d6cf100b7669fda390f"
 },
 "nbformat": 3,
 "nbformat_minor": 0,
 "worksheets": [
  {
   "cells": [
    {
     "cell_type": "heading",
     "level": 1,
     "metadata": {},
     "source": [
      "Chapter 2 : Spectral Analysis I Fourier Series"
     ]
    },
    {
     "cell_type": "heading",
     "level": 2,
     "metadata": {},
     "source": [
      "Example 2.1  Page No : 31"
     ]
    },
    {
     "cell_type": "code",
     "collapsed": false,
     "input": [
      "import math \n",
      "\n",
      "# Calculations and Results\n",
      "#v(t) = 12coos(2pi*2000t)\n",
      "A = 12.;   #in volts\n",
      "print '(a)  The amplitude is idetified as',A,'V'\n",
      "\n",
      "w = 2*math.pi*2000;\n",
      "print '(b)  The radian frequincy is',w,'rad/s'\n",
      "\n",
      "f = w/(2*math.pi);\n",
      "print '(c)  The cyclic frequency is',f,'Hz'\n",
      "\n",
      "T = 1/f;\n",
      "print '(d)  The period is',T,'s'\n"
     ],
     "language": "python",
     "metadata": {},
     "outputs": [
      {
       "output_type": "stream",
       "stream": "stdout",
       "text": [
        "(a)  The amplitude is idetified as 12.0 V\n",
        "(b)  The radian frequincy is 12566.3706144 rad/s\n",
        "(c)  The cyclic frequency is 2000.0 Hz\n",
        "(d)  The period is 0.0005 s\n"
       ]
      }
     ],
     "prompt_number": 1
    },
    {
     "cell_type": "heading",
     "level": 2,
     "metadata": {},
     "source": [
      "Example 2.2  Page No : 32"
     ]
    },
    {
     "cell_type": "code",
     "collapsed": false,
     "input": [
      "import math \n",
      "from sympy import acot\n",
      "\n",
      "# Variables\n",
      "#i(t) = 4math.cos50t + 3math.sin50t\n",
      "A = 4.;\n",
      "B = 3.;\n",
      "\n",
      "# Calculations and Results\n",
      "C = math.sqrt(A**2+B**2);  #right triangle\n",
      "theta = -1*math.atan(3./4);  #in rad\n",
      "print '(a)  The current is expressed as 5math.cos(50t + theta),where theta is',theta,'rad'\n",
      "\n",
      "phi = math.radians(acot(3./4));  #from figure 2.5 in radian\n",
      "print '(b)  The current is expressed as 5math.sin(50t+phi), where phi is',phi,'rad',\n",
      "\n",
      "phi = phi*180/math.pi;\n",
      "print 'or',phi,'degrees'\n"
     ],
     "language": "python",
     "metadata": {},
     "outputs": [
      {
       "output_type": "stream",
       "stream": "stdout",
       "text": [
        "(a)  The current is expressed as 5math.cos(50t + theta),where theta is -0.643501108793 rad\n",
        "(b)  The current is expressed as 5math.sin(50t+phi), where phi is 0.0161843546921 rad or 0.927295218002 degrees\n"
       ]
      }
     ],
     "prompt_number": 3
    },
    {
     "cell_type": "heading",
     "level": 2,
     "metadata": {},
     "source": [
      "Example 2.3  Page No : 37"
     ]
    },
    {
     "cell_type": "code",
     "collapsed": false,
     "input": [
      "# Variables\n",
      "T = 12.5*10**-6; #in sec\n",
      "f0 = 0;   #dc\n",
      "\n",
      "# Calculations\n",
      "f1 = 1./T*10**-3;   #in kHz\n",
      "f2 = f0+2*f1;\n",
      "f3 = f0+3*f1;\n",
      "f4 = f0+4*f1;\n",
      "\n",
      "# Results\n",
      "print 'The lowest five frequencies are (in kH)',f0,f1,f2,f3,f4,'kHz'\n"
     ],
     "language": "python",
     "metadata": {},
     "outputs": [
      {
       "output_type": "stream",
       "stream": "stdout",
       "text": [
        "The lowest five frequencies are (in kH) 0 80.0 160.0 240.0 320.0 kHz\n"
       ]
      }
     ],
     "prompt_number": 4
    },
    {
     "cell_type": "heading",
     "level": 2,
     "metadata": {},
     "source": [
      "Example 2.4  Page No : 40"
     ]
    },
    {
     "cell_type": "code",
     "collapsed": false,
     "input": [
      "%matplotlib inline\n",
      "import math \n",
      "from numpy import zeros,arange,concatenate\n",
      "from matplotlib.pylab import plot,suptitle,xlabel,ylabel\n",
      "\n",
      "# Variables\n",
      "#all frequencies are in Hz\n",
      "f = 0;\n",
      "f1 = 500.;  #fundamental freq.\n",
      "f2 = 1000.;  \n",
      "f3 = 1500.;  #harmonics\n",
      "print (f3,f2,f1,f,'(a)  The frequencies in signal are');\n",
      "#for plot\n",
      "fHz = arange(0,1600);\n",
      "Cn = concatenate(([5],zeros(499),[8],zeros(499),[6],zeros(499), [3], zeros(99)))\n",
      "\n",
      "plot(fHz,Cn)#,[3],rect = [-0.5,0,1550,10])\n",
      "suptitle('Linear amplitude spectrum')\n",
      "xlabel('f,Hz')\n",
      "ylabel('Cn(V)')\n",
      "#xgrid\n",
      "print ('(c)  The required bandwidth is 1500 Hz');\n"
     ],
     "language": "python",
     "metadata": {},
     "outputs": [
      {
       "output_type": "stream",
       "stream": "stdout",
       "text": [
        "(1500.0, 1000.0, 500.0, 0, '(a)  The frequencies in signal are')\n",
        "(c)  The required bandwidth is 1500 Hz"
       ]
      },
      {
       "output_type": "stream",
       "stream": "stdout",
       "text": [
        "\n"
       ]
      },
      {
       "metadata": {},
       "output_type": "display_data",
       "png": "[encoded data removed]",
       "text": [
        "<matplotlib.figure.Figure at 0x10ee31150>"
       ]
      }
     ],
     "prompt_number": 11
    },
    {
     "cell_type": "heading",
     "level": 2,
     "metadata": {},
     "source": [
      "Example 2.5  Page No : 43"
     ]
    },
    {
     "cell_type": "code",
     "collapsed": false,
     "input": [
      "%matplotlib inline\n",
      "import math \n",
      "from numpy import zeros,concatenate\n",
      "from matplotlib.pylab import plot,suptitle,xlabel,ylabel,title\n",
      "\n",
      "#page no 43\n",
      "#problem 2.5\n",
      "\n",
      "# Variables\n",
      "#All voltages are in V\n",
      "#All power in watts\n",
      "R = 5.;  #ohm\n",
      "C0 = 5.;  #dc value\n",
      "C1 = 8.;\n",
      "C2 = 6.;\n",
      "C3 = 3.;   #volts\n",
      "\n",
      "# Calculations and Results\n",
      "Vrms = math.sqrt(C0**2+0.5*(C1**2+C2**2+C3**2));  #rms voltage\n",
      "print '(a)  The rms value of voltage is',Vrms\n",
      "\n",
      "P = Vrms**2/R;   #watts\n",
      "print '(b)  The average power dissipated in resistor is',P,'W'\n",
      "\n",
      "P0 = C0**2/R;\n",
      "print '(c)  The dc power is ',P0\n",
      "\n",
      "P1 = C1**2/(2*R);\n",
      "print 'The power in fundamental is',P1\n",
      "\n",
      "P2 = C2**2/(2*R);\n",
      "P3 = C3**2/(2*R);\n",
      "print 'The second and third harmonics are',P2,P3\n",
      "#for plot\n",
      "fHz = range(1600);\n",
      "f1 = 500;  #fundamental freq.\n",
      "f2 = 1000;  f3 = 1500; \n",
      "Pn = concatenate(([P0],zeros(499), [P1], zeros(499), [P2], zeros(499), [P3], zeros(99)))\n",
      "plot(fHz,Pn,color=\"red\")#,rect = [0,0,1600,8])\n",
      "suptitle('Power spectrum')\n",
      "xlabel('f,Hz')\n",
      "ylabel('Pn(W)')\n",
      "#xgrid\n"
     ],
     "language": "python",
     "metadata": {},
     "outputs": [
      {
       "output_type": "stream",
       "stream": "stdout",
       "text": [
        "(a)  The rms value of voltage is 8.91627725006\n",
        "(b)  The average power dissipated in resistor is 15.9 W\n",
        "(c)  The dc power is  5.0\n",
        "The power in fundamental is 6.4\n",
        "The second and third harmonics are 3.6 0.9\n"
       ]
      },
      {
       "metadata": {},
       "output_type": "pyout",
       "prompt_number": 12,
       "text": [
        "<matplotlib.text.Text at 0x10f003250>"
       ]
      },
      {
       "metadata": {},
       "output_type": "display_data",
       "png": "[encoded data removed]",
       "text": [
        "<matplotlib.figure.Figure at 0x10ee3f3d0>"
       ]
      }
     ],
     "prompt_number": 12
    },
    {
     "cell_type": "heading",
     "level": 2,
     "metadata": {},
     "source": [
      "Example 2.6  Page No : 48"
     ]
    },
    {
     "cell_type": "code",
     "collapsed": false,
     "input": [
      "\n",
      "# Variables\n",
      "#All frequencies in Hz\n",
      "#There is no dc component\n",
      "T = 4.*10**-3;\n",
      "\n",
      "# Calculations and Results\n",
      "f1 = 1/T;\n",
      "print 'The fundmental frequency is',f1\n",
      "\n",
      "#The function have only odd numbered components\n",
      "print 'The five lowest frequencies are ',f1,f1*3,f1*5,f1*7,f1*9\n",
      "print ('(b)  The rolloff rate is -6dB/octave');\n"
     ],
     "language": "python",
     "metadata": {},
     "outputs": [
      {
       "output_type": "stream",
       "stream": "stdout",
       "text": [
        "The fundmental frequency is 250.0\n",
        "The five lowest frequencies are  250.0 750.0 1250.0 1750.0 2250.0\n",
        "(b)  The rolloff rate is -6dB/octave\n"
       ]
      }
     ],
     "prompt_number": 13
    },
    {
     "cell_type": "heading",
     "level": 2,
     "metadata": {},
     "source": [
      "Example 2.7  Page No : 51"
     ]
    },
    {
     "cell_type": "code",
     "collapsed": false,
     "input": [
      "import math \n",
      "\n",
      "# Variables\n",
      "#All frequencies in kHz\n",
      "#The time is in ms\n",
      "#Power in WATTS\n",
      "#All voltage in volts\n",
      "T = 0.2;  #ms\n",
      "\n",
      "# Calculations and Results\n",
      "f1 = 1/T;\n",
      "print 'The fundamental frequency is',f1\n",
      "\n",
      "#There are only odd numbered harmonics\n",
      "Ap2p = 40.; # peak to peak\n",
      "R = 50.;  #ohm\n",
      "A = Ap2p/2;\n",
      "C1 = 4*A/math.pi;\n",
      "C3 = 4*A/(3*math.pi);\n",
      "C5 = 4*A/(5*math.pi);\n",
      "print 'The magnitude of fundamental , third and fifth harmonics are ',C1,C3,C5,'respectively',\n",
      "def Power(Cn,R):\n",
      "    return Cn**2/(2*R);\n",
      "\n",
      "P1 = Power(C1,R);\n",
      "P3 = Power(C3,R);\n",
      "P5 = Power(C5,R);\n",
      "#power is calculated umath.sing the function Power defined above\n",
      "print ('Frequency  Amplitude   Power')\n",
      "table = [[f1,C1,P1],[3*f1,C3,P3],[5*f1,C5,P5]];\n",
      "print (table);\n"
     ],
     "language": "python",
     "metadata": {},
     "outputs": [
      {
       "output_type": "stream",
       "stream": "stdout",
       "text": [
        "The fundamental frequency is 5.0\n",
        "The magnitude of fundamental , third and fifth harmonics are  25.4647908947 8.48826363157 5.09295817894 respectively Frequency  Amplitude   Power\n",
        "[[5.0, 25.464790894703256, 6.4845557531096185], [15.0, 8.48826363156775, 0.7205061947899574], [25.0, 5.092958178940651, 0.2593822301243847]]\n"
       ]
      }
     ],
     "prompt_number": 15
    },
    {
     "cell_type": "heading",
     "level": 2,
     "metadata": {},
     "source": [
      "Example 2.8  Page No : 52"
     ]
    },
    {
     "cell_type": "code",
     "collapsed": false,
     "input": [
      "import math \n",
      "\n",
      "# Variables\n",
      "#All frequencies in kHz\n",
      "#The time is in ms\n",
      "#Power in WATTS\n",
      "#All voltage in volts\n",
      "#following values are copied from Ex2-7\n",
      "T = 0.2;  #ms\n",
      "f1 = 1/T;\n",
      "#There are only odd numbered harmonics\n",
      "Ap2p = 40.; # peak to peak\n",
      "R = 50.;  #ohm\n",
      "\n",
      "# Calculations\n",
      "A = Ap2p/2;\n",
      "C1 = 4*A/math.pi;\n",
      "C3 = 4*A/(3*math.pi);\n",
      "C5 = 4*A/(5*math.pi);\n",
      "def Power(Cn,R):\n",
      "    return Cn**2/(2*R);\n",
      "\n",
      "P1 = Power(C1,R);\n",
      "P3 = Power(C3,R);\n",
      "P5 = Power(C5,R);\n",
      "\n",
      "# Results\n",
      "Vrms = A;\n",
      "P = Vrms**2/R;\n",
      "print 'Total power is',P,\"W\"\n",
      "P135 = P1+P3+P5\n",
      "print 'Power of fundamental , third and fifth harmonics is',P135\n",
      "prcnt = P135/P*100;\n",
      "print 'The percent of power is ',prcnt\n",
      "\n"
     ],
     "language": "python",
     "metadata": {},
     "outputs": [
      {
       "output_type": "stream",
       "stream": "stdout",
       "text": [
        "Total power is 8.0 W\n",
        "Power of fundamental , third and fifth harmonics is 7.46444417802\n",
        "The percent of power is  93.3055522253\n"
       ]
      }
     ],
     "prompt_number": 16
    },
    {
     "cell_type": "heading",
     "level": 2,
     "metadata": {},
     "source": [
      "Example 2.9  Page No : 54"
     ]
    },
    {
     "cell_type": "code",
     "collapsed": false,
     "input": [
      "%matplotlib inline\n",
      "import math \n",
      "from numpy import zeros,concatenate,array,arange\n",
      "from matplotlib.pyplot import plot,suptitle,xlabel,ylabel,subplot\n",
      "\n",
      "\n",
      "# Variables\n",
      "f0 = 0;\n",
      "f1 = 500.;  #fundamental freq.\n",
      "f2 = 1000.;  \n",
      "f3 = 1500.;  #harmonics\n",
      "\n",
      "# Calculations and Results\n",
      "#Values from ex 2.4\n",
      "C = [5, 8, 6, 3]#  Values in Volts\n",
      "#Values from ex 2.5\n",
      "P = [5, 6.4, 3.6, .9];   #poweer in watts\n",
      "\n",
      "# plot two sided linear amplitude spectrum\n",
      "#fHz = -1510:10**-2:1510;    #x-axis matrix\n",
      "fHz = arange(-1510,1510.01,10**-2)\n",
      "\n",
      "#Y-axis matrix\n",
      "Cn = [C[0]]\n",
      "for i in range(1,4):\n",
      "    Cn = concatenate(([zeros(49999), Cn, zeros(49999)]))\n",
      "    Cn = concatenate(([C[i]/2], Cn, [C[i]/2]));\n",
      "\n",
      "Cn = concatenate((zeros(1000), Cn, zeros(1000)))\n",
      "subplot(211)\n",
      "plot(fHz,Cn)#,[2],rect = [-2000,0,2000,6])\n",
      "suptitle('Two-sided Linear amplitude spectrum')\n",
      "xlabel('f,Hz')\n",
      "ylabel('Vn(V)')\n",
      "\n",
      "# plot two power spectrum\n",
      "fHz = arange(-1510,1510.01,10**-2);    #x-axis matrix\n",
      "#Y-axis matrix\n",
      "Pn = [P[0]]\n",
      "for i in range(1,4):\n",
      "    Pn = concatenate((zeros(49999), Pn, zeros(49999)))\n",
      "    Pn = concatenate(([P[i]/2], Pn ,[P[i]/2]));\n",
      "\n",
      "Pn = concatenate((zeros(1000), Pn ,zeros(1000)))\n",
      "subplot(212)\n",
      "plot(fHz,Pn)#,[6],rect = [-2000,0,2000,6])\n",
      "suptitle('Two-sided power spectrum')\n",
      "xlabel('f,Hz')\n",
      "ylabel('Pn(W)')\n"
     ],
     "language": "python",
     "metadata": {},
     "outputs": [
      {
       "metadata": {},
       "output_type": "pyout",
       "prompt_number": 17,
       "text": [
        "<matplotlib.text.Text at 0x10f030290>"
       ]
      },
      {
       "metadata": {},
       "output_type": "display_data",
       "png": "[encoded data removed]",
       "text": [
        "<matplotlib.figure.Figure at 0x10d7fdb50>"
       ]
      }
     ],
     "prompt_number": 17
    }
   ],
   "metadata": {}
  }
 ]
}