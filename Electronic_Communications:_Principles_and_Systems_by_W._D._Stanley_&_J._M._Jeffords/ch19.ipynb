{
 "metadata": {
  "name": "",
  "signature": "sha256:3b8a3271fb321fe3a325e9aa4bee4b7a8e4f014b522b83ed33f340b9e0df99a3"
 },
 "nbformat": 3,
 "nbformat_minor": 0,
 "worksheets": [
  {
   "cells": [
    {
     "cell_type": "heading",
     "level": 1,
     "metadata": {},
     "source": [
      "Chapter 19 : Wireless Network communication"
     ]
    },
    {
     "cell_type": "heading",
     "level": 2,
     "metadata": {},
     "source": [
      "Example 19.2  Page No : 605"
     ]
    },
    {
     "cell_type": "code",
     "collapsed": false,
     "input": [
      "b = [0, 23, 62, 8, 43, 16, 71, 47, 19, 61]\n",
      "f9 = [0,0,0,0,0,0,0,0,0,0]\n",
      "for i in range(10):\n",
      "    f9[i] = b[i]+9+2\n",
      "    if f9[i]>79:\n",
      "        f9[i] = f9[i]-79\n",
      "\n",
      "    print 'For i = %i ,(bi) = %i. Therefore.f9%i) = [%i+9]mod79)+2 = %i'%(i,b[i],i,b[i],f9[i])\n"
     ],
     "language": "python",
     "metadata": {},
     "outputs": [
      {
       "output_type": "stream",
       "stream": "stdout",
       "text": [
        "For i = 0 ,(bi) = 0. Therefore.f90) = [0+9]mod79)+2 = 11\n",
        "For i = 1 ,(bi) = 23. Therefore.f91) = [23+9]mod79)+2 = 34\n",
        "For i = 2 ,(bi) = 62. Therefore.f92) = [62+9]mod79)+2 = 73\n",
        "For i = 3 ,(bi) = 8. Therefore.f93) = [8+9]mod79)+2 = 19\n",
        "For i = 4 ,(bi) = 43. Therefore.f94) = [43+9]mod79)+2 = 54\n",
        "For i = 5 ,(bi) = 16. Therefore.f95) = [16+9]mod79)+2 = 27\n",
        "For i = 6 ,(bi) = 71. Therefore.f96) = [71+9]mod79)+2 = 3\n",
        "For i = 7 ,(bi) = 47. Therefore.f97) = [47+9]mod79)+2 = 58\n",
        "For i = 8 ,(bi) = 19. Therefore.f98) = [19+9]mod79)+2 = 30\n",
        "For i = 9 ,(bi) = 61. Therefore.f99) = [61+9]mod79)+2 = 72\n"
       ]
      }
     ],
     "prompt_number": 9
    },
    {
     "cell_type": "heading",
     "level": 2,
     "metadata": {},
     "source": [
      "Example 19.4  Page No : 607"
     ]
    },
    {
     "cell_type": "code",
     "collapsed": false,
     "input": [
      "\n",
      "# Variables\n",
      "fd = .160;    #in MHz\n",
      "Fc = 2411;\n",
      "\n",
      "# Calculations and Results\n",
      "print 'a)fd = %.2f MHz. a 0 is represented by %.2f MHz'%(fd,Fc-fd)\n",
      "print 'b)A 1 is represented by %.2f MHz'%(Fc+fd)\n",
      "\n"
     ],
     "language": "python",
     "metadata": {},
     "outputs": [
      {
       "output_type": "stream",
       "stream": "stdout",
       "text": [
        "a)fd = 0.16 MHz. a 0 is represented by 2410.84 MHz\n",
        "b)A 1 is represented by 2411.16 MHz\n"
       ]
      }
     ],
     "prompt_number": 10
    },
    {
     "cell_type": "heading",
     "level": 2,
     "metadata": {},
     "source": [
      "Example 19.5  Page No : 607"
     ]
    },
    {
     "cell_type": "code",
     "collapsed": false,
     "input": [
      "\n",
      "# Variables\n",
      "fd1 = .216;    #in MHz\n",
      "fd2 = .072;    #in MHz\n",
      "Fc = 2400+25 ;   #MHz\n",
      "\n",
      "# Calculations and Results\n",
      "print 'a)fd1 = %.2f MHz. a 00 is represented by %.3f MHz'%(fd1,Fc-fd1)\n",
      "print 'b)A 01 is represented by %.3f MHz'%(Fc-fd2)\n",
      "print 'c)A 10 is represented by %.3f MHz'%(Fc+fd1)\n",
      "print 'b)A 11 is represented by %.3f MHz'%(Fc+fd2)    \n",
      "#answer in part a is misprinted in the text\n"
     ],
     "language": "python",
     "metadata": {},
     "outputs": [
      {
       "output_type": "stream",
       "stream": "stdout",
       "text": [
        "a)fd1 = 0.22 MHz. a 00 is represented by 2424.784 MHz\n",
        "b)A 01 is represented by 2424.928 MHz\n",
        "c)A 10 is represented by 2425.216 MHz\n",
        "b)A 11 is represented by 2425.072 MHz\n"
       ]
      }
     ],
     "prompt_number": 11
    },
    {
     "cell_type": "heading",
     "level": 2,
     "metadata": {},
     "source": [
      "Example 19.6  Page No : 608"
     ]
    },
    {
     "cell_type": "code",
     "collapsed": false,
     "input": [
      "%matplotlib inline\n",
      "from numpy import zeros,concatenate,array,arange,ones,linspace,sin\n",
      "from matplotlib.pyplot import plot,suptitle,xlabel,ylabel,subplot\n",
      "import math \n",
      "\n",
      "code = array([0, 1, 0, 1, 1, 0]);\n",
      "t = arange(0,2.01,0.01)   #for x-axis\n",
      "a = sin(2*math.pi*t)    #for y-axis\n",
      "y = []\n",
      "x = []\n",
      "for i in range(len(code)):\n",
      "    if code[i] == 1:\n",
      "        a = -a;\n",
      "\n",
      "    y = concatenate((y, a))\n",
      "    x = concatenate((x, 2*math.pi*(t+2*(i-1))))\n",
      "\n",
      "plot(x,y)\n",
      "suptitle('DPSK used to encode 010110')\n",
      "xlabel('Time')\n",
      "ylabel('amplitude')\n",
      "\n"
     ],
     "language": "python",
     "metadata": {},
     "outputs": [
      {
       "metadata": {},
       "output_type": "pyout",
       "prompt_number": 12,
       "text": [
        "<matplotlib.text.Text at 0x10a2824d0>"
       ]
      },
      {
       "metadata": {},
       "output_type": "display_data",
       "png": "[encoded data removed]",
       "text": [
        "<matplotlib.figure.Figure at 0x10a272fd0>"
       ]
      }
     ],
     "prompt_number": 12
    },
    {
     "cell_type": "heading",
     "level": 2,
     "metadata": {},
     "source": [
      "Example 19.7  Page No : 609"
     ]
    },
    {
     "cell_type": "code",
     "collapsed": false,
     "input": [
      "%matplotlib inline\n",
      "from numpy import zeros,concatenate,array,arange,ones,linspace,sin\n",
      "from matplotlib.pyplot import plot,suptitle,xlabel,ylabel,subplot\n",
      "import math \n",
      "\n",
      "code = array([0, 0, 1, 1, 1, 0, 0, 0, 0, 0, 0, 1]);\n",
      "t = arange(0,2.01,.01)   #for x-axis\n",
      "y = []\n",
      "x = []\n",
      "p = 0   #phase shift\n",
      "for i in range(0,len(code),2):\n",
      "    if code[i] == 0:\n",
      "        if code[i+1] == 0:\n",
      "            p = p+0\n",
      "        else:\n",
      "            p = p+math.pi/2\n",
      "    else:\n",
      "        if code[i+1] == 1:\n",
      "            p = p+math.pi\n",
      "        else:\n",
      "            p = p+3*math.pi/2\n",
      "    y = concatenate((y, sin(2*math.pi*t+p)));\n",
      "    x = concatenate((x, 2*math.pi*(t+(i-1))));\n",
      "\n",
      "plot(x,y);\n",
      "suptitle('DQPSK used to encode 001110000001')\n",
      "xlabel('Time')\n",
      "ylabel('amplitude');\n"
     ],
     "language": "python",
     "metadata": {},
     "outputs": [
      {
       "metadata": {},
       "output_type": "display_data",
       "png": "[encoded data removed]",
       "text": [
        "<matplotlib.figure.Figure at 0x1090fb490>"
       ]
      }
     ],
     "prompt_number": 13
    }
   ],
   "metadata": {}
  }
 ]
}