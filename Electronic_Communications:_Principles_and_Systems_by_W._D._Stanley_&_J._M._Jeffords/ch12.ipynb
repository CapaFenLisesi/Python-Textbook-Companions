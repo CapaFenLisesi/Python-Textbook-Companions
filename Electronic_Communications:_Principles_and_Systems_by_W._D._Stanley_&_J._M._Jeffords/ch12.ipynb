{
 "metadata": {
  "name": "",
  "signature": "sha256:aa83d0e3624d61b152f484445b892a7d071f55ec077be834b7f5853b24bdf388"
 },
 "nbformat": 3,
 "nbformat_minor": 0,
 "worksheets": [
  {
   "cells": [
    {
     "cell_type": "heading",
     "level": 1,
     "metadata": {},
     "source": [
      "Chapter 12 : Noise in Communication systems"
     ]
    },
    {
     "cell_type": "heading",
     "level": 2,
     "metadata": {},
     "source": [
      "Example 12.1  Page No : 400"
     ]
    },
    {
     "cell_type": "code",
     "collapsed": false,
     "input": [
      "import math \n",
      "from numpy import array\n",
      "\n",
      "# Variables\n",
      "B = 10**6;  #Hz\n",
      "R = array([1, 100, 10000])*10**3  #ohm\n",
      "\n",
      "# Calculations and Resultsc\n",
      "Vrms = (16*10**-21*B*R)**0.5;  #volts\n",
      "print ' R K-ohm   Vrms micro-V';\n",
      "out = [R*10**-3, Vrms*10**6];\n",
      "print (out);\n"
     ],
     "language": "python",
     "metadata": {},
     "outputs": [
      {
       "output_type": "stream",
       "stream": "stdout",
       "text": [
        " R K-ohm   Vrms micro-V\n",
        "[array([  1.00000000e+00,   1.00000000e+02,   1.00000000e+04]), array([   4.,   40.,  400.])]\n"
       ]
      }
     ],
     "prompt_number": 1
    },
    {
     "cell_type": "heading",
     "level": 2,
     "metadata": {},
     "source": [
      "Example 12.2  Page No : 401"
     ]
    },
    {
     "cell_type": "code",
     "collapsed": false,
     "input": [
      "\n",
      "# Variables\n",
      "B = 10.**6;  #Hz\n",
      "R = 10**7 ; #ohm\n",
      "\n",
      "# Calculations\n",
      "Vrms = (16*10**-21*B*R)**0.5;  #volts\n",
      "G = 5000;  #gain\n",
      "vorms = Vrms*G;\n",
      "\n",
      "# Results\n",
      "print 'vorms = %.1f V'%(vorms);\n"
     ],
     "language": "python",
     "metadata": {},
     "outputs": [
      {
       "output_type": "stream",
       "stream": "stdout",
       "text": [
        "vorms = 2.0 V\n"
       ]
      }
     ],
     "prompt_number": 2
    },
    {
     "cell_type": "heading",
     "level": 2,
     "metadata": {},
     "source": [
      "Example 12.3  Page No : 403"
     ]
    },
    {
     "cell_type": "code",
     "collapsed": false,
     "input": [
      "# Variables\n",
      "B = 2*10**6;  #Hz\n",
      "Req = 6*10**6 ; #ohm\n",
      "\n",
      "# Calculations\n",
      "Vrms = (16*10**-21*B*Req)**0.5;  #volts\n",
      "\n",
      "# Results\n",
      "print 'vrms = %.1f micro-V'%(Vrms*10**6);\n"
     ],
     "language": "python",
     "metadata": {},
     "outputs": [
      {
       "output_type": "stream",
       "stream": "stdout",
       "text": [
        "vrms = 438.2 micro-V\n"
       ]
      }
     ],
     "prompt_number": 3
    },
    {
     "cell_type": "heading",
     "level": 2,
     "metadata": {},
     "source": [
      "Example 12.4  Page No : 405"
     ]
    },
    {
     "cell_type": "code",
     "collapsed": false,
     "input": [
      "# Variables\n",
      "B = 2*10**6;  #Hz\n",
      "R = 50 ; #ohm\n",
      "kT0 = 4*10**-21;\n",
      "\n",
      "# Calculations\n",
      "Nav = kT0*B;\n",
      "\n",
      "# Results\n",
      "print 'Noise power = %.0f fW'%(Nav*10**15);\n"
     ],
     "language": "python",
     "metadata": {},
     "outputs": [
      {
       "output_type": "stream",
       "stream": "stdout",
       "text": [
        "Noise power = 8 fW\n"
       ]
      }
     ],
     "prompt_number": 4
    },
    {
     "cell_type": "heading",
     "level": 2,
     "metadata": {},
     "source": [
      "Example 12.5  Page No : 406"
     ]
    },
    {
     "cell_type": "code",
     "collapsed": false,
     "input": [
      "\n",
      "# Variables\n",
      "B = 2*10**6;  #Hz\n",
      "R = 50 ; #ohm\n",
      "G = 10**6;  #gain\n",
      "kT0 = 4*10**-21;\n",
      "\n",
      "# Calculations\n",
      "Nav = kT0*B;\n",
      "No = G*Nav;\n",
      "\n",
      "# Results\n",
      "print 'output Noise power = %.0f nW'%(No*10**9);\n"
     ],
     "language": "python",
     "metadata": {},
     "outputs": [
      {
       "output_type": "stream",
       "stream": "stdout",
       "text": [
        "output Noise power = 8 nW\n"
       ]
      }
     ],
     "prompt_number": 5
    },
    {
     "cell_type": "heading",
     "level": 2,
     "metadata": {},
     "source": [
      "Example 12.6  Page No : 406"
     ]
    },
    {
     "cell_type": "code",
     "collapsed": false,
     "input": [
      "\n",
      "# Variables\n",
      "#data from ex 12.5\n",
      "B = 2*10**6;  #Hz\n",
      "R = 50 ; #ohm\n",
      "G = 10**6;  #gain\n",
      "kT0 = 4*10**-21;\n",
      "\n",
      "# Calculations\n",
      "Nav = kT0*B;\n",
      "No = G*Nav;\n",
      "#ex12.6\n",
      "Vrms = (No*50)**0.5;\n",
      "\n",
      "# Results\n",
      "print 'Vrms = %.1f micro-V'%(Vrms*10**6);\n"
     ],
     "language": "python",
     "metadata": {},
     "outputs": [
      {
       "output_type": "stream",
       "stream": "stdout",
       "text": [
        "Vrms = 632.5 micro-V\n"
       ]
      }
     ],
     "prompt_number": 6
    },
    {
     "cell_type": "heading",
     "level": 2,
     "metadata": {},
     "source": [
      "Example 12.7  Page No : 408"
     ]
    },
    {
     "cell_type": "code",
     "collapsed": false,
     "input": [
      "\n",
      "# Variables\n",
      "R = 50 ; #ohm\n",
      "G = 10**8;  #gain\n",
      "kT0 = 4*10**-21;\n",
      "\n",
      "# Calculations\n",
      "So = G*kT0;\n",
      "\n",
      "# Results\n",
      "print 'Output spectral density Sof) = %.0f fW/Hz'%(So*10**15);\n"
     ],
     "language": "python",
     "metadata": {},
     "outputs": [
      {
       "output_type": "stream",
       "stream": "stdout",
       "text": [
        "Output spectral density Sof) = 400 fW/Hz\n"
       ]
      }
     ],
     "prompt_number": 7
    },
    {
     "cell_type": "heading",
     "level": 2,
     "metadata": {},
     "source": [
      "Example 12.8  Page No : 409"
     ]
    },
    {
     "cell_type": "code",
     "collapsed": false,
     "input": [
      "\n",
      "# Variables\n",
      "ns = 6*10**-18;   #W/Hz\n",
      "k = 1.38*10**-23;\n",
      "\n",
      "# Calculations and Results\n",
      "Ts = ns/k;\n",
      "print 'a) Equilant source temperature is Ts = %.0f K'%(Ts);\n",
      "Gdb = 43;  #gain in dB\n",
      "G = 10**(Gdb/10);\n",
      "print ' b) Absolute gain G = %.3f'%(G);\n",
      "G = 20*10**3;   #Approximate\n",
      "Si = ns;\n",
      "So = G*Si;\n",
      "print 'Output spectral density Sof) = %.0f fW/Hz'%(So*10**15);\n",
      "B = 12*10**6;   #Hz\n",
      "no = So;\n",
      "No = no*B;\n",
      "print ' c)Total Output Noise power ,No = %.3f micro-W'%(No*10**6);\n"
     ],
     "language": "python",
     "metadata": {},
     "outputs": [
      {
       "output_type": "stream",
       "stream": "stdout",
       "text": [
        "a) Equilant source temperature is Ts = 434783 K\n",
        " b) Absolute gain G = 10000.000\n",
        "Output spectral density Sof) = 120 fW/Hz\n",
        " c)Total Output Noise power ,No = 1.440 micro-W\n"
       ]
      }
     ],
     "prompt_number": 9
    },
    {
     "cell_type": "heading",
     "level": 2,
     "metadata": {},
     "source": [
      "Example 12.9  Page No : 409"
     ]
    },
    {
     "cell_type": "code",
     "collapsed": false,
     "input": [
      "# Variables\n",
      "Gdb1 = 10.;\n",
      "Gdb2 = 15.; \n",
      "Gdb3 = 25.;\n",
      "\n",
      "# Calculations and Results\n",
      "Gdb = Gdb1+Gdb2+Gdb3;  # net gain in dB\n",
      "G = 10**(Gdb/10);\n",
      "print 'Absolute gain G = %i'%(G);\n",
      "B = 10**4;   #Hz\n",
      "ni = 10**-12;  #pW/Hz\n",
      "No = ni*G*B;\n",
      "print ' Output Noise power ,No = %i mW'%(No*10**3);\n"
     ],
     "language": "python",
     "metadata": {},
     "outputs": [
      {
       "output_type": "stream",
       "stream": "stdout",
       "text": [
        "Absolute gain G = 100000\n",
        " Output Noise power ,No = 1 mW\n"
       ]
      }
     ],
     "prompt_number": 11
    },
    {
     "cell_type": "heading",
     "level": 2,
     "metadata": {},
     "source": [
      "Example 12.10  Page No : 412"
     ]
    },
    {
     "cell_type": "code",
     "collapsed": false,
     "input": [
      "\n",
      "# Variables\n",
      "Te = 50.;   #K\n",
      "T0 = 290.;   #K\n",
      "\n",
      "# Calculations and Results\n",
      "F = 1+Te/T0;\n",
      "print 'a) Noise figure, F = %.3f'%(F);\n",
      "Fdb = 10*math.log10(F);\n",
      "print ' b) Decibel value , Fdb = %.3f dB '%(Fdb);\n"
     ],
     "language": "python",
     "metadata": {},
     "outputs": [
      {
       "output_type": "stream",
       "stream": "stdout",
       "text": [
        "a) Noise figure, F = 1.172\n",
        " b) Decibel value , Fdb = 0.691 dB \n"
       ]
      }
     ],
     "prompt_number": 12
    },
    {
     "cell_type": "heading",
     "level": 2,
     "metadata": {},
     "source": [
      "Example 12.11  Page No : 412"
     ]
    },
    {
     "cell_type": "code",
     "collapsed": false,
     "input": [
      "\n",
      "# Variables\n",
      "Fdb = 5.;\n",
      "T0 = 290.;  #K\n",
      "\n",
      "# Calculations and Results\n",
      "F = 10**(Fdb/10);\n",
      "print 'Noise figure, F = %.3f'%(F);\n",
      "Te = (F-1)*T0;\n",
      "print ' Noise Temperature , Te = %i K '%(Te);\n"
     ],
     "language": "python",
     "metadata": {},
     "outputs": [
      {
       "output_type": "stream",
       "stream": "stdout",
       "text": [
        "Noise figure, F = 3.162\n",
        " Noise Temperature , Te = 627 K \n"
       ]
      }
     ],
     "prompt_number": 13
    },
    {
     "cell_type": "heading",
     "level": 2,
     "metadata": {},
     "source": [
      "Example 12.12  Page No : 413"
     ]
    },
    {
     "cell_type": "code",
     "collapsed": false,
     "input": [
      "import math \n",
      "\n",
      "# Variables\n",
      "T0 = 290.;  #K\n",
      "Fdb = 9.;\n",
      "\n",
      "# Calculations and Results\n",
      "F = 10**(Fdb/10);\n",
      "print 'Absolute Noise figure, F = %.3f = 8Approx)'%(F);\n",
      "F = 8;   #Approximate\n",
      "Te = (F-1)*T0;\n",
      "print ' Noise Temperature, Te = %i K '%(Te);\n",
      "Ti = T0;\n",
      "k = 1.38*10**-23;   #Boltzmann's Consmath.tant\n",
      "B = 2*10**6;  #Hz\n",
      "Ni = k*Ti*B;  #W\n",
      "print ' a) Input source Noise ratio, Ni = %i fW '%(Ni*10**15);\n",
      "Pi = 8*10**-12;   #W\n",
      "SNinput = Pi/Ni;\n",
      "print 'b) Input source signal to noise ratio S:Ninput = %.0f'%(SNinput);\n",
      "print '  Corresponding dB value SNinputdb) = %.0f dB'%(10*math.log10(SNinput));\n",
      "Gdb = 50;\n",
      "G = 10**(Gdb/10);\n",
      "Po = G*Pi;  #W\n",
      "print 'c) The output signal power, Po = %i nW'%(Po*10**9);\n",
      "Tsys = Ti+Te;\n",
      "No = G*k*Tsys*B;  #W\n",
      "print 'd) output noise power No = %.2f nw'%(No*10**9);\n",
      "SNoutput = Po/No;\n",
      "print 'e) Output signal to noise ratio S:Noutput = %.0f'%(SNoutput);\n",
      "print '  Corresponding dB value S;Noutputdb) = %.0f dB'%(10*math.log10(SNoutput));\n"
     ],
     "language": "python",
     "metadata": {},
     "outputs": [
      {
       "output_type": "stream",
       "stream": "stdout",
       "text": [
        "Absolute Noise figure, F = 7.943 = 8Approx)\n",
        " Noise Temperature, Te = 2030 K \n",
        " a) Input source Noise ratio, Ni = 8 fW \n",
        "b) Input source signal to noise ratio S:Ninput = 1000\n",
        "  Corresponding dB value SNinputdb) = 30 dB\n",
        "c) The output signal power, Po = 800 nW\n",
        "d) output noise power No = 6.40 nw\n",
        "e) Output signal to noise ratio S:Noutput = 125\n",
        "  Corresponding dB value S;Noutputdb) = 21 dB\n"
       ]
      }
     ],
     "prompt_number": 14
    },
    {
     "cell_type": "heading",
     "level": 2,
     "metadata": {},
     "source": [
      "Example 12.13  Page No : 414"
     ]
    },
    {
     "cell_type": "code",
     "collapsed": false,
     "input": [
      "import math \n",
      "\n",
      "# Variables\n",
      "#Data from ex-12\n",
      "T0 = 290.;  #K\n",
      "Fdb = 9.;\n",
      "F = 10**(Fdb/10);\n",
      "F = 8;   #Approximate\n",
      "Te = (F-1)*T0;\n",
      "Ti = T0;\n",
      "\n",
      "# Calculations\n",
      "k = 1.38*10**-23;   #Boltzmann's Consmath.tant\n",
      "B = 2*10**6;  #Hz\n",
      "Ni = k*Ti*B;  #W\n",
      "Pi = 8*10**-12;   #W\n",
      "SNinput = Pi/Ni;\n",
      "SNinputdb = 10*math.log10(SNinput);\n",
      "#Ex13 calculation\n",
      "SNoutputdB = SNinputdb-Fdb;\n",
      "\n",
      "# Results\n",
      "print '  S:Noutputdb) = %.0f dB'%(SNoutputdB);\n"
     ],
     "language": "python",
     "metadata": {},
     "outputs": [
      {
       "output_type": "stream",
       "stream": "stdout",
       "text": [
        "  S:Noutputdb) = 21 dB\n"
       ]
      }
     ],
     "prompt_number": 15
    },
    {
     "cell_type": "heading",
     "level": 2,
     "metadata": {},
     "source": [
      "Example 12.14  Page No : 418"
     ]
    },
    {
     "cell_type": "code",
     "collapsed": false,
     "input": [
      "# Variables\n",
      "#Absolute gains\n",
      "G1 = 20.;\n",
      "G2 = 15.;\n",
      "G3 = 12.;\n",
      "#Temp in K\n",
      "Te1 = 100.;\n",
      "Te2 = 200.;\n",
      "Te3 = 300.;\n",
      "\n",
      "# Calculations\n",
      "Te = Te1+Te2/G1+Te3/G1/G2\n",
      "\n",
      "# Results\n",
      "print 'Noise Temperature ,Te = %.0f K'%(Te);\n"
     ],
     "language": "python",
     "metadata": {},
     "outputs": [
      {
       "output_type": "stream",
       "stream": "stdout",
       "text": [
        "Noise Temperature ,Te = 111 K\n"
       ]
      }
     ],
     "prompt_number": 17
    },
    {
     "cell_type": "heading",
     "level": 2,
     "metadata": {},
     "source": [
      "Example 12.15  Page No : 418"
     ]
    },
    {
     "cell_type": "code",
     "collapsed": false,
     "input": [
      "# Variables\n",
      "#Absolute gains\n",
      "G1 = 20.;\n",
      "G2 = 15.;\n",
      "G3 = 12.;\n",
      "#Temp in K\n",
      "Te1 = 100.;\n",
      "Te2 = 200.;\n",
      "Te3 = 300.;\n",
      "\n",
      "# Calculations\n",
      "#Noise figures\n",
      "F1 = 1+Te1/290;\n",
      "F2 = 1+Te2/290;\n",
      "F3 = 1+Te3/290;\n",
      "F = F1+(F2-1)/G1+(F3-1)/G1/G2;\n",
      "\n",
      "# Results\n",
      "print 'Noise figure ,F = %.4f'%(F);\n",
      "Te = (F-1)*290;\n",
      "\n",
      "print 'Noise Temperature ,Te = %.0f K'%(Te);\n"
     ],
     "language": "python",
     "metadata": {},
     "outputs": [
      {
       "output_type": "stream",
       "stream": "stdout",
       "text": [
        "Noise figure ,F = 1.3828\n",
        "Noise Temperature ,Te = 111 K\n"
       ]
      }
     ],
     "prompt_number": 19
    },
    {
     "cell_type": "heading",
     "level": 2,
     "metadata": {},
     "source": [
      "Example 12.16  Page No : 419"
     ]
    },
    {
     "cell_type": "code",
     "collapsed": false,
     "input": [
      "# Variables\n",
      "Ldb = 6.02;  #db\n",
      "\n",
      "# Calculations and Results\n",
      "L = 10**(Ldb/10);\n",
      "print 'Absloute loss ,L = %.0f'%(L);\n",
      "Tp = 290;  #K\n",
      "#Noise temp  (K)\n",
      "TeL = (L-1)*Tp;\n",
      "Tepre = 50.;\n",
      "Terec = 200.;\n",
      "Gpre = 10**(20./10);\n",
      "Te = TeL+L*Tepre+L*Terec/Gpre;\n",
      "print 'Noise Temperature ,Te = %.0f K'%(Te);\n",
      "\n",
      "#Noise figures\n",
      "F = 1+Te/290;\n",
      "print 'Noise figure ,F = %.4f'%(F);\n",
      "print 'Noise figure ,(FdB) = %.3f  dB'%(10*math.log10(F));\n",
      "\n"
     ],
     "language": "python",
     "metadata": {},
     "outputs": [
      {
       "output_type": "stream",
       "stream": "stdout",
       "text": [
        "Absloute loss ,L = 4\n",
        "Noise Temperature ,Te = 1078 K\n",
        "Noise figure ,F = 4.7166\n",
        "Noise figure ,(FdB) = 6.736  dB\n"
       ]
      }
     ],
     "prompt_number": 22
    },
    {
     "cell_type": "heading",
     "level": 2,
     "metadata": {},
     "source": [
      "Example 12.17  Page No : 419"
     ]
    },
    {
     "cell_type": "code",
     "collapsed": false,
     "input": [
      "import math \n",
      "\n",
      "# Variables\n",
      "Ldb = 6.02;  #db\n",
      "\n",
      "# Calculations and Results\n",
      "L = 10**(Ldb/10);\n",
      "print 'Absloute loss ,L = %.0f'%(L);\n",
      "Tp = 290.;  #K\n",
      "#Noise temp  (K)\n",
      "TeL = (L-1)*Tp;\n",
      "Tepre = 50.;\n",
      "Terec = 200.;\n",
      "Gpre = 10**(20./10);\n",
      "Te = Tepre+TeL/Gpre+L*Terec/Gpre;\n",
      "print ' a) Noise Temperature ,Te = %.1f K'%(Te);\n",
      "\n",
      "#Noise figures\n",
      "F = 1+Te/290.;\n",
      "print ' b) Noise figure ,F = %.2f'%(F);\n",
      "print 'Noise figure ,(FdB) = %.3f  dB'%(10*math.log10(F));\n",
      "\n"
     ],
     "language": "python",
     "metadata": {},
     "outputs": [
      {
       "output_type": "stream",
       "stream": "stdout",
       "text": [
        "Absloute loss ,L = 4\n",
        " a) Noise Temperature ,Te = 66.7 K\n",
        " b) Noise figure ,F = 1.23\n",
        "Noise figure ,(FdB) = 0.899  dB\n"
       ]
      }
     ],
     "prompt_number": 25
    }
   ],
   "metadata": {}
  }
 ]
}