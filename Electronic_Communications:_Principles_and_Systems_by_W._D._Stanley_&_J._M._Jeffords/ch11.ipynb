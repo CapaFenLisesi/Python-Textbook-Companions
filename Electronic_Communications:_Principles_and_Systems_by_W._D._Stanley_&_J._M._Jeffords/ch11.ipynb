{
 "metadata": {
  "name": "",
  "signature": "sha256:515ce7f57d3f3654c589465de33505df9960d587077dfc13945da28abff3841f"
 },
 "nbformat": 3,
 "nbformat_minor": 0,
 "worksheets": [
  {
   "cells": [
    {
     "cell_type": "heading",
     "level": 1,
     "metadata": {},
     "source": [
      "Chapter 11 : Computer Data communication"
     ]
    },
    {
     "cell_type": "heading",
     "level": 2,
     "metadata": {},
     "source": [
      "Example 11.7  Page No : 379"
     ]
    },
    {
     "cell_type": "code",
     "collapsed": false,
     "input": [
      "\n",
      "# Calculations\n",
      "B = 800.*64;   #Mb/s\n",
      "\n",
      "# Results\n",
      "print 'Bandwidth =  %i Mb/s  or  %i MB/s'%(B,B/8);\n"
     ],
     "language": "python",
     "metadata": {},
     "outputs": [
      {
       "output_type": "stream",
       "stream": "stdout",
       "text": [
        "Bandwidth =  51200 Mb/s  or  6400 MB/s\n"
       ]
      }
     ],
     "prompt_number": 1
    },
    {
     "cell_type": "heading",
     "level": 2,
     "metadata": {},
     "source": [
      "Example 11.8  Page No : 379"
     ]
    },
    {
     "cell_type": "code",
     "collapsed": false,
     "input": [
      "# Calculations\n",
      "B = 400*64;   #Mb/s\n",
      "\n",
      "# Results\n",
      "print 'Memory bus bandwidth  =  %i Mb/s  or  %i MB/s'%(B,B/8);\n"
     ],
     "language": "python",
     "metadata": {},
     "outputs": [
      {
       "output_type": "stream",
       "stream": "stdout",
       "text": [
        "Memory bus bandwidth  =  25600 Mb/s  or  3200 MB/s\n"
       ]
      }
     ],
     "prompt_number": 2
    },
    {
     "cell_type": "heading",
     "level": 2,
     "metadata": {},
     "source": [
      "Example 11.9  Page No : 379"
     ]
    },
    {
     "cell_type": "code",
     "collapsed": false,
     "input": [
      "\n",
      "# Calculations\n",
      "B = 128.*400;   #Mb/s\n",
      "\n",
      "# Results\n",
      "print 'Memory bus bandwidth  =  %i Mb/s  or  %i MB/s'%(B,B/8);\n"
     ],
     "language": "python",
     "metadata": {},
     "outputs": [
      {
       "output_type": "stream",
       "stream": "stdout",
       "text": [
        "Memory bus bandwidth  =  51200 Mb/s  or  6400 MB/s\n"
       ]
      }
     ],
     "prompt_number": 3
    }
   ],
   "metadata": {}
  }
 ]
}