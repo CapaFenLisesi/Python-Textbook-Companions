{
 "metadata": {
  "name": "",
  "signature": "sha256:2ef77f95947fa24e94595e46940380d50befab1ec5aff361283c45343c8b331f"
 },
 "nbformat": 3,
 "nbformat_minor": 0,
 "worksheets": [
  {
   "cells": [
    {
     "cell_type": "heading",
     "level": 1,
     "metadata": {},
     "source": [
      "Chapter 14 : Transmission lines and waves"
     ]
    },
    {
     "cell_type": "heading",
     "level": 2,
     "metadata": {},
     "source": [
      "Example 14.1  Page No : 471"
     ]
    },
    {
     "cell_type": "code",
     "collapsed": false,
     "input": [
      "\n",
      "# Variables\n",
      "f = 1.*10**6;  #Hz\n",
      "\n",
      "# Calculations and Results\n",
      "lembda = 3.*10**8/f;   #m\n",
      "print 'The free space wavelength is  =  %i m '%(lembda);\n",
      "l = .1*lembda;\n",
      "print ' Length , l =  %i m'%(l);\n"
     ],
     "language": "python",
     "metadata": {},
     "outputs": [
      {
       "output_type": "stream",
       "stream": "stdout",
       "text": [
        "The free space wavelength is  =  300 m \n",
        " Length , l =  30 m\n"
       ]
      }
     ],
     "prompt_number": 1
    },
    {
     "cell_type": "heading",
     "level": 2,
     "metadata": {},
     "source": [
      "Example 14.2  Page No : 471"
     ]
    },
    {
     "cell_type": "code",
     "collapsed": false,
     "input": [
      "\n",
      "# Variables\n",
      "f = 1.*10**8;  #Hz\n",
      "\n",
      "# Calculations and Results\n",
      "lembda = 3.*10**8/f;   #m\n",
      "print 'The free space wavelength is  =  %i m '%(lembda);\n",
      "l = .1*lembda;\n",
      "print ' Length ,l =  %.1f m'%(l);\n"
     ],
     "language": "python",
     "metadata": {},
     "outputs": [
      {
       "output_type": "stream",
       "stream": "stdout",
       "text": [
        "The free space wavelength is  =  3 m \n",
        " Length ,l =  0.3 m\n"
       ]
      }
     ],
     "prompt_number": 2
    },
    {
     "cell_type": "heading",
     "level": 2,
     "metadata": {},
     "source": [
      "Example 14.3  Page No : 472"
     ]
    },
    {
     "cell_type": "code",
     "collapsed": false,
     "input": [
      "# Variables\n",
      "f = 1.*10**9;  #Hz\n",
      "\n",
      "# Calculations and Results\n",
      "lembda = 3.*10**8/f;   #m\n",
      "print 'The free space wavelength is  =  %i cm '%(lembda*100);\n",
      "l = .1*lembda;\n",
      "print ' Length , l =  %i cm'%(l*100);\n"
     ],
     "language": "python",
     "metadata": {},
     "outputs": [
      {
       "output_type": "stream",
       "stream": "stdout",
       "text": [
        "The free space wavelength is  =  30 cm \n",
        " Length , l =  3 cm\n"
       ]
      }
     ],
     "prompt_number": 3
    },
    {
     "cell_type": "heading",
     "level": 2,
     "metadata": {},
     "source": [
      "Example 14.4  Page No : 474"
     ]
    },
    {
     "cell_type": "code",
     "collapsed": false,
     "input": [
      "import math\n",
      "# Variables\n",
      "L = 320.*10**-9;   #H/m\n",
      "C = 90.*10**-12;   #F/m\n",
      "\n",
      "# Calculations\n",
      "R0 = math.sqrt(L/C);\n",
      "\n",
      "# Results\n",
      "print 'The characteristc impedance, R0  =  %.2f ohm '%(R0);\n"
     ],
     "language": "python",
     "metadata": {},
     "outputs": [
      {
       "output_type": "stream",
       "stream": "stdout",
       "text": [
        "The characteristc impedance, R0  =  59.63 ohm \n"
       ]
      }
     ],
     "prompt_number": 5
    },
    {
     "cell_type": "heading",
     "level": 2,
     "metadata": {},
     "source": [
      "Example 14.5  Page No : 476"
     ]
    },
    {
     "cell_type": "code",
     "collapsed": false,
     "input": [
      "import math \n",
      "\n",
      "# Variables\n",
      "L = 320.*10**-9;   #H/m\n",
      "C = 90.*10**-12;   #F/m\n",
      "\n",
      "# Calculations\n",
      "v = 1/math.sqrt(L*C);\n",
      "\n",
      "# Results\n",
      "print 'The velocity of propagation is, v  =  %.3f 10**8 m/s '%(v*10**-8);\n"
     ],
     "language": "python",
     "metadata": {},
     "outputs": [
      {
       "output_type": "stream",
       "stream": "stdout",
       "text": [
        "The velocity of propagation is, v  =  1.863 10**8 m/s \n"
       ]
      }
     ],
     "prompt_number": 6
    },
    {
     "cell_type": "heading",
     "level": 2,
     "metadata": {},
     "source": [
      "Example 14.6  Page No : 476"
     ]
    },
    {
     "cell_type": "code",
     "collapsed": false,
     "input": [
      "import math\n",
      "# Variables\n",
      "L = 320*10**-9;   #H/m\n",
      "C = 90*10**-12;   #F/m\n",
      "\n",
      "# Calculations\n",
      "v = 1./math.sqrt(L*C);   #from Ex14.5\n",
      "Er = (3*10**8/v)**2;\n",
      "\n",
      "# Results\n",
      "print 'The dielectic constant is, Er  =  %.2f  '%(Er);\n"
     ],
     "language": "python",
     "metadata": {},
     "outputs": [
      {
       "output_type": "stream",
       "stream": "stdout",
       "text": [
        "The dielectic constant is, Er  =  2.59  \n"
       ]
      }
     ],
     "prompt_number": 8
    },
    {
     "cell_type": "heading",
     "level": 2,
     "metadata": {},
     "source": [
      "Example 14.6.1  Page No : 479"
     ]
    },
    {
     "cell_type": "code",
     "collapsed": false,
     "input": [
      "import math \n",
      "\n",
      "# Variables\n",
      "d = .3;  #cm\n",
      "D = 1.02;  #cm\n",
      "Er = 2.25;  \n",
      "\n",
      "# Calculations and Results\n",
      "x = math.log(D/d);   #variable\n",
      "L = 2*10**-7*x;\n",
      "print 'a)The inductance per unit length is, L  =  %.1f nH/m '%(L*10**9);\n",
      "C = 55.56*10**-12*Er/x;\n",
      "print ' b)The capacitance per unit length is, C  =  %.2f nH/m '%(C*10**12);\n",
      "R0 = 60/math.sqrt(Er)*x;\n",
      "print ' c)The characteristic impedance is, R0  =  %.3f ohm '%(R0);\n",
      "c = 3*10**8;\n",
      "v = c/math.sqrt(Er);\n",
      "print ' d)The velocity of propagation is, v  =  %i*10**8 m/s '%(v*10**-8);\n"
     ],
     "language": "python",
     "metadata": {},
     "outputs": [
      {
       "output_type": "stream",
       "stream": "stdout",
       "text": [
        "a)The inductance per unit length is, L  =  244.8 nH/m \n",
        " b)The capacitance per unit length is, C  =  102.15 nH/m \n",
        " c)The characteristic impedance is, R0  =  48.951 ohm \n",
        " d)The velocity of propagation is, v  =  2*10**8 m/s \n"
       ]
      }
     ],
     "prompt_number": 9
    },
    {
     "cell_type": "heading",
     "level": 2,
     "metadata": {},
     "source": [
      "Example 14.7  Page No : 480"
     ]
    },
    {
     "cell_type": "code",
     "collapsed": false,
     "input": [
      "#prob no. 14.7;\n",
      "\n",
      "# Variables\n",
      "Rin = 50.   #ohm\n",
      "Rout = 50.;   #ohm\n",
      "Vrms = 400.;  #V\n",
      "\n",
      "# Calculations and Results\n",
      "Zin = Rin;\n",
      "print 'a)The input impedance is, Zin  =  %i ohm'%(Zin);\n",
      "Irms = Vrms/(Rin+Rout);  #A\n",
      "print ' b)The rms current , Irms  =  %i A '%(Irms);\n",
      "Pin = Irms**2*Rin;\n",
      "print ' c)The input power is, Pin  =  %i W '%(Pin);\n",
      "Pl = Pin;\n",
      "print ' d)The load power is, Pl  =  %i W '%(Pl);\n"
     ],
     "language": "python",
     "metadata": {},
     "outputs": [
      {
       "output_type": "stream",
       "stream": "stdout",
       "text": [
        "a)The input impedance is, Zin  =  50 ohm\n",
        " b)The rms current , Irms  =  4 A \n",
        " c)The input power is, Pin  =  800 W \n",
        " d)The load power is, Pl  =  800 W \n"
       ]
      }
     ],
     "prompt_number": 10
    },
    {
     "cell_type": "heading",
     "level": 2,
     "metadata": {},
     "source": [
      "Example 14.8  Page No : 481"
     ]
    },
    {
     "cell_type": "code",
     "collapsed": false,
     "input": [
      "\n",
      "# Variables\n",
      "Rin = 50.   #ohm\n",
      "Rout = 50.;   #ohm\n",
      "Vrms = 400.;  #V\n",
      "l = 50.;      #m\n",
      "\n",
      "# Calculations and Results\n",
      "Ldb = .01*l;   #dB\n",
      "L = 10**(Ldb/10);\n",
      "print 'The abslute loss is, L  =  %f '%(L);\n",
      "Irms = Vrms/(Rin+Rout);  #A\n",
      "Pin = Irms**2*Rin;\n",
      "\n",
      "PL = Pin/L;\n",
      "print ' The actual Power reaching the load is, PL  =  %.1f W '%(PL);\n"
     ],
     "language": "python",
     "metadata": {},
     "outputs": [
      {
       "output_type": "stream",
       "stream": "stdout",
       "text": [
        "The abslute loss is, L  =  1.122018 \n",
        " The actual Power reaching the load is, PL  =  713.0 W \n"
       ]
      }
     ],
     "prompt_number": 11
    },
    {
     "cell_type": "heading",
     "level": 2,
     "metadata": {},
     "source": [
      "Example 14.9  Page No : 484"
     ]
    },
    {
     "cell_type": "code",
     "collapsed": false,
     "input": [
      "from numpy import angle\n",
      "\n",
      "# Variables\n",
      "ZL = complex(50,100);\n",
      "R0 = 50.;\n",
      "\n",
      "def R2P(x):\n",
      "    return abs(x), angle(x)\n",
      "    \n",
      "# Calculations and Results\n",
      "TauL = (ZL-R0)/(ZL+R0);\n",
      "print 'a)The reflection coefficient at load is',\n",
      "print (TauL);\n",
      "R,theta = R2P(TauL)   #polar(TauL);\n",
      "print 'OR , %.4f angle %i'%(R,theta*180/math.pi);\n",
      "\n",
      "S = (1+R)/(1-R);\n",
      "print ' b) The stading wave ratio is, S  =  %.3f '%(S);\n"
     ],
     "language": "python",
     "metadata": {},
     "outputs": [
      {
       "output_type": "stream",
       "stream": "stdout",
       "text": [
        "a)The reflection coefficient at load is (0.5+0.5j)\n",
        "OR , 0.7071 angle 45\n",
        " b) The stading wave ratio is, S  =  5.828 \n"
       ]
      }
     ],
     "prompt_number": 14
    },
    {
     "cell_type": "heading",
     "level": 2,
     "metadata": {},
     "source": [
      "Example 14.10  Page No : 484"
     ]
    },
    {
     "cell_type": "code",
     "collapsed": false,
     "input": [
      "\n",
      "# Variables\n",
      "ZL = 100.;   #ohm\n",
      "RL = ZL;\n",
      "R0 = 300.;    #ohm\n",
      "\n",
      "# Calculations and Results\n",
      "TauL = (RL-R0)/(RL+R0);\n",
      "\n",
      "print 'a)The reflection coefficient at load is =   %0.2f'%(TauL);\n",
      "\n",
      "S = R0/RL;\n",
      "print ' b) The stading wave ratio is, S  =  %.0f '%(S);\n"
     ],
     "language": "python",
     "metadata": {},
     "outputs": [
      {
       "output_type": "stream",
       "stream": "stdout",
       "text": [
        "a)The reflection coefficient at load is =   -0.50\n",
        " b) The stading wave ratio is, S  =  3 \n"
       ]
      }
     ],
     "prompt_number": 15
    },
    {
     "cell_type": "heading",
     "level": 2,
     "metadata": {},
     "source": [
      "Example 14.11  Page No : 485"
     ]
    },
    {
     "cell_type": "code",
     "collapsed": false,
     "input": [
      "import math \n",
      "\n",
      "# Variables\n",
      "ZL = 100.;   #ohm\n",
      "RL = ZL;\n",
      "R0 = 300;    #ohm\n",
      "\n",
      "# Calculations\n",
      "TauL = (RL-R0)/(RL+R0);\n",
      "mismatch_loss_dB = -10*math.log10(1-TauL**2);\n",
      "\n",
      "# Results\n",
      "print ' The mismatch loss dB , S  =  %.2f dB'%(mismatch_loss_dB);\n"
     ],
     "language": "python",
     "metadata": {},
     "outputs": [
      {
       "output_type": "stream",
       "stream": "stdout",
       "text": [
        " The mismatch loss dB , S  =  1.25 dB\n"
       ]
      }
     ],
     "prompt_number": 16
    },
    {
     "cell_type": "heading",
     "level": 2,
     "metadata": {},
     "source": [
      "Example 14.12  Page No : 487"
     ]
    },
    {
     "cell_type": "code",
     "collapsed": false,
     "input": [
      "import math \n",
      "# Variables\n",
      "Ex = 3. #V/m\n",
      "n0 = 377.;\n",
      "\n",
      "# Calculations and Results\n",
      "Hy = Ex/n0;\n",
      "print 'a) The vaulue of Hy is, Hy  =  %.3f * 10**-3 A/m'%(Hy*10**3);\n",
      "\n",
      "Px = Ex**2/n0;\n",
      "print ' b) The power density Px is, Px  =  %.3f * 10**-3 W/m**2'%(Px*10**3);\n",
      "A = 10*30;\n",
      "P = Px*A;\n",
      "print ' c) The net power transmitted is, P  =  %.3f W '%(P);\n"
     ],
     "language": "python",
     "metadata": {},
     "outputs": [
      {
       "output_type": "stream",
       "stream": "stdout",
       "text": [
        "a) The vaulue of Hy is, Hy  =  7.958 * 10**-3 A/m\n",
        " b) The power density Px is, Px  =  23.873 * 10**-3 W/m**2\n",
        " c) The net power transmitted is, P  =  7.162 W \n"
       ]
      }
     ],
     "prompt_number": 17
    }
   ],
   "metadata": {}
  }
 ]
}