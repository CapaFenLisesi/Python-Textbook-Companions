{
 "metadata": {
  "name": "",
  "signature": "sha256:654008bef312166c584c8c37dbba66490dce72fac67bb704aee7db6064bf2e37"
 },
 "nbformat": 3,
 "nbformat_minor": 0,
 "worksheets": [
  {
   "cells": [
    {
     "cell_type": "heading",
     "level": 1,
     "metadata": {},
     "source": [
      "Chapter 15 : Introduction to Antennas"
     ]
    },
    {
     "cell_type": "heading",
     "level": 2,
     "metadata": {},
     "source": [
      "Example 15.2  Page No : 500"
     ]
    },
    {
     "cell_type": "code",
     "collapsed": false,
     "input": [
      "# Variables\n",
      "c = 3.*10**8;  #speed of light\n",
      "f = 2.*10**9;   #frequency\n",
      "\n",
      "# Calculations and Results\n",
      "lembda = c/f;   #wavelength\n",
      "print 'The wavelength of 2GHz is,  =  %.2f m'%(lembda);\n",
      "D = 15.;  #m\n",
      "Rff = 2*D**2/lembda;\n",
      "print ' The distance to the far field is, Rff  =  %i m'%(Rff);\n"
     ],
     "language": "python",
     "metadata": {},
     "outputs": [
      {
       "output_type": "stream",
       "stream": "stdout",
       "text": [
        "The wavelength of 2GHz is,  =  0.15 m\n",
        " The distance to the far field is, Rff  =  3000 m\n"
       ]
      }
     ],
     "prompt_number": 2
    },
    {
     "cell_type": "heading",
     "level": 2,
     "metadata": {},
     "source": [
      "Example 15.3  Page No : 502"
     ]
    },
    {
     "cell_type": "code",
     "collapsed": false,
     "input": [
      "import math\n",
      "# Variables\n",
      "Gmax = 10**5;\n",
      "\n",
      "# Calculations\n",
      "Gmax_dB = 10*math.log10(Gmax);\n",
      "\n",
      "# Results\n",
      "print 'Gmax, dB =  %i dB'%(Gmax_dB);\n"
     ],
     "language": "python",
     "metadata": {},
     "outputs": [
      {
       "output_type": "stream",
       "stream": "stdout",
       "text": [
        "Gmax, dB =  50 dB\n"
       ]
      }
     ],
     "prompt_number": 4
    },
    {
     "cell_type": "heading",
     "level": 2,
     "metadata": {},
     "source": [
      "Example 15.4  Page No : 504"
     ]
    },
    {
     "cell_type": "code",
     "collapsed": false,
     "input": [
      "import math \n",
      "\n",
      "# Variables\n",
      "d = 10.**5;  #m\n",
      "Pt = 100.;  #W\n",
      "\n",
      "# Calculations\n",
      "Pd = Pt/(4*math.pi*d**2);\n",
      "\n",
      "# Results\n",
      "print 'The power density is ,Pd =  %.1f pW/m**2'%(Pd*10**12);\n"
     ],
     "language": "python",
     "metadata": {},
     "outputs": [
      {
       "output_type": "stream",
       "stream": "stdout",
       "text": [
        "The power density is ,Pd =  795.8 pW/m**2\n"
       ]
      }
     ],
     "prompt_number": 6
    },
    {
     "cell_type": "heading",
     "level": 2,
     "metadata": {},
     "source": [
      "Example 15.5  Page No : 504"
     ]
    },
    {
     "cell_type": "code",
     "collapsed": false,
     "input": [
      "import math \n",
      "\n",
      "# Variables\n",
      "d = 10.**5;  #m\n",
      "Pt = 100.;  #W\n",
      "Gt = 50;\n",
      "\n",
      "# Calculations\n",
      "Pd = Gt*Pt/(4*math.pi*d**2);\n",
      "\n",
      "# Results\n",
      "print 'The power density is ,Pd =  %.2f nW/m**2'%(Pd*10**9);\n"
     ],
     "language": "python",
     "metadata": {},
     "outputs": [
      {
       "output_type": "stream",
       "stream": "stdout",
       "text": [
        "The power density is ,Pd =  39.79 nW/m**2\n"
       ]
      }
     ],
     "prompt_number": 7
    },
    {
     "cell_type": "heading",
     "level": 2,
     "metadata": {},
     "source": [
      "Example 15.6  Page No : 504"
     ]
    },
    {
     "cell_type": "code",
     "collapsed": false,
     "input": [
      "import math \n",
      "\n",
      "# Variables\n",
      "c = 3.*10**8;  #speed of light\n",
      "f = 15.*10**9;   #frequency\n",
      "\n",
      "# Calculations and Results\n",
      "lembda = c/f;   #wavelength\n",
      "print 'The wavelength of 15 GHz is,  =  %.2f m'%(lembda);\n",
      "\n",
      "d = 41.*10**6;  #m\n",
      "Pt = 50.;  #W\n",
      "Gt = 10.**4;\n",
      "Gr = 10.**5\n",
      "Pr = lembda**2*Gr*Gt*Pt/((4*math.pi)**2*d**2);\n",
      "print 'The power density is , Pr =  %.1f pW'%(Pr*10**12);\n"
     ],
     "language": "python",
     "metadata": {},
     "outputs": [
      {
       "output_type": "stream",
       "stream": "stdout",
       "text": [
        "The wavelength of 15 GHz is,  =  0.02 m\n",
        "The power density is , Pr =  75.3 pW\n"
       ]
      }
     ],
     "prompt_number": 8
    },
    {
     "cell_type": "heading",
     "level": 2,
     "metadata": {},
     "source": [
      "Example 15.7  Page No : 506"
     ]
    },
    {
     "cell_type": "code",
     "collapsed": false,
     "input": [
      "# Variables\n",
      "Pt = 2000.;  #W\n",
      "Irms = 5.;\n",
      "\n",
      "# Calculations\n",
      "Rrad = Pt/Irms**2;\n",
      "\n",
      "# Results\n",
      "print 'The radiation resistance is , Rrad =  %i ohm'%(Rrad);\n"
     ],
     "language": "python",
     "metadata": {},
     "outputs": [
      {
       "output_type": "stream",
       "stream": "stdout",
       "text": [
        "The radiation resistance is , Rrad =  80 ohm\n"
       ]
      }
     ],
     "prompt_number": 10
    },
    {
     "cell_type": "heading",
     "level": 2,
     "metadata": {},
     "source": [
      "Example 15.11  Page No : 511"
     ]
    },
    {
     "cell_type": "code",
     "collapsed": false,
     "input": [
      "import math \n",
      "# Variables\n",
      "#misprinted example number\n",
      "c = 3.*10**8;  #speed of light\n",
      "f = 10.*10**9;   #frequency\n",
      "\n",
      "# Calculations and Results\n",
      "lembda = c/f;   #wavelength\n",
      "print 'The wavelength of 2GHz is,  =  %.2f m'%(lembda);\n",
      "D = 12;  #m\n",
      "Ap = math.pi*D**2/4;\n",
      "print ' a)The physical area is ,Ap =  %.2f m**2  '%(Ap);\n",
      "n1 = .7;   #efficiency\n",
      "Ae = n1*Ap;\n",
      "print '  The effective capture area is ,Ae =  %.2f m**2'%(Ae);\n",
      "G = 4*math.pi*Ae/lembda**2;\n",
      "print ' b) The gain is ,G =  %i'%(G);\n",
      "GdB = 10*math.log10(G);\n",
      "print ' The gaindB) is , GdB =  %.1f dB'%(GdB);\n",
      "theta_3dB = 70*lembda/D;\n",
      "print ' c) The 3 dB beamwidth  =  %.3f degrees'%(theta_3dB);\n"
     ],
     "language": "python",
     "metadata": {},
     "outputs": [
      {
       "output_type": "stream",
       "stream": "stdout",
       "text": [
        "The wavelength of 2GHz is,  =  0.03 m\n",
        " a)The physical area is ,Ap =  113.10 m**2  \n",
        "  The effective capture area is ,Ae =  79.17 m**2\n",
        " b) The gain is ,G =  1105395\n",
        " The gaindB) is , GdB =  60.4 dB\n",
        " c) The 3 dB beamwidth  =  0.175 degrees\n"
       ]
      }
     ],
     "prompt_number": 11
    },
    {
     "cell_type": "heading",
     "level": 2,
     "metadata": {},
     "source": [
      "Example 15.12  Page No : 507"
     ]
    },
    {
     "cell_type": "code",
     "collapsed": false,
     "input": [
      "\n",
      "# Variables\n",
      "c = 3.*10**8;  #speed of light\n",
      "f = 100.*10**6;   #frequency\n",
      "\n",
      "# Calculations and Results\n",
      "lembda = c/f;   #wavelength\n",
      "print 'The wavelength of 2GHz is,  =  %i m'%(lembda);\n",
      "Ac = 0.13*lembda**2;\n",
      "print 'The capture area is , Ac =  %.2f m**2'%(Ac);\n"
     ],
     "language": "python",
     "metadata": {},
     "outputs": [
      {
       "output_type": "stream",
       "stream": "stdout",
       "text": [
        "The wavelength of 2GHz is,  =  3 m\n",
        "The capture area is , Ac =  1.17 m**2\n"
       ]
      }
     ],
     "prompt_number": 13
    }
   ],
   "metadata": {}
  }
 ]
}