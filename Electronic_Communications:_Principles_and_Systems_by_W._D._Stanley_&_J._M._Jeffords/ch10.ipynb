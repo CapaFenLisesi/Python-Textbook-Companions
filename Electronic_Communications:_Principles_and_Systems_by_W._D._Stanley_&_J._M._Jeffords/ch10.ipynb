{
 "metadata": {
  "name": "",
  "signature": "sha256:0d00e54cede62a268916d596a983f3e11fe7ecb031f357b7690790082e45ad7c"
 },
 "nbformat": 3,
 "nbformat_minor": 0,
 "worksheets": [
  {
   "cells": [
    {
     "cell_type": "heading",
     "level": 1,
     "metadata": {},
     "source": [
      "Chapter 10 : Digital communication II M ary system"
     ]
    },
    {
     "cell_type": "heading",
     "level": 2,
     "metadata": {},
     "source": [
      "Example 10.1  Page No : 350"
     ]
    },
    {
     "cell_type": "code",
     "collapsed": false,
     "input": [
      "import math \n",
      "\n",
      "# Variables\n",
      "B = 4;   #kHz\n",
      "\n",
      "# Calculations and Results\n",
      "C = 2*B;\n",
      "print 'a) C = %ikbits/s'%(C);\n",
      "C = 2*B*math.log(4,2);\n",
      "print ' b) for 4-level encoding ,C = %ikbits/s'%(C);\n",
      "C = 2*B*math.log(128,2);\n",
      "print ' c) for 128-level encoding ,C = %ikbits/s'%(C);\n"
     ],
     "language": "python",
     "metadata": {},
     "outputs": [
      {
       "output_type": "stream",
       "stream": "stdout",
       "text": [
        "a) C = 8kbits/s\n",
        " b) for 4-level encoding ,C = 16kbits/s\n",
        " c) for 128-level encoding ,C = 56kbits/s\n"
       ]
      }
     ],
     "prompt_number": 4
    },
    {
     "cell_type": "heading",
     "level": 2,
     "metadata": {},
     "source": [
      "Example 10.2  Page No : 351"
     ]
    },
    {
     "cell_type": "code",
     "collapsed": false,
     "input": [
      "import math \n",
      "from numpy import array,log10,log2\n",
      "\n",
      "# Variables\n",
      "B = 4;   #kHz\n",
      "SNdb = array([20, 30, 40]);   #S/N in db\n",
      "SN = 10**(SNdb/10);  #absolute S/N\n",
      "\n",
      "# Calculations and Results\n",
      "C = B*log2(1+SN);\n",
      "print ' S/Ndb  Ckbits/s';\n",
      "out = [SNdb, C];\n",
      "print (out);\n"
     ],
     "language": "python",
     "metadata": {},
     "outputs": [
      {
       "output_type": "stream",
       "stream": "stdout",
       "text": [
        " S/Ndb  Ckbits/s\n",
        "[array([20, 30, 40]), array([ 26.63284593,  39.86890504,  53.15142657])]\n"
       ]
      }
     ],
     "prompt_number": 8
    },
    {
     "cell_type": "heading",
     "level": 2,
     "metadata": {},
     "source": [
      "Example 10.5  Page No : 352"
     ]
    },
    {
     "cell_type": "code",
     "collapsed": false,
     "input": [
      "import math \n",
      "\n",
      "# Variables\n",
      "B = 20.;   #kHz\n",
      "C = 160.;  #kb/s\n",
      "\n",
      "# Calculations and Results\n",
      "M = 2**(C/B/2);\n",
      "print 'a) Number of encoding levels ,M =  %i'%(M);\n",
      "SN = 2**(C/B)-1;\n",
      "SNdb = 10*math.log10(SN)   #S/N in db\n",
      "\n",
      "print ' b) S/N =  %i  S/Ndb) = %.2f dB'%(SN,SNdb);\n"
     ],
     "language": "python",
     "metadata": {},
     "outputs": [
      {
       "output_type": "stream",
       "stream": "stdout",
       "text": [
        "a) Number of encoding levels ,M =  16\n",
        " b) S/N =  255  S/Ndb) = 24.07 dB\n"
       ]
      }
     ],
     "prompt_number": 10
    },
    {
     "cell_type": "heading",
     "level": 2,
     "metadata": {},
     "source": [
      "Example 10.6  Page No : 356"
     ]
    },
    {
     "cell_type": "code",
     "collapsed": false,
     "input": [
      "# Variables\n",
      "R = 1.;  #Mb/s\n",
      "\n",
      "# Calculations\n",
      "Bt = R/2;   #MHz\n",
      "\n",
      "# Results\n",
      "print 'Bt =  %i kHz'%(Bt*10**3);\n"
     ],
     "language": "python",
     "metadata": {},
     "outputs": [
      {
       "output_type": "stream",
       "stream": "stdout",
       "text": [
        "Bt =  500 kHz\n"
       ]
      }
     ],
     "prompt_number": 11
    }
   ],
   "metadata": {}
  }
 ]
}