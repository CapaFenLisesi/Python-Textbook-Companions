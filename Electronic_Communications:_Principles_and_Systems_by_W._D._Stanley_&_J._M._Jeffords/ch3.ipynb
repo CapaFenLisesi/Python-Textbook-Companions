{
 "metadata": {
  "name": "",
  "signature": "sha256:5d324c12de22a42ed82c05183324620530b3699c74c75c3fa2662d951a0062e9"
 },
 "nbformat": 3,
 "nbformat_minor": 0,
 "worksheets": [
  {
   "cells": [
    {
     "cell_type": "heading",
     "level": 1,
     "metadata": {},
     "source": [
      "Chapter 3 : Spectral Analysis II Fourier Transform and Pulse Spectra"
     ]
    },
    {
     "cell_type": "heading",
     "level": 2,
     "metadata": {},
     "source": [
      "Example 3.1  Page No : 75"
     ]
    },
    {
     "cell_type": "code",
     "collapsed": false,
     "input": [
      "%matplotlib inline\n",
      "from numpy import zeros,concatenate,array,arange,ones\n",
      "from matplotlib.pyplot import plot,suptitle,xlabel,ylabel,subplot\n",
      "import math \n",
      "\n",
      "A = 1.    #arbitrary value provided\n",
      "T = 10.    #T represents tau (arbitrary value provided)\n",
      "#plot for non periodic pulse\n",
      "t = arange(-2*T,2*T+0.001,.001)\n",
      "vt = concatenate((zeros(15001), ones(9999), zeros(15002)))\n",
      "subplot(211)\n",
      "plot(t,vt) #,[2],rect = [-2*T,0,2*T,A+1])\n",
      "suptitle('(a) Non periodic pulse')\n",
      "xlabel('t')\n",
      "ylabel('v(t)')\n",
      "\n",
      "#plot for amplitude spectum\n",
      "f = arange(-4/T,4/T,0.001);\n",
      "Vf = []\n",
      "for i in range(len(f)):\n",
      "    if f[i] == 0:\n",
      "        Vf.append(A*T);    #according to L'Hopitals rule math.sin(x)/x = 1 at lim x->0\n",
      "    else:\n",
      "        Vf.append(A*T*math.sin(math.pi*f[i]*T)/(math.pi*f[i]*T))\n",
      "\n",
      "\n",
      "subplot(212)\n",
      "plot(f,Vf)\n",
      "suptitle('(b) Amplitude spectrum')\n",
      "xlabel('f')\n",
      "ylabel('V(f)')\n",
      "\n"
     ],
     "language": "python",
     "metadata": {},
     "outputs": [
      {
       "metadata": {},
       "output_type": "pyout",
       "prompt_number": 2,
       "text": [
        "<matplotlib.text.Text at 0x10649a590>"
       ]
      },
      {
       "metadata": {},
       "output_type": "display_data",
       "png": "[encoded data removed]",
       "text": [
        "<matplotlib.figure.Figure at 0x10629bd50>"
       ]
      }
     ],
     "prompt_number": 2
    },
    {
     "cell_type": "heading",
     "level": 2,
     "metadata": {},
     "source": [
      "Example 3.2  Page No : 76"
     ]
    },
    {
     "cell_type": "code",
     "collapsed": false,
     "input": [
      "%matplotlib inline\n",
      "from numpy import zeros,concatenate,array,arange,ones\n",
      "from matplotlib.pyplot import plot,suptitle,xlabel,ylabel,subplot\n",
      "import math \n",
      "\n",
      "#plot for impulse function\n",
      "t = arange(-2,2.001,.001)\n",
      "vt = concatenate((zeros(len(arange(-2,0,.001))), [1], zeros(len(arange(0+.001,2.001,.001)))))     #impulse function matrix\n",
      "\n",
      "subplot(211)\n",
      "plot(t,vt)#|,[2],rect = [-2,0,2,2])\n",
      "suptitle('(a) Unit Impulse function')\n",
      "xlabel('t')\n",
      "ylabel('v(t)')\n",
      "\n",
      "\n",
      "#plot for amplitude spectum\n",
      "f = arange(-2,2.001,0.001)\n",
      "Vf = ones(len(f))\n",
      "subplot(212)\n",
      "plot(f,Vf)#,[5])\n",
      "suptitle('(b) Amplitude spectrum')\n",
      "xlabel('f')\n",
      "ylabel('V(f)')\n"
     ],
     "language": "python",
     "metadata": {},
     "outputs": [
      {
       "metadata": {},
       "output_type": "pyout",
       "prompt_number": 3,
       "text": [
        "<matplotlib.text.Text at 0x106665310>"
       ]
      },
      {
       "metadata": {},
       "output_type": "display_data",
       "png": "[encoded data removed]",
       "text": [
        "<matplotlib.figure.Figure at 0x106425750>"
       ]
      }
     ],
     "prompt_number": 3
    },
    {
     "cell_type": "heading",
     "level": 2,
     "metadata": {},
     "source": [
      "Example 3.3  Page No : 82"
     ]
    },
    {
     "cell_type": "code",
     "collapsed": false,
     "input": [
      "%matplotlib inline\n",
      "import math \n",
      "from numpy import array,log10\n",
      "\n",
      "A = 20.;    #Volts\n",
      "T = 1.*10**-3;    #second\n",
      "def Fourier_transform(f,T,A):\n",
      "    if f == 0 :\n",
      "        return A*T;\n",
      "    else:\n",
      "        return A*T*math.sin((math.pi*f*T))/(math.pi*f*T);\n",
      "        \n",
      "print 'a)Equation for fourier transform is  Vf) = %.2f * math.sin %.3f*pi*f)/%.3f*pi*f)'%(A*T,T,T);\n",
      "#Part b Calculation\n",
      "f = [0., 500., 1000, 1500];\n",
      "Vf = []\n",
      "for i in range(4):\n",
      "    Vf.append(Fourier_transform(f[i],T,A))\n",
      "\n",
      "#Part c calculation\n",
      "RdB = 20*log10(array(Vf)/.02)\n",
      "#Result Table\n",
      "print 'fHz     Vfin V     RdB'\n",
      "for i in range(4):\n",
      "    print '%5i   %f    %f '%(f[i],Vf[i],RdB[i])\n",
      "\n",
      "#All values are rounding off error\n"
     ],
     "language": "python",
     "metadata": {},
     "outputs": [
      {
       "output_type": "stream",
       "stream": "stdout",
       "text": [
        "a)Equation for fourier transform is  Vf) = 0.02 * math.sin 0.001*pi*f)/0.001*pi*f)\n",
        "fHz     Vfin V     RdB\n",
        "    0   0.020000    0.000000 \n",
        "  500   0.012732    -3.922398 \n",
        " 1000   0.000000    -328.182780 \n",
        " 1500   -0.004244    nan \n"
       ]
      }
     ],
     "prompt_number": 5
    },
    {
     "cell_type": "heading",
     "level": 2,
     "metadata": {},
     "source": [
      "Example 3.4  Page No : 85"
     ]
    },
    {
     "cell_type": "code",
     "collapsed": false,
     "input": [
      "%matplotlib inline\n",
      "import math \n",
      "from numpy import zeros,concatenate,array,arange,ones\n",
      "from matplotlib.pyplot import plot,suptitle,xlabel,ylabel,subplot\n",
      "\n",
      "#chapter 3\n",
      "#page no 85\n",
      "#example 3.4\n",
      "A = 20.;    #Volts\n",
      "T = 1.*10**-3;    #seconds\n",
      "f = arange(-3/T,3/T+1,1);    #in kHz\n",
      "Vf = []\n",
      "for i in range(len(f)):\n",
      "    if f[i] == 0:\n",
      "        Vf.append(A*T);\n",
      "    else:\n",
      "        Vf.append(A*T*math.sin(math.pi*f[i]*T)/(math.pi*f[i]*T));\n",
      "    \n",
      "plot(f,Vf)#,[5])\n",
      "suptitle('Amplitude Spectrum')\n",
      "xlabel('f,Hz')\n",
      "ylabel('V(f)');\n"
     ],
     "language": "python",
     "metadata": {},
     "outputs": [
      {
       "metadata": {},
       "output_type": "display_data",
       "png": "[encoded data removed]",
       "text": [
        "<matplotlib.figure.Figure at 0x10645b0d0>"
       ]
      }
     ],
     "prompt_number": 6
    },
    {
     "cell_type": "heading",
     "level": 2,
     "metadata": {},
     "source": [
      "Example 3.5  Page No : 86"
     ]
    },
    {
     "cell_type": "code",
     "collapsed": false,
     "input": [
      "%matplotlib inline\n",
      "from numpy import zeros,concatenate,array,arange,ones\n",
      "from matplotlib.pyplot import plot,suptitle,xlabel,ylabel,subplot\n",
      "import math \n",
      "\n",
      "A = 20.;    #Volts\n",
      "T = 5.*10**-3;    #period in seconds\n",
      "tau = 1.*10**-3;   #pulse width in second\n",
      "d = tau/T;        #duty cycle\n",
      "f1 = 1/T;        #Fundamental frequency in Hz\n",
      "\n",
      "#for plot\n",
      "n = arange(-14,15+1,1);    #in Hz\n",
      "Vf = zeros(len(n)*200)\n",
      "for i in range(len(n)):\n",
      "    if n[i] == 0:\n",
      "        Vf[i*200] = A*d;\n",
      "    else:\n",
      "       Vf[i*200] = A*d*math.sin(math.pi*d*n[i])/(math.pi*d*n[i]) \n",
      "\n",
      "    #to get the magnitudes of components\n",
      "    if Vf[i*200] < 0:\n",
      "        Vf[i*200] = -Vf[i*200]\n",
      "\n",
      "f = arange(-3000,3000,1)\n",
      "plot(f,Vf)#,[5],rect = [-3000,0,3000,5])\n",
      "suptitle('Amplitude Spectrum')\n",
      "xlabel('f,Hz')\n",
      "ylabel('Vn');\n",
      "\n"
     ],
     "language": "python",
     "metadata": {},
     "outputs": [
      {
       "metadata": {},
       "output_type": "display_data",
       "png": "[encoded data removed]",
       "text": [
        "<matplotlib.figure.Figure at 0x106379b90>"
       ]
      }
     ],
     "prompt_number": 7
    },
    {
     "cell_type": "heading",
     "level": 2,
     "metadata": {},
     "source": [
      "Example 3.6  Page No : 89"
     ]
    },
    {
     "cell_type": "code",
     "collapsed": false,
     "input": [
      "%matplotlib inline\n",
      "from numpy import zeros,concatenate,array,arange,ones\n",
      "from matplotlib.pyplot import plot,suptitle,xlabel,ylabel,subplot\n",
      "import math \n",
      "\n",
      "A = 1.    #arbitrary value provided\n",
      "Tau = 10.**-3    #in seconds\n",
      "fc = 30.*10**6;  #centre frequency in Hz\n",
      "#plot for amplitude spectum\n",
      "f = arange(-3/Tau,3/Tau+1);\n",
      "Vf = []\n",
      "for i in range(len(f)):\n",
      "    if f[i] == 0:\n",
      "        Vf.append(A*Tau);    #according to L'Hopitals rule math.sin(x)/x = 1 at lim x->0\n",
      "    else:\n",
      "        Vf.append(A*Tau*math.sin(math.pi*f[i]*Tau)/(math.pi*f[i]*Tau))\n",
      "        \n",
      "f = f+fc   #shifting\n",
      "f = f*10**-6   #MHz\n",
      "\n",
      "plot(f,Vf)#,[5])\n",
      "suptitle('Amplitude spectrum')\n",
      "xlabel('f,MHz')\n",
      "ylabel('Vrf(f)')\n",
      "\n"
     ],
     "language": "python",
     "metadata": {},
     "outputs": [
      {
       "metadata": {},
       "output_type": "pyout",
       "prompt_number": 8,
       "text": [
        "<matplotlib.text.Text at 0x106806510>"
       ]
      },
      {
       "metadata": {},
       "output_type": "display_data",
       "png": "[encoded data removed]",
       "text": [
        "<matplotlib.figure.Figure at 0x1067ecb90>"
       ]
      }
     ],
     "prompt_number": 8
    },
    {
     "cell_type": "heading",
     "level": 2,
     "metadata": {},
     "source": [
      "Example 3.7  Page No : 89"
     ]
    },
    {
     "cell_type": "code",
     "collapsed": false,
     "input": [
      "%matplotlib inline\n",
      "from numpy import zeros,concatenate,array,arange,ones\n",
      "from matplotlib.pyplot import plot,suptitle,xlabel,ylabel,subplot\n",
      "import math \n",
      "\n",
      "A = 1.;    #arbitrary vaule\n",
      "T = (1.+4)*10**-3;    #period in seconds\n",
      "tau = 1.*10**-3;   #pulse width in second\n",
      "fc = 30.*10**6;    #centre frequency in Hz\n",
      "d = tau/T;        #duty cycle\n",
      "f1 = 1/T;        #Fundamental frequency in Hz\n",
      "\n",
      "#for plot\n",
      "n = arange(-14,15+1);    #in Hz\n",
      "Vf = zeros(len(n)*200)\n",
      "for i in range(len(n)):\n",
      "    if n[i] == 0:\n",
      "        Vf[i*200] = A*d;\n",
      "    else:\n",
      "       Vf[i*200] = A*d*math.sin(math.pi*d*n[i])/(math.pi*d*n[i]) \n",
      "\n",
      "f = arange(-3000,3000)\n",
      "f = f+fc;    #Shifting by fc\n",
      "f = f*10**-6;   #in MHz\n",
      "\n",
      "plot(f,Vf)#,[5])\n",
      "suptitle('Amplitude Spectrum')\n",
      "xlabel('f,MHz')\n",
      "ylabel('Vn');\n",
      "\n"
     ],
     "language": "python",
     "metadata": {},
     "outputs": [
      {
       "metadata": {},
       "output_type": "display_data",
       "png": "[encoded data removed]",
       "text": [
        "<matplotlib.figure.Figure at 0x1067eb8d0>"
       ]
      }
     ],
     "prompt_number": 9
    },
    {
     "cell_type": "heading",
     "level": 2,
     "metadata": {},
     "source": [
      "Example 3.8  Page No : 90"
     ]
    },
    {
     "cell_type": "code",
     "collapsed": false,
     "input": [
      "\n",
      "# Calculations\n",
      "print 'a The RF burst frequency is 500 MHz';\n",
      "print ' b The pulse repetition rate is 1 MHz';\n",
      "f0 = 10.*10**6;    #Zero crosmath.sing frequency in Hz\n",
      "tau = 1./f0;     #in second\n",
      "\n",
      "# Results\n",
      "print ' c) The pulse width is %.1f micro second'%(tau*10**6);\n"
     ],
     "language": "python",
     "metadata": {},
     "outputs": [
      {
       "output_type": "stream",
       "stream": "stdout",
       "text": [
        "a The RF burst frequency is 500 MHz\n",
        " b The pulse repetition rate is 1 MHz\n",
        " c) The pulse width is 0.1 micro second\n"
       ]
      }
     ],
     "prompt_number": 10
    }
   ],
   "metadata": {}
  }
 ]
}