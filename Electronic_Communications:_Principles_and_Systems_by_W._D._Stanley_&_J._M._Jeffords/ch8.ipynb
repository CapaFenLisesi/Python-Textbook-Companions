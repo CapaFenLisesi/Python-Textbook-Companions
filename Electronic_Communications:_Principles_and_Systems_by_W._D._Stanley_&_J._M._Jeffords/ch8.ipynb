{
 "metadata": {
  "name": "",
  "signature": "sha256:e314839688b681d3e989757676d75c0f75a6ca864ec7dd979f2569d4ad5fbb03"
 },
 "nbformat": 3,
 "nbformat_minor": 0,
 "worksheets": [
  {
   "cells": [
    {
     "cell_type": "heading",
     "level": 1,
     "metadata": {},
     "source": [
      "Chapter 8 : Pulse modulation and Time division multiplexing"
     ]
    },
    {
     "cell_type": "heading",
     "level": 2,
     "metadata": {},
     "source": [
      "Example 8.1  Page No : 277"
     ]
    },
    {
     "cell_type": "code",
     "collapsed": false,
     "input": [
      "# Variables\n",
      "W = 5000.;    #Hz\n",
      "\n",
      "# Calculations and Results\n",
      "fs = 2*W;\n",
      "print 'a)  The minimum sampling rate is %i samples per second.'%(fs);\n",
      "T = 1/fs;    #second\n",
      "print ' b)  Maximum interval between samples is %f seconds'%(T);\n"
     ],
     "language": "python",
     "metadata": {},
     "outputs": [
      {
       "output_type": "stream",
       "stream": "stdout",
       "text": [
        "a)  The minimum sampling rate is 10000 samples per second.\n",
        " b)  Maximum interval between samples is 0.000100 seconds\n"
       ]
      }
     ],
     "prompt_number": 1
    },
    {
     "cell_type": "heading",
     "level": 2,
     "metadata": {},
     "source": [
      "Example 8.2  Page No : 277"
     ]
    },
    {
     "cell_type": "code",
     "collapsed": false,
     "input": [
      "\n",
      "# Variables\n",
      "W = 5000.;    #Hz\n",
      "\n",
      "# Calculations and Results\n",
      "fs = 1.25*2*W;\n",
      "print 'a)  The sampling rate is %i Hz.'%(fs);\n",
      "T = 1/fs;    #second\n",
      "print 'b)  Maximum interval between samples is %f seconds'%(T);\n"
     ],
     "language": "python",
     "metadata": {},
     "outputs": [
      {
       "output_type": "stream",
       "stream": "stdout",
       "text": [
        "a)  The sampling rate is 12500 Hz.\n",
        "b)  Maximum interval between samples is 0.000080 seconds\n"
       ]
      }
     ],
     "prompt_number": 2
    },
    {
     "cell_type": "heading",
     "level": 2,
     "metadata": {},
     "source": [
      "Example 8.3  Page No : 277"
     ]
    },
    {
     "cell_type": "code",
     "collapsed": false,
     "input": [
      "\n",
      "# Variables\n",
      "W = 5000.;    #Hz\n",
      "\n",
      "# Calculations\n",
      "fs = 1.25*2*W;\n",
      "tp = 30*60;   #seconds\n",
      "N = fs*tp;    #samples\n",
      "\n",
      "# Results\n",
      "print 'Total number of samples is %i '%(N);\n"
     ],
     "language": "python",
     "metadata": {},
     "outputs": [
      {
       "output_type": "stream",
       "stream": "stdout",
       "text": [
        "Total number of samples is 22500000 \n"
       ]
      }
     ],
     "prompt_number": 3
    },
    {
     "cell_type": "heading",
     "level": 2,
     "metadata": {},
     "source": [
      "Example 8.5  Page No : 281"
     ]
    },
    {
     "cell_type": "code",
     "collapsed": false,
     "input": [
      "\n",
      "# Variables\n",
      "#All frequencies in kHz\n",
      "f = 1.;\n",
      "T = 0.1;   #ms\n",
      "fs = 1/T;\n",
      "\n",
      "# Calculations and Results\n",
      "print 'The positive frequencies below 45 kHz are  %i '%(f);\n",
      "for i in range(1,101):\n",
      "    x = fs*i;   #x is a variable\n",
      "    if((x+f) < 45):\n",
      "        print '%i , %i'%(x-f,x+f);\n",
      "    else:\n",
      "        break;\n"
     ],
     "language": "python",
     "metadata": {},
     "outputs": [
      {
       "output_type": "stream",
       "stream": "stdout",
       "text": [
        "The positive frequencies below 45 kHz are  1 \n",
        "9 , 11\n",
        "19 , 21\n",
        "29 , 31\n",
        "39 , 41\n"
       ]
      }
     ],
     "prompt_number": 4
    },
    {
     "cell_type": "heading",
     "level": 2,
     "metadata": {},
     "source": [
      "Example 8.6  Page No : 284"
     ]
    },
    {
     "cell_type": "code",
     "collapsed": false,
     "input": [
      "%matplotlib inline\n",
      "from numpy import zeros,concatenate,array,arange,ones,linspace\n",
      "from matplotlib.pyplot import plot,suptitle,xlabel,ylabel,subplot\n",
      "import math \n",
      "\n",
      "#All time in milli second\n",
      "#All frequencies in kHz\n",
      "fs = 5.;\n",
      "tau = 0.04;   #ms\n",
      "T = 1./fs;      #ms\n",
      "d = tau/T;\n",
      "# for plot\n",
      "f = arange(-2,28,.1);\n",
      "Pn1 = ones(50);\n",
      "Pn = ones(50)\n",
      "for i in range(1,6):\n",
      "    Pn = concatenate((Pn, Pn1*(1-d*i)));\n",
      "\n",
      "ps1 = ones(20);\n",
      "for i in range(1,11):\n",
      "    ps1 = concatenate(([1-i*0.1], ps1, [1-i*0.1]));\n",
      "\n",
      "ps1 = concatenate((ps1, zeros(10)));\n",
      "ps = ps1\n",
      "for i in range(5):\n",
      "    ps = concatenate((ps, ps1));\n",
      "\n",
      "Vs = ps*Pn;\n",
      "plot(f,Vs)#,[5]);\n",
      "suptitle('(a) Spectrum of signal after sampling')\n",
      "xlabel('$f,kHz$')\n",
      "ylabel('$Vs(f)$');\n",
      "K1 = 0.5;\n",
      "Bt = K1/tau;\n",
      "print 'b) Bandwidth required for K1 = %i is %0.1f kHz'%(K1,Bt);\n",
      "K1 = 1.;\n",
      "Bt = K1/tau;\n",
      "print 'Bandwidth required for K1 = %i is %i kHz'%(K1,Bt);\n"
     ],
     "language": "python",
     "metadata": {},
     "outputs": [
      {
       "output_type": "stream",
       "stream": "stdout",
       "text": [
        "b) Bandwidth required for K1 = 0 is 12.5 kHz\n",
        "Bandwidth required for K1 = 1 is 25 kHz\n"
       ]
      },
      {
       "metadata": {},
       "output_type": "display_data",
       "png": "[encoded data removed]",
       "text": [
        "<matplotlib.figure.Figure at 0x1023b00d0>"
       ]
      }
     ],
     "prompt_number": 5
    },
    {
     "cell_type": "heading",
     "level": 2,
     "metadata": {},
     "source": [
      "Example 8.7  Page No : 288"
     ]
    },
    {
     "cell_type": "code",
     "collapsed": false,
     "input": [
      "# Variables\n",
      "#All frequencies in kHz\n",
      "k = 7;\n",
      "W = 1;\n",
      "\n",
      "# Calculations\n",
      "Bt = k*W;\n",
      "\n",
      "# Results\n",
      "print 'Minimum Bandwidth is %i kHz'%(Bt);\n"
     ],
     "language": "python",
     "metadata": {},
     "outputs": [
      {
       "output_type": "stream",
       "stream": "stdout",
       "text": [
        "Minimum Bandwidth is 7 kHz\n"
       ]
      }
     ],
     "prompt_number": 6
    },
    {
     "cell_type": "heading",
     "level": 2,
     "metadata": {},
     "source": [
      "Example 8.8  Page No : 288"
     ]
    },
    {
     "cell_type": "code",
     "collapsed": false,
     "input": [
      "# Variables\n",
      "#All frequencies in kHz\n",
      "W = 1.;\n",
      "fs = 1.25*2*W;\n",
      "\n",
      "# Calculations and Results\n",
      "Tf = 1./fs;\n",
      "print 'a) The sampling rate is %.1f kHz'%(fs);\n",
      "print 'The frame time is %.1f ms'%(Tf);\n",
      "tau = Tf/16;  #ms\n",
      "Bt = 0.5/tau;\n",
      "print 'The pulse width is %i micro second'%(tau*10**3);\n",
      "print 'The composite baseband bandwidth is %i kHz'%(Bt);\n",
      "Bt = 2*Bt;\n",
      "print 'b) The RF bandwidth is %i kHz'%(Bt);\n"
     ],
     "language": "python",
     "metadata": {},
     "outputs": [
      {
       "output_type": "stream",
       "stream": "stdout",
       "text": [
        "a) The sampling rate is 2.5 kHz\n",
        "The frame time is 0.4 ms\n",
        "The pulse width is 25 micro second\n",
        "The composite baseband bandwidth is 20 kHz\n",
        "b) The RF bandwidth is 40 kHz\n"
       ]
      }
     ],
     "prompt_number": 7
    },
    {
     "cell_type": "heading",
     "level": 2,
     "metadata": {},
     "source": [
      "Example 8.9  Page No : 290"
     ]
    },
    {
     "cell_type": "code",
     "collapsed": false,
     "input": [
      "# Variables\n",
      "#All frequencies in kHz\n",
      "W = 10.;\n",
      "fs = 2*W;\n",
      "\n",
      "# Calculations and Results\n",
      "Tf = 1/fs;\n",
      "print 'a) The minimum sampling rate is %i kHz'%(fs);\n",
      "print 'The frame time is %i micro second'%(Tf*10**3);\n",
      "tr = 0.01*Tf  #ms\n",
      "Bt = 0.5/tr;\n",
      "print 'The maximum rise time is %.1f micro second'%(tr*10**3);\n",
      "print 'The approximate transmission bandwidth is %i kHz'%(Bt);\n"
     ],
     "language": "python",
     "metadata": {},
     "outputs": [
      {
       "output_type": "stream",
       "stream": "stdout",
       "text": [
        "a) The minimum sampling rate is 20 kHz\n",
        "The frame time is 50 micro second\n",
        "The maximum rise time is 0.5 micro second\n",
        "The approximate transmission bandwidth is 1000 kHz\n"
       ]
      }
     ],
     "prompt_number": 8
    }
   ],
   "metadata": {}
  }
 ]
}