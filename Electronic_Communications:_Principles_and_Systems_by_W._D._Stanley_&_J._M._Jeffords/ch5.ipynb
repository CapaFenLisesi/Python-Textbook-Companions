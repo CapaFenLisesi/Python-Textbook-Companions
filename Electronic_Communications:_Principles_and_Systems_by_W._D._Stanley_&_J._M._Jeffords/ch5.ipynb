{
 "metadata": {
  "name": "",
  "signature": "sha256:a0e7c910eb2fada4813b83a9fc75a31d8e06e9d9386b596b5aee4ea6b4ef9d4d"
 },
 "nbformat": 3,
 "nbformat_minor": 0,
 "worksheets": [
  {
   "cells": [
    {
     "cell_type": "heading",
     "level": 1,
     "metadata": {},
     "source": [
      "Chapter 5 : Frequency Generation and Translation"
     ]
    },
    {
     "cell_type": "heading",
     "level": 2,
     "metadata": {},
     "source": [
      "Example 5.1  Page No : 147"
     ]
    },
    {
     "cell_type": "code",
     "collapsed": false,
     "input": [
      "import math \n",
      "\n",
      "# Variables\n",
      "#The capacimath.tance in pF\n",
      "C1 = 200.;\n",
      "C2 = 2400.;\n",
      "C3 = 8.;\n",
      "\n",
      "# Calculations and Results\n",
      "t = 1/C1+1/C2+1/C3; #temperary variable\n",
      "Ceq = 1/t;#pF\n",
      "Ceq = Ceq*10**-12;#In Farad\n",
      "L = 2*10**-6;#In H\n",
      "f0 = 1./(2*math.pi*math.sqrt(L*Ceq))*10**-6; # IN MHz\n",
      "print '(a)  The oscillation frequency is',f0,'MHz'\n",
      "\n",
      "f0 = 1./(2*math.pi*math.sqrt(L*C3*10**-12))*10**-6; # IN MHz\n",
      "print '(b)  Assuming Ceq~C3 , the oscillation frequency is',f0,'MHz'\n",
      "\n",
      "B = -C1/C2;  #based on eq 5.3\n",
      "print '(c) The feedback fraction is ',B\n",
      "\n",
      "A = 1./B;\n",
      "print 'The gain is',A\n"
     ],
     "language": "python",
     "metadata": {},
     "outputs": [
      {
       "output_type": "stream",
       "stream": "stdout",
       "text": [
        "(a)  The oscillation frequency is 40.6416827797 MHz\n",
        "(b)  Assuming Ceq~C3 , the oscillation frequency is 39.788735773 MHz\n",
        "(c) The feedback fraction is  -0.0833333333333\n",
        "The gain is -12.0\n"
       ]
      }
     ],
     "prompt_number": 1
    },
    {
     "cell_type": "heading",
     "level": 2,
     "metadata": {},
     "source": [
      "Example 5.2  Page No : 148"
     ]
    },
    {
     "cell_type": "code",
     "collapsed": false,
     "input": [
      "def frequency(f0,k,T,T0):\n",
      "    return f0+k*f0*(T-T0);\n",
      "\n",
      "# Variables\n",
      "k = 40*10**-6;\n",
      "f = 148;\n",
      "\n",
      "# Calculations\n",
      "fmax = frequency(f,k,32,20);\n",
      "fmin = frequency(f,k,-8,20);\n",
      "\n",
      "# Results\n",
      "print 'The maximum possible frequency , fmax =  ',fmax,'MHZ'\n",
      "print 'The maximum possible frequency , fmin =  ',fmin,'MHz'\n"
     ],
     "language": "python",
     "metadata": {},
     "outputs": [
      {
       "output_type": "stream",
       "stream": "stdout",
       "text": [
        "The maximum possible frequency , fmax =   148.07104 MHZ\n",
        "The maximum possible frequency , fmin =   147.83424 MHz\n"
       ]
      }
     ],
     "prompt_number": 2
    },
    {
     "cell_type": "heading",
     "level": 2,
     "metadata": {},
     "source": [
      "Example 5.3  Page No : 150"
     ]
    },
    {
     "cell_type": "code",
     "collapsed": false,
     "input": [
      "# Variables\n",
      "N = 5.;\n",
      "M = 8.;\n",
      "fi = 4.;   # in MHz\n",
      "\n",
      "# Calculations and Results\n",
      "f0 = M/N*fi;\n",
      "print '(a)  The output frequency is f0 = ',f0,'MHz'\n",
      "\n",
      "f1 = fi/N;\n",
      "print '(b)  The frequency f1 is',f1,'MHz'\n",
      "\n",
      "f2 = f0/M;\n",
      "print ' The frequency f2 is ',f2,'MHz'\n",
      "\n",
      "#The two frequencies are same as required\n"
     ],
     "language": "python",
     "metadata": {},
     "outputs": [
      {
       "output_type": "stream",
       "stream": "stdout",
       "text": [
        "(a)  The output frequency is f0 =  6.4 MHz\n",
        "(b)  The frequency f1 is 0.8 MHz\n",
        " The frequency f2 is  0.8 MHz\n"
       ]
      }
     ],
     "prompt_number": 3
    },
    {
     "cell_type": "heading",
     "level": 2,
     "metadata": {},
     "source": [
      "Example 5.5  Page No : 152"
     ]
    },
    {
     "cell_type": "code",
     "collapsed": false,
     "input": [
      "%matplotlib inline\n",
      "from numpy import zeros,concatenate,array,arange,ones\n",
      "from matplotlib.pyplot import plot,suptitle,xlabel,ylabel,subplot\n",
      "import math \n",
      "\n",
      "#for input spectrum\n",
      "f = arange(-20,20.001,0.001);   #x axis\n",
      "V = concatenate(([1], zeros(len(arange(-20+.001,20.001,.001))) ,[1]));      #y axis\n",
      "subplot(211);\n",
      "plot(f,V)\n",
      "suptitle('Input Spectrum')\n",
      "xlabel('f,kHz')\n",
      "\n",
      "#for output spectrum\n",
      "f = arange(-120,120.01,.01)      #x axis\n",
      "V = concatenate(([1], zeros(len(arange(-120+.01,-80,.01))), [1], zeros(len(arange(-80+.01,80,0.01))) ,[1],\\\n",
      "                 zeros(len(arange(80+.01,120,.01))), [1]))\n",
      "subplot(212);\n",
      "plot(f,V)#,[5],rect = [-130,0,130,2])\n",
      "suptitle('Output Spectrum')\n",
      "xlabel('f,kHz')\n"
     ],
     "language": "python",
     "metadata": {},
     "outputs": [
      {
       "metadata": {},
       "output_type": "pyout",
       "prompt_number": 4,
       "text": [
        "<matplotlib.text.Text at 0x10bc6bc10>"
       ]
      },
      {
       "metadata": {},
       "output_type": "display_data",
       "png": "[encoded data removed]",
       "text": [
        "<matplotlib.figure.Figure at 0x10bbec990>"
       ]
      }
     ],
     "prompt_number": 4
    },
    {
     "cell_type": "heading",
     "level": 2,
     "metadata": {},
     "source": [
      "Example 5.6  Page No : 157"
     ]
    },
    {
     "cell_type": "code",
     "collapsed": false,
     "input": [
      "%matplotlib inline\n",
      "from numpy import zeros,concatenate,array,arange,ones\n",
      "from matplotlib.pyplot import plot,suptitle,xlabel,ylabel,subplot\n",
      "import math \n",
      "\n",
      "fLO = 110;    #MHz\n",
      "#for V2(f)\n",
      "f = arange(0,231+0.02,.01)   #x axis\n",
      "def pulse():\n",
      "    return arange(1,1.5+.005,0.005)\n",
      "\n",
      "V2 = concatenate((zeros(len(arange(0,120-fLO,.01))), pulse(), zeros(len(arange(121-fLO+.01,120+fLO,.01))), pulse(), [0]));      #y axis\n",
      "subplot(211);\n",
      "plot(f,V2)#,[5],rect = [0,0,240,2])\n",
      "suptitle('Spectral diagram')\n",
      "xlabel('f,MHz')\n",
      "ylabel('V2(f)');\n",
      "\n",
      "#for V3(f)\n",
      "f = arange(0,11+.02,0.01);   #x axis\n",
      "V3 = concatenate((zeros(len(arange(0,120-fLO,.01))), pulse(), [0]));      #y axis\n",
      "subplot(212);\n",
      "plot(f,V3)#,[5],rect = [0,0,20,2])\n",
      "suptitle('Spectral Diagram')\n",
      "xlabel('f,MHz')\n",
      "ylabel('V3(f)');\n"
     ],
     "language": "python",
     "metadata": {},
     "outputs": [
      {
       "metadata": {},
       "output_type": "display_data",
       "png": "[encoded data removed]",
       "text": [
        "<matplotlib.figure.Figure at 0x10bc7b1d0>"
       ]
      }
     ],
     "prompt_number": 5
    },
    {
     "cell_type": "heading",
     "level": 2,
     "metadata": {},
     "source": [
      "Example 5.7  Page No : 158"
     ]
    },
    {
     "cell_type": "code",
     "collapsed": false,
     "input": [
      "%matplotlib inline\n",
      "from numpy import zeros,concatenate,array,arange,ones\n",
      "from matplotlib.pyplot import plot,suptitle,xlabel,ylabel,subplot\n",
      "import math \n",
      "\n",
      "fLO = 40;    #MHz\n",
      "#function for ascending pulse\n",
      "def pulse_a():\n",
      "    return arange(1,2.005,0.005)\n",
      "\n",
      "#function for descending pulse\n",
      "def pulse_d():\n",
      "    return arange(2,1-.005,-0.005)\n",
      "\n",
      "#for V2(f)\n",
      "f = arange(0,48+.03,0.01);   #x axis\n",
      "\n",
      "V2 = concatenate((zeros(len(arange(0,-8+fLO,.01))), pulse_d(), zeros(len(arange(-6+fLO+.01,6+fLO,.01))), pulse_a(), [0]));      #y axis\n",
      "subplot(211);\n",
      "plot(f,V2)#,[5],rect = [0,0,50,2])\n",
      "suptitle('Spectral diagram')\n",
      "xlabel('f,MHz')\n",
      "ylabel('V2(f)');\n",
      "\n",
      "#for V3(f)\n",
      "f = arange(0,48+.02,0.01);   #x axis\n",
      "V3 = concatenate((zeros(len(arange(0,6+fLO,.01))), pulse_a() ,[0]));      #y axis\n",
      "subplot(212);\n",
      "plot(f,V3)\n",
      "suptitle('Spectral Diagram')\n",
      "xlabel('f,MHz')\n",
      "ylabel('V3(f)');\n"
     ],
     "language": "python",
     "metadata": {},
     "outputs": [
      {
       "metadata": {},
       "output_type": "display_data",
       "png": "[encoded data removed]",
       "text": [
        "<matplotlib.figure.Figure at 0x10bd2d7d0>"
       ]
      }
     ],
     "prompt_number": 6
    },
    {
     "cell_type": "heading",
     "level": 2,
     "metadata": {},
     "source": [
      "Example 5.8  Page No : 159"
     ]
    },
    {
     "cell_type": "code",
     "collapsed": false,
     "input": [
      "%matplotlib inline\n",
      "from numpy import zeros,concatenate,array,arange,ones\n",
      "from matplotlib.pyplot import plot,suptitle,xlabel,ylabel,subplot\n",
      "import math \n",
      "#page no 159\n",
      "#prob no. 5.8\n",
      "\n",
      "#function for ascending pulse\n",
      "def pulse_a():\n",
      "    return arange(1,1.505,0.005)\n",
      "\n",
      "#function for descending pulse\n",
      "def pulse_d():\n",
      "    return arange(1.5,1-.005,-0.005)\n",
      "\n",
      "fLO = 200.-10;\n",
      "\n",
      "#for fLO = 190 MHz\n",
      "f = arange(0,10.5+.02,.01)   #x axis\n",
      "\n",
      "V = concatenate((zeros(len(arange(0,199.5-fLO,.01))), pulse_a(), [0]));      #y axis\n",
      "subplot(211);\n",
      "plot(f,V)#,[5],rect = [0,0,12,2])\n",
      "suptitle('Spectral diagram:for fLO = 190')\n",
      "xlabel('f,MHz')\n",
      "ylabel('V(f)');\n",
      "\n",
      "#for fLO = 210\n",
      "fLO = 200.+10;    #MHz\n",
      "f = arange(0,10.5+.02,.01);   #x axis\n",
      "\n",
      "V = concatenate((zeros(len(arange(0,-200.5+fLO,.01))), pulse_d(), [0]));      #y axis\n",
      "subplot(212);\n",
      "plot(f,V)#,[5],rect = [0,0,12,2])\n",
      "suptitle('Spectral Diagram:for fLO = 210')\n",
      "xlabel('f,MHz')\n",
      "ylabel('V(f)');\n"
     ],
     "language": "python",
     "metadata": {},
     "outputs": [
      {
       "metadata": {},
       "output_type": "display_data",
       "png": "[encoded data removed]",
       "text": [
        "<matplotlib.figure.Figure at 0x10bd21fd0>"
       ]
      }
     ],
     "prompt_number": 7
    },
    {
     "cell_type": "heading",
     "level": 2,
     "metadata": {},
     "source": [
      "Example 5.9  Page No : 160"
     ]
    },
    {
     "cell_type": "code",
     "collapsed": false,
     "input": [
      "%matplotlib inline\n",
      "from numpy import zeros,concatenate,array,arange,ones\n",
      "from matplotlib.pyplot import plot,suptitle,xlabel,ylabel,subplot\n",
      "import math \n",
      "#page no 160\n",
      "#prob no. 5.9\n",
      "\n",
      "#function for ascending pulse \n",
      "def pulse_a():\n",
      "    return arange(1,1.5+.005,0.005)\n",
      "\n",
      "#function for descending pulse\n",
      "def pulse_d():\n",
      "    return arange(1.5,1-.005,-.005)\n",
      "\n",
      "#plots of page 161\n",
      "#spectrum at point 1\n",
      "f1 = arange(17.5-.01,20.5+.01,0.01);   #x axis\n",
      "\n",
      "V1 = concatenate(([0], pulse_d(), zeros(len(arange(18.5+.01,19.5,.01))), pulse_a(), [0]));      #y axis\n",
      "subplot(221);\n",
      "plot(f1,V1)#[5],rect = [17,0,21,2])\n",
      "suptitle('Spectrum at Point 1')\n",
      "xlabel('f,MHz')\n",
      "\n",
      "#spectrum at point 2\n",
      "f2 = arange(17.5-.01,20.5+.01,0.01);   #x axis\n",
      "\n",
      "V2 = concatenate(([0], zeros(len(arange(17.5,19.5,.01))), pulse_a(), [0]));      #y axis\n",
      "subplot(222);\n",
      "plot(f2,V2)#,[5],rect = [17,0,21,2])\n",
      "suptitle('Spectrum at Point 2')\n",
      "xlabel('f,MHz')\n",
      "\n",
      "#spectrum at point 3\n",
      "f3 = arange(359.5-.01,400.5+.03,0.01);   #x axis\n",
      "\n",
      "V3 = concatenate(([0], pulse_d(), zeros(len(arange(360.5+.01,399.5,.01))), pulse_a(), [0]));      #y axis\n",
      "subplot(223);\n",
      "plot(f3,V3)#,[5],rect = [359,0,401,2])\n",
      "suptitle('Spectrum at Point 3')\n",
      "xlabel('f,MHz')\n",
      "\n",
      "#spectrum at point 4\n",
      "f4 = arange(359.5-.01,400.5+.02,0.01);   #x axis\n",
      "V4 = concatenate(([0], zeros(len(arange(359.5,399.5,.01))), pulse_a(), [0]));      #y axis\n",
      "subplot(224);\n",
      "plot(f4,V4)#,[5],rect = [359,0,401,2])\n",
      "suptitle('Spectrum at Point 4')\n",
      "xlabel('f,MHz')\n"
     ],
     "language": "python",
     "metadata": {},
     "outputs": [
      {
       "metadata": {},
       "output_type": "pyout",
       "prompt_number": 9,
       "text": [
        "<matplotlib.text.Text at 0x10c106fd0>"
       ]
      },
      {
       "metadata": {},
       "output_type": "display_data",
       "png": "[encoded data removed]",
       "text": [
        "<matplotlib.figure.Figure at 0x10be4a910>"
       ]
      }
     ],
     "prompt_number": 9
    },
    {
     "cell_type": "heading",
     "level": 2,
     "metadata": {},
     "source": [
      "Example 5.10  Page No : 167"
     ]
    },
    {
     "cell_type": "code",
     "collapsed": false,
     "input": [
      "# Variables\n",
      "#All frequencies in MHz\n",
      "fc = 40.;\n",
      "fIF = 5.\n",
      "\n",
      "# Calculations and Results\n",
      "fLO = fc+fIF;\n",
      "print '(a)  The LO frequency is ',fLO\n",
      "fImage = fLO+fIF;\n",
      "print '(b)  The image frequency is ',fImage\n"
     ],
     "language": "python",
     "metadata": {},
     "outputs": [
      {
       "output_type": "stream",
       "stream": "stdout",
       "text": [
        "(a)  The LO frequency is  45.0\n",
        "(b)  The image frequency is  50.0\n"
       ]
      }
     ],
     "prompt_number": 10
    },
    {
     "cell_type": "heading",
     "level": 2,
     "metadata": {},
     "source": [
      "Example 5.11  Page No : 167"
     ]
    },
    {
     "cell_type": "code",
     "collapsed": false,
     "input": [
      "# Variables\n",
      "#All frequencies in MHz\n",
      "fc = 40;\n",
      "fIF = 5\n",
      "\n",
      "# Calculations and Results\n",
      "fLO = fc-fIF;\n",
      "print '(a)  The LO frequency is ',fLO\n",
      "\n",
      "fImage = fLO-fIF;\n",
      "print '(b)  The image frequency is ',fImage\n"
     ],
     "language": "python",
     "metadata": {},
     "outputs": [
      {
       "output_type": "stream",
       "stream": "stdout",
       "text": [
        "(a)  The LO frequency is  35\n",
        "(b)  The image frequency is  30\n"
       ]
      }
     ],
     "prompt_number": 11
    },
    {
     "cell_type": "heading",
     "level": 2,
     "metadata": {},
     "source": [
      "Example 5.12  Page No : 167"
     ]
    },
    {
     "cell_type": "code",
     "collapsed": false,
     "input": [
      "# Variables\n",
      "#All frequencies in Hz\n",
      "B = 200.*10**3; #The bandwidth allocated by FCC (in Hz)\n",
      "fl = 88.*10**6;\n",
      "fh = 108.*10**6;  #FM broadcast band low and high end freq\n",
      "\n",
      "# Calculations and Results\n",
      "Q = fl/B;\n",
      "print '(a)  At the low end of FM band ,Q required is',Q\n",
      "\n",
      "Q = fh/B;\n",
      "print '    At the high end of FM band ,Q required is',Q\n",
      "\n",
      "fIF = 10.7*10**6;# IF frequwncy (in Hz)\n",
      "Q = fIF/B;\n",
      "print '(b)  At the IF frequency ,Q required is ',Q\n",
      "print ('(c)   Signal freq  =  88 to 108 MHz')\n",
      "print ('     LO freq  =  98.7 to 118.7 MHz')\n",
      "print ('     Image freq  =  109.4 to 129.4MHz')\n",
      "print ('(d)   Signal freq  =  88 to 108 MHz')\n",
      "print ('     LO freq  =  77.3 to 97.3 MHz')\n",
      "print ('     Image freq  =  66.6 to 86.6MHz')\n"
     ],
     "language": "python",
     "metadata": {},
     "outputs": [
      {
       "output_type": "stream",
       "stream": "stdout",
       "text": [
        "(a)  At the low end of FM band ,Q required is 440.0\n",
        "    At the high end of FM band ,Q required is 540.0\n",
        "(b)  At the IF frequency ,Q required is  53.5\n",
        "(c)   Signal freq  =  88 to 108 MHz\n",
        "     LO freq  =  98.7 to 118.7 MHz\n",
        "     Image freq  =  109.4 to 129.4MHz\n",
        "(d)   Signal freq  =  88 to 108 MHz\n",
        "     LO freq  =  77.3 to 97.3 MHz\n",
        "     Image freq  =  66.6 to 86.6MHz\n"
       ]
      }
     ],
     "prompt_number": 12
    }
   ],
   "metadata": {}
  }
 ]
}