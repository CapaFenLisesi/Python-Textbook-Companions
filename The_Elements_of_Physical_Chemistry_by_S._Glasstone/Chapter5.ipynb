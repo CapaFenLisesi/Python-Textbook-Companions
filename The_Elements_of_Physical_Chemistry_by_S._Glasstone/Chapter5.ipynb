{
 "metadata": {
  "name": "",
  "signature": "sha256:1ec70a662dc9f6a30bf898e99451493ae9f0b58f74f820319f0e29c5d9fe95f2"
 },
 "nbformat": 3,
 "nbformat_minor": 0,
 "worksheets": [
  {
   "cells": [
    {
     "cell_type": "heading",
     "level": 1,
     "metadata": {},
     "source": [
      "Chapter5-Liquefication and the properties of liquids\n"
     ]
    },
    {
     "cell_type": "heading",
     "level": 2,
     "metadata": {},
     "source": [
      "Ex1-pg138"
     ]
    },
    {
     "cell_type": "code",
     "collapsed": false,
     "input": [
      "import math\n",
      "##Intitalisation of variables\n",
      "\n",
      "m1= 1.947 ##gms\n",
      "V= 10. ##lit\n",
      "T= 22. ##C\n",
      "p= 752. ##mm of Hg\n",
      "T1= 28. ##C\n",
      "W= 46. ##gms\n",
      "R= 0.082 ##lit-atm mole^-1 K^-1\n",
      "##CALCULATIONS\n",
      "P= (m1*p/W)/((m1/W)+((p/760.)*V/(R*(273.+T))))\n",
      "P1= (m1*p/W)/(((p/760.)*V/(R*(273.+T))))\n",
      "P2= (m1/W)*R*(273.+T)*760./V\n",
      "##RESULTS\n",
      "print'%s %.2f %s'% ('Vapour pressure of ethanol = ',P,' mm')\n",
      "print'%s %.2f %s'% ('\\n Vapour pressure of ethanol = ',P1,' mm')\n",
      "print'%s %.2f %s'% ('\\n Vapour pressure of ethanol = ',P2,' mm')\n"
     ],
     "language": "python",
     "metadata": {},
     "outputs": [
      {
       "output_type": "stream",
       "stream": "stdout",
       "text": [
        "Vapour pressure of ethanol =  70.52  mm\n",
        "\n",
        " Vapour pressure of ethanol =  77.81  mm\n",
        "\n",
        " Vapour pressure of ethanol =  77.81  mm\n"
       ]
      }
     ],
     "prompt_number": 1
    },
    {
     "cell_type": "heading",
     "level": 2,
     "metadata": {},
     "source": [
      "Ex2-pg140"
     ]
    },
    {
     "cell_type": "code",
     "collapsed": false,
     "input": [
      "import math\n",
      "##Intitalisation of variables\n",
      "\n",
      "p= 27.17 ##mm\n",
      "T= 99.5 ##C\n",
      "T1= 100.5 ##C\n",
      "T2= 100. ##C\n",
      "sv1= 1674. ##cc per gram\n",
      "sv2= 1.04 ##cc per gram\n",
      "g= 980.7 ##cm/sec^2\n",
      "d= 13.595 ##kg/m^3\n",
      "##CALCULATIONS\n",
      "r= (p/10.)*d*g\n",
      "lv= (273.2+T2)*(sv1-sv2)*(p/10.)*d*g/(4.184*10**7)\n",
      "##RESULTS\n",
      "print'%s %.2f %s'% ('Heat of vapourisation of water = ',lv,' cal g^-1')\n"
     ],
     "language": "python",
     "metadata": {},
     "outputs": [
      {
       "output_type": "stream",
       "stream": "stdout",
       "text": [
        "Heat of vapourisation of water =  540.56  cal g^-1\n"
       ]
      }
     ],
     "prompt_number": 3
    },
    {
     "cell_type": "heading",
     "level": 2,
     "metadata": {},
     "source": [
      "Ex3-pg141"
     ]
    },
    {
     "cell_type": "code",
     "collapsed": false,
     "input": [
      "import math\n",
      "##Intitalisation of variables\n",
      "\n",
      "T= 100. ##C\n",
      "v1= 1674. ##cc\n",
      "v2= 1. ##cc\n",
      "lv= 539.9 ##cal g^-1\n",
      "sp= 13.595 ##kg/m63\n",
      "g= 980. ##cm/sec^2\n",
      "##CALCULATIONS\n",
      "r= (273.2+T)*(v1-v2)*sp*g/(lv*4.187*10**7)\n",
      "Tf= T+r\n",
      "##RESULTS\n",
      "print'%s %.2f %s'% ('Final temperature = ',Tf,' C')\n"
     ],
     "language": "python",
     "metadata": {},
     "outputs": [
      {
       "output_type": "stream",
       "stream": "stdout",
       "text": [
        "Final temperature =  100.37  C\n"
       ]
      }
     ],
     "prompt_number": 4
    },
    {
     "cell_type": "heading",
     "level": 2,
     "metadata": {},
     "source": [
      "Ex4-pg142"
     ]
    },
    {
     "cell_type": "code",
     "collapsed": false,
     "input": [
      "import math\n",
      "##Intitalisation of variables\n",
      "\n",
      "R= 2. ##cal mole^-1 K^-1 \n",
      "r= 2.72 ##cm of mercury per degree\n",
      "p= 76. ##cm of mercury\n",
      "T= 100. ##C\n",
      "m= 18. ##gms\n",
      "##CALCULATIONS\n",
      "Lv= R*(273.+T)**2*r/(m*p)\n",
      "##RESULTS\n",
      "print'%s %.2f %s'% ('heat of vapourisation = ',Lv,' cal g^-1')\n"
     ],
     "language": "python",
     "metadata": {},
     "outputs": [
      {
       "output_type": "stream",
       "stream": "stdout",
       "text": [
        "heat of vapourisation =  553.26  cal g^-1\n"
       ]
      }
     ],
     "prompt_number": 5
    },
    {
     "cell_type": "heading",
     "level": 2,
     "metadata": {},
     "source": [
      "Ex5-pg144"
     ]
    },
    {
     "cell_type": "code",
     "collapsed": false,
     "input": [
      "import math\n",
      "##Intitalisation of variables\n",
      "\n",
      "vp= 526. ##mm\n",
      "T= 90. ##C\n",
      "T1= 100. ##C\n",
      "hv= 542. ##cal/gm\n",
      "m= 18. ##gm\n",
      "##CALCULATIONS\n",
      "p2= vp*10**(hv*m*(T1-T)/((273.+T)*4.576*(273.+T1)))\n",
      "##RESULTS\n",
      "print'%s %.2f %s'% ('Vapour pressure of water at 100 C = ',p2,' mm')\n"
     ],
     "language": "python",
     "metadata": {},
     "outputs": [
      {
       "output_type": "stream",
       "stream": "stdout",
       "text": [
        "Vapour pressure of water at 100 C =  755.87  mm\n"
       ]
      }
     ],
     "prompt_number": 6
    },
    {
     "cell_type": "heading",
     "level": 2,
     "metadata": {},
     "source": [
      "Ex6-pg146"
     ]
    },
    {
     "cell_type": "code",
     "collapsed": false,
     "input": [
      "import math\n",
      "##Intitalisation of variables\n",
      "\n",
      "p= 770. ##mm\n",
      "T= 100.37 ##C\n",
      "p1= 1 ##atm\n",
      "c= 0.0001\n",
      "T1= 100. ##C\n",
      "##CALCULATIONS\n",
      "dt= c*(273.+T1)*(760.-p)\n",
      "cbp= T+dt\n",
      "##RESULTS\n",
      "print'%s %.2f %s'% ('Change boiling point = ',dt,' C')\n",
      "print'%s %.2f %s'% ('\\n Corrected boiling point = ',cbp,' C')\n"
     ],
     "language": "python",
     "metadata": {},
     "outputs": [
      {
       "output_type": "stream",
       "stream": "stdout",
       "text": [
        "Change boiling point =  -0.37  C\n",
        "\n",
        " Corrected boiling point =  100.00  C\n"
       ]
      }
     ],
     "prompt_number": 7
    },
    {
     "cell_type": "heading",
     "level": 2,
     "metadata": {},
     "source": [
      "Ex7-pg154"
     ]
    },
    {
     "cell_type": "code",
     "collapsed": false,
     "input": [
      "import math\n",
      "##Intitalisation of variables\n",
      "\n",
      "d= 0.7910 ##kg/cm^3\n",
      "T= 20. ##C\n",
      "mw= 58.08 ##gm\n",
      "x1= 7.2 ##gm\n",
      "x2= 16.2 ##gm\n",
      "x3= 20. ##gm\n",
      "x4= 23.2 ##gm\n",
      "n1= 3. ##atoms\n",
      "n2= 6. ##atoms\n",
      "##CALCULATIONS\n",
      "r= ((n1*x1+n2*x2+x3+x4)*d/mw)**4\n",
      "##RESULTS\n",
      "print'%s %.2f %s'% ('Surface tension of acetone = ',r,'dynes cm^-1')\n"
     ],
     "language": "python",
     "metadata": {},
     "outputs": [
      {
       "output_type": "stream",
       "stream": "stdout",
       "text": [
        "Surface tension of acetone =  23.70 dynes cm^-1\n"
       ]
      }
     ],
     "prompt_number": 8
    },
    {
     "cell_type": "heading",
     "level": 2,
     "metadata": {},
     "source": [
      "Ex8-pg158"
     ]
    },
    {
     "cell_type": "code",
     "collapsed": false,
     "input": [
      "import math\n",
      "##Intitalisation of variables\n",
      "r1= 1.3591\n",
      "d= 0.791 ##kg/m^3\n",
      "mw= 58.08 ##gms\n",
      "x1= 2.42 ##gm\n",
      "x2= 1.10 ##gm\n",
      "x3= 2.21 ##gm\n",
      "n1= 3. ##atoms\n",
      "n2= 6. ##atoms\n",
      "##CALCULATIONS\n",
      "MR= (r1**2-1.)*mw/(d*(r1**2+2.))\n",
      "cv= x1*n1+x2*n2+x3\n",
      "##RESULTS\n",
      "print'%s %.2f %s'% ('Molar refraction of this substance = ',MR,' cc')\n",
      "print'%s %.2f %s'% ('\\n Calculated value of Molar refraction of this substance = ',cv,' cc')\n"
     ],
     "language": "python",
     "metadata": {},
     "outputs": [
      {
       "output_type": "stream",
       "stream": "stdout",
       "text": [
        "Molar refraction of this substance =  16.17  cc\n",
        "\n",
        " Calculated value of Molar refraction of this substance =  16.07  cc\n"
       ]
      }
     ],
     "prompt_number": 9
    },
    {
     "cell_type": "heading",
     "level": 2,
     "metadata": {},
     "source": [
      "Ex9-pg160"
     ]
    },
    {
     "cell_type": "code",
     "collapsed": false,
     "input": [
      "import math\n",
      "##Intitalisation of variables\n",
      "\n",
      "dc= 2.033\n",
      "d= 0.7784 ##kg/m^3\n",
      "mw= 84.16 ##gm\n",
      "x1= 2.42 ##gm\n",
      "x2= 1.1 ##gm\n",
      "n1= 6.##atoms\n",
      "n2= 12. ##atoms\n",
      "##CALCULATIONS\n",
      "MP= (dc-1.)*mw/((dc+2.)*d)\n",
      "MPC= x1*n1+x2*n2\n",
      "##RESULTS\n",
      "print'%s %.2f %s'% ('Molar polarisation of this substance = ',MP,' cc')\n",
      "print'%s %.2f %s'% ('\\n Calculated Molar polarisation of this substance = ',MPC,' cc')\n"
     ],
     "language": "python",
     "metadata": {},
     "outputs": [
      {
       "output_type": "stream",
       "stream": "stdout",
       "text": [
        "Molar polarisation of this substance =  27.69  cc\n",
        "\n",
        " Calculated Molar polarisation of this substance =  27.72  cc\n"
       ]
      }
     ],
     "prompt_number": 10
    }
   ],
   "metadata": {}
  }
 ]
}