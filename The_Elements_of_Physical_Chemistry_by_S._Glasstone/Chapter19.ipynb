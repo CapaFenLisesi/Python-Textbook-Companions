{
 "metadata": {
  "name": "",
  "signature": "sha256:a28a5ef8a385d0102e6082cfb366c7131c322bfd3526953cd7d93fd7c3a57950"
 },
 "nbformat": 3,
 "nbformat_minor": 0,
 "worksheets": [
  {
   "cells": [
    {
     "cell_type": "heading",
     "level": 1,
     "metadata": {},
     "source": [
      "Chapter19-PhotoChemistry"
     ]
    },
    {
     "cell_type": "heading",
     "level": 2,
     "metadata": {},
     "source": [
      "Ex1-pg636"
     ]
    },
    {
     "cell_type": "code",
     "collapsed": false,
     "input": [
      "import math\n",
      "##Intitalisation of variables\n",
      "t= 5. ##cm\n",
      "c= 0.01 ##M\n",
      "ir= 0.245\n",
      "##CALCULATIONS\n",
      "e= -math.log10(ir)/(t*c)\n",
      "##RESULTS\n",
      "print'%s %.2f %s'% ('Extinction coefficient =  ',e,'')\n"
     ],
     "language": "python",
     "metadata": {},
     "outputs": [
      {
       "output_type": "stream",
       "stream": "stdout",
       "text": [
        "Extinction coefficient =   12.22 \n"
       ]
      }
     ],
     "prompt_number": 1
    },
    {
     "cell_type": "heading",
     "level": 2,
     "metadata": {},
     "source": [
      "Ex2-pg641"
     ]
    },
    {
     "cell_type": "code",
     "collapsed": false,
     "input": [
      "import math\n",
      "##Intitalisation of variables\n",
      "w= 2540. ##A\n",
      "v= 10. ##ml\n",
      "c= 0.0495 ##M\n",
      "a= 8.81*10**8 ##ergs\n",
      "c1= 0.0383 ##M\n",
      "n= 1.12*10**-4 ##moles\n",
      "n1= 2.859 ##moles\n",
      "##CALCULATIONS\n",
      "qy= n*n1*4.184*10**15/(a*w)\n",
      "##RESULTS\n",
      "print'%s %.2f %s'% ('Quantum yield =  ',qy,'')\n"
     ],
     "language": "python",
     "metadata": {},
     "outputs": [
      {
       "output_type": "stream",
       "stream": "stdout",
       "text": [
        "Quantum yield =   0.60 \n"
       ]
      }
     ],
     "prompt_number": 2
    }
   ],
   "metadata": {}
  }
 ]
}