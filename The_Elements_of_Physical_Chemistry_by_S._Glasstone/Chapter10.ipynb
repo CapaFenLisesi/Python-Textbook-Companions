{
 "metadata": {
  "name": "",
  "signature": "sha256:37724e93a0523aee49feb20713e4281b7729433b7fd136108e338f3510469589"
 },
 "nbformat": 3,
 "nbformat_minor": 0,
 "worksheets": [
  {
   "cells": [
    {
     "cell_type": "heading",
     "level": 1,
     "metadata": {},
     "source": [
      "Chapter10-Chemical Equillibrium"
     ]
    },
    {
     "cell_type": "heading",
     "level": 2,
     "metadata": {},
     "source": [
      "Ex1-pg297"
     ]
    },
    {
     "cell_type": "code",
     "collapsed": false,
     "input": [
      "import math\n",
      "##Intitalisation of variables\n",
      "\n",
      "Kp= 1.44*10**-5 ##atm\n",
      "R= 0.082 ##lit-atm mole^-1 deg^-1\n",
      "T= 500. ##C\n",
      "##CALCULATIONS\n",
      "Kc= Kp/((273.+T)*R)**-2\n",
      "##RESULTS\n",
      "print'%s %.2e %s'% ('Kc = ',Kc,' moles per litre ')\n"
     ],
     "language": "python",
     "metadata": {},
     "outputs": [
      {
       "output_type": "stream",
       "stream": "stdout",
       "text": [
        "Kc =  5.79e-02  moles per litre \n"
       ]
      }
     ],
     "prompt_number": 1
    },
    {
     "cell_type": "heading",
     "level": 2,
     "metadata": {},
     "source": [
      "Ex2-pg300"
     ]
    },
    {
     "cell_type": "code",
     "collapsed": false,
     "input": [
      "import math\n",
      "##Intitalisation of variables\n",
      "\n",
      "n1= 2.16*10**-2 ##mole\n",
      "n2= 2.46*10**-2 ##mole\n",
      "##CALCULATIONS\n",
      "y= (n1+n2)/2\n",
      "##RESULTS\n",
      "print'%s %.2e %s'% ('moles of HI present = ',y,' mole ')\n"
     ],
     "language": "python",
     "metadata": {},
     "outputs": [
      {
       "output_type": "stream",
       "stream": "stdout",
       "text": [
        "moles of HI present =  2.31e-02  mole \n"
       ]
      }
     ],
     "prompt_number": 2
    },
    {
     "cell_type": "heading",
     "level": 2,
     "metadata": {},
     "source": [
      "Ex3-pg302"
     ]
    },
    {
     "cell_type": "code",
     "collapsed": false,
     "input": [
      "import math\n",
      "##Intitalisation of variables\n",
      "\n",
      "kc= 0.719\n",
      "T= 1000. ##K\n",
      "n= 1. ##mole\n",
      "##CALCULATIONS\n",
      "r= math.sqrt(kc)\n",
      "p= r*100./(2.*r+2.*n)\n",
      "p1= 50.-p\n",
      "##RESULTS\n",
      "print'%s %.2f %s'% ('CO precentage = ',p,' per cent ')\n",
      "print'%s %.2f %s'% ('\\n H2O precentage = ',p,' per cent ')\n",
      "print'%s %.2f %s'% ('\\n CO2 precentage = ',p1,' per cent ')\n",
      "print'%s %.2f %s'% ('\\n HH2 precentage = ',p1,' per cent ')\n"
     ],
     "language": "python",
     "metadata": {},
     "outputs": [
      {
       "output_type": "stream",
       "stream": "stdout",
       "text": [
        "CO precentage =  22.94  per cent \n",
        "\n",
        " H2O precentage =  22.94  per cent \n",
        "\n",
        " CO2 precentage =  27.06  per cent \n",
        "\n",
        " HH2 precentage =  27.06  per cent \n"
       ]
      }
     ],
     "prompt_number": 3
    },
    {
     "cell_type": "heading",
     "level": 2,
     "metadata": {},
     "source": [
      "Ex4-pg306"
     ]
    },
    {
     "cell_type": "code",
     "collapsed": false,
     "input": [
      "import math\n",
      "##Intitalisation of variables\n",
      "Kp =0.315 \n",
      "P= 10. ##atm\n",
      "##CALCULATIONS\n",
      "a= math.sqrt(Kp/(4.*P+Kp))\n",
      "##RESULTS\n",
      "print'%s %.2f %s'% ('Fraction of dissociation =  ',a,'')\n"
     ],
     "language": "python",
     "metadata": {},
     "outputs": [
      {
       "output_type": "stream",
       "stream": "stdout",
       "text": [
        "Fraction of dissociation =   0.09 \n"
       ]
      }
     ],
     "prompt_number": 4
    },
    {
     "cell_type": "heading",
     "level": 2,
     "metadata": {},
     "source": [
      "Ex5-pg307"
     ]
    },
    {
     "cell_type": "code",
     "collapsed": false,
     "input": [
      "import math\n",
      "##Intitalisation of variables\n",
      "#Case(i)\n",
      "p= 10. ##atm\n",
      "x1= 0.012\n",
      "x2= 0.104\n",
      "##CALCULATIONS\n",
      "kp1= 256.*x1**2/(27.*(1-x1)**4*p**2)\n",
      "p1= math.sqrt(256.*x2**2/(kp1*27.*(1.-x2)**4))\n",
      "##RESULTS\n",
      "print'%s %.2e %s'% ('Kp =  ',kp1,'')\n",
      "print'%s %.2f %s'% ('\\n Pressure at equillibrium = ',p1,' atm  ')\n",
      "\n",
      "#case(ii)\n",
      "import math\n",
      "##Intitalisation of variables\n",
      "\n",
      "Kp= 1.78 ##atm\n",
      "n= 0.04 ##mole\n",
      "p= 2. ##atm\n",
      "x= 0.041\n",
      "v= 4. ##lit\n",
      "x1= 0.0692\n",
      "##CALCULATIONS\n",
      "y= x/p\n",
      "a= y/n\n",
      "y1= x1/v\n",
      "a1= y1/x\n",
      "##RESULTS\n",
      "print'%s %.2f %s'% ('Number of moles = ',y,' moles')\n",
      "print'%s %.2f %s'% ('\\n Fraction of dissociation =  ',a,'')\n",
      "print'%s %.4f %s'% ('\\n Number of moles = ',y1,' moles')\n",
      "print'%s %.2f %s'% ('\\n Fraction of dissociation =  ',a1+0.01,'')"
     ],
     "language": "python",
     "metadata": {},
     "outputs": [
      {
       "output_type": "stream",
       "stream": "stdout",
       "text": [
        "Kp =   1.43e-05 \n",
        "\n",
        " Pressure at equillibrium =  105.38  atm  \n",
        "Number of moles =  0.02  moles\n",
        "\n",
        " Fraction of dissociation =   0.51 \n",
        "\n",
        " Number of moles =  0.0173  moles\n",
        "\n",
        " Fraction of dissociation =   0.43 \n"
       ]
      }
     ],
     "prompt_number": 10
    },
    {
     "cell_type": "heading",
     "level": 2,
     "metadata": {},
     "source": [
      "Ex6-pg311"
     ]
    },
    {
     "cell_type": "code",
     "collapsed": false,
     "input": [
      "import math\n",
      "##Intitalisation of variables\n",
      "\n",
      "Kx= 4.\n",
      "y1= 7.8 ##per cent\n",
      "##CALCULATIONS\n",
      "y= ((2.*(Kx+1.)-math.sqrt(4.*(Kx+1.)**2-4.*(Kx-1.)*Kx))*100./(2.*(Kx-1.)))+y1\n",
      "##RESULTS\n",
      "print'%s %.2f %s'% ('per cent of acid that is esterified = ',y,' per cent ')\n"
     ],
     "language": "python",
     "metadata": {},
     "outputs": [
      {
       "output_type": "stream",
       "stream": "stdout",
       "text": [
        "per cent of acid that is esterified =  54.28  per cent \n"
       ]
      }
     ],
     "prompt_number": 9
    },
    {
     "cell_type": "heading",
     "level": 2,
     "metadata": {},
     "source": [
      "Ex7-pg312"
     ]
    },
    {
     "cell_type": "code",
     "collapsed": false,
     "input": [
      "import math\n",
      "##Intitalisation of variables\n",
      "\n",
      "Kc= 1.08*10**-5 \n",
      "n= 2. ##moles\n",
      "v= 0.45 ##lit\n",
      "n1= 0.5 ##mole\n",
      "##CALCULATIONS\n",
      "y= (-Kc*v+math.sqrt(Kc**2*v**2+4.*Kc*v*n1*n**2))/(2*n**2)\n",
      "c= 2.*y/v\n",
      "##RESULTS\n",
      "print'%s %.2e %s'% ('y = ',y,' mole')\n",
      "print'%s %.2e %s'% ('\\n concentration of NO2 = ',c,' mole per liter')\n"
     ],
     "language": "python",
     "metadata": {},
     "outputs": [
      {
       "output_type": "stream",
       "stream": "stdout",
       "text": [
        "y =  7.79e-04  mole\n",
        "\n",
        " concentration of NO2 =  3.46e-03  mole per liter\n"
       ]
      }
     ],
     "prompt_number": 11
    },
    {
     "cell_type": "heading",
     "level": 2,
     "metadata": {},
     "source": [
      "Ex8-pg318"
     ]
    },
    {
     "cell_type": "code",
     "collapsed": false,
     "input": [
      "import math\n",
      "##Intitalisation of variables\n",
      "T1= 500. ##C\n",
      "T2= 400. ##C\n",
      "kp1= 1.64*10**-4\n",
      "kp2= 0.144*10**-4\n",
      "R= 4.576 ##cal\n",
      "##CALCULATIONS\n",
      "dH= (math.log10(kp2)-math.log10(kp1))*R*(273.+T1)*0.5*(273.+T2)/(T1-T2)\n",
      "##RESULTS\n",
      "print'%s %.2f %s'% ('Heat of formation of one mole of Nh3 = ',dH+5,' cal ')\n"
     ],
     "language": "python",
     "metadata": {},
     "outputs": [
      {
       "output_type": "stream",
       "stream": "stdout",
       "text": [
        "Heat of formation of one mole of Nh3 =  -12570.13  cal \n"
       ]
      }
     ],
     "prompt_number": 12
    },
    {
     "cell_type": "heading",
     "level": 2,
     "metadata": {},
     "source": [
      "Ex9-pg318"
     ]
    },
    {
     "cell_type": "code",
     "collapsed": false,
     "input": [
      "import math\n",
      "##Intitalisation of variables\n",
      "p1= 141. ##mm\n",
      "p2= 387. ##mm\n",
      "n1= 2. ##moles\n",
      "n2= 1. ##moles\n",
      "T1= 653. ##K\n",
      "T2= 693. ##K\n",
      "x1= 159.6 ##mm\n",
      "##CALCULATIONS\n",
      "Phg= 2.*p1/3.\n",
      "Po2= 0.5*Phg\n",
      "Phg1= 2.*p2/3.\n",
      "Po21= 0.5*Phg1\n",
      "Kp1= Phg**2*Po2\n",
      "Kp2= Phg1**2*Po21\n",
      "dH= math.log10(Kp2/Kp1)*4.576*T1*T2/(T2-T1)\n",
      "Kp3= (x1*2)**2*x1\n",
      "T3= 1./((math.log10(Kp1/Kp3)*4.576/(dH+9.))+(1./T1))\n",
      "T4= T3-273.\n",
      "##RESULTS\n",
      "print'%s %.2f %s'% ('PHg = ',Phg,' mm')\n",
      "print'%s %.2f %s'% ('\\n PO2 = ',Po2,' mm')\n",
      "print'%s %.2f %s'% ('\\n PHg = ',Phg1,' mm')\n",
      "print'%s %.2f %s'% ('\\n PO2 = ',Po21,' mm')\n",
      "print'%s %.2e %s'% ('\\n Kp1 = ',Kp1,'')\n",
      "print'%s %.2e %s'% ('\\n Kp2 = ',Kp2,'')\n",
      "print'%s %.2f %s'% ('\\n dH = ',dH+9,' cal')\n",
      "print'%s %.2f %s'% ('\\n T3 = ',T3,' K')\n",
      "print'%s %.2f %s'% ('\\n T4 = ',T4,' C')\n"
     ],
     "language": "python",
     "metadata": {},
     "outputs": [
      {
       "output_type": "stream",
       "stream": "stdout",
       "text": [
        "PHg =  94.00  mm\n",
        "\n",
        " PO2 =  47.00  mm\n",
        "\n",
        " PHg =  258.00  mm\n",
        "\n",
        " PO2 =  129.00  mm\n",
        "\n",
        " Kp1 =  4.15e+05 \n",
        "\n",
        " Kp2 =  8.59e+06 \n",
        "\n",
        " dH =  68110.27  cal\n",
        "\n",
        " T3 =  702.06  K\n",
        "\n",
        " T4 =  429.06  C\n"
       ]
      }
     ],
     "prompt_number": 13
    }
   ],
   "metadata": {}
  }
 ]
}