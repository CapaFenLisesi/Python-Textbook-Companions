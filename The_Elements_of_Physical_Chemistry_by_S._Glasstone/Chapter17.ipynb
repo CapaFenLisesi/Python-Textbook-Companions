{
 "metadata": {
  "name": "",
  "signature": "sha256:32fc44a298039addec1d42f97386b3e7372e06e1ea450b0851129c841246fd6e"
 },
 "nbformat": 3,
 "nbformat_minor": 0,
 "worksheets": [
  {
   "cells": [
    {
     "cell_type": "heading",
     "level": 1,
     "metadata": {},
     "source": [
      "Chapter17-Surface chemistry and colloids"
     ]
    },
    {
     "cell_type": "heading",
     "level": 2,
     "metadata": {},
     "source": [
      "Ex1-pg556"
     ]
    },
    {
     "cell_type": "code",
     "collapsed": false,
     "input": [
      "import math\n",
      "##Intitalisation of variables\n",
      "a= 265. ##cm^2\n",
      "mw= 256. ##gm\n",
      "N= 6.02*10**23 ##molecules\n",
      "m= 5.19*10**-5 ##gms\n",
      "##CALCULATIONS\n",
      "asm= (a*mw)/(N*m)\n",
      "##RESULTS\n",
      "print'%s %.1e %s'% ('Area per single molecule = ',asm,' cm^2')\n"
     ],
     "language": "python",
     "metadata": {},
     "outputs": [
      {
       "output_type": "stream",
       "stream": "stdout",
       "text": [
        "Area per single molecule =  2.2e-15  cm^2\n"
       ]
      }
     ],
     "prompt_number": 1
    },
    {
     "cell_type": "heading",
     "level": 2,
     "metadata": {},
     "source": [
      "Ex2-pg575"
     ]
    },
    {
     "cell_type": "code",
     "collapsed": false,
     "input": [
      "import math\n",
      "##Intitalisation of variables\n",
      "c1= 0.01 ##M\n",
      "c2= 0.01 ##M\n",
      "c3= 1. ##M\n",
      "##CALCULATIONS\n",
      "r1= (c1+c2)/c2\n",
      "r2= (c3+c2)/c3\n",
      "##RESULTS\n",
      "print'%s %.2f %s'% ('Ratio =  ',r1,'')\n",
      "print'%s %.2f %s'% ('\\n Ratio =  ',r2,'')\n"
     ],
     "language": "python",
     "metadata": {},
     "outputs": [
      {
       "output_type": "stream",
       "stream": "stdout",
       "text": [
        "Ratio =   2.00 \n",
        "\n",
        " Ratio =   1.01 \n"
       ]
      }
     ],
     "prompt_number": 2
    }
   ],
   "metadata": {}
  }
 ]
}