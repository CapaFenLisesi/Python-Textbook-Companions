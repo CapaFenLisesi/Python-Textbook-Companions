{
 "metadata": {
  "name": "",
  "signature": "sha256:1d4cc853303bd6904a2e77fb1ceaf3e63a457d8e0eccaf1e37846afba1159436"
 },
 "nbformat": 3,
 "nbformat_minor": 0,
 "worksheets": [
  {
   "cells": [
    {
     "cell_type": "heading",
     "level": 1,
     "metadata": {},
     "source": [
      "Chapter 4-Electronic structures of atoms and molecules\n"
     ]
    },
    {
     "cell_type": "heading",
     "level": 2,
     "metadata": {},
     "source": [
      "Ex1-pg76"
     ]
    },
    {
     "cell_type": "code",
     "collapsed": false,
     "input": [
      "import math\n",
      "##Intitalisation of variables\n",
      "\n",
      "v= 240. ##ml\n",
      "p= 1.25 ##atm\n",
      "p1= 0.75 ##atm\n",
      "n= 2.\n",
      "##CALCULATIONS\n",
      "v1= v*p/p1\n",
      "dv= v1-v\n",
      "V= n*v1\n",
      "##RESULTS\n",
      "print'%s %.2f %s'% ('Increase in volume = ',dv,' ml')\n",
      "print'%s %.2f %s'% ('\\n Final volume = ',V,' ml')\n"
     ],
     "language": "python",
     "metadata": {},
     "outputs": [
      {
       "output_type": "stream",
       "stream": "stdout",
       "text": [
        "Increase in volume =  160.00  ml\n",
        "\n",
        " Final volume =  800.00  ml\n"
       ]
      }
     ],
     "prompt_number": 2
    },
    {
     "cell_type": "heading",
     "level": 2,
     "metadata": {},
     "source": [
      "Ex2-pg78"
     ]
    },
    {
     "cell_type": "code",
     "collapsed": false,
     "input": [
      "import math\n",
      "##Intitalisation of variables\n",
      "\n",
      "v1= 360. ##ml\n",
      "T1= 15. ##C\n",
      "v2= 480. ##ml\n",
      "##CALCULATIONS\n",
      "T2= v2*(273.+T1)/v1\n",
      "Tc= T2-273.\n",
      "##RESULTS\n",
      "print'%s %.2f %s'% ('Centigrade temperature = ',Tc,' C')\n"
     ],
     "language": "python",
     "metadata": {},
     "outputs": [
      {
       "output_type": "stream",
       "stream": "stdout",
       "text": [
        "Centigrade temperature =  111.00  C\n"
       ]
      }
     ],
     "prompt_number": 3
    },
    {
     "cell_type": "heading",
     "level": 2,
     "metadata": {},
     "source": [
      "Ex3-pg79"
     ]
    },
    {
     "cell_type": "code",
     "collapsed": false,
     "input": [
      "import math\n",
      "##Intitalisation of variables\n",
      "\n",
      "p1= 1.4 ##atm\n",
      "v1= 250. ##ml\n",
      "t1= 21. ##c\n",
      "v2= 300. ##ml\n",
      "t2= 49. ##c\n",
      "##CALCULATIONS\n",
      "p2= p1*v1*(273.+t2)/(v2*(273.+t1))\n",
      "##RESULTS\n",
      "print'%s %.2f %s'% ('Final pressure = ',p2,' atm')\n"
     ],
     "language": "python",
     "metadata": {},
     "outputs": [
      {
       "output_type": "stream",
       "stream": "stdout",
       "text": [
        "Final pressure =  1.28  atm\n"
       ]
      }
     ],
     "prompt_number": 4
    },
    {
     "cell_type": "heading",
     "level": 2,
     "metadata": {},
     "source": [
      "Ex4-pg82"
     ]
    },
    {
     "cell_type": "code",
     "collapsed": false,
     "input": [
      "import math\n",
      "##Intitalisation of variables\n",
      "\n",
      "v= 10. ##lit\n",
      "p= 75. ##cm of hg\n",
      "T= 27. ##C\n",
      "R= 0.082 ##lit-atm/mole K\n",
      "##CALCULATIONS\n",
      "n= (p/76.)*v/((273.+T)*R)\n",
      "##RESULTS\n",
      "print'%s %.2f %s'% ('Moles of oxygen contained = ',n,' moles')\n"
     ],
     "language": "python",
     "metadata": {},
     "outputs": [
      {
       "output_type": "stream",
       "stream": "stdout",
       "text": [
        "Moles of oxygen contained =  0.40  moles\n"
       ]
      }
     ],
     "prompt_number": 5
    },
    {
     "cell_type": "heading",
     "level": 2,
     "metadata": {},
     "source": [
      "Ex5-pg84"
     ]
    },
    {
     "cell_type": "code",
     "collapsed": false,
     "input": [
      "import math\n",
      "##Intitalisation of variables\n",
      "\n",
      "T= 25. ##C\n",
      "v= 190. ##ml\n",
      "pt= 740. ##mm of hg\n",
      "p1= 23.8 ##mm of hg\n",
      "p2= 760. ##mm of hg\n",
      "##CALCULATIONS\n",
      "p= pt-p1\n",
      "v= v*p/p2\n",
      "##RESULTS\n",
      "print'%s %.2f %s'% ('Partial pressure of dry gas = ',p,' mm')\n",
      "print'%s %.2f %s'% ('\\n volume of the dry gas = ',v,' ml')\n"
     ],
     "language": "python",
     "metadata": {},
     "outputs": [
      {
       "output_type": "stream",
       "stream": "stdout",
       "text": [
        "Partial pressure of dry gas =  716.20  mm\n",
        "\n",
        " volume of the dry gas =  179.05  ml\n"
       ]
      }
     ],
     "prompt_number": 18
    },
    {
     "cell_type": "heading",
     "level": 2,
     "metadata": {},
     "source": [
      "Ex6-pg84"
     ]
    },
    {
     "cell_type": "code",
     "collapsed": false,
     "input": [
      "import math\n",
      "##Intitalisation of variables\n",
      "\n",
      "ma= 0.495 ##gm\n",
      "Ma= 66. ##gms\n",
      "mb= 0.182 ##gms\n",
      "Mb= 45.5 ##gms\n",
      "p= 76.2 ##cm of hg\n",
      "##CALCULATIONS\n",
      "na= ma/Ma\n",
      "nb= mb/Mb\n",
      "nt= na+nb\n",
      "pa= p*na/nt\n",
      "pb= p*nb/nt\n",
      "##RESULTS\n",
      "print'%s %.4f %s'% ('Number of moles of given gas A = ',na,'')\n",
      "print'%s %.4f %s'% ('\\n Number of moles of given gas B =  ',nb,'')\n",
      "print'%s %.4f %s'% ('\\n Total number of moles  = ',nt,'')\n",
      "print'%s %.2f %s'% ('\\n Partial pressure of A  = ',pa,' cm of mercury')\n",
      "print'%s %.2f %s'% ('\\n Partial pressure of B  = ',pb,' cm of mercury')\n"
     ],
     "language": "python",
     "metadata": {},
     "outputs": [
      {
       "output_type": "stream",
       "stream": "stdout",
       "text": [
        "Number of moles of given gas A =  0.0075 \n",
        "\n",
        " Number of moles of given gas B =   0.0040 \n",
        "\n",
        " Total number of moles  =  0.0115 \n",
        "\n",
        " Partial pressure of A  =  49.70  cm of mercury\n",
        "\n",
        " Partial pressure of B  =  26.50  cm of mercury\n"
       ]
      }
     ],
     "prompt_number": 17
    },
    {
     "cell_type": "heading",
     "level": 2,
     "metadata": {},
     "source": [
      "Ex7-pg84"
     ]
    },
    {
     "cell_type": "code",
     "collapsed": false,
     "input": [
      "import math\n",
      "##Intitalisation of variables\n",
      "\n",
      "v1= 125. ##ml\n",
      "p1= 0.6 ##atm\n",
      "v2= 150. ##ml\n",
      "p2= 0.8 ##atm\n",
      "V= 500. ##ml\n",
      "##CALCULATIONS\n",
      "pa= p1*v1/V\n",
      "pb= p2*v2/V\n",
      "pt= pa+pb\n",
      "##RESULTS\n",
      "print'%s %.2f %s'% ('Partial pressure of A = ',pa,' atm')\n",
      "print'%s %.2f %s'% ('\\n Partial pressure of B = ',pb,' atm')\n",
      "print'%s %.2f %s'% ('\\n Total pressure of A = ',pt,' atm')\n"
     ],
     "language": "python",
     "metadata": {},
     "outputs": [
      {
       "output_type": "stream",
       "stream": "stdout",
       "text": [
        "Partial pressure of A =  0.15  atm\n",
        "\n",
        " Partial pressure of B =  0.24  atm\n",
        "\n",
        " Total pressure of A =  0.39  atm\n"
       ]
      }
     ],
     "prompt_number": 16
    },
    {
     "cell_type": "heading",
     "level": 2,
     "metadata": {},
     "source": [
      "Ex8-pg86"
     ]
    },
    {
     "cell_type": "code",
     "collapsed": false,
     "input": [
      "import math\n",
      "##Intitalisation of variables\n",
      "\n",
      "t1= 1.44 ##min\n",
      "t2= 1.8 ##min\n",
      "mo= 32. ##gms\n",
      "mh= 2. ##gms\n",
      "##CALCULATIONS\n",
      "d2= (t1/t2)**2*(mo/mh)\n",
      "##RESULTS\n",
      "print'%s %.2f %s'% ('Approximate density of gas relative to hydrogen = ',d2,'')\n"
     ],
     "language": "python",
     "metadata": {},
     "outputs": [
      {
       "output_type": "stream",
       "stream": "stdout",
       "text": [
        "Approximate density of gas relative to hydrogen =  10.24 \n"
       ]
      }
     ],
     "prompt_number": 15
    },
    {
     "cell_type": "heading",
     "level": 2,
     "metadata": {},
     "source": [
      "Ex9-pg92"
     ]
    },
    {
     "cell_type": "code",
     "collapsed": false,
     "input": [
      "import math\n",
      "##Intitalisation of variables\n",
      "\n",
      "T= 25. ##C\n",
      "R= 8.31*10**7 ##ergs deg^-1 mole^-1\n",
      "M= 32. ##gms\n",
      "##CALCULATIONS\n",
      "c= math.sqrt(3.*R*(273.+T)/M)\n",
      "##RESULTS\n",
      "print'%s %.2e %s'% ('Mean velocity of oxygen molecules = ',c,' cm sec^-1')\n"
     ],
     "language": "python",
     "metadata": {},
     "outputs": [
      {
       "output_type": "stream",
       "stream": "stdout",
       "text": [
        "Mean velocity of oxygen molecules =  4.82e+04  cm sec^-1\n"
       ]
      }
     ],
     "prompt_number": 14
    },
    {
     "cell_type": "heading",
     "level": 2,
     "metadata": {},
     "source": [
      "Ex10-pg96"
     ]
    },
    {
     "cell_type": "code",
     "collapsed": false,
     "input": [
      "import math\n",
      "##Intitalisation of variables\n",
      "\n",
      "n= 8.41*10**-5 ##poise\n",
      "p= 1. ##atm\n",
      "v= 22414. ##ml\n",
      "m= 2. ##gms\n",
      "T= 0. ##C\n",
      "R= 8.31*10**7 ##ergs deg^-1 mole^-1\n",
      "##CALCULATIONS\n",
      "d= m/v\n",
      "c= math.sqrt(8.*R*(273.+T)/(math.pi*m))\n",
      "l= 3.*n/(d*c)\n",
      "##RESULTS\n",
      "print'%s %.2e %s'% ('Density of hydrogen gas = ',d,' gram cc^-1')\n",
      "print'%s %.2e %s'% ('\\n Mean velocity = ',c,' cm sec^-1')\n",
      "print'%s %.2e %s'% ('\\n Mean free path of the molecules = ',l,' cm')\n"
     ],
     "language": "python",
     "metadata": {},
     "outputs": [
      {
       "output_type": "stream",
       "stream": "stdout",
       "text": [
        "Density of hydrogen gas =  8.92e-05  gram cc^-1\n",
        "\n",
        " Mean velocity =  1.70e+05  cm sec^-1\n",
        "\n",
        " Mean free path of the molecules =  1.66e-05  cm\n"
       ]
      }
     ],
     "prompt_number": 13
    },
    {
     "cell_type": "heading",
     "level": 2,
     "metadata": {},
     "source": [
      "Ex11-pg97"
     ]
    },
    {
     "cell_type": "code",
     "collapsed": false,
     "input": [
      "import math\n",
      "##Intitalisation of variables\n",
      "\n",
      "t= 1. ##sec\n",
      "v= 1. ##cc\n",
      "T= 0. ##C\n",
      "p= 1. ##atm\n",
      "d= 8.9*10**-5 ##g cc^-1\n",
      "n= 8.41*10**-5 ##poise\n",
      "R= 8.31*10**7 ##ergs deg^-1 mole^-1\n",
      "M= 4. ##gms\n",
      "N= 6*10**23 ##molecules\n",
      "n1= 2. ##moles\n",
      "##CALCULATIONS\n",
      "Z= M*(N/(v*22414.))*d*R*(273.+T)/(3.*math.pi*n1*n)\n",
      "##RESULTS\n",
      "print'%s %.2e %s'% ('Number of collisions = ',Z,' molecular collisions sec^-1 cc^-1')\n"
     ],
     "language": "python",
     "metadata": {},
     "outputs": [
      {
       "output_type": "stream",
       "stream": "stdout",
       "text": [
        "Number of collisions =  1.36e+29  molecular collisions sec^-1 cc^-1\n"
       ]
      }
     ],
     "prompt_number": 12
    },
    {
     "cell_type": "heading",
     "level": 2,
     "metadata": {},
     "source": [
      "Ex12-pg98 "
     ]
    },
    {
     "cell_type": "code",
     "collapsed": false,
     "input": [
      "import math\n",
      "##Intitalisation of variables\n",
      "\n",
      "d= 8.9*10**-5 ##g cc^-1\n",
      "R= 8.31*10**7 ##ergs deg^-1 mole^-1\n",
      "N= 2.7*10**19 ##molecules\n",
      "n= 8.41*10**-5 ##poise\n",
      "T= 0. ##C\n",
      "n1= 2. ##moles\n",
      "##CALCULATIONS\n",
      "s= math.sqrt(n1*d*math.sqrt(R*(273.+T)/(math.pi*n1))/(3.*math.pi*n*N))\n",
      "##RESULTS\n",
      "print'%s %.2e %s'% ('Collision diamter of hydrogen = ',s,' cm')\n"
     ],
     "language": "python",
     "metadata": {},
     "outputs": [
      {
       "output_type": "stream",
       "stream": "stdout",
       "text": [
        "Collision diamter of hydrogen =  2.24e-08  cm\n"
       ]
      }
     ],
     "prompt_number": 11
    },
    {
     "cell_type": "heading",
     "level": 2,
     "metadata": {},
     "source": [
      "Ex13-pg106"
     ]
    },
    {
     "cell_type": "code",
     "collapsed": false,
     "input": [
      "import math\n",
      "##Intitalisation of variables\n",
      "\n",
      "n= 4.\n",
      "n1= 1.\n",
      "n2= 1.5\n",
      "R= 2. ##cal deg^-1 mole^-1\n",
      "m=3.\n",
      "##CALCULATIONS\n",
      "Cv= ((3.*n-5.)+n1+n2)*R\n",
      "Cv1= ((3.*n-6.)+2.*m*(n2-n1))*R\n",
      "##RESULTS\n",
      "print'%s %.2f %s'% ('Molar heat capacity of acetylene = ',Cv,' cal deg^-1 mole^-1')\n",
      "print'%s %.2f %s'% ('\\n Molar heat capacity of ammonia = ',Cv1,' cal deg^-1 mole^-1')\n"
     ],
     "language": "python",
     "metadata": {},
     "outputs": [
      {
       "output_type": "stream",
       "stream": "stdout",
       "text": [
        "Molar heat capacity of acetylene =  19.00  cal deg^-1 mole^-1\n",
        "\n",
        " Molar heat capacity of ammonia =  18.00  cal deg^-1 mole^-1\n"
       ]
      }
     ],
     "prompt_number": 10
    },
    {
     "cell_type": "heading",
     "level": 2,
     "metadata": {},
     "source": [
      "Ex14-pg112 "
     ]
    },
    {
     "cell_type": "code",
     "collapsed": false,
     "input": [
      "import math\n",
      "##Intitalisation of variables\n",
      "v= 1.32 ##lit\n",
      "T= 48. ##C\n",
      "p= 18.4 ##atm\n",
      "R= 0.082 ##lit-atm deg^-1 mole^-1\n",
      "a= 3.6\n",
      "b= 4.28*10**-2\n",
      "##CALCULATIONS\n",
      "P1= R*(273.+T)/v\n",
      "P2= (R*(273.+T)/(v-b))-(a/v**2)\n",
      "##RESULTS\n",
      "print'%s %.2f %s'% ('Pressure by ideal gas equation = ',P1,' atm')\n",
      "print'%s %.2f %s'% ('\\n Pressure by vander Waals equation = ',P2,' atm')\n"
     ],
     "language": "python",
     "metadata": {},
     "outputs": [
      {
       "output_type": "stream",
       "stream": "stdout",
       "text": [
        "Pressure by ideal gas equation =  19.94  atm\n",
        "\n",
        " Pressure by vander Waals equation =  18.54  atm\n"
       ]
      }
     ],
     "prompt_number": 9
    },
    {
     "cell_type": "heading",
     "level": 2,
     "metadata": {},
     "source": [
      "Ex15-pg118 "
     ]
    },
    {
     "cell_type": "code",
     "collapsed": false,
     "input": [
      "import math\n",
      "##Intitalisation of variables\n",
      "\n",
      "wa= 52.3 ##gms\n",
      "wv= 52.96 ##gms\n",
      "wb= 302. ##gms\n",
      "T= 100. ##C\n",
      "p= 752. ##mm\n",
      "d= 1.29 ##g per litre\n",
      "wa1= 0.32 ##gms\n",
      "R= 0.082 ##lit-atm K^-1 mole^-1\n",
      "v= 0.25 ##lit\n",
      "##CALCULATIONS\n",
      "W= wb-wa\n",
      "Wv= wv-(wa-wa1)\n",
      "M= Wv*R*(273.+T)/((p/760.)*v)\n",
      "##RESULTS\n",
      "print'%s %.2f %s'% ('Molecular weight of choloform = ',M,' gms')\n"
     ],
     "language": "python",
     "metadata": {},
     "outputs": [
      {
       "output_type": "stream",
       "stream": "stdout",
       "text": [
        "Molecular weight of choloform =  121.17  gms\n"
       ]
      }
     ],
     "prompt_number": 8
    },
    {
     "cell_type": "heading",
     "level": 2,
     "metadata": {},
     "source": [
      "Ex16-pg119"
     ]
    },
    {
     "cell_type": "code",
     "collapsed": false,
     "input": [
      "import math\n",
      "##Intitalisation of variables\n",
      "\n",
      "w= 0.241 ##gms\n",
      "R= 0.082 ##lit-atm mole^-1 K^-1\n",
      "T= 23. ##C\n",
      "p= 764. ##mm \n",
      "v= 47.9 ##ml of air\n",
      "##CALCULATIONS\n",
      "M= w*R*(273.+T)/((p/760.)*(v/1000.))\n",
      "##RESULTS\n",
      "print'%s %.2f %s'% ('Molecular weight of choloform = ',M,' gms')\n"
     ],
     "language": "python",
     "metadata": {},
     "outputs": [
      {
       "output_type": "stream",
       "stream": "stdout",
       "text": [
        "Molecular weight of choloform =  121.48  gms\n"
       ]
      }
     ],
     "prompt_number": 7
    },
    {
     "cell_type": "heading",
     "level": 2,
     "metadata": {},
     "source": [
      "Ex17-pg122"
     ]
    },
    {
     "cell_type": "code",
     "collapsed": false,
     "input": [
      "import math\n",
      "##Intitalisation of variables\n",
      "\n",
      "p= 795. ##mm\n",
      "v= 0.501 ##lit\n",
      "w= 1.35 ##gms\n",
      "m= 92. ##gms\n",
      "R= 0.082 ##lit-atm mole^-1 K^-1\n",
      "T= 45. ##C\n",
      "##CALCULATIONS\n",
      "a= ((p/760.)*v/((w/m)*R*(273.+T)))-1.\n",
      "##RESULTS\n",
      "print'%s %.2f %s'% ('Fraction of N2O4 dissociated into NO2 = ',a,'')\n"
     ],
     "language": "python",
     "metadata": {},
     "outputs": [
      {
       "output_type": "stream",
       "stream": "stdout",
       "text": [
        "Fraction of N2O4 dissociated into NO2 =  0.37 \n"
       ]
      }
     ],
     "prompt_number": 6
    }
   ],
   "metadata": {}
  }
 ]
}