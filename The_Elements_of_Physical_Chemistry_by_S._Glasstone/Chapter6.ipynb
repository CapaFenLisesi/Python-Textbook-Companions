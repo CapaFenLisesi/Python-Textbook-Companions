{
 "metadata": {
  "name": "",
  "signature": "sha256:7aa25b464c07cc6381670ed4a3ac6f07d6ca4219d76404fd382eba97021cbd12"
 },
 "nbformat": 3,
 "nbformat_minor": 0,
 "worksheets": [
  {
   "cells": [
    {
     "cell_type": "heading",
     "level": 1,
     "metadata": {},
     "source": [
      "Chapter6-The Solid state"
     ]
    },
    {
     "cell_type": "heading",
     "level": 2,
     "metadata": {},
     "source": [
      "Ex1-pg177"
     ]
    },
    {
     "cell_type": "code",
     "collapsed": false,
     "input": [
      "import math\n",
      "##Intitalisation of variables\n",
      "\n",
      "d1= 5.9 ##deg\n",
      "d2= 5.3 ##deg\n",
      "##CALCULATIONS\n",
      "r= math.sin(d1/57.3)/math.sin(d2/57.3)\n",
      "vr= r**3\n",
      "##RESULTS\n",
      "print'%s %.2f %s'% ('Ratio of inter planar distance = ',r,'')\n",
      "print'%s %.2f %s'% ('\\n Ratio of volumes = ',vr,'')\n"
     ],
     "language": "python",
     "metadata": {},
     "outputs": [
      {
       "output_type": "stream",
       "stream": "stdout",
       "text": [
        "Ratio of inter planar distance =  1.11 \n",
        "\n",
        " Ratio of volumes =  1.38 \n"
       ]
      }
     ],
     "prompt_number": 1
    },
    {
     "cell_type": "heading",
     "level": 2,
     "metadata": {},
     "source": [
      "Ex2-pg191"
     ]
    },
    {
     "cell_type": "code",
     "collapsed": false,
     "input": [
      "import math\n",
      "##Intitalisation of variables\n",
      "svl= 1.0001 ##cc/gram\n",
      "svi= 1.0907 ##cc/gram\n",
      "T= 0.##C\n",
      "Hf= 79.8 ##cal/gram\n",
      "p= 76. ##mm\n",
      "sp= 13.595\n",
      "g= 980.7 ##cm/sec^2\n",
      "##CALCULATIONS\n",
      "r= -(273.2+T)*(svl-svi)*p*sp*g/(Hf*4.184*10**7)\n",
      "##RESULTS\n",
      "print'%s %.2f %s'% ('Decrease in melting point = ',r,' per atm')\n"
     ],
     "language": "python",
     "metadata": {},
     "outputs": [
      {
       "output_type": "stream",
       "stream": "stdout",
       "text": [
        "Decrease in melting point =  0.01  per atm\n"
       ]
      }
     ],
     "prompt_number": 2
    }
   ],
   "metadata": {}
  }
 ]
}