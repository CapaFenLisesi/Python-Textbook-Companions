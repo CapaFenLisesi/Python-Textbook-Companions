{
 "metadata": {
  "name": "",
  "signature": "sha256:b63c611324540479abda38f933d11ba51410d23a6c4a36ecfbbbad809a903620"
 },
 "nbformat": 3,
 "nbformat_minor": 0,
 "worksheets": [
  {
   "cells": [
    {
     "cell_type": "heading",
     "level": 1,
     "metadata": {},
     "source": [
      "Chapter12-Phase equilibria"
     ]
    },
    {
     "cell_type": "heading",
     "level": 2,
     "metadata": {},
     "source": [
      "Ex1-pg346"
     ]
    },
    {
     "cell_type": "code",
     "collapsed": false,
     "input": [
      "import math\n",
      "##Intitalisation of variables\n",
      "k1= 0.015\n",
      "k2= 0.028\n",
      "p1= 0.7806 ##atm\n",
      "p2= 0.21 ##atm\n",
      "##CALCULATIONS\n",
      "P1= k1*p1*100./(k1*p1+k2*p2)\n",
      "P2= 100.-P1\n",
      "##RESULTS\n",
      "print'%s %.2f %s'% ('moles of Nitrogen = ',P1,' moles')\n",
      "print'%s %.2f %s'% ('\\n moles of Oxygen = ',P2,' moles')\n"
     ],
     "language": "python",
     "metadata": {},
     "outputs": [
      {
       "output_type": "stream",
       "stream": "stdout",
       "text": [
        "moles of Nitrogen =  66.57  moles\n",
        "\n",
        " moles of Oxygen =  33.43  moles\n"
       ]
      }
     ],
     "prompt_number": 1
    },
    {
     "cell_type": "heading",
     "level": 2,
     "metadata": {},
     "source": [
      "Ex2-pg349"
     ]
    },
    {
     "cell_type": "code",
     "collapsed": false,
     "input": [
      "import math\n",
      "##Intitalisation of variables\n",
      "Ma= 153.8 ##gms\n",
      "Mb= 169.9 ##gms\n",
      "pa= 114.9 ##mm\n",
      "pb= 238.3 ##mm\n",
      "##CALCULATIONS\n",
      "xa= (1./Ma)/((1./Ma)+(1./Mb))\n",
      "xb= 1.-xa\n",
      "Pa= pa*xa\n",
      "Pb= pb*xb\n",
      "Pt= Pa+Pb\n",
      "##RESULTS\n",
      "print'%s %.2f %s'% ('PA = ',Pa,' mm')\n",
      "print'%s %.2f %s'% ('\\n PB = ',Pb,' mm')\n",
      "print'%s %.2f %s'% ('\\n Total vapour pressure = ',Pt,' mm')\n"
     ],
     "language": "python",
     "metadata": {},
     "outputs": [
      {
       "output_type": "stream",
       "stream": "stdout",
       "text": [
        "PA =  60.31  mm\n",
        "\n",
        " PB =  113.22  mm\n",
        "\n",
        " Total vapour pressure =  173.53  mm\n"
       ]
      }
     ],
     "prompt_number": 2
    },
    {
     "cell_type": "heading",
     "level": 2,
     "metadata": {},
     "source": [
      "Ex3-pg352"
     ]
    },
    {
     "cell_type": "code",
     "collapsed": false,
     "input": [
      "import math\n",
      "##Intitalisation of variable\n",
      "pa= 114.9 ##mm\n",
      "pb= 238.3 ##mm\n",
      "xa= 0.525\n",
      "xb= 0.475\n",
      "##CALCULATIONS\n",
      "xa1= xa*pa/((xa*pa)+(xb*pb))\n",
      "xb1= 1.-xa1\n",
      "##RESULTS\n",
      "print'%s %.2f %s'% ('Mole fraction CCl4 =  ',xa1,'')\n",
      "print'%s %.2f %s'% ('\\n Mole fraction of SiCl4 =  ',xb1,'')\n"
     ],
     "language": "python",
     "metadata": {},
     "outputs": [
      {
       "output_type": "stream",
       "stream": "stdout",
       "text": [
        "Mole fraction CCl4 =   0.35 \n",
        "\n",
        " Mole fraction of SiCl4 =   0.65 \n"
       ]
      }
     ],
     "prompt_number": 3
    },
    {
     "cell_type": "heading",
     "level": 2,
     "metadata": {},
     "source": [
      "Ex4-pg363"
     ]
    },
    {
     "cell_type": "code",
     "collapsed": false,
     "input": [
      "import math\n",
      "##Intitalisation of variables\n",
      "p1= 55. ##per cent\n",
      "P1= 744. ##mm\n",
      "P2= 634. ##mm\n",
      "MB= 18. ##gms\n",
      "##CALCULATIONS\n",
      "MA= p1*P2*MB/((P1-P2)*(100.-p1))\n",
      "##RESULTS\n",
      "print'%s %.2f %s'% ('Molecular weight of terpinene = ',MA,' gms') \n"
     ],
     "language": "python",
     "metadata": {},
     "outputs": [
      {
       "output_type": "stream",
       "stream": "stdout",
       "text": [
        "Molecular weight of terpinene =  126.80  gms\n"
       ]
      }
     ],
     "prompt_number": 4
    },
    {
     "cell_type": "heading",
     "level": 2,
     "metadata": {},
     "source": [
      "Ex5-pg367"
     ]
    },
    {
     "cell_type": "code",
     "collapsed": false,
     "input": [
      "import math\n",
      "##Intitalisation of variables\n",
      "ci= 0.1896 ##mole per liter\n",
      "cKI= 0.02832 ##mole per liter\n",
      "r= 625.\n",
      "##CALCULATIONS\n",
      "CI2= ci/r\n",
      "dc= cKI-CI2\n",
      "##RESULTS\n",
      "print'%s %.2f %s'% ('Conc of I2 in KI layer = ',CI2,' mole per litre') \n",
      "print'%s %.2f %s'% ('\\n Conc of I3- ions = ',dc,' mole per litre') \n"
     ],
     "language": "python",
     "metadata": {},
     "outputs": [
      {
       "output_type": "stream",
       "stream": "stdout",
       "text": [
        "Conc of I2 in KI layer =  0.00  mole per litre\n",
        "\n",
        " Conc of I3- ions =  0.03  mole per litre\n"
       ]
      }
     ],
     "prompt_number": 5
    }
   ],
   "metadata": {}
  }
 ]
}