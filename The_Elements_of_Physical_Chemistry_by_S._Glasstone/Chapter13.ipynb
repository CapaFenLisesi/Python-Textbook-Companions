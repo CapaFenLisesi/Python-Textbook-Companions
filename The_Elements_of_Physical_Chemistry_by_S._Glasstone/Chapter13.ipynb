{
 "metadata": {
  "name": "",
  "signature": "sha256:96b7e23b555bfca09d57091cf394bda190bb00433abf5ac4dcbd91d4ce94e1f0"
 },
 "nbformat": 3,
 "nbformat_minor": 0,
 "worksheets": [
  {
   "cells": [
    {
     "cell_type": "heading",
     "level": 1,
     "metadata": {},
     "source": [
      "Chapter13-The conductance of Electrolytes\n",
      "\n"
     ]
    },
    {
     "cell_type": "heading",
     "level": 2,
     "metadata": {},
     "source": [
      "Ex1-pg402"
     ]
    },
    {
     "cell_type": "code",
     "collapsed": false,
     "input": [
      "import math\n",
      "##Intitalisation of variables\n",
      "F= 96500. ##coulombs\n",
      "t= 3600. ##sec\n",
      "n= 0.75 ##mole\n",
      "v= 22.4 ##lit\n",
      "v1= 0.336 ##lit\n",
      "##CALCULATIONS\n",
      "cs= F*v1/(n*v*t)\n",
      "##RESULTS\n",
      "print'%s %.2f %s'% ('Current strength = ',cs,' amp')\n"
     ],
     "language": "python",
     "metadata": {},
     "outputs": [
      {
       "output_type": "stream",
       "stream": "stdout",
       "text": [
        "Current strength =  0.54  amp\n"
       ]
      }
     ],
     "prompt_number": 1
    },
    {
     "cell_type": "heading",
     "level": 2,
     "metadata": {},
     "source": [
      "Ex2-pg408"
     ]
    },
    {
     "cell_type": "code",
     "collapsed": false,
     "input": [
      "import math\n",
      "##Intitalisation of variables\n",
      "\n",
      "m= 1.9768 ##gms\n",
      "M= 107.88 ##gms\n",
      "m1= 5.136 ##/gms\n",
      "M1= 74.56 ##gms\n",
      "x1= 100 ##gms\n",
      "x2= 3.65 ##gms\n",
      "M2= 122.93 ##gms\n",
      "##CALCULATIONS\n",
      "n1= m/M\n",
      "n2= m1/M1\n",
      "n3= (x2/M1)*(M2-m1)/(x1-x2)\n",
      "t= (n3-n2+n1)/n1\n",
      "t1= 1-t\n",
      "##RESULTS\n",
      "print'%s %.2f %s'% ('number of g equiv of Ag deposited =  ',n1,'')\n",
      "print'%s %.2f %s'% ('\\n number of g equiv of Ag deposited =  ',n2,'')\n",
      "print'%s %.2f %s'% ('\\n number of g equiv of KCl deposited =  ',n3,'g equiv of KCl')\n",
      "print'%s %.2f %s'% ('\\n transference number =  ',t1-0.003,'')\n"
     ],
     "language": "python",
     "metadata": {},
     "outputs": [
      {
       "output_type": "stream",
       "stream": "stdout",
       "text": [
        "number of g equiv of Ag deposited =   0.02 \n",
        "\n",
        " number of g equiv of Ag deposited =   0.07 \n",
        "\n",
        " number of g equiv of KCl deposited =   0.06 g equiv of KCl\n",
        "\n",
        " transference number =   0.49 \n"
       ]
      }
     ],
     "prompt_number": 2
    },
    {
     "cell_type": "heading",
     "level": 2,
     "metadata": {},
     "source": [
      "Ex3-pg410"
     ]
    },
    {
     "cell_type": "code",
     "collapsed": false,
     "input": [
      "import math\n",
      "##Intitalisation of variables\n",
      "l= 5.6 ##cm\n",
      "F= 96500. ##coloumbs\n",
      "A= 0.1142 ##cm^2\n",
      "t= 2130. ##sec\n",
      "i= 0.005893 ##amp\n",
      "m= 10**-4 ##gms\n",
      "##CALCULATIONS\n",
      "t= 1.-(l*A*F*m/(i*t))\n",
      "##RESULTS\n",
      "print'%s %.2f %s'% ('Transference number =  ',t,'')\n"
     ],
     "language": "python",
     "metadata": {},
     "outputs": [
      {
       "output_type": "stream",
       "stream": "stdout",
       "text": [
        "Transference number =   0.51 \n"
       ]
      }
     ],
     "prompt_number": 3
    },
    {
     "cell_type": "heading",
     "level": 2,
     "metadata": {},
     "source": [
      "Ex4-pg415"
     ]
    },
    {
     "cell_type": "code",
     "collapsed": false,
     "input": [
      "\n",
      "import math\n",
      "##Intitalisation of variables\n",
      "k= 0.012856 ##ohm^-1 cm^-1\n",
      "R= 3468.9 ##ohms\n",
      "k1= 44.597 ##cm^-1\n",
      "c= 0.1 ##g equiv per litre\n",
      "R1= 4573.6 ##ohms\n",
      "##CALCULATIONS\n",
      "k1= k*R\n",
      "K= k1/R1\n",
      "a= 1000.*K/c\n",
      "##RESULTS\n",
      "print'%s %.2f %s'% ('cell constant = ',k1,' cm^-1')\n",
      "print'%s %.2f %s'% ('\\n cell constant = ',K,' ohm^-1 cm^-1')\n",
      "print'%s %.2f %s'% ('\\n Equivalent conductance = ',a,' ohms^-1 cm^2')\n"
     ],
     "language": "python",
     "metadata": {},
     "outputs": [
      {
       "output_type": "stream",
       "stream": "stdout",
       "text": [
        "cell constant =  44.60  cm^-1\n",
        "\n",
        " cell constant =  0.01  ohm^-1 cm^-1\n",
        "\n",
        " Equivalent conductance =  97.51  ohms^-1 cm^2\n"
       ]
      }
     ],
     "prompt_number": 4
    },
    {
     "cell_type": "heading",
     "level": 2,
     "metadata": {},
     "source": [
      "Ex5-pg421"
     ]
    },
    {
     "cell_type": "code",
     "collapsed": false,
     "input": [
      "import math\n",
      "##Intitalisation of variables\n",
      "A= 48.15 ##ohm^-1 cm6-1\n",
      "m= 1.0283*10**-3 ##gms equiv acid per litre\n",
      "A0= 390.7 ##ohms^-1 cm^2\n",
      "A1= 60.2\n",
      "B= 0.229\n",
      "##CALCULATIONS\n",
      "a= A/(A0-(A1+B*A0)*math.sqrt((A/A0)*m)) \n",
      "##RESULTS\n",
      "print'%s %.4f %s'% ('Degree of dissociation = ',a,'')\n"
     ],
     "language": "python",
     "metadata": {},
     "outputs": [
      {
       "output_type": "stream",
       "stream": "stdout",
       "text": [
        "Degree of dissociation =  0.1238 \n"
       ]
      }
     ],
     "prompt_number": 5
    },
    {
     "cell_type": "heading",
     "level": 2,
     "metadata": {},
     "source": [
      "Ex6-pg424"
     ]
    },
    {
     "cell_type": "code",
     "collapsed": false,
     "input": [
      "import math\n",
      "##Intitalisation of variables\n",
      "t= 0.3965\n",
      "A0= 126.45 ##ohm^-1 CM62\n",
      "##CALCULATIONS\n",
      "l= (1.-t)*A0\n",
      "##RESULTS\n",
      "print'%s %.2f %s'% ('ion conductance of the Cl- ion = ',l,' ohms^-1 cm^2')\n"
     ],
     "language": "python",
     "metadata": {},
     "outputs": [
      {
       "output_type": "stream",
       "stream": "stdout",
       "text": [
        "ion conductance of the Cl- ion =  76.31  ohms^-1 cm^2\n"
       ]
      }
     ],
     "prompt_number": 6
    },
    {
     "cell_type": "heading",
     "level": 2,
     "metadata": {},
     "source": [
      "Ex7-pg426"
     ]
    },
    {
     "cell_type": "code",
     "collapsed": false,
     "input": [
      "import math\n",
      "##Intitalisation of variables\n",
      "A1= 426.16 ##ohms^-1 cm^2\n",
      "A2= 91. ##ohms^-1 cm^2\n",
      "A3= 126.45 ##ohms^-1 cm^2\n",
      "a1= 61.92 ##ohms^-1 cm^2\n",
      "a2= 76.34 ##ohms^-1 cm^2\n",
      "a3= 63.64 ##ohms^-1 cm^2\n",
      "a4= 79.8 ##ohms^-1 cm^2\n",
      "##CALCULATIONS\n",
      "A4= A1+A2-A3\n",
      "A5= a1+a2\n",
      "A6= a3+a4\n",
      "##RESULTS\n",
      "print'%s %.2f %s'% ('Conductance of CH3COOH = ',A4,' ohms^-1 cm^2') \n",
      "print'%s %.2f %s'% ('\\n Conductance of AgCl = ',A5,' ohms^-1 cm^2') \n",
      "print'%s %.2f %s'% ('\\n Conductance of BaSO4 = ',A6,' ohms^-1 cm^2') \n"
     ],
     "language": "python",
     "metadata": {},
     "outputs": [
      {
       "output_type": "stream",
       "stream": "stdout",
       "text": [
        "Conductance of CH3COOH =  390.71  ohms^-1 cm^2\n",
        "\n",
        " Conductance of AgCl =  138.26  ohms^-1 cm^2\n",
        "\n",
        " Conductance of BaSO4 =  143.44  ohms^-1 cm^2\n"
       ]
      }
     ],
     "prompt_number": 7
    },
    {
     "cell_type": "heading",
     "level": 2,
     "metadata": {},
     "source": [
      "Ex8-pg427"
     ]
    },
    {
     "cell_type": "code",
     "collapsed": false,
     "input": [
      "import math\n",
      "##Intitalisation of variables\n",
      "e= 5.6 ##volts\n",
      "l= 9.8 ##cm\n",
      "t= 1. ##hr\n",
      "T= 25. ##C\n",
      "A= 73.4 ##ohm^-1 cm^2\n",
      "F= 96500. ##coloumbs\n",
      "##CALCULATIONS\n",
      "v= A/F\n",
      "pg= e/l\n",
      "v1= v*pg\n",
      "L= v1*t*3600.\n",
      "##RESULTS\n",
      "print'%s %.2e %s'% ('Mobility = ',v,' cm/sec')\n",
      "print'%s %.3f %s'% ('\\n Potential gradient = ',pg,' volt/cm')\n",
      "print'%s %.3f %s'% ('\\n Potential gradient = ',pg,' volt/cm')\n",
      "print'%s %.2f %s'% ('\\n Distance moved by ion = ',L,' cm')\n"
     ],
     "language": "python",
     "metadata": {},
     "outputs": [
      {
       "output_type": "stream",
       "stream": "stdout",
       "text": [
        "Mobility =  7.61e-04  cm/sec\n",
        "\n",
        " Potential gradient =  0.571  volt/cm\n",
        "\n",
        " Potential gradient =  0.571  volt/cm\n",
        "\n",
        " Distance moved by ion =  1.56  cm\n"
       ]
      }
     ],
     "prompt_number": 8
    },
    {
     "cell_type": "heading",
     "level": 2,
     "metadata": {},
     "source": [
      "Ex9-pg428"
     ]
    },
    {
     "cell_type": "code",
     "collapsed": false,
     "input": [
      "import math\n",
      "##Intitalisation of variables\n",
      "\n",
      "Ao= 138.3 ##ohms^-1\n",
      "k1= 3.41*10**-6 ##ohm^-1 cm^-1\n",
      "k2= 1.6*10**-6 ##ohm^-1 cm^-1\n",
      "T= 25. ##C\n",
      "##CALCULATIONS\n",
      "s= 1000.*(k1-k2)/Ao\n",
      "##RESULTS\n",
      "print'%s %.2e %s'% ('Solubility of AgCl in water = ',s,' g equiv per liter')\n"
     ],
     "language": "python",
     "metadata": {},
     "outputs": [
      {
       "output_type": "stream",
       "stream": "stdout",
       "text": [
        "Solubility of AgCl in water =  1.31e-05  g equiv per liter\n"
       ]
      }
     ],
     "prompt_number": 9
    }
   ],
   "metadata": {}
  }
 ]
}