{
 "metadata": {
  "name": "",
  "signature": "sha256:09be9a8e5f91af8fef0686407088d245fede9d0f128504215da1542a47c5c9a8"
 },
 "nbformat": 3,
 "nbformat_minor": 0,
 "worksheets": [
  {
   "cells": [
    {
     "cell_type": "heading",
     "level": 1,
     "metadata": {},
     "source": [
      "Chapter16-Hydrolysis and Neutralization"
     ]
    },
    {
     "cell_type": "heading",
     "level": 2,
     "metadata": {},
     "source": [
      "Ex1-pg522"
     ]
    },
    {
     "cell_type": "code",
     "collapsed": false,
     "input": [
      "import math\n",
      "##Intitalisation of variables\n",
      "c= 0.01 ##M\n",
      "T= 25. ##C\n",
      "kw= 1.01*10**-14 \n",
      "ka= 1.75*10**-5\n",
      "##CALCULATIONS\n",
      "x= math.sqrt(kw/(ka*c))\n",
      "##RESULTS\n",
      "print'%s %.1e %s'% ('Degree of hydrolysis =  ',x,'')\n"
     ],
     "language": "python",
     "metadata": {},
     "outputs": [
      {
       "output_type": "stream",
       "stream": "stdout",
       "text": [
        "Degree of hydrolysis =   2.4e-04 \n"
       ]
      }
     ],
     "prompt_number": 1
    },
    {
     "cell_type": "heading",
     "level": 2,
     "metadata": {},
     "source": [
      "Ex2-pg522"
     ]
    },
    {
     "cell_type": "code",
     "collapsed": false,
     "input": [
      "import math\n",
      "##Intitalisation of variables\n",
      "c= 0.01 ##M\n",
      "ka= 1.75*10**-5\n",
      "pkw= 14.\n",
      "ka1= 1.79\n",
      "##CALCULATIONS\n",
      "pH= 0.5*pkw-0.5*math.log(ka)+0.5*math.log(c)-ka1\n",
      "##RESULTS\n",
      "print'%s %.2f %s'% ('pH of solution =  ',pH,'')\n"
     ],
     "language": "python",
     "metadata": {},
     "outputs": [
      {
       "output_type": "stream",
       "stream": "stdout",
       "text": [
        "pH of solution =   8.38 \n"
       ]
      }
     ],
     "prompt_number": 2
    },
    {
     "cell_type": "heading",
     "level": 2,
     "metadata": {},
     "source": [
      "Ex3-pg526"
     ]
    },
    {
     "cell_type": "code",
     "collapsed": false,
     "input": [
      "import math\n",
      "##Intitalisation of variable\n",
      "k1= 10**-14\n",
      "c= 0.1 ##M\n",
      "pH= 8.88\n",
      "cH= 1.32*10**-9 ##gms\n",
      "##CALCULATIONS\n",
      "x= k1/(c*cH)\n",
      "kh= c*x**2\n",
      "##RESULTS\n",
      "print'%s %.2e %s'% ('x =  ',x,'')\n",
      "print'%s %.2e %s'% ('\\n Hydrolysis constant =  ',kh,'')\n"
     ],
     "language": "python",
     "metadata": {},
     "outputs": [
      {
       "output_type": "stream",
       "stream": "stdout",
       "text": [
        "x =   7.58e-05 \n",
        "\n",
        " Hydrolysis constant =   5.74e-10 \n"
       ]
      }
     ],
     "prompt_number": 3
    },
    {
     "cell_type": "heading",
     "level": 2,
     "metadata": {},
     "source": [
      "Ex4-pg527"
     ]
    },
    {
     "cell_type": "code",
     "collapsed": false,
     "input": [
      "import math\n",
      "##Intitalisation of variables\n",
      "c= 0.0156 ##M\n",
      "ec= 111.5 ##ohm^-1 cm^2\n",
      "ac= 99.9 ##ohm^-1 cm^2\n",
      "ac1= 426. ##ohm^-1 cm^2\n",
      "kw= 10**-14 \n",
      "##CALCULATIONS\n",
      "x= (ec-ac)/(ac1-ac)\n",
      "kh= c*x**2/(1.-x)\n",
      "kb= kw/kh\n",
      "##RESULTS\n",
      "print'%s %.2f %s'% ('x =  ',x,'')\n",
      "print'%s %.1e %s'% ('\\n Hydrolysis constant = ',kh,'')\n",
      "print'%s %.1e %s'% ('\\n Dissociation constant =  ',kb,'')\n"
     ],
     "language": "python",
     "metadata": {},
     "outputs": [
      {
       "output_type": "stream",
       "stream": "stdout",
       "text": [
        "x =   0.04 \n",
        "\n",
        " Hydrolysis constant =  2.0e-05 \n",
        "\n",
        " Dissociation constant =   4.9e-10 \n"
       ]
      }
     ],
     "prompt_number": 4
    },
    {
     "cell_type": "heading",
     "level": 2,
     "metadata": {},
     "source": [
      "Ex5-pg531"
     ]
    },
    {
     "cell_type": "code",
     "collapsed": false,
     "input": [
      "import math\n",
      "##Intitalisation of variables\n",
      "pH= 7.\n",
      "c1=1. ##M\n",
      "c2= 0.155 ##M\n",
      "c3= 0.25 ##m\n",
      "c4= 0.05 ##M\n",
      "c5= 0.62 ##M\n",
      "pka= 7.21\n",
      "##CALCULATIONS\n",
      "ph1= pka+math.log10((c5+c4)/(c1-c4))\n",
      "ph2= pka+math.log10((c2+c4)/(c3-c4))\n",
      "##RESULTS\n",
      "print'%s %.2f %s'% ('final pH =  ',ph1,'')\n",
      "print'%s %.2f %s'% ('\\n final pH =  ',ph2,'')\n"
     ],
     "language": "python",
     "metadata": {},
     "outputs": [
      {
       "output_type": "stream",
       "stream": "stdout",
       "text": [
        "final pH =   7.06 \n",
        "\n",
        " final pH =   7.22 \n"
       ]
      }
     ],
     "prompt_number": 5
    },
    {
     "cell_type": "heading",
     "level": 2,
     "metadata": {},
     "source": [
      "Ex6-pg535"
     ]
    },
    {
     "cell_type": "code",
     "collapsed": false,
     "input": [
      "import math\n",
      "##Intitalisation of variablesclear\n",
      "v1= -0.1252 ##volt\n",
      "v2= 0.3636##volt\n",
      "v3= 0.05915##volt\n",
      "##CALCULATIONS\n",
      "ph= (v1+v2)/v3\n",
      "##RESULTS\n",
      "print'%s %.2f %s'% ('final pH =  ',ph,'')\n"
     ],
     "language": "python",
     "metadata": {},
     "outputs": [
      {
       "output_type": "stream",
       "stream": "stdout",
       "text": [
        "final pH =   4.03 \n"
       ]
      }
     ],
     "prompt_number": 6
    },
    {
     "cell_type": "heading",
     "level": 2,
     "metadata": {},
     "source": [
      "Ex7-pg540"
     ]
    },
    {
     "cell_type": "code",
     "collapsed": false,
     "input": [
      "import math\n",
      "##Intitalisation of variable\n",
      "pki= 3.98\n",
      "t1= 0.85 ##mm\n",
      "t2= 0.15 ##mm\n",
      "##CALCULATIONS\n",
      "pH= pki+math.log10(t1/t2)\n",
      "##RESULTS\n",
      "print'%s %.2f %s'% ('pH of the solution =  ',pH,'')\n"
     ],
     "language": "python",
     "metadata": {},
     "outputs": [
      {
       "output_type": "stream",
       "stream": "stdout",
       "text": [
        "pH of the solution =   4.73 \n"
       ]
      }
     ],
     "prompt_number": 7
    },
    {
     "cell_type": "heading",
     "level": 2,
     "metadata": {},
     "source": [
      "Ex8-pg541"
     ]
    },
    {
     "cell_type": "code",
     "collapsed": false,
     "input": [
      "import math\n",
      "##Intitalisation of variables\n",
      "pki= 7.\n",
      "t1= 3. ##drops\n",
      "t2= 7. ##drops\n",
      "##CALCULATIONS\n",
      "pH= pki+math.log10(t1/t2)\n",
      "##RESULTS\n",
      "print'%s %.2f %s'% ('pH of the solution =  ',pH,'')\n"
     ],
     "language": "python",
     "metadata": {},
     "outputs": [
      {
       "output_type": "stream",
       "stream": "stdout",
       "text": [
        "pH of the solution =   6.63 \n"
       ]
      }
     ],
     "prompt_number": 8
    },
    {
     "cell_type": "heading",
     "level": 2,
     "metadata": {},
     "source": [
      "Ex9-pg545"
     ]
    },
    {
     "cell_type": "code",
     "collapsed": false,
     "input": [
      "import math\n",
      "##Intitalisation of variables\n",
      "c= 0.1 ##N\n",
      "ka= 5.75*10**-10 \n",
      "##CALCULATIONS\n",
      "cH= math.sqrt(c*ka)\n",
      "pH= -math.log10(cH)\n",
      "##RESULTS\n",
      "print'%s %.2e %s'% ('cH = ',cH,'')\n",
      "print'%s %.2f %s'% ('\\n pH of the solution =  ',pH,'')\n"
     ],
     "language": "python",
     "metadata": {},
     "outputs": [
      {
       "output_type": "stream",
       "stream": "stdout",
       "text": [
        "cH =  7.58e-06 \n",
        "\n",
        " pH of the solution =   5.12 \n"
       ]
      }
     ],
     "prompt_number": 9
    }
   ],
   "metadata": {}
  }
 ]
}