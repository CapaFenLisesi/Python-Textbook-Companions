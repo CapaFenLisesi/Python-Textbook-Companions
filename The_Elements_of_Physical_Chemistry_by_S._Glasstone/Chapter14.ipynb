{
 "metadata": {
  "name": "",
  "signature": "sha256:9fa506139179affa920541319c84daca518a8fdf27be38984d939353608339f4"
 },
 "nbformat": 3,
 "nbformat_minor": 0,
 "worksheets": [
  {
   "cells": [
    {
     "cell_type": "heading",
     "level": 1,
     "metadata": {},
     "source": [
      "Chapter14-Electromotive Force"
     ]
    },
    {
     "cell_type": "heading",
     "level": 2,
     "metadata": {},
     "source": [
      "Ex1-pg441"
     ]
    },
    {
     "cell_type": "code",
     "collapsed": false,
     "input": [
      "import math\n",
      "##Intitalisation of variables\n",
      "\n",
      "T= 25. ##C\n",
      "E= 0.0455 ##volt\n",
      "r= 3.38*10**-4 ##volt degree^-1\n",
      "F= 96500.\n",
      "r1= 0.2390\n",
      "##CALCULATIONS\n",
      "dH= -F*r1*(E-(273.+T)*r)\n",
      "##RESULTS\n",
      "print'%s %.2f %s'% ('Enthalpy = ',dH,' calories ') \n"
     ],
     "language": "python",
     "metadata": {},
     "outputs": [
      {
       "output_type": "stream",
       "stream": "stdout",
       "text": [
        "Enthalpy =  1273.66  calories \n"
       ]
      }
     ],
     "prompt_number": 1
    },
    {
     "cell_type": "heading",
     "level": 2,
     "metadata": {},
     "source": [
      "Ex2-pg450"
     ]
    },
    {
     "cell_type": "code",
     "collapsed": false,
     "input": [
      "import math\n",
      "##Intitalisation of variables\n",
      "emf= 1.094 ##volt\n",
      "e1= 0.334 ##volt\n",
      "##CALCULATIONS\n",
      "Ezn= (emf-e1)\n",
      "##RESULTS\n",
      "print'%s %.2f %s'% ('Ezn = ',Ezn,' volt ') \n"
     ],
     "language": "python",
     "metadata": {},
     "outputs": [
      {
       "output_type": "stream",
       "stream": "stdout",
       "text": [
        "Ezn =  0.76  volt \n"
       ]
      }
     ],
     "prompt_number": 2
    },
    {
     "cell_type": "heading",
     "level": 2,
     "metadata": {},
     "source": [
      "Ex3-pg454"
     ]
    },
    {
     "cell_type": "code",
     "collapsed": false,
     "input": [
      "import math\n",
      "##Intitalisation of variables\n",
      "\n",
      "emf= 0.0455 ##volt\n",
      "T= 25. ##C\n",
      "c= 0.1 ##N\n",
      "emf1= 0.334 ##volt\n",
      "emf2= 0.799 ##volt\n",
      "k= 0.05915\n",
      "##CALCULATIONS\n",
      "ag= 10**((-emf2+(emf1-emf))/k)\n",
      "##RESULTS\n",
      "print'%s %.2e %s'% ('aAg+ = ',ag,' g ion per 1000 grams per litre ') \n"
     ],
     "language": "python",
     "metadata": {},
     "outputs": [
      {
       "output_type": "stream",
       "stream": "stdout",
       "text": [
        "aAg+ =  2.34e-09  g ion per 1000 grams per litre \n"
       ]
      }
     ],
     "prompt_number": 3
    },
    {
     "cell_type": "heading",
     "level": 2,
     "metadata": {},
     "source": [
      "Ex4-pg455"
     ]
    },
    {
     "cell_type": "code",
     "collapsed": false,
     "input": [
      "import math\n",
      "##Intitalisation of variables\n",
      "k= 0.059\n",
      "e= -0.401 ##volt\n",
      "c1= 10**-14 ## g ion per litre\n",
      "c2= 10**-7 ## g ion per litre\n",
      "##CALCULATIONS\n",
      "E1= e+k*math.log10(c1)\n",
      "E2= e+k*math.log10(c2)\n",
      "##RESULTS\n",
      "print'%s %.2f %s'% ('oxidation potential = ',E1,' volt ') \n",
      "print'%s %.2f %s'% ('\\n oxidation potential = ',E2,' volt ') \n"
     ],
     "language": "python",
     "metadata": {},
     "outputs": [
      {
       "output_type": "stream",
       "stream": "stdout",
       "text": [
        "oxidation potential =  -1.23  volt \n",
        "\n",
        " oxidation potential =  -0.81  volt \n"
       ]
      }
     ],
     "prompt_number": 4
    },
    {
     "cell_type": "heading",
     "level": 2,
     "metadata": {},
     "source": [
      "Ex6-pg464"
     ]
    },
    {
     "cell_type": "code",
     "collapsed": false,
     "input": [
      "import math\n",
      "##Intitalisation of variables\n",
      "\n",
      "e= 0.761 ##volt\n",
      "e1= -0.34 ##volt\n",
      "k= 0.02958 ##volt\n",
      "##CALCULATIONS\n",
      "r= 10**((e-e1)/k)\n",
      "##RESULTS\n",
      "print'%s %.2e %s'% ('K for the reaction =   ',r,'') \n"
     ],
     "language": "python",
     "metadata": {},
     "outputs": [
      {
       "output_type": "stream",
       "stream": "stdout",
       "text": [
        "K for the reaction =    1.66e+37 \n"
       ]
      }
     ],
     "prompt_number": 5
    },
    {
     "cell_type": "heading",
     "level": 2,
     "metadata": {},
     "source": [
      "Ex7-pg468"
     ]
    },
    {
     "cell_type": "code",
     "collapsed": false,
     "input": [
      "import math\n",
      "##Intitalisation of variables\n",
      "c1= 0.1 ##M\n",
      "c2= 0.01 ##M\n",
      "k= 0.05915 ##volt\n",
      "t1= 0.172\n",
      "t2= 0.828 \n",
      "##CALCULATIONS\n",
      "El= (t1-t2)*k*math.log10(c2/c1)\n",
      "##RESULTS\n",
      "print'%s %.3f %s'% ('Liquid junction potential = ',El,'') \n"
     ],
     "language": "python",
     "metadata": {},
     "outputs": [
      {
       "output_type": "stream",
       "stream": "stdout",
       "text": [
        "Liquid junction potential =  0.039 \n"
       ]
      }
     ],
     "prompt_number": 10
    },
    {
     "cell_type": "heading",
     "level": 2,
     "metadata": {},
     "source": [
      "Ex8-pg472"
     ]
    },
    {
     "cell_type": "code",
     "collapsed": false,
     "input": [
      "import math\n",
      "##Intitalisation of variable\n",
      "k= 0.05915 ##volt\n",
      "n= 2. ##moles\n",
      "c= 0.1 ##M\n",
      "c1= 1. ##M\n",
      "##CALCULATIONS\n",
      "r= k*math.log10(c/c1)/n\n",
      "##RESULTS\n",
      "print'%s %.2f %s'% ('EMF = ',r,' volt ') \n"
     ],
     "language": "python",
     "metadata": {},
     "outputs": [
      {
       "output_type": "stream",
       "stream": "stdout",
       "text": [
        "EMF =  -0.03  volt \n"
       ]
      }
     ],
     "prompt_number": 9
    },
    {
     "cell_type": "heading",
     "level": 2,
     "metadata": {},
     "source": [
      "Ex9-pg477"
     ]
    },
    {
     "cell_type": "code",
     "collapsed": false,
     "input": [
      "import math\n",
      "##Intitalisation of variables\n",
      "e1= 0.31 ##volt\n",
      "e2= 0.78 ##volt\n",
      "##CALCULATIONS\n",
      "e= e1+e2\n",
      "##RESULTS\n",
      "print'%s %.2f %s'% ('Decomposition voltage =   ',e,'') \n"
     ],
     "language": "python",
     "metadata": {},
     "outputs": [
      {
       "output_type": "stream",
       "stream": "stdout",
       "text": [
        "Decomposition voltage =    1.09 \n"
       ]
      }
     ],
     "prompt_number": 8
    },
    {
     "cell_type": "heading",
     "level": 2,
     "metadata": {},
     "source": [
      "Ex10-pg478"
     ]
    },
    {
     "cell_type": "code",
     "collapsed": false,
     "input": [
      "import math\n",
      "##Intitalisation of variables\n",
      "k= 0.059 ##volt\n",
      "c= 10**-7 ##M\n",
      "e= 2.71 ##volt\n",
      "c1= 6 ##M\n",
      "e1= -0.4 ##volt\n",
      "e2= -1.36 ##volt\n",
      "e3= 0.6 ##volt\n",
      "##CALCULATIONS\n",
      "E1= -math.log10(c)*k\n",
      "E2= e-k*math.log10(c1)\n",
      "E3= e1+k*math.log10(c)\n",
      "E4= e2+k*math.log10(c1)\n",
      "E5= E3-e3\n",
      "##RESULTS\n",
      "print'%s %.2f %s'% ('EH = ',E1,' volt ') \n",
      "print'%s %.2f %s'% ('\\n ENa = ',E2,' volt ') \n",
      "print'%s %.2f %s'% ('\\n EO = ',E3,' volt ') \n",
      "print'%s %.2f %s'% ('\\n ECl = ',E4,' volt ') \n",
      "print'%s %.2f %s'% ('\\n Oxygen evolution potential = ',E5,' volt ') \n"
     ],
     "language": "python",
     "metadata": {},
     "outputs": [
      {
       "output_type": "stream",
       "stream": "stdout",
       "text": [
        "EH =  0.41  volt \n",
        "\n",
        " ENa =  2.66  volt \n",
        "\n",
        " EO =  -0.81  volt \n",
        "\n",
        " ECl =  -1.31  volt \n",
        "\n",
        " Oxygen evolution potential =  -1.41  volt \n"
       ]
      }
     ],
     "prompt_number": 7
    }
   ],
   "metadata": {}
  }
 ]
}