{
 "metadata": {
  "name": "",
  "signature": "sha256:b70f3f3ee36757e6a833a101a9bcb75dd8eddfa96ee53fd3d840c0951df41580"
 },
 "nbformat": 3,
 "nbformat_minor": 0,
 "worksheets": [
  {
   "cells": [
    {
     "cell_type": "heading",
     "level": 1,
     "metadata": {},
     "source": [
      "Chapter7-Thermodynamics and thermochemistry"
     ]
    },
    {
     "cell_type": "heading",
     "level": 2,
     "metadata": {},
     "source": [
      "Ex1-pg205"
     ]
    },
    {
     "cell_type": "code",
     "collapsed": false,
     "input": [
      "import math\n",
      "##Intitalisation of variables\n",
      "\n",
      "v= 1. ##cc\n",
      "p= 1.013*10**6 ##dyne cm^-2\n",
      "r= 4.184*10**7 ##ergs\n",
      "##CALCULATIONS\n",
      "W= v*p/r\n",
      "##RESULTS\n",
      "print'%s %.2f %s'% ('Work done = ',W,' cal')\n"
     ],
     "language": "python",
     "metadata": {},
     "outputs": [
      {
       "output_type": "stream",
       "stream": "stdout",
       "text": [
        "Work done =  0.02  cal\n"
       ]
      }
     ],
     "prompt_number": 1
    },
    {
     "cell_type": "heading",
     "level": 2,
     "metadata": {},
     "source": [
      "Ex2-pg210"
     ]
    },
    {
     "cell_type": "code",
     "collapsed": false,
     "input": [
      "import math\n",
      "##Intitalisation of variables\n",
      "\n",
      "R= 8.314 ##J/mole K\n",
      "n= 1. ##mole\n",
      "v1= 10. ##lit\n",
      "v2= 20. ##lit\n",
      "T= 25. ##C\n",
      "##CALCULATIONS\n",
      "W= R*10**7*(273.2+T)*math.log(v2/v1)\n",
      "##RESULTS\n",
      "print'%s %.2e %s'% ('Maximum work done = ',W,' ergs mole^-1')\n"
     ],
     "language": "python",
     "metadata": {},
     "outputs": [
      {
       "output_type": "stream",
       "stream": "stdout",
       "text": [
        "Maximum work done =  1.72e+10  ergs mole^-1\n"
       ]
      }
     ],
     "prompt_number": 2
    },
    {
     "cell_type": "heading",
     "level": 2,
     "metadata": {},
     "source": [
      "Ex3-pg216"
     ]
    },
    {
     "cell_type": "code",
     "collapsed": false,
     "input": [
      "import math\n",
      "##Intitalisation of variables\n",
      "\n",
      "T= 18. ##C\n",
      "n1= 7.5 \n",
      "n2= 3.\n",
      "n3= 6.\n",
      "R= 2.*10**-3 ##kcal\n",
      "dH= -783.4 ##kcal\n",
      "##CALCULATIONS\n",
      "dE= dH+R*(273.+T)*(n2+n3-n1)\n",
      "##RESULTS\n",
      "print'%s %.2f %s'% ('Heat of the reaction = ',dE,' kcal')\n"
     ],
     "language": "python",
     "metadata": {},
     "outputs": [
      {
       "output_type": "stream",
       "stream": "stdout",
       "text": [
        "Heat of the reaction =  -782.53  kcal\n"
       ]
      }
     ],
     "prompt_number": 3
    },
    {
     "cell_type": "heading",
     "level": 2,
     "metadata": {},
     "source": [
      "Ex4-pg219"
     ]
    },
    {
     "cell_type": "code",
     "collapsed": false,
     "input": [
      "import math\n",
      "##Intitalisation of variables\n",
      "\n",
      "dH= -256.2 ##kcal\n",
      "hf= -98.3 ##kcal\n",
      "n= 6.\n",
      "##CALCULATIONS\n",
      "x= n*hf-dH\n",
      "##RESULTS\n",
      "print'%s %.2f %s'% ('Heat of the formation = ',x,' kcal')\n"
     ],
     "language": "python",
     "metadata": {},
     "outputs": [
      {
       "output_type": "stream",
       "stream": "stdout",
       "text": [
        "Heat of the formation =  -333.60  kcal\n"
       ]
      }
     ],
     "prompt_number": 4
    },
    {
     "cell_type": "heading",
     "level": 2,
     "metadata": {},
     "source": [
      "Ex5-pg219"
     ]
    },
    {
     "cell_type": "code",
     "collapsed": false,
     "input": [
      "import math\n",
      "##Intitalisation of variables\n",
      "\n",
      "dH= -327. ##kcal\n",
      "n1= 2. ##moles\n",
      "n2= 3. ##moles\n",
      "hf= 68.4 ##kcal\n",
      "hf1= 94. ##kcal\n",
      "##CALCULATIONS\n",
      "x= -n1*hf1-n2*hf-dH\n",
      "##RESULTS\n",
      "print'%s %.2f %s'% ('Heat of the formation = ',x,' kcal')\n"
     ],
     "language": "python",
     "metadata": {},
     "outputs": [
      {
       "output_type": "stream",
       "stream": "stdout",
       "text": [
        "Heat of the formation =  -66.20  kcal\n"
       ]
      }
     ],
     "prompt_number": 5
    },
    {
     "cell_type": "heading",
     "level": 2,
     "metadata": {},
     "source": [
      "Ex6-pg224"
     ]
    },
    {
     "cell_type": "code",
     "collapsed": false,
     "input": [
      "import math\n",
      "##Intitalisation of variables\n",
      "\n",
      "n= 5. ##moles\n",
      "h1= 10.55 ##kcal\n",
      "h2= -18.69 ##kcal\n",
      "##CALCULATIONS\n",
      "dH= h2-n*h1\n",
      "##RESULTS\n",
      "print'%s %.2f %s'% ('Heat of the hydration = ',dH,' kcal')\n"
     ],
     "language": "python",
     "metadata": {},
     "outputs": [
      {
       "output_type": "stream",
       "stream": "stdout",
       "text": [
        "Heat of the hydration =  -71.44  kcal\n"
       ]
      }
     ],
     "prompt_number": 6
    },
    {
     "cell_type": "heading",
     "level": 2,
     "metadata": {},
     "source": [
      "Ex7-pg226"
     ]
    },
    {
     "cell_type": "code",
     "collapsed": false,
     "input": [
      "import math\n",
      "##Intitalisation of variables\n",
      "\n",
      "cp= 18. ##cal/deg\n",
      "co2= 6.97 ##cal/deg\n",
      "ch2= 6.89 ##cal/deg\n",
      "T1= 25. ##C\n",
      "T2= 100. ##C\n",
      "dH1= -68.4 ##kcal\n",
      "##CALCULATIONS\n",
      "dCp= (cp-(co2*0.5+ch2))*10**-3\n",
      "dH2= dH1+(T2-T1)*dCp\n",
      "##RESULTS\n",
      "print'%s %.2e %s'% ('dCp = ',dCp,' kcal deg^-1')\n",
      "print'%s %.2f %s'% ('\\n Heat of formation = ',dH2,' kcal') \n"
     ],
     "language": "python",
     "metadata": {},
     "outputs": [
      {
       "output_type": "stream",
       "stream": "stdout",
       "text": [
        "dCp =  7.62e-03  kcal deg^-1\n",
        "\n",
        " Heat of formation =  -67.83  kcal\n"
       ]
      }
     ],
     "prompt_number": 7
    },
    {
     "cell_type": "heading",
     "level": 2,
     "metadata": {},
     "source": [
      "Ex8-pg227"
     ]
    },
    {
     "cell_type": "code",
     "collapsed": false,
     "input": [
      "import math\n",
      "##Intitalisation of variables\n",
      "\n",
      "k1= 9.92 ##kcal/deg\n",
      "T2= 125. ##C\n",
      "T1= 25. ##C\n",
      "k2= 1.15*10**-3 ##kcal deg^-2\n",
      "k3= 3.4*10**-6 ##kcal deg^-3\n",
      "dH1= -22.1 ##kcal\n",
      "##CALCULATIONS\n",
      "dH= 10**-3*(-k1*(T2-T1)-k2*((273.+T2)**2-(273.+T1)**2)+k3*((273.+T2)**3-(273.+T1)**3))\n",
      "dH2= dH1+dH\n",
      "##RESULTS\n",
      "print'%s %.2f %s'% ('dH2-dH1 = ',dH,' kcal')\n",
      "print'%s %.2f %s'% ('\\n Heat of reaction = ',dH2,' kcal')\n",
      "\n"
     ],
     "language": "python",
     "metadata": {},
     "outputs": [
      {
       "output_type": "stream",
       "stream": "stdout",
       "text": [
        "dH2-dH1 =  -0.95  kcal\n",
        "\n",
        " Heat of reaction =  -23.05  kcal\n"
       ]
      }
     ],
     "prompt_number": 8
    },
    {
     "cell_type": "heading",
     "level": 2,
     "metadata": {},
     "source": [
      "Ex9-pg228"
     ]
    },
    {
     "cell_type": "code",
     "collapsed": false,
     "input": [
      "import math\n",
      "##Intitalisation of variables\n",
      "\n",
      "a= -9.92\n",
      "b= -2.3*10**-3\n",
      "c= 10.2*10**-6\n",
      "T= 25. ##C\n",
      "dH= -22100. ##cal\n",
      "##CALCULATIONS\n",
      "dH1= dH-(a*(273.+T)+b*0.5*(273.+T)**2+c*0.33*(273.+T)**3)\n",
      "##RESULTS\n",
      "print'%s %.2f %s'% ('Heat of reaction = ',dH1+1,' cal')\n"
     ],
     "language": "python",
     "metadata": {},
     "outputs": [
      {
       "output_type": "stream",
       "stream": "stdout",
       "text": [
        "Heat of reaction =  -19129.79  cal\n"
       ]
      }
     ],
     "prompt_number": 9
    },
    {
     "cell_type": "heading",
     "level": 2,
     "metadata": {},
     "source": [
      "Ex10-pg229"
     ]
    },
    {
     "cell_type": "code",
     "collapsed": false,
     "input": [
      "import math\n",
      "##Intitalisation of variables\n",
      "\n",
      "m= 1.247 ##gm\n",
      "hc= 2745. ##cal deg^-1\n",
      "mw= 122.12 ##gm\n",
      "dT= 2.87 ##C\n",
      "##CALCULATIONS\n",
      "mh= dT*hc*mw/(m*1000.)\n",
      "##RESULTS\n",
      "print'%s %.2f %s'% ('molar heat of combustion of benzoic acid = ',mh,' kcal mole^-1')\n",
      " \n"
     ],
     "language": "python",
     "metadata": {},
     "outputs": [
      {
       "output_type": "stream",
       "stream": "stdout",
       "text": [
        "molar heat of combustion of benzoic acid =  771.52  kcal mole^-1\n"
       ]
      }
     ],
     "prompt_number": 10
    }
   ],
   "metadata": {}
  }
 ]
}