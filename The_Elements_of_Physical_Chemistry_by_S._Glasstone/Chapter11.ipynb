{
 "metadata": {
  "name": "",
  "signature": "sha256:9b13a4c2a37907894b49c3c0c77859810bdc8dc2129a6c5c11194505a1624c25"
 },
 "nbformat": 3,
 "nbformat_minor": 0,
 "worksheets": [
  {
   "cells": [
    {
     "cell_type": "heading",
     "level": 1,
     "metadata": {},
     "source": [
      "Chapter11-Free energy and chemical equillibrium"
     ]
    },
    {
     "cell_type": "heading",
     "level": 2,
     "metadata": {},
     "source": [
      "Ex1-pg327"
     ]
    },
    {
     "cell_type": "code",
     "collapsed": false,
     "input": [
      "import math\n",
      "##Intitalisation of variables\n",
      "\n",
      "p1= 1. ##atm\n",
      "p2= 0.1 ##atm\n",
      "p3= 0.1 ##atm\n",
      "R= 1.987 ##cal mole^-1 K^-1\n",
      "T= 2000. ##K\n",
      "Kp= 1.55*10**7\n",
      "##CALCULATIONS\n",
      "Qp= p1/(p2**2*p3)\n",
      "dF= 2.303*R*T*math.log10(Qp/Kp)/1000.\n",
      "dF1= -2.303*R*T*math.log10(Kp)/1000.\n",
      "##RESULTS\n",
      "print'%s %.2f %s'% ('free energy change = ',dF,' kcal ')\n",
      "print'%s %.2f %s'% ('\\n free energy change = ',dF1,' kcal ')\n"
     ],
     "language": "python",
     "metadata": {},
     "outputs": [
      {
       "output_type": "stream",
       "stream": "stdout",
       "text": [
        "free energy change =  -38.35  kcal \n",
        "\n",
        " free energy change =  -65.81  kcal \n"
       ]
      }
     ],
     "prompt_number": 1
    },
    {
     "cell_type": "heading",
     "level": 2,
     "metadata": {},
     "source": [
      "Ex2-pg333"
     ]
    },
    {
     "cell_type": "code",
     "collapsed": false,
     "input": [
      "import math\n",
      "##Intitalisation of variables\n",
      "T= 500. ##C\n",
      "Kp= 1.43*10**-5 ##atm\n",
      "R= 1.987 ##cal\n",
      "##CALCULATIONS\n",
      "dF= -2.303*R*(273.+T)*math.log10(Kp)\n",
      "##RESULTS\n",
      "print'%s %.2f %s'% ('dF = ',dF+3,' cal ')\n"
     ],
     "language": "python",
     "metadata": {},
     "outputs": [
      {
       "output_type": "stream",
       "stream": "stdout",
       "text": [
        "dF =  17140.01  cal \n"
       ]
      }
     ],
     "prompt_number": 2
    },
    {
     "cell_type": "heading",
     "level": 2,
     "metadata": {},
     "source": [
      "Ex3-pg335"
     ]
    },
    {
     "cell_type": "code",
     "collapsed": false,
     "input": [
      "import math\n",
      "##Intitalisation of variables\n",
      "n1= 2. ##moles\n",
      "n2= 2. ##moles\n",
      "n3= 1. ##mole\n",
      "h1= 54.6 ##cal\n",
      "h2= 7.8 ##cal\n",
      "h3= -69.6 ##cal\n",
      "R= 1.987 ##cal\n",
      "T= 25. ##C\n",
      "##CALCULATIONS\n",
      "dF= -n1*h1-(-n2*h2+n3*h3)\n",
      "Kp= 10**(-dF*1000./(2.303*R*(273.2+T)))\n",
      "##RESULTS\n",
      "print'%s %.2f %s'% ('dF = ',dF,' kcal ')\n",
      "print'%s %.2e %s'% ('\\n equillibrium constant =  ',Kp,'')\n"
     ],
     "language": "python",
     "metadata": {},
     "outputs": [
      {
       "output_type": "stream",
       "stream": "stdout",
       "text": [
        "dF =  -24.00  kcal \n",
        "\n",
        " equillibrium constant =   3.87e+17 \n"
       ]
      }
     ],
     "prompt_number": 3
    },
    {
     "cell_type": "heading",
     "level": 2,
     "metadata": {},
     "source": [
      "Ex4-pg340"
     ]
    },
    {
     "cell_type": "code",
     "collapsed": false,
     "input": [
      "import math\n",
      "##Intitalisation of variables\n",
      "dH= 12300. ##cal\n",
      "T= 25. ##C\n",
      "dS= -60.1 ##cal deg^-1 mole^-1\n",
      "##CALCULATIONS\n",
      "dF= dH-dS*(273.+T)\n",
      "##RESULTS\n",
      "print'%s %.2f %s'% ('Standard free energy of formation = ',dF-10,' cal mole^-1 ')\n"
     ],
     "language": "python",
     "metadata": {},
     "outputs": [
      {
       "output_type": "stream",
       "stream": "stdout",
       "text": [
        "Standard free energy of formation =  30199.80  cal mole^-1 \n"
       ]
      }
     ],
     "prompt_number": 4
    }
   ],
   "metadata": {}
  }
 ]
}