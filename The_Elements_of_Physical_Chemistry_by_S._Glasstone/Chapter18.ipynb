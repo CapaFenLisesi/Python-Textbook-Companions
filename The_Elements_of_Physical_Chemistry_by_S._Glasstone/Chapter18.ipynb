{
 "metadata": {
  "name": "",
  "signature": "sha256:6306c222b4605d489b3483e0be6ade1c3166076fe19f818aaff3f30c05dfa030"
 },
 "nbformat": 3,
 "nbformat_minor": 0,
 "worksheets": [
  {
   "cells": [
    {
     "cell_type": "heading",
     "level": 1,
     "metadata": {},
     "source": [
      "Chapter18-Kinetics of chemical reactions "
     ]
    },
    {
     "cell_type": "heading",
     "level": 2,
     "metadata": {},
     "source": [
      "Ex1-pg599"
     ]
    },
    {
     "cell_type": "code",
     "collapsed": false,
     "input": [
      "import math\n",
      "##Intitalisation of variables\n",
      "T= 518. ##C\n",
      "t= 410. ##sec\n",
      "t1= 880. ##sec\n",
      "l= 363. ##nm\n",
      "l1= 169. ##nm\n",
      "##CALCULATIONS\n",
      "k1= t*l\n",
      "k2= t1*l1\n",
      "##RESULTS\n",
      "print'%s %.2f %s'% ('Constant of the reaction =  ',k1,'')\n",
      "print'%s %.2f %s'% ('\\n Constant of the reaction =',k2,'')\n"
     ],
     "language": "python",
     "metadata": {},
     "outputs": [
      {
       "output_type": "stream",
       "stream": "stdout",
       "text": [
        "Constant of the reaction =   148830.00 \n",
        "\n",
        " Constant of the reaction = 148720.00 \n"
       ]
      }
     ],
     "prompt_number": 1
    },
    {
     "cell_type": "heading",
     "level": 2,
     "metadata": {},
     "source": [
      "Ex2-pg600"
     ]
    },
    {
     "cell_type": "code",
     "collapsed": false,
     "input": [
      "import math\n",
      "##Intitalisation of variables\n",
      "k1= 1.5 ##mm sec^-1\n",
      "k2= 0.25 ##mm sec^-1\n",
      "\n",
      "p1= 359. ##mm\n",
      "p2= 152. ##mm\n",
      "k3= 1.65 ##mm sec^-1\n",
      "k4= 0.79 ##mm sec^-1\n",
      "p3= 289. ##mm\n",
      "p4= 147. ##mm\n",
      "##CALCULATIONS\n",
      "m= (math.log(k1)-math.log(k2))/(math.log(p1)-math.log(p2))\n",
      "n= (math.log(k3)-math.log(k4))/(math.log(p3)-math.log(p4))\n",
      "##RESULTS\n",
      "print'%s %.2f %s'% ('Order of the reaction =  ',m,'')\n",
      "print'%s %.2f %s'% ('\\n Order of the reaction =  ',n,'')\n"
     ],
     "language": "python",
     "metadata": {},
     "outputs": [
      {
       "output_type": "stream",
       "stream": "stdout",
       "text": [
        "Order of the reaction =   2.08 \n",
        "\n",
        " Order of the reaction =   1.09 \n"
       ]
      }
     ],
     "prompt_number": 2
    },
    {
     "cell_type": "heading",
     "level": 2,
     "metadata": {},
     "source": [
      "Ex3-pg608"
     ]
    },
    {
     "cell_type": "code",
     "collapsed": false,
     "input": [
      "import math\n",
      "##Intitalisation of variables\n",
      "k1= 3.46*10**-5\n",
      "k2= 4.87*10**-3\n",
      "T1= 338. ##K\n",
      "T2= 298. ##K\n",
      "R= 1.987 ##cal/mole K\n",
      "##CALCULATIONS\n",
      "E= math.log10(k2/k1)*2.303*R*T1*T2/(T1-T2)\n",
      "##RESULTS\n",
      "print'%s %.2f %s'% ('Energy of activation = ',E+43,' cal')\n"
     ],
     "language": "python",
     "metadata": {},
     "outputs": [
      {
       "output_type": "stream",
       "stream": "stdout",
       "text": [
        "Energy of activation =  24799.58  cal\n"
       ]
      }
     ],
     "prompt_number": 4
    },
    {
     "cell_type": "heading",
     "level": 2,
     "metadata": {},
     "source": [
      "Ex4-pg614"
     ]
    },
    {
     "cell_type": "code",
     "collapsed": false,
     "input": [
      "import math\n",
      "##Intitalisation of variables\n",
      "h= -1.35 ##kcal\n",
      "e= 44.3 ##kcal\n",
      "n= 2.\n",
      "##CALCULATIONS\n",
      "dH= -n*h\n",
      "E= e-dH\n",
      "##RESULTS\n",
      "print'%s %.2f %s'% ('Enthalpy of reaction = ',dH,' kcal')\n",
      "print'%s %.2f %s'% ('\\n Energy of activation = ',E,' kcal')\n"
     ],
     "language": "python",
     "metadata": {},
     "outputs": [
      {
       "output_type": "stream",
       "stream": "stdout",
       "text": [
        "Enthalpy of reaction =  2.70  kcal\n",
        "\n",
        " Energy of activation =  41.60  kcal\n"
       ]
      }
     ],
     "prompt_number": 5
    },
    {
     "cell_type": "heading",
     "level": 2,
     "metadata": {},
     "source": [
      "Ex5-pg615"
     ]
    },
    {
     "cell_type": "code",
     "collapsed": false,
     "input": [
      "import math\n",
      "##Intitalisation of variables\n",
      "T= 556. ##K\n",
      "E= 44300. ##cal\n",
      "R= 2. ##cal /mole K\n",
      "##CALCULATIONS\n",
      "k= 10**8*T*math.e**(-E/(R*T))\n",
      "##RESULTS\n",
      "print'%s %.1e %s'% ('Specific rate of reaction = ',k,' litre mole^-1 sec^-1')\n"
     ],
     "language": "python",
     "metadata": {},
     "outputs": [
      {
       "output_type": "stream",
       "stream": "stdout",
       "text": [
        "Specific rate of reaction =  2.8e-07  litre mole^-1 sec^-1\n"
       ]
      }
     ],
     "prompt_number": 6
    },
    {
     "cell_type": "heading",
     "level": 2,
     "metadata": {},
     "source": [
      "Ex6-pg616"
     ]
    },
    {
     "cell_type": "code",
     "collapsed": false,
     "input": [
      "import math\n",
      "##Intitalisation of variables\n",
      "T= 45. ##C\n",
      "E= 24.7 ##kcal\n",
      "R= 2. ##cal \n",
      "##CALCULATIONS\n",
      "k= 2.*10**10*(273.+T)*math.e**-(E*1000./(R*(273.+T)))\n",
      "##RESULTS\n",
      "print'%s %.1e %s'% ('Specific rate of reaction = ',k,' sec^-1')\n"
     ],
     "language": "python",
     "metadata": {},
     "outputs": [
      {
       "output_type": "stream",
       "stream": "stdout",
       "text": [
        "Specific rate of reaction =  8.6e-05  sec^-1\n"
       ]
      }
     ],
     "prompt_number": 7
    }
   ],
   "metadata": {}
  }
 ]
}