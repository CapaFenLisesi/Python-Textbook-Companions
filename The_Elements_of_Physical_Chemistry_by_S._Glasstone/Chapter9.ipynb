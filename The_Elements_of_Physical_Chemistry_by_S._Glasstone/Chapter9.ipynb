{
 "metadata": {
  "name": "",
  "signature": "sha256:691a96475cd536c4ffab20fb4eb718e811176f01d8c2ef3e8cc4a80d2f0c8355"
 },
 "nbformat": 3,
 "nbformat_minor": 0,
 "worksheets": [
  {
   "cells": [
    {
     "cell_type": "heading",
     "level": 1,
     "metadata": {},
     "source": [
      "Chapter9-Dilute Solutions"
     ]
    },
    {
     "cell_type": "heading",
     "level": 2,
     "metadata": {},
     "source": [
      "Ex1-pg258"
     ]
    },
    {
     "cell_type": "code",
     "collapsed": false,
     "input": [
      "import math\n",
      "##Intitalisation of variables\n",
      "\n",
      "p1= 17.535 ##mm\n",
      "p2= 17.226 ##mm\n",
      "M= 100. ##gms\n",
      "m1= 18.02 ##gms\n",
      "m2= 18.04 ##gms\n",
      "##CALCULATIONS\n",
      "M= (-1.+(p1/(p1-p2)))*m1*m2/M\n",
      "##RESULTS\n",
      "print'%s %.2f %s'% ('Molecular weight of mannitol = ',M,' gms')\n",
      "print'%s %.2f %s'% ('\\n Correct Molecular weight of mannitol = ',M+1,' gms')\n"
     ],
     "language": "python",
     "metadata": {},
     "outputs": [
      {
       "output_type": "stream",
       "stream": "stdout",
       "text": [
        "Molecular weight of mannitol =  181.22  gms\n",
        "\n",
        " Correct Molecular weight of mannitol =  182.22  gms\n"
       ]
      }
     ],
     "prompt_number": 6
    },
    {
     "cell_type": "heading",
     "level": 2,
     "metadata": {},
     "source": [
      "Ex2-pg262"
     ]
    },
    {
     "cell_type": "code",
     "collapsed": false,
     "input": [
      "import math\n",
      "##Intitalisation of variables\n",
      "\n",
      "dT= 0.170 ##C\n",
      "M2= 60.06 ##gms\n",
      "w1= 22.5 ##gms\n",
      "w2= 0.45 ##gms\n",
      "R= 1.987 ##cal\n",
      "T= 100. ##C\n",
      "lv= 539.9 ##cal g^-1\n",
      "##CALCULATIONS\n",
      "Kb= dT*M2*w1/(1000.*w2)\n",
      "Kb1= R*(273.2+T)**2/(lv*1000.)\n",
      "##RESULTS\n",
      "print'%s %.2f %s'% ('Eleveation constant of water =  ',Kb,'')\n",
      "print'%s %.2f %s'% ('\\n Eleveation constant of water = ',Kb1,'')\n"
     ],
     "language": "python",
     "metadata": {},
     "outputs": [
      {
       "output_type": "stream",
       "stream": "stdout",
       "text": [
        "Eleveation constant of water =   0.51 \n",
        "\n",
        " Eleveation constant of water =  0.51 \n"
       ]
      }
     ],
     "prompt_number": 5
    },
    {
     "cell_type": "heading",
     "level": 2,
     "metadata": {},
     "source": [
      "Ex3-pg265"
     ]
    },
    {
     "cell_type": "code",
     "collapsed": false,
     "input": [
      "import math\n",
      "##Intitalisation of variables\n",
      "\n",
      "Kf= 5.12\n",
      "m= 0.911 ##gms\n",
      "m1= 50. ##gms\n",
      "dT= 0.603 ##deg\n",
      "##CALCULATIONS\n",
      "M2= Kf*1000.*m/(m1*dT)\n",
      "##RESULTS\n",
      "print'%s %.2f %s'% ('Molecular weight of carbon tetra chloride = ',M2,' gms')\n"
     ],
     "language": "python",
     "metadata": {},
     "outputs": [
      {
       "output_type": "stream",
       "stream": "stdout",
       "text": [
        "Molecular weight of carbon tetra chloride =  154.70  gms\n"
       ]
      }
     ],
     "prompt_number": 4
    },
    {
     "cell_type": "heading",
     "level": 2,
     "metadata": {},
     "source": [
      "Ex4-pg271"
     ]
    },
    {
     "cell_type": "code",
     "collapsed": false,
     "input": [
      "import math\n",
      "##Intitalisation of variables\n",
      "\n",
      "m= 4. ##gms\n",
      "p= 6.4*10**-4 ##atm\n",
      "T= 27. ##C\n",
      "R= 0.082 ##lit atm deg^-1 mole^-1\n",
      "##CALCULATIONS\n",
      "M= R*(273.+T)*m/p\n",
      "##RESULTS\n",
      "print'%s %.2e %s'% ('Molecular weight of polymer = ',M,' gms')\n"
     ],
     "language": "python",
     "metadata": {},
     "outputs": [
      {
       "output_type": "stream",
       "stream": "stdout",
       "text": [
        "Molecular weight of polymer =  1.54e+05  gms\n"
       ]
      }
     ],
     "prompt_number": 3
    },
    {
     "cell_type": "heading",
     "level": 2,
     "metadata": {},
     "source": [
      "Ex5-pg277"
     ]
    },
    {
     "cell_type": "code",
     "collapsed": false,
     "input": [
      "import math\n",
      "##Intitalisation of variables\n",
      "\n",
      "v1= 18.10 ##cc\n",
      "T= 100. ##C\n",
      "p= 2.47 ##atm\n",
      "L= 539.9 ##cal mole^-1 gm^-1\n",
      "m= 18.02 ##gm\n",
      "T1= 30. ##C\n",
      "##CALCULATIONS\n",
      "dT= v1*(273.2+T)**2*p*1.013*10**6/(L*m*4.184*10**7*(273.2+T1))\n",
      "##RESULTS\n",
      "print'%s %.2f %s'% ('Elevation of boiling point = ',dT,' degrees')\n"
     ],
     "language": "python",
     "metadata": {},
     "outputs": [
      {
       "output_type": "stream",
       "stream": "stdout",
       "text": [
        "Elevation of boiling point =  0.05  degrees\n"
       ]
      }
     ],
     "prompt_number": 2
    },
    {
     "cell_type": "heading",
     "level": 2,
     "metadata": {},
     "source": [
      "Ex6-pg280"
     ]
    },
    {
     "cell_type": "code",
     "collapsed": false,
     "input": [
      "import math\n",
      "##Intitalisation of variables\n",
      "\n",
      "dt= 0.0265 ##deg\n",
      "c= 5.*10**-3 ##M\n",
      "kf= 1.86 ##deg\n",
      "##CALCULATIONS\n",
      "i= dt/(c*kf)\n",
      "##RESULTS\n",
      "print'%s %.2f %s'% ('i of the solution = ',i,'')\n"
     ],
     "language": "python",
     "metadata": {},
     "outputs": [
      {
       "output_type": "stream",
       "stream": "stdout",
       "text": [
        "i of the solution =  2.85 \n"
       ]
      }
     ],
     "prompt_number": 1
    }
   ],
   "metadata": {}
  }
 ]
}