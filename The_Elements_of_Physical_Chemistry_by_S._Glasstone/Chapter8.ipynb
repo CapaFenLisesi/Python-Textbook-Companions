{
 "metadata": {
  "name": "",
  "signature": "sha256:f177c7c39a89df20418e0d242e260f47a482cc5b40a5e06cd80b142596e99ae6"
 },
 "nbformat": 3,
 "nbformat_minor": 0,
 "worksheets": [
  {
   "cells": [
    {
     "cell_type": "heading",
     "level": 1,
     "metadata": {},
     "source": [
      "Chapter8-The second law of thermodynamics"
     ]
    },
    {
     "cell_type": "heading",
     "level": 2,
     "metadata": {},
     "source": [
      "Ex1-pg240"
     ]
    },
    {
     "cell_type": "code",
     "collapsed": false,
     "input": [
      "import math\n",
      "##Intitalisation of variables\n",
      "k1= 8.04 ##cal deg^-1 mole^-1\n",
      "k2= 7*10**-4 ##cal deg^-2 mole^-1\n",
      "k3= 5.1*10**-6 ##cal deg^-3 mole^-1 \n",
      "T1= 125. ##C\n",
      "T2= 25. ##C\n",
      "cv= 8.92 ##cal deg^-1 mole^-1\n",
      "##CALCULATIONS\n",
      "dSp= k1*math.log((273.+T1)/(273.+T2))+k2*(T1-T2)+k3*0.5*((273.+T1)**2-(273.+T2)**2)\n",
      "dSp1=  cv*math.log((273.+T1)/(273.+T2))\n",
      "##RESULTS\n",
      "print'%s %.2f %s'% ('Increase in entropy = ',dSp,' cal deg^-1 mole^-1')\n",
      "print'%s %.2f %s'% ('\\n Increase in entropy = ',dSp1,' cal deg^-1 mole^-1')\n"
     ],
     "language": "python",
     "metadata": {},
     "outputs": [
      {
       "output_type": "stream",
       "stream": "stdout",
       "text": [
        "Increase in entropy =  2.57  cal deg^-1 mole^-1\n",
        "\n",
        " Increase in entropy =  2.58  cal deg^-1 mole^-1\n"
       ]
      }
     ],
     "prompt_number": 1
    },
    {
     "cell_type": "heading",
     "level": 2,
     "metadata": {},
     "source": [
      "Ex2-pg241"
     ]
    },
    {
     "cell_type": "code",
     "collapsed": false,
     "input": [
      "import math\n",
      "##Intitalisation of variables\n",
      "\n",
      "m= 18. ##gm\n",
      "T= 100. ##C\n",
      "T1= 0. ##C\n",
      "hv= 9720. ##cal\n",
      "s= 0.36 ##cal deg^-1 mole^-1\n",
      "##CALCULATIONS\n",
      "dS= m*math.log((273.+T)/(273.+T1))\n",
      "dS1= 2.*dS+(hv/(273.+T))-s\n",
      "##RESULTS\n",
      "print'%s %.2f %s'% ('Increase in entropy = ',dS,' cal deg^-1 mole^-1')\n",
      "print'%s %.2f %s'% ('\\n Total increase in entropy = ',dS1,' cal deg^-1 mole^-1')\n"
     ],
     "language": "python",
     "metadata": {},
     "outputs": [
      {
       "output_type": "stream",
       "stream": "stdout",
       "text": [
        "Increase in entropy =  5.62  cal deg^-1 mole^-1\n",
        "\n",
        " Total increase in entropy =  36.93  cal deg^-1 mole^-1\n"
       ]
      }
     ],
     "prompt_number": 2
    },
    {
     "cell_type": "heading",
     "level": 2,
     "metadata": {},
     "source": [
      "Ex3-pg246"
     ]
    },
    {
     "cell_type": "code",
     "collapsed": false,
     "input": [
      "import math\n",
      "##Intitalisation of variables\n",
      "\n",
      "T2= 100. ##C\n",
      "T1= 0. ##C\n",
      "T3= 357. ##C\n",
      "T4= 25. ##C\n",
      "##CALCULATIONS\n",
      "e1= (T2-T4)/(273.+T2)\n",
      "e2= (T3-T4)/(273.+T3)\n",
      "##RESULTS\n",
      "print'%s %.2f %s'% ('Efficiency = ',e1,'')\n",
      "print'%s %.2f %s'% ('\\n Efficiency =  ',e2,'')\n"
     ],
     "language": "python",
     "metadata": {},
     "outputs": [
      {
       "output_type": "stream",
       "stream": "stdout",
       "text": [
        "Efficiency =  0.20 \n",
        "\n",
        " Efficiency =   0.53 \n"
       ]
      }
     ],
     "prompt_number": 3
    },
    {
     "cell_type": "heading",
     "level": 2,
     "metadata": {},
     "source": [
      "Ex4-pg249"
     ]
    },
    {
     "cell_type": "code",
     "collapsed": false,
     "input": [
      "import math\n",
      "##Intitalisation of variables\n",
      "\n",
      "R= 1.987 ##cal\n",
      "T= 25. ##C\n",
      "p= 23.76 ##mm\n",
      "##CALCULATIONS\n",
      "dF= R*(273.2+T)*math.log(760./p)\n",
      "##RESULTS\n",
      "print'%s %.2f %s'% ('Free energy change = ',dF+1,' cal mole^-1')\n"
     ],
     "language": "python",
     "metadata": {},
     "outputs": [
      {
       "output_type": "stream",
       "stream": "stdout",
       "text": [
        "Free energy change =  2054.28  cal mole^-1\n"
       ]
      }
     ],
     "prompt_number": 4
    }
   ],
   "metadata": {}
  }
 ]
}