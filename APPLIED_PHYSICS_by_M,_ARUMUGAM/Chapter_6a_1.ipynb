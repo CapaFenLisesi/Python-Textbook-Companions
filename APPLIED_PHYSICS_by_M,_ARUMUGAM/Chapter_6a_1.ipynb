{
 "cells": [
  {
   "cell_type": "markdown",
   "metadata": {},
   "source": [
    "#6(A): Semiconductors"
   ]
  },
  {
   "cell_type": "markdown",
   "metadata": {},
   "source": [
    "##Example number 6.1, Page number 6.21"
   ]
  },
  {
   "cell_type": "code",
   "execution_count": 39,
   "metadata": {
    "collapsed": false
   },
   "outputs": [
    {
     "name": "stdout",
     "output_type": "stream",
     "text": [
      "number of electron hole pairs is 2.32 *10**16 per cubic metre\n",
      "answer varies due to rounding off errors\n"
     ]
    }
   ],
   "source": [
    "#importing modules\n",
    "import math\n",
    "from __future__ import division\n",
    "\n",
    "#Variable declaration\n",
    "ni1=2.5*10**19;    #number of electron hole pairs\n",
    "T1=300;     #temperature(K)\n",
    "Eg1=0.72*1.6*10**-19;    #energy gap(J)\n",
    "k=1.38*10**-23;     #boltzmann constant\n",
    "T2=310;    #temperature(K)\n",
    "Eg2=1.12*1.6*10**-19;    #energy gap(J)\n",
    "\n",
    "#Calculation\n",
    "x1=-Eg1/(2*k*T1);\n",
    "y1=(T1**(3/2))*math.exp(x1);\n",
    "x2=-Eg2/(2*k*T2);\n",
    "y2=(T2**(3/2))*math.exp(x2);\n",
    "ni=ni1*(y2/y1);          #number of electron hole pairs\n",
    "\n",
    "#Result\n",
    "print \"number of electron hole pairs is\",round(ni/10**16,2),\"*10**16 per cubic metre\"\n",
    "print \"answer varies due to rounding off errors\""
   ]
  },
  {
   "cell_type": "markdown",
   "metadata": {},
   "source": [
    "##Example number 6.2, Page number 6.22"
   ]
  },
  {
   "cell_type": "code",
   "execution_count": 41,
   "metadata": {
    "collapsed": false
   },
   "outputs": [
    {
     "name": "stdout",
     "output_type": "stream",
     "text": [
      "intrinsic conductivity is 1.434 *10**4 ohm-1 m-1\n",
      "intrinsic resistivity is 0.697 *10**-4 ohm m\n",
      "answer varies due to rounding off errors\n",
      "number of germanium atoms per m**3 is 4.5 *10**28\n"
     ]
    }
   ],
   "source": [
    "#importing modules\n",
    "import math\n",
    "from __future__ import division\n",
    "\n",
    "#Variable declaration\n",
    "w=72.6;    #atomic weight\n",
    "d=5400;    #density(kg/m**3)\n",
    "Na=6.025*10**26;    #avagadro number\n",
    "mew_e=0.4;    #mobility of electron(m**2/Vs)\n",
    "mew_h=0.2;    #mobility of holes(m**2/Vs)\n",
    "e=1.6*10**-19;\n",
    "m=9.108*10**-31;    #mass(kg)\n",
    "ni=2.1*10**19;      #number of electron hole pairs\n",
    "Eg=0.7;    #band gap(eV)\n",
    "k=1.38*10**-23;    #boltzmann constant\n",
    "h=6.625*10**-34;    #plancks constant\n",
    "T=300;     #temperature(K)\n",
    "\n",
    "#Calculation\n",
    "sigmab=ni*e*(mew_e+mew_h);    #intrinsic conductivity(ohm-1 m-1)\n",
    "rhob=1/sigmab;     #resistivity(ohm m)\n",
    "n=Na*d/w;     #number of germanium atoms per m**3\n",
    "p=n/10**5;   #boron density\n",
    "sigma=p*e*mew_h;\n",
    "rho=1/sigma;\n",
    "\n",
    "#Result\n",
    "print \"intrinsic conductivity is\",round(sigma/10**4,3),\"*10**4 ohm-1 m-1\"\n",
    "print \"intrinsic resistivity is\",round(rho*10**4,3),\"*10**-4 ohm m\"\n",
    "print \"answer varies due to rounding off errors\"\n",
    "print \"number of germanium atoms per m**3 is\",round(n/10**28,1),\"*10**28\""
   ]
  },
  {
   "cell_type": "markdown",
   "metadata": {},
   "source": [
    "##Example number 6.3, Page number 6.23"
   ]
  },
  {
   "cell_type": "code",
   "execution_count": 44,
   "metadata": {
    "collapsed": false
   },
   "outputs": [
    {
     "name": "stdout",
     "output_type": "stream",
     "text": [
      "charge carrier density is 2 *10**22 per m**3\n",
      "electron mobility is 0.035 m**2/Vs\n"
     ]
    }
   ],
   "source": [
    "#importing modules\n",
    "import math\n",
    "from __future__ import division\n",
    "\n",
    "#Variable declaration\n",
    "e=1.6*10**-19;\n",
    "RH=3.66*10**-4;    #hall coefficient(m**3/coulomb)\n",
    "sigma=112;      #conductivity(ohm-1 m-1)\n",
    "\n",
    "#Calculation\n",
    "ne=3*math.pi/(8*RH*e);    #charge carrier density(per m**3)\n",
    "mew_e=sigma/(e*ne);      #electron mobility(m**2/Vs)\n",
    "\n",
    "#Result\n",
    "print \"charge carrier density is\",int(ne/10**22),\"*10**22 per m**3\"\n",
    "print \"electron mobility is\",round(mew_e,3),\"m**2/Vs\""
   ]
  },
  {
   "cell_type": "markdown",
   "metadata": {},
   "source": [
    "##Example number 6.4, Page number 6.24"
   ]
  },
  {
   "cell_type": "code",
   "execution_count": 45,
   "metadata": {
    "collapsed": false
   },
   "outputs": [
    {
     "name": "stdout",
     "output_type": "stream",
     "text": [
      "intrinsic conductivity is 0.432 *10**-3 ohm-1 m-1 10.4\n",
      "conductivity during donor impurity is 10.4 ohm-1 m-1\n",
      "conductivity during acceptor impurity is 4 ohm-1 m-1\n"
     ]
    }
   ],
   "source": [
    "#importing modules\n",
    "import math\n",
    "from __future__ import division\n",
    "\n",
    "#Variable declaration\n",
    "mew_e=0.13;    #mobility of electron(m**2/Vs)\n",
    "mew_h=0.05;    #mobility of holes(m**2/Vs)\n",
    "e=1.6*10**-19;\n",
    "ni=1.5*10**16;      #number of electron hole pairs\n",
    "N=5*10**28;\n",
    "\n",
    "#Calculation\n",
    "sigma1=ni*e*(mew_e+mew_h);    #intrinsic conductivity(ohm-1 m-1)\n",
    "ND=N/10**8;\n",
    "n=ni**2/ND;\n",
    "sigma2=ND*e*mew_e;     #conductivity(ohm-1 m-1)\n",
    "sigma3=ND*e*mew_h;     #conductivity(ohm-1 m-1)\n",
    "\n",
    "#Result\n",
    "print \"intrinsic conductivity is\",round(sigma1*10**3,3),\"*10**-3 ohm-1 m-1\",sigma2\n",
    "print \"conductivity during donor impurity is\",sigma2,\"ohm-1 m-1\"\n",
    "print \"conductivity during acceptor impurity is\",int(sigma3),\"ohm-1 m-1\""
   ]
  },
  {
   "cell_type": "markdown",
   "metadata": {},
   "source": [
    "##Example number 6.5, Page number 6.24"
   ]
  },
  {
   "cell_type": "code",
   "execution_count": 50,
   "metadata": {
    "collapsed": false
   },
   "outputs": [
    {
     "name": "stdout",
     "output_type": "stream",
     "text": [
      "conductivity is 4.97 mho m-1\n"
     ]
    }
   ],
   "source": [
    "#importing modules\n",
    "import math\n",
    "from __future__ import division\n",
    "\n",
    "#Variable declaration\n",
    "e=1.6*10**-19;\n",
    "Eg=0.72;    #band gap(eV)\n",
    "k=1.38*10**-23;    #boltzmann constant\n",
    "T1=293;     #temperature(K)\n",
    "T2=313;     #temperature(K)\n",
    "sigma1=2;    #conductivity(mho m-1)\n",
    "\n",
    "#Calculation\n",
    "x=(Eg*e/(2*k))*((1/T1)-(1/T2));\n",
    "y=round(x/2.303,3);\n",
    "z=round(math.log10(sigma1),3);\n",
    "log_sigma2=y+z;\n",
    "sigma2=10**log_sigma2;     #conductivity(mho m-1)\n",
    "\n",
    "#Result\n",
    "print \"conductivity is\",round(sigma2,2),\"mho m-1\""
   ]
  },
  {
   "cell_type": "markdown",
   "metadata": {},
   "source": [
    "##Example number 6.6, Page number 6.25"
   ]
  },
  {
   "cell_type": "code",
   "execution_count": 12,
   "metadata": {
    "collapsed": false
   },
   "outputs": [
    {
     "name": "stdout",
     "output_type": "stream",
     "text": [
      "a)Concentration in N-type\n",
      "n = 1.442 *10**24 m**-3\n",
      "Hence p = 1.56 *10**8 m**-3\n",
      "b)Concentration in P-type\n",
      "p = 3.75 *10**24 m**-3\n",
      "Hence n = 0.6 *10**8 m**-3\n"
     ]
    }
   ],
   "source": [
    "#importing modules\n",
    "import math\n",
    "from __future__ import division\n",
    "\n",
    "#Variable declaration\n",
    "ni=1.5*10**16\n",
    "mu_n=1300*10**-4\n",
    "mu_p=500*10**-4\n",
    "e=1.6*10**-19\n",
    "sigma=3*10**4\n",
    "\n",
    "#Calculations\n",
    "#Concentration in N-type\n",
    "n1=sigma/(e*mu_n)\n",
    "p1=ni**2/n1\n",
    "#Concentration in P-type\n",
    "p=sigma/(e*mu_p)\n",
    "n2=(ni**2)/p\n",
    "\n",
    "#Result\n",
    "print\"a)Concentration in N-type\"\n",
    "print\"n =\",round(n1*10**-24,3),\"*10**24 m**-3\"\n",
    "print\"Hence p =\",round(p1/10**8,2),\"*10**8 m**-3\"\n",
    "print\"b)Concentration in P-type\"\n",
    "print\"p =\",round(p/10**24,2),\"*10**24 m**-3\"\n",
    "print\"Hence n =\",round(n2/10**8,1),\"*10**8 m**-3\""
   ]
  },
  {
   "cell_type": "markdown",
   "metadata": {},
   "source": [
    "##Example number 6.7, Page number 6.26"
   ]
  },
  {
   "cell_type": "code",
   "execution_count": 18,
   "metadata": {
    "collapsed": false
   },
   "outputs": [
    {
     "name": "stdout",
     "output_type": "stream",
     "text": [
      "Jx = 1000.0 ampere/m**2\n",
      "Ey = 0.183 V/m\n",
      "Vy = 1.83 mV\n"
     ]
    }
   ],
   "source": [
    "#importing modules\n",
    "import math\n",
    "from __future__ import division\n",
    "\n",
    "#Variable declaration\n",
    "i=10**-2\n",
    "A=0.01*0.001\n",
    "RH=3.66*10**-4\n",
    "Bz=0.5\n",
    "\n",
    "#Calculations\n",
    "Jx=i/A\n",
    "Ey=RH*(Bz*Jx)\n",
    "Vy=Ey*0.01\n",
    "\n",
    "#Result\n",
    "print\"Jx =\",Jx,\"ampere/m**2\"\n",
    "print\"Ey =\",round(Ey,3),\"V/m\"\n",
    "print\"Vy =\",round(Vy*10**3,2),\"mV\""
   ]
  },
  {
   "cell_type": "markdown",
   "metadata": {},
   "source": [
    "##Example number 6.8, Page number 6.26"
   ]
  },
  {
   "cell_type": "code",
   "execution_count": 26,
   "metadata": {
    "collapsed": false
   },
   "outputs": [
    {
     "name": "stdout",
     "output_type": "stream",
     "text": [
      "Position of fermi level = 0.5764 eV\n"
     ]
    }
   ],
   "source": [
    "#importing modules\n",
    "import math\n",
    "from __future__ import division\n",
    "\n",
    "#Variable declaration\n",
    "Ev=0\n",
    "Ec=1.12\n",
    "k=1.38*10**-23\n",
    "T=300\n",
    "mh=0.28\n",
    "mc=0.12\n",
    "e=1.6*10**-19\n",
    "#Calculations\n",
    "Ef=((Ec+Ev)/2)+((3*k*T)/(4*e))*math.log(mh/mc)\n",
    "\n",
    "#Result\n",
    "print\"Position of fermi level =\",round(Ef,4),\"eV\""
   ]
  },
  {
   "cell_type": "markdown",
   "metadata": {},
   "source": [
    "##Example number 6.9, Page number 6.26"
   ]
  },
  {
   "cell_type": "code",
   "execution_count": 1,
   "metadata": {
    "collapsed": false
   },
   "outputs": [
    {
     "name": "stdout",
     "output_type": "stream",
     "text": [
      "Conductivity of intrinsic germanium at 300K = 2.24 ohm**-1 m**-1\n"
     ]
    }
   ],
   "source": [
    "#importing modules\n",
    "import math\n",
    "from __future__ import division\n",
    "\n",
    "#Variable declaration\n",
    "ni=2.5*10**19\n",
    "mu_e=0.38\n",
    "mu_h=0.18\n",
    "e=1.6*10**-19\n",
    "\n",
    "#Calculations\n",
    "sigmai=ni*e*(mu_e+mu_h)\n",
    "\n",
    "#Result\n",
    "print\"Conductivity of intrinsic germanium at 300K =\",round(sigmai,2),\"ohm**-1 m**-1\""
   ]
  },
  {
   "cell_type": "markdown",
   "metadata": {},
   "source": [
    "##Example number 6.10, Page number 6.27"
   ]
  },
  {
   "cell_type": "code",
   "execution_count": 39,
   "metadata": {
    "collapsed": false
   },
   "outputs": [
    {
     "name": "stdout",
     "output_type": "stream",
     "text": [
      "Conductivity = 1.1593 *10**-3 ohm**-1 m**-1\n"
     ]
    }
   ],
   "source": [
    "#importing modules\n",
    "import math\n",
    "from __future__ import division\n",
    "\n",
    "#Variable declaration\n",
    "m=9.1*10**-31\n",
    "k=1.38*10**-23\n",
    "T=300\n",
    "h=6.626*10**-34\n",
    "Eg=1.1\n",
    "e=1.6*10**-19\n",
    "mu_e=0.48\n",
    "mu_h=0.013\n",
    "#Calculations\n",
    "ni=2*((2*math.pi*m*k*T)/h**2)**(3/2)*math.exp(-(Eg*e)/(2*k*T))\n",
    "sigma=ni*e*(mu_e+mu_h)\n",
    "                                                  \n",
    "#Result\n",
    "print\"Conductivity =\",round(sigma*10**3,4),\"*10**-3 ohm**-1 m**-1\"                                                  "
   ]
  },
  {
   "cell_type": "markdown",
   "metadata": {},
   "source": [
    "##Example number 6.11, Page number 6.27"
   ]
  },
  {
   "cell_type": "code",
   "execution_count": 7,
   "metadata": {
    "collapsed": false
   },
   "outputs": [
    {
     "name": "stdout",
     "output_type": "stream",
     "text": [
      "p = 2.0 *10**23 m**-3\n",
      "The electron concentration is given by n = 2.0 *10**9 m**-3\n"
     ]
    }
   ],
   "source": [
    "#importing modules\n",
    "import math\n",
    "from __future__ import division\n",
    "\n",
    "#Variable declaration\n",
    "Na=5*10**23\n",
    "Nd=3*10**23\n",
    "ni=2*10**16\n",
    "#Calculations\n",
    "p=((Na-Nd)+(Na-Nd))/2\n",
    "\n",
    "#Result\n",
    "print\"p =\",p*10**-23,\"*10**23 m**-3\"\n",
    "print\"The electron concentration is given by n =\",ni**2/p*10**-9,\"*10**9 m**-3\""
   ]
  },
  {
   "cell_type": "markdown",
   "metadata": {},
   "source": [
    "##Example number 6.12, Page number 6.28"
   ]
  },
  {
   "cell_type": "code",
   "execution_count": 43,
   "metadata": {
    "collapsed": false
   },
   "outputs": [
    {
     "name": "stdout",
     "output_type": "stream",
     "text": [
      "Rh = 3.7 *10**-6 C**-1 m**3\n"
     ]
    }
   ],
   "source": [
    "#importing modules\n",
    "import math\n",
    "from __future__ import division\n",
    "\n",
    "#Variable declaration\n",
    "Vh=37*10**-6\n",
    "thick=1*10**-3\n",
    "width=5\n",
    "Iy=20*10**-3\n",
    "Bz=0.5\n",
    "\n",
    "#Calculations\n",
    "Rh=(Vh*width*thick)/(width*Iy*Bz)\n",
    "\n",
    "#Result\n",
    "print\"Rh =\",round(Rh*10**6,1),\"*10**-6 C**-1 m**3\"\n"
   ]
  },
  {
   "cell_type": "markdown",
   "metadata": {},
   "source": [
    "##Example number 6.13, Page number 6.28"
   ]
  },
  {
   "cell_type": "code",
   "execution_count": 46,
   "metadata": {
    "collapsed": false
   },
   "outputs": [
    {
     "name": "stdout",
     "output_type": "stream",
     "text": [
      "Dn = 33.54 cm**2 s**-1\n",
      "Dp = 12.9 cm**2 s**-1\n"
     ]
    }
   ],
   "source": [
    "#importing modules\n",
    "import math\n",
    "from __future__ import division\n",
    "\n",
    "#Variable declaration\n",
    "Vt=0.0258\n",
    "mu_n=1300\n",
    "mu_p=500\n",
    "\n",
    "#Calculations\n",
    "Dn=Vt*mu_n\n",
    "Dp=Vt*mu_p\n",
    "\n",
    "#Result\n",
    "print\"Dn =\",Dn,\"cm**2 s**-1\"\n",
    "print\"Dp =\",Dp,\"cm**2 s**-1\""
   ]
  },
  {
   "cell_type": "markdown",
   "metadata": {},
   "source": [
    "##Example number 6.14, Page number 6.29"
   ]
  },
  {
   "cell_type": "code",
   "execution_count": 63,
   "metadata": {
    "collapsed": false
   },
   "outputs": [
    {
     "name": "stdout",
     "output_type": "stream",
     "text": [
      "The hole concentration 'p' = 1.125 *10**13 /m**3\n",
      "'n'= Nd = 2.0 *10**19\n",
      "Electrical Conductivity = 0.384 ohm**-1 m**-1\n"
     ]
    }
   ],
   "source": [
    "#importing modules\n",
    "import math\n",
    "from __future__ import division\n",
    "\n",
    "#Variable declaration\n",
    "ni=1.5*10**16\n",
    "Nd=2*10**19\n",
    "e=1.602*100**-19\n",
    "mu_n=0.12\n",
    "\n",
    "#Calculations\n",
    "p=ni**2/Nd\n",
    "E_c=e*Nd*mu_n\n",
    "\n",
    "#Result\n",
    "print\"The hole concentration 'p' =\",round(p*10**-13,3),\"*10**13 /m**3\"\n",
    "print\"'n'= Nd =\",round(Nd*10**-19),\"*10**19\"\n",
    "print\"Electrical Conductivity =\",round(E_c*10**19,3),\"ohm**-1 m**-1\""
   ]
  },
  {
   "cell_type": "markdown",
   "metadata": {},
   "source": [
    "##Example number 6.15, Page number 6.29"
   ]
  },
  {
   "cell_type": "code",
   "execution_count": 37,
   "metadata": {
    "collapsed": false
   },
   "outputs": [
    {
     "name": "stdout",
     "output_type": "stream",
     "text": [
      "mu_p= 1389.0 cm**2/V-s\n",
      "n= 6.0355 *10**13/cm**3\n",
      "p= 1.0355 *10**13/cm**3\n",
      "J= 582.5 A/m**2\n",
      "#Answer varies due to rounding of numbers\n"
     ]
    }
   ],
   "source": [
    "#importing modules\n",
    "import math\n",
    "from __future__ import division\n",
    "\n",
    "#Variable declaration\n",
    "N=1/60\n",
    "e=1.6*10**-19\n",
    "ni=2.5*10**13\n",
    "b=5*10**13\n",
    "E=2\n",
    "\n",
    "#Calculations\n",
    "n=(b+math.sqrt(2*b**2))/2\n",
    "mu_p=N/(3*e*ni)\n",
    "mu_i=2*mu_p\n",
    "np=ni**2\n",
    "p=(ni**2)/n\n",
    "e=1.6*10**-19\n",
    "E=2\n",
    "J=(e*E)*((n*mu_i)+(p*mu_p))\n",
    "#Result\n",
    "print\"mu_p=\",round(mu_p),\"cm**2/V-s\"\n",
    "print\"n=\",round(n/10**13,4),\"*10**13/cm**3\"\n",
    "print\"p=\",round(p*10**-13,4),\"*10**13/cm**3\"\n",
    "print\"J=\",round(J*10**4,1),\"A/m**2\"\n",
    "print\"#Answer varies due to rounding of numbers\""
   ]
  },
  {
   "cell_type": "markdown",
   "metadata": {},
   "source": [
    "##Example number 6.16, Page number 6.30"
   ]
  },
  {
   "cell_type": "code",
   "execution_count": 7,
   "metadata": {
    "collapsed": false
   },
   "outputs": [
    {
     "name": "stdout",
     "output_type": "stream",
     "text": [
      "ni = 2.293 *10**19 /m**3\n",
      "Drift velocity of holes 1900.0 ms**-1\n",
      "Drift velocity of electrons= 3900.0 ms**-1\n"
     ]
    }
   ],
   "source": [
    "#importing modules\n",
    "import math\n",
    "from __future__ import division\n",
    "\n",
    "#Variable declaration\n",
    "rho=47*10**-2\n",
    "e=1.6*10**-19\n",
    "mu_n=0.39\n",
    "mu_p=0.19\n",
    "E=10**4\n",
    "\n",
    "#Calculations\n",
    "ni=1/(rho*e*(mu_n+mu_p))\n",
    "Dh=mu_p*E\n",
    "De=mu_n*E\n",
    "\n",
    "#Results\n",
    "print\"ni =\",round(ni/10**19,3),\"*10**19 /m**3\"\n",
    "print\"Drift velocity of holes\",Dh,\"ms**-1\"\n",
    "print\"Drift velocity of electrons=\",De,\"ms**-1\""
   ]
  }
 ],
 "metadata": {
  "kernelspec": {
   "display_name": "Python 2",
   "language": "python",
   "name": "python2"
  },
  "language_info": {
   "codemirror_mode": {
    "name": "ipython",
    "version": 2
   },
   "file_extension": ".py",
   "mimetype": "text/x-python",
   "name": "python",
   "nbconvert_exporter": "python",
   "pygments_lexer": "ipython2",
   "version": "2.7.9"
  }
 },
 "nbformat": 4,
 "nbformat_minor": 0
}
