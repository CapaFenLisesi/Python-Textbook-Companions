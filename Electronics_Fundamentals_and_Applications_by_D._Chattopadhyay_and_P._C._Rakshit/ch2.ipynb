{
 "metadata": {
  "name": ""
 },
 "nbformat": 3,
 "nbformat_minor": 0,
 "worksheets": [
  {
   "cells": [
    {
     "cell_type": "heading",
     "level": 1,
     "metadata": {},
     "source": [
      "Chapter 2: Electron Emission from Solids"
     ]
    },
    {
     "cell_type": "heading",
     "level": 2,
     "metadata": {},
     "source": [
      "Example 1, Page 19"
     ]
    },
    {
     "cell_type": "code",
     "collapsed": false,
     "input": [
      "import math\n",
      "#Variable declaration\n",
      "A=6.02*(10**5)#A=thermionic emission constant in A(m^(-2))(K^(-2))\n",
      "Ew=4.54#Ew=work function in eV\n",
      "T=2500#T=temperature in Kelvin\n",
      "kB=1.38*10**(-23)#kB=Boltzmann's constant in J/K\n",
      "e=1.6*10**(-19)#e=charge of anelectron in C\n",
      "\n",
      "#Calculations&Results\n",
      "b=(e*Ew)/kB#b=thermionic emission constant in K\n",
      "print \"b=%.3e K\"%b\n",
      "Jx=A*(T**2)*math.exp(-b/T)#Jx=emission current density in A/m^(2)\n",
      "print \"Jx=%.f A/(m^2)\"%Jx\n",
      "n=Jx/e#n=number of electrons emitted per unit area per second in (m^-2)(s^-1)\n",
      "print \"n=%.3e (m^-2)(s^-1)\"%n"
     ],
     "language": "python",
     "metadata": {},
     "outputs": [
      {
       "output_type": "stream",
       "stream": "stdout",
       "text": [
        "b=5.264e+04 K\n",
        "Jx=2700 A/(m^2)\n",
        "n=1.688e+22 (m^-2)(s^-1)\n"
       ]
      }
     ],
     "prompt_number": 6
    },
    {
     "cell_type": "heading",
     "level": 2,
     "metadata": {},
     "source": [
      "Example 2, Page 20"
     ]
    },
    {
     "cell_type": "code",
     "collapsed": false,
     "input": [
      "import math\n",
      "\n",
      "#Variable declaration\n",
      "T=2673#T=temperature in Kelvin\n",
      "dT=10.#dT=change in temperature in Kelvin\n",
      "Ew=4.54#Ew=work function in eV\n",
      "e=1.6*10**(-19)#e=charge of anelectron in C\n",
      "kB=1.38*10**(-23)#kB=Boltzmann's constant in J/K\n",
      "\n",
      "#Calculations&Results\n",
      "#I=(S*A*(T^2))*exp(-((e*Ew)/(kB*T))#I=emission current,S=surface area of the filament,dI=change in emission current\n",
      "d=((2*dT)/T)+(((e*Ew)/(kB*(T**2))*dT))#d=change in emission current\n",
      "print \"d=%.4f\"%d\n",
      "d*100#percent change in emission current\n",
      "print \"d*100=%.2f %%\"%(d*100)"
     ],
     "language": "python",
     "metadata": {},
     "outputs": [
      {
       "output_type": "stream",
       "stream": "stdout",
       "text": [
        "d=0.0812\n",
        "d*100=8.12 %\n"
       ]
      }
     ],
     "prompt_number": 9
    },
    {
     "cell_type": "heading",
     "level": 2,
     "metadata": {},
     "source": [
      "Example 3, Page 20"
     ]
    },
    {
     "cell_type": "code",
     "collapsed": false,
     "input": [
      "import math\n",
      "\n",
      "#Variable declaration\n",
      "kB=1.38*10**(-23)#kB=Boltzmann's constant in J/K\n",
      "#A=6.02*(10**5)#A=thermionic emission constant in A(m^(-2))(K^(-2))\n",
      "#Ew1,Ew2=thermionic work function of 2 emitters in eV\n",
      "e=1.6*10**(-19)#e=charge of anelectron in C\n",
      "T=2000#T=temperature in Kelvin\n",
      "\n",
      "#Calculations&Results\n",
      "#Jx1=A*(T^2)*exp(-(a/(kB*T)))#Jx=emission current density in A/m^(2)\n",
      "#Jx2=A*(T^2)*exp(-(b/(kB*T)))\n",
      "#(Jx1/Jx2)=2\n",
      "#(Jx1/Jx2)=exp((Ew2-Ew1)/(kB*T))\n",
      "#exp((Ew2-Ew1)/(kB*T))=2\n",
      "d=(kB*T*math.log(2))#d=(Ew2-Ew1)=difference in thermionic work functions of 2 emitters\n",
      "print \"d=%.3e J\"%d\n",
      "d/e\n",
      "print \"d/e=%.4f eV\"%(d/e)"
     ],
     "language": "python",
     "metadata": {},
     "outputs": [
      {
       "output_type": "stream",
       "stream": "stdout",
       "text": [
        "d=1.913e-20 J\n",
        "d/e=0.1196 eV\n"
       ]
      }
     ],
     "prompt_number": 12
    },
    {
     "cell_type": "heading",
     "level": 2,
     "metadata": {},
     "source": [
      "Example 4, Page 20"
     ]
    },
    {
     "cell_type": "code",
     "collapsed": false,
     "input": [
      "#Variable declaration\n",
      "#Ia=(K*(Va^(3/2)));Ia=space charge limited current ,Va=anode voltage,K=proportionality constant\n",
      "Ia1=300#Ia1=space charge limited current of 1st anode in A\n",
      "Ia2=200.#Ia2=space charge limited current of 2nd anode in A\n",
      "Va1=200#Va=anode voltage of 1st anode in V\n",
      "\n",
      "#Calculations\n",
      "Va2=(Va1*((Ia2/Ia1)**(2./3)))#Va2=anode voltage of 2nd anode in V\n",
      "\n",
      "#Result\n",
      "print \"Va2=%.2f V\"%Va2"
     ],
     "language": "python",
     "metadata": {},
     "outputs": [
      {
       "output_type": "stream",
       "stream": "stdout",
       "text": [
        "Va2=152.63 V\n"
       ]
      }
     ],
     "prompt_number": 13
    }
   ],
   "metadata": {}
  }
 ]
}