{
 "metadata": {
  "name": ""
 },
 "nbformat": 3,
 "nbformat_minor": 0,
 "worksheets": [
  {
   "cells": [
    {
     "cell_type": "heading",
     "level": 1,
     "metadata": {},
     "source": [
      "Chapter 4: Metal Semiconductors Contacts"
     ]
    },
    {
     "cell_type": "heading",
     "level": 2,
     "metadata": {},
     "source": [
      "Example 1, Page 57"
     ]
    },
    {
     "cell_type": "code",
     "collapsed": false,
     "input": [
      "#Variable declaration\n",
      "Qm=4.55#Qm=work function of tungsten in eV\n",
      "X=4.01#X=electron affinity of silicon in eV\n",
      "\n",
      "#Calculations&Results\n",
      "eQb=(Qm-X)#eQb=barrier height as seen from the metal\n",
      "print \"eQb=%.2f eV\"%eQb\n",
      "a=0.21#a=(Ec-Ef)=forbidden gap in eV\n",
      "eVbi=eQb-a#eVbi=barrier height from semiconductor side\n",
      "print \"eVbi=%.2f eV\"%eVbi\n",
      "Es=11.7*8.854*(10**-12)#Es=permittivity of semiconductor;11.7=dielectric constant of silicon\n",
      "e=1.6*10**(-19)#e=charge of an electron\n",
      "Nd=10**22#Nd=donor concentration in m^-3\n",
      "W=((2*Es*eVbi)/(e*Nd))**(1./2)#W=width of the depletion region\n",
      "print \"W=%.3e m\"%W\n",
      "Fm=((e*Nd*W)/Es)#Fm=maximum electric field in V/m\n",
      "print \"Fm= %.1e V/m\"%Fm"
     ],
     "language": "python",
     "metadata": {},
     "outputs": [
      {
       "output_type": "stream",
       "stream": "stdout",
       "text": [
        "eQb=0.54 eV\n",
        "eVbi=0.33 eV\n",
        "W=2.067e-07 m\n",
        "Fm= 3.2e+06 V/m\n"
       ]
      }
     ],
     "prompt_number": 2
    },
    {
     "cell_type": "heading",
     "level": 2,
     "metadata": {},
     "source": [
      "Example 2, Page 58"
     ]
    },
    {
     "cell_type": "code",
     "collapsed": false,
     "input": [
      "#Variable declaration\n",
      "# as per given data barrier height =Vbi=intercept on Vr axis=0.4 V\n",
      "Es=11.7*8.854*(10**-12)#Es=permittivity of semiconductor;11.7=dielectric constant of silicon\n",
      "e=1.6*10**(-19)#e=charge of an electron\n",
      "m=4.4*10**(15)#m=slope of (1/C^2) vs Vr plot of a Schottky contact in(cm^4)(F^-2)(V^-1)\n",
      "\n",
      "#Calculations\n",
      "#m=2/(e*Es*Nd)\n",
      "Nd=(2*10**8)/(e*Es*m)#Nd=donor concentration in silicon in m^-3\n",
      "\n",
      "#Result\n",
      "print \"Nd = %.2e m**-3\"%Nd"
     ],
     "language": "python",
     "metadata": {},
     "outputs": [
      {
       "output_type": "stream",
       "stream": "stdout",
       "text": [
        "Nd = 2.74e+21 m**-3\n"
       ]
      }
     ],
     "prompt_number": 4
    },
    {
     "cell_type": "heading",
     "level": 2,
     "metadata": {},
     "source": [
      "Example 3, Page 58"
     ]
    },
    {
     "cell_type": "code",
     "collapsed": false,
     "input": [
      "import math\n",
      "\n",
      "#Variable declaration\n",
      "e=1.6*10**-19#e=charge of an electron in C\n",
      "Fa=7.*10**6#Fa=reverse bias field in V/m\n",
      "\n",
      "#Calculations&Results\n",
      "Es=13.1*8.854*10**-12#(Es/Eo)=13.1;Eo=8.854*10^-12\n",
      "dQ=((e*Fa)/(4*math.pi*Es))**(1./2)#dQ=barrier lowering in V \n",
      "print \"dQ= %.4f V\"%dQ\n",
      "Xm=(dQ)/(2*Fa)#Xm=position of the maximum barrier height\n",
      "print \"Xm= %.2e m\"%Xm"
     ],
     "language": "python",
     "metadata": {},
     "outputs": [
      {
       "output_type": "stream",
       "stream": "stdout",
       "text": [
        "dQ= 0.0277 V\n",
        "Xm= 1.98e-09 m\n"
       ]
      }
     ],
     "prompt_number": 8
    },
    {
     "cell_type": "heading",
     "level": 2,
     "metadata": {},
     "source": [
      "Example 4, Page 58"
     ]
    },
    {
     "cell_type": "code",
     "collapsed": false,
     "input": [
      "import math\n",
      "\n",
      "#Variable declaration\n",
      "#Js=A*(T**2)*math.exp(-((e*Qbn)/(kB*T)))\n",
      "kB=1.38*10**(-23)#kB=Boltzmann's constant in J/K\n",
      "T=300#T=temperature in Kelvin\n",
      "e=1.6*10**-19#e=charge of an electron in C\n",
      "Js=6*10**-5#Js=emission current density in A/cm^2\n",
      "\n",
      "#Calculations\n",
      "Qbn=0.668#Qbn=barrier height in V\n",
      "A=(Js/(T**2))*math.exp((e*Qbn)/(kB*T))#A=Richardson constant\n",
      "\n",
      "#Result\n",
      "print \"A=%.1f (cm^-2)(K^-2)\"%A"
     ],
     "language": "python",
     "metadata": {},
     "outputs": [
      {
       "output_type": "stream",
       "stream": "stdout",
       "text": [
        "A=108.6 (cm^-2)(K^-2)\n"
       ]
      }
     ],
     "prompt_number": 10
    },
    {
     "cell_type": "heading",
     "level": 2,
     "metadata": {},
     "source": [
      "Example 5, Page 58"
     ]
    },
    {
     "cell_type": "code",
     "collapsed": false,
     "input": [
      "import math\n",
      "\n",
      "#Variable declaration\n",
      "e=1.6*10**-19#e=charge of an electron in C\n",
      "V=0.32#V =applied forward bias in V\n",
      "kB=1.38*10**(-23)#kB=Boltzmann's constant in J/K\n",
      "T=300#T=Temperature in Kelvin\n",
      "Js=0.61#Js=reverse saturation current density in A/m^2\n",
      "\n",
      "#Calculations&Results\n",
      "J=Js*(math.exp((e*V)/(kB*T))-1)#J=current density in A/m^2\n",
      "print \"J=%.2e A/m^2\"%J\n",
      "A=4*10**-8#A=cross sectional area in m^2\n",
      "I=(J*A)*10**3#I=current\n",
      "print \"I=%.2f mA\"%I"
     ],
     "language": "python",
     "metadata": {},
     "outputs": [
      {
       "output_type": "stream",
       "stream": "stdout",
       "text": [
        "J=1.43e+05 A/m^2\n",
        "I=5.73 mA\n"
       ]
      }
     ],
     "prompt_number": 12
    }
   ],
   "metadata": {}
  }
 ]
}