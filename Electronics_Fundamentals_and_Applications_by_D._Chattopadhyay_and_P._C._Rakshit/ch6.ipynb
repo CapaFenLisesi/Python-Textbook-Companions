{
 "metadata": {
  "name": ""
 },
 "nbformat": 3,
 "nbformat_minor": 0,
 "worksheets": [
  {
   "cells": [
    {
     "cell_type": "heading",
     "level": 1,
     "metadata": {},
     "source": [
      "Chapter 6: Diode Circuits"
     ]
    },
    {
     "cell_type": "heading",
     "level": 2,
     "metadata": {},
     "source": [
      "Example 1, Page 114"
     ]
    },
    {
     "cell_type": "code",
     "collapsed": false,
     "input": [
      "import math\n",
      "\n",
      "#variable declaration\n",
      "Vrms=20;    #in volts\n",
      "Vm=20*1.41; #in volts\n",
      "Rf=50.;  #forward resistance in ohms\n",
      "RL=1200;    #load resistance in ohms\n",
      "\n",
      "#Calculations&Results\n",
      "Im=Vm/(Rf+RL);  #peak load current\n",
      "print'Im=%.4f A'%Im\n",
      "\n",
      "Idc=Im/math.pi;     #dc load current\n",
      "print 'Idc=%.2e A'%Idc\n",
      "\n",
      "Irms=Im/2;#rms load current\n",
      "Irms1=math.sqrt((Irms**2)-(Idc**2))#rms ac load current\n",
      "print 'rms ac load current is=%.3e A'%Irms1\n",
      "\n",
      "Vdc=Idc*Rf;     #Dc voltage across the diode\n",
      "print 'Dc voltage across the diode=%.4f V'%Vdc\n",
      "\n",
      "Pdc=Idc*Idc*RL;     #Dc output power\n",
      "print 'Dc output power=%.3f W'%Pdc\n",
      "\n",
      "n=40.6/(1+(Rf/RL));     #conversion efficiency\n",
      "print 'conversion efficiency=%.f %%'%n\n",
      "\n",
      "s=Rf*100/RL;        #Pertcentage regulation\n",
      "print 'Percentage regulation=%.2f %%'%s"
     ],
     "language": "python",
     "metadata": {},
     "outputs": [
      {
       "output_type": "stream",
       "stream": "stdout",
       "text": [
        "Im=0.0226 A\n",
        "Idc=7.18e-03 A\n",
        "rms ac load current is=8.699e-03 A\n",
        "Dc voltage across the diode=0.3591 V\n",
        "Dc output power=0.062 W\n",
        "conversion efficiency=39 %\n",
        "Percentage regulation=4.17 %\n"
       ]
      }
     ],
     "prompt_number": 2
    },
    {
     "cell_type": "heading",
     "level": 2,
     "metadata": {},
     "source": [
      "Example 2, Page 114"
     ]
    },
    {
     "cell_type": "code",
     "collapsed": false,
     "input": [
      "import math\n",
      "\n",
      "#variable declaration\n",
      "Rf=100; #forward resistance in ohms\n",
      "Rl=1000.; #load resistance in ohms\n",
      "n=10;   #Primary to secondary turns ratio\n",
      "Vp=240; #Primary input V(rms)\n",
      "\n",
      "#Calculations&Results\n",
      "Vm=24*(2**(1./2))/2;   #secondary peak voltage from cenre tap\n",
      "Vs=Vp/n;    #Secondary input voltage\n",
      "Im=Vm/(Rf+Rl);  #peak current through the resistance in A\n",
      "Idc=(2*Im)/math.pi;  #DC Load current in A\n",
      "print 'DC load current Idc=%.2e A'%Idc\n",
      "I=Idc/2;    #Direct current supplied by each diode in A\n",
      "print 'Direct current supplied by each diode Idc=%.2e A'%I\n",
      "Pdc=Idc*Idc*Rl; #DC power output\n",
      "print 'Pdc=%.4f W'%Pdc\n",
      "Irms=Im/(2**(1./2));\n",
      "Vrp=math.sqrt((Irms*Irms)-(Idc*Idc))*Rl;   #Ripple voltage in V\n",
      "print 'Ripple voltage Vrp=%.2f V'%Vrp\n",
      "M=(Rf*100)/Rl;    #percentage regulation\n",
      "print 'Percentage regulation=%.f %%'%M\n",
      "n=81.2/(1+(Rf/Rl));  #Efficiency of rectification\n",
      "print 'Efficiency of rectification=%.1f %%'%n"
     ],
     "language": "python",
     "metadata": {},
     "outputs": [
      {
       "output_type": "stream",
       "stream": "stdout",
       "text": [
        "DC load current Idc=9.82e-03 A\n",
        "Direct current supplied by each diode Idc=4.91e-03 A\n",
        "Pdc=0.0965 W\n",
        "Ripple voltage Vrp=4.75 V\n",
        "Percentage regulation=10 %\n",
        "Efficiency of rectification=73.8 %\n"
       ]
      }
     ],
     "prompt_number": 4
    },
    {
     "cell_type": "heading",
     "level": 2,
     "metadata": {},
     "source": [
      "Example 3, Page 115"
     ]
    },
    {
     "cell_type": "code",
     "collapsed": false,
     "input": [
      "import math\n",
      "\n",
      "#variable declaration\n",
      "Rf=50.;  #forward resistance in ohms\n",
      "Rl=2500; #load resistance in ohms\n",
      "Vp=30;   #Primary input V(rms)\n",
      "Vm=30*math.sqrt(2);\n",
      "\n",
      "#Calculations&Results\n",
      "Im=Vm/(2*Rf+Rl);    #peak load current in A\n",
      "Idc=2*Im/math.pi;\n",
      "Vdc=Idc*Rl;     #DC load voltage\n",
      "print 'Vdc=%.f V'%Vdc\n",
      "Irms=Im/math.sqrt(2);\n",
      "Vrp=Rl*math.sqrt(((Irms*Irms)-(Idc*Idc)));   #Ripple voltage in V\n",
      "print 'Ripple voltage Vrp=%.1f V'%Vrp\n",
      "\n",
      "M=(2*Rf/Rl)*100;    #Percentage regulation\n",
      "print 'Percentage regulation=%.f %%'%M"
     ],
     "language": "python",
     "metadata": {},
     "outputs": [
      {
       "output_type": "stream",
       "stream": "stdout",
       "text": [
        "Vdc=26 V\n",
        "Ripple voltage Vrp=12.6 V\n",
        "Percentage regulation=4 %\n"
       ]
      }
     ],
     "prompt_number": 6
    },
    {
     "cell_type": "heading",
     "level": 2,
     "metadata": {},
     "source": [
      "Example 4, Page 115"
     ]
    },
    {
     "cell_type": "code",
     "collapsed": false,
     "input": [
      "import math\n",
      "\n",
      "#variable declaration\n",
      "Vdc=20;  #DC value in V\n",
      "Vpp=1.;  #Peak to peak ripple voltage in V\n",
      "\n",
      "#Calculations&Results\n",
      "Vp=Vpp/2;   #Peak ripple voltage in V\n",
      "Vrms=Vp/math.sqrt(2);    #Vrms voltage in V\n",
      "S=Vrms/Vdc;     #Ripple Factor\n",
      "print 'Ripple factor=%.4f'%S\n",
      "T=S*100;\n",
      "print 'Percentage Ripple=%.2f %%'%T"
     ],
     "language": "python",
     "metadata": {},
     "outputs": [
      {
       "output_type": "stream",
       "stream": "stdout",
       "text": [
        "Ripple factor=0.0177\n",
        "Percentage Ripple=1.77 %\n"
       ]
      }
     ],
     "prompt_number": 9
    },
    {
     "cell_type": "heading",
     "level": 2,
     "metadata": {},
     "source": [
      "Example 5, Page 116"
     ]
    },
    {
     "cell_type": "code",
     "collapsed": false,
     "input": [
      "import math\n",
      "\n",
      "#variable declaration\n",
      "#For a full wave rectifier \n",
      "#L-type LC filter\n",
      "f=50#f=line frequency in Hz\n",
      "w=2*math.pi*f\n",
      "Vdc=10#Vdc=dc output voltage\n",
      "Idc=100*10**-3#Idc=load current in Amperes\n",
      "y=0.02#y=allowable ripple factor\n",
      "\n",
      "#Calculations\n",
      "#y=sqrt(2)/(12*(w^2)*L*C)\n",
      "#Let L*C=a...............(1)\n",
      "a=math.sqrt(2)/(y*12*(w**2))\n",
      "RL=Vdc/Idc#RL=load resistance\n",
      "#Lc=critical inductance \n",
      "#Lc=RL/(3*w)\n",
      "#For line frequency of 50Hz,Lc=RL/(300*%pi)\n",
      "#Lc=RL/950\n",
      "Lc=RL/950\n",
      "L=0.1#Assumed inductance in henry\n",
      "C=a/L#C=capacitance calculated from equation (1)\n",
      "L1=1#Assumed inductance in henry\n",
      "C1=a/L1#C1=capacitance calculated from equation (1)\n",
      "Rb=950*L1#Rb=bleeder resistance for good voltage regulation\n",
      "\n",
      "#Results\n",
      "print \"The designed values of the components for a full wave rectifier with L-type LC filter are:\"\n",
      "print \"The load resistance RL is =%.f ohm\"%RL\n",
      "print \"The critical inductance Lc is = %.1f H\"%Lc\n",
      "print \"The inductance L is=%.1f H\"%L\n",
      "print \"The capacitance C is %.f \u00b5F\"%(C/10**-6)#C is converted in terms of microfarad\n",
      "#In textbook 957\u00b5F is approximately taken as 600\u00b5F\n",
      "print \"\\nBut if the inductance L designed is of the value = %.f H\"%L1\n",
      "print \"the capacitance C will be of the value = %.f \u00b5F\"%(C1/10**-6)#C1 is converted in terms of microfarad\n",
      "print \"So,a standard value of 50\u00b5F can be used in practice\"\n",
      "print \"The bleeder resistance Rb for good voltage regulation is=%.f ohm\"%Rb\n",
      "print \"\\nAs Rb is much greater than RL,little power is wasted in Rb.This reflects the advantage of selecting L>Lc\"\n",
      "\n"
     ],
     "language": "python",
     "metadata": {},
     "outputs": [
      {
       "output_type": "stream",
       "stream": "stdout",
       "text": [
        "The designed values of the components for a full wave rectifier with L-type LC filter are:\n",
        "The load resistance RL is =100 ohm\n",
        "The critical inductance Lc is = 0.1 H\n",
        "The inductance L is=0.1 H\n",
        "The capacitance C is 597 \u00b5F\n",
        "\n",
        "But if the inductance L designed is of the value = 1 H\n",
        "the capacitance C will be of the value = 60 \u00b5F\n",
        "So,a standard value of 50\u00b5F can be used in practice\n",
        "The bleeder resistance Rb for good voltage regulation is=950 ohm\n",
        "\n",
        "As Rb is much greater than RL,little power is wasted in Rb.This reflects the advantage of selecting L>Lc\n"
       ]
      }
     ],
     "prompt_number": 11
    }
   ],
   "metadata": {}
  }
 ]
}