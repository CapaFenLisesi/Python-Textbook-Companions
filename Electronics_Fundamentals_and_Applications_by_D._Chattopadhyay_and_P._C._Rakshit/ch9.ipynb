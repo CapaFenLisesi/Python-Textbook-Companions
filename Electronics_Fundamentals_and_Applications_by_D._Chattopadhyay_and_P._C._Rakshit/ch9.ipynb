{
 "metadata": {
  "name": ""
 },
 "nbformat": 3,
 "nbformat_minor": 0,
 "worksheets": [
  {
   "cells": [
    {
     "cell_type": "heading",
     "level": 1,
     "metadata": {},
     "source": [
      "Chapter 9: Basic Voltage and Power Amplifiers"
     ]
    },
    {
     "cell_type": "heading",
     "level": 2,
     "metadata": {},
     "source": [
      "Example 1, Page 214"
     ]
    },
    {
     "cell_type": "code",
     "collapsed": false,
     "input": [
      "import math\n",
      "\n",
      "#Variable declaration\n",
      "AVm=120#AVm=mid-band gain of an RC-coupled amplifier\n",
      "fm=100#fm=frequency in Hz corresponding to the mid-band gain\n",
      "AVl=60#AVl=reduced gain\n",
      "AVh=AVl\n",
      "f=100*10**3#f=frequency in Hz corresponding to the reduced gain\n",
      "\n",
      "#Calculations&Results\n",
      "#|AVl|=(|AVm|)/sqrt(1+(fl/fm)^2) where fl=lower half power frequency\n",
      "fl=math.sqrt((abs(AVm)/abs(AVl))**2 -1)*fm\n",
      "print \"The lower half-power frequency is = %.1f Hz\"%fl\n",
      "#|AVh|=(|AVm|)/sqrt(1+(f/fh)^2) where fh=upper half power frequency\n",
      "fh=f/math.sqrt((abs(AVm)/abs(AVh))**2 -1)\n",
      "print \"The upper half-power frequency is = %.1f KHz\"%(fh/10**3)#fh is converted in terms of kHz"
     ],
     "language": "python",
     "metadata": {},
     "outputs": [
      {
       "output_type": "stream",
       "stream": "stdout",
       "text": [
        "The lower half-power frequency is = 173.2 Hz\n",
        "The upper half-power frequency is = 57.7 KHz\n"
       ]
      }
     ],
     "prompt_number": 2
    },
    {
     "cell_type": "heading",
     "level": 2,
     "metadata": {},
     "source": [
      "Example 2, Page 215"
     ]
    },
    {
     "cell_type": "code",
     "collapsed": false,
     "input": [
      "import math\n",
      "\n",
      "#Variable declaration\n",
      "#For two identical transistors employed by an RC-coupled amplifier\n",
      "hfe=100.#hfe=current gain\n",
      "hie=2*10**3#hie=input impedance in ohm\n",
      "Cob=2.0*10**-12#Cob=capacitance in farad quoted by the transistor manufacturers\n",
      "C=0.4*10**-6#C=coupling capacitance in farad\n",
      "RL=8*10**3#RL=load resistance in ohms for each transistor\n",
      "CW=10*10**-12#CW=wiring capacitance in farad\n",
      "\n",
      "#Calculations&Results\n",
      "fl=1./(2*math.pi*C*(hie+RL))#fl=lower half power frequency\n",
      "print \"The lower half-power frequency is = %.1f Hz\"%fl\n",
      "hfb=-hfe/(1+hfe)#hfb=current gain for common base transistor\n",
      "Coc=Cob/(1+hfb)#Coc=transistor collector capacitance in farad\n",
      "Cs=Coc+CW#Cs=shunt capacitance in farad\n",
      "Ro=(hie*RL)/(hie+RL)#Ro=equivalent resistance of the parallel combination of hie and RL\n",
      "fh=1/(2*math.pi*Cs*Ro)#fh=upper half power frequency\n",
      "print \"The upper half-power frequency is = %.f KHz\"%(fh/10**3)#fh is converted in terms of kHz"
     ],
     "language": "python",
     "metadata": {},
     "outputs": [
      {
       "output_type": "stream",
       "stream": "stdout",
       "text": [
        "The lower half-power frequency is = 39.8 Hz\n",
        "The upper half-power frequency is = 469 KHz\n"
       ]
      }
     ],
     "prompt_number": 4
    },
    {
     "cell_type": "heading",
     "level": 2,
     "metadata": {},
     "source": [
      "Example 3, Page 215"
     ]
    },
    {
     "cell_type": "code",
     "collapsed": false,
     "input": [
      "import math\n",
      "\n",
      "#Variable declaration\n",
      "#AVm=mid-band gain of an RC-coupled amplifier\n",
      "fm=60#fm=frequency in Hz corresponding to the mid-band gain\n",
      "#AVl=reduced gain\n",
      "#AVh=AVl\n",
      "f=600*10**3#f=frequency in Hz corresponding to the reduced gain\n",
      "fl=30.#fl=The lower half-power frequency in Hz\n",
      "fh=300*10**3#fh=The upper half-power frequency in Hz\n",
      "\n",
      "#Calculations&Results\n",
      "#|AVl|=(|AVm|)/sqrt(1+(fl/fm)**2)\n",
      "#Suppose (AVl/AVm)=a=low frequency gain with respect to the mid frequency gain\n",
      "#a=1/math.sqrt(1+(fl/fm)**2)#a=magnitude of the low frequency gain\n",
      "a=1./math.sqrt(1+(fl/fm)**2)\n",
      "o=math.degrees(math.atan(fl/fm))#o=phase angle in degree of the low frequency gain\n",
      "print \"For the low frequency gain with respect to the mid frequency gain\"\n",
      "print \"Magnitude=%.3f\"%a\n",
      "print \"Phase angle=%.1f degree\"%o\n",
      "#|AVh|=(|AVm|)/sqrt(1+(f/fh)**2)\n",
      "#Suppose (AVh/AVm)=b=high frequency gain with respect to the mid frequency gain\n",
      "#b=1/sqrt(1+(f/fh)**2)#b=magnitude of the high frequency gain\n",
      "b=1./math.sqrt(1+(f/fh)**2)\n",
      "O=-math.degrees(math.atan(f/fh))#O=phase angle in degree of the high frequency gain\n",
      "print \"\\nFor the high frequency gain with respect to the mid frequency gain \"\n",
      "print \"Magnitude=%.3f\"%b\n",
      "print \"Phase angle=%.1f degree\"%O\n"
     ],
     "language": "python",
     "metadata": {},
     "outputs": [
      {
       "output_type": "stream",
       "stream": "stdout",
       "text": [
        "For the low frequency gain with respect to the mid frequency gain\n",
        "Magnitude=0.894\n",
        "Phase angle=26.6 degree\n",
        "\n",
        "For the high frequency gain with respect to the mid frequency gain \n",
        "Magnitude=0.447\n",
        "Phase angle=-63.4 degree\n"
       ]
      }
     ],
     "prompt_number": 10
    },
    {
     "cell_type": "heading",
     "level": 2,
     "metadata": {},
     "source": [
      "Example 4, Page 216"
     ]
    },
    {
     "cell_type": "code",
     "collapsed": false,
     "input": [
      "#Variable declaration\n",
      "#In a CE class A power amplifier\n",
      "RL=12#RL=load resistance in ohms\n",
      "n=8#n=primary-to-secondary turns ratio of a transformer\n",
      "\n",
      "#Calculations\n",
      "#Peak-to-peak swing of the signal current is 250mA\n",
      "Im=(250*10**-3)/2#Im=ac collector current in Ampere\n",
      "RL1=(n**2)*RL#RL1=RL'=resistance reflected to the primary for the resistance RL in presence of an ac signal\n",
      "#Pac=(1./2)*Vm*Im where Pac=ac output power\n",
      "#Pac=(1./2)*(Im**2)*RL1\n",
      "Pac=(1./2)*(Im**2)*RL1\n",
      "\n",
      "#Result\n",
      "print \"The output power is = %.f W\"%Pac"
     ],
     "language": "python",
     "metadata": {},
     "outputs": [
      {
       "output_type": "stream",
       "stream": "stdout",
       "text": [
        "The output power is = 6 W\n"
       ]
      }
     ],
     "prompt_number": 12
    },
    {
     "cell_type": "heading",
     "level": 2,
     "metadata": {},
     "source": [
      "Example 5, Page 216"
     ]
    },
    {
     "cell_type": "code",
     "collapsed": false,
     "input": [
      "#Variable declaration\n",
      "VCQ=6#VCQ=quiescent collector voltage\n",
      "ICQ=50*10**-3#ICQ=quiescent collector current\n",
      "VCmin=1\n",
      "VCmax=11.#VCmin,VCmax=output signal voltage variation\n",
      "ICmin=10*10**-3\n",
      "ICmax=90*10**-3#ICmin,ICmax=output signal current variation in Ampere\n",
      "\n",
      "#Calculations&Results\n",
      "Ps=VCQ*ICQ#Ps=dc input power to the transistor\n",
      "print \"The dc input power is = %.1f W\"%Ps\n",
      "Pac=(1./8)*(ICmax-ICmin)*(VCmax-VCmin)#Pac=ac output power delivered to the load\n",
      "print \"The ac output power is = %.1f W\"%Pac\n",
      "PT=(VCQ*ICQ)-Pac#PT=the collector dissipation\n",
      "print \"The collector dissipation is = %.1f W\"%PT\n",
      "n=(Pac/Ps)*100#n=the efficiency of the active device\n",
      "print \"The efficiency is = %.1f %%\"%n"
     ],
     "language": "python",
     "metadata": {},
     "outputs": [
      {
       "output_type": "stream",
       "stream": "stdout",
       "text": [
        "The dc input power is = 0.3 W\n",
        "The ac output power is = 0.1 W\n",
        "The collector dissipation is = 0.2 W\n",
        "The efficiency is = 33.3 %\n"
       ]
      }
     ],
     "prompt_number": 14
    },
    {
     "cell_type": "heading",
     "level": 2,
     "metadata": {},
     "source": [
      "Example 6, Page 216"
     ]
    },
    {
     "cell_type": "code",
     "collapsed": false,
     "input": [
      "import math\n",
      "\n",
      "#Variable declaration\n",
      "#In a class B push pull circuit\n",
      "#Transformer winding resistances are to be ignored\n",
      "n=3.#n=primary-to-secondary turns ratio of a transformer\n",
      "RL=9#RL=load resistance in ohms\n",
      "VCC=15#VCC=collector supply voltage\n",
      "\n",
      "#Calculations&Results\n",
      "RL1=((n/2)**2)*RL#RL1=reflected load resistance for one transistor\n",
      "Pactot=(VCC**2)/(2*RL1)#Pactot=maximum output power\n",
      "print \"The maximum output power is = %.2f W\"%Pactot\n",
      "Pstot=(2*VCC**2)/(math.pi*RL1)#Pstot=the maximum dc power supplied to the two transistors\n",
      "print \"The maximum dc power supplied is = %.2f W\"%Pstot\n",
      "n=(Pactot/Pstot)*100#n=efficiency\n",
      "print \"The efficiency is = %.1f %%\"%n"
     ],
     "language": "python",
     "metadata": {},
     "outputs": [
      {
       "output_type": "stream",
       "stream": "stdout",
       "text": [
        "The maximum output power is = 5.56 W\n",
        "The maximum dc power supplied is = 7.07 W\n",
        "The efficiency is = 78.5 %\n"
       ]
      }
     ],
     "prompt_number": 16
    },
    {
     "cell_type": "heading",
     "level": 2,
     "metadata": {},
     "source": [
      "Example 7, Page 217"
     ]
    },
    {
     "cell_type": "code",
     "collapsed": false,
     "input": [
      "import math\n",
      "\n",
      "#Variable declaration\n",
      "#In a single tuned amplifier\n",
      "L=120*10**-6#L=inductance in henry\n",
      "C=100*10**-12#C=capacitance in farad\n",
      "R=10#R=resistance in ohms\n",
      "hoe=50*10**-6#hoe=output impedance in mho(or S)\n",
      "hfe=100#hfe=current gain\n",
      "hie=2.5*10**3#hie=input impedance in ohm\n",
      "RT=10*10**3#RT=equivalent resistance of RB and Ri in parallel\n",
      "\n",
      "#Calculations&Results\n",
      "fo=1/(2*math.pi*math.sqrt(L*C))#fo=resonant frequency\n",
      "print \"The resonant frequency is = %.2f MHz\"%(fo/10**6)#fo is converted in terms of MHz\n",
      "Qo=(1./R)*math.sqrt(L/C)#Qo=Q-factor of the resonant frequency\n",
      "Ro=(Qo**2)*R#Ro=maximum impedance Zm\n",
      "Rp=1/(hoe+(1./Ro)+(1./RT))#Rp=equivalent resistance of the parallel combination of Ro,ro and RT\n",
      "Qe=(Qo*Rp)/Ro#Qe=effective Q-factor\n",
      "B=fo/Qe#B=bandwidth\n",
      "print \"The bandwidth is =%.1f KHz\"%(B/10**3)#B is converted in terms of kHz\n",
      "AVm=-(hfe*Rp)/hie#AVm=maximum voltage gain\n",
      "print \"The maximum voltage gain is = %.1f\"%AVm"
     ],
     "language": "python",
     "metadata": {},
     "outputs": [
      {
       "output_type": "stream",
       "stream": "stdout",
       "text": [
        "The resonant frequency is = 1.45 MHz\n",
        "The bandwidth is =252.0 KHz\n",
        "The maximum voltage gain is = -252.6\n"
       ]
      }
     ],
     "prompt_number": 19
    },
    {
     "cell_type": "heading",
     "level": 2,
     "metadata": {},
     "source": [
      "Example 8, Page 218"
     ]
    },
    {
     "cell_type": "code",
     "collapsed": false,
     "input": [
      "import math\n",
      "\n",
      "#Variable declaration\n",
      "V=10#V=voltage at frequency 5kHz\n",
      "Vr=7.07#Vr=voltage at frequency 25kHz\n",
      "\n",
      "#Calculations\n",
      "#x=10*log10(P/Pr) where x=change in decibel(dB) of power P from some standard power Pr\n",
      "#P=V^2/R=I^2*R \n",
      "#Also Pr=Vr^2/R=Ir^2*R\n",
      "#x=10*(log10(V/Vr))^2=20*log10(V/Vr)\n",
      "x=20*math.log10(V/Vr)#x=change in decibel(dB) of voltage V from some standard voltage Vr\n",
      "\n",
      "#Result\n",
      "print \"The decibel change in the output power level is = %.f dB\"%x"
     ],
     "language": "python",
     "metadata": {},
     "outputs": [
      {
       "output_type": "stream",
       "stream": "stdout",
       "text": [
        "The decibel change in the output power level is = 3 dB\n"
       ]
      }
     ],
     "prompt_number": 21
    },
    {
     "cell_type": "heading",
     "level": 2,
     "metadata": {},
     "source": [
      "Example 9, Page 218"
     ]
    },
    {
     "cell_type": "code",
     "collapsed": false,
     "input": [
      "import math\n",
      "\n",
      "#Variable declaration\n",
      "Vorms=2#Vorms=rms output voltage in the midband region of an amplifier\n",
      "Pa=42.#Pa=power gain in dB\n",
      "Pol=0.4#Pol=power output in W at the lower cut-off frequency 100Hz\n",
      "Ri=10**3#Ri=input resistance in ohms\n",
      "\n",
      "#Calculations&Results\n",
      "VOrms=2./math.sqrt(2)#VOrms=rms output voltage at 100Hz\n",
      "print \"1. The rms output voltage at 100Hz,which is the lower cutoff frequency,is = %.3f V\"%VOrms\n",
      "Po=2*Pol#Po=output power in the midband region\n",
      "print \"2. The output power in the midband region is = %.1f W\"%Po\n",
      "#Let Pi=input power\n",
      "#10*log10(Po/Pi)=Pa\n",
      "Pi=Po/(10**(Pa/10))\n",
      "#Pi=(Vi**2)/Ri where Vi=rms input voltage\n",
      "Vi=math.sqrt(Pi*Ri)\n",
      "print \"3. The rms input voltage is = %.3f V\"%Vi"
     ],
     "language": "python",
     "metadata": {},
     "outputs": [
      {
       "output_type": "stream",
       "stream": "stdout",
       "text": [
        "1. The rms output voltage at 100Hz,which is the lower cutoff frequency,is = 1.414 V\n",
        "2. The output power in the midband region is = 0.8 W\n",
        "3. The rms input voltage is = 0.225 V\n"
       ]
      }
     ],
     "prompt_number": 23
    }
   ],
   "metadata": {}
  }
 ]
}