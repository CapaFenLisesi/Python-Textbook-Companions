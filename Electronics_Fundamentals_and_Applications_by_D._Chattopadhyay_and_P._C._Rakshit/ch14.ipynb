{
 "metadata": {
  "name": ""
 },
 "nbformat": 3,
 "nbformat_minor": 0,
 "worksheets": [
  {
   "cells": [
    {
     "cell_type": "heading",
     "level": 1,
     "metadata": {},
     "source": [
      "Chapter 14: Integrated Circuits and Operational Amplifiers"
     ]
    },
    {
     "cell_type": "heading",
     "level": 2,
     "metadata": {},
     "source": [
      "Example 1, Page 351"
     ]
    },
    {
     "cell_type": "code",
     "collapsed": false,
     "input": [
      "#Variable declaration\n",
      "R1=1000.#R1=input resistance in ohms in the inverting amplifier circuit\n",
      "Rf=3*1000#Rf=feedback resistance in ohms\n",
      "v1=2#v1=input voltage in the inverting terminal of an amplifier circuit\n",
      "\n",
      "#Calculations&Results\n",
      "vo=-(Rf/R1)*v1#vo=output voltage\n",
      "print \"Output voltage is=%.f V\"%vo\n",
      "print \"Output voltage is negative as it is the circuit of inverting amplifier\"\n",
      "print \"Input resistance Rin=R1 is = %.f k ohm\"%(R1/1000)\n",
      "i=v1/R1#i=input current\n",
      "print \"The input currrent is = %.f mA\"%(i*1000)"
     ],
     "language": "python",
     "metadata": {},
     "outputs": [
      {
       "output_type": "stream",
       "stream": "stdout",
       "text": [
        "Output voltage is=-6 V\n",
        "Output voltage is negative as it is the circuit of inverting amplifier\n",
        "Input resistance Rin=R1 is = 1 k ohm\n",
        "The input currrent is = 2 mA\n"
       ]
      }
     ],
     "prompt_number": 2
    },
    {
     "cell_type": "heading",
     "level": 2,
     "metadata": {},
     "source": [
      "Example 2, Page 352"
     ]
    },
    {
     "cell_type": "code",
     "collapsed": false,
     "input": [
      "#Variable declaration\n",
      "R1=2*1000#R1=input resistance in ohms in the non-inverting amplifier circuit\n",
      "Rf=5.*1000#Rf=feedback resistance in ohms\n",
      "\n",
      "#Calculations\n",
      "AV=1+(Rf/R1)#AV=voltage gain of the non-inverting amplifier circuit\n",
      "\n",
      "#Result\n",
      "print \"The voltage gain of the given non-inverting amplifier circuit is = %.1f\"%AV"
     ],
     "language": "python",
     "metadata": {},
     "outputs": [
      {
       "output_type": "stream",
       "stream": "stdout",
       "text": [
        "The voltage gain of the given non-inverting amplifier circuit is = 3.5\n"
       ]
      }
     ],
     "prompt_number": 4
    },
    {
     "cell_type": "heading",
     "level": 2,
     "metadata": {},
     "source": [
      "Example 3, Page 352"
     ]
    },
    {
     "cell_type": "code",
     "collapsed": false,
     "input": [
      "#Variable declaration\n",
      "#First case\n",
      "v1=40.*10**-6#v1=voltage applied to the non-inverting input terminal\n",
      "v2=-40*10**-6#v2=voltage applied to the inverting input terminal\n",
      "vo=100*10**-3#vo=output voltage for the above inputs v1 and v2\n",
      "#Second case\n",
      "V1=40*10**-6#V1=voltage applied to the non-inverting input terminal\n",
      "V2=40*10**-6#V2=voltage applied to the inverting input terminal\n",
      "Vo=0.4*10**-3#Vo=output voltage for the above inputs V1 and V2\n",
      "\n",
      "#Calculations&Results\n",
      "print \"In first case:\"\n",
      "vd=v1-v2#vd=difference signal voltage\n",
      "print \"vd=%.f \u00b5V\"%(vd/10**-6)\n",
      "vc=(v1+v2)/2#vc=common mode signal voltage\n",
      "print \"vc=%.f \u00b5V\"%(vc/10**-6)\n",
      "#Output voltage is vo=(Ad*vd)+(Ac*vc) where Ad and Ac are the voltage gains for the difference signal and the common-mode signal,respectively\n",
      "Ad=vo/vd#Ad calculated in first case as common mode signal vc=0 \n",
      "print \"Voltage gain for the difference signal is Ad = %.f\"%Ad\n",
      "print \"\\nIn second case:\"\n",
      "Vd=V1-V2#Vd=difference signal voltage\n",
      "print \"Vd=%.f \u00b5V\"%(Vd/10**-6)\n",
      "Vc=(V1+V2)/2#Vc=common mode signal voltage\n",
      "print \"Vc=%.f \u00b5V\"%(Vc/10**-6)\n",
      "Ac=Vo/Vc#Ac calculated in second case as difference signal Vc=0 \n",
      "print \"Voltage gain for the common-mode signal is Ac = %.f\"%Ac\n",
      "CMRR=abs(Ad/Ac)#CMRR=Common Mode Rejection Ratio=|Ad/Ac|\n",
      "print \"Common Mode Rejection Ratio is CMRR=%.f\"%CMRR"
     ],
     "language": "python",
     "metadata": {},
     "outputs": [
      {
       "output_type": "stream",
       "stream": "stdout",
       "text": [
        "In first case:\n",
        "vd=80 \u00b5V\n",
        "vc=0 \u00b5V\n",
        "Voltage gain for the difference signal is Ad = 1250\n",
        "\n",
        "In second case:\n",
        "Vd=0 \u00b5V\n",
        "Vc=40 \u00b5V\n",
        "Voltage gain for the common-mode signal is Ac = 10\n",
        "Common Mode Rejection Ratio is CMRR=125\n"
       ]
      }
     ],
     "prompt_number": 6
    },
    {
     "cell_type": "heading",
     "level": 2,
     "metadata": {},
     "source": [
      "Example 4, Page 352"
     ]
    },
    {
     "cell_type": "code",
     "collapsed": false,
     "input": [
      "#Variable declaration\n",
      "R1=1*1000#R1=input resistance in ohms in the inverting terminal of the amplifier circuit\n",
      "R2=200#R2=input resistance in ohms in the inverting terminal of the amplifier circuit\n",
      "R3=400#R3=input resistance in ohms in the inverting terminal of the amplifier circuit\n",
      "Rf=500.#Rf=feedback resistance in ohms\n",
      "v1=-5#v1=input voltage in the inverting terminal of an amplifier circuit at R1 resistor\n",
      "v2=3#v2=input voltage in the inverting terminal of an amplifier circuit at R2 resistor\n",
      "v3=4#v3=input voltage in the inverting terminal of an amplifier circuit at R3 resistor\n",
      "\n",
      "#Calculations\n",
      "vo=-(((Rf/R1)*v1)+((Rf/R2)*v2)+((Rf/R3)*v3))#vo=output voltage for inverting summing summing amplifier circuit\n",
      "\n",
      "#Result\n",
      "print \"Output voltage of the 3-input summing amplifier circuit is = %.f V\"%vo\n",
      "print \"Output voltage is negative as it the circuit of inverting summing amplifier\"\n"
     ],
     "language": "python",
     "metadata": {},
     "outputs": [
      {
       "output_type": "stream",
       "stream": "stdout",
       "text": [
        "Output voltage of the 3-input summing amplifier circuit is = -10 V\n",
        "Output voltage is negative as it the circuit of inverting summing amplifier\n"
       ]
      }
     ],
     "prompt_number": 7
    },
    {
     "cell_type": "heading",
     "level": 2,
     "metadata": {},
     "source": [
      "Example 5, Page 353"
     ]
    },
    {
     "cell_type": "code",
     "collapsed": false,
     "input": [
      "import math\n",
      "\n",
      "#Variable declaration\n",
      "R1=1*1000#R1=input resistance in ohms in the inverting amplifier circuit\n",
      "Rf=50*1000#Rf=feedback resistance in ohms\n",
      "\n",
      "#Calculations&Results\n",
      "A=-(Rf/R1)#AV=voltage gain of the inverting amplifier circuit\n",
      "print \"The voltage gain of the given inverting amplifier circuit is = %.f\"%A\n",
      "#vin=0.5*sin(100*math.pi*t)\n",
      "#vout=A*vin=-50*0.5*sin(100*math.pi*t)=-25*sin(100*math.pi*t)\n",
      "print \"If the operation were entirely linear ,the output voltage would have been -25*sin(100*math.pi*t)\"\n",
      "print \"But since the voltage supply is +-12V ,the op-amp is saturated when |vout| attains 12V\"\n",
      "#Let at time t=to,vout=-12V \n",
      "#-12=-25*sin(100*math.pi*to)\n",
      "to=(1./(100*math.pi))*math.asin(12./25)\n",
      "print \"to=%.2e s\"%to\n",
      "print \"Thus over the entire cycle,\"\n",
      "print \"vout=-25*sin(100*math.pi*t) V when 0<=t<=to\"\n",
      "print \"vout=-12V when to<=t<=(0.01-to)\"\n",
      "print \"vout=-25*sin(100*math.pi*t) V when (0.01-to)<=t<=(0.01+to)\"\n",
      "print \"vout=+12V when (0.01+to)<=t<=(0.02-to)\"\n",
      "print \"vout=-25*sin(100*math.pi*t) V when (0.02-to)<=t<=0.02 seconds\""
     ],
     "language": "python",
     "metadata": {},
     "outputs": [
      {
       "output_type": "stream",
       "stream": "stdout",
       "text": [
        "The voltage gain of the given inverting amplifier circuit is = -50\n",
        "If the operation were entirely linear ,the output voltage would have been -25*sin(100*math.pi*t)\n",
        "But since the voltage supply is +-12V ,the op-amp is saturated when |vout| attains 12V\n",
        "to=1.59e-03 s\n",
        "Thus over the entire cycle,\n",
        "vout=-25*sin(100*math.pi*t) V when 0<=t<=to\n",
        "vout=-12V when to<=t<=(0.01-to)\n",
        "vout=-25*sin(100*math.pi*t) V when (0.01-to)<=t<=(0.01+to)\n",
        "vout=+12V when (0.01+to)<=t<=(0.02-to)\n",
        "vout=-25*sin(100*math.pi*t) V when (0.02-to)<=t<=0.02 seconds\n"
       ]
      }
     ],
     "prompt_number": 9
    },
    {
     "cell_type": "heading",
     "level": 2,
     "metadata": {},
     "source": [
      "Example 6, Page 353"
     ]
    },
    {
     "cell_type": "code",
     "collapsed": false,
     "input": [
      "#Variable declaration\n",
      "R=2.*1000#R=feedback resistance in ohms in the differentiator circuit\n",
      "C=0.01*10**-6#C=input capacitance in farad in the differentiator circuit\n",
      "\n",
      "#Calculations&Results\n",
      "#dvi/dt=1.5V/1ms for 0<t<1ms (given ramp input signal)\n",
      "#output voltage of a differentiator is given as vo=-RC(dvi/dt)\n",
      "d=1.5/(10**-3)#d=dvi/dt=1.5V/1ms\n",
      "vo=-R*C*d\n",
      "\n",
      "#Results\n",
      "print \"Output voltage of a differentiator is %.2f V\"%vo\n",
      "print \"Hence for <t<1 ms,vo=-0.03V=-30mV.Otherwise,vo=0V\""
     ],
     "language": "python",
     "metadata": {},
     "outputs": [
      {
       "output_type": "stream",
       "stream": "stdout",
       "text": [
        "Output voltage of a differentiator is -0.03 V\n",
        "Hence for <t<1 ms,vo=-0.03V=-30mV.Otherwise,vo=0V\n"
       ]
      }
     ],
     "prompt_number": 13
    },
    {
     "cell_type": "heading",
     "level": 2,
     "metadata": {},
     "source": [
      "Example 8, Page 354"
     ]
    },
    {
     "cell_type": "code",
     "collapsed": false,
     "input": [
      "#Variable declaration\n",
      "R1=5*1000#R1=input resistance in ohms in the given op-amp circuit\n",
      "Rf=10.*1000#Rf=feedback resistance in ohms\n",
      "vi=5#vi=input voltage at the inverting terminal of an op-amp\n",
      "V=4#V=voltage at the non-inverting terminal of an op-amp\n",
      "\n",
      "#Calculations\n",
      "#By applying superposition theorem \n",
      "Vo=((1+(Rf/R1))*V)+(-(Rf/R1)*vi)\n",
      "\n",
      "#Result\n",
      "print \"Output voltage Vo of the circuit is = %.f V\"%Vo"
     ],
     "language": "python",
     "metadata": {},
     "outputs": [
      {
       "output_type": "stream",
       "stream": "stdout",
       "text": [
        "Output voltage Vo of the circuit is = 2 V\n"
       ]
      }
     ],
     "prompt_number": 14
    },
    {
     "cell_type": "heading",
     "level": 2,
     "metadata": {},
     "source": [
      "Example 9, Page 355"
     ]
    },
    {
     "cell_type": "code",
     "collapsed": false,
     "input": [
      "#Variable declaration\n",
      "R1=10*1000#R1=resistance in ohms\n",
      "R2=100#R2=resistance in ohms\n",
      "R3=10*1000#R3=resistance in ohms\n",
      "R4=10*1000#R4=resistance in ohms\n",
      "R5=10*1000#R5=resistance in ohms\n",
      "\n",
      "#Calculations\n",
      "#Since the voltage gains of the OP AMPs are infinite,the voltages of the points X and Y in the given figure are V1 and V2 respectively\n",
      "#Applying Kirchhoff's current law at X\n",
      "#(V1/R1)+((V1-V)/R3)+((V1-V2)/R2)=0\n",
      "#Applying Kirchhoff's current law at Y\n",
      "#((V2-V)/R4)+((V2-V1)/R2)+((V2-Vo)/R5)=0\n",
      "#Eliminating V from the above equations\n",
      "#V2*((1/R2)+(1/R4)+(1/R5)+(R3/(R2*R4)))-V1*((1/R2)+(1/R4)+((R3/R4)*((1/R1)+(1/R2))))=Vo/R5\n",
      "#V2*R-V1*r=Vo/R5...................(1)\n",
      "R=((1./R2)+(1/R4)+(1/R5)+(R3/(R2*R4)))\n",
      "r=((1./R2)+(1/R4)+((R3/R4)*((1/R1)+(1/R2))))\n",
      "\n",
      "#Results\n",
      "print \"R=%.2f\"%R\n",
      "print \"r=%.2f\"%r\n",
      "#R=r from above calculation and its answer displayed\n",
      "#Hence from the above equation (1) A=Vo/(V1-V2)=-(R5*R)=-(R5*r)\n",
      "print \"Differential mode gain A=Vo/(V1-V2)=%.f\"%(-R5*r)"
     ],
     "language": "python",
     "metadata": {},
     "outputs": [
      {
       "output_type": "stream",
       "stream": "stdout",
       "text": [
        "R=0.01\n",
        "r=0.01\n",
        "Differential mode gain A=Vo/(V1-V2)=-100\n"
       ]
      }
     ],
     "prompt_number": 16
    }
   ],
   "metadata": {}
  }
 ]
}