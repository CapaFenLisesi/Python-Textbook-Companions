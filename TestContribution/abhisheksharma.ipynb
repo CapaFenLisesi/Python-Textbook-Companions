{
 "metadata": {
  "name": "",
  "signature": "sha256:54ccd26f8e7172369b740037968be286180ddfff5f2fc10ebe6be83fc34647f9"
 },
 "nbformat": 3,
 "nbformat_minor": 0,
 "worksheets": [
  {
   "cells": [
    {
     "cell_type": "heading",
     "level": 1,
     "metadata": {},
     "source": [
      "HF,VHF AND UHF ANTENNAS (CHAPTER 6)"
     ]
    },
    {
     "cell_type": "heading",
     "level": 2,
     "metadata": {},
     "source": [
      "EXAMPLE 6.1,PAGE NUMBER 278 "
     ]
    },
    {
     "cell_type": "code",
     "collapsed": false,
     "input": [
      "from math import pi,sin\n",
      "\n",
      "# Variable Declaration\n",
      "\n",
      "f = 30        # frequency in MHz\n",
      "f = 30*10**6  # frequency in Hz\n",
      "c = 3*10**8   # speed of light in m/s\n",
      "lamda = c/f   # wavelength in meter\n",
      "Delta = 30    # angle of elevation in Degrees\n",
      "\n",
      "#calculation\n",
      "\n",
      "H = lamda/(4 * sin(Delta*pi/180))     # Rhombic height in m\n",
      "l = lamda/(2 * sin(Delta*pi/180) **2) # wire length in m\n",
      "phi = 90-Delta # tilt angle in Degrees\n",
      "\n",
      "#Results\n",
      "\n",
      "print \"Rhombic height is:\",round(H,2),\"meter\"\n",
      "print \"Tilt angle is:\",round(phi,2),\"degrees\"\n",
      "print \"length of wire is:\",round(l,2),\"meter\"\n"
     ],
     "language": "python",
     "metadata": {},
     "outputs": [
      {
       "output_type": "stream",
       "stream": "stdout",
       "text": [
        "Rhombic height is: 5.0 meter\n",
        "Tilt angle is: 60.0 degrees\n",
        "length of wire is: 20.0 meter\n"
       ]
      }
     ],
     "prompt_number": 1
    },
    {
     "cell_type": "heading",
     "level": 2,
     "metadata": {},
     "source": [
      "EXAMPLE 6.2,PAGE NUMBER 278"
     ]
    },
    {
     "cell_type": "code",
     "collapsed": false,
     "input": [
      "from math import pi,sin\n",
      "\n",
      "\n",
      "# Variable Declaration\n",
      "\n",
      "f = 20        # frequency in MHz\n",
      "f = 20*10**6  # frequency in Hz\n",
      "c = 3*10**8   # speed of light in m/s\n",
      "lamda = c/f   # wavelength in meter\n",
      "\n",
      "#calculation\n",
      "\n",
      "Delta = 10    # angle of elevation in Degrees\n",
      "H = lamda/(4 * sin(Delta*pi/180))     # Rhombic height in m\n",
      "l = lamda/(2 * sin(Delta*pi/180) **2) # wire length in m\n",
      "phi = 90-Delta # tilt angle in Degrees\n",
      "\n",
      "#Results\n",
      "\n",
      "print \"Rhombic height is:\",round(H,3),\"meter\"\n",
      "print \"Tilt angle is:\",round(phi,2),\"degrees\"\n",
      "print \"length of wire is:\",round(l,3),\"meter\"\n"
     ],
     "language": "python",
     "metadata": {},
     "outputs": [
      {
       "output_type": "stream",
       "stream": "stdout",
       "text": [
        "Rhombic height is: 21.595 meter\n",
        "Tilt angle is: 80.0 degrees\n",
        "length of wire is: 248.726 meter\n"
       ]
      }
     ],
     "prompt_number": 2
    },
    {
     "cell_type": "heading",
     "level": 2,
     "metadata": {},
     "source": [
      "EXAMPLE 6.3,PAGE NUMBER 279-281"
     ]
    },
    {
     "cell_type": "code",
     "collapsed": false,
     "input": [
      "from math import pi,sin,cos\n",
      "\n",
      "\n",
      "\n",
      "# Variable Declaration\n",
      "\n",
      "f = 30        # frequency in MHz\n",
      "f = 30*10**6  # frequency in Hz\n",
      "c = 3*10**8   # speed of light in m/s\n",
      "lamda = c/f   # wavelength in meter\n",
      "\n",
      "#calculation and results:\n",
      "\n",
      "\n",
      "\n",
      "print \"for Delta = 10 degrees\"\n",
      "\n",
      "\n",
      "Delta1 = 10    # angle of elevation in Degrees\n",
      "H1 = lamda/(4 * sin(Delta1*pi/180))     # Rhombic height in m\n",
      "l1 = lamda/(2 * sin(Delta1*pi/180) **2) # wire length in m\n",
      "phi1 = 90-Delta1 # tilt angle in Degrees\n",
      "print \"Rhombic height is:\",round(H1,3),\"meter\"\n",
      "print \"Tilt angle is:\",round(phi1,2),\"degrees\"\n",
      "print \"length of wire is:\",round(l1,2),\"meter\"\n",
      "\n",
      "\n",
      "\n",
      "\n",
      "print \"for Delta = 15 degrees\"\n",
      "\n",
      "\n",
      "Delta2 = 15    # angle of elevation in Degrees\n",
      "H2 = lamda/(4 * sin(Delta2*pi/180))     # Rhombic height in m\n",
      "l2 = lamda/(2 * sin(Delta2*pi/180) **2) # wire length in m\n",
      "phi2 = 90-Delta2 # tilt angle in Degrees\n",
      "print \"Rhombic height is:\",round(H2,3),\"meter\"\n",
      "print \"Tilt angle is:\",round(phi2,2),\"degrees\"\n",
      "print \"length of wire is:\",round(l2,2),\"meter\"\n",
      "\n",
      "\n",
      "\n",
      "print \"for Delta = 20 degrees\"\n",
      "\n",
      "\n",
      "Delta3 = 20    # angle of elevation in Degrees\n",
      "H3 = lamda/(4 * sin(Delta3*pi/180))     # Rhombic height in m\n",
      "l3 = lamda/(2 * sin(Delta3*pi/180) **2) # wire length in m\n",
      "phi3 = 90-Delta3 # tilt angle in Degrees\n",
      "print \"Rhombic height is:\",round(H3,3),\"meter\"\n",
      "print \"Tilt angle is:\",round(phi3,2),\"degrees\"\n",
      "print \"length of wire is:\",round(l3,2),\"meter\"\n",
      "\n",
      "\n",
      "\n",
      "\n",
      "print \"for Delta = 25 degrees\"\n",
      "\n",
      "\n",
      "Delta4 = 25    # angle of elevation in Degrees\n",
      "H4 = lamda/(4 * sin(Delta4*pi/180))     # Rhombic height in m\n",
      "l4 = lamda/(2 * sin(Delta4*pi/180) **2) # wire length in m\n",
      "phi4 = 90-Delta4 # tilt angle in Degrees\n",
      "print \"Rhombic height is:\",round(H4,3),\"meter\"\n",
      "print \"Tilt angle is:\",round(phi4,2),\"degrees\"\n",
      "print \"length of wire is:\",round(l4,2),\"meter\"\n",
      "\n",
      "\n",
      "\n",
      "\n",
      "print \"for Delta = 30 degrees\"\n",
      "\n",
      "\n",
      "Delta5 = 30    # angle of elevation in Degrees\n",
      "H5 = lamda/(4 * sin(Delta5*pi/180))     # Rhombic height in m\n",
      "l5 = lamda/(2 * sin(Delta5*pi/180) **2) # wire length in m\n",
      "phi5 = 90-Delta5 # tilt angle in Degrees\n",
      "print \"Rhombic height is:\",round(H5,3),\"meter\"\n",
      "print \"Tilt angle is:\",round(phi5,2),\"degrees\"\n",
      "print \"length of wire is:\",round(l5,2),\"meter\"\n",
      "\n",
      "\n",
      "\n",
      "\n",
      "print \"for Delta = 35 degrees\"\n",
      "\n",
      "\n",
      "Delta6 = 35    # angle of elevation in Degrees\n",
      "H6 = lamda/(4 * sin(Delta6*pi/180))     # Rhombic height in m\n",
      "l6 = lamda/(2 * sin(Delta6*pi/180) **2) # wire length in m\n",
      "phi6 = 90-Delta6 # tilt angle in Degrees\n",
      "print \"Rhombic height is:\",round(H6,3),\"meter\"\n",
      "print \"Tilt angle is:\",round(phi6,2),\"degrees\"\n",
      "print \"length of wire is:\",round(l6,2),\"meter\"\n",
      "\n",
      "\n",
      "\n",
      "\n",
      "print \"for Delta = 40 degrees\"\n",
      "\n",
      "\n",
      "Delta7 = 40    # angle of elevation in Degrees\n",
      "H7 = lamda/(4 * sin(Delta7*pi/180))     # Rhombic height in m\n",
      "l7 = lamda/(2 * sin(Delta7*pi/180) **2) # wire length in m\n",
      "phi7 = 90-Delta7 # tilt angle in Degrees\n",
      "print \"Rhombic height is:\",round(H7,3),\"meter\"\n",
      "print \"Tilt angle is:\",round(phi7,2),\"degrees\"\n",
      "print \"length of wire is:\",round(l7,2),\"meter\"\n"
     ],
     "language": "python",
     "metadata": {},
     "outputs": [
      {
       "output_type": "stream",
       "stream": "stdout",
       "text": [
        "for Delta = 10 degrees\n",
        "Rhombic height is: 14.397 meter\n",
        "Tilt angle is: 80.0 degrees\n",
        "length of wire is: 165.82 meter\n",
        "for Delta = 15 degrees\n",
        "Rhombic height is: 9.659 meter\n",
        "Tilt angle is: 75.0 degrees\n",
        "length of wire is: 74.64 meter\n",
        "for Delta = 20 degrees\n",
        "Rhombic height is: 7.31 meter\n",
        "Tilt angle is: 70.0 degrees\n",
        "length of wire is: 42.74 meter\n",
        "for Delta = 25 degrees\n",
        "Rhombic height is: 5.916 meter\n",
        "Tilt angle is: 65.0 degrees\n",
        "length of wire is: 27.99 meter\n",
        "for Delta = 30 degrees\n",
        "Rhombic height is: 5.0 meter\n",
        "Tilt angle is: 60.0 degrees\n",
        "length of wire is: 20.0 meter\n",
        "for Delta = 35 degrees\n",
        "Rhombic height is: 4.359 meter\n",
        "Tilt angle is: 55.0 degrees\n",
        "length of wire is: 15.2 meter\n",
        "for Delta = 40 degrees\n",
        "Rhombic height is: 3.889 meter\n",
        "Tilt angle is: 50.0 degrees\n",
        "length of wire is: 12.1 meter\n"
       ]
      }
     ],
     "prompt_number": 3
    },
    {
     "cell_type": "heading",
     "level": 2,
     "metadata": {},
     "source": [
      "EXAMPLE 6.4,PAGE NUMBER 281"
     ]
    },
    {
     "cell_type": "code",
     "collapsed": false,
     "input": [
      "from math import pi,sin,cos\n",
      "\n",
      "\n",
      "\n",
      "# Variable Declaration\n",
      "\n",
      "f = 30        # frequency in MHz\n",
      "f = 30*10**6  # frequency in Hz\n",
      "c = 3*10**8   # speed of light in m/s\n",
      "lamda = c/f   # wavelength in meter\n",
      "Delta = 30    # angle of elevation in Degrees\n",
      "\n",
      "#calculation\n",
      "\n",
      "k = 0.74      # constant\n",
      "H = lamda/(4 * sin(Delta*pi/180))     # Rhombic height in m\n",
      "l = lamda/(2 * sin(Delta*pi/180) **2)*k # wire length in m\n",
      "phi = 90-Delta # tilt angle in Degrees\n",
      "\n",
      "#Results\n",
      "\n",
      "print \"Rhombic height is:\",round(H,2),\"meter\"\n",
      "print \"Tilt angle is:\",round(phi,2),\"degrees\"\n",
      "print \"length of wire is:\",round(l,2),\"meter\"\n"
     ],
     "language": "python",
     "metadata": {},
     "outputs": [
      {
       "output_type": "stream",
       "stream": "stdout",
       "text": [
        "Rhombic height is: 5.0 meter\n",
        "Tilt angle is: 60.0 degrees\n",
        "length of wire is: 14.8 meter\n"
       ]
      }
     ],
     "prompt_number": 4
    },
    {
     "cell_type": "heading",
     "level": 2,
     "metadata": {},
     "source": [
      "EXAMPLE 6.5,PAGE NUMBER 282"
     ]
    },
    {
     "cell_type": "code",
     "collapsed": false,
     "input": [
      "from math import pi,sin\n",
      "\n",
      "\n",
      "# Variable Declaration\n",
      "\n",
      "f = 20        # frequency in MHz\n",
      "f = 20*10**6  # frequency in Hz\n",
      "c = 3*10**8   # speed of light in m/s\n",
      "lamda = c/f   # wavelength in meter\n",
      "Delta = 20    # angle of elevation in Degrees\n",
      "k = 0.74      # constant\n",
      "\n",
      "#calculation\n",
      "\n",
      "H = lamda/(4 * sin(Delta*pi/180))     # Rhombic height in m\n",
      "l = lamda/(2 * sin(Delta*pi/180) **2)*k # wire length in m\n",
      "phi = 90-Delta # tilt angle in Degrees\n",
      "\n",
      "\n",
      "#Results\n",
      "\n",
      "\n",
      "print \"Rhombic height is:\",round(H,2),\"meter\"\n",
      "print \"Tilt angle is:\",round(phi,2),\"degrees\"\n",
      "print \"length of wire is:\",round(l,2),\"meter\"\n"
     ],
     "language": "python",
     "metadata": {},
     "outputs": [
      {
       "output_type": "stream",
       "stream": "stdout",
       "text": [
        "Rhombic height is: 10.96 meter\n",
        "Tilt angle is: 70.0 degrees\n",
        "length of wire is: 47.44 meter\n"
       ]
      }
     ],
     "prompt_number": 5
    },
    {
     "cell_type": "heading",
     "level": 2,
     "metadata": {},
     "source": [
      "EXAMPLE 6.6,PAGE NUMBER 282"
     ]
    },
    {
     "cell_type": "code",
     "collapsed": false,
     "input": [
      "from __future__ import division\n",
      "\n",
      "\n",
      "\n",
      "# Variable Declaration\n",
      "\n",
      "\n",
      "f_MHz = 172        # frequency in MHz\n",
      "c = 3*10**8        # speed of light in m/s\n",
      "\n",
      "#calculation\n",
      "\n",
      "lamda = c/f_MHz    # wavelength in m\n",
      "La = 478/f_MHz     # length of driven element in feet\n",
      "Lr = 492/f_MHz     # length of reflector in feet\n",
      "Ld = 461.5/f_MHz   # length of director in feet\n",
      "S = 142/f_MHz      # element spacing in feet\n",
      "\n",
      "\n",
      "#Results\n",
      "\n",
      "\n",
      "print \"length of driven element is:\", round(La,2),\"feet\"\n",
      "print \"length of reflector is:\", round(Lr,2),\"feet\"\n",
      "print \"length of director is:\", round(Ld,3),\"feet\"\n",
      "print \"element spacing is:\",round(S,3),\"feet\"\n"
     ],
     "language": "python",
     "metadata": {},
     "outputs": [
      {
       "output_type": "stream",
       "stream": "stdout",
       "text": [
        "length of driven element is: 2.78 feet\n",
        "length of reflector is: 2.86 feet\n",
        "length of director is: 2.683 feet\n",
        "element spacing is: 0.826 feet\n"
       ]
      }
     ],
     "prompt_number": 6
    },
    {
     "cell_type": "heading",
     "level": 2,
     "metadata": {},
     "source": [
      "EXAMPLE 6.7,PAGE NUMBER 283"
     ]
    },
    {
     "cell_type": "code",
     "collapsed": false,
     "input": [
      "from __future__ import division\n",
      "\n",
      "# Variable Declaration\n",
      "\n",
      "\n",
      "G = 12        # required gain in dB\n",
      "f = 200       # frequency in MHz \n",
      "f = 200*10**6  # frequency in Hz\n",
      "c = 3*10**8    # speed of light in m/s\n",
      "\n",
      "#calculations\n",
      "\n",
      "\n",
      "lamda = c/f   # wavelength in m\n",
      "La = 0.46*lamda   # length of driven element in m    (note: in book La is given 0.416*lamda misprint)\n",
      "Lr = 0.475*lamda  # length of reflector in m\n",
      "Ld1 = 0.44*lamda  # length of director1 in m\n",
      "Ld2 = 0.44*lamda  # length of director2 in m\n",
      "Ld3 = 0.43*lamda  # length of director3 in m\n",
      "Ld4 = 0.40*lamda  # length of director4 in m\n",
      "SL = 0.25*lamda   # spacing between reflector and driver in m\n",
      "Sd = 0.31*lamda   # spacing director and driving element in m\n",
      "d = 0.01*lamda    # diameter of elements in m\n",
      "l = 1.5*lamda     # length of array in m\n",
      "\n",
      "\n",
      "#Results\n",
      "\n",
      "\n",
      "print \"length of driven element is:\" ,round(La,2),\"m\"\n",
      "print \"length of reflector is:\",round(Lr,4),\"m\"\n",
      "print \"length of director1 is:\",round(Ld1,2),\"m\"\n",
      "print \"length of director2 is:\",round(Ld2,2),\"m\"\n",
      "print \"length of director3 is:\",round(Ld3,3),\"m\"\n",
      "print \"length of director4 is:\",round(Ld4,2),\"m\"\n",
      "print \"spacing between reflector and driver is:\",round(SL,3),\"m\"\n",
      "print \"spacing director and driving element is:\",round(Sd,3),\"m\"\n",
      "print \"diameter of elements is:\",round(d,3),\"m\"\n",
      "print \"length of array is:\",round(l,2),\"m\"\n"
     ],
     "language": "python",
     "metadata": {},
     "outputs": [
      {
       "output_type": "stream",
       "stream": "stdout",
       "text": [
        "length of driven element is: 0.69 m\n",
        "length of reflector is: 0.7125 m\n",
        "length of director1 is: 0.66 m\n",
        "length of director2 is: 0.66 m\n",
        "length of director3 is: 0.645 m\n",
        "length of director4 is: 0.6 m\n",
        "spacing between reflector and driver is: 0.375 m\n",
        "spacing director and driving element is: 0.465 m\n",
        "diameter of elements is: 0.015 m\n",
        "length of array is: 2.25 m\n"
       ]
      }
     ],
     "prompt_number": 7
    },
    {
     "cell_type": "heading",
     "level": 2,
     "metadata": {},
     "source": [
      "EXAMPLE 6.8,PAGE NUMBER 283"
     ]
    },
    {
     "cell_type": "code",
     "collapsed": false,
     "input": [
      "from __future__ import division\n",
      "from math import atan\n",
      "\n",
      "\n",
      "# Variable Declaration\n",
      "\n",
      "\n",
      "G = 9             # required gain in dB\n",
      "f_l = 125         # lowest frequency in MHz\n",
      "f_l = 125*10**6   # lowest frequency in Hz\n",
      "f_h = 500         # highest frequency in MHz\n",
      "f_h = 500*10**6   # lowest frequency in Hz\n",
      "c = 3*10**8       # speed of light in m/s\n",
      "tau = 0.861       # scaling factor\n",
      "sigma = 0.162     # spacing factor\n",
      "\n",
      "\n",
      "#calculation\n",
      "\n",
      "\n",
      "lamda_l = c/f_l  # longest wavelength in m\n",
      "lamda_s = c/f_h  # shortest wavelength in m\n",
      "alpha = 2*atan((1-tau)/(4*sigma))  # wedge angle in Degrees\n",
      "L1 =  lamda_l/2  # in m\n",
      "L2 = tau*L1  # in m\n",
      "L3 = tau*L2  # in m\n",
      "L4 = tau*L3  # in m\n",
      "L5 = tau*L4  # in m\n",
      "L6 = tau*L5  # in m\n",
      "L7 = tau*L6  # in m\n",
      "L8 = tau*L7  # in m\n",
      "L9 = tau*L8  # in m\n",
      "L10 = tau*L9  # in m\n",
      "L11 = tau*L10  # in m\n",
      "\n",
      "# element spacing relation\n",
      "#formula : sn = 2*sigma*Ln\n",
      "\n",
      "\n",
      "S1 = 2*sigma*L1  # in m\n",
      "S2 = 2*sigma*L2  # in m\n",
      "S3 = 2*sigma*L3  # in m\n",
      "S4 = 2*sigma*L4  # in m\n",
      "S5 = 2*sigma*L5  # in m\n",
      "S6 = 2*sigma*L6  # in m\n",
      "S7 = 2*sigma*L7  # in m\n",
      "S8 = 2*sigma*L8  # in m\n",
      "S9 = 2*sigma*L9  # in m\n",
      "S10 = 2*sigma*L10  # in m\n",
      "S11 = 2*sigma*L11  # in m\n",
      "\n",
      "\n",
      "\n",
      "#results\n",
      "\n",
      "\n",
      "print(\"designing of log-periodic antenna:\")\n",
      "\n",
      "print \"L1 is:\",round(L1,4),\"m\"\n",
      "print \"L2 is:\",round(L2,4),\"m\"\n",
      "print \"L3 is:\",round(L3,4),\"m\"\n",
      "print \"L4 is:\",round(L4,4),\"m\"\n",
      "print \"L5 is:\",round(L5,4),\"m\"\n",
      "print \"L6 is:\",round(L6,4),\"m\"\n",
      "print \"L7 is:\",round(L7,4),\"m\"\n",
      "print \"L8 is:\",round(L8,4),\"m\"\n",
      "print \"L9 is:\",round(L9,4),\"m\"\n",
      "print \"L10 is:\",round(L10,4),\"m\"\n",
      "print \"L11 is:\",round(L11,4),\"m\"\n",
      "\n",
      "print \"elements spacing relation:\"\n",
      "\n",
      "print \"S1 is:\",round(S1,4),\"m\"\n",
      "print \"S2 is:\",round(S2,4),\"m\"\n",
      "print \"S3 is:\",round(S3,4),\"m\"\n",
      "print \"S4 is:\",round(S4,4),\"m\"\n",
      "print \"S5 is:\",round(S5,4),\"m\"\n",
      "print \"S6 is:\",round(S6,4),\"m\"\n",
      "print \"S7 is:\",round(S7,4),\"m\"\n",
      "print \"S8 is:\",round(S8,4),\"m\"\n",
      "print \"S9 is:\",round(S9,4),\"m\"\n",
      "print \"S10 is:\",round(S10,4),\"m\"\n",
      "print \"S11 is:\",round(S11,4),\"m\"\n",
      "\n"
     ],
     "language": "python",
     "metadata": {},
     "outputs": [
      {
       "output_type": "stream",
       "stream": "stdout",
       "text": [
        "designing of log-periodic antenna:\n",
        "L1 is: 1.2 m\n",
        "L2 is: 1.0332 m\n",
        "L3 is: 0.8896 m\n",
        "L4 is: 0.7659 m\n",
        "L5 is: 0.6595 m\n",
        "L6 is: 0.5678 m\n",
        "L7 is: 0.4889 m\n",
        "L8 is: 0.4209 m\n",
        "L9 is: 0.3624 m\n",
        "L10 is: 0.312 m\n",
        "L11 is: 0.2687 m\n",
        "elements spacing relation:\n",
        "S1 is: 0.3888 m\n",
        "S2 is: 0.3348 m\n",
        "S3 is: 0.2882 m\n",
        "S4 is: 0.2482 m\n",
        "S5 is: 0.2137 m\n",
        "S6 is: 0.184 m\n",
        "S7 is: 0.1584 m\n",
        "S8 is: 0.1364 m\n",
        "S9 is: 0.1174 m\n",
        "S10 is: 0.1011 m\n",
        "S11 is: 0.087 m\n"
       ]
      }
     ],
     "prompt_number": 8
    },
    {
     "cell_type": "heading",
     "level": 2,
     "metadata": {},
     "source": [
      "EXAMPLE 6.9,PAGE NUMBER 285"
     ]
    },
    {
     "cell_type": "code",
     "collapsed": false,
     "input": [
      "from math import pi,cos,sqrt\n",
      "\n",
      "\n",
      "# Variable Declaration\n",
      "\n",
      "E_rms = 10  # electric field in mV/m\n",
      "E_rms = 10*10 **-3  # electric field in V/m\n",
      "f = 2  # frequency in MHz\n",
      "f = 2*10 **6  # frequency in Hz\n",
      "N = 10  # number of turns\n",
      "phi = 0  # angle between the plane of loop and direction of incident wave in Degrees\n",
      "S = 1.4  # area of loop antenna in m **2\n",
      "c = 3*10 **8  # speed of light in m/s\n",
      "\n",
      "#calculation\n",
      "\n",
      "lamda = c/f  # wavelength in m\n",
      "E_max = sqrt(2)*E_rms  # electric field in V/m\n",
      "V_rms = (2*pi*E_max*S*N/lamda)*cos(phi)  # induced voltage\n",
      "\n",
      "#Result\n",
      "\n",
      "print \"induced voltage is:\",round(V_rms*1000,2),\"mV\"\n"
     ],
     "language": "python",
     "metadata": {},
     "outputs": [
      {
       "output_type": "stream",
       "stream": "stdout",
       "text": [
        "induced voltage is: 8.29 mV\n"
       ]
      }
     ],
     "prompt_number": 9
    },
    {
     "cell_type": "heading",
     "level": 2,
     "metadata": {},
     "source": [
      "EXAMPLE 6.10,PAGE NUMBER 285"
     ]
    },
    {
     "cell_type": "code",
     "collapsed": false,
     "input": [
      "\n",
      "# Variable Declaration\n",
      "\n",
      "\n",
      "D = 0.5  # diameter of loop antenna in m\n",
      "a = D/2  # radius of loop antenna in m\n",
      "f = 1  # frequency in MHz\n",
      "f = 1*10**6  # frequency in Hz\n",
      "c = 3*10**8  # speed of light in m/s\n",
      "\n",
      "#calculation\n",
      "\n",
      "lamda = c/f  # wavelength in m\n",
      "Rr = 3720*(a/lamda)  # radiation resistance of loop antenna in ohm\n",
      "\n",
      "\n",
      "#Results\n",
      "\n",
      "print \"radiation resistance of loop antenna is:\",Rr,\"ohm\"\n"
     ],
     "language": "python",
     "metadata": {},
     "outputs": [
      {
       "output_type": "stream",
       "stream": "stdout",
       "text": [
        "radiation resistance of loop antenna is: 3.1 ohm\n"
       ]
      }
     ],
     "prompt_number": 10
    },
    {
     "cell_type": "heading",
     "level": 2,
     "metadata": {},
     "source": [
      "EXAMPLE 6.11,PAGE NUMBER 285-286"
     ]
    },
    {
     "cell_type": "code",
     "collapsed": false,
     "input": [
      "from __future__ import division\n",
      "from math import pi\n",
      "\n",
      "# Variable Declaration\n",
      "\n",
      "a = 0.5  # radius of loop antenna in m\n",
      "f = 0.9  # frequency in MHz\n",
      "f = 0.9*10**6  # frequency in Hz\n",
      "c = 3*10**8  # speed of light in m/s\n",
      "\n",
      "#calculation\n",
      "\n",
      "lamda = c/f  # wavelength in m\n",
      "k = (2*pi*a)/lamda  # constant\n",
      "\n",
      "#Results\n",
      "\n",
      "print \"the value of k is:\",round(k,2)\n",
      "print \"since,k<1/3\"\n",
      "print \"So Directivity of loop antenna is D = 1.5\"\n"
     ],
     "language": "python",
     "metadata": {},
     "outputs": [
      {
       "output_type": "stream",
       "stream": "stdout",
       "text": [
        "the value of k is: 0.01\n",
        "since,k<1/3\n",
        "So Directivity of loop antenna is D = 1.5\n"
       ]
      }
     ],
     "prompt_number": 11
    },
    {
     "cell_type": "heading",
     "level": 2,
     "metadata": {},
     "source": [
      "EXAMPLE 6.13,PAGE NUMBER 286"
     ]
    },
    {
     "cell_type": "code",
     "collapsed": false,
     "input": [
      "from sympy import Symbol\n",
      "\n",
      "#variable declaration and calculation\n",
      "\n",
      "Lm = Symbol('Lm')  # defining Lm as lambda\n",
      "d = 1.5*Lm  # diameter of antenna in m\n",
      "a = d/2  # radius of antenna in m\n",
      "Rr = 3720*(a/Lm)  # radiation resistance of loop antenna in ohm\n",
      "D = 4.25*(a/Lm) # Directivity of the loop antenna\n",
      "\n",
      "#results\n",
      "\n",
      "print \"radiation resistance of the loop antenna is:\",round(Rr,0),\"ohm\"\n",
      "print \"Directivity of the loop antenna is:\",round(D,4)\n"
     ],
     "language": "python",
     "metadata": {},
     "outputs": [
      {
       "output_type": "stream",
       "stream": "stdout",
       "text": [
        "radiation resistance of the loop antenna is: 2790.0 ohm\n",
        "Directivity of the loop antenna is: 3.1875\n"
       ]
      }
     ],
     "prompt_number": 12
    },
    {
     "cell_type": "heading",
     "level": 2,
     "metadata": {},
     "source": [
      "EXAMPLE 6.14,PAGE NUMBER 287"
     ]
    },
    {
     "cell_type": "code",
     "collapsed": false,
     "input": [
      "from math import sqrt,pi\n",
      "from sympy import Symbol\n",
      "\n",
      "#Variable declaration\n",
      "\n",
      "Gp = 28  # power gain\n",
      "\n",
      "#calculations\n",
      "\n",
      "Lm = Symbol('Lm')  # defining Lm as lamda\n",
      "d = Lm/2           # length of dipole\n",
      "\n",
      "#formula : Gp = 4*(L/lamda)\n",
      "\n",
      "L = Gp*Lm/4  # array length\n",
      "N = 7*2      # Number of elements in the array when spaced at lamda/2\n",
      "\n",
      "# formula : B.W = 2*sqrt((2*/N)*(lamda/d))\n",
      "\n",
      "BW = 2*sqrt(2*Lm/(N*d))  # null-to-null beam width in radians\n",
      "BW_d = BW*180/pi         # null-to-null beam width in degrees\n",
      "\n",
      "#Results\n",
      "\n",
      "print \"Number of elements in the array when spaced at lamda/2 are:\",N\n",
      "print \"array length(where Lm is wavelength in m) is:\",L,\"m\"\n",
      "print \"null-to-null beam width is:\",round(BW_d,1),\"degrees\"\n",
      "\n"
     ],
     "language": "python",
     "metadata": {},
     "outputs": [
      {
       "output_type": "stream",
       "stream": "stdout",
       "text": [
        "Number of elements in the array when spaced at lamda/2 are: 14\n",
        "array length(where Lm is wavelength in m) is: 7*Lm m\n",
        "null-to-null beam width is: 61.3 degrees\n"
       ]
      }
     ],
     "prompt_number": 13
    },
    {
     "cell_type": "heading",
     "level": 2,
     "metadata": {},
     "source": [
      "EXAMPLE 6.15,PAGE NUMBER 287"
     ]
    },
    {
     "cell_type": "code",
     "collapsed": false,
     "input": [
      "from __future__ import division\n",
      "from math import pi,sqrt\n",
      "\n",
      "\n",
      "# Variable Declaration\n",
      "\n",
      "S = 0.05        # spacing in m\n",
      "Dh = 0.1        # diameter of helical antenna in m\n",
      "N = 20          # number of turns\n",
      "f = 1000        # frequency in MHz\n",
      "f = 1000*10**6  # frequency in MHz\n",
      "c = 3*10**8     # speed of light in m/s\n",
      "\n",
      "\n",
      "#calculation\n",
      "\n",
      "\n",
      "lamda = c/f     # wavelength in m\n",
      "C = pi*Dh       # circumfrence of helix in m\n",
      "La = N*S        # axial legth in m\n",
      "phi_not = (115*(lamda**(3/2))/(C*sqrt(La)))   # B.W.F.N., null-to-null beamwidth of main beam in Degreess\n",
      "phi = (52*lamda**(3/2)/(C*sqrt(La)))          # H.P.B.W, half power beamwidth in Degreess\n",
      "D = (15*N*C**2*S/(lamda)**3)                  # Directivity\n",
      "\n",
      "#Results\n",
      "\n",
      "print \"B.W.F.N., null-to-null beamwidth of main beam is:\",round(phi_not,1),\"degrees\"\n",
      "print \"H.P.B.W, half power beamwidth is:\",round(phi,1),\"degrees\"\n",
      "print \"Directivity is:\",round(D,2)\n"
     ],
     "language": "python",
     "metadata": {},
     "outputs": [
      {
       "output_type": "stream",
       "stream": "stdout",
       "text": [
        "B.W.F.N., null-to-null beamwidth of main beam is: 60.1 degrees\n",
        "H.P.B.W, half power beamwidth is: 27.2 degrees\n",
        "Directivity is: 54.83\n"
       ]
      }
     ],
     "prompt_number": 14
    }
   ],
   "metadata": {}
  }
 ]
}