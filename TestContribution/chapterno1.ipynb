{
 "metadata": {
  "name": "",
  "signature": "sha256:a1ed470be69235951f179c73fc3f7daca02bf5e071f528ddce3fb4f1444cb8ef"
 },
 "nbformat": 3,
 "nbformat_minor": 0,
 "worksheets": [
  {
   "cells": [
    {
     "cell_type": "heading",
     "level": 1,
     "metadata": {},
     "source": [
      "Chapter 1: INTRODUCTORY DIGITAL CONCEPTS"
     ]
    },
    {
     "cell_type": "heading",
     "level": 2,
     "metadata": {},
     "source": [
      "Example 1-1,Page No-6"
     ]
    },
    {
     "cell_type": "code",
     "collapsed": false,
     "input": [
      "#Variable Declaration\n",
      "T=10*10**-3\n",
      "tw=1*10**-3\n",
      "\n",
      "#Calculations\n",
      "#Part A\n",
      "f=1/T\n",
      "\n",
      "#Part C\n",
      "Duty_Cycle=(tw/T)*100\n",
      "\n",
      "\n",
      "#Results\n",
      "print\"The Period is measured from the edge of the next pulse. In this case T is measured from leading edge to leading edge,as indicated.T equals 10*10^-3\"\n",
      "print\"f=\",f,\"Hz\"\n",
      "print\"Duty Cycle=\",Duty_Cycle,\"%\""
     ],
     "language": "python",
     "metadata": {},
     "outputs": [
      {
       "output_type": "stream",
       "stream": "stdout",
       "text": [
        "The Period is measured from the edge of the next pulse. In this case T is measured from leading edge to leading edge,as indicated.T equals 10*10^-3\n",
        "f= 100.0 Hz\n",
        "Duty Cycle= 10.0 %\n"
       ]
      }
     ],
     "prompt_number": 5
    },
    {
     "cell_type": "heading",
     "level": 2,
     "metadata": {},
     "source": [
      "Example 1-2, Page No-8"
     ]
    },
    {
     "cell_type": "code",
     "collapsed": false,
     "input": [
      "#Variable Declaration\n",
      "f=100*10**-3\n",
      "time=8\n",
      "T=1/f\n",
      "print\"Since the frequency of the clock is 100kHz,the period is\",T,\"usec\"\n",
      "print\"It takes 10*10**-6to transfer each bit in the waveform.The total transfer time for 8 bits is time\"\n",
      "print\"Time is\",time,\"usec\"\n",
      "\n",
      "print\"To detrmine the sequence of bits,examine the waveform during each bit time.If waveform A is HIGH during the bit time, a 1 is transferred. If waveform A is LOW during the bit time,a0 is transferred. The bit sequence is illustrated .The left mosst bit is the first to be transferred.\"\n",
      "\n",
      "print\"A parallel transfer would take 10*10**-6 for all eight bits.\"\n",
      "    \n"
     ],
     "language": "python",
     "metadata": {},
     "outputs": [
      {
       "output_type": "stream",
       "stream": "stdout",
       "text": [
        "Since the frequency of the clock is 100kHz,the period is 10.0 usec\n",
        "It takes 10*10**-6to transfer each bit in the waveform.The total transfer time for 8 bits is time\n",
        "Time is 8 usec\n",
        "To detrmine the sequence of bits,examine the waveform during each bit time.If waveform A is HIGH during the bit time, a 1 is transferred. If waveform A is LOW during the bit time,a0 is transferred. The bit sequence is illustrated .The left mosst bit is the first to be transferred.\n",
        "A parallel transfer would take 10*10**-6 for all eight bits.\n"
       ]
      }
     ],
     "prompt_number": 14
    },
    {
     "cell_type": "code",
     "collapsed": false,
     "input": [],
     "language": "python",
     "metadata": {},
     "outputs": [],
     "prompt_number": 8
    },
    {
     "cell_type": "code",
     "collapsed": false,
     "input": [],
     "language": "python",
     "metadata": {},
     "outputs": []
    }
   ],
   "metadata": {}
  }
 ]
}