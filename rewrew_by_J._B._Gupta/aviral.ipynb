{
 "cells": [
  {
   "cell_type": "markdown",
   "metadata": {},
   "source": [
    "# Chapter 5:INTRODUCTION TO THERMAL POWER PLANT"
   ]
  },
  {
   "cell_type": "markdown",
   "metadata": {},
   "source": [
    "## Ex5.1:pg-271"
   ]
  },
  {
   "cell_type": "code",
   "execution_count": 4,
   "metadata": {
    "collapsed": false
   },
   "outputs": [
    {
     "name": "stdout",
     "output_type": "stream",
     "text": [
      "\n",
      "The coal required per hour,W= 50.95  tons/hr\n"
     ]
    }
   ],
   "source": [
    "# Example 5_1\n",
    " \n",
    "# Given data\n",
    "P=100.0;# Plant capacity in Mw\n",
    "CV=25600.0;# Calorific value in kJ/kg\n",
    "n_th=30.0;# The thermal efficiency of the plant in %\n",
    "n_eg=92.0;# Electrical generation efficiency in %\n",
    "\n",
    "# Calculation\n",
    "# Mechanical energy available=W*CV*(n_th/100) in kJ/hr\n",
    "# Electrical energy available=W*CV*(n_th/100)*(n_eg/100) in kJ/hr\n",
    "q_e=P*10**3*3600;# Heat equivalent in kJ/hr\n",
    "W=(q_e/(CV*(n_th/100)*(n_eg/100)));# The coal required per hour in kg/hr\n",
    "W=(W/1000);# The coal required per hour in tons/hr\n",
    "print \"\\nThe coal required per hour,W=\",round(W,2),\" tons/hr\"\n"
   ]
  },
  {
   "cell_type": "markdown",
   "metadata": {},
   "source": [
    "## Ex5.2:pg-273"
   ]
  },
  {
   "cell_type": "code",
   "execution_count": 5,
   "metadata": {
    "collapsed": false
   },
   "outputs": [
    {
     "name": "stdout",
     "output_type": "stream",
     "text": [
      "\n",
      " The capacity of the power plant,P= 62.05  MW\n"
     ]
    }
   ],
   "source": [
    "# Example 5_2\n",
    " \n",
    "# Given data\n",
    "CV=28900.0;#kJ/kg\n",
    "n_b=83.0;# The boiler efficiency in %\n",
    "n_t=32.0;# The turbine efficiency in %\n",
    "n_g=97.0;# The generator efficiency in %\n",
    "W=30.0;# The coal consumption of the station in tons/hr\n",
    "\n",
    "# Calculation\n",
    "P=((W*1000*CV)*(n_b/100)*(n_t/100)*(n_g/100))/(3600*1000);# The capacity of the power plant in MW\n",
    "print \"\\n The capacity of the power plant,P=\",round(P,2),\" MW\"\n"
   ]
  },
  {
   "cell_type": "markdown",
   "metadata": {},
   "source": [
    "## Ex5.3:pg-273"
   ]
  },
  {
   "cell_type": "code",
   "execution_count": 8,
   "metadata": {
    "collapsed": false
   },
   "outputs": [
    {
     "name": "stdout",
     "output_type": "stream",
     "text": [
      "The volume of gas required per hour,V= 450.0  m**3/hr\n"
     ]
    }
   ],
   "source": [
    "#Example 5_3\n",
    "\n",
    "# Given values\n",
    "P=100.0;# Power in kW\n",
    "CV=4000.0;# Calorific value in kJ/m**3\n",
    "n_o=0.20;# Over all efficiency of the plant\n",
    "\n",
    "# Calculation\n",
    "V=(3600*P)/(CV*n_o);# m**3/hr\n",
    "print \"The volume of gas required per hour,V=\",round(V,2),\" m**3/hr\"\n"
   ]
  }
 ],
 "metadata": {
  "kernelspec": {
   "display_name": "Python 2",
   "language": "python",
   "name": "python2"
  },
  "language_info": {
   "codemirror_mode": {
    "name": "ipython",
    "version": 2
   },
   "file_extension": ".py",
   "mimetype": "text/x-python",
   "name": "python",
   "nbconvert_exporter": "python",
   "pygments_lexer": "ipython2",
   "version": "2.7.11"
  }
 },
 "nbformat": 4,
 "nbformat_minor": 0
}
