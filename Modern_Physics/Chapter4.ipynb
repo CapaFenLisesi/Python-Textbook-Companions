{
 "metadata": {
  "name": "",
  "signature": "sha256:fcebe7a1b857b1b190100018ff76ede788e3c249d5181d4bebb1457ad5175559"
 },
 "nbformat": 3,
 "nbformat_minor": 0,
 "worksheets": [
  {
   "cells": [
    {
     "cell_type": "heading",
     "level": 1,
     "metadata": {},
     "source": [
      "Chapter 4: The Particle Nature of Matter"
     ]
    },
    {
     "cell_type": "heading",
     "level": 2,
     "metadata": {},
     "source": [
      "Example 4.1, page no. 109"
     ]
    },
    {
     "cell_type": "code",
     "collapsed": false,
     "input": [
      "\n",
      "#Variable declaration\n",
      "\n",
      "I = 10.0         #current (A)\n",
      "t = 3600         #time (s)\n",
      "molar_mass_Ba = 137 #molar mass of Barium (g)\n",
      "valence_Ba = 2         #valence of Barium\n",
      "molar_mass_Cl = 35.5 #molar mass of chlorine(g)\n",
      "valence_Cl = 1       #valence of chlorine\n",
      "\n",
      "#Calculation\n",
      "\n",
      "mBa = I * t * molar_mass_Ba /(96500 * valence_Ba)\n",
      "mCl = I * t * molar_mass_Cl /(96500 * valence_Cl)\n",
      "\n",
      "#Results\n",
      "\n",
      "print \"The mass of Barium and Chlorine obtained is \",round(mBa,1),\"g\",round(mCl,1),\"g respectively.\""
     ],
     "language": "python",
     "metadata": {},
     "outputs": [
      {
       "output_type": "stream",
       "stream": "stdout",
       "text": [
        "The mass of Barium and Chlorine obtained is  25.6 g 13.2 g respectively.\n"
       ]
      }
     ],
     "prompt_number": 2
    },
    {
     "cell_type": "heading",
     "level": 2,
     "metadata": {},
     "source": [
      "Example 4.2, page no. 113"
     ]
    },
    {
     "cell_type": "code",
     "collapsed": false,
     "input": [
      "\n",
      "\n",
      "import math\n",
      "\n",
      "#Variable declaration\n",
      "\n",
      "V = 200             #voltage (V)\n",
      "theta = 0.20        #deflection (rad)\n",
      "l = 0.05             #length (m)\n",
      "d = 0.015             #spacing (m)\n",
      "e_by_me = 1.76 * 10 **11 #e/me (C/kg)\n",
      "B_earth = 0.5 * 10**-4   #earth's magnetic field (T)\n",
      "\n",
      "#Calculation\n",
      "\n",
      "B = math.sqrt(V * theta /(l * d * e_by_me))\n",
      "\n",
      "#results\n",
      "\n",
      "print \"The magnetic field required to produce the deflection is\",round(B/10**-4,1),\"X 10^-4 T\"\n",
      "print \" The earth's magnetic field is \",B_earth,\"T so we require\",round(B/B_earth),\"times stronger field.\""
     ],
     "language": "python",
     "metadata": {},
     "outputs": [
      {
       "output_type": "stream",
       "stream": "stdout",
       "text": [
        "The magnetic field required to produce the deflection is 5.5 X 10^-4 T\n",
        " The earth's magnetic field is  5e-05 T so we require 11.0 times stronger field.\n"
       ]
      }
     ],
     "prompt_number": 4
    },
    {
     "cell_type": "heading",
     "level": 2,
     "metadata": {},
     "source": [
      "Example 4.3, page no. 117"
     ]
    },
    {
     "cell_type": "code",
     "collapsed": false,
     "input": [
      "\n",
      "import math\n",
      "\n",
      "\n",
      "#Variable declaration\n",
      "\n",
      "dy = 0.006          #distance of rise or fall (m)\n",
      "dt = 21.0           #average time of fall (s)\n",
      "n = 1.83 * 10 **-5  #viscosity of air (kg/ms)\n",
      "p = 858             #oil density (kg/m^3)\n",
      "g = 9.81            #acceleration due to gravity (m/s^2)\n",
      "\n",
      "#Calculation\n",
      "\n",
      "v = dy/dt\n",
      "a = math.sqrt(9*n*v/(2*p*g))\n",
      "V = 4*math.pi*a**3/3\n",
      "m = p * V\n",
      "\n",
      "#results\n",
      "\n",
      "print \"The radius,volume and mass of the drop are\",round(a/10**-6,2),\"X10^-6 m,\",round(V/10**-17,2),\"X10^-17 m^3,\",round(m/10**-14,2),\"X10^-14 kg\"\n",
      "\n",
      "\n",
      "#Variable declaration\n",
      "\n",
      "Vt = 4550               #potential difference (V)\n",
      "d = 0.0160              #plate separation (m)\n",
      "#successive rise times(s)\n",
      "dt1 = 46.0\n",
      "dt2 = 15.5\n",
      "dt3 = 28.1\n",
      "dt4 = 12.9\n",
      "dt5 = 45.3\n",
      "dt6 = 20.0\n",
      "\n",
      "#Calculation\n",
      "\n",
      "E = Vt/d        #Electric field\n",
      "v1 = dy / dt1\n",
      "v2 = dy / dt2\n",
      "v3 = dy / dt3\n",
      "v4 = dy / dt4\n",
      "v5 = dy / dt5\n",
      "v6 = dy / dt6\n",
      "q1 = (m*g/E)*((v+v1)/v)\n",
      "q2 = (m*g/E)*((v+v2)/v)\n",
      "q3 = (m*g/E)*((v+v3)/v)\n",
      "q4 = (m*g/E)*((v+v4)/v)\n",
      "q5 = (m*g/E)*((v+v5)/v)\n",
      "q6 = (m*g/E)*((v+v6)/v)\n",
      "\n",
      "#Results\n",
      "\n",
      "print \"The successive charges on the drop is as follows \\n q1 =\",round(q1/10**-19,2),\"X 10^-19 C \\n q2 = \",round(q2/10**-19,2),\"X 10^-19 C \\n q3 = \",round(q3/10**-19,2),\"X 10^-19 C \\n q4 = \",round(q4/10**-19,2),\"X 10^-19 C \\n q5 = \",round(q5/10**-19,2),\"X 10^-19 C \\n q6 = \",round(q6/10**-19,2),\"X 10^-19 C\""
     ],
     "language": "python",
     "metadata": {},
     "outputs": [
      {
       "output_type": "stream",
       "stream": "stdout",
       "text": [
        "The radius,volume and mass of the drop are 1.67 X10^-6 m, 1.96 X10^-17 m^3, 1.68 X10^-14 kg\n",
        "The successive charges on the drop is as follows \n",
        " q1 = 8.44 X 10^-19 C \n",
        " q2 =  13.65 X 10^-19 C \n",
        " q3 =  10.12 X 10^-19 C \n",
        " q4 =  15.23 X 10^-19 C \n",
        " q5 =  8.48 X 10^-19 C \n",
        " q6 =  11.88 X 10^-19 C\n"
       ]
      }
     ],
     "prompt_number": 16
    },
    {
     "cell_type": "heading",
     "level": 2,
     "metadata": {},
     "source": [
      "Example 4.4, page no. 121"
     ]
    },
    {
     "cell_type": "code",
     "collapsed": false,
     "input": [
      "\n",
      "\n",
      "#Variable declaration\n",
      "\n",
      "ma_by_mp = 4.0        #as alpha has 2 protons and 2 neutrons\n",
      "\n",
      "#Calculation\n",
      "\n",
      "vp = (2*ma_by_mp/(ma_by_mp+1))\n",
      "va1 = (ma_by_mp -1)/(ma_by_mp + 1)\n",
      "change = (va1 - 1)*100\n",
      "\n",
      "#result\n",
      "\n",
      "print \"The percentage change in the velocity of alpha particle is\",change,\"%\""
     ],
     "language": "python",
     "metadata": {},
     "outputs": [
      {
       "output_type": "stream",
       "stream": "stdout",
       "text": [
        "The percentage change in the velocity of alpha particle is -40.0 %\n"
       ]
      }
     ],
     "prompt_number": 18
    },
    {
     "cell_type": "heading",
     "level": 2,
     "metadata": {},
     "source": [
      "Example 4.5, page no. 124"
     ]
    },
    {
     "cell_type": "code",
     "collapsed": false,
     "input": [
      "\n",
      "#Variable declaration\n",
      "\n",
      "e = 1.6 * 10 ** -19         #Charge of electron (C)\n",
      "Z = 13\n",
      "k = 8.99 * 10 ** 9          #(Nm^2/C^2)\n",
      "Ka = 7.7 * 10 ** 6 * e      #potential energy at closest approach(J)\n",
      "\n",
      "#Calculation\n",
      "\n",
      "dmin = k * 2 * Z * e ** 2/Ka\n",
      "\n",
      "#result\n",
      "\n",
      "print \"The radius of the aluminum nucleus is\",round(dmin/10**-15,1),\"X 10^-15 m.\""
     ],
     "language": "python",
     "metadata": {},
     "outputs": [
      {
       "output_type": "stream",
       "stream": "stdout",
       "text": [
        "The radius of the aluminum nucleus is 4.9 X 10^-15 m.\n"
       ]
      }
     ],
     "prompt_number": 20
    },
    {
     "cell_type": "heading",
     "level": 2,
     "metadata": {},
     "source": [
      "Example 4.7, page no. 135"
     ]
    },
    {
     "cell_type": "code",
     "collapsed": false,
     "input": [
      "\n",
      "#Variable declaration\n",
      "\n",
      "R = 1.097 * 10**7               #Rydberg constant(m^-1) \n",
      "nf = 1.0                          #energy state\n",
      "ni = 2.0                          #energy state\n",
      "c = 3 * 10 ** 8                 #speed of light (m/s)\n",
      "h = 4.136 * 10 ** -15           #Planck's constant (eV.s)\n",
      "\n",
      "#Calculation\n",
      "\n",
      "lamda = (R * ((1/nf**2) - (1/ni**2))) ** -1\n",
      "f = c / lamda\n",
      "E = h * f\n",
      "\n",
      "#Results\n",
      "\n",
      "print \"The wavelength of the emitted photon is\",round(lamda/10**-9,2),\"nm and frequency is\",round(f/10**15,2),\"X 10^15 Hz and energy is\",round(E,1),\"eV\"\n",
      "\n",
      "\n",
      "#Variable declarartion\n",
      "mc2 = 938.8 * 10 ** 6   #m*c^2 of hydrogen atom(eV)\n",
      "#Calculation\n",
      "\n",
      "p = E / c\n",
      "K = 0.5 * E**2 /mc2\n",
      "\n",
      "#results\n",
      "\n",
      "print \"The momentum of the recoiling hydrogen atom is \",round(p*c,1),\"eV/c and the energy is\",round(K/10**-8,2),\"X 10^-8 eV.\""
     ],
     "language": "python",
     "metadata": {},
     "outputs": [
      {
       "output_type": "stream",
       "stream": "stdout",
       "text": [
        "The wavelength of the emitted photon is 121.54 nm and frequency is 2.47 X 10^15 Hz and energy is 10.2 eV\n",
        "The momentum of the recoiling hydrogen atom is  10.2 eV/c and the energy is 5.55 X 10^-8 eV.\n"
       ]
      }
     ],
     "prompt_number": 22
    },
    {
     "cell_type": "heading",
     "level": 2,
     "metadata": {},
     "source": [
      "Example 4.8, page no. 136"
     ]
    },
    {
     "cell_type": "code",
     "collapsed": false,
     "input": [
      "\n",
      "#Variable declaration\n",
      "\n",
      "R = 1.097 * 10**7               #Rydberg constant(m^-1) \n",
      "nf = 2.0                        #energy state\n",
      "ni = 3.0                        #energy state\n",
      "c = 3 * 10 ** 8                 #speed of light (m/s)\n",
      "h = 4.136 * 10 ** -15           #Planck's constant (eV.s)\n",
      "\n",
      "#Calculation\n",
      "\n",
      "lamda = (R * ((1/nf**2) - (1/ni**2))) ** -1\n",
      "f = c / lamda\n",
      "E = h * f\n",
      "\n",
      "#Results\n",
      "\n",
      "print \"The longest-wavelength photon in the Balmer series is\",round(lamda/10**-9,2),\"nm and frequency is\",round(f/10**15,2),\"X 10^15 Hz and energy is\",round(E,2),\"eV\"\n",
      "\n",
      "\n",
      "#Variable declaration\n",
      "\n",
      "R = 1.097 * 10**7               #Rydberg constant(m^-1) \n",
      "nf = 2.0                          #energy state\n",
      "c = 3 * 10 ** 8                 #speed of light (m/s)\n",
      "h = 4.136 * 10 ** -15           #Planck's constant (eV.s)\n",
      "\n",
      "#Calculation\n",
      "\n",
      "lamda = (R * (1/nf**2)) ** -1\n",
      "\n",
      "#Results\n",
      "\n",
      "print \"The shortest-wavelength photon emitted in the Balmer series is\",round(lamda/10**-9,2),\"nm.\""
     ],
     "language": "python",
     "metadata": {},
     "outputs": [
      {
       "output_type": "stream",
       "stream": "stdout",
       "text": [
        "The longest-wavelength photon in the Balmer series is 656.34 nm and frequency is 0.46 X 10^15 Hz and energy is 1.89 eV\n",
        "The shortest-wavelength photon emitted in the Balmer series is 364.63 nm.\n"
       ]
      }
     ],
     "prompt_number": 24
    },
    {
     "cell_type": "heading",
     "level": 2,
     "metadata": {},
     "source": [
      "Example 4.9, page no. 137"
     ]
    },
    {
     "cell_type": "code",
     "collapsed": false,
     "input": [
      "\n",
      "\n",
      "import math\n",
      "\n",
      "#Variable declaration\n",
      "\n",
      "E = 10.2            #average thermal energy per atom(eV)\n",
      "kB =8.62 * 10**-5   #Boltzmann constant (eV/K)\n",
      "N2_by_N1 = 0.10     #N2/N1\n",
      "\n",
      "#Calculation\n",
      "\n",
      "T1 = E /((3.0/2.0)* kB)\n",
      "T2 = -E/(kB * math.log(N2_by_N1))\n",
      "\n",
      "#Results\n",
      "\n",
      "print \"The temperature is \",round(T1),\"K and by Boltzmann distribution the temperature is\",round(T2),\"K.\""
     ],
     "language": "python",
     "metadata": {},
     "outputs": [
      {
       "output_type": "stream",
       "stream": "stdout",
       "text": [
        "The temperature is  78886.0 K and by Boltzmann distribution the temperature is 51390.0 K.\n"
       ]
      }
     ],
     "prompt_number": 26
    }
   ],
   "metadata": {}
  }
 ]
}