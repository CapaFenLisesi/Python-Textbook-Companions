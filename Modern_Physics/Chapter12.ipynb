{
 "metadata": {
  "name": "",
  "signature": "sha256:6dfe8c3f0e395e550057fecf65810f55f95ea60853478f130ac485dd9541147f"
 },
 "nbformat": 3,
 "nbformat_minor": 0,
 "worksheets": [
  {
   "cells": [
    {
     "cell_type": "heading",
     "level": 1,
     "metadata": {},
     "source": [
      "Chapter 12: The Solid State"
     ]
    },
    {
     "cell_type": "heading",
     "level": 2,
     "metadata": {},
     "source": [
      "Example 12.1, page no. 418"
     ]
    },
    {
     "cell_type": "code",
     "collapsed": false,
     "input": [
      "\n",
      "#Variable Declaration\n",
      "\n",
      "kb = 1.38 * 10 **-23        #Boltzmann constant (J/K)\n",
      "T = 300                     # room temperature (K)\n",
      "me = 9.11 * 10 ** -31       # mass of electron (kg)\n",
      "d = 8.96 * 10**6            # density of copper (g/m^3)\n",
      "N = 6.023 * 10 **23         #avagodro's number (atoms/mole)\n",
      "mw = 63.5                   #molar weight (g)\n",
      "A = 4 * 10 ** -6            #area (m^2)\n",
      "I = 10                      # current (A)\n",
      "e = 1.6 * 10 ** -19         # charge of electron(C)\n",
      "\n",
      "#Calculation\n",
      "\n",
      "Vrms = (3*kb*T/me)**0.5\n",
      "n = N * d / mw\n",
      "Vd = I /(n*e*A)\n",
      "\n",
      "#Results\n",
      "\n",
      "print \"(a) The ratio of drift speed to rms speed is \",round(Vd/Vrms/10**-9,2),\"X 10^-9.\"\n",
      "\n",
      "\n",
      "#Variable Declaration\n",
      "\n",
      "L = 2.6 * 10 ** -10       #interatomic distance(A')  \n",
      "\n",
      "#Calculation\n",
      "\n",
      "t = L / Vrms \n",
      "\n",
      "#Results\n",
      "\n",
      "print \"(b) The average time between collisions\",round(t/10**-15,1),\"X 10^-15 m/s.\"\n",
      "\n",
      "\n",
      "#Variable Declaration\n",
      "\n",
      "T = 300             #Room temperature (K)\n",
      "\n",
      "#Calculation\n",
      "\n",
      "sigma = n*e**2 * L /(3*kb*T*me)**0.5\n",
      "\n",
      "#Results\n",
      "\n",
      "print \"(c) The conductivity is\",round(sigma/10**6,1),\"X 10^6 (ohm.m)^-1.\""
     ],
     "language": "python",
     "metadata": {},
     "outputs": [
      {
       "output_type": "stream",
       "stream": "stdout",
       "text": [
        "(a) The ratio of drift speed to rms speed is  1.57 X 10^-9.\n",
        "(b) The average time between collisions 2.2 X 10^-15 m/s.\n",
        "(c) The conductivity is 5.3 X 10^6 (ohm.m)^-1.\n"
       ]
      }
     ],
     "prompt_number": 2
    },
    {
     "cell_type": "heading",
     "level": 2,
     "metadata": {},
     "source": [
      "Example 12.2, page no. 429"
     ]
    },
    {
     "cell_type": "code",
     "collapsed": false,
     "input": [
      "\n",
      "#Variable Declaration\n",
      "\n",
      "V = 7            # voltage(V)\n",
      "L = 5 * 10 ** -8 # mean free path (m)\n",
      " \n",
      "#Calculation\n",
      "\n",
      "E = V/L\n",
      "\n",
      "#Results\n",
      "\n",
      "print \"The electric field required is\",round(E/10**8,1),\"X 10^8 V/m.\""
     ],
     "language": "python",
     "metadata": {},
     "outputs": [
      {
       "output_type": "stream",
       "stream": "stdout",
       "text": [
        "The electric field required is 1.4 X 10^8 V/m.\n"
       ]
      }
     ],
     "prompt_number": 4
    },
    {
     "cell_type": "heading",
     "level": 2,
     "metadata": {},
     "source": [
      "Example 12.3, page no. 436"
     ]
    },
    {
     "cell_type": "code",
     "collapsed": false,
     "input": [
      "\n",
      "\n",
      "import math\n",
      "\n",
      "#Variable Declaration\n",
      "\n",
      "V = 1           #voltage(eV)\n",
      "kBT = 0.025     # kB * T (eV)\n",
      "\n",
      "#Calculation\n",
      "\n",
      "ratio = (math.exp(V/kBT)-1)/(math.exp(-V/kBT)-1)\n",
      "\n",
      "#Results\n",
      "\n",
      "print \"The ratio of forward to reverse current is\",round(ratio/10**17,1),\"X 10^17.\""
     ],
     "language": "python",
     "metadata": {},
     "outputs": [
      {
       "output_type": "stream",
       "stream": "stdout",
       "text": [
        "The ratio of forward to reverse current is -2.4 X 10^17.\n"
       ]
      }
     ],
     "prompt_number": 6
    }
   ],
   "metadata": {}
  }
 ]
}