{
 "metadata": {
  "name": "",
  "signature": "sha256:846e8e3b3770f7cb30a2e91a53718bf5de841338951843c54481c2acfda5e63d"
 },
 "nbformat": 3,
 "nbformat_minor": 0,
 "worksheets": [
  {
   "cells": [
    {
     "cell_type": "heading",
     "level": 1,
     "metadata": {},
     "source": [
      "Chapter 6: Quantum Mechanics in One Dimension"
     ]
    },
    {
     "cell_type": "heading",
     "level": 2,
     "metadata": {},
     "source": [
      "Example 6.4, page no. 197"
     ]
    },
    {
     "cell_type": "code",
     "collapsed": false,
     "input": [
      " \n",
      "\n",
      "import math\n",
      "\n",
      "#Variable declaration\n",
      "\n",
      "me = 9.11 * 10 ** -31           #mass of electron (kg)\n",
      "h = 1.055 * 10**-34             #h/2*pi (J.s)\n",
      "dx0 = 1.0 * 10**-10             #initial location of electron(m)\n",
      "m = 1.0 * 10**-3                #mass of marble (kg)\n",
      "dx0m = 10**-4                   #initial location of marble (m)\n",
      "\n",
      "#Calculation\n",
      "\n",
      "te = math.sqrt(99)* (2* me / h) * dx0**2\n",
      "tm = math.sqrt(99)* (2* m / h) * dx0m**2\n",
      "\n",
      "#result\n",
      "\n",
      "print \"The time elapsed for electron is\",round(te/10**-15,1),\"X 10^-15 s and that of marble is \",round(tm/10**24,1),\"X 10^24 s.\""
     ],
     "language": "python",
     "metadata": {},
     "outputs": [
      {
       "output_type": "stream",
       "stream": "stdout",
       "text": [
        "The time elapsed for electron is 1.7 X 10^-15 s and that of marble is  1.9 X 10^24 s.\n"
       ]
      }
     ],
     "prompt_number": 1
    },
    {
     "cell_type": "heading",
     "level": 2,
     "metadata": {},
     "source": [
      "Example 6.5, page no. 202"
     ]
    },
    {
     "cell_type": "code",
     "collapsed": false,
     "input": [
      "\n",
      "import math\n",
      "\n",
      "#Variable declaration\n",
      "\n",
      "m = 1.0 * 10 **-6         #mass (kg)\n",
      "h = 6.626 * 10 **-34    #Planck's constant(J.s)\n",
      "n = 1.0\n",
      "L = 1.0 * 10**-2        #separation(m)\n",
      "\n",
      "#Calculation\n",
      "\n",
      "E1 = n**2 * h**2 /(8*m*L**2)\n",
      "v1 = math.sqrt(2*E1/m)\n",
      "\n",
      "#result\n",
      "\n",
      "print \"(a) The minimum speed of the particle is\",round(v1/10**-26,2),\"X 10^-26 m/s.\"\n",
      "\n",
      "\n",
      "#Variable declaration\n",
      "\n",
      "v = 3.00 * 10**-2       #speed of the particle (m/s)\n",
      "\n",
      "#Calculation\n",
      "\n",
      "E = m* v**2 /2\n",
      "n = math.sqrt(8*m*L**2*E)/h\n",
      "\n",
      "#results\n",
      "\n",
      "print \"(b) We get n = \",round(n/10**23,2),\"X 10^23.\""
     ],
     "language": "python",
     "metadata": {},
     "outputs": [
      {
       "output_type": "stream",
       "stream": "stdout",
       "text": [
        "(a) The minimum speed of the particle is 3.31 X 10^-26 m/s.\n",
        "(b) We get n =  9.06 X 10^23.\n"
       ]
      }
     ],
     "prompt_number": 3
    },
    {
     "cell_type": "heading",
     "level": 2,
     "metadata": {},
     "source": [
      "Example 6.6, page no. 203"
     ]
    },
    {
     "cell_type": "code",
     "collapsed": false,
     "input": [
      "\n",
      "\n",
      "import math\n",
      "\n",
      "#Variable declaration\n",
      "\n",
      "L = 0.2                     #length of the box (nm)\n",
      "me = 511 * 10 ** 3          #mass of electron (eV/c^2)\n",
      "hc = 197.3                  #(eV.nm)\n",
      "\n",
      "#Calculation\n",
      "\n",
      "E1 = math.pi ** 2 * hc**2 /(2* me * L**2)\n",
      "E2 = 2**2 * E1\n",
      "dE = E2-E1\n",
      "lamda = hc*2*math.pi / dE\n",
      "\n",
      "#result\n",
      "\n",
      "print \"The energy required is\",round(dE,1),\"eV and the wavelength of the photon that could cause this transition is\",round(lamda),\"nm.\""
     ],
     "language": "python",
     "metadata": {},
     "outputs": [
      {
       "output_type": "stream",
       "stream": "stdout",
       "text": [
        "The energy required is 28.2 eV and the wavelength of the photon that could cause this transition is 44.0 nm.\n"
       ]
      }
     ],
     "prompt_number": 5
    },
    {
     "cell_type": "heading",
     "level": 2,
     "metadata": {},
     "source": [
      "Example 6.8, page no. 211"
     ]
    },
    {
     "cell_type": "code",
     "collapsed": false,
     "input": [
      "\n",
      "import math\n",
      "\n",
      "#Variable declaration\n",
      "\n",
      "h = 197.3               #(eV.nm/c)\n",
      "m = 511 * 10**3         #mass of electron (eV/c**2)\n",
      "U = 100                 #(eV)\n",
      "L = 0.200               #width(nm)\n",
      "\n",
      "#Calculation\n",
      "\n",
      "d = h /math.sqrt(2*m*U)\n",
      "E = math.pi**2 * h**2 /(2*m*(L+2*d)**2)\n",
      "new_U = U - E\n",
      "d = h/math.sqrt(2*m*new_U)\n",
      "E = math.pi**2 * h**2 /(2*m*(L+2*d)**2)\n",
      "\n",
      "#result\n",
      "\n",
      "print \"The ground-state energy for the electron is\",round(E,3),\"eV.\""
     ],
     "language": "python",
     "metadata": {},
     "outputs": [
      {
       "output_type": "stream",
       "stream": "stdout",
       "text": [
        "The ground-state energy for the electron is 6.506 eV.\n"
       ]
      }
     ],
     "prompt_number": 7
    },
    {
     "cell_type": "heading",
     "level": 2,
     "metadata": {},
     "source": [
      "Example 6.13, page no. 217"
     ]
    },
    {
     "cell_type": "code",
     "collapsed": false,
     "input": [
      "\n",
      "import math\n",
      "\n",
      "#Variable declaration\n",
      "\n",
      "m = 0.0100       #mass of the spring (kg)\n",
      "K = 0.100        #force constant of spring (N/m)\n",
      "Kh = 510.5       #force constant of hydrogen (N/m)\n",
      "h = 6.582 * 10**-16#Planck's constant (eV.s)\n",
      "mu = 8.37 * 10**-28#mass of hydrogen molecule(kg)\n",
      "\n",
      "#calculation\n",
      "\n",
      "w = math.sqrt(K / m)\n",
      "dE = h * w\n",
      "wh =math.sqrt(Kh / mu)\n",
      "dEh = h * wh\n",
      "\n",
      "#results\n",
      "\n",
      "print \"The quantum level spacing in the spring case is\",round(dE/10**-15,2),\"X 10^-15 eV, while in case of hydrogen molecule it is\",round(dEh,3),\"eV which is easily measurable.\""
     ],
     "language": "python",
     "metadata": {},
     "outputs": [
      {
       "output_type": "stream",
       "stream": "stdout",
       "text": [
        "The quantum level spacing in the spring case is 2.08 X 10^-15 eV, while in case of hydrogen molecule it is 0.514 eV which is easily measurable.\n"
       ]
      }
     ],
     "prompt_number": 10
    }
   ],
   "metadata": {}
  }
 ]
}