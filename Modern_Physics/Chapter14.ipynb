{
 "metadata": {
  "name": "",
  "signature": "sha256:bb0d2851c786dd28ae3ad8cbd1e6a7fc5db7cc1384cc2031f2bb6380ed7515e2"
 },
 "nbformat": 3,
 "nbformat_minor": 0,
 "worksheets": [
  {
   "cells": [
    {
     "cell_type": "heading",
     "level": 1,
     "metadata": {},
     "source": [
      "Chapter 14: Nuclear Physics Apllications"
     ]
    },
    {
     "cell_type": "heading",
     "level": 2,
     "metadata": {},
     "source": [
      "Example 14.1, page no. 505"
     ]
    },
    {
     "cell_type": "code",
     "collapsed": false,
     "input": [
      "\n",
      "\n",
      "#Variable declaration\n",
      "\n",
      "MLi = 7.016003          #atomic mass of Lithium\n",
      "MH = 1.007825           #atomic mass of Hydrogen\n",
      "MHe = 4.002603          #atomic mass of Helium\n",
      "c2 = 931.50             #Square of speed of light (MeV/u)\n",
      "\n",
      "#Calculation\n",
      "\n",
      "Q = (MLi + MH - 2*MHe) * c2\n",
      "\n",
      "#Results\n",
      "\n",
      "print \"(a) The Q value is\",round(Q,1),\"MeV.\"\n",
      "\n",
      "\n",
      "\n",
      "#Variable declaration\n",
      "\n",
      "Kincident = 0.6     #kinetic energy of incident particle (MeV)\n",
      "\n",
      "#Calculation\n",
      "\n",
      "Kproducts = Q + Kincident\n",
      "\n",
      "#Results\n",
      "\n",
      "print \"(b) The kinetic energy of the products is\",round(Kproducts,1),\"MeV.\""
     ],
     "language": "python",
     "metadata": {},
     "outputs": [
      {
       "output_type": "stream",
       "stream": "stdout",
       "text": [
        "(a) The Q value is 17.3 MeV.\n",
        "(b) The kinetic energy of the products is 17.9 MeV.\n"
       ]
      }
     ],
     "prompt_number": 6
    },
    {
     "cell_type": "heading",
     "level": 2,
     "metadata": {},
     "source": [
      "Example 14.2, page no. 509"
     ]
    },
    {
     "cell_type": "code",
     "collapsed": false,
     "input": [
      "\n",
      "\n",
      "#Variable declaration\n",
      "\n",
      "A = 27      #Atomic number of Aluminum\n",
      "d = 2.7     #density of aluminum\n",
      "Av = 6.02 * 10 ** 23    #Avogadro number nuclei/mol\n",
      "sigma = 2.0 * 10 **-31  #capture cross section (m^2)\n",
      "x = 0.3 * 10 ** -3      #thickness of the foil(m)\n",
      "R0 = 5.0 * 10 ** 12     #rate of incident particles(neutrons/cm^2.s)\n",
      "\n",
      "#Calculation\n",
      "\n",
      "n = Av * d / A * 10**6\n",
      "R = R0 * sigma * x * n\n",
      "\n",
      "#Result\n",
      "\n",
      "print \"The number of neutrons captured by 1.0cm^2/s is \",round(R/10**7,1),\"X 10^7 neutrons/cm^2.s\"\n",
      "\n",
      "\n"
     ],
     "language": "python",
     "metadata": {},
     "outputs": [
      {
       "output_type": "stream",
       "stream": "stdout",
       "text": [
        "The number of neutrons captured by 1.0cm^2/s is  1.8 X 10^7 neutrons/cm^2.s\n"
       ]
      }
     ],
     "prompt_number": 9
    },
    {
     "cell_type": "heading",
     "level": 2,
     "metadata": {},
     "source": [
      "Example 14.3, page no. 512"
     ]
    },
    {
     "cell_type": "code",
     "collapsed": false,
     "input": [
      "\n",
      "#Variable declaration\n",
      "\n",
      "A = 235         #atomic number of uranium\n",
      "m = 10**3       #mass of 235U\n",
      "Av = 6.02*10**23#avogadro number (nuclei/mol)\n",
      "Q = 208         #disintegration energy per event (MeV)\n",
      "\n",
      "#Calculation\n",
      "\n",
      "N = Av * m / A\n",
      "E = N * Q\n",
      "\n",
      "#Result\n",
      "\n",
      "print \"The disintegration energy is\",round(E/10**26,2),\"X 10^26 MeV.\""
     ],
     "language": "python",
     "metadata": {},
     "outputs": [
      {
       "output_type": "stream",
       "stream": "stdout",
       "text": [
        "The disintegration energy is 5.33 X 10^26 MeV.\n"
       ]
      }
     ],
     "prompt_number": 12
    },
    {
     "cell_type": "heading",
     "level": 2,
     "metadata": {},
     "source": [
      "Example 14.4, page no. 513"
     ]
    },
    {
     "cell_type": "code",
     "collapsed": false,
     "input": [
      "\n",
      "\n",
      "#Variable declaration\n",
      "\n",
      "A = 235     #atomic mass of Uranium\n",
      "Av = 6.02 * 10**23 # Avagadro's number\n",
      "Q = 208            # disintegration energy per event  (MeV)\n",
      "\n",
      "#Calculation\n",
      "\n",
      "N = Av / A  *10**3  #No of nuclei in 1kg of 235U\n",
      "E = N*Q             #disintegration energy (MeV)\n",
      "\n",
      "#result\n",
      "\n",
      "print \"The disintegration energy is\",round(E/10**26,2),\" X 10^26 MeV.\""
     ],
     "language": "python",
     "metadata": {},
     "outputs": [
      {
       "output_type": "stream",
       "stream": "stdout",
       "text": [
        "The disintegration energy is 5.33  X 10^26 MeV.\n"
       ]
      }
     ],
     "prompt_number": 14
    },
    {
     "cell_type": "heading",
     "level": 2,
     "metadata": {},
     "source": [
      "Example 14.5, page no. 513"
     ]
    },
    {
     "cell_type": "code",
     "collapsed": false,
     "input": [
      "\n",
      "#Variable declaration\n",
      "\n",
      "rBa = 6.2 * 10 **-15    #nuclear radius of Ba(m)\n",
      "rKr = 5.4 * 10**-15     #nuclear radius of Kr(m)\n",
      "Z1 = 56                 #atomic number of Ba\n",
      "Z2 = 36                 #atomic number of Kr\n",
      "k = 1.440 * 10 **-9     #Coulomb constant (eV.nm)\n",
      "\n",
      "#Calculation\n",
      "\n",
      "r = rBa + rKr\n",
      "U = k * Z1 * Z2 /( round(r/10**-15) * 10**-15)\n",
      "\n",
      "#Result\n",
      "\n",
      "print \"The potential energy of the two nuclei is\",round(U/10**6),\"MeV.\" "
     ],
     "language": "python",
     "metadata": {},
     "outputs": [
      {
       "output_type": "stream",
       "stream": "stdout",
       "text": [
        "The potential energy of the two nuclei is 242.0 MeV.\n"
       ]
      }
     ],
     "prompt_number": 17
    },
    {
     "cell_type": "heading",
     "level": 2,
     "metadata": {},
     "source": [
      "Example 14.6, page no. 519"
     ]
    },
    {
     "cell_type": "code",
     "collapsed": false,
     "input": [
      "\n",
      "\n",
      "#variable declaration\n",
      "\n",
      "e = 1.6 * 10 ** -19     #electron charge (C)\n",
      "r = 1.0 * 10**-14       #separation (m)\n",
      "k = 8.99 * 10**9        #Coulomb constant(N.m^2/C^2)\n",
      "\n",
      "#Calculation\n",
      "\n",
      "U = k * e**2/ r\n",
      "\n",
      "#result\n",
      "\n",
      "print \"(a)The height of the potential barrier is\",round(U/e/10**6,2),\"MeV.\"\n",
      "\n",
      "\n",
      "#Variable Declaration\n",
      "\n",
      "kB = 1.38 * 10**-23         #Boltzmann's constant (J/K)\n",
      "\n",
      "#Calculation\n",
      "\n",
      "T = (U/2.0)*(2.0/3.0)/(kB+.07*10**-23)\n",
      "\n",
      "#Result\n",
      "\n",
      "print\"(b)The effective temperature is\",round(T/10**8,1),\"X 10^8 K.\""
     ],
     "language": "python",
     "metadata": {},
     "outputs": [
      {
       "output_type": "stream",
       "stream": "stdout",
       "text": [
        "(a)The height of the potential barrier is 0.14 MeV.\n",
        "(b)The effective temperature is 5.3 X 10^8 K.\n"
       ]
      }
     ],
     "prompt_number": 22
    },
    {
     "cell_type": "heading",
     "level": 2,
     "metadata": {},
     "source": [
      "Example 14.7, page no. 530"
     ]
    },
    {
     "cell_type": "code",
     "collapsed": false,
     "input": [
      "\n",
      "import math\n",
      "\n",
      "#variable declaration\n",
      "\n",
      "mu = 55         #mu for x-rays \n",
      "\n",
      "#Calculation\n",
      "\n",
      "x = math.log(2)/mu\n",
      "\n",
      "#Result\n",
      "\n",
      "print \"The half value thickness for lead is\",round(x/10**-2,2),\"X 10^-2 cm.\""
     ],
     "language": "python",
     "metadata": {},
     "outputs": [
      {
       "output_type": "stream",
       "stream": "stdout",
       "text": [
        "The half value thickness for lead is 1.26 X 10^-2 cm.\n"
       ]
      }
     ],
     "prompt_number": 24
    }
   ],
   "metadata": {}
  }
 ]
}