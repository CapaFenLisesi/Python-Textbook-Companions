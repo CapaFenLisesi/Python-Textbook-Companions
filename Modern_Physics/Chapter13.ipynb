{
 "metadata": {
  "name": "",
  "signature": "sha256:8b9d9c8500ecb20deeeb6f065d1408d228b300a0b95f2800ee645e0184760d45"
 },
 "nbformat": 3,
 "nbformat_minor": 0,
 "worksheets": [
  {
   "cells": [
    {
     "cell_type": "heading",
     "level": 1,
     "metadata": {},
     "source": [
      "Chapter 13: Nuclear Structure "
     ]
    },
    {
     "cell_type": "heading",
     "level": 2,
     "metadata": {},
     "source": [
      "Example 13.1, page no. 466"
     ]
    },
    {
     "cell_type": "code",
     "collapsed": false,
     "input": [
      "\n",
      "\n",
      "#Variable Declaration\n",
      "\n",
      "NA = 6.02 * 10 ** 23    # Avogadro's number\n",
      "m = 0.012               # one mole of carbon (kg)\n",
      "mC = 12                 # mass of one atom(1u)\n",
      " \n",
      "#Calculation\n",
      "\n",
      "ma = m/NA\n",
      "u = ma / mC\n",
      "\n",
      "#Results\n",
      "\n",
      "print \"The atomic mass unit is \",round(u/10**-27,2),\"X 10^-27 kg.\""
     ],
     "language": "python",
     "metadata": {},
     "outputs": [
      {
       "output_type": "stream",
       "stream": "stdout",
       "text": [
        "The atomic mass unit is  1.66 X 10^-27 kg.\n"
       ]
      }
     ],
     "prompt_number": 2
    },
    {
     "cell_type": "heading",
     "level": 2,
     "metadata": {},
     "source": [
      "Example 13.2, page no. 468"
     ]
    },
    {
     "cell_type": "code",
     "collapsed": false,
     "input": [
      "\n",
      "import math\n",
      "\n",
      "#Variable Declaration\n",
      "\n",
      "m = 1.67 * 10 ** -27    # mass of neutron(kg)\n",
      "r0 = 1.2 * 10 ** -15    # radius os the nucleus(m)\n",
      "\n",
      "#Calculation \n",
      "\n",
      "pn = 3* m /(4 * math.pi * r0**3)\n",
      "\n",
      "#Results\n",
      "\n",
      "print \"The nuclear density is\",round(pn/10**17,1),\"X 10^17 kg/m^3.\""
     ],
     "language": "python",
     "metadata": {},
     "outputs": [
      {
       "output_type": "stream",
       "stream": "stdout",
       "text": [
        "The nuclear density is 2.3 X 10^17 kg/m^3.\n"
       ]
      }
     ],
     "prompt_number": 3
    },
    {
     "cell_type": "heading",
     "level": 2,
     "metadata": {},
     "source": [
      "Example 13.3, page no. 473"
     ]
    },
    {
     "cell_type": "code",
     "collapsed": false,
     "input": [
      " \n",
      "\n",
      "#Variable Declaration\n",
      "\n",
      "MH = 1.007825       #mass of hydrogen (u)\n",
      "mn = 1.008665       #mass of neutron (u)\n",
      "M2 = 2.014102       #mass of deuteron (u)\n",
      "\n",
      "#Calculation\n",
      "\n",
      "Eb = (MH + mn - M2) * 931.494\n",
      "\n",
      "#results\n",
      "\n",
      "print \"The binding energy of deuteron is\",round(Eb,3),\"MeV.\""
     ],
     "language": "python",
     "metadata": {},
     "outputs": [
      {
       "output_type": "stream",
       "stream": "stdout",
       "text": [
        "The binding energy of deuteron is 2.224 MeV.\n"
       ]
      }
     ],
     "prompt_number": 5
    },
    {
     "cell_type": "heading",
     "level": 2,
     "metadata": {},
     "source": [
      "Example 13.4, page no. 482"
     ]
    },
    {
     "cell_type": "code",
     "collapsed": false,
     "input": [
      "\n",
      "#Variable declaration\n",
      "\n",
      "Thalf = 5730        #Half-life (yr)\n",
      "N = 1000            #No of carbon nuclei\n",
      "T = 22920           #(yr)\n",
      "\n",
      "#calculation\n",
      "n=N\n",
      "t = 0\n",
      "while(t!=T):\n",
      "    n = n/2\n",
      "    t = t + Thalf\n",
      "\n",
      "#result\n",
      "\n",
      "print \"The number of Carbon nuclei left after 22,920 yr is\",n"
     ],
     "language": "python",
     "metadata": {},
     "outputs": [
      {
       "output_type": "stream",
       "stream": "stdout",
       "text": [
        "The number of Carbon nuclei left after 22,920 yr is 62\n"
       ]
      }
     ],
     "prompt_number": 7
    },
    {
     "cell_type": "heading",
     "level": 2,
     "metadata": {},
     "source": [
      "Example 13.5, page no. 483"
     ]
    },
    {
     "cell_type": "code",
     "collapsed": false,
     "input": [
      "\n",
      "\n",
      "import math\n",
      "\n",
      "#Variable declaration\n",
      "\n",
      "Thalf = 1.6 * 10 ** 3       #Half-life (yr)\n",
      "s = 3.16 * 10 ** 7          #number of seconds in a year (s/yr)\n",
      "\n",
      "#Calculation\n",
      "\n",
      "lamda = 0.693 / (Thalf * s)\n",
      "\n",
      "#result\n",
      "\n",
      "print \"(a) The decay constant is\",round(lamda/10**-11,1),\"X 10^-11 s^-1.\"\n",
      "\n",
      "\n",
      "#Variable Declaration\n",
      "\n",
      "N0 = 3.0 * 10 ** 16         #number of radioactive nuclei at t=0\n",
      "Ci = 3.7 * 10 **10          \n",
      "\n",
      "#Calculation\n",
      "\n",
      "R0 = lamda * N0\n",
      "\n",
      "#results\n",
      "\n",
      "print \"(b) Its activity is\",round(R0/Ci/10**-6,1),\"X 10^-6 Ci.\"\n",
      "\n",
      "\n",
      "#Variable Declaration\n",
      "\n",
      "T = 2.0 * 10 ** 3       #(yr)\n",
      "\n",
      "#Calculation\n",
      "\n",
      "R = R0 * math.exp(-lamda*(T * s))\n",
      "\n",
      "#results\n",
      "\n",
      "print \"(c) The decay rate after 2.0 X 10^3 yr is\",round(R/10**5,1),\"X 10^5 decays/s\"\n"
     ],
     "language": "python",
     "metadata": {},
     "outputs": [
      {
       "output_type": "stream",
       "stream": "stdout",
       "text": [
        "(a) The decay constant is 1.4 X 10^-11 s^-1.\n",
        "(b) Its activity is 11.1 X 10^-6 Ci.\n",
        "(c) The decay rate after 2.0 X 10^3 yr is 1.7 X 10^5 decays/s\n"
       ]
      }
     ],
     "prompt_number": 10
    },
    {
     "cell_type": "heading",
     "level": 2,
     "metadata": {},
     "source": [
      "Example 13.6, page no. 483"
     ]
    },
    {
     "cell_type": "code",
     "collapsed": false,
     "input": [
      "\n",
      "\n",
      "import math\n",
      "\n",
      "#Variable Declaration\n",
      "\n",
      "A = 6.02 * 10 ** 23         #avogadro's number\n",
      "m = 3.50 * 10 ** -6         # mass of carbon(g)\n",
      "ma = 11.0                   #atomic mass of carbon (g)\n",
      "\n",
      "#Calculation\n",
      "\n",
      "N = m * A / ma\n",
      "\n",
      "#Result\n",
      "\n",
      "print \"(a) The number of nuclei samples at t=0 is\",round(N/10**17,2),\"X 10^17 nuclei.\"\n",
      "\n",
      "\n",
      "\n",
      "#Variable declaration\n",
      "\n",
      "Thalf = 20.4 * 60   #half-life (s)\n",
      "T = 8.00            #(h)\n",
      "\n",
      "#Calculation\n",
      "\n",
      "lamda = 0.693 / Thalf\n",
      "R0 = lamda * N\n",
      "R = R0 * math.exp(-lamda* T*60*60)\n",
      "\n",
      "#result\n",
      "\n",
      "print \"(b) The activity initially is\",round(R0/10**14,2),\"X 10^14 decay/s and after t=8.0h is\",round(R/10**6,2),\"X 10^6 decay/s\"\n"
     ],
     "language": "python",
     "metadata": {},
     "outputs": [
      {
       "output_type": "stream",
       "stream": "stdout",
       "text": [
        "(a) The number of nuclei samples at t=0 is 1.92 X 10^17 nuclei.\n",
        "(b) The activity initially is 1.08 X 10^14 decay/s and after t=8.0h is 8.99 X 10^6 decay/s\n"
       ]
      }
     ],
     "prompt_number": 12
    },
    {
     "cell_type": "heading",
     "level": 2,
     "metadata": {},
     "source": [
      "Example 13.7, page no. 484"
     ]
    },
    {
     "cell_type": "code",
     "collapsed": false,
     "input": [
      "\n",
      "\n",
      "import math\n",
      "\n",
      "#Variable Declaration\n",
      "\n",
      "Thalf = 8.04        # half-life (days)\n",
      "R0 = 5.0            #Activity at t=0 (mCi)\n",
      "R = 4.2             #Activity (mCi)\n",
      "\n",
      "#Calculation\n",
      "\n",
      "t = - (Thalf/0.693)* math.log(R/R0)\n",
      "\n",
      "#Result\n",
      "\n",
      "print \"The time elapsed is\",round(t,2),\"days.\""
     ],
     "language": "python",
     "metadata": {},
     "outputs": [
      {
       "output_type": "stream",
       "stream": "stdout",
       "text": [
        "The time elapsed is 2.02 days.\n"
       ]
      }
     ],
     "prompt_number": 16
    },
    {
     "cell_type": "heading",
     "level": 2,
     "metadata": {},
     "source": [
      "Example 13.8, page no. 486"
     ]
    },
    {
     "cell_type": "code",
     "collapsed": false,
     "input": [
      " \n",
      "\n",
      "#Variable Declaration\n",
      "\n",
      "Mx = 226.025406         #atomic mass of 226Ra(u)\n",
      "My = 222.017574         #atomic mass of 222Rn(u)\n",
      "Ma = 4.002603           #atomic mass of 4He (u)\n",
      "\n",
      "#Calculation\n",
      "\n",
      "Q = (Mx - My - Ma) * 931.494\n",
      "\n",
      "#Result\n",
      "\n",
      "print \"Q value is\",round(Q,2),\"MeV.\""
     ],
     "language": "python",
     "metadata": {},
     "outputs": [
      {
       "output_type": "stream",
       "stream": "stdout",
       "text": [
        "Q value is 4.87 MeV.\n"
       ]
      }
     ],
     "prompt_number": 18
    },
    {
     "cell_type": "heading",
     "level": 2,
     "metadata": {},
     "source": [
      "Example 13.9, page no. 487"
     ]
    },
    {
     "cell_type": "code",
     "collapsed": false,
     "input": [
      "\n",
      "import math\n",
      "#Variable declaration\n",
      "\n",
      "r0 = 7.25 * 10**-5        #Bohr radius for alpha particle(A')\n",
      "Z = 86                    #daughter nucleus radon's atomic number\n",
      "A = 222                   #radon's mass number\n",
      "ke2 = 14.40               #boltzmann constant X (charge of electron)^2 (eV.A')\n",
      "E = 5                     #disintegration energy (MeV)\n",
      "\n",
      "#Calculation\n",
      "\n",
      "E0 = ke2 / (2.0*r0) * 10**-6             #Energy unit analogous to Rydberg (MeV)\n",
      "R = (1.2 * 10**-5) *(A)**(1.0/3.0)       #radius of Radon  nucleus(A')\n",
      "Te = math.exp(round(-4*math.pi*Z*math.sqrt(E0/E)+8*math.sqrt(Z*R/r0)))\n",
      "\n",
      "#result\n",
      "print \"The probability of escape of alpha particle is\",round(Te/10**-34,2),\"X 10^-34\""
     ],
     "language": "python",
     "metadata": {},
     "outputs": [
      {
       "output_type": "stream",
       "stream": "stdout",
       "text": [
        "The probability of escape of alpha particle is 1.33 X 10^-34\n"
       ]
      }
     ],
     "prompt_number": 21
    },
    {
     "cell_type": "heading",
     "level": 2,
     "metadata": {},
     "source": [
      "Example 13.11, page no. 490"
     ]
    },
    {
     "cell_type": "code",
     "collapsed": false,
     "input": [
      "\n",
      "\n",
      "import math\n",
      "\n",
      "#Variable Declaration\n",
      "\n",
      "Thalf = 5730         # half-life (yr)\n",
      "s = 3.16 * 10 ** 7   # (s/yr)\n",
      "A = 6.02 * 10 ** 23  # Avogadro's number\n",
      "mw = 12.0            # molar weight of carbon(g)\n",
      "m = 25.0             # mass of carbon(g)   \n",
      "r = 1.3 * 10 ** -12  # ratio of 14C to 12C\n",
      "R = 250              # activity observed (decays/min)\n",
      "\n",
      "#Calculation\n",
      "\n",
      "lamda = 0.693 /(Thalf * s)\n",
      "N1 = A * m/mw\n",
      "N0 = r * N1\n",
      "R0 = N0 * lamda\n",
      "t = -(1/lamda)*math.log(R/(R0*60))\n",
      " \n",
      "#Result\n",
      "\n",
      "print \"The tree has been dead for\",round(round(t/10**11)*10**11/s/10**3,1),\"X 10^3 yr.\""
     ],
     "language": "python",
     "metadata": {},
     "outputs": [
      {
       "output_type": "stream",
       "stream": "stdout",
       "text": [
        "The tree has been dead for 3.2 X 10^3 yr.\n"
       ]
      }
     ],
     "prompt_number": 25
    }
   ],
   "metadata": {}
  }
 ]
}