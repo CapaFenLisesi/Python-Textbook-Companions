{
 "metadata": {
  "name": "",
  "signature": "sha256:75c249ea2e8c0a6e5f6f1e7aa12f02f35c3e7e62df28f6611e18b53d1b7e6dcd"
 },
 "nbformat": 3,
 "nbformat_minor": 0,
 "worksheets": [
  {
   "cells": [
    {
     "cell_type": "heading",
     "level": 1,
     "metadata": {},
     "source": [
      "Chapter 7: Tunneling Phenomena"
     ]
    },
    {
     "cell_type": "heading",
     "level": 2,
     "metadata": {},
     "source": [
      "Example 7.1, page no. 235"
     ]
    },
    {
     "cell_type": "code",
     "collapsed": false,
     "input": [
      "\n",
      "\n",
      "import math\n",
      "\n",
      "#Variable declaration\n",
      "h = 1.973 * 10**3       #planck's constant (eV.A'/c)\n",
      "me = 511 * 10**3        #mass of electron (eV/c^2)\n",
      "U = 10.0\n",
      "E = 7.0\n",
      "L = 50.00               #thickness of layer (A')\n",
      "\n",
      "#Calculation\n",
      "\n",
      "a = math.sqrt(2*me*(U-E))/h\n",
      "T=(1.0+(1.0/4.0)*(U**2/(E*(U-E)))*(math.sinh(a*L))**2)**-1\n",
      "\n",
      "#Result\n",
      "\n",
      "print \"The transmission coefficient for L=\",L,\"A' is\",round(T/10**-38,3),\"X 10^-38\"\n",
      "\n",
      "#(b)if the layer thickness is 1.00nm.\n",
      "\n",
      "#Variable Declaration\n",
      "\n",
      "L = 10          #thickness of layer (A')\n",
      "\n",
      "#Calculation\n",
      "\n",
      "T=(1.0+(1.0/4.0)*(U**2/(E*(U-E)))*(math.sinh(a*L))**2)**-1\n",
      "\n",
      "#Result\n",
      "\n",
      "print \"The transmission coefficient for L=\",L,\"A' is\",round(T/10**-7,3),\"X 10^-7\""
     ],
     "language": "python",
     "metadata": {},
     "outputs": [
      {
       "output_type": "stream",
       "stream": "stdout",
       "text": [
        "The transmission coefficient for L= 50.0 A' is 0.963 X 10^-38\n",
        "The transmission coefficient for L= 10 A' is 0.657 X 10^-7\n"
       ]
      }
     ],
     "prompt_number": 3
    },
    {
     "cell_type": "heading",
     "level": 2,
     "metadata": {},
     "source": [
      "Example 7.2, page no. 236"
     ]
    },
    {
     "cell_type": "code",
     "collapsed": false,
     "input": [
      "\n",
      "#Variable declaration\n",
      "\n",
      "e = 1.6 * 10 ** -19     #charge of electron (C)\n",
      "I = 1.00 * 10 ** -3     #electron current(A)\n",
      "T = 0.657 *10**-7       #Transmission coefficient\n",
      "\n",
      "#Calculation\n",
      "\n",
      "Ne = I / e\n",
      "Nadj = Ne * T\n",
      "Iadj = Nadj * e\n",
      "\n",
      "#Result\n",
      "\n",
      "print \"The number of electrons per second continuing on the adjacent wire is\",round(Nadj/10**8,2),\"X 10^8 and the transmitted current is\",round(Iadj/10**-12,1),\"pA.\""
     ],
     "language": "python",
     "metadata": {},
     "outputs": [
      {
       "output_type": "stream",
       "stream": "stdout",
       "text": [
        "The number of electrons per second continuing on the adjacent wire is 4.11 X 10^8 and the transmitted current is 65.7 pA.\n"
       ]
      }
     ],
     "prompt_number": 8
    },
    {
     "cell_type": "heading",
     "level": 2,
     "metadata": {},
     "source": [
      "Example 7.5, page no. 241"
     ]
    },
    {
     "cell_type": "code",
     "collapsed": false,
     "input": [
      "\n",
      "\n",
      "import math\n",
      "\n",
      "#Variable Declaration\n",
      "\n",
      "e = 1.6 * 10 **-19      #charge of electron(C)\n",
      "f = 1.0*10**30          #collision frequency (s^-1.cm^-2)\n",
      "Ec = 5.5 * 10 ** 10     \n",
      "V = 10 * 10 ** 3        #potential difference(V)\n",
      "d = 0.010 * 10**-3      #plate separation(m)\n",
      "\n",
      "#Calculation\n",
      "\n",
      "E = V /d\n",
      "Te = math.exp(-Ec/E)\n",
      "rate = f * Te\n",
      "I = e * rate\n",
      "\n",
      "#result\n",
      "\n",
      "print \"The tunneling current is\",round(I/10**-12,2),\"pA.\""
     ],
     "language": "python",
     "metadata": {},
     "outputs": [
      {
       "output_type": "stream",
       "stream": "stdout",
       "text": [
        "The tunneling current is 0.21 pA.\n"
       ]
      }
     ],
     "prompt_number": 12
    },
    {
     "cell_type": "heading",
     "level": 2,
     "metadata": {},
     "source": [
      "Example 7.6, page no. 244"
     ]
    },
    {
     "cell_type": "code",
     "collapsed": false,
     "input": [
      " \n",
      "\n",
      "import math\n",
      "\n",
      "#Variable declaration\n",
      "\n",
      "Zth = 90            #atomic number of thorium\n",
      "Zdth = 88           #atomic number of thorium's daughter nucleus\n",
      "E = 4.05            #energy of ejected alphas(MeV)\n",
      "Zpo = 84            #atomic number of polonium\n",
      "Zdpo = 82           #atomic number of polonium's daughter nucleus\n",
      "Epo = 8.95            #energy of ejected alphas(MeV)\n",
      "R = 9.00            #nucleus size(fm)\n",
      "r0 = 7.25           #Bohr radius of alpha(fm)\n",
      "E0 = 0.0993         #(MeV)\n",
      "f = 10 ** 21        #collision frequency(Hz)\n",
      "\n",
      "\n",
      "#Calculation\n",
      "\n",
      "Te = math.exp(-4*math.pi*Zdth*math.sqrt((E0/E))+ 8 * math.sqrt(Zdth*R/r0))\n",
      "rate = f * Te\n",
      "t = math.log(2)/rate\n",
      "Tep = math.exp(-4*math.pi*Zdpo*math.sqrt((E0/Epo))+ 8 * math.sqrt(Zdpo*R/r0))\n",
      "ratep = f * Tep\n",
      "tp = math.log(2)/ratep\n",
      "\n",
      "\n",
      "#Result\n",
      "\n",
      "print \"The half life of thorium is\",round(t/10**17,1),\"X 10^17 s and that of polonium is\",round(tp/10**-10,1),\"X 10^-10 s.\""
     ],
     "language": "python",
     "metadata": {},
     "outputs": [
      {
       "output_type": "stream",
       "stream": "stdout",
       "text": [
        "The half life of thorium is 5.4 X 10^17 s and that of polonium is 8.4 X 10^-10 s.\n"
       ]
      }
     ],
     "prompt_number": 14
    }
   ],
   "metadata": {}
  }
 ]
}