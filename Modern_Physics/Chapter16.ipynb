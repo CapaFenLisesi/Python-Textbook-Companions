{
 "metadata": {
  "name": "",
  "signature": "sha256:f4f136f0af18cf143b33cec13dfb6a06f3807644fa35b75af1bd5439584b255b"
 },
 "nbformat": 3,
 "nbformat_minor": 0,
 "worksheets": [
  {
   "cells": [
    {
     "cell_type": "heading",
     "level": 1,
     "metadata": {},
     "source": [
      "Chapter 16: Cosmology"
     ]
    },
    {
     "cell_type": "heading",
     "level": 2,
     "metadata": {},
     "source": [
      "Example 16.1, page no. 15"
     ]
    },
    {
     "cell_type": "code",
     "collapsed": false,
     "input": [
      "\n",
      "#Variable declaration\n",
      "\n",
      "c = 3.0 * 10 ** 5       #speed of light (km/s)\n",
      "H0 = 20 * 10**-6        #(km/s/lightyear)\n",
      "\n",
      "#Calculation\n",
      "\n",
      "Rmax = c/(4*H0)\n",
      "\n",
      "#Result\n",
      "\n",
      "print \"The maximum distance at which the Hubble's law applies without relativistic correction is\",round(Rmax/10**9),\"X 10^9 lightyears.\""
     ],
     "language": "python",
     "metadata": {},
     "outputs": [
      {
       "output_type": "stream",
       "stream": "stdout",
       "text": [
        "The maximum distance at which the Hubble's law applies without relativistic correction is 4.0 X 10^9 lightyears.\n"
       ]
      }
     ],
     "prompt_number": 2
    }
   ],
   "metadata": {}
  }
 ]
}