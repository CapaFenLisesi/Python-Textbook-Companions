{
 "metadata": {
  "name": "",
  "signature": "sha256:a22a4cd44988289c63c9da64c71766c244fd20324a2c5a80b53d48938212c4cc"
 },
 "nbformat": 3,
 "nbformat_minor": 0,
 "worksheets": [
  {
   "cells": [
    {
     "cell_type": "heading",
     "level": 1,
     "metadata": {},
     "source": [
      "Chapter 9: Atomic Structure"
     ]
    },
    {
     "cell_type": "heading",
     "level": 2,
     "metadata": {},
     "source": [
      "Example 9.1, page no. 300"
     ]
    },
    {
     "cell_type": "code",
     "collapsed": false,
     "input": [
      "\n",
      "\n",
      "#Variable declaration\n",
      "\n",
      "Ub = 9.27 * 10 ** -24       #(J/T)\n",
      "B = 1.00                    #magnetic field strength (T)\n",
      "h = 6.58 * 10 ** -16        #Planck's constant (eV.s)\n",
      "e = 1.6 * 10 ** -19         #electron charge (C)\n",
      "\n",
      "#Calculation\n",
      "\n",
      "hwl = Ub * B / e\n",
      "wl = hwl / h\n",
      "\n",
      "#results\n",
      "\n",
      "print \"The magnetic energy is\",round(hwl/10**-5,2),\"x 10^-5 eV and the Larmor frequency is\",round(wl/10**10,2),\"x 10^10 rad/s.\"\n"
     ],
     "language": "python",
     "metadata": {},
     "outputs": [
      {
       "output_type": "stream",
       "stream": "stdout",
       "text": [
        "The magnetic energy is 5.79 x 10^-5 eV and the Larmor frequency is 8.81 x 10^10 rad/s.\n"
       ]
      }
     ],
     "prompt_number": 2
    },
    {
     "cell_type": "heading",
     "level": 2,
     "metadata": {},
     "source": [
      "Example 9.4, page no. 311"
     ]
    },
    {
     "cell_type": "code",
     "collapsed": false,
     "input": [
      "\n",
      "#Variable declaration\n",
      "\n",
      "l2 = 589.592            #sodium doublet wavelength (nm)\n",
      "l1 = 588.995            #sodium doublet wavelength (nm)\n",
      "hc = 1240               #planck's constant X speed of light (eV.nm)\n",
      "\n",
      "#Calculation\n",
      "\n",
      "dE = hc * (l2-l1)/(l2*l1)\n",
      "\n",
      "#Results\n",
      "\n",
      "print \"dE =\",round(dE/10**-3,2),\"X 10^-3 eV represents the spin orbit splitting of the initial levels.\""
     ],
     "language": "python",
     "metadata": {},
     "outputs": [
      {
       "output_type": "stream",
       "stream": "stdout",
       "text": [
        "dE = 2.13 X 10^-3 eV represents the spin orbit splitting of the initial levels.\n"
       ]
      }
     ],
     "prompt_number": 6
    },
    {
     "cell_type": "heading",
     "level": 2,
     "metadata": {},
     "source": [
      "Example 9.6, page no. 317"
     ]
    },
    {
     "cell_type": "code",
     "collapsed": false,
     "input": [
      "\n",
      "import math\n",
      "\n",
      "#Variable declaration\n",
      "\n",
      "E = -5.14           #Energy of the 3s electron in sodium (eV)\n",
      "Eh = 13.6           #energy of the 3s electron in hydrogen (eV)\n",
      "\n",
      "\n",
      "#Calculation\n",
      "\n",
      "Zeff = 3 * math.sqrt(-E/Eh)\n",
      "\n",
      "#Results\n",
      "\n",
      "print \"Zeff for the 3s electron in sodium is\",round(Zeff,2)"
     ],
     "language": "python",
     "metadata": {},
     "outputs": [
      {
       "output_type": "stream",
       "stream": "stdout",
       "text": [
        "Zeff for the 3s electron in sodium is 1.84\n"
       ]
      }
     ],
     "prompt_number": 10
    }
   ],
   "metadata": {}
  }
 ]
}