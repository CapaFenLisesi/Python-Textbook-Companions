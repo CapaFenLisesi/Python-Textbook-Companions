{
 "metadata": {
  "name": "",
  "signature": "sha256:eb498fc54ec9607231510853c13ca78b6bdacd256b3a6b8f272ed771d86d795c"
 },
 "nbformat": 3,
 "nbformat_minor": 0,
 "worksheets": [
  {
   "cells": [
    {
     "cell_type": "heading",
     "level": 1,
     "metadata": {},
     "source": [
      "Chapter 2: Relativity II"
     ]
    },
    {
     "cell_type": "heading",
     "level": 2,
     "metadata": {},
     "source": [
      "Example 2.1, page no. 44"
     ]
    },
    {
     "cell_type": "code",
     "collapsed": false,
     "input": [
      "\n",
      "\n",
      "import math\n",
      "\n",
      "#Variable declaration\n",
      "\n",
      "m = 9.11 * 10 **-31         #mass of electron(kg)\n",
      "c = 3.0 * 10**8             #speed of light(m/s)\n",
      "u = 0.750 * c               #speed of electron(m/s)\n",
      "\n",
      "#calculation\n",
      "\n",
      "p = m*u/(math.sqrt(1-(u**2/c**2)))          \n",
      "momentum = m * u\n",
      "\n",
      "#result\n",
      "\n",
      "print \"The correct relativistic momentum is\",round(p/10**-22,2),\"X 10^-22 kg m/s\"\n",
      "print \"The incorrect classical expression results in momentum equal to\",round(momentum/10**-22,2),\"X 10^-22 kg m/s\"\n"
     ],
     "language": "python",
     "metadata": {},
     "outputs": [
      {
       "output_type": "stream",
       "stream": "stdout",
       "text": [
        "The correct relativistic momentum is 3.1 X 10^-22 kg m/s\n",
        "The incorrect classical expression results in momentum equal to 2.05 X 10^-22 kg m/s\n"
       ]
      }
     ],
     "prompt_number": 3
    },
    {
     "cell_type": "heading",
     "level": 2,
     "metadata": {},
     "source": [
      "Example 2.3, page no. 47"
     ]
    },
    {
     "cell_type": "code",
     "collapsed": false,
     "input": [
      "\n",
      "import math\n",
      "\n",
      "#Variable declaration\n",
      "\n",
      "me = 9.11 * 10 **-31        #mass of electron(kg)\n",
      "c = 3* 10** 8               #speed of light(m/s)\n",
      "u = 0.850 * c               #speed of electron (m/s)\n",
      "e = 1.6 *10 **-19           #charge of electron(C)\n",
      "\n",
      "#Calculation\n",
      "\n",
      "E =  me*c**2/(e*math.sqrt(1-(u**2/c**2)))\n",
      "K = E - (me*c**2/e)\n",
      "\n",
      "#results\n",
      "\n",
      "print \"The Total energy is\",round(E/10**6,2),\"Mev and the kinetic energy is \",round(K/10**6,3),\"Mev.\"\n"
     ],
     "language": "python",
     "metadata": {},
     "outputs": [
      {
       "output_type": "stream",
       "stream": "stdout",
       "text": [
        "The Total energy is 0.97 Mev and the kinetic energy is  0.46 Mev.\n"
       ]
      }
     ],
     "prompt_number": 7
    },
    {
     "cell_type": "heading",
     "level": 2,
     "metadata": {},
     "source": [
      "Example 2.4, page no. 47"
     ]
    },
    {
     "cell_type": "code",
     "collapsed": false,
     "input": [
      "\n",
      "\n",
      "import math\n",
      "\n",
      "\n",
      "#Variable Declaration\n",
      "\n",
      "mp = 1.67 * 10 ** -27       #mass of proton (kg)\n",
      "c = 3.0 * 10 ** 8              #speed of light(m/s)\n",
      "e = 1.602 * 10 ** -19         #charge of electron (C)\n",
      "\n",
      "#Calculation\n",
      "\n",
      "restenergy = mp * c**2/ e \n",
      "\n",
      "#result\n",
      "\n",
      "print \"The rest energy of proton is \",round(restenergy/10**6),\"Mev\"\n",
      "\n",
      "\n",
      "\n",
      "#Variable declaration\n",
      "\n",
      "E =  3.0 * restenergy\n",
      "\n",
      "#Calculation\n",
      "\n",
      "u = (math.sqrt(1-(1/(E/restenergy)**2))*c)\n",
      "\n",
      "#result\n",
      "\n",
      "print \"The speed of proton is\",round(u/10**8,2),\"X 10^8 m/s. \"\n",
      "\n",
      "\n",
      "#calculation\n",
      "\n",
      "K = E - restenergy\n",
      "\n",
      "#result\n",
      "\n",
      "print \"The kinetic energy of proton is\",round(K/10**6),\"Mev\"\n",
      "\n",
      "\n",
      "#calculation\n",
      "\n",
      "p=math.sqrt(round(E)**2 - round(restenergy)**2)/c\n",
      "\n",
      "#result\n",
      "\n",
      "print \"The proton's momentum is \",round(p * c/10**6),\"Mev/c\""
     ],
     "language": "python",
     "metadata": {},
     "outputs": [
      {
       "output_type": "stream",
       "stream": "stdout",
       "text": [
        "The rest energy of proton is  938.0 Mev\n",
        "The speed of proton is 2.83 X 10^8 m/s. \n",
        "The kinetic energy of proton is 1876.0 Mev\n",
        "The proton's momentum is  2654.0 Mev/c\n"
       ]
      }
     ],
     "prompt_number": 9
    },
    {
     "cell_type": "heading",
     "level": 2,
     "metadata": {},
     "source": [
      "Example 2.5, page no. 49"
     ]
    },
    {
     "cell_type": "code",
     "collapsed": false,
     "input": [
      " \n",
      "#Variable Declaration\n",
      "\n",
      "u = 450.0            #speed of the balls(m/s)\n",
      "c = 3.0 * 10 ** 8    #speed of light(m/s)\n",
      "m = 5.0              #mass of the ball (kg)\n",
      "\n",
      "#calculation\n",
      "\n",
      "dM = 2* m *(1+(u**2/(2*c**2))-1)   #because u^2/c^2 << 1\n",
      "\n",
      "#result\n",
      "\n",
      "print \"The mass increment is\",round(dM/10**-11,1),\"X10^-11 kg\""
     ],
     "language": "python",
     "metadata": {},
     "outputs": [
      {
       "output_type": "stream",
       "stream": "stdout",
       "text": [
        "The mass increment is 1.1 X10^-11 kg\n"
       ]
      }
     ],
     "prompt_number": 11
    },
    {
     "cell_type": "heading",
     "level": 2,
     "metadata": {},
     "source": [
      "Example 2.7, page no. 50"
     ]
    },
    {
     "cell_type": "code",
     "collapsed": false,
     "input": [
      "\n",
      "\n",
      "#Variable declaration\n",
      "\n",
      "u = 931.5              #atomic mass unit (MeV/c^2)\n",
      "Mu = 236.045563        #mass of uranuim (u)\n",
      "MRb = 89.914811        #mass of Rb (u)\n",
      "MCs = 142.927220       #mass of cs(u)\n",
      "mn = 1.008665          #mass of neutron (u)\n",
      "\n",
      "#Calculation\n",
      "\n",
      "dm = Mu - (MRb + MCs + 3 * mn)\n",
      "\n",
      "#result\n",
      "\n",
      "print \"The reaction products have \",dm,\"u less than the initial uranium mass\"\n",
      "\n",
      "\n",
      "#Variable declaration\n",
      "\n",
      "c = 3.0 * 10 ** 8       #speed of light (m/s)\n",
      "\n",
      "#calculation\n",
      "\n",
      "dm = dm * u\n",
      "Q = dm\n",
      "\n",
      "#result\n",
      "\n",
      "print \"the energy given off per fission event is\",-round(Q,1),\"MeV\"\n",
      "\n",
      "\n",
      "#Variable declaration\n",
      "\n",
      "A = 6.02 * 10 ** 23    #Avagadro number\n",
      "N = A * 1000/ Mu       #number of nuclei\n",
      "efficiency = 0.4\n",
      "kWh = 4.435 * 10 **-20  #conversion (kWh/MeV)\n",
      "\n",
      "#calculation\n",
      "\n",
      "E = efficiency * N * Q *kWh\n",
      "\n",
      "#result\n",
      "\n",
      "print \"The total energy produced is \" ,round(E/10 **6,2),\"X 10^6 kWh\"\n"
     ],
     "language": "python",
     "metadata": {},
     "outputs": [
      {
       "output_type": "stream",
       "stream": "stdout",
       "text": [
        "The reaction products have  0.177537 u less than the initial uranium mass\n",
        "the energy given off per fission event is -165.4 MeV\n",
        "The total energy produced is  7.48 X 10^6 kWh\n"
       ]
      }
     ],
     "prompt_number": 13
    },
    {
     "cell_type": "heading",
     "level": 2,
     "metadata": {},
     "source": [
      "Example 2.8, page no. 52"
     ]
    },
    {
     "cell_type": "code",
     "collapsed": false,
     "input": [
      " \n",
      "\n",
      "#Variable Declaration\n",
      "\n",
      "e = 1.6 * 10 **-19      #charge of electron(C)\n",
      "BE = 3                  #binding energy of water(eV)\n",
      "c = 3.0 * 10**8         #speed of light (m/s)\n",
      "\n",
      "#Calculation\n",
      "\n",
      "dm = BE * e / c**2\n",
      "\n",
      "#result\n",
      "\n",
      "print \"The mass difference is\",round(dm/10 **-36,1),\"X 10^-36 kg\"\n",
      "\n",
      "\n",
      "\n",
      "#Variable declaration\n",
      "\n",
      "MH2O = 3.0 * 10 **-26       #mass of water molecule (kg)\n",
      "\n",
      "#Calculation\n",
      "\n",
      "fractional_loss= dm / MH2O\n",
      "\n",
      "#result\n",
      "\n",
      "print \"The fractional loss of mass per gram of water formed is\",round(fractional_loss/10 ** -10,1),\"X 10^-10 \"\n",
      "\n",
      "\n",
      "#Variable declaration\n",
      "\n",
      "dm = 1.8 * 10 ** -13        #change in mass when 1 gram of water is formed (kg)\n",
      "\n",
      "#calculation\n",
      "\n",
      "E = dm * c**2\n",
      "\n",
      "#result\n",
      "\n",
      "print \"The energy released when 1 gram of H2O is formed is\",round(E/10**3),\"kJ\""
     ],
     "language": "python",
     "metadata": {},
     "outputs": [
      {
       "output_type": "stream",
       "stream": "stdout",
       "text": [
        "The mass difference is 5.3 X 10^-36 kg\n",
        "The fractional loss of mass per gram of water formed is 1.8 X 10^-10 \n",
        "The energy released when 1 gram of H2O is formed is 16.0 kJ\n"
       ]
      }
     ],
     "prompt_number": 15
    },
    {
     "cell_type": "heading",
     "level": 2,
     "metadata": {},
     "source": [
      "Example 2.9, page no. 52"
     ]
    },
    {
     "cell_type": "code",
     "collapsed": false,
     "input": [
      "\n",
      "import math\n",
      "\n",
      "#Variable declaration\n",
      "\n",
      "muCsq = 106        #energy of muon (Mev)\n",
      "Ku = 4.6            #kinetic energy of muon (Mev)\n",
      "\n",
      "#calculation\n",
      "\n",
      "mpiCsq = math.sqrt(muCsq**2 + Ku**2 + 2*Ku *muCsq)+math.sqrt(Ku**2 + 2*Ku*muCsq)\n",
      "\n",
      "#result\n",
      "\n",
      "print \"The mass of the pion is \",round(mpiCsq),\"MeV/c^2\""
     ],
     "language": "python",
     "metadata": {},
     "outputs": [
      {
       "output_type": "stream",
       "stream": "stdout",
       "text": [
        "The mass of the pion is  142.0 MeV/c^2\n"
       ]
      }
     ],
     "prompt_number": 17
    }
   ],
   "metadata": {}
  }
 ]
}