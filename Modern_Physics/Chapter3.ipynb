{
 "metadata": {
  "name": "",
  "signature": "sha256:6f3412539d62c2f676626072f86e8478aa55d9f7f8bd139276fa120f78482f67"
 },
 "nbformat": 3,
 "nbformat_minor": 0,
 "worksheets": [
  {
   "cells": [
    {
     "cell_type": "heading",
     "level": 1,
     "metadata": {},
     "source": [
      "Chapter 3: The Quantum Theory of Light"
     ]
    },
    {
     "cell_type": "heading",
     "level": 2,
     "metadata": {},
     "source": [
      "Example 3.1, page no. 69"
     ]
    },
    {
     "cell_type": "code",
     "collapsed": false,
     "input": [
      " \n",
      "\n",
      "#Variable declaration\n",
      "Rs=7.0 * (10 ** 8) \t#sun's radius (m)\n",
      "R = 1.5 *(10 ** 11)\t#earth to sun distance (m)\n",
      "a = 1  #since sun is considered as a blackbody \n",
      "k = 5.6 * (10 ** (-8))  #Stefan-Boltzmann constant ( W.m ^-2 .K^-4)\n",
      "eTotalR = 1400\t#power per unit area (W/m^2)\n",
      "\n",
      "#Calculations\n",
      "T = ((eTotalR * R * R) / (k * Rs * Rs) ) ** .25\n",
      "\n",
      "#Results\n",
      "print '%s %.2f %s' %('the surface temperature of the sun is',T,'K')\n",
      "\n"
     ],
     "language": "python",
     "metadata": {},
     "outputs": [
      {
       "output_type": "stream",
       "stream": "stdout",
       "text": [
        "the surface temperature of the sun is 5820.79 K\n"
       ]
      }
     ],
     "prompt_number": 1
    },
    {
     "cell_type": "heading",
     "level": 2,
     "metadata": {},
     "source": [
      "Example 3.2, page no. 75"
     ]
    },
    {
     "cell_type": "code",
     "collapsed": false,
     "input": [
      "\n",
      "\n",
      "import math\n",
      "\n",
      "#Variable declaration\n",
      "h = 6.63 * 10 ** -34 #planck's constant(Js)\n",
      "c = 3 * 10 ** 8      #speed of light(m/s)\n",
      "lgreen = 540 * 10 ** -9#wavelength of green light(m)\n",
      "lred = 700 *10**-9     #wavelength of red light(m)\n",
      "e = 1.602 * 10 ** -19 #charge of an electron(C)\n",
      "\n",
      "#calculation\n",
      "dEg =  h*c /(lgreen* e)\n",
      "dEr =  h*c/(lred * e)\n",
      "\n",
      "#results\n",
      "print '%s %s %s %s %s' %('the minimum energy change for ',lgreen * 10 ** 9,'nm is ',round(dEg,2),'eV')\n",
      "print '%s %s %s %s %s' %('the minimum energy change for ',lred * 10 ** 9,'nm is ',round(dEr,2),'eV')\n",
      "\n",
      "\n",
      "#Variable declaration\n",
      "l=1                 #length of the pendulum(m)\n",
      "m = 0.1             # mass of the pendulum(kg)\n",
      "g = 9.8             #acceleration due to gravity(m.s^-2)\n",
      "h = 6.63 *10 **-34  #planck's constant(J.s)\n",
      "theta = 10          # displaced angle\n",
      "\n",
      "#Calculations\n",
      "E = m * g * l *(1 - math.cos(math.pi * theta /180))\n",
      "f = math.sqrt(g /l) /(2* math.pi)\n",
      "Edelta = h *f\n",
      "\n",
      "#results\n",
      "print '%s %s %s' %('the pendulum frequency is',round(f,2),'Hz')\n",
      "print '%s %s %s' %('the total energy of the pendulum is',round(E,3),'J')\n",
      "print '%s %s %s' %('therefore an energy change of one quantum corresponds to',round(Edelta/10**-34,2),'x 10^-34 J')\n",
      "print '%s %s %s' %('Therefore the fractional change in energy ^E/E is ',round(Edelta/E/10**-32,2),'x 10^-32 ')"
     ],
     "language": "python",
     "metadata": {},
     "outputs": [
      {
       "output_type": "stream",
       "stream": "stdout",
       "text": [
        "the minimum energy change for  540.0 nm is  2.3 eV\n",
        "the minimum energy change for  700.0 nm is  1.77 eV\n",
        "the pendulum frequency is 0.5 Hz\n",
        "the total energy of the pendulum is 0.015 J\n",
        "therefore an energy change of one quantum corresponds to 3.3 x 10^-34 J\n",
        "Therefore the fractional change in energy ^E/E is  2.22 x 10^-32 \n"
       ]
      }
     ],
     "prompt_number": 5
    },
    {
     "cell_type": "heading",
     "level": 2,
     "metadata": {},
     "source": [
      "Example 3.3, page no. 80"
     ]
    },
    {
     "cell_type": "code",
     "collapsed": false,
     "input": [
      "\n",
      "\n",
      "#Variable declaration\n",
      "\n",
      "pi = 3.141      \n",
      "k = 1.381 * 10 **-23    #Boltzmann constant (J/K)\n",
      "c = 2.998 * 10 ** 8     #Speed of light (m/s)\n",
      "h = 6.626 * 10 ** -34   #Planck's constant (J.s)\n",
      "\n",
      "#Calculation\n",
      "\n",
      "sigma = 2 * pi**5 * k**4 / (15 * c**2 * h**3)\n",
      "\n",
      "#Result\n",
      "\n",
      "print \"e_total=sigma * T^4 where sigma=\",round(sigma/10**-8,2),\"X 10^-8 W.m^-2.K^-4\""
     ],
     "language": "python",
     "metadata": {},
     "outputs": [
      {
       "output_type": "stream",
       "stream": "stdout",
       "text": [
        "e_total=sigma * T^4 where sigma= 5.67 X 10^-8 W.m^-2.K^-4\n"
       ]
      }
     ],
     "prompt_number": 7
    },
    {
     "cell_type": "heading",
     "level": 2,
     "metadata": {},
     "source": [
      "Example 3.4, page no. 83"
     ]
    },
    {
     "cell_type": "code",
     "collapsed": false,
     "input": [
      "\n",
      "import math\n",
      "\n",
      "#variable declaration\n",
      "e= 1.68 * 10 **-19      #electron charge(C)\n",
      "O = 2.28  * e           #work function of sodium\n",
      "I  = 10 ** -10          #power per unit area(W/cm^2)\n",
      "\n",
      "#calculation\n",
      "A = math.pi * 10 ** -16\n",
      "t= O / (I * A)\n",
      "\n",
      "#result\n",
      "print '%s %s %s' %('the time lag is given by',round(t/(60*60*24)),'days which is approximated to 130 days in the text book')"
     ],
     "language": "python",
     "metadata": {},
     "outputs": [
      {
       "output_type": "stream",
       "stream": "stdout",
       "text": [
        "the time lag is given by 141.0 days which is approximated to 130 days in the text book\n"
       ]
      }
     ],
     "prompt_number": 11
    },
    {
     "cell_type": "heading",
     "level": 2,
     "metadata": {},
     "source": [
      "Example 3.5, page no. 85"
     ]
    },
    {
     "cell_type": "code",
     "collapsed": false,
     "input": [
      "\n",
      "import math\n",
      "\n",
      "#variable declaration\n",
      "Vs = 4.3            #Stopping voltage(V)\n",
      "e = 1.6 * 10 **-19  #electron charge(C)\n",
      "Me = 9.1 *10**-31   #mass of electron(kg)\n",
      "\n",
      "#calculation\n",
      "vmax =  math.sqrt( 2* e* Vs /Me)\n",
      "Kmax = e *Vs\n",
      "\n",
      "#result\n",
      "print '%s %s %s' %('the Kmax of these electrons are', Kmax ,'J')\n",
      "print '%s %s %s' %('vmax of these electrons are',round(vmax/10**6,2),' x 10^6 m/s')"
     ],
     "language": "python",
     "metadata": {},
     "outputs": [
      {
       "output_type": "stream",
       "stream": "stdout",
       "text": [
        "the Kmax of these electrons are 6.88e-19 J\n",
        "vmax of these electrons are 1.23  x 10^6 m/s\n"
       ]
      }
     ],
     "prompt_number": 13
    },
    {
     "cell_type": "heading",
     "level": 2,
     "metadata": {},
     "source": [
      "Example 3.6, page no. 85"
     ]
    },
    {
     "cell_type": "code",
     "collapsed": false,
     "input": [
      "\n",
      "#variable declaration\n",
      "I0 = 1 * 10 ** -6 #intensity of light falling W/cm^2\n",
      "\n",
      "#calculation\n",
      "I =  .03 * .04 * I0\n",
      "\n",
      "#result\n",
      "print '%s %s %s' %('The actual intensity available is',I,'W/cm^2')\n",
      "\n",
      "#variable declaration\n",
      "lamda = 250 *10 ** -9  #wavelength of violet light(m)\n",
      "c= 3*10**8             #speed of light(m/s)\n",
      "h = 6.63 *10 **-34     #planck's constant(J.s)\n",
      "\n",
      "#calculation\n",
      "Ne = I *lamda / (h * c)\n",
      "\n",
      "#result\n",
      "print '%s %s %s' %('number of electrons is',round(Ne/10**9,1),'x 10^9')\n",
      "\n",
      "\n",
      "#variable declaration\n",
      "e = 1.6 * 10 **-19    #electron charge(c)\n",
      "\n",
      "#calculation\n",
      "i = e * Ne\n",
      "\n",
      "#result\n",
      "print '%s %s %s' %('current in the phototube is ',round(i/10**-10,1),'x 10^-10 A')\n",
      "\n",
      "\n",
      "#variable declaration\n",
      "f0 = 1.1 *10**15      #cutoff frequency (Hz)\n",
      "\n",
      "#calculation\n",
      "O = h *f0 / e \n",
      "\n",
      "#result\n",
      "print '%s %s %s' %('the work function is ',round(O,1),'eV')\n",
      "\n",
      "\n",
      "\n",
      "#variable declaration\n",
      "lamda = 250 * 10 ** -9   #wavelength(m)\n",
      "\n",
      "#calculation\n",
      "Vs = ((h*c )/(lamda * e )) - O\n",
      "\n",
      "#result\n",
      "print '%s %s %s' %('stopping voltage for iron is ',round(Vs,2),'V')"
     ],
     "language": "python",
     "metadata": {},
     "outputs": [
      {
       "output_type": "stream",
       "stream": "stdout",
       "text": [
        "The actual intensity available is 1.2e-09 W/cm^2\n",
        "number of electrons is 1.5 x 10^9\n",
        "current in the phototube is  2.4 x 10^-10 A\n",
        "the work function is  4.6 eV\n",
        "stopping voltage for iron is  0.41 V\n"
       ]
      }
     ],
     "prompt_number": 16
    },
    {
     "cell_type": "heading",
     "level": 2,
     "metadata": {},
     "source": [
      "Example 3.7, page no. 93"
     ]
    },
    {
     "cell_type": "code",
     "collapsed": false,
     "input": [
      "\n",
      "\n",
      "import math\n",
      "\n",
      "#variable declaration\n",
      "lamda = .2 * 10 ** -9       #wavelength(m)\n",
      "theta = 45                  #observed angle(degrees)\n",
      "h = 6.63 * 10 ** -34        #planck's constant(J.s)\n",
      "Me = 9.1 * 10 ** -31        #electron mass(kg)\n",
      "c = 3* 10 ** 8              #speed of light(m/s)\n",
      "\n",
      "#calculation\n",
      "dl= h *(1 - math.cos(math.pi * theta /180)) /(Me * c)\n",
      "\n",
      "#result\n",
      "print '%s %s %s' %('the wavelength off the scattered x-ray at this angle is',dl+lamda,'m')"
     ],
     "language": "python",
     "metadata": {},
     "outputs": [
      {
       "output_type": "stream",
       "stream": "stdout",
       "text": [
        "the wavelength off the scattered x-ray at this angle is 2.00711312103e-10 m\n"
       ]
      }
     ],
     "prompt_number": 18
    },
    {
     "cell_type": "heading",
     "level": 2,
     "metadata": {},
     "source": [
      "Example 3.8, page no. 93"
     ]
    },
    {
     "cell_type": "code",
     "collapsed": false,
     "input": [
      "\n",
      "import math\n",
      "\n",
      "#variable declaration\n",
      "lamdaG = 0.0106         #wavelenght(m)\n",
      "\n",
      "#calculation\n",
      "dl = 0.0243 * (1-math.cos(math.pi/2))\n",
      "f= dl/ lamdaG\n",
      "\n",
      "#result\n",
      "print \"the compton shift is \",dl,\"A'\"\n",
      "print \"the fractional change in wavelength of gamma rays is\",round(f,4)\n",
      "\n",
      "#(2)X-rays from molybdenum, lamda = 0.712 x 10 ^-10 m,\n",
      "\n",
      "#variable declaration\n",
      "lamdaX = 0.712          #wavelenght(m)\n",
      "\n",
      "#calculation\n",
      "f= dl/ lamdaX\n",
      "\n",
      "#result\n",
      "print \"the fractional change in wavelength of X rays is\",round(f,4)\n",
      "\n",
      "#(3)green light from a mercury lamp, lamda = 5461 *10 ^ -10 \n",
      "\n",
      "#variable declaration\n",
      "lamdaGr = 5461\n",
      "\n",
      "#calculation\n",
      "f= dl/ lamdaGr\n",
      "\n",
      "#result\n",
      "print \"the fractional change in wavelength of green rays is\",round(f/10**-6,3),\"x 10^-6\"\n",
      "\n",
      "\n",
      "#variable declaration\n",
      "h = 6.63 * 10 ** -34        #planck's constant(J.s)\n",
      "c = 3* 10 ** 8              #speed of light(m/s)\n",
      "lamda = 0.712 * 10 **-10\n",
      "e = 1.6 * 10 **-19    #electron charge(c)\n",
      "\n",
      "#calculation\n",
      "E = h*c/(lamda * e)\n",
      "\n",
      "#result\n",
      "print \"the energy of incident x-ray is\",round(E,2),\"ev. It is large when compared to binding energy of 4eV\"\n"
     ],
     "language": "python",
     "metadata": {},
     "outputs": [
      {
       "output_type": "stream",
       "stream": "stdout",
       "text": [
        "the compton shift is  0.0243 A'\n",
        "the fractional change in wavelength of gamma rays is 2.2925\n",
        "the fractional change in wavelength of X rays is 0.0341\n",
        "the fractional change in wavelength of green rays is 4.45 x 10^-6\n",
        "the energy of incident x-ray is 17459.62 ev. It is large when compared to binding energy of 4eV\n"
       ]
      }
     ],
     "prompt_number": 20
    },
    {
     "cell_type": "heading",
     "level": 2,
     "metadata": {},
     "source": [
      "Example 3.9, page no. 96"
     ]
    },
    {
     "cell_type": "code",
     "collapsed": false,
     "input": [
      "\n",
      "#variable declaration\n",
      "M = 1.99 * 10 ** 30         #mass of sun(kg)\n",
      "lamda = 300 *10**-9         #wavelength(m)\n",
      "Rs = 6.37 * 10 ** 6         #radius of earth(m)\n",
      "G = 6.67 * 10 ** -11        #gravitational constant(N.m^2.kg^-2)\n",
      "c = 3 * 10 ** 8             #speed of light(m/s)\n",
      "\n",
      "#calculation\n",
      "fraction =  G * M / (Rs * c *c)\n",
      "\n",
      "#result\n",
      "print '%s %s %s'%(\"the shift in wavelength\",round(lamda * fraction *10**9,4),'nm')"
     ],
     "language": "python",
     "metadata": {},
     "outputs": [
      {
       "output_type": "stream",
       "stream": "stdout",
       "text": [
        "the shift in wavelength 0.0695 nm\n"
       ]
      }
     ],
     "prompt_number": 22
    }
   ],
   "metadata": {}
  }
 ]
}