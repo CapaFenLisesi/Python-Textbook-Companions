{
 "metadata": {
  "name": "",
  "signature": "sha256:fbb8ae4f61a2f656bdccdaea83dd7c5e0f4029b53a892411eec2330f543018a0"
 },
 "nbformat": 3,
 "nbformat_minor": 0,
 "worksheets": [
  {
   "cells": [
    {
     "cell_type": "heading",
     "level": 1,
     "metadata": {},
     "source": [
      "Chapter 15: Elementary Particles"
     ]
    },
    {
     "cell_type": "heading",
     "level": 2,
     "metadata": {},
     "source": [
      "Example 15.5, page no. 570"
     ]
    },
    {
     "cell_type": "code",
     "collapsed": false,
     "input": [
      "\n",
      "\n",
      "#variable declaration\n",
      "\n",
      "mp = 938.3          #mass of proton (MeV/c^2)\n",
      "mpi = 135           #mass of pion (MeV/c^2)\n",
      "\n",
      "#Calculation\n",
      "\n",
      "Kth = ((2*mp + mpi)**2 - (2*mp)**2)/(2*mp)\n",
      "\n",
      "#result\n",
      "\n",
      "print \"The kinetic energy of protons\",round(Kth),\"MeV.\""
     ],
     "language": "python",
     "metadata": {},
     "outputs": [
      {
       "output_type": "stream",
       "stream": "stdout",
       "text": [
        "The kinetic energy of protons 280.0 MeV.\n"
       ]
      }
     ],
     "prompt_number": 2
    }
   ],
   "metadata": {}
  }
 ]
}