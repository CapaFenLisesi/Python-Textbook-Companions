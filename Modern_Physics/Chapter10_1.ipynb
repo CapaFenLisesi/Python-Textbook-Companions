{
 "metadata": {
  "name": "MP-10"
 },
 "nbformat": 3,
 "nbformat_minor": 0,
 "worksheets": [
  {
   "cells": [
    {
     "cell_type": "heading",
     "level": 1,
     "metadata": {},
     "source": "Statistical Physics"
    },
    {
     "cell_type": "heading",
     "level": 2,
     "metadata": {},
     "source": "Example 10.2 Page 307"
    },
    {
     "cell_type": "code",
     "collapsed": false,
     "input": "#initiation of variable\nfrom math import sqrt\n#The solution is purely theoretical and involves a lot of approximations.\nprint\"The value of shift in frequency was found out to be delf=7.14*fo*10^-7*sqrt(T) for a star composing of hydrogen atoms at a temperature T.\";\nT=6000.0;                       #temperature for sun\ndelf=7.14*10**-7*sqrt(T);#change in frequency\n\n#result\nprint\"The value of frequency shift for sun(at 6000 deg. temperature) comprsing of hydrogen atoms is\",delf,\" times the frequency of the light.\"",
     "language": "python",
     "metadata": {},
     "outputs": [
      {
       "output_type": "stream",
       "stream": "stdout",
       "text": "The value of shift in frequency was found out to be delf=7.14*fo*10^-7*sqrt(T) for a star composing of hydrogen atoms at a temperature T.\nThe value of frequency shift for sun(at 6000 deg. temperature) comprsing of hydrogen atoms is 5.53062021838e-05  times the frequency of the light.\n"
      }
     ],
     "prompt_number": 2
    },
    {
     "cell_type": "heading",
     "level": 2,
     "metadata": {},
     "source": "Example 10.3 Page 309"
    },
    {
     "cell_type": "code",
     "collapsed": false,
     "input": "#initiation of variable\nfrom math import sqrt,pi, exp, log\nkT=0.0252;E=10.2                              # at room temperature, kT=0.0252 standard value and given value of E\n\n#calculation\nn2=2;n1=1; g2=2*(n2**2);g1=2*(n1**2);           #values for ground and excited states\nt=(g2/g1)*exp(-E/kT);                         #fraction of atoms\n\n#result\nprint\"The number of hydrogen atoms required is %.1e\" %(1.0/t),\" which weighs %.1e\" %((1/t)*(1.67*10**-27)),\"Kg\"\n\n#partb\nt=0.1/0.9;k=8.65*10**-5                          #fracion of atoms in case-2 is given\nT=-E/(log(t/(g2/g1))*k);                        #temperature\n\n#result\nprint\"The value of temperature at which 1/10 atoms are in excited state in K is %.1e\" %round(T,3);",
     "language": "python",
     "metadata": {},
     "outputs": [
      {
       "ename": "TypeError",
       "evalue": "can't multiply sequence by non-int of type 'float'",
       "output_type": "pyerr",
       "traceback": [
        "\u001b[1;31m---------------------------------------------------------------------------\u001b[0m\n\u001b[1;31mTypeError\u001b[0m                                 Traceback (most recent call last)",
        "\u001b[1;32m<ipython-input-2-0c4f78dafdc9>\u001b[0m in \u001b[0;36m<module>\u001b[1;34m()\u001b[0m\n\u001b[0;32m      8\u001b[0m \u001b[1;33m\u001b[0m\u001b[0m\n\u001b[0;32m      9\u001b[0m \u001b[1;31m#result\u001b[0m\u001b[1;33m\u001b[0m\u001b[1;33m\u001b[0m\u001b[0m\n\u001b[1;32m---> 10\u001b[1;33m \u001b[1;32mprint\u001b[0m\u001b[1;34m\"The number of hydrogen atoms required is %.1e\"\u001b[0m \u001b[1;33m%\u001b[0m\u001b[1;33m(\u001b[0m\u001b[1;36m1.0\u001b[0m\u001b[1;33m/\u001b[0m\u001b[0mt\u001b[0m\u001b[1;33m)\u001b[0m\u001b[1;33m,\u001b[0m\u001b[1;34m\" which weighs %.1e\"\u001b[0m \u001b[1;33m%\u001b[0m\u001b[1;33m(\u001b[0m\u001b[1;36m1\u001b[0m\u001b[1;33m/\u001b[0m\u001b[0mt\u001b[0m\u001b[1;33m)\u001b[0m\u001b[1;33m*\u001b[0m\u001b[1;33m(\u001b[0m\u001b[1;36m1.67\u001b[0m\u001b[1;33m*\u001b[0m\u001b[1;36m10\u001b[0m\u001b[1;33m**\u001b[0m\u001b[1;33m-\u001b[0m\u001b[1;36m27\u001b[0m\u001b[1;33m)\u001b[0m\u001b[1;33m,\u001b[0m\u001b[1;34m\"Kg\"\u001b[0m\u001b[1;33m\u001b[0m\u001b[0m\n\u001b[0m\u001b[0;32m     11\u001b[0m \u001b[1;33m\u001b[0m\u001b[0m\n\u001b[0;32m     12\u001b[0m \u001b[1;31m#partb\u001b[0m\u001b[1;33m\u001b[0m\u001b[1;33m\u001b[0m\u001b[0m\n",
        "\u001b[1;31mTypeError\u001b[0m: can't multiply sequence by non-int of type 'float'"
       ]
      },
      {
       "output_type": "stream",
       "stream": "stdout",
       "text": "The number of hydrogen atoms required is 1.5e+175"
      }
     ],
     "prompt_number": 2
    },
    {
     "cell_type": "heading",
     "level": 2,
     "metadata": {},
     "source": "Example 10.4 Page 311"
    },
    {
     "cell_type": "code",
     "collapsed": false,
     "input": "#initiation of variable\nfrom math import log\n#theoritical part a\nprint'The energy of interaction with magnetic field is given by uB and the degeneracy of the states are +-1/2 which are identical.\\nThe ratio is therefore pE2/pE1 which gives e^(-2*u*B/k*T)';\n#partb\nuB=5.79*10**-4;        #for a typical atom\nt=1.1;k=8.65*10**-5;   #ratio and constant k\n\n#calculation\nT=2*uB/(log(t)*k);    #temperature\n\n#result\nprint\"The value of temperature ar which the given ratio exists in K is\",round(T,3);",
     "language": "python",
     "metadata": {},
     "outputs": [
      {
       "output_type": "stream",
       "stream": "stdout",
       "text": "The energy of interaction with magnetic field is given by uB and the degeneracy of the states are +-1/2 which are identical.\nThe ratio is therefore pE2/pE1 which gives e^(-2*u*B/k*T)\nThe value of temperature ar which the given ratio exists in K is 140.46\n"
      }
     ],
     "prompt_number": 8
    },
    {
     "cell_type": "heading",
     "level": 2,
     "metadata": {},
     "source": "Example 10.5 Page 313"
    },
    {
     "cell_type": "code",
     "collapsed": false,
     "input": "#initiation of variable\nfrom math import pi\np=0.971; A=6.023*10**23; m=23.0;    # various given values and constants\n\n#calculation\nc= (p*A/m)*10**6;                   # atoms per unit volume\nhc=1240.0; mc2=0.511*10**6;           # hc=1240 eV.nm\nE= ((hc**2)/(2*mc2))*(((3/(8*pi))*c)**(2.0/3)); #value of fermi energy\n\n#result\nprint\"The fermi energy for sodium is\",round(E*10**-18,4),\"eV\";#multiply by 10^-18 to convert metres^2 term to nm^2",
     "language": "python",
     "metadata": {},
     "outputs": [
      {
       "output_type": "stream",
       "stream": "stdout",
       "text": "The fermi energy for sodium is 3.1539 eV\n"
      }
     ],
     "prompt_number": 12
    }
   ],
   "metadata": {}
  }
 ]
}