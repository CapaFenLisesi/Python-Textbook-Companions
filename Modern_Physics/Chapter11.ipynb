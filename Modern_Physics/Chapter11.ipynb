{
 "metadata": {
  "name": "",
  "signature": "sha256:e6be7abf8c97801180567f4f6cb83dc9e729f9c81204b1adfe4e1f54ff45dd36"
 },
 "nbformat": 3,
 "nbformat_minor": 0,
 "worksheets": [
  {
   "cells": [
    {
     "cell_type": "heading",
     "level": 1,
     "metadata": {},
     "source": [
      "Chapter 11: Molecular Structure"
     ]
    },
    {
     "cell_type": "heading",
     "level": 2,
     "metadata": {},
     "source": [
      "Example 11.1, page no. 380"
     ]
    },
    {
     "cell_type": "code",
     "collapsed": false,
     "input": [
      "\n",
      "import math\n",
      "\n",
      "#Variable Declaration\n",
      "\n",
      "f = 1.15 * 10 ** 11     # Frequency(Hz)\n",
      "h = 1.055 * 10 ** -34   # Planck's constant(J.s)\n",
      " \n",
      "#Calculation\n",
      "\n",
      "w = 2 * math.pi * f\n",
      "Icm = h / w\n",
      "\n",
      "#Results\n",
      "\n",
      "print \"(a) The moment of inertia is\",round(Icm/10 **-46 , 2),\"X 10^-46 kg.m^2.\"\n",
      "\n",
      "\n",
      "\n",
      "#Variable Declaration\n",
      "\n",
      "Ac = 12.0           #atomic mass of carbon (u)\n",
      "Ao = 16.0           #atomic mass of oxygen (u)\n",
      "u = 1.66 * 10 ** -27#(kg)\n",
      "\n",
      "#Calculation\n",
      "\n",
      "mu = Ac* Ao /(Ac+Ao)\n",
      "R0 = math.sqrt(Icm/(mu*u))\n",
      "\n",
      "#Results\n",
      "\n",
      "print \"(b) The bond length of the molecule is\",round(R0/10**-9,3),\"nm.\""
     ],
     "language": "python",
     "metadata": {},
     "outputs": [
      {
       "output_type": "stream",
       "stream": "stdout",
       "text": [
        "(a) The moment of inertia is 1.46 X 10^-46 kg.m^2.\n",
        "(b) The bond length of the molecule is 0.113 nm.\n"
       ]
      }
     ],
     "prompt_number": 2
    },
    {
     "cell_type": "heading",
     "level": 2,
     "metadata": {},
     "source": [
      "Example 11.2, page no. 383"
     ]
    },
    {
     "cell_type": "code",
     "collapsed": false,
     "input": [
      "\n",
      "\n",
      "import math\n",
      "\n",
      "#Variable Declaration\n",
      "\n",
      "f = 6.42 * 10 ** 13         #frequency(Hz)\n",
      "mu = 1.14 * 10 ** -26       #(kg)\n",
      " \n",
      "#Calculation\n",
      "\n",
      "w = 2 * math.pi * f\n",
      "K = mu * w**2\n",
      "\n",
      "#Results\n",
      "\n",
      "print \"(a) The force constant for this molecule is \",round(K/10**3,2),\"X 10^3 N/m.\"\n",
      "\n",
      "\n",
      "\n",
      "#Variable Declaration\n",
      "\n",
      "h = 1.055 * 10 ** -34   #Planck's constant (J.s)\n",
      "\n",
      "#Calculation\n",
      "\n",
      "A = (h/(mu * w)) ** 0.5\n",
      "\n",
      "#Results\n",
      "\n",
      "print \"(b) The Vibration amplitude is\",round(A/10**-9,5),\"nm.\""
     ],
     "language": "python",
     "metadata": {},
     "outputs": [
      {
       "output_type": "stream",
       "stream": "stdout",
       "text": [
        "(a) The force constant for this molecule is  1.85 X 10^3 N/m.\n",
        "(b) The Vibration amplitude is 0.00479 nm.\n"
       ]
      }
     ],
     "prompt_number": 6
    }
   ],
   "metadata": {}
  }
 ]
}