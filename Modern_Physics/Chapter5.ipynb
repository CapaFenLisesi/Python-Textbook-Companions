{
 "metadata": {
  "name": "",
  "signature": "sha256:e257dccb197e3cab0c059eb9e1d236e5359e2a825fc6be941cab77026f236087"
 },
 "nbformat": 3,
 "nbformat_minor": 0,
 "worksheets": [
  {
   "cells": [
    {
     "cell_type": "heading",
     "level": 2,
     "metadata": {},
     "source": [
      "Chapter 5: Matter Waves"
     ]
    },
    {
     "cell_type": "heading",
     "level": 2,
     "metadata": {},
     "source": [
      "Example 5.1, page no. 154"
     ]
    },
    {
     "cell_type": "code",
     "collapsed": false,
     "input": [
      "\n",
      "\n",
      "#Variable declaration\n",
      "\n",
      "h = 6.63 * 10 ** -34            #Planck's constant (J.s)\n",
      "m = 0.14                        #mass of the baseball (kg)\n",
      "v = 27.0                        #speed of the baseball (m/s)\n",
      "\n",
      "#Calculation\n",
      "\n",
      "lamda = h / (m * v)\n",
      "\n",
      "#Result\n",
      "\n",
      "print \"The de Broglie wavelength of the baseball is\",round(lamda/10**-34,2),\"X 10^-34 m.\""
     ],
     "language": "python",
     "metadata": {},
     "outputs": [
      {
       "output_type": "stream",
       "stream": "stdout",
       "text": [
        "The de Broglie wavelength of the baseball is 1.75 X 10^-34 m.\n"
       ]
      }
     ],
     "prompt_number": 3
    },
    {
     "cell_type": "heading",
     "level": 2,
     "metadata": {},
     "source": [
      "Example 5.2, page no. 154"
     ]
    },
    {
     "cell_type": "code",
     "collapsed": false,
     "input": [
      "\n",
      "import math\n",
      "\n",
      "#Variable declaration\n",
      "\n",
      "h = 6.63 * 10 ** -34            #Planck's constant (J.s)\n",
      "me = 9.11 * 10 ** -31           #mass of electron (kg)\n",
      "q = 1.6 * 10 ** -19             #charge of electron (C)\n",
      "V = 50                          #potential difference (V)\n",
      "\n",
      "#Calculation\n",
      "\n",
      "lamda = h / math.sqrt(2*me*q*V)\n",
      "\n",
      "#Result\n",
      "\n",
      "print \"The de Broglie wavelength of electron is\",round(lamda/10 ** -10,1),\"X 10^-10 m.\""
     ],
     "language": "python",
     "metadata": {},
     "outputs": [
      {
       "output_type": "stream",
       "stream": "stdout",
       "text": [
        "The de Broglie wavelength of electron is 1.7 X 10^-10 m.\n"
       ]
      }
     ],
     "prompt_number": 6
    },
    {
     "cell_type": "heading",
     "level": 2,
     "metadata": {},
     "source": [
      "Example 5.3, page no. 158"
     ]
    },
    {
     "cell_type": "code",
     "collapsed": false,
     "input": [
      "\n",
      "\n",
      "#Variable declaration\n",
      "\n",
      "h = 6.63 * 10 ** -34            #Planck's constant (J.s)\n",
      "lamda = 1.0 * 10 ** -10         #de Broglie wavelength of the neutron (m)\n",
      "mn = 1.66 * 10**-27             #mass of neutrons (kg)\n",
      "e = 1.602 * 10 **-19              #charge of electron(C)\n",
      "\n",
      "#Calculation\n",
      "\n",
      "p = h / lamda\n",
      "K = p**2/(2*mn)\n",
      "\n",
      "#result\n",
      "\n",
      "print \"The kinetic energy is\",round(K/e,4),\"eV.\""
     ],
     "language": "python",
     "metadata": {},
     "outputs": [
      {
       "output_type": "stream",
       "stream": "stdout",
       "text": [
        "The kinetic energy is 0.0826 eV.\n"
       ]
      }
     ],
     "prompt_number": 8
    },
    {
     "cell_type": "heading",
     "level": 2,
     "metadata": {},
     "source": [
      "Example 5.8, page no. 177"
     ]
    },
    {
     "cell_type": "code",
     "collapsed": false,
     "input": [
      "\n",
      "#Variable Declaration\n",
      "\n",
      "h = 1.05 * 10 ** -34        #(J.s)\n",
      "dx = 15                     #length of the room (m)\n",
      "m = 0.1                     #mass of the ball (kg)\n",
      "vx = 2.0                    #velocity of the ball (m/s)\n",
      "\n",
      "#Calculation\n",
      "\n",
      "dpx = h /( 2* dx)\n",
      "dvx = dpx /m\n",
      "uncertainity = dvx/vx\n",
      "\n",
      "#Result\n",
      "\n",
      "print \"The relative uncertainty is\",round(uncertainity/10**-35,1),\"X 10^-35 which is not measurable.\""
     ],
     "language": "python",
     "metadata": {},
     "outputs": [
      {
       "output_type": "stream",
       "stream": "stdout",
       "text": [
        "The relative uncertainty is 1.8 X 10^-35 which is not measurable.\n"
       ]
      }
     ],
     "prompt_number": 12
    },
    {
     "cell_type": "heading",
     "level": 2,
     "metadata": {},
     "source": [
      "Example 5.9, page no. 178"
     ]
    },
    {
     "cell_type": "code",
     "collapsed": false,
     "input": [
      "\n",
      "import math\n",
      "\n",
      "#Variable declaration\n",
      "\n",
      "h = 6.58 * 10 ** -16            #(eV.s)\n",
      "dx = 1.0 * 10 ** -14 / 2.0      # dx is half the length of confinement (m)\n",
      "c = 3.00 * 10 ** 8              #speed of light (m/s)\n",
      "me = 9.11 * 10 ** -31           # mass of electron (kg)\n",
      "e = 1.6 * 10 ** -19             #charge of electron (C)\n",
      "\n",
      "#Calculation\n",
      "\n",
      "dpx = h * c / (2 * dx)\n",
      "E = math.sqrt(dpx**2 + (me * c**2/e)**2)\n",
      "K = E - (me * c**2/e)\n",
      "\n",
      "#result\n",
      "\n",
      "print \"The kinetic energy of an  intranuclear electron is\",round(K/10**6,2),\"MeV.\""
     ],
     "language": "python",
     "metadata": {},
     "outputs": [
      {
       "output_type": "stream",
       "stream": "stdout",
       "text": [
        "The kinetic energy of an  intranuclear electron is 19.23 MeV.\n"
       ]
      }
     ],
     "prompt_number": 14
    },
    {
     "cell_type": "heading",
     "level": 2,
     "metadata": {},
     "source": [
      "Example 5.10, page no. 178"
     ]
    },
    {
     "cell_type": "code",
     "collapsed": false,
     "input": [
      "\n",
      "\n",
      "import math\n",
      "\n",
      "#Variable declaration\n",
      "\n",
      "dt = 1.0 * 10 ** -8         #lifetime (s)\n",
      "\n",
      "#calculation\n",
      "\n",
      "df = 1/(4*math.pi*dt)\n",
      "\n",
      "#result\n",
      "\n",
      "print \"The frequency of the light emitted is\",round(df/10**6,1),\"X 10^6 Hz.\"\n",
      "\n",
      "#Variable declaration\n",
      "\n",
      "c = 3.0 * 10 ** 8           #speed of light (m/s)\n",
      "lamda = 500 * 10 ** -9      #wavelength (m)\n",
      "\n",
      "#Calculation\n",
      "\n",
      "f = c/ lamda\n",
      "df_by_f0 = df / f\n",
      "\n",
      "#result\n",
      "\n",
      "print \"The fractional broadening is\",round(df_by_f0/10**-8,1),\"X 10^-8.\""
     ],
     "language": "python",
     "metadata": {},
     "outputs": [
      {
       "output_type": "stream",
       "stream": "stdout",
       "text": [
        "The frequency of the light emitted is 8.0 X 10^6 Hz.\n",
        "The fractional broadening is 1.3 X 10^-8.\n"
       ]
      }
     ],
     "prompt_number": 19
    }
   ],
   "metadata": {}
  }
 ]
}