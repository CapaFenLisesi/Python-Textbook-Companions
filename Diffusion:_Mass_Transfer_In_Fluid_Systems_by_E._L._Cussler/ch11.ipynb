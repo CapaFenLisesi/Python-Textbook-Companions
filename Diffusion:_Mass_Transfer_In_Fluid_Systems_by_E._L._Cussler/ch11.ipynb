{
 "metadata": {
  "name": "",
  "signature": "sha256:c2e1e4cccf2d9aca534f83236caf6ed750d17019460faa04493688b33133a3e9"
 },
 "nbformat": 3,
 "nbformat_minor": 0,
 "worksheets": [
  {
   "cells": [
    {
     "cell_type": "heading",
     "level": 1,
     "metadata": {},
     "source": [
      "Chapter 11 : Mass Transfer in Biology and Medicine"
     ]
    },
    {
     "cell_type": "heading",
     "level": 2,
     "metadata": {},
     "source": [
      "Example 11.1.1 pg : 334"
     ]
    },
    {
     "cell_type": "code",
     "collapsed": false,
     "input": [
      "\n",
      "import math \n",
      "\t\n",
      "#initialization of variables\n",
      "N1 = 1.6*10**-10 \t# mol/cm**2-sec\n",
      "c1star = 0.      \t# mol/cc\n",
      "c1 = 2.7*10**-4/1000 \t# mol/cc\n",
      "\t\n",
      "#Calculations\n",
      "K = N1/(c1-c1star)\t# cm/sec\n",
      "\t\n",
      "#Results\n",
      "print \"The mass transfer co efficient is %.e cm/sec\"%(K)\n"
     ],
     "language": "python",
     "metadata": {},
     "outputs": [
      {
       "output_type": "stream",
       "stream": "stdout",
       "text": [
        "The mass transfer co efficient is 6e-04 cm/sec\n"
       ]
      }
     ],
     "prompt_number": 2
    },
    {
     "cell_type": "heading",
     "level": 2,
     "metadata": {},
     "source": [
      "Example 11.2.1 pg : 345"
     ]
    },
    {
     "cell_type": "code",
     "collapsed": false,
     "input": [
      "\t\n",
      "#initialization of variables\n",
      "d = 400.*10**-4 \t# cm\n",
      "D = 10.**-5 \t# cm**2/sec\n",
      "v = 1.  \t# cm/sec\n",
      "l = 30. \t# cm\n",
      "nu = 0.01 \t# cm**2/sec\n",
      "\t\n",
      "#Calculations \n",
      "k1 = (D/d)*1.62*(((d**2)*v/D*l)**(1./3))\t# Mass transfer co efficient inside the hollow fibers in cm/sec\n",
      "k2 = (D/d)*0.8*((d*v/nu)**0.47)*((nu/D)**(1./3))\t#Mass transfer co efficient outside the hollow fibers in cm/sec\n",
      "\t\n",
      "#Results\n",
      "print \"Mass transfer co efficient inside the hollow fibers %.e cm/sec\"%(k1)\n",
      "print \"Mass transfer co efficient outside the hollow fibers %.1e cm/sec\"%(k2)\n"
     ],
     "language": "python",
     "metadata": {},
     "outputs": [
      {
       "output_type": "stream",
       "stream": "stdout",
       "text": [
        "Mass transfer co efficient inside the hollow fibers 7e-03 cm/sec\n",
        "Mass transfer co efficient outside the hollow fibers 3.8e-03 cm/sec\n"
       ]
      }
     ],
     "prompt_number": 5
    },
    {
     "cell_type": "heading",
     "level": 2,
     "metadata": {},
     "source": [
      "Example 11.2.2 pg : 346"
     ]
    },
    {
     "cell_type": "code",
     "collapsed": false,
     "input": [
      "\n",
      "import math \n",
      "\t\n",
      "#initialization of variables\n",
      "phi = 0.2\n",
      "d = 200.*10**-4 \t# cm\n",
      "dia = 3.8 \t        # cm\n",
      "Q = 4.1 \t        # blood flow in cc/sec\n",
      "k = 3.6*10**-4 \t    # cm/sec\n",
      "l = 30.      \t    # cm\n",
      "\t\n",
      "#Calculations\n",
      "a = 4*phi/d \t# cm**2/cm**3\n",
      "B  = Q/((math.pi*dia**2)/4) \t# cm/sec\n",
      "ratio1 = 1/(1+(k*a*l/B))\t# D equals B\n",
      "percent1 = (1-ratio1)*100 \t# percentage of toxins removed when dialystate flow equals blood flow\n",
      "D = 2*B \t# in second case\n",
      "ratio2 =1/(((1/(math.exp(-k*a*l/D)))-0.5)*2) \t# when D =2B\n",
      "percent2 = (1-ratio2)*100 \t# percentage of toxins removed when dialystate flow is twice the blood flow\n",
      "ratio3 = math.exp(-k*a*l/B)\t# when dialystate flow is very large\n",
      "percent3 = (1-ratio3)*100 \t# percentage of toxins removed when dialystate flow is very large\n",
      "\t\n",
      "#Results\n",
      "print \"The percentage of toxins removed when dialystate flow equals blood flow is %.f\"%(percent1)\n",
      "print \"The percentage of toxins removed when dialystate flow is twice the blood flow is %.f\"%(percent2)\n",
      "print \"The percentage of toxins removed when dialystate flow is very large is %.f\"%(percent3)\n"
     ],
     "language": "python",
     "metadata": {},
     "outputs": [
      {
       "output_type": "stream",
       "stream": "stdout",
       "text": [
        "The percentage of toxins removed when dialystate flow equals blood flow is 54\n",
        "The percentage of toxins removed when dialystate flow is twice the blood flow is 62\n",
        "The percentage of toxins removed when dialystate flow is very large is 70\n"
       ]
      }
     ],
     "prompt_number": 6
    }
   ],
   "metadata": {}
  }
 ]
}