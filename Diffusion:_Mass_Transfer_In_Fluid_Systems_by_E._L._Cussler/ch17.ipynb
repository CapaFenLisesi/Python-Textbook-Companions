{
 "metadata": {
  "name": "",
  "signature": "sha256:928ec1651fbb6cf2fbaa95aabc63962db0c0ebd1296ae6aac51feaf1fa0663d8"
 },
 "nbformat": 3,
 "nbformat_minor": 0,
 "worksheets": [
  {
   "cells": [
    {
     "cell_type": "heading",
     "level": 1,
     "metadata": {},
     "source": [
      "Chapter 17 : Homogeneous Chemical Reactions"
     ]
    },
    {
     "cell_type": "heading",
     "level": 2,
     "metadata": {},
     "source": [
      "Example 17.1.1 pg : 485"
     ]
    },
    {
     "cell_type": "code",
     "collapsed": false,
     "input": [
      "\n",
      "import math \n",
      "\t\n",
      "#initialization of variables\n",
      "K = 1.46*10**-4 \t# lit/mol-sec (rate consmath.tant)\n",
      "cpyridine = 0.1 \t# mol/lit\n",
      "K1 = 2.0*10**-5 \t# cm**2/sec\n",
      "\t\n",
      "#Calculations\n",
      "D = K*cpyridine \t# sec**-1\n",
      "k0 = (math.sqrt(D*K1))    \t#in x*10**-5 cm/sec\n",
      "\t\n",
      "#Results\n",
      "print \"The diffusion co efficient of methyl iodide in benzene is %.1e  cm/sec\"%(k0)\n"
     ],
     "language": "python",
     "metadata": {},
     "outputs": [
      {
       "output_type": "stream",
       "stream": "stdout",
       "text": [
        "The diffusion co efficient of methyl iodide in benzene is 1.7e-05  cm/sec\n"
       ]
      }
     ],
     "prompt_number": 2
    },
    {
     "cell_type": "heading",
     "level": 2,
     "metadata": {},
     "source": [
      "Example 17.1.2 pg : 486"
     ]
    },
    {
     "cell_type": "code",
     "collapsed": false,
     "input": [
      "from sympy import coth\n",
      "import math \n",
      "\t\n",
      "#initialization of variables\n",
      "R = 0.3 \t# cm\n",
      "K1 = 18.6 \t# sec**-1\n",
      "D = 0.027 \t# cm**2/sec\n",
      "\t\n",
      "#Calculations\n",
      "l = R/3 \t# cm\n",
      "n = (math.sqrt(D/(K1*(l**2))))*coth(math.sqrt(K1*(l**2)/D))\n",
      "\t\n",
      "#Results\n",
      "print \"The value of reduction in reaction rate due to diffusion is %.2f\"%(n)\n"
     ],
     "language": "python",
     "metadata": {},
     "outputs": [
      {
       "output_type": "stream",
       "stream": "stdout",
       "text": [
        "The value of reduction in reaction rate due to diffusion is 0.39\n"
       ]
      }
     ],
     "prompt_number": 3
    },
    {
     "cell_type": "heading",
     "level": 2,
     "metadata": {},
     "source": [
      "Example 17.1.3 pg : 486"
     ]
    },
    {
     "cell_type": "code",
     "collapsed": false,
     "input": [
      "\n",
      "import math \n",
      "\t\n",
      "#initialization of variables\n",
      "k = 16.*10**-3 \t# m.t.c in cm/sec\n",
      "D  = 1.25*10**-5 \t# Diffusion co efficient in cm**2/sec\n",
      "\t\n",
      "#Calculations \n",
      "K1 = (k**2)/D\n",
      "\t\n",
      "#Results\n",
      "print \"The rate constant is %.f sec**-1\"%(K1)\n"
     ],
     "language": "python",
     "metadata": {},
     "outputs": [
      {
       "output_type": "stream",
       "stream": "stdout",
       "text": [
        "The rate constant is 20 sec**-1\n"
       ]
      }
     ],
     "prompt_number": 5
    },
    {
     "cell_type": "heading",
     "level": 2,
     "metadata": {},
     "source": [
      "Example 17.2.1 pg : 490"
     ]
    },
    {
     "cell_type": "code",
     "collapsed": false,
     "input": [
      "\n",
      "import math \n",
      "\t\n",
      "#initialization of variables\n",
      "D2 = 5.*10**-6 \t# The diffusion co efficient of the new compound in cm**2/sec\n",
      "Nu = 3. \t# The factor\n",
      "D1 = 0.7*10**-5 \t# The diffusion co efficient of the original compound in cm**2/sec\n",
      "c2l = 1.5*10**-5 \t# the new solubility in mol/cc\n",
      "c1l = 3.*10**-7 \t# The old solubility in mol/cc\n",
      "\t\n",
      "#Calculations\n",
      "k = 1 + ((D2*c2l)/(Nu*D1*c1l))\t# The number of times the rate has increased to the previous rate\n",
      "\t\n",
      "#Results\n",
      "print \"There is about a %.f fold increase in rate\"%(k)\n"
     ],
     "language": "python",
     "metadata": {},
     "outputs": [
      {
       "output_type": "stream",
       "stream": "stdout",
       "text": [
        "There is about a 13 fold increase in rate\n"
       ]
      }
     ],
     "prompt_number": 6
    },
    {
     "cell_type": "heading",
     "level": 2,
     "metadata": {},
     "source": [
      "Example 17.4.1 pg : 503"
     ]
    },
    {
     "cell_type": "code",
     "collapsed": false,
     "input": [
      "\n",
      "import math \n",
      "\n",
      "\t\n",
      "#initialization of variables\n",
      "#For first reaction\n",
      "D1 = 9.3*10**-5 \t# cm**2/sec\n",
      "D2 = 5.3*10**-5 \t# cm**2/sec\n",
      "K1exp = 1.4*10**11 \t# litre/mol-sec\n",
      "sigma12 = 2.8*10**-8 \t# cm\n",
      "N = (6.02*10**23)/10**3\t# liter/cc-mol\n",
      "K1 = 4*math.pi*(D1+D2)*sigma12*N \t# Rate consmath.tant for first reaction in litre/mol-sec\n",
      "print \"The rate consmath.tant for this reaction is %.1e litre/\"%(K1)\n",
      "if K1>K1exp:\n",
      "    print (\"This reaction is controlled more by chemical factors\")\n",
      "else:\n",
      "    print (\"This reaction is diffusion controlled\")\n",
      "\n",
      "#Second reaction\n",
      "D1 = 5.3*10**-5 \t# cm**2/sec\n",
      "D2 = 0.8*10**-5 \t# cm**2/sec\n",
      "sigma12 = 5.*10**-8 \t# cm\n",
      "K1exp = 3.8*10**7 \t# litre/mol-sec\n",
      "K1 = 4*math.pi*(D1+D2)*sigma12*N \t# Rate consmath.tant for second reaction in litre/mol-sec\n",
      "print \"The rate consmath.tant for this reaction is %.1e litre/mol-sec\"%(K1)\n",
      "if K1>K1exp:\n",
      "    print (\"This reaction is controlled more by chemical factors\")\n",
      "else: \n",
      "    print (\"The reaction is diffusion controlled\")\n"
     ],
     "language": "python",
     "metadata": {},
     "outputs": [
      {
       "output_type": "stream",
       "stream": "stdout",
       "text": [
        "The rate consmath.tant for this reaction is 3.1e+10 litre/\n",
        "This reaction is diffusion controlled\n",
        "The rate consmath.tant for this reaction is 2.3e+10 litre/mol-sec\n",
        "This reaction is controlled more by chemical factors\n"
       ]
      }
     ],
     "prompt_number": 7
    },
    {
     "cell_type": "heading",
     "level": 2,
     "metadata": {},
     "source": [
      "Example 17.5.1 pg : 506"
     ]
    },
    {
     "cell_type": "code",
     "collapsed": false,
     "input": [
      "\n",
      "#intitialization of variables\n",
      "d = 5.  \t# cm\n",
      "v = 200. \t# cm/sec\n",
      "nu = 0.01 \t# cm**2/sec\n",
      "D = 3.2*10**-5 \t# cm**2/sec\n",
      "l = 30.*10**-4 \t# cm\n",
      "\t\n",
      "#Calculations\n",
      "Re = d*v/nu \t# Flow is turbulent\n",
      "E = d*v/2 \t# cm**2/sec\n",
      "tou1 = (d**2)/(4*E)\t# sec\n",
      "tou2 = (l**2)/(4*D)\n",
      "tou = tou1 + tou2 \t# sec\n",
      "\t\n",
      "#Results\n",
      "print \"The relaxation time is %.2f sec\"%(tou)\n"
     ],
     "language": "python",
     "metadata": {},
     "outputs": [
      {
       "output_type": "stream",
       "stream": "stdout",
       "text": [
        "The relaxation time is 0.08 sec\n"
       ]
      }
     ],
     "prompt_number": 8
    }
   ],
   "metadata": {}
  }
 ]
}