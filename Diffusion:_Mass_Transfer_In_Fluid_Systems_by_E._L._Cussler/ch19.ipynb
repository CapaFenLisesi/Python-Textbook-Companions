{
 "metadata": {
  "name": "",
  "signature": "sha256:83786e14ed15a6d96cc468bc95378d52d0d7c794085ba02cf3c562ac4d781e93"
 },
 "nbformat": 3,
 "nbformat_minor": 0,
 "worksheets": [
  {
   "cells": [
    {
     "cell_type": "heading",
     "level": 1,
     "metadata": {},
     "source": [
      "Chapter 19 : Controlled Release and Related Phenomena"
     ]
    },
    {
     "cell_type": "heading",
     "level": 2,
     "metadata": {},
     "source": [
      "Example 19.1.1 pg : 554"
     ]
    },
    {
     "cell_type": "code",
     "collapsed": false,
     "input": [
      "\t\n",
      "#initialization of variables\n",
      "VP = 0.045*10**-3\t# Vapor pressure of permethrin in kg/m-sec**2\n",
      "R = 8.31 \t# Gas consmath.tant in kg-m**2/sec**2-gmol-K\n",
      "l = 63.*10**-6 \t# membrane thickness in m\n",
      "A = 12.*10**-4 \t# area surrounded by the membrane in m**2\n",
      "M1 = 19.*10**-3 \t# Permithrin release in gmol\n",
      "t = 24.*3600 \t# time taken to release\n",
      "T = 298. \t# Kelvin\n",
      "MW = 391. \t# Mol wt\n",
      "\t\n",
      "#Calculations\n",
      "c1 = VP/(R*T) \t# C1sat \n",
      "P = (M1/(t*MW))*(l/c1)*(1/A)*10**-3 \t#Permeability in cm**2/sec\n",
      "\t\n",
      "#Results\n",
      "print \"The permeability is %.1e m**2/sec\"%(P)\n"
     ],
     "language": "python",
     "metadata": {},
     "outputs": [
      {
       "output_type": "stream",
       "stream": "stdout",
       "text": [
        "The permeability is 1.6e-06 m**2/sec\n"
       ]
      }
     ],
     "prompt_number": 1
    },
    {
     "cell_type": "heading",
     "level": 2,
     "metadata": {},
     "source": [
      "Example 19.2.1 pg : 557"
     ]
    },
    {
     "cell_type": "code",
     "collapsed": false,
     "input": [
      "\t\n",
      "#initialization of variables\n",
      "M= 25*10**-6 \t#gm/hr\n",
      "d = 0.006 \t#g/cc\n",
      "P = 1.4*10**-4\t# permeance in cm/sec\n",
      "Deltac1 = 0.006 \t#Equivalent\t#cc\n",
      "\t\n",
      "#Calculations\n",
      "c1 = 1./3600 \t# unit conversion factor hr/sec\n",
      "c2 = 1./18 \t#unit conversion factor mole/cc\n",
      "m = M*c1*c2/d \t# moles/sec\n",
      "A = m/(P*Deltac1)\t#cm**2\n",
      "\t\n",
      "#Results\n",
      "print \"you will need a membrane area of  %.3f cm**2\"%(A)\n"
     ],
     "language": "python",
     "metadata": {},
     "outputs": [
      {
       "output_type": "stream",
       "stream": "stdout",
       "text": [
        "you will need a membrane area of  0.077 cm**2\n"
       ]
      }
     ],
     "prompt_number": 2
    }
   ],
   "metadata": {}
  }
 ]
}