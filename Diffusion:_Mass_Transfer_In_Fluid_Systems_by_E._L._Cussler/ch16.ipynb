{
 "metadata": {
  "name": "",
  "signature": "sha256:379bbb5a509cc25127ebb4e914b5774822276a4f8bed51172564d103058e90c4"
 },
 "nbformat": 3,
 "nbformat_minor": 0,
 "worksheets": [
  {
   "cells": [
    {
     "cell_type": "heading",
     "level": 1,
     "metadata": {},
     "source": [
      "Chapter 16 : General Questions and Heterogeneous Chemical Reactions"
     ]
    },
    {
     "cell_type": "heading",
     "level": 2,
     "metadata": {},
     "source": [
      "Example 16.3.2 pg : 462"
     ]
    },
    {
     "cell_type": "code",
     "collapsed": false,
     "input": [
      "\n",
      "import math \n",
      "\t\n",
      "#initialization of variables\n",
      "K = 0.0087 \t# overall m.t.c in cm/sec\n",
      "D = 0.98*10**-5 \t# cm**2/sec\n",
      "L = 0.3 \t# cm\n",
      "v = 70.  \t# cm/sec\n",
      "nu = 0.01 \t#cm**2/sec\n",
      "\t\n",
      "#Calculations\n",
      "k1 = 0.646*(D/L)*((L*v/nu)**(0.5))*((nu/D)**(1./3))\t# cm/sec\n",
      "k2 = (1/((1/K)-(1/k1)))\t#/ cm/sec\n",
      "\t\n",
      "#Results\n",
      "print \"The rate constant for the reaction is %.2f cm/sec\"%(k2)\n"
     ],
     "language": "python",
     "metadata": {},
     "outputs": [
      {
       "output_type": "stream",
       "stream": "stdout",
       "text": [
        "The rate constant for the reaction is 0.08 cm/sec\n"
       ]
      }
     ],
     "prompt_number": 1
    },
    {
     "cell_type": "heading",
     "level": 2,
     "metadata": {},
     "source": [
      "Example 16.3.3 pg : 463"
     ]
    },
    {
     "cell_type": "code",
     "collapsed": false,
     "input": [
      "\n",
      "\t\n",
      "#initialization of variables\n",
      "D =2.*10**-6 \t# cm**2/sec\n",
      "nu = 0.036 \t# cm**2/sec \n",
      "d1 = 1.59 \t# cm\n",
      "d2 = 1. \t# cm\n",
      "deltap = 1.*10**-5 \t# g/cc ( change in density)\n",
      "p = 1.           \t# g/cc\n",
      "Re = 11200.      \t# Reynolds number\n",
      "g = 980.         \t# cm/sec**2 \n",
      "dis = 5.37*10**-9 \t# g/cm**2-sec \t# Dissolution rate\n",
      "sol = 1.48*10**-3 \t# g/cc\n",
      "\t\n",
      "#Calculations\n",
      "k11 = 0.62*(D/d1)*(Re**(0.5))*((nu/D)**(1./3))\t# cm/sec\n",
      "K1 = dis/sol\t# the overall mass transfer co efficient in cm/sec\n",
      "k2 = (1/((1/K1)-(1/k11)))\t#/ cm/sec \t#/ the rate consmath.tant in cm/sec\n",
      "k12 = (D/d2)*(2+(((0.6*((d2**3)*(deltap)*g/(p*nu**2)))**0.25)*((nu/D)**(1./3)))) \t# cm/sec\n",
      "K2 = 1/((1/k12)+(1/k2))\t# cm/sec (the overall mtc)\n",
      "\t\n",
      "#Results\n",
      "print \"the rate of surface reaction is %.1e cm/sec\"%(k2)\n",
      "print \"The dissolution rate for 1 cm gallstone is %.1e cm/sec\"%(K2)\n"
     ],
     "language": "python",
     "metadata": {},
     "outputs": [
      {
       "output_type": "stream",
       "stream": "stdout",
       "text": [
        "the rate of surface reaction is 3.6e-06 cm/sec\n",
        "The dissolution rate for 1 cm gallstone is 3.5e-06 cm/sec\n"
       ]
      }
     ],
     "prompt_number": 3
    }
   ],
   "metadata": {}
  }
 ]
}