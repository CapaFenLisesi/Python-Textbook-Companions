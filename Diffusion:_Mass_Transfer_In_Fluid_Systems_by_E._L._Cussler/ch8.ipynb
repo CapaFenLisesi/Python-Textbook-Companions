{
 "metadata": {
  "name": "",
  "signature": "sha256:4ffdecca56cbb9d6e776ad1a01e4fde638db5748af91a54702b1bfe198648852"
 },
 "nbformat": 3,
 "nbformat_minor": 0,
 "worksheets": [
  {
   "cells": [
    {
     "cell_type": "heading",
     "level": 1,
     "metadata": {},
     "source": [
      "Chapter 8 : Fundamentals of Mass Transfer"
     ]
    },
    {
     "cell_type": "heading",
     "level": 2,
     "metadata": {},
     "source": [
      "Example 8.1.1 pg : 238"
     ]
    },
    {
     "cell_type": "code",
     "collapsed": false,
     "input": [
      "\n",
      "import math \n",
      "\n",
      "#initiliazation of variables\n",
      "Vap = (0.05/22.4)*23.8/760 \t# Vapour concentration\n",
      "V = 18.4*10**3 \t# Air Volume in cc\n",
      "A = 150.    \t# Liquid Area in Cm**2\n",
      "t1 = 180.   \t# Time in sec\n",
      "N1 = (Vap*V)/(A*t1)\n",
      "k = 3.4*10**-2 \t# cm/sec\n",
      "C = 0.9\n",
      "\n",
      "#Calculations\n",
      "t = (-V/(k*A))*math.log(1 - C)\n",
      "thr = t/3600\n",
      "\n",
      "#Results\n",
      "print \"the time taken to reach 90 percent saturation is %.1f hr\"%(thr)\n"
     ],
     "language": "python",
     "metadata": {},
     "outputs": [
      {
       "output_type": "stream",
       "stream": "stdout",
       "text": [
        "the time taken to reach 90 percent saturation is 2.3 hr\n"
       ]
      }
     ],
     "prompt_number": 3
    },
    {
     "cell_type": "heading",
     "level": 2,
     "metadata": {},
     "source": [
      "Example 8.1.2 pg : 240"
     ]
    },
    {
     "cell_type": "code",
     "collapsed": false,
     "input": [
      "\n",
      "import math \n",
      "\n",
      "\t\n",
      "#initialization of variables\n",
      "Vo = 5. \t# cm/sec\n",
      "a = 23. \t#cm**2/cm**3\n",
      "z = 100. \t#cm\n",
      "Crat = 0.62 \t# Ratio of c/Csat\n",
      "\t\n",
      "#Calculations\n",
      "k = -(Vo/(a*z))*math.log(1-Crat)\n",
      "\t\n",
      "#Results\n",
      "print \"the mass transfer co efficient is %.1e cm/sec\"%(k)\n"
     ],
     "language": "python",
     "metadata": {},
     "outputs": [
      {
       "output_type": "stream",
       "stream": "stdout",
       "text": [
        "the mass transfer co efficient is 2.1e-03 cm/sec\n"
       ]
      }
     ],
     "prompt_number": 4
    },
    {
     "cell_type": "heading",
     "level": 2,
     "metadata": {},
     "source": [
      "Example 8.1.3 pg : 241"
     ]
    },
    {
     "cell_type": "code",
     "collapsed": false,
     "input": [
      "\n",
      "import math \n",
      "\n",
      "\t\n",
      "#initialization of variables\n",
      "t = 3.*60 \t# seconds\n",
      "crat = 0.5 \t# Ratio of c and csat\n",
      "\t\n",
      "#Calculations\n",
      "ka = -(1/t)*math.log(1-crat)\n",
      "\t\n",
      "#Results\n",
      "print \"the mass transfer co efficient along the product with a is %.1e sec**-1\"%(ka)\n"
     ],
     "language": "python",
     "metadata": {},
     "outputs": [
      {
       "output_type": "stream",
       "stream": "stdout",
       "text": [
        "the mass transfer co efficient along the product with a is 3.9e-03 sec**-1\n"
       ]
      }
     ],
     "prompt_number": 5
    },
    {
     "cell_type": "heading",
     "level": 2,
     "metadata": {},
     "source": [
      "Example 8.1.4 pg : 242"
     ]
    },
    {
     "cell_type": "code",
     "collapsed": false,
     "input": [
      "\n",
      "import math \n",
      "\n",
      "#initialiazation of variables\n",
      "rin = 0.05   \t# initial radius of oxygen bubble in cm\n",
      "rf = 0.027  \t#final radius of oxygen bubble in cm\n",
      "tin = 0     \t# initial time in seconds\n",
      "tf = 420.   \t# final time in seconds\n",
      "c1 = 1/22.4 \t# oxygen concentration in the bubble in mol/litres\n",
      "c1sat = 1.5*10**-3 \t# oxygen concentration outside which is saturated in mol/litres\n",
      "\t\n",
      "#Calculations\n",
      "k = -((rf-rin)/(tf-tin))*(c1/c1sat)\n",
      "\t\n",
      "#Results\n",
      "print \"The mass transfer co efficient is %.1e cm/sec\"%(k)\n",
      "\n"
     ],
     "language": "python",
     "metadata": {},
     "outputs": [
      {
       "output_type": "stream",
       "stream": "stdout",
       "text": [
        "The mass transfer co efficient is 1.6e-03 cm/sec\n"
       ]
      }
     ],
     "prompt_number": 6
    },
    {
     "cell_type": "heading",
     "level": 2,
     "metadata": {},
     "source": [
      "Example 8.2.1 pg : 246"
     ]
    },
    {
     "cell_type": "code",
     "collapsed": false,
     "input": [
      "\t\n",
      "#initialization of variables\n",
      "kc = 3.3*10**-3 \t# M.T.C in cm/sec\n",
      "d = 1.          \t# density of oxygen in g/cm**3\n",
      "M = 18.         \t# Mol wt of water in g/mol\n",
      "Hatm = 4.4*10**4 \t# Henrys consmath.tant in atm\n",
      "HmmHg = Hatm*760 \t# Henrys consmath.tant in mm Hg\n",
      "\t\n",
      "#Calculations\n",
      "ratio = d/(M*HmmHg)\t# Ratio of concentration and pressure of oxygen\n",
      "kp = kc*ratio \t    # M.T.O=C in x*10**12mol/cm**2-sec-mm Hg \n",
      "\t\n",
      "#Results\n",
      "print \"the M.T.C in given units is %.1e\"%(kp )\n",
      "\n"
     ],
     "language": "python",
     "metadata": {},
     "outputs": [
      {
       "output_type": "stream",
       "stream": "stdout",
       "text": [
        "the M.T.C in given units is 5.5e-12\n"
       ]
      }
     ],
     "prompt_number": 7
    },
    {
     "cell_type": "heading",
     "level": 2,
     "metadata": {},
     "source": [
      "Example 8.2.2 pg : 247"
     ]
    },
    {
     "cell_type": "code",
     "collapsed": false,
     "input": [
      "\n",
      "import math \n",
      "\n",
      "\t\n",
      "#initialization of variables\n",
      "k1 = 1.18 \t# M.T.C in lb-mol NH3/hr-ft**2\n",
      "k2 =  1.09 \t# M.T.C in lb-mol NH3/hr-ft**2\n",
      "M2 = 18. \t# Mol wt of NH3 in lb/mol\n",
      "d = 62.4 \t#  Density of NH3 in lb/ft**3\n",
      "c1 = 30.5 \t# Conversion factor from ft to cm\n",
      "c2 = 1./3600 \t# Conversion factor from seconds to hour\n",
      "R = 1.314 \t# Gas consmath.tant in atm-ft**3/lb-mol-K\n",
      "T = 298. \t# Temperature in Kelvin scale\n",
      "\t\n",
      "#Calculations\n",
      "kf1 = (M2/d)*k1*c1*c2 \t# M.T.C in cm/sec\n",
      "kf2 = R*T*k2*c1*c2   \t# M.T.C in cm/sec\n",
      "\t\n",
      "#Results\n",
      "print \"the M.T.C for liquid is %.1e cm/sec\"%(kf1)\n",
      "print \" the M.T.C for gas is %.1f cm/sec\"%(kf2)\n"
     ],
     "language": "python",
     "metadata": {},
     "outputs": [
      {
       "output_type": "stream",
       "stream": "stdout",
       "text": [
        "the M.T.C for liquid is 2.9e-03 cm/sec\n",
        " the M.T.C for gas is 3.6 cm/sec\n"
       ]
      }
     ],
     "prompt_number": 8
    },
    {
     "cell_type": "heading",
     "level": 2,
     "metadata": {},
     "source": [
      "Example 8.3.1 pg : 253"
     ]
    },
    {
     "cell_type": "code",
     "collapsed": false,
     "input": [
      "\n",
      "import math \n",
      "\t\n",
      "#initialization of variables\n",
      "l = 0.07 \t    # flim thickness in cm \n",
      "v = 3.       \t# water flow in cm/sec\n",
      "D = 1.8*10**-5 \t# diffusion coefficient in cm**2/sec\n",
      "crat = 0.1 \t    # Ratio of c1 and c1(sat)\n",
      "\t\n",
      "#Calculations\n",
      "z = (((l**2)*v)/(1.38*D))*((math.log(1-crat))**2) \t#Column length\n",
      "\t\n",
      "#Results\n",
      "print \"the column length needed is %.1f cm\"%(z)\n",
      "\n"
     ],
     "language": "python",
     "metadata": {},
     "outputs": [
      {
       "output_type": "stream",
       "stream": "stdout",
       "text": [
        "the column length needed is 6.6 cm\n"
       ]
      }
     ],
     "prompt_number": 9
    },
    {
     "cell_type": "heading",
     "level": 2,
     "metadata": {},
     "source": [
      "Example 8.3.2 pg : 256"
     ]
    },
    {
     "cell_type": "code",
     "collapsed": false,
     "input": [
      "\n",
      "import math \n",
      "\t\n",
      "#initialization of variables\n",
      "Dw = 1.*10**-5 \t# Diffusion co efficient in cm**2/sec\n",
      "omeg = 20.*2*math.pi/60 \t# disc rotation in /sec\n",
      "Nuw = 0.01 \t# Kinematic viscousity in water in cm**2/sec\n",
      "Da = 0.233 \t# Diffusion co efficient in cm**2/sec\n",
      "Nua = 0.15 \t# Kinematic viscousity in air in cm**2/sec\n",
      "c1satw = 0.003         \t# Solubility of benzoic acid in water in gm/cm**3\n",
      "p1sat = 0.30 \t         # Equilibrium Vapor pressure in mm Hg\n",
      "ratP = 0.3/760 \t        # Ratio of pressures\n",
      "c1 = 1./(22.4*10**3) \t# Moles per volume\n",
      "c2 = 273./298    \t    # Ratio of temperatures\n",
      "c3 = 122.    \t        # Grams per mole\n",
      "\t\n",
      "#Calculations\n",
      "kw = 0.62*Dw*((omeg/Nuw)**0.5)*((Nuw/Dw)**(1./3))\t# cm/sec\n",
      "Nw = kw*c1satw       \t# mass flux in x*10**-6 in g/cm**2-sec\n",
      "ka = 0.62*Da*((omeg/Nua)**0.5)*((Nua/Da)**(1./3))\t#cm/sec\n",
      "c1sata = ratP*c1*c2*c3\t# Solubility of benzoic acid in air in gm/cm**3\n",
      "Na = ka*c1sata          \t# mass flux in x*10**-6 in g/cm**2-sec\n",
      "\t\n",
      "#Results\n",
      "print  \"the mass flux in water is %.1e  g/cm**2-sec\"%(Nw)\n",
      "print \" the mass flux in air is %.e g/cm**2-sec\"%(Na)\n",
      "\n"
     ],
     "language": "python",
     "metadata": {},
     "outputs": [
      {
       "output_type": "stream",
       "stream": "stdout",
       "text": [
        "the mass flux in water is 2.7e-06  g/cm**2-sec\n",
        " the mass flux in air is 9e-07 g/cm**2-sec\n"
       ]
      }
     ],
     "prompt_number": 12
    },
    {
     "cell_type": "heading",
     "level": 2,
     "metadata": {},
     "source": [
      "Example 8.5.1 pg : 266"
     ]
    },
    {
     "cell_type": "code",
     "collapsed": false,
     "input": [
      "\t\n",
      "#initialization of variables\n",
      "Dl=2.1*10**-5\t# Diffusion co efficient for Oxygen in air in cm**2/sec\n",
      "Dg = 0.23   \t#Diffusion co efficient for Oxygen in water in cm**2/sec\n",
      "R = 82.     \t# Gas consmath.tant in cm**3-atm/g-mol-K\n",
      "T = 298.    \t#Temperature in Kelvin\n",
      "l1 = 0.01   \t# film thickness in liquids in cm\n",
      "l2 = 0.1    \t# film thickness in gases in cm\n",
      "H1 = 4.3*10**4 \t# Henrys consmath.tant in atm\n",
      "c = 1./18    \t# concentration of water in g-mol/cm**3\n",
      "\t\n",
      "#Calculations\n",
      "kl = (Dl/l1)*c \t# m.t.c in liquid phase in mol/cm**2/sec\n",
      "kp = (Dg/l2)/(R*T)\t# m.t.c in gas phase in gmol/cm**2-sec-atm\n",
      "KL = 1/((1/kl)+(1/(kp*H1)))\t# Overall m.t.c in mol/cm**2-sec liquid phase\n",
      "\t\n",
      "#Results\n",
      "print \"The overall m.t.c in liquid side is %.1e mol/cm**2-sec\"%(KL)\n"
     ],
     "language": "python",
     "metadata": {},
     "outputs": [
      {
       "output_type": "stream",
       "stream": "stdout",
       "text": [
        "The overall m.t.c in liquid side is 1.2e-04 mol/cm**2-sec\n"
       ]
      }
     ],
     "prompt_number": 13
    },
    {
     "cell_type": "heading",
     "level": 2,
     "metadata": {},
     "source": [
      "Example 8.5.2 pg : 267"
     ]
    },
    {
     "cell_type": "code",
     "collapsed": false,
     "input": [
      "\n",
      "import math \n",
      "\t\n",
      "#initialization of variables\n",
      "Dl=1.9*10**-5\t# Diffusion co efficient for liquid phase in cm**2/sec\n",
      "Dg = 0.090   \t#Diffusion co efficient for gas phase in cm**2/sec\n",
      "R = 82.     \t# Gas consmath.tant in cm**3-atm/g-mol-K\n",
      "T = 363.     \t#Temperature in Kelvin\n",
      "H1 = 0.70    \t# Henrys consmath.tant in atm\n",
      "c = 1./97 \t    # concentration of water in g-mol/cm**3\n",
      "\t\n",
      "#Calculations\n",
      "kl = (Dl/0.01)*c \t# m.t.c in liquid phase in mol/cm**2/sec\n",
      "kp = (Dg/0.1)/(R*T)\t# m.t.c in gas phase in gmol/cm**2-sec-atm\n",
      "KL = 1/((1/kl)+(1/(kp*H1)))       \t# Overall m.t.c in x*10**-5 mol/cm**2-secliquid phase\n",
      "\t\n",
      "#Results\n",
      "print \"The overall m.t.c in liquid side is %.2e mol/cm**2-sec\"%(KL)\t\n",
      "\n",
      "# note :  answer wrong in textbook"
     ],
     "language": "python",
     "metadata": {},
     "outputs": [
      {
       "output_type": "stream",
       "stream": "stdout",
       "text": [
        "The overall m.t.c in liquid side is 1.02e-05 mol/cm**2-sec\n"
       ]
      }
     ],
     "prompt_number": 16
    },
    {
     "cell_type": "heading",
     "level": 2,
     "metadata": {},
     "source": [
      "Example 8.5.3 pg : 267"
     ]
    },
    {
     "cell_type": "code",
     "collapsed": false,
     "input": [
      "\n",
      "#initialization of variables\n",
      "k1 = 3.0*10**-4 \t# m.t.c in benzene in cm/sec\n",
      "k2 = 2.4*10**-3 \t# m.t.c in water in cm/sec\n",
      "ratio = 150. \t# Solubility ratio in benzene to water\n",
      "\t\n",
      "#Calculations\n",
      "K1 = (1/((1/k1)+(ratio/k2)))      \t# Overall m.t.c through benzene phase in x*10**-5 cm/sec\n",
      "\t\n",
      "#Results\n",
      "print \"The overall M.T.C through benzene phase is %.1e cm/sec\"%(K1)\n"
     ],
     "language": "python",
     "metadata": {},
     "outputs": [
      {
       "output_type": "stream",
       "stream": "stdout",
       "text": [
        "The overall M.T.C through benzene phase is 1.5e-05 cm/sec\n"
       ]
      }
     ],
     "prompt_number": 17
    },
    {
     "cell_type": "heading",
     "level": 2,
     "metadata": {},
     "source": [
      "Example 8.5.4 pg : 268"
     ]
    },
    {
     "cell_type": "code",
     "collapsed": false,
     "input": [
      "\n",
      "import math \n",
      "\t\n",
      "#initialization of variables\n",
      "H1 = 75.    \t# henrys consmath.tant for ammonia in atm\n",
      "H2 = 41000. \t# henrys consmath.tant for methane in atm\n",
      "p = 2.2 \t    # pressure in atm\n",
      "kya = 18.   \t# product of m.t.c and packing area per tower volume in lb-mol/hr-ft**3\n",
      "kxa = 530.  \t#product of m.t.c and packing area per tower volume in lb-mol/hr-ft**3\n",
      "\n",
      "#calcuations\n",
      "Kya1 = 1/((1/kya) + (H1/p)/kxa) \t#The overall coefficient for ammonia in lb-mol/hr-ft**3\n",
      "Kya2 = 1/((1/kya) + (H2/p)/kxa) \t#The overall coefficient for methane in lb-mol/hr-ft**3\n",
      "\t\n",
      "#Results\n",
      "print \"The overall coefficient for ammonia is %.1f lb-mol/hr-ft**3\"%(Kya1)\n",
      "print \" The overall coefficient for methane is %.2f lb-mol/hr-ft**3\"%(Kya2)\n"
     ],
     "language": "python",
     "metadata": {},
     "outputs": [
      {
       "output_type": "stream",
       "stream": "stdout",
       "text": [
        "The overall coefficient for ammonia is 8.3 lb-mol/hr-ft**3\n",
        " The overall coefficient for methane is 0.03 lb-mol/hr-ft**3\n"
       ]
      }
     ],
     "prompt_number": 18
    }
   ],
   "metadata": {}
  }
 ]
}