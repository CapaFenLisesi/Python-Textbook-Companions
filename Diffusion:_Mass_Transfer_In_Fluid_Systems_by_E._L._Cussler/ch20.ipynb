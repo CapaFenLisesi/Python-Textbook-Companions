{
 "metadata": {
  "name": "",
  "signature": "sha256:5f399be3ed9287c050acbc68460345d6b2305b6cafd5daad5f67fb5716a7fdba"
 },
 "nbformat": 3,
 "nbformat_minor": 0,
 "worksheets": [
  {
   "cells": [
    {
     "cell_type": "heading",
     "level": 1,
     "metadata": {},
     "source": [
      "Chatper 20 : Heat Transfer"
     ]
    },
    {
     "cell_type": "heading",
     "level": 2,
     "metadata": {},
     "source": [
      "Example 20.1.1 pg : 573"
     ]
    },
    {
     "cell_type": "code",
     "collapsed": false,
     "input": [
      "from scipy.special import erf\n",
      "\n",
      "#initialization of variables\n",
      "T = 26.2 \t# centigrade\n",
      "T0 = 4. \t# centigrade\n",
      "Tinf = 40. \t#centigrade\n",
      "z = 1.3\t    #cm\n",
      "t = 180. \t#seconds\n",
      "\t\n",
      "#Calculations\n",
      "k = erf((T-T0)/(Tinf-T0))\n",
      "alpha = (1/(4*t))*((z/k)**2)\t#cm**2/sec\n",
      "\t\n",
      "#Results\n",
      "print \"The thermal diffusivity is %.3f\"%(alpha)\t#answer wrong in textbook\n"
     ],
     "language": "python",
     "metadata": {},
     "outputs": [
      {
       "output_type": "stream",
       "stream": "stdout",
       "text": [
        "The thermal diffusivity is 0.006\n"
       ]
      }
     ],
     "prompt_number": 1
    },
    {
     "cell_type": "heading",
     "level": 2,
     "metadata": {},
     "source": [
      "Example 20.3.1 pg : 581"
     ]
    },
    {
     "cell_type": "code",
     "collapsed": false,
     "input": [
      "\n",
      "import math \n",
      "\t\n",
      "#initialization of variables\n",
      "Q = 18. \t# m**3/hr\n",
      "z = 2.80 \t#m\n",
      "T = 140.\t#C\n",
      "T1 = 240. \t#C\n",
      "T2 = 20. \t#C\n",
      "p= 900. \t#kg/m**3\n",
      "Cp = 2. \t# W/kg-K\n",
      "d = 0.05\t#m\n",
      "\t\n",
      "#Calculations\n",
      "A = math.pi*(d**2)/4\n",
      "v = Q*(1./(3600*40))/(A)\n",
      "U = (v*p*Cp*d/(4*z))*(math.log((T1-T2)/(T1-T)))\t#W/m**2-K\n",
      "DeltaT = ((T1-T2)+(T1-T))/2\t#C\n",
      "q = (Q*(1./(3600*40))*p*Cp/(math.pi*d*z))*(T-T2)\t#W/m**2-K\n",
      "U1 = q/DeltaT\t#W/m**2-K\n",
      "\t\n",
      "#Results\n",
      "print \"The overall heat transfer co efficient based on local temp difference is %.2f W/m**2-K\"%(U)\n",
      "print \"The overall heat transfer co efficient based on average temp difference is %.2f W/m**2-K\"%(U1)\n"
     ],
     "language": "python",
     "metadata": {},
     "outputs": [
      {
       "output_type": "stream",
       "stream": "stdout",
       "text": [
        "The overall heat transfer co efficient based on local temp difference is 0.40 W/m**2-K\n",
        "The overall heat transfer co efficient based on average temp difference is 0.38 W/m**2-K\n"
       ]
      }
     ],
     "prompt_number": 3
    },
    {
     "cell_type": "heading",
     "level": 2,
     "metadata": {},
     "source": [
      "Example 20.3.2 pg : 582"
     ]
    },
    {
     "cell_type": "code",
     "collapsed": false,
     "input": [
      "\n",
      "import math \n",
      "\t\n",
      "#initialization of variables\n",
      "T = 32. \t#F\n",
      "T0 = 10.\t#F\n",
      "Tinf= 80. \t#F\n",
      "U = 3.6 \t#Btu/hr-ft**2-F\n",
      "A = 27. \t#ft**2\n",
      "d = 8.31 \t#lb/gal\n",
      "V = 100. \t#gal\n",
      "Cv = 1.\t#Btu/lb-F\n",
      "\t\n",
      "#Calculations\n",
      "t = (-math.log((T-T0)/(Tinf-T0)))*d*V*Cv/(U*A)\t#hr\n",
      "\t\n",
      "#Results\n",
      "print \"The time we can wait before the water in the tank starts to freeze is %.f hr\"%(t)\n"
     ],
     "language": "python",
     "metadata": {},
     "outputs": [
      {
       "output_type": "stream",
       "stream": "stdout",
       "text": [
        "The time we can wait before the water in the tank starts to freeze is 10 hr\n"
       ]
      }
     ],
     "prompt_number": 5
    },
    {
     "cell_type": "heading",
     "level": 2,
     "metadata": {},
     "source": [
      "Example 20.3.3 pg : 583"
     ]
    },
    {
     "cell_type": "code",
     "collapsed": false,
     "input": [
      "\n",
      "import math \n",
      "\t\n",
      "#initialization of variables\n",
      "#Given q = h*DeltaT and 0.6q = (1/(1/h)+10/12*0.03)*delta T , divide both to get \n",
      "l = 10./12 \t#ft\n",
      "k = 0.03 \t#Btu/hr-ft-F\n",
      "\t\n",
      "#Calculations\n",
      "l2 = 2\t#feet\n",
      "k2 = 0.03 \t#Btu/hr-ft-F\n",
      "h = ((1/0.6)-1)*k/l \t#Btu/hr-ft**2-F\n",
      "U = 1./((1/h)+(l2/k2))\t#Btu/hr-ft**2-F\n",
      "Savings = U*100/h\n",
      "\t\n",
      "#Results\n",
      "print \"The savings due to insulation is about %d percent\"%(Savings)\n",
      "\n"
     ],
     "language": "python",
     "metadata": {},
     "outputs": [
      {
       "output_type": "stream",
       "stream": "stdout",
       "text": [
        "The savings due to insulation is about 38 percent\n"
       ]
      }
     ],
     "prompt_number": 7
    },
    {
     "cell_type": "heading",
     "level": 2,
     "metadata": {},
     "source": [
      "Example 20.4.1 pg : 588"
     ]
    },
    {
     "cell_type": "code",
     "collapsed": false,
     "input": [
      "\n",
      "import math \n",
      "\t\n",
      "#initialization of variables\n",
      "T = 673. \t# Kelvin\n",
      "M = 28. \n",
      "sigma = 3.80 \t# angstroms\n",
      "omega = 0.87\n",
      "d1 = 0.05 \t#m\n",
      "v1 = 17. \t#m/sec\n",
      "Mu1 = 3.3*10**-5 \t# kg/m-sec\n",
      "p1 = 5.1*10**-1 \t# kg/m**3\n",
      "Cp1 = 1100. \t# J/kg-K\n",
      "k2 = 42. \t# W/m-K\n",
      "l2 = 3.*10**-3 \t#m\n",
      "d3 = 0.044 \t#m\n",
      "v3 = 270. \t#m/sec\n",
      "p3 = 870. \t#kg/m**3\n",
      "Mu3 = 5.3*10**-4 \t# kg/m-sec\n",
      "Cp3 = 1700.\t# J/kg-K\n",
      "k3 = 0.15 \t#W/m-K\n",
      "\t\n",
      "#Calculations\n",
      "kincal = (1.99*10**-4)*(math.sqrt(T/M))/((sigma**2)*omega)\t#W/m**2-K\n",
      "k = kincal*4.2*10**2\t# k in W/m-K\n",
      "h1 = 0.33*(k/d1)*((d1*v1*p1/Mu1)**0.6)*((Mu1*Cp1/k)**0.3)\t#W/m**2-K\n",
      "h2 = k2/l2 \t#W/m**2-K\n",
      "h3 = 0.027*(k3/d3)*((d3*v3*p3/Mu3)**0.8)*((Mu3*Cp3/k3)**0.33)\t#W/m**2-K\n",
      "U = 1/((1/h1)+(1/h2)+(1/h3))\t#W/m**2-K\n",
      "\t\n",
      "#Results\n",
      "print \"The overall heat transfer co efficient is %.f W/m**2-K\"%(U)\n",
      "\n"
     ],
     "language": "python",
     "metadata": {},
     "outputs": [
      {
       "output_type": "stream",
       "stream": "stdout",
       "text": [
        "The overall heat transfer co efficient is 65 W/m**2-K\n"
       ]
      }
     ],
     "prompt_number": 8
    },
    {
     "cell_type": "heading",
     "level": 2,
     "metadata": {},
     "source": [
      "Example 20.4.2 pg : 589"
     ]
    },
    {
     "cell_type": "code",
     "collapsed": false,
     "input": [
      "\n",
      "import math \n",
      "\t\n",
      "#initialization of variables\n",
      "#For window with two panes 3 cm apart\n",
      "k = 0.57*10**-4 \t#cal/cm-sec-K\n",
      "l = 3.           \t#cm\n",
      "g = 980. \t# cm/sec**2\n",
      "Nu = 0.14 \t# cm**2/sec\n",
      "DeltaT = 30. \t# Kelvin\n",
      "T = 278. \t# Kelvin\n",
      "L = 100. \t# cm\n",
      "\t\n",
      "#Calculations\n",
      "h = (0.065*(k/l)*(((l**3)*g*DeltaT/((Nu**2)*T))**(1./3))*((l/L)**(1./9)))     \t#for two pane in x*10**-4 cal/cm**2-sec-K\n",
      "print \"The heat transfer co efficent for two panes is %.1e  cal/cm**2-sec-K\"%(h)\n",
      "\n",
      "#For window with three panes 1.5 cm each apart\n",
      "k = 0.57*10**-4 \t#cal/cm-sec-K\n",
      "l = 1.5\t#cm\n",
      "DeltaT = 15 \t# Kelvin\n",
      "g = 980. \t# cm/sec**2\n",
      "Nu = 0.14 \t# cm**2/sec\n",
      "\t\n",
      "#Calculations\n",
      "h = (0.065*(k/l)*(((l**3)*g*DeltaT/((Nu**2)*T))**(1./3))*((l/L)**(1./9)))\t#for two pane in x*10**-4 cal/cm**2-sec-K\n",
      "print \"The heat transfer co efficent for three panes is %.1e cal/cm**2-sec-K\"%(h/2)\t#Because there are two gaps\n",
      "\n"
     ],
     "language": "python",
     "metadata": {},
     "outputs": [
      {
       "output_type": "stream",
       "stream": "stdout",
       "text": [
        "The heat transfer co efficent for two panes is 4.4e-05  cal/cm**2-sec-K\n",
        "The heat transfer co efficent for three panes is 1.6e-05 cal/cm**2-sec-K\n"
       ]
      }
     ],
     "prompt_number": 11
    }
   ],
   "metadata": {}
  }
 ]
}