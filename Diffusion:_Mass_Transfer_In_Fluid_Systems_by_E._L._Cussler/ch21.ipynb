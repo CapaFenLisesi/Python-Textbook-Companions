{
 "metadata": {
  "name": "",
  "signature": "sha256:22ec7bcfef63f6ff5016b6f16c9204cd93351f0b01a4d636e0f66546e25de919"
 },
 "nbformat": 3,
 "nbformat_minor": 0,
 "worksheets": [
  {
   "cells": [
    {
     "cell_type": "heading",
     "level": 1,
     "metadata": {},
     "source": [
      "Chapter 21 : Simultaneous Heat and Mass Transfer"
     ]
    },
    {
     "cell_type": "heading",
     "level": 2,
     "metadata": {},
     "source": [
      "Example 21.1.2 pg : 599"
     ]
    },
    {
     "cell_type": "code",
     "collapsed": false,
     "input": [
      "\n",
      "import math \n",
      "\t\n",
      "#initialization of variables\n",
      "Tdisc = 30. \t# Centigrade\n",
      "T = 21.  \t    # Centigrade\n",
      "T0 = 18.     \t# Centigrade\n",
      "R0 = 1.5    \t# cm\n",
      "V = 1000.   \t# cc\n",
      "t = 3600.   \t#seconds\n",
      "Nu = 0.082  \t#cm**2/sec\n",
      "omeg = 2*math.pi*10/60 \t#sec**-1\n",
      "\t\n",
      "#Calculations\n",
      "k = -V*(math.log((Tdisc-T)/(Tdisc-T0)))/(math.pi*(R0**2)*t)\t# k = h/d*cp cm/sec\n",
      "alpha = ((1/0.62)*(k)*(Nu**(1./6))*(omeg**(-0.5)))**1.5 \t# cm**2/sec\n",
      "\t\n",
      "#Results\n",
      "print \"the value of thermal diffusivity is %.1e cm**2/sec\"%(alpha)\n"
     ],
     "language": "python",
     "metadata": {},
     "outputs": [
      {
       "output_type": "stream",
       "stream": "stdout",
       "text": [
        "the value of thermal diffusivity is 1.3e-03 cm**2/sec\n"
       ]
      }
     ],
     "prompt_number": 1
    },
    {
     "cell_type": "heading",
     "level": 2,
     "metadata": {},
     "source": [
      "Example 21.3.1 pg : 606"
     ]
    },
    {
     "cell_type": "code",
     "collapsed": false,
     "input": [
      "\n",
      "import math \n",
      "\t\n",
      "#initialization of variables\n",
      "d =1000. \t# kg/m**3\n",
      "h = 30. \t# W/m**2-C-sec\n",
      "Hvap = 2300.*10**3 \t# J/kg\n",
      "T = 75. \t# C\n",
      "Ti = 31. \t# C\n",
      "l = 0.04 \t# m\n",
      "epsilon = 0.36\n",
      "c = 3600. \t# sec/hr\n",
      "t1 = (Hvap/h)*(1/(T-Ti))*(l*epsilon*d)\t# sec\n",
      "t = t1/c \t# in hr\n",
      "\t\n",
      "#Results\n",
      "print \"The time taken for drying is %.f hr\"%(t)\t\n",
      "\n",
      "# answer wrong in textbook\n"
     ],
     "language": "python",
     "metadata": {},
     "outputs": [
      {
       "output_type": "stream",
       "stream": "stdout",
       "text": [
        "The time taken for drying is 7 hr\n"
       ]
      }
     ],
     "prompt_number": 2
    },
    {
     "cell_type": "heading",
     "level": 2,
     "metadata": {},
     "source": [
      "Example 21.3.2 pg : 608"
     ]
    },
    {
     "cell_type": "code",
     "collapsed": false,
     "input": [
      "\n",
      "import math \n",
      "\n",
      "#intialization of variables\n",
      "d = 100.*10**-4 \t# cm\n",
      "v = 10.**-3\t# cm/sec\n",
      "nu = 0.2 \t# cm**2/sec\n",
      "DS = 0.3 \t# cm**2/sec\n",
      "DG = 3.*10**-7 \t# cm**2/sec\n",
      "H = 4.3*10**-4 \t# at 60 degree centigrade\n",
      "\t\n",
      "#Calculations\n",
      "kG = (2+(0.6*((d*v/nu)**0.5)*((nu/DS)**(1./3))))*DS/d\t# cm/sec\n",
      "k = kG*H \n",
      "t = 30*DG/k**2\n",
      "\t\n",
      "#Results\n",
      "print \"The mass transfer coefficient is %.5f cm/sec\"%(k)\n",
      "print \"THe time needed to dry the particle is %.3f sec\"%(t)\n",
      "\t#Answer wrong in textbook starting from kG\n"
     ],
     "language": "python",
     "metadata": {},
     "outputs": [
      {
       "output_type": "stream",
       "stream": "stdout",
       "text": [
        "The mass transfer coefficient is 0.02585 cm/sec\n",
        "THe time needed to dry the particle is 0.013 sec\n"
       ]
      }
     ],
     "prompt_number": 5
    },
    {
     "cell_type": "heading",
     "level": 2,
     "metadata": {},
     "source": [
      "Example 21.4.1 pg : 614"
     ]
    },
    {
     "cell_type": "code",
     "collapsed": false,
     "input": [
      "\n",
      "import math \n",
      "\t\n",
      "#initialization of variables\n",
      "slope = 230. \t#J/g-mol-C\n",
      "nair = 60. \t# gmol/cm**2-sec\n",
      "CpH2O = 75. \t# J/gmol-C\n",
      "f = 0.4 \t# Correction factor\n",
      "F = 2150./(60*0.018)\t#gmol/m**2-sec\n",
      "kc= 20./3\n",
      "a = 3.   \t# m**2/m**3\n",
      "k = 2.7 \t# integral of dH/Hi-H with limits Hout and Hin\n",
      "\t\n",
      "#Calculations\n",
      "nH2Omax = slope*nair/CpH2O\t#gmol/m**2-sec\n",
      "nH2O = nH2Omax*(1-f) \t#gmol/m**2-sec\n",
      "A = F/nH2O \t# m**2\n",
      "l = (nair/(kc*a))*k \t# m\n",
      "\t\n",
      "#Results\n",
      "print \"The flow rate of the water per tower cross section is %.f gmol H2O/m**2-sec\"%(nH2O)\n",
      "print \"The area of tower cross section is %.f m**2\"%(A)\n",
      "print \"The length of the tower is %.1f m\"%(l)\n",
      "\n"
     ],
     "language": "python",
     "metadata": {},
     "outputs": [
      {
       "output_type": "stream",
       "stream": "stdout",
       "text": [
        "The flow rate of the water per tower cross section is 110 gmol H2O/m**2-sec\n",
        "The area of tower cross section is 18 m**2\n",
        "The length of the tower is 8.1 m\n"
       ]
      }
     ],
     "prompt_number": 6
    },
    {
     "cell_type": "heading",
     "level": 2,
     "metadata": {},
     "source": [
      "Example 21.5.1 pg : 619"
     ]
    },
    {
     "cell_type": "code",
     "collapsed": false,
     "input": [
      "\n",
      "import math \n",
      "\t\n",
      "#initialization of variables\n",
      "A = 0.01 \t# cm**2\n",
      "l = 1.  \t# cm\n",
      "VA = 3. \t# cc\n",
      "VB = 3. \t# cc\n",
      "alphagas = 0.29 \n",
      "alphaliquid = -1.3\n",
      "x1 = 0.5\n",
      "x2 = 0.5 \n",
      "deltaT = 50. \t# Kelvin Thot-Tcold = 50\n",
      "Tavg = 298. \t# kelvin\n",
      "Dgas = 0.3  \t# cm**2/sec\n",
      "Dliquid = 10.**-5 \t# cm**2/sec\n",
      "\t\n",
      "#Calculations\n",
      "deltaY = alphagas*x1*x2*deltaT/Tavg \t# Y1hot-Y1cold = DeltaY\n",
      "deltaX = alphaliquid*x1*x2*deltaT/Tavg\t# X1hot-X1cold = DeltaX\n",
      "Beta = (A/l)*((1/VA)+(1/VB))\t#cm**-2\n",
      "BetaDgasinverse = 1/(Beta*Dgas)\t# sec\n",
      "BetaDliquidinverse = (1/(Beta*Dliquid))/(365*24*60*60)\n",
      "\t\n",
      "#Results\n",
      "print \"The seperation achieved for gas is  %.3f\"%(deltaY)\n",
      "print \"The seperation achieved for liquid is  %.2f\"%(deltaX)\n",
      "print \"The time taken for seperation for gas will be %.f seconds\"%(BetaDgasinverse)\n",
      "print \"The time taken for seperation for liquid will be %.1f year\"%(BetaDliquidinverse)\n"
     ],
     "language": "python",
     "metadata": {},
     "outputs": [
      {
       "output_type": "stream",
       "stream": "stdout",
       "text": [
        "The seperation achieved for gas is  0.012\n",
        "The seperation achieved for liquid is  -0.05\n",
        "The time taken for seperation for gas will be 500 seconds\n",
        "The time taken for seperation for liquid will be 0.5 year\n"
       ]
      }
     ],
     "prompt_number": 8
    }
   ],
   "metadata": {}
  }
 ]
}