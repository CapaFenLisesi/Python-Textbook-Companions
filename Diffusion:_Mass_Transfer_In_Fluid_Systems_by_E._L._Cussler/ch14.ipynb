{
 "metadata": {
  "name": "",
  "signature": "sha256:528842b9a81e863e3c4d30ecc59935b8c5cd0e7d99bff9f9c1d1ac8c6c54daa9"
 },
 "nbformat": 3,
 "nbformat_minor": 0,
 "worksheets": [
  {
   "cells": [
    {
     "cell_type": "heading",
     "level": 1,
     "metadata": {},
     "source": [
      "Chapter 14 : Extraction"
     ]
    },
    {
     "cell_type": "heading",
     "level": 2,
     "metadata": {},
     "source": [
      "Example 14.3.1 pg : 412"
     ]
    },
    {
     "cell_type": "code",
     "collapsed": false,
     "input": [
      "\n",
      "import math \n",
      "\t\n",
      "#initialization of variables\n",
      "Rat1 = (6.5/3)*(1-0.47)\t# as Rat = x0/y0\n",
      "m = 0.14 \n",
      "H = (6.5*10**3)/3600 \t# Extract flow in g/sec\n",
      "L = (3*10**3)/3600. \t# Solvent flow in g/sec\n",
      "d= 10.              \t# cm\n",
      "A = 0.25*math.pi*d**2 \t# cm**2\n",
      "l = 65 \t# cm\n",
      "\t\n",
      "#Calculations and Results\n",
      "Kya = ((H/(l*A))*(1/(1-((m*H)/L)))*(math.log((1-0.14*Rat1)/(0.47))))*10**3\t# kg/m**3-sec\n",
      "print \"The value of Kya is %.1f  kg/m**3-sec\"%(Kya)\n",
      "Rat2 = (6.5/3)*(1-0.1)\t#For case B\n",
      "l2 = l*(math.log(1/((1-0.14*Rat2)/(0.1))))/(math.log(1/((1-0.14*Rat1)/(0.47))))/100\t# m\n",
      "print \"The length for 90 percent recovery is %.1f m\"%(l2)\n",
      "\n"
     ],
     "language": "python",
     "metadata": {},
     "outputs": [
      {
       "output_type": "stream",
       "stream": "stdout",
       "text": [
        "The value of Kya is 0.3  kg/m**3-sec\n",
        "The length for 90 percent recovery is 2.2 m\n"
       ]
      }
     ],
     "prompt_number": 3
    },
    {
     "cell_type": "heading",
     "level": 2,
     "metadata": {},
     "source": [
      "Example 14.4.1 pg : 415"
     ]
    },
    {
     "cell_type": "code",
     "collapsed": false,
     "input": [
      "\n",
      "import math \n",
      "\n",
      "#initialization of variables\n",
      "m = 0.018 \n",
      "H = 450.     \t# litres/hr\n",
      "L = 37.      \t# litres/hr\n",
      "Ynplus1byY1 = 100. \n",
      "\t\n",
      "#Calculations\n",
      "E =m*H/L\n",
      "nplus1 = math.log((Ynplus1byY1*((1/E)-1))+1)/math.log(1/E)\n",
      "n = nplus1 -1\n",
      "print \"The number of ideal stages are %.1f\"%(n)\n",
      "N = 0.60        \t#Murphree efficienct\n",
      "E1 = (m*H/L) + (1/N) - 1\n",
      "nplus1 = math.log((Ynplus1byY1*((1/E1)-1))+1)/math.log(1/E1)\n",
      "n=nplus1-1\n",
      "print \"The number of stages required if Murphree efficiency is 60 percent is %.f\"%(n)\n",
      "\n"
     ],
     "language": "python",
     "metadata": {},
     "outputs": [
      {
       "output_type": "stream",
       "stream": "stdout",
       "text": [
        "The number of ideal stages are 2.9\n",
        "The number of stages required if Murphree efficiency is 60 percent is 21\n"
       ]
      }
     ],
     "prompt_number": 5
    },
    {
     "cell_type": "heading",
     "level": 2,
     "metadata": {},
     "source": [
      "Example 14.5.1 pg : 419"
     ]
    },
    {
     "cell_type": "code",
     "collapsed": false,
     "input": [
      "\n",
      "import math \n",
      "\t\n",
      "#initialization of variables\n",
      "F = 5.       \t#kg feed\n",
      "S = 2.       \t# kg solvent\n",
      "E = F-S     \t# kg extract\n",
      "W = 1.  \t    # kg waste\n",
      "EG = 80. \t    # ppm\n",
      "y0 = (100-99)/100.   \t# mole fraction of gold left\n",
      "y1 = y0*EG*W/S \t        # concentration in raffinate\n",
      "\t\n",
      "#Calculations\n",
      "xN = (EG*W - y1*S)/E \t# solvent concentration\n",
      "xNminus1 = ((xN*(E+S)) - EG*W)/F\t#feed stage balance\n",
      "N = 1 + ((math.log((xN-xNminus1)/(y1))/math.log(F/S)))\t#numner of stages including feed stage\n",
      "\t\n",
      "#Results\n",
      "print \"The number of stages including feed stage is %d\"%(N)\n"
     ],
     "language": "python",
     "metadata": {},
     "outputs": [
      {
       "output_type": "stream",
       "stream": "stdout",
       "text": [
        "The number of stages including feed stage is 5\n"
       ]
      }
     ],
     "prompt_number": 7
    }
   ],
   "metadata": {}
  }
 ]
}