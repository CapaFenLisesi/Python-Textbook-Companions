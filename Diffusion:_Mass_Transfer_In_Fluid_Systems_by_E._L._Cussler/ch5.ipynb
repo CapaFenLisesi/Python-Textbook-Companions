{
 "metadata": {
  "name": "",
  "signature": "sha256:e95d26ba834dccfcca64f78642d7e9d0d80482717f10832b09324f5a5b164f70"
 },
 "nbformat": 3,
 "nbformat_minor": 0,
 "worksheets": [
  {
   "cells": [
    {
     "cell_type": "heading",
     "level": 1,
     "metadata": {},
     "source": [
      "Chapter 5 : Values of Diffusion Coefficients"
     ]
    },
    {
     "cell_type": "heading",
     "level": 2,
     "metadata": {},
     "source": [
      "Example 5.1.1 pg : 124"
     ]
    },
    {
     "cell_type": "code",
     "collapsed": false,
     "input": [
      "import math\n",
      "\n",
      "# variables\n",
      "e1 = 3.54   # delta 1\n",
      "e2 = 2.83   # delta 2\n",
      "\n",
      "# calculations and results\n",
      "e12 = 1./2*(e1+e2)\n",
      "print \"Sigma12 = %.2f A\"%e12\n",
      "omega = 0.81\n",
      "e12bykbt = math.sqrt(124*38./448)\n",
      "D = 1.86*10**-3*448**(3./2)*((1./39.9) + 1./2.02**(1./2))/(1*3.18**2*omega)\n",
      "print \"D = %.2f cm**2/sec\"%D"
     ],
     "language": "python",
     "metadata": {},
     "outputs": [
      {
       "output_type": "stream",
       "stream": "stdout",
       "text": [
        "Sigma12 = 3.19 A\n",
        "D = 1.57 cm**2/sec\n"
       ]
      }
     ],
     "prompt_number": 1
    },
    {
     "cell_type": "heading",
     "level": 2,
     "metadata": {},
     "source": [
      "Example 5.1.2 pg : 125"
     ]
    },
    {
     "cell_type": "code",
     "collapsed": false,
     "input": [
      "\n",
      "import math \n",
      "\t\n",
      "#initialization of variables\n",
      "sigma1 = 2.92 \t# angstroms\n",
      "sigma2 = 3.68 \t# angstroms\n",
      "sigma12 = (sigma1+sigma2)/2 \t# angstroms\n",
      "T = 294. \t# Kelvin\n",
      "M1 = 2.02 \t# Mol wt of hydrogen\n",
      "V1 = 7.07 \n",
      "V2 = 17.9\n",
      "M2 = 28. \t# Mol wt of Nitrogen\n",
      "p = 2.  \t#atm\n",
      "Omega = 0.842\n",
      "Dexp = 0.38 \t# cm**2/sec\n",
      "\t\n",
      "#Calculations\n",
      "D1 = ((1.86*10**-3)*((T)**1.5)*(((1/M1)+(1/M2))**0.5))/((p)*((sigma12)**2)*Omega)\t#cm**2/sec\n",
      "err1 = ((Dexp-D1)/Dexp)*100\n",
      "D2 = ((10**-3)*((T)**1.75)*(((1/M1)+(1/M2))**0.5))/((p)*((((V1)**(1./3))+ ((V2)**(1./3)))**2))  \t#cm**2/sec\n",
      "err2 = ((Dexp-D2)/Dexp)*100\n",
      "\t\n",
      "#Results\n",
      "print \"The diffusion co efficient using Chapman-enskong theory is %.2f cm**2/sec\"%(D1)\n",
      "print \"The error for the above correlation is %.f percent\"%(err1+1)\n",
      "print \"The diffusion co efficient using Fuller correlation is %.2f cm**2/sec\"%(D2)\n",
      "print \"The error for the above correlation is %.f percent\"%(err2)\n"
     ],
     "language": "python",
     "metadata": {},
     "outputs": [
      {
       "output_type": "stream",
       "stream": "stdout",
       "text": [
        "The diffusion co efficient using Chapman-enskong theory is 0.37 cm**2/sec\n",
        "The error for the above correlation is 3 percent\n",
        "The diffusion co efficient using Fuller correlation is 0.37 cm**2/sec\n",
        "The error for the above correlation is 3 percent\n"
       ]
      }
     ],
     "prompt_number": 4
    },
    {
     "cell_type": "heading",
     "level": 2,
     "metadata": {},
     "source": [
      "Example 5.1.3 pf : 126"
     ]
    },
    {
     "cell_type": "code",
     "collapsed": false,
     "input": [
      "\n",
      "import math \n",
      "\n",
      "\t\n",
      "#initialization of variables\n",
      "p0 = 1. \t#atm\n",
      "p = 33. \t#atm\n",
      "D0 = 0.043 \t# cm**2/sec\n",
      "\t\n",
      "#Calculations \n",
      "D = (p0*D0/p)*10**5 \t# x*10**-5 cm**2/sec\n",
      "\t\n",
      "#Results\n",
      "print \"The diffusion co efficient for the given conditions is %.2f x10**-5 cm**2/sec\"%(D)\n",
      "print (\"The answer is a bit different due to rounding off error in textbook. Also please verify that 10**-5 factor is utilized outside.\")\n"
     ],
     "language": "python",
     "metadata": {},
     "outputs": [
      {
       "output_type": "stream",
       "stream": "stdout",
       "text": [
        "The diffusion co efficient for the given conditions is 130.30 x10**-5 cm**2/sec\n",
        "The answer is a bit different due to rounding off error in textbook. Also please verify that 10**-5 factor is utilized outside.\n"
       ]
      }
     ],
     "prompt_number": 12
    },
    {
     "cell_type": "heading",
     "level": 2,
     "metadata": {},
     "source": [
      "Example 5.2.1 pg : 132"
     ]
    },
    {
     "cell_type": "code",
     "collapsed": false,
     "input": [
      "\n",
      "import math \n",
      "\t\n",
      "#initialization of variables\n",
      "R0 = 1.73*10**-8 \t#cm\n",
      "kb = 1.38*10**-16 \t# g-cm**2/sec**2-K\n",
      "T = 298. \t    # kelvin\n",
      "Mu = 0.01   \t# g/cm-sec\n",
      "Mu2 = 1.    \t# Centipoise\n",
      "DE = 1.80   \t#x*10**-5 cm**2/sec\n",
      "phi = 2.6\n",
      "VH2O = 18.  \t# cc/g-mol\n",
      "VO2 = 25.   \t# cc/g-mol\n",
      "\t\n",
      "#Calculations\n",
      "D1 = ((kb*T)/(6*math.pi*Mu*R0))*10**5\t# x*10**-5 cm**2/sec\n",
      "err1 = (DE-D1)*100/DE \t# error percentage\n",
      "D2 = (((8.2*10**-8)*T/(Mu2*((VO2)**(1./3))))*(1+ ((3*VH2O/VO2)**(2./3))))*10**5 \t#x*10**-5 cm**2/sec\n",
      "err2 = (D2-DE)*100/DE \t# Error percentage\n",
      "D3 = (((7.4*10**-8)*((phi*VH2O)**0.5)*T)/(Mu2*((VO2)**0.6)))*10**5\t#x*10**-5 cm**2/sec\n",
      "err3 = (D3-DE)*100/DE\t# Error percentage \n",
      "\t\n",
      "#Results\n",
      "print \"The diffusion co efficent using Stokes einstien correlation is %.1f x10**-5 cm**2/sec\"%(D1)\n",
      "print \"The error regarding above correlation is %.f percent low\"%(err1)\n",
      "print \"The diffusion co efficent using Wilke-Chang correlation is %.1f x10**-5 cm**2/sec\"%(D3)\n",
      "print \"The error regarding above correlation is %.f percent high\"%(err3)\n"
     ],
     "language": "python",
     "metadata": {},
     "outputs": [
      {
       "output_type": "stream",
       "stream": "stdout",
       "text": [
        "The diffusion co efficent using Stokes einstien correlation is 1.3 x10**-5 cm**2/sec\n",
        "The error regarding above correlation is 30 percent low\n",
        "The diffusion co efficent using Wilke-Chang correlation is 2.2 x10**-5 cm**2/sec\n",
        "The error regarding above correlation is 21 percent high\n"
       ]
      }
     ],
     "prompt_number": 15
    },
    {
     "cell_type": "heading",
     "level": 2,
     "metadata": {},
     "source": [
      "Example 5.2.2 pg : 133"
     ]
    },
    {
     "cell_type": "code",
     "collapsed": false,
     "input": [
      "\n",
      "import math \n",
      "\t\n",
      "#initialization of variables\n",
      "kb = 1.38*10**-16\t#g-cm**2-sec**2-K\n",
      "T = 310 \t# kelvin\n",
      "k = 30 \t# which is a/b\n",
      "D = 2.0*10**-7 \t# cm**2/sec\n",
      "Mu = 0.00695 \t# g/cm-sec\n",
      "\t\n",
      "#Calculations\n",
      "a = ((kb*T/(6*math.pi*Mu*D))*((math.log(k + ((k**2-1)**(0.5))))/((1-(1/k**2))**0.5)))*10**7 \t# nm\n",
      "b = a/k \t# nm\n",
      "\t\n",
      "#Results\n",
      "print \"The results of a and b are %.f nm and %.1f nm\"%(a,b)\n",
      "\n"
     ],
     "language": "python",
     "metadata": {},
     "outputs": [
      {
       "output_type": "stream",
       "stream": "stdout",
       "text": [
        "The results of a and b are 67 nm and 2.2 nm\n"
       ]
      }
     ],
     "prompt_number": 16
    },
    {
     "cell_type": "heading",
     "level": 2,
     "metadata": {},
     "source": [
      "Example 5.2.3 pg : 133"
     ]
    },
    {
     "cell_type": "code",
     "collapsed": false,
     "input": [
      "\n",
      "import math \n",
      "\t\n",
      "#initialization of variables\n",
      "D1 = 1.26*10**-5 \t# for x1=1 , D0 value in cm**2/sec\n",
      "x1 = 0.5\n",
      "D2 = 4.68*10**-5 \t# for x2=1 , D0 Value in cm**2/sec\n",
      "x2 = 0.5\n",
      "k = -0.69 \t# dlngamma1/dx1 value given\n",
      "\t\n",
      "#Calculations\n",
      "D0 = ((D1)**x1)*((D2)**x2)*10**5 \t# x*10**-5 cm**2/sec\n",
      "D = D0*(1+k) \t# Diffusion coefficient in x*10**-5 cm**2/sec\n",
      "\t\n",
      "#Results\n",
      "print \"The diffusion coefficent is %.2f x10**-5 cm**2/sec\"%(D)\n"
     ],
     "language": "python",
     "metadata": {},
     "outputs": [
      {
       "output_type": "stream",
       "stream": "stdout",
       "text": [
        "The diffusion coefficent is 0.75 x10**-5 cm**2/sec\n"
       ]
      }
     ],
     "prompt_number": 17
    },
    {
     "cell_type": "heading",
     "level": 2,
     "metadata": {},
     "source": [
      "Example 5.5.1 pg : 142"
     ]
    },
    {
     "cell_type": "code",
     "collapsed": false,
     "input": [
      "\n",
      "import math \n",
      "\t\n",
      "#initialization of variables\n",
      "m = 20./(6*10**23)\t#wt of each molecule\n",
      "kb = 1.38*10**-16 \t# g-cm**2/sec-K\n",
      "T = 298.         \t# Kelvin\n",
      "dou = 0.04*10**-7 \t# cm\n",
      "\t\n",
      "#Calculations\n",
      "v = math.sqrt(kb*T*2/m) \t#cm/sec\n",
      "D = (dou*v/6) \n",
      "\t\n",
      "#Results\n",
      "print \"The value of Diffusion co efficient is %.e  cm**2/sec\"%(D)\n"
     ],
     "language": "python",
     "metadata": {},
     "outputs": [
      {
       "output_type": "stream",
       "stream": "stdout",
       "text": [
        "The value of Diffusion co efficient is 3e-05  cm**2/sec\n"
       ]
      }
     ],
     "prompt_number": 20
    },
    {
     "cell_type": "heading",
     "level": 2,
     "metadata": {},
     "source": [
      "Example 5.5.2 pg : 142"
     ]
    },
    {
     "cell_type": "code",
     "collapsed": false,
     "input": [
      "\n",
      "import math \n",
      "#Intialization of variables\n",
      "sigmasquare = 0.014 \t# Slope of the graph\n",
      "t = 150. \t# seconds\n",
      "\n",
      "#Calculations\n",
      "D = (sigmasquare/(2*t)) \t#  cm**2/sec\n",
      "\n",
      "#Results\n",
      "print \"The value of diffusion co efficient is %.1e cm**2/sec\"%(D)\n"
     ],
     "language": "python",
     "metadata": {},
     "outputs": [
      {
       "output_type": "stream",
       "stream": "stdout",
       "text": [
        "The value of diffusion co efficient is 4.7e-05 cm**2/sec\n"
       ]
      }
     ],
     "prompt_number": 22
    }
   ],
   "metadata": {}
  }
 ]
}