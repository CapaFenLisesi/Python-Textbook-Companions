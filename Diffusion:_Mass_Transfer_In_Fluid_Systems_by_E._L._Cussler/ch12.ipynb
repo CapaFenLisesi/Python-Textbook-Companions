{
 "metadata": {
  "name": "",
  "signature": "sha256:5967b06b73b5328a3c996954b0a08e521bef5e943190f4d3bb234d726e197220"
 },
 "nbformat": 3,
 "nbformat_minor": 0,
 "worksheets": [
  {
   "cells": [
    {
     "cell_type": "heading",
     "level": 1,
     "metadata": {},
     "source": [
      "Chapter 12 : Differential Distillation"
     ]
    },
    {
     "cell_type": "heading",
     "level": 2,
     "metadata": {},
     "source": [
      "Example 12.2.1 pg : 359"
     ]
    },
    {
     "cell_type": "code",
     "collapsed": false,
     "input": [
      "\n",
      "import math \n",
      "\t\n",
      "#initialization of variables\n",
      "l = 1.22 \t# length of tower\n",
      "Gflow = 0.026 \t# mol/sec\n",
      "GbyL = 0.07\n",
      "dia = 0.088 \t# m\n",
      "pl = 1.1/100\t# pl = 1-yl\n",
      "p0 = 0.04/100 \t# p0 = 1-y0\n",
      "\t\n",
      "#Calculations\n",
      "A = math.pi*(dia**2)/4 \t# cross sectional of tower in m**2\n",
      "G = Gflow/A \t# Gas flux in mol/m**2-sec\n",
      "Kya = (G/l)*(1/(1-GbyL))*(math.log(pl/p0))\t# Mass transfer per volume in mol/m**3-sec\n",
      "\t\n",
      "#Results\n",
      "print \"The mass transfer per volume is %.1f mol/m**3-sec\"%(Kya)\n"
     ],
     "language": "python",
     "metadata": {},
     "outputs": [
      {
       "output_type": "stream",
       "stream": "stdout",
       "text": [
        "The mass transfer per volume is 12.5 mol/m**3-sec\n"
       ]
      }
     ],
     "prompt_number": 1
    },
    {
     "cell_type": "heading",
     "level": 2,
     "metadata": {},
     "source": [
      "Example 12.2.2 pg : 360"
     ]
    },
    {
     "cell_type": "code",
     "collapsed": false,
     "input": [
      "\n",
      "import math \n",
      "\t\n",
      "#initialization of variables\n",
      "x1=0.99\n",
      "x2=0.99\n",
      "y1=0.95\n",
      "y2=0.95\n",
      "alpha=1.5\n",
      "m=0.42\n",
      "l=2\n",
      "HTU=0.34\n",
      "\t\n",
      "#Calculations\n",
      "y1s= (y1-0.58)/m\n",
      "xrd= (x2-y2)/(x1-y1s)\n",
      "Rd=xrd/(1-xrd)\n",
      "Rds=alpha*Rd\n",
      "xl= ((Rds+1)*y1 - x1)/(Rds)\n",
      "\n",
      "def  ystar(y):\n",
      "    return 0.58+0.42*y\n",
      "\n",
      "NTU = math.log((ystar(xl) -y1)/(ystar(x1)-x1)) /(1- m*(Rds+1)/Rds)\n",
      "NTU2=l/HTU\n",
      "xd2=(ystar(y1)-y1)/math.e**(NTU2*(1-m))\n",
      "xd=(0.58-xd2)/(1-m)\n",
      "\t\n",
      "#Results\n",
      "print \"In case 1, NTU = %.1f\"%(NTU)\n",
      "print \" In case 2, xd = %.3f\"%(xd)\n"
     ],
     "language": "python",
     "metadata": {},
     "outputs": [
      {
       "output_type": "stream",
       "stream": "stdout",
       "text": [
        "In case 1, NTU = 5.3\n",
        " In case 2, xd = 0.998\n"
       ]
      }
     ],
     "prompt_number": 3
    },
    {
     "cell_type": "heading",
     "level": 2,
     "metadata": {},
     "source": [
      "Example 12.4.1 pg : 368"
     ]
    },
    {
     "cell_type": "code",
     "collapsed": false,
     "input": [
      "from numpy.linalg import solve\n",
      "import math \n",
      "\t\n",
      "#initialization of variables\n",
      "F=3500 \t#mol/hr\n",
      "xf=0.4\n",
      "x1=0.98\n",
      "y1=0.97\n",
      "y2=0.625\n",
      "x1=0.97\n",
      "x2=0.4\n",
      "ratio=1.5\n",
      "HTU=0.2\n",
      "\t\n",
      "#Calculations\n",
      "A=[[1, 1],[x1, 1-x1]]\n",
      "B=[[F],[xf*F]]\n",
      "C = solve(A,B)\n",
      "#C=A\\B\n",
      "DA=C[0]\n",
      "BA=C[1]\n",
      "Rds=(y1-y2)/(x1-x2)\n",
      "Rd=Rds/(1-Rds)\n",
      "Rdreq=ratio*Rd\n",
      "NTU=13.9\n",
      "l=HTU*NTU\n",
      "\t\n",
      "#Results\n",
      "print \"length of the tower = %.1f m\"%(l)\n"
     ],
     "language": "python",
     "metadata": {},
     "outputs": [
      {
       "output_type": "stream",
       "stream": "stdout",
       "text": [
        "length of the tower = 2.8 m\n"
       ]
      }
     ],
     "prompt_number": 4
    }
   ],
   "metadata": {}
  }
 ]
}