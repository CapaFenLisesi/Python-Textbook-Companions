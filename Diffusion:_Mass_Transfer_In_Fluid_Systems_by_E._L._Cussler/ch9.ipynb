{
 "metadata": {
  "name": "",
  "signature": "sha256:0c7aa52e4235bf5f449708c0aa42c5f1d3cf349a52cd0ba075233a85a209aa61"
 },
 "nbformat": 3,
 "nbformat_minor": 0,
 "worksheets": [
  {
   "cells": [
    {
     "cell_type": "heading",
     "level": 1,
     "metadata": {},
     "source": [
      "Chapter 9 : Theories of Mass Transfer"
     ]
    },
    {
     "cell_type": "heading",
     "level": 2,
     "metadata": {},
     "source": [
      "Example 9.1.1 pg : 177"
     ]
    },
    {
     "cell_type": "code",
     "collapsed": false,
     "input": [
      "\n",
      "import math \n",
      "\t\n",
      "#initialization of variables\n",
      "p1 = 10.    \t# pressure in atm\n",
      "H = 600. \t    # henrys consmath.tant in atm\n",
      "c1 = 0. \t    # gmol/cc\n",
      "N1 = 2.3*10**-6 \t# mass flux in mol/cm**2-sec\n",
      "c = 1./18 \t    #total Concentration in g-mol/cc\n",
      "D = 1.9*10**-5 \t# Diffusion co efficient in cm**2/sec\n",
      "\t\n",
      "#Calculations\n",
      "c1i = (p1/H)*c \t# Component concentration in gmol/cc\n",
      "k = N1/(c1i-c1)\t#Mass transfer co efficient in cm/sec\n",
      "l = D/k \t# Film thickness in cm\n",
      "\t\n",
      "#Results\n",
      "print \"The film thickness is %.5f cm\"%(l)\n",
      "\n"
     ],
     "language": "python",
     "metadata": {},
     "outputs": [
      {
       "output_type": "stream",
       "stream": "stdout",
       "text": [
        "The film thickness is 0.00765 cm\n"
       ]
      }
     ],
     "prompt_number": 1
    },
    {
     "cell_type": "heading",
     "level": 2,
     "metadata": {},
     "source": [
      "Example 9.2.1 pg : 281"
     ]
    },
    {
     "cell_type": "code",
     "collapsed": false,
     "input": [
      "\n",
      "import math \n",
      "\t\n",
      "#initialization of variables\n",
      "D = 1.9*10**-5 \t#Diffusion co efficient in cm**2/sec\n",
      "k = 2.5*10**-3 \t# M.T.C in cm/sec\n",
      "\t\n",
      "#Calculations\n",
      "Lbyvmax = 4*D/((k**2)*math.pi)\t#sec\n",
      "tou = D/k**2 \t# sec\n",
      "\t\n",
      "#Results\n",
      "print \"The contact time is %.1f sec\"%(Lbyvmax)\n",
      "print \"The surface resident time is %.1f sec\"%(tou)\n"
     ],
     "language": "python",
     "metadata": {},
     "outputs": [
      {
       "output_type": "stream",
       "stream": "stdout",
       "text": [
        "The contact time is 3.9 sec\n",
        "The surface resident time is 3.0 sec\n"
       ]
      }
     ],
     "prompt_number": 2
    },
    {
     "cell_type": "heading",
     "level": 2,
     "metadata": {},
     "source": [
      "Example 9.3.1 pg : 283"
     ]
    },
    {
     "cell_type": "code",
     "collapsed": false,
     "input": [
      "\n",
      "import math \n",
      "\n",
      "\t\n",
      "#initialization of variables\n",
      "const = 0.5 \t# The part of flow in the system which bypasses the region where the mass transfer occurs\n",
      "v1 = 1. \t    # cm/sec\n",
      "al = 10.**3\n",
      "k = 10.**-3 \t# cm/sec\n",
      "v2 = 3.      \t# cm/sec\n",
      "\t\n",
      "#Calculations\n",
      "C1byC10first = const + (1-const)*(math.exp(-k*al/v1))\t# c1/c10\n",
      "appk1 = (v1/al)*(math.log(1/C1byC10first))\t# Apparent m.t.c for first case in cm/sec\n",
      "C1byC10second = const + (1-const)*(math.exp(-(math.sqrt(3))*k*al/v2))\t#c1/c10 in second case\n",
      "appk2 = (v2/al)*math.log(1/C1byC10second)\t# apparent m.t.c for second case in cm/sec\n",
      "power = math.log(appk2/appk1)/math.log(v2/v1)\n",
      "\t\n",
      "#Results\n",
      "print \"The apparent m.t.c for the first case is %.2e cm/sec\"%(appk1)\n",
      "print \"The apparent m.t.c for the second case is %.1e cm/sec\"%(appk2)\n",
      "print \"The apparent is proportional to the power of %.2f of the velocity\"%(power)\n"
     ],
     "language": "python",
     "metadata": {},
     "outputs": [
      {
       "output_type": "stream",
       "stream": "stdout",
       "text": [
        "The apparent m.t.c for the first case is 3.80e-04 cm/sec\n",
        "The apparent m.t.c for the second case is 7.4e-04 cm/sec\n",
        "The apparent is proportional to the power of 0.61 of the velocity\n"
       ]
      }
     ],
     "prompt_number": 4
    },
    {
     "cell_type": "heading",
     "level": 2,
     "metadata": {},
     "source": [
      "Example 9.4.1 pg : 287"
     ]
    },
    {
     "cell_type": "code",
     "collapsed": false,
     "input": [
      "import math\n",
      "\n",
      "#initialization of variables\n",
      "D = 1.*10**-5 \t#cm**2/sec\n",
      "d = 2.3 \t# cm\n",
      "L = 14. \t# cm\n",
      "v0 = 6.1 \t# cm/sec\n",
      "\t\n",
      "#Calculations\n",
      "k = ((3**(1./3))/(math.lgamma(4./3)))*((D/d))*(((d**2)*v0/(D*L))**(1./3))\t# cm/sec\n",
      "\t\n",
      "#Results\n",
      "print \"The average mass transfer coefficient is %f cm/sec\"%(k)\n"
     ],
     "language": "python",
     "metadata": {},
     "outputs": [
      {
       "output_type": "stream",
       "stream": "stdout",
       "text": [
        "The average mass transfer coefficient is -0.003397 cm/sec\n"
       ]
      }
     ],
     "prompt_number": 2
    },
    {
     "cell_type": "heading",
     "level": 2,
     "metadata": {},
     "source": [
      "Example 9.4.2 pg : 293"
     ]
    },
    {
     "cell_type": "code",
     "collapsed": false,
     "input": [
      "\t\n",
      "#initialization of variables\n",
      "tn = 300000. \t# turbulence number\n",
      "v0  = 10.    \t# cm/sec\n",
      "p = 1.       \t# g/cc\n",
      "mu = 0.01   \t# g/cm-sec\n",
      "delta = 2.5 \t#cm\n",
      "D = 1.*10**-5 \t# cm**2/sec\n",
      "\t\n",
      "#Calculations\n",
      "x = tn*mu/(v0*p)\t# cm\n",
      "delta = ((280./13)**(1./2))*x*((mu/(x*v0*p))**(1./2))\t#cm\n",
      "deltac = ((D*p/mu)**(1./3))*delta\t#cm\n",
      "k = (0.323*(D/x)*((x*v0*p/mu)**0.5)*((mu/(p*D))**(1./3)))    \t# x*10**-5 cm/sec\n",
      "\t\n",
      "#Results\n",
      "print \"The dismath.tance at which turbulent flow starts is %.f cm\"%(x)\n",
      "print \"The boundary layer for flow at this point is %.1f cm\"%(delta)\n",
      "print \"The boundary layer for concentration at this point is %.2f cm\"%(deltac)\n",
      "print \"The local m.t.c at the leading edge and at the position of transistion is %.1e cm/sec\"%(k)\n"
     ],
     "language": "python",
     "metadata": {},
     "outputs": [
      {
       "output_type": "stream",
       "stream": "stdout",
       "text": [
        "The dismath.tance at which turbulent flow starts is 300 cm\n",
        "The boundary layer for flow at this point is 2.5 cm\n",
        "The boundary layer for concentration at this point is 0.25 cm\n",
        "The local m.t.c at the leading edge and at the position of transistion is 5.9e-05 cm/sec\n"
       ]
      }
     ],
     "prompt_number": 7
    }
   ],
   "metadata": {}
  }
 ]
}