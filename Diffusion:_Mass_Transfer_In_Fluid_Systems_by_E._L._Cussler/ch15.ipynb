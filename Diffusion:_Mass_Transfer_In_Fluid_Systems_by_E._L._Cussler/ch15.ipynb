{
 "metadata": {
  "name": "",
  "signature": "sha256:e7844fd29e61e44a32fcf2d944211052a5451b3c15cdfd580105fb20e51952a3"
 },
 "nbformat": 3,
 "nbformat_minor": 0,
 "worksheets": [
  {
   "cells": [
    {
     "cell_type": "heading",
     "level": 1,
     "metadata": {},
     "source": [
      "Chapter 15 : Adsorption"
     ]
    },
    {
     "cell_type": "heading",
     "level": 2,
     "metadata": {},
     "source": [
      "Example 15.3.2 pg : 438"
     ]
    },
    {
     "cell_type": "code",
     "collapsed": false,
     "input": [
      "\n",
      "import math \n",
      "\t\n",
      "#initialization of variables\n",
      "tE = 33. \t# Time taken for ferric ion to exhaust the bed in min\n",
      "tB = 23. \t# Time taken for nickel to break through ferric in min\n",
      "l = 120. \t#bed length in cm\n",
      "\t\n",
      "#Calculations\n",
      "Theta = round(2*tB/(tB+tE),1)\n",
      "lunused = (1-Theta)*120 \t# cm\n",
      "\t\n",
      "#Results\n",
      "print \"the length of the bed unused is %.1f cm\"%(lunused)\n"
     ],
     "language": "python",
     "metadata": {},
     "outputs": [
      {
       "output_type": "stream",
       "stream": "stdout",
       "text": [
        "the length of the bed unused is 24.0 cm\n"
       ]
      }
     ],
     "prompt_number": 4
    },
    {
     "cell_type": "heading",
     "level": 2,
     "metadata": {},
     "source": [
      "Example 15.3.3 pg : 438"
     ]
    },
    {
     "cell_type": "code",
     "collapsed": false,
     "input": [
      "\n",
      "import math \n",
      "\t\n",
      "#initialization of variables\n",
      "tB = 10. \t# min\n",
      "tE = 14. \t# min\n",
      "l = 0.12 \t#m\n",
      "l2 = 10. \t# m\n",
      "c = 10000.\n",
      "A = 1/10000. \t# m**2\n",
      "\t\n",
      "#Calculations\n",
      "theta = 2*tB/(tB+tE)\n",
      "l1 = l*(1-theta)\t# m , length of bed unused in first case\n",
      "V1 = c*A*l \t# m**3\n",
      "l3 = l2-l1 \t# length of bed unused in second case\n",
      "d = math.sqrt(V1*4/(l3*math.pi))\t# m\n",
      "V2 = c*(l-l1)*A*l2/l3 \t# volume needed for second case\n",
      "\t\n",
      "#Results\n",
      "print \"The volume of adsorbent needed if the bed is kept 12 cm deep is %.2f m**3\"%(V1)\n",
      "print \"The volume of adsorbent needed if the bed length is 10 m long is %.4f m**3\"%(V2)\n"
     ],
     "language": "python",
     "metadata": {},
     "outputs": [
      {
       "output_type": "stream",
       "stream": "stdout",
       "text": [
        "The volume of adsorbent needed if the bed is kept 12 cm deep is 0.12 m**3\n",
        "The volume of adsorbent needed if the bed length is 10 m long is 0.1002 m**3\n"
       ]
      }
     ],
     "prompt_number": 5
    },
    {
     "cell_type": "heading",
     "level": 2,
     "metadata": {},
     "source": [
      "Example 15.4.1 pg : 441"
     ]
    },
    {
     "cell_type": "code",
     "collapsed": false,
     "input": [
      "\n",
      "#intialization of variables\n",
      "tB1 = 38. \t# days , breakthrough time\n",
      "tE1 = 46. \t# days, exhaustion time\n",
      "c = 2.  \t# number of times flow doubled\n",
      "\t\n",
      "#Calculations\n",
      "theta1 = 2*tB1/(tB1+tE1)\t# in the first case\n",
      "ratio1 = 1-theta1 \t# ratio of unused bed length to total bed length\n",
      "ratio2 = ratio1*c\n",
      "tB2 = ((1/c)*(tB1 + 0.5*(tE1-tB1)))*ratio2\t#breakthrough time for second case\n",
      "tE2 = (c-ratio2)*tB2/ratio2\t#exhaustion time for second case\n",
      "\t\n",
      "#Results\n",
      "print \"The breakthrough time for this case is %.1f days\"%(tB2)\n",
      "\n",
      "# answer slightly wrong in textbook"
     ],
     "language": "python",
     "metadata": {},
     "outputs": [
      {
       "output_type": "stream",
       "stream": "stdout",
       "text": [
        "The breakthrough time for this case is 4.0 days\n"
       ]
      }
     ],
     "prompt_number": 7
    },
    {
     "cell_type": "heading",
     "level": 2,
     "metadata": {},
     "source": [
      "Example 15.4.2 pg : 442"
     ]
    },
    {
     "cell_type": "code",
     "collapsed": false,
     "input": [
      "\n",
      "import math \n",
      "\t\n",
      "#initialization of variables\n",
      "slope = 0.93/3600 \t# sec**-1\n",
      "q0 = 300.        \t# 300 times y0 \n",
      "E = 0.4 \t        # void fraction\n",
      "d = 310.*10**-4 \t#cm\n",
      "v = 1/60.        \t#cm/sec\n",
      "Nu = 0.01       \t#cm**2/sec\n",
      "D = 5.*10**-6 \t        #cm**2/sec\n",
      "\t\n",
      "#Calculations\n",
      "ka1 = slope*q0*(1-E)\t#sec**-1\n",
      "k = (D/d)*1.17*((d*v/Nu)**0.58)*((Nu/D)**0.33)\t# cm/sec\n",
      "a = (6/d)*(1-E)\t#cm**2/cm**3\n",
      "ka2 = k*a\t#sec**-1\n",
      "\t\n",
      "#Results\n",
      "print \"The rate constant is %.3f sec**-1\"%(ka1)\n",
      "print \"The rate constant of literature is %.3f sec**-1\"%(ka2)\n"
     ],
     "language": "python",
     "metadata": {},
     "outputs": [
      {
       "output_type": "stream",
       "stream": "stdout",
       "text": [
        "The rate constant is 0.046 sec**-1\n",
        "The rate constant of literature is 0.048 sec**-1\n"
       ]
      }
     ],
     "prompt_number": 8
    }
   ],
   "metadata": {}
  }
 ]
}