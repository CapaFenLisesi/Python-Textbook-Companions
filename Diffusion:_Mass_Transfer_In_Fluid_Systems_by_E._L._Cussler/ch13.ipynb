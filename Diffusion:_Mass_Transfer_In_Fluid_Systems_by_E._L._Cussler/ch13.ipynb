{
 "metadata": {
  "name": "",
  "signature": "sha256:0a5d15ca018c85379ffbc29d9c22b06e9af57ae094acbb25dfd531a8027cda7c"
 },
 "nbformat": 3,
 "nbformat_minor": 0,
 "worksheets": [
  {
   "cells": [
    {
     "cell_type": "heading",
     "level": 1,
     "metadata": {},
     "source": [
      "Chapter 13 : Staged Distillation"
     ]
    },
    {
     "cell_type": "heading",
     "level": 2,
     "metadata": {},
     "source": [
      "Example 13.1.1 pg : 378"
     ]
    },
    {
     "cell_type": "code",
     "collapsed": false,
     "input": [
      "\n",
      "import math \n",
      "\n",
      "#Intialization of variables\n",
      "xD = 0.90 \t# Distillate mole fraction\n",
      "xB = 0.15\t# Reboiler mole fraction\n",
      "xF = 0.50 \t#Feed mole fraction\n",
      "F = 10. \t# mol/sec\n",
      "dg = 3.1*10**-3 \t# g/cc\n",
      "dl = 0.65 \t# g/cc\n",
      "C = 0.11 \t# m/sec\n",
      "\n",
      "#Calculations\n",
      "D = ((xF*F)-(xB*F))/(xD-xB)\n",
      "B = ((xF*F)-(xD*F))/(xB-xD)\n",
      "L = 3.5*D\n",
      "G = L+D\n",
      "L1 = L+F\n",
      "G1 = G\n",
      "f = (L1/G1)*(math.sqrt(dg/dl)) \t# flow parameter\n",
      "vG = C*(math.sqrt((dl-dg)/dg))\t#vapor velocity in m/sec\n",
      "c = (22.4*10**-3)*340/373\n",
      "d = math.sqrt(4*G1*c/(vG*math.pi))\t#m\n",
      "\n",
      "#Results\n",
      "print \"The column diameter is %.1f m\"%(d)\n",
      "\n",
      "#Calculation mistake in textbook\n",
      "\n",
      "\n"
     ],
     "language": "python",
     "metadata": {},
     "outputs": [
      {
       "output_type": "stream",
       "stream": "stdout",
       "text": [
        "The column diameter is 0.6 m\n"
       ]
      }
     ],
     "prompt_number": 1
    },
    {
     "cell_type": "heading",
     "level": 2,
     "metadata": {},
     "source": [
      "Example 13.2.1 pg : 383"
     ]
    },
    {
     "cell_type": "code",
     "collapsed": false,
     "input": [
      "\n",
      "import math \n",
      "\n",
      "\t\n",
      "#initialization of variables\n",
      "y1 = 0.9999\n",
      "x0 = y1 \t# For a total condenser\n",
      "y0 =0.58 + 0.42*x0 \t# The equilbirum line\n",
      "LbyG = 0.75\n",
      "yNplus1 = 0.99\n",
      "A = LbyG/0.42\n",
      "n= 1\n",
      "\t\n",
      "#Calculations\n",
      "xN = (yNplus1-((1-LbyG)*y1))/LbyG\n",
      "yN = 0.58 + 0.42*xN\n",
      "N = (math.log((yNplus1-yN)/(y1-y0))/math.log(A))+n\t#, number of stages\n",
      "\t\n",
      "#Results\n",
      "print \"the number of stages approximately is %.f\"%(N)\n"
     ],
     "language": "python",
     "metadata": {},
     "outputs": [
      {
       "output_type": "stream",
       "stream": "stdout",
       "text": [
        "the number of stages approximately is 8\n"
       ]
      }
     ],
     "prompt_number": 2
    },
    {
     "cell_type": "heading",
     "level": 2,
     "metadata": {},
     "source": [
      "Example 13.2.2 pg :384"
     ]
    },
    {
     "cell_type": "code",
     "collapsed": false,
     "input": [
      "\n",
      "import math \n",
      "\t\n",
      "#initialization of variables\n",
      "x0 = 0.0082\n",
      "xB = 10.**-4\n",
      "L = 1.\n",
      "\t\n",
      "#Calculations\n",
      "y0 = 36*x0\n",
      "#There are two balancing equations , mole fraction balance , mole balance , from them G is \n",
      "G0 = (xB-x0)*L/(xB-y0)\n",
      "G = 3*G0\n",
      "B = L-G\n",
      "y1 = ((L*x0)-(B*xB))/G\n",
      "yNplus1 = 36*xB\n",
      "xN = (L*x0 - (G*(y1-yNplus1)))/L\n",
      "yN = 36*xN\n",
      "N = (math.log((yNplus1-yN)/(y1-y0)))/math.log((yNplus1-y1)/(yN-y0))\n",
      "\t\n",
      "#Results\n",
      "print \"The number of stages are %.1f\"%(N)\n",
      "\n",
      "#Answer wrong in textbook\n",
      "\n"
     ],
     "language": "python",
     "metadata": {},
     "outputs": [
      {
       "output_type": "stream",
       "stream": "stdout",
       "text": [
        "The number of stages are 2.7\n"
       ]
      }
     ],
     "prompt_number": 4
    },
    {
     "cell_type": "heading",
     "level": 2,
     "metadata": {},
     "source": [
      "Example 13.4.1 pg : 397"
     ]
    },
    {
     "cell_type": "code",
     "collapsed": false,
     "input": [
      "\n",
      "import math \n",
      "\t\n",
      "#initialization of variables\n",
      "yn = 0.84\n",
      "ynplus1 = 0.76\n",
      "ystarn = 0.874\n",
      "GA = 0.14 \t# kg-mol/sec\n",
      "Al = 0.04 \t# m**3\n",
      "\t\n",
      "#Calculations\n",
      "Murphree = (yn-ynplus1)/(ystarn-ynplus1)\n",
      "Kya = GA/(Al*((1/Murphree)-1))\n",
      "\t\n",
      "#Results\n",
      "print \"the murphree efficiency is %.2f\"%(Murphree)\n",
      "print \" the m.t.c along with the product with a is %.1f kg-mol/m**3-sec\"%(Kya)\n"
     ],
     "language": "python",
     "metadata": {},
     "outputs": [
      {
       "output_type": "stream",
       "stream": "stdout",
       "text": [
        "the murphree efficiency is 0.70\n",
        " the m.t.c along with the product with a is 8.2 kg-mol/m**3-sec\n"
       ]
      }
     ],
     "prompt_number": 6
    },
    {
     "cell_type": "heading",
     "level": 2,
     "metadata": {},
     "source": [
      "Example 13.4.2 pg : 398"
     ]
    },
    {
     "cell_type": "code",
     "collapsed": false,
     "input": [
      "\n",
      "import math \n",
      "\t\n",
      "#initialization of variables\n",
      "R = 82. \t# atm-cm**3/gmol-K\n",
      "T = 273. + 60 \t# Kelvin\n",
      "pk = 1. \t# atm\n",
      "a1 = 440. \t# sec**-1 (of gas)\n",
      "a2 = 1.7 \t#sec**-1 (of liquid)\n",
      "ck = 1.5/((0.47*(76.1))+(0.53*(158.7)))\n",
      "x = 0.2\n",
      "Vs = 10. \t# litres\n",
      "GA = 59. \t# gmol/sec\n",
      "m = 1.41\n",
      "\t\n",
      "#Calculations\n",
      "k = (R*T)/(pk*a1) + (m/(ck*a2))\n",
      "Kya = (1./k)*1000 \t# gmol/l-sec\n",
      "Murphree = 1 - math.exp(-Kya*Vs/(GA))\n",
      "\t\n",
      "#Results\n",
      "print \"The murphree efficiency is %.2f\"%(Murphree)\n"
     ],
     "language": "python",
     "metadata": {},
     "outputs": [
      {
       "output_type": "stream",
       "stream": "stdout",
       "text": [
        "The murphree efficiency is 0.73\n"
       ]
      }
     ],
     "prompt_number": 7
    }
   ],
   "metadata": {}
  }
 ]
}