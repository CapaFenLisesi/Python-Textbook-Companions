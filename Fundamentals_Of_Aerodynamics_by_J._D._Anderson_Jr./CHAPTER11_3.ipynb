{
 "cells": [
  {
   "cell_type": "markdown",
   "metadata": {},
   "source": [
    "# CHAPTER11:SUBSONIC COMPRESSIBLE FLOW OVER AIRFOILS LINEAR THEOREY"
   ]
  },
  {
   "cell_type": "markdown",
   "metadata": {},
   "source": [
    "## Example E01 : Pg 382"
   ]
  },
  {
   "cell_type": "code",
   "execution_count": 1,
   "metadata": {
    "collapsed": false
   },
   "outputs": [
    {
     "name": "stdout",
     "output_type": "stream",
     "text": [
      "(a)The Cp after compressibility corrections is: -0.375 Cp\n"
     ]
    }
   ],
   "source": [
    "# All the quantities are expressed in SI units\n",
    "import math \n",
    "Cp_incompressible = -0.3;                    # Cp for incompressible flow\n",
    "M = 0.6;                                     # Mach number\n",
    "# Thus from eq.(11.52)\n",
    "Cp_compressible = Cp_incompressible/math.sqrt(1-M**2);\n",
    "print\"(a)The Cp after compressibility corrections is:\",Cp_compressible,\"Cp\""
   ]
  },
  {
   "cell_type": "markdown",
   "metadata": {},
   "source": [
    "## Example E02 : Pg 383"
   ]
  },
  {
   "cell_type": "code",
   "execution_count": 1,
   "metadata": {
    "collapsed": false
   },
   "outputs": [
    {
     "name": "stdout",
     "output_type": "stream",
     "text": [
      "(a)The cl after compressibility corrections is: cl = 8.7982192499 alpha\n"
     ]
    }
   ],
   "source": [
    "# All the quantities are expressed in SI units\n",
    "import math \n",
    "cl_incompressible = 2*math.pi;                    # lift curve slope\n",
    "M_inf = 0.7;                                  # Mach number\n",
    "# from eq.(11.52)\n",
    "cl_compressible = cl_incompressible/math.sqrt(1-M_inf**2);        # compressible lift curve slope\n",
    "print\"(a)The cl after compressibility corrections is: cl =\",cl_compressible,\"alpha\""
   ]
  }
 ],
 "metadata": {
  "anaconda-cloud": {},
  "kernelspec": {
   "display_name": "Python [Root]",
   "language": "python",
   "name": "Python [Root]"
  },
  "language_info": {
   "codemirror_mode": {
    "name": "ipython",
    "version": 2
   },
   "file_extension": ".py",
   "mimetype": "text/x-python",
   "name": "python",
   "nbconvert_exporter": "python",
   "pygments_lexer": "ipython2",
   "version": "2.7.12"
  }
 },
 "nbformat": 4,
 "nbformat_minor": 0
}
