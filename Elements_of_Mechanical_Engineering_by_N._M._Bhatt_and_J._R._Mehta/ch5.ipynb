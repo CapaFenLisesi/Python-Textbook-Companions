{
 "metadata": {
  "name": "",
  "signature": "sha256:7da1949891147ff304647e6b26339aefc0967b49ac6c364d6dfbaaf34a273512"
 },
 "nbformat": 3,
 "nbformat_minor": 0,
 "worksheets": [
  {
   "cells": [
    {
     "cell_type": "heading",
     "level": 1,
     "metadata": {},
     "source": [
      "Chapter 5 : Steam Boilers"
     ]
    },
    {
     "cell_type": "heading",
     "level": 2,
     "metadata": {},
     "source": [
      "Example 5.1 pg : 45"
     ]
    },
    {
     "cell_type": "code",
     "collapsed": false,
     "input": [
      "\n",
      "# Variables\n",
      "Mf = 1300.;                #in kg\n",
      "Ma = 13000.;               #in kg\n",
      "P = 7.;                    #in bar\n",
      "Cpw = 4.187;              #in kJ/kg K\n",
      "CV = 30000.;               #in kJ/kg\n",
      "x = 0.95;                 #Dryness Fraction\n",
      "Tfw = 40.;                 #in C\n",
      "\n",
      "Hfw = Tfw*Cpw;\n",
      "\n",
      "#At 7 bar\n",
      "Hf = 697.2;               #in kJ/kg\n",
      "Hfg = 2066.3;             #in kJ/kg\n",
      "\n",
      "# Calculations and Results\n",
      "H = Hf+(x*Hfg);\n",
      "Ms = Ma/Mf;\n",
      "\n",
      "Me = (Ms*(H-Hfw))/(2257);\n",
      "print 'Equivalent evaporation: %3.2f kg/kg of coal'%(Me);\n",
      "\n",
      "\n",
      "Eff = 100*(Ma*(H-Hfw))/(Mf*CV);\n",
      "print 'Boiler Efficiency: %3.1f Percent'%(Eff);\n",
      "\n"
     ],
     "language": "python",
     "metadata": {},
     "outputs": [
      {
       "output_type": "stream",
       "stream": "stdout",
       "text": [
        "Equivalent evaporation: 11.04 kg/kg of coal\n",
        "Boiler Efficiency: 83.1 Percent\n"
       ]
      }
     ],
     "prompt_number": 1
    },
    {
     "cell_type": "heading",
     "level": 2,
     "metadata": {},
     "source": [
      "Example 5.2 pg : 46"
     ]
    },
    {
     "cell_type": "code",
     "collapsed": false,
     "input": [
      "\n",
      "# Variables\n",
      "Ma = 5400.;                #in kg/hr\n",
      "Tfw = 42.;                 #in C\n",
      "P = 7.6;                  #in bar\n",
      "Mf = 670.;                 #in kg/hr\n",
      "x = 0.98;                 #Dryness Fraction\n",
      "CV = 31000.;               #kJ/kg\n",
      "Ms = Ma/Mf;\n",
      "Hf = 175.81;              #in kJ/kg\n",
      "Hfw = Hf;\n",
      "\n",
      "#Now at 7.6 bar pressure\n",
      "Hf = 711.8;               #in kJ/kg\n",
      "Hfg = 2055.2;             #in kJ/kg\n",
      "\n",
      "# Calculations and Results\n",
      "H = Hf+(x*Hfg);\n",
      "Eff = 100*(Ma*(H-Hfw))/(Mf*CV);\n",
      "print 'Boiler Efficiency %3.1f percent'%(Eff);\n",
      "\n",
      "\n",
      "Me = (Ms*(H-Hfw))/(2257);\n",
      "print 'Equivalent evaporation: %3.2f kg/kg of coal'%(Me);\n",
      "\n"
     ],
     "language": "python",
     "metadata": {},
     "outputs": [
      {
       "output_type": "stream",
       "stream": "stdout",
       "text": [
        "Boiler Efficiency 66.3 percent\n",
        "Equivalent evaporation: 9.11 kg/kg of coal\n"
       ]
      }
     ],
     "prompt_number": 2
    },
    {
     "cell_type": "heading",
     "level": 2,
     "metadata": {},
     "source": [
      "Example 5.3 pg : 47"
     ]
    },
    {
     "cell_type": "code",
     "collapsed": false,
     "input": [
      "\n",
      "# Variables\n",
      "P = 12;                   #in bar\n",
      "CV = 34000;               #in kJ/kg\n",
      "T = 250;                  #in C\n",
      "Ms = 10;                  #in kg/kg of coal\n",
      "Tfw = 36;                 #in C\n",
      "Hfw = 150.74;             #in kJ/kg\n",
      "Hg = 2784.8;              #in kJ/kg\n",
      "Tsup = T;\n",
      "Tsat = 188;               #in C\n",
      "Cps = 2.1;                #in kJ/kg K\n",
      "H = Hg+(Cps*(Tsup-Tsat));\n",
      "\n",
      "# Calculations and Results\n",
      "Me = (Ms*(H-Hfw))/2257;\n",
      "print 'Equivalent evaporation: %3.2f kg/kg of coal'%(Me);\n",
      "\n",
      "\n",
      "Eff = (Me*250)/21.296;\n",
      "print 'Boiler Power: %3.2f kW'%(Eff);\n",
      "\n",
      "# rounding off error."
     ],
     "language": "python",
     "metadata": {},
     "outputs": [
      {
       "output_type": "stream",
       "stream": "stdout",
       "text": [
        "Equivalent evaporation: 12.25 kg/kg of coal\n",
        "Boiler Power: 143.78 kW\n"
       ]
      }
     ],
     "prompt_number": 4
    },
    {
     "cell_type": "heading",
     "level": 2,
     "metadata": {},
     "source": [
      "Example 5.4 pg : 48"
     ]
    },
    {
     "cell_type": "code",
     "collapsed": false,
     "input": [
      "\n",
      "# Variables\n",
      "Ma = 35500;           #kg of steam\n",
      "Mf = 3460;\n",
      "CV = 39500;\n",
      "Ms = Ma/Mf;\n",
      "\n",
      "\n",
      "Hfw2 = 313.9;             #in kJ/kg\n",
      "Hfw1 = 71.4;              #in kJ/kg\n",
      "\n",
      "Q = Ma*(Hfw2-Hfw1);           #Heat added in economizer\n",
      "H = 2915.0;           #in kJ/kg\n",
      "\n",
      "# Calculations and Results\n",
      "Me = (Ms*(H-Hfw2))/2257;\n",
      "print 'Equivalent evaporation: %3.2f kg/kg of Oil'%(Me);\n",
      "\n",
      "\n",
      "Eff1 = (Ma*100*(H-Hfw2))/(Mf*CV);\n",
      "print 'Thermal Efficiency of boiler: %3.1f Percent'%(Eff1);\n",
      "\n",
      "\n",
      "Eff2 = (Ma*100*(H-Hfw1))/(Mf*CV);\n",
      "print 'Thermal Efficiency of Boiler plant: %3.1f Percent'%(Eff2);\n",
      "\n",
      "\n",
      "HU = 860875000/(Mf*CV);\n",
      "print 'Heat Utilized by Economizer: %3.1f Percent'%(HU);\n",
      "\n",
      "# rounding off error."
     ],
     "language": "python",
     "metadata": {},
     "outputs": [
      {
       "output_type": "stream",
       "stream": "stdout",
       "text": [
        "Equivalent evaporation: 11.52 kg/kg of Oil\n",
        "Thermal Efficiency of boiler: 67.6 Percent\n",
        "Thermal Efficiency of Boiler plant: 73.9 Percent\n",
        "Heat Utilized by Economizer: 6.0 Percent\n"
       ]
      }
     ],
     "prompt_number": 6
    },
    {
     "cell_type": "heading",
     "level": 2,
     "metadata": {},
     "source": [
      "Example 5.5 pg : 49"
     ]
    },
    {
     "cell_type": "code",
     "collapsed": false,
     "input": [
      "\n",
      "# Variables\n",
      "Ma = 10000;           #in kg/hr\n",
      "P = 7;                #in bar\n",
      "\n",
      "Tfw = 40;             #in C\n",
      "Hfw = 167.6;          #in kJ/kg\n",
      "H = 2763.5;           #in kJ/kg\n",
      "\n",
      "# Calculations and Results\n",
      "Q = Ma*(H-Hfw)/60;            #Heat per minute\n",
      "SA = Q/2720;                  #Heating surface area required\n",
      "print 'Heating surface area required: %3.1f m**2'%(SA);\n",
      "\n",
      "\n",
      "GA = SA/25;\n",
      "print 'Grate area required: %3.1f m**2'%(GA);\n",
      "\n"
     ],
     "language": "python",
     "metadata": {},
     "outputs": [
      {
       "output_type": "stream",
       "stream": "stdout",
       "text": [
        "Heating surface area required: 159.1 m**2\n",
        "Grate area required: 6.4 m**2\n"
       ]
      }
     ],
     "prompt_number": 7
    },
    {
     "cell_type": "heading",
     "level": 2,
     "metadata": {},
     "source": [
      "Example 5.6 pg : 50"
     ]
    },
    {
     "cell_type": "code",
     "collapsed": false,
     "input": [
      "\n",
      "# Variables\n",
      "Ma = 2400;            #in kg\n",
      "Mf = 240;             #in kg\n",
      "P = 12;               #in bar\n",
      "CV = 33500;           #in kJ/kg\n",
      "Tfw = 120;            #in C\n",
      "Cpw = 4.187;\n",
      "Hfw = Cpw*Tfw;\n",
      "H = 2784.8;           #in kJ/kg\n",
      "Mfa = Mf-(0.1*Mf);\n",
      "\n",
      "# Calculations and Results\n",
      "Eff = (Ma*100*(H-Hfw))/(Mfa*CV);\n",
      "print 'Thermal Efficiency: %3.1f percent'%(Eff);\n",
      "\n",
      "\n",
      "Eff1 = (Ma*100*(H-Hfw))/(Mf*CV);\n",
      "print 'Thermal Efficiency of boiler and grate: %3.1f percent'%(Eff1);\n",
      "\n"
     ],
     "language": "python",
     "metadata": {},
     "outputs": [
      {
       "output_type": "stream",
       "stream": "stdout",
       "text": [
        "Thermal Efficiency: 75.7 percent\n",
        "Thermal Efficiency of boiler and grate: 68.1 percent\n"
       ]
      }
     ],
     "prompt_number": 9
    },
    {
     "cell_type": "heading",
     "level": 2,
     "metadata": {},
     "source": [
      "Example 5.7 pg : 50"
     ]
    },
    {
     "cell_type": "code",
     "collapsed": false,
     "input": [
      "\n",
      "# Variables\n",
      "Mf = 255;         #in kg\n",
      "x = 0.94;         #Dryness Fraction\n",
      "CV = 30100;       #in kJ/kg\n",
      "P = 11.5;         #in bar\n",
      "Ma = 2100;        #in kg\n",
      "Tfw = 25;         #in C\n",
      "Ms = Ma/Mf;\n",
      "\n",
      "Hfw = 104.9;          #in kJ/kg\n",
      "Hf = 790.1;           #in kJ/kg\n",
      "Hfg = 1993.2;         #in kJ/kg\n",
      "H = Hf+(x*Hfg);\n",
      "\n",
      "# Calculations and Results\n",
      "Me = (Ms*(H-Hfw))/2257;\n",
      "Eff = (Ma*100*(H-Hfw))/(Mf*CV);\n",
      "print 'Equivalent Evaporation: %3.2f kg/kg of coal '%(Me)\n",
      "print 'Thermal Efficiency: %3.1f percent'%(Eff);\n",
      "\n"
     ],
     "language": "python",
     "metadata": {},
     "outputs": [
      {
       "output_type": "stream",
       "stream": "stdout",
       "text": [
        "Equivalent Evaporation: 9.07 kg/kg of coal \n",
        "Thermal Efficiency: 70.0 percent\n"
       ]
      }
     ],
     "prompt_number": 11
    },
    {
     "cell_type": "heading",
     "level": 2,
     "metadata": {},
     "source": [
      "Example 5.8 pg : 51"
     ]
    },
    {
     "cell_type": "code",
     "collapsed": false,
     "input": [
      "\n",
      "# Variables\n",
      "Hf = 762.8;               #in kJ/kg\n",
      "Hfg = 2015.3;             #in kJ/kg\n",
      "x = 0.95;                 #Dryness Fraction\n",
      "Ma = 1000;\n",
      "Eff = 0.75;\n",
      "CV = 31000;\n",
      "\n",
      "# Calculations\n",
      "H = Hf+(x*Hfg);\n",
      "Cpw = 4.187;\n",
      "T = 50;\n",
      "\n",
      "Hfw = Cpw*T;\n",
      "Q = Ma*(H-Hfw);\n",
      "\n",
      "Mf = Q/(Eff*CV);\n",
      "y = Mf/0.9;\n",
      "\n",
      "Eff1 = (Q*100)/(y*CV);\n",
      "\n",
      "# Results\n",
      "print 'Efficiency of Boiler and grate: %3.1f percent'%(Eff1);\n",
      "\n"
     ],
     "language": "python",
     "metadata": {},
     "outputs": [
      {
       "output_type": "stream",
       "stream": "stdout",
       "text": [
        "Efficiency of Boiler and grate: 67.5 percent\n"
       ]
      }
     ],
     "prompt_number": 12
    },
    {
     "cell_type": "heading",
     "level": 2,
     "metadata": {},
     "source": [
      "Example 5.9 pg : 52"
     ]
    },
    {
     "cell_type": "code",
     "collapsed": false,
     "input": [
      "\n",
      "# Variables\n",
      "#At 10 bar\n",
      "Hg = 2778.1;              #in kJ/kg\n",
      "Cp = 2.1;                 #in kJ/kg K\n",
      "T = 50;\n",
      "CV = 30000;           #in kJ/kg\n",
      "\n",
      "# Calculations and Results\n",
      "H = Hg+(Cp*T);\n",
      "C = 4.187;\n",
      "Tf = 30;\n",
      "Hfw = C*Tf;\n",
      "\n",
      "Ms = 800./100;\n",
      "\n",
      "Me = (Ms*(H-Hfw))/2257;\n",
      "print 'Equivalent Evaporation: %3.2f kg/kg of coal'%(Me);\n",
      "\n",
      "\n",
      "Eff = (Ms*100*(H-Hfw))/CV;\n",
      "print 'Efficiency of Boiler and grate: %3.1f percent'%(Eff);\n",
      "\n"
     ],
     "language": "python",
     "metadata": {},
     "outputs": [
      {
       "output_type": "stream",
       "stream": "stdout",
       "text": [
        "Equivalent Evaporation: 9.77 kg/kg of coal\n",
        "Efficiency of Boiler and grate: 73.5 percent\n"
       ]
      }
     ],
     "prompt_number": 13
    },
    {
     "cell_type": "heading",
     "level": 2,
     "metadata": {},
     "source": [
      "Example 5.10 pg : 53"
     ]
    },
    {
     "cell_type": "code",
     "collapsed": false,
     "input": [
      "\n",
      "# Variables\n",
      "#At 10 bar pressure\n",
      "Tsat = 179.9;\n",
      "Tsup = 250;\n",
      "Cps = 2.1;                #in kJ/kg K\n",
      "\n",
      "Hg = 2778.1;              #in kJ/kg\n",
      "Ms = 10;                  #in kg/kg of coal\n",
      "Hsup = Hg+(Cps*(Tsup-Tsat));\n",
      "\n",
      "Hfw = 155;\n",
      "Me = (Ms*(Hsup-Hfw))/2257;\n",
      "\n",
      "# Calculations\n",
      "FOE = Me/Ms;          #Factor of Evaporation\n",
      "BP = (Me*370)/21.296;\n",
      "\n",
      "# Results\n",
      "print 'Equivalent Evaporation: %3.1f kg/kg of coal'%(Me);\n",
      "print 'Boiler Power: %3.1f kW'%(BP);\n",
      "\n"
     ],
     "language": "python",
     "metadata": {},
     "outputs": [
      {
       "output_type": "stream",
       "stream": "stdout",
       "text": [
        "Equivalent Evaporation: 12.3 kg/kg of coal\n",
        "Boiler Power: 213.3 kW\n"
       ]
      }
     ],
     "prompt_number": 14
    },
    {
     "cell_type": "heading",
     "level": 2,
     "metadata": {},
     "source": [
      "Example 5.11 pg: 53"
     ]
    },
    {
     "cell_type": "code",
     "collapsed": false,
     "input": [
      "\n",
      "# Variables\n",
      "Ma = 1100;            #in kg/hr\n",
      "CV = 33000;               #in kJ/kg\n",
      "Tfw = 46;             #in C\n",
      "P = 10;           #in bar\n",
      "x = 0.9;          #Dryness Fraction\n",
      "Eff = 0.81;           #Efficiency\n",
      "\n",
      "# Calculations\n",
      "Hf = 762.8;\n",
      "Hfg = 2015.3;\n",
      "H = Hf+(x*Hfg);\n",
      "Hfw = 192.6;\n",
      "\n",
      "Mf = (Ma*(H-Hfw))/(CV*Eff);\n",
      "\n",
      "# Results\n",
      "print 'Amount of Coal Consumed per hour: %3.1f kg'%(Mf);\n",
      "\n"
     ],
     "language": "python",
     "metadata": {},
     "outputs": [
      {
       "output_type": "stream",
       "stream": "stdout",
       "text": [
        "Amount of Coal Consumed per hour: 98.1 kg\n"
       ]
      }
     ],
     "prompt_number": 15
    },
    {
     "cell_type": "heading",
     "level": 2,
     "metadata": {},
     "source": [
      "Example 5.12 pg : 54"
     ]
    },
    {
     "cell_type": "code",
     "collapsed": false,
     "input": [
      "\n",
      "# Variables\n",
      "Ms = 7.3;             #kg/kg of fuel\n",
      "Tfw = 46;             #in C\n",
      "P = 10;               #in bar\n",
      "FOE = 1.17;           #Factor of Evaporation\n",
      "Eff = 0.79;\n",
      "\n",
      "# Calculations and Results\n",
      "Me = FOE*Ms;\n",
      "print 'Equivalent Evaporation: %3.2f kg/kg of coal'%(Me);\n",
      "\n",
      "\n",
      "Hfw = 192.6;              #in kJ/kg\n",
      "Hg = 2778.1;              #in kJ/kg\n",
      "Tsat = 179.9;             #in C\n",
      "Cps = 2.1;                #in kJ/kg K\n",
      "H = (2257*FOE)+Hfw;\n",
      "Tsup = ((H-Hg)/Cps)+Tsat;\n",
      "print 'Temperature of Superheated Steam: %3.1f C'%(Tsup);\n",
      "\n",
      "\n",
      "CV = (Ms*(H-Hfw))/Eff;\n",
      "print 'Calorific Value: %3.1f kJ/kg'%(CV);\n",
      "\n"
     ],
     "language": "python",
     "metadata": {},
     "outputs": [
      {
       "output_type": "stream",
       "stream": "stdout",
       "text": [
        "Equivalent Evaporation: 8.54 kg/kg of coal\n",
        "Temperature of Superheated Steam: 206.2 C\n",
        "Calorific Value: 24401.3 kJ/kg\n"
       ]
      }
     ],
     "prompt_number": 16
    },
    {
     "cell_type": "heading",
     "level": 2,
     "metadata": {},
     "source": [
      "Example 5.13 pg : 54"
     ]
    },
    {
     "cell_type": "code",
     "collapsed": false,
     "input": [
      "\n",
      "# Variables\n",
      "Ma = 18000;           #in kg/hr\n",
      "P = 10;               #in bar\n",
      "x = 0.97;             #Dryness Fraction\n",
      "Tfw = 40;             #in C\n",
      "Mf = 2050;            #in kg/hr\n",
      "CV = 28000;           #kJ/kg\n",
      "\n",
      "#At 10 bar\n",
      "Hf1 = 762.8;\n",
      "Hfg1 = 2015.3;\n",
      "H = Hf1+(x*Hfg1);\n",
      "Hfw = 167.6;\n",
      "\n",
      "# Calculations and Results\n",
      "Eff = (Ma*100*(H-Hfw))/(Mf*CV);\n",
      "print 'Boiler efficiency: %3.2f Percent'%(Eff);\n",
      "\n",
      "EA = ((Ma/Mf)*(H-Hfw))/2257;\n",
      "print 'Equivalent Evaporation: %3.2f kg/kg of coal'%(EA);\n",
      "\n",
      "# rounding off error."
     ],
     "language": "python",
     "metadata": {},
     "outputs": [
      {
       "output_type": "stream",
       "stream": "stdout",
       "text": [
        "Boiler efficiency: 79.97 Percent\n",
        "Equivalent Evaporation: 9.04 kg/kg of coal\n"
       ]
      }
     ],
     "prompt_number": 18
    },
    {
     "cell_type": "heading",
     "level": 2,
     "metadata": {},
     "source": [
      "Example 5.14 pg : 55"
     ]
    },
    {
     "cell_type": "code",
     "collapsed": false,
     "input": [
      "\n",
      "# Variables\n",
      "Ma = 18000;           #in kg/hr\n",
      "P = 12;           #in bar\n",
      "x = 0.97;         #Dryness Fraction\n",
      "CV = 27400;       #in kJ/kg\n",
      "Mf = 2050;            #in kg>hr\n",
      "\n",
      "# Calculations and Results\n",
      "Qs = Mf*CV;\n",
      "print 'Heat Supplied per hour: %3.1f kJ/hr'%(Qs);\n",
      "\n",
      "\n",
      "#At 12 bar \n",
      "Hf = 798.6;           #in kJ/kg\n",
      "Hfg = 1986.2;         #in kJ/kg\n",
      "H1 = Hf+(x*Hfg);\n",
      "\n",
      "#At 105 C\n",
      "Hfw = 438.9;          #in kJ/kg\n",
      "Eff = (Ma*100*(H1-Hfw))/Qs;\n",
      "print 'Thermal Efficiency: %3.2f Percent'%(Eff);\n",
      "\n",
      "\n",
      "Ms = Ma/Mf;\n",
      "print 'Factor of Evaporation: %3.2f kg of steam '%(Ms);\n",
      "\n"
     ],
     "language": "python",
     "metadata": {},
     "outputs": [
      {
       "output_type": "stream",
       "stream": "stdout",
       "text": [
        "Heat Supplied per hour: 56170000.0 kJ/hr\n",
        "Thermal Efficiency: 73.27 Percent\n",
        "Factor of Evaporation: 8.00 kg of steam \n"
       ]
      }
     ],
     "prompt_number": 20
    },
    {
     "cell_type": "heading",
     "level": 2,
     "metadata": {},
     "source": [
      "Example 5.15 pg : 56"
     ]
    },
    {
     "cell_type": "code",
     "collapsed": false,
     "input": [
      "\n",
      "# Variables\n",
      "Ms = 7.5;         #kg/kg of coal\n",
      "P = 11;           #in bar\n",
      "Tf = 70;          #in C\n",
      "Eff = 0.75;       #Efficiency\n",
      "FOE = 1.15;       #Factor of Evaporation\n",
      "Cps = 2.1;        #in kJ/kg K\n",
      "Hfw = 293;        #in kJ/kg\n",
      "H = (FOE*2257)+Hfw;\n",
      "\n",
      "# Calculations and Results\n",
      "#At 11 bar\n",
      "Hg = 2781.7;      #in kJ/kg\n",
      "Tsat = 184.1;     #in C\n",
      "Tsup = ((H-Hg)/Cps)+Tsat;\n",
      "DOS = Tsup-Tsat;      #Degree of Superheat\n",
      "print 'Degree of Superheat: %3.1f C'%(DOS);\n",
      "\n",
      "\n",
      "Me = (Ms*(H-Hfw))/2257;\n",
      "print 'Equivalent evaporation: %3.2f kg/kg of coal'%(Me);\n",
      "\n",
      "\n",
      "CV = (Ms*(H-Hfw))/Eff;\n",
      "print 'Calorific value of Boiler: %3.2f kJ/kg '%(CV);\n",
      "\n"
     ],
     "language": "python",
     "metadata": {},
     "outputs": [
      {
       "output_type": "stream",
       "stream": "stdout",
       "text": [
        "Degree of Superheat: 50.9 C\n",
        "Equivalent evaporation: 8.62 kg/kg of coal\n",
        "Calorific value of Boiler: 25955.50 kJ/kg \n"
       ]
      }
     ],
     "prompt_number": 21
    },
    {
     "cell_type": "heading",
     "level": 2,
     "metadata": {},
     "source": [
      "Example 5.16 pg: 57"
     ]
    },
    {
     "cell_type": "code",
     "collapsed": false,
     "input": [
      "\n",
      "# Variables\n",
      "Ma = 17000;       #in kg/hr\n",
      "P = 14;           #in bar\n",
      "x = 0.95;         #Dryness Fraction\n",
      "Tfw = 102;            #in C\n",
      "Mf = 2050;            #in kg/hr\n",
      "CV = 27400;       #Calorific Value\n",
      "\n",
      "# Calculations and Results\n",
      "HS = Mf*CV;\n",
      "print 'Heat Supplied per hour: %3.2f kJ'%(HS);\n",
      "\n",
      "\n",
      "Hf = 830.3;           #in kJ/kg\n",
      "Hfg = 1959.7;         #in kJ/kg\n",
      "Hfw = 427.5;          #in kJ/kg\n",
      "\n",
      "H = Hf+(x*Hfg);\n",
      "Eff = (Ma*100*(H-Hfw))/(Mf*CV);\n",
      "print 'Efficiency of Boiler: %3.2f Percent'%(Eff);\n",
      "\n",
      "\n",
      "Ms = Ma/Mf;\n",
      "Me = (Ms*(H-Hfw))/2257;\n",
      "print 'Equivalent evaporation: %3.2f kg/kg of coal'%(Me);\n",
      "\n"
     ],
     "language": "python",
     "metadata": {},
     "outputs": [
      {
       "output_type": "stream",
       "stream": "stdout",
       "text": [
        "Heat Supplied per hour: 56170000.00 kJ\n",
        "Efficiency of Boiler: 68.54 Percent\n",
        "Equivalent evaporation: 8.03 kg/kg of coal\n"
       ]
      }
     ],
     "prompt_number": 22
    },
    {
     "cell_type": "heading",
     "level": 2,
     "metadata": {},
     "source": [
      "Example 5.17 pg: 58"
     ]
    },
    {
     "cell_type": "code",
     "collapsed": false,
     "input": [
      "\n",
      "# Variables\n",
      "Ma = 1800;        #kg/hr\n",
      "P = 12;           #in bar\n",
      "x = 0.97;         #Dryness Fraction\n",
      "Tfw = 105;        #in C\n",
      "Mf = 2050;        #in kg/hr\n",
      "CV = 27400;       #in kJ/kg\n",
      "\n",
      "# Calculations and Results\n",
      "Q = Mf*CV;\n",
      "print 'Heat Supplied: %3.2f kJ'%(Q);\n",
      "\n",
      "#At 12 bar pressure\n",
      "Hf = 798.6;           #in kJ/kg\n",
      "Hfg = 1986.2;         #in kJ/kg\n",
      "H = Hf+(x*Hfg);\n",
      "Hfw = 4.187*Tfw;\n",
      "\n",
      "Me = (Ma*(H-Hfw))/(2257*Mf);\n",
      "print 'Equivalent Evaporation: %3.2f kg/kg of coal'%(Me);\n",
      "\n",
      "Eff = (Ma*100*(H-Hfw))/(CV*Mf);\n",
      "print 'Efficiency of boiler: %3.2f Percent'%(Eff);\n",
      "\n"
     ],
     "language": "python",
     "metadata": {},
     "outputs": [
      {
       "output_type": "stream",
       "stream": "stdout",
       "text": [
        "Heat Supplied: 56170000.00 kJ\n",
        "Equivalent Evaporation: 0.89 kg/kg of coal\n",
        "Efficiency of boiler: 7.32 Percent\n"
       ]
      }
     ],
     "prompt_number": 23
    },
    {
     "cell_type": "heading",
     "level": 2,
     "metadata": {},
     "source": [
      "Example 5.18 pg : 59"
     ]
    },
    {
     "cell_type": "code",
     "collapsed": false,
     "input": [
      "\n",
      "# Variables\n",
      "Me = 10;   \t\t   #kg/kg\n",
      "CV = 34000.        #kJ/kg\n",
      "\n",
      "# Calculations\n",
      "x = Me*2257;\n",
      "Eff = 100*x/CV;\n",
      "\n",
      "# Results\n",
      "print 'Efficiency of Boiler: %3.2f Percent'%(Eff);\n",
      "\n"
     ],
     "language": "python",
     "metadata": {},
     "outputs": [
      {
       "output_type": "stream",
       "stream": "stdout",
       "text": [
        "Efficiency of Boiler: 66.38 Percent\n"
       ]
      }
     ],
     "prompt_number": 24
    },
    {
     "cell_type": "heading",
     "level": 2,
     "metadata": {},
     "source": [
      "Example 5.19 pg : 60"
     ]
    },
    {
     "cell_type": "code",
     "collapsed": false,
     "input": [
      "\n",
      "# Variables\n",
      "Ma = 5500;        #kg/hr\n",
      "P = 1;            #bar\n",
      "x = 0.94;         #Dryness Fraction\n",
      "Tfw = 40;         #in C\n",
      "Mf = 600;         #kg/hr\n",
      "CV = 32000;       #kJ/kg\n",
      "Hfw = Tfw*4.187;\n",
      "\n",
      "#At 1 bar pressure\n",
      "Hf = 417.5;       #kJ/kg\n",
      "Hfg = 2258;       #kJ/kg\n",
      "H = Hf+(x*Hfg);\n",
      "Ms = Ma/Mf;\n",
      "\n",
      "# Calculations and Results\n",
      "Me = (Ms*(H-Hfw))/2257;\n",
      "print 'Equivalent Evaporation: %3.3f kg/kg of coal'%(Me);\n",
      "\n",
      "Eff = (Ms*100*(H-Hfw))/CV;\n",
      "print 'Efficiency: %3.2f percent'%(Eff);\n",
      "\n",
      "# rounding off error."
     ],
     "language": "python",
     "metadata": {},
     "outputs": [
      {
       "output_type": "stream",
       "stream": "stdout",
       "text": [
        "Equivalent Evaporation: 9.461 kg/kg of coal\n",
        "Efficiency: 66.73 percent\n"
       ]
      }
     ],
     "prompt_number": 26
    }
   ],
   "metadata": {}
  }
 ]
}