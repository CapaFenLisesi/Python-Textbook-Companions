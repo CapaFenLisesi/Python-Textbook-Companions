{
 "metadata": {
  "name": "",
  "signature": "sha256:63a8f3970ffbe49d9b078bab5bbc3e79ff8dea43fdff0ed63ed5c10d237afeed"
 },
 "nbformat": 3,
 "nbformat_minor": 0,
 "worksheets": [
  {
   "cells": [
    {
     "cell_type": "heading",
     "level": 1,
     "metadata": {},
     "source": [
      "Chapter 13 : Transmission of motion and power"
     ]
    },
    {
     "cell_type": "heading",
     "level": 2,
     "metadata": {},
     "source": [
      "Example 13.1 pg : 27"
     ]
    },
    {
     "cell_type": "code",
     "collapsed": false,
     "input": [
      "\n",
      "# Variables\n",
      "N1 = 250.;\n",
      "D1 = 53.;\n",
      "D2 = 32.;\n",
      "\n",
      "# Calculations\n",
      "N2 = N1*(D1/D2);\n",
      "\n",
      "# Results\n",
      "print 'Speed of shaft: %2.2f RPM'%(N2);\n",
      "\n"
     ],
     "language": "python",
     "metadata": {},
     "outputs": [
      {
       "output_type": "stream",
       "stream": "stdout",
       "text": [
        "Speed of shaft: 414.06 RPM\n"
       ]
      }
     ],
     "prompt_number": 1
    },
    {
     "cell_type": "heading",
     "level": 2,
     "metadata": {},
     "source": [
      "Example 13.2 pg  : 27"
     ]
    },
    {
     "cell_type": "code",
     "collapsed": false,
     "input": [
      "\n",
      "# Variables\n",
      "D1 = 600.;\n",
      "D2 = 300.;\n",
      "N1 = 100.;\n",
      "VR = D1/D2;\n",
      "N2 = VR*N1;\n",
      "\n",
      "# Calculations and Results\n",
      "print 'Case One ';\n",
      "print 'Velocity Ratio =  %2.2f'%(VR);\n",
      "\n",
      "print 'Speed of driven shaft =  %2.2f RPM'%(N2);\n",
      "\n",
      "\n",
      "print 'Case Two ';\n",
      "VR = (D1+5)/(D2+5);\n",
      "N2 = VR*N1;\n",
      "print 'Velocity Ratio =  %2.2f'%(VR);\n",
      "\n",
      "print 'Speed of driven shaft =  %2.2f RPM'%(N2);\n",
      "\n",
      "\n",
      "print 'Case Three ';\n",
      "S = 4.;\n",
      "VR = ((D1+5)/(D2+5))*((100-S)/100.);\n",
      "N2 = VR*N1;\n",
      "print 'Velocity Ratio =  %2.2f'%(VR);\n",
      "\n",
      "print 'Speed of driven shaft =  %2.2f RPM'%(N2);\n",
      "\n"
     ],
     "language": "python",
     "metadata": {},
     "outputs": [
      {
       "output_type": "stream",
       "stream": "stdout",
       "text": [
        "Case One \n",
        "Velocity Ratio =  2.00\n",
        "Speed of driven shaft =  200.00 RPM\n",
        "Case Two \n",
        "Velocity Ratio =  1.98\n",
        "Speed of driven shaft =  198.36 RPM\n",
        "Case Three \n",
        "Velocity Ratio =  1.90\n",
        "Speed of driven shaft =  190.43 RPM\n"
       ]
      }
     ],
     "prompt_number": 3
    },
    {
     "cell_type": "heading",
     "level": 2,
     "metadata": {},
     "source": [
      "Example 13.3 pg : 28"
     ]
    },
    {
     "cell_type": "code",
     "collapsed": false,
     "input": [
      "\n",
      "# Variables\n",
      "D1 = 0.3;\n",
      "D2 = 0.2;\n",
      "C = 3.;\n",
      "\n",
      "# Calculations\n",
      "L1 = ((22./7)*(1./2)*(D1+D2))+(((D1+D2)**2)/(4*C))+(2*C);\n",
      "L2 = ((22./7)*(1./2)*(D1+D2))+(((D1-D2)**2)/(4*C))+(2*C);\n",
      "L = L2-L1;\n",
      "\n",
      "# Results\n",
      "print 'The belt length is to be reduced by %2.4f mm'%((-L)*1000);\n",
      "\n",
      "# note : answer is differ because of rounding off error. check."
     ],
     "language": "python",
     "metadata": {},
     "outputs": [
      {
       "output_type": "stream",
       "stream": "stdout",
       "text": [
        "The belt length is to be reduced by 20.0000 mm\n"
       ]
      }
     ],
     "prompt_number": 7
    },
    {
     "cell_type": "heading",
     "level": 2,
     "metadata": {},
     "source": [
      "Example 13.4 pg : 28"
     ]
    },
    {
     "cell_type": "code",
     "collapsed": false,
     "input": [
      "import math \n",
      "\n",
      "# Variables\n",
      "D = 1.;\n",
      "P = 5000.;\n",
      "N = 250.;\n",
      "Mew = 0.25;\n",
      "PP = 20.;\n",
      "Theta = 170*(22./7)*(1./180);\n",
      "V = ((22./7)*D*N)/60;\n",
      "\n",
      "# Calculations\n",
      "T12 = math.exp(Mew*Theta)-1;\n",
      "T2 = (P/(V*T12));\n",
      "T1 = (T12+1)*T2;\n",
      "W = T1/PP;\n",
      "\n",
      "# Results\n",
      "print 'Width of belt =  %2.2f mm'%(W);\n",
      "\n"
     ],
     "language": "python",
     "metadata": {},
     "outputs": [
      {
       "output_type": "stream",
       "stream": "stdout",
       "text": [
        "Width of belt =  36.44 mm\n"
       ]
      }
     ],
     "prompt_number": 8
    },
    {
     "cell_type": "heading",
     "level": 2,
     "metadata": {},
     "source": [
      "Example 13.5 pg : 29"
     ]
    },
    {
     "cell_type": "code",
     "collapsed": false,
     "input": [
      "\n",
      "# Variables\n",
      "N1 = 1000.;\n",
      "Z1 = 30.;\n",
      "Z2 = 45.;\n",
      "Z3 = 75.;\n",
      "\n",
      "# Calculations\n",
      "N13 = Z3/Z1;\n",
      "N3 = N1/N13;\n",
      "\n",
      "# Results\n",
      "print 'Velocity Ratio of gear train =  %2.1f '%(N13);\n",
      "print 'N3 =  %2.1f RPM'%(N3);\n",
      "\n"
     ],
     "language": "python",
     "metadata": {},
     "outputs": [
      {
       "output_type": "stream",
       "stream": "stdout",
       "text": [
        "Velocity Ratio of gear train =  2.5 \n",
        "N3 =  400.0 RPM\n"
       ]
      }
     ],
     "prompt_number": 9
    },
    {
     "cell_type": "heading",
     "level": 2,
     "metadata": {},
     "source": [
      "Example 13.6 pg : 30"
     ]
    },
    {
     "cell_type": "code",
     "collapsed": false,
     "input": [
      "\n",
      "# Variables\n",
      "Na = 600.;\n",
      "Za = 25.;\n",
      "Zb = 50.;\n",
      "Zc = 20.;\n",
      "Zd = 40.;\n",
      "\n",
      "# Calculations\n",
      "Nad = (Zb/Za)*(Zd/Zc);\n",
      "Nd = Na/Nad;\n",
      "\n",
      "# Results\n",
      "print 'Speed of Output Shaft =  %2.1f RPM'%(Nd);\n",
      "\n"
     ],
     "language": "python",
     "metadata": {},
     "outputs": [
      {
       "output_type": "stream",
       "stream": "stdout",
       "text": [
        "Speed of Output Shaft =  150.0 RPM\n"
       ]
      }
     ],
     "prompt_number": 10
    }
   ],
   "metadata": {}
  }
 ]
}