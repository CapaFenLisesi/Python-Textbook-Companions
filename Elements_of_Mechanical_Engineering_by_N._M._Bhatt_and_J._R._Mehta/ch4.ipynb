{
 "metadata": {
  "name": "",
  "signature": "sha256:8541d544efae76213afa5d4f7227e30b2c1f7aeb3853d5fb321fd7df87752cbe"
 },
 "nbformat": 3,
 "nbformat_minor": 0,
 "worksheets": [
  {
   "cells": [
    {
     "cell_type": "heading",
     "level": 1,
     "metadata": {},
     "source": [
      "Chapter 4 :  Properties of Steam"
     ]
    },
    {
     "cell_type": "heading",
     "level": 2,
     "metadata": {},
     "source": [
      "Example 4.1 pg : 20"
     ]
    },
    {
     "cell_type": "code",
     "collapsed": false,
     "input": [
      "\n",
      "# Variables\n",
      "#Case 1\n",
      "Vg = 0.132;\n",
      "SV = 0.12;        #Specific Volume\n",
      "#As SV is less than Vg, steam is wet\n",
      "\n",
      "# Calculations and Results\n",
      "x = SV/Vg;\n",
      "\n",
      "print ' For Case 1 ';\n",
      "print 'Part of wet steam: %2.2f'%(x);\n",
      "\n",
      "\n",
      "#Case 2\n",
      "T = 200;\n",
      "Tsat = 179.9;     #Satuaration Temperature\n",
      "#Steam is superheated as T > Tsat\n",
      "D_sh = T-Tsat;\n",
      "\n",
      "print ' For Case 2 ';\n",
      "print 'Degree of Superheat: %2.1f C'%(D_sh);\n",
      "\n",
      "\n",
      "#Case 3\n",
      "P = 20.;       #Pressure in bars\n",
      "Hf = 908.8;       #kJ/kg\n",
      "Hfg = 1890.7;     #kJ/kg\n",
      "Hg = 2799.5;      #kJ/kg\n",
      "H = 2650;\n",
      "\n",
      "#Steam is wet as Specific enthalpy is less than Hg\n",
      "\n",
      "x = (H-Hf)/Hfg;\n",
      "\n",
      "print ' For Case 3 ';\n",
      "print 'Part of wet steam: %2.2f'%(x);\n",
      "\n",
      "\n",
      "#Case 4\n",
      "T = 150;      #in Celcius\n",
      "SV = 0.3928;  #Specific Volume in m**3/kg\n",
      "Vg = 0.3928;  #in m**3/kg\n",
      "\n",
      "print ' For Case 4 ';\n",
      "print 'As SV = Vg , steam is dry saturated'\n",
      "\n",
      "\n",
      "#Case 5\n",
      "P = 10;       #in bars\n",
      "S = 5.697;\n",
      "Sf = 2.319;\n",
      "Sfg = 4.448;\n",
      "Sg = 6.623;\n",
      "#As Sample specific entropy is less than Sg and more than Sf, steam is wet\n",
      "\n",
      "x = (S-Sf)/Sfg;\n",
      "print ' For Case 5 ';\n",
      "print 'Part of wet steam: %2.1f'%(x);\n",
      "\n"
     ],
     "language": "python",
     "metadata": {},
     "outputs": [
      {
       "output_type": "stream",
       "stream": "stdout",
       "text": [
        " For Case 1 \n",
        "Part of wet steam: 0.91\n",
        " For Case 2 \n",
        "Degree of Superheat: 20.1 C\n",
        " For Case 3 \n",
        "Part of wet steam: 0.92\n",
        " For Case 4 \n",
        "As SV = Vg , steam is dry saturated\n",
        " For Case 5 \n",
        "Part of wet steam: 0.8\n"
       ]
      }
     ],
     "prompt_number": 1
    },
    {
     "cell_type": "heading",
     "level": 2,
     "metadata": {},
     "source": [
      "Example 4.2 pg : 21"
     ]
    },
    {
     "cell_type": "code",
     "collapsed": false,
     "input": [
      "\n",
      "# Variables\n",
      "#At 10 bar pressure\n",
      "P = 10.;       #in bars\n",
      "x = 0.8;\n",
      "Vg = 0.194;   #in kJ/kg\n",
      "\n",
      "# Calculations and Results\n",
      "W = P*100*x*Vg;\n",
      "print 'External Work Done: %3.2f kJ/kg'%(W);\n",
      "\n",
      "\n",
      "Hf = 762.8;       #in kJ/kg\n",
      "Hfg = 2015.3;     #in kJ/kg\n",
      "H = Hf+(x*Hfg);\n",
      "U = H-W;\n",
      "print 'Internal energy: %3.2f kJ/kg'%(U);\n",
      "\n",
      "\n",
      "Vf = 0.001127;        #in m**3/kg\n",
      "Uf = Hf-(P*100*Vf);\n",
      "Ux = U-Uf;\n",
      "print 'Internal Heat of Evaporation: %3.2f kJ/kg'%(Ux);\n",
      "\n",
      "\n",
      "Sf = 2.139;       #in kJ/kg K\n",
      "Sfg = 4.448;      #in kJ/kg K\n",
      "S = Sf+(x*Sfg);\n",
      "print 'Entropy of steam: %3.3f kJ/kg'%(S);\n",
      "\n"
     ],
     "language": "python",
     "metadata": {},
     "outputs": [
      {
       "output_type": "stream",
       "stream": "stdout",
       "text": [
        "External Work Done: 155.20 kJ/kg\n",
        "Internal energy: 2219.84 kJ/kg\n",
        "Internal Heat of Evaporation: 1458.17 kJ/kg\n",
        "Entropy of steam: 5.697 kJ/kg\n"
       ]
      }
     ],
     "prompt_number": 2
    },
    {
     "cell_type": "heading",
     "level": 2,
     "metadata": {},
     "source": [
      "Example 4.3 pg : 22"
     ]
    },
    {
     "cell_type": "code",
     "collapsed": false,
     "input": [
      "\n",
      "\n",
      "# Variables\n",
      "#Condition at 10 bar pressure\n",
      "#Steam is wet\n",
      "x = 0.95;\n",
      "P = 10;       #in bars\n",
      "Hf = 762.8;       #in kJ/kg\n",
      "Hfg = 2015.3;     #in kJ/kg\n",
      "\n",
      "# Calculations and Results\n",
      "H = Hf+(x*Hfg);\n",
      "print 'Enthalpy : %3.2f kJ/kg'%(H);\n",
      "\n",
      "\n",
      "#Now we calculate Work Done\n",
      "Vg = 0.194;       #in m**3/kg\n",
      "W = P*100*x*Vg;\n",
      "U = H-W;\n",
      "print 'Internal energy: %3.0f kJ/kg'%(U);\n",
      "\n"
     ],
     "language": "python",
     "metadata": {},
     "outputs": [
      {
       "output_type": "stream",
       "stream": "stdout",
       "text": [
        "Enthalpy : 2677.34 kJ/kg\n",
        "Internal energy: 2493 kJ/kg\n"
       ]
      }
     ],
     "prompt_number": 3
    },
    {
     "cell_type": "heading",
     "level": 2,
     "metadata": {},
     "source": [
      "Example 4.4 pg: 22"
     ]
    },
    {
     "cell_type": "code",
     "collapsed": false,
     "input": [
      "\n",
      "# Variables\n",
      "#Condition at pressure 15 bars\n",
      "P = 15.;       #in bars\n",
      "Hf = 844.9;   # in kJ/kg\n",
      "Hfg = 1947.3; #in kJ/kg\n",
      "Vg = 0.132;   #in m**3/kg\n",
      "x = 0.9;      #Dryness fraction\n",
      "\n",
      "# Calculations and Results\n",
      "W = P*100*x*Vg;\n",
      "print 'External Work Done: %3.2f kJ/kg'%(W);\n",
      "\n",
      "H = Hf+(x*Hfg);\n",
      "U = H-W;\n",
      "print 'Internal Energy: %3.1f kJ/kg'%(U);\n",
      "\n"
     ],
     "language": "python",
     "metadata": {},
     "outputs": [
      {
       "output_type": "stream",
       "stream": "stdout",
       "text": [
        "External Work Done: 178.20 kJ/kg\n",
        "Internal Energy: 2419.3 kJ/kg\n"
       ]
      }
     ],
     "prompt_number": 4
    },
    {
     "cell_type": "heading",
     "level": 2,
     "metadata": {},
     "source": [
      "Example 4.5 pg : 23"
     ]
    },
    {
     "cell_type": "code",
     "collapsed": false,
     "input": [
      "import math \n",
      "\n",
      "# Variables\n",
      "x = 0.9;      #Dryness Fraction\n",
      "m = 1.5;      #mass in kg\n",
      "Cps = 2.1;\n",
      "#Condition at 10 bars\n",
      "P = 10.;\n",
      "Tsat = 179.9;     #in Celcius\n",
      "T = 250.;          #in Celcius\n",
      "Hg = 2778.1;      #in kJ/kg\n",
      "Vg = 0.194;       #in m**3/kg\n",
      "Cps = 2.1;\n",
      "H1 = Hg+(Cps*(T-Tsat));\n",
      "Vsup = ((T+273)/(Tsat+273))*Vg;\n",
      "U1 = H1-(P*100*Vsup);\n",
      "Sf = 2.139;       #in kJ/kg K\n",
      "Sfg = 4.448;      #in kJ/kg K\n",
      "Sg = 6.623;       #in kJ/kg K\n",
      "S1 = Sg+(Cps*math.log((T+273)/(Tsat+273)));\n",
      "\n",
      "# Calculations and Results\n",
      "#Conditions at 2.8 bars\n",
      "P2 = 2.8;\n",
      "Hf = 551.4;       #in kJ/kg\n",
      "Hfg = 2170.7;     #in kJ/kg\n",
      "Vg = 0.646;       #in m**3/kg\n",
      "H2 = Hf+(x*Hfg);\n",
      "U2 = H2-(P2*100*x*Vg);\n",
      "Sf = 1.647;       #in kJ/kg K\n",
      "Sfg = 5.368;      #in kJ/kg K\n",
      "S2 = Sf+(x*Sfg);\n",
      "U = m*(U2-U1);\n",
      "print 'The change in internal energy: %3.1f kJ/kg'%(U);\n",
      "\n",
      "S = S2-S1;\n",
      "print 'The change in Entropy: %3.4f kJ/kg K'%(S);\n",
      "\n"
     ],
     "language": "python",
     "metadata": {},
     "outputs": [
      {
       "output_type": "stream",
       "stream": "stdout",
       "text": [
        "The change in internal energy: -538.6 kJ/kg\n",
        "The change in Entropy: -0.4470 kJ/kg K\n"
       ]
      }
     ],
     "prompt_number": 5
    },
    {
     "cell_type": "heading",
     "level": 2,
     "metadata": {},
     "source": [
      "Example 4.6 pg : 24"
     ]
    },
    {
     "cell_type": "code",
     "collapsed": false,
     "input": [
      "import math \n",
      "\n",
      "# Variables\n",
      "#Conditions at 8 bar\n",
      "P = 8.;                #Pressure in bar\n",
      "x = 0.9;              #dryness fraction\n",
      "Hf = 721.1;           #in kJ/kg\n",
      "Hfg = 2048.0;         #in kJ/kg\n",
      "Vg = 0.240;           #in m**3/kg\n",
      "H1 = Hf+(x*Hfg);\n",
      "V1 = x*Vg;\n",
      "\n",
      "# Calculations and Results\n",
      "#Enthalpy of superheated steam at 8 bar and 200 Celcius\n",
      "Hg = 2769.1;\n",
      "Cps = 2.1;\n",
      "Tsup = 200+273;           #in Celcius\n",
      "Tsat = 170.4+273;         #in Celcius\n",
      "H2 = Hg+(Cps*(Tsup-Tsat));\n",
      "V2 = (Vg*Tsup)/Tsat;\n",
      "H = H2-H1;\n",
      "print 'Heat supplied: %3.1f kJ/kg'%(H);\n",
      "\n",
      "W = P*100*(V2-V1);\n",
      "print 'Work Done: %3.3f kJ/kg'%(W);\n",
      "\n",
      "#At 8 bar\n",
      "Sf = 2.046;           #in kJ/kg K\n",
      "Sfg = 4.617;          #in kJ/kg K\n",
      "Sg = 6.663;           #in kJ/kg K\n",
      "S1 = Sf+(x*Sfg);\n",
      "S2 = Sg+(Cps*(math.log(Tsup/Tsat)));\n",
      "S = S2-S1;\n",
      "print 'The Enthalpy change during process: %3.1f kJ/kg K'%(S);\n",
      "\n"
     ],
     "language": "python",
     "metadata": {},
     "outputs": [
      {
       "output_type": "stream",
       "stream": "stdout",
       "text": [
        "Heat supplied: 267.0 kJ/kg\n",
        "Work Done: 32.017 kJ/kg\n",
        "The Enthalpy change during process: 0.6 kJ/kg K\n"
       ]
      }
     ],
     "prompt_number": 6
    },
    {
     "cell_type": "heading",
     "level": 2,
     "metadata": {},
     "source": [
      "Example 4.7 pg : 25"
     ]
    },
    {
     "cell_type": "code",
     "collapsed": false,
     "input": [
      "\n",
      "# Variables\n",
      "#Conditions at 10 bar\n",
      "P1 = 10.;              #in bars\n",
      "Hg = 2778.1;          #in kJ/kg\n",
      "Tsat = 179.9+273;     #Temperature in K\n",
      "Vg = 0.194;           #in m**3/kg\n",
      "\n",
      "# Calculations and Results\n",
      "#Conditions at 10 bar and 300 Celcius\n",
      "Cps = 2.1;\n",
      "Tsup = 300+273;\n",
      "H1 = Hg+(Cps*(Tsup-Tsat));\n",
      "V1 = Vg*(Tsup/Tsat);\n",
      "U1 = H1-(P1*100*V1);\n",
      "print 'The Internal energy: %3.1f kJ/kg'%(U1);\n",
      "\n",
      "\n",
      "#At 1.4 bar and other conditions\n",
      "P2 = 1.4;             #in bars\n",
      "x = 0.8;              #Dryness Fraction\n",
      "Hf = 458.4;           #in kJ/kg\n",
      "Hfg = 2232.0;         #in kJ/kg\n",
      "Vg = 1.237;           #in m**3/kg\n",
      "H2 = Hf+(x*Hfg);\n",
      "V2 = x*Vg;\n",
      "U2 = H2-(P2*100*V2);\n",
      "U = U2-U1;\n",
      "print 'The change in internal energy: %3.1f kJ/kg'%(U);\n",
      "\n"
     ],
     "language": "python",
     "metadata": {},
     "outputs": [
      {
       "output_type": "stream",
       "stream": "stdout",
       "text": [
        "The Internal energy: 2784.9 kJ/kg\n",
        "The change in internal energy: -679.4 kJ/kg\n"
       ]
      }
     ],
     "prompt_number": 7
    },
    {
     "cell_type": "heading",
     "level": 2,
     "metadata": {},
     "source": [
      "Example 4.8 pg : 26"
     ]
    },
    {
     "cell_type": "code",
     "collapsed": false,
     "input": [
      "\n",
      "# Variables\n",
      "#Conditions at 8 bar\n",
      "P = 8.;            #in bars\n",
      "x = 0.8;          #Dryness Fraction\n",
      "Hf = 721.1;       #in kJ/kg\n",
      "Hfg = 2048.0;     #in kJ/kg\n",
      "\n",
      "# Calculations and Results\n",
      "H1 = Hf+(x*Hfg);\n",
      "H2 = H1+410;          #After adding 410 kJ of heat\n",
      "Hg = 2769.1;      #in kJ/kg\n",
      "print 'The Enthalpy of steam: %3.1f kJ/kg'%(H2);\n",
      "\n",
      "print 'The steam is superheated'\n",
      "\n",
      "V2 = 0.240;       #in m**3/kg\n",
      "Vg = V2;\n",
      "Den = 1./Vg;\n",
      "print 'The Density of steam: %3.3f kg/m**3'%(Den);\n",
      "\n"
     ],
     "language": "python",
     "metadata": {},
     "outputs": [
      {
       "output_type": "stream",
       "stream": "stdout",
       "text": [
        "The Enthalpy of steam: 2769.5 kJ/kg\n",
        "The steam is superheated\n",
        "The Density of steam: 4.167 kg/m**3\n"
       ]
      }
     ],
     "prompt_number": 8
    },
    {
     "cell_type": "heading",
     "level": 2,
     "metadata": {},
     "source": [
      "Example 4.9 pg : 27"
     ]
    },
    {
     "cell_type": "code",
     "collapsed": false,
     "input": [
      "\n",
      "#For throttling H1 = H2\n",
      "\n",
      "# Variables\n",
      "#At 11 bar\n",
      "Hf = 781.3;           #in kJ/kg\n",
      "Hfg = 2000.4;         #in kJ/kg\n",
      "\n",
      "# Calculations\n",
      "#At 1 bar\n",
      "Hg = 2675.5;          #in kJ/kg\n",
      "x = (Hg-Hf)/Hfg;\n",
      "\n",
      "# Results\n",
      "print 'The Dryness Fraction: %3.3f kJ/kg'%(x);\n",
      "\n"
     ],
     "language": "python",
     "metadata": {},
     "outputs": [
      {
       "output_type": "stream",
       "stream": "stdout",
       "text": [
        "The Dryness Fraction: 0.947 kJ/kg\n"
       ]
      }
     ],
     "prompt_number": 9
    },
    {
     "cell_type": "heading",
     "level": 2,
     "metadata": {},
     "source": [
      "Example 4.10 pg : 27"
     ]
    },
    {
     "cell_type": "code",
     "collapsed": false,
     "input": [
      "# Variables\n",
      "#Conditions at 4 bar\n",
      "P1 = 4.;               #in bars\n",
      "Hf = 604.7;           #in kJ/kg\n",
      "Hfg = 2133.8;         #in kJ/kg\n",
      "Vg = 0.463;           #in m**3/kg\n",
      "x1 = 0.9;\n",
      "H1 = Hf+(x1*Hfg);\n",
      "V1 = x1*Vg;\n",
      "\n",
      "# Calculations and Results\n",
      "#Now at 12 bar pressure\n",
      "P2 = 12;              #in bars\n",
      "V2 = (P1*V1)/P2;\n",
      "Vg = 0.163;           #in m**3/kg\n",
      "print 'At 12 bar, V2: %3.3f kJ/kg'%(V2);\n",
      "\n",
      "print 'As Vg>V2, steam is wet'\n",
      "\n",
      "x2 = V2/Vg;\n",
      "print 'The dryness fraction at 12 bars: %3.2f '%(x2);\n",
      "\n",
      "\n",
      "Hf = 798.6;           #in kJ/kg\n",
      "Hfg = 1986.2;         #in kJ/kg\n",
      "H2 = Hf+(x2*Hfg);\n",
      "print 'The Final enthalpy of steam: %3.1f kJ/kg'%(H2);\n",
      "\n",
      "# note : rounding off error."
     ],
     "language": "python",
     "metadata": {},
     "outputs": [
      {
       "output_type": "stream",
       "stream": "stdout",
       "text": [
        "At 12 bar, V2: 0.139 kJ/kg\n",
        "As Vg>V2, steam is wet\n",
        "The dryness fraction at 12 bars: 0.85 \n",
        "The Final enthalpy of steam: 2491.1 kJ/kg\n"
       ]
      }
     ],
     "prompt_number": 11
    },
    {
     "cell_type": "heading",
     "level": 2,
     "metadata": {},
     "source": [
      "Example 4.11 pg : 28"
     ]
    },
    {
     "cell_type": "code",
     "collapsed": false,
     "input": [
      "\n",
      "# Variables\n",
      "#At 20 degree Celcius\n",
      "Cpw = 4.187;              #in kJ/kg\n",
      "Tw = 20.;\n",
      "H1 = Cpw*Tw;\n",
      "\n",
      "# Calculations\n",
      "#At 8 bar condition\n",
      "m = 4;                #mass in kg\n",
      "Cps = 2.1;            #in kJ/kg\n",
      "Tsat = 170.4+273;     #in K\n",
      "Hg = 2769.1;          #in kJ/kg\n",
      "Tsup = 200+273;       #in K\n",
      "H2 = Hg+(Cps*(Tsup-Tsat));\n",
      "Q = m*(H2-H1);\n",
      "\n",
      "# Results\n",
      "print 'Heat to be added: %3.1f kJ'%(Q);\n",
      "\n"
     ],
     "language": "python",
     "metadata": {},
     "outputs": [
      {
       "output_type": "stream",
       "stream": "stdout",
       "text": [
        "Heat to be added: 10990.1 kJ\n"
       ]
      }
     ],
     "prompt_number": 12
    },
    {
     "cell_type": "heading",
     "level": 2,
     "metadata": {},
     "source": [
      "Example 4.12 pg : 29"
     ]
    },
    {
     "cell_type": "code",
     "collapsed": false,
     "input": [
      "\n",
      "# Variables\n",
      "#Combined Seperating and Throttling Calorimeter\n",
      "m1 = 2;       #mass of water seperated in kg\n",
      "m = 20.5;     #Steam discharged from calorimeter in kg\n",
      "mt = m1+m;    #Steam inlet in kg\n",
      "\n",
      "# Calculations\n",
      "x1 = m/(mt);      #Dryness fraction\n",
      "\n",
      "#At 12 bar pressure\n",
      "Hf = 798.6;       #in kJ/kg\n",
      "Hfg = 1986.2;     #in kJ/kg\n",
      "\n",
      "P_bar = 760;          #Pressure in mm\n",
      "P_fin = 5;            #Pressure in mm\n",
      "P = (P_bar+P_fin)*1.01325/P_bar;      #Absolute Pressure\n",
      "\n",
      "#Now at 1.02 bar\n",
      "Cp = 2.2;         #in kJ/kg K\n",
      "Hg = 2676.34;         #in kJ/kg\n",
      "Tsat = 99.66+273;     #in K\n",
      "Tsup = 110+273;       #in K\n",
      "H2 = Hg+(Cp*(Tsup-Tsat));\n",
      "x2 = (H2-Hf)/Hfg;\n",
      "x = x1*x2;\n",
      "\n",
      "# Results\n",
      "print 'The Dryness Fraction: %3.3f'%(x);\n",
      "\n"
     ],
     "language": "python",
     "metadata": {},
     "outputs": [
      {
       "output_type": "stream",
       "stream": "stdout",
       "text": [
        "The Dryness Fraction: 0.872\n"
       ]
      }
     ],
     "prompt_number": 13
    },
    {
     "cell_type": "heading",
     "level": 2,
     "metadata": {},
     "source": [
      "Example 4.13 pg : 29"
     ]
    },
    {
     "cell_type": "code",
     "collapsed": false,
     "input": [
      "\n",
      "# Variables\n",
      "#At 7 bar and 300 Celcius\n",
      "P = 7.;            #in bars\n",
      "Cps = 2.1;\n",
      "Tsup = 300+273;   #in K\n",
      "Tsat = 165+273;   #in K\n",
      "Hg = 2763.5;      #in kJ/kg\n",
      "\n",
      "# Calculations\n",
      "H1 = Hg+(Cps*(Tsup-Tsat));\n",
      "\n",
      "x2 = 0.9;          #Dryness Fraction\n",
      "Hf = 697.2;       #in kJ/kg\n",
      "Hfg = 2066.3;     #in kJ/kg\n",
      "H2 = Hf+(x2*Hfg);\n",
      "m = (H1-Hg)/(Hg-H2);\n",
      "\n",
      "# Results\n",
      "print 'The mass flow rate of wet steam: %3.3f kg/kg'%(m);\n",
      "\n"
     ],
     "language": "python",
     "metadata": {},
     "outputs": [
      {
       "output_type": "stream",
       "stream": "stdout",
       "text": [
        "The mass flow rate of wet steam: 1.372 kg/kg\n"
       ]
      }
     ],
     "prompt_number": 14
    },
    {
     "cell_type": "heading",
     "level": 2,
     "metadata": {},
     "source": [
      "Example 4.14 pg : 30"
     ]
    },
    {
     "cell_type": "code",
     "collapsed": false,
     "input": [
      "\n",
      "# Variables\n",
      "#Conditions at 10 bar\n",
      "P = 10.;                   #in bar\n",
      "Tsat = 179.9+273;         #in K\n",
      "Hf = 762.8;               #in kJ/kg\n",
      "Hfg = 2015.3;             #in kJ/kg\n",
      "Hg = 2778.1;              #in kJ/kg\n",
      "Vg = 0.194;               #in m**3/kg\n",
      "Sf = 2.139;               #in kJ/kg K\n",
      "Sg = 6.623;               #in kJ/kg K\n",
      "Sfg = 4.448;              #in kJ/kg K\n",
      "x = 0.91;                 #Dryness Fraction\n",
      "m = 3.;                    #in kg\n",
      "\n",
      "# Calculations and Results\n",
      "#Now for wet steam\n",
      "H = Hf+(x*Hfg);\n",
      "H_final = m*H;\n",
      "print 'The total Enthalpy: %3.1f kJ'%(H_final);\n",
      "\n",
      "V = x*Vg;\n",
      "U = H-(P*100*V);\n",
      "U_final = m*U;\n",
      "print 'The Internal Energy: %3.1f kJ'%(U_final);\n",
      "\n",
      "S = Sf+(x*Sfg);\n",
      "S_final = m*S;\n",
      "print 'The Entropy: %3.3f kJ/K'%(S_final);\n",
      "\n",
      "#Now Case 2\n",
      "print 'Now for Case 2 ';\n",
      "Tsat = 179.9+273;         #in K\n",
      "Tsup = 200+273;           #in K\n",
      "Cp = 2.1;                 #in kJ/kg K\n",
      "H = Hg+(Cp*(Tsup-Tsat));\n",
      "H_final = m*H;\n",
      "print 'The Enthalpy: %3.1f kJ'%(H_final);\n",
      "\n",
      "Vsup = (Tsup*Vg)/Tsat;\n",
      "U = H-(P*100*Vsup);\n",
      "U_final = m*U;\n",
      "print 'The change in internal energy: %3.1f kJ'%(U_final);\n",
      "\n",
      "S = Sg+(Cp*math.log(Tsup/Tsat));\n",
      "S_final = m*S;\n",
      "print 'The Entropy: %3.1f kJ/K'%(S_final);\n",
      "\n",
      "\n",
      "#Now Case 3\n",
      "print ' Now for case 3 ';\n",
      "H = Hg;\n",
      "H_final = m*H;            #in  kJ\n",
      "print 'The total enthalpy: %3.1f kJ'%(H_final);\n",
      "\n",
      "V = Vg;\n",
      "U = H-(P*100*V);\n",
      "U_final = m*U;\n",
      "print 'The change in internal energy: %3.1f kJ'%(U_final);\n",
      "\n",
      "S = Sg;\n",
      "S_final = m*S;\n",
      "print 'The total entropy: %3.3f kJ/kg'%(S_final);\n",
      "\n",
      "# note : rounding off error"
     ],
     "language": "python",
     "metadata": {},
     "outputs": [
      {
       "output_type": "stream",
       "stream": "stdout",
       "text": [
        "The total Enthalpy: 7790.2 kJ\n",
        "The Internal Energy: 7260.5 kJ\n",
        "The Entropy: 18.560 kJ/K\n",
        "Now for Case 2 \n",
        "The Enthalpy: 8460.9 kJ\n",
        "The change in internal energy: 7853.1 kJ\n",
        "The Entropy: 20.1 kJ/K\n",
        " Now for case 3 \n",
        "The total enthalpy: 8334.3 kJ\n",
        "The change in internal energy: 7752.3 kJ\n",
        "The total entropy: 19.869 kJ/kg\n"
       ]
      }
     ],
     "prompt_number": 16
    },
    {
     "cell_type": "heading",
     "level": 2,
     "metadata": {},
     "source": [
      "Example 4.15 pg : 32"
     ]
    },
    {
     "cell_type": "code",
     "collapsed": false,
     "input": [
      "import math \n",
      "\n",
      "# Variables\n",
      "#At 15 bar condition\n",
      "Tsat = 198.3+273;         #in K\n",
      "m = 7.;                    #in kg\n",
      "Hg = 2792.2;              #in kJ/kg\n",
      "Tsup = 300.+273;           #in K\n",
      "Cps = 2.1;                #in kJ/kg K\n",
      "\n",
      "# Calculations and Results\n",
      "H1 = Hg+(Cps*(Tsup-Tsat));\n",
      "Cpw = 4.187;              #in kJ/kg K\n",
      "H2 = Cpw*50;\n",
      "Q = m*(H1-H2);\n",
      "print 'The total amount of heat required: %3.1f kJ'%(Q);\n",
      "\n",
      "Sg = 6.445;               #in kJ/kg K\n",
      "S2 = Sg+(Cps*math.log(Tsup/Tsat));\n",
      "Sf = 0.704;               #in kJ/kg K\n",
      "S1 = Sf;\n",
      "S = m*(S2-S1);\n",
      "print 'The change in Entropy: %3.2f kJ/K'%(S);\n",
      "\n"
     ],
     "language": "python",
     "metadata": {},
     "outputs": [
      {
       "output_type": "stream",
       "stream": "stdout",
       "text": [
        "The total amount of heat required: 19574.9 kJ\n",
        "The change in Entropy: 43.06 kJ/K\n"
       ]
      }
     ],
     "prompt_number": 17
    },
    {
     "cell_type": "heading",
     "level": 2,
     "metadata": {},
     "source": [
      "Example 4.16 pg : 33"
     ]
    },
    {
     "cell_type": "code",
     "collapsed": false,
     "input": [
      "\n",
      "# Variables\n",
      "#Conditions at 10 bar\n",
      "P = 10.;               #in bar\n",
      "Tsat = 179.9+273;     #in K\n",
      "Hf = 762.8;           #in kJ/kg\n",
      "Hfg = 2015.3;         #in kJ/kg\n",
      "Hg = 2778.1;          #in kJ/kg\n",
      "Vg = 0.194;           #in m**3/kg\n",
      "x = 0.7;              #Dryness Fraction\n",
      "V = x*Vg;\n",
      "m = 0.2/V;            #mass in kg\n",
      "mf = 2/V;            #mass in kg\n",
      "\n",
      "# Calculations and Results\n",
      "H = Hf+(x*Hfg);\n",
      "H_tot = H*mf;\n",
      "print 'The total enthalpy: %3.1f kJ'%(H_tot);\n",
      "\n",
      "U = H-(P*100*V);\n",
      "U_tot = U*mf;\n",
      "print 'The internal energy: %3.1f kJ'%(U_tot);\n",
      "\n",
      "W = P*100*V;\n",
      "W_tot = W*mf;\n",
      "print 'The external work of evaporation: %3.1f kJ'%(W_tot);\n",
      "\n"
     ],
     "language": "python",
     "metadata": {},
     "outputs": [
      {
       "output_type": "stream",
       "stream": "stdout",
       "text": [
        "The total enthalpy: 32010.5 kJ\n",
        "The internal energy: 30010.5 kJ\n",
        "The external work of evaporation: 2000.0 kJ\n"
       ]
      }
     ],
     "prompt_number": 18
    },
    {
     "cell_type": "heading",
     "level": 2,
     "metadata": {},
     "source": [
      "Example 4.17 pg : 34"
     ]
    },
    {
     "cell_type": "code",
     "collapsed": false,
     "input": [
      "\n",
      "# Variables\n",
      "#Conditions at 10 bar pressure\n",
      "P = 10.;               #in bar\n",
      "Tsat = 179.9+273;     #in K\n",
      "Tsup = 350+273;\n",
      "x = 0.9;              #Dryness Fraction\n",
      "Hf = 762.8;           #in kJ/kg\n",
      "Hfg = 2015.3;         #in kJ/kg\n",
      "Hg = 2778.1;          #in kJ/kg\n",
      "Vg = 0.194;           #in m**3/kg\n",
      "Cps = 2.1;            #in kJ/kg K\n",
      "\n",
      "# Calculations\n",
      "Ha = Hg+(Cps*(Tsup-Tsat));\n",
      "Hb = Hf+(x*Hfg);\n",
      "H_mix = (Ha+Hb)/2;\n",
      "Tsupe = ((H_mix-Hg)/Cps)+Tsat;\n",
      "Tsuper = Tsupe-273;\n",
      "\n",
      "\n",
      "# Results\n",
      "print 'Temperature of superheated steam: %3.0f Celcius'%(Tsuper);\n",
      "\n"
     ],
     "language": "python",
     "metadata": {},
     "outputs": [
      {
       "output_type": "stream",
       "stream": "stdout",
       "text": [
        "Temperature of superheated steam: 217 Celcius\n"
       ]
      }
     ],
     "prompt_number": 19
    },
    {
     "cell_type": "heading",
     "level": 2,
     "metadata": {},
     "source": [
      "Example 4.18 pg: 34"
     ]
    },
    {
     "cell_type": "code",
     "collapsed": false,
     "input": [
      "\n",
      "# Variables\n",
      "#Now at 10 bar pressure\n",
      "V = 1.5;              #Volume in m**3\n",
      "P = 10;               #Pressure in bar\n",
      "x = 0.91;             #Dryness fraction\n",
      "Vg = 0.194;           #in m**3/kg\n",
      "m = V/Vg;\n",
      "\n",
      "# Calculations\n",
      "Vf = x*Vg;\n",
      "m_f = V/Vf;\n",
      "\n",
      "# Results\n",
      "print 'Amount of water to be placed in container: %2.2f kg'%(m);\n",
      "print 'Mass of water required: %2.2f kg'%(m_f);\n",
      "\n"
     ],
     "language": "python",
     "metadata": {},
     "outputs": [
      {
       "output_type": "stream",
       "stream": "stdout",
       "text": [
        "Amount of water to be placed in container: 7.73 kg\n",
        "Mass of water required: 8.50 kg\n"
       ]
      }
     ],
     "prompt_number": 20
    },
    {
     "cell_type": "heading",
     "level": 2,
     "metadata": {},
     "source": [
      "Example 4.19 pg : 35"
     ]
    },
    {
     "cell_type": "code",
     "collapsed": false,
     "input": [
      "\n",
      "# Variables\n",
      "#Conditions at 7 bat\n",
      "P = 7.;                #in bar\n",
      "Tsat = 165.+273;       #in K\n",
      "Hf = 697.2;           #in kJ/kg\n",
      "Hfg = 2066.3;         #in kJ/kg\n",
      "Hg = 2763.5;          #in kJ/kg\n",
      "Vg = 0.273;           #in m**3/kg\n",
      "D = 0.02;             #in m\n",
      "vel = 17.;             #in m/s\n",
      "Cps = 4.187;          #in kJ/kg K\n",
      "Tw1 = 25.;             #in Celcius\n",
      "Tw2 = 100.;            #in Celcius\n",
      "Vfr = (22./7)*D*D*vel*(1./4)*60;       #Volume flow rate in m**3/min\n",
      "x = 0.9;              #Dryness Fraction\n",
      "V = x*Vg;\n",
      "\n",
      "# Calculations and Results\n",
      "Mfr = Vfr/V;          #Mass flow rate\n",
      "print 'The mass flow rate of steam: %2.2f kg/min'%(Mfr);\n",
      "\n",
      "H1 = Hf+(x*Hfg);\n",
      "H2 = Cps*100;\n",
      "Mw = (Mfr*(H1-H2))/(Cps*(Tw2-Tw1));\n",
      "print 'The mass flow rate of water: %2.2f kg/min'%(Mw);\n",
      "\n"
     ],
     "language": "python",
     "metadata": {},
     "outputs": [
      {
       "output_type": "stream",
       "stream": "stdout",
       "text": [
        "The mass flow rate of steam: 1.30 kg/min\n",
        "The mass flow rate of water: 8.88 kg/min\n"
       ]
      }
     ],
     "prompt_number": 21
    },
    {
     "cell_type": "heading",
     "level": 2,
     "metadata": {},
     "source": [
      "Example 4.20 pg : 36"
     ]
    },
    {
     "cell_type": "code",
     "collapsed": false,
     "input": [
      "\n",
      "# Variables\n",
      "#Conditions at 9 bar\n",
      "P = 9.;                #in bar\n",
      "Tsat = 175.4+273;     #in K\n",
      "Vg = 0.215;           #in m**3/kg\n",
      "Hf = 742.8;           #in kJ/kg\n",
      "Hfg = 2031.1;         #in kJ/kg\n",
      "Hg = 2773.9;          #in kJ/kg\n",
      "T2 = 250.+273;         #in K\n",
      "x = 0.91;             #Dryness Fraction\n",
      "V1 = x*Vg;\n",
      "\n",
      "# Calculations and Results\n",
      "V2 = 0.2696;          #From Steam Table\n",
      "W = P*100*(V2-V1);\n",
      "print 'The Work Output: %2.2f kJ/kg'%(W);\n",
      "\n",
      "H1 = Hf+(x*Hfg);\n",
      "H2 = 2946.3;          #From steam table in kJ/kg\n",
      "Q = H2-H1;\n",
      "print 'The heat supplied to steam: %2.2f kJ/kg'%(Q);\n",
      "\n",
      "U = Q-W;\n",
      "print 'The internal energy of steam increases by: %2.2f kJ/kg'%(U);\n",
      "\n"
     ],
     "language": "python",
     "metadata": {},
     "outputs": [
      {
       "output_type": "stream",
       "stream": "stdout",
       "text": [
        "The Work Output: 66.56 kJ/kg\n",
        "The heat supplied to steam: 355.20 kJ/kg\n",
        "The internal energy of steam increases by: 288.64 kJ/kg\n"
       ]
      }
     ],
     "prompt_number": 22
    },
    {
     "cell_type": "heading",
     "level": 2,
     "metadata": {},
     "source": [
      "Example 4.21 pg : 37"
     ]
    },
    {
     "cell_type": "code",
     "collapsed": false,
     "input": [
      "\n",
      "# Variables\n",
      "#Conditions at 16 bar\n",
      "P = 16.;                   #in bar\n",
      "Vov = 0.015;              #Volume of Vessel\n",
      "Mos = 0.1;                #Mass of steam\n",
      "SV = Vov/Mos;             #Specific Volume\n",
      "Vg = 0.124;               #in m**3/kg\n",
      "\n",
      "# Calculations and Results\n",
      "Tsat = 201.4+273;         #in K\n",
      "Tsup = (SV/Vg)*Tsat;\n",
      "print 'The temperature of steam: %2.2f K'%(Tsup);\n",
      "\n",
      "\n",
      "#Now cooling takes place\n",
      "Tsat = 191.16;            #From steam table\n",
      "print 'After cooling, temperature of steam: %2.2f K'%(Tsat);\n",
      "\n",
      "\n",
      "#Now cooled to 10 bar pressure\n",
      "P1 = 16;              #in bar\n",
      "Vg = 0.194;           #in m**3/kg\n",
      "v = 0.15;             #in m**3/kg\n",
      "x = v/Vg;             #Dryness Fraction\n",
      "\n",
      "#For consmath.tant Volume process W = 0\n",
      "Hg = 2794.0;          #in kJ/kg\n",
      "Hf = 762.8;           #in kJ/kg\n",
      "Hfg = 2015.3;         #in kJ/kg\n",
      "Cps = 2.1;            #in kJ/kg K\n",
      "Tsup = 300.84;        #in C\n",
      "Tsat = 201.4;         #in C\n",
      "H1 = Hg+(Cps*(Tsup-Tsat));\n",
      "U1 = H1-(P1*100*v);\n",
      "P2 = 10;              #in bar\n",
      "H2 = Hf+(x*Hfg);\n",
      "U2 = H2-(P2*100*v);\n",
      "Q = U2-U1;\n",
      "print 'Heat rejected by system: %2.2f kJ/kg'%(Q);\n",
      "\n",
      "# note : rounding off error."
     ],
     "language": "python",
     "metadata": {},
     "outputs": [
      {
       "output_type": "stream",
       "stream": "stdout",
       "text": [
        "The temperature of steam: 573.87 K\n",
        "After cooling, temperature of steam: 191.16 K\n",
        "Heat rejected by system: -591.80 kJ/kg\n"
       ]
      }
     ],
     "prompt_number": 24
    },
    {
     "cell_type": "heading",
     "level": 2,
     "metadata": {},
     "source": [
      "Example 4.22 pg : 38"
     ]
    },
    {
     "cell_type": "code",
     "collapsed": false,
     "input": [
      "\n",
      "# Variables\n",
      "#Isothermal process\n",
      "P = 10.;                   #in bar\n",
      "Tsat = 179.9+273;         #in K\n",
      "Vg = 0.194;               #in m**3/kg\n",
      "Hf = 762.6;               #in kJ/kg\n",
      "Hfg = 2015.3;             #in kJ/kg\n",
      "Hg = 2778.1;              #in kJ/kg\n",
      "x1 = 1.;                   #Dryness Fraction\n",
      "Sf = 2.139;               #in kJ/kg K\n",
      "Sfg = 4.448;              #in kJ/kg K\n",
      "Sg = 6.623;               #in kJ/kg K\n",
      "V = 0.3;                  #in m**3\n",
      "m = V/Vg;                 #in kg\n",
      "V2 = Vg/2;\n",
      "x2 = V2/Vg;               #Dryness Fraction\n",
      "\n",
      "# Calculations and Results\n",
      "W = P*100*(V2-Vg)*m;\n",
      "print 'Work Done: %2.2f kJ'%(W);\n",
      "\n",
      "H1 = Hg;\n",
      "H2 = Hf+(x2*Hfg);\n",
      "Q = m*(H2-H1);\n",
      "print 'Change in Enthalpy: %2.2f kJ'%(Q);\n",
      "\n",
      "U = (Q-W);\n",
      "print 'Change in total Internal Energy: %2.2f kJ'%(U);\n",
      "\n",
      "S1 = Sg;\n",
      "S2 = Sf+(x2*Sfg);\n",
      "S = m*(S2-S1);\n",
      "print 'Change in Entropy: %2.2f kJ/K'%(S);\n",
      "\n",
      "\n",
      "#Now for case 2 where PV = C\n",
      "print 'Now for case 2';\n",
      "\n",
      "\n",
      "V01 = 0.097;\n",
      "V02 = 0.5*V01;\n",
      "P1 = 10;               #in bars\n",
      "P2 = (P1*V01)/V02;      #in bars\n",
      "\n",
      "#Now at 20 bars\n",
      "Vg1 = 0.0996;              #in m**3/kg\n",
      "V2 = 0.097;\n",
      "x2 = V2/Vg1;               #Dryness Fraction\n",
      "Hf = 908.8;               #in kJ/kg\n",
      "Hfg = 1890.7;             #in kJ/kg\n",
      "H2 = Hf+(x2*Hfg);\n",
      "H = m*(H2-Hg);\n",
      "print 'Change in Enthalpy: %2.2f kJ'%(H);\n",
      "\n",
      "\n",
      "W = m*P1*100*Vg*(math.log(V02/V01));\n",
      "print 'Total work done: %2.2f kJ'%(W);\n",
      "\n",
      "\n",
      "U = H;                #as P1 V1 =  P2 V2\n",
      "Q = U+W;\n",
      "print 'Change in Enthalpy: %2.2f kJ'%(Q);\n",
      "\n",
      "\n",
      "#Now at 20 bar pressure\n",
      "Sf = 2.447;               #in kJ/kg K\n",
      "Sfg = 3.894;              #in kJ/kg K\n",
      "Sg1 = 6.341;               #in kJ/kg K\n",
      "S2 = Sf+(x2*Sfg);\n",
      "S1 = Sg;\n",
      "S = m*(S2-S1)\n",
      "print 'Change in Entropy: %2.3f kJ/K'%(S);\n",
      "\n",
      "# note : rounding off error.\n"
     ],
     "language": "python",
     "metadata": {},
     "outputs": [
      {
       "output_type": "stream",
       "stream": "stdout",
       "text": [
        "Work Done: -150.00 kJ\n",
        "Change in Enthalpy: -1558.53 kJ\n",
        "Change in total Internal Energy: -1408.53 kJ\n",
        "Change in Entropy: -3.49 kJ/K\n",
        "Now for case 2\n",
        "Change in Enthalpy: -43.23 kJ\n",
        "Total work done: -207.94 kJ\n",
        "Change in Enthalpy: -251.17 kJ\n",
        "Change in Entropy: -0.593 kJ/K\n"
       ]
      }
     ],
     "prompt_number": 26
    },
    {
     "cell_type": "heading",
     "level": 2,
     "metadata": {},
     "source": [
      "Example 4.23 pg : 41"
     ]
    },
    {
     "cell_type": "code",
     "collapsed": false,
     "input": [
      "import math \n",
      "\n",
      "# Variables\n",
      "#Initial conditions at 7 bar pressure\n",
      "P1 = 7.;               #in bars\n",
      "Vg1 = 0.273;           #in m**3/kg\n",
      "V1 = Vg1;              #in m**3/kg\n",
      "Hg1 = 2763.5;          #in kJ/kg\n",
      "H1 = Hg1;\n",
      "Tsat = 165+273;           #in K\n",
      "Sf = 1.992;           #in kJ/kg K\n",
      "Sfg = 4.716;          #in kJ/kg K\n",
      "Sg = 6.708;           #in kJ/kg K\n",
      "n = 1.1;\n",
      "\n",
      "# Calculations and Results\n",
      "#Final conditions at 0.5 bar\n",
      "P2 = 0.5;             #in bars\n",
      "V2 = ((P1*(V1**1.1))/P2)**(1./1.1);          #umath.sing P(V)**1.1 = Consmath.tant\n",
      "\n",
      "W = ((P1*100*V1)-(P2*100*V2))/(n-1);\n",
      "print 'Work Done: %3.2f kJ'%(W);\n",
      "\n",
      "\n",
      "Hf2 = 340.6;              #in kJ/kg\n",
      "Hfg2 = 2305.4;            #in kJ/kg\n",
      "Vg2 = 3.24;               #in m**3/kg\n",
      "x2 = V2/Vg2;              #Dryness Fraction\n",
      "\n",
      "H2 = Hf2+(x2*Hfg2);\n",
      "\n",
      "U1 = H1-(P1*100*V1);\n",
      "U2 = H2-(P2*100*V2);\n",
      "U = U2-U1;\n",
      "print 'Change in Internal Energy: %3.2f kJ/kg'%(U);\n",
      "\n",
      "\n",
      "Q = U+W;              #From First law of Thermodynamics\n",
      "print 'Heat Transferred: %3.2f kJ/kg'%(Q);\n",
      "\n",
      "\n",
      "S1 = Sg;\n",
      "#At 0.5 bar\n",
      "Sf2 = 1.091;              #in kJ/kg K\n",
      "Sfg2 = 6.503;             #in kJ/kg K\n",
      "Sg2 = 7.594;              #in kJ/kg K\n",
      "S2 = Sf2+(x2*Sfg2);\n",
      "S = S2-S1;\n",
      "print 'Change in Entropy: %3.2f kJ/kg K'%(S);\n",
      "\n"
     ],
     "language": "python",
     "metadata": {},
     "outputs": [
      {
       "output_type": "stream",
       "stream": "stdout",
       "text": [
        "Work Done: 407.63 kJ\n",
        "Change in Internal Energy: -242.71 kJ/kg\n",
        "Heat Transferred: 164.92 kJ/kg\n",
        "Change in Entropy: 0.42 kJ/kg K\n"
       ]
      }
     ],
     "prompt_number": 27
    },
    {
     "cell_type": "heading",
     "level": 2,
     "metadata": {},
     "source": [
      "Example 4.24 pg :43"
     ]
    },
    {
     "cell_type": "code",
     "collapsed": false,
     "input": [
      "import math \n",
      "\n",
      "# Variables\n",
      "#At state 1\n",
      "P1 = 20;              #in bar\n",
      "V = 2;\n",
      "Vg1 = 0.0996;         #in m**3/kg\n",
      "Tsat1 = 212.4+273;        #in K\n",
      "Tsup1 = 573;          #in K\n",
      "V1 = Vg1*(Tsup1/Tsat1);\n",
      "m = V/V1;\n",
      "\n",
      "#At state 2\n",
      "V2 = V1;\n",
      "Vg2 = V2;\n",
      "P2 = 16.9;            #From Steam Table\n",
      "\n",
      "#Calculations\n",
      "Hg1 = 2799.5;         #in kJ/kg\n",
      "Cps = 2.1;            #in kJ/kg K\n",
      "H1 = m*(Hg1+(Cps*(Tsup1-Tsat1)));\n",
      "U1 = H1-(P1*100*V);\n",
      "\n",
      "Hg2 = 2795.5;         #in kJ/kg from Steam table\n",
      "H2 = m*Hg2;\n",
      "U2 = H2-(P2*100*V);\n",
      "\n",
      "# Calculations and Results\n",
      "Q = U2-U1;\n",
      "print 'Heat Transferred: %3.1f kJ'%(Q);\n",
      "\n",
      "\n",
      "Sg1 = 6.341;              #in kJ/kg K\n",
      "S1 = Sg1+(Cps*math.log(Tsup1/Tsat1));\n",
      "\n",
      "S2 = 6.4022;             #From Steam Table\n",
      "S = m*(S2-S1);\n",
      "print 'Change in Entropy: %3.3f kJ/K'%(S);\n",
      "\n"
     ],
     "language": "python",
     "metadata": {},
     "outputs": [
      {
       "output_type": "stream",
       "stream": "stdout",
       "text": [
        "Heat Transferred: -2577.3 kJ\n",
        "Change in Entropy: -4.886 kJ/K\n"
       ]
      }
     ],
     "prompt_number": 28
    },
    {
     "cell_type": "heading",
     "level": 2,
     "metadata": {},
     "source": [
      "Example 4.25 pg : 45"
     ]
    },
    {
     "cell_type": "code",
     "collapsed": false,
     "input": [
      "import math \n",
      "\n",
      "# Variables\n",
      "#For Throttling process, H1 = H2\n",
      "#At 15 bar pressure\n",
      "P1 = 15.;                  #in bar\n",
      "Hf1 = 844.9;              #in kJ/kg\n",
      "Hfg1 = 1947.3;            #in kJ/kg\n",
      "x1 = 0.73;                #Dryness Fraction\n",
      "\n",
      "#At 1 bar pressure\n",
      "P2 = 1.;                   #in bar\n",
      "Hf2 = 417.5;              #in kJ/kg\n",
      "Hfg2 = 2258.0;            #in kJ/kg\n",
      "Hg2 = 2675.5;             #in kJ/kg\n",
      "H2 = 2266.4;              #in kJ/kg\n",
      "\n",
      "# Calculations and Results\n",
      "H1 = Hf1+(x1*Hfg1);\n",
      "x2 = (H2-Hf2)/Hfg2;\n",
      "\n",
      "#Now if x1 = 0.95\n",
      "H1 = Hf1+(0.95*Hfg1);\n",
      "H2 = H1;\n",
      "\n",
      "#At 1 bar\n",
      "Hg = 2675.5;\n",
      "Cps = 2.1;\n",
      "x = 0.93;                 #New dryness fraction\n",
      "T = (H2-Hg)/Cps;          #Temperature difference\n",
      "Tsat = 99;                #in Celcius\n",
      "Tsup = Tsat+T;\n",
      "print 'Temperature of superheated steam: %3.1f Celcius'%(Tsup);\n",
      "\n",
      "\n",
      "#Now at 15 bar\n",
      "Sf = 2.315;               #in kJ/kg K\n",
      "Sfg = 4.130;              #in kJ/kg K\n",
      "Sg = 6.445;               #in kJ/kg K\n",
      "S1 = Sf+(x*Sfg);\n",
      "\n",
      "#Now at 1 bar\n",
      "Sg1 = 7.360;              #in kJ/kg K\n",
      "S2 = Sg1+(Cps*math.log((Tsup+273)/(Tsat+273)));\n",
      "S = S2-S1;\n",
      "print 'Change in Entropy: %3.2f kJ/kg K'%(S);\n",
      "\n"
     ],
     "language": "python",
     "metadata": {},
     "outputs": [
      {
       "output_type": "stream",
       "stream": "stdout",
       "text": [
        "Temperature of superheated steam: 108.2 Celcius\n",
        "Change in Entropy: 1.26 kJ/kg K\n"
       ]
      }
     ],
     "prompt_number": 29
    },
    {
     "cell_type": "heading",
     "level": 2,
     "metadata": {},
     "source": [
      "Example 4.26 pg : 46"
     ]
    },
    {
     "cell_type": "code",
     "collapsed": false,
     "input": [
      "\n",
      "#Heat lost by Steam = Heat gained by water and calorimeter\n",
      "# Variables\n",
      "ms = 2.;               #in kg\n",
      "Hf1 = 697.2;          #in kJ/kg\n",
      "Hfg1 = 2066.3;        #in kJ/kg\n",
      "Hf2 = 146.7;          #in kJ/kg\n",
      "T2 = 35.;              #in Celcius\n",
      "T1 = 15.;              #in Celcius\n",
      "mg = 56;              #in kg\n",
      "\n",
      "# Calculations\n",
      "Cpw = 4.187;          #in kJ/kg K\n",
      "H_gained = mg*Cpw*(T2-T1);\n",
      "x = (((H_gained)/2)+(Hf2-Hf1))/Hfg1;\n",
      "\n",
      "# Results\n",
      "print 'The dryness fraction is %2.2f '%(x);\n",
      "\n"
     ],
     "language": "python",
     "metadata": {},
     "outputs": [
      {
       "output_type": "stream",
       "stream": "stdout",
       "text": [
        "The dryness fraction is 0.87 \n"
       ]
      }
     ],
     "prompt_number": 30
    },
    {
     "cell_type": "heading",
     "level": 2,
     "metadata": {},
     "source": [
      "Example 4.27 pg : 47"
     ]
    },
    {
     "cell_type": "code",
     "collapsed": false,
     "input": [
      "\n",
      "# Variables\n",
      "Ms = 10.;\n",
      "Mw = 1.;\n",
      "\n",
      "# Calculations\n",
      "x = (100*Ms)/(Ms+Mw);\n",
      "\n",
      "# Results\n",
      "print 'The Dryness Fraction of steam is %2.1f percent'%(x);\n",
      "\n"
     ],
     "language": "python",
     "metadata": {},
     "outputs": [
      {
       "output_type": "stream",
       "stream": "stdout",
       "text": [
        "The Dryness Fraction of steam is 90.9 percent\n"
       ]
      }
     ],
     "prompt_number": 31
    },
    {
     "cell_type": "heading",
     "level": 2,
     "metadata": {},
     "source": [
      "Example 4.28 pg : 47"
     ]
    },
    {
     "cell_type": "code",
     "collapsed": false,
     "input": [
      "import math \n",
      "\n",
      "# Variables\n",
      "P1 = 11.;              #in bar\n",
      "P2 = 1.1;             #in bar\n",
      "T2 = 130.+273;         #in K\n",
      "Cps = 2.1;            #in kJ/kg K\n",
      "\n",
      "# Calculations\n",
      "#At 11 bar\n",
      "Hf1 = 781.3;          #in kJ/kg\n",
      "Hfg1 = 2000.4;        #in kJ/kg\n",
      "\n",
      "#At 1.1 bar\n",
      "Hg2 = 2679.7;         #in kJ/kg\n",
      "Tsat = 102.3+273;     #in K\n",
      "Tsup = 130+273;\n",
      "\n",
      "#Now for throttling process, H1 = H2\n",
      "H2 = Hg2+(Cps*(Tsup-Tsat));\n",
      "x = ((H2-Hf1)*100)/Hfg1;\n",
      "\n",
      "# Results\n",
      "print 'The dryness fraction of steam: %2.1f'%(x);\n",
      "\n"
     ],
     "language": "python",
     "metadata": {},
     "outputs": [
      {
       "output_type": "stream",
       "stream": "stdout",
       "text": [
        "The dryness fraction of steam: 97.8\n"
       ]
      }
     ],
     "prompt_number": 32
    },
    {
     "cell_type": "heading",
     "level": 2,
     "metadata": {},
     "source": [
      "Example 4.29 pg : 47"
     ]
    },
    {
     "cell_type": "code",
     "collapsed": false,
     "input": [
      "\n",
      "# Variables\n",
      "#Combined seperating and throttling calorimeter\n",
      "Ms = 5.;               #in kg\n",
      "Mw = 0.5;             #in kg\n",
      "Cps = 2.1;            #in kJ/kg K\n",
      "Man = 166.8;          #in mm of Hg\n",
      "Bar = 733.6;          #in mm of Hg\n",
      "\n",
      "# Calculations\n",
      "x1 = Ms/(Ms+Mw);\n",
      "P = Man+Bar;\n",
      "P_bar = (1.01325*P)/760;      #Pressure in bar\n",
      "\n",
      "#From steam table\n",
      "Hf1 = 742.8;              #in kJ/kg\n",
      "Hfg1 = 2031.1;            #in kJ/kg\n",
      "Tsat = 104.8+273;         #in K\n",
      "Tsup = 110.3+273;         #in K\n",
      "Hg = 2683.5;              #in kJ/kg\n",
      "\n",
      "H2 = Hg+(Cps*(Tsup-Tsat));\n",
      "x2 = (H2-Hf1)/Hfg1;\n",
      "x = x1*x2;\n",
      "\n",
      "# Results\n",
      "print 'The dryness fraction of steam: %2.3f'%(x);\n",
      "\n"
     ],
     "language": "python",
     "metadata": {},
     "outputs": [
      {
       "output_type": "stream",
       "stream": "stdout",
       "text": [
        "The dryness fraction of steam: 0.874\n"
       ]
      }
     ],
     "prompt_number": 33
    },
    {
     "cell_type": "heading",
     "level": 2,
     "metadata": {},
     "source": [
      "Example 4.30 pg : 48"
     ]
    },
    {
     "cell_type": "code",
     "collapsed": false,
     "input": [
      "#Combined seperating and throttling calorimeter\n",
      "\n",
      "# Variables\n",
      "Mw = 8.;                   #in kg\n",
      "M = 63.;                   #in kg\n",
      "Ms = M-Mw;                #in kg\n",
      "P1 = 81.5;                #Pressure after throttling in mm\n",
      "P2 = 754.;                 #Barometer reading in mm\n",
      "SD = 13.6;                #Specific Density of Hg\n",
      "\n",
      "# Calculations\n",
      "x1 = Ms/(Ms+Mw);          #Dryness Fraction\n",
      "P = (P1/SD)+P2;           #Pressure in mm\n",
      "P = 1.01325;              #Pressure in bar\n",
      "\n",
      "#Now at 7.5 bar pressure\n",
      "Hf1 = 709.2;              #in kJ/kg\n",
      "Hfg1 = 2057.0;            #in kJ/kg\n",
      "\n",
      "#Now at 1.01325 bar\n",
      "Hg2 = 2676.0;             #in kJ/kg\n",
      "Tsat = 100+273;           #in K\n",
      "Cps = 2.1;                #in kJ/kg K\n",
      "Tsup = 110+273;           #in K\n",
      "\n",
      "#For throttling H1 = H2\n",
      "H2 = Hg2+(Cps*(Tsup-Tsat));\n",
      "x2 = (H2-Hf1)/Hfg1;\n",
      "\n",
      "x = x1*x2;\n",
      "\n",
      "# Results\n",
      "print 'The dryness fraction of steam: %2.3f'%(x);\n",
      "\n"
     ],
     "language": "python",
     "metadata": {},
     "outputs": [
      {
       "output_type": "stream",
       "stream": "stdout",
       "text": [
        "The dryness fraction of steam: 0.844\n"
       ]
      }
     ],
     "prompt_number": 34
    },
    {
     "cell_type": "heading",
     "level": 2,
     "metadata": {},
     "source": [
      "Example 4.31 pg : 49"
     ]
    },
    {
     "cell_type": "code",
     "collapsed": false,
     "input": [
      "\n",
      "# Variables\n",
      "#At 9.2 bar pressure\n",
      "x1 = 0.96;                    #Dryness Fraction\n",
      "Sf1 = 2.1038;                 #in kJ/kg K\n",
      "Sg1 = 6.6151;                 #in kJ/kg K\n",
      "\n",
      "#At 3.55 bar pressure\n",
      "Sf2 = 1.7327;                 #in kJ/kg K\n",
      "Sg2 = 6.9358;                 #in kJ/kg K\n",
      "Vg2 = 0.5173;                 #in m**3/kg\n",
      "\n",
      "#Now at 0.36 bar pressure\n",
      "Vg3 = 4.408;                  #in m**3/kg\n",
      "\n",
      "# Calculations\n",
      "S1 = Sf1+(x1*(Sg1-Sf1));\n",
      "\n",
      "#As process is adiabatic\n",
      "S2 = S1;\n",
      "\n",
      "#From steam table, Sg = 6.9358 > S2\n",
      "\n",
      "x2 = (S2-Sf2)/(Sg2-Sf2);\n",
      "V2 = x2*Vg2;\n",
      "\n",
      "#As volume remains consmath.tant\n",
      "V3 = V2;\n",
      "x3 = V3/Vg3;\n",
      "\n",
      "# Results\n",
      "print 'The dryness fraction of steam: %2.3f'%(x3);\n",
      "\n"
     ],
     "language": "python",
     "metadata": {},
     "outputs": [
      {
       "output_type": "stream",
       "stream": "stdout",
       "text": [
        "The dryness fraction of steam: 0.106\n"
       ]
      }
     ],
     "prompt_number": 35
    },
    {
     "cell_type": "heading",
     "level": 2,
     "metadata": {},
     "source": [
      "Example 4.32 pg : 50"
     ]
    },
    {
     "cell_type": "code",
     "collapsed": false,
     "input": [
      "\n",
      "# Variables\n",
      "#At 10 bar pressure\n",
      "m = 1./(0.9*0.194);\n",
      "\n",
      "Hf1 = 762.6;              #in kJ/kg\n",
      "x1 = 0.9;                 #Dryness Fraction\n",
      "Hfg1 = 2013.6;            #in kJ/kg\n",
      "H1 = Hf1+(x1*Hfg1);\n",
      "\n",
      "# Calculations and Results\n",
      "Hf2 = 640.1;              #in kJ/kg\n",
      "Hfg2 = 2107.4;            #in kJ/kg\n",
      "x2 = (H1-Hf2)/Hfg2;\n",
      "Vg2 = 0.375;\n",
      "\n",
      "Ms = (1./(x2*Vg2));\n",
      "Vg3 = 0.462;\n",
      "#Now mass of steam blown off\n",
      "M = m-Ms;\n",
      "\n",
      "print 'Mass of steam blown off: %2.3f kg'%(M);\n",
      "\n",
      "\n",
      "V = 1;                #Volume in m**3\n",
      "x3 = V/(Ms*Vg3);\n",
      "print 'Dryness fraction of steam: %2.3f '%(x3);\n",
      "\n"
     ],
     "language": "python",
     "metadata": {},
     "outputs": [
      {
       "output_type": "stream",
       "stream": "stdout",
       "text": [
        "Mass of steam blown off: 2.823 kg\n",
        "Dryness fraction of steam: 0.745 \n"
       ]
      }
     ],
     "prompt_number": 36
    },
    {
     "cell_type": "heading",
     "level": 2,
     "metadata": {},
     "source": [
      "Example 4.33 pg : 51"
     ]
    },
    {
     "cell_type": "code",
     "collapsed": false,
     "input": [
      "\n",
      "# Variables\n",
      "#At 25 bar pressure\n",
      "P = 25.;                   #Pressure in bar\n",
      "x = 0.8;                  #Dryness fraction\n",
      "Hf = 962.1;               #in kJ/kg\n",
      "Hfg = 1841;               #in kJ/kg\n",
      "Vg = 0.0801;              #in m**3/kg\n",
      "\n",
      "# Calculations and Results\n",
      "H = Hf+(x*Hfg);\n",
      "print 'Enthalpy: %2.1f kJ/kg'%(H);\n",
      "\n",
      "U = H-(P*100*x*Vg);\n",
      "print 'Internal Energy: %2.1f kJ/kg'%(U);\n",
      "\n"
     ],
     "language": "python",
     "metadata": {},
     "outputs": [
      {
       "output_type": "stream",
       "stream": "stdout",
       "text": [
        "Enthalpy: 2434.9 kJ/kg\n",
        "Internal Energy: 2274.7 kJ/kg\n"
       ]
      }
     ],
     "prompt_number": 37
    },
    {
     "cell_type": "heading",
     "level": 2,
     "metadata": {},
     "source": [
      "Example 4.34 pg : 51"
     ]
    },
    {
     "cell_type": "code",
     "collapsed": false,
     "input": [
      "import math \n",
      "\n",
      "# Variables\n",
      "Ms = 20.;          #in kg\n",
      "Mw = 2.;           #in kg\n",
      "Cps = 2.1;        #in kJ/kg K\n",
      "x1 = Ms/(Ms+Mw);  #Dryness fraction\n",
      "\n",
      "#At 12 bar pressure\n",
      "Hf1 = 798.6;          #in kJ/kg\n",
      "Hfg1 = 1986.2;        #in kJ/kg\n",
      "\n",
      "#At 1 bar pressure\n",
      "Hg2 = 2675.5;         #in kJ/kg\n",
      "Tsup = 110.+273;           #in K\n",
      "Tsat = 99.+273;            #in K\n",
      "\n",
      "# Calculations\n",
      "#For throttling, H1 = H2\n",
      "H2 = Hg2+(Cps*(Tsup-Tsat));\n",
      "x2 = (H2-Hf1)/Hfg1;\n",
      "\n",
      "x = x1*x2;\n",
      "\n",
      "# Results\n",
      "print 'Dryness fraction of steam: %2.4f kJ'%(x);\n",
      "\n"
     ],
     "language": "python",
     "metadata": {},
     "outputs": [
      {
       "output_type": "stream",
       "stream": "stdout",
       "text": [
        "Dryness fraction of steam: 0.8696 kJ\n"
       ]
      }
     ],
     "prompt_number": 38
    },
    {
     "cell_type": "heading",
     "level": 2,
     "metadata": {},
     "source": [
      "Example 4.35 pg : 51"
     ]
    },
    {
     "cell_type": "code",
     "collapsed": false,
     "input": [
      "import math \n",
      "\n",
      "# Variables\n",
      "V = 0.15;                 #in m**3\n",
      "P = 4.;                    #in bar\n",
      "x = 0.8;                  #Dryness fraction\n",
      "\n",
      "#Now at 4 bar pressure\n",
      "P = 4.;                    #in bar\n",
      "Vg = 0.463;               #in m**3/kg\n",
      "\n",
      "# Calculations\n",
      "SV = x*Vg;\n",
      "Mos = V/SV;               #Mass of Steam\n",
      "\n",
      "#Now if Volume is 1 m**3\n",
      "\n",
      "Ms = 1./SV;                #in kg\n",
      "#At 4 bar pressure\n",
      "Hf = 604.7;               #in kJ/kg\n",
      "Hfg = 2133.8;             #in kJ/kg\n",
      "H = Ms*(Hf+(x*Hfg));\n",
      "\n",
      "# Results\n",
      "print 'Enthalpy of 1 m**3 steam: %2.2f kJ'%(H);\n",
      "\n",
      "# note : rounding off error."
     ],
     "language": "python",
     "metadata": {},
     "outputs": [
      {
       "output_type": "stream",
       "stream": "stdout",
       "text": [
        "Enthalpy of 1 m**3 steam: 6241.20 kJ\n"
       ]
      }
     ],
     "prompt_number": 41
    },
    {
     "cell_type": "heading",
     "level": 2,
     "metadata": {},
     "source": [
      "Example 4.36 pg : 53"
     ]
    },
    {
     "cell_type": "code",
     "collapsed": false,
     "input": [
      "import math \n",
      "\n",
      "# Variables\n",
      "P1 = 9.;               #in bar\n",
      "P2 = 1.;               #in bar\n",
      "T2 = 115.+273;         #in K\n",
      "m = 1.8;              #in kg\n",
      "m1 = 0.2;             #in kg\n",
      "x1 = m/(m+m1);        #Dryness fraction\n",
      "\n",
      "# Calculations\n",
      "#Now from steam table\n",
      "Hf = 742.8;           #in kJ/kg\n",
      "Hfg = 2031.1;         #in kJ/kg\n",
      "Hg = 2675.5;          #in kJ/kg\n",
      "Tsat = 99+273;        #in K\n",
      "Tsup = 115+273;       #in K\n",
      "Cps = 2.1;            #in kJ/kg K\n",
      "H2 = Hg+(Cps*(Tsup-Tsat));\n",
      "x2 = (H2-Hf)/Hfg;\n",
      "x = x1*x2;\n",
      "\n",
      "# Results\n",
      "print 'The dryness fraction: %2.4f kJ'%(x);\n",
      "\n"
     ],
     "language": "python",
     "metadata": {},
     "outputs": [
      {
       "output_type": "stream",
       "stream": "stdout",
       "text": [
        "The dryness fraction: 0.8713 kJ\n"
       ]
      }
     ],
     "prompt_number": 42
    },
    {
     "cell_type": "heading",
     "level": 2,
     "metadata": {},
     "source": [
      "Example 4.37 pg : 54"
     ]
    },
    {
     "cell_type": "code",
     "collapsed": false,
     "input": [
      "import math \n",
      "\n",
      "# Variables\n",
      "m1 = 0.45;                #in kg\n",
      "m = 7.;                    #in kg\n",
      "P1 = 12.;                  #in bar\n",
      "Bar = 760.;                #mm of Hg Barometer reading\n",
      "Man = 180.;                #mm of Hg Manometer Reading\n",
      "Cps = 2.1;                #in kJ/kg K\n",
      "P = Bar+Man;\n",
      "P2 = (P*1.01325)/760;     #Pressure in bar\n",
      "Tsup = 140.+273;             #in K\n",
      "x1 = m/(m+m1);\n",
      "\n",
      "#Now at 12 bar pressure\n",
      "Hf = 798.6;               #in kJ/kg\n",
      "Hfg = 1986.2;             #in kJ/kg\n",
      "\n",
      "# Calculations\n",
      "#At 1.25 bar pressure\n",
      "Hg = 2685.3;              #in kJ/kg\n",
      "Tsat = 106+273;           #in K\n",
      "#For throttling H1 = H2\n",
      "H2 = Hg+(Cps*(Tsup-Tsat));\n",
      "x2 = (H2-Hf)/Hfg;\n",
      "\n",
      "x = x1*x2;\n",
      "\n",
      "# Results\n",
      "print 'The dryness fraction: %2.3f '%(x);\n",
      "\n"
     ],
     "language": "python",
     "metadata": {},
     "outputs": [
      {
       "output_type": "stream",
       "stream": "stdout",
       "text": [
        "The dryness fraction: 0.926 \n"
       ]
      }
     ],
     "prompt_number": 43
    },
    {
     "cell_type": "heading",
     "level": 2,
     "metadata": {},
     "source": [
      "Example 4.38 pg : 55"
     ]
    },
    {
     "cell_type": "code",
     "collapsed": false,
     "input": [
      "import math \n",
      "\n",
      "# Variables\n",
      "#Case 1\n",
      "P = 10.;               #in bar\n",
      "Cps = 2.1;            #in kJ/kg K\n",
      "x = 0.85;             #Dryness fraction\n",
      "Hf = 762.8;           #in kJ/kg\n",
      "Hfg = 2015.3;         #in kJ/kg\n",
      "Vg = 0.194;           #in m**3/kg\n",
      "Hg = 2778.1;          #in kJ/kg\n",
      "\n",
      "# Calculations and Results\n",
      "H = Hf+(x*Hfg);\n",
      "print 'Case 1: When x = 0.85  ';\n",
      "print 'Enthalpy of steam: %2.2f kJ'%(H);\n",
      "\n",
      "\n",
      "U = H-(P*100*x*Vg);\n",
      "print 'Internal Energy of steam: %2.2f kJ'%(U);\n",
      "\n",
      "\n",
      "#Case 2\n",
      "H = Hg;               #in kJ/kg\n",
      "print ' Case 2: When steam is dry and saturated  ';\n",
      "print 'Enthalpy of steam: %2.2f kJ'%(H);\n",
      "\n",
      "\n",
      "U = H-(P*100*Vg);\n",
      "print 'Internal Energy of steam: %2.2f kJ'%(U);\n",
      "\n",
      "\n",
      "#Case 3\n",
      "Tsup = 300.+273;           #in K\n",
      "Tsat = 179.9+273;             #in K\n",
      "H = Hg+(Cps*(Tsup-Tsat));\n",
      "print ' Case 3: When steam is superheated to 300 C  ';\n",
      "print 'Enthalpy of steam: %2.2f kJ'%(H);\n",
      "\n",
      "\n",
      "Vsup = (Tsup/Tsat)*Vg;\n",
      "U = H-(P*100*Vsup);\n",
      "print 'Internal Energy of steam: %2.2f kJ'%(U);\n",
      "\n"
     ],
     "language": "python",
     "metadata": {},
     "outputs": [
      {
       "output_type": "stream",
       "stream": "stdout",
       "text": [
        "Case 1: When x = 0.85  \n",
        "Enthalpy of steam: 2475.80 kJ\n",
        "Internal Energy of steam: 2310.90 kJ\n",
        " Case 2: When steam is dry and saturated  \n",
        "Enthalpy of steam: 2778.10 kJ\n",
        "Internal Energy of steam: 2584.10 kJ\n",
        " Case 3: When steam is superheated to 300 C  \n",
        "Enthalpy of steam: 3030.31 kJ\n",
        "Internal Energy of steam: 2784.87 kJ\n"
       ]
      }
     ],
     "prompt_number": 44
    },
    {
     "cell_type": "heading",
     "level": 2,
     "metadata": {},
     "source": [
      "Example 4.39 pg : 56"
     ]
    },
    {
     "cell_type": "code",
     "collapsed": false,
     "input": [
      "import math \n",
      "\n",
      "# Variables\n",
      "Ms = 5.;               #in kg\n",
      "P = 5.;                #in bar\n",
      "Tsup = 250.+273;       #in K\n",
      "Cps = 2.1;            #in kJ/kg K\n",
      "Tf = 30.;              #in C\n",
      "Cpw = 4.187;          #in kJ/kg K\n",
      "H1 = Cpw*Tf;\n",
      "\n",
      "# Calculations\n",
      "#At 5 bar pressure\n",
      "Tsat = 151.9+273;         #in K\n",
      "Hg = 2748.7;          #in kJ/kg\n",
      "H2 = Hg+(Cps*(Tsup-Tsat));\n",
      "Q = Ms*(H2-H1);\n",
      "\n",
      "# Results\n",
      "print 'Amount of heat required: %2.2f kJ'%(Q);\n",
      "\n"
     ],
     "language": "python",
     "metadata": {},
     "outputs": [
      {
       "output_type": "stream",
       "stream": "stdout",
       "text": [
        "Amount of heat required: 14145.50 kJ\n"
       ]
      }
     ],
     "prompt_number": 45
    },
    {
     "cell_type": "heading",
     "level": 2,
     "metadata": {},
     "source": [
      "Example 4.40 pg : 56"
     ]
    },
    {
     "cell_type": "code",
     "collapsed": false,
     "input": [
      "\n",
      "# Variables\n",
      "Ms = 3.;               #in kg\n",
      "Tf = 30.;              #in C\n",
      "P = 8.;                #in bar\n",
      "Tsup = 210.+273;       #in K\n",
      "Cps = 2.1;            #in kJ/kg K\n",
      "Cpw = 4.186;          #in kJ/kg K\n",
      "\n",
      "\n",
      "# Calculations\n",
      "H1 = Cpw*Tf;\n",
      "\n",
      "#At 8 bar pressure\n",
      "Tsat = 170.4+273;         #in K\n",
      "Hg = 2769.1;              #in kJ/kg\n",
      "H2 = Hg+(Cps*(Tsup-Tsat));\n",
      "Q = Ms*(H2-H1);\n",
      "\n",
      "# Results\n",
      "print 'Amount of heat required: %2.2f kJ'%(Q);\n",
      "\n"
     ],
     "language": "python",
     "metadata": {},
     "outputs": [
      {
       "output_type": "stream",
       "stream": "stdout",
       "text": [
        "Amount of heat required: 8180.04 kJ\n"
       ]
      }
     ],
     "prompt_number": 46
    },
    {
     "cell_type": "heading",
     "level": 2,
     "metadata": {},
     "source": [
      "Example 4.41 pg : 57"
     ]
    },
    {
     "cell_type": "code",
     "collapsed": false,
     "input": [
      "\n",
      "# Variables\n",
      "#At 7 bar pressure\n",
      "P1 = 7.;               #in bar\n",
      "P2 = 1.;               #in bar\n",
      "n = 1.1;\n",
      "#Now according to law of expansion P(V)**1.1 =  Consmath.tant\n",
      "\n",
      "# Calculations and Results\n",
      "Vg1 = 0.273;          #in m**3/kg\n",
      "V1 = Vg1;\n",
      "V2 = ((P1/P2)**(1./n))*V1;\n",
      "\n",
      "W = ((P1*100*V1)-(P2*100*V2))/(n-1);\n",
      "print 'Work Done: %3.1f kJ/kg'%(W);\n",
      "\n",
      "\n",
      "Hg = 2763.5;          #in kJ/kg\n",
      "H1 = Hg;\n",
      "Vg = 1.694;\n",
      "#At 1 bar, Vg = 1.694 and as V2<Vg steam is wet\n",
      "x = V2/Vg;\n",
      "\n",
      "Hf = 417.5;           #in kJ/kg\n",
      "Hfg = 2258;           #in kJ/kg\n",
      "H2 = Hf+(x*Hfg);\n",
      "\n",
      "U2 = H2-(P2*100*V2);\n",
      "U1 = H1-(P1*100*V1);\n",
      "U = U2-U1;\n",
      "print 'Change in Internal Energy: %3.2f kJ/kg'%(U);\n",
      "\n",
      "\n",
      "Q = U+W;\n",
      "print 'Heat transferred during the process: %3.2f kJ/kg'%(Q);\n",
      "\n",
      "# rounding off error."
     ],
     "language": "python",
     "metadata": {},
     "outputs": [
      {
       "output_type": "stream",
       "stream": "stdout",
       "text": [
        "Work Done: 309.8 kJ/kg\n",
        "Change in Internal Energy: -180.77 kJ/kg\n",
        "Heat transferred during the process: 129.07 kJ/kg\n"
       ]
      }
     ],
     "prompt_number": 48
    }
   ],
   "metadata": {}
  }
 ]
}