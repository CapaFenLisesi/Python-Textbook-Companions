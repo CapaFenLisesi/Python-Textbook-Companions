{
 "metadata": {
  "name": "",
  "signature": "sha256:6e5f6450704919e896069fe3805078dc314d91fc4c78029656065034fd428eff"
 },
 "nbformat": 3,
 "nbformat_minor": 0,
 "worksheets": [
  {
   "cells": [
    {
     "cell_type": "heading",
     "level": 1,
     "metadata": {},
     "source": [
      "Chapter 3 : Properties of Gases"
     ]
    },
    {
     "cell_type": "heading",
     "level": 2,
     "metadata": {},
     "source": [
      "Example 3.1 pg : 20"
     ]
    },
    {
     "cell_type": "code",
     "collapsed": false,
     "input": [
      "\n",
      "\n",
      "#Declaring Values\n",
      "V = 3.;        #Volume in m**3\n",
      "P1 = 2500.;      #Pressure in kilobar\n",
      "P2 = 1500.;\n",
      "T2 = 21.+273;  #Temperature in Kelvin\n",
      "T1 = (T2*P1)/P2;\n",
      "\n",
      "# Calculations\n",
      "Cp = 1.005;\n",
      "Cv = 0.718;\n",
      "R = Cp-Cv;            #Universal Gas Consmath.tant\n",
      "m = (P1*V)/(R*T1);        #Calculating mass\n",
      "H = m*Cp*(T2-T1);\n",
      "U = m*Cv*(T2-T1);\n",
      "Q = U;        #Since Consmath.tant Volume Process: Work Done = 0\n",
      "\n",
      "#Displaying Results\n",
      "print 'Change in Enthalpy: %5.2f kJ'%(H);\n",
      "print 'Change in Internal Energy: %5.f kJ'%(U);\n",
      "print 'Heat Transfer: %4.f kJ'%(Q);\n",
      "print 'As Answer is negative, system rejects heat'\n"
     ],
     "language": "python",
     "metadata": {},
     "outputs": [
      {
       "output_type": "stream",
       "stream": "stdout",
       "text": [
        "Change in Enthalpy: -10505.23 kJ\n",
        "Change in Internal Energy: -7505 kJ\n",
        "Heat Transfer: -7505 kJ\n",
        "As Answer is negative, system rejects heat\n"
       ]
      }
     ],
     "prompt_number": 3
    },
    {
     "cell_type": "heading",
     "level": 2,
     "metadata": {},
     "source": [
      "Example 3.2 pg : 21"
     ]
    },
    {
     "cell_type": "code",
     "collapsed": false,
     "input": [
      "\n",
      "#Inputs\n",
      "m = 1.;        #Mass in kg\n",
      "P1 = 7.;        #Pressure in bar\n",
      "T1 = 90.+273;  #Temperature in K\n",
      "P2 = 1.4;\n",
      "R = 0.287;\n",
      "G = 1.4;      #Gamma for air\n",
      "\n",
      "#Calculations according to data required\n",
      "x = P2/P1;\n",
      "y = 0.1/1.1;\n",
      "z = x**y;\n",
      "T2 = T1*z;        #calculating T2\n",
      "print 'Final Temperature is: %3.1f K'%(T2);\n",
      "\n",
      "W = (m*R*(T1-T2))/(1.1-1);\n",
      "print 'Work Done is: %3.1f kJ'%(W);\n",
      "\n",
      "Cv = (R)/(G-1);\n",
      "Cp = R+Cv;\n",
      "CI = m*Cv*(T2-T1);\n",
      "print 'Change in Internal Energy is: %3.2f kJ'%(CI);\n",
      "\n",
      "Q = CI+W;\n",
      "print 'Heat Transfer is: %3.2f kJ'%(Q);\n",
      "\n"
     ],
     "language": "python",
     "metadata": {},
     "outputs": [
      {
       "output_type": "stream",
       "stream": "stdout",
       "text": [
        "Final Temperature is: 313.6 K\n",
        "Work Done is: 141.8 kJ\n",
        "Change in Internal Energy is: -35.45 kJ\n",
        "Heat Transfer is: 106.35 kJ\n"
       ]
      }
     ],
     "prompt_number": 4
    },
    {
     "cell_type": "heading",
     "level": 2,
     "metadata": {},
     "source": [
      "Example 3.3 pg : 22"
     ]
    },
    {
     "cell_type": "code",
     "collapsed": false,
     "input": [
      "\n",
      "# Variables\n",
      "P1 = 2.75*100;        #Pressure in kPa\n",
      "V1 = 0.09         #Volume in m**3\n",
      "T1 = 185.+273;     #Temperature in Kelvin\n",
      "T2 = 15.+273;\n",
      "R = 0.29;\n",
      "Cp = 1.005;\n",
      "Cv = 0.715;\n",
      "\n",
      "# Calculations and Results\n",
      "m = (P1*V1)/(R*T1);\n",
      "V2 = (T2/T1)*V1;\n",
      "W = P1*(V2-V1);\n",
      "print 'The Work Done: %2.3f kJ'%(W);\n",
      "\n",
      "Q = m*Cp*(T2-T1);\n",
      "print 'The Heat Transfer: %2.2f kJ'%(Q);\n",
      "\n",
      "U = Q-W;\n",
      "print 'The change in Internal Energy: %2.2f kJ'%(U);\n",
      "\n"
     ],
     "language": "python",
     "metadata": {},
     "outputs": [
      {
       "output_type": "stream",
       "stream": "stdout",
       "text": [
        "The Work Done: -9.187 kJ\n",
        "The Heat Transfer: -31.84 kJ\n",
        "The change in Internal Energy: -22.65 kJ\n"
       ]
      }
     ],
     "prompt_number": 7
    },
    {
     "cell_type": "heading",
     "level": 2,
     "metadata": {},
     "source": [
      "Example 3.4 pg : 23"
     ]
    },
    {
     "cell_type": "code",
     "collapsed": false,
     "input": [
      "\n",
      "#Inputs\n",
      "#The Values in the program are as follows:\n",
      "#Temperature in Celcius converted to Kelvin(by adding 273)\n",
      "#Pressure in bar converted to kPa (by multiplying 100)\n",
      "#Volume in m**3\n",
      "#Value of R,Cp and Cv in kJ/kg K\n",
      "m = 0.67;\n",
      "P1 = 14.;\n",
      "T1 = 290.+273;\n",
      "R = 287.;\n",
      "\n",
      "# Calculations and Results\n",
      "V1 = (m*R*T1)/(14*(10**5));\n",
      "print 'The Volume: %2.3f kJ'%(V1);\n",
      "\n",
      "V2 = 4*V1;\n",
      "print 'The Final Volume: %2.3f kJ'%(V2);\n",
      "\n",
      "x = V1/V2;\n",
      "y = x**1.3;\n",
      "P2 = P1*y;\n",
      "print 'The Final Pressure: %2.2f bar'%(P2);\n",
      "\n",
      "x = V1/V2;\n",
      "y = x**0.3;\n",
      "T2 = T1*y;\n",
      "print 'The Final Temperature: %2.2f K'%(T2);\n",
      "\n"
     ],
     "language": "python",
     "metadata": {},
     "outputs": [
      {
       "output_type": "stream",
       "stream": "stdout",
       "text": [
        "The Volume: 0.077 kJ\n",
        "The Final Volume: 0.309 kJ\n",
        "The Final Pressure: 2.31 bar\n",
        "The Final Temperature: 371.44 K\n"
       ]
      }
     ],
     "prompt_number": 10
    },
    {
     "cell_type": "heading",
     "level": 2,
     "metadata": {},
     "source": [
      "Example 3.5 pg : 24"
     ]
    },
    {
     "cell_type": "code",
     "collapsed": false,
     "input": [
      "\n",
      "#Inputs\n",
      "#The Values in the program are as follows:\n",
      "#Temperature in Celcius converted to Kelvin(by adding 273)\n",
      "#Pressure in bar converted to kPa (by multiplying 100)\n",
      "#Volume in m**3\n",
      "#Value of R,Cp and Cv in kJ/kg K\n",
      "P1 = 510.;\n",
      "V1 = 0.142;\n",
      "P2 = 170.;\n",
      "V2 = 0.275;\n",
      "H = -65.;\n",
      "Cv = 0.718;\n",
      "\n",
      "# Calculations and Results\n",
      "X = (P2*V2)-(P1*V1);\n",
      "U = H-X;\n",
      "print 'The Change in Internal Energy: %2.2f kJ'%(U);\n",
      "\n",
      "G = H/U;\n",
      "Cp = G*Cv;\n",
      "R = Cp-Cv;\n",
      "print 'The Value of R: %2.3f kJ/kg K'%(R);\n",
      "\n"
     ],
     "language": "python",
     "metadata": {},
     "outputs": [
      {
       "output_type": "stream",
       "stream": "stdout",
       "text": [
        "The Change in Internal Energy: -39.33 kJ\n",
        "The Value of R: 0.469 kJ/kg K\n"
       ]
      }
     ],
     "prompt_number": 11
    },
    {
     "cell_type": "heading",
     "level": 2,
     "metadata": {},
     "source": [
      "Example 3.6 pg : 24"
     ]
    },
    {
     "cell_type": "code",
     "collapsed": false,
     "input": [
      "\n",
      "#Inputs\n",
      "#The Values in the program are as follows:\n",
      "#Temperature in Celcius converted to Kelvin(by adding 273)\n",
      "#Pressure in bar converted to kPa (by multiplying 100)\n",
      "#Volume in m**3\n",
      "#Value of R,Cp and Cv in kJ/kg K\n",
      "P1 = 25.;\n",
      "T1 = 27.+273;\n",
      "P2 = 5.;\n",
      "T2 = 20.+273;\n",
      "V1 = 0.7;\n",
      "Et = 1.43;\n",
      "Pn = 101.325;\n",
      "Tn = 273.;\n",
      "\n",
      "#Calculations\n",
      "R = (Pn)/(Et*Tn);\n",
      "m1 = (Pn*V1)/(R*Tn);\n",
      "V2 = (m1*R*T1)/(P1*100);\n",
      "m2 = (P2*100*V2)/(R*T2);\n",
      "mf = m1-m2;\n",
      "\n",
      "# Results\n",
      "print 'The mass of Oxygen used: %3.3f kg'%(mf);\n",
      "\n"
     ],
     "language": "python",
     "metadata": {},
     "outputs": [
      {
       "output_type": "stream",
       "stream": "stdout",
       "text": [
        "The mass of Oxygen used: 0.796 kg\n"
       ]
      }
     ],
     "prompt_number": 12
    },
    {
     "cell_type": "heading",
     "level": 2,
     "metadata": {},
     "source": [
      "Example 3.7 pg : 25"
     ]
    },
    {
     "cell_type": "code",
     "collapsed": false,
     "input": [
      "\n",
      "#Inputs\n",
      "#The Values in the program are as follows:\n",
      "#Temperature in Celcius converted to Kelvin(by adding 273)\n",
      "#Pressure in bar converted to kPa (by multiplying 100)\n",
      "#Volume in m**3\n",
      "#Value of R,Cp and Cv in kJ/kg K\n",
      "n = 1.3;\n",
      "m = 1.;\n",
      "T1 = 300.;\n",
      "T2 = 200.;\n",
      "W = 90.;\n",
      "Ro = 8.3143;\n",
      "\n",
      "# Calculations\n",
      "R = ((n-m)*W)/((T1-T2)*m);\n",
      "M = Ro/R;\n",
      "\n",
      "# Results\n",
      "print 'The molecular mass of gas is: %3.1f kg/kg mole'%(M);\n",
      "\n"
     ],
     "language": "python",
     "metadata": {},
     "outputs": [
      {
       "output_type": "stream",
       "stream": "stdout",
       "text": [
        "The molecular mass of gas is: 30.8 kg/kg mole\n"
       ]
      }
     ],
     "prompt_number": 13
    },
    {
     "cell_type": "heading",
     "level": 2,
     "metadata": {},
     "source": [
      "Example 3.8 pg : 26"
     ]
    },
    {
     "cell_type": "code",
     "collapsed": false,
     "input": [
      "import math \n",
      "\n",
      "#Inputs\n",
      "#The Values in the program are as follows:\n",
      "#Temperature in Celcius converted to Kelvin(by adding 273)\n",
      "#Pressure in bar converted to kPa (by multiplying 100)\n",
      "#Volume in m**3\n",
      "#Value of R,Cp and Cv in kJ/kg K\n",
      "m = 0.18;\n",
      "V1 = 0.15;\n",
      "T1 = 15.+273;\n",
      "P1 = 100.;\n",
      "V2 = 0.056;\n",
      "P2 = 400.;\n",
      "\n",
      "# Calculations and Results\n",
      "R = (P1*V1)/(m*T1);\n",
      "print 'The Gas Consmath.tant: %3.3f kJ/kg K'%(R);\n",
      "\n",
      "M = 8.3141/R;\n",
      "print 'The Molecular Mass of Gas: %3.2f kg/kg mole'%(M);\n",
      "\n",
      "x = math.log(P2/P1);\n",
      "y = math.log(V2/V1);\n",
      "G = -(x/y);\n",
      "Cv = R/(G-1);\n",
      "print 'The Cv: %3.2f kJ/kg K'%(Cv);\n",
      "\n",
      "Cp = Cv+R;\n",
      "print 'The Cp: %3.2f kJ/kg K'%(Cp);\n",
      "\n",
      "x = (G-1)/G;\n",
      "y = P2/P1;\n",
      "z = y**x;\n",
      "T2 = T1*z;\n",
      "U = m*Cv*(T2-T1);\n",
      "print 'The change in Internal Energy: %3.2f kJ'%(U);\n",
      "\n"
     ],
     "language": "python",
     "metadata": {},
     "outputs": [
      {
       "output_type": "stream",
       "stream": "stdout",
       "text": [
        "The Gas Consmath.tant: 0.289 kJ/kg K\n",
        "The Molecular Mass of Gas: 28.73 kg/kg mole\n",
        "The Cv: 0.71 kJ/kg K\n",
        "The Cp: 1.00 kJ/kg K\n",
        "The change in Internal Energy: 18.18 kJ\n"
       ]
      }
     ],
     "prompt_number": 16
    },
    {
     "cell_type": "heading",
     "level": 2,
     "metadata": {},
     "source": [
      "Example 3.9 pg : 26"
     ]
    },
    {
     "cell_type": "code",
     "collapsed": false,
     "input": [
      "import math \n",
      "\n",
      "#Inputs\n",
      "#The Values in the program are as follows:\n",
      "#Temperature in Celcius converted to Kelvin(by adding 273)\n",
      "#Pressure in bar converted to kPa (by multiplying 100)\n",
      "#Volume in m**3\n",
      "#Value of R,Cp and Cv in kJ/kg K\n",
      "P1 = 100.;\n",
      "V1 = 0.25;\n",
      "T1 = 100.+273;\n",
      "V2 = 0.05;\n",
      "P2 = 750.;\n",
      "G = 1.4;\n",
      "R = 0.298;\n",
      "\n",
      "# Calculations and Results\n",
      "n = (math.log(P2/P1))/(math.log(V1/V2));\n",
      "print 'The Index n: %1.2f '%(n);\n",
      "\n",
      "T2 = T1*((P2/P1)**((n-1)/n));\n",
      "Cv = R/(G-1);\n",
      "Cp = R+Cv;\n",
      "m = (P1*V1)/(R*T1);\n",
      "W = (m*R*(T1-T2))/(n-1);\n",
      "Q = ((G-n)/(G-1))*W;\n",
      "print 'The Heat change: %2.2f kJ'%(Q);\n",
      "\n",
      "U = m*Cv*(T2-T1);\n",
      "print 'The change in Internal Energy: %2.2f kJ'%(U);\n",
      "\n",
      " \n"
     ],
     "language": "python",
     "metadata": {},
     "outputs": [
      {
       "output_type": "stream",
       "stream": "stdout",
       "text": [
        "The Index n: 1.25 \n",
        "The Heat change: -18.37 kJ\n",
        "The change in Internal Energy: 31.25 kJ\n"
       ]
      }
     ],
     "prompt_number": 17
    },
    {
     "cell_type": "heading",
     "level": 2,
     "metadata": {},
     "source": [
      "Example 3.13 pg : 30"
     ]
    },
    {
     "cell_type": "code",
     "collapsed": false,
     "input": [
      "\n",
      "#Inputs\n",
      "#The Values in the program are as follows:\n",
      "#Temperature in Celcius converted to Kelvin(by adding 273)\n",
      "#Pressure in bar converted to kPa (by multiplying 100)\n",
      "#Volume in m**3\n",
      "#Value of R,Cp and Cv in kJ/kg K\n",
      "m = 1.;\n",
      "P2 = 25.;\n",
      "P1 = 1.;\n",
      "pV = 260.;\n",
      "T1 = 17.+273;\n",
      "\n",
      "# Calculations and Results\n",
      "T2 = T1;\n",
      "V1 = (pV*T1)/(P1*100000);\n",
      "print 'As process is Isothermal, Initial and Final Temperatures are same ';\n",
      "print 'The Final Temperature: %3.0f K'%(T1);\n",
      "\n",
      "V2 = (pV*T2)/(P2*100000);\n",
      "print 'The Final Volume: %3.5f m**3'%(V2);\n",
      "\n",
      "CR = P2/P1;\n",
      "print 'The Compression Ratio: %3.0f '%(CR);\n",
      "\n",
      "print 'Change in Enthalpy is zero as it is Isothermal process ';\n",
      "W = P1*100*V1*(math.log(P1/P2));\n",
      "print 'Work Done is: %3.1f kJ'%(W);\n",
      "\n"
     ],
     "language": "python",
     "metadata": {},
     "outputs": [
      {
       "output_type": "stream",
       "stream": "stdout",
       "text": [
        "As process is Isothermal, Initial and Final Temperatures are same \n",
        "The Final Temperature: 290 K\n",
        "The Final Volume: 0.03016 m**3\n",
        "The Compression Ratio:  25 \n",
        "Change in Enthalpy is zero as it is Isothermal process \n",
        "Work Done is: -242.7 kJ\n"
       ]
      }
     ],
     "prompt_number": 19
    },
    {
     "cell_type": "heading",
     "level": 2,
     "metadata": {},
     "source": [
      "Example 3.14 pg : 31"
     ]
    },
    {
     "cell_type": "code",
     "collapsed": false,
     "input": [
      "\n",
      "#Inputs\n",
      "#The Values in the program are as follows:\n",
      "#Temperature in Celcius converted to Kelvin(by adding 273)\n",
      "#Pressure in bar converted to kPa (by multiplying 100)\n",
      "#Volume in m**3\n",
      "#Value of R,Cp and Cv in kJ/kg K\n",
      "P2 = 6.;\n",
      "Cp = 1.75;\n",
      "P1 = 1.;\n",
      "n = 1.3;\n",
      "T1 = 30.+273;\n",
      "M = 30.;\n",
      "m = 2.;\n",
      "Ro = 8314.4;\n",
      "\n",
      "# Calculations and Results\n",
      "R = (Ro/M)/1000;\n",
      "print 'The Gas Consmath.tant: %3.3f kJ/kg K'%( R);\n",
      "\n",
      "Cv = Cp-R;\n",
      "G = Cp/Cv;\n",
      "print 'The value of Gamma: %1.2f '%(G);\n",
      "\n",
      "T2 = (T1)*((P2/P1)**((n-1)/n));\n",
      "print 'Final Temperature: %3.2f K'%(T2);\n",
      "\n",
      "W = (m*R*(T1-T2))/(n-1);\n",
      "print 'The work done on the gas: %3.2f kJ'%(W);\n",
      "\n",
      "Q = ((G-n)/(G-1))*W;\n",
      "print 'The Heat Transfer is %3.2f kJ'%(Q);\n",
      "\n",
      "U = m*Cv*(T2-T1);\n",
      "print 'The change in Internal Energy is %3.2f kJ'%(U);\n",
      "\n",
      "# note : answer may vary because of rounding off error."
     ],
     "language": "python",
     "metadata": {},
     "outputs": [
      {
       "output_type": "stream",
       "stream": "stdout",
       "text": [
        "The Gas Consmath.tant: 0.277 kJ/kg K\n",
        "The value of Gamma: 1.19 \n",
        "Final Temperature: 458.16 K\n",
        "The work done on the gas: -286.68 kJ\n",
        "The Heat Transfer is 170.37 kJ\n",
        "The change in Internal Energy is 457.05 kJ\n"
       ]
      }
     ],
     "prompt_number": 21
    },
    {
     "cell_type": "heading",
     "level": 2,
     "metadata": {},
     "source": [
      "Example 3.15 pg : 32"
     ]
    },
    {
     "cell_type": "code",
     "collapsed": false,
     "input": [
      "\n",
      "#Inputs\n",
      "#The Values in the program are as follows:\n",
      "#Temperature in Celcius converted to Kelvin(by adding 273)\n",
      "#Pressure in bar converted to kPa (by multiplying 100)\n",
      "#Volume in m**3\n",
      "#Value of R,Cp and Cv in kJ/kg K\n",
      "P1 = 350.;\n",
      "P2 = 130.;\n",
      "R = 0.287;\n",
      "T1 = 450.;\n",
      "G = 1.4;\n",
      "m = 1.;\n",
      "\n",
      "# Calculations and Results\n",
      "T2 = T1*((P2/P1)**((G-1)/G));\n",
      "W = (m*R*(T1-T2))/(G-1);\n",
      "print 'Amount of External Work done: %3.2f kJ/kg'%(W);\n",
      "\n",
      "U = -W;\n",
      "print 'Change in Internal Energy: %3.2f kJ/kg'%(U);\n",
      "\n"
     ],
     "language": "python",
     "metadata": {},
     "outputs": [
      {
       "output_type": "stream",
       "stream": "stdout",
       "text": [
        "Amount of External Work done: 79.58 kJ/kg\n",
        "Change in Internal Energy: -79.58 kJ/kg\n"
       ]
      }
     ],
     "prompt_number": 22
    },
    {
     "cell_type": "heading",
     "level": 2,
     "metadata": {},
     "source": [
      "Example 3.16 pg : 33"
     ]
    },
    {
     "cell_type": "code",
     "collapsed": false,
     "input": [
      "\n",
      "#Inputs\n",
      "#The Values in the program are as follows:\n",
      "#Temperature in Celcius converted to Kelvin(by adding 273)\n",
      "#Pressure in bar converted to kPa (by multiplying 100)\n",
      "#Volume in m**3\n",
      "#Value of R,Cp and Cv in kJ/kg K\n",
      "P1 = 1.5;\n",
      "V1 = 0.1;\n",
      "V2 = 0.04;\n",
      "P2 = 7.5;\n",
      "T1 = 30+273;\n",
      "\n",
      "# Calculations\n",
      "#Umath.sing ideal gas equation\n",
      "T2 = (P2*V2*T1)/(P1*V1);\n",
      "\n",
      "# Results\n",
      "print 'The Value of Temperature of gas: %3.0f C'%(T2 - 273);\n"
     ],
     "language": "python",
     "metadata": {},
     "outputs": [
      {
       "output_type": "stream",
       "stream": "stdout",
       "text": [
        "The Value of Temperature of gas: 333 C\n"
       ]
      }
     ],
     "prompt_number": 24
    },
    {
     "cell_type": "heading",
     "level": 2,
     "metadata": {},
     "source": [
      "Example 3.17 pg : 33"
     ]
    },
    {
     "cell_type": "code",
     "collapsed": false,
     "input": [
      "#Inputs\n",
      "#The Values in the program are as follows:\n",
      "#Temperature in Celcius converted to Kelvin(by adding 273)\n",
      "#Pressure in bar converted to kPa (by multiplying 100)\n",
      "#Volume in m**3\n",
      "#Value of R,Cp and Cv in kJ/kg K\n",
      "P1 = 1.5;\n",
      "V1 = 3.;\n",
      "T1 = 27.+273;\n",
      "P2 = 30.;\n",
      "T2 = 60.+273;\n",
      "R = 0.287;\n",
      "\n",
      "# Calculations and Results\n",
      "m1 = (P1*100*V1)/(R*T1);\n",
      "m2 = (P2*100*V1)/(R*T2);\n",
      "\n",
      "m = m2-m1;\n",
      "print 'The mass pumped: %2.2f kg'%(m);\n",
      "\n",
      "V = (m*R*(17+273))/(1*100);\n",
      "\n",
      "print 'Volume: %2.2f m**3'%(V);\n",
      "\n",
      "\n",
      "T3 = 27+273;\n",
      "P3 = (T3*P2)/T2;\n",
      "\n",
      "print 'Final air pressure in the vessel: %2.2f bar'%(P3);\n",
      "\n"
     ],
     "language": "python",
     "metadata": {},
     "outputs": [
      {
       "output_type": "stream",
       "stream": "stdout",
       "text": [
        "The mass pumped: 88.94 kg\n",
        "Volume: 74.03 m**3\n",
        "Final air pressure in the vessel: 27.03 bar\n"
       ]
      }
     ],
     "prompt_number": 25
    },
    {
     "cell_type": "heading",
     "level": 2,
     "metadata": {},
     "source": [
      "Example 3.18 pg : 34"
     ]
    },
    {
     "cell_type": "code",
     "collapsed": false,
     "input": [
      "#Inputs\n",
      "#The Values in the program are as follows:\n",
      "#Temperature in Celcius converted to Kelvin(by adding 273)\n",
      "#Pressure in bar converted to kPa (by multiplying 100)\n",
      "#Volume in m**3\n",
      "#Value of R,Cp and Cv in kJ/kg K\n",
      "V1 = 1.5;\n",
      "m = 2.;\n",
      "T1 = 27.+273;\n",
      "T2 = 207.+273;\n",
      "V2 = V1;\n",
      "M = 28.;\n",
      "Ro = 8.314;\n",
      "\n",
      "# Calculations and Results\n",
      "R = Ro/M;\n",
      "P1 = (m*R*T1)/V1;\n",
      "print 'The initial pressure of gas: %3.3f bar'%(P1/100);\n",
      "\n",
      "P2 = (P1*T2)/T1;\n",
      "print 'The final pressure of gas: %3.3f bar'%(P2/100);\n",
      "\n"
     ],
     "language": "python",
     "metadata": {},
     "outputs": [
      {
       "output_type": "stream",
       "stream": "stdout",
       "text": [
        "The initial pressure of gas: 1.188 bar\n",
        "The final pressure of gas: 1.900 bar\n"
       ]
      }
     ],
     "prompt_number": 26
    },
    {
     "cell_type": "heading",
     "level": 2,
     "metadata": {},
     "source": [
      "Example 3.19 pg : 35"
     ]
    },
    {
     "cell_type": "code",
     "collapsed": false,
     "input": [
      "#Inputs\n",
      "#The Values in the program are as follows:\n",
      "#Temperature in Celcius converted to Kelvin(by adding 273)\n",
      "#Pressure in bar converted to kPa (by multiplying 100)\n",
      "#Volume in m**3\n",
      "#Value of R,Cp and Cv in kJ/kg K\n",
      "T1 = 27.+273;\n",
      "V1 = 0.06;\n",
      "P1 = 150.;\n",
      "Ro = 8.314;\n",
      "M = 28.;\n",
      "\n",
      "# Calculations and Results\n",
      "R = Ro/M;\n",
      "m = (P1*100*V1)/(R*T1);\n",
      "print 'Mass of gas at design condition: %2.1f kg'%(m);\n",
      "\n",
      "P2 = 170.;\n",
      "T2 = (T1*P2)/P1;\n",
      "print 'Fusible plug should melt at: %3.0f K'%(T2);\n",
      "\n"
     ],
     "language": "python",
     "metadata": {},
     "outputs": [
      {
       "output_type": "stream",
       "stream": "stdout",
       "text": [
        "Mass of gas at design condition: 10.1 kg\n",
        "Fusible plug should melt at: 340 K\n"
       ]
      }
     ],
     "prompt_number": 27
    },
    {
     "cell_type": "heading",
     "level": 2,
     "metadata": {},
     "source": [
      "Example 3.20 pg : 35"
     ]
    },
    {
     "cell_type": "code",
     "collapsed": false,
     "input": [
      "\n",
      "#Inputs\n",
      "#The Values in the program are as follows:\n",
      "#Temperature in Celcius converted to Kelvin(by adding 273)\n",
      "#Pressure in bar converted to kPa (by multiplying 100)\n",
      "#Volume in m**3\n",
      "#Value of R,Cp and Cv in kJ/kg K\n",
      "P1 = 7.;\n",
      "m = 3.7;\n",
      "V1 = 1.5;\n",
      "P2 = 1.4;\n",
      "V2 = 4.5;\n",
      "U = 648.;\n",
      "Cv = 1.05;\n",
      "\n",
      "# Calculations and Results\n",
      "RT1 = (P1*100*V1)/(m);\n",
      "RT2 = (P2*100*V2)/(m);\n",
      "\n",
      "RT = RT1-RT2;\n",
      "T = (U)/(m*Cv);\n",
      "R = (RT/T)\n",
      "print 'The value of R: %1.3f kJ/kg K'%(R);\n",
      "\n",
      "\n",
      "Cp = Cv+R;\n",
      "H = m*Cp*(-T);\n",
      "print 'The change in enthalpy is: %4.2f kJ'%(H);\n",
      "\n",
      "\n",
      "T1 = RT1/R;\n",
      "T2 = RT2/R;\n",
      "\n",
      "print 'Initial Temperature: %3.2f K '%(T1);\n",
      "print 'Final Temperature: %3.f K '%(T2);\n"
     ],
     "language": "python",
     "metadata": {},
     "outputs": [
      {
       "output_type": "stream",
       "stream": "stdout",
       "text": [
        "The value of R: 0.681 kJ/kg K\n",
        "The change in enthalpy is: -1068.00 kJ\n",
        "Initial Temperature: 416.99 K \n",
        "Final Temperature: 250 K \n"
       ]
      }
     ],
     "prompt_number": 29
    },
    {
     "cell_type": "heading",
     "level": 2,
     "metadata": {},
     "source": [
      "Example 3.21 pg : 36"
     ]
    },
    {
     "cell_type": "code",
     "collapsed": false,
     "input": [
      "\n",
      "#Inputs\n",
      "#The Values in the program are as follows:\n",
      "#Temperature in Celcius converted to Kelvin(by adding 273)\n",
      "#Pressure in bar converted to kPa (by multiplying 100)\n",
      "#Volume in m**3\n",
      "#Value of R,Cp and Cv in kJ/kg K\n",
      "V = 1.6;\n",
      "P = 1.;\n",
      "m = 2.;\n",
      "T = 17.+273;\n",
      "G = 1.4;\n",
      "\n",
      "# Calculations and Results\n",
      "R = (P*100*V)/(m*T);\n",
      "Cv = (R)/(G-1);\n",
      "print 'The Value of Cv: %1.2f kJ/kg K'%(Cv);\n",
      "\n",
      "\n",
      "Cp = Cv+R;\n",
      "print 'The Value of Cp: %1.3f kJ/kg K'%(Cp);\n"
     ],
     "language": "python",
     "metadata": {},
     "outputs": [
      {
       "output_type": "stream",
       "stream": "stdout",
       "text": [
        "The Value of Cv: 0.69 kJ/kg K\n",
        "The Value of Cp: 0.966 kJ/kg K\n"
       ]
      }
     ],
     "prompt_number": 30
    },
    {
     "cell_type": "heading",
     "level": 2,
     "metadata": {},
     "source": [
      "Example 3.22 pg : 37"
     ]
    },
    {
     "cell_type": "code",
     "collapsed": false,
     "input": [
      "\n",
      "#Inputs\n",
      "#The Values in the program are as follows:\n",
      "#Temperature in Celcius converted to Kelvin(by adding 273)\n",
      "#Pressure in bar converted to kPa (by multiplying 100)\n",
      "#Volume in m**3\n",
      "#Value of R,Cp and Cv in kJ/kg K\n",
      "V1 = 0.091;\n",
      "P1 = 2.73;\n",
      "T1 = 187.+273;\n",
      "T2 = 27.+273;\n",
      "Cp = 1.005;\n",
      "Cv = 0.718;\n",
      "\n",
      "# Calculations and Results\n",
      "R = Cp-Cv;\n",
      "\n",
      "m = (P1*100*V1)/(R*T1);\n",
      "Q = m*Cp*(T2-T1);\n",
      "print 'The Value of heat transferred: %1.2f kJ'%(Q);\n",
      "\n",
      "\n",
      "V2 = (T2*V1)/T1;\n",
      "W = P1*100*(V2-V1);\n",
      "print 'The Value of Work done: %1.2f kJ'%(W);\n",
      "\n"
     ],
     "language": "python",
     "metadata": {},
     "outputs": [
      {
       "output_type": "stream",
       "stream": "stdout",
       "text": [
        "The Value of heat transferred: -30.26 kJ\n",
        "The Value of Work done: -8.64 kJ\n"
       ]
      }
     ],
     "prompt_number": 31
    },
    {
     "cell_type": "heading",
     "level": 2,
     "metadata": {},
     "source": [
      "Example 3.23 pg : 37"
     ]
    },
    {
     "cell_type": "code",
     "collapsed": false,
     "input": [
      "\n",
      "#Inputs\n",
      "#The Values in the program are as follows:\n",
      "#Temperature in Celcius converted to Kelvin(by adding 273)\n",
      "#Pressure in bar converted to kPa (by multiplying 100)\n",
      "#Volume in m**3\n",
      "#Value of R,Cp and Cv in kJ/kg K\n",
      "m = 28.;\n",
      "V1 = 3.;\n",
      "T1 = 100.+273;\n",
      "T2 = 37.+273;\n",
      "G = 1.4;\n",
      "Ro = 8.314;\n",
      "\n",
      "# Calculations and Results\n",
      "v = V1/m;\n",
      "R = Ro/m;\n",
      "\n",
      "P1 = (m*R*T1)/V1;\n",
      "\n",
      "print 'The Specific Volume: %1.3f m**3/kg'%(v);\n",
      "\n",
      "\n",
      "print 'The Initial Pressure: %1.2f kPa'%(P1);\n",
      "\n",
      "\n",
      "P2 = (P1*T2)/T1;\n",
      "print 'The Final Pressure: %1.2f kPa'%(P2);\n",
      "\n",
      "\n",
      "Cv = (R)/(G-1);\n",
      "Cp = Cv*G;\n",
      "U = m*Cv*(T2-T1);\n",
      "H = m*Cp*(T2-T1);\n",
      "\n",
      "print 'Change in Internal Energy: %1.2f kJ'%(U);\n",
      "\n",
      "\n",
      "\n",
      "print 'Change in Heat energy: %1.2f kJ'%(H);\n",
      "\n"
     ],
     "language": "python",
     "metadata": {},
     "outputs": [
      {
       "output_type": "stream",
       "stream": "stdout",
       "text": [
        "The Specific Volume: 0.107 m**3/kg\n",
        "The Initial Pressure: 1033.71 kPa\n",
        "The Final Pressure: 859.11 kPa\n",
        "Change in Internal Energy: -1309.46 kJ\n",
        "Change in Heat energy: -1833.24 kJ\n"
       ]
      }
     ],
     "prompt_number": 32
    },
    {
     "cell_type": "heading",
     "level": 2,
     "metadata": {},
     "source": [
      "Example 3.24 pg : 38"
     ]
    },
    {
     "cell_type": "code",
     "collapsed": false,
     "input": [
      "\n",
      "#Inputs\n",
      "#The Values in the program are as follows:\n",
      "#Temperature in Celcius converted to Kelvin(by adding 273)\n",
      "#Pressure in bar converted to kPa (by multiplying 100)\n",
      "#Volume in m**3\n",
      "#Value of R,Cp and Cv in kJ/kg K\n",
      "V1 = 3.;\n",
      "V1 = V1*100;      #In kPa\n",
      "P1 = 2.;\n",
      "T1 = 73.+273;\n",
      "P2 = 7.;\n",
      "R = 0.287;\n",
      "Cv = 0.718;\n",
      "Cp = 1.005;\n",
      "\n",
      "# Calculations\n",
      "m = (P1*V1)/(R*T1);\n",
      "T2 = (P2*T1)/P1;\n",
      "\n",
      "U = m*Cv*(T2-T1);\n",
      "H = m*Cp*(T2-T1);\n",
      "\n",
      "# Results\n",
      "print 'Change in Internal Energy: %1.2f kJ'%(U);\n",
      "print 'Change in heat Energy: %1.2f kJ'%(H);\n",
      "\n"
     ],
     "language": "python",
     "metadata": {},
     "outputs": [
      {
       "output_type": "stream",
       "stream": "stdout",
       "text": [
        "Change in Internal Energy: 3752.61 kJ\n",
        "Change in heat Energy: 5252.61 kJ\n"
       ]
      }
     ],
     "prompt_number": 33
    },
    {
     "cell_type": "heading",
     "level": 2,
     "metadata": {},
     "source": [
      "Example 3.25 pg : 39"
     ]
    },
    {
     "cell_type": "code",
     "collapsed": false,
     "input": [
      "\n",
      "#Inputs\n",
      "#The Values in the program are as follows:\n",
      "#Temperature in Celcius converted to Kelvin(by adding 273)\n",
      "#Pressure in bar converted to kPa (by multiplying 100)\n",
      "#Volume in m**3\n",
      "#Value of R,Cp and Cv in kJ/kg K\n",
      "m = 1.;\n",
      "T1 = 27.+273;\n",
      "T2 = 197.+273;\n",
      "V1 = 2.1;\n",
      "R = 0.287;\n",
      "Cp = 1.005;\n",
      "\n",
      "# Calculations and Results\n",
      "W = m*R*(T2-T1);\n",
      "print 'Work Done: %1.2f kJ'%(W);\n",
      "\n",
      "\n",
      "Q = m*Cp*(T2-T1);\n",
      "U = Q-W;\n",
      "\n",
      "print 'Change in Heat Energy: %1.2f kJ'%(Q);\n",
      "print 'Change in Internal Energy: %1.2f kJ'%(U);\n",
      "\n",
      "\n",
      "P = (m*R*T1)/(V1);\n",
      "V2 = (V1*T2)/(T1);\n",
      "print 'Pressure: %1.2f kPa'%(P);\n",
      "print 'Final Volume: %1.1f m**3'%(V2);\n",
      "\n"
     ],
     "language": "python",
     "metadata": {},
     "outputs": [
      {
       "output_type": "stream",
       "stream": "stdout",
       "text": [
        "Work Done: 48.79 kJ\n",
        "Change in Heat Energy: 170.85 kJ\n",
        "Change in Internal Energy: 122.06 kJ\n",
        "Pressure: 41.00 kPa\n",
        "Final Volume: 3.3 m**3\n"
       ]
      }
     ],
     "prompt_number": 34
    },
    {
     "cell_type": "heading",
     "level": 2,
     "metadata": {},
     "source": [
      "Example 3.26 pg : 39"
     ]
    },
    {
     "cell_type": "code",
     "collapsed": false,
     "input": [
      "import math \n",
      "\n",
      "#Inputs\n",
      "#The Values in the program are as follows:\n",
      "#Temperature in Celcius converted to Kelvin(by adding 273)\n",
      "#Pressure in bar converted to kPa (by multiplying 100)\n",
      "#Volume in m**3\n",
      "#Value of R,Cp and Cv in kJ/kg K\n",
      "V1 = 0.5;\n",
      "P1 = 0.3;\n",
      "V2 = 0.1;\n",
      "\n",
      "# Calculations and Results\n",
      "P2 = (P1*V1)/(V2);\n",
      "print 'Final Pressure: %1.2f bar'%(P2);\n",
      "\n",
      "W = (P1*100*V1)*(math.log(V2/V1));\n",
      "print 'Work Done: %1.2f kJ'%(W);\n",
      "print 'Change in Internal Energy: 0 kJ as it is Isothermal Process';\n",
      "print 'Change in Heat Energy: %1.2f kJ'%(W);\n",
      "\n"
     ],
     "language": "python",
     "metadata": {},
     "outputs": [
      {
       "output_type": "stream",
       "stream": "stdout",
       "text": [
        "Final Pressure: 1.50 bar\n",
        "Work Done: -24.14 kJ\n",
        "Change in Internal Energy: 0 kJ as it is Isothermal Process\n",
        "Change in Heat Energy: -24.14 kJ\n"
       ]
      }
     ],
     "prompt_number": 35
    },
    {
     "cell_type": "heading",
     "level": 2,
     "metadata": {},
     "source": [
      "Example 3.27 pg : 40"
     ]
    },
    {
     "cell_type": "code",
     "collapsed": false,
     "input": [
      "import math \n",
      "\n",
      "#Inputs\n",
      "#The Values in the program are as follows:\n",
      "#Temperature in Celcius converted to Kelvin(by adding 273)\n",
      "#Pressure in bar converted to kPa (by multiplying 100)\n",
      "#Volume in m**3\n",
      "#Value of R,Cp and Cv in kJ/kg K\n",
      "m = 0.19;\n",
      "P1 = 1.;\n",
      "V1 = 0.16;\n",
      "T1 = 17.+273;\n",
      "P2 = 4.1;\n",
      "V2 = 0.046;\n",
      "Ro = 8.314;\n",
      "\n",
      "# Calculations and Results\n",
      "R = (P1*100*V1)/(m*T1);\n",
      "print 'Gas Constant: %1.2f kJ/kg K'%(R);\n",
      "\n",
      "M = Ro/R;\n",
      "print 'Molecular Mass: %1.2f kg/kg mole'%(M);\n",
      "\n",
      "G = (math.log(P1/P2))/(math.log(V2/V1));\n",
      "print 'Ratio of Specific Heats: %1.2f '%(G);\n",
      "\n",
      "Cv = (R)/(G-1);\n",
      "print 'Value of Cv: %1.2f kJ/kg K'%(Cv);\n",
      "\n",
      "Cp = G*Cv;\n",
      "print 'Value of Cp: %1.2f kJ/kg K'%(Cp);\n",
      "\n",
      "T2 = (P2*100*V2)/(m*R);\n",
      "U = m*Cv*(T2-T1);\n",
      "print 'Change in Internal Energy: %1.2f kJ'%(U);\n",
      "\n",
      "H = m*Cp*(T2-T1);\n",
      "print 'Heat Transfer: %1.2f kJ'%(H);\n",
      "\n",
      "W = ((P1*100*V1)-(P2*100*V2))/(G-1);\n",
      "print 'Work Done: %1.2f kJ'%(W);\n",
      "\n",
      "# note : rounding off error."
     ],
     "language": "python",
     "metadata": {},
     "outputs": [
      {
       "output_type": "stream",
       "stream": "stdout",
       "text": [
        "Gas Constant: 0.29 kJ/kg K\n",
        "Molecular Mass: 28.63 kg/kg mole\n",
        "Ratio of Specific Heats: 1.13 \n",
        "Value of Cv: 2.20 kJ/kg K\n",
        "Value of Cp: 2.49 kJ/kg K\n",
        "Change in Internal Energy: 21.68 kJ\n",
        "Heat Transfer: 24.54 kJ\n",
        "Work Done: -21.68 kJ\n"
       ]
      }
     ],
     "prompt_number": 37
    },
    {
     "cell_type": "heading",
     "level": 2,
     "metadata": {},
     "source": [
      "Example 3.28 pg : 41"
     ]
    },
    {
     "cell_type": "code",
     "collapsed": false,
     "input": [
      "\n",
      "#Inputs\n",
      "#The Values in the program are as follows:\n",
      "#Temperature in Celcius converted to Kelvin(by adding 273)\n",
      "#Pressure in bar converted to kPa (by multiplying 100)\n",
      "#Volume in m**3\n",
      "#Value of R,Cp and Cv in kJ/kg K\n",
      "V1 = 0.19;\n",
      "P1 = 5.;\n",
      "T1 = 190.+273;\n",
      "P2 = 1.;\n",
      "H = 100.;\n",
      "G = 1.4;\n",
      "R = 0.287;\n",
      "Cp = 1.005;\n",
      "\n",
      "# Calculations\n",
      "V2 = V1*((P1/P2)**(1./G));\n",
      "W = ((P1*100*V1)-(P2*100*V2))/(G-1);\n",
      "m = (P1*100*V1)/(R*T1);\n",
      "T2 = T1*((P2/P1)**((G-1)/G))\n",
      "x = H/(m*Cp);\n",
      "T3 = x+T2;\n",
      "\n",
      "V3 = (V2*T3)/T2;\n",
      "Wo = P2*100*(V3-V2);\n",
      "Wf = W+Wo;\n",
      "\n",
      "# Results\n",
      "print 'Total Work Done: %1.2f kJ'%(Wf);\n",
      "\n",
      "# note: rounding off error."
     ],
     "language": "python",
     "metadata": {},
     "outputs": [
      {
       "output_type": "stream",
       "stream": "stdout",
       "text": [
        "Total Work Done: 116.10 kJ\n"
       ]
      }
     ],
     "prompt_number": 39
    },
    {
     "cell_type": "heading",
     "level": 2,
     "metadata": {},
     "source": [
      "Example 3.29 pg : 42"
     ]
    },
    {
     "cell_type": "code",
     "collapsed": false,
     "input": [
      "import math \n",
      "\n",
      "#Inputs\n",
      "#The Values in the program are as follows:\n",
      "#Temperature in Celcius converted to Kelvin(by adding 273)\n",
      "#Pressure in bar converted to kPa (by multiplying 100)\n",
      "#Volume in m**3\n",
      "#Value of R,Cp and Cv in kJ/kg K\n",
      "V1 = 0.1;\n",
      "V3 = V1;\n",
      "P1 = 10.;\n",
      "T1 = 200.+273;\n",
      "P2 = 3.;\n",
      "R = 0.287;\n",
      "G = 1.4;\n",
      "Cv = 0.718;\n",
      "\n",
      "# Calculations and Results\n",
      "m = (P1*100*V1)/(R*T1);\n",
      "T2 = T1*((P2/P1)**((G-1)/G));\n",
      "V2 = V1*((P1/P2)**((1)/G));\n",
      "T3 = T2;\n",
      "P3 = (P2*V2)/V3;\n",
      "print 'Pressure after Isothermal Compression: %1.2f bar'%(P3);\n",
      "print 'Temperature after isothermal compression: %1.2f K'%(T2);\n",
      "\n",
      "W1 = ((P1*100*V1)-(P2*100*V2))/(G-1);\n",
      "print 'Work Developed during adiabatic expansion: %2.0f kJ'%(W1);\n",
      "\n",
      "W2 = (P2*100*V2)*math.log(V3/V2);\n",
      "print 'Work of Compression: %1.2f kJ'%(W2);\n",
      "\n",
      "Q = m*Cv*(T1-T3);\n",
      "print 'Heat supplied in 3rd Process: %1.2f kJ'%(Q);\n",
      "\n",
      "U = m*Cv*(T2-T1);\n",
      "print 'Change in Internal Energy: %1.2f kJ'%(U);\n",
      "\n",
      "# note: rounding off error."
     ],
     "language": "python",
     "metadata": {},
     "outputs": [
      {
       "output_type": "stream",
       "stream": "stdout",
       "text": [
        "Pressure after Isothermal Compression: 7.09 bar\n",
        "Temperature after isothermal compression: 335.33 K\n",
        "Work Developed during adiabatic expansion: 73 kJ\n",
        "Work of Compression: -60.97 kJ\n",
        "Heat supplied in 3rd Process: 72.82 kJ\n",
        "Change in Internal Energy: -72.82 kJ\n"
       ]
      }
     ],
     "prompt_number": 41
    },
    {
     "cell_type": "heading",
     "level": 2,
     "metadata": {},
     "source": [
      "Example 3.30 pg : 44"
     ]
    },
    {
     "cell_type": "code",
     "collapsed": false,
     "input": [
      "\n",
      "#Inputs\n",
      "V1 = 0.028;\n",
      "P1 = 1.;\n",
      "T1 = 27.+273;\n",
      "n = 1.3;\n",
      "V2 = 0.0046;\n",
      "T3 = T1;\n",
      "\n",
      "# Calculations and Results\n",
      "T2 = T1*((V1/V2)**(n-1));\n",
      "print 'Temperature after compression: %1.2f K'%(T2);\n",
      "\n",
      "\n",
      "P2 = P1*((V1/V2)**n);\n",
      "W = ((P1*100*V1)-(P2*100*V2))/(n-1);\n",
      "print 'Work Done: %1.2f kJ'%(W);\n",
      "\n",
      "\n",
      "P3 = (T3*P2)/T2;\n",
      "print 'Final Pressure: %1.2f bar'%(P3);"
     ],
     "language": "python",
     "metadata": {},
     "outputs": [
      {
       "output_type": "stream",
       "stream": "stdout",
       "text": [
        "Temperature after compression: 515.75 K\n",
        "Work Done: -6.71 kJ\n",
        "Final Pressure: 6.09 bar\n"
       ]
      }
     ],
     "prompt_number": 43
    },
    {
     "cell_type": "heading",
     "level": 2,
     "metadata": {},
     "source": [
      "Example 3.31 pg : 45"
     ]
    },
    {
     "cell_type": "code",
     "collapsed": false,
     "input": [
      "\n",
      "#Inputs\n",
      "#The Values in the program are as follows:\n",
      "#Temperature in Celcius converted to Kelvin(by adding 273)\n",
      "#Pressure in bar converted to kPa (by multiplying 100)\n",
      "#Volume in m**3\n",
      "#Value of R,Cp and Cv in kJ/kg K\n",
      "V1 = 0.15;\n",
      "P1 = 900.;\n",
      "T1 = 300.+273;\n",
      "T3 = T1;\n",
      "V2 = 3*V1;\n",
      "R = 0.287;\n",
      "Cp = 1.005;\n",
      "G = 1.4;\n",
      "n = 1.5;\n",
      "Cv = 0.718;\n",
      "\n",
      "# Calculations and Results\n",
      "m = (P1*V1)/(R*T1);\n",
      "T2 = (V2*T1)/V1;\n",
      "Q1 = m*Cp*(T2-T1);\n",
      "print 'Heat Received: %3.2f kJ'%(Q1);\n",
      "\n",
      "\n",
      "Q2 = (m*Cv)*((n-G)/(n-1))*(T3-T2);\n",
      "Q3 = m*R*T3*(math.log(1./27));\n",
      "Qr = 0-(Q2+Q3);\n",
      "print 'Heat Rejected: %3.2f kJ'%(Qr);\n",
      "\n",
      "\n",
      "Eff = (1-(Qr/Q1))*100;\n",
      "print 'Efficiency: %3.2f percent'%(Eff);\n",
      "\n",
      "# rounding off error.\n"
     ],
     "language": "python",
     "metadata": {},
     "outputs": [
      {
       "output_type": "stream",
       "stream": "stdout",
       "text": [
        "Heat Received: 945.47 kJ\n",
        "Heat Rejected: 580.03 kJ\n",
        "Efficiency: 38.65 percent\n"
       ]
      }
     ],
     "prompt_number": 45
    },
    {
     "cell_type": "heading",
     "level": 2,
     "metadata": {},
     "source": [
      "Example 3.32 pg : 47"
     ]
    },
    {
     "cell_type": "code",
     "collapsed": false,
     "input": [
      "\n",
      "#Inputs\n",
      "#The Values in the program are as follows:\n",
      "#Temperature in Celcius converted to Kelvin(by adding 273)\n",
      "#Pressure in bar converted to kPa (by multiplying 100)\n",
      "#Volume in m**3\n",
      "#Value of R,Cp and Cv in kJ/kg K\n",
      "M = 27.;\n",
      "P1 = 1.;\n",
      "T1 = 60.+273;\n",
      "n = 1.3;\n",
      "Cvm = 21.;\n",
      "Ro = 8.314;\n",
      "R = Ro/M;\n",
      "\n",
      "# Calculations and Results\n",
      "V1 = (R*T1)/(P1*100);\n",
      "V2 = V1/12;\n",
      "x = V1/V2;\n",
      "P2 = P1*(x**n);\n",
      "W = ((P1*100*V1)-(P2*100*V2))/(n-1);\n",
      "print 'Work Done: %3.2f kJ/kg'%(W);\n",
      "\n",
      "\n",
      "Cv = Cvm/M;\n",
      "Cp = Cv+R;\n",
      "G = Cp/Cv;\n",
      "\n",
      "Q = ((G-n)/(G-1))*W;\n",
      "print 'Heat Transfer during the process: %3.2f kJ/kg'%(Q);\n",
      "\n",
      "# note : rounding off error."
     ],
     "language": "python",
     "metadata": {},
     "outputs": [
      {
       "output_type": "stream",
       "stream": "stdout",
       "text": [
        "Work Done: -378.52 kJ/kg\n",
        "Heat Transfer during the process: -91.69 kJ/kg\n"
       ]
      }
     ],
     "prompt_number": 47
    },
    {
     "cell_type": "heading",
     "level": 2,
     "metadata": {},
     "source": [
      "Example 3.33 pg : 48"
     ]
    },
    {
     "cell_type": "code",
     "collapsed": false,
     "input": [
      "\n",
      "#Inputs\n",
      "#The Values in the program are as follows:\n",
      "#Temperature in Celcius converted to Kelvin(by adding 273)\n",
      "#Pressure in bar converted to kPa (by multiplying 100)\n",
      "#Volume in m**3\n",
      "#Value of R,Cp and Cv in kJ/kg K\n",
      "D = 0.550;\n",
      "L = 0.740;\n",
      "r = 12.;\n",
      "P1 = 100.;\n",
      "T1 = 27.+273;\n",
      "n = 1.32;\n",
      "R = 0.287;\n",
      "G = 1.4;\n",
      "V = ((22./7)/4)*D*D*L;\n",
      "V2 = V/11;\n",
      "\n",
      "# Calculations and Results\n",
      "V1 = V2+V;\n",
      "P2 = P1*((r)**n);\n",
      "T2 = T1*((r)**(n-1));\n",
      "print 'The Pressure at end of Compression: %3.3f kPa'%(P2);\n",
      "\n",
      "print 'The Temperature at end of Compression: %3.3f K'%(T2);\n",
      "\n",
      "m = (P1*V1)/(R*T1);\n",
      "print 'The Mass in the cylinder: %3.3f kg'%(m);\n",
      "\n",
      "W = ((P1*V1)-(P2*V2))/(n-1);\n",
      "print 'The Work Done: %3.3f kJ'%(W);\n",
      "\n",
      "Q = ((G-n)/(G-1))*W;\n",
      "print 'The Heat Transfer: %3.3f kJ'%(Q);\n",
      "\n",
      "# note : rounding off error."
     ],
     "language": "python",
     "metadata": {},
     "outputs": [
      {
       "output_type": "stream",
       "stream": "stdout",
       "text": [
        "The Pressure at end of Compression: 2657.781 kPa\n",
        "The Temperature at end of Compression: 664.445 K\n",
        "The Mass in the cylinder: 0.223 kg\n",
        "The Work Done: -72.840 kJ\n",
        "The Heat Transfer: -14.568 kJ\n"
       ]
      }
     ],
     "prompt_number": 49
    },
    {
     "cell_type": "heading",
     "level": 2,
     "metadata": {},
     "source": [
      "Example 3.34 pg : 49"
     ]
    },
    {
     "cell_type": "code",
     "collapsed": false,
     "input": [
      "import math \n",
      "\n",
      "#Inputs\n",
      "#The Values in the program are as follows:\n",
      "#Temperature in Celcius converted to Kelvin(by adding 273)\n",
      "#Pressure in bar converted to kPa (by multiplying 100)\n",
      "#Volume in m**3\n",
      "#Value of R,Cp and Cv in kJ/kg K\n",
      "m = 1.;\n",
      "P1 = 10.;\n",
      "T1 = 337.+273;\n",
      "P2 = 1.;\n",
      "V = 6.;\n",
      "R = 0.287;\n",
      "G = 1.4;\n",
      "\n",
      "# Calculations and Results\n",
      "x = math.log(P2/P1);\n",
      "y = math.log(1./V);\n",
      "n = x/y;\n",
      "print 'The Value of n: %3.3f '%(n);\n",
      "\n",
      "V1 = (m*R*T1)/(P1*100);\n",
      "V2 = V1*6;\n",
      "W = ((P1*100*V1)-(P2*100*V2))/(n-1);\n",
      "print 'The Work Done: %3.1f kJ'%(W);\n",
      "\n",
      "Q = ((G-n)/(G-1))*W;\n",
      "print 'The Heat Transfer: %3.2f kJ'%(Q);\n",
      "\n"
     ],
     "language": "python",
     "metadata": {},
     "outputs": [
      {
       "output_type": "stream",
       "stream": "stdout",
       "text": [
        "The Value of n: 1.285 \n",
        "The Work Done: 245.6 kJ\n",
        "The Heat Transfer: 70.56 kJ\n"
       ]
      }
     ],
     "prompt_number": 50
    },
    {
     "cell_type": "heading",
     "level": 2,
     "metadata": {},
     "source": [
      "Example 3.37 pg : 54"
     ]
    },
    {
     "cell_type": "code",
     "collapsed": false,
     "input": [
      "\n",
      "#Inputs\n",
      "#The Values in the program are as follows:\n",
      "#Temperature in Celcius converted to Kelvin(by adding 273)\n",
      "#Pressure in bar converted to kPa (by multiplying 100)\n",
      "#Volume in m**3\n",
      "#Value of R,Cp and Cv in kJ/kg K\n",
      "T1 = 430.;\n",
      "T2 = 289.25;\n",
      "P2 = 100.;\n",
      "P1 = 400.;\n",
      "G = 1.4;\n",
      "V1 = 0.2;\n",
      "R = 287.;\n",
      "Q = 60.;\n",
      "Cp = 1.005;\n",
      "\n",
      "# Calculations and Results\n",
      "T2 = T1*((P2/P1)**((G-1)/G));\n",
      "V2 = V1*((P1/P2)**(1./G));\n",
      "m = (P1*1000*V1)/(R*T1);\n",
      "W1 = (m*(R/1000)*(T1-T2))/(G-1);\n",
      "T3 = (Q/(m*Cp))+T2;\n",
      "V3 = (V2*T3)/T2;\n",
      "W2 = P2*(V3-V2);\n",
      "W = W1+W2;\n",
      "print 'The Net Work Done: %3.3f kJ'%(W);\n",
      "\n",
      "n = ((m*(R/1000)*(T1-T3))/W)+1;\n",
      "print 'The value of n: %3.2f '%(n);\n",
      "\n"
     ],
     "language": "python",
     "metadata": {},
     "outputs": [
      {
       "output_type": "stream",
       "stream": "stdout",
       "text": [
        "The Net Work Done: 82.544 kJ\n",
        "The value of n: 1.11 \n"
       ]
      }
     ],
     "prompt_number": 51
    },
    {
     "cell_type": "heading",
     "level": 2,
     "metadata": {},
     "source": [
      "Example 3.38 pg : 55"
     ]
    },
    {
     "cell_type": "code",
     "collapsed": false,
     "input": [
      "import math \n",
      "\n",
      "#Inputs\n",
      "#The Values in the program are as follows:\n",
      "#Temperature in Celcius converted to Kelvin(by adding 273)\n",
      "#Pressure in bar converted to kPa (by multiplying 100)\n",
      "#Volume in m**3\n",
      "#Value of R,Cp and Cv in kJ/kg Km = 1;\n",
      "P1 = 6.;\n",
      "V1 = 0.01;\n",
      "V2 = 0.05;\n",
      "P2 = 2;\n",
      "\n",
      "# Calculations and Results\n",
      "W1 = (((P1+P2)/2)*100)*(V2-V1);\n",
      "print 'The Work done for first cycle: %3.1f kJ'%(W1);\n",
      "\n",
      "P3 = P2;\n",
      "V3 = (P1*V1)/P3;\n",
      "W2 = P2*100*(V3-V2);\n",
      "print 'The Work done for second cycle: %3.1f kJ'%(W2);\n",
      "\n",
      "W3 = (P3*100*V3)*(math.log(V1/V3));\n",
      "print 'The Work done for third cycle: %3.2f kJ'%(W3);\n",
      "\n",
      "W = W1+W2+W3;\n",
      "print 'The net Work done: %3.2f kJ'%(W);\n",
      "\n",
      "Q = W;                #As process is cyclic\n",
      "print 'The Heat Transfer: %3.2f kJ'%(Q);\n",
      "\n"
     ],
     "language": "python",
     "metadata": {},
     "outputs": [
      {
       "output_type": "stream",
       "stream": "stdout",
       "text": [
        "The Work done for first cycle: 16.0 kJ\n",
        "The Work done for second cycle: -4.0 kJ\n",
        "The Work done for third cycle: -6.59 kJ\n",
        "The net Work done: 5.41 kJ\n",
        "The Heat Transfer: 5.41 kJ\n"
       ]
      }
     ],
     "prompt_number": 52
    },
    {
     "cell_type": "heading",
     "level": 2,
     "metadata": {},
     "source": [
      "Example 3.39 pg :  57"
     ]
    },
    {
     "cell_type": "code",
     "collapsed": false,
     "input": [
      "import math \n",
      "\n",
      "#Inputs\n",
      "#The Values in the program are as follows:\n",
      "#Temperature in Celcius converted to Kelvin(by adding 273)\n",
      "#Pressure in bar converted to kPa (by multiplying 100)\n",
      "#Volume in m**3\n",
      "#Value of R,Cp and Cv in kJ/kg K\n",
      "V1 = 0.6;\n",
      "P1 = 1.;\n",
      "T1 = 90.+273;\n",
      "V2 = 0.18;\n",
      "P2 = 5.;\n",
      "R = 0.287;\n",
      "G = 1.4;\n",
      "\n",
      "# Calculations and Results\n",
      "m = (P1*100*V1)/(R*T1);\n",
      "print 'The mass of Gas: %3.4f kg'%(m);\n",
      "\n",
      "n = (math.log(P2/P1))/(math.log(V1/V2));\n",
      "print 'The value of n: %3.3f '%(n);\n",
      "\n",
      "Cv = R/(G-1);\n",
      "T2 = ((P2*V2)/(P1*V1))*T1;\n",
      "U = m*Cv*(T2-T1);\n",
      "print 'The change in Internal Energy: %3.3f kJ'%(U);\n",
      "\n"
     ],
     "language": "python",
     "metadata": {},
     "outputs": [
      {
       "output_type": "stream",
       "stream": "stdout",
       "text": [
        "The mass of Gas: 0.5759 kg\n",
        "The value of n: 1.337 \n",
        "The change in Internal Energy: 75.000 kJ\n"
       ]
      }
     ],
     "prompt_number": 53
    },
    {
     "cell_type": "heading",
     "level": 2,
     "metadata": {},
     "source": [
      "Example 3.40 pg : 58"
     ]
    },
    {
     "cell_type": "code",
     "collapsed": false,
     "input": [
      "import math \n",
      "\n",
      "#Inputs\n",
      "#The Values in the program are as follows:\n",
      "#Temperature in Celcius converted to Kelvin(by adding 273)\n",
      "#Pressure in bar converted to kPa (by multiplying 100)\n",
      "#Volume in m**3\n",
      "#Value of R,Cp and Cv in kJ/kg K\n",
      "R = 0.29;\n",
      "Cp = 1.005;\n",
      "P1 = 2.75;\n",
      "P2 = P1;\n",
      "V1 = 0.09;\n",
      "T1 = 185+273;\n",
      "T2 = 15+273;\n",
      "\n",
      "# Calculations and Results\n",
      "V2 = (V1*T2)/T1;\n",
      "m = (P1*100*V1)/(R*T1);\n",
      "Q = m*Cp*(T2-T1);\n",
      "print 'The Heat Transfer: %3.3f kJ'%(Q);\n",
      "\n",
      "W = P1*100*(V2-V1);\n",
      "print 'The Work done: %3.3f kJ'%(W);\n",
      "\n"
     ],
     "language": "python",
     "metadata": {},
     "outputs": [
      {
       "output_type": "stream",
       "stream": "stdout",
       "text": [
        "The Heat Transfer: -31.837 kJ\n",
        "The Work done: -9.187 kJ\n"
       ]
      }
     ],
     "prompt_number": 54
    },
    {
     "cell_type": "heading",
     "level": 2,
     "metadata": {},
     "source": [
      "Example 3.41 pg : 59"
     ]
    },
    {
     "cell_type": "code",
     "collapsed": false,
     "input": [
      "\n",
      "#Inputs\n",
      "#The Values in the program are as follows:\n",
      "#Temperature in Celcius converted to Kelvin(by adding 273)\n",
      "#Pressure in bar converted to kPa (by multiplying 100)\n",
      "#Volume in m**3\n",
      "#Value of R,Cp and Cv in kJ/kg K\n",
      "T1 = 25.+273;\n",
      "T2 = 145.+273;\n",
      "m = 2.;\n",
      "R = 267.;\n",
      "G = 1.4;\n",
      "\n",
      "# Calculations and Results\n",
      "Cv = R/(G-1);\n",
      "print 'The value of Cv: %3.1f J/kg K'%(Cv);\n",
      "\n",
      "Cp = G*Cv;\n",
      "print 'The value of Cp: %3.1f J/kg K'%(Cp);\n",
      "\n",
      "U = m*Cv*(T2-T1)*(1./1000);\n",
      "print 'The change in Internal Energy: %3.1f kJ'%(U);\n",
      "\n",
      "H = m*Cp*(T2-T1)*(1./1000);\n",
      "print 'The Heat Transfer: %3.1f kJ'%(H);\n",
      "\n"
     ],
     "language": "python",
     "metadata": {},
     "outputs": [
      {
       "output_type": "stream",
       "stream": "stdout",
       "text": [
        "The value of Cv: 667.5 J/kg K\n",
        "The value of Cp: 934.5 J/kg K\n",
        "The change in Internal Energy: 160.2 kJ\n",
        "The Heat Transfer: 224.3 kJ\n"
       ]
      }
     ],
     "prompt_number": 55
    },
    {
     "cell_type": "heading",
     "level": 2,
     "metadata": {},
     "source": [
      "Example 3.42 pg : 60"
     ]
    },
    {
     "cell_type": "code",
     "collapsed": false,
     "input": [
      "\n",
      "#Inputs\n",
      "#The Values in the program are as follows:\n",
      "#Temperature in Celcius converted to Kelvin(by adding 273)\n",
      "#Pressure in bar converted to kPa (by multiplying 100)\n",
      "#Volume in m**3\n",
      "#Value of R,Cp and Cv in kJ/kg K\n",
      "D = 1.;\n",
      "h = 4.;\n",
      "P1 = 100.;\n",
      "T1 = 27.+273;\n",
      "P2 = 125.;\n",
      "Cp = 14.307;\n",
      "Cv = 10.183;\n",
      "\n",
      "# Calculations\n",
      "V1 = (22./7)*(1./4)*(D*D*h);\n",
      "R = Cp-Cv;\n",
      "m = (P1*V1)/(R*T1);\n",
      "T2 = (P2*T1)/P1;\n",
      "Q = m*Cv*(T2-T1);\n",
      "\n",
      "# Results\n",
      "print 'The Heat Transfer: %3.0f kJ'%(Q);\n",
      "\n"
     ],
     "language": "python",
     "metadata": {},
     "outputs": [
      {
       "output_type": "stream",
       "stream": "stdout",
       "text": [
        "The Heat Transfer: 194 kJ\n"
       ]
      }
     ],
     "prompt_number": 56
    },
    {
     "cell_type": "heading",
     "level": 2,
     "metadata": {},
     "source": [
      "Example 3.43 pg : 61"
     ]
    },
    {
     "cell_type": "code",
     "collapsed": false,
     "input": [
      "import math \n",
      "\n",
      "#Inputs\n",
      "#The Values in the program are as follows:\n",
      "#Temperature in Celcius converted to Kelvin(by adding 273)\n",
      "#Pressure in bar converted to kPa (by multiplying 100)\n",
      "#Volume in m**3\n",
      "#Value of R,Cp and Cv in kJ/kg K\n",
      "V1 = 0.15;\n",
      "V2 = 3*V1;\n",
      "P1 = 900.;\n",
      "P2 = P1;\n",
      "T1 = 300.+273;\n",
      "T3 = T1;\n",
      "n = 1.5;\n",
      "G = 1.4;\n",
      "R = 0.287;\n",
      "Cp = 1.005;\n",
      "\n",
      "# Calculations and Results\n",
      "m = (P1*V1)/(R*T1);\n",
      "T2 = (T1*V2)/V1;\n",
      "Q1 = m*Cp*(T2-T1);\n",
      "W1 = m*R*(T2-T3)/(n-1);\n",
      "Q2 = (G-n)*W1/(G-1);\n",
      "P3 = P2*((T3/T2)**(G/(G-1)));\n",
      "Q3 = m*R*T1*math.log(P3/P1);\n",
      "H_rec = Q1;\n",
      "print 'The Heat received: %3.1f kJ'%(H_rec);\n",
      "\n",
      "H_rej = 0-(Q2+Q3);\n",
      "print 'The Heat Rejected: %3.1f kJ'%(H_rej);\n",
      "\n",
      "eff = 100*(1-(H_rej/H_rec));\n",
      "print 'Efficiency: %3.2f percent'%(eff);\n",
      "\n"
     ],
     "language": "python",
     "metadata": {},
     "outputs": [
      {
       "output_type": "stream",
       "stream": "stdout",
       "text": [
        "The Heat received: 945.5 kJ\n",
        "The Heat Rejected: 654.1 kJ\n",
        "Efficiency: 30.82 percent\n"
       ]
      }
     ],
     "prompt_number": 57
    },
    {
     "cell_type": "heading",
     "level": 2,
     "metadata": {},
     "source": [
      "Example 3.44 pg : 62"
     ]
    },
    {
     "cell_type": "code",
     "collapsed": false,
     "input": [
      "import math \n",
      "\n",
      "#Inputs\n",
      "#The Values in the program are as follows:\n",
      "#Temperature in Celcius converted to Kelvin(by adding 273)\n",
      "#Pressure in bar converted to kPa (by multiplying 100)\n",
      "#Volume in m**3\n",
      "#Value of R,Cp and Cv in kJ/kg Km = 1;\n",
      "V1 = 0.15;\n",
      "P1 = 1.;\n",
      "V2 = 0.05;\n",
      "G = 1.4;\n",
      "\n",
      "# Calculations and Results\n",
      "P2 = (V1*P1)/V2;\n",
      "W_it = P1*100*V1*math.log(P1/P2);\n",
      "print 'Work done in Isothermal process: %2.2f kJ'%(W_it);\n",
      "\n",
      "P2 = P1*((V1/V2)**G);\n",
      "W_ad = ((P1*100*V1)-(P2*100*V2))/(G-1);\n",
      "print 'Work done in Adiabatic process: %2.2f kJ'%(W_ad);\n",
      "\n"
     ],
     "language": "python",
     "metadata": {},
     "outputs": [
      {
       "output_type": "stream",
       "stream": "stdout",
       "text": [
        "Work done in Isothermal process: -16.48 kJ\n",
        "Work done in Adiabatic process: -20.69 kJ\n"
       ]
      }
     ],
     "prompt_number": 58
    },
    {
     "cell_type": "heading",
     "level": 2,
     "metadata": {},
     "source": [
      "Example 3.45 pg : 63"
     ]
    },
    {
     "cell_type": "code",
     "collapsed": false,
     "input": [
      "import math \n",
      "\n",
      "#Inputs\n",
      "#The Values in the program are as follows:\n",
      "#Temperature in Celcius converted to Kelvin(by adding 273)\n",
      "#Pressure in bar converted to kPa (by multiplying 100)\n",
      "#Volume in m**3\n",
      "#Value of R,Cp and Cv in kJ/kg K\n",
      "m = 1.;\n",
      "Cp = 1.005;\n",
      "P1 = 100.;\n",
      "T1 = 17.+273;\n",
      "T2 = T1;\n",
      "P2 = 2500.;\n",
      "\n",
      "# Calculations and Results\n",
      "print 'Final Temperature: %2.2f K'%(T2);\n",
      "\n",
      "\n",
      "V1 = (260*T1)/(P1*1000);\n",
      "V2 = (P1*V1)/P2;\n",
      "print 'Final Volume: %2.5f m**3'%(V2);\n",
      "\n",
      "n = P2/P1;\n",
      "print 'Compression ratio: %2.0f '%(n);\n",
      "\n",
      "H = m*Cp*(T2-T1);\n",
      "print 'Change in Enthalpy: %2.2f kJ'%(H);\n",
      "\n",
      "W = P1*V1*math.log(P1/P2);\n",
      "print 'Work done: %2.2f kJ/kg'%(W);\n",
      "\n"
     ],
     "language": "python",
     "metadata": {},
     "outputs": [
      {
       "output_type": "stream",
       "stream": "stdout",
       "text": [
        "Final Temperature: 290.00 K\n",
        "Final Volume: 0.03016 m**3\n",
        "Compression ratio: 25 \n",
        "Change in Enthalpy: 0.00 kJ\n",
        "Work done: -242.70 kJ/kg\n"
       ]
      }
     ],
     "prompt_number": 59
    },
    {
     "cell_type": "heading",
     "level": 2,
     "metadata": {},
     "source": [
      "Example 3.46 pg: 64"
     ]
    },
    {
     "cell_type": "code",
     "collapsed": false,
     "input": [
      "\n",
      "#Inputs\n",
      "#The Values in the program are as follows:\n",
      "#Temperature in Celcius converted to Kelvin(by adding 273)\n",
      "#Pressure in bar converted to kPa (by multiplying 100)\n",
      "#Volume in m**3\n",
      "#Value of R,Cp and Cv in kJ/kg K\n",
      "P1 = 150.;\n",
      "T1 = 17.+273;\n",
      "P2 = 750.;\n",
      "n = 1.3;\n",
      "m = 1.;\n",
      "R = 0.287;\n",
      "Cp = 1.001;\n",
      "\n",
      "# Calculations and Results\n",
      "T2 = T1*((P2/P1)**((n-1)/n));\n",
      "print 'The final temperature: %2.1f K'%(T2);\n",
      "\n",
      "W = m*R*(T1-T2)/(n-1);\n",
      "print 'Work done: %2.2f kJ/kg'%(W);\n",
      "\n",
      "Cv = Cp-R;\n",
      "U = m*Cv*(T2-T1);\n",
      "print 'Change in internal energy: %2.2f kJ/kg'%(U);\n",
      "\n",
      "G = Cp/Cv;\n",
      "Q = ((G-n)/(G-1))*W;\n",
      "print 'Amount of heat transfer: %2.2f kJ/kg'%(Q);\n",
      "\n",
      "H = m*Cp*(T2-T1);\n",
      "print 'Change in enthalpy: %2.2f kJ/kg'%(H);\n",
      "\n"
     ],
     "language": "python",
     "metadata": {},
     "outputs": [
      {
       "output_type": "stream",
       "stream": "stdout",
       "text": [
        "The final temperature: 420.4 K\n",
        "Work done: -124.78 kJ/kg\n",
        "Change in internal energy: 93.13 kJ/kg\n",
        "Amount of heat transfer: -31.65 kJ/kg\n",
        "Change in enthalpy: 130.57 kJ/kg\n"
       ]
      }
     ],
     "prompt_number": 60
    }
   ],
   "metadata": {}
  }
 ]
}