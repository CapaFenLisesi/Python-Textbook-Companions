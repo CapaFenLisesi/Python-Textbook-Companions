{
 "metadata": {
  "name": "",
  "signature": "sha256:3d8f673c1a27c909cdf0ff65e7ff4b366a924234852efa0c7c4f35cbe5388149"
 },
 "nbformat": 3,
 "nbformat_minor": 0,
 "worksheets": [
  {
   "cells": [
    {
     "cell_type": "heading",
     "level": 1,
     "metadata": {},
     "source": [
      "Chapter 9 : Pumps"
     ]
    },
    {
     "cell_type": "heading",
     "level": 2,
     "metadata": {},
     "source": [
      "Example 9.1 pg : 18"
     ]
    },
    {
     "cell_type": "code",
     "collapsed": false,
     "input": [
      "\n",
      "# Variables\n",
      "D = 0.3;\n",
      "L = 0.6;\n",
      "N = 60.;\n",
      "Hs = 5.;\n",
      "Hd = 10.;\n",
      "Ep = 0.8;\n",
      "Qa = 0.075;\n",
      "\n",
      "# Calculations and Results\n",
      "A = (22./7)*(1./4)*D*D;\n",
      "Rho = 1000;\n",
      "g = 9.81;\n",
      "\n",
      "F1 = Rho*g*Hs*A;\n",
      "F2 = Rho*g*Hd*A;\n",
      "\n",
      "TF = F1+F2;\n",
      "print 'Total Force Required: %2.2f kN'%(TF/1000);\n",
      "\n",
      "\n",
      "Q = (2*L*A*N)/60;\n",
      "Qa = 0.075;\n",
      "Slip = (Q-Qa)/Q;\n",
      "print 'Percentage Slip: %2.2f Percent'%(Slip*100);\n",
      "\n",
      "\n",
      "Cd = Qa/Q;\n",
      "\n",
      "P = (Rho*g*Qa*(Hs+Hd))/Ep;\n",
      "print 'Power input: %2.2f kW'%(P/1000);\n",
      "\n"
     ],
     "language": "python",
     "metadata": {},
     "outputs": [
      {
       "output_type": "stream",
       "stream": "stdout",
       "text": [
        "Total Force Required: 10.41 kN\n",
        "Percentage Slip: 11.62 Percent\n",
        "Power input: 13.80 kW\n"
       ]
      }
     ],
     "prompt_number": 1
    },
    {
     "cell_type": "heading",
     "level": 2,
     "metadata": {},
     "source": [
      "Example 9.2 pg : 19"
     ]
    },
    {
     "cell_type": "code",
     "collapsed": false,
     "input": [
      "\n",
      "# Variables\n",
      "Qa = 0.025;\n",
      "Hm = 20;\n",
      "L = 0.4;\n",
      "D = 0.3;\n",
      "\n",
      "# Calculations\n",
      "A = (22./7)*(1./4)*D*D;\n",
      "Slip = 0.02;\n",
      "Q = 25/(1000*(1-Slip));\n",
      "\n",
      "N = (Q*60)/(L*A);\n",
      "\n",
      "# Results\n",
      "print 'Speed of Pump: %2.2f RPM'%(N);\n",
      "\n"
     ],
     "language": "python",
     "metadata": {},
     "outputs": [
      {
       "output_type": "stream",
       "stream": "stdout",
       "text": [
        "Speed of Pump: 54.11 RPM\n"
       ]
      }
     ],
     "prompt_number": 2
    },
    {
     "cell_type": "heading",
     "level": 2,
     "metadata": {},
     "source": [
      "Example 9.3 pg : 20"
     ]
    },
    {
     "cell_type": "code",
     "collapsed": false,
     "input": [
      "\n",
      "# Variables\n",
      "Hs = 32.;\n",
      "N = 1450.;\n",
      "Eff = 0.85;\n",
      "Q = 0.05;\n",
      "Hfs = 1.;\n",
      "Hfd = 6.;\n",
      "Hm = Hs+Hfd+Hfs;\n",
      "Rho = 1000.;\n",
      "g = 9.81;\n",
      "\n",
      "# Calculations\n",
      "P = (Rho*g*Q*Hm)/Eff;\n",
      "\n",
      "# Results\n",
      "print 'Power Consumed: %2.2f kW'%(P/1000);\n",
      "\n"
     ],
     "language": "python",
     "metadata": {},
     "outputs": [
      {
       "output_type": "stream",
       "stream": "stdout",
       "text": [
        "Power Consumed: 22.51 kW\n"
       ]
      }
     ],
     "prompt_number": 4
    },
    {
     "cell_type": "heading",
     "level": 2,
     "metadata": {},
     "source": [
      "Example 9.4 pg : 20"
     ]
    },
    {
     "cell_type": "code",
     "collapsed": false,
     "input": [
      "\n",
      "# Variables\n",
      "Pm = 25.;\n",
      "Em = 0.9;\n",
      "Q = 0.063;\n",
      "Hs = 4.;\n",
      "Hd = 25.;\n",
      "Rho = 1000.;\n",
      "Hm = Hs+Hd;\n",
      "g = 9.81;\n",
      "\n",
      "# Calculations\n",
      "Ph = Rho*g*Q*Hm/1000;\n",
      "Ps = Em*Pm;\n",
      "Ep = Ph/Ps;\n",
      "\n",
      "# Results\n",
      "print 'Efficiency of Pump: %2.2f Percent'%(Ep*100);\n",
      "\n"
     ],
     "language": "python",
     "metadata": {},
     "outputs": [
      {
       "output_type": "stream",
       "stream": "stdout",
       "text": [
        "Efficiency of Pump: 79.66 Percent\n"
       ]
      }
     ],
     "prompt_number": 5
    }
   ],
   "metadata": {}
  }
 ]
}