{
 "metadata": {
  "name": "",
  "signature": "sha256:56e79f34bf90e560e489807960eafbcc73eb1dfdf7b718c855da9f11ffbf3c60"
 },
 "nbformat": 3,
 "nbformat_minor": 0,
 "worksheets": [
  {
   "cells": [
    {
     "cell_type": "heading",
     "level": 1,
     "metadata": {},
     "source": [
      "Chapter 7 : Internal combution Engines"
     ]
    },
    {
     "cell_type": "heading",
     "level": 2,
     "metadata": {},
     "source": [
      "Example 7.1 pg : 15"
     ]
    },
    {
     "cell_type": "code",
     "collapsed": false,
     "input": [
      "\n",
      "# Variables\n",
      "Vs = 0.01;      #in m**3\n",
      "Pm = 600.;     #in kPa\n",
      "N = 300.;      #in rpm\n",
      "\n",
      "# Calculations\n",
      "n = N/2;\n",
      "IP = (Vs*Pm*n)/60;\n",
      "\n",
      "# Results\n",
      "print 'Indicated Power =  %2.0f kW'%(IP);\n",
      "\n"
     ],
     "language": "python",
     "metadata": {},
     "outputs": [
      {
       "output_type": "stream",
       "stream": "stdout",
       "text": [
        "Indicated Power =  15 kW\n"
       ]
      }
     ],
     "prompt_number": 1
    },
    {
     "cell_type": "heading",
     "level": 2,
     "metadata": {},
     "source": [
      "Example 7.2 pg :  16"
     ]
    },
    {
     "cell_type": "code",
     "collapsed": false,
     "input": [
      "#from sympy import Symbol,solve\n",
      "#import math\n",
      "# Variables\n",
      "n = 6.;        #Number of Cylinders\n",
      "IP = 90.;      #Indicated Power in kW\n",
      "Eff = 0.85;       #Mechanical Efficiency\n",
      "Pmb = 5.;      #in bar\n",
      "LD = 1.5;\n",
      "Pm = Pmb/Eff;\n",
      "N = 800.;\n",
      "nx = N/2;\n",
      "\n",
      "# Calculations and Results\n",
      "#Length = 1.5*D\n",
      "#D = Symbol(\"D\")\n",
      "#eq = 588*math.pi/4*D**2*LD*D*nx*n/60 - 90\n",
      "#ans = solve(eq,D)\n",
      "#print ans\n",
      "D = ((IP*60*4)/(Pm*100*(22./7)*LD*nx*n))**(1./3);\n",
      "print 'D =  %3.4f mm'%(D*100);\n",
      "\n",
      "L = D*LD;\n",
      "print 'L =  %3.4f mm'%(L*100);\n",
      "\n",
      "# It seems book answer wrong. kindly check."
     ],
     "language": "python",
     "metadata": {},
     "outputs": [
      {
       "output_type": "stream",
       "stream": "stdout",
       "text": [
        "D =  14.8056 mm\n",
        "L =  22.2084 mm\n"
       ]
      }
     ],
     "prompt_number": 8
    },
    {
     "cell_type": "heading",
     "level": 2,
     "metadata": {},
     "source": [
      "Example 7.3 pg : 16"
     ]
    },
    {
     "cell_type": "code",
     "collapsed": false,
     "input": [
      "\n",
      "# Variables\n",
      "BP = 22.;      #Brake Power\n",
      "Eff = 0.85;       #Mechanical Efficiency\n",
      "IP = BP/Eff;\n",
      "mf = 6.5;\n",
      "CV = 30000.;       #Calorific Value\n",
      "\n",
      "# Calculations and Results\n",
      "Ebth = BP/((mf/3600)*CV);\n",
      "print 'Brake Thermal Eff =  %3.1f Percent'%(Ebth*100);\n",
      "\n",
      "\n",
      "Eith = IP/((mf/3600)*CV);\n",
      "print 'Indicated Thermal Eff =  %3.1f Percent'%(Eith*100);\n",
      "\n",
      "\n",
      "BSFC = mf/BP;\n",
      "print 'BSFC =  %3.1f kg/kWh'%(BSFC);\n",
      "\n"
     ],
     "language": "python",
     "metadata": {},
     "outputs": [
      {
       "output_type": "stream",
       "stream": "stdout",
       "text": [
        "Brake Thermal Eff =  40.6 Percent\n",
        "Indicated Thermal Eff =  47.8 Percent\n",
        "BSFC =  0.3 kg/kWh\n"
       ]
      }
     ],
     "prompt_number": 3
    },
    {
     "cell_type": "heading",
     "level": 2,
     "metadata": {},
     "source": [
      "Example 7.4 pg : 17"
     ]
    },
    {
     "cell_type": "code",
     "collapsed": false,
     "input": [
      "\n",
      "# Variables\n",
      "BP = 185.;     #Brake Power\n",
      "Eff = 0.75;\n",
      "IP = BP/Eff;\n",
      "LD = 1.5;\n",
      "N = 35.;\n",
      "n = N/2;\n",
      "nx = 4.;\n",
      "Pm = 830.;     #in kPa\n",
      "D = ((IP*4)/(Pm*(22./7)*LD*nx*n))**(1./3);\n",
      "print 'D =  %3.0f mm'%(D*1000);\n",
      "\n",
      "L = D*LD;\n",
      "print 'L =  %3.0f mm'%(L*1000);\n",
      "\n"
     ],
     "language": "python",
     "metadata": {},
     "outputs": [
      {
       "output_type": "stream",
       "stream": "stdout",
       "text": [
        "D =  153 mm\n",
        "L =  230 mm\n"
       ]
      }
     ],
     "prompt_number": 9
    },
    {
     "cell_type": "heading",
     "level": 2,
     "metadata": {},
     "source": [
      "Example 7.5 pg : 17"
     ]
    },
    {
     "cell_type": "code",
     "collapsed": false,
     "input": [
      "\n",
      "# Variables\n",
      "Vc = 5*(10**-4);\n",
      "D = 0.15;\n",
      "L = 0.2;\n",
      "Vs = (22./7)*D*D*L*(1./4);\n",
      "r = (Vc+Vs)/Vc;\n",
      "G = 1.4;\n",
      "\n",
      "# Calculations and Results\n",
      "Ea = (1-(1./(r**(G-1))));\n",
      "Eith = 0.3;\n",
      "Erel = Eith/Ea;\n",
      "print 'Erel =  %3.2f Percent'%(Erel*100);\n",
      "\n",
      "\n",
      "Pm = 500.;     #in kPa\n",
      "n = 1000./2;\n",
      "IP = (Pm*Vs*n)/60;\n",
      "print 'IP =  %3.2f kW'%(IP);\n",
      "\n"
     ],
     "language": "python",
     "metadata": {},
     "outputs": [
      {
       "output_type": "stream",
       "stream": "stdout",
       "text": [
        "Erel =  52.98 Percent\n",
        "IP =  14.73 kW\n"
       ]
      }
     ],
     "prompt_number": 10
    },
    {
     "cell_type": "heading",
     "level": 2,
     "metadata": {},
     "source": [
      "Example 7.6 pg : 18"
     ]
    },
    {
     "cell_type": "code",
     "collapsed": false,
     "input": [
      "\n",
      "# Variables\n",
      "Pm = 600.;\n",
      "A = (22./7)*(1./4)*0.11*0.11*0.14;\n",
      "n = 1000;\n",
      "\n",
      "# Calculations\n",
      "IP = (Pm*A*n)/60;\n",
      "Em = 0.8;\n",
      "BP = Em*IP;\n",
      "\n",
      "# Results\n",
      "print 'BP =  %3.2f kW'%(BP);\n",
      "\n"
     ],
     "language": "python",
     "metadata": {},
     "outputs": [
      {
       "output_type": "stream",
       "stream": "stdout",
       "text": [
        "BP =  10.65 kW\n"
       ]
      }
     ],
     "prompt_number": 11
    },
    {
     "cell_type": "heading",
     "level": 2,
     "metadata": {},
     "source": [
      "Example 7.7 pg : 18"
     ]
    },
    {
     "cell_type": "code",
     "collapsed": false,
     "input": [
      "\n",
      "# Variables\n",
      "r = 6.;\n",
      "G = 1.4;\n",
      "Ea = 100*(1-(1./(r**(G-1))));\n",
      "\n",
      "# Calculations\n",
      "Ebt = Ea/2;\n",
      "CV = 41500;\n",
      "BP = 15.;\n",
      "Mf = BP/(CV*(Ebt/100));\n",
      "\n",
      "# Results\n",
      "print 'Mf =  %3.3f kg/hr'%(Mf*3600);\n",
      "\n"
     ],
     "language": "python",
     "metadata": {},
     "outputs": [
      {
       "output_type": "stream",
       "stream": "stdout",
       "text": [
        "Mf =  5.086 kg/hr\n"
       ]
      }
     ],
     "prompt_number": 13
    },
    {
     "cell_type": "heading",
     "level": 2,
     "metadata": {},
     "source": [
      "Example 7.8 pg : 18"
     ]
    },
    {
     "cell_type": "code",
     "collapsed": false,
     "input": [
      "\n",
      "# Variables\n",
      "n = 4.;\n",
      "DL = 1.2;\n",
      "BP = 32.;\n",
      "N = 2500.;\n",
      "Pm = 9.;\n",
      "Em = 0.86;\n",
      "Mf = 9.;\n",
      "CV = 43000.;\n",
      "\n",
      "# Calculations and Resultse\n",
      "IP = BP/Em;\n",
      "D = ((IP*60*4)/(Pm*100*(22./7)*DL*N*n))**(1./3);\n",
      "print 'D =  %3.0f mm'%(D*1000);\n",
      "\n",
      "\n",
      "L = DL*D;\n",
      "print 'L =  %3.0f mm'%(L*1000);\n",
      "\n",
      "\n",
      "Ebth = BP/(Mf*CV/3600);\n",
      "print 'Ebth =  %3.2f Percent'%(Ebth*100);\n",
      "\n",
      "\n",
      "Eith = Ebth/Em;\n",
      "print 'Eith =  %3.2f Percent'%(Eith*100);\n",
      "\n",
      "\n"
     ],
     "language": "python",
     "metadata": {},
     "outputs": [
      {
       "output_type": "stream",
       "stream": "stdout",
       "text": [
        "D =   64 mm\n",
        "L =   77 mm\n",
        "Ebth =  29.77 Percent\n",
        "Eith =  34.61 Percent\n"
       ]
      }
     ],
     "prompt_number": 14
    },
    {
     "cell_type": "heading",
     "level": 2,
     "metadata": {},
     "source": [
      "Example 7.9 pg : 19"
     ]
    },
    {
     "cell_type": "code",
     "collapsed": false,
     "input": [
      "\n",
      "# Variables\n",
      "Eith = 0.29;\n",
      "Em = 0.77;\n",
      "BP = 5.5;\n",
      "SG = 0.87;\n",
      "CV = 43000;\n",
      "\n",
      "# Calculations\n",
      "Ebth = Em*Eith;\n",
      "Mf = (BP*3600)/(Ebth*CV);\n",
      "D = SG*1000;\n",
      "Mff = (Mf*1000)/D\n",
      "\n",
      "# Results\n",
      "print 'Mf =  %3.2f litre/hr'%(Mff);\n",
      "\n"
     ],
     "language": "python",
     "metadata": {},
     "outputs": [
      {
       "output_type": "stream",
       "stream": "stdout",
       "text": [
        "Mf =  2.37 litre/hr\n"
       ]
      }
     ],
     "prompt_number": 15
    },
    {
     "cell_type": "heading",
     "level": 2,
     "metadata": {},
     "source": [
      "Example 7.10 pg : 20"
     ]
    },
    {
     "cell_type": "code",
     "collapsed": false,
     "input": [
      "\n",
      "# Variables\n",
      "D = 16.;\n",
      "L = 19.;\n",
      "Vc = 700.;\n",
      "Pm = 5.;\n",
      "N = 1000.;\n",
      "Eith = 0.32;\n",
      "\n",
      "# Calculations and Results\n",
      "Vs = (22./7)*D*D*L*(1./4);\n",
      "Vc = 700.;\n",
      "G = 1.4;\n",
      "r = (Vs+Vc)/Vc;\n",
      "Ea = (1-(1./(r**(G-1))));\n",
      "Er = Eith/Ea;\n",
      "print 'Relative Efficiency =  %3.2f Percent'%(Er*100);\n",
      "\n",
      "\n",
      "IP = (Pm*100*Vs*(10**-6)*N)/60;\n",
      "print 'IP =  %3.2f KW'%(IP);\n",
      "\n"
     ],
     "language": "python",
     "metadata": {},
     "outputs": [
      {
       "output_type": "stream",
       "stream": "stdout",
       "text": [
        "Relative Efficiency =  60.85 Percent\n",
        "IP =  31.85 KW\n"
       ]
      }
     ],
     "prompt_number": 16
    },
    {
     "cell_type": "heading",
     "level": 2,
     "metadata": {},
     "source": [
      "Example 7.11 pg : 20"
     ]
    },
    {
     "cell_type": "code",
     "collapsed": false,
     "input": [
      "\n",
      "# Variables\n",
      "T = 50.;\n",
      "Vst = 870.;\n",
      "N = 300.;\n",
      "Pm = 10.;\n",
      "n = N/2;\n",
      "\n",
      "# Calculations\n",
      "BP = (2*(22./7)*N*T)/(60*1000);\n",
      "IP = (Pm*100*Vst*(10**-6)*N)/(60*2);\n",
      "Em = BP/IP;\n",
      "\n",
      "# Results\n",
      "print 'Mechanical Efficiency =  %3.2f Percent'%(Em*100);\n",
      "\n"
     ],
     "language": "python",
     "metadata": {},
     "outputs": [
      {
       "output_type": "stream",
       "stream": "stdout",
       "text": [
        "Mechanical Efficiency =  72.25 Percent\n"
       ]
      }
     ],
     "prompt_number": 17
    },
    {
     "cell_type": "heading",
     "level": 2,
     "metadata": {},
     "source": [
      "Example 7.12 pg: 21"
     ]
    },
    {
     "cell_type": "code",
     "collapsed": false,
     "input": [
      "\n",
      "# Variables\n",
      "Pm = 7.;\n",
      "A = (22./7)*(1./4)*((0.15/1.25)**2);\n",
      "n = 900.;\n",
      "L = 0.15;\n",
      "N = 2\n",
      "\n",
      "# Calculations\n",
      "IP = (Pm*100*A*L*n*N)/(60*2);\n",
      "\n",
      "# Results\n",
      "print 'IP =  %3.2f kW'%(IP);\n",
      "\n"
     ],
     "language": "python",
     "metadata": {},
     "outputs": [
      {
       "output_type": "stream",
       "stream": "stdout",
       "text": [
        "IP =  17.82 kW\n"
       ]
      }
     ],
     "prompt_number": 18
    },
    {
     "cell_type": "heading",
     "level": 2,
     "metadata": {},
     "source": [
      "Example 7.13 pg : 21"
     ]
    },
    {
     "cell_type": "code",
     "collapsed": false,
     "input": [
      "import math \n",
      "\n",
      "# Variables\n",
      "N = 900.;\n",
      "D = 0.1;\n",
      "L = 0.14;\n",
      "Mf = 2.1;\n",
      "CV = 42000.;\n",
      "Pm = 7.5;\n",
      "Vc = 0.15;\n",
      "G = 1.4;\n",
      "A = (22./7)*(1./4)*D*D;\n",
      "\n",
      "# Calculations and Results\n",
      "IP = (Pm*100*A*L*N*2)/(60*2);\n",
      "Eith = (IP*3600)/(Mf*CV);\n",
      "print 'Eith =  %3.1f Percent'%(Eith*100);\n",
      "\n",
      "\n",
      "r = (1+0.15)/(0.15);\n",
      "Ea = 1-(1./(r**(G-1)));\n",
      "Er = Eith/Ea;\n",
      "print 'Relative Efficiency =  %3.2f Percent'%(Er*100);\n",
      "\n"
     ],
     "language": "python",
     "metadata": {},
     "outputs": [
      {
       "output_type": "stream",
       "stream": "stdout",
       "text": [
        "Eith =  50.5 Percent\n",
        "Relative Efficiency =  90.64 Percent\n"
       ]
      }
     ],
     "prompt_number": 19
    },
    {
     "cell_type": "heading",
     "level": 2,
     "metadata": {},
     "source": [
      "Example 7.14 pg : 22"
     ]
    },
    {
     "cell_type": "code",
     "collapsed": false,
     "input": [
      "import math\n",
      "\n",
      "# Variables\n",
      "NOC = 6.;\n",
      "N = 820.;\n",
      "n = N/2;\n",
      "IP = 90.;\n",
      "LD = 1.4;\n",
      "Pbm = 5;\n",
      "\n",
      "# Calculations and Results\n",
      "Em = 0.79;\n",
      "BP = IP*Em;\n",
      "D = ((IP*60*2)/(Pbm*100*(math.pi)*(1./4)*LD*N*NOC))**(1./3);\n",
      "print 'D =  %3.0f mm'%(D*1000);\n",
      "\n",
      "L = LD*D;\n",
      "print 'L =  %3.0f mm'%(L*1000);\n",
      "\n",
      "# rouding off error."
     ],
     "language": "python",
     "metadata": {},
     "outputs": [
      {
       "output_type": "stream",
       "stream": "stdout",
       "text": [
        "D =  159 mm\n",
        "L =  222 mm\n"
       ]
      }
     ],
     "prompt_number": 22
    },
    {
     "cell_type": "heading",
     "level": 2,
     "metadata": {},
     "source": [
      "Example 7.15 pg : 22"
     ]
    },
    {
     "cell_type": "code",
     "collapsed": false,
     "input": [
      "import math \n",
      "\n",
      "# Variables\n",
      "NOC = 4;\n",
      "N = 2500;\n",
      "n = N/2;\n",
      "BP = 200;\n",
      "LD = 1.2;\n",
      "Pm = 10;\n",
      "Em = 0.81;\n",
      "Mf = 65;\n",
      "CV = 42000;\n",
      "IP = BP/Em;\n",
      "\n",
      "# Calculations and Results\n",
      "D = ((IP*60*2*4)/(Pm*100*(22./7)*(1.2*(N)*NOC)))**(1./3);\n",
      "print 'D =  %3.0f mm'%(D*1000);\n",
      "\n",
      "\n",
      "L = LD*D;\n",
      "print 'L =  %3.0f mm'%(L*1000);\n",
      "\n",
      "\n",
      "Eith = (IP*3600)/(Mf*CV);\n",
      "print 'Eith =  %3.2f Percent'%(Eith*100);\n",
      "\n",
      "\n",
      "Ebth = Eith*Em;\n",
      "print 'Ebth =  %3.2f Percent'%(Ebth*100);\n",
      "\n"
     ],
     "language": "python",
     "metadata": {},
     "outputs": [
      {
       "output_type": "stream",
       "stream": "stdout",
       "text": [
        "D =  146 mm\n",
        "L =  176 mm\n",
        "Eith =  32.56 Percent\n",
        "Ebth =  26.37 Percent\n"
       ]
      }
     ],
     "prompt_number": 23
    },
    {
     "cell_type": "heading",
     "level": 2,
     "metadata": {},
     "source": [
      "Example 7.16 pg : 23"
     ]
    },
    {
     "cell_type": "code",
     "collapsed": false,
     "input": [
      "\n",
      "# Variables\n",
      "IP = 42.;\n",
      "FP = 7.;\n",
      "ES = 1800.;\n",
      "\n",
      "BP = IP-FP;\n",
      "\n",
      "# Calculations and Results\n",
      "Em = BP/IP;\n",
      "print 'Mechanical Efficiency =  %3.0f Percent'%(Em*100);\n",
      "\n",
      "BSFC = 0.3;\n",
      "CV = 43000.;\n",
      "\n",
      "Ebth = 3600/(BSFC*CV);\n",
      "print 'Brake Thermal Efficiency =  %3.0f Percent'%(Ebth*100);\n",
      "\n",
      "\n",
      "Eith = Ebth/Em;\n",
      "print 'Indicated Thermal Efficiency =  %3.2f Percent'%(Eith*100);\n",
      "\n"
     ],
     "language": "python",
     "metadata": {},
     "outputs": [
      {
       "output_type": "stream",
       "stream": "stdout",
       "text": [
        "Mechanical Efficiency =   83 Percent\n",
        "Brake Thermal Efficiency =   28 Percent\n",
        "Indicated Thermal Efficiency =  33.49 Percent\n"
       ]
      }
     ],
     "prompt_number": 25
    },
    {
     "cell_type": "heading",
     "level": 2,
     "metadata": {},
     "source": [
      "Example 7.17 pg : 25"
     ]
    },
    {
     "cell_type": "code",
     "collapsed": false,
     "input": [
      "\n",
      "# Variables\n",
      "D = 0.3;\n",
      "L = 0.45;\n",
      "N = 300.;\n",
      "Pimep = 6.;\n",
      "F = 1.5;\n",
      "Reff = (180+4)/2;\n",
      "\n",
      "# Calculations and Results\n",
      "IP = (Pimep*100*L*(22./7)*(1./4)*(D*D)*N)/(2*60);\n",
      "print 'Indicated Power =  %3.2f kW'%(IP);\n",
      "\n",
      "\n",
      "BP = (2*(22./7)*N*F*Reff)/6000;\n",
      "print 'Brake Power =  %3.2f kW'%(BP);\n",
      "\n",
      "\n",
      "Em = BP/IP;\n",
      "print 'Mechanical Efficiency =  %3.2f Percent'%(Em*100);\n",
      "\n"
     ],
     "language": "python",
     "metadata": {},
     "outputs": [
      {
       "output_type": "stream",
       "stream": "stdout",
       "text": [
        "Indicated Power =  47.73 kW\n",
        "Brake Power =  43.37 kW\n",
        "Mechanical Efficiency =  90.86 Percent\n"
       ]
      }
     ],
     "prompt_number": 26
    },
    {
     "cell_type": "heading",
     "level": 2,
     "metadata": {},
     "source": [
      "Example 7.18 pg : 26"
     ]
    },
    {
     "cell_type": "code",
     "collapsed": false,
     "input": [
      "\n",
      "# Variables\n",
      "D = 0.27;\n",
      "L = 0.38;\n",
      "Pmep = 6.;\n",
      "N = 250.;\n",
      "F = 1000.;\n",
      "Reff = 0.75;\n",
      "Mf = 10.;\n",
      "CV = 44400.;\n",
      "\n",
      "# Calculations and Results\n",
      "BP = (2*(22./7)*N*(F*Reff))/60;\n",
      "print 'Brake Power =  %3.2f kW'%(BP/1000);\n",
      "\n",
      "\n",
      "A = (22./7)*(1./4)*(D*D);\n",
      "IP = (Pmep*100*L*A*N)/(2*60);\n",
      "print 'Indicated Power =  %3.2f kW'%(IP);\n",
      "\n",
      "\n",
      "Em = BP/(IP*1000);\n",
      "print 'Mechanical Efficiency =  %3.2f Percent'%(Em*100);\n",
      "\n",
      "\n",
      "Eith = (IP*3600)/(Mf*CV);\n",
      "print 'Indicated Thermal Power =  %3.2f Percent'%(Eith*100);\n",
      "\n"
     ],
     "language": "python",
     "metadata": {},
     "outputs": [
      {
       "output_type": "stream",
       "stream": "stdout",
       "text": [
        "Brake Power =  19.64 kW\n",
        "Indicated Power =  27.21 kW\n",
        "Mechanical Efficiency =  72.20 Percent\n",
        "Indicated Thermal Power =  22.06 Percent\n"
       ]
      }
     ],
     "prompt_number": 27
    },
    {
     "cell_type": "heading",
     "level": 2,
     "metadata": {},
     "source": [
      "Example 7.19 pg : 27"
     ]
    },
    {
     "cell_type": "code",
     "collapsed": false,
     "input": [
      "\n",
      "# Variables\n",
      "NOC = 6.;\n",
      "IP = 89.5;\n",
      "N = 800.;\n",
      "LD = 1.25;\n",
      "Em = 0.8;\n",
      "Pbemp = 5.;\n",
      "Em = 0.8;\n",
      "Pimep = Pbemp/0.8;\n",
      "\n",
      "# Calculations\n",
      "D3 = (IP*2*60*4)/(Pimep*100*LD*(22./7)*N*NOC);\n",
      "D = D3**(1./3);\n",
      "L = LD*D;\n",
      "\n",
      "# Results\n",
      "print 'L =  %3.1f mm'%(L*1000);\n",
      "print 'D =  %3.0f mm'%(D*1000);\n",
      "\n"
     ],
     "language": "python",
     "metadata": {},
     "outputs": [
      {
       "output_type": "stream",
       "stream": "stdout",
       "text": [
        "L =  192.4 mm\n",
        "D =  154 mm\n"
       ]
      }
     ],
     "prompt_number": 29
    },
    {
     "cell_type": "heading",
     "level": 2,
     "metadata": {},
     "source": [
      "Example 7.20 pg: 28"
     ]
    },
    {
     "cell_type": "code",
     "collapsed": false,
     "input": [
      "\n",
      "# Variables\n",
      "D = 0.25;\n",
      "L = 0.4;\n",
      "Pm = 6.5;\n",
      "N = 250;\n",
      "W = 1080;\n",
      "Ddrum = 1.5;\n",
      "Mf = 10;\n",
      "CV = 44300;\n",
      "\n",
      "# Calculations and Results\n",
      "A = (22./7)*(1./4)*D*D;\n",
      "IP = (Pm*100*A*L*N)/(60*2);\n",
      "print 'Indicated Power =  %3.2f kW'%(IP);\n",
      "\n",
      "\n",
      "Reff = Ddrum/2;\n",
      "W = 1.08;\n",
      "\n",
      "BP = (2*(22./7)*N*W*Reff)/60;\n",
      "print 'Brake Power =  %3.2f kW'%(BP);\n",
      "\n",
      "\n",
      "Em = BP/IP;\n",
      "Eith = (IP*3600)/(Mf*CV);\n",
      "print 'Em =  %3.2f Percent'%(Em*100);\n",
      "\n",
      "print 'Eith =  %3.2f Percent'%(Eith*100);\n",
      "\n",
      "\n"
     ],
     "language": "python",
     "metadata": {},
     "outputs": [
      {
       "output_type": "stream",
       "stream": "stdout",
       "text": [
        "Indicated Power =  26.60 kW\n",
        "Brake Power =  21.21 kW\n",
        "Em =  79.75 Percent\n",
        "Eith =  21.62 Percent\n"
       ]
      }
     ],
     "prompt_number": 30
    },
    {
     "cell_type": "heading",
     "level": 2,
     "metadata": {},
     "source": [
      "Example 7.21 pg : 29"
     ]
    },
    {
     "cell_type": "code",
     "collapsed": false,
     "input": [
      "\n",
      "# Variables\n",
      "W = 50;\n",
      "S = 7;\n",
      "D = 1.25;\n",
      "N = 450;\n",
      "Mf = 4;\n",
      "CV = 43000;\n",
      "Em = 0.7;\n",
      "Reff = 9.81*(D/2);\n",
      "\n",
      "# Calculations and Results\n",
      "BP = (2*(22./7)*N*(W-S)*Reff)/(60*1000);\n",
      "Ebth = (BP*3600)/(Mf*CV);\n",
      "print 'Ebth =  %3.2f Percent'%(Ebth*100);\n",
      "\n",
      "\n",
      "Eith = Ebth/Em;\n",
      "print 'Eith =  %3.2f Percent'%(Eith*100);\n",
      "\n"
     ],
     "language": "python",
     "metadata": {},
     "outputs": [
      {
       "output_type": "stream",
       "stream": "stdout",
       "text": [
        "Ebth =  26.01 Percent\n",
        "Eith =  37.16 Percent\n"
       ]
      }
     ],
     "prompt_number": 31
    },
    {
     "cell_type": "heading",
     "level": 2,
     "metadata": {},
     "source": [
      "Example 7.22 pg : 29"
     ]
    },
    {
     "cell_type": "code",
     "collapsed": false,
     "input": [
      "\n",
      "# Variables\n",
      "T = 640;\n",
      "D = 0.21;\n",
      "N = 350;\n",
      "L = 0.28;\n",
      "Pm = 5.6;\n",
      "Mf = 8.16;\n",
      "CV = 42705;\n",
      "\n",
      "# Calculations and Results\n",
      "BP = (2*(22./7)*N*T)/60000;\n",
      "print 'Brake Power =  %3.2f kW'%(BP/1000);\n",
      "\n",
      "\n",
      "A = (22./7)*(1./4)*D*D;\n",
      "IP = (Pm*100*A*L*N)/60;\n",
      "\n",
      "Em = BP/IP;\n",
      "print 'Em =  %3.2f Percent'%(Em*100);\n",
      "\n",
      "\n",
      "Eith = (IP*3600)/(Mf*CV);\n",
      "print 'Eith =  %3.2f Percent'%(Eith*100);\n",
      "\n",
      "\n",
      "Ebth = (BP*3600)/(Mf*CV);\n",
      "print 'Ebth =  %3.2f Percent'%(Ebth*100);\n",
      "\n",
      "\n",
      "BSFC = Mf/BP;\n",
      "print 'BSFC =  %3.2f kg/kWh'%(BSFC);\n",
      "\n"
     ],
     "language": "python",
     "metadata": {},
     "outputs": [
      {
       "output_type": "stream",
       "stream": "stdout",
       "text": [
        "Brake Power =  0.02 kW\n",
        "Em =  74.04 Percent\n",
        "Eith =  32.74 Percent\n",
        "Ebth =  24.24 Percent\n",
        "BSFC =  0.35 kg/kWh\n"
       ]
      }
     ],
     "prompt_number": 32
    },
    {
     "cell_type": "heading",
     "level": 2,
     "metadata": {},
     "source": [
      "Example 7.23 pg : 30"
     ]
    },
    {
     "cell_type": "code",
     "collapsed": false,
     "input": [
      "\n",
      "# Variables\n",
      "IP = 37.;\n",
      "FP = 6.;\n",
      "BSFC = 0.28;\n",
      "CV = 44300.;\n",
      "\n",
      "# Calculations and Results\n",
      "BP = IP-FP;\n",
      "Em = (IP-FP)/IP;\n",
      "print 'Em =  %3.2f Percent'%(Em*100);\n",
      "\n",
      "\n",
      "Mf = BSFC*BP;\n",
      "Ebth = (BP*3600)/(Mf*CV);\n",
      "print 'Ebth =  %3.2f Percent'%(Ebth*100);\n",
      "\n",
      "\n",
      "Eith = Ebth/Em;\n",
      "print 'Eith =  %3.2f Percent'%(Eith*100);\n",
      "\n"
     ],
     "language": "python",
     "metadata": {},
     "outputs": [
      {
       "output_type": "stream",
       "stream": "stdout",
       "text": [
        "Em =  83.78 Percent\n",
        "Ebth =  29.02 Percent\n",
        "Eith =  34.64 Percent\n"
       ]
      }
     ],
     "prompt_number": 33
    },
    {
     "cell_type": "heading",
     "level": 2,
     "metadata": {},
     "source": [
      "Example 7.24 pg : 31"
     ]
    },
    {
     "cell_type": "code",
     "collapsed": false,
     "input": [
      "\n",
      "# Variables\n",
      "D = 0.1;\n",
      "L = 0.125;\n",
      "Pm = 2.6;\n",
      "W = 60;\n",
      "S = 19;\n",
      "Reff = 0.4;\n",
      "r = 6;\n",
      "Mf = 1;\n",
      "CV = 42000;\n",
      "N = 2000;\n",
      "\n",
      "\n",
      "# Calculations and Results\n",
      "A = (22./7)*(1./4)*D*D;\n",
      "IP = (Pm*100*A*L*N)/(60*2);\n",
      "print 'indicated Power =  %3.2f kW'%(IP);\n",
      "\n",
      "\n",
      "BP = (2*(22./7)*N*(W-S)*Reff)/60000;\n",
      "print 'Brake Power =  %3.2f kW'%(BP);\n",
      "\n",
      "\n",
      "Em = BP/IP;\n",
      "print 'Em =  %3.2f Percent'%(Em*100);\n",
      "\n",
      "\n",
      "Ebth = (BP*3600)/(Mf*CV);\n",
      "print 'Ebth =  %3.2f Percent'%(Ebth*100);\n",
      "\n",
      "\n",
      "Eith = Ebth/Em;\n",
      "print 'Eith =  %3.2f Percent'%(Eith*100);\n",
      "\n",
      "\n",
      "G = 1.4;\n",
      "Ea = 1-(1./(r**(G-1)));\n",
      "print 'Ea =  %3.2f Percent'%(Ea*100);\n",
      "\n",
      "\n",
      "Er = Ebth/Ea;\n",
      "print 'Er =  %3.2f Percent'%(Er*100);\n",
      "\n"
     ],
     "language": "python",
     "metadata": {},
     "outputs": [
      {
       "output_type": "stream",
       "stream": "stdout",
       "text": [
        "indicated Power =  4.26 kW\n",
        "Brake Power =  3.44 kW\n",
        "Em =  80.74 Percent\n",
        "Ebth =  29.45 Percent\n",
        "Eith =  36.48 Percent\n",
        "Ea =  51.16 Percent\n",
        "Er =  57.57 Percent\n"
       ]
      }
     ],
     "prompt_number": 34
    },
    {
     "cell_type": "heading",
     "level": 2,
     "metadata": {},
     "source": [
      "Example 7.25 pg : 32"
     ]
    },
    {
     "cell_type": "code",
     "collapsed": false,
     "input": [
      "\n",
      "# Variables\n",
      "IP = 30.;\n",
      "N = 2500;\n",
      "Pm = 800;\n",
      "Em = 0.8;\n",
      "LD = 1.5;\n",
      "Ebth = 0.28;\n",
      "CV = 44000;\n",
      "\n",
      "# Calculations and Results\n",
      "BP = IP*Em;\n",
      "print 'Brake Power =  %3.2f kW'%(BP);\n",
      "\n",
      "\n",
      "Mf = (BP/(Ebth*CV));\n",
      "print 'Mass Flow Rate =  %3.2f kg/hr'%(Mf*3600);\n",
      "\n"
     ],
     "language": "python",
     "metadata": {},
     "outputs": [
      {
       "output_type": "stream",
       "stream": "stdout",
       "text": [
        "Brake Power =  24.00 kW\n",
        "Mass Flow Rate =  7.01 kg/hr\n"
       ]
      }
     ],
     "prompt_number": 35
    }
   ],
   "metadata": {}
  }
 ]
}