{
 "metadata": {
  "name": "",
  "signature": "sha256:b8970a094fad8a547d8c45269d1db3cecaf14dd1d49918ae7c469ae888e5ccd7"
 },
 "nbformat": 3,
 "nbformat_minor": 0,
 "worksheets": [
  {
   "cells": [
    {
     "cell_type": "heading",
     "level": 1,
     "metadata": {},
     "source": [
      "Chapter 07 - OPTOELECTRONIC DEVICES "
     ]
    },
    {
     "cell_type": "heading",
     "level": 2,
     "metadata": {},
     "source": [
      "Example E01 - Pg 352"
     ]
    },
    {
     "cell_type": "code",
     "collapsed": false,
     "input": [
      "# Exa 7.1 - 352\n",
      "# Given data\n",
      "O_V = 5.;# output voltage in V\n",
      "V_D = 1.5;#voltage drop in V\n",
      "R = (O_V - V_D)/O_V;\n",
      "R = R * 10.**3.;# in ohm\n",
      "print '%s %.2f' %(\"The resistance value in ohm is\",R);\n",
      "print '%s' %(\"As this is not standard value, use R=680 ohm which is a standard value\")\n"
     ],
     "language": "python",
     "metadata": {},
     "outputs": [
      {
       "output_type": "stream",
       "stream": "stdout",
       "text": [
        "The resistance value in ohm is 700.00\n",
        "As this is not standard value, use R=680 ohm which is a standard value\n"
       ]
      }
     ],
     "prompt_number": 1
    },
    {
     "cell_type": "heading",
     "level": 2,
     "metadata": {},
     "source": [
      "Example E02 - Pg 376"
     ]
    },
    {
     "cell_type": "code",
     "collapsed": false,
     "input": [
      "# Exa 7.2 - 376\n",
      "# Given data\n",
      "import math \n",
      "N_A = 7.5*10.**24.;# in atoms/m**3\n",
      "N_D = 1.5*10.**22.;# in atoms/m**3\n",
      "D_e = 25.*10.**-4.;# in m**2/s\n",
      "D_h = 1.*10.**-3.;# in m**2/s\n",
      "Torque_eo = 500.;# in ns\n",
      "Torque_ho = 100.;# in ns\n",
      "n_i = 1.5*10.**16.;# in /m**3\n",
      "e = 1.6*10.**-19.;# in C\n",
      "P_C = 12.5;# in mA/cm**2\n",
      "# Electron diffusion length\n",
      "L_e = math.sqrt(D_e*Torque_ho*10.**-9.);# in m\n",
      "L_e = L_e * 10.**6.;# in um\n",
      "# hole diffusion length\n",
      "L_h = math.sqrt(D_h*Torque_ho*10.**-9.);# in m\n",
      "L_h = L_h * 10.**6.;# in um\n",
      "# The value of J_s can be calculated as,\n",
      "J_s = e*((n_i)**2.)*( (D_e/(L_e*10.**-6.*N_A)) + (D_h/(L_h*10.**-6.*N_D)) );# in A/m**2\n",
      "J_s = J_s * 10.**3.;# in A/cm**2\n",
      "V_T = 26.;# in mV\n",
      "I_lembda = 12.5*10.**-3.;\n",
      "I_s = 2.4*10.**-4.;\n",
      "# Open circuit voltage \n",
      "V_OC = V_T*math.log( 1.+(I_lembda/J_s) );# in mV\n",
      "V_OC = V_OC * 10.**-3.;# in V\n",
      "print '%s %.3f' %(\"Open circuit voltage in V is\",V_OC);\n",
      "\n",
      "# Note: There is calculation error to evaluate the value of VOC since 26*10**-3*log(1+12.5*10**-3/2.4*10**-4) calculated as 0.10318 not 0.522 V\n"
     ],
     "language": "python",
     "metadata": {},
     "outputs": [
      {
       "output_type": "stream",
       "stream": "stdout",
       "text": [
        "Open circuit voltage in V is 0.103\n"
       ]
      }
     ],
     "prompt_number": 2
    },
    {
     "cell_type": "heading",
     "level": 2,
     "metadata": {},
     "source": [
      "Example E03 - Pg 376"
     ]
    },
    {
     "cell_type": "code",
     "collapsed": false,
     "input": [
      "# Exa 7.3 - 376\n",
      "# Given data\n",
      "import math \n",
      "Phi_o = 1.*10.**21.;# in m**-2s**-1\n",
      "Alpha = 1.*10.**5.;# in m**-1\n",
      "W = 25.;# in um\n",
      "W =W * 10.**-6.;# in m\n",
      "e = 1.6*10.**-19.;# in C\n",
      "# At the front edge of intrinsic region, the generation rate of EHP\n",
      "G_L1 = Alpha*Phi_o;# in m**-3s**-1\n",
      "# At the back edge of intrinsic region, the generation rate of EHP\n",
      "G_L2 = Alpha*Phi_o*math.e**( (-Alpha*W) );# in m**-3s**-1\n",
      "# Photo current density,\n",
      "J_L = e*Phi_o*(1-math.e**(-Alpha*W));# in A/m**2\n",
      "J_L = J_L * 10.**-1.;# in mA/cm**2\n",
      "print '%s %.2f' %(\"Photo current density in mA/cm**2 is\",J_L);\n"
     ],
     "language": "python",
     "metadata": {},
     "outputs": [
      {
       "output_type": "stream",
       "stream": "stdout",
       "text": [
        "Photo current density in mA/cm**2 is 14.69\n"
       ]
      }
     ],
     "prompt_number": 3
    }
   ],
   "metadata": {}
  }
 ]
}