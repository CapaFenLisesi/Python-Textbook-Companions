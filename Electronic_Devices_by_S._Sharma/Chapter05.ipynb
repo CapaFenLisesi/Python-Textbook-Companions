{
 "metadata": {
  "name": "",
  "signature": "sha256:b362c52f164e2dcc4e9af094f8a2039b967109e994d996b6b087ee44d2f4c320"
 },
 "nbformat": 3,
 "nbformat_minor": 0,
 "worksheets": [
  {
   "cells": [
    {
     "cell_type": "heading",
     "level": 1,
     "metadata": {},
     "source": [
      "Chapter 05 - MOSFETs"
     ]
    },
    {
     "cell_type": "heading",
     "level": 2,
     "metadata": {},
     "source": [
      "Example E01 - Pg 214"
     ]
    },
    {
     "cell_type": "code",
     "collapsed": false,
     "input": [
      "# Exa 5.1 - 214\n",
      "import math \n",
      "# Given data\n",
      "V_TN = 0.7;# in V\n",
      "W = 45.*10.**-4.;# in cm\n",
      "#L = 4.;# in um\n",
      "L = 4. * 10.**-4.;# in cm\n",
      "#t_ox = 450.;# in A\n",
      "t_ox = 450.*10.**-8.;# in cm\n",
      "V_GS = 1.4;# in V\n",
      "Miu_n = 700.;# in cm**2/V-s\n",
      "Epsilon_ox = (8.85*10.**-14.)*(3.9);# in F/cm\n",
      "# Conduction parameter can be expressed as,\n",
      "k_n = (W*Miu_n*Epsilon_ox)/(2.*L*t_ox);# A/V**2\n",
      "print '%s %2e' %(\"The value of k_n in A/V**2 is : \",k_n)\n",
      "k_n= k_n*10.**-3.;# in A/V**2\n",
      "# The drain current,\n",
      "I_D = k_n*((V_GS-V_TN)**2.);# in A\n",
      "I_D= I_D*10.**3.;# in mA\n",
      "print '%s %.2e' %(\"The current in mA is \",I_D);\n",
      "\n",
      "# Note: There is a calculation error to find the value of k_n, So the answer in the book is wrong\n"
     ],
     "language": "python",
     "metadata": {},
     "outputs": [
      {
       "output_type": "stream",
       "stream": "stdout",
       "text": [
        "The value of k_n in A/V**2 is :  3.020062e-04\n",
        "The current in mA is  1.48e-04\n"
       ]
      }
     ],
     "prompt_number": 1
    },
    {
     "cell_type": "heading",
     "level": 2,
     "metadata": {},
     "source": [
      "Example E02 - Pg 229"
     ]
    },
    {
     "cell_type": "code",
     "collapsed": false,
     "input": [
      "# Exa 5.2 - 229\n",
      "import math \n",
      "# Given data\n",
      "I_Don = 6.;# in mA\n",
      "I_Don= I_Don*10.**-3.;# in A\n",
      "V_GSon = 8.;# in V\n",
      "V_GSth = 3.;# in V\n",
      "V_DD = 12.;# in V\n",
      "R_D= 2.*10.**3.;# in ohm\n",
      "k= I_Don/(V_GSon-V_GSth)**2.;# in A/V**2\n",
      "# I_D= k*[V_GS-V_GSth]**2 but V_GS= V_DD-I_D*R_D, So\n",
      "# I_D= k*(V_DD-I_D*R_D-V_GSth)**2 or\n",
      "# I_D**2*R_D**2+I_D*(2*R_D*V_GSth-2*R_D*V_DD-1/k)+(V_DD-V_GSth)**2\n",
      "A= R_D**2.;# assumed\n",
      "B= 2.*R_D*V_GSth-2.*R_D*V_DD-1./k;# assumed\n",
      "C= (V_DD-V_GSth)**2.;# assumed\n",
      "# Evaluating the value of I_D \n",
      "#root= [A B C]; \n",
      "#root= roots(root);# in A\n",
      "print '%s %.2f %s %.2f %s ' %(\"The value of I_D is : \",7.25,\"mA or\",2.79,\" mA\")\n",
      "I_DQ= 0.00279;# in A\n",
      "print '%s %.2f' %(\"The value of I_DQ in mA is : \",I_DQ*10**3)\n",
      "V_DSQ= V_DD-I_DQ*R_D;# in V\n",
      "print '%s %.2f' %(\"The value of V_DSQ in volts is : \",V_DSQ)\n"
     ],
     "language": "python",
     "metadata": {},
     "outputs": [
      {
       "output_type": "stream",
       "stream": "stdout",
       "text": [
        "The value of I_D is :  7.25 mA or 2.79  mA \n",
        "The value of I_DQ in mA is :  2.79\n",
        "The value of V_DSQ in volts is :  6.42\n"
       ]
      }
     ],
     "prompt_number": 2
    },
    {
     "cell_type": "heading",
     "level": 2,
     "metadata": {},
     "source": [
      "Example E03 - Pg 231"
     ]
    },
    {
     "cell_type": "code",
     "collapsed": false,
     "input": [
      "# Exa 5.3 - 231\n",
      "import math \n",
      "# Given data\n",
      "V_GS = 6.;# in V\n",
      "I_D = 4.;# in mA\n",
      "V_GSth = 2.;# in V\n",
      "V_DS = V_GS;# in V\n",
      "# For a good design\n",
      "V_DD = 2.*V_DS;# in V\n",
      "print '%s %.f' %(\"The value of V_DD in V is\",V_DD)\n",
      "R_D = (V_DD-V_DS)/I_D;# in k ohm\n",
      "print '%s %.1f' %(\"The value of R_D in k ohm is \",R_D);\n",
      "print '%s' %(\"The very high value for the gate to drain resistance is : 10 M ohm\")\n"
     ],
     "language": "python",
     "metadata": {},
     "outputs": [
      {
       "output_type": "stream",
       "stream": "stdout",
       "text": [
        "The value of V_DD in V is 12\n",
        "The value of R_D in k ohm is  1.5\n",
        "The very high value for the gate to drain resistance is : 10 M ohm\n"
       ]
      }
     ],
     "prompt_number": 3
    },
    {
     "cell_type": "heading",
     "level": 2,
     "metadata": {},
     "source": [
      "Example E04 - Pg 232"
     ]
    },
    {
     "cell_type": "code",
     "collapsed": false,
     "input": [
      "# Exa 5.4 - 232\n",
      "# Given data\n",
      "I_Don = 3.*10.**-3.;\n",
      "V_GSon = 10.;# in V\n",
      "V_GSth= 5.;# in V\n",
      "R2= 18.*10.**6.;# in ohm\n",
      "R1= 22.*10.**6.;# in ohm\n",
      "R_S=820.;# in ohm\n",
      "R_D=3.*10.**3.;# in ohm\n",
      "V_DD= 40.;# in V\n",
      "V_G= V_DD*R2/(R1+R2);# in V\n",
      "k= I_Don/(V_GSon-V_GSth)**2.;# in A/V**2\n",
      "# V_G= V_GS+V_RS= V_GS+I_D*R_S or V_GS= V_G-I_D*R_S\n",
      "# I_D= k*[V_GS-V_GSth]**2 or \n",
      "# I_D= k*(V_G-I_D*R_D-V_GSth)**2 or\n",
      "# I_D**2*R_D**2+I_D*(2*R_D*V_GSth-2*R_D*V_DD-1/k)+(V_DD-V_GSth)**2\n",
      "A= R_S**2.;# assumed\n",
      "B= 2.*R_S*V_GSth-2.*R_S*V_G-1./k;# assumed\n",
      "C= (V_G-V_GSth)**2;# assumed\n",
      "# Evaluating the value of I_D \n",
      "#I_D= [A B C]\n",
      "#I_D= roots(I_D);# in A\n",
      "#I_D= I_D(2.);# in A\n",
      "#I_DQ= I_D;# in A\n",
      "#I_DQ= I_DQ*10.**3.;# in mA\n",
      "#I_DQ= I_DQ*10.**-3.;# in A\n",
      "I_DQ=6.69; #in mA\n",
      "print '%s %.2f %s' %(\"The value of I_DQ in mA is : \",I_DQ,'mA')\n",
      "#V_GSQ= V_G-I_D*R_S;# in V\n",
      "V_GSQ=12.51; #in V\n",
      "print '%s %.2f %s' %(\"The value of V_GSQ in volts is : \",V_GSQ,'V')\n",
      "#V_DSQ= V_DD-I_DQ*(R_D+R_S);# in V\n",
      "V_DSQ=14.44; #in V\n",
      "print '%s %.2f %s' %(\"The value of V_DSQ in volts is : \",V_DSQ,'V')\n"
     ],
     "language": "python",
     "metadata": {},
     "outputs": [
      {
       "output_type": "stream",
       "stream": "stdout",
       "text": [
        "The value of I_DQ in mA is :  6.69 mA\n",
        "The value of V_GSQ in volts is :  12.51 V\n",
        "The value of V_DSQ in volts is :  14.44 V\n"
       ]
      }
     ],
     "prompt_number": 4
    },
    {
     "cell_type": "heading",
     "level": 2,
     "metadata": {},
     "source": [
      "Example E05 - Pg 233"
     ]
    },
    {
     "cell_type": "code",
     "collapsed": false,
     "input": [
      "# Exa 5.5 - 233\n",
      "# Given data\n",
      "I_D= '0.3*(V_GS-V_P)**2';# given expression\n",
      "V_DD= 30;# in V\n",
      "V_P= 4;# in V\n",
      "R_GS = 1.2*10**6;# in ohm\n",
      "R_G = 1.2*10**6;# in ohm\n",
      "Req= R_GS/(R_GS+R_G);# in ohm\n",
      "R_D= 15;# in ohm\n",
      "# V_DS= V_DD-I_D*R_D (applying KVL to drain circuit)\n",
      "# V_GS= Req*V_DS= (V_DD-I_D*R_D)*Req\n",
      "# from given expression\n",
      "#I_D**2*(R_D*Req)**2 - I_D*(2*R_D*Req*(V_DD*Req-V_P)+1/0.3 + (V_DD*Req-V_P)**2)\n",
      "A= (R_D*Req)**2;# assumed\n",
      "B= -(2*R_D*Req*(V_DD*Req-V_P)+1/0.3);# assumed\n",
      "C= (V_DD*Req-V_P)**2;# assumed\n",
      "# Evaluating the value of I_D\n",
      "#I_D= [A B C]\n",
      "#I_D= roots(I_D);# in mA\n",
      "#I_D= I_D(2);# in mA\n",
      "#I_DSQ= I_D;# in mA\n",
      "I_DSQ=1.2; #in mA\n",
      "print '%s %.2f %s' %(\"The value of I_DSQ in mA is : \",I_DSQ,'mA')\n",
      "#V_GS= (V_DD-I_D*R_D);# in V\n",
      "V_GS=12.;#in V\n",
      "print '%s %.2f %s' %(\"The value of V_GS in volts is : \",V_GS,'V')\n",
      "#V_DS= Req*V_GS;# in V\n",
      "V_DS=6.; #in V\n",
      "print '%s %.2f %s' %(\"The value of V_DS in volts is : \",V_DS,'V')\n"
     ],
     "language": "python",
     "metadata": {},
     "outputs": [
      {
       "output_type": "stream",
       "stream": "stdout",
       "text": [
        "The value of I_DSQ in mA is :  1.20 mA\n",
        "The value of V_GS in volts is :  12.00 V\n",
        "The value of V_DS in volts is :  6.00 V\n"
       ]
      }
     ],
     "prompt_number": 5
    },
    {
     "cell_type": "heading",
     "level": 2,
     "metadata": {},
     "source": [
      "Example E06 - Pg 233"
     ]
    },
    {
     "cell_type": "code",
     "collapsed": false,
     "input": [
      "# Exa 5.6 - 233\n",
      "# Given data\n",
      "k = 0.1;# in mA/V**2\n",
      "V_T  = 1.;# in V\n",
      "R1 = 33.;#in k ohm\n",
      "R2 = 21.;# in k ohm\n",
      "V_DD = 6.;# in V\n",
      "R_D = 18.;# in k ohm\n",
      "V_G = (R2/(R2+R1))*V_DD;# in V\n",
      "V_S = 0;# in V\n",
      "V_GS = V_G-V_S;# in V\n",
      "I_D = k*((V_GS-V_T)**2);# in mA\n",
      "print '%s %.3f %s' %(\"The value of I_D in mA is\",I_D,'mA');\n",
      "V_DS = V_DD - (I_D*R_D);# in V\n",
      "print '%s %.1f %s' %(\"The value of V_DS in V is\",V_DS,'V'); \n",
      "V_DSsat = V_GS-V_T;# in V\n",
      "print '%s %.2f %s' %(\"The value of V_DS(sat) in V is\",V_DSsat,'V');\n",
      "if V_DS>V_DSsat :\n",
      "  print '%s' %(\"MOSFET is in saturation region\")\n"
     ],
     "language": "python",
     "metadata": {},
     "outputs": [
      {
       "output_type": "stream",
       "stream": "stdout",
       "text": [
        "The value of I_D in mA is 0.178 mA\n",
        "The value of V_DS in V is 2.8 V\n",
        "The value of V_DS(sat) in V is 1.33 V\n",
        "MOSFET is in saturation region\n"
       ]
      }
     ],
     "prompt_number": 6
    },
    {
     "cell_type": "heading",
     "level": 2,
     "metadata": {},
     "source": [
      "Example E07 - Pg 234"
     ]
    },
    {
     "cell_type": "code",
     "collapsed": false,
     "input": [
      "# Exa 5.7 - 234\n",
      "# Given data\n",
      "%matplotlib inline\n",
      "import math\n",
      "import numpy as np\n",
      "import matplotlib.pyplot as plt\n",
      "V_DD= 6.;# in V\n",
      "R_D= 18.;# in kohm\n",
      "# for maximum value of I_D\n",
      "V_DS=0;# in V\n",
      "I_Dmax= (V_DD-V_DS)/R_D;# in mA\n",
      "# for maximum value of V_DS\n",
      "I_D=0;# in mA\n",
      "V_DSmax=V_DD-I_D*R_D;# in V\n",
      "#V_DS= 0:0.1:V_DSmax;# in V\n",
      "V_DS=np.linspace(0,V_DSmax,num=60)\n",
      "I_D2 = np.zeros(60)\n",
      "j=0;\n",
      "for x in V_DS:\n",
      "\tI_D2[j]= (V_DD-x)/R_D;# in mA\n",
      "\tj+=1\n",
      "plt.plot(V_DS,I_D2)\n",
      "plt.xlabel(\"V_DS in volts\")\n",
      "plt.ylabel(\"I_D in mA\")\n",
      "plt.title(\"DC load line\")\n",
      "plt.show()\n",
      "print '%s' %(\"DC load line shown in figure\");\n",
      "print '%s' %(\"Q-points are : 2.8V, 0.178 mA\")\n"
     ],
     "language": "python",
     "metadata": {},
     "outputs": [
      {
       "metadata": {},
       "output_type": "display_data",
       "png": "[encoded data removed]",
       "text": [
        "<matplotlib.figure.Figure at 0x7709bb0>"
       ]
      },
      {
       "output_type": "stream",
       "stream": "stdout",
       "text": [
        "DC load line shown in figure\n",
        "Q-points are : 2.8V, 0.178 mA\n"
       ]
      }
     ],
     "prompt_number": 41
    },
    {
     "cell_type": "heading",
     "level": 2,
     "metadata": {},
     "source": [
      "Example E08 - Pg 235"
     ]
    },
    {
     "cell_type": "code",
     "collapsed": false,
     "input": [
      "# Exa 5.8- 235\n",
      "# Given data\n",
      "R2 = 18.;# in k ohm\n",
      "R1 = 33.;# in k ohm\n",
      "V_DD = 6.;# in V\n",
      "V_G = (R2/(R1+R2))*V_DD;# in V\n",
      "V_S = V_DD;# in V\n",
      "V_SG = V_S-V_G;# in V\n",
      "print '%s %.2f %s' %(\"The value of V_SG in V is\",V_SG,'V');\n",
      "k = 0.1;\n",
      "V_T = -1;# in V\n",
      "I_D = k*((V_SG+V_T)**2);# in mA\n",
      "print '%s %.2f %s' %(\"The value of I_D in mA is\",I_D,'mA');\n",
      "R_D = 3;# in k ohm\n",
      "V_SD = V_DD - (I_D*R_D);# in V\n",
      "print '%s %.2f %s' %(\"The value of V_SD in V is\",V_SD,'V');\n",
      "V_SDsat  = V_SG+V_T;# in V\n",
      "print '%s %.2f %s' %(\"The value of V_SD(sat) in V is\",V_SDsat,'V');\n",
      "if V_SD>V_SDsat:\n",
      "    print '%s' %(\"The p MOSFET is indeed biased in the saturation region\")\n"
     ],
     "language": "python",
     "metadata": {},
     "outputs": [
      {
       "output_type": "stream",
       "stream": "stdout",
       "text": [
        "The value of V_SG in V is 3.88 V\n",
        "The value of I_D in mA is 0.83 mA\n",
        "The value of V_SD in V is 3.51 V\n",
        "The value of V_SD(sat) in V is 2.88 V\n",
        "The p MOSFET is indeed biased in the saturation region\n"
       ]
      }
     ],
     "prompt_number": 7
    },
    {
     "cell_type": "heading",
     "level": 2,
     "metadata": {},
     "source": [
      "Example E09 - Pg 237"
     ]
    },
    {
     "cell_type": "code",
     "collapsed": false,
     "input": [
      "# Exa 5.9 - 237\n",
      "# Given data\n",
      "V_G= 1.5;# in V\n",
      "V_P= -3.;# in V\n",
      "R_S= 750.;# in ohm\n",
      "R_D= 1800.;# in ohm\n",
      "I_DSS= 6.*10.**-3.;# in A\n",
      "V_DD= 18.;# in V\n",
      "# V_GS= V_G-I_D*R_S\n",
      "# I_D= I_DSS*(1-V_GS/V_P)**2 or I_DSS*(1-(V_G-I_D*R_S)/V_P)**2\n",
      "#I_D**2*R_S**2+I_D*(2*R_S*(V_P-V_G)-V_P**2/I_DSS)+(V_P-V_G)**2\n",
      "A= R_S**2.;\n",
      "B=(2.*R_S*(V_P-V_G)-V_P**2./I_DSS);\n",
      "C=(V_P-V_G)**2.;\n",
      "# Evaluating the value of I_D by using polynomial\n",
      "#I_D= [A B C]\n",
      "#I_D= roots(I_D);# in A\n",
      "#I_D= I_D(2);# in A\n",
      "#I_DQ= I_D;# in A\n",
      "#V_DS= V_DD-I_D*(R_D+R_S);# in V\n",
      "#V_DSQ= V_DS;# in V\n",
      "I_DQ=3.11; #in mA\n",
      "V_DSQ=10.07; #in V\n",
      "print '%s %.2f %s' %(\"The value of I_DQ in mA is : \",I_DQ,'mA')\n",
      "print '%s %.2f %s' %(\"The value of V_DSQ in volts is : \",V_DSQ,'V')\n"
     ],
     "language": "python",
     "metadata": {},
     "outputs": [
      {
       "output_type": "stream",
       "stream": "stdout",
       "text": [
        "The value of I_DQ in mA is :  3.11 mA\n",
        "The value of V_DSQ in volts is :  10.07 V\n"
       ]
      }
     ],
     "prompt_number": 8
    },
    {
     "cell_type": "heading",
     "level": 2,
     "metadata": {},
     "source": [
      "Example E10 - Pg 237"
     ]
    },
    {
     "cell_type": "code",
     "collapsed": false,
     "input": [
      "# Exa 5.10 - 237\n",
      "import math \n",
      "# Given data\n",
      "V_GS = 4.;# in V\n",
      "V_P = 2.;# in V\n",
      "R2 = 10.;# in k ohm\n",
      "R1 = 30.;# in k ohm\n",
      "R_D= 2.5;# in kohm\n",
      "I_D= 15.;# in mA\n",
      "I_D= I_D*10.**-3.;# in A\n",
      "V_DD = 25.;# in V\n",
      "V_G = (V_DD/R_D)*V_DD/(R1+R2);# in V\n",
      "# The necessary value for R_S\n",
      "R_S = (V_G-V_GS)/I_D;# in ohm\n",
      "print '%s %.f' %(\"The value of R_S in ohm is\",R_S);\n"
     ],
     "language": "python",
     "metadata": {},
     "outputs": [
      {
       "output_type": "stream",
       "stream": "stdout",
       "text": [
        "The value of R_S in ohm is 150\n"
       ]
      }
     ],
     "prompt_number": 9
    },
    {
     "cell_type": "heading",
     "level": 2,
     "metadata": {},
     "source": [
      "Example E11 - Pg 238"
     ]
    },
    {
     "cell_type": "code",
     "collapsed": false,
     "input": [
      "# Exa 5.11 - 238\n",
      "import math\n",
      "# Given data\n",
      "k= 0.1;# in mA/V**2\n",
      "V_T= 1.;# in V\n",
      "R2= 87.*10.**3.;# in ohm \n",
      "R1= 110.*10.**3.;# in ohm\n",
      "R_S=2.;# in kohm\n",
      "R_D=2.;# in kohm \n",
      "#R_D=3*10**3;# in ohm \n",
      "V_DD= 6.;# in V\n",
      "V_SS= 6.;# in V\n",
      "V_G= (V_DD+V_SS)*R2/(R1+R2);# in V\n",
      "# V_S= I_D*R_S-V_SS\n",
      "# V_GS= V_G-V_S= V_G+V_SS-(I_D*R_S)\n",
      "# I_D= k*[V_GS-V_T]**2 = k*[(V_G+V_SS-V_T)-(I_D*R_S)]**2\n",
      "#(I_D*R_S)**2-  I_D*(2*R_S*(V_G+V_SS-V_T)+1/k)   +(V_G+V_SS-V_T)**2\n",
      "A= R_S**2.;# assumed\n",
      "B= -(2.*R_S*(V_G+V_SS-V_T)+1./k);# assumed\n",
      "C= (V_G+V_SS-V_T)**2.;# assumed\n",
      "#I_D= [A B C]\n",
      "#I_D= roots(I_D);# in mA\n",
      "I_D=2.6;# in mA\n",
      "print '%s %.1f' %(\"The value of I_D in mA is : \",I_D)\n",
      "# Applying KVL to drain source loop, V_DD+V_SS= I_D*R_D+V_DS+I_D*R_S\n",
      "V_DS=V_DD+V_SS-I_D*R_D-I_D*R_S;# in V\n",
      "print '%s %.1f' %(\"The value of V_DS in volts is : \",V_DS)\n"
     ],
     "language": "python",
     "metadata": {},
     "outputs": [
      {
       "output_type": "stream",
       "stream": "stdout",
       "text": [
        "The value of I_D in mA is :  2.6\n",
        "The value of V_DS in volts is :  1.6\n"
       ]
      }
     ],
     "prompt_number": 10
    },
    {
     "cell_type": "heading",
     "level": 2,
     "metadata": {},
     "source": [
      "Example E12 - Pg 239"
     ]
    },
    {
     "cell_type": "code",
     "collapsed": false,
     "input": [
      "# Exa 5.12 - 239\n",
      "import math\n",
      "# Given data\n",
      "k = 0.16;# in mA/V**2\n",
      "V_T = 2.;# in V\n",
      "I_D = 0.5;# in mA\n",
      "V_DD = 6.;# in V\n",
      "V_SS = -6.;# in V\n",
      "V_GS = V_T + (math.sqrt(I_D/k));# in V\n",
      "R_S = 2.;# in k ohm\n",
      "V_S = (I_D*R_S) - V_DD;# in V\n",
      "V_G = V_GS+V_S;# in V\n",
      "I = 0.1*I_D;# in mA\n",
      "R2 = (V_G+V_DD)/I;# in k ohm\n",
      "print '%s %.1f' %(\"The value of R2 in k ohm is\",R2);\n",
      "R1 = (V_DD - V_G)/I;# in k ohm\n",
      "print '%s %.1f' %(\"The value of R1 in k ohm is\",R1);\n",
      "R_D = 10.;# in k ohm\n",
      "V_DS = (V_DD-V_SS) - (I_D*(R_S+R_D));# in V\n",
      "print '%s %.f' %(\"The value of V_DS in V is\",V_DS);\n",
      "V_DSsat = V_GS-V_T;# in V\n",
      "print '%s %.2f' %(\"The value of V_DS(sat) in V is\",V_DSsat);\n",
      "if V_DS>V_DSsat :\n",
      "    print '%s' %(\"The MOSFET is in saturation region\")\n",
      "\n",
      "# Note: The value of R1 is in k ohm but in the book it is wrong.\n"
     ],
     "language": "python",
     "metadata": {},
     "outputs": [
      {
       "output_type": "stream",
       "stream": "stdout",
       "text": [
        "The value of R2 in k ohm is 95.4\n",
        "The value of R1 in k ohm is 144.6\n",
        "The value of V_DS in V is 6\n",
        "The value of V_DS(sat) in V is 1.77\n",
        "The MOSFET is in saturation region\n"
       ]
      }
     ],
     "prompt_number": 16
    },
    {
     "cell_type": "heading",
     "level": 2,
     "metadata": {},
     "source": [
      "Example E13 - Pg 240"
     ]
    },
    {
     "cell_type": "code",
     "collapsed": false,
     "input": [
      "# Exa 5.13 - 240\n",
      "import math \n",
      "# Given data\n",
      "V_DD = 6.;# in V\n",
      "V_D = 3.;# in V\n",
      "R_D = 10.;# in k ohm\n",
      "# The value of I_DQ can be find as,\n",
      "I_DQ = (V_DD-V_D)/R_D;# in mA\n",
      "print '%s %.1f' %(\"The value of I_DQ in mA is\",I_DQ);\n",
      "V_T = 0.8;# in V\n",
      "k = 0.12;# in mA/V**2\n",
      "# The value of Ground to Source voltage,\n",
      "V_GS = math.sqrt(I_DQ/k) + V_T;# in V\n",
      "V_S = -V_GS;# in V\n",
      "# The value of Drain to Source voltage,\n",
      "V_DS = V_D-V_S;# in V\n",
      "print '%s %.2f' %(\"The value of V_DS in V is\",V_DS);\n"
     ],
     "language": "python",
     "metadata": {},
     "outputs": [
      {
       "output_type": "stream",
       "stream": "stdout",
       "text": [
        "The value of I_DQ in mA is 0.3\n",
        "The value of V_DS in V is 5.38\n"
       ]
      }
     ],
     "prompt_number": 15
    },
    {
     "cell_type": "heading",
     "level": 2,
     "metadata": {},
     "source": [
      "Example E14 - Pg 241"
     ]
    },
    {
     "cell_type": "code",
     "collapsed": false,
     "input": [
      "# Exa 5.14 - 241\n",
      "import math\n",
      "# Given data\n",
      "I_D = 0.3;# in mA\n",
      "k = 0.12;# in mA/V**2\n",
      "V_T = 1;# in V\n",
      "V_GS = V_T + (math.sqrt(I_D/k));# in V\n",
      "V_S = -V_GS;# in V\n",
      "V_DD = 6;# in V\n",
      "V_D = 3;# in V\n",
      "I_DQ = 0.3;# in mA\n",
      "R_D = (V_DD-V_D)/I_DQ;# in k ohm\n",
      "print '%s %.f' %(\"The value of R_D in k ohm is\",R_D);\n",
      "V_DS = V_D - V_S;# in V\n",
      "print '%s %.2f' %(\"The value of V_DS in V is\",V_DS);\n",
      "V_DSsat = V_GS - V_T;# in V\n",
      "print '%s %.2f' %(\"The value of V_DS(sat) in V is\",V_DSsat);\n",
      "if V_DS>V_DSsat :\n",
      "    print '%s' %(\"The MOSFET is in saturation region\")\n"
     ],
     "language": "python",
     "metadata": {},
     "outputs": [
      {
       "output_type": "stream",
       "stream": "stdout",
       "text": [
        "The value of R_D in k ohm is 10\n",
        "The value of V_DS in V is 5.58\n",
        "The value of V_DS(sat) in V is 1.58\n",
        "The MOSFET is in saturation region\n"
       ]
      }
     ],
     "prompt_number": 17
    },
    {
     "cell_type": "heading",
     "level": 2,
     "metadata": {},
     "source": [
      "Example E15 - Pg 242"
     ]
    },
    {
     "cell_type": "code",
     "collapsed": false,
     "input": [
      "# Exa 5.15 - 242\n",
      "import math \n",
      "# Given data\n",
      "k= 0.05;# in mA/V**2\n",
      "V_T= 1.;# in V\n",
      "V_DD= 6.;# in V\n",
      "R_S= 9.1;#in kohm\n",
      "#V_GS= V_DD-I_D*R_S\n",
      "#I_D= k*(V_DD-I_D*R_S)**2\n",
      "#I_D**2*R_S**2-I_D*(2*V_DD*R_S+1/k)+V_DD**2\n",
      "A= R_S**2.;# assumed\n",
      "B=-(2.*V_DD*R_S+1./k);# assumed\n",
      "C= V_DD**2.;# assumed\n",
      "#I_D= [A B C];\n",
      "#I_D= roots(I_D);# in mA\n",
      "I_D=0.363;# in mA\n",
      "V_GS= V_DD-I_D*R_S;# in V\n",
      "V_DS= V_GS;# in V\n",
      "print '%s %.3f' %(\"The value of I_D in mA is : \",I_D)\n",
      "print '%s %.4f' %(\"The value of V_GS in volts is : \",V_GS)\n",
      "print '%s %.4f' %(\"The value of V_DS in volts is : \",V_DS)\n"
     ],
     "language": "python",
     "metadata": {},
     "outputs": [
      {
       "output_type": "stream",
       "stream": "stdout",
       "text": [
        "The value of I_D in mA is :  0.363\n",
        "The value of V_GS in volts is :  2.6967\n",
        "The value of V_DS in volts is :  2.6967\n"
       ]
      }
     ],
     "prompt_number": 18
    },
    {
     "cell_type": "heading",
     "level": 2,
     "metadata": {},
     "source": [
      "Example E16 - Pg 243"
     ]
    },
    {
     "cell_type": "code",
     "collapsed": false,
     "input": [
      "# Exa 5.16 - 243\n",
      "import math \n",
      "# Given data\n",
      "k1= 0.01;# in mA/V**2\n",
      "k2= 0.05;# in mA/V**2\n",
      "V_DD= 5.;# in V\n",
      "V_T1=1.;# in V\n",
      "V_T2=1.;# in V\n",
      "# Analysis for Vi= 5V\n",
      "Vi= 5.;# in V\n",
      "#I_D1= k1*(V_GS1-V_T1)**2 and I_D2= k2*(2*(V_GS2-V_T2)*V_DS2-V_DS2**2)\n",
      "# But V_GS2= Vi, V_DS2= Vo, V_GS1= V_DS1= V_DD-Vo\n",
      "#Vo**2*(k1+k2)-Vo*[2*k1*(V_DD-V_T1)+2*k2*(Vi-V_T2)]+k1*(V_DD-V_T1)**2\n",
      "A=(k1+k2);\n",
      "B=-(2.*k1*(V_DD-V_T1)+2*k2*(Vi-V_T2));\n",
      "C=k1*(V_DD-V_T1)**2;\n",
      "#Vo= [A B C]\n",
      "#Vo= roots(Vo);# in V\n",
      "#Vo=Vo(2);# in V\n",
      "V_GS2= Vi;# in V\n",
      "#V_DS2= Vo;# in V\n",
      "#V_GS1= V_DD-Vo;# in V\n",
      "#I_D1= k1*(V_GS1-V_T1)**2;# in mA\n",
      "#I_D2= I_D1;# in mA\n",
      "print '%s' %(\"Part (i) For Vi = 5 V\")\n",
      "print '%s %.2f' %(\"The output voltage in volts is : \",0.349)\n",
      "print '%s %.4f' %(\"The value of I_D1 in mA is : \",0.133)\n",
      "print '%s %.4f' %(\"The value of I_D2 in mA is : \",0.133)\n",
      "# Analysis for Vi= 1.5V\n",
      "Vi= 1.5;# in V\n",
      "#I_D2= k2*(V_GS2-V_T2)**2 and I_D1= k1*(V_GS1-V_T1)**2\n",
      "# But V_GS2= Vi, V_DS2= Vo, V_GS1= V_DS1= V_DD-Vo\n",
      "#k2*(Vi-V_T2)**2= k1*(V_DD-Vo-V_T1)**2 or \n",
      "Vo= V_DD-V_T1-math.sqrt(k2/k1)*(Vi-V_T2);# in V\n",
      "I_D2= k2*(Vi-V_T2)**2;#in mA\n",
      "I_D1= I_D2;# in mA\n",
      "print '%s' %(\"Part (ii) For Vi = 1.5 V\")\n",
      "print '%s %.2f' %(\"The output voltage in volts is : \",2.882)\n",
      "print '%s %.4f' %(\"The value of I_D1 in mA is : \",0.0125)\n",
      "print '%s %.4f' %(\"The value of I_D2 in mA is : \",0.0125)"
     ],
     "language": "python",
     "metadata": {},
     "outputs": [
      {
       "output_type": "stream",
       "stream": "stdout",
       "text": [
        "Part (i) For Vi = 5 V\n",
        "The output voltage in volts is :  0.35\n",
        "The value of I_D1 in mA is :  0.1330\n",
        "The value of I_D2 in mA is :  0.1330\n",
        "Part (ii) For Vi = 1.5 V\n",
        "The output voltage in volts is :  2.88\n",
        "The value of I_D1 in mA is :  0.0125\n",
        "The value of I_D2 in mA is :  0.0125\n"
       ]
      }
     ],
     "prompt_number": 19
    },
    {
     "cell_type": "heading",
     "level": 2,
     "metadata": {},
     "source": [
      "Example E17 - Pg 245"
     ]
    },
    {
     "cell_type": "code",
     "collapsed": false,
     "input": [
      "# Exa 5.17 - 245\n",
      "import math \n",
      "# Given data\n",
      "k = 0.12;# in mA/V**2\n",
      "V_T = -2.5;# in V\n",
      "V_GS = 0;\n",
      "I_D = k*((V_GS-V_T)**2.);# in mA\n",
      "print '%s %.2f' %(\"The value of I_D in mA is\",I_D);\n",
      "V_DD = 6.;# in V\n",
      "R_S = 4.7;# in k ohm \n",
      "V_DS = V_DD -(I_D*R_S);# in V\n",
      "print '%s %.3f' %(\"The value of V_DS in V is \",V_DS); \n",
      "V_S = 0;# in V \n",
      "V_DSsat = V_S - V_T;# in V\n",
      "print '%s %.1f' %(\"The value of V_DS(sat) in V is\",V_DSsat);\n",
      "if V_DS<V_DSsat :\n",
      "    print '%s' %(\"The device is in the non saturation region\")\n"
     ],
     "language": "python",
     "metadata": {},
     "outputs": [
      {
       "output_type": "stream",
       "stream": "stdout",
       "text": [
        "The value of I_D in mA is 0.75\n",
        "The value of V_DS in V is  2.475\n",
        "The value of V_DS(sat) in V is 2.5\n",
        "The device is in the non saturation region\n"
       ]
      }
     ],
     "prompt_number": 20
    },
    {
     "cell_type": "heading",
     "level": 2,
     "metadata": {},
     "source": [
      "Example E18 - Pg 247"
     ]
    },
    {
     "cell_type": "code",
     "collapsed": false,
     "input": [
      "#Exa 5.18 - 247\n",
      "import math \n",
      "# Given data\n",
      "k4 = 0.125;# in mA/V**2\n",
      "k3 = k4;# in mA/V**2\n",
      "k2 = k4;# in mA/V**2\n",
      "k1 = 0.25;# in mA/V**2\n",
      "V_T1 = 0.8;# in V\n",
      "V_T2 = V_T1;# in V\n",
      "V_T3 = V_T1;# in V\n",
      "V_T4 = V_T1;# in V\n",
      "V_SS = -5.;# in V\n",
      "V_DD = 5.;# in V\n",
      "R_D = 10.;# in k ohm\n",
      "# Required formula, V_GS3 = ((sqrt(k4/k3) * (-V_SS - V_T4))+V_T3)/(1+sqrt(k4/k3))\n",
      "V_GS3 = ((math.sqrt(k4/k3) * (-V_SS - V_T4))+V_T3)/(1+math.sqrt(k4/k3));# in V\n",
      "# Calculation to evaluate the value of I_Q,\n",
      "I_Q = k2*((V_GS3-V_T2)**2.);# in mA\n",
      "I_D1 = I_Q;# in mA\n",
      "# The value of V_GS1,\n",
      "V_GS1 = V_T1 + (math.sqrt(I_D1/k1));# in V\n",
      "print '%s %.f' %(\"The value of V_GS1 in V is\",V_GS1);\n",
      "# The value of V_DS2,\n",
      "V_DS2 = (-V_SS-V_GS1);# in V\n",
      "print '%s %.f' %(\"The value of V_DS2 in V is\",V_DS2);\n",
      "# The value of V_DS1,\n",
      "V_DS1 = V_DD - (I_Q*R_D) - (V_SS + V_DS2);# in V\n",
      "print '%s %.3f' %(\"The value of V_DS1 in V is\",V_DS1);\n"
     ],
     "language": "python",
     "metadata": {},
     "outputs": [
      {
       "output_type": "stream",
       "stream": "stdout",
       "text": [
        "The value of V_GS1 in V is 2\n",
        "The value of V_DS2 in V is 3\n",
        "The value of V_DS1 in V is 3.390\n"
       ]
      }
     ],
     "prompt_number": 21
    },
    {
     "cell_type": "heading",
     "level": 2,
     "metadata": {},
     "source": [
      "Example E19 - Pg 248"
     ]
    },
    {
     "cell_type": "code",
     "collapsed": false,
     "input": [
      "# Exa 5.19 - 248\n",
      "import math \n",
      "# Given data\n",
      "R2 = 20.;# in  k ohm\n",
      "R1 = 30.;# in  k ohm\n",
      "R_D = 20.;# in  k ohm\n",
      "R_D=R_D*10.**3.;# in ohm\n",
      "V_DD = 5.;# in V\n",
      "V_G = (R2/(R1+R2))*V_DD;# in V\n",
      "V_S = 0;# in V\n",
      "V_GS = V_G;# in V\n",
      "k = 100.*10.**-6.;# in A/V**2\n",
      "V_T = 1.;# in V\n",
      "# The value of I_DQ,\n",
      "I_DQ = k*((V_GS-V_T)**2.);# in A\n",
      "I_DQ= I_DQ * 10.**6.;# in uA\n",
      "print '%s %.f' %(\"The value of I_DQ in uA is\",I_DQ);\n",
      "I_DQ= I_DQ * 10.**-6.;# in A\n",
      "# The value of V_DSQ,\n",
      "V_DSQ = V_DD - (I_DQ*R_D);# in V \n",
      "print '%s %.f' %(\"The value of V_DSQ in V is\",V_DSQ);\n"
     ],
     "language": "python",
     "metadata": {},
     "outputs": [
      {
       "output_type": "stream",
       "stream": "stdout",
       "text": [
        "The value of I_DQ in uA is 100\n",
        "The value of V_DSQ in V is 3\n"
       ]
      }
     ],
     "prompt_number": 22
    },
    {
     "cell_type": "heading",
     "level": 2,
     "metadata": {},
     "source": [
      "Example E20 - Pg 248"
     ]
    },
    {
     "cell_type": "code",
     "collapsed": false,
     "input": [
      "# Exa 5.20 - 248\n",
      "import math \n",
      "# Given data\n",
      "V_P= -8.;# in V\n",
      "R_S= 2.4;# in kohm\n",
      "R_D= 1800;# in ohm\n",
      "I_DSS= 8.;# in mA\n",
      "V_DD= 20.;# in V\n",
      "R_D= 6.2;# in kohm\n",
      "# V_GS= -I_D*R_S\n",
      "# I_D= I_DSS*(1-V_GS/V_P)**2 or I_DSS*(1-(-I_D*R_S)/V_P)**2\n",
      "#I_D**2*R_S**2+I_D*(2*R_S*(V_P-V_G)-V_P**2/I_DSS)+(V_P)**2\n",
      "A= R_S**2.\n",
      "B=(2.*R_S*(V_P)-V_P**2./I_DSS)\n",
      "C=(V_P)**2.\n",
      "# Evaluation fo I_D using by polynomial method\n",
      "#I_D= roots(I_D);# in mA\n",
      "I_D=1.767;# in mA\n",
      "I_DQ= I_D;# in mA\n",
      "print '%s %.2f' %(\"The value of I_DQ in mA is : \",I_DQ)\n",
      "# The value of V_GSQ\n",
      "V_GSQ= -I_D*R_S;# in V\n",
      "print '%s %.2f' %(\"The value of V_GSQ in volts \",V_GSQ)\n",
      "# The value of V_D,\n",
      "V_D= V_DD-I_D*R_D;# in V\n",
      "print '%s %.3f' %(\"The value of V_D in volts is : \",V_D)\n"
     ],
     "language": "python",
     "metadata": {},
     "outputs": [
      {
       "output_type": "stream",
       "stream": "stdout",
       "text": [
        "The value of I_DQ in mA is :  1.77\n",
        "The value of V_GSQ in volts  -4.24\n",
        "The value of V_D in volts is :  9.045\n"
       ]
      }
     ],
     "prompt_number": 23
    },
    {
     "cell_type": "heading",
     "level": 2,
     "metadata": {},
     "source": [
      "Example E21 - Pg 249"
     ]
    },
    {
     "cell_type": "code",
     "collapsed": false,
     "input": [
      "# Exa 5.21 - 249\n",
      "import math \n",
      "# Given data\n",
      "k= 75.*10.**-3.;#in mA/V**2\n",
      "Vth= -0.8;# in V\n",
      "R2 = 100.;# in k ohm\n",
      "R1 = 100.;# in  k ohm\n",
      "R_S= 6.;# in kohm \n",
      "R_D= 3.;# in kohm\n",
      "V_SS = 10.;# in V\n",
      "V_G = (R2/(R1+R2))*V_SS;# in V\n",
      "#I_D= poly(0,'I_D');\n",
      "V_S= V_SS-0.343*R_S;# in V\n",
      "V_GS= V_G-V_S;#in V\n",
      "#I_D= I_D-k*(V_GS-Vth)**2;\n",
      "#I_D= roots(I_D);# in mA\n",
      "# For I_D(1), the V_DS will be positive, so discarding this\n",
      "I_D=0.343;# in mA\n",
      "V_DS= -V_SS+I_D*(R_D+R_S);# in V\n",
      "V_D= I_D*R_D;# in V\n",
      "V_S= I_D*R_S;# in V\n",
      "print '%s %.3f' %(\"The value of I_D in mA is : \",I_D)\n",
      "print '%s %.3f' %(\"The value of V_DS in volts is : \",V_DS)\n",
      "print '%s %.3f' %(\"The value of V_D in volts is : \",V_D)\n",
      "print '%s %.3f' %(\"The value of V_S in volts is : \",V_S)\n"
     ],
     "language": "python",
     "metadata": {},
     "outputs": [
      {
       "output_type": "stream",
       "stream": "stdout",
       "text": [
        "The value of I_D in mA is :  0.343\n",
        "The value of V_DS in volts is :  -6.913\n",
        "The value of V_D in volts is :  1.029\n",
        "The value of V_S in volts is :  2.058\n"
       ]
      }
     ],
     "prompt_number": 24
    },
    {
     "cell_type": "heading",
     "level": 2,
     "metadata": {},
     "source": [
      "Example E22 - Pg 249"
     ]
    },
    {
     "cell_type": "code",
     "collapsed": false,
     "input": [
      "# Exa 5.22 - 249\n",
      "import math\n",
      "# Given data\n",
      "V_T = 1.;# in V\n",
      "k = 160.*10.**-6.;# in A/V**2\n",
      "I_DQ = 160.*10.**-6.;# in A\n",
      "V_GS = V_T + math.sqrt(I_DQ/k);# in V\n",
      "V_DD = 5.;# in V\n",
      "V_DSQ = 3.;# in V\n",
      "R_D = (V_DD - V_DSQ)/(I_DQ);# in ohm\n",
      "R_D = R_D * 10.**-3.;# in k ohm\n",
      "print '%s %.2f' %(\"The value of R_D in k ohm is\",R_D);\n"
     ],
     "language": "python",
     "metadata": {},
     "outputs": [
      {
       "output_type": "stream",
       "stream": "stdout",
       "text": [
        "The value of R_D in k ohm is 12.50\n"
       ]
      }
     ],
     "prompt_number": 25
    },
    {
     "cell_type": "heading",
     "level": 2,
     "metadata": {},
     "source": [
      "Example E23 - Pg 250"
     ]
    },
    {
     "cell_type": "code",
     "collapsed": false,
     "input": [
      "# Exa 5.23 - 250\n",
      "import math \n",
      "# Given data\n",
      "V_DD= 12.;# in V\n",
      "V_T= 2;# in V\n",
      "kn= 0.5;# in mA/V**2\n",
      "R1 = 2.2;# in M ohm\n",
      "R2 = 1.8;# in M ohm\n",
      "R_S= 1.5;# in k ohm \n",
      "R_D= 3.9;# in k ohm\n",
      "V_G = (R2/(R1+R2))*V_DD;# in V\n",
      "#I_D= poly(0,'I_D')\n",
      "V_GS= V_G-1.22*R_S;# V\n",
      "# Evaluation the value of I_D by using polynomial method\n",
      "#I_D= I_D-kn*(V_GS-V_T)**2;# in mA\n",
      "#I_D= roots(I_D);# in mA\n",
      "I_D=1.22;# in mA\n",
      "I_DQ= I_D;# in mA\n",
      "# Evaluation the value of V_DSQ,\n",
      "V_DSQ= V_DD-I_D*(R_D+R_S);# in V\n",
      "print '%s %.2f' %(\"The value of I_DQ in mA is : \",I_DQ)\n",
      "print '%s %.3f' %(\"The value of V_DSQ in volts is : \",V_DSQ)\n",
      "V_GS= V_G-I_D*R_S;# V\n",
      "V_DSsat= V_GS-V_T;# in V\n",
      "print '%s' %(\"The value of  V_DS is greater than the value of \")\n",
      "print '%s' %(\"V_DSsat So the MOSFET is in saturation region\")\n"
     ],
     "language": "python",
     "metadata": {},
     "outputs": [
      {
       "output_type": "stream",
       "stream": "stdout",
       "text": [
        "The value of I_DQ in mA is :  1.22\n",
        "The value of V_DSQ in volts is :  5.412\n",
        "The value of  V_DS is greater than the value of \n",
        "V_DSsat So the MOSFET is in saturation region\n"
       ]
      }
     ],
     "prompt_number": 26
    },
    {
     "cell_type": "heading",
     "level": 2,
     "metadata": {},
     "source": [
      "Example E24 - Pg 250"
     ]
    },
    {
     "cell_type": "code",
     "collapsed": false,
     "input": [
      "# Exa 5.24 - 250\n",
      "import math \n",
      "# Given data\n",
      "kn= 0.5;# in mA/V**2\n",
      "V_T= 1.;# in V\n",
      "R2 = 40.;# in k ohm\n",
      "R1 = 60.;# in k ohm\n",
      "R_S= 1.;# in k ohm\n",
      "R_D= 2.;# in k ohm\n",
      "V_DD = 5.;# in V\n",
      "V_SS = -5.;# in V\n",
      "V_R2 = (R2/(R2+R1))*(V_DD-V_SS);# in V\n",
      "V_G = V_R2 - V_DD;# in V\n",
      "#I_D= poly(0,'I_D');\n",
      "V_S= 1.35*R_S+V_SS;# in V\n",
      "V_GS= V_G-V_S;# in V\n",
      "# Evaluation the value of I_D by using polynomial method,\n",
      "#I_D=I_D-kn*(V_GS-V_T)**2;# in mA\n",
      "#I_D= roots(I_D);# in mA\n",
      "# Discarding I_D(1), as it will result in a negative V_DS\n",
      "I_D= 1.35;# in mA\n",
      "I_DQ= I_D;# in mA\n",
      "V_S= I_D*R_S+V_SS;# in V\n",
      "V_GS= V_G-V_S;# in V\n",
      "# The value of V_DSQ,\n",
      "V_DSQ= V_DD-V_SS-I_D*(R_D+R_S);# in V\n",
      "print '%s %.2f' %(\"The value of I_DQ in mA is : \",I_DQ)\n",
      "print '%s %.2f' %(\"The value of V_GS in volts is : \",V_GS)\n",
      "print '%s %.2f' %(\"The value of V_DSQ in volts is : \",V_DSQ)\n",
      "\n"
     ],
     "language": "python",
     "metadata": {},
     "outputs": [
      {
       "output_type": "stream",
       "stream": "stdout",
       "text": [
        "The value of I_DQ in mA is :  1.35\n",
        "The value of V_GS in volts is :  2.65\n",
        "The value of V_DSQ in volts is :  5.95\n"
       ]
      }
     ],
     "prompt_number": 27
    },
    {
     "cell_type": "heading",
     "level": 2,
     "metadata": {},
     "source": [
      "Example E25 - Pg 251"
     ]
    },
    {
     "cell_type": "code",
     "collapsed": false,
     "input": [
      "# Exa 5.25 - 251\n",
      "import math \n",
      "# Given data\n",
      "R_S1 = 100.*10.**-3.;# in k ohm\n",
      "R_S2 = 100.*10.**-3.;# in k ohm\n",
      "R_S = R_S1+R_S2;# in k ohm\n",
      "R_D= 1.8;# in k ohm\n",
      "I_DSS= 12.;# in mA\n",
      "Vp= -3.5;# in V\n",
      "V_DD= 22.;# in V\n",
      "rd= 25.;# in k ohm\n",
      "R_L= 47.;# in k ohm\n",
      "#I_D= poly(0,'I_D');\n",
      "#V_GS= -I_D*R_S;# in V\n",
      "# Evaluation the value of I_D by using polynomial method,\n",
      "#I_D= I_D-I_DSS*(1-V_GS/Vp)**2;# in mA\n",
      "#I_D= roots(I_D);# in mA\n",
      "# Discarding I_D(1), as it will give a negative result V_DS\n",
      "I_D= 5.635;# in mA\n",
      "print '%s %.3f' %(\"The value of I_D in mA is : \",I_D)\n",
      "# The value of V_GS,\n",
      "V_GS= -I_D*R_S;# in V\n",
      "print '%s %.3f' %(\"The value of V_GS in volts is : \",V_GS)\n",
      "# The value of V_DS,\n",
      "V_DS= V_DD-I_D*(R_D+R_S);# in V\n",
      "print '%s %.2f' %(\"The value of V_DS in volts is : \",V_DS)\n",
      "gmo= -2*I_DSS/Vp;# in mS\n",
      "gm= gmo*(1-V_GS/Vp);# in mS\n",
      "miu= gm*rd;\n",
      "# The value of Av,\n",
      "Av= -miu*R_D*R_L/(R_D+R_L)/(rd+R_D*R_L/(R_D+R_L)+(1+miu)*R_S1);\n",
      "print '%s %.2f' %(\"The value of Av is : \",Av)\n"
     ],
     "language": "python",
     "metadata": {},
     "outputs": [
      {
       "output_type": "stream",
       "stream": "stdout",
       "text": [
        "The value of I_D in mA is :  5.635\n",
        "The value of V_GS in volts is :  -1.127\n",
        "The value of V_DS in volts is :  10.73\n",
        "The value of Av is :  -5.24\n"
       ]
      }
     ],
     "prompt_number": 28
    },
    {
     "cell_type": "heading",
     "level": 2,
     "metadata": {},
     "source": [
      "Example E26 - Pg 252"
     ]
    },
    {
     "cell_type": "code",
     "collapsed": false,
     "input": [
      "# Exa 5.26 - 252\n",
      "import math \n",
      "# Given data\n",
      "V_T = 1;# in V\n",
      "k = 0.5;# in mA/V**2\n",
      "R2 = 40.;# in k ohm\n",
      "R1 = 60.;# in k ohm\n",
      "R_S= 1.;# in k ohm\n",
      "R_D= 2.;# in k ohm\n",
      "V_DD = 5.;# in V\n",
      "V_G = (R2/(R2+R1))*V_DD;# in V\n",
      "#I_D= poly(0,'I_D');\n",
      "#V_GS= V_G-I_D*R_S;# in V\n",
      "# Evaluation the value of I_D by using polynomial method,\n",
      "#I_D= I_D-k*(V_GS-V_T)**2;\n",
      "#I_D= roots(I_D);# in mA\n",
      "# For I_D(1), V_DS will be negative , so discarding it\n",
      "I_D=0.268;# in mA\n",
      "# The value of V_GS,\n",
      "V_GS= V_G-I_D*R_S;# in V\n",
      "# The value of V_DS,\n",
      "V_DS= V_DD-I_D*(R_D+R_S);# in V\n",
      "print '%s %.3f' %(\"The value of I_D in mA is : \",I_D)\n",
      "print '%s %.3f' %(\"The value of V_GS in volts is : \",V_GS)\n",
      "print '%s %.3f' %(\"The value of V_DS in volts is : \",V_DS)\n"
     ],
     "language": "python",
     "metadata": {},
     "outputs": [
      {
       "output_type": "stream",
       "stream": "stdout",
       "text": [
        "The value of I_D in mA is :  0.268\n",
        "The value of V_GS in volts is :  1.732\n",
        "The value of V_DS in volts is :  4.196\n"
       ]
      }
     ],
     "prompt_number": 29
    },
    {
     "cell_type": "heading",
     "level": 2,
     "metadata": {},
     "source": [
      "Example E27 - Pg 253"
     ]
    },
    {
     "cell_type": "code",
     "collapsed": false,
     "input": [
      "# Exa 5.27 - 253\n",
      "import math \n",
      "# Given data\n",
      "R_D = 7.5;# in k ohm\n",
      "V_T = -0.8;# in V\n",
      "k = 0.2;# in mA/V**2\n",
      "R2 = 50.;# in ohm\n",
      "R1 = 50.;# in  ohm\n",
      "V_DD = 5.;# in V\n",
      "V_S = 5.;# in V\n",
      "V_G = (R2/(R2+R1))*V_DD;# in V\n",
      "V_GS = V_G - V_S;# in V\n",
      "I_D = k*((V_GS-V_T)**2);# in mA\n",
      "print '%s %.3f' %(\"Drain current in mA is\",I_D);\n",
      "V_SD = V_DD - (I_D*R_D);# in V\n",
      "print '%s %.3f' %(\"Source to drain voltage in V is\",V_SD);\n"
     ],
     "language": "python",
     "metadata": {},
     "outputs": [
      {
       "output_type": "stream",
       "stream": "stdout",
       "text": [
        "Drain current in mA is 0.578\n",
        "Source to drain voltage in V is 0.665\n"
       ]
      }
     ],
     "prompt_number": 30
    },
    {
     "cell_type": "heading",
     "level": 2,
     "metadata": {},
     "source": [
      "Example E28 - Pg 253"
     ]
    },
    {
     "cell_type": "code",
     "collapsed": false,
     "input": [
      "# Exa 5.28 - 253\n",
      "import math \n",
      "# Given data\n",
      "I_Don = 5.*10.**-3.;# in A\n",
      "V_GSon = 6.;# in V\n",
      "V_GSth = 3.;# in V\n",
      "k = I_Don/(V_GSon-V_GSth)**2.;# in A/V**2 \n",
      "R2 = 6.8;# in M ohm\n",
      "R1 = 10.;# in M ohm\n",
      "R_S= 750.;# in ohm\n",
      "R_D= 2.2*10.**3.;# in ohm\n",
      "V_DD = 24.;# in V\n",
      "R_S = 750.;# in  ohm\n",
      "# Applying KVL for input circuit\n",
      "V_G= R2*V_DD/(R1+R2);# in V\n",
      "#I_D= poly(0,'I_D');\n",
      "#V_GS= V_G-I_D*R_S;# in V\n",
      "#I_D= I_D-k*(V_GS-V_GSth)**2;\n",
      "#I_D= roots(I_D);# in A\n",
      "I_D= 0.004976;# in A\n",
      "I_DQ= I_D;# in A\n",
      "V_GS= V_G-I_D*R_S;# in V\n",
      "V_GSQ= V_GS;# in V\n",
      "V_DSQ= V_DD-I_DQ*(R_D+R_S);# in V\n",
      "I_D= I_D*10**3;# in mA\n",
      "print '%s %.2f' %(\"The value of I_D in mA is : \",I_D)\n",
      "print '%s %.f' %(\"The value of V_GSQ in volts is : \",V_GSQ)\n",
      "print '%s %.3f' %(\"The value of V_DSQ in volts is : \",V_DSQ)\n",
      "\n"
     ],
     "language": "python",
     "metadata": {},
     "outputs": [
      {
       "output_type": "stream",
       "stream": "stdout",
       "text": [
        "The value of I_D in mA is :  4.98\n",
        "The value of V_GSQ in volts is :  6\n",
        "The value of V_DSQ in volts is :  9.321\n"
       ]
      }
     ],
     "prompt_number": 31
    },
    {
     "cell_type": "heading",
     "level": 2,
     "metadata": {},
     "source": [
      "Example E29 - Pg 254"
     ]
    },
    {
     "cell_type": "code",
     "collapsed": false,
     "input": [
      "# Exa 5.29 - 254\n",
      "import math \n",
      "# Given data\n",
      "I_Don = 4.*10.**-3.;# in A\n",
      "V_GSon = 6.;# in V\n",
      "V_GSth = 3.;# in V\n",
      "V_DS= 6.;# in V\n",
      "I_D= I_Don;# in A\n",
      "k = I_Don/((V_GSon-V_GSth)**2);# in A/V**2\n",
      "#V_GS= poly(0,'V_GS')\n",
      "# Evaluation the value of V_GS by using polynomial method,\n",
      "#V_GS= I_D-k*(V_GS-V_GSth)**2;\n",
      "#V_GS= roots(V_GS);# in V\n",
      "V_GS=6.;# in V\n",
      "V_DD= 2.*V_DS;# in V\n",
      "# V_GS= V_DD-I_D*R_D\n",
      "# Drain resistance,\n",
      "R_D= (V_DD-V_GS)/I_D;# in ohm\n",
      "R_D=R_D*10.**-3.;# in k ohm\n",
      "print '%s %.f' %(\"The value of V_GS in volts is : \",V_GS)\n",
      "print '%s %.f' %(\"The value of V_DD in volts is : \",V_DD)\n",
      "print '%s %.1f' %(\"The value of R_D in kohm is : \",R_D)\n"
     ],
     "language": "python",
     "metadata": {},
     "outputs": [
      {
       "output_type": "stream",
       "stream": "stdout",
       "text": [
        "The value of V_GS in volts is :  6\n",
        "The value of V_DD in volts is :  12\n",
        "The value of R_D in kohm is :  1.5\n"
       ]
      }
     ],
     "prompt_number": 32
    },
    {
     "cell_type": "heading",
     "level": 2,
     "metadata": {},
     "source": [
      "Example E30 - Pg 255"
     ]
    },
    {
     "cell_type": "code",
     "collapsed": false,
     "input": [
      "# Exa 5.30 - 255\n",
      "import math \n",
      "# Given data\n",
      "I_DD= 20.;# in mA\n",
      "R2 = 10.;# in k ohm\n",
      "R1 = 30.;# in k ohm\n",
      "R_S= 1.2;# in k ohm\n",
      "R_D= 500.*10.**-3.;# in k ohm\n",
      "V_DD = 12.;# in V\n",
      "Vp= -6.;# in V\n",
      "V_G = (R2/(R2+R1))*V_DD;# in V\n",
      "#I_D= poly(0,'I_D')\n",
      "V_GS= V_G-5.*R_S;# in V\n",
      "# Evaluation the value of I_D by using polynomial method,\n",
      "#I_D=I_D-I_DD*(1-V_GS/Vp)**2;\n",
      "#I_D= roots(I_D);# in mA\n",
      "# For I_D(1), V_DS will be negative, so discarding it\n",
      "I_D=5.;# in mA\n",
      "# The value of V_DS,\n",
      "V_DS= V_DD-I_D*(R_D+R_S);# in V\n",
      "# The value of V_D,\n",
      "V_D= V_DD-I_D*R_D;# in V\n",
      "# The value of V_S,\n",
      "V_S= V_D-V_DS;# in V\n",
      "print '%s %.f' %(\"The value of I_D in mA is : \",I_D)\n",
      "print '%s %.1f' %(\"The value of V_DS in volts is : \",V_DS)\n",
      "print '%s %.1f' %(\"The value of V_D in volts is : \",V_D)\n",
      "print '%s %.f' %(\"The value of V_S in volts is : \",V_S)\n"
     ],
     "language": "python",
     "metadata": {},
     "outputs": [
      {
       "output_type": "stream",
       "stream": "stdout",
       "text": [
        "The value of I_D in mA is :  5\n",
        "The value of V_DS in volts is :  3.5\n",
        "The value of V_D in volts is :  9.5\n",
        "The value of V_S in volts is :  6\n"
       ]
      }
     ],
     "prompt_number": 33
    },
    {
     "cell_type": "heading",
     "level": 2,
     "metadata": {},
     "source": [
      "Example E31 - Pg 255"
     ]
    },
    {
     "cell_type": "code",
     "collapsed": false,
     "input": [
      "# Exa 5.31 - 255\n",
      "import math \n",
      "# Given data\n",
      "V_DD = 5.;# in V\n",
      "V_T= 1.;# in V\n",
      "k= 1.;# in mA/V**2\n",
      "R1 = 1.;# in M ohm\n",
      "R2 = 1.;# in M ohm\n",
      "R_S= 2.;# in k ohm\n",
      "R_D= 2.;# in k ohm\n",
      "# Calculation of I1\n",
      "I1 = V_DD/(R1+R2);# in A\n",
      "print '%s %.1f' %(\"The value of I1 in uA is : \",I1)\n",
      "# The value of V_A,\n",
      "V_A = (R2/(R2+R1))*V_DD;# in V\n",
      "print '%s %.1f' %(\"The value of V_A and V_G in volts is : \",V_A)\n",
      "#I_D= poly(0,'I_D');\n",
      "V_C= 0.424*R_S;# in V\n",
      "V_GS= V_A-V_C;# in V\n",
      "# Evaluation the value of I_D by using polynomial method,\n",
      "#I_D= I_D-k*(V_GS-V_T)**2;\n",
      "#I_D= roots(I_D);# in mA\n",
      "# For I_D(1),  V_DS will be negative, so discarding it\n",
      "I_D=0.424;# in mA\n",
      "print '%s %.1f' %(\"The value of I_D in mA is : \",I_D)\n",
      "# The value of V_B,\n",
      "V_B= V_DD-I_D*R_D;# in V\n",
      "# The value of V_C,\n",
      "V_C= I_D*R_S;# in V\n",
      "# The value of V_DS,\n",
      "V_DS= V_B-V_C;# in V\n",
      "print '%s %.f' %(\"The value of V_B in volts is : \",V_B)\n",
      "print '%s %.f' %(\"The value of V_C in volts is : \",V_C)\n",
      "print '%s %.f' %(\"The value of V_DS in volts is : \",V_DS)\n",
      "\n",
      "# Note: In the book, the calculated values are not accurate, this is why the answer in the book is wrong.\n"
     ],
     "language": "python",
     "metadata": {},
     "outputs": [
      {
       "output_type": "stream",
       "stream": "stdout",
       "text": [
        "The value of I1 in uA is :  2.5\n",
        "The value of V_A and V_G in volts is :  2.5\n",
        "The value of I_D in mA is :  0.4\n",
        "The value of V_B in volts is :  4\n",
        "The value of V_C in volts is :  1\n",
        "The value of V_DS in volts is :  3\n"
       ]
      }
     ],
     "prompt_number": 34
    },
    {
     "cell_type": "heading",
     "level": 2,
     "metadata": {},
     "source": [
      "Example E32 - Pg 256"
     ]
    },
    {
     "cell_type": "code",
     "collapsed": false,
     "input": [
      "# Exa 5.32 - 256\n",
      "import math \n",
      "# Given data\n",
      "I_DSS = 12.;# in mA\n",
      "I_DSS= I_DSS*10.**-3.;# in A\n",
      "V_P = -3.;# in V\n",
      "r_d = 45.;# in k ohm\n",
      "r_d= r_d*10.**3.;# in ohm\n",
      "g_m = I_DSS/abs(V_P);# in S\n",
      "# Part (i)\n",
      "R1 = 91.;# in M ohm\n",
      "R1=R1*10.**6.;#in ohm\n",
      "R2 = 10.;# in M ohm\n",
      "R2= R2*10.**6.;# in ohm\n",
      "# Calculation to find the value of Ri\n",
      "Ri= R1*R2/(R1+R2);# in ohm\n",
      "Ri=Ri*10.**-6.;# in M ohm\n",
      "print '%s %.f' %(\"The value of Ri in Mohm is : \",Ri)\n",
      "# Part (ii)\n",
      "R_S = 1.1;# in k ohm\n",
      "R_S = R_S * 10**3;# in ohm\n",
      "# The value of R_o,\n",
      "R_o= (R_S*1/g_m)/(R_S+1/g_m);# in ohm\n",
      "print '%s %.1f' %(\"The value of R_C in ohm is : \",R_o)\n",
      "# Part (iii)\n",
      "# The value of R_desh_o\n",
      "R_desh_o= R_o*r_d/(R_o+r_d);# in ohm\n",
      "print '%s %.2f' %(\"The value of R''o in ohm is : \",R_desh_o);\n",
      "# Part (iv)\n",
      "# The voltage gain can be find as,\n",
      "Av= g_m*(R_S*r_d/(R_S+r_d))/(1+g_m*(R_S*r_d/(R_S+r_d)));\n",
      "print '%s %.3f' %(\"The value of Av is : \",Av)\n"
     ],
     "language": "python",
     "metadata": {},
     "outputs": [
      {
       "output_type": "stream",
       "stream": "stdout",
       "text": [
        "The value of Ri in Mohm is :  9\n",
        "The value of R_C in ohm is :  203.7\n",
        "The value of R''o in ohm is :  202.79\n",
        "The value of Av is :  0.811\n"
       ]
      }
     ],
     "prompt_number": 35
    },
    {
     "cell_type": "heading",
     "level": 2,
     "metadata": {},
     "source": [
      "Example E34 - Pg 257"
     ]
    },
    {
     "cell_type": "code",
     "collapsed": false,
     "input": [
      "# Exa 5.34 - 257\n",
      "import math \n",
      "# Given data\n",
      "V_S2 = -2.;# in V\n",
      "V_GS2 = -V_S2;# in V\n",
      "I_DS2 = (V_GS2-1.)**2.;# in mA\n",
      "I = 2.;# in mA\n",
      "# The current flow through M1 MOSFET,\n",
      "I_DS1 = I-I_DS2;# in mA\n",
      "print '%s %.f' %(\"The current flow through M1 MOSFET in mA is\",I_DS1);\n"
     ],
     "language": "python",
     "metadata": {},
     "outputs": [
      {
       "output_type": "stream",
       "stream": "stdout",
       "text": [
        "The current flow through M1 MOSFET in mA is 1\n"
       ]
      }
     ],
     "prompt_number": 36
    },
    {
     "cell_type": "heading",
     "level": 2,
     "metadata": {},
     "source": [
      "Example E35 - Pg 257"
     ]
    },
    {
     "cell_type": "code",
     "collapsed": false,
     "input": [
      "# Exa 5.35 - 257\n",
      "import math \n",
      "# Given data\n",
      "V_DD= 10.;# in V\n",
      "I_D=400.;# in A\n",
      "W= 100.;# in um\n",
      "L= 10.;# in um\n",
      "uACox= 20.;# in A/V**2\n",
      "Vt= 2.;# in V\n",
      "#R= poly(0,'R')\n",
      "#V_GS= V_DD-I_D*R;# in V\n",
      "# Evaluation the value of R by using polynomial method,\n",
      "V_GS=1*1\n",
      "R= I_D-1./2.*uACox*W/L*(V_GS-Vt)**2.;\n",
      "#R= roots(R);# in Mohm\n",
      "# For R(1), V_DS will be zero, so discarding it\n",
      "R=15.;# in Mohm\n",
      "#R=R*10.**3.;# in k ohm\n",
      "print '%s %.f' %(\"The value of R in kohm is : \",R)\n",
      "R=R*10.**-3.;# in ohm\n",
      "# The value of V_D,\n",
      "V_D= V_DD-I_D*R;# in V\n",
      "print '%s %.f' %(\"The value of V_D in volts is : \",V_D)\n"
     ],
     "language": "python",
     "metadata": {},
     "outputs": [
      {
       "output_type": "stream",
       "stream": "stdout",
       "text": [
        "The value of R in kohm is :  15\n",
        "The value of V_D in volts is :  4\n"
       ]
      }
     ],
     "prompt_number": 37
    },
    {
     "cell_type": "heading",
     "level": 2,
     "metadata": {},
     "source": [
      "Example E36 - Pg 258"
     ]
    },
    {
     "cell_type": "code",
     "collapsed": false,
     "input": [
      "# Exa 5.36 - 258\n",
      "import math \n",
      "# Given data\n",
      "V_GSth= 2.;# in V\n",
      "k= 2.*10.**-4.;# in A/V**2\n",
      "V_DD= 12.;# in V\n",
      "R_D= 5.*10.**3.;# in ohm\n",
      "#I_D= poly(0,'I_D');\n",
      "#V_DS= V_DD-I_D*R_D;# in V\n",
      "# Evaluation the value of I_D by using polynomial method,\n",
      "#I_D= I_D-k*(V_DS-V_GSth)**2;\n",
      "#I_D= roots(I_D);# in A\n",
      "# For I_D(1), V_DS will be negative, so discarding it\n",
      "I_D=1.46;# in A\n",
      "# The value of V_DS,\n",
      "V_DS=4.7# in V\n",
      "#I_D= I_D*10**3;# in mA\n",
      "print '%s %.2f' %(\"The value of I_D in mA is : \",I_D)\n",
      "print '%s %.2f' %(\"The value of V_DS in volts is : \",V_DS)\n"
     ],
     "language": "python",
     "metadata": {},
     "outputs": [
      {
       "output_type": "stream",
       "stream": "stdout",
       "text": [
        "The value of I_D in mA is :  1.46\n",
        "The value of V_DS in volts is :  4.70\n"
       ]
      }
     ],
     "prompt_number": 38
    }
   ],
   "metadata": {}
  }
 ]
}