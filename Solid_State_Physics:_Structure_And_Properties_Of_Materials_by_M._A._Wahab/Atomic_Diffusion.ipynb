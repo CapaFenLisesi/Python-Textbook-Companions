{
 "cells": [
  {
   "cell_type": "markdown",
   "metadata": {},
   "source": [
    "# Chapter 6: Atomic Diffusion"
   ]
  },
  {
   "cell_type": "markdown",
   "metadata": {},
   "source": [
    "## Exa 6.1"
   ]
  },
  {
   "cell_type": "code",
   "execution_count": 1,
   "metadata": {
    "collapsed": false
   },
   "outputs": [
    {
     "name": "stdout",
     "output_type": "stream",
     "text": [
      "\n",
      "The rate at which nitrogen escapes through the tank wall =\n",
      "1e-16 kg per metre square per sec\n"
     ]
    }
   ],
   "source": [
    "from __future__ import division\n",
    "import math\n",
    " # Python Code Ex6.1 Rate of diffusion of N through steel wall: Page-195 (2010)\n",
    " \n",
    " \n",
    " \n",
    "#Variable declaration\n",
    "\n",
    "\n",
    " # Diffusion coeffcient of N in steel at room temperature, metre sq per sec\n",
    "D = 1e-019;                            \n",
    "# Concentration of nitrogen at the inner surface of the tank, kg per metre cube\n",
    "dc = 10;                         \n",
    "dx = 10e-03;                            # Thickness of the steel wall, m\n",
    "\n",
    "\n",
    "\n",
    "\n",
    "# Calculation\n",
    "\n",
    "# Fick's first law giving outward flux of nitrogen \n",
    "#through steel wall of the tank, kg per metre square per second\n",
    "J = D*(dc/dx); \n",
    "\n",
    "\n",
    "#Result\n",
    "\n",
    "print\"\\nThe rate at which nitrogen escapes through the tank wall =\"\n",
    "print round((J*10**16))*10**-16,\"kg per metre square per sec\"   "
   ]
  },
  {
   "cell_type": "markdown",
   "metadata": {},
   "source": [
    "## Exa 6.2"
   ]
  },
  {
   "cell_type": "code",
   "execution_count": 2,
   "metadata": {
    "collapsed": false
   },
   "outputs": [
    {
     "name": "stdout",
     "output_type": "stream",
     "text": [
      "\n",
      "The outward flux of copper through the Al sheet = \n",
      "2.63e+15 Cu atoms per metre square per sec\n"
     ]
    }
   ],
   "source": [
    "from __future__ import division\n",
    "import math\n",
    "#Python Code Ex6.2 Rate of diffusion of copper through pure Al sheet:Page-196\n",
    "\n",
    "\n",
    "\n",
    "\n",
    "#Variable declaration\n",
    "\n",
    "\n",
    "a = 4.05e-010;                          # Lattice parameter of fcc Al, m\n",
    "N = 4;         # Number of Al atoms per unit cell of fcc Al\n",
    "# Diffusion coeffcient of copper in Al at 550 degree celsius,metre sq per sec\n",
    "D = 5.25e-013;             \n",
    "c1 = 0.19e-02;     # Atomic percent of copper at the surface, per unit volume\n",
    "# Atomic percent of Cu at the the depth 1.2 mm from the surface,per unit volume\n",
    "c2 = 0.18e-02; \n",
    "dx = 1.2e-03;                           # Thickness of the pure Al sheet, m\n",
    "\n",
    "#Calculation\n",
    "\n",
    "n = N/a**3;               # Number of Al atoms per unit volume, per metre cube\n",
    "#Change in concentration of Cu at 1.2 mm depth of the surface,per metre cube\n",
    "dc = (c2 - c1)*n;\n",
    " # Fick's first law giving outward flux of copper through the Al sheet, \n",
    " #Cu atoms per metre square per second\n",
    "\n",
    "J = -D*(dc/dx);\n",
    "\n",
    "\n",
    "\n",
    "#Result\n",
    "\n",
    "print\"\\nThe outward flux of copper through the Al sheet = \"\n",
    "print round((J*10**-15),2)*10**15,\"Cu atoms per metre square per sec\"   "
   ]
  },
  {
   "cell_type": "markdown",
   "metadata": {},
   "source": [
    "## Exa 6.3"
   ]
  },
  {
   "cell_type": "code",
   "execution_count": 3,
   "metadata": {
    "collapsed": false
   },
   "outputs": [
    {
     "name": "stdout",
     "output_type": "stream",
     "text": [
      "\n",
      "Number of carbon atoms diffusing through each unit cell per minute =\n",
      "82.19 atoms per minute\n"
     ]
    }
   ],
   "source": [
    "from __future__ import division\n",
    "import math\n",
    "#Python Code Ex6.3 Rate of diffusion of carbon through steel bar:Page-196(2010)\n",
    "\n",
    "\n",
    "\n",
    "#Variable declaration\n",
    "\n",
    "\n",
    "a = 3.65e-010;                # Lattice parameter of fcc structure of iron, m\n",
    "D = 3e-011#Diffusion coeff. of C in iron at 1000degree celsius,metre sq per sec\n",
    "n1 = 20;        # Number of unit cells per carbon atom at the surface of steel\n",
    "#Number of unit cells per C atom at a depth 1 mm from the surface of steel\n",
    "n2 = 30;\n",
    "dx = 1e-03;                             # Thickness of the steel bar, m\n",
    "\n",
    "\n",
    "#Calculation\n",
    "\n",
    "c1 = 1/(n1*a**3);   # Atomic percent of carbon at the surface, per metre cube\n",
    "# Atomic percent of carbon at a depth 1 mm from the surface, per metre cube\n",
    "c2 = 1/(n2*a**3);  \n",
    " # Fick's first law giving outward flux of carbon through the Steel bar, \n",
    " #C atoms per metre square per second\n",
    "J = -D*((c2-c1)/dx);\n",
    "# The number of carbon atoms diffusing through each unit cell per minute \n",
    "J_uc = J*a**2*60;           \n",
    "\n",
    "\n",
    "\n",
    "#Result\n",
    "             \n",
    "print\"\\nNumber of carbon atoms diffusing through each unit cell per minute =\"\n",
    "print round(J_uc,2),\"atoms per minute\"   \n",
    " "
   ]
  },
  {
   "cell_type": "markdown",
   "metadata": {},
   "source": [
    "## Exa 6.4"
   ]
  },
  {
   "cell_type": "code",
   "execution_count": 4,
   "metadata": {
    "collapsed": false
   },
   "outputs": [
    {
     "name": "stdout",
     "output_type": "stream",
     "text": [
      "\n",
      "The ratio of two cross-sectional areas =\n",
      "6.67e-08\n"
     ]
    }
   ],
   "source": [
    "from __future__ import division\n",
    "import math\n",
    " # Python Code Ex6.4 Diffusion through a cylinder: Page-199 (2010)\n",
    " \n",
    " \n",
    " \n",
    "#Variable declaration\n",
    "\n",
    "\n",
    "r = 12; # Radius of cylindrical crystal, mm\n",
    " # Assume effective thickness of the surface to be 4 angstrom \n",
    " #= two atomic diameters, mm\n",
    "t = 4e-07;\n",
    "\n",
    "\n",
    "#Calculation\n",
    "\n",
    " # Cross-sectional area for diffusion through the cylinder, milli-metre square\n",
    "A1 = math.pi*r**2;\n",
    " # Cross-sectional area for diffusion along the surface, milli-metre square\n",
    "A2 = 2*math.pi*r*t;\n",
    "ratio = A2/A1; # Ratio of two cross-sectional areas\n",
    "\n",
    "\n",
    "#Result\n",
    "\n",
    "print\"\\nThe ratio of two cross-sectional areas =\"\n",
    "print round( (ratio*10**8),2)*10**-8\n",
    " "
   ]
  },
  {
   "cell_type": "markdown",
   "metadata": {},
   "source": [
    "## Exa 6.5"
   ]
  },
  {
   "cell_type": "code",
   "execution_count": 5,
   "metadata": {
    "collapsed": false
   },
   "outputs": [
    {
     "name": "stdout",
     "output_type": "stream",
     "text": [
      "\n",
      "The diffusion length of Li in Ge = 0.0006 m\n"
     ]
    }
   ],
   "source": [
    "from __future__ import division\n",
    "import math\n",
    " # Python Code Ex6.5 Diffusion length of Li in Ge: Page-203 (2010)\n",
    " \n",
    " \n",
    " \n",
    "#Variable declaration\n",
    "\n",
    "\n",
    "D = 1e-010;         # Diffusion coefficient for Li in Ge, metre square per sec\n",
    "t = 1*60*60;      # Time taken by diffusing Li to travel diffusion depth, sec\n",
    "T = 500+273;           # absolute temperature of the system, kelvin\n",
    "\n",
    "\n",
    "#Calculation\n",
    "\n",
    "x = (D*t)**0.5;                  # Diffusion length of Li in Ge, m\n",
    "\n",
    "\n",
    "#Result\n",
    "\n",
    "print\"\\nThe diffusion length of Li in Ge =\",x,\"m\"   "
   ]
  },
  {
   "cell_type": "markdown",
   "metadata": {},
   "source": [
    "## Exa 6.6"
   ]
  },
  {
   "cell_type": "code",
   "execution_count": 6,
   "metadata": {
    "collapsed": false
   },
   "outputs": [
    {
     "name": "stdout",
     "output_type": "stream",
     "text": [
      "\n",
      "Time taken by diffusing Li to travel diffusion depth of 0.2 mm = 400.0 s\n"
     ]
    }
   ],
   "source": [
    "from __future__ import division\n",
    "import math\n",
    " # Python Code Ex6.6 Diffusion time of Li in Ge: Page-203 (2010)\n",
    " \n",
    " \n",
    " \n",
    " \n",
    "#Variable declaration\n",
    "\n",
    "\n",
    "D = 1e-010;        # Diffusion coefficient for Li in Ge, metre square per sec\n",
    "T = 500+273;               # Absolute temperature of the system, kelvin\n",
    "x = 0.2e-03;                     # Diffusion length of Li in Ge, m\n",
    "\n",
    "\n",
    "#Calculation\n",
    "\n",
    " # Diffusion length is given by\n",
    " # x = sqrt(D*t), solving for t\n",
    "t = x**2/D;#Time taken by diffusing Li to travel diffusion depth of 0.2 mm, sec\n",
    "\n",
    "\n",
    "#Result\n",
    "\n",
    "print\"\\nTime taken by diffusing Li to travel diffusion depth of 0.2 mm =\",t,\"s\"   \n",
    " "
   ]
  },
  {
   "cell_type": "markdown",
   "metadata": {},
   "source": [
    "## Exa 6.7"
   ]
  },
  {
   "cell_type": "code",
   "execution_count": 7,
   "metadata": {
    "collapsed": false
   },
   "outputs": [
    {
     "name": "stdout",
     "output_type": "stream",
     "text": [
      "\n",
      "The diffusion coefficient of Cu in Al at 550 degree celsius =\n",
      "5.22e-13 metre square per sec\n",
      "\n",
      "The diffusion length of Cu in Al = 0.043 mm\n"
     ]
    }
   ],
   "source": [
    "from __future__ import division\n",
    "import math\n",
    " # Python Code Ex6.7 Diffusion coefficent of Cu in Al: Page 206 (2010)\n",
    " \n",
    " \n",
    " \n",
    " \n",
    "#Variable declaration\n",
    "\n",
    "\n",
    " # Pre-exponential diffusion constant independent of temp.,metre square per sec\n",
    "D0 = 0.25e-04;         \n",
    "T = 550+273;                  # Absolute temperature of the system, kelvin\n",
    "R = 8.314;                              # Molar gas constant, J/mol/K\n",
    "Q = 121e+03;            # The activation energy for diffusion, joule per mole\n",
    "t = 1*60*60;                     # Time taken by Cu to diffuse into Al, sec\n",
    "\n",
    "\n",
    "#Calculation\n",
    "\n",
    "# Diffusion coefficient of Cu in Al at 550 degree celsius, metre square per sec \n",
    "D = D0*math.exp(-Q/(R*T));         \n",
    "x = (D*t)**0.5;             # Diffusion length of Cu in Al, m\n",
    "\n",
    "\n",
    "\n",
    "#Result\n",
    "\n",
    "print\"\\nThe diffusion coefficient of Cu in Al at 550 degree celsius =\"\n",
    "print round((D*10**13),2)*10**-13,\"metre square per sec\"\n",
    "print\"\\nThe diffusion length of Cu in Al =\", round(x*1000,3),\"mm\"    \n",
    " "
   ]
  },
  {
   "cell_type": "markdown",
   "metadata": {},
   "source": [
    "## Exa 6.8"
   ]
  },
  {
   "cell_type": "code",
   "execution_count": 8,
   "metadata": {
    "collapsed": false
   },
   "outputs": [
    {
     "name": "stdout",
     "output_type": "stream",
     "text": [
      "\n",
      "The activation energy for diffusion of Ag in Si = 154.1 kJ/mol\n"
     ]
    }
   ],
   "source": [
    "from __future__ import division\n",
    "import math\n",
    " # Python Code Ex6.8 Activation energy for diffusion of silver\n",
    "# in silicon: Page 206 (2010)\n",
    "\n",
    "\n",
    "#Variable declaration\n",
    "\n",
    "R = 8.314;                 # Molar gas constant, J/mol/K\n",
    "T1 = 1350+273; # First temp. at which difuusion of Ag into Si takes place,K\n",
    "T2 = 1100+273; # Second temp. at which difuusion of Ag into Si takes place,K\n",
    "DRR = 8;                # Ratio of diffusion rates of Ag in Si at T1 and T2\n",
    "\n",
    "\n",
    "\n",
    "#Calculation\n",
    "\n",
    " # As diffusion coefficient at temperature T1 is D1 = D0*math.exp(-Q/(R*T1))\n",
    " # and that at temperature T2 is D1 = D0*math.exp(-Q/(R*T2)), \n",
    "#so that the diffusion rates ratio\n",
    " # D1/D2 = DRR = math.exp(Q/R*(1/T2-1/T1)), solving for Q, we have\n",
    " # Activation energy for diffusion of Ag in Si, kJ/mol\n",
    "Q = R*math.log(DRR)/((1/T2-1/T1)*1000);      \n",
    "\n",
    "\n",
    "#Result\n",
    "\n",
    "print\"\\nThe activation energy for diffusion of Ag in Si =\",round(Q,2),\"kJ/mol\""
   ]
  },
  {
   "cell_type": "markdown",
   "metadata": {},
   "source": [
    "## Exa 6.9"
   ]
  },
  {
   "cell_type": "code",
   "execution_count": 9,
   "metadata": {
    "collapsed": false
   },
   "outputs": [
    {
     "name": "stdout",
     "output_type": "stream",
     "text": [
      "\n",
      "The activation energy for diffusion of Ga in Si =\n",
      "103.62 kcal/mol\n",
      "\n",
      "The pre-exponential diffusion constant, D0 =\n",
      "24893.0 cm square per sec\n",
      "\n",
      "The diffusivity of the system = 1.05e-11 cm square per sec\n"
     ]
    }
   ],
   "source": [
    "from __future__ import division\n",
    "import math\n",
    " # Python Code Ex6.9 Activation energy and diffusion constant of a diffusion \n",
    " #system obeying Arrhenius rate law: Page 207 (2010)\n",
    " \n",
    " \n",
    "   \n",
    "#Variable declaration \n",
    " \n",
    "R = 1.987;                              # Molar gas constant, cal/mol/K\n",
    "D_1100 = 8e-013;#Diffusivity of Ga in Si at1100 degree celsius,cm sq per sec\n",
    "D_1300 = 1e-010;# Diffusivity of Ga in Si at 1300 degree celsius,cm sq per sec\n",
    "T1 = 1100+273;#First temperature at which diffusion of Ga into Si takes place,K\n",
    "T2 = 1300+273;#Second temperature at which diffusion of Ga into Si takes place\n",
    "T = 1200+273;                           # Temperature at which diffusion of Ga\n",
    "# into Si is to be calculated, kelvin\n",
    "\n",
    "\n",
    "\n",
    "#Calculation\n",
    "\n",
    " # Arrehenius equation in math.log10 form is  given by\n",
    " # math.log10(D) = math.log10(D0)-Q/(2.303*R*T)    --- (a)\n",
    " # Thus math.log10(D_1100) = math.log10(D0)-Q/(2.303*R*T1)     --- (i)\n",
    " # math.log10(D_1300) = math.log10(D0)-Q/(2.303*R*T2)    --- (ii), \n",
    " # On subtracting (ii) from (i), we get\n",
    " # math.log10(D_1100/D_1300) = -Q/(2.303*R)*(1/T2-1/T1), solving for Q\n",
    "# Activation energy for diffusion of Ga in Si, cal/mol\n",
    "Q = (2.303*math.log10(D_1100/D_1300)*R)/(1/T2-1/T1);\n",
    " # Putting Q in (ii) and solving for D0\n",
    "D0 = math.exp(2.303*math.log10(D_1100)+Q/(R*T1))\n",
    " # D0 = math.exp(2.303*math.log10(D_1300)+Q/(R*T2));    \n",
    " # Pre-exponential diffusion constant independent of temp.,cm square per sec\n",
    " # Substituting D0, Q, R and T in (a) and solving for D, we have\n",
    "# Diffusivity of the system, cm square per sec\n",
    "D = math.exp(2.303*math.log10(D0)-Q/(R*T));\n",
    "\n",
    "\n",
    "#Result\n",
    "\n",
    "print\"\\nThe activation energy for diffusion of Ga in Si =\"\n",
    "print round((Q/1000),2),\"kcal/mol\" \n",
    "print\"\\nThe pre-exponential diffusion constant, D0 =\"\n",
    "print round(D0),\"cm square per sec\" \n",
    "print\"\\nThe diffusivity of the system =\",\n",
    "print round((D*10**11),2)*10**-11,\"cm square per sec\"\n",
    " "
   ]
  },
  {
   "cell_type": "markdown",
   "metadata": {},
   "source": [
    "## Exa 6.10"
   ]
  },
  {
   "cell_type": "code",
   "execution_count": 10,
   "metadata": {
    "collapsed": false
   },
   "outputs": [
    {
     "name": "stdout",
     "output_type": "stream",
     "text": [
      "\n",
      "The activation energy for diffusion of A in B = 57.17 kJ/mol\n"
     ]
    }
   ],
   "source": [
    "from __future__ import division\n",
    "import math\n",
    " # Python Code Ex6.10 Activation energy for diffusion rates at\n",
    "# different temperatures: Page 208 (2010)\n",
    "\n",
    "  \n",
    "#Variable declaration \n",
    " \n",
    "R = 8.314;                              # Molar gas constant, J/mol/K\n",
    "T1 = 500+273;# First temperature at which diffusion of A into B takes place,K\n",
    "T2 = 850+273;# Second temperature at which diffusion of A into B takes place,K\n",
    "PDR = 1/4;#Penetration depth ratio at 500 degree celsius and 850 degree celsius\n",
    "\n",
    "\n",
    "#Calculation\n",
    "\n",
    " # x1/x2 = sqrt(D1/D2) i.e. PDR = sqrt(DRR), DRR is the diffusion rate ratio\n",
    " # solving for DRR\n",
    "DRR = PDR**2;                     # Diffusion rate ratio D1/D2 of A in B\n",
    " # As diffusion coefficient at temperature T1 is D1 = D0*math.exp(-Q/(R*T1))\n",
    " # and that at temperature T2 is D1 = D0*math.exp(-Q/(R*T2)),\n",
    "# so that the diffusion rates ratio\n",
    " # D1/D2 = DRR = math.exp(Q/R*(1/T2-1/T1)), solving for Q, we have\n",
    " # Activation energy for diffusion of A in B, kJ/mol\n",
    "\n",
    "Q = R*math.log(DRR)/((1/T2-1/T1)*1000);\n",
    "\n",
    "#Result\n",
    "\n",
    "print\"\\nThe activation energy for diffusion of A in B =\",round(Q,2),\"kJ/mol\""
   ]
  },
  {
   "cell_type": "markdown",
   "metadata": {},
   "source": [
    "## Exa 6.11"
   ]
  },
  {
   "cell_type": "code",
   "execution_count": 11,
   "metadata": {
    "collapsed": false
   },
   "outputs": [
    {
     "name": "stdout",
     "output_type": "stream",
     "text": [
      "\n",
      "The time necessary to increase the carbon content of steel =\n",
      "110.63 minutes\n"
     ]
    }
   ],
   "source": [
    "from __future__ import division\n",
    "import math\n",
    " # Python Code Ex6.11 Time required for carburizing of steel: Page 209 (2010)\n",
    " \n",
    "  \n",
    "#Variable declaration \n",
    " \n",
    "C0 = 0.0018;                            # Intial carbon concentration of steel\n",
    "Cx = 0.0030;#Carbon concentration of steel at 0.60 mm below the surface \n",
    "Cs = 0.01;                  # Carbon concentration of steel at the surface\n",
    "x = 0.6e-03;             # Diffusion depth below the surface of the gear, m\n",
    "D_927 = 1.28e-011;#Diffusion coefficient for carbon in iron,metre square per sec\n",
    "Z1 = 1.0\n",
    "Z2 = 1.1;  # Preceding and succeeding values about Z from error function table\n",
    "erf_Z1 = 0.8427\n",
    "# Preceding and succeeding values about erf_Z from error function table\n",
    "erf_Z2 = 0.8802;\n",
    "\n",
    "\n",
    "#Calculation\n",
    "\n",
    "erf_Z = (Cs-Cx)/(Cs-C0);#Error function of Z as a solution to Fick's second law\n",
    "Z=Z1+((Z2-Z1)*(erf_Z-erf_Z1)/(erf_Z2-erf_Z1));\n",
    " # As Z = x/(2*sqrt(D_927*t)), \n",
    "#where Z is a constant argument of error function as erf(Z)\n",
    " # Solving for t, we have\n",
    "# Time necessary to increase the carbon content of steel, sec\n",
    "t = (x/(2*Z))**2/D_927;\n",
    "\n",
    "\n",
    "#Result\n",
    "\n",
    "print\"\\nThe time necessary to increase the carbon content of steel =\"\n",
    "print round(t/60,2),\"minutes\""
   ]
  },
  {
   "cell_type": "markdown",
   "metadata": {},
   "source": [
    "## Exa 6.12"
   ]
  },
  {
   "cell_type": "code",
   "execution_count": 12,
   "metadata": {
    "collapsed": false
   },
   "outputs": [
    {
     "name": "stdout",
     "output_type": "stream",
     "text": [
      "\n",
      "The carbon concentration of carburized steel at 0.06 inch depth =\n",
      "0.31 percent\n"
     ]
    }
   ],
   "source": [
    "from __future__ import division\n",
    "import math\n",
    " # Python Code Ex6.12 Carbon concentration \n",
    " #of carburized steel at certain depth: Page 210 (2010)\n",
    " \n",
    " \n",
    " \n",
    "#Variable declaration \n",
    " \n",
    "C0 = 0.0020;                  # Initial carbon concentration of steel\n",
    "Cs = 0.012;                  # Carbon concentration of steel at the surface\n",
    "t = 10*60*60;                  # Carburizing time of steel, sec\n",
    "x = 0.06*25.4*1e-03;      # Diffusion depth below the surface of the gear, mm\n",
    "D_927 = 1.28e-011;#Diffusion coeff. for carbon in iron,metre square per sec\n",
    "Z1 = 1.1 \n",
    "Z2 = 1.2;  # Preceding and succeeding values about Z from error function table\n",
    "erf_Z1 = 0.8802\n",
    "# Preceding and succeeding values about erf_Z from error function table   \n",
    "erf_Z2 = 0.9103;   \n",
    "\n",
    "\n",
    "#Calculation\n",
    "    \n",
    "Z = x/(2*(D_927*t)**0.5)  # A constant argument of error function as erf(Z)\n",
    "# Error function of Z as a solution to Fick's second law\n",
    "efZ=(erf_Z1)+((erf_Z2-erf_Z1)*((Z-Z1)/(Z2-Z1)));\n",
    " # Carbon concentration of carburized steel at 0.06 inch depth\n",
    "Cx =-(efZ*(Cs-C0)-Cs) \n",
    "\n",
    "\n",
    "#Result\n",
    "      \n",
    "print\"\\nThe carbon concentration of carburized steel at 0.06 inch depth =\"\n",
    "print round(Cx*100,2),\"percent\"\n",
    " "
   ]
  },
  {
   "cell_type": "markdown",
   "metadata": {},
   "source": [
    "## Exa 6.13"
   ]
  },
  {
   "cell_type": "code",
   "execution_count": 13,
   "metadata": {
    "collapsed": false
   },
   "outputs": [
    {
     "name": "stdout",
     "output_type": "stream",
     "text": [
      "The minimum depth upto which post machining is to be done =\n",
      "0.66 mm\n"
     ]
    }
   ],
   "source": [
    "from __future__ import division\n",
    "import math\n",
    "\n",
    " # Python Code Ex6.13 Depth of decarburization below \n",
    " #the surface of steel: Page 211 (2010)\n",
    " \n",
    " \n",
    " \n",
    "#Variable declaration\n",
    " \n",
    "C2 = 0.012;                        # Initial carbon concentration of steel\n",
    "Cx = 0.008;     # Carbon concentration of carburized steel at x metre depth\n",
    "Cs = 0;          # Carbon concentration of steel at the surface\n",
    "t = 5*60*60;                    # Carburizing time of steel, sec\n",
    "D_927 = 1.28e-011; # Diffusion coefficient for carbon in iron,metre sq per sec\n",
    "Z1 = 0.65\n",
    "Z2 = 0.70; # Preceding and succeeding values about Z from error function table\n",
    "erf_Z1 = 0.6420\n",
    "# Preceding and succeeding values about erf_Z from error function table \n",
    "erf_Z2 = 0.6778;  \n",
    "\n",
    "\n",
    "\n",
    "#Calculation\n",
    "\n",
    "erf_Z = abs((Cs-Cx)/(C2-Cs));#Error function of Z as solution to Fick's 2nd law\n",
    "Z=Z1+(Z2-Z1)*((erf_Z-erf_Z1)/(erf_Z2-erf_Z1))\n",
    " # As Z = x/(2*sqrt(D_927*t)), \n",
    "#where Z is a constant argument of error function as erf(Z)\n",
    " # Solving for x, we have\n",
    "x = Z*2*(D_927*t)**0.5;# Depth of decarburization below the surface of steel,m\n",
    "\n",
    "\n",
    "\n",
    "#Result\n",
    " \n",
    "print \"The minimum depth upto which post machining is to be done =\"\n",
    "print round(x*1000,2),\"mm\"\n",
    " "
   ]
  },
  {
   "cell_type": "markdown",
   "metadata": {},
   "source": [
    "## Exa 6.14"
   ]
  },
  {
   "cell_type": "code",
   "execution_count": 14,
   "metadata": {
    "collapsed": false
   },
   "outputs": [
    {
     "name": "stdout",
     "output_type": "stream",
     "text": [
      "\n",
      "The diffusion depth of boron into silicon = 0.000125 cm\n"
     ]
    }
   ],
   "source": [
    "from __future__ import division\n",
    "import math\n",
    "#Python Code Ex6.14 Diffusion depth of P-type semiconductor B into Si:Page 212\n",
    "\n",
    "\n",
    " \n",
    "#Variable declaration\n",
    "  \n",
    "C0 = 0;                             # Initial boron concentration of silicon\n",
    "Cx = 1e+17;    # Boron concentration at depth x below the silicon surface\n",
    "Cs = 1e+18;                # Boron concentration of silicon at the surface\n",
    "T = 1100+273;       # Absolute temperature of the system, kelvin\n",
    "t = 2*60*60;              # Time taken to diffuse boron into silicon, sec\n",
    "D_1100 = 4e-013;# Diffusion coefficient for boron in silicon, cm square per sec\n",
    "Z1 = 1.1; # Preceding and succeeding values about Z from error function table\n",
    "Z2 = 1.2;                     \n",
    "# Preceding and succeeding values about erf_Z from error function table \n",
    "erf_Z1 = 0.8802;\n",
    "erf_Z2 = 0.9103;\n",
    "\n",
    "\n",
    "\n",
    "#Calculation\n",
    "\n",
    "# Error function of Z as a solution to Fick's second law\n",
    "erf_Z = abs((Cs-Cx)/(Cs-C0));\n",
    "Z=Z1+((Z2-Z1)*(erf_Z-erf_Z1)/(erf_Z2-erf_Z1));\n",
    " # As Z = x/(2*sqrt(D_927*t)),\n",
    "#where Z is a constant argument of error function as erf(Z)\n",
    " # Solving for x, we have\n",
    "x = Z*2*(D_1100*t)**0.5; # Diffusion depth of boron into silicon\n",
    "\n",
    "\n",
    "#Result\n",
    "\n",
    "print\"\\nThe diffusion depth of boron into silicon =\",round(x,6),\"cm\"\n",
    " "
   ]
  }
 ],
 "metadata": {
  "kernelspec": {
   "display_name": "Python 2",
   "language": "python",
   "name": "python2"
  },
  "language_info": {
   "codemirror_mode": {
    "name": "ipython",
    "version": 2
   },
   "file_extension": ".py",
   "mimetype": "text/x-python",
   "name": "python",
   "nbconvert_exporter": "python",
   "pygments_lexer": "ipython2",
   "version": "2.7.6"
  }
 },
 "nbformat": 4,
 "nbformat_minor": 0
}
