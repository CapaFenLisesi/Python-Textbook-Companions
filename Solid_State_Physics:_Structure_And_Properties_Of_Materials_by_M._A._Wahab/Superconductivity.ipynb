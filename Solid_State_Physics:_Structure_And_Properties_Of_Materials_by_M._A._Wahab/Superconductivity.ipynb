{
 "cells": [
  {
   "cell_type": "markdown",
   "metadata": {},
   "source": [
    "# Chapter 17: Superconductivity"
   ]
  },
  {
   "cell_type": "markdown",
   "metadata": {},
   "source": [
    "## Exa 17.1"
   ]
  },
  {
   "cell_type": "code",
   "execution_count": 1,
   "metadata": {
    "collapsed": false
   },
   "outputs": [
    {
     "name": "stdout",
     "output_type": "stream",
     "text": [
      "\n",
      "The critical magnetic field at 2  K = 0.022  T\n"
     ]
    }
   ],
   "source": [
    "from __future__ import division\n",
    "import math\n",
    " # Python Code Ex17.1 Variation of critical magnetic field with temp. Page-537\n",
    "\n",
    "\n",
    "\n",
    " \n",
    "#Variable declaration\n",
    "\n",
    " \n",
    "T_c = 3.7;      # Critical temperature of superconducting transition, kelvin\n",
    "H_c0 = 0.0306;  # Critical magnetic field to destroy superconductivity, tesla\n",
    "T = 2#Temperature at which critical magnetic field is to be found out, kelvin\n",
    "\n",
    "\n",
    "#Calculation\n",
    "\n",
    "H_cT = H_c0*(1-(T/T_c)**2);\n",
    "\n",
    "\n",
    "#Result\n",
    "\n",
    "print\"\\nThe critical magnetic field at\",T,\" K =\",round(H_cT,3),\" T\"\n",
    " "
   ]
  },
  {
   "cell_type": "markdown",
   "metadata": {},
   "source": [
    "## Exa 17.2"
   ]
  },
  {
   "cell_type": "code",
   "execution_count": 2,
   "metadata": {
    "collapsed": false
   },
   "outputs": [
    {
     "name": "stdout",
     "output_type": "stream",
     "text": [
      "\n",
      "The temperature at which critical magnetic field becomes \n",
      "15900.0  T =  2.13  K\n"
     ]
    }
   ],
   "source": [
    "from __future__ import division\n",
    "import math\n",
    " # Python Code Ex17.2 Variation of critical magnetic field with temperature\n",
    "# for tin Page-537 (2010)\n",
    "\n",
    "\n",
    "\n",
    " \n",
    "#Variable declaration\n",
    "\n",
    "\n",
    "T_c = 3.69;       # Critical temperature of superconducting transition, kelvin\n",
    "# Critical magnetic field intensity to destroy superconductivity \n",
    "# at zero kelvin, tesla\n",
    "B_c0 = 3e+5/(4*math.pi);                    \n",
    "# Critical magnetic field at temperature T kelvin\n",
    "B_cT = 2e+5/(4*math.pi);             \n",
    "\n",
    "\n",
    "\n",
    "#Calculation\n",
    "       \n",
    " # T = 2;Temperature at which critical magnetic field is to be found out, kelvin\n",
    " # since B_cT = B_c0*(1-(T/T_c)**2);\n",
    " #Critical magnetic field intensity as a function of temperature\n",
    " # Solving for T\n",
    "# Temperature at which critical magnetic field becomes B_cT, kelvin   \n",
    "T = (1-B_cT/B_c0)**0.5*T_c;              \n",
    "\n",
    "\n",
    "#Result\n",
    "\n",
    "print\"\\nThe temperature at which critical magnetic field becomes \"\n",
    "print round((B_cT*10**-4),2)*10**4,\" T = \",round(T,2),\" K\"\n",
    " "
   ]
  },
  {
   "cell_type": "markdown",
   "metadata": {},
   "source": [
    "## Exa 17.3"
   ]
  },
  {
   "cell_type": "code",
   "execution_count": 3,
   "metadata": {
    "collapsed": false
   },
   "outputs": [
    {
     "name": "stdout",
     "output_type": "stream",
     "text": [
      "\n",
      "The critical current through the lead wire =  134.33  A\n"
     ]
    }
   ],
   "source": [
    "from __future__ import division\n",
    "import math\n",
    " # Python Code Ex17.3 Calculating critical current for a lead wire from \n",
    " #critical temperature of lead Page-537 (2010)\n",
    " \n",
    " \n",
    " \n",
    " \n",
    "  \n",
    "#Variable declaration\n",
    "\n",
    "\n",
    " # Critical temperature of superconducting transition for Pb, kelvin\n",
    "T_c = 7.18;                            \n",
    "#Critical magnetic field intensity to destroy superconductivity at zero K,A/m\n",
    "H_c0 = 6.5e+4;                          \n",
    "# Temperature at which critical magnetic field becomes H_cT, kelvin  \n",
    "T = 4.2;                                \n",
    "d = 1e-03;                              # Diameter of lead wire, m\n",
    "\n",
    "\n",
    "\n",
    "\n",
    "#Calculation\n",
    "\n",
    "# Critical magnetic field intensity at temperature T kelvin, A/m\n",
    "H_cT = H_c0*(1-(T/T_c)**2)             \n",
    "# Critical current through the lead wire, A\n",
    "I_c = math.pi*d*H_cT;                   \n",
    "\n",
    "\n",
    "#Result\n",
    "\n",
    "print\"\\nThe critical current through the lead wire = \",round(I_c,2),\" A\"\n"
   ]
  },
  {
   "cell_type": "markdown",
   "metadata": {},
   "source": [
    "## Exa 17.4"
   ]
  },
  {
   "cell_type": "code",
   "execution_count": 4,
   "metadata": {
    "collapsed": false
   },
   "outputs": [
    {
     "name": "stdout",
     "output_type": "stream",
     "text": [
      "\n",
      "The penetration depth at 0 K = 5.19e-08  m\n",
      "\n",
      "The superconducting electron density =\n",
      "1.95e+28 per metre cube\n"
     ]
    }
   ],
   "source": [
    "from __future__ import division\n",
    "import math\n",
    " # Python Code Ex17.4 Dependence of London penetration depth \n",
    " #on temperature Page-548 (2010)\n",
    " \n",
    " \n",
    " \n",
    " \n",
    "#Variable declaration\n",
    "\n",
    "\n",
    "N = 6.02e+023;                         # Avogadro's number\n",
    "rho = 13.55e+03;                    # Density of mercury, kg per metre cube\n",
    "M = 200.6e-03;                          # Molecular mass of mercury, kg\n",
    "lambda_T = 750e-010;   # Penetration depth of mercury at T kelvin, m\n",
    "T_c = 4.12; # Critical temperature of superconducting transition for Hg, kelvin\n",
    "T = 3.5;#Temperature at which penetration depth for Hg becomes lambda_T, kelvin   \n",
    "\n",
    "\n",
    "\n",
    "# Calculation\n",
    "\n",
    "# Penetration depth of mercury at 0 kelvin, m\n",
    "lambda_0 = lambda_T*(1-(T/T_c)**4)**(1/2);\n",
    "n_0 = N*rho/M;   # Normal electron density in mercury, per metre cube\n",
    "n_s = n_0*(1-(T/T_c)**4);  # Superelectron density in mercury, per metre cube\n",
    "\n",
    "\n",
    "\n",
    "#Result\n",
    "\n",
    "print\"\\nThe penetration depth at 0 K =\",round((lambda_0*10**8),2)*10**-8,\" m\"\n",
    "print\"\\nThe superconducting electron density =\"\n",
    "print round((n_s*10**-28),2)*10**28,\"per metre cube\"\n",
    "\n",
    " "
   ]
  }
 ],
 "metadata": {
  "kernelspec": {
   "display_name": "Python 2",
   "language": "python",
   "name": "python2"
  },
  "language_info": {
   "codemirror_mode": {
    "name": "ipython",
    "version": 2
   },
   "file_extension": ".py",
   "mimetype": "text/x-python",
   "name": "python",
   "nbconvert_exporter": "python",
   "pygments_lexer": "ipython2",
   "version": "2.7.6"
  }
 },
 "nbformat": 4,
 "nbformat_minor": 0
}
