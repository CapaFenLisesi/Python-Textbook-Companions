{
 "cells": [
  {
   "cell_type": "markdown",
   "metadata": {},
   "source": [
    "# Chapter 3: Atomic Packing"
   ]
  },
  {
   "cell_type": "markdown",
   "metadata": {},
   "source": [
    "## Exa 3.1"
   ]
  },
  {
   "cell_type": "code",
   "execution_count": 1,
   "metadata": {
    "collapsed": false
   },
   "outputs": [
    {
     "name": "stdout",
     "output_type": "stream",
     "text": [
      "\n",
      "Free  area  in  square  lattice  is  : 21.46 percent\n"
     ]
    }
   ],
   "source": [
    "from __future__ import division\n",
    "import math\n",
    " #  Python  Code  Ex3.1  Packing  of  equal  spheres  in  \n",
    " #two  dimensional  square  lattice:Page-88(2010)\n",
    " \n",
    " \n",
    " \n",
    "#Variable declaration\n",
    " \n",
    " #Herewemayassumesquareofunitlengthi.e.a=1suchthatradiusofsphere,R=a/2=0.5\n",
    "a=1;         #  Length  of  the  side  of  the  square,  unit\n",
    "R  =  a/2;                               #  Radius  of  the  sphere,  unit\n",
    "\n",
    "#Calculations\n",
    "\n",
    "# Radius of  the  sphere  introduced  within  the  void  produced  by \n",
    "# the  packing  of  equal  spheres  on  square  lattice,  unit\n",
    "r  =  ((2)**0.5-1)*R; \n",
    "A  =  math.pi*R**2;      #  Area  associated  with  a  sphere,  square  units\n",
    "FA  =  a**2-A;#Free area occupied  by  void  in  square  lattice,square  units\n",
    "FA_per  =  FA*100;    #  Percentage  free  area  in  square  lattice  \n",
    "\n",
    "\n",
    "#Result\n",
    "\n",
    "print\"\\nFree  area  in  square  lattice  is  :\",round(FA_per,2),\"percent\""
   ]
  },
  {
   "cell_type": "markdown",
   "metadata": {},
   "source": [
    "## Exa 3.2"
   ]
  },
  {
   "cell_type": "code",
   "execution_count": 2,
   "metadata": {
    "collapsed": false
   },
   "outputs": [
    {
     "name": "stdout",
     "output_type": "stream",
     "text": [
      "\n",
      "The packing efficiency in diamond structure is : 34.0 percent\n"
     ]
    }
   ],
   "source": [
    "from __future__ import division\n",
    "import math\n",
    " # Python Code Ex3.2 Packing efficiency in diamond structure: Page-92 (2010)\n",
    " \n",
    "\n",
    "\n",
    "#Variable declaration\n",
    " \n",
    " # For simplicity we may take radius of the atom, R = 1 unit\n",
    "R = 1;                           # Radius of the atom in bcc lattice, unit\n",
    "nc = 8;                   # Number of corner atoms in diamond structure\n",
    "nfcc = 6;                  # Number of face centred atoms in diamond structure\n",
    "na = 4;                      # Number of atoms completely within the unit cell\n",
    "\n",
    "\n",
    "#Calculations\n",
    "\n",
    "n = 1/8*nc+1/2*nfcc+1*na  # Effective number of atoms in the diamond structure\n",
    "V_atom = 8*4/3*math.pi*R**3; # Volume of atoms within the unit cell, unit cube \n",
    " # Since for a diamond cubic crystal, the space lattice is fcc, \n",
    " #with two atos per lattice point, such that 8*R = sqrt(3)*a, solving for a\n",
    "a = 8*R/(3)**0.5;       # lattice parameter of diamond structure, unit\n",
    "V_cell = a**3;                 # Volume of the unit cell, unit cube\n",
    "eta = V_atom/V_cell*100;    # Packing efficiency in diamond structure\n",
    "\n",
    "\n",
    "#Result\n",
    "\n",
    "print\"\\nThe packing efficiency in diamond structure is :\",round(eta),\"percent\"\n",
    " "
   ]
  },
  {
   "cell_type": "markdown",
   "metadata": {},
   "source": [
    "## Exa 3.3"
   ]
  },
  {
   "cell_type": "code",
   "execution_count": 3,
   "metadata": {
    "collapsed": false
   },
   "outputs": [
    {
     "name": "stdout",
     "output_type": "stream",
     "text": [
      "\n",
      "The  radius  of  the  largest  sphere  that\n",
      " will  fit  into  the  octahedral  void  is  : 0.15 R\n"
     ]
    }
   ],
   "source": [
    "from __future__ import division\n",
    "import math\n",
    " #  Python  Code  Ex3.3  Radius  of  largest  sphere  \n",
    " #that  can  be  placed  at  the  octahedral  void:  Page-100  (2010)\n",
    " \n",
    " \n",
    " \n",
    "#Variable declaration\n",
    " \n",
    " #  For  simplicity  we  may  take  radius  of  the  atom,  R  =  1  unit\n",
    "R  =  1;                 #  Radius  of  the  atom  in  bcc  lattice,  unit\n",
    "\n",
    "\n",
    "#Calculation\n",
    "\n",
    " #  For  a  bcc  lattice,  4*R  =  a*sqrt(3),  solving  for  a  \n",
    "a  =  4*R/(3)**0.5;  #  lattice  parameter  of  bcc  crystal,  unit\n",
    " #  Since  R  +  Rx  =  a/2,  solving  for  Rx\n",
    "#Radius of  the largest sphere that will fit into the octahedral void, unit\n",
    "Rx  =  a/2  -  R;\n",
    "\n",
    "\n",
    "#Results\n",
    "\n",
    "print\"\\nThe  radius  of  the  largest  sphere  that\" \n",
    "print \" will  fit  into  the  octahedral  void  is  :\",round(Rx,2),\"R\"\n",
    " "
   ]
  },
  {
   "cell_type": "markdown",
   "metadata": {},
   "source": [
    "## Exa 3.4"
   ]
  },
  {
   "cell_type": "code",
   "execution_count": 4,
   "metadata": {
    "collapsed": false
   },
   "outputs": [
    {
     "name": "stdout",
     "output_type": "stream",
     "text": [
      "\n",
      "The  radius  of  the  largest  sphere \n",
      " that  will  fit  into  the  tetrahedral  void  is  : 0.29 RL\n"
     ]
    }
   ],
   "source": [
    "from __future__ import division\n",
    "import math\n",
    " #  Python  Code  Ex3.4  Radius  of  largest  sphere  that  \n",
    " #can  be  placed  at  the  tetrahedral  void:  Page-100  (2010)\n",
    " \n",
    " \n",
    "\n",
    "#Variable declaration\n",
    " \n",
    " #  For  simplicity  we  may  take  radius  of  the  atom,  RL  =  1  unit\n",
    "RL  =  1;       #  Radius  of  the  atom  in  bcc  lattice,  unit\n",
    "\n",
    "\n",
    "#Calculation\n",
    "\n",
    " #  For  a  bcc  lattice,  4*RL  =  a*sqrt(3),  solving  for  a  \n",
    "a  =  4*RL/(3)**0.5;    #  Lattice  parameter  of  bcc  crystal,  unit\n",
    " #  Further  RL  +  Rx  =  sqrt(5)*a/4,  solving  for  Rx\n",
    " #  Radius of the largest sphere  that will fit into the octahedral void, unit\n",
    "Rx  =  (5)**0.5*a/4-RL;\n",
    "\n",
    "#Result\n",
    "\n",
    "print\"\\nThe  radius  of  the  largest  sphere \"\n",
    "print \" that  will  fit  into  the  tetrahedral  void  is  :\",round(Rx,2),\"RL\""
   ]
  },
  {
   "cell_type": "markdown",
   "metadata": {},
   "source": [
    "## Exa 3.5"
   ]
  },
  {
   "cell_type": "code",
   "execution_count": 5,
   "metadata": {
    "collapsed": false
   },
   "outputs": [
    {
     "name": "stdout",
     "output_type": "stream",
     "text": [
      "The diameter of the octahedral void in the fcc structure of nickel,\n",
      " in angstrom, is :  1.03\n"
     ]
    }
   ],
   "source": [
    "from __future__ import division\n",
    "import math\n",
    "#Python  Code  Ex3.5  Diameter  of  the  largest  atom  that \n",
    "# would  fit  into  the  tetrahedral  void:5  Page-101  (2010)\n",
    "\n",
    "\n",
    "#Variable declaration\n",
    "\n",
    "a  =  3.52*10**-10;                #  Lattice  parameter  for  Ni,  m\n",
    "\n",
    "\n",
    "#Calculations\n",
    "\n",
    " #  For  an  fcc  lattice,  sqrt(2)*a  =  4*R,  solving  for  R\n",
    "R  =  (2)**0.5*a/4;          #  Radius  of  the  atom  in  fcc  lattice,  m\n",
    "R_oct  =  0.414*R; #Radius of the octahedral void  in  fcc  close  packing, m\n",
    "D  =  2*R_oct#Diameter of the octahedral void in the fcc structure of nickel,m\n",
    "\n",
    "#Result\n",
    "\n",
    "print\"The diameter of the octahedral void in the fcc structure of nickel,\"\n",
    "print\" in angstrom, is : \",round(D/(1*10**-10),2)\n",
    " "
   ]
  },
  {
   "cell_type": "markdown",
   "metadata": {},
   "source": [
    "## Exa 3.6"
   ]
  },
  {
   "cell_type": "code",
   "execution_count": 6,
   "metadata": {
    "collapsed": false
   },
   "outputs": [
    {
     "name": "stdout",
     "output_type": "stream",
     "text": [
      "\n",
      "Void  space  in  the  close packing is: 19.0 percent\n"
     ]
    }
   ],
   "source": [
    "from __future__ import division\n",
    "import math\n",
    "# Python Code Ex3.6 Void space in cubic close packing:  Page-101  (2010)\n",
    "\n",
    "\n",
    "#Variable declaration\n",
    "\n",
    "R  =  1;               #  For  simplicity,  radius  of  the  sphere,  m\n",
    "n  =  4;                 #  Number  of  lattice  points  in  fcc  unit  cell\n",
    "\n",
    "#Calculations\n",
    "\n",
    " #  For  cubic  close  packing,  side  of  the  unit  cell  \n",
    " #and  the  radius  of  the  sphere  is  related  as\n",
    " #        sqrt(2)*a  =  4*R,  solving  for  a\n",
    "a  =  2*(2)**0.5*R;     #Lattice  parameter  for  cubic  close  packing,  m\n",
    "V_cell  =  a**3;                         #  Volume  of  the  unit  cell\n",
    "#  Volume  occupied  by  the  atoms,  metre  cube\n",
    "V_occupied  =  4*4/3*math.pi*((1.000)**3+(0.414)**3+2*(0.225)**3);\n",
    "void_space  =  V_cell  -  V_occupied; #  Void  space  in  the  close  packing\n",
    "percent_void  =  void_space/V_cell*100;     #  Percentage  void  space\n",
    "\n",
    "#Result\n",
    "\n",
    "print\"\\nVoid  space  in  the  close packing is:\",round(percent_void),\"percent\""
   ]
  },
  {
   "cell_type": "markdown",
   "metadata": {},
   "source": [
    "## Exa 3.7"
   ]
  },
  {
   "cell_type": "code",
   "execution_count": 7,
   "metadata": {
    "collapsed": false
   },
   "outputs": [
    {
     "name": "stdout",
     "output_type": "stream",
     "text": [
      "\n",
      " Minimum value of radius ratio in AX compound is : 0.15\n"
     ]
    }
   ],
   "source": [
    "from __future__ import division\n",
    "import math\n",
    "#Python CodeEx3.7 The minimum value of radius ratio in AX-compound:Page-104\n",
    "\n",
    "\n",
    "#Variable declaration\n",
    " \n",
    " # For simplicity we may assume a = 1\n",
    "a = 1;                            # Lattice parameter of the crystal, unit\n",
    "\n",
    "\n",
    "# Calculation\n",
    "\n",
    "b = 2/3*a*math.sin(math.pi/3);        # Lattice parameter of the crystal, unit\n",
    " # Here a = 2*Rx, where a is the lattice parameter and\n",
    "# Rx is the radius of X-ions representing the bigger spheres, solving for Rx\n",
    "Rx = 0.5*a; \n",
    " # Also b = RA + Rx, solving for RA\n",
    "RA = b - Rx;          # Radius of A-ion representing teh smaller sphere, unit\n",
    "Rad_ratio = RA/Rx;   # Radius ratio in AX compound\n",
    "\n",
    "\n",
    "#Result\n",
    "\n",
    "print\"\\n Minimum value of radius ratio in AX compound is :\", round(Rad_ratio,2)\n",
    " "
   ]
  }
 ],
 "metadata": {
  "kernelspec": {
   "display_name": "Python 2",
   "language": "python",
   "name": "python2"
  },
  "language_info": {
   "codemirror_mode": {
    "name": "ipython",
    "version": 2
   },
   "file_extension": ".py",
   "mimetype": "text/x-python",
   "name": "python",
   "nbconvert_exporter": "python",
   "pygments_lexer": "ipython2",
   "version": "2.7.6"
  }
 },
 "nbformat": 4,
 "nbformat_minor": 0
}
