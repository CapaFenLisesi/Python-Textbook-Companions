{
 "metadata": {
  "name": "",
  "signature": "sha256:3093b2582ce1a8c2faa2918ba63b34343ccd0f5c63ea8cea7962fa3c37c56111"
 },
 "nbformat": 3,
 "nbformat_minor": 0,
 "worksheets": [
  {
   "cells": [
    {
     "cell_type": "heading",
     "level": 1,
     "metadata": {},
     "source": [
      "Chapter 02 - ENERGY BANDS AND CHARGE CARRIERS IN SEMICONDUCTORS"
     ]
    },
    {
     "cell_type": "heading",
     "level": 2,
     "metadata": {},
     "source": [
      "Example E1 - Pg 38"
     ]
    },
    {
     "cell_type": "code",
     "collapsed": false,
     "input": [
      "# Exa 2.1 - 38\n",
      "# Given data\n",
      "lembda = 11000.;#\n",
      "lembda = lembda * 10.**-10.;# in m\n",
      "h = 6.625*10.**-34.;# Planck constant\n",
      "c = 3.*10.**8.;#speed of light in m/s\n",
      "e = 1.6*10.**-19.;#charge of electron in C\n",
      "# Energy of the incident photon should at least be, h*v= Eg, so\n",
      "E_g = (h*c)/(lembda*e);# in eV\n",
      "print '%s %.2f %s' %(\"The energy gap in eV is\",E_g,\"\\n\");\n",
      "#Answer in textbook is different due to rounding error\n"
     ],
     "language": "python",
     "metadata": {},
     "outputs": [
      {
       "output_type": "stream",
       "stream": "stdout",
       "text": [
        "The energy gap in eV is 1.13 \n",
        "\n"
       ]
      }
     ],
     "prompt_number": 1
    },
    {
     "cell_type": "heading",
     "level": 2,
     "metadata": {},
     "source": [
      "Example E2 - Pg 38"
     ]
    },
    {
     "cell_type": "code",
     "collapsed": false,
     "input": [
      "# Exa 2.2 -38\n",
      "# Given data\n",
      "E_g = 0.75;# in eV\n",
      "e = 1.6*10.**-19.;# in C\n",
      "h = 6.63*10.**-34.;# in J\n",
      "c = 3*10**8.;# in m/s\n",
      "#Formula E_g = (h*c)/(lembda*e);\n",
      "lembda = (h*c)/(E_g*e);# in m\n",
      "lembda = lembda * 10.**10.;# in A\n",
      "print '%s %.f %s' %(\"The wavelength in A is\",lembda,\"\\n\");\n"
     ],
     "language": "python",
     "metadata": {},
     "outputs": [
      {
       "output_type": "stream",
       "stream": "stdout",
       "text": [
        "The wavelength in A is 16575 \n",
        "\n"
       ]
      }
     ],
     "prompt_number": 2
    },
    {
     "cell_type": "heading",
     "level": 2,
     "metadata": {},
     "source": [
      "Example E3 - Pg 53"
     ]
    },
    {
     "cell_type": "code",
     "collapsed": false,
     "input": [
      "#Exa 2.3 - 53\n",
      "# Given data\n",
      "del_E = 0.3;# in eV\n",
      "T1 = 300.;# in K\n",
      "T2 = 330.;# in K\n",
      "# del_E = K * T1 * log(N/N_c) where del_E= E_C-E_F\n",
      "# del_E1 = K * T2 * log(N/N_c) where del_E1= E_C-E_F at T= 330 degree K\n",
      "del_E1 = del_E*(T2/T1);# in eV \n",
      "print '%s %.2f %s' %(\"The Fermi level will be eV below the conduction band\",del_E1,\"eV\\n\")\n"
     ],
     "language": "python",
     "metadata": {},
     "outputs": [
      {
       "output_type": "stream",
       "stream": "stdout",
       "text": [
        "The Fermi level will be eV below the conduction band 0.33 eV\n",
        "\n"
       ]
      }
     ],
     "prompt_number": 3
    },
    {
     "cell_type": "heading",
     "level": 2,
     "metadata": {},
     "source": [
      "Example E04 - Pg 54"
     ]
    },
    {
     "cell_type": "code",
     "collapsed": false,
     "input": [
      "#Exa 2.4 -54\n",
      "# Given data\n",
      "import math\n",
      "N_c = 2.8 * 10.**19.;# in cm**-3\n",
      "del_E = 0.25;# fermi energy in eV\n",
      "KT = 0.0259;# where K is Boltzmann constant\n",
      "f_F = math.exp(-(del_E)/KT);\n",
      "print '%s %.2e %s' %(\"The probability in the conduction band is occupied by an electron is \",f_F,\"\\n\");\n",
      "# Evaluation of electron concentration\n",
      "n_o = N_c * math.exp(-(del_E)/KT);# in cm**-3\n",
      "print '%s %.2e %s' %(\"The thermal equilibrium electron concentration in cm**-3 is\",n_o,\"\\n\");\n",
      "\n"
     ],
     "language": "python",
     "metadata": {},
     "outputs": [
      {
       "output_type": "stream",
       "stream": "stdout",
       "text": [
        "The probability in the conduction band is occupied by an electron is  6.43e-05 \n",
        "\n",
        "The thermal equilibrium electron concentration in cm**-3 is 1.80e+15 \n",
        "\n"
       ]
      }
     ],
     "prompt_number": 4
    },
    {
     "cell_type": "heading",
     "level": 2,
     "metadata": {},
     "source": [
      "Example E05 - Pg 54"
     ]
    },
    {
     "cell_type": "code",
     "collapsed": false,
     "input": [
      "#Exa2.5-54\n",
      "# Given data\n",
      "import math\n",
      "T1 = 300.;# in K\n",
      "T2 = 400.;# in K\n",
      "del_E = 0.27;# Fermi level in eV\n",
      "#KT = (0.0259) * (T2/T1);# in eV\n",
      "KT=0.03453\n",
      "N_v = 1.60 * 10.**19.;# in cm**-3\n",
      "#N_v = N_v * (T2/T1)**(3./2.);# in cm**-3 \n",
      "# Hole concentration\n",
      "p_o = N_v * math.exp(-(del_E)/KT);# in per cm**3\n",
      "print '%s %.2e %s' %(\"The thermal equilibrium hole concentration per cm**3 is\",p_o,\"\\n\");\n"
     ],
     "language": "python",
     "metadata": {},
     "outputs": [
      {
       "output_type": "stream",
       "stream": "stdout",
       "text": [
        "The thermal equilibrium hole concentration per cm**3 is 6.43e+15 \n",
        "\n"
       ]
      }
     ],
     "prompt_number": 5
    },
    {
     "cell_type": "heading",
     "level": 2,
     "metadata": {},
     "source": [
      "Example E06 - Pg 58"
     ]
    },
    {
     "cell_type": "code",
     "collapsed": false,
     "input": [
      "# Exa 2.6 - 58\n",
      "# Given data\n",
      "At = 63.5;# atomic weight\n",
      "Rho = 1.7*10.**-6.;# in ohm cm\n",
      "d = 8.96;# in gm/cc\n",
      "N_A = 6.02*10.**23.;# in /gm.mole\n",
      "e = 1.6*10.**-19.;# in C\n",
      "#Number of atoms of copper persent per unit volume\n",
      "n = (N_A/At)*d;\n",
      "Miu_e = 1./(Rho*n*e);# in cm**2/volt.sec\n",
      "print '%s %.3f %s' %(\"The electron mobility is\",Miu_e,\"cm**2/volt-sec\\n\");\n"
     ],
     "language": "python",
     "metadata": {},
     "outputs": [
      {
       "output_type": "stream",
       "stream": "stdout",
       "text": [
        "The electron mobility is 43.281 cm**2/volt-sec\n",
        "\n"
       ]
      }
     ],
     "prompt_number": 6
    },
    {
     "cell_type": "heading",
     "level": 2,
     "metadata": {},
     "source": [
      "Example E07 - Pg 59"
     ]
    },
    {
     "cell_type": "code",
     "collapsed": false,
     "input": [
      "# Exa 2.7 -59\n",
      "# Given data\n",
      "l = 0.1;# in m\n",
      "A = 1.7;# in mm**2\n",
      "A = A * 10.**-6.;# in m**2\n",
      "R = 0.1;# in ohm\n",
      "At = 63.5;# atomic weight\n",
      "N_A = 6.02*10.**23.;\n",
      "d = 8.96;# in gm/cc\n",
      "n = (N_A/At)*d;# in /cc\n",
      "n = n * 10.**6.;# in /m**3\n",
      "e = 1.6*10.**-19.;#electron charge in C\n",
      "# Resistivity of copper\n",
      "#Formula R = Rho*(l/A);\n",
      "Rho = (R*A)/l;# in ohm m\n",
      "# Conductivity of copper\n",
      "Sigma = 1./Rho;# in mho/m\n",
      "# Formula Sigma = n*e*Miu_e\n",
      "Miu_e = Sigma/(n*e);# in m**2/V.sec\n",
      "print '%s %.6f %s' %(\"The mobility in m**2/V-sec is\",Miu_e,\"\\n\");\n"
     ],
     "language": "python",
     "metadata": {},
     "outputs": [
      {
       "output_type": "stream",
       "stream": "stdout",
       "text": [
        "The mobility in m**2/V-sec is 0.000043 \n",
        "\n"
       ]
      }
     ],
     "prompt_number": 7
    },
    {
     "cell_type": "heading",
     "level": 2,
     "metadata": {},
     "source": [
      "Example E08 - Pg 59"
     ]
    },
    {
     "cell_type": "code",
     "collapsed": false,
     "input": [
      "# Exa 2.8- 59\n",
      "# Given data\n",
      "import math\n",
      "d = 10.5;# in gm/cc\n",
      "At = 108.;# atomic weight\n",
      "N_A = 6.025*10.**23.;# in /gm mole\n",
      "r = 10**-3.;# in m\n",
      "q = 1.6*10.**-19.;# in C\n",
      "# The number of electrons per unit volume\n",
      "n = (N_A/At)*d;# in /cm**3\n",
      "n = n * 10.**6.;# in /m**3\n",
      "A = math.pi*((r)**2.);# in m**2\n",
      "I = 2.;# in A\n",
      "# Evaluation of drivt velocity with the help of current\n",
      "# I = q*n*A*V;\n",
      "V = I/(n*q*A);# in m/s\n",
      "print '%s %.e %s' %(\"The drift velocity in m/s is\",V,\"\\n\");\n",
      "\n",
      "# Note: Calculation in the book is wrong, so the answer in the book is wrong.\n"
     ],
     "language": "python",
     "metadata": {},
     "outputs": [
      {
       "output_type": "stream",
       "stream": "stdout",
       "text": [
        "The drift velocity in m/s is 7e-05 \n",
        "\n"
       ]
      }
     ],
     "prompt_number": 8
    },
    {
     "cell_type": "heading",
     "level": 2,
     "metadata": {},
     "source": [
      "Example E09 - Pg 59"
     ]
    },
    {
     "cell_type": "code",
     "collapsed": false,
     "input": [
      "# Exa 2.9-59\n",
      "import math\n",
      "# Given data\n",
      "d = 1.03;# in mm\n",
      "d = d *10.**-3.;# in m\n",
      "r = d/2.;# in m\n",
      "R = 6.51;# in ohm\n",
      "l = 300.;# in mm\n",
      "e = 1.6*10.**-19.;# electron charge in C\n",
      "n = 8.4*10.**28.;# in /m**3\n",
      "A = math.pi*r**2.;# cross section area\n",
      "#Formula  R = Rho*(l/A);\n",
      "Rho = (R* A)/l;#in ohm m\n",
      "Sigma = 1./Rho;# in mho/m\n",
      "print '%s %.2e %s' %(\"The conductivity of copper in mho/m is\",Sigma,\"\\n\");\n",
      "# Evaluation of mobility\n",
      "#Formula sigma = n*e*Miu_e\n",
      "Miu_e = Sigma/(n*e);# in m**2/V.sec\n",
      "print '%s %.2e %s' %(\"The mobility in m**2/V-sec is\",Miu_e,\"\\n\");\n"
     ],
     "language": "python",
     "metadata": {},
     "outputs": [
      {
       "output_type": "stream",
       "stream": "stdout",
       "text": [
        "The conductivity of copper in mho/m is 5.53e+07 \n",
        "\n",
        "The mobility in m**2/V-sec is 4.12e-03 \n",
        "\n"
       ]
      }
     ],
     "prompt_number": 9
    },
    {
     "cell_type": "heading",
     "level": 2,
     "metadata": {},
     "source": [
      "Example E10 - Pg 61"
     ]
    },
    {
     "cell_type": "code",
     "collapsed": false,
     "input": [
      "# Exa 2.10-61\n",
      "# Given data\n",
      "Mu_e = 1500.;# in cm**2/volt sec\n",
      "Mu_h = 500.;# in cm**2/volt sec\n",
      "n_i = 1.6 * 10.**10.;# in per cm**3\n",
      "e = 1.6 * 10.**-19.;# in C\n",
      "# The conductivity of pure semiconductor \n",
      "Sigma = n_i * (Mu_e + Mu_h) * e;# in mho/cm\n",
      "print '%s %.2e %s' %(\"The conductivity of pure semiconductor in mho/cm is\",Sigma,\"\\n\");\n"
     ],
     "language": "python",
     "metadata": {},
     "outputs": [
      {
       "output_type": "stream",
       "stream": "stdout",
       "text": [
        "The conductivity of pure semiconductor in mho/cm is 5.12e-06 \n",
        "\n"
       ]
      }
     ],
     "prompt_number": 10
    },
    {
     "cell_type": "heading",
     "level": 2,
     "metadata": {},
     "source": [
      "Example E11 - Pg 61"
     ]
    },
    {
     "cell_type": "code",
     "collapsed": false,
     "input": [
      "# Exa 2.11-61\n",
      "# Given data\n",
      "Rho = 10.;# in ohm-cm\n",
      "Mu_d = 500.;# in cm**2/v.s.\n",
      "e = 1.6*10.**-19.;# electron charge in C\n",
      "# The number of donor atom\n",
      "n_d = 1./(Rho * e * Mu_d);# in per cm**3\n",
      "print '%s %.2e %s' %(\"The number of donor atom per cm**3 is \",n_d,\"\\n\");\n"
     ],
     "language": "python",
     "metadata": {},
     "outputs": [
      {
       "output_type": "stream",
       "stream": "stdout",
       "text": [
        "The number of donor atom per cm**3 is  1.25e+15 \n",
        "\n"
       ]
      }
     ],
     "prompt_number": 11
    },
    {
     "cell_type": "heading",
     "level": 2,
     "metadata": {},
     "source": [
      "Example E12 - Pg 62"
     ]
    },
    {
     "cell_type": "code",
     "collapsed": false,
     "input": [
      "#Exa 2.12-62\n",
      "#Given data\n",
      "AvagadroNumber = 6.02 * 10.**23.;# in atoms/gm.mole\n",
      "at_Ge = 72.6;# atom weight of Ge\n",
      "e = 1.6 * 10.**-19.;# in C\n",
      "D_Ge = 5.32;# density of Ge in gm/c.c\n",
      "Mu = 3800.;# in cm**2/v.s.\n",
      "C_Ge = (AvagadroNumber/at_Ge) * D_Ge;# concentration of Ge atoms in per cm**3\n",
      "n_d = C_Ge/10.**8.;# in per cc\n",
      "Sigma = n_d * Mu * e;# in mho/cm\n",
      "print '%s %.3f %s' %(\"The conductivity in mho/cm is\",Sigma,\"\\n\");\n"
     ],
     "language": "python",
     "metadata": {},
     "outputs": [
      {
       "output_type": "stream",
       "stream": "stdout",
       "text": [
        "The conductivity in mho/cm is 0.268 \n",
        "\n"
       ]
      }
     ],
     "prompt_number": 12
    },
    {
     "cell_type": "heading",
     "level": 2,
     "metadata": {},
     "source": [
      "Example E13 - Pg 62"
     ]
    },
    {
     "cell_type": "code",
     "collapsed": false,
     "input": [
      "# Exa2.13-62\n",
      "# Given data\n",
      "Rho = 0.3623 * 10.**-3.;# in Ohm m\n",
      "Sigma = 1/Rho;#in mho/m\n",
      "D = 4.42 * 10.**28.;# Ge density in atom/m**3\n",
      "n_d = D / 10.**6.;# in atom/m**3\n",
      "e = 1.6 * 10.**-19.;# in C\n",
      "# The mobility of electron in germanium \n",
      "Mu = Sigma/(n_d * e);# in m**2/V.sec\n",
      "print '%s %.2f %s' %(\"The mobility of electron in germanium in m**2/V.sec is\",Mu,\"\\n\");\n"
     ],
     "language": "python",
     "metadata": {},
     "outputs": [
      {
       "output_type": "stream",
       "stream": "stdout",
       "text": [
        "The mobility of electron in germanium in m**2/V.sec is 0.39 \n",
        "\n"
       ]
      }
     ],
     "prompt_number": 13
    },
    {
     "cell_type": "heading",
     "level": 2,
     "metadata": {},
     "source": [
      "Example E14 - Pg 62"
     ]
    },
    {
     "cell_type": "code",
     "collapsed": false,
     "input": [
      "#Exa 2.14-62\n",
      "# Given data\n",
      "AvagadroNumber = 6.025 * 10.**26.;# in kg.Mole\n",
      "W = 72.59;# atomic weight of Ge\n",
      "D = 5.36 * 10.**3.;#density of Ge in kg/m**3\n",
      "Rho = 0.42;# resistivity in Ohm m\n",
      "e = 1.6 * 10.**-19.;# in C\n",
      "Sigma = 1./Rho;# in mho/m\n",
      "n = (AvagadroNumber/W) * D;# number of Ge atoms present per unit volume\n",
      "# Holes per unit volume, H = n*10**-6%\n",
      "H= n*10.**-8.;\n",
      "a=H;\n",
      "# Formula sigma= a*e*Mu_h\n",
      "Mu_h = Sigma/(a * e);# in m**2/V.sec\n",
      "print '%s %.4f %s' %(\"Mobility of holes in m**2/V.sec is\",Mu_h,\"\\n\");\n"
     ],
     "language": "python",
     "metadata": {},
     "outputs": [
      {
       "output_type": "stream",
       "stream": "stdout",
       "text": [
        "Mobility of holes in m**2/V.sec is 0.0334 \n",
        "\n"
       ]
      }
     ],
     "prompt_number": 14
    },
    {
     "cell_type": "heading",
     "level": 2,
     "metadata": {},
     "source": [
      "Example E15 - Pg 63"
     ]
    },
    {
     "cell_type": "code",
     "collapsed": false,
     "input": [
      "#Exa 2.15-63\n",
      "# Given data\n",
      "e = 1.6 * 10.**-19.;# in C\n",
      "n_i = 2 * 10.**19.;# in /m**3\n",
      "Mu_e = 0.36;# in m**2/v.s\n",
      "Mu_h = 0.17;# in m**2/v.s\n",
      "A = 1. * 10.**-4.;# in  m**2\n",
      "V = 2.;#in volts\n",
      "l = 0.3;# in mm\n",
      "l = l * 10.**-3.;# in m\n",
      "E=V/l;# in volt/m\n",
      "Sigma = n_i * e * (Mu_e + Mu_h);# in mho/m\n",
      "# J = I/A = Sigma * E\n",
      "I= Sigma*E*A;\n",
      "print '%s %.2f %s' %(\"The current produced in a small germanium plate in amp is\",I,\"\\n\");\n"
     ],
     "language": "python",
     "metadata": {},
     "outputs": [
      {
       "output_type": "stream",
       "stream": "stdout",
       "text": [
        "The current produced in a small germanium plate in amp is 1.13 \n",
        "\n"
       ]
      }
     ],
     "prompt_number": 16
    },
    {
     "cell_type": "heading",
     "level": 2,
     "metadata": {},
     "source": [
      "Example E16 - Pg 63"
     ]
    },
    {
     "cell_type": "code",
     "collapsed": false,
     "input": [
      "# Exa 2.16-63\n",
      "# Given data\n",
      "D = 4.2 * 10.**28.;#density of Ge atoms per m**3\n",
      "N_d = D / 10.**6.;# per m**3\n",
      "e = 1.6 * 10.**-19.;# in C\n",
      "Mu_e = 0.36;# in m**2/V-sec\n",
      "# Donor concentration is very large as compared to intrinsic carrier concentration\n",
      "Sigma_n = N_d *  e * Mu_e;# in mho/m (intrinsic concentration can be neglected)\n",
      "Rho_n = 1./Sigma_n;# in ohm m\n",
      "print '%s %.3e %s' %(\"The resistivity of drop Ge in ohm m is \",Rho_n,\"\\n\");"
     ],
     "language": "python",
     "metadata": {},
     "outputs": [
      {
       "output_type": "stream",
       "stream": "stdout",
       "text": [
        "The resistivity of drop Ge in ohm m is  4.134e-04 \n",
        "\n"
       ]
      }
     ],
     "prompt_number": 17
    },
    {
     "cell_type": "heading",
     "level": 2,
     "metadata": {},
     "source": [
      "Example E17 - Pg 64"
     ]
    },
    {
     "cell_type": "code",
     "collapsed": false,
     "input": [
      "# Exa 2.17-64\n",
      "# given data\n",
      "e = 1.6 * 10.**-19.;# in C\n",
      "n_i = 1 * 10.**19.;# in per m**3\n",
      "Mu_e = 0.36;# in m**2/volt.sec\n",
      "Mu_h = 0.17;# in m**2/volt.sec \n",
      "A = 2.;# in cm**2\n",
      "A = A * 10.**-4.;# im m**2\n",
      "t = 0.1;# in mm\n",
      "t = t * 10.**-3.;# in m\n",
      "V = 4.;# in volts\n",
      "Sigma_i = n_i * e * (Mu_e + Mu_h);# in mho/m\n",
      "J = Sigma_i * (V/t);# in Amp/m**2\n",
      "# Current produced, I= J*A\n",
      "I = J * A;# in Amp\n",
      "print '%s %.3f %s' %(\"The current produced in a Ge sample in Amp is\",I,\"\\n\");\n"
     ],
     "language": "python",
     "metadata": {},
     "outputs": [
      {
       "output_type": "stream",
       "stream": "stdout",
       "text": [
        "The current produced in a Ge sample in Amp is 6.784 \n",
        "\n"
       ]
      }
     ],
     "prompt_number": 18
    },
    {
     "cell_type": "heading",
     "level": 2,
     "metadata": {},
     "source": [
      "Example E18 - Pg 64"
     ]
    },
    {
     "cell_type": "code",
     "collapsed": false,
     "input": [
      "#Exa 2.18-64\n",
      "# Given data\n",
      "e = 1.6 * 10.**-19.;# in C\n",
      "Mu_h = 500.;# in cm**2/V.s.\n",
      "Mu_e = 1500.;# in cm**2/V.s.\n",
      "n_i = 1.6 * 10.**10.;# in per cm**3\n",
      "# Conductivity of pure silicon at room temperature \n",
      "Sigma_i = n_i * e * ( Mu_h + Mu_e);# in mho/cm\n",
      "print '%s %.2e %s' %(\"Conductivity of pure silicon at room temperature in mho/cm is\",Sigma_i,\"\\n\");\n"
     ],
     "language": "python",
     "metadata": {},
     "outputs": [
      {
       "output_type": "stream",
       "stream": "stdout",
       "text": [
        "Conductivity of pure silicon at room temperature in mho/cm is 5.12e-06 \n",
        "\n"
       ]
      }
     ],
     "prompt_number": 19
    },
    {
     "cell_type": "heading",
     "level": 2,
     "metadata": {},
     "source": [
      "Example E19 - Pg 67"
     ]
    },
    {
     "cell_type": "code",
     "collapsed": false,
     "input": [
      "#Exa 2.19-67\n",
      "#Given data\n",
      "l= 0.50*10.**-2.;# width of ribbon in m\n",
      "d= 0.10*10.**-3.;# thickness of ribbon in m\n",
      "A= l*d;# area of ribbon in m**2\n",
      "B = 0.8;# in Tesla\n",
      "D = 10.5;#density in gm/cc\n",
      "I = 2.;# in amp\n",
      "q = 1.6 * 10.**-19.;# in C\n",
      "n=6.*10.**28.;# number of elec. per m**3\n",
      "V_H = ( I * B * d)/(n * q * A);# in volts\n",
      "print '%s %.2e %s' %(\"The hall Voltage produced in volts is\",V_H,\"\\n\");\n"
     ],
     "language": "python",
     "metadata": {},
     "outputs": [
      {
       "output_type": "stream",
       "stream": "stdout",
       "text": [
        "The hall Voltage produced in volts is 3.33e-08 \n",
        "\n"
       ]
      }
     ],
     "prompt_number": 20
    },
    {
     "cell_type": "heading",
     "level": 2,
     "metadata": {},
     "source": [
      "Example E20 - Pg 68"
     ]
    },
    {
     "cell_type": "code",
     "collapsed": false,
     "input": [
      "#Exa 2.20-68\n",
      "# Given data\n",
      "l = 1.;# in m\n",
      "d = 1.;# in cm\n",
      "d = d * 10.**-2.;# in m\n",
      "W = 1.;# in mm\n",
      "W = W * 10.**-3.;# in m\n",
      "A = d * W;# in m**2\n",
      "I= 1.;# in A\n",
      "B = 1.;# Tesla\n",
      "V_H = 0.074 * 10.**-6.;# in volts\n",
      "Sigma = 5.8 * 10.**7.;# in mho/m\n",
      "# The hall coefficient \n",
      "R_H = (V_H * A)/(B*I*d);# in m**3/c\n",
      "print '%s %.1e %s' %(\"The hall coefficient in m**3/c is\",R_H,\"\\n\");\n",
      "# Mobility  of electrons in copper \n",
      "Mu = Sigma * R_H;# in m**2/volt-sec\n",
      "print '%s %.1e %s' %(\"The mobility  of electrons in copper in m**2/volt-sec is \",Mu,\"\\n\");\n"
     ],
     "language": "python",
     "metadata": {},
     "outputs": [
      {
       "output_type": "stream",
       "stream": "stdout",
       "text": [
        "The hall coefficient in m**3/c is 7.4e-11 \n",
        "\n",
        "The mobility  of electrons in copper in m**2/volt-sec is  4.3e-03 \n",
        "\n"
       ]
      }
     ],
     "prompt_number": 21
    },
    {
     "cell_type": "heading",
     "level": 2,
     "metadata": {},
     "source": [
      "Example E21 - Pg 69"
     ]
    },
    {
     "cell_type": "code",
     "collapsed": false,
     "input": [
      "#Exa2.2169\n",
      "# Given data\n",
      "n_i = 1.4 * 10.**18.;# in /m**3\n",
      "n_D = 1.4 * 10.**24.;# in /m**3\n",
      "# Concentration of electrons\n",
      "n=n_D;# in /m**3\n",
      "p = n_i**2./n;# in /m**3\n",
      "# The ratio of electrons to hole concentration\n",
      "R = n/p;\n",
      "print '%s %.e %s' %(\"The ratio of electrons to hole concentration is\",R,\"\\n\");"
     ],
     "language": "python",
     "metadata": {},
     "outputs": [
      {
       "output_type": "stream",
       "stream": "stdout",
       "text": [
        "The ratio of electrons to hole concentration is 1e+12 \n",
        "\n"
       ]
      }
     ],
     "prompt_number": 22
    },
    {
     "cell_type": "heading",
     "level": 2,
     "metadata": {},
     "source": [
      "Example E22 - Pg 69"
     ]
    },
    {
     "cell_type": "code",
     "collapsed": false,
     "input": [
      "#Exa 2.22- 69\n",
      "#Given data\n",
      "R = 9. * 10.**-3.;# in ohm-m\n",
      "R_H = 3.6 * 10.**-4.;# in m**3\n",
      "e = 1.6 * 10.**-19.;# in C\n",
      "Sigma = 1./R;# in (ohm-m)**-1\n",
      "#Rho = 1./R_H;# in coulomb/m**3\n",
      "Rho=2778.\n",
      "# Density of charge carriers \n",
      "n = Rho/e;# in /m**3\n",
      "print '%s %.5e %s' %(\"Density of charge carriers per m**3 is\",n,\"\\n\");\n",
      "# Mobility of charge carriers \n",
      "Mu = Sigma * R_H;# in m**2/v-s\n",
      "print '%s %.2f %s' %(\"Mobility of charge carriers in m**2/V-s is\",Mu,\"\\n\");\n"
     ],
     "language": "python",
     "metadata": {},
     "outputs": [
      {
       "output_type": "stream",
       "stream": "stdout",
       "text": [
        "Density of charge carriers per m**3 is 1.73625e+22 \n",
        "\n",
        "Mobility of charge carriers in m**2/V-s is 0.04 \n",
        "\n"
       ]
      }
     ],
     "prompt_number": 23
    },
    {
     "cell_type": "heading",
     "level": 2,
     "metadata": {},
     "source": [
      "Example E23 - Pg 77"
     ]
    },
    {
     "cell_type": "code",
     "collapsed": false,
     "input": [
      "#Exa 2.23-77\n",
      "# Given data\n",
      "e = 1.6 * 10.**-19.;# in C\n",
      "R_H = 0.0145;# in m**3/coulomb\n",
      "Mu_e = 0.36;# in m**2/v-s\n",
      "E = 100.;# in V/m\n",
      "n = 1./(e * R_H);# in /m**3\n",
      "# The current density of specimen \n",
      "J = n * e * Mu_e * E;# in A/m**2\n",
      "print '%s %.2e %s' %(\"The current density of specimen in A/m**2 is\",J,\"\\n\");\n"
     ],
     "language": "python",
     "metadata": {},
     "outputs": [
      {
       "output_type": "stream",
       "stream": "stdout",
       "text": [
        "The current density of specimen in A/m**2 is 2.48e+03 \n",
        "\n"
       ]
      }
     ],
     "prompt_number": 24
    },
    {
     "cell_type": "heading",
     "level": 2,
     "metadata": {},
     "source": [
      "Example E24 - Pg 77"
     ]
    },
    {
     "cell_type": "code",
     "collapsed": false,
     "input": [
      "#Exa 2.24-77\n",
      "import math\n",
      "#Given data\n",
      "Mu_e = 7.04 * 10.**-3.;# in m**2/v-s\n",
      "m = 9.1 * 10.**-31.;\n",
      "E_F = 5.5;# in eV\n",
      "n = 5.8 * 10.**28.;\n",
      "e = 1.6 * 10.**-19.;# in C\n",
      "# Relaxation Time \n",
      "Torque = (Mu_e/e) * m;# in sec\n",
      "print '%s %.1e %s' %(\"Relaxation Time in sec is \",Torque,\"\\n\");\n",
      "# Resistivity of conductor \n",
      "Rho = 1. /(n * e * Mu_e);# in ohm-m\n",
      "print '%s %.3e %s' %(\"Resistivity of conductor in ohm-m is \",Rho,\"\\n\");\n",
      "# Velocity of electrons with fermi-energy \n",
      "V_F = math.sqrt((2 * E_F * e)/m);# in m/s\n",
      "print '%s %.4e %s' %(\"Velocity of electrons with fermi-energy in m/s is\",V_F,\"\\n\");\n",
      "\n",
      "#Note: The calculated value of Resistivity of conductor is wrong.\n"
     ],
     "language": "python",
     "metadata": {},
     "outputs": [
      {
       "output_type": "stream",
       "stream": "stdout",
       "text": [
        "Relaxation Time in sec is  4.0e-14 \n",
        "\n",
        "Resistivity of conductor in ohm-m is  1.531e-08 \n",
        "\n",
        "Velocity of electrons with fermi-energy in m/s is 1.3907e+06 \n",
        "\n"
       ]
      }
     ],
     "prompt_number": 25
    },
    {
     "cell_type": "heading",
     "level": 2,
     "metadata": {},
     "source": [
      "Example E25 - Pg 78"
     ]
    },
    {
     "cell_type": "code",
     "collapsed": false,
     "input": [
      "#Exa 2.25-78\n",
      "import math\n",
      "# Given data\n",
      "E= 5.95;# in eV\n",
      "EF= 6.25;# in eV\n",
      "delE= 0.01;\n",
      " # delE= 1-1/(1+exp((E-EF)/KT))\n",
      "K=1.38*10.**-23.;# Boltzmann Constant in J/K\n",
      "# The temperature at which there is a 1 % probability that a state 0.30 eV below the Fermi energy level\n",
      "T = ((E-EF)/math.log(1./(1.-delE) -1.)*1.6*10.**-19.)/K;# in K\n",
      "print '%s %.f %s' %(\"The temperature in K is : \",T,\"\\n\")\n",
      " \n"
     ],
     "language": "python",
     "metadata": {},
     "outputs": [
      {
       "output_type": "stream",
       "stream": "stdout",
       "text": [
        "The temperature in K is :  757 \n",
        "\n"
       ]
      }
     ],
     "prompt_number": 26
    },
    {
     "cell_type": "heading",
     "level": 2,
     "metadata": {},
     "source": [
      "Example E26 - Pg 78"
     ]
    },
    {
     "cell_type": "code",
     "collapsed": false,
     "input": [
      "#Exa 2.26-78\n",
      "# Given data \n",
      "import math\n",
      "N_V = 1.04 * 10.**19.;# in cm**-3\n",
      "T1 = 300.;# in K\n",
      "T2 = 400.;# in K\n",
      "del_E = 0.27;# in eV\n",
      "# The value of N_V at T=400 K,\n",
      "N_V = N_V * (T2/T1)**1.5;# in cm**-3\n",
      "KT = (0.0259) * (T2/T1);# in eV\n",
      "# The thermal equilibrium hole concentration in silicon \n",
      "P_o = N_V * math.exp(-(del_E)/KT);# in cm**-3\n",
      "print '%s %.2e %s' %(\"The thermal equilibrium hole concentration in silicon in cm**-3 is \",P_o,\"\\n\");\n",
      "\n"
     ],
     "language": "python",
     "metadata": {},
     "outputs": [
      {
       "output_type": "stream",
       "stream": "stdout",
       "text": [
        "The thermal equilibrium hole concentration in silicon in cm**-3 is  6.44e+15 \n",
        "\n"
       ]
      }
     ],
     "prompt_number": 27
    },
    {
     "cell_type": "heading",
     "level": 2,
     "metadata": {},
     "source": [
      "Example E27 - Pg 78"
     ]
    },
    {
     "cell_type": "code",
     "collapsed": false,
     "input": [
      "#Exa 2.27-78\n",
      "import math\n",
      "#Given data\n",
      "N_c = 2.8 * 10.**19.;\n",
      "N_V = 1.04 *10.**19.;\n",
      "T1 = 550.;# in K\n",
      "T2 = 300.;# in K\n",
      "E_g = 1.12;\n",
      "KT = (0.0259) ;\n",
      "n_i = math.sqrt(N_c *N_V *(T1/T2)**3.* math.exp(-(E_g)/KT*T2/T1));# in cm**-3\n",
      "# n_o = N_d/2 + sqrt((N_d/2)**2 + (n_i)**2)\n",
      "# 1.05*N_d -N_d/2= sqrt((N_d/2)**2 + (n_i)**2)\n",
      "# Minimum donor concentration required \n",
      "N_d=math.sqrt((n_i)**2./((0.55)**2.-1./4.));\n",
      "print '%s %.2e %s' %(\"Minimum donor concentration required in cm**-3 is\",N_d,\"\\n\"); \n"
     ],
     "language": "python",
     "metadata": {},
     "outputs": [
      {
       "output_type": "stream",
       "stream": "stdout",
       "text": [
        "Minimum donor concentration required in cm**-3 is 1.40e+15 \n",
        "\n"
       ]
      }
     ],
     "prompt_number": 28
    },
    {
     "cell_type": "heading",
     "level": 2,
     "metadata": {},
     "source": [
      "Example E28 - Pg 79"
     ]
    },
    {
     "cell_type": "code",
     "collapsed": false,
     "input": [
      "#Exa 2.28-79\n",
      "import math\n",
      "#Given data\n",
      "T = 300.;# in K\n",
      "n_o = 10.**15.;# in cm**-3\n",
      "n_i = 10.**10.;# in cm**-3\n",
      "p_o = 10.**5.;# in cm**-3\n",
      "del_n = 10.**13.;# in cm**-3\n",
      "del_p = del_n;# in cm**-3\n",
      "KT = 0.0259;# in eV\n",
      "delta_E1= KT*math.log(n_o/n_i);# value of E_F-E_Fi in eV\n",
      "delta_E2= KT*math.log((n_o+del_n)/n_i);# value of E_Fn-E_Fi in eV\n",
      "delta_E3= KT*math.log((p_o+del_p)/n_i);# value of E_Fi-E_Fp in eV\n",
      "print '%s %.4f %s' %(\"The Fermi level for thermal equillibrium in eV is : \",delta_E1,\"\\n\")\n",
      "print '%s %.4f %s' %(\"The quase-Fermi level for electrons in non equillibrium in eV is : \",delta_E2,\"\\n\")\n",
      "print '%s %.3f %s' %(\"The quasi-Fermi level for holes in non equillibrium in eV is : \",delta_E3,\"\\n\")\n",
      "print '%s' %(\"The quasi-Fermi level for electrons is above E_Fi \")\n",
      "print '%s' %(\"While the quasi-Fermi level for holes is below E_Fi\")\n"
     ],
     "language": "python",
     "metadata": {},
     "outputs": [
      {
       "output_type": "stream",
       "stream": "stdout",
       "text": [
        "The Fermi level for thermal equillibrium in eV is :  0.2982 \n",
        "\n",
        "The quase-Fermi level for electrons in non equillibrium in eV is :  0.2984 \n",
        "\n",
        "The quasi-Fermi level for holes in non equillibrium in eV is :  0.179 \n",
        "\n",
        "The quasi-Fermi level for electrons is above E_Fi \n",
        "While the quasi-Fermi level for holes is below E_Fi\n"
       ]
      }
     ],
     "prompt_number": 29
    }
   ],
   "metadata": {}
  }
 ]
}