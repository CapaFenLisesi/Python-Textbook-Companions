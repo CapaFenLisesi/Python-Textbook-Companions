{
 "metadata": {
  "name": "",
  "signature": "sha256:4679a339709b832cb00c36a2b754011b8d8174a67064702f6c96acb48c7069c1"
 },
 "nbformat": 3,
 "nbformat_minor": 0,
 "worksheets": [
  {
   "cells": [
    {
     "cell_type": "heading",
     "level": 1,
     "metadata": {},
     "source": [
      "Chapter 03 - EXCESS CARRIERS IN SEMICONDUCTORS"
     ]
    },
    {
     "cell_type": "heading",
     "level": 2,
     "metadata": {},
     "source": [
      "Example E01 - Pg 117"
     ]
    },
    {
     "cell_type": "code",
     "collapsed": false,
     "input": [
      "# Exa 3.1 - 117\n",
      "# Given data\n",
      "N_d = 10.**17.;# atoms/cm**3\n",
      "n_i = 1.5 * 10.**10.;# in /cm**3\n",
      "n_o = 10.**17.;# in cm**3\n",
      "# p_o * n_o = (n_i)**2\n",
      "p_o = (n_i)**2. / n_o;#in holes/cm**3\n",
      "print '%s %.2e %s' %(\"The hole concentration at equilibrium in holes/cm**3 is\",p_o,\"\\n\");\n"
     ],
     "language": "python",
     "metadata": {},
     "outputs": [
      {
       "output_type": "stream",
       "stream": "stdout",
       "text": [
        "The hole concentration at equilibrium in holes/cm**3 is 2.25e+03 \n",
        "\n"
       ]
      }
     ],
     "prompt_number": 1
    },
    {
     "cell_type": "heading",
     "level": 2,
     "metadata": {},
     "source": [
      "Example E03 - Pg 118"
     ]
    },
    {
     "cell_type": "code",
     "collapsed": false,
     "input": [
      "# Exa 3.3- 118\n",
      "import math\n",
      "# Given data\n",
      "n_i = 1.5 * 10. **10.;# in /cm**3 for silicon\n",
      "N_d = 10.**17.;# in atoms/cm**3\n",
      "n_o = 10.**17.;# electrons/cm**3\n",
      "KT = 0.0259;\n",
      "# E_r - E_i = KT * log(n_o/n_i)\n",
      "del_E = KT * math.log(n_o/n_i);# in eV\n",
      "print '%s %.3f %s' %(\"The energy band for this type material is Ei eV\",del_E,\"\\n\");\n"
     ],
     "language": "python",
     "metadata": {},
     "outputs": [
      {
       "output_type": "stream",
       "stream": "stdout",
       "text": [
        "The energy band for this type material is Ei eV 0.407 \n",
        "\n"
       ]
      }
     ],
     "prompt_number": 2
    },
    {
     "cell_type": "heading",
     "level": 2,
     "metadata": {},
     "source": [
      "Example E04 - Pg 118"
     ]
    },
    {
     "cell_type": "code",
     "collapsed": false,
     "input": [
      "# Exa 3.4 - 118\n",
      "# Given data\n",
      "K = 1.38 * 10.**-23.;# in J/K\n",
      "T = 27.;# in degree\n",
      "T = T + 273.;# in K\n",
      "e = 1.6 * 10.**-19.;# in C\n",
      "Mu_e = 0.17;# in m**2/v-s\n",
      "Mu_e1 = 0.025;# in m**2/v-s\n",
      "D_n = ((K * T)/e) * Mu_e;# in m**2/s\n",
      "print '%s %.2e %s' %(\"The diffusion coefficient of electrons in m**2/s is\",D_n,\"\\n\");\n",
      "D_p = ((K * T)/e) * Mu_e1;# in m**2/s\n",
      "print '%s %.2e %s' %(\"The diffusion coefficient of  holes in m**2/s is \",D_p,\"\\n\");\n"
     ],
     "language": "python",
     "metadata": {},
     "outputs": [
      {
       "output_type": "stream",
       "stream": "stdout",
       "text": [
        "The diffusion coefficient of electrons in m**2/s is 4.40e-03 \n",
        "\n",
        "The diffusion coefficient of  holes in m**2/s is  6.47e-04 \n",
        "\n"
       ]
      }
     ],
     "prompt_number": 3
    },
    {
     "cell_type": "heading",
     "level": 2,
     "metadata": {},
     "source": [
      "Example E05 - Pg 119"
     ]
    },
    {
     "cell_type": "code",
     "collapsed": false,
     "input": [
      "# Exa 3.5 - 119\n",
      "import math\n",
      "# Given data\n",
      "Mu_n = 0.15;# in m**2/v-s\n",
      "K = 1.38 * 10.**-23.; # in J/K\n",
      "T = 300.;# in K\n",
      "del_n = 10.**20.;# in per m**3\n",
      "Toh_n = 10.**-7.;# in s\n",
      "e = 1.6 * 10.**-19.;# in C\n",
      "D_n = Mu_n * ((K * T)/e);# in m**2/s\n",
      "print '%s %.2e %s' %(\"The diffusion coefficient in m**2/s is\",D_n,\"\\n\");\n",
      "L_n = math.sqrt(D_n * Toh_n);# in m \n",
      "print '%s %.2e %s' %(\"The Diffusion length in m is\",L_n,\"\\n\");\n",
      "J_n = (e * D_n * del_n)/L_n;# in A/m**2\n",
      "print '%s %.2e %s' %(\"The diffusion current density in A/m**2 is\",J_n,\"\\n\"); \n",
      "# Note : The value of diffusion coefficient in the book is wrong.\n"
     ],
     "language": "python",
     "metadata": {},
     "outputs": [
      {
       "output_type": "stream",
       "stream": "stdout",
       "text": [
        "The diffusion coefficient in m**2/s is 3.88e-03 \n",
        "\n",
        "The Diffusion length in m is 1.97e-05 \n",
        "\n",
        "The diffusion current density in A/m**2 is 3.15e+03 \n",
        "\n"
       ]
      }
     ],
     "prompt_number": 4
    },
    {
     "cell_type": "heading",
     "level": 2,
     "metadata": {},
     "source": [
      "Example E06 - Pg 119"
     ]
    },
    {
     "cell_type": "code",
     "collapsed": false,
     "input": [
      "# Exa 3.6 - 119\n",
      "# Given data\n",
      "Sigma = 0.1;# in (ohm-m)**-1\n",
      "Mu_n = 1300.;\n",
      "n_i = 1.5 * 10.**3.;\n",
      "q = 1.6 * 10.**-4.;# in C\n",
      "#n_n = Sigma/(Mu_n * q);# in electrons/cm**3\n",
      "n_n=4.81*10.**14.\n",
      "n_n= n_n*10.**6.;# per m**3\n",
      "print '%s %.2e %s' %(\"The concentration of electrons per m**3 is\",n_n,\"\\n\");\n",
      "#p_n = (n_i)**2./n_n;# in per cm**3\n",
      "p_n=4.68*10.**5.\n",
      "p_n = p_n * 10.**6.;# in per m**3\n",
      "print '%s %.2e %s' %(\"The concentration of holes per m**3 is\",p_n,\"\\n\");\n"
     ],
     "language": "python",
     "metadata": {},
     "outputs": [
      {
       "output_type": "stream",
       "stream": "stdout",
       "text": [
        "The concentration of electrons per m**3 is 4.81e+20 \n",
        "\n",
        "The concentration of holes per m**3 is 4.68e+11 \n",
        "\n"
       ]
      }
     ],
     "prompt_number": 5
    },
    {
     "cell_type": "heading",
     "level": 2,
     "metadata": {},
     "source": [
      "Example E07 - Pg 119"
     ]
    },
    {
     "cell_type": "code",
     "collapsed": false,
     "input": [
      "# Exa 3.7 - 119\n",
      "# Given data\n",
      "Mu_e = 0.13;# in m**2/v-s\n",
      "Mu_h = 0.05;# in m**2/v-s\n",
      "Toh_h = 10.**-6.;# in s\n",
      "#L = 100.;# in um\n",
      "L = 100. * 10.**-6.;# in m\n",
      "V = 12.;# in V\n",
      "t_n =L**2./(Mu_e * V);# in s\n",
      "print '%s %.2e %s' %(\"Electron transit time in seconds is\",t_n,\"\\n\");\n",
      "p_g = (Toh_h/t_n) * (1. + Mu_h/Mu_e);#photo conductor gain \n",
      "print '%s %.2f %s' %(\"Photo conductor gain is\",p_g,\"\\n\");\n",
      "\n"
     ],
     "language": "python",
     "metadata": {},
     "outputs": [
      {
       "output_type": "stream",
       "stream": "stdout",
       "text": [
        "Electron transit time in seconds is 6.41e-09 \n",
        "\n",
        "Photo conductor gain is 216.00 \n",
        "\n"
       ]
      }
     ],
     "prompt_number": 6
    },
    {
     "cell_type": "heading",
     "level": 2,
     "metadata": {},
     "source": [
      "Example E08 - Pg 120"
     ]
    },
    {
     "cell_type": "code",
     "collapsed": false,
     "input": [
      "# Exa 3.8 - 120\n",
      "#Given data\n",
      "n_i = 2.5 * 10.**13.;\n",
      "Mu_n = 3800.;\n",
      "Mu_p = 1800.;\n",
      "q = 1.6 * 10.**-19.;# in C\n",
      "Sigma = n_i * (Mu_n + Mu_p) * q;# in (ohm-cm)**-1\n",
      "Rho = 1./Sigma;# in ohm-cm\n",
      "Rho= round(Rho);\n",
      "print '%s %.2f %s' %(\"The resistivity of intrinsic germanium in ohm-cm is\",Rho,\"\\n\");\n",
      "N_D = 4.4 * 10.**22./(1.*10.**8.);# in atoms/cm**3\n",
      "Sigma_n = N_D * Mu_n * q;# in (ohm-cm)**-1\n",
      "Rho_n = 1./Sigma_n;# in ohm-cm\n",
      "print '%s %.2f %s' %(\"If a donor type impurity is added to the extent of 1 atom per 10**8 Ge atoms, then the resistivity drops in ohm-cm is\",Rho_n,\"\\n\");\n"
     ],
     "language": "python",
     "metadata": {},
     "outputs": [
      {
       "output_type": "stream",
       "stream": "stdout",
       "text": [
        "The resistivity of intrinsic germanium in ohm-cm is 45.00 \n",
        "\n",
        "If a donor type impurity is added to the extent of 1 atom per 10**8 Ge atoms, then the resistivity drops in ohm-cm is 3.74 \n",
        "\n"
       ]
      }
     ],
     "prompt_number": 7
    },
    {
     "cell_type": "heading",
     "level": 2,
     "metadata": {},
     "source": [
      "Example E09 - Pg 120"
     ]
    },
    {
     "cell_type": "code",
     "collapsed": false,
     "input": [
      "# Exa 3.9 - 120\n",
      "# Given data\n",
      "n_i = 10.**16.;# in /m3\n",
      "N_D = 10.**22.;# in /m**3\n",
      "n = N_D;# in /m**3\n",
      "print '%s %.e %s' %(\"Electron concentration per m**3 is\",n,\"\\n\");\n",
      "p = (n_i)**2./n;# in /m**3\n",
      "print '%s %.e %s' %(\"Hole concentration per m**3 is\",p,\"\\n\");\n"
     ],
     "language": "python",
     "metadata": {},
     "outputs": [
      {
       "output_type": "stream",
       "stream": "stdout",
       "text": [
        "Electron concentration per m**3 is 1e+22 \n",
        "\n",
        "Hole concentration per m**3 is 1e+10 \n",
        "\n"
       ]
      }
     ],
     "prompt_number": 8
    },
    {
     "cell_type": "heading",
     "level": 2,
     "metadata": {},
     "source": [
      "Example E10 - Pg 120"
     ]
    },
    {
     "cell_type": "code",
     "collapsed": false,
     "input": [
      "# Exa 3.10 - 120\n",
      "# Given data\n",
      "Rho = 9.6 * 10.**-2.;# in ohm-m\n",
      "Sigma_n = 1./Rho;# in (ohm-m)**-1\n",
      "q = 1.6 * 10.**-19.;# in C\n",
      "Mu_n = 1300. * 10.**-4.;# in m**2/V-sec\n",
      "N_D = Sigma_n / (Mu_n * q);# in atoms/m**3\n",
      "A_D = 5.*10.**22.;# Atom density in atoms/cm**3\n",
      "A_D = A_D * 10.**6.;# atoms/m**3\n",
      "R_si = N_D/A_D;# ratio\n",
      "print '%s %.e %s' %(\"The ratio of donor atom to silicon atom is\",R_si,\"\\n\");\n",
      "\n"
     ],
     "language": "python",
     "metadata": {},
     "outputs": [
      {
       "output_type": "stream",
       "stream": "stdout",
       "text": [
        "The ratio of donor atom to silicon atom is 1e-08 \n",
        "\n"
       ]
      }
     ],
     "prompt_number": 9
    },
    {
     "cell_type": "heading",
     "level": 2,
     "metadata": {},
     "source": [
      "Example E11 - Pg 121"
     ]
    },
    {
     "cell_type": "code",
     "collapsed": false,
     "input": [
      "# Exa 3.11 - 121\n",
      "# Given data\n",
      "n_i = 1.5 * 10.**10.;# in per cm**3\n",
      "n_n = 2.25 * 10.**15.;# in per cm**3\n",
      "p_n = (n_i)**2./n_n;# in per cm**3\n",
      "print '%s %.e %s' %(\"The equilibrium electron per cm**3 is\",p_n,\"\\n\");\n",
      "h_n = n_n;# in cm**3\n",
      "print '%s %.2e %s' %(\"Hole densities in per cm**3 is\",h_n,\"\\n\");\n"
     ],
     "language": "python",
     "metadata": {},
     "outputs": [
      {
       "output_type": "stream",
       "stream": "stdout",
       "text": [
        "The equilibrium electron per cm**3 is 1e+05 \n",
        "\n",
        "Hole densities in per cm**3 is 2.25e+15 \n",
        "\n"
       ]
      }
     ],
     "prompt_number": 10
    },
    {
     "cell_type": "heading",
     "level": 2,
     "metadata": {},
     "source": [
      "Example E12 - Pg 121"
     ]
    },
    {
     "cell_type": "code",
     "collapsed": false,
     "input": [
      "# Exa 3.12 - 121\n",
      "# Given data\n",
      "N_A = 2. * 10.**16.;# in atoms/cm**3\n",
      "N_D = 10.**16.;# in atoms/cm**3\n",
      "C_c = N_A-N_D;# C_c stands for Carrier concentration in /cm**3\n",
      "print '%s %.e %s' %(\"Carrier concentration per cm**3 is\",C_c,\"\\n\");\n"
     ],
     "language": "python",
     "metadata": {},
     "outputs": [
      {
       "output_type": "stream",
       "stream": "stdout",
       "text": [
        "Carrier concentration per cm**3 is 1e+16 \n",
        "\n"
       ]
      }
     ],
     "prompt_number": 11
    },
    {
     "cell_type": "heading",
     "level": 2,
     "metadata": {},
     "source": [
      "Example E13 - Pg 121"
     ]
    },
    {
     "cell_type": "code",
     "collapsed": false,
     "input": [
      "# Exa 3.13 - 121\n",
      "# Given data\n",
      "del_n = 10.**15.;# in cm**3\n",
      "Torque_p = 10. * 10.**-6.;# in sec\n",
      "R_g = del_n/Torque_p;# in hole pairs/sec/cm**3\n",
      "print '%s %.e %s' %(\"The rate of generation of minority carrier in electron hole pairs/sec/cm**3 is \",R_g,\"\\n\");\n"
     ],
     "language": "python",
     "metadata": {},
     "outputs": [
      {
       "output_type": "stream",
       "stream": "stdout",
       "text": [
        "The rate of generation of minority carrier in electron hole pairs/sec/cm**3 is  1e+20 \n",
        "\n"
       ]
      }
     ],
     "prompt_number": 12
    },
    {
     "cell_type": "heading",
     "level": 2,
     "metadata": {},
     "source": [
      "Example E14 - Pg 121"
     ]
    },
    {
     "cell_type": "code",
     "collapsed": false,
     "input": [
      "# Exa 3.14 - 121\n",
      "# Given data\n",
      "v = 1./(20. * 10.**-6.);# in cm/sec \n",
      "E = 10.;# in V/cm\n",
      "Mu= v/E;# in cm**2/V-sec\n",
      "print '%s %.f' %(\"The mobility of minority charge carrier in cm**2/V-sec is\",Mu);"
     ],
     "language": "python",
     "metadata": {},
     "outputs": [
      {
       "output_type": "stream",
       "stream": "stdout",
       "text": [
        "The mobility of minority charge carrier in cm**2/V-sec is 5000\n"
       ]
      }
     ],
     "prompt_number": 13
    },
    {
     "cell_type": "heading",
     "level": 2,
     "metadata": {},
     "source": [
      "Example E15 - Pg 122"
     ]
    },
    {
     "cell_type": "code",
     "collapsed": false,
     "input": [
      "# Exa 3.15 - 122\n",
      "import math\n",
      "# Given data\n",
      "q = 1.6 * 10.**-19.;# in C\n",
      "N_D = 4.5 * 10.**15.;# in /cm**3\n",
      "del_p = 10.**21.;\n",
      "e=10.;# in cm\n",
      "A = 1.;# in mm**2\n",
      "A = A * 10.**-4.;# cm**2\n",
      "l = 10.;# in cm\n",
      "Torque_p = 1.;# in microsec\n",
      "Torque_p = Torque_p * 10.**-6.;# in sec\n",
      "Torque_n = 1.;# in microsec\n",
      "Torque_n = Torque_n * 10.**-6.;# in  sec\n",
      "n_i = 1.5 * 10.**10.;# in /cm**3\n",
      "D_n = 30.;# in cm**2/sec\n",
      "D_p = 12.;# in cm**2/sec\n",
      "n_o = N_D;# in /cm**3\n",
      "p_o = (n_i)**2./n_o;# in /cm**3\n",
      "print '%s %.e %s' %(\"Hole concentration at thermal equilibrium per cm**3 is\",p_o,\"\\n\");\n",
      "l_n = math.sqrt(D_n * Torque_n);# in cm\n",
      "print '%s %.2e %s' %(\"Diffusion length of electron in cm is\",l_n,\"\\n\");\n",
      "l_p = math.sqrt(D_p * Torque_p);# in cm\n",
      "print '%s %.2e %s' %(\"Diffusion length of holes in cm is\",l_p,\"\\n\");\n",
      "x=34.6*10.**-4.;# in cm\n",
      "dpBYdx = del_p *e;# in cm**4\n",
      "print '%s %.1e %s' %(\"Concentration gradient of holes at distance in cm**4 is\",dpBYdx,\"\\n\");\n",
      "e1 = 1.88 * 10.**1.;# in cm\n",
      "dnBYdx = del_p * e1;# in cm**4 \n",
      "print '%s %.2e %s' %(\"Concentration gradient of electrons in per cm**4 is\",dnBYdx,\"\\n\");\n",
      "J_P = -(q) * D_p * dpBYdx;# in A/cm**2\n",
      "print '%s %.2e %s' %(\"Current density of holes due to diffusion in A/cm**2 is\",J_P,\"\\n\");\n",
      "J_n = q * D_n * dnBYdx;# in A/cm**2\n",
      "print '%s %.e %s' %(\"Current density of electrons due to diffusion in A/cm**2 is\",J_n,\"\\n\");\n"
     ],
     "language": "python",
     "metadata": {},
     "outputs": [
      {
       "output_type": "stream",
       "stream": "stdout",
       "text": [
        "Hole concentration at thermal equilibrium per cm**3 is 5e+04 \n",
        "\n",
        "Diffusion length of electron in cm is 5.48e-03 \n",
        "\n",
        "Diffusion length of holes in cm is 3.46e-03 \n",
        "\n",
        "Concentration gradient of holes at distance in cm**4 is 1.0e+22 \n",
        "\n",
        "Concentration gradient of electrons in per cm**4 is 1.88e+22 \n",
        "\n",
        "Current density of holes due to diffusion in A/cm**2 is -1.92e+04 \n",
        "\n",
        "Current density of electrons due to diffusion in A/cm**2 is 9e+04 \n",
        "\n"
       ]
      }
     ],
     "prompt_number": 14
    },
    {
     "cell_type": "heading",
     "level": 2,
     "metadata": {},
     "source": [
      "Example E16 - Pg 123"
     ]
    },
    {
     "cell_type": "code",
     "collapsed": false,
     "input": [
      "# Exa 3.16 - 123\n",
      "import math\n",
      "# Given data\n",
      "e= 1.6*10.**-19.;# electron charge in C\n",
      "h = 6.626 * 10.**-34.;# in J-s\n",
      "h= h/e;# in eV\n",
      "c = 3. * 10.**8.;# in m/s\n",
      "lembda = 5490. * 10.**-10.;# in m\n",
      "f = c/lembda;\n",
      "E = h * f;# in eV\n",
      "print '%s %.2f' %(\"The energy band gap of the semiconductor material in eV is\",E);\n"
     ],
     "language": "python",
     "metadata": {},
     "outputs": [
      {
       "output_type": "stream",
       "stream": "stdout",
       "text": [
        "The energy band gap of the semiconductor material in eV is 2.26\n"
       ]
      }
     ],
     "prompt_number": 15
    },
    {
     "cell_type": "heading",
     "level": 2,
     "metadata": {},
     "source": [
      "Example E17 - Pg 123"
     ]
    },
    {
     "cell_type": "code",
     "collapsed": false,
     "input": [
      "# Exa 3.17 - 123\n",
      "import math\n",
      "# Given data\n",
      "y2 = 6. * 10.**16.;# in /cm**3\n",
      "y1 = 10.**17.;# in /cm**3\n",
      "x2 = 2.;# in m\n",
      "x1 = 0;# in um\n",
      "D_n = 35.;# in cm**2/sec\n",
      "q = 1.6 *10.**-19.;# in C\n",
      "dnBYdx = (y2 - y1)/((x2-x1) * 10.**-4.);\n",
      "J_n = q * D_n * dnBYdx;# in A/cm**2\n",
      "print '%s %.2f' %(\"The current density in silicon in A/cm**2 is\",J_n);\n"
     ],
     "language": "python",
     "metadata": {},
     "outputs": [
      {
       "output_type": "stream",
       "stream": "stdout",
       "text": [
        "The current density in silicon in A/cm**2 is -1120.00\n"
       ]
      }
     ],
     "prompt_number": 16
    },
    {
     "cell_type": "heading",
     "level": 2,
     "metadata": {},
     "source": [
      "Example E18 - Pg 123"
     ]
    },
    {
     "cell_type": "code",
     "collapsed": false,
     "input": [
      "# Exa 3.18 - 123\n",
      "import math\n",
      "# Given data\n",
      "q = 1.6 * 10.**-19.;# in C\n",
      "n_n = 5 * 10.**20.;# in /m**3\n",
      "n_n = n_n * 10.**-6.;# in cm**3\n",
      "Mu_n = 0.13;# in m**2/V-sec\n",
      "Mu_n = Mu_n * 10.**4.;# in cm**2/V-sec\n",
      "Sigma_n = q * n_n * Mu_n;# in (ohm-cm)**-1\n",
      "Rho = 1./Sigma_n;# in ohm-cm\n",
      "l = 0.1;# in cm\n",
      "A = 100.;# um**2\n",
      "A = A * 10.**-8.;# in cm**2\n",
      "R = Rho * (l/A);# in Ohm\n",
      "R=round(R*10.**-6.);# in Mohm\n",
      "print '%s %.f %s' %(\"The resistance of the bar is\",R,\"Mohm\"); \n"
     ],
     "language": "python",
     "metadata": {},
     "outputs": [
      {
       "output_type": "stream",
       "stream": "stdout",
       "text": [
        "The resistance of the bar is 1 Mohm\n"
       ]
      }
     ],
     "prompt_number": 17
    },
    {
     "cell_type": "heading",
     "level": 2,
     "metadata": {},
     "source": [
      "Example E19 - Pg 124"
     ]
    },
    {
     "cell_type": "code",
     "collapsed": false,
     "input": [
      "# Exa 3.19 - 124\n",
      "# Given data\n",
      "t_d = 3.;# total depletion in um\n",
      "# The depletion width ,\n",
      "D = t_d/9.;#uin um\n",
      "print '%s %.1f' %(\"Depletion width in um is\",D);"
     ],
     "language": "python",
     "metadata": {},
     "outputs": [
      {
       "output_type": "stream",
       "stream": "stdout",
       "text": [
        "Depletion width in um is 0.3\n"
       ]
      }
     ],
     "prompt_number": 18
    },
    {
     "cell_type": "heading",
     "level": 2,
     "metadata": {},
     "source": [
      "Example E20 - Pg 124"
     ]
    },
    {
     "cell_type": "code",
     "collapsed": false,
     "input": [
      "# Exa 3.20 - 124\n",
      "# Given data\n",
      "n_i = 1.5 * 10.**16.;# in /m**3\n",
      "n_n = 5. * 10.**20.;# in /m**3\n",
      "p_n = (n_i)**2./n_n;# in /m**3\n",
      "print '%s %.2e' %(\"The majority carrier density per m**3 is\",p_n);\n"
     ],
     "language": "python",
     "metadata": {},
     "outputs": [
      {
       "output_type": "stream",
       "stream": "stdout",
       "text": [
        "The majority carrier density per m**3 is 4.50e+11\n"
       ]
      }
     ],
     "prompt_number": 19
    },
    {
     "cell_type": "heading",
     "level": 2,
     "metadata": {},
     "source": [
      "Example E21 - Pg 125"
     ]
    },
    {
     "cell_type": "code",
     "collapsed": false,
     "input": [
      "# Exa 3.21 - 125\n",
      "import math\n",
      "# Given data\n",
      "D_n = 25.;# in cm**2/sec\n",
      "q = 1.6 * 10.**-19.;# in C\n",
      "y2 = 10.**14.;# in /cm**3\n",
      "y1 = 0;# in /cm**3\n",
      "x2 = 0;#in  um\n",
      "x1 = 0.5;# in um\n",
      "x1 = x1 * 10.**-4.;# in cm\n",
      "dnBYdx = abs((y2-y1)/(x2-x1));# in /cm**4 \n",
      "# The collector current density \n",
      "J_n = q * D_n * (dnBYdx);# in /cm**4\n",
      "J_n = J_n * 10.**-1.;# in A/cm**2\n",
      "print '%s %.2f' %(\"The collector current density in A/cm**2 is\",J_n);\n",
      "\n",
      "# Note: In the book, the calculated value of dn by dx (2*10**19) is wrong. Correct value is 2*10**18 so the answer in the book is wrong.\n"
     ],
     "language": "python",
     "metadata": {},
     "outputs": [
      {
       "output_type": "stream",
       "stream": "stdout",
       "text": [
        "The collector current density in A/cm**2 is 0.80\n"
       ]
      }
     ],
     "prompt_number": 20
    },
    {
     "cell_type": "heading",
     "level": 2,
     "metadata": {},
     "source": [
      "Example E22 - Pg 125"
     ]
    },
    {
     "cell_type": "code",
     "collapsed": false,
     "input": [
      "#Exa 3.22 - 125\n",
      "import math\n",
      "# Given data\n",
      "h = 6.64 * 10.**-34.;# in J-s\n",
      "e= 1.6*10.**-19.;# electron charge in C\n",
      "c= 3.* 10.**8.;# in um/s\n",
      "lembda = 0.87;# in um\n",
      "lembda = lembda * 10.**-6.;# in m\n",
      "E_g = (h * c)/lembda;# in J-s\n",
      "E_g= E_g/e;# in eV\n",
      "print '%s %.3f' %(\"The band gap of the material in eV is\",E_g);\n"
     ],
     "language": "python",
     "metadata": {},
     "outputs": [
      {
       "output_type": "stream",
       "stream": "stdout",
       "text": [
        "The band gap of the material in eV is 1.431\n"
       ]
      }
     ],
     "prompt_number": 21
    },
    {
     "cell_type": "heading",
     "level": 2,
     "metadata": {},
     "source": [
      "Example E23 - Pg 125"
     ]
    },
    {
     "cell_type": "code",
     "collapsed": false,
     "input": [
      "# Exa 3.23 - 125\n",
      "import math\n",
      "# Given data\n",
      "I_o = 10.;# in mW\n",
      "e = 1.6 * 10.**-19.;# in J/eV\n",
      "hv = 2.;# in eV\n",
      "hv1=1.43;# in eV\n",
      "alpha = 5. * 10.**4.;# in cm**-1\n",
      "l = 46.;# in um\n",
      "l = l * 10.**-6.;# in m\n",
      "I_t = round(I_o * math.exp(-(alpha) * l));# in mW\n",
      "AbsorbedPower= I_o-I_t;# in mW\n",
      "AbsorbedPower=AbsorbedPower*10.**-3.;# in W or J/s\n",
      "print '%s %.e %s' %(\"The absorbed power in watt or J/s is\",AbsorbedPower,\"\\n\");\n",
      "F= (hv-hv1)/hv;# fraction of each photon energy unit\n",
      "EnergyConToHeat= AbsorbedPower*F;# in J/s\n",
      "print '%s %.2e %s' %(\"The amount of energy converted to heat per second in J/s is : \",EnergyConToHeat,\"\\n\")\n",
      "A= (AbsorbedPower-EnergyConToHeat)/(e*hv1);\n",
      "print '%s %.2e %s' %(\"The number of photon per sec given off from recombination events in photons/s is\",A,\"\\n\");\n"
     ],
     "language": "python",
     "metadata": {},
     "outputs": [
      {
       "output_type": "stream",
       "stream": "stdout",
       "text": [
        "The absorbed power in watt or J/s is 9e-03 \n",
        "\n",
        "The amount of energy converted to heat per second in J/s is :  2.57e-03 \n",
        "\n",
        "The number of photon per sec given off from recombination events in photons/s is 2.81e+16 \n",
        "\n"
       ]
      }
     ],
     "prompt_number": 22
    },
    {
     "cell_type": "heading",
     "level": 2,
     "metadata": {},
     "source": [
      "Example E24 - Pg 126"
     ]
    },
    {
     "cell_type": "code",
     "collapsed": false,
     "input": [
      "# Exa 3.24 - 126\n",
      "import math\n",
      "# Given data\n",
      "Mu_p = 500.;# in cm**2/V-sec\n",
      "kT = 0.0259;\n",
      "Toh_p = 10.**-10.;# in sec\n",
      "p_o = 10.**17.;# in cm**-3\n",
      "q= 1.6*10.**-19.;# in C\n",
      "A=0.5;# in square meter\n",
      "del_p = 5. * 10.**16.;# in cm**-3\n",
      "n_i= 1.5*10.**10.;# in cm**-3    \n",
      "D_p = kT * Mu_p;# in cm/s\n",
      "L_p = math.sqrt(D_p * Toh_p);# in cm\n",
      "x = 10.**-5.;# in cm\n",
      "p = p_o+del_p* math.e**(x/L_p);# in cm**-3\n",
      "# p= n_i*%e**(Eip)/kT where Eip=E_i-F_p\n",
      "Eip= math.log(p/n_i)*kT;# in eV\n",
      "Ecp= 1.1/2.-Eip;# value of E_c-E_p in eV\n",
      "Ip= q*A*D_p/L_p*del_p/math.e**(x/L_p);# in A\n",
      "print '%s %.2e %s' %(\"The hole current in A is : \",Ip,\"\\n\")\n",
      "Qp= q*A*del_p*L_p;# in C\n",
      "print '%s %.2e %s' %(\"The value of Qp in C is : \",Qp,\"\\n\")\n",
      "\n"
     ],
     "language": "python",
     "metadata": {},
     "outputs": [
      {
       "output_type": "stream",
       "stream": "stdout",
       "text": [
        "The hole current in A is :  1.09e+03 \n",
        "\n",
        "The value of Qp in C is :  1.44e-07 \n",
        "\n"
       ]
      }
     ],
     "prompt_number": 23
    }
   ],
   "metadata": {}
  }
 ]
}