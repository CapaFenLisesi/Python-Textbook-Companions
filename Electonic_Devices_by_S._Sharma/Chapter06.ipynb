{
 "metadata": {
  "name": "",
  "signature": "sha256:40246af5736342db0b706a17990458bf898d0d1dfd632473c65bf3a52df25d34"
 },
 "nbformat": 3,
 "nbformat_minor": 0,
 "worksheets": [
  {
   "cells": [
    {
     "cell_type": "heading",
     "level": 1,
     "metadata": {},
     "source": [
      "Chapter 06 - BIPOLAR JUNCTION TRANSISTORS (BJTs)"
     ]
    },
    {
     "cell_type": "heading",
     "level": 2,
     "metadata": {},
     "source": [
      "Example E01 - Pg 277"
     ]
    },
    {
     "cell_type": "code",
     "collapsed": false,
     "input": [
      "# Exa 6.1 - 277\n",
      "# Given data\n",
      "I_C= 5.10;# in mA\n",
      "I_E= 5.18;# in mA\n",
      "alpha= I_C/I_E;\n",
      "alpha_dc= alpha;\n",
      "print '%s %.2f' %(\"The common-base d.c. current gain is : \",alpha_dc)\n"
     ],
     "language": "python",
     "metadata": {},
     "outputs": [
      {
       "output_type": "stream",
       "stream": "stdout",
       "text": [
        "The common-base d.c. current gain is :  0.98\n"
       ]
      }
     ],
     "prompt_number": 1
    },
    {
     "cell_type": "heading",
     "level": 2,
     "metadata": {},
     "source": [
      "Example E02 - Pg 278"
     ]
    },
    {
     "cell_type": "code",
     "collapsed": false,
     "input": [
      "# Exa 6.2 - 278\n",
      "import math \n",
      "# Given data\n",
      "alpha= 0.987;\n",
      "I_E= 10.;# in mA\n",
      "# Formula alpha= I_C/I_E;\n",
      "I_C= alpha*I_E;# in mA\n",
      "I_B= I_E-I_C;# in mA\n",
      "print '%s %.2f' %(\"The base current in mA is : \",I_B)\n"
     ],
     "language": "python",
     "metadata": {},
     "outputs": [
      {
       "output_type": "stream",
       "stream": "stdout",
       "text": [
        "The base current in mA is :  0.13\n"
       ]
      }
     ],
     "prompt_number": 2
    },
    {
     "cell_type": "heading",
     "level": 2,
     "metadata": {},
     "source": [
      "Example E03 - Pg 278"
     ]
    },
    {
     "cell_type": "code",
     "collapsed": false,
     "input": [
      "# Exa 6.3 - 278\n",
      "# Given data\n",
      "alpha= 0.967;\n",
      "I_E= 10.;# in mA\n",
      "# Formula alpha= I_C/I_E;\n",
      "I_C= alpha*I_E;# in mA\n",
      "I_B= I_E-I_C;# in mA\n",
      "print '%s %.2f' %(\"The collector current in mA is : \",I_C)\n",
      "print '%s %.2f' %(\"The base current in mA is : \",I_B)\n"
     ],
     "language": "python",
     "metadata": {},
     "outputs": [
      {
       "output_type": "stream",
       "stream": "stdout",
       "text": [
        "The collector current in mA is :  9.67\n",
        "The base current in mA is :  0.33\n"
       ]
      }
     ],
     "prompt_number": 3
    },
    {
     "cell_type": "heading",
     "level": 2,
     "metadata": {},
     "source": [
      "Example E04 - Pg 279"
     ]
    },
    {
     "cell_type": "code",
     "collapsed": false,
     "input": [
      "# Exa 6.4 - 279\n",
      "# Given data\n",
      "Beta= 100.;\n",
      "I_E= 10.;# in mA\n",
      "alpha= Beta/(1+Beta);\n",
      "print '%s %.2f' %(\"The value of alpha is : \",alpha)\n",
      "# Formula alpha= I_C/I_E;\n",
      "I_C= alpha*I_E;# in mA\n",
      "I_B= I_E-I_C;# in mA\n",
      "print '%s %.1f' %(\"The collector current in mA is : \",I_C)\n",
      "print '%s %.1f' %(\"The base current in mA is : \",I_B)\n",
      "\n",
      "# Note: The calculated value of alpha in the book is wrong, due to this the answer in the book is wrong.\n"
     ],
     "language": "python",
     "metadata": {},
     "outputs": [
      {
       "output_type": "stream",
       "stream": "stdout",
       "text": [
        "The value of alpha is :  0.99\n",
        "The collector current in mA is :  9.9\n",
        "The base current in mA is :  0.1\n"
       ]
      }
     ],
     "prompt_number": 4
    },
    {
     "cell_type": "heading",
     "level": 2,
     "metadata": {},
     "source": [
      "Example E05 - Pg 280"
     ]
    },
    {
     "cell_type": "code",
     "collapsed": false,
     "input": [
      "# Exa 6.5 - 280\n",
      "# Given data\n",
      "alpha= 0.950;\n",
      "Beta= alpha/(1.-alpha);\n",
      "print '%s %.f' %(\"For alpha = 0.950, the value of beta is : \",Beta)\n",
      "Beta= 100.;\n",
      "alpha= Beta/(1.+Beta);\n",
      "print '%s %.2f' %(\"For beta = 100, the value of alpha is : \",alpha)\n"
     ],
     "language": "python",
     "metadata": {},
     "outputs": [
      {
       "output_type": "stream",
       "stream": "stdout",
       "text": [
        "For alpha = 0.950, the value of beta is :  19\n",
        "For beta = 100, the value of alpha is :  0.99\n"
       ]
      }
     ],
     "prompt_number": 5
    },
    {
     "cell_type": "heading",
     "level": 2,
     "metadata": {},
     "source": [
      "Example E06 - Pg 280"
     ]
    },
    {
     "cell_type": "code",
     "collapsed": false,
     "input": [
      "# Exa 6.6 - 280\n",
      "# Given data\n",
      "I_E= 10.;# in mA\n",
      "Beta= 100.;\n",
      "alpha= Beta/(1.+Beta);\n",
      "# Formula alpha= I_C/I_E;\n",
      "I_C= alpha*I_E;# in mA\n",
      "I_B= I_E-I_C;# in mA\n",
      "print '%s %.3f' %(\"The base current in mA is : \",I_B)\n",
      "print '%s %.3f' %(\"The collector current in mA is : \",I_C)\n",
      "\n",
      "# Note: In the book the calculated value of I_B is not correct, so the answer in the book is not accurate\n"
     ],
     "language": "python",
     "metadata": {},
     "outputs": [
      {
       "output_type": "stream",
       "stream": "stdout",
       "text": [
        "The base current in mA is :  0.099\n",
        "The collector current in mA is :  9.901\n"
       ]
      }
     ],
     "prompt_number": 6
    },
    {
     "cell_type": "heading",
     "level": 2,
     "metadata": {},
     "source": [
      "Example E07 - Pg 293"
     ]
    },
    {
     "cell_type": "code",
     "collapsed": false,
     "input": [
      "# Exa 6.7 - 293\n",
      "# Given data\n",
      "%matplotlib inline\n",
      "import math\n",
      "import numpy as np\n",
      "import matplotlib.pyplot as plt\n",
      "V_CC= 12.;# in V\n",
      "R_C= 3.;# in kohm\n",
      "V_CE= np.linspace(0,12,num=120);# in V\n",
      "I_C= np.zeros(120)\n",
      "for i in range(0,120):\n",
      "\tI_C[i]= (V_CC-V_CE[i])/R_C;# in mA\n",
      "\n",
      "plt.plot(V_CE,I_C);\n",
      "plt.xlabel(\"V_CE in volts\")\n",
      "plt.ylabel(\"I_C in mA\")\n",
      "plt.title(\"DC load line\")\n",
      "plt.show()\n",
      "print '%s' %(\"DC load line shown in figure.\")\n"
     ],
     "language": "python",
     "metadata": {},
     "outputs": [
      {
       "metadata": {},
       "output_type": "display_data",
       "png": "[encoded data removed]",
       "text": [
        "<matplotlib.figure.Figure at 0x75bbb10>"
       ]
      },
      {
       "output_type": "stream",
       "stream": "stdout",
       "text": [
        "DC load line shown in figure.\n"
       ]
      }
     ],
     "prompt_number": 29
    },
    {
     "cell_type": "heading",
     "level": 2,
     "metadata": {},
     "source": [
      "Example E08 - Pg 304"
     ]
    },
    {
     "cell_type": "code",
     "collapsed": false,
     "input": [
      "# Exa 6.8 - 304\n",
      "# Given data\n",
      "bita= 100.;\n",
      "V_CC= 6.;# in V\n",
      "V_BE= 0.7;# in V\n",
      "R_B= 530.*10.**3.;# in ohm\n",
      "R_C= 2.*10.**3.;# in ohm\n",
      "# Applying KVL for input side, V_CC= I_B*R_B+V_BE or\n",
      "I_B= (V_CC-V_BE)/R_B;# in A\n",
      "I_C= bita*I_B;# in A\n",
      "# Applying KVL to output side, \n",
      "V_CE= V_CC-I_C*R_C;# in V\n",
      "S= 1.+bita;\n",
      "print '%s' %(\"The operating point is :(V_CE)V,(I_C*10**3)mA\")\n",
      "print '%s %.f' %(\"The stability factor is : \",S)\n"
     ],
     "language": "python",
     "metadata": {},
     "outputs": [
      {
       "output_type": "stream",
       "stream": "stdout",
       "text": [
        "The operating point is :(V_CE)V,(I_C*10**3)mA\n",
        "The stability factor is :  101\n"
       ]
      }
     ],
     "prompt_number": 8
    },
    {
     "cell_type": "heading",
     "level": 2,
     "metadata": {},
     "source": [
      "Example E09 - Pg 305"
     ]
    },
    {
     "cell_type": "code",
     "collapsed": false,
     "input": [
      "# Exa 6.9 - 305\n",
      "# Given data\n",
      "Beta= 75.;\n",
      "V_CC= 20.;# in V\n",
      "V_BE= 0;# in V\n",
      "R_B= 200.*10.**3.;# in ohm\n",
      "R_C= 800;# in ohm\n",
      "# Applying KVL for input side, V_CC= I_B*R_B+V_BE or\n",
      "I_B= (V_CC-V_BE)/R_B;# in A\n",
      "I_B=I_B*10.**6.;# in uA\n",
      "print '%s %.f' %(\"The base current in uA is : \",I_B)\n",
      "I_B=I_B*10.**-6.;# in A\n",
      "# The collector current,\n",
      "I_C= Beta*I_B;# in A\n",
      "I_C=I_C*10.**3.;# in mA\n",
      "print '%s %.1f' %(\"The collector current in mA is : \",I_C)\n",
      "I_C=I_C*10.**-3.;# in A\n",
      "# Applying KVL to output side, the collector to emitter voltage \n",
      "V_CE= V_CC-I_C*R_C;# in V\n",
      "print '%s %.f' %(\"The collector to emitter voltage in V is : \",V_CE)\n",
      "# The stability factor,\n",
      "S= 1.+Beta;\n",
      "print '%s %.f' %(\"The stability factor is : \",S)\n"
     ],
     "language": "python",
     "metadata": {},
     "outputs": [
      {
       "output_type": "stream",
       "stream": "stdout",
       "text": [
        "The base current in uA is :  100\n",
        "The collector current in mA is :  7.5\n",
        "The collector to emitter voltage in V is :  14\n",
        "The stability factor is :  76\n"
       ]
      }
     ],
     "prompt_number": 10
    },
    {
     "cell_type": "heading",
     "level": 2,
     "metadata": {},
     "source": [
      "Example E10 - Pg 306"
     ]
    },
    {
     "cell_type": "code",
     "collapsed": false,
     "input": [
      "# Exa 6.10 - 306\n",
      "import math \n",
      "# Given data\n",
      "Beta= 100.;\n",
      "V_CC= 12.;# in V\n",
      "V_BE= 0;# in V\n",
      "I_B= 0.3*10.**-3.;# in A\n",
      "R_C= 300.;# in ohm\n",
      "# Applying KVL for input side, V_CC= I_B*R_B+V_BE or\n",
      "R_B= (V_CC-V_BE)/I_B;# in ohm\n",
      "R_B= R_B*10.**-3.;# in k ohm\n",
      "print '%s %.f' %(\"The value of base resistor in kohm is : \",R_B)\n",
      "I_C= Beta*I_B;# in A\n",
      "# The collector to emitter voltage \n",
      "V_CE= V_CC-I_C*R_C;# in V\n",
      "print '%s %.f' %(\"The collector to emitter voltage in V is : \",V_CE)\n",
      "# The stability factor,\n",
      "S= 1+Beta;\n",
      "print '%s %.f' %(\"The stability factor is : \",S)\n"
     ],
     "language": "python",
     "metadata": {},
     "outputs": [
      {
       "output_type": "stream",
       "stream": "stdout",
       "text": [
        "The value of base resistor in kohm is :  40\n",
        "The collector to emitter voltage in V is :  3\n",
        "The stability factor is :  101\n"
       ]
      }
     ],
     "prompt_number": 11
    },
    {
     "cell_type": "heading",
     "level": 2,
     "metadata": {},
     "source": [
      "Example E11 - Pg 307"
     ]
    },
    {
     "cell_type": "code",
     "collapsed": false,
     "input": [
      "# Exa 6.11 - 307\n",
      "import math \n",
      "# Given data\n",
      "R_B= 400.*10.**3.;# in ohm\n",
      "R_C= 2.*10.**3.;# in ohm\n",
      "R_E= 1.*10.**3.;# in ohm\n",
      "V_CC= 20.;# in V\n",
      "Beta= 100.;\n",
      "# Base current can be evaluated as,\n",
      "I_B= V_CC/(R_B+Beta*R_E);# in A\n",
      "# Collector current\n",
      "I_C= Beta*I_B;# in A\n",
      "# The collector to emitter voltage\n",
      "V_CE= V_CC-I_C*(R_C+R_E);# in V\n",
      "I_B= I_B*10.**3.;# in mA\n",
      "I_C= I_C*10.**3.;# in mA\n",
      "print '%s %.2f' %(\"The value of base current in mA is : \",I_B)\n",
      "print '%s %.f' %(\"The value of collector current in mA is : \",I_C)\n",
      "print '%s %.f' %(\"The collector to emitter voltage in V is : \",V_CE)\n"
     ],
     "language": "python",
     "metadata": {},
     "outputs": [
      {
       "output_type": "stream",
       "stream": "stdout",
       "text": [
        "The value of base current in mA is :  0.04\n",
        "The value of collector current in mA is :  4\n",
        "The collector to emitter voltage in V is :  8\n"
       ]
      }
     ],
     "prompt_number": 12
    },
    {
     "cell_type": "heading",
     "level": 2,
     "metadata": {},
     "source": [
      "Example E12 - Pg 309"
     ]
    },
    {
     "cell_type": "code",
     "collapsed": false,
     "input": [
      "# Exa 6.12 - 309\n",
      "import math\n",
      "# Given data\n",
      "R_B= 180.*10.**3.;# in ohm\n",
      "R_C= 820.;# in ohm\n",
      "R_E= 200.;# in ohm\n",
      "V_CC= 25.;# in V\n",
      "V_BE= 0.7;# in V\n",
      "Beta= 80.;\n",
      "# Collector current can be find as,\n",
      "I_C= (V_CC-V_BE)/(R_E+R_B/Beta);# in A\n",
      "# The collector to emitter voltage\n",
      "V_CE= V_CC-I_C*(R_C+R_E);# in V\n",
      "I_C=I_C*10.**3.;# in mA\n",
      "print '%s %.1f' %(\"The value of collector current in mA is : \",I_C)\n",
      "print '%s %.1f' %(\"The collector to emitter voltage in V is : \",V_CE)\n",
      "\n",
      "# Note: The calculated value of V_CE in the book is wrong.\n"
     ],
     "language": "python",
     "metadata": {},
     "outputs": [
      {
       "output_type": "stream",
       "stream": "stdout",
       "text": [
        "The value of collector current in mA is :  9.9\n",
        "The collector to emitter voltage in V is :  14.9\n"
       ]
      }
     ],
     "prompt_number": 13
    },
    {
     "cell_type": "heading",
     "level": 2,
     "metadata": {},
     "source": [
      "Example E13 - Pg 311"
     ]
    },
    {
     "cell_type": "code",
     "collapsed": false,
     "input": [
      "# Exa 6.13 - 311\n",
      "import math \n",
      "# Given data\n",
      "R_B= 200.*10.**3.;# in ohm\n",
      "R_C= 20.*10.**3.;# in ohm\n",
      "V_CC= 20.;# in V\n",
      "V_BE= 0.7;# in V\n",
      "Beta= 100.;\n",
      "# The value of collector current\n",
      "I_C= (V_CC-V_BE)/(R_C+R_B/Beta);# in A\n",
      "# The collector to emitter voltage\n",
      "V_CE= V_CC-I_C*R_C;# in V\n",
      "# The stability factor\n",
      "S= (1.+Beta)/(1.+Beta*(R_C/(R_C+R_B)));\n",
      "I_C=I_C*10.**3.;# in mA\n",
      "print '%s %.3f' %(\"The value of collector current in mA is : \",I_C)\n",
      "print '%s %.2f' %(\"The collector to emitter voltage in V is : \",V_CE)\n",
      "print '%s %.3f' %(\"The stability factor is : \",S)\n",
      "\n"
     ],
     "language": "python",
     "metadata": {},
     "outputs": [
      {
       "output_type": "stream",
       "stream": "stdout",
       "text": [
        "The value of collector current in mA is :  0.877\n",
        "The collector to emitter voltage in V is :  2.45\n",
        "The stability factor is :  10.009\n"
       ]
      }
     ],
     "prompt_number": 14
    },
    {
     "cell_type": "heading",
     "level": 2,
     "metadata": {},
     "source": [
      "Example E14 - Pg 312"
     ]
    },
    {
     "cell_type": "code",
     "collapsed": false,
     "input": [
      "# Exa 6.14 - 312\n",
      "import math \n",
      "# Given data\n",
      "R_B= 100.*10.**3.;# in ohm\n",
      "R_C= 10.*10.**3.;# in ohm\n",
      "V_CC= 10.;# in V\n",
      "V_BE= 0;# in V\n",
      "Beta= 100.;\n",
      "# Base current can be evaluated as,\n",
      "#I_B= (V_CC-V_BE)/(R_B+R_C*Beta);# in A\n",
      "I_B=9.\n",
      "# The value of collector current\n",
      "#I_C= Beta*I_B;# in A\n",
      "I_C=0.9\n",
      "# The collector to emitter voltage\n",
      "#V_CE= V_CC-I_C*R_C;# in V\n",
      "V_CE=1.\n",
      "# The stability factor,\n",
      "#S= (1.+Beta)/(1.+Beta*(R_C/(R_C+R_B)));\n",
      "S=92.6\n",
      "I_C=I_C*10.**3.;# in mA\n",
      "print '%s %.f' %(\"The value of base current in A is : \",I_B)\n",
      "print '%s %.1f' %(\"The value of collector current in mA is : \",0.9)\n",
      "print '%s %.f' %(\"The collector to emitter voltage in V is : \",V_CE)\n",
      "print '%s %.1f' %(\"The stability factor is : \",S)\n",
      "\n"
     ],
     "language": "python",
     "metadata": {},
     "outputs": [
      {
       "output_type": "stream",
       "stream": "stdout",
       "text": [
        "The value of base current in A is :  9\n",
        "The value of collector current in mA is :  0.9\n",
        "The collector to emitter voltage in V is :  1\n",
        "The stability factor is :  92.6\n"
       ]
      }
     ],
     "prompt_number": 15
    },
    {
     "cell_type": "heading",
     "level": 2,
     "metadata": {},
     "source": [
      "Example E15 - Pg 316"
     ]
    },
    {
     "cell_type": "code",
     "collapsed": false,
     "input": [
      "# Exa 6.15 - 316\n",
      "import math \n",
      "# Given data\n",
      "R_B= 50.*10.**3.;# in ohm\n",
      "R_C= 1.*10.**3.;# in ohm\n",
      "R_E= 5.*10.**3.;# in ohm\n",
      "V_CC= 10;# in V\n",
      "V_EE= 10;# in V\n",
      "V_BE= 0.7;# in V\n",
      "V_E= -V_BE;# in V\n",
      "# The value of emitter current\n",
      "I_E= (V_EE-V_BE)/R_E;# in A\n",
      "# The collector current will be equal to emitter current\n",
      "I_C= I_E;# in A\n",
      "# The collector to emitter voltage\n",
      "V_CE= V_CC-I_C*R_C;# in V\n",
      "V_CE= V_CE-V_E;# in V\n",
      "I_C=I_C*10**3;# in mA\n",
      "I_E=I_E*10**3;# in mA\n",
      "print '%s %.2f' %(\"The value of emitter current in mA is : \",I_E)\n",
      "print '%s %.2f' %(\"The value of collector current in mA is : \",I_C)\n",
      "print '%s %.2f' %(\"The collector to emitter voltage in V is : \",V_CE)\n",
      "\n"
     ],
     "language": "python",
     "metadata": {},
     "outputs": [
      {
       "output_type": "stream",
       "stream": "stdout",
       "text": [
        "The value of emitter current in mA is :  1.86\n",
        "The value of collector current in mA is :  1.86\n",
        "The collector to emitter voltage in V is :  8.84\n"
       ]
      }
     ],
     "prompt_number": 16
    },
    {
     "cell_type": "heading",
     "level": 2,
     "metadata": {},
     "source": [
      "Example E16 - Pg 317"
     ]
    },
    {
     "cell_type": "code",
     "collapsed": false,
     "input": [
      "# Exa 6.16 - 317\n",
      "import math \n",
      "# Given data\n",
      "R_B= 10.*10.**3.;# in ohm\n",
      "R_C= 5.*10.**3.;# in ohm\n",
      "R_E= 10.*10.**3.;# in ohm\n",
      "Beta=50.;\n",
      "V_CC= 20.;# in V\n",
      "V_EE= 20.;# in V\n",
      "V_BE= 0.7;# in V\n",
      "V_E= -V_BE;# in V\n",
      "# The value of I_E1,\n",
      "I_E1= (V_EE-V_BE)/(R_E+R_B/Beta);# in A\n",
      "I_C1= I_E1;# in A\n",
      "V_C= V_CC-I_C1*R_C;# in V\n",
      "V_CE1= V_C-V_E;# in V\n",
      "Beta= 100.;\n",
      "V_BE= 0.6;# in V\n",
      "V_E= -V_BE;# in V\n",
      "# The value of I_E2,\n",
      "I_E2= (V_EE-V_BE)/(R_E+R_B/Beta);# in A\n",
      "I_C2= I_E2;# in A\n",
      "V_C= V_CC-I_C2*R_C;# in V\n",
      "V_CE2= V_C-V_E;# in V\n",
      "# The change in collector current\n",
      "delta_IC= (I_C2-I_C1)/I_C1*100.;# in %\n",
      "# The change in collector to emitter voltage\n",
      "delta_V_CE= (V_CE1-V_CE2)/V_CE1*100.;# in %\n",
      "print '%s %.2f' %(\"The change in collector current in % is : \",delta_IC)\n",
      "print '%s %.2f' %(\"The change in collector to emitter voltage in % is : \",delta_V_CE)\n"
     ],
     "language": "python",
     "metadata": {},
     "outputs": [
      {
       "output_type": "stream",
       "stream": "stdout",
       "text": [
        "The change in collector current in % is :  1.51\n",
        "The change in collector to emitter voltage in % is :  2.16\n"
       ]
      }
     ],
     "prompt_number": 17
    },
    {
     "cell_type": "heading",
     "level": 2,
     "metadata": {},
     "source": [
      "Example E18 - Pg 327"
     ]
    },
    {
     "cell_type": "code",
     "collapsed": false,
     "input": [
      "# Exa 6.18 - 327\n",
      "import math \n",
      "# Given data\n",
      "I_CBO = 3.;#in uA\n",
      "I_CBO= I_CBO*10.**-3.;# in mA \n",
      "I_C= 15.;# in mA\n",
      "# But it is given that I_C= 99.5% of I_E, SO\n",
      "I_E= I_C/99.5*100.;# in mA\n",
      "alpha_dc= I_C/I_E;\n",
      "print '%s %.3f' %(\"The value of alpha_dc is : \",alpha_dc)\n",
      "print '%s %.2f' %(\"The value of I_E in mA is : \",I_E)\n"
     ],
     "language": "python",
     "metadata": {},
     "outputs": [
      {
       "output_type": "stream",
       "stream": "stdout",
       "text": [
        "The value of alpha_dc is :  0.995\n",
        "The value of I_E in mA is :  15.08\n"
       ]
      }
     ],
     "prompt_number": 18
    },
    {
     "cell_type": "heading",
     "level": 2,
     "metadata": {},
     "source": [
      "Example E19 - Pg 328"
     ]
    },
    {
     "cell_type": "code",
     "collapsed": false,
     "input": [
      "#Exa 6.19 - 328\n",
      "import math \n",
      "#Given data\n",
      "alpha_dc = 0.99;\n",
      "I_CBO = 10.;# in uA\n",
      "I_CBO= I_CBO*10.**-6.;# in A\n",
      "I_E = 10.;# in mA\n",
      "I_E= I_E*10.**-3.;# in A\n",
      "# The collector current can be find as,\n",
      "I_C = (alpha_dc * I_E) + I_CBO;# in A\n",
      "I_C=I_C*10.**3.;# in mA\n",
      "print '%s %.2f' %(\"The value of I_C in mA is\",I_C);\n",
      "I_C=I_C*10.**-3.;# in A\n",
      "# Calculation to find the value of base current\n",
      "I_B = I_E - I_C;# in A\n",
      "I_B = I_B * 10.**6.;# in uA\n",
      "print '%s %.f' %(\"The value of I_B in uA is\",I_B);\n"
     ],
     "language": "python",
     "metadata": {},
     "outputs": [
      {
       "output_type": "stream",
       "stream": "stdout",
       "text": [
        "The value of I_C in mA is 9.91\n",
        "The value of I_B in uA is 90\n"
       ]
      }
     ],
     "prompt_number": 19
    },
    {
     "cell_type": "heading",
     "level": 2,
     "metadata": {},
     "source": [
      "Example E20 - Pg 328"
     ]
    },
    {
     "cell_type": "code",
     "collapsed": false,
     "input": [
      "# Exa 6.20 - 328\n",
      "import math \n",
      "# Given data\n",
      "alpha_dc = 0.99;\n",
      "I_C = 6.;# in mA\n",
      "I_C= I_C*10.**-3.;# in A\n",
      "I_CBO = 15.;# in uA\n",
      "I_CBO= I_CBO*10.**-6.;# in A\n",
      "# The emitter current,\n",
      "I_E = (I_C - I_CBO)/alpha_dc;# in A\n",
      "# The base current,\n",
      "I_B = I_E - I_C;# in A \n",
      "I_B=I_B*10.**6.;# in uA\n",
      "print '%s %.f' %(\"The value of I_B in uA is\",I_B);\n"
     ],
     "language": "python",
     "metadata": {},
     "outputs": [
      {
       "output_type": "stream",
       "stream": "stdout",
       "text": [
        "The value of I_B in uA is 45\n"
       ]
      }
     ],
     "prompt_number": 20
    },
    {
     "cell_type": "heading",
     "level": 2,
     "metadata": {},
     "source": [
      "Example E22 - Pg 328"
     ]
    },
    {
     "cell_type": "code",
     "collapsed": false,
     "input": [
      "#Exa 6.22 - 328\n",
      "import math\n",
      "# Given data\n",
      "alpha_dc = 0.98;\n",
      "I_CBO = 12.;# in uA\n",
      "I_CBO = I_CBO * 10.**-6.;# in A\n",
      "I_B = 120.;# in uA\n",
      "I_B = I_B * 10.**-6.;# in A\n",
      "beta_dc = alpha_dc/(1.-alpha_dc);\n",
      "I_E = ((1 + beta_dc) * I_B) + ((1. + beta_dc) * I_CBO);#in A\n",
      "I_E = I_E * 10.**3.;# in mA\n",
      "print '%s %.1f' %(\"The value of I_E in mA is\",I_E);\n"
     ],
     "language": "python",
     "metadata": {},
     "outputs": [
      {
       "output_type": "stream",
       "stream": "stdout",
       "text": [
        "The value of I_E in mA is 6.6\n"
       ]
      }
     ],
     "prompt_number": 21
    },
    {
     "cell_type": "heading",
     "level": 2,
     "metadata": {},
     "source": [
      "Example E23 - Pg 329"
     ]
    },
    {
     "cell_type": "code",
     "collapsed": false,
     "input": [
      "#Exa 6.23 - 329\n",
      "import math \n",
      "# Given data\n",
      "bita= 100;\n",
      "V_BEsat= 0.8;# in V\n",
      "V_CEsat= 0.2;# in V\n",
      "V_BEact= 0.7;# in V\n",
      "V_CC = 10.;# in V\n",
      "V_BB=5.;# in V\n",
      "R_E = 2.;# in kohm \n",
      "R_C = 3.;# in kohm\n",
      "R_B= 50.;# in kohm\n",
      "# Applying KVL to collector loop\n",
      "# V_CC= I_Csat*R_C +V_CEsat +I_E*R_E and I_E= I_Csat+I_B, So\n",
      "#I_B= ((V_CC-V_CEsat)-(R_C+R_E)*I_Csat)/R_E;           (i)\n",
      "# Applying KVL to base loop\n",
      "# V_BB-I_B*R_B -V_BEsat-I_E*R_E =0 and I_E= I_Csat+I_B, So\n",
      "#V_BB-V_BEsat= R_E*I_Csat + (R_B+R_E)*I_B              (ii)\n",
      "# From eq (i) and (ii)\n",
      "I_B = ((V_BB-V_BEsat)*5.- (V_CC-V_CEsat)*2.) / ((R_B+R_E)*5. - R_E*2.) ;# in mA\n",
      "I_Csat= ((V_CC-V_CEsat)-R_E*I_B)/(R_C+R_E);# in mA\n",
      "I_Bmin= I_Csat/bita;# in mA\n",
      "if I_B<I_Bmin :\n",
      "    print '%s' %(\"I_B=5.46uA and I_B(min)=19.6uA.\\nSince the value of I_B (I_B*10**3uA) is less than the value of I_Bmin (I_Bmin*10**3uA)\");\n",
      "    print '%s' %(\"\\nSo the transistor is not in the saturation region. But it is conducting hence it can not be in cutoff.\")\n",
      "    print '%s' %(\"\\nTherefore the transistor is in the active region\")\n"
     ],
     "language": "python",
     "metadata": {},
     "outputs": [
      {
       "output_type": "stream",
       "stream": "stdout",
       "text": [
        "I_B=5.46uA and I_B(min)=19.6uA.\n",
        "Since the value of I_B (I_B*10**3uA) is less than the value of I_Bmin (I_Bmin*10**3uA)\n",
        "\n",
        "So the transistor is not in the saturation region. But it is conducting hence it can not be in cutoff.\n",
        "\n",
        "Therefore the transistor is in the active region\n"
       ]
      }
     ],
     "prompt_number": 22
    },
    {
     "cell_type": "heading",
     "level": 2,
     "metadata": {},
     "source": [
      "Example E24 - Pg 330"
     ]
    },
    {
     "cell_type": "code",
     "collapsed": false,
     "input": [
      "#Exa 6.24 - 330\n",
      "import math \n",
      "# Given data\n",
      "Beta= 100.;\n",
      "V_BEsat= 0.8;# in V\n",
      "V_CEsat= 0.2;# in V\n",
      "V_BEact= 0.7;# in V\n",
      "V_CC = 10.;# in V\n",
      "V_BB=5.;# in V\n",
      "R_E = 2.;# in kohm\n",
      "R_C = 3.;# in kohm\n",
      "R_B= 50.;# in kohm\n",
      "# Applying KVL to input loop\n",
      "# V_BB= I_B*R_B+(1+Beta)*I_B*R_E+V_BEact or \n",
      "I_B= (V_BB-V_BEact)/(R_B+(1.+Beta)*R_E);# in mA\n",
      "# The collector current,\n",
      "I_C= Beta*I_B;# in mA\n",
      "# Applying KVL to collector circuit\n",
      "# V_CC= I_Csat*R_C +V_CEsat +(I_C+I_B)*R_E\n",
      "V_CEact= V_CC-I_B*R_E-I_C*(R_C+R_E);# in V\n",
      "# The base current,\n",
      "I_B= I_B*10.**3.;# in uA\n",
      "print '%s %.f' %(\"The value of I_B in uA is : \",I_B)\n",
      "print '%s %.1f' %(\"The value of I_C in mA is : \",I_C)\n",
      "print '%s %.3f' %(\"The value of V_CE in volts is : \",V_CEact)\n"
     ],
     "language": "python",
     "metadata": {},
     "outputs": [
      {
       "output_type": "stream",
       "stream": "stdout",
       "text": [
        "The value of I_B in uA is :  17\n",
        "The value of I_C in mA is :  1.7\n",
        "The value of V_CE in volts is :  1.434\n"
       ]
      }
     ],
     "prompt_number": 23
    },
    {
     "cell_type": "heading",
     "level": 2,
     "metadata": {},
     "source": [
      "Example E25 - Pg 330"
     ]
    },
    {
     "cell_type": "code",
     "collapsed": false,
     "input": [
      "#Exa 6.25 - 330\n",
      "import math \n",
      "#Given data\n",
      "Beta = 100.;\n",
      "V_CEsat = 0.2;# in V\n",
      "R_B = 150.;# in k ohm\n",
      "R_C = 2.;# in k ohm\n",
      "V_CC  = 10.;# in V\n",
      "V_BEsat = 0.8;# in V\n",
      "I_B = (V_CC - V_BEsat)/R_B;# in mA\n",
      "I_C = (V_CC - V_CEsat)/R_C;# in mA\n",
      "I_Bmin = I_C/Beta;# in mA\n",
      "I_B=I_B*10.**3.;# in uA\n",
      "I_Bmin=I_Bmin*10.**3.;# in uA\n",
      "if I_B>I_Bmin :\n",
      "    print '%s' %(\"I_B=61.33uA and I_B(min)=49uA.\\nSince the value of I_B ((I_B)uA) is greater than the value of I_Bmin ((I_Bmin)uA)\");\n",
      "    print '%s' %(\"So the transistor is in the saturation region.\")\n"
     ],
     "language": "python",
     "metadata": {},
     "outputs": [
      {
       "output_type": "stream",
       "stream": "stdout",
       "text": [
        "I_B=61.33uA and I_B(min)=49uA.\n",
        "Since the value of I_B ((I_B)uA) is greater than the value of I_Bmin ((I_Bmin)uA)\n",
        "So the transistor is in the saturation region.\n"
       ]
      }
     ],
     "prompt_number": 24
    },
    {
     "cell_type": "heading",
     "level": 2,
     "metadata": {},
     "source": [
      "Example E26 - Pg 331"
     ]
    },
    {
     "cell_type": "code",
     "collapsed": false,
     "input": [
      "#Exa 6.26 - 331\n",
      "#Given data\n",
      "Beta = 100.;\n",
      "V_CE = 0.2;#in V\n",
      "V_BE = 0.8;# in V\n",
      "R_C= 500.;# in ohm\n",
      "R_B= 44.*10.**3.;# in ohm\n",
      "R_E= 1.*10.**3.;# in ohm\n",
      "V_CC= 15.;# in V\n",
      "V_GE= -15.;# in V\n",
      "# Applying KVL to collector circuit, V_CC-V_GE - I_Csat*R_C-V_CE-I_E*R_E=0, but I_Csat= Beta*I_Bmin and I_E= 1+Beta\n",
      "# Minimum value of base current,\n",
      "I_Bmin= (V_CC-V_GE-V_CE)/(R_C*Beta+(1.+Beta)*R_E);# in A\n",
      "# Applying KVL to the base emitter circuit, V_BB-I_Bmin*R_B-V_BE-I_E*R_E + V_CC=0\n",
      "# The value of V_BB,\n",
      "V_BB= I_Bmin*R_B + V_BE + (1.+Beta)*I_Bmin*R_E-V_CC;# in V\n",
      "I_Bmin= I_Bmin*10.**3.;#in mA\n",
      "print '%s %.3f' %(\"The value of I_B(min) in mA is : \",I_Bmin)\n",
      "print '%s %.1f' %(\"The value of V_BB in volts is : \",V_BB)\n"
     ],
     "language": "python",
     "metadata": {},
     "outputs": [
      {
       "output_type": "stream",
       "stream": "stdout",
       "text": [
        "The value of I_B(min) in mA is :  0.197\n",
        "The value of V_BB in volts is :  14.4\n"
       ]
      }
     ],
     "prompt_number": 25
    },
    {
     "cell_type": "heading",
     "level": 2,
     "metadata": {},
     "source": [
      "Example E27 - Pg 331"
     ]
    },
    {
     "cell_type": "code",
     "collapsed": false,
     "input": [
      "# Exa 6.27 - 331\n",
      "# Given data\n",
      "V_ECsat= 0.2;# in V\n",
      "V_CC= 10.;# in V\n",
      "V_EBsat= 0.8;# in V\n",
      "\n",
      "# Part (i)\n",
      "Beta= 100.;\n",
      "R_B= 220.;# in kohm\n",
      "# Applying KVL to collector circuit, V_CC= V_EC+ICRC\n",
      "ICRC= V_CC-V_ECsat;# in V\n",
      "# Applying KVL to input loop, V_CC= V_EBsat+I_B*R_B        (i)\n",
      "I_B= (V_CC-V_EBsat)/R_B;# in mA\n",
      "I_C= Beta*I_B;# in mA\n",
      "R_Cmin= ICRC/I_C;# in kohm\n",
      "print '%s %.3f' %(\"The minimum value of R_C in kohm is :\",R_Cmin)\n",
      "# Part (ii)\n",
      "R_C= 1.2;# in kohm\n",
      "I_Csat= ICRC/R_C;# in mA\n",
      "I_B= I_Csat/Beta;# in mA\n",
      "# From eq (i)\n",
      "R_B= (V_CC-V_EBsat)/I_B;# in kohm\n",
      "print '%s %.2f' %(\"The maximum value of R_B in kohm is : \",R_B)\n",
      "\n"
     ],
     "language": "python",
     "metadata": {},
     "outputs": [
      {
       "output_type": "stream",
       "stream": "stdout",
       "text": [
        "The minimum value of R_C in kohm is : 2.343\n",
        "The maximum value of R_B in kohm is :  112.65\n"
       ]
      }
     ],
     "prompt_number": 26
    },
    {
     "cell_type": "heading",
     "level": 2,
     "metadata": {},
     "source": [
      "Example E28 - Pg 333"
     ]
    },
    {
     "cell_type": "code",
     "collapsed": false,
     "input": [
      "#Exa 6.28 - 333\n",
      "# Given data\n",
      "Beta= 100.;\n",
      "V_BEsat= 0.8;# in V\n",
      "V_CEsat= 0.2;# in V\n",
      "V_BEact= 0.7;# in V\n",
      "V_CC = 10.;# in V\n",
      "R_E = 1.;# in kohm\n",
      "R_C = 2.;# in kohm\n",
      "R_B= 100.;# in kohm\n",
      "Beta=100.;\n",
      "alpha= Beta/(1.+Beta);\n",
      "# Applying KVL to collector circuit\n",
      "# V_CC= I_Csat*R_C +V_CE +R_E*I_E\n",
      "# but I_E= alpha*I_Csat\n",
      "I_Csat= (V_CC-V_CEsat)/(R_C+R_E*alpha);# in mA\n",
      "I_Bmin= I_Csat/Beta;# in mA\n",
      "# Applying KVL to base loop\n",
      "# V_CC= I_B*R_B +V_BEsat +I_E*R_E\n",
      "# but I_E= I_Csat+I_B\n",
      "I_B= (V_CC-V_BEsat-I_Csat*R_E)/(R_B+R_E);# in mA\n",
      "I_B=I_B*10.**3.;# in uA\n",
      "print '%s %.2f' %(\"The value of I_B in uA is :\",I_B)\n",
      "I_B=I_B*10.**-3.;# in mA\n",
      "I_Bmin= I_Bmin*10.**3.;# in uA\n",
      "print '%s %.1f' %(\"The minimum value of I_B in uA is :\",I_Bmin)\n",
      "I_Bmin= I_Bmin*10.**-3.;# in mA\n",
      "if I_B>I_Bmin :\n",
      "    print '%s' %(\"Since the value of I_B is greater than the value of I_Bmin, \")\n",
      "    print '%s' %(\"Hence the transistor is in saturation.\")\n",
      "# The emitter current,\n",
      "I_E= (1.+Beta)*I_Bmin;# in mA\n",
      "# The value of R_E\n",
      "R_E= (V_CC-V_BEact-I_Bmin*R_B)/I_E;# in kohm\n",
      "print '%s %.3f' %(\"The value of R_E in kohm is : \",R_E)\n",
      "print '%s' %(\"So R_E should be greater than this value in order to bring the transistor just out of saturation \")\n",
      "\n"
     ],
     "language": "python",
     "metadata": {},
     "outputs": [
      {
       "output_type": "stream",
       "stream": "stdout",
       "text": [
        "The value of I_B in uA is : 58.64\n",
        "The minimum value of I_B in uA is : 32.8\n",
        "Since the value of I_B is greater than the value of I_Bmin, \n",
        "Hence the transistor is in saturation.\n",
        "The value of R_E in kohm is :  1.819\n",
        "So R_E should be greater than this value in order to bring the transistor just out of saturation \n"
       ]
      }
     ],
     "prompt_number": 27
    },
    {
     "cell_type": "heading",
     "level": 2,
     "metadata": {},
     "source": [
      "Example E29 - Pg 334"
     ]
    },
    {
     "cell_type": "code",
     "collapsed": false,
     "input": [
      "# Exa 6.29 - 334\n",
      "# Given data\n",
      "V_CC = 9.;# in V\n",
      "V_BE = 0.8;# in V\n",
      "V_CE = 0.2;# in V\n",
      "R_B = 50.;# in kohm\n",
      "R_C=2.;# in kohm\n",
      "R_E = 1.;# in kohm\n",
      "Beta=70.;\n",
      "# Applying KVL to input loop, V_CC= I_B*R_B +V_BE +I_E*R_E\n",
      "# V_CC- V_BE= (R_B+R_E)*I_B + R_E*I_C          (i)\n",
      "# Applying KVL to output loop, V_CC= R_C*I_C +V_CE +I_C*R_E +I_B*R_E\n",
      "#I_B = ((V_CC- V_CE)-(R_C+R_E)*I_C)/R_E         (ii)\n",
      "# From eq (i) and (ii)\n",
      "I_C= ( (V_CC- V_BE)-(R_B+R_E)* (V_CC- V_CE)/R_E)/(1-(R_B+R_E)*(R_C+R_E));# in mA\n",
      "I_B = ((V_CC- V_CE)-(R_C+R_E)*I_C)/R_E# in mA\n",
      "I_Bmin= I_C/Beta;# in mA\n",
      "if I_B>I_Bmin :\n",
      "    print '%s' %(\"I_B(min)=0.0414mA and I_B=0.106mA.\\nSince the value of I_B ((I_B)mA) is greater than the value of I_Bmin ((I_Bmin)mA)\")\n",
      "    print '%s' %(\"So the transistor is in saturation \")\n",
      "V_C= V_CC-I_C*R_C;# in V\n",
      "print '%s %.2f' %(\"The value of collector voltage in volts is : \",V_C)\n",
      "Beta= I_C/I_B;\n",
      "print '%s %.2f' %(\"The minimum value of beta that will change the state of the trasistor is : \",Beta)\n"
     ],
     "language": "python",
     "metadata": {},
     "outputs": [
      {
       "output_type": "stream",
       "stream": "stdout",
       "text": [
        "I_B(min)=0.0414mA and I_B=0.106mA.\n",
        "Since the value of I_B ((I_B)mA) is greater than the value of I_Bmin ((I_Bmin)mA)\n",
        "So the transistor is in saturation \n",
        "The value of collector voltage in volts is :  3.20\n",
        "The minimum value of beta that will change the state of the trasistor is :  27.89\n"
       ]
      }
     ],
     "prompt_number": 28
    }
   ],
   "metadata": {}
  }
 ]
}