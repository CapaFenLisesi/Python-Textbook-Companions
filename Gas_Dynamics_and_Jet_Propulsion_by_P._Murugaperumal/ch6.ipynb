{
 "metadata": {
  "name": "",
  "signature": "sha256:6ef501d87a4e150fa73f9d6a23345ef6ffddaecf1a006d99b9d65903d53edab9"
 },
 "nbformat": 3,
 "nbformat_minor": 0,
 "worksheets": [
  {
   "cells": [
    {
     "cell_type": "heading",
     "level": 1,
     "metadata": {},
     "source": [
      "Chapter 6 : Aircraft Propulsion"
     ]
    },
    {
     "cell_type": "heading",
     "level": 2,
     "metadata": {},
     "source": [
      "Example 6.1 page : 23"
     ]
    },
    {
     "cell_type": "code",
     "collapsed": false,
     "input": [
      "import math \n",
      "\n",
      "\t\t\t\t\n",
      "#Input data\n",
      "eff_com = 0.8 \t\t\t\t#Compressor efficiency\n",
      "eff_t = 0.85 \t\t\t\t#Turbine efficiency\n",
      "pr = 4. \t\t\t\t#Pressure ratio including combustion pressure loss(Po2s/Po1)\n",
      "eff_c = 0.98 \t\t\t\t#Combustion efficiency\n",
      "eff_m = 0.99 \t\t\t\t#Mechanical transmission efficiency \n",
      "eff_n = 0.9 \t\t\t\t#Nozzle efficiency \n",
      "Tmax = 1000. \t\t\t\t#Maximum cycle temperature in K\n",
      "To3 = Tmax \t\t\t\t#Stagnation temperature before turbine inlet in K\n",
      "w = 220. \t\t\t\t#mass flow rate in N/s\n",
      "Cp_air = 1005. \t\t\t\t#Specific heat capacity at consmath.tant pressure in J/kg-K\n",
      "k = 1.4 \t\t\t\t#Adiabatic consmath.tant for air\n",
      "Cp_gas = 1153. \t\t\t\t#Specific heat capacity at consmath.tant pressure in J/kg-K\n",
      "k_gas = 1.3 \t\t\t\t#Adiabatic consmath.tant\n",
      "To1 = 15.+273 \t\t\t\t#Inlet Stagnation temperature of compressor in K\n",
      "Po1 = 1. \t\t\t\t#Inlet Stagnation pressure in bar\n",
      "Poe = Po1 \t\t\t\t#Exit stagnation pressure in bar, Since exit at ambient conditions\n",
      "g = 9.81 \t\t\t\t#Acceleration due to gravity in m/s**2\n",
      "\n",
      "\t\t\t\t\n",
      "#Calculation  \n",
      "To2s = To1*(pr)**((k-1)/k) \t\t\t\t#Exit Stagnation temperature of compressor at isentropic process in K\n",
      "To2 = ((To2s-To1)/eff_com)+To1 \t\t\t\t#Exit Stagnation temperature of compressor in K\n",
      "Wc = (Cp_air*(To2-To1)) \t\t\t\t#Work given to compressor in J/kg, Cp in J/kg-K\n",
      "To4 = To3-(Wc/Cp_gas*eff_m) \t\t\t\t#Exit Stagnation temperature of turbine in K\n",
      "To4s = To3-((To3-To4)/eff_t) \t\t\t\t#Exit Stagnation temperature of turbine at isentropic process in K\n",
      "Po2 = Po1*pr \t\t\t\t#Exit Stagnation pressure of compressor in bar\n",
      "Po3 = Po2 \t\t\t\t#Exit Stagnation pressure of combustion chamber in bar, Since the process takes place at consmath.tant pressure process \n",
      "p1 = (To3/To4s)**(k_gas/(k_gas-1)) \t\t\t\t#Stagnation Pressure ratio of inlet and outlet of turbine  \n",
      "Po4s = Po3/p1 \t\t\t\t#Stagnation Pressure at outlet of turbine at isentropic process in bar  \n",
      "pr_n = Po4s/Poe \t\t\t\t#Pressure ratio of nozzle\n",
      "Toes = To4/((pr_n)**((k_gas-1)/k_gas)) \t\t\t\t#Exit Stagnation temperature of nozzle at isentropic process in K\n",
      "Toe = To4-((To4-Toes)*eff_n) \t\t\t\t#Exit Stagnation temperature of nozzle in K\n",
      "Cj = math.sqrt(2*Cp_gas*(To4-Toe)) \t\t\t\t#Jet velocity in m/s\n",
      "m = w/g \t\t\t\t#Mass flow rate of air in kg/s\n",
      "F = m*Cj*10**-3 \t\t\t\t#Thrust in kN\n",
      "Fs = (F*10**3)/m  \t\t\t\t#Specific thrust in Ns/kg, F in N\n",
      "Is = F/w \t\t\t\t#Specific impulse in sec\n",
      "\n",
      "\t\t\t\t\n",
      "#Output\n",
      "print 'A)Thrust is %3.3f kN \\\n",
      "\\nB)Specific thrust is %3.2f Ns/kg'%(F,Fs)\n"
     ],
     "language": "python",
     "metadata": {},
     "outputs": [
      {
       "output_type": "stream",
       "stream": "stdout",
       "text": [
        "A)Thrust is 10.180 kN \n",
        "B)Specific thrust is 453.94 Ns/kg\n"
       ]
      }
     ],
     "prompt_number": 1
    },
    {
     "cell_type": "heading",
     "level": 2,
     "metadata": {},
     "source": [
      "Example 6.2 page : 26"
     ]
    },
    {
     "cell_type": "code",
     "collapsed": false,
     "input": [
      "import math \n",
      "\n",
      "\t\t\t\t\n",
      "#Input data\n",
      "u = 800.*(5./18) \t\t\t\t#Flight velocity in m/s\n",
      "Pe = 60. \t\t\t\t\t#Ambient pressure in kPa\n",
      "Pn = 300. \t\t\t\t\t#Pressure entering nozzle in kPa \n",
      "Tn = 200.+273 \t\t\t\t#Temperature entering nozzle in K \n",
      "m = 20. \t\t\t\t\t#Mass flow rate of air in kg/s\n",
      "Cp = 1005. \t\t\t\t\t#Specific heat capacity at consmath.tant pressure in J/kg-K\n",
      "k = 1.4 \t\t\t\t\t#Adiabatic consmath.tant for air\n",
      "\n",
      "\t\t\t\t\n",
      "#Calculation\n",
      "Te = Tn*(Pe/Pn)**((k-1)/k) \t\t\t\t#Exit temperature of nozzle in K\n",
      "Cj = math.sqrt(2*Cp*(Tn-Te)) \t\t\t\t#Jet velocity in m/s\n",
      "F = m*(Cj-u) \t\t\t\t#Thrust in N\n",
      "P = F*u*10**-3 \t\t\t\t#Thrust power in kW\n",
      "eff = ((2*u)/(Cj+u))*100 \t\t\t\t#Propulsive efficiency in percent\n",
      "\n",
      "\n",
      "\t\t\t\t\n",
      "#Output\n",
      "print 'A)Thrust developed is %3.1f N \\\n",
      "\\nB)Thrust developed is %3.2f kW \\\n",
      "\\nC)Propulsive efficiency is %3.3f percent'%(F,P,eff)\n"
     ],
     "language": "python",
     "metadata": {},
     "outputs": [
      {
       "output_type": "stream",
       "stream": "stdout",
       "text": [
        "A)Thrust developed is 7395.4 N \n",
        "B)Thrust developed is 1643.42 kW \n",
        "C)Propulsive efficiency is 54.586 percent\n"
       ]
      }
     ],
     "prompt_number": 2
    },
    {
     "cell_type": "heading",
     "level": 2,
     "metadata": {},
     "source": [
      "Example 6.3 page : 26"
     ]
    },
    {
     "cell_type": "code",
     "collapsed": false,
     "input": [
      "import math \n",
      "\n",
      "\t\t\t\t\n",
      "#Input data\n",
      "Mi = 0.8 \t\t\t\t#Inlet mach number \n",
      "h = 10000. \t\t\t\t#Altitude in m\n",
      "pr_c = 8. \t\t\t\t#Pressure ratio of compressor\n",
      "To3 = 1200. \t\t\t\t#Stagnation temperature at turbine inlet in K\n",
      "eff_c = 0.87 \t\t\t\t#Compressor efficiency\n",
      "eff_t = 0.9 \t\t\t\t#Turbine efficiency\n",
      "eff_d = 0.93 \t\t\t\t#Diffuser efficiency \n",
      "eff_n = 0.95  \t\t\t\t#Nozzle efficiency \n",
      "eff_m = 0.99 \t\t\t\t#Mechanical transmission efficiency\n",
      "eff_cc = 0.98 \t\t\t\t#Combustion efficiency\n",
      "pl = 0.04 \t\t\t\t#Ratio of combustion pressure loss to compressor delivery pressure \n",
      "k = 1.4 \t\t\t\t#Adiabatic consmath.tant of air\n",
      "R = 287. \t\t\t\t#Specific gas consmath.tant in J/kg-K\n",
      "k_g = 1.33 \t\t\t\t#Adiabatic consmath.tant of gas \n",
      "Cp_a = 1005. \t\t\t\t#Specific heat capacity at consmath.tant pressure of air in J/kg-K\n",
      "Cp_g = 1100. \t\t\t\t#Specific heat capacity at consmath.tant pressure of gas in J/kg-K\n",
      "CV = 43000000. \t\t\t\t#Calorific value in J/kg (AssumE)\n",
      "\n",
      "\t\t\t\t\n",
      "#Calculation\n",
      "Ti = 223.15 \t\t\t\t#Inlet temperature in K from gas tables\n",
      "Pi = 26.4 \t\t\t\t#Inlet pressure in kPa from gas tables \n",
      "ai = math.sqrt(k*R*Ti) \t\t\t\t#Sound velocity in m/s\n",
      "Ci = ai*Mi \t\t\t\t#Velocity of air in m/s,\n",
      "u = Ci \t\t\t\t#Flight velocity in m/s, Since it is reaction force of Ci\n",
      "t1 = 0.886 \t\t\t\t#Ratio of static to stagnation temperature a entry from gas tables at M = 0.8 \n",
      "To1s = Ti/t1 \t\t\t\t#Stagnation temperature at inlet of compressor at isentropic process in K\n",
      "To1 = ((To1s-Ti)/eff_d)+Ti \t\t\t\t#Stagnation temperature at inlet of compressor in K\n",
      "p1 = (To1s/Ti)**(k/(k-1)) \t\t\t\t#Pressure ratio i.e. (Po1s/Pi)\n",
      "Po1s = Pi*p1 \t\t\t\t#inlet Stagnation pressure of compressor at isentropic process in kPa\n",
      "Po1 = Po1s \t\t\t\t#Inlet Stagnation pressure of compressor in kPa\n",
      "Po2 = pr_c*Po1 \t\t\t\t#Exit Stagnation pressure of compressor in kPa\n",
      "To2s = To1s*(Po2/Po1)**((k-1)/k) \t\t\t\t#Exit Stagnation temperature of compressor at isentropic process in K\n",
      "To2 = ((To2s-To1)/eff_c)+To1 \t\t\t\t#Exit Stagnation temperature of compressor in K\n",
      "P_los = pl*Po2 \t\t\t\t#combustion pressure loss in kPa\n",
      "Po3 = Po2-P_los \t\t\t\t#Exit Stagnation pressure of combustion chamber in kPa\n",
      "To4 = To3-((Cp_a*(To2-To1))/(eff_m*Cp_g)) \t\t\t\t#Exit Stagnation temperature of turbine in K\n",
      "To4s = To3-((To3-To4)/eff_t) \t\t\t\t#Exit Stagnation temperature of turbine at isentropic process in K\n",
      "p1 = (To3/To4s)**(k_g/(k_g-1)) \t\t\t\t#Pressure ratio i.e. (Po3/Po4s)\n",
      "Po4s = Po3/p1 \t\t\t\t#Stagnation Pressure at outlet of turbine at isentropic process in kPa\n",
      "Poe = Pi \t\t\t\t#Exit stagnation pressure in kPa, Since exit is at ambient conditions\n",
      "pr_n = Po4s/Poe \t\t\t\t#Pressure ratio of nozzle\n",
      "Toes = To4/((pr_n)**((k_g-1)/k_g)) \t\t\t\t#Exit Stagnation temperature of nozzle at isentropic process in K\n",
      "Toe = To4-((To4-Toes)*eff_n) \t\t\t\t#Exit Stagnation temperature of nozzle in K\n",
      "Cj = math.sqrt(2*Cp_g*(To4-Toe)) \t\t\t\t#Jet velocity in m/s\n",
      "Fs = Cj-u \t\t\t\t#Specific thrust in Ns/kg\n",
      "f = ((Cp_g*To3)-(Cp_a*To2))/((eff_cc*CV)-(Cp_g*To3)) \t\t\t\t#Fuel-air ratio\n",
      "TSFC = (f/Fs)#*10**5 \t\t\t\t#Thrust specific fuel consumption in kg/s-N x10**-5\n",
      "\n",
      "\t\t\t\t\n",
      "#Output\n",
      "print 'A)Specific thrust is %3.2f Ns/kg \\\n",
      "\\nB)Thrust specific fuel consumption is %.3e kg/s-N'%(Fs,TSFC)\n"
     ],
     "language": "python",
     "metadata": {},
     "outputs": [
      {
       "output_type": "stream",
       "stream": "stdout",
       "text": [
        "A)Specific thrust is 575.62 Ns/kg \n",
        "B)Thrust specific fuel consumption is 3.537e-05 kg/s-N\n"
       ]
      }
     ],
     "prompt_number": 4
    },
    {
     "cell_type": "heading",
     "level": 2,
     "metadata": {},
     "source": [
      "Example 6.4 page : 29"
     ]
    },
    {
     "cell_type": "code",
     "collapsed": false,
     "input": [
      "import math \n",
      "\n",
      "\t\t\t\t\n",
      "#Input data\n",
      "u = 300. \t\t\t\t#Flight velocity in m/s\n",
      "Pi = 35. \t\t\t\t#Inlet pressure in kPa\n",
      "Ti = -40.+273 \t\t\t\t#Inlet temperature in K\n",
      "pr_c = 10. \t\t\t\t#Pressure ratio of compressor\n",
      "T3 = 1100.+273 \t\t\t\t#Inlet turbine temperature in K\n",
      "m = 50. \t\t\t\t#Mass flow rate of air in kg/s\n",
      "k = 1.4 \t\t\t\t#Adiabatic consmath.tant of air\n",
      "Cp = 1005. \t\t\t\t#Specific heat capacity at consmath.tant pressure of air in J/kg-K\n",
      "R = 287. \t\t\t\t#Specific gas consmath.tant in J/kg-K\n",
      "\n",
      "\t\t\t\t\n",
      "#Calculation\n",
      "ai = math.sqrt(k*R*Ti) \t\t\t\t#Sound velocity at diffuser in m/s\n",
      "C1 = u \t\t\t\t#Velocity of air in m/s, Since it is reaction force of u\n",
      "T1 = Ti+(C1**2/(2*Cp)) \t\t\t\t#Temperature at inlet of compressor in K\n",
      "P1 = Pi*((T1/Ti)**(k/(k-1))) \t\t\t\t#Inlet pressure of compressor in kPa\n",
      "P2 = pr_c*P1 \t\t\t\t#Exit pressure of compressor in kPa\n",
      "P3 = P2 \t\t\t\t#Exit pressure of combustion chamber in kPa, Since the process takes place at consmath.tant pressure process \n",
      "T2 = T1*(P2/P1)**((k-1)/k) \t\t\t\t#Exit temperature of compressor in K\n",
      "T4 = T3-(T2-T1) \t\t\t\t#Exit temperature of turbine in K\n",
      "P4 = P3/((T3/T4)**(k/(k-1))) \t\t\t\t#Pressure at outlet of turbine in kPa\n",
      "Pe = Pi \t\t\t\t#Exit pressure in kPa, Since exit is at ambient conditions\n",
      "pr_n = P4/Pe \t\t\t\t#Pressure ratio of nozzle\n",
      "Te = T4/((pr_n)**((k-1)/k)) \t\t\t\t#Exit temperature of nozzle in K\n",
      "Cj = math.sqrt(2*Cp*(T4-Te)) \t\t\t\t#Jet velocity in m/s\n",
      "sig = u/Cj \t\t\t\t#Jet speed ratio \n",
      "eff_prop = ((2*sig)/(1+sig))*100 \t\t\t\t#Propulsive efficiency of the cycle in %\n",
      "\n",
      "\t\t\t\t\n",
      "#Output\n",
      "print 'A)Temperature and pressure of gases at turbine exit is %3.2f K and %3i kPa \\\n",
      "\\nB)Velocity of gases is %3.2f m/s \\\n",
      "\\nC)Propulsive efficiency of the cycle is %3.2f percent'%(T4,P4,Cj,eff_prop)\n"
     ],
     "language": "python",
     "metadata": {},
     "outputs": [
      {
       "output_type": "stream",
       "stream": "stdout",
       "text": [
        "A)Temperature and pressure of gases at turbine exit is 1114.47 K and 311 kPa \n",
        "B)Velocity of gases is 1020.35 m/s \n",
        "C)Propulsive efficiency of the cycle is 45.44 percent\n"
       ]
      }
     ],
     "prompt_number": 5
    },
    {
     "cell_type": "heading",
     "level": 2,
     "metadata": {},
     "source": [
      "Example 6.5 page : 30"
     ]
    },
    {
     "cell_type": "code",
     "collapsed": false,
     "input": [
      "import math \n",
      "\n",
      "\t\t\t\t\n",
      "#Input data\n",
      "n = 2 \t\t\t\t#Number of jets\n",
      "D = 0.25 \t\t\t\t#Diameter of turbojet in m\n",
      "P = 3000 \t\t\t\t#Net power at turbojet in W\n",
      "mf_kWh = 0.42 \t\t\t\t#Fuel consumption in kg/kWh \n",
      "CV = 49000 \t\t\t\t#Calorific value in kJ/kg\n",
      "u = 300 \t\t\t\t#Flight velocity in m/s\n",
      "d = 0.168 \t\t\t\t#Density in kg/m**3\n",
      "AFR = 53 \t\t\t\t#Air fuel ratio \n",
      "\n",
      "\t\t\t\t#Calculatioon\n",
      "mf = mf_kWh*P/3600 \t\t\t\t#Mass flow rate of fuel in kg/s\n",
      "ma = AFR*mf \t\t\t\t#Mass flow rate of air in kg/s\n",
      "m = ma+mf \t\t\t\t#Mass flow rate of gas in kg/s\n",
      "Q = m/d \t\t\t\t#Volume flow rate in m**3/s\n",
      "Cj = (Q*4)/(2*math.pi*D**2) \t\t\t\t#Jet velocity in m/s\n",
      "Ca = Cj-u \t\t\t\t#Absolute Jet velocity in m/s\n",
      "F = ((m*Cj)-(ma*u))*10**-3 \t\t\t\t#Thrust in kN\n",
      "eff = ((F*u)/(mf*CV))*100 \t\t\t\t#Overall efficiency in %\n",
      "eff_prop = ((2*u)/(Cj+u))*100 \t\t\t\t#Propulsive efficiency of the cycle in %\n",
      "eff_ther = (eff/eff_prop)*100 \t\t\t\t#Efficiency of turbine in %\n",
      "\n",
      "\t\t\t\t\n",
      "#Output\n",
      "print 'A)Absolute velocity of jet is %3.3f m/s \\\n",
      "\\nB)Resistance of the plane is %3.4f kN \\\n",
      "\\nC)Overall efficiency is %3.2f percent \\\n",
      "\\nD)Efficiency of turbine is %3.3f percent'%(Ca,F,eff,eff_ther)\n"
     ],
     "language": "python",
     "metadata": {},
     "outputs": [
      {
       "output_type": "stream",
       "stream": "stdout",
       "text": [
        "A)Absolute velocity of jet is 845.916 m/s \n",
        "B)Resistance of the plane is 16.0928 kN \n",
        "C)Overall efficiency is 28.15 percent \n",
        "D)Efficiency of turbine is 67.839 percent\n"
       ]
      }
     ],
     "prompt_number": 6
    },
    {
     "cell_type": "heading",
     "level": 2,
     "metadata": {},
     "source": [
      "Example 6.6 page : 31"
     ]
    },
    {
     "cell_type": "code",
     "collapsed": false,
     "input": [
      "import math \n",
      "\n",
      "\t\t\t\t\n",
      "#Input data\n",
      "u = 900*(5./18) \t\t\t\t#Flight velocity in m/s\n",
      "ma = 3000./60 \t\t\t\t#Mass flow rate of air in kg/s\n",
      "dh = 200. \t\t\t\t#Enthalpy drop of nozzle in kJ/kg\n",
      "eff_n = 0.9 \t\t\t\t#Nozzle efficiency \n",
      "AFR = 85 \t\t\t\t#Air fuel ratio \n",
      "eff_cc = 0.95 \t\t\t\t#Combustion efficiency\n",
      "CV = 42000 \t\t\t\t#Calorific value in kJ/kg\n",
      "\n",
      "\t\t\t\t\n",
      "#Calculation\n",
      "mf = ma/AFR \t\t\t\t#Mass flow rate of fuel in kg/s\n",
      "m = ma+mf \t\t\t\t#Mass flow rate of gas in kg/s\n",
      "Cj = math.sqrt(2*eff_n*dh*10**3) \t\t\t\t#Jet velocity in m/s\n",
      "sig = u/Cj \t\t\t\t#Jet speed ratio \n",
      "F = ((m*Cj)-(ma*u))*10**-3 \t\t\t\t#Thrust in kN\n",
      "Pt = F*u \t\t\t\t#Thrust power in kW\n",
      "Pp = 0.5*((m*Cj**2)-(ma*u**2))*10**-3 \t\t\t\t#Propulsive power in kW\n",
      "HS = eff_cc*mf*CV \t\t\t\t#Heat supplied in kW\n",
      "eff_ther = (Pp/HS)*100 \t\t\t\t#Efficiency of turbine in %\n",
      "eff_prop = (Pt/Pp)*100 \t\t\t\t#Propulsive efficiency of the cycle in %\n",
      "eff = (Pt/HS)*100 \t\t\t\t#Overall efficiency in %\n",
      "\n",
      "\t\t\t\t\n",
      "#Output\n",
      "print 'A)Propulsive power is %3.2f kW \\\n",
      "\\nB)Thrust power is %3.1f kW \\\n",
      "\\nC)Propulsive efficiency is %3.3f percent \\\n",
      "\\nD)Thermal efficiency is %3.2f percent \\\n",
      "\\nE)Total fuel consumption is %3.3f kg/s F)Overall efficiency is %3.3f percent'%(Pp,Pt,eff_prop,eff_ther,mf,eff)\n"
     ],
     "language": "python",
     "metadata": {},
     "outputs": [
      {
       "output_type": "stream",
       "stream": "stdout",
       "text": [
        "A)Propulsive power is 7543.38 kW \n",
        "B)Thrust power is 4463.2 kW \n",
        "C)Propulsive efficiency is 59.168 percent \n",
        "D)Thermal efficiency is 32.14 percent \n",
        "E)Total fuel consumption is 0.588 kg/s F)Overall efficiency is 19.016 percent\n"
       ]
      }
     ],
     "prompt_number": 7
    },
    {
     "cell_type": "heading",
     "level": 2,
     "metadata": {},
     "source": [
      "Example 6.7 page : 32"
     ]
    },
    {
     "cell_type": "code",
     "collapsed": false,
     "input": [
      "import math \n",
      "\n",
      "\t\t\t\t\n",
      "#Input data\n",
      "M = 0.8 \t\t\t\t#Mach number \n",
      "CV = 42800. \t\t\t\t#Calorific value in kJ/kg\n",
      "h = 10. \t\t\t\t#Altitude in km\n",
      "F = 50. \t\t\t\t#Thrust in kN\n",
      "ma = 45. \t\t\t\t#Mass flow rate of air in kg/s\n",
      "mf = 2.65 \t\t\t\t#Mass flow rate of fuel in kg/s\n",
      "\n",
      "\t\t\t\t\n",
      "#Calculation\n",
      "m = ma+mf \t\t\t\t#Mass flow rate of gas in kg/s\n",
      "a = 299.6 \t\t\t\t#Sound velocity in m/s, from gas tables\n",
      "T = 233.15 \t\t\t\t#Inlet temperature in K \n",
      "u = a*M \t\t\t\t#Flight velocity in m/s\n",
      "Cj = ((F*10**3)+(ma*u))/m \t\t\t\t#Jet velocity in m/s\n",
      "sig = u/Cj \t\t\t\t#Jet speed ratio \n",
      "Fs = F*10**3/m \t\t\t\t#Specific thrust in Ns/kg, F in N\n",
      "TSFC = mf*3600/(F*10**3) \t\t\t\t#Thrust specific fuel consumption in kg/N-hr, F in N\n",
      "Pt = F*u \t\t\t\t#Thrust power in kW\n",
      "Pp = 0.5*((m*Cj**2)-(ma*u**2))*10**-3 \t\t\t\t#Propulsive power in kW\n",
      "HS = mf*CV \t\t\t\t#Heat supplied in kW\n",
      "eff_ther = (Pp/HS)*100 \t\t\t\t#Efficiency of turbine in %\n",
      "eff_prop = (Pt/Pp)*100 \t\t\t\t#Propulsive efficiency of the cycle in %\n",
      "eff = (Pt/HS)*100 \t\t\t\t#Overall efficiency in %\n",
      "\n",
      "\t\t\t\t\n",
      "#Output \n",
      "print 'A)Specific thrust is %3.2f N/kg \\\n",
      "\\nB)Thrust specific fuel consumption is %3.4f kg/N-hr \\\n",
      "\\nC)Jet velocity is %3.3f m/s \\\n",
      "\\nD)Thermal efficiency is %3.2f percent \\\n",
      "\\nE)Propulsive efficiency is %3.3f percent F)Overall efficiency is %3.2f percent'%(Fs,TSFC,Cj,eff_ther,eff_prop,eff)\n"
     ],
     "language": "python",
     "metadata": {},
     "outputs": [
      {
       "output_type": "stream",
       "stream": "stdout",
       "text": [
        "A)Specific thrust is 1049.32 N/kg \n",
        "B)Thrust specific fuel consumption is 0.1908 kg/N-hr \n",
        "C)Jet velocity is 1275.668 m/s \n",
        "D)Thermal efficiency is 33.04 percent \n",
        "E)Propulsive efficiency is 31.976 percent F)Overall efficiency is 10.57 percent\n"
       ]
      }
     ],
     "prompt_number": 8
    },
    {
     "cell_type": "heading",
     "level": 2,
     "metadata": {},
     "source": [
      "Example 6.8 page : 34"
     ]
    },
    {
     "cell_type": "code",
     "collapsed": false,
     "input": [
      "import math \n",
      "\n",
      "\t\t\t\t\n",
      "#Input data\n",
      "Mi = 0.8 \t\t\t\t#Inlet mach number \n",
      "h = 10. \t\t\t\t#Altitude in km\n",
      "To3 = 1200. \t\t\t\t#Stagnation temperature before turbine inlet in K\n",
      "dTc = 175. \t\t\t\t#Stagnation temperature rise through the compressor in K\n",
      "CV = 43000. \t\t\t\t#Calorific value in kJ/kg\n",
      "eff_c = 0.75 \t\t\t\t#Compressor efficiency\n",
      "eff_cc = 0.75 \t\t\t\t#Combustion efficiency\n",
      "eff_t = 0.81 \t\t\t\t#Turbine efficiency\n",
      "eff_m = 0.98 \t\t\t\t#Mechanical transmission efficiency\n",
      "eff_n = 0.97 \t\t\t\t#Nozzle efficiency \n",
      "Is = 25. \t\t\t\t#Specific impulse in sec\n",
      "k = 1.4 \t\t\t\t#Adiabatic consmath.tant of air\n",
      "R = 287. \t\t\t\t#Specific gas consmath.tant in J/kg-K\n",
      "Cp = 1005. \t\t\t\t#Specific heat capacity at consmath.tant pressure of air in J/kg-K\n",
      "g = 9.81 \t\t\t\t#Acceleration due to gravity in m/s**2\n",
      "\n",
      "\t\t\t\t\n",
      "#Calculation\n",
      "Ti = 223.15 \t\t\t\t#Inlet temperature in K from gas tables\n",
      "ai = math.sqrt(k*R*Ti) \t\t\t\t#Sound velocity in m/s\n",
      "Toi = (1+((0.5*(k-1)*Mi**2)))*Ti \t\t\t\t#Stagnation temperature at diffuser inlet in K\n",
      "To1 = Toi \t\t\t\t#Inlet Stagnation temperature of compressor in K, math.since hoi = ho1 \n",
      "To2 = dTc+To1 \t\t\t\t#Exit Stagnation temperature of compressor in K\n",
      "pr_c = (1+(eff_c*((To2-To1)/To1)))**(k/(k-1)) \t\t\t\t#Compressor pressure ratio \n",
      "f = ((Cp*To3)-(Cp*To2))/((eff_cc*CV*10**3)-(Cp*To3)) \t\t\t\t#Fuel-air ratio, calculation mistake in textbook\n",
      "dTt = dTc/(eff_m*(1+f)) \t\t\t\t#Temperature difference across turbine\n",
      "pr_t = 1/((1-(dTt/(To3*eff_t)))**(k/(k-1))) \t\t\t\t#Turbine pressure ratio\n",
      "To4 = To3-dTc \t\t\t\t#Exit Stagnation temperature of turbine in K\n",
      "u = ai*Mi \t\t\t\t#Flight velocity in m/s\n",
      "sig = 1/(((Is*g)/u)+1) \t\t\t\t#Jet speed ratio \n",
      "Ce = u/sig \t\t\t\t#Exit velocity in m/s\n",
      "Cj = Ce \t\t\t\t#Jet velocity in m/s, Since Cj is due to exit velociy\n",
      "Te = To4-(Ce**2/(2*Cp)) \t\t\t\t#Exit temperature in K\n",
      "Tes = To4-((To4-Te)*eff_n) \t\t\t\t#Exit temperature in K, (At isentropic process)\n",
      "pr_n = (To4/Te)**(k/(k-1)) \t\t\t\t#Nozzle pressure ratio\n",
      "ae = math.sqrt(k*R*Te) \t\t\t\t#Exit Sound velocity in m/s\n",
      "Me = Ce/ae \t\t\t\t#Exit mach number \n",
      "\n",
      "print 'A)Fuel-air ratio is %3.5f  \\\n",
      "\\nB)Compressor, turbine, nozzle pressure ratio are %3.3f, %3.3f, %3.2f respectively \\\n",
      "\\nC)Mach number at exhaust jet is %3.3f'%(f,pr_c,pr_t,pr_n,Me)\n"
     ],
     "language": "python",
     "metadata": {},
     "outputs": [
      {
       "output_type": "stream",
       "stream": "stdout",
       "text": [
        "A)Fuel-air ratio is 0.02503  \n",
        "B)Compressor, turbine, nozzle pressure ratio are 4.344, 1.996, 1.53 respectively \n",
        "C)Mach number at exhaust jet is 0.803\n"
       ]
      }
     ],
     "prompt_number": 9
    },
    {
     "cell_type": "heading",
     "level": 2,
     "metadata": {},
     "source": [
      "Example 6.9 page : 36"
     ]
    },
    {
     "cell_type": "code",
     "collapsed": false,
     "input": [
      "import math \n",
      "\n",
      "\t\t\t\t\n",
      "#Input data\n",
      "D = 2.5 \t\t\t\t#Diameter in m\n",
      "u = 500.*(5./18) \t\t\t\t#Flight velocity in m/s\n",
      "h = 8000. \t\t\t\t#Altitude in m\n",
      "sig = 0.75 \t\t\t\t#Jet speed ratio \n",
      "g = 9.81 \t\t\t\t#Acceleration due to gravity in m/s**2\n",
      "\n",
      "\t\t\t\t\n",
      "#Calculation\n",
      "d = 0.525 \t\t\t\t#from gas tables\n",
      "A = math.pi*D**2*0.25 \t\t\t\t#Area of flow in m**2 \n",
      "Cj = u/sig \t\t\t\t#Jet velocity in m/s\n",
      "Vf = (u+Cj)/2 \t\t\t\t#Velocity of flow in m/s\n",
      "ma = d*A*Vf \t\t\t\t#Mass flow rate of air in kg/s\n",
      "F = ma*(Cj-u)*10**-3 \t\t\t\t#Thrust in kN\n",
      "P = F*u \t\t\t\t#Thrust power in kW\n",
      "Fs = F*10**3/ma \t\t\t\t#Specific thrust in Ns/kg\n",
      "Is = Fs/g \t\t\t\t#Specific impulse in sec\n",
      "\n",
      "\t\t\t\t\n",
      "#Output\n",
      "print 'A)Flow rate of air through the propeller is %3.3f m/s \\\n",
      "\\nB)Thrust produced is %3.3f kN \\\n",
      "\\nC)Specific thrust is %3.2f N-s/kg \\\n",
      "\\nD)Specific impulse is %3.3f sec \\\n",
      "\\nE)Thrust power is %3.1f kW'%(ma,F,Fs,Is,P)\n"
     ],
     "language": "python",
     "metadata": {},
     "outputs": [
      {
       "output_type": "stream",
       "stream": "stdout",
       "text": [
        "A)Flow rate of air through the propeller is 417.584 m/s \n",
        "B)Thrust produced is 19.333 kN \n",
        "C)Specific thrust is 46.30 N-s/kg \n",
        "D)Specific impulse is 4.719 sec \n",
        "E)Thrust power is 2685.1 kW\n"
       ]
      }
     ],
     "prompt_number": 10
    },
    {
     "cell_type": "heading",
     "level": 2,
     "metadata": {},
     "source": [
      "Example 6.10 page : 37"
     ]
    },
    {
     "cell_type": "code",
     "collapsed": false,
     "input": [
      "import math \n",
      "\n",
      "\t\t\t\t\n",
      "#Input data\n",
      "h = 3000. \t\t\t\t#Altitude in m\n",
      "Pi = 0.701 \t\t\t\t#Inlet pressure in bar\n",
      "Ti = 268.65 \t\t\t\t#Inlet temperature in K\n",
      "u = 525*(5./18) \t\t\t\t#Flight velocity in m/s\n",
      "eff_d = 0.875 \t\t\t\t#Diffuser efficiency\n",
      "eff_c = 0.79 \t\t\t\t#Compressor efficiency\n",
      "C1 = 90. \t\t\t\t#Velocity of air at compressor in m/s\n",
      "dTc = 230. \t\t\t\t#Temperature rise through compressor\n",
      "k = 1.4 \t\t\t\t#Adiabatic consmath.tant of air\n",
      "Cp = 1005. \t\t\t\t#Specific heat capacity at consmath.tant pressure of air in J/kg-K\n",
      "R = 287. \t\t\t\t#Specific gas consmath.tant in J/kg-K\n",
      "\n",
      "\t\t\t\t\n",
      "#Calculation\n",
      "ai = math.sqrt(k*R*Ti) \t\t\t\t#Sound velocity in m/s\n",
      "Mi = u/ai \t\t\t\t#Inlet mach number \n",
      "Toi = (1+((0.5*(k-1)*Mi**2)))*Ti \t\t\t\t#Stagnation temperature at diffuser inlet in K\n",
      "To1 = Toi \t\t\t\t#Inlet Stagnation temperature of compressor in K, math.since hoi = ho1 \n",
      "T1 = To1-(C1**2/(2*Cp)) \t\t\t\t#Temperature at inlet of compressor in K\n",
      "P1 = Pi*((1+(eff_d*((T1/Ti)-1)))**(k/(k-1))) \t\t\t\t#Inlet pressure of compressor in bar\n",
      "dPc = P1-Pi \t\t\t\t#Pressure rise through inlet diffuser in bar\n",
      "pr_c = (((eff_c*dTc)/To1)+1)**(k/(k-1)) \t\t\t\t#Pressure ratio of compressor\n",
      "P = Cp*(dTc) \t\t\t\t#Power required by the compressor in kW/(kg/s)\n",
      "eff = 1-(1/pr_c**((k-1)/k)) \t\t\t\t#Air standard efficiency\n",
      "\n",
      "\t\t\t\t\n",
      "#Output\n",
      "print 'A)Pressure rise through diffuser is %3.4f bar \\\n",
      "\\nB)Pressure developed by compressure is %3.4f bar \\\n",
      "\\nC)Air standard efficiency of the engine is %3.4f'%(dPc,P1,eff)\n"
     ],
     "language": "python",
     "metadata": {},
     "outputs": [
      {
       "output_type": "stream",
       "stream": "stdout",
       "text": [
        "A)Pressure rise through diffuser is 0.0538 bar \n",
        "B)Pressure developed by compressure is 0.7548 bar \n",
        "C)Air standard efficiency of the engine is 0.3942\n"
       ]
      }
     ],
     "prompt_number": 11
    },
    {
     "cell_type": "heading",
     "level": 2,
     "metadata": {},
     "source": [
      "Example 6.11 page : 38"
     ]
    },
    {
     "cell_type": "code",
     "collapsed": false,
     "input": [
      "import math \n",
      "\n",
      "\t\t\t\t\n",
      "#Input data\n",
      "h = 9500. \t\t\t\t#Altitude in m\n",
      "u = 800*(5./18) \t\t\t\t#Flight velocity in m/s\n",
      "eff_prop = 0.55 \t\t\t\t#Propulsive efficiency of the cycle\n",
      "eff_o = 0.17 \t\t\t\t#Overall efficiency\n",
      "F = 6100. \t\t\t\t#Thrust in N\n",
      "d = 0.17 \t\t\t\t#Density in kg/m**3\n",
      "CV = 46000. \t\t\t\t#Calorific value in kJ/kg\n",
      "\n",
      "\t\t\t\t\n",
      "#Calculation\n",
      "mf = (F*u)/(eff_o*CV*10**3) \t\t\t\t#Mass flow rate of fuel in kg/s\n",
      "Cj = ((2*u)/(eff_prop))-u \t\t\t\t#Jet velocity in m/s, wrong calculation in textbook\n",
      "Ca = Cj-u \t\t\t\t#Absolute Jet velocity in m/s\n",
      "ma = (F-(mf*Cj))/(Ca) \t\t\t\t#Mass flow rate of air in kg/s\n",
      "m = ma+mf \t\t\t\t#Mass flow rate of gas in kg/s\n",
      "f = ma/mf \t\t\t\t#Air fuel ratio\n",
      "Q = m/d \t\t\t\t#Volume flow rate in m**3/s\n",
      "Dj = math.sqrt((4*Q)/(math.pi*Cj))*10**3 \t\t\t\t#Diameter of jet in mm, Cj value wrong in textbook \n",
      "P = ((F*u)/eff_prop)*10**-3 \t\t\t\t#Power output of engine in kW\n",
      "\n",
      "\t\t\t\t\n",
      "#Output\n",
      "print 'A)Diamter of the jet is %3.1f mm \\\n",
      "\\nB)Power output is %3.1f kW \\\n",
      "\\nC)Air-fuel ratio is %3.3f \\\n",
      "\\nD)Absolute velocity of the jet is %3i m/s'%(Dj,P,f,Ca)\n"
     ],
     "language": "python",
     "metadata": {},
     "outputs": [
      {
       "output_type": "stream",
       "stream": "stdout",
       "text": [
        "A)Diamter of the jet is 461.6 mm \n",
        "B)Power output is 2464.6 kW \n",
        "C)Air-fuel ratio is 95.161 \n",
        "D)Absolute velocity of the jet is 363 m/s\n"
       ]
      }
     ],
     "prompt_number": 12
    },
    {
     "cell_type": "heading",
     "level": 2,
     "metadata": {},
     "source": [
      "Example 6.12 page : 39"
     ]
    },
    {
     "cell_type": "code",
     "collapsed": false,
     "input": [
      "import math \n",
      "\n",
      "\t\t\t\t\n",
      "#Input data\n",
      "u = 960*(5./18) \t\t\t\t#Flight velocity in m/s\n",
      "ma = 40. \t\t\t\t#Mass flow rate of air in kg/s\n",
      "AFR = 50. \t\t\t\t#Air fuel ratio\n",
      "sig = 0.5 \t\t\t\t#Jet speed ratio, for maximum thrust power\n",
      "CV = 43000. \t\t\t\t#Calorific value in kJ/kg\n",
      "\n",
      "\t\t\t\t\n",
      "#Calculation\n",
      "mf = ma/AFR \t\t\t\t#Mass flow rate of fuel in kg/s\n",
      "m = ma+mf \t\t\t\t#Mass flow rate of gas in kg/s\n",
      "Cj = u/sig \t\t\t\t#Jet velocity in m/s\n",
      "F = ((m*Cj)-(ma*u))*10**-3 \t\t\t\t#Thrust in kN\n",
      "Fs = F*10**3/m \t\t\t\t#Specific thrust in Ns/kg, F in N\n",
      "Pt = F*u \t\t\t\t#Thrust power in kW\n",
      "eff_prop = ((2*sig)/(1+sig))*100 \t\t\t\t#Propulsive efficiency of the cycle in %\n",
      "eff_ther = ((0.5*m*(Cj**2-u**2))/(mf*CV*10**3))*100 \t\t\t\t#Efficiency of turbine in %\n",
      "eff = (eff_prop/100)*(eff_ther/100)*100 \t\t\t\t#Overall efficiency in %\n",
      "TSFC = mf*3600/(F*10**3) \t\t\t\t#Thrust specific fuel consumption in kg/Nhr\n",
      "\n",
      "\t\t\t\t\n",
      "#Output\n",
      "print 'A)Jet velocity is %3.1f m/s \\\n",
      "\\nB)Thrust is %3.3f kN \\\n",
      "\\nC)Specific thrust is %3.2f N-s/kg \\\n",
      "\\nD)Thrust power is %3.2f kW \\\n",
      "\\nE)propulsive, thermal and overall efficiency is %3.2f, %3.2f and %3.3f respectively \\\n",
      "\\nF)Thrust specific fuel consumption is %3.4f kg/Nhr'%(Cj,F,Fs,Pt,eff_prop,eff_ther,eff,TSFC)\n"
     ],
     "language": "python",
     "metadata": {},
     "outputs": [
      {
       "output_type": "stream",
       "stream": "stdout",
       "text": [
        "A)Jet velocity is 533.3 m/s \n",
        "B)Thrust is 11.093 kN \n",
        "C)Specific thrust is 271.90 N-s/kg \n",
        "D)Thrust power is 2958.22 kW \n",
        "E)propulsive, thermal and overall efficiency is 66.67, 12.65 and 8.434 respectively \n",
        "F)Thrust specific fuel consumption is 0.2596 kg/Nhr\n"
       ]
      }
     ],
     "prompt_number": 13
    },
    {
     "cell_type": "heading",
     "level": 2,
     "metadata": {},
     "source": [
      "Example 6.13 page : 40"
     ]
    },
    {
     "cell_type": "code",
     "collapsed": false,
     "input": [
      "import math \n",
      "\n",
      "\t\t\t\t\n",
      "#Input data\n",
      "u = 960*(5./18) \t\t\t\t#Flight velocity in m/s\n",
      "ma = 54.5 \t\t\t\t#Mass flow rate of air in kg/s\n",
      "dh = 200. \t\t\t\t#Change of enthalpy for nozzle in kJ/kg\n",
      "Cv = 0.97 \t\t\t\t#Velocity coefficient \n",
      "AFR = 75. \t\t\t\t#Air fuel ratio \n",
      "eff_cc = 0.93 \t\t\t\t#Combustion efficiency\n",
      "CV = 45000. \t\t\t\t#Calorific value in kJ/kg\n",
      "\n",
      "\t\t\t\t\n",
      "#Calculation\n",
      "mf = ma/AFR \t\t\t\t#Mass flow rate of fuel in kg/s\n",
      "Cj = Cv*math.sqrt(2*dh*10**3) \t\t\t\t#Jet velocity in m/s\n",
      "F = ma*(Cj-u) \t\t\t\t#Thrust in kN\n",
      "TSFC = mf*3600/(F) \t\t\t\t#Thrust specific fuel consumption in kg/Nhr\n",
      "HS = mf*eff_cc*CV \t\t\t\t#Heat supplied in kJ/s\n",
      "Pp = 0.5*ma*(Cj**2-u**2)*10**-3 \t\t\t\t#Propulsive power in kW\n",
      "Pt = F*u \t\t\t\t#Thrust power in kW\n",
      "eff_p = Pt/(Pp*10**3) \t\t\t\t#Propulsive efficiency of the cycle\n",
      "eff_t = Pp/HS \t\t\t\t#Efficiency of turbine\n",
      "eff_o = Pt*10**-3/HS  \t\t\t\t#Overall efficiency\n",
      "\n",
      "\t\t\t\t\n",
      "#Output\n",
      "print 'A)Exit velocity of the jet is %3.2f m/s \\\n",
      "\\nB)Fuel rate is %3.4f kg/s \\\n",
      "\\nC)Thrust specific fuel consumption is %3.5f kg/Nhr \\\n",
      "\\nD)Thermal efficiency is %3.3f \\\n",
      "\\nE)Propulsive power is %3.2f kW \\\n",
      "\\nF)Propulsive efficiency is %3.4f \\\n",
      "\\nG)Overall efficiency is %3.5f'%(Cj,mf,TSFC,eff_t,Pp,eff_p,eff_o)\n"
     ],
     "language": "python",
     "metadata": {},
     "outputs": [
      {
       "output_type": "stream",
       "stream": "stdout",
       "text": [
        "A)Exit velocity of the jet is 613.48 m/s \n",
        "B)Fuel rate is 0.7267 kg/s \n",
        "C)Thrust specific fuel consumption is 0.13840 kg/Nhr \n",
        "D)Thermal efficiency is 0.274 \n",
        "E)Propulsive power is 8318.03 kW \n",
        "F)Propulsive efficiency is 0.6060 \n",
        "G)Overall efficiency is 0.16574\n"
       ]
      }
     ],
     "prompt_number": 15
    },
    {
     "cell_type": "heading",
     "level": 2,
     "metadata": {},
     "source": [
      "Example 6.14 page : 41"
     ]
    },
    {
     "cell_type": "code",
     "collapsed": false,
     "input": [
      "import math \n",
      "\n",
      "\t\t\t\t\n",
      "#Input data\n",
      "u = 750*(5./18) \t\t\t\t#Flight velocity in m/s\n",
      "h = 10000. \t\t\t\t#Altitude in m\n",
      "eff_p = 0.5 \t\t\t\t#Propulsive efficiency of the cycle\n",
      "eff_o = 0.16 \t\t\t\t#Overall efficiency\n",
      "d = 0.173 \t\t\t\t#Density in kg/m**3\n",
      "F = 6250. \t\t\t\t#Thrust in N\n",
      "CV = 45000. \t\t\t\t#Calorific value in kJ/kg\n",
      "\n",
      "\t\t\t\t\n",
      "#Calculation\n",
      "sig = eff_p/(2-eff_p) \t\t\t\t#Jet speed ratio\n",
      "Cj = u/sig \t\t\t\t#Jet velocity in m/s\n",
      "Ca = Cj-u \t\t\t\t#Absolute Jet velocity in m/s\n",
      "ma = F/Ca \t\t\t\t#Mass flow rate of air in kg/s\n",
      "Q = ma*60/d \t\t\t\t#Volume flow rate in m**3/min\n",
      "A = Q/(Cj*60) \t\t\t\t#Area of flow in m**2\n",
      "D = math.sqrt((4*A)/(math.pi))*10**3 \t\t\t\t#Diameter in mm\n",
      "Pt = F*u \t\t\t\t#Thrust power in W\n",
      "Pp = (Pt/eff_p)*10**-3  \t\t\t\t#Propulsive power in kW\n",
      "eff_t = eff_o/eff_p \t\t\t\t#Efficiency of turbine\n",
      "HS = Pp/eff_t \t\t\t\t#Heat supplied in kJ/s\n",
      "mf = HS/CV \t\t\t\t#Mass flow rate of fuel in kg/s\n",
      "AFR = ma/mf \t\t\t\t#Air fuel ratio \n",
      "\n",
      "\t\t\t\t\n",
      "#Output\n",
      "print 'A)Absolute velocity of the jet is %3.2f m/s \\\n",
      "\\nB)Volume of air compressed per minute is %3.2f m**3/min \\\n",
      "\\nC)Diameter of the jet is %3i mm \\\n",
      "\\nD)Power unit of the unit is %3.3f kW \\\n",
      "\\nE)Air fuel ratio is %3.1f'%(Ca,Q,D,Pp,AFR)\n"
     ],
     "language": "python",
     "metadata": {},
     "outputs": [
      {
       "output_type": "stream",
       "stream": "stdout",
       "text": [
        "A)Absolute velocity of the jet is 416.67 m/s \n",
        "B)Volume of air compressed per minute is 5202.31 m**3/min \n",
        "C)Diameter of the jet is 420 mm \n",
        "D)Power unit of the unit is 2604.167 kW \n",
        "E)Air fuel ratio is 82.9\n"
       ]
      }
     ],
     "prompt_number": 16
    },
    {
     "cell_type": "heading",
     "level": 2,
     "metadata": {},
     "source": [
      "Example 6.15 page : 42"
     ]
    },
    {
     "cell_type": "code",
     "collapsed": false,
     "input": [
      "import math \n",
      "\n",
      "\t\t\t\t\n",
      "#Input data\n",
      "P1 = 0.56 \t\t\t\t#Inlet pressure of compressor in bar\n",
      "T1 = 260 \t\t\t\t#Temperature at inlet of compressor in K\n",
      "pr_c = 6 \t\t\t\t#Pressure ratio of compressor\n",
      "eff_c = 0.85 \t\t\t\t#Compressor efficiency\n",
      "u = 360*(5./18) \t\t\t\t#Flight velocity in m/s\n",
      "D = 3 \t\t\t\t#Propeller diameter in m \n",
      "eff_p = 0.8 \t\t\t\t#Efficiency of propeller \n",
      "eff_g = 0.95 \t\t\t\t#Gear reduction efficiency \n",
      "pr_t = 5 \t\t\t\t#Expansion ratio\n",
      "eff_t = 0.88 \t\t\t\t#Turbine efficiency\n",
      "T3 = 1100 \t\t\t\t#temperature at turbine inlet in K\n",
      "eff_n = 0.9 \t\t\t\t#Nozzle efficiency \n",
      "Cp = 1005. \t\t\t\t#Specific heat capacity at consmath.tant pressure of air in J/kg-K\n",
      "CV = 40000 \t\t\t\t#Calorific value in kJ/kg\n",
      "k = 1.4 \t\t\t\t#Adiabatic consmath.tant of air\n",
      "R = 287 \t\t\t\t#Specific gas consmath.tant in J/kg-K\n",
      "\n",
      "\t\t\t\t\n",
      "#Calculation\n",
      "P2 = pr_c*P1 \t\t\t\t#Exit pressure of compressor in bar\n",
      "T2s = T1*(pr_c)**((k-1)/k) \t\t\t\t#Exit temperature of compressor at isentropic proces in K\n",
      "T2 = T1+((T2s-T1)/eff_c) \t\t\t\t#Exit temperature of compressor in K\n",
      "Wc = Cp*(T2-T1)*10**-3 \t\t\t\t#Power input to compressor in kJ/kg of air\n",
      "C1 = u \t\t\t\t#Air velocity in m/s, math.since C1 is resulmath.tant of u\n",
      "C = C1/eff_p \t\t\t\t#Average velocity in m/s\n",
      "C2 = (2*C)-C1 \t\t\t\t#Exit velocity from compressor in m/s\n",
      "Ap = 0.25*math.pi*D**2 \t\t\t\t#Area of propeller passage in m**2\n",
      "Q = Ap*C \t\t\t\t#Quantity of air inducted in m**3/s\n",
      "mf = ((T3-T2)*Cp)/((CV*10**3)-(Cp*T3)) \t\t\t\t#Mass flow rate of fuel in kg/s\n",
      "f = mf \t\t\t\t#Fuel consumption in kg/kg of air\n",
      "AFR = 1/mf \t\t\t\t#Air fuel ratio\n",
      "P3 = P2 \t\t\t\t#Exit pressure of combustion chamber in bar, Since process is at consmath.tant pressure \n",
      "P4 = P3/pr_t \t\t\t\t#Exit pressure of turbine in bar\n",
      "T4s = T3/((pr_t)**((k-1)/k)) \t\t\t\t#Exit temperature of turbine at isentropic proces in K, wrong calculation\n",
      "T4 = T3-(eff_t*(T3-T4s)) \t\t\t\t#Exit temperature of turbine in K\n",
      "Po = (1+f)*Cp*(T3-T4)*10**-3 \t\t\t\t#Power output per kg of air in kJ/kg of air\n",
      "Pa = Po-Wc \t\t\t\t#Power available for propeller in kJ/kg of air\n",
      "Pe = P1 \t\t\t\t#Exit pressure in bar, Since exit is at ambient conditions\n",
      "Tes = T4/((P4/Pe)**((k-1)/k)) \t\t\t\t#Exit temperature of nozzle at isentropic proces in K\n",
      "Cj = math.sqrt(2*Cp*eff_n*(T4-Tes)) \t\t\t\t#Jet velocity in m/s\n",
      "Fs = ((1+f)*Cj)-u \t\t\t\t#Specific thrust in Ns/kg, F in N\n",
      "Pp = ((0.5*P1*10**5*Q*(C2**2-C1**2))/(R*T1))*10**-3 \t\t\t\t#Propulsive power by propeller in kJ/s\n",
      "Ps = Pp/eff_g \t\t\t\t#Power supplied by the turbine in kW\n",
      "ma = Ps/Pa \t\t\t\t#Air flow rate in kg/s\n",
      "Fj = ma*Cj*10**-3 \t\t\t\t#Jet thrust in kN, calculation mistake\n",
      "Fp = (Pp*eff_p)/u \t\t\t\t#Thrust produced by propeller in kN\n",
      "\n",
      "\t\t\t\t\n",
      "#Output\n",
      "print 'A)Air fuel ratio is %3.2f \\\n",
      "\\nB)Thrust produced by the nozzle is %3.3f kN \\\n",
      "\\nC)Thrust by the propeller is %3.3f kN \\\n",
      "\\nD)mass flow rate through the compressor is %3.2f kg/s'%(AFR,Fj,Fp,ma)\n"
     ],
     "language": "python",
     "metadata": {},
     "outputs": [
      {
       "output_type": "stream",
       "stream": "stdout",
       "text": [
        "A)Air fuel ratio is 60.90 \n",
        "B)Thrust produced by the nozzle is 7.168 kN \n",
        "C)Thrust by the propeller is 33.155 kN \n",
        "D)mass flow rate through the compressor is 27.44 kg/s\n"
       ]
      }
     ],
     "prompt_number": 17
    },
    {
     "cell_type": "heading",
     "level": 2,
     "metadata": {},
     "source": [
      "Example 6.16 page : 45"
     ]
    },
    {
     "cell_type": "code",
     "collapsed": false,
     "input": [
      "import math \n",
      "\n",
      "\t\t\t\t\n",
      "#Input data\n",
      "M1 = 1.5 \t\t\t\t#Mach number  \n",
      "h = 6500. \t\t\t\t#Altitude in m\n",
      "D = 0.5 \t\t\t\t#Diameter in m \n",
      "To4 = 1600. \t\t\t\t#Stagnation temperature at nozzle inlet in K\n",
      "CV = 40000. \t\t\t\t#Calorific value in kJ/kg\n",
      "k = 1.4 \t\t\t\t#Adiabatic consmath.tant of air\n",
      "R = 287. \t\t\t\t#Specific gas consmath.tant in J/kg-K\n",
      "eff_d = 0.9 \t\t\t\t#Diffuser efficiency \n",
      "eff_cc = 0.98 \t\t\t\t#Combustion efficiency\n",
      "eff_n = 0.96 \t\t\t\t#Nozzle efficiency \n",
      "pr_l = 0.02 \t\t\t\t#Pressure ratio i.e. Stagnation pressure loss to Exit presure of compressor\n",
      "Cp = 1005. \t\t\t\t#Specific heat capacity at consmath.tant pressure of air in J/kg-K\n",
      "\n",
      "\t\t\t\t\n",
      "#Calculation\n",
      "P1 = 0.44 \t\t\t\t#Inlet pressure of compressor in bar\n",
      "T1 = 245.9  \t\t\t\t#Temperature at inlet of compressor in K\n",
      "a1 = 314.5 \t\t\t\t#Sound velocity at compressor in m/s \n",
      "d1 = 0.624 \t\t\t\t#Density at compressor in kg/m**3 \n",
      "A1 = 0.25*math.pi*D**2 \t\t\t\t#Area at diffuser inlet in m**2\n",
      "u1 = M1*a1 \t\t\t\t#Flight velocity in m/s\n",
      "ma = d1*A1*u1 \t\t\t\t#Mass flow rate of air in kg/s\n",
      "To2 = T1*(1+(((k-1)/2)*M1**2)) \t\t\t\t#Stagnation temperature at commpressor inlet in K\n",
      "To1 = To2 \t\t\t\t#Stagnation temperature at commpressor outlet in K, (It is in case of diffuser)\n",
      "pr_d = ((eff_d*(((k-1)/2)*M1**2))+1)**(k/(k-1)) \t\t\t\t#Pressure ratio of diffuser \n",
      "P2 = pr_d*P1 \t\t\t\t#Exit pressure of compressor in bar\n",
      "Po2 = P2 \t\t\t\t#Stagnation pressure at exit of compressor in bar \n",
      "Po3 = (Po2-(pr_l*Po2)) \t\t\t\t#Stagnation pressure at exit of combustion chamber in bar \n",
      "Poe = P1 \t\t\t\t#Exit stagnation pressure in kPa, Since exit is at ambient conditions\n",
      "pr_n = Po3/Poe \t\t\t\t#Pressure ratio of nozzle\n",
      "p1 = 1/pr_n \t\t\t\t#Inverse of pr_n to find in gas tables \n",
      "M4s = 1.41 \t\t\t\t#Mach number at turbine exit  from gas tables \n",
      "T4s = To4/(1+((0.5*(k-1)*M4s**2))) \t\t\t\t#Exit temperature of turbine at isentropic process in K\n",
      "To3 = To4 \t\t\t\t#Stagnation temperature at inlet turbine in K,\n",
      "T4 = To3-(eff_n*(To3-T4s)) \t\t\t\t#Exit temperature of turbine in K\n",
      "C4 = math.sqrt(2*Cp*(To4-T4)) \t\t\t\t#Flight velocity of air in m/s\n",
      "a4 = math.sqrt(k*R*T4) \t\t\t\t#Sound velocity in m/s\n",
      "Me = C4/a4 \t\t\t\t#Nozzle jet mach number\n",
      "f = (Cp*(To3-To2))/(eff_cc*CV*10**3) \t\t\t\t#Fuel air ratio\n",
      "mf = ma*f \t\t\t\t#Mass flow rate of fuel in kg/s\n",
      "m = ma+mf \t\t\t\t#Mass flow rate of gas in kg/s\n",
      "eff_i = (1/(1+((2/(k-1))*(1/M1**2))))*100 \t\t\t\t#Efficiency of the ideal cycle in %\n",
      "sig = u1/C4 \t\t\t\t#Jet speed ratio \n",
      "eff_p = ((2*sig)/(1+sig)) \t\t\t\t#Propulsive efficiency in %\n",
      "F = ((m*C4)-(ma*u1))*10**-3 \t\t\t\t#Thrust in kN\n",
      "\n",
      "\t\t\t\t\n",
      "#Output\n",
      "print 'A)Efficiency of the ideal cycle is %3i percent \\\n",
      "\\nB)Flight speed is %3.3f m/s \\\n",
      "\\nC)Air flow rate is %3.3f kg/s \\\n",
      "\\nD)Diffuser pressure ratio is %3.4f \\\n",
      "\\nE)Fuel air ratio is %3.5f \\\n",
      "\\nF)Nozzle pressure ratio is %3.2f \\\n",
      "\\nG)Nozzle jet mach number is %3.3f \\\n",
      "\\nH)Propulsive efficiency is %3.4f percent \\\n",
      "\\nI)Thrust is %3.3f kN'%(eff_i,C4,ma,pr_d,f,pr_n,Me,eff_p,F)\n"
     ],
     "language": "python",
     "metadata": {},
     "outputs": [
      {
       "output_type": "stream",
       "stream": "stdout",
       "text": [
        "A)Efficiency of the ideal cycle is  31 percent \n",
        "B)Flight speed is 937.202 m/s \n",
        "C)Air flow rate is 57.800 kg/s \n",
        "D)Diffuser pressure ratio is 3.2875 \n",
        "E)Fuel air ratio is 0.03188 \n",
        "F)Nozzle pressure ratio is 3.22 \n",
        "G)Nozzle jet mach number is 1.371 \n",
        "H)Propulsive efficiency is 0.6696 percent \n",
        "I)Thrust is 28.630 kN\n"
       ]
      }
     ],
     "prompt_number": 19
    },
    {
     "cell_type": "heading",
     "level": 2,
     "metadata": {},
     "source": [
      "Example 6.17 page : 47"
     ]
    },
    {
     "cell_type": "code",
     "collapsed": false,
     "input": [
      "import math \n",
      "\n",
      "\t\t\t\t\n",
      "#Input data\n",
      "ma = 18. \t\t\t\t#Mass flow rate of air in kg/s\n",
      "Mi = 0.6 \t\t\t\t#Inlet mach number \n",
      "h = 4600. \t\t\t\t#Altitude in m\n",
      "Pi = 55. \t\t\t\t#Inlet pressure in \n",
      "Ti = -20.+273 \t\t\t\t#Inlet temperature in K\n",
      "eff_d = 0.9 \t\t\t\t#Diffuser efficiency \n",
      "pr_d = 5. \t\t\t\t#Diffuser pressure ratio \n",
      "T3 = 1000.+273 \t\t\t\t#Inlet turbine temperature in K\n",
      "Pe = 60. \t\t\t\t#Exit pressure in kPa\n",
      "eff_c = 0.81 \t\t\t\t#Compressor efficiency\n",
      "eff_t = 0.85 \t\t\t\t#Turbine efficiency\n",
      "eff_n = 0.915 \t\t\t\t#Nozzle efficiency\n",
      "CV = 46520. \t\t\t\t#Calorific value in kJ/kg\n",
      "Cp = 1005. \t\t\t\t#Specific heat capacity at consmath.tant pressure of air in J/kg-K\n",
      "k = 1.4 \t\t\t\t#Adiabatic consmath.tant \n",
      "R = 287. \t\t\t\t#Specific gas consmath.tant in J/kg-K\n",
      "\n",
      "\t\t\t\t\n",
      "#Calculation\n",
      "Ci = Mi*math.sqrt(k*R*Ti) \t\t\t\t#Velocity of air in m/s,\n",
      "u = Ci \t\t\t\t#Flight velocity in m/s, Since it is reaction force of Ci\n",
      "T1 = Ti+(Ci**2/(2*Cp)) \t\t\t\t#Temperature at inlet of compressor in K\n",
      "P1s = Pi*(T1/Ti)**(k/(k-1)) \t\t\t\t#Inlet pressure of compressor at isentropic process in kPa\n",
      "P1 = Pi+(eff_d*(P1s-Pi)) \t\t\t\t#Inlet pressure of compressor in kPa\n",
      "P2 = P1*pr_d \t\t\t\t#Outlet pressure of compressor in kPa\n",
      "T2s = T1*(pr_d)**((k-1)/k) \t\t\t\t#Outlet temperature of compressor at isentropic process in K\n",
      "T2 = T1+((T2s-T1)/eff_c) \t\t\t\t#Exit temperature of compressor in K\n",
      "Wc = Cp*(T2-T1)*10**-3 \t\t\t\t#Workdone on compressor in kJ/kg of air\n",
      "Pc = ma*Wc \t\t\t\t#Power input in kW\n",
      "Pt = Pc \t\t\t\t#Power out put of turbine for isentropic process in kW \n",
      "f = (T3-T2)/((CV*10**3/Cp)-T3) \t\t\t\t#Fuel air ratio\n",
      "Wt = Wc \t\t\t\t#Workdone by the turbine in kJ/kg of air\n",
      "T4 = T3-(Wt*10**3/Cp) \t\t\t\t#Exit temperature of turbine in K\n",
      "T4s = T3-((T3-T4)/eff_t) \t\t\t\t#Exit temperature of turbine at isentropic process in K\n",
      "P3 = P2 \t\t\t\t#Exit pressure of combustion chamber in kPa, Since the process takes place at consmath.tant pressure process\n",
      "P4 = P3*(T4s/T3)**(k/(k-1)) \t\t\t\t#Pressure at outlet of turbine in kPa\n",
      "pr_n = P4/Pe \t\t\t\t#Pressure ratio of nozzle\n",
      "Tes = T4/(pr_n)**((k-1)/k) \t\t\t\t#Exit temperature of nozzle  at isentropic process in K\n",
      "Te = T4-(eff_n*(T4-Tes)) \t\t\t\t#Exit temperature of nozzle in K\n",
      "Cj = math.sqrt(2*Cp*(T4-Te)) \t\t\t\t#Jet velocity in m/s\n",
      "Ce = Cj \t\t\t\t#Flight velocity in m/s\n",
      "ae = math.sqrt(k*R*Te) \t\t\t\t#Sound velocity at nozzle in m/s\n",
      "Me = Ce/ae \t\t\t\t#Nozzle jet mach number\n",
      "F = ma*(((1+f)*Cj)-u) \t\t\t\t#Thrust in N\n",
      "P = F*u*10**-3 \t\t\t\t#Thrust power in kW\n",
      "\n",
      "\t\t\t\t\n",
      "#Output\n",
      "print 'A)Power input of compressor is %3.2f kW \\\n",
      "\\nB)Power output of turbine is %3.2f kW \\\n",
      "\\nC)F/A ratio on mass basis is %3.4f \\\n",
      "\\nD)Exit mach number is %3.3f \\\n",
      "\\nE)Thrust is %3.2f N \\\n",
      "\\nF)Thrust power is %3.1f kW'%(Pc,Pt,f,Me,F,P)\n"
     ],
     "language": "python",
     "metadata": {},
     "outputs": [
      {
       "output_type": "stream",
       "stream": "stdout",
       "text": [
        "A)Power input of compressor is 3536.17 kW \n",
        "B)Power output of turbine is 3536.17 kW \n",
        "C)F/A ratio on mass basis is 0.0179 \n",
        "D)Exit mach number is 1.245 \n",
        "E)Thrust is 9668.83 N \n",
        "F)Thrust power is 1849.7 kW\n"
       ]
      }
     ],
     "prompt_number": 20
    }
   ],
   "metadata": {}
  }
 ]
}