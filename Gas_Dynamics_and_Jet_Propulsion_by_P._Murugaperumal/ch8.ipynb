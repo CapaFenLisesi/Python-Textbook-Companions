{
 "metadata": {
  "name": "",
  "signature": "sha256:0ee42d9d2a59bb1cfbe70f62b85f016177a8e60e52a35949d0f6ab86ccafc621"
 },
 "nbformat": 3,
 "nbformat_minor": 0,
 "worksheets": [
  {
   "cells": [
    {
     "cell_type": "heading",
     "level": 1,
     "metadata": {},
     "source": [
      "Chapter 8 : Two Marks Questions and Answers"
     ]
    },
    {
     "cell_type": "heading",
     "level": 2,
     "metadata": {},
     "source": [
      "Example 8.34 page : 8"
     ]
    },
    {
     "cell_type": "code",
     "collapsed": false,
     "input": [
      "import math \n",
      "\n",
      "\t\t\t\t\n",
      "#Input data\n",
      "C = 500. \t\t\t\t#Airplane velocity in m/s\n",
      "T = 20.+273 \t\t\t\t#Temperature in K\n",
      "k = 1.4 \t\t\t\t#Adiabatic consmath.tant \n",
      "R = 287 \t\t\t\t#Specific gas consmath.tant in J/kg-K\n",
      "\n",
      "\t\t\t\t\n",
      "#Calculation\n",
      "a = math.sqrt(k*R*T) \t\t\t\t#Sound velocity in m/s\n",
      "M = C/a \t\t\t\t#Mach number\n",
      "alp = math.degrees(math.asin((1/M))) \t\t\t\t#Mach angle in degree\n",
      "\n",
      "\t\t\t\t\n",
      "#Output\n",
      "print 'Mach angle is %3.3f degree'%(alp)\n"
     ],
     "language": "python",
     "metadata": {},
     "outputs": [
      {
       "output_type": "stream",
       "stream": "stdout",
       "text": [
        "Mach angle is 43.332 degree\n"
       ]
      }
     ],
     "prompt_number": 7
    },
    {
     "cell_type": "heading",
     "level": 2,
     "metadata": {},
     "source": [
      "Example 8.35 page : 8"
     ]
    },
    {
     "cell_type": "code",
     "collapsed": false,
     "input": [
      "import math \n",
      "\n",
      "\t\t\t\t\n",
      "#Input data\n",
      "a1 = 2.2 \t\t\t\t#Area ratio (A/At)\n",
      "Po = 10 \t\t\t\t#Stagnation Pressure in bar\n",
      "\n",
      "\t\t\t\t\n",
      "#Calculation\n",
      "\t\t\t\t#Two values of mach number at a1 from gas tables\n",
      "\n",
      "M1 = 0.275 \t\t\t\t#Mach number from gas tables\n",
      "p1 = 0.949 \t\t\t\t#Presure ratio (P/Po)\n",
      "P1 = Po*p1 \t\t\t\t#back pressure in bar\n",
      "\n",
      "M2 = 2.295 \t\t\t\t#Mach number from gas tables\n",
      "p2 = 0.0806 \t\t\t\t#Presure ratio (P/Po)\n",
      "P2 = Po*p2 \t\t\t\t#back pressure in bar\n",
      "\n",
      "\t\t\t\t\n",
      "#Output\n",
      "print 'A)When M = %3.3f, back pressure is %3.2f bar \\\n",
      "\\nB)When M = %3.3f, back pressure is %3.3f bar'%(M1,P1,M2,P2)\n"
     ],
     "language": "python",
     "metadata": {},
     "outputs": [
      {
       "output_type": "stream",
       "stream": "stdout",
       "text": [
        "A)When M = 0.275, back pressure is 9.49 bar \n",
        "B)When M = 2.295, back pressure is 0.806 bar\n"
       ]
      }
     ],
     "prompt_number": 8
    },
    {
     "cell_type": "heading",
     "level": 2,
     "metadata": {},
     "source": [
      "Example 8.37 page : 9"
     ]
    },
    {
     "cell_type": "code",
     "collapsed": false,
     "input": [
      "import math \n",
      "\n",
      "\t\t\t\t\n",
      "#Input data\n",
      "M = 0.8 \t\t\t\t#Mach number\n",
      "T = 20+273 \t\t\t\t#Temperature in K\n",
      "k = 1.4 \t\t\t\t#Adiabatic consmath.tant \n",
      "\n",
      "\t\t\t\t\n",
      "#Calculation \n",
      "To = T*(1+(((k-1)/2)*M**2)) \t\t\t\t#Temperature of air at nose of aircraft in K\n",
      "To1 = To-273 \t\t\t\t#Temperature of air at nose of aircraft in degree Centigrade\n",
      "\n",
      "\t\t\t\t\n",
      "#Output \n",
      "print 'Temperature of air at nose of aircraft is %3.1f degree Centigrade'%(To1)\n"
     ],
     "language": "python",
     "metadata": {},
     "outputs": [
      {
       "output_type": "stream",
       "stream": "stdout",
       "text": [
        "Temperature of air at nose of aircraft is 57.5 degree Centigrade\n"
       ]
      }
     ],
     "prompt_number": 9
    },
    {
     "cell_type": "heading",
     "level": 2,
     "metadata": {},
     "source": [
      "Example 8.38 page 9"
     ]
    },
    {
     "cell_type": "code",
     "collapsed": false,
     "input": [
      "import math \n",
      "\n",
      "\t\t\t\t\n",
      "#Input data\n",
      "P = 1. \t\t\t\t#Pressure in bar\n",
      "T = 400. \t\t\t\t#Temperature in K\n",
      "C = 400. \t\t\t\t#Air velocity in m/s\n",
      "k = 1.4 \t\t\t\t#Adiabatic consmath.tant \n",
      "R = 287. \t\t\t\t#Specific gas consmath.tant in J/kg-K\n",
      "Cp = 1005. \t\t\t\t#Specific heat capacity at constnat pressure in J/kg-K\n",
      "\n",
      "\t\t\t\t\n",
      "#Calculation\n",
      "To = T+(C**2/(2*Cp)) \t\t\t\t#Stagnation Temperature in K\n",
      "Poi = P+((P*C**2)/(R*T*2)) \t\t\t\t#Stagnation Pressure (if it is incompressible) in bar\n",
      "Poc = P*(To/T)**(k/(k-1)) \t\t\t\t#Stagnation Pressure (if it is compressible) in bar\n",
      "\n",
      "\t\t\t\t\n",
      "#Output\n",
      "print 'Stagnation Temperature is %3.1f K \\\n",
      "\\nC)Stagnation Pressure:    \\\n",
      "\\nIf it is incompressible is %3.4f bar    \\\n",
      "\\nIf it is compressible is %3.4f bar'%(To,Poi,Poc)\n"
     ],
     "language": "python",
     "metadata": {},
     "outputs": [
      {
       "output_type": "stream",
       "stream": "stdout",
       "text": [
        "Stagnation Temperature is 479.6 K \n",
        "C)Stagnation Pressure:    \n",
        "If it is incompressible is 1.6969 bar    \n",
        "If it is compressible is 1.8874 bar\n"
       ]
      }
     ],
     "prompt_number": 11
    },
    {
     "cell_type": "heading",
     "level": 2,
     "metadata": {},
     "source": [
      "Example 8.39 page : 9"
     ]
    },
    {
     "cell_type": "code",
     "collapsed": false,
     "input": [
      "import math \n",
      "\n",
      "\t\t\t\t\n",
      "#Input data\n",
      "v1 = 8 \t\t\t\t#Intial volume in litres\n",
      "P1 = 0.7 \t\t\t\t#Intial pressure in MPa\n",
      "v2 = 7.8 \t\t\t\t#Final volume in litres\n",
      "P2 = 2.7 \t\t\t\t#Final pressure in MPa\n",
      "\n",
      "\t\t\t\t\n",
      "#Calculation\n",
      "k = (P2-P1)/(math.log(v1/v2)) \t\t\t\t#Bulk modulus of elasticity of a liquid in MPa\n",
      "\n",
      "\t\t\t\t\n",
      "#Output\n",
      "print 'Bulk modulus of elasticity of a liquid is %3.3f MPa'%k\n"
     ],
     "language": "python",
     "metadata": {},
     "outputs": [
      {
       "output_type": "stream",
       "stream": "stdout",
       "text": [
        "Bulk modulus of elasticity of a liquid is 78.996 MPa\n"
       ]
      }
     ],
     "prompt_number": 12
    },
    {
     "cell_type": "heading",
     "level": 2,
     "metadata": {},
     "source": [
      "Example 8.40 page : 9"
     ]
    },
    {
     "cell_type": "code",
     "collapsed": false,
     "input": [
      "import math \n",
      "\n",
      "\t\t\t\t\n",
      "#Input data\n",
      "To = 15+273 \t\t\t\t#Air Temperature in K\n",
      "Cp = 1005 \t\t\t\t#Specific heat capacity at constnat pressure in J/kg-K\n",
      "\n",
      "\t\t\t\t\n",
      "#Calculation \n",
      "Cmax = math.sqrt(2*Cp*To) \t\t\t\t#Highest possible velocity in m/s\n",
      "\n",
      "\t\t\t\t\n",
      "#Output\n",
      "print 'Highest possible velocity is %3.2f m/s'%Cmax\n"
     ],
     "language": "python",
     "metadata": {},
     "outputs": [
      {
       "output_type": "stream",
       "stream": "stdout",
       "text": [
        "Highest possible velocity is 760.84 m/s\n"
       ]
      }
     ],
     "prompt_number": 13
    },
    {
     "cell_type": "heading",
     "level": 2,
     "metadata": {},
     "source": [
      "Example 8.3.10 page : 12"
     ]
    },
    {
     "cell_type": "code",
     "collapsed": false,
     "input": [
      "import math \n",
      "\n",
      "\t\t\t\t\n",
      "#Input data\n",
      "M = 0.25 \t\t\t\t#mach number\n",
      "D = 0.04 \t\t\t\t#Diamter in m\n",
      "f = 0.002 \t\t\t\t#frictional factor\n",
      "\n",
      "\t\t\t\t\n",
      "#Calculation\n",
      "X = 8.483 \t\t\t\t#fanno parameter from gas tables at M\n",
      "Lmax = (X*D)/(4*f) \t\t\t\t#Lenggth of the pipe in m\n",
      "\n",
      "\t\t\t\t\n",
      "#Output\n",
      "print 'Length of the pipe is %3.3f m'%Lmax\n"
     ],
     "language": "python",
     "metadata": {},
     "outputs": [
      {
       "output_type": "stream",
       "stream": "stdout",
       "text": [
        "Length of the pipe is 42.415 m\n"
       ]
      }
     ],
     "prompt_number": 7
    },
    {
     "cell_type": "heading",
     "level": 2,
     "metadata": {},
     "source": [
      "Example 8.3.15 page : 13"
     ]
    },
    {
     "cell_type": "code",
     "collapsed": false,
     "input": [
      "import math \n",
      "\n",
      "\t\t\t\t\n",
      "#Input data\n",
      "M = 3. \t\t\t\t#mach number\n",
      "D = 0.04 \t\t\t\t#Diamter in m\n",
      "f = 0.002 \t\t\t\t#frictional factor\n",
      "\n",
      "\t\t\t\t\n",
      "#Calculation\n",
      "X = 0.522 \t\t\t\t#fanno parameter from gas tables at M\n",
      "L = (X*D)/(4*f) \t\t\t\t#Lenggth of the pipe in m\n",
      "\n",
      "\t\t\t\t\n",
      "#Output\n",
      "print 'Lenggth of the pipe is %3.2f m'%L\n"
     ],
     "language": "python",
     "metadata": {},
     "outputs": [
      {
       "output_type": "stream",
       "stream": "stdout",
       "text": [
        "Lenggth of the pipe is 2.61 m\n"
       ]
      }
     ],
     "prompt_number": 14
    },
    {
     "cell_type": "heading",
     "level": 2,
     "metadata": {},
     "source": [
      "Example 8.3.31 page : 16"
     ]
    },
    {
     "cell_type": "code",
     "collapsed": false,
     "input": [
      "import math \n",
      "\n",
      "\t\t\t\t\n",
      "#Input data\n",
      "M = 0.2 \t\t\t\t#Mach number\n",
      "To = 120.+273 \t\t\t\t#Stagnation Temperature in K\n",
      "Cp = 1005. \t\t\t\t#Specific heat capacity at constnat pressure in J/kg-K\n",
      "\n",
      "\t\t\t\t\n",
      "#Calculation\n",
      "t1 = 0.174 \t\t\t\t#Temperature ratio (To/Tot) from Rayleigh gas tables\n",
      "Tot = To/t1 \t\t\t\t#Critical stagnation temperature in K\n",
      "q = Cp*(Tot-To)*10**-3 \t\t\t\t#Maximum amount of heat transfer in kJ/kg\n",
      "\n",
      "\t\t\t\t\n",
      "#Output\n",
      "print 'Maximum amount of heat transfer is %3.2f kJ/kg'%q\n"
     ],
     "language": "python",
     "metadata": {},
     "outputs": [
      {
       "output_type": "stream",
       "stream": "stdout",
       "text": [
        "Maximum amount of heat transfer is 1874.95 kJ/kg\n"
       ]
      }
     ],
     "prompt_number": 15
    },
    {
     "cell_type": "heading",
     "level": 2,
     "metadata": {},
     "source": [
      "Example 8.3.32 page : 17"
     ]
    },
    {
     "cell_type": "code",
     "collapsed": false,
     "input": [
      "import math \n",
      "\n",
      "\t\t\t\t\n",
      "#Input data\n",
      "p1 = 0.75 \t\t\t\t#Pressure ratio (Po2/Po1) Since Stagnation pressure drop is 25%\n",
      "Cp = 1150. \t\t\t\t#Specific heat capacity at constnat pressure in J/kg-K\n",
      "k = 1.33 \t\t\t\t#Adiabatic consmath.tant \n",
      "\n",
      "\t\t\t\t\n",
      "#Calculation\n",
      "ds = ((k-1)/k)*Cp*math.log(1/p1) \t\t\t\t#Increase in entropy in J/kg-K\n",
      "\n",
      "\t\t\t\t\n",
      "#Output \n",
      "print 'Increase in entropy is %3.2f J/kg-K'%ds\n"
     ],
     "language": "python",
     "metadata": {},
     "outputs": [
      {
       "output_type": "stream",
       "stream": "stdout",
       "text": [
        "Increase in entropy is 82.09 J/kg-K\n"
       ]
      }
     ],
     "prompt_number": 16
    },
    {
     "cell_type": "heading",
     "level": 2,
     "metadata": {},
     "source": [
      "Example 8.3.33 page : 17"
     ]
    },
    {
     "cell_type": "code",
     "collapsed": false,
     "input": [
      "import math \n",
      "\n",
      "\t\t\t\t\n",
      "#Input data\n",
      "Mi = 2.2 \t\t\t\t#Inlet Mach number\n",
      "T = 100.+273 \t\t\t\t#Temperature in K\n",
      "Cp = 1005. \t\t\t\t#Specific heat capacity at constnat pressure in J/kg-K\n",
      "\n",
      "\t\t\t\t\n",
      "#Calculation\n",
      "t1 = 0.508 \t\t\t\t#Temperature ratio (To/Tot) from isentropic gas tables @Mi\n",
      "To = T/t1 \t\t\t\t#Stagnation Temperature in K\n",
      "t2 = 0.756 \t\t\t\t#Temperature ratio (To/Tot) from Rayleigh gas tables @Mi\n",
      "Tot = To/t2 \t\t\t\t#Critical stagnation temperature in K\n",
      "q = Cp*(Tot-To)*10**-3 \t\t\t\t#Maximum amount of heat transfer in kJ/kg\n",
      "\n",
      "\t\t\t\t\n",
      "#Output\n",
      "print 'Maximum amount of heat transfer is %3.4f kJ/kg'%q\n"
     ],
     "language": "python",
     "metadata": {},
     "outputs": [
      {
       "output_type": "stream",
       "stream": "stdout",
       "text": [
        "Maximum amount of heat transfer is 238.1657 kJ/kg\n"
       ]
      }
     ],
     "prompt_number": 17
    },
    {
     "cell_type": "heading",
     "level": 2,
     "metadata": {},
     "source": [
      "Example 8.5.16 page: 22"
     ]
    },
    {
     "cell_type": "code",
     "collapsed": false,
     "input": [
      "import math \n",
      "\n",
      "\t\t\t\t\n",
      "#Input data\n",
      "Mx = 1.5 \t\t\t\t#Mach number\n",
      "P = 40. \t\t\t\t#Static pressure in kPa\n",
      "\n",
      "\t\t\t\t\n",
      "#Calculation\n",
      "p1 = 3.413 \t\t\t\t#Pressure ratio in (Poy/Px) from normal shock gas tables @Mx\n",
      "Poy = p1*P \t\t\t\t#Pressure acting on front of the body in kPa\n",
      "\n",
      "\t\t\t\t\n",
      "#Output\n",
      "print 'Pressure acting on front of the body is %3.1f kPa'%Poy\n"
     ],
     "language": "python",
     "metadata": {},
     "outputs": [
      {
       "output_type": "stream",
       "stream": "stdout",
       "text": [
        "Pressure acting on front of the body is 136.5 kPa\n"
       ]
      }
     ],
     "prompt_number": 18
    },
    {
     "cell_type": "heading",
     "level": 2,
     "metadata": {},
     "source": [
      "Example 8.5.17 page : 22"
     ]
    },
    {
     "cell_type": "code",
     "collapsed": false,
     "input": [
      "import math \n",
      "\n",
      "\t\t\t\t\n",
      "#Input data\n",
      "M = 2. \t\t\t\t#Mach number at shock\n",
      "\n",
      "\t\t\t\t\n",
      "#Calculation\n",
      "p1 = 4.5 \t\t\t\t#Pressure ratio (Py/Px) from normal shock gas tables @M\n",
      "e = p1-1 \t\t\t\t#Strength of shock wave\n",
      "\n",
      "\t\t\t\t\n",
      "#Output\n",
      "print 'Strength of shock wave is %3.1f'%e\n"
     ],
     "language": "python",
     "metadata": {},
     "outputs": [
      {
       "output_type": "stream",
       "stream": "stdout",
       "text": [
        "Strength of shock wave is 3.5\n"
       ]
      }
     ],
     "prompt_number": 19
    },
    {
     "cell_type": "heading",
     "level": 2,
     "metadata": {},
     "source": [
      "Example 8.5.20 page : 23"
     ]
    },
    {
     "cell_type": "code",
     "collapsed": false,
     "input": [
      "import math \n",
      "\n",
      "\t\t\t\t\n",
      "#Input data\n",
      "Mx = 7 \t\t\t\t#mach number upstream of shock\n",
      "P = 2 \t\t\t\t#pressure @Mx in bar\n",
      "T = 57+273 \t\t\t\t#Temperature @Mx in K\n",
      "R = 287 \t\t\t\t#Specific gas consmath.tant in J/kg-K\n",
      "\n",
      "\t\t\t\t\n",
      "#Calculation \n",
      "p1 = 0.72 \t\t\t\t#Pressure ratio (Poy/Pox) from normal shock gas tables @Mx\n",
      "ds = R*math.log(1/p1) \t\t\t\t#Irreversibility in J/kg-K\n",
      "\n",
      "\t\t\t\t\n",
      "#Output\n",
      "print 'Irreversibility is %3.2f J/kg-K'%ds\n"
     ],
     "language": "python",
     "metadata": {},
     "outputs": [
      {
       "output_type": "stream",
       "stream": "stdout",
       "text": [
        "Irreversibility is 94.28 J/kg-K\n"
       ]
      }
     ],
     "prompt_number": 20
    },
    {
     "cell_type": "heading",
     "level": 2,
     "metadata": {},
     "source": [
      "    Example 8.5.21 page : 23"
     ]
    },
    {
     "cell_type": "code",
     "collapsed": false,
     "input": [
      "import math \n",
      "\n",
      "\t\t\t\t\n",
      "#Input data\n",
      "Px = 45. \t\t\t\t#Static pressure in kPa\n",
      "T = -20.+273 \t\t\t\t#Static temperature in K\n",
      "Poy = 395. \t\t\t\t#Stagnation pressure in kPa\n",
      "k = 1.4 \t\t\t\t#Adiabatic consmath.tant \n",
      "R = 287 \t\t\t\t#Specific gas consmath.tant in J/kg-K\n",
      "\n",
      "\t\t\t\t\n",
      "#Calculation\n",
      "p1 = Poy/Px \t\t\t\t#Pressure ratio\n",
      "Mx = 2.536 \t\t\t\t#Mach number from normal shock gas tables @p1\n",
      "Cx = Mx*math.sqrt(k*R*T) \t\t\t\t#Air velocity in m/s\n",
      "\n",
      "\t\t\t\t\n",
      "#Output\n",
      "print 'Mach number is %3.3f \\\n",
      "\\nAir velocity is %.f m/s'%(Mx,Cx)\n"
     ],
     "language": "python",
     "metadata": {},
     "outputs": [
      {
       "output_type": "stream",
       "stream": "stdout",
       "text": [
        "Mach number is 2.536 \n",
        "Air velocity is 809 m/s\n"
       ]
      }
     ],
     "prompt_number": 21
    },
    {
     "cell_type": "heading",
     "level": 2,
     "metadata": {},
     "source": [
      "Example 8.5.22 page : 23"
     ]
    },
    {
     "cell_type": "code",
     "collapsed": false,
     "input": [
      "import math \n",
      "\n",
      "\t\t\t\t\n",
      "#Input data\n",
      "Cx = 750. \t\t\t\t#velocity upstream of shock in m/s\n",
      "Px = 1. \t\t\t\t#Pressure upstream of shock in bar\n",
      "Tx = 10.+273 \t\t\t\t#Temperature upstream of shock in K\n",
      "k = 1.4 \t\t\t\t#Adiabatic consmath.tant  \n",
      "R = 287. \t\t\t\t#Specific gas consmath.tant in J/kg-K\n",
      "\n",
      "\t\t\t\t\n",
      "#Calculation\n",
      "Mx = Cx/math.sqrt(k*R*Tx) \t\t\t\t#Mach number upstream of shock\n",
      "My = 0.545 \t\t\t\t#Mach number downstream of shock from normal shock gas tables, Mistake in textbook\n",
      "t1 = 1.875 \t\t\t\t#Temperature ratio (Ty/Tx)\n",
      "Ty = Tx*t1 \t\t\t\t#Static temperature downstream of shock in K\n",
      "p1 = 5.583 \t\t\t\t#Pressure ratio (Py/Px)\n",
      "Py = Px*p1 \t\t\t\t#Static pressure downstream of shock in bar\n",
      "Cy = My*math.sqrt(k*R*Ty) \t\t\t\t#velocity downstream of shock in m/s\n",
      "\n",
      "\t\t\t\t\n",
      "#Output\n",
      "print 'Downstream of shock:    Velocity is %3.3f m/s    Pressure is %3.3f bar    Temperature is %3.3f K'%(Cy,Py,Ty)\n"
     ],
     "language": "python",
     "metadata": {},
     "outputs": [
      {
       "output_type": "stream",
       "stream": "stdout",
       "text": [
        "Downstream of shock:    Velocity is 251.649 m/s    Pressure is 5.583 bar    Temperature is 530.625 K\n"
       ]
      }
     ],
     "prompt_number": 22
    },
    {
     "cell_type": "heading",
     "level": 2,
     "metadata": {},
     "source": [
      "Example 8.6.41 page : 31"
     ]
    },
    {
     "cell_type": "code",
     "collapsed": false,
     "input": [
      "import math \n",
      "\n",
      "\t\t\t\t\n",
      "#Calculation \n",
      "\n",
      "#Differentiating P = m*(Cj-u)*u and equating it to zero we get jet speed ratio as 0.5\n",
      "sig = 0.5 \t\t\t\t#Jet speed ratio \n",
      "eff_max = ((2*sig)/(1+sig)) \t\t\t\t#Propulsive efficiency for optimum thrust power, wrong notation in textbook.\n",
      "\n",
      "\t\t\t\t\n",
      "#Output\n",
      "print 'Propulsive efficiency for optimum thrust power is %3.3f'%(eff_max)\n"
     ],
     "language": "python",
     "metadata": {},
     "outputs": [
      {
       "output_type": "stream",
       "stream": "stdout",
       "text": [
        "Propulsive efficiency for optimum thrust power is 0.667\n"
       ]
      }
     ],
     "prompt_number": 23
    },
    {
     "cell_type": "heading",
     "level": 2,
     "metadata": {},
     "source": [
      "Example 8.6.42 page : 31"
     ]
    },
    {
     "cell_type": "code",
     "collapsed": false,
     "input": [
      "import math \n",
      "\n",
      "#Input data\n",
      "u = 1200*(5./18) \t\t\t\t#Flight velocity in m/s\n",
      "Cj = 800. \t\t\t\t#Effective jet velocity in m/s\n",
      "\n",
      "\t\t\t\t\n",
      "#Calculation\n",
      "sig = u/Cj \t\t\t\t#jet speed ratio\n",
      "eff = ((2*sig)/(1+sig))*100 \t\t\t\t#Propulsive efficiency in %\n",
      "\n",
      "\t\t\t\t\n",
      "#Output\n",
      "print 'Propulsive efficiency is %3.1f percent'%eff\n"
     ],
     "language": "python",
     "metadata": {},
     "outputs": [
      {
       "output_type": "stream",
       "stream": "stdout",
       "text": [
        "Propulsive efficiency is 58.8 percent\n"
       ]
      }
     ],
     "prompt_number": 24
    },
    {
     "cell_type": "heading",
     "level": 2,
     "metadata": {},
     "source": [
      "Example 8.7.42 page : 39"
     ]
    },
    {
     "cell_type": "code",
     "collapsed": false,
     "input": [
      "import math \n",
      "\n",
      "\t\t\t\t\n",
      "#Input data\n",
      "m = 5. \t\t\t\t#Propellent rate in kg/s\n",
      "Pamb = 1.013 \t\t\t\t#Ambient pressure in bar\n",
      "Pe = 1.02 \t\t\t\t#Nozzle exit pressure in bar\n",
      "D = 0.1 \t\t\t\t#Nozzle exit diameter in m\n",
      "Ce = 1400. \t\t\t\t#Exit jet velocity in m/s\n",
      "\n",
      "\t\t\t\t\n",
      "#Calculation\n",
      "Ae = math.pi*D**2/4 \t\t\t\t#Exit area in m**2\n",
      "F = (m*Ce)+((Pe-Pamb)*Ae) \t\t\t\t#Thrust in N\n",
      "\n",
      "\t\t\t\t\n",
      "#Output\n",
      "print 'Thrust is %3i N'%F\n"
     ],
     "language": "python",
     "metadata": {},
     "outputs": [
      {
       "output_type": "stream",
       "stream": "stdout",
       "text": [
        "Thrust is 7000 N\n"
       ]
      }
     ],
     "prompt_number": 25
    },
    {
     "cell_type": "heading",
     "level": 2,
     "metadata": {},
     "source": [
      "Example 8.7.43 page : 39"
     ]
    },
    {
     "cell_type": "code",
     "collapsed": false,
     "input": [
      "import math \n",
      "\n",
      "\t\t\t\t\n",
      "#Input data\n",
      "Is = 230. \t\t\t\t#Specific Impulse in sec\n",
      "m = 1. \t\t\t\t#Propellent flow in kg/s\n",
      "g = 9.81 \t\t\t\t#Acceleration due to gravity in m/s**2\n",
      "\n",
      "\t\t\t\t\n",
      "#Calculation\n",
      "F = m*Is*g \t\t\t\t#Thrust in N\n",
      "\n",
      "\t\t\t\t\n",
      "#Output\n",
      "print 'Thrust is %3.1f N'%F\n"
     ],
     "language": "python",
     "metadata": {},
     "outputs": [
      {
       "output_type": "stream",
       "stream": "stdout",
       "text": [
        "Thrust is 2256.3 N\n"
       ]
      }
     ],
     "prompt_number": 26
    },
    {
     "cell_type": "heading",
     "level": 2,
     "metadata": {},
     "source": [
      "Example 8.7.45 page : 39"
     ]
    },
    {
     "cell_type": "code",
     "collapsed": false,
     "input": [
      "import math \n",
      "\n",
      "\t\t\t\t\n",
      "#Input data\n",
      "u = 1500. \t\t\t\t#Flight velocity in m/s\n",
      "eff = 0.75 \t\t\t\t#Propulsive efficiency\n",
      "\n",
      "\t\t\t\t\n",
      "#Calculation\n",
      "\t\t\t\t#Converting relation eff = (2*sig)/(1+sig**2) into 2nd degree polynomial of sig\n",
      "sig = ((2-(math.sqrt(4-(4*eff*eff))))/(2*eff)) \t\t\t\t#Jet speed ratio\n",
      "Cj = u/sig \t\t\t\t#Jet velocity in m/s\n",
      "\n",
      "\t\t\t\t\n",
      "#Output\n",
      "print 'Jet velocity is %3.2f m/s'%Cj\n"
     ],
     "language": "python",
     "metadata": {},
     "outputs": [
      {
       "output_type": "stream",
       "stream": "stdout",
       "text": [
        "Jet velocity is 3322.88 m/s\n"
       ]
      }
     ],
     "prompt_number": 27
    },
    {
     "cell_type": "heading",
     "level": 2,
     "metadata": {},
     "source": [
      "Example 8.7.46 page : 40"
     ]
    },
    {
     "cell_type": "code",
     "collapsed": false,
     "input": [
      "import math \n",
      "\n",
      "\t\t\t\t\n",
      "#Input data\n",
      "Cj = 2700. \t\t\t\t#Jet velocity in m/s\n",
      "u = 1350. \t\t\t\t#Flight velocity in m/s\n",
      "m = 78.6 \t\t\t\t#Propellent flow in kg/s\n",
      "\n",
      "\t\t\t\t\n",
      "#Calculation\n",
      "F = m*Cj*10**-3 \t\t\t\t#Thrust in kN\n",
      "P = F*u*10**-3 \t\t\t\t#Thrust power in MW\n",
      "sig = u/Cj \t\t\t\t#Jet speed ratio\n",
      "eff = ((2*sig)/(1+sig**2))*100 \t\t\t\t#Propulsive efficiency in %\n",
      "\n",
      "\t\t\t\t\n",
      "#Output\n",
      "print 'Thrust is %3.1f kN \\\n",
      "\\nThrust power is %3.2f MW \\\n",
      "\\nPropulsive efficiency is %3i percent'%(F,P,eff)\n"
     ],
     "language": "python",
     "metadata": {},
     "outputs": [
      {
       "output_type": "stream",
       "stream": "stdout",
       "text": [
        "Thrust is 212.2 kN \n",
        "Thrust power is 286.50 MW \n",
        "Propulsive efficiency is  80 percent\n"
       ]
      }
     ],
     "prompt_number": 3
    },
    {
     "cell_type": "heading",
     "level": 2,
     "metadata": {},
     "source": [
      "Example 47 page : 40"
     ]
    },
    {
     "cell_type": "code",
     "collapsed": false,
     "input": [
      "import math \n",
      "\n",
      "\t\t\t\t\n",
      "#Input data\n",
      "D = 12683.*1000 \t\t\t\t#Diameter of Earth in m\n",
      "g = 9.81 \t\t\t\t#Acceleration due to gravity in m/s\n",
      "h = 500.*1000 \t\t\t\t#Altitude in m\n",
      "\n",
      "\t\t\t\t\n",
      "#Calculation\n",
      "Uorb = (D/2)*math.sqrt(g/((D/2)+h)) \t\t\t\t#Orbital velocity in m/s\n",
      "Uesc = math.sqrt(2)*Uorb \t\t\t\t#Escape velocity in m/s\n",
      "\n",
      "\t\t\t\t\n",
      "#Output\n",
      "print 'Orbital velocity is %3.2f m/s \\\n",
      "\\nEscape velocity is %3.2f m/s'%(Uorb,Uesc)\n"
     ],
     "language": "python",
     "metadata": {},
     "outputs": [
      {
       "output_type": "stream",
       "stream": "stdout",
       "text": [
        "Orbital velocity is 7593.65 m/s \n",
        "Escape velocity is 10739.05 m/s\n"
       ]
      }
     ],
     "prompt_number": 2
    },
    {
     "cell_type": "heading",
     "level": 2,
     "metadata": {},
     "source": [
      "Example 48 page : 40"
     ]
    },
    {
     "cell_type": "code",
     "collapsed": false,
     "input": [
      "import math \n",
      "\n",
      "\t\t\t\t\n",
      "#Input data\n",
      "u = 10080*(5./18) \t\t\t\t#Flight velocity in m/s\n",
      "Cj = 1400. \t\t\t\t#Jet velocity in m/s\n",
      "m = 5. \t\t\t\t#Propellent flow in kg/s\n",
      "\n",
      "\t\t\t\t\n",
      "#Calculation\n",
      "F = m*Cj*10**-3 \t\t\t\t#Thrust in kN\n",
      "P = F*u*10**-3 \t\t\t\t#Thrust power in MW\n",
      "sig = u/Cj \t\t\t\t#Jet speed ratio\n",
      "eff = ((2*sig)/(1+sig**2)) \t\t\t\t#Propulsive efficiency \n",
      "\n",
      "\t\t\t\t\n",
      "#Output\n",
      "print 'Propulsive power is %3.1f MW \\\n",
      "\\nPropulsive efficiency is %3.1f'%(P,eff)\n"
     ],
     "language": "python",
     "metadata": {},
     "outputs": [
      {
       "output_type": "stream",
       "stream": "stdout",
       "text": [
        "Propulsive power is 19.6 MW \n",
        "Propulsive efficiency is 0.8\n"
       ]
      }
     ],
     "prompt_number": 1
    }
   ],
   "metadata": {}
  }
 ]
}