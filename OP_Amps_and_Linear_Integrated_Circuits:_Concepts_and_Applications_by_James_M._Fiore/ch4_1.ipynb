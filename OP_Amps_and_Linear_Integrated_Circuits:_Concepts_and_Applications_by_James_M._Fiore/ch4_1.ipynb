{
 "metadata": {
  "name": "",
  "signature": "sha256:7bd5a5d6b24f7456065705f4075aa41e3611ab6c2c6277bbbf4be054bab97877"
 },
 "nbformat": 3,
 "nbformat_minor": 0,
 "worksheets": [
  {
   "cells": [
    {
     "cell_type": "heading",
     "level": 1,
     "metadata": {},
     "source": [
      "Chapter 4: Basic Op Amp Circuits\n",
      "\n",
      "\n",
      "\n",
      "\n",
      "\n",
      "\n",
      "\n",
      "\n",
      "\n",
      "\n",
      "\n",
      "\n",
      "\n",
      "\n",
      "\n",
      "\n",
      "\n",
      "\n",
      "\n",
      "\n",
      "\n",
      "\n",
      "\n",
      "\n",
      "\n",
      "\n",
      "\n",
      "\n",
      "\n",
      "\n",
      "\n",
      "\n",
      "\n",
      "\n",
      "\n",
      "\n",
      "\n",
      "\n",
      "\n",
      "\n",
      "\n",
      "\n",
      "\n",
      "\n",
      "\n",
      "\n",
      "\n",
      "\n",
      "\n",
      "\n",
      "\n",
      "\n",
      "\n",
      "\n",
      "\n",
      "\n",
      "\n",
      "\n",
      "\n",
      "\n",
      "\n",
      "\n",
      "\n",
      "\n",
      "\n",
      "\n",
      "\n",
      "\n",
      "\n",
      "\n",
      "\n",
      "\n",
      "\n",
      "\n",
      "\n",
      "\n",
      "\n",
      "\n",
      "\n",
      "\n",
      "\n",
      "\n",
      "\n",
      "\n",
      "\n",
      "\n",
      "\n",
      "\n",
      "\n",
      "\n",
      "\n",
      "\n",
      "\n",
      "\n",
      "\n",
      "\n",
      "\n",
      "\n",
      "\n",
      "\n",
      "\n",
      "\n",
      "\n",
      "\n",
      "\n",
      "\n",
      "\n",
      "\n",
      "\n",
      "\n",
      "\n",
      "\n",
      "\n",
      "\n",
      "\n",
      "\n",
      "\n",
      "\n",
      "\n",
      "\n",
      "\n",
      "\n",
      "\n",
      "\n",
      "\n",
      "\n",
      "\n",
      "\n",
      "\n",
      "\n",
      "\n",
      "\n",
      "\n",
      "\n",
      "\n",
      "\n",
      "\n",
      "\n",
      "\n",
      "\n",
      "\n",
      "\n",
      "\n",
      "\n",
      "\n",
      "\n",
      "\n",
      "\n",
      "\n",
      "\n",
      "\n",
      "\n",
      "\n",
      "\n",
      "\n",
      "\n",
      "\n",
      "\n",
      "\n",
      "\n",
      "\n",
      "\n",
      "\n",
      "\n",
      "\n",
      "\n",
      "\n",
      "\n",
      "\n",
      "\n",
      "\n",
      "\n",
      "\n",
      "\n",
      "\n",
      "\n",
      "\n",
      "\n",
      "\n",
      "\n",
      "\n",
      "\n",
      "\n",
      "\n",
      "\n",
      "\n",
      "\n",
      "\n",
      "\n",
      "\n",
      "\n",
      "\n",
      "\n",
      "\n",
      "\n",
      "\n",
      "\n",
      "\n",
      "\n",
      "\n",
      "\n",
      "\n",
      "\n",
      "\n",
      "\n",
      "\n",
      "\n",
      "\n",
      "\n",
      "\n",
      "\n",
      "\n",
      "\n",
      "\n",
      "\n",
      "\n",
      "\n",
      "\n",
      "\n",
      "\n",
      "\n",
      "\n",
      "\n",
      "\n",
      "\n",
      "\n",
      "\n",
      "\n",
      "\n",
      "\n",
      "\n",
      "\n",
      "\n",
      "\n",
      "\n",
      "\n",
      "\n",
      "\n",
      "\n",
      "\n",
      "\n",
      "\n",
      "\n",
      "\n",
      "\n",
      "\n",
      "\n",
      "\n",
      "\n",
      "\n",
      "\n",
      "\n",
      "\n",
      "\n",
      "\n",
      "\n",
      "\n",
      "\n",
      "\n",
      "\n",
      "\n",
      "\n",
      "\n",
      "\n",
      "\n",
      "\n",
      "\n",
      "\n",
      "\n",
      "\n",
      "\n",
      "\n",
      "\n",
      "\n",
      "\n",
      "\n",
      "\n",
      "\n",
      "\n",
      "\n",
      "\n",
      "\n",
      "\n",
      "\n",
      "\n",
      "\n",
      "\n",
      "\n",
      "\n",
      "\n",
      "\n",
      "\n",
      "\n",
      "\n",
      "\n",
      "\n",
      "\n",
      "\n",
      "\n",
      "\n",
      "\n",
      "\n",
      "\n",
      "\n",
      "\n",
      "\n",
      "\n",
      "\n",
      "\n",
      "\n",
      "\n",
      "\n",
      "\n",
      "\n",
      "\n",
      "\n",
      "\n",
      "\n",
      "\n",
      "\n",
      "\n",
      "\n",
      "\n",
      "\n",
      "\n",
      "\n",
      "\n",
      "\n",
      "\n",
      "\n",
      "\n",
      "\n",
      "\n",
      "\n",
      "\n",
      "\n",
      "\n",
      "\n",
      "\n",
      "\n",
      "\n",
      "\n",
      "\n",
      "\n",
      "\n",
      "\n",
      "\n",
      "\n",
      "\n",
      "\n",
      "\n",
      "\n",
      "\n",
      "\n",
      "\n",
      "\n",
      "\n",
      "\n",
      "\n",
      "\n",
      "\n",
      "\n",
      "\n",
      "\n",
      "\n",
      "\n",
      "\n",
      "\n",
      "\n",
      "\n",
      "\n",
      "\n",
      "\n",
      "\n",
      "\n",
      "\n",
      "\n",
      "\n",
      "\n",
      "\n",
      "\n",
      "\n",
      "\n",
      "\n",
      "\n",
      "\n",
      "\n",
      "\n",
      "\n",
      "\n",
      "\n",
      "\n",
      "\n",
      "\n",
      "\n",
      "\n",
      "\n",
      "\n",
      "\n",
      "\n",
      "\n",
      "\n",
      "\n",
      "\n",
      "\n",
      "\n",
      "\n",
      "\n",
      "\n",
      "\n",
      "\n",
      "\n",
      "\n",
      "\n",
      "\n",
      "\n",
      "\n",
      "\n",
      "\n",
      "\n",
      "\n",
      "\n",
      "\n",
      "\n",
      "\n",
      "\n",
      "\n",
      "\n"
     ]
    },
    {
     "cell_type": "heading",
     "level": 2,
     "metadata": {},
     "source": [
      "Example 4.1, Page 98"
     ]
    },
    {
     "cell_type": "code",
     "collapsed": false,
     "input": [
      "#Variable declaration\n",
      "Rf=10.*10**3;     #/In Ohms\n",
      "Ri=1*10**3;     #/In Ohms\n",
      "\n",
      "#Calculations\n",
      "Av=1+(Rf/Ri);\n",
      "\n",
      "#Result\n",
      "print \"Gain of Circuit is %.f\"%Av"
     ],
     "language": "python",
     "metadata": {},
     "outputs": [
      {
       "output_type": "stream",
       "stream": "stdout",
       "text": [
        "Gain of Circuit is 11\n"
       ]
      }
     ],
     "prompt_number": 1
    },
    {
     "cell_type": "heading",
     "level": 2,
     "metadata": {},
     "source": [
      "Example 4.2, Page 98"
     ]
    },
    {
     "cell_type": "code",
     "collapsed": false,
     "input": [
      "#Variable declaration\n",
      "Av1=26.;#in dB\n",
      "Av=20.;\n",
      "#Zi=47*10**3  #in ohms\n",
      "Ri=1.0*10**3;     #/In Ohms\n",
      "\n",
      "#Calculations&Results\n",
      "#we know Av=1+(Rf/Ri)\n",
      "Rf=Ri*(Av-1);\n",
      "print \"Value of Rf(ohm) when Ri is 1k =%.2f\"%Rf\n",
      "Ri=2*10**3;     #/In Ohms\n",
      "Rf=Ri*(Av-1);\n",
      "print \"Value of Rf(ohm) when Ri is 1k=%.2f\"%Rf\n",
      "Ri=5*10**2;     #/In Ohms\n",
      "Rf=Ri*(Av-1);\n",
      "print \"Value of Rf(ohm) when Ri is 1k =%.2f\"%Rf\n"
     ],
     "language": "python",
     "metadata": {},
     "outputs": [
      {
       "output_type": "stream",
       "stream": "stdout",
       "text": [
        "Value of Rf(ohm) when Ri is 1k =19000.00\n",
        "Value of Rf(ohm) when Ri is 1k=38000.00\n",
        "Value of Rf(ohm) when Ri is 1k =9500.00\n"
       ]
      }
     ],
     "prompt_number": 2
    },
    {
     "cell_type": "heading",
     "level": 2,
     "metadata": {},
     "source": [
      "Example 4.3, Page 99"
     ]
    },
    {
     "cell_type": "code",
     "collapsed": false,
     "input": [
      "#Variable declaration\n",
      "Av=1;\n",
      "#Av=1+(Rf/Ri)\n",
      "#Rf/Ri=Av-1=0\n",
      "\n",
      "#Calculations&Results\n",
      "print \"Rf/Ri=0 \";\n",
      "print \"Rf is replaced by short circuiting wire and Ri can have any theoretical value\"\n",
      "print \"When Ri is infinite it can be deleted from circuit\";"
     ],
     "language": "python",
     "metadata": {},
     "outputs": [
      {
       "output_type": "stream",
       "stream": "stdout",
       "text": [
        "Rf/Ri=0 \n",
        "Rf is replaced by short circuiting wire and Ri can have any theoretical value\n",
        "When Ri is infinite it can be deleted from circuit\n"
       ]
      }
     ],
     "prompt_number": 3
    },
    {
     "cell_type": "heading",
     "level": 2,
     "metadata": {},
     "source": [
      "Example 4.4, Page 100"
     ]
    },
    {
     "cell_type": "code",
     "collapsed": false,
     "input": [
      "import math\n",
      "\n",
      "#Variable declaration\n",
      "Rf=14.*10**3;#in ohm\n",
      "Ri=2.*10**3;#in ohm\n",
      "\n",
      "#Calculations&Results\n",
      "Av1=1+(Rf/Ri);\n",
      "print \"Av1 is %.f\"%Av1\n",
      "Av3=20*math.log10(Av1);\n",
      "print \"Av1 in dB is %f\"%Av3\n",
      "\n",
      "Rf=18.*10**3;#in ohm\n",
      "Ri=2*10**3;#in ohm\n",
      "Av2=1+(Rf/Ri);\n",
      "print \"Av2 is %.f\"%Av2\n",
      "Av4=20*math.log10(Av2);\n",
      "print \"Av2 dB is %.f\"%Av4\n",
      "Avt=Av3+Av4;\n",
      "print \"Total Gain dB Av1+Av2 is %f\"%Avt\n",
      "vin=-30;#in dB\n",
      "vout=Avt+vin;\n",
      "print \"Vout in dB %f\"%vout"
     ],
     "language": "python",
     "metadata": {},
     "outputs": [
      {
       "output_type": "stream",
       "stream": "stdout",
       "text": [
        "Av1 is 8\n",
        "Av1 in dB is 18.061800\n",
        "Av2 is 10\n",
        "Av2 dB is 20\n",
        "Total Gain dB Av1+Av2 is 38.061800\n",
        "Vout in dB 8.061800\n"
       ]
      }
     ],
     "prompt_number": 4
    },
    {
     "cell_type": "heading",
     "level": 2,
     "metadata": {},
     "source": [
      "Example 4.5, Page 102"
     ]
    },
    {
     "cell_type": "code",
     "collapsed": false,
     "input": [
      "#Variable declaration\n",
      "Ri=5*10**3;# in ohm\n",
      "Rf=20.*10**3;# in ohm\n",
      "vin=100*10**-3;#In volt\n",
      "\n",
      "#Calculations\n",
      "Av=-(Rf/Ri);\n",
      "vout=vin*Av;\n",
      "\n",
      "#Result\n",
      "print \"Vout is %f volts\"%vout;\n",
      "print \"(i.e. negative sign means inverted)\";"
     ],
     "language": "python",
     "metadata": {},
     "outputs": [
      {
       "output_type": "stream",
       "stream": "stdout",
       "text": [
        "Vout is -0.400000 volts\n",
        "(i.e. negative sign means inverted)\n"
       ]
      }
     ],
     "prompt_number": 5
    },
    {
     "cell_type": "heading",
     "level": 2,
     "metadata": {},
     "source": [
      "Example 4.6, Page 103"
     ]
    },
    {
     "cell_type": "code",
     "collapsed": false,
     "input": [
      "#Variable declaration\n",
      "Ri=15.*10**3;\n",
      "zin=Ri;\n",
      "Av=-10;#inverting amplifier gain\n",
      "\n",
      "#Calculations\n",
      "#Av=-(Rf/Ri)\n",
      "Rf=Ri*-Av;\n",
      "\n",
      "#Result\n",
      "print \"Value for Rf = %.f ohms\"%Rf;"
     ],
     "language": "python",
     "metadata": {},
     "outputs": [
      {
       "output_type": "stream",
       "stream": "stdout",
       "text": [
        "Value for Rf = 150000 ohms\n"
       ]
      }
     ],
     "prompt_number": 6
    },
    {
     "cell_type": "heading",
     "level": 2,
     "metadata": {},
     "source": [
      "Example 4.7, Page 103"
     ]
    },
    {
     "cell_type": "code",
     "collapsed": false,
     "input": [
      "import math\n",
      "\n",
      "#Variable declaration\n",
      "#capacitors are used to remove higher frequencies\n",
      "Rf=200.*10**3;#In Ohm \n",
      "Ri=15*10**3; #In Ohm\n",
      "\n",
      "#Calculations&Results\n",
      "Av=-(Rf/Ri);\n",
      "Av1=20*math.log10(-Av);\n",
      "print \"Maximum gain is %.2f\"%Av\n",
      "print \"Maximum gain in dB is %.1f\"%Av1\n",
      "Av2=0;# divider action makes Ri infinite\n",
      "print \"Minimum gain in dB is %.f\"%Av2;"
     ],
     "language": "python",
     "metadata": {},
     "outputs": [
      {
       "output_type": "stream",
       "stream": "stdout",
       "text": [
        "Maximum gain is -13.33\n",
        "Maximum gain in dB is 22.5\n",
        "Minimum gain in dB is 0\n"
       ]
      }
     ],
     "prompt_number": 8
    },
    {
     "cell_type": "heading",
     "level": 2,
     "metadata": {},
     "source": [
      "Example 4.8, Page 105"
     ]
    },
    {
     "cell_type": "code",
     "collapsed": false,
     "input": [
      "#Variable declaration\n",
      "Iin=50*10**-6;       #In Ampere\n",
      "Vout=4.;     #In Volt\n",
      "\n",
      "#Calculations\n",
      "Rf=Vout/Iin;\n",
      "\n",
      "#Result\n",
      "print \"Transresistance of Circuit is %.f ohms\"%Rf"
     ],
     "language": "python",
     "metadata": {},
     "outputs": [
      {
       "output_type": "stream",
       "stream": "stdout",
       "text": [
        "Transresistance of Circuit is 80000 ohms\n"
       ]
      }
     ],
     "prompt_number": 9
    },
    {
     "cell_type": "heading",
     "level": 2,
     "metadata": {},
     "source": [
      "Example 4.9, Page 107"
     ]
    },
    {
     "cell_type": "code",
     "collapsed": false,
     "input": [
      "#Variable declaration\n",
      "Ri=20*10**3;     #In Ohm\n",
      "Vin=0.4;        #In Volt\n",
      "Rl=1*103;#In ohm\n",
      "\n",
      "#Calculations&Results\n",
      "gm=1./Ri;        #unit-micro*Siemens\n",
      "Iload=gm*Vin*10**6;\n",
      "print \"Load current is %.f uA\"%Iload\n",
      "#maximum current is 20microAmp in Op Amp\n",
      "Vout=(Ri+Rl)*Iload*10**-3;\n",
      "print \"V max = %.f V\"%Vout;  #incorrect answer in textbook"
     ],
     "language": "python",
     "metadata": {},
     "outputs": [
      {
       "output_type": "stream",
       "stream": "stdout",
       "text": [
        "Load current is 20 uA\n",
        "V max = 402 V\n"
       ]
      }
     ],
     "prompt_number": 15
    },
    {
     "cell_type": "heading",
     "level": 2,
     "metadata": {},
     "source": [
      "Example 4.10, Page 107"
     ]
    },
    {
     "cell_type": "code",
     "collapsed": false,
     "input": [
      "#Variable declaration\n",
      "Iload=100*10*-6;        #In Amp\n",
      "Vin=10;     #In Volt\n",
      "\n",
      "#Calculations\n",
      "gm=Iload/Vin;\n",
      "Ri=1./gm;\n",
      "\n",
      "#Result\n",
      "print \"Value of Ri = %f ohms\"%Ri"
     ],
     "language": "python",
     "metadata": {},
     "outputs": [
      {
       "output_type": "stream",
       "stream": "stdout",
       "text": [
        "Value of Ri = -0.001667 ohms\n"
       ]
      }
     ],
     "prompt_number": 16
    },
    {
     "cell_type": "heading",
     "level": 2,
     "metadata": {},
     "source": [
      "Example 4.11, Page 110"
     ]
    },
    {
     "cell_type": "code",
     "collapsed": false,
     "input": [
      "#Variable declaration\n",
      "Iin=5*10**-6;        #In Ampere\n",
      "Ri=33*10**3;     #In Ohm\n",
      "Rf=1*10**3;          #In Ohm\n",
      "Rload=10*10**3;          #In Ohm\n",
      "\n",
      "#Calculations&Results\n",
      "Ai=1+(Ri/Rf);           #for inverting current amplifier\n",
      "Iout=Ai*Iin;\n",
      "print \"I out = %f A\"%Iout\n",
      "Vmax=Iout*Rload+Iin*Ri;\n",
      "print \"Vmax is %f V\"%Vmax\n",
      "print \"(No problem)\""
     ],
     "language": "python",
     "metadata": {},
     "outputs": [
      {
       "output_type": "stream",
       "stream": "stdout",
       "text": [
        "I out = 0.000170 A\n",
        "Vmax is 1.865000 V\n",
        "(No problem)\n"
       ]
      }
     ],
     "prompt_number": 17
    },
    {
     "cell_type": "heading",
     "level": 2,
     "metadata": {},
     "source": [
      "Example 4.12, Page 111"
     ]
    },
    {
     "cell_type": "code",
     "collapsed": false,
     "input": [
      "#Variable declaration\n",
      "Ai=50.;\n",
      "Rl=200*10**3;          #In Ohm\n",
      "#Ai=1+(Ri/Rf)\n",
      "Rf=1.*10**3;          #In Ohm(Assumption)\n",
      "\n",
      "#Calculations&Results\n",
      "Ri=Rf*(Ai-1);\n",
      "print \"Ri for Rf 1000ohm = %.f ohms\"%Ri\n",
      "Rf=2*10**3;          #In Ohm(Assumption)\n",
      "Ri=Rf*(Ai-1);\n",
      "print \"Ri for Rf 2000ohm = %.f ohms\"%Ri\n",
      "Rf=0.5*10**3;          #In Ohm(Assumption)\n",
      "Ri=Rf*(Ai-1);\n",
      "print \"Ri for Rf 500ohm = %.f ohms\"%Ri\n",
      "Imax=13.5/Rl;\n",
      "print \"Resulting current = %f A\"%Imax;\n",
      "print \"Maximum allowable input current = %f A\"%(Imax/50);"
     ],
     "language": "python",
     "metadata": {},
     "outputs": [
      {
       "output_type": "stream",
       "stream": "stdout",
       "text": [
        "Ri for Rf 1000ohm = 49000 ohms\n",
        "Ri for Rf 2000ohm = 98000 ohms\n",
        "Ri for Rf 500ohm = 24500 ohms\n",
        "Resulting current = 0.000068 A\n",
        "Maximum allowable input current = 0.000001 A\n"
       ]
      }
     ],
     "prompt_number": 18
    },
    {
     "cell_type": "heading",
     "level": 2,
     "metadata": {},
     "source": [
      "Example 4.13, Page 113"
     ]
    },
    {
     "cell_type": "code",
     "collapsed": false,
     "input": [
      "#Variable declaration\n",
      "#Noninverting Amplifier\n",
      "Rf=10.*10**3;          #In Ohm(Assumption)\n",
      "#Channel 1\n",
      "Ri1=4*10**3;          #In Ohm(Assumption)\n",
      "Vi1=1.;      #In Volt\n",
      "\n",
      "#Calculations&Results\n",
      "Av1=-Rf/Ri1;\n",
      "Vo1=Av1*Vi1;\n",
      "print \"Vout1 = %.1f V\"%Vo1;\n",
      "#Channel 2\n",
      "Ri2=2*10**3;          #In Ohm(Assumption)\n",
      "Vi2=-2;      #In Volt\n",
      "Av2=-Rf/Ri2;\n",
      "Vo2=Av2*Vi2;\n",
      "print \"Vout2 = %.f V\"%Vo2\n",
      "#Channel 3\n",
      "Ri3=1*10**3;          #In Ohm(Assumption)\n",
      "Vi3=0.5;      #In Volt\n",
      "Av3=-Rf/Ri3;\n",
      "Vo3=Av3*Vi3;\n",
      "print \"Vout1 = %.f V\"%Vo3\n",
      "print \"Total output via summation is %.1f V\"%(Vo1+Vo2+Vo3)"
     ],
     "language": "python",
     "metadata": {},
     "outputs": [
      {
       "output_type": "stream",
       "stream": "stdout",
       "text": [
        "Vout1 = -2.5 V\n",
        "Vout2 = 10 V\n",
        "Vout1 = -5 V\n",
        "Total output via summation is 2.5 V\n"
       ]
      }
     ],
     "prompt_number": 19
    },
    {
     "cell_type": "heading",
     "level": 2,
     "metadata": {},
     "source": [
      "Example 4.14, Page 116"
     ]
    },
    {
     "cell_type": "code",
     "collapsed": false,
     "input": [
      "import math\n",
      "import numpy\n",
      "import sympy\n",
      "import matplotlib\n",
      "import matplotlib.pyplot as plt\n",
      "%matplotlib inline\n",
      "\n",
      "#Variable declaration\n",
      "#Noninverting Amplifier\n",
      "V1=1;       #In Volt\n",
      "V2=-0.2;        #In Volt\n",
      "#to draw graph of V3\n",
      "t=numpy.linspace(0,0.5)\n",
      "\n",
      "#Calculations\n",
      "#from sympy import Symbol\n",
      "#t = Symbol('t')\n",
      "V3=2*numpy.sin(100*t);      #In Volt\n",
      "R1=20*10**3;    #In ohm\n",
      "R2=20*10**3;    #In ohm\n",
      "R3=20*10**3;    #In ohm\n",
      "Rf=20*10**3;    #In ohm\n",
      "Ri=5*10**3;    #In ohm\n",
      "#Vout=(1+(Rf/Ri))*(V1+V2+V3)/3;\n",
      "Vout=(1+(Rf/Ri))*(V1+V2)/3;     #for DC componet in Vin\n",
      "Voutac=(1+(Rf/Ri))*(V3)/3;      #for ac componet in Vin\n",
      "\n",
      "#Results\n",
      "print \"Output Voltage is 3.33 V peak sine wave riding on 1.33 V DC\";\n",
      "plt.plot(Voutac+Vout);\n",
      "plt.title(\"Output\")\n",
      "plt.xlabel(\"t\")\n",
      "plt.ylabel(\"V\")\n",
      "plt.show()"
     ],
     "language": "python",
     "metadata": {},
     "outputs": [
      {
       "output_type": "stream",
       "stream": "stdout",
       "text": [
        "Output Voltage is 3.33 V peak sine wave riding on 1.33 V DC\n"
       ]
      },
      {
       "metadata": {},
       "output_type": "display_data",
       "png": "[encoded data removed]",
       "text": [
        "<matplotlib.figure.Figure at 0x7f9438a7d7d0>"
       ]
      }
     ],
     "prompt_number": 1
    },
    {
     "cell_type": "heading",
     "level": 2,
     "metadata": {},
     "source": [
      "Example 4.15, Page 118"
     ]
    },
    {
     "cell_type": "code",
     "collapsed": false,
     "input": [
      "import math\n",
      "\n",
      "#Variable declaration\n",
      "Ri=10.*10**3;     #In ohm\n",
      "Av=26;      #In dB\n",
      "\n",
      "#Calculations\n",
      "Av1=10*math.log10(Av);\n",
      "Rf1=Av1*Ri;\n",
      "#Rf1=20*Ri1;\n",
      "#Ri1+20*Ri1=Ri;\n",
      "#Ri1=Ri-Rf1;\n",
      "Ri1=Ri/21;\n",
      "Rf1=20*Ri1*10**-3;\n",
      "\n",
      "#Result\n",
      "print \"Rf1 is %.2f ohm\"%Rf1"
     ],
     "language": "python",
     "metadata": {},
     "outputs": [
      {
       "output_type": "stream",
       "stream": "stdout",
       "text": [
        "Rf1 is 9.52 ohm\n"
       ]
      }
     ],
     "prompt_number": 28
    }
   ],
   "metadata": {}
  }
 ]
}