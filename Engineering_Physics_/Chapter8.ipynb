{
 "metadata": {
  "name": "",
  "signature": "sha256:e5ea4ff1709764161940877bdcbbb6d4676a6eced70f445ea6f3a31c76d16a31"
 },
 "nbformat": 3,
 "nbformat_minor": 0,
 "worksheets": [
  {
   "cells": [
    {
     "cell_type": "heading",
     "level": 1,
     "metadata": {},
     "source": [
      "8: X-rays"
     ]
    },
    {
     "cell_type": "heading",
     "level": 2,
     "metadata": {},
     "source": [
      "Example number 8.1, Page number 197"
     ]
    },
    {
     "cell_type": "code",
     "collapsed": false,
     "input": [
      "#importing modules\n",
      "import math\n",
      "from __future__ import division\n",
      "\n",
      "#Variable declaration\n",
      "d=4.255;     #atomic spacing(angstrom)\n",
      "lamda=1.549;   #wavelength of K-copper line(angstrom) \n",
      "n=1;    #theta is smallest when n=1\n",
      "\n",
      "\n",
      "#Calculation\n",
      "theta=math.asin(lamda/(2*d));   #glancing angle(radian)\n",
      "theta=theta*(180/math.pi);      #glancing angle(degrees)\n",
      "#max value of sin(theta)=1 for highest order\n",
      "nmax=((2*d)/lamda);   #highest bragg's order\n",
      "\n",
      "\n",
      "#Result\n",
      "print \"smallest glancing angle is\",round(theta,4),\"degrees\"\n",
      "print \"maximum order of reflection is\",round(nmax,3)"
     ],
     "language": "python",
     "metadata": {},
     "outputs": [
      {
       "output_type": "stream",
       "stream": "stdout",
       "text": [
        "smallest glancing angle is 10.4875 degrees\n",
        "maximum order of reflection is 5.494\n"
       ]
      }
     ],
     "prompt_number": 3
    },
    {
     "cell_type": "heading",
     "level": 2,
     "metadata": {},
     "source": [
      "Example number 8.2, Page number 197"
     ]
    },
    {
     "cell_type": "code",
     "collapsed": false,
     "input": [
      "#importing modules\n",
      "import math\n",
      "from __future__ import division\n",
      "\n",
      "#Variable declaration\n",
      "V=60*10**3;     #potential difference(volts)\n",
      "c=3*10**8;     #velocity of light(m/sec)\n",
      "e=1.6*10**-19;  #electron charge(coulomb)\n",
      "lamda=0.194*10**-10;  #minimum wavelength of x-rays(m)\n",
      "\n",
      "#Calculation\n",
      "h=(lamda*e*V)/c;    #planck's constant(Jsec)\n",
      "\n",
      "#Result\n",
      "print \"planck's constant is\",h,\"Jsec\""
     ],
     "language": "python",
     "metadata": {},
     "outputs": [
      {
       "output_type": "stream",
       "stream": "stdout",
       "text": [
        "planck's constant is 6.208e-34 Jsec\n"
       ]
      }
     ],
     "prompt_number": 4
    },
    {
     "cell_type": "heading",
     "level": 2,
     "metadata": {},
     "source": [
      "Example number 8.3, Page number 198"
     ]
    },
    {
     "cell_type": "code",
     "collapsed": false,
     "input": [
      "#importing modules\n",
      "import math\n",
      "from __future__ import division\n",
      "\n",
      "#Variable declaration\n",
      "#for 110 plane\n",
      "h=1;\n",
      "k=1;\n",
      "l=0;\n",
      "a=3;   #lattice parameter(angstrom)\n",
      "n=1;\n",
      "theta=12.5;    #glancing angle(degrees)\n",
      "\n",
      "#Calculation\n",
      "theta1=theta*(math.pi/180);  #glancing angle(radian)\n",
      "d110=(a/math.sqrt((h**2)+(k**2)+(l**2)));   \n",
      "lamda=2*d110*math.sin(theta1)/n;   #wavelength of x-ray(angstrom)\n",
      "nmax=((2*d110)/lamda);    #highest order possible\n",
      "\n",
      "#Result\n",
      "print \"wavelength of x-ray beam is\",round(lamda,3),\"angstrom\"\n",
      "print \"highest bragg's order possible is\",int(nmax)"
     ],
     "language": "python",
     "metadata": {},
     "outputs": [
      {
       "output_type": "stream",
       "stream": "stdout",
       "text": [
        "wavelength of x-ray beam is 0.918 angstrom\n",
        "highest bragg's order possible is 4\n"
       ]
      }
     ],
     "prompt_number": 11
    },
    {
     "cell_type": "heading",
     "level": 2,
     "metadata": {},
     "source": [
      "Example number 8.4, Page number 198"
     ]
    },
    {
     "cell_type": "code",
     "collapsed": false,
     "input": [
      "#importing modules\n",
      "import math\n",
      "from __future__ import division\n",
      "\n",
      "#Variable declaration\n",
      "d=2.81*10**-10;     #interplanar spacing(m)\n",
      "theta=14;   #glancing angle(degrees) \n",
      "e=1.6*10**-19;   #electron charge(c)\n",
      "V=9100;    #voltage(V)\n",
      "n=1;\n",
      "c=3*10**8;   #velocity of light(m/sec)\n",
      "\n",
      "#Calculation\n",
      "theta=theta*(math.pi/180);  #glancing angle(radian)\n",
      "lamda=2*d*math.sin(theta)/n;   #minimum wavelength\n",
      "h=(lamda*e*V)/c;        #planck's constant(Jsec)\n",
      "\n",
      "#Result\n",
      "print \"planck's constant is\",round(h*10**34,4),\"*10**-34 Jsec\""
     ],
     "language": "python",
     "metadata": {},
     "outputs": [
      {
       "output_type": "stream",
       "stream": "stdout",
       "text": [
        "planck's constant is 6.5986 *10**-34 Jsec\n"
       ]
      }
     ],
     "prompt_number": 3
    },
    {
     "cell_type": "heading",
     "level": 2,
     "metadata": {},
     "source": [
      "Example number 8.5, Page number 198"
     ]
    },
    {
     "cell_type": "code",
     "collapsed": false,
     "input": [
      "#importing modules\n",
      "import math\n",
      "from __future__ import division\n",
      "\n",
      "#Variable declaration\n",
      "thetaA=30;     #glancing angle for line A(degrees)\n",
      "lamdaB=0.97;    #wavelength of line B(angstrom)\n",
      "thetaB=60;     #glancing angle for line B(degrees)\n",
      "\n",
      "#Calculation\n",
      "#for line A-> 2*d*sin(thetaA)=lamdaA(n=1)\n",
      "thetaA=thetaA*(math.pi/180);  #glancing angle for line A(radian)\n",
      "#for line B-> 2*d*sin(thetaB)=3*lamdaB(n=3)\n",
      "thetaB=thetaB*(math.pi/180);  #glancing angle for line B(radian) \n",
      "d=(3*lamdaB)/(2*math.sin(thetaB));    #interplanar spacing(angstrom)\n",
      "lamdaA=2*d*math.sin(thetaA);   #wavelength of line A(angstrom)\n",
      "\n",
      "#Result\n",
      "print \"wavelength of line A is\",round(lamdaA,2),\"angstrom\""
     ],
     "language": "python",
     "metadata": {},
     "outputs": [
      {
       "output_type": "stream",
       "stream": "stdout",
       "text": [
        "wavelength of line A is 1.68 angstrom\n"
       ]
      }
     ],
     "prompt_number": 14
    },
    {
     "cell_type": "heading",
     "level": 2,
     "metadata": {},
     "source": [
      "Example number 8.6, Page number 199"
     ]
    },
    {
     "cell_type": "code",
     "collapsed": false,
     "input": [
      "#importing modules\n",
      "import math\n",
      "from __future__ import division\n",
      "\n",
      "#Variable declaration\n",
      "a=3.615;    #lattice constant(angstrom)\n",
      "h=1;\n",
      "k=1;\n",
      "l=1;\n",
      "theta=21.7;   #glancing angle(degrees)\n",
      "\n",
      "#Calculation\n",
      "d111=a/math.sqrt(h**2+k**2+l**2);   #interplanar spacing(angstrom)\n",
      "theta=theta*(math.pi/180);   #glancing angle(radian)\n",
      "lamda=2*d111*math.sin(theta);   #wavelength of X-rays(angstrom)\n",
      "\n",
      "#Result\n",
      "print \"wavelength of X-rays is\",round(lamda,3),\"angstrom\""
     ],
     "language": "python",
     "metadata": {},
     "outputs": [
      {
       "output_type": "stream",
       "stream": "stdout",
       "text": [
        "wavelength of X-rays is 1.543 angstrom\n"
       ]
      }
     ],
     "prompt_number": 16
    },
    {
     "cell_type": "heading",
     "level": 2,
     "metadata": {},
     "source": [
      "Example number 8.7, Page number 199"
     ]
    },
    {
     "cell_type": "code",
     "collapsed": false,
     "input": [
      "#importing modules\n",
      "import math\n",
      "from __future__ import division\n",
      "\n",
      "#Variable declaration\n",
      "V=50*10**3;   #voltage(V)\n",
      "n=4;    #FCC crystal\n",
      "m=74.6;  #molecular mass(kg)\n",
      "N=6.02*10**26;    #avagadro number(per kg mol)\n",
      "rho=1.99*10**3;   #density(kg/m**3) \n",
      "\n",
      "#Calculation\n",
      "lamda=(12400/V);   #short wavelength(angstrom)\n",
      "a=(((n*m)/(N*rho))**(1/3));   #lattice constant(m)\n",
      "#for kcl ionic crystal\n",
      "d=a/2;\n",
      "sintheta=lamda*10**-10/(2*d);   #value of sintheta\n",
      "theta=math.asin(sintheta);    #glancing angle(radian)\n",
      "theta=theta*(180/math.pi);      #glancing angle(degrees)\n",
      "\n",
      "#Result\n",
      "print \"short wavelength of spectrum from tube is\",lamda,\"angstrom\"\n",
      "print \"glancing angle for that wavelength is\",round(theta,4),\"degrees\""
     ],
     "language": "python",
     "metadata": {},
     "outputs": [
      {
       "output_type": "stream",
       "stream": "stdout",
       "text": [
        "short wavelength of spectrum from tube is 0.248 angstrom\n",
        "glancing angle for that wavelength is 2.2589 degrees\n"
       ]
      }
     ],
     "prompt_number": 28
    },
    {
     "cell_type": "heading",
     "level": 2,
     "metadata": {},
     "source": [
      "Example number 8.8, Page number 199"
     ]
    },
    {
     "cell_type": "code",
     "collapsed": false,
     "input": [
      "#importing modules\n",
      "import math\n",
      "from __future__ import division\n",
      "\n",
      "#Variable declaration\n",
      "theta1=5.4;    #glancing angle(degrees)\n",
      "theta2=7.6;    #glancing angle(degrees)\n",
      "theta3=9.4;    #glancing angle(degrees) \n",
      "\n",
      "#Calculation\n",
      "#from bragg's law 2*d*sin(theta)=n*lamda, n=1\n",
      "theta1=theta1*(math.pi/180);   #glancing angle(radian)\n",
      "theta2=theta2*(math.pi/180);   #glancing angle(radian)\n",
      "theta3=theta3*(math.pi/180);   #glancing angle(radian)\n",
      "d100=lamda/2*math.sin(theta1);  #interplanar spacing\n",
      "d110=lamda/2*math.sin(theta2);  #interplanar spacing\n",
      "d111=lamda/2*math.sin(theta3);  #interplanar spacing\n",
      "\n",
      "#Result\n",
      "print \"ratio of interplanar spacing (1/d100):(1/d110):(1/d111)=\",round(math.sin(theta1),4),\":\",round(math.sin(theta2),4),\":\",round(math.sin(theta3),4)\n",
      "print \"as ratio (1/d100):(1/d110):(1/d111)=1:sqrt(2):sqrt(3). this relation is valid for simple cubic systems. therefore, this is a simple cubic crystal\""
     ],
     "language": "python",
     "metadata": {},
     "outputs": [
      {
       "output_type": "stream",
       "stream": "stdout",
       "text": [
        "ratio of interplanar spacing (1/d100):(1/d110):(1/d111)= 0.0941 : 0.1323 : 0.1633\n",
        "as ratio (1/d100):(1/d110):(1/d111)=1:sqrt(2):sqrt(3). this relation is valid for simple cubic systems. therefore, this is a simple cubic crystal\n"
       ]
      }
     ],
     "prompt_number": 34
    }
   ],
   "metadata": {}
  }
 ]
}