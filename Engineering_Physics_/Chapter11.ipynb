{
 "metadata": {
  "name": "",
  "signature": "sha256:6e57ef3dccc3c7eb94a4d9debf60856f056a841840d4cb2d77b1c0cffbc72c7b"
 },
 "nbformat": 3,
 "nbformat_minor": 0,
 "worksheets": [
  {
   "cells": [
    {
     "cell_type": "heading",
     "level": 1,
     "metadata": {},
     "source": [
      "11: Laser, holography and Fibre optics"
     ]
    },
    {
     "cell_type": "heading",
     "level": 2,
     "metadata": {},
     "source": [
      "Example number 11.1, Page number 317"
     ]
    },
    {
     "cell_type": "code",
     "collapsed": false,
     "input": [
      "#importing modules\n",
      "import math\n",
      "from __future__ import division\n",
      "\n",
      "#Variable declaration\n",
      "n1=1.53;   #refractive index of core\n",
      "n2=1.5;    #refractive index of cladding\n",
      "lamda=1*10**-6;   #wavelength(m)\n",
      "a=50*10**-6;    #core radius(m)\n",
      "\n",
      "#Calculation\n",
      "NA=math.sqrt((n1**2)-(n2**2));   #numerical aperture(m)\n",
      "V=((2*math.pi*a)*NA)/lamda;      #normalised frequency\n",
      "M=(V**2)/2;    #number of guided mode\n",
      "\n",
      "#Result\n",
      "print \"normalised frequency is\",round(V,2)\n",
      "print \"number of guided mode is\",round(M)"
     ],
     "language": "python",
     "metadata": {},
     "outputs": [
      {
       "output_type": "stream",
       "stream": "stdout",
       "text": [
        "normalised frequency is 94.72\n",
        "number of guided mode is 4486.0\n"
       ]
      }
     ],
     "prompt_number": 4
    },
    {
     "cell_type": "heading",
     "level": 2,
     "metadata": {},
     "source": [
      "Example number 11.2, Page number 317"
     ]
    },
    {
     "cell_type": "code",
     "collapsed": false,
     "input": [
      "#importing modules\n",
      "import math\n",
      "from __future__ import division\n",
      "\n",
      "#Variable declaration\n",
      "n1=1.53;   #refractive index of core\n",
      "n2=1.5;    #refractive index of cladding\n",
      "lamda=1*10**-6;   #wavelength(m)\n",
      "\n",
      "#Calculation\n",
      "NA=math.sqrt((n1**2)-(n2**2));   #numerical aperture(m)\n",
      "a=(2.405*lamda)/(2*math.pi*NA);   #core radius(m)\n",
      "\n",
      "#Result\n",
      "print \"core radius is less than\",round(a*10**6,2),\"micro m\""
     ],
     "language": "python",
     "metadata": {},
     "outputs": [
      {
       "output_type": "stream",
       "stream": "stdout",
       "text": [
        "core radius is less than 1.27 micro m\n"
       ]
      }
     ],
     "prompt_number": 7
    },
    {
     "cell_type": "heading",
     "level": 2,
     "metadata": {},
     "source": [
      "Example number 11.3, Page number 317"
     ]
    },
    {
     "cell_type": "code",
     "collapsed": false,
     "input": [
      "#importing modules\n",
      "import math\n",
      "from __future__ import division\n",
      "\n",
      "#Variable declaration\n",
      "NA=0.5;    #numerical aperture(m)\n",
      "n1=1.54;   #refractive index of core\n",
      "\n",
      "#Calculation\n",
      "n2=math.sqrt((n1**2)-(NA**2));    #refractive index of cladding\n",
      "n=(n1-n2)/n1;     #change in core cladding refractive index\n",
      "\n",
      "#Result\n",
      "print \"refractive index of cladding is\",round(n2,4)\n",
      "print \"change in core cladding refractive index is\",round(n,4)"
     ],
     "language": "python",
     "metadata": {},
     "outputs": [
      {
       "output_type": "stream",
       "stream": "stdout",
       "text": [
        "refractive index of cladding is 1.4566\n",
        "change in core cladding refractive index is 0.0542\n"
       ]
      }
     ],
     "prompt_number": 11
    },
    {
     "cell_type": "heading",
     "level": 2,
     "metadata": {},
     "source": [
      "Example number 11.4, Page number 318"
     ]
    },
    {
     "cell_type": "code",
     "collapsed": false,
     "input": [
      "#importing modules\n",
      "import math\n",
      "from __future__ import division\n",
      "\n",
      "#Variable declaration\n",
      "NA=0.5;    #numerical aperture(m)\n",
      "n1=1.48;   #refractive index of core\n",
      "\n",
      "#Calculation\n",
      "n2=math.sqrt((n1**2)-(NA**2));    #refractive index of cladding\n",
      "alpha=math.asin(NA);     #acceptance angle(radian)\n",
      "alpha=alpha*(180/math.pi);     #acceptance angle(degrees)\n",
      "\n",
      "#Result\n",
      "print \"refractive index of cladding is\",round(n2,3)\n",
      "print \"acceptance angle is\",alpha,\"degrees\""
     ],
     "language": "python",
     "metadata": {},
     "outputs": [
      {
       "output_type": "stream",
       "stream": "stdout",
       "text": [
        "refractive index of cladding is 1.393\n",
        "acceptance angle is 30.0 degrees\n"
       ]
      }
     ],
     "prompt_number": 13
    }
   ],
   "metadata": {}
  }
 ]
}