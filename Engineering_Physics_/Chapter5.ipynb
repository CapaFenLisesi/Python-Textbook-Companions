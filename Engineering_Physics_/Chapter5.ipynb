{
 "metadata": {
  "name": "",
  "signature": "sha256:4126f9237f2a14d1c68d93136eb798698a28e20e098ed4ce42f02e377a8fbabb"
 },
 "nbformat": 3,
 "nbformat_minor": 0,
 "worksheets": [
  {
   "cells": [
    {
     "cell_type": "heading",
     "level": 1,
     "metadata": {},
     "source": [
      "5: Acoustics"
     ]
    },
    {
     "cell_type": "heading",
     "level": 2,
     "metadata": {},
     "source": [
      "Example number 5.1, Page number 97"
     ]
    },
    {
     "cell_type": "code",
     "collapsed": false,
     "input": [
      "#importing modules\n",
      "import math\n",
      "from __future__ import division\n",
      "\n",
      "#Variable declaration\n",
      "T1=1.5;     #R time for empty hall(s)\n",
      "T2=1;       #R time with curtain cloth(s)\n",
      "A=20;       #area of absorber(sq.m)\n",
      "V=10*8*6;   #volume of hall(cu.m)\n",
      "\n",
      "#Calculation\n",
      "a=((0.161*V)/(2*A))*((1/T2)-(1/T1));   #absorption coefficient\n",
      "\n",
      "#Result\n",
      "print \"absorption coefficient is\",round(a,2),\"Sabines\"\n",
      "print \"answer given in the book varies due to rounding off errors\""
     ],
     "language": "python",
     "metadata": {},
     "outputs": [
      {
       "output_type": "stream",
       "stream": "stdout",
       "text": [
        "absorption coefficient is 0.64 Sabines\n",
        "answer given in the book varies due to rounding off errors\n"
       ]
      }
     ],
     "prompt_number": 4
    },
    {
     "cell_type": "heading",
     "level": 2,
     "metadata": {},
     "source": [
      "Example number 5.2, Page number 97"
     ]
    },
    {
     "cell_type": "code",
     "collapsed": false,
     "input": [
      "#importing modules\n",
      "import math\n",
      "from __future__ import division\n",
      "\n",
      "#Variable declaration\n",
      "V=20*15*10;    #volume of hall(cu.m)\n",
      "T1=3.5;        #reverberation time(s)\n",
      "l=20;        \n",
      "b=15;\n",
      "h=10;      #dimensions of hall\n",
      "am=0.5;     #absorption coefficient\n",
      "T2=2.5;    #reverberation time after cloth use(s)\n",
      "\n",
      "\n",
      "#Calculation\n",
      "A=(0.161*V)/T1; \n",
      "S=2*((l*b)+(b*h)+(h*l));    #surface area(sq.m)\n",
      "sigma_a=A/S;   #average absorption coefficient of hall(o.w.u)\n",
      "S1=(((0.161*V)/(am-sigma_a))*((1/T2)-(1/T1)));     #area of wall covered by curtain cloth(sq.m)\n",
      "\n",
      "#Result\n",
      "print \"average absorption coefficient of hall is\",round(sigma_a,3),\"o.w.u\"\n",
      "print \"area of wall covered by curtain cloth is\",round(S1,3),\"sq.m\"\n",
      "print \"answer for area covered S1 varies due to rounding off errors\""
     ],
     "language": "python",
     "metadata": {},
     "outputs": [
      {
       "output_type": "stream",
       "stream": "stdout",
       "text": [
        "average absorption coefficient of hall is 0.106 o.w.u\n",
        "area of wall covered by curtain cloth is 140.156 sq.m\n",
        "answer for area covered S1 varies due to rounding off errors\n"
       ]
      }
     ],
     "prompt_number": 8
    },
    {
     "cell_type": "heading",
     "level": 2,
     "metadata": {},
     "source": [
      "Example number 5.3, Page number 98"
     ]
    },
    {
     "cell_type": "code",
     "collapsed": false,
     "input": [
      "#importing modules\n",
      "import math\n",
      "from __future__ import division\n",
      "\n",
      "#Variable declaration\n",
      "V=1450;    #volume of hall(cu.m)\n",
      "A1=112*0.03;   #absorption due to plastered wall\n",
      "A2=130*0.06;   #absorption due to wooden floor\n",
      "A3=170*0.04;   #absorption due to plastered ceiling\n",
      "A4=20*0.06;    #absorption due to wooden door\n",
      "A5=100*1;      #absorption due to cushioned chairs\n",
      "\n",
      "#Calculation\n",
      "sigma_as=A1+A2+A3+A4+A5;   #total absorption in empty hall\n",
      "T1=(0.161*V)/sigma_as;     #reverberation time case-1(s)\n",
      "T2=(0.161*V)/(sigma_as+(60*4.7));   #persons=60,A=4.7 case-2\n",
      "T3=(0.161*V)/(sigma_as+(100*4.7));  #seat cushioned=100 case-3\n",
      "\n",
      "#Result\n",
      "print \"reverberation time for case-1 is\",round(T1,3),\"sec\"\n",
      "print \"reverberation time for case-2 is\",round(T2,3),\"sec\"\n",
      "print \"reverberation time for case-3 is\",round(T3,3),\"sec\"\n",
      "print \"answer for T3 given in the book is wrong\""
     ],
     "language": "python",
     "metadata": {},
     "outputs": [
      {
       "output_type": "stream",
       "stream": "stdout",
       "text": [
        "reverberation time for case-1 is 1.959 sec\n",
        "reverberation time for case-2 is 0.582 sec\n",
        "reverberation time for case-3 is 0.396 sec\n",
        "answer for T3 given in the book is wrong\n"
       ]
      }
     ],
     "prompt_number": 12
    }
   ],
   "metadata": {}
  }
 ]
}