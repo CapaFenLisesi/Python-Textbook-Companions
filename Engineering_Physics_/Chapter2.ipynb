{
 "metadata": {
  "name": "",
  "signature": "sha256:a390c22e8bbeba1dfd4031b28f9e625838df0d3c214c564a212b1961eafc18f9"
 },
 "nbformat": 3,
 "nbformat_minor": 0,
 "worksheets": [
  {
   "cells": [
    {
     "cell_type": "heading",
     "level": 1,
     "metadata": {},
     "source": [
      "2: Thermoelectricity"
     ]
    },
    {
     "cell_type": "heading",
     "level": 1,
     "metadata": {},
     "source": [
      "Example number 2.1, Page number 54"
     ]
    },
    {
     "cell_type": "code",
     "collapsed": false,
     "input": [
      "#importing modules\n",
      "import math\n",
      "from __future__ import division\n",
      "\n",
      "#Variable declaration\n",
      "Tn=285;        #neutral temperature(C)\n",
      "Tc=-20;         #temperature at junction(C)\n",
      "\n",
      "#Calculation\n",
      "Ti=(2*Tn)-Tc;     #temperature of inversion(C)\n",
      "\n",
      "#Result\n",
      "print \"temperature of inversion is\",Ti,\"C\""
     ],
     "language": "python",
     "metadata": {},
     "outputs": [
      {
       "output_type": "stream",
       "stream": "stdout",
       "text": [
        "temperature of inversion is 590 C\n"
       ]
      }
     ],
     "prompt_number": 1
    },
    {
     "cell_type": "heading",
     "level": 2,
     "metadata": {},
     "source": [
      "Example number 2.2, Page number 54"
     ]
    },
    {
     "cell_type": "code",
     "collapsed": false,
     "input": [
      "#importing modules\n",
      "import math\n",
      "from __future__ import division\n",
      "\n",
      "#Variable declaration\n",
      "aFe=16.65;          #value of a of Fe\n",
      "bFe=-0.095;         #value of b of Fe\n",
      "aAg=2.86;           #value of a of Ag\n",
      "bAg=0.017;          #value of b of Ag\n",
      "t=100;              #temperature(C)\n",
      "\n",
      "#Calculation\n",
      "a=aFe-aAg;     #value of aFe_Ag\n",
      "b=bFe-bAg;     #value of bFe_Ag\n",
      "Tn=-a/b;    #neutral temperature(C)\n",
      "EFe_Ag=(a*t)+(0.5*b*t**2);      #thermo emf of thermocouple\n",
      "\n",
      "#Result\n",
      "print \"neutral temperature is\",Tn,\"C\"\n",
      "print \"thermo emf of thermocouple is\",EFe_Ag"
     ],
     "language": "python",
     "metadata": {},
     "outputs": [
      {
       "output_type": "stream",
       "stream": "stdout",
       "text": [
        "neutral temperature is 123.125 C\n",
        "thermo emf of thermocouple is 819.0\n"
       ]
      }
     ],
     "prompt_number": 2
    },
    {
     "cell_type": "heading",
     "level": 2,
     "metadata": {},
     "source": [
      "Example number 2.3, Page number 54"
     ]
    },
    {
     "cell_type": "code",
     "collapsed": false,
     "input": [
      "#importing modules\n",
      "import math\n",
      "from __future__ import division\n",
      "\n",
      "#Variable declaration\n",
      "#PFe=1734-4.87t\n",
      "#PCu=136+0.95t\n",
      "aFe_Pb=1734;\n",
      "bFe_Pb=-4.87;\n",
      "aCu_Pb=136;\n",
      "bCu_Pb=0.95\n",
      "\n",
      "#Calculation\n",
      "a=aFe_Pb-aCu_Pb;        #value of aFe_Cu\n",
      "b=bFe_Pb-bCu_Pb;        #value of bFe_Cu\n",
      "EFe_Cu=(a*t)+(0.5*b*t**2);       #thermo emf of thermocouple(microV)\n",
      "EFe_Cu=EFe_Cu*10**-6;            #thermo emf of thermocouple(V)\n",
      "\n",
      "#Result\n",
      "print \"thermo emf of thermocouple is\",EFe_Cu,\"V\""
     ],
     "language": "python",
     "metadata": {},
     "outputs": [
      {
       "output_type": "stream",
       "stream": "stdout",
       "text": [
        "thermo emf of thermocouple is 0.1307 V\n"
       ]
      }
     ],
     "prompt_number": 3
    }
   ],
   "metadata": {}
  }
 ]
}