{
 "metadata": {
  "name": ""
 },
 "nbformat": 3,
 "nbformat_minor": 0,
 "worksheets": [
  {
   "cells": [
    {
     "cell_type": "markdown",
     "metadata": {},
     "source": [
      "<h1> Chpater No 6: DIGITAL MODULATION TECHNIQUES<h1>"
     ]
    },
    {
     "cell_type": "heading",
     "level": 2,
     "metadata": {},
     "source": [
      "Example 6.5, Page No 327"
     ]
    },
    {
     "cell_type": "code",
     "collapsed": false,
     "input": [
      "import math \n",
      "#Symbol rate of transmission and bandwidth \n",
      "\n",
      "#initialisation of variables\n",
      "fb=1.0                #MHz\n",
      "Tb=1/fb               #bit period ms\n",
      "N=4\n",
      "\n",
      "#CALCULATIONS\n",
      "Ts1=Tb\n",
      "Bw1=2*fb\n",
      "Ts2=Tb*2\n",
      "Tr2=(1.0/2)*1000          #Symbols/sec\n",
      "Bw2=1/Tb\n",
      "Ts3=N*Tb\n",
      "Tr3=(1.0/4)*1000\n",
      "Bw3=(2.0*fb)/N\n",
      "\n",
      "#RESULTS\n",
      "print(\"In BPSK\")\n",
      "print(\"The symbol rate of transmission is = %.f X 10^6 symbol/sec \" %Ts1)\n",
      "print(\"The Bandwidth is = %.f MHz \" %Bw1)\n",
      "print(\"In QPSK\")\n",
      "print(\"The symbol rate of transmission is = %.f X 10^3 symbol/sec \" %Tr2)\n",
      "print(\"The Bandwidth is = %.f MHz \" %Bw2)\n",
      "print(\"In 16-ary PSK\")\n",
      "print(\"The symbol rate of transmission is = %.f X 10^3 symbol/sec \" %Tr3)\n",
      "print(\"The Bandwidth is = %.f kHz \" %(Bw3*1000))\n",
      "\n"
     ],
     "language": "python",
     "metadata": {},
     "outputs": [
      {
       "output_type": "stream",
       "stream": "stdout",
       "text": [
        "In BPSK\n",
        "The symbol rate of transmission is = 1 X 10^6 symbol/sec \n",
        "The Bandwidth is = 2 MHz \n",
        "In QPSK\n",
        "The symbol rate of transmission is = 500 X 10^3 symbol/sec \n",
        "The Bandwidth is = 1 MHz \n",
        "In 16-ary PSK\n",
        "The symbol rate of transmission is = 250 X 10^3 symbol/sec \n",
        "The Bandwidth is = 500 kHz \n"
       ]
      }
     ],
     "prompt_number": 1
    },
    {
     "cell_type": "heading",
     "level": 2,
     "metadata": {},
     "source": [
      "Example 6.6, Page No 328"
     ]
    },
    {
     "cell_type": "code",
     "collapsed": false,
     "input": [
      "import math\n",
      "\n",
      "#initialisation of variables\n",
      "fb=90              #MHz\n",
      "Bw=20              #Mb/s\n",
      "\n",
      "#CALCULATIONS\n",
      "N=(2*fb)/Bw\n",
      "\n",
      "#RESULTS\n",
      "print(\"Number of bits required = %.f \" %N)\n",
      "\n"
     ],
     "language": "python",
     "metadata": {},
     "outputs": [
      {
       "output_type": "stream",
       "stream": "stdout",
       "text": [
        "Number of bits required = 9 \n"
       ]
      }
     ],
     "prompt_number": 2
    },
    {
     "cell_type": "heading",
     "level": 2,
     "metadata": {},
     "source": [
      "Example 6.12, Page No 357"
     ]
    },
    {
     "cell_type": "code",
     "collapsed": false,
     "input": [
      "import math\n",
      "\n",
      "#initialisation of variables\n",
      "Tb=0.1          #msec\n",
      "\n",
      "#CALCULATIONS\n",
      "fb=1/Tb\n",
      "\n",
      "#RESULTS\n",
      "print(\"Transmission bandwidth = %.f kHz\" %fb)"
     ],
     "language": "python",
     "metadata": {},
     "outputs": [
      {
       "output_type": "stream",
       "stream": "stdout",
       "text": [
        "Transmission bandwidth = 10 kHz\n"
       ]
      }
     ],
     "prompt_number": 3
    }
   ],
   "metadata": {}
  }
 ]
}