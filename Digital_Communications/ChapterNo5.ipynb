{
 "metadata": {
  "name": ""
 },
 "nbformat": 3,
 "nbformat_minor": 0,
 "worksheets": [
  {
   "cells": [
    {
     "cell_type": "markdown",
     "metadata": {},
     "source": [
      "<h1> Chpater No 5: DIGTIAL BASEBAND TRANSMISSION<h1>"
     ]
    },
    {
     "cell_type": "heading",
     "level": 2,
     "metadata": {},
     "source": [
      "Example 5.12, Page No 249 "
     ]
    },
    {
     "cell_type": "code",
     "collapsed": false,
     "input": [
      "#Find The roll of factor alpha\n",
      "\n",
      "#initialisation of variables\n",
      "datarate=0.1*10**6\n",
      "fB=75000.0 #bandwidth\n",
      "\n",
      "#CALCULATIONS\n",
      "Tb=1/datarate\n",
      "alpha=2*fB*Tb-1\n",
      "\n",
      "#RESULTS\n",
      "print('The roll out factor alpha =  = %.1f ' %alpha)\n",
      "\n"
     ],
     "language": "python",
     "metadata": {},
     "outputs": [
      {
       "output_type": "stream",
       "stream": "stdout",
       "text": [
        "The roll out factor alpha =  = 0.5 \n"
       ]
      }
     ],
     "prompt_number": 1
    },
    {
     "cell_type": "heading",
     "level": 2,
     "metadata": {},
     "source": [
      "Example 5.13, Page No 249"
     ]
    },
    {
     "cell_type": "code",
     "collapsed": false,
     "input": [
      "import math\n",
      "#Find The Transmission bandwidth\n",
      "\n",
      "#initialisation of variables\n",
      "q=128.0\n",
      "alpha=0.2\n",
      "n=math.log(q,2)\n",
      "fm=2000.0\n",
      "\n",
      "#CALCULATIONS\n",
      "Nq=2*fm\n",
      "fs=1.25*Nq\n",
      "N=8.0\n",
      "total=N*fs\n",
      "bitrate=7*total\n",
      "fB=((1+alpha)*bitrate)/2\n",
      "fB=fB/1000\n",
      "#RESULTS\n",
      "print('The minimum transmission Bandwidth required = %.f kHz' %fB)"
     ],
     "language": "python",
     "metadata": {},
     "outputs": [
      {
       "output_type": "stream",
       "stream": "stdout",
       "text": [
        "The minimum transmission Bandwidth required = 168 kHz\n"
       ]
      }
     ],
     "prompt_number": 2
    }
   ],
   "metadata": {}
  }
 ]
}