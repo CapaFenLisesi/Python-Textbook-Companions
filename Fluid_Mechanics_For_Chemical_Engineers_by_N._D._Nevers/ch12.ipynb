{
 "cells": [
  {
   "cell_type": "markdown",
   "metadata": {},
   "source": [
    "# Chapter 12 : Gas liquid flow"
   ]
  },
  {
   "cell_type": "markdown",
   "metadata": {},
   "source": [
    "### Example 12.1 page no : 421"
   ]
  },
  {
   "cell_type": "code",
   "execution_count": 1,
   "metadata": {
    "collapsed": false
   },
   "outputs": [
    {
     "name": "stdout",
     "output_type": "stream",
     "text": [
      "Eta = 0.740741\n",
      "\n",
      "The slip velocity is 19.864286 ft/s\n"
     ]
    }
   ],
   "source": [
    "#Calculate the eta and slip velocity\n",
    "\n",
    "# variables\n",
    "ratio_Q=10.                          #dimentionless (ratio of Qg to Ql)\n",
    "Vl=2.06                              #ft/s\n",
    "\n",
    "# calculation\n",
    "x=3.5/ratio_Q                        #dimentionless\n",
    "eta=1.0/(1+x)                        #dimentionless\n",
    "Vl_avg=Vl/(1-eta)                    #ft/s\n",
    "Vg_avg=ratio_Q*Vl/eta                #ft/s\n",
    "V_slip=Vg_avg-Vl_avg                 #ft/s\n",
    "\n",
    "# result\n",
    "print \"Eta = %f\\n\"%eta\n",
    "print \"The slip velocity is %f ft/s\"%V_slip"
   ]
  },
  {
   "cell_type": "code",
   "execution_count": null,
   "metadata": {
    "collapsed": true
   },
   "outputs": [],
   "source": []
  }
 ],
 "metadata": {
  "kernelspec": {
   "display_name": "Python 2",
   "language": "python",
   "name": "python2"
  },
  "language_info": {
   "codemirror_mode": {
    "name": "ipython",
    "version": 2
   },
   "file_extension": ".py",
   "mimetype": "text/x-python",
   "name": "python",
   "nbconvert_exporter": "python",
   "pygments_lexer": "ipython2",
   "version": "2.7.6"
  }
 },
 "nbformat": 4,
 "nbformat_minor": 0
}
