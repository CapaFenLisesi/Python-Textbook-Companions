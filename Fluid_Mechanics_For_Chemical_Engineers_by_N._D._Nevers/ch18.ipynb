{
 "metadata": {
  "name": ""
 },
 "nbformat": 3,
 "nbformat_minor": 0,
 "worksheets": [
  {
   "cells": [
    {
     "cell_type": "heading",
     "level": 1,
     "metadata": {},
     "source": [
      "Chapter 18 : Turbulence"
     ]
    },
    {
     "cell_type": "heading",
     "level": 3,
     "metadata": {},
     "source": [
      "Example 18.2 page no : 549\n"
     ]
    },
    {
     "cell_type": "code",
     "collapsed": false,
     "input": [
      "#Calculate the energy per unit mass and heat dissipation rate\n",
      "\n",
      "#variables\n",
      "v=0.82                             #m/s\n",
      "energy_per_unit_mass=v**2/2.0      #J/Kg\n",
      "\n",
      "# calculation\n",
      "#Let dissipation rate be denoted by eta\n",
      "#Let D denote d/dL\n",
      "DP=0.0286                          #Pa/m\n",
      "rho=1.2                           #Kg/m^3\n",
      "eta=DP*v/rho                      #m^2/s^3 or J/Kg/s\n",
      "\n",
      "# result\n",
      "print \"The energy per unit mass is %f J/Kg\\n\"%energy_per_unit_mass\n",
      "print \"The heat dissipation rate is %f J/Kg/s\"%eta"
     ],
     "language": "python",
     "metadata": {},
     "outputs": [
      {
       "output_type": "stream",
       "stream": "stdout",
       "text": [
        "The energy per unit mass is 0.336200 J/Kg\n",
        "\n",
        "The heat dissipation rate is 0.019543 J/Kg/s\n"
       ]
      }
     ],
     "prompt_number": 1
    },
    {
     "cell_type": "heading",
     "level": 3,
     "metadata": {},
     "source": [
      "Example 18.3 page no : 550\n"
     ]
    },
    {
     "cell_type": "code",
     "collapsed": false,
     "input": [
      "#Calculate the value of k\n",
      "\n",
      "# variables\n",
      "Vx_rms=9.5                            #cm/s\n",
      "Vy_rms=5.0                            #cm/s\n",
      "\n",
      "# calculation\n",
      "k=(1/2.0)*((Vx_rms/100.0)**2+(Vy_rms/100.0)**2)                #J/Kg\n",
      "\n",
      "# result\n",
      "print \"k = %f J/Kg\"%k"
     ],
     "language": "python",
     "metadata": {},
     "outputs": [
      {
       "output_type": "stream",
       "stream": "stdout",
       "text": [
        "k = 0.005763 J/Kg\n"
       ]
      }
     ],
     "prompt_number": 7
    },
    {
     "cell_type": "heading",
     "level": 3,
     "metadata": {},
     "source": [
      "Example 18.4 page no : 551\n"
     ]
    },
    {
     "cell_type": "code",
     "collapsed": false,
     "input": [
      "#Calculate the Kolmogorov scale\n",
      "\n",
      "# variables\n",
      "v=1.613*10**(-4)                        #ft^2/s\n",
      "eta=0.21                                #ft^2/s^3\n",
      "\n",
      "# calculations\n",
      "kolmogorov_scale=(v**3/eta)**0.25       #ft\n",
      "\n",
      "# result\n",
      "print \"The Kolmogorov scale is %f ft\"%kolmogorov_scale"
     ],
     "language": "python",
     "metadata": {},
     "outputs": [
      {
       "output_type": "stream",
       "stream": "stdout",
       "text": [
        "The Kolmogorov scale is 0.002114 ft\n"
       ]
      }
     ],
     "prompt_number": 8
    },
    {
     "cell_type": "heading",
     "level": 3,
     "metadata": {},
     "source": [
      "Example 18.7 page no : 557\n"
     ]
    },
    {
     "cell_type": "code",
     "collapsed": false,
     "input": [
      "#Calculate the value of turbulent kinematic viscosity\n",
      "\n",
      "# variables\n",
      "K=0.00576                               #m^2/s^2\n",
      "eta=0.0196                              #m^2/s^3\n",
      "C_mew=0.09                              #dimentionless\n",
      "\n",
      "# declarations\n",
      "v_t=C_mew*(0.00576)**2/(0.0196)         #m^2/s\n",
      "\n",
      "# results\n",
      "print \"The value of turbulent kinematic viscosity is %f m^2/s\"%v_t"
     ],
     "language": "python",
     "metadata": {},
     "outputs": [
      {
       "output_type": "stream",
       "stream": "stdout",
       "text": [
        "The value of turbulent kinematic viscosity is 0.000152 m^2/s\n"
       ]
      }
     ],
     "prompt_number": 2
    }
   ],
   "metadata": {}
  }
 ]
}