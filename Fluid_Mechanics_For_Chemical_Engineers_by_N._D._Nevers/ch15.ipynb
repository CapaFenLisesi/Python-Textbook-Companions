{
 "metadata": {
  "name": ""
 },
 "nbformat": 3,
 "nbformat_minor": 0,
 "worksheets": [
  {
   "cells": [
    {
     "cell_type": "heading",
     "level": 1,
     "metadata": {},
     "source": [
      "Chapter 15 : Two and three dimentional fluid mechanics"
     ]
    },
    {
     "cell_type": "heading",
     "level": 3,
     "metadata": {},
     "source": [
      "\n",
      "Example 15.4 page no : 474\n"
     ]
    },
    {
     "cell_type": "code",
     "collapsed": false,
     "input": [
      "#Calculate the time taken by water in a long pipe to reach its steady state velocity\n",
      "#let (new)*t/r0^2 be denoted by y\n",
      "\n",
      "# variables\n",
      "y=0.05                         #dimentionless\n",
      "r0=0.077                       #m\n",
      "mew=1                          #Pa.s\n",
      "rho=1000.0                     #Kg/m^3\n",
      "\n",
      "# calculations\n",
      "new=mew/rho                    #m^2/s\n",
      "t=y*r0**2/new                  #s\n",
      "\n",
      "# results\n",
      "print \"the time taken by water in a long pipe to reach its steady state velocity is % f seconds\"%t"
     ],
     "language": "python",
     "metadata": {},
     "outputs": [
      {
       "output_type": "stream",
       "stream": "stdout",
       "text": [
        "the time taken by water in a long pipe to reach its steady state velocity is  0.296450 seconds\n"
       ]
      }
     ],
     "prompt_number": 1
    }
   ],
   "metadata": {}
  }
 ]
}