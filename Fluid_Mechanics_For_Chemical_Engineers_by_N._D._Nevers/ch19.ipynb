{
 "metadata": {
  "name": ""
 },
 "nbformat": 3,
 "nbformat_minor": 0,
 "worksheets": [
  {
   "cells": [
    {
     "cell_type": "heading",
     "level": 1,
     "metadata": {},
     "source": [
      "Chapter 19 : Mixing"
     ]
    },
    {
     "cell_type": "heading",
     "level": 3,
     "metadata": {},
     "source": [
      "Example 19.1 page no : 563\n"
     ]
    },
    {
     "cell_type": "code",
     "collapsed": false,
     "input": [
      "#Calculate the time required for mixing\n",
      "\n",
      "# variables\n",
      "L=10**(-6)                             #m\n",
      "D=1.2*10**(-9)                         #m**2/s\n",
      "\n",
      "# calculation\n",
      "t=2*L**2/D                             #s\n",
      "\n",
      "# result\n",
      "print \"The time required for mixing is %f seconds\"%t"
     ],
     "language": "python",
     "metadata": {},
     "outputs": [
      {
       "output_type": "stream",
       "stream": "stdout",
       "text": [
        "The time required for mixing is 0.001667 seconds\n"
       ]
      }
     ],
     "prompt_number": 1
    },
    {
     "cell_type": "heading",
     "level": 3,
     "metadata": {},
     "source": [
      "Example 19.2 page no : 567\n"
     ]
    },
    {
     "cell_type": "code",
     "collapsed": false,
     "input": [
      "#Calculate the power required to run an impeller\n",
      "\n",
      "# variables\n",
      "D_tank=3.                        #ft\n",
      "D_impeller=D_tank/3              #ft\n",
      "N=4.                             #rps\n",
      "v=1.077*10**(-5)                 #ft**2/s\n",
      "\n",
      "# calculation\n",
      "R_impeller=N*D_impeller**2       #dimentionless (reynold's number)\n",
      "#1 lbf.s**2 = 32.2 lbm.ft\n",
      "#1 hp.s = 550 lbf.ft\n",
      "rho_water=62.3                   #lbm/ft**3\n",
      "P=5*rho_water*N**3*D_impeller**5/32.2/550.0         #hp\n",
      "\n",
      "# result\n",
      "print \"The power required to run an impeller is %.2f hp\"%P"
     ],
     "language": "python",
     "metadata": {},
     "outputs": [
      {
       "output_type": "stream",
       "stream": "stdout",
       "text": [
        "The power required to run an impeller is 1.13 hp\n"
       ]
      }
     ],
     "prompt_number": 2
    },
    {
     "cell_type": "heading",
     "level": 3,
     "metadata": {},
     "source": [
      "Example 19.3 page no : 567\n"
     ]
    },
    {
     "cell_type": "code",
     "collapsed": false,
     "input": [
      "#Calculate the impeller speed in a model of a large mixer if the power per unit volume remains the same\n",
      "\n",
      "# variables\n",
      "#let D1/D2 be denoted by ratio_D\n",
      "ratio_D=5.                     #dimentionless\n",
      "N2=240.                        #rpm\n",
      "\n",
      "# calculation\n",
      "N1=N2/ratio_D**(2/3.)          #rpm\n",
      "\n",
      "# result\n",
      "print \"the impeller speed in a model of a large mixer if the power per unit volume remains the same is %d rpm\"%N1"
     ],
     "language": "python",
     "metadata": {},
     "outputs": [
      {
       "output_type": "stream",
       "stream": "stdout",
       "text": [
        "the impeller speed in a model of a large mixer if the power per unit volume remains the same is 82 rpm\n"
       ]
      }
     ],
     "prompt_number": 4
    },
    {
     "cell_type": "heading",
     "level": 3,
     "metadata": {},
     "source": [
      "Example 19.4 page no : 569\n"
     ]
    },
    {
     "cell_type": "code",
     "collapsed": false,
     "input": [
      "#Calculate the time required to blend two miscible, low viscosity liquids\n",
      "\n",
      "# variables\n",
      "D_tank=3.                        #ft\n",
      "D_impeller=D_tank/3              #ft\n",
      "H_tank=D_tank                    #ft\n",
      "N=4.0                            #rps\n",
      "\n",
      "# calculation\n",
      "t_blend=4.3*(D_tank/H_tank)*(D_tank/D_impeller)**2/N       #s\n",
      "\n",
      "# result\n",
      "print \"the time required to blend two miscible, low viscosity liquids is %.1f s\"%t_blend"
     ],
     "language": "python",
     "metadata": {},
     "outputs": [
      {
       "output_type": "stream",
       "stream": "stdout",
       "text": [
        "the time required to blend two miscible, low viscosity liquids is 9.7 s\n"
       ]
      }
     ],
     "prompt_number": 5
    },
    {
     "cell_type": "heading",
     "level": 3,
     "metadata": {},
     "source": [
      "Example 19.5 page no : 570\n"
     ]
    },
    {
     "cell_type": "code",
     "collapsed": false,
     "input": [
      "#Calculate how far is the concentration of 0.1% from initial interface and the volume mixed\n",
      "\n",
      "# variables\n",
      "c=0.1                         #percent\n",
      "c_interface=50.               #percent\n",
      "c_original=0.                 #percent\n",
      "ratio_c=(c-c_interface)/(c_original-c_interface)              #dimentionless\n",
      "\n",
      "# calculations\n",
      "#erf(0.998)=2.15\n",
      "#time required forfluid to travel 700 miles at 8ft/s is 4.57*10**5 sec\n",
      "t=4.57*10**5                  #s\n",
      "D=2*10**(-9)                  #m**2/s\n",
      "x=2*2.15*(D*t)**0.5           #m\n",
      "print \"x=%.2f m\"%x\n",
      "v0=0.355                      #ft**3 of liquid/ft of pipe\n",
      "#1 m = 3.281 ft\n",
      "V_mixed=2*(3.281*x)*v0        #ft**3\n",
      "\n",
      "# result\n",
      "print \"The mixed volume is %.2f ft**3\"%V_mixed"
     ],
     "language": "python",
     "metadata": {},
     "outputs": [
      {
       "output_type": "stream",
       "stream": "stdout",
       "text": [
        "x=0.13 m\n",
        "The mixed volume is 0.30 ft**3\n"
       ]
      }
     ],
     "prompt_number": 1
    },
    {
     "cell_type": "heading",
     "level": 3,
     "metadata": {},
     "source": [
      "Example 19.6 page no : 571\n"
     ]
    },
    {
     "cell_type": "code",
     "collapsed": false,
     "input": [
      "#Calculate how far is the concentration of 0.1% from initial interface and the volume mixed\n",
      "\n",
      "# variables\n",
      "v=8.                                   #ft/s\n",
      "f=0.0039                               #dimentionless (fanning friction factor)\n",
      "D_turbulent=0.665*v*3.57*(f)**0.5      #ft**2/s\n",
      "\n",
      "# calculation\n",
      "#time required forfluid to travel 700 miles at 8ft/s is 4.57*10**5 sec\n",
      "t=4.57*10**5                           #s\n",
      "x=2*2.15*(D_turbulent*t)**0.5          #ft\n",
      "print \"x=%f m\"%x\n",
      "v0=0.355                               #ft**3 of liquid/ft of pipe\n",
      "V_mixed=2*x*v0                         #ft**3\n",
      "\n",
      "# result\n",
      "print \"The mixed volume is %f ft**3\"%V_mixed"
     ],
     "language": "python",
     "metadata": {},
     "outputs": [
      {
       "output_type": "stream",
       "stream": "stdout",
       "text": [
        "x=3165.793854 m\n",
        "The mixed volume is 2247.713636 ft**3\n"
       ]
      }
     ],
     "prompt_number": 2
    },
    {
     "cell_type": "heading",
     "level": 3,
     "metadata": {},
     "source": [
      "Example 19.7 page no : 572\n"
     ]
    },
    {
     "cell_type": "code",
     "collapsed": false,
     "input": [
      "#Calculate how far downstream does the dye become uniformly distributed throughout the fluid\n",
      "\n",
      "# variables\n",
      "f=0.0039             #dimentionless (fanning friction factor)\n",
      "D=0.665              #ft\n",
      "\n",
      "# calculation\n",
      "L=D*0.56/(f)**0.5    #ft\n",
      "\n",
      "# result\n",
      "print \"L = %.0f ft\"%L"
     ],
     "language": "python",
     "metadata": {},
     "outputs": [
      {
       "output_type": "stream",
       "stream": "stdout",
       "text": [
        "L = 6 ft\n"
       ]
      }
     ],
     "prompt_number": 8
    },
    {
     "cell_type": "heading",
     "level": 3,
     "metadata": {},
     "source": [
      "Example 19.8 page no : 573\n"
     ]
    },
    {
     "cell_type": "code",
     "collapsed": false,
     "input": [
      "#Calculate the width of jet and entrainment ratio\n",
      "import math\n",
      "\n",
      "# variables\n",
      "Vo=40.                      #ft/s\n",
      "Do=1.                       #ft\n",
      "x=10.                       #ft\n",
      "K=6.2                       #dimentionless\n",
      "\n",
      "# calculation\n",
      "V_centerline=Vo*K*(Do/x)    #ft/s\n",
      "alpha=20.                   #degrees\n",
      "Dx=Do*(1+(x/Do)*math.sin(alpha*math.pi/180.0))        #ft\n",
      "\n",
      "#Let entrainment ratio be r\n",
      "r=0.62*(x/Do)**0.5#dimentionless\n",
      "\n",
      "# result\n",
      "print \"The jet diameter is %.2f ft\\n\"%Dx\n",
      "print \"The entrainment ratio is %.2f\"%r"
     ],
     "language": "python",
     "metadata": {},
     "outputs": [
      {
       "output_type": "stream",
       "stream": "stdout",
       "text": [
        "The jet diameter is 4.42 ft\n",
        "\n",
        "The entrainment ratio is 1.96\n"
       ]
      }
     ],
     "prompt_number": 3
    },
    {
     "cell_type": "heading",
     "level": 3,
     "metadata": {},
     "source": [
      "Example 19.9 page no : 577\n"
     ]
    },
    {
     "cell_type": "code",
     "collapsed": false,
     "input": [
      "#Calculate the SO2 concentration at the centerline\n",
      "import math\n",
      "\n",
      "# variables\n",
      "Q=20.                        #gm/s\n",
      "u=3.                         #m/s\n",
      "sigma_y=30.0                 #m\n",
      "sigma_z=20.0                 #m\n",
      "y=60.                        #m\n",
      "z=20.                        #m\n",
      "H=0.                         #m\n",
      "\n",
      "# calculation\n",
      "c=Q/(2.0*math.pi*u*sigma_y*sigma_z)*math.exp(-((y**2/2.0/sigma_y**2)+((z-H)**2/2.0/sigma_z**2)))#gm/m**3\n",
      "\n",
      "# result\n",
      "print \"The SO2 concentration at the centerline is %f gm/m**3\"%c"
     ],
     "language": "python",
     "metadata": {},
     "outputs": [
      {
       "output_type": "stream",
       "stream": "stdout",
       "text": [
        "The SO2 concentration at the centerline is 0.000145 gm/m**3\n"
       ]
      }
     ],
     "prompt_number": 4
    }
   ],
   "metadata": {}
  }
 ]
}