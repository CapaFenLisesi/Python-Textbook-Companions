{
 "metadata": {
  "name": "",
  "signature": "sha256:ec48b28f06cb0d89d2925aa8322307ed874ac1a1362613ee7eaf2b5b1ddf3343"
 },
 "nbformat": 3,
 "nbformat_minor": 0,
 "worksheets": [
  {
   "cells": [
    {
     "cell_type": "heading",
     "level": 1,
     "metadata": {},
     "source": [
      "Chapter 7:Moment of Inertia"
     ]
    },
    {
     "cell_type": "heading",
     "level": 2,
     "metadata": {},
     "source": [
      "Example 7.1, Page no.103"
     ]
    },
    {
     "cell_type": "code",
     "collapsed": false,
     "input": [
      "from math import sqrt\n",
      "#variable declaration\n",
      "b=30    #width of the secion in mm\n",
      "d=40    #depth of the section in mm\n",
      "\n",
      "#calculation\n",
      "I_xx=b*d**3/12\n",
      "I_yy=d*b**3/12\n",
      "\n",
      "#Result\n",
      "print\"I_xx=\",int(I_xx/1000),\"*10^3 mm**4\"\n",
      "print\"I_yy=\",int(I_yy/1000),\"*10^3 mm**4\"\n",
      "\n"
     ],
     "language": "python",
     "metadata": {},
     "outputs": [
      {
       "output_type": "stream",
       "stream": "stdout",
       "text": [
        "I_xx= 160 *10^3 mm**4\n",
        "I_yy= 90 *10^3 mm**4\n"
       ]
      }
     ],
     "prompt_number": 1
    },
    {
     "cell_type": "code",
     "collapsed": false,
     "input": [],
     "language": "python",
     "metadata": {},
     "outputs": []
    }
   ],
   "metadata": {}
  }
 ]
}