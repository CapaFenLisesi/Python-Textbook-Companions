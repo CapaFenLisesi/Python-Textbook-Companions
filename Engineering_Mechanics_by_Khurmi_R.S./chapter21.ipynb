{
 "metadata": {
  "name": "",
  "signature": "sha256:1e2ea72063f4480e1666d90f5821f69263d6f609957c096a14e46eb50fe68a8d"
 },
 "nbformat": 3,
 "nbformat_minor": 0,
 "worksheets": [
  {
   "cells": [
    {
     "cell_type": "heading",
     "level": 1,
     "metadata": {},
     "source": [
      "Chapter 21:Motion of Rotation"
     ]
    },
    {
     "cell_type": "heading",
     "level": 2,
     "metadata": {},
     "source": [
      "Example 21.1, Page no.447"
     ]
    },
    {
     "cell_type": "code",
     "collapsed": false,
     "input": [
      "#variable declaration\n",
      "omega_0=0     #initial angular velocity\n",
      "alpha=0.5     #angular acceleration in rad/sec**2\n",
      "t=10          #time in sec\n",
      "\n",
      "#calculation\n",
      "omega=omega_0+alpha*t\n",
      "theta=omega_0*t+(alpha*t**2/2)\n",
      "\n",
      "#Result\n",
      "print\"Angular velocity of the flywheel, omega=\",int(omega),\"rad/sec\"\n",
      "print\"Angular displacement of the flywheel, theta=\",int(theta),\"rad\""
     ],
     "language": "python",
     "metadata": {},
     "outputs": [
      {
       "output_type": "stream",
       "stream": "stdout",
       "text": [
        "Angular velocity of the flywheel, omega= 5 rad/sec\n",
        "Angular displacement of the flywheel, theta= 25 rad\n"
       ]
      }
     ],
     "prompt_number": 1
    },
    {
     "cell_type": "heading",
     "level": 2,
     "metadata": {},
     "source": [
      "Example 21.4, Page no.448"
     ]
    },
    {
     "cell_type": "code",
     "collapsed": false,
     "input": [
      "import math\n",
      "#variable declaration\n",
      "omega_0=0     #initial angular velocity\n",
      "alpha=0.5     #acceleration in rad/sec**2\n",
      "t_1=120       #timetaken in sec\n",
      "omega1_0=60   #initial angular velocity when pulley is coming to rest in rad/sec\n",
      "alpha_2=-0.3  #Retardation in rad/sec**2\n",
      "\n",
      "\n",
      "#calculation\n",
      "#To calculate angular speed of pully in r.p.m. at the end of 2 min.\n",
      "omega=round((omega_0+alpha*t_1)/(2*math.pi),2)\n",
      "#To calculate time in which the pulley will come to rest\n",
      "t_2=-omega1_0/alpha_2\n",
      "\n",
      "#Result\n",
      "print\"Angular speed of pully in r.p.m. at the end of 2 min., omega=\",int(omega*60),\"r.p.m.\"\n",
      "print\"Time in which the pulley will come to rest, t_2=\",int(t_2),\"sec\"\n",
      "\n"
     ],
     "language": "python",
     "metadata": {},
     "outputs": [
      {
       "output_type": "stream",
       "stream": "stdout",
       "text": [
        "Angular speed of pully in r.p.m. at the end of 2 min., omega= 573 r.p.m.\n",
        "Time in which the pulley will come to rest, t_2= 200 sec\n"
       ]
      }
     ],
     "prompt_number": 2
    },
    {
     "cell_type": "heading",
     "level": 2,
     "metadata": {},
     "source": [
      "Example 21.9, Page no.453"
     ]
    },
    {
     "cell_type": "code",
     "collapsed": false,
     "input": [
      "#variable declaration\n",
      "r=0.6      #radius of wheel in m\n",
      "omega_0=0  #initial angular velocity\n",
      "alpha=0.8  #angular acceleration in rad/s**2\n",
      "t=5        #time in s\n",
      "\n",
      "#calculation\n",
      "omega=omega_0+alpha*t\n",
      "v=r*omega\n",
      "\n",
      "#result\n",
      "print\"Linear velocity of the point on the periphery of the wheel, v=\",round(v,1),\"m/s\"\n",
      "\n"
     ],
     "language": "python",
     "metadata": {},
     "outputs": [
      {
       "output_type": "stream",
       "stream": "stdout",
       "text": [
        "Linear velocity of the point on the periphery of the wheel, v= 2.4 m/s\n"
       ]
      }
     ],
     "prompt_number": 3
    },
    {
     "cell_type": "heading",
     "level": 2,
     "metadata": {},
     "source": [
      "Example 21.10, Page no.453"
     ]
    },
    {
     "cell_type": "code",
     "collapsed": false,
     "input": [
      "import math\n",
      "#variable declaration\n",
      "r=1    #Radius if pulley in m\n",
      "N=240  #angular frequency in r.p.m\n",
      "\n",
      "#calculation\n",
      "omega=2*math.pi*N/60\n",
      "v=r*omega\n",
      "\n",
      "#Result\n",
      "print\"Linear velocity of the particle on the periphery of the wheel, v=\",round(v,1),\"m/s\"\n"
     ],
     "language": "python",
     "metadata": {},
     "outputs": [
      {
       "output_type": "stream",
       "stream": "stdout",
       "text": [
        "Linear velocity of the particle on the periphery of the wheel, v= 25.1 m/s\n"
       ]
      }
     ],
     "prompt_number": 4
    },
    {
     "cell_type": "code",
     "collapsed": false,
     "input": [],
     "language": "python",
     "metadata": {},
     "outputs": []
    }
   ],
   "metadata": {}
  }
 ]
}