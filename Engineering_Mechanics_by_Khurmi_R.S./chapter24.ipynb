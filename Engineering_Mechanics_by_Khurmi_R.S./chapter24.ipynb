{
 "metadata": {
  "name": "",
  "signature": "sha256:d91fc2c8a474e3c0069134482e3e16ad6362f5044324f39d0db7cd73f8242369"
 },
 "nbformat": 3,
 "nbformat_minor": 0,
 "worksheets": [
  {
   "cells": [
    {
     "cell_type": "heading",
     "level": 1,
     "metadata": {},
     "source": [
      "Chapter 24:Laws of Motion"
     ]
    },
    {
     "cell_type": "heading",
     "level": 2,
     "metadata": {},
     "source": [
      "Example 24.1, Page no.484"
     ]
    },
    {
     "cell_type": "code",
     "collapsed": false,
     "input": [
      "#Variable declaration\n",
      "m=100   #mass of body in kg\n",
      "a=3.5   #acceleration in m/s**2\n",
      "\n",
      "#calculation\n",
      "F=m*a\n",
      "\n",
      "#Result\n",
      "print\"F=\",int(F),\"N\""
     ],
     "language": "python",
     "metadata": {},
     "outputs": [
      {
       "output_type": "stream",
       "stream": "stdout",
       "text": [
        "F= 350 N\n"
       ]
      }
     ],
     "prompt_number": 1
    },
    {
     "cell_type": "heading",
     "level": 2,
     "metadata": {},
     "source": [
      "Example 24.2, Page no.485"
     ]
    },
    {
     "cell_type": "code",
     "collapsed": false,
     "input": [
      "#variable declaration\n",
      "m=50      #mass of body in kg\n",
      "g_e=9.8   #acceleration due to gravity on earth in m/s**2\n",
      "g_m=1.7   #acceleration due to gravity on moon in m/s**2\n",
      "g_s=270.0 #acceleration due to gravity on sun in m/s**2\n",
      "\n",
      "#calculation\n",
      "F_1=m*g_e\n",
      "F_2=m*g_m\n",
      "F_3=(m*g_s)\n",
      "\n",
      "#Result\n",
      "print\"Weight of the body on the earth, F_1=\",int(F_1),\"N\"\n",
      "print\"Weight of the body on the moon, F_2=\",int(F_2),\"N\"\n",
      "print\"Weight of the body on the sun, F_3=\",round(F_3/1000,1),\"kN\"\n",
      "\n",
      "\n"
     ],
     "language": "python",
     "metadata": {},
     "outputs": [
      {
       "output_type": "stream",
       "stream": "stdout",
       "text": [
        "Weight of the body on the earth, F_1= 490 N\n",
        "Weight of the body on the moon, F_2= 85 N\n",
        "Weight of the body on the sun, F_3= 13.5 kN\n"
       ]
      }
     ],
     "prompt_number": 8
    },
    {
     "cell_type": "heading",
     "level": 2,
     "metadata": {},
     "source": [
      "Example 24.3, Page no.485"
     ]
    },
    {
     "cell_type": "code",
     "collapsed": false,
     "input": [
      "#variable declaration\n",
      "m=7.5  #mass of the body in kg\n",
      "u=1.2  #velocity in m/s\n",
      "F=15   #Force in N\n",
      "t=2    #time in s\n",
      "\n",
      "#calculation\n",
      "a=F/m\n",
      "v=u+(a*t)\n",
      "\n",
      "#Result\n",
      "print\"Velocity of the body after 2 seconds, v=\",round(v,1),\"m/s\"\n",
      "\n"
     ],
     "language": "python",
     "metadata": {},
     "outputs": [
      {
       "output_type": "stream",
       "stream": "stdout",
       "text": [
        "Velocity of the body after 2 seconds, v= 5.2 m/s\n"
       ]
      }
     ],
     "prompt_number": 9
    },
    {
     "cell_type": "heading",
     "level": 2,
     "metadata": {},
     "source": [
      "Example 24.4, Page no.485"
     ]
    },
    {
     "cell_type": "code",
     "collapsed": false,
     "input": [
      "#variable declaration\n",
      "m=500.0  #mass of vehicle in kg\n",
      "u=25.0   #initial velocity in m/s\n",
      "F=200.0  #Force in N\n",
      "t=120.0  #time in s\n",
      "\n",
      "#calculation\n",
      "a=F/m\n",
      "v_1=u+(a*t)\n",
      "v_2=u+(-a*t)  #Force acts in the opposite direction of motion\n",
      "\n",
      "#Result\n",
      "print\"Velocity of vehicle when the force acts in the dirction of motion,v_1=\",int(v_1),\"m/s\"\n",
      "print\"Velocity of vehicle when the force acts in the opposite dirction of motion,v_2=\",int(v_2),\"m/s\""
     ],
     "language": "python",
     "metadata": {},
     "outputs": [
      {
       "output_type": "stream",
       "stream": "stdout",
       "text": [
        "Velocity of vehicle when the force acts in the dirction of motion,v_1= 73 m/s\n",
        "Velocity of vehicle when the force acts in the opposite dirction of motion,v_2= -23 m/s\n"
       ]
      }
     ],
     "prompt_number": 13
    },
    {
     "cell_type": "heading",
     "level": 2,
     "metadata": {},
     "source": [
      "Example 24.5, Page no.486"
     ]
    },
    {
     "cell_type": "code",
     "collapsed": false,
     "input": [
      "#variable declaration\n",
      "F=50.0  #Retarding force in N\n",
      "m=20.0  #mass of the body in kg\n",
      "u=15    #initial velocity in m/s\n",
      "v=0     #final velocity\n",
      "\n",
      "#calculation\n",
      "a=F/m\n",
      "t=u/a \n",
      "\n",
      "#Result\n",
      "print\"t=\",int(t),\"s\"\n"
     ],
     "language": "python",
     "metadata": {},
     "outputs": [
      {
       "output_type": "stream",
       "stream": "stdout",
       "text": [
        "t= 6 s\n"
       ]
      }
     ],
     "prompt_number": 15
    },
    {
     "cell_type": "heading",
     "level": 2,
     "metadata": {},
     "source": [
      "Example 24.6, Page no.486"
     ]
    },
    {
     "cell_type": "code",
     "collapsed": false,
     "input": [
      "#variable declaration\n",
      "m=2.5   #mass of the car in t\n",
      "F=1     #Propelling force in N\n",
      "u=10    #initial velocity in m/s\n",
      "v=15    #final velocity in m/s\n",
      "\n",
      "#calculation\n",
      "a=F/m\n",
      "t=(v-u)/a\n",
      "\n",
      "#Result\n",
      "print\"t=\",round(t,1),\"s\"\n"
     ],
     "language": "python",
     "metadata": {},
     "outputs": [
      {
       "output_type": "stream",
       "stream": "stdout",
       "text": [
        "t= 12.5 s\n"
       ]
      }
     ],
     "prompt_number": 16
    },
    {
     "cell_type": "heading",
     "level": 2,
     "metadata": {},
     "source": [
      "Example 24.7, Page no.486"
     ]
    },
    {
     "cell_type": "code",
     "collapsed": false,
     "input": [
      "#variable declaration\n",
      "m=800.0       #mass of electric train in t\n",
      "Resistance=80 #Resistance to motion in kN\n",
      "Tractive=200  #Tractive force in kN\n",
      "v=25          #final velocity in m/s\n",
      "u=0           #initial velocity\n",
      "\n",
      "#calculation\n",
      "F=Tractive-Resistance\n",
      "a=F/m\n",
      "t=(v-u)/a\n",
      "\n",
      "#Result\n",
      "print\"t=\",round(t,1),\"s\"\n"
     ],
     "language": "python",
     "metadata": {},
     "outputs": [
      {
       "output_type": "stream",
       "stream": "stdout",
       "text": [
        "t= 166.7 s\n"
       ]
      }
     ],
     "prompt_number": 17
    },
    {
     "cell_type": "heading",
     "level": 2,
     "metadata": {},
     "source": [
      "Example 24.11, Page no.490"
     ]
    },
    {
     "cell_type": "code",
     "collapsed": false,
     "input": [
      "#variable declaration\n",
      "m=50   #mass of the body in kg\n",
      "a=1.2  #acceleration in m/s**2\n",
      "g=9.8  #gravity in m/s**2\n",
      "\n",
      "#calculation\n",
      "F=m*(g+a)\n",
      "\n",
      "#result\n",
      "print\"F=\",int(F),\"N\""
     ],
     "language": "python",
     "metadata": {},
     "outputs": [
      {
       "output_type": "stream",
       "stream": "stdout",
       "text": [
        "F= 550 N\n"
       ]
      }
     ],
     "prompt_number": 18
    },
    {
     "cell_type": "heading",
     "level": 2,
     "metadata": {},
     "source": [
      "Example 24.12, Page no.490"
     ]
    },
    {
     "cell_type": "code",
     "collapsed": false,
     "input": [
      "#variable declaration\n",
      "m=100  #mass of the body in kg\n",
      "a=-0.8 #acceleration in m/s**2\n",
      "g=9.8  #gravity in m/s**2\n",
      "\n",
      "#calculation\n",
      "F_1=m*(g+a)\n",
      "F_2=m*(g-a)\n",
      "\n",
      "#Result\n",
      "print\"(a)The lift is moving upwards, F_1=\",int(F_1),\"N\"\n",
      "print\"(b)The lift is moving downwards, F_2=\",int(F_2),\"N\"\n"
     ],
     "language": "python",
     "metadata": {},
     "outputs": [
      {
       "output_type": "stream",
       "stream": "stdout",
       "text": [
        "(a)The lift is moving upwards, F_1= 900 N\n",
        "(b)The lift is moving downwards, F_2= 1060 N\n"
       ]
      }
     ],
     "prompt_number": 19
    },
    {
     "cell_type": "heading",
     "level": 2,
     "metadata": {},
     "source": [
      "Example 24.13, Page no.490"
     ]
    },
    {
     "cell_type": "code",
     "collapsed": false,
     "input": [
      "#variable declaration\n",
      "m=65.0   #mass of the body in kg\n",
      "F=800.0  #Force in N\n",
      "g=9.8    #gravity in m/s**2\n",
      "\n",
      "#calculation\n",
      "a=(F/m)-g\n",
      "\n",
      "#Result\n",
      "print\"Acceleration of the elevator, a=\",round(a,1),\"m/s**2\""
     ],
     "language": "python",
     "metadata": {},
     "outputs": [
      {
       "output_type": "stream",
       "stream": "stdout",
       "text": [
        "Acceleration of the elevator, a= 2.5 m/s**2\n"
       ]
      }
     ],
     "prompt_number": 21
    },
    {
     "cell_type": "heading",
     "level": 2,
     "metadata": {},
     "source": [
      "Example 24.14, Page no.490"
     ]
    },
    {
     "cell_type": "code",
     "collapsed": false,
     "input": [
      "#variable declaration\n",
      "m_1=500 #mass of the elevator in kg\n",
      "a=3     #acceleration in m/s**2\n",
      "m_2=70  #mass of operator in kg\n",
      "\n",
      "#calculation\n",
      "R_1=m_2*(g+a)\n",
      "R_2=(m_1+m_2)*(g+a)\n",
      "\n",
      "#Result\n",
      "print\"Scale Reading,R_1=\",int(R_1),\"N\"\n",
      "print\"Total tension in the cable of the elevator, R_2=\",int(R_2),\"N\""
     ],
     "language": "python",
     "metadata": {},
     "outputs": [
      {
       "output_type": "stream",
       "stream": "stdout",
       "text": [
        "Scale Reading,R_1= 896 N\n",
        "Total tension in the cable of the elevator, R_2= 7296 N\n"
       ]
      }
     ],
     "prompt_number": 22
    },
    {
     "cell_type": "heading",
     "level": 2,
     "metadata": {},
     "source": [
      "Example 24.18, Page no.495"
     ]
    },
    {
     "cell_type": "code",
     "collapsed": false,
     "input": [
      "#variable declaration\n",
      "M=25    #mass of the machine gun in kg\n",
      "m=0.03  #mass of the bullet in kg\n",
      "v=250   #velocity of firing in m/s\n",
      "\n",
      "#calculation\n",
      "V=(m*v)/M\n",
      "\n",
      "#Result\n",
      "print\"Velocity with which the machine gun will recoil, v=\",round(V,1),\"m/s\"\n",
      "\n",
      "\n"
     ],
     "language": "python",
     "metadata": {},
     "outputs": [
      {
       "output_type": "stream",
       "stream": "stdout",
       "text": [
        "Velocity with which the machine gun will recoil, v= 0.3 m/s\n"
       ]
      }
     ],
     "prompt_number": 23
    },
    {
     "cell_type": "code",
     "collapsed": false,
     "input": [],
     "language": "python",
     "metadata": {},
     "outputs": []
    }
   ],
   "metadata": {}
  }
 ]
}