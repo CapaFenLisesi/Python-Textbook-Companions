{
 "metadata": {
  "name": "",
  "signature": "sha256:7b15e8f180333ee46bf2dbf70747d7d301a3bed09a0eb6d2a0ced67423d0f6af"
 },
 "nbformat": 3,
 "nbformat_minor": 0,
 "worksheets": [
  {
   "cells": [
    {
     "cell_type": "heading",
     "level": 1,
     "metadata": {},
     "source": [
      "Chapter 10:Principles of Lifting Machines"
     ]
    },
    {
     "cell_type": "heading",
     "level": 2,
     "metadata": {},
     "source": [
      "Example 10.1, Page no.173"
     ]
    },
    {
     "cell_type": "code",
     "collapsed": false,
     "input": [
      "#variable declaration\n",
      "W=1000     #Weight in N\n",
      "P=25       #Effort in N\n",
      "x=0.1      #Distance through which the weight is moved in m\n",
      "y=8        #Distance through which effort is moved in m\n",
      "\n",
      "#calculation\n",
      "MA=W/P\n",
      "VR=y/x\n",
      "Eta=MA/VR\n",
      "\n",
      "#Result\n",
      "print\"Mechanical advantage of the machine, M.A.=\",int(MA)\n",
      "print\"Velocity ratio of the machine, V.R.=\",int(VR)\n",
      "print\"Efficiency of the machine, Eta=\",int(round(Eta*100,1)),\"%\"\n"
     ],
     "language": "python",
     "metadata": {},
     "outputs": [
      {
       "output_type": "stream",
       "stream": "stdout",
       "text": [
        "Mechanical advantage of the machine, M.A.= 40\n",
        "Velocity ratio of the machine, V.R.= 80\n",
        "Efficiency of the machine, Eta= 50 %\n"
       ]
      }
     ],
     "prompt_number": 1
    },
    {
     "cell_type": "heading",
     "level": 2,
     "metadata": {},
     "source": [
      "Example 10.2, Page no.174 "
     ]
    },
    {
     "cell_type": "code",
     "collapsed": false,
     "input": [
      "#variable declaration\n",
      "VR=30     #Velocity ratio\n",
      "W=1500.0  #Load in N\n",
      "P=125     #Effort in N\n",
      "\n",
      "#calculation\n",
      "MA=W/P\n",
      "Eta=MA/VR\n",
      "\n",
      "#Result\n",
      "print\"Efficiency, Eta=\",int(round(Eta*100,1)),\"%\"\n",
      "print\"Since efficiency of the machine is less than 50%, therefore the machine is non-reversible\""
     ],
     "language": "python",
     "metadata": {},
     "outputs": [
      {
       "output_type": "stream",
       "stream": "stdout",
       "text": [
        "Efficiency, Eta= 40 %\n",
        "Since efficiency of the machine is less than 50%, therefore the machine is non-reversible\n"
       ]
      }
     ],
     "prompt_number": 3
    },
    {
     "cell_type": "heading",
     "level": 2,
     "metadata": {},
     "source": [
      "Example 10.4, Page no.176"
     ]
    },
    {
     "cell_type": "code",
     "collapsed": false,
     "input": [
      "#variable declaration\n",
      "P=100.0   #Effort in N\n",
      "W=840.0   #Load in N\n",
      "VR=10     #vecocity ratio\n",
      "\n",
      "#calculation\n",
      "#To calculate efficiency of the machine\n",
      "MA=W/P\n",
      "Eta=(MA/VR)*100\n",
      "#To calculate friction of the machine\n",
      "F_effort=P-(W/VR) #In terms of effort\n",
      "F_load=(P*VR)-W   #In terms of load\n",
      "\n",
      "#Result\n",
      "print\"Efficiency of the machine, Eta=\",int(Eta),\"%\"\n",
      "print\"Friction of the machine in terms of effort, F_effort=\",int(F_effort),\"N\"\n",
      "print\"Friction of the machine in terms of load, F_load=\",int(F_load),\"N\"\n",
      "\n"
     ],
     "language": "python",
     "metadata": {},
     "outputs": [
      {
       "output_type": "stream",
       "stream": "stdout",
       "text": [
        "Efficiency of the machine, Eta= 84 %\n",
        "Friction of the machine in terms of effort, F_effort= 16 N\n",
        "Friction of the machine in terms of load, F_load= 160 N\n"
       ]
      }
     ],
     "prompt_number": 2
    },
    {
     "cell_type": "heading",
     "level": 2,
     "metadata": {},
     "source": [
      "Example 10.9, Page no.181"
     ]
    },
    {
     "cell_type": "code",
     "collapsed": false,
     "input": [
      "#variable declaration\n",
      "m=0.02   #On dividing W/50 we get 0.02W where m=0.02\n",
      "W=600    #Load in N\n",
      "VR=100   #velocity ratio\n",
      "\n",
      "#calculation\n",
      "Max_MA=1/m\n",
      "Max_Pos_Efficiency=1/(m*VR)\n",
      "P=m*W+8  #Given\n",
      "F_effort=P-(W/VR)\n",
      "MA=W/P\n",
      "Eta=MA/VR\n",
      "\n",
      "#Result\n",
      "print\"Maximum possible mechanical advantage, Max M.A.=\",int(Max_MA)\n",
      "print\"Maximum possible efficiency=\",int(round(Max_Pos_Efficiency*100,1)),\"%\"\n",
      "print\"Effort required to overcome the machine friction, F_effort=\",int(F_effort),\"N\"\n",
      "print\"Efficiency of the machine, Eta=\",int(round(Eta*100,1)),\"%\"\n"
     ],
     "language": "python",
     "metadata": {},
     "outputs": [
      {
       "output_type": "stream",
       "stream": "stdout",
       "text": [
        "Maximum possible mechanical advantage, Max M.A.= 50\n",
        "Maximum possible efficiency= 50 %\n",
        "Effort required to overcome the machine friction, F_effort= 14 N\n",
        "Efficiency of the machine, Eta= 30 %\n"
       ]
      }
     ],
     "prompt_number": 12
    },
    {
     "cell_type": "code",
     "collapsed": false,
     "input": [],
     "language": "python",
     "metadata": {},
     "outputs": []
    }
   ],
   "metadata": {}
  }
 ]
}