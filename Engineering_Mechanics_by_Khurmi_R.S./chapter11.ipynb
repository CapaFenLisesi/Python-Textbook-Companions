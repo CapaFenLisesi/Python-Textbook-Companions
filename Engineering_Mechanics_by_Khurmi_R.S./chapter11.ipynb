{
 "metadata": {
  "name": "",
  "signature": "sha256:184281d9efd5e0a993226e7e376baf4131b3afd17d002bdb4997678ec13c9170"
 },
 "nbformat": 3,
 "nbformat_minor": 0,
 "worksheets": [
  {
   "cells": [
    {
     "cell_type": "heading",
     "level": 1,
     "metadata": {},
     "source": [
      "Chapter 11:Simple Lifting Machines"
     ]
    },
    {
     "cell_type": "heading",
     "level": 2,
     "metadata": {},
     "source": [
      "Example 11.1, Page no.187"
     ]
    },
    {
     "cell_type": "code",
     "collapsed": false,
     "input": [
      "#variable declaration\n",
      "D=300.0    #Diameter of wheel in mm\n",
      "d=30.0     #Diameter of axle in mm\n",
      "W=900.0    #Load in N\n",
      "P=100.0    #Effort applied in N\n",
      "\n",
      "#calculation\n",
      "VR=D/d\n",
      "MA=W/P\n",
      "Eta=MA/VR\n",
      "\n",
      "#Result\n",
      "print\"Efficiency, Eta =\",int(Eta*100),\"%\"\n",
      "\n",
      "\n"
     ],
     "language": "python",
     "metadata": {},
     "outputs": [
      {
       "output_type": "stream",
       "stream": "stdout",
       "text": [
        "Efficiency, Eta = 90 %\n"
       ]
      }
     ],
     "prompt_number": 9
    },
    {
     "cell_type": "heading",
     "level": 2,
     "metadata": {},
     "source": [
      "Example 11.2, Page no.187"
     ]
    },
    {
     "cell_type": "code",
     "collapsed": false,
     "input": [
      "#variable declaration\n",
      "W=480.0    #Load in N\n",
      "P=120.0    #effort in N\n",
      "D=500.0    #Diameter of wheel in mm\n",
      "d=100.0    #Diameter of axle in mm\n",
      "\n",
      "#calculation\n",
      "MA=W/P\n",
      "VR=D/d\n",
      "Eta=MA/VR\n",
      "\n",
      "#Result\n",
      "print\"(i)Mechanical Advantage=\",int(MA)\n",
      "print\"(ii)Velocity ratio=\",int(VR)\n",
      "print\"(iii)Efficiency of machine=\",int(Eta*100),\"%\"\n",
      "\n",
      "\n"
     ],
     "language": "python",
     "metadata": {},
     "outputs": [
      {
       "output_type": "stream",
       "stream": "stdout",
       "text": [
        "(i)Mechanical Advantage= 4\n",
        "(ii)Velocity ratio= 5\n",
        "(iii)Efficiency of machine= 80 %\n"
       ]
      }
     ],
     "prompt_number": 4
    },
    {
     "cell_type": "heading",
     "level": 2,
     "metadata": {},
     "source": [
      "Example 11.3, Page no.189"
     ]
    },
    {
     "cell_type": "code",
     "collapsed": false,
     "input": [
      "#variable declaration\n",
      "d1=80     #larger diameter of wheel in mm\n",
      "d2=70     #Smaller diamter of wheel in mm\n",
      "D=250     #Diameter of effort wheel in mm\n",
      "W=1050.0  #Load lifted in N\n",
      "P=25.0    #Effort in N\n",
      "\n",
      "\n",
      "#calculation\n",
      "VR=2*D/(d1-d2)\n",
      "MA=W/P\n",
      "Eta=MA/VR\n",
      "F_effort=P-(W/VR)\n",
      "\n",
      "\n",
      "#Result\n",
      "print\"Velocity Ratio, VR=\",int(VR)  #Answer given wrongly in book. 50 is correct answer\n",
      "print\"Efficiency, Eta=\",int(Eta*100),\"%\"\n",
      "print\"Frictional effort lost, F_effort=\",int(F_effort),\"N\""
     ],
     "language": "python",
     "metadata": {},
     "outputs": [
      {
       "output_type": "stream",
       "stream": "stdout",
       "text": [
        "Velocity Ratio, VR= 50\n",
        "Efficiency, Eta= 84 %\n",
        "Frictional effort lost, F_effort= 4 N\n"
       ]
      }
     ],
     "prompt_number": 8
    },
    {
     "cell_type": "heading",
     "level": 2,
     "metadata": {},
     "source": [
      "Example 11.5, Page no.190"
     ]
    },
    {
     "cell_type": "code",
     "collapsed": false,
     "input": [
      "#variable declaration\n",
      "D=410.0     #Effective diameter of wheel in mm\n",
      "d1=310.0    #Effective diameter of axle in mm\n",
      "d2=210.0    #Effective diameter of axle in mm\n",
      "P=25.0      #Effort in N\n",
      "Eta=84.0/100#Efficiency\n",
      "\n",
      "#calculation\n",
      "VR=2*D/(d1-d2)\n",
      "W=Eta*P*VR\n",
      "\n",
      "#Result\n",
      "print\"W=\",round(W,1),\"N\"\n",
      "\n"
     ],
     "language": "python",
     "metadata": {},
     "outputs": [
      {
       "output_type": "stream",
       "stream": "stdout",
       "text": [
        "W= 172.2 N\n"
       ]
      }
     ],
     "prompt_number": 17
    },
    {
     "cell_type": "heading",
     "level": 2,
     "metadata": {},
     "source": [
      "Example 11.6, Page no.191"
     ]
    },
    {
     "cell_type": "code",
     "collapsed": false,
     "input": [
      "#variable declaration\n",
      "R=125      #Radius of larger groove in mm\n",
      "r=115      #Radius of smaller groove in mm\n",
      "Eta=80.0/100 #Efficiency\n",
      "W=1500     #Load in N\n",
      "\n",
      "#calculation\n",
      "VR=2*R/(R-r)\n",
      "P=W/(Eta*VR)\n",
      "\n",
      "#Result\n",
      "print\"P=\",int(P),\"N\""
     ],
     "language": "python",
     "metadata": {},
     "outputs": [
      {
       "output_type": "stream",
       "stream": "stdout",
       "text": [
        "P= 75 N\n"
       ]
      }
     ],
     "prompt_number": 18
    },
    {
     "cell_type": "heading",
     "level": 2,
     "metadata": {},
     "source": [
      "Example 11.7, Page no.192"
     ]
    },
    {
     "cell_type": "code",
     "collapsed": false,
     "input": [
      "#variable declaration\n",
      "W=1800.0 #Load in N\n",
      "P=100    #effort in N\n",
      "T1=12    #number of teeth on larger block\n",
      "T2=11    #number of teeth on smaller block\n",
      "\n",
      "#calculation\n",
      "VR=2*T1/(T1-T2)\n",
      "MA=W/P\n",
      "Eta=MA/VR\n",
      "\n",
      "#Result\n",
      "print\"Velocity Ratio=\",int(VR)\n",
      "print\"Mechanical Advantage=\",int(MA)\n",
      "print\"Efficiency=\",int(Eta*100),\"%\"\n"
     ],
     "language": "python",
     "metadata": {},
     "outputs": [
      {
       "output_type": "stream",
       "stream": "stdout",
       "text": [
        "Velocity Ratio= 24\n",
        "Mechanical Advantage= 18\n",
        "Efficiency= 75 %\n"
       ]
      }
     ],
     "prompt_number": 20
    },
    {
     "cell_type": "heading",
     "level": 2,
     "metadata": {},
     "source": [
      "Example 11.8, Page no.193"
     ]
    },
    {
     "cell_type": "code",
     "collapsed": false,
     "input": [
      "#variable declaration\n",
      "T1=90.0        #No. of cogs on the effort wheel\n",
      "T2=25.0        #No. of cogs on the effort pinion\n",
      "T3=40.0        #No. of teeth on the spur wheel\n",
      "T4=8.0         #No. of teeth on the load wheel\n",
      "P=50.0         #effort in N\n",
      "Eta=75.0/100   #Efficiency\n",
      "\n",
      "#calculation\n",
      "VR=(T1/T2)*(T3/T4)\n",
      "W=Eta*P*VR\n",
      "\n",
      "#Result\n",
      "print\"W=\",int(W),\"N\""
     ],
     "language": "python",
     "metadata": {},
     "outputs": [
      {
       "output_type": "stream",
       "stream": "stdout",
       "text": [
        "W= 675 N\n"
       ]
      }
     ],
     "prompt_number": 23
    },
    {
     "cell_type": "heading",
     "level": 2,
     "metadata": {},
     "source": [
      "Example 11.9, Page no.195"
     ]
    },
    {
     "cell_type": "code",
     "collapsed": false,
     "input": [
      "#variable declaration\n",
      "T=40.0    #No. of teeth on the worm wheel\n",
      "D=300.0   #Diameter of effort wheel in mm\n",
      "r=50.0    #radius of load drum in mm\n",
      "W=1800.0  #Load in N\n",
      "P=24.0    #effort in N\n",
      "\n",
      "#calculation\n",
      "VR=D*T/(2*r)\n",
      "MA=W/P\n",
      "Eta=MA/VR\n",
      "\n",
      "#Result\n",
      "print\"Efficiency=\",round(Eta*100,1),\"%\"\n",
      "\n"
     ],
     "language": "python",
     "metadata": {},
     "outputs": [
      {
       "output_type": "stream",
       "stream": "stdout",
       "text": [
        "Efficiency= 62.5 %\n"
       ]
      }
     ],
     "prompt_number": 25
    },
    {
     "cell_type": "heading",
     "level": 2,
     "metadata": {},
     "source": [
      "Example 11.10, Page no.195"
     ]
    },
    {
     "cell_type": "code",
     "collapsed": false,
     "input": [
      "#variable declaration\n",
      "n=2        #No. of threads\n",
      "T=60       #No. of teeth on worm wheel\n",
      "D=250      #Diameter of effort wheel in mm\n",
      "r=50       #raidus of load drum in mm\n",
      "Eta=50.0/100 #Efficiency\n",
      "W=300      #load in N\n",
      "\n",
      "#calculation\n",
      "VR=D*T/(2*n*r)\n",
      "P=W/(Eta*VR)\n",
      "\n",
      "#Result\n",
      "print\"Velocity ratio of the machine, VR=\",int(VR)\n",
      "print\"Effort required,P=\",int(P),\"N\""
     ],
     "language": "python",
     "metadata": {},
     "outputs": [
      {
       "output_type": "stream",
       "stream": "stdout",
       "text": [
        "Velocity ratio of the machine, VR= 75\n",
        "Effort required,P= 8 N\n"
       ]
      }
     ],
     "prompt_number": 27
    },
    {
     "cell_type": "heading",
     "level": 2,
     "metadata": {},
     "source": [
      "Example 11.11, Page no.197"
     ]
    },
    {
     "cell_type": "code",
     "collapsed": false,
     "input": [
      "#variable declaration\n",
      "D=200.0     #Diameter of effort wheel in mm\n",
      "T=60.0      #No. of teeth in worn wheel\n",
      "r=40.0      #radius of load drum in mm\n",
      "W=9000.0    #load in N\n",
      "P=75.0      #Effort in N\n",
      "\n",
      "#calculation\n",
      "VR=(D*T)/r\n",
      "MA=W/P\n",
      "Eta=MA/VR\n",
      "\n",
      "#Result\n",
      "print\"Efficiency=\",int(Eta*100),\"%\"\n"
     ],
     "language": "python",
     "metadata": {},
     "outputs": [
      {
       "output_type": "stream",
       "stream": "stdout",
       "text": [
        "Efficiency= 40 %\n"
       ]
      }
     ],
     "prompt_number": 28
    },
    {
     "cell_type": "heading",
     "level": 2,
     "metadata": {},
     "source": [
      "Example 11.12, Page no.197"
     ]
    },
    {
     "cell_type": "code",
     "collapsed": false,
     "input": [
      "#variable declaration\n",
      "n=2          #No. of threads\n",
      "D=400        #Diameter of effort wheel in mm\n",
      "r=50         #radius of load drum in mm\n",
      "Eta=35.0/100 #efficiency\n",
      "P=80         #Effort in N\n",
      "T=50         #No. of teeth in worm wheel\n",
      "\n",
      "#calculation\n",
      "VR=D*T/(n*r)\n",
      "W=P*VR*Eta\n",
      "\n",
      "#Result\n",
      "print\"W=\",int(W),\"N\"\n"
     ],
     "language": "python",
     "metadata": {},
     "outputs": [
      {
       "output_type": "stream",
       "stream": "stdout",
       "text": [
        "W= 5600 N\n"
       ]
      }
     ],
     "prompt_number": 30
    },
    {
     "cell_type": "heading",
     "level": 2,
     "metadata": {},
     "source": [
      "Example 11.13, Page no.199"
     ]
    },
    {
     "cell_type": "code",
     "collapsed": false,
     "input": [
      "#variable declaration\n",
      "T_2=25.0     #No. of teeth on pinion\n",
      "T_1=300.0    #No. of teeth on the spur wheel\n",
      "r=50.0       #Radius of drum in mm\n",
      "l=300.0      #Radius of the handle in mm\n",
      "P=20.0       #Effort in N\n",
      "W=300.0      #Load lifted in N\n",
      "\n",
      "#calculation\n",
      "#To calculate efficiency of the machine\n",
      "VR=int(((1/r)*(T_1/T_2))*100)\n",
      "MA=W/P\n",
      "Eta=MA/VR\n",
      "#To calculate effect of friction\n",
      "F_load=(P*VR)-W   #In terms of load \n",
      "F_effort=P-(W/VR) #In terms of effort\n",
      "\n",
      "#Result\n",
      "print\"Efficiency of the machine=\",round(Eta*100,3),\"%\"\n",
      "print\"Effect of friction in terms of load, F_load=\",int(F_load),\"N\"\n",
      "print\"Effect of friction in terms of effort, F_effort=\",round(F_effort,1),\"N\"\n",
      "\n"
     ],
     "language": "python",
     "metadata": {},
     "outputs": [
      {
       "output_type": "stream",
       "stream": "stdout",
       "text": [
        "Efficiency of the machine= 62.5 %\n",
        "Effect of friction in terms of load, F_load= 180 N\n",
        "Effect of friction in terms of effort, F_effort= 7.5 N\n"
       ]
      }
     ],
     "prompt_number": 31
    },
    {
     "cell_type": "heading",
     "level": 2,
     "metadata": {},
     "source": [
      "Example 11.15, Page no.202"
     ]
    },
    {
     "cell_type": "code",
     "collapsed": false,
     "input": [
      "#variable declaration\n",
      "T_2=20.0      #No. of teeth of pinion\n",
      "T_4=25.0      #No. of teeth of pinion\n",
      "T_1=50.0      #No. of teeth on the spur wheel\n",
      "T_3=60.0      #No. of teeth on the spur wheel\n",
      "l=0.5         #length of the handle in m\n",
      "r=0.25        #Radius of load drum in m\n",
      "Eta=60.0/100  #Efficiency\n",
      "W=720.0       #Load in N\n",
      "#Calculation\n",
      "VR=l/r*((T_1/T_2)*(T_3/T_4))\n",
      "P=W/(VR*Eta)\n",
      "\n",
      "#Result\n",
      "print\"P=\",int(P),\"N\""
     ],
     "language": "python",
     "metadata": {},
     "outputs": [
      {
       "output_type": "stream",
       "stream": "stdout",
       "text": [
        "P= 100 N\n"
       ]
      }
     ],
     "prompt_number": 34
    },
    {
     "cell_type": "heading",
     "level": 2,
     "metadata": {},
     "source": [
      "Example 11.17, Page no.206"
     ]
    },
    {
     "cell_type": "code",
     "collapsed": false,
     "input": [
      "#variable declaration\n",
      "n=3          #No. of pulleys\n",
      "P=50.0       #Effort in N\n",
      "W=320.0      #Weight lifted in N\n",
      "\n",
      "#calculation\n",
      "#To calculate efficiency of the machine\n",
      "VR=2**n\n",
      "MA=W/P\n",
      "Eta=MA/VR\n",
      "#To calculate effect of friction\n",
      "F_load=(P*VR)-W   #In terms of load \n",
      "F_effort=P-(W/VR) #In terms of amount\n",
      "\n",
      "#Result\n",
      "print\"Efficiency of the machine=\",int(round(Eta*100,3)),\"%\"\n",
      "print\"Amount of friction in terms of load, F_load=\",int(F_load),\"N\"\n",
      "print\"Amount of friction in terms of effort, F_effort=\",int(F_effort),\"N\"\n",
      "\n",
      "\n"
     ],
     "language": "python",
     "metadata": {},
     "outputs": [
      {
       "output_type": "stream",
       "stream": "stdout",
       "text": [
        "Efficiency of the machine= 80 %\n",
        "Amount of friction in terms of load, F_load= 80 N\n",
        "Amount of friction in terms of effort, F_effort= 10 N\n"
       ]
      }
     ],
     "prompt_number": 35
    },
    {
     "cell_type": "heading",
     "level": 2,
     "metadata": {},
     "source": [
      "Example 11.18, Page no.208"
     ]
    },
    {
     "cell_type": "code",
     "collapsed": false,
     "input": [
      "#variable declaration\n",
      "n=2*5         #No. of pulleys in each block\n",
      "P=125.0       #Effort in N\n",
      "W=1000.0      #Weight lifted in N\n",
      "\n",
      "#calculation\n",
      "VR=n\n",
      "F_load=(P*VR)-W   #In terms of load \n",
      "F_effort=P-(W/VR) #In terms of effort\n",
      "\n",
      "#Result\n",
      "print\"Amount of effort wasted in friction, F_effort=\",int(F_effort),\"N\"\n",
      "print\"Amount of friction load, F_load=\",int(F_load),\"N\" #Answer given wrongly in book. 250 is correct answer\n",
      "\n",
      "\n"
     ],
     "language": "python",
     "metadata": {},
     "outputs": [
      {
       "output_type": "stream",
       "stream": "stdout",
       "text": [
        "Amount of effort wasted in friction, F_effort= 25 N\n",
        "Amount of friction load, F_load= 250 N\n"
       ]
      }
     ],
     "prompt_number": 36
    },
    {
     "cell_type": "heading",
     "level": 2,
     "metadata": {},
     "source": [
      "Example 11.19, Page no.209"
     ]
    },
    {
     "cell_type": "code",
     "collapsed": false,
     "input": [
      "#variable declaration\n",
      "n=4           #No. of pulleys \n",
      "W=1800        #load lifted in N\n",
      "Eta=75.0/100  #efficiency\n",
      "\n",
      "#calculation\n",
      "VR=(2**n)-1\n",
      "P=W/(Eta*VR)\n",
      "F_effort=P-(W/VR)\n",
      "\n",
      "\n",
      "#Result\n",
      "print\"Effort required to lift the load,P=\",int(P),\"N\"\n",
      "print\"Effort wasted in friction, F_effort=\",int(F_effort),\"N\""
     ],
     "language": "python",
     "metadata": {},
     "outputs": [
      {
       "output_type": "stream",
       "stream": "stdout",
       "text": [
        "Effort required to lift the load,P= 160 N\n",
        "Effort wasted in friction, F_effort= 40 N\n"
       ]
      }
     ],
     "prompt_number": 37
    },
    {
     "cell_type": "heading",
     "level": 2,
     "metadata": {},
     "source": [
      "Example 11.20, Page no.210"
     ]
    },
    {
     "cell_type": "code",
     "collapsed": false,
     "input": [
      "import math\n",
      "#variable declaration\n",
      "p=10         #Pitch of thread in mm\n",
      "l=400        #length of the handle in mm\n",
      "W=2000       #load lifted in N\n",
      "Eta=45.0/100 #Efficiency\n",
      "\n",
      "#calculation\n",
      "VR=(2*math.pi*l)/p\n",
      "P=W/(Eta*VR)\n",
      "\n",
      "#Result\n",
      "print\"P=\",round(P,1),\"N\"\n"
     ],
     "language": "python",
     "metadata": {},
     "outputs": [
      {
       "output_type": "stream",
       "stream": "stdout",
       "text": [
        "P= 17.7 N\n"
       ]
      }
     ],
     "prompt_number": 39
    },
    {
     "cell_type": "heading",
     "level": 2,
     "metadata": {},
     "source": [
      "Example 11.21, Page no.212"
     ]
    },
    {
     "cell_type": "code",
     "collapsed": false,
     "input": [
      "import math\n",
      "#variable declaration\n",
      "p_1=12     #Pitch of the screw in mm\n",
      "p_2=10     #Pitch of the screw in mm\n",
      "l=300      #Arm length of jack in mm\n",
      "W=7.5*1000 #Load lifted in N\n",
      "P=30       #Effort in N\n",
      "\n",
      "#calculation\n",
      "VR=int((2*math.pi*l)/(p_1-p_2))\n",
      "MA=W/P\n",
      "Eta=MA/VR\n",
      "\n",
      "#Result\n",
      "print\"Efficiency, Eta=\",round(Eta*100,1),\"%\"\n",
      "\n"
     ],
     "language": "python",
     "metadata": {},
     "outputs": [
      {
       "output_type": "stream",
       "stream": "stdout",
       "text": [
        "Efficiency, Eta= 26.5 %\n"
       ]
      }
     ],
     "prompt_number": 40
    },
    {
     "cell_type": "heading",
     "level": 2,
     "metadata": {},
     "source": [
      "Example 11.22, Page no.212"
     ]
    },
    {
     "cell_type": "code",
     "collapsed": false,
     "input": [
      "import math\n",
      "#variable declaration\n",
      "p_1=10       #Pitch of the screw jack in mm\n",
      "p_2=7        #Pitch of the screw jack in mm\n",
      "l=360        #Arm length of screw jack in mm\n",
      "W=5*1000     #Load lifted in N\n",
      "Eta=28.0/100 #Efficiency\n",
      "\n",
      "#calculation\n",
      "VR=int((2*math.pi*l)/(p_1-p_2))\n",
      "P=W/(Eta*VR)\n",
      "\n",
      "#Result\n",
      "print\"P=\",round(P,1),\"N\""
     ],
     "language": "python",
     "metadata": {},
     "outputs": [
      {
       "output_type": "stream",
       "stream": "stdout",
       "text": [
        "P= 23.7 N\n"
       ]
      }
     ],
     "prompt_number": 41
    },
    {
     "cell_type": "heading",
     "level": 2,
     "metadata": {},
     "source": [
      "Example 11.23, Page no.214"
     ]
    },
    {
     "cell_type": "code",
     "collapsed": false,
     "input": [
      "import math\n",
      "#variable declaration\n",
      "l=300.0    #length of handle in mm\n",
      "T=50.0     #No. of teeth in worm wheel\n",
      "p=10.0     #Pitch of screw in mm\n",
      "P=100.0    #Effort applied in N\n",
      "W=100000.0 #Load lifted in N\n",
      "n=2        #no. of threads\n",
      "#calculation\n",
      "VR=int((2*math.pi*l*T)/(n*p))\n",
      "MA=W/P\n",
      "Eta=MA/VR\n",
      "\n",
      "#Result\n",
      "print\"Efficiency, Eta=\",round(Eta*100,1),\"%\"\n"
     ],
     "language": "python",
     "metadata": {},
     "outputs": [
      {
       "output_type": "stream",
       "stream": "stdout",
       "text": [
        "Efficiency, Eta= 21.2 %\n"
       ]
      }
     ],
     "prompt_number": 43
    },
    {
     "cell_type": "code",
     "collapsed": false,
     "input": [],
     "language": "python",
     "metadata": {},
     "outputs": []
    }
   ],
   "metadata": {}
  }
 ]
}