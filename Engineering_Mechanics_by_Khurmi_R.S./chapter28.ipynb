{
 "metadata": {
  "name": "",
  "signature": "sha256:009e429ea1d1a6f618797566ada042bfaebc4f67f1205df26f3e658838bf8819"
 },
 "nbformat": 3,
 "nbformat_minor": 0,
 "worksheets": [
  {
   "cells": [
    {
     "cell_type": "heading",
     "level": 1,
     "metadata": {},
     "source": [
      "Chapter 28:Motion Along a Circular Path"
     ]
    },
    {
     "cell_type": "heading",
     "level": 2,
     "metadata": {},
     "source": [
      "Example 28.1, Page no.574"
     ]
    },
    {
     "cell_type": "code",
     "collapsed": false,
     "input": [
      "#variable declaration\n",
      "m=5     #mass of body in kg\n",
      "r=1.5   #Radius of circle in m\n",
      "omega=2 #angular velocity of the body in rad/s\n",
      "\n",
      "#calculation\n",
      "F=m*omega**2*r\n",
      "\n",
      "#Result\n",
      "print\"F=\",int(F),\"N\"\n"
     ],
     "language": "python",
     "metadata": {},
     "outputs": [
      {
       "output_type": "stream",
       "stream": "stdout",
       "text": [
        "F= 30 N\n"
       ]
      }
     ],
     "prompt_number": 1
    },
    {
     "cell_type": "heading",
     "level": 2,
     "metadata": {},
     "source": [
      "Example 28.2, Page no.574"
     ]
    },
    {
     "cell_type": "code",
     "collapsed": false,
     "input": [
      "#variable declaration\n",
      "m=1   #mass of stone in kg\n",
      "r=1   #Radius of circle in m\n",
      "v=10  #linear velocity of the stone in m/s\n",
      "\n",
      "#calculation\n",
      "F=(m*v**2)/r\n",
      "\n",
      "#Result\n",
      "print\"The value of centrifugal force acting on the stone, F=\",int(F),\"N\"\n"
     ],
     "language": "python",
     "metadata": {},
     "outputs": [
      {
       "output_type": "stream",
       "stream": "stdout",
       "text": [
        "The value of centrifugal force acting on the stone, F= 100 N\n"
       ]
      }
     ],
     "prompt_number": 2
    },
    {
     "cell_type": "heading",
     "level": 2,
     "metadata": {},
     "source": [
      "Example 28.3, Page no.574"
     ]
    },
    {
     "cell_type": "code",
     "collapsed": false,
     "input": [
      "import math\n",
      "#variable declaration\n",
      "m=0.25   #mass of ball in kg\n",
      "r=2      #Radius of circle in m\n",
      "F=25     #maximum tension in the sring in N\n",
      "\n",
      "#calculation\n",
      "omega=math.sqrt(F/(m*r))\n",
      "\n",
      "#Result\n",
      "print\"The maximum angular velocity at which the ball can be rotated, omega=\",round(omega,2),\"rad/s\"\n"
     ],
     "language": "python",
     "metadata": {},
     "outputs": [
      {
       "output_type": "stream",
       "stream": "stdout",
       "text": [
        "The maximum angular velocity at which the ball can be rotated, omega= 7.07 rad/s\n"
       ]
      }
     ],
     "prompt_number": 4
    },
    {
     "cell_type": "heading",
     "level": 2,
     "metadata": {},
     "source": [
      "Example 28.6, Page no.576"
     ]
    },
    {
     "cell_type": "code",
     "collapsed": false,
     "input": [
      "#variable declaration\n",
      "m=60   #mass of railway engine in t\n",
      "r=200  #Radius of circular path in m\n",
      "v=10   #velocity of engine in m/s\n",
      "\n",
      "#calculation\n",
      "P_c=(m*v**2)/r\n",
      "\n",
      "#Result\n",
      "print\"The force exerted on the rails towards the centre of the circle, P_c=\",int(P_c),\"kN\"\n",
      "\n",
      "\n"
     ],
     "language": "python",
     "metadata": {},
     "outputs": [
      {
       "output_type": "stream",
       "stream": "stdout",
       "text": [
        "The force exerted on the rails towards the centre of the circle, P_c= 30 kN\n"
       ]
      }
     ],
     "prompt_number": 5
    },
    {
     "cell_type": "heading",
     "level": 2,
     "metadata": {},
     "source": [
      "Example 28.7, Page no.576"
     ]
    },
    {
     "cell_type": "code",
     "collapsed": false,
     "input": [
      "#variable declaration\n",
      "m=1.5  #mass of automobile in t\n",
      "v=15   #velocity of automobile in m/s\n",
      "r=25   #radius of the sag in m\n",
      "g=9.8  #gravity in m/s**2\n",
      "\n",
      "#calculation\n",
      "R=((m*v**2)/r)+(m*g)\n",
      "\n",
      "#Result\n",
      "print\"The reaction between the automobile and road while travelling at the lowest part of the sag is\",round(R,1),\"kN\"\n",
      "\n"
     ],
     "language": "python",
     "metadata": {},
     "outputs": [
      {
       "output_type": "stream",
       "stream": "stdout",
       "text": [
        "The reaction between the automobile and road while travelling at the lowest part of the sag is 28.2 kN\n"
       ]
      }
     ],
     "prompt_number": 6
    },
    {
     "cell_type": "heading",
     "level": 2,
     "metadata": {},
     "source": [
      "Example 28.13, Page no.583"
     ]
    },
    {
     "cell_type": "code",
     "collapsed": false,
     "input": [
      "import math\n",
      "#variable declaration\n",
      "r=50     #Radius of level track in m\n",
      "Mu=0.45  #Coefficient of friction\n",
      "g=9.8    #gravity in m/s**2\n",
      "\n",
      "#calculation\n",
      "v_max=(math.sqrt(Mu*g*r))*3.6  #Multiplying by 3.6 to convert m/s to km.p.h.\n",
      "\n",
      "#Result\n",
      "print\"Maximum speed,v_max=\",round(v_max,1),\"km.p.h.\""
     ],
     "language": "python",
     "metadata": {},
     "outputs": [
      {
       "output_type": "stream",
       "stream": "stdout",
       "text": [
        "Maximum speed,v_max= 53.5 km.p.h.\n"
       ]
      }
     ],
     "prompt_number": 11
    },
    {
     "cell_type": "code",
     "collapsed": false,
     "input": [],
     "language": "python",
     "metadata": {},
     "outputs": []
    }
   ],
   "metadata": {}
  }
 ]
}