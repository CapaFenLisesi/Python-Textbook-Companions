{
 "metadata": {
  "name": "",
  "signature": "sha256:85535c0517c7db1c26616cfbd159ac864531d333c114379946da9cf48e690b11"
 },
 "nbformat": 3,
 "nbformat_minor": 0,
 "worksheets": [
  {
   "cells": [
    {
     "cell_type": "heading",
     "level": 1,
     "metadata": {},
     "source": [
      "chapter 17:Linear Motion"
     ]
    },
    {
     "cell_type": "heading",
     "level": 2,
     "metadata": {},
     "source": [
      "Example 17.1, Page no.363"
     ]
    },
    {
     "cell_type": "code",
     "collapsed": false,
     "input": [
      "#variable declaration\n",
      "u=0    #initial velocity\n",
      "a=0.4  #acceleration in m/s**2\n",
      "t=20   #Time taken in s\n",
      "\n",
      "#calculation\n",
      "s=(u*t)+((a*t**2)/2)\n",
      "\n",
      "#Result\n",
      "print\"The distance covered by the car, s=\",int(s),\"m\"\n",
      "\n"
     ],
     "language": "python",
     "metadata": {},
     "outputs": [
      {
       "output_type": "stream",
       "stream": "stdout",
       "text": [
        "The distance covered by the car, s= 80 m\n"
       ]
      }
     ],
     "prompt_number": 1
    },
    {
     "cell_type": "heading",
     "level": 2,
     "metadata": {},
     "source": [
      "Example 17.2, Page no.363"
     ]
    },
    {
     "cell_type": "code",
     "collapsed": false,
     "input": [
      "#variable declaration\n",
      "u=7.5  #on coverting km.p.h to m/s\n",
      "a=0.5  #acceleration in m/s**2\n",
      "t=12   #Time taken in s\n",
      "\n",
      "#calculation\n",
      "s=(u*t)+((a*t**2)/2)\n",
      "\n",
      "#Result\n",
      "print\"The distance travelled by the train, s=\",int(s),\"m\""
     ],
     "language": "python",
     "metadata": {},
     "outputs": [
      {
       "output_type": "stream",
       "stream": "stdout",
       "text": [
        "The distance travelled by the train, s= 126 m\n"
       ]
      }
     ],
     "prompt_number": 2
    },
    {
     "cell_type": "heading",
     "level": 2,
     "metadata": {},
     "source": [
      "Example 17.3, Page no.363"
     ]
    },
    {
     "cell_type": "code",
     "collapsed": false,
     "input": [
      "import math\n",
      "#variable declaration\n",
      "u=0    #initial velocity\n",
      "a=1.2  #acceleration in m/s**2\n",
      "s=60   #distance travelled in m\n",
      "\n",
      "#calculation\n",
      "v=math.sqrt(u**2+(2*a*s))\n",
      "\n",
      "#Result\n",
      "print\"v=\",round((v*3600)/1000,1),\"km.p.h.\"\n"
     ],
     "language": "python",
     "metadata": {},
     "outputs": [
      {
       "output_type": "stream",
       "stream": "stdout",
       "text": [
        "v= 43.2 km.p.h.\n"
       ]
      }
     ],
     "prompt_number": 5
    },
    {
     "cell_type": "heading",
     "level": 2,
     "metadata": {},
     "source": [
      "Example 17.9, Page no.368"
     ]
    },
    {
     "cell_type": "code",
     "collapsed": false,
     "input": [
      "#variable declaration\n",
      "u=-4.9   #initial velocity in m/s\n",
      "t=2      #time taken in s\n",
      "g=9.8    #gravity in m/s**2\n",
      "\n",
      "#calculation\n",
      "h=(u*t)+((g*t**2)/2)\n",
      "\n",
      "#Result\n",
      "print\"Height of the bridge, h=\",round(h,1),\"m\""
     ],
     "language": "python",
     "metadata": {},
     "outputs": [
      {
       "output_type": "stream",
       "stream": "stdout",
       "text": [
        "Height of the bridge, h= 9.8 m\n"
       ]
      }
     ],
     "prompt_number": 6
    },
    {
     "cell_type": "heading",
     "level": 2,
     "metadata": {},
     "source": [
      "Example 17.10, Page no.368"
     ]
    },
    {
     "cell_type": "code",
     "collapsed": false,
     "input": [
      "#variable declaration\n",
      "u=-12    #velocity of balloon when packet is dropped in m/s\n",
      "t=2      #time in s\n",
      "g=9.8    #gravity in m/s**2\n",
      "\n",
      "#calculation\n",
      "v=u+(g*t)\n",
      "\n",
      "#Result\n",
      "print\"Velocity of packet after 2 sec, v=\",round(v,1),\"m/s\"\n",
      "\n"
     ],
     "language": "python",
     "metadata": {},
     "outputs": [
      {
       "output_type": "stream",
       "stream": "stdout",
       "text": [
        "Velocity of packet after 2 sec, v= 7.6 m/s\n"
       ]
      }
     ],
     "prompt_number": 7
    },
    {
     "cell_type": "heading",
     "level": 2,
     "metadata": {},
     "source": [
      "Example 17.11, Page no.368"
     ]
    },
    {
     "cell_type": "code",
     "collapsed": false,
     "input": [
      "#variable declaration\n",
      "u=0     #initial velocity\n",
      "t=2.8   #Time taken in s\n",
      "g=9.8   #gravity in m/s**2\n",
      "\n",
      "#calculation\n",
      "s=(u*t)+((g*t**2)/2)\n",
      "\n",
      "#Result\n",
      "print\"The height of the buiding, s=\",round(s,1),\"m\""
     ],
     "language": "python",
     "metadata": {},
     "outputs": [
      {
       "output_type": "stream",
       "stream": "stdout",
       "text": [
        "The height of the buiding, s= 38.4 m\n"
       ]
      }
     ],
     "prompt_number": 8
    },
    {
     "cell_type": "heading",
     "level": 2,
     "metadata": {},
     "source": [
      "Example 17.12, Page no.368"
     ]
    },
    {
     "cell_type": "code",
     "collapsed": false,
     "input": [
      "#variable declaration\n",
      "u=0    #initial velocity\n",
      "s=65   #height of the building in s\n",
      "g=9.8  #gravity in m/s**2\n",
      "\n",
      "#calculation\n",
      "v=math.sqrt(u**2+(2*g*s))\n",
      "\n",
      "#Result\n",
      "print\"v=\",round(v,1),\"m/s\"\n"
     ],
     "language": "python",
     "metadata": {},
     "outputs": [
      {
       "output_type": "stream",
       "stream": "stdout",
       "text": [
        "v= 35.7 m/s\n"
       ]
      }
     ],
     "prompt_number": 9
    },
    {
     "cell_type": "heading",
     "level": 2,
     "metadata": {},
     "source": [
      "Example 17.13, Page no.368"
     ]
    },
    {
     "cell_type": "code",
     "collapsed": false,
     "input": [
      "#variable declaration\n",
      "u=-28   #initial velocity in m/s\n",
      "t=2     #time taken in s\n",
      "g=9.8   #gravity in m/s**2\n",
      "\n",
      "#calculation\n",
      "s=(u*t)+((g*t**2)/2)\n",
      "\n",
      "#Result\n",
      "print\"Distance covered by the body in 2 seconds, s=\",round(s,1),\"m\"\n",
      "\n"
     ],
     "language": "python",
     "metadata": {},
     "outputs": [
      {
       "output_type": "stream",
       "stream": "stdout",
       "text": [
        "Distance covered by the body in 2 seconds, s= -36.4 m\n"
       ]
      }
     ],
     "prompt_number": 10
    },
    {
     "cell_type": "heading",
     "level": 2,
     "metadata": {},
     "source": [
      "Example 17.14, Page no.368"
     ]
    },
    {
     "cell_type": "code",
     "collapsed": false,
     "input": [
      "#variable declaration\n",
      "u=-80    #initial velocity in m/s\n",
      "v=0      #Final velocity\n",
      "g=9.8    #gravity in m/s**2\n",
      "\n",
      "#calculation\n",
      "s=(v**2-u**2)/(2*g)\n",
      "\n",
      "#Result\n",
      "print\"Height to which the bullet will rise above the point of projection, s=\",round(s,1),\"m\"\n",
      "\n"
     ],
     "language": "python",
     "metadata": {},
     "outputs": [
      {
       "output_type": "stream",
       "stream": "stdout",
       "text": [
        "Height to which the bullet will rise above the point of projection, s= -326.5 m\n"
       ]
      }
     ],
     "prompt_number": 11
    },
    {
     "cell_type": "heading",
     "level": 2,
     "metadata": {},
     "source": [
      "Example 17.15, Page no.369"
     ]
    },
    {
     "cell_type": "code",
     "collapsed": false,
     "input": [
      "#variable declaration\n",
      "u=0     #initial velocity\n",
      "t_1=3   #Time taken by the first body in s\n",
      "t_2=2   #Time taken by the second body in s\n",
      "\n",
      "#calculation\n",
      "h_1=(u*t_1)+((g*t_1**2)/2)\n",
      "h_2=(u*t_2)+((g*t_2**2)/2)\n",
      "\n",
      "#Result\n",
      "print\"Separation between the bodies=\",round(h_1-h_2,1),\"m\"\n",
      "\n",
      "\n"
     ],
     "language": "python",
     "metadata": {},
     "outputs": [
      {
       "output_type": "stream",
       "stream": "stdout",
       "text": [
        "Separation between the bodies= 24.5 m\n"
       ]
      }
     ],
     "prompt_number": 12
    },
    {
     "cell_type": "code",
     "collapsed": false,
     "input": [],
     "language": "python",
     "metadata": {},
     "outputs": []
    }
   ],
   "metadata": {}
  }
 ]
}