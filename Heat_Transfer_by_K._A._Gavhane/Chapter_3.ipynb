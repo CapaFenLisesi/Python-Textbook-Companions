{
 "cells": [
  {
   "cell_type": "markdown",
   "metadata": {},
   "source": [
    "# Chapter3: Convection"
   ]
  },
  {
   "cell_type": "markdown",
   "metadata": {},
   "source": [
    "## Example no:3.1,Page no:3.44"
   ]
  },
  {
   "cell_type": "code",
   "execution_count": 1,
   "metadata": {
    "collapsed": false
   },
   "outputs": [
    {
     "name": "stdout",
     "output_type": "stream",
     "text": [
      "Boundary layer thickness is del= 0.000734 m or  0.734 mm\n",
      "Wrong units in answer of book,m and mm are wrongly interchanged\n"
     ]
    }
   ],
   "source": [
    "#Boundary layer thickness\n",
    "\n",
    "#Variable declaration\n",
    "mu=10**-3        #N.s/m**2\n",
    "#At distance y from surface\n",
    "#ux=a+by+cy**2+dy**3\n",
    "#At y=0,ux=0 therefore a=0\n",
    "#i.e tao=0\n",
    "#At edge of boundary layer,ie y=del\n",
    "#ux=u_inf\n",
    "#At y=o,c=0\n",
    "#At y=del,ux=b*del+d*del**3\n",
    "\n",
    "#Therefore, b=-3*d*del**3\n",
    "#d=-u_inf/(2*del**2)\n",
    "#b=3*u_inf/(2*del)\n",
    "\n",
    "#For velocity profile,we have:\n",
    "#del/x=4.64*(Nre_x)**(-1/2)\n",
    "\n",
    "#Evaluate N re_x\n",
    "\n",
    "x=75.0         #[mm]\n",
    "x=x/1000         #[m]\n",
    "u_inf=3.0             #[m/s]\n",
    "rho=1000.0            #[kg/m**3] for air\n",
    "\n",
    "#Calculation\n",
    "Nre_x=u_inf*rho*x/mu        #Reynold number\n",
    "#Substituting the value,we get\n",
    "dell=x*4.64*(Nre_x**(-1.0/2.0))       #[m]\n",
    "\n",
    "#Result\n",
    "print\"Boundary layer thickness is del=\",round(dell,6),\"m or \",round(dell*1000,3),\"mm\"\n",
    "print\"Wrong units in answer of book,m and mm are wrongly interchanged\"\n"
   ]
  },
  {
   "cell_type": "markdown",
   "metadata": {},
   "source": [
    "## Example no:3.2,Page no:3.45"
   ]
  },
  {
   "cell_type": "code",
   "execution_count": 144,
   "metadata": {
    "collapsed": false
   },
   "outputs": [
    {
     "name": "stdout",
     "output_type": "stream",
     "text": [
      "Boundary layer thickness at the trailing edge is 18.0 mm\n"
     ]
    }
   ],
   "source": [
    "#Boundary layer thickness of plate\n",
    "\n",
    "#Variable declaration\n",
    "mu=15*10**-6    #sq m /s\n",
    "v=2    #m/s\n",
    "L=2    #[m] length of plate\n",
    "Nre_x=3*10**5\n",
    "\n",
    "#Calculation\n",
    "\n",
    "xc=Nre_x*mu/v    #critical length at whihc the transition takes place\n",
    "#Since xc is less than 2 m.Therefore the flow is laminar\n",
    "#at any distance x,.it is calculated from\n",
    "#del/x=4.64/(math.sqrt(NRe,x))\n",
    "#At x=L=2 m\n",
    "Nre_l=v*L/mu\n",
    "del_l=4.64*L/math.sqrt(Nre_l)\n",
    "del_l=del_l*1000    #[mm]\n",
    "\n",
    "#Result\n",
    "print\"Boundary layer thickness at the trailing edge is\",round(del_l),\"mm\""
   ]
  },
  {
   "cell_type": "markdown",
   "metadata": {},
   "source": [
    "## Example no:3.3,Page no:3.45"
   ]
  },
  {
   "cell_type": "code",
   "execution_count": 2,
   "metadata": {
    "collapsed": false
   },
   "outputs": [
    {
     "name": "stdout",
     "output_type": "stream",
     "text": [
      "Since Nre,x( 80000.0 )is Less than 3*10**5,..the boundary layer is laminar\n",
      "Thickness of boundary layer at x= 0.4 m 6.56 mm\n",
      "Local skin friction coefficient is : 0.0023\n"
     ]
    }
   ],
   "source": [
    "#Thickness of hydrodynamic boundary layer\n",
    "\n",
    "#Variable declaration\n",
    "mu=15*10**-6    #Kinematic viscosity in [sq m /s]\n",
    "x=0.4    #[m]\n",
    "u_inf=3    #[m/s]\n",
    "\n",
    "\n",
    "#Calculation\n",
    "#At x=0.4 m,\n",
    "Nre_x=u_inf*x/mu     \n",
    "import math\n",
    "dell=4.64*x/math.sqrt(Nre_x)    #[m]\n",
    "dell=dell*1000    #[mm]\n",
    "Cf_x=0.664/math.sqrt(Nre_x) \n",
    "\n",
    "#Result\n",
    "print\"Since Nre,x(\",Nre_x,\")is Less than 3*10**5,..the boundary layer is laminar\"\n",
    "print\"Thickness of boundary layer at x=\",x,\"m\",round(dell,2),\"mm\" \n",
    "print\"Local skin friction coefficient is :\",round(Cf_x,4)\n",
    "\n"
   ]
  },
  {
   "cell_type": "markdown",
   "metadata": {},
   "source": [
    "## Example no:3.4,Page no:3.46"
   ]
  },
  {
   "cell_type": "code",
   "execution_count": 3,
   "metadata": {
    "collapsed": false
   },
   "outputs": [
    {
     "name": "stdout",
     "output_type": "stream",
     "text": [
      "Boundary layer thickness at distance 20 cm from leading edge is 0.0058 m= 5.8 mm\n",
      "Boundary layer thickness at distance 40 cm from leading edge is 0.0082 m= 8.2 mm\n",
      "Thus,Mass flow rate entering the boundary layer is 0.003547 kg/s\n"
     ]
    }
   ],
   "source": [
    "#Flat plate boundary layer\n",
    "\n",
    "import math\n",
    "from scipy import integrate\n",
    "\n",
    "#Variable declaration\n",
    "mu=1.85*10**-5           #[kg/(m.s)]\n",
    "P=101.325                #Pressure in [kPa]\n",
    "M_avg=29.0                 #Avg molecular wt of air\n",
    "R=8.31451                #Gas constant\n",
    "T=300.0                    #[K]\n",
    "\n",
    "#Calculation\n",
    "rho=P*M_avg/(R*T)   #[kg/m**3]\n",
    "u_inf=2.0             #Viscosity in [m/s]\n",
    "#At x=20 cm =0.2 m\n",
    "x=0.2                    #[m]\n",
    "Nre_x=rho*u_inf*x/mu     #[Reynolds number]\n",
    "del_by_x=4.64/math.sqrt(Nre_x)   #[Boundary layer]\n",
    "dell=del_by_x*x              #[m]\n",
    "#del=del*1000                #[mm]\n",
    "\n",
    "#At\n",
    "x=0.4           #[m]\n",
    "Nre_x=(rho*u_inf*x)/mu      #<3*10**5\n",
    "#Boundary layer is laminar\n",
    "del_by_x=4.64/math.sqrt(Nre_x)   \n",
    "del1=del_by_x*x              #[m]\n",
    "#del1=del1*1000                #[mm]\n",
    "d=del1-dell                      #Del \n",
    "def f(y):\n",
    "    m_dot=u_inf*(1.5*(y/d)-0.5*(y/d)**3)*rho\n",
    "    return(m_dot)\n",
    "m_dot=integrate.quad(f,0,d)\n",
    "\n",
    "\n",
    "#Result\n",
    "print\"Boundary layer thickness at distance 20 cm from leading edge is\",round(dell,4),\"m=\",round(dell*1000,1),\"mm\"\n",
    "print\"Boundary layer thickness at distance 40 cm from leading edge is\",round(del1,4),\"m=\",round(del1*1000,1),\"mm\"\n",
    "print\"Thus,Mass flow rate entering the boundary layer is\",round(m_dot[0],6),\"kg/s\"\n"
   ]
  },
  {
   "cell_type": "markdown",
   "metadata": {},
   "source": [
    "## Example no:3.5,Page no:3.47"
   ]
  },
  {
   "cell_type": "code",
   "execution_count": 4,
   "metadata": {
    "collapsed": false
   },
   "outputs": [
    {
     "name": "stdout",
     "output_type": "stream",
     "text": [
      "Rate of heat removal is 157.9 W\n",
      "315.8  W heat should be removed continously from the plate\n"
     ]
    }
   ],
   "source": [
    "#Rate of heat removed from plate\n",
    "\n",
    "#Variable declaration\n",
    "mu=3.9*10**-4    #Kinematic viscosity in sq m/s\n",
    "k=36.4*10**-3    #Thermal conductivity in W/(m.K)\n",
    "Npr=0.69\n",
    "u_inf=8    #[m/s]\n",
    "L=1    #Lenght of plate in [m]\n",
    "import math\n",
    "\n",
    "#Calculation\n",
    "Nre_l=u_inf*L/mu \n",
    "#Since Nre_l is less than 3*10**5 ,the flow is laminar over the entire length of plate\n",
    "Nnu=0.664*math.sqrt(Nre_l)*Npr**(1.0/3.0)    #=hL/k\n",
    "h=k*Nnu/L    #w/sq m.K\n",
    "h=3.06      #Approximation   [W/sq m.K]\n",
    "T_inf=523    #[K]\n",
    "Tw=351    #[K]\n",
    "W=0.3    #Width of plate [m]\n",
    "A=W*L    #Area in [sq m]\n",
    "Q=h*A*(T_inf-Tw)    # Rate of heat removal from one side in [W]\n",
    "#from two side:\n",
    "Q2=2*Q    #[W]\n",
    "\n",
    "#Result\n",
    "print\"Rate of heat removal is\",round(Q,1),\"W\"\n",
    "print round(Q2,1),\" W heat should be removed continously from the plate\"\n"
   ]
  },
  {
   "cell_type": "markdown",
   "metadata": {},
   "source": [
    "## Example no:3.6,Page no:3.48"
   ]
  },
  {
   "cell_type": "code",
   "execution_count": 158,
   "metadata": {
    "collapsed": false
   },
   "outputs": [
    {
     "name": "stdout",
     "output_type": "stream",
     "text": [
      "Rate of heat removed from both sides of plate is 382.5 W\n"
     ]
    }
   ],
   "source": [
    "#Heat removed from plate\n",
    "\n",
    "#Variable declaration\n",
    "P1=101.325    #Pressure in [kPa]\n",
    "mu1=30.8*10**-6    #Kinematic viscosity in[sq m /s]\n",
    "k=36.4*10**-3    #[W/(m.K)]\n",
    "Npr=0.69\n",
    "u_inf=8    #Velocity in [m/s]\n",
    "Cp=1.08    #kJ/(kg.K)\n",
    "L=1.5    #Length of plate in [m]\n",
    "W=0.3    #Width in [m]\n",
    "A=L*W    #Area in [sq m]\n",
    "\n",
    "#Calculation\n",
    "import math\n",
    "#At constant temperature: mu1/mu2=P2/P1\n",
    "P2=8     #[kPa]\n",
    "mu2=mu1*P1/P2    #Kinematic viscosity at P2 in [sq m/s]\n",
    "Nre_l=u_inf*L/mu2    #Reynold's no.\n",
    "#Since this is less than 3*10**5\n",
    "Nnu=0.664*math.sqrt(Nre_l)*(Npr**(1.0/3.0))\n",
    "h=Nnu*k/L  # Heat transfer coeffficient in [W/sq m.K]\n",
    "h=round(h,1)\n",
    "\n",
    "T_inf=523    #[K]\n",
    "Tw=353    #[K]\n",
    "Q=2*h*A*(T_inf-Tw)    #Heat removed from both sides in [W]\n",
    "\n",
    "#Result\n",
    "print\"Rate of heat removed from both sides of plate is\",Q,\"W\"\n",
    "\n"
   ]
  },
  {
   "cell_type": "markdown",
   "metadata": {},
   "source": [
    "## Example no:3.7,Page no:3.49"
   ]
  },
  {
   "cell_type": "code",
   "execution_count": 160,
   "metadata": {
    "collapsed": false
   },
   "outputs": [
    {
     "name": "stdout",
     "output_type": "stream",
     "text": [
      "The heat transferred from both sides of the plate is 1450.0 W\n"
     ]
    }
   ],
   "source": [
    "#Local heat transfer coefficient\n",
    "\n",
    "#Variable declaration\n",
    "rho=0.998    #kg/cubic m\n",
    "v=20.76*10**-6    #[sq m/s]\n",
    "Cp=1.009    #[kJ/kg.K]\n",
    "k=0.03    #[W/m.K]\n",
    "u_inf=3    #[m/s]\n",
    "x=0.4    #[m]\n",
    "w=1.5    #[m]\n",
    "\n",
    "#Calculation\n",
    "Nre_x=u_inf*x/v    #Reynolds no at x=0.4 m\n",
    "#Since this is less than 3*10**5.The flow is laminar upto x=0.4 m\n",
    "mu=rho*v  #[kg/(m.s)]\n",
    "import math\n",
    "Cp=1.009    #[kJ/kg.K]\n",
    "Cp=Cp*1000    #[J/kg.K]\n",
    "k=0.03    #W/(m.K)\n",
    "Npr=Cp*mu/k\n",
    "Nnu_x=0.332*(math.sqrt(Nre_x))*(Npr**(1.0/3.0))\n",
    "hx=Nnu_x*k/x    #[W/(m.K)]\n",
    "#Average value is twice this value\n",
    "h=round(2*hx,1)    #[W/(m.K)]\n",
    "A=x*w    #Area in [sq m]\n",
    "Tw=407    #[k]\n",
    "T_inf=293    #[K]\n",
    "Q=h*A*(Tw-T_inf)     #[W]\n",
    "#From both sides of the plate:\n",
    "Q=2*Q    #[W]\n",
    "#Result\n",
    "print\"The heat transferred from both sides of the plate is\",round(Q),\"W\"\n"
   ]
  },
  {
   "cell_type": "markdown",
   "metadata": {},
   "source": [
    "## Example no:3.8,Page no:3.50"
   ]
  },
  {
   "cell_type": "code",
   "execution_count": 161,
   "metadata": {
    "collapsed": false
   },
   "outputs": [
    {
     "name": "stdout",
     "output_type": "stream",
     "text": [
      "Width of plate is 3.0 m\n"
     ]
    }
   ],
   "source": [
    "#Width of plate\n",
    "import math\n",
    "\n",
    "#Variable declaration\n",
    "rho=0.998    #[kg/cubic m]\n",
    "v=20.76*10**-6    #[sq m/s]\n",
    "k=0.03    #[W/m.K]\n",
    "Npr=0.697\n",
    "x=0.4    #[m] from leading edge of the plate\n",
    "u_inf=3    #[m/s]\n",
    "\n",
    "#Calculation\n",
    "Nre_x=u_inf*x/v    #Reynold numebr at x=0.40 m\n",
    "#Since this is less than 3*10**5    \n",
    "#therefore flow is laminar and \n",
    "Nnu_x=0.332*math.sqrt(Nre_x)*(Npr**(1.0/3.0)) \n",
    "hx=Nnu_x*k/x    #[W/sq m.K]\n",
    "#Average heat tarnsfer coefficient is twice this value\n",
    "h=2*hx    #[W/sq m.K]\n",
    "#Given:\n",
    "Q=1450    #[W]\n",
    "Tw=407    #[K]\n",
    "T_inf=293    #[K]\n",
    "L=0.4    #[m]\n",
    "#Q=h*w*L*(Tw-T_inf)\n",
    "#L=Q/(h*w*(Tw-T_inf))\n",
    "w=Q/(h*L*(Tw-T_inf))    #[m]\n",
    "\n",
    "#Result\n",
    "print\"Width of plate is\",round(w),\"m\"\n",
    "\n",
    "\n"
   ]
  },
  {
   "cell_type": "markdown",
   "metadata": {},
   "source": [
    "## Example no:3.9,Page no:3.51"
   ]
  },
  {
   "cell_type": "code",
   "execution_count": 163,
   "metadata": {
    "collapsed": false
   },
   "outputs": [
    {
     "name": "stdout",
     "output_type": "stream",
     "text": [
      "Heat flow is : 81.18 W\n",
      "Heat flow from both sides of plate is 162.36 W\n"
     ]
    }
   ],
   "source": [
    "#Heat transferred in flat plate\n",
    "\n",
    "#Variable declaration\n",
    "v=17.36*10**-6    #Viscosity for air    [sq m./s]\n",
    "k=0.0275    #for air ..[W/(m.K)]\n",
    "Cp=1.006    #[kJ/(kg.K)]\n",
    "Npr=0.7    #for air\n",
    "u_inf=2    #[m/s]\n",
    "x=0.2    #[m]\n",
    "\n",
    "#Calculation\n",
    "Nre_x=u_inf*x/v    #Reynolds number at x=0.2    m\n",
    "#Since this is less than 3*10**5\n",
    "import math\n",
    "Nnu_x=0.332*math.sqrt(Nre_x)*(Npr**(1.0/3.0))\n",
    "hx=Nnu_x*k/x    #[W/(sq m.K]\n",
    "#Average value of heat transfer coeff is twice this value\n",
    "h=round(2*hx,1)    #[W/sq m.K)]\n",
    "w=1    #width in [m]\n",
    "A=x*w    #[sq m] Area of plate\n",
    "Tw=333    #[K]\n",
    "T_inf=300    #[K]\n",
    "Q=h*A*(Tw-T_inf)    #Heat flow in [W]\n",
    "\n",
    "#Result\n",
    "print\"Heat flow is :\",Q,\"W\"\n",
    "#From both sides of plate:\n",
    "Q=2*Q    #[W]\n",
    "print\"Heat flow from both sides of plate is\",Q,\"W\"\n",
    " \n"
   ]
  },
  {
   "cell_type": "markdown",
   "metadata": {},
   "source": [
    "## Example no:3.10,Page no:3.51"
   ]
  },
  {
   "cell_type": "code",
   "execution_count": 165,
   "metadata": {
    "collapsed": false
   },
   "outputs": [
    {
     "name": "stdout",
     "output_type": "stream",
     "text": [
      "Rate of heat transfer from both sides of plate is 109.4 W\n",
      "\n",
      "With turbulent boundary layer,\n",
      "Rate of heat transfer from both sides of the plate= 226.4\n",
      "\n",
      "These calculations show that the that transfer rate is approximately doubled if boundary layer is turbulent from the leading edge \n",
      "\n"
     ]
    }
   ],
   "source": [
    "#Rate of heat transferred in turbulent flow\n",
    "\n",
    "#Variable declaration\n",
    "v=16.96*10**-6    #[sq m./s]\n",
    "rho=1.128    #[kg/cubic m]\n",
    "Npr=0.699    #Prandtl number\n",
    "k=0.0276    #[W/m.K]\n",
    "u_inf=15    #[m/s]\n",
    "L=0.2    #[m]\n",
    "\n",
    "#Calculation\n",
    "Nre_l=L*u_inf/v    #Reynold's number\n",
    "import math\n",
    "\n",
    "#Since this is less than 3*10**5,the boundary layer is laminar over entire length\n",
    "Nnu=0.664*math.sqrt(Nre_l)*(Npr**(1.0/3.0))\n",
    "h=Nnu*k/L    #[W/sq m.K]\n",
    "A=L**2    #Area in [sq m]\n",
    "Tw=293    #[K]\n",
    "T_inf=333    #[K]\n",
    "#Rate of heat transfer from BOTH sides is:\n",
    "Q=2*h*A*(T_inf-Tw)    #[W]\n",
    "print\"Rate of heat transfer from both sides of plate is\",round(Q,1),\"W\\n\"\n",
    "#ii-With turbulent boundary layer from the leading edge:\n",
    "h=k*0.0366*(Nre_l**(0.8))*(Npr**(1.0/3.0))/L       #[W/(sq m.K)]\n",
    "#Heat transfer from both sides is :\n",
    "Q=2*h*A*(T_inf-Tw)            #[W]\n",
    "print \"With turbulent boundary layer,\\nRate of heat transfer from both sides of the plate=\",round(Q,1)\n",
    "print\"\\nThese calculations show that the that transfer rate is approximately doubled if boundary layer is turbulent from the leading edge \\n\"\n",
    "\n",
    "\n"
   ]
  },
  {
   "cell_type": "markdown",
   "metadata": {},
   "source": [
    "## Example no:3.11,Page no:3.52"
   ]
  },
  {
   "cell_type": "code",
   "execution_count": 169,
   "metadata": {
    "collapsed": false
   },
   "outputs": [
    {
     "name": "stdout",
     "output_type": "stream",
     "text": [
      "Heat transfer from the plate is 3179.2 W(approx)\n"
     ]
    }
   ],
   "source": [
    "#Heat transfer from plate in unit direction\n",
    "\n",
    "#Variable declaration\n",
    "mu=1.906*10**-5    #[kg/(m.s)]\n",
    "k=0.02723    #W/m.K\n",
    "Cp=1.007    #[kJ/(kg.K)]\n",
    "rho=1.129    #[kg/cubic m]\n",
    "Npr=0.70\n",
    "Mavg=29\n",
    "u_inf=35    #[m/s]\n",
    "L=0.75    #[m]\n",
    "Tm=313    #[K]\n",
    "P=101.325    #[kPa]\n",
    "\n",
    "#Calculation\n",
    "Nre_l=rho*u_inf*L/mu    #Reynold's number >5*10**5\n",
    "Nnu=0.0366*Nre_l**(0.8)*Npr**(1.0/3.0) \n",
    "h=Nnu*k/L    #[W/s m.K]\n",
    "A=1*L    #[sq m]\n",
    "Tw=333    #[K]\n",
    "T_inf=293    #[K]\n",
    "Q=h*A*(Tw-T_inf)     #[W]\n",
    "\n",
    "#Result\n",
    "print\"Heat transfer from the plate is\",round(Q,1),\"W(approx)\""
   ]
  },
  {
   "cell_type": "markdown",
   "metadata": {},
   "source": [
    "## Example no:3.12,Page no:3.53"
   ]
  },
  {
   "cell_type": "code",
   "execution_count": 170,
   "metadata": {
    "collapsed": false
   },
   "outputs": [
    {
     "name": "stdout",
     "output_type": "stream",
     "text": [
      "Heat lost by sphere is 2.21 W\n"
     ]
    }
   ],
   "source": [
    "#Heat lost by sphere\n",
    "import math\n",
    "\n",
    "#Variable declaration\n",
    "v=18.23*10**-6    #sq m/s\n",
    "k=0.02814    #[W/m.K]\n",
    "D=0.012    #[m]\n",
    "r=0.006    #[m]\n",
    "u_inf=4    #[m/s]\n",
    "\n",
    "#Calculation\n",
    "Nre=D*u_inf/v    #Reynold's number\n",
    "Nnu=0.37*Nre**(0.6) \n",
    "h=Nnu*(k/D)    \n",
    "A=4*math.pi*r**2    #Area of sphere in [sq m]\n",
    "Tw=350    #[K]\n",
    "T_inf=300    #[K]\n",
    "Q=h*A*(Tw-T_inf)    #Heat lost by sphere in [W]\n",
    "\n",
    "#Result\n",
    "print\"Heat lost by sphere is\",round(Q,2),\"W\""
   ]
  },
  {
   "cell_type": "markdown",
   "metadata": {},
   "source": [
    "## Example no:3.13,Page no:3.53"
   ]
  },
  {
   "cell_type": "code",
   "execution_count": 171,
   "metadata": {
    "collapsed": false
   },
   "outputs": [
    {
     "name": "stdout",
     "output_type": "stream",
     "text": [
      "\n",
      " Heat lost by the sphere is 1.554 W\n"
     ]
    }
   ],
   "source": [
    "#Heat lost by sphere\n",
    "\n",
    "#Variable declaration\n",
    "v=15.69*10**-6    #[sq m./s]\n",
    "k=0.02624    #[W/m.K]\n",
    "Npr=0.708    #Prandtl number\n",
    "mu=2.075*10**-5    #kg/m.s\n",
    "u_inf=4    #[m/s]\n",
    "mu_inf=1.8462*10**-5    #[m/s] velocity\n",
    "Tw=350    #[K]\n",
    "T_inf=300    #[K]\n",
    "D=0.012    #[m]\n",
    "r=D/2    #Radius in [m]\n",
    "\n",
    "#Calculation\n",
    "Nre=u_inf*D/v    #Reynold's numbe\n",
    "Nnu=2+(0.4*Nre**(1.0/2.0)+0.06*Nre**(2.0/3.0))*Npr**(0.4)*(mu_inf/mu)**(1.0/4.0)\n",
    "h=Nnu*k/D    #[W/sq m.K]\n",
    "import math\n",
    "A=4*math.pi*r**2    #Area in [sq m]\n",
    "Q=h*A*(Tw-T_inf) \n",
    "\n",
    "#Result\n",
    "print\"\\n Heat lost by the sphere is\",round(Q,3),\"W\""
   ]
  },
  {
   "cell_type": "markdown",
   "metadata": {},
   "source": [
    "## Example no:3.14,Page no:3.54"
   ]
  },
  {
   "cell_type": "code",
   "execution_count": 4,
   "metadata": {
    "collapsed": false
   },
   "outputs": [
    {
     "name": "stdout",
     "output_type": "stream",
     "text": [
      "Heat transfer rate is 12.1 W,And percentage of power lost by convection is: 12.1 %\n"
     ]
    }
   ],
   "source": [
    "#Percent power lost in bulb\n",
    "#Variable declaration\n",
    "v=2.08*10**-5    #[sq m/s]\n",
    "k=0.03    #W/(m.K)\n",
    "Npr=0.697    #Prandtl number\n",
    "D=0.06    #[m]\n",
    "u_inf=0.3    #[m/s]\n",
    "\n",
    "#Calculation\n",
    "Nre=D*u_inf/v    #Reynolds number\n",
    "#Average nusselt number is given by:\n",
    "Nnu=0.37*(Nre**0.6) \n",
    "h=Nnu*k/D    #W/sq m.K\n",
    "Tw=400    #[K]\n",
    "T_inf=300    #[K]\n",
    "D=0.06    #[m]\n",
    "r=0.03    #[m]\n",
    "import math\n",
    "A=4*math.pi*r**2    #Area in [sq m]\n",
    "Q=h*A*(Tw-T_inf)    #[W]\n",
    "per=Q*100/100    #Percent of heat lost by forced convection\n",
    "\n",
    "#Result\n",
    "print\"Heat transfer rate is\",round(Q,2),\"W,And percentage of power lost by convection is:\",round(per,2),\"%\" \n",
    " "
   ]
  },
  {
   "cell_type": "markdown",
   "metadata": {},
   "source": [
    "## Example no:3.15,Page no:3.55"
   ]
  },
  {
   "cell_type": "code",
   "execution_count": 181,
   "metadata": {
    "collapsed": false
   },
   "outputs": [
    {
     "name": "stdout",
     "output_type": "stream",
     "text": [
      "Heat lost per unit length of cylinder is 3102.0 W\n"
     ]
    }
   ],
   "source": [
    " \n",
    "#Heat lost by cylinder  \n",
    "u_inf=50    #velocity in [m/s]\n",
    "mu=2.14*10**-5    #[kg/(m.s)]\n",
    "rho=0.966    #[kg/cubic m]\n",
    "k=0.0312    #[W/(m.K)]\n",
    "Npr=0.695    #Prandtl number\n",
    "D=0.05    #Diameter in [m]\n",
    "Nre=D*u_inf*rho/mu    #Reynold's number\n",
    "Nnu=0.0266*Nre**0.805*Npr**(1.0/3.0) \n",
    "h=round(Nnu*k/D,1)     #W/sq m.K\n",
    "Tw=423    #[K]\n",
    "T_inf=308    #[K]\n",
    "import math\n",
    "#Heat loss per unit length is :\n",
    "Q_by_l=h*math.pi*D*(Tw-T_inf)   #[W]\n",
    "\n",
    "#Result\n",
    "print\"Heat lost per unit length of cylinder is\",round(Q_by_l),\"W\" \n"
   ]
  },
  {
   "cell_type": "markdown",
   "metadata": {},
   "source": [
    "## Example no:3.16,Page no:3.55"
   ]
  },
  {
   "cell_type": "code",
   "execution_count": 186,
   "metadata": {
    "collapsed": false
   },
   "outputs": [
    {
     "name": "stdout",
     "output_type": "stream",
     "text": [
      "Rate of heat flow from the circular pipe is 1464.2 W/m\n",
      "Rate of heat flow from the square pipe= 1711.2 W/m\n",
      "Hence rate of heat flow from square pipe is more than that from circular pipe\n"
     ]
    }
   ],
   "source": [
    "#Heat transfer in tube\n",
    "\n",
    "#Variable declaration\n",
    "v=20.92*10**-6    #sq m/s\n",
    "k=3.0*10.0**-2    #W/(m.K)\n",
    "Npr=0.7\n",
    "u_inf=25.0    #[m/s]\n",
    "d=50.0    #[mm]\n",
    "d=d/1000    #[m]\n",
    "Nre=u_inf*d/v    #Reynold's number\n",
    "Tw=397.0    #[K]\n",
    "T_inf=303.0    #[K]\n",
    "\n",
    "\n",
    "#Calculation\n",
    "import math\n",
    "#Case 1: Circular tube\n",
    "Nnu=0.0266*Nre**(0.805)*Npr**(1.0/3.0) \n",
    "h=Nnu*k/d    #[W/sq m.K]\n",
    "A=math.pi*d    #Area in [sq m]\n",
    "Q=h*A*(Tw-T_inf)    #[W]\n",
    "Q_by_l1=h*math.pi*d*(Tw-T_inf)    #[W/m]\n",
    "\n",
    "#Case 2:Square tube\n",
    "A=50.0*50.0    #Area in [sq mm]\n",
    "P=2.0*(50.0+50.0)    #Perimeter [mm]\n",
    "l=4.0*A/P       #[mm]\n",
    "l=l/1000        #[m]\n",
    "Nnu=0.102*(Nre**0.675)*(Npr**(1.0/3.0))\n",
    "h=Nnu*k/d    #W/(sq m.K)\n",
    "A=4*l*l        #[sq m]\n",
    "\n",
    "Q=h*A*(Tw-T_inf)\n",
    "Q_by_l2=Q/l    #[W/m]\n",
    "\n",
    "\n",
    "#Result\n",
    "\n",
    "print\"Rate of heat flow from the circular pipe is\",round(Q_by_l1,1),\"W/m\" \n",
    "print\"Rate of heat flow from the square pipe=\",round(Q_by_l2,1),\"W/m\"\n",
    "print\"Hence rate of heat flow from square pipe is more than that from circular pipe\""
   ]
  },
  {
   "cell_type": "markdown",
   "metadata": {},
   "source": [
    "##  Example no:3.17,Page no:3.63"
   ]
  },
  {
   "cell_type": "code",
   "execution_count": 188,
   "metadata": {
    "collapsed": false
   },
   "outputs": [
    {
     "name": "stdout",
     "output_type": "stream",
     "text": [
      "Inside heat transfer coefficient is 225.0 W/(sq m.K)\n",
      "NOTE:The answer given in book..ie 1225 is wrong.please redo the calculation of last line manually to check\n",
      "\n"
     ]
    }
   ],
   "source": [
    "\n",
    "#Heat transfer coefficient\n",
    "\n",
    "#Variable declaration\n",
    "mu=0.8    #Viscosity of flowing fluid [N.s/sq m]\n",
    "rho=1.1    #Density of flowinf fluid [g/cubic cm]\n",
    "rho=rho*1000    #Density in [kg/cubic m]\n",
    "Cp=1.26    #Specific heat [kJ/kg.K]\n",
    "Cp=Cp*10**3    # in[J/(kg.K)]\n",
    "k=0.384    #[W/(m.K)]\n",
    "mu_w=1.0    #Viscosity at wall temperature [N.s/sq m]\n",
    "L=5.0    #[m]\n",
    "vfr=300.0    #Volumetric flow rate in [cubic cm/s]\n",
    "vfr=vfr*10.0**-6    #[cubic m/s]\n",
    "mfr=vfr*rho    #Mass flow rate of flowinf fluid [kg/s]\n",
    "Di=20.0    #Inside diameter in[mm]\n",
    "Di=Di/1000    #[m]\n",
    "\n",
    "\n",
    "#Calculation\n",
    "import math\n",
    "Area=(math.pi/4)*Di**2    #Area of cross-section [sq m]\n",
    "u=vfr/Area    #Veloctiy in [m/s]\n",
    "Nre=Di*u*rho/mu    #Reynold's number\n",
    "#As reynold's number is less than 2100,he flow is laminar\n",
    "Npr=Cp*mu/k    #Prandtl number\n",
    "Nnu=1.86*(Nre*Npr*Di/L)**(1.0/3.0)*(mu/mu_w)**(0.14)\n",
    "hi=Nnu*k/Di    #inside heat transfer coefficient [W/sq m.K]\n",
    "\n",
    "#Result\n",
    "print\"Inside heat transfer coefficient is\",round(hi),\"W/(sq m.K)\"\n",
    "#Note:\n",
    "print\"NOTE:The answer given in book..ie 1225 is wrong.please redo the calculation of last line manually to check\\n\"\n"
   ]
  },
  {
   "cell_type": "markdown",
   "metadata": {},
   "source": [
    "## Example no:3.18,Page no:3.64"
   ]
  },
  {
   "cell_type": "code",
   "execution_count": 5,
   "metadata": {
    "collapsed": false
   },
   "outputs": [
    {
     "name": "stdout",
     "output_type": "stream",
     "text": [
      "Inside heat transfer coefficient is  1225.4 W/sq m.K\n"
     ]
    }
   ],
   "source": [
    "#Heat transfer coefficient in heated tube\n",
    "\n",
    "#Variable declaration\n",
    "m=5500.0    #Mass flow rate in [kg/h]\n",
    "m=m/3600.0    #[kg/s]\n",
    "rho=1.07    #Density of fluid in [g/cm**3]\n",
    "rho=rho*1000    #[kg/m**3]\n",
    "vfr=m/rho    #Volumetric flow rate in [m**3/s]\n",
    "Di=40.0    #Diameter of tube [mm]\n",
    "Di=Di/1000    #[m]\n",
    "import math\n",
    "\n",
    "#Calculation\n",
    "A=(math.pi/4)*Di**2    #Area of cross-section in [sq m]\n",
    "u=vfr/A    #Velocity of flowing fluid    [m/s]\n",
    "rho=1070.0    #Density in [kg/m**3]\n",
    "mu=0.004    #Viscosity in [kg/m.s]\n",
    "Nre=Di*u*rho/mu\n",
    "Nre=12198.0       #Approx\n",
    "#Since this reynold's number is less than 10000,the flow is turbulent\n",
    "Cp=2.72    #Specific heat in [kJ/kg.K]\n",
    "Cp=Cp*10**3    #Specific heat in [J/kg.K]\n",
    "k=0.256    #thermal conductivity in [W/m.K]\n",
    "Npr=Cp*mu/k    #Prandtl number\n",
    "Nnu=0.023*(Nre**0.8)*(Npr**0.4)    #Nusselt number\n",
    "hi=k*Nnu/Di    #Inside heat transfer coefficient in [W/m**2.K]\n",
    "\n",
    "#Result\n",
    "print\"Inside heat transfer coefficient is \",round(hi,1),\"W/sq m.K\"\n"
   ]
  },
  {
   "cell_type": "markdown",
   "metadata": {},
   "source": [
    "## Example no:3.19,Page no:3.66"
   ]
  },
  {
   "cell_type": "code",
   "execution_count": 1,
   "metadata": {
    "collapsed": false
   },
   "outputs": [
    {
     "name": "stdout",
     "output_type": "stream",
     "text": [
      "ANSWER-(i) \n",
      "By Dittus-Boelter equation we get h= 12972.6 W/sq m.K\n",
      "Answer-(ii)\n",
      "By Sieder-Tate equation we get h= 12315.04 W/sq m.K\n",
      "\n",
      "NOTE:Calculation mistake in book in part 2 ie sieder tate eqn\n"
     ]
    }
   ],
   "source": [
    "#h of water flowing in tube\n",
    "\n",
    "#Variable declaration\n",
    "rho=984.1    #Density of water [kg/m**3]\n",
    "Cp=4187.0    #Specific heat in [J/kg.K]\n",
    "mu=485.0*10**-6    #Viscosity at 331 K[Pa.s]\n",
    "k=0.657    #[W/(m.K)]\n",
    "mu_w=920.0*10**-6    #Viscosity at 297 K [Pa.s]\n",
    "\n",
    "\n",
    "#Calculation\n",
    "D=16.0    #Diameter in [mm]\n",
    "D=D/1000    #Diameter in [m]\n",
    "u=3.0    #Velocity in [m/s]\n",
    "rho=984.1    #[kg/m**3]\n",
    "Nre=D*u*rho/mu    #Reynolds number\n",
    "Nre=round(Nre)\n",
    "Npr=Cp*mu/k    #Prandtl number\n",
    "\n",
    "#Dittus-Boelter equation (i)\n",
    "Nnu=0.023*(Nre**0.8)*(Npr**0.3)    #nusselt number\n",
    "h=k*Nnu/D    #Heat transfer coefficient [W/m**2.K]\n",
    "\n",
    "#Result\n",
    "print\"ANSWER-(i) \\nBy Dittus-Boelter equation we get h=\",round(h,1),\"W/sq m.K\"\n",
    "#sieder-tate equation (ii)\n",
    "Nnu=0.023*(Nre**0.8)*(Npr**(1.0/3.0))*((mu/mu_w)**0.14)    #Nusselt number\n",
    "h=k*Nnu/D    #Heat transfer coefficient in [W/sq m.K]\n",
    "print\"Answer-(ii)\\nBy Sieder-Tate equation we get h=\",round(h,2),\"W/sq m.K\"\n",
    "print\"\\nNOTE:Calculation mistake in book in part 2 ie sieder tate eqn\"\n"
   ]
  },
  {
   "cell_type": "markdown",
   "metadata": {},
   "source": [
    "## Example no:3.20,Page no:3.67"
   ]
  },
  {
   "cell_type": "code",
   "execution_count": 6,
   "metadata": {
    "collapsed": false
   },
   "outputs": [
    {
     "name": "stdout",
     "output_type": "stream",
     "text": [
      "Heat transfer area is: 358.4 m**2\n"
     ]
    }
   ],
   "source": [
    "#Overall heat transfer coefficient\n",
    "\n",
    "#Variable declaration\n",
    "m_dot=2250    #Mass flow arte in [kg/h]\n",
    "Cp=3.35    #Specific heat in [kJ/(kg.K)]\n",
    "dT=316-288.5    #Temperature drop for oil    [K]\n",
    "Q=Cp*m_dot*dT    #Rate of heat transfer in [kJ/h]\n",
    "Q=round(Q*1000/3600)    #[J/s] or[W]\n",
    "Di=0.04    #Inside diameter [m]\n",
    "Do=0.048    #Outside diamter in [m]\n",
    "hi=4070    #for steam [W/sq m.K]\n",
    "ho=18.26    #For oil [W/sq m.K]\n",
    "Rdo=0.123    #[sq m.K/W]\n",
    "Rdi=0.215    #[sq m.K/W]\n",
    "\n",
    "#Calculation\n",
    "Uo=1.0/(1.0/ho+Do/(hi*Di)+Rdo+Rdi*(Do/Di))    #[W/m**2.K]\n",
    "Uo=2.3\n",
    "import math\n",
    "dT1=373-288.5    #[K]\n",
    "dT2=373-316    #[K]\n",
    "dTm=(dT1-dT2)/math.log(dT1/dT2)    #[K]\n",
    "Ao=Q/(Uo*dTm)    #Heat transfer area in [m**2]\n",
    "\n",
    "#Result\n",
    "print\"Heat transfer area is:\",round(Ao,1),\"m**2\"\n",
    "\n"
   ]
  },
  {
   "cell_type": "markdown",
   "metadata": {},
   "source": [
    "## Example no:3.21,Page no:3.68"
   ]
  },
  {
   "cell_type": "code",
   "execution_count": 123,
   "metadata": {
    "collapsed": false
   },
   "outputs": [
    {
     "name": "stdout",
     "output_type": "stream",
     "text": [
      "No. of tubes required= 1.0\n",
      "\n",
      "NOTE: there is an error in book in calculation of dT1 and dT2,\n",
      "373-293 is written as 90,instead of 80...similarly in dT2,\n",
      "So,in compliance with the book,10 is added to both of them\n"
     ]
    }
   ],
   "source": [
    "#Number of tubes in exchanger\n",
    "import math\n",
    "\n",
    "#Variable declaration\n",
    "k_tube=111.65    #[W/m.K]\n",
    "W=4500.0    #[kg/h]\n",
    "rho=995.7    #[kg/sq m]\n",
    "Cp=4.174    #[kJ/(kg.K)]\n",
    "k=0.617    #[W/(m.K)]\n",
    "v=0.659*10**-6    #Kinematic viscosity [sq m/s]\n",
    "m_dot=1720.0    #kg/h\n",
    "T1=293.0    #Initial temperature in [K]\n",
    "T2=318.0    #Final temperature in [K]\n",
    "\n",
    "\n",
    "#Calculation\n",
    "dT=T2-T1    #[K]\n",
    "Q=m_dot*Cp*dT    #Heat transfer rate in [kJ/h]\n",
    "Q=Q*1000.0/3600.0    #[J/s] or [W]\n",
    "Di=0.0225    #[m]\n",
    "u=1.2    #[m/s]\n",
    "#Nre=Di*u*rho/mu or\n",
    "Nre=Di*u/v    #Reynolds number\n",
    "#As Nre is greater than 10000,Dittus Boelter equation is applicable\n",
    "Cp=Cp*10**3    #J/(kg.K)\n",
    "mu=v*rho    #[kg/(m.s)]\n",
    "Npr=Cp*mu/k    #Prandtl number\n",
    "#Dittus-Boelter equation for heating is \n",
    "Nnu=0.023*(Nre**0.8)*(Npr**0.4)\n",
    "hi=k*Nnu/Di    #Heat transfer coefficient  [W/(sq m.K)]\n",
    "Do=0.025    #[m]\n",
    "Dw=(Do-Di)/math.log(Do/Di)    #math.log mean diameter in [m]\n",
    "ho=4650.0    #[W/sq m.K]\n",
    "k=111.65    #[W/m.K]\n",
    "xw=(Do-Di)/2    #[m]\n",
    "Uo=1.0/(1.0/ho+Do/(hi*Di)+xw*Do/(k*Dw))    #Overall heat transfer coefficient in W/(m**2.K)\n",
    "T_steam=373.0    #Temperature of condensing steam in [K]\n",
    "dT1=T_steam-T1+10    #[K]\n",
    "dT2=T_steam-T2+10    #[K]\n",
    "dTm=(dT1-dT2)/math.log(dT1/dT2)    #[K]\n",
    "Ao=Q/(Uo*dTm)#Area in [m**2]\n",
    "L=4.0    #length of tube [m]\n",
    "n=Ao/(math.pi*Do*L)    #number of tubes\n",
    "\n",
    "\n",
    "#Result\n",
    "print\"No. of tubes required=\",round(n) \n",
    "print\"\\nNOTE: there is an error in book in calculation of dT1 and dT2,\\n373-293 is written as 90,instead of 80...similarly in dT2,\\nSo,in compliance with the book,10 is added to both of them\"\n"
   ]
  },
  {
   "cell_type": "markdown",
   "metadata": {},
   "source": [
    "## Example no:3.22,Page no:3.71"
   ]
  },
  {
   "cell_type": "code",
   "execution_count": 196,
   "metadata": {
    "collapsed": false
   },
   "outputs": [
    {
     "name": "stdout",
     "output_type": "stream",
     "text": [
      "Average value of convective film coefficient is hi= 11584.0  W/sq m.K\n",
      "Heat transferred per unit length is Q/L= 18.2 kW/m\n"
     ]
    }
   ],
   "source": [
    "#Convective film coefficient\n",
    "import math\n",
    "\n",
    "#Variable declaration\n",
    "m_dot=25000    #massflow rate of water [kg/h]\n",
    "rho=992.2    #[kg/m**3]\n",
    "k=0.634    #[W/m.K]\n",
    "vfr=m_dot/rho    #[m**3/h]\n",
    "Npr=4.31    #Prandtl numberl\n",
    "Di=50    #[mm]\n",
    "Di=0.05    #[m]\n",
    "dT=10    #[K] as the wall is at a temperature of 10 K above the bulk temperature\n",
    "\n",
    "#Calculation\n",
    "u=round((vfr/3600)/(math.pi*(Di/2)**2),2)    #Velocity of water in [m/s]\n",
    "#Nre=Di*u*rho/mu=Di*u/v    as v=mu/rho\n",
    "v=0.659*10**-6     #[m**2/s]\n",
    "Nre=Di*u/v    #Reynolds number\n",
    "#As it is less than 10000,the flow is in the turbulent region for heat transfer and Dittus Boelter eqn is used\n",
    "Nnu=0.023*(Nre**0.8)*(Npr**0.4)     #Nusselt number\n",
    "hi=Nnu*k/Di    #Heat transfer coefficiet in [W/sq m.K]\n",
    "q_by_l=hi*math.pi*Di*dT   #Heat transfer per unit length[kW/m]\n",
    "\n",
    "#Result\n",
    "print\"Average value of convective film coefficient is hi=\",round(hi),\" W/sq m.K\"\n",
    "print\"Heat transferred per unit length is Q/L=\",round(q_by_l/1000,1),\"kW/m\"\n",
    " \n",
    "\n"
   ]
  },
  {
   "cell_type": "markdown",
   "metadata": {},
   "source": [
    "## Example no:3.23,Page no:3.72"
   ]
  },
  {
   "cell_type": "code",
   "execution_count": 7,
   "metadata": {
    "collapsed": false
   },
   "outputs": [
    {
     "name": "stdout",
     "output_type": "stream",
     "text": [
      "Length of tube required is 5.0 m\n"
     ]
    }
   ],
   "source": [
    "#Length of tube\n",
    "import math\n",
    "\n",
    "#Variable declaration\n",
    "vfr=1200.0     #Water flow rate in [l/h]\n",
    "rho=0.98     #Density of water in g/[cubic cm]\n",
    "m_dot=vfr*rho    #Mass flow rate of water [kg/h]\n",
    "m_dot2=m_dot/3600.0    #[kg/s]\n",
    "Cp=4.187*10**3     #[J/kg.K]\n",
    "Di=0.025     #Diameter in [m]\n",
    "mu=0.0006     #[kg/(m.s)]\n",
    "\n",
    "#Calculation\n",
    "Ai=math.pi*((Di/2)**2)    #Area of cross-section in [m**2]\n",
    "Nre=(Di/mu)*(m_dot2/Ai)    #Reynolds number\n",
    "k=0.63   #for metal wall in [W/(m.K)]\n",
    "Npr=Cp*mu/k     #Prandtl number\n",
    "#Since Nre>10000\n",
    "#therefore ,Dittus boelter eqn for heating is \n",
    "Nnu=0.023*(Nre**(0.8))*(Npr**(0.4))\n",
    "ho=5800.0     #Film heat coefficientW/(m**2.K)\n",
    "hi=Nnu*k/Di    #Heat transfer coeffcient in [W/(sq m.K)]\n",
    "Do=0.028     #[m]\n",
    "Di=0.025     #[m]\n",
    "xw=(Do-Di)/2     #[m]\n",
    "Dw=(Do-Di)/math.log(Do/Di)     #[m]\n",
    "k=50.0     #for metal wall in [W/(m.K)]\n",
    "Uo=1.0/(1.0/ho+Do/(hi*Di)+xw*Do/(k*Dw))     #in [W/sq m.K]\n",
    "dT=343.0-303.0   #[K]\n",
    "dT1=393.0-303.0     #[K]\n",
    "dT2=393.0-343.0     #[K]\n",
    "dTm=(dT1-dT2)/math.log(dT1/dT2)     #[K]\n",
    "Cp=Cp/1000.0   #[in [kJ/kg.K]]\n",
    "Q=m_dot*Cp*dT     #Rate of heat transfer in [kJ/h]\n",
    "Q=Q*1000.0/3600.0     #[J/s] or [W]\n",
    "Ao=Q/(Uo*dTm)     #Heat transfer area in [sq m]\n",
    "#Also,..Ao=math.pi*Do*L    ..implies that\n",
    "L=Ao/(math.pi*Do)    #[m]\n",
    "\n",
    "#Result\n",
    "print\"Length of tube required is\",round(L),\"m\"\n"
   ]
  },
  {
   "cell_type": "markdown",
   "metadata": {},
   "source": [
    "## Example no:3.24,Page no:3.73"
   ]
  },
  {
   "cell_type": "code",
   "execution_count": 8,
   "metadata": {
    "collapsed": false
   },
   "outputs": [
    {
     "name": "stdout",
     "output_type": "stream",
     "text": [
      "Outlet temperature of water is 357.5 K\n"
     ]
    }
   ],
   "source": [
    "#Cooling coil\n",
    "#1.For initial conditions:\n",
    "import math\n",
    "from scipy.optimize import fsolve\n",
    "\n",
    "#Variable declaration\n",
    "T=360            #[K]\n",
    "T1=280          #[K]\n",
    "T2=320          #[K]\n",
    "dT1=T-T1        #[K]\n",
    "dT2=T-T2        #[K]\n",
    "\n",
    "#Calculation\n",
    "#Q1=m1_dot*Cp1*(T2-T1)\n",
    "Cp1=4.187           #Heat capacity \n",
    "dTlm=(dT1-dT2)/math.log(dT1/dT2) #[K]\n",
    "m1_by_UA=dTlm/(Cp1*(T2-T1)) \n",
    "#For final conditions :\n",
    "#m2_dot=m1_dot\n",
    "#U2=U1\n",
    "#A2=5*A1\n",
    "def f(t):\n",
    "    x=m1_by_UA*Cp1*(t-T1)-5*((dT1-(T-t))/math.log(dT1/(T-t)))\n",
    "    return(x)\n",
    "T=fsolve(f,350.5)\n",
    "\n",
    "#Result\n",
    "print\"Outlet temperature of water is\",T[0],\"K\"\n"
   ]
  },
  {
   "cell_type": "markdown",
   "metadata": {},
   "source": [
    "## Example no:3.25,Page no:3.74"
   ]
  },
  {
   "cell_type": "code",
   "execution_count": 199,
   "metadata": {
    "collapsed": false
   },
   "outputs": [
    {
     "name": "stdout",
     "output_type": "stream",
     "text": [
      "Outlet temperature of water is: 338.0 K\n",
      "Area of heat transfer required is 0.21 m^2\n",
      "Length of tube required is 2.66 m\n"
     ]
    }
   ],
   "source": [
    "#Outlet temperature of water\n",
    "import math\n",
    "\n",
    "\n",
    "#Variable declaration\n",
    "mo_dot=60.0   #Mass flow rate of oilin [g/s]\n",
    "mo_dot=6.0*10**-2  #[kg/s]\n",
    "Cpo=2.0     #Specific heat of oil in [kJ/(kg.K)]\n",
    "T1=420.0  #[K]\n",
    "T2=320.0  #[K]\n",
    "\n",
    "#Calculation\n",
    "Q=mo_dot*Cpo*(T1-T2)    #Rate of heat flow in [kJ/s]\n",
    "mw_dot=mo_dot   #Mass flow rate of water   #kg/s\n",
    "t1=290.0 #[K]\n",
    "Cpw=4.18    #[kJ/(kg.K)]\n",
    "#For finding outlet temperature of water\n",
    "t2=t1+Q/(mw_dot*Cpw)    #[K]\n",
    "dT1=T1-t2   #[K]\n",
    "dT2=T2-t1   #[K]\n",
    "dTm=(dT1-dT2)/math.log(dT1/dT2)  #[K]\n",
    "ho=1.6  #Oil side heat transfer coefficient in [kW/(sq m.K)]\n",
    "hi=3.6  #Water side heat transfer coeff in [kW/(sq m.K)]\n",
    "#Overall heat transfer coefficient is:\n",
    "U=1.0/(1.0/ho+1.0/hi) #[kW/(m**2.K)]\n",
    "A=Q/(U*dTm) #[sq m]\n",
    "Do=25.0   #[mm]\n",
    "Do=Do/1000  #[m]\n",
    "L=A/(math.pi*Do)    #Length of tube in [m]\n",
    "\n",
    "#Result\n",
    "print\"Outlet temperature of water is:\",round(t2),\"K\" \n",
    "print\"Area of heat transfer required is\",round(A,2),\"m^2\"\n",
    "print\"Length of tube required is\",round(L,2),\"m\"\n",
    "\n",
    "\n"
   ]
  },
  {
   "cell_type": "markdown",
   "metadata": {},
   "source": [
    "## Example no:3.26,Page no:3.76"
   ]
  },
  {
   "cell_type": "code",
   "execution_count": 200,
   "metadata": {
    "collapsed": false
   },
   "outputs": [
    {
     "name": "stdout",
     "output_type": "stream",
     "text": [
      "The inside heat transfer coefficient is 272.97 W/(m**2.K) \n",
      "NOTE:Calculation mistake in last line.ie in the calculation of hi in book,please perform the calculation manually to check the answer\n"
     ]
    }
   ],
   "source": [
    "#Inside heat transfer coefficient\n",
    "import math\n",
    "\n",
    "#Variable declaration\n",
    "k=0.14  # for oil[W/m.K]\n",
    "Cp=2.1 # for oil [kJ/kg.K]\n",
    "Cp=Cp*10**3  #J/kg.K\n",
    "mu=154  #[mN.s/sq m]\n",
    "mu_w=87 #(mn.s/sq m)\n",
    "L=1.5   #[m]\n",
    "m_dot=0.5   #Mass flow rate of oil[kg/s]\n",
    "Di=0.019 #Diameter of tube [m]\n",
    "mean_T=319  #Mean temperature of oil [K]\n",
    "\n",
    "#Calculation\n",
    "mu=mu*10**-3 #[N.s/sq m] or [kg/(m.s)]\n",
    "A=math.pi*(Di/2)**2   #[sq m]\n",
    "G=m_dot/A   #Mass velocity in [kg/sq m.s]\n",
    "Nre=Di*G/mu  #Reynolds number\n",
    "#As Nre<2100,the flow is laminar\n",
    "mu_w=mu_w*10**-3 #[N.s/sq m] or kg/(m.s)\n",
    "#The sieder tate equation is \n",
    "hi=(k*(2.0*((m_dot*Cp)/(k*L))**(1.0/3.0)*(mu/mu_w)**(0.14)))/Di   #Heat transfer coeff in [W/sq m.K]\n",
    "\n",
    "#Result\n",
    "print\"The inside heat transfer coefficient is\",round(hi,2),\"W/(m**2.K) \" \n",
    "print\"NOTE:Calculation mistake in last line.ie in the calculation of hi in book,please perform the calculation manually to check the answer\"\n"
   ]
  },
  {
   "cell_type": "markdown",
   "metadata": {},
   "source": [
    "## Example no:3.27,Page no:3.77"
   ]
  },
  {
   "cell_type": "code",
   "execution_count": 202,
   "metadata": {
    "collapsed": false
   },
   "outputs": [
    {
     "name": "stdout",
     "output_type": "stream",
     "text": [
      "Based on outside temperature,Inside heat transfer coefficient is 4201.0 W/(m**2.K) or  4.2 kW/(m**2.K)\n"
     ]
    }
   ],
   "source": [
    "#Film heat transfer coefficient\n",
    "import math\n",
    "\n",
    "#Variable declaration\n",
    "m_dot=0.217 #Water flow rate in [kg/s]\n",
    "Do=19.0   #Outside diameter in [mm]\n",
    "rho=1000.0    #Density\n",
    "t=1.6   #Wall thickness in [mm]\n",
    "Di=Do-2*t   #i.d of tube in [mm]\n",
    "Di=Di/1000.0  #[m]\n",
    "Do=Do/1000.0  #[m]\n",
    "\n",
    "\n",
    "#Calculation\n",
    "Ai=math.pi*(Di/2)**2 #Cross-sectional area in sq m\n",
    "u=m_dot/(rho*Ai)  #Water velocity through tube  [m/s]\n",
    "u=1.12  #approx in book\n",
    "Di=0.0157   #apprx in book\n",
    "T1=301.0  #Inlet temperature of water in [K]\n",
    "T2=315.0  #Outlet temperature of water in [K]\n",
    "T=(T1+T2)/2 #[K]\n",
    "hi=(1063.0*(1+0.00293*T)*(u**0.8))/(Di**0.20) #Inside heat transfer coefficient W/(sq m.K)\n",
    "hi=5084.0     #Approximation\n",
    "hio=hi*(Di/Do)  #Inside heat transfer coeff based on outside diameter  in W/(sq m.K)\n",
    "\n",
    "#Result\n",
    "print\"Based on outside temperature,Inside heat transfer coefficient is\",round(hio),\"W/(m**2.K) or \",round(hio/1000,1),\"kW/(m**2.K)\"\n",
    "\n"
   ]
  },
  {
   "cell_type": "markdown",
   "metadata": {},
   "source": [
    "## Example no:3.28,Page no:3.77"
   ]
  },
  {
   "cell_type": "code",
   "execution_count": 9,
   "metadata": {
    "collapsed": false
   },
   "outputs": [
    {
     "name": "stdout",
     "output_type": "stream",
     "text": [
      "Heat transfer area of equipment is 6.5 m^2\n"
     ]
    }
   ],
   "source": [
    "#Area of exchanger\n",
    "import math\n",
    "#Variable declaration\n",
    "mair_dot=0.90   #[kg/s]\n",
    "T1=283.0  #[K]\n",
    "T2=366.0  #[K]\n",
    "dT=(T1+T2)/2    #[K]\n",
    "Di=12.0   #[mm]\n",
    "Di=Di/1000.0  #[m]\n",
    "G=19.9  #[kg/(sq m.s)]\n",
    "mu=0.0198   #[mN.s/(sq m)]\n",
    "mu=mu*10**-3 #[N.s/sq m] or [kg/(m.s)]\n",
    "\n",
    "#Calculation\n",
    "Nre=Di*G/mu #Reynolds number\n",
    "#It is greater than 10**4\n",
    "k=0.029 #W/(m.K)\n",
    "Cp=1.0    #[kJ/kg.K]\n",
    "Cp1=Cp*10**3  #[J/kg.K]\n",
    "Npr=Cp1*mu/k #Parndtl number\n",
    "#Dittus-Boelter equation is\n",
    "hi=0.023*(Nre**0.8)*(Npr**0.4)*k/Di   #[W/sq m.K]\n",
    "ho=232.0  #W/sq m.K\n",
    "U=1.0/(1.0/hi+1.0/ho) #Overall heat transfer coefficient  [W/m**2.K]\n",
    "Q=mair_dot*Cp*(T2-T1)   #kJ/s\n",
    "Q=Q*10**3    #[J/s] or [W]\n",
    "T=700.0   #[K]\n",
    "dT1=T-T2    #[K]\n",
    "dT2=T2-T1   #[K]\n",
    "dTm=(dT1-dT2)/math.log(dT1/dT2)  #[K]\n",
    "#Q=U*A*dTm\n",
    "A=Q/(U*dTm) #Area in sq m\n",
    "\n",
    "#Result\n",
    "print\"Heat transfer area of equipment is\",round(A,2),\"m^2\" \n"
   ]
  },
  {
   "cell_type": "markdown",
   "metadata": {},
   "source": [
    "## Example no:3.29,Page no:3.82"
   ]
  },
  {
   "cell_type": "code",
   "execution_count": 206,
   "metadata": {
    "collapsed": false
   },
   "outputs": [
    {
     "name": "stdout",
     "output_type": "stream",
     "text": [
      "In free convection,heat transfer coeff,h= 5.3 W/(m^2.K)\n",
      "In forced convection,heat transfer coeff,h= 14.12 W/(m^2.K)\n",
      "From above it is clear that heat transfer coefficient in forced convection is much larger than that in free convection\n"
     ]
    }
   ],
   "source": [
    "#Natural and forced convection\n",
    "import math\n",
    "#Variable declaration\n",
    "v=18.41*10**-6   #[sq m./s]\n",
    "k=28.15*10**-3   #[W/m.K]\n",
    "Npr=0.7 #Prandtl number\n",
    "Beta=3.077*10**-3    #K**-1\n",
    "g=9.81  #m/s**2\n",
    "Tw=350  #[K]\n",
    "T_inf=300   #[K]\n",
    "dT=Tw-T_inf #[K]\n",
    "L=0.3   #[m]\n",
    "\n",
    "\n",
    "#Calculation\n",
    "#1.Free Convection\n",
    "Ngr=(g*Beta*dT*L**3)/(v**2) #Grashof number\n",
    "Npr=0.7 #Prandtl number\n",
    "Nnu=0.59*(Ngr*Npr)**(1.0/4.0)    #Nusselt number\n",
    "h=Nnu*k/L   #Average heat transfer coefficient [W/sq m K]\n",
    "\n",
    "#2.Forced Convestion\n",
    "u_inf=4 #[m/s]\n",
    "Nre_l=u_inf*L/v\n",
    "Nnu=0.664*(Nre_l**(1.0/2.0))*(Npr**(1.0/3.0))     #Nusselt number\n",
    "h1=Nnu*k/L   #[W/sq m.K]\n",
    "\n",
    "\n",
    "#Result\n",
    "print\"In free convection,heat transfer coeff,h=\",round(h,1),\"W/(m^2.K)\"\n",
    "print\"In forced convection,heat transfer coeff,h=\",round(h1,2),\"W/(m^2.K)\"\n",
    "print\"From above it is clear that heat transfer coefficient in forced convection is much larger than that in free convection\"\n",
    "\n"
   ]
  },
  {
   "cell_type": "markdown",
   "metadata": {},
   "source": [
    "## Example no:3.30,Page no:3.83"
   ]
  },
  {
   "cell_type": "code",
   "execution_count": 208,
   "metadata": {
    "collapsed": false
   },
   "outputs": [
    {
     "name": "stdout",
     "output_type": "stream",
     "text": [
      "Heat transferred is 6020.0 W\n"
     ]
    }
   ],
   "source": [
    "#Natural convection\n",
    "\n",
    "import math\n",
    "#Variable declaration\n",
    "k=0.02685   #W/(m.K)\n",
    "v=16.5*10**-6  #kg/(m.s)\n",
    "Npr=0.7 #Prandtl number\n",
    "Beta=3.25*10**-3 #K**-1\n",
    "g=9.81  #m/(s**2)\n",
    "Tw=333  #[k]\n",
    "T_inf=283   #[K]\n",
    "dT=Tw-T_inf  #[K]\n",
    "L=4 #Length/height  of plate [m]\n",
    "\n",
    "#Calculation\n",
    "Ngr=(g*Beta*dT*(L**3))/(v**2)   #Grashoff number\n",
    "#Let const=Ngr*Npr\n",
    "const=Ngr*Npr\n",
    "#Sice it is >10**9\n",
    "Nnu=0.10*(const**(1.0/3.0))   #Nusselt number\n",
    "h=round(Nnu*k/L,1)   #W/(sq m.K)\n",
    "W=7 #width in [m]\n",
    "A=L*W   #Area of heat transfer in [sq m]\n",
    "Q=h*A*dT    #[W]\n",
    "\n",
    "#Result\n",
    "print\"Heat transferred is\",Q,\"W\"\n"
   ]
  },
  {
   "cell_type": "markdown",
   "metadata": {},
   "source": [
    "## Example no:3.31,Page no:3.84"
   ]
  },
  {
   "cell_type": "code",
   "execution_count": 210,
   "metadata": {
    "collapsed": false
   },
   "outputs": [
    {
     "name": "stdout",
     "output_type": "stream",
     "text": [
      "Hence,Heat loss per metre length is 120.68 W/m\n"
     ]
    }
   ],
   "source": [
    "#Free convection in vertical pipe\n",
    "import math\n",
    "\n",
    "#Variable declaration\n",
    "v=18.97*10**-6   #m**2/s\n",
    "k=28.96*10**-3   #W/(m.K)\n",
    "Npr=0.696\n",
    "D=100.0   #Outer diameter [mm]\n",
    "D=D/1000    #[m]\n",
    "Tf=333.0  #Film temperature in [K]\n",
    "Tw=373.0  #[K]\n",
    "T_inf=293.0   #[K]\n",
    "\n",
    "#Calculation\n",
    "dT=Tw-T_inf #[K]\n",
    "Beta=1.0/Tf   #[K**-1]\n",
    "g=9.81  #[m/s**2]\n",
    "L=3.0 #Length of pipe [m]\n",
    "Ngr=(g*Beta*dT*(L**3))/(v**2) #Grashof number\n",
    "Nra=Ngr*Npr\n",
    "Nnu=0.10*(Ngr*Npr)**(1.0/3.0)    #nusselt number for vertical cylinder\n",
    "h=Nnu*k/L   #W/(sq m.K)\n",
    "Q_by_l=h*math.pi*D*dT   #Heat loss per metre length [W/m]\n",
    "\n",
    "#Result\n",
    "print\"Hence,Heat loss per metre length is\",round(Q_by_l,2),\"W/m\"\n"
   ]
  },
  {
   "cell_type": "markdown",
   "metadata": {},
   "source": [
    "## Example no:3.32,Page no:3.84"
   ]
  },
  {
   "cell_type": "code",
   "execution_count": 213,
   "metadata": {
    "collapsed": false
   },
   "outputs": [
    {
     "name": "stdout",
     "output_type": "stream",
     "text": [
      "Heat loss per unit length of the heater is 653.4 W/m(APPROX)\n"
     ]
    }
   ],
   "source": [
    "#Heat loss per unit length\n",
    "import math\n",
    "\n",
    "#Variable declaration\n",
    "k=0.630 #W/(m.K\n",
    "Beta=3.04*10**-4 #K**-1\n",
    "rho=1000.0    #kg/m**3\n",
    "mu=8.0*10**-4    #[kg/(m.s)]\n",
    "Cp=4.187    #kJ/(kg.K)\n",
    "g=9.81  #[m/(s**2)]\n",
    "Tw=313.0  #[K]\n",
    "T_inf=298.0   #[K]\n",
    "dT=Tw-T_inf #[K]\n",
    "D=20.0    #[mm]\n",
    "D=D/1000    #[m]\n",
    "\n",
    "#Calculation\n",
    "Ngr=9.81*(rho**2)*Beta*dT*(D**3)/(mu**2)   #Grashoff number\n",
    "Cp1=Cp*1000.0 #[J/kg.K]\n",
    "Npr=Cp1*mu/k #Prandtl number\n",
    "#Average nusselt number is\n",
    "Nnu=0.53*(Ngr*Npr)**(1.0/4.0)\n",
    "h=Nnu*k/D  #[W/ sqm.K]\n",
    "Q_by_l=h*math.pi*D*dT   #Heat loss per unit length [W/m]\n",
    "\n",
    "#Result\n",
    "print\"Heat loss per unit length of the heater is\",round(Q_by_l,1),\"W/m(APPROX)\"\n",
    "\n"
   ]
  },
  {
   "cell_type": "markdown",
   "metadata": {},
   "source": [
    "## Example no:3.33,Page no:3.85"
   ]
  },
  {
   "cell_type": "code",
   "execution_count": 214,
   "metadata": {
    "collapsed": false
   },
   "outputs": [
    {
     "name": "stdout",
     "output_type": "stream",
     "text": [
      "Heat loss of heat transfer per meter lengh is 1492.4 W/m\n"
     ]
    }
   ],
   "source": [
    "#Free convection in pipe\n",
    "import math\n",
    "\n",
    "#Variable declaration\n",
    "k=0.03406   #[W/(m/K)]\n",
    "Beta=2.47*10**-3 #K**-1\n",
    "Npr=0.687   #Prandtl number\n",
    "v=26.54*10**-6   #m**2/s\n",
    "g=9.81  #[m/s**2]\n",
    "Tw=523.0  #[K]\n",
    "T_inf=288.0   #[K]\n",
    "dT=Tw-T_inf #[K]\n",
    "D=0.3048    #[m]\n",
    "\n",
    "#Calculation\n",
    "Ngr=(g*Beta*dT*(D**3))/(v**2)     #Grashof number\n",
    "Nra=Ngr*Npr \n",
    "#For Nra less than 10**9,we have for horizontal cylinder\n",
    "Nnu=0.53*(Nra**(1.0/4.0))    #Nusselt number\n",
    "h=Nnu*k/D   #[W/sq m.K]\n",
    "Q_by_l=h*math.pi*D*dT   #W/m\n",
    "\n",
    "#Result\n",
    "print\"Heat loss of heat transfer per meter lengh is\",round(Q_by_l,1),\"W/m\"\n"
   ]
  },
  {
   "cell_type": "markdown",
   "metadata": {},
   "source": [
    "## Example no:3.34,Page no:3.86"
   ]
  },
  {
   "cell_type": "code",
   "execution_count": 215,
   "metadata": {
    "collapsed": false
   },
   "outputs": [
    {
     "name": "stdout",
     "output_type": "stream",
     "text": [
      "The rate of heat input is 3410.4 W\n"
     ]
    }
   ],
   "source": [
    "#Free convection in plate\n",
    "import math\n",
    "\n",
    "#Variable declaration\n",
    "rho=960.63  #Density in [kg/m**3]\n",
    "Cp=4.216*10**3   #Specific heat in [J/(kg.K)]\n",
    "D=16.0    #Diameter in [cm]\n",
    "D=D/100 #[m]\n",
    "k=0.68  #Thermal conductivity in [W/m.K]\n",
    "\n",
    "#Calculation\n",
    "A=(math.pi*(D/2)**2)\n",
    "L=A/(math.pi*D)   #Length=A/P  in [m]\n",
    "Beta=0.75*10**-3  #[K**-1]\n",
    "alpha=1.68*10**-7    #[m**2/s]\n",
    "g=9.81  #[m/s**2]\n",
    "Tw=403.0  #[K]\n",
    "T_inf=343.0   #[K]\n",
    "dT=Tw-T_inf #[K]\n",
    "v=0.294*10**-6   #[m**2/s]\n",
    "Nra=(g*Beta*(L**3)*dT)/(v*alpha) \n",
    "#1.For Top surface\n",
    "Nnu=0.15*(Nra)**(1.0/3.0)   #Nusselt number\n",
    "ht=Nnu*k/L  #Heat transfer coeff for top surface in W/(m**2.K)\n",
    "ht=round(ht)\n",
    "#2.For bottom surface\n",
    "Nnu=0.27*Nra**(1.0/4.0)  #Nusselt number\n",
    "hb=Nnu*k/L  #[W/sq m.K]\n",
    "hb=round(hb)\n",
    "Q=(ht+hb)*A*dT  #[W]\n",
    "\n",
    "#Result\n",
    "print\"The rate of heat input is\",round(Q,1),\"W\"\n"
   ]
  },
  {
   "cell_type": "markdown",
   "metadata": {},
   "source": [
    "## Example no:3.35,Page no:3.87"
   ]
  },
  {
   "cell_type": "code",
   "execution_count": 234,
   "metadata": {
    "collapsed": false
   },
   "outputs": [
    {
     "name": "stdout",
     "output_type": "stream",
     "text": [
      "Nnu in the book is wrongly calculated as 66.80,\n",
      "Actually it is:58.22\n",
      "\n",
      "Heat transferred when hot surface is facing up is 40.04 W\n",
      "NOTE:Taking into consideration the correct value of Nnu\n",
      "\n",
      "Heat transferred when hot surface is facing down is 16.23 W\n"
     ]
    }
   ],
   "source": [
    "#Heat transfer from disc\n",
    "import math\n",
    "\n",
    "#Variable declaration\n",
    "v=2.0*10**-5   #[m**2/s]\n",
    "Npr=0.7 #Prandtl number\n",
    "k=0.03  #[W/m.K]\n",
    "D=0.25   #Diameter in [m]\n",
    "L=0.90*D    #Characteristic length,let  [m]\n",
    "T1=298.0  #[K]\n",
    "T2=403.0  #[K]\n",
    "dT=T2-T1    #[K]\n",
    "\n",
    "#Calculation\n",
    "Tf=(T1+T2)/2  #[K]\n",
    "Beta=1.0/Tf   #[K**-1]\n",
    "A=math.pi*(D/2)**2   #Area in[sq m]\n",
    "g=9.81  #[m/s**2]\n",
    "\n",
    "#Case 1: Hot surface facing up\n",
    "Ngr=g*Beta*dT*(L**3)/(v**2)   #Grashoff number\n",
    "Nnu=0.15*((Ngr*Npr)**(1.0/3.0))    #Nusselt number\n",
    "print \"Nnu in the book is wrongly calculated as 66.80,\\nActually it is:58.22\"\n",
    "h=Nnu*k/L   #[W/sq m.K]\n",
    "Q=h*A*dT    #[W]\n",
    "\n",
    "#Case 2:For hot surface facing down\n",
    "Nnu=0.27*(Ngr*Npr)**(1.0/4.0)    #Grashof Number\n",
    "h=Nnu*k/L   #[W/sqm.K]\n",
    "Q1=h*A*dT    #[W]\n",
    "\n",
    "\n",
    "#Result\n",
    "print\"\\nHeat transferred when hot surface is facing up is\",round(Q,2),\"W\"\n",
    "print\"NOTE:Taking into consideration the correct value of Nnu\\n\"\n",
    "print\"Heat transferred when hot surface is facing down is\",round(Q1,2),\"W\"\n"
   ]
  },
  {
   "cell_type": "markdown",
   "metadata": {},
   "source": [
    "## Example no:3.36,Page no:3.88"
   ]
  },
  {
   "cell_type": "code",
   "execution_count": 235,
   "metadata": {
    "collapsed": false
   },
   "outputs": [
    {
     "name": "stdout",
     "output_type": "stream",
     "text": [
      "Rate of heat input is equal to heat dissipation = 10914.4 W\n"
     ]
    }
   ],
   "source": [
    "#Rate of heat input to plate\n",
    "import math\n",
    "#Variable declaration\n",
    "rho=960 #[kg/m**3]\n",
    "Beta=0.75*10**-3 #[K**-1]\n",
    "k=0.68  #[W/m.K]\n",
    "alpha=1.68*10**-7    #[m**2/s]\n",
    "v=2.94*10**-7    #[m**2/s]\n",
    "Cp=4.216    #[kJ/kg.K]\n",
    "Tw=403  #[K]\n",
    "T_inf=343   #[K]\n",
    "dT=Tw-T_inf     #[K]\n",
    "g=9.81  #[m/s**2]\n",
    "l=0.8   #[m]\n",
    "W=0.08  #[m]\n",
    "\n",
    "#Calculation\n",
    "A=l*W   #Area in [m**2]\n",
    "P=2*(0.8+0.08)   #Perimeter in [m]\n",
    "L=A/P   #Characteristic dimension/length,L in   [m]\n",
    "Nra=g*Beta*L**3*dT/(v*alpha) \n",
    "#(i) for natural convection,heat transfer from top/upper surface heated \n",
    "Nnu=0.15*(Nra**(1.0/3.0))    #Nusselt number\n",
    "ht=Nnu*k/L  #[W/m**2.K]\n",
    "ht=2115.3   #Approximation in book,If done manually then answer diff\n",
    "#(ii)For the bottom/lower surface of the heated plate\n",
    "Nnu=0.27*(Nra**(1.0/4.0))    #Nusselt number\n",
    "hb=Nnu*k/L  #[W/(m**2.K)]\n",
    "hb=round(hb)\n",
    "#Rate of heat input is equal to rate of heat dissipation from the upper and lower surfaces of the plate\n",
    "Q=(ht+hb)*A*(Tw-T_inf)   #[W]\n",
    "\n",
    "#Result\n",
    "print\"Rate of heat input is equal to heat dissipation =\",round(Q,1),\"W\"\n"
   ]
  },
  {
   "cell_type": "markdown",
   "metadata": {},
   "source": [
    "## Example no:3.37,Page no:3.89"
   ]
  },
  {
   "cell_type": "code",
   "execution_count": 3,
   "metadata": {
    "collapsed": false
   },
   "outputs": [
    {
     "name": "stdout",
     "output_type": "stream",
     "text": [
      "Heat transferred when disc is horizontal with hot surface facing upward is 170.8 W\n",
      "Heat transferred when disc is horizontal with hot surface facing downward is 65.6 W\n",
      "For vertical disc,heat transferred is 114.0 W\n"
     ]
    }
   ],
   "source": [
    "#Two cases in disc\n",
    "import math\n",
    "\n",
    "#Variable declaration\n",
    "k=0.03  #W/(m.K)\n",
    "Npr=0.697   #Prandtl number\n",
    "v=2.076*10**-6   #m**2/s\n",
    "Beta=0.002915   #K**-1\n",
    "D=25.0      #[Diameter in cm]\n",
    "D=D/100 #[m]\n",
    "Tf=343.0  #Film temperature in [K]\n",
    "\n",
    "#Calculation\n",
    "A=math.pi*(D/2)**2   #Area in [m**2]\n",
    "P=math.pi*D #Perimeter [m]\n",
    "T1=293.0 #[K]\n",
    "T2=393.0  #[K]\n",
    "g=9.81  #[m/s**2]\n",
    "#Case (i) HOT SURFACE FACING UPWARD\n",
    "L=A/P   #Characteristic length in [m]\n",
    "Beta=1.0/Tf   #[K**-1]\n",
    "dT=T2-T1    #[K]\n",
    "Ngr=(g*Beta*dT*(L**3))/(v**2) #Grashoff number\n",
    "Nra=Ngr*Npr \n",
    "Nnu=0.15*(Nra**(1.0/3.0))    #Nusselt number\n",
    "h=Nnu*k/L   #[W/m**2.K]\n",
    "Q1=h*A*dT    #[W]\n",
    "\n",
    "#Case-(ii) HOT FACE FACING DOWNWARD\n",
    "Nnu=0.27*(Nra**(1.0/4.0))    #Nusselt number\n",
    "h=Nnu*k/L   #W/(m**2.K)\n",
    "Q2=h*A*dT    #[W]\n",
    "\n",
    "#Case-(iii)-For disc vertical \n",
    "L=0.25  #Characteristic length[m]  \n",
    "D=L #dia[m]\n",
    "A=math.pi*((D/2)**2) #[sq m]\n",
    "Ngr=(g*Beta*dT*(L**3))/(v**2)     #Grashoff number\n",
    "Npr=0.697\n",
    "Nra=Ngr*Npr \n",
    "Nnu=0.10*(Nra**(1.0/3.0))    #Nusselt number\n",
    "h=Nnu*k/D   #[W/(m**2.K)]\n",
    "Q3=h*A*dT    #[W]\n",
    "\n",
    "\n",
    "#Result\n",
    "print\"Heat transferred when disc is horizontal with hot surface facing upward is\",round(Q1,1),\"W\"\n",
    "print\"Heat transferred when disc is horizontal with hot surface facing downward is\",round(Q2,1),\"W\" \n",
    "print\"For vertical disc,heat transferred is\",round(Q3),\"W\"\n"
   ]
  },
  {
   "cell_type": "markdown",
   "metadata": {},
   "source": [
    "## Example no:3.38,Page no:3.91"
   ]
  },
  {
   "cell_type": "code",
   "execution_count": 240,
   "metadata": {
    "collapsed": false
   },
   "outputs": [
    {
     "name": "stdout",
     "output_type": "stream",
     "text": [
      "Total heat loss per metre length of pipe is 831.1 W/m\n"
     ]
    }
   ],
   "source": [
    "#Total heat loss in a pipe\n",
    "import math\n",
    "\n",
    "#Variable declaration\n",
    "v=23.13*10**-6     #[m**2/s]\n",
    "k=0.0321     #[W/m.K]\n",
    "Beta=2.68*10**-3  #[K**-1]\n",
    "Tw=443.0   #[K]\n",
    "T_inf=303.0    #[K]\n",
    "dT=Tw-T_inf     #[K]\n",
    "g=9.81   #[m/s**2]\n",
    "Npr=0.688    #Prandtl number\n",
    "D=100.0    #Diameter [mm]\n",
    "D=D/1000    #Diameter [m]\n",
    "\n",
    "#Calculation\n",
    "Nra=(g*Beta*dT*(D**3)*Npr)/(v**2)\n",
    "Nnu=0.53*(Nra**(1.0/4.0))    #Nusselt number\n",
    "h=Nnu*k/D   #[W/(m**2.K)]\n",
    "h=7.93      #Approximation\n",
    "e=0.90  #Emissivity\n",
    "sigma=5.67*10**-8     \n",
    "#Q=Q_conv+Q_rad  #Total heat loss\n",
    "#for total heat  loss per meter length\n",
    "Q_by_l=h*math.pi*D*dT+sigma*e*math.pi*D*(Tw**4-T_inf**4)  #[W/m]\n",
    "\n",
    "#Result\n",
    "print\"Total heat loss per metre length of pipe is\",round(Q_by_l,1),\"W/m\"\n",
    "\n"
   ]
  },
  {
   "cell_type": "markdown",
   "metadata": {},
   "source": [
    "## Example no:3.39,Page no:3.91"
   ]
  },
  {
   "cell_type": "code",
   "execution_count": 241,
   "metadata": {
    "collapsed": false
   },
   "outputs": [
    {
     "name": "stdout",
     "output_type": "stream",
     "text": [
      "Rate of heat loss is 1.06 W\n"
     ]
    }
   ],
   "source": [
    "#Heat loss by free convection\n",
    "import math\n",
    "\n",
    "#Result\n",
    "k=0.035  #[W/(m.K)]\n",
    "Npr=0.684    #Prandtl number\n",
    "Beta=2.42*10**-3  #[K**-1]\n",
    "v=27.8*10**-6     #[m**2/s]\n",
    "Tw=533.0   #[K]\n",
    "T_inf=363.0       #[K]\n",
    "dT=Tw-T_inf #[K]\n",
    "D=0.01   #[m]\n",
    "g=9.81  #[m/s**2]\n",
    "\n",
    "#Calculation\n",
    "Nra=(g*Beta*dT*(D**3))/(v**2)\n",
    "#For this <10**5,we have for sphere\n",
    "A=4*math.pi*(D/2)**2 #Area of sphere in [m**2]\n",
    "Nnu=(2+0.43*Nra**(1.0/4.0))#Nusslet number\n",
    "h=Nnu*k/D   #W/(m**2.K)\n",
    "Q=h*A*dT    #[W]\n",
    "\n",
    "#Result\n",
    "print\"Rate of heat loss is\",round(Q,2),\"W\"\n"
   ]
  },
  {
   "cell_type": "markdown",
   "metadata": {},
   "source": [
    "## Example no:3.40,Page no:3.92"
   ]
  },
  {
   "cell_type": "code",
   "execution_count": 246,
   "metadata": {
    "collapsed": false,
    "slideshow": {
     "slide_type": "-"
    }
   },
   "outputs": [
    {
     "name": "stdout",
     "output_type": "stream",
     "text": [
      "Total heat loss is 966.0 W\n"
     ]
    }
   ],
   "source": [
    "#Heat loss from cube\n",
    "import math\n",
    "#Variable declaration\n",
    "v=17.95*10**-6   #[m**2/s]\n",
    "dT=353.0-293.0  #[K]\n",
    "k=0.0283    #[W/m.K]\n",
    "g=9.81  #[m/s**2]\n",
    "Npr=0.698   #Prandtl number\n",
    "Cp=1005.0 #J/(kg.K)\n",
    "Tf=323.0  #Film temperature in [K]\n",
    "Beta=1.0/Tf   #[K**-1]\n",
    "l=1.0 #[m]\n",
    "\n",
    "#Calculation\n",
    "Nra=(g*Beta*dT*(l**3)*Npr)/(v**2)\n",
    "#In textbook result of above statement is wrongly calculated,So\n",
    "Nra=3.95*10**8\n",
    "#For Nra <10**9,for a vertical plate,the average nusselt number is\n",
    "Nnu=0.59*Nra**(1.0/4.0)  #Nusselt number\n",
    "h=round(Nnu*k/l,2)   #[W/m**2.K]\n",
    "A=l**2   #Area [m**2]\n",
    "#Heat loss form 4 vertical faces of 1m*1m is \n",
    "Q1=4.0*(h*A*dT)   #[W]\n",
    "#For top surface \n",
    "P=4.0*l   #Perimeter in [m]\n",
    "L=A/P   #[m]\n",
    "Nra=(Npr*g*Beta*dT*(L**3))/(v**2)\n",
    "Nnu=0.15*Nra**(1.0/3.0)  #Nusselt number\n",
    "h=round(Nnu*k/L,1)   #[W/m**2.K]\n",
    "Q2=h*A*dT   #[W]\n",
    "Q_total=Q1+Q2   #Total heat loss[W]\n",
    "\n",
    "#Result\n",
    "print\"Total heat loss is\",Q_total,\"W\"\n"
   ]
  },
  {
   "cell_type": "markdown",
   "metadata": {},
   "source": [
    "## Example no:3.41,Page no:3.93"
   ]
  },
  {
   "cell_type": "code",
   "execution_count": 2,
   "metadata": {
    "collapsed": false
   },
   "outputs": [
    {
     "name": "stdout",
     "output_type": "stream",
     "text": [
      "Dimensions of the plate are 0.03 x 0.05 m= 3.0 x 5.0 cm\n",
      "Heat transfer when the bigger side held vertical is 2.77 W\n",
      "Heat transfer when the small side held vertical is 3.16 W\n"
     ]
    }
   ],
   "source": [
    "#Plate exposed to heat\n",
    "\n",
    "#Variable declaration\n",
    "rho=0.910            #Density in [kg/m**3]\n",
    "Cp=1.009*1000             #[J/kg.K]\n",
    "k=0.0331             #[W/m.K]\n",
    "mu=22.65*10**-6       #[N.s/m**2]\n",
    "\n",
    "#Calculation\n",
    "#Let a=smaller side\n",
    "#b=bigger side\n",
    "#Qa=ha*A*dT\n",
    "#Qb=hb*A*dT\n",
    "#Qa=1.14*Qb\n",
    "#Given a*b=15*10**-4\n",
    "#On solving we get:\n",
    "a=0.03           #[m]\n",
    "b=0.05           #[m]\n",
    "A=a*b           #Area in [sq m]\n",
    "Tf=388           #[K]\n",
    "Beta=1.0/Tf       #[K**-1]\n",
    "T1=303           #[K]\n",
    "T2=473          #[K]\n",
    "dT=T2-T1        #[K]\n",
    "v=mu/rho        \n",
    "g=9.81      #m/s**2[acceleration due to gravity ]\n",
    "hb=0.59*(((g*Beta*dT*(b**3))/(v**2))*Cp*mu/k)**(1.0/4.0)*(k/b)       #[W/sq m.K]\n",
    "Qb=hb*A*(dT)            #[W]\n",
    "\n",
    "Qa=1.14*Qb              #[W]\n",
    "\n",
    "#Result\n",
    "print\"Dimensions of the plate are\",a,\"x\",b,\"m=\",a*100,\"x\",b*100,\"cm\"\n",
    "print\"Heat transfer when the bigger side held vertical is\",round(Qb,2),\"W\"\n",
    "print\"Heat transfer when the small side held vertical is\",round(Qa,2),\"W\" \n"
   ]
  },
  {
   "cell_type": "markdown",
   "metadata": {},
   "source": [
    "## Example no:3.42,Page no:3.99"
   ]
  },
  {
   "cell_type": "code",
   "execution_count": 251,
   "metadata": {
    "collapsed": false
   },
   "outputs": [
    {
     "name": "stdout",
     "output_type": "stream",
     "text": [
      "Temperature of the bottom surface of the pan is 385.5 W/(m^2)\n"
     ]
    }
   ],
   "source": [
    "#Nucleate poolboiling\n",
    "import math\n",
    "\n",
    "#Variable declaration\n",
    "Ts=373.0  #[K]\n",
    "rho_l=957.9    #rho*l[kg/m**3]\n",
    "Cpl=4217.0    #[J/kg.K]\n",
    "mu_l=27.9*10**-5 #[kg/(m.s)]\n",
    "rho_v=0.5955   #[kg/m**3]\n",
    "Csf=0.013\n",
    "sigma=5.89*10**-2    #[N/m]\n",
    "Nprl=1.76\n",
    "lamda=2257.0 #[kJ/kg]\n",
    "lamda=lamda*1000  #in [J/kg]\n",
    "n=1 #for water\n",
    "m_dot=30.0    #Mass flow rate [kg/h]\n",
    "\n",
    "#Calculation\n",
    "m_dot=m_dot/3600    #[kg/s]\n",
    "D=30.0    #Diameter of pan [cm]\n",
    "D=D/100 #[m]\n",
    "g=9.81  #[m/s**2]\n",
    "A=math.pi*(D/2)**2   #Area in [sq m]\n",
    "Q_by_A=m_dot*lamda/A   #[W/sq m]\n",
    "#For nucleate boiling point we have:\n",
    "dT=(lamda/Cpl)*Csf*(((Q_by_A)/(mu_l*lamda))*math.sqrt(sigma/(g*(rho_l-rho_v))))**(1.0/3.0)*(Nprl**n) #[K]\n",
    "Tw=Ts+dT    #[K]\n",
    "\n",
    "#Result\n",
    "print\"Temperature of the bottom surface of the pan is\",round(Tw,1),\"W/(m^2)\"\n"
   ]
  },
  {
   "cell_type": "markdown",
   "metadata": {},
   "source": [
    "## Example no:3.43,Page no:3.100"
   ]
  },
  {
   "cell_type": "code",
   "execution_count": 252,
   "metadata": {
    "collapsed": false
   },
   "outputs": [
    {
     "name": "stdout",
     "output_type": "stream",
     "text": [
      "Peak heat flux is 1.106 MW/sq m\n"
     ]
    }
   ],
   "source": [
    "#Peak Heat flux\n",
    "import math\n",
    "\n",
    "#Variable declaration\n",
    "lamda=2257.0 #[kJ/kg]\n",
    "lamda=lamda*1000  #in [J/kg]\n",
    "rho_l=957.9    #rho*l[kg/m**3]\n",
    "rho_v=0.5955   #[kg/m**3]\n",
    "sigma=5.89*10**-2    #[N/m]\n",
    "g=9.81  #[m/s**2]\n",
    "\n",
    "#Calculation\n",
    "#Peak heat flux is given by\n",
    "Q_by_A_max=(math.pi/24)*(lamda*rho_v**0.5*(sigma*g*(rho_l-rho_v))**(1.0/4.0))    #W/m**2\n",
    "Q_by_A_max=Q_by_A_max/(10**6)    #MW/(sq m)\n",
    "\n",
    "\n",
    "#Result\n",
    "print\"Peak heat flux is\",round(Q_by_A_max,3),\"MW/sq m\"\n"
   ]
  },
  {
   "cell_type": "markdown",
   "metadata": {},
   "source": [
    "## Example no:3.44,Page no:3.100"
   ]
  },
  {
   "cell_type": "code",
   "execution_count": 1,
   "metadata": {
    "collapsed": false
   },
   "outputs": [
    {
     "name": "stdout",
     "output_type": "stream",
     "text": [
      "Stable film boiling point heat transfer coefficient is 1340.9 W/(sq m.K)\n",
      "Heat dissipated per unit length of the heater is 1.7 kW/m\n",
      "\n",
      "NOTE:In textbook,value of hc is wrongly calculated as 1311.4,Actually it is 1318.9,\n",
      "So,there is a difference in final values of 'h'\n"
     ]
    }
   ],
   "source": [
    "#Stable film pool boiling\n",
    "import math\n",
    "\n",
    "#Variable declaration\n",
    "rho_l=957.9 #[kg/m**3]\n",
    "lamda=2257.0 #[kJ/kg]\n",
    "lamda=lamda*10**3  #[J/kg]\n",
    "rho_v=31.54 #[kg/m**3]\n",
    "Cpv=4.64    #[kJ/kg.K]\n",
    "Cpv=Cpv*10**3    #[J/kg.K]\n",
    "kv=58.3*10**-3#[W/(m.K)]\n",
    "g=9.81  #[m/s**2]\n",
    "mu_v=18.6*10**-6 #[kg/(m.s)]\n",
    "e=1.0   #Emissivity\n",
    "sigma=5.67*10**-8 \n",
    "Ts=373.0  #[K]\n",
    "Tw=628.0  #[K]\n",
    "\n",
    "#Calculation\n",
    "dT=Tw-Ts    #[K]\n",
    "D=1.6*10**-3 #[m]\n",
    "T=(Tw+Ts)/2 #[K]\n",
    "\n",
    "hc=0.62*((kv**3)*rho_v*(rho_l-rho_v)*g*(lamda+0.40*Cpv*dT)/(D*mu_v*dT))**(1.0/4.0)  #Convective heat transfer coeff  [W/sq m.K]\n",
    "hr=e*sigma*(Tw**4-Ts**4)/(Tw-Ts)  #Radiation heat transfer coeff in [W/sq m.K]\n",
    "h=hc+(3.0/4.0)*hr   #Total heat transfer coefficient W/(sq m.K)\n",
    "Q_by_l=h*math.pi*D*dT   #Heat dissipation rate per unit length in [kW/m]\n",
    "Q_by_l=Q_by_l/1000  #[kW/m]\n",
    "#Result\n",
    "print\"Stable film boiling point heat transfer coefficient is\",round(h,1),\"W/(sq m.K)\"\n",
    "print\"Heat dissipated per unit length of the heater is\",round(Q_by_l,1),\"kW/m\"\n",
    "\n",
    "print\"\\nNOTE:In textbook,value of hc is wrongly calculated as 1311.4,Actually it is 1318.9,\"\n",
    "print\"So,there is a difference in final values of 'h'\"\n"
   ]
  },
  {
   "cell_type": "markdown",
   "metadata": {},
   "source": [
    "## Example no:3.45,Page no:3.102"
   ]
  },
  {
   "cell_type": "code",
   "execution_count": 136,
   "metadata": {
    "collapsed": false
   },
   "outputs": [
    {
     "name": "stdout",
     "output_type": "stream",
     "text": [
      "Rate of heat transfer per 1m length of tube is 2810.0 W/m\n"
     ]
    }
   ],
   "source": [
    "#Heat transfer in tube\n",
    "import math\n",
    "\n",
    "#Variable declaration\n",
    "dT=10   #[K]\n",
    "P=506.625   #[kPa]\n",
    "P=P/10**3    #[Mpa]\n",
    "D=25.4  #Diameter [mm]\n",
    "D=D/1000    #[m]\n",
    "\n",
    "#Calculation\n",
    "h=2.54*(dT**3)*(math.exp(P/1.551))   #[W/sq m.K]\n",
    "#Q=h*math.pi*D*L*dT\n",
    "#Heat transfer rate per meter length of tube is \n",
    "Q_by_l=h*math.pi*D*dT   #[W/m]\n",
    "\n",
    "#Result\n",
    "print\"Rate of heat transfer per 1m length of tube is\",round(Q_by_l),\"W/m\" \n"
   ]
  },
  {
   "cell_type": "markdown",
   "metadata": {},
   "source": [
    "## Example no:3.46,Page no:3.102"
   ]
  },
  {
   "cell_type": "code",
   "execution_count": 265,
   "metadata": {
    "collapsed": false
   },
   "outputs": [
    {
     "name": "stdout",
     "output_type": "stream",
     "text": [
      "Heat flux when pressure  is 101.325 kPa is 22773.76 W/m^2(APPROX)\n",
      "Percent increase in heat flux is 23.0 %\n"
     ]
    }
   ],
   "source": [
    "#Nucleat boiling and heat flux\n",
    "\n",
    "#Variable declaration\n",
    "dT=8.0    #[K]\n",
    "P=0.17  #[Mpa]\n",
    "P=P*1000    #[kPa]\n",
    "h1=2847.0 #[W/(sq m.K)]\n",
    "P1=101.325  #[kPa]\n",
    "h=5.56*(dT**3)   #[W/sq m.K]\n",
    "\n",
    "#Calculation\n",
    "Q_by_A=h*dT #[W/sq m]\n",
    "hp=h*(P/P1)**(0.4)   #[W/sq m.K]\n",
    "#Corresponding heat flux is :\n",
    "Q_by_A1=hp*dT #[W/sq m]\n",
    "per=(Q_by_A1-Q_by_A)*100.0/Q_by_A #Percent increase in heat flux\n",
    "\n",
    "#Result\n",
    "print\"Heat flux when pressure  is 101.325 kPa is\",Q_by_A,\"W/m^2(APPROX)\"\n",
    "print\"Percent increase in heat flux is\",round(per),\"%\" \n"
   ]
  },
  {
   "cell_type": "markdown",
   "metadata": {},
   "source": [
    "## Example no:3.47,Page no:3.110"
   ]
  },
  {
   "cell_type": "code",
   "execution_count": 269,
   "metadata": {
    "collapsed": false
   },
   "outputs": [
    {
     "name": "stdout",
     "output_type": "stream",
     "text": [
      "Mean heat transfer coefficient is 10864.0 W/(m^2.K)\n",
      "Heat transfer per unit length is 13653.0 W/m\n",
      "Condensate rate per unit length is 22.1 kg/h\n"
     ]
    }
   ],
   "source": [
    "#Dry steam condensate\n",
    "import math\n",
    "\n",
    "#Variable declaration\n",
    "mu=306*10**-6    #[N.s/m**2]\n",
    "k=0.668 #[W/m.K]\n",
    "rho=974.0 #[kg/m**3]\n",
    "lamda=2225.0 #[kJ/kg]\n",
    "lamda=lamda*10**3  #[J/kg.K]\n",
    "g=9.81  #[m/s**2]\n",
    "Ts=373.0  #[K]\n",
    "Tw=357.0  #[K]\n",
    "dT=Ts-Tw    #[K]\n",
    "Do=25.0   #[mm]\n",
    "Do=Do/1000  #[m]\n",
    "\n",
    "#Calculation\n",
    "h=0.725*((rho**2*g*lamda*k**3)/(mu*Do*dT))**(1.0/4.0) #[W/sq m.K]\n",
    "Q_by_l=h*math.pi*Do*dT  #[W/m]\n",
    "m_dot_byl=(Q_by_l/lamda)   #[kg/s]\n",
    "m_dot_byl=m_dot_byl*3600    #[kg/h]\n",
    "\n",
    "#Result\n",
    "print\"Mean heat transfer coefficient is\",round(h),\"W/(m^2.K)\" \n",
    "print\"Heat transfer per unit length is\",round(Q_by_l),\"W/m\" \n",
    "print\"Condensate rate per unit length is\",round(m_dot_byl,1),\"kg/h\" \n"
   ]
  },
  {
   "cell_type": "markdown",
   "metadata": {},
   "source": [
    "## Example no:3.48,Page no:3.111"
   ]
  },
  {
   "cell_type": "code",
   "execution_count": 10,
   "metadata": {
    "collapsed": false
   },
   "outputs": [
    {
     "name": "stdout",
     "output_type": "stream",
     "text": [
      "Average heat transfer coefficient is 13156.0  W/(m^2.K)(APPROX)\n",
      "Heat transfer rate is 2368.0 J/kg\n",
      "Steam condensate rate per hour is 3.78 kg/h\n"
     ]
    }
   ],
   "source": [
    "#Laminar Condensate film\n",
    "\n",
    "#Variable declaration\n",
    "rho=960.0 #[kh/m**3]\n",
    "mu=2.82*10**-4   #[kg/(m.s)]\n",
    "k=0.68  #[W/(m.K)]\n",
    "lamda=2255.0 #[kJ/kg]\n",
    "lamda=lamda*10**3  #[J/kg]\n",
    "Ts=373.0  #Saturation temperature of steam [K]\n",
    "Tw=371.0  #[K]\n",
    "dT=Ts-Tw    #[K]\n",
    "L=0.3   #Dimension [m]\n",
    "g=9.81  #[m/s**2]\n",
    "\n",
    "#Calculation\n",
    "h=0.943*(rho**2*g*lamda*k**3/(L*mu*dT))**(1.0/4.0)    #W/sq m.K\n",
    "A=L**2   #[sq m] \n",
    "Q=h*A*(Ts-Tw)   #[W]=[J/s]\n",
    "m_dot=Q/lamda  #Condensate rate[kg/s]\n",
    "m_dot=m_dot*3600.0    #[kg/h]\n",
    "\n",
    "#Result\n",
    "print\"Average heat transfer coefficient is\",round(h),\" W/(m^2.K)(APPROX)\"\n",
    "print\"Heat transfer rate is\",round(Q),\"J/kg\"\n",
    "print\"Steam condensate rate per hour is\",round(m_dot,2),\"kg/h\"\n"
   ]
  },
  {
   "cell_type": "markdown",
   "metadata": {},
   "source": [
    "## Example no:3.49,Page no:3.112"
   ]
  },
  {
   "cell_type": "code",
   "execution_count": 279,
   "metadata": {
    "collapsed": false
   },
   "outputs": [
    {
     "name": "stdout",
     "output_type": "stream",
     "text": [
      "Rate of condensation per unit length is 176.4 kg/h\n"
     ]
    }
   ],
   "source": [
    "#Saturated vapour condensate in array\n",
    "import math\n",
    "\n",
    "#Variable declaration\n",
    "rho=1174.0    #[kg/m**3]\n",
    "k=0.069 #[W/(m.K)]\n",
    "mu=2.5*10**-4    #[N.s/m**2]\n",
    "lamda=132*10**3 #[J/kg]\n",
    "g=9.81  #[m/s**2]\n",
    "Ts=323.0  #[K]\n",
    "Tw=313.0  #[K]\n",
    "dT=Ts-Tw    #[K]\n",
    "\n",
    "#Calculation\n",
    "#For square array,n=4\n",
    "n=4.0 #number of tubes\n",
    "Do=12.0   #[mm]\n",
    "Do=Do/1000  #[m]\n",
    "h=0.725*(rho**2*lamda*g*k**3/(n*Do*mu*dT))**(1.0/4.0) #W/(sq m.K) \n",
    "#For heat transfer area calcualtion,n=16\n",
    "A=n*math.pi*Do #[sq m]\n",
    "A=0.603\n",
    "Q=h*A*dT#[W/m]\n",
    "m_dot=round(Q/lamda,3)  #[kg/s]\n",
    "\n",
    "m_dot=m_dot*3600    #[kg/h]\n",
    "\n",
    "#Result\n",
    "print\"Rate of condensation per unit length is\",m_dot,\"kg/h\"\n"
   ]
  },
  {
   "cell_type": "markdown",
   "metadata": {},
   "source": [
    "## Example no:3.50,Page no:3.113"
   ]
  },
  {
   "cell_type": "code",
   "execution_count": 286,
   "metadata": {
    "collapsed": false
   },
   "outputs": [
    {
     "name": "stdout",
     "output_type": "stream",
     "text": [
      "Mass rate of steam condensation is 158.0 kg/h\n",
      "NOTE:ERROR in Solution in book.Do is wrongly taken as 0.012 in lines 17 and 22 of the book,Also A is wrongly calculated\n"
     ]
    }
   ],
   "source": [
    "#Mass rate of steam condensation\n",
    "import math\n",
    "\n",
    "#Variable declaration\n",
    "rho=960.0 #[kg/m**3]\n",
    "k=0.68  #[W/m.K]\n",
    "mu=282.0*10**-6    #[kg/(m.s)]\n",
    "Tw=371.0  #Tube wall temperature [K]\n",
    "Ts=373.0  #Saturation temperature in [K]\n",
    "dT=Ts-Tw    #[K]\n",
    "lamda=2256.9   #[kJ/kg]\n",
    "lamda=lamda*10**3  #[J/kg]\n",
    "\n",
    "#Calculation\n",
    "#For a square array with 100tubes,n=10\n",
    "Do=0.0125 #[m]\n",
    "g=9.81  #[m/s**2]\n",
    "n=10.0\n",
    "h=0.725*(((rho**2)*g*lamda*(k**3)/(mu*n*Do*dT))**(1.0/4.0)) #W/(sq m.K)\n",
    "\n",
    "L=1.0 #[m]\n",
    "#n=100\n",
    "n=100.0 \n",
    "A=n*math.pi*Do*L    #[m**2/m length]\n",
    "Q=h*A*dT    #Heat transfer rate in [W/m]\n",
    "ms_dot=Q/lamda #[kg/s]\n",
    "ms_dot=ms_dot*3600.0  #[kg/h]\n",
    "\n",
    "#Result\n",
    "print\"Mass rate of steam condensation is\",round(ms_dot),\"kg/h\" \n",
    "print\"NOTE:ERROR in Solution in book.Do is wrongly taken as 0.012 in lines 17 and 22 of the book,Also A is wrongly calculated\"\n"
   ]
  },
  {
   "cell_type": "markdown",
   "metadata": {},
   "source": [
    "## Example no:3.51,Page no:3.114"
   ]
  },
  {
   "cell_type": "code",
   "execution_count": 288,
   "metadata": {
    "collapsed": false
   },
   "outputs": [
    {
     "name": "stdout",
     "output_type": "stream",
     "text": [
      "Tube length is 0.29 m\n",
      "Rate of condensation per hour is 14.32 kg/h\n"
     ]
    }
   ],
   "source": [
    "#Saturated tube condensate in a wall\n",
    "import math\n",
    "\n",
    "#Variable declaration\n",
    "rho=975.0 #[kg/m**3]\n",
    "k=0.871 #[W/m.K]\n",
    "dT=10.0   #[K]\n",
    "mu=380.5*10**-6  #[N.s/m**2]\n",
    "lamda=2300.0 #[kJ/kg]\n",
    "lamda=lamda*1000  # Latent heat of condensation [J/kg]\n",
    "Do=100.0  #Outer diameter [mm]\n",
    "Do=Do/1000  #[m]\n",
    "g=9.81  #[m/s**2]\n",
    "\n",
    "#Calculation\n",
    "#for horizontal tube\n",
    "h1=0.725*((rho**2*lamda*g*k**3)/(mu*Do*dT))**(1.0/4.0)    #Average heat transfer coefficient\n",
    "#for vertical tube\n",
    "#h2=0.943*((rho**2*lambda*g*k**3)/(mu*L*dT))**(1/4)    #Average heat transfer coefficient\n",
    "h2=h1   #For vertical tube\n",
    "#implies that\n",
    "L=(0.943*((rho**2*lamda*g*k**3)**(1.0/4.0))/(h1*((mu*dT)**(1.0/4.0))))**4   #[m]\n",
    "L=0.29      #Approximate in book\n",
    "h=0.943*((rho**2*lamda*g*k**3)/(mu*L*dT))**(1.0/4.0)  #[W/(sq m.K)]\n",
    "A=math.pi*Do*L  #Area in [m**2]\n",
    "Q=h*A*dT    #Heat transfer rate [W]\n",
    "mc_dot=Q/lamda  #[Rate of condensation]in [kg/s]\n",
    "mc_dot=mc_dot*3600  #[kg/h]\n",
    "\n",
    "#Result\n",
    "print\"Tube length is\",L,\"m\"\n",
    "print\"Rate of condensation per hour is\",round(mc_dot,2),\"kg/h\" \n"
   ]
  },
  {
   "cell_type": "markdown",
   "metadata": {},
   "source": [
    "## Example no:3.52,Page no:3.115"
   ]
  },
  {
   "cell_type": "code",
   "execution_count": 289,
   "metadata": {
    "collapsed": false
   },
   "outputs": [
    {
     "name": "stdout",
     "output_type": "stream",
     "text": [
      "For vertical position,Rate of condensation is 36.57 kg/h\n"
     ]
    }
   ],
   "source": [
    "#Condensation rate\n",
    "\n",
    "#Variable declaration\n",
    "m1_dot=50.0    # For horizontal position[kg/h]\n",
    "Do=10.0   #[mm]\n",
    "Do=Do/1000  #[m]\n",
    "L=1.0  #[m]\n",
    "#For 100 tubes n=10\n",
    "n=10.0 \n",
    "\n",
    "#Calculation\n",
    "#We know that\n",
    "#m_dot=Q/lambda=h*A*dT/lambda\n",
    "#m_dot is proportional to  h\n",
    "#m1_dot prop to h1\n",
    "#m2_dot  propn to h2\n",
    "#m1_dot/m2_dot=h1/h2\n",
    "#or :\n",
    "m2_dot=m1_dot/((0.725/0.943)*(L/(n*Do))**(1.0/4.0))  #[kg/h]\n",
    "\n",
    "#Result\n",
    "print\"For vertical position,Rate of condensation is\",round(m2_dot,2),\"kg/h\"\n"
   ]
  },
  {
   "cell_type": "markdown",
   "metadata": {},
   "source": [
    "## Example no:3.53,Page no:3.116"
   ]
  },
  {
   "cell_type": "code",
   "execution_count": 295,
   "metadata": {
    "collapsed": false
   },
   "outputs": [
    {
     "name": "stdout",
     "output_type": "stream",
     "text": [
      "(i)- Average heat transfer coefficient is 6060.0  W/(m**2.K)\n",
      "(ii)-Local heat transfer coefficient at 0.5 m height is 5404.0 W/(m^2.K)\n",
      "(iii)-Film thickness is 0.124 m\n"
     ]
    }
   ],
   "source": [
    "#Condensation on vertical plate\n",
    "rho=975 #[kg/m**3]\n",
    "k=0.671 #[W/(m.K)]\n",
    "mu=3.8*10**-4    #[N.s/m**2]\n",
    "dT=10   #[K]\n",
    "lamda=2300*10**3    #[J/kg]\n",
    "L=1 #[m]\n",
    "g=9.81  #[m/s**2]\n",
    "\n",
    "#Calculation\n",
    "ha=0.943*((rho**2*lamda*g*k**3)/(mu*L*dT))**(1.0/4.0)  #W/(sq m.K)    #[W/sq m.K]\n",
    "#Local heat transfer coefficient\n",
    "#at x=0.5  #[m]\n",
    "x=0.5   #[m]\n",
    "h=((rho**2*lamda*g*k**3)/(4*mu*dT*x))**(1.0/4.0)  #[W/sq m.K]\n",
    "delta=((4*mu*dT*k*x)/(lamda*rho**2*g))**(1.0/4.0)    #[m]\n",
    "delta=delta*10**3    #[mm]\n",
    "\n",
    "#Result\n",
    "print\"(i)- Average heat transfer coefficient is\",round(ha),\" W/(m**2.K)\"\n",
    "print\"(ii)-Local heat transfer coefficient at 0.5 m height is\",round(h),\"W/(m^2.K)\"\n",
    "print\"(iii)-Film thickness is\",round(delta,3),\"m\""
   ]
  }
 ],
 "metadata": {
  "kernelspec": {
   "display_name": "Python 2",
   "language": "python",
   "name": "python2"
  },
  "language_info": {
   "codemirror_mode": {
    "name": "ipython",
    "version": 2
   },
   "file_extension": ".py",
   "mimetype": "text/x-python",
   "name": "python",
   "nbconvert_exporter": "python",
   "pygments_lexer": "ipython2",
   "version": "2.7.6"
  }
 },
 "nbformat": 4,
 "nbformat_minor": 0
}
