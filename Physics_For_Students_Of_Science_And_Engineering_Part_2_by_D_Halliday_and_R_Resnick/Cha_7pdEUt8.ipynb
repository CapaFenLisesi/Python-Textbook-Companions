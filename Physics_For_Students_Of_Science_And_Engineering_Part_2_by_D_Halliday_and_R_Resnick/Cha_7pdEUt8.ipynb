{
 "cells": [
  {
   "cell_type": "markdown",
   "metadata": {},
   "source": [
    "# Chapter 46 POLARIZATION"
   ]
  },
  {
   "cell_type": "markdown",
   "metadata": {},
   "source": [
    "## Example 46.1 Calculation of theta"
   ]
  },
  {
   "cell_type": "code",
   "execution_count": 1,
   "metadata": {
    "collapsed": false
   },
   "outputs": [
    {
     "name": "stdout",
     "output_type": "stream",
     "text": [
      "Polarization angle theta= 135.0\n"
     ]
    }
   ],
   "source": [
    "import math\n",
    "theta=math.degrees(math.acos(1/math.sqrt(2)))\n",
    "theta=180-theta\n",
    "print(\"Polarization angle theta=\",theta)"
   ]
  },
  {
   "cell_type": "markdown",
   "metadata": {},
   "source": [
    "## Example 46.2 Angle of refraction"
   ]
  },
  {
   "cell_type": "code",
   "execution_count": 2,
   "metadata": {
    "collapsed": false
   },
   "outputs": [
    {
     "name": "stdout",
     "output_type": "stream",
     "text": [
      "Theta_p in degrees=56.30993\n",
      "Angle of refraction fron Snells law in degrees=33.69007\n"
     ]
    }
   ],
   "source": [
    "import math\n",
    "theta_p= math.degrees(math.atan(1.5))\n",
    "print(\"Theta_p in degrees=%.5f\"%theta_p)\n",
    "sin_theta_r= (math.sin(theta_p*math.pi/180))/1.5\n",
    "theta_r=math.degrees(math.asin(sin_theta_r))\n",
    "print(\"Angle of refraction fron Snells law in degrees=%.5f\"%theta_r)"
   ]
  },
  {
   "cell_type": "markdown",
   "metadata": {},
   "source": [
    "## Example 46.3 Thickness of slab"
   ]
  },
  {
   "cell_type": "code",
   "execution_count": 3,
   "metadata": {
    "collapsed": false
   },
   "outputs": [
    {
     "name": "stdout",
     "output_type": "stream",
     "text": [
      "The Value of x in m= 163611.111111113\n"
     ]
    }
   ],
   "source": [
    "lamda=5890 #A\n",
    "n_e=1.553\n",
    "n_o=1.544\n",
    "s=(n_e)-(n_o)\n",
    "x=(lamda)/(4*s)\n",
    "\n",
    "print(\"The Value of x in m=\",x)\n",
    "#The answer provided in the textbook is wrong"
   ]
  }
 ],
 "metadata": {
  "anaconda-cloud": {},
  "kernelspec": {
   "display_name": "Python [Root]",
   "language": "python",
   "name": "Python [Root]"
  },
  "language_info": {
   "codemirror_mode": {
    "name": "ipython",
    "version": 2
   },
   "file_extension": ".py",
   "mimetype": "text/x-python",
   "name": "python",
   "nbconvert_exporter": "python",
   "pygments_lexer": "ipython2",
   "version": "2.7.12"
  },
  "widgets": {
   "state": {},
   "version": "1.1.2"
  }
 },
 "nbformat": 4,
 "nbformat_minor": 0
}
