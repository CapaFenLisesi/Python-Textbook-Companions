{
 "cells": [
  {
   "cell_type": "markdown",
   "metadata": {},
   "source": [
    "# Chapter 44 DIFFRACTION"
   ]
  },
  {
   "cell_type": "markdown",
   "metadata": {},
   "source": [
    "## Example 44.1 Calculation of wavelength"
   ]
  },
  {
   "cell_type": "code",
   "execution_count": 1,
   "metadata": {
    "collapsed": false
   },
   "outputs": [
    {
     "name": "stdout",
     "output_type": "stream",
     "text": [
      "a in A=13000\n"
     ]
    }
   ],
   "source": [
    "import math\n",
    "m=1\n",
    "lamda=6500 #in A\n",
    "a=(m*lamda)/math.sin(30*math.pi/180)\n",
    "print(\"a in A=%d\"%a)"
   ]
  },
  {
   "cell_type": "markdown",
   "metadata": {},
   "source": [
    "## Example 44.2 Calculation of wavelength"
   ]
  },
  {
   "cell_type": "code",
   "execution_count": 2,
   "metadata": {
    "collapsed": false
   },
   "outputs": [
    {
     "name": "stdout",
     "output_type": "stream",
     "text": [
      "Wavelength in A = 4333.333\n"
     ]
    }
   ],
   "source": [
    "lamda=6500\n",
    "lambda_1=lamda/1.5\n",
    "print(\"Wavelength in A = %.3f\"%lambda_1)"
   ]
  },
  {
   "cell_type": "markdown",
   "metadata": {},
   "source": [
    "## Example 44.5 Current"
   ]
  },
  {
   "cell_type": "code",
   "execution_count": 3,
   "metadata": {
    "collapsed": false
   },
   "outputs": [
    {
     "name": "stdout",
     "output_type": "stream",
     "text": [
      "Current in amp= 0.06990\n"
     ]
    }
   ],
   "source": [
    "import math\n",
    "m_0=(4*math.pi*10**-7) #in weber\n",
    "e_0=(8.9*10**-12)\n",
    "R=5*10**-2  #meters\n",
    "byd=10**12\n",
    "i_d=(e_0*math.pi*R*R*byd)\n",
    "print(\"Current in amp= %.5f\"%i_d)"
   ]
  },
  {
   "cell_type": "markdown",
   "metadata": {},
   "source": [
    "## Example 44.7 Delta Y"
   ]
  },
  {
   "cell_type": "code",
   "execution_count": 4,
   "metadata": {
    "collapsed": false
   },
   "outputs": [
    {
     "name": "stdout",
     "output_type": "stream",
     "text": [
      "(A) D in m= 0.00240\n"
     ]
    }
   ],
   "source": [
    "lamda=480*10**-9 #in m\n",
    "d=0.10*10**-3 #in m\n",
    "D=50*10**-2 #in m\n",
    "a=0.02*10**-3\n",
    "delta_y=(lamda*D)/d\n",
    "print(\"(A) D in m= %.5f\"%delta_y)"
   ]
  }
 ],
 "metadata": {
  "anaconda-cloud": {},
  "kernelspec": {
   "display_name": "Python [Root]",
   "language": "python",
   "name": "Python [Root]"
  },
  "language_info": {
   "codemirror_mode": {
    "name": "ipython",
    "version": 2
   },
   "file_extension": ".py",
   "mimetype": "text/x-python",
   "name": "python",
   "nbconvert_exporter": "python",
   "pygments_lexer": "ipython2",
   "version": "2.7.12"
  },
  "widgets": {
   "state": {},
   "version": "1.1.2"
  }
 },
 "nbformat": 4,
 "nbformat_minor": 0
}
