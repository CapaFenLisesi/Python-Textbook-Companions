{
 "cells": [
  {
   "cell_type": "markdown",
   "metadata": {},
   "source": [
    "# Chapter 36 INDUCTANCE"
   ]
  },
  {
   "cell_type": "markdown",
   "metadata": {},
   "source": [
    "## Example 36.1 Inductance of a toroid"
   ]
  },
  {
   "cell_type": "code",
   "execution_count": 1,
   "metadata": {
    "collapsed": false
   },
   "outputs": [
    {
     "name": "stdout",
     "output_type": "stream",
     "text": [
      "Inductance of a toroid of recyangular cross section in henry is 0.0013863\n"
     ]
    }
   ],
   "source": [
    "from __future__ import division\n",
    "import math\n",
    "\n",
    "u0=4*math.pi*10**-7 #in weber/amp-m   Mu-not=u0\n",
    "N=10**3 #no.of turns\n",
    "a=5*10**-2 #im meter\n",
    "b=10*10**-2 #in meter\n",
    "h=1*10**-2 #in metre\n",
    "L=(u0*N**2*h)/(2*math.pi)*math.log(b/a)\n",
    "print(\"Inductance of a toroid of recyangular cross section in henry is %.7f\"%L)"
   ]
  },
  {
   "cell_type": "markdown",
   "metadata": {},
   "source": [
    "## Example 36.2 Time"
   ]
  },
  {
   "cell_type": "code",
   "execution_count": 2,
   "metadata": {
    "collapsed": false
   },
   "outputs": [
    {
     "name": "stdout",
     "output_type": "stream",
     "text": [
      "Time taken for the current to reach one-half of its final equilibrium in sec is 1.1552453\n"
     ]
    }
   ],
   "source": [
    "from __future__ import division\n",
    "import math\n",
    "L=50 #inductance in henry\n",
    "R=30 #resistance in ohms\n",
    "t0=math.log(2)*(L/R)\n",
    "print(\"Time taken for the current to reach one-half of its final equilibrium in sec is %.7f\"%t0)"
   ]
  },
  {
   "cell_type": "markdown",
   "metadata": {},
   "source": [
    "## Example 36.3 Maximum Current and Energy stored"
   ]
  },
  {
   "cell_type": "code",
   "execution_count": 3,
   "metadata": {
    "collapsed": false
   },
   "outputs": [
    {
     "name": "stdout",
     "output_type": "stream",
     "text": [
      "Maximum current in amp is 5.0\n",
      "Energy stored in the magnetic field in joules is 62.5\n"
     ]
    }
   ],
   "source": [
    "from __future__ import division\n",
    "L=5 #inductance in henry\n",
    "V=100 #emf in volts\n",
    "R=20 #resistance in ohms\n",
    "i=V/R\n",
    "print(\"Maximum current in amp is\",i)\n",
    "U=(L*i**2)/2\n",
    "print(\"Energy stored in the magnetic field in joules is %.1f\"%U)"
   ]
  },
  {
   "cell_type": "markdown",
   "metadata": {},
   "source": [
    "## Example 36.4 Rate at which energy is stored and delivered and appeared"
   ]
  },
  {
   "cell_type": "code",
   "execution_count": 4,
   "metadata": {
    "collapsed": false
   },
   "outputs": [
    {
     "name": "stdout",
     "output_type": "stream",
     "text": [
      "The rate at which energy is delivred by the battery in watt is 0.5689085\n",
      "The rate at which energy appears as Joule heat in the resistor in watt is 0.3596188\n",
      "Let D=di/dt\n",
      "The desired rate at which energy is being stored in the magnetic field in watt is 0.2092897\n"
     ]
    }
   ],
   "source": [
    "from __future__ import division\n",
    "import math\n",
    "L=3 #inductance in henry\n",
    "R=10 #resistance in ohm\n",
    "V=3 #emf in volts\n",
    "t=0.30 #in sec\n",
    "T=0.30 #inductive time constant in sec\n",
    "#(a)\n",
    "i=(V/R)*(1-math.exp(-t/T))\n",
    "P1=V*i\n",
    "print(\"The rate at which energy is delivred by the battery in watt is %.7f\"%P1)\n",
    "#(b)\n",
    "P2=i**2*R\n",
    "print(\"The rate at which energy appears as Joule heat in the resistor in watt is %.7f\"%P2)\n",
    "#(c)\n",
    "print(\"Let D=di/dt\")\n",
    "D=(V/L)*math.exp(-t/T) #in amp/sec\n",
    "P3=L*i*D\n",
    "print(\"The desired rate at which energy is being stored in the magnetic field in watt is %.7f\"%P3)"
   ]
  },
  {
   "cell_type": "markdown",
   "metadata": {},
   "source": [
    "## Example 36.6 Energy"
   ]
  },
  {
   "cell_type": "code",
   "execution_count": 5,
   "metadata": {
    "collapsed": false
   },
   "outputs": [
    {
     "name": "stdout",
     "output_type": "stream",
     "text": [
      "(a)Energy required to set up in the given cube on edge in electric field in joules is 0.0000445\n",
      "(b)Energy required to set up in the given cube on edge in magnetic field in joules is 397.887\n"
     ]
    }
   ],
   "source": [
    "from __future__ import division\n",
    "import math\n",
    "\n",
    "epsilon0=8.9*10**-12 #in coul2/nt-m2\n",
    "E=10**5 #elelctric field in volts/meter\n",
    "B=1 #magnetic field in weber/meter2\n",
    "u0=4*math.pi*10**-7 #in weber/amp-m   Mu-not=u0\n",
    "a=0.1 #side of the cube in meter\n",
    "V0=a**3 #volume of the cube in meter3\n",
    "#(a)\n",
    "U1=epsilon0*E**2*V0/2 #in elelctric field\n",
    "print(\"(a)Energy required to set up in the given cube on edge in electric field in joules is %.7f\"%U1)\n",
    "#(b)\n",
    "U2=(B**2/(2*u0))*V0\n",
    "print(\"(b)Energy required to set up in the given cube on edge in magnetic field in joules is %.3f\"%U2)"
   ]
  }
 ],
 "metadata": {
  "anaconda-cloud": {},
  "kernelspec": {
   "display_name": "Python [Root]",
   "language": "python",
   "name": "Python [Root]"
  },
  "language_info": {
   "codemirror_mode": {
    "name": "ipython",
    "version": 2
   },
   "file_extension": ".py",
   "mimetype": "text/x-python",
   "name": "python",
   "nbconvert_exporter": "python",
   "pygments_lexer": "ipython2",
   "version": "2.7.12"
  },
  "widgets": {
   "state": {},
   "version": "1.1.2"
  }
 },
 "nbformat": 4,
 "nbformat_minor": 0
}
