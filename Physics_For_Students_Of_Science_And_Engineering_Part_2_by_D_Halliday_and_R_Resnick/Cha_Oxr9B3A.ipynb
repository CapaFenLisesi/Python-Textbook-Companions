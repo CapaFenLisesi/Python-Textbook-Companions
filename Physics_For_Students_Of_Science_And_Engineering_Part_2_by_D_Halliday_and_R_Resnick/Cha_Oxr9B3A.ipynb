{
 "cells": [
  {
   "cell_type": "markdown",
   "metadata": {},
   "source": [
    "# Chapter 42 REFLECTION AND REFRACTION SPHERICAL WAVES AND SPHERICAL SURFACES"
   ]
  },
  {
   "cell_type": "markdown",
   "metadata": {},
   "source": [
    "## Example 42.4 Location of image"
   ]
  },
  {
   "cell_type": "code",
   "execution_count": 1,
   "metadata": {
    "collapsed": false
   },
   "outputs": [
    {
     "name": "stdout",
     "output_type": "stream",
     "text": [
      "x=n2/i\n",
      "x= 0.05\n",
      "The value of i in cm= 40.0\n"
     ]
    }
   ],
   "source": [
    "from __future__ import division\n",
    "n1=1\n",
    "n2=2\n",
    "o=20 #in cm\n",
    "r=10 #in cm\n",
    "print(\"x=n2/i\")\n",
    "x=((n2-n1)/r)-(n1/o)\n",
    "print(\"x=\",x)\n",
    "i=n2/x\n",
    "print(\"The value of i in cm=\",i)"
   ]
  },
  {
   "cell_type": "markdown",
   "metadata": {},
   "source": [
    "## Example 42.5 Location of image"
   ]
  },
  {
   "cell_type": "code",
   "execution_count": 2,
   "metadata": {
    "collapsed": false
   },
   "outputs": [
    {
     "name": "stdout",
     "output_type": "stream",
     "text": [
      "x=n2/i\n",
      "The value of i in cm= -0.03333\n",
      "The value of i in cm= -30\n"
     ]
    }
   ],
   "source": [
    "from __future__ import division\n",
    "n1=2\n",
    "n2=1\n",
    "o=15   #in cm\n",
    "r=-10  #in cm\n",
    "print(\"x=n2/i\")\n",
    "x=((n2-n1)/r)-(n1/o)\n",
    "print(\"The value of i in cm= %.5f\"%x)\n",
    "i=n2/x\n",
    "print(\"The value of i in cm= %d\"%i)"
   ]
  },
  {
   "cell_type": "markdown",
   "metadata": {},
   "source": [
    "## Example 42.7 Location of image"
   ]
  },
  {
   "cell_type": "code",
   "execution_count": 3,
   "metadata": {
    "collapsed": false
   },
   "outputs": [
    {
     "name": "stdout",
     "output_type": "stream",
     "text": [
      "x=1/f in cm= 0.0325\n",
      "f=1/x\n",
      "f in cm= 30.76923\n"
     ]
    }
   ],
   "source": [
    "n=1.65\n",
    "r_1=40   #in cm\n",
    "r_2=-40  #in cm\n",
    "x=(n-1)*((1/r_1)-(1/r_2))\n",
    "print(\"x=1/f in cm= %.4f\"%x)\n",
    "print(\"f=1/x\")\n",
    "f=1/x\n",
    "print(\"f in cm= %.5f\"%f)"
   ]
  },
  {
   "cell_type": "markdown",
   "metadata": {},
   "source": [
    "## Example 42.8 Location of image"
   ]
  },
  {
   "cell_type": "code",
   "execution_count": 4,
   "metadata": {
    "collapsed": false
   },
   "outputs": [
    {
     "name": "stdout",
     "output_type": "stream",
     "text": [
      "x=1/i in cm= -0.06944\n",
      "i in cm= -14.4\n",
      "Lateral magnification =\n",
      "m= 1.6\n"
     ]
    }
   ],
   "source": [
    "from __future__ import division\n",
    "o=9  #in cm\n",
    "f=24 #in cm\n",
    "x=(1/f)-(1/o)\n",
    "print(\"x=1/i in cm= %.5f\"%x)\n",
    "i=1/x\n",
    "print(\"i in cm= %.1f\"%i)\n",
    "print(\"Lateral magnification =\")\n",
    "m=-(i/o)\n",
    "print('m= %.1f'%m)"
   ]
  }
 ],
 "metadata": {
  "anaconda-cloud": {},
  "kernelspec": {
   "display_name": "Python [Root]",
   "language": "python",
   "name": "Python [Root]"
  },
  "language_info": {
   "codemirror_mode": {
    "name": "ipython",
    "version": 2
   },
   "file_extension": ".py",
   "mimetype": "text/x-python",
   "name": "python",
   "nbconvert_exporter": "python",
   "pygments_lexer": "ipython2",
   "version": "2.7.12"
  },
  "widgets": {
   "state": {},
   "version": "1.1.2"
  }
 },
 "nbformat": 4,
 "nbformat_minor": 0
}
