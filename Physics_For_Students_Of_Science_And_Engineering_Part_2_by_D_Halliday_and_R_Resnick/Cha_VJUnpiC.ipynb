{
 "cells": [
  {
   "cell_type": "markdown",
   "metadata": {},
   "source": [
    "# Chapter 41 REFLECTION AND REFRACTION OF PLANE WAVES AND PLANE SURFACES"
   ]
  },
  {
   "cell_type": "markdown",
   "metadata": {},
   "source": [
    "## Example 41.1 Angle between two refracted beams"
   ]
  },
  {
   "cell_type": "code",
   "execution_count": 2,
   "metadata": {
    "collapsed": false
   },
   "outputs": [
    {
     "name": "stdout",
     "output_type": "stream",
     "text": [
      "For 4000 A beam, theta_2 in degree= 19.88234\n",
      "For 5000 A beam, theta_2 in degree= 19.99290\n"
     ]
    }
   ],
   "source": [
    "import math\n",
    "theta_1=30\n",
    "n_qa=1.4702\n",
    "theta2=math.degrees(math.asin(math.sin(theta_1*math.pi/180)/n_qa))\n",
    "print(\"For 4000 A beam, theta_2 in degree= %.5f\"%theta2)\n",
    "\n",
    "theta_1=30\n",
    "n_qa=1.4624\n",
    "theta2=math.degrees(math.asin(math.sin(theta_1*math.pi/180)/n_qa))\n",
    "print(\"For 5000 A beam, theta_2 in degree= %.5f\"%theta2)"
   ]
  },
  {
   "cell_type": "markdown",
   "metadata": {},
   "source": [
    "## Example 41.4 Index of glass"
   ]
  },
  {
   "cell_type": "code",
   "execution_count": 3,
   "metadata": {
    "collapsed": false
   },
   "outputs": [
    {
     "name": "stdout",
     "output_type": "stream",
     "text": [
      "Index reflection= 1.41421\n"
     ]
    }
   ],
   "source": [
    "import math\n",
    "n=1/math.sin(45*math.pi/180)\n",
    "print(\"Index reflection= %.5f\"%n)"
   ]
  },
  {
   "cell_type": "markdown",
   "metadata": {},
   "source": [
    "## Example 41.5 Calculation of Angle"
   ]
  },
  {
   "cell_type": "code",
   "execution_count": 4,
   "metadata": {
    "collapsed": false
   },
   "outputs": [
    {
     "name": "stdout",
     "output_type": "stream",
     "text": [
      "Angle theta_c in degree= 62.45732\n",
      "Actual angle of indices = 45 is less than theta_ c, so there is no internal angle reflection\n",
      "Angle of refraction:\n",
      "Theta_2 in degree= 52.89097\n"
     ]
    }
   ],
   "source": [
    "import math\n",
    "n2=1.33\n",
    "n1=1.50\n",
    "theta_c=math.degrees(math.asin(n2/n1))\n",
    "print(\"Angle theta_c in degree= %.5f\"%theta_c)\n",
    "print(\"Actual angle of indices = 45 is less than theta_ c, so there is no internal angle reflection\")\n",
    "print(\"Angle of refraction:\")\n",
    "x=n1/n2\n",
    "theta_2=(math.asin(x*math.sin(45*math.pi/180))*180/math.pi)\n",
    "print(\"Theta_2 in degree= %.5f\"%theta_2)"
   ]
  }
 ],
 "metadata": {
  "anaconda-cloud": {},
  "kernelspec": {
   "display_name": "Python [Root]",
   "language": "python",
   "name": "Python [Root]"
  },
  "language_info": {
   "codemirror_mode": {
    "name": "ipython",
    "version": 2
   },
   "file_extension": ".py",
   "mimetype": "text/x-python",
   "name": "python",
   "nbconvert_exporter": "python",
   "pygments_lexer": "ipython2",
   "version": "2.7.12"
  },
  "widgets": {
   "state": {},
   "version": "1.1.2"
  }
 },
 "nbformat": 4,
 "nbformat_minor": 0
}
