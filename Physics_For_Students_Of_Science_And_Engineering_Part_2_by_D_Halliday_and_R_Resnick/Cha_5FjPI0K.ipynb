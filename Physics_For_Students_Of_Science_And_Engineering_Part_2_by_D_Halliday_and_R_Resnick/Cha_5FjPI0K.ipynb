{
 "cells": [
  {
   "cell_type": "markdown",
   "metadata": {},
   "source": [
    "# Chapter 39 ELECTROMAGNETIC WAVES"
   ]
  },
  {
   "cell_type": "markdown",
   "metadata": {},
   "source": [
    "## Example 39.6 Magnitude of electric and magnetic ﬁeld"
   ]
  },
  {
   "cell_type": "code",
   "execution_count": 5,
   "metadata": {
    "collapsed": false
   },
   "outputs": [
    {
     "name": "stdout",
     "output_type": "stream",
     "text": [
      "The value of E in volts/meter= 244.94897\n",
      "B in weber/meter^2= 0.00000082\n"
     ]
    }
   ],
   "source": [
    "import math\n",
    "r=1  #in m\n",
    "p=10**3 \n",
    "m=4*math.pi*10**-7 #weber/amp-m\n",
    "c=3*10**8 #speed of light\n",
    "x=2*math.pi\n",
    "E_m=(1/r)*(math.sqrt((p*m*c)/x))\n",
    "print(\"The value of E in volts/meter= %.5f\"%E_m)\n",
    "B=E_m/c\n",
    "print(\"B in weber/meter^2= %.8f\"%B)"
   ]
  }
 ],
 "metadata": {
  "anaconda-cloud": {},
  "kernelspec": {
   "display_name": "Python [Root]",
   "language": "python",
   "name": "Python [Root]"
  },
  "language_info": {
   "codemirror_mode": {
    "name": "ipython",
    "version": 2
   },
   "file_extension": ".py",
   "mimetype": "text/x-python",
   "name": "python",
   "nbconvert_exporter": "python",
   "pygments_lexer": "ipython2",
   "version": "2.7.12"
  },
  "widgets": {
   "state": {},
   "version": "1.1.2"
  }
 },
 "nbformat": 4,
 "nbformat_minor": 0
}
