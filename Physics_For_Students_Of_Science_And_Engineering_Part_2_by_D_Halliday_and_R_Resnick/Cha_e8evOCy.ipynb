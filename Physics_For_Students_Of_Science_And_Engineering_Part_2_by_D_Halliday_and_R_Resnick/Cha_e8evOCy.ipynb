{
 "cells": [
  {
   "cell_type": "markdown",
   "metadata": {},
   "source": [
    "# Chapter 38 ELECTROMAGNETIC OSCILLATIONS"
   ]
  },
  {
   "cell_type": "markdown",
   "metadata": {},
   "source": [
    "## Example 38.1 Current"
   ]
  },
  {
   "cell_type": "code",
   "execution_count": 1,
   "metadata": {
    "collapsed": false
   },
   "outputs": [
    {
     "name": "stdout",
     "output_type": "stream",
     "text": [
      "Max current in amps  0.5\n"
     ]
    }
   ],
   "source": [
    "from __future__ import division\n",
    "import math\n",
    "V_o=50 #in volts\n",
    "C=1*10**-6 #in farad\n",
    "L=10*10**-3\n",
    "i_m=V_o*(math.sqrt(C/L))\n",
    "print(\"Max current in amps \",i_m)"
   ]
  },
  {
   "cell_type": "markdown",
   "metadata": {},
   "source": [
    "## Example 38.2 Angular frequency"
   ]
  },
  {
   "cell_type": "code",
   "execution_count": 2,
   "metadata": {
    "collapsed": false
   },
   "outputs": [
    {
     "name": "stdout",
     "output_type": "stream",
     "text": [
      "Angular frequency in radians/sec= 10000.0\n"
     ]
    }
   ],
   "source": [
    "from __future__ import division\n",
    "import math\n",
    "L=10*(10**-3) #in henry\n",
    "C=(10)**-6 #in farad\n",
    "w=math.sqrt(1/(L*C))\n",
    "print(\"Angular frequency in radians/sec=\",w)"
   ]
  },
  {
   "cell_type": "markdown",
   "metadata": {},
   "source": [
    "## Example 38.3 Angular frequency and time"
   ]
  },
  {
   "cell_type": "code",
   "execution_count": 3,
   "metadata": {
    "collapsed": false
   },
   "outputs": [
    {
     "name": "stdout",
     "output_type": "stream",
     "text": [
      "Angular frequency in radians/sec= 10000.0\n",
      "Time in sec= 0.13863\n"
     ]
    }
   ],
   "source": [
    "from __future__ import division\n",
    "L=10*(10**-3) #in henry\n",
    "C=10**-6 #in farad\n",
    "R=0.1 #in ohm\n",
    "w=math.sqrt(1/(L*C))\n",
    "print(\"Angular frequency in radians/sec=\",w)\n",
    "t=(2*L*math.log(2))/R\n",
    "print(\"Time in sec= %.5f\"%t)"
   ]
  },
  {
   "cell_type": "markdown",
   "metadata": {},
   "source": [
    "## Example 38.5 Magnetic ﬁeld"
   ]
  },
  {
   "cell_type": "code",
   "execution_count": 4,
   "metadata": {
    "collapsed": false
   },
   "outputs": [
    {
     "name": "stdout",
     "output_type": "stream",
     "text": [
      "Magnetic field in weber/m**2= 0.0000003\n"
     ]
    }
   ],
   "source": [
    "import math\n",
    "m_0=(4*math.pi*10**-7) #in weber\n",
    "e_0=(8.9*10**-12)\n",
    "R=5*10**-2 #meters\n",
    "dEbydT=10**12\n",
    "B=(0.5*m_0*e_0*R*dEbydT)\n",
    "print(\"Magnetic field in weber/m**2= %.7f\"%B)"
   ]
  },
  {
   "cell_type": "markdown",
   "metadata": {},
   "source": [
    "## Example 38.6 Calculation of current"
   ]
  },
  {
   "cell_type": "code",
   "execution_count": 5,
   "metadata": {
    "collapsed": false
   },
   "outputs": [
    {
     "name": "stdout",
     "output_type": "stream",
     "text": [
      "Current in amp= 0.0699004\n"
     ]
    }
   ],
   "source": [
    "import math\n",
    "m_0=(4*math.pi*10**-7) #in weber\n",
    "e_0=(8.9*10**-12)\n",
    "R=5*10**-2 #meters\n",
    "dEbydT=10**12\n",
    "i_d=(e_0*math.pi*R*R*dEbydT)\n",
    "print(\"Current in amp= %.7f\"%i_d)"
   ]
  }
 ],
 "metadata": {
  "anaconda-cloud": {},
  "kernelspec": {
   "display_name": "Python [Root]",
   "language": "python",
   "name": "Python [Root]"
  },
  "language_info": {
   "codemirror_mode": {
    "name": "ipython",
    "version": 2
   },
   "file_extension": ".py",
   "mimetype": "text/x-python",
   "name": "python",
   "nbconvert_exporter": "python",
   "pygments_lexer": "ipython2",
   "version": "2.7.12"
  },
  "widgets": {
   "state": {},
   "version": "1.1.2"
  }
 },
 "nbformat": 4,
 "nbformat_minor": 0
}
