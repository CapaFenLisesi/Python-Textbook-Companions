{
 "cells": [
  {
   "cell_type": "markdown",
   "metadata": {},
   "source": [
    "# Chapter 45 GRATING AND SPECTRA"
   ]
  },
  {
   "cell_type": "markdown",
   "metadata": {},
   "source": [
    "## Example 45.1 Calculation of angle"
   ]
  },
  {
   "cell_type": "code",
   "execution_count": 1,
   "metadata": {
    "collapsed": false
   },
   "outputs": [
    {
     "name": "stdout",
     "output_type": "stream",
     "text": [
      "The first order diffraction pattern in degree= 7.249\n"
     ]
    }
   ],
   "source": [
    "from __future__ import division\n",
    "import math\n",
    "m=1\n",
    "lamda=4000 #in A\n",
    "d=31700 #in A\n",
    "theta=math.degrees(math.asin((m*lamda)/d))\n",
    "print(\"The first order diffraction pattern in degree= %.3f\"%theta)"
   ]
  },
  {
   "cell_type": "markdown",
   "metadata": {},
   "source": [
    "## Example 45.2 Calculation of angle theta"
   ]
  },
  {
   "cell_type": "code",
   "execution_count": 2,
   "metadata": {
    "collapsed": false
   },
   "outputs": [
    {
     "name": "stdout",
     "output_type": "stream",
     "text": [
      "(A) The first order diffraction pattern in degree= 13.408\n",
      "(B) Angle of seperation in degree= 0.0002388\n"
     ]
    }
   ],
   "source": [
    "from __future__ import division\n",
    "import math\n",
    "m=1\n",
    "lamda=5890  #in A\n",
    "d=25400     #in A\n",
    "theta=math.degrees(math.asin((m*lamda)/d))\n",
    "print(\"(A) The first order diffraction pattern in degree= %.3f\"%theta)\n",
    "del_lambda=5.9 #in A\n",
    "delta_theta=(m*(del_lambda))/(d*(math.cos(theta*math.pi/180)))\n",
    "print(\"(B) Angle of seperation in degree= %.7f\"%delta_theta)"
   ]
  },
  {
   "cell_type": "markdown",
   "metadata": {},
   "source": [
    "## Example 45.3 Calculation of Sodium Doublet"
   ]
  },
  {
   "cell_type": "code",
   "execution_count": 3,
   "metadata": {
    "collapsed": false
   },
   "outputs": [
    {
     "name": "stdout",
     "output_type": "stream",
     "text": [
      "Resolving power= 998.305\n",
      "Number of rulings needed is= 332.768\n"
     ]
    }
   ],
   "source": [
    "lamda=5890 #A\n",
    "lamda_1=5895.9 #A\n",
    "m=3\n",
    "delta_lambda=(lamda_1-lamda) #in A\n",
    "R=lamda/(delta_lambda)\n",
    "print(\"Resolving power= %.3f\"%R)\n",
    "N=(R/m)\n",
    "print(\"Number of rulings needed is= %.3f\"%N)"
   ]
  },
  {
   "cell_type": "markdown",
   "metadata": {},
   "source": [
    "## Example 45.4 Calculation of Dispersion"
   ]
  },
  {
   "cell_type": "code",
   "execution_count": 4,
   "metadata": {
    "collapsed": false
   },
   "outputs": [
    {
     "name": "stdout",
     "output_type": "stream",
     "text": [
      "The first order diffraction pattern in degree= 31.11244\n",
      "(A) The dispersion in radian/A= 0.0001105\n",
      "(B) Wave length difference in A= 0.13650\n"
     ]
    }
   ],
   "source": [
    "import math\n",
    "m=3\n",
    "m1=5\n",
    "lamda=5460  #in A\n",
    "d=31700  #in A\n",
    "theta=math.degrees(math.asin((m*lamda)/d))\n",
    "print(\"The first order diffraction pattern in degree= %.5f\"%theta)\n",
    "D=m/(d*math.cos(theta*math.pi/180))\n",
    "print(\"(A) The dispersion in radian/A= %.7f\"%D)\n",
    "N=8000\n",
    "lamda=5460\n",
    "R=N*m1\n",
    "delta_lambda=lamda/R\n",
    "print(\"(B) Wave length difference in A= %.5f\"%delta_lambda)"
   ]
  },
  {
   "cell_type": "markdown",
   "metadata": {},
   "source": [
    "## Example 45.5 Calculation of Angles"
   ]
  },
  {
   "cell_type": "code",
   "execution_count": 5,
   "metadata": {
    "collapsed": false
   },
   "outputs": [
    {
     "name": "stdout",
     "output_type": "stream",
     "text": [
      "Interplanar spacing d in A= 2.51781\n",
      "Diffracted beam occurs when m=1,m=2 and m=3\n",
      "When m1=1, Theta in degree= 12.61763\n",
      "When m1=2, Theta in degree= 25.90544\n",
      "When m1=3, Theta in degree= 40.94473\n"
     ]
    }
   ],
   "source": [
    "import math\n",
    "a_o=5.63  #A\n",
    "d=a_o/math.sqrt(5)\n",
    "lamda=1.10 #in A\n",
    "print(\"Interplanar spacing d in A= %.5f\"%d)\n",
    "print(\"Diffracted beam occurs when m=1,m=2 and m=3\")\n",
    "m1=1\n",
    "x=(m1*lamda)/(2*d)\n",
    "theta_1=math.degrees(math.asin(x))\n",
    "print(\"When m1=1, Theta in degree= %.5f\"%theta_1)\n",
    "m2=2\n",
    "x=(m2*lamda)/(2*d)\n",
    "theta_2=math.degrees(math.asin(x))\n",
    "print('When m1=2, Theta in degree= %.5f'%theta_2)\n",
    "m3=3\n",
    "x=(m3*lamda)/(2*d)\n",
    "theta_3=math.degrees(math.asin(x))\n",
    "print('When m1=3, Theta in degree= %.5f'%theta_3)"
   ]
  }
 ],
 "metadata": {
  "anaconda-cloud": {},
  "kernelspec": {
   "display_name": "Python [Root]",
   "language": "python",
   "name": "Python [Root]"
  },
  "language_info": {
   "codemirror_mode": {
    "name": "ipython",
    "version": 2
   },
   "file_extension": ".py",
   "mimetype": "text/x-python",
   "name": "python",
   "nbconvert_exporter": "python",
   "pygments_lexer": "ipython2",
   "version": "2.7.12"
  },
  "widgets": {
   "state": {},
   "version": "1.1.2"
  }
 },
 "nbformat": 4,
 "nbformat_minor": 0
}
