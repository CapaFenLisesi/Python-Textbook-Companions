{
 "cells": [
  {
   "cell_type": "markdown",
   "metadata": {},
   "source": [
    "# Chapter 37 MAGNETIC PROPERTIES OF MATTER"
   ]
  },
  {
   "cell_type": "markdown",
   "metadata": {},
   "source": [
    "## Example 37.2 Orbital dipole moment"
   ]
  },
  {
   "cell_type": "code",
   "execution_count": 1,
   "metadata": {
    "collapsed": false
   },
   "outputs": [
    {
     "name": "stdout",
     "output_type": "stream",
     "text": [
      "Orbital dipole moment in amp-m2 is 9.061e-24\n"
     ]
    }
   ],
   "source": [
    "import math\n",
    "e=1.6*10**-19 #in coul\n",
    "r=5.1*10**-11 #radius of hydrogen atom in meter\n",
    "m=9.1*10**-31 #mass of electron in kg\n",
    "epsilon0=8.9*10**-12 #in coul2/nt-m2\n",
    "p=((e**2)/4)*math.sqrt(r/(math.pi*epsilon0*m))\n",
    "print(\"Orbital dipole moment in amp-m2 is %.3e\"%p)"
   ]
  },
  {
   "cell_type": "markdown",
   "metadata": {},
   "source": [
    "## Example 37.4 Change in magnetic moment"
   ]
  },
  {
   "cell_type": "code",
   "execution_count": 2,
   "metadata": {
    "collapsed": false
   },
   "outputs": [
    {
     "name": "stdout",
     "output_type": "stream",
     "text": [
      "Change in Orbital dipole moment in amp-m2 is + 0r - 3.659e-29\n"
     ]
    }
   ],
   "source": [
    "e=1.6*10**-19 #in coul\n",
    "r=5.1*10**-11 #radius of hydrogen atom in meter\n",
    "m=9.1*10**-31  #mass of electron in kg\n",
    "epsilon0=8.9*10**-12 #in coul2/nt-m2\n",
    "B=2 #in wb/m2\n",
    "delta_p=(e**2*B*r**2)/(4*m)\n",
    "print(\"Change in Orbital dipole moment in amp-m2 is + 0r - %.3e\"%delta_p)"
   ]
  },
  {
   "cell_type": "markdown",
   "metadata": {},
   "source": [
    "## Example 37.5 Precession frequency"
   ]
  },
  {
   "cell_type": "code",
   "execution_count": 3,
   "metadata": {
    "collapsed": false
   },
   "outputs": [
    {
     "name": "stdout",
     "output_type": "stream",
     "text": [
      "Precession frequency of phoyon in given magnetic field in cps is 21020464.18\n"
     ]
    }
   ],
   "source": [
    "import math\n",
    "u=1.4*10**-26 #in amp-m2\n",
    "B=0.50 #wb/m2\n",
    "Lp=0.53*10**-34 #in joule-sec\n",
    "fp=u*B/(2*math.pi*Lp)\n",
    "print(\"Precession frequency of phoyon in given magnetic field in cps is %.2f\"%fp)"
   ]
  },
  {
   "cell_type": "markdown",
   "metadata": {},
   "source": [
    "## Example 37.6 Magnetic ﬁeld strength Magnetisation Eﬀective magnetising current and Permeability"
   ]
  },
  {
   "cell_type": "code",
   "execution_count": 4,
   "metadata": {
    "collapsed": false
   },
   "outputs": [
    {
     "name": "stdout",
     "output_type": "stream",
     "text": [
      "(A) Magnetic field strength in amp/m is 2000\n",
      "(B)  Magnetisation is Zero when core is removed\n",
      " Magnetisation when the core is replaced in amp/m 793774.72\n",
      "(C) Effective magnetizing current i=i(M,0)=M*(2*math.pi*r0/N0)=M/n\n",
      " Effective magnetizing current in amp is 793.77472\n",
      "(D) Permeability 397.88736\n"
     ]
    }
   ],
   "source": [
    "import math\n",
    "n=10*10**2 #turns/m\n",
    "i=2 #in amp\n",
    "B=1.0 #in wb/m\n",
    "u0=4*math.pi*10**-7 #in wb/amp-m\n",
    "#(A)\n",
    "H=n*i\n",
    "print(\"(A) Magnetic field strength in amp/m is\",H)\n",
    "#(B)\n",
    "M=(B-u0*H)/u0\n",
    "print(\"(B)  Magnetisation is Zero when core is removed\")\n",
    "print(\" Magnetisation when the core is replaced in amp/m %.2f\"%M)\n",
    "#(C)\n",
    "print(\"(C) Effective magnetizing current i=i(M,0)=M*(2*math.pi*r0/N0)=M/n\")\n",
    "i=M/n\n",
    "print(\" Effective magnetizing current in amp is %.5f\"%i)\n",
    "#D\n",
    "Km=B/(u0*H)\n",
    "print(\"(D) Permeability %.5f\"%Km)"
   ]
  }
 ],
 "metadata": {
  "anaconda-cloud": {},
  "kernelspec": {
   "display_name": "Python [Root]",
   "language": "python",
   "name": "Python [Root]"
  },
  "language_info": {
   "codemirror_mode": {
    "name": "ipython",
    "version": 2
   },
   "file_extension": ".py",
   "mimetype": "text/x-python",
   "name": "python",
   "nbconvert_exporter": "python",
   "pygments_lexer": "ipython2",
   "version": "2.7.12"
  },
  "widgets": {
   "state": {},
   "version": "1.1.2"
  }
 },
 "nbformat": 4,
 "nbformat_minor": 0
}
