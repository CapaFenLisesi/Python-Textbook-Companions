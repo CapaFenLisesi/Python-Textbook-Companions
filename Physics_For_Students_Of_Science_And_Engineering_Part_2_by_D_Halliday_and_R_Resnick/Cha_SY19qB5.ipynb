{
 "cells": [
  {
   "cell_type": "markdown",
   "metadata": {},
   "source": [
    "# Chapter 33 THE MAGNETIC FIELD"
   ]
  },
  {
   "cell_type": "markdown",
   "metadata": {},
   "source": [
    "## Example 33.1 Force acting on a proton"
   ]
  },
  {
   "cell_type": "code",
   "execution_count": 1,
   "metadata": {
    "collapsed": false
   },
   "outputs": [
    {
     "name": "stdout",
     "output_type": "stream",
     "text": [
      "Speed of the proton in meters/sec is 30678599.55\n",
      "Force acting on proton in nt is 7.363e-12\n"
     ]
    }
   ],
   "source": [
    "import math\n",
    "K=5*10**6 #ev\n",
    "e=1.6*10**-19 #in coul\n",
    "K1=K*e #in joules\n",
    "m=1.7*10**-27 #in kg\n",
    "B=1.5 #wb/m\n",
    "theta=math.pi/2\n",
    "v=math.sqrt(2*K1/m)\n",
    "print(\"Speed of the proton in meters/sec is %.2f\"%v)\n",
    "F=e*v*B*math.sin(theta)\n",
    "print(\"Force acting on proton in nt is %.3e\"%F)"
   ]
  },
  {
   "cell_type": "markdown",
   "metadata": {},
   "source": [
    "## Example 33.3 Torsional constant of the spring"
   ]
  },
  {
   "cell_type": "code",
   "execution_count": 2,
   "metadata": {
    "collapsed": false
   },
   "outputs": [
    {
     "name": "stdout",
     "output_type": "stream",
     "text": [
      "Torssional constant in nt-m/deg is 3.333e-08\n"
     ]
    }
   ],
   "source": [
    "N=250 #turns in coil\n",
    "i=1.0*10**-4 #in amp\n",
    "B=0.2 #wb/m2\n",
    "h=2*10**-2  #coil height in m\n",
    "w=1.0*10**-2 #width of coil in m\n",
    "Q=30 #angular deflectin in degrees\n",
    "theta=math.pi/2\n",
    "A=h*w\n",
    "k=N*i*A*B*math.sin(theta)/Q\n",
    "print(\"Torssional constant in nt-m/deg is %.3e\"%k)"
   ]
  },
  {
   "cell_type": "markdown",
   "metadata": {},
   "source": [
    "## Example 33.4 Work done"
   ]
  },
  {
   "cell_type": "code",
   "execution_count": 3,
   "metadata": {
    "collapsed": false
   },
   "outputs": [
    {
     "name": "stdout",
     "output_type": "stream",
     "text": [
      "Work required to turn current in an  external magnetic field from theta=0 to theta=180 degree in joule is  0.23561944901923454\n"
     ]
    }
   ],
   "source": [
    "import math\n",
    "N=100 #turns in circular coil\n",
    "i=0.10 #in amp\n",
    "B=1.5 #in wb/m2\n",
    "a=5*10**-2 #radius of coil in meter\n",
    "u=N*i*math.pi*(a**2) #u is dipole moment\n",
    "U1=(-u*B*math.cos(0))\n",
    "U2=-u*B*math.cos(math.pi)\n",
    "W=U2-U1\n",
    "print(\"Work required to turn current in an  external magnetic field from theta=0 to theta=180 degree in joule is \",W)"
   ]
  },
  {
   "cell_type": "markdown",
   "metadata": {},
   "source": [
    "## Example 33.5 Hall potential diﬀerence"
   ]
  },
  {
   "cell_type": "code",
   "execution_count": 4,
   "metadata": {
    "collapsed": false
   },
   "outputs": [
    {
     "name": "stdout",
     "output_type": "stream",
     "text": [
      "Hall potential difference aross strip in volt is 2.232142857142857e-05 or 0.0000223\n"
     ]
    }
   ],
   "source": [
    "i=200 #current in the strip in amp\n",
    "B=1.5 #magnetic field in wb/m2\n",
    "n=8.4*10**28 #in m-3\n",
    "e=1.6*10**-19 #in coul\n",
    "h=1.0*10**-3 #thickness of copper strip in metre\n",
    "w=2*10**-2 #width of copper strip in meter\n",
    "Vxy=i*B/(n*e*h)\n",
    "print(\"Hall potential difference aross strip in volt is\",Vxy,\"or\",\"%.7f\"%Vxy)"
   ]
  },
  {
   "cell_type": "markdown",
   "metadata": {},
   "source": [
    "## Example 33.6 Orbital radius Cyclotron frequency and Period of revolution"
   ]
  },
  {
   "cell_type": "code",
   "execution_count": 5,
   "metadata": {
    "collapsed": false
   },
   "outputs": [
    {
     "name": "stdout",
     "output_type": "stream",
     "text": [
      "(A)  Orbit radius in meter is 0.1080625\n",
      "(B)  Cyclotron frequency in rev/sec is 2798328.7\n",
      "(C)  Period of revolution in sec is 0.0000004\n"
     ]
    }
   ],
   "source": [
    "import math\n",
    "\n",
    "m=9.1*10**-31 # in kg\n",
    "v=1.9*10**6 #in m/sec\n",
    "q=1.6*10**-19 #charge in coul\n",
    "B=1.0*10**-4 #in wb/m2\n",
    "\n",
    "#(A)\n",
    "r=m*v/(q*B)\n",
    "print(\"(A)  Orbit radius in meter is %.7f\"%r)\n",
    "#(B)\n",
    "f=q*B/(2*math.pi*m)\n",
    "print(\"(B)  Cyclotron frequency in rev/sec is %.1f\"%f)\n",
    "#(C)\n",
    "T=1/f\n",
    "print(\"(C)  Period of revolution in sec is %.7f\"%T)"
   ]
  },
  {
   "cell_type": "markdown",
   "metadata": {},
   "source": [
    "## Example 33.7 Magnetic induction and Deuteron energy"
   ]
  },
  {
   "cell_type": "code",
   "execution_count": 6,
   "metadata": {
    "collapsed": false
   },
   "outputs": [
    {
     "name": "stdout",
     "output_type": "stream",
     "text": [
      "(A)  Magnetic induction needed to accelerate deuterons in wb/m2 is 1.5550883635269475\n",
      "(B)  Deuteron energy in joule is 2.669e-12\n",
      " Deuteron energy in ev is 16679852\n"
     ]
    }
   ],
   "source": [
    "import math\n",
    "f0=12*10**6 #cyclotron frequency in cycles/sec\n",
    "r=21#dee radius in inches\n",
    "R=r*0.0254 #dee radius in meter\n",
    "q=1.6*10**-19 #charge in coul\n",
    "m=3.3*10**-27 #in kg\n",
    "#(A)\n",
    "B=2*math.pi*f0*m/q\n",
    "print(\"(A)  Magnetic induction needed to accelerate deuterons in wb/m2 is\",B)\n",
    "#(B)\n",
    "K=((q**2*B**2*R**2)/(2*m))\n",
    "print(\"(B)  Deuteron energy in joule is %.3e\"%K)\n",
    "K1=K*(1/(1.6*10**-19))\n",
    "print(\" Deuteron energy in ev is %d\"%K1)"
   ]
  }
 ],
 "metadata": {
  "kernelspec": {
   "display_name": "Python [Root]",
   "language": "python",
   "name": "Python [Root]"
  },
  "language_info": {
   "codemirror_mode": {
    "name": "ipython",
    "version": 2
   },
   "file_extension": ".py",
   "mimetype": "text/x-python",
   "name": "python",
   "nbconvert_exporter": "python",
   "pygments_lexer": "ipython2",
   "version": "2.7.12"
  },
  "widgets": {
   "state": {},
   "version": "1.1.2"
  }
 },
 "nbformat": 4,
 "nbformat_minor": 0
}
