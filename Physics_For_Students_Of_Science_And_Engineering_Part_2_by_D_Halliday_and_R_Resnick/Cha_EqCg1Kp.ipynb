{
 "cells": [
  {
   "cell_type": "markdown",
   "metadata": {},
   "source": [
    "# Chapter 27 THE ELECTRIC FIELD"
   ]
  },
  {
   "cell_type": "markdown",
   "metadata": {},
   "source": [
    "## Example 27.1 Electric ﬁeld strength"
   ]
  },
  {
   "cell_type": "code",
   "execution_count": 1,
   "metadata": {
    "collapsed": false
   },
   "outputs": [
    {
     "name": "stdout",
     "output_type": "stream",
     "text": [
      "Electric field strength E=F/q where F=mg\n",
      "electric field strength in nt/coul is 5.574e-11\n"
     ]
    }
   ],
   "source": [
    "from __future__ import division\n",
    "import math\n",
    "m=9.1*10**-31 #mass of electron in kg\n",
    "g=9.8 #acceleration due to gravity in m/s\n",
    "q=1.6*10**-19 #charge of electron in coul\n",
    "print(\"Electric field strength E=F/q where F=mg\")\n",
    "E=m*g/q\n",
    "print(\"electric field strength in nt/coul is %.3e\"%E)\n"
   ]
  },
  {
   "cell_type": "markdown",
   "metadata": {},
   "source": [
    "## Example 27.4 The point on the line joining two charges for the electric ﬁeld strength to be zero"
   ]
  },
  {
   "cell_type": "code",
   "execution_count": 2,
   "metadata": {
    "collapsed": false
   },
   "outputs": [
    {
     "name": "stdout",
     "output_type": "stream",
     "text": [
      "For the electric field strength to be zero the point should lie between the charges where E1=E2\n",
      "E1=E2 which implies q1/4πϵx2 = q2/4πϵ(l-x)2\n",
      "Electric field strength is zero at x=4.142 cm\n"
     ]
    }
   ],
   "source": [
    "from __future__ import division\n",
    "import math\n",
    "q1=1.0*10**-6 #in coul\n",
    "q2=2.0*10**-6 #in coul\n",
    "l=10 #sepearation b/w q1 and q2 in cm\n",
    "print(\"For the electric field strength to be zero the point should lie between the charges where E1=E2\")\n",
    "#\"Refer to the fig 27.9\"\n",
    "#E1=electric fied strength due to q1\n",
    "#E2=electric fied strength due to q2\n",
    "print(\"E1=E2 which implies q1/4πϵx2 = q2/4πϵ(l-x)2\")\n",
    "x=l/(1+math.sqrt(q2/q1))\n",
    "print(\"Electric field strength is zero at x=%.3f cm\"%x)"
   ]
  },
  {
   "cell_type": "markdown",
   "metadata": {},
   "source": [
    "##  Example 27.9 Deﬂection of electron"
   ]
  },
  {
   "cell_type": "code",
   "execution_count": 3,
   "metadata": {
    "collapsed": false
   },
   "outputs": [
    {
     "name": "stdout",
     "output_type": "stream",
     "text": [
      "Corresponding deflection in meters is 0.000337\n"
     ]
    }
   ],
   "source": [
    "from __future__ import division\n",
    "import math\n",
    "e=1.6*10**-19 #charge in coul\n",
    "E=1.2*10**4 #electric field in nt/coul\n",
    "x=1.5*10**-2 #length of deflecting assembly in m\n",
    "K0=3.2*10**-16 #kinetic energy of electron in joule\n",
    "#calculation\n",
    "y=e*E*x**2/(4*K0)\n",
    "print(\"Corresponding deflection in meters is %.6f\"%y)"
   ]
  },
  {
   "cell_type": "markdown",
   "metadata": {},
   "source": [
    "##  Example 27.11 Torque and work done by external agent on electric dipole"
   ]
  },
  {
   "cell_type": "code",
   "execution_count": 4,
   "metadata": {
    "collapsed": false
   },
   "outputs": [
    {
     "name": "stdout",
     "output_type": "stream",
     "text": [
      "(a)Maximum torque exerted by the fied in nt-m is\n",
      "0.002\n",
      "(b) Work done by the external agent to turn dipole end for end in joule is \n",
      "0.004\n"
     ]
    }
   ],
   "source": [
    "from __future__ import division\n",
    "import math\n",
    "q=1.0*10**-6 #magnitude of two opposite charges of a electric dipole in coul\n",
    "d=2.0*10**-2 #seperation b/w charges in m\n",
    "E=1.0*10**5 #external field in nt/coul\n",
    "#calculations\n",
    "#(a)Max torque if found when theta=90 degrees\n",
    "#Torque =pEsin(theta)\n",
    "p=q*d #electric dipole moment\n",
    "T=p*E*math.sin(math.pi/2)\n",
    "print(\"(a)Maximum torque exerted by the fied in nt-m is\")\n",
    "print(T)\n",
    "#(b)work done by the external agent is the potential energy b/w the positions theta=180 and 0 degree\n",
    "W=(-p*E*math.cos(math.pi))-(-p*E*math.cos(0))\n",
    "print(\"(b) Work done by the external agent to turn dipole end for end in joule is \")\n",
    "print(W)"
   ]
  }
 ],
 "metadata": {
  "anaconda-cloud": {},
  "kernelspec": {
   "display_name": "Python [Root]",
   "language": "python",
   "name": "Python [Root]"
  },
  "language_info": {
   "codemirror_mode": {
    "name": "ipython",
    "version": 2
   },
   "file_extension": ".py",
   "mimetype": "text/x-python",
   "name": "python",
   "nbconvert_exporter": "python",
   "pygments_lexer": "ipython2",
   "version": "2.7.12"
  },
  "widgets": {
   "state": {},
   "version": "1.1.2"
  }
 },
 "nbformat": 4,
 "nbformat_minor": 0
}
