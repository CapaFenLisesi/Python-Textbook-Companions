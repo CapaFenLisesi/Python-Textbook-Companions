{
 "cells": [
  {
   "cell_type": "markdown",
   "metadata": {},
   "source": [
    "# Chapter 31 CURRENT AND RESISTANCE"
   ]
  },
  {
   "cell_type": "markdown",
   "metadata": {},
   "source": [
    "## Example 31.1 Current density"
   ]
  },
  {
   "cell_type": "code",
   "execution_count": 1,
   "metadata": {
    "collapsed": false
   },
   "outputs": [
    {
     "name": "stdout",
     "output_type": "stream",
     "text": [
      "Current density in Aluminium wire in amp/square inches 1273.240\n",
      "Current density in copper wire in amp/square inches 3108.495\n"
     ]
    }
   ],
   "source": [
    "from __future__ import division\n",
    "import math\n",
    "d1=0.10 #diameter of aluminium wire in inches\n",
    "d2=0.064 #diameter of copper wire in inches\n",
    "i=10 #current carried by composite wire in amperes\n",
    "A1=math.pi*(d1/2)**2 #crosssectional area of aluminium wire in square inches\n",
    "A2=math.pi*(d2/2)**2 #crosssectional area of copper wire in square inches\n",
    "j1=i/A1\n",
    "j2=i/A2\n",
    "print(\"Current density in Aluminium wire in amp/square inches %.3f\"%j1)\n",
    "print(\"Current density in copper wire in amp/square inches %.3f\"%j2)"
   ]
  },
  {
   "cell_type": "markdown",
   "metadata": {},
   "source": [
    "## Example 31.2 Drift speed"
   ]
  },
  {
   "cell_type": "code",
   "execution_count": 2,
   "metadata": {
    "collapsed": false
   },
   "outputs": [
    {
     "name": "stdout",
     "output_type": "stream",
     "text": [
      "No.of free electrons per unit volume in atoms/mole 8.438e+22\n",
      "Drift speed of electron in cm/sec is 0.03556\n"
     ]
    }
   ],
   "source": [
    "from __future__ import division\n",
    "import math\n",
    "j=480 #current density for copper wire in amp/cm2\n",
    "N0=6*10**23 #avagadro number in atoms/mole\n",
    "M=64 #molecular wt in gm/mole\n",
    "d=9.0 #density in gm/cm3\n",
    "e=1.6*10**-19 #elecron charge in coul\n",
    "n=d*N0/M \n",
    "print(\"No.of free electrons per unit volume in atoms/mole %.3e\"%n)\n",
    "Vd=j/(n*e)\n",
    "print(\"Drift speed of electron in cm/sec is %.5f\"%Vd)"
   ]
  },
  {
   "cell_type": "markdown",
   "metadata": {},
   "source": [
    "## Example 31.3 Resistance and resistivity"
   ]
  },
  {
   "cell_type": "code",
   "execution_count": 5,
   "metadata": {
    "collapsed": false
   },
   "outputs": [
    {
     "name": "stdout",
     "output_type": "stream",
     "text": [
      "Dimensions of rectangular carbon block are 1.0cm*1.0cm*50cm\n",
      "(a) Resistance measured b/w the two square ends in ohm is 0.175\n",
      "(a) Resistance measured b/w the two opposite rectangular faces in ohm is 7.0e-05\n"
     ]
    }
   ],
   "source": [
    "from __future__ import division\n",
    "import math\n",
    "print(\"Dimensions of rectangular carbon block are 1.0cm*1.0cm*50cm\")\n",
    "l=1.0*10**-2 #in meter\n",
    "b=1.0*10**-2#in meter\n",
    "h=50*10**-2 #in meter\n",
    "p=3.5*10**-5 #resisivity of carbon in ohm-m\n",
    "#(a)Resistance b/w two square ends\n",
    "l1=h\n",
    "A1=b*l\n",
    "R1=p*l1/A1\n",
    "print(\"(a) Resistance measured b/w the two square ends in ohm is %.3f\"%R1)\n",
    "l2=l\n",
    "A2=b*h\n",
    "R2=p*l2/A2\n",
    "print(\"(a) Resistance measured b/w the two opposite rectangular faces in ohm is %.1e\"%R2)"
   ]
  },
  {
   "cell_type": "markdown",
   "metadata": {},
   "source": [
    "## Example 31.4 Mean time and Mean free path"
   ]
  },
  {
   "cell_type": "code",
   "execution_count": 7,
   "metadata": {
    "collapsed": false
   },
   "outputs": [
    {
     "name": "stdout",
     "output_type": "stream",
     "text": [
      "(a) Mean time b/w collisions in sec is 4.979e-14\n",
      "(b) Mean free path in cm is 0.000008\n"
     ]
    }
   ],
   "source": [
    "from __future__ import division\n",
    "import math\n",
    "m=9.1*10**-31 #in kg\n",
    "n=8.4*10**28 #in m-1\n",
    "e=1.6*10**-19 #in coul\n",
    "p=1.7*10**-8 #in ohm-m\n",
    "v=1.6*10**8 #in cm/sec\n",
    "T=2*m/(n*p*e**2)\n",
    "print(\"(a) Mean time b/w collisions in sec is %.3e\"%T)\n",
    "Lambda=T*v\n",
    "print(\"(b) Mean free path in cm is %f\"%Lambda)"
   ]
  },
  {
   "cell_type": "markdown",
   "metadata": {},
   "source": [
    "## Example 31.5 Power"
   ]
  },
  {
   "cell_type": "code",
   "execution_count": 14,
   "metadata": {
    "collapsed": false
   },
   "outputs": [
    {
     "name": "stdout",
     "output_type": "stream",
     "text": [
      "(a)Power for the single coil in watts is 504.167\n",
      "(b)Power for a coil of half the length in watts is 1008.333\n"
     ]
    }
   ],
   "source": [
    "from __future__ import division\n",
    "\n",
    "V=110 #in volt\n",
    "R=24 #ohms\n",
    "P1=V**2/R\n",
    "print(\"(a)Power for the single coil in watts is %.3f\"%P1)\n",
    "P2=V**2/(R/2)\n",
    "print(\"(b)Power for a coil of half the length in watts is %.3f\"%P2)"
   ]
  }
 ],
 "metadata": {
  "anaconda-cloud": {},
  "kernelspec": {
   "display_name": "Python [Root]",
   "language": "python",
   "name": "Python [Root]"
  },
  "language_info": {
   "codemirror_mode": {
    "name": "ipython",
    "version": 2
   },
   "file_extension": ".py",
   "mimetype": "text/x-python",
   "name": "python",
   "nbconvert_exporter": "python",
   "pygments_lexer": "ipython2",
   "version": "2.7.12"
  },
  "widgets": {
   "state": {},
   "version": "1.1.2"
  }
 },
 "nbformat": 4,
 "nbformat_minor": 0
}
