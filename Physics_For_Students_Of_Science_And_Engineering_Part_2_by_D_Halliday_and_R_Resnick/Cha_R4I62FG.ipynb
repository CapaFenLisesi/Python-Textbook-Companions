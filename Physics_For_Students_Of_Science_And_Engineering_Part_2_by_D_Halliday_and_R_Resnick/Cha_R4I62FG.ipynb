{
 "cells": [
  {
   "cell_type": "markdown",
   "metadata": {},
   "source": [
    "# Chapter 34 AMPERES LAW"
   ]
  },
  {
   "cell_type": "markdown",
   "metadata": {},
   "source": [
    "## Example 34.3 Distance"
   ]
  },
  {
   "cell_type": "code",
   "execution_count": 1,
   "metadata": {
    "collapsed": false
   },
   "outputs": [
    {
     "name": "stdout",
     "output_type": "stream",
     "text": [
      "Separation between two wires in metres 0.0054795\n"
     ]
    }
   ],
   "source": [
    "import math\n",
    "i1=100 #in amp\n",
    "i2=20 #in amp\n",
    "W=0.073 #weight of second wire W=F/l in nt/m\n",
    "u0=4*math.pi*10**-7 #in weber/amp-m\n",
    "d=u0*i1*i2/(2*math.pi*W)\n",
    "print(\"Separation between two wires in metres %.7f\"%d)"
   ]
  },
  {
   "cell_type": "markdown",
   "metadata": {},
   "source": [
    "## Example 34.5 Magnetic ﬁeld and Magnetic ﬂux"
   ]
  },
  {
   "cell_type": "code",
   "execution_count": 2,
   "metadata": {
    "collapsed": false
   },
   "outputs": [
    {
     "name": "stdout",
     "output_type": "stream",
     "text": [
      "Magnetic field at center in wb/m2 is 0.0267035\n",
      "Magnetic flux at the center of the solenoid in weber is 0.0000189\n"
     ]
    }
   ],
   "source": [
    "import math\n",
    "l=1.0 #length of solenoid in meter\n",
    "d=3*10**-2 #diameter of solenoid in meter\n",
    "n=5*850 #number of layers and turns of wire\n",
    "u0=4*math.pi*10**-7 #in weber/amp-m\n",
    "i0=5.0 #current in amp\n",
    "#(A)\n",
    "B=u0*i0*n\n",
    "print(\"Magnetic field at center in wb/m2 is %.7f\"%B)\n",
    "#(B)\n",
    "A=math.pi*(d/2)**2\n",
    "Q=B*A\n",
    "print(\"Magnetic flux at the center of the solenoid in weber is %.7f\"%Q)"
   ]
  },
  {
   "cell_type": "markdown",
   "metadata": {},
   "source": [
    "## Example 34.9 Magnetic ﬁeld and Magnetic dipole moment"
   ]
  },
  {
   "cell_type": "code",
   "execution_count": 3,
   "metadata": {
    "collapsed": false
   },
   "outputs": [
    {
     "name": "stdout",
     "output_type": "stream",
     "text": [
      "(A)  Magnetic field at the center of the orbit in wb/m2 13.404\n",
      "(B)  Equivalent magnetic dipole moment in amp-m2 is 8.890e-24\n"
     ]
    }
   ],
   "source": [
    "import math\n",
    "from __future__ import division\n",
    "e=1.6*10**-19 #in coul\n",
    "R=5.1*10**-11 #radius of th enucleus in meter\n",
    "f=6.8*10**15 #frequency with which elecron circulates in rev/sec\n",
    "u0=4*math.pi*10**-7 #in weber/amp-m\n",
    "x=0 #x is any point on the orbit, since at center x=0\n",
    "#(A)\n",
    "i=e*f\n",
    "B=u0*i*R**2*0.5/((R**2+x**2)**(3/2))\n",
    "print(\"(A)  Magnetic field at the center of the orbit in wb/m2 %.3f\"%B)\n",
    "N=1 #no.of turns\n",
    "A=math.pi*R**2\n",
    "U=N*i*A\n",
    "print(\"(B)  Equivalent magnetic dipole moment in amp-m2 is %.3e\"%U)"
   ]
  }
 ],
 "metadata": {
  "anaconda-cloud": {},
  "kernelspec": {
   "display_name": "Python [Root]",
   "language": "python",
   "name": "Python [Root]"
  },
  "language_info": {
   "codemirror_mode": {
    "name": "ipython",
    "version": 2
   },
   "file_extension": ".py",
   "mimetype": "text/x-python",
   "name": "python",
   "nbconvert_exporter": "python",
   "pygments_lexer": "ipython2",
   "version": "2.7.12"
  },
  "widgets": {
   "state": {},
   "version": "1.1.2"
  }
 },
 "nbformat": 4,
 "nbformat_minor": 0
}
