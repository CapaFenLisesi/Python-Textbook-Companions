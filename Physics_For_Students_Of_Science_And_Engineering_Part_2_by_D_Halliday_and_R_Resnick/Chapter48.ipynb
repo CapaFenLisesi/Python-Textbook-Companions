{
 "cells": [
  {
   "cell_type": "markdown",
   "metadata": {},
   "source": [
    "# Chapter 48 WAVES AND PROPOGATION"
   ]
  },
  {
   "cell_type": "markdown",
   "metadata": {},
   "source": [
    "# Example 48.1 Velocity and Wavelength of particle"
   ]
  },
  {
   "cell_type": "code",
   "execution_count": 1,
   "metadata": {
    "collapsed": false
   },
   "outputs": [
    {
     "name": "stdout",
     "output_type": "stream",
     "text": [
      "Velocity in m/s 5929994.5\n",
      "Wavelength in A 1.222\n"
     ]
    }
   ],
   "source": [
    "import math\n",
    "k=100*(1.6*(10**-19))\n",
    "m=9.1*(10**-31)\n",
    "\n",
    "v=math.sqrt(((2*k)/(m)))\n",
    "print(\"Velocity in m/s %.1f\"%v)\n",
    "h=6.6*(10**-34)\n",
    "p=5.4*(10**-34)\n",
    "lamda=h/p\n",
    "print(\"Wavelength in A %.3f\"%lamda)"
   ]
  },
  {
   "cell_type": "markdown",
   "metadata": {},
   "source": [
    "# Example 48.2 Quantized energy"
   ]
  },
  {
   "cell_type": "code",
   "execution_count": 2,
   "metadata": {
    "collapsed": false
   },
   "outputs": [
    {
     "name": "stdout",
     "output_type": "stream",
     "text": [
      "Energy in Joule= 5.984e-20\n"
     ]
    }
   ],
   "source": [
    "n=1\n",
    "h=(6.6)*10**-34 #j/sec\n",
    "m=9.1*(10**-31)  #in kg\n",
    "l=1*(10**-9)  #in m\n",
    "E=(n**2)*((h**2)/(8*m*(l**2)))\n",
    "print(\"Energy in Joule= %.3e\"%E)"
   ]
  },
  {
   "cell_type": "markdown",
   "metadata": {},
   "source": [
    "# Example 48.3 Quantum number"
   ]
  },
  {
   "cell_type": "code",
   "execution_count": 3,
   "metadata": {
    "collapsed": false
   },
   "outputs": [
    {
     "name": "stdout",
     "output_type": "stream",
     "text": [
      "Energy in joule= 5.000e-22\n",
      "Quantum number= 3.030e+14\n"
     ]
    }
   ],
   "source": [
    "m=10**-9    #in kg\n",
    "v=10**-6    #in m/s\n",
    "l=10**-4    #in m\n",
    "h=(6.6)*(10**-34)  #j/s\n",
    "E=(0.5)*m*(v**2)\n",
    "print(\"Energy in joule= %.3e\"%E)\n",
    "n=(l/h)*(math.sqrt(8*m*E))\n",
    "print(\"Quantum number= %.3e\"%n)"
   ]
  },
  {
   "cell_type": "markdown",
   "metadata": {},
   "source": [
    "# Example 48.5 Position of electron"
   ]
  },
  {
   "cell_type": "code",
   "execution_count": 4,
   "metadata": {
    "collapsed": false
   },
   "outputs": [
    {
     "name": "stdout",
     "output_type": "stream",
     "text": [
      "The electrom momentum in kg-m/s= 2.730e-28\n",
      "Delta_p in kg-m/s= 2.730e-32\n",
      "Minimum uncertainaity in m= 0.02418\n"
     ]
    }
   ],
   "source": [
    "m=9.1*(10**-31)  #in kg\n",
    "v=300 #in m/s\n",
    "h=6.6*(10**-34) #in j-s\n",
    "p=m*v\n",
    "print(\"The electrom momentum in kg-m/s= %.3e\"%p)\n",
    "delta_p=(0.0001)*p\n",
    "print(\"Delta_p in kg-m/s= %.3e\"%delta_p)\n",
    "delta_x=(h/delta_p)\n",
    "print(\"Minimum uncertainaity in m= %.5f\"%delta_x)"
   ]
  },
  {
   "cell_type": "markdown",
   "metadata": {},
   "source": [
    "# Example 48.6 Position of electron"
   ]
  },
  {
   "cell_type": "code",
   "execution_count": 5,
   "metadata": {
    "collapsed": false
   },
   "outputs": [
    {
     "name": "stdout",
     "output_type": "stream",
     "text": [
      "Momentum in kg-m/s= 15.0\n",
      "Delta_x in meter= 4.400e-35\n"
     ]
    }
   ],
   "source": [
    "m=0.05 #in kg\n",
    "v=300  #m/s\n",
    "delta_p=m*v\n",
    "print(\"Momentum in kg-m/s=\",delta_p)\n",
    "delta_x=(6.6*10**-34)/delta_p\n",
    "print(\"Delta_x in meter= %.3e\"%delta_x)"
   ]
  }
 ],
 "metadata": {
  "kernelspec": {
   "display_name": "Python 3",
   "language": "python",
   "name": "python3"
  },
  "language_info": {
   "codemirror_mode": {
    "name": "ipython",
    "version": 3
   },
   "file_extension": ".py",
   "mimetype": "text/x-python",
   "name": "python",
   "nbconvert_exporter": "python",
   "pygments_lexer": "ipython3",
   "version": "3.5.1"
  },
  "widgets": {
   "state": {},
   "version": "1.1.2"
  }
 },
 "nbformat": 4,
 "nbformat_minor": 0
}
