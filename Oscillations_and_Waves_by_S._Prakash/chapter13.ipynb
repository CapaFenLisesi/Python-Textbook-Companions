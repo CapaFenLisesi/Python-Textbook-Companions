{
 "metadata": {
  "name": "",
  "signature": ""
 },
 "nbformat": 3,
 "nbformat_minor": 0,
 "worksheets": [
  {
   "cells": [
    {
     "cell_type": "heading",
     "level": 1,
     "metadata": {},
     "source": [
      "Chapter 13, Elementary theory of filters"
     ]
    },
    {
     "cell_type": "heading",
     "level": 2,
     "metadata": {},
     "source": [
      "Example 1, page 491"
     ]
    },
    {
     "cell_type": "code",
     "collapsed": false,
     "input": [
      "from __future__ import division\n",
      "from math import pi\n",
      "#  design loss pass constant K-filter\n",
      "k=600 #ohms\n",
      "fc=2500 #Hz\n",
      "l=(k/(pi*fc)) #H\n",
      "c=((1/(pi*fc*k))) #farad\n",
      "print \"Inductance = %0.1f mH\" %(l*10**3)\n",
      "print \"Capacitance = %0.3f micro-F \" %(c*10**6)"
     ],
     "language": "python",
     "metadata": {},
     "outputs": [
      {
       "output_type": "stream",
       "stream": "stdout",
       "text": [
        "Inductance = 76.4 mH\n",
        "Capacitance = 0.212 micro-F \n"
       ]
      }
     ],
     "prompt_number": 3
    },
    {
     "cell_type": "heading",
     "level": 2,
     "metadata": {},
     "source": [
      "Example 2, page 492"
     ]
    },
    {
     "cell_type": "code",
     "collapsed": false,
     "input": [
      "from math import pi\n",
      "#T-type band pass filter\n",
      "#given data :\n",
      "K=500 # in ohm\n",
      "f1=4 # in kHz\n",
      "f2=1 # in kHz\n",
      "L1=K/(pi*(f1-f2)) \n",
      "Ls=L1/2 \n",
      "print \"Inductance in each series arm, Ls = %0.2f mH \" %Ls\n",
      "C1=(f1-f2)*10**3/(4*pi*K*f1*f2) \n",
      "Cs=2*C1 \n",
      "print \"Capacity in each series arm, Cs = %0.2f micro-F\" %Cs\n",
      "L2=((f1-f2)*K*1e3)/(4*pi*f1*f2*1e6)*1e3 # mH\n",
      "print \"Shunt arm inductance, L2 = %0.1f mH\" %L2\n",
      "Csh=1*10**6/(pi*(f1-f2)*10**3*K) \n",
      "print \"Capacity in shunt arm, Csh = %0.2f micro-F\" % Csh"
     ],
     "language": "python",
     "metadata": {},
     "outputs": [
      {
       "output_type": "stream",
       "stream": "stdout",
       "text": [
        "Inductance in each series arm, Ls = 26.53 mH \n",
        "Capacity in each series arm, Cs = 0.24 micro-F\n",
        "Shunt arm inductance, L2 = 29.8 mH\n",
        "Capacity in shunt arm, Csh = 0.21 micro-F\n"
       ]
      }
     ],
     "prompt_number": 13
    }
   ],
   "metadata": {}
  }
 ]
}
