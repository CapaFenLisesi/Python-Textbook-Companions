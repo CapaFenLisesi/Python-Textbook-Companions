{
 "metadata": {
  "name": "",
  "signature": ""
 },
 "nbformat": 3,
 "nbformat_minor": 0,
 "worksheets": [
  {
   "cells": [
    {
     "cell_type": "heading",
     "level": 1,
     "metadata": {},
     "source": [
      "Chapter 10, Waves in solids"
     ]
    },
    {
     "cell_type": "heading",
     "level": 2,
     "metadata": {},
     "source": [
      "Example 1, page 406"
     ]
    },
    {
     "cell_type": "code",
     "collapsed": false,
     "input": [
      "from __future__ import division\n",
      "# Young's modulus of steel\n",
      "#given data :\n",
      "p=7.8*10**3 # in kg/m**3\n",
      "v=5200 # m/s\n",
      "Y=p*v**2 \n",
      "print \"Young modulus of steel, Y = %0.1e N/m^2 \" %Y"
     ],
     "language": "python",
     "metadata": {},
     "outputs": [
      {
       "output_type": "stream",
       "stream": "stdout",
       "text": [
        "Young modulus of steel, Y = 2.1e+11 N/m^2 \n"
       ]
      }
     ],
     "prompt_number": 2
    },
    {
     "cell_type": "heading",
     "level": 2,
     "metadata": {},
     "source": [
      "Example 2, page 406"
     ]
    },
    {
     "cell_type": "code",
     "collapsed": false,
     "input": [
      "from math import sqrt\n",
      "# Velocity and wavelength\n",
      "#given data :\n",
      "Y=8*10**10 # in N/m**2\n",
      "p=5000 # in kg/m**3\n",
      "v=sqrt(Y/p) \n",
      "print \"(1) The velocity, v = %0.f m/s \" %v\n",
      "f=400 # in vibration/sec\n",
      "lamda=v/f \n",
      "print \"(2) The wavelength = %0.f m \" %lamda"
     ],
     "language": "python",
     "metadata": {},
     "outputs": [
      {
       "output_type": "stream",
       "stream": "stdout",
       "text": [
        "(1) The velocity, v = 4000 m/s \n",
        "(2) The wavelength = 10 m \n"
       ]
      }
     ],
     "prompt_number": 4
    },
    {
     "cell_type": "heading",
     "level": 2,
     "metadata": {},
     "source": [
      "Example 3, page 406"
     ]
    },
    {
     "cell_type": "code",
     "collapsed": false,
     "input": [
      "# Velocity and wavelength\n",
      "#given data :\n",
      "Y=7*10**10 # in N/m**2\n",
      "p=2.8*10**3 # in kg/m**3\n",
      "v=sqrt(Y/p) \n",
      "print \"(1) The velocity, v = %0.e m/s \" %v\n",
      "f=500 # in vibration/sec\n",
      "lamda=v/f \n",
      "print \"(2) The wavelength = %0.f m \" %lamda"
     ],
     "language": "python",
     "metadata": {},
     "outputs": [
      {
       "output_type": "stream",
       "stream": "stdout",
       "text": [
        "(1) The velocity, v = 5e+03 m/s \n",
        "(2) The wavelength = 10 m \n"
       ]
      }
     ],
     "prompt_number": 7
    },
    {
     "cell_type": "heading",
     "level": 2,
     "metadata": {},
     "source": [
      "Example 4, page 410"
     ]
    },
    {
     "cell_type": "code",
     "collapsed": false,
     "input": [
      "# Young's modulus\n",
      "#given data :\n",
      "l=3 # in m\n",
      "n=600 # in Hz\n",
      "p=8.3*10**3 # in kg/m**3\n",
      "Y=p*n**2*(2*l)**2 \n",
      "print \"Youngs modulus, Y = %0.3e N/m^2 \" %Y"
     ],
     "language": "python",
     "metadata": {},
     "outputs": [
      {
       "output_type": "stream",
       "stream": "stdout",
       "text": [
        "Youngs modulus, Y = 1.076e+11 N/m^2 \n"
       ]
      }
     ],
     "prompt_number": 9
    },
    {
     "cell_type": "heading",
     "level": 2,
     "metadata": {},
     "source": [
      "Example 5, page 411"
     ]
    },
    {
     "cell_type": "code",
     "collapsed": false,
     "input": [
      "# Frequency\n",
      "#given data :\n",
      "Y=2*10**11 # in N/m**2\n",
      "p=8*10**3 # in kg/m**3\n",
      "l=0.25 # in m\n",
      "n=sqrt(Y/p)/(2*l) \n",
      "print \"The frequency, n = %0.e vibrations/s \" %n"
     ],
     "language": "python",
     "metadata": {},
     "outputs": [
      {
       "output_type": "stream",
       "stream": "stdout",
       "text": [
        "The frequency, n = 1e+04 vibrations/s \n"
       ]
      }
     ],
     "prompt_number": 11
    },
    {
     "cell_type": "heading",
     "level": 2,
     "metadata": {},
     "source": [
      "Example 6, page 411"
     ]
    },
    {
     "cell_type": "code",
     "collapsed": false,
     "input": [
      "# Area of cross section\n",
      "#given data :\n",
      "n1BYn2=20 \n",
      "T=20*9.8 # in N\n",
      "Y=19.6*10**10 # in N/m**2\n",
      "alfa=n1BYn2**2*T/Y \n",
      "print \"Area of cross section, alfa = %0.e m^2  \" %alfa"
     ],
     "language": "python",
     "metadata": {},
     "outputs": [
      {
       "output_type": "stream",
       "stream": "stdout",
       "text": [
        "Area of cross section, alfa = 4e-07 m^2  \n"
       ]
      }
     ],
     "prompt_number": 13
    },
    {
     "cell_type": "heading",
     "level": 2,
     "metadata": {},
     "source": [
      "Example 7, page 412"
     ]
    },
    {
     "cell_type": "code",
     "collapsed": false,
     "input": [
      "# Velocity and Young modulus\n",
      "#given data :\n",
      "n=2600 # in Hz\n",
      "l=1 # in m\n",
      "p=7.8*10**3 # kg/m**3\n",
      "v=2*n*l \n",
      "print \"The velocity, v = %0.f m/s \" % v\n",
      "Y=v**2*p \n",
      "print \"Youngs modulus, Y = %0.2e N/m^2 \" %Y"
     ],
     "language": "python",
     "metadata": {},
     "outputs": [
      {
       "output_type": "stream",
       "stream": "stdout",
       "text": [
        "The velocity, v = 5200 m/s \n",
        "Youngs modulus, Y = 2.11e+11 N/m^2 \n"
       ]
      }
     ],
     "prompt_number": 14
    },
    {
     "cell_type": "heading",
     "level": 2,
     "metadata": {},
     "source": [
      "Example 8, page 412"
     ]
    },
    {
     "cell_type": "code",
     "collapsed": false,
     "input": [
      "# Frequencies\n",
      "#given data :\n",
      "Y=7.1*10**10 # in N/m**2\n",
      "p=2700 #in kg/m**3\n",
      "l=1.5 # in m\n",
      "r1=1 \n",
      "r2=3 \n",
      "r3=5 \n",
      "n1=(r1/(4*l))*sqrt(Y/p) \n",
      "n2=(r2/(4*l))*sqrt(Y/p) \n",
      "n3=(r3/(4*l))*sqrt(Y/p) \n",
      "print \"Frequency of first harmonic, n1 = %0.2f Hz \" %n1\n",
      "print \"Frequency of second harmonic, n2 = %0.2f Hz \" %n2\n",
      "print \"Frequency of third harmonic, n3 = %0.2f Hz \" %n3"
     ],
     "language": "python",
     "metadata": {},
     "outputs": [
      {
       "output_type": "stream",
       "stream": "stdout",
       "text": [
        "Frequency of first harmonic, n1 = 854.67 Hz \n",
        "Frequency of second harmonic, n2 = 2564.00 Hz \n",
        "Frequency of third harmonic, n3 = 4273.33 Hz \n"
       ]
      }
     ],
     "prompt_number": 15
    },
    {
     "cell_type": "heading",
     "level": 2,
     "metadata": {},
     "source": [
      "Example 9, page 428"
     ]
    },
    {
     "cell_type": "code",
     "collapsed": false,
     "input": [
      "from math import pi\n",
      "# Frequency\n",
      "#given data :\n",
      "l=1.2 # in m\n",
      "v=5150 # in m/s\n",
      "d=0.006 # in m\n",
      "k=d/sqrt(12) \n",
      "v1=pi*v*k*3.011**2/(8*l**2) \n",
      "print \"The frequency, v1 = %0.2f Hz \" %v1"
     ],
     "language": "python",
     "metadata": {},
     "outputs": [
      {
       "output_type": "stream",
       "stream": "stdout",
       "text": [
        "The frequency, v1 = 22.05 Hz \n"
       ]
      }
     ],
     "prompt_number": 17
    },
    {
     "cell_type": "heading",
     "level": 2,
     "metadata": {},
     "source": [
      "Example 10, page 429"
     ]
    },
    {
     "cell_type": "code",
     "collapsed": false,
     "input": [
      "from math import pi\n",
      "# Frequencies\n",
      "#given data :\n",
      "l=2 # in m\n",
      "v=3560 # in m/s\n",
      "r=0.004 # in m\n",
      "k=r/2 \n",
      "v1=pi*v*k*3.011**2/(8*l**2) \n",
      "print \"The frequency, v1 = %0.2f Hz \" %v1\n",
      "v2=pi*v*k*5**2/(8*l**2) \n",
      "print \"The frequency of first overtone, v2 = %0.2f Hz\" %v2\n",
      "v3=pi*v*k*7**2/(8*l**2) \n",
      "print \"The frequency of second overtone, v3 = %0.2f Hz\" %v3"
     ],
     "language": "python",
     "metadata": {},
     "outputs": [
      {
       "output_type": "stream",
       "stream": "stdout",
       "text": [
        "The frequency, v1 = 6.34 Hz \n",
        "The frequency of first overtone, v2 = 17.48 Hz\n",
        "The frequency of second overtone, v3 = 34.25 Hz\n"
       ]
      }
     ],
     "prompt_number": 18
    },
    {
     "cell_type": "heading",
     "level": 2,
     "metadata": {},
     "source": [
      "Example 11, page 429"
     ]
    },
    {
     "cell_type": "code",
     "collapsed": false,
     "input": [
      "# Frequency\n",
      "#given data :\n",
      "Y=7.1*10**10 # in N/m**2\n",
      "p=2.7*10**3 # in kg/m**3\n",
      "r=0.005 # in m\n",
      "vu=sqrt(Y/p) \n",
      "k=r/2 \n",
      "v=vu/(2*pi*k) \n",
      "print \"The frequency, v = %0.2e Hz \" %v"
     ],
     "language": "python",
     "metadata": {},
     "outputs": [
      {
       "output_type": "stream",
       "stream": "stdout",
       "text": [
        "The frequency, v = 3.26e+05 Hz \n"
       ]
      }
     ],
     "prompt_number": 20
    }
   ],
   "metadata": {}
  }
 ]
}
