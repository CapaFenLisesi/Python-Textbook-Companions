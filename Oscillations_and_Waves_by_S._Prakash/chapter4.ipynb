{
 "metadata": {
  "name": "",
  "signature": ""
 },
 "nbformat": 3,
 "nbformat_minor": 0,
 "worksheets": [
  {
   "cells": [
    {
     "cell_type": "heading",
     "level": 1,
     "metadata": {},
     "source": [
      "Chapter 4, Coupled oscillators"
     ]
    },
    {
     "cell_type": "heading",
     "level": 2,
     "metadata": {},
     "source": [
      "Example 2, page 195"
     ]
    },
    {
     "cell_type": "code",
     "collapsed": false,
     "input": [
      "from __future__ import division\n",
      "# ratio of  Frequency\n",
      "k=1 #assume\n",
      "m1=16 #a.m.u\n",
      "m2=12 #a.m.u\n",
      "m3=m1 #\n",
      "rt=((m2+2*m1)/m2)**(1/2) #\n",
      "print \"Ratio of frequency = %0.2f \" %rt"
     ],
     "language": "python",
     "metadata": {},
     "outputs": [
      {
       "output_type": "stream",
       "stream": "stdout",
       "text": [
        "Ratio of frequency = 1.91 \n"
       ]
      }
     ],
     "prompt_number": 1
    }
   ],
   "metadata": {}
  }
 ]
}
