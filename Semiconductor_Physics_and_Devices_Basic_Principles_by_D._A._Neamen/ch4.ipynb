{
 "metadata": {
  "name": "",
  "signature": "sha256:62e87d797177990043f90f7ac32088931f6ffc8399bf27636f988030638fc3be"
 },
 "nbformat": 3,
 "nbformat_minor": 0,
 "worksheets": [
  {
   "cells": [
    {
     "cell_type": "heading",
     "level": 1,
     "metadata": {},
     "source": [
      "Chapter 4: The Semiconductor in Equilibrium"
     ]
    },
    {
     "cell_type": "heading",
     "level": 2,
     "metadata": {},
     "source": [
      "Example 4.1, Page 108"
     ]
    },
    {
     "cell_type": "code",
     "collapsed": false,
     "input": [
      "import math\n",
      "\n",
      "#Variable declaration\n",
      "T=300 #K\n",
      "Nc=2.8*10**19 #cm**-3\n",
      "k=8.617*10**-5 #eV K**-1 \n",
      "\n",
      "#Calculations&Results\n",
      "#E=Ec\n",
      "#a=Ec-Ef\n",
      "a=-0.25\n",
      "#fF(E)=1/(1+exp(Ec-Ef/kT)) =exp(-(Ec-Ef)/kT)\n",
      "#b=k*T\n",
      "#print b)\n",
      "c=k*T\n",
      "fFE=math.exp(a/c)\n",
      "print \"fF(E) value is= %.2e\"%fFE\n",
      "n0=Nc*math.exp(-a/(k*T))\n",
      "print \"n0 value is %.1e cm**-3\"%n0\n",
      "#answer in the textbook is wrong"
     ],
     "language": "python",
     "metadata": {},
     "outputs": [
      {
       "output_type": "stream",
       "stream": "stdout",
       "text": [
        "fF(E) value is= 6.31e-05\n",
        "n0 value is 4.4e+23 cm**-3\n"
       ]
      }
     ],
     "prompt_number": 1
    },
    {
     "cell_type": "heading",
     "level": 2,
     "metadata": {},
     "source": [
      "Example 4.2, Page 109"
     ]
    },
    {
     "cell_type": "code",
     "collapsed": false,
     "input": [
      "import math\n",
      "\n",
      "#Variable declaration\n",
      "T1=400. #K\n",
      "T2=300 #K\n",
      "N=1.04*10**19 #cm^-3\n",
      "k=8.617*10**-5 #eV/K\n",
      "\n",
      "#Calculations&Results\n",
      "Nv=N*(T1/T2)**(3./2)\n",
      "print 'Nv=%.2e cm^-3'%Nv\n",
      "\n",
      "a=k*T2*(T1/T2)\n",
      "print 'kT=%.5f eV'%a\n",
      "\n",
      "#p0=Nv*exp(-(Ef-Ev)/kT)\n",
      "p0=Nv*math.exp(-0.27/a)\n",
      "print 'p0=%.2e cm^-3'%p0"
     ],
     "language": "python",
     "metadata": {},
     "outputs": [
      {
       "output_type": "stream",
       "stream": "stdout",
       "text": [
        "Nv=1.60e+19 cm^-3\n",
        "kT=0.03447 eV\n",
        "p0=6.35e+15 cm^-3\n"
       ]
      }
     ],
     "prompt_number": 2
    },
    {
     "cell_type": "heading",
     "level": 2,
     "metadata": {},
     "source": [
      "Example 4.3, Page 112"
     ]
    },
    {
     "cell_type": "code",
     "collapsed": false,
     "input": [
      "import math\n",
      "\n",
      "#Variable declaration\n",
      "T1=300 #K\n",
      "T2=450. #K\n",
      "Nc=4.7*10**17 #cm**-3\n",
      "N=7*10**18 #cm**-3\n",
      "k=8.617*10**-5 #eV/K\n",
      "\n",
      "#Calculations&Results\n",
      "a=k*T1*(T2/T1)\n",
      "print 'kT=%.5f eV'%a\n",
      "\n",
      "ni=math.sqrt(Nc*N*math.exp(-1.42/(k*T1)))\n",
      "print 'ni=%.2e cm**-3'%ni\n",
      "\n",
      "ni=math.sqrt(Nc*N*(T2/T1)**3*math.exp(-1.42/a))\n",
      "print 'ni=%.2e cm**-3'%ni"
     ],
     "language": "python",
     "metadata": {},
     "outputs": [
      {
       "output_type": "stream",
       "stream": "stdout",
       "text": [
        "kT=0.03878 eV\n",
        "ni=2.14e+06 cm**-3\n",
        "ni=3.72e+10 cm**-3\n"
       ]
      }
     ],
     "prompt_number": 3
    },
    {
     "cell_type": "heading",
     "level": 2,
     "metadata": {},
     "source": [
      "Example 4.4, Page 114"
     ]
    },
    {
     "cell_type": "code",
     "collapsed": false,
     "input": [
      "import math\n",
      "\n",
      "#Variable declaration\n",
      "T=300 #K\n",
      "mn=1.08 #m0\n",
      "mp=0.56 #m0\n",
      "k=8.617*10**-5 #eV/K\n",
      "\n",
      "#Calculations\n",
      "#Efi-Emidgap=(3./4)k*T*log(mp/mn)\n",
      "#a=Efi-Emidgap\n",
      "a=(0.75)*k*T*math.log(mp/mn)\n",
      "\n",
      "#Result\n",
      "print 'Efi-Emidgap=%.4f eV'%a   "
     ],
     "language": "python",
     "metadata": {},
     "outputs": [
      {
       "output_type": "stream",
       "stream": "stdout",
       "text": [
        "Efi-Emidgap=-0.0127 eV\n"
       ]
      }
     ],
     "prompt_number": 4
    },
    {
     "cell_type": "heading",
     "level": 2,
     "metadata": {},
     "source": [
      "Example 4.5, Page 123"
     ]
    },
    {
     "cell_type": "code",
     "collapsed": false,
     "input": [
      "import math\n",
      "\n",
      "#Variable declaration\n",
      "T=300 #K\n",
      "Nn=2.8*10**19 #cm**-3\n",
      "Np=1.04*10**19 #cm**-3\n",
      "#a=Ef-Ev\n",
      "an=0.25 #eV\n",
      "ap=0.87 #eV\n",
      "k=8.617*10**-5 #eV/K\n",
      "\n",
      "#Calculations&Results\n",
      "n0=Nn*math.exp(-an/(k*T))\n",
      "print \"n0 in cm**-3 is= %.1e\"%n0\n",
      "\n",
      "p0=Np*math.exp(-ap/(k*T))\n",
      "print \"p0 in cm**-3 is=%.1e\"%p0"
     ],
     "language": "python",
     "metadata": {},
     "outputs": [
      {
       "output_type": "stream",
       "stream": "stdout",
       "text": [
        "n0 in cm**-3 is= 1.8e+15\n",
        "p0 in cm**-3 is=2.5e+04\n"
       ]
      }
     ],
     "prompt_number": 5
    },
    {
     "cell_type": "heading",
     "level": 2,
     "metadata": {},
     "source": [
      "Example 4.6, Page 126"
     ]
    },
    {
     "cell_type": "code",
     "collapsed": false,
     "input": [
      "import math\n",
      "\n",
      "#Variable declaration\n",
      "nf=2\n",
      "T=300 #K\n",
      "Nc=2.8*10**19 #cm^-3\n",
      "\n",
      "#Calculations\n",
      "#n0=(2/sqrt(%pi))*Nc*F12(nf)\n",
      "#x=F12(nf)=2.3\n",
      "x=2.3\n",
      "n0=(2./math.sqrt(math.pi))*Nc*x\n",
      "\n",
      "#Result\n",
      "print \"n0 in cm^-3 is= %.2e\"%n0"
     ],
     "language": "python",
     "metadata": {},
     "outputs": [
      {
       "output_type": "stream",
       "stream": "stdout",
       "text": [
        "n0 in cm^-3 is= 7.27e+19\n"
       ]
      }
     ],
     "prompt_number": 6
    },
    {
     "cell_type": "heading",
     "level": 2,
     "metadata": {},
     "source": [
      "Example 4.7, Page 130"
     ]
    },
    {
     "cell_type": "code",
     "collapsed": false,
     "input": [
      "import math\n",
      "\n",
      "#Variable declaration\n",
      "Nd=10**16 #cm^-3\n",
      "Ne=2.8*10**19 #cm^-3\n",
      "T=300 #K\n",
      "\n",
      "#Calculations\n",
      "#(nd/(n0+nd))=z=1/(1+(Ne/2*Nd)*exp(-(Ec-Ed)/kT))\n",
      "#y=Ec-Ed\n",
      "y=0.045\n",
      "k=8.617*10**-5 #eV/K\n",
      "z=1./(1+(Ne/(2*Nd))*math.exp(-y/(k*T)))\n",
      "\n",
      "#Result\n",
      "print \"the donor states is= %.2f%%\"%(z*100)"
     ],
     "language": "python",
     "metadata": {},
     "outputs": [
      {
       "output_type": "stream",
       "stream": "stdout",
       "text": [
        "the donor states is= 0.41%\n"
       ]
      }
     ],
     "prompt_number": 7
    },
    {
     "cell_type": "heading",
     "level": 2,
     "metadata": {},
     "source": [
      "Example 4.9, Page 134"
     ]
    },
    {
     "cell_type": "code",
     "collapsed": false,
     "input": [
      "import math\n",
      "\n",
      "#Variable declaration\n",
      "Nd=10**16 #cm**-3\n",
      "Na=0\n",
      "ni=1.5*10**10 #cm**-3\n",
      "T=300 #K\n",
      "k=8.617*10**-5 #eV/K\n",
      "\n",
      "#Calculations&Results\n",
      "n0=((Nd-Na)/2)+math.sqrt((((Nd-Na)/2)**2)+ni**2)\n",
      "print \"n0 is %.e cm**-3 \"%n0\n",
      "\n",
      "p0=(ni**2)/n0\n",
      "print \"p0 is %.2e cm**-3\"%p0\n"
     ],
     "language": "python",
     "metadata": {},
     "outputs": [
      {
       "output_type": "stream",
       "stream": "stdout",
       "text": [
        "n0 is 1e+16 cm**-3 \n",
        "p0 is 2.25e+04 cm**-3\n"
       ]
      }
     ],
     "prompt_number": 8
    },
    {
     "cell_type": "heading",
     "level": 2,
     "metadata": {},
     "source": [
      "Example 4.10, Page 136"
     ]
    },
    {
     "cell_type": "code",
     "collapsed": false,
     "input": [
      "import math\n",
      "\n",
      "#Variable declaration\n",
      "Nd=5*10**13 #cm**-3\n",
      "Na=0\n",
      "ni=2.4*10**13 #cm**-3\n",
      "T=300 #K\n",
      "k=8.617*10**-5 #eV/K\n",
      "\n",
      "#Calculations&Results\n",
      "n0=((Nd-Na)/2)+math.sqrt((((Nd-Na)/2)**2)+ni**2)\n",
      "print \"n0 is %.2e cm**-3\"%n0\n",
      "\n",
      "p0=(ni**2)/n0\n",
      "print \"p0 is %.2e cm**-3\"%p0\n"
     ],
     "language": "python",
     "metadata": {},
     "outputs": [
      {
       "output_type": "stream",
       "stream": "stdout",
       "text": [
        "n0 is 5.97e+13 cm**-3\n",
        "p0 is 9.66e+12 cm**-3\n"
       ]
      }
     ],
     "prompt_number": 9
    },
    {
     "cell_type": "heading",
     "level": 2,
     "metadata": {},
     "source": [
      "Example 4.11, Page 137"
     ]
    },
    {
     "cell_type": "code",
     "collapsed": false,
     "input": [
      "import math\n",
      "\n",
      "#Variable declaration\n",
      "T=300 #K\n",
      "Nd=3.*10**15 #cm**-3\n",
      "Na=10.**16 #cm**-3\n",
      "k=8.617*10**-5 #eV/K\n",
      "ni=1.5*10**10 #cm^-3\n",
      "\n",
      "#Calculations&Results\n",
      "a=((Na-Nd)/2)\n",
      "b=math.sqrt(((Na-Nd)/2)**2+(ni**2))\n",
      "\n",
      "p0=a+b\n",
      "print \"p0 is %.e cm^-3\"%p0         #textbook ans is wrong\n",
      "\n",
      "n0=(ni**2)/p0\n",
      "print \"n0 is %.2e cm^-3 \"%n0        #textbook ans is wrpng\n"
     ],
     "language": "python",
     "metadata": {},
     "outputs": [
      {
       "output_type": "stream",
       "stream": "stdout",
       "text": [
        "p0 is 7e+15 cm^-3\n",
        "n0 is 3.21e+04 cm^-3 \n"
       ]
      }
     ],
     "prompt_number": 10
    },
    {
     "cell_type": "heading",
     "level": 2,
     "metadata": {},
     "source": [
      "Example 4.12, Page 138"
     ]
    },
    {
     "cell_type": "code",
     "collapsed": false,
     "input": [
      "import math\n",
      "\n",
      "#Variable declaration\n",
      "T1=550. #K\n",
      "T2=300 #K\n",
      "Nc=2.8*10**19 #cm**-3\n",
      "Ne=1.04*10**19 #cm**-3\n",
      "k=8.617*10**-5 #eV/K\n",
      "Eg=1.12\n",
      "\n",
      "#Calculations&Results\n",
      "#ni^2=Nc*Ne*exp(-Eg/(k*T))\n",
      "ni=math.sqrt(Nc*Ne*(T1/T2)**3*math.exp((-Eg/(k*T2))*(T2/T1)))\n",
      "print \"ni is %.2e cm^-3 \"%ni\n",
      "\n",
      "#n0=1.05*Nd\n",
      "#n0=(Nd/2)+sqrt((Nd/2)**2+ni**2)      equation 1\n",
      "\n",
      "a=(((1.05*2)-1)/2)**2            #simplifying and sloving the about equaton 1\n",
      "b=ni**2\n",
      "c=((4*a)-1)/4\n",
      "Nd=math.sqrt(b/c)\n",
      "print \"Nd value is %.2e cm^-3\"%Nd\n",
      "\n"
     ],
     "language": "python",
     "metadata": {},
     "outputs": [
      {
       "output_type": "stream",
       "stream": "stdout",
       "text": [
        "ni is 3.13e+14 cm^-3 \n",
        "Nd value is 1.37e+15 cm^-3\n"
       ]
      }
     ],
     "prompt_number": 11
    },
    {
     "cell_type": "heading",
     "level": 2,
     "metadata": {},
     "source": [
      "Example 4.13, Page 140"
     ]
    },
    {
     "cell_type": "code",
     "collapsed": false,
     "input": [
      "import math\n",
      "\n",
      "#Variable declaration\n",
      "T=300 #K\n",
      "Na=10**16 #cm^-3\n",
      "Nc=2.8*10**19 #cm**-3\n",
      "k=8.617*10**-5 #eV/K\n",
      "\n",
      "#Calculations\n",
      "#a=Ec-Ef\n",
      "a=0.20 #eV\n",
      "#Ec-Ef=k*T*log(Ne/(Nd-Na))\n",
      "#Nd-Na=Nc*exp(-(Ec-Ef)/k*T)\n",
      "Nd=Na+Nc*math.exp(-a/(k*T))\n",
      "\n",
      "#Result\n",
      "print \"Nd is %.2e cm^-3\"%Nd"
     ],
     "language": "python",
     "metadata": {},
     "outputs": [
      {
       "output_type": "stream",
       "stream": "stdout",
       "text": [
        "Nd is 2.22e+16 cm^-3\n"
       ]
      }
     ],
     "prompt_number": 12
    },
    {
     "cell_type": "heading",
     "level": 2,
     "metadata": {},
     "source": [
      "Example 4.14, Page 143"
     ]
    },
    {
     "cell_type": "code",
     "collapsed": false,
     "input": [
      "import math\n",
      "\n",
      "#Variable declaration\n",
      "T=300 #K\n",
      "k=8.617*10**-5 #eV/K\n",
      "ni=1.5*10**10 #cm^-3\n",
      "#Ef-Ea=a\n",
      "a=3*k*T\n",
      "#Ea-Ev=b\n",
      "b=0.045 #eV\n",
      "Eg=1.12 #eV\n",
      "\n",
      "#Calculations\n",
      "#Efi-Ef=(Eg/2)-(Ea-Ev)-(Ef-Ea)=kT*log(Na/ni)\n",
      "c=(Eg/2)-(b)-(a)\n",
      "Na=ni*math.exp(c/(k*T))\n",
      "\n",
      "#Result\n",
      "print \"Na is %.1e cm^-3\"%Na\n"
     ],
     "language": "python",
     "metadata": {},
     "outputs": [
      {
       "output_type": "stream",
       "stream": "stdout",
       "text": [
        "Na is 3.4e+17 cm^-3\n"
       ]
      }
     ],
     "prompt_number": 13
    }
   ],
   "metadata": {}
  }
 ]
}