{
 "metadata": {
  "name": "",
  "signature": "sha256:04f101c405ce9ab13d88a308cdd1b29cf5130cf855b380b042da216c45159099"
 },
 "nbformat": 3,
 "nbformat_minor": 0,
 "worksheets": [
  {
   "cells": [
    {
     "cell_type": "heading",
     "level": 1,
     "metadata": {},
     "source": [
      "Chapter 10: The Bipolar Transistor"
     ]
    },
    {
     "cell_type": "heading",
     "level": 2,
     "metadata": {},
     "source": [
      "Example 10.1, Page 393"
     ]
    },
    {
     "cell_type": "code",
     "collapsed": false,
     "input": [
      "#Variable declaration\n",
      "T=300 #K\n",
      "k=8.617*10**-5#eV/K\n",
      "e=1.6*10**-19 #C\n",
      "y=0.9967\n",
      "\n",
      "#Calculations\n",
      "#NB/NC=z\n",
      "z=(1./y)-1\n",
      "\n",
      "#Result\n",
      "print \"NB/NE value = %f\"%z"
     ],
     "language": "python",
     "metadata": {},
     "outputs": [
      {
       "output_type": "stream",
       "stream": "stdout",
       "text": [
        "NB/NE value = 0.003311\n"
       ]
      }
     ],
     "prompt_number": 1
    },
    {
     "cell_type": "heading",
     "level": 2,
     "metadata": {},
     "source": [
      "Example 10.2, Page 394"
     ]
    },
    {
     "cell_type": "code",
     "collapsed": false,
     "input": [
      "import math\n",
      "\n",
      "#Variable declaration\n",
      "T=300 #K\n",
      "k=8.617*10**-5#eV/K\n",
      "e=1.6*10**-19 #C\n",
      "DB=10#cm^2/s\n",
      "tauB0=10**-7#sec\n",
      "alphatau=0.9967\n",
      "\n",
      "#Calculations&Results\n",
      "#(xB/LB)=z\n",
      "z=math.acosh(1./alphatau)\n",
      "print \"xB/LB = %.4f\"%z\n",
      "\n",
      "LB=math.sqrt(DB*tauB0)\n",
      "print \"LB is %.e cm \"%LB\n",
      "xB=z*10**-5\n",
      "print \"xB is %.3f meter\"%(xB/10**-6)"
     ],
     "language": "python",
     "metadata": {},
     "outputs": [
      {
       "output_type": "stream",
       "stream": "stdout",
       "text": [
        "xB/LB = 0.0814\n",
        "LB is 1e-03 cm \n",
        "xB is 0.814 meter\n"
       ]
      }
     ],
     "prompt_number": 2
    },
    {
     "cell_type": "heading",
     "level": 2,
     "metadata": {},
     "source": [
      "Example 10.3, Page 395"
     ]
    },
    {
     "cell_type": "code",
     "collapsed": false,
     "input": [
      "import math\n",
      "\n",
      "#Variable declaration\n",
      "T=300 #K\n",
      "k=8.617*10**-5#eV/K\n",
      "e=1.6*10**-19 #C\n",
      "Js0=10**-11#A/cm^2\n",
      "Jr0=10**-8#A/cm^2\n",
      "delta=0.9967\n",
      "\n",
      "#Calculations\n",
      "VBE=2*k*T*math.log(delta*10**3/(1-delta))\n",
      "\n",
      "#Result\n",
      "print \"VBE is %.3f V \"%VBE\n"
     ],
     "language": "python",
     "metadata": {},
     "outputs": [
      {
       "output_type": "stream",
       "stream": "stdout",
       "text": [
        "VBE is 0.652 V \n"
       ]
      }
     ],
     "prompt_number": 3
    },
    {
     "cell_type": "heading",
     "level": 2,
     "metadata": {},
     "source": [
      "Example 10.4, Page 395"
     ]
    },
    {
     "cell_type": "code",
     "collapsed": false,
     "input": [
      "import math\n",
      "\n",
      "#Variable declaration\n",
      "T=300 #K\n",
      "k=8.617*10**-5#eV/K\n",
      "e=1.6*10**-19 #C\n",
      "DE=10#cm**2/s\n",
      "DB=25#cm**2/s\n",
      "xB=0.70*10**-6#m\n",
      "xE=0.50*10**-6#m\n",
      "NE=1*10**18#cm^-3\n",
      "NB=1*10**16#cm^-3\n",
      "VBE=0.65#V\n",
      "tauB0=5*10**-7#s\n",
      "tauE0=1*10**-7#s\n",
      "Jr0=5*10**-8#A/cm62\n",
      "pE0=2.25*10**2#cm**-3\n",
      "nB0=2.25*10**4#cm**-3\n",
      "LE=10**-3#cm\n",
      "LB=3.54*10**-3#cm\n",
      "\n",
      "#Calculations&Results\n",
      "gamma1=1./(1+(pE0*DE*LB*math.tanh(0.0198))/(nB0*DB*LE*math.tanh(0.050)))\n",
      "print \"gamma1 is= %.f\"%gamma1\n",
      "alphatau=1./math.cosh(xB/LB)\n",
      "print \"alphatau is=%.4f \"%alphatau\n",
      "Js0=(e*DB*nB0)/(LB*math.tanh(xB/LB))\n",
      "print \"Js0 is %.2e A/cm^2\"%Js0\n",
      "delta=1/(1+(Jr0/Js0)*math.exp(-VBE/(2*0.0259)))\n",
      "print \"delta = %f\"%delta\n",
      "a=gamma1*alphatau*delta\n",
      "print \"a is= %.5f\"%a\n",
      "beta1=a/(1-a)\n",
      "print \"beta1 = %.f\"%beta1    #ans varies cause of long no.of digits"
     ],
     "language": "python",
     "metadata": {},
     "outputs": [
      {
       "output_type": "stream",
       "stream": "stdout",
       "text": [
        "gamma1 is= 1\n",
        "alphatau is=1.0000 \n",
        "Js0 is 1.29e-07 A/cm^2\n",
        "delta = 0.999999\n",
        "a is= 0.99442\n",
        "beta1 = 178\n"
       ]
      }
     ],
     "prompt_number": 4
    },
    {
     "cell_type": "heading",
     "level": 2,
     "metadata": {},
     "source": [
      "Example 10.5, Page 398"
     ]
    },
    {
     "cell_type": "code",
     "collapsed": false,
     "input": [
      "import math\n",
      "\n",
      "#Variable declaration\n",
      "T=300. #K\n",
      "k=8.617*10**-5#eV/K\n",
      "e=1.6*10**-19 #C\n",
      "NB=5.*10**16#cm^-3\n",
      "NC=2.*10**15#cm^-3\n",
      "epsilons=11.7\n",
      "eps=8.85*10**-14 #V\n",
      "ni=1.5*10**10 #cm^-3\n",
      "x=0.70*10**-6\n",
      "a=9.96*10**-12#/solving the equation\n",
      "\n",
      "#Calculations&Results\n",
      "Vbi=((k*T))*math.log((NB*NC)/ni**2)\n",
      "print \"Vbi is %.3f V \"%Vbi\n",
      "\n",
      "#for \n",
      "VCB=2 #V\n",
      "xdB1=math.sqrt(a*(Vbi+VCB))\n",
      "print \"xdB is %.3f micro-meter\"%(xdB1/10**-6)\n",
      "xB1=x-xdB1\n",
      "print \"xB is %.3f meter\"%(xB1/10**-6)    #textbook ans are wrong\n",
      "\n",
      "#for \n",
      "VCB=10 #V\n",
      "xdB2=math.sqrt(a*(Vbi+VCB))\n",
      "print \"xdB is %.3f meter\"%(xdB2/10**-6)\n",
      "xB2=x-xdB2\n",
      "print \"xB is %.3f meter\"%(xB2/10**-6)    #textbook ans are wrong\n"
     ],
     "language": "python",
     "metadata": {},
     "outputs": [
      {
       "output_type": "stream",
       "stream": "stdout",
       "text": [
        "Vbi is 0.693 V \n",
        "xdB is 5.179 micro-meter\n",
        "xB is -4.479 meter\n",
        "xdB is 10.320 meter\n",
        "xB is -9.620 meter\n"
       ]
      }
     ],
     "prompt_number": 5
    },
    {
     "cell_type": "heading",
     "level": 2,
     "metadata": {},
     "source": [
      "Example 10.6, Page 399"
     ]
    },
    {
     "cell_type": "code",
     "collapsed": false,
     "input": [
      "import math\n",
      "\n",
      "#Variable declaration\n",
      "Db = 25   #cm^2/s\n",
      "VBE = 0.60 #V\n",
      "ni = 1.5*10**10\n",
      "Nb = 5*10**16\n",
      "e = 1.6*10**-19 \n",
      "kT = 0.0259\n",
      "#Assumptions\n",
      "xb = 0.648  #um\n",
      "Vcb = 2     #V\n",
      "Vce1 = 2.6  #V\n",
      "\n",
      "#Calculations\n",
      "nbo = ni**2/Nb   #cm^3\n",
      "Jc = ((e*nbo*Db)*math.exp(VBE/kT))/0.648*10**-4\n",
      "Jc1 = round((Jc/10**-8),2)\n",
      "#Let,\n",
      "xb = 0.597  #um\n",
      "Vcb = 10    #V\n",
      "Vce2 = 10.6  #V\n",
      "Jc2 = 3.47   #A/cm^2\n",
      "Va =(Jc1*(Vce2-Vce1)/(Jc2-Jc1))-Vce1\n",
      "\n",
      "#Result\n",
      "print \"The Early voltage is %.f V\"%Va"
     ],
     "language": "python",
     "metadata": {},
     "outputs": [
      {
       "output_type": "stream",
       "stream": "stdout",
       "text": [
        "The Early voltage is 92 V\n"
       ]
      }
     ],
     "prompt_number": 22
    },
    {
     "cell_type": "heading",
     "level": 2,
     "metadata": {},
     "source": [
      "Example 10.7, Page 404"
     ]
    },
    {
     "cell_type": "code",
     "collapsed": false,
     "input": [
      "import math\n",
      "\n",
      "#Variable declaration\n",
      "T=300# K\n",
      "k=1.3806*10**-23# JK^-1\n",
      "e=1.6*10**-19# eV\n",
      "ni=1.5*10**10# cm^-3\n",
      "NE=10**18# cm^-3\n",
      "\n",
      "#Calculations&Results\n",
      "pE01=(ni*ni)/NE# neglecting bandgap\n",
      "print \"pE01 the value of pE01 is %.2e cm^-3\"%pE01\n",
      "NE=10**19# cm^-3\n",
      "pE03=(ni*ni)/NE# neglecting bandgap\n",
      "print \"pE03 the value of pE03 is %.2e cm^-3\"%pE03\n",
      "pE02=((ni*ni)/NE)*math.exp(0.030/(k*(T/e)))# including bandgap\n",
      "print \"pE02 the value of pE02 is %.2e cm^-3 \"%pE02\n",
      "pE04=((ni*ni)/NE)*math.exp(0.1/(k*(T/e)))# including bandgap\n",
      "print \"pE04 the value of pE04 is %.2e cm^-3\"%pE04"
     ],
     "language": "python",
     "metadata": {},
     "outputs": [
      {
       "output_type": "stream",
       "stream": "stdout",
       "text": [
        "pE01 the value of pE01 is 2.25e+02 cm^-3\n",
        "pE03 the value of pE03 is 2.25e+01 cm^-3\n",
        "pE02 the value of pE02 is 7.17e+01 cm^-3 \n",
        "pE04 the value of pE04 is 1.07e+03 cm^-3\n"
       ]
      }
     ],
     "prompt_number": 6
    },
    {
     "cell_type": "heading",
     "level": 2,
     "metadata": {},
     "source": [
      "Example 10.8, Page 409"
     ]
    },
    {
     "cell_type": "code",
     "collapsed": false,
     "input": [
      "import math\n",
      "\n",
      "#Variable declaration\n",
      "T=300# K\n",
      "k=1.3806*10**-23# JK^-1\n",
      "e=1.6*10**-19# eV\n",
      "epsilon=8.85*10**-14 #V\n",
      "eps=11.7\n",
      "NB=10**16#cm^-3\n",
      "Vpt=25#V\n",
      "WB=0.5*10**-4\n",
      "\n",
      "#Calculations&Results\n",
      "#Vpt=(e*WB**2*NB*(NC+NB))/(2*epsilon*eps*NC)\n",
      "a=(Vpt*2*epsilon*eps)/(e*WB**2*NB)\n",
      "NC=NB/(a-1)\n",
      "print \"NC is %.2e cm^-3 \"%NC\n",
      "#Neglecting Vbi comapred to Vr,\n",
      "xb = ((2*eps*epsilon*Vpt*NB)/(e*NC*(NB+NC)))**0.5\n",
      "print \"xb is %.2f um\"%(xb/10**-4)"
     ],
     "language": "python",
     "metadata": {},
     "outputs": [
      {
       "output_type": "stream",
       "stream": "stdout",
       "text": [
        "NC is 8.37e+14 cm^-3 \n",
        "xb is 5.97 um\n"
       ]
      }
     ],
     "prompt_number": 33
    },
    {
     "cell_type": "heading",
     "level": 2,
     "metadata": {},
     "source": [
      "Example 10.9, Page 412"
     ]
    },
    {
     "cell_type": "code",
     "collapsed": false,
     "input": [
      "#Variable declaration\n",
      "T=300 #K\n",
      "k=8.617*10**-5#eV/K\n",
      "e=1.6*10**-19 #C\n",
      "NB=10**17#cm^-3\n",
      "beta=100\n",
      "BVCEO=15#V\n",
      "\n",
      "#Calculations\n",
      "BVCBO=(beta)**(1./3)*BVCEO\n",
      "\n",
      "#Result\n",
      "print \"BVcbo = %.1f V \"%BVCBO"
     ],
     "language": "python",
     "metadata": {},
     "outputs": [
      {
       "output_type": "stream",
       "stream": "stdout",
       "text": [
        "BVcbo = 69.6 V \n"
       ]
      }
     ],
     "prompt_number": 8
    },
    {
     "cell_type": "heading",
     "level": 2,
     "metadata": {},
     "source": [
      "Example 10.10, Page 416"
     ]
    },
    {
     "cell_type": "code",
     "collapsed": false,
     "input": [
      "import math\n",
      "\n",
      "#Variable declaration\n",
      "T=300 #K\n",
      "k=8.617*10**-5#eV/K\n",
      "e=1.6*10**-19 #C\n",
      "alphaF=0.99\n",
      "alphaR=0.20\n",
      "Ic=1#mA\n",
      "IB=0.050#mA\n",
      "\n",
      "#Calculations\n",
      "Vcesat=k*T*math.log(((Ic*(1-alphaR)+IB)*alphaF)/((alphaF*IB-(1-alphaF)*Ic)*alphaR))\n",
      "\n",
      "#Result\n",
      "print \"VCEsat is %.3f V \"%Vcesat"
     ],
     "language": "python",
     "metadata": {},
     "outputs": [
      {
       "output_type": "stream",
       "stream": "stdout",
       "text": [
        "VCEsat is 0.121 V \n"
       ]
      }
     ],
     "prompt_number": 9
    },
    {
     "cell_type": "heading",
     "level": 2,
     "metadata": {},
     "source": [
      "Example 10.12, Page 425"
     ]
    },
    {
     "cell_type": "code",
     "collapsed": false,
     "input": [
      "import math\n",
      "\n",
      "#Variable declaration\n",
      "T=300 #K\n",
      "k=8.617*10**-5#eV/K\n",
      "e=1.6*10**-19 #C\n",
      "IE=1*10**-3#A\n",
      "Cje=1*10**-12#F\n",
      "xB=0.5*10**-4#cm\n",
      "Dn=25# cm2/s\n",
      "xdc=2.4*10**-4#cm\n",
      "vs=10**7\n",
      "rc=20#ohm\n",
      "Cu=0.1*10**-12#F\n",
      "Cs=0.1*10**-12#F\n",
      "beta=100\n",
      "\n",
      "#Calculations&Results\n",
      "re1=(k*T)/IE\n",
      "print \"re1 is %.1f ohm\"%re1\n",
      "taue=re1*Cje\n",
      "print \"taue is %.1f ps \"%(taue/10**-12)\n",
      "taub=xB**2/(2*Dn)\n",
      "print \"taub is %.f ps \"%(taub/10**-12)\n",
      "taub1=xdc/vs\n",
      "print \"taub is %.f ps\"%(taub1/10**-12)\n",
      "tauc=rc*(Cu+Cs)\n",
      "print \"tauc is %.f ps \"%(tauc/10**-12)\n",
      "tauec=taue+taub+taub1+tauc\n",
      "print \"tauec is %.1f ps \"%(tauec/10**-12)\n",
      "ftau=1/(2*math.pi*tauec)\n",
      "print \"ftau is %.2f GHz \"%(ftau/10**9)\n",
      "fbeta=ftau/beta\n",
      "print \"fbeta is %.1f MHz \"%(fbeta/10**6)\n"
     ],
     "language": "python",
     "metadata": {},
     "outputs": [
      {
       "output_type": "stream",
       "stream": "stdout",
       "text": [
        "re1 is 25.9 ohm\n",
        "taue is 25.9 ps \n",
        "taub is 50 ps \n",
        "taub is 24 ps\n",
        "tauc is 4 ps \n",
        "tauec is 103.9 ps \n",
        "ftau is 1.53 GHz \n",
        "fbeta is 15.3 MHz \n"
       ]
      }
     ],
     "prompt_number": 10
    }
   ],
   "metadata": {}
  }
 ]
}