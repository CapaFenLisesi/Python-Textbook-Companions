{
 "metadata": {
  "name": "",
  "signature": "sha256:5d52329b157a7ff3e252c90d3baac86ed2ff296d28ed2f0eeb2157803610ac93"
 },
 "nbformat": 3,
 "nbformat_minor": 0,
 "worksheets": [
  {
   "cells": [
    {
     "cell_type": "heading",
     "level": 1,
     "metadata": {},
     "source": [
      "Chapter 8: The pn Junction Diode"
     ]
    },
    {
     "cell_type": "heading",
     "level": 2,
     "metadata": {},
     "source": [
      "Example 8.1, Page 274"
     ]
    },
    {
     "cell_type": "code",
     "collapsed": false,
     "input": [
      "import math\n",
      "\n",
      "#Variable declaration\n",
      "T=300# K\n",
      "ni=1.5*10**10 #cm**-3\n",
      "k=8.617*10**-5 #eV/K\n",
      "Nd=10**16 #cm**-3\n",
      "Va=0.60 #V\n",
      "\n",
      "#Calculations&Results\n",
      "#pn=pn0*exp(e*Va/k*T)\n",
      "pn0=ni**2/Nd\n",
      "print \"thermal equlibrium minority carrier hole concentration is %.2e cm**-3 \"%pn0\n",
      "\n",
      "pn=pn0*math.exp(Va/(k*T))\n",
      "print \"minority carrier hole concentration is %.2e cm**-3 \"%pn\n",
      "#answe varies due exp() method of python"
     ],
     "language": "python",
     "metadata": {},
     "outputs": [
      {
       "output_type": "stream",
       "stream": "stdout",
       "text": [
        "thermal equlibrium minority carrier hole concentration is 2.25e+04 cm**-3 \n",
        "minority carrier hole concentration is 2.70e+14 cm**-3 \n"
       ]
      }
     ],
     "prompt_number": 1
    },
    {
     "cell_type": "heading",
     "level": 2,
     "metadata": {},
     "source": [
      "Example 8.2, Page 279"
     ]
    },
    {
     "cell_type": "code",
     "collapsed": false,
     "input": [
      "import math\n",
      "\n",
      "#Variable declaration\n",
      "T=300#K\n",
      "Na=10**16 #cm^-3\n",
      "Nd=10**16 #cm^-3\n",
      "ni=1.5*10**10 #cm^-3\n",
      "Dn=25 #cm^2/s\n",
      "Dp=10 #cm^2/s\n",
      "taup0=5*10**-7 #s\n",
      "taun0=5*10**-7 #s\n",
      "epsilon=11.7\n",
      "e=1.6*10**-19 #C\n",
      "\n",
      "#Calculations\n",
      "#J=(E*D*np0/Ln)+(E*D*pn0/Lp)\n",
      "Js=e*ni**2*((1./Na)*math.sqrt(Dn/taun0)+(1./Nd)*math.sqrt(Dp/taup0))\n",
      "\n",
      "#Result\n",
      "print \"reverse saturation current density is %.2e A/cm^2\"%Js"
     ],
     "language": "python",
     "metadata": {},
     "outputs": [
      {
       "output_type": "stream",
       "stream": "stdout",
       "text": [
        "reverse saturation current density is 4.16e-11 A/cm^2\n"
       ]
      }
     ],
     "prompt_number": 2
    },
    {
     "cell_type": "heading",
     "level": 2,
     "metadata": {},
     "source": [
      "Example 8.3, Page 280"
     ]
    },
    {
     "cell_type": "code",
     "collapsed": false,
     "input": [
      "import math\n",
      "\n",
      "#Variable declaration\n",
      "T=300 #K\n",
      "k=8.617*10**-5#eV/K\n",
      "e=1.6*10**-19 #C\n",
      "Jp=5 #A/cm^2\n",
      "Jn=20 #A/cm^2\n",
      "Va=0.65 #V\n",
      "ni=1.5*10**10 #cm^-3\n",
      "Dn=25. #cm^2/s\n",
      "Dp=10 #cm^2/s\n",
      "taup0=5*10**-7 #s\n",
      "taun0=5*10**-7 #s\n",
      "\n",
      "#Calculations&Results\n",
      "#Jn=(e*Dn*np0/Ln)*[exp(e*Va/k*T)-1]==e*sqrt(Dn/taun0)*(ni^2/Na)*[exp(e*Va/k*T)-1]\n",
      "\n",
      "Na=e*math.sqrt(Dn/taun0)*(ni**2/Jn)*((math.exp(Va/(k*T)))-1)\n",
      "print \"Na elctron diffusion current density is %.2e cm^-3\"%Na\n",
      "\n",
      "#Jp=(e*Dp*pn0/Lp)*[exp(e*Va/k*T)-1]==e*sqrt(Dp/taup0)*(ni^2/Nd)\n",
      "\n",
      "Nd=e*math.sqrt(Dp/taup0)*(ni**2/Jp)*((math.exp(Va/(k*T)))-1)\n",
      "print \"Nd hole diffusion current density is %.2e cm^-3 \"%Nd"
     ],
     "language": "python",
     "metadata": {},
     "outputs": [
      {
       "output_type": "stream",
       "stream": "stdout",
       "text": [
        "Na elctron diffusion current density is 1.06e+15 cm^-3\n",
        "Nd hole diffusion current density is 2.68e+15 cm^-3 \n"
       ]
      }
     ],
     "prompt_number": 3
    },
    {
     "cell_type": "heading",
     "level": 2,
     "metadata": {},
     "source": [
      "Example 8.4, Page 283"
     ]
    },
    {
     "cell_type": "code",
     "collapsed": false,
     "input": [
      "import math\n",
      "\n",
      "#Variable declaration\n",
      "T=300 #K\n",
      "k=8.617*10**-5#eV/K\n",
      "e=1.6*10**-19 #C\n",
      "Va=0.65 #V\n",
      "Js=4.15*10**-11# A/cm^2\n",
      "Nd=10**16 #cm**-3\n",
      "un=1350 #cm^2/Vs\n",
      "Jn=3.29 #A/cm^2\n",
      "\n",
      "#Calculations&Results\n",
      "J=Js*(math.exp(Va/(k*T))-1)\n",
      "print \"current density is %.2f A/cm^2\"%J\n",
      "\n",
      "E=Jn/(e*Nd*un)\n",
      "print \"electric field is %.2f V/cm \"%E\n"
     ],
     "language": "python",
     "metadata": {},
     "outputs": [
      {
       "output_type": "stream",
       "stream": "stdout",
       "text": [
        "current density is 3.45 A/cm^2\n",
        "electric field is 1.52 V/cm \n"
       ]
      }
     ],
     "prompt_number": 4
    },
    {
     "cell_type": "heading",
     "level": 2,
     "metadata": {},
     "source": [
      "Example 8.5, Page 284"
     ]
    },
    {
     "cell_type": "code",
     "collapsed": false,
     "input": [
      "#Variable declaration\n",
      "T1=300. #K\n",
      "T2=310. #K\n",
      "k=8.617*10**-5#eV/K\n",
      "e=1.602*10**-19 #C\n",
      "Va1=0.60 #V\n",
      "E=1.12 #eV\n",
      "\n",
      "#Calculations\n",
      "#J=exp(-Eg/(k*T))*exp((e*Va)/(k*T))\n",
      "Va2 = (E*(T1-T2))/(e*(T1-T2))\n",
      "ch = Va2-Va1\n",
      "\n",
      "#Result\n",
      "print \"Change in forward bias voltage is %.3e\"%ch\n",
      "#Incorrect solution in textbook"
     ],
     "language": "python",
     "metadata": {},
     "outputs": [
      {
       "output_type": "stream",
       "stream": "stdout",
       "text": [
        "Change in forward bias voltage is 6.991e+18\n"
       ]
      }
     ],
     "prompt_number": 5
    },
    {
     "cell_type": "heading",
     "level": 2,
     "metadata": {},
     "source": [
      "Example 8.6, Page 294"
     ]
    },
    {
     "cell_type": "code",
     "collapsed": false,
     "input": [
      "#Variable declaration\n",
      "T=300 #K\n",
      "k=8.617*10**-5#eV/K\n",
      "e=1.6*10**-19 #C\n",
      "Vt=0.0259 #v\n",
      "lp0=10**-3 #A\n",
      "taup0=10**-7 #s\n",
      "Idq=1*10**-3#A\n",
      "\n",
      "#Calculations&Results\n",
      "Cd=(1*lp0*taup0)/(2*Vt)\n",
      "print \"diffusion capacitance is %.2e F \"%Cd\n",
      "\n",
      "vd=(Vt/Idq)\n",
      "print \"diffusion is %.1f ohm \"%vd"
     ],
     "language": "python",
     "metadata": {},
     "outputs": [
      {
       "output_type": "stream",
       "stream": "stdout",
       "text": [
        "diffusion capacitance is 1.93e-09 F \n",
        "diffusion is 25.9 ohm \n"
       ]
      }
     ],
     "prompt_number": 6
    },
    {
     "cell_type": "heading",
     "level": 2,
     "metadata": {},
     "source": [
      "Example 8.7, Page 299"
     ]
    },
    {
     "cell_type": "code",
     "collapsed": false,
     "input": [
      "import math\n",
      "\n",
      "#Variable declaration\n",
      "T=300 #K\n",
      "k=8.617*10**-5#eV/K\n",
      "e=1.6*10**-19 #C\n",
      "Na=10**16 #cm^-3\n",
      "Nd=10**16 #cm^-3\n",
      "ni=1.5*10**10 #cm^-3\n",
      "tau0=5*10**-7 #s\n",
      "eps=11.7\n",
      "#Vbr+Vr=z\n",
      "z=5 #V\n",
      "\n",
      "#Calculations&Results\n",
      "W=math.sqrt(((2*eps))*((Na+Nd)/Na*Nd)*z)\n",
      "print \"depletion width is %.2e cm  \"%W    #textbook ans is wrong\n",
      "\n",
      "Jgen=(e*ni*W)/(2*tau0)\n",
      "print \"generation current density is %.2e A/cm^2\"%Jgen   #textbook ans is wrong"
     ],
     "language": "python",
     "metadata": {},
     "outputs": [
      {
       "output_type": "stream",
       "stream": "stdout",
       "text": [
        "depletion width is 1.53e+09 cm  \n",
        "generation current density is 3.67e+06 A/cm^2\n"
       ]
      }
     ],
     "prompt_number": 7
    }
   ],
   "metadata": {}
  }
 ]
}