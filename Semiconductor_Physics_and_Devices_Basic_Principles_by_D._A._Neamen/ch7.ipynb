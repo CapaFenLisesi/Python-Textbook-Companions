{
 "metadata": {
  "name": "",
  "signature": "sha256:c8a05268f3f6abf2e1ec665cb9165dd0a8adad3f3c3415c9ecc1f701fdedf7b6"
 },
 "nbformat": 3,
 "nbformat_minor": 0,
 "worksheets": [
  {
   "cells": [
    {
     "cell_type": "heading",
     "level": 1,
     "metadata": {},
     "source": [
      "Chapter 7: The pn Junction"
     ]
    },
    {
     "cell_type": "heading",
     "level": 2,
     "metadata": {},
     "source": [
      "Example 7.1, Page 242"
     ]
    },
    {
     "cell_type": "code",
     "collapsed": false,
     "input": [
      "import math\n",
      "\n",
      "#Variable declaration\n",
      "T=300#K\n",
      "Na=1*10**18# Na=L*10**18 cm**-3\n",
      "Nd=1*10**15# cm**-3\n",
      "ni=1.5*10**10# cm**-3\n",
      "e=1.6*10**-19# eV\n",
      "k=1.3806*10**-23# JK**-1\n",
      "\n",
      "#Calculations&Results\n",
      "Vbi=(((k*T)/e)*math.log(Na*Nd/ni**2))\n",
      "print \"the value of Vbi is %.3f V\"%Vbi\n",
      "\n",
      "#changing the Na value\n",
      "Na=10**16# Na=l*10**16 cm**1\n",
      "Vbi=(((k*T)/e)*math.log(Na*Nd/ni**2))\n",
      "print \"the value of Vbi is %.3f V \"%Vbi"
     ],
     "language": "python",
     "metadata": {},
     "outputs": [
      {
       "output_type": "stream",
       "stream": "stdout",
       "text": [
        "the value of Vbi is 0.754 V\n",
        "the value of Vbi is 0.635 V \n"
       ]
      }
     ],
     "prompt_number": 1
    },
    {
     "cell_type": "heading",
     "level": 2,
     "metadata": {},
     "source": [
      "Example 7.2, Page 247"
     ]
    },
    {
     "cell_type": "code",
     "collapsed": false,
     "input": [
      "#Variable declaration\n",
      "T=300.#K\n",
      "Na=10**16# cm**-3\n",
      "Nd=10**15# cm**-3\n",
      "e=1.6*10**-19# eV\n",
      "epsilon0=8.85*10**-14# F/m\n",
      "epsilons=11.7\n",
      "Vbi=0.635# V\n",
      "\n",
      "#Calculations&Results\n",
      "W=(((2*(epsilons*epsilon0)*Vbi)/e)*(Na+Nd)/(Na*Nd))**0.5\n",
      "print \"W spacing charge width is %.2e c- meter\"%W\n",
      "xn=0.864*10**-4# xp=0.086 micro m \n",
      "Emax=-e*Nd*xn/(epsilons*epsilon0)\n",
      "print \"the value of Emax is %.2e V/cm\"%Emax  #Answer in textbook is incorrect"
     ],
     "language": "python",
     "metadata": {},
     "outputs": [
      {
       "output_type": "stream",
       "stream": "stdout",
       "text": [
        "W spacing charge width is 9.51e-05 c- meter\n",
        "the value of Emax is -1.34e+04 V/cm\n"
       ]
      }
     ],
     "prompt_number": 2
    },
    {
     "cell_type": "heading",
     "level": 2,
     "metadata": {},
     "source": [
      "Example 7.3, Page 249"
     ]
    },
    {
     "cell_type": "code",
     "collapsed": false,
     "input": [
      "#Variable declaration\n",
      "T=300#K\n",
      "Na=10**16#  cm**-3\n",
      "Nd=10**15# cm**-3\n",
      "e=1.6*10**-19# eV\n",
      "epsilon0=8.85*10**-14# F/m\n",
      "epsilons=11.7\n",
      "Vbi=0.635# V\n",
      "Vr=5# V\n",
      "\n",
      "#Calculations\n",
      "W=(((2*(epsilons*epsilon0)*(Vbi+Vr))/e)*(Na+Nd)/(Na*Nd))**0.5\n",
      "\n",
      "#Result\n",
      "print \"the value of W is %.2e m\"%W"
     ],
     "language": "python",
     "metadata": {},
     "outputs": [
      {
       "output_type": "stream",
       "stream": "stdout",
       "text": [
        "the value of W is 2.83e-04 m\n"
       ]
      }
     ],
     "prompt_number": 3
    },
    {
     "cell_type": "heading",
     "level": 2,
     "metadata": {},
     "source": [
      "Example 7.4, Page 250"
     ]
    },
    {
     "cell_type": "code",
     "collapsed": false,
     "input": [
      "import math\n",
      "\n",
      "#Variable declaration\n",
      "T=300#K\n",
      "k=8.617*10**-5#eV/K\n",
      "e=1.6*10**-19 #C\n",
      "Vr=25 #V\n",
      "Emax=3*10**5#V/cm\n",
      "Na=10**18#cm**-3\n",
      "esp=11.7\n",
      "esp0=8.85*10**-14 \n",
      "\n",
      "#Calculations\n",
      "#Emax=sqrt((2*e*Vr*(Na+Nd))/(esp*(Na+Nd))\n",
      "x=((Emax**2)*esp*esp0)/(2*e*Vr)            #solving the above equation we get\n",
      "Nd=(Na*x)/(Na-x)\n",
      "\n",
      "#Result\n",
      "print \"doping concentration is %.2e cm**-3\"%Nd"
     ],
     "language": "python",
     "metadata": {},
     "outputs": [
      {
       "output_type": "stream",
       "stream": "stdout",
       "text": [
        "doping concentration is 1.18e+16 cm**-3\n"
       ]
      }
     ],
     "prompt_number": 4
    },
    {
     "cell_type": "heading",
     "level": 2,
     "metadata": {},
     "source": [
      "Example 7.5, Page 252"
     ]
    },
    {
     "cell_type": "code",
     "collapsed": false,
     "input": [
      "#Variable declaration\n",
      "T=300#K\n",
      "Na=10**16#  cm**-3\n",
      "Nd=10**15# cm**-3\n",
      "e=1.6*10**-19# eV\n",
      "epsilon0=8.85*10**-14# F/m\n",
      "epsilons=11.7\n",
      "Vbi=0.635# V\n",
      "Vr=5# V\n",
      "\n",
      "#Calculations\n",
      "C=((e*(epsilons*epsilon0)*Na*Nd)/(2*(Vbi+Vr)*(Na+Nd)))**0.5\n",
      "A=10**-4# cm**2\n",
      "C=C*A\n",
      "\n",
      "#Result\n",
      "print \"the value of c with cross section area is %.3e F \"%C"
     ],
     "language": "python",
     "metadata": {},
     "outputs": [
      {
       "output_type": "stream",
       "stream": "stdout",
       "text": [
        "the value of c with cross section area is 3.656e-13 F \n"
       ]
      }
     ],
     "prompt_number": 5
    },
    {
     "cell_type": "heading",
     "level": 2,
     "metadata": {},
     "source": [
      "Example 7.6, Page 254"
     ]
    },
    {
     "cell_type": "code",
     "collapsed": false,
     "input": [
      "import math\n",
      "\n",
      "#Variable declaration\n",
      "T=300#K\n",
      "ni=1.5*10**10# cm**-3\n",
      "Nd=10**15# cm**-3\n",
      "Vbi=0.855# V\n",
      "e=1.6*10**-19# eV\n",
      "k=1.3806*10**-23# JK**-1\n",
      "S=1.32*10**15# Slope=1.32*10**-15 (F/cm**2)**-2*(V)-1\n",
      "epsilon0=8.85*10**-14# F/m\n",
      "epsilons=11.7\n",
      "\n",
      "#Calculations\n",
      "Nd=2/((e*(epsilons*epsilon0))*S)\n",
      "Na=((ni*ni)/Nd)*math.exp((e*Vbi)/(k*T))\n",
      "\n",
      "#Result\n",
      "print \"the value of Na is %.2e cm**-3\"%Na"
     ],
     "language": "python",
     "metadata": {},
     "outputs": [
      {
       "output_type": "stream",
       "stream": "stdout",
       "text": [
        "the value of Na is 5.44e+18 cm**-3\n"
       ]
      }
     ],
     "prompt_number": 6
    }
   ],
   "metadata": {}
  }
 ]
}