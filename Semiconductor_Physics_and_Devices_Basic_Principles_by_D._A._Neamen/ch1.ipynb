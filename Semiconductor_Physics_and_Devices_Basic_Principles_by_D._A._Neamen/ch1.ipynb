{
 "metadata": {
  "name": "",
  "signature": "sha256:e22d95f3ee08f7b0a433c3aa63972f991151630f2c62d91a472e6e249088f32f"
 },
 "nbformat": 3,
 "nbformat_minor": 0,
 "worksheets": [
  {
   "cells": [
    {
     "cell_type": "heading",
     "level": 1,
     "metadata": {},
     "source": [
      "Chapter 1: The Crystal Structure of Solids"
     ]
    },
    {
     "cell_type": "heading",
     "level": 2,
     "metadata": {},
     "source": [
      "Example 1.1, Page 6"
     ]
    },
    {
     "cell_type": "code",
     "collapsed": false,
     "input": [
      "#Variable declaration\n",
      "a=5*10**-8 #a=5A = 5*10^-8cm\n",
      "n=2\n",
      "\n",
      "#Calculations\n",
      "d=n/a**3\n",
      "\n",
      "#Result\n",
      "print \"the value of d in atoms per cm^3 is %.1e\"%d"
     ],
     "language": "python",
     "metadata": {},
     "outputs": [
      {
       "output_type": "stream",
       "stream": "stdout",
       "text": [
        "the value of d in atoms per cm^3 is 1.6e+22\n"
       ]
      }
     ],
     "prompt_number": 1
    },
    {
     "cell_type": "heading",
     "level": 2,
     "metadata": {},
     "source": [
      "Example 1.3, Page 8"
     ]
    },
    {
     "cell_type": "code",
     "collapsed": false,
     "input": [
      "#Variable declaration\n",
      "a1=5*10**-8# a=5A = 5*10^-8cm\n",
      "n=2# number of atoms is 2\n",
      "\n",
      "#Calculations\n",
      "d=n/(a1*a1*2**0.5)\n",
      "\n",
      "#Result\n",
      "print \"the value of d in atoms per cm^2 is %.2e\"%d"
     ],
     "language": "python",
     "metadata": {},
     "outputs": [
      {
       "output_type": "stream",
       "stream": "stdout",
       "text": [
        "the value of d in atoms per cm^2 is 5.66e+14\n"
       ]
      }
     ],
     "prompt_number": 2
    }
   ],
   "metadata": {}
  }
 ]
}