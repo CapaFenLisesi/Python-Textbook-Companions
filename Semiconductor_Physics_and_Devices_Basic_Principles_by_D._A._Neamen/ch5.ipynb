{
 "metadata": {
  "name": "",
  "signature": "sha256:ab68caee4f27092f8d823d2f27a0d86f2134e9bbd7c8628449b1009efc8a2f17"
 },
 "nbformat": 3,
 "nbformat_minor": 0,
 "worksheets": [
  {
   "cells": [
    {
     "cell_type": "heading",
     "level": 1,
     "metadata": {},
     "source": [
      "Chapter 5: Carrier Transport Phenomena"
     ]
    },
    {
     "cell_type": "heading",
     "level": 2,
     "metadata": {},
     "source": [
      "Chapter 5.1, Page 156"
     ]
    },
    {
     "cell_type": "code",
     "collapsed": false,
     "input": [
      "import math\n",
      "\n",
      "#Variable declaration\n",
      "Nd=10**16 #cm^-3\n",
      "Na=0\n",
      "ni=1.8*10**6 #cm^-3\n",
      "T=300 #K\n",
      "k=8.617*10**-5 #eV/K\n",
      "E=10 #V/cm^2\n",
      "e=1.6*10**-19\n",
      "un=8500\n",
      "\n",
      "#Calculations&Results\n",
      "n0=((Nd-Na)/2)+math.sqrt((((Nd-Na)/2)**2)+ni**2)\n",
      "print \"n0 is %.e cm^-3\"%n0\n",
      "\n",
      "p0=(ni**2)/n0\n",
      "print \"p0 is %.2e cm^-3\"%p0\n",
      "\n",
      "#Jdrf=e*(un*n0+up*p0)*E= e*un*Nd*E\n",
      "Jdrf=e*un*Nd*E\n",
      "print \"Jdrf is %.f A/cm^2 \"%Jdrf\n"
     ],
     "language": "python",
     "metadata": {},
     "outputs": [
      {
       "output_type": "stream",
       "stream": "stdout",
       "text": [
        "n0 is 1e+16 cm^-3\n",
        "p0 is 3.24e-04 cm^-3\n",
        "Jdrf is 136 A/cm^2 \n"
       ]
      }
     ],
     "prompt_number": 1
    },
    {
     "cell_type": "heading",
     "level": 2,
     "metadata": {},
     "source": [
      "Example 5.2, Page 165"
     ]
    },
    {
     "cell_type": "code",
     "collapsed": false,
     "input": [
      "#Variable declaration\n",
      "Na=10**17 #cm**-3\n",
      "T=300 #K\n",
      "k=8.617*10**-5 #eV/K\n",
      "E=10 #V/cm^2\n",
      "e=1.6*10**-19 #C\n",
      "\n",
      "#Calculations&Results\n",
      "#sigma=e*un*n0=e*un*(Nd-Na)\n",
      "#if\n",
      "Nd=2*10**17 #cm**-3\n",
      "sigma=8.16#ohm/cm\n",
      "un=sigma/(e*(Nd-Na))\n",
      "print \"un is %.f cm^2/Vs \"%un\n",
      "\n",
      "#if\n",
      "Nd=5*10**17 #cm^-3\n",
      "sigma=20.8#ohm/cm\n",
      "un=sigma/(e*(Nd-Na))\n",
      "print \"un is %.f cm^2/Vs\"%un\n",
      "\n",
      "#if\n",
      "Nd=3.5*10**17 #cm^-3\n",
      "sigma=16#ohm/cm\n",
      "un=sigma/(e*(Nd-Na))\n",
      "print \"un is %.f cm^2/Vs\"%un"
     ],
     "language": "python",
     "metadata": {},
     "outputs": [
      {
       "output_type": "stream",
       "stream": "stdout",
       "text": [
        "un is 510 cm^2/Vs \n",
        "un is 325 cm^2/Vs\n",
        "un is 400 cm^2/Vs\n"
       ]
      }
     ],
     "prompt_number": 2
    },
    {
     "cell_type": "heading",
     "level": 2,
     "metadata": {},
     "source": [
      "Example 5.3, Page 166"
     ]
    },
    {
     "cell_type": "code",
     "collapsed": false,
     "input": [
      "#Variable declaration\n",
      "V=5. #v\n",
      "R=10*10**3 #ohm\n",
      "J=50 #A/cm^2\n",
      "E=100\n",
      "Na=1.25*10**16 #cm^-3\n",
      "Nd=5*10**15 #cm^-3\n",
      "e=1.6*10**-19 #C\n",
      "up=410 #cm**2/Vs\n",
      "\n",
      "#Calculations&Results\n",
      "I=V/R\n",
      "print \"I current is %.1f Ampere\"%(I*10**3)\n",
      "\n",
      "A=I/J\n",
      "print \"A cross sectional area is %.e cm^2 \"%A\n",
      "\n",
      "L=V/E\n",
      "print \"L length of resistor is %.e cm \"%L\n",
      "\n",
      "sigma=L/(R*A)\n",
      "print \"sigma conductivity is %.3f per ohm cm\"%sigma #theoretical value\n",
      "\n",
      "#sigma=e*up*p0=e*up*(Na-Nd)\n",
      "sigma=e*up*(Na-Nd)\n",
      "print \"sigma conductivity is %.3f per ohm cm \"%sigma #practical value\n"
     ],
     "language": "python",
     "metadata": {},
     "outputs": [
      {
       "output_type": "stream",
       "stream": "stdout",
       "text": [
        "I current is 0.5 Ampere\n",
        "A cross sectional area is 1e-05 cm^2 \n",
        "L length of resistor is 5e-02 cm \n",
        "sigma conductivity is 0.500 per ohm cm\n",
        "sigma conductivity is 0.492 per ohm cm \n"
       ]
      }
     ],
     "prompt_number": 3
    },
    {
     "cell_type": "heading",
     "level": 2,
     "metadata": {},
     "source": [
      "Example 5.4, Page 172"
     ]
    },
    {
     "cell_type": "code",
     "collapsed": false,
     "input": [
      "#Variable declaration\n",
      "T=300 # ..K\n",
      "Dn=225 #cm^2/s\n",
      "e=1.6*10**-19# C\n",
      "deltax=0.10 #cm\n",
      "\n",
      "#Calculations\n",
      "deltan=(1*10**18-7*10**17)#cm^-3\n",
      "#Jnxdif=e*Dx*derivative (n,x)=e*Dn*(deltan/deltax)\n",
      "Jnxdif=e*Dn*(deltan/deltax)\n",
      "\n",
      "#Result\n",
      "print \"diffusion current density is %.f A/cm^2 \"%Jnxdif"
     ],
     "language": "python",
     "metadata": {},
     "outputs": [
      {
       "output_type": "stream",
       "stream": "stdout",
       "text": [
        "diffusion current density is 108 A/cm^2 \n"
       ]
      }
     ],
     "prompt_number": 4
    },
    {
     "cell_type": "heading",
     "level": 2,
     "metadata": {},
     "source": [
      "Example 5.5, Page 175"
     ]
    },
    {
     "cell_type": "code",
     "collapsed": false,
     "input": [
      "#Variable declaration\n",
      "T=300. #K\n",
      "k=8.617*10**-5 #eV/K\n",
      "#derivative(Ndx,x)=a\n",
      "a=-10**19 #cm**-4\n",
      "Ndx=(10**16-10**19) #cm^3\n",
      "l=1\n",
      "\n",
      "#Calculations\n",
      "#Ex=-(k*T/l)*(1./Ndx)*derivative(Ndx,x)\n",
      "Ex=-(k*T/l)*(1./Ndx)*a*10**3\n",
      "\n",
      "#Result\n",
      "print \"induced electric field is %.1f V/cm\"%Ex\n"
     ],
     "language": "python",
     "metadata": {},
     "outputs": [
      {
       "output_type": "stream",
       "stream": "stdout",
       "text": [
        "induced electric field is -25.9 V/cm\n"
       ]
      }
     ],
     "prompt_number": 5
    },
    {
     "cell_type": "heading",
     "level": 2,
     "metadata": {},
     "source": [
      "Example 5.6, Page 177"
     ]
    },
    {
     "cell_type": "code",
     "collapsed": false,
     "input": [
      "#Variable declaration\n",
      "T=300 #K\n",
      "u=1000 #cm^2/s\n",
      "k=8.617*10**-5 #eV/K\n",
      "e=1.6*10**-19 #C\n",
      "\n",
      "#Calculations\n",
      "#D=((k*T)/e)*u\n",
      "D=k*T*u\n",
      "\n",
      "#Result\n",
      "print \"diffusion coefficient is %.1f cm^2/s \"%D"
     ],
     "language": "python",
     "metadata": {},
     "outputs": [
      {
       "output_type": "stream",
       "stream": "stdout",
       "text": [
        "diffusion coefficient is 25.9 cm^2/s \n"
       ]
      }
     ],
     "prompt_number": 6
    },
    {
     "cell_type": "heading",
     "level": 2,
     "metadata": {},
     "source": [
      "Example 5.7, Page 179"
     ]
    },
    {
     "cell_type": "code",
     "collapsed": false,
     "input": [
      "#Variable declaration\n",
      "I=10**-3 #A\n",
      "Bz=5.*10**-2 #500gauss\n",
      "e=1.6*10**-19 #C\n",
      "Vh=-6.25*10**-3 #V\n",
      "Vx=12.5 #V\n",
      "W=10**-4#m\n",
      "d=10**-5 #m\n",
      "\n",
      "#Calculations&Results\n",
      "u=-(I*Bz)/(e*Vh*d)\n",
      "print \"electron concentration is %.2e m^-3 \"%u\n",
      "\n",
      "un=(I*I)/(e*Bz*Vx*W*d)\n",
      "print \"electron mobility is %.2e m^2/Vs\"%un   #textbook ans is wrong"
     ],
     "language": "python",
     "metadata": {},
     "outputs": [
      {
       "output_type": "stream",
       "stream": "stdout",
       "text": [
        "electron concentration is 5.00e+21 m^-3 \n",
        "electron mobility is 1.00e+22 m^2/Vs\n"
       ]
      }
     ],
     "prompt_number": 8
    }
   ],
   "metadata": {}
  }
 ]
}