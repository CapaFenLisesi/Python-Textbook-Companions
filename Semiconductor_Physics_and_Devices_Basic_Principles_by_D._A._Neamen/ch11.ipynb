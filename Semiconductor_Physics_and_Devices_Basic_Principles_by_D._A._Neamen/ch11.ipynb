{
 "metadata": {
  "name": "",
  "signature": "sha256:c1c810d2f38f7b9cb51ef7b22305db0117901d4407ff775e7ec2ddd09734e205"
 },
 "nbformat": 3,
 "nbformat_minor": 0,
 "worksheets": [
  {
   "cells": [
    {
     "cell_type": "heading",
     "level": 1,
     "metadata": {},
     "source": [
      "Chapter 11: Fundamentals of the Metal-Oxide-Semiconductor Field-Effect Transistor"
     ]
    },
    {
     "cell_type": "heading",
     "level": 2,
     "metadata": {},
     "source": [
      "Example 11.1, Page 456"
     ]
    },
    {
     "cell_type": "code",
     "collapsed": false,
     "input": [
      "import math\n",
      "\n",
      "#Variable declaration\n",
      "T=300#K\n",
      "Na=10**16# cm^-3\n",
      "ni=1.5*10**10 # cm^-3\n",
      "epsilon0=8.85*10**-14# F/m\n",
      "epsilons=11.7\n",
      "e=1.6*10**-19# eV\n",
      "Vt=0.0259 # V\n",
      "\n",
      "#Calculations&Results\n",
      "phifp=Vt*math.log(Na/ni)\n",
      "print \"the value of phisp is %.3f V\"%phifp\n",
      "xdT=(4*(epsilons*epsilon0)*phifp/(e*Na))**0.5\n",
      "print \"the value of xdT is %.e meter\"%xdT"
     ],
     "language": "python",
     "metadata": {},
     "outputs": [
      {
       "output_type": "stream",
       "stream": "stdout",
       "text": [
        "the value of phisp is 0.347 V\n",
        "the value of xdT is 3e-05 meter\n"
       ]
      }
     ],
     "prompt_number": 1
    },
    {
     "cell_type": "heading",
     "level": 2,
     "metadata": {},
     "source": [
      "Example 11.2, Page 459"
     ]
    },
    {
     "cell_type": "code",
     "collapsed": false,
     "input": [
      "import math\n",
      "\n",
      "#Variable declaration\n",
      "phim=3.20# v\n",
      "x=3.25# v\n",
      "Eg=1.11#eV\n",
      "Na=10**14# cm^-3\n",
      "k=1.3806*10**-23# JK^-1\n",
      "T=300# K\n",
      "ni=1.5*10**10# cm^-3\n",
      "e=1.6*10**-19# eV\n",
      "\n",
      "#Calculations&Results\n",
      "phifp=(((k*T)/e)*math.log(Na/ni))\n",
      "print \"the value of phifp is %.3f V\"%phifp\n",
      "phims=phim-(x+(Eg/2)+phifp)\n",
      "print \"work function difference is %.2f V \"%phims"
     ],
     "language": "python",
     "metadata": {},
     "outputs": [
      {
       "output_type": "stream",
       "stream": "stdout",
       "text": [
        "the value of phifp is 0.228 V\n",
        "work function difference is -0.83 V \n"
       ]
      }
     ],
     "prompt_number": 2
    },
    {
     "cell_type": "heading",
     "level": 2,
     "metadata": {},
     "source": [
      "Example 11.3, Page 464"
     ]
    },
    {
     "cell_type": "code",
     "collapsed": false,
     "input": [
      "#Variable declaration\n",
      "Nd=10**16# cm^-3\n",
      "tox=500*10**-8# a=500A =500*10^-8 cm\n",
      "Qss=10**11# electronic charge per cm\n",
      "phims=-1.1# V\n",
      "e=1.6*10**-19# eV\n",
      "epsilonox=3.9\n",
      "epsilon0=8.85*10**-14# F/m\n",
      "\n",
      "#Calculations&Results\n",
      "C=((epsilonox*epsilon0)/tox)\n",
      "print \"the value of C is %.1e F/cm^2\"%C\n",
      "Qss=10**11*e\n",
      "print \"the value of Qss is %.1e C/cm^2\"%Qss\n",
      "VFB=phims-(Qss/C)\n",
      "print \"the value of VFB is %.2f V \"%VFB"
     ],
     "language": "python",
     "metadata": {},
     "outputs": [
      {
       "output_type": "stream",
       "stream": "stdout",
       "text": [
        "the value of C is 6.9e-08 F/cm^2\n",
        "the value of Qss is 1.6e-08 C/cm^2\n",
        "the value of VFB is -1.33 V \n"
       ]
      }
     ],
     "prompt_number": 3
    },
    {
     "cell_type": "heading",
     "level": 2,
     "metadata": {},
     "source": [
      "Example 11.4, Page 467"
     ]
    },
    {
     "cell_type": "code",
     "collapsed": false,
     "input": [
      "import math\n",
      "\n",
      "#Variable declaration\n",
      "T=300# K\n",
      "k=1.3806*10**-23# JK^-1\n",
      "Na=3*10**16# cm^-3\n",
      "Qss=10**11# cm^-2\n",
      "VTN=0.65# V\n",
      "phims=-1.13# V\n",
      "epsilon0=8.85*10**-14# F/m\n",
      "epsilons=11.7\n",
      "epsilonox=3.9\n",
      "ni=1.5*10**10# cm^-3\n",
      "e=1.6*10**-19# eV\n",
      "\n",
      "#Calculations&Results\n",
      "phifp=(((k*T)/e)*math.log(Na/ni))\n",
      "print \"the value of phifp is %.3f V\"%phifp\n",
      "xdT=(4*(epsilons*epsilon0)*phifp/(e*Na))**0.5\n",
      "print \"the value of xdT is %.2f micro-meter\"%(xdT/10**-4)\n",
      "QSD=e*Na*xdT    #[QSD(max)]=e*Na*xdT\n",
      "print \"the value of QSD is %.2e C.cm^2\"%QSD\n",
      "tox=((VTN-phims-2*phifp)*(epsilonox*epsilon0))/(QSD-(Qss*e))\n",
      "print \"tox is %.f A\"%(tox/10**-7)"
     ],
     "language": "python",
     "metadata": {},
     "outputs": [
      {
       "output_type": "stream",
       "stream": "stdout",
       "text": [
        "the value of phifp is 0.376 V\n",
        "the value of xdT is 0.18 micro-meter\n",
        "the value of QSD is 8.64e-08 C.cm^2\n",
        "tox is 50 A\n"
       ]
      }
     ],
     "prompt_number": 4
    },
    {
     "cell_type": "heading",
     "level": 2,
     "metadata": {},
     "source": [
      "Example 11.5, Page 468"
     ]
    },
    {
     "cell_type": "code",
     "collapsed": false,
     "input": [
      "import math\n",
      "\n",
      "#Variable declaration\n",
      "T=300# K\n",
      "k=1.3806*10**-23# JK^-1\n",
      "Na=10**14# cm^-3\n",
      "Qss=10**10# cm^-2\n",
      "tox=500*10**-8# a=500A =500*10**-8 cm\n",
      "phims=-0.83# V\n",
      "epsilon0=8.85*10**-14# F/m\n",
      "epsilons=11.7\n",
      "epsilonox=3.9\n",
      "ni=1.5*10**10# cm^-3\n",
      "e=1.6*10**-19# eV\n",
      "\n",
      "#Calculations&Results\n",
      "phifp=(((k*T)/e)*math.log(Na/ni))\n",
      "print \"the value of phifp is %.3f V\"%phifp\n",
      "xdT=(4*(epsilons*epsilon0)*phifp/(e*Na))**0.5\n",
      "print \"the value of xdT is %.3f milli-m\"%(xdT/10**-3)\n",
      "QSD=e*Na*xdT# [QSD(max)]=e*Na*xdT\n",
      "print \"the value of QSD is %.2e C/cm^2\"%QSD\n",
      "VTN=(QSD-(Qss*e))*(tox/(epsilonox*epsilon0))+phims+2*phifp# VTN=(QSD(max)-Qss)*(tox/epsilonox)+phims+2*phifp\n",
      "print \"the value of VTN is %.3f V\"%VTN"
     ],
     "language": "python",
     "metadata": {},
     "outputs": [
      {
       "output_type": "stream",
       "stream": "stdout",
       "text": [
        "the value of phifp is 0.228 V\n",
        "the value of xdT is 0.243 milli-m\n",
        "the value of QSD is 3.89e-09 C/cm^2\n",
        "the value of VTN is -0.341 V\n"
       ]
      }
     ],
     "prompt_number": 5
    },
    {
     "cell_type": "heading",
     "level": 2,
     "metadata": {},
     "source": [
      "Example 11.6, Page 470"
     ]
    },
    {
     "cell_type": "code",
     "collapsed": false,
     "input": [
      "import math\n",
      "\n",
      "#Variable declaration\n",
      "T=300# K\n",
      "k=1.3806*10**-23# JK^-1\n",
      "Qss=10**10# cm^-2\n",
      "tox=650*10**-8# tox=650A =650*10**-8 cm\n",
      "epsilon0=8.85*10**-14# F/m\n",
      "epsilons=11.7\n",
      "epsilonox=3.9\n",
      "ni=1.5*10**10# cm^-3\n",
      "e=1.6*10**-19# eV\n",
      "Nd=2.5*10**14# cm^-3\n",
      "\n",
      "#Calculations&Results\n",
      "phifn=(((k*T)/e)*math.log(Nd/ni))#phifn=V1*log(Nd/ni)=((k*T)/e)*log(Nd/ni)\n",
      "print \"the value of phifn is %.3f V \"%phifn\n",
      "xdT=(4*(epsilons*epsilon0)*phifn/(e*Nd))**0.5\n",
      "print \"the value of xdT is %.2f milli-meter \"%(xdT/10**-3)\n",
      "QSD=e*Nd*xdT# [QSD(max)]=e*Na*xdT\n",
      "print \"the value of QSD is %.2e C/cm^2\"%QSD\n",
      "phims=-0.35# V\n",
      "VTP=(-QSD-(Qss*e))*(tox/(epsilonox*epsilon0))+phims-(2*phifn)# VTP=(-QSD(max)-Qss)*(tox/epsilonox)+phims+2*phifn\n",
      "print \"the value of VTP is %.3f V\"%VTP\n"
     ],
     "language": "python",
     "metadata": {},
     "outputs": [
      {
       "output_type": "stream",
       "stream": "stdout",
       "text": [
        "the value of phifn is 0.252 V \n",
        "the value of xdT is 0.16 milli-meter \n",
        "the value of QSD is 6.46e-09 C/cm^2\n",
        "the value of VTP is -1.005 V\n"
       ]
      }
     ],
     "prompt_number": 6
    },
    {
     "cell_type": "heading",
     "level": 2,
     "metadata": {},
     "source": [
      "Example 11.7, Page 477"
     ]
    },
    {
     "cell_type": "code",
     "collapsed": false,
     "input": [
      "import math\n",
      "\n",
      "#Variable declaration\n",
      "T=300 #K\n",
      "k=8.617*10**-5#eV/K\n",
      "e=1.6*10**-19 #C\n",
      "espox=3.9\n",
      "esp0=8.85*10**-14 \n",
      "esp=11.7\n",
      "tox=550*10**-8#550 Armstrong\n",
      "Na=10**16#cm^-3\n",
      "ni=1.5*10**10 #cm^-3\n",
      "\n",
      "#Calculations&Results\n",
      "Cox=(espox*esp0)/tox\n",
      "print \"oxide capacitance is %.2e F/cm^2 \"%Cox\n",
      "\n",
      "phi=(k*T)*math.log(Na/ni)\n",
      "print \"mini capacitance is %.3f V \"%phi\n",
      "\n",
      "xdt=math.sqrt((4*esp*esp0*phi)/(e*Na))\n",
      "print \"xdt is %.2e cm^-4 \"%xdt\n",
      "\n",
      "Cmin=(espox*esp0)/(tox+(espox/esp)*xdt)\n",
      "print \"Cmin is %.2e F/cm^2 \"%Cmin\n",
      "\n",
      "a=Cmin/Cox\n",
      "print \"ratio of Cmin to Cox is= %.3f\"%a\n",
      "\n",
      "Cfb=(espox*esp0)/(tox+(espox/esp)*math.sqrt((k*T*esp*esp0)/(e*Na)))\n",
      "print \"Cfb in F/cm^2 is= %.2e\"%Cfb\n",
      "\n",
      "b=Cfb/Cox\n",
      "print \"ratio of Cfb to Cox is = %.2f \"%b\n"
     ],
     "language": "python",
     "metadata": {},
     "outputs": [
      {
       "output_type": "stream",
       "stream": "stdout",
       "text": [
        "oxide capacitance is 6.28e-08 F/cm^2 \n",
        "mini capacitance is 0.347 V \n",
        "xdt is 3.00e-05 cm^-4 \n",
        "Cmin is 2.23e-08 F/cm^2 \n",
        "ratio of Cmin to Cox is= 0.355\n",
        "Cfb in F/cm^2 is= 5.03e-08\n",
        "ratio of Cfb to Cox is = 0.80 \n"
       ]
      }
     ],
     "prompt_number": 7
    },
    {
     "cell_type": "heading",
     "level": 2,
     "metadata": {},
     "source": [
      "Example 11.8, Page 495"
     ]
    },
    {
     "cell_type": "code",
     "collapsed": false,
     "input": [
      "#Variable declaration\n",
      "T=300 #K\n",
      "k=8.617*10**-5#eV/K\n",
      "e=1.6*10**-19 #C\n",
      "Cox=6.9*10**-8#F/cm2\n",
      "esp0=8.85*10**-14 \n",
      "Vtau=0.65#V\n",
      "VGS=5#V\n",
      "L=1.25*10**-4#cm\n",
      "u=650#cm**2/Vs\n",
      "IDsat=4*10**-3#A\n",
      "\n",
      "#Calculations\n",
      "W=(IDsat*2*L)/(u*Cox*(VGS-Vtau)**2)\n",
      "\n",
      "#Result\n",
      "print \"W is %.1f micro-meter\"%(W/10**-4)"
     ],
     "language": "python",
     "metadata": {},
     "outputs": [
      {
       "output_type": "stream",
       "stream": "stdout",
       "text": [
        "W is 11.8 micro-meter\n"
       ]
      }
     ],
     "prompt_number": 8
    },
    {
     "cell_type": "heading",
     "level": 2,
     "metadata": {},
     "source": [
      "Example 11.9, Page 496"
     ]
    },
    {
     "cell_type": "code",
     "collapsed": false,
     "input": [
      "#Variable declaration\n",
      "T=300 #K\n",
      "k=8.617*10**-5#eV/K\n",
      "e=1.6*10**-19 #C\n",
      "Cox=6.9*10**-8#F/cm2\n",
      "esp0=8.85*10**-14 \n",
      "Vtau=0.65#V\n",
      "VGS1=1.5#V\n",
      "VGS2=2.5#V\n",
      "VDS=0.10#V\n",
      "L=2*10**-6#cm\n",
      "u=650#cm**2/Vs\n",
      "ID1=35*10**-6#A\n",
      "ID2=75*10**-6#A\n",
      "W=15*10**-6#m\n",
      "\n",
      "#Calculations\n",
      "un=(ID2-ID1)*L/(W*Cox*(VGS2-VGS1)*VDS)\n",
      "\n",
      "#Result\n",
      "print \"un is %.f cm^2/Vs\"%un"
     ],
     "language": "python",
     "metadata": {},
     "outputs": [
      {
       "output_type": "stream",
       "stream": "stdout",
       "text": [
        "un is 773 cm^2/Vs\n"
       ]
      }
     ],
     "prompt_number": 9
    },
    {
     "cell_type": "heading",
     "level": 2,
     "metadata": {},
     "source": [
      "Example 11.10, Page 500"
     ]
    },
    {
     "cell_type": "code",
     "collapsed": false,
     "input": [
      "import math\n",
      "\n",
      "#Variable declaration\n",
      "T=300# K\n",
      "Na=3*10**16# cm^-3\n",
      "tox=500*10**-8# tox=500A =500*10**-8 cm\n",
      "k=1.3806*10**-23# JK^-1\n",
      "VSB=1# V\n",
      "epsilon0=8.85*10**-14# F/m\n",
      "epsilons=11.7\n",
      "epsilonox=3.9\n",
      "ni=1.5*10**10# cm^-3\n",
      "e=1.6*10**-19# eV\n",
      "\n",
      "#Calculations&Results\n",
      "phifp=(((k*T)/e)*math.log(Na/ni))# phifp=V1*log(Na/ni)=((k*T)/e)*log(Na/ni)\n",
      "print \"the value of phifp is %.3f V\"%phifp\n",
      "Cox=(epsilon0*epsilonox)/tox\n",
      "print \"the value of Cox is %.1e F/cm^2\"%Cox\n",
      "deltaVT=(math.sqrt(2*e*(epsilon0*epsilons)*Na))/Cox*((math.sqrt(2*phifp+VSB))-(math.sqrt(2*phifp)))\n",
      "print \"the value of deltaVT is %.2f V\"%deltaVT"
     ],
     "language": "python",
     "metadata": {},
     "outputs": [
      {
       "output_type": "stream",
       "stream": "stdout",
       "text": [
        "the value of phifp is 0.376 V\n",
        "the value of Cox is 6.9e-08 F/cm^2\n",
        "the value of deltaVT is 0.66 V\n"
       ]
      }
     ],
     "prompt_number": 10
    },
    {
     "cell_type": "heading",
     "level": 2,
     "metadata": {},
     "source": [
      "Example 11.11, Page 506"
     ]
    },
    {
     "cell_type": "code",
     "collapsed": false,
     "input": [
      "import math\n",
      "\n",
      "#Variable declaration\n",
      "micron=400.# cm^2/V-s\n",
      "L=4*10**-6# m\n",
      "VT=1# V\n",
      "VGS=3# V\n",
      "\n",
      "#Calculations\n",
      "ftau=(micron*(VGS-VT))/(2*math.pi*L*L)\n",
      "\n",
      "#Result\n",
      "print \"the value of fr = %.f MHz\"%(ftau/10**10)"
     ],
     "language": "python",
     "metadata": {},
     "outputs": [
      {
       "output_type": "stream",
       "stream": "stdout",
       "text": [
        "the value of fr = 796 MHz\n"
       ]
      }
     ],
     "prompt_number": 11
    }
   ],
   "metadata": {}
  }
 ]
}