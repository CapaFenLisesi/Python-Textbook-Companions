{
 "metadata": {
  "name": "",
  "signature": "sha256:a4a8c282676044dfd6400da6c666fcff06f011960e5dfabe01e8d9b4da3a4393"
 },
 "nbformat": 3,
 "nbformat_minor": 0,
 "worksheets": [
  {
   "cells": [
    {
     "cell_type": "heading",
     "level": 1,
     "metadata": {},
     "source": [
      "Chapter 3: Introduction to the Quantum Theory of Solids"
     ]
    },
    {
     "cell_type": "heading",
     "level": 2,
     "metadata": {},
     "source": [
      "Example 3.1, Page 59"
     ]
    },
    {
     "cell_type": "code",
     "collapsed": false,
     "input": [
      "#Variable declaration\n",
      "v1=10**5 #m per sec\n",
      "deltav=0.01 #m per sec\n",
      "m=9.11*10**-31# kg*m/s\n",
      "e=1.6*10**-9 #Coulombs\n",
      "\n",
      "#calculations&Results\n",
      "#deltaE=0.5*m*(v2**2-v1**2)\n",
      "#deltav=v2-v1.............deltav<<v1\n",
      "print \"The change in kinetic energy\"\n",
      "deltaE=m*v1*deltav\n",
      "print \"in J is %.2e\"%deltaE\n",
      "deltaE=deltaE/e\n",
      "print \"in eV is %.1e\"%deltaE"
     ],
     "language": "python",
     "metadata": {},
     "outputs": [
      {
       "output_type": "stream",
       "stream": "stdout",
       "text": [
        "The change in kinetic energy\n",
        "in J is 9.11e-28\n",
        "in eV is 5.7e-19\n"
       ]
      }
     ],
     "prompt_number": 1
    },
    {
     "cell_type": "heading",
     "level": 2,
     "metadata": {},
     "source": [
      "Example 3.2, Page 68"
     ]
    },
    {
     "cell_type": "code",
     "collapsed": false,
     "input": [
      "import math\n",
      "\n",
      "#Variable declaration\n",
      "P=10\n",
      "a=5*10**-10 # a=5 Armstrong\n",
      "h=1.054*10**-34\n",
      "m=9.11*10**-31 #kg\n",
      "\n",
      "#Calculations&Results\n",
      "#alpha*a=%pi\n",
      "#sqrt((2*m*E2)/h**2)*a=pi\n",
      "E2=(math.pi**2*h**2)/(2*m*a**2)\n",
      "print 'E2= %.3e J'%E2\n",
      "E2=E2*6.2415*10**18\n",
      "print 'E2= %.2f eV'%E2\n",
      "E1=1.053 #eV\n",
      "AE=E2-E1\n",
      "print 'AE= %.3f eV'%AE\n"
     ],
     "language": "python",
     "metadata": {},
     "outputs": [
      {
       "output_type": "stream",
       "stream": "stdout",
       "text": [
        "E2= 2.407e-19 J\n",
        "E2= 1.50 eV\n",
        "AE= 0.449 eV\n"
       ]
      }
     ],
     "prompt_number": 2
    },
    {
     "cell_type": "heading",
     "level": 2,
     "metadata": {},
     "source": [
      "Example 3.3, Page 84"
     ]
    },
    {
     "cell_type": "code",
     "collapsed": false,
     "input": [
      "import math\n",
      "\n",
      "#Variable declaration\n",
      "m=9.11*10**-31 #kg\n",
      "E=1.6*10**-19 #C\n",
      "h=6.625*10**-34 #J sec\n",
      "\n",
      "#Calculations\n",
      "N=(4*math.pi*(2*m)**(3./2)*2*E**(3./2))/(h**3*3)\n",
      "\n",
      "#Result\n",
      "print 'E2= %.1e per meter**3'%N"
     ],
     "language": "python",
     "metadata": {},
     "outputs": [
      {
       "output_type": "stream",
       "stream": "stdout",
       "text": [
        "E2= 4.5e+27 per meter**3\n"
       ]
      }
     ],
     "prompt_number": 3
    },
    {
     "cell_type": "heading",
     "level": 2,
     "metadata": {},
     "source": [
      "Example 3.4, Page 90"
     ]
    },
    {
     "cell_type": "code",
     "collapsed": false,
     "input": [
      "import math\n",
      "\n",
      "#Variable declaration\n",
      "y=10\n",
      "Ni=10\n",
      "gi=10\n",
      "\n",
      "#Calculations\n",
      "#(gi-Ni)!=1\n",
      "z=(math.factorial(gi)/math.factorial(Ni)*math.factorial(gi-Ni))\n",
      "\n",
      "#Result\n",
      "print 'the possible number of ways of realizing a particular distribution = %.f'%z"
     ],
     "language": "python",
     "metadata": {},
     "outputs": [
      {
       "output_type": "stream",
       "stream": "stdout",
       "text": [
        "the possible number of ways of realizing a particular distribution = 1\n"
       ]
      }
     ],
     "prompt_number": 8
    },
    {
     "cell_type": "heading",
     "level": 2,
     "metadata": {},
     "source": [
      "Example 3.5, Page 90"
     ]
    },
    {
     "cell_type": "code",
     "collapsed": false,
     "input": [
      "import math\n",
      "\n",
      "#Variable declaration\n",
      "gi=10\n",
      "Ni=9\n",
      "\n",
      "#Calculations\n",
      "x=gi-Ni\n",
      "#factorial(gi-Ni)=1\n",
      "z=(math.factorial(gi)/math.factorial(Ni)*math.factorial(gi-Ni))\n",
      "\n",
      "#Result\n",
      "print 'possible arrangements = %.f'%z"
     ],
     "language": "python",
     "metadata": {},
     "outputs": [
      {
       "output_type": "stream",
       "stream": "stdout",
       "text": [
        "possible arrangements = 10\n"
       ]
      }
     ],
     "prompt_number": 11
    },
    {
     "cell_type": "heading",
     "level": 2,
     "metadata": {},
     "source": [
      "Example 3.6, Page 93"
     ]
    },
    {
     "cell_type": "code",
     "collapsed": false,
     "input": [
      "import math\n",
      "\n",
      "#Variable declaration\n",
      "T=300 #K\n",
      "\n",
      "#Calculations\n",
      "#a=E-Ef\n",
      "#a=3*k*T\n",
      "#fF(E)=1/(1+exp(E-Ef/kT))\n",
      "z=math.exp(3)\n",
      "y=1./(1+z)                    #y=fF(E)\n",
      "\n",
      "#Result\n",
      "print 'fF(E)=%.2f %%'%(y*100)"
     ],
     "language": "python",
     "metadata": {},
     "outputs": [
      {
       "output_type": "stream",
       "stream": "stdout",
       "text": [
        "fF(E)=4.74 %\n"
       ]
      }
     ],
     "prompt_number": 12
    },
    {
     "cell_type": "heading",
     "level": 2,
     "metadata": {},
     "source": [
      "Example 3.7, Page 94"
     ]
    },
    {
     "cell_type": "code",
     "collapsed": false,
     "input": [
      "import math\n",
      "\n",
      "#Variable declaration\n",
      "Ef=6.25 #eV\n",
      "E=5.95  #eV\n",
      "p=0.01\n",
      "k= 8.617 *10**-5 #eV K^-1 \n",
      "\n",
      "#Calculations\n",
      "#p=1-fF(E)\n",
      "#fF(E)=1./(1+exp(E-Ef/kT))\n",
      "#p=1-1./(1+exp(E-Ef/kT))               equation 1\n",
      "x=E-Ef\n",
      "y=(1./(1-p))-1     # solving the above equtaion 1\n",
      "T=x/(k*math.log(y))\n",
      "\n",
      "#Result\n",
      "print 'T=%.1f K\\n'%T"
     ],
     "language": "python",
     "metadata": {},
     "outputs": [
      {
       "output_type": "stream",
       "stream": "stdout",
       "text": [
        "T=757.6 K\n",
        "\n"
       ]
      }
     ],
     "prompt_number": 13
    }
   ],
   "metadata": {}
  }
 ]
}