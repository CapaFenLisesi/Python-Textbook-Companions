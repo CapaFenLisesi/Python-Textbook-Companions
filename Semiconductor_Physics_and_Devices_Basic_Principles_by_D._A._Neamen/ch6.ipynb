{
 "metadata": {
  "name": "",
  "signature": "sha256:07dc0ed5da452da2af535372d485bc6080d9964bbc4a9a4d9e939c3251ec2c71"
 },
 "nbformat": 3,
 "nbformat_minor": 0,
 "worksheets": [
  {
   "cells": [
    {
     "cell_type": "heading",
     "level": 1,
     "metadata": {},
     "source": [
      "Chapter 6: Nonequilibrium Excess Carriers in Semiconductors"
     ]
    },
    {
     "cell_type": "heading",
     "level": 2,
     "metadata": {},
     "source": [
      "Example 6.5, Page 212"
     ]
    },
    {
     "cell_type": "code",
     "collapsed": false,
     "input": [
      "#Variable declaration\n",
      "k=8.617*10**-5#eV/K\n",
      "e=1.6*10**-19 #C\n",
      "un=1200.\n",
      "Nd=10**16 #cm**-3\n",
      "esp0=8.85*10**-14 \n",
      "espr=11.7\n",
      "\n",
      "#Calculations&Results\n",
      "sigma=e*un*Nd\n",
      "print \"conductivity is %.2f per ohm cm \"%sigma\n",
      "\n",
      "esp=espr*esp0\n",
      "print \"permittivity of silicon is %.2e F/cm\"%esp\n",
      "\n",
      "taud=esp/sigma\n",
      "print \"dielectric relaxtion time constant is %.2e sec \"%taud"
     ],
     "language": "python",
     "metadata": {},
     "outputs": [
      {
       "output_type": "stream",
       "stream": "stdout",
       "text": [
        "conductivity is 1.92 per ohm cm \n",
        "permittivity of silicon is 1.04e-12 F/cm\n",
        "dielectric relaxtion time constant is 5.39e-13 sec \n"
       ]
      }
     ],
     "prompt_number": 1
    },
    {
     "cell_type": "heading",
     "level": 2,
     "metadata": {},
     "source": [
      "Example 6.6, Page 217"
     ]
    },
    {
     "cell_type": "code",
     "collapsed": false,
     "input": [
      "import math\n",
      "\n",
      "#Variable declaration\n",
      "T=300#K\n",
      "k=8.617*10**-5#eV/K\n",
      "e=1.6*10**-19 #C\n",
      "n0=10**15 #cm^-3\n",
      "p0=10**5 #cm^-3\n",
      "ni=10**10 #cm^-3\n",
      "deltan=10**13 #cm**-3\n",
      "deltap=10**13 #cm**-3\n",
      "\n",
      "\n",
      "#Calculations&Results\n",
      "#Ef-Efi=a\n",
      "a=(k*T)*math.log(n0/ni)\n",
      "print \"fermi level for thermal equlibrium is %.4f eV \"%a\n",
      "\n",
      "#Efn-Efi=b\n",
      "b=(k*T)*math.log((n0+deltan)/ni)\n",
      "print \"quasi fermi level for electrons is %.4f eV \"%b\n",
      "\n",
      "#Efi-Efp=c\n",
      "c=(k*T)*math.log((p0+deltap)/ni)\n",
      "print \"quasi fermi level for holes is %.3f eV \"%c\n",
      "\n",
      "#answers vary due to roundinf-off errors"
     ],
     "language": "python",
     "metadata": {},
     "outputs": [
      {
       "output_type": "stream",
       "stream": "stdout",
       "text": [
        "fermi level for thermal equlibrium is 0.2976 eV \n",
        "quasi fermi level for electrons is 0.2979 eV \n",
        "quasi fermi level for holes is 0.179 eV \n"
       ]
      }
     ],
     "prompt_number": 2
    },
    {
     "cell_type": "heading",
     "level": 2,
     "metadata": {},
     "source": [
      "Example 6.8, Page 225"
     ]
    },
    {
     "cell_type": "code",
     "collapsed": false,
     "input": [
      "import math\n",
      "\n",
      "#Variable declaration\n",
      "k=8.617*10**-5#eV/K\n",
      "e=1.6*10**-19 #C\n",
      "x=0\n",
      "taup0=10**-6#ses\n",
      "taup01=10**-7 #sec\n",
      "deltapb=10**14 #cm**-3\n",
      "Dn=10 #cm^2/sec\n",
      "Dp=10 #cm^2/sec\n",
      "B=-9*10**13\n",
      "\n",
      "#Calculations&Results\n",
      "deltap=deltapb*(taup01/taup0)\n",
      "print \"deltap is %.e cm^-3 \"%deltap\n",
      "\n",
      "g=deltap/taup0\n",
      "print \"g generation is %.e cm^-3s^-1 \"%g  #incorrect solution in textbook\n",
      "\n",
      "#deltapx=10**14*(1-0.9*math.exp(-x/Lp))\n",
      "Lp=math.sqrt(Dp*taup0)\n",
      "print \"Lp is %f meter \"%Lp\n",
      "deltapx=10**14*(1-0.9*math.exp(-x/Lp))\n",
      "print \"distance from the surface = %.e\"%deltapx"
     ],
     "language": "python",
     "metadata": {},
     "outputs": [
      {
       "output_type": "stream",
       "stream": "stdout",
       "text": [
        "deltap is 1e+13 cm^-3 \n",
        "g generation is 1e+19 cm^-3s^-1 \n",
        "Lp is 0.003162 meter \n",
        "distance from the surface = 1e+13\n"
       ]
      }
     ],
     "prompt_number": 3
    },
    {
     "cell_type": "heading",
     "level": 2,
     "metadata": {},
     "source": [
      "Example 6.10, Page 228"
     ]
    },
    {
     "cell_type": "code",
     "collapsed": false,
     "input": [
      "#Variable declaration\n",
      "k=8.617*10**-5#eV/K\n",
      "e=1.6*10**-19 #C\n",
      "Dp=10#cm^2/sec\n",
      "Lp=31.6*10**-4 #m\n",
      "g1taup0=10**14 #cm^-3\n",
      "deltap0=10**13 #cm6-3\n",
      "\n",
      "#Calculations\n",
      "#deltap0=g1taup0*[g/((Dp/Lp)+s)]\n",
      "s=(Dp/Lp)*((g1taup0/deltap0)-1)\n",
      "\n",
      "#Result\n",
      "print \"surface recombination velocity is %.2e cm per sec \"%s\n"
     ],
     "language": "python",
     "metadata": {},
     "outputs": [
      {
       "output_type": "stream",
       "stream": "stdout",
       "text": [
        "surface recombination velocity is 2.85e+04 cm per sec \n"
       ]
      }
     ],
     "prompt_number": 5
    }
   ],
   "metadata": {}
  }
 ]
}