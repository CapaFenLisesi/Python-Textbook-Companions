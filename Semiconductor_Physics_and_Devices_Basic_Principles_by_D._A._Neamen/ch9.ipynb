{
 "metadata": {
  "name": "",
  "signature": "sha256:483be1ef5d38fecb61ab3cf7b846b6634b285c77abf6356b8e31a3ae85f55fb0"
 },
 "nbformat": 3,
 "nbformat_minor": 0,
 "worksheets": [
  {
   "cells": [
    {
     "cell_type": "heading",
     "level": 1,
     "metadata": {},
     "source": [
      "Chapter 9: Metal-Semiconductor and Semiconductor Heterojunctions"
     ]
    },
    {
     "cell_type": "heading",
     "level": 2,
     "metadata": {},
     "source": [
      "Example 9.1, Page 330"
     ]
    },
    {
     "cell_type": "code",
     "collapsed": false,
     "input": [
      "import math\n",
      "\n",
      "#Variable declaration\n",
      "T=300 #K\n",
      "k=8.617*10**-5#eV/K\n",
      "e=1.6*10**-19 #C\n",
      "Nd=10**16 #cm^-3\n",
      "Nr=2.8*10**19 #cm^-3\n",
      "Vbi=0.33\n",
      "phim=4.55 #V\n",
      "psi=4.01 #V\n",
      "esp=11.7\n",
      "esp0=8.85*10**-14 \n",
      "\n",
      "#Calculations&Results\n",
      "hb=phim-psi\n",
      "print \"barrier height is %.2f V \"%hb\n",
      "\n",
      "phiu=(k*T)*math.log(Nr/Nd)\n",
      "print \"schottky barrier height is %.3f V \"%phiu\n",
      "\n",
      "Vbt=hb-phiu\n",
      "print \"in V is %.2f\"%Vbt\n",
      "\n",
      "xn=math.sqrt((2*esp*esp0*Vbi)/(e*Nd))\n",
      "print \"space charge is %.3e cm \"%xn\n",
      "\n",
      "Emax=(e*Nd*xn)/(esp*esp0)\n",
      "print \"maxi electric field is %.1e V/cm \"%Emax"
     ],
     "language": "python",
     "metadata": {},
     "outputs": [
      {
       "output_type": "stream",
       "stream": "stdout",
       "text": [
        "barrier height is 0.54 V \n",
        "schottky barrier height is 0.205 V \n",
        "in V is 0.33\n",
        "space charge is 2.067e-05 cm \n",
        "maxi electric field is 3.2e+04 V/cm \n"
       ]
      }
     ],
     "prompt_number": 1
    },
    {
     "cell_type": "heading",
     "level": 2,
     "metadata": {},
     "source": [
      "Example 9.2, Page 331"
     ]
    },
    {
     "cell_type": "code",
     "collapsed": false,
     "input": [
      "import math\n",
      "\n",
      "#Variable declaration\n",
      "T=300 #K\n",
      "k=8.617*10**-5#eV/K\n",
      "e=1.6*10**-19 #C\n",
      "esp=11.7\n",
      "esp0=8.85*10**-14 \n",
      "Nd=2.7*10**17 #cm^-3\n",
      "Na=2.8*10**19 #cm^-3\n",
      "Vbi=0.40\n",
      "\n",
      "#Calculations&Results\n",
      "#(1/C)^2=2*(Vbi+Vr)/(e*esp*Nd)\n",
      "#delta(1/C)^2/deltaVr=z\n",
      "z=4.4*10**13\n",
      "Nd=2/(e*esp*esp0*z)\n",
      "print \"semiconductor doping is %.2e cm^-3 \"%Nd\n",
      "\n",
      "phin=(k*T)*math.log(Na/Nd)\n",
      "print \"in V is %.2f\"%phin\n",
      "\n",
      "phibn=Vbi+phin\n",
      "print \"schottky barrier height is %.2f V \"%phibn"
     ],
     "language": "python",
     "metadata": {},
     "outputs": [
      {
       "output_type": "stream",
       "stream": "stdout",
       "text": [
        "semiconductor doping is 2.74e+17 cm^-3 \n",
        "in V is 0.12\n",
        "schottky barrier height is 0.52 V \n"
       ]
      }
     ],
     "prompt_number": 2
    },
    {
     "cell_type": "heading",
     "level": 2,
     "metadata": {},
     "source": [
      "Example 9.3, Page 334"
     ]
    },
    {
     "cell_type": "code",
     "collapsed": false,
     "input": [
      "import math\n",
      "\n",
      "#Variable declaration\n",
      "T=300 #K\n",
      "k=8.617*10**-5#eV/K\n",
      "e=1.6*10**-19 #C\n",
      "esp=11.7\n",
      "esp0=8.85*10**-14 \n",
      "E=6.8*10**4 #V/cm\n",
      "\n",
      "#Calculations&Results\n",
      "deltaphi=math.sqrt((e*E)/(4*math.pi*esp*esp0))\n",
      "print \"schottky barrier lowring is %.4f V \"%deltaphi\n",
      "\n",
      "xm=math.sqrt(e/(16*math.pi*esp*esp0*E))\n",
      "print \"maxi barrier height is %.e cm\"%xm\n"
     ],
     "language": "python",
     "metadata": {},
     "outputs": [
      {
       "output_type": "stream",
       "stream": "stdout",
       "text": [
        "schottky barrier lowring is 0.0289 V \n",
        "maxi barrier height is 2e-07 cm\n"
       ]
      }
     ],
     "prompt_number": 3
    },
    {
     "cell_type": "heading",
     "level": 2,
     "metadata": {},
     "source": [
      "Example 9.4, Page 340"
     ]
    },
    {
     "cell_type": "code",
     "collapsed": false,
     "input": [
      "import math\n",
      "\n",
      "#Variable declaration\n",
      "T=300. #K\n",
      "k=8.617*10**-5#eV/K\n",
      "e=1.6*10**-19 #C\n",
      "esp=11.7\n",
      "esp0=8.85*10**-14 \n",
      "phibe=0.67 #V\n",
      "Jst=6.*10**-5 #A/cm^2\n",
      "\n",
      "#Calculations\n",
      "A=math.exp(phibe/(k*T))*(Jst/T**2)\n",
      "\n",
      "#Result\n",
      "print \"Richardson constant is %.f A/K^2-cm^2 \"%A     #textbook ans is incorrect\n"
     ],
     "language": "python",
     "metadata": {},
     "outputs": [
      {
       "output_type": "stream",
       "stream": "stdout",
       "text": [
        "Richardson constant is 120 A/K^2-cm^2 \n"
       ]
      }
     ],
     "prompt_number": 4
    },
    {
     "cell_type": "heading",
     "level": 2,
     "metadata": {},
     "source": [
      "Example 9.5, Page 341"
     ]
    },
    {
     "cell_type": "code",
     "collapsed": false,
     "input": [
      "import math\n",
      "\n",
      "#Variable declaration\n",
      "T=300 #K\n",
      "k=8.617*10**-5#eV/K\n",
      "e=1.6*10**-19 #C\n",
      "esp=11.7\n",
      "esp0=8.85*10**-14 \n",
      "phibe=0.67 #V\n",
      "A=114 #A/K**2-cm**2\n",
      "Na=10**18 #cm**-3\n",
      "Nd=10**16 #cm**-3\n",
      "taup0=10**-7\n",
      "taun0=10**-7\n",
      "Dp=10 #cm**2/s\n",
      "Dn=25 #cm**2/s\n",
      "Lp=1.0*10**-3 #cm\n",
      "Ln=1.58*10**-3 #cm\n",
      "pn0=2.25*10**4 #cm**-3\n",
      "np0=2.25*10**2 #cm**-3\n",
      "\n",
      "#Calculations&Results\n",
      "a=k*T\n",
      "Jst=(A*T**2)*math.exp(-phibe/a)\n",
      "print \"Richardson constant is %.2e A/K**2-cm**2\"%Jst\n",
      "\n",
      "Js=((e*Dn*np0)/Ln)+((e*Dp*pn0)/Lp)\n",
      "print \"reverse saturation current density is %.2e A/cm**2\"%Js"
     ],
     "language": "python",
     "metadata": {},
     "outputs": [
      {
       "output_type": "stream",
       "stream": "stdout",
       "text": [
        "Richardson constant is 5.69e-05 A/K**2-cm**2\n",
        "reverse saturation current density is 3.66e-11 A/cm**2\n"
       ]
      }
     ],
     "prompt_number": 5
    },
    {
     "cell_type": "heading",
     "level": 2,
     "metadata": {},
     "source": [
      "Example 9.6, Page 343"
     ]
    },
    {
     "cell_type": "code",
     "collapsed": false,
     "input": [
      "import math\n",
      "\n",
      "#Variable declaration\n",
      "T=300 #K\n",
      "k=8.617*10**-5#eV/K\n",
      "e=1.6*10**-19 #C\n",
      "esp=11.7\n",
      "esp0=8.85*10**-14 \n",
      "J=10 #A/K**2-cm**2\n",
      "Jst=5.98*10**-5#A/K**2-cm**2\n",
      "Js=3.66*10**-11 #A/K**2-cm**2\n",
      "\n",
      "#Calculations&Results\n",
      "#J=Jst*[exp(e*Va/k*T)-1]\n",
      "#Va=(k*T/e)*log(J/Jst)\n",
      "Va=(k*T)*math.log(J/Jst)\n",
      "print \"forward bias voltage is %.3f V \"%Va\n",
      "\n",
      "Va=(k*T)*math.log(J/Js)\n",
      "print \"forward bias voltage is %.3f V\"%Va\n"
     ],
     "language": "python",
     "metadata": {},
     "outputs": [
      {
       "output_type": "stream",
       "stream": "stdout",
       "text": [
        "forward bias voltage is 0.311 V \n",
        "forward bias voltage is 0.681 V\n"
       ]
      }
     ],
     "prompt_number": 6
    },
    {
     "cell_type": "heading",
     "level": 2,
     "metadata": {},
     "source": [
      "Example 9.7, Page 347"
     ]
    },
    {
     "cell_type": "code",
     "collapsed": false,
     "input": [
      "import math\n",
      "\n",
      "#Variable declaration\n",
      "T=300 #K\n",
      "k=8.617*10**-5#eV/K\n",
      "e=1.6*10**-19 #C\n",
      "Nd=7*10**18 #cm^3\n",
      "esp=11.7\n",
      "esp0=8.85*10**-14 \n",
      "phibn=0.67 #V\n",
      "Vbi=0.67\n",
      "\n",
      "#Calculations\n",
      "xn=math.sqrt((2*esp*esp0*Vbi)/(e*Nd))\n",
      "\n",
      "#Result\n",
      "print \"space charge width is %.1e cm \"%xn\n"
     ],
     "language": "python",
     "metadata": {},
     "outputs": [
      {
       "output_type": "stream",
       "stream": "stdout",
       "text": [
        "space charge width is 1.1e-06 cm \n"
       ]
      }
     ],
     "prompt_number": 7
    },
    {
     "cell_type": "heading",
     "level": 2,
     "metadata": {},
     "source": [
      "Example 9.8, Page 355"
     ]
    },
    {
     "cell_type": "code",
     "collapsed": false,
     "input": [
      "import math\n",
      "\n",
      "#Variable declaration\n",
      "T=300 #K\n",
      "k=8.617*10**-5#eV/K\n",
      "e=1.6*10**-19 #C\n",
      "ni=2.4*10**13 #cm**-3\n",
      "Na=7*10**18 #cm**3\n",
      "Nd=10**16 #cm**-3\n",
      "pp0=6*10**18 #cm**-3\n",
      "esp=11.7\n",
      "esp0=8.85*10**-14 \n",
      "xn=4.13\n",
      "xp=4.07\n",
      "\n",
      "#Calculations&Results\n",
      "#AE1=e*(xn-xp)\n",
      "AE=(xn-xp)\n",
      "print \"AE is %.2f eV \"%AE\n",
      "\n",
      "deltaE=1.43-0.67\n",
      "\n",
      "AE1=deltaE-AE\n",
      "print \"AE1 is %.2f eV\"%AE1\n",
      "\n",
      "pn0=(ni**2)/Nd\n",
      "print \"pn0 is %.2e cm**-3 \"%pn0\n",
      "\n",
      "Vbi=AE1+(k*T)*math.log((Nd*pp0)/(pn0*Na))\n",
      "print \"Vbi in V = %.f \"%Vbi\n"
     ],
     "language": "python",
     "metadata": {},
     "outputs": [
      {
       "output_type": "stream",
       "stream": "stdout",
       "text": [
        "AE is 0.06 eV \n",
        "AE1 is 0.70 eV\n",
        "pn0 is 5.76e+10 cm**-3 \n",
        "Vbi in V = 1 \n"
       ]
      }
     ],
     "prompt_number": 8
    }
   ],
   "metadata": {}
  }
 ]
}