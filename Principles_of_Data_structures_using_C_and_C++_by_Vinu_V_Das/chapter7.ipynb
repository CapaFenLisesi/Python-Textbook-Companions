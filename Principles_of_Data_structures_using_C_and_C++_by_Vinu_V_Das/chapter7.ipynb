{
 "cells": [
  {
   "cell_type": "markdown",
   "metadata": {},
   "source": [
    "# Chapter 7: Searching & Hashing"
   ]
  },
  {
   "cell_type": "markdown",
   "metadata": {},
   "source": [
    "## Example 1, page no. 208"
   ]
  },
  {
   "cell_type": "code",
   "execution_count": 1,
   "metadata": {
    "collapsed": false
   },
   "outputs": [
    {
     "name": "stdout",
     "output_type": "stream",
     "text": [
      "nHow many elements you want to enter in the array: 3\n",
      " Enter element 1: 15\n",
      " Enter element 2: 10\n",
      " Enter element 3: 5\n",
      " \n",
      "\n",
      "Press any key to continue...\n",
      "\n",
      "Enter the element to be searched: 5\n",
      " \n",
      "5 found at position 3\n",
      "Press (Y/y) to continue: n\n"
     ]
    },
    {
     "ename": "SystemExit",
     "evalue": "",
     "output_type": "error",
     "traceback": [
      "An exception has occurred, use %tb to see the full traceback.\n",
      "\u001b[1;31mSystemExit\u001b[0m\n"
     ]
    },
    {
     "name": "stderr",
     "output_type": "stream",
     "text": [
      "To exit: use 'exit', 'quit', or Ctrl-D.\n"
     ]
    }
   ],
   "source": [
    "import sys\n",
    "\n",
    "arr = []\n",
    "opt = 'y'\n",
    "print \"nHow many elements you want to enter in the array: \",\n",
    "n = int(raw_input())\n",
    "for i in range(n):\n",
    "    print \"Enter element %d: \" %(i+1),\n",
    "    arr.append(int(raw_input()))\n",
    "print \"\\n\\nPress any key to continue...\"\n",
    "raw_input()\n",
    "\n",
    "while (1):\n",
    "    if opt == 'Y' or opt == 'y':\n",
    "        print \"Enter the element to be searched: \",\n",
    "        item = int(raw_input())\n",
    "        found = False\n",
    "        for i in range(n):\n",
    "            if (item == arr[i]):\n",
    "                print \"\\n%d found at position %d\"  %(item,(i+1))\n",
    "                found = True\n",
    "                break\n",
    "        if not found:\n",
    "            print \"Item %d not found in array\" %item\n",
    "        print \"Press (Y/y) to continue: \",\n",
    "        opt = raw_input()\n",
    "    else:\n",
    "        sys.exit()"
   ]
  },
  {
   "cell_type": "markdown",
   "metadata": {},
   "source": [
    "## Example 2, page no. 211"
   ]
  },
  {
   "cell_type": "code",
   "execution_count": 2,
   "metadata": {
    "collapsed": false
   },
   "outputs": [
    {
     "name": "stdout",
     "output_type": "stream",
     "text": [
      " How many elements you want to enter in the array ?: 3\n",
      " Enter element 1: 15\n",
      " Enter element 2: 10\n",
      " Enter element 3: 5\n",
      " \n",
      "Press any key to continue...\n",
      " Enter the element to be searched: 10\n",
      " 10 found at position 2\n",
      "Press (Y/y) to continue: n\n"
     ]
    },
    {
     "ename": "SystemExit",
     "evalue": "",
     "output_type": "error",
     "traceback": [
      "An exception has occurred, use %tb to see the full traceback.\n",
      "\u001b[1;31mSystemExit\u001b[0m\n"
     ]
    },
    {
     "name": "stderr",
     "output_type": "stream",
     "text": [
      "To exit: use 'exit', 'quit', or Ctrl-D.\n"
     ]
    }
   ],
   "source": [
    "import sys\n",
    "\n",
    "arr = []\n",
    "print \"How many elements you want to enter in the array ?: \",\n",
    "n = int(raw_input())\n",
    "for i in range(n):\n",
    "    print \"Enter element %d: \" %(i+1),\n",
    "    arr.append(int(raw_input()))\n",
    "print \"\\nPress any key to continue...\",\n",
    "raw_input()\n",
    "opt = 'y'\n",
    "while(1):\n",
    "    if opt == \"Y\" or opt == \"y\":\n",
    "        print \"Enter the element to be searched: \",\n",
    "        item = int(raw_input())\n",
    "        start = 0\n",
    "        end = n - 1\n",
    "        middle = (start + end)/2\n",
    "        while(item != arr[middle] and start <= end):\n",
    "            if (item > arr[middle]):\n",
    "                start = middle+1\n",
    "            else:\n",
    "                end = middle-1\n",
    "            middle = (start+end)/2\n",
    "        if (item==arr[middle]):\n",
    "            print \"%d found at position %d\" %(item,(middle + 1));\n",
    "        if (start>end):\n",
    "            print \"%d not found in array\" %item\n",
    "        print \"Press (Y/y) to continue: \",\n",
    "        opt = raw_input()\n",
    "    else:\n",
    "        sys.exit()"
   ]
  },
  {
   "cell_type": "markdown",
   "metadata": {},
   "source": [
    "## Example 3, page no. 215"
   ]
  },
  {
   "cell_type": "code",
   "execution_count": 5,
   "metadata": {
    "collapsed": false
   },
   "outputs": [
    {
     "name": "stdout",
     "output_type": "stream",
     "text": [
      "Enter the number of elements: 3\n",
      " Enter element 1: 5\n",
      " Enter element 2: 10\n",
      " Enter element 3: 15\n",
      " Enter the Number to be searched: 15\n",
      " The key  15  is found at the location  2\n",
      "Press any key to continue...\n"
     ]
    },
    {
     "data": {
      "text/plain": [
       "''"
      ]
     },
     "execution_count": 5,
     "metadata": {},
     "output_type": "execute_result"
    },
    {
     "name": "stdout",
     "output_type": "stream",
     "text": [
      "\n"
     ]
    }
   ],
   "source": [
    "class interpolation:\n",
    "    def InterSearch(self, arr, no):\n",
    "        Low = 0\n",
    "        High = no - 1\n",
    "        print \"Enter the Number to be searched: \",\n",
    "        key = int(raw_input())\n",
    "        while(Low < High):\n",
    "            Mid = (Low+(High-Low)) * ((key-arr[Low])/(arr[High]-arr[Low]))\n",
    "            if (key < arr[Mid]):\n",
    "                High = Mid-1\n",
    "            elif (key > arr[Mid]):\n",
    "                Low = Mid+1;\n",
    "            else:\n",
    "                print \"The key \", key, \" is found at the location \", Mid\n",
    "                return\n",
    "        print \"\\nThe Key \" , key, \" is NOT found\"\n",
    "\n",
    "\n",
    "ob = interpolation()\n",
    "print \"Enter the number of elements: \",\n",
    "n = int(raw_input())\n",
    "a = []\n",
    "for i in range(n):\n",
    "    print \"Enter element %d: \" %(i+1),\n",
    "    a.append(int(raw_input()))\n",
    "b = a\n",
    "ob.InterSearch(b,n);\n",
    "print \"Press any key to continue...\",\n",
    "raw_input()"
   ]
  },
  {
   "cell_type": "markdown",
   "metadata": {},
   "source": [
    "## Example 4, page no. 217"
   ]
  },
  {
   "cell_type": "code",
   "execution_count": 6,
   "metadata": {
    "collapsed": false
   },
   "outputs": [
    {
     "name": "stdout",
     "output_type": "stream",
     "text": [
      "Enter the total number of list: 3\n",
      " Enter the elements in the list \n",
      "Input number  1 : 5\n",
      " Input number  2 : 10\n",
      " Input number  3 : 15\n",
      " Enter the number to be searched: 10\n",
      " The number is in the list...\n",
      "\n"
     ]
    },
    {
     "data": {
      "text/plain": [
       "''"
      ]
     },
     "execution_count": 6,
     "metadata": {},
     "output_type": "execute_result"
    }
   ],
   "source": [
    "def fib(n):\n",
    "    f1 = 0\n",
    "    f2 = 1\n",
    "    for i in range(n):\n",
    "        temp = f2\n",
    "        f2 = (f1+f2)\n",
    "        f1 = temp\n",
    "    return f2\n",
    "\n",
    "def fibonacci_search(lst, n, item):\n",
    "    j = 1\n",
    "    while(fib(j)<n):\n",
    "        f1 = fib(j-2)\n",
    "        j += 1\n",
    "    f2 = fib(j-3)\n",
    "    mid = n-(f1+1);\n",
    "    while (item != lst[mid]):\n",
    "        if(mid<0 or item > lst[mid]):\n",
    "            if (f1==1):\n",
    "                return -1\n",
    "            mid = mid+f2\n",
    "            f1 = f1-f2\n",
    "            f2 = f2-f1\n",
    "        else:\n",
    "            if (f2==0):\n",
    "                return -1\n",
    "            mid = mid-f2\n",
    "            t = f1-f2\n",
    "            f1 = f2\n",
    "            f2 = t\n",
    "    return mid\n",
    "        \n",
    "lst = []\n",
    "print \"Enter the total number of list: \",\n",
    "n = int(raw_input())\n",
    "print \"Enter the elements in the list \"\n",
    "for i in range(n):\n",
    "    print \"Input number \", i+1, \": \",\n",
    "    lst.append(int(raw_input()))\n",
    "print \"Enter the number to be searched: \",\n",
    "item = int(raw_input())\n",
    "loc = fibonacci_search(lst, n, item)\n",
    "if (loc != -1):\n",
    "    print \"The number is in the list...\"\n",
    "else:\n",
    "    print \"The number is not in the list...\"\n",
    "raw_input()"
   ]
  }
 ],
 "metadata": {
  "kernelspec": {
   "display_name": "Python 2",
   "language": "python",
   "name": "python2"
  },
  "language_info": {
   "codemirror_mode": {
    "name": "ipython",
    "version": 2
   },
   "file_extension": ".py",
   "mimetype": "text/x-python",
   "name": "python",
   "nbconvert_exporter": "python",
   "pygments_lexer": "ipython2",
   "version": "2.7.6"
  }
 },
 "nbformat": 4,
 "nbformat_minor": 0
}
