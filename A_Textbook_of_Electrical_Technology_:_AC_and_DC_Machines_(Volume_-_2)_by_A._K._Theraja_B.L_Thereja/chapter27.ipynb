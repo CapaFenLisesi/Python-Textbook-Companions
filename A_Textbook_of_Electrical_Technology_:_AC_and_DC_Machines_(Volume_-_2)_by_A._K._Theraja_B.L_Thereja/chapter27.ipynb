{
 "metadata": {
  "name": "",
  "signature": "sha256:02f2208937b2d82cdc7150d6d9062a1310b3e2fcf2346b8c885c3f6fe2fe5405"
 },
 "nbformat": 3,
 "nbformat_minor": 0,
 "worksheets": [
  {
   "cells": [
    {
     "cell_type": "heading",
     "level": 1,
     "metadata": {},
     "source": [
      "Chapter 27: Armature Reaction and Commutation"
     ]
    },
    {
     "cell_type": "heading",
     "level": 2,
     "metadata": {},
     "source": [
      "Example Number 27.1, Page Number:943"
     ]
    },
    {
     "cell_type": "code",
     "collapsed": false,
     "input": [
      "#variable declaration\n",
      "p=4\n",
      "z=722\n",
      "ia=100.0#A\n",
      "theta_m=8.0#degrees\n",
      "\n",
      "#calculatons\n",
      "i=ia/2\n",
      "atd_perpole=z*i*theta_m/360\n",
      "atc_perpole=z*i*((1/(2.0*p))-(theta_m/360.0))\n",
      "\n",
      "#result\n",
      "print \"armature demagnetization=\",atd_perpole\n",
      "print \"cross-magnetization=\",atc_perpole"
     ],
     "language": "python",
     "metadata": {},
     "outputs": [
      {
       "output_type": "stream",
       "stream": "stdout",
       "text": [
        "armature demagnetization= 802.222222222\n",
        "cross-magnetization= 3710.27777778\n"
       ]
      }
     ],
     "prompt_number": 1
    },
    {
     "cell_type": "heading",
     "level": 2,
     "metadata": {},
     "source": [
      "Example Number 27.2, Page Number:943"
     ]
    },
    {
     "cell_type": "code",
     "collapsed": false,
     "input": [
      "#variable declaration\n",
      "p=8\n",
      "z=1280\n",
      "v=500#V\n",
      "ia=200.0#A\n",
      "commuter=160\n",
      "advanced_segments=4\n",
      "\n",
      "#calculatons\n",
      "i=ia/8\n",
      "theta_m=advanced_segments*360/commuter\n",
      "atd_perpole=z*i*theta_m/360\n",
      "atc_perpole=z*i*((1/(2.0*p))-(theta_m/360.0))\n",
      "\n",
      "#result\n",
      "print \"armature demagnetization=\",atd_perpole\n",
      "print \"cross-magnetization=\",atc_perpole"
     ],
     "language": "python",
     "metadata": {},
     "outputs": [
      {
       "output_type": "stream",
       "stream": "stdout",
       "text": [
        "armature demagnetization= 800.0\n",
        "cross-magnetization= 1200.0\n"
       ]
      }
     ],
     "prompt_number": 12
    },
    {
     "cell_type": "heading",
     "level": 2,
     "metadata": {},
     "source": [
      "Example Number 27.3(a), Page Number:943"
     ]
    },
    {
     "cell_type": "code",
     "collapsed": false,
     "input": [
      "#variable declaration\n",
      "p=4\n",
      "z=880\n",
      "ia=120.0#A\n",
      "theta_m=3.0#degrees\n",
      "n=1100#tturns/pole\n",
      "#calculatons\n",
      "i=ia/2\n",
      "atd_perpole=z*i*theta_m/360\n",
      "atc_perpole=z*i*((1/(2.0*p))-(theta_m/360.0))\n",
      "iadditional=(atd_perpole/n)\n",
      "\n",
      "\n",
      "#result\n",
      "print \"a)armature demagnetization=\",atd_perpole,\"AT\"\n",
      "print \"b)cross-magnetization=\",atc_perpole,\"AT\"\n",
      "print \"c)additional field current=\",iadditional,\"A\""
     ],
     "language": "python",
     "metadata": {},
     "outputs": [
      {
       "output_type": "stream",
       "stream": "stdout",
       "text": [
        "a)armature demagnetization= 440.0 AT\n",
        "b)cross-magnetization= 6160.0 AT\n",
        "c)additional field current= 0.4 A\n"
       ]
      }
     ],
     "prompt_number": 17
    },
    {
     "cell_type": "heading",
     "level": 2,
     "metadata": {},
     "source": [
      "Example Number 27.3(b), Page Number:943"
     ]
    },
    {
     "cell_type": "code",
     "collapsed": false,
     "input": [
      "#variable declaration\n",
      "p=4\n",
      "z=480\n",
      "ia=150.0#A\n",
      "theta_m=10.0*2#degrees\n",
      "\n",
      "#calculatons\n",
      "i=ia/4\n",
      "total=(z*i)/(2*p)\n",
      "atd_perpole=total*(2*theta_m/180)\n",
      "atc_perpole=total*(1-(2*theta_m/180))\n",
      "\n",
      "#result\n",
      "print \"armature demagnetization=\",atd_perpole\n",
      "print \"cross-magnetization=\",atc_perpole"
     ],
     "language": "python",
     "metadata": {},
     "outputs": [
      {
       "output_type": "stream",
       "stream": "stdout",
       "text": [
        "armature demagnetization= 500.0\n",
        "cross-magnetization= 1750.0\n"
       ]
      }
     ],
     "prompt_number": 27
    },
    {
     "cell_type": "heading",
     "level": 2,
     "metadata": {},
     "source": [
      "Example Number 27.4, Page Number:944"
     ]
    },
    {
     "cell_type": "code",
     "collapsed": false,
     "input": [
      "#variable declaration\n",
      "z=492\n",
      "theta_m=10.0\n",
      "ia=143.0+10.0\n",
      "\n",
      "#calculations\n",
      "i1=ia/2#wave wound\n",
      "i2=ia/4#lap wound\n",
      "atd_perpole1=z*i1*theta_m/360#wave wound\n",
      "extra_shunt1=atd_perpole1/theta_m\n",
      "atd_perpole2=z*i2*(theta_m/360.0)#lap wound\n",
      "extra_shunt2=atd_perpole2/theta_m\n",
      "#result\n",
      "print \"wave wound:\"\n",
      "print \"demagnetization per pole=\",atd_perpole1,\"AT\"\n",
      "print \"extra shunt field turns=\",int(extra_shunt1)\n",
      "print \"lap wound:\"\n",
      "print \"demagnetization per pole=\",atd_perpole2,\"AT\"\n",
      "print \"extra shunt field turns=\",int(extra_shunt2)"
     ],
     "language": "python",
     "metadata": {},
     "outputs": [
      {
       "output_type": "stream",
       "stream": "stdout",
       "text": [
        "wave wound:\n",
        "demagnetization per pole= 1045.5 AT\n",
        "extra shunt field turns= 104\n",
        "lap wound:\n",
        "demagnetization per pole= 522.75 AT\n",
        "extra shunt field turns= 52\n"
       ]
      }
     ],
     "prompt_number": 32
    },
    {
     "cell_type": "heading",
     "level": 2,
     "metadata": {},
     "source": [
      "Example Number 27.5, Page Number:944"
     ]
    },
    {
     "cell_type": "code",
     "collapsed": false,
     "input": [
      "#variable declaration\n",
      "pole=4\n",
      "p=50*1000.0#W\n",
      "v=250.0#V\n",
      "z=400\n",
      "commuter=4\n",
      "rsh=50.0#ohm\n",
      "a=2\n",
      "\n",
      "#calculations\n",
      "i=p/v\n",
      "ish=v/rsh\n",
      "ia=i+ish\n",
      "i=ia/2\n",
      "segments=z/a\n",
      "theta=pole*360.0/segments\n",
      "atd=z*i*(theta/360)\n",
      "extra=atd/ish\n",
      "\n",
      "#result\n",
      "print \"demagnetisation=\",atd,\"AT\"\n",
      "print \"extra shunt turns/poles\",extra"
     ],
     "language": "python",
     "metadata": {},
     "outputs": [
      {
       "output_type": "stream",
       "stream": "stdout",
       "text": [
        "demagnetisation= 820.0 AT\n",
        "extra shunt turns/poles 164.0\n"
       ]
      }
     ],
     "prompt_number": 35
    },
    {
     "cell_type": "heading",
     "level": 2,
     "metadata": {},
     "source": [
      "Example Number 27.6, Page Number:943"
     ]
    },
    {
     "cell_type": "code",
     "collapsed": false,
     "input": [
      "#variable declaration\n",
      "z=500\n",
      "ia=200.0#A\n",
      "p=6\n",
      "theta=10.0#degrees\n",
      "lambda_=1.3\n",
      "\n",
      "#calculations\n",
      "i=ia/2\n",
      "atc=((1/(2.0*p))-(theta/360.0))*z*i\n",
      "atd=z*i*theta/360\n",
      "extra=lambda_*atd/ia\n",
      "\n",
      "#result\n",
      "print \"i)cross magnetization ampere-turns=\",atc\n",
      "print \"ii)back ampere-turns\",atd\n",
      "print \"iii)series turns required to balance the demagnetising ampere turns\",int(extra)"
     ],
     "language": "python",
     "metadata": {},
     "outputs": [
      {
       "output_type": "stream",
       "stream": "stdout",
       "text": [
        "i)cross magnetization ampere-turns= 2777.77777778\n",
        "ii)back ampere-turns 1388.88888889\n",
        "iii)series turns required to balance the demagnetising ampere turns 9\n"
       ]
      }
     ],
     "prompt_number": 45
    },
    {
     "cell_type": "heading",
     "level": 2,
     "metadata": {},
     "source": [
      "Example Number 27.7, Page Number:945"
     ]
    },
    {
     "cell_type": "code",
     "collapsed": false,
     "input": [
      "#variable declaration\n",
      "p=22.38#kW\n",
      "v=440.0#V\n",
      "pole=4\n",
      "z=840\n",
      "commutator=140\n",
      "efficiency=0.88\n",
      "ish=1.8#A\n",
      "back=1.5\n",
      "\n",
      "#calculations\n",
      "motor_input=p*1000.0/efficiency\n",
      "input_i=motor_input/v\n",
      "ia=input_i-ish\n",
      "i=ia/2.0\n",
      "theta=back*360/commutator\n",
      "atd=z*i*(theta/360.0)\n",
      "atc=((1/(2.0*pole))-(theta/360.0))*z*i\n",
      "#result\n",
      "print \"armature demagnetization amp-turns/pole=\",atd\n",
      "print \"distorting amp-turns/pole=\",atc"
     ],
     "language": "python",
     "metadata": {},
     "outputs": [
      {
       "output_type": "stream",
       "stream": "stdout",
       "text": [
        "armature demagnetization amp-turns/pole= 251.998140496\n",
        "distorting amp-turns/pole= 2687.98016529\n"
       ]
      }
     ],
     "prompt_number": 59
    },
    {
     "cell_type": "heading",
     "level": 2,
     "metadata": {},
     "source": [
      "Example Number 27.8, Page Number:945"
     ]
    },
    {
     "cell_type": "code",
     "collapsed": false,
     "input": [
      "#variable declaration\n",
      "v=400#V\n",
      "ia=1000#A\n",
      "p=10\n",
      "z=860\n",
      "per=0.7\n",
      "\n",
      "#calculations\n",
      "i=ia/p\n",
      "at=per/p*z*(i/2)\n",
      "\n",
      "#result\n",
      "print \"AT/pole for compensation winding=\",at"
     ],
     "language": "python",
     "metadata": {},
     "outputs": [
      {
       "output_type": "stream",
       "stream": "stdout",
       "text": [
        "AT/pole for compensation winding= 3010.0\n"
       ]
      }
     ],
     "prompt_number": 62
    },
    {
     "cell_type": "heading",
     "level": 2,
     "metadata": {},
     "source": [
      "Example Number 27.9, Page Number:948"
     ]
    },
    {
     "cell_type": "code",
     "collapsed": false,
     "input": [
      "#variable declaration\n",
      "n=800.0#rpm\n",
      "segment=123\n",
      "wb=3\n",
      "#calculations\n",
      "v=n/60.0*segment\n",
      "commutation=wb/v\n",
      "\n",
      "#result\n",
      "print \"commutation time=\",commutation*1000,\"millisecond\""
     ],
     "language": "python",
     "metadata": {},
     "outputs": [
      {
       "output_type": "stream",
       "stream": "stdout",
       "text": [
        "commutation time= 1.82926829268 millisecond\n"
       ]
      }
     ],
     "prompt_number": 64
    },
    {
     "cell_type": "heading",
     "level": 2,
     "metadata": {},
     "source": [
      "Example Number 27.10, Page Number:948"
     ]
    },
    {
     "cell_type": "code",
     "collapsed": false,
     "input": [
      "#variable declaration\n",
      "p=4\n",
      "n=1500#rpm\n",
      "d=30#cm\n",
      "ia=150#A\n",
      "wb=1.25#cm\n",
      "L=0.07*0.001#H\n",
      "\n",
      "#calculation\n",
      "i=ia/2\n",
      "v=3.14*d*(n/60)\n",
      "tc=wb/v\n",
      "E=L*2*i/tc\n",
      "\n",
      "#result\n",
      "print \"average emf=\",E,\"V\""
     ],
     "language": "python",
     "metadata": {},
     "outputs": [
      {
       "output_type": "stream",
       "stream": "stdout",
       "text": [
        "average emf= 19.782 V\n"
       ]
      }
     ],
     "prompt_number": 65
    },
    {
     "cell_type": "heading",
     "level": 2,
     "metadata": {},
     "source": [
      "Example Number 27.11, Page Number:949"
     ]
    },
    {
     "cell_type": "code",
     "collapsed": false,
     "input": [
      "import math\n",
      "#variable declaration\n",
      "segments=55\n",
      "n=900\n",
      "wb=1.74\n",
      "L=153*math.pow(10,-6)#H\n",
      "i=27#A\n",
      "\n",
      "#calculations\n",
      "v=segments*n/60\n",
      "Tc=wb/v\n",
      "E=L*2*i/Tc\n",
      "\n",
      "#result\n",
      "print \"average emf=\",E,\"V\"\n"
     ],
     "language": "python",
     "metadata": {},
     "outputs": [
      {
       "output_type": "stream",
       "stream": "stdout",
       "text": [
        "average emf= 3.91732758621 V\n"
       ]
      }
     ],
     "prompt_number": 67
    },
    {
     "cell_type": "heading",
     "level": 2,
     "metadata": {},
     "source": [
      "Example Number 27.12, Page Number:949"
     ]
    },
    {
     "cell_type": "code",
     "collapsed": false,
     "input": [
      "#variable declaration\n",
      "p=4\n",
      "n=1500.0#rpm\n",
      "ia=150.0#A\n",
      "z=64\n",
      "wb=1.2\n",
      "L=0.05#mH\n",
      "\n",
      "#calculations\n",
      "L=L*0.001\n",
      "v=n/60*z\n",
      "tc=wb/v\n",
      "i=ia/p\n",
      "#i.linear\n",
      "E1=L*2*i/tc\n",
      "#ii.sinusoidal\n",
      "E2=1.11*E1\n",
      "\n",
      "#result\n",
      "print \"Linear commutation,E=\",E1,\"V\"\n",
      "print \"Sinosoidal commutation,E=\",E2,\"V\"\n"
     ],
     "language": "python",
     "metadata": {},
     "outputs": [
      {
       "output_type": "stream",
       "stream": "stdout",
       "text": [
        "Linear commutation,E= 5.0 V\n",
        "Sinosoidal commutation,E= 5.55 V\n"
       ]
      }
     ],
     "prompt_number": 68
    },
    {
     "cell_type": "heading",
     "level": 2,
     "metadata": {},
     "source": [
      "Example Number 27.13, Page Number:951"
     ]
    },
    {
     "cell_type": "code",
     "collapsed": false,
     "input": [
      "import math\n",
      "#variable declaration\n",
      "p=6\n",
      "B=0.5#Wb/m2\n",
      "Ig=4.0#mm\n",
      "ia=500.0#A\n",
      "z=540\n",
      "\n",
      "#calculations\n",
      "arm_mmf=z*(ia/p)/(2*p)\n",
      "compole=int(B*Ig*0.001/(4*3.14*math.pow(10,-7)))\n",
      "mag=0.1*compole\n",
      "total_compole=int(compole+mag)\n",
      "total_mmf=arm_mmf+total_compole\n",
      "Ncp=total_mmf/ia\n",
      "\n",
      "#result\n",
      "print \"Number of turns on each commutating pole=\",int(Ncp)"
     ],
     "language": "python",
     "metadata": {},
     "outputs": [
      {
       "output_type": "stream",
       "stream": "stdout",
       "text": [
        "Number of turns on each commutating pole= 11\n"
       ]
      }
     ],
     "prompt_number": 89
    },
    {
     "cell_type": "heading",
     "level": 2,
     "metadata": {},
     "source": [
      "Example Number 27.14, Page Number:957"
     ]
    },
    {
     "cell_type": "code",
     "collapsed": false,
     "input": [
      "#variable declaration\n",
      "p1=100.0#kW\n",
      "V1=250#V\n",
      "p2=300.0#kW\n",
      "V2=250#V\n",
      "i1=200#A\n",
      "i2=500#A\n",
      "il=600#A\n",
      "\n",
      "#calculations\n",
      "delI1=p1/(p1+p2)*il\n",
      "delI2=p2/(p1+p2)*il\n",
      "\n",
      "#result\n",
      "print \"Current supplied by generator 1 with additional load=\",delI1,\"A\"\n",
      "print \"Current supplied by generator 2 with additional load=\",delI2,\"A\""
     ],
     "language": "python",
     "metadata": {},
     "outputs": [
      {
       "output_type": "stream",
       "stream": "stdout",
       "text": [
        "Current supplied by generator 1 with additional load= 150.0 A\n",
        "Current supplied by generator 2 with additional load= 450.0 A\n"
       ]
      }
     ],
     "prompt_number": 92
    },
    {
     "cell_type": "heading",
     "level": 2,
     "metadata": {},
     "source": [
      "Example Number 27.23, Page Number:963"
     ]
    },
    {
     "cell_type": "code",
     "collapsed": false,
     "input": [
      "#variable declaration\n",
      "va=400#V\n",
      "ra=0.25#ohm\n",
      "vb=410#V\n",
      "rb=0.4#ohm\n",
      "V=390#V\n",
      "\n",
      "#calculations\n",
      "loada=(va-V)/ra\n",
      "loadb=(vb-V)/rb\n",
      "pa=loada*V\n",
      "pb=loadb*V\n",
      "net_v=vb-va\n",
      "total_r=ra+rb\n",
      "i=net_v/total_r\n",
      "terminal_v=va+(i*ra)\n",
      "power_AtoB=terminal_v*i\n",
      "\n",
      "#result\n",
      "print \"Current=\",i,\"A\"\n",
      "print \"Voltage=\",terminal_v,\"V\"\n",
      "print \"Power=\",power_AtoB,\"W\"\n"
     ],
     "language": "python",
     "metadata": {},
     "outputs": [
      {
       "output_type": "stream",
       "stream": "stdout",
       "text": [
        "Current= 15.3846153846 A\n",
        "Voltage= 403.846153846 V\n",
        "Power= 6213.01775148 W\n"
       ]
      }
     ],
     "prompt_number": 4
    }
   ],
   "metadata": {}
  }
 ]
}