{
 "metadata": {
  "name": "",
  "signature": "sha256:ff974df8ce9486ee9f772d0135b1a24d04773e3e5aa89510038bd431059e4876"
 },
 "nbformat": 3,
 "nbformat_minor": 0,
 "worksheets": [
  {
   "cells": [
    {
     "cell_type": "heading",
     "level": 1,
     "metadata": {},
     "source": [
      "Chapter 16 Measurement set-up"
     ]
    },
    {
     "cell_type": "heading",
     "level": 2,
     "metadata": {},
     "source": [
      "Example 16.1 Page no 619"
     ]
    },
    {
     "cell_type": "code",
     "collapsed": false,
     "input": [
      "#Given\n",
      "fd=75                   #KHz\n",
      "fm=5.0                    #KHz\n",
      "\n",
      "#Calculation\n",
      "Mi=fd/fm\n",
      "\n",
      "#Result\n",
      "print\"Modulation index is \", Mi"
     ],
     "language": "python",
     "metadata": {},
     "outputs": [
      {
       "output_type": "stream",
       "stream": "stdout",
       "text": [
        "Modulation index is  15.0\n"
       ]
      }
     ],
     "prompt_number": 2
    }
   ],
   "metadata": {}
  }
 ]
}