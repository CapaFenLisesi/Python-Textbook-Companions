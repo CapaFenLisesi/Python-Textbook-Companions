{
 "cells": [
  {
   "cell_type": "markdown",
   "metadata": {},
   "source": [
    "# Chapter 1 - Feedback Amplifiers"
   ]
  },
  {
   "cell_type": "markdown",
   "metadata": {},
   "source": [
    "## Example 1.1 Page No.  1-47"
   ]
  },
  {
   "cell_type": "code",
   "execution_count": 2,
   "metadata": {
    "collapsed": false
   },
   "outputs": [
    {
     "name": "stdout",
     "output_type": "stream",
     "text": [
      "  R_L2 = R_c2 || (R_e1+Rf) =3.21 kohm\n",
      "  A_i2 = -hfe = -100\n",
      "  R_i2 = hie = 1100 ohm\n",
      "  A_v2 = A_i2*R_L2 / R_i2 =-291.82\n",
      "  A_i1 = -hfe = -100\n",
      "  R_L1 = R_c1 || R3 || R4 || R_i2 =995.48 ohm\n",
      "  R_i1 = hie + (1+hfe)*R_e1eff = 11.10 kohm            where Re1eff = (R_e1 || Rf)\n",
      "Therefore,  A_v1 = A_i1*RL1 / Ri1 =-8.96\n",
      "The overall voltage gain without feedback is given as,\n",
      "  Av = A_v1 * A_v2 =2614.71\n",
      "The overall voltage gain taking Rs in account is given as,\n",
      "  Av = Vo / Vs = Av*R_i1 / R_i1+Rs =2591.35\n",
      "\n",
      "Step 5: Calculate beta\n",
      "Looking at Fig.1.33.\n",
      "  beta = Vf / Vo =0.01\n",
      "  D = 1 + beta*Av =26.65\n",
      "  A_vf = Av/D =97.24\n",
      "  R_if = R_i1 * D =295.79 kohm\n",
      "  R''_if = R_if || R1 || R2 =18.73 kohm\n",
      "  R_of = Ro / D = infinity / D = infinity\n",
      "Therefore,  R''_of = R''_o / D          where R''_o = R_L2\n",
      "Therefore,  R''_of(in ohm) = 120.45 ohm\n"
     ]
    }
   ],
   "source": [
    "from __future__ import division\n",
    "rl2=(4.7*10.1)/(4.7+10.1) # in k-ohm\n",
    "print \"  R_L2 = R_c2 || (R_e1+Rf) =%0.2f kohm\"%rl2\n",
    "print \"  A_i2 = -hfe = -100\"\n",
    "print \"  R_i2 = hie = 1100 ohm\"\n",
    "av2=(-100*3.21*10**3)/1100\n",
    "print \"  A_v2 = A_i2*R_L2 / R_i2 =%0.2f\"%av2\n",
    "print \"  A_i1 = -hfe = -100\"\n",
    "rl1=(22*220*22*1.100)/((220*22*1.100)+(22*22*1.100)+(22*220*1.100)+(22*220*22))  # in ohm\n",
    "print \"  R_L1 = R_c1 || R3 || R4 || R_i2 =%0.2f ohm\"%(rl1*10**3)\n",
    "ri1=1.1+(101*((0.1*10)/(0.1+10)))  # in k-ohm\n",
    "print \"  R_i1 = hie + (1+hfe)*R_e1eff = %0.2f kohm            where Re1eff = (R_e1 || Rf)\"%ri1\n",
    "av1=(-100*995)/(11.099*10**3)\n",
    "print \"Therefore,  A_v1 = A_i1*RL1 / Ri1 =%0.2f\"%av1\n",
    "print \"The overall voltage gain without feedback is given as,\"\n",
    "av=-291.82*-8.96\n",
    "print \"  Av = A_v1 * A_v2 =%0.2f\"%av\n",
    "print \"The overall voltage gain taking Rs in account is given as,\"\n",
    "aV=(2614.7*11.099*10**3)/((11.099*10**3)+100)\n",
    "print \"  Av = Vo / Vs = Av*R_i1 / R_i1+Rs =%0.2f\"%aV\n",
    "print \"\"\n",
    "print \"Step 5: Calculate beta\"\n",
    "print \"Looking at Fig.1.33.\"\n",
    "beta=100/(100+(10*10**3))\n",
    "print \"  beta = Vf / Vo =%0.2f\"%beta\n",
    "d=1+(0.0099*2591.35)\n",
    "print \"  D = 1 + beta*Av =%0.2f\"%d\n",
    "avf=2591.35/26.65\n",
    "print \"  A_vf = Av/D =%0.2f\"%avf\n",
    "rif=26.65*11.099  # in k-ohm\n",
    "print \"  R_if = R_i1 * D =%0.2f kohm\"%rif\n",
    "riff=(295.788*220*22)/((220*22)+(295.788*22)+(295.788*220))  # in k-ohm\n",
    "print \"  R''_if = R_if || R1 || R2 =%0.2f kohm\"%riff\n",
    "print \"  R_of = Ro / D = infinity / D = infinity\"\n",
    "print \"Therefore,  R''_of = R''_o / D          where R''_o = R_L2\"\n",
    "roff=(3.21*10**3)/26.65  # in omh\n",
    "print \"Therefore,  R''_of(in ohm) = %0.2f ohm\"%roff"
   ]
  },
  {
   "cell_type": "markdown",
   "metadata": {},
   "source": [
    "## Example 1.2 Page No.  1-48"
   ]
  },
  {
   "cell_type": "code",
   "execution_count": 3,
   "metadata": {
    "collapsed": false
   },
   "outputs": [
    {
     "name": "stdout",
     "output_type": "stream",
     "text": [
      "A_vf = A / 1+A*beta =85.71\n"
     ]
    }
   ],
   "source": [
    "from __future__ import division\n",
    "avf=600/(1+(600*0.01))\n",
    "print \"A_vf = A / 1+A*beta =%0.2f\"%avf"
   ]
  },
  {
   "cell_type": "markdown",
   "metadata": {},
   "source": [
    "## Example 1.3 Page No.  1-48"
   ]
  },
  {
   "cell_type": "code",
   "execution_count": 5,
   "metadata": {
    "collapsed": false
   },
   "outputs": [
    {
     "name": "stdout",
     "output_type": "stream",
     "text": [
      "Given: beta = 0.04,  Distortion with feedback = 3%,  Distortion without feedback = 15%\n",
      "Therefore,  D =5.00\n",
      "where  D = 1 + A*beta = 5\n",
      "Therefore,  A =100.00\n"
     ]
    }
   ],
   "source": [
    "from __future__ import division\n",
    "print \"Given: beta = 0.04,  Distortion with feedback = 3%,  Distortion without feedback = 15%\"\n",
    "d=15/3\n",
    "print \"Therefore,  D =%0.2f\"%d\n",
    "print \"where  D = 1 + A*beta = 5\"\n",
    "a=4/0.04\n",
    "print \"Therefore,  A =%0.2f\"%a"
   ]
  },
  {
   "cell_type": "markdown",
   "metadata": {},
   "source": [
    "## Example 1.4 Page No.  1-49"
   ]
  },
  {
   "cell_type": "code",
   "execution_count": 8,
   "metadata": {
    "collapsed": false
   },
   "outputs": [
    {
     "name": "stdout",
     "output_type": "stream",
     "text": [
      "(a) Gain with feedback\n",
      "         AV_mid = Av_mid / 1+beta*Av_mid =19.61\n",
      "(b)      f_Lf(in Hz) = f_L / 1+beta*Av_mid =0.98\n",
      "(c)      f_Hf(in MHz) = f_H * (1+beta*Av_mid) =2.55\n"
     ]
    }
   ],
   "source": [
    "from __future__ import division\n",
    "print \"(a) Gain with feedback\"\n",
    "av=1000/(1+(0.05*1000))\n",
    "print \"         AV_mid = Av_mid / 1+beta*Av_mid =%0.2f\"%av\n",
    "flf=50/(1+(0.05*1000))  # in Hz\n",
    "print \"(b)      f_Lf(in Hz) = f_L / 1+beta*Av_mid =%0.2f\"%flf\n",
    "fhf=((50*10**3)*(1+(0.05*1000)))*10**-6  # in MHz\n",
    "print \"(c)      f_Hf(in MHz) = f_H * (1+beta*Av_mid) =%0.2f\"%fhf"
   ]
  },
  {
   "cell_type": "markdown",
   "metadata": {},
   "source": [
    "## Example 1.5 Page No.  1-49"
   ]
  },
  {
   "cell_type": "code",
   "execution_count": 9,
   "metadata": {
    "collapsed": false
   },
   "outputs": [
    {
     "name": "stdout",
     "output_type": "stream",
     "text": [
      "(a) beta:        -40 = 20*log[1+beta*A]\n",
      "Therefore,  1+beta*A = 100\n",
      "Therefore,      beta =0.10\n",
      "Gain of the amplifier with feedback is given as\n",
      "      A_Vf = A_V / 1+beta*A_V =10.00\n",
      "(b) To maintain output power 10 W, we should maintain output voltage constant and to maintain output constant with feedback gain required Vs is\n",
      "      V_sf(in V) = Vs * 100 =1.00\n",
      "(c) Second harmonic distortion is reduced by factor 1 + beta*A\n",
      "      D_2f(in percentage) = D_2 / 1+beta*A =0.10\n"
     ]
    }
   ],
   "source": [
    "from __future__ import division\n",
    "print \"(a) beta:        -40 = 20*log[1+beta*A]\"\n",
    "print \"Therefore,  1+beta*A = 100\"\n",
    "b=99/1000\n",
    "print \"Therefore,      beta =%0.2f\"%b\n",
    "print \"Gain of the amplifier with feedback is given as\"\n",
    "avf=1000/100\n",
    "print \"      A_Vf = A_V / 1+beta*A_V =%0.2f\"%avf\n",
    "print \"(b) To maintain output power 10 W, we should maintain output voltage constant and to maintain output constant with feedback gain required Vs is\"\n",
    "vsf=10*100*10**-3  # in V\n",
    "print \"      V_sf(in V) = Vs * 100 =%0.2f\"%vsf\n",
    "print \"(c) Second harmonic distortion is reduced by factor 1 + beta*A\"\n",
    "d2f=(0.1/100)*100 # in percentage\n",
    "print \"      D_2f(in percentage) = D_2 / 1+beta*A =%0.2f\"%d2f,"
   ]
  },
  {
   "cell_type": "markdown",
   "metadata": {},
   "source": [
    "## Example 1.6 Page No.  1-50"
   ]
  },
  {
   "cell_type": "code",
   "execution_count": 10,
   "metadata": {
    "collapsed": false
   },
   "outputs": [
    {
     "name": "stdout",
     "output_type": "stream",
     "text": [
      "(a) We know that\n",
      "              dAf/Af = 0.1/1+beta*A * dA/A\n",
      "Therefore,  1+beta*A = 37.5\n",
      "Therefore,  beta(in percentage) =1.82\n",
      "(b)     Af = A / 1+beta*A =53.33\n"
     ]
    }
   ],
   "source": [
    "from __future__ import division\n",
    "print \"(a) We know that\"\n",
    "print \"              dAf/Af = 0.1/1+beta*A * dA/A\"\n",
    "print \"Therefore,  1+beta*A = 37.5\"\n",
    "b=(36.5/2000)*100 # in percentage\n",
    "format(6)\n",
    "print \"Therefore,  beta(in percentage) =%0.2f\"%b\n",
    "af=2000/(1+(0.01825*2000))\n",
    "print \"(b)     Af = A / 1+beta*A =%0.2f\"%af"
   ]
  },
  {
   "cell_type": "markdown",
   "metadata": {},
   "source": [
    "## Example 1.7 Page No.  1-50"
   ]
  },
  {
   "cell_type": "code",
   "execution_count": 11,
   "metadata": {
    "collapsed": false
   },
   "outputs": [
    {
     "name": "stdout",
     "output_type": "stream",
     "text": [
      "The voltage gain of the amplifier with feedback is given as,\n",
      "A_vf = A / 1+A*beta  where  beta = 0.1 and A = 100\n",
      "Therefore,  A_vf =9.09\n",
      "The bandwidth of an amplifier with feedback is given by,\n",
      "B_wf = (1+A_mid*beta)f_H - f_L/(1+A_mid*beta)\n",
      "Assuming f_H >> f_L we have\n",
      "B_w = f_H  and  B_wf = (1+A_mid*beta)B_w\n",
      "Therefore,  B_wf(in kHz) =3300.00\n",
      "The gain bandwidth product before feedback can be given as\n",
      "Gain bandwidth product = A_v*B_w =30000000.00\n",
      "Gain bandwidth product after feedback= A_vf*B_wf =29997000.00\n",
      "If bandwidth is to be limited to 800 kHz we have f_Hf = 800 kHz assuming f_Hf >> f_Lf\n",
      "We know that\n",
      "B_wf = (1+A_vmid*beta)*f_H\n",
      "Therefore,  beta =0.02\n"
     ]
    }
   ],
   "source": [
    "from __future__ import division\n",
    "print \"The voltage gain of the amplifier with feedback is given as,\"\n",
    "print \"A_vf = A / 1+A*beta  where  beta = 0.1 and A = 100\"\n",
    "avf=100/(1+(100*0.1))\n",
    "print \"Therefore,  A_vf =%0.2f\"%avf\n",
    "print \"The bandwidth of an amplifier with feedback is given by,\"\n",
    "print \"B_wf = (1+A_mid*beta)f_H - f_L/(1+A_mid*beta)\"\n",
    "print \"Assuming f_H >> f_L we have\"\n",
    "print \"B_w = f_H  and  B_wf = (1+A_mid*beta)B_w\"\n",
    "bwf=(1+(100*0.1))*300\n",
    "print \"Therefore,  B_wf(in kHz) =%0.2f\"%bwf\n",
    "print \"The gain bandwidth product before feedback can be given as\"\n",
    "gbp=100*300*10**3\n",
    "print \"Gain bandwidth product = A_v*B_w =%0.2f\"%gbp\n",
    "gbpf=9.09*3300*10**3\n",
    "print \"Gain bandwidth product after feedback= A_vf*B_wf =%0.2f\"%gbpf\n",
    "print \"If bandwidth is to be limited to 800 kHz we have f_Hf = 800 kHz assuming f_Hf >> f_Lf\"\n",
    "print \"We know that\"\n",
    "print \"B_wf = (1+A_vmid*beta)*f_H\"\n",
    "b=((8/3)-1)/100\n",
    "print \"Therefore,  beta =%0.2f\"%b"
   ]
  },
  {
   "cell_type": "markdown",
   "metadata": {},
   "source": [
    "## Example 1.9 Page No.  1-52"
   ]
  },
  {
   "cell_type": "code",
   "execution_count": 12,
   "metadata": {
    "collapsed": false
   },
   "outputs": [
    {
     "name": "stdout",
     "output_type": "stream",
     "text": [
      "The voltage gain with feedback can be given as\n",
      "A_vf = A_v / 1+A_v*beta =19.90\n",
      "In a voltage series feedback input resistance with feedback is given as\n",
      "R_if = R_i(1+beta*A_v) =402.00 kohm\n",
      "In a voltage series feedback output resistance with feedback is given as\n",
      "R_of = Ro / 1+beta*A_v =298.51 ohm\n"
     ]
    }
   ],
   "source": [
    "from __future__ import division\n",
    "print \"The voltage gain with feedback can be given as\"\n",
    "avf=4000/(1+(4000*0.05))\n",
    "print \"A_vf = A_v / 1+A_v*beta =%0.2f\"%avf\n",
    "print \"In a voltage series feedback input resistance with feedback is given as\"\n",
    "rif=2*(1+(0.05*4000))\n",
    "print \"R_if = R_i(1+beta*A_v) =%0.2f kohm\"%rif\n",
    "rof=(60*10**3)/(1+(0.05*4000))\n",
    "print \"In a voltage series feedback output resistance with feedback is given as\"\n",
    "print \"R_of = Ro / 1+beta*A_v =%0.2f ohm\"%rof"
   ]
  },
  {
   "cell_type": "markdown",
   "metadata": {},
   "source": [
    "## Example 1.10 Page No.  1-52"
   ]
  },
  {
   "cell_type": "code",
   "execution_count": 14,
   "metadata": {
    "collapsed": false
   },
   "outputs": [
    {
     "name": "stdout",
     "output_type": "stream",
     "text": [
      "The voltage gain of amplifier can be given as\n",
      "A_v = Vo/V_in =1285.71\n",
      "(i)  beta = 0.012\n",
      "Therefore,  The gain of the amplifier with feedback is given as\n",
      "A_f = A_v / 1+A_v*beta =78.26\n",
      "The output voltage with feedback is given as\n",
      "Vo = A_f * V_in =2.19 V\n",
      "(ii) If the output remains constant at 36V, then the distortion produced within the active devices of the amplifier is unchanged. However, since the distortion at the output is less than in part (i) by a factor of 7, it follows that the feedback now increased by 7 and hence, the voltage gain decreased by 7. Thus, the input signal required to produce the same output (as in part(i)) without feedback must be:\n",
      "V_in = 0.20 V\n"
     ]
    }
   ],
   "source": [
    "from __future__ import division\n",
    "print \"The voltage gain of amplifier can be given as\"\n",
    "av=36/0.028\n",
    "print \"A_v = Vo/V_in =%0.2f\"%av\n",
    "print \"(i)  beta = 0.012\"\n",
    "print \"Therefore,  The gain of the amplifier with feedback is given as\"\n",
    "af=1285.7/(1+(1285.7*0.012))\n",
    "print \"A_f = A_v / 1+A_v*beta =%0.2f\"%af\n",
    "print \"The output voltage with feedback is given as\"\n",
    "vo=78.26*0.028\n",
    "print \"Vo = A_f * V_in =%0.2f V\"%vo\n",
    "vin=7*0.028\n",
    "print \"(ii) If the output remains constant at 36V, then the distortion produced within the active devices of the amplifier is unchanged. However, since the distortion at the output is less than in part (i) by a factor of 7, it follows that the feedback now increased by 7 and hence, the voltage gain decreased by 7. Thus, the input signal required to produce the same output (as in part(i)) without feedback must be:\"\n",
    "print \"V_in = %0.2f V\"%vin"
   ]
  },
  {
   "cell_type": "markdown",
   "metadata": {},
   "source": [
    "## Example 1.11 Page No.  1-53"
   ]
  },
  {
   "cell_type": "code",
   "execution_count": 18,
   "metadata": {
    "collapsed": false
   },
   "outputs": [
    {
     "name": "stdout",
     "output_type": "stream",
     "text": [
      "(i) The gain of the amplifier is given as\n",
      "60 dB = 20 log(Vo/V_s)\n",
      "Therefore,  A_v = Vo/V_s = 1000\n",
      "beta = 1/20 = 0.05\n",
      "Therefore,  The gain of amplifier with feedback is\n",
      "A_vf = A_v / 1+A_v*beta =19.61\n",
      "(ii) The gain of the amplifier is directly proportional to the g_m. Therefore, the gain of the amplifier without feedback changes as same amount as g_m changes\n",
      "Therefore,  A_v = A_v +- 0.5*A_v = 1000 +- 500\n",
      "The gain of the amplifier with feedback is now given as\n",
      "A_vf = A_v / 1+A_v*beta =19.74\n"
     ]
    }
   ],
   "source": [
    "from __future__ import division\n",
    "print \"(i) The gain of the amplifier is given as\"\n",
    "print \"60 dB = 20 log(Vo/V_s)\"\n",
    "print \"Therefore,  A_v = Vo/V_s = 1000\"\n",
    "print \"beta = 1/20 = 0.05\"\n",
    "print \"Therefore,  The gain of amplifier with feedback is\"\n",
    "avf=1000/(1+(1000*0.05))\n",
    "print \"A_vf = A_v / 1+A_v*beta =%0.2f\"%avf\n",
    "print \"(ii) The gain of the amplifier is directly proportional to the g_m. Therefore, the gain of the amplifier without feedback changes as same amount as g_m changes\"\n",
    "print \"Therefore,  A_v = A_v +- 0.5*A_v = 1000 +- 500\"\n",
    "print \"The gain of the amplifier with feedback is now given as\"\n",
    "avf1=1500/(1+(1500*0.05))\n",
    "avf2=500/(1+(500*0.05))\n",
    "print \"A_vf = A_v / 1+A_v*beta =%0.2f\"%avf1"
   ]
  },
  {
   "cell_type": "markdown",
   "metadata": {},
   "source": [
    "## Example 1.12 Page No.  1-54"
   ]
  },
  {
   "cell_type": "code",
   "execution_count": 19,
   "metadata": {
    "collapsed": false
   },
   "outputs": [
    {
     "name": "stdout",
     "output_type": "stream",
     "text": [
      "A_v = 1000 and beta = 0.1\n",
      "(i) f_Hf/f_H = 1 + beta*A_v =101.00\n",
      "and  f_Lf/f_L = 1 / 1+beta*A_v =0.01\n",
      "(ii) With f_L = 20 Hz and f_H = 50 kHz\n",
      "f_Lf =0.20 Hz\n",
      "f_Hf =5.05 MHz\n"
     ]
    }
   ],
   "source": [
    "from __future__ import division\n",
    "print \"A_v = 1000 and beta = 0.1\"\n",
    "fh=1+(0.1*1000)\n",
    "print \"(i) f_Hf/f_H = 1 + beta*A_v =%0.2f\"%fh\n",
    "fl=1/(1+(0.1*1000))\n",
    "format(7)\n",
    "print \"and  f_Lf/f_L = 1 / 1+beta*A_v =%0.2f\"%fl\n",
    "print \"(ii) With f_L = 20 Hz and f_H = 50 kHz\"\n",
    "fll=20*0.0099\n",
    "print \"f_Lf =%0.2f Hz\"%fll\n",
    "fhh=(50*101)*10**-3\n",
    "format(5)\n",
    "print \"f_Hf =%0.2f MHz\"%fhh"
   ]
  },
  {
   "cell_type": "markdown",
   "metadata": {},
   "source": [
    "## Example 1.13 Page No.  1-55"
   ]
  },
  {
   "cell_type": "code",
   "execution_count": 27,
   "metadata": {
    "collapsed": false
   },
   "outputs": [
    {
     "name": "stdout",
     "output_type": "stream",
     "text": [
      "The voltage gain of the amplifier is given as\n",
      "A_v = Vo/V_in =250.00\n",
      "We know that,\n",
      "B_2f = B_2 / 1+A_v*beta =0.02\n",
      "Therefore,  feedback ratio, beta\n",
      "A_vf = A_v / 1+A_v*beta =41.67\n",
      "To produce output voltage of 50 V V_in must be\n",
      "V_in = 50/A_vf =1.20\n"
     ]
    }
   ],
   "source": [
    "from __future__ import division\n",
    "print \"The voltage gain of the amplifier is given as\"\n",
    "av=50/0.2\n",
    "print \"A_v = Vo/V_in =%0.2f\"%av\n",
    "print \"We know that,\"\n",
    "b=((0.06/0.01)-1)/250\n",
    "print \"B_2f = B_2 / 1+A_v*beta =%0.2f\"%b\n",
    "print \"Therefore,  feedback ratio, beta\"\n",
    "avf=250/(1+(250*0.02))\n",
    "print \"A_vf = A_v / 1+A_v*beta =%0.2f\"%avf\n",
    "vin=50/41.66\n",
    "print \"To produce output voltage of 50 V V_in must be\"\n",
    "print \"V_in = 50/A_vf =%0.2f\"%vin"
   ]
  },
  {
   "cell_type": "markdown",
   "metadata": {},
   "source": [
    "## Example 1.14 Page No.  1-55"
   ]
  },
  {
   "cell_type": "code",
   "execution_count": 21,
   "metadata": {
    "collapsed": false
   },
   "outputs": [
    {
     "name": "stdout",
     "output_type": "stream",
     "text": [
      "Given A_vf = 120\n",
      "A_v = Vo/V_s = Vo/60mV\n",
      "and  A_vf = Vo/0.5\n",
      "Therefore,  Vo(in V) =60.00\n",
      "with  Vo = 60 V we have,\n",
      "A_v =1000.00\n",
      "We know that,\n",
      "A_vf = A_v / 1+A_v*beta\n",
      "Therefore,  beta =0.01\n"
     ]
    }
   ],
   "source": [
    "from __future__ import division\n",
    "print \"Given A_vf = 120\"\n",
    "print \"A_v = Vo/V_s = Vo/60mV\"\n",
    "print \"and  A_vf = Vo/0.5\"\n",
    "vo=0.5*120\n",
    "print \"Therefore,  Vo(in V) =%0.2f\"%vo\n",
    "print \"with  Vo = 60 V we have,\"\n",
    "av=60/(60*10**-3)\n",
    "print \"A_v =%0.2f\"%av\n",
    "b=((1000/120)-1)/1000\n",
    "print \"We know that,\"\n",
    "print \"A_vf = A_v / 1+A_v*beta\"\n",
    "print \"Therefore,  beta =%0.2f\"%b"
   ]
  },
  {
   "cell_type": "markdown",
   "metadata": {},
   "source": [
    "## Example 1.15 Page No.  1-56"
   ]
  },
  {
   "cell_type": "code",
   "execution_count": 23,
   "metadata": {
    "collapsed": false
   },
   "outputs": [
    {
     "name": "stdout",
     "output_type": "stream",
     "text": [
      "Step 1: Identify topology\n",
      "  By shorting output(Vo = 0), feedback voltage V_f becomes zero, hence it is a voltage sampling. Since feedback is mixed in series with input the topology is voltage series feedback amplifier\n",
      "\n",
      "Step 2 and Step 3: Find input and output circuit.\n",
      "  To find input circuit, set Vo = 0. This places the parallel combination of resistors 3.3K and 3.3K at the first emitter. To find output circuit, set Ii = 0. This places resistors 3.3K and 3.3K in series across the output. The resultant circuit is shown in fig 1.48\n",
      "\n",
      "Step 4: Replace transistor with its h-parameter equivalent as shown in fig.1.49\n",
      "\n",
      "Step 5: Find open loop transfer gain.\n",
      "A_v = A_v1*A_v2\n",
      "    = V_i2/V_i1 * Vo/V_i2\n",
      "    = Vo/V_i2 = -h_fe*R_L2 / R_i2\n",
      "where  R_L2(in k-ohm) =6.60 kohm\n",
      "and  R_i2 = h_ie = 2 K\n",
      "Therefore,  A_v2 = Vo/V_i2 =-165.00\n",
      "V_i2/V_i1 = -h_fe*R_L1 / R_i1\n",
      "where  R_L1(in k-ohm) =1.92 kohm\n",
      "and  R_i = [h_ie + (1+h_fe)(3.3K||3.3K)]\n",
      "Therefore,  R_i1 = 86.15 kohm\n",
      "Therefore,  A_v1 = V_i2/V_i1 =-1.11\n",
      "Therefore,  A_v =183.81\n",
      "\n",
      "Step 6: Calculate beta\n",
      "beta = V_f/Vo =0.50\n",
      "We know that,  D = 1 + beta*A_v :\n",
      "A_vf = A_v/D =1.98\n"
     ]
    }
   ],
   "source": [
    "from __future__ import division\n",
    "print \"Step 1: Identify topology\"\n",
    "print \"  By shorting output(Vo = 0), feedback voltage V_f becomes zero, hence it is a voltage sampling. Since feedback is mixed in series with input the topology is voltage series feedback amplifier\"\n",
    "print \"\"\n",
    "print \"Step 2 and Step 3: Find input and output circuit.\"\n",
    "print \"  To find input circuit, set Vo = 0. This places the parallel combination of resistors 3.3K and 3.3K at the first emitter. To find output circuit, set Ii = 0. This places resistors 3.3K and 3.3K in series across the output. The resultant circuit is shown in fig 1.48\"\n",
    "print \"\"\n",
    "print \"Step 4: Replace transistor with its h-parameter equivalent as shown in fig.1.49\"\n",
    "print \"\"\n",
    "print \"Step 5: Find open loop transfer gain.\"\n",
    "print \"A_v = A_v1*A_v2\"\n",
    "print \"    = V_i2/V_i1 * Vo/V_i2\"\n",
    "print \"    = Vo/V_i2 = -h_fe*R_L2 / R_i2\"\n",
    "rl2=3.3+3.3\n",
    "print \"where  R_L2(in k-ohm) =%0.2f kohm\"%rl2\n",
    "print \"and  R_i2 = h_ie = 2 K\"\n",
    "voi=(-50*6.6)/2\n",
    "print \"Therefore,  A_v2 = Vo/V_i2 =%0.2f\"%voi\n",
    "print \"V_i2/V_i1 = -h_fe*R_L1 / R_i1\"\n",
    "rl1=((51*2)/(53))\n",
    "print \"where  R_L1(in k-ohm) =%0.2f kohm\"%rl1\n",
    "print \"and  R_i = [h_ie + (1+h_fe)(3.3K||3.3K)]\"\n",
    "ri=2+(51*1.65)\n",
    "print \"Therefore,  R_i1 = %0.2f kohm\"%ri\n",
    "vi21=(-50*1.92)/(86.15)\n",
    "print \"Therefore,  A_v1 = V_i2/V_i1 =%0.2f\"%vi21\n",
    "av=-165*-1.114\n",
    "print \"Therefore,  A_v =%0.2f\"%av\n",
    "print \"\"\n",
    "print \"Step 6: Calculate beta\"\n",
    "be=3.3/6.6\n",
    "print \"beta = V_f/Vo =%0.2f\"%be\n",
    "print \"We know that,  D = 1 + beta*A_v :\"\n",
    "avf=183.86/92.93\n",
    "print \"A_vf = A_v/D =%0.2f\"%avf"
   ]
  },
  {
   "cell_type": "markdown",
   "metadata": {},
   "source": [
    "## Example 1.16 Page No.  1-58"
   ]
  },
  {
   "cell_type": "code",
   "execution_count": 25,
   "metadata": {
    "collapsed": false
   },
   "outputs": [
    {
     "name": "stdout",
     "output_type": "stream",
     "text": [
      "Step 1: Identify topology\n",
      "  By shorting output(Vo = 0), feedback voltage V_f becomes zero.The feedback is mixed in series feedback.\n",
      "\n",
      "Step 2 and Step 3: Find input and output circuit.\n",
      "  To find input circuit, set Vo = 0. This places the parallel combination of resistors 10K and 1K at the first emitter. To find output circuit, set Ii = 0. This places resistors 10K and 1K in series across the output. The resultant circuit is shown in fig 1.51.\n",
      "\n",
      "Step 4: Replace transistor with its h-parameter equivalent as shown in fig.1.52.\n",
      "\n",
      "Step 5: Find open loop transfer gain.\n",
      "A_v = A_v1*A_v2\n",
      "    = V_i2/V_i1 * Vo/V_i2\n",
      "Vo/V_i2 = -h_fe*R_L2 / R_i2\n",
      "where  R_L2 = 3.48 kohm\n",
      "and  R_i2 = h_ic = 1.1 K\n",
      "Therefore,  Vo/V_i2 =-158.36\n",
      "V_i2/V_i1 = -h_fe*R_L1 / R_i1\n",
      "where  R_L1 = 523.81 ohm\n",
      "and  R_i = 82K || [h_ie + (1+h_fe)(1K||10K)]\n",
      "Therefore,  R_i = 30.06 kohm\n",
      "Therefore,  V_i2/V_i1 =-0.87\n",
      "Therefore,  A_v =140.62\n",
      "\n",
      "Step 6: Calculate beta\n",
      "beta = V_f/Vo =0.10\n",
      "\n",
      "Step 7: Calculate A_vf, R_if and R''_of\n",
      "D = 1 + beta*A_v =15.06\n",
      "A_vf = A/D =9.34\n",
      "R_if = R_i*D =451.86 kohm\n",
      "R''_o = R_L2 = 3.484 k-ohm\n",
      "R''_of = R''_o/D =231.31 ohm\n"
     ]
    }
   ],
   "source": [
    "from __future__ import division\n",
    "print \"Step 1: Identify topology\"\n",
    "print \"  By shorting output(Vo = 0), feedback voltage V_f becomes zero.The feedback is mixed in series feedback.\"\n",
    "print \"\"\n",
    "print \"Step 2 and Step 3: Find input and output circuit.\"\n",
    "print \"  To find input circuit, set Vo = 0. This places the parallel combination of resistors 10K and 1K at the first emitter. To find output circuit, set Ii = 0. This places resistors 10K and 1K in series across the output. The resultant circuit is shown in fig 1.51.\"\n",
    "print \"\"\n",
    "print \"Step 4: Replace transistor with its h-parameter equivalent as shown in fig.1.52.\"\n",
    "print \"\"\n",
    "print \"Step 5: Find open loop transfer gain.\"\n",
    "print \"A_v = A_v1*A_v2\"\n",
    "print \"    = V_i2/V_i1 * Vo/V_i2\"\n",
    "print \"Vo/V_i2 = -h_fe*R_L2 / R_i2\"\n",
    "rl2=(5.1*11)/(16.1)\n",
    "print \"where  R_L2 = %0.2f kohm\"%rl2\n",
    "print \"and  R_i2 = h_ic = 1.1 K\"\n",
    "voi=(-50*3.484)/1.1\n",
    "print \"Therefore,  Vo/V_i2 =%0.2f\"%voi\n",
    "print \"V_i2/V_i1 = -h_fe*R_L1 / R_i1\"\n",
    "rl1=((1.1*1)/(2.1))*10**3\n",
    "print \"where  R_L1 = %0.2f ohm\"%rl1  #answer in text book is wrong\n",
    "print \"and  R_i = 82K || [h_ie + (1+h_fe)(1K||10K)]\"\n",
    "ri=((82*47.459)/(82+47.459))\n",
    "print \"Therefore,  R_i = %0.2f kohm\"%ri\n",
    "vi21=(-50*523.8)/(30*10**3)\n",
    "print \"Therefore,  V_i2/V_i1 =%0.2f\"%vi21\n",
    "av=-158.36*-0.888\n",
    "print \"Therefore,  A_v =%0.2f\"%av\n",
    "print \"\"\n",
    "print \"Step 6: Calculate beta\"\n",
    "be=1/10\n",
    "print \"beta = V_f/Vo =%0.2f\"%be\n",
    "print \"\"\n",
    "print \"Step 7: Calculate A_vf, R_if and R''_of\"\n",
    "d=1+(0.1*140.62)\n",
    "print \"D = 1 + beta*A_v =%0.2f\"%d\n",
    "avf=140.62/15.062\n",
    "print \"A_vf = A/D =%0.2f\"%avf\n",
    "rif=30*15.062\n",
    "print \"R_if = R_i*D =%0.2f kohm\"%rif\n",
    "print \"R''_o = R_L2 = 3.484 k-ohm\"\n",
    "rof=(3.484*10**3)/15.062\n",
    "print \"R''_of = R''_o/D =%0.2f ohm\"%rof"
   ]
  },
  {
   "cell_type": "markdown",
   "metadata": {},
   "source": [
    "## Example 1.17 Page No. 1-61"
   ]
  },
  {
   "cell_type": "code",
   "execution_count": 1,
   "metadata": {
    "collapsed": false
   },
   "outputs": [
    {
     "name": "stdout",
     "output_type": "stream",
     "text": [
      "Step 1: Identify topology\n",
      "  By shorting output voltage (Vo = 0), feedback voltage Vf becomes zero and hence it is voltage sampling. The feedback voltage is applied in series with the input voltage hence the topology is voltage series feedback.\n",
      "\n",
      "Step 2 and Step 3: Find input and output circuit.\n",
      "  To find input circuit, set Vo = 0. This places the parallel combination of resistor 10 K and 200 ohm at first source. To find output circuit, set Ii = 0. This places the resistor 10K and 200 ohm in series across the output. The resultant circuit is shown in fig 1.54.\n",
      "\n",
      "Step 4: Replace FET with its equivalent circuit as shown in fig.1.55.\n",
      "\n",
      "Step 5: Find open loop transfer gain.\n",
      "  Av = Vo / Vs = A_v1 * A_v2\n",
      "  A_v2 = -u*R_L2 / R_L2+r_d\n",
      "where  R_L2 = 8.38 kohm\n",
      "  A_v2 =-18.24\n",
      "  A_v1 = u*R_Deff / r_d+R_Deff+(1+u)*R_seff\n",
      "  R_Deff = R_D || R_G2 =44.89 kohm\n",
      "Therefore,  A_v1 =-28.59\n",
      "Therefore,  Av = A_v1 * A_v2 =521.40\n",
      "\n",
      "Step 6: Calculate beta\n",
      "  beta = Vf / Vo =0.02\n",
      "\n",
      "step 7: Calculate D, A_vf, R_if, R''_of\n",
      "  D = 1 + Av*beta =11.43\n",
      "  A_vf = Av / D =45.62\n",
      "Ri = R_G = 1 M-ohm\n",
      "  R_if = Ri * D =11.43 Mohm\n",
      "  R''o = rd =10.00 kohm\n",
      "  R''_of = R''o / D =875.06 ohm\n",
      "R''_o = 4.56 kohm\n",
      "Therefore,  R''_of = R''_o/D =398.94 ohm\n"
     ]
    }
   ],
   "source": [
    "from __future__ import division\n",
    "print \"Step 1: Identify topology\"\n",
    "print \"  By shorting output voltage (Vo = 0), feedback voltage Vf becomes zero and hence it is voltage sampling. The feedback voltage is applied in series with the input voltage hence the topology is voltage series feedback.\"\n",
    "print \"\"\n",
    "print \"Step 2 and Step 3: Find input and output circuit.\"\n",
    "print \"  To find input circuit, set Vo = 0. This places the parallel combination of resistor 10 K and 200 ohm at first source. To find output circuit, set Ii = 0. This places the resistor 10K and 200 ohm in series across the output. The resultant circuit is shown in fig 1.54.\"\n",
    "print \"\"\n",
    "print \"Step 4: Replace FET with its equivalent circuit as shown in fig.1.55.\"\n",
    "print \"\"\n",
    "print \"Step 5: Find open loop transfer gain.\"\n",
    "print \"  Av = Vo / Vs = A_v1 * A_v2\"\n",
    "print \"  A_v2 = -u*R_L2 / R_L2+r_d\"\n",
    "rl2=(10.2*47)/(10.2+47)  # in k-ohm\n",
    "print \"where  R_L2 = %0.2f kohm\"%rl2\n",
    "av2=(-40*8.38)/18.38\n",
    "print \"  A_v2 =%0.2f\"%av2\n",
    "print \"  A_v1 = u*R_Deff / r_d+R_Deff+(1+u)*R_seff\"\n",
    "rdeff=(47*1000)/(47+1000)  # in k-ohm\n",
    "print \"  R_Deff = R_D || R_G2 =%0.2f kohm\"%rdeff\n",
    "av1=(-40*44.98)/(10+44.89+(41*((0.2*10)/(10+0.2))))\n",
    "print \"Therefore,  A_v1 =%0.2f\"%av1\n",
    "av=-28.59*-18.237\n",
    "print \"Therefore,  Av = A_v1 * A_v2 =%0.2f\"%av\n",
    "print \"\"\n",
    "print \"Step 6: Calculate beta\"\n",
    "beta=200/(10000)\n",
    "print \"  beta = Vf / Vo =%0.2f\"%beta\n",
    "print \"\"\n",
    "print \"step 7: Calculate D, A_vf, R_if, R''_of\"\n",
    "d=1+(0.02*521.39)\n",
    "print \"  D = 1 + Av*beta =%0.2f\"%d\n",
    "avf=521.39/11.4278\n",
    "print \"  A_vf = Av / D =%0.2f\"%avf\n",
    "print \"Ri = R_G = 1 M-ohm\"\n",
    "rif=11.4278\n",
    "print \"  R_if = Ri * D =%0.2f Mohm\"%rif\n",
    "ro=10  # in k-ohm\n",
    "print \"  R''o = rd =%0.2f kohm\"%ro\n",
    "rof=(10*10**3)/11.4278  # in ohm\n",
    "print \"  R''_of = R''o / D =%0.2f ohm\"%rof\n",
    "rod=(10*8.38)/18.38\n",
    "print \"R''_o = %0.2f kohm\"%rod\n",
    "rofd=(4.559*10**3)/11.4278\n",
    "print \"Therefore,  R''_of = R''_o/D =%0.2f ohm\"%rofd"
   ]
  },
  {
   "cell_type": "markdown",
   "metadata": {},
   "source": [
    "## Example 1.18 Page No.  1-63"
   ]
  },
  {
   "cell_type": "code",
   "execution_count": 2,
   "metadata": {
    "collapsed": false
   },
   "outputs": [
    {
     "name": "stdout",
     "output_type": "stream",
     "text": [
      "Here, output voltage is sampled and fed in series with the input signal. Hence the topology is voltage series feedback.\n",
      "  The open loop voltage gain for one stage is given as,\n",
      "    Av = -gm*R_eq\n",
      "  R_eq = r_d || R_d || (R_i1+R_2) =6.62 kohm\n",
      "  Av =-33.10\n",
      "Av = Overall voltage gain = |A_vmid|**3 =-36297.57\n",
      "  beta = Vf / Vo = -R_1 / R_g = -R_1 / R_1+R_2 =0.00\n",
      "  D = 1 + |Av|*beta =2.82\n",
      "  A_vf = Av / D =-12895.96\n"
     ]
    }
   ],
   "source": [
    "from __future__ import division\n",
    "print \"Here, output voltage is sampled and fed in series with the input signal. Hence the topology is voltage series feedback.\"\n",
    "print \"  The open loop voltage gain for one stage is given as,\"\n",
    "print \"    Av = -gm*R_eq\"\n",
    "req=(8*40*1000)/((40*1000)+(8*1000)+(8*40))  # in k-ohm\n",
    "print \"  R_eq = r_d || R_d || (R_i1+R_2) =%0.2f kohm\"%req\n",
    "av=-5*6.62\n",
    "print \"  Av =%0.2f\"%av\n",
    "avm=-33.11**3\n",
    "print \"Av = Overall voltage gain = |A_vmid|**3 =%0.2f\"%avm  # answer in textbook is wrong\n",
    "beta=50/(10**6)\n",
    "print \"  beta = Vf / Vo = -R_1 / R_g = -R_1 / R_1+R_2 =%0.2f\"%beta\n",
    "d=1+((-5*10**-5)*-36306)\n",
    "print \"  D = 1 + |Av|*beta =%0.2f\"%d\n",
    "avf=-36306/2.8153\n",
    "print \"  A_vf = Av / D =%0.2f\"%avf"
   ]
  },
  {
   "cell_type": "markdown",
   "metadata": {},
   "source": [
    "## Example 1.19 Page No.  1-65"
   ]
  },
  {
   "cell_type": "code",
   "execution_count": 3,
   "metadata": {
    "collapsed": false
   },
   "outputs": [
    {
     "name": "stdout",
     "output_type": "stream",
     "text": [
      "Here, output terminals are B and ground, thus the forward gain is the gain of Q1 and it is,\n",
      "  A_v= -33.11\n",
      "Here  beta = V_f / V_B = V_f/V_o * V_o/V_C * V_C/V_B\n",
      "where V_B and V_C are voltages at point B and C, respectively.\n",
      "Therefore,  beta_BN = V_f/V_o * A_v3 * A_v2         because V_o/V_C = A_v3 and V_C/V_B = A_v2\n",
      "Therefore,  beta = 0.05\n",
      "Therefore,  |A_vf| = A_vf / 1+|A_f|*beta =-11.76\n"
     ]
    }
   ],
   "source": [
    "from __future__ import division\n",
    "print \"Here, output terminals are B and ground, thus the forward gain is the gain of Q1 and it is,\"\n",
    "print \"  A_v= -33.11\"\n",
    "print \"Here  beta = V_f / V_B = V_f/V_o * V_o/V_C * V_C/V_B\"\n",
    "print \"where V_B and V_C are voltages at point B and C, respectively.\"\n",
    "print \"Therefore,  beta_BN = V_f/V_o * A_v3 * A_v2         because V_o/V_C = A_v3 and V_C/V_B = A_v2\"\n",
    "bbn=(5*10**-5)*(33.11**2)\n",
    "print \"Therefore,  beta = %0.2f\"%bbn\n",
    "avf=-33.11/2.815\n",
    "print \"Therefore,  |A_vf| = A_vf / 1+|A_f|*beta =%0.2f\"%avf"
   ]
  },
  {
   "cell_type": "markdown",
   "metadata": {},
   "source": [
    "## Example 1.21 Page No.  1-67"
   ]
  },
  {
   "cell_type": "code",
   "execution_count": 4,
   "metadata": {
    "collapsed": false
   },
   "outputs": [
    {
     "name": "stdout",
     "output_type": "stream",
     "text": [
      "Step 1: Identify topology\n",
      "Making output voltage zero(Vo = 0)# feedback does not become zero and hence it is not voltage sampling. By opening the output loop feedback becomes zero and hence it is a current sampling. As I_i = I_s-I_f, the feedback current appears in shunt with the input signl and hence the topology is current shunt feedback\n",
      "\n",
      "Step 2 and Step 3: Find input and output circuit\n",
      "To find input circuit, set Vo = 0. This gives series combination of 20K and 1K across the input of the first transistor. To find output circuit, set V_i= 0. This gives parallel combination of 20K and 1K at emitter of the second transistor.The resultant circuit is shown in fig 1.61\n",
      "\n",
      "Step 4: Find open circuit current gain\n",
      "A_I = Io/I_s = -I_c2/I_s = -I_c2/I_b2 * I_b2/I_c1 * I_c1/I_b1 * I_b1/I_s\n",
      "-I_c2/I_b2 = -h_fe = -100\n",
      "I_b2/I_c1 = -R_c1 / R_i2+R_c1\n",
      "where  R_i2 = h_ie + (1+h_fe)R_e =98.19 kohm\n",
      "Therefore,  I_b2/I_c1 =-0.11\n",
      "I_c1/I_b1 = h_fe = 100\n",
      "I_b1/I_s =0.32\n",
      "Therefore,  A_I =352.07\n",
      "\n",
      "Step 5: Calculate beta\n",
      "beta = I_f/Io = R_e2/R_e2+R'' =0.17\n",
      "\n",
      "Therefore,  D = 1 + beta*A_I =59.68\n",
      "A_if = A_I/D =5.90\n",
      "R_i = 646.15 ohm\n",
      "R_if = R_i/D =10.83 ohm\n",
      "Ro = infinity\n",
      "Therefore,  R_of = infinity    because h_oe = 0\n",
      "R''_o = Ro || R_c2 = 4 k-ohm\n",
      "R''_of = R''_o = 4 k-ohm\n",
      "A_vf = A_If*R_L/R_s =23.60\n"
     ]
    }
   ],
   "source": [
    "print \"Step 1: Identify topology\"\n",
    "print \"Making output voltage zero(Vo = 0)# feedback does not become zero and hence it is not voltage sampling. By opening the output loop feedback becomes zero and hence it is a current sampling. As I_i = I_s-I_f, the feedback current appears in shunt with the input signl and hence the topology is current shunt feedback\"\n",
    "print \"\"\n",
    "print \"Step 2 and Step 3: Find input and output circuit\"\n",
    "print \"To find input circuit, set Vo = 0. This gives series combination of 20K and 1K across the input of the first transistor. To find output circuit, set V_i= 0. This gives parallel combination of 20K and 1K at emitter of the second transistor.The resultant circuit is shown in fig 1.61\"\n",
    "print \"\"\n",
    "print \"Step 4: Find open circuit current gain\"\n",
    "print \"A_I = Io/I_s = -I_c2/I_s = -I_c2/I_b2 * I_b2/I_c1 * I_c1/I_b1 * I_b1/I_s\"\n",
    "print \"-I_c2/I_b2 = -h_fe = -100\"\n",
    "print \"I_b2/I_c1 = -R_c1 / R_i2+R_c1\"\n",
    "ri2=2+(101*(20/21))\n",
    "print \"where  R_i2 = h_ie + (1+h_fe)R_e =%0.2f kohm\"%ri2\n",
    "ibc=(-12)/(98.19+12)\n",
    "print \"Therefore,  I_b2/I_c1 =%0.2f\"%ibc\n",
    "print \"I_c1/I_b1 = h_fe = 100\"\n",
    "ibs=(21/22)/(2+(21/22))\n",
    "print \"I_b1/I_s =%0.2f\"%ibs\n",
    "ai=100*0.109*0.323*100\n",
    "print \"Therefore,  A_I =%0.2f\"%ai\n",
    "print \"\"\n",
    "print \"Step 5: Calculate beta\"\n",
    "b=4/(24)\n",
    "print \"beta = I_f/Io = R_e2/R_e2+R'' =%0.2f\"%b\n",
    "print \"\"\n",
    "d=1+(0.1667*352)\n",
    "print \"Therefore,  D = 1 + beta*A_I =%0.2f\"%d\n",
    "aif=352/59.67\n",
    "print \"A_if = A_I/D =%0.2f\"%aif\n",
    "ri=((1*21*2)/((21*2)+(1*2)+(21*1)))*10**3\n",
    "print \"R_i = %0.2f ohm\"%ri\n",
    "rif=646/59.67\n",
    "print \"R_if = R_i/D =%0.2f ohm\"%rif\n",
    "print \"Ro = infinity\"\n",
    "print \"Therefore,  R_of = infinity    because h_oe = 0\"\n",
    "print \"R''_o = Ro || R_c2 = 4 k-ohm\"\n",
    "print \"R''_of = R''_o = 4 k-ohm\"\n",
    "avf=(5.9*4)\n",
    "print \"A_vf = A_If*R_L/R_s =%0.2f\"%avf"
   ]
  },
  {
   "cell_type": "markdown",
   "metadata": {},
   "source": [
    "## Example 1.22 Page No.  1-69"
   ]
  },
  {
   "cell_type": "code",
   "execution_count": 6,
   "metadata": {
    "collapsed": false
   },
   "outputs": [
    {
     "name": "stdout",
     "output_type": "stream",
     "text": [
      "Step 1: Identify topology\n",
      "Vo = 0, does not make feedback zero, but Io = 0 makes feedback to become zero and hence it is current sampling. The feedback is fed in shunt with the input signal, hence topology is current shunt feedback\n",
      "\n",
      "Step 2 and Step 3: Find input and output circuit\n",
      "To find input circuit, set Vo = 0. This gives series combination of R_e2 and 10K across the input. To find output circuit, set V1= 0. This gives parallel combination of R_e2 and 10K at E2.The resultant circuit is shown in fig 1.63\n",
      "\n",
      "Step 4: Replace transistor with its h-parameter equivalent as shown in fig 1.64\n",
      "\n",
      "Step 5 : Find open loop current gain\n",
      "A_I = Io/I_s = -I_c/I_s = -I_o/I_b2 * I_b2/I_c1 * I_c1/I_b1 * I_b1/I_s\n",
      "Io/I_b2 = -h_fe = -100\n",
      "I_c2/I_b2 * I_b1/I_e1 = -h_ie*R_c1 / R_i2+R_c2         because I_b2/I_c1 = R_c1/R_c1+R_i2\n",
      "where  R_i2 = h_ie + (1+h_fe)(1K||10K) =92.82 kohm\n",
      "Therefore,  I_b1/I_s =-2.32\n",
      "I_b1/I_s =0.48\n",
      "A_I =110.66\n",
      "Step 6: Calculate beta\n",
      "beta = R_e2/R_e2+R'' =0.09\n",
      "\n",
      "Step 6: Calculate D,A_If, A_vf, R_if, R_of\n",
      "D = 1 + beta*A_I =10.96\n",
      "A_if = A_I/D =10.01\n",
      "R_i = 478.26 ohm \n",
      "R_if = R_i/D =43.21 ohm\n",
      "Ro = infinity\n",
      "Therefore,  R_of = Ro*D = infinity    because h_oe = 0\n",
      "R''_o = 2.2 k-ohm\n",
      "R''_of = R''_o = 2.2 k-ohm\n"
     ]
    }
   ],
   "source": [
    "from __future__ import division\n",
    "print \"Step 1: Identify topology\"\n",
    "print \"Vo = 0, does not make feedback zero, but Io = 0 makes feedback to become zero and hence it is current sampling. The feedback is fed in shunt with the input signal, hence topology is current shunt feedback\"\n",
    "print \"\"\n",
    "print \"Step 2 and Step 3: Find input and output circuit\"\n",
    "print \"To find input circuit, set Vo = 0. This gives series combination of R_e2 and 10K across the input. To find output circuit, set V1= 0. This gives parallel combination of R_e2 and 10K at E2.The resultant circuit is shown in fig 1.63\"\n",
    "print \"\"\n",
    "print \"Step 4: Replace transistor with its h-parameter equivalent as shown in fig 1.64\"\n",
    "print \"\"\n",
    "print \"Step 5 : Find open loop current gain\"\n",
    "print \"A_I = Io/I_s = -I_c/I_s = -I_o/I_b2 * I_b2/I_c1 * I_c1/I_b1 * I_b1/I_s\"\n",
    "print \"Io/I_b2 = -h_fe = -100\"\n",
    "print \"I_c2/I_b2 * I_b1/I_e1 = -h_ie*R_c1 / R_i2+R_c2         because I_b2/I_c1 = R_c1/R_c1+R_i2\"\n",
    "ri2=1+(101*(10/11))\n",
    "print \"where  R_i2 = h_ie + (1+h_fe)(1K||10K) =%0.2f kohm\"%ri2\n",
    "ibb=(-100*2.2)/(92.818+2.2)\n",
    "print \"Therefore,  I_b1/I_s =%0.2f\"%ibb\n",
    "ibs=(11/12)/(1+(11/12))\n",
    "print \"I_b1/I_s =%0.2f\"%ibs\n",
    "ai=100*2.315*0.478\n",
    "print \"A_I =%0.2f\"%ai\n",
    "print \"Step 6: Calculate beta\"\n",
    "b=1/(11)\n",
    "print\"beta = R_e2/R_e2+R'' =%0.2f\"% b\n",
    "print \"\"\n",
    "print \"Step 6: Calculate D,A_If, A_vf, R_if, R_of\"\n",
    "d=1+(0.09*110.7)\n",
    "print \"D = 1 + beta*A_I =%0.2f\"%d  #answer in textbook is wrong\n",
    "aif=110.7/11.063\n",
    "print \"A_if = A_I/D =%0.2f\"%aif\n",
    "ri=((1*11*1)/((11*1)+(1*1)+(11*1)))*10**3\n",
    "print \"R_i = %0.2f ohm \"%ri\n",
    "rif=478/11.063\n",
    "print \"R_if = R_i/D =%0.2f ohm\"%rif\n",
    "print \"Ro = infinity\"\n",
    "print \"Therefore,  R_of = Ro*D = infinity    because h_oe = 0\"\n",
    "print \"R''_o = 2.2 k-ohm\"\n",
    "print \"R''_of = R''_o = 2.2 k-ohm\""
   ]
  },
  {
   "cell_type": "markdown",
   "metadata": {},
   "source": [
    "## Example 1.23 Page No.  1-72"
   ]
  },
  {
   "cell_type": "code",
   "execution_count": 8,
   "metadata": {
    "collapsed": false
   },
   "outputs": [
    {
     "name": "stdout",
     "output_type": "stream",
     "text": [
      "Step 1: Identify topology\n",
      "Here output voltage is sampled and fed in shunt with the input siganl such that, I_s-I_f = I_i, hence topology is voltage shunt feedback\n",
      "\n",
      "Step 2 and Step 3: Find input and output circuit\n",
      "To find input circuit, set Vo = 0. This places resistor R across the input. To find output circuit, set V_i = 0. This places resistor R across output. The resultant circuit is shown in fig 1.69\n",
      "\n",
      "Step 4: Replace transistor with its h-parameter equivalent circuits as shown in fig 1.67\n",
      "\n",
      "Step 5 : Find open loop transresistance\n",
      "R_M = Vo/I_s = R_c*Io/I_s = -R_c*I_c/I_s\n",
      "    = R_c * -I_c/I_b * I_b/I_s\n",
      "-I_c/I_b = -h_fe*R / R+R_c =-87.23\n",
      "I_b/I_s = Ro||R / R_s||(R+R_i1)\n",
      "R_i1 = h_ie + (1+h_fe)R_e =83.92 kohm\n",
      "Therefore,  I_b/I_s =0.01\n",
      "Therefore,  R_M = Vo/I_s =-12.14 kohm\n",
      "\n",
      "Step 6: Calculate beta\n",
      "beta = I_f/Io = V_i-Vo/Vo*R :\n",
      "     = -1/R = -0.000           because (Vo > V_i)\n",
      "\n",
      "Step 7: Calculate D, R_Mf, A_vf, R_if, R''_of\n",
      "D = 1 + beta*R_M =1.15\n",
      "R_Mf = R_M/D =-10.58 kohm\n",
      "A_vf = V0/V_s = Vo/I_s*R_s : \n",
      "     = R_Mf/R_s = -10.57         because R_Mf = Vo/I_s\n",
      "R_i = R_s || R_i1 || R =0.98 kohm\n",
      "R_if = R_i/D =850.17 ohm\n",
      "Ro = infinity\n",
      "Therefore,  R_of = infinity/D = infinity      because h_oe = 0\n",
      "R''_o = R || R_c =10.47 kohm\n",
      "R''_of = R''_o/D =9.12 kohm\n"
     ]
    }
   ],
   "source": [
    "from __future__ import division\n",
    "print \"Step 1: Identify topology\"\n",
    "print \"Here output voltage is sampled and fed in shunt with the input siganl such that, I_s-I_f = I_i, hence topology is voltage shunt feedback\"\n",
    "print \"\"\n",
    "print \"Step 2 and Step 3: Find input and output circuit\"\n",
    "print \"To find input circuit, set Vo = 0. This places resistor R across the input. To find output circuit, set V_i = 0. This places resistor R across output. The resultant circuit is shown in fig 1.69\"\n",
    "print \"\"\n",
    "print \"Step 4: Replace transistor with its h-parameter equivalent circuits as shown in fig 1.67\"\n",
    "print \"\"\n",
    "print \"Step 5 : Find open loop transresistance\"\n",
    "print \"R_M = Vo/I_s = R_c*Io/I_s = -R_c*I_c/I_s\"\n",
    "print \"    = R_c * -I_c/I_b * I_b/I_s\"\n",
    "icb=(-100*82)/94\n",
    "print \"-I_c/I_b = -h_fe*R / R+R_c =%0.2f\"%icb\n",
    "print \"I_b/I_s = Ro||R / R_s||(R+R_i1)\"\n",
    "ri1=1.1+(101*820*10**-3)\n",
    "print \"R_i1 = h_ie + (1+h_fe)R_e =%0.2f kohm\"%ri1\n",
    "ibs=(82/83)/(83.92+(82/83))\n",
    "print \"Therefore,  I_b/I_s =%0.2f\"%ibs\n",
    "rm=-87.23*12*0.0116\n",
    "print \"Therefore,  R_M = Vo/I_s =%0.2f kohm\"%rm\n",
    "print \"\"\n",
    "print \"Step 6: Calculate beta\"\n",
    "b=-1/(82*10**3)\n",
    "print \"beta = I_f/Io = V_i-Vo/Vo*R :\"\n",
    "print \"     = -1/R = %0.3f           because (Vo > V_i)\"%b\n",
    "print \"\"\n",
    "print \"Step 7: Calculate D, R_Mf, A_vf, R_if, R''_of\"\n",
    "d=1+(-1.22*-12.142*10**-2)\n",
    "print \"D = 1 + beta*R_M =%0.2f\"%d\n",
    "rmf=-12.142/1.148\n",
    "print \"R_Mf = R_M/D =%0.2f kohm\"%rmf\n",
    "avf=-10.57\n",
    "print \"A_vf = V0/V_s = Vo/I_s*R_s : \"\n",
    "print \"     = R_Mf/R_s = %0.2f         because R_Mf = Vo/I_s\"%avf\n",
    "ri=((1*82*83.92)/((82*83.92)+(1*83.92)+(82*1)))\n",
    "print \"R_i = R_s || R_i1 || R =%0.2f kohm\"%ri\n",
    "rif=(0.976*10**3)/1.148\n",
    "print \"R_if = R_i/D =%0.2f ohm\"%rif\n",
    "print \"Ro = infinity\"\n",
    "print \"Therefore,  R_of = infinity/D = infinity      because h_oe = 0\"\n",
    "ro=(12*82)/(94)\n",
    "print \"R''_o = R || R_c =%0.2f kohm\"%ro\n",
    "rof=(10.468)/1.148\n",
    "print \"R''_of = R''_o/D =%0.2f kohm\"%rof"
   ]
  },
  {
   "cell_type": "markdown",
   "metadata": {},
   "source": [
    "## Example 1.24 Page No.  1-75"
   ]
  },
  {
   "cell_type": "code",
   "execution_count": 9,
   "metadata": {
    "collapsed": false
   },
   "outputs": [
    {
     "name": "stdout",
     "output_type": "stream",
     "text": [
      "Step 1: Identify topology\n",
      "Here output voltage is sampled and fed in shunt with the input siganl such that, I_s-I_f = I_i, hence topology is voltage shunt feedback\n",
      "\n",
      "Step 2 and Step 3: Find input and output circuit\n",
      "To find input circuit, set Vo = 0. This places resistor R across the input. To find output circuit, set V_i = 0. This places resistor R across output. The resultant circuit is shown in fig 1.69. The circuit shows voltage source replaced by current source\n",
      "\n",
      "Step 4: Replace transistor with their h-parameter equivalent circuits as shown in fig 1.70\n",
      "\n",
      "Step 5 : Find open loop transfer gain\n",
      "R_M = Vo/I_s = R_c2*Io/I_s\n",
      "    = R_c2 * Io/I_b2 * I_b2/I_e1 * I_e1/I_b1 * I_b1/I_s\n",
      "Io/I_b2 = -h_ie*R / R+R_c2 =-30.14\n",
      "I_b2/I_e2 * I_e1/I_b1 = -h_ie*R / R+R_c2 =35.84\n",
      "I_b1/I_s = R_s||R / (R_s||R)+R_i1\n",
      "where  R_i1 = h_ie + (1+h_fe)R_e =113.10 kohm\n",
      "I_b1/I_s =0.01\n",
      "Therefore,  R_M = -33.27 kohm\n",
      "\n",
      "Step 6: Calculate beta\n",
      "beta = I_f/Io = V_i-Vo/Vo*R : \n",
      "     = -1/R = -0.00           because (Vo > V_i)\n",
      "\n",
      "Step 7: Calculate D, R_Mf, A_vf, R_if, R''_of\n",
      "D = 1 + beta*R_M =16.24\n",
      "R_Mf = R_M/D =-2.06 kohm\n",
      "A_vf = V0/V_s = Vo/I_s*R_s =-2.06\n",
      "R_i = R_s || R_i1 || R = 683.35 ohm\n",
      "R_if = R_i/D = 42.04 ohm\n",
      "Ro = infinity\n",
      "Therefore,  R_of = infinity/D = infinity\n",
      "R''_o = R || R_c2 =1.54 kohm\n",
      "R''_of = R''_o/D =94.61 ohm\n"
     ]
    }
   ],
   "source": [
    "from __future__ import division\n",
    "print \"Step 1: Identify topology\"\n",
    "print \"Here output voltage is sampled and fed in shunt with the input siganl such that, I_s-I_f = I_i, hence topology is voltage shunt feedback\"\n",
    "print \"\"\n",
    "print \"Step 2 and Step 3: Find input and output circuit\"\n",
    "print \"To find input circuit, set Vo = 0. This places resistor R across the input. To find output circuit, set V_i = 0. This places resistor R across output. The resultant circuit is shown in fig 1.69. The circuit shows voltage source replaced by current source\"\n",
    "print \"\"\n",
    "print \"Step 4: Replace transistor with their h-parameter equivalent circuits as shown in fig 1.70\"\n",
    "print \"\"\n",
    "print \"Step 5 : Find open loop transfer gain\"\n",
    "print \"R_M = Vo/I_s = R_c2*Io/I_s\"\n",
    "print \"    = R_c2 * Io/I_b2 * I_b2/I_e1 * I_e1/I_b1 * I_b1/I_s\"\n",
    "iob=(-100*2.2)/7.3\n",
    "print \"Io/I_b2 = -h_ie*R / R+R_c2 =%0.2f\"%iob\n",
    "iobe=(101*1.1)/3.1\n",
    "print \"I_b2/I_e2 * I_e1/I_b1 = -h_ie*R / R+R_c2 =%0.2f\"%iobe\n",
    "print \"I_b1/I_s = R_s||R / (R_s||R)+R_i1\"\n",
    "ri1=2+(101*1.1)\n",
    "print \"where  R_i1 = h_ie + (1+h_fe)R_e =%0.2f kohm\"%ri1\n",
    "ibs=(2.2/3.2)/((2.2/3.2)+(113.1))\n",
    "print \"I_b1/I_s =%0.2f\"%ibs\n",
    "rm=5.1*-30.137*35.84*6.04*10**-3\n",
    "print \"Therefore,  R_M = %0.2f kohm\"%rm\n",
    "print \"\"\n",
    "print \"Step 6: Calculate beta\"\n",
    "b=-1/(2.2*10**3)\n",
    "print \"beta = I_f/Io = V_i-Vo/Vo*R : \"\n",
    "print \"     = -1/R = %0.2f           because (Vo > V_i)\"%b\n",
    "print \"\"\n",
    "print \"Step 7: Calculate D, R_Mf, A_vf, R_if, R''_of\"\n",
    "d=1+(4.545*33.539*10**-1)\n",
    "print \"D = 1 + beta*R_M =%0.2f\"%d\n",
    "rmf=-33.539/16.245\n",
    "print \"R_Mf = R_M/D =%0.2f kohm\"%rmf\n",
    "avf=-2.065\n",
    "print \"A_vf = V0/V_s = Vo/I_s*R_s =%0.2f\"%avf\n",
    "ri=((1*113.1*2.2)/((113.1*2.2)+(1*113.1)+(2.2*1)))*10**3\n",
    "print \"R_i = R_s || R_i1 || R = %0.2f ohm\"%ri  #answer in textbook wrong\n",
    "rif=(683)/16.245\n",
    "print \"R_if = R_i/D = %0.2f ohm\"%rif\n",
    "print \"Ro = infinity\"\n",
    "print \"Therefore,  R_of = infinity/D = infinity\"\n",
    "ro=(2.2*5.1)/(7.3)\n",
    "print \"R''_o = R || R_c2 =%0.2f kohm\"%ro\n",
    "rof=(1.537*10**3)/16.245\n",
    "print \"R''_of = R''_o/D =%0.2f ohm\"%rof"
   ]
  },
  {
   "cell_type": "markdown",
   "metadata": {},
   "source": [
    "## Example 1.25 Page No.  1-78"
   ]
  },
  {
   "cell_type": "code",
   "execution_count": 12,
   "metadata": {
    "collapsed": false
   },
   "outputs": [
    {
     "name": "stdout",
     "output_type": "stream",
     "text": [
      "Step 1: Identify topology\n",
      "By making Vo = 0, feedback current becomes zero. Hence it is a voltage sampling. The feedback is fed in shunt with the input signal and thus the topology is voltage shunt feedback\n",
      "\n",
      "Step 2 and Step 3: Find input and output circuit\n",
      "To find input circuit, set Vo = 0. This places resistor R across the input. To find output circuit, set V_i = 0. This places resistor R across output. The resultant circuit is shown in fig 1.72\n",
      "\n",
      "Step 4: Replace FET with its equivalent circuit as shown in fig 1.73\n",
      "\n",
      "Step 5 : Find open loop transresistance\n",
      "R_M = Vo/I_s = -g_m*V_gs*R_eff/I_s\n",
      "where  R_eff = r_d || R || R_D =7.69 kohm\n",
      "and  V_gs = I_s*R_i = I_s * R_s||1M||R\n",
      "          = I_s * 10K||1M||200K\n",
      "          = 9.43*10**3 I_s\n",
      "R_M = -181.29 kohm\n",
      "\n",
      "Step 6: Calculate beta\n",
      "beta = I_f/Io = V_i-Vo/Vo*R : \n",
      "     = -1/R = -0.00           because (Vo > V_i)\n",
      "\n",
      "Step 7: Calculate D, R_Mf, A_vf, R_of, R''_of\n",
      "D = 1 + beta*R_M =1.91\n",
      "R_Mf = R_M/D =-95.42 kohm \n",
      "A_vf = V0/V_s = Vo/I_s*R_s = R_Mf/R_s =-9.54\n",
      "R_i = R_s || M || R =9.43 kohm\n",
      "R_if = R_i/D =4.96 kohm\n",
      "R''_o = r_eff = r_d || R || R_D =7.69 kohm\n",
      "R''_of = R''_o/D =4.05 kohm\n"
     ]
    }
   ],
   "source": [
    "from __future__ import division\n",
    "print \"Step 1: Identify topology\"\n",
    "print \"By making Vo = 0, feedback current becomes zero. Hence it is a voltage sampling. The feedback is fed in shunt with the input signal and thus the topology is voltage shunt feedback\"\n",
    "print \"\"\n",
    "print \"Step 2 and Step 3: Find input and output circuit\"\n",
    "print \"To find input circuit, set Vo = 0. This places resistor R across the input. To find output circuit, set V_i = 0. This places resistor R across output. The resultant circuit is shown in fig 1.72\"\n",
    "print \"\"\n",
    "print \"Step 4: Replace FET with its equivalent circuit as shown in fig 1.73\"\n",
    "print \"\"\n",
    "print \"Step 5 : Find open loop transresistance\"\n",
    "print \"R_M = Vo/I_s = -g_m*V_gs*R_eff/I_s\"\n",
    "reff=(40*200*10)/((200*10)+(400)+(40*200))\n",
    "print \"where  R_eff = r_d || R || R_D =%0.2f kohm\"%reff\n",
    "print \"and  V_gs = I_s*R_i = I_s * R_s||1M||R\"\n",
    "print \"          = I_s * 10K||1M||200K\"\n",
    "print \"          = 9.43*10**3 I_s\"\n",
    "rm=-2.5*9.43*7.69\n",
    "print \"R_M = %0.2f kohm\"%rm\n",
    "print \"\"\n",
    "print \"Step 6: Calculate beta\"\n",
    "b=-1/(200*10**3)\n",
    "print \"beta = I_f/Io = V_i-Vo/Vo*R : \"\n",
    "print \"     = -1/R = %0.2f           because (Vo > V_i)\"%b\n",
    "print \"\"\n",
    "print \"Step 7: Calculate D, R_Mf, A_vf, R_of, R''_of\"\n",
    "d=1+(5*181.29*10**-3)\n",
    "print \"D = 1 + beta*R_M =%0.2f\"%d\n",
    "rmf=-181.29/1.9\n",
    "print \"R_Mf = R_M/D =%0.2f kohm \"%rmf\n",
    "avf=-95.415/10\n",
    "print \"A_vf = V0/V_s = Vo/I_s*R_s = R_Mf/R_s =%0.2f\"%avf\n",
    "ri=(10*1000*200)/((1000*200)+(10*200)+(1000*10))\n",
    "print \"R_i = R_s || M || R =%0.2f kohm\"%ri\n",
    "rif=(9.43)/1.9\n",
    "print \"R_if = R_i/D =%0.2f kohm\"%rif\n",
    "ro=(40*200*10)/((200*10)+(400)+(40*200))\n",
    "print \"R''_o = r_eff = r_d || R || R_D =%0.2f kohm\"%ro\n",
    "rof=(7.69/1.9)\n",
    "print \"R''_of = R''_o/D =%0.2f kohm\"%rof"
   ]
  },
  {
   "cell_type": "markdown",
   "metadata": {},
   "source": [
    "## Example 1.26 Page No.  1-80"
   ]
  },
  {
   "cell_type": "code",
   "execution_count": 17,
   "metadata": {
    "collapsed": false
   },
   "outputs": [
    {
     "name": "stdout",
     "output_type": "stream",
     "text": [
      "Step 1: Identify topology\n",
      "The feedback voltage is applied across the resistance R_e1 and it is in series with input signal. Hence feedback is voltage series feedback\n",
      "\n",
      "Step 2 and Step 3: Find input and output circuit\n",
      "To find input circuit, set Vo = 0, which gives parallel combination of R_e1 with R_f at E1 as shown in fig 1.75. To find output circuit, set I_i = 0 opening the input node E1 at emitter of Q1, which gives series combination of R_f and R_e1 across the output. The resultant circuit is shown in fig 1.75\n",
      "\n",
      "Step 4: Find open loop voltage gain (A_v)\n",
      "R_L2 = R_c2 || (R_f+R_e1) =2.11 kohm\n",
      "A_i2 = -h_fe = -50\n",
      "R_i2 = h_ie = 1.2 k-ohm\n",
      "A_v2 = A_i2*R_L2 / R_i2 =-87.92\n",
      "R_L1 = R_c1 || R_i2 =1.19 kohm\n",
      "A_i1 = -h_fe = -50\n",
      "R_i1 = h_ie + (1+h_fe)R_e =75.51 kohm\n",
      "Therefore,  A_v1 = A_i1*R_L1 / R_i1 =-0.78\n",
      "The overall gain without feedback is given as\n",
      "A_v = A_v1*A_v2 =68.92\n",
      "\n",
      "Step 5: Calculate beta\n",
      "beta = V_f/Vo =0.03\n",
      "\n",
      "Step 6: Calculate D,A_vf, R_if, R_of\n",
      "D = 1 + beta*A_v =2.96\n",
      "A_vf = A_v/D =23.25\n",
      "R_i = R || R_i1 =54.83 kohm\n",
      "R_if = R_i/D =162.49 kohm\n",
      "Ro = infinity    because h_oe = 0\n",
      "R''_o = Ro || R_c2 || (R_f+R_e1) = Ro || R_L2 = infinity || 2.11 K = 2.11 K\n",
      "R''_of = R''_o/D =711.88 ohm\n"
     ]
    }
   ],
   "source": [
    "from __future__ import division\n",
    "print \"Step 1: Identify topology\"\n",
    "print \"The feedback voltage is applied across the resistance R_e1 and it is in series with input signal. Hence feedback is voltage series feedback\"\n",
    "print \"\"\n",
    "print \"Step 2 and Step 3: Find input and output circuit\"\n",
    "print \"To find input circuit, set Vo = 0, which gives parallel combination of R_e1 with R_f at E1 as shown in fig 1.75. To find output circuit, set I_i = 0 opening the input node E1 at emitter of Q1, which gives series combination of R_f and R_e1 across the output. The resultant circuit is shown in fig 1.75\"\n",
    "print \"\"\n",
    "print \"Step 4: Find open loop voltage gain (A_v)\"\n",
    "rl2=(2.2*52.5)/54.7\n",
    "print \"R_L2 = R_c2 || (R_f+R_e1) =%0.2f kohm\"%rl2\n",
    "print \"A_i2 = -h_fe = -50\"\n",
    "print \"R_i2 = h_ie = 1.2 k-ohm\"\n",
    "av2=(-50*2.11)/1.2\n",
    "print \"A_v2 = A_i2*R_L2 / R_i2 =%0.2f\"%av2\n",
    "rl1=(100*1.2)/101.2\n",
    "print \"R_L1 = R_c1 || R_i2 =%0.2f kohm\"%rl1\n",
    "print \"A_i1 = -h_fe = -50\"\n",
    "ri2=1.2+(51*(51*1.5/52.5))\n",
    "print \"R_i1 = h_ie + (1+h_fe)R_e =%0.2f kohm\"%ri2\n",
    "av1=(-50*1.185)/75.51\n",
    "print \"Therefore,  A_v1 = A_i1*R_L1 / R_i1 =%0.2f\"%av1\n",
    "print \"The overall gain without feedback is given as\"\n",
    "av=-0.784*-87.91\n",
    "print \"A_v = A_v1*A_v2 =%0.2f\"%av\n",
    "print \"\"\n",
    "print \"Step 5: Calculate beta\"\n",
    "b=1.5/52.5\n",
    "format(7)\n",
    "print \"beta = V_f/Vo =%0.2f\"%b\n",
    "print \"\"\n",
    "print \"Step 6: Calculate D,A_vf, R_if, R_of\"\n",
    "d=1+(0.0285*68.92)\n",
    "format(6)\n",
    "print \"D = 1 + beta*A_v =%0.2f\"%d\n",
    "avf=68.92/2.964\n",
    "print \"A_vf = A_v/D =%0.2f\"%avf\n",
    "ri=(75.51*200.1485)/(200.1485+75.51)\n",
    "print \"R_i = R || R_i1 =%0.2f kohm\"%ri\n",
    "rif=54.82*2.964\n",
    "print \"R_if = R_i/D =%0.2f kohm\"%rif\n",
    "print \"Ro = infinity    because h_oe = 0\"\n",
    "print \"R''_o = Ro || R_c2 || (R_f+R_e1) = Ro || R_L2 = infinity || 2.11 K = 2.11 K\"\n",
    "rof=(2.11*10**3)/2.964\n",
    "print \"R''_of = R''_o/D =%0.2f ohm\"%(rof)"
   ]
  },
  {
   "cell_type": "markdown",
   "metadata": {},
   "source": [
    "## Example 1.27 Page No.  1-83"
   ]
  },
  {
   "cell_type": "code",
   "execution_count": 18,
   "metadata": {
    "collapsed": false
   },
   "outputs": [
    {
     "name": "stdout",
     "output_type": "stream",
     "text": [
      "Step 1: Identity topology\n",
      "The feedback is given from emitter of Q2 to the base of Q2. If Io=0 then feedback current through 5K register is zero, hence it is current sampling. As feedback signal is mixed in shunt with input, the amplifier is current shunt feedback amplifier\n",
      "\n",
      "Step 2 and Step 3: Find input and output circuit\n",
      "The input circuit of the amplifier without feedback is obatined by opening the output loop at the emitter of Q2(Io = 0). This places R''(5K) in series with R_s from base to emitter of Q1. The output circuit is found by shorting the input node, i.e. making V1=0. This places R''(5K) in parallel with R_e. The resultant equivalent circuit is shown in fig 1.78\n",
      "Step 4: Find open circuit transfer gain\n",
      "A_I = Io/I_s = -I_c/I_s = -I_c2/I_b2 * I_b2/I_c1 * I_c1/I_b1 * I_b1/I_s\n",
      "We know that  -I_c2/I_b2 = A_i2 = -h_fe = -50 and\n",
      "-I_c/I_b1 = A_i1 = -h_fe = -50\n",
      "Therefore,  I_c1/I_b1 = 50\n",
      "Looking at fig 1.77 we can write\n",
      "I_b2/I_c1 = -R_c1/R_c1+R_i2\n",
      "R_i2 = h_ie + (1+h_fe)(R_e2||R'') =28.82 kohm\n",
      "Therefore,  I_b2/I_c1 =-0.06\n",
      "Looking at fig 1.78 we can write\n",
      "I_b1/I_s = R/R+R_i1\n",
      "where  R = R3 || (R''+R_e) =848.48 ohm\n",
      "and  R_i1 = h_ie + (1+h_fe)R_e1 =21.90 kohm \n",
      "Therefore,  I_b1/I_s =0.04\n",
      "Substituting the numerical values obtained in equations of A_I we get,\n",
      "A_I =6.04\n",
      "\n",
      "Step 5: Calculate beta\n",
      "beta = I_f/Io = R_e2 / R_e2+R'' =0.11\n",
      "\n",
      "Step 6: Calculate D,A_If, A_vI, R_sf, R_of\n",
      "D = 1 + beta*A_I =1.64\n",
      "A_if = A_I/D =3.65\n",
      "A_vf = Vo/V_s = -I_c2/I_s * R_c2/R_s = A_if*R_c2 / R_s =43.85\n",
      "R_i1 = R || R_i1 =816.39 ohm\n",
      "R_i = R_i/D =497.19 ohm\n",
      "Ro = infinity    because h_oe = 0\n",
      "Therefore,  R_of = Ro*D = infinity\n",
      "R''_o = Ro || R_c2 = infinity || 12 K = 12 K\n",
      "R''_of = R''_o * 1+beta*A_i/1+beta*A1 = R''_o = R_c2 = 12K\n"
     ]
    }
   ],
   "source": [
    "from __future__ import division\n",
    "from __future__ import division\n",
    "print \"Step 1: Identity topology\"\n",
    "print \"The feedback is given from emitter of Q2 to the base of Q2. If Io=0 then feedback current through 5K register is zero, hence it is current sampling. As feedback signal is mixed in shunt with input, the amplifier is current shunt feedback amplifier\"\n",
    "print \"\"\n",
    "print \"Step 2 and Step 3: Find input and output circuit\"\n",
    "print \"The input circuit of the amplifier without feedback is obatined by opening the output loop at the emitter of Q2(Io = 0). This places R''(5K) in series with R_s from base to emitter of Q1. The output circuit is found by shorting the input node, i.e. making V1=0. This places R''(5K) in parallel with R_e. The resultant equivalent circuit is shown in fig 1.78\"\n",
    "print \"Step 4: Find open circuit transfer gain\"\n",
    "print \"A_I = Io/I_s = -I_c/I_s = -I_c2/I_b2 * I_b2/I_c1 * I_c1/I_b1 * I_b1/I_s\"\n",
    "print \"We know that  -I_c2/I_b2 = A_i2 = -h_fe = -50 and\"\n",
    "print \"-I_c/I_b1 = A_i1 = -h_fe = -50\"\n",
    "print \"Therefore,  I_c1/I_b1 = 50\"\n",
    "print \"Looking at fig 1.77 we can write\"\n",
    "print \"I_b2/I_c1 = -R_c1/R_c1+R_i2\"\n",
    "ri2=1.5+(51*(5*0.6/5.6))\n",
    "print \"R_i2 = h_ie + (1+h_fe)(R_e2||R'') =%0.2f kohm\"%ri2\n",
    "ibc=-2/30.82\n",
    "print \"Therefore,  I_b2/I_c1 =%0.2f\"%ibc\n",
    "print \"Looking at fig 1.78 we can write\"\n",
    "print \"I_b1/I_s = R/R+R_i1\"\n",
    "r=(5.6*10**3)/6.6\n",
    "print \"where  R = R3 || (R''+R_e) =%0.2f ohm\"%r\n",
    "ri1=1.5+20.4\n",
    "print \"and  R_i1 = h_ie + (1+h_fe)R_e1 =%0.2f kohm \"%ri1\n",
    "ib1=0.848/22.748\n",
    "print \"Therefore,  I_b1/I_s =%0.2f\"%ib1\n",
    "print \"Substituting the numerical values obtained in equations of A_I we get,\"\n",
    "ai=50*0.0649*50*0.0372\n",
    "print \"A_I =%0.2f\"%ai\n",
    "print \"\"\n",
    "print \"Step 5: Calculate beta\"\n",
    "b=0.6/5.6\n",
    "print \"beta = I_f/Io = R_e2 / R_e2+R'' =%0.2f\"%b\n",
    "print \"\"\n",
    "print \"Step 6: Calculate D,A_If, A_vI, R_sf, R_of\"\n",
    "d=1+(0.107*6)\n",
    "print \"D = 1 + beta*A_I =%0.2f\"%d\n",
    "aif=6/1.642\n",
    "print \"A_if = A_I/D =%0.2f\"%aif\n",
    "avf=(3.654*12)/1\n",
    "print \"A_vf = Vo/V_s = -I_c2/I_s * R_c2/R_s = A_if*R_c2 / R_s =%0.2f\"%avf\n",
    "ri1=(848*21900)/(21900+848)\n",
    "print \"R_i1 = R || R_i1 =%0.2f ohm\"%ri1\n",
    "rif=816.38/1.642\n",
    "print \"R_i = R_i/D =%0.2f ohm\"%rif\n",
    "print \"Ro = infinity    because h_oe = 0\"\n",
    "print \"Therefore,  R_of = Ro*D = infinity\"\n",
    "print \"R''_o = Ro || R_c2 = infinity || 12 K = 12 K\"\n",
    "print \"R''_of = R''_o * 1+beta*A_i/1+beta*A1 = R''_o = R_c2 = 12K\""
   ]
  },
  {
   "cell_type": "markdown",
   "metadata": {},
   "source": [
    "## Example 1.28 Page No.  1-86"
   ]
  },
  {
   "cell_type": "code",
   "execution_count": 19,
   "metadata": {
    "collapsed": false
   },
   "outputs": [
    {
     "name": "stdout",
     "output_type": "stream",
     "text": [
      "Step 1: Identify topology\n",
      "  The feedback voltage is applied across R_e1 = 1.5 k-ohm, which is in series with input signal. Hence feedback is voltage series feedback\n",
      "\n",
      "Step 2 and step 3: Find input and output circuit\n",
      "  To find input circuit, set Vo = 0, which gives parallel combination of R_e1 with R_f at E1 as shown in fig.1.80. To find ouput circuit, set I_i = 0 by opening the input node, E1 at emitter of Q1, which gives the series combination of R_f and R_e1 across the output. The resultant circuit is shown in fig.1.80\n",
      "\n",
      "Step 4: Find the open loop voltage gain (Av)\n",
      "  R_L2 = R_c2 || (Rf + R_e1) =2.12 kohm\n",
      "Since hoe*R_L2 = 10**-6*2.119 k-ohm = 0.002119 is less than 0.1 we use approximate analysis.\n",
      "  A_i2 = -h_fe = -200\n",
      "  R_i2 = hie = 2 k-ohm\n",
      "  A_v2 = A_i2*R_L2 / R_i2 =-211.90\n",
      "  R_L1 = R_C1 || R_i2 =1.97 kohm\n",
      "Since hoe*R_L1 = 10**-6*1.967 = 0.001967 is less than 0.1 we use approximate analysis.\n",
      "  A_i1 = -hfe = -200\n",
      "  R_i1 = hie + (1+hfe)*Re =295.63 kohm\n",
      "Therefore,  A_v1 = A_i1*R_L1 / R_i1 =-1.33\n",
      "The overall gain without feedback is\n",
      "  Av = A_v1 * A_v2 =281.83\n",
      "\n",
      "Step 5: Calculate beta\n",
      "  beta = Vf / Vo =0.03\n",
      "\n",
      "Step 6: calculate D, A_vf, R_if, R_of\n",
      "  D = 1 + Av*beta =8.33\n",
      "Therefore,  A_vf = Av / D =33.84\n",
      "  Ri = R_i1 || R =99.51 kohm\n",
      "  R_if = Ri *D =828.54\n",
      "  Ro = 1/hoe = 1 M-ohm\n",
      "  R_of( = Ro / D = 120.09\n",
      "  R''o = Ro || R_c2 || (Rf+R_e1) = Ro || R_L2 =2.11 kohm\n",
      "  R''_of = R''o / D =253.93 ohm\n"
     ]
    }
   ],
   "source": [
    "from __future__ import division\n",
    "print \"Step 1: Identify topology\"\n",
    "print \"  The feedback voltage is applied across R_e1 = 1.5 k-ohm, which is in series with input signal. Hence feedback is voltage series feedback\"\n",
    "print \"\"\n",
    "print \"Step 2 and step 3: Find input and output circuit\"\n",
    "print \"  To find input circuit, set Vo = 0, which gives parallel combination of R_e1 with R_f at E1 as shown in fig.1.80. To find ouput circuit, set I_i = 0 by opening the input node, E1 at emitter of Q1, which gives the series combination of R_f and R_e1 across the output. The resultant circuit is shown in fig.1.80\"\n",
    "print \"\"\n",
    "print \"Step 4: Find the open loop voltage gain (Av)\"\n",
    "rl2=(2.2*57.5)/(2.2+57.5)  # in k-ohm\n",
    "print \"  R_L2 = R_c2 || (Rf + R_e1) =%0.2f kohm\"%rl2\n",
    "print \"Since hoe*R_L2 = 10**-6*2.119 k-ohm = 0.002119 is less than 0.1 we use approximate analysis.\"\n",
    "print \"  A_i2 = -h_fe = -200\"\n",
    "print \"  R_i2 = hie = 2 k-ohm\"\n",
    "av2=(-200*2.119)/2\n",
    "print \"  A_v2 = A_i2*R_L2 / R_i2 =%0.2f\"%av2\n",
    "rl1=(120*2)/(122)  # in k-ohm\n",
    "print \"  R_L1 = R_C1 || R_i2 =%0.2f kohm\"%rl1\n",
    "print \"Since hoe*R_L1 = 10**-6*1.967 = 0.001967 is less than 0.1 we use approximate analysis.\"\n",
    "print \"  A_i1 = -hfe = -200\"\n",
    "ri1=2+(201*((1.5*56)/(57.5)))  # in k-ohm\n",
    "print \"  R_i1 = hie + (1+hfe)*Re =%0.2f kohm\"%ri1\n",
    "av1=(-200*1.967)/295.63\n",
    "print \"Therefore,  A_v1 = A_i1*R_L1 / R_i1 =%0.2f\"%av1\n",
    "print \"The overall gain without feedback is\"\n",
    "av=-1.33*-211.9\n",
    "format(7)\n",
    "print \"  Av = A_v1 * A_v2 =%0.2f\"%av\n",
    "print \"\"\n",
    "print \"Step 5: Calculate beta\"\n",
    "beta=1.5/57.5\n",
    "print \"  beta = Vf / Vo =%0.2f\"%beta\n",
    "print \"\"\n",
    "print \"Step 6: calculate D, A_vf, R_if, R_of\"\n",
    "d=1+(0.026*281.82)\n",
    "print \"  D = 1 + Av*beta =%0.2f\"%d\n",
    "avf=281.82/8.327\n",
    "print \"Therefore,  A_vf = Av / D =%0.2f\"%avf\n",
    "ri=(295.63*150)/(295.63+150)  # in k-ohm\n",
    "print \"  Ri = R_i1 || R =%0.2f kohm\"%ri\n",
    "rif=99.5*8.327  # in k-ohm\n",
    "print \"  R_if = Ri *D =%0.2f\"%rif\n",
    "print \"  Ro = 1/hoe = 1 M-ohm\"\n",
    "rof=((1*10**6)/8.327)*10**-3  # in k-ohm\n",
    "print \"  R_of( = Ro / D = %0.2f\"%rof\n",
    "ro=(1000*2.119)/(2.119+1000)  # in k-ohm\n",
    "print \"  R''o = Ro || R_c2 || (Rf+R_e1) = Ro || R_L2 =%0.2f kohm\"%ro\n",
    "rof=(2.1145*10**3)/8.327  # in ohm\n",
    "print \"  R''_of = R''o / D =%0.2f ohm\"%rof,"
   ]
  },
  {
   "cell_type": "markdown",
   "metadata": {},
   "source": [
    "## Example 1.29 Page No.  1-89"
   ]
  },
  {
   "cell_type": "code",
   "execution_count": 20,
   "metadata": {
    "collapsed": false
   },
   "outputs": [
    {
     "name": "stdout",
     "output_type": "stream",
     "text": [
      "Fig 1.83 shows current shunt feedback amplifier open circuit transfer gain\n",
      "A_I = -I_c2/I_s = -I_c2/I_b2 * I_b2/I_c1 * I_c1/I_b1 * I_b1/I_s\n",
      "I_c2/I_b2 = A_i2 = -h_fe = -100\n",
      "-I_c1/I_b1 = 100\n",
      "R_i2 = h_ie + (1+h_fe)(R_e2||R'') =11.00 kohm\n",
      "I_b2/I_c1 = -R_c1 / R_c1+(R_i2+R_b2) =-0.15\n",
      "I_b1/I_s = R/R+h_ie\n",
      "R = R_s || (R''+R_e) =909.91 ohm\n",
      "Therefore,  I''_b/I_s =0.48\n",
      "Therefore,  A_I =737.80\n",
      "Calculate of beta:\n",
      "I_f = -I_o*R_e2 / R_e2+R''\n",
      "beta = I_f/Io = R_e2/R_e2+R'' = 100/100+10K\n",
      "D = 1 + beta*A_I =8.30\n",
      "A_if = A_I/D = 88.89\n",
      "A_vf = Vo/V_s = -I_c2/I_s * R_c2/R_s = A_if*R_c2 / R_s =195.56\n",
      "R_i1 = R || h_ie =476.41 ohm\n",
      "R_if = R_i/D =57.35 ohm\n",
      "R_of = R_c2 = 2.2 k-ohm\n"
     ]
    }
   ],
   "source": [
    "from __future__ import division\n",
    "print \"Fig 1.83 shows current shunt feedback amplifier open circuit transfer gain\"\n",
    "print \"A_I = -I_c2/I_s = -I_c2/I_b2 * I_b2/I_c1 * I_c1/I_b1 * I_b1/I_s\"\n",
    "print \"I_c2/I_b2 = A_i2 = -h_fe = -100\"\n",
    "print \"-I_c1/I_b1 = 100\"\n",
    "ri2=1+(101*(1/10.1))\n",
    "print \"R_i2 = h_ie + (1+h_fe)(R_e2||R'') =%0.2f kohm\"%ri2\n",
    "ibc=-2.2/14.2\n",
    "print \"I_b2/I_c1 = -R_c1 / R_c1+(R_i2+R_b2) =%0.2f\"%ibc\n",
    "print \"I_b1/I_s = R/R+h_ie\"\n",
    "r=(10.1*10**3)/11.1\n",
    "print \"R = R_s || (R''+R_e) =%0.2f ohm\"%r\n",
    "ibs=0.9099/1.9099\n",
    "print \"Therefore,  I''_b/I_s =%0.2f\"%ibs\n",
    "ai=100*0.155*100*0.476\n",
    "print \"Therefore,  A_I =%0.2f\"%ai\n",
    "print \"Calculate of beta:\"\n",
    "print \"I_f = -I_o*R_e2 / R_e2+R''\"\n",
    "print \"beta = I_f/Io = R_e2/R_e2+R'' = 100/100+10K\"\n",
    "d=1+(9.9*737.8*10**-3)\n",
    "print \"D = 1 + beta*A_I =%0.2f\"%d\n",
    "print \"A_if = A_I/D = 88.89\"\n",
    "avf=88.89*2.2\n",
    "print \"A_vf = Vo/V_s = -I_c2/I_s * R_c2/R_s = A_if*R_c2 / R_s =%0.2f\"%avf\n",
    "ri1=(909.9*1000)/1909.9\n",
    "print \"R_i1 = R || h_ie =%0.2f ohm\"%ri1\n",
    "rif=476/8.3\n",
    "print \"R_if = R_i/D =%0.2f ohm\"%rif\n",
    "print \"R_of = R_c2 = 2.2 k-ohm\""
   ]
  },
  {
   "cell_type": "markdown",
   "metadata": {},
   "source": [
    "## Example 1.30 Page No.  1-91"
   ]
  },
  {
   "cell_type": "code",
   "execution_count": 16,
   "metadata": {
    "collapsed": false
   },
   "outputs": [
    {
     "name": "stdout",
     "output_type": "stream",
     "text": [
      "(i) Voltage gain with feedback  A_f = A_v/D\n",
      "Where,  D = 1 + beta*A_v =3.00\n",
      "Therefore,  A_vf =33.33\n",
      "(ii) Feedback voltage  V_f = beta*Vo = beta*A_vf*V_i =26.66 mV\n",
      "(iii) Output voltage  Vo(in V) = A_vi*V_i =1.33\n"
     ]
    }
   ],
   "source": [
    "from __future__ import division\n",
    "print \"(i) Voltage gain with feedback  A_f = A_v/D\"\n",
    "d=1+(0.02*100)\n",
    "print \"Where,  D = 1 + beta*A_v =%0.2f\"%d\n",
    "avf=100/3\n",
    "print \"Therefore,  A_vf =%0.2f\"%avf\n",
    "vf=0.02*33.33*40\n",
    "print \"(ii) Feedback voltage  V_f = beta*Vo = beta*A_vf*V_i =%0.2f mV\"%vf\n",
    "vo=33.33*40*10**-3\n",
    "print \"(iii) Output voltage  Vo(in V) = A_vi*V_i =%0.2f\"%vo"
   ]
  },
  {
   "cell_type": "markdown",
   "metadata": {},
   "source": [
    "## Example 1.31 Page No. 1-92"
   ]
  },
  {
   "cell_type": "code",
   "execution_count": 15,
   "metadata": {
    "collapsed": false
   },
   "outputs": [
    {
     "name": "stdout",
     "output_type": "stream",
     "text": [
      "For beta = -0.01,  D = 1+beta*A_v = 11\n",
      "(i) Voltage gain  A_vf = A_v/D =-9.09\n",
      "(ii) Input impedance  R_if(in k-ohm) = R_i*D =110.00\n",
      "(iii) Output impedance  R_of(in k-ohm) = Ro/D =1.82\n",
      "For beta = -0.01,  D = 1+beta*A_v = 51\n",
      "(i) Voltage gain  A_vf = A_v/D =-1.96\n",
      "(ii) Input impedance  R_if(in k-ohm) = R_i*D =510.00\n",
      "(iii) Output impedance  R_of(in k-ohm) = Ro/D =0.39\n"
     ]
    }
   ],
   "source": [
    "from __future__ import division\n",
    "print \"For beta = -0.01,  D = 1+beta*A_v = 11\"\n",
    "avf=-100/11\n",
    "print \"(i) Voltage gain  A_vf = A_v/D =%0.2f\"%avf\n",
    "rif=10*11\n",
    "print \"(ii) Input impedance  R_if(in k-ohm) = R_i*D =%0.2f\"%rif\n",
    "rof=20/11\n",
    "print \"(iii) Output impedance  R_of(in k-ohm) = Ro/D =%0.2f\"%rof\n",
    "print \"For beta = -0.01,  D = 1+beta*A_v = 51\"\n",
    "avf=-100/51\n",
    "print \"(i) Voltage gain  A_vf = A_v/D =%0.2f\"%avf\n",
    "rif=10*51\n",
    "print \"(ii) Input impedance  R_if(in k-ohm) = R_i*D =%0.2f\"%rif\n",
    "rof=20/51\n",
    "print \"(iii) Output impedance  R_of(in k-ohm) = Ro/D =%0.2f\"%rof"
   ]
  },
  {
   "cell_type": "markdown",
   "metadata": {},
   "source": [
    "## Example 1.33 Page No.  1-92"
   ]
  },
  {
   "cell_type": "code",
   "execution_count": 14,
   "metadata": {
    "collapsed": false
   },
   "outputs": [
    {
     "name": "stdout",
     "output_type": "stream",
     "text": [
      "We know that,\n",
      "A_vf = A_v / 1+beta*A_v\n",
      "Therefore,  A_vf + beta*A_v*A_vf = A_v\n",
      "Therefore,  beta = A_v-A_vf / A_v*A_vf =0.01\n"
     ]
    }
   ],
   "source": [
    "from __future__ import division\n",
    "print \"We know that,\"\n",
    "print \"A_vf = A_v / 1+beta*A_v\"\n",
    "print \"Therefore,  A_vf + beta*A_v*A_vf = A_v\"\n",
    "b=20/2400\n",
    "print \"Therefore,  beta = A_v-A_vf / A_v*A_vf =%0.2f\"%b"
   ]
  },
  {
   "cell_type": "markdown",
   "metadata": {},
   "source": [
    "## Example 1.34 Page No.  1-93"
   ]
  },
  {
   "cell_type": "code",
   "execution_count": 13,
   "metadata": {
    "collapsed": false
   },
   "outputs": [
    {
     "name": "stdout",
     "output_type": "stream",
     "text": [
      "Given: A_v mid = 40, f_L = 100 Hz, f_H = 15 kHz and beta = 0.01\n",
      "(i) A_vf = A_v mid / 1+beta*A_v mid =80.00\n",
      "(ii) f_Lf = f_L / 1+beta*A_v mid =20.00\n",
      "(iii) f_Hf = f_H * (1+beta*A_v mid) =75.00 kHz\n",
      "(iv) New Bandwidth = f_Hf - f_Lf =74.98 kHz\n"
     ]
    }
   ],
   "source": [
    "from __future__ import division\n",
    "print \"Given: A_v mid = 40, f_L = 100 Hz, f_H = 15 kHz and beta = 0.01\"\n",
    "avf=400/(1+(0.01*400))\n",
    "print \"(i) A_vf = A_v mid / 1+beta*A_v mid =%0.2f\"%avf\n",
    "flf=100/(1+(0.01*400))\n",
    "print \"(ii) f_Lf = f_L / 1+beta*A_v mid =%0.2f\"%flf\n",
    "fhf=(15)*(1+(0.01*400))  # in kHz\n",
    "print \"(iii) f_Hf = f_H * (1+beta*A_v mid) =%0.2f kHz\"%fhf\n",
    "bw=75-0.02  # in kHz\n",
    "format(6)\n",
    "print \"(iv) New Bandwidth = f_Hf - f_Lf =%0.2f kHz\"%bw"
   ]
  }
 ],
 "metadata": {
  "kernelspec": {
   "display_name": "Python 2",
   "language": "python",
   "name": "python2"
  },
  "language_info": {
   "codemirror_mode": {
    "name": "ipython",
    "version": 2
   },
   "file_extension": ".py",
   "mimetype": "text/x-python",
   "name": "python",
   "nbconvert_exporter": "python",
   "pygments_lexer": "ipython2",
   "version": "2.7.9"
  }
 },
 "nbformat": 4,
 "nbformat_minor": 0
}
