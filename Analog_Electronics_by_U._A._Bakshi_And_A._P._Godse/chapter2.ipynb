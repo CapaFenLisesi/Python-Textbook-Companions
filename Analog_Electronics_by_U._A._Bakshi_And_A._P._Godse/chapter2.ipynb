{
 "cells": [
  {
   "cell_type": "markdown",
   "metadata": {},
   "source": [
    "# Chapter 2 - Oscillators"
   ]
  },
  {
   "cell_type": "markdown",
   "metadata": {},
   "source": [
    "## Example 2.1 Page No. 2-70"
   ]
  },
  {
   "cell_type": "code",
   "execution_count": 3,
   "metadata": {
    "collapsed": false
   },
   "outputs": [
    {
     "name": "stdout",
     "output_type": "stream",
     "text": [
      "Therefore, f = omega / 2pi = 318.31 Hz\n"
     ]
    }
   ],
   "source": [
    "from math import pi\n",
    "omega = 2.0*10**3  # rad/sec\n",
    "f=(omega)/(2.0*pi)  # in Hz)\n",
    "print \"Therefore, f = omega / 2pi = %0.2f Hz\"%f"
   ]
  },
  {
   "cell_type": "markdown",
   "metadata": {},
   "source": [
    "## Example 2.2 Page No. 2-70"
   ]
  },
  {
   "cell_type": "code",
   "execution_count": 4,
   "metadata": {
    "collapsed": false
   },
   "outputs": [
    {
     "name": "stdout",
     "output_type": "stream",
     "text": [
      "Refering to equation(1),\n",
      "  R''_i = R1 || R2 || h_ie =1.63 kohm\n",
      "Now  R''_i + R3 = R\n",
      "Therefore,  R3 = R - R''_i =5.47 kohm\n",
      "  K = R_C / R =2.82\n",
      "Now  f = 1 / 2*pi*R*C*sqrt(6+4K)\n",
      "Therefore,  C = 539.50 pF\n",
      "  h_fe >= 4K + 23 + 29/K\n",
      "  h_fe >=44.56\n"
     ]
    }
   ],
   "source": [
    "from math import sqrt,pi\n",
    "from __future__ import division  \n",
    "print \"Refering to equation(1),\"\n",
    "ri=(25*57*1.8)/((57*1.8)+(25*1.8)+(25*57))  # in k-ohm\n",
    "print \"  R''_i = R1 || R2 || h_ie =%0.2f kohm\"%ri\n",
    "print \"Now  R''_i + R3 = R\"\n",
    "r3=7.1-1.631  # in k-ohm\n",
    "print \"Therefore,  R3 = R - R''_i =%0.2f kohm\"%r3\n",
    "k=20/7.1\n",
    "print \"  K = R_C / R =%0.2f\"%k\n",
    "print \"Now  f = 1 / 2*pi*R*C*sqrt(6+4K)\"\n",
    "c=(1/(sqrt(6+(4*2.816))*2*pi*7.1*10*10**6))*10**12  # in pF\n",
    "print \"Therefore,  C = %0.2f pF\"%c\n",
    "print \"  h_fe >= 4K + 23 + 29/K\"\n",
    "hfe=(4*2.816)+23+(29/2.816)\n",
    "print \"  h_fe >=%0.2f\"%hfe"
   ]
  },
  {
   "cell_type": "markdown",
   "metadata": {},
   "source": [
    "## Example 2.3 Page No. 2-71"
   ]
  },
  {
   "cell_type": "code",
   "execution_count": 5,
   "metadata": {
    "collapsed": false
   },
   "outputs": [
    {
     "name": "stdout",
     "output_type": "stream",
     "text": [
      "The given values are, R = 4.7 k-ohm and C = 0.47 uF\n",
      "  f = 1 / 2*pi*sqrt(6)*R*C =29.41 Hz\n"
     ]
    }
   ],
   "source": [
    "from __future__ import division  \n",
    "from math import sqrt,pi\n",
    "print \"The given values are, R = 4.7 k-ohm and C = 0.47 uF\"\n",
    "f=1/(2*pi*sqrt(6)*(4.7*10**3)*(0.47*10**-6))  # in Hz\n",
    "print \"  f = 1 / 2*pi*sqrt(6)*R*C =%0.2f Hz\"%f"
   ]
  },
  {
   "cell_type": "markdown",
   "metadata": {},
   "source": [
    "## Example 2.4 Page No. 2-71"
   ]
  },
  {
   "cell_type": "code",
   "execution_count": 6,
   "metadata": {
    "collapsed": false
   },
   "outputs": [
    {
     "name": "stdout",
     "output_type": "stream",
     "text": [
      "f = 1 kHz\n",
      "Now  f = 1 / 2*pi*sqrt(6)*R*C\n",
      "Choose  C = 0.1 uF\n",
      "Therefore,  R = 649.75 ohm\n",
      "Choose  R = 680 ohm    standard value\n"
     ]
    }
   ],
   "source": [
    "from math import sqrt,pi\n",
    "from __future__ import division  \n",
    "print \"f = 1 kHz\"\n",
    "print \"Now  f = 1 / 2*pi*sqrt(6)*R*C\"\n",
    "print \"Choose  C = 0.1 uF\"\n",
    "r=1/(sqrt(6)*2*pi*0.1*1*10**-3)  # in ohm\n",
    "print \"Therefore,  R = %0.2f ohm\"%r\n",
    "print \"Choose  R = 680 ohm    standard value\""
   ]
  },
  {
   "cell_type": "markdown",
   "metadata": {},
   "source": [
    "## Example 2.5 Page No. 2-72"
   ]
  },
  {
   "cell_type": "code",
   "execution_count": 7,
   "metadata": {
    "collapsed": false
   },
   "outputs": [
    {
     "name": "stdout",
     "output_type": "stream",
     "text": [
      "Using the expression for the frequency\n",
      "Now,  f = 1 / 2*pi*R*C*sqrt(6)\n",
      "Therefore,  C = 1.34 nF\n",
      "Now using the equation(27)\n",
      "  |A| = g_m * R_L\n",
      "Therefore,  |A| >= 29\n",
      "Therefore,  g_m * R_L >= 29\n",
      "Therefore,  R_L >= 29 / g_m = 5.80 kohm\n",
      "  R_L = R_D*r_d / R_D+r_d\n",
      "  Therefore,  R_D = 8.19 k-ohm\n",
      "While for minimum value of R_L = 5.8 k-ohm\n",
      "                           R_D = 6.78 k-ohm\n"
     ]
    }
   ],
   "source": [
    "from math import sqrt,pi\n",
    "from __future__ import division  \n",
    "print \"Using the expression for the frequency\"\n",
    "print \"Now,  f = 1 / 2*pi*R*C*sqrt(6)\"\n",
    "f=(1/(sqrt(6)*2*pi*9.7*5*10**6))*10**9  # in nF\n",
    "print \"Therefore,  C = %0.2f nF\"%f\n",
    "print \"Now using the equation(27)\"\n",
    "print \"  |A| = g_m * R_L\"\n",
    "print \"Therefore,  |A| >= 29\"\n",
    "print \"Therefore,  g_m * R_L >= 29\"\n",
    "rl=(29/(5000*10**-6))*10**-3  # in k-ohm\n",
    "print \"Therefore,  R_L >= 29 / g_m = %0.2f kohm\"%rl\n",
    "print \"  R_L = R_D*r_d / R_D+r_d\"\n",
    "rd=(40)/4.8823\n",
    "print \"  Therefore,  R_D = %0.2f k-ohm\"%rd\n",
    "print \"While for minimum value of R_L = 5.8 k-ohm\"\n",
    "print \"                           R_D = 6.78 k-ohm\""
   ]
  },
  {
   "cell_type": "markdown",
   "metadata": {},
   "source": [
    "## Exmaple 2.6 Page No. 2-73"
   ]
  },
  {
   "cell_type": "code",
   "execution_count": 8,
   "metadata": {
    "collapsed": false
   },
   "outputs": [
    {
     "name": "stdout",
     "output_type": "stream",
     "text": [
      "The circuit is Wien bridge oscillator using op-amp. The gain of the op-amp is\n",
      "A = 1 + R3/R4 =4.00\n",
      "So  A > 3\n",
      "This satisfies the required oscillating condition. The feedback is given to non-inverting terminal ensuring the zero phase shift. Hence the circuit will work as the oscillator.\n",
      "f = 1 / 2*pi*R*C = 31.21 kHz\n",
      "This will be the frequency of oscillations\n"
     ]
    }
   ],
   "source": [
    "from __future__ import division  \n",
    "from math import sqrt,pi\n",
    "print \"The circuit is Wien bridge oscillator using op-amp. The gain of the op-amp is\"\n",
    "a=1+3\n",
    "print \"A = 1 + R3/R4 =%0.2f\"%a\n",
    "print \"So  A > 3\"\n",
    "print \"This satisfies the required oscillating condition. The feedback is given to non-inverting terminal ensuring the zero phase shift. Hence the circuit will work as the oscillator.\"\n",
    "f=1/(2*pi*5.1*0.001)\n",
    "print \"f = 1 / 2*pi*R*C = %0.2f kHz\"%f\n",
    "print \"This will be the frequency of oscillations\""
   ]
  },
  {
   "cell_type": "markdown",
   "metadata": {},
   "source": [
    "## Example 2.7 Page No. 2-73"
   ]
  },
  {
   "cell_type": "code",
   "execution_count": 9,
   "metadata": {
    "collapsed": false
   },
   "outputs": [
    {
     "name": "stdout",
     "output_type": "stream",
     "text": [
      "The frequency of the oscillator is given by,\n",
      "  f = 1 / 2*pi*sqrt(R1*R2*C1*C2)\n",
      "For    f = 10 kHz,\n",
      "Therefore, R2 = 25.33 kohm\n",
      "For    f = 50 kHz,\n",
      "Therefore,  R2 = 1.01 k-ohm\n",
      "So minimum value of R2 is 1.013 k-ohm while the maximum value of R2 is 25.33 k-ohm\n"
     ]
    }
   ],
   "source": [
    "from __future__ import division  \n",
    "from math import sqrt,pi\n",
    "print \"The frequency of the oscillator is given by,\"\n",
    "print \"  f = 1 / 2*pi*sqrt(R1*R2*C1*C2)\"\n",
    "print \"For    f = 10 kHz,\"\n",
    "r2=(1/(4*(pi**2)*(100*10**6)*(10*10**3)*(0.001*10**-12)))  # in k-ohm\n",
    "print \"Therefore, R2 = %0.2f kohm\"%r2\n",
    "print \"For    f = 50 kHz,\"\n",
    "r2=(1/(4*(pi**2)*(2500*10**6)*(10*10**3)*(0.001*10**-12)))  # in k-ohm\n",
    "print \"Therefore,  R2 = %0.2f k-ohm\"%r2\n",
    "print \"So minimum value of R2 is 1.013 k-ohm while the maximum value of R2 is 25.33 k-ohm\""
   ]
  },
  {
   "cell_type": "markdown",
   "metadata": {},
   "source": [
    "## Example 2.8 Page No. 2-74"
   ]
  },
  {
   "cell_type": "code",
   "execution_count": 10,
   "metadata": {
    "collapsed": false
   },
   "outputs": [
    {
     "name": "stdout",
     "output_type": "stream",
     "text": [
      "The frequency is given by,\n",
      "  f = 1 / 2*pi*sqrt(C*L_eq)\n",
      "where  L_eq = L1 + L2 =0.00 kHz\n",
      "For  f = f_max = 2050 kHz\n",
      "Therefore,  C = 2.98 pF\n",
      "For  f = f_min = 950 kHz\n",
      "Therefore,  C = 13.89 pF\n",
      "Hence C must be varied from 2.98 pF to 13.89 pF, to get the required frequency variation.\n"
     ]
    }
   ],
   "source": [
    "from math import sqrt,pi\n",
    "from __future__ import division  \n",
    "print \"The frequency is given by,\"\n",
    "print \"  f = 1 / 2*pi*sqrt(C*L_eq)\"\n",
    "leq=(2*10**-3)+(20*10**-6)\n",
    "print \"where  L_eq = L1 + L2 =%0.2f kHz\"%leq\n",
    "print \"For  f = f_max = 2050 kHz\"\n",
    "c=(1/(4*(pi**2)*((2050*10**3)**2)*0.00202))*10**12  # in pF\n",
    "print \"Therefore,  C = %0.2f pF\"%c\n",
    "print \"For  f = f_min = 950 kHz\"\n",
    "c=(1/(4*(pi**2)*((950*10**3)**2)*0.00202))*10**12  # in pF\n",
    "print \"Therefore,  C = %0.2f pF\"%c\n",
    "print \"Hence C must be varied from 2.98 pF to 13.89 pF, to get the required frequency variation.\""
   ]
  },
  {
   "cell_type": "markdown",
   "metadata": {},
   "source": [
    "## Example 2.9 Page No. 2-75"
   ]
  },
  {
   "cell_type": "code",
   "execution_count": 13,
   "metadata": {
    "collapsed": false
   },
   "outputs": [
    {
     "name": "stdout",
     "output_type": "stream",
     "text": [
      "The given values are,\n",
      "L1 = 0.5 mH,  L2 = 1 mH,  C = 0.2 uF\n",
      "Now  f = 1 / 2*pi*sqrt(C*L_eq)\n",
      "and  L_eq = L1 + L2 =1.50 mH\n",
      "Therefore,  f =9.19 kHz\n"
     ]
    }
   ],
   "source": [
    "from math import sqrt,pi\n",
    "from __future__ import division  \n",
    "print \"The given values are,\"\n",
    "print \"L1 = 0.5 mH,  L2 = 1 mH,  C = 0.2 uF\"\n",
    "print \"Now  f = 1 / 2*pi*sqrt(C*L_eq)\"\n",
    "leq=0.5+1  # in mH\n",
    "print \"and  L_eq = L1 + L2 =%0.2f mH\"%leq\n",
    "f=(1/(2*pi*sqrt(1.5*0.2*10**-9)))*10**-3  # in kHz\n",
    "format(5)\n",
    "print \"Therefore,  f =%0.2f kHz\"%f"
   ]
  },
  {
   "cell_type": "markdown",
   "metadata": {},
   "source": [
    "## Example 2.10 Page No. 2-75"
   ]
  },
  {
   "cell_type": "code",
   "execution_count": 14,
   "metadata": {
    "collapsed": false
   },
   "outputs": [
    {
     "name": "stdout",
     "output_type": "stream",
     "text": [
      "L1 = 20 uH,  L2 = 2 mH\n",
      "Therefore,  L_eq = L1 + L2 =0.00 H\n",
      "For f = f_max = 2.5 MHz\n",
      "f = 1 / 2*pi*sqrt(C*L_eq)\n",
      "Therefore,  C = 2.02 pF\n",
      "For f = f_min = 1 MHz\n",
      "Therefore,  C = 12.65 pF\n",
      "This C must be varied from 2.0244 pF to 12.6525 pF\n"
     ]
    }
   ],
   "source": [
    "from math import sqrt,pi\n",
    "from __future__ import division  \n",
    "print \"L1 = 20 uH,  L2 = 2 mH\"\n",
    "leq=(20*10**-6)+(2*10**-3)\n",
    "print \"Therefore,  L_eq = L1 + L2 =%0.2f H\"%leq\n",
    "print \"For f = f_max = 2.5 MHz\"\n",
    "print \"f = 1 / 2*pi*sqrt(C*L_eq)\"\n",
    "c=(1/(((2*pi*2.5*10**6)**2)*(2.002*10**-3)))*10**12\n",
    "print \"Therefore,  C = %0.2f pF\"%c\n",
    "print \"For f = f_min = 1 MHz\"\n",
    "c=(1/(((2*pi*1*10**6)**2)*(2.002*10**-3)))*10**12\n",
    "print \"Therefore,  C = %0.2f pF\"%c\n",
    "print \"This C must be varied from 2.0244 pF to 12.6525 pF\""
   ]
  },
  {
   "cell_type": "markdown",
   "metadata": {},
   "source": [
    "## Example 2.11 Page No. 2-76"
   ]
  },
  {
   "cell_type": "code",
   "execution_count": 17,
   "metadata": {
    "collapsed": false
   },
   "outputs": [
    {
     "name": "stdout",
     "output_type": "stream",
     "text": [
      "The equivalent capacitance is given by,\n",
      "C_eq = C1*C2 / C1+C2 =0.00 F\n",
      "Now,  f = 1 / 2*pi*sqrt(L*C_eq)\n",
      "f = 1.93 MHz\n"
     ]
    }
   ],
   "source": [
    "from math import sqrt,pi\n",
    "from __future__ import division  \n",
    "print \"The equivalent capacitance is given by,\"\n",
    "ceq=(150*1.5*10**-21)/((150*10**-12)+(1.5*10**-9))  # in F\n",
    "print \"C_eq = C1*C2 / C1+C2 =%0.2f F\"%ceq\n",
    "print \"Now,  f = 1 / 2*pi*sqrt(L*C_eq)\"\n",
    "f=(1/(2*pi*sqrt(50*136.363*10**-18)))*10**-6  # in MHz\n",
    "print \"f = %0.2f MHz\"%f"
   ]
  },
  {
   "cell_type": "markdown",
   "metadata": {},
   "source": [
    "## Example 2.12 Page No. 2-77"
   ]
  },
  {
   "cell_type": "code",
   "execution_count": 18,
   "metadata": {
    "collapsed": false
   },
   "outputs": [
    {
     "name": "stdout",
     "output_type": "stream",
     "text": [
      "The given values are,\n",
      "   L = 100 uH,   C1 = C2 = C   and   f = 500 kHz\n",
      "Now,    f = 1 / 2*pi*sqrt(L*C_eq)\n",
      "Therefore, C_eq = 0.00 F\n",
      "but    C_eq = C1*C2 / C1+C2    and C1 = C2 = C\n",
      "Therefore,  C_eq = C / 2\n",
      "Therefore,  C = 2.03 nF\n"
     ]
    }
   ],
   "source": [
    "from math import sqrt,pi\n",
    "from __future__ import division  \n",
    "print \"The given values are,\"\n",
    "print \"   L = 100 uH,   C1 = C2 = C   and   f = 500 kHz\"\n",
    "print \"Now,    f = 1 / 2*pi*sqrt(L*C_eq)\"\n",
    "ceq=1/(4*(pi**2)*(100*10**-6)*((500*10**3)**2))  # in F\n",
    "print \"Therefore, C_eq = %0.2f F\"%ceq\n",
    "print \"but    C_eq = C1*C2 / C1+C2    and C1 = C2 = C\"\n",
    "print \"Therefore,  C_eq = C / 2\"\n",
    "c=1.0132*2\n",
    "print \"Therefore,  C = %0.2f nF\"%c"
   ]
  },
  {
   "cell_type": "markdown",
   "metadata": {},
   "source": [
    "## Example 2.13 Page No. 2-78"
   ]
  },
  {
   "cell_type": "code",
   "execution_count": 21,
   "metadata": {
    "collapsed": false
   },
   "outputs": [
    {
     "name": "stdout",
     "output_type": "stream",
     "text": [
      "Given, C1 = 100 pF,  C2 = 50 pF,  f = 10 MHz,  L = ?\n",
      "C_eq = C1*C2 / C1+C2 = 0.00 F \n",
      "f = 1 / 2*pi*sqrt(L*C_eq)\n",
      "Therefore, L = 7.60 uH\n"
     ]
    }
   ],
   "source": [
    "from math import sqrt,pi\n",
    "from __future__ import division  \n",
    "print \"Given, C1 = 100 pF,  C2 = 50 pF,  f = 10 MHz,  L = ?\"\n",
    "ceq=(5000*10**-24)/(150*10**-12)\n",
    "print \"C_eq = C1*C2 / C1+C2 = %0.2f F \"%ceq\n",
    "print \"f = 1 / 2*pi*sqrt(L*C_eq)\"\n",
    "l=(1/(4*(pi**2)*(33.33*10**-12)*((10*10**6)**2)))*10**6  # in F\n",
    "print \"Therefore, L = %0.2f uH\"%l"
   ]
  },
  {
   "cell_type": "markdown",
   "metadata": {},
   "source": [
    "## Example 2.14 Page No. 2-79"
   ]
  },
  {
   "cell_type": "code",
   "execution_count": 23,
   "metadata": {
    "collapsed": false
   },
   "outputs": [
    {
     "name": "stdout",
     "output_type": "stream",
     "text": [
      "For a tuned collector oscillator,\n",
      "f_r = 1 / 2*pi*sqrt(L*C)\n",
      "where  L = 30 uH  and f_r to be varied 300 kHz to 1.5 MHz\n",
      "For  f_r = 300 kHz\n",
      "Therefore, C1 =9.38 nF\n",
      "For  f_r = 1.5 MHz\n",
      "Therefore, C2 = 375.26 pF\n",
      "Hence C must be varied over 375.264 pF to 9.3816 nF, to achieve frequency variations\n"
     ]
    }
   ],
   "source": [
    "from math import sqrt,pi\n",
    "from __future__ import division  \n",
    "print \"For a tuned collector oscillator,\"\n",
    "print \"f_r = 1 / 2*pi*sqrt(L*C)\"\n",
    "print \"where  L = 30 uH  and f_r to be varied 300 kHz to 1.5 MHz\"\n",
    "print \"For  f_r = 300 kHz\"\n",
    "c1=(1/(4*(pi**2)*(30*10**-6)*((300*10**3)**2)))*10**9  # in nF\n",
    "print \"Therefore, C1 =%0.2f nF\"%c1\n",
    "print \"For  f_r = 1.5 MHz\"\n",
    "c2=(1/(4*(pi**2)*(30*10**-6)*((1.5*10**6)**2)))*10**12  # in pF\n",
    "print \"Therefore, C2 = %0.2f pF\"%c2\n",
    "print \"Hence C must be varied over 375.264 pF to 9.3816 nF, to achieve frequency variations\""
   ]
  },
  {
   "cell_type": "markdown",
   "metadata": {},
   "source": [
    "## Example 2.15 Page No. 2-79"
   ]
  },
  {
   "cell_type": "code",
   "execution_count": 24,
   "metadata": {
    "collapsed": false
   },
   "outputs": [
    {
     "name": "stdout",
     "output_type": "stream",
     "text": [
      "(i)  f_s(in MHz) = 1 / 2*pi*sqrt(L*C) =0.86 MHz\n",
      "(ii)  C_eq = C*C_M / C+C_M =0.08 pF\n",
      "Therefore,  f_p = 1 / 2*pi*sqrt(L*C_eq) =0.90 MHz\n",
      "(iii)  % increase =5.02\n",
      "(iv)  Q = omega_s*L / R = 2*pi*f_s*L / R =430.27\n"
     ]
    }
   ],
   "source": [
    "from math import sqrt,pi\n",
    "from __future__ import division  \n",
    "fs=(1/(2*pi*sqrt(0.4*0.085*10**-12)))*10**-6  # in MHz\n",
    "print \"(i)  f_s(in MHz) = 1 / 2*pi*sqrt(L*C) =%0.2f MHz\"%fs\n",
    "ceq=0.085/1.085  # in pF\n",
    "print \"(ii)  C_eq = C*C_M / C+C_M =%0.2f pF\"%ceq\n",
    "fp=(1/(2*pi*sqrt(0.4*0.078*10**-12)))*10**-6  # in MHz  (the answer in textbook is wrong)\n",
    "print \"Therefore,  f_p = 1 / 2*pi*sqrt(L*C_eq) =%0.2f MHz\"%fp\n",
    "inc=((0.899-0.856)/0.856)*100  # in percentage\n",
    "print \"(iii)  %% increase =%0.2f\"%inc\n",
    "q=(2*pi*0.4*0.856*10**6)/(5*10**3)\n",
    "print \"(iv)  Q = omega_s*L / R = 2*pi*f_s*L / R =%0.2f\"%q"
   ]
  },
  {
   "cell_type": "markdown",
   "metadata": {},
   "source": [
    "## Example 2.16 Page No. 2-80"
   ]
  },
  {
   "cell_type": "code",
   "execution_count": 25,
   "metadata": {
    "collapsed": false
   },
   "outputs": [
    {
     "name": "stdout",
     "output_type": "stream",
     "text": [
      "    C_M = 2 pF\n",
      "Now  f_s = 1 / 2*pi*sqrt(L*C) =1.13 MHz\n",
      "  C_eq = C_M*C / C_M+C =0.00 F\n",
      "  f_p = 1 / 2*pi*sqrt(L*C_eq) =1.13\n",
      "So f_s and f_p values are almost same.\n"
     ]
    }
   ],
   "source": [
    "from math import sqrt,pi\n",
    "from __future__ import division  \n",
    "print \"    C_M = 2 pF\"\n",
    "fs=(1/(2*pi*sqrt(2*0.01*10**-12)))*10**-6  # in MHz\n",
    "print \"Now  f_s = 1 / 2*pi*sqrt(L*C) =%0.2f MHz\"%fs\n",
    "ceq=(2*0.01*10**-24)/(2.01*10**-12)  # in F\n",
    "print \"  C_eq = C_M*C / C_M+C =%0.2f F\"%ceq\n",
    "fp=(1/(2*pi*sqrt(2*9.95*10**-15)))*10**-6  # in MHz\n",
    "print \"  f_p = 1 / 2*pi*sqrt(L*C_eq) =%0.2f\"%fp\n",
    "print \"So f_s and f_p values are almost same.\""
   ]
  },
  {
   "cell_type": "markdown",
   "metadata": {},
   "source": [
    "## Example 2.17 Page No. 2-80"
   ]
  },
  {
   "cell_type": "code",
   "execution_count": 26,
   "metadata": {
    "collapsed": false
   },
   "outputs": [
    {
     "name": "stdout",
     "output_type": "stream",
     "text": [
      "R = 6 k-ohm,  C = 1500 pF,  R_C = 18 k-ohm\n",
      "Now    K = R_C / R =3.00\n",
      "Therefore,  f = 1 / 2*pi*R*C*sqrt(6+4K)\n",
      "  f = 4.17 kHz\n",
      "  (h_fe)min = 4K + 23 + 29/K =44.67\n"
     ]
    }
   ],
   "source": [
    "from math import sqrt,pi\n",
    "from __future__ import division  \n",
    "print \"R = 6 k-ohm,  C = 1500 pF,  R_C = 18 k-ohm\"\n",
    "k=18/6\n",
    "print \"Now    K = R_C / R =%0.2f\"%k\n",
    "print \"Therefore,  f = 1 / 2*pi*R*C*sqrt(6+4K)\"\n",
    "f=(1/(2*pi*(6*10**3)*(1500*10**-12)*sqrt(6+12)))*10**-3  # in kHZ\n",
    "print \"  f = %0.2f kHz\"%f\n",
    "hfe=(4*3)+23+(29/3)\n",
    "print \"  (h_fe)min = 4K + 23 + 29/K =%0.2f\"%hfe"
   ]
  },
  {
   "cell_type": "markdown",
   "metadata": {},
   "source": [
    "## Example 2.18 Page No. 2-81"
   ]
  },
  {
   "cell_type": "code",
   "execution_count": 28,
   "metadata": {
    "collapsed": false
   },
   "outputs": [
    {
     "name": "stdout",
     "output_type": "stream",
     "text": [
      "Refering to equation(1) of section 4.5.3, the input impedance is given by,\n",
      "R''_i = R1 || R2 || h_ie\n",
      "Now  R1 = 25 k-ohm,  R2 = 47 k-ohm,  and  h_ie = 2 k-ohm\n",
      "Therefore,  R''_i = 1.78 kohm\n",
      "  K = R_C / R\n",
      "Now  R_C = 10 k-ohm        ...given\n",
      "Now  f = 1 / 2*pi*R*C*sqrt(6+4K)\n",
      "Therefore,  R*sqrt(6+4K) = 31830.989\n",
      "Now  K = R_C / R = 10*10**3 / R\n",
      "Therefore,  R*sqrt(6+(40*10*10**3/R)) = 31830.989\n",
      "Therefore,  R**2*(6+(40*10*10**3/R)) = (31830.989)**2\n",
      "Therefore,  R = -10.08 kohm            Neglecting negative value\n",
      "Therefore,  K = R_C / R =0.60\n",
      "Therefore,  h_fe >= 4K + 23 + 29/K\n",
      "  h_fe >=73.94\n"
     ]
    }
   ],
   "source": [
    "from sympy import symbols,solve\n",
    "from math import sqrt,pi\n",
    "from __future__ import division  \n",
    "print \"Refering to equation(1) of section 4.5.3, the input impedance is given by,\"\n",
    "print \"R''_i = R1 || R2 || h_ie\"\n",
    "print \"Now  R1 = 25 k-ohm,  R2 = 47 k-ohm,  and  h_ie = 2 k-ohm\"\n",
    "ri=(25*47*2)/((47*2)+(25*2)+(25*47))  # in k-ohm\n",
    "print \"Therefore,  R''_i = %0.2f kohm\"%ri\n",
    "print \"  K = R_C / R\"\n",
    "print \"Now  R_C = 10 k-ohm        ...given\"\n",
    "print \"Now  f = 1 / 2*pi*R*C*sqrt(6+4K)\"\n",
    "print \"Therefore,  R*sqrt(6+4K) = 31830.989\"\n",
    "print \"Now  K = R_C / R = 10*10**3 / R\"\n",
    "print \"Therefore,  R*sqrt(6+(40*10*10**3/R)) = 31830.989\"\n",
    "print \"Therefore,  R**2*(6+(40*10*10**3/R)) = (31830.989)**2\"\n",
    "R=symbols('R')\n",
    "p1=6*R**2+(40*10**3)*R-(31830.989)**2\n",
    "t1=solve(p1,R)[1]\n",
    "ans1=t1\n",
    "print \"Therefore,  R = %0.2f kohm            Neglecting negative value\"%((-ans1)*10**-3)\n",
    "k=10/16.74\n",
    "print \"Therefore,  K = R_C / R =%0.2f\"%k\n",
    "print \"Therefore,  h_fe >= 4K + 23 + 29/K\"\n",
    "hfe=(4*0.5973)+23+(29/0.5973)\n",
    "print \"  h_fe >=%0.2f\"%hfe"
   ]
  },
  {
   "cell_type": "markdown",
   "metadata": {},
   "source": [
    "## Example 2.19 Page No. 2-82"
   ]
  },
  {
   "cell_type": "code",
   "execution_count": 29,
   "metadata": {
    "collapsed": false
   },
   "outputs": [
    {
     "name": "stdout",
     "output_type": "stream",
     "text": [
      "  C_eq = C1*C2 / C1+C2 =0.02 pF\n",
      "Therefore,  f_s(in MHz) = 1 / 2*pi*sqrt(L*C1) =5.03 MHz\n",
      "Therefore, f_p = 1 / 2*pi*sqrt(L*C_eq) =5.04 MHz\n",
      "Let C_s = 5 pF connected across the crystal\n",
      "Therefore,  C''2 = C2 + C_x =17.00 pF\n",
      "Therefore,  C''_eq = C1*C''2 / C1+C''2 =0.02 pF\n",
      "Therefore,  f''_p = 1 / 2*pi*sqrt(L*C_eq) =5.04 MHz\n",
      "New C_x = 6 pF is connected then,\n",
      "  C''''2 = C2 + C_x =18.00 pF\n",
      "Therefore,  C''''_eq = C1*C''''2 / C1+C''''2 = 0.02 pF\n",
      "Therefore,  f''''_p = 1 / 2*pi*sqrt(L*C''''_eq) =5.04 MHz\n",
      "Therefore,  Change = f''_p - f''''_p =164.00 Hz\n"
     ]
    }
   ],
   "source": [
    "from math import sqrt,pi\n",
    "from __future__ import division  \n",
    "ceq=((0.02*12*10**-24)/(12.02*10**-12))*10**12  # in pF\n",
    "print \"  C_eq = C1*C2 / C1+C2 =%0.2f pF\"%ceq\n",
    "fs=(1/(2*pi*sqrt(50*0.02*10**-15)))*10**-6  # in MHz\n",
    "print \"Therefore,  f_s(in MHz) = 1 / 2*pi*sqrt(L*C1) =%0.2f MHz\"%fs\n",
    "fp=(1/(2*pi*sqrt(50*0.01996*10**-15)))*10**-6  # in MHz\n",
    "print \"Therefore, f_p = 1 / 2*pi*sqrt(L*C_eq) =%0.2f MHz\"%fp\n",
    "print \"Let C_s = 5 pF connected across the crystal\"\n",
    "c2=12+5\n",
    "print \"Therefore,  C''2 = C2 + C_x =%0.2f pF\"%c2\n",
    "ceq1=0.019976\n",
    "print \"Therefore,  C''_eq = C1*C''2 / C1+C''2 =%0.2f pF\"%ceq1\n",
    "fp1=5.03588\n",
    "print \"Therefore,  f''_p = 1 / 2*pi*sqrt(L*C_eq) =%0.2f MHz\"%fp1\n",
    "print \"New C_x = 6 pF is connected then,\"\n",
    "c21=12+6\n",
    "print \"  C''''2 = C2 + C_x =%0.2f pF\"%c21\n",
    "ceq2=0.0199778\n",
    "print \"Therefore,  C''''_eq = C1*C''''2 / C1+C''''2 = %0.2f pF\"%ceq2\n",
    "fp2=5.035716\n",
    "print \"Therefore,  f''''_p = 1 / 2*pi*sqrt(L*C''''_eq) =%0.2f MHz\"%fp2\n",
    "c=(5.03588-5.035716)*10**6\n",
    "print \"Therefore,  Change = f''_p - f''''_p =%0.2f Hz\"%c"
   ]
  },
  {
   "cell_type": "markdown",
   "metadata": {},
   "source": [
    "## Example 2.20 Page No. 2-82"
   ]
  },
  {
   "cell_type": "code",
   "execution_count": 30,
   "metadata": {
    "collapsed": false
   },
   "outputs": [
    {
     "name": "stdout",
     "output_type": "stream",
     "text": [
      "R''_i = R1 || R2 || h_fe =1.79 kohm\n",
      "Now  R''_i + R3 = R\n",
      "Therefore,  R3 = R - R''_i =4.98 kohm\n",
      "K = R_C / R = 2.94\n",
      "Therefore,  f = 1 / 2*pi*RC*sqrt(6+4K)\n",
      "Therefore,  C = 111.06 pF\n",
      "And  h_fe >= 4 K + 23 + 29/K >=44.62\n"
     ]
    }
   ],
   "source": [
    "from math import sqrt,pi\n",
    "from __future__ import division  \n",
    "ri=(22*68*2)/((68*2)+(22*2)+(22*68))\n",
    "print \"R''_i = R1 || R2 || h_fe =%0.2f kohm\"%ri  #answer in textbook is wrong\n",
    "print \"Now  R''_i + R3 = R\"\n",
    "r3=6.8-1.8243\n",
    "print \"Therefore,  R3 = R - R''_i =%0.2f kohm\"%r3\n",
    "k=20/6.8\n",
    "print \"K = R_C / R = %0.2f\"%k\n",
    "print \"Therefore,  f = 1 / 2*pi*RC*sqrt(6+4K)\"\n",
    "c=(1/(2*pi*6.8*50*sqrt(6+(4*2.9411))*10**6))*10**12\n",
    "print \"Therefore,  C = %0.2f pF\"%c\n",
    "hfe=(4*2.9411)+23+(29/2.9411)\n",
    "print \"And  h_fe >= 4 K + 23 + 29/K >=%0.2f\"%hfe"
   ]
  },
  {
   "cell_type": "markdown",
   "metadata": {},
   "source": [
    "## Example 2.21 Page No. 2-82"
   ]
  },
  {
   "cell_type": "code",
   "execution_count": 31,
   "metadata": {
    "collapsed": false
   },
   "outputs": [
    {
     "name": "stdout",
     "output_type": "stream",
     "text": [
      "The frequency of the oscillator is given by,\n",
      "  f = 1 / 2*pi*sqrt(R1*R2*C1*C2)\n",
      "For  f = 20 kHz,\n",
      "Therefore,  R2 = 6.33 kohm\n",
      "For  f = 70 kHz,\n",
      "Therefore,  R2 = 0.52 kohm\n",
      "So minimum value of R2 is 0.517 k-ohm while the maximum value of R2 is 6.33 k-ohm\n"
     ]
    }
   ],
   "source": [
    "from __future__ import division  \n",
    "print \"The frequency of the oscillator is given by,\"\n",
    "print \"  f = 1 / 2*pi*sqrt(R1*R2*C1*C2)\"\n",
    "print \"For  f = 20 kHz,\"\n",
    "r2=(1/(4*(pi**2)*((20*10**3)**2)*(10*10**3)*((0.001*10**-6)**2)))*10**-3\n",
    "print \"Therefore,  R2 = %0.2f kohm\"%r2\n",
    "print \"For  f = 70 kHz,\"\n",
    "r2=(1/(4*(pi**2)*((70*10**3)**2)*(10*10**3)*((0.001*10**-6)**2)))*10**-3\n",
    "print \"Therefore,  R2 = %0.2f kohm\"%r2\n",
    "print \"So minimum value of R2 is 0.517 k-ohm while the maximum value of R2 is 6.33 k-ohm\""
   ]
  },
  {
   "cell_type": "markdown",
   "metadata": {},
   "source": [
    "## Example 2.22 Page No. 2-83"
   ]
  },
  {
   "cell_type": "code",
   "execution_count": 32,
   "metadata": {
    "collapsed": false
   },
   "outputs": [
    {
     "name": "stdout",
     "output_type": "stream",
     "text": [
      "For a Hartley oscillator,\n",
      "  f = 1 / 2*pi*sqrt(L_eq*C)        where L_eq = L1 + L2 + 2M\n",
      "Therefore,  L_eq =17.95 mH\n",
      "Therefore,  L2 = 2.95 mH\n",
      "Now    h_fe = L1+M / L2+M =5.09\n"
     ]
    }
   ],
   "source": [
    "from __future__ import division  \n",
    "print \"For a Hartley oscillator,\"\n",
    "print \"  f = 1 / 2*pi*sqrt(L_eq*C)        where L_eq = L1 + L2 + 2M\"\n",
    "leq=(1/(4*(pi**2)*((168*10**3)**2)*(50*10**-12)))*10**3  # in mH\n",
    "print \"Therefore,  L_eq =%0.2f mH\"%leq\n",
    "l2=((17.95*10**-3)-(15*10**-3)-(5*10**-6))*10**3  # in mH\n",
    "print \"Therefore,  L2 = %0.2f mH\"%l2\n",
    "hfe=((15*10**-3)+(5*10**-6))/((2.945*10**-3)+(5*10**-6))\n",
    "print \"Now    h_fe = L1+M / L2+M =%0.2f\"%hfe"
   ]
  },
  {
   "cell_type": "markdown",
   "metadata": {},
   "source": [
    "## Example 2.24 Page No. 2-84"
   ]
  },
  {
   "cell_type": "code",
   "execution_count": 33,
   "metadata": {
    "collapsed": false
   },
   "outputs": [
    {
     "name": "stdout",
     "output_type": "stream",
     "text": [
      "(i)  Assume one perticular coupling direction for which,\n",
      "  L_eq = L1 + L2 + 2M = 0.25 mH\n",
      "Therefore,  f = 1 / 2*pi*sqrt(L_eq*C) =1.01 MHz\n",
      "Let the direction of coupling is reversed,\n",
      "  L_eq = L1 + L2 - 2M = 0.15 mH\n",
      "Therefore,  f'' = 1 / 2*pi*sqrt(L_eq*C) =1.30 MHz\n",
      "Therefore,  % change = f''-f/f * 100 = 29.09 \n",
      "(ii)  Let us assume direction of coupling such that,\n",
      "  L_eq = L1 + L2 + 2M = 0.25 mH\n",
      "   C_t = Trim capacitor = 100 pF\n",
      "Therefore,  C_eq = C*C_t / C+C_t = 50 pF\n",
      "Therefore,  f = 1 / 2*pi*sqrt(L_eq*C_eq) =1.42 MHz\n",
      "If now direction of coupling is reversed,\n",
      "  L_eq = L1 + L2 - 2M = 0.15 mH\n",
      "Therefore,  f'' = 1 / 2*pi*sqrt(L_eq*C_eq) =1.84 MHz\n",
      "Therefore,  % change = f''-f/f * 100 =29.10\n"
     ]
    }
   ],
   "source": [
    "from __future__ import division  \n",
    "print \"(i)  Assume one perticular coupling direction for which,\"\n",
    "print \"  L_eq = L1 + L2 + 2M = 0.25 mH\"\n",
    "f=(1/(2*pi*sqrt(0.25*100*10**-15)))*10**-6  # in MHz\n",
    "print \"Therefore,  f = 1 / 2*pi*sqrt(L_eq*C) =%0.2f MHz\"%f\n",
    "print \"Let the direction of coupling is reversed,\"\n",
    "print \"  L_eq = L1 + L2 - 2M = 0.15 mH\"\n",
    "fd=(1/(2*pi*sqrt(0.15*100*10**-15)))*10**-6  # in MHz\n",
    "print \"Therefore,  f'' = 1 / 2*pi*sqrt(L_eq*C) =%0.2f MHz\"%fd\n",
    "pc=((1.2994-1.00658)/1.00658)*100  # in percentage\n",
    "print \"Therefore,  %% change = f''-f/f * 100 = %0.2f \"%pc\n",
    "print \"(ii)  Let us assume direction of coupling such that,\"\n",
    "print \"  L_eq = L1 + L2 + 2M = 0.25 mH\"\n",
    "print \"   C_t = Trim capacitor = 100 pF\"\n",
    "print \"Therefore,  C_eq = C*C_t / C+C_t = 50 pF\"\n",
    "f1=(1/(2*pi*sqrt(0.25*50*10**-15)))*10**-6  # in MHz\n",
    "print \"Therefore,  f = 1 / 2*pi*sqrt(L_eq*C_eq) =%0.2f MHz\"%f1\n",
    "print \"If now direction of coupling is reversed,\"\n",
    "print \"  L_eq = L1 + L2 - 2M = 0.15 mH\"\n",
    "f2=(1/(2*pi*sqrt(0.15*50*10**-15)))*10**-6  # in MHz\n",
    "print \"Therefore,  f'' = 1 / 2*pi*sqrt(L_eq*C_eq) =%0.2f MHz\"%f2\n",
    "pc1=((1.83776-1.4235)/1.4235)*100\n",
    "print \"Therefore,  %% change = f''-f/f * 100 =%0.2f\"%pc1"
   ]
  },
  {
   "cell_type": "markdown",
   "metadata": {},
   "source": [
    "## Example 2.25 Page No. 2-84"
   ]
  },
  {
   "cell_type": "code",
   "execution_count": 35,
   "metadata": {
    "collapsed": false
   },
   "outputs": [
    {
     "name": "stdout",
     "output_type": "stream",
     "text": [
      "For RC phase shhift oscillator,\n",
      "  h_fe = 4K + 23 + 29/K           ...given h_fe = 150\n",
      "Therefore,  150 = 4K + 23 + 29/K\n",
      "Therefore,  4K**2 - 127K + 29 = 0\n",
      "Therefore, K =0.23\n",
      "  f = 1 / 2*pi*R*C*sqrt(6+4K)        ...given f = 5 kHz\n",
      "Therefore,Choose    C = 100 pF\n",
      "Therefore,  R = 12.10 kohm\n",
      "  K = R_C / R  i.e.  R_C = KR = 2.7 k-ohm\n",
      "Neglecting effect of biasing resistances assuming them to be large and selecting transistor with h_ie = 2 k-ohm\n",
      "  R''_i = h_ie = 2 k-ohm\n",
      "Therefore,Last resistance in phase network\n",
      "  R3 = R - R''_i =10.00\n",
      "Using the back to back connected zener diodes of 9.3 V (Vz) each at the output of emitter follower and using this at the output of the oscillator, the output amplitude can be controlled to 10 V i.e. 20 V peak to peak. The zener diode 9.3V and forward biased diode of 0.7 V gives total 10 V\n",
      "The designed circuit is shown in fig.2.58\n"
     ]
    }
   ],
   "source": [
    "from sympy import symbols,solve\n",
    "from __future__ import division  \n",
    "print \"For RC phase shhift oscillator,\"\n",
    "print \"  h_fe = 4K + 23 + 29/K           ...given h_fe = 150\"\n",
    "print \"Therefore,  150 = 4K + 23 + 29/K\"\n",
    "print \"Therefore,  4K**2 - 127K + 29 = 0\"\n",
    "K=symbols('K')\n",
    "p1=4*K**2-127*K+29\n",
    "t1=solve(p1,K)[0]\n",
    "print \"Therefore, K =%0.2f\"%t1\n",
    "print \"  f = 1 / 2*pi*R*C*sqrt(6+4K)        ...given f = 5 kHz\"\n",
    "print \"Therefore,Choose    C = 100 pF\"\n",
    "r=(1/(2*pi*(1000*10**-12)*(5*10**3)*sqrt(6+(4*0.23))))*10**-3  # in k-ohm\n",
    "print \"Therefore,  R = %0.2f kohm\"%r\n",
    "print \"  K = R_C / R  i.e.  R_C = KR = 2.7 k-ohm\"\n",
    "print \"Neglecting effect of biasing resistances assuming them to be large and selecting transistor with h_ie = 2 k-ohm\"\n",
    "print \"  R''_i = h_ie = 2 k-ohm\"\n",
    "print \"Therefore,Last resistance in phase network\"\n",
    "r3=12-2\n",
    "print \"  R3 = R - R''_i =%0.2f\"%r3\n",
    "print \"Using the back to back connected zener diodes of 9.3 V (Vz) each at the output of emitter follower and using this at the output of the oscillator, the output amplitude can be controlled to 10 V i.e. 20 V peak to peak. The zener diode 9.3V and forward biased diode of 0.7 V gives total 10 V\"\n",
    "print \"The designed circuit is shown in fig.2.58\""
   ]
  },
  {
   "cell_type": "markdown",
   "metadata": {},
   "source": [
    "## Example 2.26 Page No. 2-85"
   ]
  },
  {
   "cell_type": "code",
   "execution_count": 36,
   "metadata": {
    "collapsed": false
   },
   "outputs": [
    {
     "name": "stdout",
     "output_type": "stream",
     "text": [
      "(1) f = 1 / 2*pi*sqrt(L*C_eq)\n",
      "Where  C_eq = C1*C2 / C1+C2 = 83.33 pF\n",
      "f = 87.17 kHz\n",
      "(2) The input voltage is not required for the oscillator. The feedback voltage, which is the part of the output voltage is enough to drive the oscillator\n",
      "V0 = 10 V\n",
      "For Colpitts oscillator, gain = C2 / C1\n",
      "Therefore,  Gain =5.00\n",
      "Therefore,  Feedback voltage(in V) = V0 / Gain =2.00 V\n",
      "(3) Minimum gain = C2/C1 = 5\n",
      "h_fe(min) = C2/C1 = 5\n",
      "(4) Gain = 10 = C2/C1\n",
      "Therefore,  C1 = 50.00 pF\n",
      "(5) For C1 = 50 pF  and  C2 = 500 pF\n",
      "Where  C_eq = C1*C2 / C1+C2 =45.45 pF\n",
      "f = 1 / 2*pi*sqrt(L*C_eq) = 118.03 kHz\n"
     ]
    }
   ],
   "source": [
    "from __future__ import division  \n",
    "print \"(1) f = 1 / 2*pi*sqrt(L*C_eq)\"\n",
    "ceq=(100*500)/600\n",
    "print \"Where  C_eq = C1*C2 / C1+C2 = %0.2f pF\"%ceq\n",
    "f=(1/(2*pi*sqrt(40*83.333*10**-15)))*10**-3\n",
    "print \"f = %0.2f kHz\"%f\n",
    "print \"(2) The input voltage is not required for the oscillator. The feedback voltage, which is the part of the output voltage is enough to drive the oscillator\"\n",
    "print \"V0 = 10 V\"\n",
    "print \"For Colpitts oscillator, gain = C2 / C1\"\n",
    "gain=500/100\n",
    "print \"Therefore,  Gain =%0.2f\"%gain\n",
    "fv=10/5\n",
    "print \"Therefore,  Feedback voltage(in V) = V0 / Gain =%0.2f V\"%fv\n",
    "print \"(3) Minimum gain = C2/C1 = 5\"\n",
    "print \"h_fe(min) = C2/C1 = 5\"\n",
    "print \"(4) Gain = 10 = C2/C1\"\n",
    "c1=500/10\n",
    "print \"Therefore,  C1 = %0.2f pF\"%c1\n",
    "print \"(5) For C1 = 50 pF  and  C2 = 500 pF\"\n",
    "ceq=(50*500)/550\n",
    "print \"Where  C_eq = C1*C2 / C1+C2 =%0.2f pF\"%ceq\n",
    "f=(1/(2*pi*sqrt(40*45.4545*10**-15)))*10**-3\n",
    "print \"f = 1 / 2*pi*sqrt(L*C_eq) = %0.2f kHz\"%f"
   ]
  },
  {
   "cell_type": "markdown",
   "metadata": {},
   "source": [
    "## Example 2.27 Page No. 2-86"
   ]
  },
  {
   "cell_type": "code",
   "execution_count": 37,
   "metadata": {
    "collapsed": false
   },
   "outputs": [
    {
     "name": "stdout",
     "output_type": "stream",
     "text": [
      "The frequency required is, f = 1 MHz and for FET, u = 20\n",
      "Now  u = C2/C1  for oscillations\n",
      "Therefore,  20 = C2/C1\n",
      "Therefore,  C2 = 20*C1       ....(1)\n",
      "Let  C1 = 0.01 uF  hence  C2 = 0.2 uF\n",
      "Therefore,  C_eq = C1*C2 / C1+C2 =9.52 nF\n",
      "Now  f = 1 / 2*pi*sqrt(L*C_eq)\n",
      "Therefore,  L( = 2.66 uH\n",
      "The baising resistances can be selected as,\n",
      "R1 = 12 M-ohm  and  R2 = 8 M-ohm\n",
      "These resistances must be large\n",
      "The designed circuit is shown in the fig 2.59\n"
     ]
    }
   ],
   "source": [
    "from __future__ import division  \n",
    "print \"The frequency required is, f = 1 MHz and for FET, u = 20\"\n",
    "print \"Now  u = C2/C1  for oscillations\"\n",
    "print \"Therefore,  20 = C2/C1\"\n",
    "print \"Therefore,  C2 = 20*C1       ....(1)\"\n",
    "print \"Let  C1 = 0.01 uF  hence  C2 = 0.2 uF\"\n",
    "ceq=((0.01*0.2)/(0.21))*10**3\n",
    "print \"Therefore,  C_eq = C1*C2 / C1+C2 =%0.2f nF\"%ceq\n",
    "print \"Now  f = 1 / 2*pi*sqrt(L*C_eq)\"\n",
    "l=(1/(((2*pi*1*10**6)**2)*(9.5238*10**-9)))*10**6\n",
    "print \"Therefore,  L( = %0.2f uH\"%l\n",
    "print \"The baising resistances can be selected as,\"\n",
    "print \"R1 = 12 M-ohm  and  R2 = 8 M-ohm\"\n",
    "print \"These resistances must be large\"\n",
    "print \"The designed circuit is shown in the fig 2.59\""
   ]
  },
  {
   "cell_type": "markdown",
   "metadata": {},
   "source": [
    "## Example 2.28 Page No. 2-87"
   ]
  },
  {
   "cell_type": "code",
   "execution_count": 38,
   "metadata": {
    "collapsed": false
   },
   "outputs": [
    {
     "name": "stdout",
     "output_type": "stream",
     "text": [
      "L_eq = L1 + L2 + 2M =6100.00 uH\n",
      "f = 1 / 2*pi*sqrt(C*L_eq) =166.38 kHz\n"
     ]
    }
   ],
   "source": [
    "from __future__ import division  \n",
    "leq=500+5000+600\n",
    "print \"L_eq = L1 + L2 + 2M =%0.2f uH\"%leq\n",
    "f=(1/(2*pi*sqrt(150*6100*10**-18)))*10**-3\n",
    "print \"f = 1 / 2*pi*sqrt(C*L_eq) =%0.2f kHz\"%f"
   ]
  },
  {
   "cell_type": "markdown",
   "metadata": {},
   "source": [
    "## Example 2.29 Page No. 2-87"
   ]
  },
  {
   "cell_type": "code",
   "execution_count": 39,
   "metadata": {
    "collapsed": false
   },
   "outputs": [
    {
     "name": "stdout",
     "output_type": "stream",
     "text": [
      "L_s = 0.8 H,  C_s = 0.08 pF,  R_s = 5 k-ohm,  C_M = 1 pF\n",
      "f_s = 1 / 2*pi*sqrt(C_s*L_s) =629.12 kHz\n",
      "C_eq = C_M*C_s / C_M+C_s =0.00 F\n",
      "Therefore,  f_p = 1 / 2*pi*sqrt(C*L_eq) =653.80 kHz\n"
     ]
    }
   ],
   "source": [
    "from __future__ import division  \n",
    "print \"L_s = 0.8 H,  C_s = 0.08 pF,  R_s = 5 k-ohm,  C_M = 1 pF\"\n",
    "fs=(1/(2*pi*sqrt(0.8*0.08*10**-12)))*10**-3\n",
    "print \"f_s = 1 / 2*pi*sqrt(C_s*L_s) =%0.2f kHz\"%fs\n",
    "ceq=(0.08*10**-12)/1.08\n",
    "print \"C_eq = C_M*C_s / C_M+C_s =%0.2f F\"%ceq\n",
    "fp=(1/(2*pi*sqrt(0.8*7.4074*10**-14)))*10**-3\n",
    "print \"Therefore,  f_p = 1 / 2*pi*sqrt(C*L_eq) =%0.2f kHz\"%fp"
   ]
  },
  {
   "cell_type": "markdown",
   "metadata": {},
   "source": [
    "## Example 2.31 Page No. 2-88"
   ]
  },
  {
   "cell_type": "code",
   "execution_count": 40,
   "metadata": {
    "collapsed": false
   },
   "outputs": [
    {
     "name": "stdout",
     "output_type": "stream",
     "text": [
      "The series and parallel resonating frequencies are,\n",
      "f_s = 1 / 2*pi*sqrt(C*L)  while  f_p = 1 / 2*pi*sqrt(L*C_eq)\n",
      "f_p/f_s = 1/2*pi*sqrt(L*C_eq) * 2*pi*sqrt(LC) = sqrt(c/C_eq) but C_eq = C*C_M/C+C_M\n",
      "f_p/f_s = sqrt(C/(C*C_M/C+C_M)) = sqrt(C*(C+C_M)/C*C_M) = sqrt(1+(C/C_M)) =1.01\n",
      "f_p = 1.00995*f_s\n",
      "Therefore,  % increase = (1.00995*f_s-f_s / f_s)*100 =1.00\n"
     ]
    }
   ],
   "source": [
    "from __future__ import division  \n",
    "print \"The series and parallel resonating frequencies are,\"\n",
    "print \"f_s = 1 / 2*pi*sqrt(C*L)  while  f_p = 1 / 2*pi*sqrt(L*C_eq)\"\n",
    "print \"f_p/f_s = 1/2*pi*sqrt(L*C_eq) * 2*pi*sqrt(LC) = sqrt(c/C_eq) but C_eq = C*C_M/C+C_M\"\n",
    "fp=sqrt(1+(0.04/2))\n",
    "print \"f_p/f_s = sqrt(C/(C*C_M/C+C_M)) = sqrt(C*(C+C_M)/C*C_M) = sqrt(1+(C/C_M)) =%0.2f\"%fp\n",
    "print \"f_p = 1.00995*f_s\"\n",
    "inc=0.00995*100\n",
    "print \"Therefore,  %% increase = (1.00995*f_s-f_s / f_s)*100 =%0.2f\"%inc,"
   ]
  },
  {
   "cell_type": "markdown",
   "metadata": {},
   "source": [
    "## Example 2.32 Page No. 2-88"
   ]
  },
  {
   "cell_type": "code",
   "execution_count": 41,
   "metadata": {
    "collapsed": false
   },
   "outputs": [
    {
     "name": "stdout",
     "output_type": "stream",
     "text": [
      "C = 20 pF,  L2 = 1000 uH,  L1 = 100 uH,  M = 20 uH\n",
      "Therefore,  L_eq = L1 + L2 + 2M =1140.00 uH\n",
      "Therefore,  f = 1 / 2*pi*sqrt(L_eq*C) =1.05 MHz\n",
      "The feedback fraction beta is given by,\n",
      "beta = V_f/V0 = X_L1 / X_L1+X_L2 = L1 / L1+L2 =0.09\n",
      "It is a Hartley oscillator\n"
     ]
    }
   ],
   "source": [
    "from __future__ import division  \n",
    "print \"C = 20 pF,  L2 = 1000 uH,  L1 = 100 uH,  M = 20 uH\"\n",
    "leq=100+1000+40\n",
    "print \"Therefore,  L_eq = L1 + L2 + 2M =%0.2f uH\"%leq\n",
    "f=(1/(2*pi*sqrt(1140*20*10**-18)))*10**-6\n",
    "print  \"Therefore,  f = 1 / 2*pi*sqrt(L_eq*C) =%0.2f MHz\"%f\n",
    "print \"The feedback fraction beta is given by,\"\n",
    "b=100/1100\n",
    "print \"beta = V_f/V0 = X_L1 / X_L1+X_L2 = L1 / L1+L2 =%0.2f\"%b\n",
    "print \"It is a Hartley oscillator\""
   ]
  },
  {
   "cell_type": "markdown",
   "metadata": {},
   "source": [
    "## Example 2.33 Page No. 2-89"
   ]
  },
  {
   "cell_type": "code",
   "execution_count": 42,
   "metadata": {
    "collapsed": false
   },
   "outputs": [
    {
     "name": "stdout",
     "output_type": "stream",
     "text": [
      "Using the expression of the frequency,\n",
      "f = 1 / 2*pi*RC*sqrt(6)\n",
      "Therefore,  C = 6.50 nF\n",
      "For FET phase shift oscillator,\n",
      "|A| = g_m*R_L  and  |A| >= 29\n",
      "Therefore,  g_m*R_L >= 29  i.e.  R_L(in k-ohm) >=5.80\n",
      "With R_L = 5.8 k-ohm,\n",
      "R_L = R_D*r_d / R_D+r_d\n",
      "Therefore,  R_D =6.78 kohm\n"
     ]
    }
   ],
   "source": [
    "from __future__ import division  \n",
    "print \"Using the expression of the frequency,\"\n",
    "print \"f = 1 / 2*pi*RC*sqrt(6)\"\n",
    "c=(1/(2*pi*10*sqrt(6)*10**6))*10**9\n",
    "print \"Therefore,  C = %0.2f nF\"%c\n",
    "print \"For FET phase shift oscillator,\"\n",
    "print \"|A| = g_m*R_L  and  |A| >= 29\"\n",
    "rl=(29/5000)*10**3\n",
    "print \"Therefore,  g_m*R_L >= 29  i.e.  R_L(in k-ohm) >=%0.2f\"%rl\n",
    "print \"With R_L = 5.8 k-ohm,\"\n",
    "print \"R_L = R_D*r_d / R_D+r_d\"\n",
    "rd=40/5.8965\n",
    "format(7)\n",
    "print \"Therefore,  R_D =%0.2f kohm\"%rd"
   ]
  },
  {
   "cell_type": "markdown",
   "metadata": {},
   "source": [
    "## Example 2.34 Page No. 2-89"
   ]
  },
  {
   "cell_type": "code",
   "execution_count": 43,
   "metadata": {
    "collapsed": false
   },
   "outputs": [
    {
     "name": "stdout",
     "output_type": "stream",
     "text": [
      "The name of the oscillator is Pierce oscillator\n",
      "C1 = 1000 pF,  C2 = 100 pF,  f_s = 1 MHz\n",
      "C_eq = C1*C2 / C1+C2 =0.00 F\n",
      "At resonance, X_L  = X_Ceq  i.e.  2*pi*f*L = 1 / 2*pi*f*C_eq\n",
      "Therefore,  L = 1/(2*pi*f)**2*C_eq = 278.63 uH\n",
      "The fig 2.61(a) shows the electrical equivalent of the crystal\n",
      "At series resonance,\n",
      "X_L = X_C for crystal\n",
      "Therefore,  C = 90.909 pF for crystal\n",
      "The mounting capacitance is about 1 to 2 pF\n"
     ]
    }
   ],
   "source": [
    "from __future__ import division  \n",
    "print \"The name of the oscillator is Pierce oscillator\"\n",
    "print \"C1 = 1000 pF,  C2 = 100 pF,  f_s = 1 MHz\"\n",
    "ceq=(1000*100*10**-12)/1100\n",
    "print \"C_eq = C1*C2 / C1+C2 =%0.2f F\"%ceq\n",
    "print \"At resonance, X_L  = X_Ceq  i.e.  2*pi*f*L = 1 / 2*pi*f*C_eq\"\n",
    "l=(1/(((2*pi*10**6)**2)*(90.909*10**-12)))*10**6\n",
    "print \"Therefore,  L = 1/(2*pi*f)**2*C_eq = %0.2f uH\"%l\n",
    "print \"The fig 2.61(a) shows the electrical equivalent of the crystal\"\n",
    "print \"At series resonance,\"\n",
    "print \"X_L = X_C for crystal\"\n",
    "print \"Therefore,  C = 90.909 pF for crystal\"\n",
    "print \"The mounting capacitance is about 1 to 2 pF\""
   ]
  },
  {
   "cell_type": "markdown",
   "metadata": {},
   "source": [
    "## Example 2.36 Page No. 2-90"
   ]
  },
  {
   "cell_type": "code",
   "execution_count": 44,
   "metadata": {
    "collapsed": false
   },
   "outputs": [
    {
     "name": "stdout",
     "output_type": "stream",
     "text": [
      "f = 2 kHz\n",
      "f = 1/ 2*pi*R*c*sqrt(6)              ...For phase shift oscillator\n",
      "Choose  C = 1 nF\n",
      "Therefore,  r = 32.49 kohm\n",
      "Select FET with g_m = 5000 us and r_d = 50 k-ohm\n",
      "For phase shift oscillator, |A| >= 29 and |A| = g_m*R_L\n",
      "Therefore,  g_m*R_L >= 29\n",
      "i.e.  R_L(in k-ohm) >= 29/g_m >=5.80\n",
      "Select  R_L = 6.8 k-ohm\n",
      "But  R_L = R_D*r_d / R_D+r_d\n",
      "Therefore,  R_D = 7.87 kohm\n"
     ]
    }
   ],
   "source": [
    "from __future__ import division  \n",
    "print \"f = 2 kHz\"\n",
    "print \"f = 1/ 2*pi*R*c*sqrt(6)              ...For phase shift oscillator\"\n",
    "print \"Choose  C = 1 nF\"\n",
    "r=(1/(2*pi*2*sqrt(6)*10**-6))*10**-3\n",
    "print \"Therefore,  r = %0.2f kohm\"%r\n",
    "print \"Select FET with g_m = 5000 us and r_d = 50 k-ohm\"\n",
    "print \"For phase shift oscillator, |A| >= 29 and |A| = g_m*R_L\"\n",
    "print \"Therefore,  g_m*R_L >= 29\"\n",
    "rl=(29/(5000*10**-6))*10**-3\n",
    "print \"i.e.  R_L(in k-ohm) >= 29/g_m >=%0.2f\"%rl\n",
    "print \"Select  R_L = 6.8 k-ohm\"\n",
    "print \"But  R_L = R_D*r_d / R_D+r_d\"\n",
    "rd=7.87\n",
    "print \"Therefore,  R_D = %0.2f kohm\"%rd"
   ]
  }
 ],
 "metadata": {
  "kernelspec": {
   "display_name": "Python 2",
   "language": "python",
   "name": "python2"
  },
  "language_info": {
   "codemirror_mode": {
    "name": "ipython",
    "version": 2
   },
   "file_extension": ".py",
   "mimetype": "text/x-python",
   "name": "python",
   "nbconvert_exporter": "python",
   "pygments_lexer": "ipython2",
   "version": "2.7.9"
  }
 },
 "nbformat": 4,
 "nbformat_minor": 0
}
