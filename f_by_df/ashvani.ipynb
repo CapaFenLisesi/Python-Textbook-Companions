{
 "cells": [
  {
   "cell_type": "markdown",
   "metadata": {},
   "source": [
    "# Chapter 10 - Other Power Amplifiers"
   ]
  },
  {
   "cell_type": "markdown",
   "metadata": {},
   "source": [
    "## Example 10.1 Page No 425"
   ]
  },
  {
   "cell_type": "code",
   "execution_count": 1,
   "metadata": {
    "collapsed": false
   },
   "outputs": [
    {
     "name": "stdout",
     "output_type": "stream",
     "text": [
      "The value of P_DQ = 11.25 mW\n",
      "The value of P_Dmax = 112.50 mW\n",
      "The value of P_Lmax = 562.50 mW\n"
     ]
    }
   ],
   "source": [
    "# given data\n",
    "V_CEQ= 7.5##  V\n",
    "R_L= 50##  Ω\n",
    "I_Csat= V_CEQ/R_L##  A\n",
    "I_CQ= 0.01*I_Csat##  A\n",
    "P_DQ= V_CEQ*I_CQ##  W\n",
    "PP= 2*V_CEQ##  V\n",
    "P_Dmax= PP**2/(40*R_L)##  W\n",
    "P_Lmax= PP**2/(8*R_L)##  W\n",
    "# The value of P_DQ \n",
    "P_DQ= P_DQ*10**3##  mW\n",
    "# The value of P_Dmax \n",
    "P_Dmax= P_Dmax*10**3##  mW\n",
    "# The value of P_Lmax \n",
    "P_Lmax= P_Lmax*10**3##  mW\n",
    "print \"The value of P_DQ = %.2f mW\"%P_DQ\n",
    "print \"The value of P_Dmax = %.2f mW\"%P_Dmax\n",
    "print \"The value of P_Lmax = %.2f mW\"%P_Lmax"
   ]
  },
  {
   "cell_type": "markdown",
   "metadata": {},
   "source": [
    "## Example 10.2 Page No 425"
   ]
  },
  {
   "cell_type": "code",
   "execution_count": 2,
   "metadata": {
    "collapsed": false
   },
   "outputs": [
    {
     "name": "stdout",
     "output_type": "stream",
     "text": [
      "The efficiency of amplifier = 74.03 %\n"
     ]
    }
   ],
   "source": [
    "# given data\n",
    "V_CC= 15##  V\n",
    "I_Csat= 150##  mA\n",
    "P_Lmax= 563##  mW\n",
    "I= 0.02*I_Csat##  mA\n",
    "Idc= 0.318*I_Csat##  mA\n",
    "I_CC= I+Idc##  mA\n",
    "P_CC= V_CC*I_CC##  mW\n",
    "# The efficiency of amplifier \n",
    "Eta= P_Lmax/P_CC*100##  %\n",
    "print \"The efficiency of amplifier = %.2f %%\"%Eta\n",
    "\n",
    "# Note: The answer in the book is not accurate"
   ]
  },
  {
   "cell_type": "markdown",
   "metadata": {},
   "source": [
    "## Example 10.3 Page No 426"
   ]
  },
  {
   "cell_type": "code",
   "execution_count": 17,
   "metadata": {
    "collapsed": false
   },
   "outputs": [
    {
     "data": {
      "image/png": "[encoded data removed]",
      "text/plain": [
       "<matplotlib.figure.Figure at 0x7f863864ffd0>"
      ]
     },
     "metadata": {},
     "output_type": "display_data"
    },
    {
     "name": "stdout",
     "output_type": "stream",
     "text": [
      "AC load line shown in figure\n"
     ]
    }
   ],
   "source": [
    "from numpy import arange\n",
    "%matplotlib inline\n",
    "from matplotlib import pyplot as plt\n",
    "# given data\n",
    "V_CC= 40.0##  V\n",
    "V_CEQ= 20.0##  V\n",
    "R_L= 10.0##  Ω\n",
    "I_Csat= V_CEQ/R_L##  A\n",
    "V_CEcutoff= V_CEQ##  V\n",
    "V_CE= arange(0,0.1+V_CEcutoff,0.1) #  V\n",
    "I_C= (V_CEQ-V_CE)/R_L##  A\n",
    "# The plot of ac load line,\n",
    "plt.plot(V_CE,I_C)\n",
    "plt.xlabel(\"VCE in volts\")\n",
    "plt.ylabel(\"IC in A\")\n",
    "plt.title(\"AC load line\")\n",
    "plt.show()\n",
    "print \"AC load line shown in figure\""
   ]
  },
  {
   "cell_type": "markdown",
   "metadata": {},
   "source": [
    "## Example 10.4 Page No 427"
   ]
  },
  {
   "cell_type": "code",
   "execution_count": 1,
   "metadata": {
    "collapsed": false
   },
   "outputs": [
    {
     "name": "stdout",
     "output_type": "stream",
     "text": [
      "The value of P_DQ = 0.39 W\n",
      "The value of P_Lmax = 20.00 W\n",
      "The value of P_Dmax = 4.00 W\n"
     ]
    }
   ],
   "source": [
    "# given data\n",
    "V_CC= 40##  V\n",
    "V_BE= 0.7##  V\n",
    "R= 1*10**3##  Ω\n",
    "R_L= 10##  Ω\n",
    "V_CEQ= 20##  V\n",
    "I_CQ= (V_CC-2*V_BE)/(2*R)##  A\n",
    "# The value of P_DQ\n",
    "P_DQ= V_CEQ*I_CQ##  W\n",
    "print \"The value of P_DQ = %.2f W\"%P_DQ\n",
    "PP= 2*V_CEQ##  V\n",
    "# The value of P_Lmax\n",
    "P_Lmax= PP**2/(8*R_L)##  W\n",
    "# The value of P_Dmax\n",
    "P_Dmax= PP**2/(40*R_L)##  W\n",
    "print \"The value of P_Lmax = %.2f W\"%P_Lmax\n",
    "print \"The value of P_Dmax = %.2f W\"%P_Dmax"
   ]
  },
  {
   "cell_type": "markdown",
   "metadata": {},
   "source": [
    "## Example 10.5 Page No 428"
   ]
  },
  {
   "cell_type": "code",
   "execution_count": 9,
   "metadata": {
    "collapsed": false
   },
   "outputs": [
    {
     "name": "stdout",
     "output_type": "stream",
     "text": [
      "The voltage gain of the driver stage = 9.36\n",
      "On ignoring the value of Zin and r'e, the voltage gain = 10.00\n"
     ]
    }
   ],
   "source": [
    "# given data\n",
    "V_E= 1.43##  V\n",
    "R_E= 100##  Ω\n",
    "R_L= 100##  Ω\n",
    "R_C= 1*10**3##  Ω\n",
    "bita= 200#\n",
    "Vt= 25*10**-3##  V\n",
    "I_E= V_E/R_E##  A\n",
    "I_CQ= I_E##  A\n",
    "Zin= bita*R_L##  Ω\n",
    "r_desh_e= Vt/I_CQ##  Ω\n",
    "# The voltage gain of the driver stage \n",
    "A= (R_C*Zin/(R_C+Zin))/(R_E+r_desh_e)#\n",
    "print \"The voltage gain of the driver stage = %.2f\"%A\n",
    "# On ignoring Zin and r_desh_e,\n",
    "A= R_C/R_E#\n",
    "print \"On ignoring the value of Zin and r'e, the voltage gain = %.2f\"%A"
   ]
  },
  {
   "cell_type": "markdown",
   "metadata": {},
   "source": [
    "## Example 10.6 Page No 429"
   ]
  },
  {
   "cell_type": "code",
   "execution_count": 11,
   "metadata": {
    "collapsed": false
   },
   "outputs": [
    {
     "name": "stdout",
     "output_type": "stream",
     "text": [
      "The value of PP = 30.00 volts\n",
      "The value of P_Lmax = 1.12 W\n"
     ]
    }
   ],
   "source": [
    "# given data\n",
    "V_CC= 30.0##  V\n",
    "PP= V_CC##  V\n",
    "R_L= 100.0##  Ω\n",
    "# The value of P_Lmax \n",
    "P_Lmax= PP**2/(8*R_L)##  W\n",
    "print \"The value of PP = %.2f volts\"%PP\n",
    "print \"The value of P_Lmax = %.2f W\"%P_Lmax"
   ]
  },
  {
   "cell_type": "markdown",
   "metadata": {},
   "source": [
    "## Example 10.7 Page No 430"
   ]
  },
  {
   "cell_type": "code",
   "execution_count": 13,
   "metadata": {
    "collapsed": false
   },
   "outputs": [
    {
     "name": "stdout",
     "output_type": "stream",
     "text": [
      "The overall voltage gain = 2000.00\n"
     ]
    }
   ],
   "source": [
    "# given data\n",
    "R_C= 1*10**3##  Ω\n",
    "r_desh_e= 2.5##in Ω\n",
    "Zin= 1.0*10**3##  Ω\n",
    "A2= 10## unit less\n",
    "A3= 1## unit less\n",
    "A1= (R_C*Zin/(R_C+Zin))/r_desh_e## unit less\n",
    "# The overall voltage gain \n",
    "A= A1*A2*A3#\n",
    "print \"The overall voltage gain = %.2f\"%A"
   ]
  },
  {
   "cell_type": "markdown",
   "metadata": {},
   "source": [
    "## Example 10.8 Page No 431"
   ]
  },
  {
   "cell_type": "code",
   "execution_count": 15,
   "metadata": {
    "collapsed": false
   },
   "outputs": [
    {
     "name": "stdout",
     "output_type": "stream",
     "text": [
      "The minimum base current that produces saturation = 108.89 mA\n"
     ]
    }
   ],
   "source": [
    "# given data\n",
    "V_CC= 50.0##  V\n",
    "V_CEsat= 1.0##  V\n",
    "R_L= 5##  Ω\n",
    "bita_dc= 90## unit less\n",
    "I_Csat= (V_CC-V_CEsat)/R_L##  A\n",
    "# The minimum base current that produces saturation \n",
    "I_Bsat= I_Csat/bita_dc##  A\n",
    "I_Bsat= I_Bsat*10**3##  mA\n",
    "print \"The minimum base current that produces saturation = %.2f mA\"%I_Bsat"
   ]
  },
  {
   "cell_type": "markdown",
   "metadata": {},
   "source": [
    "## Example 10.9 Page No 432"
   ]
  },
  {
   "cell_type": "code",
   "execution_count": 16,
   "metadata": {
    "collapsed": false
   },
   "outputs": [
    {
     "name": "stdout",
     "output_type": "stream",
     "text": [
      "The input voltage = 2.85 volts\n"
     ]
    }
   ],
   "source": [
    "# given data\n",
    "I_Csat= 109*10**-3##  A\n",
    "bita_dc= 200#\n",
    "R_B= 1*10**3##  Ω\n",
    "V_BE1= 0.7##  V\n",
    "V_BE2= 1.6##  V\n",
    "# The base current,\n",
    "I_Bsat= I_Csat/bita_dc##  A\n",
    "# The input voltage\n",
    "Vin= I_Bsat*R_B+V_BE1+V_BE2##  V\n",
    "print \"The input voltage = %.2f volts\"%Vin"
   ]
  }
 ],
 "metadata": {
  "kernelspec": {
   "display_name": "Python 2",
   "language": "python",
   "name": "python2"
  },
  "language_info": {
   "codemirror_mode": {
    "name": "ipython",
    "version": 2
   },
   "file_extension": ".py",
   "mimetype": "text/x-python",
   "name": "python",
   "nbconvert_exporter": "python",
   "pygments_lexer": "ipython2",
   "version": "2.7.6"
  }
 },
 "nbformat": 4,
 "nbformat_minor": 0
}
