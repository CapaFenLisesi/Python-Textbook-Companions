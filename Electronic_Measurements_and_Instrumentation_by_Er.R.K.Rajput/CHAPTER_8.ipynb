{
 "cells": [
  {
   "cell_type": "markdown",
   "metadata": {},
   "source": [
    "# Chapter 8:Signal Conditioning"
   ]
  },
  {
   "cell_type": "markdown",
   "metadata": {},
   "source": [
    "## Example:8.1,Page No:491"
   ]
  },
  {
   "cell_type": "code",
   "execution_count": 1,
   "metadata": {
    "collapsed": false
   },
   "outputs": [
    {
     "name": "stdout",
     "output_type": "stream",
     "text": [
      "total voltage gain = 138 dB\n"
     ]
    }
   ],
   "source": [
    "import math\n",
    "\n",
    "#variable declaration\n",
    "v1    = 100;                                 #first stage voltage gain \n",
    "v2    = 200;                                 #second stage voltage gain\n",
    "v3    = 400;                                 #third stage voltage gain\n",
    "\n",
    "#calculations\n",
    "V1     = 20*math.log10(v1);                      #first stage voltage gain  in dB\n",
    "V2     = 20*math.log10(v2);                      #second stage voltage gain in dB\n",
    "V3     = 20*math.log10(v3);                      #third stage voltage gain in dB\n",
    "V      = V1+V2+V3;                               #total voltage gain in dB\n",
    "\n",
    "#result\n",
    "print'total voltage gain = %d'%V,'dB';"
   ]
  },
  {
   "cell_type": "markdown",
   "metadata": {},
   "source": [
    "## Example:8.2,Page No:491"
   ]
  },
  {
   "cell_type": "code",
   "execution_count": 2,
   "metadata": {
    "collapsed": false
   },
   "outputs": [
    {
     "name": "stdout",
     "output_type": "stream",
     "text": [
      "total power  gain 73.86 dB\n",
      "resultant power gain 63.86 dB\n"
     ]
    }
   ],
   "source": [
    "import math\n",
    "\n",
    "#variable declaration\n",
    "G   = 30;                                 #absolute  power gain \n",
    "n   = 5;                                  #number of stages\n",
    "G1  = 10;                                 #negative feedback gain in dB\n",
    "\n",
    "#calculations\n",
    "p1    = 10*math.log10(G);                  #power gain of first stage in dB\n",
    "pt    = n*p1;                             #total power gain in dB\n",
    "pr    = pt-G1;                            #resultant power gain with negative feedback in dB\n",
    "\n",
    "#result\n",
    "print'total power  gain %2.2f'%pt,'dB';\n",
    "print'resultant power gain %2.2f'%pr,'dB';"
   ]
  }
 ],
 "metadata": {
  "kernelspec": {
   "display_name": "Python 2",
   "language": "python",
   "name": "python2"
  },
  "language_info": {
   "codemirror_mode": {
    "name": "ipython",
    "version": 2
   },
   "file_extension": ".py",
   "mimetype": "text/x-python",
   "name": "python",
   "nbconvert_exporter": "python",
   "pygments_lexer": "ipython2",
   "version": "2.7.6"
  }
 },
 "nbformat": 4,
 "nbformat_minor": 0
}
