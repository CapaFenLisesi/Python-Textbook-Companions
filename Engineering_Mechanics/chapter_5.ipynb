{
 "metadata": {
  "name": "chapter_5.ipynb"
 },
 "nbformat": 3,
 "nbformat_minor": 0,
 "worksheets": [
  {
   "cells": [
    {
     "cell_type": "heading",
     "level": 1,
     "metadata": {},
     "source": [
      "Chapter 5:Support Reactions"
     ]
    },
    {
     "cell_type": "heading",
     "level": 2,
     "metadata": {},
     "source": [
      "Example 5.1,Page No.101"
     ]
    },
    {
     "cell_type": "code",
     "collapsed": false,
     "input": [
      "import math\n",
      "\n",
      "#Declaration Of Variables\n",
      "\n",
      "#Lengths\n",
      "L=6 #m\n",
      "L_AC=2 #m\n",
      "L_AD=4 #m\n",
      "L_CD=L_DB=2 #m\n",
      "\n",
      "#Forces\n",
      "F_C=3 #KN\n",
      "F_D=6 #KN\n",
      "\n",
      "#Calculations\n",
      "\n",
      "#LEt R_A and R_B be the reactions at A & B respectively\n",
      "#R_A+R_B=F_C+F_D\n",
      "#Taking Moment at pt A\n",
      "R_B=(F_D*(L_AC+L_CD)+F_C*L_AC)*L**-1 #KN\n",
      "R_A=(F_C+F_D)-R_B #KN\n",
      "\n",
      "#Result\n",
      "print\"Reaction at A is\",round(R_A,2),\"KN\"\n",
      "print\"Reaction at B is\",round(R_B,2),\"KN\""
     ],
     "language": "python",
     "metadata": {},
     "outputs": [
      {
       "output_type": "stream",
       "stream": "stdout",
       "text": [
        "Reaction at A is 4.0 KN\n",
        "Reaction at B is 5.0 KN\n"
       ]
      }
     ],
     "prompt_number": 1
    },
    {
     "cell_type": "heading",
     "level": 2,
     "metadata": {},
     "source": [
      "Example 5.2,Page No102 "
     ]
    },
    {
     "cell_type": "code",
     "collapsed": false,
     "input": [
      "import math\n",
      "\n",
      "#Declaration Of Variables\n",
      "\n",
      "#Lengths\n",
      "L_AC=6 #m\n",
      "L_AB=9 #m\n",
      "\n",
      "#Load\n",
      "w=10 #KN/m #u.d.l\n",
      "\n",
      "#Calculations\n",
      "\n",
      "#LEt R_A and R_B be the reactions at A & B respectively\n",
      "#R_A+R_B=w*L_AC\n",
      "#Taking Moment at pt A\n",
      "R_B=w*L_AC*L_AC*2**-1*L_AB**-1 #KN\n",
      "R_A=w*L_AC-R_B\n",
      "\n",
      "#Result\n",
      "print\"Reaction at A is\",round(R_A,2),\"KN\"\n",
      "print\"Reaction at B is\",round(R_B,2),\"KN\""
     ],
     "language": "python",
     "metadata": {},
     "outputs": [
      {
       "output_type": "stream",
       "stream": "stdout",
       "text": [
        "Reaction at A is 40.0 KN\n",
        "Reaction at B is 20.0 KN\n"
       ]
      }
     ],
     "prompt_number": 2
    },
    {
     "cell_type": "heading",
     "level": 2,
     "metadata": {},
     "source": [
      "Example 5.3,Page No.103"
     ]
    },
    {
     "cell_type": "code",
     "collapsed": false,
     "input": [
      "import math\n",
      "\n",
      "#Declaration Of Variables\n",
      "\n",
      "#Lengths\n",
      "L_AC=2 #m\n",
      "L_CD=L_DB=4 #m\n",
      "L=10 #m #span\n",
      "\n",
      "#Forces & Loads\n",
      "F_C=50 #KN\n",
      "F_D=40 #KN\n",
      "w=10 #KN/m #u.d.l\n",
      "\n",
      "#Calculations\n",
      "\n",
      "#LEt R_A and R_B be the reactions at A & B respectively\n",
      "#R_A+R_B=w*L_CD-F_C-F_D\n",
      "#Taking Moment at pt A\n",
      "R_B=(F_C*L_AC+F_D*(L_AC+L_CD)+w*L_CD*(L_CD*2**-1+L_AC))*L**-1 #KN\n",
      "R_A=w*L_CD+F_C+F_D-R_B #KN\n",
      "\n",
      "#Result\n",
      "print\"Reaction at A is\",round(R_A,2),\"KN\"\n",
      "print\"Reaction at B is\",round(R_B,2),\"KN\""
     ],
     "language": "python",
     "metadata": {},
     "outputs": [
      {
       "output_type": "stream",
       "stream": "stdout",
       "text": [
        "Reaction at A is 80.0 KN\n",
        "Reaction at B is 50.0 KN\n"
       ]
      }
     ],
     "prompt_number": 3
    },
    {
     "cell_type": "heading",
     "level": 2,
     "metadata": {},
     "source": [
      "Example 5.4,Page No.103 "
     ]
    },
    {
     "cell_type": "code",
     "collapsed": false,
     "input": [
      "import math\n",
      "\n",
      "#Declaration Of Variables\n",
      "\n",
      "#Length\n",
      "L_AB=9 #m\n",
      "\n",
      "#Load\n",
      "w=900 #N/m #u.v.l\n",
      "\n",
      "#Calculations\n",
      "\n",
      "#LEt R_A and R_B be the reactions at A & B respectively\n",
      "#R_A+R_B=w*L_AB*2**-1\n",
      "#Taking Moment at pt A\n",
      "R_B=w*L_AB*2**-1*2*3**-1*L_AB*L_AB**-1 #KN\n",
      "R_A=w*L_AB*2**-1-R_B\n",
      "\n",
      "#Result\n",
      "print\"Reaction at A is\",round(R_A,2),\"KN\"\n",
      "print\"Reaction at B is\",round(R_B,2),\"KN\""
     ],
     "language": "python",
     "metadata": {},
     "outputs": [
      {
       "output_type": "stream",
       "stream": "stdout",
       "text": [
        "Reaction at A is 1350.0 KN\n",
        "Reaction at B is 2700.0 KN\n"
       ]
      }
     ],
     "prompt_number": 4
    },
    {
     "cell_type": "heading",
     "level": 2,
     "metadata": {},
     "source": [
      "Example 5.5,Page No.104 "
     ]
    },
    {
     "cell_type": "code",
     "collapsed": false,
     "input": [
      "import math\n",
      "\n",
      "#Declaration Of Variables\n",
      "\n",
      "#Length\n",
      "L_AB=5 #m\n",
      "\n",
      "#Loads\n",
      "w1=800 #N/m #At A\n",
      "w2=1600 #N/m #At B\n",
      "\n",
      "#Calculations\n",
      "\n",
      "#LEt R_A and R_B be the reactions at A & B respectively\n",
      "#R_A+R_B=w2*2**-1*L_AB*2**-1+w1*L_AB\n",
      "#Taking Moment at pt A\n",
      "R_B=(w1*L_AB*L_AB*2**-1+w2*2**-1*L_AB*2**-1*2*3**-1*L_AB)*L_AB**-1 #KN\n",
      "R_A=w2*2**-1*L_AB*2**-1+w1*L_AB-R_B\n",
      "\n",
      "#Result\n",
      "print\"Reaction at A is\",round(R_A,2),\"KN\"\n",
      "print\"Reaction at B is\",round(R_B,2),\"KN\""
     ],
     "language": "python",
     "metadata": {},
     "outputs": [
      {
       "output_type": "stream",
       "stream": "stdout",
       "text": [
        "Reaction at A is 2666.67 KN\n",
        "Reaction at B is 3333.33 KN\n"
       ]
      }
     ],
     "prompt_number": 5
    },
    {
     "cell_type": "heading",
     "level": 2,
     "metadata": {},
     "source": [
      "Example 5.6,Page No.105 "
     ]
    },
    {
     "cell_type": "code",
     "collapsed": false,
     "input": [
      "import math\n",
      "\n",
      "#Declaration Of Variables\n",
      "\n",
      "#LEt the ends of beams be C and D respectively\n",
      "#Lengths\n",
      "L_CA=3 #m\n",
      "L_AB=8 #m\n",
      "L_BD=2 #m\n",
      "\n",
      "#Let the Force 2000 acting be E\n",
      "L_AE=5 #m\n",
      "L_EB=3 #m\n",
      "\n",
      "#Forces\n",
      "F_C=800 #N\n",
      "F_E=2000 #N\n",
      "F_D=1000 #N\n",
      "\n",
      "#Calculations\n",
      "\n",
      "#LEt R_A and R_B be the reactions at A & B respectively\n",
      "#R_A+R_B=(F_C+F_E+F_D)\n",
      "#Taking Moment at pt A\n",
      "R_B=(F_E*L_AE+F_D*(L_BD+L_AB)-F_C*L_CA)*L_AB**-1 #KN\n",
      "R_A=(F_C+F_E+F_D)-R_B\n",
      "\n",
      "#Result\n",
      "print\"Reaction at A is\",round(R_A,2),\"KN\"\n",
      "print\"Reaction at B is\",round(R_B,2),\"KN\""
     ],
     "language": "python",
     "metadata": {},
     "outputs": [
      {
       "output_type": "stream",
       "stream": "stdout",
       "text": [
        "Reaction at A is 1600.0 KN\n",
        "Reaction at B is 2200.0 KN\n"
       ]
      }
     ],
     "prompt_number": 6
    },
    {
     "cell_type": "heading",
     "level": 2,
     "metadata": {},
     "source": [
      "Example 5.7,Page No.106 "
     ]
    },
    {
     "cell_type": "code",
     "collapsed": false,
     "input": [
      "import math\n",
      "\n",
      "#Declaration Of Variables\n",
      "\n",
      "#Lengths\n",
      "L_AB=4 #m\n",
      "L_BC=2 #m\n",
      "L_AC=6 #m\n",
      "\n",
      "#Loads\n",
      "F_C=2 #KN\n",
      "w=2 #KN/m #u.d.l\n",
      "\n",
      "#Calculations\n",
      "\n",
      "#LEt R_A and R_B be the reactions at A & B respectively\n",
      "#R_A+R_B=w*L_AC\n",
      "#Taking Moment at pt A\n",
      "R_B=(F_C*L_AC+w*L_AC*L_AC*2**-1)*L_AB**-1 #KN\n",
      "R_A=w*L_AC-R_B+F_C #KN\n",
      "\n",
      "#Result\n",
      "print\"Reaction at A is\",round(R_A,2),\"KN\"\n",
      "print\"Reaction at B is\",round(R_B,2),\"KN\""
     ],
     "language": "python",
     "metadata": {},
     "outputs": [
      {
       "output_type": "stream",
       "stream": "stdout",
       "text": [
        "Reaction at A is 2.0 KN\n",
        "Reaction at B is 12.0 KN\n"
       ]
      }
     ],
     "prompt_number": 7
    },
    {
     "cell_type": "heading",
     "level": 2,
     "metadata": {},
     "source": [
      "Example 5.8,Page No.106 "
     ]
    },
    {
     "cell_type": "code",
     "collapsed": false,
     "input": [
      "import math\n",
      "from math import sin, cos, tan, radians, pi\n",
      "\n",
      "#Declaration Of Variables\n",
      "\n",
      "#lengths\n",
      "L_AC=20 #cm\n",
      "L_CD=L_EB=40 #cm\n",
      "L_DE=70 #cm\n",
      "L_AB=L_AC+L_CD+L_EB+L_DE #cm\n",
      "\n",
      "#Forces\n",
      "F_C=50 #N\n",
      "\n",
      "#At pt D\n",
      "F_D1=20*sin(pi*180**-1*60) #N\n",
      "F_D2=20*cos(pi*180**-1*60) #N\n",
      "\n",
      "#At pt E\n",
      "F_E1=30*sin(pi*180**-1*45) #N\n",
      "F_E2=30*cos(pi*180**-1*45) #N\n",
      "\n",
      "#At pt B\n",
      "F_B1=15*sin(pi*180**-1*80) #N\n",
      "F_B2=15*cos(pi*180**-1*80) #N\n",
      "\n",
      "#Calculations\n",
      "\n",
      "#LEt R and R_B be the reactions at A & B respectively\n",
      "#R_A+R_B=F_C+F_D1+F_E1+F_B1\n",
      "#Taking Moment at pt A\n",
      "R_B=(F_C*L_AC+F_D1*(L_AC+L_CD)+F_E1*(L_AC+L_CD+L_DE)+F_B1*(L_AC+L_CD+L_DE+L_EB))*L_AB**-1\n",
      "\n",
      "#Vertical component of A\n",
      "R_AY=F_C+F_D1+F_E1+F_B1-R_B #N\n",
      "\n",
      "#Now horizontal component of A\n",
      "R_AX=-(F_D2-F_E2+F_B2) #N\n",
      "#the direction of R_AX will be towards left of A\n",
      "\n",
      "#Reaction At A\n",
      "R=(R_AY**2+R_AX**2)**0.5 #N\n",
      "\n",
      "#Result\n",
      "print\"Reaction at A is:R\",round(R,2),\"N\"\n",
      "print\"Reaction at B is\",round(R_B,2),\"N\""
     ],
     "language": "python",
     "metadata": {},
     "outputs": [
      {
       "output_type": "stream",
       "stream": "stdout",
       "text": [
        "Reaction at A is:R 60.93 N\n",
        "Reaction at B is 42.99 N\n"
       ]
      }
     ],
     "prompt_number": 1
    },
    {
     "cell_type": "heading",
     "level": 2,
     "metadata": {},
     "source": [
      "Example 5.9,Page No.108"
     ]
    },
    {
     "cell_type": "code",
     "collapsed": false,
     "input": [
      "import math\n",
      "from math import sin, cos, tan, radians, pi\n",
      "\n",
      "#Declaration Of Variables\n",
      "\n",
      "#Lengths\n",
      "L_AC=2 #m\n",
      "L_CD=2 #m\n",
      "L_DB=2 #m\n",
      "L=6 #m\n",
      "\n",
      "#Loads\n",
      "w=1.5 #KN/m\n",
      "F_C=5 #KN\n",
      "\n",
      "#At pt D\n",
      "F_D1=4*sin(pi*180**-1*(180-135))\n",
      "F_D2=4*sin(pi*180**-1*(180-135))\n",
      "\n",
      "#Calculations\n",
      "\n",
      "#LEt R and R_B be the reactions at A & B respectively\n",
      "#R_A+R_B=F_C+F_D1+F_E1+F_B1\n",
      "#Taking Moment at pt A\n",
      "R_B=((F_C*L_AC)+w*L_CD*(L_CD*2**-1+L_AC)+F_D1*(L_AC+L_CD))*L**-1\n",
      "\n",
      "#Vertical component of A\n",
      "R_AY=F_C+F_D1+w*L_AC-R_B #KN\n",
      "\n",
      "#Now horizontal component of A\n",
      "R_AX=(F_D2) #KN\n",
      "#the direction of R_AX will be towards left of A\n",
      "\n",
      "#Reaction At A\n",
      "R=(R_AY**2+R_AX**2)**0.5 #KN\n",
      "\n",
      "\n",
      "#Result\n",
      "print\"Reaction at A is:R\",round(R,2),\"KN\"\n",
      "print\"Reaction at B is\",round(R_B,2),\"KN\""
     ],
     "language": "python",
     "metadata": {},
     "outputs": [
      {
       "output_type": "stream",
       "stream": "stdout",
       "text": [
        "Reaction at A is:R 6.43 KN\n",
        "Reaction at B is 5.05 KN\n"
       ]
      }
     ],
     "prompt_number": 2
    },
    {
     "cell_type": "heading",
     "level": 2,
     "metadata": {},
     "source": [
      "Example 5.10,Page No.110 "
     ]
    },
    {
     "cell_type": "code",
     "collapsed": false,
     "input": [
      "import math\n",
      "from math import sin, cos, tan, radians, pi\n",
      "\n",
      "#Declaration Of Variables\n",
      "\n",
      "#Lengths\n",
      "L=10 #m\n",
      "L_AC=2.5 #m\n",
      "L_CD=2.5 #m\n",
      "L_DE=3 #m\n",
      "L_EB=2 #m\n",
      "\n",
      "#Forces\n",
      "F_C=4 #KN\n",
      "\n",
      "#At pt D\n",
      "F_D1=5*sin(pi*180**-1*45)\n",
      "F_D2=5*cos(pi*180**-1*45)\n",
      "\n",
      "F_E=5 #KN\n",
      "\n",
      "#Calculations\n",
      "\n",
      "#Let R and R_B be the reactions at A & B respectively\n",
      "\n",
      "#Resolving R_B into R_B1 & R_B2\n",
      "#R_B1*sin(30*pi*180**-1)\n",
      "#R_B2*cos(30*pi*180**-1)\n",
      "\n",
      "#R_A+R_B=F_C+F_D1+F_E\n",
      "#Taking Moment at pt A\n",
      "R_B1=(F_C*L_AC+F_D1*(L_AC+L_CD)+F_E*(L_AC+L_CD+L_DE))*(L*cos(pi*180**-1*30))**-1 #KN\n",
      "R_B2=R_B1*sin(30*pi*180**-1) #KN\n",
      "\n",
      "#Vertical component of A\n",
      "R_AY=(F_C+F_D1+F_E-R_B1*cos(30*pi*180**-1)) #KN\n",
      "\n",
      "#Now horizontal component of A\n",
      "R_AX=(-F_D2+R_B2) #KN\n",
      "#the direction of R_AX will be towards left of A\n",
      "\n",
      "#Reaction At A\n",
      "R=(R_AY**2+R_AX**2)**0.5 #KN\n",
      "\n",
      "\n",
      "#Result\n",
      "print\"Reaction at A is:R\",round(R,2),\"KN\"\n",
      "print\"Reaction at B is\",round(R_B1,2),\"KN\""
     ],
     "language": "python",
     "metadata": {},
     "outputs": [
      {
       "output_type": "stream",
       "stream": "stdout",
       "text": [
        "Reaction at A is:R 5.78 KN\n",
        "Reaction at B is 7.81 KN\n"
       ]
      }
     ],
     "prompt_number": 3
    },
    {
     "cell_type": "heading",
     "level": 2,
     "metadata": {},
     "source": [
      "Example 5.11,Page No.111"
     ]
    },
    {
     "cell_type": "code",
     "collapsed": false,
     "input": [
      "import math\n",
      "from math import sin, cos, tan, radians, pi\n",
      "\n",
      "#Declaration Of Variables\n",
      "\n",
      "#Lengths\n",
      "L_AC=L_CD=5 #m\n",
      "L_AD=10 #m\n",
      "\n",
      "#Forces\n",
      "F_C=F_D=500 #N\n",
      "\n",
      "#Calculations\n",
      "\n",
      "#LEt R_A & R_B be the reactions at pt A & B respectively\n",
      "\n",
      "#Now resolving Forces at pt C & D \n",
      "F_C1=F_D1=F_C*sin(30*pi*180**-1) #N\n",
      "F_C2=F_D2=F_D*cos(30*pi*180**-1) #N\n",
      "\n",
      "#Now taking Moment at pt A\n",
      "#But In triangle BDA,\n",
      "#cos(30*pi*180**-1)=L_AD*L_AB**-1\n",
      "#After Further simplifying we get\n",
      "L_AB=L_AD*(cos(30*pi*180**-1))**-1 #m\n",
      "\n",
      "R_B=(F_C*L_AC+F_D*L_AD)*L_AB**-1 #N\n",
      "\n",
      "#Now sum of components parallel to inclined surface AB\n",
      "R_AH=F_C1+F_D1 #N\n",
      "\n",
      "#Now sum of forces perpendicular to inclined surface AB\n",
      "R_AV=F_C2+F_D2-R_B #N\n",
      "\n",
      "#Reaction At A\n",
      "R=(R_AV**2+R_AH**2)**0.5 #N\n",
      "\n",
      "#Result\n",
      "print\"Reaction at A is\",round(R,2),\"KN\"\n",
      "print\"Reaction at B is\",round(R_B,2),\"KN\""
     ],
     "language": "python",
     "metadata": {},
     "outputs": [
      {
       "output_type": "stream",
       "stream": "stdout",
       "text": [
        "Reaction at A is 544.86 KN\n",
        "Reaction at B is 649.52 KN\n"
       ]
      }
     ],
     "prompt_number": 11
    },
    {
     "cell_type": "heading",
     "level": 2,
     "metadata": {},
     "source": [
      "Example 5.12,Page No.113 "
     ]
    },
    {
     "cell_type": "code",
     "collapsed": false,
     "input": [
      "import math\n",
      "from math import sin, cos, tan, radians, pi\n",
      "\n",
      "#Declaration Of Variables\n",
      "\n",
      "#Lengths\n",
      "L_AD=80*10**-2 #m\n",
      "L_AE=L_EF=L_FB=60*10**-2 #m\n",
      "L_AC=L_CD=40*10**-2 #cm\n",
      "\n",
      "#Forces\n",
      "\n",
      "#At pt D\n",
      "F_D1=100*sin(pi*180**-1*30) #N\n",
      "F_D2=100*cos(pi*180**-1*30) #N\n",
      "\n",
      "#At pt C\n",
      "F_C1=70*sin(pi*180**-1*45) #N\n",
      "F_C2=70*cos(pi*180**-1*45) #N\n",
      "\n",
      "w=250 #N/m #u.d.l\n",
      "\n",
      "#Calculations\n",
      "\n",
      "#Let R_A and R_B be the reactions at A & B respectively\n",
      "#Resolving R_B into R_B1 & R_B2\n",
      "#Taking Moment at pt A\n",
      "R_B=-(-F_D2*L_AD+F_C2*L_AC-w*L_EF*(L_EF*2**-1+L_AE))*(cos(20*pi*180**-1)*(L_AE+L_EF+L_FB))**-1 #N\n",
      "\n",
      "#Vertical component of A\n",
      "R_AX=(-F_D2+F_C1+R_B*sin(20*pi*180**-1)) #N\n",
      "\n",
      "#Now horizontal component of A\n",
      "R_AY=(-F_D1-F_C2-R_B*cos(20*pi*180**-1)+w*L_EF) #KN\n",
      "\n",
      "##Reaction At A\n",
      "R=(R_AY**2+R_AX**2)**0.5 #KN\n",
      "\n",
      "\n",
      "#Result\n",
      "print\"The Reaction at supports of an L-bent is\",round(R,3),\"KN\""
     ],
     "language": "python",
     "metadata": {},
     "outputs": [
      {
       "output_type": "stream",
       "stream": "stdout",
       "text": [
        "The Reaction at supports of an L-bent is 51.988 KN\n"
       ]
      }
     ],
     "prompt_number": 12
    },
    {
     "cell_type": "heading",
     "level": 2,
     "metadata": {},
     "source": [
      "Example 5.13,Page No.115 "
     ]
    },
    {
     "cell_type": "code",
     "collapsed": false,
     "input": [
      "import math\n",
      "\n",
      "#Declaration Of Variables\n",
      "\n",
      "#lengths\n",
      "L_AC=2 #m\n",
      "L_CD=3 #m\n",
      "L_DB=2 #m\n",
      "L=7 #m\n",
      "\n",
      "#Loads\n",
      "w=4 #KN/m\n",
      "m1=4 #KN/m #moment at pt C\n",
      "m2=8 #KN/m #moment at pt D\n",
      "\n",
      "#Calculations\n",
      "\n",
      "#Let R_A & R_B be the reactions at pt a nd B respectively\n",
      "#R_A+R_B=w*L_CD*2**-1\n",
      "#Taking moment at pt A\n",
      "R_B=(w*L_CD*2**-1*(2*3**-1*L_CD+L_AC)+m1-m2)*L**-1\n",
      "R_A=w*L_CD*2**-1-R_B\n",
      "\n",
      "#Result\n",
      "print\"Reaction at A is\",round(R_A,2),\"KN\"\n",
      "print\"Reaction at B is\",round(R_B,2),\"KN\""
     ],
     "language": "python",
     "metadata": {},
     "outputs": [
      {
       "output_type": "stream",
       "stream": "stdout",
       "text": [
        "Reaction at A is 3.14 KN\n",
        "Reaction at B is 2.86 KN\n"
       ]
      }
     ],
     "prompt_number": 13
    },
    {
     "cell_type": "heading",
     "level": 2,
     "metadata": {},
     "source": [
      "Example 5.14,Page No.116 "
     ]
    },
    {
     "cell_type": "code",
     "collapsed": false,
     "input": [
      "import math\n",
      "from math import sin, cos, tan, radians, pi\n",
      "\n",
      "#Declaration Of Variables\n",
      "\n",
      "#Lengths\n",
      "L_AC=L_CD=L_DE=L_EB=2 #m\n",
      "L=8 #M\n",
      "\n",
      "#Forces\n",
      "#At pt C\n",
      "F_C1=40*sin(pi*180**-1*60) #KN\n",
      "F_C2=40*cos(pi*180**-1*60) #KN\n",
      "\n",
      "#At pt E\n",
      "F_E1=50*sin(pi*180**-1*60) #KN\n",
      "F_E2=50*cos(pi*180**-1*60) #KN\n",
      "\n",
      "F_D=80 #KN\n",
      "w=20 #KN/m\n",
      "\n",
      "#Calculations\n",
      "\n",
      "#LEt R_A and R_B be the reactions at A & B respectively\n",
      "#Taking Moment at pt A\n",
      "R_B=(F_C1*L_AC+w*L_CD*(L_CD*2**-1+L_AC)+F_D*(L_AC+L_CD)+F_E1*(L_AC+L_CD+L_DE))*(L*cos(30*pi*180**-1))**-1\n",
      "R_B2=R_B*sin(30*pi*180**-1)\n",
      "\n",
      "#Vertical component of A\n",
      "R_AY=(F_C1+w*L_CD+F_D+F_E1-R_B*cos(30*pi*180**-1)) #KN\n",
      "\n",
      "#Now horizontal component of A\n",
      "R_AX=(-F_C2+F_E2+R_B2) #KN\n",
      "#the direction of R_AX will be towards left of A\n",
      "\n",
      "#Reaction At A\n",
      "R=(R_AY**2+R_AX**2)**0.5 #KN\n",
      "\n",
      "\n",
      "#Result\n",
      "print\"Reaction at A is:R\",round(R,2),\"KN\"\n",
      "print\"Reaction at B is\",round(R_B,2),\"KN\""
     ],
     "language": "python",
     "metadata": {},
     "outputs": [
      {
       "output_type": "stream",
       "stream": "stdout",
       "text": [
        "Reaction at A is:R 118.43 KN\n",
        "Reaction at B is 111.01 KN\n"
       ]
      }
     ],
     "prompt_number": 14
    }
   ],
   "metadata": {}
  }
 ]
}