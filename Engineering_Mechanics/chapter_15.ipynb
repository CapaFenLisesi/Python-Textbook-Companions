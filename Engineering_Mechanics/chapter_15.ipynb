{
 "metadata": {
  "name": "chapter_15.ipynb"
 },
 "nbformat": 3,
 "nbformat_minor": 0,
 "worksheets": [
  {
   "cells": [
    {
     "cell_type": "heading",
     "level": 1,
     "metadata": {},
     "source": [
      "Chapter 15:Kinetics of Rigid Bodies And Laws of Motion"
     ]
    },
    {
     "cell_type": "heading",
     "level": 2,
     "metadata": {},
     "source": [
      "Example 15.1,Page No.536"
     ]
    },
    {
     "cell_type": "code",
     "collapsed": false,
     "input": [
      "import math\n",
      "\n",
      "#Initilization of Variables\n",
      "\n",
      "M=150 #kg #Mass of the Body\n",
      "a=3 #m/s**2 #Acceleration \n",
      "\n",
      "\n",
      "#Calculation\n",
      "\n",
      "#Force \n",
      "F=M*a #N\n",
      "\n",
      "#Result\n",
      "print\"FOrce is\",round(F,2),\"N\""
     ],
     "language": "python",
     "metadata": {},
     "outputs": [
      {
       "output_type": "stream",
       "stream": "stdout",
       "text": [
        "FOrce is 450.0 N\n"
       ]
      }
     ],
     "prompt_number": 2
    },
    {
     "cell_type": "heading",
     "level": 2,
     "metadata": {},
     "source": [
      "Example 15.2,Page No.537"
     ]
    },
    {
     "cell_type": "code",
     "collapsed": false,
     "input": [
      "import math\n",
      "\n",
      "#Initilization of Variables\n",
      "\n",
      "F=100 #N #Force\n",
      "m=4 #kg #mass\n",
      "t=10 #seconds #time\n",
      "u=5 #m/s #Initial Velocity\n",
      "\n",
      "#Calculation\n",
      "\n",
      "#Acceleration\n",
      "a=F*m**-1 #m/s**2\n",
      "\n",
      "#Distance\n",
      "s=u*t+a*t**2*2**-1 #m\n",
      "\n",
      "#Result\n",
      "print\"Acceleration is\",round(a,2),\"m/s**2\"\n",
      "print\"Distance moved is\",round(s,2),\"m\""
     ],
     "language": "python",
     "metadata": {},
     "outputs": [
      {
       "output_type": "stream",
       "stream": "stdout",
       "text": [
        "Acceleration is 25.0 m/s**2\n",
        "Distance moved is 1300.0 m\n"
       ]
      }
     ],
     "prompt_number": 3
    },
    {
     "cell_type": "heading",
     "level": 2,
     "metadata": {},
     "source": [
      "Example 15.3,Page No.537"
     ]
    },
    {
     "cell_type": "code",
     "collapsed": false,
     "input": [
      "import math\n",
      "\n",
      "#Initilization of Variables\n",
      "\n",
      "W=980 #N #Weight of body on the earth\n",
      "g=9.80 #m/s**2 #Acceleration due to gravity\n",
      "g2=1.6 #m/s**2 #Acceleration due to gravity on moon\n",
      "g3=270 #m/s**2 #Acceleration due to gravity on sun\n",
      "\n",
      "#Calculation\n",
      "\n",
      "#Mass\n",
      "m=W*g**-1 #Kg\n",
      "\n",
      "#Weight of body on moon\n",
      "W1=m*g2 #N\n",
      "\n",
      "#Weight of body on sun\n",
      "W2=m*g3 #N\n",
      "\n",
      "#Result\n",
      "print\"Weight of body on moon\",round(W1,2),\"N\"\n",
      "print\"Weight of body on sun\",round(W2,2),\"N\""
     ],
     "language": "python",
     "metadata": {},
     "outputs": [
      {
       "output_type": "stream",
       "stream": "stdout",
       "text": [
        "Weight of body on moon 160.0 N\n",
        "Weight of body on sun 27000.0 N\n"
       ]
      }
     ],
     "prompt_number": 4
    },
    {
     "cell_type": "heading",
     "level": 2,
     "metadata": {},
     "source": [
      "Example 15.4,Page No.537"
     ]
    },
    {
     "cell_type": "code",
     "collapsed": false,
     "input": [
      "import math\n",
      "\n",
      "#Initilization of Variables\n",
      "\n",
      "F=200 #N #Force \n",
      "m=300 #kg #mass\n",
      "t=90 #sec #time\n",
      "u=20 #m/s #Initial velocity\n",
      "\n",
      "#Calculation\n",
      "\n",
      "#Acceleration\n",
      "a=F*m**-1 #m/s**2 \n",
      "\n",
      "#Final Velocity in Direction of motion \n",
      "v=u+a*t #m/s\n",
      "\n",
      "#Final Velocity in opposite direction of motion\n",
      "v2=u-a*t #m/s\n",
      "\n",
      "#Result\n",
      "print\"Final Velocity in Direction of motion\",round(v,2),\"m/s\"\n",
      "print\"Final Velocity in opposite direction of motion\",round(v2,2),\"m/s\""
     ],
     "language": "python",
     "metadata": {},
     "outputs": [
      {
       "output_type": "stream",
       "stream": "stdout",
       "text": [
        "Final Velocity in Direction of motion 80.0 m/s\n",
        "Final Velocity in opposite direction of motion -40.0 m/s\n"
       ]
      }
     ],
     "prompt_number": 5
    },
    {
     "cell_type": "heading",
     "level": 2,
     "metadata": {},
     "source": [
      "Example 15.5,Page No.538"
     ]
    },
    {
     "cell_type": "code",
     "collapsed": false,
     "input": [
      "import math\n",
      "\n",
      "#Initilization of Variables\n",
      "\n",
      "m=15 #kg #Mass \n",
      "h=19.6 #m #Height of body from ground\n",
      "F=4900 #N #Force of resistance\n",
      "g=9.80 #m/s**2 #Acceleration due to gravity\n",
      "\n",
      "#Calculation\n",
      "\n",
      "#Final Velocity of body\n",
      "v=(2*g*h)**0.5 #m/s\n",
      "\n",
      "#Weight of body\n",
      "W=m*g #N\n",
      "\n",
      "#Net Force acting in the upward direction\n",
      "F2=F-W #N\n",
      "\n",
      "#Acceleration\n",
      "a=F2*m**-1 #m/s**2 \n",
      "\n",
      "#Part-2\n",
      "\n",
      "v2=0 #Final Velocity after penetration into the ground\n",
      "u=v #Initial Velocity on the ground\n",
      "\n",
      "#Distance penetrated into the ground\n",
      "s=-(v2**2-u**2)*(2*a)**-1 #m \n",
      "\n",
      "#Result\n",
      "print\"Distance penetrated into the ground\",round(s,3),\"m\""
     ],
     "language": "python",
     "metadata": {},
     "outputs": [
      {
       "output_type": "stream",
       "stream": "stdout",
       "text": [
        "Distance penetrated into the ground 0.606 m\n"
       ]
      }
     ],
     "prompt_number": 7
    },
    {
     "cell_type": "heading",
     "level": 2,
     "metadata": {},
     "source": [
      "Example 15.6,Page No.539"
     ]
    },
    {
     "cell_type": "code",
     "collapsed": false,
     "input": [
      "import math\n",
      "\n",
      "#Initilization of Variables\n",
      "\n",
      "W=637 #N #Weight of man\n",
      "h=19.6 #m #Height of Tower\n",
      "u=0 #m/s #Initial Velocity of man when he reaches the water surface\n",
      "g=9.8 #m/s**2 #acceleration due to gravity\n",
      "s=2 #m #Distance travelled\n",
      "\n",
      "#Calculation\n",
      "\n",
      "#Final Velocity of man when he reaches the water surface\n",
      "v=(2*g*h)**0.5 #m/s\n",
      "\n",
      "#acceleration\n",
      "a=v**2*(2*s)**-1 #m/s**2 #m/s**2\n",
      "\n",
      "#Mass of man\n",
      "m=W*g**-1 #Kg \n",
      "\n",
      "#Average resistance of water\n",
      "F=m*a+W #N\n",
      "\n",
      "#Result\n",
      "print\"Average Resistance of water\",round(F,2),\"N\""
     ],
     "language": "python",
     "metadata": {},
     "outputs": [
      {
       "output_type": "stream",
       "stream": "stdout",
       "text": [
        "Average Resistance of water 6879.6 N\n"
       ]
      }
     ],
     "prompt_number": 8
    },
    {
     "cell_type": "heading",
     "level": 2,
     "metadata": {},
     "source": [
      "Example 15.7,Page No.540"
     ]
    },
    {
     "cell_type": "code",
     "collapsed": false,
     "input": [
      "import math\n",
      "\n",
      "#Initilization of Variables\n",
      "\n",
      "m=0.081 #kg\n",
      "v=300 #m/s #velocity\n",
      "s=0.1 #m #Depth\n",
      "s2=0.05 #m #Distance travelled\n",
      "\n",
      "#Calculation\n",
      "\n",
      "#Acceleration \n",
      "a=v**2*(2*s)**-1 #m/s**2 \n",
      "\n",
      "#Force offered by wood to the bullet\n",
      "F=m*a #N\n",
      "\n",
      "#Velocity\n",
      "v=-(u**2-(2*a*s2)) #m/s\n",
      "v2=v**0.5 #m/s\n",
      "\n",
      "#Result\n",
      "print\"Force of resistance\",round(v2,2),\"m/s\""
     ],
     "language": "python",
     "metadata": {},
     "outputs": [
      {
       "output_type": "stream",
       "stream": "stdout",
       "text": [
        "Force of resistance 212.13 m/s\n"
       ]
      }
     ],
     "prompt_number": 9
    },
    {
     "cell_type": "heading",
     "level": 2,
     "metadata": {},
     "source": [
      "Example 15.8,Page No.541"
     ]
    },
    {
     "cell_type": "code",
     "collapsed": false,
     "input": [
      "import math\n",
      "\n",
      "#Initilization of Variables\n",
      "\n",
      "v=0 #Final Velocity\n",
      "s=60 #m #Distance travelled\n",
      "mu=0.4 #coefficient of friction\n",
      "g=9.80\n",
      "\n",
      "\n",
      "#Calculation\n",
      "\n",
      "#acceleration\n",
      "a=mu*g #m/s**2\n",
      "\n",
      "#speed of car\n",
      "u=(2*a*s)**0.5*1000**-1*3600 #m/s\n",
      "\n",
      "#Result\n",
      "print\"Speed of car is\",round(u,2),\"Km/hr\""
     ],
     "language": "python",
     "metadata": {},
     "outputs": [
      {
       "output_type": "stream",
       "stream": "stdout",
       "text": [
        "Speed of car is 78.08 Km/hr\n"
       ]
      }
     ],
     "prompt_number": 1
    },
    {
     "cell_type": "heading",
     "level": 2,
     "metadata": {},
     "source": [
      "Example 15.9,Page No.542"
     ]
    },
    {
     "cell_type": "code",
     "collapsed": false,
     "input": [
      "import math\n",
      "\n",
      "#Initilization of Variables\n",
      "\n",
      "F1=2000 #N #Tractive of force exerted by railway car\n",
      "W=50 #KN #Weight of car\n",
      "g=9.81 #m/s**2 #acceleration due to gravity \n",
      "\n",
      "#Calculation\n",
      "\n",
      "#mass of car\n",
      "m=W*1000*g**-1 #N\n",
      "\n",
      "#Frictional resistance\n",
      "F2=5*W\n",
      "\n",
      "#Net Force in Direction of motion\n",
      "F=F1-F2 #N\n",
      "\n",
      "#Acceleration\n",
      "a=F*m**-1\n",
      "\n",
      "#Result\n",
      "print\"acceleration when the car is moving\",round(a,2),\"m/s**2\""
     ],
     "language": "python",
     "metadata": {},
     "outputs": [
      {
       "output_type": "stream",
       "stream": "stdout",
       "text": [
        "acceleration when the car is moving 0.34 m/s**2\n"
       ]
      }
     ],
     "prompt_number": 11
    },
    {
     "cell_type": "heading",
     "level": 2,
     "metadata": {},
     "source": [
      "Example 15.10,Page No.542"
     ]
    },
    {
     "cell_type": "code",
     "collapsed": false,
     "input": [
      "import math\n",
      "\n",
      "#Initilization of Variables\n",
      "\n",
      "W=1960*1000 #N #Weight of train\n",
      "g=9.80 #m/s**2 #Acceleration due to gravity\n",
      "\n",
      "#Calculation\n",
      "\n",
      "#mass of train \n",
      "m=W*g**-1 #kg\n",
      "\n",
      "#final Velocity\n",
      "v=100*3**-1 #m/s\n",
      "t=5*60 #sec\n",
      "\n",
      "#Acceleration\n",
      "a=v*t**-1 #m/s**2 \n",
      "\n",
      "#Average pull required\n",
      "F2=m*a+19600\n",
      "\n",
      "\n",
      "#Result\n",
      "print\"Average pull required\",round(F2,2),\"N\""
     ],
     "language": "python",
     "metadata": {},
     "outputs": [
      {
       "output_type": "stream",
       "stream": "stdout",
       "text": [
        "Average pull required 41822.22 N\n"
       ]
      }
     ],
     "prompt_number": 12
    },
    {
     "cell_type": "heading",
     "level": 2,
     "metadata": {},
     "source": [
      "Example 15.11,Page No.544"
     ]
    },
    {
     "cell_type": "code",
     "collapsed": false,
     "input": [
      "import math\n",
      "from math import sin, cos, radians, pi\n",
      "import numpy as np\n",
      "\n",
      "#Initilization of Variables\n",
      "\n",
      "W=200 #N #Weight of Body\n",
      "g=9.81 #m/s**2 #aceleration due to gravity\n",
      "theta=45 #Degrees #Angle of plane\n",
      "u=0 #m/s #Initial Velocity\n",
      "v=2 #m/s #Final velocity\n",
      "mu=0.1 #coefficient of friction\n",
      "\n",
      "#Calculation\n",
      "\n",
      "#Acceleration of body\n",
      "a=g*(sin(theta*pi*180**-1)-mu*cos(theta*pi*180**-1)) #m/s**2\n",
      "\n",
      "#Distance\n",
      "s=(v**2-u**2)*(2*a)**-1 #m\n",
      "\n",
      "#Result\n",
      "print\"Distance along inclined plane is\",round(s,2),\"m\""
     ],
     "language": "python",
     "metadata": {},
     "outputs": [
      {
       "output_type": "stream",
       "stream": "stdout",
       "text": [
        "Distance along inclined plane is 0.32 m\n"
       ]
      }
     ],
     "prompt_number": 2
    },
    {
     "cell_type": "heading",
     "level": 2,
     "metadata": {},
     "source": [
      "Example 15.12,Page No.544"
     ]
    },
    {
     "cell_type": "code",
     "collapsed": false,
     "input": [
      "import math\n",
      "from math import sin, cos, radians, pi\n",
      "import numpy as np\n",
      "\n",
      "#Initilization of Variables\n",
      "\n",
      "u=0 #m/s #Initial Velocity\n",
      "theta=20 #degree #Angle of inclination\n",
      "mu1=0.08 #Coefficient of friction between the plane and lower body\n",
      "mu2=0.08 #Coefficient of friction between the plane and upper body\n",
      "d=10 #m #distance beween two body\n",
      "g=9.81 #m/s**2 #Acceleration due to gravity\n",
      "\n",
      "#Calculation\n",
      "\n",
      "#Acceleration of lower body down the plane\n",
      "a1=g*(sin(theta*pi*180**-1)-mu1*cos(theta*pi*180**-1)) #m/s**2\n",
      "\n",
      "#Acceleration of upper body \n",
      "a2=g*(sin(theta*pi*180**-1)-mu2*cos(theta*pi*180**-1)) #m/s**2\n",
      "\n",
      "#Distance travelled by lower body\n",
      "#s1=u*t+a1*t**2*2**-1\n",
      "#After sub values and further simplifying we get\n",
      "#s1=1.3805*t**2    ...................1\n",
      "\n",
      "#Distance travelled by upper body\n",
      "#s1=u*t+a1*t**2*2**-1\n",
      "#After sub values and further simplifying we get\n",
      "#s1=1.447*t**2    .......................2\n",
      "\n",
      "#Further simplfying we get\n",
      "t=(10*0.1385**-1)**0.5 #s\n",
      "\n",
      "#sub value of t in equation 1 and 2\n",
      "s1=1.3805*round(t,2)**2 #m\n",
      "s2=1.447*round(t,2)**2 #m\n",
      "\n",
      "#Result\n",
      "print\"distance through which each body travels before they meet:s1\",round(s1,2),\"m\"\n",
      "print\"                                                         :s2\",round(s2,2),\"m\"\n",
      "\n",
      "#Answer of s1 is incorrect in book"
     ],
     "language": "python",
     "metadata": {},
     "outputs": [
      {
       "output_type": "stream",
       "stream": "stdout",
       "text": [
        "distance through which each body travels before they meet:s1 99.74 m\n",
        "                                                         :s2 104.55 m\n"
       ]
      }
     ],
     "prompt_number": 3
    },
    {
     "cell_type": "heading",
     "level": 2,
     "metadata": {},
     "source": [
      "Example 15.13,Page No.546"
     ]
    },
    {
     "cell_type": "code",
     "collapsed": false,
     "input": [
      "import math\n",
      "from math import sin, cos, radians, pi\n",
      "import numpy as np\n",
      "\n",
      "#Initilization of Variables\n",
      "\n",
      "W=6000 #N #Weight of truck\n",
      "u=10 #m/s #speed of truck\n",
      "#sin(theta)=1*40**-1\n",
      "\n",
      "#Calculation\n",
      "\n",
      "#Road Resistance\n",
      "F1=W*1*40**-1 #N\n",
      "\n",
      "#Frictional Force\n",
      "F2=F1*(W*10**-3)**-1\n",
      "\n",
      "#PArt-2\n",
      "\n",
      "#Speed of truck\n",
      "u2=2*u #m/s\n",
      "\n",
      "#Force exerted by engine up theplane\n",
      "P=W*1*40**-1+F1 #N\n",
      "\n",
      "#Power Exerted by engine\n",
      "P2=P*u2*1000**-1 #KW\n",
      "\n",
      "#Result\n",
      "print\"Frictional Force of truck is\",round(F2,2),\"N\"\n",
      "print\"Power Exerted by engine is\",round(P2,2),\"KW\""
     ],
     "language": "python",
     "metadata": {},
     "outputs": [
      {
       "output_type": "stream",
       "stream": "stdout",
       "text": [
        "Frictional Force of truck is 25.0 N\n",
        "Power Exerted by engine is 6.0 KW\n"
       ]
      }
     ],
     "prompt_number": 15
    },
    {
     "cell_type": "heading",
     "level": 2,
     "metadata": {},
     "source": [
      "Example 15.14,Page No.547"
     ]
    },
    {
     "cell_type": "code",
     "collapsed": false,
     "input": [
      "import math\n",
      "\n",
      "#Initilization of Variables\n",
      "\n",
      "W=200*10**3 #N #Weight of train\n",
      "#sin(theta)=1*150**-1 #Slope of track\n",
      "u=5 #m/s #speed of train\n",
      "p=3.5 #KW #Power developed by engine\n",
      "\n",
      "#Calculation\n",
      "\n",
      "#Case-1\n",
      "\n",
      "#power developed by engine\n",
      "P=p*1000*u**-1 #N\n",
      "\n",
      "#Net Force \n",
      "F=W*1*150**-1+P #N\n",
      "\n",
      "#Case-2\n",
      "\n",
      "#Force exerted by engine while moving up\n",
      "P2=W*1*150**-1+F #N\n",
      "\n",
      "#Power developed by engine\n",
      "P3=P2*u*1000**-1 #KW\n",
      "\n",
      "#Result\n",
      "print\"Power Developed by Engine to pull up the train is\",round(P3,2),\"KW\"\n",
      "\n",
      "#Answer of Power developed by engine is incorrect i.e P so answer of Power Developed by Engine to pull up the train is also incorrect i.e P3"
     ],
     "language": "python",
     "metadata": {},
     "outputs": [
      {
       "output_type": "stream",
       "stream": "stdout",
       "text": [
        "Power Developed by Engine to pull up the train is 16.83 KW\n"
       ]
      }
     ],
     "prompt_number": 16
    },
    {
     "cell_type": "heading",
     "level": 2,
     "metadata": {},
     "source": [
      "Example 15.15,Page No.549"
     ]
    },
    {
     "cell_type": "code",
     "collapsed": false,
     "input": [
      "import math\n",
      "\n",
      "#Initilization of Variables\n",
      "\n",
      "L_BC=100 #m #Distance\n",
      "V=20*3**-1 #m/s #Velocity\n",
      "W=20000 #N #Weight\n",
      "g=9.81 #m/s**2 #acceleration due to gravity\n",
      "m=W*g**-1 #Mass of car\n",
      "#sin(theta)=5*100**-1\n",
      "\n",
      "#Calculation\n",
      "\n",
      "#Frictional resistance due to track\n",
      "F=8*20 #N\n",
      "\n",
      "#Final Velocity of car at D\n",
      "v=0 \n",
      "\n",
      "#Component of weight of train\n",
      "W2=W*5*100**-1 #N\n",
      "\n",
      "#Total Retarding Force against motion\n",
      "F2=F+W2 #N\n",
      "\n",
      "#acceleration\n",
      "a=F2*g*W**-1 #m/s**2\n",
      "\n",
      "#Distance\n",
      "s=V**2*(2*round(a,3))**-1 #m\n",
      "\n",
      "#PArt-2\n",
      "\n",
      "#Dstance travelled by car From B to E\n",
      "\n",
      "#Distance BD\n",
      "s_BD=s+L_BC #m\n",
      "\n",
      "F3=840 #N #Net Force down the grade\n",
      "\n",
      "#Acceleration \n",
      "a2=F3*g*W**-1 #m/s**2\n",
      "\n",
      "#Velocity\n",
      "v2=(2*a2*s_BD)**0.5 #m/s\n",
      "\n",
      "#PArt 3\n",
      "\n",
      "#Motion From B to E\n",
      "\n",
      "#acceleration\n",
      "a3=F*g*W**-1 #m/s**2\n",
      "\n",
      "#Initial velocity at B\n",
      "u_B=10.70 #m/s\n",
      "\n",
      "#Distance\n",
      "s2=u_B**2*(2*round(a3,3))**-1 #m\n",
      "\n",
      "#Result\n",
      "print\"Distance travelled by car before stopping is\",round(s,2),\"m\"\n",
      "print\"Distance travelled by car beyond Bon level track before stopping at E\",round(s2,2),\"m\""
     ],
     "language": "python",
     "metadata": {},
     "outputs": [
      {
       "output_type": "stream",
       "stream": "stdout",
       "text": [
        "Distance travelled by car before stopping is 39.05 m\n",
        "Distance travelled by car beyond Bon level track before stopping at E 733.91 m\n"
       ]
      }
     ],
     "prompt_number": 17
    },
    {
     "cell_type": "heading",
     "level": 2,
     "metadata": {},
     "source": [
      "Example 15.16,Page No.552"
     ]
    },
    {
     "cell_type": "code",
     "collapsed": false,
     "input": [
      "import math\n",
      "\n",
      "#Initilization of Variables\n",
      "\n",
      "W=100 #N #Weight carried by lift\n",
      "a=2.45 #m/s**2 #Acceleration\n",
      "g=9.80 #m/s**2 #Acceleration due to gravity\n",
      "\n",
      "#Calculation\n",
      "\n",
      "#Tension in the cables supporting the lift\n",
      "\n",
      "#Lift moving upwards\n",
      "T=W*(1+a*g**-1) #N\n",
      "\n",
      "#Lift moving downwards\n",
      "T2=W*(1-a*g**-1) #N\n",
      "\n",
      "#Result\n",
      "print\"Tension in the cables supporting the lift:when moving upwards\",round(T,2),\"N\"\n",
      "print\"Tension in the cables supporting the lift:when moving downward\",round(T2,2),\"N\""
     ],
     "language": "python",
     "metadata": {},
     "outputs": [
      {
       "output_type": "stream",
       "stream": "stdout",
       "text": [
        "Tension in the cables supporting the lift:when moving upwards 125.0 N\n",
        "Tension in the cables supporting the lift:when moving downward 75.0 N\n"
       ]
      }
     ],
     "prompt_number": 18
    },
    {
     "cell_type": "heading",
     "level": 2,
     "metadata": {},
     "source": [
      "Example 15.16(A),Page No.553"
     ]
    },
    {
     "cell_type": "code",
     "collapsed": false,
     "input": [
      "import math\n",
      "\n",
      "#Initilization of Variables\n",
      "\n",
      "a=1 #m/s**2 #upward acceleration\n",
      "W=600 #N #weight of man\n",
      "g=9.81 #m/s**2 #Acceleration due to gravity\n",
      "\n",
      "#Calculation\n",
      "\n",
      "#NEt Force in upward direction\n",
      "F=W*g**-1 #N\n",
      "\n",
      "#But net Force in upward direction\n",
      "T=F+W #N\n",
      "\n",
      "#Result\n",
      "print\"net Force in upward direction\",round(T,2),\"N\""
     ],
     "language": "python",
     "metadata": {},
     "outputs": [
      {
       "output_type": "stream",
       "stream": "stdout",
       "text": [
        "net Force in upward direction 661.16 N\n"
       ]
      }
     ],
     "prompt_number": 19
    },
    {
     "cell_type": "heading",
     "level": 2,
     "metadata": {},
     "source": [
      "Example 15.17,Page No.553"
     ]
    },
    {
     "cell_type": "code",
     "collapsed": false,
     "input": [
      "import math\n",
      "\n",
      "#Initilization of Variables\n",
      "\n",
      "a=1.225 #m/s**2 #upward acceleration\n",
      "W=500 #N #Weight of man\n",
      "g=9.8 #m/s**2 #Acceleration due to gravity\n",
      "\n",
      "#Calculation\n",
      "\n",
      "#Tension in the cables supporting the lift\n",
      "\n",
      "#Lift moving upwards\n",
      "T=W*(1+a*g**-1) #N\n",
      "\n",
      "#lift moving downwards\n",
      "T2=W*(1-a*g**-1) #N\n",
      "\n",
      "#Lift moving upwards with unknown acceleration\n",
      "T3=600 #N #Pressure exerted by man\n",
      "a=(T3-W)*g*W**-1 #m/s**2\n",
      "\n",
      "#Result\n",
      "print\"Acceleration upwards is\",round(a,2),\"m/s**2\""
     ],
     "language": "python",
     "metadata": {},
     "outputs": [
      {
       "output_type": "stream",
       "stream": "stdout",
       "text": [
        "Acceleration upwards is 1.96 m/s**2\n"
       ]
      }
     ],
     "prompt_number": 20
    },
    {
     "cell_type": "heading",
     "level": 2,
     "metadata": {},
     "source": [
      "Example 15.18,Page No.554"
     ]
    },
    {
     "cell_type": "code",
     "collapsed": false,
     "input": [
      "import math\n",
      "\n",
      "#Initilization of Variables\n",
      "\n",
      "W=2500 #N #Weight of an elevator\n",
      "u=0 #m/s #Initial Velocity\n",
      "s=35 #m #Distance travelled\n",
      "t=10 #sec #time\n",
      "g=9.81 #m/s**2 #Acceleration due to gravity\n",
      "\n",
      "#Calculation\n",
      "\n",
      "#Tension in the cables\n",
      "\n",
      "#When acceleration is zero i.e a=0\n",
      "a=0 #m/s**2\n",
      "T=W*(1-a*g**-1) #N\n",
      "\n",
      "#When acceleration is zero i.e a=0\n",
      "a2=9.81 #m/s**2\n",
      "T2=W*(1-a2*g**-1) #N\n",
      "\n",
      "#Using equation of distance\n",
      "a3=(s-u*t)*2*(t**2)**-1 #m/s**2\n",
      "\n",
      "#Tension in the cable at time t=10 sec\n",
      "T3=W*(1-a3*g**-1) #N\n",
      "\n",
      "#Result\n",
      "print\"Limits of table Tension is:when a=0\",round(T,2),\"N\"\n",
      "print\"                          :when a=9.81 m/s**2\",round(T2,2),\"N\"\n",
      "print\"Cable Tension at time t=10 sec\",round(T3,2),\"N\""
     ],
     "language": "python",
     "metadata": {},
     "outputs": [
      {
       "output_type": "stream",
       "stream": "stdout",
       "text": [
        "Limits of table Tension is:when a=0 2500.0 N\n",
        "                          :when a=9.81 m/s**2 0.0 N\n",
        "Cable Tension at time t=10 sec 2321.61 N\n"
       ]
      }
     ],
     "prompt_number": 21
    },
    {
     "cell_type": "heading",
     "level": 2,
     "metadata": {},
     "source": [
      "Example 15.19,Page No.555"
     ]
    },
    {
     "cell_type": "code",
     "collapsed": false,
     "input": [
      "import math\n",
      "\n",
      "#Initilization of Variables\n",
      "\n",
      "g=9.80 #m/s**2 #Acceleration due to gravity\n",
      "W=5000 #N #Weight of 10 men on the cage\n",
      "u=0 #m/s #Initial Velocity of cage\n",
      "v=12 #m/s #Final Velocity\n",
      "s=20 #m #Distance travelled\n",
      "\n",
      "#Calculation\n",
      "\n",
      "#acceleration\n",
      "a=(v**2-u**2)*(2*s)**-1 #m/s**2\n",
      "\n",
      "#Tension in cable while moving downwards\n",
      "T=W*(1-a*g**-1) #N\n",
      "\n",
      "#Tension produced by one men\n",
      "T2=T*10**-1 #N\n",
      "\n",
      "#Result\n",
      "print\"Pressure Exerted by each man on the cage\",round(T2,2),\"N\""
     ],
     "language": "python",
     "metadata": {},
     "outputs": [
      {
       "output_type": "stream",
       "stream": "stdout",
       "text": [
        "Pressure Exerted by each man on the cage 316.33 N\n"
       ]
      }
     ],
     "prompt_number": 22
    },
    {
     "cell_type": "heading",
     "level": 2,
     "metadata": {},
     "source": [
      "Example 15.20,Page No.556"
     ]
    },
    {
     "cell_type": "code",
     "collapsed": false,
     "input": [
      "import math\n",
      "\n",
      "#Initilization of Variables\n",
      "\n",
      "W=5000 #N #Weight of elevator\n",
      "a=3 #m/s**2 #Acceleration\n",
      "W2=700 #N #weight of perator \n",
      "g=9.80\n",
      "\n",
      "#Calculation\n",
      "\n",
      "#Reaction offered by floor on operator\n",
      "R=W*g**-1*a+W2 #N\n",
      "\n",
      "#Total Weight \n",
      "W3=W+W2 #N\n",
      "\n",
      "#Total Tension in the cable\n",
      "T=W3*g**-1*a+W3 #N\n",
      "\n",
      "#Result\n",
      "print\"Total tension in the cable\",round(T,2),\"N\""
     ],
     "language": "python",
     "metadata": {},
     "outputs": [
      {
       "output_type": "stream",
       "stream": "stdout",
       "text": [
        "Total tension in the cable 7444.9 N\n"
       ]
      }
     ],
     "prompt_number": 4
    },
    {
     "cell_type": "heading",
     "level": 2,
     "metadata": {},
     "source": [
      "Example 15.21,Page No.558"
     ]
    },
    {
     "cell_type": "code",
     "collapsed": false,
     "input": [
      "import math\n",
      "\n",
      "#Initilization of Variables\n",
      "\n",
      "W1=50 #N #Heavier Weight\n",
      "W2=30 #N #lighter Weight\n",
      "g=9.80 #m/s**2 #Acceleration due to gravity\n",
      "\n",
      "#Calculation\n",
      "\n",
      "#Acceleration of the system\n",
      "a=g*(W1-W2)*(W1+W2)**-1 #m/s**2 \n",
      "\n",
      "#Tension in the string\n",
      "T=2*W1*W2*(W1+W2)**-1 #N\n",
      "\n",
      "#Result\n",
      "print\"Acceleration of the system\",round(a,2),\"m/s**2\"\n",
      "print\"Tension in the string\",round(T,2),\"N\""
     ],
     "language": "python",
     "metadata": {},
     "outputs": [
      {
       "output_type": "stream",
       "stream": "stdout",
       "text": [
        "Acceleration of the system 2.45 m/s**2\n",
        "Tension in the string 37.5 N\n"
       ]
      }
     ],
     "prompt_number": 24
    },
    {
     "cell_type": "heading",
     "level": 2,
     "metadata": {},
     "source": [
      "Example 15.22,Page No.558"
     ]
    },
    {
     "cell_type": "code",
     "collapsed": false,
     "input": [
      "import math\n",
      "\n",
      "#Initilization of Variables\n",
      "\n",
      "g=9.80 #m/s**2 #Acceleration due to gravity\n",
      "W1=60 #N #bigger weight\n",
      "a=3 #m/s**2 #Acceleration of the system\n",
      "\n",
      "#Calculation\n",
      "\n",
      "#smaller Weight\n",
      "W2=-(a*W1*g**-1-W1)*(a*g**-1+1)**-1 #N\n",
      "\n",
      "#Tension in the string\n",
      "T=2*W1*W2*(W1+W2)**-1 #N\n",
      "\n",
      "#Result\n",
      "print\"Smaller Weight is\",round(W2,2),\"N\"\n",
      "print\"Tension in the string\",round(T,2),\"N\""
     ],
     "language": "python",
     "metadata": {},
     "outputs": [
      {
       "output_type": "stream",
       "stream": "stdout",
       "text": [
        "Smaller Weight is 31.88 N\n",
        "Tension in the string 41.63 N\n"
       ]
      }
     ],
     "prompt_number": 25
    },
    {
     "cell_type": "heading",
     "level": 2,
     "metadata": {},
     "source": [
      "Example 15.23,Page No.559"
     ]
    },
    {
     "cell_type": "code",
     "collapsed": false,
     "input": [
      "import math\n",
      "\n",
      "#Initilization of Variables\n",
      "\n",
      "W1=700 #N #Bigger Load\n",
      "W2=500 #N #Smaller Load\n",
      "\n",
      "#Calculation\n",
      "\n",
      "#Weight of block A when acceleration is g/3\n",
      "W1_1=((3*W2)+W2)*2**-1 #N\n",
      "\n",
      "#Weight added \n",
      "W=W1_1-W1 #N\n",
      "\n",
      "#Result\n",
      "print\"Weight added is\",round(W,2),\"N\""
     ],
     "language": "python",
     "metadata": {},
     "outputs": [
      {
       "output_type": "stream",
       "stream": "stdout",
       "text": [
        "Weight added is 300.0 N\n"
       ]
      }
     ],
     "prompt_number": 26
    },
    {
     "cell_type": "heading",
     "level": 2,
     "metadata": {},
     "source": [
      "Example 15.24,Page No.560"
     ]
    },
    {
     "cell_type": "code",
     "collapsed": false,
     "input": [
      "import math\n",
      "\n",
      "#Initilization of Variables\n",
      "\n",
      "W_A=150 #N #Weight of block A\n",
      "W_B=50 #N #Weight of block B\n",
      "g=9.81 #m/s**2 #Acceleration due to gravity\n",
      "\n",
      "#Calculation\n",
      "\n",
      "#Acceleration\n",
      "a=(W_A-W_B*2)*((W_B*2+(W_A*2**-1))*g**-1)**-1 #m/s**2\n",
      "\n",
      "#Acceleration of block B\n",
      "a_B=a #m/s**2\n",
      "\n",
      "#Acceleration of block A\n",
      "a_A=a*2**-1 #m/s**2 \n",
      "\n",
      "#Tensions in the string\n",
      "T=W_B+W_B*g**-1*a #N\n",
      "\n",
      "#Result\n",
      "print\"Tensions in the string is\",round(T,2),\"N\"\n",
      "print\"Acceleration of block B is\",round(a_B,2),\"m/s**2\"\n",
      "print\"Acceleration of block A is\",round(a_A,2),\"m/s**2\""
     ],
     "language": "python",
     "metadata": {},
     "outputs": [
      {
       "output_type": "stream",
       "stream": "stdout",
       "text": [
        "Tensions in the string is 64.29 N\n",
        "Acceleration of block B is 2.8 m/s**2\n",
        "Acceleration of block A is 1.4 m/s**2\n"
       ]
      }
     ],
     "prompt_number": 27
    },
    {
     "cell_type": "heading",
     "level": 2,
     "metadata": {},
     "source": [
      "Example 15.25,Page No.561"
     ]
    },
    {
     "cell_type": "code",
     "collapsed": false,
     "input": [
      "import math\n",
      "\n",
      "#Initilization of Variables\n",
      "\n",
      "W1=15 #N #weight over pulley A\n",
      "W2=10 #N #total weight over pulley B\n",
      "w1=6 #N #weight over pulley B\n",
      "w2=4 #N #weight over pulley B\n",
      "g=9.80 #m/s**2 #acceleration due to gravity\n",
      "\n",
      "#Calculation\n",
      "\n",
      "#Consider motion of weight 15 N\n",
      "#(W1-T1)=W1*g**-1*a               ..........................(1)\n",
      "\n",
      "#Consider motion of weight 4 N\n",
      "#(T2-w2)=w2*g**-1*(a1+a)                 ...................(2)\n",
      "\n",
      "#Consider motion of weight 6 N\n",
      "#(w1-w2)=w1*g**-1*(a1-a)            .........................(3)\n",
      "\n",
      "#Consider motion of pulley B\n",
      "#T1=2*T2                       ...............................(4)\n",
      "\n",
      "#Adding equations 2 and 3 we get\n",
      "#g=5*a1-a    .......................................(5)\n",
      "\n",
      "#Multiplying equation (2) by 2\n",
      "#2*T2-8=8*g**-1*(a1+a)\n",
      "\n",
      "#But sub value 2*T2=T1 in equation above\n",
      "#T1-8=8*g**-1*(a1+a)   .......................................(6)\n",
      "\n",
      "#Adding equation 1 and 6\n",
      "#7*g=23*a+8*a1 .......................................(7)\n",
      "\n",
      "#Multiplying equation (5) by 23\n",
      "#23*g=-23*a+5*23*a1   .......................................(8)\n",
      "\n",
      "#Adding equation 7 and 8 we get\n",
      "a1=30*g*123**-1 #m/s**2\n",
      "\n",
      "#sub value of equation 5 we get\n",
      "a=5*a1-g #m/s**2\n",
      "\n",
      "#Acceleration of weight 15 N\n",
      "a_15=a #m/s**2\n",
      "\n",
      "#Acceleration of weight 6 N\n",
      "a_6=a1-a #m/s**2\n",
      "\n",
      "#Acceleration of weight 4 N\n",
      "a_4=a1+a #m/s**2 \n",
      "\n",
      "#Result\n",
      "print\"Acceleration of weight 15 N\",round(a_15,2),\"m/s**2\"\n",
      "print\"Acceleration of weight 6 N\",round(a_6,2),\"m/s**2\"\n",
      "print\"Acceleration of weight 4 N\",round(a_4,2),\"m/s**2\""
     ],
     "language": "python",
     "metadata": {},
     "outputs": [
      {
       "output_type": "stream",
       "stream": "stdout",
       "text": [
        "Acceleration of weight 15 N 2.15 m/s**2\n",
        "Acceleration of weight 6 N 0.24 m/s**2\n",
        "Acceleration of weight 4 N 4.54 m/s**2\n"
       ]
      }
     ],
     "prompt_number": 28
    },
    {
     "cell_type": "heading",
     "level": 2,
     "metadata": {},
     "source": [
      "Example 15.26,Page No.565"
     ]
    },
    {
     "cell_type": "code",
     "collapsed": false,
     "input": [
      "import math\n",
      "\n",
      "#Initilization of Variables\n",
      "\n",
      "#Weight of bodies\n",
      "W1=10 #N  #Weight placed on Horizontal surface \n",
      "W2=20 #N #Weight hanging free in air\n",
      "g=9.81 #m/s**2 #Acceleration due to gravity\n",
      "\n",
      "#Calculation\n",
      "\n",
      "#Acceleration of the system\n",
      "a=g*W1*(W1+W2)**-1 #m/s**2\n",
      "\n",
      "#tension in the string\n",
      "T=W1*W2*(W1+W2)**-1 #N\n",
      "\n",
      "#Result\n",
      "print\"Acceleration of the system\",round(a,2),\"m/s**2\"\n",
      "print\"Tension in the string\",round(T,2),\"N\""
     ],
     "language": "python",
     "metadata": {},
     "outputs": [
      {
       "output_type": "stream",
       "stream": "stdout",
       "text": [
        "Acceleration of the system 3.27 m/s**2\n",
        "Tension in the string 6.67 N\n"
       ]
      }
     ],
     "prompt_number": 29
    },
    {
     "cell_type": "heading",
     "level": 2,
     "metadata": {},
     "source": [
      "Example 15.27,Page No.565"
     ]
    },
    {
     "cell_type": "code",
     "collapsed": false,
     "input": [
      "import math\n",
      "\n",
      "#Initilization of Variables\n",
      "\n",
      "W1=10 #N #Weight on horizontal surface\n",
      "mu=0.3 #coefficient of friction\n",
      "W2=20 #N #Weight hanging free in air\n",
      "g=9.80\n",
      "\n",
      "#Calculation\n",
      "\n",
      "#Acceleration of the system\n",
      "a=g*(W1-mu*W2)*(W1+W2)**-1 #m/s**2\n",
      "\n",
      "#tension in the string\n",
      "T=W1*W2*(1+mu)*(W1+W2)**-1 #N\n",
      "\n",
      "\n",
      "#Result\n",
      "print\"Acceleration of the system\",round(a,2),\"m/s**2\"\n",
      "print\"Tension in the string\",round(T,2),\"N\""
     ],
     "language": "python",
     "metadata": {},
     "outputs": [
      {
       "output_type": "stream",
       "stream": "stdout",
       "text": [
        "Acceleration of the system 1.31 m/s**2\n",
        "Tension in the string 8.67 N\n"
       ]
      }
     ],
     "prompt_number": 1
    },
    {
     "cell_type": "heading",
     "level": 2,
     "metadata": {},
     "source": [
      "Example 15.28,Page No.566"
     ]
    },
    {
     "cell_type": "code",
     "collapsed": false,
     "input": [
      "import math\n",
      "\n",
      "#Initilization of Variables\n",
      "\n",
      "W1=10 #N #Weight of block A\n",
      "W2=20 #N #weight of block B\n",
      "mu=0.25 #coefficient of friction\n",
      "s=2 #m #Distance moved by block\n",
      "u=0 #Initial velocity of block B\n",
      "g=9.80\n",
      "\n",
      "#Calculation\n",
      "\n",
      "#Acceleration\n",
      "a=g*(W1-mu*W2)*(W1+W2)**-1 #m/s**2\n",
      "\n",
      "#velocity of block B\n",
      "v=u**2+2*a*s #m/s\n",
      "\n",
      "#Result\n",
      "print\"velocity of block B\",round(v,2),\"m/s\""
     ],
     "language": "python",
     "metadata": {},
     "outputs": [
      {
       "output_type": "stream",
       "stream": "stdout",
       "text": [
        "velocity of block B 6.53 m/s\n"
       ]
      }
     ],
     "prompt_number": 2
    },
    {
     "cell_type": "heading",
     "level": 2,
     "metadata": {},
     "source": [
      "Example 15.29,Page No.566"
     ]
    },
    {
     "cell_type": "code",
     "collapsed": false,
     "input": [
      "import math\n",
      "\n",
      "#Initilization of Variables\n",
      "\n",
      "W2=10 #Weight placed on rough horizontal surface\n",
      "W1_1=1.5 #N #Weight hanging free in air\n",
      "W1=0.5 #N #additional weight added \n",
      "T=1.5 #N #Tension in the string\n",
      "R=10 #N #Normal Reaction\n",
      "g=9.80\n",
      "\n",
      "#Calculation\n",
      "\n",
      "#Total Weight hanging in air\n",
      "W=W1_1+W1\n",
      "\n",
      "#Max Frictional Force \n",
      "F=T=1.5 #N\n",
      "\n",
      "#Coefficient of friction \n",
      "mu=F*R**-1\n",
      "\n",
      "#Acceleration of two weights\n",
      "a=g*(W-mu*W2)*(W+W2)**-1 #m/s**2 \n",
      "\n",
      "#Tension in the string\n",
      "T1=W*W2*(1+mu)*(W+W2)**-1 #N\n",
      "\n",
      "#Result\n",
      "print\"Acceleration of two weights is\",round(a,3),\"m/s**2\"\n",
      "print\"Tension in the string\",round(T1,3),\"N\""
     ],
     "language": "python",
     "metadata": {},
     "outputs": [
      {
       "output_type": "stream",
       "stream": "stdout",
       "text": [
        "Acceleration of two weights is 0.408 m/s**2\n",
        "Tension in the string 1.917 N\n"
       ]
      }
     ],
     "prompt_number": 3
    },
    {
     "cell_type": "heading",
     "level": 2,
     "metadata": {},
     "source": [
      "Example 15.30,Page No.568"
     ]
    },
    {
     "cell_type": "code",
     "collapsed": false,
     "input": [
      "import math\n",
      "\n",
      "#Initilization of Variables\n",
      "\n",
      "W2=1500 #N #weight of body A\n",
      "W1=1000 #N #Weight of body B\n",
      "g=9.80\n",
      "\n",
      "#Coefficient of friction\n",
      "mu=mu1=mu2=0.2\n",
      "\n",
      "#T1=1.3691*T2\n",
      "\n",
      "#Calculation\n",
      "\n",
      "#Acceleration\n",
      "a=(W1-1.3691*mu*W2)*((W1*g**-1)+1.3691*W2*g**-1)**-1 #m/s**2\n",
      "\n",
      "#Tension in the string to which weight 1500 N is attached\n",
      "T2=W2*g**-1*round(a,2)+mu*W2 #N\n",
      "\n",
      "#Tension in the string to which weight 1000 N is attached\n",
      "T1=1.3691*round(T2,3)\n",
      "\n",
      "#Result\n",
      "print\"Acceleration of the systems is\",round(a,2),\"m/s**2\"\n",
      "print\"Tension in the string:T1\",round(T1,2),\"N\"\n",
      "print\"                     :T2\",round(T2,2),\"N\"\n",
      "\n",
      "#Answer for T2 is incorrect in the book"
     ],
     "language": "python",
     "metadata": {},
     "outputs": [
      {
       "output_type": "stream",
       "stream": "stdout",
       "text": [
        "Acceleration of the systems is 1.89 m/s**2\n",
        "Tension in the string:T1 806.79 N\n",
        "                     :T2 589.29 N\n"
       ]
      }
     ],
     "prompt_number": 4
    },
    {
     "cell_type": "heading",
     "level": 2,
     "metadata": {},
     "source": [
      "Example 15.31,Page No.573"
     ]
    },
    {
     "cell_type": "code",
     "collapsed": false,
     "input": [
      "import math\n",
      "from math import sin, cos, tan, radians, pi\n",
      "\n",
      "#Initilization of Variables\n",
      "\n",
      "W1=15 #N #Weight of hanging free in air\n",
      "W2=40 #N #weight placed on inclined plane\n",
      "theta=15 #degree #Inclination\n",
      "g=9.80 #m/s**2 #Acceleration due to gravity\n",
      "\n",
      "#Calculation\n",
      "\n",
      "#Acceleration\n",
      "a=g*(W1-W2*sin(theta*pi*180**-1))*(W1+W2)**-1 #m/s**2\n",
      "     \n",
      "#Tension in string\n",
      "T=W1*W2*(1+sin(theta*pi*180**-1))*(W1+W2)**-1 #N\n",
      "\n",
      "#Result\n",
      "print\"Acceleration is\",round(a,2),\"m/s**2\"\n",
      "print\"Tension in the string is\",round(T,2),\"N\""
     ],
     "language": "python",
     "metadata": {},
     "outputs": [
      {
       "output_type": "stream",
       "stream": "stdout",
       "text": [
        "Acceleration is 0.83 m/s**2\n",
        "Tension in the string is 13.73 N\n"
       ]
      }
     ],
     "prompt_number": 5
    },
    {
     "cell_type": "heading",
     "level": 2,
     "metadata": {},
     "source": [
      "Example 15.32,Page No.573"
     ]
    },
    {
     "cell_type": "code",
     "collapsed": false,
     "input": [
      "import math\n",
      "from math import sin, cos, tan, radians, pi\n",
      "\n",
      "#Initilization of Variables\n",
      "\n",
      "W1=25 #N #Weight of hanging free in air\n",
      "W2=40 #N #weight placed on inclined plane\n",
      "theta=15 #degree #Inclination\n",
      "g=9.80 #m/s**2 #Acceleration due to gravity\n",
      "mu=0.2 #coefficient of friction\n",
      "\n",
      "#Calculation\n",
      "\n",
      "#Acceleration\n",
      "a=g*(W1-W2*sin(theta*pi*180**-1)-mu*W2*cos(theta*pi*180**-1))*(W1+W2)**-1 #m/s**2\n",
      "\n",
      "#Tension\n",
      "T=W1*W2*(1+sin(theta*pi*180**-1)+mu*cos(theta*pi*180**-1))*(W1+W2)**-1\n",
      "\n",
      "#Distance\n",
      "u=0 #m/s\n",
      "t=3 #sec\n",
      "s=u*t+a*t**2*2**-1 #m\n",
      "\n",
      "#Result\n",
      "print\"Acceleration is\",round(a,2),\"m/s**2\"\n",
      "print\"Tension is\",round(T,2),\"N\"\n",
      "print\"Distance moved by 25 N is\",round(s,2),\"m\""
     ],
     "language": "python",
     "metadata": {},
     "outputs": [
      {
       "output_type": "stream",
       "stream": "stdout",
       "text": [
        "Acceleration is 1.04 m/s**2\n",
        "Tension is 22.34 N\n",
        "Distance moved by 25 N is 4.69 m\n"
       ]
      }
     ],
     "prompt_number": 6
    },
    {
     "cell_type": "heading",
     "level": 2,
     "metadata": {},
     "source": [
      "Example 15.33,Page No.578"
     ]
    },
    {
     "cell_type": "code",
     "collapsed": false,
     "input": [
      "import math\n",
      "from math import sin, cos, tan, radians, pi\n",
      "\n",
      "#Initilization of Variables\n",
      "\n",
      "#For Circular Lamina\n",
      "D=60 #cm\n",
      "m=0.001 #kg/cm**2 #mass per unit area\n",
      "\n",
      "#For circular cyclinder\n",
      "D2=80 #cm\n",
      "h=15 #cm #height\n",
      "m2=0.002 #kg/cm**3\n",
      "\n",
      "#For solid sphere\n",
      "D3=40 #cm\n",
      "m3=0.0015 #kg/cm**3\n",
      "\n",
      "#Calculation\n",
      "\n",
      "#For Circular Lamina\n",
      "\n",
      "#Radius\n",
      "R=D*2**-1 #cm\n",
      "\n",
      "#Total Mass\n",
      "M=m*pi*R**2 #kg\n",
      "\n",
      "#Moment of Inertia of circular section\n",
      "I_zz=M*R**2*2**-1 #Kg/cm**2\n",
      "\n",
      "#Radius of Gyration For circular section\n",
      "k=R*((2)**0.5)**-1 #cm\n",
      "\n",
      "#For circular cyclinder\n",
      "\n",
      "#Radius\n",
      "R2=D2*2**-1 #cm\n",
      "\n",
      "#Total Mass\n",
      "M2=m2*pi*R2**2*h #kg\n",
      "\n",
      "#Moment of Inertia of circular section\n",
      "I_zz2=M2*R2**2*2**-1 #Kg/cm**2\n",
      "\n",
      "#Radius of Gyration For circular section\n",
      "k2=R2*((2)**0.5)**-1 #cm\n",
      "\n",
      "#For solid sphere\n",
      "\n",
      "#Radius\n",
      "R3=D3*2**-1 #cm\n",
      "\n",
      "#Total Mass\n",
      "M3=m3*4*pi*R3**3*3**-1 #kg\n",
      "\n",
      "#Moment of Inertia of circular section\n",
      "I_zz3=2*5**-1*M3*R3**2 #Kg/cm**2\n",
      "\n",
      "#Radius of Gyration For circular section\n",
      "k3=R3*0.6324 #cm\n",
      "\n",
      "#Result\n",
      "print\"M.I of Circular Lamina is\",round(I_zz,2),\"Kg/cm**2\"\n",
      "print\"Radius of gyration of Circular Lamina is\",round(k,2),\"cm\"\n",
      "\n",
      "print\"M.I of circular cyclinder is\",round(I_zz2,2),\"Kg/cm**2\"\n",
      "print\"Radius of gyration of circular cyclinder is\",round(k2,2),\"cm\"\n",
      "\n",
      "\n",
      "print\"M.I of solid sphere is\",round(I_zz3,2),\"Kg/cm**2\"\n",
      "print\"Radius of gyration of solid sphere is\",round(k3,2),\"cm\"\n"
     ],
     "language": "python",
     "metadata": {},
     "outputs": [
      {
       "output_type": "stream",
       "stream": "stdout",
       "text": [
        "M.I of Circular Lamina is 1272.35 Kg/cm**2\n",
        "Radius of gyration of Circular Lamina is 21.21 cm\n",
        "M.I of circular cyclinder is 120637.16 Kg/cm**2\n",
        "Radius of gyration of circular cyclinder is 28.28 cm\n",
        "M.I of solid sphere is 8042.48 Kg/cm**2\n",
        "Radius of gyration of solid sphere is 12.65 cm\n"
       ]
      }
     ],
     "prompt_number": 36
    },
    {
     "cell_type": "heading",
     "level": 2,
     "metadata": {},
     "source": [
      "Example 15.34,Page No.579"
     ]
    },
    {
     "cell_type": "code",
     "collapsed": false,
     "input": [
      "import math\n",
      "from math import sin, cos, tan, radians, pi\n",
      "\n",
      "#Initilization of Variables\n",
      "\n",
      "D=90 #cm #Diameter of grindstone\n",
      "t=10 #cm #Thickness\n",
      "m=0.0026 #kg/cm**3 #Mass per unit volume\n",
      "\n",
      "#Calculation\n",
      "\n",
      "#Radius\n",
      "R=D*2**-1 #cm\n",
      "\n",
      "#Total Mass\n",
      "M=m*pi*R**2*t #kg\n",
      "\n",
      "#M.I of of grindstone\n",
      "I_zz=M*R**2*2**-1 #Kg/cm**2\n",
      "\n",
      "#Radius of gyration\n",
      "k=R*((2)**0.5)**-1 #cm\n",
      "\n",
      "#Result\n",
      "print\"M.I of Grindstone is\",round(I_zz,2),\"Kg/cm**2\"\n",
      "print\"Radius of gyration is\",round(k,2),\"cm\""
     ],
     "language": "python",
     "metadata": {},
     "outputs": [
      {
       "output_type": "stream",
       "stream": "stdout",
       "text": [
        "M.I of Grindstone is 167472.41 Kg/cm**2\n",
        "Radius of gyration is 31.82 cm\n"
       ]
      }
     ],
     "prompt_number": 7
    },
    {
     "cell_type": "heading",
     "level": 2,
     "metadata": {},
     "source": [
      "Example 15.35,Page No.581"
     ]
    },
    {
     "cell_type": "code",
     "collapsed": false,
     "input": [
      "import math\n",
      "from math import sin, cos, tan, radians, pi\n",
      "\n",
      "#Initilization of Variables\n",
      "\n",
      "W=1000 #N #Weight of flying wheel\n",
      "k=0.5 #m\n",
      "T=1200 #N*m #Torque\n",
      "g=9.80 #m/s**2\n",
      "\n",
      "#Calculation\n",
      "\n",
      "#MAss of flywheel\n",
      "M=W*g**-1 #Kg\n",
      "\n",
      "#Moment of Inertia\n",
      "I=M*k**2 #Kg/m**2\n",
      "\n",
      "#Angular Acceleration\n",
      "alpha=T*I**-1 #radians/s**2\n",
      "\n",
      "#Result\n",
      "print\"Angular Acceleration of flywheel is\",round(alpha,2),\"radians/s**2\""
     ],
     "language": "python",
     "metadata": {},
     "outputs": [
      {
       "output_type": "stream",
       "stream": "stdout",
       "text": [
        "Angular Acceleration of flywheel is 47.04 radians/s**2\n"
       ]
      }
     ],
     "prompt_number": 38
    },
    {
     "cell_type": "heading",
     "level": 2,
     "metadata": {},
     "source": [
      "Example 15.35(A),Page No.582"
     ]
    },
    {
     "cell_type": "code",
     "collapsed": false,
     "input": [
      "import math\n",
      "\n",
      "#Initilization of Variables\n",
      "\n",
      "I=12 #Kg*m**2 #M.I of circular disc\n",
      "t=3 #s #Time\n",
      "T=800 #N*m #Torque\n",
      "w_o=0 #m/s #Angular velocity initially\n",
      "\n",
      "#Calculation\n",
      "\n",
      "alpha=T*I**-1 #radians/s**2\n",
      "\n",
      "#Angular velocity after 3 seconds\n",
      "w=w_o+alpha*t #rad/s\n",
      "\n",
      "#Result\n",
      "print\"angular Velocity after 3 seconds\",round(w,2),\"rad/s\""
     ],
     "language": "python",
     "metadata": {},
     "outputs": [
      {
       "output_type": "stream",
       "stream": "stdout",
       "text": [
        "angular Velocity after 3 seconds 200.0 rad/s\n"
       ]
      }
     ],
     "prompt_number": 39
    },
    {
     "cell_type": "heading",
     "level": 2,
     "metadata": {},
     "source": [
      "Example 15.36,Page No.582"
     ]
    },
    {
     "cell_type": "code",
     "collapsed": false,
     "input": [
      "import math\n",
      "from math import sin, cos, tan, radians, pi\n",
      "\n",
      "#Initilization of Variables\n",
      "\n",
      "M=5000 #kg #Mass of flywheel\n",
      "k=1 #m #radius of gyration \n",
      "N_o=400 #r.p.m #Initial Velocity\n",
      "N=280 #r.p.m #Final speed\n",
      "t=120 #seconds #Time\n",
      "\n",
      "#Calculation\n",
      "\n",
      "#Initial Angular velocity\n",
      "w_o=2*pi*N_o*60**-1 #rad/s\n",
      "\n",
      "#Final Angular velocity\n",
      "w=2*pi*N*60**-1 #rad/s \n",
      "\n",
      "#M.I\n",
      "I=M*k**2 #kg/m**2\n",
      "\n",
      "#Angular acceleration\n",
      "alpha=(w-w_o)*t**-1 #rad/s**2\n",
      "\n",
      "#Torque\n",
      "T=-M*alpha #N*m\n",
      "\n",
      "#Final K.E\n",
      "E2=round(w,2)**2*I*2**-1 #N*m\n",
      "\n",
      "#Initial K.E\n",
      "E1=41.88**2*I*2**-1 #N*m\n",
      "\n",
      "#Change in K.E\n",
      "E=E2-E1 #N*m\n",
      "\n",
      "#Initial Momentum\n",
      "p1=I*round(w,2) #N*m/s\n",
      "\n",
      "#Final Momentum\n",
      "p2=I*41.88 #N*m/s\n",
      "\n",
      "#Change in angular Momentum\n",
      "p=p2-p1 #N*m/s\n",
      "\n",
      "#Result\n",
      "print p1\n",
      "print\"Retading Torque acting is\",round(T,2),\"N*m\"\n",
      "print\"Change in K.E is\",round(E,2),\"N*m\"\n",
      "print\"Change in Angular Momentum is\",round(p,2),\"N*m/s\""
     ],
     "language": "python",
     "metadata": {},
     "outputs": [
      {
       "output_type": "stream",
       "stream": "stdout",
       "text": [
        "146600.0\n",
        "Retading Torque acting is 523.6 N*m\n",
        "Change in K.E is -2235680.0 N*m\n",
        "Change in Angular Momentum is 62800.0 N*m/s\n"
       ]
      }
     ],
     "prompt_number": 8
    },
    {
     "cell_type": "heading",
     "level": 2,
     "metadata": {},
     "source": [
      "Example 15.37,Page No.583"
     ]
    },
    {
     "cell_type": "code",
     "collapsed": false,
     "input": [
      "import math\n",
      "\n",
      "#Initilization of Variables\n",
      "\n",
      "V=0.2 #m/s #Linear Velocity\n",
      "W=0.1 #N #Weight of cyclinder\n",
      "R=0.1 #m #Radius\n",
      "g=9.81 #m/s**2 #Acceleration due to gravity\n",
      "\n",
      "#Calculation\n",
      "\n",
      "#Mass \n",
      "M=W*g**-1 #Mass\n",
      "\n",
      "#M.I\n",
      "I=M*R**2*2**-1 \n",
      "\n",
      "#Angular Velocity\n",
      "w=V*R**-1 #rad/s\n",
      "\n",
      "#Total K.E\n",
      "E=(I*w**2+M*V**2)*2**-1 #N*m\n",
      "\n",
      "#Result\n",
      "print\"Total Kinetic Energy is\",round(E,6),\"N*m\""
     ],
     "language": "python",
     "metadata": {},
     "outputs": [
      {
       "output_type": "stream",
       "stream": "stdout",
       "text": [
        "Total Kinetic Energy is 0.000306 N*m\n"
       ]
      }
     ],
     "prompt_number": 41
    },
    {
     "cell_type": "heading",
     "level": 2,
     "metadata": {},
     "source": [
      "Example 15.38,Page No.584"
     ]
    },
    {
     "cell_type": "code",
     "collapsed": false,
     "input": [
      "import math\n",
      "from math import sin, cos, tan, radians, pi\n",
      "\n",
      "#Initilization of Variables\n",
      "\n",
      "k=0.5 #m #Radius of Gyration\n",
      "W=6000 #N #Weight of flywheel\n",
      "N_o=0 #Initial r.p.m\n",
      "N=200 #Final r.p.m  \n",
      "t=120 #seconds\n",
      "g=9.80 #m/s**2\n",
      "\n",
      "#Calculation\n",
      "\n",
      "#MAss\n",
      "M=W*g**-1 #Kg\n",
      "\n",
      "#Initial Angular Velocity\n",
      "w_o=2*pi*N_o*60**-1 \n",
      "\n",
      "#Final Angular Velocity\n",
      "w=2*pi*N*60**-1 #rad/s\n",
      "\n",
      "#M.I\n",
      "I=M*k**2 \n",
      "\n",
      "#Angular acceleration\n",
      "alpha=(w-w_o)*t**-1 #rad/s**2\n",
      "\n",
      "#Torque Exerted\n",
      "T=I*alpha #N*m\n",
      "\n",
      "#Result\n",
      "print\"Average Torque exerted is\",round(T,2),\"N*m\"\n",
      "\n",
      "#Answer for M.I is incorrect so value of Torque in book is incorrect"
     ],
     "language": "python",
     "metadata": {},
     "outputs": [
      {
       "output_type": "stream",
       "stream": "stdout",
       "text": [
        "Average Torque exerted is 26.71 N*m\n"
       ]
      }
     ],
     "prompt_number": 9
    },
    {
     "cell_type": "heading",
     "level": 2,
     "metadata": {},
     "source": [
      "Example 15.38(A),Page No.585"
     ]
    },
    {
     "cell_type": "code",
     "collapsed": false,
     "input": [
      "import math\n",
      "from math import sin, cos, tan, radians, pi\n",
      "\n",
      "#Initilization of Variables\n",
      "\n",
      "#weights\n",
      "W_A=100 #N\n",
      "W_B=180 #N\n",
      "\n",
      "#Radii\n",
      "r_A=0.1 #m \n",
      "r_B=0.15 #m\n",
      "\n",
      "#RAdius of gyration\n",
      "k_A=0.08 #m \n",
      "k_B=0.13 #m\n",
      "\n",
      "theta=30 #degree #Inclination of plane\n",
      "g=9.81 #m/s**2 #Acceleration due to gravity\n",
      "\n",
      "#Calculation\n",
      "\n",
      "#Wheel A\n",
      "\n",
      "#Angular acceleration \n",
      "alpha_A=(W_A*sin(theta*pi*180**-1)*r_A)*(W_A*g**-1*(k_A**2+r_A**2))**-1 #rad/s\n",
      "\n",
      "#Linear acc. of wheel \n",
      "alpha_A_a=alpha_A*r_A #m/s**2\n",
      "\n",
      "#Wheel B\n",
      "\n",
      "#Angular acceleration\n",
      "alpha_B=W_B*sin(theta*pi*180**-1)*r_B*((W_B*g**-1*(k_B**2+r_B**2)))**-1\n",
      "\n",
      "#Linear acc. of wheel \n",
      "alpha_B_b=alpha_B*r_B #m/s**2\n",
      "\n",
      "#Acceleration of A with respect to B\n",
      "a_A_B=-(round(alpha_B_b,2)-round(alpha_A_a,2))\n",
      "\n",
      "#Result\n",
      "print\"Acceleration of A with respect to B\",a_A_B,\"m/s**2\""
     ],
     "language": "python",
     "metadata": {},
     "outputs": [
      {
       "output_type": "stream",
       "stream": "stdout",
       "text": [
        "Acceleration of A with respect to B 0.19 m/s**2\n"
       ]
      }
     ],
     "prompt_number": 10
    },
    {
     "cell_type": "heading",
     "level": 2,
     "metadata": {},
     "source": [
      "Example 15.39,Page No.589"
     ]
    },
    {
     "cell_type": "code",
     "collapsed": false,
     "input": [
      "import math\n",
      "\n",
      "#Initilization of Variables\n",
      "\n",
      "W=5 #N #Weight suspended by arope\n",
      "W_o=50 #N #Weight of pulley\n",
      "R=0.3 #m #Radius of pulley\n",
      "g=9.81 #m/s**2\n",
      "\n",
      "#Calculation\n",
      "\n",
      "#Acceleration\n",
      "a=g*W*(W+W_o*2**-1)**-1 #m/s**2\n",
      "\n",
      "#Tension in the string\n",
      "T=W*W_o*(2*W+W_o)**-1 #N\n",
      "\n",
      "#Result\n",
      "print\"Acceleration is\",round(a,2),\"m/s**2\"\n",
      "print\"Tension in the string is\",round(T,2),\"N\""
     ],
     "language": "python",
     "metadata": {},
     "outputs": [
      {
       "output_type": "stream",
       "stream": "stdout",
       "text": [
        "Acceleration is 1.64 m/s**2\n",
        "Tension in the string is 4.17 N\n"
       ]
      }
     ],
     "prompt_number": 44
    },
    {
     "cell_type": "heading",
     "level": 2,
     "metadata": {},
     "source": [
      "Example 15.40,Page No.590"
     ]
    },
    {
     "cell_type": "code",
     "collapsed": false,
     "input": [
      "import math\n",
      "\n",
      "#Initilization of Variables\n",
      "\n",
      "W1=100 #N #bigger Weight\n",
      "W2=40 #N #Smaller Weight\n",
      "W_o=50 #N #Weight of pulley\n",
      "g=9.80\n",
      "\n",
      "#Calculation\n",
      "\n",
      "#Acceleration \n",
      "a=g*(W1-W2)*(W1+W2+W_o*2**-1)**-1 #m/s**2\n",
      "\n",
      "#TEnsion T1\n",
      "T1=W1*(2*W2+W_o*2**-1)*(W1+W2+W_o*2**-1)**-1 #N\n",
      "\n",
      "#Tension T2\n",
      "T2=W2*(2*W1+W_o*2**-1)*(W1+W2+W_o*2**-1)**-1 #N\n",
      "\n",
      "#Result\n",
      "print\"Acceleration of block is\",round(a,2),\"m/s**2\"\n",
      "print\"Tension T1\",round(T1,2),\"N\"\n",
      "print\"Tension T2\",round(T2,2),\"N\""
     ],
     "language": "python",
     "metadata": {},
     "outputs": [
      {
       "output_type": "stream",
       "stream": "stdout",
       "text": [
        "Acceleration of block is 3.56 m/s**2\n",
        "Tension T1 63.64 N\n",
        "Tension T2 54.55 N\n"
       ]
      }
     ],
     "prompt_number": 11
    },
    {
     "cell_type": "heading",
     "level": 2,
     "metadata": {},
     "source": [
      "Example 15.41,Page No.591"
     ]
    },
    {
     "cell_type": "code",
     "collapsed": false,
     "input": [
      "import math\n",
      "\n",
      "#Initilization of Variables\n",
      "\n",
      "W=2940 #N #Weight of cage\n",
      "D=1.20 #m #Diameter of drum\n",
      "R=0.6 #m #Radius of drum\n",
      "W_o=735 #N #Weight of drum\n",
      "k=0.55 #m #Radius of gyration\n",
      "T1=4000 #N*m #Constant Torque Exerted by motor\n",
      "g=9.8 #m/s**2 #Acceleration due to gravity\n",
      "\n",
      "#Calculation\n",
      "\n",
      "\n",
      "#Mass of the cage\n",
      "M=W*g**-1 #Kg\n",
      "\n",
      "#Net Force\n",
      "#(P-W)=M*a    ........................1\n",
      "\n",
      "#M.I of Drum\n",
      "I=W_o*g**-1*k**2 \n",
      "\n",
      "#Torque on Drum\n",
      "#(T1-R*P)=I*alpha    ..................(2)\n",
      "\n",
      "#Angular Acceleration\n",
      "#alpha=(a*R**-1)\n",
      "\n",
      "#Sub value of I and alpha in equation 2 we get\n",
      "#(4000-0.6*P)=37.8125*a   ...................3\n",
      "\n",
      "#After multipliying equation 1 by R we get\n",
      "#(R*P-R*W)=R*M*a   .............................4\n",
      "\n",
      "#Adding equations 3 and 4 we get equation as\n",
      "#(4000-0.6*2940)=37.8125*a+0.6*300*a\n",
      "#AFter further simplifying we get\n",
      "a=2236*(217.8125)**-1 #m/s**2 #Acceleration\n",
      "\n",
      "#Sub value of a in equation 1 \n",
      "P=M*a+W #N\n",
      "\n",
      "#PArt-2\n",
      "#Time Required to raise the cage 20 m from ground\n",
      "\n",
      "u=0 #m/s #Initial Velocity\n",
      "a=10.265 #m/s**2 #acceleraation\n",
      "s=20 #m #Height from ground\n",
      "\n",
      "#time required\n",
      "t=((2*s)*a**-1)**0.5 #s\n",
      "\n",
      "#Result\n",
      "print\"Acceleration of the cage is\",round(a,2),\"m/s**2\"\n",
      "print\"Tension in the cage is\",round(P,2),\"N\"\n",
      "print\"Time required to raise the cage 20 m from ground\",round(t,2),\"s\""
     ],
     "language": "python",
     "metadata": {},
     "outputs": [
      {
       "output_type": "stream",
       "stream": "stdout",
       "text": [
        "Acceleration of the cage is 10.27 m/s**2\n",
        "Tension in the cage is 6019.71 N\n",
        "Time required to raise the cage 20 m from ground 1.97 s\n"
       ]
      }
     ],
     "prompt_number": 46
    },
    {
     "cell_type": "heading",
     "level": 2,
     "metadata": {},
     "source": [
      "Example 15.42,Page No.593"
     ]
    },
    {
     "cell_type": "code",
     "collapsed": false,
     "input": [
      "import math\n",
      "\n",
      "#Initilization of Variables\n",
      "\n",
      "W_o=100 #N #Weight of cyclinder\n",
      "W=10 #N #Weight of block\n",
      "D=1 #m #diameter of cyclinder\n",
      "R=0.5 #m #Radius of cyclinder\n",
      "g=9.80 #m/s**2 #Acceleration due to gravity\n",
      "\n",
      "#Calculation\n",
      "\n",
      "#Mass of block\n",
      "M=W*g**-1 #Kg\n",
      "\n",
      "#Net Force\n",
      "#(W-P)=W1*g**-1*alpha   .........................1\n",
      "\n",
      "#M.I\n",
      "I=M*R**2*2**-1 #kgm**2\n",
      "\n",
      "#Torque equation\n",
      "#T=I*alpha \n",
      "\n",
      "#Multiplying equation of net force with 2 we get\n",
      "#P=25*g**-1*alpha      ..............................2\n",
      "\n",
      "#Adding equations 1 and 2 we get\n",
      "alpha=W*3.06**-1 #rad/s**2\n",
      "\n",
      "#Initial velocity\n",
      "u=0 #m/s\n",
      "t=2 #sec #time\n",
      "\n",
      "#Angular acceleration \n",
      "alpha=3.268 #rad/s**2\n",
      "\n",
      "#Angular Velocity\n",
      "u_o=u+alpha*t\n",
      "\n",
      "#Result\n",
      "print\"Angular Velocity after 2 seconds is\",round(u_o,2),\"m/s**2\""
     ],
     "language": "python",
     "metadata": {},
     "outputs": [
      {
       "output_type": "stream",
       "stream": "stdout",
       "text": [
        "Angular Velocity after 2 seconds is 6.54 m/s**2\n"
       ]
      }
     ],
     "prompt_number": 47
    },
    {
     "cell_type": "heading",
     "level": 2,
     "metadata": {},
     "source": [
      "Example 15.43,Page No.595"
     ]
    },
    {
     "cell_type": "code",
     "collapsed": false,
     "input": [
      "import math\n",
      "\n",
      "#Initilization of Variables\n",
      "\n",
      "W1=100 #N #Weight of Block\n",
      "W2=300 #N #weight of pulley\n",
      "k=0.25 #m #Radius of gyration\n",
      "r_A=0.2 #m #Radius of pulley A\n",
      "r_B=0.3 #m #Radius of pulley B\n",
      "g=9.81 #m/s**2 #Acceleration due to gravity\n",
      "\n",
      "#Calculation\n",
      "\n",
      "#Motion of block B\n",
      "#(W1-T_B)=W1*g**-1*r_B*alpha   ..................1\n",
      "\n",
      "#Motion of block A\n",
      "#(T_A-W1)=W1*g**-1*r_A*alpha    ..................2\n",
      "\n",
      "#M.I of pulley\n",
      "I=W2*g**-1*k**2\n",
      "\n",
      "#Rotation of pulley\n",
      "#T_B*r_B-T_A*r_A=I*alpha     .....................3\n",
      "\n",
      "#After multiplying equation 1 by r_B we get\n",
      "#30-r_B*T_B=W1*g**-1*r_B*alpha    ..................4               \n",
      "\n",
      "#After multiplying equation 2 by r_A we get\n",
      "#0.2*T_A-20=W1*g**-1*r_A*alpha    ..................5\n",
      "\n",
      "#Adding equations 3,4,5 and further simplifying we get\n",
      "alpha=10*g*31.75**-1 #Rad/s**2\n",
      "\n",
      "#Linear acceleration of pulley\n",
      "alpha_B=0.3*alpha #m/s**2\n",
      "alpha_A=0.2*alpha #m/s**2 \n",
      "\n",
      "#Tension in strings\n",
      "T_A=W1+W1*g**-1*alpha_A #N\n",
      "T_B=W1-W1*g**-1*alpha_B #N\n",
      "\n",
      "\n",
      "#Result\n",
      "print\"Angular Acceleration of pulley\",round(alpha,2),\"rad/s**2\"\n",
      "print\"Linear acceleration of blocks A and B:alpha_A\",round(alpha_A,2),\"rad/s**2\"\n",
      "print\"                                     :alpha_B\",round(alpha_B,2),\"rad/s**2\"\n",
      "print\"Tension in the strings\",round(T_A,2),\"N\"\n",
      "print\"                      \",round(T_B,2),\"N\""
     ],
     "language": "python",
     "metadata": {},
     "outputs": [
      {
       "output_type": "stream",
       "stream": "stdout",
       "text": [
        "Angular Acceleration of pulley 3.09 rad/s**2\n",
        "Linear acceleration of blocks A and B:alpha_A 0.62 rad/s**2\n",
        "                                     :alpha_B 0.93 rad/s**2\n",
        "Tension in the strings 106.3 N\n",
        "                       90.55 N\n"
       ]
      }
     ],
     "prompt_number": 10
    },
    {
     "cell_type": "heading",
     "level": 2,
     "metadata": {},
     "source": [
      "Example 15.44,Page No.598"
     ]
    },
    {
     "cell_type": "code",
     "collapsed": false,
     "input": [
      "import math\n",
      "\n",
      "#Initilization of Variables\n",
      "\n",
      "#Weights\n",
      "W1=200 #N\n",
      "W2=800 #N\n",
      "\n",
      "F=400 #N #Force applied\n",
      "mu=0.3 #Coefficient of friction\n",
      "g=9.80 #m/s**2 #Acceleration due to gravity\n",
      "\n",
      "#Calculation\n",
      "\n",
      "#Total Weights\n",
      "W=W1+W2 #N\n",
      "\n",
      "#Total Mass \n",
      "M=W*g**-1 #Kg\n",
      "\n",
      "#Force of friction\n",
      "F2=mu*W #N\n",
      "\n",
      "#acceleration\n",
      "a=-((-F+F2)*g)*W**-1 #m/s**2 \n",
      "\n",
      "#PArt-2\n",
      "\n",
      "#Force of Friction\n",
      "F3=mu*W1 #N\n",
      "\n",
      "#Reverse Effective Force on it\n",
      "F4=W1*g**-1*a #N\n",
      "\n",
      "#Tension in thread\n",
      "T=F3+F4 #N\n",
      "\n",
      "#Result\n",
      "print\"acceleration of the weights is\",round(a,2),\"m/s**2\"\n",
      "print\"Tension in the string is\",round(T,2),\"N\""
     ],
     "language": "python",
     "metadata": {},
     "outputs": [
      {
       "output_type": "stream",
       "stream": "stdout",
       "text": [
        "acceleration of the weights is 0.98 m/s**2\n",
        "Tension in the string is 80.0 N\n"
       ]
      }
     ],
     "prompt_number": 48
    }
   ],
   "metadata": {}
  }
 ]
}