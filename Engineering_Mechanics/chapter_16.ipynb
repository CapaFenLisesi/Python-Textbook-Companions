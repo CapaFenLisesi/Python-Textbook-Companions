{
 "metadata": {
  "name": "chapter_16.ipynb"
 },
 "nbformat": 3,
 "nbformat_minor": 0,
 "worksheets": [
  {
   "cells": [
    {
     "cell_type": "heading",
     "level": 1,
     "metadata": {},
     "source": [
      "Chapter 16:Simple Harmonic Motion And Mechanical Vibrations"
     ]
    },
    {
     "cell_type": "heading",
     "level": 2,
     "metadata": {},
     "source": [
      "Example 16.1,Page No.615"
     ]
    },
    {
     "cell_type": "code",
     "collapsed": false,
     "input": [
      "import math\n",
      "from math import sin, cos, radians, pi\n",
      "import numpy as np\n",
      "\n",
      "\n",
      "#Declaration Of Variables\n",
      "\n",
      "t=0.3 #s #Time\n",
      "r=0.8 #m #Amplitude\n",
      "T=1.6 #s #Period of oscillations\n",
      "\n",
      "#Calculations\n",
      "\n",
      "#frequency\n",
      "f=2*pi*T**-1 #rad/s\n",
      "\n",
      "#Velocity\n",
      "v=round(f,3)*r*sin(round(f,3)*t) #m/s\n",
      "\n",
      "#Accleration\n",
      "a=f**2*r*cos(f*t) #m/s**2\n",
      "\n",
      "#Value for acceleration in textbook is incorrect\n",
      "\n",
      "#Result\n",
      "print\"Velocity is\",round(v,2),\"m/s\"\n",
      "print\"Acceleration is\",round(a,2),\"m/s**2\""
     ],
     "language": "python",
     "metadata": {},
     "outputs": [
      {
       "output_type": "stream",
       "stream": "stdout",
       "text": [
        "Velocity is 2.9 m/s\n",
        "Acceleration is 4.72 m/s**2\n"
       ]
      }
     ],
     "prompt_number": 1
    },
    {
     "cell_type": "heading",
     "level": 2,
     "metadata": {},
     "source": [
      "Example 16.2,Page No.615"
     ]
    },
    {
     "cell_type": "code",
     "collapsed": false,
     "input": [
      "import math\n",
      "from math import sin, cos, radians, pi\n",
      "import numpy as np\n",
      "\n",
      "#Declaration Of Variables\n",
      "\n",
      "r=1 #m #Amplitude\n",
      "T=2 #s #Period of oscillations\n",
      "\n",
      "#Calculations\n",
      "\n",
      "#Time taken by body from mid pos\n",
      "t=T*5**-1 #s\n",
      "\n",
      "#Time taken by body from extreme position to mid position\n",
      "t2=T*4**-1 #s\n",
      "\n",
      "#time taken by body fom extreme position\n",
      "t3=t2-t #s\n",
      "\n",
      "#Angular velocity\n",
      "f=2*pi*T**-1 #rad/s\n",
      "\n",
      "#Velocity\n",
      "v=-f*r*sin(f*t3) #m/s\n",
      "\n",
      "#Value of velocity in book is incorrect in textbook i.e 0.09831\n",
      "\n",
      "#Acceleration\n",
      "a=-f**2*r*cos(pi*t3) #m/s**2\n",
      "\n",
      "#Result\n",
      "print\"Velocity is\",round(v,2),\"m/s\"\n",
      "print\"Acceleration is\",round(a,2),\"m/s**2\""
     ],
     "language": "python",
     "metadata": {},
     "outputs": [
      {
       "output_type": "stream",
       "stream": "stdout",
       "text": [
        "Velocity is -0.97 m/s\n",
        "Acceleration is -9.39 m/s**2\n"
       ]
      }
     ],
     "prompt_number": 1
    },
    {
     "cell_type": "heading",
     "level": 2,
     "metadata": {},
     "source": [
      "Example 16.3,Page No.616"
     ]
    },
    {
     "cell_type": "code",
     "collapsed": false,
     "input": [
      "import math\n",
      "from math import sin, cos, radians, pi\n",
      "import numpy as np\n",
      "\n",
      "\n",
      "#Declaration Of Variables\n",
      "\n",
      "t=0.4 #s #Time\n",
      "r=1 #m #Amplitude\n",
      "T=2 #s #Period of oscillations\n",
      "\n",
      "#Calculations\n",
      "\n",
      "#frequency\n",
      "f=2*pi*T**-1 #rad/s\n",
      "\n",
      "#Velocity\n",
      "v=round(f,3)*r*sin(round(f,3)*t) #m/s\n",
      "\n",
      "#Accleration\n",
      "a=f**2*r*cos(f*t) #m/s**2\n",
      "\n",
      "#Value for acceleration in textbook is incorrect\n",
      "\n",
      "#Result\n",
      "print\"Velocity is\",round(v,2),\"m/s\"\n",
      "print\"Acceleration is\",round(a,2),\"m/s**2\""
     ],
     "language": "python",
     "metadata": {},
     "outputs": [
      {
       "output_type": "stream",
       "stream": "stdout",
       "text": [
        "Velocity is 2.99 m/s\n",
        "Acceleration is 3.05 m/s**2\n"
       ]
      }
     ],
     "prompt_number": 2
    },
    {
     "cell_type": "heading",
     "level": 2,
     "metadata": {},
     "source": [
      "Example 16.4,Page No.617"
     ]
    },
    {
     "cell_type": "code",
     "collapsed": false,
     "input": [
      "import math\n",
      "\n",
      "#Declaration Of Variables\n",
      "\n",
      "N=100 #r.p.m #Speed of crank\n",
      "\n",
      "#Calculations\n",
      "\n",
      "#Angular velocity\n",
      "f=2*pi*N*60**-1 #rad/s \n",
      "\n",
      "#Stroke of piston\n",
      "n=1.8 #cm\n",
      "\n",
      "#Ampiltude\n",
      "r=n*2**-1 #m\n",
      "\n",
      "#Displacement of piston from centre\n",
      "x=0.6 #m\n",
      "\n",
      "\n",
      "#Let f*t=y\n",
      "#Displacement\n",
      "y=arccos(x*r**-1)*(180*pi**-1)\n",
      "\n",
      "#Velocity of piston\n",
      "v=-f*r*sin(y*180**-1*pi)\n",
      "\n",
      "#Acceleration of piston\n",
      "a=-f**2*r*cos(y*180**-1*pi) #m/s**2\n",
      "\n",
      "#Result\n",
      "print\"Velocity is\",round(v,2),\"m/s\"\n",
      "print\"Acceleration is\",round(a,2),\"m/s**2\""
     ],
     "language": "python",
     "metadata": {},
     "outputs": [
      {
       "output_type": "stream",
       "stream": "stdout",
       "text": [
        "Velocity is -7.02 m/s\n",
        "Acceleration is -65.8 m/s**2\n"
       ]
      }
     ],
     "prompt_number": 9
    },
    {
     "cell_type": "heading",
     "level": 2,
     "metadata": {},
     "source": [
      "Example 16.5,Page No.617"
     ]
    },
    {
     "cell_type": "code",
     "collapsed": false,
     "input": [
      "import math\n",
      "from math import sin, cos, radians, pi\n",
      "import numpy as np\n",
      "\n",
      "#Declaration Of Variables\n",
      "\n",
      "#Velocities of Body\n",
      "v1=8 #m/s\n",
      "v2=3 #m/s\n",
      "\n",
      "#Distance of Body\n",
      "x1=1.5 #m #When v1=8 #m/s\n",
      "x2=2.5 #m #When v2=3 #m/s\n",
      "\n",
      "#Calculations\n",
      "\n",
      "#For 1st velocity\n",
      "#v1=-f*((r**2-x1**2))**2\n",
      "#After Substituting values and further simplifying we get\n",
      "#8=-f*((r**2-1.5**2))**2   ..........................................1\n",
      "\n",
      "#For 2nd velocity\n",
      "#v2=-f*((r**2-x2**2))**2\n",
      "#After Substituting values and further simplifying we get\n",
      "#3=-f*((r**2-2.5**2))**2   ..........................................2\n",
      "\n",
      "#Dividing equations 1 and 2 and further simplifying we get\n",
      "#Amplitude\n",
      "r=(42.19*6.111**-1)**0.5 #m \n",
      "\n",
      "#Sub value of r in equation 2 we get\n",
      "f=v2*(((r**2-x2**2))**0.5)**-1 #rad/s\n",
      "\n",
      "#Period\n",
      "T=2*pi*f**-1 #s\n",
      "\n",
      "#Result\n",
      "print\"Amplitude of Body is\",round(r,2),\"m\"\n",
      "print\"Period of Body is\",round(T,2),\"s\""
     ],
     "language": "python",
     "metadata": {},
     "outputs": [
      {
       "output_type": "stream",
       "stream": "stdout",
       "text": [
        "Amplitude of Body is 2.63 m\n",
        "Period of Body is 1.69 s\n"
       ]
      }
     ],
     "prompt_number": 3
    },
    {
     "cell_type": "heading",
     "level": 2,
     "metadata": {},
     "source": [
      "Example 16.6,Page No.618"
     ]
    },
    {
     "cell_type": "code",
     "collapsed": false,
     "input": [
      "import math\n",
      "from math import sin, cos, radians, pi\n",
      "import numpy as np\n",
      "\n",
      "#Declaration Of Variables\n",
      "\n",
      "#Velocities of Body\n",
      "v1=12 #m/s\n",
      "v2=3 #m/s\n",
      "\n",
      "#Distance of Body\n",
      "x1=0.05 #m #When v1=8 #m/s\n",
      "x2=0.1 #m #When v2=3 #m/s\n",
      "x=0.075 #m\n",
      "\n",
      "#Calculations\n",
      "\n",
      "#For 1st velocity\n",
      "#v1=-f*((r**2-x1**2))**2\n",
      "#After Substituting values and further simplifying we get\n",
      "#12=-f*((r**2-0.05**2))**2   ..........................................1\n",
      "\n",
      "#For 2nd velocity\n",
      "#v2=-f*((r**2-x2**2))**2\n",
      "#After Substituting values and further simplifying we get\n",
      "#3=-f*((r**2-0.1**2))**2   ..........................................2\n",
      "\n",
      "#Dividing equations 1 and 2 and further simplifying we get\n",
      "#Amplitude\n",
      "r=(0.1575*15**-1)**0.5 #m \n",
      "\n",
      "#Sub value of r in equation 2 we get\n",
      "f=v2*(((r**2-x2**2))**0.5)**-1 #rad/s\n",
      "\n",
      "#Frequency\n",
      "n=f*(2*pi)**-1 #cycles/s\n",
      "\n",
      "#Acceleration\n",
      "a=f**2*x\n",
      "\n",
      "#Result\n",
      "print\"Frequency of motion is\",round(f,2),\"rad/s\"\n",
      "print\"Amplitude of motion is\",round(r,4),\"m\"\n",
      "print\"Acceleration when the displacement is 75 mm is\",round(a,2),\"m/s**2\""
     ],
     "language": "python",
     "metadata": {},
     "outputs": [
      {
       "output_type": "stream",
       "stream": "stdout",
       "text": [
        "Frequency of motion is 134.16 rad/s\n",
        "Amplitude of motion is 0.1025 m\n",
        "Acceleration when the displacement is 75 mm is 1350.0 m/s**2\n"
       ]
      }
     ],
     "prompt_number": 4
    },
    {
     "cell_type": "heading",
     "level": 2,
     "metadata": {},
     "source": [
      "Example 16.7,Page No.619"
     ]
    },
    {
     "cell_type": "code",
     "collapsed": false,
     "input": [
      "import math\n",
      "from math import sin, cos, radians, pi\n",
      "import numpy as np\n",
      "\n",
      "#Declaration Of Variables\n",
      "\n",
      "r=4.5 #m #amplitude\n",
      "T=3.5 #s #Period\n",
      "x1=3.5 #m #Distance of 1st point from centre\n",
      "x2=1.5 #m #Distsnce of 2nd point from centre\n",
      "\n",
      "#Calculations\n",
      "\n",
      "#Angular velocity\n",
      "f=2*pi*T**-1 #rad/s\n",
      "\n",
      "#For 1st point\n",
      "#x1=r*cos(f*t1)\n",
      "#After substituting and  further simplifying \n",
      "t1=0.6796*1.795**-1\n",
      "\n",
      "#For second point\n",
      "#x2=r*cos(f*t2)\n",
      "#After substituting and  further simplifying \n",
      "t2=1.231*1.795**-1\n",
      "\n",
      "#Time required by body in passing between two points\n",
      "t=t2-t1 #s\n",
      "\n",
      "#Result\n",
      "print\"Time required by body in passing between two points is\",round(t,2),\"s\""
     ],
     "language": "python",
     "metadata": {},
     "outputs": [
      {
       "output_type": "stream",
       "stream": "stdout",
       "text": [
        "Time required by body in passing between two points is 0.31 s\n"
       ]
      }
     ],
     "prompt_number": 5
    },
    {
     "cell_type": "heading",
     "level": 2,
     "metadata": {},
     "source": [
      "Example 16.8,Page No.620"
     ]
    },
    {
     "cell_type": "code",
     "collapsed": false,
     "input": [
      "import math\n",
      "from math import sin, cos, radians, pi\n",
      "import numpy as np\n",
      "\n",
      "#Declaration Of Variables\n",
      "\n",
      "#Velocities of Body\n",
      "v1=6 #m/s\n",
      "v2=3 #m/s\n",
      "\n",
      "#Distance of Body\n",
      "x1=0.125 #m #When v1=6 #m/s\n",
      "x2=0.200 #m #When v2=3 #m/s\n",
      "\n",
      "W=0.2 #kg #Weight of cross head\n",
      "g=9.81 #Acceleration due to gravity\n",
      "\n",
      "\n",
      "#Calculations\n",
      "\n",
      "#For 1st velocity\n",
      "#v1=-f*((r**2-x1**2))**2\n",
      "#After Substituting values and further simplifying we get\n",
      "#6=-f*((r**2-0.125**2))**2   ..........................................1\n",
      "\n",
      "#For 2nd velocity\n",
      "#v2=-f*((r**2-x2**2))**2\n",
      "#After Substituting values and further simplifying we get\n",
      "#3=-f*((r**2-0.200**2))**2   ..........................................2\n",
      "\n",
      "#Dividing equations 1 and 2 and further simplifying we get\n",
      "#Amplitude\n",
      "r=(0.1444*3**-1)**0.5 #m \n",
      "\n",
      "#Sub value of r in equation 2 we get\n",
      "f=v2*(((round(r,4)**2-x2**2))**0.5)**-1 #rad/s\n",
      "\n",
      "#Period\n",
      "T=2*pi*f**-1 #s\n",
      "\n",
      "#Max Velocity\n",
      "V_max=f*r #m/s\n",
      "\n",
      "#mass of cross head\n",
      "m=W*g**-1 #N\n",
      "\n",
      "#Max acceleration\n",
      "a_max=round(f,2)**2*round(r,4) #m/s**2\n",
      "\n",
      "#Max Force\n",
      "F_max=m*a_max\n",
      "\n",
      "#Result\n",
      "print\"Amplitude of vibration is\",round(r,2),\"m\"\n",
      "print\"Max Velocity is\",round(V_max,2),\"m/s\"\n",
      "print\"period of Vibration is\",round(T,2),\"s\"\n",
      "print\"MAx Force in direction of motion\",round(F_max,2),\"Kg*f\""
     ],
     "language": "python",
     "metadata": {},
     "outputs": [
      {
       "output_type": "stream",
       "stream": "stdout",
       "text": [
        "Amplitude of vibration is 0.22 m\n",
        "Max Velocity is 7.3 m/s\n",
        "period of Vibration is 0.19 s\n",
        "MAx Force in direction of motion 4.95 Kg*f\n"
       ]
      }
     ],
     "prompt_number": 6
    },
    {
     "cell_type": "heading",
     "level": 2,
     "metadata": {},
     "source": [
      "Example 16.9,Page No.621"
     ]
    },
    {
     "cell_type": "code",
     "collapsed": false,
     "input": [
      "import math\n",
      "from math import sin, cos, radians, pi\n",
      "import numpy as np\n",
      "\n",
      "\n",
      "#Declaration Of Variables\n",
      "\n",
      "#Distance of Body\n",
      "x1=0.07 #m #When v1=0.6*V_max #m/s\n",
      "x2=0.05 #m #When v2 #m/s\n",
      "T=7.5 #s #Time to perform oscillation\n",
      "\n",
      "#Calculations\n",
      "\n",
      "#Equation of velocity\n",
      "#v=-f*((r**2-x**2)**0.5)  ..................1\n",
      "\n",
      "#Velocity\n",
      "#v=0.6*V_max   ........2\n",
      "#x=x1    ................3\n",
      "\n",
      "#Frequency\n",
      "f=2*pi*T**-1 #rad/s\n",
      "\n",
      "#MAx Velocity\n",
      "#V_max=-f*r       ............4\n",
      "\n",
      "#Sub all values in equation 1 and further simplifying we get\n",
      "r=(0.0049*0.64**-1)**0.5\n",
      "\n",
      "#Velocity \n",
      "v=f*((r**2-x2**2)**0.5)\n",
      "\n",
      "#Max Acceleration\n",
      "a_max=f**2*r\n",
      "\n",
      "#Result\n",
      "print\"Amplitude of motion is\",round(r,4),\"m\"\n",
      "print\"Velocity of particle is\",round(v,2),\"m/s\"\n",
      "print\"MAx Acceleration is\",round(a_max,4),\"m/s**2\""
     ],
     "language": "python",
     "metadata": {},
     "outputs": [
      {
       "output_type": "stream",
       "stream": "stdout",
       "text": [
        "Amplitude of motion is 0.0875 m\n",
        "Velocity of particle is 0.06 m/s\n",
        "MAx Acceleration is 0.0614 m/s**2\n"
       ]
      }
     ],
     "prompt_number": 7
    },
    {
     "cell_type": "heading",
     "level": 2,
     "metadata": {},
     "source": [
      "Example 16.10,Page No.625"
     ]
    },
    {
     "cell_type": "code",
     "collapsed": false,
     "input": [
      "import math\n",
      "from math import sin, cos, radians, pi\n",
      "import numpy as np\n",
      "\n",
      "#Declaration Of Variables\n",
      "\n",
      "W=50 #N #Weight attached\n",
      "n=4 #No. of oscillation\n",
      "T=0.25 #s #Period of oscillation\n",
      "\n",
      "#Calculations\n",
      "\n",
      "#Static Extension\n",
      "P=(T*(2*pi)**-1)**2*9.81*100 #cm\n",
      "\n",
      "#Stiffness of spring\n",
      "k=W*round(P,2)**-1 #N/cm\n",
      "\n",
      "#Result\n",
      "print\"Stiffness of spring is\",round(k,2),\"N/cm\""
     ],
     "language": "python",
     "metadata": {},
     "outputs": [
      {
       "output_type": "stream",
       "stream": "stdout",
       "text": [
        "Stiffness of spring is 32.26 N/cm\n"
       ]
      }
     ],
     "prompt_number": 8
    },
    {
     "cell_type": "heading",
     "level": 2,
     "metadata": {},
     "source": [
      "Example 16.11,Page No.625"
     ]
    },
    {
     "cell_type": "code",
     "collapsed": false,
     "input": [
      "import math\n",
      "from math import sin, cos, radians, pi\n",
      "import numpy as np\n",
      "\n",
      "#Declaration Of Variables\n",
      "\n",
      "C=150 #N/m #Stiffness\n",
      "T=1.5 #s #PEriod time\n",
      "\n",
      "#Calculations\n",
      "\n",
      "#Static Extension\n",
      "P=(T*(2*pi)**-1)**2*9.81\n",
      "\n",
      "#Weight Attached\n",
      "W=C*P #N\n",
      "\n",
      "#Result\n",
      "print\"Weight attached to spring\",round(W,2),\"N\""
     ],
     "language": "python",
     "metadata": {},
     "outputs": [
      {
       "output_type": "stream",
       "stream": "stdout",
       "text": [
        "Weight attached to spring 83.87 N\n"
       ]
      }
     ],
     "prompt_number": 16
    },
    {
     "cell_type": "heading",
     "level": 2,
     "metadata": {},
     "source": [
      "Example 16.12,Page No.626"
     ]
    },
    {
     "cell_type": "code",
     "collapsed": false,
     "input": [
      "import math\n",
      "from math import sin, cos, radians, pi\n",
      "import numpy as np\n",
      "\n",
      "#Declaration Of Variables\n",
      "\n",
      "#Frequency\n",
      "n1=12 #cycles/s #when Weight W1=W\n",
      "n2=10 #cycles/s #when Weight W2=(W+20)\n",
      "g=9.81 #m/s**2 #Acceleration due to gravity\n",
      "\n",
      "#Calculations\n",
      "\n",
      "#frequency equation\n",
      "#f=1*(2*pi)**-1*((k*g)*W**-1)**0.5\n",
      "\n",
      "#For First case f=12 \n",
      "#12=1*(2*pi)**-1*((k*g)*W**-1)**0.5   ...............1\n",
      "\n",
      "#For Second case f=10\n",
      "#10=1*(2*pi)**-1*((k*g)*W**-1)**0.5    .............2\n",
      "\n",
      "#Dividing equation 1 by 2 we get\n",
      "#12*10**-1=((W+20)*W**-1)**0.5 \n",
      "\n",
      "#Squaring above equation and further simplifying we get \n",
      "W=2000*44**-1\n",
      "\n",
      "#Sub value of W in equation 1 we get\n",
      "k=(n1*2*pi)**2*W*g**-1*10**-3 #KN/m\n",
      "\n",
      "#Result\n",
      "print\"Weight of spring is\",round(W,2),\"N\"\n",
      "print\"Stiffness of the spring is\",round(k,2),\"KN/m\""
     ],
     "language": "python",
     "metadata": {},
     "outputs": [
      {
       "output_type": "stream",
       "stream": "stdout",
       "text": [
        "Weight of spring is 45.45 N\n",
        "Stiffness of the spring is 26.34 KN/m\n"
       ]
      }
     ],
     "prompt_number": 17
    },
    {
     "cell_type": "heading",
     "level": 2,
     "metadata": {},
     "source": [
      "Example 16.15,Page No.629"
     ]
    },
    {
     "cell_type": "code",
     "collapsed": false,
     "input": [
      "import math\n",
      "from math import sin, cos, radians, pi\n",
      "import numpy as np\n",
      "\n",
      "#Declaration Of Variables\n",
      "\n",
      "M=50 #kg #Mass of block\n",
      "g=9.81 #Acceleration due to gravity\n",
      "C1=4000 #N/m #Stiffness of 1st spring\n",
      "C2=6000 #N/m #Stiffness  of 2nd spring\n",
      "r=0.04 #m #MAx amplitude\n",
      "\n",
      "#Calculations\n",
      "\n",
      "#Static Extension of 1st spring\n",
      "x1=M*g*C1**-1 #m\n",
      "\n",
      "\n",
      "#Static Extension of 2nd spring\n",
      "x2=M*g*C2**-1 #m\n",
      "\n",
      "#Total Extension \n",
      "x=x1+x2 #m\n",
      "\n",
      "#Period of vibration \n",
      "T=2*pi*(x*g**-1)**0.5 #s\n",
      "\n",
      "#Angular velocity\n",
      "f=2*pi*T**-1 #rad/s\n",
      "\n",
      "#MAx velocity\n",
      "V_max=f*r #m/s\n",
      "\n",
      "#Max Acceleration\n",
      "A_max=f**2*r #m/s**2\n",
      "\n",
      "#2nd case\n",
      "\n",
      "#Let\n",
      "#W1=Weight supported by first spring\n",
      "#W2=Weight suppoerted by second spring\n",
      "\n",
      "#W=W1+W2 #Total Weight ......................1\n",
      "\n",
      "#Extension of first spring\n",
      "#X1=W1*C1**-1  ...........................2\n",
      "\n",
      "#Extension of second spring\n",
      "#X2=W2*C2**-1    .........................3\n",
      "\n",
      "#As Extension of 1st spring is equal to 2nd spring\n",
      "#W1*C1**-1=W2*C2**-1 \n",
      "\n",
      "#sub value in equation 1 and further simplifying we get\n",
      "W2=50*g*3*5**-1 #N\n",
      "\n",
      "#Static extension of block\n",
      "X3=W2*C2**-1 #m\n",
      "\n",
      "#Period of vibration \n",
      "T2=2*pi*(X3*g**-1)**0.5 #s\n",
      "\n",
      "#Angular velocity\n",
      "f2=2*pi*T2**-1 #rad/s\n",
      "\n",
      "#MAx velocity\n",
      "V_max2=f2*r #m/s\n",
      "\n",
      "#Acceleration\n",
      "A_max2=f2**2*r #m/s**2\n",
      "\n",
      "\n",
      "#result\n",
      "print\"Period of vibrations\",round(T,4),\"s\"\n",
      "print\"MAx velocity\",round(V_max,2),\"m/s\"\n",
      "print\"Max Acceleration\" ,round(A_max,2),\"m/s**2\"\n",
      "\n",
      "#When Block is suppoetred with spring\n",
      "print\"Period of vibrations\",round(T2,2),\"s\"\n",
      "print\"MAx velocity\",round(V_max2,2),\"m/s\"\n",
      "print\"Max Acceleration\" ,round(A_max2,2),\"m/s**2\""
     ],
     "language": "python",
     "metadata": {},
     "outputs": [
      {
       "output_type": "stream",
       "stream": "stdout",
       "text": [
        "Period of vibrations 0.9069 s\n",
        "MAx velocity 0.28 m/s\n",
        "Max Acceleration 1.92 m/s**2\n",
        "Period of vibrations 0.44 s\n",
        "MAx velocity 0.57 m/s\n",
        "Max Acceleration 8.0 m/s**2\n"
       ]
      }
     ],
     "prompt_number": 18
    },
    {
     "cell_type": "heading",
     "level": 2,
     "metadata": {},
     "source": [
      "Example 16.16,Page No.631"
     ]
    },
    {
     "cell_type": "code",
     "collapsed": false,
     "input": [
      "import math\n",
      "from math import sin, cos, radians, pi\n",
      "import numpy as np\n",
      "\n",
      "#Declaration Of Variables\n",
      "\n",
      "x=0.3 #mm #Extension of spring\n",
      "W1=20 #N #Weight \n",
      "W2=700 #N #Weight supported\n",
      "e=1.05 #cm #Static Extension\n",
      "r=0.90 #cm #Amplitude\n",
      "g=980 #m/s**2 #Acceleration due to gravity\n",
      "x3=0.4 #cm #Displacement of weight from equilibrium position\n",
      "\n",
      "#Calculations\n",
      "\n",
      "#Stiffness of spring\n",
      "C=W1*x**-1 #N/mm\n",
      "\n",
      "#Extension of spring\n",
      "x2=W2*C**-1 #cm\n",
      "\n",
      "#Period of vibration\n",
      "T=2*pi*((e*g**-1)**0.5) #s\n",
      "\n",
      "#Frequency\n",
      "n=1*T**-1 #vib/s\n",
      "\n",
      "#Angular velocioty\n",
      "f=(g*e**-1)**0.5 #rad/s\n",
      "\n",
      "#Velocity\n",
      "v=-f*((r**2-x3**2)**0.5)\n",
      "\n",
      "#Result\n",
      "print\"Frequency of vibration is\",round(n,2),\"vib/s\"\n",
      "print\"Period of vibration is\",round(T,2),\"s\"\n",
      "print\"Velocity of weight is\",round(v,2),\"m/s\""
     ],
     "language": "python",
     "metadata": {},
     "outputs": [
      {
       "output_type": "stream",
       "stream": "stdout",
       "text": [
        "Frequency of vibration is 4.86 vib/s\n",
        "Period of vibration is 0.21 s\n",
        "Velocity of weight is -24.63 m/s\n"
       ]
      }
     ],
     "prompt_number": 19
    },
    {
     "cell_type": "heading",
     "level": 2,
     "metadata": {},
     "source": [
      "Example 16.17,Page No.632"
     ]
    },
    {
     "cell_type": "code",
     "collapsed": false,
     "input": [
      "import math\n",
      "from math import sin, cos, radians, pi\n",
      "import numpy as np\n",
      "\n",
      "\n",
      "#Declaration Of Variables\n",
      "\n",
      "W_o=24 #tf #Weight of empty wagon\n",
      "W1=32 #tf #Weight of goods\n",
      "W=W_o+W1 #Total Weight\n",
      "e1=8 #cm #Total Compression of spring\n",
      "g=981 #Acceleration due to gravity\n",
      "r=10 #cm #Amplitude\n",
      "x=4 #cm #displacement\n",
      "\n",
      "#Calculations\n",
      "\n",
      "#Stiffness of spring\n",
      "c=W*e1**-1 #tf/cm\n",
      "\n",
      "#Compression of spring due to weight of wagon\n",
      "e_o=W_o*c**-1 #cm\n",
      "\n",
      "#When Wagon is empty \n",
      "T_o=2*pi*((e_o*g**-1)**0.5)\n",
      "\n",
      "#When Wagon is Loaded \n",
      "T1=2*pi*((e1*g**-1)**0.5)\n",
      "\n",
      "#Angular velocity\n",
      "f=2*pi*T_o**-1 #rad/s\n",
      "\n",
      "#Velocity \n",
      "v=f*((r**2-x**2)**0.5)*10**-2\n",
      "\n",
      "#Result\n",
      "print\"Natural period of Vibrations is:When wagon is empty\",round(T_o,2),\"s\"\n",
      "print\"                               :When wagon is loaded\",round(T1,2),\"s\"\n",
      "print\"Velocity when displacement is\",round(v,2),\"m/s\""
     ],
     "language": "python",
     "metadata": {},
     "outputs": [
      {
       "output_type": "stream",
       "stream": "stdout",
       "text": [
        "Natural period of Vibrations is:When wagon is empty 0.37 s\n",
        "                               :When wagon is loaded 0.57 s\n",
        "Velocity when displacement is 1.55 m/s\n"
       ]
      }
     ],
     "prompt_number": 20
    },
    {
     "cell_type": "heading",
     "level": 2,
     "metadata": {},
     "source": [
      "Example 16.18,Page No.634"
     ]
    },
    {
     "cell_type": "code",
     "collapsed": false,
     "input": [
      "import math\n",
      "from math import sin, cos, radians, pi\n",
      "import numpy as np\n",
      "\n",
      "\n",
      "#Declaration Of Variables\n",
      "\n",
      "T=2 #s #time\n",
      "g2=981 #Acceleration due to gravity\n",
      "g=980 #Acceleration due to gravity\n",
      "\n",
      "#Calculations\n",
      "\n",
      "#Length of seconds pendulum with g=980\n",
      "L1=(T*(2*pi)**-1)**2*g\n",
      "\n",
      "#Length of seconds pendulum with g=981\n",
      "L2=(T*(2*pi)**-1)**2*g2\n",
      "\n",
      "#Result\n",
      "print\"Length of seconds pendulum with g=980 is\",round(L1,2),\"cm\"\n",
      "print\"Length of seconds pendulum with g=981 is\",round(L2,3),\"cm\""
     ],
     "language": "python",
     "metadata": {},
     "outputs": [
      {
       "output_type": "stream",
       "stream": "stdout",
       "text": [
        "Length of seconds pendulum with g=980 is 99.29 cm\n",
        "Length of seconds pendulum with g=981 is 99.396 cm\n"
       ]
      }
     ],
     "prompt_number": 21
    },
    {
     "cell_type": "heading",
     "level": 2,
     "metadata": {},
     "source": [
      "Example 16.19,Page No.634"
     ]
    },
    {
     "cell_type": "code",
     "collapsed": false,
     "input": [
      "import math\n",
      "from math import sin, cos, radians, pi\n",
      "import numpy as np\n",
      "\n",
      "#Declaration Of Variables\n",
      "\n",
      "l=0.6 #m #Length of string\n",
      "W=80 #g\n",
      "g=9.81 \n",
      "\n",
      "#Calculations\n",
      "\n",
      "#Time\n",
      "T=2*pi*((l*g**-1)**0.5) #s\n",
      "\n",
      "#Result\n",
      "print\"Time period of pendulum is\",round(T,2),\"s\""
     ],
     "language": "python",
     "metadata": {},
     "outputs": [
      {
       "output_type": "stream",
       "stream": "stdout",
       "text": [
        "Time period of pendulum is 1.55 s\n"
       ]
      }
     ],
     "prompt_number": 22
    },
    {
     "cell_type": "heading",
     "level": 2,
     "metadata": {},
     "source": [
      "Example 16.20,Page No.635"
     ]
    },
    {
     "cell_type": "code",
     "collapsed": false,
     "input": [
      "import math\n",
      "from math import sin, cos, radians, pi\n",
      "import numpy as np\n",
      "\n",
      "#Declaration Of Variables\n",
      "\n",
      "l=99.93 #cm #LEngth of pendulum\n",
      "dn=-5 #s #Number of beats clock loses\n",
      "n=39.155\n",
      "\n",
      "#Calculations\n",
      "\n",
      "#Number of seconds in days \n",
      "dl=-dn*2*l*n**-1\n",
      "\n",
      "#Result\n",
      "print\"Length of pendulum for correct time is\",round(dl,5),\"cm\""
     ],
     "language": "python",
     "metadata": {},
     "outputs": [
      {
       "output_type": "stream",
       "stream": "stdout",
       "text": [
        "Length of pendulum for correct time is 25.52164 cm\n"
       ]
      }
     ],
     "prompt_number": 13
    },
    {
     "cell_type": "heading",
     "level": 2,
     "metadata": {},
     "source": [
      "Example 16.21,Page No.635"
     ]
    },
    {
     "cell_type": "code",
     "collapsed": false,
     "input": [
      "import math\n",
      "from math import sin, cos, radians, pi\n",
      "import numpy as np\n",
      "\n",
      "#Declaration Of Variables\n",
      "\n",
      "T=2 #s #Time\n",
      "g=981 #cm/s**2\n",
      "\n",
      "#Calculations\n",
      "\n",
      "#Length of pendulum\n",
      "L=(T*(2*pi)**-1)**2*g #cm\n",
      "\n",
      "#Part-2\n",
      "\n",
      "#Decrease in gravity\n",
      "dg=g-981 #cm/s**2\n",
      "\n",
      "#Number of beats in day\n",
      "n=24*60*60\n",
      "\n",
      "# number of beats clock will lose\n",
      "dn=n*(2*g)**-1 #s\n",
      "\n",
      "#Result\n",
      "print\"Length of Pendulum\",round(L,2),\"cm\"\n",
      "print\"Number of beats clock will lose is\",round(dn,2),\"s\""
     ],
     "language": "python",
     "metadata": {},
     "outputs": [
      {
       "output_type": "stream",
       "stream": "stdout",
       "text": [
        "Length of Pendulum 99.4 cm\n",
        "Number of beats clock will lose is 44.04 s\n"
       ]
      }
     ],
     "prompt_number": 14
    },
    {
     "cell_type": "heading",
     "level": 2,
     "metadata": {},
     "source": [
      "Example 16.24,Page No.640"
     ]
    },
    {
     "cell_type": "code",
     "collapsed": false,
     "input": [
      "import math\n",
      "from math import sin, cos, radians, pi\n",
      "import numpy as np\n",
      "\n",
      "#Declaration Of Variables\n",
      "\n",
      "d=100 #mm #Diameter of shaft\n",
      "L=1000 #mm #Length of shaft\n",
      "W=5000 #N #Weight attached\n",
      "C=8.16*10**4 #N/mm**2 #Modulus of rigidity\n",
      "g=9.81 #m/s**2\n",
      "E=2*10**5 #N/mm**2 #Modulus of  Elasticity\n",
      "k=250 #mm #Radius of gyration\n",
      "\n",
      "#Calculations\n",
      "\n",
      "#Stress\n",
      "F=W*(pi*4**-1*d**2)**-1 #N/mm**2\n",
      "\n",
      "#static deflection\n",
      "dell=F*L*E**-1*10**-3 #m\n",
      "\n",
      "#Frequency of longitudinal vibrations\n",
      "f=1*(2*pi)**-1*((g*dell**-1))**0.5\n",
      "\n",
      "#Part-2\n",
      "\n",
      "#Torsional stiffness\n",
      "q=C*pi*32**-1*d**4*L**-1\n",
      "\n",
      "#M.I\n",
      "I=W*(g*1000)**-1*k**2\n",
      "\n",
      "#Frequency of torsional vibrations\n",
      "f2=1*(2*pi)**-1*((q*I**-1))**0.5\n",
      "\n",
      "#Result\n",
      "print\"Frequencies for free longitudinal  vibrations is\",round(f,2),\"m\"\n",
      "print\"Frequencies for free torsional vibrations is\",round(f2,2),\"cycles/s\""
     ],
     "language": "python",
     "metadata": {},
     "outputs": [
      {
       "output_type": "stream",
       "stream": "stdout",
       "text": [
        "Frequencies for free longitudinal  vibrations is 279.4 m\n",
        "Frequencies for free torsional vibrations is 25.24 cycles/s\n"
       ]
      }
     ],
     "prompt_number": 17
    },
    {
     "cell_type": "heading",
     "level": 2,
     "metadata": {},
     "source": [
      "Example 16.25,Page No.641"
     ]
    },
    {
     "cell_type": "code",
     "collapsed": false,
     "input": [
      "import math\n",
      "from math import sin, cos, radians, pi\n",
      "import numpy as np\n",
      "\n",
      "#Declaration Of Variables\n",
      "\n",
      "d=5 #mm #Diameter of shaft\n",
      "L=1000 #mm #Length of shaft\n",
      "W=20 #N #Weight of rotor\n",
      "D=200 #mm #Diameter of rotor\n",
      "C=0.85*10**5 #N/mm**2 #Modulus of rigidity\n",
      "g=9.81*1000 #mm/s**2\n",
      "\n",
      "#Calculations\n",
      "\n",
      "#Radius of rotor\n",
      "R=D*2**-1 #mm\n",
      "\n",
      "#Polar Modulus \n",
      "J=pi*32**-1*d**4 #mm**4\n",
      "\n",
      "#Torsional Stiffness\n",
      "q=C*J*L**-1 #N*mm\n",
      "\n",
      "#M.I\n",
      "I=W*g**-1*R**2*2**-1 #N*mm-s**2\n",
      "\n",
      "#Frequency of torsional vibrations\n",
      "f=1*(2*pi)**-1*((q*I**-1))**0.5\n",
      "\n",
      "#Result\n",
      "print\"Torsional Vibrations of the system is\",round(f,2),\"cycles/s\""
     ],
     "language": "python",
     "metadata": {},
     "outputs": [
      {
       "output_type": "stream",
       "stream": "stdout",
       "text": [
        "Torsional Vibrations of the system is 3.6 cycles/s\n"
       ]
      }
     ],
     "prompt_number": 18
    }
   ],
   "metadata": {}
  }
 ]
}