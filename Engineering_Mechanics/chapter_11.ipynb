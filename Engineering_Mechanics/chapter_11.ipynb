{
 "metadata": {
  "name": "chapter_11.ipynb"
 },
 "nbformat": 3,
 "nbformat_minor": 0,
 "worksheets": [
  {
   "cells": [
    {
     "cell_type": "heading",
     "level": 1,
     "metadata": {},
     "source": [
      "Chapter 11:Belts,Ropes And Chain Drives"
     ]
    },
    {
     "cell_type": "heading",
     "level": 2,
     "metadata": {},
     "source": [
      "Example 11.1,Page No.386"
     ]
    },
    {
     "cell_type": "code",
     "collapsed": false,
     "input": [
      "import math\n",
      "\n",
      "#Initilization of Variables\n",
      "\n",
      "N1=200 #r.p.m\n",
      "d1=51 #cm #Dia. of engine\n",
      "d2=30 #cm #Dia. of driven shaft\n",
      "\n",
      "#Calculations\n",
      "\n",
      "#Speed of driven shaft\n",
      "N2=d1*d2**-1*N1 #r.p.m\n",
      "\n",
      "#Result\n",
      "print\"Speed of driven shaft is\",round(N2,2),\"r.p.m\""
     ],
     "language": "python",
     "metadata": {},
     "outputs": [
      {
       "output_type": "stream",
       "stream": "stdout",
       "text": [
        "Speed of driven shaft is 340.0 r.p.m\n"
       ]
      }
     ],
     "prompt_number": 1
    },
    {
     "cell_type": "heading",
     "level": 2,
     "metadata": {},
     "source": [
      "Example 11.2,Page No.386"
     ]
    },
    {
     "cell_type": "code",
     "collapsed": false,
     "input": [
      "import math\n",
      "\n",
      "#Initilization of Variables\n",
      "\n",
      "t=1 #cm #thickness\n",
      "N1=200 #r.p.m\n",
      "d1=51 #cm\n",
      "d2=30 #cm\n",
      "\n",
      "#Calculations\n",
      "\n",
      "#Speed of shaft\n",
      "N2=(d1+t)*(d2+t)**-1*N1 #r.p.m\n",
      "\n",
      "#Result\n",
      "print\"speed of shaft is\",round(N2,2),\"r.p.m\""
     ],
     "language": "python",
     "metadata": {},
     "outputs": [
      {
       "output_type": "stream",
       "stream": "stdout",
       "text": [
        "speed of shaft is 335.48 r.p.m\n"
       ]
      }
     ],
     "prompt_number": 2
    },
    {
     "cell_type": "heading",
     "level": 2,
     "metadata": {},
     "source": [
      "Example 11.3,Page No.388"
     ]
    },
    {
     "cell_type": "code",
     "collapsed": false,
     "input": [
      "import math\n",
      "\n",
      "#Initilization of Variables\n",
      "\n",
      "N1=200 #r.p.m\n",
      "N2=300\n",
      "d1=60 #cm\n",
      "t=0.5 #cm\n",
      "s=4 #%\n",
      "\n",
      "#Calculations\n",
      "\n",
      "#Diameter of pulley\n",
      "d2=N1*N2**-1*d1 #cm\n",
      "\n",
      "#Taking belt thickness\n",
      "d2_2=(d1+t)*N1*N2**-1-t\n",
      "\n",
      "#Also considering slip\n",
      "d2_3=(d1+t)*N1*N2**-1*(1-s*100**-1)-t #cm\n",
      "\n",
      "#Result\n",
      "print\"Diameter of belt is:Neglecting belt thickness\",round(d2,2),\"cm\"\n",
      "print\"                   :Belt thickness only\",round(d2_2,2),\"cm\"\n",
      "print\"                   :Considering belt thickness and slip\",round(d2_3,2),\"cm\""
     ],
     "language": "python",
     "metadata": {},
     "outputs": [
      {
       "output_type": "stream",
       "stream": "stdout",
       "text": [
        "Diameter of belt is:Neglecting belt thickness 40.0 cm\n",
        "                   :Belt thickness only 39.83 cm\n",
        "                   :Considering belt thickness and slip 38.22 cm\n"
       ]
      }
     ],
     "prompt_number": 3
    },
    {
     "cell_type": "heading",
     "level": 2,
     "metadata": {},
     "source": [
      "Example 11.4,Page No.389"
     ]
    },
    {
     "cell_type": "code",
     "collapsed": false,
     "input": [
      "import math\n",
      "\n",
      "#Initilization of Variables\n",
      "\n",
      "d1=1 #m #dia. of driver pulley\n",
      "N1=200 #r.p.m #Speed of driver pulley\n",
      "d2=2.5 #m #Dia. of driven pulley\n",
      "f1=1.44 #N/mm**2 #strress\n",
      "f2=0.49 #N/mm**2 \n",
      "E=100 #N/mm**2 #Young's Modulus\n",
      "\n",
      "#Calculations\n",
      "\n",
      "#Speed of driven pulley\n",
      "N2=d1*d2**-1*(E+round((f2)**0.5,2))*(E+round((f1)**0.5,2))**-1*N1\n",
      "\n",
      "#Speed if creep is neglected\n",
      "N2_2=d1*d2**-1*N1 #r.p.m\n",
      "\n",
      "#Speed lost by driven pulley due to creep\n",
      "N=N2_2-N2\n",
      "\n",
      "#Result\n",
      "print\"speed Lost by driven pulley due to creep is\",round(N,3),\"r.p.m\""
     ],
     "language": "python",
     "metadata": {},
     "outputs": [
      {
       "output_type": "stream",
       "stream": "stdout",
       "text": [
        "speed Lost by driven pulley due to creep is 0.395 r.p.m\n"
       ]
      }
     ],
     "prompt_number": 4
    },
    {
     "cell_type": "heading",
     "level": 2,
     "metadata": {},
     "source": [
      "Example 11.5,Page No.390"
     ]
    },
    {
     "cell_type": "code",
     "collapsed": false,
     "input": [
      "import math\n",
      "\n",
      "#Initilization of Variables\n",
      "\n",
      "d1=1 #m #Diameter\n",
      "N1=200 #r.p.m\n",
      "d2=2.5 #m\n",
      "b=500 #mm #width\n",
      "t=10 #mm #thickness\n",
      "E=100 #N/mm**2\n",
      "\n",
      "#Calculations\n",
      "\n",
      "#Area\n",
      "A=b*t #mm**2\n",
      "\n",
      "#Tension on tight side\n",
      "T1=10*b\n",
      "\n",
      "#Tension on slack side\n",
      "T2=4*b #N\n",
      "\n",
      "#Stress on tight side\n",
      "f1=T1*A**-1 #N/mm**2\n",
      "\n",
      "#Stress on slack side\n",
      "f2=T2*A**-1 #N/mm**2\n",
      "\n",
      "#Speed of driven pulley\n",
      "N2=d1*d2**-1*(E+(f2)**0.5)*(E+(f1)**0.5)**-1*N1\n",
      "\n",
      "#Speed if creep is neglected\n",
      "N2_2=d1*d2**-1*N1 #r.p.m\n",
      "\n",
      "#Speed lost by driven pulley due to creep\n",
      "N=N2_2-N2\n",
      "\n",
      "#Result\n",
      "print\"speed Lost by driven pulley due to creep is\",round(N,2),\"r.p.m\""
     ],
     "language": "python",
     "metadata": {},
     "outputs": [
      {
       "output_type": "stream",
       "stream": "stdout",
       "text": [
        "speed Lost by driven pulley due to creep is 0.29 r.p.m\n"
       ]
      }
     ],
     "prompt_number": 5
    },
    {
     "cell_type": "heading",
     "level": 2,
     "metadata": {},
     "source": [
      "Example 11.7,Page No.397"
     ]
    },
    {
     "cell_type": "code",
     "collapsed": false,
     "input": [
      "import math\n",
      "from math import sin, cos, tan, radians, pi\n",
      "\n",
      "#Initilization of Variables\n",
      "\n",
      "x=600 #cm #Distance between shafts\n",
      "r1=30 #cm #radius\n",
      "r2=20 #cm \n",
      "\n",
      "#Calculations\n",
      "\n",
      "#If belt is open \n",
      "L1=pi*(r1+r2)+(r1-r2)**2*x**-3+2*x #cm \n",
      "\n",
      "#If belt is crossed\n",
      "L2=pi*(r1+r2)+(r1+r2)**2*x**-1+2*x #cm\n",
      "\n",
      "#Result\n",
      "print\"If belt is open Length is\",round(L1,2),\"cm\"\n",
      "print\"If belt is crossed length is\",round(L2,2),\"cm\""
     ],
     "language": "python",
     "metadata": {},
     "outputs": [
      {
       "output_type": "stream",
       "stream": "stdout",
       "text": [
        "If belt is open Length is 1357.08 cm\n",
        "If belt is crossed length is 1361.25 cm\n"
       ]
      }
     ],
     "prompt_number": 2
    },
    {
     "cell_type": "heading",
     "level": 2,
     "metadata": {},
     "source": [
      "Example 11.8,Page No.397"
     ]
    },
    {
     "cell_type": "code",
     "collapsed": false,
     "input": [
      "import math\n",
      "from math import sin, cos, tan, radians, pi\n",
      "\n",
      "#Initilization of Variables\n",
      "\n",
      "#speed of shafts\n",
      "N1=N3=N5=160 #r.p.m\n",
      "N2=60 #r.p.m\n",
      "N4=80 #r.p.m\n",
      "N6=100 #r.p.m\n",
      "x=180 #cm #Distance between shafts\n",
      "r1=15 #cm #Radius of smallest pulley\n",
      "\n",
      "#Calculations\n",
      "\n",
      "#Radii of pulley 2\n",
      "r2=r1*N1*N2**-1 #cm\n",
      "\n",
      "#using same above equation for radii of pulley 3 we get and further simplifying we get\n",
      "#r4=2*r3   ..................1\n",
      "\n",
      "#but for crossed belt equation is\n",
      "#r1+r2=r3+r4=r5+r6   .................2\n",
      "#After further simplifying we get\n",
      "r3=(r1+r2)*3**-1 #cm\n",
      "r4=2*r3 #cm\n",
      "\n",
      "#Using same above equation and further simplifying we get\n",
      "#r6=1.6*r5    ...............3\n",
      "\n",
      "#sub value of r6 in equation we get\n",
      "r5=(r1+r2)*2.6**-1 #cm\n",
      "r6=1.6*r5 #cm\n",
      "\n",
      "#Length of open belt\n",
      "L=pi*(r1+r2)+(r1-r2)**2*x**-1+2*x #cm\n",
      "\n",
      "#For pulley 3 and 4 equation is\n",
      "#L=pi*(r3+r4)+(r3-r4)**2*x**-1+2*x\n",
      "#sub value in above equation we get an equation as\n",
      "#r3**2+1696.5*r3-31710.6=0\n",
      "a=1\n",
      "b=1696.5\n",
      "c=-31710.6\n",
      "\n",
      "X=b**2-4*a*c\n",
      "\n",
      "r3_2=(-b+X**0.5)*2**-1 #cm\n",
      "r4_2=2*r3_2 #cm\n",
      "\n",
      "#Sim for r5 & r6 \n",
      "\n",
      "#L=pi*(r6+r5)+(r6-r5)**2*x**-1+2*x\n",
      "#sub value in above equation we get an equation as\n",
      "#r5**2+4084*r5-88085=0\n",
      "a=1\n",
      "b=4084\n",
      "c=-88085\n",
      "\n",
      "X=b**2-4*a*c\n",
      "\n",
      "r5_2=(-b+X**0.5)*2**-1 #cm\n",
      "r6_2=1.6*r5_2 #cm\n",
      "\n",
      "#Result\n",
      "print\"Radii of two stepped pulleys is:For crossed belt:r3\",round(r3,2),\"cm\"\n",
      "print\"                                                :r4\",round(r4,2),\"cm\"\n",
      "print\"                                                :r5\",round(r5,2),\"cm\"\n",
      "print\"                                                :r6\",round(r6,2),\"cm\"\n",
      "print\"Radii of two stepped pulleys is:For open belt:r3_2\",round(r3_2,2),\"cm\"\n",
      "print\"                                             :r4_2\",round(r4_2,2),\"cm\"\n",
      "print\"                                             :r5_2\",round(r5_2,2),\"cm\"\n",
      "print\"                                             :r6_2\",round(r6_2,2),\"cm\""
     ],
     "language": "python",
     "metadata": {},
     "outputs": [
      {
       "output_type": "stream",
       "stream": "stdout",
       "text": [
        "Radii of two stepped pulleys is:For crossed belt:r3 18.33 cm\n",
        "                                                :r4 36.67 cm\n",
        "                                                :r5 21.15 cm\n",
        "                                                :r6 33.85 cm\n",
        "Radii of two stepped pulleys is:For open belt:r3_2 18.49 cm\n",
        "                                             :r4_2 36.98 cm\n",
        "                                             :r5_2 21.46 cm\n",
        "                                             :r6_2 34.33 cm\n"
       ]
      }
     ],
     "prompt_number": 8
    },
    {
     "cell_type": "heading",
     "level": 2,
     "metadata": {},
     "source": [
      "Example 11.9,Page No.403"
     ]
    },
    {
     "cell_type": "code",
     "collapsed": false,
     "input": [
      "import math\n",
      "from math import sin, cos, tan, radians, pi\n",
      "\n",
      "#Initilization of Variables\n",
      "\n",
      "d=1.2 #m #Diameter\n",
      "N=200 #r.p.m #Speed\n",
      "theta=165*pi*180**-1 #radians\n",
      "mu=0.3 #Coefficient of friction\n",
      "T1=3000 #N #MAx Tension\n",
      "\n",
      "\n",
      "#Calculations\n",
      "\n",
      "#Velocity\n",
      "v=pi*d*N*60**-1 #m/s\n",
      "\n",
      "#From ration of tensions we get\n",
      "#T1*T2=e**mu*theta \n",
      "#After simplifying we get\n",
      "#e**mu*theta =2.3714\n",
      "T2=T1*2.3714**-1 #N\n",
      "\n",
      "#Power transmitted\n",
      "P=(T1-T2)*v*1000**-1 #KW\n",
      "\n",
      "#Result\n",
      "print\"Power transmitted is\",round(P,2),\"KW\""
     ],
     "language": "python",
     "metadata": {},
     "outputs": [
      {
       "output_type": "stream",
       "stream": "stdout",
       "text": [
        "Power transmitted is 21.8 KW\n"
       ]
      }
     ],
     "prompt_number": 3
    },
    {
     "cell_type": "heading",
     "level": 2,
     "metadata": {},
     "source": [
      "Example 11.10,Page No.403"
     ]
    },
    {
     "cell_type": "code",
     "collapsed": false,
     "input": [
      "import math\n",
      "from math import sin, cos, tan, radians, pi\n",
      "import numpy as np\n",
      "\n",
      "#Initilization of Variables\n",
      "\n",
      "d1=1.20 #m #Diameter\n",
      "r1=0.6 #m #Radius\n",
      "r2=0.25 #m \n",
      "x=4 #m #Distance between shafts\n",
      "T1=1855.3 #N #Max TRension\n",
      "mu=0.3 #Coefficient of friction\n",
      "N1=200 #r.p.m\n",
      "\n",
      "#Calculations\n",
      "\n",
      "#Velocity\n",
      "v=pi*d1*N1*60**-1 #m/s\n",
      "\n",
      "##Let sin(alpha)=X\n",
      "X=(r1-r2)*x**-1\n",
      "alpha=np.arcsin(X)*(pi**-1*180)\n",
      "\n",
      "#Angle of contact\n",
      "theta=180-2*alpha\n",
      "\n",
      "#From equation of max tension and further simplifying we get\n",
      "T2=1855.3*2.435**-1 #N\n",
      "\n",
      "#Power transmitted\n",
      "P=(T1-T2)*v*1000**-1 #KW\n",
      "\n",
      "#Torque\n",
      "t1=(T1-T2)*r1 #N*m\n",
      "t2=(T1-T2)*r2 #Nm\n",
      "\n",
      "\n",
      "#Result\n",
      "print\"Power transmitted is\",round(P,2),\"KN\"\n",
      "print\"Torque Exerted on driving shaft is:t1\",round(t1,2),\"N*m\"\n",
      "print\"                                  :t2\",round(t2,2),\"N*m\""
     ],
     "language": "python",
     "metadata": {},
     "outputs": [
      {
       "output_type": "stream",
       "stream": "stdout",
       "text": [
        "Power transmitted is 13.74 KN\n",
        "Torque Exerted on driving shaft is:t1 656.02 N*m\n",
        "                                  :t2 273.34 N*m\n"
       ]
      }
     ],
     "prompt_number": 5
    },
    {
     "cell_type": "heading",
     "level": 2,
     "metadata": {},
     "source": [
      "Example 11.11,Page No.407"
     ]
    },
    {
     "cell_type": "code",
     "collapsed": false,
     "input": [
      "import math\n",
      "\n",
      "#Initilization of Variables\n",
      "\n",
      "theta=2.88\n",
      "v=28.33 #m/s #velocity\n",
      "b=20 #cm #Width\n",
      "t=0.8 #cm #thickness\n",
      "rho=10**-3 #Kg/cm**3 #density\n",
      "f=250 #N/cm**2 #Stress\n",
      "mu=0.25 #coefficient of friction\n",
      "\n",
      "#Calculations\n",
      "\n",
      "#Max Tension\n",
      "Tm=f*b*t #N\n",
      "\n",
      "#mass\n",
      "m=rho*b*t*100 #Kg\n",
      "\n",
      "#Centrifugal Tension\n",
      "Tc=m*v**2 #N\n",
      "\n",
      "#Tension on tight side\n",
      "T1=Tm-Tc #N\n",
      "\n",
      "#From ratio of tension equation we get\n",
      "T2=T1*2.056**-1 #N\n",
      "\n",
      "#MAx Power\n",
      "P=(T1-T2)*v*1000**-1 #KW\n",
      "\n",
      "#Result\n",
      "print\"Max Power transmitted is\",round(P,2),\"KW\""
     ],
     "language": "python",
     "metadata": {},
     "outputs": [
      {
       "output_type": "stream",
       "stream": "stdout",
       "text": [
        "Max Power transmitted is 39.52 KW\n"
       ]
      }
     ],
     "prompt_number": 11
    },
    {
     "cell_type": "heading",
     "level": 2,
     "metadata": {},
     "source": [
      "Example 11.12,Page No.408"
     ]
    },
    {
     "cell_type": "code",
     "collapsed": false,
     "input": [
      "import math\n",
      "\n",
      "#Initilization of Variables\n",
      "\n",
      "rho=10**-3 #kg/cm**3 #density\n",
      "f=250 #N/cm**2 #stress\n",
      "b=20 #cm #width\n",
      "t=1.2 #cm #thickness\n",
      "\n",
      "\n",
      "#Calculations\n",
      "\n",
      "#MAss\n",
      "m=rho*b*t*100\n",
      "\n",
      "#MAx tension\n",
      "Tm=f*b*t #N\n",
      "\n",
      "#Velocity\n",
      "v=(Tm*(3*m)**-1)**0.5 #m/s\n",
      "\n",
      "#From equation of max tension and further simplifying we get\n",
      "T1=2*3**-1*Tm #N\n",
      "T2=T1*2**-1 #N\n",
      "\n",
      "#Power \n",
      "P=(T1-T2)*v*(1000)**-1 #KW\n",
      "\n",
      "#Result\n",
      "print\"Max Power transmitted is\",round(P,2),\"KW\""
     ],
     "language": "python",
     "metadata": {},
     "outputs": [
      {
       "output_type": "stream",
       "stream": "stdout",
       "text": [
        "Max Power transmitted is 57.74 KW\n"
       ]
      }
     ],
     "prompt_number": 12
    },
    {
     "cell_type": "heading",
     "level": 2,
     "metadata": {},
     "source": [
      "Example 11.13,Page No.409"
     ]
    },
    {
     "cell_type": "code",
     "collapsed": false,
     "input": [
      "import math\n",
      "from math import sin, cos, tan, radians, pi\n",
      "\n",
      "#Initilization of Variables\n",
      "\n",
      "P=9 #KW #Power\n",
      "d1=1.2 #m #Diameter\n",
      "N1=200 #r.p.m\n",
      "theta=165*pi*180**-1 #radians\n",
      "mu=0.3 #Coefficient of friction\n",
      "f=140 #N/cm**2 #Stress\n",
      "rho=10**-3 #kg/cm**3\n",
      "t=1 #cm #thickness\n",
      "\n",
      "\n",
      "#Calculations\n",
      "\n",
      "#From Ratio of tension equation we get\n",
      "#T1*T2=e**mu*theta \n",
      "#After simplifying we get\n",
      "#e**mu*theta =2.3714\n",
      "#T1=2.3714*T2   ................1\n",
      "\n",
      "#Max tension in belt\n",
      "#Tm=f*b*t    ..............2\n",
      "\n",
      "#Centrifugal tension\n",
      "#Tc=m*v**2     .....................3\n",
      "\n",
      "#Velocity\n",
      "v=pi*d1*N1*60**-1 #m/s\n",
      "\n",
      "#mass\n",
      "#m=rho*b*t*100\n",
      "#After simplifying we get\n",
      "#m=b*10**-1\n",
      "\n",
      "#Sub value of m in equation 2 and further simplfying we get\n",
      "#T1-T2=716.5\n",
      "\n",
      "#After further simplifying equations 1,2,3 we get\n",
      "T2=716.5*1.3714**-1 #N\n",
      "T1=2.3714*T2 #N\n",
      "\n",
      "#sub value in MAx tension and further simplifying we get\n",
      "b=1238.96*124**-1 #cm\n",
      "\n",
      "#Result\n",
      "print\"Width of belt is\",round(b,2),\"cm\""
     ],
     "language": "python",
     "metadata": {},
     "outputs": [
      {
       "output_type": "stream",
       "stream": "stdout",
       "text": [
        "Width of belt is 9.99 cm\n"
       ]
      }
     ],
     "prompt_number": 6
    },
    {
     "cell_type": "heading",
     "level": 2,
     "metadata": {},
     "source": [
      "Example 11.14,Page No.411"
     ]
    },
    {
     "cell_type": "code",
     "collapsed": false,
     "input": [
      "import math\n",
      "\n",
      "#Initilization of Variables\n",
      "b=100 #mm #Width\n",
      "t=10 #mm #thickness\n",
      "theta=2.79 #radians\n",
      "rho=10**-6 #kg/mm**3\n",
      "mu=0.25 #coefficient of friction\n",
      "f=1.5 #N/mm**2\n",
      "g=9.81 \n",
      "\n",
      "#Calculations\n",
      "\n",
      "#MAx tension\n",
      "Tm=f*b*t #N\n",
      "\n",
      "#From Ratio of tension equation we get\n",
      "#T1*T2=e**mu*theta \n",
      "#After simplifying we get\n",
      "#e**mu*theta =2\n",
      "\n",
      "#For Max power\n",
      "Tc=Tm*3**-1 #N\n",
      "\n",
      "#From max transmissiom equation\n",
      "T1=Tm-Tc\n",
      "T2=T1*2**-1 #N\n",
      "\n",
      "#MAss\n",
      "m=rho*b*t*1000 #Kg\n",
      "\n",
      "#Weight\n",
      "W=m*g #N\n",
      "\n",
      "#Velocity\n",
      "v=(Tm*(3*m)**-1)**0.5 #m/s\n",
      "\n",
      "#Power transmitted\n",
      "P=(T1-T2)*v*10**-3 #KW\n",
      "\n",
      "#Result\n",
      "print\"Max Power that can be transmitted is\",round(P,2),\"KW\""
     ],
     "language": "python",
     "metadata": {},
     "outputs": [
      {
       "output_type": "stream",
       "stream": "stdout",
       "text": [
        "Max Power that can be transmitted is 11.18 KW\n"
       ]
      }
     ],
     "prompt_number": 14
    },
    {
     "cell_type": "heading",
     "level": 2,
     "metadata": {},
     "source": [
      "Example 11.15,Page No.412"
     ]
    },
    {
     "cell_type": "code",
     "collapsed": false,
     "input": [
      "import math\n",
      "from math import sin, cos, tan, radians, pi\n",
      "import numpy as np\n",
      "\n",
      "#Initilization of Variables\n",
      "\n",
      "d1=60 #cm #diameter\n",
      "r1=30 #cm #Radius\n",
      "d2=24 #cm \n",
      "r2=12 #cm\n",
      "x=300 #cm #dist between two shafs\n",
      "N2=300 #r.p.m #speed of small pulley\n",
      "mu=0.3 #coefficient of friction\n",
      "m=0.6703 #kg\n",
      "t=100 #N per cm width #Safe working tension\n",
      "\n",
      "#Calculations\n",
      "\n",
      "#LEt sin(Alpha)=X\n",
      "alpha=np.arcsin((r1-r2)*x**-1)*(180*pi**-1)\n",
      "\n",
      "#Using equation of ratio of tension\n",
      "#T1*T2**-1=e**mu*theta  ...........1\n",
      "#Simplifying furter we get value of\n",
      "#e**mu*theta=2.474\n",
      "#T1=2.474*T2   ...................1\n",
      "\n",
      "#Velocity\n",
      "v=pi*d2*N2*60**-1*10**-2 #m/s\n",
      "\n",
      "#Sub value of v and P in equation of power transmited and further simplifying we get\n",
      "#(T1-T2)=994.7    .....................2\n",
      "#Sub value of T1 from equation 1 we get\n",
      "T2=994.7*1.474**-1 #N\n",
      "T1=2.474*T2 #N\n",
      "\n",
      "#Min width\n",
      "b=T1*t**-1 #cm\n",
      "\n",
      "#Initial belt tension\n",
      "To=(T1+T2)*2**-1 #N\n",
      "\n",
      "#Length of belt required\n",
      "L=(pi*(r1+r2)+(r1+r2)**2*x**-1+2*x)*100**-1 #m\n",
      "\n",
      "#Result\n",
      "print\"Minimum width of belt is\",round(b,2),\"cm\"\n",
      "print\"Initial belt tension is\",round(To,2),\"N\"\n",
      "print\"Length of belt required is\",round(L,2),\"m\""
     ],
     "language": "python",
     "metadata": {},
     "outputs": [
      {
       "output_type": "stream",
       "stream": "stdout",
       "text": [
        "Minimum width of belt is 16.7 cm\n",
        "Initial belt tension is 1172.18 N\n",
        "Length of belt required is 7.38 m\n"
       ]
      }
     ],
     "prompt_number": 7
    },
    {
     "cell_type": "heading",
     "level": 2,
     "metadata": {},
     "source": [
      "Example 11.16,Page No.414"
     ]
    },
    {
     "cell_type": "code",
     "collapsed": false,
     "input": [
      "import math\n",
      "from math import sin, cos, tan, radians, pi\n",
      "import numpy as np\n",
      "\n",
      "#Initilization of Variables\n",
      "\n",
      "d1=1.5 #m #diameter\n",
      "r1=0.75 #m #Radius\n",
      "d2=1 #m \n",
      "r2=0.5 #m\n",
      "x=4.80 #dist between two shafs\n",
      "To=3000 #N #Initial tension\n",
      "N2=600 #r.p.m #speed of small pulley\n",
      "mu=0.3 #coefficient of friction\n",
      "m=0.6703 #kg\n",
      "\n",
      "#Calculation\n",
      "\n",
      "#Velocity\n",
      "v=pi*d2*N2*60**-1 #m/s\n",
      "\n",
      "#Centrifugal tension\n",
      "Tc=m*v**2\n",
      "\n",
      "#from Initial Tensiom\n",
      "#T1+T2=4677  ..........1\n",
      "\n",
      "#Let sin(alpha)=X\n",
      "X=(r1-r2)*x**-1\n",
      "alpha=np.arcsin(X)*(pi**-1*180)\n",
      "\n",
      "#Angle of contact\n",
      "theta=(180-2*alpha)*pi*180**-1\n",
      "\n",
      "#From equation of ratio of tension we get\n",
      "#t1=2.5*T2    ...................2\n",
      "\n",
      "#sub value in equation 1 we get\n",
      "T2=4677*3.5**-1 #N\n",
      "T1=2.5*T2\n",
      "\n",
      "#Power transmitted\n",
      "P2=(T1-T2)*v*10**-3\n",
      "\n",
      "#Result\n",
      "print\"Power transmitted is\",round(P2,2),\"KW\""
     ],
     "language": "python",
     "metadata": {},
     "outputs": [
      {
       "output_type": "stream",
       "stream": "stdout",
       "text": [
        "Power transmitted is 62.97 KW\n"
       ]
      }
     ],
     "prompt_number": 8
    },
    {
     "cell_type": "heading",
     "level": 2,
     "metadata": {},
     "source": [
      "Example 11.18,Page No.418"
     ]
    },
    {
     "cell_type": "code",
     "collapsed": false,
     "input": [
      "import math\n",
      "from math import sin, cos, tan, radians, pi\n",
      "\n",
      "#Initilization of Variables\n",
      "\n",
      "alpha=25 #degrees  #Angle of groove\n",
      "Tmax=T1=1500 #N #Max tension\n",
      "theta=170*pi*180**-1 #radians\n",
      "mu=0.27 #coefficient of friction\n",
      "v=2 #m/s #belt speed\n",
      "\n",
      "#Calculations\n",
      "\n",
      "#From ratio of tension\n",
      "#T1*T2**-1=e**mu*cosec(alpha)\n",
      "#AFter further simplifying we get\n",
      "#e**mu*cosec(alpha)=8.109\n",
      "T2=T1*8.109**-1 \n",
      "\n",
      "#Net driving tension\n",
      "T3=(T1-T2) #N\n",
      "\n",
      "#Power transmitted\n",
      "P=T3*v*10**-3 #W\n",
      "\n",
      "#Result\n",
      "print\"Net driving tension is\",round(T3,2),\"N\"\n",
      "print\"Power transmitted by the pulley is\",round(P,2),\"W\""
     ],
     "language": "python",
     "metadata": {},
     "outputs": [
      {
       "output_type": "stream",
       "stream": "stdout",
       "text": [
        "Net driving tension is 1315.02 N\n",
        "Power transmitted by the pulley is 2.63 W\n"
       ]
      }
     ],
     "prompt_number": 9
    },
    {
     "cell_type": "heading",
     "level": 2,
     "metadata": {},
     "source": [
      "Example 11.19,Page No.418"
     ]
    },
    {
     "cell_type": "code",
     "collapsed": false,
     "input": [
      "import math\n",
      "from math import sin, cos, tan, radians, pi\n",
      "\n",
      "#Initilization of Variables\n",
      "\n",
      "alpha=15 #Degrees\n",
      "t=2 #cm #Depth pf belt\n",
      "m=3.5*100*1000 #gm/l #mass\n",
      "f=140 #N/cm**2 #Allowable stress\n",
      "theta=140*pi*180**-1\n",
      "mu=0.15 #coefficient of friction\n",
      "\n",
      "#Calculations\n",
      "\n",
      "CF=2*tan(15*pi*180**-1)\n",
      "GC=1-2*tan(15*pi*180**-1)\n",
      "BC=2*GC\n",
      "ED=2\n",
      "DF=2\n",
      "\n",
      "#Area of v-belt\n",
      "A=(ED+BC)*2**-1*DF\n",
      "\n",
      "#MAx permissible tension\n",
      "Tmax=f*A #N\n",
      "\n",
      "#Centrifugal tension\n",
      "Tc=Tmax*3**-1 #N\n",
      "\n",
      "#Velocity\n",
      "v=(Tc*m**-1)**0.5*1000 #m/s\n",
      "\n",
      "#tension on tight side\n",
      "T1=Tmax-Tc #N\n",
      " \n",
      "#From ratio of tensions \n",
      "#T1*T2**-1=e*mu*thta*cosec(alpha)\n",
      "#After substituting values and furter simplifying we get value of\n",
      "#e*mu*thta*cosec(alpha)=4.12\n",
      "T2=T1*4.12**-1 #N\n",
      "\n",
      "#Power\n",
      "P2=(T1-T2)*v*1000**-1\n",
      "\n",
      "#Result\n",
      "print\"Max Power transmitted is\",round(P2,2),\"KW\""
     ],
     "language": "python",
     "metadata": {},
     "outputs": [
      {
       "output_type": "stream",
       "stream": "stdout",
       "text": [
        "Max Power transmitted is 4.09 KW\n"
       ]
      }
     ],
     "prompt_number": 18
    },
    {
     "cell_type": "heading",
     "level": 2,
     "metadata": {},
     "source": [
      "Example 11.20,Page No.420"
     ]
    },
    {
     "cell_type": "code",
     "collapsed": false,
     "input": [
      "import math\n",
      "from math import sin, cos, tan, radians, pi\n",
      "\n",
      "#Initilization of Variables\n",
      "\n",
      "P=75 #KW #Power\n",
      "d1=1.50 #m #Dia. of driver pulley\n",
      "N1=200 #r.p.m\n",
      "alpha=22.5 #Angle of groove\n",
      "mu=0.3 #coefficient of friction\n",
      "theta=160*pi*180**-1\n",
      "m=0.6 #kg #Mass\n",
      "Tmax=800 #N #Max safe\n",
      "\n",
      "#Calculations\n",
      "\n",
      "#Velocity of rope\n",
      "v=pi*d1*N1*60**-1 #m/s\n",
      "\n",
      "#centrifugal Tension\n",
      "Tc=m*v**2 #N\n",
      "\n",
      "#Tension in tight side of rope\n",
      "T1=Tmax-Tc #N\n",
      "\n",
      "#Ratio of tension in rope\n",
      "#T1*T2=e**mu*theta*cosec(alpha)\n",
      "#After further simplifying we get value of e**mu*theta*cosec(alpha\n",
      "#e**mu*theta*cosec(alpha=8.95\n",
      "T2=T1*8.95**-1\n",
      "\n",
      "#Power Transmitted by onr rope\n",
      "P2=(T1-T2)*v*1000**-1 #KW\n",
      "\n",
      "#No. of ropes required\n",
      "n=P*P2**-1 \n",
      "\n",
      "#Initial rope tensuion\n",
      "To=(T1+T2+2*Tc)*2**-1\n",
      "\n",
      "#Result\n",
      "print\"No. of ropes required for drive is\",round(n,2)\n",
      "print\"Initial Rope tension is\",round(To,2),\"N\""
     ],
     "language": "python",
     "metadata": {},
     "outputs": [
      {
       "output_type": "stream",
       "stream": "stdout",
       "text": [
        "No. of ropes required for drive is 8.24\n",
        "Initial Rope tension is 510.44 N\n"
       ]
      }
     ],
     "prompt_number": 19
    },
    {
     "cell_type": "heading",
     "level": 2,
     "metadata": {},
     "source": [
      "Example 11.21,Page No.421"
     ]
    },
    {
     "cell_type": "code",
     "collapsed": false,
     "input": [
      "import math\n",
      "from math import sin, cos, tan, radians, pi\n",
      "\n",
      "#Initilization of Variables\n",
      "\n",
      "d1=0.40 #Dia. of pulley\n",
      "N1=110 #speed #r.p.m\n",
      "alpha=22.5 #Angle of groove\n",
      "mu=0.28 #coefficient of friction\n",
      "N=10 #No.of ropes\n",
      "P=23.628 #KW #Power\n",
      "theta=160*pi*180**-1 #radians\n",
      "\n",
      "#Calculations\n",
      "\n",
      "#velocity\n",
      "v=pi*d1*N1*60**-1 #m/s\n",
      "\n",
      "#Power transmited by one rope\n",
      "P2=P*N**-1 #KW\n",
      "\n",
      "#Centrifugal Tension\n",
      "#Tc=0.0281*C**2   ................1\n",
      "\n",
      "#Ratio of tension in rope\n",
      "#T1=7.71*T2    ...........................2\n",
      "\n",
      "#From other formula of power transmited by one rope \n",
      "#P2=(T1-T2)*v*1000**-1 \n",
      "#After further substituting and simplifying we get\n",
      "T2=1026*6.71**-1 #N\n",
      "T1=7.71*T2 #N\n",
      "\n",
      "#Tmax=T1+T2\n",
      "#After sub values and further simplifying we get\n",
      "C=(96.86)**0.5 #cm #girth of rope\n",
      "\n",
      "Tc=0.0281*C**2 #N\n",
      "\n",
      "#Initial Tension\n",
      "To=(T1+T2+2*Tc)*2**-1 #N\n",
      "\n",
      "#Dia. of each rope\n",
      "d=C*pi**-1 #cm\n",
      "\n",
      "#Result\n",
      "print\"Initial Tension is\",round(To,2),\"N\"\n",
      "print\"Dia. of each rope is\",round(d,2),\"cm\""
     ],
     "language": "python",
     "metadata": {},
     "outputs": [
      {
       "output_type": "stream",
       "stream": "stdout",
       "text": [
        "Initial Tension is 668.63 N\n",
        "Dia. of each rope is 3.13 cm\n"
       ]
      }
     ],
     "prompt_number": 20
    },
    {
     "cell_type": "heading",
     "level": 2,
     "metadata": {},
     "source": [
      "Example 11.22,Page No.422"
     ]
    },
    {
     "cell_type": "code",
     "collapsed": false,
     "input": [
      "import math\n",
      "from math import sin, cos, tan, radians, pi\n",
      "\n",
      "#Initilization of Variables\n",
      "\n",
      "D=3.6 #m #Dia. of pulley\n",
      "n=15 #No. of ropes\n",
      "alpha=22.5 #Degrees\n",
      "theta=170*pi*180**-1 #Angle of contact\n",
      "mu=0.28 #angle of friction\n",
      "Tmax=960 #N #MAx tension\n",
      "m=1.5 #kg/l #mass of rope\n",
      "\n",
      "#Calculations\n",
      "\n",
      "#Centrifugal tension\n",
      "Tc=Tmax*3**-1 #N\n",
      "\n",
      "#Velocity\n",
      "v=(Tmax*(3*m)**-1)**0.5 #m\n",
      "N=60*v*(pi*D)**-1 #r.p.m\n",
      "\n",
      "#equation\n",
      "#T1*T2**-1=e**mu*theta*cosec(alpha)\n",
      "#After simlifying further we get \n",
      "#e**mu*theta*cosec(alpha)=8.756\n",
      "\n",
      "#Tension in tight side of rope\n",
      "T1=Tmax-Tc #N\n",
      "\n",
      "#Tension in slack side\n",
      "T2=T1*8.756**-1\n",
      "\n",
      "#Max Power\n",
      "P=(T1-T2)*v*1000**-1\n",
      "\n",
      "#Total max power\n",
      "P2=P*n\n",
      "\n",
      "#Result\n",
      "print\"Speed of the pulley in r.p.m is\",round(N,2),\"r.p.m\"\n",
      "print\"Total max power is\",round(P2,2),\"KW\""
     ],
     "language": "python",
     "metadata": {},
     "outputs": [
      {
       "output_type": "stream",
       "stream": "stdout",
       "text": [
        "Speed of the pulley in r.p.m is 77.49 r.p.m\n",
        "Total max power is 124.2 KW\n"
       ]
      }
     ],
     "prompt_number": 21
    },
    {
     "cell_type": "heading",
     "level": 2,
     "metadata": {},
     "source": [
      "Example 11.23,Page No.423"
     ]
    },
    {
     "cell_type": "code",
     "collapsed": false,
     "input": [
      "import math\n",
      "from math import sin, cos, tan, radians, pi\n",
      "\n",
      "#Initilization of Variables\n",
      "\n",
      "W=9000 #N #Weight of casting\n",
      "n=2.5 #turns\n",
      "theta=5*pi #Total angle covered\n",
      "D=0.3 #m #diameter\n",
      "N=20 #Speed\n",
      "mu=0.25 #Coefficient of friction\n",
      "\n",
      "#Calculations\n",
      "\n",
      "#equation\n",
      "#W*P**-1=e**mu*theta\n",
      "#After simlifying further we get \n",
      "P=W*50.65**-1 #Tension in slack side of rope #N\n",
      "\n",
      "#Velocity\n",
      "v=pi*D*N*60**-1 #m/s\n",
      "\n",
      "#Power to raise casting\n",
      "P2=(W-P)*v*1000**-1\n",
      "\n",
      "#Result\n",
      "print\"Force Required by the man is\",round(P,2),\"N\"\n",
      "print\"Power to raise the casting is\",round(P2,2),\"N\""
     ],
     "language": "python",
     "metadata": {},
     "outputs": [
      {
       "output_type": "stream",
       "stream": "stdout",
       "text": [
        "Force Required by the man is 177.69 N\n",
        "Power to raise the casting is 2.77 N\n"
       ]
      }
     ],
     "prompt_number": 6
    }
   ],
   "metadata": {}
  }
 ]
}