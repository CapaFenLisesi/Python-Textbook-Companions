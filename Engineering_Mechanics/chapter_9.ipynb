{
 "metadata": {
  "name": "chapter_9.ipynb"
 },
 "nbformat": 3,
 "nbformat_minor": 0,
 "worksheets": [
  {
   "cells": [
    {
     "cell_type": "heading",
     "level": 1,
     "metadata": {},
     "source": [
      "Chapter 9:Lifting Machines"
     ]
    },
    {
     "cell_type": "heading",
     "level": 2,
     "metadata": {},
     "source": [
      "Example 9.1,Page No.295"
     ]
    },
    {
     "cell_type": "code",
     "collapsed": false,
     "input": [
      "import math\n",
      "\n",
      "#Initilization of Variables\n",
      "\n",
      "P=100 #N #effort applied\n",
      "W=900 #N  #Lad applied\n",
      "y=100 #cm #Distance moved by effort\n",
      "x=10 #cm #Distance moved by load\n",
      "\n",
      "#Calculations\n",
      "\n",
      "#Mechanical Advantage\n",
      "MA=W*P**-1 \n",
      "\n",
      "#Velocity ratio \n",
      "VR=y*x**-1 \n",
      "\n",
      "#Efficiency\n",
      "rho=MA*VR**-1*100\n",
      "\n",
      "#Result\n",
      "print\"Mechanical Advantage is\",round(MA,2)\n",
      "print\"velocity ratio is\",round(VR,2)\n",
      "print\"Efficiency is\",round(rho,2)"
     ],
     "language": "python",
     "metadata": {},
     "outputs": [
      {
       "output_type": "stream",
       "stream": "stdout",
       "text": [
        "Mechanical Advantage is 9.0\n",
        "velocity ratio is 10.0\n",
        "Efficiency is 90.0\n"
       ]
      }
     ],
     "prompt_number": 1
    },
    {
     "cell_type": "heading",
     "level": 2,
     "metadata": {},
     "source": [
      "Example 9.2,Page No.296"
     ]
    },
    {
     "cell_type": "code",
     "collapsed": false,
     "input": [
      "import math\n",
      "\n",
      "#Initilization of Variables\n",
      "\n",
      "P=500 #N #Effort applied\n",
      "y=5 #m #Distance moved by effort\n",
      "x=0.5 #cm #Distance moved by load\n",
      "rho=0.8 #Efficiency\n",
      "\n",
      "#Calculations\n",
      "\n",
      "#Load Lifted by machine\n",
      "W=P*y*rho*(x)**-1 #N\n",
      "\n",
      "#Mechanical Advantage\n",
      "MA=W*P**-1 \n",
      "\n",
      "#Velocity ratio\n",
      "VR=y*x**-1 \n",
      "\n",
      "#Result\n",
      "print\"Load Lifted by the machine is\",round(W,2),\"N\"\n",
      "print\"Mechanical Advantage is\",round(MA,2)\n",
      "print\"Velocity ratio is\",round(VR,2)"
     ],
     "language": "python",
     "metadata": {},
     "outputs": [
      {
       "output_type": "stream",
       "stream": "stdout",
       "text": [
        "Load Lifted by the machine is 4000.0 N\n",
        "Mechanical Advantage is 8.0\n",
        "Velocity ratio is 10.0\n"
       ]
      }
     ],
     "prompt_number": 2
    },
    {
     "cell_type": "heading",
     "level": 2,
     "metadata": {},
     "source": [
      "Example 9.3,Page No.297"
     ]
    },
    {
     "cell_type": "code",
     "collapsed": false,
     "input": [
      "import math\n",
      "\n",
      "#Initilization of Variables\n",
      "\n",
      "P=20 #N #Actual Effort\n",
      "W=900 #N #Load Lifted\n",
      "y=2.40 #m #Distance moved by effort\n",
      "x=0.04 #m #Distance moved by load\n",
      "\n",
      "#Calculations\n",
      "\n",
      "#Mechanical Advantage\n",
      "MA=W*P**-1 \n",
      "\n",
      "#Velocity ratio\n",
      "VR=y*x**-1 \n",
      "\n",
      "#Efficiency\n",
      "rho=MA*VR**-1\n",
      "\n",
      "#Ideal Effort required\n",
      "P1=rho*P \n",
      "\n",
      "#Result\n",
      "print\"Mechanical Advantage is\",round(MA,2)\n",
      "print\"Velocity ratio is\",round(VR,2)\n",
      "print\"Efficiency is\",round(rho,2)\n",
      "print\"Ideal Effort is\",round(P1,2)"
     ],
     "language": "python",
     "metadata": {},
     "outputs": [
      {
       "output_type": "stream",
       "stream": "stdout",
       "text": [
        "Mechanical Advantage is 45.0\n",
        "Velocity ratio is 60.0\n",
        "Efficiency is 0.75\n",
        "Ideal Effort is 15.0\n"
       ]
      }
     ],
     "prompt_number": 3
    },
    {
     "cell_type": "heading",
     "level": 2,
     "metadata": {},
     "source": [
      "Example 9.4,Page No.297"
     ]
    },
    {
     "cell_type": "code",
     "collapsed": false,
     "input": [
      "import math\n",
      "\n",
      "#Initilization of Variables\n",
      "\n",
      "rho=0.7 #eifficiency\n",
      "P=10 #N #Effort\n",
      "W=500 #N #Load\n",
      "\n",
      "#Calculations\n",
      "\n",
      "#Mechanical Advantage\n",
      "MA=W*P**-1 \n",
      "\n",
      "#Velocity ratio\n",
      "VR=MA*rho**-1\n",
      "\n",
      "#Result\n",
      "print\"Mechanical Advantage is\",round(MA,2)\n",
      "print\"Velocity ratio is\",round(VR,2)"
     ],
     "language": "python",
     "metadata": {},
     "outputs": [
      {
       "output_type": "stream",
       "stream": "stdout",
       "text": [
        "Mechanical Advantage is 50.0\n",
        "Velocity ratio is 71.43\n"
       ]
      }
     ],
     "prompt_number": 4
    },
    {
     "cell_type": "heading",
     "level": 2,
     "metadata": {},
     "source": [
      "Example 9.5,Page No.299"
     ]
    },
    {
     "cell_type": "code",
     "collapsed": false,
     "input": [
      "import math\n",
      "\n",
      "#Initilization of Variables\n",
      "\n",
      "P1=15 #N #Effort\n",
      "W1=770 # #Load\n",
      "rho=0.60 #Efficiency\n",
      "\n",
      "P2=25 #N \n",
      "W2=1320\n",
      "\n",
      "P=15 #N \n",
      "W=500 #N\n",
      "\n",
      "#Calculations\n",
      "\n",
      "#First Case\n",
      "\n",
      "#Mechanical Advantage\n",
      "MA=W1*P1**-1 \n",
      "\n",
      "#Velocity ratio\n",
      "VR=MA*rho**-1 \n",
      "\n",
      "#Second case\n",
      "\n",
      "#Mechanical Advantage\n",
      "MA2=W2*P2**-1 \n",
      "\n",
      "#Efficiency\n",
      "rho2=MA2*VR**-1*100\n",
      "\n",
      "#Third case\n",
      "\n",
      "#from LAw of machine\n",
      "#P=m*W+C  ................1\n",
      "\n",
      "#Equation 2\n",
      "#P2=W2*m+C  ...............2\n",
      "\n",
      "#Subtracting equation 2 from 1 we get\n",
      "m=10*550**-1\n",
      "\n",
      "#Constacnt value \n",
      "C=P2-W2*m\n",
      "\n",
      "#Sub value C in equation 1  we get\n",
      "P3=m*W+C #N\n",
      "\n",
      "#MAx Mechanical advantage\n",
      "MA_max=1*m**-1\n",
      "\n",
      "#MAx Efficiency \n",
      "rho_max=1*(m*VR)**-1*100\n",
      "\n",
      "#Result\n",
      "print\"Mechanical Advantage is\",round(MA,2)\n",
      "print\"Velocity Ratio is\",round(VR,2)\n",
      "print\"Efficiency is\",round(rho2,2),\"%\"\n",
      "print\"Effort Required to raise the Load 500 N\",round(P3,2),\"N\"\n",
      "print\"MAx Mechanical Advantage is\",round(MA_max,2)\n",
      "print\"MAx Efficiency is\",round(rho_max,2)"
     ],
     "language": "python",
     "metadata": {},
     "outputs": [
      {
       "output_type": "stream",
       "stream": "stdout",
       "text": [
        "Mechanical Advantage is 51.33\n",
        "Velocity Ratio is 85.56\n",
        "Efficiency is 61.71 %\n",
        "Effort Required to raise the Load 500 N 10.09 N\n",
        "MAx Mechanical Advantage is 55.0\n",
        "MAx Efficiency is 64.29\n"
       ]
      }
     ],
     "prompt_number": 5
    },
    {
     "cell_type": "heading",
     "level": 2,
     "metadata": {},
     "source": [
      "Example 9.6,Page No.301"
     ]
    },
    {
     "cell_type": "code",
     "collapsed": false,
     "input": [
      "import math\n",
      "\n",
      "#Initilization of Variables\n",
      "\n",
      "#Effort\n",
      "P1=15.5 #N\n",
      "P2=19.5 #N\n",
      "\n",
      "#Loads\n",
      "W1=100 #N\n",
      "W2=90 #N\n",
      "\n",
      "m=0.2\n",
      "\n",
      "#Calculations\n",
      "\n",
      "#Law of machine equation \n",
      "#P=m*W+C \n",
      "\n",
      "#Equations\n",
      "#P1=m*W1+C  ................1\n",
      "#P2=m*W2+C  ....................2\n",
      "\n",
      "#sub value of m in equation 1 weget\n",
      "C=P1-m*W1\n",
      "\n",
      "#Effort required to lift a Load\n",
      "P1=m*W1+C\n",
      "\n",
      "#MEchanical advantage\n",
      "MA=1*m**-1\n",
      "\n",
      "#Result\n",
      "print\"Effort required to Lift a Load of 100 N\",round(P1,2),\"N\"\n",
      "print\"MAx MEchanical Advantage is\",round(MA,2)"
     ],
     "language": "python",
     "metadata": {},
     "outputs": [
      {
       "output_type": "stream",
       "stream": "stdout",
       "text": [
        "Effort required to Lift a Load of 100 N 15.5 N\n",
        "MAx MEchanical Advantage is 5.0\n"
       ]
      }
     ],
     "prompt_number": 6
    },
    {
     "cell_type": "heading",
     "level": 2,
     "metadata": {},
     "source": [
      "Example 9.7,Page No.303"
     ]
    },
    {
     "cell_type": "code",
     "collapsed": false,
     "input": [
      "import math\n",
      "\n",
      "#Initilization of Variables\n",
      "\n",
      "rho=0.8 #Efficiency\n",
      "P=15 #N #Effort\n",
      "W=130 #N #Load\n",
      "\n",
      "#Calculations\n",
      "\n",
      "#Velocity ratio\n",
      "VR=W*(P*rho)**-1 \n",
      "\n",
      "#Frictional force in terms of machine in tems of effort\n",
      "Fp=P-W*VR**-1 #N\n",
      "\n",
      "#Frictional Force of the machine in terms of Load\n",
      "Fw=P*VR-W #N\n",
      "\n",
      "#Result\n",
      "print\"Velocity ratio is\",round(VR,2)\n",
      "print\"Frictional force in terms of machine in tems of effort\",round(Fp,2),\"N\"\n",
      "print\"Frictional Force of the machine in terms of Load is\",round(Fw,2),\"N\""
     ],
     "language": "python",
     "metadata": {},
     "outputs": [
      {
       "output_type": "stream",
       "stream": "stdout",
       "text": [
        "Velocity ratio is 10.83\n",
        "Frictional force in terms of machine in tems of effort 3.0 N\n",
        "Frictional Force of the machine in terms of Load is 32.5 N\n"
       ]
      }
     ],
     "prompt_number": 7
    },
    {
     "cell_type": "heading",
     "level": 2,
     "metadata": {},
     "source": [
      "Example 9.8,Page No.303"
     ]
    },
    {
     "cell_type": "code",
     "collapsed": false,
     "input": [
      "import math\n",
      "\n",
      "#Initilization of Variables\n",
      "\n",
      "VR=15 #Velocity ratio\n",
      "rho=0.6 #Efficiency\n",
      "W=100 #N #Load Lifted\n",
      "\n",
      "#Calculations\n",
      "\n",
      "#Power\n",
      "P=W*(VR*rho)**-1 #N\n",
      "\n",
      "#Frictional Force\n",
      "Fp=P-(W*VR**-1) #N\n",
      "\n",
      "#Let C=Fp\n",
      "C=Fp\n",
      "\n",
      "#From law of machine,we get\n",
      "#P=m*W+C\n",
      "#After sub values and furter simplifying we get\n",
      "m=(P-C)*W**-1\n",
      "\n",
      "#After sub values in above equaion we get law of  machine as\n",
      "#P2=m*W2+c #N\n",
      "\n",
      "#when W2=140 #N\n",
      "W2=140 #N\n",
      "P2=m*W2+C #N\n",
      "\n",
      "#When W3=0\n",
      "W3=0 #N\n",
      "P3=m*W3+C #N\n",
      "\n",
      "#Result\n",
      "print\"Effort required to run the machine at Load:W2=140 is\",round(P2,2),\"N\"\n",
      "print\"Effort required to run the machine at Load:W3=0 is\",round(P3,2),\"N\""
     ],
     "language": "python",
     "metadata": {},
     "outputs": [
      {
       "output_type": "stream",
       "stream": "stdout",
       "text": [
        "Effort required to run the machine at Load:W2=140 is 13.78 N\n",
        "Effort required to run the machine at Load:W3=0 is 4.44 N\n"
       ]
      }
     ],
     "prompt_number": 8
    },
    {
     "cell_type": "heading",
     "level": 2,
     "metadata": {},
     "source": [
      "Example 9.9,Page No.304"
     ]
    },
    {
     "cell_type": "code",
     "collapsed": false,
     "input": [
      "import math\n",
      "\n",
      "#Initilization of Variables\n",
      "\n",
      "P=12 #N #Effort\n",
      "VR=18 #Velocity ratio\n",
      "rho=0.6 #efficiency\n",
      "\n",
      "#Calculations\n",
      "\n",
      "#Load lifted\n",
      "W=rho*P*VR #N\n",
      "\n",
      "#LEt C=Fp\n",
      "Fp=P-(W*VR**-1) #N\n",
      "C=Fp\n",
      "\n",
      "#From law of machine we get\n",
      "m=(P-C)*W**-1 #N\n",
      "\n",
      "#Sub value of m in equation we get\n",
      "#P2=1*18**-1*W2+C\n",
      "\n",
      "#Sub W2=90\n",
      "W2=90 \n",
      "P2=m*W2+C\n",
      "\n",
      "\n",
      "#Result\n",
      "print\"Effort required to run the machine is\",round(P2,2),\"N\""
     ],
     "language": "python",
     "metadata": {},
     "outputs": [
      {
       "output_type": "stream",
       "stream": "stdout",
       "text": [
        "Effort required to run the machine is 9.8 N\n"
       ]
      }
     ],
     "prompt_number": 9
    },
    {
     "cell_type": "heading",
     "level": 2,
     "metadata": {},
     "source": [
      "Example 9.10,Page No.305"
     ]
    },
    {
     "cell_type": "code",
     "collapsed": false,
     "input": [
      "import math\n",
      "\n",
      "#Initilization of Variables\n",
      "\n",
      "VR=10 #Velocity ratio\n",
      "P=100 #N #Effort applied\n",
      "Fp=20 #N #effort lost in friction\n",
      "\n",
      "#Calculations\n",
      "\n",
      "#Load Lifted\n",
      "W=(P-Fp)*VR #N\n",
      "\n",
      "#Efficiency\n",
      "rho=W*P**-1*VR**-1*100 \n",
      "\n",
      "#Result\n",
      "print\"Load Lifted is\",round(W,2),\"N\"\n",
      "print\"Efficiency is\",round(rho,2),\"%\""
     ],
     "language": "python",
     "metadata": {},
     "outputs": [
      {
       "output_type": "stream",
       "stream": "stdout",
       "text": [
        "Load Lifted is 800.0 N\n",
        "Efficiency is 80.0 %\n"
       ]
      }
     ],
     "prompt_number": 10
    },
    {
     "cell_type": "heading",
     "level": 2,
     "metadata": {},
     "source": [
      "Example 9.11,Page No.305"
     ]
    },
    {
     "cell_type": "code",
     "collapsed": false,
     "input": [
      "import math\n",
      "\n",
      "#Initilization of Variables\n",
      "P=40 #N #Effort applied\n",
      "W=600 #N #Load Lifted\n",
      "VR=20 #Velocity ratio\n",
      "\n",
      "#Calculations\n",
      "\n",
      "#MAchine Fiction in terms of effort\n",
      "Fp=P-W*VR**-1 #N\n",
      "\n",
      "#M/c Friction in terms of Load\n",
      "Fw=P*VR-W #N\n",
      "\n",
      "#efficiency\n",
      "rho=W*P**-1*VR**-1*100\n",
      "\n",
      "#Result\n",
      "print\"MAchine Fiction in terms of effort is\",round(Fp,2),\"N\"\n",
      "print\"M/c Friction in terms of Load is\",round(Fw,2),\"N\"\n",
      "print\"Ffficiency of the machine is\",round(rho,2),\"%\""
     ],
     "language": "python",
     "metadata": {},
     "outputs": [
      {
       "output_type": "stream",
       "stream": "stdout",
       "text": [
        "MAchine Fiction in terms of effort is 10.0 N\n",
        "M/c Friction in terms of Load is 200.0 N\n",
        "Ffficiency of the machine is 75.0 %\n"
       ]
      }
     ],
     "prompt_number": 11
    },
    {
     "cell_type": "heading",
     "level": 2,
     "metadata": {},
     "source": [
      "Example 9.12,Page No.306"
     ]
    },
    {
     "cell_type": "code",
     "collapsed": false,
     "input": [
      "import math\n",
      "\n",
      "#Initilization of Variables\n",
      "P=15 #N #Effort applied\n",
      "W=200 #N #Load Lifted\n",
      "VR=40 #Velocity ratio\n",
      "\n",
      "#Calculations\n",
      "\n",
      "#Efficiency\n",
      "rho=W*P**-1*VR**-1 #%\n",
      "\n",
      "#Friction Load of m/c \n",
      "Fw=P*VR-W #N\n",
      "\n",
      "#Result\n",
      "print\"Friction Load of m/c is\",round(Fw,2),\"N\""
     ],
     "language": "python",
     "metadata": {},
     "outputs": [
      {
       "output_type": "stream",
       "stream": "stdout",
       "text": [
        "Friction Load of m/c is 400.0 N\n"
       ]
      }
     ],
     "prompt_number": 12
    },
    {
     "cell_type": "heading",
     "level": 2,
     "metadata": {},
     "source": [
      "Example 9.13,Page No.307"
     ]
    },
    {
     "cell_type": "code",
     "collapsed": false,
     "input": [
      "import math\n",
      "\n",
      "#Initilization of Variables\n",
      "\n",
      "W=48 #N #Weight\n",
      "P=16 #N #Force\n",
      "D=400 #mm #Diameter of wheel\n",
      "d=100 #mm #Diameter of axle\n",
      "\n",
      "#Calculations\n",
      "\n",
      "#Mechanical Advantage\n",
      "MA=W*P**-1 \n",
      "\n",
      "#Velocity ratio\n",
      "VR=D*d**-1 \n",
      "\n",
      "#Efficiency of the machine\n",
      "rho=MA*VR**-1*100 #%\n",
      "\n",
      "#Result\n",
      "print\"Mechanical Advantage is\",round(MA,2)\n",
      "print\"Velocity ratio is\",round(VR,2)\n",
      "print\"Efficiency of the machine is\",round(rho,2),\"%\""
     ],
     "language": "python",
     "metadata": {},
     "outputs": [
      {
       "output_type": "stream",
       "stream": "stdout",
       "text": [
        "Mechanical Advantage is 3.0\n",
        "Velocity ratio is 4.0\n",
        "Efficiency of the machine is 75.0 %\n"
       ]
      }
     ],
     "prompt_number": 13
    },
    {
     "cell_type": "heading",
     "level": 2,
     "metadata": {},
     "source": [
      "Example 9.14,Page No.309"
     ]
    },
    {
     "cell_type": "code",
     "collapsed": false,
     "input": [
      "import math\n",
      "\n",
      "#Initilization of Variables\n",
      "\n",
      "D=25 #cm #Diameter of wheel\n",
      "d1=10 #cm #LArge dia. of axle\n",
      "d2=9 #cm #Small Dia. of axle\n",
      "P=30 #N #Effort applied\n",
      "W=900 #N #Load Lifted\n",
      "\n",
      "#Calculations\n",
      "\n",
      "#Velocity ratio\n",
      "VR=2*D*(d1-d2)**-1 \n",
      "\n",
      "#Mechanical advantage\n",
      "MA=W*P**-1 \n",
      "\n",
      "#Efficiency\n",
      "rho=MA*VR**-1*100\n",
      "\n",
      "#Result\n",
      "print\"Velocity ratio is\",round(VR,2)\n",
      "print\"Mechanical advantage is\",round(MA,2)\n",
      "print\"Efficiency is\",round(rho,2),\"%\""
     ],
     "language": "python",
     "metadata": {},
     "outputs": [
      {
       "output_type": "stream",
       "stream": "stdout",
       "text": [
        "Velocity ratio is 50.0\n",
        "Mechanical advantage is 30.0\n",
        "Efficiency is 60.0 %\n"
       ]
      }
     ],
     "prompt_number": 14
    },
    {
     "cell_type": "heading",
     "level": 2,
     "metadata": {},
     "source": [
      "Example 9.15,Page No.310"
     ]
    },
    {
     "cell_type": "code",
     "collapsed": false,
     "input": [
      "import math\n",
      "\n",
      "#Initilization of Variables\n",
      "\n",
      "T=60 #No. of teeth on worm wheel\n",
      "L=12.5 #cm #Radius of effort wheel\n",
      "r=6.25 #cm #Radius of Load drum\n",
      "P=20 #N #Effort\n",
      "W=600 #N #Load\n",
      "\n",
      "#Calculations\n",
      "\n",
      "#Velocity ratio\n",
      "VR=L*T*r**-1 \n",
      "\n",
      "#Efficiency\n",
      "rho=W*P**-1*VR**-1*100\n",
      "\n",
      "#Result\n",
      "print\"Velocity ratio for single threaded worm is\",round(VR,2)\n",
      "print\"Efficiency of the worm is\",round(rho,2),\"%\""
     ],
     "language": "python",
     "metadata": {},
     "outputs": [
      {
       "output_type": "stream",
       "stream": "stdout",
       "text": [
        "Velocity ratio for single threaded worm is 120.0\n",
        "Efficiency of the worm is 25.0 %\n"
       ]
      }
     ],
     "prompt_number": 15
    },
    {
     "cell_type": "heading",
     "level": 2,
     "metadata": {},
     "source": [
      "Example 9.16,Page No.312"
     ]
    },
    {
     "cell_type": "code",
     "collapsed": false,
     "input": [
      "import math\n",
      "\n",
      "#Initilization of Variables\n",
      "\n",
      "T1=10 #No.of teeth on pinion\n",
      "T2=100 #No.of teeth on spur wheel\n",
      "D=30 #cm #Dia. of Load axle\n",
      "L=30 #cm #Length of lever\n",
      "P=20 #N #Effort applied\n",
      "W=360 #N #Load Lifted\n",
      "\n",
      "#Calculations\n",
      "\n",
      "#Velocity ratio\n",
      "VR=2*L*T2*(D*T1)**-1\n",
      "\n",
      "#Efficiency\n",
      "rho=W*P**-1*VR**-1*100\n",
      "\n",
      "#Result\n",
      "print\"Velocity ratio is\",round(VR,2)\n",
      "print\"Efficinecy is\",round(rho,2),\"%\""
     ],
     "language": "python",
     "metadata": {},
     "outputs": [
      {
       "output_type": "stream",
       "stream": "stdout",
       "text": [
        "Velocity ratio is 20.0\n",
        "Efficinecy is 90.0 %\n"
       ]
      }
     ],
     "prompt_number": 16
    },
    {
     "cell_type": "heading",
     "level": 2,
     "metadata": {},
     "source": [
      "Example 9.17,Page No.314"
     ]
    },
    {
     "cell_type": "code",
     "collapsed": false,
     "input": [
      "import math\n",
      "\n",
      "#Initilization of Variables\n",
      "\n",
      "P=40 #N #Effort\n",
      "rho=0.5 #Efficincy\n",
      "D=20 #cm #Dia. of load axle\n",
      "L=80 #cm #Length of Lever\n",
      "T1=10 #No. of teeth om pinion of effort axle\n",
      "T2=100 #No. of teeth on spur wheel of intermediate axle\n",
      "T3=20 #No. of teeth om pinion of Load axle\n",
      "T4=200 #No. of teeth on spur wheel of load axle\n",
      "\n",
      "#Calculations\n",
      "\n",
      "#Velocity ratio\n",
      "VR=2*L*D**-1*T2*T1**-1*T4*T3**-1 \n",
      "\n",
      "#Mechanical Advatnage\n",
      "MA=rho*VR\n",
      "\n",
      "#Load Which can be Lifted\n",
      "W=MA*P*10**-3 #N\n",
      "\n",
      "#Result\n",
      "print\"Velocity ratio is\",round(VR,2)\n",
      "print\"Load Which can be Lifted is\",round(W,2),\"KN\""
     ],
     "language": "python",
     "metadata": {},
     "outputs": [
      {
       "output_type": "stream",
       "stream": "stdout",
       "text": [
        "Velocity ratio is 800.0\n",
        "Load Which can be Lifted is 16.0 KN\n"
       ]
      }
     ],
     "prompt_number": 17
    },
    {
     "cell_type": "heading",
     "level": 2,
     "metadata": {},
     "source": [
      "Example 9.17(A),Page No.315"
     ]
    },
    {
     "cell_type": "code",
     "collapsed": false,
     "input": [
      "import math\n",
      "\n",
      "#Initilization of Variables\n",
      "\n",
      "rho=0.4 #Efficincy\n",
      "D=20 #cm #Dia. of load axle\n",
      "L=40 #cm #Length of Lever\n",
      "T1=15 #No. of teeth om pinion of effort axle\n",
      "T2=45 #No. of teeth on spur wheel of intermediate axle\n",
      "T3=20 #No. of teeth om pinion of Load axle\n",
      "T4=40 #No. of teeth on spur wheel of load axle\n",
      "W=250 #N #Load Lifted\n",
      "\n",
      "#Calculations\n",
      "\n",
      "#Velocity ratio\n",
      "VR=VR=2*L*D**-1*T2*T1**-1*T4*T3**-1 \n",
      "\n",
      "#Effort applied\n",
      "P=W*(rho*VR)**-1 #N\n",
      "\n",
      "#Result\n",
      "print\"Effort applied at the end is\",round(P,2),\"N\""
     ],
     "language": "python",
     "metadata": {},
     "outputs": [
      {
       "output_type": "stream",
       "stream": "stdout",
       "text": [
        "Effort applied at the end is 26.04 N\n"
       ]
      }
     ],
     "prompt_number": 18
    },
    {
     "cell_type": "heading",
     "level": 2,
     "metadata": {},
     "source": [
      "Example 9.18,Page No.318"
     ]
    },
    {
     "cell_type": "code",
     "collapsed": false,
     "input": [
      "import math\n",
      "\n",
      "#Initilization of Variables\n",
      "\n",
      "n=4 #No. of movable pulleys\n",
      "W=1440 #N #Load\n",
      "P=100 #N #effort\n",
      "\n",
      "#Calculations\n",
      "\n",
      "#Mechanical Advantage\n",
      "MA=W*P**-1 \n",
      "\n",
      "#Velocity ratio\n",
      "VR=2**4\n",
      "\n",
      "#Efficiency\n",
      "rho=MA*VR**-1*100 #%\n",
      "\n",
      "#Ideal Effort\n",
      "P2=W*VR**-1\n",
      "\n",
      "#Effort wsted in friction\n",
      "P3=P-P2 #N\n",
      "\n",
      "#Load WAsted in friction\n",
      "W2=VR*P\n",
      "\n",
      "W3=W2-W\n",
      "\n",
      "#Result\n",
      "print\"Efficiency of the machine is,\",round(rho,2),\"%\"\n",
      "print\"Effort Wasted in friction is\",round(P3,2),\"N\"\n",
      "print\"Load Wasted in friction is\",round(W3,2),\"N\""
     ],
     "language": "python",
     "metadata": {},
     "outputs": [
      {
       "output_type": "stream",
       "stream": "stdout",
       "text": [
        "Efficiency of the machine is, 90.0 %\n",
        "Effort Wasted in friction is 10.0 N\n",
        "Load Wasted in friction is 160.0 N\n"
       ]
      }
     ],
     "prompt_number": 19
    },
    {
     "cell_type": "heading",
     "level": 2,
     "metadata": {},
     "source": [
      "Example 9.19,Page No.320"
     ]
    },
    {
     "cell_type": "code",
     "collapsed": false,
     "input": [
      "import math\n",
      "\n",
      "#Initilization of Variables\n",
      "\n",
      "W=2000 #N #Weight\n",
      "P=600 #Effort\n",
      "n=5 #Total No. of pulleys\n",
      "VR=n \n",
      "\n",
      "#Calculations\n",
      "\n",
      "#Mechanical advantage\n",
      "MA=W*P**-1\n",
      "\n",
      "#efficiency\n",
      "rho=MA*VR**-1*100\n",
      "\n",
      "#Result\n",
      "print\"Efficiency of the system is\",round(rho,2),\"%\""
     ],
     "language": "python",
     "metadata": {},
     "outputs": [
      {
       "output_type": "stream",
       "stream": "stdout",
       "text": [
        "Efficiency of the system is 66.67 %\n"
       ]
      }
     ],
     "prompt_number": 20
    },
    {
     "cell_type": "heading",
     "level": 2,
     "metadata": {},
     "source": [
      "Example 9.20,Page No.321"
     ]
    },
    {
     "cell_type": "code",
     "collapsed": false,
     "input": [
      "import math\n",
      "\n",
      "#Initilization of Variables\n",
      "\n",
      "n=4 #No. of pulleys\n",
      "P=160 #N #Effort\n",
      "rho=0.75 #efficiency\n",
      "VR=15 #Velocity ratio\n",
      "\n",
      "#Calculations\n",
      "\n",
      "#weight Lifted\n",
      "W=rho*P*VR \n",
      "\n",
      "#Result\n",
      "print\"Weight Lifted is\",round(W,2),\"N\""
     ],
     "language": "python",
     "metadata": {},
     "outputs": [
      {
       "output_type": "stream",
       "stream": "stdout",
       "text": [
        "Weight Lifted is 1800.0 N\n"
       ]
      }
     ],
     "prompt_number": 21
    },
    {
     "cell_type": "heading",
     "level": 2,
     "metadata": {},
     "source": [
      "Example 9.21,Page No.323"
     ]
    },
    {
     "cell_type": "code",
     "collapsed": false,
     "input": [
      "import math\n",
      "\n",
      "#Initilization of Variables\n",
      "\n",
      "rho=0.5 #Efficency\n",
      "D=25 #cm #Diameter of Large pulley\n",
      "d=20 #cm #Dia. of smaller pulley\n",
      "P=20 #N #Effort applied\n",
      "\n",
      "#Calculations\n",
      "\n",
      "#Velocity ratio\n",
      "VR=2*D*(D-d)**-1\n",
      "\n",
      "#Load Lifted\n",
      "W=rho*d*VR #N\n",
      "\n",
      "#Result\n",
      "print\"Load Lifted by the machine is\",round(W,2),\"N\""
     ],
     "language": "python",
     "metadata": {},
     "outputs": [
      {
       "output_type": "stream",
       "stream": "stdout",
       "text": [
        "Load Lifted by the machine is 100.0 N\n"
       ]
      }
     ],
     "prompt_number": 22
    },
    {
     "cell_type": "heading",
     "level": 2,
     "metadata": {},
     "source": [
      "Example 9.22,Page No.327"
     ]
    },
    {
     "cell_type": "code",
     "collapsed": false,
     "input": [
      "import math\n",
      "\n",
      "#Initilization of Variables\n",
      "\n",
      "W=1500 #Load\n",
      "L=0.7 #Length of handle\n",
      "d=0.06 #m #Mean diaof screw jack\n",
      "p=0.009 #pitch of the screw jack\n",
      "mu=0.095 #co-efficient of friction\n",
      "pi=3.14\n",
      "\n",
      "#Calculations\n",
      "\n",
      "#Effort required\n",
      "X=(W*d*(2*L)**-1)*(p+mu*pi*d)*(pi*d-p*mu)**-1 #N\n",
      "\n",
      "#Effort required at the end of the handle for lowering the load\n",
      "P2=W*d*(2*L)**-1*(mu*pi*d-p)*(pi*d+mu*p)**-1 #N\n",
      "\n",
      "#Result\n",
      "print\"Effort required at the end of the handle for Lifting Load 1500 N\",round(X,2),\"N\"\n",
      "print\"Effort required at the end of the handle for lowering the load is\",round(P2,2),\"N\""
     ],
     "language": "python",
     "metadata": {},
     "outputs": [
      {
       "output_type": "stream",
       "stream": "stdout",
       "text": [
        "Effort required at the end of the handle for Lifting Load 1500 N 9.22 N\n",
        "Effort required at the end of the handle for lowering the load is 3.02 N\n"
       ]
      }
     ],
     "prompt_number": 23
    },
    {
     "cell_type": "heading",
     "level": 2,
     "metadata": {},
     "source": [
      "Example 9.23,Page No.328"
     ]
    },
    {
     "cell_type": "code",
     "collapsed": false,
     "input": [
      "import math\n",
      "from math import sin, cos, tan, radians, pi\n",
      "\n",
      "#Initilization of Variables\n",
      "\n",
      "W=3000 #N #Load Lifted\n",
      "n=2 #No. of square thread\n",
      "D1=6 #cm #Outer diameter\n",
      "mu=0.09 #Coefficient offriction\n",
      "L=0.6 #m #Length\n",
      "\n",
      "#Calculations\n",
      "\n",
      "#pitch of screw\n",
      "p=1.2*n**-1*10**-2 #m\n",
      "\n",
      "#Thickness of thread\n",
      "t=0.5*p #\n",
      "\n",
      "#Diameter at base of screw\n",
      "D2=D1-2*t\n",
      "\n",
      "#Mean Diameter\n",
      "d=(D1+D2)*2**-1*10**-2 #m\n",
      "\n",
      "#Force \n",
      "P=W*d*(2*L)**-1*(p+mu*pi*d)*(pi*d-p*mu)**-1 #N\n",
      "\n",
      "#Result\n",
      "print\"Force required at the end of handle is\",round(P,2),\"N\"\n",
      "\n",
      "#Answer in textbook is incorrect"
     ],
     "language": "python",
     "metadata": {},
     "outputs": [
      {
       "output_type": "stream",
       "stream": "stdout",
       "text": [
        "Force required at the end of handle is 18.32 N\n"
       ]
      }
     ],
     "prompt_number": 1
    },
    {
     "cell_type": "heading",
     "level": 2,
     "metadata": {},
     "source": [
      "Example 9.23(A),Page No.328"
     ]
    },
    {
     "cell_type": "code",
     "collapsed": false,
     "input": [
      "import math\n",
      "from math import sin, cos, tan, radians, pi\n",
      "\n",
      "#Initilization of Variables\n",
      "\n",
      "W=5000 #N #Load\n",
      "n=2\n",
      "t=0.003 #m #Thickness\n",
      "D1=0.06 #m #outer diameter\n",
      "D2=0.054 #m #Inner diameter\n",
      "d=0.057 #MEan diameter\n",
      "mu=0.08 #Coefficient of friction\n",
      "L=0.6 #m #Length\n",
      "p=0.006 #m #pitch\n",
      "\n",
      "#Calculations\n",
      "\n",
      "#Let tan(alpha)=X\n",
      "X=p*(pi*d)**-1\n",
      "\n",
      "#Let tan(phi)=Y\n",
      "Y=mu\n",
      "\n",
      "#Force reuired at the end of handle \n",
      "P=d*(2*L)**-1*W*(X+Y)*(1-X*Y)**-1\n",
      "\n",
      "#Result \n",
      "print\"Force reuired at the end is\",round(P,2),\"N\""
     ],
     "language": "python",
     "metadata": {},
     "outputs": [
      {
       "output_type": "stream",
       "stream": "stdout",
       "text": [
        "Force reuired at the end is 27.03 N\n"
       ]
      }
     ],
     "prompt_number": 25
    },
    {
     "cell_type": "heading",
     "level": 2,
     "metadata": {},
     "source": [
      "Example 9.24,Page No.329"
     ]
    },
    {
     "cell_type": "code",
     "collapsed": false,
     "input": [
      "import math\n",
      "from math import sin, cos, tan, radians, pi\n",
      "\n",
      "#Initilization of Variables\n",
      "\n",
      "W=2000 #N #Load Lifted\n",
      "p=1 #mm #pitch\n",
      "rho=0.5 #efficiency\n",
      "L=50 #cm #Length of handle\n",
      "\n",
      "#Calculations\n",
      "\n",
      "#Velocity ratio\n",
      "VR=2*pi*L*p**-1\n",
      "\n",
      "#Effort applied\n",
      "P=W*(rho*VR)**-1\n",
      "\n",
      "#Result\n",
      "print\"Effort applied at the end of handle\",round(P,2),\"N\""
     ],
     "language": "python",
     "metadata": {},
     "outputs": [
      {
       "output_type": "stream",
       "stream": "stdout",
       "text": [
        "Effort applied at the end of handle 12.74 N\n"
       ]
      }
     ],
     "prompt_number": 26
    },
    {
     "cell_type": "heading",
     "level": 2,
     "metadata": {},
     "source": [
      "Example 9.25,Page No.332"
     ]
    },
    {
     "cell_type": "code",
     "collapsed": false,
     "input": [
      "import math\n",
      "from math import sin, cos, tan, radians, pi\n",
      "\n",
      "#Initilization of Variables\n",
      "\n",
      "rho=0.55 #efficiency\n",
      "W=1500 #N #Load Lifted\n",
      "L=0.5 #m #Length of handle\n",
      "p=0.01 #m #Pitch of the screw\n",
      "\n",
      "#Calculations\n",
      "\n",
      "#Velocity ratio\n",
      "VR=2*pi*L*p**-1 \n",
      "\n",
      "#Effort applied\n",
      "P=W*(VR*rho)**-1 #N\n",
      "\n",
      "#Result\n",
      "print\"Effort applied is\",round(P,2),\"N\""
     ],
     "language": "python",
     "metadata": {},
     "outputs": [
      {
       "output_type": "stream",
       "stream": "stdout",
       "text": [
        "Effort applied is 8.69 N\n"
       ]
      }
     ],
     "prompt_number": 27
    },
    {
     "cell_type": "heading",
     "level": 2,
     "metadata": {},
     "source": [
      "Example 9.26,Page No.333"
     ]
    },
    {
     "cell_type": "code",
     "collapsed": false,
     "input": [
      "import math\n",
      "from math import sin, cos, tan, radians, pi\n",
      "\n",
      "#Initilization of Variables\n",
      "\n",
      "d=0.075 #m #Mean diameter\n",
      "p=0.015 #m #Pitch of threads\n",
      "mu=0.05 #Coefficient of friction\n",
      "W=600 #N\n",
      "L=0.36 #m #LEngth\n",
      "\n",
      "#Calculations\n",
      "\n",
      "#Tangential Force\n",
      "P=W*d*(2*L)**-1*(p+mu*pi*d)*(pi*d-p*mu)**-1 #N\n",
      "\n",
      "#Let Tan(alpha)=X\n",
      "#tan(phi)=Y\n",
      "#tan(alpha+phi)=Z\n",
      "X=p*(pi*d)**-1\n",
      "Y=mu\n",
      "Z=(X+Y)*(1-X*Y)**-1\n",
      "\n",
      "#efficiency\n",
      "rho=X*Z**-1 \n",
      "\n",
      "#Effort\n",
      "P2=W*((X-Y)*(1+X*Y)**-1) #N\n",
      "\n",
      "#Torque required\n",
      "T=P2*d*2**-1 #N*m\n",
      "\n",
      "#Result\n",
      "print\"Tangential Force to be qpplied is\",round(P,2),\"N\"\n",
      "print\"Torque necesscary to lower the load is\",round(T,2),\"Nm\""
     ],
     "language": "python",
     "metadata": {},
     "outputs": [
      {
       "output_type": "stream",
       "stream": "stdout",
       "text": [
        "Tangential Force to be qpplied is 7.13 N\n",
        "Torque necesscary to lower the load is 0.31 Nm\n"
       ]
      }
     ],
     "prompt_number": 28
    },
    {
     "cell_type": "heading",
     "level": 2,
     "metadata": {},
     "source": [
      "Example 9.27,Page No.334"
     ]
    },
    {
     "cell_type": "code",
     "collapsed": false,
     "input": [
      "import math\n",
      "from math import sin, cos, tan, radians, pi\n",
      "\n",
      "#Initilization of Variables\n",
      "\n",
      "d=0.06 #m #Mean diameter\n",
      "p=0.008 #m P#itch\n",
      "mu=0.09\n",
      "W=3 #Load Lifted\n",
      "x=0.12 #m\n",
      "n=15 #No. of turns\n",
      "\n",
      "#Calculations\n",
      "\n",
      "#Let Tan(alpha)=X\n",
      "#tan(phi)=Y\n",
      "X=p*(pi*d)**-1\n",
      "Y=mu\n",
      "P=W*((X+Y)*(1-X*Y)**-1) #N\n",
      "\n",
      "#Torque required\n",
      "T=P*d*2**-1 #N*m\n",
      "\n",
      "#Total Angular displacement\n",
      "omega=n*2*pi\n",
      "\n",
      "#Workk done\n",
      "W2=omega*T #KNm\n",
      "\n",
      "#efficiency\n",
      "rho=W*x*W2**-1*100 #%\n",
      "\n",
      "#Efficiency can also be determined as\n",
      "rho2=X*(X+Y)**-1*(1-X*Y)*100\n",
      "\n",
      "#Result\n",
      "print\"Torque required is\",round(T,2),\"Nm\"\n",
      "print\"Work done in lifting the load is\",round(W2,3),\"KN\"\n",
      "print\"Efficiency of the jack is\",round(rho2,1),\"%\""
     ],
     "language": "python",
     "metadata": {},
     "outputs": [
      {
       "output_type": "stream",
       "stream": "stdout",
       "text": [
        "Torque required is 0.01 Nm\n",
        "Work done in lifting the load is 1.127 KN\n",
        "Efficiency of the jack is 31.9 %\n"
       ]
      }
     ],
     "prompt_number": 29
    },
    {
     "cell_type": "heading",
     "level": 2,
     "metadata": {},
     "source": [
      "Example 9.28,Page No.336"
     ]
    },
    {
     "cell_type": "code",
     "collapsed": false,
     "input": [
      "import math\n",
      "from math import sin, cos, tan, radians, pi\n",
      "\n",
      "#Initilization of Variables\n",
      "\n",
      "p1=1 #cm #Pitch of Larger screw\n",
      "p2=0.7 #cm #Pitch of smaller screw\n",
      "l=36 #cm #Length of handle\n",
      "rho=0.28 #efficiency\n",
      "W=5000 #N #Weight\n",
      "\n",
      "#Calculations\n",
      "\n",
      "#Velocity ratio\n",
      "VR=2*pi*l*(p1-p2)**-1\n",
      "\n",
      "#Effort applied\n",
      "P=W*(rho*VR)**-1 #N\n",
      "\n",
      "#Result\n",
      "print\"Effort required to Lift the Load\",round(P,2),\"N\" "
     ],
     "language": "python",
     "metadata": {},
     "outputs": [
      {
       "output_type": "stream",
       "stream": "stdout",
       "text": [
        "Effort required to Lift the Load 23.68 N\n"
       ]
      }
     ],
     "prompt_number": 3
    }
   ],
   "metadata": {}
  }
 ]
}