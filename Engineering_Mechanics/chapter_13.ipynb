{
 "metadata": {
  "name": "chapter_13.ipynb"
 },
 "nbformat": 3,
 "nbformat_minor": 0,
 "worksheets": [
  {
   "cells": [
    {
     "cell_type": "heading",
     "level": 1,
     "metadata": {},
     "source": [
      "Chapter 13:Kinematics of Curvilinear Motion,Circular Motion,,Rotation And                                       Translation"
     ]
    },
    {
     "cell_type": "heading",
     "level": 2,
     "metadata": {},
     "source": [
      "Example 13.1,Page No.471"
     ]
    },
    {
     "cell_type": "code",
     "collapsed": false,
     "input": [
      "import math\n",
      "\n",
      "#Initilization of Variables\n",
      "\n",
      "w_o=5 #Rad/s #Initial Angular Velocity\n",
      "w=13 #rad/s #IFinal angular Velocity\n",
      "t=4 #s #time\n",
      "\n",
      "#Calculation\n",
      "\n",
      "#Angular Acceleration of the body\n",
      "alpha=(w-w_o)*t**-1 #rad/s**2\n",
      "\n",
      "#Result\n",
      "print\"Angular Acceleration of the body is\",round(alpha,2),\"Rad/s**2\""
     ],
     "language": "python",
     "metadata": {},
     "outputs": [
      {
       "output_type": "stream",
       "stream": "stdout",
       "text": [
        "Angular Acceleration of the body is 2.0 Rad/s**2\n"
       ]
      }
     ],
     "prompt_number": 1
    },
    {
     "cell_type": "heading",
     "level": 2,
     "metadata": {},
     "source": [
      "Example 13.2,Page No.471"
     ]
    },
    {
     "cell_type": "code",
     "collapsed": false,
     "input": [
      "import math\n",
      "from math import sin, cos, tan, radians, pi\n",
      "\n",
      "#Initilization of Variables\n",
      "\n",
      "N_o=20 #Initial r.p.m of wheel\n",
      "n=50 #No. of revolution\n",
      "n2=100 \n",
      "t=70 #s #time\n",
      "\n",
      "#Calculation\n",
      "\n",
      "#Angular Dispalcement\n",
      "theta=2*pi*n\n",
      "\n",
      "#Initial Angular Velocity\n",
      "w_o=2*pi*N_o*60**-1\n",
      "\n",
      "#Angular Velocity at the end of 70 s\n",
      "alpha=(theta-w_o*t)*((t**2)*2**-1)**-1 #rad/s**2\n",
      "w=w_o+alpha*t #rad/s\n",
      "\n",
      "#Time Required for the speed to reach 100 r.p.m\n",
      "\n",
      "#Final Angular Velocity\n",
      "w2=2*pi*n2*60**-1 #rad/s\n",
      "\n",
      "#Time required for speed to reach 100 revolutions\n",
      "t=(w2-w_o)*alpha**-1 #s\n",
      "\n",
      "#Result\n",
      "print\"Angular Velocity at the end of 70 s is\",round(w,2),\"rad/s**2\"\n",
      "print\"Time required for speed to reach 100 revolutions is\",round(t,2),\"s\""
     ],
     "language": "python",
     "metadata": {},
     "outputs": [
      {
       "output_type": "stream",
       "stream": "stdout",
       "text": [
        "Angular Velocity at the end of 70 s is 6.88 rad/s**2\n",
        "Time required for speed to reach 100 revolutions is 122.5 s\n"
       ]
      }
     ],
     "prompt_number": 2
    },
    {
     "cell_type": "heading",
     "level": 2,
     "metadata": {},
     "source": [
      "Example 13.3,Page No.472"
     ]
    },
    {
     "cell_type": "code",
     "collapsed": false,
     "input": [
      "import math\n",
      "\n",
      "#Initilization of Variables\n",
      "\n",
      "alpha=1 #rad/s**2 #Angular Acceleration\n",
      "w_o=5.25 #rad/s**2 #Initial Angular velocity\n",
      "w=10.50 #rad/s**2 #Final angular velocity\n",
      "\n",
      "#Calculation\n",
      "\n",
      "#Total angle turned\n",
      "theta=(w**2-w_o**2)*2**-1 #rad\n",
      "\n",
      "#Result\n",
      "print\"Total angle turned is\",round(theta,2),\"rad\""
     ],
     "language": "python",
     "metadata": {},
     "outputs": [
      {
       "output_type": "stream",
       "stream": "stdout",
       "text": [
        "Total angle turned is 41.34 rad\n"
       ]
      }
     ],
     "prompt_number": 3
    },
    {
     "cell_type": "heading",
     "level": 2,
     "metadata": {},
     "source": [
      "Example 13.4,Page No.472"
     ]
    },
    {
     "cell_type": "code",
     "collapsed": false,
     "input": [
      "import math\n",
      "from math import sin, cos, tan, radians, pi\n",
      "\n",
      "#Initilization of Variables\n",
      "\n",
      "#Part-1\n",
      "w_o=0 #Initial angular velocity\n",
      "alpha=1 #rad/s**2 #Angular accleration\n",
      "t=90 #s #time\n",
      "\n",
      "#Part-2\n",
      "\n",
      "w_o2=90 #rad/s #Initial Angular velocity\n",
      "w2=0 #final angular velocity\n",
      "alpha2=-0.5 #rad/s**2 #Angular retardation\n",
      "\n",
      "\n",
      "#Calculation\n",
      "\n",
      "#Part-1\n",
      "\n",
      "#Angular Velocity\n",
      "w=w_o+alpha*t #rad/s\n",
      "\n",
      "#Speed in r.p.m\n",
      "N=60*w*(2*pi)**-1 #r.p.m\n",
      "\n",
      "#Part-2\n",
      "\n",
      "#Time taken by flywheel in seconds to come to rest \n",
      "t1=-w_o2*alpha2**-1 #s\n",
      "\n",
      "#Result\n",
      "print\"Speed in r.p.m is\",round(N,2)\n",
      "print\"Time taken by flywheel in seconds to come to rest is\",round(t1,2),\"s\""
     ],
     "language": "python",
     "metadata": {},
     "outputs": [
      {
       "output_type": "stream",
       "stream": "stdout",
       "text": [
        "Speed in r.p.m is 859.44\n",
        "Time taken by flywheel in seconds to come to rest is 180.0 s\n"
       ]
      }
     ],
     "prompt_number": 1
    },
    {
     "cell_type": "heading",
     "level": 2,
     "metadata": {},
     "source": [
      "Example 13.5,Page No.473"
     ]
    },
    {
     "cell_type": "code",
     "collapsed": false,
     "input": [
      "import math\n",
      "from math import sin, cos, tan, radians, pi\n",
      "\n",
      "#Initilization of Variables\n",
      "\n",
      "N=200 #r.p.m #initial speed\n",
      "f1=20.94 #rad/s #Frequency\n",
      "N2=160 #r.p.m\n",
      "t=10 #s #time\n",
      "f2=16.75 #rad/s\n",
      "f3=0 #Final angular velocity\n",
      "\n",
      "#Calculation\n",
      "\n",
      "#Uniform retardation\n",
      "alpha=(f2-f1)*t**-1 #rad/s**2\n",
      "\n",
      "#total angular displacement\n",
      "theta=(f3**2-f1**2)*(2*alpha)**-1 #rad\n",
      "n=theta*(2*pi)**-1 #revolutions\n",
      "\n",
      "#Time taken by wheel before it comes to rest\n",
      "t=-f1*alpha**-1\n",
      "\n",
      "\n",
      "#Result\n",
      "print\"Number of revolutions is\",round(n,2),\"revolution\"\n",
      "print\"Time taken by wheel before it comes to rest is\",round(t,2),\"s\""
     ],
     "language": "python",
     "metadata": {},
     "outputs": [
      {
       "output_type": "stream",
       "stream": "stdout",
       "text": [
        "Number of revolutions is 83.28 revolution\n",
        "Time taken by wheel before it comes to rest is 49.98 s\n"
       ]
      }
     ],
     "prompt_number": 2
    },
    {
     "cell_type": "heading",
     "level": 2,
     "metadata": {},
     "source": [
      "Example 13.6,Page No.474"
     ]
    },
    {
     "cell_type": "code",
     "collapsed": false,
     "input": [
      "import math\n",
      "\n",
      "#Initilization of Variables\n",
      "\n",
      "#Angle of rotation\n",
      "#theta=2*t**3-5*t**2+8*t+6\n",
      "t=0 #s\n",
      "t2=4 #s\n",
      "\n",
      "#Calculation\n",
      "\n",
      "#After deriving above equation we get\n",
      "f1=6*t**2-10*t+8  #rad/s\n",
      "\n",
      "#Again differentiating above equation we get\n",
      "alpha1=12*t-10 #rad/s**2\n",
      "\n",
      "#for t2=4\n",
      "f2=6*t2**2-10*t2+8  #rad/s\n",
      "alpha2=12*t2-10 #rad/s**2\n",
      "\n",
      "#Result\n",
      "print\"Angular Velocity at t=0 is\",round(f1,2),\"rad/s\"\n",
      "print\"Angular acceleration at t=4 is\",round(alpha1,2),\"rad/s**2\"\n",
      "print\"Angular Velocity at t=0 is\",round(f2,2),\"rad/s\"\n",
      "print\"Angular acceleration at t=4 is\",round(alpha2,2),\"rad/s**2\""
     ],
     "language": "python",
     "metadata": {},
     "outputs": [
      {
       "output_type": "stream",
       "stream": "stdout",
       "text": [
        "Angular Velocity at t=0 is 8.0 rad/s\n",
        "Angular acceleration at t=4 is -10.0 rad/s**2\n",
        "Angular Velocity at t=0 is 64.0 rad/s\n",
        "Angular acceleration at t=4 is 38.0 rad/s**2\n"
       ]
      }
     ],
     "prompt_number": 6
    },
    {
     "cell_type": "heading",
     "level": 2,
     "metadata": {},
     "source": [
      "Example 13.6(A),Page No.474"
     ]
    },
    {
     "cell_type": "code",
     "collapsed": false,
     "input": [
      "import math\n",
      "\n",
      "#Initilization of Variables\n",
      "\n",
      "#angular rotation\n",
      "#theta=9*32**-1*t**3\n",
      "t=1.6 #s\n",
      "\n",
      "#Calculation\n",
      "\n",
      "#after differentiating above equation twice we get\n",
      "alpha=27*16**-1*t #rad/s**2\n",
      "\n",
      "#Result\n",
      "print\"Angular accelerations is\",round(alpha,2),\"rad/s**2\""
     ],
     "language": "python",
     "metadata": {},
     "outputs": [
      {
       "output_type": "stream",
       "stream": "stdout",
       "text": [
        "Angular accelerations is 2.7 rad/s**2\n"
       ]
      }
     ],
     "prompt_number": 7
    },
    {
     "cell_type": "heading",
     "level": 2,
     "metadata": {},
     "source": [
      "Example 13.7,Page No.475"
     ]
    },
    {
     "cell_type": "code",
     "collapsed": false,
     "input": [
      "import math\n",
      "\n",
      "#Initilization of Variables\n",
      "\n",
      "f1=2 #rad/s #initiaal angular velocity\n",
      "alpha1=0 #Initial angular acceleration\n",
      "\n",
      "#Calculation\n",
      "\n",
      "#Integrating law of rotation we get\n",
      "#f2=t**3-3*t+C   .......1\n",
      "#put t=0 weg et\n",
      "C=2\n",
      "\n",
      "#now at t=5 #s\n",
      "t=5 #s\n",
      "f2=t**3-3*t+C\n",
      "\n",
      "#Integrting equation 1 we get\n",
      "#theta=t**4*4**-1-3*t**2*2**-1+2*t\n",
      "#Sub values and further simplifying we get\n",
      "theta=t**4*4**-1-3*t**2*2**-1+2*t\n",
      "\n",
      "#Result\n",
      "print\"Angular velocity when t=5s is\",round(f2,2),\"rad/s\"\n",
      "print\"Angular displacement when t=5s is\",round(theta,2),\"radians\""
     ],
     "language": "python",
     "metadata": {},
     "outputs": [
      {
       "output_type": "stream",
       "stream": "stdout",
       "text": [
        "Angular velocity when t=5s is 112.0 rad/s\n",
        "Angular displacement when t=5s is 128.75 radians\n"
       ]
      }
     ],
     "prompt_number": 8
    },
    {
     "cell_type": "heading",
     "level": 2,
     "metadata": {},
     "source": [
      "Example 13.8,Page No.476"
     ]
    },
    {
     "cell_type": "code",
     "collapsed": false,
     "input": [
      "import math\n",
      "from math import sin, cos, tan, radians, pi\n",
      "\n",
      "#Initilization of Variables\n",
      "\n",
      "#Angle of rotation of body \n",
      "#theta=theta1+a*t+b*t**2\n",
      "f=3*pi\n",
      "f2=8*pi\n",
      "t=0 #s\n",
      "t2=2 #s\n",
      "\n",
      "#Calculations\n",
      "\n",
      "#differentiating above equation and further sub values and simplifuing we getweget\n",
      "a=f\n",
      "b=(f2-a)*4**-1\n",
      "\n",
      "#Result\n",
      "print\"Constants a is\",round(a,2)\n",
      "print\"Constants b is\",round(b,2)"
     ],
     "language": "python",
     "metadata": {},
     "outputs": [
      {
       "output_type": "stream",
       "stream": "stdout",
       "text": [
        "Constants a is 9.42\n",
        "Constants b is 3.93\n"
       ]
      }
     ],
     "prompt_number": 3
    },
    {
     "cell_type": "heading",
     "level": 2,
     "metadata": {},
     "source": [
      "Example 13.9,Page No.480"
     ]
    },
    {
     "cell_type": "code",
     "collapsed": false,
     "input": [
      "import math\n",
      "from math import sin, cos, tan, radians, pi\n",
      "\n",
      "#Initilization of Variables\n",
      "\n",
      "#Velocity\n",
      "V_A=4 #m/s\n",
      "theta=30 #Degrees\n",
      "\n",
      "#Calculation\n",
      "\n",
      "#Velocity\n",
      "V_B=V_A*(tan(theta*pi*180**-1))**-1 #m/s\n",
      "\n",
      "#Result\n",
      "print\"Velocity of point B is\",round(V_B,2),\"m/s\""
     ],
     "language": "python",
     "metadata": {},
     "outputs": [
      {
       "output_type": "stream",
       "stream": "stdout",
       "text": [
        "Velocity of point B is 6.93 m/s\n"
       ]
      }
     ],
     "prompt_number": 10
    },
    {
     "cell_type": "heading",
     "level": 2,
     "metadata": {},
     "source": [
      "Example 13.9(A),Page No.480"
     ]
    },
    {
     "cell_type": "code",
     "collapsed": false,
     "input": [
      "import math\n",
      "\n",
      "#Initilization of Variables\n",
      "\n",
      "r=1 #m #radius\n",
      "V_C=20 #m/s #Velocity\n",
      "f=20 #rad/s #Angular velocity\n",
      "\n",
      "#Calculation\n",
      "\n",
      "#Length\n",
      "L_DE=(r**2+r**2)**0.5 #m\n",
      "L_DF=2 #m #Diameter\n",
      "\n",
      "#Velocity \n",
      "V_E=L_DE*f #m/s\n",
      "V_F=f*L_DF #m/s\n",
      "\n",
      "#Result\n",
      "print\"Velocity of point E:V_E\",round(V_E,2),\"m/s\"\n",
      "print\"Velocity of point E:V_F\",round(V_F,2),\"m/s\""
     ],
     "language": "python",
     "metadata": {},
     "outputs": [
      {
       "output_type": "stream",
       "stream": "stdout",
       "text": [
        "Velocity of point E:V_E 28.28 m/s\n",
        "Velocity of point E:V_F 40.0 m/s\n"
       ]
      }
     ],
     "prompt_number": 11
    },
    {
     "cell_type": "heading",
     "level": 2,
     "metadata": {},
     "source": [
      "Example 13.9(B),Page No.481"
     ]
    },
    {
     "cell_type": "code",
     "collapsed": false,
     "input": [
      "import math\n",
      "\n",
      "#Initilization of Variables\n",
      "\n",
      "D=50 #cm\n",
      "r=0.25 #m #radius\n",
      "V_A=L_AL=5 #m/s\n",
      "V_B=L_BM=3 #m/s\n",
      "\n",
      "#Calculation\n",
      "\n",
      "#V_A=f*L_AO\n",
      "#V_B=f*L_BO \n",
      "\n",
      "#After further simplifying and resolving we get\n",
      "f=2*0.5**-1 #rad/s\n",
      "x=L_BO=3*f**-1 \n",
      "\n",
      "#Linear Velocity\n",
      "V_C=f*(r+x) #m/s\n",
      "\n",
      "#Result\n",
      "print\"Linear Velocity of roller is\",round(V_C,2),\"m/s\"\n",
      "print\"Angular velocity is\",round(f,2),\"rad/s\""
     ],
     "language": "python",
     "metadata": {},
     "outputs": [
      {
       "output_type": "stream",
       "stream": "stdout",
       "text": [
        "Linear Velocity of roller is 4.0 m/s\n",
        "Angular velocity is 4.0 rad/s\n"
       ]
      }
     ],
     "prompt_number": 12
    },
    {
     "cell_type": "heading",
     "level": 2,
     "metadata": {},
     "source": [
      "Example 13.9(C),Page No.482"
     ]
    },
    {
     "cell_type": "code",
     "collapsed": false,
     "input": [
      "import math\n",
      "from math import sin, cos, tan, radians, pi\n",
      "\n",
      "#Initilization of Variables\n",
      "\n",
      "r=1 #m\n",
      "u=20 #m/s\n",
      "\n",
      "#Calculation\n",
      "\n",
      "#Velocity component of point E\n",
      "#u_E=u+u*sin(u*t)\n",
      "#at t=0\n",
      "t=0\n",
      "u_E=u+u*sin(u*t*pi*180**-1)\n",
      "v_E=u*cos(u*t)\n",
      "V_E=(u_E**2+v_E**2)**0.5 #m/s\n",
      "u_F=u+u*cos(u*t*pi*180**-1) #m/s\n",
      "\n",
      "#Result\n",
      "print\"Velocity of point E is\",round(V_E,2),\"m/s\"\n",
      "print\"Velocity of point F is\",round(u_F,2),\"m/s\""
     ],
     "language": "python",
     "metadata": {},
     "outputs": [
      {
       "output_type": "stream",
       "stream": "stdout",
       "text": [
        "Velocity of point E is 28.28 m/s\n",
        "Velocity of point F is 40.0 m/s\n"
       ]
      }
     ],
     "prompt_number": 13
    },
    {
     "cell_type": "heading",
     "level": 2,
     "metadata": {},
     "source": [
      "Example 13.9(D),Page No.485"
     ]
    },
    {
     "cell_type": "code",
     "collapsed": false,
     "input": [
      "import math\n",
      "\n",
      "#Initilization of Variables\n",
      "\n",
      "g=9.81 #Acceleration due to gravity\n",
      "W1=W2=80*1000*g\n",
      "D1=0.75*10**3 #mm\n",
      "R1=0.75*500 #mm\n",
      "a1=0.025 #m/s**2\n",
      "D2=1.2*10**3 #mm\n",
      "R2=1.2*500 #mm\n",
      "a2=0.0625 #m/s**2\n",
      "\n",
      "#Calculation\n",
      "\n",
      "#Horizontal Forces\n",
      "P1=W1*a1*R1**-1 #N\n",
      "P2=W2*a2*R2**-1 #N\n",
      "\n",
      "#Result\n",
      "print\"Horizontal Force required to maintain uniform speed is\",round(P1,2),\"N\"\n",
      "print\"Horizontal Force for truck and trailer is\",round(P2,2),\"N\""
     ],
     "language": "python",
     "metadata": {},
     "outputs": [
      {
       "output_type": "stream",
       "stream": "stdout",
       "text": [
        "Horizontal Force required to maintain uniform speed is 52.32 N\n",
        "Horizontal Force for truck and trailer is 81.75 N\n"
       ]
      }
     ],
     "prompt_number": 14
    }
   ],
   "metadata": {}
  }
 ]
}