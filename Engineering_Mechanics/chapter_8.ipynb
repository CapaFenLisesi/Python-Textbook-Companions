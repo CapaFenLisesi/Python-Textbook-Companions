{
 "metadata": {
  "name": "chapter_8.ipynb"
 },
 "nbformat": 3,
 "nbformat_minor": 0,
 "worksheets": [
  {
   "cells": [
    {
     "cell_type": "heading",
     "level": 1,
     "metadata": {},
     "source": [
      "Chapter 8:Friction"
     ]
    },
    {
     "cell_type": "heading",
     "level": 2,
     "metadata": {},
     "source": [
      "Example 8.1,Page No.235"
     ]
    },
    {
     "cell_type": "code",
     "collapsed": false,
     "input": [
      "import math\n",
      "\n",
      "#Declaration Of Variables\n",
      "\n",
      "W=100 #N #Weight of Body\n",
      "P=F=60 #N #Horizontal Force\n",
      "\n",
      "#Calculations\n",
      "\n",
      "#Normal Reaction Force \n",
      "R=W=100 #N\n",
      "\n",
      "#Coefficient of Friction\n",
      "mu=F*R**-1 \n",
      "\n",
      "#Result\n",
      "print\"Coefficient of Friction is\",round(mu,2)"
     ],
     "language": "python",
     "metadata": {},
     "outputs": [
      {
       "output_type": "stream",
       "stream": "stdout",
       "text": [
        "Coefficient of Friction is 0.6\n"
       ]
      }
     ],
     "prompt_number": 1
    },
    {
     "cell_type": "heading",
     "level": 2,
     "metadata": {},
     "source": [
      "Example 8.2,Page No.236"
     ]
    },
    {
     "cell_type": "code",
     "collapsed": false,
     "input": [
      "import math\n",
      "\n",
      "#Declaration Of Variables\n",
      "\n",
      "W=200 #N #Weight of Body\n",
      "mu=0.3 #Coefficient of Friction\n",
      "\n",
      "#Calculations\n",
      "\n",
      "#Normal Reaction\n",
      "R=W=200 #N\n",
      "\n",
      "#Horizontal Force\n",
      "F=mu*R #N\n",
      "\n",
      "#Result\n",
      "print\"Horizontal Force is\",round(F,2),\"N\""
     ],
     "language": "python",
     "metadata": {},
     "outputs": [
      {
       "output_type": "stream",
       "stream": "stdout",
       "text": [
        "Horizontal Force is 60.0 N\n"
       ]
      }
     ],
     "prompt_number": 2
    },
    {
     "cell_type": "heading",
     "level": 2,
     "metadata": {},
     "source": [
      "Example 8.3,Page No.236"
     ]
    },
    {
     "cell_type": "code",
     "collapsed": false,
     "input": [
      "import math\n",
      "from math import sin, cos, tan, radians, pi\n",
      "\n",
      "#Declaration Of Variables\n",
      "\n",
      "W=50 #N #WEight \n",
      "F=15 #N #Force required to pull\n",
      "theta=15 #Degree #Angle made by Force\n",
      "\n",
      "#Calculations\n",
      "\n",
      "#Normal Reaction\n",
      "R=W-F*sin(theta*pi*180**-1) #N\n",
      "\n",
      "#Coefficient of friction\n",
      "mu=F*cos(theta*pi*180**-1)*R**-1 #N\n",
      "\n",
      "\n",
      "#Result\n",
      "print\"Coefficient of Friction is\",round(mu,2)"
     ],
     "language": "python",
     "metadata": {},
     "outputs": [
      {
       "output_type": "stream",
       "stream": "stdout",
       "text": [
        "Coefficient of Friction is 0.31\n"
       ]
      }
     ],
     "prompt_number": 3
    },
    {
     "cell_type": "heading",
     "level": 2,
     "metadata": {},
     "source": [
      "Example 8.4,Page No.236"
     ]
    },
    {
     "cell_type": "code",
     "collapsed": false,
     "input": [
      "import math\n",
      "from math import sin, cos, tan, radians, pi\n",
      "\n",
      "#Declaration Of Variables\n",
      "\n",
      "W=70 #N #Weight of Body\n",
      "F=20 #N #force applied\n",
      "theta=20 #degrees #Angle made by Force\n",
      "\n",
      "#Calculations\n",
      "\n",
      "#resolving Forces Normal to plane\n",
      "R=W+F*sin(20*pi*180**-1) #N\n",
      "\n",
      "#Resolving Forces along the plane\n",
      "mu=F*cos(20*pi*180**-1)*R**-1 #N\n",
      "\n",
      "#Result\n",
      "print\"coefficient of Friction is\",round(mu,2)"
     ],
     "language": "python",
     "metadata": {},
     "outputs": [
      {
       "output_type": "stream",
       "stream": "stdout",
       "text": [
        "coefficient of Friction is 0.24\n"
       ]
      }
     ],
     "prompt_number": 4
    },
    {
     "cell_type": "heading",
     "level": 2,
     "metadata": {},
     "source": [
      "Example 8.5,Page No.237"
     ]
    },
    {
     "cell_type": "code",
     "collapsed": false,
     "input": [
      "import math\n",
      "\n",
      "#Declaration Of Variables\n",
      "\n",
      "P1=20 #N #pull\n",
      "P2=25 #N #Required push\n",
      "theta2=25 #Inclination of push\n",
      "\n",
      "#Calculations\n",
      "\n",
      "#Case-1 (When body is pulled)\n",
      "\n",
      "#Resolving Forces along the plane\n",
      "#mu*R1=P1*cos(theta*pi*180**-1) #N    .........1\n",
      "\n",
      "#Resolving Force normal to plane\n",
      "#R1=W-P1*sin(theta*pi*180**-1) #N  \n",
      "\n",
      "#Sub value of mu*R1 in above Equation we get\n",
      "#mu*(W-8.452)=18.126      ......................2\n",
      "\n",
      "#Case-2 (When body is pushed)\n",
      "\n",
      "#Resolving Forces along the plane\n",
      "#mu*R2=P2*cos(theta2*pi*180**-1) #N    .........3\n",
      "\n",
      "#Resolving Force normal to plane\n",
      "#R2=W-P2*cos(theta*pi*180**-1) #N   \n",
      "\n",
      "#Sub value of mu*R2 in above Equation we get\n",
      "#mu*(W-10.565)=22.657      .................4\n",
      "\n",
      "\n",
      "#dividing equation 2 by 4 and Further simplifying we get\n",
      "\n",
      "#Weight of body\n",
      "W=383*4.53**-1\n",
      "\n",
      "#Sub value of W in Equation 2\n",
      "mu=18.126*(W-8.452)**-1  \n",
      "\n",
      "\n",
      "#Result\n",
      "print\"Weight of Body is\",round(W,2),\"N\"\n",
      "print\"Coefficient of Friction is\",round(mu,2)"
     ],
     "language": "python",
     "metadata": {},
     "outputs": [
      {
       "output_type": "stream",
       "stream": "stdout",
       "text": [
        "Weight of Body is 84.55 N\n",
        "Coefficient of Friction is 0.24\n"
       ]
      }
     ],
     "prompt_number": 5
    },
    {
     "cell_type": "heading",
     "level": 2,
     "metadata": {},
     "source": [
      "Example 8.7,Page No.239"
     ]
    },
    {
     "cell_type": "code",
     "collapsed": false,
     "input": [
      "import math\n",
      "from math import sin, cos, tan, radians, pi\n",
      "import numpy as np\n",
      "\n",
      "#Declaration Of Variables\n",
      "\n",
      "W=1000 #N #Weight of stone Block\n",
      "mu=0.6 #Coefficient of Friction\n",
      "theta=20 #Degrees #Angle with Horizontal\n",
      "\n",
      "#Calculations\n",
      "\n",
      "#PArt-1\n",
      "#resolving Horizontal Forces\n",
      "#P*cos(theta)=mu*R    ...........................1\n",
      "\n",
      "#Resolving Verticla Forces\n",
      "#R+P*sin(theta)=W    .............................2\n",
      "\n",
      "#Sub value of P from equation 2,we get\n",
      "P=mu*W*(cos(theta*pi*180**-1)+mu*sin(theta*pi*180**-1))**-1 #N   ........3\n",
      "\n",
      "#PArt-2\n",
      "#Let phi=Angle of Friction\n",
      "\n",
      "#Form Equation 3 ,angle 20 is replaced by angle phi\n",
      "#Force required to pull the body\n",
      "#P2=mu*W*(cos(phi)+mu*sin(phi))**-1\n",
      "\n",
      "#The Force P will be min if Dericative of (cos(phi)+mu*sin(phi)) is equal to zero\n",
      "phi=np.arctan(mu)*(180*pi**-1) #degrees\n",
      "\n",
      "#Force required to pull the body\n",
      "P2=mu*W*(cos(phi*pi*180**-1)+mu*sin(phi*pi*180**-1))**-1 #N\n",
      "\n",
      "#Result\n",
      "print\"Minimum Pull necessary is\",round(P,2),\"N\"\n",
      "print\"Pull Required if inclination of rope is equal to angle of friction\",round(P,2),\"N\""
     ],
     "language": "python",
     "metadata": {},
     "outputs": [
      {
       "output_type": "stream",
       "stream": "stdout",
       "text": [
        "Minimum Pull necessary is 524.06 N\n",
        "Pull Required if inclination of rope is equal to angle of friction 524.06 N\n"
       ]
      }
     ],
     "prompt_number": 1
    },
    {
     "cell_type": "heading",
     "level": 2,
     "metadata": {},
     "source": [
      "Example 8.11,Page No.241"
     ]
    },
    {
     "cell_type": "code",
     "collapsed": false,
     "input": [
      "import math\n",
      "from math import sin, cos, tan, radians, pi\n",
      "\n",
      "#Declaration Of Variables\n",
      "\n",
      "W=500 #N #weight of Body\n",
      "P=350 #N #Force applied\n",
      "alpha=30 #Degrees #Inclination\n",
      "\n",
      "#Calculations\n",
      "\n",
      "#Resolving Weights\n",
      "W1=W*sin(30*pi*180**-1) #N\n",
      "W2=W*cos(30*pi*180**-1) #N\n",
      "\n",
      "#Resolving Forces Vertically\n",
      "#R=W*cos(30)\n",
      "\n",
      "#Resolving Forces Horizontally\n",
      "mu=(P-W*sin(alpha*pi*180**-1))*(W*cos(alpha*pi*180**-1))**-1 \n",
      "\n",
      "\n",
      "#Result\n",
      "print\"Coefficient Of Friction\",round(mu,2)"
     ],
     "language": "python",
     "metadata": {},
     "outputs": [
      {
       "output_type": "stream",
       "stream": "stdout",
       "text": [
        "Coefficient Of Friction 0.23\n"
       ]
      }
     ],
     "prompt_number": 7
    },
    {
     "cell_type": "heading",
     "level": 2,
     "metadata": {},
     "source": [
      "Example 8.12,Page No.246"
     ]
    },
    {
     "cell_type": "code",
     "collapsed": false,
     "input": [
      "import math\n",
      "from math import sin, cos, tan, radians, pi\n",
      "\n",
      "#Declaration Of Variables\n",
      "\n",
      "W=450 #N #Weight of Body\n",
      "alpha=30 #Degrees #Inclination of plane\n",
      "mu=0.25 #coefficient of friction\n",
      "d=10 #m #Distance travelled by body\n",
      "\n",
      "#Calculations\n",
      "\n",
      "#Resolving Force normal to plane\n",
      "R=W*cos(alpha*pi*180**-1)\n",
      "\n",
      "#Resolving Forces along the plane\n",
      "P=W*sin(alpha*pi*180**-1)+mu*R #N\n",
      "\n",
      "#Work done on the body\n",
      "W=P*d #J\n",
      "\n",
      "#Result\n",
      "print\"Force required is\",round(P,2),\"N\"\n",
      "print\"Work done is\",round(W,2),\"J\"                               "
     ],
     "language": "python",
     "metadata": {},
     "outputs": [
      {
       "output_type": "stream",
       "stream": "stdout",
       "text": [
        "Force required is 322.43 N\n",
        "Work done is 3224.28 J\n"
       ]
      }
     ],
     "prompt_number": 8
    },
    {
     "cell_type": "heading",
     "level": 2,
     "metadata": {},
     "source": [
      "Example 8.13,Page No.246"
     ]
    },
    {
     "cell_type": "code",
     "collapsed": false,
     "input": [
      "import math\n",
      "from math import sin, cos, tan, radians, pi\n",
      "\n",
      "#Declaration Of Variables\n",
      "\n",
      "#Case-1\n",
      "P1=200 #N #Force applied\n",
      "theta1=15 #Degrees #Inclination\n",
      "\n",
      "P2=230 #N #Force applied\n",
      "theta2=20 #Degrees #Inclination\n",
      "\n",
      "#Calculations\n",
      "\n",
      "#For Case-1,\n",
      "\n",
      "#W1=W*sin(theta1*pi*180**-1) #N\n",
      "#W2=W*cos(theta1*pi*180**-1) #N\n",
      "\n",
      "#Resolving Forces Vertically\n",
      "#R=W2\n",
      "\n",
      "#Resolving Foces Horizontally\n",
      "#mu*W2+W1=P1   .......................1\n",
      "\n",
      "#For case-2\n",
      "\n",
      "#W3=W*sin(theta2*pi*180**-1) #N\n",
      "#W4=W*cos(theta2*pi*180**-1) #N\n",
      "\n",
      "#Resolving Forces Vertically\n",
      "#R=W3\n",
      "\n",
      "#Resolving Foces Horizontally\n",
      "#mu*W3+W4=P2   .......................2\n",
      "\n",
      "#After sub values inequations 1 & 2 and dividing equations  2 by 1 we get\n",
      "mu=mu=(P1*sin(20*pi*180**-1)-P2*sin(15*pi*180**-1))*(P2*cos(15*pi*180**-1)-P1*cos(20*pi*180**-1))**-1 \n",
      "\n",
      "#weight of Body\n",
      "W=P2*(sin(theta2*pi*180**-1)+mu*cos(theta2*pi*180**-1))**-1 #N\n",
      "\n",
      "#Result\n",
      "print\"Weight of Body is\",round(W,2),\"N\"\n",
      "print\"Coefficient of Friction is\",round(mu,2)"
     ],
     "language": "python",
     "metadata": {},
     "outputs": [
      {
       "output_type": "stream",
       "stream": "stdout",
       "text": [
        "Weight of Body is 392.68 N\n",
        "Coefficient of Friction is 0.26\n"
       ]
      }
     ],
     "prompt_number": 9
    },
    {
     "cell_type": "heading",
     "level": 2,
     "metadata": {},
     "source": [
      "Example 8.15,Page No.249"
     ]
    },
    {
     "cell_type": "code",
     "collapsed": false,
     "input": [
      "import math\n",
      "from math import sin, cos, tan, radians, pi\n",
      "\n",
      "#Declaration Of Variables\n",
      "\n",
      "W=15 #N #Weight of Block\n",
      "T=5 #N #Tension in string\n",
      "alpha=45 #Degrees #Inclination\n",
      "\n",
      "#Calculations\n",
      "\n",
      "#Frictional Foce on Block\n",
      "F=-(T*cos(alpha*pi*180**-1)-W*sin(alpha*pi*180**-1)) #N\n",
      "\n",
      "#Normal Reaction of inclined plane\n",
      "R=(W*cos(alpha*pi*180**-1)+T*sin(alpha*pi*180**-1)) #N\n",
      "\n",
      "#Coefficient of friction \n",
      "mu=F*R**-1 \n",
      "\n",
      "#Result\n",
      "print\"Frictional Force on Block is\",round(F,2),\"N\"\n",
      "print\"Normal Reaction of inclined plane\",round(R,2),\"N\"\n",
      "print\"Coefficient of friction\",round(mu,2)"
     ],
     "language": "python",
     "metadata": {},
     "outputs": [
      {
       "output_type": "stream",
       "stream": "stdout",
       "text": [
        "Frictional Force on Block is 7.07 N\n",
        "Normal Reaction of inclined plane 14.14 N\n",
        "Coefficient of friction 0.5\n"
       ]
      }
     ],
     "prompt_number": 10
    },
    {
     "cell_type": "heading",
     "level": 2,
     "metadata": {},
     "source": [
      "Example 8.16,Page No.250"
     ]
    },
    {
     "cell_type": "code",
     "collapsed": false,
     "input": [
      "import math\n",
      "from math import sin, cos, tan, radians, pi\n",
      "\n",
      "#Declaration Of Variables\n",
      "\n",
      "mu_s=0.4 #Coefficient of static Friction\n",
      "mu_k=0.3 #Coefficient of Kinetic friction\n",
      "M=40 #Kg #MAss of body\n",
      "g=9.81 #acceleration due to gravity\n",
      "W=M*g #N\n",
      "theta=40 \n",
      "alpha=30 #Inclination\n",
      "P=800 #N\n",
      "\n",
      "#Calculations\n",
      "\n",
      "#normal Reaction \n",
      "R=P*sin(theta*pi*180**-1)+M*g*cos(alpha*pi*180**-1) #N\n",
      "\n",
      "#Max Frictional Force\n",
      "F=mu_s*R #N\n",
      "\n",
      "#Total Force along plane\n",
      "F=P*cos(theta*pi*180**-1)-M*g*sin(alpha*pi*180**-1) #N\n",
      "\n",
      "#Magntude of Frictional Force\n",
      "F2=mu_k*R #N\n",
      "\n",
      "#Result\n",
      "print\"Magnitude of Friction Force\",round(F2,2),\"N\""
     ],
     "language": "python",
     "metadata": {},
     "outputs": [
      {
       "output_type": "stream",
       "stream": "stdout",
       "text": [
        "Magnitude of Friction Force 256.22 N\n"
       ]
      }
     ],
     "prompt_number": 11
    },
    {
     "cell_type": "heading",
     "level": 2,
     "metadata": {},
     "source": [
      "Example 8.17,Page No.252"
     ]
    },
    {
     "cell_type": "code",
     "collapsed": false,
     "input": [
      "import math\n",
      "from math import sin, cos, tan, radians, pi\n",
      "import numpy as np\n",
      "\n",
      "#Declaration Of Variables\n",
      "\n",
      "W=30 #N #Weight acting vertically downward\n",
      "P2=6 #N #Force at angle of 30 with inclined plane\n",
      "theta=30 #Degrees #Inclination of force with the inclined plane\n",
      "mu=0.3 #Coefficient of friction\n",
      "\n",
      "#Calculations\n",
      "\n",
      "#Part-1\n",
      "\n",
      "#Reaction Force is given by\n",
      "#R=W*cos(alpha)-P2*sin(theta)\n",
      "\n",
      "#Now resolving Force we get\n",
      "alpha=np.arcsin(P2*cos(theta*pi*180**-1)*W**-1)\n",
      "alpha2=180*pi**-1*alpha #degrees\n",
      "\n",
      "#PArt-2\n",
      "\n",
      "#resolving Forces normal to inclined plane\n",
      "R=W*cos(round(alpha2,2)*pi*180**-1) #N\n",
      "\n",
      "#Resolving Forces normal to inclined plane\n",
      "P1=W*sin(round(alpha2,2)*pi*180**-1)+mu*round(R,2)\n",
      "\n",
      "#Result\n",
      "print\"Force required to move a load 30 N up a rough plane is\",round(P1,2),\"N\""
     ],
     "language": "python",
     "metadata": {},
     "outputs": [
      {
       "output_type": "stream",
       "stream": "stdout",
       "text": [
        "Force required to move a load 30 N up a rough plane is 14.06 N\n"
       ]
      }
     ],
     "prompt_number": 2
    },
    {
     "cell_type": "heading",
     "level": 2,
     "metadata": {},
     "source": [
      "Example 8.18,Page No.253"
     ]
    },
    {
     "cell_type": "code",
     "collapsed": false,
     "input": [
      "import math\n",
      "\n",
      "#Declaration Of Variables\n",
      "\n",
      "W1=400 #N #Weight of first body\n",
      "W2=800 #N #Weight of second body\n",
      "mu1=0.15 #Coefficient of friction of first body\n",
      "mu2=0.40 #Coefficient of friction of seconnd body\n",
      "\n",
      "#Calculations\n",
      "\n",
      "#Forces acting on the first body\n",
      "\n",
      "#Resolving force along plane\n",
      "#W1*sin(alpha)=T+mu1*R1   ............................1\n",
      "\n",
      "#Resolving Forces normal to plane\n",
      "#W1*cos(alpha)=R1\n",
      "\n",
      "#Sub value of R1 in equation1,we get\n",
      "#T=400*sin(alpha)-60*cos(alpha)  .......................2\n",
      "\n",
      "#Forces on second body\n",
      "\n",
      "#Resolving forces along the plane\n",
      "#W2*sin(alpha)+T=mu2*R2   .........................3\n",
      "\n",
      "#Resolving forces normal to plane\n",
      "#R2=W2*cos(alpha)\n",
      "\n",
      "#sub value of R2 in equation3\n",
      "#T=320*cos(alpha)-W2*sin(alpha)  ...............4\n",
      "\n",
      "#Equating values of T,given by equation 2 and 3\n",
      "#W1*sin(alpha)-60*cos(alpha)=320*cos(alpha)-W2*sin(alpha)\n",
      "#Further simplifying we get\n",
      "alpha=arctan(380*1200**-1)*(180*pi**-1) #Degrees\n",
      "\n",
      "#Sub value of alpha in equation 2\n",
      "T=W1*sin(round(alpha,2)*pi*180**-1)-60*cos(round(alpha,2)*pi*180**-1)\n",
      "\n",
      "#Result\n",
      "print\"Inclination of the plane to the horizontal is\",round(alpha,2),\"Degrees\"\n",
      "print\"Tension in the cord is\",round(T,2),\"N\""
     ],
     "language": "python",
     "metadata": {},
     "outputs": [
      {
       "output_type": "stream",
       "stream": "stdout",
       "text": [
        "Inclination of the plane to the horizontal is 17.57 Degrees\n",
        "Tension in the cord is 63.55 N\n"
       ]
      }
     ],
     "prompt_number": 13
    },
    {
     "cell_type": "heading",
     "level": 2,
     "metadata": {},
     "source": [
      "Example 8.19,Page No.255"
     ]
    },
    {
     "cell_type": "code",
     "collapsed": false,
     "input": [
      "import math\n",
      "\n",
      "#Declaration Of Variables\n",
      "\n",
      "W_B=1500 #N #Weight of block B\n",
      "mu_A=0.25 #Coefficint of friction of block A\n",
      "mu_B=0.35 #Coefficient of Friction of block B\n",
      "alpha=60 #Degrees\n",
      "\n",
      "#Calculations\n",
      "\n",
      "#BLock A\n",
      "#F_A=mu_A*W_A #Force of friction\n",
      "\n",
      "#Block B\n",
      "#HOrizontal Force of friction of block A is transmitted through rod to block B\n",
      "\n",
      "#Force of friction of block B\n",
      "#F_B=mu2*R_B\n",
      "\n",
      "#Resolving Horizontal Forces\n",
      "#mu1*W_A+F_B*cos(alpha)=R_B*cos(30)\n",
      "#After further simplifying we get\n",
      "#mu_A*W_A=0.691*R_B   ...........................1\n",
      "\n",
      "#Resolving Forces vertically\n",
      "#R_B*sin(30)+F_B*sin(alpha)=W_B\n",
      "#After further simplifying we get\n",
      "R_B=W_B*0.803**-1 #N\n",
      "\n",
      "#Sub value of R_b in equation 1 we get\n",
      "W_A=0.691*R_B*mu_A**-1\n",
      "\n",
      "#Result\n",
      "print\"Smallest Weight of Block A is\",round(W_A,2),\"N\""
     ],
     "language": "python",
     "metadata": {},
     "outputs": [
      {
       "output_type": "stream",
       "stream": "stdout",
       "text": [
        "Smallest Weight of Block A is 5163.14 N\n"
       ]
      }
     ],
     "prompt_number": 14
    },
    {
     "cell_type": "heading",
     "level": 2,
     "metadata": {},
     "source": [
      "Example 8.20,Page No.257"
     ]
    },
    {
     "cell_type": "code",
     "collapsed": false,
     "input": [
      "import math\n",
      "from math import sin, cos, tan, radians, pi\n",
      "\n",
      "#Declaration Of Variables \n",
      "\n",
      "W_A=100 #N Weight of block A\n",
      "W_B=300 #N #Weight of block B\n",
      "alpha=45 #Degrees #Inclination of plane\n",
      "phi=30 #Degrees #Inclination of rigid bar with horizontal \n",
      "mu=tan(15*pi*180**-1) #Degrees\n",
      "\n",
      "#Calculations\n",
      "\n",
      "#LEt R_A and R_B be the reactions at A And B respectively and t be the thrust in rod\n",
      "\n",
      "#Equilibrium of bLoack A\n",
      "#Resolving forces along plane\n",
      "#W_A*sin(alpha)+F_A=T*cos(15)\n",
      "#After further simplifying we get\n",
      "#70.7+0.2679*R_A=0.969*T    .................1\n",
      "\n",
      "#Resolving force snormal to plane\n",
      "#R_A=W_A*cos(alpha)+T*sin(15)=R_A\n",
      "\n",
      "#Now sub value of R_A in equation 1 we get\n",
      "#70.7+0.269*(100*0.707+T*0.2588)=0.9659*T\n",
      "#After further simplifying we get\n",
      "T=89.64*0.8966**-1 #N\n",
      "\n",
      "#Equilibrium of block B\n",
      "#Resolving forces normal to plane\n",
      "R_B=W_B+T*sin(phi*180**-1*pi)\n",
      "#Resolving forces along plane\n",
      "P=T*cos(phi*pi*180**-1)+mu*R_B\n",
      "\n",
      "#Result\n",
      "print\"HOrizontal Force required to be apllied to block B to just move block A is\",round(P,2),\"N\""
     ],
     "language": "python",
     "metadata": {},
     "outputs": [
      {
       "output_type": "stream",
       "stream": "stdout",
       "text": [
        "HOrizontal Force required to be apllied to block B to just move block A is 180.36 N\n"
       ]
      }
     ],
     "prompt_number": 15
    },
    {
     "cell_type": "heading",
     "level": 2,
     "metadata": {},
     "source": [
      "Example 8.21,Page No.258"
     ]
    },
    {
     "cell_type": "code",
     "collapsed": false,
     "input": [
      "import math\n",
      "from math import sin, cos, tan, radians, pi\n",
      "import numpy as np\n",
      "\n",
      "#Declaration Of Variables\n",
      "\n",
      "mu=0.2 #Coefficient of friction\n",
      "W1=100 #N #weight of Block1\n",
      "W2=150 #N #Weight of Block2\n",
      "theta=60 #Degrees\n",
      "\n",
      "#Calculations\n",
      "\n",
      "#Case-1\n",
      "\n",
      "#Reaction Force \n",
      "R=W2*cos(theta*pi*180**-1) #N\n",
      "\n",
      "#Tension in the string\n",
      "T=W2*sin(theta*pi*180**-1)+mu*R #N\n",
      "\n",
      "#Case-2\n",
      "\n",
      "theta2=np.arctan(mu)*(pi**-1*180) #Angle made by Force with horizontal acting on block 1\n",
      "\n",
      "#Force on block with weight 100 N\n",
      "P=164.9*((cos(theta2*pi*180**-1)+mu*sin(theta2*pi*180**-1))**-1)\n",
      "\n",
      "#Result\n",
      "print\"Least Value of Force P to cause motion to impend rightwards is\",round(P,2),\"N\""
     ],
     "language": "python",
     "metadata": {},
     "outputs": [
      {
       "output_type": "stream",
       "stream": "stdout",
       "text": [
        "Least Value of Force P to cause motion to impend rightwards is 161.7 N\n"
       ]
      }
     ],
     "prompt_number": 16
    },
    {
     "cell_type": "heading",
     "level": 2,
     "metadata": {},
     "source": [
      "Example 8.22,Page No.260"
     ]
    },
    {
     "cell_type": "code",
     "collapsed": false,
     "input": [
      "import math\n",
      "from math import sin, cos, tan, radians, pi\n",
      "import numpy as np\n",
      "\n",
      "#Declaration Of Variables\n",
      "\n",
      "W1=90 #N #Weight of Block 1\n",
      "W2=30 #N #Weight of Block2\n",
      "mu=1*3**-1 #Coefficient of friction\n",
      "\n",
      "#Calculations\n",
      "\n",
      "#Considering Equilibrium of weight W2\n",
      "\n",
      "#Tension in the string\n",
      "#T=W2*sin(theta)+mu*R1 .....................................1\n",
      "\n",
      "#Normal reaction to the plane\n",
      "#R1=W2*cos(theta)    .......................................2\n",
      "\n",
      "#Sub value of R1 in equation 1 we get\n",
      "#T=W2*sin(theta)+10*cos(theta)    ........................3\n",
      "\n",
      "#Considering Equilibrium of weight W1\n",
      "\n",
      "#Resolving Forces along the plane\n",
      "#W1*sin(theta)=10*cos(theta)+mu*R2    ..................4\n",
      "\n",
      "#Resolving Forces normal to plane\n",
      "#R2=120*cos(theta)   ...........5\n",
      "\n",
      "#Sub value of R2 in equation 4 we get\n",
      "theta=np.arctan(0.5555)*(pi**-1*180) #Degrees\n",
      "\n",
      "#Result\n",
      "print\"Value of angle theta should be\",round(theta,2),\"degrees\""
     ],
     "language": "python",
     "metadata": {},
     "outputs": [
      {
       "output_type": "stream",
       "stream": "stdout",
       "text": [
        "Value of angle theta should be 29.05 degrees\n"
       ]
      }
     ],
     "prompt_number": 17
    },
    {
     "cell_type": "heading",
     "level": 2,
     "metadata": {},
     "source": [
      "Example 8.23,Page No.262"
     ]
    },
    {
     "cell_type": "code",
     "collapsed": false,
     "input": [
      "import math\n",
      "\n",
      "#Declaration Of Variables\n",
      "\n",
      "L_AC=10 #m #Length of AC\n",
      "L_BC=8  #m #Length of BC\n",
      "W=20 #N #weight \n",
      "\n",
      "#Calculations\n",
      "\n",
      "L_AB=(L_AC**2-L_BC**2)**0.5 #m #Length of AB\n",
      "L_CD=L_BC*2**-1 #m\n",
      "\n",
      "#Now Resolving Forces\n",
      "\n",
      "#Vertically\n",
      "#Reaction Force at C\n",
      "R_C=W #N\n",
      "\n",
      "#Horizontally\n",
      "#R_A=F_C=mu*R_C \n",
      "\n",
      "#Taking Moment at pt C\n",
      "#Coefficient of friction \n",
      "mu=W*L_CD*(R_C*L_AB)**-1 \n",
      "\n",
      "#Frictional Force acting at C\n",
      "F_C=round(mu,2)*R_C #N\n",
      "\n",
      "#Result\n",
      "print\"Coefficient of Friction\",round(mu,2)\n",
      "print\"Frictional Force acting at pt C\",round(F_C,2),\"N\""
     ],
     "language": "python",
     "metadata": {},
     "outputs": [
      {
       "output_type": "stream",
       "stream": "stdout",
       "text": [
        "Coefficient of Friction 0.67\n",
        "Frictional Force acting at pt C 13.4 N\n"
       ]
      }
     ],
     "prompt_number": 18
    },
    {
     "cell_type": "heading",
     "level": 2,
     "metadata": {},
     "source": [
      "Example 8.24,Page No.263"
     ]
    },
    {
     "cell_type": "code",
     "collapsed": false,
     "input": [
      "import math\n",
      "\n",
      "#Declaration Of Variables\n",
      "\n",
      "L_AB=13 #m #Length of AB\n",
      "W=25 #N #weight of Ladder\n",
      "L_AC=5 #m #Distance of lower ladder from wall\n",
      "mu=0.3 #Coefficient of friction\n",
      "\n",
      "#Calculations\n",
      "\n",
      "#Forces on the ladder \n",
      "\n",
      "#Vertical Forces\n",
      "R_A=W #N\n",
      "\n",
      "#Horizontal Forces\n",
      "R_B=F_A=mu*R_A #N\n",
      "\n",
      "#MAx amount of frictional Force availale at A\n",
      "F_A #N\n",
      "\n",
      "L_AD=L_CD=2.5 #m #Length of AD and CD\n",
      "L_BC=(L_AB**2-L_AC**2)**0.5 #m\n",
      "\n",
      "#Moment at pt A\n",
      "R_B2=R_A*L_AD*L_BC**-1 #N\n",
      "\n",
      "#Horizontal Forces\n",
      "F_A2=R_B2 #N\n",
      "\n",
      "#Result\n",
      "print\"Frictional Force acting on ladder is\",round(F_A,2),\"N\""
     ],
     "language": "python",
     "metadata": {},
     "outputs": [
      {
       "output_type": "stream",
       "stream": "stdout",
       "text": [
        "Frictional Force acting on ladder is 7.5 N\n"
       ]
      }
     ],
     "prompt_number": 19
    },
    {
     "cell_type": "heading",
     "level": 2,
     "metadata": {},
     "source": [
      "Example 8.25,Page No.264"
     ]
    },
    {
     "cell_type": "code",
     "collapsed": false,
     "input": [
      "import math\n",
      "from math import sin, cos, tan, radians, pi\n",
      "\n",
      "#Declaration Of Variables\n",
      "\n",
      "L_AB=14 #m #Length of AB\n",
      "W=600 #N #weight of Ladder\n",
      "L_AD=8 #m #Distance of lower ladder from wall\n",
      "L_BD=6 #m #LEngth of BD\n",
      "mu=1*3**-1 #Coefficient of friction\n",
      "CBA=60 #Degrees\n",
      "\n",
      "#Calculations\n",
      "\n",
      "#Resolving forces\n",
      "\n",
      "#Vertically\n",
      "R_B=W #N\n",
      "#Actual Force of friction at pt B\n",
      "F_B=mu*R_B #N\n",
      "\n",
      "\n",
      "#Horizontally\n",
      "R_A=F_B #N\n",
      "\n",
      "\n",
      "L_BE=L_BD*cos(CBA*pi*180**-1) #m\n",
      "L_AC=L_AB*sin(CBA*pi*180**-1) #m\n",
      "\n",
      "R_A2=R_B*L_BE*L_AC**-1\n",
      "F_B2=R_A2 #N\n",
      "\n",
      "\n",
      "#Result\n",
      "print\"Force available at B the force required force for equilibrium,the ladder will be stable:F_B is\",round(F_B,2),\"N\""
     ],
     "language": "python",
     "metadata": {},
     "outputs": [
      {
       "output_type": "stream",
       "stream": "stdout",
       "text": [
        "Force available at B the force required force for equilibrium,the ladder will be stable:F_B is 200.0 N\n"
       ]
      }
     ],
     "prompt_number": 20
    },
    {
     "cell_type": "heading",
     "level": 2,
     "metadata": {},
     "source": [
      "Example 8.26,Page No.265"
     ]
    },
    {
     "cell_type": "code",
     "collapsed": false,
     "input": [
      "import math\n",
      "from math import sin, cos, tan, radians, pi\n",
      "\n",
      "#Declaration Of Variables\n",
      "\n",
      "W=850 #N #Weight of ladder\n",
      "L=L_AB=6 #m #Length of AB\n",
      "alpha=65 #Degrees #Angle made by ladder with ladder\n",
      "W1=750 #N #Weight of man\n",
      "L1=4 #m #Distance of man from top of ladder\n",
      "L2=L-L1 #m #Distance of man form foot of ladder\n",
      "L_BE=4 #m #Length of BE\n",
      "\n",
      "#Calculations\n",
      "\n",
      "#Forces acting on the ladder\n",
      "\n",
      "#Resolving Forces Vertically\n",
      "R_A=W+W1 #N\n",
      "\n",
      "#Horizontally\n",
      "#R_B=F_A=mu*R_A #N\n",
      "\n",
      "L_BC=L_AB*sin(alpha*pi*180**-1) #m #Length of BC\n",
      "L_AC=L_AB*cos(alpha*pi*180**-1) #m #Length of AC\n",
      "\n",
      "L_AD=L_AC*2**-1 #m #Length of AD\n",
      "L_AH=(L_AB-L_BE)*cos(alpha*pi*180**-1) #m\n",
      "\n",
      "#Coefficient of friction\n",
      "mu=(W1*L_AD+W*L_AH)*(L_BC*R_A)**-1\n",
      "\n",
      "#Result\n",
      "print\"Coefficient of friction is\",round(mu,2)"
     ],
     "language": "python",
     "metadata": {},
     "outputs": [
      {
       "output_type": "stream",
       "stream": "stdout",
       "text": [
        "Coefficient of friction is 0.19\n"
       ]
      }
     ],
     "prompt_number": 21
    },
    {
     "cell_type": "heading",
     "level": 2,
     "metadata": {},
     "source": [
      "Example 8.27,Page No.266"
     ]
    },
    {
     "cell_type": "code",
     "collapsed": false,
     "input": [
      "import math\n",
      "from math import sin, cos, tan, radians, pi\n",
      "import numpy as np\n",
      "\n",
      "#Declaration Of Variables\n",
      "\n",
      "W=200 #N #Weight of ladder\n",
      "L=L_AB=4.5 #m\n",
      "mu=0.4 #Coefficient of friction between ladder and floor\n",
      "mu2=0.2 #coefficient of frictionbetween LAdder and wall\n",
      "W1=900 #N #Weight on ladder \n",
      "L_BE=1.2 #m #distance\n",
      "\n",
      "#Calculations\n",
      "\n",
      "#FOrces acting on ladder\n",
      "\n",
      "#Resolving FOrces Vertically\n",
      "#R_A+F_B=W1+W #N   ................1\n",
      "\n",
      "#Horizontally\n",
      "#R_B=mu*R_A  .....................2\n",
      "\n",
      "#Resolving Force R_B in equation 1 we get\n",
      "R_A=(W1+W)*1.08**-1 #N\n",
      "\n",
      "#Reaction at B\n",
      "R_B=mu*R_A  #N\n",
      "\n",
      "#Moment at pt A\n",
      "#W*L_AD+W1*L_AH=R_B*L_BC+F_B*L_AC\n",
      "#After further simplifying we get\n",
      "alpha=np.arctan(1.665)*(180*pi**-1)\n",
      "\n",
      "#Result\n",
      "print\"Angle made by ladder with Horizontal\",round(alpha,2),\"Degrees\"\n",
      "print\"Reaction at the Foot of ladder\",round(R_A,2),\"N\"\n",
      "print\"Reaction at the Foot top of ladder\",round(R_B,2),\"N\"\n",
      "\n",
      "#Value of alpha is incorrect in book i.e 59degree 65seconds"
     ],
     "language": "python",
     "metadata": {},
     "outputs": [
      {
       "output_type": "stream",
       "stream": "stdout",
       "text": [
        "Angle made by ladder with Horizontal 59.01 Degrees\n",
        "Reaction at the Foot of ladder 1018.52 N\n",
        "Reaction at the Foot top of ladder 407.41 N\n"
       ]
      }
     ],
     "prompt_number": 4
    },
    {
     "cell_type": "heading",
     "level": 2,
     "metadata": {},
     "source": [
      "Example 8.28,Page No.267"
     ]
    },
    {
     "cell_type": "code",
     "collapsed": false,
     "input": [
      "import math\n",
      "from math import sin, cos, tan, radians, pi\n",
      "\n",
      "#Declaration Of Variables\n",
      "\n",
      "L=5 #m #Length of ladder\n",
      "alpha=30 #Degrees #Angle made by ladder with horizontal\n",
      "W1=250 #N #weight of ladder\n",
      "W2=800 #N #weight of man\n",
      "mu=0.2 #Coefficinet of friction \n",
      "L_AG=5*2**-1 #m\n",
      "\n",
      "#Calculations\n",
      "\n",
      "#Let R_A and R_B be the reactions at A and b respectively\n",
      "#F_B=mu*R_B\n",
      "#F_A=mu*R_A\n",
      "\n",
      "#Resolving forces vertically\n",
      "#R_A+F_B=W1+W2 .............1\n",
      "\n",
      "#Resolving forces horizontally\n",
      "#R_B=0.2*R_A.....................2\n",
      "\n",
      "#After sub values and further simplifying we get\n",
      "R_A=1050*1.04**-1 #N\n",
      "\n",
      "#Sub value of R_A in equation 2 we get\n",
      "R_B=0.2*R_A\n",
      "\n",
      "#Triangle AGD\n",
      "L_AD=L_AG*cos(60*pi*180**-1)\n",
      "\n",
      "#TRiangle AEH\n",
      "#L_AH=x*cos(60) \n",
      "\n",
      "L_BC=L*cos(alpha*pi*180**-1)\n",
      "L_AC=L*cos(60*pi*180**-1)\n",
      "\n",
      "F_B=mu*R_B\n",
      "\n",
      "#Taking moment at A\n",
      "#W2*x*2**-1+W*L_AD=R_B*L_BC+F_B*L_AC\n",
      "#After sub values and further simplifying we get\n",
      "x=66.276*40**-1\n",
      "\n",
      "\n",
      "#Result\n",
      "print\"The slipping will be induced at\",round(x,2),\"m\""
     ],
     "language": "python",
     "metadata": {},
     "outputs": [
      {
       "output_type": "stream",
       "stream": "stdout",
       "text": [
        "The slipping will be induced at 1.66 m\n"
       ]
      }
     ],
     "prompt_number": 3
    },
    {
     "cell_type": "heading",
     "level": 2,
     "metadata": {},
     "source": [
      "Example 8.29,Page No.271"
     ]
    },
    {
     "cell_type": "code",
     "collapsed": false,
     "input": [
      "import math\n",
      "from math import sin, cos, tan, radians, pi\n",
      "import numpy as np\n",
      "\n",
      "#Declaration Of Variables\n",
      "\n",
      "alpha=10 #Degrees #Angle of Wedge\n",
      "W=1500 #N #weight of Block\n",
      "mu=0.3 #Coefficient of friction\n",
      "phi=np.arctan(mu)*(180*pi**-1)\n",
      "\n",
      "#Calculations\n",
      "\n",
      "#Applying Lamis theorem to the point O\n",
      "#W*(sin(2*phi+90+alpha))**-1=R3*(sin(180-(alpha+phi)))**-1=R2*(sin(90-phi))**-1\n",
      "#After further simplifying we get\n",
      "Y=180-(alpha+phi)\n",
      "Z=sin(Y*pi*180**-1)\n",
      "Y1=2*phi+90+alpha\n",
      "Z1=sin(Y1*pi*180**-1)\n",
      "R3=W*(Z)*(Z1)**-1 #N\n",
      "\n",
      "Y2=90-phi\n",
      "Z2=sin(Y2*pi*180**-1)\n",
      "R2=W*Z2*Z1**-1 #N\n",
      "\n",
      "#Applying Lamis theorem to the point L\n",
      "#R1*sin(90+alpha+phi)**-1=R2*sin(90+phi)**-1=P*sin(180-2*phi-alpha)**-1\n",
      "#After further simplifying we get\n",
      "Y3=180-(2*phi+alpha)\n",
      "Z3=sin(Y3*pi*180**-1)\n",
      "P=Z3*R2*Z2**-1 #N\n",
      "\n",
      "\n",
      "#Result\n",
      "print\"Minimum Horizontal force be applied on wedge to raise the block is\",round(P,2),\"N\""
     ],
     "language": "python",
     "metadata": {},
     "outputs": [
      {
       "output_type": "stream",
       "stream": "stdout",
       "text": [
        "Minimum Horizontal force be applied on wedge to raise the block is 1418.4 N\n"
       ]
      }
     ],
     "prompt_number": 24
    },
    {
     "cell_type": "heading",
     "level": 2,
     "metadata": {},
     "source": [
      "Example 8.30,Page No.277"
     ]
    },
    {
     "cell_type": "code",
     "collapsed": false,
     "input": [
      "import math\n",
      "from math import sin, cos, tan, radians, pi\n",
      "\n",
      "#Declaration Of Variables\n",
      "\n",
      "D=0.1 #m #Diameter\n",
      "R=0.05 #m #Radius\n",
      "N=150 #r.p.m \n",
      "mu=0.05 #Coefficient of friction\n",
      "W=15*10**3 #N #Load\n",
      "\n",
      "#Calculations\n",
      "\n",
      "#Power Loast in friction assuming uniform pressure\n",
      "T=2*3**-1*mu*W*R #N*m\n",
      "\n",
      "#Power Lost in Friction\n",
      "P=2*pi*N*T*60**-1 #W\n",
      "\n",
      "#Power Lost in friction assuming wear\n",
      "T2=0.5*mu*W*R #W\n",
      "\n",
      "#Power Lost in friction\n",
      "P2=2*pi*N*T2*60**-1 #W\n",
      "\n",
      "#Result\n",
      "print\"Power Loast in friction assuming uniform pressure is\",round(P,2),\"W\"\n",
      "print\"Power Lost in friction assuming wear is\",round(P2,2),\"W\""
     ],
     "language": "python",
     "metadata": {},
     "outputs": [
      {
       "output_type": "stream",
       "stream": "stdout",
       "text": [
        "Power Loast in friction assuming uniform pressure is 392.7 W\n",
        "Power Lost in friction assuming wear is 294.52 W\n"
       ]
      }
     ],
     "prompt_number": 5
    },
    {
     "cell_type": "heading",
     "level": 2,
     "metadata": {},
     "source": [
      "Example 8.31,Page No.282"
     ]
    },
    {
     "cell_type": "code",
     "collapsed": false,
     "input": [
      "import math\n",
      "from math import sin, cos, tan, radians, pi\n",
      "\n",
      "#Declaration Of Variables\n",
      "\n",
      "alpha=60 #Degrees\n",
      "mu=0.05 #m #coefficient of friction\n",
      "R=0.15 #m #Radius of shaft\n",
      "W=20*10**3 #N\n",
      "N=210 #r.p.m\n",
      "\n",
      "\n",
      "#Calculations\n",
      "\n",
      "#Frictional Torque\n",
      "T=2*3**-1*mu*W*R*(sin(alpha*pi*180**-1))**-1 #N*m\n",
      "\n",
      "#Power Lost in Friction for uniform pressure\n",
      "P=2*pi*N*T*60**-1*10**-3 #KW\n",
      "\n",
      "#frictional torque\n",
      "T2=1*2**-1*mu*W*R*(sin(alpha*pi*180**-1))**-1 #N*m\n",
      "\n",
      "#Power Loast in friction for uniform wear\n",
      "P2=2*pi*N*T2*60**-1*10**-3 #KW\n",
      "\n",
      "#Result\n",
      "print\"Power Lost in Friction assuming:Uniforming pressure\",round(P,2),\"KW\"\n",
      "print\"                               :Uniform wear\",round(P2,2),\"KW\""
     ],
     "language": "python",
     "metadata": {},
     "outputs": [
      {
       "output_type": "stream",
       "stream": "stdout",
       "text": [
        "Power Lost in Friction assuming:Uniforming pressure 2.54 KW\n",
        "                               :Uniform wear 1.9 KW\n"
       ]
      }
     ],
     "prompt_number": 6
    },
    {
     "cell_type": "heading",
     "level": 2,
     "metadata": {},
     "source": [
      "Example 8.32,Page No.283"
     ]
    },
    {
     "cell_type": "code",
     "collapsed": false,
     "input": [
      "import math\n",
      "from math import sin, cos, tan, radians, pi\n",
      "\n",
      "#Declaration Of Variables\n",
      "\n",
      "W=25*10**3 #N #load\n",
      "alpha=60 #degrees \n",
      "p=350*10**3 #N/m**2 #pressure\n",
      "N=180 #r.p.m\n",
      "mu=0.05 \n",
      "#r1*2*r2\n",
      "\n",
      "#Calculations\n",
      "\n",
      "#From Equation of uniform pressure\n",
      "r2=(W*(pi*p*3)**-1)**0.5 #m\n",
      "r1=2*r2 #m\n",
      "\n",
      "#Frictional Torque\n",
      "T=2*3**-1*mu*W*(sin(alpha*pi*180**-1))**-1*(r1**3-r2**3)*(r1**2-r2**2)**-1 #m\n",
      "\n",
      "#Power absorbed in friction\n",
      "P=2*pi*N*T*60**-1*10**-3 #KW\n",
      "\n",
      "#Result\n",
      "print\"Power absorbed in friction\",round(P,2),\"KW\""
     ],
     "language": "python",
     "metadata": {},
     "outputs": [
      {
       "output_type": "stream",
       "stream": "stdout",
       "text": [
        "Power absorbed in friction 3.68 KW\n"
       ]
      }
     ],
     "prompt_number": 27
    },
    {
     "cell_type": "heading",
     "level": 2,
     "metadata": {},
     "source": [
      "Example 8.33,Page No.286"
     ]
    },
    {
     "cell_type": "code",
     "collapsed": false,
     "input": [
      "import math\n",
      "\n",
      "#Declaration Of Variables\n",
      "\n",
      "r1=0.25 #m #External Radius\n",
      "r2=0.15 #m #Internal Radius\n",
      "W=50*10**3 #N #Total axial load\n",
      "mu=0.05 #Coefficient of friction\n",
      "N=150 #r.p.m\n",
      "\n",
      "#Calculations\n",
      "\n",
      "#Torque\n",
      "T=2*3**-1*mu*W*((r1**3-r2**3)*(r1**2-r2**2)**-1) #N*m\n",
      "\n",
      "#Power lost in Frction\n",
      "P=2*pi*N*T*60**-1*10**-3 #KW \n",
      "\n",
      "#Result\n",
      "print\"Power lost in Frction is\",round(P,2),\"KN\""
     ],
     "language": "python",
     "metadata": {},
     "outputs": [
      {
       "output_type": "stream",
       "stream": "stdout",
       "text": [
        "Power lost in Frction is 8.02 KN\n"
       ]
      }
     ],
     "prompt_number": 28
    },
    {
     "cell_type": "heading",
     "level": 2,
     "metadata": {},
     "source": [
      "Example 8.34,Page No.287"
     ]
    },
    {
     "cell_type": "code",
     "collapsed": false,
     "input": [
      "import math\n",
      "from math import sin, cos, tan, radians, pi\n",
      "\n",
      "#Declaration Of Variables\n",
      "\n",
      "r1=0.21 #m #External Radius\n",
      "r2=0.16 #m #Internal Radius\n",
      "W=60*10**3 #N #Total axial load\n",
      "mu=0.05 #Coefficient of friction\n",
      "N=380 #r.p.m\n",
      "p=350*10**3 #N/m**2 #Intensity of pressure\n",
      "\n",
      "#Calculations\n",
      "\n",
      "#Power Loast in Overcoming friction\n",
      "\n",
      "#Torque\n",
      "T=2*3**-1*mu*W*((r1**3-r2**3)*(r1**2-r2**2)**-1) #N*m\n",
      "\n",
      "P=2*pi*N*T*60**-1*10**-3 #KW \n",
      "\n",
      "#Number of collars required\n",
      "\n",
      "#Load per collar\n",
      "W2=p*pi*(r1**2-r2**2)\n",
      "\n",
      "n=W*W2**-1\n",
      "\n",
      "#Result\n",
      "print\"Power Loast in Overcoming friction is\",round(P,2),\"KW\"\n",
      "print\"Number of collars required for the thrust\",round(n,1)"
     ],
     "language": "python",
     "metadata": {},
     "outputs": [
      {
       "output_type": "stream",
       "stream": "stdout",
       "text": [
        "Power Loast in Overcoming friction is 22.22 KW\n",
        "Number of collars required for the thrust 2.9\n"
       ]
      }
     ],
     "prompt_number": 10
    }
   ],
   "metadata": {}
  }
 ]
}