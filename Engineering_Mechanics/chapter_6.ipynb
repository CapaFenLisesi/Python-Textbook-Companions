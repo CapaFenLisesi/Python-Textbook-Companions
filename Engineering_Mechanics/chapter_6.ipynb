{
 "metadata": {
  "name": "chapter_6.ipynb"
 },
 "nbformat": 3,
 "nbformat_minor": 0,
 "worksheets": [
  {
   "cells": [
    {
     "cell_type": "heading",
     "level": 1,
     "metadata": {},
     "source": [
      "Chapter 6:Analysis Of Perfect Frames"
     ]
    },
    {
     "cell_type": "heading",
     "level": 2,
     "metadata": {},
     "source": [
      "Example 6.1,Page No.124"
     ]
    },
    {
     "cell_type": "code",
     "collapsed": false,
     "input": [
      "import math\n",
      "from math import sin, cos, tan, radians, pi\n",
      "\n",
      "#Initilization of Variables\n",
      "\n",
      "F_A=20 #KN #Force at A\n",
      "theta=60 #Degrees\n",
      "alpha=30 #Degrees\n",
      "L_BC=5 #m\n",
      "\n",
      "#Calculations\n",
      "\n",
      "#Length AB\n",
      "L_AB=L_BC*cos(theta*pi*180**-1) #m\n",
      "              \n",
      "#Distance of line of action \n",
      "x=1.25 #m\n",
      "\n",
      "#Reactions\n",
      "R_C=F_A*x*L_BC**-1 #KN\n",
      "R_B=F_A-R_C #KN\n",
      "\n",
      "#Force in AB & BC\n",
      "F_AB=R_B*(sin(theta*pi*180**-1))**-1 #KN\n",
      "F_BC=F_AB*cos(theta*pi*180**-1) #KN\n",
      "\n",
      "#Force in AC & BC\n",
      "F_AC=R_C*(sin(alpha*pi*180**-1))**-1 #KN\n",
      "\n",
      "#Result\n",
      "print\"FOrces in members are:F_AB\",round(F_AB,2),\"KN\"\n",
      "print\"                     :F_BC\",round(F_BC,2),\"KN\"\n",
      "print\"                     :F_AC\",round(F_AC,2),\"KN\"\n",
      "print\"                     :F_BC\",round(F_BC,2),\"KN\""
     ],
     "language": "python",
     "metadata": {},
     "outputs": [
      {
       "output_type": "stream",
       "stream": "stdout",
       "text": [
        "FOrces in members are:F_AB 17.32 KN\n",
        "                     :F_BC 8.66 KN\n",
        "                     :F_AC 10.0 KN\n",
        "                     :F_BC 8.66 KN\n"
       ]
      }
     ],
     "prompt_number": 18
    },
    {
     "cell_type": "heading",
     "level": 2,
     "metadata": {},
     "source": [
      "Example 6.2,Page No.125"
     ]
    },
    {
     "cell_type": "code",
     "collapsed": false,
     "input": [
      "import math\n",
      "from math import sin, cos, tan, radians, pi\n",
      "\n",
      "#Initilization of Variables\n",
      "\n",
      "F_D=1 #KN\n",
      "L_AD=5 #m #Length AD\n",
      "L_AB=7.5 #m #Length AB\n",
      "theta=60 #degrees\n",
      "alpha=30 #Degrees\n",
      "\n",
      "#Calculations\n",
      "\n",
      "#REactions\n",
      "R_B=L_AD*L_AB**-1 #KN\n",
      "R_A=F_D-R_B #KN\n",
      "\n",
      "#Forces\n",
      "\n",
      "F_AC=R_A*(sin(alpha*pi*180**-1))**-1 #KN\n",
      "F_AD=F_AC*cos(alpha*pi*180**-1) #KN\n",
      "F_BC=R_B*(sin(alpha*pi*180**-1))**-1 #KN\n",
      "F_BD=F_BC*(cos(alpha*pi*180**-1)) #KN\n",
      "F_CD=1*(sin(theta*pi*180**-1))**-1\n",
      "\n",
      "#Result\n",
      "print\"forces in members are:F_AC\",round(F_AC,2),\"KN\"\n",
      "print\"                     :F_AD\",round(F_AD,2),\"KN\"\n",
      "print\"                     :F_BC\",round(F_BC,2),\"KN\"\n",
      "print\"                     :F_BD\",round(F_BD,2),\"KN\"\n",
      "print\"                     :F_CD\",round(F_CD,2),\"KN\""
     ],
     "language": "python",
     "metadata": {},
     "outputs": [
      {
       "output_type": "stream",
       "stream": "stdout",
       "text": [
        "forces in members are:F_AC 0.67 KN\n",
        "                     :F_AD 0.58 KN\n",
        "                     :F_BC 1.33 KN\n",
        "                     :F_BD 1.15 KN\n",
        "                     :F_CD 1.15 KN\n"
       ]
      }
     ],
     "prompt_number": 19
    },
    {
     "cell_type": "heading",
     "level": 2,
     "metadata": {},
     "source": [
      "Example 6.3,Page No.127"
     ]
    },
    {
     "cell_type": "code",
     "collapsed": false,
     "input": [
      "import math\n",
      "from math import sin, cos, tan, radians, pi\n",
      "\n",
      "#Initilization of Variables\n",
      "\n",
      "L_AB=5 #m #Length AB\n",
      "theta=60 #Degrees\n",
      "alpha=30 #Degrees\n",
      "F_D=10 #KN\n",
      "F_E=12 #KN\n",
      "\n",
      "#Calculations\n",
      "\n",
      "#Length\n",
      "L_AC=L_AD=L_AB*(cos(theta*pi*180**-1)) #m\n",
      "\n",
      "#Distance of line of action\n",
      "x=1.25 #m\n",
      "\n",
      "L_BC=L_AB-L_AD #m\n",
      "L_BE=L_BC*cos(alpha*pi*180**-1) #m\n",
      "\n",
      "#line of action \n",
      "x2=1.875 #m\n",
      "x3=3.125\n",
      "\n",
      "#Reactions\n",
      "R_B=(F_D*x+F_E*x3)*L_AB**-1 #KN\n",
      "R_A=(F_D+F_E)-R_B #KN\n",
      "\n",
      "#Forces\n",
      "\n",
      "F_AD=F_E*(sin(theta*pi*180**-1))**-1 #KN\n",
      "F_AC=F_AD*cos(theta*pi*180**-1) #KN\n",
      "F_BE=F_D*(sin(alpha*pi*180**-1))**-1 #KN\n",
      "F_BC=F_BE*cos(alpha*pi*180**-1) #KN\n",
      "\n",
      "#After simplifying joint C we get\n",
      "#F_CD=-F_CE\n",
      "#after further simplifying\n",
      "F_CE=20.784*2**-1 #KN\n",
      "F_CD=F_CE #KN\n",
      "F_ED=F_BE-(F_E*cos(theta*pi*180**-1)) #KN\n",
      "\n",
      "#Result\n",
      "print\"forces in members are:F_AC\",round(F_AC,2),\"KN\"\n",
      "print\"                     :F_AD\",round(F_AD,2),\"KN\"\n",
      "print\"                     :F_BC\",round(F_BC,2),\"KN\"\n",
      "print\"                     :F_BE\",round(F_BE,2),\"KN\"\n",
      "print\"                     :F_CD\",round(F_CD,2),\"KN\"\n",
      "print\"                     :F_CE\",round(F_CE,2),\"KN\"\n",
      "print\"                     :F_ED\",round(F_ED,2),\"KN\""
     ],
     "language": "python",
     "metadata": {},
     "outputs": [
      {
       "output_type": "stream",
       "stream": "stdout",
       "text": [
        "forces in members are:F_AC 6.93 KN\n",
        "                     :F_AD 13.86 KN\n",
        "                     :F_BC 17.32 KN\n",
        "                     :F_BE 20.0 KN\n",
        "                     :F_CD 10.39 KN\n",
        "                     :F_CE 10.39 KN\n",
        "                     :F_ED 14.0 KN\n"
       ]
      }
     ],
     "prompt_number": 20
    },
    {
     "cell_type": "heading",
     "level": 2,
     "metadata": {},
     "source": [
      "Example 6.4,Page No.129"
     ]
    },
    {
     "cell_type": "code",
     "collapsed": false,
     "input": [
      "import math\n",
      "from math import sin, cos, tan, radians, pi\n",
      "\n",
      "#Initilization of Variables\n",
      "\n",
      "L_GH=L_AG=L_HB=3 #m\n",
      "L_FB=L_EH=L_DG=L_AC=4 #m\n",
      "L_AB=9 #m \n",
      "F_G=9 #KN\n",
      "F_H=12 #KN\n",
      "\n",
      "#Calculations\n",
      "\n",
      "#Reactions\n",
      "R_B=(F_G*L_AG+F_H*(L_AG+L_GH))*L_AB**-1 #KN\n",
      "R_A=(F_G+F_H)-R_B #KN\n",
      "\n",
      "#Joint C\n",
      "#After resolving and simplifying we get\n",
      "#cos(theta)=4*5**-1\n",
      "#sin(theta)=3*4**-1\n",
      "#Let cos(theta)=X\n",
      "X=4*5**-1\n",
      "Y=3*5**-1\n",
      "\n",
      "#Forces\n",
      "\n",
      "F_AC=R_A #KN\n",
      "F_CG=R_A*X**-1 #KN\n",
      "F_CD=F_CG*Y #KN\n",
      "F_GD=-(F_G-F_CG*X)\n",
      "F_GH=F_CG*Y \n",
      "F_DH=1*X**-1 #KN\n",
      "F_DE=F_GH+F_DH*Y\n",
      "F_EF=F_DE #KN\n",
      "F_HF=(F_H-F_GD)*X**-1\n",
      "\n",
      "\n",
      "#Result\n",
      "print\"Forces in members are:F_AC\",round(F_AC,2),\"KN\"\n",
      "print\"                     :F_CG\",round(F_CG,2),\"KN\"\n",
      "print\"                     :F_CD\",round(F_CD,2),\"KN\"\n",
      "print\"                     :F_GD\",round(F_GD,2),\"KN\"\n",
      "print\"                     :F_GH\",round(F_GH,2),\"KN\"\n",
      "print\"                     :F_DH\",round(F_DH,2),\"KN\"\n",
      "print\"                     :F_DE\",round(F_DE,2),\"KN\"\n",
      "print\"                     :F_EF\",round(F_EF,2),\"KN\"\n",
      "print\"                     :F_HF\",round(F_HF,2),\"KN\""
     ],
     "language": "python",
     "metadata": {},
     "outputs": [
      {
       "output_type": "stream",
       "stream": "stdout",
       "text": [
        "Forces in members are:F_AC 10.0 KN\n",
        "                     :F_CG 12.5 KN\n",
        "                     :F_CD 7.5 KN\n",
        "                     :F_GD 1.0 KN\n",
        "                     :F_GH 7.5 KN\n",
        "                     :F_DH 1.25 KN\n",
        "                     :F_DE 8.25 KN\n",
        "                     :F_EF 8.25 KN\n",
        "                     :F_HF 13.75 KN\n"
       ]
      }
     ],
     "prompt_number": 21
    },
    {
     "cell_type": "heading",
     "level": 2,
     "metadata": {},
     "source": [
      "Example 6.5,Page No.133"
     ]
    },
    {
     "cell_type": "code",
     "collapsed": false,
     "input": [
      "import math\n",
      "from math import sin, cos, tan, radians, pi\n",
      "\n",
      "#Initilization of Variables\n",
      "\n",
      "F_D=1000 #N \n",
      "L_AE=L_EF=L_FH=L_BH=1 #m\n",
      "L_CH=2.25 #m\n",
      "L=4 #m\n",
      "\n",
      "#Calculations\n",
      "\n",
      "#Reactions\n",
      "\n",
      "#Let sin(theta)=0.6\n",
      "#cos(theta)=0.8\n",
      "#tan(theta)=0.75 \n",
      "#sin(theta)=X\n",
      "#Cos(theta)=Y\n",
      "#tan(theta)=Z\n",
      "X=0.6\n",
      "Y=0.8\n",
      "Z=0.75 \n",
      "\n",
      "R_B=F_D*L**-1 #KN\n",
      "R_A=F_D-R_B #KN\n",
      "\n",
      "#Forces\n",
      "\n",
      "F_AD=R_A*X**-1 #KN\n",
      "F_AE=F_AD*Y #KN\n",
      "F_EF=F_AE #KN\n",
      "\n",
      "#After dimplifying And further resolving we get\n",
      "F_DG=833.34*2**-1 #KN\n",
      "F_DF=416.66+416.67 \n",
      "F_FG=F_DF*X #KN\n",
      "F_FH=F_D-F_DF*Y\n",
      "\n",
      "#Result\n",
      "print\"Forces in the members are:F_DG\",round(F_DG,2),\"KN\"\n",
      "print\"                         :F_DF\",round(F_DF,2),\"KN\"\n",
      "print\"                         :F_FG\",round(F_FG,2),\"KN\"\n",
      "print\"                         :F_FH\",round(F_FH,2),\"KN\"\n",
      "print\"                         :F_AD\",round(F_AD,2),\"KN\"\n",
      "print\"                         :F_AE\",round(F_AE,2),\"KN\"\n",
      "print\"                         :F_EF\",round(F_EF,2),\"KN\""
     ],
     "language": "python",
     "metadata": {},
     "outputs": [
      {
       "output_type": "stream",
       "stream": "stdout",
       "text": [
        "Forces in the members are:F_DG 416.67 KN\n",
        "                         :F_DF 833.33 KN\n",
        "                         :F_FG 500.0 KN\n",
        "                         :F_FH 333.34 KN\n",
        "                         :F_AD 1250.0 KN\n",
        "                         :F_AE 1000.0 KN\n",
        "                         :F_EF 1000.0 KN\n"
       ]
      }
     ],
     "prompt_number": 22
    },
    {
     "cell_type": "heading",
     "level": 2,
     "metadata": {},
     "source": [
      "Example 6.6,Page No.135"
     ]
    },
    {
     "cell_type": "code",
     "collapsed": false,
     "input": [
      "import math\n",
      "from math import sin, cos, tan, radians, pi\n",
      "\n",
      "#Initilization of Variables\n",
      "\n",
      "theta=60\n",
      "alpha=30\n",
      "F_C=1000 #N \n",
      "\n",
      "#Calculations\n",
      "\n",
      "#Force CD\n",
      "F_CD=F_C*(sin(theta*pi*180**-1))**-1 #N\n",
      "          \n",
      "#Force CA\n",
      "F_CA=F_CD*cos(theta*pi*180**-1) #N\n",
      "\n",
      "#FOrce AD\n",
      "F_AD=F_CD*cos(alpha*pi*180**-1)*(cos(alpha*pi*180**-1))**-1 #N\n",
      "\n",
      "#Force BD\n",
      "F_BD=F_AD*sin(alpha*pi*180**-1)+F_CD*sin(alpha*pi*180**-1) #N\n",
      "\n",
      "#Result\n",
      "print\"Forces in members are:F_CD\",round(F_CD,2),\"N\"\n",
      "print\"                     :F_CA\",round(F_CA,2),\"N\"\n",
      "print\"                     :F_AD\",round(F_AD,2),\"N\"\n",
      "print\"                     :F_BD\",round(F_BD,2),\"N\""
     ],
     "language": "python",
     "metadata": {},
     "outputs": [
      {
       "output_type": "stream",
       "stream": "stdout",
       "text": [
        "Forces in members are:F_CD 1154.7 N\n",
        "                     :F_CA 577.35 N\n",
        "                     :F_AD 1154.7 N\n",
        "                     :F_BD 1154.7 N\n"
       ]
      }
     ],
     "prompt_number": 23
    },
    {
     "cell_type": "heading",
     "level": 2,
     "metadata": {},
     "source": [
      "Example 6.7,Page No.136"
     ]
    },
    {
     "cell_type": "code",
     "collapsed": false,
     "input": [
      "import math\n",
      "\n",
      "#Initilization of Variables\n",
      "\n",
      "#LEt tan(theta)=X\n",
      "#cos(theta)=Y\n",
      "#sin(theta)=Z\n",
      "L_EC=5\n",
      "F_B=F_C=1000 #N\n",
      "X=3*4**-1 \n",
      "Y=0.8\n",
      "Z=0.6\n",
      "\n",
      "\n",
      "#Calculations\n",
      "\n",
      "#Force CD\n",
      "F_CD=F_B*Z**-1 #N\n",
      "\n",
      "#Force CB\n",
      "F_CB=F_CD*Y\n",
      "\n",
      "#Force BD\n",
      "F_BD=F_B #N\n",
      "\n",
      "#Force BA\n",
      "F_BA=F_CB #N\n",
      "\n",
      "#in joint D,resolving forces we get\n",
      "#F_AD+F_ED=3333.32   .........1\n",
      "#After further simplifying we get\n",
      "#F_ED-F_AD=1666.66   .............2\n",
      "\n",
      "#Froce ED\n",
      "F_ED=4999.98*2**-1 #N\n",
      "\n",
      "#Force AD\n",
      "F_AD=3333.32-F_ED #N\n",
      "\n",
      "\n",
      "#Result\n",
      "print\"Forces in the members are:F_CD\",round(F_CD,2),\"N\"\n",
      "print\"                         :F_CB\",round(F_CB,2),\"N\"\n",
      "print\"                         :F_BD\",round(F_BD,2),\"N\"\n",
      "print\"                         :F_BA\",round(F_BA,2),\"N\"\n",
      "print\"                         :F_AD\",round(F_AD,2),\"N\""
     ],
     "language": "python",
     "metadata": {},
     "outputs": [
      {
       "output_type": "stream",
       "stream": "stdout",
       "text": [
        "Forces in the members are:F_CD 1666.67 N\n",
        "                         :F_CB 1333.33 N\n",
        "                         :F_BD 1000.0 N\n",
        "                         :F_BA 1333.33 N\n",
        "                         :F_AD 833.33 N\n"
       ]
      }
     ],
     "prompt_number": 24
    },
    {
     "cell_type": "heading",
     "level": 2,
     "metadata": {},
     "source": [
      "Example 6.8,Page No.138"
     ]
    },
    {
     "cell_type": "code",
     "collapsed": false,
     "input": [
      "import math\n",
      "\n",
      "#Initilization of Variables\n",
      "\n",
      "F_D=12 #KN #Force at D\n",
      "F_C=18 #KN\n",
      "L_AC=2 #m \n",
      "L_CB=2 #m\n",
      "L_DC=1.5 #m\n",
      "L_AB=4 #m\n",
      "\n",
      "#Calculations\n",
      "\n",
      "#Reactions\n",
      "\n",
      "R_B=(F_C*L_AC+F_D*L_DC)*L_AB**-1 #KN\n",
      "R_A=(F_C)-R_B #KN\n",
      "\n",
      "#Let cos(theta)=X\n",
      "#sin(theta)=Y\n",
      "\n",
      "X=0.8 \n",
      "Y=0.6 \n",
      "\n",
      "#Forces\n",
      "\n",
      "F_AD=R_A*Y**-1 #KN\n",
      "F_AC=F_D+F_AD*X #KN\n",
      "F_CD=F_AC\n",
      "F_BC=F_AC #KN\n",
      "F_BD=R_B*(Y)**-1 #KN\n",
      "\n",
      "#Result\n",
      "print\"forces in members are:F_AC\",round(F_AC,2),\"KN\"\n",
      "print\"                     :F_AD\",round(F_AD,2),\"KN\"\n",
      "print\"                     :F_BC\",round(F_BC,2),\"KN\"\n",
      "print\"                     :F_BD\",round(F_BD,2),\"KN\"\n",
      "print\"                     :F_CD\",round(F_CD,2),\"KN\""
     ],
     "language": "python",
     "metadata": {},
     "outputs": [
      {
       "output_type": "stream",
       "stream": "stdout",
       "text": [
        "forces in members are:F_AC 18.0 KN\n",
        "                     :F_AD 7.5 KN\n",
        "                     :F_BC 18.0 KN\n",
        "                     :F_BD 22.5 KN\n",
        "                     :F_CD 18.0 KN\n"
       ]
      }
     ],
     "prompt_number": 25
    },
    {
     "cell_type": "heading",
     "level": 2,
     "metadata": {},
     "source": [
      "Example 6.9,Page No.139"
     ]
    },
    {
     "cell_type": "code",
     "collapsed": false,
     "input": [
      "import math\n",
      "\n",
      "#Initilization of Variables\n",
      "\n",
      "L_AF=L_FG=L_BG=4 #m\n",
      "L_AB=12 #m\n",
      "F_F=3 #KN\n",
      "F_G=6 #KN\n",
      "F_E=8 #KN\n",
      "V=1.5 #m #Vertical Distance\n",
      "\n",
      "#Calculations\n",
      "\n",
      "#Reactions\n",
      "R_B=(F_E*V+F_F*L_AF+F_G*(L_AF+L_FG))*L_AB**-1\n",
      "R_A=(F_F+F_G)-R_B\n",
      "\n",
      "#Let cos(theta)=X\n",
      "#Sin(theta)=Y\n",
      "X=0.8\n",
      "Y=0.6 \n",
      "\n",
      "#Forces\n",
      "F_CA=F_F*Y**-1 #KN\n",
      "F_FA=F_CA*X+F_E #KN\n",
      "F_CF=F_CA #KN\n",
      "F_CD=(F_CA+F_CF)*X #KN\n",
      "F_DF=(-F_CF*Y+F_F)*Y**-1 #KN\n",
      "F_GF=F_FA+F_CF*X #KN\n",
      "F_DE=F_CD #KN\n",
      "F_GE=F_G*Y**-1 #KN\n",
      "F_GB=F_GF-F_GE*X #KN\n",
      "F_BE=F_GE #KN\n",
      "\n",
      "#Result\n",
      "print\"Forces in the members are:F_CA\",round(F_CA,2),\"KN\"\n",
      "print\"                         :F_FA\",round(F_FA,2),\"KN\"\n",
      "print\"                         :F_CF\",round(F_CF,2),\"KN\"\n",
      "print\"                         :F_CD\",round(F_CD,2),\"KN\"\n",
      "print\"                         :F_DF\",round(F_DF,2),\"KN\"\n",
      "print\"                         :F_GF\",round(F_GF,2),\"KN\"\n",
      "print\"                         :F_DE\",round(F_DE,2),\"KN\"\n",
      "print\"                         :F_GE\",round(F_GE,2),\"KN\"\n",
      "print\"                         :F_GB\",round(F_GB,2),\"KN\"\n",
      "print\"                         :F_BE\",round(F_BE,2),\"KN\""
     ],
     "language": "python",
     "metadata": {},
     "outputs": [
      {
       "output_type": "stream",
       "stream": "stdout",
       "text": [
        "Forces in the members are:F_CA 5.0 KN\n",
        "                         :F_FA 12.0 KN\n",
        "                         :F_CF 5.0 KN\n",
        "                         :F_CD 8.0 KN\n",
        "                         :F_DF 0.0 KN\n",
        "                         :F_GF 16.0 KN\n",
        "                         :F_DE 8.0 KN\n",
        "                         :F_GE 10.0 KN\n",
        "                         :F_GB 8.0 KN\n",
        "                         :F_BE 10.0 KN\n"
       ]
      }
     ],
     "prompt_number": 26
    },
    {
     "cell_type": "heading",
     "level": 2,
     "metadata": {},
     "source": [
      "Example 6.10,Page No.142"
     ]
    },
    {
     "cell_type": "code",
     "collapsed": false,
     "input": [
      "import math\n",
      "from math import sin, cos, tan, radians, pi\n",
      "\n",
      "#Initilization of Variables\n",
      "\n",
      "theta=60 #DEgrees\n",
      "alpha=30 #Degrees\n",
      "L_AE=L_EF=L_FB=4 #m\n",
      "L_AB=12  #m\n",
      "F_A=1 #KN\n",
      "F_C=2 #KN\n",
      "F_D=1 #KN\n",
      "\n",
      "#Calculations\n",
      "\n",
      "L_AC=L_AE*cos(alpha*pi*180**-1) #m\n",
      "L_AD=F_C*L_AC #m\n",
      "\n",
      "#Reactions\n",
      "R_B=(F_C*L_AC+F_A*L_AD+F_D*L_AE)*L_AB**-1\n",
      "V=(F_A+F_C+F_D)*sin(theta*pi*180**-1)+1 #KN\n",
      "H=(F_A+F_C+F_D)*cos(theta*pi*180**-1) #KN\n",
      "R_A=V-R_B #KN\n",
      "\n",
      "#Forces\n",
      "F_AC=(R_A-(F_A*sin(theta*pi*180**-1)))*(sin(alpha*pi*180**-1))**-1\n",
      "F_AE=F_C+F_AC*cos(alpha*pi*180**-1)-F_A*cos(theta*pi*180**-1) #KN\n",
      "F_CD=F_AC\n",
      "F_CE=F_C #KN\n",
      "F_ED=F_C+(sin(theta*pi*180**-1))**-1 #KN\n",
      "F_EF=F_AE-F_C*cos(theta*pi*180**-1)-F_ED*cos(theta*pi*180**-1)\n",
      "F_FB=F_EF #KN\n",
      "F_BG=R_B*(sin(alpha*pi*180**-1))**-1 #KN\n",
      "F_GD=F_BG #KN\n",
      "\n",
      "#Result\n",
      "print\"Forces in the members are:F_AC\",round(F_AC,2),\"KN\"\n",
      "print\"                         :F_AE\",round(F_AE,2),\"KN\"\n",
      "print\"                         :F_CD\",round(F_CD,2),\"KN\"\n",
      "print\"                         :F_CE\",round(F_CE,2),\"KN\"\n",
      "print\"                         :F_ED\",round(F_ED,2),\"KN\"\n",
      "print\"                         :F_EF\",round(F_EF,2),\"KN\"\n",
      "print\"                         :F_FB\",round(F_FB,2),\"KN\"\n",
      "print\"                         :F_BG\",round(F_BG,2),\"KN\"\n",
      "print\"                         :F_GD\",round(F_GD,2),\"KN\""
     ],
     "language": "python",
     "metadata": {},
     "outputs": [
      {
       "output_type": "stream",
       "stream": "stdout",
       "text": [
        "Forces in the members are:F_AC 4.22 KN\n",
        "                         :F_AE 5.15 KN\n",
        "                         :F_CD 4.22 KN\n",
        "                         :F_CE 2.0 KN\n",
        "                         :F_ED 3.15 KN\n",
        "                         :F_EF 2.58 KN\n",
        "                         :F_FB 2.58 KN\n",
        "                         :F_BG 2.98 KN\n",
        "                         :F_GD 2.98 KN\n"
       ]
      }
     ],
     "prompt_number": 27
    },
    {
     "cell_type": "heading",
     "level": 2,
     "metadata": {},
     "source": [
      "Example 6.11,Page No.145"
     ]
    },
    {
     "cell_type": "code",
     "collapsed": false,
     "input": [
      "import math\n",
      "from math import sin, cos, tan, radians, pi\n",
      "\n",
      "#Initilization of Variables\n",
      "\n",
      "theta=60 #degrees\n",
      "alpha=30 #degrees\n",
      "beta=90 #degrees\n",
      "L_AB=2.5 #m\n",
      "L_BC=5 #m\n",
      "F_A=20 #KN\n",
      "\n",
      "#Calculations\n",
      "\n",
      "#Reactions\n",
      "R_C=(F_A*L_AB*cos(theta*pi*180**-1))*L_BC**-1 #kn\n",
      "R_B=F_A-R_C\n",
      "\n",
      "#Forces\n",
      "\n",
      "F_AB=(R_B*L_BC)*(R_C*cos(alpha*pi*180**-1))**-1 #KN\n",
      "F_BC=(L_AB*sin(theta*pi*180**-1))**-1*(R_B*L_AB*cos(theta*pi*180**-1))\n",
      "\n",
      "\n",
      "\n",
      "#Result\n",
      "print\"Force in Members are:F_BA\",round(F_AB,2),\"KN\"\n",
      "print\"                    :F_BC\",round(F_BC,2),\"KN\""
     ],
     "language": "python",
     "metadata": {},
     "outputs": [
      {
       "output_type": "stream",
       "stream": "stdout",
       "text": [
        "Force in Members are:F_BA 17.32 KN\n",
        "                    :F_BC 8.66 KN\n"
       ]
      }
     ],
     "prompt_number": 28
    },
    {
     "cell_type": "heading",
     "level": 2,
     "metadata": {},
     "source": [
      "Example 6.12,Page No.146"
     ]
    },
    {
     "cell_type": "code",
     "collapsed": false,
     "input": [
      "import math\n",
      "from math import sin, cos, tan, radians, pi\n",
      "\n",
      "#Initilization of Variables\n",
      "\n",
      "L_AC=L_AD=2.5 #m\n",
      "L_BC=2.5 #m\n",
      "L_AB=5 #m\n",
      "theta=30 #Degrees\n",
      "alpha=60 #degrees\n",
      "F_D=10 #KN\n",
      "F_E=12 #KN\n",
      "\n",
      "#Calculations\n",
      "\n",
      "L_BE=L_BC*cos(theta*pi*180**-1) #m\n",
      "L_AD=L_AB*cos(alpha*pi*180**-1) #m\n",
      "\n",
      "#Distance of Line of action of load 12 KN\n",
      "x=L_AB-1.875 #m\n",
      "\n",
      "#Reactions\n",
      "R_B=(F_D*L_AC*2**-1+F_E*x)*L_AB**-1 #KN\n",
      "R_A=(F_D+F_E)-R_B #KN\n",
      "\n",
      "#Forces\n",
      "F_BC=(R_B*L_BE*cos(theta*pi*180**-1))*(L_BE*sin(theta*pi*180**-1))**-1\n",
      "F_EC=F_E*cos(theta*pi*180**-1) #KN\n",
      "F_DE=-((F_E*(L_AC-L_BE*cos(theta*pi*180**-1)))-R_B*L_BC)*(L_AC*sin(theta*pi*180**-1))**-1\n",
      "\n",
      "#Result\n",
      "print\"Reactions are:R_A\",round(R_A,2),\"KN\"\n",
      "print\"             :R_B\",round(R_B,2),\"KN\"\n",
      "print\"Forces in the members are:F_BC\",round(F_BC,2),\"KN\"\n",
      "print\"                         :F_EC\",round(F_EC,2),\"KN\"\n",
      "print\"                         :F_DE\",round(F_DE,2),\"KN\""
     ],
     "language": "python",
     "metadata": {},
     "outputs": [
      {
       "output_type": "stream",
       "stream": "stdout",
       "text": [
        "Reactions are:R_A 12.0 KN\n",
        "             :R_B 10.0 KN\n",
        "Forces in the members are:F_BC 17.32 KN\n",
        "                         :F_EC 10.39 KN\n",
        "                         :F_DE 14.0 KN\n"
       ]
      }
     ],
     "prompt_number": 29
    },
    {
     "cell_type": "heading",
     "level": 2,
     "metadata": {},
     "source": [
      "Example 6.13,Page No.148"
     ]
    },
    {
     "cell_type": "code",
     "collapsed": false,
     "input": [
      "import math\n",
      "\n",
      "#Initilization of Variables\n",
      "\n",
      "#Lengths\n",
      "L_AG=L_GH=L_HB=3\n",
      "L_AB=9 #m\n",
      "L_FB=L_EH=L_DG=L_AC=4 #m\n",
      "\n",
      "#Forces\n",
      "F_G=9 #KN\n",
      "F_H=12 #KN\n",
      "\n",
      "#Calculations\n",
      "\n",
      "#Reactions\n",
      "R_B=(F_G*L_AG+F_H*(L_AG+L_GH))*L_AB**-1\n",
      "R_A=(F_G+F_H)-R_B #KN\n",
      "\n",
      "#Forces\n",
      "F_3=(R_A*L_AG)*L_AC**-1 #KN\n",
      "F_1=(R_A*L_AG)*L_AC**-1 #KN\n",
      "F_2=(F_3*L_AC-F_G*L_AG)*L_AG**-1\n",
      "\n",
      "#Result\n",
      "print\"Reactions are:R_A\",round(R_A,2),\"KN\"\n",
      "print\"             :R_B\",round(R_B,2),\"KN\"\n",
      "print\"Forces in Members are:F_1\",round(F_1,2),\"KN\"\n",
      "print\"                     :F_2\",round(F_2,2),\"KN\"\n",
      "print\"                     :F_3\",round(F_3,2),\"KN\""
     ],
     "language": "python",
     "metadata": {},
     "outputs": [
      {
       "output_type": "stream",
       "stream": "stdout",
       "text": [
        "Reactions are:R_A 10.0 KN\n",
        "             :R_B 11.0 KN\n",
        "Forces in Members are:F_1 7.5 KN\n",
        "                     :F_2 1.0 KN\n",
        "                     :F_3 7.5 KN\n"
       ]
      }
     ],
     "prompt_number": 30
    },
    {
     "cell_type": "heading",
     "level": 2,
     "metadata": {},
     "source": [
      "Example 6.14,Page No.149"
     ]
    },
    {
     "cell_type": "code",
     "collapsed": false,
     "input": [
      "import math\n",
      "from math import sin, cos, tan, radians, pi\n",
      "import numpy as np\n",
      "\n",
      "#Initilization of Variables\n",
      "\n",
      "L_CH=5 #m\n",
      "L_DE=4.5 #m\n",
      "L_AE=L_EC=L_FB=4 #m\n",
      "L_AB=16 #m\n",
      "F=80 #KN\n",
      "v=0.5 #m\n",
      "\n",
      "#Calculations\n",
      "\n",
      "#Reactions\n",
      "R_B=F*(L_AE+L_EC+L_FB)*L_AB**-1 #m\n",
      "R_A=F-R_B #KN\n",
      "\n",
      "#Forces\n",
      "F1=R_A*L_AE*L_DE**-1 #KN\n",
      "\n",
      "theta=np.arctan(L_DE*L_EC**-1)*(180*pi**-1)\n",
      "alpha=np.arctan(v*L_AE**-1)*(180*pi**-1) #Degrees\n",
      "beta=alpha+theta #Degrees\n",
      "\n",
      "L_CD=(L_DE**2+L_EC**2)**0.5 #m\n",
      "L_CL=L_CD*sin(beta*pi*180**-1) #m\n",
      "\n",
      "F3=R_A*(L_AE+L_EC)*L_CL**-1 #KN\n",
      "F2=-(F3*sin(alpha*pi*180**-1)-R_A)*(sin(theta*pi*180**-1))**-1\n",
      "\n",
      "\n",
      "#Result\n",
      "print\"Forces in Members are:F1\",round(F1,2),\"KN\"\n",
      "print\"                     :F2\",round(F2,2),\"KN\"\n",
      "print\"                     :F3\",round(F3,2),\"KN\""
     ],
     "language": "python",
     "metadata": {},
     "outputs": [
      {
       "output_type": "stream",
       "stream": "stdout",
       "text": [
        "Forces in Members are:F1 17.78 KN\n",
        "                     :F2 21.41 KN\n",
        "                     :F3 32.25 KN\n"
       ]
      }
     ],
     "prompt_number": 31
    },
    {
     "cell_type": "heading",
     "level": 2,
     "metadata": {},
     "source": [
      "Example 6.15,Page No.151"
     ]
    },
    {
     "cell_type": "code",
     "collapsed": false,
     "input": [
      "import math\n",
      "from math import sin, cos, tan, radians, pi\n",
      "\n",
      "#Initilization of Variables\n",
      "\n",
      "L_EC=L_FD=L_BD=L_AC=L_OH=2 #m\n",
      "L_AB=L_CD=L_EF=4 #m\n",
      "F=20 #KN\n",
      "H=20 #KN\n",
      "theta=90\n",
      "alpha=45\n",
      "\n",
      "#Calculations\n",
      "\n",
      "#Reactios\n",
      "R_B=(H*L_EC+F*(L_FD+L_BD)+F*(L_AC+L_EC+L_OH))*L_AB**-1\n",
      "R_A=0-R_B #KN\n",
      "H_A=3*F #All horizontal Forces\n",
      "\n",
      "#Forces\n",
      "F_BD=(F*L_FD+F*(L_FD+L_BD))*L_AB**-1 #KN\n",
      "F_AC=(F*L_FD+H*(L_OH+L_EC))*L_AB**-1\n",
      "F_BG=(R_B-F_BD)*(cos(alpha*pi*180**-1))**-1 #KN\n",
      "F_BA=F_BG*sin(alpha*pi*180**-1)\n",
      "F_AG=(H_A-F_BA)*(cos(alpha*pi*180**-1))**-1\n",
      "\n",
      "\n",
      "#Result\n",
      "print\"Forces in the Members are:F_BD\",round(F_BD,2),\"KN\"\n",
      "print\"                         :F_AC\",round(F_AC,2),\"KN\"\n",
      "print\"                         :F_BG\",round(F_BG,2),\"KN\"\n",
      "print\"                         :F_BA\",round(F_BA,2),\"KN\"\n",
      "print\"                         :F_AG\",round(F_AG,2),\"KN\""
     ],
     "language": "python",
     "metadata": {},
     "outputs": [
      {
       "output_type": "stream",
       "stream": "stdout",
       "text": [
        "Forces in the Members are:F_BD 30.0 KN\n",
        "                         :F_AC 30.0 KN\n",
        "                         :F_BG 42.43 KN\n",
        "                         :F_BA 30.0 KN\n",
        "                         :F_AG 42.43 KN\n"
       ]
      }
     ],
     "prompt_number": 32
    },
    {
     "cell_type": "heading",
     "level": 2,
     "metadata": {},
     "source": [
      "Example 6.16,Page No.153"
     ]
    },
    {
     "cell_type": "code",
     "collapsed": false,
     "input": [
      "import math\n",
      "from math import sin, cos, tan, radians, pi\n",
      "\n",
      "#Initilization of Variables\n",
      "\n",
      "F_E=F_A=F_D=1 #KN\n",
      "F_C=2 #KN\n",
      "L_AE=L_EF=L_FB=4 #m\n",
      "L_AB=12 #m\n",
      "theta=60 \n",
      "alpha=30 #degrees\n",
      "\n",
      "#Calculations\n",
      "\n",
      "L_AC=L_AE*cos(alpha*pi*180**-1)\n",
      "L_AD=F_C*L_AC #m\n",
      "\n",
      "#Reactions\n",
      "R_B=(F_C*L_AC+F_A*L_AD+F_D*L_AE)*L_AB**-1\n",
      "\n",
      "#Forces\n",
      "F_DG=(R_B*L_AE)*(L_FB*sin(alpha*pi*180**-1))**-1\n",
      "F_FE=R_B*cos(alpha*pi*180**-1)*(sin(alpha*pi*180**-1))**-1\n",
      "F_DF=0 #KN                             \n",
      "\n",
      "\n",
      "#Result\n",
      "print\"Force in members:DG\",round(F_DG,2),\"KN\"\n",
      "print\"                :FE\",round(F_FE,2),\"KN\"\n",
      "print\"                :DF\",round(F_DF,2),\"KN\""
     ],
     "language": "python",
     "metadata": {},
     "outputs": [
      {
       "output_type": "stream",
       "stream": "stdout",
       "text": [
        "Force in members:DG 2.98 KN\n",
        "                :FE 2.58 KN\n",
        "                :DF 0.0 KN\n"
       ]
      }
     ],
     "prompt_number": 33
    }
   ],
   "metadata": {}
  }
 ]
}