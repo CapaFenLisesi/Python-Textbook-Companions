<!DOCTYPE html PUBLIC "-//W3C//DTD HTML 4.01//EN" "http://www.w3.org/TR/html4/strict.dtd">
<html><head>
<meta http-equiv="Content-Type" content="text/html; charset=utf-8">
<title>ERROR: The requested URL could not be retrieved</title>
<style type="text/css"><!-- 
 /*
 Stylesheet for Squid Error pages
 Adapted from design by Free CSS Templates
 http://www.freecsstemplates.org
 Released for free under a Creative Commons Attribution 2.5 License
*/

/* Page basics */
* {
	font-family: verdana, sans-serif;
}

html body {
	margin: 0;
	padding: 0;
	background: #efefef;
	font-size: 12px;
	color: #1e1e1e;
}

/* Page displayed title area */
#titles {
	margin-left: 5px;
	padding: 10px;
	padding-left: 150px;
	background: url('http://docs.iitb.ac.in/iitb_logo.jpg') no-repeat left;
}

/* initial title */
#titles h1 {
	color: #000000;
}
#titles h2 {
	color: #000000;
}

/* special event: FTP success page titles */
#titles ftpsuccess {
	background-color:#00ff00;
	width:100%;
}

/* Page displayed body content area */
#content {
	padding: 10px;
	background: #ffffff;
}

/* General text */
p {
}

/* error brief description */
#error p {
}

/* some data which may have caused the problem */
#data {
}

/* the error message received from the system or other software */
#sysmsg {
}

pre {
    font-family:sans-serif;
}

/* special event: FTP / Gopher directory listing */
#dirlisting tr.entry td.icon,td.filename,td.size,td.date {
    border-bottom: groove;
}
#dirlisting td.size {
    width: 50px;
    text-align: right;
    padding-right: 5px;
}

/* horizontal lines */
hr {
	margin: 0;
}

/* page displayed footer area */
#footer {
	font-size: 9px;
	padding-left: 10px;
}


body
:lang(fa) { direction: rtl; font-size: 100%; font-family: Tahoma, Roya, sans-serif; float: right; }
:lang(he) { direction: rtl; }
 --></style>
</head><body id=ERR_READ_ERROR>
<div id="titles">
<h1>ERROR</h1>
<h2>The requested URL could not be retrieved</h2>
</div>
<hr>

<div id="content">
<p>The following error was encountered while trying to retrieve the URL: <a href="http://tbc-python.fossee.in/static/Python-Textbook-Companions/sample_notebooks/PADMAVATHITHIYAGARAJAN/Chapter_5.ipynb">http://tbc-python.fossee.in/static/Python-Textbook-Companions/sample_notebooks/PADMAVATHITHIYAGARAJAN/Chapter_5.ipynb</a></p>

<blockquote id="error">
<p><b>Read Error</b></p>
</blockquote>

<p id="sysmsg">The system returned: <i>(104) Connection reset by peer</i></p>

<p>An error condition occurred while reading data from the network. Please retry your request.</p>

<p>Your cache administrator is <a href="mailto:webmaster?subject=CacheErrorInfo%20-%20ERR_READ_ERROR&amp;body=CacheHost%3A%20nm11.iitb.ac.in%0D%0AErrPage%3A%20ERR_READ_ERROR%0D%0AErr%3A%20(104)%20Connection%20reset%20by%20peer%0D%0ATimeStamp%3A%20Wed,%2002%20Dec%202015%2009%3A49%3A48%20GMT%0D%0A%0D%0AClientIP%3A%2010.101.11.67%0D%0AServerIP%3A%20tbc-python.fossee.in%0D%0A%0D%0AHTTP%20Request%3A%0D%0AGET%20%2Fstatic%2FPython-Textbook-Companions%2Fsample_notebooks%2FPADMAVATHITHIYAGARAJAN%2FChapter_5.ipynb%20HTTP%2F1.1%0AHost%3A%20tbc-python.fossee.in%0D%0AUser-Agent%3A%20Mozilla%2F5.0%20(X11%3B%20Ubuntu%3B%20Linux%20x86_64%3B%20rv%3A42.0)%20Gecko%2F20100101%20Firefox%2F42.0%0D%0AAccept%3A%20text%2Fhtml,application%2Fxhtml+xml,application%2Fxml%3Bq%3D0.9,*%2F*%3Bq%3D0.8%0D%0AAccept-Language%3A%20en-US,en%3Bq%3D0.5%0D%0AAccept-Encoding%3A%20gzip,%20deflate%0D%0AReferer%3A%20http%3A%2F%2Ftbc-python.fossee.in%2Fproposal-review%2F%0D%0ACookie%3A%20_pk_id.15.f977%3D1205565a2a6c32b7.1448535465.10.1449069234.1449052776.%3B%20_ga%3DGA1.2.63526281.1448535465%3B%20csrftoken%3DOMjtAiQsCv4myz9R3VtGF1B6t2EEDVBb%3B%20sessionid%3Dqnfilway656h8jfx1pmw5ph7gj64798v%3B%20_pk_ses.15.f977%3D*%3B%20_gat%3D1%0D%0AConnection%3A%20keep-alive%0D%0APragma%3A%20no-cache%0D%0ACache-Control%3A%20no-cache%0D%0A%0D%0A%0D%0A">webmaster</a>.</p>
<br>
</div>

<hr>
<div id="footer">
<p>Generated Wed, 02 Dec 2015 09:49:48 GMT by nm11.iitb.ac.in (squid/3.3.9)</p>
<!-- ERR_READ_ERROR -->
</div>
</body></html>
