{
 "metadata": {
  "name": "",
  "signature": "sha256:17b506d33431e962a94e056821ab7adb01f19bc8d911935ba7e321fdd9f1e06e"
 },
 "nbformat": 3,
 "nbformat_minor": 0,
 "worksheets": [
  {
   "cells": [
    {
     "cell_type": "heading",
     "level": 1,
     "metadata": {},
     "source": [
      "Chapter5-Mechanisms"
     ]
    },
    {
     "cell_type": "heading",
     "level": 2,
     "metadata": {},
     "source": [
      "Ex1-pg50"
     ]
    },
    {
     "cell_type": "code",
     "collapsed": false,
     "input": [
      "##Solutions to Problems In applied mechanics\n",
      "##A N Gobby\n",
      "import math\n",
      "##initialisation of variables\n",
      "r=120.##rev/min\n",
      "a=45.##degree\n",
      "d=1.##ft\n",
      "w=6.##ft\n",
      "q=3.96##ft/s\n",
      "r1=7.##ft\n",
      "D=0.565##rad/s\n",
      "W=28.0##ft\n",
      "v1=12.6##ft\n",
      "v2=22.4##ft\n",
      "##CALCULATIONS\n",
      "U=r*(2.*math.pi/60.)*d##ft/s\n",
      "a1=q/r1##rad/s\n",
      "A=q/r1*W##ft/s\n",
      "Vb=a1*W##ft/s\n",
      "##RESULTS\n",
      "print'%s %.2f %s'%('The velocity = ',A,' ft/s')\n",
      "print'%s %.2f %s'%('the angular velocity= ',Vb,' ft/s')\n"
     ],
     "language": "python",
     "metadata": {},
     "outputs": [
      {
       "output_type": "stream",
       "stream": "stdout",
       "text": [
        "The velocity =  15.84  ft/s\n",
        "the angular velocity=  15.84  ft/s\n"
       ]
      }
     ],
     "prompt_number": 1
    },
    {
     "cell_type": "heading",
     "level": 2,
     "metadata": {},
     "source": [
      "Ex2-pg53"
     ]
    },
    {
     "cell_type": "code",
     "collapsed": false,
     "input": [
      "##Solutions to Problems In applied mechanics\n",
      "##A N Gobby\n",
      "import math\n",
      "\n",
      "##initialisation of variables\n",
      "a=13.25##in\n",
      "q=4.5##in\n",
      "b=9.##in\n",
      "r=2.5##in\n",
      "w=6.##in\n",
      "s=2.4##in\n",
      "x=8.*3./4.##in\n",
      "y=4.*3./8.##in\n",
      "z=5.*3./4.##in\n",
      "R=0.81##ft/s\n",
      "p=5.0##in\n",
      "##CALCULATIONS\n",
      "V=(2.*math.pi)*r##in/s\n",
      "AB=(p/a)##rad/s\n",
      "DE=s/b##rad/s\n",
      "##RESULTS\n",
      "print'%s %.2f %s'%('The angular velocity is= ',AB,' rad/s')\n",
      "print'%s %.2f %s'%('the angular velocity= ',DE,' rad/s')\n"
     ],
     "language": "python",
     "metadata": {},
     "outputs": [
      {
       "output_type": "stream",
       "stream": "stdout",
       "text": [
        "The angular velocity is=  0.38  rad/s\n",
        "the angular velocity=  0.27  rad/s\n"
       ]
      }
     ],
     "prompt_number": 2
    },
    {
     "cell_type": "heading",
     "level": 2,
     "metadata": {},
     "source": [
      "Ex3-pg54"
     ]
    },
    {
     "cell_type": "code",
     "collapsed": false,
     "input": [
      "##Solutions to Problems In applied mechanics\n",
      "##A N Gobby\n",
      "import math\n",
      "##initialisation of variables\n",
      "v=(60.*2.*math.pi)/60.*8./12.##ft/s\n",
      "x=8.##in\n",
      "y=12.##in\n",
      "c=4.76##in\n",
      "b=4.13##in\n",
      "e=10.0##in\n",
      "w=12.0##in\n",
      "f=3.55##in\n",
      "q=6.08##in\n",
      "k=1.95##in\n",
      "h=2.35##in\n",
      "##CALCULATIONS\n",
      "V1=v*(c/b)##ft/s\n",
      "V2=V1*(e/w)##ft/s\n",
      "V3=V2*(f/q)##ft/s\n",
      "K=V3*(k/h)##ft/s\n",
      "F=f*(x/y)##ft\n",
      "L=(F*y)/(f*x)##rad/s\n",
      "##RESULTS\n",
      "print'%s %.2f %s'%('the angular velocity length= ',L,' rad/s')\n"
     ],
     "language": "python",
     "metadata": {},
     "outputs": [
      {
       "output_type": "stream",
       "stream": "stdout",
       "text": [
        "the angular velocity length=  1.00  rad/s\n"
       ]
      }
     ],
     "prompt_number": 3
    },
    {
     "cell_type": "heading",
     "level": 2,
     "metadata": {},
     "source": [
      "Ex4-pg56"
     ]
    },
    {
     "cell_type": "code",
     "collapsed": false,
     "input": [
      "##Solutions to Problems In applied mechanics\n",
      "##A N Gobby\n",
      "import math\n",
      "##initialisation of variables\n",
      "d=60.##rev/min\n",
      "s=5.##in\n",
      "v=5.##in/s\n",
      "a=25.2##in/s\n",
      "x=2.23##in\n",
      "b=4.59##in\n",
      "z=20.0##in\n",
      "##CALCULATIONS\n",
      "U=x*v##in/s\n",
      "V=b*v##in/s\n",
      "B=V/z##rad/s\n",
      "##RESULTS\n",
      "print'%s %.2f %s'%('the angular velocity= ',B,' rad/s')\n"
     ],
     "language": "python",
     "metadata": {},
     "outputs": [
      {
       "output_type": "stream",
       "stream": "stdout",
       "text": [
        "the angular velocity=  1.15  rad/s\n"
       ]
      }
     ],
     "prompt_number": 4
    },
    {
     "cell_type": "heading",
     "level": 2,
     "metadata": {},
     "source": [
      "Ex5-pg57"
     ]
    },
    {
     "cell_type": "code",
     "collapsed": false,
     "input": [
      "##Solutions to Problems In applied mechanics\n",
      "##A N Gobby\n",
      "\n",
      "import math\n",
      "##initialisation of variables\n",
      "v=5.##ft/s\n",
      "f=0.5##in\n",
      "e=5.27##in\n",
      "w=1.98##in\n",
      "k=2.96##in\n",
      "x=1.7##in\n",
      "h=3.4##in\n",
      "i=7.2##in\n",
      "d=0.76##in\n",
      "Va=((200.*2.*math.pi*1.)/60.)/7.75##rad/s\n",
      "Vc=Va*i/k\n",
      "##CALCULATIONS\n",
      "F=f*v##ft/s\n",
      "CE=(e*v)/4.##rad/s\n",
      "EF=w*v/3.##rad/s\n",
      "VCD=Va*i/k##rad/s\n",
      "E=VCD*x/h##rad/s\n",
      "V=E*d##ft/s\n",
      "##RESULTS\n",
      "print'%s %.2f %s'%('The velocity of F in= ',F,' ft/s')\n",
      "print'%s %.2f %s'%('The angular velocity of CE in= ',CE,' rad/s')\n",
      "print'%s %.2f %s'%('The angular velocity of EF= ',EF,' rad/s')\n",
      "print'%s %.2f %s'%('the velocity of link= ',V,' rad/s')\n"
     ],
     "language": "python",
     "metadata": {},
     "outputs": [
      {
       "output_type": "stream",
       "stream": "stdout",
       "text": [
        "The velocity of F in=  2.50  ft/s\n",
        "The angular velocity of CE in=  6.59  rad/s\n",
        "The angular velocity of EF=  3.30  rad/s\n",
        "the velocity of link=  2.50  rad/s\n"
       ]
      }
     ],
     "prompt_number": 5
    }
   ],
   "metadata": {}
  }
 ]
}