{
 "metadata": {
  "name": "",
  "signature": "sha256:22203124c0a58e52fb096ad0d9fa91c7fbe00f2ac92320a1ef56895e5ebc147d"
 },
 "nbformat": 3,
 "nbformat_minor": 0,
 "worksheets": [
  {
   "cells": [
    {
     "cell_type": "heading",
     "level": 1,
     "metadata": {},
     "source": [
      "Chapter6-Strength of materials"
     ]
    },
    {
     "cell_type": "heading",
     "level": 2,
     "metadata": {},
     "source": [
      "Ex1-pg66"
     ]
    },
    {
     "cell_type": "code",
     "collapsed": false,
     "input": [
      "##Solutions to Problems In applied mechanics\n",
      "##A N Gobby\n",
      "import math\n",
      "##initialisation of variables\n",
      "b=0.005##in\n",
      "a=2.##tonf\n",
      "p=10.##tonf\n",
      "l=13500.##tonf/in^2\n",
      "##CALCULATIONS\n",
      "x=(p/a)*b##in\n",
      "E=(l*b*1./2.)/a##in\n",
      "##RESULTS\n",
      "print'%s %.2f %s'%('the original length of bar = ',E,' in')\n"
     ],
     "language": "python",
     "metadata": {},
     "outputs": [
      {
       "output_type": "stream",
       "stream": "stdout",
       "text": [
        "the original length of bar =  16.88  in\n"
       ]
      }
     ],
     "prompt_number": 1
    },
    {
     "cell_type": "heading",
     "level": 2,
     "metadata": {},
     "source": [
      "Ex2-pg67"
     ]
    },
    {
     "cell_type": "code",
     "collapsed": false,
     "input": [
      "##Solutions to Problems In applied mechanics\n",
      "##A N Gobby\n",
      "import math\n",
      "##initialisation of variables\n",
      "p1=12000.##in\n",
      "p2=0.0125##lbf/in\n",
      "x=8.##in\n",
      "w=14300.##in\n",
      "r=0.122##in\n",
      "##CALCULATIONS\n",
      "M=(p1/p2)*(x/(math.pi/4.*1**2))##lbf/in^2\n",
      "P=0.1*x/100.##in\n",
      "S=w/(math.pi/4.*1**2)##lbf/in^2\n",
      "P1=(r*100./x)##percent\n",
      "##RESULTS\n",
      "print'%s %.2f %s'%('the modulus of elasticity= ',M,' lbf/in^2')\n",
      "print'%s %.2f %s'%('non-proportional elongation= ',S,' lbf/in^2')\n",
      "print'%s %.2f %s'%('the percentage elongation= ',P1,' percent')\n"
     ],
     "language": "python",
     "metadata": {},
     "outputs": [
      {
       "output_type": "stream",
       "stream": "stdout",
       "text": [
        "the modulus of elasticity=  9778479.70  lbf/in^2\n",
        "non-proportional elongation=  18207.33  lbf/in^2\n",
        "the percentage elongation=  1.52  percent\n"
       ]
      }
     ],
     "prompt_number": 3
    },
    {
     "cell_type": "heading",
     "level": 2,
     "metadata": {},
     "source": [
      "Ex3-pg69"
     ]
    },
    {
     "cell_type": "code",
     "collapsed": false,
     "input": [
      "##Solutions to Problems In applied mechanics\n",
      "##A N Gobby\n",
      "import math\n",
      "##initialisation of variables\n",
      "w=0.5##tonf/in^2\n",
      "w1=7.##tonf/in^2\n",
      "w2=10.##tonf/in^2\n",
      "t=12.4##tonf/in^2\n",
      "d1=1.5##in\n",
      "d2=1.24##in\n",
      "x=0.495##in\n",
      "d3=3.02##in\n",
      "##CALCULATIONS\n",
      "Y=math.sqrt((d3/2.)**2-(d2/2.)**2)##in\n",
      "S=(1/2.*t/(2.*Y*w))##tonf/in^2\n",
      "##RESULTS\n",
      "print'%s %.2f %s'%('the shear stress in fork end= ',S,' tonf/in^2')\n"
     ],
     "language": "python",
     "metadata": {},
     "outputs": [
      {
       "output_type": "stream",
       "stream": "stdout",
       "text": [
        "the shear stress in fork end=  4.50  tonf/in^2\n"
       ]
      }
     ],
     "prompt_number": 4
    },
    {
     "cell_type": "heading",
     "level": 2,
     "metadata": {},
     "source": [
      "Ex4-pg70"
     ]
    },
    {
     "cell_type": "code",
     "collapsed": false,
     "input": [
      "##Solutions to Problems In applied mechanics\n",
      "##A N Gobby\n",
      "import math\n",
      "##initialisation of variables\n",
      "g=2.##in\n",
      "t=0.002##in\n",
      "l=7500.##lbf\n",
      "w=11000.##lbf\n",
      "p=1./4.##in\n",
      "##CALCULATIONS\n",
      "W=1./2.*l*t##in lbf\n",
      "P=t*(w/l)##in\n",
      "S=w/p##lbf/in^2\n",
      "E=S*g/P##lbf/in^2\n",
      "R=(1./2.)*w*P##in lbf\n",
      "##RESULTS\n",
      "print'%s %.4f %s'%('The elongation at the elastic limit= ',P,' in')\n",
      "print'%s %.2f %s'%('The stress at the elastic limit= ',S,' lbf/in^2')\n",
      "print'%s %.2f %s'%('The modulus of elasticity E of the material is= ',E,' lbf/in^2')\n",
      "print'%s %.2f %s'%('The resilience and modulus of elasticity= ',R,' in lbf')\n"
     ],
     "language": "python",
     "metadata": {},
     "outputs": [
      {
       "output_type": "stream",
       "stream": "stdout",
       "text": [
        "The elongation at the elastic limit=  0.0029  in\n",
        "The stress at the elastic limit=  44000.00  lbf/in^2\n",
        "The modulus of elasticity E of the material is=  30000000.00  lbf/in^2\n",
        "The resilience and modulus of elasticity=  16.13  in lbf\n"
       ]
      }
     ],
     "prompt_number": 5
    },
    {
     "cell_type": "heading",
     "level": 2,
     "metadata": {},
     "source": [
      "Ex5-pg71"
     ]
    },
    {
     "cell_type": "code",
     "collapsed": false,
     "input": [
      "##Solutions to Problems In applied mechanics\n",
      "##A N Gobby\n",
      "import math\n",
      "##initialisation of variables\n",
      "v=4.##in\n",
      "w=20.##tonf\n",
      "d=10.##ft\n",
      "m=13400.##tonf/in^2\n",
      "q=2.##in\n",
      "l=120.##in\n",
      "##CALCULATIONS\n",
      "Fmax=q*(w)/(math.pi/v*v**2)##tonf/in^2\n",
      "M=Fmax*l/m##in\n",
      "P=w*M##in tonf\n",
      "##RESULTS\n",
      "print'%s %.2f %s'%('The maximum instantneous stress= ',Fmax,' tonf/in^2')\n",
      "print'%s %.2f %s'%('The maximum elongation is= ',M,' in')\n",
      "print'%s %.2f %s'%('the strain energy stored= ',P,' in tonf')\n"
     ],
     "language": "python",
     "metadata": {},
     "outputs": [
      {
       "output_type": "stream",
       "stream": "stdout",
       "text": [
        "The maximum instantneous stress=  3.18  tonf/in^2\n",
        "The maximum elongation is=  0.03  in\n",
        "the strain energy stored=  0.57  in tonf\n"
       ]
      }
     ],
     "prompt_number": 6
    },
    {
     "cell_type": "heading",
     "level": 2,
     "metadata": {},
     "source": [
      "Ex6-pg72"
     ]
    },
    {
     "cell_type": "code",
     "collapsed": false,
     "input": [
      "##Solutions to Problems In applied mechanics\n",
      "##A N Gobby\n",
      "import math\n",
      "##initialisation of variables\n",
      "d=4.##in\n",
      "p=2.##ft\n",
      "d1=1./2.##in\n",
      "e=13200.##tonf/in^2\n",
      "f=9.51##tonf/in^2\n",
      "k=0.0114##tonf/in^2\n",
      "##CALCULATIONS\n",
      "E=k*f##in tonf\n",
      "F=(p/(math.pi/d*d**2))##tonf/in^2\n",
      "##RESULTS\n",
      "print'%s %.2f %s'%('the final stress after oscillation has died aways will load/area= ',F,' tonf/in^2')\n"
     ],
     "language": "python",
     "metadata": {},
     "outputs": [
      {
       "output_type": "stream",
       "stream": "stdout",
       "text": [
        "the final stress after oscillation has died aways will load/area=  0.16  tonf/in^2\n"
       ]
      }
     ],
     "prompt_number": 7
    },
    {
     "cell_type": "heading",
     "level": 2,
     "metadata": {},
     "source": [
      "Ex7-pg73"
     ]
    },
    {
     "cell_type": "code",
     "collapsed": false,
     "input": [
      "##Solutions to Problems In applied mechanics\n",
      "##A N Gobby\n",
      "import math\n",
      "##initialisation of variables\n",
      "h=3.##in\n",
      "s=10.2##tonf/in^2\n",
      "v=0.006##in\n",
      "d=0.5##in\n",
      "d1=0.75##in\n",
      "w=20.##lbf\n",
      "q=v/8.##tonf/in^2\n",
      "x=0.029##in\n",
      "##CALCULATIONS\n",
      "M=s/q##tonf/in^2\n",
      "E=M*(x)/(h*12.)##tonf/in^2\n",
      "##RESULTS\n",
      "print'%s %.2f %s'%('the corresponding stress= ',E,' tonf/in^2')\n"
     ],
     "language": "python",
     "metadata": {},
     "outputs": [
      {
       "output_type": "stream",
       "stream": "stdout",
       "text": [
        "the corresponding stress=  10.96  tonf/in^2\n"
       ]
      }
     ],
     "prompt_number": 8
    },
    {
     "cell_type": "heading",
     "level": 2,
     "metadata": {},
     "source": [
      "Ex8-pg73"
     ]
    },
    {
     "cell_type": "code",
     "collapsed": false,
     "input": [
      "##Solutions to Problems In applied mechanics\n",
      "##A N Gobby\n",
      "import math\n",
      "##initialisation of variables\n",
      "e=30.*10**2##lbf/in^2\n",
      "b=15.##in\n",
      "t=50.##percent\n",
      "p=1.5##in\n",
      "v=6.##in\n",
      "h=2240.##lbf\n",
      "I=0.0038##in\n",
      "##CALCULATIONS\n",
      "W=1/2.*v*I##in tonf\n",
      "w1=W*p##in tonf\n",
      "T=math.sqrt((v**2*h)/(2.*math.pi/4.*e))/((b)/(p)**2/(1)**2)*10.##in\n",
      "##RESULTS\n",
      "print'%s %.2f %s'%('the total energy in the bar= ',T,' in')\n"
     ],
     "language": "python",
     "metadata": {},
     "outputs": [
      {
       "output_type": "stream",
       "stream": "stdout",
       "text": [
        "the total energy in the bar=  6.21  in\n"
       ]
      }
     ],
     "prompt_number": 11
    },
    {
     "cell_type": "heading",
     "level": 2,
     "metadata": {},
     "source": [
      "Ex9-pg74"
     ]
    },
    {
     "cell_type": "code",
     "collapsed": false,
     "input": [
      "##Solutions to Problems In applied mechanics\n",
      "##A N Gobby\n",
      "import math\n",
      "##initialisation of variables\n",
      "\n",
      "E=13400.##tonf/in^2\n",
      "E1=5600.##tonf/in^2\n",
      "h=7.##tonf/in^2\n",
      "h1=3.5##tonf/in^2\n",
      "w=1.5##ij\n",
      "l=5.##tonf\n",
      "A=math.pi/4.*1**2##in^2\n",
      "A1=math.pi/4.*(w**2-1**2)##in^2\n",
      "s=1.91##tonf\n",
      "t=0.787##in\n",
      "pg=1.72##tonf\n",
      "##CALCULATIONS\\\n",
      "m=h*t##tonf\n",
      "p=m/s##tonf\n",
      "g=p/A1##tonf/in^2\n",
      "m1=m+p##tonf\n",
      "S=pg/A1##tonf/in^2\n",
      "Ps=pg*s##tonf\n",
      "S1=Ps/t##tonf/in^2\n",
      "##RESULTS\n",
      "print'%s %.2f %s'%('the stress in the steel= ',S1,' tonf/in^2')\n"
     ],
     "language": "python",
     "metadata": {},
     "outputs": [
      {
       "output_type": "stream",
       "stream": "stdout",
       "text": [
        "the stress in the steel=  4.17  tonf/in^2\n"
       ]
      }
     ],
     "prompt_number": 12
    },
    {
     "cell_type": "heading",
     "level": 2,
     "metadata": {},
     "source": [
      "Ex10-pg75"
     ]
    },
    {
     "cell_type": "code",
     "collapsed": false,
     "input": [
      "##Solutions to Problems In applied mechanics\n",
      "##A N Gobby\n",
      "import math\n",
      "##initialisation of variables\n",
      "\n",
      "E=2.*10**6##lbf/in^2\n",
      "s=600.##lbf/in^2\n",
      "w=12.##in\n",
      "l=80.##tonf\n",
      "w1=4.##ft\n",
      "E1=30.*10**6##lbf/in^2\n",
      "h=2240.##in\n",
      "s2=10.9##in^2\n",
      "F=9000.##lbf/in^2\n",
      "##CALCULATIONS\n",
      "L=(F*w1*w/E1)##in\n",
      "##RESULTS\n",
      "print'%s %.2f %s'%('the column shortens by= ',L,' in')\n"
     ],
     "language": "python",
     "metadata": {},
     "outputs": [
      {
       "output_type": "stream",
       "stream": "stdout",
       "text": [
        "the column shortens by=  0.01  in\n"
       ]
      }
     ],
     "prompt_number": 13
    },
    {
     "cell_type": "heading",
     "level": 2,
     "metadata": {},
     "source": [
      "Ex11-pg76"
     ]
    },
    {
     "cell_type": "code",
     "collapsed": false,
     "input": [
      "##Solutions to Problems In applied mechanics\n",
      "##A N Gobby\n",
      "import math\n",
      "##initialisation of variables\n",
      "E1=30.*10**6##lbf/in^2\n",
      "E2=15.*10**6##lbf/in^2\n",
      "alf=6.4*10**-6##degF-1\n",
      "alf1=9.5*10**-6##degF-1\n",
      "t=170.##deg\n",
      "t1=50.##deg\n",
      "w=5.##tonf\n",
      "ec=0.000248##lbf/in^2\n",
      "es=0.000124##lbf/in^2\n",
      "h=2240.##in\n",
      "##CALCULATIONS\n",
      "e=(alf1-alf)*(t-t1)##in\n",
      "Ec=E2*ec##lbf/in^2\n",
      "Es=E1*es##lbf/in^2\n",
      "F=E1/E2##fc\n",
      "S=w*h/(2.*1.+1.)##lbf/in^2\n",
      "S1=S*2.##lbf/in^2\n",
      "R=-Es+S##lbf/in^2\n",
      "R1=Es+S1##lbf/in^2\n",
      "##RESULTS\n",
      "print'%s %.2f %s'%('The final stress in the steel and applied to the compound = ',R1,' lbf/in^2')\n"
     ],
     "language": "python",
     "metadata": {},
     "outputs": [
      {
       "output_type": "stream",
       "stream": "stdout",
       "text": [
        "The final stress in the steel and applied to the compound =  11186.67  lbf/in^2\n"
       ]
      }
     ],
     "prompt_number": 14
    },
    {
     "cell_type": "heading",
     "level": 2,
     "metadata": {},
     "source": [
      "Ex12-pg77"
     ]
    },
    {
     "cell_type": "code",
     "collapsed": false,
     "input": [
      "##Solutions to Problems In applied mechanics\n",
      "##A N Gobby\n",
      "import math\n",
      "##initialisation of variables\n",
      "a=1/16.##ft/s\n",
      "h=100.##lbf/in^2\n",
      "w=10.##lbf/in^2\n",
      "q=2.##in\n",
      "b=math.pi/4.*(3./16.)**2##in^2\n",
      "p=5.##inch valu per 12.7\n",
      "##CALCULATIONS\n",
      "H=(h*w)/(q*a)##lbf/in^2\n",
      "F=H*1.*a##lbf\n",
      "A=H/2.##lbf/in^2\n",
      "R=(b)/(F/A)*5.14*4.##per inch\n",
      "F1=A*1.*a##lbf\n",
      "m=(b)/(F1/A)*5.14##per inch\n",
      "##RESULTS\n",
      "print'%s %.2f %s'%('the force per inch of circumferential seam= ',m,' per in')\n"
     ],
     "language": "python",
     "metadata": {},
     "outputs": [
      {
       "output_type": "stream",
       "stream": "stdout",
       "text": [
        "the force per inch of circumferential seam=  2.27  per in\n"
       ]
      }
     ],
     "prompt_number": 15
    },
    {
     "cell_type": "heading",
     "level": 2,
     "metadata": {},
     "source": [
      "Ex13-pg77"
     ]
    },
    {
     "cell_type": "code",
     "collapsed": false,
     "input": [
      "##Solutions to Problems In applied mechanics\n",
      "##A N Gobby\n",
      "import math\n",
      "##initialisation of variables\n",
      "\n",
      "p=14.7##lbf/in^2\n",
      "w=15000.##lbf/in^2\n",
      "p1=190.##lbf/in^2\n",
      "q=0.35##percent\n",
      "q1=0.75##percent\n",
      "w1=2.##ft\n",
      "q2=36.##tonf/in^2\n",
      "f=6.##in\n",
      "r1=3/8.##in\n",
      "p2=4.##in\n",
      "h=2240.##in\n",
      "##CALCULATIONS\n",
      "A=w*q##lbf/in^2\n",
      "E=w*q1##lbf/in^2\n",
      "M1=(p2*A*(1/2.)/(p1-p))##in\n",
      "M2=(w1*E*(1/2.)/(p1-p))##in\n",
      "M3=p2*r1*((q2*h)/f)/(w1*12.)##lbf/in^2 gauge\n",
      "##RESULTS\n",
      "print'%s %.2f %s'%('the Maximum possible diameter of cylinder = ',M2,' in')\n",
      "print'%s %.2f %s'%('the Maximum allowable pressure= ',M3,' lbf/in^2 gauge')\n"
     ],
     "language": "python",
     "metadata": {},
     "outputs": [
      {
       "output_type": "stream",
       "stream": "stdout",
       "text": [
        "the Maximum possible diameter of cylinder =  64.18  in\n",
        "the Maximum allowable pressure=  840.00  lbf/in^2 gauge\n"
       ]
      }
     ],
     "prompt_number": 16
    },
    {
     "cell_type": "heading",
     "level": 2,
     "metadata": {},
     "source": [
      "Ex14-pg81"
     ]
    },
    {
     "cell_type": "code",
     "collapsed": false,
     "input": [
      "##Solutions to Problems In applied mechanics\n",
      "##A N Gobby\n",
      "import math\n",
      "##initialisation of variables\n",
      "\n",
      "w=450.##lbf/in^2\n",
      "m=3000.##lbf/in^2\n",
      "g=32.2##lbf/in^2\n",
      "h=144.##in\n",
      "##CALCULATIONS\n",
      "M=math.sqrt(g*m*h/w)##ft/f\n",
      "##RESULTS\n",
      "print'%s %.2f %s'%('the maximum rim speed of flywheel= ',M,' ft/f')\n"
     ],
     "language": "python",
     "metadata": {},
     "outputs": [
      {
       "output_type": "stream",
       "stream": "stdout",
       "text": [
        "the maximum rim speed of flywheel=  175.82  ft/f\n"
       ]
      }
     ],
     "prompt_number": 17
    }
   ],
   "metadata": {}
  }
 ]
}