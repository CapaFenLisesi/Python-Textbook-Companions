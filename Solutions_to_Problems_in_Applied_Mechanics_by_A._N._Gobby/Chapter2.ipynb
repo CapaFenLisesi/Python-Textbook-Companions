{
 "metadata": {
  "name": "",
  "signature": "sha256:8cc345c457c220087f4fe714f9742278677b74848dfd86669cab1fb48d07fa0d"
 },
 "nbformat": 3,
 "nbformat_minor": 0,
 "worksheets": [
  {
   "cells": [
    {
     "cell_type": "heading",
     "level": 1,
     "metadata": {},
     "source": [
      "Chapter2-Angular Motion"
     ]
    },
    {
     "cell_type": "heading",
     "level": 2,
     "metadata": {},
     "source": [
      "EX1-pg13"
     ]
    },
    {
     "cell_type": "code",
     "collapsed": false,
     "input": [
      "##Solutions to Problems In applied mechanics\n",
      "##A N Gobby\n",
      "import math\n",
      "##equation of motion, Mass of moment of inertia, percentage \n",
      "##reduction in speed\n",
      "##initialisation of variables\n",
      "g=5.##ft\n",
      "w=300.##rev/min\n",
      "a=0.86##red/s^2\n",
      "h=2240.##ft/s\n",
      "q=4.##ft\n",
      "g1=32.1##ft/s\n",
      "k=3105000.##ft lbf\n",
      "##CALCULATIONS\n",
      "T=(w*(2.*math.pi/60.))/(a)##sec\n",
      "M=(q*h*(g**2))/(g1)##slug ft^3\n",
      "K=((1/2.)*M)*((w*2.*math.pi**2)/(60.))##ft lbf\n",
      "W=math.sqrt(k/(1./2.)/M)##rad/s\n",
      "P=((((w*2.*math.pi)/60.)-W)/((w*2.*math.pi)/60.))*100.##percent\n",
      "##RESULTS\n",
      "print'%s %.2f %s'%('The equation of motion= ',T,' sec')\n",
      "print'%s %.2f %s'%('Mass of moment of inertia of = ',K,' ft lbf')\n",
      "print'%s %.2f %s'%('the percentage reduction in speed= ',P,' percent')\n"
     ],
     "language": "python",
     "metadata": {},
     "outputs": [
      {
       "output_type": "stream",
       "stream": "stdout",
       "text": [
        "The equation of motion=  36.53  sec\n",
        "Mass of moment of inertia of =  344360.03  ft lbf\n",
        "the percentage reduction in speed=  5.04  percent\n"
       ]
      }
     ],
     "prompt_number": 1
    },
    {
     "cell_type": "heading",
     "level": 2,
     "metadata": {},
     "source": [
      "Ex2-pg15"
     ]
    },
    {
     "cell_type": "code",
     "collapsed": false,
     "input": [
      "##Solutions to Problems In applied mechanics\n",
      "##A N Gobby\n",
      "import math\n",
      "##radius of gyration\n",
      "##initialisation of variables\n",
      "m=2.58065##slug ft^3\n",
      "w=2.144##in\n",
      "##CALCULATIONS\n",
      "R=math.sqrt(m/w)##ft\n",
      "##RESULTS\n",
      "print'%s %.2f %s'%('The radius of gyration= ',R,' ft')\n"
     ],
     "language": "python",
     "metadata": {},
     "outputs": [
      {
       "output_type": "stream",
       "stream": "stdout",
       "text": [
        "The radius of gyration=  1.10  ft\n"
       ]
      }
     ],
     "prompt_number": 2
    },
    {
     "cell_type": "heading",
     "level": 2,
     "metadata": {},
     "source": [
      "Ex3-pg15"
     ]
    },
    {
     "cell_type": "code",
     "collapsed": false,
     "input": [
      "##Solutions to Problems In applied mechanics\n",
      "##A N Gobby\n",
      "##distance travelled along incline before coming to rest\n",
      "import math\n",
      "##initialisation of variables\n",
      "w1=10.##tonf\n",
      "r=36.##in\n",
      "w=1./4.##tonf\n",
      "g=14.##in\n",
      "t=30.##mile/h\n",
      "s=100.##in\n",
      "m=20.##lbf/tonf\n",
      "h=2240.##lbf\n",
      "q=44.##in\n",
      "g1=32.2##ft\n",
      "##CALCULATIONS\n",
      "K=(w1*h*(q**2))/(2.*g1)##ft lbf \n",
      "L=q/1.5##rad/s\n",
      "R=(2.*1./2.*(1./4.*h/g1)*(g/12.)**2)*L**2##ft lbf\n",
      "T=K+R##ft lbf\n",
      "M=m*w1##lbf\n",
      "G=w1*h*(1./s)##lbf\n",
      "S=K/(M+G)##ft\n",
      "##RESULTS\n",
      "print'%s %.2f %s'%('the distance travelled along incline before coming to rest= ',S,' ft')\n",
      "#answer is different due to round off error\n"
     ],
     "language": "python",
     "metadata": {},
     "outputs": [
      {
       "output_type": "stream",
       "stream": "stdout",
       "text": [
        "the distance travelled along incline before coming to rest=  1588.19  ft\n"
       ]
      }
     ],
     "prompt_number": 3
    },
    {
     "cell_type": "heading",
     "level": 2,
     "metadata": {},
     "source": [
      "Ex4-pg16"
     ]
    },
    {
     "cell_type": "code",
     "collapsed": false,
     "input": [
      "##Solutions to Problems In applied mechanics\n",
      "##A N Gobby\n",
      "import math\n",
      "##percentage fluctuation in speed\n",
      "##initialisation of variables\n",
      "g=32.2##ft\n",
      "p=275.##rev/min\n",
      "w=1/2.*p##ft\n",
      "d=15.##hp\n",
      "h=33000.##ft\n",
      "r=0.8##ft\n",
      "h1=2240.##ft\n",
      "m=p*(2*math.pi/60.)##rad/s\n",
      "##CALCULATIONS\n",
      "W=(d*h)/w##ft lbf\n",
      "E=r*W##ft lbf\n",
      "I=(1.*h1*(3.)**2)/(g)##slug ft^2\n",
      "Q=(E*100.)/(I*(m)**2*2.)##percent\n",
      "##RESULTS\n",
      "print'%s %.2f %s'%('the percentage fluctuation in speed= ',Q,' percent')\n"
     ],
     "language": "python",
     "metadata": {},
     "outputs": [
      {
       "output_type": "stream",
       "stream": "stdout",
       "text": [
        "the percentage fluctuation in speed=  0.28  percent\n"
       ]
      }
     ],
     "prompt_number": 4
    },
    {
     "cell_type": "heading",
     "level": 2,
     "metadata": {},
     "source": [
      "Ex5-pg17"
     ]
    },
    {
     "cell_type": "code",
     "collapsed": false,
     "input": [
      "##Solutions to Problems In applied mechanics\n",
      "##A N Gobby\n",
      "import math\n",
      "##weight of flywheel and the work done by frictional torque\n",
      "##initialisation of variables\n",
      "w=140.##rev\n",
      "r=8.##in\n",
      "g=12.##in\n",
      "t=30.##mile/h\n",
      "q=(1/4.)##tonf\n",
      "I=0.99##slug ft^3\n",
      "p=32.2##ft^2\n",
      "##CALCULATIONS\n",
      "W=(I*p)/(r/g)**2##lbf\n",
      "T=(I*(2*math.pi)**2)/(2.*(2.*math.pi)*w)##lbf ft\n",
      "##RESULTS\n",
      "print'%s %.2f %s'%('The weight of flywheel=',W,'lbf')\n",
      "print'%s %.2f %s'%('the work done by frictional torque in stopping flywheel= ',T,' lbf ft')\n"
     ],
     "language": "python",
     "metadata": {},
     "outputs": [
      {
       "output_type": "stream",
       "stream": "stdout",
       "text": [
        "The weight of flywheel= 71.73 lbf\n",
        "the work done by frictional torque in stopping flywheel=  0.02  lbf ft\n"
       ]
      }
     ],
     "prompt_number": 5
    },
    {
     "cell_type": "heading",
     "level": 2,
     "metadata": {},
     "source": [
      "Ex6-pg18"
     ]
    },
    {
     "cell_type": "code",
     "collapsed": false,
     "input": [
      "##Solutions to Problems In applied mechanics\n",
      "##A N Gobby\n",
      "##mass moment of inertia, kinetic enrgy and shear blades\n",
      "import math\n",
      "##initialisation of variables\n",
      "w=2.##tonf\n",
      "t=250.##rev/min\n",
      "g=32.2##ft\n",
      "h=2240.##ft\n",
      "f=0.8##percent\n",
      "t1=60.##ft\n",
      "s=1*(2./3.)##min\n",
      "r=480.##ft\n",
      "w1=20.##ft\n",
      "##CALCULATIONS\n",
      "M=(w*h*(w**2))/g##slug ft^2\n",
      "A=(t*(w*math.pi/t1))/t1*s##rad/s^2\n",
      "I=M*A##lbf ft\n",
      "K=1/2.*(M)*(2.*math.pi/t1)**2*r*w1##ft lbf\n",
      "F=f*K/(3./12.)##lbf\n",
      "##RESULTS\n",
      "print'%s %.2f %s'%('the mass moment of inertia = ',I,' lbf ft')\n",
      "print'%s %.2f %s'%('the kinetic energy= ',K,' ft lbf')\n",
      "print'%s %.2f %s'%('the average force on the shear blades= ',F,' lbf')\n",
      "#answer is different due to round off error"
     ],
     "language": "python",
     "metadata": {},
     "outputs": [
      {
       "output_type": "stream",
       "stream": "stdout",
       "text": [
        "the mass moment of inertia =  161.89  lbf ft\n",
        "the kinetic energy=  29294.13  ft lbf\n",
        "the average force on the shear blades=  93741.22  lbf\n"
       ]
      }
     ],
     "prompt_number": 6
    },
    {
     "cell_type": "heading",
     "level": 2,
     "metadata": {},
     "source": [
      "Ex7-pg19"
     ]
    },
    {
     "cell_type": "code",
     "collapsed": false,
     "input": [
      "##Solutions to Problems In applied mechanics\n",
      "##A N Gobby\n",
      "import math\n",
      "##frictional torque retarding and tangential braking acting\n",
      "##initialisation of variables\n",
      "h=2240.##ft\n",
      "w=0.06##ft\n",
      "w1=4.##ft\n",
      "q=12.##ft\n",
      "g=5.##ft\n",
      "g1=32.2##ft\n",
      "d=100.##rev/min\n",
      "f=120.##sec\n",
      "##CALCULATIONS\n",
      "T=w*(w1*h)*(w1/q)##lbf ft\n",
      "I=((w1*h*(g)**2)/g1)*d*(2.*math.pi/60.)##slug ft^2/s or lbf ft s\n",
      "M=I/T##sec\n",
      "P=430.8##lbf ft\n",
      "R=(P/2.5)##lbf\n",
      "##RESULTS\n",
      "print'%s %.2f %s'%('the frictional torque retarding= ',M,' sec')\n",
      "print'%s %.2f %s'%('the tangential braking acting= ',R,' lbf')\n"
     ],
     "language": "python",
     "metadata": {},
     "outputs": [
      {
       "output_type": "stream",
       "stream": "stdout",
       "text": [
        "the frictional torque retarding=  406.52  sec\n",
        "the tangential braking acting=  172.32  lbf\n"
       ]
      }
     ],
     "prompt_number": 7
    },
    {
     "cell_type": "heading",
     "level": 2,
     "metadata": {},
     "source": [
      "Ex8-pg20"
     ]
    },
    {
     "cell_type": "code",
     "collapsed": false,
     "input": [
      "##Solutions to Problems In applied mechanics\n",
      "##A N Gobby\n",
      "##tangential force\n",
      "import math\n",
      "##initialisation of variables\n",
      "I=179.2##lbf ft\n",
      "h=2240.##ft\n",
      "w=4.##ft\n",
      "w1=5.##ft\n",
      "r=120.##ft\n",
      "g=32.2##ft\n",
      "p=100.##ft\n",
      "t=60.##ft\n",
      "##CALCULATIONS\n",
      "M=(w*h*(w1)**2)/g##slug ft^3\n",
      "T=I/M##rad/s\n",
      "D=p*(2.*math.pi)/(t*T)##sec\n",
      "N=(p*(2.*math.pi)/t)/r##rad/s^2\n",
      "T1=M*N##lbf ft\n",
      "B=T1-I##lbf ft\n",
      "F=B/2.*1/2.##lbf\n",
      "##RESULTS\n",
      "print'%s %.2f %s'%('the deceleration = ',D,' sec')\n",
      "print'%s %.2f %s'%('the tangential force on brake rim= ',F,' lbf')\n",
      "#answer is different due to round off error"
     ],
     "language": "python",
     "metadata": {},
     "outputs": [
      {
       "output_type": "stream",
       "stream": "stdout",
       "text": [
        "the deceleration =  406.52  sec\n",
        "the tangential force on brake rim=  106.97  lbf\n"
       ]
      }
     ],
     "prompt_number": 8
    },
    {
     "cell_type": "heading",
     "level": 2,
     "metadata": {},
     "source": [
      "Ex9-pg20"
     ]
    },
    {
     "cell_type": "code",
     "collapsed": false,
     "input": [
      "##Solutions to Problems In applied mechanics\n",
      "##A N Gobby\n",
      "##friction of bearings is to to neglected\n",
      "import math\n",
      "##initialisation of variables\n",
      "h=2240.##ft\n",
      "g=32.2##ft\n",
      "g1=15.##in\n",
      "w=1200.##lbf\n",
      "q=12.##ft\n",
      "r=1.5##ft\n",
      "t=3.28##tonf ft\n",
      "t1=1.7##tonf ft\n",
      "x=550.##ft\n",
      "s=6.##ft\n",
      "##CALCULATIONS\n",
      "T=((w*(g1/q)**2)/(h*g))*(3./r)##tonf ft\n",
      "T1=t-t1+T##tonf ft\n",
      "W=(T1*h*s/(r))/(x)##ft lbf\n",
      "##RESULTS\n",
      "print'%s %.2f %s'%('the friction of bearings is to to neglected =',W,'')\n"
     ],
     "language": "python",
     "metadata": {},
     "outputs": [
      {
       "output_type": "stream",
       "stream": "stdout",
       "text": [
        "the friction of bearings is to to neglected = 26.59 \n"
       ]
      }
     ],
     "prompt_number": 9
    },
    {
     "cell_type": "heading",
     "level": 2,
     "metadata": {},
     "source": [
      "Ex10-pg22"
     ]
    },
    {
     "cell_type": "code",
     "collapsed": false,
     "input": [
      "##Solutions to Problems In applied mechanics\n",
      "##A N Gobby\n",
      "import math\n",
      "##torque to acceleration drum and truck\n",
      "\n",
      "##initialisation of variables\n",
      "v=20.##ft/s\n",
      "s=150.##ft\n",
      "h=2240.##ft\n",
      "g=32.2##ft\n",
      "d=3.##ft\n",
      "p=364.9##lbf\n",
      "q=4##ft\n",
      "##CALCULATIONS\n",
      "A=v**2/(2.*s)##ft/s^2\n",
      "T=(h*(d)**2/g)*(A/q)+p*q##lbf ft\n",
      "##RESULTS\n",
      "print'%s %.2f %s'%('the torque to acceleration drum and truck= ',T,' lbf ft')\n"
     ],
     "language": "python",
     "metadata": {},
     "outputs": [
      {
       "output_type": "stream",
       "stream": "stdout",
       "text": [
        "the torque to acceleration drum and truck=  1668.30  lbf ft\n"
       ]
      }
     ],
     "prompt_number": 10
    },
    {
     "cell_type": "heading",
     "level": 2,
     "metadata": {},
     "source": [
      "Ex11-pg22"
     ]
    },
    {
     "cell_type": "code",
     "collapsed": false,
     "input": [
      "##Solutions to Problems In applied mechanics\n",
      "##A N Gobby\n",
      "import math\n",
      "##gravitational force\n",
      "##initialisation of variables\n",
      "v=35.##hp\n",
      "p=25.##percent\n",
      "v1=30.##mile/h\n",
      "q=28.##in\n",
      "d=30.##in\n",
      "w=3200.##lbf\n",
      "t=33000.##lbf\n",
      "s=88.##in\n",
      "W=w*(1./v1)##lbf\n",
      "m=0.364##mile/h\n",
      "##CALCULATIONS\n",
      "N=(v1*s/60.)/(14./12.)*(60./(2*math.pi))##rev/min\n",
      "Ne=N*6.##rev/min\n",
      "E=(v*t)/(2.*math.pi*Ne)##lbf ft\n",
      "T=(v*0.75*t)/(2.*math.pi*N)##lbf ft\n",
      "P=T/(14./12.)##lbf\n",
      "V=math.sqrt((P-W)/m)##mile/h\n",
      "##RESULTS\n",
      "print'%s %.2f %s'%('the gravitational force= ',V,'mile/h')\n"
     ],
     "language": "python",
     "metadata": {},
     "outputs": [
      {
       "output_type": "stream",
       "stream": "stdout",
       "text": [
        "the gravitational force=  24.67 mile/h\n"
       ]
      }
     ],
     "prompt_number": 11
    }
   ],
   "metadata": {}
  }
 ]
}