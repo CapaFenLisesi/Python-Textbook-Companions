{
 "metadata": {
  "name": "",
  "signature": "sha256:ecce0cec47219038b6baca273268aaf620d0bc7b7708d78c03e56d481ad6cc9a"
 },
 "nbformat": 3,
 "nbformat_minor": 0,
 "worksheets": [
  {
   "cells": [
    {
     "cell_type": "heading",
     "level": 1,
     "metadata": {},
     "source": [
      "Chapter4-Simple Harmonic motion"
     ]
    },
    {
     "cell_type": "heading",
     "level": 2,
     "metadata": {},
     "source": [
      "Ex1-pg40"
     ]
    },
    {
     "cell_type": "code",
     "collapsed": false,
     "input": [
      "##Solutions to Problems In applied mechanics\n",
      "##A N Gobby\n",
      "import math\n",
      "##initialisation of variables\n",
      "t=3.##sec\n",
      "m=20.##per mint\n",
      "a=4.##ft\n",
      "##CALCULATIONS\n",
      "T=2.*math.pi/t##ft/s\n",
      "V=T*a##ft/s\n",
      "F=(T)**2*a##ft/s^2\n",
      "##RESULTS\n",
      "print'%s %.2f %s'%('th acceleration x must be a maximum= ',F,' ft/s^2')\n"
     ],
     "language": "python",
     "metadata": {},
     "outputs": [
      {
       "output_type": "stream",
       "stream": "stdout",
       "text": [
        "th acceleration x must be a maximum=  17.55  ft/s^2\n"
       ]
      }
     ],
     "prompt_number": 1
    },
    {
     "cell_type": "heading",
     "level": 2,
     "metadata": {},
     "source": [
      "Ex2-pg42"
     ]
    },
    {
     "cell_type": "code",
     "collapsed": false,
     "input": [
      "##Solutions to Problems In applied mechanics\n",
      "##A N Gobby\n",
      "import math\n",
      "##initialisation of variables\n",
      "a=10.##ft/s\n",
      "x=1/12.##ft/s\n",
      "g=32.2##ft\n",
      "##CALCULATIONS\n",
      "P=2.*math.pi*math.sqrt(x/a)##sec\n",
      "L=(P)/(2.*math.pi/math.sqrt(g))/2.##ft\n",
      "##RESULTS\n",
      "print'%s %.2f %s'%('the simple pendulum = ',L,' ft')\n"
     ],
     "language": "python",
     "metadata": {},
     "outputs": [
      {
       "output_type": "stream",
       "stream": "stdout",
       "text": [
        "the simple pendulum =  0.26  ft\n"
       ]
      }
     ],
     "prompt_number": 2
    },
    {
     "cell_type": "heading",
     "level": 2,
     "metadata": {},
     "source": [
      "Ex3-pg43"
     ]
    },
    {
     "cell_type": "code",
     "collapsed": false,
     "input": [
      "##Solutions to Problems In applied mechanics\n",
      "##A N Gobby\n",
      "import math\n",
      "##initialisation of variables\n",
      "w=20.##lbf\n",
      "p=12.##ft/s\n",
      "v1=15.##ft/s\n",
      "g=32.2##ft\n",
      "v2=10.##ft/s\n",
      "d1=6.##in\n",
      "d2=9.##in\n",
      "a=10.82##in\n",
      "##CALCULATIONS\n",
      "Um=(v2*p)/math.sqrt(a**2-d2**2)##sec^-1\n",
      "P=2.*math.pi/Um##sec\n",
      "V=w*a##in/s\n",
      "M=w**2*a/p##ft/s\n",
      "F=(w/g)*M##lbf\n",
      "##RESULTS\n",
      "print'%s %.2f %s'%('the velocity= ',a,' in')\n",
      "print'%s %.2f %s'%('periodic time= ',p,' sec')\n",
      "print'%s %.2f %s'%('the maximum velocity= ',V,' in/s')\n",
      "print'%s %.2f %s'%('maximum acceleration= ',F,' lbf')\n"
     ],
     "language": "python",
     "metadata": {},
     "outputs": [
      {
       "output_type": "stream",
       "stream": "stdout",
       "text": [
        "the velocity=  10.82  in\n",
        "periodic time=  12.00  sec\n",
        "the maximum velocity=  216.40  in/s\n",
        "maximum acceleration=  224.02  lbf\n"
       ]
      }
     ],
     "prompt_number": 3
    },
    {
     "cell_type": "heading",
     "level": 2,
     "metadata": {},
     "source": [
      "Ex4-pg44"
     ]
    },
    {
     "cell_type": "code",
     "collapsed": false,
     "input": [
      "##Solutions to Problems In applied mechanics\n",
      "##A N Gobby\n",
      "import math\n",
      "##initialisation of variables\n",
      "w=4.##lbf\n",
      "h=40.##lbf/ft\n",
      "d=2.##in\n",
      "g=32.2##ft/s\n",
      "##CALCULATIONS\n",
      "P=(d*math.pi)*math.sqrt(w/(h*g))##sec\n",
      "V=(d*math.pi*d)/(P*12.)##ft/s\n",
      "M=(d*math.pi/P)**2*(d/12.)##ft/s\n",
      "##RESULTS\n",
      "print'%s %.2f %s'%('the period of vibration= ',P,' sec')\n",
      "print'%s %.2f %s'%('Maximum veloity= ',V,' ft/s')\n",
      "print'%s %.2f %s'%('Maximum acceleration= ',M,' ft/s')\n"
     ],
     "language": "python",
     "metadata": {},
     "outputs": [
      {
       "output_type": "stream",
       "stream": "stdout",
       "text": [
        "the period of vibration=  0.35  sec\n",
        "Maximum veloity=  2.99  ft/s\n",
        "Maximum acceleration=  53.67  ft/s\n"
       ]
      }
     ],
     "prompt_number": 4
    },
    {
     "cell_type": "heading",
     "level": 2,
     "metadata": {},
     "source": [
      "Ex5-pg45"
     ]
    },
    {
     "cell_type": "code",
     "collapsed": false,
     "input": [
      "##Solutions to Problems In applied mechanics\n",
      "##A N Gobby\n",
      "import math\n",
      "##initialisation of variables\n",
      "w=80.##lbf\n",
      "p=4.##ft\n",
      "d=20.##stroke/min\n",
      "d1=3.##in\n",
      "p1=0.6##sec\n",
      "h=2.##ft/s\n",
      "g=32.2##ft/s\n",
      "t=60.##sec\n",
      "##CALCULATIONS\n",
      "P=t/d##sec\n",
      "U=2.*math.pi/d1##sec^-1\n",
      "V=U*math.sqrt(h**2-(3./4.)**2)##ft/s\n",
      "K=(w*V**2/(h*g))##lbf\n",
      "M=U**2*h##ft/s^2\n",
      "M1=(w/g)*M##lbf\n",
      "D=h*math.cos(U*0.6*180./math.pi)##ft\n",
      "D1=h-D-2##ft\n",
      "##RESULTS\n",
      "print'%s %.2f %s'%('the kinetic energy of the crosshead= ',K,' lbf')\n",
      "print'%s %.2f %s'%('the maximum acceleration of force on crosshead= ',M1,' lbf')\n",
      "print'%s %.2f %s'%('the distance from end of the path= ',D1,' ft')\n"
     ],
     "language": "python",
     "metadata": {},
     "outputs": [
      {
       "output_type": "stream",
       "stream": "stdout",
       "text": [
        "the kinetic energy of the crosshead=  18.73  lbf\n",
        "the maximum acceleration of force on crosshead=  21.80  lbf\n",
        "the distance from end of the path=  1.93  ft\n"
       ]
      }
     ],
     "prompt_number": 6
    },
    {
     "cell_type": "heading",
     "level": 2,
     "metadata": {},
     "source": [
      "Ex6-pg46"
     ]
    },
    {
     "cell_type": "code",
     "collapsed": false,
     "input": [
      "##Solutions to Problems In applied mechanics\n",
      "##A N Gobby\n",
      "import math\n",
      "##initialisation of variables\n",
      "d=3.##in\n",
      "v=40.##ft/s\n",
      "a=3000.##ft/s^2\n",
      "p=5.31##in\n",
      "##CALCULATIONS\n",
      "U=math.sqrt(a/(d/12.))##sec^-1\n",
      "E=(U*60./(2.*math.pi))##rev/min\n",
      "P=2./U##sec\n",
      "W=U*(p/12.)##ft/s\n",
      "M=U**2*(p/12.)##ft/s^2\n",
      "##RESULTS\n",
      "print'%s %.2f %s'%('the velocity of acceleration against time during one complete= ',M,' ft/s^2')\n"
     ],
     "language": "python",
     "metadata": {},
     "outputs": [
      {
       "output_type": "stream",
       "stream": "stdout",
       "text": [
        "the velocity of acceleration against time during one complete=  5310.00  ft/s^2\n"
       ]
      }
     ],
     "prompt_number": 7
    }
   ],
   "metadata": {}
  }
 ]
}