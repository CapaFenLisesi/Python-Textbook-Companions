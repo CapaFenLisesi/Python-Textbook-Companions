{
 "metadata": {
  "name": "",
  "signature": "sha256:bed889fe8a08012fbc3a07474da144ba30c39af7e608eafc8b7adb536fa7854f"
 },
 "nbformat": 3,
 "nbformat_minor": 0,
 "worksheets": [
  {
   "cells": [
    {
     "cell_type": "heading",
     "level": 1,
     "metadata": {},
     "source": [
      "Chapter8-Bending of beams"
     ]
    },
    {
     "cell_type": "heading",
     "level": 2,
     "metadata": {},
     "source": [
      "Ex1-pg100"
     ]
    },
    {
     "cell_type": "code",
     "collapsed": false,
     "input": [
      "##Solutions to Problems In applied mechanics\n",
      "##A N Gobby\n",
      "import math\n",
      "##initialisation of variables\n",
      "h=12.##in\n",
      "q=14.##in\n",
      "w=12500.##in\n",
      "p=2.5##in\n",
      "m=0.067##in\n",
      "t=2240.##in\n",
      "n=2.5*10**-5##in\n",
      "##CALCULATIONS\n",
      "R=(p*h*q)/(w)##in\n",
      "I=(1.*m**3/h)##in\n",
      "M=((w*n)/(p*h)*t)##lbf in\n",
      "##RESULTS\n",
      "print'%s %.2f %s'%('the bending moment set up= ',M,' lbf in')\n"
     ],
     "language": "python",
     "metadata": {},
     "outputs": [
      {
       "output_type": "stream",
       "stream": "stdout",
       "text": [
        "the bending moment set up=  23.33  lbf in\n"
       ]
      }
     ],
     "prompt_number": 1
    },
    {
     "cell_type": "heading",
     "level": 2,
     "metadata": {},
     "source": [
      "Ex2-pg102"
     ]
    },
    {
     "cell_type": "code",
     "collapsed": false,
     "input": [
      "##Solutions to Problems In applied mechanics\n",
      "##A N Gobby\n",
      "import math\n",
      "##initialisation of variables\n",
      "E=14.*10**6##lbf/in^2\n",
      "l=5.0##tonf/in^2\n",
      "y=2.*(1/4.)##in\n",
      "yc=4.*3./4.##in\n",
      "n=2*1./2.##in\n",
      "p=1*1./4.##in\n",
      "q=2.25##in\n",
      "I=55.25##in^4\n",
      "m=10.56##tonf/in^2\n",
      "a=(1*(yc**3))\n",
      "b=6*(y**3)/3.\n",
      "c=(n*p**3)/3.##in^4\n",
      "##CALCULATIONS\n",
      "INA=(a+b-2.*c)*2.##in^4\n",
      "Fa=(l*yc)*(yc*y)/2.##tonf/in^2\n",
      "M=(l*INA/q)##tonf in\n",
      "##RESULTS\n",
      "print'%s %.2f %s'%('Thesecound moment of area about its neutral axis= ',INA,' in^4')\n",
      "print'%s %.2f %s'%('The maximum compressive stress on the section=',Fa\t,' tonf/in^2')\n",
      "print'%s %.2f %s'%('the bending moment is= ',M,' tonf in')\n"
     ],
     "language": "python",
     "metadata": {},
     "outputs": [
      {
       "output_type": "stream",
       "stream": "stdout",
       "text": [
        "Thesecound moment of area about its neutral axis=  54.48  in^4\n",
        "The maximum compressive stress on the section= 11.25  tonf/in^2\n",
        "the bending moment is=  121.06  tonf in\n"
       ]
      }
     ],
     "prompt_number": 2
    },
    {
     "cell_type": "heading",
     "level": 2,
     "metadata": {},
     "source": [
      "Ex3-pg104"
     ]
    },
    {
     "cell_type": "code",
     "collapsed": false,
     "input": [
      "##Solutions to Problems In applied mechanics\n",
      "##A N Gobby\n",
      "import math\n",
      "##initialisation of variables\n",
      "b=3.*6**3/12.##in^4\n",
      "d=b+3*6*6**2##in^4\n",
      "b2=math.pi*2**4/64.##in^4\n",
      "h=b2+math.pi*1**2*6**2##in^4\n",
      "##CALCULATIONS\n",
      "P=d-h##in^4\n",
      "##RESULTS\n",
      "print'%s %.2f %s'%('the rectangular plate with circular hole= ',P,' in^4')\n"
     ],
     "language": "python",
     "metadata": {},
     "outputs": [
      {
       "output_type": "stream",
       "stream": "stdout",
       "text": [
        "the rectangular plate with circular hole=  588.12  in^4\n"
       ]
      }
     ],
     "prompt_number": 3
    },
    {
     "cell_type": "heading",
     "level": 2,
     "metadata": {},
     "source": [
      "Ex4-pg106"
     ]
    },
    {
     "cell_type": "code",
     "collapsed": false,
     "input": [
      "##Solutions to Problems In applied mechanics\n",
      "##A N Gobby\n",
      "import math\n",
      "##initialisation of variables\n",
      "h=12.##in\n",
      "w=6.##in\n",
      "x=375.77##in^4\n",
      "y=28.28##in^4\n",
      "p=7.##in\n",
      "q=14.##in\n",
      "##CALCULATIONS\n",
      "Ix=x+(p*q**3/h)-(p*h**3/h)##in^4\n",
      "Iy=y+2.*(1.*p**3/h)##in^4\n",
      "Zx=x/w##in^3\n",
      "Zy=Ix/p##in^3\n",
      "X=(Zy-Zx)/(Zx)*100.##percent\n",
      "##RESULTS\n",
      "print'%s %.2f %s'%('the percentage increase in strength with respect to neutral= ',X,' percent')\n"
     ],
     "language": "python",
     "metadata": {},
     "outputs": [
      {
       "output_type": "stream",
       "stream": "stdout",
       "text": [
        "the percentage increase in strength with respect to neutral=  120.90  percent\n"
       ]
      }
     ],
     "prompt_number": 4
    }
   ],
   "metadata": {}
  }
 ]
}