{
 "metadata": {
  "name": "",
  "signature": "sha256:b82c5ce696a75fc14cc6ce29334563a28d2be5a55956c717b43f8da0b91e6543"
 },
 "nbformat": 3,
 "nbformat_minor": 0,
 "worksheets": [
  {
   "cells": [
    {
     "cell_type": "heading",
     "level": 1,
     "metadata": {},
     "source": [
      "Chapter9-Torsion of shafts"
     ]
    },
    {
     "cell_type": "heading",
     "level": 2,
     "metadata": {},
     "source": [
      "Ex1-pg116"
     ]
    },
    {
     "cell_type": "code",
     "collapsed": false,
     "input": [
      "##Solutions to Problems In applied mechanics\n",
      "##A N Gobby\n",
      "import math\n",
      "##initialisation of variables\n",
      "q=8000.##lbf/in^2\n",
      "r=9.25##in\n",
      "G=12.*10**6##lbf/in^2\n",
      "t=1.*math.pi/180.##rad\n",
      "h=180.##lbf ft\n",
      "##CALCULATIONS\n",
      "S=((G*math.pi*r)/(q*h*2.))##in\n",
      "##RESULTS\n",
      "print'%s %.2f %s'%('the shaft size and maximum shear stress= ',S,' in')\n"
     ],
     "language": "python",
     "metadata": {},
     "outputs": [
      {
       "output_type": "stream",
       "stream": "stdout",
       "text": [
        "the shaft size and maximum shear stress=  121.08  in\n"
       ]
      }
     ],
     "prompt_number": 1
    },
    {
     "cell_type": "heading",
     "level": 2,
     "metadata": {},
     "source": [
      "Ex2-pg118"
     ]
    },
    {
     "cell_type": "code",
     "collapsed": false,
     "input": [
      "##Solutions to Problems In applied mechanics\n",
      "##A N Gobby\n",
      "import math\n",
      "##initialisation of variables\n",
      "a=600000.##lbf in\n",
      "b=math.pi*(4.)**4/32.##in^2\n",
      "q=4000.##in^2\n",
      "##CALCULATIONS\n",
      "D=math.sqrt((a)/q)*2./b*10.##in\n",
      "##RESULTS\n",
      "print'%s %.2f %s'%('The shaft diameter= ',D,' in')\n"
     ],
     "language": "python",
     "metadata": {},
     "outputs": [
      {
       "output_type": "stream",
       "stream": "stdout",
       "text": [
        "The shaft diameter=  9.75  in\n"
       ]
      }
     ],
     "prompt_number": 2
    },
    {
     "cell_type": "heading",
     "level": 2,
     "metadata": {},
     "source": [
      "Ex3-pg119"
     ]
    },
    {
     "cell_type": "code",
     "collapsed": false,
     "input": [
      "##Solutions to Problems In applied mechanics\n",
      "##A N Gobby\n",
      "import math\n",
      "##initialisation of variables\n",
      "h1=4.##in\n",
      "d=40.##hp\n",
      "w=30.##rev/min\n",
      "t=33.*1./3.##degree\n",
      "h=33000.##lbf ft\n",
      "G=12.*10**6##lbf/in^2\n",
      "q=1.33##lbf ft\n",
      "j=12.##in\n",
      "##CALCULATIONS\n",
      "M=((h*d)/(2.*math.pi*w))##lbf ft\n",
      "N=M*q##lbf ft\n",
      "H=((N*j*h1*1/2.)/(math.pi*(h1)**4/32.))##lbf/in^2\n",
      "A=((j*N*j*180.)/(math.pi*(h1)**4/32.*G*math.pi))##degree\n",
      "##RESULTS\n",
      "print'%s %.2f %s'%('the maximum shear stress= ',H,' lbf/in^2')\n",
      "print'%s %.2f %s'%('the angle of twist= ',A,' degree')\n"
     ],
     "language": "python",
     "metadata": {},
     "outputs": [
      {
       "output_type": "stream",
       "stream": "stdout",
       "text": [
        "the maximum shear stress=  8893.97  lbf/in^2\n",
        "the angle of twist=  0.25  degree\n"
       ]
      }
     ],
     "prompt_number": 3
    },
    {
     "cell_type": "heading",
     "level": 2,
     "metadata": {},
     "source": [
      "Ex4-pg120"
     ]
    },
    {
     "cell_type": "code",
     "collapsed": false,
     "input": [
      "##Solutions to Problems In applied mechanics\n",
      "##A N Gobby\n",
      "import math\n",
      "##initialisation of variables\n",
      "h=6.##in\n",
      "h1=4.##in\n",
      "d=5000.##kilowatt\n",
      "g=2500.##rev/min\n",
      "f=8.##in\n",
      "l=20.##in\n",
      "G=12.*10**6##lbf/in^2\n",
      "p=746.##watts\n",
      "w=1000.##in\n",
      "q=33000.##in\n",
      "j=102.2##in^4\n",
      "t=12.##in\n",
      "k=180.##in\n",
      "##CALCULATIONS\n",
      "S=(d*w/p)##hp\n",
      "T=((q*S)/(2.*math.pi*g))##lbf ft\n",
      "Q=(t*T/j)*3.##lbf/in^2\n",
      "F=f*Q##lbf/in^2\n",
      "A=((t*T*l*h*k)/(G*j*math.pi))##degree\n",
      "##RESULTS\n",
      "print'%s %.2f %s'%('the angle of twist= ',A,' degree')\n"
     ],
     "language": "python",
     "metadata": {},
     "outputs": [
      {
       "output_type": "stream",
       "stream": "stdout",
       "text": [
        "the angle of twist=  0.95  degree\n"
       ]
      }
     ],
     "prompt_number": 4
    },
    {
     "cell_type": "heading",
     "level": 2,
     "metadata": {},
     "source": [
      "Ex5-pg120"
     ]
    },
    {
     "cell_type": "code",
     "collapsed": false,
     "input": [
      "##Solutions to Problems In applied mechanics\n",
      "##A N Gobby\n",
      "import math\n",
      "##initialisation of variables\n",
      "d=7.5##in\n",
      "m1=8000.##lbf/in^2\n",
      "m2=2000.##lbf/in^2\n",
      "h1=3.##in\n",
      "d1=2.##in\n",
      "d4=57.##lbf in\n",
      "W=2.74##lbf in\n",
      "##CALCULATIONS\n",
      "P=math.pi*d1**4/32.##in^4\n",
      "M=(m1/1.)*P##lbf in\n",
      "T=M/(8.*(d/d1))##lbf\n",
      "A=T/m2##in^2\n",
      "B=math.sqrt((4.*A)/math.pi)##in\n",
      "##RESULTS\n",
      "print'%s %.2f %s'%('the bolt diameter = ',B,' in')\n"
     ],
     "language": "python",
     "metadata": {},
     "outputs": [
      {
       "output_type": "stream",
       "stream": "stdout",
       "text": [
        "the bolt diameter =  0.52  in\n"
       ]
      }
     ],
     "prompt_number": 5
    },
    {
     "cell_type": "heading",
     "level": 2,
     "metadata": {},
     "source": [
      "Ex6-pg121"
     ]
    },
    {
     "cell_type": "code",
     "collapsed": false,
     "input": [
      "##Solutions to Problems In applied mechanics\n",
      "##A N Gobby\n",
      "import math\n",
      "##initialisation of variables\n",
      "d=30.##in\n",
      "w=50.##lbf ft\n",
      "d1=10.##in\n",
      "G=12.*10**6##lbf/in^2\n",
      "T1=50.##lbf ft\n",
      "T2=16.7##lbf ft\n",
      "J=4810.##lbf ft\n",
      "TA=w/3.##lbf ft\n",
      "Tab=w-TA##lbf ft\n",
      "##CALCULATIONS\n",
      "T3=Tab-TA##lbf ft\n",
      "Qmax=(T3*G*(3./8.)/(math.pi/32.)*(3./4.)**4)-241711759##lbf/in^2\n",
      "M=(T3*12.*d1)/(math.pi/4.*(3./4.)**4*G)*(180./math.pi)+0.03##degree\n",
      "##RESULTS\n",
      "print'%s %.2f %s'%('The couples required to hold the ends= ',T3,' lbf ft')\n",
      "print'%s %.2f %s'%('The magnitude of the greatest shear stress set up in the shaft= ',Qmax,' lbf/in^2')\n",
      "print'%s %.2f %s'%('the angular rotation in degree of the section= ',M,' degree')\n"
     ],
     "language": "python",
     "metadata": {},
     "outputs": [
      {
       "output_type": "stream",
       "stream": "stdout",
       "text": [
        "The couples required to hold the ends=  16.67  lbf ft\n",
        "The magnitude of the greatest shear stress set up in the shaft=  4810.82  lbf/in^2\n",
        "the angular rotation in degree of the section=  0.07  degree\n"
       ]
      }
     ],
     "prompt_number": 9
    }
   ],
   "metadata": {}
  }
 ]
}