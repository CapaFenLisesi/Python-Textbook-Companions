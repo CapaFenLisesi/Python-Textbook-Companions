{
 "metadata": {
  "name": "",
  "signature": "sha256:224a8fc433c4564f48dc091f5ea974223a68c2e9e6c711939aeeb3c67efcdf1b"
 },
 "nbformat": 3,
 "nbformat_minor": 0,
 "worksheets": [
  {
   "cells": [
    {
     "cell_type": "heading",
     "level": 1,
     "metadata": {},
     "source": [
      "Chapter10-Force in plane framework\n"
     ]
    },
    {
     "cell_type": "heading",
     "level": 2,
     "metadata": {},
     "source": [
      "Ex3-pg129"
     ]
    },
    {
     "cell_type": "code",
     "collapsed": false,
     "input": [
      "##Solutions to Problems In applied mechanics\n",
      "##A N Gobby\n",
      "import math\n",
      "##initialisation of variables\n",
      "l=2.##units of length\n",
      "a=math.sqrt(3.)##degree\n",
      "b=30.##dgree\n",
      "c=60.##degree\n",
      "v=1.##length\n",
      "Pc=1.154##tonf compressive\n",
      "##CALCULATIONS\n",
      "R=(v*l)/a##tonf\n",
      "D=math.sqrt((R)**2+(v)**2)##tonf\n",
      "T=41.##degree\n",
      "P=l*math.cos(b)##tonf tensile\n",
      "Pa=Pc*math.cos(b)##tonf tensile\n",
      "p=(l*math.cos(b))/((1/2.)+(Pc))/(1/2.)##tonf compressive\n",
      "##RESULTS\n",
      "print'%s %.2f %s'%('the resolving horizontally = ',p,' tonf compressive')\n",
      "#due to round off error answer is different"
     ],
     "language": "python",
     "metadata": {},
     "outputs": [
      {
       "output_type": "stream",
       "stream": "stdout",
       "text": [
        "the resolving horizontally =  0.37  tonf compressive\n"
       ]
      }
     ],
     "prompt_number": 1
    },
    {
     "cell_type": "heading",
     "level": 2,
     "metadata": {},
     "source": [
      "Ex4-pg131"
     ]
    },
    {
     "cell_type": "code",
     "collapsed": false,
     "input": [
      "##Solutions to Problems In applied mechanics\n",
      "##A N Gobby\n",
      "import math\n",
      "##initialisation of variables\n",
      "v=3.##tonf\n",
      "p1=6.0##tonf,compressive\n",
      "p2=5.19##tonf,tensile\n",
      "a=30.##degree\n",
      "b=60.##degree\n",
      "p3=7.##tonf,compressive\n",
      "##CALCULATIONS\n",
      "P1=p2*math.sin(b)##tonf,tensile\n",
      "P2=1./2.*P1##tonf,compressive\n",
      "P3=p1*math.cos(a)-p3*math.cos(b)##tonf,compressive\n",
      "P4=P1*math.cos(a)*math.sqrt(3.)/P3##tonf,acting towards the left \n",
      "R=P1*math.sin(a)##tonf,acting downwards\n",
      "D=math.sqrt((P4)**2+(R)**2)##tonf\n",
      "T=(R/P4)##to the horizantal\n",
      "##RESULTS\n",
      "print'%s %.2f %s'%('the direction reaction= ',D,' to the horizantal')\n",
      "print'%s %.2f %s'%('the direction reaction = ',T,' to horizantal')\n",
      "#converted into degrees\n"
     ],
     "language": "python",
     "metadata": {},
     "outputs": [
      {
       "output_type": "stream",
       "stream": "stdout",
       "text": [
        "the direction reaction=  1.56  to the horizantal\n",
        "the direction reaction =  -28.08  to horizantal\n"
       ]
      }
     ],
     "prompt_number": 2
    },
    {
     "cell_type": "heading",
     "level": 2,
     "metadata": {},
     "source": [
      "Ex5-pg133"
     ]
    },
    {
     "cell_type": "code",
     "collapsed": false,
     "input": [
      "##Solutions to Problems In applied mechanics\n",
      "##A N Gobby\n",
      "\n",
      "import math\n",
      "##initialisation of variables\n",
      "R1=5.##tonf\n",
      "R2=7.##tonf\n",
      "P=5.77##tonf,compressive \n",
      "m=11.56##tonf\n",
      "a=30.##degree\n",
      "##CALCULATIONS\n",
      "P=-(0.15+4.5084+1+1-10)##tonf\n",
      "P1=math.sqrt(P)\n",
      "\n",
      "##RESULTS\n",
      "print'%s %.2f %s'%('the methods of sections in the force= ',-P1,' tonf')\n",
      "#converted into degrees\n"
     ],
     "language": "python",
     "metadata": {},
     "outputs": [
      {
       "output_type": "stream",
       "stream": "stdout",
       "text": [
        "the methods of sections in the force=  -1.83  tonf\n"
       ]
      }
     ],
     "prompt_number": 3
    }
   ],
   "metadata": {}
  }
 ]
}