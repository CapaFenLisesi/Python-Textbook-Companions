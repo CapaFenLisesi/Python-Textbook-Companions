{
 "metadata": {
  "name": "",
  "signature": "sha256:f6ea5697c61e8d4477752b5ee0f98ead4f7aaeaaf431ef81ea327b76367fa16a"
 },
 "nbformat": 3,
 "nbformat_minor": 0,
 "worksheets": [
  {
   "cells": [
    {
     "cell_type": "heading",
     "level": 1,
     "metadata": {},
     "source": [
      "Chapter7-Shear force and bending\n",
      "moment diagrams"
     ]
    },
    {
     "cell_type": "heading",
     "level": 2,
     "metadata": {},
     "source": [
      "Ex2-pg91"
     ]
    },
    {
     "cell_type": "code",
     "collapsed": false,
     "input": [
      "##Solutions to Problems In applied mechanics\n",
      "##A N Gobby\n",
      "import math\n",
      "##initialisation of variables\n",
      "R=24.4##tonf\n",
      "x=9.7##ft\n",
      "M=124.##tonf ft\n",
      "h=5.##in\n",
      "q=14.##in\n",
      "w=20.##in\n",
      "h1=6.##in\n",
      "p=3.##in\n",
      "g=10.#.#in\n",
      "##CALCULATIONS\n",
      "Ra=h*q/w##tonf\n",
      "Mc=Ra*h1##tonf ft\n",
      "Rb=p*h1/w*q ##tonf ft\n",
      "RB=w*g-(2.*g**2/2.)##tonf ft\n",
      "##RESULTS\n",
      "print'%s %.2f %s'%('the tonf load alone= ',RB,' tonf ft')\n"
     ],
     "language": "python",
     "metadata": {},
     "outputs": [
      {
       "output_type": "stream",
       "stream": "stdout",
       "text": [
        "the tonf load alone=  100.00  tonf ft\n"
       ]
      }
     ],
     "prompt_number": 1
    },
    {
     "cell_type": "heading",
     "level": 2,
     "metadata": {},
     "source": [
      "Ex3-pg95"
     ]
    },
    {
     "cell_type": "code",
     "collapsed": false,
     "input": [
      "##Solutions to Problems In applied mechanics\n",
      "##A N Gobby\n",
      "import math\n",
      "##initialisation of variables\n",
      "p=8.##ft\n",
      "h=2.##tonf/ft\n",
      "a=3.##tons/ft\n",
      "b=11.##ft\n",
      "w=b*h##tonf\n",
      "##CALCULATIONS\n",
      "S=(h*b**2/h)/p##tonf\n",
      "R=w-S##tonf\n",
      "x=R/h##ft\n",
      "M=(R*x)-((h*(x**2))/h)##tonf ft\n",
      "N=-(h*a**2/h)##tonf ft\n",
      "##RESULTS\n",
      "print'%s %.2f %s'%('the maximum bending moment occurs=',N,' tonf ft')\n"
     ],
     "language": "python",
     "metadata": {},
     "outputs": [
      {
       "output_type": "stream",
       "stream": "stdout",
       "text": [
        "the maximum bending moment occurs= -9.00  tonf ft\n"
       ]
      }
     ],
     "prompt_number": 2
    }
   ],
   "metadata": {}
  }
 ]
}