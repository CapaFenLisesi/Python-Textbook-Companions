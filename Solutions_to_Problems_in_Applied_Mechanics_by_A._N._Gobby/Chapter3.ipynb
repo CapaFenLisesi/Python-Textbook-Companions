{
 "metadata": {
  "name": "",
  "signature": "sha256:9eb7907b359a7c0980af5cd1d2d3bec116883852eea47136bcb86face2aa6588"
 },
 "nbformat": 3,
 "nbformat_minor": 0,
 "worksheets": [
  {
   "cells": [
    {
     "cell_type": "heading",
     "level": 1,
     "metadata": {},
     "source": [
      "Chapter3-Motion in a circle"
     ]
    },
    {
     "cell_type": "heading",
     "level": 2,
     "metadata": {},
     "source": [
      "Ex1-pg27"
     ]
    },
    {
     "cell_type": "code",
     "collapsed": false,
     "input": [
      "##Solutions to Problems In applied mechanics\n",
      "##A N Gobby\n",
      "import math\n",
      "##axis of rotation thus balancing the flywheel\n",
      "##initialisation of variables\n",
      "w=2000.##lbf\n",
      "q=0.01##in\n",
      "f=600.##rev/min\n",
      "r=18.##in\n",
      "g=32.2##ft^2\n",
      "d=12.##in\n",
      "s=1.5##ft\n",
      "##CALCULATIONS\n",
      "F=(w/g)*(f*2*math.pi/60.)**2*(q/d)##lbf\n",
      "W=w*(q/d)/s##lbf\n",
      "##RESULTS\n",
      "print'%s %.2f %s'%('the axis of rotation thus balancing the flywheel= ',W,' lbf')\n"
     ],
     "language": "python",
     "metadata": {},
     "outputs": [
      {
       "output_type": "stream",
       "stream": "stdout",
       "text": [
        "the axis of rotation thus balancing the flywheel=  1.11  lbf\n"
       ]
      }
     ],
     "prompt_number": 1
    },
    {
     "cell_type": "heading",
     "level": 2,
     "metadata": {},
     "source": [
      "Ex2-pg29"
     ]
    },
    {
     "cell_type": "code",
     "collapsed": false,
     "input": [
      "##Solutions to Problems In applied mechanics\n",
      "##A N Gobby\n",
      "##speed and clutch will begin to transmit power and horsepower\n",
      "import math\n",
      "##initialisation of variables\n",
      "w=4.##lbf\n",
      "r=60.##lbf/in\n",
      "d=13.##in\n",
      "g=32.2##in\n",
      "p=500.##rev/min\n",
      "h=0.25##in\n",
      "b=5.##in\n",
      "q=1.##in\n",
      "f=62.2##lbf\n",
      "V=31.1##rad/s\n",
      "k=6.5##in\n",
      "s=33000.##ft\n",
      "##CALCULATIONS\n",
      "W=f/2.##rad/s\n",
      "F=(w*w/g)*(p*(2.*math.pi/r))**2*1/2.##lbf\n",
      "N=F-w*r##lbf\n",
      "T=N*h*k/12.##lbf ft\n",
      "H=2.*math.pi*p*T/s##lbf ft\n",
      "##RESULTS\n",
      "print'%s %.2f %s'%('The speed and clutch will begin to transmit power = ',W,' rad/s')\n",
      "print'%s %.2f %s'%('the horsepower transmitted =',H,'')\n"
     ],
     "language": "python",
     "metadata": {},
     "outputs": [
      {
       "output_type": "stream",
       "stream": "stdout",
       "text": [
        "The speed and clutch will begin to transmit power =  31.10  rad/s\n",
        "the horsepower transmitted = 5.69 \n"
       ]
      }
     ],
     "prompt_number": 2
    },
    {
     "cell_type": "heading",
     "level": 2,
     "metadata": {},
     "source": [
      "Ex3-pg29"
     ]
    },
    {
     "cell_type": "code",
     "collapsed": false,
     "input": [
      "##Solutions to Problems In applied mechanics\n",
      "##A N Gobby\n",
      "import math\n",
      "##initialisation of variables\n",
      "w1=10.##lbf\n",
      "w2=5.##lbf\\\n",
      "g=32.2##ft\n",
      "h=8.##ft\n",
      "d=3.##ft\n",
      "v=10.##lbf\n",
      "q=15.##ft\n",
      "V=13.9##ft/s\n",
      "##CALCULATIONS\n",
      "M=(v*V+w2)/(v+w2)##ft/s\n",
      "K=(v*(V)**2/(2.*g))-(q*(M)**2/(2.*g))##lbf\n",
      "H=(q*(M)**2/(2.*g))/q##ft\n",
      "F=(v*(V)**2/(g*h))##lbf\n",
      "T=F+v##lbf\n",
      "##RESULTS\n",
      "print'%s %.2f %s'%('The moment of bodies before impact= ',M,' ft/s')\n",
      "print'%s %.2f %s'%('The loss of kinetic energy in impact = ',K,' ft/lbf')\n",
      "print'%s %.2f %s'%('Gain in potential energy after impact = ',H,' ft')\n",
      "print'%s %.2f %s'%('tension in string centrifugal force weight= ',T,' lbf')\n"
     ],
     "language": "python",
     "metadata": {},
     "outputs": [
      {
       "output_type": "stream",
       "stream": "stdout",
       "text": [
        "The moment of bodies before impact=  9.60  ft/s\n",
        "The loss of kinetic energy in impact =  8.54  ft/lbf\n",
        "Gain in potential energy after impact =  1.43  ft\n",
        "tension in string centrifugal force weight=  17.50  lbf\n"
       ]
      }
     ],
     "prompt_number": 3
    },
    {
     "cell_type": "heading",
     "level": 2,
     "metadata": {},
     "source": [
      "Ex4-pg30"
     ]
    },
    {
     "cell_type": "code",
     "collapsed": false,
     "input": [
      "##Solutions to Problems In applied mechanics\n",
      "##A N Gobby\n",
      "import math\n",
      "##initialisation of variables\n",
      "w1=8.##lbf\n",
      "s=3.##ft\n",
      "m=35.##lbf\n",
      "g=32.2##ft/s\n",
      "##CALCULATIONS\n",
      "U=math.sqrt(g*s)##ft/s\n",
      "T=w1+w1##lbf\n",
      "P=m-w1##lbf\n",
      "Umax=math.sqrt(P*g*s/w1)##ft/s\n",
      "##RESULTS\n",
      "print'%s %.2f %s'%('the centrifugal force= ',Umax,' ft/s')\n"
     ],
     "language": "python",
     "metadata": {},
     "outputs": [
      {
       "output_type": "stream",
       "stream": "stdout",
       "text": [
        "the centrifugal force=  18.06  ft/s\n"
       ]
      }
     ],
     "prompt_number": 4
    },
    {
     "cell_type": "heading",
     "level": 2,
     "metadata": {},
     "source": [
      "Ex5-pg31"
     ]
    },
    {
     "cell_type": "code",
     "collapsed": false,
     "input": [
      "##Solutions to Problems In applied mechanics\n",
      "##A N Gobby\n",
      "import math\n",
      "##initialisation of variables\n",
      "w=3.##lbf\n",
      "v=5.##ft\n",
      "a=60.##degree\n",
      "g=32.2##ft\n",
      "u=28.4##ft/s\n",
      "t=25.4##ft/s\n",
      "q=12.##ft\n",
      "p=1.5##ft\n",
      "##CALCULATIONS\n",
      "U=math.sqrt(g*v)##ft/s\n",
      "T=w*(t)**2/(2.*g)+w*math.cos(a)##lbf\n",
      "W=q+p##lbf\n",
      "##RESULTS\n",
      "print'%s %.2f %s'%('the tension in the string at position C= ',W,' lbf')\n"
     ],
     "language": "python",
     "metadata": {},
     "outputs": [
      {
       "output_type": "stream",
       "stream": "stdout",
       "text": [
        "the tension in the string at position C=  13.50  lbf\n"
       ]
      }
     ],
     "prompt_number": 5
    },
    {
     "cell_type": "heading",
     "level": 2,
     "metadata": {},
     "source": [
      "Ex6-pg32"
     ]
    },
    {
     "cell_type": "code",
     "collapsed": false,
     "input": [
      "##Solutions to Problems In applied mechanics\n",
      "##A N Gobby\n",
      "import math\n",
      "##initialisation of variables\n",
      "w=30.##mile/h\n",
      "r=500.##ft\n",
      "h=2240.##ft\n",
      "q=44.##ft\n",
      "t=(88./60.)##ft\n",
      "g=32.2##ft\n",
      "##CALCULATIONS\n",
      "Tan=(w*t)**2/(g*r)\n",
      "W=h*math.cos(Tan)+(h*(q)**2*math.sin(Tan))/(g*r)##lbf\n",
      "##RESULTS\n",
      "print'%s %.2f %s'%('the car and resolve forces normal and parallel to the slope=',Tan,'')\n",
      "print'%s %.2f %s'%('the total normal reaction = ',W,' lbf')\n"
     ],
     "language": "python",
     "metadata": {},
     "outputs": [
      {
       "output_type": "stream",
       "stream": "stdout",
       "text": [
        "the car and resolve forces normal and parallel to the slope= 0.12 \n",
        "the total normal reaction =  2256.14  lbf\n"
       ]
      }
     ],
     "prompt_number": 6
    },
    {
     "cell_type": "heading",
     "level": 2,
     "metadata": {},
     "source": [
      "Ex7-pg33"
     ]
    },
    {
     "cell_type": "code",
     "collapsed": false,
     "input": [
      "##Solutions to Problems In applied mechanics\n",
      "##A N Gobby\n",
      "import math\n",
      "##initialisation of variables\n",
      "h=5.##ft\n",
      "h1=3.##ft\n",
      "r=200.##ft\n",
      "f=0.5##ft\n",
      "v=60.##ft/s\n",
      "w=62.0##ft/s\n",
      "q=1.5##ft/s\n",
      "g=32.2##ft\n",
      "##CALCULATIONS\n",
      "V=math.sqrt(q)/(w/(g*r))/2.##ft/s\n",
      "F=math.sqrt(f*g*r)##ft/s\n",
      "T=(v)**2/(g*r)##degree\n",
      "##RESULTS\n",
      "print'%s %.2f %s'%('The value of the speed= ',V,' ft/s')\n",
      "print'%s %.2f %s'%('The block is on the point of overturning =',F,' ft/s')\n",
      "print'%s %.2f %s'%('the centrifugal force must just be equal to the frictional force= ',T,' degree')\n"
     ],
     "language": "python",
     "metadata": {},
     "outputs": [
      {
       "output_type": "stream",
       "stream": "stdout",
       "text": [
        "The value of the speed=  63.61  ft/s\n",
        "The block is on the point of overturning = 56.75  ft/s\n",
        "the centrifugal force must just be equal to the frictional force=  0.56  degree\n"
       ]
      }
     ],
     "prompt_number": 7
    },
    {
     "cell_type": "heading",
     "level": 2,
     "metadata": {},
     "source": [
      "Ex8-pg34"
     ]
    },
    {
     "cell_type": "code",
     "collapsed": false,
     "input": [
      "##Solutions to Problems In applied mechanics\n",
      "##A N Gobby\n",
      "import math\n",
      "##initialisation of variables\n",
      "w=20.##cwt\n",
      "q=3.##ft\n",
      "d=30.##ft/ss\n",
      "w1=4.##ft\n",
      "w2=6.##in\n",
      "h=2240.##ft/s\n",
      "g=32.2##ft\n",
      "s=15.##ft\n",
      "f=4.5##ft\n",
      "c=2.25##ft\n",
      "##CALCULATIONS\n",
      "T=(h*(d)**2/(g*s*q))##lbf\n",
      "G=T*q##lbf ft\n",
      "W=h*f/2.##lbf ft\n",
      "R=186.5##lbf\n",
      "D=h-R##lbf\n",
      "r=(q*h*d**2/(c*h)/g)##ft\n",
      "##RESULTS\n",
      "print'%s %.2f %s'%('the equal moment of the centrifugal force= ',r,' ft')\n"
     ],
     "language": "python",
     "metadata": {},
     "outputs": [
      {
       "output_type": "stream",
       "stream": "stdout",
       "text": [
        "the equal moment of the centrifugal force=  37.27  ft\n"
       ]
      }
     ],
     "prompt_number": 8
    },
    {
     "cell_type": "heading",
     "level": 2,
     "metadata": {},
     "source": [
      "Ex9-pg35"
     ]
    },
    {
     "cell_type": "code",
     "collapsed": false,
     "input": [
      "##Solutions to Problems In applied mechanics\n",
      "##A N Gobby\n",
      "import math\n",
      "##initialisation of variables\n",
      "l=3.##ft\n",
      "w=8.##lbf\n",
      "p=40.##rev/min\n",
      "q=6.##ft\n",
      "h=3.5##ft\n",
      "g=32.2##ft\n",
      "f=6.##in\n",
      "t=15.33##lbf\n",
      "##CALCULATIONS\n",
      "F=q/t##in/lbf\n",
      "R=w*q/t##in\n",
      "D=(h*w)/t*10.##in\n",
      "##RESULTS\n",
      "print'%s %.2f %s'%('the distance horizantal circle= ',D,' in')\n"
     ],
     "language": "python",
     "metadata": {},
     "outputs": [
      {
       "output_type": "stream",
       "stream": "stdout",
       "text": [
        "the distance horizantal circle=  18.26  in\n"
       ]
      }
     ],
     "prompt_number": 9
    }
   ],
   "metadata": {}
  }
 ]
}