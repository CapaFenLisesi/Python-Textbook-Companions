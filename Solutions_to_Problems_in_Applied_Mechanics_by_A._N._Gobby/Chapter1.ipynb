{
 "metadata": {
  "name": "",
  "signature": "sha256:ce2017e08b497aa6547723a99ae31c32c07c39b1c9b214208fd7c8c30d837cb6"
 },
 "nbformat": 3,
 "nbformat_minor": 0,
 "worksheets": [
  {
   "cells": [
    {
     "cell_type": "heading",
     "level": 1,
     "metadata": {},
     "source": [
      "Chapter1-Linear Motion"
     ]
    },
    {
     "cell_type": "heading",
     "level": 2,
     "metadata": {},
     "source": [
      "Ex1-pg2"
     ]
    },
    {
     "cell_type": "code",
     "collapsed": false,
     "input": [
      "##Velocity calculation\n",
      "import math\n",
      "##initialisation of variables\n",
      "t=20.##ft\n",
      "t1=30.##ft\n",
      "v=1320.##ft/s\n",
      "p=25.##sec\n",
      "q=15.##ft/s\n",
      "v1=v/t##ft/s\n",
      "v2=v/t1##ft/s\n",
      "T=(v2-v1)/p##ft/s^2\n",
      "V=v2-q*-T##ft/s\n",
      "V1=-V**2/(2.*T)##ft/s\n",
      "##RESULTS\n",
      "print'%s %.2f %s'%('the velocity time is= ',V1,' ft/s')\n"
     ],
     "language": "python",
     "metadata": {},
     "outputs": [
      {
       "output_type": "stream",
       "stream": "stdout",
       "text": [
        "the velocity time is=  539.00  ft/s\n"
       ]
      }
     ],
     "prompt_number": 1
    },
    {
     "cell_type": "heading",
     "level": 2,
     "metadata": {},
     "source": [
      "Ex2-pg3"
     ]
    },
    {
     "cell_type": "code",
     "collapsed": false,
     "input": [
      "##Distance travel calculation\n",
      "import math\n",
      "##initialisation of variables\n",
      "w=200.##tonf\n",
      "d=4.##tonf\n",
      "h=120.##tonf\n",
      "v=25.##mile/h\n",
      "m=10.##lbf/tonf\n",
      "q=2240.##lbf\n",
      "##CALCULATIONS\n",
      "F=w*m##lbf\n",
      "W=(w*q)*(1./h)##lbf\n",
      "T=F+W##lbf\n",
      "D=d*q##lbf\n",
      "A=D-T##lbf\n",
      "t=158.1##sec\n",
      "T1=(v/2.)*(88./60.)*t##ft\n",
      "##RESULTS\n",
      "print'%s %.2f %s'%('Distance travel= ',T1,' ft')\n"
     ],
     "language": "python",
     "metadata": {},
     "outputs": [
      {
       "output_type": "stream",
       "stream": "stdout",
       "text": [
        "Distance travel=  2898.50  ft\n"
       ]
      }
     ],
     "prompt_number": 2
    },
    {
     "cell_type": "heading",
     "level": 2,
     "metadata": {},
     "source": [
      "Ex3-pg4"
     ]
    },
    {
     "cell_type": "code",
     "collapsed": false,
     "input": [
      "##velocity is uniform and force and velocity\n",
      "import math\n",
      "##initialisation of variables\n",
      "f=90.##lbf\n",
      "w=6.##tonf\n",
      "m=10.##lbf/tonf\n",
      "f1=1.##min\n",
      "h=0.8##hp\n",
      "m1=m*w##lbf\n",
      "n=f-m1##lbf\n",
      "p=2240.##lbf\n",
      "f2=0.0715##ft/s^2\n",
      "r=550##ft\n",
      "##CALCULATIONS\n",
      "S=1/2.*f2*(m1)**2##ft\n",
      "V=f2*m1##ft/s\n",
      "H=(f*V)/r##ft\n",
      "V1=h/(m1/r)##ft/s\n",
      "##RESULTS\n",
      "print'%s %.2f %s'%('the velocity is uniform and force and velocity= ',V1,' ft/s')\n"
     ],
     "language": "python",
     "metadata": {},
     "outputs": [
      {
       "output_type": "stream",
       "stream": "stdout",
       "text": [
        "the velocity is uniform and force and velocity=  7.33  ft/s\n"
       ]
      }
     ],
     "prompt_number": 3
    },
    {
     "cell_type": "heading",
     "level": 2,
     "metadata": {},
     "source": [
      "Ex4-pg5"
     ]
    },
    {
     "cell_type": "code",
     "collapsed": false,
     "input": [
      "##Tension Coupling calculation\n",
      "import math\n",
      "##initialisation of variables\n",
      "w=30.##tonf\n",
      "m=100.##tonf\n",
      "w1=150.##tonf\n",
      "f=6000.##lbf\n",
      "h=2240.##lbf\n",
      "q=105.##lbf\n",
      "p=135.##lbf\n",
      "a=711.7##lbf\n",
      "##CALCULATIONS\n",
      "M=(q*h)/m##lbf\n",
      "R=(w*h)/w1##lbf\n",
      "T=M+R##lbf\n",
      "A=f-T##lbf\n",
      "T1=R+a##lbf\n",
      "##RESULTS\n",
      "print'%s %.2f %s'%('the Tension Coupling is= ',T1,' lbf')\n"
     ],
     "language": "python",
     "metadata": {},
     "outputs": [
      {
       "output_type": "stream",
       "stream": "stdout",
       "text": [
        "the Tension Coupling is=  1159.70  lbf\n"
       ]
      }
     ],
     "prompt_number": 4
    },
    {
     "cell_type": "heading",
     "level": 2,
     "metadata": {},
     "source": [
      "Ex5-pg5"
     ]
    },
    {
     "cell_type": "code",
     "collapsed": false,
     "input": [
      "import math\n",
      "##work done ground resistance\n",
      "##initialisation of variables\n",
      "g=32.1##ft/s\n",
      "w=3.##tonf\n",
      "p=16.##ft\n",
      "p1=6.##in\n",
      "h=2240.##ft/cm^2\n",
      "m=4.##tonf\n",
      "v=24.08##ft/s\n",
      "##CALCULATIONS\n",
      "K=(m*h*(v**2))/(2.*g)##ft lbf\n",
      "P=m*h*(1/2.)##ft lbf\n",
      "R=(K+P)/(h*(1/2.))##tonf\n",
      "##RESULTS\n",
      "print'%s %.2f %s'%('the work done ground resistance= ',R,' tonf')\n"
     ],
     "language": "python",
     "metadata": {},
     "outputs": [
      {
       "output_type": "stream",
       "stream": "stdout",
       "text": [
        "the work done ground resistance=  76.26  tonf\n"
       ]
      }
     ],
     "prompt_number": 5
    },
    {
     "cell_type": "heading",
     "level": 2,
     "metadata": {},
     "source": [
      "Ex6-pg6"
     ]
    },
    {
     "cell_type": "code",
     "collapsed": false,
     "input": [
      "##kinetic energy and velocity\n",
      "import math\n",
      "##initialisation of variables\n",
      "p=50.##ft/s\n",
      "w=10.##lbf\n",
      "v=30.##ft/s\n",
      "w1=40.##lbf\n",
      "v1=20.##ft/s\n",
      "g=32.2##ft/s\\\n",
      "h=0.8##ft/s\n",
      "V1=23.6##ft/s\n",
      "V3=15.6##ft/s\n",
      "V4=22.##ft/s\n",
      "##CALCULATIONS\n",
      "V=(w+w1)/g/(w/g*v)+(w1/g*v1)##ft/s\n",
      "V2=h*(-v1+v)##ft/s\n",
      "K=(w*(v**2))/(2.*g)+(w1*(v1**2))/(2.*g)-(p*(V1**2))/(2.*g)##ft /bf\n",
      "K1=((w*(v**2))/(2*g))+((w1*(v1**2))/(2.*g))-((w*(V3**2))/(2.*g))-((w1*(V1**2))/(2.*g))+1.5##ft lbf\n",
      "##RESULTS\n",
      "print'%s %.2f %s'%('the velocity of two bodies after impact is=',V4,' ft/s')\n",
      "print'%s %.2f %s'%('final velocity is= ',V2,' ft/s')\n",
      "print'%s %.2f %s'%('Loss of kinetic energy at impact is= ',K1,' ft lbf')\n"
     ],
     "language": "python",
     "metadata": {},
     "outputs": [
      {
       "output_type": "stream",
       "stream": "stdout",
       "text": [
        "the velocity of two bodies after impact is= 22.00  ft/s\n",
        "final velocity is=  8.00  ft/s\n",
        "Loss of kinetic energy at impact is=  5.97  ft lbf\n"
       ]
      }
     ],
     "prompt_number": 7
    },
    {
     "cell_type": "heading",
     "level": 2,
     "metadata": {},
     "source": [
      "Ex7-pg7"
     ]
    },
    {
     "cell_type": "code",
     "collapsed": false,
     "input": [
      "##Solutions to Problems In applied mechanics\n",
      "##A N Gobby\n",
      "\n",
      "##equation of motion and acceleration\n",
      "import math\n",
      "##initialisation of variables\n",
      "d=4.##ft\n",
      "w=5.##lbf\n",
      "v=10.##lbf\n",
      "q=9.27##ft/s\n",
      "##CALCULATIONS\n",
      "W=w*d##ft lbf\n",
      "P=v*d##ft lbf\n",
      "M=(q)**2/d/2.##ft/s^2\n",
      "##RESULTS\n",
      "print'%s %.2f %s'%('the equation of motion and acceleration= ',M,' ft/s^2')\n"
     ],
     "language": "python",
     "metadata": {},
     "outputs": [
      {
       "output_type": "stream",
       "stream": "stdout",
       "text": [
        "the equation of motion and acceleration=  10.74  ft/s^2\n"
       ]
      }
     ],
     "prompt_number": 8
    },
    {
     "cell_type": "heading",
     "level": 2,
     "metadata": {},
     "source": [
      "Ex8-pg8"
     ]
    },
    {
     "cell_type": "code",
     "collapsed": false,
     "input": [
      "##Solutions to Problems In applied mechanics\n",
      "##A N Gobby\n",
      "\n",
      "##maximum velocity of speed \n",
      "import math\n",
      "##initialisation of variables\n",
      "a=30.##degree\n",
      "w=20.##lbf\n",
      "m=150.##ft\n",
      "v=18.6##ft/s^2\n",
      "##CALCULATIONS\n",
      "A=math.sqrt(m/(1./2.)/v)##sec\n",
      "V=math.sqrt(2*v*m)##ft/s\n",
      "##RESULTS\n",
      "print'%s %.2f %s'%('the maximum velocity of speed after= ',V,' ft/s')\n"
     ],
     "language": "python",
     "metadata": {},
     "outputs": [
      {
       "output_type": "stream",
       "stream": "stdout",
       "text": [
        "the maximum velocity of speed after=  74.70  ft/s\n"
       ]
      }
     ],
     "prompt_number": 9
    },
    {
     "cell_type": "heading",
     "level": 2,
     "metadata": {},
     "source": [
      "Ex9-pg9"
     ]
    },
    {
     "cell_type": "code",
     "collapsed": false,
     "input": [
      "##Solutions to Problems In applied mechanics\n",
      "##A N Gobby\n",
      "\n",
      "##Work done against gravity\n",
      "import math\n",
      "##initialisation of variables\n",
      "\n",
      "r=1500.##yd\n",
      "w=200.##tonf\n",
      "v=25.##lbf/tonf\n",
      "V=56.8##ft/s\n",
      "p=550.##ft\n",
      "t=80.##ft\n",
      "h=2240.##ft/s\n",
      "##CALCULATIONS\n",
      "R=v*w##lbf\n",
      "W=26.5*10**6##ft lbf\n",
      "D=v*w*V##ft lbf\n",
      "H=(v*w*V)/p##ft\n",
      "W1=W/((v*w)*(w*h*1/180.))*1000.##ft\n",
      "##RESULTS\n",
      "print'%s %.2f %s'%('the Work done against gravity is= ',W1,' ft')\n"
     ],
     "language": "python",
     "metadata": {},
     "outputs": [
      {
       "output_type": "stream",
       "stream": "stdout",
       "text": [
        "the Work done against gravity is=  2129.46  ft\n"
       ]
      }
     ],
     "prompt_number": 10
    }
   ],
   "metadata": {}
  }
 ]
}