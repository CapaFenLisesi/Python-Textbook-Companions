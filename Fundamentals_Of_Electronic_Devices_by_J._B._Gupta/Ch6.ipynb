{
 "cells": [
  {
   "cell_type": "markdown",
   "metadata": {},
   "source": [
    "# Chapter 6: Bipolar junction Transistors (BJTs)"
   ]
  },
  {
   "cell_type": "markdown",
   "metadata": {},
   "source": [
    "### Example 6.1 page No.215"
   ]
  },
  {
   "cell_type": "code",
   "execution_count": 2,
   "metadata": {
    "collapsed": false
   },
   "outputs": [
    {
     "name": "stdout",
     "output_type": "stream",
     "text": [
      "Emitter current is  0.05 mA\n"
     ]
    }
   ],
   "source": [
    "#Exa 6.1\n",
    "#find the Base current\n",
    "\n",
    "#given data\n",
    "Ic=9.95\t\t\t#in mA\n",
    "Ie=10    \t\t#in mA\n",
    "\n",
    "#Calculation\n",
    "Ib=Ie-Ic\t\t#in mA\n",
    "\n",
    "#result\n",
    "print\"Emitter current is \",Ib,\"mA\""
   ]
  },
  {
   "cell_type": "markdown",
   "metadata": {},
   "source": [
    "### Example 6.2 page No. 216"
   ]
  },
  {
   "cell_type": "code",
   "execution_count": 13,
   "metadata": {
    "collapsed": false
   },
   "outputs": [
    {
     "name": "stdout",
     "output_type": "stream",
     "text": [
      "Emitter current is 1.0 mA\n",
      "Current amplification factor is   0.98\n",
      "Current gain factor is  49.0\n"
     ]
    }
   ],
   "source": [
    "#Exa 6.2\n",
    "#Find (i)Emitter current (ii)Current amplification factor (iii)Current gain factor \n",
    "\n",
    "#given data\n",
    "IC=0.98\t\t\t#in mA\n",
    "IB=20.0\t\t\t#in uA\n",
    "IB=IB*10**-3\t\t#in mA\n",
    "\n",
    "#Calculation\n",
    "#part (i)\n",
    "IE=IB+IC\t\t#in mA\n",
    "\n",
    "#part (ii)\n",
    "alpha=IC/IE\t\t#unitless\n",
    "#part (iii)\n",
    "Beta=IC/IB\t\t#unitless\n",
    "\n",
    "#Result\n",
    "print\"Emitter current is\",IE,\"mA\"\n",
    "print\"Current amplification factor is  \",alpha\n",
    "print\"Current gain factor is \",Beta"
   ]
  },
  {
   "cell_type": "markdown",
   "metadata": {},
   "source": [
    "### Example 6.3 page No.216"
   ]
  },
  {
   "cell_type": "code",
   "execution_count": 10,
   "metadata": {
    "collapsed": false
   },
   "outputs": [
    {
     "name": "stdout",
     "output_type": "stream",
     "text": [
      "Emitter current is  2.7 mA\n",
      "Collector current is   2.65 mA\n"
     ]
    }
   ],
   "source": [
    "#Exa 6.3\n",
    "#Emitter current and Collector current\n",
    "\n",
    "#given data\n",
    "alfaDC=0.98\t\t\t#unitless\n",
    "ICBO=4\t\t\t\t#in uA\n",
    "ICBO=ICBO*10**-3\t\t#in mA\n",
    "IB=50\t\t\t\t#in uA\n",
    "IB=IB*10**-3\t\t\t#in mA\n",
    "\n",
    "#calculation\n",
    "#Formula : IC=alfaDC*(IB+IC)+ICBO\n",
    "IC=alfaDC*IB/(1-alfaDC)+ICBO/(1-alfaDC)\t#in mA\n",
    "IE=IC+IB\t\t\t#in mA\n",
    "\n",
    "#Result\n",
    "print\"Emitter current is \",IE,\"mA\"\n",
    "print\"Collector current is  \",IC,\"mA\""
   ]
  },
  {
   "cell_type": "markdown",
   "metadata": {},
   "source": [
    "### Example 6.4 page No. 216"
   ]
  },
  {
   "cell_type": "code",
   "execution_count": 9,
   "metadata": {
    "collapsed": false
   },
   "outputs": [
    {
     "name": "stdout",
     "output_type": "stream",
     "text": [
      "Collector current in mA :  1.09 mA\n"
     ]
    }
   ],
   "source": [
    "#Exa 6.4\n",
    "#Find the collector current\n",
    "\n",
    "#given data\n",
    "IB=10\t\t\t#in uA\n",
    "IB=IB*10**-3\t\t#in mA\n",
    "Beta=99\t\t\t#Unitless\n",
    "ICO=1\t\t\t#in uA\n",
    "ICO=ICO*10**-3\t\t#in mA\n",
    "\n",
    "#calculation\n",
    "#Formula : IC=alfa*(IB+IC)+ICO\n",
    "IC=Beta*IB+(1+Beta)*ICO\t#in mA\n",
    "\n",
    "#Result\n",
    "print\"Collector current in mA : \",IC,\"mA\""
   ]
  },
  {
   "cell_type": "markdown",
   "metadata": {},
   "source": [
    "### Example 6.5 Page No.216"
   ]
  },
  {
   "cell_type": "code",
   "execution_count": 8,
   "metadata": {
    "collapsed": false
   },
   "outputs": [
    {
     "name": "stdout",
     "output_type": "stream",
     "text": [
      "(i) Current gain factor is 98.0\n",
      " Current amplification factor is 0.99\n",
      " Emitter Current  is 5.05 mA\n",
      "(ii)New level of Ib  is 101.0 micro A\n"
     ]
    }
   ],
   "source": [
    "#Example 6.5\n",
    "#Find (i) alpha , beta  and Ie \n",
    "#(ii)New level of Ib\n",
    "\n",
    "#Given\n",
    "Ic=5*10**-3        #mA collector current\n",
    "Ic_=10*10**-3        #mA collector current\n",
    "Ib=50*10**-6       #mA, Base current\n",
    "Icbo=1*10**-6      #micro A, Current to base open current\n",
    "\n",
    "#Calculation\n",
    "beta=(Ic-Icbo)/(Ib+Icbo)\n",
    "alpha=(beta/(1+beta))\n",
    "Ie=Ib+Ic\n",
    "\n",
    "Ib=(Ic_-(beta+1)*Icbo)/(beta)\n",
    "\n",
    "#Result\n",
    "print\"(i) Current gain factor is\",round(beta,0)\n",
    "print\" Current amplification factor is\",round(alpha,2)\n",
    "print\" Emitter Current  is\",Ie*1000,\"mA\"\n",
    "print\"(ii)New level of Ib  is\",round(Ib*10**6,0),\"micro A\""
   ]
  },
  {
   "cell_type": "markdown",
   "metadata": {},
   "source": [
    "### Example 6.6 page No. 222"
   ]
  },
  {
   "cell_type": "code",
   "execution_count": 18,
   "metadata": {
    "collapsed": false
   },
   "outputs": [
    {
     "name": "stdout",
     "output_type": "stream",
     "text": [
      "Dynamic input resistance is  40 mohm\n"
     ]
    }
   ],
   "source": [
    "#Exa 6.6\n",
    "#Find the dynamic input resistance\n",
    "\n",
    "#given data\n",
    "delVEB=200\t\t\t#in Volts\n",
    "delIE=5\t\t\t\t#in mA\n",
    "\n",
    "#calculation\n",
    "rin=delVEB/delIE\t\t#in ohm\n",
    "\n",
    "#Result\n",
    "print\"Dynamic input resistance is \",rin,\"mohm\""
   ]
  },
  {
   "cell_type": "markdown",
   "metadata": {},
   "source": [
    "### Example 6.7 page No. 222"
   ]
  },
  {
   "cell_type": "code",
   "execution_count": 32,
   "metadata": {
    "collapsed": false
   },
   "outputs": [
    {
     "name": "stdout",
     "output_type": "stream",
     "text": [
      "Current gain :  0.979\n",
      "Base current is  0.03 mA\n"
     ]
    }
   ],
   "source": [
    "#Exa 6.7\n",
    "#Determine Current gain and base current\n",
    "\n",
    "\n",
    "#given data\n",
    "ICBO=12.5 \t\t\t#in uA\n",
    "ICBO=ICBO*10**-3 \t\t#in mA\n",
    "IE=2 \t\t\t\t#in mA\n",
    "IC=1.97 \t\t\t#in mA\n",
    "\n",
    "#calculation\n",
    "alfa=(IC-ICBO)/IE \t\t#unitless\n",
    "IB=IE-IC \t\t\t#in mA\n",
    "\n",
    "#result\n",
    "print\"Current gain : \",round(alfa,3)\n",
    "print\"Base current is \",IB,\"mA\""
   ]
  },
  {
   "cell_type": "markdown",
   "metadata": {},
   "source": [
    "### Example 6.8 page No. 222"
   ]
  },
  {
   "cell_type": "code",
   "execution_count": 37,
   "metadata": {
    "collapsed": false
   },
   "outputs": [
    {
     "name": "stdout",
     "output_type": "stream",
     "text": [
      "Base current ia 0.03 mA\n"
     ]
    }
   ],
   "source": [
    "#Exa 6.8\n",
    "#given data\n",
    "RL=4.0 \t\t\t#in Kohm\n",
    "VL=3.0\t\t\t#in volt\n",
    "alfa=0.96 \t\t#unitless\n",
    "IC=VL/RL \t\t#in mA\n",
    "\n",
    "#calculation\n",
    "IE=IC/alfa \t\t#in mA\n",
    "IB=IE-IC \t\t#in mA\n",
    "\n",
    "#result\n",
    "print\"Base current ia\",round(IB,2),\"mA\""
   ]
  },
  {
   "cell_type": "markdown",
   "metadata": {},
   "source": [
    "### Example 6.9 page No.227"
   ]
  },
  {
   "cell_type": "code",
   "execution_count": 41,
   "metadata": {
    "collapsed": false
   },
   "outputs": [
    {
     "name": "stdout",
     "output_type": "stream",
     "text": [
      "Collector-emitter Voltage is  9.2 V\n",
      "Base current in uA :  41.67 microA\n"
     ]
    }
   ],
   "source": [
    "#Exa 6.9\n",
    "#Determine Collector emitter voltage and base current\n",
    "\n",
    "#given data\n",
    "VCC=10\t\t\t #in volt\n",
    "RL=800\t\t\t #in ohm\n",
    "VL=0.8\t\t\t #in volt\n",
    "alfa=0.96\t\t #unitless\n",
    "\n",
    "#calculation\n",
    "#VR=IC*RL\n",
    "VCE=VCC-VL \t\t#in Volt\n",
    "IC=VL*1000/RL \t\t#in mA\n",
    "Beta=alfa/(1-alfa) \t#unitless\n",
    "IB=IC/Beta \t\t#in mA\n",
    "\n",
    "#Result\n",
    "print\"Collector-emitter Voltage is \",VCE,\"V\"\n",
    "print\"Base current in uA : \",round(IB*1000,2),\"microA\""
   ]
  },
  {
   "cell_type": "markdown",
   "metadata": {},
   "source": [
    "### Example 6.10 page No. 227"
   ]
  },
  {
   "cell_type": "code",
   "execution_count": 45,
   "metadata": {
    "collapsed": false
   },
   "outputs": [
    {
     "name": "stdout",
     "output_type": "stream",
     "text": [
      "Collector current is 11.28 mA\n"
     ]
    }
   ],
   "source": [
    "#Exa 6.10\n",
    "#Determine Collector Current\n",
    "\n",
    "#given data\n",
    "alfao=0.98 \t\t#unitless\n",
    "ICO=10 \t\t\t#in uA\n",
    "ICO=ICO*10**-3 \t\t#in mA\n",
    "IB=0.22 \t\t#in mA\n",
    "\n",
    "#calculation\n",
    "IC=(alfao*IB+ICO)/(1-alfao) \t#in mA\n",
    "\n",
    "#result\n",
    "print\"Collector current is\",IC,\"mA\""
   ]
  },
  {
   "cell_type": "markdown",
   "metadata": {},
   "source": [
    "### Example 6.11 page No. 228"
   ]
  },
  {
   "cell_type": "code",
   "execution_count": 47,
   "metadata": {
    "collapsed": false
   },
   "outputs": [
    {
     "name": "stdout",
     "output_type": "stream",
     "text": [
      "Dynamic input resistance is 250 ohm\n"
     ]
    }
   ],
   "source": [
    "#Exa 6.11\n",
    "#determine Dynamic input resistance \n",
    "\n",
    "#given data\n",
    "delVEB=250 \t\t#in mVolts\n",
    "delIE=1 \t\t#in mA\n",
    "\n",
    "#calculation\n",
    "rin=delVEB/delIE \t#in ohm\n",
    "\n",
    "#result\n",
    "print\"Dynamic input resistance is\",rin,\"ohm\""
   ]
  },
  {
   "cell_type": "markdown",
   "metadata": {},
   "source": [
    "### Example 6.12 page No. 228"
   ]
  },
  {
   "cell_type": "code",
   "execution_count": 49,
   "metadata": {
    "collapsed": false
   },
   "outputs": [
    {
     "name": "stdout",
     "output_type": "stream",
     "text": [
      "Dynamic output resistance is  6.25 kohm\n"
     ]
    }
   ],
   "source": [
    "#Exa 6.12\n",
    "#Determine Dynamic output resistance\n",
    "\n",
    "#given data\n",
    "delVCE=10-5 \t\t#in Volts\n",
    "delIC=5.8-5\t \t#in mA\n",
    "\n",
    "#calculation\n",
    "rin=delVCE/delIC \t#in Kohm\n",
    "\n",
    "#result\n",
    "print\"Dynamic output resistance is \",rin,\"kohm\""
   ]
  },
  {
   "cell_type": "markdown",
   "metadata": {},
   "source": [
    "### Example 6.13 page No.232"
   ]
  },
  {
   "cell_type": "code",
   "execution_count": 3,
   "metadata": {
    "collapsed": false
   },
   "outputs": [
    {
     "name": "stdout",
     "output_type": "stream",
     "text": [
      "Operating point Q is ( 5.2 V, 0.6 mA)\n"
     ]
    },
    {
     "data": {
      "image/png": "[encoded data removed]",
      "text/plain": [
       "<matplotlib.figure.Figure at 0x7ff0e0cf5890>"
      ]
     },
     "metadata": {},
     "output_type": "display_data"
    }
   ],
   "source": [
    "#Exa 6.13\n",
    "#Determine operating point\n",
    "%matplotlib inline\n",
    "import matplotlib.pyplot as plt\n",
    "#given data\n",
    "VCC=10 \t\t\t#in volt\n",
    "RC=8 \t\t\t#in Kohm\n",
    "Beta=40 \t\t#unitless\n",
    "IB=15 \t\t\t#in uA\n",
    "IB=IB*10**-3 \t\t#in mA\n",
    "\n",
    "#calculation\n",
    "# For VCE = 0 Volts\n",
    "IC=VCC/RC \t\t#in mA\n",
    "#For IC=0 VCE=VCC=10V :\n",
    "IC=Beta*IB \t\t#in mA\n",
    "VCE=VCC-IC*RC \t\t#in Volts\n",
    "\n",
    "#result\n",
    "print\"Operating point Q is (\",VCE,\"V,\",IC,\"mA)\"\n",
    "\n",
    "#Plot\n",
    "import matplotlib.pyplot as plt\n",
    "fig = plt.figure()\n",
    "ax = fig.add_subplot(111)\n",
    "\n",
    "Vce=[0,10]\n",
    "Ic=[1.25,0]\n",
    "plt.xlabel('Vce,V')\n",
    "plt.ylabel('Ic,mA')\n",
    "ax.plot([5.2], [0.6], 'o')\n",
    "ax.annotate('(5.2V,0.6 mA)', xy=(5.4,0.7))\n",
    "\n",
    "a=plt.plot(Vce,Ic)\n",
    "plt.show(a)"
   ]
  },
  {
   "cell_type": "markdown",
   "metadata": {},
   "source": [
    "### Example 6.14 page No. 232"
   ]
  },
  {
   "cell_type": "code",
   "execution_count": 65,
   "metadata": {
    "collapsed": false
   },
   "outputs": [
    {
     "name": "stdout",
     "output_type": "stream",
     "text": [
      "Operating point at load resistance 5 kohm is ( 6.0 V, 1.2 mA)\n",
      "Operating point at load resistance 7.5 kohm is ( 3.0 V, 1.2 mA)\n"
     ]
    }
   ],
   "source": [
    "#Exa 6.14\n",
    "#How will the Q point change when load resistance will be change\n",
    "\n",
    "#given data \n",
    "Vcc=12 \t\t#in Volt collector supply voltage\n",
    "Ic=1.2         #A, collector current\n",
    "Rl=5            #kohm load resistance\n",
    "\n",
    "#calculation\n",
    "Vce=Vcc-Ic*Rl    #Collector emitter voltage\n",
    "Rl1=7.5\n",
    "Vce1=Vcc-Ic*Rl1\n",
    "\n",
    "#result\n",
    "print\"Operating point at load resistance 5 kohm is (\",Vce,\"V,\",Ic,\"mA)\"\n",
    "print\"Operating point at load resistance 7.5 kohm is (\",Vce1,\"V,\",Ic,\"mA)\""
   ]
  },
  {
   "cell_type": "markdown",
   "metadata": {},
   "source": [
    "### Example 6.15 Page No.233"
   ]
  },
  {
   "cell_type": "code",
   "execution_count": 6,
   "metadata": {
    "collapsed": false
   },
   "outputs": [
    {
     "name": "stdout",
     "output_type": "stream",
     "text": [
      "Collector to emitter voltage is (Vce) 20 V\n",
      "Collector current at saturation point is (Ic) 6.0 mA\n"
     ]
    },
    {
     "data": {
      "image/png": "[encoded data removed]",
      "text/plain": [
       "<matplotlib.figure.Figure at 0x7ff0b88bb790>"
      ]
     },
     "metadata": {},
     "output_type": "display_data"
    }
   ],
   "source": [
    "#Example 6.15\n",
    "#Given\n",
    "Vcc=20         # V,  collector voltage\n",
    "Rc=3.3*10**3\n",
    "\n",
    "#calculation\n",
    "#Appling kirchoff's Voltage Law\n",
    "Ic=0          #for cut off point\n",
    "Vce=Vcc\n",
    "Ic=Vcc/Rc\n",
    "print \"Collector to emitter voltage is (Vce)\",Vce,\"V\"\n",
    "print \"Collector current at saturation point is (Ic)\",round(Ic*1000,0),\"mA\"\n",
    "\n",
    "#Plot\n",
    "%matplotlib inline\n",
    "import matplotlib.pyplot as plt\n",
    "fig = plt.figure()\n",
    "ax = fig.add_subplot(111)\n",
    "\n",
    "Vce=[0,20]\n",
    "Ic=[6,0]\n",
    "plt.xlabel(\"Vce  (V)\") \n",
    "plt.ylabel(\"Ic  (mA)\") \n",
    "plt.xlim((0,25))\n",
    "plt.ylim((0,8))\n",
    "ax.plot([0], [6], 'o')\n",
    "ax.annotate('(0,6mA)', xy=(0,6))\n",
    "\n",
    "ax.plot([20], [0], 'o')\n",
    "ax.annotate('(20V,0)', xy=(20,0))\n",
    "a=plt.plot(Vce,Ic)\n",
    "plt.show(a)\n",
    "\n"
   ]
  },
  {
   "cell_type": "markdown",
   "metadata": {},
   "source": [
    "### Example 6.16 page No. 233"
   ]
  },
  {
   "cell_type": "code",
   "execution_count": 7,
   "metadata": {
    "collapsed": false
   },
   "outputs": [
    {
     "name": "stdout",
     "output_type": "stream",
     "text": [
      "collector voltage is  -4.5 V\n",
      "Base voltage is  -8.3 V\n"
     ]
    }
   ],
   "source": [
    "#Exa 6.16\n",
    "#find collector voltage and base voltage\n",
    "\n",
    "#given data \n",
    "Beta=45 \t\t\t#Unitless\n",
    "VBE=0.7 \t\t\t#in Volt\n",
    "VCC=0 \t\t\t\t#in Volt\n",
    "RB=10**5 \t\t\t#in ohm\n",
    "RC=1.2*10**3 \t\t\t#in ohm\n",
    "VEE=-9 \t\t\t\t#in Volt\n",
    "\n",
    "#calculation\n",
    "#Applying Kirchoffs Voltage Law in input loop we have\n",
    "#IB*RB+VBE+VEE=0\n",
    "IB=-(VBE+VEE)/RB \t\t#in mA\n",
    "IC=Beta*IB \t\t\t#in mA\n",
    "VC=VCC-IC*RC \t\t\t#in Volts\n",
    "VB=VBE+VEE \t\t\t#in Volts\n",
    "\n",
    "#Result\n",
    "print\"collector voltage is \",round(VC,1),\"V\"\n",
    "print\"Base voltage is \",VB,\"V\""
   ]
  }
 ],
 "metadata": {
  "kernelspec": {
   "display_name": "Python 2",
   "language": "python",
   "name": "python2"
  },
  "language_info": {
   "codemirror_mode": {
    "name": "ipython",
    "version": 2
   },
   "file_extension": ".py",
   "mimetype": "text/x-python",
   "name": "python",
   "nbconvert_exporter": "python",
   "pygments_lexer": "ipython2",
   "version": "2.7.6"
  }
 },
 "nbformat": 4,
 "nbformat_minor": 0
}
