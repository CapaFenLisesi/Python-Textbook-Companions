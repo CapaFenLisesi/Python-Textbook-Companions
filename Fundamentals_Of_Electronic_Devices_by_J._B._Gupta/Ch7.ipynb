{
 "cells": [
  {
   "cell_type": "markdown",
   "metadata": {},
   "source": [
    "# Chapter 7: Field effect Transistors"
   ]
  },
  {
   "cell_type": "markdown",
   "metadata": {},
   "source": [
    "### Example 7.1 page no. 262"
   ]
  },
  {
   "cell_type": "code",
   "execution_count": 1,
   "metadata": {
    "collapsed": false
   },
   "outputs": [
    {
     "name": "stdout",
     "output_type": "stream",
     "text": [
      "Resistance between gate and source is   10000.0 ohm\n"
     ]
    }
   ],
   "source": [
    "#Exa 7.1\n",
    "#What is Resistance between gate and source\n",
    "\n",
    "#given data \n",
    "VGS=10\t\t\t#in Volt\n",
    "IG=0.001\t\t#in uA\n",
    "IG=IG*10**-6\t\t#in A\n",
    "\n",
    "#calculation\n",
    "RGS=VGS/IG\t\t#in ohm\n",
    "\n",
    "#result\n",
    "print\"Resistance between gate and source is  \",RGS/10**6,\"ohm\""
   ]
  },
  {
   "cell_type": "markdown",
   "metadata": {},
   "source": [
    "### Example 7.2 page no.262"
   ]
  },
  {
   "cell_type": "code",
   "execution_count": 2,
   "metadata": {
    "collapsed": false
   },
   "outputs": [
    {
     "name": "stdout",
     "output_type": "stream",
     "text": [
      "AC drain resistance of JFET in Kohm  12.5 kohm\n"
     ]
    }
   ],
   "source": [
    "#Exa 7.2\n",
    "#What is AC drain resistance of JFET\n",
    "\n",
    "#given data \n",
    "delVDS=1.5\t\t\t#in Volt\n",
    "delID=120\t\t\t#in uA\n",
    "delID=120*10**-6\t\t#in A\n",
    "\n",
    "#Calculation\n",
    "rd=delVDS/delID\t\t\t#in Ohm\n",
    "\n",
    "#Result\n",
    "print\"AC drain resistance of JFET in Kohm \",rd*10**-3,\"kohm\""
   ]
  },
  {
   "cell_type": "markdown",
   "metadata": {},
   "source": [
    "### Example 7.3 page no. 262"
   ]
  },
  {
   "cell_type": "code",
   "execution_count": 3,
   "metadata": {
    "collapsed": false
   },
   "outputs": [
    {
     "name": "stdout",
     "output_type": "stream",
     "text": [
      "Transconductance is 2.22 mA/v\n"
     ]
    }
   ],
   "source": [
    "#Exa 7.3\n",
    "#Determine Transconductance\n",
    "import math\n",
    "#given data \n",
    "VP=-4.5\t\t\t#in Volt\n",
    "IDSS=10.0\t\t\t#in mA\n",
    "IDS=2.5\t\t\t#in mA\n",
    "\n",
    "#Calculation\n",
    "VGS=VP*(1-math.sqrt(IDS/IDSS))\t\t#in Volt\n",
    "gm=(-2*IDSS/VP)*(1-VGS/VP)\t\t#in mA/Volt\n",
    "\n",
    "#Result\n",
    "print\"Transconductance is\",round(gm,2),\"mA/v\""
   ]
  },
  {
   "cell_type": "markdown",
   "metadata": {},
   "source": [
    "### Example 7.4 page no. 262"
   ]
  },
  {
   "cell_type": "code",
   "execution_count": 6,
   "metadata": {
    "collapsed": false
   },
   "outputs": [
    {
     "name": "stdout",
     "output_type": "stream",
     "text": [
      "VGS(OFF) is = -2.0 mV\n"
     ]
    }
   ],
   "source": [
    "#Exa 7.4\n",
    "#calculate Vgs off\n",
    "\n",
    "#given data \n",
    "gm=10\t\t\t#in mS\n",
    "IDSS=10\t\t\t#in uA\n",
    "IDSS=IDSS-10**-6\t#in Ampere\n",
    "\n",
    "#Calculation\n",
    "VGS_OFF=-2*IDSS/gm\n",
    "\n",
    "#Result\n",
    "print\"VGS(OFF) is =\",round(VGS_OFF),\"mV\""
   ]
  },
  {
   "cell_type": "markdown",
   "metadata": {},
   "source": [
    "### Example 7.5 page no. 262"
   ]
  },
  {
   "cell_type": "code",
   "execution_count": 6,
   "metadata": {
    "collapsed": false
   },
   "outputs": [
    {
     "name": "stdout",
     "output_type": "stream",
     "text": [
      "Drain current= 2.5 mA\n",
      "VDS(min) is :  -4.0 V\n"
     ]
    }
   ],
   "source": [
    "#Exa 7.5\n",
    "#Determine The minimum value of VDS for pinch-OFF region is equal to VP.\n",
    "\n",
    "#given data \n",
    "VP=-4.0\t\t\t   #in Volt\n",
    "IDSS=10.0\t\t\t #in mA\n",
    "IDSS=IDSS*10**-3\t#in Ampere\n",
    "VGS=-2.0              #in Volt\n",
    "\n",
    "#Calculation\n",
    "ID=IDSS*(1.0-VGS/VP)**2\t#in mA\n",
    "\n",
    "#result\n",
    "print \"Drain current=\",ID*1000,\"mA\"\n",
    "print\"VDS(min) is : \",VP,\"V\""
   ]
  },
  {
   "cell_type": "markdown",
   "metadata": {},
   "source": [
    "### Example 7.6 page no. 263"
   ]
  },
  {
   "cell_type": "code",
   "execution_count": 4,
   "metadata": {
    "collapsed": false
   },
   "outputs": [
    {
     "name": "stdout",
     "output_type": "stream",
     "text": [
      "ID is  3.9 mA\n",
      "gmo is 5.8 mS\n",
      "gm is   3.9 mS\n"
     ]
    }
   ],
   "source": [
    "#Exa 7.6\n",
    "#Find the value of Id , gmo, gm\n",
    "\n",
    "#given data \n",
    "VP=-3.0\t\t\t#in Volt\n",
    "IDSS=8.7\t\t#in mA\n",
    "IDSS=IDSS*10**-3\t#in mA\n",
    "VGS=-1\t\t\t#in Volt\n",
    "\n",
    "#calculation\n",
    "ID=IDSS*(1-VGS/VP)**2\t#in Ampere\n",
    "gmo=-2*IDSS/VP\t\t#in mS\n",
    "gm=gmo*(1-VGS/VP)\t#in mS\n",
    "\n",
    "#result\n",
    "print\"ID is \",round(ID*1000,1),\"mA\"\n",
    "print\"gmo is\",round(gmo*1000,1),\"mS\"\n",
    "print\"gm is  \",round(gm*1000,1),\"mS\""
   ]
  },
  {
   "cell_type": "markdown",
   "metadata": {},
   "source": [
    "### Example 7.7 page no.263"
   ]
  },
  {
   "cell_type": "code",
   "execution_count": 5,
   "metadata": {
    "collapsed": false
   },
   "outputs": [
    {
     "name": "stdout",
     "output_type": "stream",
     "text": [
      "Drain current= 2.1 mA\n",
      "Transconductance is  2.8 mS\n"
     ]
    }
   ],
   "source": [
    "#Exa 7.7\n",
    "#Find gm\n",
    "\n",
    "#given data \n",
    "VP=-3.0 \t\t#in Volt\n",
    "IDSS=8.4 \t#in mA\n",
    "VGS=-1.5 \t#in Volt\n",
    "\n",
    "#calculation\n",
    "ID=IDSS*(1-VGS/VP)**2 \t\t#in mA\n",
    "gmo=-2*IDSS/VP \t\t\t#in mS\n",
    "gm=gmo*(1-VGS/VP) \t\t#in mS\n",
    "\n",
    "#result\n",
    "print\"Drain current=\",ID,\"mA\"\n",
    "print\"Transconductance is \",gm,\"mS\""
   ]
  },
  {
   "cell_type": "markdown",
   "metadata": {},
   "source": [
    "### Example 7.8 page no.263"
   ]
  },
  {
   "cell_type": "code",
   "execution_count": 17,
   "metadata": {
    "collapsed": false
   },
   "outputs": [
    {
     "name": "stdout",
     "output_type": "stream",
     "text": [
      "IDS = 3 mA when gm is  2.31 mS\n"
     ]
    }
   ],
   "source": [
    "#Exa 7.8\n",
    "#What is gm \n",
    "\n",
    "#given data \n",
    "VP=-4.5 \t\t   #in Volt\n",
    "IDSS=9 \t\t\t#in mA\n",
    "IDSS=IDSS*10**-3   #in Ampere\n",
    "IDS=3 \t\t\t #in mA\n",
    "IDS=IDS*10**-3 \t\t#in Ampere\n",
    "\n",
    "#calculation\n",
    "import math\n",
    "VGS=VP*(1-math.sqrt(IDS/IDSS)) \t#in Volt\n",
    "gm=(-2*IDSS/VP)*(1-VGS/VP) \t\t#in mS\n",
    "\n",
    "#result\n",
    "print\"IDS = 3 mA when gm is \",round(gm*1000,2),\"mS\""
   ]
  },
  {
   "cell_type": "markdown",
   "metadata": {},
   "source": [
    "### Example 7.9 page no.271"
   ]
  },
  {
   "cell_type": "code",
   "execution_count": 2,
   "metadata": {
    "collapsed": false
   },
   "outputs": [
    {
     "name": "stdout",
     "output_type": "stream",
     "text": [
      "Transfer Characteristics are in mA  10.0 15.625 5.625 2.5 0.0\n",
      "Transfer Characteristics for N channel MOSFET Type\n"
     ]
    },
    {
     "data": {
      "image/png": "[encoded data removed]",
      "text/plain": [
       "<matplotlib.figure.Figure at 0x7fb34db76e50>"
      ]
     },
     "metadata": {},
     "output_type": "display_data"
    }
   ],
   "source": [
    "#Exa 7.9\n",
    "#given data :\n",
    "Vp=-4.0 \t\t\t   #in Volt\n",
    "IDSS=10.0 \t\t    #in mA\n",
    "#From eq 7.1\n",
    "Vgs1=0\n",
    "Id1=IDSS                 # mA, at Vgs=0\n",
    "Vgs2=1\n",
    "Id2=Id1*(1-Vgs2/Vp)**2   #mA, at Vgs=1\n",
    "Vgs3=-1\n",
    "Id3=Id1*(1-Vgs3/Vp)**2   #mA, at Vgs=1\n",
    "Vgs4=-2\n",
    "Id4=Id1*(1-Vgs4/Vp)**2   #mA, at Vgs=-2\n",
    "Vgs5=-4\n",
    "Id5=Id1*(1-Vgs5/Vp)**2   #mA, at Vgs=-4\n",
    "\n",
    "print \"Transfer Characteristics are in mA \",Id1,Id2,Id3,Id4,Id5\n",
    "\n",
    "#Plot\n",
    "%matplotlib inline\n",
    "import matplotlib.pyplot as plt\n",
    "fig = plt.figure()\n",
    "ax = fig.add_subplot(111)\n",
    "\n",
    "Vgs=[-4,-2,-1,0,1]\n",
    "Id=[0,2.5,5.625,10,15.625]\n",
    "plt.xlabel(\"Vgs  (V)\") \n",
    "plt.ylabel(\"Id  (mA)\") \n",
    "plt.xlim((-4,2))\n",
    "plt.ylim((0,18))\n",
    "ax.plot([0], [10], 'o')\n",
    "ax.annotate('(Idss)', xy=(0,10))\n",
    "\n",
    "a=plt.plot(Vgs,Id)\n",
    "\n",
    "print \"Transfer Characteristics for N channel MOSFET Type\"\n",
    "plt.show(a)\n"
   ]
  },
  {
   "cell_type": "markdown",
   "metadata": {},
   "source": [
    "### Example 7.10 page no.275"
   ]
  },
  {
   "cell_type": "code",
   "execution_count": 20,
   "metadata": {
    "collapsed": false
   },
   "outputs": [
    {
     "name": "stdout",
     "output_type": "stream",
     "text": [
      "When VGS=6V the drain current is  1.25 mA\n"
     ]
    }
   ],
   "source": [
    "#Exa 7.10\n",
    "#Determine the drain current\n",
    "\n",
    "#given data \n",
    "ID_on=5 \t\t#in mA\n",
    "VGS=6 \t\t\t#in Volt\n",
    "VGS_on=8.0 \t\t#in Volt\n",
    "VGST=4 \t\t\t#in Volt\n",
    "\n",
    "#calculation\n",
    "K=ID_on/(VGS_on-VGST)**2 \t\t#in mA/V**2\n",
    "ID=K*(VGS-VGST)**2 \t\t\t#in mA\n",
    "\n",
    "#result\n",
    "print\"When VGS=6V the drain current is \",ID,\"mA\""
   ]
  }
 ],
 "metadata": {
  "kernelspec": {
   "display_name": "Python 2",
   "language": "python",
   "name": "python2"
  },
  "language_info": {
   "codemirror_mode": {
    "name": "ipython",
    "version": 2
   },
   "file_extension": ".py",
   "mimetype": "text/x-python",
   "name": "python",
   "nbconvert_exporter": "python",
   "pygments_lexer": "ipython2",
   "version": "2.7.6"
  }
 },
 "nbformat": 4,
 "nbformat_minor": 0
}
