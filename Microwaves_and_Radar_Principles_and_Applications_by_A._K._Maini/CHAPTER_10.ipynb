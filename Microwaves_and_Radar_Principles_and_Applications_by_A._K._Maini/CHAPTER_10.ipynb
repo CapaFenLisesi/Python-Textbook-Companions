{
 "metadata": {
  "name": "CHAPTER 10"
 },
 "nbformat": 3,
 "nbformat_minor": 0,
 "worksheets": [
  {
   "cells": [
    {
     "cell_type": "heading",
     "level": 1,
     "metadata": {},
     "source": "Chapter 10:Radar Systems Types And Applications"
    },
    {
     "cell_type": "heading",
     "level": 2,
     "metadata": {},
     "source": "Example 1,Page No:496"
    },
    {
     "cell_type": "code",
     "collapsed": false,
     "input": "import math\n\n# Variable Declaration\nc       = 3*10**8;           # velocity of EM waves in m/s\nf       = 10*10**9;           # carrier freq in Hz\nfm      = 100;               # freq of modlating signal\ndphi    = 10;                # separation b/w tx FM signal and demod echo signal in degrees\n\n# Calculations\nTp      = dphi/float((360*fm));    # round trip propagation time\nR       = (c*Tp)/float(2);         # target range\n\n# Result\nprint'Target Range = %3.2f Km'%(R/float(1000));\n\n",
     "language": "python",
     "metadata": {},
     "outputs": [
      {
       "output_type": "stream",
       "stream": "stdout",
       "text": "Target Range = 41.67 Km\n"
      }
     ],
     "prompt_number": 1
    },
    {
     "cell_type": "heading",
     "level": 2,
     "metadata": {},
     "source": "Example 2,Page No:496"
    },
    {
     "cell_type": "code",
     "collapsed": false,
     "input": "import math\n\n# Variable Declaration\nf       = 10*10**9;          # center freq. in Hz\nf_us    = 60*10**3;          # upsweep freq. in Hz\nf_ds    = 80*10**3;          # down sweep freq. in Hz\nfm      = 100;               # modulation freq. in Hz\nB       = 2*10**6;           # sweep bandwidth in Hz\nc       = 3*10**8;           # vel. of EM waves in m/s\nT       = 5*10**-3;\n\n# Calculations\nfd      = (f_ds - f_us)/float(2);      \ndf      = (f_ds + f_us)/float(2); \nR       = (c*T*df)/float((2*B));       # range in m\n# fd   = (2*Vr*f)/float(c);\nVr      = (c*fd)/float((2*f));         # target radial velocity\nVr_kmph = Vr*(18/float(5));            # target radial velocity in kmph\nVr_nmph = Vr_kmph/float(1.85);         # target radial velocity in Nautical miles per hour\n\n#Result\nprint'Target Range = %3.2f Km\\n'%(R/float(1000)),'Radial velocity = %3.1f Nmi/hr'%Vr_nmph;\n\n",
     "language": "python",
     "metadata": {},
     "outputs": [
      {
       "output_type": "stream",
       "stream": "stdout",
       "text": "Target Range = 26.25 Km\nRadial velocity = 291.9 Nmi/hr\n"
      }
     ],
     "prompt_number": 1
    },
    {
     "cell_type": "heading",
     "level": 2,
     "metadata": {},
     "source": "Example 3,Page No:497"
    },
    {
     "cell_type": "code",
     "collapsed": false,
     "input": "import math\n\n# Variable Declaration\nVr = 150\nc  = 3*10**8;\ndf1= 10**6;\n# fd   = (2*Vr)/lamda  = (2*Vr*f)/c\n# for 'Vr' and 'c' as constant(for a given radial velocity,Vr is constant)\n# fd   = K.f where 'f' is the operating frequency and K = (2*Vr)/c\n# Therefore df = \u00b1 1 Mhz around the center frequency\nk = (2*Vr)/float(c);\ndf_d = df1*k\n\n#  Result\nprint'Doppler shift due to carrier frequency sweep = \u00b1%d Hz'%df_d;\n\n",
     "language": "python",
     "metadata": {},
     "outputs": [
      {
       "output_type": "stream",
       "stream": "stdout",
       "text": "Doppler shift due to carrier frequency sweep = \u00b11 Hz\n"
      }
     ],
     "prompt_number": 2
    },
    {
     "cell_type": "heading",
     "level": 2,
     "metadata": {},
     "source": "Example 4,Page No:497"
    },
    {
     "cell_type": "code",
     "collapsed": false,
     "input": "import math\n\n# Variable Declaration\nf       = 10*10**9;          # operating frequency in Hz\nf_us    = 100*10**3;         # upsweep freq\nf_ds    = 100*10**3;         # downsweep freq\nTus     = 5*10**-3;          # up-sweep period\nTds     = 5*10**-3;          # down-sweep period\nT       = 10*10**-3           \nB       = 10*10**6;          # sweep bandwidth\nc       = 3*10**8;           # vel of EM waves in m/s\nf_us_b  = 80*10**3;          # upsweep freq in fig b\nf_ds_b  = 50*10**3;          # downsweep freq in fig b\nf_us_c  = 50*10**3;          # upsweep freq in fig b\nf_ds_c  = 80*10**3;          # downsweep freq in fig b\n\n# Calculations\n# a\nfd      = (f_us - f_ds)/float(2);      # doppler shift\ndf      = (f_us + f_ds)/float(2);      # freq diff\nVr_a    = (c*fd)/float((2*f));         # radial velocity\nR       = (c*Tus*df)/float((2*B));     # Range\nif Vr_a == 0:\n    print'Case a:\\nRadial velocity = %d'%Vr_a ,'\\nRange = %3.3f Km\\n'%(R/1000);\n#b\nfd      = (f_us_b - f_ds_b)/2;      # doppler shift\ndf_b    = (f_us_b + f_ds_b)/2;      # freq difference due to range\nR_b     = (c*T*df_b)/(2*B);         # Range\nVr_b    = (c*fd)/(2*f);             # radial velocity\n\nprint'Case b:\\nRadial velocity = %3.2fm/s'%Vr_b,'\\n Range = %3.3f Km\\n' %(R_b/1000);\nprint 'As the up-sweep frequency difference is less than downspeed freq diff, this implies that doppler shift is\\ncontributing towards an increase in the echo signal freq. so, target is moving towards radar\\n'\n\n# c\nfd      = (f_us_c - f_ds_c)/2;      # doppler shift\ndf_c    = (f_us_c + f_ds_c)/2;      # freq difference due to range\nR_c     = (c*T*df_c)/(2*B);         # Range\nVr_c    = (c*fd)/(2*f);             # radial velocity\nprint'Case c:\\n Radial velocity = %3.2fm/s' %abs(Vr_c),'\\n Range = %3.3f Km\\n' %(R_c/1000)\nprint' As the up-sweep frequency difference is greater than downspeed freq diff, this implies that doppler shift is\\n contributing towards an decrease in the echo signal freq. so, target is moving away from radar';",
     "language": "python",
     "metadata": {},
     "outputs": [
      {
       "output_type": "stream",
       "stream": "stdout",
       "text": "Case a:\nRadial velocity = 0 \nRange = 7.500 Km\n\nCase b:\nRadial velocity = 225.00m/s \n Range = 9.750 Km\n\nAs the up-sweep frequency difference is less than downspeed freq diff, this implies that doppler shift is\ncontributing towards an increase in the echo signal freq. so, target is moving towards radar\n\nCase c:\n Radial velocity = 225.00m/s \n Range = 9.750 Km\n\n As the up-sweep frequency difference is greater than downspeed freq diff, this implies that doppler shift is\n contributing towards an decrease in the echo signal freq. so, target is moving away from radar\n"
      }
     ],
     "prompt_number": 28
    },
    {
     "cell_type": "heading",
     "level": 2,
     "metadata": {},
     "source": "Example 5,Page No:504"
    },
    {
     "cell_type": "code",
     "collapsed": false,
     "input": "import math\n# Variable Declaration\nf       = 10*10**9;          # operating freq in Hz\nPRF     = 1000;              # pulse rep. rate\nVr      = 1000;              # radial velocity\nc       = 3*10**8;            # vel. of EM waves in m/s\n\n# Calculations\nfd      = (2*Vr*f)/c        # true doppler shift\nfA1     = abs(((fd%PRF) - PRF))%PRF\nfA2     = abs(((fd%PRF) + PRF))%PRF\n\n\nif fA1 < fA2:\n    fd  = fA1;         # apparent doppler shift\nelse:\n    fd  = fA2;         # apparent doppler shift\nVr      = (c*fd)/(2*f);     # radial velocity in m/s\n\n# output\nprint'Radial velocity = %3.2f m/s' %Vr, '\\n The radar measures the target to be moving away from the radial velocity at %3.2f m/s though in reality\\n it is moving towards the radar with a velocity of 1000 m/s'%abs(Vr);\n\n",
     "language": "python",
     "metadata": {},
     "outputs": [
      {
       "output_type": "stream",
       "stream": "stdout",
       "text": "Radial velocity = 5.00 m/s \n The radar measures the target to be moving away from the radial velocity at 5.00 m/s though in reality\n it is moving towards the radar with a velocity of 1000 m/s\n"
      }
     ],
     "prompt_number": 9
    },
    {
     "cell_type": "heading",
     "level": 2,
     "metadata": {},
     "source": "Example 9,Page No:507"
    },
    {
     "cell_type": "code",
     "collapsed": false,
     "input": "import math\n\n# Variable Declaration\nlamda   = 3*10**-2;      # Operating Wavelength in m\nPRF     = 2000;          # pulse rep. freq in Hz\nn       = 1;             # for lowest blind speed\n\n# Calculations\nLBS     = ((n*lamda)/2)*PRF; # lowest blind speed\nVb_kmph = LBS*(18/float(5))       # lowest blind speed in kmph\n\n# Result\nprint'Lowest Blind speed = %d Kmph' %Vb_kmph;\n\n",
     "language": "python",
     "metadata": {},
     "outputs": [
      {
       "output_type": "stream",
       "stream": "stdout",
       "text": "Lowest Blind speed = 108 Kmph\n"
      }
     ],
     "prompt_number": 21
    },
    {
     "cell_type": "heading",
     "level": 2,
     "metadata": {},
     "source": "Example 11,Page No:510"
    },
    {
     "cell_type": "code",
     "collapsed": false,
     "input": "import math\n\n# Given data\nR       = 100;          # Range in kms\nPRR     = 10*10**3;     # pulse rep. rate in Hz\nc       = 3*10**5;      # vel. in km/s\n\n# Calculations\nPRI     = 1/float(PRR);        # pulse rep. interval\nRa      = (R%(c*PRI/float(2)));      # apparent range in km\n\n# Output\nprint'Apparent Range = %d Km\\n'%Ra;\n\n",
     "language": "python",
     "metadata": {},
     "outputs": [
      {
       "output_type": "stream",
       "stream": "stdout",
       "text": "Apparent Range = 10 Km\n\n"
      }
     ],
     "prompt_number": 22
    },
    {
     "cell_type": "heading",
     "level": 2,
     "metadata": {},
     "source": "Example 12,Page No:511"
    },
    {
     "cell_type": "code",
     "collapsed": false,
     "input": "import math\n\n# Variable Declaration\nRa      = 25;       # Apparent Range in km\nPRF     = 2000;     # Pulse rep. freq.\nc       = 3*10**5;   # vel. of EM waves in km/s\nNr      = 3;        # Range zone\n\n# Calculations\nR       = Ra + ((c/float(2))*((Nr - 1)/float(PRF)));    # true range in km\n\n# Result\nprint'True Range of the target = %d Km'%R;\n\n",
     "language": "python",
     "metadata": {},
     "outputs": [
      {
       "output_type": "stream",
       "stream": "stdout",
       "text": "True Range of the target = 175 Km\n"
      }
     ],
     "prompt_number": 9
    },
    {
     "cell_type": "heading",
     "level": 2,
     "metadata": {},
     "source": "Example 13,Page No:511"
    },
    {
     "cell_type": "code",
     "collapsed": false,
     "input": "import math\n\n# Variable Declaration\nPRF_1   = 750;      # pulse rep. freq in Hz\nPRF_2   = 1000;     # pulse rep. freq in Hz\nPRF_3   = 1250;     # pulse rep. freq in Hz\nRa_1    = 100;      # Apparent range for PRF_1\nRa_2    = 50;       # Apparent range for PRF_2\nRa_3    = 20;       # Apparent range for PRF_3\nc       = 3*10**5;  # Vel of EM waves in Km/s\n\n# Calculations\nR12 = \nfor Nr in range(1,6):\n    R12       = Ra_1 + ((c/2)*((Nr - 1)/PRF_1))    # true range in km\n    R23       = Ra_2 + ((c/2)*((Nr - 1)/PRF_2))   # true range in km\n    R33      = Ra_3 + ((c/2)*((Nr - 1)/PRF_3))  # true range in km\n\n# Output\nprint R12;\nprint'Possible True Range measurements for 750 PPS\\n';\n#print' = %dkm \\n',R1;\nprint'Possible True Range measurements for 1000 PPS\\n'\n#print' = %dkm \\n',R2;\nprint'Possible True Range measurements for 1250 PPS\\n'\n#print' = %dkm \\n',R3;\n#print'The shortest possible range that has been measured at all PRFs is %d Km True Range = %d km',R1(3),R1(3);\n   \n",
     "language": "python",
     "metadata": {},
     "outputs": [
      {
       "output_type": "stream",
       "stream": "stdout",
       "text": "100\nPossible True Range measurements for 750 PPS\n\nPossible True Range measurements for 1000 PPS\n\nPossible True Range measurements for 1250 PPS\n\n"
      }
     ],
     "prompt_number": 30
    },
    {
     "cell_type": "heading",
     "level": 2,
     "metadata": {},
     "source": "Example 14,Page No:528"
    },
    {
     "cell_type": "code",
     "collapsed": false,
     "input": "import math\n\n# Variable Declaration\nTe      = 4      # Expanded pulse width in usec\nf1      = 50     # RF freq in Mhz\nf2      = 70     # RF freq in Mhz\n\n# Calculations\nB       = f2 - f1;      # Signal bandwidth\nTc      = 1/float(B);          # Compressed pulse width in us\nCR      = Te/float(Tc);         # compression ratio\n\n# Result\nprint'Compression Ratio = %d\\n'%CR,'Width of compressed pulse = %3.2f us'%Tc;\n\n",
     "language": "python",
     "metadata": {},
     "outputs": [
      {
       "output_type": "stream",
       "stream": "stdout",
       "text": "Compression Ratio = 80\nWidth of compressed pulse = 0.05 us\n"
      }
     ],
     "prompt_number": 10
    },
    {
     "cell_type": "heading",
     "level": 2,
     "metadata": {},
     "source": "Example 15,Page No:528"
    },
    {
     "cell_type": "code",
     "collapsed": false,
     "input": "import math\n\n# Variable Declaration\nf       = 10*10**9;      # operating freq in Hz\nc       = 3*10**8;        # vel. of EM waves in m/s\nAe      = 2;             # Antenna aperture in m\nR       = 10*10**3;       # Target Range in m\n\n# Calculations\nlamda   = c/float(f);          # Wavelength in m\nbw3db   = lamda/float(2);      # 3dB beamwidth in radian\nLeff    = bw3db * R;    # effective length\nXs      = (R*lamda)/float((2*Leff));   # Cross range resolution\n\n# Result\nprint'Effective Length = %d m'%Leff;\nprint'Cross range resolution = %d m'%Xs;\n\n",
     "language": "python",
     "metadata": {},
     "outputs": [
      {
       "output_type": "stream",
       "stream": "stdout",
       "text": "Effective Length = 150 m\nCross range resolution = 1 m\n"
      }
     ],
     "prompt_number": 32
    },
    {
     "cell_type": "heading",
     "level": 2,
     "metadata": {},
     "source": "Example 16,Page No:541"
    },
    {
     "cell_type": "code",
     "collapsed": false,
     "input": "import math\n\n# Variable Declaration\nR       = 6000;     # Target Range\nc       = 3*10**8;   # speed of light in m/s\n\n# Calculations\nt       = (2*R)/float(c);  # round trip time\n\n# Result\nprint'Round Trip time = %d us'%(t/float(10**-6));\n\n",
     "language": "python",
     "metadata": {},
     "outputs": [
      {
       "output_type": "stream",
       "stream": "stdout",
       "text": "Round Trip time = 40 us\n"
      }
     ],
     "prompt_number": 33
    },
    {
     "cell_type": "heading",
     "level": 2,
     "metadata": {},
     "source": "Example 17,Page No:542"
    },
    {
     "cell_type": "code",
     "collapsed": false,
     "input": "import math\n\n# Variable declaration\nv       = 250;            # velocity in m/s\nlamda   = 10.6*10**-6     # operating wavelength\ntheta   = 60;             # angle of depression\n\n# Calculations\nVr      = v*math.cos(theta*math.pi/float(180));     # radial velocity\nfd      = (2*Vr)/float(lamda);                 # doppler shift\n\n# Result\nprint'Doppler Shift = %3.2f Mhz'%(fd*10**-6);\n\n",
     "language": "python",
     "metadata": {},
     "outputs": [
      {
       "output_type": "stream",
       "stream": "stdout",
       "text": "Doppler Shift = 23.58 Mhz\n"
      }
     ],
     "prompt_number": 13
    },
    {
     "cell_type": "heading",
     "level": 2,
     "metadata": {},
     "source": "Example 18,Page No:542"
    },
    {
     "cell_type": "code",
     "collapsed": false,
     "input": "import math\n\n# Variable Declaration\nB       = 10**6;     # Bandwidth in Mhz\nc       = 3*10**8;    # speed of light in m/s\n\n# Calculations\nRR      = c/float((2*B));  # Range Resolution in m\n\n# Result\nprint'Range Resolution = %d m\\n'%RR;\n\n",
     "language": "python",
     "metadata": {},
     "outputs": [
      {
       "output_type": "stream",
       "stream": "stdout",
       "text": "Range Resolution = 150 m\n\n"
      }
     ],
     "prompt_number": 34
    }
   ],
   "metadata": {}
  }
 ]
}