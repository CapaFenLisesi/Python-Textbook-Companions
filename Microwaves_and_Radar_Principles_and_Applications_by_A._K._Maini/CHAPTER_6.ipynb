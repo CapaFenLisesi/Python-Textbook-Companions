{
 "metadata": {
  "name": "CHAPTER 6"
 },
 "nbformat": 3,
 "nbformat_minor": 0,
 "worksheets": [
  {
   "cells": [
    {
     "cell_type": "heading",
     "level": 1,
     "metadata": {},
     "source": "Chapter 6:Semiconductor Microwave Devices"
    },
    {
     "cell_type": "heading",
     "level": 2,
     "metadata": {},
     "source": "Example 1,Page No:292"
    },
    {
     "cell_type": "code",
     "collapsed": false,
     "input": "import math \n\n# Variable Declaration\ngs      = 0.0025;       # output conductance in mho\ngl      = 0.0025;       # load conductance\nr       = -250;         # negative resistance of microwave device\n\n# calculations\n\n#  P1  = Vl**2 *gl          # power that is transferred to load\n#  P   = Vl**2 *gs          # source is matched to load\n#  P   = [Is/(gl+gs)]**2 *gs\n#      = ((Is**2)/(4*gs**2))*gs \n#      = (Is**2)/(4*gl)\n#  P2  = Vl**2 *gl          # Load power\n#      = [Is/(gs+gl-g)]**2 *gl\n#      = (Is**2 *gl)/(2gl - g)**2\n# P2/P1 = ((Is**2 *gl)/(2gl - g)**2)*(4*gl)/(Is**2)\n#       = (4*gl**2)/(2gl - g)**2;\n#       = (4*gl**2)/(4gl**2 + g(g-4gl))\n# For P2/P1 > 1 , 4gl > g so that denominator is less than numerator \ng       = 1/float(r);\n# let k = P2/P1\nk       = (4*gl*gl)/((2*gs)+ g)**2\n\n# Result\nprint'Power gain = %d'%k;\n",
     "language": "python",
     "metadata": {},
     "outputs": [
      {
       "output_type": "stream",
       "stream": "stdout",
       "text": "Power gain = 25\n"
      }
     ],
     "prompt_number": 3
    },
    {
     "cell_type": "heading",
     "level": 2,
     "metadata": {},
     "source": "Example 2,Page No:293"
    },
    {
     "cell_type": "code",
     "collapsed": false,
     "input": "import math\n\n\n# Variable Declaration\nRl      = 500;      # load resistance\n\n# Calculations\ngl      = 1/float(Rl);     # load conductance\ngmax    = 4*gl;     # max negative diff. conductance\n\n# Result\nprint'gmax = %3.3f mho'%gmax;\n\n",
     "language": "python",
     "metadata": {},
     "outputs": [
      {
       "output_type": "stream",
       "stream": "stdout",
       "text": "gmax = 0.008 mho\n"
      }
     ],
     "prompt_number": 6
    },
    {
     "cell_type": "heading",
     "level": 2,
     "metadata": {},
     "source": "Example 3,Page No:293"
    },
    {
     "cell_type": "code",
     "collapsed": false,
     "input": "import math\n\n# Variable Declaration\nL       = 10*10**-6;     # width of N-region\nVs      = 10**5;          # saturated vel. of carriers\n\n# Calculations\nfo      = (3*Vs)/(4*L);     # oscillation frequency\n\n# Result\nprint'Operational frequency = %3.1f Ghz\\n'%(fo/float(10**9));\nprint'Note: In textbook it is wrongly printed as 6.5 Ghz';\n\n",
     "language": "python",
     "metadata": {},
     "outputs": [
      {
       "output_type": "stream",
       "stream": "stdout",
       "text": "Operational frequency = 7.5 Ghz\n\nNote: In textbook it is wrongly printed as 6.5 Ghz\n"
      }
     ],
     "prompt_number": 1
    },
    {
     "cell_type": "heading",
     "level": 2,
     "metadata": {},
     "source": "Example 4,Page No:294"
    },
    {
     "cell_type": "code",
     "collapsed": false,
     "input": "import math\n\n# Variable Declaration\nL       = 10**-6;        # gate length\nVs      = 10**5;         # saturation velocity in m/s\n\n# calculations\nfT      = Vs/(2*math.pi*L); # cut-off freq.\n\n# Result\nprint'Unity gain cut-off frequency = %3.0f Ghz'%(fT/float(10**9));",
     "language": "python",
     "metadata": {},
     "outputs": [
      {
       "output_type": "stream",
       "stream": "stdout",
       "text": "Unity gain cut-off frequency =  16 Ghz\n"
      }
     ],
     "prompt_number": 3
    },
    {
     "cell_type": "heading",
     "level": 2,
     "metadata": {},
     "source": "Example 5,Page no:294"
    },
    {
     "cell_type": "code",
     "collapsed": false,
     "input": "import math\n\n# Variable Declaration\nf       = 10*10**9;      # oscillating freq. of Gunn diode\nVs      = 10**5;          # saturation carrier velocity in m/s\n\n# calculations\nL       = Vs/float(f);         # length of active layer\n\n# Result\nprint'Length of active layer = %3.0f \u00b5m'%(L/float(10**-6));\n\n",
     "language": "python",
     "metadata": {},
     "outputs": [
      {
       "output_type": "stream",
       "stream": "stdout",
       "text": "Length of active layer =  10 \u00b5m\n"
      }
     ],
     "prompt_number": 4
    },
    {
     "cell_type": "heading",
     "level": 2,
     "metadata": {},
     "source": "Example 6,Page No:294"
    },
    {
     "cell_type": "code",
     "collapsed": false,
     "input": "import math\n\n# Variable Declaration\nf       = 10*10**9;       # oscillating freq. of Gunn diode\nVs      = 10**5;          # saturation carrier velocity in m/s\ner      = 13;             # relative permitivity\nu       = 100*10**-4;     # mobility in m^2/V-s\neo      = 8.85*10**-12;  # permitivity in F/m\ne       = 1.6*10**-19;   # charge of electron\n\n# Calculations\nL       = Vs/float(f);         # length of active layer\nno      = (eo*er*Vs)/float((L*e*u));  # doping concentration\n\n# Result\nprint'Doping Concentration no >> %3.2g /m**3'%no;\n\n",
     "language": "python",
     "metadata": {},
     "outputs": [
      {
       "output_type": "stream",
       "stream": "stdout",
       "text": "Doping Concentration no >> 7.2e+20 /m**3\n"
      }
     ],
     "prompt_number": 5
    },
    {
     "cell_type": "heading",
     "level": 2,
     "metadata": {},
     "source": "Example 7,Page No:295"
    },
    {
     "cell_type": "code",
     "collapsed": false,
     "input": "import math\n\n# Given data\nfo      = 40*10**9;     # oscillating freq. of Gunn diode\nno      = 10**15;       # doping concentration\nup      = 8000;         # mobility in positive conductance region\ner      = 13;           # relative permitivity\num      = 100;          # mobility in m^2/V-s\neo      = 8.85*10**-14;  # permitivity in F/cm\ne       = 1.6*10**-19;   # charge of electron\n\n# Calculations\n# (eo*er)/(e*up) << no/fo < (eo*er)/(e*um)  // condition to be satisfied\n# let k = (eo*er)/(e*up) , l = (eo*er)/(e*um) , p = no/fo\np       = no/fo\nk       = (eo*er)/(e*up)\nl       = (eo*er)/(e*um)\nif k<p:\n    if p<l:\n        print'Necessary Condition satisfied';\n    \n",
     "language": "python",
     "metadata": {},
     "outputs": [
      {
       "output_type": "stream",
       "stream": "stdout",
       "text": "Necessary Condition satisfied\n"
      }
     ],
     "prompt_number": 3
    },
    {
     "cell_type": "heading",
     "level": 2,
     "metadata": {},
     "source": "Example 8,Page No:295"
    },
    {
     "cell_type": "code",
     "collapsed": false,
     "input": "import math\n\n# Variable Declaration\nn       = 10**15;        # doping concentration in /cm^3\nu       = 8500;         # mobility in  m^2/V-s\ner      = 13;           # relative permitivity\neo      = 8.85*10**-14;  # permitivity in F/cm\ne       = 1.6*10**-19;   # charge of electron\n\n# Calculations\nTd      = (eo*er)/float((n*u*e));      # Dielectric relaxation time\n\n# Output\nprint'Dielectric relaxation time = %3.3f ps'%(Td*10**12);\n\n",
     "language": "python",
     "metadata": {},
     "outputs": [
      {
       "output_type": "stream",
       "stream": "stdout",
       "text": "Dielectric relaxation time = 0.846 ps\n"
      }
     ],
     "prompt_number": 6
    },
    {
     "cell_type": "heading",
     "level": 2,
     "metadata": {},
     "source": "Example 9,Page No:296"
    },
    {
     "cell_type": "code",
     "collapsed": false,
     "input": "import math\n\n# Variable Declaration\nf       = 20*10**9;      # oscillating freq. of Gunn device\nVs      = 10**5;         # saturation carrier velocity in m/s\n\n# Calculations\nL       = Vs/float(f);          # length of device\n\n# Result\nprint'length of device = %d \u00b5m'%(L*10**6);\n\n",
     "language": "python",
     "metadata": {},
     "outputs": [
      {
       "output_type": "stream",
       "stream": "stdout",
       "text": "length of device = 5 \u00b5m\n"
      }
     ],
     "prompt_number": 44
    },
    {
     "cell_type": "heading",
     "level": 2,
     "metadata": {},
     "source": "Example 10,Page No:296"
    },
    {
     "cell_type": "code",
     "collapsed": false,
     "input": "import math\n# Given data from graph\nup  = (2*10**7)/float(3000);                # mobility of diode in positive conductance region\nun  = (2*10**7 - 10**7)/float(((10-3)*10**3)); # mobility of diode in negative conductance region\n\n# Result\nprint'mobility of diode in positive conductance region = %d cm**2/(V-s)'%up;\nprint'mobility of diode in negative conductance region = %3.0f cm**2/(V-s)'%un;\n\n",
     "language": "python",
     "metadata": {},
     "outputs": [
      {
       "output_type": "stream",
       "stream": "stdout",
       "text": "mobility of diode in positive conductance region = 6666 cm**2/(V-s)\nmobility of diode in negative conductance region = 1429 cm**2/(V-s)\n"
      }
     ],
     "prompt_number": 46
    },
    {
     "cell_type": "heading",
     "level": 2,
     "metadata": {},
     "source": "Example 11,Page No:297"
    },
    {
     "cell_type": "code",
     "collapsed": false,
     "input": "import math\n\n# Variable Declaration\ne       = 1.6*10**-19;   # charge of electron\nNd      = (10**15)*(10**6);    # mobility\nL       = 10*10**-6;      # active layer of Barritt diode\ner      = 12.5           # relative permitivity\neo      = 8.85*10**-12;   # permitivity in F/cm\n\n# calculations\nEx      = (e*Nd*L)/float((2*eo*er)) # electric field for Va = Vpt and x = L/2\nE       = Ex/float(10**2);           # electric field in v/cm\nVpt     = 10*10**-4*E\n\n# Result\nprint'Electric field E(x) = %3.0d KV/cm\\n'%(E/float(1000)),'Punch through voltage = %3.0f Volts'%Vpt;\n\n",
     "language": "python",
     "metadata": {},
     "outputs": [
      {
       "output_type": "stream",
       "stream": "stdout",
       "text": "Electric field E(x) =  72 KV/cm\nPunch through voltage =  72 Volts\n"
      }
     ],
     "prompt_number": 7
    },
    {
     "cell_type": "heading",
     "level": 2,
     "metadata": {},
     "source": "Example 12,Page No:297"
    },
    {
     "cell_type": "code",
     "collapsed": false,
     "input": "import math\n\n# Variable Declaration\nfT      = 10;       # ft specification of BJT\nf_a     = 2;        # operating freq in Ghz case a\nf_b     = 10;       # operating freq in Ghz case b\n\n# calculations\nhFE_a   = fT/float(f_a);     \nhFE_b   = fT/float(f_b);\n\n# Result\nprint'case a:\\n  hFE = %d\\n'%hFE_a,'case b:\\n  hFE = %d\\n'%hFE_b;\n    \n",
     "language": "python",
     "metadata": {},
     "outputs": [
      {
       "output_type": "stream",
       "stream": "stdout",
       "text": "case a:\n  hFE = 5\ncase b:\n  hFE = 1\n\n"
      }
     ],
     "prompt_number": 25
    },
    {
     "cell_type": "heading",
     "level": 2,
     "metadata": {},
     "source": "Example 13,Page No:298"
    },
    {
     "cell_type": "code",
     "collapsed": false,
     "input": "import math\n\n# Variable Declaration\nn       = 10**15;        # doping concentration in /cm^3\ner      = 15;            # relative permitivity\neo      = 8.85*10**-14;   # permitivity in F/cm\ne       = 1.6*10**-19;    # charge of electron\nsigma   = 133*10**-2;     # conductivity in ohm/cm\n\n# calculations\nTd      = (eo*er)/float(sigma);    # dielectric relaxation time constant\nu       = sigma/float((n*e)) ;     # mobility\n\n# Result\nprint'Dielectric relaxation time constant = %3.0f ps\\n'%(Td*10**12),'Carrier Mobility = %d cm**2/V-s'%u;\n\n\n",
     "language": "python",
     "metadata": {},
     "outputs": [
      {
       "output_type": "stream",
       "stream": "stdout",
       "text": "Dielectric relaxation time constant =   1 ps\nCarrier Mobility = 8312 cm**2/V-s\n"
      }
     ],
     "prompt_number": 9
    },
    {
     "cell_type": "heading",
     "level": 2,
     "metadata": {},
     "source": "Example 14,Page No:298"
    },
    {
     "cell_type": "code",
     "collapsed": false,
     "input": "import math\n\n# Variable Declaration\ngm      = 50*10**-3;       # conductance in mho\ncgs     = 0.6*10**-12;     # gate to source capacitance\ncgd     = 0.015*10**-12;   # gate to drain capacitance\nRg      = 3;               # gate resistance in ohm\nRs      = 2;               # source resistance in ohm\nRi      = 2.5;             # intrinsic channel resistance\nRds     = 400;             # drain to source resistance\n\n# Calculations\nfT      = gm/(2*math.pi*cgs);   # device's fT\nt3      = 2*math.pi*Rg*cgd;\nr1      = (Rg+Rs+Ri)/Rds;\nfmax    = fT/(2*math.sqrt(r1 + (fT*t3)));    # max usable frequency\nif fmax>40*10**9:\n    print'Operation at 40 GHz is Theoretically possible\\n';\n\n# utput\nprint' fT = %3.1f Ghz\\n'%(fT/float(10**9)),' fmax = %3.1f'%(fmax/float(10**9));\n",
     "language": "python",
     "metadata": {},
     "outputs": [
      {
       "output_type": "stream",
       "stream": "stdout",
       "text": "Operation at 40 GHz is Theoretically possible\n\n fT = 13.3 Ghz\n fmax = 44.2\n"
      }
     ],
     "prompt_number": 10
    },
    {
     "cell_type": "heading",
     "level": 2,
     "metadata": {},
     "source": "Example 15,Page No:299"
    },
    {
     "cell_type": "code",
     "collapsed": false,
     "input": "import math\n\n# Variable Declaration\nf2      = 20;       # pump frequency in GHz\nf1      = 2;        # signal frequency in GHz\n\n# Calculations\nGp      = (f1+f2)/f1;       # power gain if parametric amp. operated as USB up-converter\nGp_dB   = 10*math.log10(Gp);     # power gain in dB\nGp_lsb  = (f2-f1)/f1;       # power gain if parametric amp. operated as LSB up-converter\nGp_db_lsb = 10*math.log10(Gp_lsb); # power gain in dB\n\n# Result\nprint'Power gain of parametric amplifier when operated as USB up-converter = %3.1f dB\\n'%Gp_dB ,'Power gain of parametric amplifier when operated as LSB up-converter = %3.2f dB'%Gp_db_lsb;\n\n",
     "language": "python",
     "metadata": {},
     "outputs": [
      {
       "output_type": "stream",
       "stream": "stdout",
       "text": "Power gain of parametric amplifier when operated as USB up-converter = 10.4 dB\nPower gain of parametric amplifier when operated as LSB up-converter = 9.54 dB\n"
      }
     ],
     "prompt_number": 12
    },
    {
     "cell_type": "heading",
     "level": 2,
     "metadata": {},
     "source": "Example 16,Page No:300"
    },
    {
     "cell_type": "code",
     "collapsed": false,
     "input": "import math\n\n# Variable Declaration\nh       = 6.63*10**-34;     # planck's constant in Joule-sec\nel      = 0.25;             # lower energy level in eV from energy level diag.\neh      = 1.5;              # higher energy level in eV from energy level diag.\ne       = 1.6*10**-19;      # charge of electron\nc       = 3*10**8;          # vel. of light in m/s\n\n# calculations\nhf      = (eh - el)*e;            # energy diff b/w two levels in J\nf       = hf/float(h);                   # frequency\nlamda   = c/float(f);                    # o/p laser wavelength in m\n\n# Result\nprint'Output laser wavelength = %3.0e m '%(lamda),'or %3.0f \u00b5m '%(lamda*10**6);\n",
     "language": "python",
     "metadata": {},
     "outputs": [
      {
       "output_type": "stream",
       "stream": "stdout",
       "text": "Output laser wavelength = 1e-06 m  or   1 \u00b5m \n"
      }
     ],
     "prompt_number": 55
    },
    {
     "cell_type": "heading",
     "level": 2,
     "metadata": {},
     "source": "Example 17,Page No:312"
    },
    {
     "cell_type": "code",
     "collapsed": false,
     "input": "import math\n\n# Variable Declaration\np   = 0.1*10**-2;        # resistivity in ohm-m\nt   = 100*10**-6;        # thickness in m\nAR  = 10/1;              # aspect ratio\n\n# Calculations\nps  = p/float(t)\nR   = ps*AR;             # Resistance in ohm\n\n# Result\nprint'Resistance = %d \u03a9'%R;\n\n",
     "language": "python",
     "metadata": {},
     "outputs": [
      {
       "output_type": "stream",
       "stream": "stdout",
       "text": "Resistance = 100 \u03a9\n"
      }
     ],
     "prompt_number": 31
    },
    {
     "cell_type": "heading",
     "level": 2,
     "metadata": {},
     "source": "Example 18,Page No:312"
    },
    {
     "cell_type": "code",
     "collapsed": false,
     "input": "import math\n# Given data from fig\nR_a = 1000;      # resistance shown in fig a\nW1  = 0.15*10**-3  # width of geometry fig 6.72a\nL1  = 3*10**-3    # Length of geometry fig 6.72a\nW2  = 75*10**-6   # width of geometry fig 6.72b\nL2  = 1500*10**-6 # Length of geometry fig 6.72b\nt1  = 10*10**-6   # thickness of geometry fig 6.72a\nt2  = 20*10**-6   # thickness of geometry fig 6.72b\n\n#R1  = \u03c1s1*(L1/W1);  # resistor geometry of fig 6.72a\n#\u03c1s1 = (R1*W1)/L1; \nps1   = (R_a*W1)/L1;  # sheet resistivity of geometry of fig 6.72a\np     = ps1*t1;     # resistivity\nps2   = p/float(t2);       # sheet resistivity of geometry of fig 6.72b\nR2    = ps2*(L2/W2); # resistance of geometry of fig 6.72b\n\n# Result\nprint'For Geometry in Fig 6.72b\\n','sheet resistivity = %3.0f \u03a9/\u25a1\\n'%ps2,'Resistance = %d \u03a9'%R2;\n\n",
     "language": "python",
     "metadata": {},
     "outputs": [
      {
       "output_type": "stream",
       "stream": "stdout",
       "text": "For Geometry in Fig 6.72b\nsheet resistivity =  25 \u03a9/\u25a1\nResistance = 500 \u03a9\n"
      }
     ],
     "prompt_number": 15
    },
    {
     "cell_type": "heading",
     "level": 2,
     "metadata": {},
     "source": "Example 19,Page No:313"
    },
    {
     "cell_type": "code",
     "collapsed": false,
     "input": "import math\n\n# Variable Declaration\nA       = 100*100*10**-12;       # Area of electrode\ner      = 9.6;                  # relative permitivity\nt       = 500*10**-6;            # substrate thickness\neo      = 8.85*10**-12;          # permitivity\n\n# Calculations\nC       = (eo*er*A)/float(t);            # capacitance in farad\n\n# Result\nprint'Capacitance = %3.2e pF'%(C*10**12);\n\n",
     "language": "python",
     "metadata": {},
     "outputs": [
      {
       "output_type": "stream",
       "stream": "stdout",
       "text": "Capacitance = 1.70e-03 pF\n"
      }
     ],
     "prompt_number": 38
    },
    {
     "cell_type": "heading",
     "level": 2,
     "metadata": {},
     "source": "Example 20,Page No:314"
    },
    {
     "cell_type": "code",
     "collapsed": false,
     "input": "import math\n\n# Variable Declaration\nps      = 100;      # sheet resistivity\nL       = 1.04      # length\nW       = 0.02      # width\n\n# Calculations\nNOS     = L/W        # number of squares\nR       = ps * NOS   # resistance\n\n# Result\nprint'Resistance = %3.1f K\u03a9' %(R/float(1000));\n \n",
     "language": "python",
     "metadata": {},
     "outputs": [
      {
       "output_type": "stream",
       "stream": "stdout",
       "text": "Resistance = 5.2 K\u03a9\n"
      }
     ],
     "prompt_number": 16
    }
   ],
   "metadata": {}
  }
 ]
}