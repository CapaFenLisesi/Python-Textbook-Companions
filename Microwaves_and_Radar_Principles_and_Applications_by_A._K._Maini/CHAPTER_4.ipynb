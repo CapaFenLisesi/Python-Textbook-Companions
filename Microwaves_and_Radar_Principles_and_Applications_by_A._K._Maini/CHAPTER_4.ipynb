{
 "metadata": {
  "name": "CHAPTER 4"
 },
 "nbformat": 3,
 "nbformat_minor": 0,
 "worksheets": [
  {
   "cells": [
    {
     "cell_type": "heading",
     "level": 1,
     "metadata": {},
     "source": "Chapter 4:Microwave Components"
    },
    {
     "cell_type": "heading",
     "level": 2,
     "metadata": {},
     "source": "Example 1,Page No:167"
    },
    {
     "cell_type": "code",
     "collapsed": false,
     "input": "import math\n\n# Variable Declaration\nPi      = 10;           # Input power in mW\nCF      = 20;           # coupling factor in dB\n\n# calculations\n# CF(db)   = 10*math.log(Pi/Pc)\nPc      = Pi/(float((10**(CF/float(10)))));# antilog conversion and coupling power\n\n# Result\nprint'Coupled Power = %d uW'%(Pc*10**3);\n\n\n",
     "language": "python",
     "metadata": {},
     "outputs": [
      {
       "output_type": "stream",
       "stream": "stdout",
       "text": "Coupled Power = 100 uW\n"
      }
     ],
     "prompt_number": 30
    },
    {
     "cell_type": "heading",
     "level": 2,
     "metadata": {},
     "source": "Example 2,Page No:167"
    },
    {
     "cell_type": "code",
     "collapsed": false,
     "input": "import math\n\n# Variable Declaration\nPi      = 10;           # Input power in mW\nIL      = 0.4;          # insertion loss in dB\n\n# calculations\n# ILdb   = 10log(Pi/Po)\nPo      = Pi/float((10**(IL/10))) # antilog conversion and coupling power\n\n# Result\nprint'Power available at the straight through port output = %3.3f mW'%Po;\n\n",
     "language": "python",
     "metadata": {},
     "outputs": [
      {
       "output_type": "stream",
       "stream": "stdout",
       "text": "Power available at the straight through port output = 9.120 mW\n"
      }
     ],
     "prompt_number": 1
    },
    {
     "cell_type": "heading",
     "level": 2,
     "metadata": {},
     "source": "Example 3,Page No:168"
    },
    {
     "cell_type": "code",
     "collapsed": false,
     "input": "import math\n\n# Variable Declaration\nCF      = 20;       # Coupling factor in dB\nI       = 50;       # Isolation in dB\nPc      = 100*10**-6; # coupling power in W\n\n# calculations\n# D    = 10log(Pc/Piso)\nD       = I - CF;           # Directivity in dB\nPiso    = Pc/float((10**(D/float(10))))  # antilog conversion and coupling power\n\n# Result\nprint'Directivity = %d dB\\n'%D,'Power at isolated port = %d nW'%(Piso*10**9);\n\n",
     "language": "python",
     "metadata": {},
     "outputs": [
      {
       "output_type": "stream",
       "stream": "stdout",
       "text": "Directivity = 30 dB\nPower at isolated port = 100 nW\n"
      }
     ],
     "prompt_number": 2
    },
    {
     "cell_type": "heading",
     "level": 2,
     "metadata": {},
     "source": "Example 4,Page no:168"
    },
    {
     "cell_type": "code",
     "collapsed": false,
     "input": "import math\n\n# Variable Declaration\nCF      = 20;           # coupling factor in dB\nD       = 30;           # Directivity in dB\nPin     = 10;           # input power in dBm\n\n# Calculations\n# 10logPi = Pin\nPi      = 10**(Pin/10);   # power in mW\nI       = D + CF          # isolation in dB\nPc      = Pin - CF;\nPcwatts = 10**(Pc/10)     # power at coupled port in mW\nPiso    = Pin - I\nPisowatts = 10**(Piso/10) # Power at isolated port in mW\nPo      = Pi -(Pcwatts + Pisowatts);    # power at o/p port in mW\n\n# Result\nprint'Power Available at the output port = %3.5f mW'%Po;\n\n",
     "language": "python",
     "metadata": {},
     "outputs": [
      {
       "output_type": "stream",
       "stream": "stdout",
       "text": "Power Available at the output port = 9.89990 mW\n"
      }
     ],
     "prompt_number": 7
    },
    {
     "cell_type": "heading",
     "level": 2,
     "metadata": {},
     "source": "Example 5,Page No:169"
    },
    {
     "cell_type": "code",
     "collapsed": false,
     "input": "import math\n\n# Variable Declaration\n\nPi      = 5*10**-3;            # Input power in W\nCF      = 10;                  # coupling factor\nPiso    = 10*10**-6            # power at isolated port in w\n\n# calculations\n# CF   = 10log(Pi/Pc)\nPc      = Pi/(10**(CF/10))  # antilog conversion and coupling power\n# D    = 10log(Pc/Piso)    # Directivity\nD       = 10*math.log10(Pc/Piso)\n\n# Result\nprint'Directivity = %3.0f dB\\n'%D;\n\n",
     "language": "python",
     "metadata": {},
     "outputs": [
      {
       "output_type": "stream",
       "stream": "stdout",
       "text": "Directivity =  17 dB\n\n"
      }
     ],
     "prompt_number": 9
    },
    {
     "cell_type": "heading",
     "level": 2,
     "metadata": {},
     "source": "Example 6,Page No:169"
    },
    {
     "cell_type": "code",
     "collapsed": false,
     "input": "import math\n# given data\na       = 2;        # width in cm\nb       = 1;        # Height in cm\nd       = 3;        # length in cm\nc       = 3*10**10;  # vel in free space in cm/s\n# For TE101 mode\nm       = 1\nn       = 0;\np       = 1;\n\n# Calculations\nfo      = (c/float(2))*math.sqrt((m/float(a)**2)+ ((n/float(b))**2 )+ (p/float(d))**2);\n\n# Output\nprint'Resonant Frequency = %d Ghz' %(fo/float(10**9));\n\n",
     "language": "python",
     "metadata": {},
     "outputs": [
      {
       "output_type": "stream",
       "stream": "stdout",
       "text": "Resonant Frequency = 9 Ghz\n"
      }
     ],
     "prompt_number": 35
    },
    {
     "cell_type": "heading",
     "level": 2,
     "metadata": {},
     "source": "Example 7,Page No:170"
    },
    {
     "cell_type": "code",
     "collapsed": false,
     "input": "import math\n# given data\nfo      = 10;       # resonant freq in Ghz\n# output\nprint'The Resonant frequency for a TM mode in a rectangular cavity resonator for a given integral\\n';\nprint'values of m,n and p is same as that of a TE mode for same values of m,n and p\\n';\nprint'Therefore,TM111 mode resonant frequency = %d Ghz'%fo;\n\n",
     "language": "python",
     "metadata": {},
     "outputs": [
      {
       "output_type": "stream",
       "stream": "stdout",
       "text": "The Resonant frequency for a TM mode in a rectangular cavity resonator for a given integral\n\nvalues of m,n and p is same as that of a TE mode for same values of m,n and p\n\nTherefore,TM111 mode resonant frequency = 10 Ghz\n"
      }
     ],
     "prompt_number": 3
    },
    {
     "cell_type": "heading",
     "level": 2,
     "metadata": {},
     "source": "Example 8,Page No:170"
    },
    {
     "cell_type": "code",
     "collapsed": false,
     "input": "import math\n\n# Variable Declaration\na       = 4;        # width in cm\nb       = 2;        # Height in cm\nc       = 3*10**10;  # vel in free space in cm/s\nfo      = 6*10**9;    # resonator frequency in Ghz\n# For TE101 mode\nm       = 1\nn       = 0;\np       = 1;\n\n# Calculations\n#fo      = (c/float(2))*math.sqrt((m/float(a)**2 + (n/float(b)**2 + (p/float(d)**2);\nd       = math.sqrt(((p**2)/((((2*fo)/float(c))**2) - ((m/float(a))**2) -((n/float(b))**2))));\n\n# Result\nprint'Length of cavity resonator = %3.1f cm'%d;\n\n",
     "language": "python",
     "metadata": {},
     "outputs": [
      {
       "output_type": "stream",
       "stream": "stdout",
       "text": "Length of cavity resonator = 3.2 cm\n"
      }
     ],
     "prompt_number": 40
    },
    {
     "cell_type": "heading",
     "level": 2,
     "metadata": {},
     "source": "Example 9,Page No:170"
    },
    {
     "cell_type": "code",
     "collapsed": false,
     "input": "import math\n\n# Variable Declaration\na       = 4;        # width in cm\nb       = 2;        # Height in cm\nc       = 3*10**10;  # vel in free space in cm/s\nfo      = 6*10**9;   # resonator frequency in Ghz\nd       = 3.2;      # length of cavity resonator in cm\n# For TE101 mode\nm       = 1\nn       = 0;\n\n# Calculations\nlamda_c = 2/(float(math.sqrt(((m/float(a))**2) + ((n/float(b))**2))));      # cut-off wavelength in m\nlamda   = c/float(fo);                             # operating wavelength in m\nlamda_g = lamda/(float(math.sqrt(1 - ((lamda/float(lamda_c))**2))));# guide wavelength in m\n\n# output\nprint'Length of resonator is %3.1f cm'%d,' and  guide wavelength is %3.1f cm'%(lamda_g);\nprint'\\nlength of resonator is half of guide wavelength';\n\n",
     "language": "python",
     "metadata": {},
     "outputs": [
      {
       "output_type": "stream",
       "stream": "stdout",
       "text": "Length of resonator is 3.2 cm  and  guide wavelength is 6.4 cm\n\nlength of resonator is half of guide wavelength\n"
      }
     ],
     "prompt_number": 4
    },
    {
     "cell_type": "heading",
     "level": 2,
     "metadata": {},
     "source": "Example 10,Page No:171"
    },
    {
     "cell_type": "code",
     "collapsed": false,
     "input": "import math\n\n# Variable Declaration\ndi       = 8;        # internal diameter in cms\na        = 4;        # internal radius in cms\nfo      = 10*10**9;  # operating frequency in Ghz\nha01    = 2.405;    # Eigen value of bessel function\nc       = 3*10**10   # velocity of EM wave in cm/sec\n# For TM011 mode\nm       = 0\nn       = 1\np       = 1\n\n# Calculations\n#f0  = (c/2*pi)*sqrt((ha/a)**2 + (p*pi/d)**2)  operating frequency\nd     = (p*math.pi)/(math.sqrt((fo*2*math.pi/c)**2 - (ha01/a)**2))   #length of resonator\n\n# result\nprint'Length of resonator = %3.3f cm'%d;\n\n",
     "language": "python",
     "metadata": {},
     "outputs": [
      {
       "output_type": "stream",
       "stream": "stdout",
       "text": "Length of resonator = 1.566 cm\n"
      }
     ],
     "prompt_number": 22
    },
    {
     "cell_type": "heading",
     "level": 2,
     "metadata": {},
     "source": "Example 11,Page No:172"
    },
    {
     "cell_type": "code",
     "collapsed": false,
     "input": "import math\n\n# Variable Declaration\ndi       = 6;        #internal diameter in cms\nd        = 5;        #length in cm\na        = 4;        #internal radius in cms\nfo      = 10*10**9; #perating frequency in Ghz\nha01    = 2.405;    #Eigen value of bessel function\nha11    = 1.841;    #Eigen value of bessel function\nc       = 3*10**10   #velocity of EM wave in cm/sec\n#For TM011 mode and TE111 mode\nm0       = 0\nm1       = 1\nn1       = 1\np1       = 1\np2       = 2\n\n# Calculations\nf0  = (c/(2*math.pi))*math.sqrt((ha01/a)**2 + (p2*math.pi/d)**2)     #resonant frequency for TM012 mode \nf01  = (c/(2*math.pi))*math.sqrt((ha11/a)**2 + (p1*math.pi/d)**2)        # resonant frequency for TE111 mode \n\n# Result\nprint'Resonant frequency for TM012 mode = %3.3f Ghz\\n'%(f0/float(10**9)), 'Resonant frequency for TM111 mode = %3.3f Ghz\\n'%(f01/float(10**9 ));\n\n",
     "language": "python",
     "metadata": {},
     "outputs": [
      {
       "output_type": "stream",
       "stream": "stdout",
       "text": "Resonant frequency for TM012 mode = 6.651 Ghz\nResonant frequency for TM111 mode = 3.719 Ghz\n\n"
      }
     ],
     "prompt_number": 5
    }
   ],
   "metadata": {}
  }
 ]
}