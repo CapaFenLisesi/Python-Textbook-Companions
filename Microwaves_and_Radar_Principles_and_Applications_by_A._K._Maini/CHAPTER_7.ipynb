{
 "metadata": {
  "name": "CHAPTER 7"
 },
 "nbformat": 3,
 "nbformat_minor": 0,
 "worksheets": [
  {
   "cells": [
    {
     "cell_type": "heading",
     "level": 1,
     "metadata": {},
     "source": "Chapter 7:Antennas"
    },
    {
     "cell_type": "heading",
     "level": 2,
     "metadata": {},
     "source": "Example 1,Page No:332"
    },
    {
     "cell_type": "code",
     "collapsed": false,
     "input": "import math\n\n# Variable Declaration\nLdipole    = 50;         # Length of dipole in cm\nc          = 3*10**10;   # velocity of EM wave in cm/s\nBW         = 10*10**6;   # bandwidth in Hz\n\n# Calculations\nlamda      = 2*Ldipole;     # wavelength in cm\nfo         = c/lamda;       # operating frequency in Hz\nQ          = fo/BW;          # quality factor\n\n# Result\nprint'Q = %d'%Q;\n\n",
     "language": "python",
     "metadata": {},
     "outputs": [
      {
       "output_type": "stream",
       "stream": "stdout",
       "text": "Q = 30\n"
      }
     ],
     "prompt_number": 1
    },
    {
     "cell_type": "heading",
     "level": 2,
     "metadata": {},
     "source": "Example 2,Page No:332"
    },
    {
     "cell_type": "code",
     "collapsed": false,
     "input": "import math\n\n# Variable Declaration\nRr      = 72;       # Radiation resistance in ohms\nRl      = 8;        # Loss resistance in ohms\nAp      = 27;       # power gain \n\n# Calculations\nn       = Rr/float((Rr + Rl));     # radiation efficiency\nD       = Ap/float(n);             # Directivity\nD_dB    = 10*math.log10(D);      # directivity in dB\n\n# Result\nprint'Directivity = %3.2f dB'%D_dB;\n\n",
     "language": "python",
     "metadata": {},
     "outputs": [
      {
       "output_type": "stream",
       "stream": "stdout",
       "text": "Directivity = 14.77 dB\n"
      }
     ],
     "prompt_number": 3
    },
    {
     "cell_type": "heading",
     "level": 2,
     "metadata": {},
     "source": "Example 3,Page No:333"
    },
    {
     "cell_type": "code",
     "collapsed": false,
     "input": "import math\n\n# Variable Declaration\nAZ_BW      = 0.5;      # beamwidth in degrees\nE_BW       = 0.5;      # beamwidth in degrees\nlamda      = 3*10**-2; # radar emission wavelength\n\n# Calculations\n\nAZ_BW_r    = AZ_BW*math.pi/float(180);     # azimuth beamwidth in radians\nE_BW_r     = E_BW*math.pi/float(180);      # elevation beamwidth in radians\nG          = (4*math.pi)/float((AZ_BW_r *E_BW_r ))     # antenna gain\nG_db       = 10*math.log10(G);        # gain in dB\nA          = (G*lamda*lamda)/float((4*math.pi));   # antenna aperture\n\n# Output\nprint'Gain of Antenna = %3.2f dB\\n'%G_db,'Antenna Aperture = %3.3f m'%A;\n\n",
     "language": "python",
     "metadata": {},
     "outputs": [
      {
       "output_type": "stream",
       "stream": "stdout",
       "text": "Gain of Antenna = 52.18 dB\nAntenna Aperture = 11.818 m\n"
      }
     ],
     "prompt_number": 1
    },
    {
     "cell_type": "heading",
     "level": 2,
     "metadata": {},
     "source": "Example 4,Page No:333"
    },
    {
     "cell_type": "code",
     "collapsed": false,
     "input": "import math\n\n# Variable Declaration\nn_az      = 0.5;        #length efficiency in azimuth direction\nn_el      = 0.7;        #length efficiency in elevation direction\nA         = 10;         # area in square mts\n\n# Calculations\nn         = n_az * n_el;    # aperture efficiency\nAe        = n*A;            # Effective aperture\n\n# Output\nprint'Effective aperture of the antenna = %3.1f sq.m'%Ae;\n\n",
     "language": "python",
     "metadata": {},
     "outputs": [
      {
       "output_type": "stream",
       "stream": "stdout",
       "text": "Effective aperture of the antenna = 3.5 sq.m\n"
      }
     ],
     "prompt_number": 8
    },
    {
     "cell_type": "heading",
     "level": 2,
     "metadata": {},
     "source": "Example 5,Page No:333"
    },
    {
     "cell_type": "code",
     "collapsed": false,
     "input": "import math\n\n# Variable Declaration\nPtot        = 100;      # certain antenna radiating power\nPtot_iso    = 10*10**3;  # isotropic antenna radiating power\n\n# Calculations\nD           = 10*math.log10(Ptot_iso/Ptot);  # Directivity of antenna\n\n# Output\nprint'Directivity of antenna = %d dB'%D;\n\n",
     "language": "python",
     "metadata": {},
     "outputs": [
      {
       "output_type": "stream",
       "stream": "stdout",
       "text": "Directivity of antenna = 20 dB\n"
      }
     ],
     "prompt_number": 9
    },
    {
     "cell_type": "heading",
     "level": 2,
     "metadata": {},
     "source": "Example 6,Page No:334"
    },
    {
     "cell_type": "code",
     "collapsed": false,
     "input": "import math\n\n# Variable Declaration\nD       = 3;        # diameter of the antenna in m\nnl      = 0.7;      # length efficiency\nnr      = 0.9;      # radiation efficiency\nf       = 10*10**9;  # antenna operating freq.\nc       = 3*10**8;   # vel of EM waves in m/s\n\n# calculations\nde     = D*(nl)  # Effective diameter\nlamda   = c/float(f);      # wavelength in m\nBeam_w  = lamda/de # beamwidth in radian\nBeam_w_d= Beam_w*180/math.pi;       # beam width in degree;\nn_a     = nl * nl;    # Aperture efficiency\nAA      = (math.pi*D*D)/4;  # actual area in sq m\nAe      = AA*n_a;       # Effective aperture\nG       = (4*math.pi*Ae)/float((lamda**2)); # Gain\nG_db    = 10*math.log10(G);\n\n# Output\nprint'Beam Width = %3.2f degrees\\n '%Beam_w_d;\nprint'Effective Aperture = %3.2fsq m\\n'%Ae;\nprint'Gain = %3.1f dB'%G_db;\n\n",
     "language": "python",
     "metadata": {},
     "outputs": [
      {
       "output_type": "stream",
       "stream": "stdout",
       "text": "Beam Width = 0.82 degrees\n \nEffective Aperture = 3.46sq m\n\nGain = 46.8 dB\n"
      }
     ],
     "prompt_number": 4
    },
    {
     "cell_type": "heading",
     "level": 2,
     "metadata": {},
     "source": "Example 7,Page No:334"
    },
    {
     "cell_type": "code",
     "collapsed": false,
     "input": "import math\n# given data\n# given (lamda/10) wire dipole\n# Radiation resistance of short dipoles is Rr  = 790*(1/lamda)**2;\n# Rr   = 790*(lamda/(10*lamda))**2;\n# Rr   = 7.9;\nprint'Radiation resistance = 7.9 ohms';\n\n",
     "language": "python",
     "metadata": {},
     "outputs": [
      {
       "output_type": "stream",
       "stream": "stdout",
       "text": "Radiation resistance = 7.9 ohms\n"
      }
     ],
     "prompt_number": 12
    },
    {
     "cell_type": "heading",
     "level": 2,
     "metadata": {},
     "source": "Example 8,Page No:334"
    },
    {
     "cell_type": "code",
     "collapsed": false,
     "input": "import math\n\n# Variable Declaration\na_l     = 6;        # Azimuth length in m\nn_a     = 0.7;      # Azimuth length efficiency\nn_e     = 0.5;      # elevation length efficiency\ne_l     = 4;        # elevation length in m\nw       = 6;        # width of antenna\nh       = 4;        # height of antenna \nlamda   = 3*10**-2;  # wavelength\n\n# Calculations\nEff_A_l = a_l*n_a;  # effective azimuth length\nEff_E_l = e_l*n_e;  # effective elevation length\nA       = w*h       # actual area\nn       = n_a*n_e;  # aperture efficiency\nAe      = A*n;      # effective aperture\nAz_BW   = lamda/float(Eff_A_l) # Azimuth beam width\nE_BW    = lamda/float(Eff_E_l)  # elevation beam width\nAz_BW_d = Az_BW*180/float(math.pi)  # rad to deg conv\nE_BW_d  = E_BW*180/float(math.pi);  # rad to deg conv\nG       = (4*math.pi*Ae)/float((lamda**2)); #Gain\nG_dB    = 10*math.log10(G);  # gain in dB\n\n# Result\nprint'Azimuth Beamwidth = %3.2f degrees'%Az_BW_d; \nprint'Elevation Beamwidth = %3.2f degrees'%E_BW_d; \nprint'Gain = %3.1f dB'%G_dB;\n\n",
     "language": "python",
     "metadata": {},
     "outputs": [
      {
       "output_type": "stream",
       "stream": "stdout",
       "text": "Azimuth Beamwidth = 0.41 degrees\nElevation Beamwidth = 0.86 degrees\nGain = 50.7 dB\n"
      }
     ],
     "prompt_number": 9
    },
    {
     "cell_type": "heading",
     "level": 2,
     "metadata": {},
     "source": "Example 9,Page No:335"
    },
    {
     "cell_type": "code",
     "collapsed": false,
     "input": "import math\n# given data\nBeam_w_3db  = 0.4;\n\n# Calculations\nN2N_Beam_w  = 2*Beam_w_3db; # Null to Null beamwidth\n\n# output\nprint'Null to Null Beam width = degrees',N2N_Beam_w;\n\n",
     "language": "python",
     "metadata": {},
     "outputs": [
      {
       "output_type": "stream",
       "stream": "stdout",
       "text": "Null to Null Beam width = degrees 0.8\n"
      }
     ],
     "prompt_number": 39
    },
    {
     "cell_type": "heading",
     "level": 2,
     "metadata": {},
     "source": "Example 10,Page No:335"
    },
    {
     "cell_type": "code",
     "collapsed": false,
     "input": "import math\n\n# given data\nRSSR        = 20;   # Rx signal strength in horizontal polarised antenna when rx RHCP\n\n# Calculations\n# When incident polarisation is circularly polarised and the antenna is linearly polarised,there is a ploarisation loss of 3dB\nISS         = RSSR + 3;     \n# a\n# when the Rx polarisation is same as the antenna polarisation , the polarisation loss is zero\nRSS_HP      = ISS;      # rx signal strength for incident wave horizontally polarised\n# b\n# when the incident wave is vertically polarised ,the angle between the incident polarisation and the antenna polarisation is 90\n# polarisation loss = 20log(1/cos( \u03c6))\n#                   = 20log(1/cos90) = \u221e\nRSS_VP      = 0;        # rx signal strength for incident wave vertically polarised\n# c\n# When the incident wave is LHCP and the antenna polarisation is linear ,there will be a 3dB polarisation loss and the \n# Rx signal strength therefore will be 20 dB only\nRSS_LHCP    = RSSR;      # rx signal strength for incident wave Left hand circularly polarised\n# d\n# The angle between the incident wave polarisation and the antenna polarisation is 60 degrees\nphi         = 60;                               # rx wave polarisation angle with horizontal\nPL          = 20*math.log10(1/float(math.cos(60*math.pi/float(180))));      # polarisation loss in dB\nRSS_Pangle  = ISS - PL;\n# Result\nprint'Received signal strength if incident wave horizontally polarised = %d dB'%RSS_HP;\nprint'Received signal strength if incident wave vertically polarised = %d dB'%RSS_VP;\nprint'Received signal strength if incident wave Left hand circularly polarised is %d dB'%RSS_LHCP;\nprint'Received signal strength if Received wave polarisation making 60deg angle with horizontal is %3.0f dB'%RSS_Pangle;\n\n\n",
     "language": "python",
     "metadata": {},
     "outputs": [
      {
       "output_type": "stream",
       "stream": "stdout",
       "text": "Received signal strength if incident wave horizontally polarised = 23 dB\nReceived signal strength if incident wave vertically polarised = 0 dB\nReceived signal strength if incident wave Left hand circularly polarised is 20 dB\nReceived signal strength if Received wave polarisation making 60deg angle with horizontal is  17 dB\n"
      }
     ],
     "prompt_number": 11
    },
    {
     "cell_type": "heading",
     "level": 2,
     "metadata": {},
     "source": "Example 11,Page No:337"
    },
    {
     "cell_type": "code",
     "collapsed": false,
     "input": "import math\n\n# Variable Declaration\nf       = 300*10**6;     # operating frequency in Hz\nc       = 3*10**10;      # velocity of EM wave in cm/s\n\n# Calculations\nlamda   = c/float(f);          # wavelength in cm\n# Physical length of antenna is made 5% shorter than desired length as per rule of thumb\nl       = lamda/float(2);      # length of halfwave dipole\nlphy    = l-(5/float(100))*l;  # as per rule of thumb\n\n# Output\nprint'Length of a half wave dipole to be cut = %3.1f cm'%lphy;\n\n",
     "language": "python",
     "metadata": {},
     "outputs": [
      {
       "output_type": "stream",
       "stream": "stdout",
       "text": "Length of a half wave dipole to be cut = 47.5 cm\n"
      }
     ],
     "prompt_number": 12
    },
    {
     "cell_type": "heading",
     "level": 2,
     "metadata": {},
     "source": "Example 12,Page No:342"
    },
    {
     "cell_type": "code",
     "collapsed": false,
     "input": "import math\n\n# Variable Declaration\nZi      = 72;       # input impedance in ohms\n# A    = 1.5a      # area of cross section in sq.cm\n# Zif  = Zi*[(sum of areas of cross section of various components)/(Area of cross section of the driven element )]**2;\n# Zif  = 72*((a + 1.5a)/a)**2;\n# Zif  = 72*(2.5*a/a)**2;\nZif     = 72*(2.5)**2;\n\nprint'Input impedance for a folded dipole = %d \u03a9'%Zif;\n\n",
     "language": "python",
     "metadata": {},
     "outputs": [
      {
       "output_type": "stream",
       "stream": "stdout",
       "text": "Input impedance for a folded dipole = 450 \u03a9\n"
      }
     ],
     "prompt_number": 25
    },
    {
     "cell_type": "heading",
     "level": 2,
     "metadata": {},
     "source": "Example 13,Page No:342"
    },
    {
     "cell_type": "code",
     "collapsed": false,
     "input": "import math\n# given data\nf       = 60*10**6;      # frequency in Hz\nc       = 3*10**8;      # velocity of EM wave in m/s\n\n# Calculations\nlamda   = c/float(f);          # wavelength in m\nl_dipole= lamda/float(2);      # length of diplole\n# Physical length of antenna is made 5% shorter than desired length as per rule of thumb\nL       = l_dipole - (5/float(100))*l_dipole;  # actual physical length\nL_D     = L - (4/float(100))*L;                # length of director\nL_R     = L + (4/float(100))*L;                # length of reflector\nDDS     = 0.12*lamda;                   # director dipole spacing\nRDS     = 0.2*lamda;                    # Reflector dipole spacing\n\n# Output\nprint'Length of dipole = %3.3f m'%L;\nprint'length of Director = %3.2f m'%L_D;\nprint'length of Reflector = %3.2f m'%L_R;\nprint'director dipole spacing = %3.1f m'%DDS;\nprint'Reflector dipole spacing = %3.1f m'%RDS;\n\n",
     "language": "python",
     "metadata": {},
     "outputs": [
      {
       "output_type": "stream",
       "stream": "stdout",
       "text": "Length of dipole = 2.375 m\nlength of Director = 2.28 m\nlength of Reflector = 2.47 m\ndirector dipole spacing = 0.6 m\nReflector dipole spacing = 1.0 m\n"
      }
     ],
     "prompt_number": 14
    },
    {
     "cell_type": "heading",
     "level": 2,
     "metadata": {},
     "source": "Example 14,Page No:352"
    },
    {
     "cell_type": "code",
     "collapsed": false,
     "input": "import math\n# given data\nD       = 2;        # Mouth diameter in m\nf       = 2;        # focal length in m\nbw3db   = 90/float(100);   # beamwidth of antenna chosen to be 90% of angle subtended by feed\n\n# Calculations\ntheta   = 4*math.atan(1/float((4*f/float(D))));    # angle subtended by the focal point feed at edges of reflector\ntheta_d = theta*180/float(math.pi);\nBeam_w_3dB = bw3db*theta_d;       # 3 dB beam width\nNNBW    = 2*(Beam_w_3dB );\n\n# Output\nprint '3 dB Beamwidth = %3.1f\u00b0'%Beam_w_3dB,' Null-to-Null beam width = %3.2f\u00b0'%(NNBW);\n\n",
     "language": "python",
     "metadata": {},
     "outputs": [
      {
       "output_type": "stream",
       "stream": "stdout",
       "text": "3 dB Beamwidth = 50.5\u00b0  Null-to-Null beam width = 101.06\u00b0\n"
      }
     ],
     "prompt_number": 17
    },
    {
     "cell_type": "heading",
     "level": 2,
     "metadata": {},
     "source": "Example 15,Page No:352"
    },
    {
     "cell_type": "code",
     "collapsed": false,
     "input": "import math\n\n# Variable DECLARATION\nf       = 3;        # focal length in m\nfpos    = 1.5;      # feed is placed 1.5m from pt of intersection os sec.reflector and antenna axis\n\n# Calculation\nf_hyp   = f-fpos;   # focal length of hyperboloid from figure;\n\n# Result\nprint'focal length of hyperboloid = %3.1f m'%f_hyp;\n\n",
     "language": "python",
     "metadata": {},
     "outputs": [
      {
       "output_type": "stream",
       "stream": "stdout",
       "text": "focal length of hyperboloid = 1.5 m\n"
      }
     ],
     "prompt_number": 21
    },
    {
     "cell_type": "heading",
     "level": 2,
     "metadata": {},
     "source": "Example 16,Page No:353"
    },
    {
     "cell_type": "code",
     "collapsed": false,
     "input": "import math\n\n# Variable Declaration\nD       = 3;        # Mouth diameter in m\n#f       = 2;      # focal length in m\nbw3db   = 63;       # 3dB beam width\nk       = 0.9;      # beam width is k times subtended angle\n\n# Calculations\ntheta   = bw3db/k;  # subtended angle\ntheta_r = theta\n#theta   = 4*atan(1/(4*f/D));\nf       = D/(4*math.tan((theta_r/4)*(math.pi/180)));\n\n# Result\nprint'Distance of feed from the point of intersection of antenna axis and the reflector surface = %3.2f m'%f;\n\n",
     "language": "python",
     "metadata": {},
     "outputs": [
      {
       "output_type": "stream",
       "stream": "stdout",
       "text": "Distance of feed from the point of intersection of antenna axis and the reflector surface = 2.38 m\n"
      }
     ],
     "prompt_number": 42
    },
    {
     "cell_type": "heading",
     "level": 2,
     "metadata": {},
     "source": "Example 17,Page No:365"
    },
    {
     "cell_type": "code",
     "collapsed": false,
     "input": "import math\n\n# Variable Declaration\nc       = 3*10**8;       # velocity of EM waves in m/s\nf       = 2.5*10**9;     # operating frequency in Ghz\nS       = 10*10**-2;     # inter element spacing\ntheta   = 10;            # steering angle \n\n# Calculations\nlamda   = c/f          # Wavelength in m\nphi     = (360*(S/lamda))*math.sin(theta*(math.pi/180))\nphi1    = 0*phi        # phase angle for element 1\nphi2    = 1*phi        # phase angle for element 2\nphi3    = 2*phi        # phase angle for element 3\nphi4    = 3*phi        # phase angle for element 4\nphi5    = 4*phi        # phase angle for element 5\n\n# Result\nprint'Phase angles for elements 1,2,3,4,5 are %d\u00b0'%phi1, '%d\u00b0'%phi2,'%d\u00b0' %phi3,'%d\u00b0' %phi4,'%d\u00b0' %phi5\n\n",
     "language": "python",
     "metadata": {},
     "outputs": [
      {
       "output_type": "stream",
       "stream": "stdout",
       "text": "Phase angles for elements 1,2,3,4,5 are 0\u00b0 52\u00b0 104\u00b0 156\u00b0 208\u00b0\n"
      }
     ],
     "prompt_number": 36
    },
    {
     "cell_type": "heading",
     "level": 2,
     "metadata": {},
     "source": "Example 18,Page No:365"
    },
    {
     "cell_type": "code",
     "collapsed": false,
     "input": "import math\n# Data is taken from Example 17. The beam steers towards left of the axis with all parameters remaining in Ex 17 are same\nc       = 3*10**8;       # velocity of EM waves in m/s\nf       = 2.5*10**9;     # operating frequency in Ghz\nS       = 10*10**-2;     # inter element spacing\ntheta   = -10;          # steering angle \n\n# Calculations\nlamda   = c/f          # Wavelength in m\nphi     = (360*S/lamda)*math.sin(theta*math.pi/180)\nphi1    = 0*phi        # phase angle for element 1\nphi2    = 1*phi        # phase angle for element 2\nphi3    = 2*phi        # phase angle for element 3\nphi4    = 3*phi        # phase angle for element 4\nphi5    = 4*phi        # phase angle for element 5\n\n# Output\nprint'Phase angles for elements 1,2,3,4,5 are %d\u00b0'%phi1, '%d\u00b0'%phi2,'%d\u00b0' %phi3,'%d\u00b0' %phi4,'%d\u00b0' %phi5\n\n\n",
     "language": "python",
     "metadata": {},
     "outputs": [
      {
       "output_type": "stream",
       "stream": "stdout",
       "text": "Phase angles for elements 1,2,3,4,5 are 0\u00b0 -52\u00b0 -104\u00b0 -156\u00b0 -208\u00b0\n"
      }
     ],
     "prompt_number": 35
    },
    {
     "cell_type": "heading",
     "level": 2,
     "metadata": {},
     "source": "Example 19,Page No:365"
    },
    {
     "cell_type": "code",
     "collapsed": false,
     "input": "import math\n# given data\nS       = 5*10**-2;      # inter spacing distance\nlamda   = 6*10**-2;      # operating wavelength in cms\nphi_Az   = 25            # angle in azimuth direction\nphi_E    = 35            # angle in Elevation direction\n\n# Calculations\ntheta_Az  = math.asin((lamda*phi_Az)/(360*S))\ntheta_E   = math.asin((lamda*phi_E)/(360*S))\nTheta_Az  = theta_Az*(180/math.pi)\nTheta_E   = theta_E*(180/math.pi)\n\n# Output\nprint'Steering angle in Azimuth = %3.1f\u00b0'%Theta_Az\nprint 'Steering angle in Elevation = %3.1f\u00b0'%Theta_E;\n\n",
     "language": "python",
     "metadata": {},
     "outputs": [
      {
       "output_type": "stream",
       "stream": "stdout",
       "text": "Steering angle in Azimuth = 4.8\u00b0\nSteering angle in Elevation = 6.7\u00b0\n"
      }
     ],
     "prompt_number": 39
    }
   ],
   "metadata": {}
  }
 ]
}