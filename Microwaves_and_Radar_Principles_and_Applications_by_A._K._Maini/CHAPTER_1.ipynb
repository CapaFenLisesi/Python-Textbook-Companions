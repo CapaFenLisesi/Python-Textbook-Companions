{
 "metadata": {
  "name": "CHAPTER 1"
 },
 "nbformat": 3,
 "nbformat_minor": 0,
 "worksheets": [
  {
   "cells": [
    {
     "cell_type": "heading",
     "level": 1,
     "metadata": {},
     "source": "Chapter 1:Introduction To Microwaves"
    },
    {
     "cell_type": "heading",
     "level": 2,
     "metadata": {},
     "source": "Example 1, Page no:6"
    },
    {
     "cell_type": "code",
     "collapsed": false,
     "input": "import math\n\n# Given data\nR   = 1.2;      #ratio of free space wavelength of a microwave signal to its wavelength when prop. through a dielectric medium\n\n# Calculations\n# lamda = lamda0/sqrt(er);\n# er    = (lamda0/lamda)**2;\n#let lamda0/lamda  = R\n\ner  = (R)**2;        # Dielectric constant of medium\n\n#Output\nprint'The Dielectric constant of medium = %3.2f'%er;\n",
     "language": "python",
     "metadata": {},
     "outputs": [
      {
       "output_type": "stream",
       "stream": "stdout",
       "text": "The Dielectric constant of medium = 1.44\n"
      }
     ],
     "prompt_number": 1
    },
    {
     "cell_type": "heading",
     "level": 2,
     "metadata": {},
     "source": "Example 2, Page no:8"
    },
    {
     "cell_type": "code",
     "collapsed": false,
     "input": "import math\n#Given data\nRmax        = 112;      # Max permissable range in Kms\nH1          = 256;      # Ht of the antenna in m\n# Calculations\n#Rmax  = 4(math.sqrt(H1) + math.sqrt(H2));\n# H2    = ((Rmax/4)-math.sqrt(H1))**2;\nH2    = ((Rmax/float(4))-math.sqrt(H1))**2;      # Ht of other antenna\n# Output\nprint'Height of other antenna = %d m'%H2;\n\n",
     "language": "python",
     "metadata": {},
     "outputs": [
      {
       "output_type": "stream",
       "stream": "stdout",
       "text": "Height of other antenna = 144 m\n"
      }
     ],
     "prompt_number": 1
    }
   ],
   "metadata": {}
  }
 ]
}