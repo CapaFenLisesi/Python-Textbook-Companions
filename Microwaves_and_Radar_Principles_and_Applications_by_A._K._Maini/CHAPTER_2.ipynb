{
 "metadata": {
  "name": "CHAPTER 2"
 },
 "nbformat": 3,
 "nbformat_minor": 0,
 "worksheets": [
  {
   "cells": [
    {
     "cell_type": "heading",
     "level": 1,
     "metadata": {},
     "source": "    Chapter 2: Maxwell's Equations"
    },
    {
     "cell_type": "heading",
     "level": 2,
     "metadata": {},
     "source": "Example 1,Page No:33"
    },
    {
     "cell_type": "code",
     "collapsed": false,
     "input": "import math\n\n# Variable Declaration\n# \u00b5r1 = 3;     # relative permeability of region 1\n# \u00b5r2 = 5;     # relative permeability of region 2\n#  H1 = (4ax + 3ay -6az)A/m;   Magnetic field intensity\n# Therefore B1 = \u00b5o\u00b5r1H1\n#              = \u00b5o(12ax + 9ay -18az)A/m\n# since normal component of (B) is continuous across the interface\n# Therefore, B2 = \u00b5o[12ax + 9(\u00b5r2/\u00b5r1)ay -18(\u00b5r2/\u00b5r1)az]\n#               = \u00b5o[12ax + 15ay - 30az]\n#            H2 = [12/5ax + 15/5ay - 30/5az]A/m\n#            H2 = (2.4ax + 3ay - 6az)\nH2      = math.sqrt((2.4**2) + (3**2) + (6**2));\n\n# output\nprint'Magnetic field intensity in region- 2 = %3.3f A/m'%H2;\n\n",
     "language": "python",
     "metadata": {},
     "outputs": [
      {
       "output_type": "stream",
       "stream": "stdout",
       "text": "Magnetic field intensity in region- 2 = 7.125 A/m\n"
      }
     ],
     "prompt_number": 1
    },
    {
     "cell_type": "heading",
     "level": 2,
     "metadata": {},
     "source": "    Example 10, Page No:40"
    },
    {
     "cell_type": "code",
     "collapsed": false,
     "input": "import math\n\n# Variable Declaration\n# D  = 3*10**-7 sin(6*10**7 - 0.35x)az\ner = 100;       # relative permitivity\n\n# Calculations\n# \u2202D/\u2202t =  3*10**-7 * 6*10**7* cos(6*10**7 - 0.35x)az\nA =  3*10**-7 * 6*10**7\n\n#output\nprint'Amplitude of displacement current density = %d A/m**2'%A;\n\n",
     "language": "python",
     "metadata": {},
     "outputs": [
      {
       "output_type": "stream",
       "stream": "stdout",
       "text": "Amplitude of displacement current density = 18 A/m**2\n"
      }
     ],
     "prompt_number": 17
    },
    {
     "cell_type": "heading",
     "level": 2,
     "metadata": {},
     "source": "    Example 13,Page No:42"
    },
    {
     "cell_type": "code",
     "collapsed": false,
     "input": "import math;\n\n# Variable Declaration\n\n#E = 20\u03c0 e**j(wt - \u03b2z)ax\n#H = Hm e**j(wt + \u03b2z)ay\nlamda = 1.8;         # wavelength in m\nc     = 3*10**8;     # vel. in m/s\ner    = 49;          # relative permitivity\nur    = 1;           # relative permeability\nEm    = 20*math.pi      # from the given expression\n\n# Calculations\nv     = c/float(math.sqrt(er));    # velocity of propagation of wave in medium with er rel.permitivity\nw     = (2*math.pi*v)/float(lamda);\n# let k = E/H\nk = (120*math.pi)*math.sqrt(ur/float(er));\nHm = Em/float(k);\n# sign of Hm can be determined by evaluating the maxwells eqn\n# V*E = \u2202B/\u2202x \n# V*E = -j20\u03c0 e**j(wt - \u03b2z)ay              ---------------- 1\n# -\u2202B/\u2202x = -juow Hm e**j(wt + \u03b2z)ay        ---------------- 2\n# comparing 1 and 2 singn of Hm must be positive\n\n# Output\nprint'w = %3.1e rad/s\\n'%w;\nprint'Hm = %3.2f A/m'%Hm;\n\n",
     "language": "python",
     "metadata": {},
     "outputs": [
      {
       "output_type": "stream",
       "stream": "stdout",
       "text": "w = 1.5e+08 rad/s\n\nHm = 1.17 A/m\n"
      }
     ],
     "prompt_number": 4
    },
    {
     "cell_type": "heading",
     "level": 2,
     "metadata": {},
     "source": "Example 14,Page No:42"
    },
    {
     "cell_type": "code",
     "collapsed": false,
     "input": "import math\n# given data\nf       = 1000;     # frequency in Hz\nsigma   = 5*10**7;   # conductivity in mho/m\ner      = 1;        # relative permitivity \neo      = 8.85*10**-12;  # permitivity\n#J     = 10**8sin(wt-444z)ax A/float(m**2)\n\n# Calculations\nw       = 2*math.pi*f\n# J  = \u03c3E\n# E  = 10^8sin(wt-444z)ax/sigma\n# E  = 0.2sin(6280t-444z)ax\n# D  = eoerE\n# D  = 8.85*10**-12*0.2sin(6280t-444z)ax\n# \u2202D/\u2202t = 1.77*1088-12*6280cos(6280t - 444z)ax\nA     =  1.77*10**-12*6280\n#output\nprint'Amplitude of displacement current density = %3.2e A/m^2'%A;\nprint'\\nNote: calculation mistake in textbook';\n\n",
     "language": "python",
     "metadata": {},
     "outputs": [
      {
       "output_type": "stream",
       "stream": "stdout",
       "text": "Amplitude of displacement current density = 1.11e-08 A/m^2\n\nNote: calculation mistake in textbook\n"
      }
     ],
     "prompt_number": 8
    }
   ],
   "metadata": {}
  }
 ]
}