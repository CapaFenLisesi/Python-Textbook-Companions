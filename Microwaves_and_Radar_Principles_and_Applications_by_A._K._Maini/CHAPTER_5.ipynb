{
 "metadata": {
  "name": "CHAPTER 5"
 },
 "nbformat": 3,
 "nbformat_minor": 0,
 "worksheets": [
  {
   "cells": [
    {
     "cell_type": "heading",
     "level": 1,
     "metadata": {},
     "source": "Chapter 5:Microwave Tubes"
    },
    {
     "cell_type": "heading",
     "level": 2,
     "metadata": {},
     "source": "Example 1,Page No:226"
    },
    {
     "cell_type": "code",
     "collapsed": false,
     "input": "import math\n\n# Variable Declaration\nF     =  100*10**9;   #reflex klystron operating frequency\nn     =  3;         #integer corresponding to mode\n\n#Calculations\nT_c   =  (n+(3/float(4)))   #transit time in cycles\nT     =  T_c/float(F);      #transit time in seconds\n\n# Result\nprint'Transit Time of the electron in the repeller space is %3.1f ps'%(T/float(10**-12));\n\n\n",
     "language": "python",
     "metadata": {},
     "outputs": [
      {
       "output_type": "stream",
       "stream": "stdout",
       "text": "Transit Time of the electron in the repeller space is 37.5 ps\n"
      }
     ],
     "prompt_number": 4
    },
    {
     "cell_type": "heading",
     "level": 2,
     "metadata": {},
     "source": "Example 2,Page No:227"
    },
    {
     "cell_type": "code",
     "collapsed": false,
     "input": "import math\n\n# Variable Declaration\nF     =  2*10**9;#reflex klystron operating frequency\nVr    =  2000;#Repeller voltage\nVa    =  500;#Accelarating voltage\nn     =  1;#integer corresponding to mode\ne     =  1.6*10**-19;#charge of electron\nm     =  9.1*10**-31;#mass of electron in kg\ns     =  2*10**-2;#space b/w exit of gap and repeller electrode\ndVr1  = 2;    #(change in Vr in percentage\n\n#Calculations\ndVr   = dVr1*Vr/100;     #conversion from percentage to decimal\n#dVr/df = ((2*math.pi*s)/((2*math.pi*n)-pi/2))*sqrt(8*m*Va/e));\n#let df = dVr/((2*math.pi*s)/((2*math.pi*n)-pi/2))*sqrt(8*m*Va/e));\n\ndf       =  (dVr)/((2*math.pi*s)/((2*math.pi*n)-(math.pi/2))*math.sqrt(8*m*Va/e)); #change in freq as a fun of repeller voltage\n\n\n# Result\nprint'Change in frequency is %3.0f MHz'%(df/float(10**6));\n\n\n",
     "language": "python",
     "metadata": {},
     "outputs": [
      {
       "output_type": "stream",
       "stream": "stdout",
       "text": "Change in frequency is  10 MHz\n"
      }
     ],
     "prompt_number": 5
    },
    {
     "cell_type": "heading",
     "level": 2,
     "metadata": {},
     "source": "Example 3,Page No:228"
    },
    {
     "cell_type": "code",
     "collapsed": false,
     "input": "import math\n\n# Variable Declaration\n# let l   = dVr/Vr ; f  = df/f ; Vr/f  = R\nl     = 5;#percentage change in repeller voltage\nf     = 1;#percentage change in operating frequency\nR     = 1;#ratio of repeller voltage to operating frequency\nNR    = 1.5;#new ratio of repeller voltage to operating frequency in volts/MHz\ne     =  1.6*10**-19;#charge of electron\nm     =  9.1*10**-31;#mass of electron in kg\n\n# Calculations\n\n#dVr/df = ((2*math.pi*s)/((2*math.pi*n)-pi/2))*math.sqrt(8*m*Va/e));\n#((df/f)/(dVr/Vr)) = (Vr/f)*((2*math.pi*n)-pi/2)/(2*math.pi*s)*math.sqrt(e/(8*m*Va));\n#((df/f)/(dVr/Vr)) = K*(Vr/f);\n#where K = (((2*math.pi*n)-math.pi/2)/float((2*math.pi*s))*math.sqrt(e/float((8*m*Va)))\nK    = (f/float(l))*(1/float(R));\nPCF  = NR*K*l; #percentage change in frequency when new ratio (Vr/f)=1.5;\n\n# Result\nprint'Percentage Change in frequency is %3.2f percent'%PCF;\n\n\n",
     "language": "python",
     "metadata": {},
     "outputs": [
      {
       "output_type": "stream",
       "stream": "stdout",
       "text": "Percentage Change in frequency is 1.50 percent\n"
      }
     ],
     "prompt_number": 1
    },
    {
     "cell_type": "heading",
     "level": 2,
     "metadata": {},
     "source": "Example 4,Page No:228"
    },
    {
     "cell_type": "code",
     "collapsed": false,
     "input": "import math\n\n# Variable Declaration\nVa    = 40*10**3;      # Anode voltage of cross field amplifier\nIa    = 15;            # Anode current in Amp\nPin   = 40*10**3;      # input power in watts\nG     = 10;            # gain in dB\nn     = float(40)/100;        # overall efficiency converted from percentage to decimal\n\n\n# Calculations\nGain  = (1+(float(Pgen)/Pin))\nPgen  = (G-1)*Pin      # Generated power\nne    = (Pgen/float(Va*Ia)) # electronic efficiency \nnc    = n/(ne)         # circuit efficiency \nPout  = Pin+(Pgen*nc)  # output power\n\n# Result\nprint 'Electronic Efficiency is %3.2f' %ne\nprint 'Output power is %g KW' %(Pout/float(1000));",
     "language": "python",
     "metadata": {},
     "outputs": [
      {
       "output_type": "stream",
       "stream": "stdout",
       "text": "Electronic Efficiency is 0.60\nOutput power is 280 KW\n"
      }
     ],
     "prompt_number": 13
    },
    {
     "cell_type": "heading",
     "level": 2,
     "metadata": {},
     "source": "Example 5,Page No:229"
    },
    {
     "cell_type": "code",
     "collapsed": false,
     "input": "import math\n\n# Variable Declaration\nF     =  1*10**9;  #two cavity klystron operating frequency\nVa    =  2500;     #Accelarating voltage in volts\ne     =  1.6*10**-19;  #charge of electron\nm     =  9.1*10**-31;   #mass of electron in kg\ns     =  0.1*10**-2;    #input cavity space\n\n#Calculations\n\nu     = math.sqrt((2*e*Va)/m);   #velocity at which electron beam enters the gap\nT     = s/u ;  #Time spent in the gap\nf     = T*F;   #number of cycles\n\n# result\nprint'Number of cycles that elase during transit of beam through input gap is %3.3f cycle'%f;\n\n\n",
     "language": "python",
     "metadata": {},
     "outputs": [
      {
       "output_type": "stream",
       "stream": "stdout",
       "text": "Number of cycles that elase during transit of beam through input gap is 0.034 cycle\n"
      }
     ],
     "prompt_number": 14
    },
    {
     "cell_type": "heading",
     "level": 2,
     "metadata": {},
     "source": "Example 6,Page No:230"
    },
    {
     "cell_type": "code",
     "collapsed": false,
     "input": "import math\n# Given Data\nN     = 8;   #no. of resonators\n\n#Calculations\nprint'\u03d5  = (2*\u03c0*n)/N \\n';  #phase difference\nprint'\u03d5   = (n*\u03c0)/4\\n';   #phase difference\nK   = N/2;                     #useful no. of nodes\n# Most dominant mode is the one for which phase differnce b/w adjacent resonators is \u03c0 radians\n# Therefore (n*\u03c0)/4 = \u03c0\nn = 4\n\n\n# Output\nprint'Number of possible modes of Resonance is %d\\n'%N;\nprint'Number of useful modes of Resonance is %d\\n'%K;\nprint'value of integer n for the most dominant mode is %d'%n;\n\n\n",
     "language": "python",
     "metadata": {},
     "outputs": [
      {
       "output_type": "stream",
       "stream": "stdout",
       "text": "\u03d5  = (2*\u03c0*n)/N \n\n\u03d5   = (n*\u03c0)/4\n\nNumber of possible modes of Resonance is 8\n\nNumber of useful modes of Resonance is 4\n\nvalue of integer n for the most dominant mode is 4\n"
      }
     ],
     "prompt_number": 15
    },
    {
     "cell_type": "heading",
     "level": 2,
     "metadata": {},
     "source": "Example 7,Page No:230"
    },
    {
     "cell_type": "code",
     "collapsed": false,
     "input": "import math\n\n# Variable Declaration\nVa    =  1200;  #Anode potential\nF     =  10*10**9;  #Operating frequency in Hz \nS     =  5*10**-2;  #spacing b/w 2 cavities\nGS    = 1*10**-3;   #gap spacing in either cavity\ne     =  1.6*10**-19;  #charge of electron\nm     =  9.1*10**-31;  #mass of electron in kg\n\n# Calculations\n# Condition of maximum output is (V1/Vo)max  =  (3.68)/((2*pi*n)-(pi/2);\n# (2*pi*n)-(pi/2) = Transit angle b/w two cavities\n# V1  = Peak amplitude of RF i/p\n# Vo  = accelarating potential\n\nVo    = math.sqrt(2*e*Va/m);  #velocity of the electrons \nT     = S/Vo;            #Transit time b/w the cavities\nTA    = 2*math.pi*F*T;      #transit angle in radians\nV1    = (3.68*Va)/TA;\n\n# Result\nprint'Required Peak Amplitude of i/p RF signal is %3.2f volts'%V1;\n\n",
     "language": "python",
     "metadata": {},
     "outputs": [
      {
       "output_type": "stream",
       "stream": "stdout",
       "text": "Required Peak Amplitude of i/p RF signal is 28.88 volts\n"
      }
     ],
     "prompt_number": 16
    },
    {
     "cell_type": "heading",
     "level": 2,
     "metadata": {},
     "source": "Example 8,Page No:231"
    },
    {
     "cell_type": "code",
     "collapsed": false,
     "input": "import math\n# Given Data\nR       = 10;            # circumference to pitch ratio\ne       = 1.6*10**-19;   # charge of electron\nm       = 9.1*10**-31;   # mass of electron in Kg\nc       = 3*10**8;       # vel. of EM waves in m/s\n\n# Calculations\nVp      = c/float(R);           # axial phase velocity = free space vel*(pitch/circumference) \nVa      = (Vp**2 * m)/float((2*e));\n\n# Output\nprint'Anode Voltage = %3.2f kV' %(Va/float(1000));\nprint'In practice,the electron beam velocity is kept slightly greater than the axial phase velocity of RF signal';\n\n",
     "language": "python",
     "metadata": {},
     "outputs": [
      {
       "output_type": "stream",
       "stream": "stdout",
       "text": "Anode Voltage = 2.56 kV\nIn practice,the electron beam velocity is kept slightly greater than the axial phase velocity of RF signal\n"
      }
     ],
     "prompt_number": 17
    }
   ],
   "metadata": {}
  }
 ]
}