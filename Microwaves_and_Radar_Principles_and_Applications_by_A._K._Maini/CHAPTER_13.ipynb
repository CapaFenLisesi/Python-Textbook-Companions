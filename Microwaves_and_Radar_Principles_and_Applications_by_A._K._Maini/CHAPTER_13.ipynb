{
 "metadata": {
  "name": "CHAPTER 13"
 },
 "nbformat": 3,
 "nbformat_minor": 0,
 "worksheets": [
  {
   "cells": [
    {
     "cell_type": "heading",
     "level": 1,
     "metadata": {},
     "source": "Chapter 13:Microwave Communication Link Basic Design Considerations "
    },
    {
     "cell_type": "heading",
     "level": 2,
     "metadata": {},
     "source": "Example 1,Page No:670"
    },
    {
     "cell_type": "code",
     "collapsed": false,
     "input": "import math\n\n# Variable Declaration\nf       = 6;            # microwave terrestrial comm link oper. freq in Ghz\nD       = 50;           # single hop path length in miles\n# mid way of path length\nD1      = 25;\nD2      = 25;\nN       = 3;            # N value for third fresnal zone\n\n# calculations\nF1      = 72.2*((D1*D2)/float((D*f)))**0.5;     # first fresnel zone\nF3      = F1*math.sqrt(N);                    # Third fresnal zone\n\n# Result\nprint'First Fresnel zone distance = %3.1f feet\\n'%F1,'Third Fresnel zone distance = %3.1f feet\\n'%F3;\n\n",
     "language": "python",
     "metadata": {},
     "outputs": [
      {
       "output_type": "stream",
       "stream": "stdout",
       "text": "First Fresnel zone distance = 104.2 feet\nThird Fresnel zone distance = 180.5 feet\n\n"
      }
     ],
     "prompt_number": 1
    },
    {
     "cell_type": "heading",
     "level": 2,
     "metadata": {},
     "source": "Example 2,Page No:670"
    },
    {
     "cell_type": "code",
     "collapsed": false,
     "input": "import math\n\n# Variable Declaration\nf       = 4.5;          # microwave terrestrial comm link oper. freq in Ghz\nD       = 40;           # single hop path length in miles\nhant    = 200;          # antenna ht. above surface of earth\n# from fig\nD1      = 5;\nD2      = 35;\nK       = 1;            # for normal case\n\n# calculations\nF1      = 72.2*((D1*D2)/float((D*f)))**0.5;     # first fresnel zone\n# computing curvature 'h' of earth at a distance of 10 miles from Transmitter if given by (D1*D2)/(1.5*K)\nh       = (D1*D2)/float((1.5*K));             # curvature of earth in feet\nPLabove = hant - h;                    # path line is PLabove feet above surface of earth\nhmaxtol = PLabove - F1;                # max tolerable height in feet\n\n# Result\nprint'Maximum tolerable height of obstacle above surface of earth = %3.2f feet'%hmaxtol;\n\n",
     "language": "python",
     "metadata": {},
     "outputs": [
      {
       "output_type": "stream",
       "stream": "stdout",
       "text": "Maximum tolerable height of obstacle above surface of earth = 12.14 feet\n"
      }
     ],
     "prompt_number": 2
    },
    {
     "cell_type": "heading",
     "level": 2,
     "metadata": {},
     "source": "Example 3,Page No:671"
    },
    {
     "cell_type": "code",
     "collapsed": false,
     "input": "import math\n\n# Variable Declaration\nf       = 4.5;          # microwave terrestrial comm link oper. freq in Ghz\nD       = 40;           # single hop path length in miles\nhant    = 200;          # antenna ht. above surface of earth\n# from fig\nD1      = 5;\nD2      = 35;\nK       = 2/float(3);            # K-factor\n\n# calculations\nF1      = 72.2*((D1*D2)/float((D*f)))**0.5;     # first fresnel zone\n# computing curvature 'h' of earth at a distance of 10 miles from Transmitter if given by (D1*D2)/(1.5*K)\nh       = (D1*D2)/float((1.5*K));             # curvature of earth in feet\nPLabove = hant - h;                    # path line is PLabove feet above surface of earth\nif PLabove < F1:\n    print'Available clearance above the surface of earth = %d feet'%PLabove,'\\nRequired first fresnal zone clearance = %3.1f feet'%F1,'So it would be obstructed';\n\n\n",
     "language": "python",
     "metadata": {},
     "outputs": [
      {
       "output_type": "stream",
       "stream": "stdout",
       "text": "Available clearance above the surface of earth = 25 feet \nRequired first fresnal zone clearance = 71.2 feet So it would be obstructed\n"
      }
     ],
     "prompt_number": 5
    },
    {
     "cell_type": "heading",
     "level": 2,
     "metadata": {},
     "source": "Example 4,Page No:671"
    },
    {
     "cell_type": "code",
     "collapsed": false,
     "input": "import math\n\n# Variable Declaration\nUF      = 2*10**-4;      # unavailability factor\n\n# Calculations\noutrage_t = UF*8760;    # outrage time in hours per year\n\n# Result\nprint'Outrage time = %3.3f hours per year'%outrage_t;\n\n",
     "language": "python",
     "metadata": {},
     "outputs": [
      {
       "output_type": "stream",
       "stream": "stdout",
       "text": "Outrage time = 1.752 hours per year\n"
      }
     ],
     "prompt_number": 6
    },
    {
     "cell_type": "heading",
     "level": 2,
     "metadata": {},
     "source": "Example 5,Page No:671"
    },
    {
     "cell_type": "code",
     "collapsed": false,
     "input": "import math\n\n# variable Declaration\nPL      = 50;       # path length in miles from fig\nFM      = 40;       # fade margin in dB\nP_fm_ex = 7*10**-5;  # prob. of fade margin getting exceeding\nP_fm_ex_50db    = 6*10**-6;  # prob. of fade margin getting exceeding for fade margin 50dB\np_fig_30m_40db  = 2*10**-5;  # prob fig for patl length of 30miles and fade margin 40dB \n\n# Calculations\nimpr_prob_a = P_fm_ex/float(P_fm_ex_50db);    # improvement in prob. of fade margin for a\nimpr_prob_b = P_fm_ex/float(p_fig_30m_40db);   # improvement in prob. of fade margin for b\n\n# Result\nprint'(a):\\n Improvement in probability of fade margin = %3.1f\\n'%impr_prob_a,'(b):\\n Improvement in probability of fade margin = %3.1f\\n'%impr_prob_b;\n\n",
     "language": "python",
     "metadata": {},
     "outputs": [
      {
       "output_type": "stream",
       "stream": "stdout",
       "text": "(a):\n Improvement in probability of fade margin = 11.7\n(b):\n Improvement in probability of fade margin = 3.5\n\n"
      }
     ],
     "prompt_number": 7
    },
    {
     "cell_type": "heading",
     "level": 2,
     "metadata": {},
     "source": "Example 6,Page No:672"
    },
    {
     "cell_type": "code",
     "collapsed": false,
     "input": "import math\n# Given data\nUF_sh   = 0.01;     # unavail. factor for single hop\nIF_SD   = 100;      # improvement factor due to space diversity\n\n# Calculations\nUF_4hl  = 4* UF_sh/float(100);     # unavail. factor for 4 hop link and conv from %\nUF      = UF_sh/float((100*IF_SD)); # unavail. factor for single hop link if it employs space diversity\n\n# Output\nprint'unavail. factor for 4 hop link = %3.4f\\n'%UF_4hl,'unavail. factor for single hop link if it employs space diversity = %3.0e'%UF;\n\n",
     "language": "python",
     "metadata": {},
     "outputs": [
      {
       "output_type": "stream",
       "stream": "stdout",
       "text": "unavail. factor for 4 hop link = 0.0004\nunavail. factor for single hop link if it employs space diversity = 1e-06\n"
      }
     ],
     "prompt_number": 8
    },
    {
     "cell_type": "heading",
     "level": 2,
     "metadata": {},
     "source": "Example 7,Page No:672"
    },
    {
     "cell_type": "code",
     "collapsed": false,
     "input": "import math\n\n# Variable Declaration\nf       = 3.5;              # operating freq. of microwave link in Ghz\nD       = 30;               # single hop path length in miles\na       = 1;                # roughness\nb       = 0.5;              # humid climate\nF       = 40;               # fade margin in dB\n\n# Calculations\nU       = a*b*2.5*10**-6 *f*D**3 *10**(-F/10);  # unavailability factor \nU1      = U*525600;                             # unavailabilty factor in minutes per year\nU4      = U1*4;      # unavailabilty factor for 4-hop link\n\n# Result\nprint'Outage Time = %3.1f minutes per year'%U4;\n\n",
     "language": "python",
     "metadata": {},
     "outputs": [
      {
       "output_type": "stream",
       "stream": "stdout",
       "text": "Outage Time = 24.8 minutes per year\n"
      }
     ],
     "prompt_number": 9
    },
    {
     "cell_type": "heading",
     "level": 2,
     "metadata": {},
     "source": "Example 8,Page No:673"
    },
    {
     "cell_type": "code",
     "collapsed": false,
     "input": "import math\n# Given data\n# D2 = 2*D1            # path length is doubled\n# F2 = F1+10;          # fade margin is increased by 10dB\n# f2 = 1.25f1          # frequency operation increased by 25 %\n\n#(U1/U2)  = (f1* D1**3 * 10**(-F1/10))/ (f1* D1**3 * 10**(-F1/10))\n# sub above values\n#(U1/U2)  = (f1* D1**3 * 10**(-F1/10)) / (1.25*f1*8*D1**3*10**(-F1/10)*10**-1) = 1\nprint'Unavailability Factor remains unaltered';\n\n",
     "language": "python",
     "metadata": {},
     "outputs": [
      {
       "output_type": "stream",
       "stream": "stdout",
       "text": "Unavailability Factor remains unaltered\n"
      }
     ],
     "prompt_number": 8
    },
    {
     "cell_type": "heading",
     "level": 2,
     "metadata": {},
     "source": "Example 9,Page No:673"
    },
    {
     "cell_type": "code",
     "collapsed": false,
     "input": "import math\n# given data\nprint'The improvement factor is proportional to square of antenna spacing.Therefore,it will increase by a factor of 4\\nConsequently,the unavailability factor and hence the outrage time will also reduce by a factor of 4';\n\n",
     "language": "python",
     "metadata": {},
     "outputs": [
      {
       "output_type": "stream",
       "stream": "stdout",
       "text": "The improvement factor is proportional to square of antenna spacing.Therefore,it will increase by a factor of 4\nConsequently,the unavailability factor and hence the outrage time will also reduce by a factor of 4\n"
      }
     ],
     "prompt_number": 10
    },
    {
     "cell_type": "heading",
     "level": 2,
     "metadata": {},
     "source": "Example 10,Page No:677"
    },
    {
     "cell_type": "code",
     "collapsed": false,
     "input": "import math\n# Given data\nDFM     = 40;       # dispersive fade margin\nFFM     = 30;       # flat fade margin\n\n# Calculations\nCFM     = -10*math.log10(10**(-FFM/float(10)) + 10**(-DFM/float(10)));\n\n# Output\nprint'Composite Fade Margin = %3.2f dB\\n'%CFM;\nprint'minus sign is wrongly printed in Textbook';\n\n",
     "language": "python",
     "metadata": {},
     "outputs": [
      {
       "output_type": "stream",
       "stream": "stdout",
       "text": "Composite Fade Margin = 29.59 dB\n\nminus sign is wrongly printed in Textbook\n"
      }
     ],
     "prompt_number": 11
    },
    {
     "cell_type": "heading",
     "level": 2,
     "metadata": {},
     "source": "Example 11,Page No:677"
    },
    {
     "cell_type": "code",
     "collapsed": false,
     "input": "import math\n\n# Variable Declaration\nDFM1    = 50;       # dispersive fade margin\nFFM     = 30;       # flat fade margin\nDFM2    = 40;       # dispersive fade margin\n\n# Calculations\nCFM1    = -10*math.log10(10**(-FFM/float(10)) + 10**(-DFM1/float(10)));\nCFM2    = -10*math.log10(10**(-FFM/float(10)) + 10**(-DFM2/float(10)));\nd_CFM   = CFM1 -CFM2;\n\n# Result\nprint'CFM increases by %3.2f dB for a 10 dB increase in DFM which is very Marginal'%d_CFM;\n\n",
     "language": "python",
     "metadata": {},
     "outputs": [
      {
       "output_type": "stream",
       "stream": "stdout",
       "text": "CFM increases by 0.37 dB for a 10 dB increase in DFM which is very Marginal\n"
      }
     ],
     "prompt_number": 12
    },
    {
     "cell_type": "heading",
     "level": 2,
     "metadata": {},
     "source": "Example 12,Page No:677"
    },
    {
     "cell_type": "code",
     "collapsed": false,
     "input": "import math\n\n# Variable Declaration\nf       = 23;               # operating freq. of microwave link in Ghz\nD       = 10;               # single hop path length in miles\na       = 1;                # topographic factor\nb       = 0.5;              # climatic factor\nDFM     = 40;               # dispersive fade margin\nFFM     = 30;               # flat fade margin\n\n# Calculations\nCFM     = -10*math.log10(10**(-FFM/float(10)) + 10**(-DFM/float(10)));  # composite fade margin\nU       = a*b*2.5*10**-6 *f*D**3 *10**(-CFM/float(10));     # unavailability factor \nU1      = U*525600;                               # outrage time in min per year\n\n# Result\nprint'Outrage time = %3.2f minutes per year'%U1;\n\n",
     "language": "python",
     "metadata": {},
     "outputs": [
      {
       "output_type": "stream",
       "stream": "stdout",
       "text": "Outrage time = 16.62 minutes per year\n"
      }
     ],
     "prompt_number": 11
    },
    {
     "cell_type": "heading",
     "level": 2,
     "metadata": {},
     "source": "Example 13,Page No:682"
    },
    {
     "cell_type": "code",
     "collapsed": false,
     "input": "import math\n\n# Variable Declaration\nMTBF2    = 20000;       # microwave Tx output MTBF figure  \nMTBF3    = 60000;       # power amplifier portion of MTBF\n\n# Calculations\nMTBF1    = (MTBF2*MTBF3)/float((MTBF3-MTBF2)); \nimpr     = MTBF1-MTBF2      # improvement in MTBF if power amplifier not used\n\n# Result\nprint'Improvement in MTBF of transmitter if power amplifier is not used = %d hours'%impr;\n\n",
     "language": "python",
     "metadata": {},
     "outputs": [
      {
       "output_type": "stream",
       "stream": "stdout",
       "text": "Improvement in MTBF of transmitter if power amplifier is not used = 10000 hours\n"
      }
     ],
     "prompt_number": 13
    }
   ],
   "metadata": {}
  }
 ]
}