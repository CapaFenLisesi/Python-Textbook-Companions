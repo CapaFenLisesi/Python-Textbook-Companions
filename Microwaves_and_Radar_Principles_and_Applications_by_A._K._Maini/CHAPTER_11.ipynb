{
 "metadata": {
  "name": "CHAPTER 11"
 },
 "nbformat": 3,
 "nbformat_minor": 0,
 "worksheets": [
  {
   "cells": [
    {
     "cell_type": "heading",
     "level": 1,
     "metadata": {},
     "source": "Chapter 11:Satellites And Satellite Communication "
    },
    {
     "cell_type": "heading",
     "level": 2,
     "metadata": {},
     "source": "Example 1,Page No:567"
    },
    {
     "cell_type": "code",
     "collapsed": false,
     "input": "import math\n\n# Variable Declaration\nh       = 150;              # height of satellite from earth in km\nG       = 6.67*10**-11;      # Gravitational constant\nM       = 5.98*10**24;       # mass of the earth in kg\nRe      = 6370;             # radius of earth in km\n\n# Calculations\nu       = G*M\nV       = math.sqrt(u/float(((Re + h)*10**3))) # orbital velocity\nV1      = V/float(1000);                       # orbital velocity in km/s\n\n# Result\nprint'Orbital velocity = %3.3f km/s'%V1;\n\n",
     "language": "python",
     "metadata": {},
     "outputs": [
      {
       "output_type": "stream",
       "stream": "stdout",
       "text": "Orbital velocity = 7.821 km/s\n"
      }
     ],
     "prompt_number": 1
    },
    {
     "cell_type": "heading",
     "level": 2,
     "metadata": {},
     "source": "Example 2,Page No:568"
    },
    {
     "cell_type": "code",
     "collapsed": false,
     "input": "import math\n\n# Variable Declaration\nAp_Pe_diff  = 30000;        # difference between apogee and perigee in Km\na           = 16000;        # semi major axis of orbit\n\n# Calculations\ne           =  Ap_Pe_diff/float((2*a));    # Eccentricity\n\n# Result\nprint'Eccentricity = %3.2f'%e;\n\n",
     "language": "python",
     "metadata": {},
     "outputs": [
      {
       "output_type": "stream",
       "stream": "stdout",
       "text": "Eccentricity = 0.94\n"
      }
     ],
     "prompt_number": 1
    },
    {
     "cell_type": "heading",
     "level": 2,
     "metadata": {},
     "source": "Example 3,Page No:568"
    },
    {
     "cell_type": "code",
     "collapsed": false,
     "input": "import math\n\n# Variable Declaration\na1      = 18000;            # semi major axis of the elliptical orbits of satellite 1\na2      = 24000;            # semi major axis of the elliptical orbits of satellite 2\n\n# Calculations\n# T    = 2*math.pi*math.sqrt(a**3/float(u));\n#let K = T2/float(T1);\nK       = (a2/float(a1))**(3/float(2));    # Ratio of orbital periods\n\n# Result\nprint'The orbital period of satellite-2 is %3.2f times the orbital period of satellite-1'%K;\n\n",
     "language": "python",
     "metadata": {},
     "outputs": [
      {
       "output_type": "stream",
       "stream": "stdout",
       "text": "The orbital period of satellite-2 is 1.54 times the orbital period of satellite-1\n"
      }
     ],
     "prompt_number": 2
    },
    {
     "cell_type": "heading",
     "level": 2,
     "metadata": {},
     "source": "Example 4,Page No:569"
    },
    {
     "cell_type": "code",
     "collapsed": false,
     "input": "import math\n\n# Variable Declaration\nh       = 35800;            # height of satellite orbit from earth in km\nG       = 6.67*10**-11;      # Gravitational constant\nM       = 5.98*10**24;       # mass of the earth in kg\nRe      = 6364;             # radius of earth in km\ni       = 2;                # inclination angle\n\n# Calculations\nu       = G*M\nr       = Re+h;\nVi      = (math.sqrt(u/float(r*10**3)))*math.tan((i*math.pi)/float(180));     # magnitude of velocity impulse\nV       = Vi                                # magnitude of velocity impulse in m/s\n\n# Result\nprint'Magnitude of velocity impulse = %d m/s'%V;\n\n",
     "language": "python",
     "metadata": {},
     "outputs": [
      {
       "output_type": "stream",
       "stream": "stdout",
       "text": "Magnitude of velocity impulse = 107 m/s\n"
      }
     ],
     "prompt_number": 6
    },
    {
     "cell_type": "heading",
     "level": 2,
     "metadata": {},
     "source": "Example 5,Page No:571"
    },
    {
     "cell_type": "code",
     "collapsed": false,
     "input": "import math\n\n# Variable Declaration\nh       = 13622;        # ht of circular orbit from earth's surface\nRe      = 6378;         # Radius of earth in km\n\n# Calculations\nR       = Re+h;         # Radius of circular orbit\npimax   = 180 - (2*math.acos(Re/float(R)))*(180/float(math.pi));   # Maximum shadow angle\neclipmax_time = (pimax/float(360))*24;             # maximum daily eclipse duration\n\n# Result\nprint'maximum shadow angle = %3.1f\u00b0\\n'%pimax,'Maximum daily eclipse duration = %3.2fhours'%eclipmax_time;\n\n",
     "language": "python",
     "metadata": {},
     "outputs": [
      {
       "output_type": "stream",
       "stream": "stdout",
       "text": "maximum shadow angle = 37.2\u00b0\nMaximum daily eclipse duration = 2.48hours\n"
      }
     ],
     "prompt_number": 7
    },
    {
     "cell_type": "heading",
     "level": 2,
     "metadata": {},
     "source": "Example 6,Page No:572"
    },
    {
     "cell_type": "code",
     "collapsed": false,
     "input": "import math\n# Given data\nh       = 35786;        # ht of geo.stationary orbit above earth surface\nT       = 365;          # time in days\nr       = 6378          # radius of earth in km\n\n# ie(t) = 23.4*sin(2*%pi*t/T)\n# for a circular orbit of 20000 km radius ,phi = 37.4\u00b0 ,Therefore, the time from first day of eclipse to equinox is given by substituting ie(t) = 37.4/2 = 18.7\u00b0\nphi     = 37.4\nie      = (phi/2)*(math.pi/180)\nk       = 23.4*(math.pi/180)\nt       = (365/(2*math.pi))*math.asin((ie/k)) \n# for geostationary orbit\nphimax  = 180 - 2*(math.acos(r/(r+h)))*(180/math.pi)\nt_geo   = (365/(2*math.pi))*math.asin((8.7*math.pi/180)/k)\n\n# Output\nprint'Total time from first day of eclipse to last day of eclipse = %3.1f days'%t\nprint '\\nTotal time from first day of eclipse to last day of eclipse for geostationary orbit = %3.2f days'%t_geo\n\n",
     "language": "python",
     "metadata": {},
     "outputs": [
      {
       "output_type": "stream",
       "stream": "stdout",
       "text": "Total time from first day of eclipse to last day of eclipse = 53.8 days\n\nTotal time from first day of eclipse to last day of eclipse for geostationary orbit = 22.13 days\n"
      }
     ],
     "prompt_number": 13
    },
    {
     "cell_type": "heading",
     "level": 2,
     "metadata": {},
     "source": "Example 7,Page No:600"
    },
    {
     "cell_type": "code",
     "collapsed": false,
     "input": "import math\n# Given data\nm       = 100;      # mass of satellite\nV       = 8000;     # orbital velocity in m/s\nRe      = 6370;     # radius of earth in Km\nH       = 200;      # satellite height above earth surface\n\n# Calculations\nCF      = (m*V**2)/float(((Re+H)*10**3));       # centrifugal force\n\n# output\nprint'Centrifugal Force = %d Newtons'%CF;\n\n",
     "language": "python",
     "metadata": {},
     "outputs": [
      {
       "output_type": "stream",
       "stream": "stdout",
       "text": "Centrifugal Force = 974 Newtons\n"
      }
     ],
     "prompt_number": 10
    },
    {
     "cell_type": "heading",
     "level": 2,
     "metadata": {},
     "source": "Example 8,Page No:601"
    },
    {
     "cell_type": "code",
     "collapsed": false,
     "input": "import math\n\n# Variable Declaration\nApogee  = 30000;        # Apogee pt of satellite elliptical orbit\nPerige  = 1000;         # perigee pt of satellite elliptical orbit\n\n# Calculations\na       = (Apogee + Perige)/float(2);  # semi major axis\n\n# Result\nprint'Semi-major axis = %d Km'%a;\n\n",
     "language": "python",
     "metadata": {},
     "outputs": [
      {
       "output_type": "stream",
       "stream": "stdout",
       "text": "Semi-major axis = 15500 Km\n"
      }
     ],
     "prompt_number": 11
    },
    {
     "cell_type": "heading",
     "level": 2,
     "metadata": {},
     "source": "Example 9,Page No:601"
    },
    {
     "cell_type": "code",
     "collapsed": false,
     "input": "import math\n\n# variable Declaration\nfarth   = 30000;        # farthest point in satellite elliptic eccentric orbit\nclosest = 200;          # closest point in satellite elliptic eccentric orbit\nRe      = 6370;         # Radius of earth in km\n\n# Calculations\nApogee  = farth + Re;   # Apogee in km\nPerigee = closest + Re; # perigee in km\na       = (Apogee + Perigee)/float((2));       # semi-major axis\ne       = (Apogee - Perigee)/float((2*a));     # orbit eccentricity\n\n# Result\nprint'Apogee = %d km\\n'%Apogee;\nprint'Perigee = %d km\\n'%Perigee;\nprint'orbit eccentricity = %3.3f'%e;\n\n",
     "language": "python",
     "metadata": {},
     "outputs": [
      {
       "output_type": "stream",
       "stream": "stdout",
       "text": "Apogee = 36370 km\n\nPerigee = 6570 km\n\norbit eccentricity = 0.694\n"
      }
     ],
     "prompt_number": 14
    },
    {
     "cell_type": "heading",
     "level": 2,
     "metadata": {},
     "source": "Example 10,Page No:604"
    },
    {
     "cell_type": "code",
     "collapsed": false,
     "input": "import math\n# Given data\ne       = 0.5;      # orbit eccentricity\nae      = 14000;    # from fig. the distance from center of ellipse to the centre of earth\n\n# Calculations\na       = ae/float(e);         # semi major axis\napogee  = a*(1 + e);    # Apogee in km\nperige  = a*(1 - e);    # perigee in km\n\n# output\nprint'Apogee = %d km\\n'%apogee,'Perigee = %d km'%perige;\n\n",
     "language": "python",
     "metadata": {},
     "outputs": [
      {
       "output_type": "stream",
       "stream": "stdout",
       "text": "Apogee = 42000 km\nPerigee = 14000 km\n"
      }
     ],
     "prompt_number": 15
    },
    {
     "cell_type": "heading",
     "level": 2,
     "metadata": {},
     "source": "Example 11,Page No:605"
    },
    {
     "cell_type": "code",
     "collapsed": false,
     "input": "import math\n\n# variable Declaration\nG       = 6.67*10**-11;      # Gravitational constant\nM       = 5.98*10**24;       # mass of the earth in kg\nRe      = 6370*10**3;        # radius of earth in m\n\n# Calculations\nu       = G*M\nVesc    = math.sqrt(2*u/float(Re));\nVes     = Vesc/float(1000);    # escape velocity in km/s\n\n# Result\nprint'Escape velocity = %3.1f km/s'%Ves;\n\n",
     "language": "python",
     "metadata": {},
     "outputs": [
      {
       "output_type": "stream",
       "stream": "stdout",
       "text": "Escape velocity = 11.2 km/s\n"
      }
     ],
     "prompt_number": 15
    },
    {
     "cell_type": "heading",
     "level": 2,
     "metadata": {},
     "source": "Example 12,Page No:605"
    },
    {
     "cell_type": "code",
     "collapsed": false,
     "input": "import math\n\n# Variable Declaration\na       = 25000*10**3;      # semimajor axis in m from fig\nG       = 6.67*10**-11;     # Gravitational constant\nM       = 5.98*10**24;      # mass of the earth in kg\nh = 0\n\n# Calculations\nu       = G*M;\nT       = 2*math.pi*math.sqrt((a**3)/float(u));\nhr          = T/float(3600);                        # conv. from sec to hrs and min\nt           = (T%3600);               # conv. from sec to hrs and min\nmi          = t/float(60);                          # conv. from sec to hrs and min\n\n# Result\nprint'Orbital time period = %d'%hr,'Hours %d minutes'%mi;\n",
     "language": "python",
     "metadata": {},
     "outputs": [
      {
       "output_type": "stream",
       "stream": "stdout",
       "text": "Orbital time period = 10 Hours 55 minutes\n"
      }
     ],
     "prompt_number": 16
    },
    {
     "cell_type": "heading",
     "level": 2,
     "metadata": {},
     "source": "Example 13,Page No:605"
    },
    {
     "cell_type": "code",
     "collapsed": false,
     "input": "import math\n\n# variable Declaration\napogee  = 35000;        # farthest point in kms\nperigee = 500;          # closest point in kms\nr       = float(6360);         # radius of earth in kms\nG       = 6.67*10**-11   # gravitational constant\nM       = 5.98*10**24;   # mass of earth in kgs\n# calculations\n#funcprot(0)\napogee_dist = apogee + r       # apogee distance in kms\nperigee_dist= perigee+r ;      # perigee distance in kms\na           = (apogee_dist + perigee_dist)/2;   # semi-major axis of elliptical orbit\nT           = (2*math.pi)*math.sqrt((a*10**3)**3/(G*M));          # orbital time period\nhr          = T/float(3600)                        # conv. from sec to hrs and min\nt           = T%3600               # conv. from sec to hrs and min\nmi          = t/60                          # conv. from sec to hrs and min\nu           = G*M\nVapogee     = math.sqrt(u*((2/(apogee_dist*10**3)) - (1/(a*10**3))));      # velocity at apogee point\nVperigee    = math.sqrt((G*M)*((2/(perigee_dist*10**3)-(1/(a*10**3)))))    # velocity at perigee point\n\n# Result\nprint'Orbital Time Period = %d Hrs'%hr,'%d min' %mi \nprint'Velocity at apogee = %3.3f Km/s' %(Vapogee/1000)\nprint 'Velocity at perigee = %3.3f Km/s'%(Vperigee/1000)\nprint'Note: Calculation mistake in textbook in finding velocity at apogee point'\n",
     "language": "python",
     "metadata": {},
     "outputs": [
      {
       "output_type": "stream",
       "stream": "stdout",
       "text": "Orbital Time Period = 10 Hrs 20 min\nVelocity at apogee = 1.656 Km/s\nVelocity at perigee = 9.987 Km/s\nNote: Calculation mistake in textbook in finding velocity at apogee point\n"
      }
     ],
     "prompt_number": 11
    },
    {
     "cell_type": "heading",
     "level": 2,
     "metadata": {},
     "source": "Example 14,Page No:606"
    },
    {
     "cell_type": "code",
     "collapsed": false,
     "input": "import math\n\n# Variable Declaration\nra_S_rp     = 50000;        # sum of apogee and perigee distance\nra_D_rp     = 30000;        # difference of apogee and perigee distances\n\n# Calculations\ne           = ra_D_rp/float(ra_S_rp);  # eccentricity\n\n# Result\nprint'Target eccentricity = %3.1f'%e;\n\n",
     "language": "python",
     "metadata": {},
     "outputs": [
      {
       "output_type": "stream",
       "stream": "stdout",
       "text": "Target eccentricity = 0.6\n"
      }
     ],
     "prompt_number": 17
    },
    {
     "cell_type": "heading",
     "level": 2,
     "metadata": {},
     "source": "Example 15,Page No:607"
    },
    {
     "cell_type": "code",
     "collapsed": false,
     "input": "import math\n\n# Given data\na       = 20000;            # semi major axis of elliptical sate. orbit in kms\nb       = 16000;            # semi minor axis of elliptical sate. orbit in kms\n\n# calculations\n# a = (ra + rp)/2\n# b = math.sqrt(ra*rp)\n# let k = (ra + rp)\n# let l = ra*rp\nk       = 2*a;              # ra+ rp ----------------1\nl       = b**2;              # ra*rp -----------------2\n# ra**2 -40000ra + 256000000\n\n\n\nAp = (k - (math.sqrt(k**2-4*1*l)))/(2*1)\nPe = (k + (math.sqrt(k**2-4*1*l)))/(2*1)\n\n\n\n\n\nprint'Apogee distance = %d km\\n'%Ap,'Perigee distance = %d km' %Pe;\n\n",
     "language": "python",
     "metadata": {},
     "outputs": [
      {
       "output_type": "stream",
       "stream": "stdout",
       "text": "Apogee distance = 8000 km\nPerigee distance = 32000 km\n"
      }
     ],
     "prompt_number": 26
    },
    {
     "cell_type": "heading",
     "level": 2,
     "metadata": {},
     "source": "Example 16,Page No:607"
    },
    {
     "cell_type": "code",
     "collapsed": false,
     "input": "import math\n\n# Variable delaration\nH       = 35800;        # height of orbit in kms\nre      = 6364;         # radius of earth in kms\ni       = 2;            # angle of inclination in degrees\n\n# Calculations\nr       = H+re;         # radius of orbit in kms\nlamdamax = i;           # max latitude deviation\nlong_dev = (i**2)/float(228);   # max. longitude deviation\ndisp_lamda = (r*i*math.pi/180) # max disp in km due to lamdamax\nmax_disp1  = disp_lamda*(long_dev/lamdamax) # max disp.due to max.longitude deviation\n\n# Result\nprint'Maximum deviation in latitude = %d\u00b0'%lamdamax\nprint'Maximum deviation in longitude = %3.4f\u00b0'%long_dev\nprint'Maximum displacements due to latitude displacement = %d Km'%disp_lamda\nprint'Maximum displacements due to longitude displacement = %3.1f Km\\n'%max_disp1 ;\n    \n",
     "language": "python",
     "metadata": {},
     "outputs": [
      {
       "output_type": "stream",
       "stream": "stdout",
       "text": "Maximum deviation in latitude = 2\u00b0\nMaximum deviation in longitude = 0.0175\u00b0\nMaximum displacements due to latitude displacement = 1471 Km\nMaximum displacements due to longitude displacement = 12.9 Km\n\n"
      }
     ],
     "prompt_number": 15
    },
    {
     "cell_type": "heading",
     "level": 2,
     "metadata": {},
     "source": "Example 17,Page No:608"
    },
    {
     "cell_type": "code",
     "collapsed": false,
     "input": "import math\n\n# Variable Declaration\nr       = 42164;        # orbital radius in kms\nDlamda_max = 500;       # max displacement due to latitude deviation\n\n# Calculations\ni   = Dlamda_max/float(r);     # angle of inclination in radians\ni_deg = i*180/math.pi;      # rad to deg conv\n\n# Result\nprint'Angle of inclination = %3.2f\u00b0'%i_deg;\n\n",
     "language": "python",
     "metadata": {},
     "outputs": [
      {
       "output_type": "stream",
       "stream": "stdout",
       "text": "Angle of inclination = 0.68\u00b0\n"
      }
     ],
     "prompt_number": 17
    },
    {
     "cell_type": "heading",
     "level": 2,
     "metadata": {},
     "source": "Example 18,Page No:609"
    },
    {
     "cell_type": "code",
     "collapsed": false,
     "input": "import math\n\n# Variable Declaration\nH   = 35786;        # ht of orbit from earth surface\nRe  = float(6378)          # radius of earth in kms\n\n# Calculations\n# For theoretical max coverage angle,elevation angle E = 0 \nE = 0\n# max coverage angle = 2amax\n# 2amax = 2asin(Re/(Re+H)cosE)\namax = 2*math.asin((Re/(Re+H))*math.cos(E))\namax_deg = amax*180/math.pi     # rad to deg conversion\nD   = math.sqrt( Re**2 + (Re+H)**2 - 2*Re*(Re + H)*math.asin(E + math.asin((Re/(Re+H))*math.cos(E)))) # Max slant range\n\n# Result\nprint'Maximum Coverage angle = %3.1f\u00b0'%amax_deg\nprint'Maximum slant Range = %d Km'%D;\n\n",
     "language": "python",
     "metadata": {},
     "outputs": [
      {
       "output_type": "stream",
       "stream": "stdout",
       "text": "Maximum Coverage angle = 17.4\u00b0\nMaximum slant Range = 41671 Km\n"
      }
     ],
     "prompt_number": 22
    }
   ],
   "metadata": {}
  }
 ]
}