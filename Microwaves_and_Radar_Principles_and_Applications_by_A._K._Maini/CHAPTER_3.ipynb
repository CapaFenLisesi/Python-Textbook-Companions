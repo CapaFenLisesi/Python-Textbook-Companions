{
 "metadata": {
  "name": "CHAPTER 3"
 },
 "nbformat": 3,
 "nbformat_minor": 0,
 "worksheets": [
  {
   "cells": [
    {
     "cell_type": "heading",
     "level": 1,
     "metadata": {},
     "source": "Chapter 3:Transmission Media,Transmission Lines and Waveguides"
    },
    {
     "cell_type": "heading",
     "level": 2,
     "metadata": {},
     "source": "Example 2,Page No:65"
    },
    {
     "cell_type": "code",
     "collapsed": false,
     "input": "import math\n\n# Variable Declaration\nLr      = 18;       # return loss in db\n\n# Calculations\n# Lr   = 20*math.log(1/float(p));      \np       = 1/10**(Lr/float(20));     # reflection co-efficient\nswr     = (1 + p)/(1 - p);      # standing wave ratio\n\n# Result\nprint'Reflection co-efficient is %3.3f\\n'%p,'SWR = %3.2f'%(swr);\n\n",
     "language": "python",
     "metadata": {},
     "outputs": [
      {
       "output_type": "stream",
       "stream": "stdout",
       "text": "Reflection co-efficient is 0.126\nSWR = 1.29\n"
      }
     ],
     "prompt_number": 1
    },
    {
     "cell_type": "heading",
     "level": 2,
     "metadata": {},
     "source": "Example 3,Page No:66"
    },
    {
     "cell_type": "code",
     "collapsed": false,
     "input": "import math\n\n# Variable Declaration\nPW  = 30*10**-6;     # pulse width in sec\nips = 20*10**-6;     # inter pulse separation\nv   = 3*10**8;       # propagation speed in m/s\n\n# Calculations\nT   = PW+ips+PW+ips+PW      # time duration of the pulse train for having 3 pulses on the line at a time\nl   = v*T;                  # minimum length of cable required\n\n# Result\nprint'Minimum length of cable required = %d km' %(l/float(1000));\n\n",
     "language": "python",
     "metadata": {},
     "outputs": [
      {
       "output_type": "stream",
       "stream": "stdout",
       "text": "Minimum length of cable required = 39 km\n"
      }
     ],
     "prompt_number": 8
    },
    {
     "cell_type": "heading",
     "level": 2,
     "metadata": {},
     "source": "Example 4,Page No:66"
    },
    {
     "cell_type": "code",
     "collapsed": false,
     "input": "import math\n\n# Variable Declaration\nRmsVmax    = 100;      # max value of RMS vtg\nRmsVmin    = 25;       # min value of RMS vtg\nZl         = 300;      # load impedance in ohm\n\n# Calculations\nVSWR       = RmsVmax/float(RmsVmin);   \n# wkt VSWR  = Zl/float(Zo); assuming Zl > Zo\nZo         = Zl/float(VSWR);   # charecteristic impedance in ohm\np          = (Zl - Zo)/float((Zl + Zo));   # reflection co-efficient\n\n# Result\nprint'Reflection Co-efficient = %3.1f\\n'%p, 'Charecteristic impedance = %d ohm' %Zo;\n\n",
     "language": "python",
     "metadata": {},
     "outputs": [
      {
       "output_type": "stream",
       "stream": "stdout",
       "text": "Reflection Co-efficient = 0.6\nCharecteristic impedance = 75 ohm\n"
      }
     ],
     "prompt_number": 6
    },
    {
     "cell_type": "heading",
     "level": 2,
     "metadata": {},
     "source": "Example 5,Page No:66"
    },
    {
     "cell_type": "code",
     "collapsed": false,
     "input": "import math\n\n# Variable Declaration\nZo      = 75;       # charecteristic impedance in ohm\nVref    = 100;      # reflected voltage\nPref    = 100;      # reflected power in watts\n\n# Calculations\nZl      = (Vref)**2 /float(Pref);       # load impedance\np       = (Zl - Zo)/float((Zl + Zo));   # reflection co-efficient\nPinc    = Pref/float(p);                 # incident power\nPobs    = Pinc - Pref            # power obsorbed\n\n# Result\nprint'Load Resistance = %d ohm\\n'%Zl,'Reflection Co-efficient = %3.3f\\n'%p,'incident power = %d watts\\n'%Pinc,'power obsorbed = %d watts'%Pobs;\n\n",
     "language": "python",
     "metadata": {},
     "outputs": [
      {
       "output_type": "stream",
       "stream": "stdout",
       "text": "Load Resistance = 100 ohm\nReflection Co-efficient = 0.143\nincident power = 700 watts\npower obsorbed = 600 watts\n"
      }
     ],
     "prompt_number": 11
    },
    {
     "cell_type": "heading",
     "level": 2,
     "metadata": {},
     "source": "Example 6,Page No:67"
    },
    {
     "cell_type": "code",
     "collapsed": false,
     "input": "import math\n\n# Variable Declaration\nc      = 3*10**8;        # velocity in m/s\nf      = 100*10**6       # operating frequency in hz\nZin    = 100;\nZl     = 25;\n\n# Calculations\n\nlamda  = c/float(f);            # wavelength in m\nLreq   = lamda/float(4);       # required length in m\nZo     = math.sqrt(Zin*Zl);  #charecteristic impedance in ohm\n\n# Result\nprint'Length of line required = %d cm\\n'%(Lreq*10**2),'Charecteristic impedance = %d ohm',%Zo;\n\n",
     "language": "python",
     "metadata": {},
     "outputs": [
      {
       "output_type": "stream",
       "stream": "stdout",
       "text": "Length of line required = 75 cm\nCharecteristic impedance = 50 ohm\n"
      }
     ],
     "prompt_number": 15
    },
    {
     "cell_type": "heading",
     "level": 2,
     "metadata": {},
     "source": "Example 7,Page No:67"
    },
    {
     "cell_type": "code",
     "collapsed": false,
     "input": "import math\n\n#Variable Declaration\n# in the first case when the line is lamda/2 long, the i/p impedance is same as the load resistance\nZl      = 300;      # load resistance in ohm\nZo      = 75;       # charecteristic impedance in ohm\n\n# calculations\n#Zi      = Zo*((Zl + iZotan\u03b2l)/float((Zo + iZltan\u03b2l));\n#        = Zo*(((Zl/tan\u03b2l) + iZo))/((Zl/tan\u03b2l) + iZo)))\n# for l = lamda/2 \u03b2l = (2* \u03c0/lamda)*(lamda/float(2)) =  \u03c0\n# therefore tan\u03b2l = 0 which gives Zi = Zl\n# in the second case when the operating frequency is halved, the wavelength is dou\u03b2led which means the same line is now lamda/4 long\n# for l = lamda/4 ,\u03b2l = (2* \u03c0/lamda)*(lamda/4) =  \u03c0/2\n# therefore tan\u03b2l = \u221e\n\nZi         = (Zo**2)/float(Zl);  # input impedance\n\n#Result\nprint'Input impedance = %3.2f ohm'%Zi;\n\n",
     "language": "python",
     "metadata": {},
     "outputs": [
      {
       "output_type": "stream",
       "stream": "stdout",
       "text": "Input impedance = 18.75 ohm\n"
      }
     ],
     "prompt_number": 16
    },
    {
     "cell_type": "heading",
     "level": 2,
     "metadata": {},
     "source": "Example 8,Page No:68"
    },
    {
     "cell_type": "code",
     "collapsed": false,
     "input": "import math\n# Given data\nf       = 100*10**6;             # operating frequency in Hz\nv       = 2*10**8 ;              # propagation velocity in m/s\nZo      = 300;                  # charecteristic impedance in ohm\nZin     = 300;                  # input impedance in ohm\nl       = 1;                    # length in m\nV       = 100;\n\n# Calculations\nlamda   = v/float(f);                   # wavelength in m\nif(lamda/float(2) == l):\n    Zl  = Zin;\n\nk       = (V*Zin)/float((Zin+Zl));\n#Vin   = k*cos(2*%pi*f*t)\n# since the line is lamda/2 long ,the signal undergoes a phase delay of  \u03b2l = (2*\u03c0)/lamda *(lamda/2) = \u03c0\n# Result\n\nprint 'Vin = %dcos(2\u03c0'%k,'%3.0et)'%f\nprint 'Vl  = %dcos(2\u03c0'%k,'%3.0et-\u03c0)'%f\n",
     "language": "python",
     "metadata": {},
     "outputs": [
      {
       "output_type": "stream",
       "stream": "stdout",
       "text": "Vin = 50cos(2\u03c0 1e+08t)\nVl  = 50cos(2\u03c0 1e+08t-\u03c0)\n"
      }
     ],
     "prompt_number": 30
    },
    {
     "cell_type": "heading",
     "level": 2,
     "metadata": {},
     "source": "Example 9,Page No:68"
    },
    {
     "cell_type": "code",
     "collapsed": false,
     "input": "import math\n\n# Variable Declaration\nVSWR    = 3;         # voltage standing wave ratio\nd       = 20*10**-2  # separation b/w 2 successive minimas\ner      = 2.25;      #dielectric constant\nv       = 3*10**8;   # velocity in m/s\n\n# Calculations\n# VSWR = (1 + p)/float((1 - p));\np       = (VSWR -1)/float((VSWR + 1));     # reflection co-efficient\nlamda   = 2*d;                      # wavelength of tx line\nlamda_fr= lamda*math.sqrt(er);           # free space wavelength\nf       = v/float(lamda_fr);               # operating frequency in Hz\n\n#Result\nprint'Magnitude of Reflection Co-efficient = %3.1f\\n'%p,'Frequency of Operation = %3.0f Mhz'%(f/10**6);\n\n",
     "language": "python",
     "metadata": {},
     "outputs": [
      {
       "output_type": "stream",
       "stream": "stdout",
       "text": "Magnitude of Reflection Co-efficient = 0.5\nFrequency of Operation = 500 Mhz\n"
      }
     ],
     "prompt_number": 20
    },
    {
     "cell_type": "heading",
     "level": 2,
     "metadata": {},
     "source": "Example 10,Page No:69"
    },
    {
     "cell_type": "code",
     "collapsed": false,
     "input": "import math\n# Given data\nC   = 30;           # per unit capacitance in pF/m\nVp  = 260;          # velocity of propagation in m/us\nf   = 500*10**6      # freq in Hz\nZl  = 50;           # terminating load impedance in ohm\n\n# calculations\nv   = Vp/float(10**-6);      # conversion from m/us to m/s\nC1  = C*10**-12      # conversion from pF/m to F/m\n# 1/math.sqrt(LC) = Vp\nL   = 1/float((v**2 * C1));  # per unit inductance\nZo  = math.sqrt(L/float(C1));     # charecteristic impedance in ohm\nlamda = v/float(f);          # wavelength\nb    = (2*math.pi)/lamda  # phase shift constant\np    = (Zl - Zo)/float((Zl + Zo));     # Reflection coefficient\n\n# Result\nprint'Per Unit inductance = %d nH/m\\n'%(L*10**9);\nprint'Charecteristic Impedance = %d ohm\\n'%Zo;\nprint'Phase shift Constant = %d rad/m\\n'%b;\nprint'Reflection co-efficient = %3.3f'%abs(p);\n\n",
     "language": "python",
     "metadata": {},
     "outputs": [
      {
       "output_type": "stream",
       "stream": "stdout",
       "text": "Per Unit inductance = 493 nH/m\n\nCharecteristic Impedance = 128 ohm\n\nPhase shift Constant = 12 rad/m\n\nReflection co-efficient = 0.439\n"
      }
     ],
     "prompt_number": 62
    },
    {
     "cell_type": "heading",
     "level": 2,
     "metadata": {},
     "source": "Example 11,Page No:77"
    },
    {
     "cell_type": "code",
     "collapsed": false,
     "input": "import math\n\n# Variable Declaration\na   = 1.5*10**-2;        # width of waveguide \nb   = 1*10**-2           #narrow dimension of waveguide\ner  = 4;                 #dielectric constant\nf   = 8*10**9;           #frequency in Hz\nc   = 3*10**8;           #velocity in m/s\n\n#calculations\nlamda_c     = 2*a;      #cut-off wavelength for TE10 mode\nlamda       = c/f       #wavelength corresponding to given freq.\nlamda_d     = lamda/math.sqrt(er);   #wavelength when waveguide filled with dielectric\nif lamda_d < lamda_c :\n    print('8 Ghz frequency will pass through the guide');\n\n",
     "language": "python",
     "metadata": {},
     "outputs": [
      {
       "output_type": "stream",
       "stream": "stdout",
       "text": "8 Ghz frequency will pass through the guide\n"
      }
     ],
     "prompt_number": 32
    },
    {
     "cell_type": "heading",
     "level": 2,
     "metadata": {},
     "source": "Example 12,Page No:77"
    },
    {
     "cell_type": "code",
     "collapsed": false,
     "input": "\n# Variable Declaration\na   = 4*10**-2;          # width of waveguide \nb   = 2*10**-2           # narrow dimension of waveguide\ner  = 4;                # dielectric constant\nc   = 3*10**8            # velocity in m/s\n\n# Calculations\nlamda_c     = 2*a;      # max cut-off wavelength\nfcmin       = c/lamda_c # min freq\nlamda_d     = lamda_c/math.sqrt(er);     # wavelength if we insert dielectric\nfc          = c/lamda_d        # min frequency in presence of dielectric\n\n# Result\nprint'Minimum Frequency that can be passed with dielectric in waveguide is %3.1f Ghz'%(fc/float(10**9));\n\n\n \n",
     "language": "python",
     "metadata": {},
     "outputs": [
      {
       "output_type": "stream",
       "stream": "stdout",
       "text": "Minimum Frequency that can be passed with dielectric in waveguide is 7.5 Ghz\n"
      }
     ],
     "prompt_number": 33
    },
    {
     "cell_type": "heading",
     "level": 2,
     "metadata": {},
     "source": "Example 13,Page No:78"
    },
    {
     "cell_type": "code",
     "collapsed": false,
     "input": "import math\n\n# Variable Declaration\nf   = 1*10**9;       # frequency in Hz\na   = 5*10**-2;      # wall separation\nc   = 3*10**8;       # velocity of EM wave in m/s\nm   = 1;            # for TE10\nn   = 0;            # for TE10\n\n# Calculations\n# lamda0   = 2/math.sqrt((m/a)**2 + (n/b)**2)\nlamda0      = (2*a)/m\nlamda_frspc = c/float(f);\nif lamda_frspc > lamda0:\n    print'1 Ghz signal cannot propagate in TE10 mode'\nelse:\n    print'1 Ghz signal can propagate in TE10 mode';\n\n    \n    \n    \n",
     "language": "python",
     "metadata": {},
     "outputs": [
      {
       "output_type": "stream",
       "stream": "stdout",
       "text": "1 Ghz signal cannot propagate in TE10 mode\n"
      }
     ],
     "prompt_number": 36
    },
    {
     "cell_type": "heading",
     "level": 2,
     "metadata": {},
     "source": "Example 14,Page No:78"
    },
    {
     "cell_type": "code",
     "collapsed": false,
     "input": "import math\n\n# Variable Declaration\na   = 30;            # width of waveguide\nb   = 20;           # narrow dimension of waveguide\nc   = 3*10**8;       # velocity of EM wave in m/s\nm   = 1;            # for TE10\nn   = 0;            # for TE10\n\n#Calculations\n#lamda0   = 2/math.sqrt((m/a)**2 + (n/b)**2)\nlamda0      = (2*a)/m;      # longest cut-off wavelength in dominant mode TE10\n\n# Result\nprint'longest cut-off wavelength = %d mm'%lamda0;\n\n",
     "language": "python",
     "metadata": {},
     "outputs": [
      {
       "output_type": "stream",
       "stream": "stdout",
       "text": "longest cut-off wavelength = 60 mm\n"
      }
     ],
     "prompt_number": 37
    },
    {
     "cell_type": "heading",
     "level": 2,
     "metadata": {},
     "source": "Example 15,Page No:107"
    },
    {
     "cell_type": "code",
     "collapsed": false,
     "input": "import math\n\n# Variable Declaration\na   = 4*10**-2;       # width of waveguide\nb   = 2*10**-2;       #narrow dimension of waveguide\nc   = 3*10**8;        # velocity of EM wave in m/s\nm1  = 1;              # for TE10\nm2  = 2;              # for TE20\nn   = 0;              # for TE10\n\n# Calculations\nlamda_c     = 2*a       # cutoff wavelength for TE10 mode\nf1          = c/lamda_c # frequency in Hz\n# the frequency range for single mode operation is the range of frequencies corresponding to the dominant mode and the second highest cutoff wavelength\nlamda_c_2   = 2/math.sqrt((m2/a)**2 + (n/b)**2)\nf2          = c/lamda_c_2;   # freq at second largest cutoff wavelength\n\n# Result\nprint'Therefore,single mode operating range = %3.2f Ghz'%(f1/float(10**9)),'to %3.1f Ghz\\n' %(f2/float(10**9));\nprint'Note: instead of 3.75,3.5 is printed in textbook';\n\n",
     "language": "python",
     "metadata": {},
     "outputs": [
      {
       "output_type": "stream",
       "stream": "stdout",
       "text": "Therefore,single mode operating range = 3.75 Ghz to 7.5 Ghz\n\nNote: instead of 3.75,3.5 is printed in textbook\n"
      }
     ],
     "prompt_number": 39
    },
    {
     "cell_type": "heading",
     "level": 2,
     "metadata": {},
     "source": "Example 16,Page No:108"
    },
    {
     "cell_type": "code",
     "collapsed": false,
     "input": "import math\n\n# Variable Declaration\na   = 7.2;            # width of waveguide in cm\nb   = 3.4;            # narrow dimension of waveguide in cm\nc   = 3*10**10;       # free space velocity of EM wave in cm/s\nf   = 2.4*10**9;      #frequency in Hz\n\n#Calculation\nlamda   = c/f       # free space wavelength in cm\nlamda_c = 2*a       # cutoff wavelength in cm\nlamda_g = lamda/math.sqrt(1 - (lamda/lamda_c)**2); # guide wavelength in cm\nvp      = (lamda_g * c)/lamda                      # phase velocity in cm/s\nvg      = c**2/float(vp);                          # group velocity in cm/s\n\n# Result\nprint'Group velocity = %3.1e cm/s\\n'%vg, 'Phase Velocity = %3.1e cm/s'%vp;\n\n",
     "language": "python",
     "metadata": {},
     "outputs": [
      {
       "output_type": "stream",
       "stream": "stdout",
       "text": "Group velocity = 1.5e+10 cm/s\nPhase Velocity = 6.0e+10 cm/s\n"
      }
     ],
     "prompt_number": 40
    },
    {
     "cell_type": "heading",
     "level": 2,
     "metadata": {},
     "source": "Example 18,Page No:109"
    },
    {
     "cell_type": "code",
     "collapsed": false,
     "input": "import math\n# Given data\n# let 'a' and 'b' be the broad and narrow dimensions of the rectangular guide and 'r' be internal radius of circular guide\n# Dominant mode in rectangular guide =TE10\n# cutoff wavelength = 2a\n# dominant mode in circular guide = TE11\n# cut-off wavelength = 2*pi*r/1.841  = 3.41r\n# for the two cut-off wavelengths to equal\n# 2a  = 3.41r\n# a = 1.705r\n# now area of cross section of rectangular guide = a*b\n# assuming a= 2b,which is very reasonable assumption ,we get \n# area of cross section of rectangular waveguide = a*a/2 = ((1.705^2)*r*r)/2 = 1.453r**2\n# area of cross-section of circular guide = pi*r*r = 3.14r**2\n# ratio of two cross sectional areas = (3.14r**2)/(1.453r**2) = 2.16\n# output\nprint'Circular guide is 2.16 times larger in cross section as compared to rectangular guide';\n\n",
     "language": "python",
     "metadata": {},
     "outputs": [
      {
       "output_type": "stream",
       "stream": "stdout",
       "text": "Circular guide is 2.16 times larger in cross section as compared to rectangular guide\n"
      }
     ],
     "prompt_number": 41
    },
    {
     "cell_type": "heading",
     "level": 2,
     "metadata": {},
     "source": "Example 19,Page No:110"
    },
    {
     "cell_type": "code",
     "collapsed": false,
     "input": "import math\n\n# Variable Declaration\na   = 4*10**-2;      # width of waveguide\nb   = 2*10**-2;      # narrow dimension of waveguide\nc   = 3*10**8;      # velocity of EM wave in m/s\nf   = 5*10**9       # operating frequency in Hz\nm0  = 0;            # for TE01\nm1  = 1;            # for TE10 / TE11 /TM11\nn0  = 0;            # for TE10\nn1  = 1;            # for TE11 or TM11  \n\n# Calculations\nlamda        = c/f;                                # operating wavelength\nlamda_TE01   = 2/math.sqrt((m0/a)**2 + (n1/b)**2)  # cutoff wavelength for TE01\nlamda_TE10   = 2/math.sqrt((m1/a)**2 + (n0/b)**2)  # cutoff wavelength for TE10\nlamda_TE11   = 2/math.sqrt((m1/a)**2 + (n1/b)**2)       # cutoff wavelength for TE11 or TM11\n\n# Result\nif lamda_TE01 >lamda:\n    print'TE01 propagates in the given guide at the given operating frequency';\n    \nelif lamda_TE10 >lamda:\n    print'TE10 propagates in the given guide at the given operating frequency';\nelif lamda_TE11 >lamda:\n    print'TE11 propagates in the given guide at the given operating frequency';\n\n",
     "language": "python",
     "metadata": {},
     "outputs": [
      {
       "output_type": "stream",
       "stream": "stdout",
       "text": "TE01 propagates in the given guide at the given operating frequency\n"
      }
     ],
     "prompt_number": 40
    },
    {
     "cell_type": "heading",
     "level": 2,
     "metadata": {},
     "source": "Example 20,Page No:110"
    },
    {
     "cell_type": "code",
     "collapsed": false,
     "input": "import math\n\n# Variable Declaration\na   = 4*10**-2;      # width of waveguide\nb   = 2*10**-2;      # narrow dimension of waveguide\nc   = 3*10**8;       # velocity of EM wave in m/s\nd   = 4*10**-2;      # distance b/w field maxima and minima\n\n# Calculations\nlamda_c     = 2*a;      # cut-off wavelength in dominant mode\nlamda_g     = 4*d;      # guide wavelength\n# lamda_g  = lamda0/float((math.sqrt(1 -(lamda0/lamda_c)**2)))\nlamda0      = math.sqrt(((lamda_c * lamda_g)**2) / float((lamda_c**2 )+ (lamda_g**2)));\nf0          = c/float(lamda0);     # frequency of the wave\n\n# Result\nprint'Frequency of the wave = %3.3f Ghz'%(f0/float(10**9));\n\n\n\n",
     "language": "python",
     "metadata": {},
     "outputs": [
      {
       "output_type": "stream",
       "stream": "stdout",
       "text": "Frequency of the wave = 4.193 Ghz\n"
      }
     ],
     "prompt_number": 41
    },
    {
     "cell_type": "heading",
     "level": 2,
     "metadata": {},
     "source": "Example 21,Page No:111"
    },
    {
     "cell_type": "code",
     "collapsed": false,
     "input": "import math\n\n# Variable Declaration\na   = 6;      # width of waveguide in cm\nb   = 3;      # narrow dimension of waveguide in cm\nlamda = 4;    # operating wavelength in cm\nc   = 3*10**8;       # velocity of EM wave in cm/s\n\n# Calculations\nlamda_c  = 2*a;      # cut-off wavelength in dominant mode\nlamda_g  = lamda/(float((math.sqrt(1 - ((lamda/float(lamda_c))**2))))); # guide wavelength\nVp       = (lamda_g/float(lamda))*c;\nb        = (2*math.pi)/float(lamda_g);     # phase shift constant\n\n#Result\nprint'Guide wavelength = %3.2f cm\\n'%lamda_g;\nprint'Phase velocity = %3.2e m/s\\n'%Vp;\nprint'Phase shift constant = %3.2f radians/cm'%b;   \n\n",
     "language": "python",
     "metadata": {},
     "outputs": [
      {
       "output_type": "stream",
       "stream": "stdout",
       "text": "Guide wavelength = 4.24 cm\n\nPhase velocity = 3.18e+08 m/s\n\nPhase shift constant = 1.48 radians/cm\n"
      }
     ],
     "prompt_number": 73
    },
    {
     "cell_type": "heading",
     "level": 2,
     "metadata": {},
     "source": "Example 22,Page No:111"
    },
    {
     "cell_type": "code",
     "collapsed": false,
     "input": "import math\n\n# variable Declaration\ner      = 9;          # relative permittivity\nc       = 3*10**10;   # velocity of EM wave in free space\nf       = 2*10**9;    # operating frequency in Ghz\na       = 7;          # width of waveguide in cm\nb       = 3.5;        # narrow dimension of waveguide in cm\n\n# calculations\nlamda_c  = 2*a;                 # cut-off wavelength in dominant mode\nfc       = c/float(lamda_c );           # cut-off frequency in Hz\nlamda    = c/float((math.sqrt(er)*f));       # operating wavelength\nlamda_g  = lamda/(math.sqrt(1 - ((lamda/float(lamda_c))**2))); # guide wavelength\nVp       = (lamda_g/float(lamda))*c\n\n# Result\nprint'Cut-off frequency = %3.3f Ghz\\n'%(fc/float(10**9));\nprint'Phase velocity = %3.2e m/s\\n'%(Vp/float(10**2));\nprint'Guide wavelength = %3.2f cm'%lamda_g;\n\n",
     "language": "python",
     "metadata": {},
     "outputs": [
      {
       "output_type": "stream",
       "stream": "stdout",
       "text": "Cut-off frequency = 2.143 Ghz\n\nPhase velocity = 3.21e+08 m/s\n\nGuide wavelength = 5.35 cm\n"
      }
     ],
     "prompt_number": 80
    }
   ],
   "metadata": {}
  }
 ]
}