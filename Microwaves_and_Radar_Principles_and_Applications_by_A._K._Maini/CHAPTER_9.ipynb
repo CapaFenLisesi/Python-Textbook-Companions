{
 "metadata": {
  "name": "CHAPTER 9"
 },
 "nbformat": 3,
 "nbformat_minor": 0,
 "worksheets": [
  {
   "cells": [
    {
     "cell_type": "heading",
     "level": 1,
     "metadata": {},
     "source": "Chapter 9:Radar Fundamentals"
    },
    {
     "cell_type": "heading",
     "level": 2,
     "metadata": {},
     "source": "Example 1,Page No:449"
    },
    {
     "cell_type": "code",
     "collapsed": false,
     "input": "import math\n\n#Variable Declaration\nPRF     = 1000;         #Pulse repetitive frequency in Hz\nt       = 0.15*10**-3; #Round propagation time in s\nc       = 3*10**8;     #velocity of EM waves in m/s\n#calculations\nR       = (c*t)/float(2);      #Range\nRunamb  = c/float((2*PRF));     #Max unambiguous range\n\n#Result\nprint'Target Range = %3.1f Km' %(R/float(1000));\nprint'Maximum Unambiguous range = %d Km'%(Runamb/float(1000));\n\n",
     "language": "python",
     "metadata": {},
     "outputs": [
      {
       "output_type": "stream",
       "stream": "stdout",
       "text": "Target Range = 22.5 Km\nMaximum Unambiguous range = 150 Km\n"
      }
     ],
     "prompt_number": 1
    },
    {
     "cell_type": "heading",
     "level": 2,
     "metadata": {},
     "source": "Example 2,Page No:450"
    },
    {
     "cell_type": "code",
     "collapsed": false,
     "input": "import math\n\n#Variable Declaration\nf       = 10*10**9;      # radar Tx frequency\nc       = 3*10**8;       # velocity of EM waves in m/s\nV       = 108;          # vel of car in kmph\n\n# Calculations\nlamda   = c/float(f);          # wavelength in m\nVr      = V*(5/float(18));     # vel of car in m/s\nfd      = (2*Vr)/float(lamda);  # Doppler shift in Hz\nfr      = f + fd        # received freq \nfr_away = f-fd          # Rx frequency if the car is moving away from radar\n\n# Result\nprint'Doppler Shift = %d Khz'%(fd/float(1000));\nprint'Frequency of Received signal = %3.6f Ghz'%(fr/float(10**9));\nprint'Received Frequency if car is moving away from radar = %3.6f Ghz'%(fr_away/float(10**9));\n\n",
     "language": "python",
     "metadata": {},
     "outputs": [
      {
       "output_type": "stream",
       "stream": "stdout",
       "text": "Doppler Shift = 2 Khz\nFrequency of Received signal = 10.000002 Ghz\nReceived Frequency if car is moving away from radar = 9.999998 Ghz\n"
      }
     ],
     "prompt_number": 2
    },
    {
     "cell_type": "heading",
     "level": 2,
     "metadata": {},
     "source": "Example 3,Page No:450"
    },
    {
     "cell_type": "code",
     "collapsed": false,
     "input": "import math\n\n#Variable Declaration\nf       = 10*10**9;      # radar Tx frequency\nPRF     = 2000;          # Pulse repetitive frequency in Hz\nVr      = 0.5;           # radial vel in Mach\nc       = 3*10**8;        # velocity of EM waves in m/s\nvs      = 330;           # velocity of sound in m/s\n\n# Calculations\nlamda           = c/float(f);          # wavelength in m\nmax_unamb_fd    = PRF/2;        # maximum unambiguous doppler shift\nVrunamb         = (lamda*max_unamb_fd)/2; # doppler shift\nVaircraft       = 0.5*vs;       # Converting from Mach to m/s\nfd_desired      = (2*Vaircraft)/lamda;\nPRF_desired     = 2*fd_desired; # desired PRF\n\n# Output\nif  Vrunamb < Vaircraft:\n    print'The radar is not capable of determining unambiguously the velocity of the approaching aircraft\\n';\n\nprint'Desired Pulse Repetition Rate = %d Khz'%(PRF_desired/1000);\n\n",
     "language": "python",
     "metadata": {},
     "outputs": [
      {
       "output_type": "stream",
       "stream": "stdout",
       "text": "The radar is not capable of determining unambiguously the velocity of the approaching aircraft\n\nDesired Pulse Repetition Rate = 22 Khz\n"
      }
     ],
     "prompt_number": 5
    },
    {
     "cell_type": "heading",
     "level": 2,
     "metadata": {},
     "source": "Example 4,Page No:450"
    },
    {
     "cell_type": "code",
     "collapsed": false,
     "input": "import math\n# Given Data\nPW_tx   = 10**-6;            # Transmitted pulse width\nRx_PW   = 10**-6;            # Received pulse width        \nc       = 3*10**8;           # velocity of EM waves in m/s\n\n# Calculations\nRR      = (c*Rx_PW)/float(2);      # Range Resolution in m\n\n# output\nprint'This Radar can resolve upto an inter target separation in range of %d m\\nTherefore,given radar will be able to resolve the targets'%RR;\n\n",
     "language": "python",
     "metadata": {},
     "outputs": [
      {
       "output_type": "stream",
       "stream": "stdout",
       "text": "This Radar can resolve upto an inter target separation in range of 150 m\nTherefore,given radar will be able to resolve the targets\n"
      }
     ],
     "prompt_number": 6
    },
    {
     "cell_type": "heading",
     "level": 2,
     "metadata": {},
     "source": "Example 5,Page No:451"
    },
    {
     "cell_type": "code",
     "collapsed": false,
     "input": "import math\n\n#Variable Declaration\nCRR     = 100;      # Cross range resolution in m\nR       = 3000;     # radial range\n\n# Calculations\n# CRR  = (R*theta3)*(math.pi/180);\ntheta3  = (180*CRR)/(math.pi*R)         # 3 dB beamwidth\n\n# Result\nprint'3 dB beamwidth = %3.2f\u00b0'%theta3;\n\n",
     "language": "python",
     "metadata": {},
     "outputs": [
      {
       "output_type": "stream",
       "stream": "stdout",
       "text": "3 dB beamwidth = 1.91\u00b0\n"
      }
     ],
     "prompt_number": 6
    },
    {
     "cell_type": "heading",
     "level": 2,
     "metadata": {},
     "source": "Example 6,Page No:451"
    },
    {
     "cell_type": "code",
     "collapsed": false,
     "input": "import math\n\n#Variable Declaration\nVs      = 330;          # velocity of sound in m/s\nNM      = 1.85*(5/float(18))   # 1NM equivalent in m/s\nV1      = 0.5;          # velocity of first aircraft in mach\nV2      = 400;          # velocity of second aircraft in NM/hr\ntheta   = 30;           # angle with radial axis in degrees\nlamda   = 3*10**-2;      # wavelength in m\n\n# Calculations\nv1      = V1*Vs         # velocity of first aircraft in m/s\nfd1     = (2*v1)/float(lamda); # doppler freq.\nv2      = V2*NM*(math.cos(30*(math.pi/180)));  # velocity of second aircraft in m/s\nfd2     = (2*v2)/float(lamda);  # doppler freq\ndd      = fd2 - fd1;    # doppler difference\nTl      = 1/float(dd);         # look time in s\n\n# Result\nprint'Required minimum look time = %3.2f ms'%(Tl/float(10**-3));\nprint'\\nNote: Cos(30) value is taken as 0.5 in textbook';\n\n",
     "language": "python",
     "metadata": {},
     "outputs": [
      {
       "output_type": "stream",
       "stream": "stdout",
       "text": "Required minimum look time = 1.15 ms\n\nNote: Cos(30) value is taken as 0.5 in textbook\n"
      }
     ],
     "prompt_number": 8
    },
    {
     "cell_type": "heading",
     "level": 2,
     "metadata": {},
     "source": "Example 7,Page No:451"
    },
    {
     "cell_type": "code",
     "collapsed": false,
     "input": "import math\n# Given Data\n# Rmax     = [1000000/(12.4*PRF)]NM\n#          = [1000000*t/12.4]NM\nprint'The Numerator represents round trip propagation time in us\\n';\nprint'Therefore, number 12.4 represents the units microseconds per nautical miles\\n';\nprint'In other words, this means that the round propagation time for one nautical mile is 12.4 us which is equivalent to 6.66us for 1km range'\n",
     "language": "python",
     "metadata": {},
     "outputs": [
      {
       "output_type": "stream",
       "stream": "stdout",
       "text": "The Numerator represents round trip propagation time in us\n\nTherefore, number 12.4 represents the units microseconds per nautical miles\n\nIn other words, this means that the round propagation time for one nautical mile is 12.4 us which is equivalent to 6.66us for 1km range\n"
      }
     ],
     "prompt_number": 9
    },
    {
     "cell_type": "heading",
     "level": 2,
     "metadata": {},
     "source": "Example 8,Page No:464"
    },
    {
     "cell_type": "code",
     "collapsed": false,
     "input": "import math\n\n# variable Declaration\nPW      = 10*10**-6;         # pulse width in sec\nf       = 10*10**9;          # frequency in Hz\nfm      = 1000;              # modulating frequency\n\n# calculations\nBW_M    = 1/float(PW);              # matched bandwidth\ncf1     = f+fm;             # closest freq.\ncf2     = f-fm;             # closest freq.\nfo      = f;                # centre freq.\n\n# Output\nprint'Centre of frequency spectrum = %d Khz'%(fo/float(10**3));\nprint'The two closet frequencies to the center of the spectrum are %d Khz'%(cf1/float(10**3)),' and %d Khz'%(cf2/float(10**3));\n\n",
     "language": "python",
     "metadata": {},
     "outputs": [
      {
       "output_type": "stream",
       "stream": "stdout",
       "text": "Centre of frequency spectrum = 10000000 Khz\nThe two closet frequencies to the center of the spectrum are 10000001 Khz  and 9999999 Khz\n"
      }
     ],
     "prompt_number": 7
    },
    {
     "cell_type": "heading",
     "level": 2,
     "metadata": {},
     "source": "Example 9,Page No:464"
    },
    {
     "cell_type": "code",
     "collapsed": false,
     "input": "import math\n\n# Variable Declaration\nfc1     = 495;      # freq in Mhz\nfc2     = 505;      # freq in Mhz\n\n# Calculations\nfo      = (fc1 + fc2)/float(2);        # Center of spectrum in Mhz\nBW      = fc2 - fc1;            # Bandwidth in Mhz\nPW      = 1/float(BW);                 # compressed pulse width in us\n\n# Result\nprint'Center of spectrum = %d Mhz\\n'%fo,'Matched Bandwidth = %d Mhz\\n'%BW,'Compressed Pulse width = %3.1fus'%PW;\n\n",
     "language": "python",
     "metadata": {},
     "outputs": [
      {
       "output_type": "stream",
       "stream": "stdout",
       "text": "Center of spectrum = 500 Mhz\nMatched Bandwidth = 10 Mhz\nCompressed Pulse width = 0.1us\n"
      }
     ],
     "prompt_number": 8
    },
    {
     "cell_type": "heading",
     "level": 2,
     "metadata": {},
     "source": "Example 10,Page No:464"
    },
    {
     "cell_type": "code",
     "collapsed": false,
     "input": "import math\n\n# variable Declaration\nf       = 10**9;         # CW radar waveform freq.\nfm      = 100;           # modulation freq. in Hz\nMaxfD   = 500;           # max freq deviation in Hz\nc       = 3*10**8;       # vel. of EM waves in m/s\n\n# Calculations\nMf      = MaxfD/float(fm);      # Modulation index\nBW      = 2*(Mf + 1)*fm # Bandwidth\nRR      = c/float((2*BW));     # Range Resolution in m\n\n# Result\nprint'Bandwidth = %d Hz\\n'%BW,'Range Resolution = %d Km'%(RR/float(1000));\n\n",
     "language": "python",
     "metadata": {},
     "outputs": [
      {
       "output_type": "stream",
       "stream": "stdout",
       "text": "Bandwidth = 1200 Hz\nRange Resolution = 125 Km\n"
      }
     ],
     "prompt_number": 9
    },
    {
     "cell_type": "heading",
     "level": 2,
     "metadata": {},
     "source": "Example 11,Page No:465"
    },
    {
     "cell_type": "code",
     "collapsed": false,
     "input": "import math\n\n# Variable Declaration\nf       = 10**9;         # Centre freq. of spectrum\nt       = 13             # pulse width in us\nN       = 13;            # N-bit Barker code\n\n# Calculations\nSub_PW  = t/float(N);          # sub pulsewidth\nmatch_BW= 1/float(Sub_PW);     # Matched bandwidth in Mhz\n\n# Output\nprint'Matched Bandwidth = %d Mhz\\n'%match_BW,'Center Frequency of the spectrum = %d Ghz'%(f/float(10**9));\n\n",
     "language": "python",
     "metadata": {},
     "outputs": [
      {
       "output_type": "stream",
       "stream": "stdout",
       "text": "Matched Bandwidth = 1 Mhz\nCenter Frequency of the spectrum = 1 Ghz\n"
      }
     ],
     "prompt_number": 10
    },
    {
     "cell_type": "heading",
     "level": 2,
     "metadata": {},
     "source": "Example 12,Page No:479"
    },
    {
     "cell_type": "code",
     "collapsed": false,
     "input": "import math\n\n# Variable Declaration\nPW      = 10**-6;            # Pulse width in sec\nPp      = 100*10**3;          # Peak power in watts\nPRF     = 1000;              # pulse rep.rate\nN_target= 20;                # no of target hits in 1 dwell period\n\n# Calculations\nPE      = Pp*PW;            # Pulse energy in Joule\nLE      = N_target *PE;     # look energy\nDC      = PW*PRF            # Duty cycle\nPav     = Pp*DC;            # Average power\nPavg    = 10*math.log10(Pav);    # Avg power in dB\n\n# result\nprint'Average power = %d dB\\n'%Pavg,'Look Energy = %3.0f Joules'%LE;\n\n",
     "language": "python",
     "metadata": {},
     "outputs": [
      {
       "output_type": "stream",
       "stream": "stdout",
       "text": "Average power = 20 dB\nLook Energy =   2 Joules\n"
      }
     ],
     "prompt_number": 11
    },
    {
     "cell_type": "heading",
     "level": 2,
     "metadata": {},
     "source": "Example 13,Page No:479"
    },
    {
     "cell_type": "code",
     "collapsed": false,
     "input": "import math\n\n# Variable Declaration\nPW      = 10**-6;            # Pulse width in sec\nPp      = 100*10**3;         # Peak power in watts\nPRF     = 1000;              # pulse rep.rate\nN_target= 20;                # no of target hits in 1 dwell period\n\n# Calculations\nPE      = Pp*PW;            # Pulse energy in Joule\nLE      = N_target *PE;     # look energy\nDC      = PW*PRF            # Duty cycle\nPav     = Pp*DC;            # Average power\nPavg    = 10*math.log10(Pav);    # Avg power in dB\nPp_dB   = 10*math.log10(Pp);     # Peak power in dB\nDCCF    = Pp_dB - Pavg      # Duty cycle correction factor\n\n# result\nprint'Duty cycle correction factor = %d dB'%DCCF;\n\n",
     "language": "python",
     "metadata": {},
     "outputs": [
      {
       "output_type": "stream",
       "stream": "stdout",
       "text": "Duty cycle correction factor = 30 dB\n"
      }
     ],
     "prompt_number": 20
    },
    {
     "cell_type": "heading",
     "level": 2,
     "metadata": {},
     "source": "Example 14,Page No:479"
    },
    {
     "cell_type": "code",
     "collapsed": false,
     "input": "import math\n\n# Variable Declaration\nG_rx        = 97;       # Rx gain in dB\nBn          = 5*10**6;   # Bandwidth in Hz\nTo          = 300;      # temperature in kelvin\nK           = 1.38*10**-23;  # Boltzmann constant in J/k\nn           = -3             # o/p noise power in dBm\n\n# calculations\nPn_dB      = n-G_rx       # input noise power\nPn         = 10**(Pn_dB/float(10))*10**-3       # converting from dBm to watts\n# Pn      = KToBnF;\nF          = Pn/float((K*To*Bn))  # Noise Factor\nT          = To*(F - 1);    # Equivalent Noise Temperature\n\n# Result\nprint'Equivalent Noise Temperature = %3.2d \u00b0K'%T;\n\n\n",
     "language": "python",
     "metadata": {},
     "outputs": [
      {
       "output_type": "stream",
       "stream": "stdout",
       "text": "Equivalent Noise Temperature = 1149 \u00b0K\n"
      }
     ],
     "prompt_number": 29
    },
    {
     "cell_type": "heading",
     "level": 2,
     "metadata": {},
     "source": "Example 15,Page No:480"
    },
    {
     "cell_type": "code",
     "collapsed": false,
     "input": "import math\n\n# Variable Declaration\nGx      = 60;       # gain of Rx 'X' in dB\nGy      = 70;       # gain of Rx 'Y' in dB\nFx      = 3;        # Noise factor of 'X'\nFy      = 2;        # Noise factor of 'Y'\n\n# calculations\nGx_W    = 10**(Gx/float(10));    # gain in watts\nGy_W    = 10**(Gy/float(10));    # gain in watts\n# k    = Pnx/float(Pny);      # Ratio of noise power levels produced at the o/p's of Rx 'X' and 'Y'\nk       = (Fx*Gx_W)/float((Fy*Gy_W));    # Ratio of noise power levels produced at the o/p's of Rx 'X' and 'Y'\n\n# result\nprint'Ratio of noise power levels produced at the outputs of Rx X and Y = %3.2f'%k;\n\n",
     "language": "python",
     "metadata": {},
     "outputs": [
      {
       "output_type": "stream",
       "stream": "stdout",
       "text": "Ratio of noise power levels produced at the outputs of Rx X and Y = 0.15\n"
      }
     ],
     "prompt_number": 30
    },
    {
     "cell_type": "heading",
     "level": 2,
     "metadata": {},
     "source": "Example 16,Page No:480"
    },
    {
     "cell_type": "code",
     "collapsed": false,
     "input": "import math\n\n# Variable Declaration\nPn      = -70;          # Noise power in dBm\nfl      = 10**6;         # lower cut-off freq in Hz\nfh      = 11*(10**6);      # upper cut-off freq in Hz\nBP_fl   = 13*(10**6);      # Bandpass filter lower cutoff freq\nBP_fh   = 14*(10**6);      # Bandpass filter lower cutoff freq\n\n# Calculations\nPn_W    = (10**(Pn/10))*10**-3;     # coversion from dBm to Watts\nBW      = fh - fl\nPSD     = Pn_W/BW              # Noise power spectral density\n# Since white noise has the same spectral power density through the frequency spectrum,\n# therefore Noise power in second case\nB       = BP_fh - BP_fl\nPn_2    = PSD*B;                # Noise power in second case\n\n# Output\nprint'Noise power for BandPass filter having Cutoff frequencies 13Mhz and 14Mhz = %3.0e W'%Pn_2;\n\n",
     "language": "python",
     "metadata": {},
     "outputs": [
      {
       "output_type": "stream",
       "stream": "stdout",
       "text": "Noise power for BandPass filter having Cutoff frequencies 13Mhz and 14Mhz = 1e-11 W\n"
      }
     ],
     "prompt_number": 12
    },
    {
     "cell_type": "heading",
     "level": 2,
     "metadata": {},
     "source": "Example 17,Page No:483"
    },
    {
     "cell_type": "code",
     "collapsed": false,
     "input": "import math\n# Given Data from Figure triagle OAB\nOA      = 100       # in Km\nOB      = OA*math.cos(60*math.pi/180);       # Range of Target 2\n\n# Result\nprint'Range of Target-2 = %d Km\\n Azimuth angle of target-1 = 60\u00b0\\n Azimuth angle of Target-2 = 120\u00b0'%OB;\n\n",
     "language": "python",
     "metadata": {},
     "outputs": [
      {
       "output_type": "stream",
       "stream": "stdout",
       "text": "Range of Target-2 = 50 Km\n Azimuth angle of target-1 = 60\u00b0\n Azimuth angle of Target-2 = 120\u00b0\n"
      }
     ],
     "prompt_number": 13
    }
   ],
   "metadata": {}
  }
 ]
}