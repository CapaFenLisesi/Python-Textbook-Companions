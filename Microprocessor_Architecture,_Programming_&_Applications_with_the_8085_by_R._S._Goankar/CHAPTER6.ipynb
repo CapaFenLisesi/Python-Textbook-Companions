{
 "metadata": {
  "name": "",
  "signature": "sha256:1bd4edcbc2b1ae9b67fe169c6f3466bc12b5c7f7594b61c1a046ae12d4b071be"
 },
 "nbformat": 3,
 "nbformat_minor": 0,
 "worksheets": [
  {
   "cells": [
    {
     "cell_type": "heading",
     "level": 1,
     "metadata": {},
     "source": [
      "CHAPTER 6 - Introduction To 8085 Instructions "
     ]
    },
    {
     "cell_type": "heading",
     "level": 2,
     "metadata": {},
     "source": [
      "EXAMPLE 6.1 - PG NO: 164"
     ]
    },
    {
     "cell_type": "code",
     "collapsed": false,
     "input": [
      "##page no 164\n",
      "##example no 6.1\n",
      "##LOAD A DATA TO ONE REGISTER AND MOVE IT TO ANOTHER.\n",
      "import math\n",
      "def hex2dec(s):\n",
      "\t return int(s, 16)\n",
      "\n",
      "def dec2hex(n):\n",
      "\t return \"%X\" % n\n",
      "\n",
      " \n",
      "A=hex2dec('82')# ##storing the decimal value of hexadecimal no 82 in accumulator A\n",
      "B=dec2hex(A)# ##storing the hexadecimal value of A in B\n",
      "print('B=\\n')\n",
      "print (B)# ##displaying the hexadecimal number in register B\n"
     ],
     "language": "python",
     "metadata": {},
     "outputs": [
      {
       "output_type": "stream",
       "stream": "stdout",
       "text": [
        "B=\n",
        "\n",
        "82\n"
       ]
      }
     ],
     "prompt_number": 1
    },
    {
     "cell_type": "heading",
     "level": 2,
     "metadata": {},
     "source": [
      "EXAMPLE 6.2 - PG NO:164"
     ]
    },
    {
     "cell_type": "code",
     "collapsed": false,
     "input": [
      "#page no 164\n",
      "#example 6.2\n",
      "#TO SWITCH ON SOME DEVICES\n",
      "#let the switches which are ON are at bit no D0,D1,D2,D3,D6#\n",
      "import math\n",
      "\n",
      "def hex2dec(s):\n",
      "\t return int(s, 16)\n",
      "def dec2bin(n):\n",
      "    return ''.join(str(1 & int(n) >> i) for i in range(8)[::-1])\n",
      "\n",
      "\n",
      "x=hex2dec('4F')# #hexadecimal to decimal conversion\n",
      "y=dec2bin(x)# #decimal to binary conversion\n",
      "print ('At output port 01H: ')# #same input appears at the putput\n",
      "print (y)#\n",
      "print ('Value 1s are showing the devices are ON.')\n",
      "print ('Value 0s are showing the devices are switched OFF.')#\n"
     ],
     "language": "python",
     "metadata": {},
     "outputs": [
      {
       "output_type": "stream",
       "stream": "stdout",
       "text": [
        "At output port 01H: \n",
        "01001111\n",
        "Value 1s are showing the devices are ON.\n",
        "Value 0s are showing the devices are switched OFF.\n"
       ]
      }
     ],
     "prompt_number": 2
    },
    {
     "cell_type": "heading",
     "level": 2,
     "metadata": {},
     "source": [
      "EXAMPLE 6.3 - PG NO:174"
     ]
    },
    {
     "cell_type": "code",
     "collapsed": false,
     "input": [
      "##page no 174\n",
      "##example 6.3\n",
      "##ADDITION OF TWO NUMBERS.\n",
      "##93H is stored in accumulator. Converting it into decimal.\n",
      "def hex2dec(s):\n",
      "\t return int(s, 16)\n",
      "\n",
      "def dec2hex(n):\n",
      "\t return \"%X\" % n\n",
      "\n",
      "A=hex2dec('93')#\n",
      "##B7H is stored in register C. Converting it into decimal.\n",
      "C=hex2dec('B7')#\n",
      "X=A+C# ## the result comes out to be 330\n",
      "Z=X-256#\n",
      "##X=330# ## this is a decimal value. Converting it into hexadecimal\n",
      "\n",
      "Y=dec2hex(Z)#\n",
      "print ('Sum= ')\n",
      "print (Y)#\n",
      "if X>255:\n",
      "    print ('CY=1')\n",
      "else:\n",
      "    print ('CY=0')\n",
      "\n",
      "\n",
      "\n"
     ],
     "language": "python",
     "metadata": {},
     "outputs": [
      {
       "output_type": "stream",
       "stream": "stdout",
       "text": [
        "Sum= \n",
        "4A\n",
        "CY=1\n"
       ]
      }
     ],
     "prompt_number": 3
    },
    {
     "cell_type": "heading",
     "level": 2,
     "metadata": {},
     "source": [
      "EXAMPLE 6.4 - PG NO:175"
     ]
    },
    {
     "cell_type": "code",
     "collapsed": false,
     "input": [
      "##page no 175\n",
      "##example 6.4\n",
      "##CONTINUATION OF PREVIOUS EXAMPLE.\n",
      "##the sum of previous example is added to 35H\n",
      "def dec2hex(n):\n",
      "\t return \"%X\" % n\n",
      "\n",
      "def hex2dec(p):\n",
      "\t return int(p, 16)\n",
      "\n",
      "\n",
      "S=hex2dec('4A'); ##4AH is converted into decimal value.\n",
      "A=hex2dec('35'); ##35H is converted into decimal value\n",
      "s=A+S; ##the result comes out to be 127. it is a decimal value\n",
      "Y=dec2hex(s);\n",
      "print ('Sum= ')\n",
      "print (Y);\n",
      "if s>255:\n",
      "    print ('CY=1')\n",
      "else:\n",
      "    print ('CY=0')\n",
      "\n"
     ],
     "language": "python",
     "metadata": {},
     "outputs": [
      {
       "output_type": "stream",
       "stream": "stdout",
       "text": [
        "Sum= \n",
        "7F\n",
        "CY=0\n"
       ]
      }
     ],
     "prompt_number": 4
    },
    {
     "cell_type": "heading",
     "level": 2,
     "metadata": {},
     "source": [
      "EXAMPLE 6.5 - PG NO:175"
     ]
    },
    {
     "cell_type": "code",
     "collapsed": false,
     "input": [
      "##page no 175\n",
      "##example no 6.5\n",
      "##INCRIMENTING ACCUMULATOR CONTENT.\n",
      "##accumulator holds the data FFH\n",
      "def hex2dec(s):\n",
      "\t return int(s, 16)\n",
      "\n",
      "def dec2hex(n):\n",
      "\t return \"%X\" % n\n",
      "\n",
      "A=hex2dec('FF')# ##converting FFH into decimal value\n",
      "##decimal value of 01H is 01. Adding 01 to A\n",
      "Y=A+1# ##the result comes out to be 256\n",
      "Z=Y-256#\n",
      "X=dec2hex(Z)#\n",
      "print ('Sum =')\n",
      "print (X)#\n",
      "if Y>255:\n",
      "    print ('CY=1 \\n')\n",
      "else:\n",
      "    print ('CY=0 \\n')\n",
      "\n",
      "if Z>127:\n",
      "    print ('S=1 \\n')\n",
      "else:\n",
      "    print ('S=0 \\n')\n",
      "\n",
      "if Z>0:\n",
      "    print ('Z=0 \\n')\n",
      "else:\n",
      "    print ('Z=1 \\n')\n",
      "\n",
      "\n",
      "\n"
     ],
     "language": "python",
     "metadata": {},
     "outputs": [
      {
       "output_type": "stream",
       "stream": "stdout",
       "text": [
        "Sum =\n",
        "0\n",
        "CY=1 \n",
        "\n",
        "S=0 \n",
        "\n",
        "Z=1 \n",
        "\n"
       ]
      }
     ],
     "prompt_number": 5
    },
    {
     "cell_type": "heading",
     "level": 2,
     "metadata": {},
     "source": [
      "EXAMPLE 6.6 - PG NO:179"
     ]
    },
    {
     "cell_type": "code",
     "collapsed": false,
     "input": [
      "##page no 179\n",
      "##example 6.6\n",
      "##SUBTRACTION OF TWO NUMBERS.\n",
      "##accumulator has 97H. Converting it into decimal value\n",
      "\n",
      "def hex2dec(s):\n",
      "\t return int(s, 16)\n",
      "\n",
      "def dec2hex(n):\n",
      "\t return \"%X\" % n\n",
      "\n",
      "A=hex2dec('97')#\n",
      "##register B has 65H. Finding 2's compliment of 65H.\n",
      "B=hex2dec('65')#\n",
      "X=256-B#\n",
      "Y=A+X#\n",
      "S=Y-256#\n",
      "Z=dec2hex(S)#\n",
      "print ('Subtraction= ')\n",
      "print (Z)#\n",
      "if Y>255:\n",
      "    CY=1#\n",
      "    print ('The result is positive. \\n')#\n",
      "else:\n",
      "    CY=0#\n",
      "    print ('The result is negative. \\n')\n",
      "\n",
      "if S>127:\n",
      "    print ('S=1 \\n')\n",
      "else:\n",
      "    print ('S=0 \\n')\n",
      "\n",
      "if S>0:\n",
      "    print ('Z=0 \\n')\n",
      "else:\n",
      "    print ('Z=1 \\n')\n",
      "\n"
     ],
     "language": "python",
     "metadata": {},
     "outputs": [
      {
       "output_type": "stream",
       "stream": "stdout",
       "text": [
        "Subtraction= \n",
        "32\n",
        "The result is positive. \n",
        "\n",
        "S=0 \n",
        "\n",
        "Z=0 \n",
        "\n"
       ]
      }
     ],
     "prompt_number": 6
    },
    {
     "cell_type": "heading",
     "level": 2,
     "metadata": {},
     "source": [
      "EXAMPLE 6.7 - PG NO:185"
     ]
    },
    {
     "cell_type": "code",
     "collapsed": false,
     "input": [
      "#page no 185\n",
      "#example no 6.7\n",
      "#PERFORMING LOGICAL OPERATIONS.\n",
      "#register B holds 93H.Binary of 93H is 10010011\n",
      "#register A holds 15H. Binary of 15H is 00010101.\n",
      "def bitor(a,b):\n",
      "    d=dec2bin(a|b)\n",
      "    return d\n",
      "\n",
      "def bitcmp(a):\n",
      "    s=~a\n",
      "    d=dec2bin(s)\n",
      "    return d\n",
      "\n",
      "def dec2bin(n):\n",
      "    return ''.join(str(1 & int(n) >> i) for i in range(8)[::-1])\n",
      "\n",
      "\n",
      "def bitxor(a,b):\n",
      "    d=dec2bin(a^b)\n",
      "    return d\n",
      "\n",
      "def bin2dec(s):\n",
      "    return str(int(s,2))\n",
      "\n",
      "\n",
      "B=int('10010011',2)# #taking the value of A in matrix form.\n",
      "A=int('00010101',2)# #taking the value of B in matrix form.\n",
      "Y= bitor(A,B)# # getting OR of A & B\n",
      "print('OR of A & B is')\n",
      "print(Y)#\n",
      "if Y==1:\n",
      "    print('S=1 \\n')#\n",
      "else:\n",
      "    print('S=0 \\n')#\n",
      "\n",
      "if Y==0:\n",
      "    print('Z=1 \\n')#\n",
      "else:\n",
      "    print('Z=0 \\n')#\n",
      "\n",
      "print('CY=0 \\n')#\n",
      "R=bitxor(A,B)# #getting XOR of A & B\n",
      "print('XOR of A & B is')\n",
      "print(R)#\n",
      "if R==1:\n",
      "    print('S=1 \\n')#\n",
      "else:\n",
      "    print('S=1 \\n')#\n",
      "\n",
      "if R==0:\n",
      "    print('Z=1 \\n')#\n",
      "else:\n",
      "    print('Z=0 \\n')#\n",
      "\n",
      "print('CY=0 \\n')#\n",
      "K=bitcmp(A)# #getting the compliment of A\n",
      "print('Compliment of A is: \\n')#\n",
      "print(K)#\n"
     ],
     "language": "python",
     "metadata": {},
     "outputs": [
      {
       "output_type": "stream",
       "stream": "stdout",
       "text": [
        "OR of A & B is\n",
        "10010111\n",
        "S=0 \n",
        "\n",
        "Z=0 \n",
        "\n",
        "CY=0 \n",
        "\n",
        "XOR of A & B is\n",
        "10000110\n",
        "S=1 \n",
        "\n",
        "Z=0 \n",
        "\n",
        "CY=0 \n",
        "\n",
        "Compliment of A is: \n",
        "\n",
        "11101010\n"
       ]
      }
     ],
     "prompt_number": 7
    },
    {
     "cell_type": "heading",
     "level": 2,
     "metadata": {},
     "source": [
      "EXAMPLE 6.8 - PG NO:186"
     ]
    },
    {
     "cell_type": "code",
     "collapsed": false,
     "input": [
      "##page no 186\n",
      "##example no 6.8\n",
      "##KEEPING THE RADIO ON.\n",
      "##to keep the radio on without affecting the other appliances, the D4 bit should always be 1\n",
      "##assuming an input input binary 10101010\n",
      "import numpy\n",
      "A=[1, 0, 1, 0, 1, 0, 1, 0]#\n",
      "B=[0, 0, 0, 1, 0, 0, 0, 0]#\n",
      "Y=numpy.asarray(A)|numpy.asarray(B)# ##ORing input (A) with B to keep the D4 bit always set\n",
      "print (Y)#\n",
      "print ('D4 bit will always be one without affecting the other bits')#\n"
     ],
     "language": "python",
     "metadata": {},
     "outputs": [
      {
       "output_type": "stream",
       "stream": "stdout",
       "text": [
        "[1 0 1 1 1 0 1 0]\n",
        "D4 bit will always be one without affecting the other bits\n"
       ]
      }
     ],
     "prompt_number": 8
    },
    {
     "cell_type": "heading",
     "level": 2,
     "metadata": {},
     "source": [
      "EXAMPLE 6.9 - PG NO:187"
     ]
    },
    {
     "cell_type": "code",
     "collapsed": false,
     "input": [
      "##page no 187\n",
      "##example no 6.9\n",
      "##TURN OFF THE AIR CONDITIONER.\n",
      "##to turn OFF the air conditioner, reset bit D7\n",
      "##Assuming the same input as earlier as it is a continuation of previous example.\n",
      "import numpy\n",
      "A=[1,0,1,0,1,0,1,0]#\n",
      "B=[0,1,1,1,1,1,1,1]#\n",
      "Y=numpy.asarray(A)&numpy.asarray(B)# ##ANDing input (A) with B to keep the D4 bit always set\n",
      "print (Y)#\n",
      "print ('D7 bit will always be zero without affecting the other bits')#\n"
     ],
     "language": "python",
     "metadata": {},
     "outputs": [
      {
       "output_type": "stream",
       "stream": "stdout",
       "text": [
        "[0 0 1 0 1 0 1 0]\n",
        "D7 bit will always be zero without affecting the other bits\n"
       ]
      }
     ],
     "prompt_number": 9
    }
   ],
   "metadata": {}
  }
 ]
}