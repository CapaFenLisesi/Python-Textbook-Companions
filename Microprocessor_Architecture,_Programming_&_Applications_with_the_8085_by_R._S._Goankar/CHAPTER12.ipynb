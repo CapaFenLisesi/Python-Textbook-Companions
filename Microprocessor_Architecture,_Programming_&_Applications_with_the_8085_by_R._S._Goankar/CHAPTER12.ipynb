{
 "metadata": {
  "name": "",
  "signature": "sha256:110c105c2f235f90124548a1a33e1ceab46ffa87ee1520decc137482fdd4cef9"
 },
 "nbformat": 3,
 "nbformat_minor": 0,
 "worksheets": [
  {
   "cells": [
    {
     "cell_type": "heading",
     "level": 1,
     "metadata": {},
     "source": [
      "CHAPTER 12 - Interrupts"
     ]
    },
    {
     "cell_type": "heading",
     "level": 2,
     "metadata": {},
     "source": [
      "EXAMPLE 12.1 - PG NO: 374"
     ]
    },
    {
     "cell_type": "code",
     "collapsed": false,
     "input": [
      "## page no 374\n",
      "## example no 12.1\n",
      "## ENABLE INTERRUPTS\n",
      "import math\n",
      "def hex2dec(s):\n",
      "\t return int(s, 16)\n",
      "\n",
      "def dec2bin(n):\n",
      "    return ''.join(str(1 & int(n) >> i) for i in range(8)[::-1])\n",
      "\n",
      "\n",
      "print ('EI \\n \\n')#   ## enable interrupts\n",
      "print ('MVI A,08H \\n')#\n",
      "a=hex2dec('8')#\n",
      "b=dec2bin(a)#\n",
      "print ('A--> ')\n",
      "print (b)#\n",
      "print('\\n')\n",
      "print ('SIM \\n \\n')#  ## enable RST 7.5,6.5, and 5.5\n",
      "print ('D3=1     SIM functional \\n')#\n",
      "print ('D2=0     Enable RST 7.5 \\n')#\n",
      "print ('D1=0     Enable RST 6.5 \\n')#\n",
      "print ('D0=0     Enable RST 5.5 \\n')#\n"
     ],
     "language": "python",
     "metadata": {},
     "outputs": [
      {
       "output_type": "stream",
       "stream": "stdout",
       "text": [
        "EI \n",
        " \n",
        "\n",
        "MVI A,08H \n",
        "\n",
        "A--> \n",
        "00001000\n",
        "\n",
        "\n",
        "SIM \n",
        " \n",
        "\n",
        "D3=1     SIM functional \n",
        "\n",
        "D2=0     Enable RST 7.5 \n",
        "\n",
        "D1=0     Enable RST 6.5 \n",
        "\n",
        "D0=0     Enable RST 5.5 \n",
        "\n"
       ]
      }
     ],
     "prompt_number": 4
    },
    {
     "cell_type": "heading",
     "level": 2,
     "metadata": {},
     "source": [
      "EXAMPLE 12.2 - PG NO:374"
     ]
    },
    {
     "cell_type": "code",
     "collapsed": false,
     "input": [
      "## page no 374\n",
      "## example no 12.2\n",
      "## RESET 7.5 INTERRUPT\n",
      "import math\n",
      "def hex2dec(s):\n",
      "\t return int(s, 16)\n",
      "\n",
      "def dec2bin(n):\n",
      "    return ''.join(str(1 & int(n) >> i) for i in range(8)[::-1])\n",
      "\n",
      "print ('MVI A,18H \\n')#    ## set D4=1\n",
      "a=hex2dec('18')#\n",
      "b=dec2bin(a)#\n",
      "print ('A--> ')\n",
      "print (b)#\n",
      "print('\\n')\n",
      "print ('SIM     Reset 7.5 interrupt flip-flop \\n')      ## Reset 7.5 interrupt flip flop\n"
     ],
     "language": "python",
     "metadata": {},
     "outputs": [
      {
       "output_type": "stream",
       "stream": "stdout",
       "text": [
        "MVI A,18H \n",
        "\n",
        "A--> \n",
        "00011000\n",
        "\n",
        "\n",
        "SIM     Reset 7.5 interrupt flip-flop \n",
        "\n"
       ]
      }
     ],
     "prompt_number": 2
    },
    {
     "cell_type": "heading",
     "level": 2,
     "metadata": {},
     "source": [
      "EXAMPLE 12.3 - PG NO:375"
     ]
    },
    {
     "cell_type": "code",
     "collapsed": false,
     "input": [
      "## page no 375\n",
      "## example no 12.3\n",
      "## CHECK PENDING INTERRUPT\n",
      "print ('RIM instruction interpretation \\n \\n');\n",
      "print ('D7=SID                      Serial input data if any \\n');\n",
      "print ('D6,D5,D4= I7.5,I6.5,I5.5    Pending interrupts: 1= pending \\n');\n",
      "print ('D3=IE                       Interrupt enable flag: 1= enabled \\n');\n",
      "print ('D2,D1,D0= M7.5,M6.5,M5.5    Interrupt masks: 1= masked \\n \\n \\n');\n",
      "\n",
      "\n",
      "print ('Instructions \\n \\n');\n",
      "print ('        RIM \\n');            ## Read interrupt mask\n",
      "print ('        MOV B,A \\n');        ## save mask information\n",
      "print ('        ANI 20H \\n');        ## check whether RST 6.5 is pending\n",
      "print ('        JNZ NEXT \\n');\n",
      "print ('        EI \\n');\n",
      "print ('        RET \\n');           ## RST 6.5 is not pending, return to main program\n",
      "print ('NEXT:   MOV A,B \\n');       ## get bit pattern; RST 6.5 is pending\n",
      "print ('        ANI 0DH \\n');       ## enables RST 6.5 by setting D1=0\n",
      "print ('        ORI 08H\\n');        ## enable SIM by setting D3=1\n",
      "print ('        SIM \\n');\n",
      "print ('        JMP SERV \\n');      ## jump to service routine for RST 6.5\n"
     ],
     "language": "python",
     "metadata": {},
     "outputs": [
      {
       "output_type": "stream",
       "stream": "stdout",
       "text": [
        "RIM instruction interpretation \n",
        " \n",
        "\n",
        "D7=SID                      Serial input data if any \n",
        "\n",
        "D6,D5,D4= I7.5,I6.5,I5.5    Pending interrupts: 1= pending \n",
        "\n",
        "D3=IE                       Interrupt enable flag: 1= enabled \n",
        "\n",
        "D2,D1,D0= M7.5,M6.5,M5.5    Interrupt masks: 1= masked \n",
        " \n",
        " \n",
        "\n",
        "Instructions \n",
        " \n",
        "\n",
        "        RIM \n",
        "\n",
        "        MOV B,A \n",
        "\n",
        "        ANI 20H \n",
        "\n",
        "        JNZ NEXT \n",
        "\n",
        "        EI \n",
        "\n",
        "        RET \n",
        "\n",
        "NEXT:   MOV A,B \n",
        "\n",
        "        ANI 0DH \n",
        "\n",
        "        ORI 08H\n",
        "\n",
        "        SIM \n",
        "\n",
        "        JMP SERV \n",
        "\n"
       ]
      }
     ],
     "prompt_number": 3
    }
   ],
   "metadata": {}
  }
 ]
}