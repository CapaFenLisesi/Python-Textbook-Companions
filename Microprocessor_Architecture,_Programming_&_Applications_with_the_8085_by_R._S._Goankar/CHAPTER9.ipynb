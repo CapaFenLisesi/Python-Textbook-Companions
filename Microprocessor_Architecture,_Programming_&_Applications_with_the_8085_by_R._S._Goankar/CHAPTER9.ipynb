{
 "metadata": {
  "name": "",
  "signature": "sha256:d3183521e796ca9161662d967202a5a164310a5ae0de1d4fbead3c4d5f6496df"
 },
 "nbformat": 3,
 "nbformat_minor": 0,
 "worksheets": [
  {
   "cells": [
    {
     "cell_type": "heading",
     "level": 1,
     "metadata": {},
     "source": [
      "CHAPTER 9 - Stack And Subroutines "
     ]
    },
    {
     "cell_type": "heading",
     "level": 2,
     "metadata": {},
     "source": [
      "EXAMPLE 9.1 - PG NO:283"
     ]
    },
    {
     "cell_type": "code",
     "collapsed": false,
     "input": [
      "## page no 283\n",
      "## example no 9.1\n",
      "## PUSH POP AND DELAY INSTRUCTIONS\n",
      "def hex2dec(s):\n",
      "\t return int(s, 16)\n",
      "\n",
      "print ('LXI SP,2099H \\n \\n')# ## the stack pointer is located at 2099H.\n",
      "print ('LXI H,42F2H ')#\n",
      "print ('H--> 42     L-->F2 \\n \\n')#\n",
      "print ('PUSH H')# ## sends the data of HL register pair in the stack.\n",
      "## stack pointer is decremented by one to 2098H and the contents of the H register are copied to memory location 2098H\n",
      "print ('2098H--> 42')# \n",
      "## stack pointer is again decremented by one to 2097H and the contents of the L register are copied to memory location 2097H\n",
      "print ('2097H--> F2 \\n \\n')#\n",
      "print ('Delay Counter \\n \\n')#\n",
      "\n",
      "\n",
      "n=hex2dec('42F2')#\n",
      "\n",
      "#for i in '1n'                        ## DELAY LOOP\n",
      "#    (\n",
      "#    )\n",
      "    \n",
      " \n",
      "\n",
      "print ('POP H ')# ## sends the data in the stack back to the HL register pair.\n",
      "## the contents of the top of the stack are copied to L register and the stack pointer is incremented by one to 2098H\n",
      "print ('L--> F2H ')#\n",
      "## the contents of the current location of stack are copied to H register and the stack pointer is again incremented by one to 2099H.\n",
      "print ('H--> 42H ')#\n"
     ],
     "language": "python",
     "metadata": {},
     "outputs": [
      {
       "output_type": "stream",
       "stream": "stdout",
       "text": [
        "LXI SP,2099H \n",
        " \n",
        "\n",
        "LXI H,42F2H \n",
        "H--> 42     L-->F2 \n",
        " \n",
        "\n",
        "PUSH H\n",
        "2098H--> 42\n",
        "2097H--> F2 \n",
        " \n",
        "\n",
        "Delay Counter \n",
        " \n",
        "\n",
        "POP H \n",
        "L--> F2H \n",
        "H--> 42H \n"
       ]
      }
     ],
     "prompt_number": 1
    },
    {
     "cell_type": "heading",
     "level": 2,
     "metadata": {},
     "source": [
      "EXAMPLE 9.2 - PG NO:285"
     ]
    },
    {
     "cell_type": "code",
     "collapsed": false,
     "input": [
      "## page no 285\n",
      "## example no 9.2\n",
      "## EXCHANGE OF DATA USING STACK.\n",
      "print ('LXI SP,2400H \\n \\n'); ## the stack pointer is located at 2400H.\n",
      "print ('LXI H,2150H \\n ');\n",
      "print ('H--> 21     L-->50 \\n \\n');\n",
      "print ('LXI B,2280H \\n ');\n",
      "print ('B--> 22     C-->80 \\n \\n');\n",
      "print ('PUSH H \\n'); ## sends the data of HL register pair in the stack.\n",
      "## stack pointer is decremented by one to 23FFH and the contents of the H register are copied to memory location 23FFH\n",
      "print ('23FFH--> 21 \\n'); \n",
      "## stack pointer is again decremented by one to 23FEH and the contents of the L register are copied to memory location 23FEH\n",
      "print ('23FEH--> 50 \\n \\n');\n",
      "print ('PUSH B \\n'); ## sends the data of BC register pair in the stack.\n",
      "## stack pointer is decremented by one to 23FDH and the contents of the H register are copied to memory location 23FDH\n",
      "print ('23FDH--> 22 \\n'); \n",
      "## stack pointer is again decremented by one to 23FCH and the contents of the L register are copied to memory location 23FCH\n",
      "print ('23FCH--> 80 \\n \\n');\n",
      "print ('PUSH PSW \\n'); ## sends the data of accumulator & flag register in the stack.\n",
      "## stack pointer is decremented by one to 23FBH and the contents of the H register are copied to memory location 23FBH\n",
      "print ('23FBH--> contents of accumulator \\n'); \n",
      "## stack pointer is again decremented by one to 23FAH and the contents of the L register are copied to memory location 23FAH\n",
      "print ('23FAH--> contents of flag register \\n \\n');\n",
      "\n",
      "print ('To exchange the data. \\n \\n')\n",
      "print (' POP PSW \\n'); ## sends the data in the stack back to the accumulator & flag register.\n",
      "## the contents of the top of the stack are copied to A register and the stack pointer is incremented by one to 23FBH\n",
      "print ('A--> contents of accumulator \\n');\n",
      "## the contents of the current location of stack are copied to flag register and the stack pointer is again incremented by one to 23FCH.\n",
      "print ('F--> contents of flag register \\n \\n');\n",
      "print (' POP H \\n'); ## sends the data in the stack back to the HL register pair.\n",
      "## the contents of the current location of the stack are copied to L register and the stack pointer is incremented by one to 23FDH\n",
      "print ('L--> 80H \\n');\n",
      "## the contents of the current location of stack are copied to H register and the stack pointer is again incremented by one to 23FEH.\n",
      "print ('H--> 22H \\n \\n');\n",
      "print (' POP B \\n'); ## sends the data in the stack back to the BC register pair.\n",
      "## the contents of the current location of the stack are copied to C register and the stack pointer is incremented by one to 23FFH\n",
      "print ('C--> 50H \\n');\n",
      "## the contents of the current location of stack are copied to B register and the stack pointer is again incremented by one to 2400H.\n",
      "print ('B--> 21H \\n');\n"
     ],
     "language": "python",
     "metadata": {},
     "outputs": [
      {
       "output_type": "stream",
       "stream": "stdout",
       "text": [
        "LXI SP,2400H \n",
        " \n",
        "\n",
        "LXI H,2150H \n",
        " \n",
        "H--> 21     L-->50 \n",
        " \n",
        "\n",
        "LXI B,2280H \n",
        " \n",
        "B--> 22     C-->80 \n",
        " \n",
        "\n",
        "PUSH H \n",
        "\n",
        "23FFH--> 21 \n",
        "\n",
        "23FEH--> 50 \n",
        " \n",
        "\n",
        "PUSH B \n",
        "\n",
        "23FDH--> 22 \n",
        "\n",
        "23FCH--> 80 \n",
        " \n",
        "\n",
        "PUSH PSW \n",
        "\n",
        "23FBH--> contents of accumulator \n",
        "\n",
        "23FAH--> contents of flag register \n",
        " \n",
        "\n",
        "To exchange the data. \n",
        " \n",
        "\n",
        " POP PSW \n",
        "\n",
        "A--> contents of accumulator \n",
        "\n",
        "F--> contents of flag register \n",
        " \n",
        "\n",
        " POP H \n",
        "\n",
        "L--> 80H \n",
        "\n",
        "H--> 22H \n",
        " \n",
        "\n",
        " POP B \n",
        "\n",
        "C--> 50H \n",
        "\n",
        "B--> 21H \n",
        "\n"
       ]
      }
     ],
     "prompt_number": 2
    },
    {
     "cell_type": "heading",
     "level": 2,
     "metadata": {},
     "source": [
      "EXAMPLE 9.3 - PG NO:292"
     ]
    },
    {
     "cell_type": "code",
     "collapsed": false,
     "input": [
      "## page no 292\n",
      "## example no 9.3\n",
      "## EXCHANGE INFORMATION BETWEEN STACK AND PROGRAM COUNTER\n",
      "print ('After the CALL instruction \\n \\n');\n",
      "print ('STACK MEMORY: \\n \\n');\n",
      "print ('23FFH--> 20 \\n');\n",
      "print ('23FEH-->43 \\n');\n",
      "print ('Stack pointer--> 23FEH \\n');\n",
      "print ('Program counter--> 2070H \\n \\n');\n",
      "print ('After RET instruction \\n \\n');\n",
      "print ('Program counter--> 2043H \\n');\n",
      "print ('Stack pointer--> 2400H');\n"
     ],
     "language": "python",
     "metadata": {},
     "outputs": [
      {
       "output_type": "stream",
       "stream": "stdout",
       "text": [
        "After the CALL instruction \n",
        " \n",
        "\n",
        "STACK MEMORY: \n",
        " \n",
        "\n",
        "23FFH--> 20 \n",
        "\n",
        "23FEH-->43 \n",
        "\n",
        "Stack pointer--> 23FEH \n",
        "\n",
        "Program counter--> 2070H \n",
        " \n",
        "\n",
        "After RET instruction \n",
        " \n",
        "\n",
        "Program counter--> 2043H \n",
        "\n",
        "Stack pointer--> 2400H\n"
       ]
      }
     ],
     "prompt_number": 3
    }
   ],
   "metadata": {}
  }
 ]
}