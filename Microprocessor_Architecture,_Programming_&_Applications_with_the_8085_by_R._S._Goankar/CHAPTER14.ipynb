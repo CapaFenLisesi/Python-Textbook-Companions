{
 "metadata": {
  "name": "",
  "signature": "sha256:21e34af805d3a967e3ff0f0e49775cacd1377f45335c591a926420214bd47fe5"
 },
 "nbformat": 3,
 "nbformat_minor": 0,
 "worksheets": [
  {
   "cells": [
    {
     "cell_type": "heading",
     "level": 1,
     "metadata": {},
     "source": [
      "CHAPTER 14- Programmable Interface Devices"
     ]
    },
    {
     "cell_type": "heading",
     "level": 2,
     "metadata": {},
     "source": [
      "EXAMPLE 14.1 - PG NO:414"
     ]
    },
    {
     "cell_type": "code",
     "collapsed": false,
     "input": [
      "## page no 414\n",
      "## example no 14.1\n",
      "## INITIALIZE HYPOTHETICAL CHIP AS OUTPUT BUFFER\n",
      "def hex2dec(s):\n",
      "\t return int(s, 16)\n",
      "def dec2bin(n):\n",
      "    return ''.join(str(1 & int(n) >> i) for i in range(8)[::-1])\n",
      "\n",
      "\n",
      "\n",
      "print ('MVI A,01H \\n')#    ## Set D0=1, D1 through D7 are don't care lines.\n",
      "a=hex2dec('1')#\n",
      "b=dec2bin(a)#\n",
      "print ('A--> ')\n",
      "print (b)#\n",
      "print('\\n')\n",
      "print ('OUT FFH \\n')#  ## write in the control register.\n",
      "print ('MVI A,BYTE1 \\n')#    ## load data byte.\n",
      "print ('OUT FEH')#     ## send data out.\n"
     ],
     "language": "python",
     "metadata": {},
     "outputs": [
      {
       "output_type": "stream",
       "stream": "stdout",
       "text": [
        "MVI A,01H \n",
        "\n",
        "A--> \n",
        "00000001\n",
        "\n",
        "\n",
        "OUT FFH \n",
        "\n",
        "MVI A,BYTE1 \n",
        "\n",
        "OUT FEH\n"
       ]
      }
     ],
     "prompt_number": 1
    },
    {
     "cell_type": "heading",
     "level": 2,
     "metadata": {},
     "source": [
      "EXAMPLE 14.2 - PG NO:420"
     ]
    },
    {
     "cell_type": "code",
     "collapsed": false,
     "input": [
      "## page no 420\n",
      "## example no 14.2\n",
      "## ADDRESS DETERMINATION OF GIVEN FIGURE\n",
      "print ('To select the chip: \\n \\n');\n",
      "print ('A15 A14 A13 A12 A11 \\n');\n",
      "print ('0   0   1   0   0 \\n \\n');\n",
      "print ('A15,A14            Enable lines of 8205  \\n');\n",
      "print ('A13,A12,A11        Input logic to activate the output line O4 of the 8205 \\n \\n');\n",
      "print ('A15,A14,A13,A12,A11 = A7,A6,A5,A4,A3, = 20H \\n \\n');\n",
      "print ('AD2   AD1   AD0  =  Address Ports \\n');\n",
      "print (' 0     0     0   =  20H Control or status register \\n');\n",
      "print (' 0     0     1   =  21H Port A \\n');\n",
      "print (' 0     1     0   =  22H Port B \\n');\n",
      "print (' 0     1     1   =  23H Port C \\n');\n",
      "print (' 1     0     0   =  24H Timer LSB \\n');\n",
      "print (' 1     0     1   =  25H Timer MSB \\n \\n');\n",
      "print ('Port numbers in given figure thus range from 20H-25H');\n"
     ],
     "language": "python",
     "metadata": {},
     "outputs": [
      {
       "output_type": "stream",
       "stream": "stdout",
       "text": [
        "To select the chip: \n",
        " \n",
        "\n",
        "A15 A14 A13 A12 A11 \n",
        "\n",
        "0   0   1   0   0 \n",
        " \n",
        "\n",
        "A15,A14            Enable lines of 8205  \n",
        "\n",
        "A13,A12,A11        Input logic to activate the output line O4 of the 8205 \n",
        " \n",
        "\n",
        "A15,A14,A13,A12,A11 = A7,A6,A5,A4,A3, = 20H \n",
        " \n",
        "\n",
        "AD2   AD1   AD0  =  Address Ports \n",
        "\n",
        " 0     0     0   =  20H Control or status register \n",
        "\n",
        " 0     0     1   =  21H Port A \n",
        "\n",
        " 0     1     0   =  22H Port B \n",
        "\n",
        " 0     1     1   =  23H Port C \n",
        "\n",
        " 1     0     0   =  24H Timer LSB \n",
        "\n",
        " 1     0     1   =  25H Timer MSB \n",
        " \n",
        "\n",
        "Port numbers in given figure thus range from 20H-25H\n"
       ]
      }
     ],
     "prompt_number": 2
    }
   ],
   "metadata": {}
  }
 ]
}