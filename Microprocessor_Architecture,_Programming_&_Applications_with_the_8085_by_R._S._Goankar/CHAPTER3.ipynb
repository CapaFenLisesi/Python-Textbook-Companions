{
 "metadata": {
  "name": "",
  "signature": "sha256:3cd12fdd76503b0f934ce929baca0be26acfc3c1276a8f5fb125347acf7ddd61"
 },
 "nbformat": 3,
 "nbformat_minor": 0,
 "worksheets": [
  {
   "cells": [
    {
     "cell_type": "heading",
     "level": 1,
     "metadata": {},
     "source": [
      "CHAPTER 3- 8085 MICROPROCESSOR ARCHITECHTURE AND MEMORY INTERFACING"
     ]
    },
    {
     "cell_type": "heading",
     "level": 2,
     "metadata": {},
     "source": [
      "Example 3.2- Pg no. 78"
     ]
    },
    {
     "cell_type": "code",
     "collapsed": false,
     "input": [
      "##page no 78\n",
      "##example no 3.2\n",
      "##EXECUTING THE INSTRUCTION.\n",
      "A=82# ##contents of the accumulator.\n",
      "print ('Accumulator= ')#\n",
      "print (A)#\n",
      "TR=A# ##contents of the accumulator tranferred to the temporary register.\n",
      "print ('Temporary Register= ')#\n",
      "print (TR)#\n",
      "C=TR# ##contents of the temporary register are transferred to register C.\n",
      "print ('Register C= ')#\n",
      "print (C)#\n"
     ],
     "language": "python",
     "metadata": {},
     "outputs": [
      {
       "output_type": "stream",
       "stream": "stdout",
       "text": [
        "Accumulator= \n",
        "82\n",
        "Temporary Register= \n",
        "82\n",
        "Register C= \n",
        "82\n"
       ]
      }
     ],
     "prompt_number": 3
    },
    {
     "cell_type": "heading",
     "level": 2,
     "metadata": {},
     "source": [
      "Example 3.3- Pg no.82"
     ]
    },
    {
     "cell_type": "code",
     "collapsed": false,
     "input": [
      "##page no 82\n",
      "##example no 3.3\n",
      "##TIME REQUIRED FOR EXECUTION.\n",
      "A=32# ## MVI A,32H loads the value 32 in accumulator.\n",
      "print  '%s' %('Accumulator= ')#\n",
      "print  '%s' %(A)#\n",
      "##calculating the execution time for instruction.\n",
      "f=2# ## clock frequncy.\n",
      "print '%s %.6f %s' % ('clock frequency= ',f,' MHz \\n')#\n",
      "t=1./f# ## T-state=clock period\n",
      "print '%s %.6f %s' % ('T-state=clock period= ',t,' microsec \\n')#\n",
      "t1=4.*t# ## execution time for opcode fetch.\n",
      "print '%s %.6f %s' % ('Execution time for opcode fetch= ',t1,' microsec \\n')#\n",
      "t2=3.*t# ## execution time for memory read.\n",
      "print '%s %.6f %s' % ('Execution time for memory read= ',t2,' microsec \\n')#\n",
      "t3=7.*t# ## execution time for instruction.\n",
      "print '%s %.6f %s' % ('Execution time for instruction= ',t3,' microsec \\n')#\n"
     ],
     "language": "python",
     "metadata": {},
     "outputs": [
      {
       "output_type": "stream",
       "stream": "stdout",
       "text": [
        "Accumulator= \n",
        "32\n",
        "clock frequency=  2.000000  MHz \n",
        "\n",
        "T-state=clock period=  0.500000  microsec \n",
        "\n",
        "Execution time for opcode fetch=  2.000000  microsec \n",
        "\n",
        "Execution time for memory read=  1.500000  microsec \n",
        "\n",
        "Execution time for instruction=  3.500000  microsec \n",
        "\n"
       ]
      }
     ],
     "prompt_number": 4
    },
    {
     "cell_type": "heading",
     "level": 2,
     "metadata": {},
     "source": [
      "Example 3.5 - Pg no. 91"
     ]
    },
    {
     "cell_type": "code",
     "collapsed": false,
     "input": [
      "####page no 91\n",
      "##example no 3.5\n",
      "##MEMORY ADDRESS RANGE OF 6116.\n",
      "print ('A10-A0 are  address lines for register select. \\n')#\n",
      "print ('A15-A11 are address lines for chip select. \\n \\n')#\n",
      "print ('A15 A14 A13 A12 A11 \\n')#\n",
      "print (' 1  0   0   0   1 \\n \\n')# ##chip select bits have to be active low always to select that chip.\n",
      "print ('A10 A9 A8 A7 A6 A5 A4 A3 A2 A1 A0 \\n')#\n",
      "print ('0   0  0  0  0  0  0  0  0  0  0  \\n')# ##this selects the register \n",
      "print ('The above combination selects the memory address 8800H. \\n \\n')#\n",
      "print ('A15 A14 A13 A12 A11 \\n')#\n",
      "print (' 1  0   0   0   1 \\n \\n')# ##chip select bits have to be active low always to select that chip.\n",
      "print ('A10 A9 A8 A7 A6 A5 A4 A3 A2 A1 A0 \\n')#\n",
      "print ('1   1  1  1  1  1  1  1  1  1  1  \\n')# ##this selects the register  \n",
      "print ('The above combination selects the memory address 88FFH. \\n \\n')#\n",
      "##thus this chip can select any memory location from 8800H to 88FFH.\n"
     ],
     "language": "python",
     "metadata": {},
     "outputs": [
      {
       "output_type": "stream",
       "stream": "stdout",
       "text": [
        "A10-A0 are  address lines for register select. \n",
        "\n",
        "A15-A11 are address lines for chip select. \n",
        " \n",
        "\n",
        "A15 A14 A13 A12 A11 \n",
        "\n",
        " 1  0   0   0   1 \n",
        " \n",
        "\n",
        "A10 A9 A8 A7 A6 A5 A4 A3 A2 A1 A0 \n",
        "\n",
        "0   0  0  0  0  0  0  0  0  0  0  \n",
        "\n",
        "The above combination selects the memory address 8800H. \n",
        " \n",
        "\n",
        "A15 A14 A13 A12 A11 \n",
        "\n",
        " 1  0   0   0   1 \n",
        " \n",
        "\n",
        "A10 A9 A8 A7 A6 A5 A4 A3 A2 A1 A0 \n",
        "\n",
        "1   1  1  1  1  1  1  1  1  1  1  \n",
        "\n",
        "The above combination selects the memory address 88FFH. \n",
        " \n",
        "\n"
       ]
      }
     ],
     "prompt_number": 6
    },
    {
     "cell_type": "heading",
     "level": 2,
     "metadata": {},
     "source": [
      "Example 3.6 - Pg no. 95"
     ]
    },
    {
     "cell_type": "code",
     "collapsed": false,
     "input": [
      "####page no 95\n",
      "##example no 3.6\n",
      "##MEMORY ADDRESS RANGE OF 8155.\n",
      "print ('A7-A0 are address lines for register select. \\n')#\n",
      "print ('A10-A8 address lines are dont care conditions. \\n')#\n",
      "print ('A15-A11 are address lines for chip select. \\n \\n')#\n",
      "print ('A15 A14 A13 A12 A11 \\n')#\n",
      "print (' 0  0   1   0   0 \\n \\n')# ##chip select bits have to be active low always to select that chip.\n",
      "print ('A10 A9 A8 \\n')#\n",
      "print ('0  0  1  \\n \\n')# ##this is the don't care condition.\n",
      "print ('A7 A6 A5 A4 A3 A2 A1 A0 \\n')#\n",
      "print ('0  0  0  0  0  0  0  0  \\n')# ##this selects the register \n",
      "print ('The above combination selects the memory address 2100H. \\n \\n')#\n",
      "print ('A15 A14 A13 A12 A11 \\n')#\n",
      "print (' 0  0   1   0   0 \\n \\n')# ##chip select bits have to be active low always to select that chip.\n",
      "print ('A10 A9 A8 \\n')#\n",
      "print ('0  0  1  \\n \\n')# ##this is the don't care condition.\n",
      "print ('A7 A6 A5 A4 A3 A2 A1 A0 \\n')#\n",
      "print ('1  1  1  1  1  1  1  1  \\n')# ##this selects the register \n",
      "print ('The above combination selects the memory address 21FFH. \\n \\n')#\n",
      "##thus this chip can select any memory location from 2100H to 21FFH.\n"
     ],
     "language": "python",
     "metadata": {},
     "outputs": [
      {
       "output_type": "stream",
       "stream": "stdout",
       "text": [
        "A7-A0 are address lines for register select. \n",
        "\n",
        "A10-A8 address lines are dont care conditions. \n",
        "\n",
        "A15-A11 are address lines for chip select. \n",
        " \n",
        "\n",
        "A15 A14 A13 A12 A11 \n",
        "\n",
        " 0  0   1   0   0 \n",
        " \n",
        "\n",
        "A10 A9 A8 \n",
        "\n",
        "0  0  1  \n",
        " \n",
        "\n",
        "A7 A6 A5 A4 A3 A2 A1 A0 \n",
        "\n",
        "0  0  0  0  0  0  0  0  \n",
        "\n",
        "The above combination selects the memory address 2100H. \n",
        " \n",
        "\n",
        "A15 A14 A13 A12 A11 \n",
        "\n",
        " 0  0   1   0   0 \n",
        " \n",
        "\n",
        "A10 A9 A8 \n",
        "\n",
        "0  0  1  \n",
        " \n",
        "\n",
        "A7 A6 A5 A4 A3 A2 A1 A0 \n",
        "\n",
        "1  1  1  1  1  1  1  1  \n",
        "\n",
        "The above combination selects the memory address 21FFH. \n",
        " \n",
        "\n"
       ]
      }
     ],
     "prompt_number": 7
    },
    {
     "cell_type": "code",
     "collapsed": false,
     "input": [],
     "language": "python",
     "metadata": {},
     "outputs": []
    }
   ],
   "metadata": {}
  }
 ]
}