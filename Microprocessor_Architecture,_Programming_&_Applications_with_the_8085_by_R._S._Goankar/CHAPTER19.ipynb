{
 "metadata": {
  "name": "",
  "signature": "sha256:2e17f6da276f0ba9b6bc1e392aaea96bc0bdcca5f1f3b0814e64f45db6d6c18c"
 },
 "nbformat": 3,
 "nbformat_minor": 0,
 "worksheets": [
  {
   "cells": [
    {
     "cell_type": "heading",
     "level": 1,
     "metadata": {},
     "source": [
      "CHAPTER 19 - Appendix A Number System "
     ]
    },
    {
     "cell_type": "heading",
     "level": 2,
     "metadata": {},
     "source": [
      "EXAMPLE 19.1 - PG NO: 622"
     ]
    },
    {
     "cell_type": "code",
     "collapsed": false,
     "input": [
      "## page no 622\n",
      "## example no A.1\n",
      "## BINARY INTO HEX AND OCTAL\n",
      "\n",
      "def dec2hex(n):\n",
      "\t return \"%X\" % n\n",
      "\n",
      "def bin2dec(string_num):\n",
      "    return int(string_num, 2)\n",
      "\n",
      "def dec2oct(n):\n",
      "\treturn \"%o\" % n;\n",
      "\n",
      "print ('Binary no= 10011010 \\n \\n')#\n",
      "st='10011010'#\n",
      "h=bin2dec(st)#\n",
      "H=dec2hex(h)#\n",
      "print ('Hex Equivalent= ')#\n",
      "print(H)#\n",
      "print('\\n')\n",
      "O=dec2oct(h)#\n",
      "print ('Octal Equivalent= ')\n",
      "print(O)#\n"
     ],
     "language": "python",
     "metadata": {},
     "outputs": [
      {
       "output_type": "stream",
       "stream": "stdout",
       "text": [
        "Binary no= 10011010 \n",
        " \n",
        "\n",
        "Hex Equivalent= \n",
        "9A\n",
        "\n",
        "\n",
        "Octal Equivalent= \n",
        "232\n"
       ]
      }
     ],
     "prompt_number": 1
    },
    {
     "cell_type": "heading",
     "level": 2,
     "metadata": {},
     "source": [
      "EXAMPLE 19.2 - PG NO. 623"
     ]
    },
    {
     "cell_type": "code",
     "collapsed": false,
     "input": [
      "## page no 623\n",
      "## example no A.2\n",
      "## SUBTRACTION OF TWO NUMBERS\n",
      "print ('Minuend: 52 \\n');\n",
      "print ('Subtrahend: 23 \\n \\n')\n",
      "print ('BORROW METHOD \\n \\n');\n",
      "\n",
      "m=5*10+2; ## minuend\n",
      "s=2*10+3; ## subtrahend\n",
      "## to subtract 3 from 2, 10 must be borrowed from the second place of the minuend.\n",
      "\n",
      "m=4*10+12;\n",
      "\n",
      "sub=m-s;\n",
      "print ('Subtraction= ')\n",
      "print (sub);\n",
      "\n",
      "print ('\\n \\n 10s COMPLEMENT METHOD \\n \\n');\n",
      "\n",
      "## 9's complement of 23 is\n",
      "\n",
      "n=99-23;\n",
      "## add 1 to the 9's complement to find the 10's complement\n",
      "t=n+1;\n",
      "## add the 10's complement of the subtrahend(23) to minuend(52) to subtract 23 from 52\n",
      "a=m+t;\n",
      "## subtract 100 from a to compensate for the 100 that was added to find the 10's complement of 23\n",
      "sub=a-100;\n",
      "print ('Subtraction= ');\n",
      "print (sub);\n"
     ],
     "language": "python",
     "metadata": {},
     "outputs": [
      {
       "output_type": "stream",
       "stream": "stdout",
       "text": [
        "Minuend: 52 \n",
        "\n",
        "Subtrahend: 23 \n",
        " \n",
        "\n",
        "BORROW METHOD \n",
        " \n",
        "\n",
        "Subtraction= \n",
        "29\n",
        "\n",
        " \n",
        " 10s COMPLEMENT METHOD \n",
        " \n",
        "\n",
        "Subtraction= \n",
        "29\n"
       ]
      }
     ],
     "prompt_number": 2
    },
    {
     "cell_type": "heading",
     "level": 2,
     "metadata": {},
     "source": [
      "EXAMPLE 19.3 - PG NO: 624"
     ]
    },
    {
     "cell_type": "code",
     "collapsed": false,
     "input": [
      "## page no 624\n",
      "## example no A.3\n",
      "## SUBTRACTION OF TWO NUMBERS\n",
      "print ('Minuend: 23 \\n');\n",
      "print ('Subtrahend: 52 \\n \\n')\n",
      "print ('BORROW METHOD \\n \\n');\n",
      "\n",
      "m=2*10+3; ## minuend\n",
      "s=5*10+2; ## subtrahend\n",
      "## subtraction of the digits in the first place results in \n",
      "a=3-2;\n",
      "## to subtract the digits in the second place a borrow is required from the third place. assuming 1 at third place.\n",
      "\n",
      "x=12-5; ## with a borrowed 1 from the third place\n",
      "\n",
      "sub=10*x+a;\n",
      "print ('Subtraction= ')\n",
      "print (sub);\n",
      "print ('this is negative 29, expressed in 10s complement. \\n negative sign is verified by the borrowed 1 from the third place.');\n",
      "\n",
      "print ('\\n \\n 10s COMPLEMENT METHOD \\n \\n');\n",
      "\n",
      "## 9's complement of 52 is\n",
      "\n",
      "n=99-52;\n",
      "## add 1 to the 9's complement to find the 10's complement\n",
      "t=n+1;\n",
      "## add the 10's complement of the subtrahend(23) to minuend(52) to subtract 23 from 52\n",
      "a=m+t;\n",
      "\n",
      "print ('Subtraction= ');\n",
      "print (a);\n",
      "print ('this is negative 29, expressed in 10s complement');\n"
     ],
     "language": "python",
     "metadata": {},
     "outputs": [
      {
       "output_type": "stream",
       "stream": "stdout",
       "text": [
        "Minuend: 23 \n",
        "\n",
        "Subtrahend: 52 \n",
        " \n",
        "\n",
        "BORROW METHOD \n",
        " \n",
        "\n",
        "Subtraction= \n",
        "71\n",
        "this is negative 29, expressed in 10s complement. \n",
        " negative sign is verified by the borrowed 1 from the third place.\n",
        "\n",
        " \n",
        " 10s COMPLEMENT METHOD \n",
        " \n",
        "\n",
        "Subtraction= \n",
        "71\n",
        "this is negative 29, expressed in 10s complement\n"
       ]
      }
     ],
     "prompt_number": 3
    },
    {
     "cell_type": "heading",
     "level": 2,
     "metadata": {},
     "source": [
      "EXAMPLE 19.4 - PG NO: 625"
     ]
    },
    {
     "cell_type": "code",
     "collapsed": false,
     "input": [
      "# page no 625\n",
      "# example no A.4\n",
      "# 2's COMPLIMENT OF BINARY NUMBER\n",
      "\n",
      "def bin2dec(b):\n",
      "    x = int(b, 2)\n",
      "    if b[0] == '1': # \"sign bit\", big-endian\n",
      "       x -= 2**len(b)\n",
      "    return x\n",
      "\n",
      "def bitcmp(a):\n",
      "    mask = (1 << a.bit_length()) - 1\n",
      "    b=(a ^ mask)\n",
      "    return int(b)\n",
      "\n",
      "def dec2bin(n):\n",
      "    return ''.join(str(1 & int(n) >> i) for i in range(8)[::-1])\n",
      "\n",
      "\n",
      "print('Given binary no= 00011100 \\n \\n')#\n",
      "string='00011100'\n",
      "d=bin2dec(string)#\n",
      "x=bitcmp(d)#\n",
      "s=x+1\n",
      "f=s-32\n",
      "y=dec2bin(f)#\n",
      "print('2s complement=')#\n",
      "print(y)#\n"
     ],
     "language": "python",
     "metadata": {},
     "outputs": [
      {
       "output_type": "stream",
       "stream": "stdout",
       "text": [
        "Given binary no= 00011100 \n",
        " \n",
        "\n",
        "2s complement=\n",
        "11100100\n"
       ]
      }
     ],
     "prompt_number": 4
    },
    {
     "cell_type": "heading",
     "level": 2,
     "metadata": {},
     "source": [
      "EXAMPLE 19.5 - PG NO: 626"
     ]
    },
    {
     "cell_type": "code",
     "collapsed": false,
     "input": [
      "## page no 626\n",
      "## example no A.5\n",
      "## SUBTRACTION OF TWO NUMBERS\n",
      "\n",
      "def hex2dec(s):\n",
      "\t return int(s, 16)\n",
      "\n",
      "def dec2hex(n):\n",
      "\t return \"%X\" % n\n",
      "\n",
      "def bitcmp(a):\n",
      "\tmask = (1 << a.bit_length()) - 1\n",
      "\tb=(a ^ mask)\n",
      "\treturn int(b)\n",
      "\n",
      "print ('Subtrahend= 32H \\n')#\n",
      "print ('Minuend= 45H \\n \\n')#\n",
      "## finding 2's complement of subtrahend (32H)#\n",
      "m=hex2dec('45')#\n",
      "x=hex2dec('32')#\n",
      "y=bitcmp(x)# ## 1's compliment of 32H\n",
      "z=y+1# ## 2's compliment of 32H\n",
      "s=m+z# \n",
      "f=s-64# ## to compensate the effect of 2's compliment\n",
      "e=dec2hex(f)#\n",
      "print ('Subtraction= ')#\n",
      "print (e)#\n"
     ],
     "language": "python",
     "metadata": {},
     "outputs": [
      {
       "output_type": "stream",
       "stream": "stdout",
       "text": [
        "Subtrahend= 32H \n",
        "\n",
        "Minuend= 45H \n",
        " \n",
        "\n",
        "Subtraction= \n",
        "13\n"
       ]
      }
     ],
     "prompt_number": 5
    },
    {
     "cell_type": "heading",
     "level": 2,
     "metadata": {},
     "source": [
      "EXAMPLE 19.6 - PG NO: 626"
     ]
    },
    {
     "cell_type": "code",
     "collapsed": false,
     "input": [
      "## page no 626\n",
      "## example no A.6\n",
      "## SUBTRACTION OF TWO NUMBERS\n",
      "def hex2dec(s):\n",
      "\t return int(s, 16)\n",
      "\n",
      "def dec2hex(n):\n",
      "\t return \"%X\" % n\n",
      "\n",
      "def bitcmp(a):\n",
      "\tmask = (1 << a.bit_length()) - 1\n",
      "\tb=(a ^ mask)\n",
      "\treturn int(b)\n",
      "\n",
      "def bin2dec(b):\n",
      "    x = int(b, 2)\n",
      "    if b[0] == '1': # \"sign bit\", big-endian\n",
      "       x -= 2**len(b)\n",
      "    return x\n",
      "\n",
      "def dec2bin(n):\n",
      "    return ''.join(str(1 & int(n) >> i) for i in range(8)[::-1])\n",
      "\n",
      "\n",
      "print ('Subtrahend= 45H \\n')#\n",
      "print ('Minuend= 32H \\n \\n')#\n",
      "## finding 2's complement of subtrahend (32H)#\n",
      "m=hex2dec('32')#\n",
      "x=hex2dec('45')#\n",
      "y=bitcmp(x)# ## 1's compliment of 32H\n",
      "z=y+1# ## 2's compliment of 32H\n",
      "s=m+z# \n",
      "f=s+128\n",
      "r=dec2hex(f)#\n",
      "print ('Subtraction= ')#\n",
      "print (r)#\n",
      "print('in hexadecimal \\n')\n",
      "\n",
      "d=hex2dec(r)#\n",
      "x=bitcmp(d)#\n",
      "s=x-1\n",
      "f=s+2\n",
      "y=dec2hex(f)#\n",
      "print ('The result is negative & it is expressed in 2s complement.')\n",
      "print(y)#\n",
      "print('in hexadecimal \\n')"
     ],
     "language": "python",
     "metadata": {},
     "outputs": [
      {
       "output_type": "stream",
       "stream": "stdout",
       "text": [
        "Subtrahend= 45H \n",
        "\n",
        "Minuend= 32H \n",
        " \n",
        "\n",
        "Subtraction= \n",
        "ED\n",
        "in hexadecimal \n",
        "\n",
        "The result is negative & it is expressed in 2s complement.\n",
        "13\n",
        "in hexadecimal \n",
        "\n"
       ]
      }
     ],
     "prompt_number": 6
    },
    {
     "cell_type": "heading",
     "level": 2,
     "metadata": {},
     "source": [
      "EXAMPLE 19.7 - PG NO: 628"
     ]
    },
    {
     "cell_type": "code",
     "collapsed": false,
     "input": [
      "## page no 628\n",
      "## example no A.7\n",
      "## SUBTRACTION OF UNSIGNED NUMBERS\n",
      "def dec2hex(n):\n",
      "\t return \"%X\" % n\n",
      "\n",
      "def hex2dec(s):\n",
      "\t return int(s, 16)\n",
      "\n",
      "def bitcmp(a):\n",
      "\tmask = (1 << a.bit_length()) - 1\n",
      "\tb=(a ^ mask)\n",
      "\treturn int(b)\n",
      "print ('Part a \\n \\n')\n",
      "print ('Subtrahend= 62H \\n')#\n",
      "print ('Minuend= FAH \\n \\n')#\n",
      "## finding 2's complement of subtrahend (62H)#\n",
      "m=hex2dec('FA')#\n",
      "x=hex2dec('62')#\n",
      "y=bitcmp(x)\n",
      "z=y+1# ##2's compliment of 62H\n",
      "s=m+z# \n",
      "f=s-128# ## to compensate the effect of 2's compliment\n",
      "e=dec2hex(f)#\n",
      "print ('Subtraction= ')#\n",
      "print (e)#\n",
      "print ('This result is positive \\n \\n')#\n",
      "\n",
      "\n",
      "print ('Part b \\n \\n')\n",
      "print ('Subtrahend= FAH \\n')#\n",
      "print ('Minuend= 62H \\n \\n')#\n",
      "## finding 2's complement of subtrahend (FAH)#\n",
      "m=hex2dec('62')#\n",
      "x=hex2dec('FA')#\n",
      "y=bitcmp(x)# ## 1's compliment of FAH\n",
      "z=y+1# ##2's compliment of 62H\n",
      "s=m+z# \n",
      "r=dec2hex(s)#\n",
      "print ('Subtraction= ')#\n",
      "print (r)#\n",
      "print ('The result is negative & it is expressed in 2s complement.')\n"
     ],
     "language": "python",
     "metadata": {},
     "outputs": [
      {
       "output_type": "stream",
       "stream": "stdout",
       "text": [
        "Part a \n",
        " \n",
        "\n",
        "Subtrahend= 62H \n",
        "\n",
        "Minuend= FAH \n",
        " \n",
        "\n",
        "Subtraction= \n",
        "98\n",
        "This result is positive \n",
        " \n",
        "\n",
        "Part b \n",
        " \n",
        "\n",
        "Subtrahend= FAH \n",
        "\n",
        "Minuend= 62H \n",
        " \n",
        "\n",
        "Subtraction= \n",
        "68\n",
        "The result is negative & it is expressed in 2s complement.\n"
       ]
      }
     ],
     "prompt_number": 7
    },
    {
     "cell_type": "heading",
     "level": 2,
     "metadata": {},
     "source": [
      "EXAMPLE 19.8 - PG NO: 629"
     ]
    },
    {
     "cell_type": "code",
     "collapsed": false,
     "input": [
      "# page no 629\n",
      "# example no A.8\n",
      "# SUBTRACTION OF SIGNED NUMBERS\n",
      "def hex2dec(s):\n",
      "\t return int(s, 16)\n",
      "\n",
      "\n",
      "def bitcmp(a):\n",
      "\tmask = (1 << a.bit_length()) - 1\n",
      "\tb=(a ^ mask)\n",
      "\treturn int(b)\n",
      "\n",
      "def dec2hex(n):\n",
      "\t return \"%X\" % n\n",
      "\n",
      "print('Part a \\n \\n')\n",
      "print('Minuend= FAH \\n \\n')#\n",
      "print('It is a negative no since D7= 1 for FAH, this must be represented in \\n2s compliment form. \\n')#\n",
      "# finding 2's complement of subtrahend (FAH)#\n",
      "m=hex2dec('FA')#\n",
      "x=hex2dec('62')#\n",
      "y=bitcmp(m)# # 1's compliment of FAH\n",
      "z=y+1# # 2's compliment of FAH\n",
      "print('2s compliment of minuend is= ')#\n",
      "print(z)#\n",
      "print('in hexadecimal \\n')\n",
      "\n",
      "print('\\n \\n Subtrahend= 62H \\n')#\n",
      "print('It is a positive no since D7= 0 for 62H. \\n')#\n",
      "# subtraction can be represented as\n",
      "# FAH-62H= (-06H)-(+62H)\n",
      "s=-x-z# \n",
      "a=-s#\n",
      "d=dec2hex(a)#\n",
      "print('Subtraction= ')#\n",
      "print(s)#\n",
      "print('\\n')\n",
      "print(d)#\n",
      "print('in hexadecimal with a negative sign \\n \\n')#\n",
      "g=bitcmp(a)# # 1's compliment of result\n",
      "q=g+129# # 2's compliment of result\n",
      "e=dec2hex(q)#\n",
      "print('2s compliment of result would be= ')#\n",
      "print(e)#\n"
     ],
     "language": "python",
     "metadata": {},
     "outputs": [
      {
       "output_type": "stream",
       "stream": "stdout",
       "text": [
        "Part a \n",
        " \n",
        "\n",
        "Minuend= FAH \n",
        " \n",
        "\n",
        "It is a negative no since D7= 1 for FAH, this must be represented in \n",
        "2s compliment form. \n",
        "\n",
        "2s compliment of minuend is= \n",
        "6\n",
        "in hexadecimal \n",
        "\n",
        "\n",
        " \n",
        " Subtrahend= 62H \n",
        "\n",
        "It is a positive no since D7= 0 for 62H. \n",
        "\n",
        "Subtraction= \n",
        "-104\n",
        "\n",
        "\n",
        "68\n",
        "in hexadecimal with a negative sign \n",
        " \n",
        "\n",
        "2s compliment of result would be= \n",
        "98\n"
       ]
      }
     ],
     "prompt_number": 8
    },
    {
     "cell_type": "heading",
     "level": 2,
     "metadata": {},
     "source": [
      "EXAMPLE 19.9 - PG NO: 629"
     ]
    },
    {
     "cell_type": "code",
     "collapsed": false,
     "input": [
      "##page no 629\n",
      "##example no A.9\n",
      "## ADDITION OF TWO POSITIVE NUMBERS\n",
      "##the given numbers are 41H & 54H.\n",
      "def hex2dec(s):\n",
      "\t return int(s, 16)\n",
      "\n",
      "def dec2hex(n):\n",
      "\t return \"%X\" % n\n",
      "A=hex2dec('41')#\n",
      "B=hex2dec('54') \n",
      "Y=A+B# \n",
      "X=dec2hex(Y)#\n",
      "print ('Sum =')\n",
      "print (X)#\n",
      "print('in hexadecimal \\n')\n",
      "if Y>255:             ## checking the carry flag.\n",
      "    print ('CY=1 \\n \\n')   \n",
      "else:\n",
      "    print ('CY=0 \\n \\n')\n",
      "\n",
      "if Y>127:            ## checking the sign flag.\n",
      "    print ('S=1 \\n \\n')\n",
      "else:\n",
      "    print ('S=0 \\n \\n')\n",
      "\n",
      "if Y>0:               ## checking the zero flag.\n",
      "    print ('Z=0 \\n \\n')\n",
      "else:\n",
      "    print ('Z=1 \\n \\n')\n",
      "\n",
      "\n",
      "\n"
     ],
     "language": "python",
     "metadata": {},
     "outputs": [
      {
       "output_type": "stream",
       "stream": "stdout",
       "text": [
        "Sum =\n",
        "95\n",
        "in hexadecimal \n",
        "\n",
        "CY=0 \n",
        " \n",
        "\n",
        "S=1 \n",
        " \n",
        "\n",
        "Z=0 \n",
        " \n",
        "\n"
       ]
      }
     ],
     "prompt_number": 9
    }
   ],
   "metadata": {}
  }
 ]
}