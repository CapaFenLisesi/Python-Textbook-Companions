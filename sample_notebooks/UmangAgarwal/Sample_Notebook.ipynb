Sample Notebook - Heat and Mass Transfer by R.K. Rajput : Chapter 1 - Basic Concepts
author: Umang Agarwal


# Example 1.1  Page 16-17

L=.045;   		 			#[m] - Thickness of conducting wall
delT = 350 - 50;  		      #[C] - Temperature Difference across the Wall
k=370;    					#[W/m.C] - Thermal Conductivity of Wall Material
#calculations
#Using Fourier's Law eq 1.1
q = k*delT/(L*10**6);    			#[MW/m^2] - Heat Flux
#results
print '%s %.2f %s' %("\n \n Rate of Heat Transfer per unit area =",q," W");
#END

# Example 1.2  Page 17

L = .15;   		 			#[m] - Thickness of conducting wall
delT = 150 - 45;  		      #[C] - Temperature Difference across the Wall
A = 4.5;                           #[m^2] - Wall Area
k=9.35;    					#[W/m.C] - Thermal Conductivity of Wall Material
#calculations
#Using Fourier's Law eq 1.1
Q = k*A*delT/L;    			#[W] - Heat Transfer
#Temperature gradient using Fourier's Law
TG = - Q/(k*A);                   #[C/m] - Temperature Gradient
#results
print '%s %.2f %s' %("\n \n Rate of Heat Transfer per unit area =",Q," W");
print '%s %.2f %s' %("\n \n The Temperature Gradient in the flow direction =",TG," C/m");
#END

# Example 1.3  Page 17-18

x = .0825;   		 			#[m] - Thickness of side wall of the conducting oven
delT = 175 - 75;  		      #[C] - Temperature Difference across the Wall
k=0.044;   					#[W/m.C] - Thermal Conductivity of Wall Insulation
Q = 40.5;                          #[W] - Energy dissipitated by the electric coil withn the oven  
#calculations
#Using Fourier's Law eq 1.1
A = (Q*x)/(k*delT);    		#[m^2] - Area of wall
#results
print '%s %.2f %s' %("\n \n Area of the wall =",A," m^2");
#END

# Example 1.4  Page 18-19

delT = 300-20;  		            #[C] - Temperature Difference across the Wall
h = 20;    					#[W/m^2.C] - Convective Heat Transfer Coefficient
A = 1*1.5;                           #[m^2] - Wall Area
#calculations
#Using Newton's Law of cooling eq 1.6
Q = h*A*delT;        			#[W] - Heat Transfer
#results
print '%s %.2f %s' %("\n \n Rate of Heat Transfer =",Q," W");
#END

# Example 1.5  Page 19

L=.15;   		 			#[m] - Length of conducting wire
d = 0.0015;                       #[m] - Diameter of conducting wire
A = 22*d*L/7;                     #[m^2] - Surface Area exposed to Convection
delT = 120 - 100;  		      #[C] - Temperature Difference across the Wire
h = 4500;    					#[W/m^2.C] - Convective Heat Transfer Coefficient
print 'Electric Power to be supplied = Convective Heat loss';
#calculations
#Using Newton's Law of cooling eq 1.6
Q = h*A*delT;        			#[W] - Heat Transfer
Q = round(Q,1);
#results
print '%s %.2f %s' %("\n \n Rate of Heat Transfer =",Q," W");
#END

# Example 1.6  Page 20-21

T1 = 300 + 273;  		                  #[K] - Temperature of 1st surface
T2 = 40 + 273;                           #[K] - Temperature of 2nd surface
A = 1.5;                                 #[m^2] - Surface Area
F = 0.52;    				       #[dimensionless] - The value of Factor due geometric location and emissivity
sigma = 5.67*(10**-8)                    #(W/(m^2 * K^4)) - Stephen - Boltzmann Constant
#calculations
#Using Stephen-Boltzmann Law eq 1.9
Q = F*sigma*A*(T1**4 - T2**4)   	    #[W] - Heat Transfer
#Equivalent Thermal Resistance using eq 1.10
Rth = (T1-T2)/Q;                     #[C/W] - Equivalent Thermal Resistance
#Equivalent convectoin coefficient using h*A*(T1-T2) = Q
h = Q/(A*(T1-T2));                   #[W/(m^2*C)] - Equivalent Convection Coefficient
#results
print '%s %.2f %s' %("\n \n Rate of Heat Transfer =",Q," W");
print '%s %.2f %s' %("\n The equivalent thermal resistance =",Rth," C/W");
print '%s %.2f %s' %("\n The equivalent convection coefficient =",h," W/(m^2 * C)");
#END

# Example 1.7  Page 21-22

L = 0.025;                                #[m] - Thickness of plate
A = 0.6*0.9;                              #[m^2] - Area of plate   
Ts = 310;  		                         #[C] - Surface Temperature of plate
Tf = 15;                                  #[C] - Temperature of fluid(air)
h = 22;    					       #[W/m^2.C] - Convective Heat Transfer Coefficient
Qr = 250;    				       #[W] - Heat lost from the plate due to radiation
k = 45;    					       #[W/m.C] - Thermal Conductivity of Plate
#calculations
# In this problem, heat conducted by the plate is removed by a combination of convection and radiation
# Heat conducted through the plate = Convection Heat losses + Radiation Losses
# If Ti is the internal plate temperature, then heat conducted = k*A*(Ts-Ti)/L
Qc = h*A*(Ts-Tf);                        #[W] - Convection Heat Loss
Ti = Ts + L*(Qc + Qr)/(A*k);   	       #[C] - Inside plate Temperature
#results
print '%s %.2f %s' %("\n \n Rate of Heat Transfer =",Ti," C");
#END

# Example 1.8  Page 22

Ts = 250;  		                         #[C] - Surface Temperature
Tsurr = 110;                              #[C] - Temperature of surroundings
h = 75;    					       #[W/m^2.C] - Convective Heat Transfer Coefficient
F = 1;    				             #[dimensionless] - The value of Factor due geometric location and emissivity
sigma = 5.67*(10**-8)                    #(W/(m^2 * K^4)) - Stephen - Boltzmann Constant
k = 10;    					       #[W/m.C] - Thermal Conductivity of Solid
#calculations
# Heat conducted through the plate = Convection Heat losses + Radiation Losses
qr = F*sigma*((Ts+273)**4-(Tsurr+273)**4)    #[W/m^2] - #[W] - Heat lost per unit area from the plate due to radiation
qc = h*(Ts-Tsurr);                           #[W/m^2] - Convection Heat Loss per unit area
TG = -(qc+qr)/k;   	                      #[C/m] - Temperature Gradient
#results
print '%s %.2f %s' %("\n \n The temperature Gradient =",TG," C/m");
#END
