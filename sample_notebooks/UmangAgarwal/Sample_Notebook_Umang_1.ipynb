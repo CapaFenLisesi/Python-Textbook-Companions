{
 "cells": [
  {
   "cell_type": "markdown",
   "metadata": {},
   "source": [
    "# BASIC CONCEPTS"
   ]
  },
  {
   "cell_type": "markdown",
   "metadata": {},
   "source": [
    "# Example 1.1 Page 16-17"
   ]
  },
  {
   "cell_type": "code",
   "execution_count": 6,
   "metadata": {
    "collapsed": false
   },
   "outputs": [
    {
     "name": "stdout",
     "output_type": "stream",
     "text": [
      "\n",
      " \n",
      " Rate of Heat Transfer per unit area = 0.74  W\n"
     ]
    }
   ],
   "source": [
    "# L=.045;   \t\t \t\t\t#[m] - Thickness of conducting wall\n",
    "delT = 350 - 50;  \t\t      #[C] - Temperature Difference across the Wall\n",
    "k=370;    \t\t\t\t\t#[W/m.C] - Thermal Conductivity of Wall Material\n",
    "#calculations\n",
    "#Using Fourier's Law eq 1.1\n",
    "q = k*delT/(L*10**6);    \t\t\t#[MW/m^2] - Heat Flux\n",
    "#results\n",
    "print '%s %.2f %s' %(\"\\n \\n Rate of Heat Transfer per unit area =\",q,\" W\");\n",
    "#END"
   ]
  },
  {
   "cell_type": "markdown",
   "metadata": {
    "collapsed": true
   },
   "source": [
    "# Example 1.2 Page 17"
   ]
  },
  {
   "cell_type": "code",
   "execution_count": 7,
   "metadata": {
    "collapsed": false
   },
   "outputs": [
    {
     "name": "stdout",
     "output_type": "stream",
     "text": [
      "\n",
      " \n",
      " Rate of Heat Transfer per unit area = 29452.50  W\n",
      "\n",
      " \n",
      " The Temperature Gradient in the flow direction = -700.00  C/m\n"
     ]
    }
   ],
   "source": [
    "L = .15;   \t\t \t\t\t#[m] - Thickness of conducting wall\n",
    "delT = 150 - 45;  \t\t      #[C] - Temperature Difference across the Wall\n",
    "A = 4.5;                           #[m^2] - Wall Area\n",
    "k=9.35;    \t\t\t\t\t#[W/m.C] - Thermal Conductivity of Wall Material\n",
    "#calculations\n",
    "#Using Fourier's Law eq 1.1\n",
    "Q = k*A*delT/L;    \t\t\t#[W] - Heat Transfer\n",
    "#Temperature gradient using Fourier's Law\n",
    "TG = - Q/(k*A);                   #[C/m] - Temperature Gradient\n",
    "#results\n",
    "print '%s %.2f %s' %(\"\\n \\n Rate of Heat Transfer per unit area =\",Q,\" W\");\n",
    "print '%s %.2f %s' %(\"\\n \\n The Temperature Gradient in the flow direction =\",TG,\" C/m\");\n",
    "#END"
   ]
  },
  {
   "cell_type": "markdown",
   "metadata": {},
   "source": [
    "# Example 1.3 Page 17-18"
   ]
  },
  {
   "cell_type": "code",
   "execution_count": 8,
   "metadata": {
    "collapsed": false
   },
   "outputs": [
    {
     "name": "stdout",
     "output_type": "stream",
     "text": [
      "\n",
      " \n",
      " Area of the wall = 0.76  m^2\n"
     ]
    }
   ],
   "source": [
    "x = .0825;   \t\t \t\t\t#[m] - Thickness of side wall of the conducting oven\n",
    "delT = 175 - 75;  \t\t      #[C] - Temperature Difference across the Wall\n",
    "k=0.044;   \t\t\t\t\t#[W/m.C] - Thermal Conductivity of Wall Insulation\n",
    "Q = 40.5;                          #[W] - Energy dissipitated by the electric coil withn the oven  \n",
    "#calculations\n",
    "#Using Fourier's Law eq 1.1\n",
    "A = (Q*x)/(k*delT);    \t\t#[m^2] - Area of wall\n",
    "#results\n",
    "print '%s %.2f %s' %(\"\\n \\n Area of the wall =\",A,\" m^2\");\n",
    "#END\n"
   ]
  },
  {
   "cell_type": "markdown",
   "metadata": {},
   "source": [
    "# Example 1.4 Page 18-19"
   ]
  },
  {
   "cell_type": "code",
   "execution_count": 9,
   "metadata": {
    "collapsed": false
   },
   "outputs": [
    {
     "name": "stdout",
     "output_type": "stream",
     "text": [
      "\n",
      " \n",
      " Rate of Heat Transfer = 8400.00  W\n"
     ]
    }
   ],
   "source": [
    "delT = 300-20;  \t\t            #[C] - Temperature Difference across the Wall\n",
    "h = 20;    \t\t\t\t\t#[W/m^2.C] - Convective Heat Transfer Coefficient\n",
    "A = 1*1.5;                           #[m^2] - Wall Area\n",
    "#calculations\n",
    "#Using Newton's Law of cooling eq 1.6\n",
    "Q = h*A*delT;        \t\t\t#[W] - Heat Transfer\n",
    "#results\n",
    "print '%s %.2f %s' %(\"\\n \\n Rate of Heat Transfer =\",Q,\" W\");\n",
    "#END"
   ]
  },
  {
   "cell_type": "markdown",
   "metadata": {},
   "source": [
    "# Example 1.5 Page 19"
   ]
  },
  {
   "cell_type": "code",
   "execution_count": 10,
   "metadata": {
    "collapsed": false
   },
   "outputs": [
    {
     "name": "stdout",
     "output_type": "stream",
     "text": [
      "Electric Power to be supplied = Convective Heat loss\n",
      "\n",
      " \n",
      " Rate of Heat Transfer = 63.60  W\n"
     ]
    }
   ],
   "source": [
    "L=.15;   \t\t \t\t\t#[m] - Length of conducting wire\n",
    "d = 0.0015;                       #[m] - Diameter of conducting wire\n",
    "A = 22*d*L/7;                     #[m^2] - Surface Area exposed to Convection\n",
    "delT = 120 - 100;  \t\t      #[C] - Temperature Difference across the Wire\n",
    "h = 4500;    \t\t\t\t\t#[W/m^2.C] - Convective Heat Transfer Coefficient\n",
    "print 'Electric Power to be supplied = Convective Heat loss';\n",
    "#calculations\n",
    "#Using Newton's Law of cooling eq 1.6\n",
    "Q = h*A*delT;        \t\t\t#[W] - Heat Transfer\n",
    "Q = round(Q,1);\n",
    "#results\n",
    "print '%s %.2f %s' %(\"\\n \\n Rate of Heat Transfer =\",Q,\" W\");\n",
    "#END"
   ]
  },
  {
   "cell_type": "markdown",
   "metadata": {},
   "source": [
    "# Example 1.6 Page 20-21"
   ]
  },
  {
   "cell_type": "code",
   "execution_count": 11,
   "metadata": {
    "collapsed": false
   },
   "outputs": [
    {
     "name": "stdout",
     "output_type": "stream",
     "text": [
      "\n",
      " \n",
      " Rate of Heat Transfer = 4343.08  W\n",
      "\n",
      " The equivalent thermal resistance = 0.06  C/W\n",
      "\n",
      " The equivalent convection coefficient = 11.14  W/(m^2 * C)\n"
     ]
    }
   ],
   "source": [
    "T1 = 300 + 273;  \t\t                  #[K] - Temperature of 1st surface\n",
    "T2 = 40 + 273;                           #[K] - Temperature of 2nd surface\n",
    "A = 1.5;                                 #[m^2] - Surface Area\n",
    "F = 0.52;    \t\t\t\t       #[dimensionless] - The value of Factor due geometric location and emissivity\n",
    "sigma = 5.67*(10**-8)                    #(W/(m^2 * K^4)) - Stephen - Boltzmann Constant\n",
    "#calculations\n",
    "#Using Stephen-Boltzmann Law eq 1.9\n",
    "Q = F*sigma*A*(T1**4 - T2**4)   \t    #[W] - Heat Transfer\n",
    "#Equivalent Thermal Resistance using eq 1.10\n",
    "Rth = (T1-T2)/Q;                     #[C/W] - Equivalent Thermal Resistance\n",
    "#Equivalent convectoin coefficient using h*A*(T1-T2) = Q\n",
    "h = Q/(A*(T1-T2));                   #[W/(m^2*C)] - Equivalent Convection Coefficient\n",
    "#results\n",
    "print '%s %.2f %s' %(\"\\n \\n Rate of Heat Transfer =\",Q,\" W\");\n",
    "print '%s %.2f %s' %(\"\\n The equivalent thermal resistance =\",Rth,\" C/W\");\n",
    "print '%s %.2f %s' %(\"\\n The equivalent convection coefficient =\",h,\" W/(m^2 * C)\");\n",
    "#END"
   ]
  },
  {
   "cell_type": "markdown",
   "metadata": {},
   "source": [
    "# Example 1.7 Page 21-22"
   ]
  },
  {
   "cell_type": "code",
   "execution_count": 12,
   "metadata": {
    "collapsed": false
   },
   "outputs": [
    {
     "name": "stdout",
     "output_type": "stream",
     "text": [
      "\n",
      " \n",
      " Rate of Heat Transfer = 313.86  C\n"
     ]
    }
   ],
   "source": [
    "L = 0.025;                                #[m] - Thickness of plate\n",
    "A = 0.6*0.9;                              #[m^2] - Area of plate   \n",
    "Ts = 310;  \t\t                         #[C] - Surface Temperature of plate\n",
    "Tf = 15;                                  #[C] - Temperature of fluid(air)\n",
    "h = 22;    \t\t\t\t\t       #[W/m^2.C] - Convective Heat Transfer Coefficient\n",
    "Qr = 250;    \t\t\t\t       #[W] - Heat lost from the plate due to radiation\n",
    "k = 45;    \t\t\t\t\t       #[W/m.C] - Thermal Conductivity of Plate\n",
    "#calculations\n",
    "# In this problem, heat conducted by the plate is removed by a combination of convection and radiation\n",
    "# Heat conducted through the plate = Convection Heat losses + Radiation Losses\n",
    "# If Ti is the internal plate temperature, then heat conducted = k*A*(Ts-Ti)/L\n",
    "Qc = h*A*(Ts-Tf);                        #[W] - Convection Heat Loss\n",
    "Ti = Ts + L*(Qc + Qr)/(A*k);   \t       #[C] - Inside plate Temperature\n",
    "#results\n",
    "print '%s %.2f %s' %(\"\\n \\n Rate of Heat Transfer =\",Ti,\" C\");\n",
    "#END"
   ]
  },
  {
   "cell_type": "markdown",
   "metadata": {
    "collapsed": false
   },
   "source": [
    "# Example 1.8 Page 22"
   ]
  },
  {
   "cell_type": "code",
   "execution_count": 13,
   "metadata": {
    "collapsed": false
   },
   "outputs": [
    {
     "name": "stdout",
     "output_type": "stream",
     "text": [
      "\n",
      " \n",
      " The temperature Gradient = -1352.21  C/m\n"
     ]
    }
   ],
   "source": [
    "Ts = 250;  \t\t                         #[C] - Surface Temperature\n",
    "Tsurr = 110;                              #[C] - Temperature of surroundings\n",
    "h = 75;    \t\t\t\t\t       #[W/m^2.C] - Convective Heat Transfer Coefficient\n",
    "F = 1;    \t\t\t\t             #[dimensionless] - The value of Factor due geometric location and emissivity\n",
    "sigma = 5.67*(10**-8)                    #(W/(m^2 * K^4)) - Stephen - Boltzmann Constant\n",
    "k = 10;    \t\t\t\t\t       #[W/m.C] - Thermal Conductivity of Solid\n",
    "#calculations\n",
    "# Heat conducted through the plate = Convection Heat losses + Radiation Losses\n",
    "qr = F*sigma*((Ts+273)**4-(Tsurr+273)**4)    #[W/m^2] - #[W] - Heat lost per unit area from the plate due to radiation\n",
    "qc = h*(Ts-Tsurr);                           #[W/m^2] - Convection Heat Loss per unit area\n",
    "TG = -(qc+qr)/k;   \t                      #[C/m] - Temperature Gradient\n",
    "#results\n",
    "print '%s %.2f %s' %(\"\\n \\n The temperature Gradient =\",TG,\" C/m\");\n",
    "#END"
   ]
  }
 ],
 "metadata": {
  "kernelspec": {
   "display_name": "Python 2",
   "language": "python",
   "name": "python2"
  },
  "language_info": {
   "codemirror_mode": {
    "name": "ipython",
    "version": 2
   },
   "file_extension": ".py",
   "mimetype": "text/x-python",
   "name": "python",
   "nbconvert_exporter": "python",
   "pygments_lexer": "ipython2",
   "version": "2.7.10"
  }
 },
 "nbformat": 4,
 "nbformat_minor": 0
}
