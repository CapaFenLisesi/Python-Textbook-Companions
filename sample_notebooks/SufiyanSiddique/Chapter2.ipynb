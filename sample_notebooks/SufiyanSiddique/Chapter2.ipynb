{
 "cells": [
  {
   "cell_type": "markdown",
   "metadata": {},
   "source": [
    "# Chapter 2 : Amplification"
   ]
  },
  {
   "cell_type": "markdown",
   "metadata": {},
   "source": [
    "### Example 6.1, page 92"
   ]
  },
  {
   "cell_type": "code",
   "execution_count": 27,
   "metadata": {
    "collapsed": false
   },
   "outputs": [
    {
     "name": "stdout",
     "output_type": "stream",
     "text": [
      "Ouput voltage of and amplifier = 15.2 V\n"
     ]
    }
   ],
   "source": [
    "#Initialisation\n",
    "Ri=1000                    #Input Resistance of amplifier in Ohm\n",
    "Rs=100                    #Output Resistance of sensor in Ohm\n",
    "Rl=50                     #Load Resistance\n",
    "Ro=10                    #Output Resistance of amplifier in Ohm\n",
    "Av=10                     #Voltage gain\n",
    "Vs=2                       #Sensor voltage\n",
    "\n",
    "#Calculation\n",
    "Vi=(Ri*Vs)*(Rs+Ri)**-1               #Input Voltage of Amplifier\n",
    "Vo=Av*Vi*Rl/(Ro+Rl)               #Output Voltage of Amplifier\n",
    "\n",
    "#Result\n",
    "print'Ouput voltage of and amplifier = %.1f V'%Vo\n"
   ]
  },
  {
   "cell_type": "markdown",
   "metadata": {},
   "source": [
    "### Example 6.2, page 93"
   ]
  },
  {
   "cell_type": "code",
   "execution_count": 10,
   "metadata": {
    "collapsed": false
   },
   "outputs": [
    {
     "name": "stdout",
     "output_type": "stream",
     "text": [
      "Voltage Gain, Av = 8.35\n"
     ]
    }
   ],
   "source": [
    "#Initialisation\n",
    "Vo=15.2               #Output Voltage of Amplifier\n",
    "Vi=1.82               #Input Voltage of Amplifier\n",
    "\n",
    "#Calculation\n",
    "Av=Vo/Vi                     #Voltage gain\n",
    "\n",
    "#Result\n",
    "print'Voltage Gain, Av = %.2f'%Av"
   ]
  },
  {
   "cell_type": "markdown",
   "metadata": {},
   "source": [
    "### Example 6.3, page 94"
   ]
  },
  {
   "cell_type": "code",
   "execution_count": 11,
   "metadata": {
    "collapsed": false
   },
   "outputs": [
    {
     "name": "stdout",
     "output_type": "stream",
     "text": [
      "Ouput voltage of and amplifier = 20.0 V\n"
     ]
    }
   ],
   "source": [
    "#Initialisation\n",
    "Av=10                     #Voltage gain\n",
    "Vi=2                      #Input Voltage of Amplifier\n",
    "Rl=50                     #Load Resistance\n",
    "Ro=0                    #Output Resistance of amplifier in Ohm\n",
    "\n",
    "\n",
    "#Calculation\n",
    "Vo=Av*Vi*Rl/(Ro+Rl)               #Output Voltage of Amplifier\n",
    "\n",
    "#Result\n",
    "print'Ouput voltage of and amplifier = %.1f V'%Vo"
   ]
  },
  {
   "cell_type": "markdown",
   "metadata": {},
   "source": [
    "### Example 6.4, page 96"
   ]
  },
  {
   "cell_type": "code",
   "execution_count": 13,
   "metadata": {
    "collapsed": false
   },
   "outputs": [
    {
     "name": "stdout",
     "output_type": "stream",
     "text": [
      "Output Power, Po = 4.6 W\n"
     ]
    }
   ],
   "source": [
    "#Initialisation\n",
    "Vo=15.2                               #Output Voltage\n",
    "Rl=50                                 #Load Resistance\n",
    "\n",
    "#Calculation \n",
    "Po=(Vo**2)/Rl                           #Output Power\n",
    "\n",
    "#Result\n",
    "print'Output Power, Po = %.1f W'%Po"
   ]
  },
  {
   "cell_type": "markdown",
   "metadata": {},
   "source": [
    "### Example 6.5, page 98"
   ]
  },
  {
   "cell_type": "code",
   "execution_count": 29,
   "metadata": {
    "collapsed": false
   },
   "outputs": [
    {
     "name": "stdout",
     "output_type": "stream",
     "text": [
      "Power Gain, Ap = 1395\n"
     ]
    }
   ],
   "source": [
    "#Initialisation\n",
    "Vi=1.82                     #Input Voltage of Amplifier\n",
    "Ri=1000                    #Input Resistance of amplifier in Ohm\n",
    "Vo=15.2                     #Output Voltage of Amplifier\n",
    "Rl=50                     #Load Resistance\n",
    "\n",
    "\n",
    "#Calculation\n",
    "Pi=(Vi**2)*Ri**-1                #Input Power in Watt\n",
    "Po=(Vo**2)*Rl**-1                #Output Power in Watt\n",
    "Ap=Po*Pi**-1                   #Power Gain\n",
    "\n",
    "\n",
    "#Result\n",
    "print'Power Gain, Ap = %d'%Ap\n"
   ]
  },
  {
   "cell_type": "markdown",
   "metadata": {},
   "source": [
    "### Example 6.6, page 99"
   ]
  },
  {
   "cell_type": "code",
   "execution_count": 30,
   "metadata": {
    "collapsed": false
   },
   "outputs": [
    {
     "name": "stdout",
     "output_type": "stream",
     "text": [
      "Power Gain (dB) = 31.5 dB\n"
     ]
    }
   ],
   "source": [
    "import math \n",
    "\n",
    "#Initialisation\n",
    "P=1400                          #Power gain\n",
    "\n",
    "#Calculation\n",
    "pdb=10*math.log10(P)                 #Power Gain in dB\n",
    "\n",
    "#Result\n",
    "print'Power Gain (dB) = %.1f dB'%pdb\n"
   ]
  },
  {
   "cell_type": "markdown",
   "metadata": {},
   "source": []
  }
 ],
 "metadata": {
  "anaconda-cloud": {},
  "kernelspec": {
   "display_name": "Python [Root]",
   "language": "python",
   "name": "Python [Root]"
  },
  "language_info": {
   "codemirror_mode": {
    "name": "ipython",
    "version": 2
   },
   "file_extension": ".py",
   "mimetype": "text/x-python",
   "name": "python",
   "nbconvert_exporter": "python",
   "pygments_lexer": "ipython2",
   "version": "2.7.12"
  }
 },
 "nbformat": 4,
 "nbformat_minor": 0
}
