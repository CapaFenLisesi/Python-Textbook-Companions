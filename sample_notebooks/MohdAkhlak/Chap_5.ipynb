{
 "metadata": {
  "name": "",
  "signature": "sha256:9f01cac55dab0916c25f5aa305301e717abd0c0dfe79622c411a98125bbfc8e6"
 },
 "nbformat": 3,
 "nbformat_minor": 0,
 "worksheets": [
  {
   "cells": [
    {
     "cell_type": "heading",
     "level": 1,
     "metadata": {},
     "source": [
      "Chapter - 5 : High Frequency And High Power Devices"
     ]
    },
    {
     "cell_type": "heading",
     "level": 2,
     "metadata": {},
     "source": [
      "Example -  5.1 : Page No - 194"
     ]
    },
    {
     "cell_type": "code",
     "collapsed": false,
     "input": [
      "from __future__ import division\n",
      "from numpy import pi, sqrt\n",
      "#Given data\n",
      "C1= 5  # in pF\n",
      "C1= C1*10**-12 # in F\n",
      "C2= 50  # in pF\n",
      "C2= C2*10**-12 # in F\n",
      "L= 10 # in mH\n",
      "L= L*10**-3 # in H\n",
      "TuningRange= 1/(2*pi*sqrt(L*C1*C2/(C1+C2))) # in Hz\n",
      "print \" The tuning range for the circuit = %0.3f kHz\" %(TuningRange*10**-3)"
     ],
     "language": "python",
     "metadata": {},
     "outputs": [
      {
       "output_type": "stream",
       "stream": "stdout",
       "text": [
        " The tuning range for the circuit = 746.503 kHz\n"
       ]
      }
     ],
     "prompt_number": 1
    },
    {
     "cell_type": "heading",
     "level": 2,
     "metadata": {},
     "source": [
      "Example -  5.2 : Page No - 195"
     ]
    },
    {
     "cell_type": "code",
     "collapsed": false,
     "input": [
      "#Given data\n",
      "C_T1= 15  # in pF\n",
      "Vb1=8 # in V\n",
      "Vb2= 12   # in V\n",
      "# As C_T proportional to 1/sqrt(Vb), and \n",
      "# C_T1/C_T2= sqrt(Vb2/Vb1), so\n",
      "C_T2= C_T1*sqrt(Vb1/Vb2) # in pF\n",
      "print \" The value of C_T2 = %0.2f pF\" %C_T2"
     ],
     "language": "python",
     "metadata": {},
     "outputs": [
      {
       "output_type": "stream",
       "stream": "stdout",
       "text": [
        " The value of C_T2 = 12.25 pF\n"
       ]
      }
     ],
     "prompt_number": 4
    },
    {
     "cell_type": "heading",
     "level": 2,
     "metadata": {},
     "source": [
      "Example -  5.3 : Page No - 195"
     ]
    },
    {
     "cell_type": "code",
     "collapsed": false,
     "input": [
      "#Given data\n",
      "epsilon_Ge= 16/(36*pi*10**-11) # in f/C\n",
      "A=10**-12 \n",
      "d=2*10**-4 # in cm\n",
      "# C_T= epsilon_0*A/d= epsilon_Ge*A/d\n",
      "C_T= epsilon_Ge*A/d #in pF\n",
      "print \" The space charge capacitance = %0.2f pF\" %C_T"
     ],
     "language": "python",
     "metadata": {},
     "outputs": [
      {
       "output_type": "stream",
       "stream": "stdout",
       "text": [
        " The space charge capacitance = 70.74 pF\n"
       ]
      }
     ],
     "prompt_number": 5
    },
    {
     "cell_type": "heading",
     "level": 2,
     "metadata": {},
     "source": [
      "Example -  5.4 : Page No - 196"
     ]
    },
    {
     "cell_type": "code",
     "collapsed": false,
     "input": [
      "#Given data\n",
      "D= 0.102 # in cm\n",
      "sigma_P= 0.286 # in \u03a9cm\n",
      "q= 1.6*10**-19 # in C\n",
      "miuP= 500 \n",
      "Vb= 5+0.35 #in V\n",
      "A= pi*D**2/4 # in cm**2\n",
      "N_A= sigma_P/(q*miuP) # at/c\n",
      "C_T= 2.92*10**-4*(N_A/Vb)**(1/2)*A # \n",
      "print \" The value of transition = %0.2f pf/cm**2\" %C_T"
     ],
     "language": "python",
     "metadata": {},
     "outputs": [
      {
       "output_type": "stream",
       "stream": "stdout",
       "text": [
        " The value of transition = 61.68 pf/cm**2\n"
       ]
      }
     ],
     "prompt_number": 6
    },
    {
     "cell_type": "heading",
     "level": 2,
     "metadata": {},
     "source": [
      "Example -  5.5 : Page No - 196"
     ]
    },
    {
     "cell_type": "code",
     "collapsed": false,
     "input": [
      "#Given data\n",
      "epsilon= 12/(36*pi*10**11) # in F/cm  (value of epsilon for silicon)\n",
      "q= 1.6*10**-19 # in C\n",
      "# C_T= epsilon*A/d , where d= 2*epsilon*Vi/(q*NA)**(/2)\n",
      "# Hence    C_T/A= epsilon/d= sqrt(q*epsilon/2)*sqrt(NA/Vi)\n",
      "# Let \n",
      "value = sqrt(q*epsilon/2) \n",
      "print \"C_T= %0.1e sqrt(NA/Vi) pF/cm**2\"  %(value*10**12)"
     ],
     "language": "python",
     "metadata": {},
     "outputs": [
      {
       "output_type": "stream",
       "stream": "stdout",
       "text": [
        "C_T= 2.9e-04 sqrt(NA/Vi) pF/cm**2\n"
       ]
      }
     ],
     "prompt_number": 7
    },
    {
     "cell_type": "heading",
     "level": 2,
     "metadata": {},
     "source": [
      "Example -  5.6 : Page No - 197"
     ]
    },
    {
     "cell_type": "code",
     "collapsed": false,
     "input": [
      "#Given data\n",
      "V1= 5 # in V\n",
      "IncreaseInVolt= 1.5 # in V\n",
      "C_T1= 20 # in pF\n",
      "# Formula C_T= lamda/sqrt(V)\n",
      "lamda= C_T1*sqrt(V1) \n",
      "# When\n",
      "V2= V1+IncreaseInVolt # in V\n",
      "C_T2= lamda/sqrt(V2) \n",
      "print \" The decrease in capacitance = %0.2f pF\" %(C_T1-C_T2)"
     ],
     "language": "python",
     "metadata": {},
     "outputs": [
      {
       "output_type": "stream",
       "stream": "stdout",
       "text": [
        " The decrease in capacitance = 2.46 pF\n"
       ]
      }
     ],
     "prompt_number": 8
    },
    {
     "cell_type": "heading",
     "level": 2,
     "metadata": {},
     "source": [
      "Example -  5.7 : Page No - 198"
     ]
    },
    {
     "cell_type": "code",
     "collapsed": false,
     "input": [
      "#Given data\n",
      "Vf= 0.7 # in V\n",
      "If= 10 # in mA\n",
      "If= If*10**-3 # in A\n",
      "toh= 70 # in ns\n",
      "Cd= toh*If/Vf # in nf\n",
      "print \" Diffusion capacitance for a si diode = %0.f nf\" %Cd"
     ],
     "language": "python",
     "metadata": {},
     "outputs": [
      {
       "output_type": "stream",
       "stream": "stdout",
       "text": [
        " Diffusion capacitance for a si diode = 1 nf\n"
       ]
      }
     ],
     "prompt_number": 9
    },
    {
     "cell_type": "heading",
     "level": 2,
     "metadata": {},
     "source": [
      "Example -  5.8 : Page No - 198"
     ]
    },
    {
     "cell_type": "code",
     "collapsed": false,
     "input": [
      "#Given data\n",
      "N_A= 4*10**20 # per m**3\n",
      "Vi= 0.2 # in V\n",
      "q= 1.6*10**-19 \n",
      "V= -1 # in V\n",
      "A= 0.8*10**-6 #/ in m**2\n",
      "epsilon_r= 16 \n",
      "epsilon_o= 8.854*10**-12 # in F\n",
      "epsilon= epsilon_o*epsilon_r \n",
      "d= (2*epsilon*(Vi-V)/(q*N_A))**(1/2) \n",
      "C_T= epsilon*A/d # in F\n",
      "print \" The transition capacitance = %0.2f pF\" %(C_T*10**12)"
     ],
     "language": "python",
     "metadata": {},
     "outputs": [
      {
       "output_type": "stream",
       "stream": "stdout",
       "text": [
        " The transition capacitance = 49.17 pF\n"
       ]
      }
     ],
     "prompt_number": 11
    }
   ],
   "metadata": {}
  }
 ]
}