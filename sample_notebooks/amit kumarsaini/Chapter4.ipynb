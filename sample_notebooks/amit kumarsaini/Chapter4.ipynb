{
 "metadata": {
  "name": "",
  "signature": "sha256:52168f8cf69a70c4ff180e7d64c2bf193739db268ee5cdc6db9f3696c7774225"
 },
 "nbformat": 3,
 "nbformat_minor": 0,
 "worksheets": [
  {
   "cells": [
    {
     "cell_type": "heading",
     "level": 1,
     "metadata": {},
     "source": [
      "Chapter4-Basic Terms of Physics and Engineering"
     ]
    },
    {
     "cell_type": "heading",
     "level": 2,
     "metadata": {},
     "source": [
      "Ex1-pg61"
     ]
    },
    {
     "cell_type": "code",
     "collapsed": false,
     "input": [
      "#find the area piston for given parameters\n",
      "#given\n",
      "a=3.\n",
      "#diameter squared\n",
      "#calculation\n",
      "A=0.785*3**2\n",
      "print\"%s %.2f %s\"%(\"area of piston \",A,\"\")\n"
     ],
     "language": "python",
     "metadata": {},
     "outputs": [
      {
       "output_type": "stream",
       "stream": "stdout",
       "text": [
        "area of piston  7.07 \n"
       ]
      }
     ],
     "prompt_number": 1
    },
    {
     "cell_type": "heading",
     "level": 2,
     "metadata": {},
     "source": [
      "Ex2-pg62"
     ]
    },
    {
     "cell_type": "code",
     "collapsed": false,
     "input": [
      "#given\n",
      "#find the area of piston and displacement of that piston\n",
      "a=3.\n",
      "b=4.\n",
      "A=0.785*3**2\n",
      "print\"%s %.2f %s\"%(\"area of piston \",A,\"\")\n",
      "D=A*b\n",
      "#by using above results\n",
      "print\"%s %.2f %s\"%(\"displacement of piston \",D,\"cu in\")"
     ],
     "language": "python",
     "metadata": {},
     "outputs": [
      {
       "output_type": "stream",
       "stream": "stdout",
       "text": [
        "area of piston  7.07 \n",
        "displacement of piston  28.26 cu in\n"
       ]
      }
     ],
     "prompt_number": 2
    },
    {
     "cell_type": "heading",
     "level": 2,
     "metadata": {},
     "source": [
      "Ex3-pg63"
     ]
    },
    {
     "cell_type": "code",
     "collapsed": false,
     "input": [
      "#given\n",
      "#find the piston speed\n",
      "pa=9.\n",
      "S=1600.\n",
      "#average piston velocity =distance traveld/time to travel\n",
      "#first divide by 1 min and u will get same result late divide by 12 because to express per minute\n",
      "Ps=(pa*S)/(12.)\n",
      "print\"%s %.2f %s\"%(\"piston speed \",Ps,\"ft per min\")"
     ],
     "language": "python",
     "metadata": {},
     "outputs": [
      {
       "output_type": "stream",
       "stream": "stdout",
       "text": [
        "piston speed  1200.00 ft per min\n"
       ]
      }
     ],
     "prompt_number": 3
    },
    {
     "cell_type": "heading",
     "level": 2,
     "metadata": {},
     "source": [
      "Ex4-pg65"
     ]
    },
    {
     "cell_type": "code",
     "collapsed": false,
     "input": [
      "#given\n",
      "#compute the average acceleration  `\n",
      "#pressure= force/area\n",
      "#first express the velocity in ft per sec.time\n",
      "t=5.\n",
      "v=9000.\n",
      "Min=(9000./60.)\n",
      "Aa=(Min/t)\n",
      "print\"%s %.2f %s\"%(\"average acceleration\",Aa,\"ft per sec^2\")"
     ],
     "language": "python",
     "metadata": {},
     "outputs": [
      {
       "output_type": "stream",
       "stream": "stdout",
       "text": [
        "average acceleration 30.00 ft per sec^2\n"
       ]
      }
     ],
     "prompt_number": 4
    },
    {
     "cell_type": "heading",
     "level": 2,
     "metadata": {},
     "source": [
      "Ex5-pg65"
     ]
    },
    {
     "cell_type": "code",
     "collapsed": false,
     "input": [
      "#compute the pressure force\n",
      "#given\n",
      "w=12000.\n",
      "p=6.\n",
      "a=10**2\n",
      "f=p*a\n",
      "P=w/f\n",
      "print\"%s %.2f %s\"%(\"pressure  \",P,\"Psi\")"
     ],
     "language": "python",
     "metadata": {},
     "outputs": [
      {
       "output_type": "stream",
       "stream": "stdout",
       "text": [
        "pressure   20.00 Psi\n"
       ]
      }
     ],
     "prompt_number": 5
    },
    {
     "cell_type": "heading",
     "level": 2,
     "metadata": {},
     "source": [
      "Ex6-pg66"
     ]
    },
    {
     "cell_type": "code",
     "collapsed": false,
     "input": [
      "#given\n",
      "#compute the gas force action on pistion \n",
      "#use the figure to compute it \n",
      "p=500.\n",
      "D=5**2\n",
      "#force=pressure*area\n",
      "area=0.785*D\n",
      "F=p*area\n",
      "print\"%s %.2f %s\"%(\"force \",F,\"lb\")"
     ],
     "language": "python",
     "metadata": {},
     "outputs": [
      {
       "output_type": "stream",
       "stream": "stdout",
       "text": [
        "force  9812.50 lb\n"
       ]
      }
     ],
     "prompt_number": 6
    }
   ],
   "metadata": {}
  }
 ]
}