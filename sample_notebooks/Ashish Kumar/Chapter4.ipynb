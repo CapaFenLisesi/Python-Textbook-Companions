{
 "metadata": {
  "name": "",
  "signature": "sha256:941e56f6ccff5ba339ab866b08ad29bc1dd7198143616d650879efd5b419c50b"
 },
 "nbformat": 3,
 "nbformat_minor": 0,
 "worksheets": [
  {
   "cells": [
    {
     "cell_type": "heading",
     "level": 1,
     "metadata": {},
     "source": [
      "Chapter4 - Antenna Arrays"
     ]
    },
    {
     "cell_type": "heading",
     "level": 2,
     "metadata": {},
     "source": [
      "Example No. 4.9.1 : page-116"
     ]
    },
    {
     "cell_type": "code",
     "collapsed": false,
     "input": [
      "import math\n",
      "#Given Data\n",
      "le=100.0  #m\n",
      "Irms=450.0  #A\n",
      "f=40000.0  #Hz\n",
      "c=3*10**8  #m/s (Speed of light)\n",
      "l=c/f  #wavelenght in m\n",
      "P=160*math.pi**2*(le/l)**2*Irms**2  #mW\n",
      "Rr=160*math.pi**2*(le/l)**2  #\u03a9\n",
      "P*=10**-3  #W\n",
      "print \"Power radiated is %0.2f W \" %P\n",
      "print \"Radiation resistance is %0.2f \u03a9\" %Rr"
     ],
     "language": "python",
     "metadata": {},
     "outputs": [
      {
       "output_type": "stream",
       "stream": "stdout",
       "text": [
        "Power radiated is 56.85 W \n",
        "Radiation resistance is 0.28 \u03a9\n"
       ]
      }
     ],
     "prompt_number": 13
    },
    {
     "cell_type": "heading",
     "level": 2,
     "metadata": {},
     "source": [
      "Example No. 4.9.5 : page-119"
     ]
    },
    {
     "cell_type": "code",
     "collapsed": false,
     "input": [
      "import math\n",
      "#Given Data\n",
      "L=1.0  #m(Length of element)\n",
      "f=10.0  #MHz(Operating frequency)\n",
      "c=3*10**8  #m/s##Speed of light\n",
      "l=c/(f*10**6)  #m(Wavelength)\n",
      "Rr=80*math.pi**2*(L/l)**2  #\u03a9(Radiation resistance)\n",
      "print \"Radiation resistance is %0.2f \u03a9\" %Rr"
     ],
     "language": "python",
     "metadata": {},
     "outputs": [
      {
       "output_type": "stream",
       "stream": "stdout",
       "text": [
        "Radiation resistance is 0.88 \u03a9\n"
       ]
      }
     ],
     "prompt_number": 15
    },
    {
     "cell_type": "heading",
     "level": 2,
     "metadata": {},
     "source": [
      "Example No. 4.9.4 : page-126"
     ]
    },
    {
     "cell_type": "code",
     "collapsed": false,
     "input": [
      "import math\n",
      "#Data given\n",
      "#l=lambda/8\n",
      "lBYlambda=1.0/8  #(length/Wavelength)\n",
      "Rr=80*math.pi**2*(lBYlambda)**2  #\u03a9(Radiation resistance)\n",
      "print \"Radiation resistance is %0.2f \u03a9\" % Rr"
     ],
     "language": "python",
     "metadata": {},
     "outputs": [
      {
       "output_type": "stream",
       "stream": "stdout",
       "text": [
        "Radiation resistance is 12.34 \u03a9\n"
       ]
      }
     ],
     "prompt_number": 19
    },
    {
     "cell_type": "heading",
     "level": 2,
     "metadata": {},
     "source": [
      "Example No. 4.9.3 : page-129"
     ]
    },
    {
     "cell_type": "code",
     "collapsed": false,
     "input": [
      "import math\n",
      "#Data given\n",
      "le=10.0  #m(effective length)\n",
      "Rl=1.5  #\u03a9(resistance)\n",
      "Irms=450.0  #A(rms current)\n",
      "c=3*10**8  #m/s##Speed of light\n",
      "l=c/(f*10**3)  #m(Wavelength)\n",
      "P=160*math.pi**2*(le/l)**2*Irms**2  #kW(Power)\n",
      "P=P*1000  #W(Power)\n",
      "Rr=160*math.pi**2*(le/l)**2  #\u03a9(Radiation resistance)\n",
      "Eta=Rr/(Rr+Rl)*100  #%(Efficiency)\n",
      "print \"Efficiency of antenna is %0.2f %%\" %Eta"
     ],
     "language": "python",
     "metadata": {},
     "outputs": [
      {
       "output_type": "stream",
       "stream": "stdout",
       "text": [
        "Efficiency of antenna is 0.01 %\n"
       ]
      }
     ],
     "prompt_number": 26
    },
    {
     "cell_type": "heading",
     "level": 2,
     "metadata": {},
     "source": [
      "Example No. 4.6.1 : page-132"
     ]
    },
    {
     "cell_type": "code",
     "collapsed": false,
     "input": [
      "import math\n",
      "#Data Given \n",
      "l=1  #m\n",
      "Prad=4  #W\n",
      "f=1.5  #MHz\n",
      "c=3*10**8  #m/s##Speed of light\n",
      "l=c/(f*10**6)  #m\n",
      "#here l/lambda<1/50 tells us it is a Hertzian monopole antenna\n",
      "h=1  #m\n",
      "Rr=40*math.pi**2*(h/l)**2  #m\u03a9\n",
      "Io=(2*Prad/Rr)**1.0/2  #A\n",
      "print \"Current required is %0.2f  A \"% Io"
     ],
     "language": "python",
     "metadata": {},
     "outputs": [
      {
       "output_type": "stream",
       "stream": "stdout",
       "text": [
        "Current required is 405.28  A \n"
       ]
      }
     ],
     "prompt_number": 31
    },
    {
     "cell_type": "heading",
     "level": 2,
     "metadata": {},
     "source": [
      "Example No. 4.5.1 : page-136"
     ]
    },
    {
     "cell_type": "code",
     "collapsed": false,
     "input": [
      "# Data given\n",
      "f=500.0  #MHz(Operating Frequency)\n",
      "Do=1.643  #for half wave dipole\n",
      "c=3*10**8  #m/s##Speed of light\n",
      "l=c/(f*10**6)  #m(Wavelength)\n",
      "Aem=l**2/(4*math.pi)*Do  #m\u00b2(Effective area)\n",
      "print \"Effective area is %0.2f m\u00b2\" %Aem"
     ],
     "language": "python",
     "metadata": {},
     "outputs": [
      {
       "output_type": "stream",
       "stream": "stdout",
       "text": [
        "Effective area is 0.05 m\u00b2\n"
       ]
      }
     ],
     "prompt_number": 34
    },
    {
     "cell_type": "heading",
     "level": 2,
     "metadata": {},
     "source": [
      "Example No. 4.9.2 : page-139"
     ]
    },
    {
     "cell_type": "code",
     "collapsed": false,
     "input": [
      "import math\n",
      "# Data given\n",
      "le=61.4  #m\n",
      "Irms=50  #A\n",
      "l=625  #m\n",
      "P=160*math.pi**2*(le/l)**2*Irms**2  #kW\n",
      "Rr=160*math.pi**2*(le/l)**2  #\u03a9\n",
      "P*=10**-3 #kW\n",
      "print \"Power radiated is %0.2f kW\" %P\n",
      "print \"Radiation resistance is %0.2f \u03a9\"% Rr"
     ],
     "language": "python",
     "metadata": {},
     "outputs": [
      {
       "output_type": "stream",
       "stream": "stdout",
       "text": [
        "Power radiated is 38.10 kW\n",
        "Radiation resistance is 15.24 \u03a9\n"
       ]
      }
     ],
     "prompt_number": 37
    }
   ],
   "metadata": {}
  }
 ]
}