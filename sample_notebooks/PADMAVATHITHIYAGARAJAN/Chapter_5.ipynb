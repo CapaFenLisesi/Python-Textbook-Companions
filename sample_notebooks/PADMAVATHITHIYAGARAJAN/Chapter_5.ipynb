{
 "metadata": {
  "name": "Chapter 5"
 },
 "nbformat": 3,
 "nbformat_minor": 0,
 "worksheets": [
  {
   "cells": [
    {
     "cell_type": "heading",
     "level": 1,
     "metadata": {},
     "source": "Chapter 5 , Resistance and Wire Size"
    },
    {
     "cell_type": "heading",
     "level": 2,
     "metadata": {},
     "source": "Problem 5.5, Page number: 48"
    },
    {
     "cell_type": "code",
     "collapsed": false,
     "input": "from __future__ import division\n\n#Comparing the Resistances of wires\n\n#Initialization\n\nA10=10380                         #Area in cmil\n\nA14=4106                          #Area in cmil\n\nfrom decimal import *\n\n#Calculation\n\nR14_R10=A10/A14\n\nprint \"The no. 14 wire has\",round(R14_R10,2),\"times as much resistance as the no. 10 wire\"",
     "language": "python",
     "metadata": {},
     "outputs": [
      {
       "output_type": "stream",
       "stream": "stdout",
       "text": "The no. 14 wire has 2.53 times as much resistance as the no. 10 wire\n"
      }
     ],
     "prompt_number": 3
    },
    {
     "cell_type": "code",
     "collapsed": false,
     "input": "",
     "language": "python",
     "metadata": {},
     "outputs": []
    }
   ],
   "metadata": {}
  }
 ]
}