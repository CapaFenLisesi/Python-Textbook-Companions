{
 "metadata": {
  "name": "",
  "signature": ""
 },
 "nbformat": 3,
 "nbformat_minor": 0,
 "worksheets": [
  {
   "cells": [
    {
     "cell_type": "heading",
     "level": 1,
     "metadata": {},
     "source": [
      "Ch-6 Xrays"
     ]
    },
    {
     "cell_type": "heading",
     "level": 2,
     "metadata": {},
     "source": [
      "Ex6.1 : Wavelength of X-rays: Pg: 156"
     ]
    },
    {
     "cell_type": "code",
     "collapsed": false,
     "input": [
      "h = 6.6e-034;    # Planck's constant, J-s\n",
      "V = 50000;    # Potential difference, volts\n",
      "c = 3e+08;    # Velocity of light, m/s\n",
      "e = 1.6e-019;    # Charge of an electron, coulombs\n",
      "L_1 = h*c/(e*V);    # wavelength of X-rays, m\n",
      "L = L_1/1e-010;    # wavelength of X-rays, angstorm\n",
      "print \"\\nThe shortest wavelength of X-rays = %6.4f angstorm\" % L"
     ],
     "language": "python",
     "metadata": {},
     "outputs": [
      {
       "output_type": "stream",
       "stream": "stdout",
       "text": [
        "\n",
        "The shortest wavelength of X-rays = 0.2475 angstorm\n"
       ]
      }
     ],
     "prompt_number": 5
    },
    {
     "cell_type": "heading",
     "level": 2,
     "metadata": {},
     "source": [
      "Ex6.2 : Planck's constant: Pg: 156"
     ]
    },
    {
     "cell_type": "code",
     "collapsed": false,
     "input": [
      "L = 24.7e-012;    # Wavelength of X-rays, m\n",
      "V = 50000;    # Potential difference, volts\n",
      "c = 3e+08;    # Velocity of light, m/s\n",
      "e = 1.6e-019;    # Charge of an electron, coulombs\n",
      "# Since e*V = h*c/L;    # Energy required by an electron to move through a potential barrier of one volt, joules\n",
      "# solving for h\n",
      "h = e*V*L/c;    # Planck's constant, Joule second\n",
      "print \"h = %3.1e Js \" %h"
     ],
     "language": "python",
     "metadata": {},
     "outputs": [
      {
       "output_type": "stream",
       "stream": "stdout",
       "text": [
        "h = 6.6e-34 Js \n"
       ]
      }
     ],
     "prompt_number": 8
    },
    {
     "cell_type": "heading",
     "level": 2,
     "metadata": {},
     "source": [
      "Ex6.3 : Short wavelength limit : Pg: 156"
     ]
    },
    {
     "cell_type": "code",
     "collapsed": false,
     "input": [
      "V = 50000;    # Potential difference, volts\n",
      "h = 6.624e-034;    # Planck's constant, Js\n",
      "c = 3e+08;    # Velocity of light, m/s\n",
      "e = 1.6e-019;    # Charge of an electron, coulombs\n",
      "# Since e*V = h*c/L;    # Energy required by an electron to move through a potential barrier of one volt, joules\n",
      "# solving for L\n",
      "L = h*c/(e*V);    # Short wavelength limit of X-ray, m\n",
      "print \"Short wavelength limit of X-ray = %6.4f angstorm\" %(L/1E-10)"
     ],
     "language": "python",
     "metadata": {},
     "outputs": [
      {
       "output_type": "stream",
       "stream": "stdout",
       "text": [
        "Short wavelength limit of X-ray = 0.2484 angstorm\n"
       ]
      }
     ],
     "prompt_number": 11
    },
    {
     "cell_type": "heading",
     "level": 2,
     "metadata": {},
     "source": [
      "Ex6.4 : Wavelength limit of X-rays : Pg: 157"
     ]
    },
    {
     "cell_type": "code",
     "collapsed": false,
     "input": [
      "V = 20000;    # Potential difference, volt\n",
      "h = 6.624e-034;    # Planck's constant, Js\n",
      "c = 3e+08;    # Velocity of light, m/s\n",
      "e = 1.6e-019;    # Charge of an electron, coulombs\n",
      "# Since e*V = h*c/L;    # Energy required by an electron to move through a potential barrier of one volt, joules\n",
      "# solving for L\n",
      "L = h*c/(e*V);    # Wavelength limit of X-rays, m\n",
      "print \"Short wavelength limit of X-ray = %6.4f angstorm\" % (L/1E-010);"
     ],
     "language": "python",
     "metadata": {},
     "outputs": [
      {
       "output_type": "stream",
       "stream": "stdout",
       "text": [
        "Short wavelength limit of X-ray = 0.6210 angstorm\n"
       ]
      }
     ],
     "prompt_number": 16
    },
    {
     "cell_type": "heading",
     "level": 2,
     "metadata": {},
     "source": [
      "Ex6.5 : Minimum voltage of an X-ray tube : Pg: 157"
     ]
    },
    {
     "cell_type": "code",
     "collapsed": false,
     "input": [
      "h = 6.625e-034;    # Planck's constant, Js\n",
      "c = 3e+08;    # Velocity of light, m/s\n",
      "e = 1.6e-019;    # Charge of an electron, coulombs\n",
      "L = 1e-010;    # Wavelength of X-rays, m\n",
      "# Since e*V = h*c/L;    # Energy required by an electron to move through a potential barrier of one volt, joules\n",
      "# solving for V\n",
      "V = h*c/(L*e);    # Potential difference, volts\n",
      "print \"The minimum voltage of an X-ray tube = %5.2f kV\"%(V/1e+03);"
     ],
     "language": "python",
     "metadata": {},
     "outputs": [
      {
       "output_type": "stream",
       "stream": "stdout",
       "text": [
        "The minimum voltage of an X-ray tube = 12.42 kV\n"
       ]
      }
     ],
     "prompt_number": 17
    },
    {
     "cell_type": "heading",
     "level": 2,
     "metadata": {},
     "source": [
      "Ex6.5 : Minimum voltage of an X-ray tube : Pg: 157"
     ]
    },
    {
     "cell_type": "code",
     "collapsed": false,
     "input": [
      "h = 6.625e-034;    # Planck's constant, Js\n",
      "c = 3e+08;    # Velocity of light, m/s\n",
      "e = 1.6e-019;    # Charge of an electron, coulombs\n",
      "L = 1e-010;    # Wavelength of X-rays, m\n",
      "# Since e*V = h*c/L;    # Energy required by an electron to move through a potential barrier of one volt, joules\n",
      "# solving for V\n",
      "V = h*c/(L*e);    # Potential difference, volts\n",
      "print \"The minimum voltage of an X-ray tube = %5.2f kV\"%( V/1e+03)"
     ],
     "language": "python",
     "metadata": {},
     "outputs": [
      {
       "output_type": "stream",
       "stream": "stdout",
       "text": [
        "The minimum voltage of an X-ray tube = 12.42 kV\n"
       ]
      }
     ],
     "prompt_number": 18
    },
    {
     "cell_type": "heading",
     "level": 2,
     "metadata": {},
     "source": [
      "Ex6.6 : Minimum wavelength emitted by an X-ray tube : Pg: 157"
     ]
    },
    {
     "cell_type": "code",
     "collapsed": false,
     "input": [
      "h = 6.625e-034;    # Planck's constant, Js\n",
      "c = 3e+08;    # Velocity of light, m/s\n",
      "e = 1.6e-019;    # Charge of an electron, coulombs\n",
      "V = 4.5e+04;    # Accelerating potential of X-ray tube, volt\n",
      "# Since e*V = h*c/L_min;    # Energy required by an electron to move through a potential barrier of one volt, joules\n",
      "# solving for L_min\n",
      "L_min = h*c/(V*e);    # Minimum wavelength emitted by an X-ray tube, m\n",
      "print \"The minimum wavelength emitted by the X-ray tube = %5.3f angstrom\"%(L_min/1e-010);"
     ],
     "language": "python",
     "metadata": {},
     "outputs": [
      {
       "output_type": "stream",
       "stream": "stdout",
       "text": [
        "The minimum wavelength emitted by the X-ray tube = 0.276 angstrom\n"
       ]
      }
     ],
     "prompt_number": 20
    },
    {
     "cell_type": "heading",
     "level": 2,
     "metadata": {},
     "source": [
      "Ex6.7: Critical voltage for stimualted emission : Pg: 158"
     ]
    },
    {
     "cell_type": "code",
     "collapsed": false,
     "input": [
      "h = 6.625e-034;    # Planck's constant, Js\n",
      "c = 3e+08;    # Velocity of light, m/s\n",
      "e = 1.6e-019;    # Charge of an electron, coulombs\n",
      "L_k = 0.178e-010;    # Wavelength of k absorption egde of X-rays, m\n",
      "# Since e*V_critical = h*c/L;    # Energy required by an electron to move through a potential barrier of one volt, joules\n",
      "# solving for V_critical\n",
      "V_critical = h*c/(L_k*e);    # Crtical voltage for stimulated enission, volt\n",
      "print \"The critical voltage for stimulated emission = %4.1f kV\"%(V_critical/1e+03);"
     ],
     "language": "python",
     "metadata": {},
     "outputs": [
      {
       "output_type": "stream",
       "stream": "stdout",
       "text": [
        "The critical voltage for stimulated emission = 69.8 kV\n"
       ]
      }
     ],
     "prompt_number": 21
    }
   ],
   "metadata": {}
  }
 ]
}
