{
 "cells": [
  {
   "cell_type": "markdown",
   "metadata": {},
   "source": [
    "#Chapter 7 , Transistor Amplifiers , Biasing and Thermal Stabilization"
   ]
  },
  {
   "cell_type": "markdown",
   "metadata": {
    "collapsed": true
   },
   "source": [
    "##Example 7.1 , Page Number 230"
   ]
  },
  {
   "cell_type": "code",
   "execution_count": 4,
   "metadata": {
    "collapsed": false
   },
   "outputs": [
    {
     "name": "stdout",
     "output_type": "stream",
     "text": [
      " Maximum collector current that can be allowd during any part of the input signal is  3.0 mA.\n",
      "Minimum zero signal collector current required :  1.5 mA.\n",
      "Maximum base current  0.03 mA.\n",
      "Signal voltage (VBE) :  0.75 V.\n"
     ]
    }
   ],
   "source": [
    "#Variables\n",
    "\n",
    "VCC = 10                     #Collector supply voltage (in volts)\n",
    "RC = 3.0 * 10**3             #Collector load resistance (in ohm)\n",
    "Vknee = 1                    #Knee voltage for silicon transistor (in volts)\n",
    "beta = 100                   #Current gain\n",
    "ICperVBE = 4.0 * 10**-3      #Change in IC per volt change in VBE (in Ampere per volt)\n",
    "\n",
    "#Calculation\n",
    "\n",
    "VCmax = VCC - Vknee          #Maximum voltage drop across resistance RC (in volts)\n",
    "ICmax = VCmax/RC             #Maximum allowable collector current (in Ampere)\n",
    "ICzero = ICmax/2             #Zero signal collector current (in Ampere)\n",
    "IBmax = ICmax/beta           #Maximum base current (in Ampere)\n",
    "VBE = ICmax/ICperVBE         #Base-emitter voltage (in volts)\n",
    "\n",
    "#Result\n",
    "\n",
    "print \"Maximum collector current that can be allowd during any part of the input signal is \",ICmax* 10**3,\"mA.\"\n",
    "print \"Minimum zero signal collector current required : \",ICzero*10**3,\"mA.\"\n",
    "print \"Maximum base current \",IBmax*10**3,\"mA.\"\n",
    "print \"Signal voltage (VBE) : \",VBE,\"V.\""
   ]
  },
  {
   "cell_type": "markdown",
   "metadata": {
    "collapsed": true
   },
   "source": [
    "##Example 7.2 , Page Number 232 "
   ]
  },
  {
   "cell_type": "code",
   "execution_count": 7,
   "metadata": {
    "collapsed": false
   },
   "outputs": [
    {
     "name": "stdout",
     "output_type": "stream",
     "text": [
      "Following is the graph showing necessary details : \n"
     ]
    },
    {
     "data": {
      "text/plain": [
       "<matplotlib.text.Text at 0x63c07b0>"
      ]
     },
     "execution_count": 7,
     "metadata": {},
     "output_type": "execute_result"
    },
    {
     "data": {
      "image/png": "[encoded data removed]",
      "text/plain": [
       "<matplotlib.figure.Figure at 0x615d910>"
      ]
     },
     "metadata": {},
     "output_type": "display_data"
    }
   ],
   "source": [
    "import math\n",
    "import numpy\n",
    "%matplotlib inline\n",
    "from matplotlib.pyplot import plot,title,xlabel,ylabel,ylim,xlim,annotate\n",
    "\n",
    "#Variables\n",
    "\n",
    "VCC = 20                        #Collector supply voltage (in volts)\n",
    "RC = 2.0 * 10**3                #Collector load ressitance (in ohm)\n",
    "RE = 3.0 * 10**3                #Emitter resistance (in ohm)  \n",
    "IC = 0                          #Collector current at saturation point (in Ampere)\n",
    "VCE1 = 0                        #Collector-to-emitter voltage at cut-off point (in volts)  \n",
    "\n",
    "#Calculation\n",
    "\n",
    "VCE = VCC - IC*(RC + RE)        #Collector-to-emitter voltage (in volts)\n",
    "IC1 = VCC/(RC + RE)             #Cut-off point collector current (in Ampere)\n",
    "\n",
    "#Result\n",
    "\n",
    "print \"Following is the graph showing necessary details : \"\n",
    "\n",
    "#Graph\n",
    "\n",
    "x = numpy.linspace(0,20,100)\n",
    "y1 = numpy.linspace(0,2,100)\n",
    "x1 = numpy.linspace(0,10,100)\n",
    "plot(x,4-4.0/20*x,'b')\n",
    "plot(x1,2+x1-x1,'--',color='g')\n",
    "plot(10+y1-y1,y1,'--',color='g')\n",
    "annotate('Q - POINT',xy=(10,2))\n",
    "xlim(0,30)\n",
    "ylim(0,6)\n",
    "title(\"DC Load line\")\n",
    "xlabel(\"-VCE in Volts->\")\n",
    "ylabel(\"-IC in mA->\")"
   ]
  },
  {
   "cell_type": "markdown",
   "metadata": {
    "collapsed": true
   },
   "source": [
    "##Example 7.3 , Page Number 237"
   ]
  },
  {
   "cell_type": "code",
   "execution_count": 8,
   "metadata": {
    "collapsed": false
   },
   "outputs": [
    {
     "name": "stdout",
     "output_type": "stream",
     "text": [
      "Q-point will be ICQ =  0.6 mA and VCEQ =  3.0 V.\n"
     ]
    }
   ],
   "source": [
    "#Variables\n",
    "\n",
    "VCC = 6                        #Collector supply voltage (in volts)\n",
    "VBE = 0                        #Emitter-to-base voltage (in volts)\n",
    "RB = 1.0 * 10**6               #base resistance (in ohm)\n",
    "beta = 100                     #Current gain in CE  \n",
    "RC = 5 * 10**3                 #Collector resistance (in ohm)\n",
    "\n",
    "#Calculation\n",
    "\n",
    "IB = VCC/RB                    #Base current (in Ampere)\n",
    "IC = beta*IB                   #Collector current (in Ampere)\n",
    "VCE = VCC - IC*RC              #Collector-to-emitter voltage (in volts) \n",
    "\n",
    "#Result\n",
    "\n",
    "print \"Q-point will be ICQ = \",IC * 10**3,\"mA and VCEQ = \",VCE,\"V.\""
   ]
  },
  {
   "cell_type": "markdown",
   "metadata": {
    "collapsed": true
   },
   "source": [
    "##Example 7.4 , Page Number 237  "
   ]
  },
  {
   "cell_type": "code",
   "execution_count": 12,
   "metadata": {
    "collapsed": false
   },
   "outputs": [
    {
     "name": "stdout",
     "output_type": "stream",
     "text": [
      "Base current :  10.0 micro-A.\n",
      "Collector current :  1.0 mA.\n",
      "VC :  8.0 V.\n",
      "VB :  0.7 V.\n",
      "VCB :  7.3 V.\n",
      "Operating point is ICQ :  1.0 mA and VCEQ :  8.0 V.\n",
      "Stability factof :  101 .\n"
     ]
    }
   ],
   "source": [
    "#Variables\n",
    "\n",
    "VCC = 12                       #Collector supply voltage (in volts)\n",
    "VBE = 0.7                      #Emitter-to-base voltage (in volts)\n",
    "RB = 1130.0 * 10**3            #base resistance (in ohm)\n",
    "beta = 100                     #Current gain in CE  \n",
    "RC = 4 * 10**3                 #Collector resistance (in ohm)\n",
    "\n",
    "#Calculation\n",
    "\n",
    "IB = (VCC-VBE)/RB              #Base current (in Ampere)\n",
    "IC = beta * IB                 #Collector current (in Ampere)\n",
    "VCE = VCC - IC*RC              #Collector-to-emitter voltage (in volts)\n",
    "VC = VCE                       #Collector voltage (in volts)\n",
    "VB = VBE                       #Base voltage (in volts)\n",
    "VCB = VC - VB                  #Collector-to-base voltage (in volts)\n",
    "S = beta + 1                   #Stability factor  \n",
    "\n",
    "#Result\n",
    "\n",
    "print \"Base current : \",IB*10**6,\"micro-A.\"\n",
    "print \"Collector current : \",IC * 10**3,\"mA.\"\n",
    "print \"VC : \",VC,\"V.\\nVB : \",VB,\"V.\\nVCB : \",VCB,\"V.\"\n",
    "print \"Operating point is ICQ : \",IC*10**3,\"mA and VCEQ : \",VC,\"V.\"\n",
    "print \"Stability factof : \",S,\".\""
   ]
  },
  {
   "cell_type": "markdown",
   "metadata": {
    "collapsed": true
   },
   "source": [
    "##Example 7.5 , Page Number 237 "
   ]
  },
  {
   "cell_type": "code",
   "execution_count": 14,
   "metadata": {
    "collapsed": false
   },
   "outputs": [
    {
     "name": "stdout",
     "output_type": "stream",
     "text": [
      "Stability factor :  31.37 .\n"
     ]
    }
   ],
   "source": [
    "#Variables\n",
    "\n",
    "dIC = 1.6 * 10**-3                #Change in collector current (in Ampere)\n",
    "dt = 30                           #Change in temperature (in Celsius degree)\n",
    "ICO = 1.7 * 10**-6                #Reverse saturation current change (in Ampere per Celsius-degree)\n",
    "\n",
    "#Calculation\n",
    "\n",
    "dICO = dt*ICO                     #Change in reverse saturation current (in Ampere) \n",
    "S = dIC/dICO                      #Stability factor  \n",
    "\n",
    "#Result\n",
    "print \"Stability factor : \",round(S,2),\".\"\n"
   ]
  },
  {
   "cell_type": "markdown",
   "metadata": {
    "collapsed": true
   },
   "source": [
    "##Example 7.6 , Page Number 237 "
   ]
  },
  {
   "cell_type": "code",
   "execution_count": 17,
   "metadata": {
    "collapsed": false
   },
   "outputs": [
    {
     "name": "stdout",
     "output_type": "stream",
     "text": [
      "Base current :  28.2 micro-A.\n"
     ]
    }
   ],
   "source": [
    "#Variables\n",
    "\n",
    "VBB = 10.0                        #Base supply voltage (in volts)\n",
    "VBE = 0.7                         #Base-to-emitter voltage (in volts)\n",
    "RB = 330 * 10**3                  #Base resistance (in ohm)\n",
    "\n",
    "#Calculation\n",
    "\n",
    "IB = (VBB - VBE)/RB               #Base current (in Ampere)\n",
    "\n",
    "#Result\n",
    "\n",
    "print \"Base current : \",round(IB*10**6,1),\"micro-A.\""
   ]
  },
  {
   "cell_type": "markdown",
   "metadata": {
    "collapsed": true
   },
   "source": [
    "##Example 7.7 , Page Number 238 "
   ]
  },
  {
   "cell_type": "code",
   "execution_count": 24,
   "metadata": {
    "collapsed": false
   },
   "outputs": [
    {
     "name": "stdout",
     "output_type": "stream",
     "text": [
      "Cut-off point : (0, 6.06 mA).\n",
      "Saturation point : ( 20 V ,0).\n"
     ]
    },
    {
     "data": {
      "text/plain": [
       "<matplotlib.text.Text at 0x6e21990>"
      ]
     },
     "execution_count": 24,
     "metadata": {},
     "output_type": "execute_result"
    },
    {
     "data": {
      "image/png": "[encoded data removed]",
      "text/plain": [
       "<matplotlib.figure.Figure at 0x62e3290>"
      ]
     },
     "metadata": {},
     "output_type": "display_data"
    }
   ],
   "source": [
    "import math\n",
    "import numpy\n",
    "%matplotlib inline\n",
    "from matplotlib.pyplot import plot,title,xlabel,ylabel,ylim,xlim\n",
    "\n",
    "#Variables\n",
    "\n",
    "VCC = 20                         #Collector supply voltage (in volts)\n",
    "RC = 3.3 * 10**3                 #Collector resistance (in ohm)\n",
    "\n",
    "#Calculation\n",
    "\n",
    "IC = VCC/RC                      #Collector current at cut-off point (in Ampere)\n",
    "VCE = 0                          #Collector-to-emitter voltage at cut-off point (in volts) \n",
    "VCE1 = VCC                       #Collector-to-emitter voltage at saturation point (in volts)\n",
    "IC1 = 0                          #Collector current at saturation point (in Ampere)\n",
    "\n",
    "#Result\n",
    "\n",
    "print \"Cut-off point : (0,\",round(IC*10**3,2),\"mA).\"\n",
    "print \"Saturation point : (\",VCE1,\"V ,0).\"\n",
    "\n",
    "#Graph\n",
    "\n",
    "x = numpy.linspace(0,20,100)\n",
    "plot(x,6-6.0/20*x,'b')\n",
    "xlim(0,30)\n",
    "ylim(0,10)\n",
    "title(\"DC Load line\")\n",
    "xlabel(\"-VCE in Volts->\")\n",
    "ylabel(\"-IC in mA->\")"
   ]
  },
  {
   "cell_type": "markdown",
   "metadata": {
    "collapsed": true
   },
   "source": [
    "##Example 7.8 , Page Number 238 "
   ]
  },
  {
   "cell_type": "code",
   "execution_count": 25,
   "metadata": {
    "collapsed": false
   },
   "outputs": [
    {
     "name": "stdout",
     "output_type": "stream",
     "text": [
      "Visualizing that VCE = 0.7 , we can say that transistor is just gone to saturation from active region (not well within saturation).\n"
     ]
    }
   ],
   "source": [
    "#Variables\n",
    "\n",
    "VCC = 20                         #Collector supply voltage (in volts)\n",
    "RB = 1.0 * 10**3                 #Base resistance (in ohm)\n",
    "VBE = 0.7                        #Base-to-emitter voltage (in volts)\n",
    "beta = 100                       #Current gain in CE\n",
    "\n",
    "#Calculation\n",
    "\n",
    "IB = (VCC - VBE)/RB              #Base current (in Ampere)\n",
    "IC = beta *IB                    #Collector current (in Ampere)\n",
    "VCE = VCC - IC*RC                #Collector-to-Emitter voltage (in volts)\n",
    "\n",
    "#Result\n",
    "\n",
    "print \"Visualizing that VCE = 0.7 , we can say that transistor is just gone to saturation from active region (not well within saturation).\""
   ]
  },
  {
   "cell_type": "markdown",
   "metadata": {
    "collapsed": true
   },
   "source": [
    "##Example 7.9 , Page Number 238 "
   ]
  },
  {
   "cell_type": "code",
   "execution_count": 27,
   "metadata": {
    "collapsed": false
   },
   "outputs": [
    {
     "name": "stdout",
     "output_type": "stream",
     "text": [
      "Maximum value of RC for which transistor remains in saturation is  4.667 ohm.\n"
     ]
    }
   ],
   "source": [
    "#Variables\n",
    "\n",
    "VCC = 10                           #Collector supply voltage (in volts)\n",
    "VBB = 5                            #Base supply votlage (in volts)\n",
    "RB = 200 * 10**3                   #Base resistance (in ohm)\n",
    "VBEsat = 0.8                       #Base-to-emitter voltage in saturation state (in volts)\n",
    "VCEsat = 0.2                       #Collector-to-emitter voltage in saturation state (in volts)\n",
    "beta = 100                         #Current gain in CE\n",
    "\n",
    "#Calculation\n",
    "\n",
    "IB = (VBB-VBEsat)/RB               #Base current (in Ampere)\n",
    "IC = beta*IB                       #Collector current (in Ampere)\n",
    "RC = (VCC - VCEsat)/IC             #Collector resistance (in volts)\n",
    "\n",
    "#Result\n",
    "\n",
    "print \"Maximum value of RC for which transistor remains in saturation is \",round(RC*10**-3,3),\"ohm.\""
   ]
  },
  {
   "cell_type": "markdown",
   "metadata": {
    "collapsed": true
   },
   "source": [
    "##Example 7.10 , Page Number 239"
   ]
  },
  {
   "cell_type": "code",
   "execution_count": 29,
   "metadata": {
    "collapsed": false
   },
   "outputs": [
    {
     "name": "stdout",
     "output_type": "stream",
     "text": [
      "IC :  1.98 mA.\n",
      "IB :  0.02 mA.\n",
      "VEE :  2.7 V.\n",
      "VCC :  8.92 V.\n"
     ]
    }
   ],
   "source": [
    "#Variables\n",
    "\n",
    "IE = 2.0 * 10**-3                     #Emitter current (in Ampere)\n",
    "alpha = 0.99                          #Current gain in CB\n",
    "RE = 1.0 * 10**3                      #Emitter resistance (in ohm) \n",
    "VBE = 0.7                             #Base-emitter voltage (in volts) \n",
    "VCB = 1                               #Collector-base voltage (in volts)\n",
    "RC = 4.0 * 10**3                      #Collector resistance (in ohm) \n",
    "\n",
    "#Calculation\n",
    "\n",
    "IC = alpha*IE                         #Collector current (in Ampere)\n",
    "IB = IE - IC                          #Base current (in Ampere)  \n",
    "VEE = IE*RE + VBE                     #Emitter supply voltage (in volts)\n",
    "VCC = IC*RC + VCB                     #Collector supply voltage (in volts)\n",
    "\n",
    "#Result\n",
    "\n",
    "print \"IC : \",IC * 10**3,\"mA.\\nIB : \",IB * 10**3,\"mA.\\nVEE : \",VEE,\"V.\\nVCC : \",VCC,\"V.\"\n",
    "\n",
    "#Slight variation due to higher precision in the value of VCC."
   ]
  },
  {
   "cell_type": "markdown",
   "metadata": {
    "collapsed": true
   },
   "source": [
    "##Example 7.11 , Page Number 239 "
   ]
  },
  {
   "cell_type": "code",
   "execution_count": 6,
   "metadata": {
    "collapsed": false
   },
   "outputs": [
    {
     "name": "stdout",
     "output_type": "stream",
     "text": [
      "IB :  5.3 micro-A and IC : 0.54 mA at 25 Celsius degree.\n",
      "IB :  5.375 micro-A and IC : 0.6183 mA at 55 Celsius degree.\n"
     ]
    }
   ],
   "source": [
    "#Variables\n",
    "\n",
    "VCC = 30                          #Collector supply voltage (in volts)\n",
    "VBB = 6                           #Base voltage (in volts)\n",
    "VBE = 0.7                         #Emitter-to-base voltage (in volts)\n",
    "RB = 1.0 * 10**6                  #Base resistance (in ohm)\n",
    "beta = 100                        #Current gain in CB\n",
    "ICBO = 0.1 * 10**-6               #Reverse saturation current (in Ampere) \n",
    "dt = 55-25                        #Change in temperature (in Celsius degree)\n",
    "\n",
    "#Calculation\n",
    "\n",
    "IB = (VBB - VBE)/RB                 #Base current (in Ampere)\n",
    "IC = beta*IB + (beta+1)*ICBO        #Collector current (in Ampere)\n",
    "ICBO55 = ICBO * 2**(dt/10.0)        #ICBO at 55 Celsius degree (in Ampere)\n",
    "VBE55 = 0.7 - 2.5*10**-3*dt         #VBE at 55 Celsius degree (in Ampere)\n",
    "IB55 = (VBB - VBE55)/RB             #Base current at 55 Celsius degree(in Ampere)\n",
    "IC55 = beta*IB55 + (beta+1)*ICBO55  #Collector current 55 Celsius degree (in Ampere)\n",
    "\n",
    "#Result\n",
    "\n",
    "print \"IB : \",round(IB * 10**6,1),\"micro-A and IC :\",round(IC*10**3,2),\"mA at 25 Celsius degree.\"\n",
    "print \"IB : \",round(IB55 * 10**6,3),\"micro-A and IC :\",round(IC55*10**3,4),\"mA at 55 Celsius degree.\"\n",
    "\n",
    "#Slight variation in IC55 due to higher precision."
   ]
  },
  {
   "cell_type": "markdown",
   "metadata": {
    "collapsed": true
   },
   "source": [
    "##Example 7.12 , Page Number 239 "
   ]
  },
  {
   "cell_type": "code",
   "execution_count": 13,
   "metadata": {
    "collapsed": false
   },
   "outputs": [
    {
     "name": "stdout",
     "output_type": "stream",
     "text": [
      "Since , beta is very less than hfe , therefore it is in saturation region.\n",
      "VC : -2.3365 V.\n",
      "Minimum value of RB for which it operates in active region :  36.27  kilo-ohm.\n"
     ]
    }
   ],
   "source": [
    "#Variables\n",
    "\n",
    "hfe = 100                                  #Current gain in CE\n",
    "VBE = 0.8                                  #Base-emitter voltage (in volts)\n",
    "VBB = 3.0                                  #Base supply voltage (in volts)\n",
    "RB = 7.0 * 10**3                           #Base resistance (in ohm)\n",
    "RL = 500                                   #Load resistance (in ohm)\n",
    "RC = 3.0 * 10**3                           #Collector resistance (in ohm)\n",
    "VCC = 10                                   #Collector supply voltage (in volts)  \n",
    "VCE = 1                                    #Collector-emitter voltage (in volts)\n",
    "\n",
    "#Calculation\n",
    "\n",
    "#  7500IB + 500IC = 2.2 ----Eq. 1\n",
    "#  500IB + 2500IC = 9.0 ----Eq. 2\n",
    "IC = 2.55                                  #Collector current (in milli-Ampere)\n",
    "IB = 0.123                                 #Base current (in milli-Ampere)\n",
    "beta = IC/IB                               #Current gain in CB\n",
    "VC = -VCE - (IB + IC)*RL*10**-3            #Collector voltage in saturation (in volts)\n",
    "IBmax = IC/hfe                             #Maximum base current (in milli-Ampere)\n",
    "RB = (VBB - VBE - IC*RL*10**-3 )/IBmax     #Base resistance (in kilo-ohm)\n",
    "\n",
    "#Result\n",
    "\n",
    "print \"Since , beta is very less than hfe , therefore it is in saturation region.\"\n",
    "print \"VC :\",VC,\"V.\"\n",
    "print \"Minimum value of RB for which it operates in active region : \",round(RB,2),\" kilo-ohm.\""
   ]
  },
  {
   "cell_type": "markdown",
   "metadata": {
    "collapsed": true
   },
   "source": [
    "##Example 7.13 , Page Number 242 "
   ]
  },
  {
   "cell_type": "code",
   "execution_count": 16,
   "metadata": {
    "collapsed": false
   },
   "outputs": [
    {
     "name": "stdout",
     "output_type": "stream",
     "text": [
      "R1 :  133.55 kilo-ohm.\n",
      "RC :  4.06 kilo-ohm.\n",
      "S :  18.65 .\n"
     ]
    }
   ],
   "source": [
    "#Variables\n",
    "\n",
    "R2 = 30.0 * 10**3                          #Resistance (in ohm)\n",
    "R1 = 133.55 * 10**3                        #Resistance (in ohm)  \n",
    "alpha = 0.985                              #Current gain in CB\n",
    "VCC = 16                                   #Collector supply voltage (in volts)  \n",
    "VCE = 6                                    #Collector-emitter voltage (in volts)\n",
    "IE = 2.0 * 10**-3                          #Emitter current (in Ampere)\n",
    "IC = alpha*IE                              #Collector current (in Ampere)\n",
    "IB = IE - IC                               #Base current (in Ampere)\n",
    "beta = alpha/(1-alpha)                     #Current gain in CE \n",
    "RE = 1.0 * 10**3                           #Emitter resistance (in ohm)\n",
    "VBE = 0.2                                  #Base-emitter voltage (in volts)\n",
    "\n",
    "#Calculation\n",
    "\n",
    "RC = (VCC - VCE - IE*RE)/IC                #Collector resistance (in ohm)\n",
    "Vth = R2/(R1 + R2)*VCC                     #Voltage across R2 (in volts)\n",
    "Rth = R1*R2/(R1+R2)                        #Thevenin's equivalence resistance (in ohm)\n",
    "S = (1+beta)/(1 + beta*RE/(Rth+RE))        #Stability factor \n",
    "\n",
    "#Result\n",
    "\n",
    "print \"R1 : \",round(R1 * 10**-3,2),\"kilo-ohm.\"\n",
    "print \"RC : \",round(RC * 10**-3,2),\"kilo-ohm.\"\n",
    "print \"S : \",round(S,2),\".\""
   ]
  },
  {
   "cell_type": "markdown",
   "metadata": {
    "collapsed": true
   },
   "source": [
    "##Example 7.14 , Page Number 243 "
   ]
  },
  {
   "cell_type": "code",
   "execution_count": 20,
   "metadata": {
    "collapsed": false
   },
   "outputs": [
    {
     "name": "stdout",
     "output_type": "stream",
     "text": [
      "IB :  0.04 mA.\n",
      "IE :  2.04 mA.\n",
      "Rth :  5.765 kilo-ohm.\n",
      "Vth :  3.4826 V.\n",
      "R1 : 33.1 kilo-ohm.\n",
      "R2 :  6.98 kilo-ohm.\n"
     ]
    }
   ],
   "source": [
    "#Variables\n",
    "\n",
    "beta = 50.0                                #Current gain in CE\n",
    "VBE = 0.6                                  #Base-emitter voltage (in\n",
    "RC = 4.7 * 10**3                           #Collector resistance (in ohm)\n",
    "VCC = 20                                   #Collector supply voltage (in volts)  \n",
    "IC = 2.0 * 10**-3                          #Collector current (in Ampere)\n",
    "VCE = 8                                    #Collector-emitter voltage (in volts)\n",
    "RE = 1.3 * 10**3                           #Emitter resistance (in ohm)\n",
    "S = 5                                      #Stability factor\n",
    "\n",
    "#Calculation\n",
    "\n",
    "IB = IC/beta                               #base current (in Ampere) \n",
    "IE = IB + IC                               #Emitter current (in Ampere)\n",
    "Rth = (S - 1)*RE/(1 -S/(1+beta))           #Thevenin's equivalent resistance (in ohm)\n",
    "Vth = IB * Rth + VBE + IE*RE               #Thevenin's equivalent voltage (in volts)\n",
    "R1 = Rth * VCC/Vth                         #Resistance1 (in ohm)\n",
    "R2 = Vth * R1/(VCC - Vth)                  #Resistance2 (in ohm)\n",
    "\n",
    "#Result\n",
    "\n",
    "print \"IB : \",IB*10**3,\"mA.\"\n",
    "print \"IE : \",IE*10**3,\"mA.\"\n",
    "print \"Rth : \",round(Rth*10**-3,3),\"kilo-ohm.\"\n",
    "print \"Vth : \",round(Vth,4),\"V.\"\n",
    "print \"R1 :\",round(R1*10**-3,1),\"kilo-ohm.\"\n",
    "print \"R2 : \",round(R2*10**-3,2),\"kilo-ohm.\""
   ]
  },
  {
   "cell_type": "markdown",
   "metadata": {
    "collapsed": true
   },
   "source": [
    "##Example 7.15 , Page Number 244 "
   ]
  },
  {
   "cell_type": "code",
   "execution_count": 29,
   "metadata": {
    "collapsed": false
   },
   "outputs": [
    {
     "name": "stdout",
     "output_type": "stream",
     "text": [
      "RC :  5.376  kilo-ohm.\n",
      "RE :  9.75  kilo-ohm.\n",
      "R1 :  248.0  kilo-ohm.\n",
      "R2 :  141.0  kilo-ohm.\n"
     ]
    }
   ],
   "source": [
    "#Variables\n",
    "\n",
    "dICbyIC = 10                     #Percentage change in IC \n",
    "VBE25max = 0.7                   #Max VBE at 25 degree Celsius (in volts)\n",
    "VBE25min = 0.6                   #Min VBE at 25 degree Celsius (in volts)\n",
    "ICO25 = 5 * 10**-9               #Reverse saturation current at 25 degree celsius (in Ampere)\n",
    "ICO145 = 3 * 10**-6              #Reverse saturation current at 145 degree celsius (in Ampere)\n",
    "VCC = 20                         #Collector supply voltage (in volts)\n",
    "VCE = 10                         #Collector-emitter voltage (in volts)\n",
    "\n",
    "#Calculation\n",
    "\n",
    "dIC = 5.0/100 * 0.6              #Change in collector current (in milli-Ampere)\n",
    "dICO = ICO145 - ICO25            #Change in reverse saturation current (in Ampere)\n",
    "S = dIC/dICO                     #Stability factor\n",
    "dVBE = -2.5 * (145 - 25)         #Change in VBE (in volts)\n",
    "SV = dIC/dVBE                    #SV\n",
    "beta = hfe = 400                 #Current gain in CE\n",
    "#Rth + Re = 99750.6 \n",
    "#RE = 391.0/3609 * Rth\n",
    "RE = 9.75                        #Emitter resistance (in kilo-ohm) \n",
    "Rth = 90                         #Thevenin's equivalent resistance (in kilo-ohm)\n",
    "dIC1 = S*ICO145 + SV*dVBE        #Change in collector current1 (in milli-Ampere) \n",
    "IC = 0.6 + dIC1                  #Collector current (in milli- Ampere)  \n",
    "IE = IC + IC/beta                #Emitter current (in milli-Ampere)\n",
    "RC = (VCC - IE*RE - VCE)/IC      #Collector resistance (in ohm)\n",
    "VBE = 0.65                       #emitter-base voltage (in volts)\n",
    "Vth = IC/beta*Rth + VBE + IE*RE  #Thevenin's equivalent voltage (in volts)\n",
    "R1 = Rth * VCC/Vth               #Resistance1 (in kilo-ohm)\n",
    "R2 = Vth * R1/(VCC - Vth)        #Resistance2 (in kilo-ohm)\n",
    "\n",
    "#Result\n",
    "\n",
    "print \"RC : \",round(RC,3),\" kilo-ohm.\\nRE : \",RE,\" kilo-ohm.\\nR1 : \",round(R1),\" kilo-ohm.\\nR2 : \",round(R2),\" kilo-ohm.\""
   ]
  },
  {
   "cell_type": "markdown",
   "metadata": {
    "collapsed": true
   },
   "source": [
    "##Example 7.16 , Page Number 245 "
   ]
  },
  {
   "cell_type": "code",
   "execution_count": 30,
   "metadata": {
    "collapsed": false
   },
   "outputs": [
    {
     "name": "stdout",
     "output_type": "stream",
     "text": [
      "R1 :  36.238 kilo-ohm.\n",
      "RC :  2.5 kilo-ohm.\n"
     ]
    }
   ],
   "source": [
    "#Variables\n",
    "\n",
    "hfe = 100                     #Current gain in CE\n",
    "VBE = 0.7                     #Emitter-base voltage (in volts)\n",
    "ICO = 0                       #Reverse saturation current (in Ampere)\n",
    "IC = 1.0 * 10**-3             #Collector current (in Ampere)\n",
    "VCE = 2.5                     #Collector-emitter voltage (in volts) \n",
    "VCC = 5                       #Collector supply voltage (in volts) \n",
    "R2 = 10 * 10**3               #Resistance2 (in ohm) \n",
    "\n",
    "\n",
    "#Calculation\n",
    "\n",
    "R1 = 36.238 * 10**3           #Resistance1 (in ohm)                    \n",
    "RC = (VCC - VCE)/IC           #Collector resistance (in ohm)        \n",
    "\n",
    "#Result\n",
    "\n",
    "print \"R1 : \",R1*10**-3,\"kilo-ohm.\\nRC : \",RC*10**-3,\"kilo-ohm.\"\n",
    "\n",
    "#Printing mistake in the value of RC in book."
   ]
  },
  {
   "cell_type": "markdown",
   "metadata": {
    "collapsed": true
   },
   "source": [
    "##Example 7.17 , Page Number 245 "
   ]
  },
  {
   "cell_type": "code",
   "execution_count": 41,
   "metadata": {
    "collapsed": false
   },
   "outputs": [
    {
     "name": "stdout",
     "output_type": "stream",
     "text": [
      "VCE :  5.0 V.\n",
      "IE :  1.1 mA.\n"
     ]
    }
   ],
   "source": [
    "#Variables\n",
    "\n",
    "beta = 100                         #Current gain in CE\n",
    "R1 = 10.0 * 10**3                  #Resistance1 (in ohm)\n",
    "R2 = 2.2 * 10**3                   #Resistance2 (in ohm)\n",
    "VCC = 10                           #Collector supply voltage (in volts)\n",
    "RE = 1.0 * 10**3                   #Emitter resistance (in ohm)\n",
    "RC = 3.6 * 10**3                   #Collector resistance (in ohm)\n",
    "VBE = 0.7                          #Base-emitter voltage (in volts) \n",
    "\n",
    "#Calculation\n",
    "\n",
    "RB = R1*R2/(R1+R2)                 #Base resistance (in ohm)\n",
    "Vth = VCC*R2/(R1 + R2)          #Thevenin's voltage (in volts)\n",
    "IE = (Vth - VBE)/(RE - Rth/(beta + 1))        #Emitter current (in Ampere)\n",
    "IC = beta*1.0/(beta + 1)*IE        #Collector current (in Ampere)        \n",
    "VCE = VCC - IC*RC - IE*RE          #Collector-emitter voltage (in volts)  \n",
    "\n",
    "#Result\n",
    "\n",
    "\n",
    "print \"VCE : \",round(VCE),\"V.\\nIE : \",round(IE*10**3,2),\"mA.\"\n",
    "\n",
    "#Slight varaition due to higher precision."
   ]
  },
  {
   "cell_type": "markdown",
   "metadata": {
    "collapsed": true
   },
   "source": [
    "##Example 7.18 , Page Number 246 "
   ]
  },
  {
   "cell_type": "code",
   "execution_count": 43,
   "metadata": {
    "collapsed": false
   },
   "outputs": [
    {
     "name": "stdout",
     "output_type": "stream",
     "text": [
      "VC :  -14.25 V.\n",
      "IB :  -17.62  micro-A\n"
     ]
    }
   ],
   "source": [
    "#Variables\n",
    "\n",
    "beta = 200                         #Current gain in CE\n",
    "R1 = 82.0 * 10**3                  #Resistance1 (in ohm)\n",
    "R2 = 16.0 * 10**3                  #Resistance2 (in ohm)\n",
    "VCC = -22                          #Collector supply voltage (in volts)\n",
    "RE = 750                           #Emitter resistance (in ohm)\n",
    "RC = 2.2 * 10**3                   #Collector resistance (in ohm)\n",
    "VBE = -0.7                         #Base-emitter voltage (in volts) \n",
    "\n",
    "#Calculation\n",
    "\n",
    "Vth = VCC*R2/(R1 + R2)             #Thevenin's equivalent voltage (in volts)\n",
    "Rth = R1*R2/(R1+R2)                #Thevenin's equivalent resistance (in ohm)\n",
    "IB = (Vth - VBE)/(Rth +(beta+1)*RE)#Base current (in Ampere) \n",
    "IC = beta * IB                     #Collector current (in Ampere)\n",
    "VC = VCC - IC*RC                   #Output voltage (in volts)\n",
    "\n",
    "#Result\n",
    "\n",
    "print \"VC : \",round(VC,2),\"V.\"\n",
    "print \"IB : \",round(IB * 10**6,2),\" micro-A\""
   ]
  },
  {
   "cell_type": "markdown",
   "metadata": {
    "collapsed": true
   },
   "source": [
    "##Example 7.19 , Page Number 246"
   ]
  },
  {
   "cell_type": "code",
   "execution_count": 44,
   "metadata": {
    "collapsed": false
   },
   "outputs": [
    {
     "name": "stdout",
     "output_type": "stream",
     "text": [
      "IB :  0.04 mA.\n",
      "IC :  2.0 mA.\n",
      "VCE :  14.0 V.\n",
      "VE :  2.0 V.\n",
      "VB :  2.8 V.\n",
      "VC :  16.0 V.\n"
     ]
    }
   ],
   "source": [
    "#Variables\n",
    "\n",
    "VCC = 20                           #collector supply voltage (in volts)\n",
    "beta = 50                          #Current gain in CE\n",
    "RB = 430.0 * 10**3                 #Base resistance (in ohm) \n",
    "RE = 1.0 * 10**3                   #Emitter resistance (in ohm)\n",
    "RC = 2.0 * 10**3                   #Collector resistance (in ohm)\n",
    "VBE = 0.7                          #Base-emitter voltage (in volts) \n",
    "IC = 2 * 10**-3                    #Collector current (in Ampere)\n",
    "\n",
    "#Calculation\n",
    "\n",
    "VCE = VCC - IC*(RC+RE)             #Collector-emitter voltage (in volts) \n",
    "VC = VCC - RC*IC                   #Output voltage (in volts)\n",
    "VE = VC - VCE                      #Emitter voltage (in volts)\n",
    "IB = 0.04 * 10**-3                 #Base current (in Ampere)\n",
    "IE = (1+beta)*IB                   #Emitter current (in Ampere)\n",
    "VB = VCC - 430*10**3*IB            #Base voltage (in volts)\n",
    "\n",
    "#Result\n",
    "\n",
    "print \"IB : \",IB*10**3,\"mA.\\nIC : \",IC*10**3,\"mA.\\nVCE : \",VCE,\"V.\\nVE : \",VE,\"V.\\nVB : \",VB,\"V.\\nVC : \",VC,\"V.\""
   ]
  },
  {
   "cell_type": "markdown",
   "metadata": {
    "collapsed": true
   },
   "source": [
    "##Example 7.20 , Page Number 246 "
   ]
  },
  {
   "cell_type": "code",
   "execution_count": 52,
   "metadata": {
    "collapsed": false
   },
   "outputs": [
    {
     "name": "stdout",
     "output_type": "stream",
     "text": [
      "Operating point will be ICQ :  2.23 mA , VCEQ :  8.85 V.\n",
      "Stability factor :  7.35 .\n"
     ]
    }
   ],
   "source": [
    "#Variables\n",
    "\n",
    "alpha = 0.985                      #Current gain in CB\n",
    "R1 = 50.0 * 10**3                  #Resistance1 (in ohm)\n",
    "R2 = 20.0 * 10**3                  #Resistance2 (in ohm)\n",
    "VCC = 20                           #Collector supply voltage (in volts)\n",
    "RE = 2.0 * 10**3                   #Emitter resistance (in ohm)\n",
    "RC = 3.0 * 10**3                   #Collector resistance (in ohm)\n",
    "VBE = 0.7                          #Base-emitter voltage (in volts) \n",
    "\n",
    "#Calculation\n",
    "\n",
    "Vth = VCC*R2/(R1 + R2)             #Thevenin's equivalent voltage (in volts)\n",
    "Rth = R1*R2/(R1+R2)                #Thevenin's equivalent resistance (in ohm)\n",
    "beta = alpha/(1-alpha)             #Current gain in CE\n",
    "IB = (Vth - VBE)/(Rth +(beta+1)*RE)#Base current (in Ampere) \n",
    "IC = beta * IB                     #Collector current (in Ampere)\n",
    "VCE = VCC - IC*(RE + RC)           #Collector-emitter voltage (in volts)\n",
    "S = (1 + beta)/(1 + beta*(RE/(Rth + RE))) #Stability factor\n",
    "\n",
    "#Result\n",
    "\n",
    "print \"Operating point will be ICQ : \",round(IC*10**3,2),\"mA , VCEQ : \",round(VCE,2),\"V.\"\n",
    "print \"Stability factor : \",round(S,2),\".\"\n",
    "\n",
    "#Slight variation due to higher precision."
   ]
  },
  {
   "cell_type": "markdown",
   "metadata": {
    "collapsed": true
   },
   "source": [
    "##Example 7.21 , Page Number 247 "
   ]
  },
  {
   "cell_type": "code",
   "execution_count": 53,
   "metadata": {
    "collapsed": false
   },
   "outputs": [
    {
     "name": "stdout",
     "output_type": "stream",
     "text": [
      "R1 :  81.54 kilo-ohm.\n",
      "R2 :  26.5 kilo-ohm.\n"
     ]
    }
   ],
   "source": [
    "#Variables\n",
    "\n",
    "RL = 1.0 * 10**3                    #Load resistance (in ohm) \n",
    "RE = 200                            #Emitter resistance (in ohm)\n",
    "beta = 100                          #Current gain in CE\n",
    "VCC = 9                             #Collector supply voltage (in volts)\n",
    "ICQ = 3.75 * 10**-3                 #Q-point Collector current (in Ampere)\n",
    "VCEQ = 4.5                          #Q-point collector-emitter voltage (in volts)\n",
    "VBE = 0.7                           #Base-emitter voltage (in volts)\n",
    "\n",
    "#Calculation\n",
    "\n",
    "IB = ICQ/beta                       #Base current (in Ampere)\n",
    "IE = (1 + beta)*IB                  #Emitter current (in Ampere)\n",
    "Rth = 20.0 * 10**3                  #Thevenin's eq. resistance (in ohm)\n",
    "Vth = IB*Rth + VBE +IE*RE           #Thevenin's equivalent voltage (in volts)\n",
    "R1 = Rth*VCC/Vth                    #Resistance1 (in ohm)\n",
    "R2 = R1*Vth/(VCC - Vth)             #Resistance2 (in ohm)  \n",
    "\n",
    "#Result\n",
    "\n",
    "print \"R1 : \",round(R1*10**-3,2),\"kilo-ohm.\\nR2 : \",round(R2*10**-3,1),\"kilo-ohm.\""
   ]
  },
  {
   "cell_type": "markdown",
   "metadata": {
    "collapsed": true
   },
   "source": [
    "##Example 7.22 , Page Number 248 "
   ]
  },
  {
   "cell_type": "code",
   "execution_count": 59,
   "metadata": {
    "collapsed": false
   },
   "outputs": [
    {
     "name": "stdout",
     "output_type": "stream",
     "text": [
      "Operating point , Q will be ICQ = 1.9 mA and VCEQ = 9.9 V.\n",
      "Stability factor :  8.62 .\n"
     ]
    }
   ],
   "source": [
    "#Variables\n",
    "\n",
    "VCC = 22.5                         #collector supply voltage (in volts)\n",
    "beta = 55                          #Current gain in CE\n",
    "RB = 430.0 * 10**3                 #Base resistance (in ohm) \n",
    "RE = 1.0 * 10**3                   #Emitter resistance (in ohm)\n",
    "RC = 5.6 * 10**3                   #Collector resistance (in ohm)\n",
    "VBE = 0                            #Base-emitter voltage (in volts) \n",
    "IC = 2 * 10**-3                    #Collector current (in Ampere)\n",
    "R1 = 90 * 10**3                    #Resistance1 (in ohm)\n",
    "R2 = 10 * 10**3                    #Resistance2 (in ohm) \n",
    "\n",
    "#Calculation\n",
    "\n",
    "Rth = R1*R2/(R1+R2)                #Thevenin's eq. resistance (in ohm) \n",
    "Vth = VCC * R2/(R1 + R2)           #Thevenin's eq. voltage (in volts)\n",
    "IB = (Vth - VBE)/(Rth +(beta + 1)*RE)     #Base current (in Ampere)\n",
    "IC = beta*IB                       #Collector current (in Ampere)\n",
    "IE = (beta + 1)*IB                 #Emitter current (in Ampere)\n",
    "VCE = VCC - IC*RC - IE*RE          #Collector-emitter voltage (in volts)\n",
    "S = (1 + beta)/(1 + beta*RE/(Rth + RE))    #Stability factor\n",
    "\n",
    "#Result\n",
    "\n",
    "print \"Operating point , Q will be ICQ =\",round(IC*10**3,2),\"mA and VCEQ =\",VCE,\"V.\"\n",
    "print \"Stability factor : \",round(S,2),\".\"\n",
    "\n",
    "#Slight variation due to higher precision."
   ]
  },
  {
   "cell_type": "markdown",
   "metadata": {
    "collapsed": true
   },
   "source": [
    "##Example 7.23 , Page Number 248"
   ]
  },
  {
   "cell_type": "code",
   "execution_count": 69,
   "metadata": {
    "collapsed": false
   },
   "outputs": [
    {
     "name": "stdout",
     "output_type": "stream",
     "text": [
      "beta :  153.4 .\n",
      "VCC :  17.6842 V.\n",
      "RB :  779.0 kilo-ohm.\n"
     ]
    }
   ],
   "source": [
    "#Variables\n",
    "\n",
    "RC = 2.7 * 10**3                       #Collector resistance (in ohm)\n",
    "RE = 0.68 * 10**3                      #Emitter resistance (in ohm)\n",
    "IB = 20.0 * 10**-6                     #Base current (in Ampere)\n",
    "VCE = 7.3                              #Collector-emitter voltage (in volts)\n",
    "VE = 2.1                               #Emitter voltage (in volts)\n",
    "VBE = 0.7                              #Base-emitter voltage (in volts)\n",
    "\n",
    "#Calculation\n",
    "\n",
    "IE = VE/RE                             #Emitter current (in Ampere)\n",
    "beta = IE/IB - 1                       #Current gain in CE\n",
    "VCC = beta*IB*RC + VCE + IE*RE         #Collector supply voltage (in volts)\n",
    "RB = (VCC - VE)/IB               #Base resistance (in ohm)   \n",
    "\n",
    "#Result\n",
    "\n",
    "print \"beta : \",round(beta,1),\".\\nVCC : \",round(VCC,4),\"V.\\nRB : \",round(RB*10**-3),\"kilo-ohm.\""
   ]
  },
  {
   "cell_type": "markdown",
   "metadata": {},
   "source": [
    "##Example 7.24 , Page Number 249"
   ]
  },
  {
   "cell_type": "code",
   "execution_count": 5,
   "metadata": {
    "collapsed": false
   },
   "outputs": [
    {
     "name": "stdout",
     "output_type": "stream",
     "text": [
      "R1 :  45.0 kilo-ohm.\n",
      "R2 :  9.14 kilo-ohm.\n"
     ]
    }
   ],
   "source": [
    "#Variables\n",
    "\n",
    "beta=hfe = 100.0                  #Current gain in CE\n",
    "VBE = .6                          #Base-emitter voltage (in volts)\n",
    "IC = 1.0 * 10**-3                 #Collector current (in Ampere)\n",
    "S = 8                             #Stability factor\n",
    "VCC = 10                          #Collector supply voltage (in volts)\n",
    "RE = 1.0 * 10**3                  #Emitter resistance (in ohm)                   \n",
    "VCE = 5                           #Collector-emitter resistance (in ohm) \n",
    "\n",
    "#Calculation\n",
    "\n",
    "IB = IC/beta                      #Base current (in Ampere)\n",
    "IE = IC + IB                      #Emitter current (in Ampere)\n",
    "RC = (VCC - VCE - IE*RE)/IC       #Collector resistance (in ohm)\n",
    "Rth = RE*(beta*S/(1+beta-S) -1)   #Thevenin's resistance(in ohm)\n",
    "Vth = IB*Rth + VBE + IE*RE        #Thevenin's eq. voltage (in volts)\n",
    "R1 = Rth*VCC/Vth                  #Resistance1 (in ohm)\n",
    "R2 = (Vth*R1)/(VCC-Vth)           #Resistance2 (in ohm)\n",
    "\n",
    "#Result\n",
    "\n",
    "print \"R1 : \",round(R1*10**-3),\"kilo-ohm.\\nR2 : \",round(R2*10**-3,2),\"kilo-ohm.\"\n",
    "\n",
    "#Slight variation due to higher precision."
   ]
  },
  {
   "cell_type": "markdown",
   "metadata": {},
   "source": [
    "##Example 7.25 , Page Number 249"
   ]
  },
  {
   "cell_type": "code",
   "execution_count": 6,
   "metadata": {
    "collapsed": false
   },
   "outputs": [
    {
     "name": "stdout",
     "output_type": "stream",
     "text": [
      "VCEQ :  3.2 V.\n",
      "ICQ :  1.8 mA.\n"
     ]
    }
   ],
   "source": [
    "#Variables\n",
    "\n",
    "beta = 100                        #Current gain in CE\n",
    "R1 = 2.2 * 10**3                  #Resistance1 (in ohm)\n",
    "R2 = 2.2 * 10**3                  #Resistance2 (in ohm)\n",
    "VBE = 0.7                         #Base-emitter voltage (in volts)\n",
    "RE = 1.0 * 10**3                  #Emitter resistance (in ohm)\n",
    "VCC = 5                           #Collector supply voltage (in volts)\n",
    "\n",
    "#Calculation\n",
    "\n",
    "VA = VCC * R2/(R1 + R2)           #Voltage at A (in volts)\n",
    "IE = (VA - VBE)/RE                #Emitter current (in Ampere)\n",
    "VCEQ = VCC - IE*RE                #Q-point VCE (in volts)\n",
    "ICQ = IE                          #Q-point IC (in Ampere) \n",
    "\n",
    "#Result\n",
    "\n",
    "print \"VCEQ : \",VCEQ,\"V.\"\n",
    "print \"ICQ : \",ICQ * 10**3,\"mA.\""
   ]
  },
  {
   "cell_type": "markdown",
   "metadata": {},
   "source": [
    "##Example 7.26 , Page Number 250"
   ]
  },
  {
   "cell_type": "code",
   "execution_count": 15,
   "metadata": {
    "collapsed": false
   },
   "outputs": [
    {
     "name": "stdout",
     "output_type": "stream",
     "text": [
      "VCEQ :  9.74 V.\n",
      "ICQ :  1.13 mA.\n",
      "IB :  11.3 micro-A.\n"
     ]
    }
   ],
   "source": [
    "#Variables\n",
    "\n",
    "beta = 100                       #current gain in CE \n",
    "VCC = 12                         #Collector supply voltage (in volts)\n",
    "R1 = 15.0 * 10**3                #Resistance1 (in ohm)\n",
    "R2 = 2.7 * 10**3                 #Resistance2 (in ohm)\n",
    "VBE = 0.7                        #Base-emitter voltage (in volts)\n",
    "RE = 1.0 * 10**3                 #Emitter resistance (in ohm)\n",
    "RC = 1.0 * 10**3                 #Collector resistance (in ohm)\n",
    "\n",
    "#Calculation\n",
    "\n",
    "VA = VCC*R2/(R1 + R2)            #Potential at A (in volts)\n",
    "IE = (VA - VBE)/RE               #Emitter current (in Ampere)\n",
    "IC = IE                          #Collector current (in Ampere) \n",
    "VCEQ = VCC - IC*(RC + RE)        #VCE at Q (in volts)\n",
    "ICQ = IE                         #IC at Q (in volts)\n",
    "IB = IC/beta                     #Base current (in Ampere) \n",
    "\n",
    "#Result\n",
    "\n",
    "print \"VCEQ : \",round(VCEQ,2),\"V.\\nICQ : \",round(ICQ*10**3,2),\"mA.\"\n",
    "print \"IB : \",round(IB * 10**6,1),\"micro-A.\""
   ]
  },
  {
   "cell_type": "markdown",
   "metadata": {},
   "source": [
    "##Example 7.27 , Page Number 250"
   ]
  },
  {
   "cell_type": "code",
   "execution_count": 18,
   "metadata": {
    "collapsed": false
   },
   "outputs": [
    {
     "name": "stdout",
     "output_type": "stream",
     "text": [
      "Operation point : ICQ =  1.955 mA , VCQ =  6.224 V.\n",
      "Stability factor :  7.54 .\n"
     ]
    }
   ],
   "source": [
    "#Variables\n",
    "\n",
    "VCC = 16                 #Collector supply voltage (in volts)\n",
    "RC = 3.0 * 10**3         #Collector resistance (in ohm)\n",
    "RE = 2.0 * 10**3         #Emitter resistance (in ohm)\n",
    "R1 = 56.0 * 10**3        #Resistance1 (in ohm)\n",
    "R2 = 20.0 * 10**3        #Resistance2 (in ohm)\n",
    "alpha = 0.985            #Current gain in CB \n",
    "\n",
    "#Calculation\n",
    "\n",
    "beta = alpha/(1-alpha)   #Current gain in CE\n",
    "VBE = 0.3                #Base-emitter voltage (in volts)\n",
    "VB = VCC * R2/(R1 + R2)  #Base voltage (in volts)\n",
    "IC = (VB - VBE)/RE       #Collector current (in Ampere)\n",
    "VCE = VCC - IC*(RE + RC) #Collector-emitter voltage (in volts)\n",
    "Rth = R1*R2/(R1 + R2)    #Thevenin's eq. resistance (in ohm)\n",
    "S = (1 + beta)*(1 + Rth/RE)/(1 + beta + Rth/RE)          #Stability factor\n",
    "\n",
    "#Result\n",
    "\n",
    "print \"Operation point : ICQ = \",round(IC*10**3,3),\"mA , VCQ = \",round(VCE,3),\"V.\"\n",
    "print \"Stability factor : \",round(S,2),\".\""
   ]
  },
  {
   "cell_type": "markdown",
   "metadata": {},
   "source": [
    "##Example 7.28 , Page Number 251"
   ]
  },
  {
   "cell_type": "code",
   "execution_count": 21,
   "metadata": {
    "collapsed": false
   },
   "outputs": [
    {
     "name": "stdout",
     "output_type": "stream",
     "text": [
      "0.002 8.95e-05 0.0018795 3192.33838787 20000.0 8.49\n",
      "R1 :  47.1 kilo-ohm.\n",
      "R2 :  34.75 kilo-ohm.\n"
     ]
    }
   ],
   "source": [
    "#Variables\n",
    "\n",
    "VCC = 20                 #Collector supply voltage (in volts)\n",
    "RL = 4.0 * 10**3         #Load resistance (in ohm)\n",
    "VCE = 6.0                #Collector-emitter voltage (in volts)\n",
    "IC = 2.0 * 10**-3        #Collector current (in Ampere)\n",
    "beta=hfe = 20            #Current gain in CE\n",
    "ICO = 10 * 10**-6        #Reverse saturation current (in Ampere)\n",
    "VBE = 0.7                #Base-emitter voltage (in volts)\n",
    "\n",
    "#Calculation\n",
    "\n",
    "IB = (IC - (1 + beta)*ICO)/beta    #Base current (in Ampere)\n",
    "IC = beta*IB + (1 + beta)*ICO      #Collector current (in Ampere)\n",
    "IE = (beta + 1)*IB                 #Emitter current (in Ampere)\n",
    "RE = (VCC - IC*RL - VCE)/IE        #Emitter resistance (in ohm)\n",
    "Rth = 20.0 * 10**3                 #Thevenin's eq. resistance (in ohm)\n",
    "Vth = IB*Rth + VBE + IE*RE         #Thevenin's eq. voltage (in volts)\n",
    "R1 = Rth*VCC/Vth                   #Resitance1 (in ohm)\n",
    "R2 = R1*Vth/(VCC - Vth)            #Resistance2 (in ohm)  \n",
    "\n",
    "#Result\n",
    "\n",
    "print \"R1 : \",round(R1*10**-3,1),\"kilo-ohm.\\nR2 : \",round(R2*10**-3,2),\"kilo-ohm.\"\n",
    "\n",
    "#Slight variation due to higher precision."
   ]
  },
  {
   "cell_type": "markdown",
   "metadata": {},
   "source": [
    "##Example 7.29 , Page Number 252"
   ]
  },
  {
   "cell_type": "code",
   "execution_count": 26,
   "metadata": {
    "collapsed": false
   },
   "outputs": [
    {
     "name": "stdout",
     "output_type": "stream",
     "text": [
      "Following is the graph: \n"
     ]
    },
    {
     "data": {
      "text/plain": [
       "<matplotlib.text.Text at 0x637cf70>"
      ]
     },
     "execution_count": 26,
     "metadata": {},
     "output_type": "execute_result"
    },
    {
     "data": {
      "image/png": "[encoded data removed]",
      "text/plain": [
       "<matplotlib.figure.Figure at 0x5e39390>"
      ]
     },
     "metadata": {},
     "output_type": "display_data"
    }
   ],
   "source": [
    "import math\n",
    "import numpy\n",
    "%matplotlib inline\n",
    "from matplotlib.pyplot import plot,title,xlabel,ylabel,ylim,xlim,annotate\n",
    "\n",
    "#Variables\n",
    "\n",
    "beta = 100\n",
    "\n",
    "#Calculation\n",
    "\n",
    "ICQ = 1.07                #Collector current at Q-point (in milli-Ampere)\n",
    "VCQ = 5.067               #Collector-emitter voltage at Q-point (in volts)\n",
    "\n",
    "#Result\n",
    "\n",
    "print \"Following is the graph: \"\n",
    "\n",
    "x = numpy.linspace(0,5.07,100)\n",
    "y1 = numpy.linspace(0,1.07/2,100)\n",
    "x1 = numpy.linspace(0,5.067/2,100)\n",
    "plot(x,1.07-1.07/5.07*x,'b')\n",
    "plot(x1,1.07/2+x1-x1,'--',color='g')\n",
    "plot(5.067/2+y1-y1,y1,'--',color='g')\n",
    "annotate('Q - POINT',xy=(5.067/2,1.07/2))\n",
    "xlim(0,6)\n",
    "ylim(0,1.1)\n",
    "title(\"DC Load line\")\n",
    "xlabel(\"-VCE in Volts->\")\n",
    "ylabel(\"-IC in mA->\")"
   ]
  },
  {
   "cell_type": "markdown",
   "metadata": {},
   "source": [
    "##Example 7.30 , Page Number 253"
   ]
  },
  {
   "cell_type": "code",
   "execution_count": 36,
   "metadata": {
    "collapsed": false
   },
   "outputs": [
    {
     "name": "stdout",
     "output_type": "stream",
     "text": [
      "Value of RB : 61.43  kilo-ohm.\n"
     ]
    }
   ],
   "source": [
    "#Variables\n",
    "\n",
    "beta = 50                        #current gain in CE \n",
    "VCC = 12                         #Collector supply voltage (in volts)\n",
    "VBE = 0.7                        #Base-emitter voltage (in volts)\n",
    "RB = 100.0 * 10**3               #Base resistance (in ohm)\n",
    "RC = 2.0 * 10**3                 #Collector resistance (in ohm)\n",
    "\n",
    "#Calculation\n",
    "\n",
    "IB = (VCC - VBE)/(beta*RC + RB)  #Base current (in Ampere)  \n",
    "IC = beta * IB                   #Collector current (in Ampere)\n",
    "VCE = VCC - IC*RC                #Collector-emitter voltage (in volts)\n",
    "VCE1 = 5                         #New collector-emitter voltage (in volts) \n",
    "IC1 = (VCC - VCE1)/RC            #Collector current1 (in Ampere)\n",
    "IB1 = IC1/beta                   #Base current1 (in Ampere)\n",
    "RB1 = (VCC - VBE - beta*IB1*RC)/IB1         #Base resistance1 (in ohm)\n",
    "\n",
    "#Result\n",
    "\n",
    "print \"Value of RB :\",round(RB1*10**-3,2),\" kilo-ohm.\""
   ]
  },
  {
   "cell_type": "markdown",
   "metadata": {},
   "source": [
    "##Example 7.31 , Page Number 254"
   ]
  },
  {
   "cell_type": "code",
   "execution_count": 41,
   "metadata": {
    "collapsed": false
   },
   "outputs": [
    {
     "name": "stdout",
     "output_type": "stream",
     "text": [
      "0.016 0.0158415841584 0.000158415841584\n",
      "Value of collector to base resistance : 25.25 kilo-ohm.\n",
      "Stability factor : 21.0 .\n"
     ]
    }
   ],
   "source": [
    "#Variables\n",
    "\n",
    "beta = 100.0                         #Current gain in CE\n",
    "RC = 1.0 * 10**3                     #Collector resistance (in ohm)\n",
    "VCC = 20.0                           #Collector supply voltage (in volts)\n",
    "VBE = 0                              #Base-emitter voltage (in volts)\n",
    "VCEQ = 4                             #VCE at Q-point (in volts) \n",
    "\n",
    "#Calculation\n",
    "\n",
    "I1C = (VCC - VCEQ)/RC                #Collector current1 (in Ampere)\n",
    "IC = I1C/(1+1/beta)                  #Collector current (in Ampere)\n",
    "IB = I1C - IC                        #base current (in Ampere)\n",
    "RB = (VCEQ + VBE)/IB                 #Base resistance (in ohm)\n",
    "S = (1 + beta)/(1 + beta*RC/(RB + RC))      #Stability factor\n",
    "\n",
    "#Result\n",
    "\n",
    "print \"Value of collector to base resistance :\",RB*10**-3,\"kilo-ohm.\"\n",
    "print \"Stability factor :\",S,\".\"\n",
    "\n",
    "#Slight variation due to higher precision."
   ]
  },
  {
   "cell_type": "markdown",
   "metadata": {},
   "source": [
    "##Example 7.32 , Page Number 254"
   ]
  },
  {
   "cell_type": "code",
   "execution_count": 16,
   "metadata": {
    "collapsed": false
   },
   "outputs": [
    {
     "name": "stdout",
     "output_type": "stream",
     "text": [
      "ICQ :  2.475 mA , VCEQ :  4.95 V.\n",
      "Stability factor :  25.75 .\n"
     ]
    }
   ],
   "source": [
    "#Variables \n",
    "\n",
    "beta = 50                        #Current gain in CB\n",
    "VCC = 10                         #Collector supply voltage (in volts)\n",
    "RC = 2.0 * 10**3                 #Collector resistance (in ohm)\n",
    "VBE = 0                          #Base-emitter voltage (in volts)\n",
    "RB = 100 * 10**3                 #Base resistance (in ohm) \n",
    "\n",
    "#Calculation\n",
    "\n",
    "IB = VCC/(RB + (1 + beta)*RC)    #Base current (in Ampere)\n",
    "IC = beta*IB                     #Collector current (in Ampere)\n",
    "VCE = VCC - (IC + IB)*RC         #Collector-emitter voltage (in volts)\n",
    "ICQ = IC                         #IC at Q-point (in Ampere)\n",
    "S = (1 + beta)/(1 + beta*RC/(RC + RB))    #Stability factor\n",
    "\n",
    "#Result\n",
    "\n",
    "print \"ICQ : \",round(ICQ * 10**3,3),\"mA , VCEQ : \",round(VCE,2),\"V.\"\n",
    "print \"Stability factor : \",round(S,2),\".\""
   ]
  },
  {
   "cell_type": "markdown",
   "metadata": {},
   "source": [
    "##Example 7.33 , Page Number 255"
   ]
  },
  {
   "cell_type": "code",
   "execution_count": 43,
   "metadata": {
    "collapsed": false
   },
   "outputs": [
    {
     "name": "stdout",
     "output_type": "stream",
     "text": [
      "Maximum collector current :  3.66 mA.\n",
      "Minimum collector current :  2.13 mA.\n"
     ]
    }
   ],
   "source": [
    "#Variables\n",
    "\n",
    "betamax = 180                    #Current gain max. in CE\n",
    "betamin = 60                     #Current gain min. in CE\n",
    "VCC = 15                         #Collector supply voltage (in volts)\n",
    "RB = 250.0 * 10**3               #Base resistance (in ohm)\n",
    "RC = 2.5 * 10**3                 #Collector resistance (in ohm) \n",
    "VBE = 0.7                        #Base-collector voltage (in volts)\n",
    "\n",
    "#Calculation\n",
    "\n",
    "#IC = (VCC - VBE)/(RC + RC/beta + RB/beta)          #Collector current (in Ampere)\n",
    "ICmax = (VCC - VBE)/(RC + RC/betamax + RB/betamax)  #Max. collector current (in Ampere)\n",
    "ICmin = (VCC - VBE)/(RC + RC/betamin + RB/betamin)  #Min. collector current (in Ampere) \n",
    "\n",
    "#Result\n",
    "\n",
    "print \"Maximum collector current : \",round(ICmax*10**3,2),\"mA.\"\n",
    "print \"Minimum collector current : \",round(ICmin*10**3,2),\"mA.\""
   ]
  },
  {
   "cell_type": "markdown",
   "metadata": {},
   "source": [
    "##Example 7.34 , Page Number 256"
   ]
  },
  {
   "cell_type": "code",
   "execution_count": 44,
   "metadata": {
    "collapsed": false
   },
   "outputs": [
    {
     "name": "stdout",
     "output_type": "stream",
     "text": [
      "When beta increases due to temperature , VCE will decrease.\n"
     ]
    }
   ],
   "source": [
    "#Variables\n",
    "\n",
    "beta = 90                        #Current gain in CE\n",
    "VCC = 18                         #Collector supply voltage (in volts)\n",
    "RB = 510.0 * 10**3               #Base resistance (in ohm)\n",
    "RC = 2.2 * 10**3                 #Collector resistance (in ohm) \n",
    "RE = 1.8 * 10**3                 #Emitter resistance (in ohm)  \n",
    "VBE = 0.7                        #Base-collector voltage (in volts)\n",
    "\n",
    "#Calculation\n",
    "\n",
    "IB = VCC/(RB + (1 + beta)*(RC+RE))    #Base current (in Ampere)\n",
    "IC = beta*IB                          #Collector current (in Ampere)\n",
    "VCE = VCC - (IC + IB)*RC -IE*RE       #Collector-emitter voltage (in volts)\n",
    "\n",
    "#Result\n",
    "\n",
    "print \"When beta increases due to temperature , VCE will decrease.\""
   ]
  },
  {
   "cell_type": "markdown",
   "metadata": {},
   "source": [
    "##Example 7.35 , Page Number 257"
   ]
  },
  {
   "cell_type": "code",
   "execution_count": 55,
   "metadata": {
    "collapsed": false
   },
   "outputs": [
    {
     "name": "stdout",
     "output_type": "stream",
     "text": [
      "Old ICQ : 1.06 mA and new ICQ : 1.2 mA.\n",
      "Old VCEQ : 3.65 V and new VCEQ : 2.85 V.\n"
     ]
    }
   ],
   "source": [
    "#Variables\n",
    "\n",
    "beta = 90.0                      #Current gain in CE\n",
    "VCC = 10                         #Collector supply voltage (in volts)\n",
    "RB = 250.0 * 10**3               #Base resistance (in ohm)\n",
    "RC = 4.7 * 10**3                 #Collector resistance (in ohm) \n",
    "RE = 1.2 * 10**3                 #Emitter resistance (in ohm)  \n",
    "VBE = 0.7                        #Base-collector voltage (in volts)\n",
    "beta1 = 135                      #New current gain in CE\n",
    "\n",
    "#Calculation\n",
    "\n",
    "IC = (VCC-VBE)/((RE+RC)*(1/beta + 1) + RB/beta)#Collector current (in Ampere)\n",
    "ICQ = IC                                   #Collector current at Q-point (in Ampere)\n",
    "IB = IC/beta                               #Base current (in Ampere)\n",
    "VCE = VCC - (IC + IB)*(RC+RE)              #Collector-emitter voltage (in volts)\n",
    "VCEQ = VCE                                 #Collector-emitter voltage at Q-point (in volts)\n",
    "ICQ1 = (VCC-VBE)/((RE+RC)*(1/beta1 + 1) + RB/beta1) #Collector current1 at Q-point (in Ampere)\n",
    "IB1 = ICQ1/beta                            #Base current1 (in Ampere) \n",
    "VCEQ1 = VCC - (ICQ1 + IB)*(RC+RE)          #Collector-emitter voltage (in volts)\n",
    "\n",
    "#Result\n",
    "\n",
    "\n",
    "print \"Old ICQ :\",round(ICQ*10**3,2),\"mA and new ICQ :\",round(ICQ1*10**3,3),\"mA.\"\n",
    "print \"Old VCEQ :\",round(VCEQ,2),\"V and new VCEQ :\",round(VCEQ1,2),\"V.\"\n",
    "\n",
    "#Slight variation due to higher precision."
   ]
  },
  {
   "cell_type": "markdown",
   "metadata": {},
   "source": [
    "##Example 7.36 , Page Number 258"
   ]
  },
  {
   "cell_type": "code",
   "execution_count": 60,
   "metadata": {
    "collapsed": false
   },
   "outputs": [
    {
     "name": "stdout",
     "output_type": "stream",
     "text": [
      "Vo :  13.9 V.\n",
      "RF :  110.91 kilo-ohm.\n"
     ]
    }
   ],
   "source": [
    "#Variables\n",
    "\n",
    "VCC = 15                           #Collector supply voltage (in volts) \n",
    "IE = 1.0 * 10**-3                  #Emitter current (in Ampere)\n",
    "beta = 99                          #Current gain in CE\n",
    "VBE = 0.7                          #Base-emitter voltage (in volts)\n",
    "R1 = 17.0 * 10**3                  #Resistance1 (in ohm)\n",
    "RC = 1.0 * 10**3                   #Collector resistance (in ohm)\n",
    "RE = 1.0 * 10**3                   #Emitter resistance (in ohm)\n",
    "\n",
    "#Calculation\n",
    "\n",
    "IB = (IE)/(beta + 1)               #Base current (in Ampere)\n",
    "IC = beta*IB                       #Collector current (in Ampere)\n",
    "IR1 = (VBE + IE*RE)/R1             #Current through R1 (in Ampere)\n",
    "IRF = IR1 + IB                     #Current through RF (in Ampere)\n",
    "I1C = IC + IRF                     #Current through RC (in Ampere)\n",
    "Vo = VCC - I1C*RC                  #Output voltage (in volts)\n",
    "RF = (Vo - VBE - IE*RE)/IRF        #Resistance RF (in ohm) \n",
    "\n",
    "#Result\n",
    "\n",
    "print \"Vo : \",round(Vo,1),\"V.\"\n",
    "print \"RF : \",round(RF*10**-3,2),\"kilo-ohm.\"\n",
    "\n",
    "#Calculation error in book for value of RF."
   ]
  },
  {
   "cell_type": "markdown",
   "metadata": {},
   "source": [
    "##Example 7.37 , Page Number 258"
   ]
  },
  {
   "cell_type": "code",
   "execution_count": 65,
   "metadata": {
    "collapsed": false
   },
   "outputs": [
    {
     "name": "stdout",
     "output_type": "stream",
     "text": [
      "R :  106.9 kilo-ohm.\n"
     ]
    }
   ],
   "source": [
    "#Variables\n",
    "\n",
    "VCC = 24                           #Collector supply voltage (in volts)\n",
    "VBE = 0.7                          #Base-emitter voltage (in volts)\n",
    "RC = 10.0 * 10**3                  #Collector resistance (in ohm)\n",
    "RE = 270.0                         #Emitter resistance (in ohm)\n",
    "VCE = 5                            #Collector-emitter voltage (in volts) \n",
    "beta = 45                          #Current gain in CE\n",
    "\n",
    "#Calculation\n",
    "\n",
    "IE = (VCC - VCE )/(RC + RE)        #Emitter current (in Ampere)\n",
    "IB = IE/(beta + 1)                 #Base current (in Ampere)\n",
    "RB = (VCC - VBE - IE*(RE + RC))/IB #Base resistance (in ohm)\n",
    "\n",
    "#Result\n",
    "\n",
    "\n",
    "print \"R : \",round(RB*10**-3,1),\"kilo-ohm.\"\n",
    "\n",
    "#Slight variation due to higher precision."
   ]
  },
  {
   "cell_type": "markdown",
   "metadata": {},
   "source": [
    "##Example 7.38 , Page Number 259"
   ]
  },
  {
   "cell_type": "code",
   "execution_count": 71,
   "metadata": {
    "collapsed": false
   },
   "outputs": [
    {
     "name": "stdout",
     "output_type": "stream",
     "text": [
      "Rth :  9989.0 ohm.\n",
      "IB :  20.0 micro-A.\n",
      "IE :  2.0 mA.\n",
      "Vth :  2.9 V.\n",
      "R1 :  68.4 kilo-ohm.\n",
      "R2 :  11.7 kilo-ohm.\n"
     ]
    }
   ],
   "source": [
    "#Variables\n",
    "\n",
    "VCC = 20                           #Collector supply voltage (in volts)\n",
    "VBE = 0.7                          #Base-emitter voltage (in volts)\n",
    "RE = 1.0 * 10**3                   #Emitter resistance (in ohm)\n",
    "beta = 100                         #Current gain in CE\n",
    "IC = 2.0 * 10**-3                  #Collector current (in Ampere)  \n",
    "S = 10                             #Stability factor\n",
    "\n",
    "#Calculation\n",
    "\n",
    "IB = IC/beta                       #Base current (in Ampere)\n",
    "IE = IB + IC                       #Emitter current (in Ampere)\n",
    "Rth = beta*S*RE/(1 + beta - S) - RE #Thevenin's eq. resistance (in ohm)\n",
    "Vth = IB*Rth + VBE + IE*RE         #Thevenin's eq. voltage (in volts) \n",
    "R1 = Rth*VCC/Vth                   #Resitance1 (in ohm)\n",
    "R2 = R1*Vth/(VCC - Vth)            #Resistance2 (in ohm)  \n",
    "\n",
    "#Result\n",
    "\n",
    "print \"Rth : \",round(Rth),\"ohm.\"\n",
    "print \"IB : \",round(IB*10**6),\"micro-A.\"\n",
    "print \"IE : \",round(IC*10**3,2),\"mA.\"\n",
    "print \"Vth : \",round(Vth,1),\"V.\"\n",
    "print \"R1 : \",round(R1*10**-3,1),\"kilo-ohm.\"\n",
    "print \"R2 : \",round(R2*10**-3,1),\"kilo-ohm.\"\n",
    "\n",
    "#Slight variations due to higher precision."
   ]
  },
  {
   "cell_type": "markdown",
   "metadata": {},
   "source": [
    "##Example 7.39 , Page Number 266"
   ]
  },
  {
   "cell_type": "code",
   "execution_count": 94,
   "metadata": {
    "collapsed": false
   },
   "outputs": [
    {
     "name": "stdout",
     "output_type": "stream",
     "text": [
      "Following is the graph of ac and dc load lines.\n"
     ]
    },
    {
     "data": {
      "text/plain": [
       "<matplotlib.text.Text at 0x858b350>"
      ]
     },
     "execution_count": 94,
     "metadata": {},
     "output_type": "execute_result"
    },
    {
     "data": {
      "image/png": "[encoded data removed]",
      "text/plain": [
       "<matplotlib.figure.Figure at 0x8721e70>"
      ]
     },
     "metadata": {},
     "output_type": "display_data"
    }
   ],
   "source": [
    "import math\n",
    "import numpy\n",
    "%matplotlib inline\n",
    "from matplotlib.pyplot import plot,title,xlabel,ylabel,ylim,xlim,annotate\n",
    "\n",
    "#Variables\n",
    "\n",
    "RC = 3.0 * 10**3                         #Collector resistance (in ohm)\n",
    "RL = 12.0 * 10**3                        #Load resistance (in ohm)\n",
    "R1 = 16.0 * 10**3                        #Resitance1 (in ohm)\n",
    "R2 = 4.0 * 10**3                         #Resistance2 (in ohm)\n",
    "RE = 2.0 * 10**3                         #Emitter Resistance (in ohm)\n",
    "VCEcutoff = VCC = 20                     #Collector supply voltage (in volts)\n",
    "\n",
    "#Calculation\n",
    "\n",
    "IC = VCC/(RC + RE)                       #Collector current(in Ampere) \n",
    "VE = VCC*R2/(R1 + R2)                    #Voltage across R2 (in volts)\n",
    "IE = VE/RE                               #Emitter current (in Ampere)\n",
    "ICQ = IE                                 #IC at Q-point (in Ampere)\n",
    "VCEQ  = VCC - ICQ*(RC + RE)              #VCE at Q-point (in Ampere)\n",
    "Rac = RC*RL/(RC + RL)                    #AC resistance (in ohm)\n",
    "ICsat = ICQ + VCEQ/Rac                   #IC saturation (in Ampere)\n",
    "VCEoff = VCEQ + ICQ*Rac                  #VCE cut-off for ac load line (in volts)\n",
    "\n",
    "#Result\n",
    "\n",
    "print \"Following is the graph of ac and dc load lines.\"\n",
    "\n",
    "#Graph\n",
    "\n",
    "x = numpy.linspace(0,20,100)\n",
    "x2 = numpy.linspace(0,14.8,100)\n",
    "y1 = numpy.linspace(0,2,100)\n",
    "x1 = numpy.linspace(0,10,100)\n",
    "plot(x,4-4/20.0*x,'b')\n",
    "plot(x2,6.17-6.17/14.8*x2,'r')\n",
    "plot(x1,2+x1-x1,'--',color='g')\n",
    "plot(10+y1-y1,y1,'--',color='g')\n",
    "annotate('Q',xy=(10,2.2))\n",
    "annotate('DC load line',xy=(14,1.3))\n",
    "annotate('AC load line',xy=(5.5,4))\n",
    "xlim(0,20)\n",
    "ylim(0,7)\n",
    "title(\"DC and AC Load lines\")\n",
    "xlabel(\"-VCE in Volts->\")\n",
    "ylabel(\"-IC in mA->\")"
   ]
  },
  {
   "cell_type": "markdown",
   "metadata": {},
   "source": [
    "##Example 7.40 , Page Number 268"
   ]
  },
  {
   "cell_type": "code",
   "execution_count": 95,
   "metadata": {
    "collapsed": false
   },
   "outputs": [
    {
     "name": "stdout",
     "output_type": "stream",
     "text": [
      "Input resistance :  1.667 kilo-ohm.\n",
      "Current gain :  80.0 .\n",
      "AC load :  4.0 kilo-ohm.\n",
      "Voltage gain :  192.0 .\n",
      "Power gain :  15360.0 .\n"
     ]
    }
   ],
   "source": [
    "#Variables\n",
    "\n",
    "dVBE = 0.025                 #Change in VBE (in volts)\n",
    "dIB = 15.0 * 10**-6          #Change in base current (in Ampere)\n",
    "dIC = 1.2 * 10**-3           #Change in collector current (in Ampere)\n",
    "RC = 6.0 * 10**3             #Collector resistance (in ohm)\n",
    "RL = 12.0 * 10**3            #Load resistance (in ohm)\n",
    "\n",
    "#Calculation\n",
    "\n",
    "Rin = dVBE/dIB               #Input resistance (in ohm)\n",
    "beta = dIC/dIB               #Current gain in CE\n",
    "Rac = RC*RL/(RC+RL)          #AC load (in ohm)\n",
    "Av = beta*Rac/Rin            #Voltage gain \n",
    "Ap = beta*beta*Rac/Rin       #Power gain      \n",
    "\n",
    "#Result\n",
    "\n",
    "print \"Input resistance : \",round(Rin*10**-3,3),\"kilo-ohm.\"\n",
    "print \"Current gain : \",beta,\".\"\n",
    "print \"AC load : \",Rac*10**-3,\"kilo-ohm.\"\n",
    "print \"Voltage gain : \",Av,\".\"\n",
    "print \"Power gain : \",Ap,\".\""
   ]
  }
 ],
 "metadata": {
  "kernelspec": {
   "display_name": "Python 2",
   "language": "python",
   "name": "python2"
  },
  "language_info": {
   "codemirror_mode": {
    "name": "ipython",
    "version": 2
   },
   "file_extension": ".py",
   "mimetype": "text/x-python",
   "name": "python",
   "nbconvert_exporter": "python",
   "pygments_lexer": "ipython2",
   "version": "2.7.10"
  }
 },
 "nbformat": 4,
 "nbformat_minor": 0
}
