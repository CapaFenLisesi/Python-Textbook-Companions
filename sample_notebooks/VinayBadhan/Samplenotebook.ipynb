{
 "cells": [
  {
   "cell_type": "markdown",
   "metadata": {},
   "source": [
    "# Chapter 3 , Electricity and Ohm's Law\n",
    " "
   ]
  },
  {
   "cell_type": "code",
   "execution_count": 4,
   "metadata": {
    "collapsed": false
   },
   "outputs": [
    {
     "name": "stdout",
     "output_type": "stream",
     "text": [
      "Terminal voltage of a battery is  1.5  V.\n"
     ]
    }
   ],
   "source": [
    "#Example 3.1 , Page Number 23\n",
    "\n",
    "import math \n",
    "\n",
    "W = 75.0     #Work done (in Joules)\n",
    "Q = 50.0     #Charge produced (in Coulomb)\n",
    "\n",
    "#Calculation\n",
    "V = W/Q    #Voltage between battery terminals (in Volts)\n",
    "\n",
    "#Result\n",
    "print \"Terminal voltage of a battery is \",V,\" V.\""
   ]
  }
 ],
 "metadata": {
  "kernelspec": {
   "display_name": "Python 2",
   "language": "python",
   "name": "python2"
  },
  "language_info": {
   "codemirror_mode": {
    "name": "ipython",
    "version": 2
   },
   "file_extension": ".py",
   "mimetype": "text/x-python",
   "name": "python",
   "nbconvert_exporter": "python",
   "pygments_lexer": "ipython2",
   "version": "2.7.5"
  }
 },
 "nbformat": 4,
 "nbformat_minor": 0
}
