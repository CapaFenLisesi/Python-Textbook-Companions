{
 "cells": [
  {
   "cell_type": "markdown",
   "metadata": {},
   "source": [
    "# Chapter 1 , Introductory Concepts"
   ]
  },
  {
   "cell_type": "markdown",
   "metadata": {},
   "source": [
    "## Example 1.4 , Page Number 23"
   ]
  },
  {
   "cell_type": "code",
   "execution_count": 1,
   "metadata": {
    "collapsed": false
   },
   "outputs": [
    {
     "name": "stdout",
     "output_type": "stream",
     "text": [
      "Equivalent voltage source is  100.0  V.\n"
     ]
    }
   ],
   "source": [
    "#Variables\n",
    "\n",
    "IS = 4.0              #Current (in Ampere)\n",
    "Rin = 25.0            #Resistance (in ohm)\n",
    "\n",
    "#Calculation\n",
    "\n",
    "Voc = IS * Rin        #Voltage (in volts) \n",
    "\n",
    "#Result\n",
    "\n",
    "print \"Equivalent voltage source is \",Voc,\" V.\""
   ]
  },
  {
   "cell_type": "markdown",
   "metadata": {},
   "source": [
    "## Example 1.5 , Page Number 23"
   ]
  },
  {
   "cell_type": "code",
   "execution_count": 2,
   "metadata": {
    "collapsed": false
   },
   "outputs": [
    {
     "name": "stdout",
     "output_type": "stream",
     "text": [
      "Current in 28 ohm resistor is  2.0  A.\n"
     ]
    }
   ],
   "source": [
    "#Variables\n",
    "\n",
    "R1 = 4.0             #Resistance (in ohm)\n",
    "R2 = 8.0             #Resistance (in ohm)\n",
    "RS = 28.0            #Resistance (in ohm)\n",
    "V1 = 40.0            #Voltage (in volts)\n",
    "V2 = 40.0            #Voltage (in volts)\n",
    "\n",
    "#Calculation\n",
    "\n",
    "Rnet = R1 + R2 + RS  #Net resistance (in ohm)\n",
    "Vnet = V1 + V2       #Net voltage (in volts) \n",
    "I = Vnet / Rnet      #Current (in Ampere)\n",
    "\n",
    "#Result\n",
    "\n",
    "print \"Current in 28 ohm resistor is \",I,\" A.\""
   ]
  }
 ],
 "metadata": {
  "kernelspec": {
   "display_name": "Python 2",
   "language": "python",
   "name": "python2"
  },
  "language_info": {
   "codemirror_mode": {
    "name": "ipython",
    "version": 2
   },
   "file_extension": ".py",
   "mimetype": "text/x-python",
   "name": "python",
   "nbconvert_exporter": "python",
   "pygments_lexer": "ipython2",
   "version": "2.7.10"
  }
 },
 "nbformat": 4,
 "nbformat_minor": 0
}
