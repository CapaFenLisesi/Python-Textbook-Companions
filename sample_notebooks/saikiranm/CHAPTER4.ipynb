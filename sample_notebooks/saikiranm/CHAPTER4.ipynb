{
 "metadata": {
  "name": "",
  "signature": "sha256:77734ce79918b96bed43d7baa269682912f0f51f73bf77fadd993778504d6908"
 },
 "nbformat": 3,
 "nbformat_minor": 0,
 "worksheets": [
  {
   "cells": [
    {
     "cell_type": "heading",
     "level": 1,
     "metadata": {},
     "source": [
      "CHAPTER 4 - Characteristics of AC motor"
     ]
    },
    {
     "cell_type": "heading",
     "level": 2,
     "metadata": {},
     "source": [
      "EXAMPLE 4.1 - PG NO:72"
     ]
    },
    {
     "cell_type": "code",
     "collapsed": false,
     "input": [
      "#Example 4.1, Page 72\n",
      "import numpy\n",
      "p1=numpy.poly1d([1, -3, 1])#Polynomial equation\n",
      "print('Part a')\n",
      "print('roots of the equation when slip at max torque')\n",
      "x=numpy.roots(p1)\n",
      "print(x)\n",
      "\n",
      "\n",
      "p2=numpy.poly1d([1, -1.719,0.146])#polynomial equation in scilab function\n",
      "y=numpy.roots(p2)\n",
      "print('Part b')\n",
      "print('roots of the equation when slip at max load')\n",
      "print(y)"
     ],
     "language": "python",
     "metadata": {},
     "outputs": [
      {
       "output_type": "stream",
       "stream": "stdout",
       "text": [
        "Part a\n",
        "roots of the equation when slip at max torque\n",
        "[ 2.61803399  0.38196601]\n",
        "Part b\n",
        "roots of the equation when slip at max load\n",
        "[ 1.62939626  0.08960374]\n"
       ]
      }
     ],
     "prompt_number": 1
    },
    {
     "cell_type": "heading",
     "level": 2,
     "metadata": {},
     "source": [
      "EXAMPLE 4.3 - PG NO:76"
     ]
    },
    {
     "cell_type": "code",
     "collapsed": false,
     "input": [
      "#Example 4.3, Page 76\n",
      "import numpy\n",
      "p1=numpy.poly1d([0.04, -0.0266,.0016 ])#Polynomial equation\n",
      "print('Part a')\n",
      "print('roots of the equation that slip will run is')\n",
      "x=numpy.roots(p1)\n",
      "print(x)\n",
      "#answers after calculation are accurate than textbook answers due to approximations"
     ],
     "language": "python",
     "metadata": {},
     "outputs": [
      {
       "output_type": "stream",
       "stream": "stdout",
       "text": [
        "Part a\n",
        "roots of the equation that slip will run is\n",
        "[ 0.59812426  0.06687574]\n"
       ]
      }
     ],
     "prompt_number": 5
    },
    {
     "cell_type": "heading",
     "level": 2,
     "metadata": {},
     "source": [
      "EXAMPLE 4.5 - PG NO:81"
     ]
    },
    {
     "cell_type": "code",
     "collapsed": false,
     "input": [
      "#Example 4.5, page 81\n",
      "import math\n",
      "pole=24.\n",
      "Ns=245.#in rpm\n",
      "N=(120.*50.)/pole#synchronous speed in rpm\n",
      "f=(N-Ns)/N\n",
      "p=110.#in kw\n",
      "T=(p*1000.*60.)/(2.*math.pi*Ns)\n",
      "v1=440./math.sqrt(3)#in v\n",
      "ws=(2*math.pi*250)/60\n",
      "s=0.02\n",
      "R=0.03125#in ohm\n",
      "x=math.sqrt(((3*R*v1**2)/(T*ws*s))-(R/s)**2)#by rearranging formula\n",
      "print'%s %.5f %s' %('Stator resistance per phase is=',x,'ohm')\n",
      "#calculating original resistance\n",
      "\n",
      "#Example 4.1, Page 72\n",
      "import numpy\n",
      "p1=numpy.poly1d([3190,-3235,72.78 ])#Polynomial equation\n",
      "print('Part a')\n",
      "print('The value of original resistance is')\n",
      "x=numpy.roots(p1)\n",
      "print(x)\n",
      "\n",
      "#Taking r=0.99108\n",
      "r=(0.99108-R)/1.25**2\n",
      "\n",
      "print'%s %.4f %s' %('The value of resistance to be added is =',r,' ohm')"
     ],
     "language": "python",
     "metadata": {},
     "outputs": [
      {
       "output_type": "stream",
       "stream": "stdout",
       "text": [
        "Stator resistance per phase is= 0.50358 ohm\n",
        "Part a\n",
        "The value of original resistance is\n",
        "[ 0.99108634  0.02302024]\n",
        "The value of resistance to be added is = 0.6143  ohm\n"
       ]
      }
     ],
     "prompt_number": 3
    },
    {
     "cell_type": "heading",
     "level": 2,
     "metadata": {},
     "source": [
      "EXAMPLE 4.6 - PG NO:92"
     ]
    },
    {
     "cell_type": "code",
     "collapsed": false,
     "input": [
      "#Example 4.6, Page no 92\n",
      "import math\n",
      "print(\"Part ii\")\n",
      "new_sin_delta=math.sin(math.pi/4)/.95\n",
      "delta=math.asin(new_sin_delta)\n",
      "x=math.degrees(delta)\n",
      "print'%s %.2f %s' %('The value of delta is =',x,'degree')"
     ],
     "language": "python",
     "metadata": {},
     "outputs": [
      {
       "output_type": "stream",
       "stream": "stdout",
       "text": [
        "Part ii\n",
        "The value of delta is = 48.10 degree\n"
       ]
      }
     ],
     "prompt_number": 4
    }
   ],
   "metadata": {}
  }
 ]
}