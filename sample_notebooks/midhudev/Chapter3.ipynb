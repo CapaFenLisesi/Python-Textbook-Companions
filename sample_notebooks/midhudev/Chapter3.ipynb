{
 "cells": [
  {
   "cell_type": "markdown",
   "metadata": {},
   "source": [
    "# Chapter 3:Manufacturing Considerations in Machine Design"
   ]
  },
  {
   "cell_type": "markdown",
   "metadata": {},
   "source": [
    "## Example 3.1, Page number 78"
   ]
  },
  {
   "cell_type": "code",
   "execution_count": 9,
   "metadata": {
    "collapsed": false
   },
   "outputs": [
    {
     "name": "stdout",
     "output_type": "stream",
     "text": [
      "the hole tolerance is,0.020000 mm\n",
      "the shaft tolerance is,0.020000 mm \n",
      "the allowance is,0.030000 mm\n"
     ]
    }
   ],
   "source": [
    "#solution\n",
    "#given\n",
    "lh=25#mm#lower limit of hole\n",
    "uh=25.02#mm#upper limit of hole\n",
    "ls=24.95#mm#lower limit of shaft\n",
    "us=24.97#mm#upper limit of shaft\n",
    "h=uh-lh#mm#hole tolerance\n",
    "s=us-ls#mm#shaft tolerance\n",
    "a=lh-us#mm#alownce\n",
    "print \"the hole tolerance is,%f mm\" %h\n",
    "print (\"the shaft tolerance is,%f mm \" %s)\n",
    "print (\"the allowance is,%f mm\" %a)"
   ]
  },
  {
   "cell_type": "markdown",
   "metadata": {},
   "source": [
    "## Example 3.2, Page number 78"
   ]
  },
  {
   "cell_type": "code",
   "execution_count": 10,
   "metadata": {
    "collapsed": false
   },
   "outputs": [
    {
     "name": "stdout",
     "output_type": "stream",
     "text": [
      "the standard tolernce for IT8 is,0.012218 mm\n",
      "the satndard tolerance for IT7 is,0.007820 mm\n",
      "the fundamental upper deviation for shaft is,-0.024630 mm\n",
      "the fundamental lower deavtion for shaft is,-0.049630 mm \n",
      "the basic size is,40.000000 mm\n",
      "upper limit for hole is,40.039000 mm\n",
      "the upper limit of shaft is,39.975000 mm\n",
      "the lower limit of shaft is,39.950000 mm\n"
     ]
    }
   ],
   "source": [
    "\n",
    "import math\n",
    "#solution\n",
    "#given\n",
    "#shaft is 40 H8/f7\n",
    "#since 40 mm lies in the diameter steps of 30 to 50 mm, therefore the mean diameter ie geometric mean of them\n",
    "D=math.sqrt(30*50)#mm\n",
    "i=0.45*((D)**(1/3))+(0.001*D)#mm#standard tolerance unit\n",
    "#therfore,standard tolerance is\n",
    "x=25*i*0.001#mm#standard tolerance for grade 8\n",
    "x1=16*i*0.001#mm#standard tolerance for grade 7\n",
    "#fundamental deviation\n",
    "es=-5.5*(D)**0.41*0.001#mm\n",
    "ei=es-0.025#mm\n",
    "#limit of size\n",
    "bs=40#mm#basic size\n",
    "uh=40+0.039#mm#upper limitt of hole=lower limit  for hole+tolerance for hole\n",
    "us=40-0.025#mm#uppr limit of shaft is lower limit of hole-fundamental deviation\n",
    "ls=us-0.025#mm\n",
    "print (\"the standard tolernce for IT8 is,%f mm\" %x)\n",
    "print (\"the satndard tolerance for IT7 is,%f mm\" %x1)\n",
    "print (\"the fundamental upper deviation for shaft is,%f mm\" %es)\n",
    "print (\"the fundamental lower deavtion for shaft is,%f mm \" %ei)\n",
    "print (\"the basic size is,%f mm\" %bs)\n",
    "print (\"upper limit for hole is,%f mm\" %uh)\n",
    "print (\"the upper limit of shaft is,%f mm\" %us)\n",
    "print (\"the lower limit of shaft is,%f mm\" %ls)"
   ]
  },
  {
   "cell_type": "markdown",
   "metadata": {},
   "source": [
    "## Example 3.3, Page number 79"
   ]
  },
  {
   "cell_type": "code",
   "execution_count": 11,
   "metadata": {
    "collapsed": false
   },
   "outputs": [
    {
     "name": "stdout",
     "output_type": "stream",
     "text": [
      "the standard tolerance for shaft and hole of grade 8 is,0.026837 mm\n",
      "the upper deviation for shaft is, -0.031895 mm\n",
      "the upper deviation for shaft is,-0.058732 mm\n"
     ]
    }
   ],
   "source": [
    "#a.)12 mm elctric motion\n",
    "#12 mm lies between 10 and 18,therefore\n",
    "D=math.sqrt(10*18)#mm\n",
    "i=0.45*(D)**0.33+0.001*D#standard tolrence unit\n",
    "IT8=25*i*0.001#mm#standard tolerance for IT8\n",
    "es=-11*(D)**0.41*0.001#mm#upper deviation for shaft\n",
    "ei=es-IT8#mm#lower deviation for shaft\n",
    "print (\"the standard tolerance for shaft and hole of grade 8 is,%f mm\" %IT8)\n",
    "print (\"the upper deviation for shaft is, %f mm\" %es)\n",
    "print (\"the upper deviation for shaft is,%f mm\" %ei)"
   ]
  },
  {
   "cell_type": "markdown",
   "metadata": {},
   "source": [
    "## Example 3.4, Page number 81"
   ]
  },
  {
   "cell_type": "code",
   "execution_count": 12,
   "metadata": {
    "collapsed": false
   },
   "outputs": [
    {
     "name": "stdout",
     "output_type": "stream",
     "text": [
      "maximum clearance is,0.085788 mm\n",
      "minimum clearance is,0.010000 mm\n"
     ]
    }
   ],
   "source": [
    "import math\n",
    "#75 mm basic size \n",
    "#since 75 lies betweenn 50 and 80\n",
    "D=math.sqrt(50*80)#mm\n",
    "i=0.45*(D)**0.33+0.001*D#standard tolerance unit\n",
    "IT8=25*i*0.001#mm\n",
    "IT7=16*i*0.001#mm\n",
    "es=-2.5*(D)**0.34#mm#upper deviation of shaft\n",
    "ei=es-IT7#mm#lower deviation fot hole\n",
    "bs=75#mm#basic size\n",
    "uh=75+IT8#upper limit of hole\n",
    "us=75-0.01#mm#upper limit of shft\n",
    "ls=us-0.03#mm\n",
    "MxC=uh-ls#mm#maximum clearance\n",
    "miC=75-us#mm\n",
    "print (\"maximum clearance is,%f mm\"%MxC)\n",
    "print (\"minimum clearance is,%f mm\"%miC)"
   ]
  },
  {
   "cell_type": "code",
   "execution_count": null,
   "metadata": {
    "collapsed": true
   },
   "outputs": [],
   "source": []
  }
 ],
 "metadata": {
  "kernelspec": {
   "display_name": "Python [Root]",
   "language": "python",
   "name": "Python [Root]"
  },
  "language_info": {
   "codemirror_mode": {
    "name": "ipython",
    "version": 2
   },
   "file_extension": ".py",
   "mimetype": "text/x-python",
   "name": "python",
   "nbconvert_exporter": "python",
   "pygments_lexer": "ipython2",
   "version": "2.7.12"
  }
 },
 "nbformat": 4,
 "nbformat_minor": 0
}
