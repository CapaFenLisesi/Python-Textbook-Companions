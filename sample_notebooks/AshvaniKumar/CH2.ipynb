{
 "metadata": {
  "name": "",
  "signature": "sha256:e3537477beffef32716056a02b1119855be97d741374cf7c8e1075a3a804210f"
 },
 "nbformat": 3,
 "nbformat_minor": 0,
 "worksheets": [
  {
   "cells": [
    {
     "cell_type": "heading",
     "level": 1,
     "metadata": {},
     "source": [
      "Ch-2, Optical Fibers & its types"
     ]
    },
    {
     "cell_type": "heading",
     "level": 2,
     "metadata": {},
     "source": [
      "Exa 2.1 ; page 146"
     ]
    },
    {
     "cell_type": "code",
     "collapsed": true,
     "input": [
      "from __future__ import division\n",
      "#Given data :\n",
      "n1=1.40  #refractive index\n",
      "delta=1  #relative refractive index difference in %\n",
      "#Formula : n2/n1=1-delta\n",
      "n2=n1*(1-delta/100)  #refractive index(unitless)\n",
      "print \"Refractive index of cladding is\",n2"
     ],
     "language": "python",
     "metadata": {},
     "outputs": [
      {
       "output_type": "stream",
       "stream": "stdout",
       "text": [
        "Refractive index of cladding is 1.386\n"
       ]
      }
     ],
     "prompt_number": 3
    },
    {
     "cell_type": "heading",
     "level": 2,
     "metadata": {},
     "source": [
      "Exa 2.2 ; page 149"
     ]
    },
    {
     "cell_type": "code",
     "collapsed": true,
     "input": [
      "from __future__ import division\n",
      "from numpy import sin, arcsin, pi\n",
      "#Given data :\n",
      "fi_o=22  #in Degree\n",
      "delta=3  #relative refractive index difference in %\n",
      "#Part (a) :\n",
      "#Formula : NA=sin(fi_o).....(max)\n",
      "NA=sin(fi_o*pi/180)  #Numerical Aperture(Unitless)\n",
      "print \"Numerical Aperture : \",round(NA,2)\n",
      "#Part (b) :\n",
      "#Formula : n2/n1=1-delta\n",
      "#Let say, n2/n1=n2byn1\n",
      "n2byn1=(1-delta/100)  #refractive index(unitless)\n",
      "#Formula : sin(fi_C)=n2/n1  \n",
      "fi_c=arcsin(n2byn1)  #in degree\n",
      "print \"Critical Angle at core cladding interface is\",round(fi_c,2),\"Degree\""
     ],
     "language": "python",
     "metadata": {},
     "outputs": [
      {
       "output_type": "stream",
       "stream": "stdout",
       "text": [
        "Numerical Aperture :  0.37\n",
        "Critical Angle at core cladding interface is 1.33 Degree\n"
       ]
      }
     ],
     "prompt_number": 8
    },
    {
     "cell_type": "heading",
     "level": 2,
     "metadata": {},
     "source": [
      "Exa 2.3; page 156"
     ]
    },
    {
     "cell_type": "code",
     "collapsed": true,
     "input": [
      "from __future__ import division\n",
      "from numpy import sqrt\n",
      "#Given data :\n",
      "delta=0.45  #relative refractive index difference in %\n",
      "fi_o=0.115  #in Radian\n",
      "c=3*10**8  #speed of light in m/s\n",
      "#Formula : NA=sin(fi_o).....(max)\n",
      "NA=sin(fi_o)  #Numerical Aperture(Unitless)\n",
      "#Formula : NA=n1*sqrt(2*delta)\n",
      "n1=NA/sqrt(2*delta/100)  #unitless\n",
      "#Formula : n1=c/v  \n",
      "v=c/n1  #in m/s\n",
      "print \"Speed of light in fibre core is \",round(v,2),\" m/s\""
     ],
     "language": "python",
     "metadata": {},
     "outputs": [
      {
       "output_type": "stream",
       "stream": "stdout",
       "text": [
        "Speed of light in fibre core is  248028935.21  m/s\n"
       ]
      }
     ],
     "prompt_number": 12
    },
    {
     "cell_type": "heading",
     "level": 2,
     "metadata": {},
     "source": [
      "Exa 2.4; page 157"
     ]
    },
    {
     "cell_type": "code",
     "collapsed": true,
     "input": [
      "from __future__ import division\n",
      "from numpy import sqrt, pi\n",
      "#Given data :\n",
      "n1=1.5  #Unitless\n",
      "delta=1  #relative refractive index difference in %\n",
      "lamda=1.3  #in um\n",
      "N=1100  #No. of modes\n",
      "#Formula : v=2*%pi*a*n1*NA/lambda  \n",
      "#NA=sqrt(2*delta)\n",
      "#v=sqrt(2*N)\n",
      "a=(sqrt(2*N)*lamda)/(2*pi*n1*sqrt(2*delta/100))  #Normalized frequency\n",
      "d=2*a # um\n",
      "print \"Diameter of the fiber core is\",round(d,2),\"um\""
     ],
     "language": "python",
     "metadata": {},
     "outputs": [
      {
       "output_type": "stream",
       "stream": "stdout",
       "text": [
        "Diameter of the fiber core is 91.5 um\n"
       ]
      }
     ],
     "prompt_number": 15
    },
    {
     "cell_type": "heading",
     "level": 2,
     "metadata": {},
     "source": [
      "Exa 2.5; page 159"
     ]
    },
    {
     "cell_type": "code",
     "collapsed": true,
     "input": [
      "from __future__ import division\n",
      "from numpy import sin, pi\n",
      "#Given data :\n",
      "\n",
      "n1=1.52  #unitless\n",
      "fi_o=8  #in Degree\n",
      "#Formula : sin(fi_o)=n1*sqrt(2*delta)\n",
      "delta=(sin(fi_o*pi/180)/n1)**2/2  #Relative refractive index\n",
      "delta*=100  # in %\n",
      "print \"The value of relative refractive index difference is \",round(delta,2),\"%\""
     ],
     "language": "python",
     "metadata": {},
     "outputs": [
      {
       "output_type": "stream",
       "stream": "stdout",
       "text": [
        "The value of relative refractive index difference is  0.42 %\n"
       ]
      }
     ],
     "prompt_number": 17
    },
    {
     "cell_type": "heading",
     "level": 2,
     "metadata": {},
     "source": [
      "Exa 2.6; page 162"
     ]
    },
    {
     "cell_type": "code",
     "collapsed": true,
     "input": [
      "from __future__ import division\n",
      "from numpy import pi, sqrt\n",
      "#Given data :\n",
      "N=700  #No. of modes\n",
      "d=30  #in um\n",
      "a=d/2  #in um\n",
      "NA=0.62  #Numerical Aperture\n",
      "#Formula : v=2*sqrt(N) and v=2*%pi*a*NA/lambda\n",
      "lamda=2*pi*a*NA/(2*sqrt(N))  #in um\n",
      "print \"Wavelength of light propagating in fibre is\",round(lamda,2),\" micro meter\""
     ],
     "language": "python",
     "metadata": {},
     "outputs": [
      {
       "output_type": "stream",
       "stream": "stdout",
       "text": [
        "Wavelength of light propagating in fibre is 1.1  micro meter\n"
       ]
      }
     ],
     "prompt_number": 18
    },
    {
     "cell_type": "heading",
     "level": 2,
     "metadata": {},
     "source": [
      "Exa 2.7;page 165"
     ]
    },
    {
     "cell_type": "code",
     "collapsed": true,
     "input": [
      "from __future__ import division\n",
      "from numpy import pi, sqrt\n",
      "#Given data :\n",
      "n1=1.5  #unitless\n",
      "alfa=2  #characteristic index profile\n",
      "d=40  #in um\n",
      "a=d/2  #in um\n",
      "#Part (a) :\n",
      "lamda=1.3  #in um\n",
      "delta=1  \n",
      "#Formula : v=2*%pi*a*NA/lambda=2*%pi*a*(n1*sqrt(2*delta))/lambda\n",
      "v=2*pi*a*(n1*sqrt(2*delta/100))/lamda  #Unitless\n",
      "print \"Normalized Frequency for single mode transmission : \",round(v,2)  \n",
      "#Part (b) :\n",
      "#Formula : N=(alfa/alfa+2)*(v**2/2)\n",
      "N=(alfa/(alfa+2))*(v**2/2)  #No. of guided modes\n",
      "print \"No. of guided modes propagating in the fibre is %d\" %N"
     ],
     "language": "python",
     "metadata": {},
     "outputs": [
      {
       "output_type": "stream",
       "stream": "stdout",
       "text": [
        "Normalized Frequency for single mode transmission :  20.51\n",
        "No. of guided modes propagating in the fibre is 105"
       ]
      },
      {
       "output_type": "stream",
       "stream": "stdout",
       "text": [
        "\n"
       ]
      }
     ],
     "prompt_number": 20
    }
   ],
   "metadata": {}
  }
 ]
}