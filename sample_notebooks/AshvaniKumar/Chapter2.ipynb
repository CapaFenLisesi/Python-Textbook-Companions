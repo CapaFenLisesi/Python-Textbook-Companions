{
 "metadata": {
  "name": "",
  "signature": "sha256:ca4b0079bde9d44d795cfee22e676408883fa63b320ce21fd0ba8c51e96fec7f"
 },
 "nbformat": 3,
 "nbformat_minor": 0,
 "worksheets": [
  {
   "cells": [
    {
     "cell_type": "heading",
     "level": 1,
     "metadata": {},
     "source": [
      "Chapter2 - Press Tool Design"
     ]
    },
    {
     "cell_type": "heading",
     "level": 2,
     "metadata": {},
     "source": [
      "Ex2.1 - page 95"
     ]
    },
    {
     "cell_type": "code",
     "collapsed": false,
     "input": [
      "from __future__ import division\n",
      "from numpy import pi\n",
      "D = 50 # Diameter of washer in mm\n",
      "t = 4 # thickness of material in mm\n",
      "d = 24 # diameter of hole in mm\n",
      "p = 360 # shear strength of material in N/mm**2\n",
      "F1 = pi*D*t*p # blanking pressure in N\n",
      "F2 = pi*d*t*p # piercing pressure in N\n",
      "F = F1 + F2 # total pressure in N\n",
      "d1 = d + 0.4 # piercing die diameter in mm\n",
      "d2 = D - 0.4 # blank punch diameter in mm\n",
      "c = 0.8*F # press capacity in N\n",
      "print \"Blanking pressure = %d kN\\nPiercing pressure = %0.3f KN\\nTotal pressure required = %0.1f KN\\n\" %(F1/1000,F2/1000,F/1000)\n",
      "print \"Piercing punch diameter = %0.2f cm\\nBlanking punch diametre = %0.2f cm \\npress capacity = %0.2f kN\\n\"%(d1/10 , d2/10 , c/1000)\n",
      "# Answers vary due to round off error"
     ],
     "language": "python",
     "metadata": {},
     "outputs": [
      {
       "output_type": "stream",
       "stream": "stdout",
       "text": [
        "Blanking pressure = 226 kN\n",
        "Piercing pressure = 108.573 KN\n",
        "Total pressure required = 334.8 KN\n",
        "\n",
        "Piercing punch diameter = 2.44 cm\n",
        "Blanking punch diametre = 4.96 cm \n",
        "press capacity = 267.81 kN\n",
        "\n"
       ]
      }
     ],
     "prompt_number": 8
    },
    {
     "cell_type": "heading",
     "level": 2,
     "metadata": {},
     "source": [
      "Ex2.2 - page 101"
     ]
    },
    {
     "cell_type": "code",
     "collapsed": false,
     "input": [
      "from math import pi\n",
      "l1 = 76 - ( 2.3 + 0.90) # length1 in mm\n",
      "l2 = 115 - (2.3 + 0.90) # length2 in mm\n",
      "t = 2.3 # mm\n",
      "r = 0.90 # inner radius in mm\n",
      "k = t/3 # mm\n",
      "B = 0.5*pi*(r + k) # bending allowance in mm\n",
      "d = l1 + l2 + B # developed length in mm\n",
      "print \"Developed length = %0.2f mm\" %(d)\n",
      "# Answers vary due to round off error"
     ],
     "language": "python",
     "metadata": {},
     "outputs": [
      {
       "output_type": "stream",
       "stream": "stdout",
       "text": [
        "Developed length = 187.22 mm\n"
       ]
      }
     ],
     "prompt_number": 11
    },
    {
     "cell_type": "heading",
     "level": 2,
     "metadata": {},
     "source": [
      "Ex2.3 - page 102"
     ]
    },
    {
     "cell_type": "code",
     "collapsed": false,
     "input": [
      "from math import floor\n",
      "t = 3.2 # thickness of blank in mm\n",
      "l = 900 # bending length in mm\n",
      "sigma = 400 # ultimate tensile strength in N/mm**2\n",
      "k = 0.67 # die opening factor\n",
      "r1 = 9.5 # punch radius in mm\n",
      "r2 = 9.5 # die edge radius in mm\n",
      "c = 3.2 # clearance in mm\n",
      "w = r1 + r2 + c # width between contact points batween die and punch in mm\n",
      "F= (k*l*sigma*t**2)/w # bending force in N\n",
      "F=floor(F/10)*10 # N\n",
      "print \"bending force = %0.2f kN\" %(F/1000)"
     ],
     "language": "python",
     "metadata": {},
     "outputs": [
      {
       "output_type": "stream",
       "stream": "stdout",
       "text": [
        "bending force = 111.25 kN\n"
       ]
      }
     ],
     "prompt_number": 14
    },
    {
     "cell_type": "heading",
     "level": 2,
     "metadata": {},
     "source": [
      "Ex2.4 - page 102"
     ]
    },
    {
     "cell_type": "code",
     "collapsed": false,
     "input": [
      "k = 1.33 # die opening factor\n",
      "l = 1200 # bend length in mm\n",
      "sigma = 455 # ultimate tensile strength in N/mm**2\n",
      "t = 1.6 # blank thickness in mm\n",
      "w = 8*t # width of die opening in mm\n",
      "F = k*l*sigma*t**2/w # bending force in N \n",
      "print \"bending force  = %0.2f kN\"%(F/1000)"
     ],
     "language": "python",
     "metadata": {},
     "outputs": [
      {
       "output_type": "stream",
       "stream": "stdout",
       "text": [
        "bending force  = 145.24 kN\n"
       ]
      }
     ],
     "prompt_number": 15
    },
    {
     "cell_type": "heading",
     "level": 2,
     "metadata": {},
     "source": [
      "Ex2.5 - page 103"
     ]
    },
    {
     "cell_type": "code",
     "collapsed": false,
     "input": [
      "c = 1.25 # clearance in mm\n",
      "r1 = 3 # die radius in mm\n",
      "r2 = 1.5 # punch radius in mm\n",
      "sigma = 315 # ultimate tensile strength in MPa\n",
      "t = 1 # thickness in mm\n",
      "l = 50 # width at bend in mm\n",
      "w = r1 + r2 +c # width between contact points on die and punch in mm\n",
      "F = 0.67*l*sigma*t**2/w # bending force in N\n",
      "F_p = 0.67*sigma*l*t # pad force in N\n",
      "sigma_c = 560 # setting pressure in MPa\n",
      "b1 = 2 # beads on punch\n",
      "b = b1*r1 # mm\n",
      "F_b = sigma_c*l*b # bottoming force in N\n",
      "F_o = F_p + F_b # Force required when bottoming is used in N\n",
      "F_n = F +F_p # Force required when bottoming is not used in N\n",
      "print \"  Force required when bottoming is used  = %0.1f tonnes\"%(F_o/(9.81*1000))\n",
      "print \"  Force required when bottoming is not used  = %0.3f tonnes\" %(F_n/(9.81*1000))"
     ],
     "language": "python",
     "metadata": {},
     "outputs": [
      {
       "output_type": "stream",
       "stream": "stdout",
       "text": [
        "  Force required when bottoming is used  = 18.2 tonnes\n",
        "  Force required when bottoming is not used  = 1.263 tonnes\n"
       ]
      }
     ],
     "prompt_number": 17
    },
    {
     "cell_type": "heading",
     "level": 2,
     "metadata": {},
     "source": [
      "Ex2.6 - page 103"
     ]
    },
    {
     "cell_type": "code",
     "collapsed": false,
     "input": [
      "from math import sin\n",
      "w = 2 # width in mm\n",
      "t = 5 # thickness in mm\n",
      "theta=6 # shear in degrees\n",
      "tau = 382.5 # ultimate shear stress in MPa\n",
      "F = w*t*tau*1000 # cutting force in N\n",
      "l = t/sin(theta*pi/180) # length to be cut in mm\n",
      "F_i = l*t*tau # cutting force in N\n",
      "print \" cutting force with parallel cutting edges = %0.3f MN\\n cutting force when shear is considered = %0.2f kN \"%(F/10**6 ,F_i/1000)"
     ],
     "language": "python",
     "metadata": {},
     "outputs": [
      {
       "output_type": "stream",
       "stream": "stdout",
       "text": [
        " cutting force with parallel cutting edges = 3.825 MN\n",
        " cutting force when shear is considered = 91.48 kN \n"
       ]
      }
     ],
     "prompt_number": 20
    },
    {
     "cell_type": "heading",
     "level": 2,
     "metadata": {},
     "source": [
      "Ex2.7 - page 104"
     ]
    },
    {
     "cell_type": "code",
     "collapsed": false,
     "input": [
      "from math import sqrt\n",
      "d1 = 105 # inside diameter in mm\n",
      "h = 90 # depth in mm\n",
      "t = 1 # thickness in mm\n",
      "D = sqrt(d1**2+4*d1*h) # blank diameter in mm\n",
      "tr = t*100/D # thickness ratio\n",
      "# from table safe drawing ratio is 1.82\n",
      "r = 1.82 # draw ratio\n",
      "d2 = D/r # diameter for first draw in mm\n",
      "d = 130 # Let diameter for first draw in mm\n",
      "ratio1 = D/d # D/d for first draw \n",
      "ratio2 = d/d1 # D/d for second draw\n",
      "h1 =((D)**2-(d)**2)/(4*d) # Depth of first draw in mm\n",
      "sigma = 415 # N/mm**2\n",
      "c = 0.65 # constant\n",
      "pc = pi*d*t*sigma*(D/d - c) # press capacity in kN\n",
      "print \" Blank diameter = %d mm \\n Thickness ratio = %0.3f \\n Diameter for first draw = %d mm \\n Depth of first draw = %0.2f mm \\n Press capacity = %0.2f kN\"%(D,tr,d2,h1,pc/1000)\n",
      "# Answers vary due to round off error"
     ],
     "language": "python",
     "metadata": {},
     "outputs": [
      {
       "output_type": "stream",
       "stream": "stdout",
       "text": [
        " Blank diameter = 220 mm \n",
        " Thickness ratio = 0.453 \n",
        " Diameter for first draw = 121 mm \n",
        " Depth of first draw = 61.39 mm \n",
        " Press capacity = 177.92 kN\n"
       ]
      }
     ],
     "prompt_number": 24
    },
    {
     "cell_type": "heading",
     "level": 2,
     "metadata": {},
     "source": [
      "Ex2.8 - page 105"
     ]
    },
    {
     "cell_type": "code",
     "collapsed": false,
     "input": [
      "d = 80 # diameter in mm\n",
      "h = 250 # height in mm\n",
      "D = sqrt((d**2+4*d*h))/10 # blank diameter in cm\n",
      "D1 = 0.5*D # diameter after first draw in cm\n",
      "# let reduction be 40% in second draw\n",
      "D2 = D1-0.4*D1 # diameter after scond draw in cm\n",
      "R = (1 - (d/(10*D2)))*100 # percentage reduction for third draw\n",
      "l1 = ((D)**2-(D1)**2)/(4*D1) # height of cup after first draw in cm\n",
      "l2 = ((D)**2-(D2)**2)/(4*D2) # height of cup after first draw in cm\n",
      "l3 = ((D)**2-(d/10)**2)/(4*d/10) # height of cup after first draw in cm\n",
      "t = 3 # mm\n",
      "sigma = 250 # N/mm**2\n",
      "C = 0.66\n",
      "F = pi*d/10*t*sigma*((D*10/d)-C) # drawing force in kN\n",
      "print \" Diameter after first draw = %0.1f \\n Diameter after second draw = %0.2f \\n Percentage reduction after third draw = %d percent\"%(D1,D2,R)\n",
      "print \" Height of cup after first draw = %0.2f cm\\n Height of cup after second draw = %0.2f cm\\n Height of cup after third draw = %0.2f cm\"%(l1,l2,l3)\n",
      "print \" Drawing force = %0.3f kN\"%(F/1000)\n",
      "# Answers vary due to round off error"
     ],
     "language": "python",
     "metadata": {},
     "outputs": [
      {
       "output_type": "stream",
       "stream": "stdout",
       "text": [
        " Diameter after first draw = 14.7 \n",
        " Diameter after second draw = 8.82 \n",
        " Percentage reduction after third draw = 9 percent\n",
        " Height of cup after first draw = 11.02 cm\n",
        " Height of cup after second draw = 22.29 cm\n",
        " Height of cup after third draw = 25.00 cm\n",
        " Drawing force = 56.817 kN\n"
       ]
      }
     ],
     "prompt_number": 28
    }
   ],
   "metadata": {}
  }
 ]
}