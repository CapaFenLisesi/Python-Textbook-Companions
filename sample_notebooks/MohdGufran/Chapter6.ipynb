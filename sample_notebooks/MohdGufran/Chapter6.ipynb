{
 "metadata": {
  "name": ""
 },
 "nbformat": 3,
 "nbformat_minor": 0,
 "worksheets": [
  {
   "cells": [
    {
     "cell_type": "heading",
     "level": 1,
     "metadata": {},
     "source": [
      "Chapter 6: Bipolar junction Transistors"
     ]
    },
    {
     "cell_type": "heading",
     "level": 3,
     "metadata": {},
     "source": [
      "Example 6.1 page No.215"
     ]
    },
    {
     "cell_type": "code",
     "collapsed": false,
     "input": [
      "\n",
      "Ic=9.95\t\t\t#in mA\n",
      "Ie=10    \t\t#in mA\n",
      "\n",
      "Ib=Ie-Ic\t\t#in mA\n",
      "\n",
      "print\"Emitter current is \",Ib,\"mA\""
     ],
     "language": "python",
     "metadata": {},
     "outputs": [
      {
       "output_type": "stream",
       "stream": "stdout",
       "text": [
        "Emitter current is  0.05 mA\n"
       ]
      }
     ],
     "prompt_number": 2
    },
    {
     "cell_type": "heading",
     "level": 3,
     "metadata": {},
     "source": [
      "Example 6.2 page No. 216"
     ]
    },
    {
     "cell_type": "code",
     "collapsed": false,
     "input": [
      "\n",
      "IC=0.98\t\t\t#in mA\n",
      "IB=20.0\t\t\t#in uA\n",
      "IB=IB*10**-3\t\t#in mA\n",
      "\n",
      "IE=IB+IC\t\t#in mA\n",
      "\n",
      "alpha=IC/IE\t\t#unitless\n",
      "Beta=IC/IB\t\t#unitless\n",
      "\n",
      "print\"Emitter current is\",IE,\"mA\"\n",
      "print\"Current amplification factor is  \",alpha\n",
      "print\"Current gain factor is \",Beta"
     ],
     "language": "python",
     "metadata": {},
     "outputs": [
      {
       "output_type": "stream",
       "stream": "stdout",
       "text": [
        "Emitter current is 1.0 mA\n",
        "Current amplification factor is   0.98\n",
        "Current gain factor is  49.0\n"
       ]
      }
     ],
     "prompt_number": 13
    },
    {
     "cell_type": "heading",
     "level": 3,
     "metadata": {},
     "source": [
      "Example 6.3 page No.216"
     ]
    },
    {
     "cell_type": "code",
     "collapsed": false,
     "input": [
      "\n",
      "alfaDC=0.98\t\t\t#unitless\n",
      "ICBO=4\t\t\t\t#in uA\n",
      "ICBO=ICBO*10**-3\t\t#in mA\n",
      "IB=50\t\t\t\t#in uA\n",
      "IB=IB*10**-3\t\t\t#in mA\n",
      "\n",
      "IC=alfaDC*IB/(1-alfaDC)+ICBO/(1-alfaDC)\t#in mA\n",
      "IE=IC+IB\t\t\t#in mA\n",
      "\n",
      "print\"Emitter current is \",IE,\"mA\"\n",
      "print\"Collector current is  \",IC,\"mA\""
     ],
     "language": "python",
     "metadata": {},
     "outputs": [
      {
       "output_type": "stream",
       "stream": "stdout",
       "text": [
        "Emitter current is  2.7 mA\n",
        "Collector current is   2.65 mA\n"
       ]
      }
     ],
     "prompt_number": 16
    },
    {
     "cell_type": "heading",
     "level": 3,
     "metadata": {},
     "source": [
      "Example 6.4 page No. 216"
     ]
    },
    {
     "cell_type": "code",
     "collapsed": false,
     "input": [
      "\n",
      "IB=10\t\t\t#in uA\n",
      "IB=IB*10**-3\t\t#in mA\n",
      "Beta=99\t\t\t#Unitless\n",
      "ICO=1\t\t\t#in uA\n",
      "ICO=ICO*10**-3\t\t#in mA\n",
      "\n",
      "IC=Beta*IB+(1+Beta)*ICO\t#in mA\n",
      "\n",
      "print\"Collector current in mA : \",IC,\"mA\""
     ],
     "language": "python",
     "metadata": {},
     "outputs": [
      {
       "output_type": "stream",
       "stream": "stdout",
       "text": [
        "Collector current in mA :  1.09 mA\n"
       ]
      }
     ],
     "prompt_number": 17
    },
    {
     "cell_type": "heading",
     "level": 3,
     "metadata": {},
     "source": [
      "Example 6.5 Page No.216"
     ]
    },
    {
     "cell_type": "code",
     "collapsed": false,
     "input": [
      "\n",
      "Ic=5*10**-3        #mA collector current\n",
      "Ic_=10*10**-3        #mA collector current\n",
      "Ib=50*10**-6       #mA, Base current\n",
      "Icbo=1*10**-6      #micro A, Current to base open current\n",
      "\n",
      "beta=(Ic-Icbo)/(Ib+Icbo)\n",
      "alpha=(beta/(1+beta))\n",
      "Ie=Ib+Ic\n",
      "\n",
      "Ib=(Ic_-(beta+1)*Icbo)/(beta)\n",
      "\n",
      "print\"(i) Current gain factor is\",round(beta,0)\n",
      "print\" Current amplification factor is\",round(alpha,2)\n",
      "print\" Emitter Current  is\",Ie*1000,\"mA\"\n",
      "print\"(ii)New level of Ib  is\",round(Ib*10**6,0),\"micro A\""
     ],
     "language": "python",
     "metadata": {},
     "outputs": [
      {
       "output_type": "stream",
       "stream": "stdout",
       "text": [
        "(i) Current gain factor is 98.0\n",
        " Current amplification factor is 0.99\n",
        " Emitter Current  is 5.05 mA\n",
        "(ii)New level of Ib  is 101.0 micro A\n"
       ]
      }
     ],
     "prompt_number": 6
    },
    {
     "cell_type": "heading",
     "level": 3,
     "metadata": {},
     "source": [
      "Example 6.6 page No. 222"
     ]
    },
    {
     "cell_type": "code",
     "collapsed": false,
     "input": [
      "\n",
      "delVEB=200\t\t\t#in Volts\n",
      "delIE=5\t\t\t\t#in mA\n",
      "\n",
      "rin=delVEB/delIE\t\t#in ohm\n",
      "\n",
      "print\"Dynamic input resistance is \",rin,\"mohm\""
     ],
     "language": "python",
     "metadata": {},
     "outputs": [
      {
       "output_type": "stream",
       "stream": "stdout",
       "text": [
        "Dynamic input resistance is  40 mohm\n"
       ]
      }
     ],
     "prompt_number": 18
    },
    {
     "cell_type": "heading",
     "level": 3,
     "metadata": {},
     "source": [
      "Example 6.7 page No. 222"
     ]
    },
    {
     "cell_type": "code",
     "collapsed": false,
     "input": [
      "\n",
      "\n",
      "ICBO=12.5 \t\t\t#in uA\n",
      "ICBO=ICBO*10**-3 \t\t#in mA\n",
      "IE=2 \t\t\t\t#in mA\n",
      "IC=1.97 \t\t\t#in mA\n",
      "\n",
      "alfa=(IC-ICBO)/IE \t\t#unitless\n",
      "IB=IE-IC \t\t\t#in mA\n",
      "\n",
      "print\"Current gain : \",round(alfa,3)\n",
      "print\"Base current is \",IB,\"mA\""
     ],
     "language": "python",
     "metadata": {},
     "outputs": [
      {
       "output_type": "stream",
       "stream": "stdout",
       "text": [
        "Current gain :  0.979\n",
        "Base current is  0.03 mA\n"
       ]
      }
     ],
     "prompt_number": 32
    },
    {
     "cell_type": "heading",
     "level": 3,
     "metadata": {},
     "source": [
      "Example 6.8 page No. 222"
     ]
    },
    {
     "cell_type": "code",
     "collapsed": false,
     "input": [
      "RL=4.0 \t\t\t#in Kohm\n",
      "VL=3.0\t\t\t#in volt\n",
      "alfa=0.96 \t\t#unitless\n",
      "IC=VL/RL \t\t#in mA\n",
      "\n",
      "IE=IC/alfa \t\t#in mA\n",
      "IB=IE-IC \t\t#in mA\n",
      "\n",
      "print\"Base current ia\",round(IB,2),\"mA\""
     ],
     "language": "python",
     "metadata": {},
     "outputs": [
      {
       "output_type": "stream",
       "stream": "stdout",
       "text": [
        "Base current ia 0.03 mA\n"
       ]
      }
     ],
     "prompt_number": 37
    },
    {
     "cell_type": "heading",
     "level": 3,
     "metadata": {},
     "source": [
      "Example 6.9 page No.227"
     ]
    },
    {
     "cell_type": "code",
     "collapsed": false,
     "input": [
      "\n",
      "VCC=10\t\t\t #in volt\n",
      "RL=800\t\t\t #in ohm\n",
      "VL=0.8\t\t\t #in volt\n",
      "alfa=0.96\t\t #unitless\n",
      "\n",
      "VCE=VCC-VL \t\t#in Volt\n",
      "IC=VL*1000/RL \t\t#in mA\n",
      "Beta=alfa/(1-alfa) \t#unitless\n",
      "IB=IC/Beta \t\t#in mA\n",
      "\n",
      "print\"Collector-emitter Voltage is \",VCE,\"V\"\n",
      "print\"Base current in uA : \",round(IB*1000,2),\"microA\""
     ],
     "language": "python",
     "metadata": {},
     "outputs": [
      {
       "output_type": "stream",
       "stream": "stdout",
       "text": [
        "Collector-emitter Voltage is  9.2 V\n",
        "Base current in uA :  41.67 microA\n"
       ]
      }
     ],
     "prompt_number": 41
    },
    {
     "cell_type": "heading",
     "level": 3,
     "metadata": {},
     "source": [
      "Example 6.10 page No. 227"
     ]
    },
    {
     "cell_type": "code",
     "collapsed": false,
     "input": [
      "\n",
      "alfao=0.98 \t\t#unitless\n",
      "ICO=10 \t\t\t#in uA\n",
      "ICO=ICO*10**-3 \t\t#in mA\n",
      "IB=0.22 \t\t#in mA\n",
      "\n",
      "IC=(alfao*IB+ICO)/(1-alfao) \t#in mA\n",
      "\n",
      "print\"Collector current is\",IC,\"mA\""
     ],
     "language": "python",
     "metadata": {},
     "outputs": [
      {
       "output_type": "stream",
       "stream": "stdout",
       "text": [
        "Collector current is 11.28 mA\n"
       ]
      }
     ],
     "prompt_number": 45
    },
    {
     "cell_type": "heading",
     "level": 3,
     "metadata": {},
     "source": [
      "Example 6.11 page No. 228"
     ]
    },
    {
     "cell_type": "code",
     "collapsed": false,
     "input": [
      "\n",
      "delVEB=250 \t\t#in mVolts\n",
      "delIE=1 \t\t#in mA\n",
      "\n",
      "rin=delVEB/delIE \t#in ohm\n",
      "\n",
      "print\"Dynamic input resistance is\",rin,\"ohm\""
     ],
     "language": "python",
     "metadata": {},
     "outputs": [
      {
       "output_type": "stream",
       "stream": "stdout",
       "text": [
        "Dynamic input resistance is 250 ohm\n"
       ]
      }
     ],
     "prompt_number": 47
    },
    {
     "cell_type": "heading",
     "level": 3,
     "metadata": {},
     "source": [
      "Example 6.12 page No. 228"
     ]
    },
    {
     "cell_type": "code",
     "collapsed": false,
     "input": [
      "\n",
      "delVCE=10-5 \t\t#in Volts\n",
      "delIC=5.8-5\t \t#in mA\n",
      "\n",
      "rin=delVCE/delIC \t#in Kohm\n",
      "\n",
      "print\"Dynamic output resistance is \",rin,\"kohm\""
     ],
     "language": "python",
     "metadata": {},
     "outputs": [
      {
       "output_type": "stream",
       "stream": "stdout",
       "text": [
        "Dynamic output resistance is  6.25 kohm\n"
       ]
      }
     ],
     "prompt_number": 49
    },
       {
     "cell_type": "heading",
     "level": 3,
     "metadata": {},
     "source": [
      "Example 6.16 page No. 233"
     ]
    },
    {
     "cell_type": "code",
     "collapsed": false,
     "input": [
      "\n",
      "Beta=45 \t\t\t#Unitless\n",
      "VBE=0.7 \t\t\t#in Volt\n",
      "VCC=0 \t\t\t\t#in Volt\n",
      "RB=10**5 \t\t\t#in ohm\n",
      "RC=1.2*10**3 \t\t\t#in ohm\n",
      "VEE=-9 \t\t\t\t#in Volt\n",
      "\n",
      "IB=-(VBE+VEE)/RB \t\t#in mA\n",
      "IC=Beta*IB \t\t\t#in mA\n",
      "VC=VCC-IC*RC \t\t\t#in Volts\n",
      "VB=VBE+VEE \t\t\t#in Volts\n",
      "\n",
      "print\"collector voltage is \",round(VC,1),\"V\"\n",
      "print\"Base voltage is \",VB,\"V\""
     ],
     "language": "python",
     "metadata": {},
     "outputs": [
      {
       "output_type": "stream",
       "stream": "stdout",
       "text": [
        "collector voltage is  -4.5 V\n",
        "Base voltage is  -8.3 V\n"
       ]
      }
     ],
     "prompt_number": 60
    }
   ],
   "metadata": {}
  }
 ]
}