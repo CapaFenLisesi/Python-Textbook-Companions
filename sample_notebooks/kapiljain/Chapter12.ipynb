{
 "cells": [
  {
   "cell_type": "markdown",
   "metadata": {
    "collapsed": true
   },
   "source": [
    "# Chapter 12 : Integrated circuits and micro electromechanical Systems "
   ]
  },
  {
   "cell_type": "markdown",
   "metadata": {},
   "source": [
    "## Example number 12.1, Page Number 144"
   ]
  },
  {
   "cell_type": "code",
   "execution_count": 15,
   "metadata": {
    "collapsed": false
   },
   "outputs": [
    {
     "name": "stdout",
     "output_type": "stream",
     "text": [
      "Effective Resistance= 10.17 k-ohm \n"
     ]
    }
   ],
   "source": [
    "#importing modules \n",
    "import math\n",
    "from __future__ import division\n",
    "\n",
    "#Variable declaration\n",
    "l=100                 #length of resistor in micro-m\n",
    "w=10                  #width of resistor in micro-m\n",
    "R=0.9                 #sheet resistance in k-ohm/n \n",
    "End_points=0.65*2     #Total contribution of two end points\n",
    "\n",
    "#Calculations\n",
    "Total_squares=l/w\n",
    "T=Total_squares+End_points  #Total effective sqaures\n",
    "Reff=T*R\n",
    "\n",
    "#Result\n",
    "print \"Effective Resistance= %0.2f k-ohm \" %Reff"
   ]
  },
  {
   "cell_type": "markdown",
   "metadata": {},
   "source": [
    "## Example number 12.2, Page Number 144"
   ]
  },
  {
   "cell_type": "code",
   "execution_count": 10,
   "metadata": {
    "collapsed": false
   },
   "outputs": [
    {
     "name": "stdout",
     "output_type": "stream",
     "text": [
      "Capacitance per unit area= 6.90e-11 F/cm^2 \n"
     ]
    }
   ],
   "source": [
    "#importing modules \n",
    "import math\n",
    "from __future__ import division\n",
    "\n",
    "#Variable declaration\n",
    "epsilon_0=8.85*10**-14   #in F/cm\n",
    "epsilon_i=3.9            #in F/cm\n",
    "tox=0.5*10**-4           #in cm\n",
    "\n",
    "#Calculations\n",
    "C=(epsilon_0*epsilon_i)/tox\n",
    "C=C/10**2                 #converting from pF to F\n",
    "\n",
    "#Result\n",
    "print \"Capacitance per unit area= %.2e F/cm^2 \" %C"
   ]
  },
  {
   "cell_type": "markdown",
   "metadata": {},
   "source": [
    "## Example number 12.3, Page Number 145"
   ]
  },
  {
   "cell_type": "code",
   "execution_count": 9,
   "metadata": {
    "collapsed": false
   },
   "outputs": [
    {
     "name": "stdout",
     "output_type": "stream",
     "text": [
      "Sheet resistance= 250 ohm\n",
      "\n",
      "average resistivity= 0.025 ohm-cm\n"
     ]
    }
   ],
   "source": [
    "#importing modules \n",
    "import math\n",
    "from __future__ import division\n",
    "\n",
    "#Variable declaration\n",
    "Length=4             #in micro-m\n",
    "Width=1              #in micro-m\n",
    "R=1000               #in ohm\n",
    "xj=1*10**-4          #junction depth in cm\n",
    "\n",
    "#Calculations\n",
    "N=Length/Width\n",
    "R0=R/N\n",
    "rho=R0*xj\n",
    "\n",
    "#Result\n",
    "print\"Sheet resistance= %i ohm\\n\" %R0\n",
    "print\"average resistivity= %0.3f ohm-cm\" %rho"
   ]
  }
 ],
 "metadata": {
  "kernelspec": {
   "display_name": "Python 2",
   "language": "python",
   "name": "python2"
  },
  "language_info": {
   "codemirror_mode": {
    "name": "ipython",
    "version": 2
   },
   "file_extension": ".py",
   "mimetype": "text/x-python",
   "name": "python",
   "nbconvert_exporter": "python",
   "pygments_lexer": "ipython2",
   "version": "2.7.11"
  }
 },
 "nbformat": 4,
 "nbformat_minor": 0
}
