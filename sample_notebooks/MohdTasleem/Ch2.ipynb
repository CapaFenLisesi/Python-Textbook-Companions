{
 "metadata": {
  "name": ""
 },
 "nbformat": 3,
 "nbformat_minor": 0,
 "worksheets": [
  {
   "cells": [
    {
     "cell_type": "heading",
     "level": 1,
     "metadata": {},
     "source": [
      "Chapter2 : Energy Bands and Charge Carriers in semiconductor"
     ]
    },
    {
     "cell_type": "heading",
     "level": 3,
     "metadata": {},
     "source": [
      "Example 2.1 Page No. 58"
     ]
    },
    {
     "cell_type": "code",
     "collapsed": false,
     "input": [
      "\n",
      "Eg=0.72            #eV\n",
      "Ef=0.5*Eg\n",
      "dE=Eg-Ef           #eV\n",
      "k=8.61*10**-5     #Boltzman constant\n",
      "T=300             #K\n",
      "\n",
      "import math\n",
      "N=1/(1+math.exp(dE/(k*T)))\n",
      "\n",
      "\n",
      "print\"the fraction of total no. of electron is \",round(N,9)"
     ],
     "language": "python",
     "metadata": {},
     "outputs": [
      {
       "output_type": "stream",
       "stream": "stdout",
       "text": [
        "the fraction of total no. of electron is  8.85e-07\n"
       ]
      }
     ],
     "prompt_number": 1
    },
    {
     "cell_type": "heading",
     "level": 3,
     "metadata": {},
     "source": [
      "Example 2.4 Page No. 62"
     ]
    },
    {
     "cell_type": "code",
     "collapsed": false,
     "input": [
      "\n",
      "E=300*1.602*10**-19            #eV Energy\n",
      "m=9.108*10**-31                #kg, mass of electron\n",
      "h=6.626*10**-34                #Planck constant\n",
      "\n",
      "v=math.sqrt(2*E/m)\n",
      "lam=h*v/E\n",
      "\n",
      "print\"The wavwlength is\",round(lam*10**10,3),\"A\"\n",
      "\n",
      "\n"
     ],
     "language": "python",
     "metadata": {},
     "outputs": [
      {
       "output_type": "stream",
       "stream": "stdout",
       "text": [
        "The wavwlength is 1.416 A\n"
       ]
      }
     ],
     "prompt_number": 22
    },
    {
     "cell_type": "heading",
     "level": 3,
     "metadata": {},
     "source": [
      "Example 2.5 Page No. 70"
     ]
    },
    {
     "cell_type": "code",
     "collapsed": false,
     "input": [
      "\n",
      "ni=1.4*10**18\t\t\t#in atoms/m**3\n",
      "Nd=1.4*10**24\t\t\t#in atoms/m**3\n",
      "n=Nd\t\t\t\t#in atoms/m**3\n",
      "\n",
      "p=ni**2/n\t\t\t#in atoms/m**3\n",
      "ratio=n/p\t\t\t#unitless\n",
      "\n",
      "print\"Ratio of electron to hole concentration : \",round(ratio,2)"
     ],
     "language": "python",
     "metadata": {},
     "outputs": [
      {
       "output_type": "stream",
       "stream": "stdout",
       "text": [
        "Ratio of electron to hole concentration :  1e+12\n"
       ]
      }
     ],
     "prompt_number": 25
    },
    {
     "cell_type": "heading",
     "level": 3,
     "metadata": {},
     "source": [
      "Example 2.7 Page no 74"
     ]
    },
    {
     "cell_type": "code",
     "collapsed": false,
     "input": [
      "\n",
      "n=10**24          #Electron density\n",
      "e=1.6*10**-19     #Electron charge\n",
      "v=0.015           #m/s drift velocity\n",
      "A=10**-4            #m**2 area\n",
      "\n",
      "I=n*e*v/A\n",
      "\n",
      "print\"The magnitude of current is\",round(I/10**8,2),\"A\""
     ],
     "language": "python",
     "metadata": {},
     "outputs": [
      {
       "output_type": "stream",
       "stream": "stdout",
       "text": [
        "The magnitude of current is 0.24 A\n"
       ]
      }
     ],
     "prompt_number": 35
    },
    {
     "cell_type": "heading",
     "level": 3,
     "metadata": {},
     "source": [
      "Example 2.8 Page No. 74"
     ]
    },
    {
     "cell_type": "code",
     "collapsed": false,
     "input": [
      "\n",
      "Ef=5.5\t\t\t#in eV\n",
      "MUe=7.04*10**-3\t\t#in m**2/V-s\n",
      "n=5.8*10**28\t\t#in m**-3\n",
      "e=1.6*10**-19\t\t#constant\n",
      "m=9.1*10**-31\t\t#in Kg\n",
      "\n",
      "import math\n",
      "tau=MUe*m/e\t\t#in sec\n",
      "rho=1/(n*e*MUe)\t\t#in ohm-m\n",
      "vF=math.sqrt(2*Ef*1.6*10**-19/m)\n",
      "\n",
      "print\"Relaxation time in sec : \",tau,\"s\"\n",
      "print\"Resistivity of conductor in ohm-m : \",round(rho,11),\"ohm m\"\n",
      "print\"velocity of electron with fermi energy is \",round(vF,0),\"m/s\""
     ],
     "language": "python",
     "metadata": {},
     "outputs": [
      {
       "output_type": "stream",
       "stream": "stdout",
       "text": [
        "Relaxation time in sec :  4.004e-14 s\n",
        "Resistivity of conductor in ohm-m :  1.531e-08 ohm m\n",
        "velocity of electron with fermi energy is  1390707.0 m/s\n"
       ]
      }
     ],
     "prompt_number": 32
    },
    {
     "cell_type": "heading",
     "level": 3,
     "metadata": {},
     "source": [
      "Example 2.9 Page No. 92"
     ]
    },
    {
     "cell_type": "code",
     "collapsed": false,
     "input": [
      "\n",
      "e=1.6*10**-19\t\t\t#in coulamb\n",
      "ND=10**17\t\t\t#in cm**-3\n",
      "Bz=0.1\t\t\t\t#in Wb/m**2\n",
      "w=4\t\t\t\t#in mm\n",
      "d=4\t\t\t\t#in mm\n",
      "Ex=5\t\t\t\t#in V/cm\n",
      "MUe=3800\t\t\t#in cm**2/V-s\n",
      "\n",
      "v=MUe*Ex\t\t\t#in cm/s\n",
      "v=v*10**-2\t\t\t#in m/s\n",
      "VH=Bz*v*d\t\t\t#in mV\n",
      "\n",
      "print\"Magnitude of hall voltage is\",VH,\"mV\""
     ],
     "language": "python",
     "metadata": {},
     "outputs": [
      {
       "output_type": "stream",
       "stream": "stdout",
       "text": [
        "Magnitude of hall voltage is 76.0 mV\n"
       ]
      }
     ],
     "prompt_number": 19
    },
    {
     "cell_type": "heading",
     "level": 3,
     "metadata": {},
     "source": [
      "Example 2.11 Page No.92"
     ]
    },
    {
     "cell_type": "code",
     "collapsed": false,
     "input": [
      "\n",
      "e=1.6*10**-19\t\t\t#in coulamb\n",
      "ND=10**21\t\t\t#in m**-3\n",
      "Bz=0.2\t\t\t\t#in T\n",
      "d=4\t\t\t\t#in mm\n",
      "d=d*10**-3\t\t\t#in meter\n",
      "J=600\t\t\t\t#in A/m**2\n",
      "n=ND\t\t\t\t#in m**-3\n",
      "\n",
      "VH=Bz*J*d/(n*e)\t\t\t#in V\n",
      "\n",
      "print\"Magnitude of hall voltage is \",VH*10**3,\"mV\""
     ],
     "language": "python",
     "metadata": {},
     "outputs": [
      {
       "output_type": "stream",
       "stream": "stdout",
       "text": [
        "Magnitude of hall voltage is  3.0 mV\n"
       ]
      }
     ],
     "prompt_number": 22
    },
    {
     "cell_type": "heading",
     "level": 3,
     "metadata": {},
     "source": [
      "Example 2.12 Page No."
     ]
    },
    {
     "cell_type": "code",
     "collapsed": false,
     "input": [
      "\n",
      "e=1.6*10**-19\t\t\t#in coulamb\n",
      "rho=0.00912\t\t\t#in ohm-m\n",
      "B=0.48\t\t\t\t#in Wb/m**2\n",
      "RH=3.55*10**-4\t\t\t#in m**3-coulamb**-1\n",
      "SIGMA=1/rho\t\t\t#in (ohm=m)**-1\n",
      "\n",
      "import math\n",
      "THETAh=math.atan(SIGMA*B*RH)\t#in Degree\n",
      "\n",
      "print\"Hall angle is\",round(THETAh*180/3.14,4),\"degree\""
     ],
     "language": "python",
     "metadata": {},
     "outputs": [
      {
       "output_type": "stream",
       "stream": "stdout",
       "text": [
        "Hall angle is 1.0709 degree\n"
       ]
      }
     ],
     "prompt_number": 169
    },
    {
     "cell_type": "code",
     "collapsed": false,
     "input": [],
     "language": "python",
     "metadata": {},
     "outputs": []
    }
   ],
   "metadata": {}
  }
 ]
}