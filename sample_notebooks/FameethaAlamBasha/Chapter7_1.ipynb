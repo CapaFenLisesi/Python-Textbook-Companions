{
 "cells": [
  {
   "cell_type": "markdown",
   "metadata": {},
   "source": [
    "# Chapter 7:Starting And Speed Control Of Induction Motor "
   ]
  },
  {
   "cell_type": "markdown",
   "metadata": {},
   "source": [
    "## Example 7.1,Page 7-6"
   ]
  },
  {
   "cell_type": "code",
   "execution_count": 2,
   "metadata": {
    "collapsed": false
   },
   "outputs": [
    {
     "name": "stdout",
     "output_type": "stream",
     "text": [
      "x= 0.7453\n",
      "Thus 74.53 % tapping is required\n",
      "Ist= 3.33 IF.L\n",
      "Thus supply starting current is 3.33 times the full load current\n"
     ]
    }
   ],
   "source": [
    "import math\n",
    "\n",
    "#variable declaration\n",
    "Isc=6     # starting current at rated voltage(amp)\n",
    "Sf=5      # full load slip\n",
    "Tfl=Tst=1 # full load torque=starting torque(N-m)\n",
    "Ifl=1     # full load current(amp)\n",
    "\n",
    "#calculation\n",
    "x=math.sqrt((Tst/Tfl) * ((float(Ifl)/float(Isc))**2)*(1/(float(Sf)/100)))\n",
    "print 'x=',str (x)[:6]\n",
    "print 'Thus',str(x*100)[:5],'% tapping is required'\n",
    "\n",
    "#Ist(supply)=x**2 * 6\n",
    "Ist=(x**2) * Isc    # supply starting current(IF.L)\n",
    "Ist=round(Ist,2)\n",
    "print 'Ist=',Ist,'IF.L'\n",
    "print 'Thus supply starting current is',Ist,'times the full load current'"
   ]
  }
 ],
 "metadata": {
  "kernelspec": {
   "display_name": "Python 2",
   "language": "python",
   "name": "python2"
  },
  "language_info": {
   "codemirror_mode": {
    "name": "ipython",
    "version": 2
   },
   "file_extension": ".py",
   "mimetype": "text/x-python",
   "name": "python",
   "nbconvert_exporter": "python",
   "pygments_lexer": "ipython2",
   "version": "2.7.11"
  }
 },
 "nbformat": 4,
 "nbformat_minor": 0
}
