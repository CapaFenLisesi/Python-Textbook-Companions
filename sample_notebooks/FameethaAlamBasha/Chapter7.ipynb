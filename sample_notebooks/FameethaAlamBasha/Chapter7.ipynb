{
 "cells": [
  {
   "cell_type": "markdown",
   "metadata": {},
   "source": [
    "# Chapter 7: Starting And Speed Control Of Induction Motor\n",
    "\n",
    "## Example 7.1, Page 7-6\n",
    "\n",
    "import math\n",
    "\n",
    "#variable declaration\n",
    "\n",
    "print 'starting current at rated voltage = Isc'\n",
    "Isc=6    # Isc is 6 times its full load current(IF.L)\n",
    "Sf=0.05  # full load slip=5%=5/100\n",
    "print 'x = Tapping on autotransformer'\n",
    "\n",
    "#calculation\n",
    "\n",
    "#TF.L=Tst\n",
    "#Tst/TF.L=x**2 * ([Isc/IF.L]**2) * Sf\n",
    "#1=x**2[6/1]**2 * 0.05\n",
    "#since TF.L=Tst, Tst/Tst=1\n",
    "x=math.sqrt(((1.0/6.0)**2)*(1.0/0.05))\n",
    "print 'x=',str (x)[:6]\n",
    "print 'Thus',str(x*100)[:5],'% tapping is required'\n",
    "#Thus 74.53% tapping is reqiured.\n",
    "\n",
    "#Now Ist(supply)=x * Ist(motor)\n",
    "#Ist(supply)=x**2 * 6\n",
    "Ist=(x**2) * 6    # supply starting current(IF.L)\n",
    "Ist=round(Ist,2)\n",
    "print 'Ist=',Ist,'IF.L'\n",
    "\n",
    "#result\n",
    "\n",
    "print 'Thus supply starting current is',Ist,'times the full load current'\n",
    "#Thus Supply starting current is 3.33 times the full load current."
   ]
  },
  {
   "cell_type": "code",
   "execution_count": null,
   "metadata": {
    "collapsed": true
   },
   "outputs": [],
   "source": []
  }
 ],
 "metadata": {
  "kernelspec": {
   "display_name": "Python 2",
   "language": "python",
   "name": "python2"
  },
  "language_info": {
   "codemirror_mode": {
    "name": "ipython",
    "version": 2
   },
   "file_extension": ".py",
   "mimetype": "text/x-python",
   "name": "python",
   "nbconvert_exporter": "python",
   "pygments_lexer": "ipython2",
   "version": "2.7.11"
  }
 },
 "nbformat": 4,
 "nbformat_minor": 0
}
