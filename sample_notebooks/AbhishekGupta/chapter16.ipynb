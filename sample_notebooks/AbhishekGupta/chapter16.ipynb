{
 "metadata": {
  "name": "",
  "signature": "sha256:5681cda1a39ee67e447ba1a84903896a8e1196df60e583969d262ff3e357d1cb"
 },
 "nbformat": 3,
 "nbformat_minor": 0,
 "worksheets": [
  {
   "cells": [
    {
     "cell_type": "heading",
     "level": 1,
     "metadata": {},
     "source": [
      "Chapter16:WIRELESS WANs: CELLULAR TELEPHONE\n",
      "AND SATELLITE NETWORKS"
     ]
    },
    {
     "cell_type": "heading",
     "level": 2,
     "metadata": {},
     "source": [
      "Ex16.1:pg-479"
     ]
    },
    {
     "cell_type": "code",
     "collapsed": false,
     "input": [
      "#example1\n",
      "#calculate the period of the Moon\n",
      "\n",
      "C=1.0/100;\n",
      "dist_moon=384000; # 384,000 km\n",
      "radius_earth = 6378; # 6378 km\n",
      "distance=dist_moon+radius_earth ;#  total distance in km\n",
      "Period=C*((distance)**1.5); #formula\n",
      "month=round(Period/2592000); # 1 month = 60*60*24*30=2592000 seconds\n",
      "print\"The period of the Moon, according to Keplers law is\",round(month)\n",
      "\n"
     ],
     "language": "python",
     "metadata": {},
     "outputs": [
      {
       "output_type": "stream",
       "stream": "stdout",
       "text": [
        "The period of the Moon, according to Keplers law is 1.0\n"
       ]
      }
     ],
     "prompt_number": 13
    },
    {
     "cell_type": "heading",
     "level": 2,
     "metadata": {},
     "source": [
      "Ex16.2:pg-479"
     ]
    },
    {
     "cell_type": "code",
     "collapsed": false,
     "input": [
      "#example2\n",
      "#calculate of the period of the satellite\n",
      "C=1.0/100;\n",
      "orbit=35786; # 35,786 km\n",
      "radius_earth = 6378; # 6378 km\n",
      "distance=orbit+radius_earth ;#  total distance in km\n",
      "Period=C*((distance)**1.5); #formula\n",
      "hour=round(Period/3600); # 1 hour = 60*60=3600 seconds\n",
      "print\"According to Keplers law, the period of the satellite is\",floor(Period),\"s or \",hour, \"hours.\"\n",
      "print\"\\nThis means that a satellite located at\", orbit,\"km has a period of \",hour,\"h, which is the same as the rotation period of the Earth.\\nA satellite like this is said to be stationary to the Earth. The orbit is called a geosynchronous orbit.\"\n"
     ],
     "language": "python",
     "metadata": {},
     "outputs": [
      {
       "output_type": "stream",
       "stream": "stdout",
       "text": [
        "According to Keplers law, the period of the satellite is 86579.0 s or  24.0 hours.\n",
        "\n",
        "This means that a satellite located at 35786 km has a period of  24.0 h, which is the same as the rotation period of the Earth.\n",
        "A satellite like this is said to be stationary to the Earth. The orbit is called a geosynchronous orbit.\n"
       ]
      }
     ],
     "prompt_number": 14
    },
    {
     "cell_type": "code",
     "collapsed": false,
     "input": [],
     "language": "python",
     "metadata": {},
     "outputs": []
    }
   ],
   "metadata": {}
  }
 ]
}