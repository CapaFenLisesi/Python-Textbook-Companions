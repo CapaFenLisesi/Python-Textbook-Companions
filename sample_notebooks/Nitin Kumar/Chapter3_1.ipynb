{
 "metadata": {
  "name": "",
  "signature": "sha256:4dd75e820655e4b9c7b707a16e607a97dc80135f17b0fdcdf8960be3f0fc80b3"
 },
 "nbformat": 3,
 "nbformat_minor": 0,
 "worksheets": [
  {
   "cells": [
    {
     "cell_type": "heading",
     "level": 1,
     "metadata": {},
     "source": [
      "Chapter 3 - Operational Amplifiers and their parameters"
     ]
    },
    {
     "cell_type": "heading",
     "level": 2,
     "metadata": {},
     "source": [
      "Ex 3.1, page 76"
     ]
    },
    {
     "cell_type": "code",
     "collapsed": false,
     "input": [
      "fBW=4 #MHz\n",
      "fo=10 #Hz\n",
      "AOL=fBW*10**6/fo #unitless\n",
      "print \"Open loop gain is %.0e \" %AOL"
     ],
     "language": "python",
     "metadata": {},
     "outputs": [
      {
       "output_type": "stream",
       "stream": "stdout",
       "text": [
        "Open loop gain is 4e+05 \n"
       ]
      }
     ],
     "prompt_number": 9
    },
    {
     "cell_type": "heading",
     "level": 2,
     "metadata": {},
     "source": [
      "Ex 3.2, page 78"
     ]
    },
    {
     "cell_type": "code",
     "collapsed": false,
     "input": [
      "V1=-10 #V\n",
      "V2=10 #V\n",
      "SR=0.5 #V/micro second\n",
      "delta_Vo=V2-V1 #V\n",
      "delta_t=delta_Vo/SR #micro second\n",
      "print \"Time taken by op-amp is %d us\" %delta_t"
     ],
     "language": "python",
     "metadata": {},
     "outputs": [
      {
       "output_type": "stream",
       "stream": "stdout",
       "text": [
        "Time taken by op-amp is 40 us\n"
       ]
      }
     ],
     "prompt_number": 10
    },
    {
     "cell_type": "heading",
     "level": 2,
     "metadata": {},
     "source": [
      "Ex 3.3, page 78"
     ]
    },
    {
     "cell_type": "code",
     "collapsed": false,
     "input": [
      "import math\n",
      "SR=0.6 #V/micro second\n",
      "f=100 #kHz\n",
      "Vm=(SR/10**-6)/(2*math.pi*f*1000) #V\n",
      "print \"Maximum voltage, Vm is %0.3f V\" %Vm"
     ],
     "language": "python",
     "metadata": {},
     "outputs": [
      {
       "output_type": "stream",
       "stream": "stdout",
       "text": [
        "Maximum voltage, Vm is 0.955 V\n"
       ]
      }
     ],
     "prompt_number": 13
    },
    {
     "cell_type": "heading",
     "level": 2,
     "metadata": {},
     "source": [
      "Ex 3.4, page 79"
     ]
    },
    {
     "cell_type": "code",
     "collapsed": false,
     "input": [
      "import math\n",
      "SR=0.5 #V/micro second\n",
      "Vm=10 #V\n",
      "f=100 #kHz\n",
      "fm=(SR/10**-6)/(2*math.pi*Vm)/1000 #kHz\n",
      "print \"Maximum frequency, fm is %.2f kHz\" %fm"
     ],
     "language": "python",
     "metadata": {},
     "outputs": [
      {
       "output_type": "stream",
       "stream": "stdout",
       "text": [
        "Maximum frequency, fm is 7.96 kHz\n"
       ]
      }
     ],
     "prompt_number": 16
    },
    {
     "cell_type": "heading",
     "level": 2,
     "metadata": {},
     "source": [
      "Ex 3.5, page 79"
     ]
    },
    {
     "cell_type": "code",
     "collapsed": false,
     "input": [
      "delta_t=0.3/2 #micro second\n",
      "V1=-3 #V\n",
      "V2=3 #V\n",
      "delta_Vo=V2-V1 #V\n",
      "SR=delta_Vo/delta_t #V/micro second\n",
      "print \"Slew rate is %d V/us\" %SR"
     ],
     "language": "python",
     "metadata": {},
     "outputs": [
      {
       "output_type": "stream",
       "stream": "stdout",
       "text": [
        "Slew rate is 40 V/us\n"
       ]
      }
     ],
     "prompt_number": 17
    },
    {
     "cell_type": "heading",
     "level": 2,
     "metadata": {},
     "source": [
      "Ex 3.6, page 80"
     ]
    },
    {
     "cell_type": "code",
     "collapsed": false,
     "input": [
      "SR=2 #V/micro second\n",
      "delta_Vin=0.8 #V\n",
      "delta_t=10 #micro second\n",
      "Acl_max=SR/(delta_Vin/delta_t) #unitless\n",
      "print \"Maximum close loop voltage gain is %d\" %Acl_max"
     ],
     "language": "python",
     "metadata": {},
     "outputs": [
      {
       "output_type": "stream",
       "stream": "stdout",
       "text": [
        "Maximum close loop voltage gain is 25\n"
       ]
      }
     ],
     "prompt_number": 18
    },
    {
     "cell_type": "heading",
     "level": 2,
     "metadata": {},
     "source": [
      "Ex 3.7, page 80"
     ]
    },
    {
     "cell_type": "code",
     "collapsed": false,
     "input": [
      "import math\n",
      "SR=6 #V/micro second\n",
      "#Part (i)\n",
      "Vm=1 #V\n",
      "fm=(SR/10**-6)/(2*math.pi*Vm)/1000 #kHz\n",
      "print \"part (i) Maximum frequency, fm is %d kHz\" %fm\n",
      "#Part (i)\n",
      "Vm=10 #V\n",
      "fm=(SR/10**-6)/(2*math.pi*Vm)/1000 #kHz\n",
      "print \"part (ii) Maximum frequency, fm is %.1f kHz\" %fm"
     ],
     "language": "python",
     "metadata": {},
     "outputs": [
      {
       "output_type": "stream",
       "stream": "stdout",
       "text": [
        "part (i) Maximum frequency, fm is 954 kHz\n",
        "part (ii) Maximum frequency, fm is 95.5 kHz\n"
       ]
      }
     ],
     "prompt_number": 21
    }
   ],
   "metadata": {}
  }
 ]
}