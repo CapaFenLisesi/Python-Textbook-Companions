{
 "metadata": {
  "name": "",
  "signature": "sha256:d86ea2343f7008555f3356fee2fcfd0faad0c29bd34da2bb93d133cd162e92e2"
 },
 "nbformat": 3,
 "nbformat_minor": 0,
 "worksheets": [
  {
   "cells": [
    {
     "cell_type": "heading",
     "level": 1,
     "metadata": {},
     "source": [
      "Chapter 3 Polarization of light"
     ]
    },
    {
     "cell_type": "heading",
     "level": 2,
     "metadata": {},
     "source": [
      "Example 3.1 Page no 30"
     ]
    },
    {
     "cell_type": "code",
     "collapsed": false,
     "input": [
      "#Given\n",
      "u =1.54                                     #refrective index of glass\n",
      "\n",
      "#Calculation\n",
      "import math\n",
      "i= math.atan(u*180/3.14)\n",
      "r=3.14/2.0-i\n",
      "\n",
      "#Result\n",
      "print\"Angle of refraction is\",round(r,4),\"degree\""
     ],
     "language": "python",
     "metadata": {},
     "outputs": [
      {
       "output_type": "stream",
       "stream": "stdout",
       "text": [
        "Angle of refraction is 0.0105 degree\n"
       ]
      }
     ],
     "prompt_number": 11
    },
    {
     "cell_type": "heading",
     "level": 2,
     "metadata": {},
     "source": [
      "Example 3.2 Page no 30"
     ]
    },
    {
     "cell_type": "code",
     "collapsed": false,
     "input": [
      "#Given\n",
      "i= 3.14/3.0\n",
      "\n",
      "#Calculation\n",
      "import math\n",
      "u= math.tan(i)*180/3.14\n",
      "\n",
      "#Result\n",
      "print\"Refractive index of glass is\",round(u,2)\n"
     ],
     "language": "python",
     "metadata": {},
     "outputs": [
      {
       "output_type": "stream",
       "stream": "stdout",
       "text": [
        "Refractive index of glass is 99.17\n"
       ]
      }
     ],
     "prompt_number": 13
    },
    {
     "cell_type": "raw",
     "metadata": {},
     "source": [
      "Example 3.3 Page no 31"
     ]
    },
    {
     "cell_type": "code",
     "collapsed": false,
     "input": [
      "#Given\n",
      "Uo =1.55\n",
      "Ue =1.54\n",
      "w=6*10**-7\n",
      "\n",
      "#Calculation\n",
      "p=w/2.0\n",
      "t=w /(2*( Uo -Ue))\n",
      "\n",
      "#Result\n",
      "print\"Thickness of doubly refracting crystal is\",t*10**2,\"cm\""
     ],
     "language": "python",
     "metadata": {},
     "outputs": [
      {
       "output_type": "stream",
       "stream": "stdout",
       "text": [
        "Thickness of doubly refracting crystal is 0.003 cm\n"
       ]
      }
     ],
     "prompt_number": 15
    },
    {
     "cell_type": "heading",
     "level": 2,
     "metadata": {},
     "source": [
      "Example 3.4 Page no 31"
     ]
    },
    {
     "cell_type": "code",
     "collapsed": false,
     "input": [
      "#Given\n",
      "Uo =1.54\n",
      "r =1.007\n",
      "Ue=r*Uo\n",
      "w =5893*10**-10\n",
      "\n",
      "#Calculation\n",
      "t=w /(2*( Uo -Ue))\n",
      "t= abs (t)\n",
      "\n",
      "print\"Thickness of halfwave plate is\",round(t*10**5,3)*10**-5"
     ],
     "language": "python",
     "metadata": {},
     "outputs": [
      {
       "output_type": "stream",
       "stream": "stdout",
       "text": [
        "Thickness of halfwave plate is 2.733e-05\n"
       ]
      }
     ],
     "prompt_number": 19
    },
    {
     "cell_type": "heading",
     "level": 2,
     "metadata": {},
     "source": [
      "Example 3.5 Page no 32"
     ]
    },
    {
     "cell_type": "code",
     "collapsed": false,
     "input": [
      "#Given\n",
      "Uo =1.652                         #refractive index for O ray\n",
      "Ue =1.488\n",
      "w =546*10**-9\n",
      "\n",
      "#Calculation\n",
      "p=w/2.0\n",
      "t=w /(4.0*( Uo -Ue))\n",
      "t1=t *100\n",
      "\n",
      "#Result\n",
      "print\"Thickness of quarterwave plate is\",round(t1*10**5,2)*10**-5,\"cm\""
     ],
     "language": "python",
     "metadata": {},
     "outputs": [
      {
       "output_type": "stream",
       "stream": "stdout",
       "text": [
        "Thickness of quarterwave plate is 8.32e-05 cm\n"
       ]
      }
     ],
     "prompt_number": 23
    },
    {
     "cell_type": "heading",
     "level": 2,
     "metadata": {},
     "source": [
      "Example 3.6 Page no 32"
     ]
    },
    {
     "cell_type": "code",
     "collapsed": false,
     "input": [
      "#Given\n",
      "Uo =1.658\n",
      "Ue =1.486\n",
      "w =589*10**-9\n",
      "n =1\n",
      "\n",
      "#Calculation\n",
      "t =(2*n -1)*w /(4.0*( Uo -Ue))\n",
      "t1=t *100\n",
      "\n",
      "#Result\n",
      "print\"Thickness of calcite plate is\",round(t1*10**5,2)*10**-5,\"cm\""
     ],
     "language": "python",
     "metadata": {},
     "outputs": [
      {
       "output_type": "stream",
       "stream": "stdout",
       "text": [
        "Thickness of calcite plate is 8.56e-05 cm\n"
       ]
      }
     ],
     "prompt_number": 27
    },
    {
     "cell_type": "heading",
     "level": 2,
     "metadata": {},
     "source": [
      "Example 3.7 Page no 33"
     ]
    },
    {
     "cell_type": "code",
     "collapsed": false,
     "input": [
      "#Given\n",
      "Ur =1.55810\n",
      "Ul =1.55821\n",
      "w=4*10**-7\n",
      "d =0.002\n",
      "\n",
      "#Calculation\n",
      "R= 3.14*d*(Ul -Ur)/w\n",
      "R1=R *180/3.14\n",
      "\n",
      "#Result\n",
      "print\"Amount of optional rotation is\",R1,\"Degree\""
     ],
     "language": "python",
     "metadata": {},
     "outputs": [
      {
       "output_type": "stream",
       "stream": "stdout",
       "text": [
        "Amount of optional rotation is 99.0 Degree\n"
       ]
      }
     ],
     "prompt_number": 29
    },
    {
     "cell_type": "heading",
     "level": 2,
     "metadata": {},
     "source": [
      "Example 3.8 Page no 33"
     ]
    },
    {
     "cell_type": "code",
     "collapsed": false,
     "input": [
      "#Given\n",
      "Uo =1.5508\n",
      "Ue =1.5418\n",
      "w=5.0*10**-7\n",
      "t =0.000032\n",
      "\n",
      "#Calculation\n",
      "p =2*3.14*(Uo -Ue)*t/w\n",
      "\n",
      "#Result\n",
      "print\"Phase retardation is\",round(p,2),\"radian\""
     ],
     "language": "python",
     "metadata": {},
     "outputs": [
      {
       "output_type": "stream",
       "stream": "stdout",
       "text": [
        "Phase retardation is 3.62 radian\n"
       ]
      }
     ],
     "prompt_number": 31
    },
    {
     "cell_type": "heading",
     "level": 2,
     "metadata": {},
     "source": [
      "Example 3.9 Page no 33"
     ]
    },
    {
     "cell_type": "code",
     "collapsed": false,
     "input": [
      "#Given\n",
      "theta =6.5\n",
      "l =2\n",
      "C =0.05\n",
      "\n",
      "#Calculation\n",
      "S= theta /(l*C)\n",
      "\n",
      "#Result\n",
      "print\"Specific rotation of sugar solution is\",S"
     ],
     "language": "python",
     "metadata": {},
     "outputs": [
      {
       "output_type": "stream",
       "stream": "stdout",
       "text": [
        "Specific rotation of sugar solution is 65.0\n"
       ]
      }
     ],
     "prompt_number": 32
    },
    {
     "cell_type": "heading",
     "level": 2,
     "metadata": {},
     "source": [
      "Example 3.10 Page no 34"
     ]
    },
    {
     "cell_type": "code",
     "collapsed": false,
     "input": [
      "#Given\n",
      "l =2                                    #length of solution in decimeter\n",
      "theta =12\n",
      "S =60.0\n",
      "\n",
      "#Calculation\n",
      "C= theta /(S*l)\n",
      "\n",
      "#Result\n",
      "print\"Strength of solution is\",C,\"gm/cc\""
     ],
     "language": "python",
     "metadata": {},
     "outputs": [
      {
       "output_type": "stream",
       "stream": "stdout",
       "text": [
        "Strength of solution is 0.1 gm/cc\n"
       ]
      }
     ],
     "prompt_number": 34
    },
    {
     "cell_type": "heading",
     "level": 2,
     "metadata": {},
     "source": [
      "Example 3.11 Page no 34"
     ]
    },
    {
     "cell_type": "code",
     "collapsed": false,
     "input": [
      "#Given\n",
      "b =.172                              #bifringe of plate\n",
      "w=6*10**-7\n",
      "\n",
      "\n",
      "#Calculation\n",
      "t=w /(4*( b))\n",
      "t1=t *100\n",
      "\n",
      "#Result\n",
      "print\"Thickness of quarterwave plate is\",round(t1*10**5,2)*10**-5,\"cm\""
     ],
     "language": "python",
     "metadata": {},
     "outputs": [
      {
       "output_type": "stream",
       "stream": "stdout",
       "text": [
        "Thickness of quarterwave plate is 8.72e-05 cm\n"
       ]
      }
     ],
     "prompt_number": 39
    }
   ],
   "metadata": {}
  }
 ]
}