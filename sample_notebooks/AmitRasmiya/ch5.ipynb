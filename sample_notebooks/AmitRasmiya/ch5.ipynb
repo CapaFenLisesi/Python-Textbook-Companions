{
 "metadata": {
  "name": "",
  "signature": "sha256:f9430cdf3ccbe0455a5081c4e47c887588ff78214ec8703c5bcd6324cca5d35d"
 },
 "nbformat": 3,
 "nbformat_minor": 0,
 "worksheets": [
  {
   "cells": [
    {
     "cell_type": "heading",
     "level": 1,
     "metadata": {},
     "source": [
      "Chapter 5 : Single Phase Transformers"
     ]
    },
    {
     "cell_type": "heading",
     "level": 2,
     "metadata": {},
     "source": [
      "Example 5.1  Page No :  5.5"
     ]
    },
    {
     "cell_type": "code",
     "collapsed": false,
     "input": [
      "# Variables\n",
      "kVA = 250.;\t\t\t\t#kVA\n",
      "V1 = 11000.;\t\t\t\t#V(Primary voltage)\n",
      "V2 = 400.;\t\t\t\t#V(secondary voltage)\n",
      "f = 50.;\t\t\t\t#Hz\n",
      "N2 = 80.;\t\t\t\t#no. of turns in secondary\n",
      "\n",
      "# Calculations and Results\n",
      "Ifl1 = kVA*1000/V1;\t\t\t\t#A(Full load primay current)\n",
      "Ifl2 = kVA*1000/V2;\t\t\t\t#A(Full load secondary current)\n",
      "print (\"Part(a)\");\n",
      "print \"Full load primary current(A) %.2f\"%Ifl1\n",
      "print \"Full load secondary current(A) : %.2f\"%Ifl2\n",
      "\n",
      "print (\"Part(b)\");\n",
      "N1 = N2*V1/V2;\t\t\t\t#no. of turns in secondary\n",
      "print \"No. of turns in primary : %.2f\"%N1\n",
      "print (\"Part(c)\");\n",
      "fi_m = V2/(4.44*N2*f);\t\t\t\t#Wb\n",
      "print \"Maximum value of flux(mWb) : %2.f\"%(fi_m*1000)\n"
     ],
     "language": "python",
     "metadata": {},
     "outputs": [
      {
       "output_type": "stream",
       "stream": "stdout",
       "text": [
        "Part(a)\n",
        "Full load primary current(A) 22.73\n",
        "Full load secondary current(A) : 625.00\n",
        "Part(b)\n",
        "No. of turns in primary : 2200.00\n",
        "Part(c)\n",
        "Maximum value of flux(mWb) : 23\n"
       ]
      }
     ],
     "prompt_number": 1
    },
    {
     "cell_type": "heading",
     "level": 2,
     "metadata": {},
     "source": [
      "Example 5.2  Page No :  5.6"
     ]
    },
    {
     "cell_type": "code",
     "collapsed": false,
     "input": [
      "import math \n",
      "\n",
      "# Variables\n",
      "N1 = 480;\t\t\t\t#no. of turns in primary\n",
      "N2 = 90;\t\t\t\t#no. of turns in secondary\n",
      "lfp = 1.8;\t\t\t\t#m(length of flux path)\n",
      "ag = 0.1;\t\t\t\t#mm(airgap)\n",
      "Flux = 1.1;\t\t\t\t#T(flux density)\n",
      "MF = 400;\t\t\t\t#A/m(Magnetic flux)\n",
      "c_loss = 1.7;\t\t\t\t#W/kg\n",
      "f = 50;\t\t\t\t#Hz\n",
      "d = 7800;\t\t\t\t#kg/m**3(density of core)\n",
      "V = 2200;\t\t\t\t#V(potential difference)\n",
      "\n",
      "# Calculations and Results\n",
      "#Part (a)\n",
      "fi_m = V/(4.44*N1*f);\t\t\t\t#Wb\n",
      "A = fi_m/Flux;\t\t\t\t#m**2(Cross sectional area)\n",
      "print \"(a) Cross sectional area(m**2) : %.2f\"%A\n",
      "#Part (b)\n",
      "Vnl2 = V*N2/N1;\t\t\t\t#V(2ndary voltage on no load)\n",
      "print \"(b) 2ndary voltage on no load(V) : %.f\"%Vnl2\n",
      "\n",
      "#Part (c)\n",
      "Fm1 = MF*lfp;\t\t\t\t#A(Magnetootive force for the core)\n",
      "Fm2 = Flux/(4*math.pi*10**-7)*ag*10**-3;\t\t\t\t#A(Magnetootive force for airgap)\n",
      "Fm = Fm1+Fm2;\t\t\t\t#A(Total magnetomotive force)\n",
      "Imax = Fm/N1;\t\t\t\t#A(maximum value of magnetizing current)\n",
      "Iom = Imax/math.sqrt(2);\t\t\t\t#A(rms current)\n",
      "v = lfp*A;\t\t\t\t#m**3(Volume of core)\n",
      "m = v*d;\t\t\t\t#kg(Mass of core)\n",
      "coreLoss = c_loss*m;\t\t\t\t#W(Core Loss)\n",
      "Io1 = coreLoss/V;\t\t\t\t#A(Core loss component of curent)\n",
      "Io = math.sqrt(Iom**2+Io1**2);\t\t\t\t#A(no load current)\n",
      "print \"(c) Primary current on no load(A) : %.2f\"%Io\n",
      "\n",
      "pf = Io1/Io;\t\t\t\t#lagging pf on no load\n",
      "print \"(c) Power factor(lagging) on no load : %.2f\"%pf\n"
     ],
     "language": "python",
     "metadata": {},
     "outputs": [
      {
       "output_type": "stream",
       "stream": "stdout",
       "text": [
        "(a) Cross sectional area(m**2) : 0.02\n",
        "(b) 2ndary voltage on no load(V) : 412\n",
        "(c) Primary current on no load(A) : 1.21\n",
        "(c) Power factor(lagging) on no load : 0.17\n"
       ]
      }
     ],
     "prompt_number": 2
    },
    {
     "cell_type": "heading",
     "level": 2,
     "metadata": {},
     "source": [
      "Example 5.3  Page No :  5.8"
     ]
    },
    {
     "cell_type": "code",
     "collapsed": false,
     "input": [
      "\n",
      "# Variables\n",
      "N1 = 1000;\t\t\t\t#no. of turns in primary\n",
      "N2 = 200;\t\t\t\t#no. of turns in secondary\n",
      "I0 = 3;\t\t\t\t#A\n",
      "pf0 = 0.2;\t\t\t\t#lagging power factor\n",
      "I2 = 280;\t\t\t\t#A(2ndary current)\n",
      "pf2 = 0.8;\t\t\t\t#lagging power factor\n",
      "\n",
      "# Calculations and Results\n",
      "I2dash = I2*N2/N1;\t\t\t\t#A\n",
      "cosfi0 = pf0;cosfi2 = pf2;sinfi0 = math.sqrt(1-cosfi0**2);sinfi2 = math.sqrt(1-cosfi2**2);\n",
      "I1_cosfi1 = I2dash*cosfi2+I0*cosfi0;\t\t\t\t#A\n",
      "I1_sinfi1 = I2dash*sinfi2+I0*sinfi0;\t\t\t\t#A\n",
      "I1 = math.sqrt(I1_cosfi1**2+I1_sinfi1**2);\t\t\t\t#A\n",
      "print \"Primary current(A) : %.1f\"%I1\n",
      "\n",
      "fi1 = math.degrees(math.atan(I1_sinfi1/I1_cosfi1));\t\t\t\t#degree\n",
      "pf1 = math.cos(math.radians(fi1));\t\t\t\t#lagging\n",
      "print \"Primary power factor(lagging) : %.2f\"%pf1\n"
     ],
     "language": "python",
     "metadata": {},
     "outputs": [
      {
       "output_type": "stream",
       "stream": "stdout",
       "text": [
        "Primary current(A) : 58.3\n",
        "Primary power factor(lagging) : 0.78\n"
       ]
      }
     ],
     "prompt_number": 9
    }
   ],
   "metadata": {}
  }
 ]
}