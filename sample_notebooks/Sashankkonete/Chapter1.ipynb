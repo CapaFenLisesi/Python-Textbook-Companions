{
 "metadata": {
  "name": "",
  "signature": "sha256:edfd4792836df6190ed0a8d87ba87b2a1115c66d7d1cb21a33ed50c25e8f72b5"
 },
 "nbformat": 3,
 "nbformat_minor": 0,
 "worksheets": [
  {
   "cells": [
    {
     "cell_type": "heading",
     "level": 1,
     "metadata": {},
     "source": [
      "Chapter 1 - Electric drives"
     ]
    },
    {
     "cell_type": "heading",
     "level": 2,
     "metadata": {},
     "source": [
      "Example 1 - pg 6"
     ]
    },
    {
     "cell_type": "code",
     "collapsed": false,
     "input": [
      "#calculate the Total annual cost in both cases\n",
      "#Initialization of variables\n",
      "C_g=60000.;#in Rs\n",
      "C_id=18750*10;#in Rs\n",
      "E_c=75000;#in kWh\n",
      "E_a=60000;#in kWh\n",
      "#Calculations\n",
      "D=0.12*C_g;#in Rs\n",
      "C_e=4*E_c;#in Rs\n",
      "C_t=D+C_e;#in Rs\n",
      "AD=0.15*C_id;#in Rs\n",
      "C_ea=4*E_a;#in Rs\n",
      "C_total=AD+C_ea;#in Rs\n",
      "#Results\n",
      "print 'Total annual cost in case of group drive (in Rs)=',C_t\n",
      "print 'Total annual cost in case of individual drive (in Rs)=',C_total"
     ],
     "language": "python",
     "metadata": {},
     "outputs": [
      {
       "output_type": "stream",
       "stream": "stdout",
       "text": [
        "Total annual cost in case of group drive (in Rs)= 307200.0\n",
        "Total annual cost in case of individual drive (in Rs)= 268125.0\n"
       ]
      }
     ],
     "prompt_number": 1
    },
    {
     "cell_type": "heading",
     "level": 2,
     "metadata": {},
     "source": [
      "Example 2 - pg 17"
     ]
    },
    {
     "cell_type": "code",
     "collapsed": false,
     "input": [
      "#calculate the stable operating point\n",
      "import math\n",
      "#Initialization of variables\n",
      "a=1;\n",
      "b=1;\n",
      "c=-30;\n",
      "#Calculations\n",
      "w_m=(-b+math.sqrt((b**2)-4*a*c))/(2*a);#speed of the drive\n",
      "t_l=0.5*(w_m**2);#motoring torqe \n",
      "#Results\n",
      "print 'stable operating point=',w_m,t_l"
     ],
     "language": "python",
     "metadata": {},
     "outputs": [
      {
       "output_type": "stream",
       "stream": "stdout",
       "text": [
        "stable operating point= 5.0 12.5\n"
       ]
      }
     ],
     "prompt_number": 2
    },
    {
     "cell_type": "heading",
     "level": 2,
     "metadata": {},
     "source": [
      "Example 3 - pg 18"
     ]
    },
    {
     "cell_type": "code",
     "collapsed": false,
     "input": [
      "#calculate the power developed by the motor\n",
      "#Initialization of variables\n",
      "import math\n",
      "J_m=0.4;#motor inertia(in Kg-m2)\n",
      "J_l=10.;#load inertia(in Kg-m2)\n",
      "a=0.1;#Teeth ratio of gear\n",
      "i=1./a;\n",
      "N=1400.;\n",
      "pi=22./7.;\n",
      "n=0.90;#efficency of motor\n",
      "T_l=50.;#Torque(N-m)\n",
      "#Calculations\n",
      "J=J_m+J_l/(i**2);#Total moment of inertia referred to the motor shaft\n",
      "T_L=T_l/(i*n);#total equivalent torque referref to motor shaft\n",
      "P=T_L*2*pi*N/60.;#power developed by motor\n",
      "#Results\n",
      "print 'power developed by motor(in Watt)=',math.ceil(P)"
     ],
     "language": "python",
     "metadata": {},
     "outputs": [
      {
       "output_type": "stream",
       "stream": "stdout",
       "text": [
        "power developed by motor(in Watt)= 815.0\n"
       ]
      }
     ],
     "prompt_number": 3
    },
    {
     "cell_type": "heading",
     "level": 2,
     "metadata": {},
     "source": [
      "Example 4 - pg 19"
     ]
    },
    {
     "cell_type": "code",
     "collapsed": false,
     "input": [
      "#calculate the total torque and power developed\n",
      "#Initialization of variables\n",
      "import math\n",
      "J_m=0.4;#motor inertia(in Kg-m2)\n",
      "J_l=10;#load inertia(in Kg-m2)\n",
      "a=0.1;#Teeth ratio of gear\n",
      "N=1500.;\n",
      "n_t=0.88;\n",
      "m=600.;#weight\n",
      "g=9.81;\n",
      "#Calculations\n",
      "f_r=m*g;#force\n",
      "w_m=2*math.pi*N/60.;#motor speed\n",
      "w=2.;#uniform speed of weight lifting\n",
      "n=0.9;#efficency of motor\n",
      "T_l=50;#Torque(N-m)\n",
      "J=J_m+(a**2)*J_l+m*((w/w_m)**2);#Total moment of inertia referred to the motor shaft\n",
      "T_L=(a*T_l/n)+f_r*w/(n_t*w_m) ;#total equivalent torque referred to motor shaft\n",
      "p=T_L*w_m;#power developed by motor(in Watt)\n",
      "P=p/1000.;#power developed by motor(in kWatt)\n",
      "#Results\n",
      "print 'Total torque referred to motor shaft(in kg-m2)=',round(J,2)\n",
      "print 'Total equivalent Torque referred to motor shaft(in N-m)=',round(T_L,2)\n",
      "print 'power developed by motor(in kWatt)=',round(P,2)\n",
      "print 'The answers are a bit different from textbook due to rounding off error'"
     ],
     "language": "python",
     "metadata": {},
     "outputs": [
      {
       "output_type": "stream",
       "stream": "stdout",
       "text": [
        "Total torque referred to motor shaft(in kg-m2)= 0.6\n",
        "Total equivalent Torque referred to motor shaft(in N-m)= 90.72\n",
        "power developed by motor(in kWatt)= 14.25\n",
        "The answers are a bit different from textbook due to rounding off error\n"
       ]
      }
     ],
     "prompt_number": 4
    },
    {
     "cell_type": "heading",
     "level": 2,
     "metadata": {},
     "source": [
      "Example 5 - pg 50"
     ]
    },
    {
     "cell_type": "code",
     "collapsed": false,
     "input": [
      "#calculate the Motor Speed\n",
      "#Initialization of variables\n",
      "import math\n",
      "from math import ceil\n",
      "V=220.;#in volts\n",
      "V_1=200.;#in volts\n",
      "N=1000.;#in rpm\n",
      "I=100.;#in amperes\n",
      "R_a=0.1;#in ohms\n",
      "#Calculations\n",
      "E_b=V-I*R_a;#in volts\n",
      "I_1=I;#in amperes\n",
      "E_b1=V_1-I_1*R_a;#in volts\n",
      "N_1=N*E_b1/E_b;\n",
      "#Results\n",
      "print 'Motor Speed (in rpm)=',ceil(N_1)"
     ],
     "language": "python",
     "metadata": {},
     "outputs": [
      {
       "output_type": "stream",
       "stream": "stdout",
       "text": [
        "Motor Speed (in rpm)= 905.0\n"
       ]
      }
     ],
     "prompt_number": 5
    },
    {
     "cell_type": "heading",
     "level": 2,
     "metadata": {},
     "source": [
      "Example 6 - pg 50"
     ]
    },
    {
     "cell_type": "code",
     "collapsed": false,
     "input": [
      "#calculate the full load Speed and Torque\n",
      "#Initialization of variables\n",
      "import math\n",
      "from math import ceil\n",
      "V=230;#in volts\n",
      "R_sh=230;#in ohms\n",
      "R_a=0.5;#in ohms\n",
      "I_sh=V/R_sh;#in amperes\n",
      "#Calculations\n",
      "I_lo=3;#in amperes\n",
      "I_ao=I_lo-I_sh;#in amperes\n",
      "E_bo=V-I_ao*R_a;#in volts\n",
      "N_o=1000;#in rpm\n",
      "I_lf=23;#in amperes\n",
      "I_af=I_lf-I_sh;#in amperes\n",
      "E_bf=V-I_af*R_a;#in volts\n",
      "Phy_ratio=0.98;\n",
      "N_f=N_o*(E_bf/E_bo)/Phy_ratio;\n",
      "T_f=9.55*E_bf*I_af/N_f;\n",
      "#Results\n",
      "print 'Full Load Speed (in rpm)=',ceil(N_f)\n",
      "print 'Full load Torque (in Newton-meter)=',round(T_f,2)"
     ],
     "language": "python",
     "metadata": {},
     "outputs": [
      {
       "output_type": "stream",
       "stream": "stdout",
       "text": [
        "Full Load Speed (in rpm)= 976.0\n",
        "Full load Torque (in Newton-meter)= 47.15\n"
       ]
      }
     ],
     "prompt_number": 6
    },
    {
     "cell_type": "heading",
     "level": 2,
     "metadata": {},
     "source": [
      "Example 7 - pg 51"
     ]
    },
    {
     "cell_type": "code",
     "collapsed": false,
     "input": [
      "#calculate the Armature voltage drop at full load\n",
      "#Initialization of variables\n",
      "V=440.;#in volts\n",
      "N_o=2000.;#in rpm\n",
      "E_bo=440.;#in volts\n",
      "N_f=1000.;#in rpm\n",
      "N_h=1050.;#in rpm\n",
      "#Calculations\n",
      "E_bf=E_bo*N_f/N_o#in volts\n",
      "E_b=E_bo*N_h/N_o;#in volts\n",
      "v=(E_b-E_bf)*2;\n",
      "#Results\n",
      "print 'Armature voltage drop at full load (in volts)=',v"
     ],
     "language": "python",
     "metadata": {},
     "outputs": [
      {
       "output_type": "stream",
       "stream": "stdout",
       "text": [
        "Armature voltage drop at full load (in volts)= 22.0\n"
       ]
      }
     ],
     "prompt_number": 7
    },
    {
     "cell_type": "heading",
     "level": 2,
     "metadata": {},
     "source": [
      "Example 8 - pg 51"
     ]
    },
    {
     "cell_type": "code",
     "collapsed": false,
     "input": [
      "#calculate the Speed\n",
      "#Initialization of variables\n",
      "V=230.;#in volts\n",
      "N1=750.;#in rpm\n",
      "R=10.;#in ohms\n",
      "I_a=30.;#in amperes\n",
      "#Calculations\n",
      "N2=N1*((V+I_a*R)/V)**-1;\n",
      "#Results\n",
      "print'Speed (in rpm)=',int(N2)"
     ],
     "language": "python",
     "metadata": {},
     "outputs": [
      {
       "output_type": "stream",
       "stream": "stdout",
       "text": [
        "Speed (in rpm)= 325\n"
       ]
      }
     ],
     "prompt_number": 9
    },
    {
     "cell_type": "heading",
     "level": 2,
     "metadata": {},
     "source": [
      "Example 9 - pg 52"
     ]
    },
    {
     "cell_type": "code",
     "collapsed": false,
     "input": [
      "#calculate the Speed in both cases\n",
      "import math\n",
      "from math import ceil\n",
      "#Initialization of variables\n",
      "V=200.;#in volts\n",
      "I_1=20.#in amperes\n",
      "R_a=0.5;#in ohms\n",
      "#Calculations\n",
      "E_b1=V-I_1*R_a;#in volts\n",
      "N1=700;#in rpm\n",
      "I_2=math.sqrt(1.44)*I_1;#in amperes\n",
      "E_b2=V-I_2*R_a;#in volts\n",
      "N2=N1*(E_b2/E_b1)*(I_1/I_2);\n",
      "I_3=10;#in amperes\n",
      "E_b3=V-I_3*R_a;#in volts\n",
      "N3=N1*(E_b3/E_b1)*(I_1/I_3);\n",
      "#Results\n",
      "print '(a) Speed (in rpm)=',round(N2,1)\n",
      "print '(b) Speed (in rpm)=',ceil(N3)"
     ],
     "language": "python",
     "metadata": {},
     "outputs": [
      {
       "output_type": "stream",
       "stream": "stdout",
       "text": [
        "(a) Speed (in rpm)= 577.2\n",
        "(b) Speed (in rpm)= 1437.0\n"
       ]
      }
     ],
     "prompt_number": 10
    },
    {
     "cell_type": "heading",
     "level": 2,
     "metadata": {},
     "source": [
      "Example 10 - pg 52"
     ]
    },
    {
     "cell_type": "code",
     "collapsed": false,
     "input": [
      "#calculate the Torque and Speed\n",
      "#Initialization of variables\n",
      "import math\n",
      "from math import ceil\n",
      "V=230.;#in volts\n",
      "I_1=90.;#in amperes\n",
      "R_a=0.08;#in ohms\n",
      "R_se=0.05;#in ohms\n",
      "E_2=180.;#in volts\n",
      "N2=700.;#in rpm\n",
      "R=1.5;#in ohms\n",
      "#Calculations\n",
      "R_m=R_a+R_se;#in ohms\n",
      "E_b1=V-I_1*(R_m+R);#in volts\n",
      "N1=N2*(E_b1/E_2);\n",
      "T=9.55*E_b1*I_1/N1;\n",
      "#Results\n",
      "print 'Speed (in rpm)=',ceil(N1)\n",
      "print 'Torque (in Newton-meter)=',round(T,0)"
     ],
     "language": "python",
     "metadata": {},
     "outputs": [
      {
       "output_type": "stream",
       "stream": "stdout",
       "text": [
        "Speed (in rpm)= 324.0\n",
        "Torque (in Newton-meter)= 221.0\n"
       ]
      }
     ],
     "prompt_number": 11
    }
   ],
   "metadata": {}
  }
 ]
}