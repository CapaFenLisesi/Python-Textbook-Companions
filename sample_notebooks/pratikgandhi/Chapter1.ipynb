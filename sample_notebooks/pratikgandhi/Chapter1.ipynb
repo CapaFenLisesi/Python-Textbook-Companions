<!DOCTYPE html>
<html>
<head>

<meta charset="utf-8" />
<title>Chapter1_1</title>

<script src="https://cdnjs.cloudflare.com/ajax/libs/require.js/2.1.10/require.min.js"></script>
<script src="https://cdnjs.cloudflare.com/ajax/libs/jquery/2.0.3/jquery.min.js"></script>
<script src="https://cdn.rawgit.com/fossee/custom/static/custom.js"></script>

<style type="text/css">
    /*!
*
* Twitter Bootstrap
*
*//*! normalize.css v3.0.2 | MIT License | git.io/normalize */html{font-family:sans-serif;-ms-text-size-adjust:100%;-webkit-text-size-adjust:100%}body{margin:0}article,aside,details,figcaption,figure,footer,header,hgroup,main,menu,nav,section,summary{display:block}audio,canvas,progress,video{display:inline-block;vertical-align:baseline}audio:not([controls]){display:none;height:0}[hidden],template{display:none}a{background-color:transparent}a:active,a:hover{outline:0}abbr[title]{border-bottom:1px dotted}b,strong{font-weight:bold}dfn{font-style:italic}h1{font-size:2em;margin:.67em 0}mark{background:#ff0;color:#000}small{font-size:80%}sub,sup{font-size:75%;line-height:0;position:relative;vertical-align:baseline}sup{top:-0.5em}sub{bottom:-0.25em}img{border:0}svg:not(:root){overflow:hidden}figure{margin:1em 40px}hr{-moz-box-sizing:content-box;box-sizing:content-box;height:0}pre{overflow:auto}code,kbd,pre,samp{font-family:monospace,monospace;font-size:1em}button,input,optgroup,select,textarea{color:inherit;font:inherit;margin:0}button{overflow:visible}button,select{text-transform:none}button,html input[type="button"],input[type="reset"],input[type="submit"]{-webkit-appearance:button;cursor:pointer}button[disabled],html input[disabled]{cursor:default}button::-moz-focus-inner,input::-moz-focus-inner{border:0;padding:0}input{line-height:normal}input[type="checkbox"],input[type="radio"]{box-sizing:border-box;padding:0}input[type="number"]::-webkit-inner-spin-button,input[type="number"]::-webkit-outer-spin-button{height:auto}input[type="search"]{-webkit-appearance:textfield;-moz-box-sizing:content-box;-webkit-box-sizing:content-box;box-sizing:content-box}input[type="search"]::-webkit-search-cancel-button,input[type="search"]::-webkit-search-decoration{-webkit-appearance:none}fieldset{border:1px solid #c0c0c0;margin:0 2px;padding:.35em .625em .75em}legend{border:0;padding:0}textarea{overflow:auto}optgroup{font-weight:bold}table{border-collapse:collapse;border-spacing:0}td,th{padding:0}/*! Source: https://github.com/h5bp/html5-boilerplate/blob/master/src/css/main.css */@media print{*,*:before,*:after{background:transparent !important;color:#000 !important;box-shadow:none !important;text-shadow:none !important}a,a:visited{text-decoration:underline}a[href]:after{content:" (" attr(href) ")"}abbr[title]:after{content:" (" attr(title) ")"}a[href^="#"]:after,a[href^="javascript:"]:after{content:""}pre,blockquote{border:1px solid #999;page-break-inside:avoid}thead{display:table-header-group}tr,img{page-break-inside:avoid}img{max-width:100% !important}p,h2,h3{orphans:3;widows:3}h2,h3{page-break-after:avoid}select{background:#fff !important}.navbar{display:none}.btn>.caret,.dropup>.btn>.caret{border-top-color:#000 !important}.label{border:1px solid #000}.table{border-collapse:collapse !important}.table td,.table th{background-color:#fff !important}.table-bordered th,.table-bordered td{border:1px solid #ddd !important}}@font-face{font-family:'Glyphicons Halflings';src:url('../components/bootstrap/fonts/glyphicons-halflings-regular.eot');src:url('../components/bootstrap/fonts/glyphicons-halflings-regular.eot?#iefix') format('embedded-opentype'),url('../components/bootstrap/fonts/glyphicons-halflings-regular.woff') format('woff'),url('../components/bootstrap/fonts/glyphicons-halflings-regular.ttf') format('truetype'),url('../components/bootstrap/fonts/glyphicons-halflings-regular.svg#glyphicons_halflingsregular') format('svg')}.glyphicon{position:relative;top:1px;display:inline-block;font-family:'Glyphicons Halflings';font-style:normal;font-weight:normal;line-height:1;-webkit-font-smoothing:antialiased;-moz-osx-font-smoothing:grayscale}.glyphicon-asterisk:before{content:"\2a"}.glyphicon-plus:before{content:"\2b"}.glyphicon-euro:before,.glyphicon-eur:before{content:"\20ac"}.glyphicon-minus:before{content:"\2212"}.glyphicon-cloud:before{content:"\2601"}.glyphicon-envelope:before{content:"\2709"}.glyphicon-pencil:before{content:"\270f"}.glyphicon-glass:before{content:"\e001"}.glyphicon-music:before{content:"\e002"}.glyphicon-search:before{content:"\e003"}.glyphicon-heart:before{content:"\e005"}.glyphicon-star:before{content:"\e006"}.glyphicon-star-empty:before{content:"\e007"}.glyphicon-user:before{content:"\e008"}.glyphicon-film:before{content:"\e009"}.glyphicon-th-large:before{content:"\e010"}.glyphicon-th:before{content:"\e011"}.glyphicon-th-list:before{content:"\e012"}.glyphicon-ok:before{content:"\e013"}.glyphicon-remove:before{content:"\e014"}.glyphicon-zoom-in:before{content:"\e015"}.glyphicon-zoom-out:before{content:"\e016"}.glyphicon-off:before{content:"\e017"}.glyphicon-signal:before{content:"\e018"}.glyphicon-cog:before{content:"\e019"}.glyphicon-trash:before{content:"\e020"}.glyphicon-home:before{content:"\e021"}.glyphicon-file:before{content:"\e022"}.glyphicon-time:before{content:"\e023"}.glyphicon-road:before{content:"\e024"}.glyphicon-download-alt:before{content:"\e025"}.glyphicon-download:before{content:"\e026"}.glyphicon-upload:before{content:"\e027"}.glyphicon-inbox:before{content:"\e028"}.glyphicon-play-circle:before{content:"\e029"}.glyphicon-repeat:before{content:"\e030"}.glyphicon-refresh:before{content:"\e031"}.glyphicon-list-alt:before{content:"\e032"}.glyphicon-lock:before{content:"\e033"}.glyphicon-flag:before{content:"\e034"}.glyphicon-headphones:before{content:"\e035"}.glyphicon-volume-off:before{content:"\e036"}.glyphicon-volume-down:before{content:"\e037"}.glyphicon-volume-up:before{content:"\e038"}.glyphicon-qrcode:before{content:"\e039"}.glyphicon-barcode:before{content:"\e040"}.glyphicon-tag:before{content:"\e041"}.glyphicon-tags:before{content:"\e042"}.glyphicon-book:before{content:"\e043"}.glyphicon-bookmark:before{content:"\e044"}.glyphicon-print:before{content:"\e045"}.glyphicon-camera:before{content:"\e046"}.glyphicon-font:before{content:"\e047"}.glyphicon-bold:before{content:"\e048"}.glyphicon-italic:before{content:"\e049"}.glyphicon-text-height:before{content:"\e050"}.glyphicon-text-width:before{content:"\e051"}.glyphicon-align-left:before{content:"\e052"}.glyphicon-align-center:before{content:"\e053"}.glyphicon-align-right:before{content:"\e054"}.glyphicon-align-justify:before{content:"\e055"}.glyphicon-list:before{content:"\e056"}.glyphicon-indent-left:before{content:"\e057"}.glyphicon-indent-right:before{content:"\e058"}.glyphicon-facetime-video:before{content:"\e059"}.glyphicon-picture:before{content:"\e060"}.glyphicon-map-marker:before{content:"\e062"}.glyphicon-adjust:before{content:"\e063"}.glyphicon-tint:before{content:"\e064"}.glyphicon-edit:before{content:"\e065"}.glyphicon-share:before{content:"\e066"}.glyphicon-check:before{content:"\e067"}.glyphicon-move:before{content:"\e068"}.glyphicon-step-backward:before{content:"\e069"}.glyphicon-fast-backward:before{content:"\e070"}.glyphicon-backward:before{content:"\e071"}.glyphicon-play:before{content:"\e072"}.glyphicon-pause:before{content:"\e073"}.glyphicon-stop:before{content:"\e074"}.glyphicon-forward:before{content:"\e075"}.glyphicon-fast-forward:before{content:"\e076"}.glyphicon-step-forward:before{content:"\e077"}.glyphicon-eject:before{content:"\e078"}.glyphicon-chevron-left:before{content:"\e079"}.glyphicon-chevron-right:before{content:"\e080"}.glyphicon-plus-sign:before{content:"\e081"}.glyphicon-minus-sign:before{content:"\e082"}.glyphicon-remove-sign:before{content:"\e083"}.glyphicon-ok-sign:before{content:"\e084"}.glyphicon-question-sign:before{content:"\e085"}.glyphicon-info-sign:before{content:"\e086"}.glyphicon-screenshot:before{content:"\e087"}.glyphicon-remove-circle:before{content:"\e088"}.glyphicon-ok-circle:before{content:"\e089"}.glyphicon-ban-circle:before{content:"\e090"}.glyphicon-arrow-left:before{content:"\e091"}.glyphicon-arrow-right:before{content:"\e092"}.glyphicon-arrow-up:before{content:"\e093"}.glyphicon-arrow-down:before{content:"\e094"}.glyphicon-share-alt:before{content:"\e095"}.glyphicon-resize-full:before{content:"\e096"}.glyphicon-resize-small:before{content:"\e097"}.glyphicon-exclamation-sign:before{content:"\e101"}.glyphicon-gift:before{content:"\e102"}.glyphicon-leaf:before{content:"\e103"}.glyphicon-fire:before{content:"\e104"}.glyphicon-eye-open:before{content:"\e105"}.glyphicon-eye-close:before{content:"\e106"}.glyphicon-warning-sign:before{content:"\e107"}.glyphicon-plane:before{content:"\e108"}.glyphicon-calendar:before{content:"\e109"}.glyphicon-random:before{content:"\e110"}.glyphicon-comment:before{content:"\e111"}.glyphicon-magnet:before{content:"\e112"}.glyphicon-chevron-up:before{content:"\e113"}.glyphicon-chevron-down:before{content:"\e114"}.glyphicon-retweet:before{content:"\e115"}.glyphicon-shopping-cart:before{content:"\e116"}.glyphicon-folder-close:before{content:"\e117"}.glyphicon-folder-open:before{content:"\e118"}.glyphicon-resize-vertical:before{content:"\e119"}.glyphicon-resize-horizontal:before{content:"\e120"}.glyphicon-hdd:before{content:"\e121"}.glyphicon-bullhorn:before{content:"\e122"}.glyphicon-bell:before{content:"\e123"}.glyphicon-certificate:before{content:"\e124"}.glyphicon-thumbs-up:before{content:"\e125"}.glyphicon-thumbs-down:before{content:"\e126"}.glyphicon-hand-right:before{content:"\e127"}.glyphicon-hand-left:before{content:"\e128"}.glyphicon-hand-up:before{content:"\e129"}.glyphicon-hand-down:before{content:"\e130"}.glyphicon-circle-arrow-right:before{content:"\e131"}.glyphicon-circle-arrow-left:before{content:"\e132"}.glyphicon-circle-arrow-up:before{content:"\e133"}.glyphicon-circle-arrow-down:before{content:"\e134"}.glyphicon-globe:before{content:"\e135"}.glyphicon-wrench:before{content:"\e136"}.glyphicon-tasks:before{content:"\e137"}.glyphicon-filter:before{content:"\e138"}.glyphicon-briefcase:before{content:"\e139"}.glyphicon-fullscreen:before{content:"\e140"}.glyphicon-dashboard:before{content:"\e141"}.glyphicon-paperclip:before{content:"\e142"}.glyphicon-heart-empty:before{content:"\e143"}.glyphicon-link:before{content:"\e144"}.glyphicon-phone:before{content:"\e145"}.glyphicon-pushpin:before{content:"\e146"}.glyphicon-usd:before{content:"\e148"}.glyphicon-gbp:before{content:"\e149"}.glyphicon-sort:before{content:"\e150"}.glyphicon-sort-by-alphabet:before{content:"\e151"}.glyphicon-sort-by-alphabet-alt:before{content:"\e152"}.glyphicon-sort-by-order:before{content:"\e153"}.glyphicon-sort-by-order-alt:before{content:"\e154"}.glyphicon-sort-by-attributes:before{content:"\e155"}.glyphicon-sort-by-attributes-alt:before{content:"\e156"}.glyphicon-unchecked:before{content:"\e157"}.glyphicon-expand:before{content:"\e158"}.glyphicon-collapse-down:before{content:"\e159"}.glyphicon-collapse-up:before{content:"\e160"}.glyphicon-log-in:before{content:"\e161"}.glyphicon-flash:before{content:"\e162"}.glyphicon-log-out:before{content:"\e163"}.glyphicon-new-window:before{content:"\e164"}.glyphicon-record:before{content:"\e165"}.glyphicon-save:before{content:"\e166"}.glyphicon-open:before{content:"\e167"}.glyphicon-saved:before{content:"\e168"}.glyphicon-import:before{content:"\e169"}.glyphicon-export:before{content:"\e170"}.glyphicon-send:before{content:"\e171"}.glyphicon-floppy-disk:before{content:"\e172"}.glyphicon-floppy-saved:before{content:"\e173"}.glyphicon-floppy-remove:before{content:"\e174"}.glyphicon-floppy-save:before{content:"\e175"}.glyphicon-floppy-open:before{content:"\e176"}.glyphicon-credit-card:before{content:"\e177"}.glyphicon-transfer:before{content:"\e178"}.glyphicon-cutlery:before{content:"\e179"}.glyphicon-header:before{content:"\e180"}.glyphicon-compressed:before{content:"\e181"}.glyphicon-earphone:before{content:"\e182"}.glyphicon-phone-alt:before{content:"\e183"}.glyphicon-tower:before{content:"\e184"}.glyphicon-stats:before{content:"\e185"}.glyphicon-sd-video:before{content:"\e186"}.glyphicon-hd-video:before{content:"\e187"}.glyphicon-subtitles:before{content:"\e188"}.glyphicon-sound-stereo:before{content:"\e189"}.glyphicon-sound-dolby:before{content:"\e190"}.glyphicon-sound-5-1:before{content:"\e191"}.glyphicon-sound-6-1:before{content:"\e192"}.glyphicon-sound-7-1:before{content:"\e193"}.glyphicon-copyright-mark:before{content:"\e194"}.glyphicon-registration-mark:before{content:"\e195"}.glyphicon-cloud-download:before{content:"\e197"}.glyphicon-cloud-upload:before{content:"\e198"}.glyphicon-tree-conifer:before{content:"\e199"}.glyphicon-tree-deciduous:before{content:"\e200"}*{-webkit-box-sizing:border-box;-moz-box-sizing:border-box;box-sizing:border-box}*:before,*:after{-webkit-box-sizing:border-box;-moz-box-sizing:border-box;box-sizing:border-box}html{font-size:10px;-webkit-tap-highlight-color:rgba(0,0,0,0)}body{font-family:"Helvetica Neue",Helvetica,Arial,sans-serif;font-size:13px;line-height:1.42857143;color:#000;background-color:#fff}input,button,select,textarea{font-family:inherit;font-size:inherit;line-height:inherit}a{color:#337ab7;text-decoration:none}a:hover,a:focus{color:#23527c;text-decoration:underline}a:focus{outline:thin dotted;outline:5px auto -webkit-focus-ring-color;outline-offset:-2px}figure{margin:0}img{vertical-align:middle}.img-responsive,.thumbnail>img,.thumbnail a>img,.carousel-inner>.item>img,.carousel-inner>.item>a>img{display:block;max-width:100%;height:auto}.img-rounded{border-radius:3px}.img-thumbnail{padding:4px;line-height:1.42857143;background-color:#fff;border:1px solid #ddd;border-radius:2px;-webkit-transition:all .2s ease-in-out;-o-transition:all .2s ease-in-out;transition:all .2s ease-in-out;display:inline-block;max-width:100%;height:auto}.img-circle{border-radius:50%}hr{margin-top:18px;margin-bottom:18px;border:0;border-top:1px solid #eee}.sr-only{position:absolute;width:1px;height:1px;margin:-1px;padding:0;overflow:hidden;clip:rect(0, 0, 0, 0);border:0}.sr-only-focusable:active,.sr-only-focusable:focus{position:static;width:auto;height:auto;margin:0;overflow:visible;clip:auto}h1,h2,h3,h4,h5,h6,.h1,.h2,.h3,.h4,.h5,.h6{font-family:inherit;font-weight:500;line-height:1.1;color:inherit}h1 small,h2 small,h3 small,h4 small,h5 small,h6 small,.h1 small,.h2 small,.h3 small,.h4 small,.h5 small,.h6 small,h1 .small,h2 .small,h3 .small,h4 .small,h5 .small,h6 .small,.h1 .small,.h2 .small,.h3 .small,.h4 .small,.h5 .small,.h6 .small{font-weight:normal;line-height:1;color:#777}h1,.h1,h2,.h2,h3,.h3{margin-top:18px;margin-bottom:9px}h1 small,.h1 small,h2 small,.h2 small,h3 small,.h3 small,h1 .small,.h1 .small,h2 .small,.h2 .small,h3 .small,.h3 .small{font-size:65%}h4,.h4,h5,.h5,h6,.h6{margin-top:9px;margin-bottom:9px}h4 small,.h4 small,h5 small,.h5 small,h6 small,.h6 small,h4 .small,.h4 .small,h5 .small,.h5 .small,h6 .small,.h6 .small{font-size:75%}h1,.h1{font-size:33px}h2,.h2{font-size:27px}h3,.h3{font-size:23px}h4,.h4{font-size:17px}h5,.h5{font-size:13px}h6,.h6{font-size:12px}p{margin:0 0 9px}.lead{margin-bottom:18px;font-size:14px;font-weight:300;line-height:1.4}@media (min-width:768px){.lead{font-size:19.5px}}small,.small{font-size:92%}mark,.mark{background-color:#fcf8e3;padding:.2em}.text-left{text-align:left}.text-right{text-align:right}.text-center{text-align:center}.text-justify{text-align:justify}.text-nowrap{white-space:nowrap}.text-lowercase{text-transform:lowercase}.text-uppercase{text-transform:uppercase}.text-capitalize{text-transform:capitalize}.text-muted{color:#777}.text-primary{color:#337ab7}a.text-primary:hover{color:#286090}.text-success{color:#3c763d}a.text-success:hover{color:#2b542c}.text-info{color:#31708f}a.text-info:hover{color:#245269}.text-warning{color:#8a6d3b}a.text-warning:hover{color:#66512c}.text-danger{color:#a94442}a.text-danger:hover{color:#843534}.bg-primary{color:#fff;background-color:#337ab7}a.bg-primary:hover{background-color:#286090}.bg-success{background-color:#dff0d8}a.bg-success:hover{background-color:#c1e2b3}.bg-info{background-color:#d9edf7}a.bg-info:hover{background-color:#afd9ee}.bg-warning{background-color:#fcf8e3}a.bg-warning:hover{background-color:#f7ecb5}.bg-danger{background-color:#f2dede}a.bg-danger:hover{background-color:#e4b9b9}.page-header{padding-bottom:8px;margin:36px 0 18px;border-bottom:1px solid #eee}ul,ol{margin-top:0;margin-bottom:9px}ul ul,ol ul,ul ol,ol ol{margin-bottom:0}.list-unstyled{padding-left:0;list-style:none}.list-inline{padding-left:0;list-style:none;margin-left:-5px}.list-inline>li{display:inline-block;padding-left:5px;padding-right:5px}dl{margin-top:0;margin-bottom:18px}dt,dd{line-height:1.42857143}dt{font-weight:bold}dd{margin-left:0}@media (min-width:541px){.dl-horizontal dt{float:left;width:160px;clear:left;text-align:right;overflow:hidden;text-overflow:ellipsis;white-space:nowrap}.dl-horizontal dd{margin-left:180px}}abbr[title],abbr[data-original-title]{cursor:help;border-bottom:1px dotted #777}.initialism{font-size:90%;text-transform:uppercase}blockquote{padding:9px 18px;margin:0 0 18px;font-size:inherit;border-left:5px solid #eee}blockquote p:last-child,blockquote ul:last-child,blockquote ol:last-child{margin-bottom:0}blockquote footer,blockquote small,blockquote .small{display:block;font-size:80%;line-height:1.42857143;color:#777}blockquote footer:before,blockquote small:before,blockquote .small:before{content:'\2014 \00A0'}.blockquote-reverse,blockquote.pull-right{padding-right:15px;padding-left:0;border-right:5px solid #eee;border-left:0;text-align:right}.blockquote-reverse footer:before,blockquote.pull-right footer:before,.blockquote-reverse small:before,blockquote.pull-right small:before,.blockquote-reverse .small:before,blockquote.pull-right .small:before{content:''}.blockquote-reverse footer:after,blockquote.pull-right footer:after,.blockquote-reverse small:after,blockquote.pull-right small:after,.blockquote-reverse .small:after,blockquote.pull-right .small:after{content:'\00A0 \2014'}address{margin-bottom:18px;font-style:normal;line-height:1.42857143}code,kbd,pre,samp{font-family:monospace}code{padding:2px 4px;font-size:90%;color:#c7254e;background-color:#f9f2f4;border-radius:2px}kbd{padding:2px 4px;font-size:90%;color:#fff;background-color:#333;border-radius:1px;box-shadow:inset 0 -1px 0 rgba(0,0,0,0.25)}kbd kbd{padding:0;font-size:100%;font-weight:bold;box-shadow:none}pre{display:block;padding:8.5px;margin:0 0 9px;font-size:12px;line-height:1.42857143;word-break:break-all;word-wrap:break-word;color:#333;background-color:#f5f5f5;border:1px solid #ccc;border-radius:2px}pre code{padding:0;font-size:inherit;color:inherit;white-space:pre-wrap;background-color:transparent;border-radius:0}.pre-scrollable{max-height:340px;overflow-y:scroll}.container{margin-right:auto;margin-left:auto;padding-left:0;padding-right:0}@media (min-width:768px){.container{width:768px}}@media (min-width:992px){.container{width:940px}}@media (min-width:1200px){.container{width:1140px}}.container-fluid{margin-right:auto;margin-left:auto;padding-left:0;padding-right:0}.row{margin-left:0;margin-right:0}.col-xs-1, .col-sm-1, .col-md-1, .col-lg-1, .col-xs-2, .col-sm-2, .col-md-2, .col-lg-2, .col-xs-3, .col-sm-3, .col-md-3, .col-lg-3, .col-xs-4, .col-sm-4, .col-md-4, .col-lg-4, .col-xs-5, .col-sm-5, .col-md-5, .col-lg-5, .col-xs-6, .col-sm-6, .col-md-6, .col-lg-6, .col-xs-7, .col-sm-7, .col-md-7, .col-lg-7, .col-xs-8, .col-sm-8, .col-md-8, .col-lg-8, .col-xs-9, .col-sm-9, .col-md-9, .col-lg-9, .col-xs-10, .col-sm-10, .col-md-10, .col-lg-10, .col-xs-11, .col-sm-11, .col-md-11, .col-lg-11, .col-xs-12, .col-sm-12, .col-md-12, .col-lg-12{position:relative;min-height:1px;padding-left:0;padding-right:0}.col-xs-1, .col-xs-2, .col-xs-3, .col-xs-4, .col-xs-5, .col-xs-6, .col-xs-7, .col-xs-8, .col-xs-9, .col-xs-10, .col-xs-11, .col-xs-12{float:left}.col-xs-12{width:100%}.col-xs-11{width:91.66666667%}.col-xs-10{width:83.33333333%}.col-xs-9{width:75%}.col-xs-8{width:66.66666667%}.col-xs-7{width:58.33333333%}.col-xs-6{width:50%}.col-xs-5{width:41.66666667%}.col-xs-4{width:33.33333333%}.col-xs-3{width:25%}.col-xs-2{width:16.66666667%}.col-xs-1{width:8.33333333%}.col-xs-pull-12{right:100%}.col-xs-pull-11{right:91.66666667%}.col-xs-pull-10{right:83.33333333%}.col-xs-pull-9{right:75%}.col-xs-pull-8{right:66.66666667%}.col-xs-pull-7{right:58.33333333%}.col-xs-pull-6{right:50%}.col-xs-pull-5{right:41.66666667%}.col-xs-pull-4{right:33.33333333%}.col-xs-pull-3{right:25%}.col-xs-pull-2{right:16.66666667%}.col-xs-pull-1{right:8.33333333%}.col-xs-pull-0{right:auto}.col-xs-push-12{left:100%}.col-xs-push-11{left:91.66666667%}.col-xs-push-10{left:83.33333333%}.col-xs-push-9{left:75%}.col-xs-push-8{left:66.66666667%}.col-xs-push-7{left:58.33333333%}.col-xs-push-6{left:50%}.col-xs-push-5{left:41.66666667%}.col-xs-push-4{left:33.33333333%}.col-xs-push-3{left:25%}.col-xs-push-2{left:16.66666667%}.col-xs-push-1{left:8.33333333%}.col-xs-push-0{left:auto}.col-xs-offset-12{margin-left:100%}.col-xs-offset-11{margin-left:91.66666667%}.col-xs-offset-10{margin-left:83.33333333%}.col-xs-offset-9{margin-left:75%}.col-xs-offset-8{margin-left:66.66666667%}.col-xs-offset-7{margin-left:58.33333333%}.col-xs-offset-6{margin-left:50%}.col-xs-offset-5{margin-left:41.66666667%}.col-xs-offset-4{margin-left:33.33333333%}.col-xs-offset-3{margin-left:25%}.col-xs-offset-2{margin-left:16.66666667%}.col-xs-offset-1{margin-left:8.33333333%}.col-xs-offset-0{margin-left:0}@media (min-width:768px){.col-sm-1, .col-sm-2, .col-sm-3, .col-sm-4, .col-sm-5, .col-sm-6, .col-sm-7, .col-sm-8, .col-sm-9, .col-sm-10, .col-sm-11, .col-sm-12{float:left}.col-sm-12{width:100%}.col-sm-11{width:91.66666667%}.col-sm-10{width:83.33333333%}.col-sm-9{width:75%}.col-sm-8{width:66.66666667%}.col-sm-7{width:58.33333333%}.col-sm-6{width:50%}.col-sm-5{width:41.66666667%}.col-sm-4{width:33.33333333%}.col-sm-3{width:25%}.col-sm-2{width:16.66666667%}.col-sm-1{width:8.33333333%}.col-sm-pull-12{right:100%}.col-sm-pull-11{right:91.66666667%}.col-sm-pull-10{right:83.33333333%}.col-sm-pull-9{right:75%}.col-sm-pull-8{right:66.66666667%}.col-sm-pull-7{right:58.33333333%}.col-sm-pull-6{right:50%}.col-sm-pull-5{right:41.66666667%}.col-sm-pull-4{right:33.33333333%}.col-sm-pull-3{right:25%}.col-sm-pull-2{right:16.66666667%}.col-sm-pull-1{right:8.33333333%}.col-sm-pull-0{right:auto}.col-sm-push-12{left:100%}.col-sm-push-11{left:91.66666667%}.col-sm-push-10{left:83.33333333%}.col-sm-push-9{left:75%}.col-sm-push-8{left:66.66666667%}.col-sm-push-7{left:58.33333333%}.col-sm-push-6{left:50%}.col-sm-push-5{left:41.66666667%}.col-sm-push-4{left:33.33333333%}.col-sm-push-3{left:25%}.col-sm-push-2{left:16.66666667%}.col-sm-push-1{left:8.33333333%}.col-sm-push-0{left:auto}.col-sm-offset-12{margin-left:100%}.col-sm-offset-11{margin-left:91.66666667%}.col-sm-offset-10{margin-left:83.33333333%}.col-sm-offset-9{margin-left:75%}.col-sm-offset-8{margin-left:66.66666667%}.col-sm-offset-7{margin-left:58.33333333%}.col-sm-offset-6{margin-left:50%}.col-sm-offset-5{margin-left:41.66666667%}.col-sm-offset-4{margin-left:33.33333333%}.col-sm-offset-3{margin-left:25%}.col-sm-offset-2{margin-left:16.66666667%}.col-sm-offset-1{margin-left:8.33333333%}.col-sm-offset-0{margin-left:0}}@media (min-width:992px){.col-md-1, .col-md-2, .col-md-3, .col-md-4, .col-md-5, .col-md-6, .col-md-7, .col-md-8, .col-md-9, .col-md-10, .col-md-11, .col-md-12{float:left}.col-md-12{width:100%}.col-md-11{width:91.66666667%}.col-md-10{width:83.33333333%}.col-md-9{width:75%}.col-md-8{width:66.66666667%}.col-md-7{width:58.33333333%}.col-md-6{width:50%}.col-md-5{width:41.66666667%}.col-md-4{width:33.33333333%}.col-md-3{width:25%}.col-md-2{width:16.66666667%}.col-md-1{width:8.33333333%}.col-md-pull-12{right:100%}.col-md-pull-11{right:91.66666667%}.col-md-pull-10{right:83.33333333%}.col-md-pull-9{right:75%}.col-md-pull-8{right:66.66666667%}.col-md-pull-7{right:58.33333333%}.col-md-pull-6{right:50%}.col-md-pull-5{right:41.66666667%}.col-md-pull-4{right:33.33333333%}.col-md-pull-3{right:25%}.col-md-pull-2{right:16.66666667%}.col-md-pull-1{right:8.33333333%}.col-md-pull-0{right:auto}.col-md-push-12{left:100%}.col-md-push-11{left:91.66666667%}.col-md-push-10{left:83.33333333%}.col-md-push-9{left:75%}.col-md-push-8{left:66.66666667%}.col-md-push-7{left:58.33333333%}.col-md-push-6{left:50%}.col-md-push-5{left:41.66666667%}.col-md-push-4{left:33.33333333%}.col-md-push-3{left:25%}.col-md-push-2{left:16.66666667%}.col-md-push-1{left:8.33333333%}.col-md-push-0{left:auto}.col-md-offset-12{margin-left:100%}.col-md-offset-11{margin-left:91.66666667%}.col-md-offset-10{margin-left:83.33333333%}.col-md-offset-9{margin-left:75%}.col-md-offset-8{margin-left:66.66666667%}.col-md-offset-7{margin-left:58.33333333%}.col-md-offset-6{margin-left:50%}.col-md-offset-5{margin-left:41.66666667%}.col-md-offset-4{margin-left:33.33333333%}.col-md-offset-3{margin-left:25%}.col-md-offset-2{margin-left:16.66666667%}.col-md-offset-1{margin-left:8.33333333%}.col-md-offset-0{margin-left:0}}@media (min-width:1200px){.col-lg-1, .col-lg-2, .col-lg-3, .col-lg-4, .col-lg-5, .col-lg-6, .col-lg-7, .col-lg-8, .col-lg-9, .col-lg-10, .col-lg-11, .col-lg-12{float:left}.col-lg-12{width:100%}.col-lg-11{width:91.66666667%}.col-lg-10{width:83.33333333%}.col-lg-9{width:75%}.col-lg-8{width:66.66666667%}.col-lg-7{width:58.33333333%}.col-lg-6{width:50%}.col-lg-5{width:41.66666667%}.col-lg-4{width:33.33333333%}.col-lg-3{width:25%}.col-lg-2{width:16.66666667%}.col-lg-1{width:8.33333333%}.col-lg-pull-12{right:100%}.col-lg-pull-11{right:91.66666667%}.col-lg-pull-10{right:83.33333333%}.col-lg-pull-9{right:75%}.col-lg-pull-8{right:66.66666667%}.col-lg-pull-7{right:58.33333333%}.col-lg-pull-6{right:50%}.col-lg-pull-5{right:41.66666667%}.col-lg-pull-4{right:33.33333333%}.col-lg-pull-3{right:25%}.col-lg-pull-2{right:16.66666667%}.col-lg-pull-1{right:8.33333333%}.col-lg-pull-0{right:auto}.col-lg-push-12{left:100%}.col-lg-push-11{left:91.66666667%}.col-lg-push-10{left:83.33333333%}.col-lg-push-9{left:75%}.col-lg-push-8{left:66.66666667%}.col-lg-push-7{left:58.33333333%}.col-lg-push-6{left:50%}.col-lg-push-5{left:41.66666667%}.col-lg-push-4{left:33.33333333%}.col-lg-push-3{left:25%}.col-lg-push-2{left:16.66666667%}.col-lg-push-1{left:8.33333333%}.col-lg-push-0{left:auto}.col-lg-offset-12{margin-left:100%}.col-lg-offset-11{margin-left:91.66666667%}.col-lg-offset-10{margin-left:83.33333333%}.col-lg-offset-9{margin-left:75%}.col-lg-offset-8{margin-left:66.66666667%}.col-lg-offset-7{margin-left:58.33333333%}.col-lg-offset-6{margin-left:50%}.col-lg-offset-5{margin-left:41.66666667%}.col-lg-offset-4{margin-left:33.33333333%}.col-lg-offset-3{margin-left:25%}.col-lg-offset-2{margin-left:16.66666667%}.col-lg-offset-1{margin-left:8.33333333%}.col-lg-offset-0{margin-left:0}}table{background-color:transparent}caption{padding-top:8px;padding-bottom:8px;color:#777;text-align:left}th{text-align:left}.table{width:100%;max-width:100%;margin-bottom:18px}.table>thead>tr>th,.table>tbody>tr>th,.table>tfoot>tr>th,.table>thead>tr>td,.table>tbody>tr>td,.table>tfoot>tr>td{padding:8px;line-height:1.42857143;vertical-align:top;border-top:1px solid #ddd}.table>thead>tr>th{vertical-align:bottom;border-bottom:2px solid #ddd}.table>caption+thead>tr:first-child>th,.table>colgroup+thead>tr:first-child>th,.table>thead:first-child>tr:first-child>th,.table>caption+thead>tr:first-child>td,.table>colgroup+thead>tr:first-child>td,.table>thead:first-child>tr:first-child>td{border-top:0}.table>tbody+tbody{border-top:2px solid #ddd}.table .table{background-color:#fff}.table-condensed>thead>tr>th,.table-condensed>tbody>tr>th,.table-condensed>tfoot>tr>th,.table-condensed>thead>tr>td,.table-condensed>tbody>tr>td,.table-condensed>tfoot>tr>td{padding:5px}.table-bordered{border:1px solid #ddd}.table-bordered>thead>tr>th,.table-bordered>tbody>tr>th,.table-bordered>tfoot>tr>th,.table-bordered>thead>tr>td,.table-bordered>tbody>tr>td,.table-bordered>tfoot>tr>td{border:1px solid #ddd}.table-bordered>thead>tr>th,.table-bordered>thead>tr>td{border-bottom-width:2px}.table-striped>tbody>tr:nth-child(odd){background-color:#f9f9f9}.table-hover>tbody>tr:hover{background-color:#f5f5f5}table col[class*="col-"]{position:static;float:none;display:table-column}table td[class*="col-"],table th[class*="col-"]{position:static;float:none;display:table-cell}.table>thead>tr>td.active,.table>tbody>tr>td.active,.table>tfoot>tr>td.active,.table>thead>tr>th.active,.table>tbody>tr>th.active,.table>tfoot>tr>th.active,.table>thead>tr.active>td,.table>tbody>tr.active>td,.table>tfoot>tr.active>td,.table>thead>tr.active>th,.table>tbody>tr.active>th,.table>tfoot>tr.active>th{background-color:#f5f5f5}.table-hover>tbody>tr>td.active:hover,.table-hover>tbody>tr>th.active:hover,.table-hover>tbody>tr.active:hover>td,.table-hover>tbody>tr:hover>.active,.table-hover>tbody>tr.active:hover>th{background-color:#e8e8e8}.table>thead>tr>td.success,.table>tbody>tr>td.success,.table>tfoot>tr>td.success,.table>thead>tr>th.success,.table>tbody>tr>th.success,.table>tfoot>tr>th.success,.table>thead>tr.success>td,.table>tbody>tr.success>td,.table>tfoot>tr.success>td,.table>thead>tr.success>th,.table>tbody>tr.success>th,.table>tfoot>tr.success>th{background-color:#dff0d8}.table-hover>tbody>tr>td.success:hover,.table-hover>tbody>tr>th.success:hover,.table-hover>tbody>tr.success:hover>td,.table-hover>tbody>tr:hover>.success,.table-hover>tbody>tr.success:hover>th{background-color:#d0e9c6}.table>thead>tr>td.info,.table>tbody>tr>td.info,.table>tfoot>tr>td.info,.table>thead>tr>th.info,.table>tbody>tr>th.info,.table>tfoot>tr>th.info,.table>thead>tr.info>td,.table>tbody>tr.info>td,.table>tfoot>tr.info>td,.table>thead>tr.info>th,.table>tbody>tr.info>th,.table>tfoot>tr.info>th{background-color:#d9edf7}.table-hover>tbody>tr>td.info:hover,.table-hover>tbody>tr>th.info:hover,.table-hover>tbody>tr.info:hover>td,.table-hover>tbody>tr:hover>.info,.table-hover>tbody>tr.info:hover>th{background-color:#c4e3f3}.table>thead>tr>td.warning,.table>tbody>tr>td.warning,.table>tfoot>tr>td.warning,.table>thead>tr>th.warning,.table>tbody>tr>th.warning,.table>tfoot>tr>th.warning,.table>thead>tr.warning>td,.table>tbody>tr.warning>td,.table>tfoot>tr.warning>td,.table>thead>tr.warning>th,.table>tbody>tr.warning>th,.table>tfoot>tr.warning>th{background-color:#fcf8e3}.table-hover>tbody>tr>td.warning:hover,.table-hover>tbody>tr>th.warning:hover,.table-hover>tbody>tr.warning:hover>td,.table-hover>tbody>tr:hover>.warning,.table-hover>tbody>tr.warning:hover>th{background-color:#faf2cc}.table>thead>tr>td.danger,.table>tbody>tr>td.danger,.table>tfoot>tr>td.danger,.table>thead>tr>th.danger,.table>tbody>tr>th.danger,.table>tfoot>tr>th.danger,.table>thead>tr.danger>td,.table>tbody>tr.danger>td,.table>tfoot>tr.danger>td,.table>thead>tr.danger>th,.table>tbody>tr.danger>th,.table>tfoot>tr.danger>th{background-color:#f2dede}.table-hover>tbody>tr>td.danger:hover,.table-hover>tbody>tr>th.danger:hover,.table-hover>tbody>tr.danger:hover>td,.table-hover>tbody>tr:hover>.danger,.table-hover>tbody>tr.danger:hover>th{background-color:#ebcccc}.table-responsive{overflow-x:auto;min-height:.01%}@media screen and (max-width:767px){.table-responsive{width:100%;margin-bottom:13.5px;overflow-y:hidden;-ms-overflow-style:-ms-autohiding-scrollbar;border:1px solid #ddd}.table-responsive>.table{margin-bottom:0}.table-responsive>.table>thead>tr>th,.table-responsive>.table>tbody>tr>th,.table-responsive>.table>tfoot>tr>th,.table-responsive>.table>thead>tr>td,.table-responsive>.table>tbody>tr>td,.table-responsive>.table>tfoot>tr>td{white-space:nowrap}.table-responsive>.table-bordered{border:0}.table-responsive>.table-bordered>thead>tr>th:first-child,.table-responsive>.table-bordered>tbody>tr>th:first-child,.table-responsive>.table-bordered>tfoot>tr>th:first-child,.table-responsive>.table-bordered>thead>tr>td:first-child,.table-responsive>.table-bordered>tbody>tr>td:first-child,.table-responsive>.table-bordered>tfoot>tr>td:first-child{border-left:0}.table-responsive>.table-bordered>thead>tr>th:last-child,.table-responsive>.table-bordered>tbody>tr>th:last-child,.table-responsive>.table-bordered>tfoot>tr>th:last-child,.table-responsive>.table-bordered>thead>tr>td:last-child,.table-responsive>.table-bordered>tbody>tr>td:last-child,.table-responsive>.table-bordered>tfoot>tr>td:last-child{border-right:0}.table-responsive>.table-bordered>tbody>tr:last-child>th,.table-responsive>.table-bordered>tfoot>tr:last-child>th,.table-responsive>.table-bordered>tbody>tr:last-child>td,.table-responsive>.table-bordered>tfoot>tr:last-child>td{border-bottom:0}}fieldset{padding:0;margin:0;border:0;min-width:0}legend{display:block;width:100%;padding:0;margin-bottom:18px;font-size:19.5px;line-height:inherit;color:#333;border:0;border-bottom:1px solid #e5e5e5}label{display:inline-block;max-width:100%;margin-bottom:5px;font-weight:bold}input[type="search"]{-webkit-box-sizing:border-box;-moz-box-sizing:border-box;box-sizing:border-box}input[type="radio"],input[type="checkbox"]{margin:4px 0 0;margin-top:1px \9;line-height:normal}input[type="file"]{display:block}input[type="range"]{display:block;width:100%}select[multiple],select[size]{height:auto}input[type="file"]:focus,input[type="radio"]:focus,input[type="checkbox"]:focus{outline:thin dotted;outline:5px auto -webkit-focus-ring-color;outline-offset:-2px}output{display:block;padding-top:7px;font-size:13px;line-height:1.42857143;color:#555}.form-control{display:block;width:100%;height:32px;padding:6px 12px;font-size:13px;line-height:1.42857143;color:#555;background-color:#fff;background-image:none;border:1px solid #ccc;border-radius:2px;-webkit-box-shadow:inset 0 1px 1px rgba(0,0,0,0.075);box-shadow:inset 0 1px 1px rgba(0,0,0,0.075);-webkit-transition:border-color ease-in-out .15s, box-shadow ease-in-out .15s;-o-transition:border-color ease-in-out .15s, box-shadow ease-in-out .15s;transition:border-color ease-in-out .15s, box-shadow ease-in-out .15s}.form-control:focus{border-color:#66afe9;outline:0;-webkit-box-shadow:inset 0 1px 1px rgba(0,0,0,.075), 0 0 8px rgba(102, 175, 233, 0.6);box-shadow:inset 0 1px 1px rgba(0,0,0,.075), 0 0 8px rgba(102, 175, 233, 0.6)}.form-control::-moz-placeholder{color:#999;opacity:1}.form-control:-ms-input-placeholder{color:#999}.form-control::-webkit-input-placeholder{color:#999}.form-control[disabled],.form-control[readonly],fieldset[disabled] .form-control{cursor:not-allowed;background-color:#eee;opacity:1}textarea.form-control{height:auto}input[type="search"]{-webkit-appearance:none}@media screen and (-webkit-min-device-pixel-ratio:0){input[type="date"],input[type="time"],input[type="datetime-local"],input[type="month"]{line-height:32px}input[type="date"].input-sm,input[type="time"].input-sm,input[type="datetime-local"].input-sm,input[type="month"].input-sm{line-height:30px}input[type="date"].input-lg,input[type="time"].input-lg,input[type="datetime-local"].input-lg,input[type="month"].input-lg{line-height:45px}}.form-group{margin-bottom:15px}.radio,.checkbox{position:relative;display:block;margin-top:10px;margin-bottom:10px}.radio label,.checkbox label{min-height:18px;padding-left:20px;margin-bottom:0;font-weight:normal;cursor:pointer}.radio input[type="radio"],.radio-inline input[type="radio"],.checkbox input[type="checkbox"],.checkbox-inline input[type="checkbox"]{position:absolute;margin-left:-20px;margin-top:4px \9}.radio+.radio,.checkbox+.checkbox{margin-top:-5px}.radio-inline,.checkbox-inline{display:inline-block;padding-left:20px;margin-bottom:0;vertical-align:middle;font-weight:normal;cursor:pointer}.radio-inline+.radio-inline,.checkbox-inline+.checkbox-inline{margin-top:0;margin-left:10px}input[type="radio"][disabled],input[type="checkbox"][disabled],input[type="radio"].disabled,input[type="checkbox"].disabled,fieldset[disabled] input[type="radio"],fieldset[disabled] input[type="checkbox"]{cursor:not-allowed}.radio-inline.disabled,.checkbox-inline.disabled,fieldset[disabled] .radio-inline,fieldset[disabled] .checkbox-inline{cursor:not-allowed}.radio.disabled label,.checkbox.disabled label,fieldset[disabled] .radio label,fieldset[disabled] .checkbox label{cursor:not-allowed}.form-control-static{padding-top:7px;padding-bottom:7px;margin-bottom:0}.form-control-static.input-lg,.form-control-static.input-sm{padding-left:0;padding-right:0}.input-sm,.form-group-sm .form-control{height:30px;padding:5px 10px;font-size:12px;line-height:1.5;border-radius:1px}select.input-sm,select.form-group-sm .form-control{height:30px;line-height:30px}textarea.input-sm,textarea.form-group-sm .form-control,select[multiple].input-sm,select[multiple].form-group-sm .form-control{height:auto}.input-lg,.form-group-lg .form-control{height:45px;padding:10px 16px;font-size:17px;line-height:1.33;border-radius:3px}select.input-lg,select.form-group-lg .form-control{height:45px;line-height:45px}textarea.input-lg,textarea.form-group-lg .form-control,select[multiple].input-lg,select[multiple].form-group-lg .form-control{height:auto}.has-feedback{position:relative}.has-feedback .form-control{padding-right:40px}.form-control-feedback{position:absolute;top:0;right:0;z-index:2;display:block;width:32px;height:32px;line-height:32px;text-align:center;pointer-events:none}.input-lg+.form-control-feedback{width:45px;height:45px;line-height:45px}.input-sm+.form-control-feedback{width:30px;height:30px;line-height:30px}.has-success .help-block,.has-success .control-label,.has-success .radio,.has-success .checkbox,.has-success .radio-inline,.has-success .checkbox-inline,.has-success.radio label,.has-success.checkbox label,.has-success.radio-inline label,.has-success.checkbox-inline label{color:#3c763d}.has-success .form-control{border-color:#3c763d;-webkit-box-shadow:inset 0 1px 1px rgba(0,0,0,0.075);box-shadow:inset 0 1px 1px rgba(0,0,0,0.075)}.has-success .form-control:focus{border-color:#2b542c;-webkit-box-shadow:inset 0 1px 1px rgba(0,0,0,0.075),0 0 6px #67b168;box-shadow:inset 0 1px 1px rgba(0,0,0,0.075),0 0 6px #67b168}.has-success .input-group-addon{color:#3c763d;border-color:#3c763d;background-color:#dff0d8}.has-success .form-control-feedback{color:#3c763d}.has-warning .help-block,.has-warning .control-label,.has-warning .radio,.has-warning .checkbox,.has-warning .radio-inline,.has-warning .checkbox-inline,.has-warning.radio label,.has-warning.checkbox label,.has-warning.radio-inline label,.has-warning.checkbox-inline label{color:#8a6d3b}.has-warning .form-control{border-color:#8a6d3b;-webkit-box-shadow:inset 0 1px 1px rgba(0,0,0,0.075);box-shadow:inset 0 1px 1px rgba(0,0,0,0.075)}.has-warning .form-control:focus{border-color:#66512c;-webkit-box-shadow:inset 0 1px 1px rgba(0,0,0,0.075),0 0 6px #c0a16b;box-shadow:inset 0 1px 1px rgba(0,0,0,0.075),0 0 6px #c0a16b}.has-warning .input-group-addon{color:#8a6d3b;border-color:#8a6d3b;background-color:#fcf8e3}.has-warning .form-control-feedback{color:#8a6d3b}.has-error .help-block,.has-error .control-label,.has-error .radio,.has-error .checkbox,.has-error .radio-inline,.has-error .checkbox-inline,.has-error.radio label,.has-error.checkbox label,.has-error.radio-inline label,.has-error.checkbox-inline label{color:#a94442}.has-error .form-control{border-color:#a94442;-webkit-box-shadow:inset 0 1px 1px rgba(0,0,0,0.075);box-shadow:inset 0 1px 1px rgba(0,0,0,0.075)}.has-error .form-control:focus{border-color:#843534;-webkit-box-shadow:inset 0 1px 1px rgba(0,0,0,0.075),0 0 6px #ce8483;box-shadow:inset 0 1px 1px rgba(0,0,0,0.075),0 0 6px #ce8483}.has-error .input-group-addon{color:#a94442;border-color:#a94442;background-color:#f2dede}.has-error .form-control-feedback{color:#a94442}.has-feedback label~.form-control-feedback{top:23px}.has-feedback label.sr-only~.form-control-feedback{top:0}.help-block{display:block;margin-top:5px;margin-bottom:10px;color:#404040}@media (min-width:768px){.form-inline .form-group{display:inline-block;margin-bottom:0;vertical-align:middle}.form-inline .form-control{display:inline-block;width:auto;vertical-align:middle}.form-inline .form-control-static{display:inline-block}.form-inline .input-group{display:inline-table;vertical-align:middle}.form-inline .input-group .input-group-addon,.form-inline .input-group .input-group-btn,.form-inline .input-group .form-control{width:auto}.form-inline .input-group>.form-control{width:100%}.form-inline .control-label{margin-bottom:0;vertical-align:middle}.form-inline .radio,.form-inline .checkbox{display:inline-block;margin-top:0;margin-bottom:0;vertical-align:middle}.form-inline .radio label,.form-inline .checkbox label{padding-left:0}.form-inline .radio input[type="radio"],.form-inline .checkbox input[type="checkbox"]{position:relative;margin-left:0}.form-inline .has-feedback .form-control-feedback{top:0}}.form-horizontal .radio,.form-horizontal .checkbox,.form-horizontal .radio-inline,.form-horizontal .checkbox-inline{margin-top:0;margin-bottom:0;padding-top:7px}.form-horizontal .radio,.form-horizontal .checkbox{min-height:25px}.form-horizontal .form-group{margin-left:0;margin-right:0}@media (min-width:768px){.form-horizontal .control-label{text-align:right;margin-bottom:0;padding-top:7px}}.form-horizontal .has-feedback .form-control-feedback{right:0}@media (min-width:768px){.form-horizontal .form-group-lg .control-label{padding-top:14.3px}}@media (min-width:768px){.form-horizontal .form-group-sm .control-label{padding-top:6px}}.btn{display:inline-block;margin-bottom:0;font-weight:normal;text-align:center;vertical-align:middle;touch-action:manipulation;cursor:pointer;background-image:none;border:1px solid transparent;white-space:nowrap;padding:6px 12px;font-size:13px;line-height:1.42857143;border-radius:2px;-webkit-user-select:none;-moz-user-select:none;-ms-user-select:none;user-select:none}.btn:focus,.btn:active:focus,.btn.active:focus,.btn.focus,.btn:active.focus,.btn.active.focus{outline:thin dotted;outline:5px auto -webkit-focus-ring-color;outline-offset:-2px}.btn:hover,.btn:focus,.btn.focus{color:#333;text-decoration:none}.btn:active,.btn.active{outline:0;background-image:none;-webkit-box-shadow:inset 0 3px 5px rgba(0,0,0,0.125);box-shadow:inset 0 3px 5px rgba(0,0,0,0.125)}.btn.disabled,.btn[disabled],fieldset[disabled] .btn{cursor:not-allowed;pointer-events:none;opacity:.65;filter:alpha(opacity=65);-webkit-box-shadow:none;box-shadow:none}.btn-default{color:#333;background-color:#fff;border-color:#ccc}.btn-default:hover,.btn-default:focus,.btn-default.focus,.btn-default:active,.btn-default.active,.open>.dropdown-toggle.btn-default{color:#333;background-color:#e6e6e6;border-color:#adadad}.btn-default:active,.btn-default.active,.open>.dropdown-toggle.btn-default{background-image:none}.btn-default.disabled,.btn-default[disabled],fieldset[disabled] .btn-default,.btn-default.disabled:hover,.btn-default[disabled]:hover,fieldset[disabled] .btn-default:hover,.btn-default.disabled:focus,.btn-default[disabled]:focus,fieldset[disabled] .btn-default:focus,.btn-default.disabled.focus,.btn-default[disabled].focus,fieldset[disabled] .btn-default.focus,.btn-default.disabled:active,.btn-default[disabled]:active,fieldset[disabled] .btn-default:active,.btn-default.disabled.active,.btn-default[disabled].active,fieldset[disabled] .btn-default.active{background-color:#fff;border-color:#ccc}.btn-default .badge{color:#fff;background-color:#333}.btn-primary{color:#fff;background-color:#337ab7;border-color:#2e6da4}.btn-primary:hover,.btn-primary:focus,.btn-primary.focus,.btn-primary:active,.btn-primary.active,.open>.dropdown-toggle.btn-primary{color:#fff;background-color:#286090;border-color:#204d74}.btn-primary:active,.btn-primary.active,.open>.dropdown-toggle.btn-primary{background-image:none}.btn-primary.disabled,.btn-primary[disabled],fieldset[disabled] .btn-primary,.btn-primary.disabled:hover,.btn-primary[disabled]:hover,fieldset[disabled] .btn-primary:hover,.btn-primary.disabled:focus,.btn-primary[disabled]:focus,fieldset[disabled] .btn-primary:focus,.btn-primary.disabled.focus,.btn-primary[disabled].focus,fieldset[disabled] .btn-primary.focus,.btn-primary.disabled:active,.btn-primary[disabled]:active,fieldset[disabled] .btn-primary:active,.btn-primary.disabled.active,.btn-primary[disabled].active,fieldset[disabled] .btn-primary.active{background-color:#337ab7;border-color:#2e6da4}.btn-primary .badge{color:#337ab7;background-color:#fff}.btn-success{color:#fff;background-color:#5cb85c;border-color:#4cae4c}.btn-success:hover,.btn-success:focus,.btn-success.focus,.btn-success:active,.btn-success.active,.open>.dropdown-toggle.btn-success{color:#fff;background-color:#449d44;border-color:#398439}.btn-success:active,.btn-success.active,.open>.dropdown-toggle.btn-success{background-image:none}.btn-success.disabled,.btn-success[disabled],fieldset[disabled] .btn-success,.btn-success.disabled:hover,.btn-success[disabled]:hover,fieldset[disabled] .btn-success:hover,.btn-success.disabled:focus,.btn-success[disabled]:focus,fieldset[disabled] .btn-success:focus,.btn-success.disabled.focus,.btn-success[disabled].focus,fieldset[disabled] .btn-success.focus,.btn-success.disabled:active,.btn-success[disabled]:active,fieldset[disabled] .btn-success:active,.btn-success.disabled.active,.btn-success[disabled].active,fieldset[disabled] .btn-success.active{background-color:#5cb85c;border-color:#4cae4c}.btn-success .badge{color:#5cb85c;background-color:#fff}.btn-info{color:#fff;background-color:#5bc0de;border-color:#46b8da}.btn-info:hover,.btn-info:focus,.btn-info.focus,.btn-info:active,.btn-info.active,.open>.dropdown-toggle.btn-info{color:#fff;background-color:#31b0d5;border-color:#269abc}.btn-info:active,.btn-info.active,.open>.dropdown-toggle.btn-info{background-image:none}.btn-info.disabled,.btn-info[disabled],fieldset[disabled] .btn-info,.btn-info.disabled:hover,.btn-info[disabled]:hover,fieldset[disabled] .btn-info:hover,.btn-info.disabled:focus,.btn-info[disabled]:focus,fieldset[disabled] .btn-info:focus,.btn-info.disabled.focus,.btn-info[disabled].focus,fieldset[disabled] .btn-info.focus,.btn-info.disabled:active,.btn-info[disabled]:active,fieldset[disabled] .btn-info:active,.btn-info.disabled.active,.btn-info[disabled].active,fieldset[disabled] .btn-info.active{background-color:#5bc0de;border-color:#46b8da}.btn-info .badge{color:#5bc0de;background-color:#fff}.btn-warning{color:#fff;background-color:#f0ad4e;border-color:#eea236}.btn-warning:hover,.btn-warning:focus,.btn-warning.focus,.btn-warning:active,.btn-warning.active,.open>.dropdown-toggle.btn-warning{color:#fff;background-color:#ec971f;border-color:#d58512}.btn-warning:active,.btn-warning.active,.open>.dropdown-toggle.btn-warning{background-image:none}.btn-warning.disabled,.btn-warning[disabled],fieldset[disabled] .btn-warning,.btn-warning.disabled:hover,.btn-warning[disabled]:hover,fieldset[disabled] .btn-warning:hover,.btn-warning.disabled:focus,.btn-warning[disabled]:focus,fieldset[disabled] .btn-warning:focus,.btn-warning.disabled.focus,.btn-warning[disabled].focus,fieldset[disabled] .btn-warning.focus,.btn-warning.disabled:active,.btn-warning[disabled]:active,fieldset[disabled] .btn-warning:active,.btn-warning.disabled.active,.btn-warning[disabled].active,fieldset[disabled] .btn-warning.active{background-color:#f0ad4e;border-color:#eea236}.btn-warning .badge{color:#f0ad4e;background-color:#fff}.btn-danger{color:#fff;background-color:#d9534f;border-color:#d43f3a}.btn-danger:hover,.btn-danger:focus,.btn-danger.focus,.btn-danger:active,.btn-danger.active,.open>.dropdown-toggle.btn-danger{color:#fff;background-color:#c9302c;border-color:#ac2925}.btn-danger:active,.btn-danger.active,.open>.dropdown-toggle.btn-danger{background-image:none}.btn-danger.disabled,.btn-danger[disabled],fieldset[disabled] .btn-danger,.btn-danger.disabled:hover,.btn-danger[disabled]:hover,fieldset[disabled] .btn-danger:hover,.btn-danger.disabled:focus,.btn-danger[disabled]:focus,fieldset[disabled] .btn-danger:focus,.btn-danger.disabled.focus,.btn-danger[disabled].focus,fieldset[disabled] .btn-danger.focus,.btn-danger.disabled:active,.btn-danger[disabled]:active,fieldset[disabled] .btn-danger:active,.btn-danger.disabled.active,.btn-danger[disabled].active,fieldset[disabled] .btn-danger.active{background-color:#d9534f;border-color:#d43f3a}.btn-danger .badge{color:#d9534f;background-color:#fff}.btn-link{color:#337ab7;font-weight:normal;border-radius:0}.btn-link,.btn-link:active,.btn-link.active,.btn-link[disabled],fieldset[disabled] .btn-link{background-color:transparent;-webkit-box-shadow:none;box-shadow:none}.btn-link,.btn-link:hover,.btn-link:focus,.btn-link:active{border-color:transparent}.btn-link:hover,.btn-link:focus{color:#23527c;text-decoration:underline;background-color:transparent}.btn-link[disabled]:hover,fieldset[disabled] .btn-link:hover,.btn-link[disabled]:focus,fieldset[disabled] .btn-link:focus{color:#777;text-decoration:none}.btn-lg,.btn-group-lg>.btn{padding:10px 16px;font-size:17px;line-height:1.33;border-radius:3px}.btn-sm,.btn-group-sm>.btn{padding:5px 10px;font-size:12px;line-height:1.5;border-radius:1px}.btn-xs,.btn-group-xs>.btn{padding:1px 5px;font-size:12px;line-height:1.5;border-radius:1px}.btn-block{display:block;width:100%}.btn-block+.btn-block{margin-top:5px}input[type="submit"].btn-block,input[type="reset"].btn-block,input[type="button"].btn-block{width:100%}.fade{opacity:0;-webkit-transition:opacity .15s linear;-o-transition:opacity .15s linear;transition:opacity .15s linear}.fade.in{opacity:1}.collapse{display:none;visibility:hidden}.collapse.in{display:block;visibility:visible}tr.collapse.in{display:table-row}tbody.collapse.in{display:table-row-group}.collapsing{position:relative;height:0;overflow:hidden;-webkit-transition-property:height, visibility;transition-property:height, visibility;-webkit-transition-duration:.35s;transition-duration:.35s;-webkit-transition-timing-function:ease;transition-timing-function:ease}.caret{display:inline-block;width:0;height:0;margin-left:2px;vertical-align:middle;border-top:4px solid;border-right:4px solid transparent;border-left:4px solid transparent}.dropdown{position:relative}.dropdown-toggle:focus{outline:0}.dropdown-menu{position:absolute;top:100%;left:0;z-index:1000;display:none;float:left;min-width:160px;padding:5px 0;margin:2px 0 0;list-style:none;font-size:13px;text-align:left;background-color:#fff;border:1px solid #ccc;border:1px solid rgba(0,0,0,0.15);border-radius:2px;-webkit-box-shadow:0 6px 12px rgba(0,0,0,0.175);box-shadow:0 6px 12px rgba(0,0,0,0.175);background-clip:padding-box}.dropdown-menu.pull-right{right:0;left:auto}.dropdown-menu .divider{height:1px;margin:8px 0;overflow:hidden;background-color:#e5e5e5}.dropdown-menu>li>a{display:block;padding:3px 20px;clear:both;font-weight:normal;line-height:1.42857143;color:#333;white-space:nowrap}.dropdown-menu>li>a:hover,.dropdown-menu>li>a:focus{text-decoration:none;color:#262626;background-color:#f5f5f5}.dropdown-menu>.active>a,.dropdown-menu>.active>a:hover,.dropdown-menu>.active>a:focus{color:#fff;text-decoration:none;outline:0;background-color:#337ab7}.dropdown-menu>.disabled>a,.dropdown-menu>.disabled>a:hover,.dropdown-menu>.disabled>a:focus{color:#777}.dropdown-menu>.disabled>a:hover,.dropdown-menu>.disabled>a:focus{text-decoration:none;background-color:transparent;background-image:none;filter:progid:DXImageTransform.Microsoft.gradient(enabled = false);cursor:not-allowed}.open>.dropdown-menu{display:block}.open>a{outline:0}.dropdown-menu-right{left:auto;right:0}.dropdown-menu-left{left:0;right:auto}.dropdown-header{display:block;padding:3px 20px;font-size:12px;line-height:1.42857143;color:#777;white-space:nowrap}.dropdown-backdrop{position:fixed;left:0;right:0;bottom:0;top:0;z-index:990}.pull-right>.dropdown-menu{right:0;left:auto}.dropup .caret,.navbar-fixed-bottom .dropdown .caret{border-top:0;border-bottom:4px solid;content:""}.dropup .dropdown-menu,.navbar-fixed-bottom .dropdown .dropdown-menu{top:auto;bottom:100%;margin-bottom:1px}@media (min-width:541px){.navbar-right .dropdown-menu{left:auto;right:0}.navbar-right .dropdown-menu-left{left:0;right:auto}}.btn-group,.btn-group-vertical{position:relative;display:inline-block;vertical-align:middle}.btn-group>.btn,.btn-group-vertical>.btn{position:relative;float:left}.btn-group>.btn:hover,.btn-group-vertical>.btn:hover,.btn-group>.btn:focus,.btn-group-vertical>.btn:focus,.btn-group>.btn:active,.btn-group-vertical>.btn:active,.btn-group>.btn.active,.btn-group-vertical>.btn.active{z-index:2}.btn-group .btn+.btn,.btn-group .btn+.btn-group,.btn-group .btn-group+.btn,.btn-group .btn-group+.btn-group{margin-left:-1px}.btn-toolbar{margin-left:-5px}.btn-toolbar .btn-group,.btn-toolbar .input-group{float:left}.btn-toolbar>.btn,.btn-toolbar>.btn-group,.btn-toolbar>.input-group{margin-left:5px}.btn-group>.btn:not(:first-child):not(:last-child):not(.dropdown-toggle){border-radius:0}.btn-group>.btn:first-child{margin-left:0}.btn-group>.btn:first-child:not(:last-child):not(.dropdown-toggle){border-bottom-right-radius:0;border-top-right-radius:0}.btn-group>.btn:last-child:not(:first-child),.btn-group>.dropdown-toggle:not(:first-child){border-bottom-left-radius:0;border-top-left-radius:0}.btn-group>.btn-group{float:left}.btn-group>.btn-group:not(:first-child):not(:last-child)>.btn{border-radius:0}.btn-group>.btn-group:first-child>.btn:last-child,.btn-group>.btn-group:first-child>.dropdown-toggle{border-bottom-right-radius:0;border-top-right-radius:0}.btn-group>.btn-group:last-child>.btn:first-child{border-bottom-left-radius:0;border-top-left-radius:0}.btn-group .dropdown-toggle:active,.btn-group.open .dropdown-toggle{outline:0}.btn-group>.btn+.dropdown-toggle{padding-left:8px;padding-right:8px}.btn-group>.btn-lg+.dropdown-toggle{padding-left:12px;padding-right:12px}.btn-group.open .dropdown-toggle{-webkit-box-shadow:inset 0 3px 5px rgba(0,0,0,0.125);box-shadow:inset 0 3px 5px rgba(0,0,0,0.125)}.btn-group.open .dropdown-toggle.btn-link{-webkit-box-shadow:none;box-shadow:none}.btn .caret{margin-left:0}.btn-lg .caret{border-width:5px 5px 0;border-bottom-width:0}.dropup .btn-lg .caret{border-width:0 5px 5px}.btn-group-vertical>.btn,.btn-group-vertical>.btn-group,.btn-group-vertical>.btn-group>.btn{display:block;float:none;width:100%;max-width:100%}.btn-group-vertical>.btn-group>.btn{float:none}.btn-group-vertical>.btn+.btn,.btn-group-vertical>.btn+.btn-group,.btn-group-vertical>.btn-group+.btn,.btn-group-vertical>.btn-group+.btn-group{margin-top:-1px;margin-left:0}.btn-group-vertical>.btn:not(:first-child):not(:last-child){border-radius:0}.btn-group-vertical>.btn:first-child:not(:last-child){border-top-right-radius:2px;border-bottom-right-radius:0;border-bottom-left-radius:0}.btn-group-vertical>.btn:last-child:not(:first-child){border-bottom-left-radius:2px;border-top-right-radius:0;border-top-left-radius:0}.btn-group-vertical>.btn-group:not(:first-child):not(:last-child)>.btn{border-radius:0}.btn-group-vertical>.btn-group:first-child:not(:last-child)>.btn:last-child,.btn-group-vertical>.btn-group:first-child:not(:last-child)>.dropdown-toggle{border-bottom-right-radius:0;border-bottom-left-radius:0}.btn-group-vertical>.btn-group:last-child:not(:first-child)>.btn:first-child{border-top-right-radius:0;border-top-left-radius:0}.btn-group-justified{display:table;width:100%;table-layout:fixed;border-collapse:separate}.btn-group-justified>.btn,.btn-group-justified>.btn-group{float:none;display:table-cell;width:1%}.btn-group-justified>.btn-group .btn{width:100%}.btn-group-justified>.btn-group .dropdown-menu{left:auto}[data-toggle="buttons"]>.btn input[type="radio"],[data-toggle="buttons"]>.btn-group>.btn input[type="radio"],[data-toggle="buttons"]>.btn input[type="checkbox"],[data-toggle="buttons"]>.btn-group>.btn input[type="checkbox"]{position:absolute;clip:rect(0, 0, 0, 0);pointer-events:none}.input-group{position:relative;display:table;border-collapse:separate}.input-group[class*="col-"]{float:none;padding-left:0;padding-right:0}.input-group .form-control{position:relative;z-index:2;float:left;width:100%;margin-bottom:0}.input-group-lg>.form-control,.input-group-lg>.input-group-addon,.input-group-lg>.input-group-btn>.btn{height:45px;padding:10px 16px;font-size:17px;line-height:1.33;border-radius:3px}select.input-group-lg>.form-control,select.input-group-lg>.input-group-addon,select.input-group-lg>.input-group-btn>.btn{height:45px;line-height:45px}textarea.input-group-lg>.form-control,textarea.input-group-lg>.input-group-addon,textarea.input-group-lg>.input-group-btn>.btn,select[multiple].input-group-lg>.form-control,select[multiple].input-group-lg>.input-group-addon,select[multiple].input-group-lg>.input-group-btn>.btn{height:auto}.input-group-sm>.form-control,.input-group-sm>.input-group-addon,.input-group-sm>.input-group-btn>.btn{height:30px;padding:5px 10px;font-size:12px;line-height:1.5;border-radius:1px}select.input-group-sm>.form-control,select.input-group-sm>.input-group-addon,select.input-group-sm>.input-group-btn>.btn{height:30px;line-height:30px}textarea.input-group-sm>.form-control,textarea.input-group-sm>.input-group-addon,textarea.input-group-sm>.input-group-btn>.btn,select[multiple].input-group-sm>.form-control,select[multiple].input-group-sm>.input-group-addon,select[multiple].input-group-sm>.input-group-btn>.btn{height:auto}.input-group-addon,.input-group-btn,.input-group .form-control{display:table-cell}.input-group-addon:not(:first-child):not(:last-child),.input-group-btn:not(:first-child):not(:last-child),.input-group .form-control:not(:first-child):not(:last-child){border-radius:0}.input-group-addon,.input-group-btn{width:1%;white-space:nowrap;vertical-align:middle}.input-group-addon{padding:6px 12px;font-size:13px;font-weight:normal;line-height:1;color:#555;text-align:center;background-color:#eee;border:1px solid #ccc;border-radius:2px}.input-group-addon.input-sm{padding:5px 10px;font-size:12px;border-radius:1px}.input-group-addon.input-lg{padding:10px 16px;font-size:17px;border-radius:3px}.input-group-addon input[type="radio"],.input-group-addon input[type="checkbox"]{margin-top:0}.input-group .form-control:first-child,.input-group-addon:first-child,.input-group-btn:first-child>.btn,.input-group-btn:first-child>.btn-group>.btn,.input-group-btn:first-child>.dropdown-toggle,.input-group-btn:last-child>.btn:not(:last-child):not(.dropdown-toggle),.input-group-btn:last-child>.btn-group:not(:last-child)>.btn{border-bottom-right-radius:0;border-top-right-radius:0}.input-group-addon:first-child{border-right:0}.input-group .form-control:last-child,.input-group-addon:last-child,.input-group-btn:last-child>.btn,.input-group-btn:last-child>.btn-group>.btn,.input-group-btn:last-child>.dropdown-toggle,.input-group-btn:first-child>.btn:not(:first-child),.input-group-btn:first-child>.btn-group:not(:first-child)>.btn{border-bottom-left-radius:0;border-top-left-radius:0}.input-group-addon:last-child{border-left:0}.input-group-btn{position:relative;font-size:0;white-space:nowrap}.input-group-btn>.btn{position:relative}.input-group-btn>.btn+.btn{margin-left:-1px}.input-group-btn>.btn:hover,.input-group-btn>.btn:focus,.input-group-btn>.btn:active{z-index:2}.input-group-btn:first-child>.btn,.input-group-btn:first-child>.btn-group{margin-right:-1px}.input-group-btn:last-child>.btn,.input-group-btn:last-child>.btn-group{margin-left:-1px}.nav{margin-bottom:0;padding-left:0;list-style:none}.nav>li{position:relative;display:block}.nav>li>a{position:relative;display:block;padding:10px 15px}.nav>li>a:hover,.nav>li>a:focus{text-decoration:none;background-color:#eee}.nav>li.disabled>a{color:#777}.nav>li.disabled>a:hover,.nav>li.disabled>a:focus{color:#777;text-decoration:none;background-color:transparent;cursor:not-allowed}.nav .open>a,.nav .open>a:hover,.nav .open>a:focus{background-color:#eee;border-color:#337ab7}.nav .nav-divider{height:1px;margin:8px 0;overflow:hidden;background-color:#e5e5e5}.nav>li>a>img{max-width:none}.nav-tabs{border-bottom:1px solid #ddd}.nav-tabs>li{float:left;margin-bottom:-1px}.nav-tabs>li>a{margin-right:2px;line-height:1.42857143;border:1px solid transparent;border-radius:2px 2px 0 0}.nav-tabs>li>a:hover{border-color:#eee #eee #ddd}.nav-tabs>li.active>a,.nav-tabs>li.active>a:hover,.nav-tabs>li.active>a:focus{color:#555;background-color:#fff;border:1px solid #ddd;border-bottom-color:transparent;cursor:default}.nav-tabs.nav-justified{width:100%;border-bottom:0}.nav-tabs.nav-justified>li{float:none}.nav-tabs.nav-justified>li>a{text-align:center;margin-bottom:5px}.nav-tabs.nav-justified>.dropdown .dropdown-menu{top:auto;left:auto}@media (min-width:768px){.nav-tabs.nav-justified>li{display:table-cell;width:1%}.nav-tabs.nav-justified>li>a{margin-bottom:0}}.nav-tabs.nav-justified>li>a{margin-right:0;border-radius:2px}.nav-tabs.nav-justified>.active>a,.nav-tabs.nav-justified>.active>a:hover,.nav-tabs.nav-justified>.active>a:focus{border:1px solid #ddd}@media (min-width:768px){.nav-tabs.nav-justified>li>a{border-bottom:1px solid #ddd;border-radius:2px 2px 0 0}.nav-tabs.nav-justified>.active>a,.nav-tabs.nav-justified>.active>a:hover,.nav-tabs.nav-justified>.active>a:focus{border-bottom-color:#fff}}.nav-pills>li{float:left}.nav-pills>li>a{border-radius:2px}.nav-pills>li+li{margin-left:2px}.nav-pills>li.active>a,.nav-pills>li.active>a:hover,.nav-pills>li.active>a:focus{color:#fff;background-color:#337ab7}.nav-stacked>li{float:none}.nav-stacked>li+li{margin-top:2px;margin-left:0}.nav-justified{width:100%}.nav-justified>li{float:none}.nav-justified>li>a{text-align:center;margin-bottom:5px}.nav-justified>.dropdown .dropdown-menu{top:auto;left:auto}@media (min-width:768px){.nav-justified>li{display:table-cell;width:1%}.nav-justified>li>a{margin-bottom:0}}.nav-tabs-justified{border-bottom:0}.nav-tabs-justified>li>a{margin-right:0;border-radius:2px}.nav-tabs-justified>.active>a,.nav-tabs-justified>.active>a:hover,.nav-tabs-justified>.active>a:focus{border:1px solid #ddd}@media (min-width:768px){.nav-tabs-justified>li>a{border-bottom:1px solid #ddd;border-radius:2px 2px 0 0}.nav-tabs-justified>.active>a,.nav-tabs-justified>.active>a:hover,.nav-tabs-justified>.active>a:focus{border-bottom-color:#fff}}.tab-content>.tab-pane{display:none;visibility:hidden}.tab-content>.active{display:block;visibility:visible}.nav-tabs .dropdown-menu{margin-top:-1px;border-top-right-radius:0;border-top-left-radius:0}.navbar{position:relative;min-height:30px;margin-bottom:18px;border:1px solid transparent}@media (min-width:541px){.navbar{border-radius:2px}}@media (min-width:541px){.navbar-header{float:left}}.navbar-collapse{overflow-x:visible;padding-right:0;padding-left:0;border-top:1px solid transparent;box-shadow:inset 0 1px 0 rgba(255,255,255,0.1);-webkit-overflow-scrolling:touch}.navbar-collapse.in{overflow-y:auto}@media (min-width:541px){.navbar-collapse{width:auto;border-top:0;box-shadow:none}.navbar-collapse.collapse{display:block !important;visibility:visible !important;height:auto !important;padding-bottom:0;overflow:visible !important}.navbar-collapse.in{overflow-y:visible}.navbar-fixed-top .navbar-collapse,.navbar-static-top .navbar-collapse,.navbar-fixed-bottom .navbar-collapse{padding-left:0;padding-right:0}}.navbar-fixed-top .navbar-collapse,.navbar-fixed-bottom .navbar-collapse{max-height:340px}@media (max-device-width:540px) and (orientation:landscape){.navbar-fixed-top .navbar-collapse,.navbar-fixed-bottom .navbar-collapse{max-height:200px}}.container>.navbar-header,.container-fluid>.navbar-header,.container>.navbar-collapse,.container-fluid>.navbar-collapse{margin-right:0;margin-left:0}@media (min-width:541px){.container>.navbar-header,.container-fluid>.navbar-header,.container>.navbar-collapse,.container-fluid>.navbar-collapse{margin-right:0;margin-left:0}}.navbar-static-top{z-index:1000;border-width:0 0 1px}@media (min-width:541px){.navbar-static-top{border-radius:0}}.navbar-fixed-top,.navbar-fixed-bottom{position:fixed;right:0;left:0;z-index:1030}@media (min-width:541px){.navbar-fixed-top,.navbar-fixed-bottom{border-radius:0}}.navbar-fixed-top{top:0;border-width:0 0 1px}.navbar-fixed-bottom{bottom:0;margin-bottom:0;border-width:1px 0 0}.navbar-brand{float:left;padding:6px 0;font-size:17px;line-height:18px;height:30px}.navbar-brand:hover,.navbar-brand:focus{text-decoration:none}.navbar-brand>img{display:block}@media (min-width:541px){.navbar>.container .navbar-brand,.navbar>.container-fluid .navbar-brand{margin-left:0}}.navbar-toggle{position:relative;float:right;margin-right:0;padding:9px 10px;margin-top:-2px;margin-bottom:-2px;background-color:transparent;background-image:none;border:1px solid transparent;border-radius:2px}.navbar-toggle:focus{outline:0}.navbar-toggle .icon-bar{display:block;width:22px;height:2px;border-radius:1px}.navbar-toggle .icon-bar+.icon-bar{margin-top:4px}@media (min-width:541px){.navbar-toggle{display:none}}.navbar-nav{margin:3px 0}.navbar-nav>li>a{padding-top:10px;padding-bottom:10px;line-height:18px}@media (max-width:540px){.navbar-nav .open .dropdown-menu{position:static;float:none;width:auto;margin-top:0;background-color:transparent;border:0;box-shadow:none}.navbar-nav .open .dropdown-menu>li>a,.navbar-nav .open .dropdown-menu .dropdown-header{padding:5px 15px 5px 25px}.navbar-nav .open .dropdown-menu>li>a{line-height:18px}.navbar-nav .open .dropdown-menu>li>a:hover,.navbar-nav .open .dropdown-menu>li>a:focus{background-image:none}}@media (min-width:541px){.navbar-nav{float:left;margin:0}.navbar-nav>li{float:left}.navbar-nav>li>a{padding-top:6px;padding-bottom:6px}}.navbar-form{margin-left:0;margin-right:0;padding:10px 0;border-top:1px solid transparent;border-bottom:1px solid transparent;-webkit-box-shadow:inset 0 1px 0 rgba(255,255,255,0.1),0 1px 0 rgba(255,255,255,0.1);box-shadow:inset 0 1px 0 rgba(255,255,255,0.1),0 1px 0 rgba(255,255,255,0.1);margin-top:-1px;margin-bottom:-1px}@media (min-width:768px){.navbar-form .form-group{display:inline-block;margin-bottom:0;vertical-align:middle}.navbar-form .form-control{display:inline-block;width:auto;vertical-align:middle}.navbar-form .form-control-static{display:inline-block}.navbar-form .input-group{display:inline-table;vertical-align:middle}.navbar-form .input-group .input-group-addon,.navbar-form .input-group .input-group-btn,.navbar-form .input-group .form-control{width:auto}.navbar-form .input-group>.form-control{width:100%}.navbar-form .control-label{margin-bottom:0;vertical-align:middle}.navbar-form .radio,.navbar-form .checkbox{display:inline-block;margin-top:0;margin-bottom:0;vertical-align:middle}.navbar-form .radio label,.navbar-form .checkbox label{padding-left:0}.navbar-form .radio input[type="radio"],.navbar-form .checkbox input[type="checkbox"]{position:relative;margin-left:0}.navbar-form .has-feedback .form-control-feedback{top:0}}@media (max-width:540px){.navbar-form .form-group{margin-bottom:5px}.navbar-form .form-group:last-child{margin-bottom:0}}@media (min-width:541px){.navbar-form{width:auto;border:0;margin-left:0;margin-right:0;padding-top:0;padding-bottom:0;-webkit-box-shadow:none;box-shadow:none}}.navbar-nav>li>.dropdown-menu{margin-top:0;border-top-right-radius:0;border-top-left-radius:0}.navbar-fixed-bottom .navbar-nav>li>.dropdown-menu{border-top-right-radius:2px;border-top-left-radius:2px;border-bottom-right-radius:0;border-bottom-left-radius:0}.navbar-btn{margin-top:-1px;margin-bottom:-1px}.navbar-btn.btn-sm{margin-top:0;margin-bottom:0}.navbar-btn.btn-xs{margin-top:4px;margin-bottom:4px}.navbar-text{margin-top:6px;margin-bottom:6px}@media (min-width:541px){.navbar-text{float:left;margin-left:0;margin-right:0}}@media (min-width:541px){.navbar-left{float:left !important;float:left}.navbar-right{float:right !important;float:right;margin-right:0}.navbar-right~.navbar-right{margin-right:0}}.navbar-default{background-color:#f8f8f8;border-color:#e7e7e7}.navbar-default .navbar-brand{color:#777}.navbar-default .navbar-brand:hover,.navbar-default .navbar-brand:focus{color:#5e5e5e;background-color:transparent}.navbar-default .navbar-text{color:#777}.navbar-default .navbar-nav>li>a{color:#777}.navbar-default .navbar-nav>li>a:hover,.navbar-default .navbar-nav>li>a:focus{color:#333;background-color:transparent}.navbar-default .navbar-nav>.active>a,.navbar-default .navbar-nav>.active>a:hover,.navbar-default .navbar-nav>.active>a:focus{color:#555;background-color:#e7e7e7}.navbar-default .navbar-nav>.disabled>a,.navbar-default .navbar-nav>.disabled>a:hover,.navbar-default .navbar-nav>.disabled>a:focus{color:#ccc;background-color:transparent}.navbar-default .navbar-toggle{border-color:#ddd}.navbar-default .navbar-toggle:hover,.navbar-default .navbar-toggle:focus{background-color:#ddd}.navbar-default .navbar-toggle .icon-bar{background-color:#888}.navbar-default .navbar-collapse,.navbar-default .navbar-form{border-color:#e7e7e7}.navbar-default .navbar-nav>.open>a,.navbar-default .navbar-nav>.open>a:hover,.navbar-default .navbar-nav>.open>a:focus{background-color:#e7e7e7;color:#555}@media (max-width:540px){.navbar-default .navbar-nav .open .dropdown-menu>li>a{color:#777}.navbar-default .navbar-nav .open .dropdown-menu>li>a:hover,.navbar-default .navbar-nav .open .dropdown-menu>li>a:focus{color:#333;background-color:transparent}.navbar-default .navbar-nav .open .dropdown-menu>.active>a,.navbar-default .navbar-nav .open .dropdown-menu>.active>a:hover,.navbar-default .navbar-nav .open .dropdown-menu>.active>a:focus{color:#555;background-color:#e7e7e7}.navbar-default .navbar-nav .open .dropdown-menu>.disabled>a,.navbar-default .navbar-nav .open .dropdown-menu>.disabled>a:hover,.navbar-default .navbar-nav .open .dropdown-menu>.disabled>a:focus{color:#ccc;background-color:transparent}}.navbar-default .navbar-link{color:#777}.navbar-default .navbar-link:hover{color:#333}.navbar-default .btn-link{color:#777}.navbar-default .btn-link:hover,.navbar-default .btn-link:focus{color:#333}.navbar-default .btn-link[disabled]:hover,fieldset[disabled] .navbar-default .btn-link:hover,.navbar-default .btn-link[disabled]:focus,fieldset[disabled] .navbar-default .btn-link:focus{color:#ccc}.navbar-inverse{background-color:#222;border-color:#080808}.navbar-inverse .navbar-brand{color:#9d9d9d}.navbar-inverse .navbar-brand:hover,.navbar-inverse .navbar-brand:focus{color:#fff;background-color:transparent}.navbar-inverse .navbar-text{color:#9d9d9d}.navbar-inverse .navbar-nav>li>a{color:#9d9d9d}.navbar-inverse .navbar-nav>li>a:hover,.navbar-inverse .navbar-nav>li>a:focus{color:#fff;background-color:transparent}.navbar-inverse .navbar-nav>.active>a,.navbar-inverse .navbar-nav>.active>a:hover,.navbar-inverse .navbar-nav>.active>a:focus{color:#fff;background-color:#080808}.navbar-inverse .navbar-nav>.disabled>a,.navbar-inverse .navbar-nav>.disabled>a:hover,.navbar-inverse .navbar-nav>.disabled>a:focus{color:#444;background-color:transparent}.navbar-inverse .navbar-toggle{border-color:#333}.navbar-inverse .navbar-toggle:hover,.navbar-inverse .navbar-toggle:focus{background-color:#333}.navbar-inverse .navbar-toggle .icon-bar{background-color:#fff}.navbar-inverse .navbar-collapse,.navbar-inverse .navbar-form{border-color:#101010}.navbar-inverse .navbar-nav>.open>a,.navbar-inverse .navbar-nav>.open>a:hover,.navbar-inverse .navbar-nav>.open>a:focus{background-color:#080808;color:#fff}@media (max-width:540px){.navbar-inverse .navbar-nav .open .dropdown-menu>.dropdown-header{border-color:#080808}.navbar-inverse .navbar-nav .open .dropdown-menu .divider{background-color:#080808}.navbar-inverse .navbar-nav .open .dropdown-menu>li>a{color:#9d9d9d}.navbar-inverse .navbar-nav .open .dropdown-menu>li>a:hover,.navbar-inverse .navbar-nav .open .dropdown-menu>li>a:focus{color:#fff;background-color:transparent}.navbar-inverse .navbar-nav .open .dropdown-menu>.active>a,.navbar-inverse .navbar-nav .open .dropdown-menu>.active>a:hover,.navbar-inverse .navbar-nav .open .dropdown-menu>.active>a:focus{color:#fff;background-color:#080808}.navbar-inverse .navbar-nav .open .dropdown-menu>.disabled>a,.navbar-inverse .navbar-nav .open .dropdown-menu>.disabled>a:hover,.navbar-inverse .navbar-nav .open .dropdown-menu>.disabled>a:focus{color:#444;background-color:transparent}}.navbar-inverse .navbar-link{color:#9d9d9d}.navbar-inverse .navbar-link:hover{color:#fff}.navbar-inverse .btn-link{color:#9d9d9d}.navbar-inverse .btn-link:hover,.navbar-inverse .btn-link:focus{color:#fff}.navbar-inverse .btn-link[disabled]:hover,fieldset[disabled] .navbar-inverse .btn-link:hover,.navbar-inverse .btn-link[disabled]:focus,fieldset[disabled] .navbar-inverse .btn-link:focus{color:#444}.breadcrumb{padding:8px 15px;margin-bottom:18px;list-style:none;background-color:#f5f5f5;border-radius:2px}.breadcrumb>li{display:inline-block}.breadcrumb>li+li:before{content:"/\00a0";padding:0 5px;color:#5e5e5e}.breadcrumb>.active{color:#777}.pagination{display:inline-block;padding-left:0;margin:18px 0;border-radius:2px}.pagination>li{display:inline}.pagination>li>a,.pagination>li>span{position:relative;float:left;padding:6px 12px;line-height:1.42857143;text-decoration:none;color:#337ab7;background-color:#fff;border:1px solid #ddd;margin-left:-1px}.pagination>li:first-child>a,.pagination>li:first-child>span{margin-left:0;border-bottom-left-radius:2px;border-top-left-radius:2px}.pagination>li:last-child>a,.pagination>li:last-child>span{border-bottom-right-radius:2px;border-top-right-radius:2px}.pagination>li>a:hover,.pagination>li>span:hover,.pagination>li>a:focus,.pagination>li>span:focus{color:#23527c;background-color:#eee;border-color:#ddd}.pagination>.active>a,.pagination>.active>span,.pagination>.active>a:hover,.pagination>.active>span:hover,.pagination>.active>a:focus,.pagination>.active>span:focus{z-index:2;color:#fff;background-color:#337ab7;border-color:#337ab7;cursor:default}.pagination>.disabled>span,.pagination>.disabled>span:hover,.pagination>.disabled>span:focus,.pagination>.disabled>a,.pagination>.disabled>a:hover,.pagination>.disabled>a:focus{color:#777;background-color:#fff;border-color:#ddd;cursor:not-allowed}.pagination-lg>li>a,.pagination-lg>li>span{padding:10px 16px;font-size:17px}.pagination-lg>li:first-child>a,.pagination-lg>li:first-child>span{border-bottom-left-radius:3px;border-top-left-radius:3px}.pagination-lg>li:last-child>a,.pagination-lg>li:last-child>span{border-bottom-right-radius:3px;border-top-right-radius:3px}.pagination-sm>li>a,.pagination-sm>li>span{padding:5px 10px;font-size:12px}.pagination-sm>li:first-child>a,.pagination-sm>li:first-child>span{border-bottom-left-radius:1px;border-top-left-radius:1px}.pagination-sm>li:last-child>a,.pagination-sm>li:last-child>span{border-bottom-right-radius:1px;border-top-right-radius:1px}.pager{padding-left:0;margin:18px 0;list-style:none;text-align:center}.pager li{display:inline}.pager li>a,.pager li>span{display:inline-block;padding:5px 14px;background-color:#fff;border:1px solid #ddd;border-radius:15px}.pager li>a:hover,.pager li>a:focus{text-decoration:none;background-color:#eee}.pager .next>a,.pager .next>span{float:right}.pager .previous>a,.pager .previous>span{float:left}.pager .disabled>a,.pager .disabled>a:hover,.pager .disabled>a:focus,.pager .disabled>span{color:#777;background-color:#fff;cursor:not-allowed}.label{display:inline;padding:.2em .6em .3em;font-size:75%;font-weight:bold;line-height:1;color:#fff;text-align:center;white-space:nowrap;vertical-align:baseline;border-radius:.25em}a.label:hover,a.label:focus{color:#fff;text-decoration:none;cursor:pointer}.label:empty{display:none}.btn .label{position:relative;top:-1px}.label-default{background-color:#777}.label-default[href]:hover,.label-default[href]:focus{background-color:#5e5e5e}.label-primary{background-color:#337ab7}.label-primary[href]:hover,.label-primary[href]:focus{background-color:#286090}.label-success{background-color:#5cb85c}.label-success[href]:hover,.label-success[href]:focus{background-color:#449d44}.label-info{background-color:#5bc0de}.label-info[href]:hover,.label-info[href]:focus{background-color:#31b0d5}.label-warning{background-color:#f0ad4e}.label-warning[href]:hover,.label-warning[href]:focus{background-color:#ec971f}.label-danger{background-color:#d9534f}.label-danger[href]:hover,.label-danger[href]:focus{background-color:#c9302c}.badge{display:inline-block;min-width:10px;padding:3px 7px;font-size:12px;font-weight:bold;color:#fff;line-height:1;vertical-align:baseline;white-space:nowrap;text-align:center;background-color:#777;border-radius:10px}.badge:empty{display:none}.btn .badge{position:relative;top:-1px}.btn-xs .badge{top:0;padding:1px 5px}a.badge:hover,a.badge:focus{color:#fff;text-decoration:none;cursor:pointer}.list-group-item.active>.badge,.nav-pills>.active>a>.badge{color:#337ab7;background-color:#fff}.list-group-item>.badge{float:right}.list-group-item>.badge+.badge{margin-right:5px}.nav-pills>li>a>.badge{margin-left:3px}.jumbotron{padding:30px 15px;margin-bottom:30px;color:inherit;background-color:#eee}.jumbotron h1,.jumbotron .h1{color:inherit}.jumbotron p{margin-bottom:15px;font-size:20px;font-weight:200}.jumbotron>hr{border-top-color:#d5d5d5}.container .jumbotron,.container-fluid .jumbotron{border-radius:3px}.jumbotron .container{max-width:100%}@media screen and (min-width:768px){.jumbotron{padding:48px 0}.container .jumbotron,.container-fluid .jumbotron{padding-left:60px;padding-right:60px}.jumbotron h1,.jumbotron .h1{font-size:58.5px}}.thumbnail{display:block;padding:4px;margin-bottom:18px;line-height:1.42857143;background-color:#fff;border:1px solid #ddd;border-radius:2px;-webkit-transition:border .2s ease-in-out;-o-transition:border .2s ease-in-out;transition:border .2s ease-in-out}.thumbnail>img,.thumbnail a>img{margin-left:auto;margin-right:auto}a.thumbnail:hover,a.thumbnail:focus,a.thumbnail.active{border-color:#337ab7}.thumbnail .caption{padding:9px;color:#000}.alert{padding:15px;margin-bottom:18px;border:1px solid transparent;border-radius:2px}.alert h4{margin-top:0;color:inherit}.alert .alert-link{font-weight:bold}.alert>p,.alert>ul{margin-bottom:0}.alert>p+p{margin-top:5px}.alert-dismissable,.alert-dismissible{padding-right:35px}.alert-dismissable .close,.alert-dismissible .close{position:relative;top:-2px;right:-21px;color:inherit}.alert-success{background-color:#dff0d8;border-color:#d6e9c6;color:#3c763d}.alert-success hr{border-top-color:#c9e2b3}.alert-success .alert-link{color:#2b542c}.alert-info{background-color:#d9edf7;border-color:#bce8f1;color:#31708f}.alert-info hr{border-top-color:#a6e1ec}.alert-info .alert-link{color:#245269}.alert-warning{background-color:#fcf8e3;border-color:#faebcc;color:#8a6d3b}.alert-warning hr{border-top-color:#f7e1b5}.alert-warning .alert-link{color:#66512c}.alert-danger{background-color:#f2dede;border-color:#ebccd1;color:#a94442}.alert-danger hr{border-top-color:#e4b9c0}.alert-danger .alert-link{color:#843534}@-webkit-keyframes progress-bar-stripes{from{background-position:40px 0}to{background-position:0 0}}@keyframes progress-bar-stripes{from{background-position:40px 0}to{background-position:0 0}}.progress{overflow:hidden;height:18px;margin-bottom:18px;background-color:#f5f5f5;border-radius:2px;-webkit-box-shadow:inset 0 1px 2px rgba(0,0,0,0.1);box-shadow:inset 0 1px 2px rgba(0,0,0,0.1)}.progress-bar{float:left;width:0;height:100%;font-size:12px;line-height:18px;color:#fff;text-align:center;background-color:#337ab7;-webkit-box-shadow:inset 0 -1px 0 rgba(0,0,0,0.15);box-shadow:inset 0 -1px 0 rgba(0,0,0,0.15);-webkit-transition:width .6s ease;-o-transition:width .6s ease;transition:width .6s ease}.progress-striped .progress-bar,.progress-bar-striped{background-image:-webkit-linear-gradient(45deg, rgba(255,255,255,0.15) 25%, transparent 25%, transparent 50%, rgba(255,255,255,0.15) 50%, rgba(255,255,255,0.15) 75%, transparent 75%, transparent);background-image:-o-linear-gradient(45deg, rgba(255,255,255,0.15) 25%, transparent 25%, transparent 50%, rgba(255,255,255,0.15) 50%, rgba(255,255,255,0.15) 75%, transparent 75%, transparent);background-image:linear-gradient(45deg, rgba(255,255,255,0.15) 25%, transparent 25%, transparent 50%, rgba(255,255,255,0.15) 50%, rgba(255,255,255,0.15) 75%, transparent 75%, transparent);background-size:40px 40px}.progress.active .progress-bar,.progress-bar.active{-webkit-animation:progress-bar-stripes 2s linear infinite;-o-animation:progress-bar-stripes 2s linear infinite;animation:progress-bar-stripes 2s linear infinite}.progress-bar-success{background-color:#5cb85c}.progress-striped .progress-bar-success{background-image:-webkit-linear-gradient(45deg, rgba(255,255,255,0.15) 25%, transparent 25%, transparent 50%, rgba(255,255,255,0.15) 50%, rgba(255,255,255,0.15) 75%, transparent 75%, transparent);background-image:-o-linear-gradient(45deg, rgba(255,255,255,0.15) 25%, transparent 25%, transparent 50%, rgba(255,255,255,0.15) 50%, rgba(255,255,255,0.15) 75%, transparent 75%, transparent);background-image:linear-gradient(45deg, rgba(255,255,255,0.15) 25%, transparent 25%, transparent 50%, rgba(255,255,255,0.15) 50%, rgba(255,255,255,0.15) 75%, transparent 75%, transparent)}.progress-bar-info{background-color:#5bc0de}.progress-striped .progress-bar-info{background-image:-webkit-linear-gradient(45deg, rgba(255,255,255,0.15) 25%, transparent 25%, transparent 50%, rgba(255,255,255,0.15) 50%, rgba(255,255,255,0.15) 75%, transparent 75%, transparent);background-image:-o-linear-gradient(45deg, rgba(255,255,255,0.15) 25%, transparent 25%, transparent 50%, rgba(255,255,255,0.15) 50%, rgba(255,255,255,0.15) 75%, transparent 75%, transparent);background-image:linear-gradient(45deg, rgba(255,255,255,0.15) 25%, transparent 25%, transparent 50%, rgba(255,255,255,0.15) 50%, rgba(255,255,255,0.15) 75%, transparent 75%, transparent)}.progress-bar-warning{background-color:#f0ad4e}.progress-striped .progress-bar-warning{background-image:-webkit-linear-gradient(45deg, rgba(255,255,255,0.15) 25%, transparent 25%, transparent 50%, rgba(255,255,255,0.15) 50%, rgba(255,255,255,0.15) 75%, transparent 75%, transparent);background-image:-o-linear-gradient(45deg, rgba(255,255,255,0.15) 25%, transparent 25%, transparent 50%, rgba(255,255,255,0.15) 50%, rgba(255,255,255,0.15) 75%, transparent 75%, transparent);background-image:linear-gradient(45deg, rgba(255,255,255,0.15) 25%, transparent 25%, transparent 50%, rgba(255,255,255,0.15) 50%, rgba(255,255,255,0.15) 75%, transparent 75%, transparent)}.progress-bar-danger{background-color:#d9534f}.progress-striped .progress-bar-danger{background-image:-webkit-linear-gradient(45deg, rgba(255,255,255,0.15) 25%, transparent 25%, transparent 50%, rgba(255,255,255,0.15) 50%, rgba(255,255,255,0.15) 75%, transparent 75%, transparent);background-image:-o-linear-gradient(45deg, rgba(255,255,255,0.15) 25%, transparent 25%, transparent 50%, rgba(255,255,255,0.15) 50%, rgba(255,255,255,0.15) 75%, transparent 75%, transparent);background-image:linear-gradient(45deg, rgba(255,255,255,0.15) 25%, transparent 25%, transparent 50%, rgba(255,255,255,0.15) 50%, rgba(255,255,255,0.15) 75%, transparent 75%, transparent)}.media{margin-top:15px}.media:first-child{margin-top:0}.media-right,.media>.pull-right{padding-left:10px}.media-left,.media>.pull-left{padding-right:10px}.media-left,.media-right,.media-body{display:table-cell;vertical-align:top}.media-middle{vertical-align:middle}.media-bottom{vertical-align:bottom}.media-heading{margin-top:0;margin-bottom:5px}.media-list{padding-left:0;list-style:none}.list-group{margin-bottom:20px;padding-left:0}.list-group-item{position:relative;display:block;padding:10px 15px;margin-bottom:-1px;background-color:#fff;border:1px solid #ddd}.list-group-item:first-child{border-top-right-radius:2px;border-top-left-radius:2px}.list-group-item:last-child{margin-bottom:0;border-bottom-right-radius:2px;border-bottom-left-radius:2px}a.list-group-item{color:#555}a.list-group-item .list-group-item-heading{color:#333}a.list-group-item:hover,a.list-group-item:focus{text-decoration:none;color:#555;background-color:#f5f5f5}.list-group-item.disabled,.list-group-item.disabled:hover,.list-group-item.disabled:focus{background-color:#eee;color:#777;cursor:not-allowed}.list-group-item.disabled .list-group-item-heading,.list-group-item.disabled:hover .list-group-item-heading,.list-group-item.disabled:focus .list-group-item-heading{color:inherit}.list-group-item.disabled .list-group-item-text,.list-group-item.disabled:hover .list-group-item-text,.list-group-item.disabled:focus .list-group-item-text{color:#777}.list-group-item.active,.list-group-item.active:hover,.list-group-item.active:focus{z-index:2;color:#fff;background-color:#337ab7;border-color:#337ab7}.list-group-item.active .list-group-item-heading,.list-group-item.active:hover .list-group-item-heading,.list-group-item.active:focus .list-group-item-heading,.list-group-item.active .list-group-item-heading>small,.list-group-item.active:hover .list-group-item-heading>small,.list-group-item.active:focus .list-group-item-heading>small,.list-group-item.active .list-group-item-heading>.small,.list-group-item.active:hover .list-group-item-heading>.small,.list-group-item.active:focus .list-group-item-heading>.small{color:inherit}.list-group-item.active .list-group-item-text,.list-group-item.active:hover .list-group-item-text,.list-group-item.active:focus .list-group-item-text{color:#c7ddef}.list-group-item-success{color:#3c763d;background-color:#dff0d8}a.list-group-item-success{color:#3c763d}a.list-group-item-success .list-group-item-heading{color:inherit}a.list-group-item-success:hover,a.list-group-item-success:focus{color:#3c763d;background-color:#d0e9c6}a.list-group-item-success.active,a.list-group-item-success.active:hover,a.list-group-item-success.active:focus{color:#fff;background-color:#3c763d;border-color:#3c763d}.list-group-item-info{color:#31708f;background-color:#d9edf7}a.list-group-item-info{color:#31708f}a.list-group-item-info .list-group-item-heading{color:inherit}a.list-group-item-info:hover,a.list-group-item-info:focus{color:#31708f;background-color:#c4e3f3}a.list-group-item-info.active,a.list-group-item-info.active:hover,a.list-group-item-info.active:focus{color:#fff;background-color:#31708f;border-color:#31708f}.list-group-item-warning{color:#8a6d3b;background-color:#fcf8e3}a.list-group-item-warning{color:#8a6d3b}a.list-group-item-warning .list-group-item-heading{color:inherit}a.list-group-item-warning:hover,a.list-group-item-warning:focus{color:#8a6d3b;background-color:#faf2cc}a.list-group-item-warning.active,a.list-group-item-warning.active:hover,a.list-group-item-warning.active:focus{color:#fff;background-color:#8a6d3b;border-color:#8a6d3b}.list-group-item-danger{color:#a94442;background-color:#f2dede}a.list-group-item-danger{color:#a94442}a.list-group-item-danger .list-group-item-heading{color:inherit}a.list-group-item-danger:hover,a.list-group-item-danger:focus{color:#a94442;background-color:#ebcccc}a.list-group-item-danger.active,a.list-group-item-danger.active:hover,a.list-group-item-danger.active:focus{color:#fff;background-color:#a94442;border-color:#a94442}.list-group-item-heading{margin-top:0;margin-bottom:5px}.list-group-item-text{margin-bottom:0;line-height:1.3}.panel{margin-bottom:18px;background-color:#fff;border:1px solid transparent;border-radius:2px;-webkit-box-shadow:0 1px 1px rgba(0,0,0,0.05);box-shadow:0 1px 1px rgba(0,0,0,0.05)}.panel-body{padding:15px}.panel-heading{padding:10px 15px;border-bottom:1px solid transparent;border-top-right-radius:1px;border-top-left-radius:1px}.panel-heading>.dropdown .dropdown-toggle{color:inherit}.panel-title{margin-top:0;margin-bottom:0;font-size:15px;color:inherit}.panel-title>a{color:inherit}.panel-footer{padding:10px 15px;background-color:#f5f5f5;border-top:1px solid #ddd;border-bottom-right-radius:1px;border-bottom-left-radius:1px}.panel>.list-group,.panel>.panel-collapse>.list-group{margin-bottom:0}.panel>.list-group .list-group-item,.panel>.panel-collapse>.list-group .list-group-item{border-width:1px 0;border-radius:0}.panel>.list-group:first-child .list-group-item:first-child,.panel>.panel-collapse>.list-group:first-child .list-group-item:first-child{border-top:0;border-top-right-radius:1px;border-top-left-radius:1px}.panel>.list-group:last-child .list-group-item:last-child,.panel>.panel-collapse>.list-group:last-child .list-group-item:last-child{border-bottom:0;border-bottom-right-radius:1px;border-bottom-left-radius:1px}.panel-heading+.list-group .list-group-item:first-child{border-top-width:0}.list-group+.panel-footer{border-top-width:0}.panel>.table,.panel>.table-responsive>.table,.panel>.panel-collapse>.table{margin-bottom:0}.panel>.table caption,.panel>.table-responsive>.table caption,.panel>.panel-collapse>.table caption{padding-left:15px;padding-right:15px}.panel>.table:first-child,.panel>.table-responsive:first-child>.table:first-child{border-top-right-radius:1px;border-top-left-radius:1px}.panel>.table:first-child>thead:first-child>tr:first-child,.panel>.table-responsive:first-child>.table:first-child>thead:first-child>tr:first-child,.panel>.table:first-child>tbody:first-child>tr:first-child,.panel>.table-responsive:first-child>.table:first-child>tbody:first-child>tr:first-child{border-top-left-radius:1px;border-top-right-radius:1px}.panel>.table:first-child>thead:first-child>tr:first-child td:first-child,.panel>.table-responsive:first-child>.table:first-child>thead:first-child>tr:first-child td:first-child,.panel>.table:first-child>tbody:first-child>tr:first-child td:first-child,.panel>.table-responsive:first-child>.table:first-child>tbody:first-child>tr:first-child td:first-child,.panel>.table:first-child>thead:first-child>tr:first-child th:first-child,.panel>.table-responsive:first-child>.table:first-child>thead:first-child>tr:first-child th:first-child,.panel>.table:first-child>tbody:first-child>tr:first-child th:first-child,.panel>.table-responsive:first-child>.table:first-child>tbody:first-child>tr:first-child th:first-child{border-top-left-radius:1px}.panel>.table:first-child>thead:first-child>tr:first-child td:last-child,.panel>.table-responsive:first-child>.table:first-child>thead:first-child>tr:first-child td:last-child,.panel>.table:first-child>tbody:first-child>tr:first-child td:last-child,.panel>.table-responsive:first-child>.table:first-child>tbody:first-child>tr:first-child td:last-child,.panel>.table:first-child>thead:first-child>tr:first-child th:last-child,.panel>.table-responsive:first-child>.table:first-child>thead:first-child>tr:first-child th:last-child,.panel>.table:first-child>tbody:first-child>tr:first-child th:last-child,.panel>.table-responsive:first-child>.table:first-child>tbody:first-child>tr:first-child th:last-child{border-top-right-radius:1px}.panel>.table:last-child,.panel>.table-responsive:last-child>.table:last-child{border-bottom-right-radius:1px;border-bottom-left-radius:1px}.panel>.table:last-child>tbody:last-child>tr:last-child,.panel>.table-responsive:last-child>.table:last-child>tbody:last-child>tr:last-child,.panel>.table:last-child>tfoot:last-child>tr:last-child,.panel>.table-responsive:last-child>.table:last-child>tfoot:last-child>tr:last-child{border-bottom-left-radius:1px;border-bottom-right-radius:1px}.panel>.table:last-child>tbody:last-child>tr:last-child td:first-child,.panel>.table-responsive:last-child>.table:last-child>tbody:last-child>tr:last-child td:first-child,.panel>.table:last-child>tfoot:last-child>tr:last-child td:first-child,.panel>.table-responsive:last-child>.table:last-child>tfoot:last-child>tr:last-child td:first-child,.panel>.table:last-child>tbody:last-child>tr:last-child th:first-child,.panel>.table-responsive:last-child>.table:last-child>tbody:last-child>tr:last-child th:first-child,.panel>.table:last-child>tfoot:last-child>tr:last-child th:first-child,.panel>.table-responsive:last-child>.table:last-child>tfoot:last-child>tr:last-child th:first-child{border-bottom-left-radius:1px}.panel>.table:last-child>tbody:last-child>tr:last-child td:last-child,.panel>.table-responsive:last-child>.table:last-child>tbody:last-child>tr:last-child td:last-child,.panel>.table:last-child>tfoot:last-child>tr:last-child td:last-child,.panel>.table-responsive:last-child>.table:last-child>tfoot:last-child>tr:last-child td:last-child,.panel>.table:last-child>tbody:last-child>tr:last-child th:last-child,.panel>.table-responsive:last-child>.table:last-child>tbody:last-child>tr:last-child th:last-child,.panel>.table:last-child>tfoot:last-child>tr:last-child th:last-child,.panel>.table-responsive:last-child>.table:last-child>tfoot:last-child>tr:last-child th:last-child{border-bottom-right-radius:1px}.panel>.panel-body+.table,.panel>.panel-body+.table-responsive,.panel>.table+.panel-body,.panel>.table-responsive+.panel-body{border-top:1px solid #ddd}.panel>.table>tbody:first-child>tr:first-child th,.panel>.table>tbody:first-child>tr:first-child td{border-top:0}.panel>.table-bordered,.panel>.table-responsive>.table-bordered{border:0}.panel>.table-bordered>thead>tr>th:first-child,.panel>.table-responsive>.table-bordered>thead>tr>th:first-child,.panel>.table-bordered>tbody>tr>th:first-child,.panel>.table-responsive>.table-bordered>tbody>tr>th:first-child,.panel>.table-bordered>tfoot>tr>th:first-child,.panel>.table-responsive>.table-bordered>tfoot>tr>th:first-child,.panel>.table-bordered>thead>tr>td:first-child,.panel>.table-responsive>.table-bordered>thead>tr>td:first-child,.panel>.table-bordered>tbody>tr>td:first-child,.panel>.table-responsive>.table-bordered>tbody>tr>td:first-child,.panel>.table-bordered>tfoot>tr>td:first-child,.panel>.table-responsive>.table-bordered>tfoot>tr>td:first-child{border-left:0}.panel>.table-bordered>thead>tr>th:last-child,.panel>.table-responsive>.table-bordered>thead>tr>th:last-child,.panel>.table-bordered>tbody>tr>th:last-child,.panel>.table-responsive>.table-bordered>tbody>tr>th:last-child,.panel>.table-bordered>tfoot>tr>th:last-child,.panel>.table-responsive>.table-bordered>tfoot>tr>th:last-child,.panel>.table-bordered>thead>tr>td:last-child,.panel>.table-responsive>.table-bordered>thead>tr>td:last-child,.panel>.table-bordered>tbody>tr>td:last-child,.panel>.table-responsive>.table-bordered>tbody>tr>td:last-child,.panel>.table-bordered>tfoot>tr>td:last-child,.panel>.table-responsive>.table-bordered>tfoot>tr>td:last-child{border-right:0}.panel>.table-bordered>thead>tr:first-child>td,.panel>.table-responsive>.table-bordered>thead>tr:first-child>td,.panel>.table-bordered>tbody>tr:first-child>td,.panel>.table-responsive>.table-bordered>tbody>tr:first-child>td,.panel>.table-bordered>thead>tr:first-child>th,.panel>.table-responsive>.table-bordered>thead>tr:first-child>th,.panel>.table-bordered>tbody>tr:first-child>th,.panel>.table-responsive>.table-bordered>tbody>tr:first-child>th{border-bottom:0}.panel>.table-bordered>tbody>tr:last-child>td,.panel>.table-responsive>.table-bordered>tbody>tr:last-child>td,.panel>.table-bordered>tfoot>tr:last-child>td,.panel>.table-responsive>.table-bordered>tfoot>tr:last-child>td,.panel>.table-bordered>tbody>tr:last-child>th,.panel>.table-responsive>.table-bordered>tbody>tr:last-child>th,.panel>.table-bordered>tfoot>tr:last-child>th,.panel>.table-responsive>.table-bordered>tfoot>tr:last-child>th{border-bottom:0}.panel>.table-responsive{border:0;margin-bottom:0}.panel-group{margin-bottom:18px}.panel-group .panel{margin-bottom:0;border-radius:2px}.panel-group .panel+.panel{margin-top:5px}.panel-group .panel-heading{border-bottom:0}.panel-group .panel-heading+.panel-collapse>.panel-body,.panel-group .panel-heading+.panel-collapse>.list-group{border-top:1px solid #ddd}.panel-group .panel-footer{border-top:0}.panel-group .panel-footer+.panel-collapse .panel-body{border-bottom:1px solid #ddd}.panel-default{border-color:#ddd}.panel-default>.panel-heading{color:#333;background-color:#f5f5f5;border-color:#ddd}.panel-default>.panel-heading+.panel-collapse>.panel-body{border-top-color:#ddd}.panel-default>.panel-heading .badge{color:#f5f5f5;background-color:#333}.panel-default>.panel-footer+.panel-collapse>.panel-body{border-bottom-color:#ddd}.panel-primary{border-color:#337ab7}.panel-primary>.panel-heading{color:#fff;background-color:#337ab7;border-color:#337ab7}.panel-primary>.panel-heading+.panel-collapse>.panel-body{border-top-color:#337ab7}.panel-primary>.panel-heading .badge{color:#337ab7;background-color:#fff}.panel-primary>.panel-footer+.panel-collapse>.panel-body{border-bottom-color:#337ab7}.panel-success{border-color:#d6e9c6}.panel-success>.panel-heading{color:#3c763d;background-color:#dff0d8;border-color:#d6e9c6}.panel-success>.panel-heading+.panel-collapse>.panel-body{border-top-color:#d6e9c6}.panel-success>.panel-heading .badge{color:#dff0d8;background-color:#3c763d}.panel-success>.panel-footer+.panel-collapse>.panel-body{border-bottom-color:#d6e9c6}.panel-info{border-color:#bce8f1}.panel-info>.panel-heading{color:#31708f;background-color:#d9edf7;border-color:#bce8f1}.panel-info>.panel-heading+.panel-collapse>.panel-body{border-top-color:#bce8f1}.panel-info>.panel-heading .badge{color:#d9edf7;background-color:#31708f}.panel-info>.panel-footer+.panel-collapse>.panel-body{border-bottom-color:#bce8f1}.panel-warning{border-color:#faebcc}.panel-warning>.panel-heading{color:#8a6d3b;background-color:#fcf8e3;border-color:#faebcc}.panel-warning>.panel-heading+.panel-collapse>.panel-body{border-top-color:#faebcc}.panel-warning>.panel-heading .badge{color:#fcf8e3;background-color:#8a6d3b}.panel-warning>.panel-footer+.panel-collapse>.panel-body{border-bottom-color:#faebcc}.panel-danger{border-color:#ebccd1}.panel-danger>.panel-heading{color:#a94442;background-color:#f2dede;border-color:#ebccd1}.panel-danger>.panel-heading+.panel-collapse>.panel-body{border-top-color:#ebccd1}.panel-danger>.panel-heading .badge{color:#f2dede;background-color:#a94442}.panel-danger>.panel-footer+.panel-collapse>.panel-body{border-bottom-color:#ebccd1}.embed-responsive{position:relative;display:block;height:0;padding:0;overflow:hidden}.embed-responsive .embed-responsive-item,.embed-responsive iframe,.embed-responsive embed,.embed-responsive object,.embed-responsive video{position:absolute;top:0;left:0;bottom:0;height:100%;width:100%;border:0}.embed-responsive.embed-responsive-16by9{padding-bottom:56.25%}.embed-responsive.embed-responsive-4by3{padding-bottom:75%}.well{min-height:20px;padding:19px;margin-bottom:20px;background-color:#f5f5f5;border:1px solid #e3e3e3;border-radius:2px;-webkit-box-shadow:inset 0 1px 1px rgba(0,0,0,0.05);box-shadow:inset 0 1px 1px rgba(0,0,0,0.05)}.well blockquote{border-color:#ddd;border-color:rgba(0,0,0,0.15)}.well-lg{padding:24px;border-radius:3px}.well-sm{padding:9px;border-radius:1px}.close{float:right;font-size:19.5px;font-weight:bold;line-height:1;color:#000;text-shadow:0 1px 0 #fff;opacity:.2;filter:alpha(opacity=20)}.close:hover,.close:focus{color:#000;text-decoration:none;cursor:pointer;opacity:.5;filter:alpha(opacity=50)}button.close{padding:0;cursor:pointer;background:transparent;border:0;-webkit-appearance:none}.modal-open{overflow:hidden}.modal{display:none;overflow:hidden;position:fixed;top:0;right:0;bottom:0;left:0;z-index:1040;-webkit-overflow-scrolling:touch;outline:0}.modal.fade .modal-dialog{-webkit-transform:translate(0, -25%);-ms-transform:translate(0, -25%);-o-transform:translate(0, -25%);transform:translate(0, -25%);-webkit-transition:-webkit-transform 0.3s ease-out;-moz-transition:-moz-transform 0.3s ease-out;-o-transition:-o-transform 0.3s ease-out;transition:transform 0.3s ease-out}.modal.in .modal-dialog{-webkit-transform:translate(0, 0);-ms-transform:translate(0, 0);-o-transform:translate(0, 0);transform:translate(0, 0)}.modal-open .modal{overflow-x:hidden;overflow-y:auto}.modal-dialog{position:relative;width:auto;margin:10px}.modal-content{position:relative;background-color:#fff;border:1px solid #999;border:1px solid rgba(0,0,0,0.2);border-radius:3px;-webkit-box-shadow:0 3px 9px rgba(0,0,0,0.5);box-shadow:0 3px 9px rgba(0,0,0,0.5);background-clip:padding-box;outline:0}.modal-backdrop{position:absolute;top:0;right:0;left:0;background-color:#000}.modal-backdrop.fade{opacity:0;filter:alpha(opacity=0)}.modal-backdrop.in{opacity:.5;filter:alpha(opacity=50)}.modal-header{padding:15px;border-bottom:1px solid #e5e5e5;min-height:16.42857143px}.modal-header .close{margin-top:-2px}.modal-title{margin:0;line-height:1.42857143}.modal-body{position:relative;padding:15px}.modal-footer{padding:15px;text-align:right;border-top:1px solid #e5e5e5}.modal-footer .btn+.btn{margin-left:5px;margin-bottom:0}.modal-footer .btn-group .btn+.btn{margin-left:-1px}.modal-footer .btn-block+.btn-block{margin-left:0}.modal-scrollbar-measure{position:absolute;top:-9999px;width:50px;height:50px;overflow:scroll}@media (min-width:768px){.modal-dialog{width:600px;margin:30px auto}.modal-content{-webkit-box-shadow:0 5px 15px rgba(0,0,0,0.5);box-shadow:0 5px 15px rgba(0,0,0,0.5)}.modal-sm{width:300px}}@media (min-width:992px){.modal-lg{width:900px}}.tooltip{position:absolute;z-index:1070;display:block;visibility:visible;font-family:"Helvetica Neue",Helvetica,Arial,sans-serif;font-size:12px;font-weight:normal;line-height:1.4;opacity:0;filter:alpha(opacity=0)}.tooltip.in{opacity:.9;filter:alpha(opacity=90)}.tooltip.top{margin-top:-3px;padding:5px 0}.tooltip.right{margin-left:3px;padding:0 5px}.tooltip.bottom{margin-top:3px;padding:5px 0}.tooltip.left{margin-left:-3px;padding:0 5px}.tooltip-inner{max-width:200px;padding:3px 8px;color:#fff;text-align:center;text-decoration:none;background-color:#000;border-radius:2px}.tooltip-arrow{position:absolute;width:0;height:0;border-color:transparent;border-style:solid}.tooltip.top .tooltip-arrow{bottom:0;left:50%;margin-left:-5px;border-width:5px 5px 0;border-top-color:#000}.tooltip.top-left .tooltip-arrow{bottom:0;right:5px;margin-bottom:-5px;border-width:5px 5px 0;border-top-color:#000}.tooltip.top-right .tooltip-arrow{bottom:0;left:5px;margin-bottom:-5px;border-width:5px 5px 0;border-top-color:#000}.tooltip.right .tooltip-arrow{top:50%;left:0;margin-top:-5px;border-width:5px 5px 5px 0;border-right-color:#000}.tooltip.left .tooltip-arrow{top:50%;right:0;margin-top:-5px;border-width:5px 0 5px 5px;border-left-color:#000}.tooltip.bottom .tooltip-arrow{top:0;left:50%;margin-left:-5px;border-width:0 5px 5px;border-bottom-color:#000}.tooltip.bottom-left .tooltip-arrow{top:0;right:5px;margin-top:-5px;border-width:0 5px 5px;border-bottom-color:#000}.tooltip.bottom-right .tooltip-arrow{top:0;left:5px;margin-top:-5px;border-width:0 5px 5px;border-bottom-color:#000}.popover{position:absolute;top:0;left:0;z-index:1060;display:none;max-width:276px;padding:1px;font-family:"Helvetica Neue",Helvetica,Arial,sans-serif;font-size:13px;font-weight:normal;line-height:1.42857143;text-align:left;background-color:#fff;background-clip:padding-box;border:1px solid #ccc;border:1px solid rgba(0,0,0,0.2);border-radius:3px;-webkit-box-shadow:0 5px 10px rgba(0,0,0,0.2);box-shadow:0 5px 10px rgba(0,0,0,0.2);white-space:normal}.popover.top{margin-top:-10px}.popover.right{margin-left:10px}.popover.bottom{margin-top:10px}.popover.left{margin-left:-10px}.popover-title{margin:0;padding:8px 14px;font-size:13px;background-color:#f7f7f7;border-bottom:1px solid #ebebeb;border-radius:2px 2px 0 0}.popover-content{padding:9px 14px}.popover>.arrow,.popover>.arrow:after{position:absolute;display:block;width:0;height:0;border-color:transparent;border-style:solid}.popover>.arrow{border-width:11px}.popover>.arrow:after{border-width:10px;content:""}.popover.top>.arrow{left:50%;margin-left:-11px;border-bottom-width:0;border-top-color:#999;border-top-color:rgba(0,0,0,0.25);bottom:-11px}.popover.top>.arrow:after{content:" ";bottom:1px;margin-left:-10px;border-bottom-width:0;border-top-color:#fff}.popover.right>.arrow{top:50%;left:-11px;margin-top:-11px;border-left-width:0;border-right-color:#999;border-right-color:rgba(0,0,0,0.25)}.popover.right>.arrow:after{content:" ";left:1px;bottom:-10px;border-left-width:0;border-right-color:#fff}.popover.bottom>.arrow{left:50%;margin-left:-11px;border-top-width:0;border-bottom-color:#999;border-bottom-color:rgba(0,0,0,0.25);top:-11px}.popover.bottom>.arrow:after{content:" ";top:1px;margin-left:-10px;border-top-width:0;border-bottom-color:#fff}.popover.left>.arrow{top:50%;right:-11px;margin-top:-11px;border-right-width:0;border-left-color:#999;border-left-color:rgba(0,0,0,0.25)}.popover.left>.arrow:after{content:" ";right:1px;border-right-width:0;border-left-color:#fff;bottom:-10px}.carousel{position:relative}.carousel-inner{position:relative;overflow:hidden;width:100%}.carousel-inner>.item{display:none;position:relative;-webkit-transition:.6s ease-in-out left;-o-transition:.6s ease-in-out left;transition:.6s ease-in-out left}.carousel-inner>.item>img,.carousel-inner>.item>a>img{line-height:1}@media all and (transform-3d),(-webkit-transform-3d){.carousel-inner>.item{transition:transform .6s ease-in-out;backface-visibility:hidden;perspective:1000}.carousel-inner>.item.next,.carousel-inner>.item.active.right{transform:translate3d(100%, 0, 0);left:0}.carousel-inner>.item.prev,.carousel-inner>.item.active.left{transform:translate3d(-100%, 0, 0);left:0}.carousel-inner>.item.next.left,.carousel-inner>.item.prev.right,.carousel-inner>.item.active{transform:translate3d(0, 0, 0);left:0}}.carousel-inner>.active,.carousel-inner>.next,.carousel-inner>.prev{display:block}.carousel-inner>.active{left:0}.carousel-inner>.next,.carousel-inner>.prev{position:absolute;top:0;width:100%}.carousel-inner>.next{left:100%}.carousel-inner>.prev{left:-100%}.carousel-inner>.next.left,.carousel-inner>.prev.right{left:0}.carousel-inner>.active.left{left:-100%}.carousel-inner>.active.right{left:100%}.carousel-control{position:absolute;top:0;left:0;bottom:0;width:15%;opacity:.5;filter:alpha(opacity=50);font-size:20px;color:#fff;text-align:center;text-shadow:0 1px 2px rgba(0,0,0,0.6)}.carousel-control.left{background-image:-webkit-linear-gradient(left, rgba(0,0,0,0.5) 0, rgba(0,0,0,0.0001) 100%);background-image:-o-linear-gradient(left, rgba(0,0,0,0.5) 0, rgba(0,0,0,0.0001) 100%);background-image:linear-gradient(to right, rgba(0,0,0,0.5) 0, rgba(0,0,0,0.0001) 100%);background-repeat:repeat-x;filter:progid:DXImageTransform.Microsoft.gradient(startColorstr='#80000000', endColorstr='#00000000', GradientType=1)}.carousel-control.right{left:auto;right:0;background-image:-webkit-linear-gradient(left, rgba(0,0,0,0.0001) 0, rgba(0,0,0,0.5) 100%);background-image:-o-linear-gradient(left, rgba(0,0,0,0.0001) 0, rgba(0,0,0,0.5) 100%);background-image:linear-gradient(to right, rgba(0,0,0,0.0001) 0, rgba(0,0,0,0.5) 100%);background-repeat:repeat-x;filter:progid:DXImageTransform.Microsoft.gradient(startColorstr='#00000000', endColorstr='#80000000', GradientType=1)}.carousel-control:hover,.carousel-control:focus{outline:0;color:#fff;text-decoration:none;opacity:.9;filter:alpha(opacity=90)}.carousel-control .icon-prev,.carousel-control .icon-next,.carousel-control .glyphicon-chevron-left,.carousel-control .glyphicon-chevron-right{position:absolute;top:50%;z-index:5;display:inline-block}.carousel-control .icon-prev,.carousel-control .glyphicon-chevron-left{left:50%;margin-left:-10px}.carousel-control .icon-next,.carousel-control .glyphicon-chevron-right{right:50%;margin-right:-10px}.carousel-control .icon-prev,.carousel-control .icon-next{width:20px;height:20px;margin-top:-10px;font-family:serif}.carousel-control .icon-prev:before{content:'\2039'}.carousel-control .icon-next:before{content:'\203a'}.carousel-indicators{position:absolute;bottom:10px;left:50%;z-index:15;width:60%;margin-left:-30%;padding-left:0;list-style:none;text-align:center}.carousel-indicators li{display:inline-block;width:10px;height:10px;margin:1px;text-indent:-999px;border:1px solid #fff;border-radius:10px;cursor:pointer;background-color:#000 \9;background-color:rgba(0,0,0,0)}.carousel-indicators .active{margin:0;width:12px;height:12px;background-color:#fff}.carousel-caption{position:absolute;left:15%;right:15%;bottom:20px;z-index:10;padding-top:20px;padding-bottom:20px;color:#fff;text-align:center;text-shadow:0 1px 2px rgba(0,0,0,0.6)}.carousel-caption .btn{text-shadow:none}@media screen and (min-width:768px){.carousel-control .glyphicon-chevron-left,.carousel-control .glyphicon-chevron-right,.carousel-control .icon-prev,.carousel-control .icon-next{width:30px;height:30px;margin-top:-15px;font-size:30px}.carousel-control .glyphicon-chevron-left,.carousel-control .icon-prev{margin-left:-15px}.carousel-control .glyphicon-chevron-right,.carousel-control .icon-next{margin-right:-15px}.carousel-caption{left:20%;right:20%;padding-bottom:30px}.carousel-indicators{bottom:20px}}.clearfix:before,.clearfix:after,.dl-horizontal dd:before,.dl-horizontal dd:after,.container:before,.container:after,.container-fluid:before,.container-fluid:after,.row:before,.row:after,.form-horizontal .form-group:before,.form-horizontal .form-group:after,.btn-toolbar:before,.btn-toolbar:after,.btn-group-vertical>.btn-group:before,.btn-group-vertical>.btn-group:after,.nav:before,.nav:after,.navbar:before,.navbar:after,.navbar-header:before,.navbar-header:after,.navbar-collapse:before,.navbar-collapse:after,.pager:before,.pager:after,.panel-body:before,.panel-body:after,.modal-footer:before,.modal-footer:after,.item_buttons:before,.item_buttons:after{content:" ";display:table}.clearfix:after,.dl-horizontal dd:after,.container:after,.container-fluid:after,.row:after,.form-horizontal .form-group:after,.btn-toolbar:after,.btn-group-vertical>.btn-group:after,.nav:after,.navbar:after,.navbar-header:after,.navbar-collapse:after,.pager:after,.panel-body:after,.modal-footer:after,.item_buttons:after{clear:both}.center-block{display:block;margin-left:auto;margin-right:auto}.pull-right{float:right !important}.pull-left{float:left !important}.hide{display:none !important}.show{display:block !important}.invisible{visibility:hidden}.text-hide{font:0/0 a;color:transparent;text-shadow:none;background-color:transparent;border:0}.hidden{display:none !important;visibility:hidden !important}.affix{position:fixed}@-ms-viewport{width:device-width}.visible-xs,.visible-sm,.visible-md,.visible-lg{display:none !important}.visible-xs-block,.visible-xs-inline,.visible-xs-inline-block,.visible-sm-block,.visible-sm-inline,.visible-sm-inline-block,.visible-md-block,.visible-md-inline,.visible-md-inline-block,.visible-lg-block,.visible-lg-inline,.visible-lg-inline-block{display:none !important}@media (max-width:767px){.visible-xs{display:block !important}table.visible-xs{display:table}tr.visible-xs{display:table-row !important}th.visible-xs,td.visible-xs{display:table-cell !important}}@media (max-width:767px){.visible-xs-block{display:block !important}}@media (max-width:767px){.visible-xs-inline{display:inline !important}}@media (max-width:767px){.visible-xs-inline-block{display:inline-block !important}}@media (min-width:768px) and (max-width:991px){.visible-sm{display:block !important}table.visible-sm{display:table}tr.visible-sm{display:table-row !important}th.visible-sm,td.visible-sm{display:table-cell !important}}@media (min-width:768px) and (max-width:991px){.visible-sm-block{display:block !important}}@media (min-width:768px) and (max-width:991px){.visible-sm-inline{display:inline !important}}@media (min-width:768px) and (max-width:991px){.visible-sm-inline-block{display:inline-block !important}}@media (min-width:992px) and (max-width:1199px){.visible-md{display:block !important}table.visible-md{display:table}tr.visible-md{display:table-row !important}th.visible-md,td.visible-md{display:table-cell !important}}@media (min-width:992px) and (max-width:1199px){.visible-md-block{display:block !important}}@media (min-width:992px) and (max-width:1199px){.visible-md-inline{display:inline !important}}@media (min-width:992px) and (max-width:1199px){.visible-md-inline-block{display:inline-block !important}}@media (min-width:1200px){.visible-lg{display:block !important}table.visible-lg{display:table}tr.visible-lg{display:table-row !important}th.visible-lg,td.visible-lg{display:table-cell !important}}@media (min-width:1200px){.visible-lg-block{display:block !important}}@media (min-width:1200px){.visible-lg-inline{display:inline !important}}@media (min-width:1200px){.visible-lg-inline-block{display:inline-block !important}}@media (max-width:767px){.hidden-xs{display:none !important}}@media (min-width:768px) and (max-width:991px){.hidden-sm{display:none !important}}@media (min-width:992px) and (max-width:1199px){.hidden-md{display:none !important}}@media (min-width:1200px){.hidden-lg{display:none !important}}.visible-print{display:none !important}@media print{.visible-print{display:block !important}table.visible-print{display:table}tr.visible-print{display:table-row !important}th.visible-print,td.visible-print{display:table-cell !important}}.visible-print-block{display:none !important}@media print{.visible-print-block{display:block !important}}.visible-print-inline{display:none !important}@media print{.visible-print-inline{display:inline !important}}.visible-print-inline-block{display:none !important}@media print{.visible-print-inline-block{display:inline-block !important}}@media print{.hidden-print{display:none !important}}/*!
*
* Font Awesome
*
*//*!
 *  Font Awesome 4.3.0 by @davegandy - http://fontawesome.io - @fontawesome
 *  License - http://fontawesome.io/license (Font: SIL OFL 1.1, CSS: MIT License)
 */@font-face{font-family:'FontAwesome';src:url('../components/font-awesome/fonts/fontawesome-webfont.eot?v=4.3.0');src:url('../components/font-awesome/fonts/fontawesome-webfont.eot?#iefix&v=4.3.0') format('embedded-opentype'),url('../components/font-awesome/fonts/fontawesome-webfont.woff2?v=4.3.0') format('woff2'),url('../components/font-awesome/fonts/fontawesome-webfont.woff?v=4.3.0') format('woff'),url('../components/font-awesome/fonts/fontawesome-webfont.ttf?v=4.3.0') format('truetype'),url('../components/font-awesome/fonts/fontawesome-webfont.svg?v=4.3.0#fontawesomeregular') format('svg');font-weight:normal;font-style:normal}.fa{display:inline-block;font:normal normal normal 14px/1 FontAwesome;font-size:inherit;text-rendering:auto;-webkit-font-smoothing:antialiased;-moz-osx-font-smoothing:grayscale;transform:translate(0, 0)}.fa-lg{font-size:1.33333333em;line-height:.75em;vertical-align:-15%}.fa-2x{font-size:2em}.fa-3x{font-size:3em}.fa-4x{font-size:4em}.fa-5x{font-size:5em}.fa-fw{width:1.28571429em;text-align:center}.fa-ul{padding-left:0;margin-left:2.14285714em;list-style-type:none}.fa-ul>li{position:relative}.fa-li{position:absolute;left:-2.14285714em;width:2.14285714em;top:.14285714em;text-align:center}.fa-li.fa-lg{left:-1.85714286em}.fa-border{padding:.2em .25em .15em;border:solid .08em #eee;border-radius:.1em}.pull-right{float:right}.pull-left{float:left}.fa.pull-left{margin-right:.3em}.fa.pull-right{margin-left:.3em}.fa-spin{-webkit-animation:fa-spin 2s infinite linear;animation:fa-spin 2s infinite linear}.fa-pulse{-webkit-animation:fa-spin 1s infinite steps(8);animation:fa-spin 1s infinite steps(8)}@-webkit-keyframes fa-spin{0%{-webkit-transform:rotate(0deg);transform:rotate(0deg)}100%{-webkit-transform:rotate(359deg);transform:rotate(359deg)}}@keyframes fa-spin{0%{-webkit-transform:rotate(0deg);transform:rotate(0deg)}100%{-webkit-transform:rotate(359deg);transform:rotate(359deg)}}.fa-rotate-90{filter:progid:DXImageTransform.Microsoft.BasicImage(rotation=1);-webkit-transform:rotate(90deg);-ms-transform:rotate(90deg);transform:rotate(90deg)}.fa-rotate-180{filter:progid:DXImageTransform.Microsoft.BasicImage(rotation=2);-webkit-transform:rotate(180deg);-ms-transform:rotate(180deg);transform:rotate(180deg)}.fa-rotate-270{filter:progid:DXImageTransform.Microsoft.BasicImage(rotation=3);-webkit-transform:rotate(270deg);-ms-transform:rotate(270deg);transform:rotate(270deg)}.fa-flip-horizontal{filter:progid:DXImageTransform.Microsoft.BasicImage(rotation=0, mirror=1);-webkit-transform:scale(-1, 1);-ms-transform:scale(-1, 1);transform:scale(-1, 1)}.fa-flip-vertical{filter:progid:DXImageTransform.Microsoft.BasicImage(rotation=2, mirror=1);-webkit-transform:scale(1, -1);-ms-transform:scale(1, -1);transform:scale(1, -1)}:root .fa-rotate-90,:root .fa-rotate-180,:root .fa-rotate-270,:root .fa-flip-horizontal,:root .fa-flip-vertical{filter:none}.fa-stack{position:relative;display:inline-block;width:2em;height:2em;line-height:2em;vertical-align:middle}.fa-stack-1x,.fa-stack-2x{position:absolute;left:0;width:100%;text-align:center}.fa-stack-1x{line-height:inherit}.fa-stack-2x{font-size:2em}.fa-inverse{color:#fff}.fa-glass:before{content:"\f000"}.fa-music:before{content:"\f001"}.fa-search:before{content:"\f002"}.fa-envelope-o:before{content:"\f003"}.fa-heart:before{content:"\f004"}.fa-star:before{content:"\f005"}.fa-star-o:before{content:"\f006"}.fa-user:before{content:"\f007"}.fa-film:before{content:"\f008"}.fa-th-large:before{content:"\f009"}.fa-th:before{content:"\f00a"}.fa-th-list:before{content:"\f00b"}.fa-check:before{content:"\f00c"}.fa-remove:before,.fa-close:before,.fa-times:before{content:"\f00d"}.fa-search-plus:before{content:"\f00e"}.fa-search-minus:before{content:"\f010"}.fa-power-off:before{content:"\f011"}.fa-signal:before{content:"\f012"}.fa-gear:before,.fa-cog:before{content:"\f013"}.fa-trash-o:before{content:"\f014"}.fa-home:before{content:"\f015"}.fa-file-o:before{content:"\f016"}.fa-clock-o:before{content:"\f017"}.fa-road:before{content:"\f018"}.fa-download:before{content:"\f019"}.fa-arrow-circle-o-down:before{content:"\f01a"}.fa-arrow-circle-o-up:before{content:"\f01b"}.fa-inbox:before{content:"\f01c"}.fa-play-circle-o:before{content:"\f01d"}.fa-rotate-right:before,.fa-repeat:before{content:"\f01e"}.fa-refresh:before{content:"\f021"}.fa-list-alt:before{content:"\f022"}.fa-lock:before{content:"\f023"}.fa-flag:before{content:"\f024"}.fa-headphones:before{content:"\f025"}.fa-volume-off:before{content:"\f026"}.fa-volume-down:before{content:"\f027"}.fa-volume-up:before{content:"\f028"}.fa-qrcode:before{content:"\f029"}.fa-barcode:before{content:"\f02a"}.fa-tag:before{content:"\f02b"}.fa-tags:before{content:"\f02c"}.fa-book:before{content:"\f02d"}.fa-bookmark:before{content:"\f02e"}.fa-print:before{content:"\f02f"}.fa-camera:before{content:"\f030"}.fa-font:before{content:"\f031"}.fa-bold:before{content:"\f032"}.fa-italic:before{content:"\f033"}.fa-text-height:before{content:"\f034"}.fa-text-width:before{content:"\f035"}.fa-align-left:before{content:"\f036"}.fa-align-center:before{content:"\f037"}.fa-align-right:before{content:"\f038"}.fa-align-justify:before{content:"\f039"}.fa-list:before{content:"\f03a"}.fa-dedent:before,.fa-outdent:before{content:"\f03b"}.fa-indent:before{content:"\f03c"}.fa-video-camera:before{content:"\f03d"}.fa-photo:before,.fa-image:before,.fa-picture-o:before{content:"\f03e"}.fa-pencil:before{content:"\f040"}.fa-map-marker:before{content:"\f041"}.fa-adjust:before{content:"\f042"}.fa-tint:before{content:"\f043"}.fa-edit:before,.fa-pencil-square-o:before{content:"\f044"}.fa-share-square-o:before{content:"\f045"}.fa-check-square-o:before{content:"\f046"}.fa-arrows:before{content:"\f047"}.fa-step-backward:before{content:"\f048"}.fa-fast-backward:before{content:"\f049"}.fa-backward:before{content:"\f04a"}.fa-play:before{content:"\f04b"}.fa-pause:before{content:"\f04c"}.fa-stop:before{content:"\f04d"}.fa-forward:before{content:"\f04e"}.fa-fast-forward:before{content:"\f050"}.fa-step-forward:before{content:"\f051"}.fa-eject:before{content:"\f052"}.fa-chevron-left:before{content:"\f053"}.fa-chevron-right:before{content:"\f054"}.fa-plus-circle:before{content:"\f055"}.fa-minus-circle:before{content:"\f056"}.fa-times-circle:before{content:"\f057"}.fa-check-circle:before{content:"\f058"}.fa-question-circle:before{content:"\f059"}.fa-info-circle:before{content:"\f05a"}.fa-crosshairs:before{content:"\f05b"}.fa-times-circle-o:before{content:"\f05c"}.fa-check-circle-o:before{content:"\f05d"}.fa-ban:before{content:"\f05e"}.fa-arrow-left:before{content:"\f060"}.fa-arrow-right:before{content:"\f061"}.fa-arrow-up:before{content:"\f062"}.fa-arrow-down:before{content:"\f063"}.fa-mail-forward:before,.fa-share:before{content:"\f064"}.fa-expand:before{content:"\f065"}.fa-compress:before{content:"\f066"}.fa-plus:before{content:"\f067"}.fa-minus:before{content:"\f068"}.fa-asterisk:before{content:"\f069"}.fa-exclamation-circle:before{content:"\f06a"}.fa-gift:before{content:"\f06b"}.fa-leaf:before{content:"\f06c"}.fa-fire:before{content:"\f06d"}.fa-eye:before{content:"\f06e"}.fa-eye-slash:before{content:"\f070"}.fa-warning:before,.fa-exclamation-triangle:before{content:"\f071"}.fa-plane:before{content:"\f072"}.fa-calendar:before{content:"\f073"}.fa-random:before{content:"\f074"}.fa-comment:before{content:"\f075"}.fa-magnet:before{content:"\f076"}.fa-chevron-up:before{content:"\f077"}.fa-chevron-down:before{content:"\f078"}.fa-retweet:before{content:"\f079"}.fa-shopping-cart:before{content:"\f07a"}.fa-folder:before{content:"\f07b"}.fa-folder-open:before{content:"\f07c"}.fa-arrows-v:before{content:"\f07d"}.fa-arrows-h:before{content:"\f07e"}.fa-bar-chart-o:before,.fa-bar-chart:before{content:"\f080"}.fa-twitter-square:before{content:"\f081"}.fa-facebook-square:before{content:"\f082"}.fa-camera-retro:before{content:"\f083"}.fa-key:before{content:"\f084"}.fa-gears:before,.fa-cogs:before{content:"\f085"}.fa-comments:before{content:"\f086"}.fa-thumbs-o-up:before{content:"\f087"}.fa-thumbs-o-down:before{content:"\f088"}.fa-star-half:before{content:"\f089"}.fa-heart-o:before{content:"\f08a"}.fa-sign-out:before{content:"\f08b"}.fa-linkedin-square:before{content:"\f08c"}.fa-thumb-tack:before{content:"\f08d"}.fa-external-link:before{content:"\f08e"}.fa-sign-in:before{content:"\f090"}.fa-trophy:before{content:"\f091"}.fa-github-square:before{content:"\f092"}.fa-upload:before{content:"\f093"}.fa-lemon-o:before{content:"\f094"}.fa-phone:before{content:"\f095"}.fa-square-o:before{content:"\f096"}.fa-bookmark-o:before{content:"\f097"}.fa-phone-square:before{content:"\f098"}.fa-twitter:before{content:"\f099"}.fa-facebook-f:before,.fa-facebook:before{content:"\f09a"}.fa-github:before{content:"\f09b"}.fa-unlock:before{content:"\f09c"}.fa-credit-card:before{content:"\f09d"}.fa-rss:before{content:"\f09e"}.fa-hdd-o:before{content:"\f0a0"}.fa-bullhorn:before{content:"\f0a1"}.fa-bell:before{content:"\f0f3"}.fa-certificate:before{content:"\f0a3"}.fa-hand-o-right:before{content:"\f0a4"}.fa-hand-o-left:before{content:"\f0a5"}.fa-hand-o-up:before{content:"\f0a6"}.fa-hand-o-down:before{content:"\f0a7"}.fa-arrow-circle-left:before{content:"\f0a8"}.fa-arrow-circle-right:before{content:"\f0a9"}.fa-arrow-circle-up:before{content:"\f0aa"}.fa-arrow-circle-down:before{content:"\f0ab"}.fa-globe:before{content:"\f0ac"}.fa-wrench:before{content:"\f0ad"}.fa-tasks:before{content:"\f0ae"}.fa-filter:before{content:"\f0b0"}.fa-briefcase:before{content:"\f0b1"}.fa-arrows-alt:before{content:"\f0b2"}.fa-group:before,.fa-users:before{content:"\f0c0"}.fa-chain:before,.fa-link:before{content:"\f0c1"}.fa-cloud:before{content:"\f0c2"}.fa-flask:before{content:"\f0c3"}.fa-cut:before,.fa-scissors:before{content:"\f0c4"}.fa-copy:before,.fa-files-o:before{content:"\f0c5"}.fa-paperclip:before{content:"\f0c6"}.fa-save:before,.fa-floppy-o:before{content:"\f0c7"}.fa-square:before{content:"\f0c8"}.fa-navicon:before,.fa-reorder:before,.fa-bars:before{content:"\f0c9"}.fa-list-ul:before{content:"\f0ca"}.fa-list-ol:before{content:"\f0cb"}.fa-strikethrough:before{content:"\f0cc"}.fa-underline:before{content:"\f0cd"}.fa-table:before{content:"\f0ce"}.fa-magic:before{content:"\f0d0"}.fa-truck:before{content:"\f0d1"}.fa-pinterest:before{content:"\f0d2"}.fa-pinterest-square:before{content:"\f0d3"}.fa-google-plus-square:before{content:"\f0d4"}.fa-google-plus:before{content:"\f0d5"}.fa-money:before{content:"\f0d6"}.fa-caret-down:before{content:"\f0d7"}.fa-caret-up:before{content:"\f0d8"}.fa-caret-left:before{content:"\f0d9"}.fa-caret-right:before{content:"\f0da"}.fa-columns:before{content:"\f0db"}.fa-unsorted:before,.fa-sort:before{content:"\f0dc"}.fa-sort-down:before,.fa-sort-desc:before{content:"\f0dd"}.fa-sort-up:before,.fa-sort-asc:before{content:"\f0de"}.fa-envelope:before{content:"\f0e0"}.fa-linkedin:before{content:"\f0e1"}.fa-rotate-left:before,.fa-undo:before{content:"\f0e2"}.fa-legal:before,.fa-gavel:before{content:"\f0e3"}.fa-dashboard:before,.fa-tachometer:before{content:"\f0e4"}.fa-comment-o:before{content:"\f0e5"}.fa-comments-o:before{content:"\f0e6"}.fa-flash:before,.fa-bolt:before{content:"\f0e7"}.fa-sitemap:before{content:"\f0e8"}.fa-umbrella:before{content:"\f0e9"}.fa-paste:before,.fa-clipboard:before{content:"\f0ea"}.fa-lightbulb-o:before{content:"\f0eb"}.fa-exchange:before{content:"\f0ec"}.fa-cloud-download:before{content:"\f0ed"}.fa-cloud-upload:before{content:"\f0ee"}.fa-user-md:before{content:"\f0f0"}.fa-stethoscope:before{content:"\f0f1"}.fa-suitcase:before{content:"\f0f2"}.fa-bell-o:before{content:"\f0a2"}.fa-coffee:before{content:"\f0f4"}.fa-cutlery:before{content:"\f0f5"}.fa-file-text-o:before{content:"\f0f6"}.fa-building-o:before{content:"\f0f7"}.fa-hospital-o:before{content:"\f0f8"}.fa-ambulance:before{content:"\f0f9"}.fa-medkit:before{content:"\f0fa"}.fa-fighter-jet:before{content:"\f0fb"}.fa-beer:before{content:"\f0fc"}.fa-h-square:before{content:"\f0fd"}.fa-plus-square:before{content:"\f0fe"}.fa-angle-double-left:before{content:"\f100"}.fa-angle-double-right:before{content:"\f101"}.fa-angle-double-up:before{content:"\f102"}.fa-angle-double-down:before{content:"\f103"}.fa-angle-left:before{content:"\f104"}.fa-angle-right:before{content:"\f105"}.fa-angle-up:before{content:"\f106"}.fa-angle-down:before{content:"\f107"}.fa-desktop:before{content:"\f108"}.fa-laptop:before{content:"\f109"}.fa-tablet:before{content:"\f10a"}.fa-mobile-phone:before,.fa-mobile:before{content:"\f10b"}.fa-circle-o:before{content:"\f10c"}.fa-quote-left:before{content:"\f10d"}.fa-quote-right:before{content:"\f10e"}.fa-spinner:before{content:"\f110"}.fa-circle:before{content:"\f111"}.fa-mail-reply:before,.fa-reply:before{content:"\f112"}.fa-github-alt:before{content:"\f113"}.fa-folder-o:before{content:"\f114"}.fa-folder-open-o:before{content:"\f115"}.fa-smile-o:before{content:"\f118"}.fa-frown-o:before{content:"\f119"}.fa-meh-o:before{content:"\f11a"}.fa-gamepad:before{content:"\f11b"}.fa-keyboard-o:before{content:"\f11c"}.fa-flag-o:before{content:"\f11d"}.fa-flag-checkered:before{content:"\f11e"}.fa-terminal:before{content:"\f120"}.fa-code:before{content:"\f121"}.fa-mail-reply-all:before,.fa-reply-all:before{content:"\f122"}.fa-star-half-empty:before,.fa-star-half-full:before,.fa-star-half-o:before{content:"\f123"}.fa-location-arrow:before{content:"\f124"}.fa-crop:before{content:"\f125"}.fa-code-fork:before{content:"\f126"}.fa-unlink:before,.fa-chain-broken:before{content:"\f127"}.fa-question:before{content:"\f128"}.fa-info:before{content:"\f129"}.fa-exclamation:before{content:"\f12a"}.fa-superscript:before{content:"\f12b"}.fa-subscript:before{content:"\f12c"}.fa-eraser:before{content:"\f12d"}.fa-puzzle-piece:before{content:"\f12e"}.fa-microphone:before{content:"\f130"}.fa-microphone-slash:before{content:"\f131"}.fa-shield:before{content:"\f132"}.fa-calendar-o:before{content:"\f133"}.fa-fire-extinguisher:before{content:"\f134"}.fa-rocket:before{content:"\f135"}.fa-maxcdn:before{content:"\f136"}.fa-chevron-circle-left:before{content:"\f137"}.fa-chevron-circle-right:before{content:"\f138"}.fa-chevron-circle-up:before{content:"\f139"}.fa-chevron-circle-down:before{content:"\f13a"}.fa-html5:before{content:"\f13b"}.fa-css3:before{content:"\f13c"}.fa-anchor:before{content:"\f13d"}.fa-unlock-alt:before{content:"\f13e"}.fa-bullseye:before{content:"\f140"}.fa-ellipsis-h:before{content:"\f141"}.fa-ellipsis-v:before{content:"\f142"}.fa-rss-square:before{content:"\f143"}.fa-play-circle:before{content:"\f144"}.fa-ticket:before{content:"\f145"}.fa-minus-square:before{content:"\f146"}.fa-minus-square-o:before{content:"\f147"}.fa-level-up:before{content:"\f148"}.fa-level-down:before{content:"\f149"}.fa-check-square:before{content:"\f14a"}.fa-pencil-square:before{content:"\f14b"}.fa-external-link-square:before{content:"\f14c"}.fa-share-square:before{content:"\f14d"}.fa-compass:before{content:"\f14e"}.fa-toggle-down:before,.fa-caret-square-o-down:before{content:"\f150"}.fa-toggle-up:before,.fa-caret-square-o-up:before{content:"\f151"}.fa-toggle-right:before,.fa-caret-square-o-right:before{content:"\f152"}.fa-euro:before,.fa-eur:before{content:"\f153"}.fa-gbp:before{content:"\f154"}.fa-dollar:before,.fa-usd:before{content:"\f155"}.fa-rupee:before,.fa-inr:before{content:"\f156"}.fa-cny:before,.fa-rmb:before,.fa-yen:before,.fa-jpy:before{content:"\f157"}.fa-ruble:before,.fa-rouble:before,.fa-rub:before{content:"\f158"}.fa-won:before,.fa-krw:before{content:"\f159"}.fa-bitcoin:before,.fa-btc:before{content:"\f15a"}.fa-file:before{content:"\f15b"}.fa-file-text:before{content:"\f15c"}.fa-sort-alpha-asc:before{content:"\f15d"}.fa-sort-alpha-desc:before{content:"\f15e"}.fa-sort-amount-asc:before{content:"\f160"}.fa-sort-amount-desc:before{content:"\f161"}.fa-sort-numeric-asc:before{content:"\f162"}.fa-sort-numeric-desc:before{content:"\f163"}.fa-thumbs-up:before{content:"\f164"}.fa-thumbs-down:before{content:"\f165"}.fa-youtube-square:before{content:"\f166"}.fa-youtube:before{content:"\f167"}.fa-xing:before{content:"\f168"}.fa-xing-square:before{content:"\f169"}.fa-youtube-play:before{content:"\f16a"}.fa-dropbox:before{content:"\f16b"}.fa-stack-overflow:before{content:"\f16c"}.fa-instagram:before{content:"\f16d"}.fa-flickr:before{content:"\f16e"}.fa-adn:before{content:"\f170"}.fa-bitbucket:before{content:"\f171"}.fa-bitbucket-square:before{content:"\f172"}.fa-tumblr:before{content:"\f173"}.fa-tumblr-square:before{content:"\f174"}.fa-long-arrow-down:before{content:"\f175"}.fa-long-arrow-up:before{content:"\f176"}.fa-long-arrow-left:before{content:"\f177"}.fa-long-arrow-right:before{content:"\f178"}.fa-apple:before{content:"\f179"}.fa-windows:before{content:"\f17a"}.fa-android:before{content:"\f17b"}.fa-linux:before{content:"\f17c"}.fa-dribbble:before{content:"\f17d"}.fa-skype:before{content:"\f17e"}.fa-foursquare:before{content:"\f180"}.fa-trello:before{content:"\f181"}.fa-female:before{content:"\f182"}.fa-male:before{content:"\f183"}.fa-gittip:before,.fa-gratipay:before{content:"\f184"}.fa-sun-o:before{content:"\f185"}.fa-moon-o:before{content:"\f186"}.fa-archive:before{content:"\f187"}.fa-bug:before{content:"\f188"}.fa-vk:before{content:"\f189"}.fa-weibo:before{content:"\f18a"}.fa-renren:before{content:"\f18b"}.fa-pagelines:before{content:"\f18c"}.fa-stack-exchange:before{content:"\f18d"}.fa-arrow-circle-o-right:before{content:"\f18e"}.fa-arrow-circle-o-left:before{content:"\f190"}.fa-toggle-left:before,.fa-caret-square-o-left:before{content:"\f191"}.fa-dot-circle-o:before{content:"\f192"}.fa-wheelchair:before{content:"\f193"}.fa-vimeo-square:before{content:"\f194"}.fa-turkish-lira:before,.fa-try:before{content:"\f195"}.fa-plus-square-o:before{content:"\f196"}.fa-space-shuttle:before{content:"\f197"}.fa-slack:before{content:"\f198"}.fa-envelope-square:before{content:"\f199"}.fa-wordpress:before{content:"\f19a"}.fa-openid:before{content:"\f19b"}.fa-institution:before,.fa-bank:before,.fa-university:before{content:"\f19c"}.fa-mortar-board:before,.fa-graduation-cap:before{content:"\f19d"}.fa-yahoo:before{content:"\f19e"}.fa-google:before{content:"\f1a0"}.fa-reddit:before{content:"\f1a1"}.fa-reddit-square:before{content:"\f1a2"}.fa-stumbleupon-circle:before{content:"\f1a3"}.fa-stumbleupon:before{content:"\f1a4"}.fa-delicious:before{content:"\f1a5"}.fa-digg:before{content:"\f1a6"}.fa-pied-piper:before{content:"\f1a7"}.fa-pied-piper-alt:before{content:"\f1a8"}.fa-drupal:before{content:"\f1a9"}.fa-joomla:before{content:"\f1aa"}.fa-language:before{content:"\f1ab"}.fa-fax:before{content:"\f1ac"}.fa-building:before{content:"\f1ad"}.fa-child:before{content:"\f1ae"}.fa-paw:before{content:"\f1b0"}.fa-spoon:before{content:"\f1b1"}.fa-cube:before{content:"\f1b2"}.fa-cubes:before{content:"\f1b3"}.fa-behance:before{content:"\f1b4"}.fa-behance-square:before{content:"\f1b5"}.fa-steam:before{content:"\f1b6"}.fa-steam-square:before{content:"\f1b7"}.fa-recycle:before{content:"\f1b8"}.fa-automobile:before,.fa-car:before{content:"\f1b9"}.fa-cab:before,.fa-taxi:before{content:"\f1ba"}.fa-tree:before{content:"\f1bb"}.fa-spotify:before{content:"\f1bc"}.fa-deviantart:before{content:"\f1bd"}.fa-soundcloud:before{content:"\f1be"}.fa-database:before{content:"\f1c0"}.fa-file-pdf-o:before{content:"\f1c1"}.fa-file-word-o:before{content:"\f1c2"}.fa-file-excel-o:before{content:"\f1c3"}.fa-file-powerpoint-o:before{content:"\f1c4"}.fa-file-photo-o:before,.fa-file-picture-o:before,.fa-file-image-o:before{content:"\f1c5"}.fa-file-zip-o:before,.fa-file-archive-o:before{content:"\f1c6"}.fa-file-sound-o:before,.fa-file-audio-o:before{content:"\f1c7"}.fa-file-movie-o:before,.fa-file-video-o:before{content:"\f1c8"}.fa-file-code-o:before{content:"\f1c9"}.fa-vine:before{content:"\f1ca"}.fa-codepen:before{content:"\f1cb"}.fa-jsfiddle:before{content:"\f1cc"}.fa-life-bouy:before,.fa-life-buoy:before,.fa-life-saver:before,.fa-support:before,.fa-life-ring:before{content:"\f1cd"}.fa-circle-o-notch:before{content:"\f1ce"}.fa-ra:before,.fa-rebel:before{content:"\f1d0"}.fa-ge:before,.fa-empire:before{content:"\f1d1"}.fa-git-square:before{content:"\f1d2"}.fa-git:before{content:"\f1d3"}.fa-hacker-news:before{content:"\f1d4"}.fa-tencent-weibo:before{content:"\f1d5"}.fa-qq:before{content:"\f1d6"}.fa-wechat:before,.fa-weixin:before{content:"\f1d7"}.fa-send:before,.fa-paper-plane:before{content:"\f1d8"}.fa-send-o:before,.fa-paper-plane-o:before{content:"\f1d9"}.fa-history:before{content:"\f1da"}.fa-genderless:before,.fa-circle-thin:before{content:"\f1db"}.fa-header:before{content:"\f1dc"}.fa-paragraph:before{content:"\f1dd"}.fa-sliders:before{content:"\f1de"}.fa-share-alt:before{content:"\f1e0"}.fa-share-alt-square:before{content:"\f1e1"}.fa-bomb:before{content:"\f1e2"}.fa-soccer-ball-o:before,.fa-futbol-o:before{content:"\f1e3"}.fa-tty:before{content:"\f1e4"}.fa-binoculars:before{content:"\f1e5"}.fa-plug:before{content:"\f1e6"}.fa-slideshare:before{content:"\f1e7"}.fa-twitch:before{content:"\f1e8"}.fa-yelp:before{content:"\f1e9"}.fa-newspaper-o:before{content:"\f1ea"}.fa-wifi:before{content:"\f1eb"}.fa-calculator:before{content:"\f1ec"}.fa-paypal:before{content:"\f1ed"}.fa-google-wallet:before{content:"\f1ee"}.fa-cc-visa:before{content:"\f1f0"}.fa-cc-mastercard:before{content:"\f1f1"}.fa-cc-discover:before{content:"\f1f2"}.fa-cc-amex:before{content:"\f1f3"}.fa-cc-paypal:before{content:"\f1f4"}.fa-cc-stripe:before{content:"\f1f5"}.fa-bell-slash:before{content:"\f1f6"}.fa-bell-slash-o:before{content:"\f1f7"}.fa-trash:before{content:"\f1f8"}.fa-copyright:before{content:"\f1f9"}.fa-at:before{content:"\f1fa"}.fa-eyedropper:before{content:"\f1fb"}.fa-paint-brush:before{content:"\f1fc"}.fa-birthday-cake:before{content:"\f1fd"}.fa-area-chart:before{content:"\f1fe"}.fa-pie-chart:before{content:"\f200"}.fa-line-chart:before{content:"\f201"}.fa-lastfm:before{content:"\f202"}.fa-lastfm-square:before{content:"\f203"}.fa-toggle-off:before{content:"\f204"}.fa-toggle-on:before{content:"\f205"}.fa-bicycle:before{content:"\f206"}.fa-bus:before{content:"\f207"}.fa-ioxhost:before{content:"\f208"}.fa-angellist:before{content:"\f209"}.fa-cc:before{content:"\f20a"}.fa-shekel:before,.fa-sheqel:before,.fa-ils:before{content:"\f20b"}.fa-meanpath:before{content:"\f20c"}.fa-buysellads:before{content:"\f20d"}.fa-connectdevelop:before{content:"\f20e"}.fa-dashcube:before{content:"\f210"}.fa-forumbee:before{content:"\f211"}.fa-leanpub:before{content:"\f212"}.fa-sellsy:before{content:"\f213"}.fa-shirtsinbulk:before{content:"\f214"}.fa-simplybuilt:before{content:"\f215"}.fa-skyatlas:before{content:"\f216"}.fa-cart-plus:before{content:"\f217"}.fa-cart-arrow-down:before{content:"\f218"}.fa-diamond:before{content:"\f219"}.fa-ship:before{content:"\f21a"}.fa-user-secret:before{content:"\f21b"}.fa-motorcycle:before{content:"\f21c"}.fa-street-view:before{content:"\f21d"}.fa-heartbeat:before{content:"\f21e"}.fa-venus:before{content:"\f221"}.fa-mars:before{content:"\f222"}.fa-mercury:before{content:"\f223"}.fa-transgender:before{content:"\f224"}.fa-transgender-alt:before{content:"\f225"}.fa-venus-double:before{content:"\f226"}.fa-mars-double:before{content:"\f227"}.fa-venus-mars:before{content:"\f228"}.fa-mars-stroke:before{content:"\f229"}.fa-mars-stroke-v:before{content:"\f22a"}.fa-mars-stroke-h:before{content:"\f22b"}.fa-neuter:before{content:"\f22c"}.fa-facebook-official:before{content:"\f230"}.fa-pinterest-p:before{content:"\f231"}.fa-whatsapp:before{content:"\f232"}.fa-server:before{content:"\f233"}.fa-user-plus:before{content:"\f234"}.fa-user-times:before{content:"\f235"}.fa-hotel:before,.fa-bed:before{content:"\f236"}.fa-viacoin:before{content:"\f237"}.fa-train:before{content:"\f238"}.fa-subway:before{content:"\f239"}.fa-medium:before{content:"\f23a"}/*!
*
* IPython base
*
*/.modal.fade .modal-dialog{-webkit-transform:translate(0, 0);-ms-transform:translate(0, 0);-o-transform:translate(0, 0);transform:translate(0, 0)}code{color:#000}pre{font-size:inherit;line-height:inherit}label{font-weight:normal}.border-box-sizing{box-sizing:border-box;-moz-box-sizing:border-box;-webkit-box-sizing:border-box}.corner-all{border-radius:2px}.no-padding{padding:0}.hbox{display:-webkit-box;-webkit-box-orient:horizontal;-webkit-box-align:stretch;display:-moz-box;-moz-box-orient:horizontal;-moz-box-align:stretch;display:box;box-orient:horizontal;box-align:stretch;display:flex;flex-direction:row;align-items:stretch}.hbox>*{-webkit-box-flex:0;-moz-box-flex:0;box-flex:0;flex:none}.vbox{display:-webkit-box;-webkit-box-orient:vertical;-webkit-box-align:stretch;display:-moz-box;-moz-box-orient:vertical;-moz-box-align:stretch;display:box;box-orient:vertical;box-align:stretch;display:flex;flex-direction:column;align-items:stretch}.vbox>*{-webkit-box-flex:0;-moz-box-flex:0;box-flex:0;flex:none}.hbox.reverse,.vbox.reverse,.reverse{-webkit-box-direction:reverse;-moz-box-direction:reverse;box-direction:reverse;flex-direction:row-reverse}.hbox.box-flex0,.vbox.box-flex0,.box-flex0{-webkit-box-flex:0;-moz-box-flex:0;box-flex:0;flex:none;width:auto}.hbox.box-flex1,.vbox.box-flex1,.box-flex1{-webkit-box-flex:1;-moz-box-flex:1;box-flex:1;flex:1}.hbox.box-flex,.vbox.box-flex,.box-flex{-webkit-box-flex:1;-moz-box-flex:1;box-flex:1;flex:1}.hbox.box-flex2,.vbox.box-flex2,.box-flex2{-webkit-box-flex:2;-moz-box-flex:2;box-flex:2;flex:2}.box-group1{-webkit-box-flex-group:1;-moz-box-flex-group:1;box-flex-group:1}.box-group2{-webkit-box-flex-group:2;-moz-box-flex-group:2;box-flex-group:2}.hbox.start,.vbox.start,.start{-webkit-box-pack:start;-moz-box-pack:start;box-pack:start;justify-content:flex-start}.hbox.end,.vbox.end,.end{-webkit-box-pack:end;-moz-box-pack:end;box-pack:end;justify-content:flex-end}.hbox.center,.vbox.center,.center{-webkit-box-pack:center;-moz-box-pack:center;box-pack:center;justify-content:center}.hbox.baseline,.vbox.baseline,.baseline{-webkit-box-pack:baseline;-moz-box-pack:baseline;box-pack:baseline;justify-content:baseline}.hbox.stretch,.vbox.stretch,.stretch{-webkit-box-pack:stretch;-moz-box-pack:stretch;box-pack:stretch;justify-content:stretch}.hbox.align-start,.vbox.align-start,.align-start{-webkit-box-align:start;-moz-box-align:start;box-align:start;align-items:flex-start}.hbox.align-end,.vbox.align-end,.align-end{-webkit-box-align:end;-moz-box-align:end;box-align:end;align-items:flex-end}.hbox.align-center,.vbox.align-center,.align-center{-webkit-box-align:center;-moz-box-align:center;box-align:center;align-items:center}.hbox.align-baseline,.vbox.align-baseline,.align-baseline{-webkit-box-align:baseline;-moz-box-align:baseline;box-align:baseline;align-items:baseline}.hbox.align-stretch,.vbox.align-stretch,.align-stretch{-webkit-box-align:stretch;-moz-box-align:stretch;box-align:stretch;align-items:stretch}div.error{margin:2em;text-align:center}div.error>h1{font-size:500%;line-height:normal}div.error>p{font-size:200%;line-height:normal}div.traceback-wrapper{text-align:left;max-width:800px;margin:auto}body{background-color:#fff;position:absolute;left:0;right:0;top:0;bottom:0;overflow:visible}#header{display:none;background-color:#fff;position:relative;z-index:100}#header #header-container{padding-bottom:5px;padding-top:5px;box-sizing:border-box;-moz-box-sizing:border-box;-webkit-box-sizing:border-box}#header .header-bar{width:100%;height:1px;background:#e7e7e7;margin-bottom:-1px}@media print{#header{display:none !important}}#header-spacer{width:100%;visibility:hidden}@media print{#header-spacer{display:none}}#ipython_notebook{padding-left:0;padding-top:1px;padding-bottom:1px}@media (max-width:991px){#ipython_notebook{margin-left:10px}}#noscript{width:auto;padding-top:16px;padding-bottom:16px;text-align:center;font-size:22px;color:red;font-weight:bold}#ipython_notebook img{height:28px}#site{width:100%;display:none;box-sizing:border-box;-moz-box-sizing:border-box;-webkit-box-sizing:border-box;overflow:auto}@media print{#site{height:auto !important}}.ui-button .ui-button-text{padding:.2em .8em;font-size:77%}input.ui-button{padding:.3em .9em}span#login_widget{float:right}span#login_widget>.button,#logout{color:#333;background-color:#fff;border-color:#ccc}span#login_widget>.button:hover,#logout:hover,span#login_widget>.button:focus,#logout:focus,span#login_widget>.button.focus,#logout.focus,span#login_widget>.button:active,#logout:active,span#login_widget>.button.active,#logout.active,.open>.dropdown-togglespan#login_widget>.button,.open>.dropdown-toggle#logout{color:#333;background-color:#e6e6e6;border-color:#adadad}span#login_widget>.button:active,#logout:active,span#login_widget>.button.active,#logout.active,.open>.dropdown-togglespan#login_widget>.button,.open>.dropdown-toggle#logout{background-image:none}span#login_widget>.button.disabled,#logout.disabled,span#login_widget>.button[disabled],#logout[disabled],fieldset[disabled] span#login_widget>.button,fieldset[disabled] #logout,span#login_widget>.button.disabled:hover,#logout.disabled:hover,span#login_widget>.button[disabled]:hover,#logout[disabled]:hover,fieldset[disabled] span#login_widget>.button:hover,fieldset[disabled] #logout:hover,span#login_widget>.button.disabled:focus,#logout.disabled:focus,span#login_widget>.button[disabled]:focus,#logout[disabled]:focus,fieldset[disabled] span#login_widget>.button:focus,fieldset[disabled] #logout:focus,span#login_widget>.button.disabled.focus,#logout.disabled.focus,span#login_widget>.button[disabled].focus,#logout[disabled].focus,fieldset[disabled] span#login_widget>.button.focus,fieldset[disabled] #logout.focus,span#login_widget>.button.disabled:active,#logout.disabled:active,span#login_widget>.button[disabled]:active,#logout[disabled]:active,fieldset[disabled] span#login_widget>.button:active,fieldset[disabled] #logout:active,span#login_widget>.button.disabled.active,#logout.disabled.active,span#login_widget>.button[disabled].active,#logout[disabled].active,fieldset[disabled] span#login_widget>.button.active,fieldset[disabled] #logout.active{background-color:#fff;border-color:#ccc}span#login_widget>.button .badge,#logout .badge{color:#fff;background-color:#333}.nav-header{text-transform:none}#header>span{margin-top:10px}.modal_stretch .modal-dialog{display:-webkit-box;-webkit-box-orient:vertical;-webkit-box-align:stretch;display:-moz-box;-moz-box-orient:vertical;-moz-box-align:stretch;display:box;box-orient:vertical;box-align:stretch;display:flex;flex-direction:column;align-items:stretch;min-height:80vh}.modal_stretch .modal-dialog .modal-body{max-height:calc(100vh - 200px);overflow:auto;flex:1}@media (min-width:768px){.modal .modal-dialog{width:700px}}@media (min-width:768px){select.form-control{margin-left:12px;margin-right:12px}}/*!
*
* IPython auth
*
*/.center-nav{display:inline-block;margin-bottom:-4px}/*!
*
* IPython tree view
*
*/.alternate_upload{background-color:none;display:inline}.alternate_upload.form{padding:0;margin:0}.alternate_upload input.fileinput{display:inline;opacity:0;z-index:2;width:12ex;margin-right:-12ex}.alternate_upload .btn-upload{height:22px}ul#tabs{margin-bottom:4px}ul#tabs a{padding-top:6px;padding-bottom:4px}ul.breadcrumb a:focus,ul.breadcrumb a:hover{text-decoration:none}ul.breadcrumb i.icon-home{font-size:16px;margin-right:4px}ul.breadcrumb span{color:#5e5e5e}.list_toolbar{padding:4px 0 4px 0;vertical-align:middle}.list_toolbar .tree-buttons{padding-top:1px}.dynamic-buttons{padding-top:3px;display:inline-block}.list_toolbar [class*="span"]{min-height:24px}.list_header{font-weight:bold;background-color:#eee}.list_placeholder{font-weight:bold;padding-top:4px;padding-bottom:4px;padding-left:7px;padding-right:7px}.list_container{margin-top:4px;margin-bottom:20px;border:1px solid #ddd;border-radius:2px}.list_container>div{border-bottom:1px solid #ddd}.list_container>div:hover .list-item{background-color:red}.list_container>div:last-child{border:none}.list_item:hover .list_item{background-color:#ddd}.list_item a{text-decoration:none}.list_item:hover{background-color:#fafafa}.action_col{text-align:right}.list_header>div,.list_item>div{padding-top:4px;padding-bottom:4px;padding-left:7px;padding-right:7px;line-height:22px}.list_header>div input,.list_item>div input{margin-right:7px;margin-left:14px;vertical-align:baseline;line-height:22px;position:relative;top:-1px}.list_header>div .item_link,.list_item>div .item_link{margin-left:-1px;vertical-align:baseline;line-height:22px}.new-file input[type=checkbox]{visibility:hidden}.item_name{line-height:22px;height:24px}.item_icon{font-size:14px;color:#5e5e5e;margin-right:7px;margin-left:7px;line-height:22px;vertical-align:baseline}.item_buttons{line-height:1em;margin-left:-5px}.item_buttons .btn-group,.item_buttons .input-group{float:left}.item_buttons>.btn,.item_buttons>.btn-group,.item_buttons>.input-group{margin-left:5px}.item_buttons .btn{min-width:13ex}.item_buttons .running-indicator{padding-top:4px;color:#5cb85c}.toolbar_info{height:24px;line-height:24px}input.nbname_input,input.engine_num_input{padding-top:3px;padding-bottom:3px;height:22px;line-height:14px;margin:0}input.engine_num_input{width:60px}.highlight_text{color:blue}#project_name{display:inline-block;padding-left:7px;margin-left:-2px}#project_name>.breadcrumb{padding:0;margin-bottom:0;background-color:transparent;font-weight:bold}#tree-selector{padding-right:0}#button-select-all{min-width:50px}#select-all{margin-left:7px;margin-right:2px}.menu_icon{margin-right:2px}.tab-content .row{margin-left:0;margin-right:0}.folder_icon:before{display:inline-block;font:normal normal normal 14px/1 FontAwesome;font-size:inherit;text-rendering:auto;-webkit-font-smoothing:antialiased;-moz-osx-font-smoothing:grayscale;transform:translate(0, 0);content:"\f114"}.folder_icon:before.pull-left{margin-right:.3em}.folder_icon:before.pull-right{margin-left:.3em}.notebook_icon:before{display:inline-block;font:normal normal normal 14px/1 FontAwesome;font-size:inherit;text-rendering:auto;-webkit-font-smoothing:antialiased;-moz-osx-font-smoothing:grayscale;transform:translate(0, 0);content:"\f02d";position:relative;top:-1px}.notebook_icon:before.pull-left{margin-right:.3em}.notebook_icon:before.pull-right{margin-left:.3em}.running_notebook_icon:before{display:inline-block;font:normal normal normal 14px/1 FontAwesome;font-size:inherit;text-rendering:auto;-webkit-font-smoothing:antialiased;-moz-osx-font-smoothing:grayscale;transform:translate(0, 0);content:"\f02d";position:relative;top:-1px;color:#5cb85c}.running_notebook_icon:before.pull-left{margin-right:.3em}.running_notebook_icon:before.pull-right{margin-left:.3em}.file_icon:before{display:inline-block;font:normal normal normal 14px/1 FontAwesome;font-size:inherit;text-rendering:auto;-webkit-font-smoothing:antialiased;-moz-osx-font-smoothing:grayscale;transform:translate(0, 0);content:"\f016";position:relative;top:-2px}.file_icon:before.pull-left{margin-right:.3em}.file_icon:before.pull-right{margin-left:.3em}#notebook_toolbar .pull-right{padding-top:0;margin-right:-1px}ul#new-menu{left:auto;right:0}.kernel-menu-icon{padding-right:12px;width:24px;content:"\f096"}.kernel-menu-icon:before{content:"\f096"}.kernel-menu-icon-current:before{content:"\f00c"}#tab_content{padding-top:20px}#running .panel-group .panel{margin-top:3px;margin-bottom:1em}#running .panel-group .panel .panel-heading{background-color:#eee;padding-top:4px;padding-bottom:4px;padding-left:7px;padding-right:7px;line-height:22px}#running .panel-group .panel .panel-heading a:focus,#running .panel-group .panel .panel-heading a:hover{text-decoration:none}#running .panel-group .panel .panel-body{padding:0}#running .panel-group .panel .panel-body .list_container{margin-top:0;margin-bottom:0;border:0;border-radius:0}#running .panel-group .panel .panel-body .list_container .list_item{border-bottom:1px solid #ddd}#running .panel-group .panel .panel-body .list_container .list_item:last-child{border-bottom:0}.delete-button{display:none}.duplicate-button{display:none}.rename-button{display:none}.shutdown-button{display:none}.dynamic-instructions{display:inline-block;padding-top:4px}/*!
*
* IPython text editor webapp
*
*/.selected-keymap i.fa{padding:0 5px}.selected-keymap i.fa:before{content:"\f00c"}#mode-menu{overflow:auto;max-height:20em}.edit_app #header{-webkit-box-shadow:0 0 12px 1px rgba(87,87,87,0.2);box-shadow:0 0 12px 1px rgba(87,87,87,0.2)}.edit_app #menubar .navbar{margin-bottom:-1px}.dirty-indicator{display:inline-block;font:normal normal normal 14px/1 FontAwesome;font-size:inherit;text-rendering:auto;-webkit-font-smoothing:antialiased;-moz-osx-font-smoothing:grayscale;transform:translate(0, 0);width:20px}.dirty-indicator.pull-left{margin-right:.3em}.dirty-indicator.pull-right{margin-left:.3em}.dirty-indicator-dirty{display:inline-block;font:normal normal normal 14px/1 FontAwesome;font-size:inherit;text-rendering:auto;-webkit-font-smoothing:antialiased;-moz-osx-font-smoothing:grayscale;transform:translate(0, 0);width:20px}.dirty-indicator-dirty.pull-left{margin-right:.3em}.dirty-indicator-dirty.pull-right{margin-left:.3em}.dirty-indicator-clean{display:inline-block;font:normal normal normal 14px/1 FontAwesome;font-size:inherit;text-rendering:auto;-webkit-font-smoothing:antialiased;-moz-osx-font-smoothing:grayscale;transform:translate(0, 0);width:20px}.dirty-indicator-clean.pull-left{margin-right:.3em}.dirty-indicator-clean.pull-right{margin-left:.3em}.dirty-indicator-clean:before{display:inline-block;font:normal normal normal 14px/1 FontAwesome;font-size:inherit;text-rendering:auto;-webkit-font-smoothing:antialiased;-moz-osx-font-smoothing:grayscale;transform:translate(0, 0);content:"\f00c"}.dirty-indicator-clean:before.pull-left{margin-right:.3em}.dirty-indicator-clean:before.pull-right{margin-left:.3em}#filename{font-size:16pt;display:table;padding:0 5px}#current-mode{padding-left:5px;padding-right:5px}#texteditor-backdrop{padding-top:20px;padding-bottom:20px}@media not print{#texteditor-backdrop{background-color:#eee}}@media print{#texteditor-backdrop #texteditor-container .CodeMirror-gutter,#texteditor-backdrop #texteditor-container .CodeMirror-gutters{background-color:#fff}}@media not print{#texteditor-backdrop #texteditor-container .CodeMirror-gutter,#texteditor-backdrop #texteditor-container .CodeMirror-gutters{background-color:#fff}}@media not print{#texteditor-backdrop #texteditor-container{padding:0;background-color:#fff;-webkit-box-shadow:0 0 12px 1px rgba(87,87,87,0.2);box-shadow:0 0 12px 1px rgba(87,87,87,0.2)}}/*!
*
* IPython notebook
*
*/.ansibold{font-weight:bold}.ansiblack{color:black}.ansired{color:darkred}.ansigreen{color:darkgreen}.ansiyellow{color:#c4a000}.ansiblue{color:darkblue}.ansipurple{color:darkviolet}.ansicyan{color:steelblue}.ansigray{color:gray}.ansibgblack{background-color:black}.ansibgred{background-color:red}.ansibggreen{background-color:green}.ansibgyellow{background-color:yellow}.ansibgblue{background-color:blue}.ansibgpurple{background-color:magenta}.ansibgcyan{background-color:cyan}.ansibggray{background-color:gray}div.cell{border:1px solid transparent;display:-webkit-box;-webkit-box-orient:vertical;-webkit-box-align:stretch;display:-moz-box;-moz-box-orient:vertical;-moz-box-align:stretch;display:box;box-orient:vertical;box-align:stretch;display:flex;flex-direction:column;align-items:stretch;border-radius:2px;box-sizing:border-box;-moz-box-sizing:border-box;-webkit-box-sizing:border-box;border-width:thin;border-style:solid;width:100%;padding:5px;margin:0;outline:none}div.cell.selected{border-color:#ababab}@media print{div.cell.selected{border-color:transparent}}.edit_mode div.cell.selected{border-color:green}@media print{.edit_mode div.cell.selected{border-color:transparent}}.prompt{min-width:14ex;padding:.4em;margin:0;font-family:monospace;text-align:right;line-height:1.21429em}@media (max-width:540px){.prompt{text-align:left}}div.inner_cell{display:-webkit-box;-webkit-box-orient:vertical;-webkit-box-align:stretch;display:-moz-box;-moz-box-orient:vertical;-moz-box-align:stretch;display:box;box-orient:vertical;box-align:stretch;display:flex;flex-direction:column;align-items:stretch;-webkit-box-flex:1;-moz-box-flex:1;box-flex:1;flex:1}@-moz-document url-prefix(){div.inner_cell{overflow-x:hidden}}div.input_area{border:1px solid #cfcfcf;border-radius:2px;background:#f7f7f7;line-height:1.21429em}div.prompt:empty{padding-top:0;padding-bottom:0}div.unrecognized_cell{padding:5px 5px 5px 0;display:-webkit-box;-webkit-box-orient:horizontal;-webkit-box-align:stretch;display:-moz-box;-moz-box-orient:horizontal;-moz-box-align:stretch;display:box;box-orient:horizontal;box-align:stretch;display:flex;flex-direction:row;align-items:stretch}div.unrecognized_cell .inner_cell{border-radius:2px;padding:5px;font-weight:bold;color:red;border:1px solid #cfcfcf;background:#eaeaea}div.unrecognized_cell .inner_cell a{color:inherit;text-decoration:none}div.unrecognized_cell .inner_cell a:hover{color:inherit;text-decoration:none}@media (max-width:540px){div.unrecognized_cell>div.prompt{display:none}}@media print{div.code_cell{page-break-inside:avoid}}div.input{page-break-inside:avoid;display:-webkit-box;-webkit-box-orient:horizontal;-webkit-box-align:stretch;display:-moz-box;-moz-box-orient:horizontal;-moz-box-align:stretch;display:box;box-orient:horizontal;box-align:stretch;display:flex;flex-direction:row;align-items:stretch}@media (max-width:540px){div.input{display:-webkit-box;-webkit-box-orient:vertical;-webkit-box-align:stretch;display:-moz-box;-moz-box-orient:vertical;-moz-box-align:stretch;display:box;box-orient:vertical;box-align:stretch;display:flex;flex-direction:column;align-items:stretch}}div.input_prompt{color:navy;border-top:1px solid transparent}div.input_area>div.highlight{margin:.4em;border:none;padding:0;background-color:transparent}div.input_area>div.highlight>pre{margin:0;border:none;padding:0;background-color:transparent}.CodeMirror{line-height:1.21429em;font-size:14px;height:auto;background:none}.CodeMirror-scroll{overflow-y:hidden;overflow-x:auto}.CodeMirror-lines{padding:.4em}.CodeMirror-linenumber{padding:0 8px 0 4px}.CodeMirror-gutters{border-bottom-left-radius:2px;border-top-left-radius:2px}.CodeMirror pre{padding:0;border:0;border-radius:0}.highlight-base{color:#000}.highlight-variable{color:#000}.highlight-variable-2{color:#1a1a1a}.highlight-variable-3{color:#333}.highlight-string{color:#ba2121}.highlight-comment{color:#408080;font-style:italic}.highlight-number{color:#080}.highlight-atom{color:#88f}.highlight-keyword{color:#008000;font-weight:bold}.highlight-builtin{color:#008000}.highlight-error{color:#f00}.highlight-operator{color:#a2f;font-weight:bold}.highlight-meta{color:#a2f}.highlight-def{color:#00f}.highlight-string-2{color:#f50}.highlight-qualifier{color:#555}.highlight-bracket{color:#997}.highlight-tag{color:#170}.highlight-attribute{color:#00c}.highlight-header{color:blue}.highlight-quote{color:#090}.highlight-link{color:#00c}.cm-s-ipython span.cm-keyword{color:#008000;font-weight:bold}.cm-s-ipython span.cm-atom{color:#88f}.cm-s-ipython span.cm-number{color:#080}.cm-s-ipython span.cm-def{color:#00f}.cm-s-ipython span.cm-variable{color:#000}.cm-s-ipython span.cm-operator{color:#a2f;font-weight:bold}.cm-s-ipython span.cm-variable-2{color:#1a1a1a}.cm-s-ipython span.cm-variable-3{color:#333}.cm-s-ipython span.cm-comment{color:#408080;font-style:italic}.cm-s-ipython span.cm-string{color:#ba2121}.cm-s-ipython span.cm-string-2{color:#f50}.cm-s-ipython span.cm-meta{color:#a2f}.cm-s-ipython span.cm-qualifier{color:#555}.cm-s-ipython span.cm-builtin{color:#008000}.cm-s-ipython span.cm-bracket{color:#997}.cm-s-ipython span.cm-tag{color:#170}.cm-s-ipython span.cm-attribute{color:#00c}.cm-s-ipython span.cm-header{color:blue}.cm-s-ipython span.cm-quote{color:#090}.cm-s-ipython span.cm-link{color:#00c}.cm-s-ipython span.cm-error{color:#f00}.cm-s-ipython span.cm-tab{background:url(data:image/png;base64,iVBORw0KGgoAAAANSUhEUgAAADAAAAAMCAYAAAAkuj5RAAAAAXNSR0IArs4c6QAAAGFJREFUSMft1LsRQFAQheHPowAKoACx3IgEKtaEHujDjORSgWTH/ZOdnZOcM/sgk/kFFWY0qV8foQwS4MKBCS3qR6ixBJvElOobYAtivseIE120FaowJPN75GMu8j/LfMwNjh4HUpwg4LUAAAAASUVORK5CYII=);background-position:right;background-repeat:no-repeat}div.output_wrapper{position:relative;display:-webkit-box;-webkit-box-orient:vertical;-webkit-box-align:stretch;display:-moz-box;-moz-box-orient:vertical;-moz-box-align:stretch;display:box;box-orient:vertical;box-align:stretch;display:flex;flex-direction:column;align-items:stretch;z-index:1}div.output_scroll{height:24em;width:100%;overflow:auto;border-radius:2px;-webkit-box-shadow:inset 0 2px 8px rgba(0,0,0,0.8);box-shadow:inset 0 2px 8px rgba(0,0,0,0.8);display:block}div.output_collapsed{margin:0;padding:0;display:-webkit-box;-webkit-box-orient:vertical;-webkit-box-align:stretch;display:-moz-box;-moz-box-orient:vertical;-moz-box-align:stretch;display:box;box-orient:vertical;box-align:stretch;display:flex;flex-direction:column;align-items:stretch}div.out_prompt_overlay{height:100%;padding:0 .4em;position:absolute;border-radius:2px}div.out_prompt_overlay:hover{-webkit-box-shadow:inset 0 0 1px #000;box-shadow:inset 0 0 1px #000;background:rgba(240,240,240,0.5)}div.output_prompt{color:darkred}div.output_area{padding:0;page-break-inside:avoid;display:-webkit-box;-webkit-box-orient:horizontal;-webkit-box-align:stretch;display:-moz-box;-moz-box-orient:horizontal;-moz-box-align:stretch;display:box;box-orient:horizontal;box-align:stretch;display:flex;flex-direction:row;align-items:stretch}div.output_area .MathJax_Display{text-align:left !important}div.output_area .rendered_html table{margin-left:0;margin-right:0}div.output_area .rendered_html img{margin-left:0;margin-right:0}div.output_area img,div.output_area svg{max-width:100%;height:auto}div.output_area img.unconfined,div.output_area svg.unconfined{max-width:none}.output{display:-webkit-box;-webkit-box-orient:vertical;-webkit-box-align:stretch;display:-moz-box;-moz-box-orient:vertical;-moz-box-align:stretch;display:box;box-orient:vertical;box-align:stretch;display:flex;flex-direction:column;align-items:stretch}@media (max-width:540px){div.output_area{display:-webkit-box;-webkit-box-orient:vertical;-webkit-box-align:stretch;display:-moz-box;-moz-box-orient:vertical;-moz-box-align:stretch;display:box;box-orient:vertical;box-align:stretch;display:flex;flex-direction:column;align-items:stretch}}div.output_area pre{margin:0;padding:0;border:0;vertical-align:baseline;color:black;background-color:transparent;border-radius:0}div.output_subarea{overflow-x:auto;padding:.4em;-webkit-box-flex:1;-moz-box-flex:1;box-flex:1;flex:1;max-width:calc(100% - 14ex)}div.output_text{text-align:left;color:#000;line-height:1.21429em}div.output_stderr{background:#fdd}div.output_latex{text-align:left}div.output_javascript:empty{padding:0}.js-error{color:darkred}div.raw_input_container{font-family:monospace;padding-top:5px}input.raw_input{font-family:inherit;font-size:inherit;color:inherit;width:auto;vertical-align:baseline;padding:0 .25em;margin:0 .25em}input.raw_input:focus{box-shadow:none}p.p-space{margin-bottom:10px}div.output_unrecognized{padding:5px;font-weight:bold;color:red}div.output_unrecognized a{color:inherit;text-decoration:none}div.output_unrecognized a:hover{color:inherit;text-decoration:none}.rendered_html{color:#000}.rendered_html em{font-style:italic}.rendered_html strong{font-weight:bold}.rendered_html u{text-decoration:underline}.rendered_html :link{text-decoration:underline}.rendered_html :visited{text-decoration:underline}.rendered_html h1{font-size:185.7%;margin:1.08em 0 0 0;font-weight:bold;line-height:1}.rendered_html h2{font-size:157.1%;margin:1.27em 0 0 0;font-weight:bold;line-height:1}.rendered_html h3{font-size:128.6%;margin:1.55em 0 0 0;font-weight:bold;line-height:1}.rendered_html h4{font-size:100%;margin:2em 0 0 0;font-weight:bold;line-height:1}.rendered_html h5{font-size:100%;margin:2em 0 0 0;font-weight:bold;line-height:1;font-style:italic}.rendered_html h6{font-size:100%;margin:2em 0 0 0;font-weight:bold;line-height:1;font-style:italic}.rendered_html h1:first-child{margin-top:.538em}.rendered_html h2:first-child{margin-top:.636em}.rendered_html h3:first-child{margin-top:.777em}.rendered_html h4:first-child{margin-top:1em}.rendered_html h5:first-child{margin-top:1em}.rendered_html h6:first-child{margin-top:1em}.rendered_html ul{list-style:disc;margin:0 2em;padding-left:0}.rendered_html ul ul{list-style:square;margin:0 2em}.rendered_html ul ul ul{list-style:circle;margin:0 2em}.rendered_html ol{list-style:decimal;margin:0 2em;padding-left:0}.rendered_html ol ol{list-style:upper-alpha;margin:0 2em}.rendered_html ol ol ol{list-style:lower-alpha;margin:0 2em}.rendered_html ol ol ol ol{list-style:lower-roman;margin:0 2em}.rendered_html ol ol ol ol ol{list-style:decimal;margin:0 2em}.rendered_html *+ul{margin-top:1em}.rendered_html *+ol{margin-top:1em}.rendered_html hr{color:black;background-color:black}.rendered_html pre{margin:1em 2em}.rendered_html pre,.rendered_html code{border:0;background-color:#fff;color:#000;font-size:100%;padding:0}.rendered_html blockquote{margin:1em 2em}.rendered_html table{margin-left:auto;margin-right:auto;border:1px solid black;border-collapse:collapse}.rendered_html tr,.rendered_html th,.rendered_html td{border:1px solid black;border-collapse:collapse;margin:1em 2em}.rendered_html td,.rendered_html th{text-align:left;vertical-align:middle;padding:4px}.rendered_html th{font-weight:bold}.rendered_html *+table{margin-top:1em}.rendered_html p{text-align:left}.rendered_html *+p{margin-top:1em}.rendered_html img{display:block;margin-left:auto;margin-right:auto}.rendered_html *+img{margin-top:1em}.rendered_html img,.rendered_html svg{max-width:100%;height:auto}.rendered_html img.unconfined,.rendered_html svg.unconfined{max-width:none}div.text_cell{display:-webkit-box;-webkit-box-orient:horizontal;-webkit-box-align:stretch;display:-moz-box;-moz-box-orient:horizontal;-moz-box-align:stretch;display:box;box-orient:horizontal;box-align:stretch;display:flex;flex-direction:row;align-items:stretch}@media (max-width:540px){div.text_cell>div.prompt{display:none}}div.text_cell_render{outline:none;resize:none;width:inherit;border-style:none;padding:.5em .5em .5em .4em;color:#000;box-sizing:border-box;-moz-box-sizing:border-box;-webkit-box-sizing:border-box}a.anchor-link:link{text-decoration:none;padding:0 20px;visibility:hidden}h1:hover .anchor-link,h2:hover .anchor-link,h3:hover .anchor-link,h4:hover .anchor-link,h5:hover .anchor-link,h6:hover .anchor-link{visibility:visible}.text_cell.rendered .input_area{display:none}.text_cell.rendered .rendered_html{overflow-x:auto}.text_cell.unrendered .text_cell_render{display:none}.cm-header-1,.cm-header-2,.cm-header-3,.cm-header-4,.cm-header-5,.cm-header-6{font-weight:bold;font-family:"Helvetica Neue",Helvetica,Arial,sans-serif}.cm-header-1{font-size:185.7%}.cm-header-2{font-size:157.1%}.cm-header-3{font-size:128.6%}.cm-header-4{font-size:110%}.cm-header-5{font-size:100%;font-style:italic}.cm-header-6{font-size:100%;font-style:italic}.widget-interact>div,.widget-interact>input{padding:2.5px}.widget-area{page-break-inside:avoid;display:-webkit-box;-webkit-box-orient:horizontal;-webkit-box-align:stretch;display:-moz-box;-moz-box-orient:horizontal;-moz-box-align:stretch;display:box;box-orient:horizontal;box-align:stretch;display:flex;flex-direction:row;align-items:stretch}.widget-area .widget-subarea{padding:.44em .4em .4em 1px;margin-left:6px;box-sizing:border-box;-moz-box-sizing:border-box;-webkit-box-sizing:border-box;display:-webkit-box;-webkit-box-orient:vertical;-webkit-box-align:stretch;display:-moz-box;-moz-box-orient:vertical;-moz-box-align:stretch;display:box;box-orient:vertical;box-align:stretch;display:flex;flex-direction:column;align-items:stretch;-webkit-box-flex:2;-moz-box-flex:2;box-flex:2;flex:2;-webkit-box-align:start;-moz-box-align:start;box-align:start;align-items:flex-start}.widget-area.connection-problems .prompt:after{content:"\f127";font-family:'FontAwesome';color:#d9534f;font-size:14px;top:3px;padding:3px}.slide-track{border:1px solid #ccc;background:#fff;border-radius:2px}.widget-hslider{padding-left:8px;padding-right:2px;overflow:visible;width:350px;height:5px;max-height:5px;margin-top:13px;margin-bottom:10px;border:1px solid #ccc;background:#fff;border-radius:2px;display:-webkit-box;-webkit-box-orient:horizontal;-webkit-box-align:stretch;display:-moz-box;-moz-box-orient:horizontal;-moz-box-align:stretch;display:box;box-orient:horizontal;box-align:stretch;display:flex;flex-direction:row;align-items:stretch}.widget-hslider .ui-slider{border:0;background:none;display:-webkit-box;-webkit-box-orient:horizontal;-webkit-box-align:stretch;display:-moz-box;-moz-box-orient:horizontal;-moz-box-align:stretch;display:box;box-orient:horizontal;box-align:stretch;display:flex;flex-direction:row;align-items:stretch;-webkit-box-flex:1;-moz-box-flex:1;box-flex:1;flex:1}.widget-hslider .ui-slider .ui-slider-handle{width:12px;height:28px;margin-top:-8px;border-radius:2px}.widget-hslider .ui-slider .ui-slider-range{height:12px;margin-top:-4px;background:#eee}.widget-vslider{padding-bottom:5px;overflow:visible;width:5px;max-width:5px;height:250px;margin-left:12px;border:1px solid #ccc;background:#fff;border-radius:2px;display:-webkit-box;-webkit-box-orient:vertical;-webkit-box-align:stretch;display:-moz-box;-moz-box-orient:vertical;-moz-box-align:stretch;display:box;box-orient:vertical;box-align:stretch;display:flex;flex-direction:column;align-items:stretch}.widget-vslider .ui-slider{border:0;background:none;margin-left:-4px;margin-top:5px;display:-webkit-box;-webkit-box-orient:vertical;-webkit-box-align:stretch;display:-moz-box;-moz-box-orient:vertical;-moz-box-align:stretch;display:box;box-orient:vertical;box-align:stretch;display:flex;flex-direction:column;align-items:stretch;-webkit-box-flex:1;-moz-box-flex:1;box-flex:1;flex:1}.widget-vslider .ui-slider .ui-slider-handle{width:28px;height:12px;margin-left:-9px;border-radius:2px}.widget-vslider .ui-slider .ui-slider-range{width:12px;margin-left:-1px;background:#eee}.widget-text{width:350px;margin:0}.widget-listbox{width:350px;margin-bottom:0}.widget-numeric-text{width:150px;margin:0}.widget-progress{margin-top:6px;min-width:350px}.widget-progress .progress-bar{-webkit-transition:none;-moz-transition:none;-ms-transition:none;-o-transition:none;transition:none}.widget-combo-btn{min-width:125px}.widget_item .dropdown-menu li a{color:inherit}.widget-hbox{display:-webkit-box;-webkit-box-orient:horizontal;-webkit-box-align:stretch;display:-moz-box;-moz-box-orient:horizontal;-moz-box-align:stretch;display:box;box-orient:horizontal;box-align:stretch;display:flex;flex-direction:row;align-items:stretch}.widget-hbox input[type="checkbox"]{margin-top:9px;margin-bottom:10px}.widget-hbox .widget-label{min-width:10ex;padding-right:8px;padding-top:5px;text-align:right;vertical-align:text-top}.widget-hbox .widget-readout{padding-left:8px;padding-top:5px;text-align:left;vertical-align:text-top}.widget-vbox{display:-webkit-box;-webkit-box-orient:vertical;-webkit-box-align:stretch;display:-moz-box;-moz-box-orient:vertical;-moz-box-align:stretch;display:box;box-orient:vertical;box-align:stretch;display:flex;flex-direction:column;align-items:stretch}.widget-vbox .widget-label{padding-bottom:5px;text-align:center;vertical-align:text-bottom}.widget-vbox .widget-readout{padding-top:5px;text-align:center;vertical-align:text-top}.widget-box{box-sizing:border-box;-moz-box-sizing:border-box;-webkit-box-sizing:border-box;-webkit-box-align:start;-moz-box-align:start;box-align:start;align-items:flex-start}.widget-radio-box{display:-webkit-box;-webkit-box-orient:vertical;-webkit-box-align:stretch;display:-moz-box;-moz-box-orient:vertical;-moz-box-align:stretch;display:box;box-orient:vertical;box-align:stretch;display:flex;flex-direction:column;align-items:stretch;box-sizing:border-box;-moz-box-sizing:border-box;-webkit-box-sizing:border-box;padding-top:4px}.widget-radio-box label{margin-top:0;margin-left:20px}/*!
*
* IPython notebook webapp
*
*/@media (max-width:767px){.notebook_app{padding-left:0;padding-right:0}}#ipython-main-app{box-sizing:border-box;-moz-box-sizing:border-box;-webkit-box-sizing:border-box;height:100%}div#notebook_panel{margin:0;padding:0;box-sizing:border-box;-moz-box-sizing:border-box;-webkit-box-sizing:border-box;height:100%}#notebook{font-size:14px;line-height:20px;overflow-y:hidden;overflow-x:auto;width:100%;padding-top:20px;margin:0;outline:none;box-sizing:border-box;-moz-box-sizing:border-box;-webkit-box-sizing:border-box;min-height:100%}@media not print{#notebook-container{padding:15px;background-color:#fff;min-height:0;-webkit-box-shadow:0 0 12px 1px rgba(87,87,87,0.2);box-shadow:0 0 12px 1px rgba(87,87,87,0.2)}}div.ui-widget-content{border:1px solid #ababab;outline:none}pre.dialog{background-color:#f7f7f7;border:1px solid #ddd;border-radius:2px;padding:.4em;padding-left:2em}p.dialog{padding:.2em}pre,code,kbd,samp{white-space:pre-wrap}#fonttest{font-family:monospace}p{margin-bottom:0}.end_space{min-height:100px;transition:height .2s ease}.notebook_app #header{-webkit-box-shadow:0 0 12px 1px rgba(87,87,87,0.2);box-shadow:0 0 12px 1px rgba(87,87,87,0.2)}@media not print{.notebook_app{background-color:#eee}}.celltoolbar{border:thin solid #cfcfcf;border-bottom:none;background:#eee;border-radius:2px 2px 0 0;width:100%;height:29px;padding-right:4px;display:-webkit-box;-webkit-box-orient:horizontal;-webkit-box-align:stretch;display:-moz-box;-moz-box-orient:horizontal;-moz-box-align:stretch;display:box;box-orient:horizontal;box-align:stretch;display:flex;flex-direction:row;align-items:stretch;-webkit-box-pack:end;-moz-box-pack:end;box-pack:end;justify-content:flex-end}@media print{.celltoolbar{display:none}}.ctb_hideshow{display:none;vertical-align:bottom}.ctb_global_show .ctb_show.ctb_hideshow{display:block}.ctb_global_show .ctb_show+.input_area,.ctb_global_show .ctb_show+div.text_cell_input,.ctb_global_show .ctb_show~div.text_cell_render{border-top-right-radius:0;border-top-left-radius:0}.ctb_global_show .ctb_show~div.text_cell_render{border:1px solid #cfcfcf}.celltoolbar{font-size:87%;padding-top:3px}.celltoolbar select{display:block;width:100%;height:32px;padding:6px 12px;font-size:13px;line-height:1.42857143;color:#555;background-color:#fff;background-image:none;border:1px solid #ccc;border-radius:2px;-webkit-box-shadow:inset 0 1px 1px rgba(0,0,0,0.075);box-shadow:inset 0 1px 1px rgba(0,0,0,0.075);-webkit-transition:border-color ease-in-out .15s, box-shadow ease-in-out .15s;-o-transition:border-color ease-in-out .15s, box-shadow ease-in-out .15s;transition:border-color ease-in-out .15s, box-shadow ease-in-out .15s;height:30px;padding:5px 10px;font-size:12px;line-height:1.5;border-radius:1px;width:inherit;font-size:inherit;height:22px;padding:0;display:inline-block}.celltoolbar select:focus{border-color:#66afe9;outline:0;-webkit-box-shadow:inset 0 1px 1px rgba(0,0,0,.075), 0 0 8px rgba(102, 175, 233, 0.6);box-shadow:inset 0 1px 1px rgba(0,0,0,.075), 0 0 8px rgba(102, 175, 233, 0.6)}.celltoolbar select::-moz-placeholder{color:#999;opacity:1}.celltoolbar select:-ms-input-placeholder{color:#999}.celltoolbar select::-webkit-input-placeholder{color:#999}.celltoolbar select[disabled],.celltoolbar select[readonly],fieldset[disabled] .celltoolbar select{cursor:not-allowed;background-color:#eee;opacity:1}textarea.celltoolbar select{height:auto}select.celltoolbar select{height:30px;line-height:30px}textarea.celltoolbar select,select[multiple].celltoolbar select{height:auto}.celltoolbar label{margin-left:5px;margin-right:5px}.completions{position:absolute;z-index:10;overflow:hidden;border:1px solid #ababab;border-radius:2px;-webkit-box-shadow:0 6px 10px -1px #adadad;box-shadow:0 6px 10px -1px #adadad}.completions select{background:white;outline:none;border:none;padding:0;margin:0;overflow:auto;font-family:monospace;font-size:110%;color:#000;width:auto}.completions select option.context{color:#286090}#kernel_logo_widget{float:right !important;float:right}#kernel_logo_widget .current_kernel_logo{display:none;margin-top:-1px;margin-bottom:-1px;width:32px;height:32px}#menubar{box-sizing:border-box;-moz-box-sizing:border-box;-webkit-box-sizing:border-box;margin-top:1px}#menubar .navbar{border-top:1px;border-radius:0 0 2px 2px;margin-bottom:0}#menubar .navbar-toggle{float:left;padding-top:7px;padding-bottom:7px;border:none}#menubar .navbar-collapse{clear:left}.nav-wrapper{border-bottom:1px solid #e7e7e7}i.menu-icon{padding-top:4px}ul#help_menu li a{overflow:hidden;padding-right:2.2em}ul#help_menu li a i{margin-right:-1.2em}.dropdown-submenu{position:relative}.dropdown-submenu>.dropdown-menu{top:0;left:100%;margin-top:-6px;margin-left:-1px}.dropdown-submenu:hover>.dropdown-menu{display:block}.dropdown-submenu>a:after{display:inline-block;font:normal normal normal 14px/1 FontAwesome;font-size:inherit;text-rendering:auto;-webkit-font-smoothing:antialiased;-moz-osx-font-smoothing:grayscale;transform:translate(0, 0);display:block;content:"\f0da";float:right;color:#333;margin-top:2px;margin-right:-10px}.dropdown-submenu>a:after.pull-left{margin-right:.3em}.dropdown-submenu>a:after.pull-right{margin-left:.3em}.dropdown-submenu:hover>a:after{color:#262626}.dropdown-submenu.pull-left{float:none}.dropdown-submenu.pull-left>.dropdown-menu{left:-100%;margin-left:10px}#notification_area{float:right !important;float:right;z-index:10}.indicator_area{float:right !important;float:right;color:#777;margin-left:5px;margin-right:5px;width:11px;z-index:10;text-align:center;width:auto}#kernel_indicator{float:right !important;float:right;color:#777;margin-left:5px;margin-right:5px;width:11px;z-index:10;text-align:center;width:auto;border-left:1px solid}#kernel_indicator .kernel_indicator_name{padding-left:5px;padding-right:5px}#modal_indicator{float:right !important;float:right;color:#777;margin-left:5px;margin-right:5px;width:11px;z-index:10;text-align:center;width:auto}#readonly-indicator{float:right !important;float:right;color:#777;margin-left:5px;margin-right:5px;width:11px;z-index:10;text-align:center;width:auto;margin-top:2px;margin-bottom:0;margin-left:0;margin-right:0;display:none}.modal_indicator:before{width:1.28571429em;text-align:center}.edit_mode .modal_indicator:before{display:inline-block;font:normal normal normal 14px/1 FontAwesome;font-size:inherit;text-rendering:auto;-webkit-font-smoothing:antialiased;-moz-osx-font-smoothing:grayscale;transform:translate(0, 0);content:"\f040"}.edit_mode .modal_indicator:before.pull-left{margin-right:.3em}.edit_mode .modal_indicator:before.pull-right{margin-left:.3em}.command_mode .modal_indicator:before{display:inline-block;font:normal normal normal 14px/1 FontAwesome;font-size:inherit;text-rendering:auto;-webkit-font-smoothing:antialiased;-moz-osx-font-smoothing:grayscale;transform:translate(0, 0);content:' '}.command_mode .modal_indicator:before.pull-left{margin-right:.3em}.command_mode .modal_indicator:before.pull-right{margin-left:.3em}.kernel_idle_icon:before{display:inline-block;font:normal normal normal 14px/1 FontAwesome;font-size:inherit;text-rendering:auto;-webkit-font-smoothing:antialiased;-moz-osx-font-smoothing:grayscale;transform:translate(0, 0);content:"\f10c"}.kernel_idle_icon:before.pull-left{margin-right:.3em}.kernel_idle_icon:before.pull-right{margin-left:.3em}.kernel_busy_icon:before{display:inline-block;font:normal normal normal 14px/1 FontAwesome;font-size:inherit;text-rendering:auto;-webkit-font-smoothing:antialiased;-moz-osx-font-smoothing:grayscale;transform:translate(0, 0);content:"\f111"}.kernel_busy_icon:before.pull-left{margin-right:.3em}.kernel_busy_icon:before.pull-right{margin-left:.3em}.kernel_dead_icon:before{display:inline-block;font:normal normal normal 14px/1 FontAwesome;font-size:inherit;text-rendering:auto;-webkit-font-smoothing:antialiased;-moz-osx-font-smoothing:grayscale;transform:translate(0, 0);content:"\f1e2"}.kernel_dead_icon:before.pull-left{margin-right:.3em}.kernel_dead_icon:before.pull-right{margin-left:.3em}.kernel_disconnected_icon:before{display:inline-block;font:normal normal normal 14px/1 FontAwesome;font-size:inherit;text-rendering:auto;-webkit-font-smoothing:antialiased;-moz-osx-font-smoothing:grayscale;transform:translate(0, 0);content:"\f127"}.kernel_disconnected_icon:before.pull-left{margin-right:.3em}.kernel_disconnected_icon:before.pull-right{margin-left:.3em}.notification_widget{color:#777;z-index:10;background:rgba(240,240,240,0.5);margin-right:4px;color:#333;background-color:#fff;border-color:#ccc}.notification_widget:hover,.notification_widget:focus,.notification_widget.focus,.notification_widget:active,.notification_widget.active,.open>.dropdown-toggle.notification_widget{color:#333;background-color:#e6e6e6;border-color:#adadad}.notification_widget:active,.notification_widget.active,.open>.dropdown-toggle.notification_widget{background-image:none}.notification_widget.disabled,.notification_widget[disabled],fieldset[disabled] .notification_widget,.notification_widget.disabled:hover,.notification_widget[disabled]:hover,fieldset[disabled] .notification_widget:hover,.notification_widget.disabled:focus,.notification_widget[disabled]:focus,fieldset[disabled] .notification_widget:focus,.notification_widget.disabled.focus,.notification_widget[disabled].focus,fieldset[disabled] .notification_widget.focus,.notification_widget.disabled:active,.notification_widget[disabled]:active,fieldset[disabled] .notification_widget:active,.notification_widget.disabled.active,.notification_widget[disabled].active,fieldset[disabled] .notification_widget.active{background-color:#fff;border-color:#ccc}.notification_widget .badge{color:#fff;background-color:#333}.notification_widget.warning{color:#fff;background-color:#f0ad4e;border-color:#eea236}.notification_widget.warning:hover,.notification_widget.warning:focus,.notification_widget.warning.focus,.notification_widget.warning:active,.notification_widget.warning.active,.open>.dropdown-toggle.notification_widget.warning{color:#fff;background-color:#ec971f;border-color:#d58512}.notification_widget.warning:active,.notification_widget.warning.active,.open>.dropdown-toggle.notification_widget.warning{background-image:none}.notification_widget.warning.disabled,.notification_widget.warning[disabled],fieldset[disabled] .notification_widget.warning,.notification_widget.warning.disabled:hover,.notification_widget.warning[disabled]:hover,fieldset[disabled] .notification_widget.warning:hover,.notification_widget.warning.disabled:focus,.notification_widget.warning[disabled]:focus,fieldset[disabled] .notification_widget.warning:focus,.notification_widget.warning.disabled.focus,.notification_widget.warning[disabled].focus,fieldset[disabled] .notification_widget.warning.focus,.notification_widget.warning.disabled:active,.notification_widget.warning[disabled]:active,fieldset[disabled] .notification_widget.warning:active,.notification_widget.warning.disabled.active,.notification_widget.warning[disabled].active,fieldset[disabled] .notification_widget.warning.active{background-color:#f0ad4e;border-color:#eea236}.notification_widget.warning .badge{color:#f0ad4e;background-color:#fff}.notification_widget.success{color:#fff;background-color:#5cb85c;border-color:#4cae4c}.notification_widget.success:hover,.notification_widget.success:focus,.notification_widget.success.focus,.notification_widget.success:active,.notification_widget.success.active,.open>.dropdown-toggle.notification_widget.success{color:#fff;background-color:#449d44;border-color:#398439}.notification_widget.success:active,.notification_widget.success.active,.open>.dropdown-toggle.notification_widget.success{background-image:none}.notification_widget.success.disabled,.notification_widget.success[disabled],fieldset[disabled] .notification_widget.success,.notification_widget.success.disabled:hover,.notification_widget.success[disabled]:hover,fieldset[disabled] .notification_widget.success:hover,.notification_widget.success.disabled:focus,.notification_widget.success[disabled]:focus,fieldset[disabled] .notification_widget.success:focus,.notification_widget.success.disabled.focus,.notification_widget.success[disabled].focus,fieldset[disabled] .notification_widget.success.focus,.notification_widget.success.disabled:active,.notification_widget.success[disabled]:active,fieldset[disabled] .notification_widget.success:active,.notification_widget.success.disabled.active,.notification_widget.success[disabled].active,fieldset[disabled] .notification_widget.success.active{background-color:#5cb85c;border-color:#4cae4c}.notification_widget.success .badge{color:#5cb85c;background-color:#fff}.notification_widget.info{color:#fff;background-color:#5bc0de;border-color:#46b8da}.notification_widget.info:hover,.notification_widget.info:focus,.notification_widget.info.focus,.notification_widget.info:active,.notification_widget.info.active,.open>.dropdown-toggle.notification_widget.info{color:#fff;background-color:#31b0d5;border-color:#269abc}.notification_widget.info:active,.notification_widget.info.active,.open>.dropdown-toggle.notification_widget.info{background-image:none}.notification_widget.info.disabled,.notification_widget.info[disabled],fieldset[disabled] .notification_widget.info,.notification_widget.info.disabled:hover,.notification_widget.info[disabled]:hover,fieldset[disabled] .notification_widget.info:hover,.notification_widget.info.disabled:focus,.notification_widget.info[disabled]:focus,fieldset[disabled] .notification_widget.info:focus,.notification_widget.info.disabled.focus,.notification_widget.info[disabled].focus,fieldset[disabled] .notification_widget.info.focus,.notification_widget.info.disabled:active,.notification_widget.info[disabled]:active,fieldset[disabled] .notification_widget.info:active,.notification_widget.info.disabled.active,.notification_widget.info[disabled].active,fieldset[disabled] .notification_widget.info.active{background-color:#5bc0de;border-color:#46b8da}.notification_widget.info .badge{color:#5bc0de;background-color:#fff}.notification_widget.danger{color:#fff;background-color:#d9534f;border-color:#d43f3a}.notification_widget.danger:hover,.notification_widget.danger:focus,.notification_widget.danger.focus,.notification_widget.danger:active,.notification_widget.danger.active,.open>.dropdown-toggle.notification_widget.danger{color:#fff;background-color:#c9302c;border-color:#ac2925}.notification_widget.danger:active,.notification_widget.danger.active,.open>.dropdown-toggle.notification_widget.danger{background-image:none}.notification_widget.danger.disabled,.notification_widget.danger[disabled],fieldset[disabled] .notification_widget.danger,.notification_widget.danger.disabled:hover,.notification_widget.danger[disabled]:hover,fieldset[disabled] .notification_widget.danger:hover,.notification_widget.danger.disabled:focus,.notification_widget.danger[disabled]:focus,fieldset[disabled] .notification_widget.danger:focus,.notification_widget.danger.disabled.focus,.notification_widget.danger[disabled].focus,fieldset[disabled] .notification_widget.danger.focus,.notification_widget.danger.disabled:active,.notification_widget.danger[disabled]:active,fieldset[disabled] .notification_widget.danger:active,.notification_widget.danger.disabled.active,.notification_widget.danger[disabled].active,fieldset[disabled] .notification_widget.danger.active{background-color:#d9534f;border-color:#d43f3a}.notification_widget.danger .badge{color:#d9534f;background-color:#fff}div#pager{background-color:#fff;font-size:14px;line-height:20px;overflow:hidden;display:none;position:fixed;bottom:0;width:100%;max-height:50%;padding-top:8px;-webkit-box-shadow:0 0 12px 1px rgba(87,87,87,0.2);box-shadow:0 0 12px 1px rgba(87,87,87,0.2);z-index:100;top:auto !important}div#pager pre{line-height:1.21429em;color:#000;background-color:#f7f7f7;padding:.4em}div#pager #pager-button-area{position:absolute;top:8px;right:20px}div#pager #pager-contents{position:relative;overflow:auto;width:100%;height:100%}div#pager #pager-contents #pager-container{position:relative;padding:15px 0;box-sizing:border-box;-moz-box-sizing:border-box;-webkit-box-sizing:border-box}div#pager .ui-resizable-handle{top:0;height:8px;background:#f7f7f7;border-top:1px solid #cfcfcf;border-bottom:1px solid #cfcfcf}div#pager .ui-resizable-handle::after{content:'';top:2px;left:50%;height:3px;width:30px;margin-left:-15px;position:absolute;border-top:1px solid #cfcfcf}.quickhelp{display:-webkit-box;-webkit-box-orient:horizontal;-webkit-box-align:stretch;display:-moz-box;-moz-box-orient:horizontal;-moz-box-align:stretch;display:box;box-orient:horizontal;box-align:stretch;display:flex;flex-direction:row;align-items:stretch}.shortcut_key{display:inline-block;width:20ex;text-align:right;font-family:monospace}.shortcut_descr{display:inline-block;-webkit-box-flex:1;-moz-box-flex:1;box-flex:1;flex:1}span.save_widget{margin-top:6px}span.save_widget span.filename{height:1em;line-height:1em;padding:3px;margin-left:16px;border:none;font-size:146.5%;border-radius:2px}span.save_widget span.filename:hover{background-color:#e6e6e6}span.checkpoint_status,span.autosave_status{font-size:small}@media (max-width:767px){span.save_widget{font-size:small}span.checkpoint_status,span.autosave_status{display:none}}@media (min-width:768px) and (max-width:991px){span.checkpoint_status{display:none}span.autosave_status{font-size:x-small}}.toolbar{padding:0;margin-left:-5px;margin-top:2px;margin-bottom:5px;box-sizing:border-box;-moz-box-sizing:border-box;-webkit-box-sizing:border-box}.toolbar select,.toolbar label{width:auto;vertical-align:middle;margin-right:2px;margin-bottom:0;display:inline;font-size:92%;margin-left:.3em;margin-right:.3em;padding:0;padding-top:3px}.toolbar .btn{padding:2px 8px}.toolbar .btn-group{margin-top:0;margin-left:5px}#maintoolbar{margin-bottom:-3px;margin-top:-8px;border:0;min-height:27px;margin-left:0;padding-top:11px;padding-bottom:3px}#maintoolbar .navbar-text{float:none;vertical-align:middle;text-align:right;margin-left:5px;margin-right:0;margin-top:0}.select-xs{height:24px}@-moz-keyframes fadeOut{from{opacity:1}to{opacity:0}}@-webkit-keyframes fadeOut{from{opacity:1}to{opacity:0}}@-moz-keyframes fadeIn{from{opacity:0}to{opacity:1}}@-webkit-keyframes fadeIn{from{opacity:0}to{opacity:1}}.bigtooltip{overflow:auto;height:200px;-webkit-transition-property:height;-webkit-transition-duration:500ms;-moz-transition-property:height;-moz-transition-duration:500ms;transition-property:height;transition-duration:500ms}.smalltooltip{-webkit-transition-property:height;-webkit-transition-duration:500ms;-moz-transition-property:height;-moz-transition-duration:500ms;transition-property:height;transition-duration:500ms;text-overflow:ellipsis;overflow:hidden;height:80px}.tooltipbuttons{position:absolute;padding-right:15px;top:0;right:0}.tooltiptext{padding-right:30px}.ipython_tooltip{max-width:700px;-webkit-animation:fadeOut 400ms;-moz-animation:fadeOut 400ms;animation:fadeOut 400ms;-webkit-animation:fadeIn 400ms;-moz-animation:fadeIn 400ms;animation:fadeIn 400ms;vertical-align:middle;background-color:#f7f7f7;overflow:visible;border:#ababab 1px solid;outline:none;padding:3px;margin:0;padding-left:7px;font-family:monospace;min-height:50px;-moz-box-shadow:0 6px 10px -1px #adadad;-webkit-box-shadow:0 6px 10px -1px #adadad;box-shadow:0 6px 10px -1px #adadad;border-radius:2px;position:absolute;z-index:1000}.ipython_tooltip a{float:right}.ipython_tooltip .tooltiptext pre{border:0;border-radius:0;font-size:100%;background-color:#f7f7f7}.pretooltiparrow{left:0;margin:0;top:-16px;width:40px;height:16px;overflow:hidden;position:absolute}.pretooltiparrow:before{background-color:#f7f7f7;border:1px #ababab solid;z-index:11;content:"";position:absolute;left:15px;top:10px;width:25px;height:25px;-webkit-transform:rotate(45deg);-moz-transform:rotate(45deg);-ms-transform:rotate(45deg);-o-transform:rotate(45deg)}.terminal-app{background:#eee}.terminal-app #header{background:#fff;-webkit-box-shadow:0 0 12px 1px rgba(87,87,87,0.2);box-shadow:0 0 12px 1px rgba(87,87,87,0.2)}.terminal-app .terminal{float:left;font-family:monospace;color:white;background:black;padding:.4em;border-radius:2px;-webkit-box-shadow:0 0 12px 1px rgba(87,87,87,0.4);box-shadow:0 0 12px 1px rgba(87,87,87,0.4)}.terminal-app .terminal,.terminal-app .terminal dummy-screen{line-height:1em;font-size:14px}.terminal-app .terminal-cursor{color:black;background:white}.terminal-app #terminado-container{margin-top:20px}/*# sourceMappingURL=style.min.css.map */
    </style>
<style type="text/css">
    .highlight .hll { background-color: #ffffcc }
.highlight  { background: #f8f8f8; }
.highlight .c { color: #408080; font-style: italic } /* Comment */
.highlight .err { border: 1px solid #FF0000 } /* Error */
.highlight .k { color: #008000; font-weight: bold } /* Keyword */
.highlight .o { color: #666666 } /* Operator */
.highlight .cm { color: #408080; font-style: italic } /* Comment.Multiline */
.highlight .cp { color: #BC7A00 } /* Comment.Preproc */
.highlight .c1 { color: #408080; font-style: italic } /* Comment.Single */
.highlight .cs { color: #408080; font-style: italic } /* Comment.Special */
.highlight .gd { color: #A00000 } /* Generic.Deleted */
.highlight .ge { font-style: italic } /* Generic.Emph */
.highlight .gr { color: #FF0000 } /* Generic.Error */
.highlight .gh { color: #000080; font-weight: bold } /* Generic.Heading */
.highlight .gi { color: #00A000 } /* Generic.Inserted */
.highlight .go { color: #888888 } /* Generic.Output */
.highlight .gp { color: #000080; font-weight: bold } /* Generic.Prompt */
.highlight .gs { font-weight: bold } /* Generic.Strong */
.highlight .gu { color: #800080; font-weight: bold } /* Generic.Subheading */
.highlight .gt { color: #0044DD } /* Generic.Traceback */
.highlight .kc { color: #008000; font-weight: bold } /* Keyword.Constant */
.highlight .kd { color: #008000; font-weight: bold } /* Keyword.Declaration */
.highlight .kn { color: #008000; font-weight: bold } /* Keyword.Namespace */
.highlight .kp { color: #008000 } /* Keyword.Pseudo */
.highlight .kr { color: #008000; font-weight: bold } /* Keyword.Reserved */
.highlight .kt { color: #B00040 } /* Keyword.Type */
.highlight .m { color: #666666 } /* Literal.Number */
.highlight .s { color: #BA2121 } /* Literal.String */
.highlight .na { color: #7D9029 } /* Name.Attribute */
.highlight .nb { color: #008000 } /* Name.Builtin */
.highlight .nc { color: #0000FF; font-weight: bold } /* Name.Class */
.highlight .no { color: #880000 } /* Name.Constant */
.highlight .nd { color: #AA22FF } /* Name.Decorator */
.highlight .ni { color: #999999; font-weight: bold } /* Name.Entity */
.highlight .ne { color: #D2413A; font-weight: bold } /* Name.Exception */
.highlight .nf { color: #0000FF } /* Name.Function */
.highlight .nl { color: #A0A000 } /* Name.Label */
.highlight .nn { color: #0000FF; font-weight: bold } /* Name.Namespace */
.highlight .nt { color: #008000; font-weight: bold } /* Name.Tag */
.highlight .nv { color: #19177C } /* Name.Variable */
.highlight .ow { color: #AA22FF; font-weight: bold } /* Operator.Word */
.highlight .w { color: #bbbbbb } /* Text.Whitespace */
.highlight .mb { color: #666666 } /* Literal.Number.Bin */
.highlight .mf { color: #666666 } /* Literal.Number.Float */
.highlight .mh { color: #666666 } /* Literal.Number.Hex */
.highlight .mi { color: #666666 } /* Literal.Number.Integer */
.highlight .mo { color: #666666 } /* Literal.Number.Oct */
.highlight .sb { color: #BA2121 } /* Literal.String.Backtick */
.highlight .sc { color: #BA2121 } /* Literal.String.Char */
.highlight .sd { color: #BA2121; font-style: italic } /* Literal.String.Doc */
.highlight .s2 { color: #BA2121 } /* Literal.String.Double */
.highlight .se { color: #BB6622; font-weight: bold } /* Literal.String.Escape */
.highlight .sh { color: #BA2121 } /* Literal.String.Heredoc */
.highlight .si { color: #BB6688; font-weight: bold } /* Literal.String.Interpol */
.highlight .sx { color: #008000 } /* Literal.String.Other */
.highlight .sr { color: #BB6688 } /* Literal.String.Regex */
.highlight .s1 { color: #BA2121 } /* Literal.String.Single */
.highlight .ss { color: #19177C } /* Literal.String.Symbol */
.highlight .bp { color: #008000 } /* Name.Builtin.Pseudo */
.highlight .vc { color: #19177C } /* Name.Variable.Class */
.highlight .vg { color: #19177C } /* Name.Variable.Global */
.highlight .vi { color: #19177C } /* Name.Variable.Instance */
.highlight .il { color: #666666 } /* Literal.Number.Integer.Long */
    </style>


<style type="text/css">
/* Overrides of notebook CSS for static HTML export */
body {
  overflow: visible;
  padding: 8px;
}

div#notebook {
  overflow: visible;
  border-top: none;
}

@media print {
  div.cell {
    display: block;
    page-break-inside: avoid;
  } 
  div.output_wrapper { 
    display: block;
    page-break-inside: avoid; 
  }
  div.output { 
    display: block;
    page-break-inside: avoid; 
  }
}
</style>

<!-- Custom stylesheet, it must be in the same directory as the html file -->
<!--link rel="stylesheet" href="custom.css"-->
<link rel="stylesheet" href="https://cdn.rawgit.com/fossee/custom/static/custom.css">

<!-- Loading mathjax macro -->
<!-- Load mathjax -->
    <script src="https://cdn.mathjax.org/mathjax/latest/MathJax.js?config=TeX-AMS_HTML"></script>
    <!-- MathJax configuration -->
    <script type="text/x-mathjax-config">
    MathJax.Hub.Config({
        tex2jax: {
            inlineMath: [ ['$','$'], ["\\(","\\)"] ],
            displayMath: [ ['$$','$$'], ["\\[","\\]"] ],
            processEscapes: true,
            processEnvironments: true
        },
        // Center justify equations in code and markdown cells. Elsewhere
        // we use CSS to left justify single line equations in code cells.
        displayAlign: 'center',
        "HTML-CSS": {
            styles: {'.MathJax_Display': {"margin": 0}},
            linebreaks: { automatic: true }
        }
    });
    </script>
    <!-- End of mathjax configuration -->

</head>
<body>
  <div tabindex="-1" id="notebook" class="border-box-sizing">
    <div class="container" id="notebook-container">

<div class="cell border-box-sizing text_cell rendered">
<div class="prompt input_prompt">
</div>
<div class="inner_cell">
<div class="text_cell_render border-box-sizing rendered_html">
<h1 id="Ch-1-:-Introduction">Ch-1 : Introduction<a class="anchor-link" href="#Ch-1-:-Introduction">&#182;</a></h1>
</div>
</div>
</div>
<div class="cell border-box-sizing text_cell rendered">
<div class="prompt input_prompt">
</div>
<div class="inner_cell">
<div class="text_cell_render border-box-sizing rendered_html">
<h2 id="exa-1.1-page-1">exa 1.1 page 1<a class="anchor-link" href="#exa-1.1-page-1">&#182;</a></h2>
</div>
</div>
</div>
<div class="cell border-box-sizing code_cell rendered">
<div class="input">
<div class="prompt input_prompt">In&nbsp;[25]:</div>
<div class="inner_cell">
    <div class="input_area">
<div class=" highlight hl-ipython2"><pre><span class="kn">from</span> <span class="nn">__future__</span> <span class="kn">import</span> <span class="n">division</span>
<span class="kn">import</span> <span class="nn">numpy</span> <span class="kn">as</span> <span class="nn">np</span>
<span class="n">B</span><span class="o">=</span><span class="mi">100</span> <span class="c">#W(8Bulb)</span>
<span class="n">F</span><span class="o">=</span><span class="mi">60</span> <span class="c">#W(2Fan)</span>
<span class="n">L</span><span class="o">=</span><span class="mi">100</span> <span class="c">#W(2Light)</span>
<span class="n">LoadConnected</span><span class="o">=</span><span class="mi">8</span><span class="o">*</span><span class="n">B</span><span class="o">+</span><span class="mi">2</span><span class="o">*</span><span class="n">F</span><span class="o">+</span><span class="mi">2</span><span class="o">*</span><span class="n">L</span> <span class="c">#W</span>
<span class="k">print</span> <span class="s">&quot;(a) Connected Load = </span><span class="si">%0.2f</span><span class="s"> W &quot;</span><span class="o">%</span><span class="k">LoadConnected</span>
<span class="c">#12 midnight to 5am</span>
<span class="n">demand1</span><span class="o">=</span><span class="mi">1</span><span class="o">*</span><span class="n">F</span> <span class="c">#W</span>
<span class="c">#5am to 7am</span>
<span class="n">demand2</span><span class="o">=</span><span class="mi">2</span><span class="o">*</span><span class="n">F</span><span class="o">+</span><span class="mi">1</span><span class="o">*</span><span class="n">L</span> <span class="c">#W</span>
<span class="c">#7am to 9am</span>
<span class="n">demand3</span><span class="o">=</span><span class="mi">0</span> <span class="c">#W</span>
<span class="c">#9am to 6pm</span>
<span class="n">demand4</span><span class="o">=</span><span class="mi">2</span><span class="o">*</span><span class="n">F</span> <span class="c">#W</span>
<span class="c">#6pm to midnight</span>
<span class="n">demand5</span><span class="o">=</span><span class="mi">2</span><span class="o">*</span><span class="n">F</span><span class="o">+</span><span class="mi">4</span><span class="o">*</span><span class="n">B</span> <span class="c">#W</span>
<span class="n">DEMAND</span><span class="o">=</span><span class="n">np</span><span class="o">.</span><span class="n">array</span><span class="p">([</span><span class="n">demand1</span><span class="p">,</span><span class="n">demand2</span><span class="p">,</span> <span class="n">demand3</span><span class="p">,</span> <span class="n">demand4</span><span class="p">,</span> <span class="n">demand5</span><span class="p">])</span>
<span class="n">max_demand</span><span class="o">=</span><span class="nb">max</span><span class="p">(</span><span class="n">DEMAND</span><span class="p">)</span> 
<span class="k">print</span> <span class="s">&quot;(b) Maximum demand = </span><span class="si">%0.2f</span><span class="s"> W &quot;</span><span class="o">%</span><span class="k">max_demand</span> 
<span class="n">df</span><span class="o">=</span><span class="n">max_demand</span><span class="o">/</span><span class="n">LoadConnected</span> <span class="c">#demand factor</span>
<span class="k">print</span> <span class="s">&quot;(c) Demand factor = </span><span class="si">%0.3f</span><span class="s">&quot;</span><span class="o">%</span><span class="k">df</span> 
<span class="n">E</span><span class="o">=</span><span class="n">demand1</span><span class="o">*</span><span class="mi">5</span><span class="o">+</span><span class="n">demand2</span><span class="o">*</span><span class="mi">2</span><span class="o">+</span><span class="n">demand3</span><span class="o">*</span><span class="mi">2</span><span class="o">+</span><span class="n">demand4</span><span class="o">*</span><span class="mi">9</span><span class="o">+</span><span class="n">demand5</span><span class="o">*</span><span class="mi">6</span> <span class="c">#Wh</span>
<span class="n">E</span><span class="o">=</span><span class="n">E</span><span class="o">/</span><span class="mi">1000</span> <span class="c">#kWh</span>
<span class="k">print</span> <span class="s">&quot;(d) Energy consumed during 24 hours = </span><span class="si">%0.2f</span><span class="s"> kWh &quot;</span><span class="o">%</span><span class="k">E</span>
<span class="n">Edash</span><span class="o">=</span><span class="n">LoadConnected</span><span class="o">*</span><span class="mi">24</span><span class="o">/</span><span class="mi">1000</span> <span class="c">#kWh</span>
<span class="k">print</span> <span class="s">&quot;(e) Energy consumed during 24 hours if all devices are used = </span><span class="si">%0.2f</span><span class="s"> kWh&quot;</span><span class="o">%</span><span class="k">Edash</span>
</pre></div>

</div>
</div>
</div>

<div class="output_wrapper">
<div class="output">


<div class="output_area"><div class="prompt"></div>
<div class="output_subarea output_stream output_stdout output_text">
<pre>(a) Connected Load = 1120.00 W 
(b) Maximum demand = 520.00 W 
(c) Demand factor = 0.464
(d) Energy consumed during 24 hours = 4.94 kWh 
(e) Energy consumed during 24 hours if all devices are used = 26.88 kWh
</pre>
</div>
</div>

</div>
</div>

</div>
<div class="cell border-box-sizing text_cell rendered">
<div class="prompt input_prompt">
</div>
<div class="inner_cell">
<div class="text_cell_render border-box-sizing rendered_html">
<h2 id="exa-1.2-page-3">exa 1.2 page 3<a class="anchor-link" href="#exa-1.2-page-3">&#182;</a></h2>
</div>
</div>
</div>
<div class="cell border-box-sizing code_cell rendered">
<div class="input">
<div class="prompt input_prompt">In&nbsp;[26]:</div>
<div class="inner_cell">
    <div class="input_area">
<div class=" highlight hl-ipython2"><pre><span class="kn">import</span> <span class="nn">numpy</span> <span class="kn">as</span> <span class="nn">np</span>
<span class="n">LoadA</span><span class="o">=</span><span class="mf">2.5</span><span class="o">*</span><span class="mi">1000</span> <span class="c">#W</span>
<span class="c">#12 midnight to 5am</span>
<span class="n">d1A</span><span class="o">=</span><span class="mi">100</span> <span class="c">#W</span>
<span class="c">#5am to 6am</span>
<span class="n">d2A</span><span class="o">=</span><span class="mf">1.1</span><span class="o">*</span><span class="mi">1000</span> <span class="c">#W</span>
<span class="c">#6am to 8am</span>
<span class="n">d3A</span><span class="o">=</span><span class="mi">200</span> <span class="c">#W</span>
<span class="c">#8am to 5pm</span>
<span class="n">d4A</span><span class="o">=</span><span class="mi">0</span> <span class="c">#W</span>
<span class="c">#5pm to 12 midnight</span>
<span class="n">d5A</span><span class="o">=</span><span class="mi">500</span> <span class="c">#W</span>
<span class="n">LoadB</span><span class="o">=</span><span class="mi">3</span><span class="o">*</span><span class="mi">1000</span> <span class="c">#W</span>
<span class="c">#11 pm to 7am</span>
<span class="n">d1B</span><span class="o">=</span><span class="mi">0</span> <span class="c">#W</span>
<span class="c">#7 am to 8 am</span>
<span class="n">d2B</span><span class="o">=</span><span class="mi">300</span> <span class="c">#W</span>
<span class="c">#8 am to 10 am</span>
<span class="n">d3B</span><span class="o">=</span><span class="mi">1</span><span class="o">*</span><span class="mi">1000</span> <span class="c">#W</span>
<span class="c">#10 am to 6 pm</span>
<span class="n">d4B</span><span class="o">=</span><span class="mi">200</span> <span class="c">#W</span>
<span class="c">#6 pm to 11 pm</span>
<span class="n">d5B</span><span class="o">=</span><span class="mi">600</span> <span class="c">#W</span>
<span class="n">DEMAND_A</span><span class="o">=</span><span class="n">np</span><span class="o">.</span><span class="n">array</span><span class="p">([</span><span class="n">d1A</span><span class="p">,</span> <span class="n">d2A</span><span class="p">,</span> <span class="n">d3A</span><span class="p">,</span> <span class="n">d4A</span><span class="p">,</span> <span class="n">d5A</span><span class="p">])</span> <span class="c">#W</span>
<span class="n">DEMAND_B</span><span class="o">=</span><span class="n">np</span><span class="o">.</span><span class="n">array</span><span class="p">([</span><span class="n">d1B</span><span class="p">,</span> <span class="n">d2B</span><span class="p">,</span> <span class="n">d3B</span><span class="p">,</span> <span class="n">d4B</span><span class="p">,</span> <span class="n">d5B</span><span class="p">])</span> <span class="c">#W</span>
<span class="n">max_demand_A</span><span class="o">=</span><span class="nb">max</span><span class="p">(</span><span class="n">DEMAND_A</span><span class="p">)</span> <span class="c">#W</span>
<span class="n">max_demand_B</span><span class="o">=</span><span class="nb">max</span><span class="p">(</span><span class="n">DEMAND_B</span><span class="p">)</span> <span class="c">#W</span>
<span class="n">df_A</span><span class="o">=</span><span class="n">max_demand_A</span><span class="o">/</span><span class="n">LoadA</span> <span class="c">#demand factor</span>
<span class="n">df_B</span><span class="o">=</span><span class="n">max_demand_B</span><span class="o">/</span><span class="n">LoadB</span> <span class="c">#demand factor</span>
<span class="k">print</span> <span class="s">&quot;Demand factor of consumer A &amp; B are : </span><span class="si">%0.2f</span><span class="s"> &amp; </span><span class="si">%0.2f</span><span class="s">&quot;</span><span class="o">%</span><span class="p">(</span><span class="n">df_A</span><span class="p">,</span><span class="n">df_B</span><span class="p">)</span> 
<span class="n">gd_factor</span><span class="o">=</span><span class="p">(</span><span class="n">max_demand_A</span><span class="o">+</span><span class="n">max_demand_B</span><span class="p">)</span><span class="o">/</span><span class="n">max_demand_A</span> 
<span class="k">print</span> <span class="s">&quot;Group diversity factor = </span><span class="si">%0.3f</span><span class="s">&quot;</span><span class="o">%</span><span class="k">gd_factor</span>
<span class="n">E_A</span><span class="o">=</span><span class="n">d1A</span><span class="o">*</span><span class="mi">5</span><span class="o">+</span><span class="n">d2A</span><span class="o">*</span><span class="mi">1</span><span class="o">+</span><span class="n">d3A</span><span class="o">*</span><span class="mi">2</span><span class="o">+</span><span class="n">d4A</span><span class="o">*</span><span class="mi">9</span><span class="o">+</span><span class="n">d5A</span><span class="o">*</span><span class="mi">7</span> <span class="c">#Wh</span>
<span class="n">E_B</span><span class="o">=</span><span class="n">d1B</span><span class="o">*</span><span class="mi">8</span><span class="o">+</span><span class="n">d2B</span><span class="o">*</span><span class="mi">1</span><span class="o">+</span><span class="n">d3B</span><span class="o">*</span><span class="mi">2</span><span class="o">+</span><span class="n">d4B</span><span class="o">*</span><span class="mi">8</span><span class="o">+</span><span class="n">d5B</span><span class="o">*</span><span class="mi">5</span> <span class="c">#Wh</span>
<span class="n">E_A</span><span class="o">=</span><span class="n">E_A</span><span class="o">/</span><span class="mi">1000</span> <span class="c">#kWh</span>
<span class="n">E_B</span><span class="o">=</span><span class="n">E_B</span><span class="o">/</span><span class="mi">1000</span> <span class="c">#kWh</span>
<span class="k">print</span> <span class="s">&quot;Energy consumed by A &amp; B during 24 hours = </span><span class="si">%0.2f</span><span class="s"> &amp; </span><span class="si">%0.2f</span><span class="s"> kWh &quot;</span><span class="o">%</span><span class="p">(</span><span class="n">E_A</span><span class="p">,</span><span class="n">E_B</span><span class="p">)</span>
<span class="n">Emax_A</span><span class="o">=</span><span class="n">max_demand_A</span><span class="o">*</span><span class="mi">24</span><span class="o">/</span><span class="mi">1000</span> <span class="c">#kWh</span>
<span class="n">Emax_B</span><span class="o">=</span><span class="n">max_demand_B</span><span class="o">*</span><span class="mi">24</span><span class="o">/</span><span class="mi">1000</span> <span class="c">#kWh</span>
<span class="k">print</span> <span class="s">&quot;Maximum energy consumer A &amp; B can consume during 24 hours = </span><span class="si">%0.2f</span><span class="s"> &amp; </span><span class="si">%0.2f</span><span class="s"> kWh &quot;</span><span class="o">%</span><span class="p">(</span><span class="n">Emax_A</span><span class="p">,</span><span class="n">Emax_B</span><span class="p">)</span>
<span class="n">ratio_A</span><span class="o">=</span><span class="n">E_A</span><span class="o">/</span><span class="n">Emax_A</span> 
<span class="n">ratio_B</span><span class="o">=</span><span class="n">E_B</span><span class="o">/</span><span class="n">Emax_B</span> 
<span class="k">print</span> <span class="s">&quot;Ratio of actual energy to maximum energy of consumer A &amp; B : </span><span class="si">%0.4f</span><span class="s"> &amp; </span><span class="si">%0.4f</span><span class="s">&quot;</span><span class="o">%</span><span class="p">(</span><span class="n">ratio_A</span><span class="p">,</span><span class="n">ratio_B</span><span class="p">)</span> 
</pre></div>

</div>
</div>
</div>

<div class="output_wrapper">
<div class="output">


<div class="output_area"><div class="prompt"></div>
<div class="output_subarea output_stream output_stdout output_text">
<pre>Demand factor of consumer A &amp; B are : 0.44 &amp; 0.33
Group diversity factor = 1.909
Energy consumed by A &amp; B during 24 hours = 5.50 &amp; 6.90 kWh 
Maximum energy consumer A &amp; B can consume during 24 hours = 26.40 &amp; 24.00 kWh 
Ratio of actual energy to maximum energy of consumer A &amp; B : 0.2083 &amp; 0.2875
</pre>
</div>
</div>

</div>
</div>

</div>
<div class="cell border-box-sizing text_cell rendered">
<div class="prompt input_prompt">
</div>
<div class="inner_cell">
<div class="text_cell_render border-box-sizing rendered_html">
<h2 id="exa-1.3-page-6">exa 1.3 page 6<a class="anchor-link" href="#exa-1.3-page-6">&#182;</a></h2>
</div>
</div>
</div>
<div class="cell border-box-sizing code_cell rendered">
<div class="input">
<div class="prompt input_prompt">In&nbsp;[27]:</div>
<div class="inner_cell">
    <div class="input_area">
<div class=" highlight hl-ipython2"><pre><span class="n">n1</span><span class="o">=</span><span class="mi">600</span> <span class="c">#No. of apartments</span>
<span class="n">L1</span><span class="o">=</span><span class="mi">5</span> <span class="c">#kW#Each Apartment Load</span>
<span class="n">n2</span><span class="o">=</span><span class="mi">20</span> <span class="c">#No. of general purpose shops</span>
<span class="n">L2</span><span class="o">=</span><span class="mi">2</span> <span class="c">#kW#Each Shop Load</span>
<span class="n">df</span><span class="o">=</span><span class="mf">0.8</span> <span class="c">#demand factor</span>
<span class="c">#1 Floor mill</span>
<span class="n">L3</span><span class="o">=</span><span class="mi">10</span> <span class="c">#kW#Load</span>
<span class="n">df3</span><span class="o">=</span><span class="mf">0.7</span> <span class="c">#demand factor</span>
<span class="c">#1 Saw mill</span>
<span class="n">L4</span><span class="o">=</span><span class="mi">5</span> <span class="c">#kW#Load</span>
<span class="n">df4</span><span class="o">=</span><span class="mf">0.8</span> <span class="c">#demand factor</span>
<span class="c">#1 Laundry</span>
<span class="n">L5</span><span class="o">=</span><span class="mi">20</span> <span class="c">#kW#Load</span>
<span class="n">df5</span><span class="o">=</span><span class="mf">0.65</span> <span class="c">#demand factor</span>
<span class="c">#1 Cinema</span>
<span class="n">L6</span><span class="o">=</span><span class="mi">80</span> <span class="c">#kW#Load</span>
<span class="n">df6</span><span class="o">=</span><span class="mf">0.5</span> <span class="c">#demand factor</span>
<span class="c">#Street lights</span>
<span class="n">n7</span><span class="o">=</span><span class="mi">200</span> <span class="c">#no. of tube lights</span>
<span class="n">L7</span><span class="o">=</span><span class="mi">40</span> <span class="c">#W#Load of each light</span>
<span class="c">#Residential Load</span>
<span class="n">df8</span><span class="o">=</span><span class="mf">0.5</span> <span class="c">#demand factor</span>
<span class="n">gdf_r</span><span class="o">=</span><span class="mi">3</span> <span class="c">#group diversity factor</span>
<span class="n">pdf_r</span><span class="o">=</span><span class="mf">1.25</span> <span class="c">#peak diversity factor</span>
<span class="c">#Commertial Load</span>
<span class="n">gdf_c</span><span class="o">=</span><span class="mi">2</span> <span class="c">#group diversity factor</span>
<span class="n">pdf_c</span><span class="o">=</span><span class="mf">1.6</span> <span class="c">#peak diversity factor</span>
<span class="c">#Solution :</span>
<span class="c">#Maximum demand of each apartment</span>
<span class="n">dmax_1a</span><span class="o">=</span><span class="n">L1</span><span class="o">*</span><span class="n">df8</span> <span class="c">#kW</span>
<span class="c">#Maximum demand of 600 apartment</span>
<span class="n">dmax_a</span><span class="o">=</span><span class="n">n1</span><span class="o">*</span><span class="n">dmax_1a</span><span class="o">/</span><span class="n">gdf_r</span> <span class="c">#kW</span>
<span class="c">#demand of apartments at system peak time</span>
<span class="n">d_a_sp</span><span class="o">=</span><span class="n">dmax_a</span><span class="o">/</span><span class="n">pdf_r</span> <span class="c">#kW</span>
<span class="c">#Maximum Commercial demand</span>
<span class="n">dmax_c</span><span class="o">=</span><span class="p">(</span><span class="n">n2</span><span class="o">*</span><span class="n">L2</span><span class="o">*</span><span class="n">df</span><span class="o">+</span><span class="n">L3</span><span class="o">*</span><span class="n">df3</span><span class="o">+</span><span class="n">L4</span><span class="o">*</span><span class="n">df4</span><span class="o">+</span><span class="n">L5</span><span class="o">*</span><span class="n">df5</span><span class="o">+</span><span class="n">L6</span><span class="o">*</span><span class="n">df6</span><span class="p">)</span><span class="o">/</span><span class="n">gdf_c</span> <span class="c">#kW</span>
<span class="c">#Commercial demand at system peak time</span>
<span class="n">d_c_sp</span><span class="o">=</span><span class="n">dmax_c</span><span class="o">/</span><span class="n">pdf_c</span> <span class="c">#kW</span>
<span class="c">#demand of street light at system peak time</span>
<span class="n">d_sl_sp</span><span class="o">=</span><span class="n">n7</span><span class="o">*</span><span class="n">L7</span><span class="o">/</span><span class="mi">1000</span> <span class="c">#kW</span>
<span class="c">#Increase in system peak demand</span>
<span class="n">DI</span><span class="o">=</span><span class="n">d_a_sp</span><span class="o">+</span><span class="n">d_c_sp</span><span class="o">+</span><span class="n">d_sl_sp</span> <span class="c">#kW</span>
<span class="k">print</span> <span class="s">&quot;Increase in system peak demand  </span><span class="si">%0.2f</span><span class="s"> kW&quot;</span> <span class="o">%</span><span class="k">DI</span>,
</pre></div>

</div>
</div>
</div>

<div class="output_wrapper">
<div class="output">


<div class="output_area"><div class="prompt"></div>
<div class="output_subarea output_stream output_stdout output_text">
<pre>Increase in system peak demand  438.00 kW
</pre>
</div>
</div>

</div>
</div>

</div>
<div class="cell border-box-sizing text_cell rendered">
<div class="prompt input_prompt">
</div>
<div class="inner_cell">
<div class="text_cell_render border-box-sizing rendered_html">
<h2 id="exa-1.4-page-12">exa 1.4 page 12<a class="anchor-link" href="#exa-1.4-page-12">&#182;</a></h2>
</div>
</div>
</div>
<div class="cell border-box-sizing code_cell rendered">
<div class="input">
<div class="prompt input_prompt">In&nbsp;[28]:</div>
<div class="inner_cell">
    <div class="input_area">
<div class=" highlight hl-ipython2"><pre><span class="c">#12 to 5 am</span>
<span class="n">L1</span><span class="o">=</span><span class="mi">20</span> <span class="c">#MW</span>
<span class="n">t1</span><span class="o">=</span><span class="mi">5</span> <span class="c">#hours</span>
<span class="c">#5 to 9 am</span>
<span class="n">L2</span><span class="o">=</span><span class="mi">40</span> <span class="c">#MW</span>
<span class="n">t2</span><span class="o">=</span><span class="mi">4</span> <span class="c">#hours</span>
<span class="c">#9 to 6 pm</span>
<span class="n">L3</span><span class="o">=</span><span class="mi">80</span> <span class="c">#MW</span>
<span class="n">t3</span><span class="o">=</span><span class="mi">9</span> <span class="c">#hours</span>
<span class="c">#6 to 10 pm</span>
<span class="n">L4</span><span class="o">=</span><span class="mi">100</span> <span class="c">#MW</span>
<span class="n">t4</span><span class="o">=</span><span class="mi">4</span> <span class="c">#hours</span>
<span class="c">#10 to 12 am</span>
<span class="n">L5</span><span class="o">=</span><span class="mi">20</span> <span class="c">#MW</span>
<span class="n">t5</span><span class="o">=</span><span class="mi">2</span> <span class="c">#hours</span>
<span class="c">#Energy Poduced in 24 hours</span>
<span class="n">E</span><span class="o">=</span><span class="n">L1</span><span class="o">*</span><span class="n">t1</span><span class="o">+</span><span class="n">L2</span><span class="o">*</span><span class="n">t2</span><span class="o">+</span><span class="n">L3</span><span class="o">*</span><span class="n">t3</span><span class="o">+</span><span class="n">L4</span><span class="o">*</span><span class="n">t4</span><span class="o">+</span><span class="n">L5</span><span class="o">*</span><span class="n">t5</span> <span class="c">#MWh</span>
<span class="k">print</span> <span class="s">&quot;Energy Supplied by the plant in 24 hours = </span><span class="si">%0.2f</span><span class="s"> MWh&quot;</span> <span class="o">%</span><span class="k">E</span>
<span class="n">LF</span><span class="o">=</span><span class="n">E</span><span class="o">/</span><span class="mi">24</span> <span class="c">#%#Load Factor</span>
<span class="k">print</span> <span class="s">&quot;Load Factor = </span><span class="si">%0.2f</span><span class="s"> </span><span class="si">%%</span><span class="s"> &quot;</span><span class="o">%</span><span class="k">LF</span> 
</pre></div>

</div>
</div>
</div>

<div class="output_wrapper">
<div class="output">


<div class="output_area"><div class="prompt"></div>
<div class="output_subarea output_stream output_stdout output_text">
<pre>Energy Supplied by the plant in 24 hours = 1420.00 MWh
Load Factor = 59.17 % 
</pre>
</div>
</div>

</div>
</div>

</div>
<div class="cell border-box-sizing text_cell rendered">
<div class="prompt input_prompt">
</div>
<div class="inner_cell">
<div class="text_cell_render border-box-sizing rendered_html">
<h2 id="exa-1.5-page-13">exa 1.5 page 13<a class="anchor-link" href="#exa-1.5-page-13">&#182;</a></h2>
</div>
</div>
</div>
<div class="cell border-box-sizing code_cell rendered">
<div class="input">
<div class="prompt input_prompt">In&nbsp;[29]:</div>
<div class="inner_cell">
    <div class="input_area">
<div class=" highlight hl-ipython2"><pre><span class="kn">from</span> <span class="nn">__future__</span> <span class="kn">import</span> <span class="n">division</span>
<span class="n">C</span><span class="o">=</span><span class="mi">125</span> <span class="c">#MW#Installed Capacity</span>
<span class="c">#12 to 5 am</span>
<span class="n">L1</span><span class="o">=</span><span class="mi">20</span> <span class="c">#MW</span>
<span class="n">t1</span><span class="o">=</span><span class="mi">5</span> <span class="c">#hours</span>
<span class="c">#5 to 9 am</span>
<span class="n">L2</span><span class="o">=</span><span class="mi">40</span> <span class="c">#MW</span>
<span class="n">t2</span><span class="o">=</span><span class="mi">4</span> <span class="c">#hours</span>
<span class="c">#9 to 6 pm</span>
<span class="n">L3</span><span class="o">=</span><span class="mi">80</span> <span class="c">#MW</span>
<span class="n">t3</span><span class="o">=</span><span class="mi">9</span> <span class="c">#hours</span>
<span class="c">#6 to 10 pm</span>
<span class="n">L4</span><span class="o">=</span><span class="mi">100</span> <span class="c">#MW</span>
<span class="n">t4</span><span class="o">=</span><span class="mi">4</span> <span class="c">#hours</span>
<span class="c">#10 to 12 am</span>
<span class="n">L5</span><span class="o">=</span><span class="mi">20</span> <span class="c">#MW</span>
<span class="n">t5</span><span class="o">=</span><span class="mi">2</span> <span class="c">#hours</span>
<span class="c">#Energy Poduced in 24 hours</span>
<span class="n">E</span><span class="o">=</span><span class="n">L1</span><span class="o">*</span><span class="n">t1</span><span class="o">+</span><span class="n">L2</span><span class="o">*</span><span class="n">t2</span><span class="o">+</span><span class="n">L3</span><span class="o">*</span><span class="n">t3</span><span class="o">+</span><span class="n">L4</span><span class="o">*</span><span class="n">t4</span><span class="o">+</span><span class="n">L5</span><span class="o">*</span><span class="n">t5</span> <span class="c">#MWh</span>
<span class="n">LF</span><span class="o">=</span><span class="n">E</span><span class="o">/</span><span class="mi">24</span> <span class="c">#%#Load Factor</span>
<span class="n">CF</span><span class="o">=</span><span class="n">LF</span><span class="o">/</span><span class="n">C</span> <span class="c">#%#Capacity Factor</span>
<span class="k">print</span> <span class="s">&quot;Capacity Factor = </span><span class="si">%0.3f</span><span class="s">&quot;</span> <span class="o">%</span><span class="k">CF</span>
<span class="n">UF</span><span class="o">=</span><span class="mi">100</span><span class="o">/</span><span class="n">C</span> <span class="c">#%#Utilisation Factor</span>
<span class="k">print</span> <span class="s">&quot;Utilisation Factor = </span><span class="si">%.1f</span><span class="s">&quot;</span> <span class="o">%</span><span class="k">UF</span>
</pre></div>

</div>
</div>
</div>

<div class="output_wrapper">
<div class="output">


<div class="output_area"><div class="prompt"></div>
<div class="output_subarea output_stream output_stdout output_text">
<pre>Capacity Factor = 0.473
Utilisation Factor = 0.8
</pre>
</div>
</div>

</div>
</div>

</div>
<div class="cell border-box-sizing text_cell rendered">
<div class="prompt input_prompt">
</div>
<div class="inner_cell">
<div class="text_cell_render border-box-sizing rendered_html">
<h2 id="exa-1.6-page-13">exa 1.6 page 13<a class="anchor-link" href="#exa-1.6-page-13">&#182;</a></h2>
</div>
</div>
</div>
<div class="cell border-box-sizing code_cell rendered">
<div class="input">
<div class="prompt input_prompt">In&nbsp;[30]:</div>
<div class="inner_cell">
    <div class="input_area">
<div class=" highlight hl-ipython2"><pre><span class="o">%</span><span class="k">matplotlib</span> inline
<span class="kn">from</span> <span class="nn">matplotlib.pyplot</span> <span class="kn">import</span> <span class="n">plot</span><span class="p">,</span> <span class="n">show</span><span class="p">,</span> <span class="n">title</span><span class="p">,</span> <span class="n">xlabel</span><span class="p">,</span> <span class="n">ylabel</span><span class="p">,</span> <span class="n">subplot</span>
<span class="kn">from</span> <span class="nn">numpy</span> <span class="kn">import</span> <span class="n">array</span>
<span class="kn">import</span> <span class="nn">numpy</span> <span class="kn">as</span> <span class="nn">np</span>
<span class="c">#12 to 5 am &amp; 10 to 12 am</span>
<span class="n">L1</span><span class="o">=</span><span class="mi">20</span> <span class="c">#MW</span>
<span class="n">E1</span><span class="o">=</span><span class="n">L1</span><span class="o">*</span><span class="mi">24</span> <span class="c">#MWh</span>
<span class="c">#5 to 9 am</span>
<span class="n">L2</span><span class="o">=</span><span class="mi">40</span> <span class="c">#MW</span>
<span class="n">E2</span><span class="o">=</span><span class="n">E1</span><span class="o">+</span><span class="p">(</span><span class="n">L2</span><span class="o">-</span><span class="n">L1</span><span class="p">)</span><span class="o">*</span><span class="mi">17</span> <span class="c">#MWh</span>
<span class="c">#9 to 6 pm</span>
<span class="n">L3</span><span class="o">=</span><span class="mi">80</span> <span class="c">#MW</span>
<span class="n">E3</span><span class="o">=</span><span class="n">E2</span><span class="o">+</span><span class="p">(</span><span class="n">L3</span><span class="o">-</span><span class="n">L2</span><span class="p">)</span><span class="o">*</span><span class="mi">13</span> <span class="c">#MWh</span>
<span class="c">#6 to 10 pm</span>
<span class="n">L4</span><span class="o">=</span><span class="mi">100</span> <span class="c">#MW</span>
<span class="n">E4</span><span class="o">=</span><span class="n">E3</span><span class="o">+</span><span class="p">(</span><span class="n">L4</span><span class="o">-</span><span class="n">L3</span><span class="p">)</span><span class="o">*</span><span class="mi">4</span> <span class="c">#MWh</span>
<span class="c">#Plotting Energy load curve</span>
<span class="n">L</span><span class="o">=</span><span class="n">np</span><span class="o">.</span><span class="n">array</span><span class="p">([</span><span class="mi">0</span><span class="p">,</span><span class="n">L1</span><span class="p">,</span><span class="n">L2</span><span class="p">,</span><span class="n">L3</span><span class="p">,</span><span class="n">L4</span><span class="p">])</span> <span class="c">#MW</span>
<span class="n">E</span><span class="o">=</span><span class="n">np</span><span class="o">.</span><span class="n">array</span><span class="p">([</span><span class="mi">0</span><span class="p">,</span><span class="n">E1</span><span class="p">,</span><span class="n">E2</span><span class="p">,</span><span class="n">E3</span><span class="p">,</span><span class="n">E4</span><span class="p">])</span> <span class="c">#Mwh</span>
<span class="n">subplot</span><span class="p">(</span><span class="mi">2</span><span class="p">,</span><span class="mi">1</span><span class="p">,</span><span class="mi">1</span><span class="p">)</span>
<span class="n">plot</span><span class="p">(</span><span class="n">E</span><span class="p">,</span><span class="n">L</span><span class="p">)</span>
<span class="n">xlabel</span><span class="p">(</span><span class="s">&#39;Energy(MWh)&#39;</span><span class="p">)</span> 
<span class="n">ylabel</span><span class="p">(</span><span class="s">&#39;Load(MW)&#39;</span><span class="p">)</span> 
<span class="n">title</span><span class="p">(</span><span class="s">&#39;Energy Load Curve&#39;</span><span class="p">)</span> 
<span class="c">#Energy Supplied</span>
<span class="c">#Upto 5am</span>
<span class="n">t1</span><span class="o">=</span><span class="mi">5</span> <span class="c">#hours</span>
<span class="n">E1</span><span class="o">=</span><span class="n">L1</span><span class="o">*</span><span class="n">t1</span> <span class="c">#MWh</span>
<span class="c">#Upto 9am</span>
<span class="n">t2</span><span class="o">=</span><span class="mi">4</span> <span class="c">#hours</span>
<span class="n">E2</span><span class="o">=</span><span class="n">E1</span><span class="o">+</span><span class="n">L2</span><span class="o">*</span><span class="n">t2</span> <span class="c">#MWh</span>
<span class="c">#Upto 6pm</span>
<span class="n">t3</span><span class="o">=</span><span class="mi">9</span> <span class="c">#hours</span>
<span class="n">E3</span><span class="o">=</span><span class="n">E2</span><span class="o">+</span><span class="n">L3</span><span class="o">*</span><span class="n">t3</span> <span class="c">#MWh</span>
<span class="c">#Upto 10pm</span>
<span class="n">t4</span><span class="o">=</span><span class="mi">4</span> <span class="c">#hours</span>
<span class="n">E4</span><span class="o">=</span><span class="n">E3</span><span class="o">+</span><span class="n">L4</span><span class="o">*</span><span class="n">t4</span> <span class="c">#MWh</span>
<span class="c">#Upto 12pm</span>
<span class="n">t4</span><span class="o">=</span><span class="mi">2</span> <span class="c">#hours</span>
<span class="n">E4</span><span class="o">=</span><span class="n">E3</span><span class="o">+</span><span class="n">L4</span><span class="o">*</span><span class="n">t4</span> <span class="c">#MWh</span>
<span class="c">#Plotting Mass curve</span>
<span class="n">T</span><span class="o">=</span><span class="p">[</span><span class="mi">0</span><span class="p">,</span><span class="mi">1</span><span class="p">,</span><span class="mi">2</span><span class="p">,</span><span class="mi">3</span><span class="p">,</span><span class="mi">4</span><span class="p">]</span> <span class="c">#MW</span>
<span class="n">E</span><span class="o">=</span><span class="p">[</span><span class="mi">0</span><span class="p">,</span><span class="n">E1</span><span class="p">,</span><span class="n">E2</span><span class="p">,</span><span class="n">E3</span><span class="p">,</span><span class="n">E4</span><span class="p">]</span> <span class="c">#Mwh</span>
<span class="n">subplot</span><span class="p">(</span><span class="mi">2</span><span class="p">,</span><span class="mi">1</span><span class="p">,</span><span class="mi">2</span><span class="p">)</span>
<span class="n">plot</span><span class="p">(</span><span class="n">T</span><span class="p">,</span><span class="n">E</span><span class="p">)</span>
<span class="n">ylabel</span><span class="p">(</span><span class="s">&#39;Ener2y(MWh)&#39;</span><span class="p">)</span> 
<span class="n">xlabel</span><span class="p">(</span><span class="s">&#39;0-1: 12-5am 1-2: 5-9am 2-3: 9-6pm 3-4: 6-10pm above4: 10-12pm&#39;</span><span class="p">)</span> 
<span class="n">title</span><span class="p">(</span><span class="s">&#39;Mass Curve&#39;</span><span class="p">)</span> 
<span class="n">show</span><span class="p">()</span>
</pre></div>

</div>
</div>
</div>

<div class="output_wrapper">
<div class="output">


<div class="output_area"><div class="prompt"></div>


<div class="output_png output_subarea ">
<img src="data:image/png;base64,iVBORw0KGgoAAAANSUhEUgAAAZMAAAEZCAYAAABSN8jfAAAABHNCSVQICAgIfAhkiAAAAAlwSFlz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==
"
>
</div>

</div>

</div>
</div>

</div>
<div class="cell border-box-sizing text_cell rendered">
<div class="prompt input_prompt">
</div>
<div class="inner_cell">
<div class="text_cell_render border-box-sizing rendered_html">
<h2 id="exa-1.7-page-14">exa 1.7 page 14<a class="anchor-link" href="#exa-1.7-page-14">&#182;</a></h2>
</div>
</div>
</div>
<div class="cell border-box-sizing code_cell rendered">
<div class="input">
<div class="prompt input_prompt">In&nbsp;[31]:</div>
<div class="inner_cell">
    <div class="input_area">
<div class=" highlight hl-ipython2"><pre><span class="n">dmax</span><span class="o">=</span><span class="mi">40</span> <span class="c">#MW#Maximum demand</span>
<span class="n">CF</span><span class="o">=</span><span class="mf">0.5</span> <span class="c">#Capacity Factor</span>
<span class="n">UF</span><span class="o">=</span><span class="mf">0.8</span> <span class="c">#Utilisation Factor</span>
<span class="n">LF</span><span class="o">=</span><span class="n">CF</span><span class="o">/</span><span class="n">UF</span> <span class="c">#/Load Factor</span>
<span class="k">print</span> <span class="s">&quot;(a) Load Factor : </span><span class="si">%0.3f</span><span class="s">&quot;</span><span class="o">%</span><span class="k">LF</span> 
<span class="n">C</span><span class="o">=</span><span class="n">dmax</span><span class="o">/</span><span class="n">UF</span> <span class="c">#MW#Plant Capacity</span>
<span class="k">print</span> <span class="s">&quot;(b) Plant Capacity = </span><span class="si">%0.2f</span><span class="s"> MW &quot;</span><span class="o">%</span><span class="k">C</span> 
<span class="n">RC</span><span class="o">=</span><span class="n">C</span><span class="o">-</span><span class="n">dmax</span> <span class="c">#MW#Reserve Capacity</span>
<span class="k">print</span> <span class="s">&quot;(c) Reserve Capacity = </span><span class="si">%0.02f</span><span class="s"> MW  &quot;</span><span class="o">%</span><span class="k">RC</span> 
<span class="n">p</span><span class="o">=</span><span class="n">dmax</span><span class="o">*</span><span class="n">LF</span><span class="o">*</span><span class="mi">24</span><span class="o">*</span><span class="mi">365</span> <span class="c">#MWh#Annual Energy Production</span>
<span class="k">print</span> <span class="s">&quot;(d) Annual Energy Production = </span><span class="si">%0.2f</span><span class="s"> MWh &quot;</span><span class="o">%</span><span class="k">p</span> 
</pre></div>

</div>
</div>
</div>

<div class="output_wrapper">
<div class="output">


<div class="output_area"><div class="prompt"></div>
<div class="output_subarea output_stream output_stdout output_text">
<pre>(a) Load Factor : 0.625
(b) Plant Capacity = 50.00 MW 
(c) Reserve Capacity = 10.00 MW  
(d) Annual Energy Production = 219000.00 MWh 
</pre>
</div>
</div>

</div>
</div>

</div>
<div class="cell border-box-sizing text_cell rendered">
<div class="prompt input_prompt">
</div>
<div class="inner_cell">
<div class="text_cell_render border-box-sizing rendered_html">
<h2 id="exa-1.8-page-14">exa 1.8 page 14<a class="anchor-link" href="#exa-1.8-page-14">&#182;</a></h2>
</div>
</div>
</div>
<div class="cell border-box-sizing code_cell rendered">
<div class="input">
<div class="prompt input_prompt">In&nbsp;[32]:</div>
<div class="inner_cell">
    <div class="input_area">
<div class=" highlight hl-ipython2"><pre><span class="kn">from</span> <span class="nn">__future__</span> <span class="kn">import</span> <span class="n">division</span>
<span class="o">%</span><span class="k">matplotlib</span> inline
<span class="kn">from</span> <span class="nn">matplotlib.pyplot</span> <span class="kn">import</span> <span class="n">plot</span><span class="p">,</span> <span class="n">show</span><span class="p">,</span> <span class="n">title</span><span class="p">,</span> <span class="n">xlabel</span><span class="p">,</span> <span class="n">ylabel</span><span class="p">,</span> <span class="n">subplot</span>
<span class="c">#from numpy import array</span>
<span class="n">L1</span><span class="o">=</span><span class="mi">50</span> <span class="c">#MW#Initial</span>
<span class="n">t1</span><span class="o">=</span><span class="mi">5</span> <span class="c">#hours</span>
<span class="n">L2</span><span class="o">=</span><span class="mi">50</span> <span class="c">#MW#5am</span>
<span class="n">t2</span><span class="o">=</span><span class="mi">4</span> <span class="c">#hours</span>
<span class="n">L3</span><span class="o">=</span><span class="mi">100</span> <span class="c">#MW#9am</span>
<span class="n">t3</span><span class="o">=</span><span class="mi">9</span> <span class="c">#hours</span>
<span class="n">L4</span><span class="o">=</span><span class="mi">100</span> <span class="c">#MW#6pm</span>
<span class="n">t4</span><span class="o">=</span><span class="mi">2</span> <span class="c">#hours</span>
<span class="n">L5</span><span class="o">=</span><span class="mi">150</span> <span class="c">#MW#8pm</span>
<span class="n">t5</span><span class="o">=</span><span class="mi">2</span> <span class="c">#hours</span>
<span class="n">L6</span><span class="o">=</span><span class="mi">80</span> <span class="c">#MW#10pm</span>
<span class="n">t6</span><span class="o">=</span><span class="mi">2</span> <span class="c">#hours</span>
<span class="n">L7</span><span class="o">=</span><span class="mi">50</span> <span class="c">#MW</span>
<span class="c">#Energy Required in 24 hours</span>
<span class="n">E</span><span class="o">=</span><span class="n">L1</span><span class="o">*</span><span class="n">t1</span><span class="o">+</span><span class="p">(</span><span class="n">L2</span><span class="o">+</span><span class="n">L3</span><span class="p">)</span><span class="o">/</span><span class="mi">2</span><span class="o">*</span><span class="n">t2</span><span class="o">+</span><span class="p">(</span><span class="n">L3</span><span class="o">+</span><span class="n">L4</span><span class="p">)</span><span class="o">/</span><span class="mi">2</span><span class="o">*</span><span class="n">t3</span><span class="o">+</span><span class="p">(</span><span class="n">L4</span><span class="o">+</span><span class="n">L5</span><span class="p">)</span><span class="o">/</span><span class="mi">2</span><span class="o">*</span><span class="n">t4</span><span class="o">+</span><span class="p">(</span><span class="n">L5</span><span class="o">+</span><span class="n">L6</span><span class="p">)</span><span class="o">/</span><span class="mi">2</span><span class="o">*</span><span class="n">t5</span><span class="o">+</span><span class="p">(</span><span class="n">L6</span><span class="o">+</span><span class="n">L1</span><span class="p">)</span><span class="o">/</span><span class="mi">2</span><span class="o">*</span><span class="n">t6</span> <span class="c">#MWh</span>
<span class="k">print</span> <span class="s">&quot;Energy required in one day = </span><span class="si">%0.2f</span><span class="s"> MWh &quot;</span><span class="o">%</span><span class="k">E</span> 
<span class="n">DLF</span><span class="o">=</span><span class="n">E</span><span class="o">/</span><span class="n">L5</span><span class="o">/</span><span class="mi">24</span><span class="o">*</span><span class="mi">100</span> <span class="c">#%#Daily Load Factor</span>
<span class="k">print</span> <span class="s">&quot;Daily Load Factor = </span><span class="si">%0.2f</span><span class="s"> </span><span class="si">%%</span><span class="s">&quot;</span> <span class="o">%</span><span class="k">DLF</span>
<span class="c">#Plotting load curve</span>
<span class="n">T</span><span class="o">=</span><span class="n">np</span><span class="o">.</span><span class="n">array</span><span class="p">([</span><span class="mi">0</span><span class="p">,</span><span class="mi">1</span><span class="p">,</span><span class="mi">2</span><span class="p">,</span><span class="mi">3</span><span class="p">,</span><span class="mi">4</span><span class="p">,</span><span class="mi">5</span><span class="p">,</span><span class="mi">6</span><span class="p">])</span> <span class="c">#Slots</span>
<span class="n">L</span><span class="o">=</span><span class="n">np</span><span class="o">.</span><span class="n">array</span><span class="p">([</span><span class="n">L1</span><span class="p">,</span><span class="n">L2</span><span class="p">,</span><span class="n">L3</span><span class="p">,</span><span class="n">L4</span><span class="p">,</span><span class="n">L5</span><span class="p">,</span><span class="n">L6</span><span class="p">,</span><span class="n">L7</span><span class="p">])</span> <span class="c">#MW</span>
<span class="n">plot</span><span class="p">(</span><span class="n">T</span><span class="p">,</span><span class="n">L</span><span class="p">)</span>
<span class="n">ylabel</span><span class="p">(</span><span class="s">&#39;Load(MW)&#39;</span><span class="p">)</span> 
<span class="n">xlabel</span><span class="p">(</span><span class="s">&#39;0-1: 12-5am 1-2: 5-9am 2-3: 9-6pm 3-4: 6-8pm 4-5:8-10pm 5-6 :10-12pm&#39;</span><span class="p">)</span> 
<span class="n">title</span><span class="p">(</span><span class="s">&#39;Chronological Load Curve&#39;</span><span class="p">)</span> 
<span class="n">show</span><span class="p">()</span>
</pre></div>

</div>
</div>
</div>

<div class="output_wrapper">
<div class="output">


<div class="output_area"><div class="prompt"></div>
<div class="output_subarea output_stream output_stdout output_text">
<pre>Energy required in one day = 2060.00 MWh 
Daily Load Factor = 57.22 %
</pre>
</div>
</div>

<div class="output_area"><div class="prompt"></div>


<div class="output_png output_subarea ">
<img src="data:image/png;base64,iVBORw0KGgoAAAANSUhEUgAAAZEAAAEZCAYAAABWwhjiAAAABHNCSVQICAgIfAhkiAAAAAlwSFlz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=
"
>
</div>

</div>

</div>
</div>

</div>
<div class="cell border-box-sizing text_cell rendered">
<div class="prompt input_prompt">
</div>
<div class="inner_cell">
<div class="text_cell_render border-box-sizing rendered_html">
<h2 id="exa-1.9-page-15">exa 1.9 page 15<a class="anchor-link" href="#exa-1.9-page-15">&#182;</a></h2>
</div>
</div>
</div>
<div class="cell border-box-sizing code_cell rendered">
<div class="input">
<div class="prompt input_prompt">In&nbsp;[33]:</div>
<div class="inner_cell">
    <div class="input_area">
<div class=" highlight hl-ipython2"><pre><span class="o">%</span><span class="k">matplotlib</span> inline
<span class="kn">from</span> <span class="nn">matplotlib.pyplot</span> <span class="kn">import</span> <span class="n">plot</span><span class="p">,</span> <span class="n">show</span><span class="p">,</span> <span class="n">title</span><span class="p">,</span> <span class="n">xlabel</span><span class="p">,</span> <span class="n">ylabel</span><span class="p">,</span> <span class="n">subplot</span>
<span class="k">print</span> <span class="s">&quot;load duration curve in fig1&quot;</span>
<span class="k">print</span> <span class="s">&quot;the energy consumed upto different times is as &quot;</span>
<span class="n">a</span><span class="o">=</span><span class="p">[</span><span class="mi">0</span><span class="p">,</span> <span class="mi">5</span> <span class="p">,</span><span class="mi">9</span> <span class="p">,</span><span class="mi">18</span><span class="p">,</span> <span class="mi">20</span><span class="p">,</span> <span class="mi">22</span><span class="p">,</span> <span class="mi">24</span><span class="p">]</span>  <span class="c">#time in matrix format</span>
<span class="n">b</span><span class="o">=</span><span class="p">[</span><span class="mi">50</span><span class="p">,</span> <span class="mi">50</span> <span class="p">,</span><span class="mi">100</span> <span class="p">,</span><span class="mi">100</span> <span class="p">,</span><span class="mi">150</span> <span class="p">,</span><span class="mi">80</span> <span class="p">,</span><span class="mi">50</span><span class="p">]</span> <span class="c">#load in matrix format</span>

<span class="n">z</span> <span class="o">=</span> <span class="nb">range</span><span class="p">(</span><span class="mi">0</span><span class="p">,</span><span class="mi">6</span><span class="p">)</span>
<span class="k">for</span> <span class="n">x</span> <span class="ow">in</span> <span class="nb">range</span> <span class="p">(</span><span class="mi">0</span><span class="p">,</span><span class="mi">6</span><span class="p">):</span>
   <span class="n">z</span><span class="p">[</span><span class="n">x</span><span class="p">]</span><span class="o">=</span><span class="p">((</span><span class="n">b</span><span class="p">[</span><span class="n">x</span><span class="p">]</span><span class="o">+</span><span class="n">b</span><span class="p">[</span><span class="n">x</span><span class="o">+</span><span class="mi">1</span><span class="p">])</span><span class="o">/</span><span class="mi">2</span><span class="p">)</span><span class="o">*</span><span class="p">(</span><span class="n">a</span><span class="p">[</span><span class="n">x</span><span class="o">+</span><span class="mi">1</span><span class="p">]</span><span class="o">-</span><span class="n">a</span><span class="p">[</span><span class="n">x</span><span class="p">])</span>

<span class="n">et</span><span class="o">=</span><span class="mi">0</span>
<span class="n">q</span> <span class="o">=</span> <span class="nb">range</span><span class="p">(</span><span class="mi">0</span><span class="p">,</span><span class="mi">7</span><span class="p">)</span>
<span class="n">m</span> <span class="o">=</span> <span class="nb">range</span><span class="p">(</span><span class="mi">0</span><span class="p">,</span><span class="mi">7</span><span class="p">)</span>
<span class="n">ett</span> <span class="o">=</span> <span class="nb">range</span><span class="p">(</span><span class="mi">0</span><span class="p">,</span><span class="mi">6</span><span class="p">)</span>
<span class="k">for</span> <span class="n">x</span> <span class="ow">in</span> <span class="nb">range</span><span class="p">(</span><span class="mi">0</span><span class="p">,</span><span class="mi">6</span><span class="p">):</span>
    <span class="n">et</span><span class="o">=</span><span class="n">et</span><span class="o">+</span><span class="n">z</span><span class="p">[</span><span class="n">x</span><span class="p">]</span> 
    <span class="n">A</span><span class="o">=</span><span class="n">a</span><span class="p">[(</span><span class="n">x</span><span class="p">)]</span>
    <span class="n">ett</span><span class="p">[</span><span class="n">x</span><span class="p">]</span><span class="o">=</span><span class="n">et</span> 
    <span class="n">q</span><span class="p">[</span><span class="n">x</span><span class="p">]</span><span class="o">=</span><span class="n">a</span><span class="p">[</span><span class="n">x</span><span class="o">+</span><span class="mi">1</span><span class="p">]</span>
    <span class="k">print</span> <span class="s">&quot;</span><span class="se">\n</span><span class="s">from mid night upto </span><span class="si">%d</span><span class="s">,energy=</span><span class="si">%d</span><span class="s">MWh&quot;</span><span class="o">%</span><span class="p">(</span><span class="n">A</span><span class="p">,</span><span class="n">et</span><span class="p">)</span>
<span class="n">n</span> <span class="o">=</span> <span class="nb">sorted</span><span class="p">(</span><span class="nb">range</span><span class="p">(</span><span class="nb">len</span><span class="p">(</span><span class="n">b</span><span class="p">)),</span> <span class="n">key</span><span class="o">=</span><span class="k">lambda</span> <span class="n">k</span><span class="p">:</span> <span class="n">b</span><span class="p">[</span><span class="n">k</span><span class="p">],</span> <span class="n">reverse</span><span class="o">=</span><span class="bp">True</span><span class="p">)</span>
<span class="n">m</span> <span class="o">=</span> <span class="nb">sorted</span><span class="p">(</span><span class="n">b</span><span class="p">,</span> <span class="n">reverse</span><span class="o">=</span><span class="bp">True</span><span class="p">)</span>
<span class="k">print</span> <span class="s">&quot;energy curve in fig 2&quot;</span>
<span class="n">t</span><span class="o">=</span><span class="p">[</span><span class="mi">0</span><span class="p">,</span> <span class="mf">3.88</span><span class="p">,</span> <span class="mf">15.88</span> <span class="p">,</span><span class="mf">19.88</span><span class="p">,</span> <span class="mi">23</span><span class="p">]</span>
<span class="n">k</span> <span class="o">=</span> <span class="nb">range</span><span class="p">(</span><span class="mi">0</span><span class="p">,</span><span class="mi">6</span><span class="p">)</span>
<span class="k">for</span> <span class="n">j</span> <span class="ow">in</span> <span class="nb">range</span><span class="p">(</span><span class="mi">0</span><span class="p">,</span><span class="mi">6</span><span class="p">):</span>
    <span class="n">k</span><span class="p">[</span><span class="n">j</span><span class="p">]</span><span class="o">=</span><span class="n">a</span><span class="p">[(</span><span class="n">j</span><span class="o">+</span><span class="mi">1</span><span class="p">)]</span>
<span class="n">M</span> <span class="o">=</span><span class="nb">range</span><span class="p">(</span><span class="mi">0</span><span class="p">,</span><span class="mi">5</span><span class="p">)</span>
<span class="c">#rearranging for mass  curve</span>
<span class="k">for</span> <span class="n">i</span> <span class="ow">in</span> <span class="nb">range</span><span class="p">(</span><span class="mi">0</span><span class="p">,</span><span class="mi">5</span><span class="p">):</span>
    <span class="n">M</span><span class="p">[</span><span class="n">i</span><span class="p">]</span> <span class="o">=</span> <span class="n">m</span><span class="p">[</span><span class="n">i</span><span class="p">]</span>
<span class="n">Q</span> <span class="o">=</span> <span class="nb">range</span><span class="p">(</span><span class="mi">0</span><span class="p">,</span><span class="mi">6</span><span class="p">)</span>
<span class="k">for</span> <span class="n">i</span> <span class="ow">in</span> <span class="nb">range</span><span class="p">(</span><span class="mi">0</span><span class="p">,</span><span class="mi">6</span><span class="p">):</span>
    <span class="n">Q</span><span class="p">[</span><span class="n">i</span><span class="p">]</span> <span class="o">=</span> <span class="n">q</span><span class="p">[</span><span class="n">i</span><span class="p">]</span>
    
    
<span class="n">subplot</span><span class="p">(</span><span class="mi">121</span><span class="p">)</span> 
<span class="n">plot</span><span class="p">(</span><span class="n">t</span><span class="p">,</span><span class="n">M</span><span class="p">)</span> 
<span class="n">title</span><span class="p">(</span><span class="s">&quot;load duration&quot;</span><span class="p">)</span>
<span class="n">xlabel</span><span class="p">(</span><span class="s">&quot;hours&quot;</span><span class="p">)</span>
<span class="n">ylabel</span><span class="p">(</span><span class="s">&quot;MW&quot;</span><span class="p">)</span>
<span class="n">subplot</span><span class="p">(</span><span class="mi">122</span><span class="p">)</span> 
<span class="n">plot</span><span class="p">(</span><span class="n">Q</span><span class="p">,</span><span class="n">ett</span><span class="p">)</span> 
<span class="n">title</span><span class="p">(</span><span class="s">&quot;energy curve&quot;</span><span class="p">)</span>
<span class="n">xlabel</span><span class="p">(</span><span class="s">&quot;time&quot;</span><span class="p">)</span>
<span class="n">ylabel</span><span class="p">(</span><span class="s">&quot;MWh&quot;</span><span class="p">)</span>
<span class="n">show</span><span class="p">()</span>
</pre></div>

</div>
</div>
</div>

<div class="output_wrapper">
<div class="output">


<div class="output_area"><div class="prompt"></div>
<div class="output_subarea output_stream output_stdout output_text">
<pre>load duration curve in fig1
the energy consumed upto different times is as 

from mid night upto 0,energy=250MWh

from mid night upto 5,energy=550MWh

from mid night upto 9,energy=1450MWh

from mid night upto 18,energy=1700MWh

from mid night upto 20,energy=1930MWh

from mid night upto 22,energy=2060MWh
energy curve in fig 2
</pre>
</div>
</div>

<div class="output_area"><div class="prompt"></div>


<div class="output_png output_subarea ">
<img src="data:image/png;base64,iVBORw0KGgoAAAANSUhEUgAAAYcAAAEZCAYAAAB8culNAAAABHNCSVQICAgIfAhkiAAAAAlwSFlz
AAALEgAACxIB0t1+/AAAIABJREFUeJzt3XvcVXP6//HXuxJSVEJK5BDJoZooCd3jNA3jOEhICDOM
4zjV8NDtO8PQMGp+DjOGklNEDlEoxq0ocigiRESlgxRFDh2u3x+fdde2730f23uvfbiej8f9aO21
9lrrWt1r39den6PMDOeccy5RvbgDcM45l3s8OTjnnKvAk4NzzrkKPDk455yrwJODc865Cjw5OOec
q8CTQxpImiPpkAwct1TS/bV4/1pJO6U7jirON05S32ydzzmXPQ3iDqBAWPSTiePmBEmlwM5mti4Z
mNkR8UXknMskf3JwSPIvCS5WkurHHUOyYv9ceHJIM0kbSxoiaX70c6ukhtG2ppKekbRY0lJJT0tq
nbDvjpJelrRc0nigRTXnukLSl5LmSToraVuZpP4Jr8+QNCnh9VpJ50v6GPgoWjdU0heSvpX0pqQD
ovW9gIFAb0krJE1LPoeCa6IitkWSRkjaPNrWNjrf6ZI+l/SVpL9syP+zyw5JrSSNju7ZTyVdmLCt
VNKo6He9XNJ7krrUYt/HJN0v6VugX3T/T4yONUHS7eXFqpLGSrogKbZ3JR1TSdwHSJosaVl0T58e
ra/p52IWMEvSHZL+kXTspyRdWt015jtPDul3NdAV6Bj9dAWuibbVA+4Bto9+fgBuS9j3IeANYEvg
r0A/Kilaiv5gXwYcCuwa/ZuoJkVdxwD7Ah2i11OjmJtFsTwqqaGZPQfcADxsZk3MrHOKc5wZxVsC
7AQ0Tro2gB5RrIcA10pqX018LkaS6gFPA9OAVoTf2yWSDk9421HASGALYAzR77yG+x4NPGpmWxDu
t4eA14DmQClwGuvvr3uj1+WxdYyOOzZF3DsA44ChhC9YnYB3os01/Vx0BXaPrq13wrGbAYcBI2t4
jfnLzPxnA3+Az4CDo+VPgF4J2w4HPqtkv07A0mh5e2AVsGnC9geB+yvZdxhwQ8LrdsBaYKfo9UvA
WQnbzwAmJbxeC5RUc11Lgb2i5dLkWBLPAbwI/DFh267Az4SE2DY6X6uE7a8DveP+3flPlb//bsDn
SesGAsMS7onxCds6ACtrsW9Zwrby+3+ThHX3l99zwCbR/bhz9Ppm4LZK4h4IjK5kW60+F4CAz4ED
o9fnAC/U5Brz/aeoy9QypBXhZir3RbQOSY2AW4HfEL6dAzSWpOg9y8zsh4R9PwfaVHKebQlPGYnn
qa25iS8kXQ6cFcViwOZUU7SVFE/ydTcAtklYtzBheSWwWS3jddm1A9BK0rKEdfWBiQmvFyUsrwQ2
ib5R12TfeQnLrQhflH5MWDeX6P43sx8ljQL6SroOOBn4fSVxbwd8Wt3FVWHd58LMTNLDQB9gEnAK
cF+0uSbXmLc8OaTfl4Rvyh9Er7cH5kfLlxG+UXc1s8WSOgFvE76dLACaSWpkZiuj9+8ArKnkPAui
Y5fbPmn79/zyj2/LFMdY93gt6UDgCsIT0PvRuqVRbL94byXKrzsxntWEPx7Jsbn88AXhqXfXSrZX
dU/MrcG+ifsvAJpL2jThC9L2Se8ZQfjD/CrhCeX1Ks7dtZJttfpcREYC4yXdFB23vJ6juv+fvOZ1
Duk3ErhGUgtJLYBrgQeibY0J9QzfSmoODCrfycw+B94ErpO0UVQZ/LsqzjMKOEPS7tETyaCk7dOB
4yVtKmkXoH+FI/xSE8If8yWSGkq6lvDkUG4h0DZ6yqnsui+NKp8bs76OYm0V56zsWC43TAVWSLoy
uo/qS9pT0j7R9qp+f7XaN+H+L43u/+6E+98S3jMlen0z67+9p/IgcKikEyU1kLRlVEcBtf9cYGbT
gSXA3cBzZra8hteY1zw5pN/fCDf5u9HPm9E6gCHApoQbbTLwLL/8lnIKoRxzKSGpjKjsJBYqiYcA
/wNmEcr8E491K6HMfxEwnJCgErcnfzt6LvqZBcwhJLHEoqpHo3+/lvRmipCGEcqIJxIe6VcCiS03
Un3LzJl+HK6iKLH/jlA39inwFXAX6780pKrctWjfNXXY91SgO/A1oUHGI4R7ONF9wF6s/8KVKu65
wBGEJ/WvCRXGe0eba/u5KPcQcHD0b/l5qvv/yWuKKlHSf2BpGHAksNjM9kpYfyFwPqG4ZKyZXRWt
H0go714DXGRm4zMSmHM1IKkN4Q/R1oQ/GHeZ2b8UOgOeTfhDAPAXM3s22iflPRw177yXUKk6zswu
zuKl5C1JjwAzzey6hHV9gXPM7KD4IisSmarpBg4EOgMzEtb9GpgAbBS93srWt3KYDmxEKLf+BKgX
d229/xTvD6EsulO03JjQF2R3QvHdn1O8P9U9XP7layqhnglCE8te2biGfPsB9gF2JpRo/Jbw9Nox
YXsjQlPX0+KOtRh+MlasZGaTgGVJq88D/m5mq6L3lH/7OgYYaWarzGwO4YNVWYWScxlnZgstlDVj
Zt8RGhiUd1hMVdae6h7uJmlboImZTY3edx9wbEaDz18tCU1NVxCKf/5oZu8ASPoNsJhQcf1QpUdw
aZPtOod2wEGSXot6KpZX3LTil83a5rH+g+hcrCS1JTwFvxatulDSO5LukdQ0WlfZPZy8fj5+b6dk
Zs+Y2fZmtpmZtTezEQnbnjezxmZ2nFXdyMGlSbaTQwOgmZntR2g2OaqK93plpYtd1PLqMeDi6Ani
TmBHQiXkAuCWGMNzLmOy3c9hHvA4gJm9EY1j0oLwbSqxs9d2rO8bsI4kTxgu48xMAJI2AkYDD5jZ
k9G2xeXvk3Q3YfgESH0Pz4vWb5e03u9tl3Xl93VNZfvJ4UlCczAk7Qo0NLMlhDFZTo7a1+9IKH6a
muoAcVXODBo0qKjOW6zXXC7qz3EPobXMkIT12ybcjscBM6LllPewmS0ElkvqFh2zb/Q5yJl7O1d/
Fx5X+n7qImNPDpJGAj2BLSXNJbTbHwYMkzSD0Nb4dAAzmxl1jZ9J6Ih1vtX1ipxLjx6Egd7eVTQK
LfAXoE/Us90IY2r9Aaq9h88nNGXdlNCU9bmsXYVzdZSx5GBmfSrZlHLmMDO7gdCr1rnYmdkrpH6y
fraKfVLew2b2FqHjlnN5w3tI11BJSUlRnTfOc8d5ze6XcvV34XFlXsZ6SGeCJC9tchklCatlxV2a
zuv3tsuYutzX/uTgnHOuAk8OzjnnKvDk4JxzrgJPDs455yrw5OCcc64CTw7OOecq8OTgnHOuAk8O
zjnnKvDk4JxzrgJPDs455yrw5OCcc64CTw7OOecqyLvk8O23cUfgnHOFL++Sw6RJcUfgnHOFL++S
w0svxR2Bc84VPk8OzjnnKsi75PDJJ7B0adxROOdcYcu75NC9O0ycGHcUzjlX2PIuOfz611605Jxz
mebJwTnnXAXKp0nNJdmqVcaWW4a6h622ijsiV2jqMhF7ms5r+fRZdPmlLvd13j05NGgABxwAL78c
dyTOOVe48i45gBctOedcpnlycM45V0FeJodOnWDBAli4MO5InHOuMOVlcqhfHw46CMrK4o7EOecK
U8aSg6RhkhZJmpFi22WS1kpqnrBuoKSPJX0o6fDqju9FS845lzmZfHIYDvRKXimpDXAY8HnCug5A
b6BDtM8dkqqMzZODc85lTsaSg5lNApal2PRP4MqkdccAI81slZnNAT4BulZ1/L32CmMszZ+fjmid
c84lymqdg6RjgHlm9m7SplbAvITX84DWVR2rXj3o2dOfHpxzLhOylhwkNQL+AgxKXF3FLtV2F/Wi
Jeecy4wGWTzXzkBb4B1JANsBb0nqBswH2iS8d7toXQWlpaXrlnfYoYSXXirJSLCuOJSVlVHmzd6c
qyCjYytJags8bWZ7pdj2GdDFzJZGFdIPEeoZWgMvALskDzaTPP6MGbRsCVOnwg47ZOwyXBHxsZVc
vvnuO7j66vCz9dap35NTYytJGglMBnaVNFfSmUlvWfdJMLOZwChgJvAscH5NPikSlJR40ZJzrjjN
nAldu8KKFdC4cXqPncnWSn3MrJWZbWxmbcxseNL2ncxsacLrG8xsFzNrb2bP1/Q8Xu/gMkFSG0kv
SXpf0nuSLorWN5c0QdIsSeMlNU3YJ2VfHUldJM2Itg2N43pc4XnwwdAo54orYNgwaNQovcfPuyG7
k+P96CM47DD4/PPwJOHchih//JbUEmhpZtMlNQbeAo4FzgSWmNlgSVcBzcxsQELR6L6sLxptZ+Fg
U4ELzGyqpHHAv8zsuaTzerGSq5Eff4RLL4UXX4THHoO9965+n5wqVsqWXXeF1avh00/jjsQVEjNb
aGbTo+XvgA8If/SPBkZEbxtBSBiQuq9ON0nbAk3MbGr0vvsS9nGuVj79FHr0gCVL4M03a5YY6irv
k4PkRUsus6KGFZ2B14FtzGxRtGkRsE20XFlfneT186mmD49zqYwZA927Q79+MGoUbL55Zs+Xzaas
GVOeHM4+O+5IXKGJipRGAxeb2QollF1GRUZpKwtKbKZdUlJCSUlJug7t8tiqVaEl0iOPhATRrVv1
+6SjiXbe1zkAzJ4NBx4YhtLwege3IRLLZiVtBDwDPGtmQ6J1HwIlZrYwKjJ6yczaSxoAYGY3Ru97
jtDh8/PoPbtH6/sAPc3sj0nn9ToHV8H8+XDyydCkCdx/P2y5Zd2OU5R1DgA77RSmD501K+5IXKFQ
eES4B5hZnhgiY4B+0XI/4MmE9SdLaihpR6AdMNXMFgLLJXWLjtk3YR/nKvXii7DvvtCrFzzzTN0T
Q10VRLFSYr3DbrvFHY0rED2A04B3JU2L1g0EbgRGSeoPzAFOgtBXR1J5X53V/LKvzvnAvcCmwLjk
lkrOJVq7Fq6/Hu68Ex54AA4+OJ44CqJYCeDee+HZZ0O5nHN15T2kXZyWLIHTToMffoCRI6FVq/Qc
t2iLlSA8OZSVhSE1nHMu30yZAl26hGmQX3wxfYmhrgqiWAnC2EqbbRa6k++xR9zROOdczb36Khx7
bOjpfNRRcUcTFMyTA3h/B+dc/vn6azjllNxKDODJwTnnYmMGZ50FJ5yQW4kBCqhCGkKb4I4dYfHi
MFOcc7XlFdIum4YODQPovfIKNGyYufMUdYU0QOvW0Lw5zJgRdyTOOVe1N98MTVYffjiziaGuCio5
gBctOedy37ffQu/ecPvtoRNvLvLk4JxzWWQG554Lhx8OJ54YdzSVK5imrOVKSuC882DNGqhfP+5o
nHPul/77X/jwQ3jttbgjqVrBPTm0bAnbbgvTp8cdiXPO/dKMGetHWN1007ijqVrBJQfwoiXnXO75
/ns46SS45RZo3z7uaKrnycE557LgggvCXAynnx53JDVTUP0cyi1ZAjvvHHoeNii4WhWXSd7PwWXC
fffB3/8Ob7wBjRtn//xF38+hXIsWYaylt96KOxLnXLH76CO47LJQzxBHYqirgkwO4EVLzrn4/fBD
qGf4299g773jjqZ2PDk451yGXHZZqHw+99y4I6m9gqxzAFi2LBQtLVmSm13TXW7yOgeXLo8+CgMG
wNtvwxZbxBuL1zkkaNYM2rWDqVPjjsQ5V2w+/RT+9KdQzxB3Yqirgk0O4EVLzrns+/lnOPlk+Mtf
YJ994o6m7jw5OOdcGg0cGEZpuPjiuCPZMAVb5wCwfHmYh3XJEthkkwwG5gqG1zm4DfHMM6E4adq0
MH1ArsipOgdJwyQtkjQjYd0/JH0g6R1Jj0vaImHbQEkfS/pQ0uHpiGHzzcN80rk+wJVzLv/Nmwdn
nw0PPZRbiaGuMlmsNBzolbRuPLCHmXUEZgEDASR1AHoDHaJ97pCUlti8aMk5l2nl033+6U/Qo0fc
0aRHxpKDmU0CliWtm2Bma6OXrwPbRcvHACPNbJWZzQE+AbqmIw5PDs65TPv3v+Gbb0J9Q6GIc+Sh
s4CR0XIrILHwZx7QOh0n6dEjtDNeuRIaNUrHEZ1zbr3Zs+Haa2HSpMIayy2WS5F0NfCzmT1UxdtS
1s6VlpauWy4pKaGkpKTKczVuDB07wuTJcOihtY/VFbaysjLKysriDsPlqTVroF+/MEdDPgzDXRsZ
ba0kqS3wtJntlbDuDOAc4BAz+zFaNwDAzG6MXj8HDDKz15OOV6cWHddcE8oEr7++btfhioe3VnK1
8Y9/wNix8L//Qb0c7hiQU62VUpHUC7gCOKY8MUTGACdLaihpR6AdkLa+zV7v4JxLt/ffh8GDYfjw
3E4MdZWxJwdJI4GeQAtgETCI0DqpIbA0etsUMzs/ev9fCPUQq4GLzez5FMes07erH36ArbaChQvz
a8hcl33+5OBqYtUq2G8/+OMf4Zxz4o6menW5rwu6E1yinj1DS4JeyY1rnUvgycHVRGlpGLdt7FhQ
1u+W2sv5YqU4edGScy4d3nwT7rwT7r47PxJDXXlycM65GvrxxzAH9JAhYWieQlY0xUo//RSmD503
L3+H0HWZ58VKriqXXw5ffBGG4s6npwYvVqrCxhtD166ho4pzztXWpElh3KQ77sivxFBXRZMcwIuW
nHN18913cMYZYZiMFi3ijiY7PDk4l0IlowqXSponaVr089uEbSlHFZbURdKMaNvQbF+HS48rroCD
DoKjj447kuwpquSw777wySewdGn173VFL9Wowgb808w6Rz/PQqWjCpcXPNwJ9DezdkC7qCOoyyPP
Pw/jxoVK6GJSVMmhYUPo3h0mTow7EpfrUo0qHElV2pxqVOFukrYFmphZeW//+4BjMxGvy4xly8Ic
DcOGFV9DlqJKDuBFS26DXRhNVnWPpKbRulaEkYTLlY8qnLx+Pmkabdhlx0UXwbHHwiGHxB1J9nly
cK7m7gR2BDoBC4Bb4g3HZdLjj8Prr8NNN8UdSTwKaPTxmunSBT7/HL76Koy35FxNmdni8mVJdwNP
Ry/nA20S3rod4YlhPusntCpfP7+y49d2OHqXOYsXh1ndHn88P+eBScdQ9EXTCS7RkUfCmWfCCSek
IShXUBI7CyUPOS9pWzNbEC1fCuxrZqdEFdIPEWYvbA28AOxiZibpdeAiwijDY4F/mdlzKc7rneBy
hBkcf3yYn+Hvf487mvSoSye4ontygPVFS54cXGUSRxWWNJcwqnCJpE6EVkufAX8AMLOZkkYBMwmj
Cp+f8Jf+fOBeYFNgXKrE4HLLAw+E2d0efjjuSOJVlE8Ob70FffvCzJlpCMoVFB8+o7jNnRuKnseP
h06d4o4mfXz4jBrq1AkWLAjzOzjnHIR5X046CS65pLASQ10VZXKoXz/0dvSpg51zAGvXhnrItm3D
vC+uSJMDeJNW59x6gwaF0VaHDy+OQfVqwpODc66o3XcfPPggPPkkbLJJ3NHkjqKskIbwGLn11vDO
O9Da+6y6iFdIF5eJE0OrxbIy6NAh7mgyxyuka6FevTCvtD89OFecPv44VEA/9FBhJ4a6KtrkAF60
5FyxWro0dIb961/h0EPjjiY3eXLw5OBcUfn559AD+phj4Jxz4o4mdxV1cujQAb7/Poy15ArT6NGj
adeuHZtvvjlNmjShSZMmbL755nGH5WJiBueeC82awY03xh1Nbivq5CBBSYk/PRSyK6+8kjFjxrB8
+XJWrFjBihUrWL58edxhuZj8/e/w3nthiIz69eOOJrdVmhwkNctmIHHxoqXC1rJlS3bfffe4w3A5
YNSoMAf0mDGw2WZxR5P7Km3KKukrYAnwCjAZeNXMZmUxtlQxpb2530cfwWGHhaIl7/xSOEaPHg3A
xIkTWbhwIcceeywNGzYEQrO+448/PuV+3pS1ML32Wpj/ecIE6Ngx7miyry73dZX9HCTtBuwf/XQH
tgamAJPNLOtTYGTiA2QW+jlMmgQ775zWQ7sYnXHGGZRP42xm65bLDR8+POV+nhwKz5w5sP/+8N//
hhZKxSjtySHp4DsDRwIXA63NLOt9CTP1ATr11FC8dPbZaT+0i8nSpUtp3rx5rffz5FBYvv02JIY/
/CFM+Vms0toJTlIPSVdIelzSG8ANQH3gVKDaqbYlDZO0SNKMhHXNJU2QNEvS+IQ5eJE0UNLHkj6U
dHhtLmJDeb1D4Wnfvj0dOnTgnHPOYfjw4cyaFWuJqIvBqlVw4onh833hhXFHk3+qqnNYC0wDbgWe
MLPva3Vg6UDgO+C+hJm0BgNLzGywpKuAZmY2IGEmrX1ZP5PWrma2NumYGfl2NXs2HHggzJ/v9Q6F
5KOPPmLy5MlMnjyZKVOmsHjxYrp3787+++/PVVddlXIff3IoDGZw3nlhML0xY6BBUU5rtl5ai5Uk
bcv6uoauwEbAW4Q6hylm9mkNAmrLL6dZ/BDoaWaLJLUEysysvaSBwNryegxJzwGlZvZa0vEy8gEy
gx12CJVVu+2W9sO7HDB79mzGjh3L0KFDmT9/Pj/++GPK93lyKAy33hpGWH3lFfBuLWmeJjSaK3d0
9IOkRsBZwHXAjoQiptraxswWRcuLgG2i5VZAYiKYR3iCyAopPHr++99w8MHZOmt+6tgRtt8+7iiq
9+qrr657Ypg7dy477bQT++23Hw8++CCdO3eOOzyXQWPGwM03w5Qpnhg2RKXJQdIWrG+ptD/QGfgY
eBp4dUNPHE2+XtVXpZTbSktL1y2XlJRQUlKyoaEAcNZZ4Yb65JO0HK4grVoFs2bBjBm53078wAMP
pHPnzlx66aUcd9xxbFZJwGVlZZT5rE8F4+23oX9/GDcuP77E5LKqipWWEDVbJSSDN81sZa0OnrpY
qcTMFkbFVi9FxUoDAMzsxuh9zwGDzOz1pOP5o3fM+vaFLbeEIUPijqRqCxYsWPfkMHXqVFatWkWX
Ll3o3r073bt3Z6eddkq5nxcr5a9586B793Bv/v73cUeTWzLalLUuUiSHwcDXZnZTlBCaJlVId2V9
hfQuyZ8W/wDF7+uvYc894bHHoEePuKOpuZUrVzJs2DCGDBnCZ599xpo1a1K+z5NDfvruu9Co5OST
oZK2BkUtrXUOkp4mFO2kOqCZ2dHVBDMS6Am0kDQXuBa4ERglqT8wBzgpOthMSaOAmcBq4Hz/pOSm
LbeE224Lj+7Tp+fuzFnffvvtupZKkydPZtq0abRr146jjjqKHvmU1Vy11qyBU06BLl3gyivjjqZw
VDd8xjxgJFBevFOeKMzMXs58eBVi8pyRI044Adq1CwOZ5aIWLVqsa7bao0cP9tlnHxo1alTtfv7k
kH/+/Ocwo+Ozz0I0QopLku6mrA2Aw4A+wF7AWGCkmb2/oYHWlX+AcsfChaHl0rhx4RtbofDkkF/u
vBOGDg0tk5oVxVChdZOxOgdJGxOSxM2E/ge31S3EDeMfoNxy//2hhdcbb+TeN7ajjjqq/ANRYZsk
xowZk3I/Tw754/nnoV8/ePVVHxetOpkYeG8TwnhKJwNtgTHAMDObvwFx1pl/gHKLGfzud9CtG1x7
bdzR/NJWW23FdtttR58+fejWrRvAukQhiZ49e6bcz5NDfnjvvdA36Ykn4IAD4o4m96W7WOl+YA9g
HPCImc1I+cYs8g9Q7pk7F371qzA21Z57xh3NeqtXr2bChAmMHDmSGTNmcOSRR9KnTx/22GOPKvfz
5JD7Fi6E/faD668Pg2a66qU7OawFKhtPycws630P/QOUm+66C+6+GyZPzs0xbH766SdGjhzJ5Zdf
TmlpKRdccEGl7/XkkNt++CHM3njEETBoUNzR5I+c6+eQbv4Byk1mcOih0KsXXHFF3NGs9+OPPzJ2
7Fgefvhh5syZw9FHH81ZZ51F69aVj8ziySF3rV0b+jFstFGY5tMHyaw5Tw4uNp9+Cl27hqeHXXeN
Oxro27cv77//PkcccQS9e/dmr732qtF+nhxy19VXw8svwwsv5G7/mlzlycHFaujQ0HP65ZehXqUz
hWRHvXr1Kh1PSRLLly+vdJsnh9wzfDj87W9hus+ttoo7mvzjycHFas2aMITBqafCn/4UdzR148kh
97z0EvTuDRMnQvv2cUeTnzw5uNh9+GFoWvjmm9C2bdzR1J4nh9zy0Udw0EEwcqQPp78h0jpNqHN1
0b49XHYZnHtuqKh2rq6WLAn9aG64wRNDHDw5uLS7/PIweuvw4XFH4vLVTz/B8ceHobf79487muLk
xUouI955Bw47LIzc2qpV3NHUnBcrxc8MTj8dVq6ERx+Nv3FDIfBiJZczOnaEP/4x/OTj3zxJwyQt
kjQjYV1zSRMkzZI0XlLThG0DJX0s6UNJhyes7yJpRrRtaLavIx/97W+h7ur++z0xxMn/613GXH11
6P/w8MNxR1Inw4FeSesGABPMbFfgxeg10WRVvYEO0T53SOu6aN0J9DezdkA7ScnHdAlGjgy97ceM
gRqMsO4yyJODy5iNN4Zhw+DSS+Grr+KOpnbMbBKwLGn10cCIaHkEcGy0fAxhOPtVZjYH+AToFk2F
28TMpkbvuy9hH5dk8mS4+GJ45hnYdtu4o3GeHFxGde0a5p2+8MK4I0mLbcxsUbS8CNgmWm5FmBir
3DzCdLfJ6+dH612STz8Nlc8jRkANO7O7DPPk4DLuuuvgrbfgySfjjiR9otrjPKxNyT3ffBOarF5z
Dfz2t3FH48rl4BiartA0agT33AN9+kDPnnk9Y9ciSS3NbGFUZLQ4Wj8faJPwvu0ITwzzo+XE9ZXO
hVJaWrpuuaSkhJKSkvREncNWrQpTzh52WP72qs9FZWVllJWVbdAxvCmry5oLLgjNE4cNizuSyiU2
+ZPUFnjazPaKXg8GvjazmyQNAJqa2YCoQvohoCuh2OgFYBczM0mvAxcBUwlT7f7LzJ5Lcd6iu7fN
QmfJBQvgqaegfv24IypcPnyGy2krVoTy5P/8B37zm7ijSa38QyRpJNATaEGoX7gWeAoYBWwPzAFO
MrNvov3+ApwFrAYuNrPno/VdgHuBTYFxZnZRJectunv75pvD0NuTJkGTJnFHU9g8ObicN358+LY4
Y0Zu/kHwTnDZ8cQToZHClCnQpk3173cbxpODywtnnQWbbgq33x53JBV5csi8t94KE0M99xx06RJ3
NMXBk4M/oWGpAAARRElEQVTLC8uWheKlBx8MFdS5xJNDZs2dC927w223wbHe4yNrfPgMlxeaNQtP
DWefHSqoXXFYsSI0Wb3kEk8M+cCfHFxs+vSB1q1DxWSu8CeHzFi9Go45Jvy+//Mfn/8527xYyeWV
r74KxUtPPQXdusUdTeDJITMuvhhmzoRx42CjjeKOpvh4sZLLK1ttBUOGhArqn36KOxqXKbfdBhMm
hOG3PTHkj1iSQzS88fvRUMYPSdq4quGQXeHq3RvatYPrr487EpcJ48aF3+3YsdDUP9F5JevFSlGv
0/8Bu5vZT5IeAcYBewBLzGywpKuAZmY2IGnfgn70LlZffgmdOoVvlx07xhuLFyulz7vvwqGHhjG1
9t8/7miKW74UKy0HVgGNJDUAGgFfUvlwyK7AtWoFN90EZ54Zxtpx+W/BAjjqKBg61BNDvsp6cjCz
pcAtwBeEpPCNmU2g8uGQXRE444xQB5FLLZdc3axcCUcfHZoq9+kTdzSurrI+KquknYFLgLbAt8Cj
kk5LfE80YFnKZ+xiHLmyGEhw112hWOn882GLLbJz3nSMXunWW7s2zN+x++5hCG6Xv+Koc+gNHGZm
Z0ev+wL7AQcDv04YDvklM2uftG/Blcu6XzrmmDDpy+mnx3N+r3PYMAMGhBndJkwIMwG63JAvdQ4f
AvtJ2jSaZ/dQYCbwNNAvek8/oICmhnE11bs3PPJI3FG4urj7bhg9Ogyq54kh/8XSCU7SlYQEsBZ4
GzgbaEIlwyEn7FcQ365c5VasgO22g88+g+bNs39+f3KomxdfhFNOgYkTYbfd4o7GJfMe0q4gnHBC
mC6yf//sn9uTQ+198EEYQHHUKPAqwNyUL8VKzlXJi5byx1dfhcH0Bg/2xFBo/MnB5ZyVK0Pfh1mz
YOuts3tuf3KouR9/DJ3cevb0Hu65zp8cXEFo1CgUK40eHXckrjJmodivVSv461/jjsZlgicHl5NO
PtmLlnLZddfB7NkwYgTU878iBcmLlVxO+ukn2HZbeO+98O00W7xYqXoPPghXXw2vvw7b+DgGecGL
lVzB2HjjMDbPY4/FHYlL9MorcOml8MwznhgKnScHl7O81VJumT07NDO+/37Yc8+4o3GZ5sVKLmf9
/HMoUpo2Ddq0yc45vVgptWXLoHv3MKPbeefFHY2rLS9WcgWlYcMwEf2oUXFHUtx+/jmMd3XEEZ4Y
ioknB5fTeveGhx+OO4riZRYSQuPG8I9/xB2NyyZPDi6n/frX8PnnobzbZd/gwfD22/DQQ1C/ftzR
uGzy5OByWoMGoRLUi5ay77HH4Lbb4Omnw5ODKy6eHFzO81ZL2Td1aihOGjMmjJLrio8nB5fzDjgA
Fi+Gjz6KO5Li8MUXcNxxcM890Llz3NG4uHhycDmvfn048UR/esiG5cvhyCPh8svDPNCueHlycHnB
i5Yyb/Xq8P98wAFwySVxR+Pi5snB5YX99guzxL33XtyRFCaz0MFt7Vr4179AWe8G6HKNJweXF+rV
g5NO8j4PmfL//h+8/HJoFbbRRnFH43KBJweXN8qH8c7hUSby0jPPwI03hn+32CLuaFyu8OTg8kaX
LqHYY9q0uCMpHNOnw5lnwuOPQ9u2cUfjcoknB5c3JK+YTqcPPgjDot9+e6jTcS6RJweXV3r3DuXi
cRctSZoj6V1J0yRNjdY1lzRB0ixJ4yU1TXj/QEkfS/pQ0uHxRR5MmgQlJWHu55NOijsal4s8Obi8
svfeYSKgqVPjjgQDSsyss5l1jdYNACaY2a7Ai9FrJHUAegMdgF7AHZJi++yNGhVGWX3gATj99Lii
cLnOk4PLKzlWtJTc4PNoYES0PAI4Nlo+BhhpZqvMbA7wCdCVLDODW26Byy6DCRPgsMOyHYHLJ54c
XN4pL1pauzbWMAx4QdKbks6J1m1jZoui5UVA+USarYB5CfvOA1pnJ8xgzZrQj+Hee2HyZOjYMZtn
d/moQdwBOFdbHTpAs2bw6qtw4IGxhdHDzBZI2gqYIOnDxI1mZpKqqhmpsK20tHTdcklJCSUlJWkJ
9Icf4NRT4ZtvQl1D06bV7+PyW1lZGWVlZRt0DJ8m1OWl66+HBQvCkNLpVJfpFCUNAr4DziHUQyyU
tC3wkpm1lzQAwMxujN7/HDDIzF5POEZG7u0lS0KLpJ13DgPpbbxx2k/h8oBPE+qKRu/eYb6BNWuy
f25JjSQ1iZY3Aw4HZgBjgH7R2/oBT0bLY4CTJTWUtCPQDsh4lfrs2bD//mHCpPvu88TgaieW5CCp
qaTHJH0gaaakblU1A3Qu2S67QOvWYciHGGwDTJI0HXgdeMbMxgM3AodJmgUcHL3GzGYCo4CZwLPA
+Zl+BJ46NQyg9+c/ww03hOFHnKuNWIqVJI0AXjazYZIaAJsBVwNLzGywpKuAZmY2IGk/L1Zy6wwe
HL4d/+c/6TtmXR6/03TetN3bY8ZA//4wbFgoUnKuTsWl2f5jK2kLYJqZ7ZS0/kOgp5ktktQSKDOz
9knv8eTg1pkzB/bdF778Mn2DxeV7crjzTvjrX+Gpp8L/jXOQP3UOOwJfSRou6W1J/43KbStrBuhc
Sm3bhorW//0v7kjit3YtDBwIt94aWiR5YnAbKo7k0AD4FXCHmf0K+J6oJ2m56CuUPyK4auVQh7jY
/PQT9O0b6l8mTw4J07kNFUc/h3nAPDN7I3r9GDAQWCipZUIzwMWpds5UW3CXn048MRSj3Hln3Vrj
pKM9eJy++SbM99y8Obz4Imy6adwRuUIRV4X0ROBsM5slqRRoFG362sxuitqFN/UKaVcTBx0EV1yR
nsrXfKpz+OILOOIIOOQQ+Oc/w1zbzqWSFxXSAJI6AncDDYHZwJlAfUJzv+2BOcBJZvZN0n6eHFwF
t98OU6aEgeQ2VL4kh+nTQzK89NLw49N6uqrkTXKoK08OLpVFi6B9+9BqaUOLVfIhOUyYEIbDuO02
H27b1Uy+tFZyLq222QZ+9St49tm4I8m8e++F006D0aM9MbjM8uTgCkKht1oyg//7P7juOigri3XA
QVckvFjJFYQlS0ITzi+/hM02q/txcrFYadUqOO+8MHf22LHQsmWWg3N5z4uVXNFq0QK6d4enn447
kvT67js4+uiQ9F5+2RODyx5PDq5gFFrR0sKF0LMnbLddGC+pceO4I3LFxIuVXMH45hvYYQeYOxc2
37xux8iVYqUPPgh9GPr3h6uv9qaqbsN4sZIrak2bhm/aTz0VdyQbZtIkKCmB0lK45hpPDC4enhxc
Qcn3oqVRo+D3vw8d+vr1q/79zmWKFyu5grJiRSijnzMnzDNdW3EWK918szFkCDzzDHTsmO0IXCHz
YiVX9Jo0gUMPhSeeiDuS2hs+PIyq6onB5QJPDq7g5GvR0iuvQJs2cUfhXODFSq7gfP89tGoFn3wC
W21Vu31zpbWSc+nkxUrOEXpIH3FEGH/IOVc3nhxcQcrXoiXncoUnB1eQevUKQ2qsXh13JM7lJ69z
cC6B1zm4QuR1Ds4559LCk4NzzrkKPDk455yrwJODc865Cjw5OOecq8CTg3POuQo8OTjnnKvAk4Nz
zrkKPDk455yrwJODc865Cjw5OOecq8CTg3POuQpiSw6S6kuaJunp6HVzSRMkzZI0XlLTuGJzLt0k
9ZL0oaSPJV0VdzzOVSfOJ4eLgZlA+VCUA4AJZrYr8GL0OmeUlZUV1XnjPHec15wJkuoDtwG9gA5A
H0m7xxtVzeTq78LjyrxYkoOk7YAjgLuB8mFkjwZGRMsjgGNjCK1SxfiHshivOUO6Ap+Y2RwzWwU8
DBwTc0w1kqu/C48r8+J6crgVuAJYm7BuGzNbFC0vArbJelTOZUZrYG7C63nROudyVtaTg6TfAYvN
bBrrnxp+IZr1xGc+cYXC72WXd7I+E5ykG4C+wGpgE2Bz4HFgX6DEzBZK2hZ4yczaJ+3rHzKXceme
CU7SfkCpmfWKXg8E1prZTQnv8XvbZVRt7+tYpwmV1BO43MyOkjQY+NrMbpI0AGhqZjlVKe1cXUhq
AHwEHAJ8CUwF+pjZB7EG5lwVGsQdAOsfuW8ERknqD8wBTootIufSyMxWS7oAeB6oD9zjicHlulif
HJxzzuWmvOkhHWcnIklzJL0bddqbmsHzDJO0SNKMhHUZ7xxYyXlLJc2LrnmapF7pPm90njaSXpL0
vqT3JF0Urc/odVdx3qxcd1IsWbm/ahBHLPdfHePK+u8pRVyx3LsbEFft/s/MLOd/CI/inwBtgY2A
6cDuWTz/Z0DzLJznQKAzMCNh3WDgymj5KuDGLJ13EPDnLFxzS6BTtNyYUDa/e6avu4rzZuW647i/
6ngfZPz+q2NcWf891eIeivX/LF33dr48OeRCJ6K0tmBJxcwmAcuSVme8c2Al54XsXPNCM5seLX8H
fEDoA5DR667ivJCF604hjnP+Qlz3X3XivD+rEte9uwFxQS3+z/IlOcTdiciAFyS9KemcLJ4X4u0c
eKGkdyTdk41HY0ltCd8QXyeL151w3teiVVm9buK9v6qTy51Ts/17qlRc9251NuTezpfkEHeteQ8z
6wz8FviTpAPjCMLCc2K2/i/uBHYEOgELgFsyeTJJjYHRwMVmtiJxWyavOzrvY9F5vyPL1x3Jifur
Olm+/6oTx+8ppbju3RrGVed7O1+Sw3ygTcLrNoSnh6wwswXRv18BTxCKubJlkaSWAFHnwMXZOKmZ
LbYIYQysjF2zpI0IH677zezJaHXGrzvhvA+Unzeb110u5vurOrHcf9WJ4/eUSlz3bi3iqvO9nS/J
4U2gnaS2khoCvYEx2TixpEaSmkTLmwGHAzOq3iutxgD9ouV+wJNVvDdtopu63HFk6JolCbgHmGlm
QxI2ZfS6Kztvtq474Xxx31/VieX+q062f0+VxBDLvVvXuGr9f5bNWvQN+SE8cn9EaLU0MIvn3ZHQ
Omo68F4mzw2MJPSg/ZlQx3Im0Bx4AZgFjCf0HM/0ec8C7gPeBd4h3NzbZOiaDyAMwDgdmBb99Mr0
dVdy3t9m67rjuL9y9f7L5fszF+/dOsZV63vbO8E555yrIF+KlZxzzmWRJwfnnHMVeHJwzjlXgScH
55xzFXhycM45V4EnB+eccxV4csgTUQfAXOoc5VxaSdpC0nnR8raSHo07pmLmyaGIKUxf6VyuaAac
D2FIETM7MeZ4iponh/xSX9Jd0QQez0vaRFInSa9FIy0+Xj7SoqQySV2i5RaSPouWz5A0RtKLwARJ
LSVNjCb/mCHpgBivzxW3G4Gdo3txVPmTcnTPPhlNnPOZpAskXS7pbUlTJDWL3rezpGej0W0nStot
1qvJc54c8ks74DYz2xP4Bvg9Ybz4K8ysI2GslEHRe6saDbIz8Hsz+zVwKvCchVFB9yZ0uXcuDlcB
s6N78YqkbXsQxgPaF7geWG5mvwKmAKdH77kLuNDM9on2vyMrURcoL1bIL5+Z2bvR8lvAzoRxWyZF
60YANSmnHW9m30TLU4Fh0SiOT5rZO2mN2LmaUyXLAC+Z2ffA95K+AZ6O1s8A9o4GLdwfeDSMOwdA
w0wGW+j8ySG//JSwvAZInqwj8QO1mvW/302S3reyfCFKLAcShkW/V1Lf9ITqXFol3vtrE16vJXzJ
rQcsM7POCT97ZDvIQuLJIb99CyxNqCfoC5RFy3OAfaLlEyo7gKTtga/M7G7CGO+dMxKpc9VbATSp
5T4CsDDJzmeSToAwbLWkvdMcX1HxYqX8klyHYMAZwL8lNQJmE4ZZBrgZGCXpXGBswr7JdRElwBWS
VhE+nKfjXAzM7GtJr0YV0R9Q+T2bvFz++lTgTknXABsRhvp+F1cnPmS3c865CrxYyTnnXAWeHJxz
zlXgycE551wFnhycc85V4MnBOedcBZ4cnHPOVeDJwTnnXAWeHJxzzlXw/wGo6EfWAVPtJwAAAABJ
RU5ErkJggg==
"
>
</div>

</div>

</div>
</div>

</div>
<div class="cell border-box-sizing text_cell rendered">
<div class="prompt input_prompt">
</div>
<div class="inner_cell">
<div class="text_cell_render border-box-sizing rendered_html">
<h2 id="exa-1.10-page-15">exa 1.10 page 15<a class="anchor-link" href="#exa-1.10-page-15">&#182;</a></h2>
</div>
</div>
</div>
<div class="cell border-box-sizing code_cell rendered">
<div class="input">
<div class="prompt input_prompt">In&nbsp;[34]:</div>
<div class="inner_cell">
    <div class="input_area">
<div class=" highlight hl-ipython2"><pre><span class="kn">from</span> <span class="nn">__future__</span> <span class="kn">import</span> <span class="n">division</span>
<span class="n">E</span><span class="o">=</span><span class="mi">438</span><span class="o">*</span><span class="mi">10</span><span class="o">**</span><span class="mi">4</span> <span class="c">#kWh</span>
<span class="n">LF</span><span class="o">=</span><span class="mi">20</span> <span class="c">#% annual</span>
<span class="n">CF</span><span class="o">=</span><span class="mi">15</span> <span class="c">#%#Capacity Factor</span>
<span class="n">Lmax</span><span class="o">=</span><span class="n">E</span><span class="o">/</span><span class="p">(</span><span class="n">LF</span><span class="o">/</span><span class="mi">100</span><span class="p">)</span><span class="o">/</span><span class="mi">24</span><span class="o">/</span><span class="mi">365</span> <span class="c">#kW</span>
<span class="n">Lmax</span><span class="o">=</span><span class="n">Lmax</span><span class="o">/</span><span class="mi">1000</span> <span class="c">#MW</span>
<span class="n">C</span><span class="o">=</span><span class="n">Lmax</span><span class="o">/</span><span class="n">CF</span><span class="o">*</span><span class="n">LF</span> <span class="c">#MW#Plant Capacity</span>
<span class="k">print</span> <span class="s">&quot;Plant Capacity = </span><span class="si">%0.2f</span><span class="s"> MW &quot;</span><span class="o">%</span><span class="k">C</span> 
<span class="n">RC</span><span class="o">=</span><span class="n">C</span><span class="o">-</span><span class="n">Lmax</span> <span class="c">#MW#Reserve Capacity</span>
<span class="k">print</span> <span class="s">&quot;Reserve Capacity = </span><span class="si">%0.2f</span><span class="s"> MW&quot;</span><span class="o">%</span><span class="k">RC</span>
</pre></div>

</div>
</div>
</div>

<div class="output_wrapper">
<div class="output">


<div class="output_area"><div class="prompt"></div>
<div class="output_subarea output_stream output_stdout output_text">
<pre>Plant Capacity = 3.33 MW 
Reserve Capacity = 0.83 MW
</pre>
</div>
</div>

</div>
</div>

</div>
<div class="cell border-box-sizing text_cell rendered">
<div class="prompt input_prompt">
</div>
<div class="inner_cell">
<div class="text_cell_render border-box-sizing rendered_html">
<h2 id="exa-1.11-page-16">exa 1.11 page 16<a class="anchor-link" href="#exa-1.11-page-16">&#182;</a></h2>
</div>
</div>
</div>
<div class="cell border-box-sizing code_cell rendered">
<div class="input">
<div class="prompt input_prompt">In&nbsp;[35]:</div>
<div class="inner_cell">
    <div class="input_area">
<div class=" highlight hl-ipython2"><pre><span class="n">L1</span><span class="o">=</span><span class="mi">10000</span> <span class="c">#kW</span>
<span class="n">L2</span><span class="o">=</span><span class="mi">6000</span> <span class="c">#kW</span>
<span class="n">L3</span><span class="o">=</span><span class="mi">8000</span> <span class="c">#kW</span>
<span class="n">L4</span><span class="o">=</span><span class="mi">7000</span> <span class="c">#kW</span>
<span class="n">df</span><span class="o">=</span><span class="mf">1.5</span> <span class="c">#diversity factor</span>
<span class="n">LF</span><span class="o">=</span><span class="mi">65</span> <span class="c">#%#Load Factor</span>
<span class="n">Dinc</span><span class="o">=</span><span class="mi">60</span> <span class="c">#%#Increase in maximum demand</span>
<span class="n">L</span><span class="o">=</span><span class="n">L1</span><span class="o">+</span><span class="n">L2</span><span class="o">+</span><span class="n">L3</span><span class="o">+</span><span class="n">L4</span> <span class="c">#kW#Sum </span>
<span class="n">L</span><span class="o">=</span><span class="n">L</span><span class="o">/</span><span class="mi">1000</span> <span class="c">#MW</span>
<span class="n">Dmax</span><span class="o">=</span><span class="n">L</span><span class="o">/</span><span class="n">df</span> <span class="c">#MW</span>
<span class="k">print</span> <span class="s">&quot;Maximum demand on station = </span><span class="si">%0.3f</span><span class="s"> MWh &quot;</span> <span class="o">%</span><span class="k">Dmax</span>
<span class="n">E</span><span class="o">=</span><span class="n">Dmax</span><span class="o">*</span><span class="mi">365</span><span class="o">*</span><span class="mi">24</span><span class="o">*</span><span class="n">LF</span><span class="o">/</span><span class="mi">100</span> <span class="c">#MWh#Annual Energy</span>
<span class="k">print</span> <span class="s">&quot;Annual Energy Supplied = </span><span class="si">%0.0f</span><span class="s"> MWh &quot;</span><span class="o">%</span><span class="k">E</span> 
<span class="n">Din_max</span><span class="o">=</span><span class="n">Dinc</span><span class="o">/</span><span class="mi">100</span><span class="o">*</span><span class="n">Dmax</span> <span class="c">#MW</span>
<span class="n">C</span><span class="o">=</span><span class="n">Dmax</span><span class="o">+</span><span class="n">Din_max</span> <span class="c">#MW</span>
<span class="k">print</span> <span class="s">&quot;Installed Capacity = </span><span class="si">%0.3f</span><span class="s"> MW&quot;</span><span class="o">%</span><span class="k">C</span>
</pre></div>

</div>
</div>
</div>

<div class="output_wrapper">
<div class="output">


<div class="output_area"><div class="prompt"></div>
<div class="output_subarea output_stream output_stdout output_text">
<pre>Maximum demand on station = 20.667 MWh 
Annual Energy Supplied = 117676 MWh 
Installed Capacity = 33.067 MW
</pre>
</div>
</div>

</div>
</div>

</div>
<div class="cell border-box-sizing text_cell rendered">
<div class="prompt input_prompt">
</div>
<div class="inner_cell">
<div class="text_cell_render border-box-sizing rendered_html">
<h2 id="exa-1.12-page-16">exa 1.12 page 16<a class="anchor-link" href="#exa-1.12-page-16">&#182;</a></h2>
</div>
</div>
</div>
<div class="cell border-box-sizing code_cell rendered">
<div class="input">
<div class="prompt input_prompt">In&nbsp;[36]:</div>
<div class="inner_cell">
    <div class="input_area">
<div class=" highlight hl-ipython2"><pre><span class="o">%</span><span class="k">matplotlib</span> inline
<span class="kn">from</span> <span class="nn">matplotlib.pyplot</span> <span class="kn">import</span> <span class="n">plot</span><span class="p">,</span> <span class="n">title</span><span class="p">,</span> <span class="n">xlabel</span><span class="p">,</span> <span class="n">ylabel</span><span class="p">,</span> <span class="n">show</span>
<span class="c">#Arranging data for Load Duration Curve</span>
<span class="c">#week days 5-9pm load</span>
<span class="n">L1</span><span class="o">=</span><span class="mi">350</span> <span class="c">#MW</span>
<span class="n">t1</span><span class="o">=</span><span class="mi">4</span><span class="o">*</span><span class="mi">5</span> <span class="c">#hours</span>
<span class="c">#week days 8-12am &amp; 1-5pm load</span>
<span class="n">L2</span><span class="o">=</span><span class="mi">250</span> <span class="c">#MW</span>
<span class="n">t2</span><span class="o">=</span><span class="n">t1</span><span class="o">+</span><span class="mi">8</span><span class="o">*</span><span class="mi">5</span> <span class="c">#hours</span>
<span class="c">#saturday &amp; sunday 5-9pm load</span>
<span class="n">L3</span><span class="o">=</span><span class="mi">200</span> <span class="c">#MW</span>
<span class="n">t3</span><span class="o">=</span><span class="n">t2</span><span class="o">+</span><span class="mi">4</span><span class="o">*</span><span class="mi">2</span> <span class="c">#hours</span>
<span class="c">#All days 150MW load</span>
<span class="n">L4</span><span class="o">=</span><span class="mi">150</span> <span class="c">#MW</span>
<span class="n">t4</span><span class="o">=</span><span class="n">t3</span><span class="o">+</span><span class="mi">6</span><span class="o">*</span><span class="mi">5</span><span class="o">+</span><span class="mi">15</span><span class="o">*</span><span class="mi">2</span> <span class="c">#hours</span>
<span class="c">#All days 100MW load</span>
<span class="n">L5</span><span class="o">=</span><span class="mi">100</span> <span class="c">#MW</span>
<span class="n">t5</span><span class="o">=</span><span class="n">t4</span><span class="o">+</span><span class="mi">6</span><span class="o">*</span><span class="mi">5</span><span class="o">+</span><span class="mi">5</span><span class="o">*</span><span class="mi">2</span> <span class="c">#hours</span>
<span class="n">A</span><span class="o">=</span><span class="mi">31600</span> <span class="c">#Total Load Curve Area</span>
<span class="n">LF</span><span class="o">=</span><span class="n">A</span><span class="o">/</span><span class="n">L1</span><span class="o">/</span><span class="mi">24</span><span class="o">/</span><span class="mi">7</span><span class="o">*</span><span class="mi">100</span> <span class="c">#%#Weekly load factor</span>
<span class="k">print</span> <span class="s">&quot;Weekly Load factor = </span><span class="si">%0.2f</span><span class="s"> </span><span class="si">%%</span><span class="s">&quot;</span><span class="o">%</span><span class="k">LF</span>
<span class="k">print</span> <span class="s">&quot;Load Duration Curve is shown in figure.&quot;</span> 
<span class="c">#Load Duration Curve</span>
<span class="n">L</span><span class="o">=</span><span class="p">[</span><span class="n">L1</span> <span class="p">,</span><span class="n">L2</span><span class="p">,</span> <span class="n">L3</span><span class="p">,</span> <span class="n">L4</span><span class="p">,</span> <span class="n">L5</span><span class="p">]</span> <span class="c">#MW</span>
<span class="n">T</span><span class="o">=</span><span class="p">[</span><span class="n">t1</span> <span class="p">,</span><span class="n">t2</span> <span class="p">,</span><span class="n">t3</span> <span class="p">,</span><span class="n">t4</span> <span class="p">,</span><span class="n">t5</span><span class="p">]</span> <span class="c">#hours</span>
<span class="n">plot</span><span class="p">(</span><span class="n">T</span><span class="p">,</span><span class="n">L</span><span class="p">)</span> 
<span class="n">title</span><span class="p">(</span><span class="s">&#39;Load Duration Curve&#39;</span><span class="p">)</span>
<span class="n">xlabel</span><span class="p">(</span><span class="s">&#39;Time(Hours)&#39;</span><span class="p">)</span>
<span class="n">ylabel</span><span class="p">(</span><span class="s">&#39;Load(MW)&#39;</span><span class="p">)</span> 
<span class="n">show</span><span class="p">()</span>
</pre></div>

</div>
</div>
</div>

<div class="output_wrapper">
<div class="output">


<div class="output_area"><div class="prompt"></div>
<div class="output_subarea output_stream output_stdout output_text">
<pre>Weekly Load factor = 53.74 %
Load Duration Curve is shown in figure.
</pre>
</div>
</div>

<div class="output_area"><div class="prompt"></div>


<div class="output_png output_subarea ">
<img src="data:image/png;base64,iVBORw0KGgoAAAANSUhEUgAAAYoAAAEZCAYAAACJjGL9AAAABHNCSVQICAgIfAhkiAAAAAlwSFlz
AAALEgAACxIB0t1+/AAAIABJREFUeJzt3XmYVOWZ9/HvDxHUoBI1QVBQEiVKjFFHGbOorTMuyYwa
HeNGjA5kltdMCI6JUbOAySSaRZ15Z+LM9UaTIQQwRoGgxg1DJy6jxgQQJS6MCyKKu+ASBft+/3hO
Sdl2F013nzqnqn6f66qLU+ecOueuprvuOs9znudWRGBmZtadAUUHYGZm5eZEYWZmNTlRmJlZTU4U
ZmZWkxOFmZnV5ERhZmY1OVFYw5I0VdL0ouOoRdIoSWskqehYzHrLicJyIelRSX+R82m6HQQkqU1S
R/YhvUbS45J+LmnfPAPK3vchbwUYsTwitowcBiwpmSRpiaSXs/d4haQ9+vtc1tqcKCwvQY0P8jp5
IvuQ3hLYH7gfuKX6g3xjSNqkB7sFUK+rh38DJgFfAN4NjAHmAn+1sQeSNLB/Q7Nm4kRhdSVpsKR/
lfRE9rhY0qBs21BJ10h6WtLzkq6WtEPVa0dL+o2k1ZJuBLbr6Xkj4omImAJcCnw3O97O2VXHW38H
ktolTcyWT5N0m6SLJD0LTJH0Pkm/lvSspGck/UzS1tn+04FRwNXZVcyXOp9D0ghJ8yQ9J+khSZ+r
OvfU7IpgWvYe75X0Z938HHcFTgdOjIj2iFgbEa9FxMyIqLy/t95L1fu5pep5h6TTJT0IPCjpEknf
73SeX0o6oyr2q7L/n4clfaGnP39rbE4UVm9fBcYBH84e44CvZdsGAJeRPmxHAa8B/1H12pnA74Bt
gW8Bp7LxVy1zgH0kbd7N9s5XQuOA/wXeC3yHdLXwbWA4sDswEpgKEBGnAMuBv86uZH7QxfEvz/YZ
DhwHfEfSwVXbjwRmAVsD83j7+6/2F8DjEXF3jffak6u6o7P3uHt23hMqGyS9GzgUmJUluquBhcCI
7PyTJR22geNbE3CisHo7GfhmRDwbEc8C5wGnAETE8xExJyL+FBEvkz6YD4LUKQzsC3w9+/Z8C+mD
a2ObeVZmrxna0/0j4ocR0ZHF9b8RcXMWw7PAxZUYN0TSSOCjwFci4o2IWEy6wvls1W63RMT1WZ/G
z0jJtCvbAk/18D3Ucn5EvBgRrwO3AiHpgGzbccDtEfEUsB+wXUT8S0Ssi4hHsthP7IcYrOTcLmn1
NgJ4rOr58mwdkrYgffAeTmpzBxiS3TE0AnghIl6reu1jpG/0G2MH0rfsF4FhPdj/8eonkoaR+gY+
DmxJ+rL1fA/PPQJ4PiJeqVq3nJQAK1ZVLb8KbCZpQER0dDrWc6Srkr566/1FREi6HDgJuIWU1H+a
bd4JGCHpharXbgL8th9isJLzFYXV20pg56rno4AnsuUzSR2y4yJia9I3dWWPJ4F3Z8mkYic2vunp
GOD3WcKpfGBXH3P7Tvt3Pv53gDeBPbIYT+Htf0e14lkJbCNpSNW6UcCKHsZe7WZgx+76MDKvAO+q
et75vcE7450FHCdpJ1KT1FXZ+uXAIxHx7qrHVhHx172I3RqME4XlaZCkzaoeA0kfRF+TtJ2k7YBv
kJpYAIaQ+iVekrQNMKVyoIh4DLgbOE/SppI+DvToQyq7jXQHSVOAicC52TGfISWpUyRtImkC8P4N
HG4I6QN4ddbR/uVO21d1d4yIeBy4HTg/69TfE5hQ9f57LCIeAi4h9R8cJKnysz5R0ley3RYBx0ra
XNIupPe+oeMuAp4lNStdHxGrs013AWsknZUdbxNJeyjn242tHJwoLE+/IjWfVB7fAP6F9IF/T/a4
O1sH8K/A5qQPqtuB63j7N96TgT8nNfV8A5hW49xBaipZA6whfdB9EDgoIuZX7fd3pA/7Z4GxwG2d
jtH5G/d5wD7AS6Q+kqs67XM+KRG+IOmfq45TcRLpimolMBv4RkT8usb5ur1CiYhJpM7uHwIvAMtI
ndPzsl0uBt4gJa+fkBJS9fG6O/ZM4JDs38q5OkiJeS/gYeAZ4P8BW3UXnzUP5VW4SNJmwG+AwcAg
4JcRcY6kqcDnSL9oAOdGxHXZa84hfcN6E5gUETfmEpyZmfVYbokCUudkRLyaNTncCnyJdFvdmoi4
qNO+Y0nfYPYjdTjOB8Z00YlnZmZ1lGvTU0S8mi0OIt0hUbljoqtbGo8GZmW3HT5Kuowel2d8Zma2
YbkmCkkDJC0itZEuiIj7sk1fkLRY0mWSKvezj+Dtd3+sIF1ZmJlZgfK+ouiIiL2AHYEDJbUB/wmM
JnWKPQlcWOsQecZnZmYbVpcBdxHxkqRrgX0jor2yXtKlpDtHIN2mWD14akfW319P1WucPMzMeiEi
ejVhZW5XFNl98kOz5c1Jc8YslFQ96OcYYEm2PA84MbsffDSwK+mWxncYPjy46qogoryPKVOmFB5D
s8TZCDE6TsdZ9kdf5HlFMRyYlk0mNgCYHhE3S/qppL1IzUqPAP8AEBFLJV0BLAXWAadHN+/u2mvh
iCNgyBA4zFOSmZnlKrdEERFLSAOTOq//bBe7V7Z9hzRFQk177w2zZ8Mxx8DcufDRj/YtVjMz617D
jsz+2Mdg+vSULBYvLjqad2prays6hB5phDgbIUZwnP3NcZZHrgPu8iDpbS1SV14JkyZBezuMGVNc
XGZmZSaJ6GVndsNPM37ccbB6deqr+O1vYdSooiMyM2suDZ8oACZMSMni0EPhllvgve8tOiIzs+bR
FIkCYPJkePFFOPxwWLAAhva0fpmZmdXU8H0U1SLgjDPg7rvhhhvgXe/qcjczs5bTlz6KpkoUAB0d
MHEirFwJ8+bB4MF1DM7MrKScKDpZtw5OOAEkuPxyGNg0DWxmZr3Tl0TRsOMoahk4EGbOTB3cf//3
6SrDzMx6pykTBaQmpzlz4IEH4MwzU/+FmZltvKZNFJA6s6+9Nt0F9a1vFR2NmVljavrW+6FD0x1Q
BxwAW28NX/xi0RGZmTWWpk8UAMOGwfz565PFaacVHZGZWeNoiUQBaWqPG2+Egw+GrbaCY48tOiIz
s8bQMokC4AMfcC0LM7ON1dSd2V2p1LL4zGfg9tuLjsbMrPxaLlFA+WtZmJmVSUsmCkiTB/7wh/CJ
T8CDDxYdjZlZebVUH0VnrmVhZrZhLZ0owLUszMw2pOUTBbiWhZlZLU05e2xvuJaFmTUzTzPeT1zL
wsyalRNFP3ItCzNrRq5H0Y9cy8LM7O2cKLrgWhZmZus5UXTDtSzMzBK3wNfgWhZmZk4UG+RaFmbW
6pwoesC1LMyslTlR9JBrWZhZq3Jn9kZwLQsza0VOFBvJtSzMrNU4UfSCa1mYWStxH0UvuZaFmbUK
J4o+cC0LM2sFuTU9SdpM0p2SFklaKun8bP02km6S9KCkGyUNrXrNOZIeknS/pIa4r2jyZDjppNQc
9eKLRUdjZtb/cp09VtIWEfGqpIHArcCXgKOAZyPie5K+Arw7Is6WNBaYCewH7ADMB8ZEREenY+Y6
e2xvuJaFmZVdaWePjYhXs8VBwCbAC6REMS1bPw34VLZ8NDArItZGxKPAMmBcnvH1Fwkuugh23TUN
xnv99aIjMjPrP7kmCkkDJC0CVgELIuI+YFhErMp2WQUMy5ZHACuqXr6CdGXREAYMgB/9KA3GGz8+
1bUwM2sGuXZmZ81Ge0naGrhB0sGdtoekWu1IXW6bOnXqW8ttbW20tbX1Pdh+UKllceSRqZbFpZem
BGJmVm/t7e20t7f3y7HqVuFO0teB14DPAW0R8ZSk4aQrjd0knQ0QERdk+18PTImIOzsdp3R9FJ29
8kq6bXbcuNQkpV61CpqZ9Z9S9lFI2q5yR5OkzYFDgYXAPODUbLdTgbnZ8jzgREmDJI0GdgXuyiu+
PLmWhZk1kzybnoYD0yQNICWk6RFxs6SFwBWSJgKPAscDRMRSSVcAS4F1wOmlv3SowbUszKxZ1K3p
qb80QtNTteXLU7I47zzXsjCz4vSl6ckjs3PmWhZm1uicKOrAtSzMrJH55s06cS0LM2tUThR15FoW
ZtaInCjqzLUszKzRuI+iAK5lYWaNxImiIK5lYWaNwomiQJMnpxoWhx+eRnEPHbrh15iZ1ZsH3BXM
tSzMrB76MuDOiaIEOjpg4kRYuRLmzYPBg4uOyMyajRNFE1i3Dk44Ic00e/nlacpyM7P+UsrZY23j
VGpZrF6dall0dGz4NWZm9eBEUSKDB8OcOfDAA3Dmman/wsysaE4UJeNaFmZWNm4JLyHXsjCzMnGi
KKlhw2D+/PXJwrUszKwoThQl5loWZlYGThQl51oWZlY0d2Y3ANeyMLMiOVE0CNeyMLOiOFE0ENey
MLMiuI+iwbiWhZnVmxNFA3ItCzOrJyeKBuVaFmZWL549toG5loWZ9ZSnGW9hrmVhZj3hRNHiXMvC
zDbE9ShanGtZmFmenCiahGtZmFlenCiaiGtZmFke3JrdZFzLwsz6mxNFE3ItCzPrT04UTcq1LMys
vzhRNDHXsjCz/uDO7CbnWhZm1le5JQpJIyUtkHSfpHslTcrWT5W0QtLC7PGJqtecI+khSfdL8vff
fuJaFmbWF7mNzJa0PbB9RCySNAT4PfAp4HhgTURc1Gn/scBMYD9gB2A+MCYiOjrt55HZvXTllTBp
ErS3w5gxRUdjZvXUl5HZufVRRMRTwFPZ8suS/khKAABdBXs0MCsi1gKPSloGjAPuyCvGVuNaFmbW
G3Xpo5C0M7A36z/0vyBpsaTLJFUmyB4BrKh62QrWJxbrJxMmpCnKDz0Unn666GjMrBH0KFFI2l3S
JyQdLmm3jTlB1ux0JfDFiHgZ+E9gNLAX8CRwYY2Xu40pB5Mnw0knpVoWa9cWHY2ZlV23TU+SRgNn
AJ8EngBWkpqMhkvaEbgGuDgiHq1xjE2Bq4CfRcRcgIh4umr7pcDV2dMngJFVL98xW/cOU6dOfWu5
ra2Ntra27kKwbkyZAjfdBNddB0cdVXQ0Ztbf2tvbaW9v75djdduZLekK4EdAe9ZvUL1tU+Bg4HMR
cXw3rxcwDXguIs6oWj88Ip7Mls8A9ouIk6s6s8exvjN7l8491+7M7j+XXZbGWcyeXXQkZpa3Utaj
kPRx4LfAPaxvQjoXOInU7BTAI8A/RMSq7DXnAhOAdaSmqhu6OK4TRT9ZvTp1aD/0ELznPUVHY2Z5
yiVRSFoM3JY9bo+IR3ofYv9xouhfp5wC++2Xbps1s+aVV6L4EPDR7PERYAhwO+sTx529C7dvnCj6
1803w5e/DH/4Q9GRmFme6tL0JGk74ERgMjA6IjbpzQn7yomif3V0wOjRqd72hz9cdDRmlpe8rig2
AfZh/VXFLqSxDf8D/E9E/KZ34faNE0X/+/rX4ZVX4KKLNryvmTWmvBLFq8BS4IfAbyLi4d6H2H+c
KPrfsmVpPqgVK2DTTYuOxszy0JdEUWvA3UTS1cPngGmSLpR0nCSPlm4yu+yS5n667rqiIzGzMupR
H4WkLUjjGz4G/C0wKCIKmSnIVxT58JgKs+aWW2e2pHcB+7O+n2I/Uj/FrRHxT705YV85UeTDYyrM
mltefRSLSFNq3E12SyxwZ0Ss6W2g/cGJIj8eU2HWvPJKFHsCS8r2qexEkR+PqTBrXnklijNJ02x0
deDoXHioXpwo8uMxFWbNK6+7nr4PnAJsSxqVXf3Ysjcns3IbMAA++1mYNq3oSMysTGpdUexFmsDv
cOAPwCzg5s6lSevNVxT58pgKs+aUyxVFRCyKiK+QKtNdChwF3CfJ1QuamMdUmFlnPalw9x5SstiT
dGvsM7lGZIU77TT47/8uOgozK4taTU8TgeOBwaRSpr+o1I0okpue8ucxFWbNJ6+7njqAe4HHutgc
EVFIE5QTRX14TIVZc8krUbRli5Udqk8Qnj22uXlMhVlzKWUp1Lw4UdSHx1SYNZdc7nqSdK2kT2cT
AnbetoWkEyT9qjcntfLzmAozq6jV9PRe4J+A44A3gSdJzU/bAwOBnwM/jIi63gXlK4r68ZgKs+aR
e9OTpO2BnbKnj0XEU705WX9woqivAw5IfRVHefSMWUNzH4XlxnUqzJpDXnc9vcz6O546i4jYqjcn
7CsnivrymAqz5pDXFB5DImJL4N+ArwA7ZI+zsnXWArbaCo48EmbNKjoSMyvKBpueJN0TEXtuaF29
+Iqi/jymwqzx5TXNeMUrkj4jaZPsMR54uTcns8Z08MHw3HOweHHRkZhZEXqSKE4mzfm0Knscn62z
FuExFWatzXc9WY94TIVZY+tL09PAHhx8c2AiMBbYrLI+Iib05oTWmKrrVHhMhVlr6UnT03RgGHAE
8BtgJO6jaEmuU2HWmnpy19OiiNircqeTpE2BWyPiz+sT4jvicdNTQTymwqxx5X3X0xvZvy9J+hAw
lFT1zlqMx1SYtaaeJIofSdoG+BowD1gKfC/XqKy03Pxk1np815NtFNepMGtMuTY9SRoq6WJJv88e
F0raujcns8bnMRVmracnndmzgSXANFI9ilOAPSPi2PzD6zIeX1EUzGMqzBpP3p3Z74+IKRHxcET8
b0RMBd7fg6BGSlog6T5J90qalK3fRtJNkh6UdKOkoVWvOUfSQ5Lul3RYb96Q5a96TIWZNb+eJIrX
JB1QeSLp48CrPXjdWuCMiPggsD/weUm7A2cDN0XEGODm7DmSxgInkAb2HQFcIqkn8VkB3Klt1jp6
0vS0F/BToNIv8QJwakRs1BRxkuYC/5E9DoqIVVnlvPaI2E3SOUBHRHw32/96YGpE3NHpOG56KgGP
qTBrLLk2PUXEomxK8T1JfRN7AQdvZIA7A3sDdwLDImJVtmkVadQ3wAhgRdXLVpDqX1gJeUyFWevo
cdNORLwUES9lT8/s6eskDQGuAr4YEWs6HTPovooeG9hmBfu7v4OpU+Hzn4fbbwdf6Jk1pw1OCtgX
2XQfVwHTI2JutnqVpO0j4ilJw4Gns/VPkOaRqtgxW/cOU6dOfWu5ra2Ntra2fo7ceuLAA+Huu2Hm
TJg4EV5/HU4+GcaPh913Lzo6s9bW3t5Oe3t7vxyrVwPuJD0eESM3sI9It9Q+FxFnVK3/Xrbuu5LO
BoZGxNlZZ/ZMYBypyWk+sEvnDgn3UZRTBCxcCD/7GVx+OWy/fUoYJ54IO7gB0axwfemj6DZRSHqZ
7pt+toiITTYQ1MeB3wL3VB3nHOAu4ApgFPAocHxEvJi95lxgArCO1FR1QxfHdaIouTffhAULYMYM
mDsX9tknJY2/+RvY2kM1zQqRS6IoKyeKxvLaa3DNNSlpLFgAhx6aksYnPwmDBxcdnVnrcKKwhvD8
83DllSlp3HsvHHtsShoHHpimBjGz/DhRWMNZvjzdWjtjBrzwApx0Ukoae+4J6tWvspnV4kRhDW3J
kpQwZs5M4zPGj093T+20U9GRmTUPJwprCh0dcOutKWlceSWMHZuSxqc/DdtuW3R0Zo3NicKazuuv
w/XXp6Rxww1w0EEpaRx5JGyxRdHRmTUeJwpraqtXw+zZKWncfTccdVRKGoccAgNzHTJq1jycKKxl
PPlkGtA3YwY88QSccEJKGvvu605ws1qcKKwlPfBAShgzZqQri0on+C67FB2ZWfk4UVhLi4A770wJ
44orUk3v8ePT1cZ731t0dGbl4ERhllm7FubPT0njmmvgIx9JSeNTn4IhQ4qOzqw4ThRmXXjlFfjl
L1PSuO22NG3I+PFw2GGu9W2tx4nCbAOeeSY1S82YAcuWpbEZ48enKw53glsrcKIw2wgPP5xGgc+Y
4Roa1jqcKMx6oVJDY8aMNO+Ua2hYM3OiMOujN9+E9vaUNObMcQ0Naz5OFGb96LXX4NprU9L49a9d
Q8OagxOFWU5eeGF9DY0lS1xDwxqXE4VZHTz++PoaGs8/7xoa1licKMzq7N5719fQ2HJL19Cw8nOi
MCuIa2hYo3CiMCuBN96A665zDQ0rJycKs5JxDQ0rGycKsxJzDQ0rAycKswbhGhpWFCcKswbjGhpW
b04UZg3MNTSsHpwozJqEa2hYXpwozJqQa2hYf3KiMGtyrqFhfeVEYdYiXEPDesuJwqwFVdfQmDsX
9t7bNTSse04UZi3ONTRsQ5wozOwtrqFhXXGiMLMuuYaGVThRmNkGuYZGa3OiMLMe6+hIg/kqNTR2
3901NFpBXxJFri2Wkn4saZWkJVXrpkpaIWlh9vhE1bZzJD0k6X5Jh+UZm1mrGjAADjgA/uu/YOVK
+PKXYcECeN/70nToP/85vPpq0VFameR6RSHpAOBl4KcR8aFs3RRgTURc1GnfscBMYD9gB2A+MCYi
Ojrt5ysKsxysXg1z5qQrjd/9zjU0mk1prygi4hbghS42dRXs0cCsiFgbEY8Cy4BxOYZnZlW22gpO
PRVuvBGWLk3jMr76VRg5EiZPTsnD39FaU1E3y31B0mJJl0kamq0bAayo2mcF6crCzOps+PD1yaG9
PQ3gO+kk2G03+OY3UzEmax1FXFD+J/DNbPlbwIXAxG727fL7y9SpU99abmtro62trf+iM7O3+cAH
4LzzYOpUuOsumDYN9tgD/vEf4ayzPAq8rNrb22lvb++XY+V+15OknYGrK30U3W2TdDZARFyQbbse
mBIRd3Z6jfsozAq2fHlKHNdck5LF5z8Pm29edFRWS2n7KLoiaXjV02OAyh1R84ATJQ2SNBrYFbir
3vGZ2YaNGgU//nFqlrrtNhgzBi67DNatKzoyy0Pedz3NAg4CtgNWAVOANmAvUrPSI8A/RMSqbP9z
gQnAOuCLEXFDF8f0FYVZydxxB5x9NqxaBd/+NhxzjEd+l40H3JlZ4SLghhtSwhg8GC64AA4+uOio
rMKJwsxKo6MjDdr72tdg113h/PPTrbZWrIbqozCz5jZgQLqV9o9/TIP2PvnJ9HzZsqIjs95yojCz
XAwaBKefDg89BB/8IOy/f3ruMRiNx4nCzHI1ZEhqhrr//nQL7R57pBHfL71UdGTWU04UZlYX220H
F16Yan4/+WTqv/jBD1J1Pis3JwozqyuPwWg8vuvJzArlMRj14dtjzayheQxG/pwozKwpeAxGfjyO
wsyagsdglJMThZmVjsdglIsThZmVlsdglIMThZmVnsdgFMuJwswahsdgFMN3PZlZw/IYjJ7z7bFm
1rI8BqNnnCjMrOV5DEZtHkdhZi3PYzDy40RhZk3FYzD6nxOFmTUlj8HoP04UZtbUPAaj75wozKwl
eAxG7/muJzNrSa02BsO3x5qZ9UIrjcFwojAz64NWGIPhcRRmZn3gMRi1OVGYmWU8BqNrThRmZp14
DMbbOVGYmXXDYzASJwozsw1o9TEYvuvJzGwjNeIYDN8ea2ZWZ402BsOJwsysII0yBsPjKMzMCtIK
YzCcKMzM+kEzj8HINVFI+rGkVZKWVK3bRtJNkh6UdKOkoVXbzpH0kKT7JR2WZ2xmZnloxjEYeV9R
/AQ4otO6s4GbImIMcHP2HEljgROAsdlrLpHUsFc87e3tRYfQI40QZyPECI6zvzV6nM00BiPXD+KI
uAV4odPqo4Bp2fI04FPZ8tHArIhYGxGPAsuAcXnGl6dG/yUvk0aIERxnf2uWOJthDEYR39iHRcSq
bHkVMCxbHgGsqNpvBbBDPQMzM8vL2LEwZw784hcwfTp86EMwe3a6zbbsCm3aye5zrfVjaoAfoZlZ
z+2/PyxYABdfDN/8Znq+enXRUdWW+zgKSTsDV0fEh7Ln9wNtEfGUpOHAgojYTdLZABFxQbbf9cCU
iLiz0/GcPMzMeqG34ygG9ncgPTAPOBX4bvbv3Kr1MyVdRGpy2hW4q/OLe/tGzcysd3JNFJJmAQcB
20l6HPgGcAFwhaSJwKPA8QARsVTSFcBSYB1wuodgm5kVr+Gm8DAzs/oq7TgFSSMlLZB0n6R7JU3K
1nc7YK9IkjaRtFDS1dnz0sUpaaikKyX9UdJSSX9e0jjPyf7fl0iaKWlwGeJshAGk3cT4/ez/fLGk
2ZK2LjLG7uKs2nampA5J25Q1TklfyH6m90r6bhnjlDRO0l3Z59LvJO3X6zgjopQPYHtgr2x5CPAA
sDvwPeCsbP1XgAuKjjWL5Z+BGcC87Hnp4iSNW5mQLQ8Eti5bnMDOwMPA4Oz5z0l9WYXHCRwA7A0s
qVrXZVykgaOLgE2z97QMGFBQjIdWzk1q+i00xu7izNaPBK4HHgG2KWOcwMHATcCm2fP3lDTOduDw
bPkTpBuHehVnaa8oIuKpiFiULb8M/JHUyd3dgL3CSNoR+CRwKVDpbC9VnNm3yAMi4scAEbEuIl6i
ZHECq4G1wBaSBgJbACspQZzRAANIu4oxIm6KiI7s6Z3AjkXG2F2cmYuAszqtK1uc/wc4PyLWZvs8
U9I4nyR9GQQYCjzR2zhLmyiqZbfY7k36Je9uwF6RLga+DHRUrStbnKOBZyT9RNIfJP1I0rsoWZwR
8TxwIbCclCBejIibKFmcVRptAOkE4FfZcqlilHQ0sCIi7um0qVRxku7IPFDSHZLaJe2brS9bnGcD
F0paDnwfOCdbv9Fxlj5RSBoCXAV8MSLWVG+LdB1VaG+8pL8Gno6Ihay/mnibMsRJamraB7gkIvYB
XiGbZ6uiDHFKej8wmXRJPAIYIukz1fuUIc6u9CCuon+2XwXeiIiZNXYrJEZJWwDnAlOqV9d4SZE/
y4HAuyNif9IXxCtq7FtknJcBkyJiFHAG8OMa+9aMs9SJQtKmpCQxPSIq4y1WSdo+2z4ceLqo+DIf
BY6S9AgwCzhE0nTKF+cK0re132XPryQljqdKFue+wO0R8VxErANmAx+hfHFWdPf//ASpvb1iR9Zf
+tedpNNIzaPjq1aXKcb3k74cLM7+lnYEfi9pGOWKE9Lf0myA7O+pQ9J2lC/OcRExJ1u+kvXNSxsd
Z2kThSSRMuLSiPjXqk2VAXvw9gF7hYiIcyNiZESMBk4Efh0Rp1C+OJ8CHpc0Jlv1l8B9wNWUKE7g
fmB/SZtnvwN/SRpbU7Y4K7r7f54HnChpkKTRdDOAtB4kHUH65nt0RPypalNpYoyIJRExLCJGZ39L
K4B9smbF8EcVAAADlUlEQVS90sSZmQscApD9PQ2KiGcpX5zLJB2ULR8CPJgtb3yc9eiR72Uv/sdJ
bf6LgIXZ4whgG2B+9qZvBIYWHWtVzAex/q6n0sUJfBj4HbCY9I1o65LGeRYpiS0hdRBvWoY4SVeM
K4E3gMeBv60VF6kpZRkp+R1eUIwTgIeAx6r+ji4pMsZOcb5e+Vl22v4w2V1PZYsz+32cnv1+/p40
JVFZ4qz+3dyX1K+7CPgfYO/exukBd2ZmVlNpm57MzKwcnCjMzKwmJwozM6vJicLMzGpyojAzs5qc
KMzMrCYnCms6krbNplZeKOlJSSuy5TWS/qMfz/ODyoCmbM6fP6vatnNXU2j3J0mTJJ2S5znMoJhS
qGa5iojnSJNIImkKsCYiLurPc0jaEjgwIr5UOS05zesjaUCsn/212k+Am0mDv8xy4ysKawUCkNSm
9YWlpkqaJum3kh6VdGx2hXCPpOuyKc6R9GfZ1cLdkq6vzOtEmqp5flfnecfJpc2yWXvvyWbubcvW
nybp36v2u0bSgdnyy1k8i4CPSLpAqZjTYknfB4g0SeZzkj7YXz8os674isJa2WhSEZoPAncAx0TE
lyTNBv5K0q+AfweOjIjnJJ0AfBuYSJpi5saqYwmYIem17Pkg4M1s+fPAmxGxp6QPADdmcwR1vgKp
fr4FcEcWz7bAZRGxG7xVW6TiLuBA0pQnZrlworBWFcB1EfGmpHtJFb5uyLYtIc1kOoaUROan+QnZ
hDSfDsAoUmGY6uOdHBF/AJC0E3BNtu1jwP8FiIgHJD2WHbuWN0kzJwO8BPxJ0mXZMa+p2m8l8L4e
vmezXnGisFb2BkBEdEhaW7W+g/S3IeC+iPhoN6/v3HSrbpa7eh7Auk7H2Kxq+U+RTcQWEeskjQP+
AjgO+KdsuXJcT9hmuXIfhbWqWkVxKh4A3iNpf0j1USSNzbY9RqrrXq27D+xbyOpAZE1Oo7JjPwrs
pWQk3ZSjzCoRDo2I60i12T9ctXl4dhyz3DhRWCuIqn+7WoYu+gsi1UQ+Dvhu1qm8kFRECeBW0jTO
PTnvJcAASfcAlwOnRqpXfBvwCKnexr+RpqzuKp4tgaslLSYlnTOqto3L1pnlxtOMm/VCVqJ3QUTs
V2AMWwE3FxmDtQZfUZj1QkS8DCyQdHCBYZxGuhIxy5WvKMzMrCZfUZiZWU1OFGZmVpMThZmZ1eRE
YWZmNTlRmJlZTU4UZmZW0/8H23KohObdSwQAAAAASUVORK5CYII=
"
>
</div>

</div>

</div>
</div>

</div>
<div class="cell border-box-sizing text_cell rendered">
<div class="prompt input_prompt">
</div>
<div class="inner_cell">
<div class="text_cell_render border-box-sizing rendered_html">
<h2 id="exa-1.13-page-17">exa 1.13 page 17<a class="anchor-link" href="#exa-1.13-page-17">&#182;</a></h2>
</div>
</div>
</div>
<div class="cell border-box-sizing code_cell rendered">
<div class="input">
<div class="prompt input_prompt">In&nbsp;[37]:</div>
<div class="inner_cell">
    <div class="input_area">
<div class=" highlight hl-ipython2"><pre><span class="n">LF</span><span class="o">=</span><span class="mf">0.825</span> <span class="c">#Daily Load Factor</span>
<span class="n">ratio1</span><span class="o">=</span><span class="mf">0.87</span> <span class="c">#daily peak load to monthly peak load</span>
<span class="n">ratio2</span><span class="o">=</span><span class="mf">0.78</span> <span class="c">#monthly peak load to annually peak load</span>
<span class="n">LF_annual</span><span class="o">=</span><span class="n">LF</span><span class="o">*</span><span class="n">ratio1</span><span class="o">*</span><span class="n">ratio2</span> <span class="c">#Annual Load Factor</span>
<span class="k">print</span> <span class="s">&quot;Annual Load Factor : </span><span class="si">%0.4f</span><span class="s">&quot;</span> <span class="o">%</span><span class="k">LF_annual</span>
</pre></div>

</div>
</div>
</div>

<div class="output_wrapper">
<div class="output">


<div class="output_area"><div class="prompt"></div>
<div class="output_subarea output_stream output_stdout output_text">
<pre>Annual Load Factor : 0.5598
</pre>
</div>
</div>

</div>
</div>

</div>
<div class="cell border-box-sizing text_cell rendered">
<div class="prompt input_prompt">
</div>
<div class="inner_cell">
<div class="text_cell_render border-box-sizing rendered_html">
<h2 id="exa-1.14-page-19">exa 1.14 page 19<a class="anchor-link" href="#exa-1.14-page-19">&#182;</a></h2>
</div>
</div>
</div>
<div class="cell border-box-sizing code_cell rendered">
<div class="input">
<div class="prompt input_prompt">In&nbsp;[38]:</div>
<div class="inner_cell">
    <div class="input_area">
<div class=" highlight hl-ipython2"><pre><span class="c">#Transformer1</span>
<span class="n">Lm</span><span class="o">=</span><span class="mi">300</span> <span class="c">#kW</span>
<span class="n">df_m</span><span class="o">=</span><span class="mf">0.6</span> <span class="c">#demand factor</span>
<span class="n">Lc</span><span class="o">=</span><span class="mi">100</span> <span class="c">#kW#Commercial Load</span>
<span class="n">df_c</span><span class="o">=</span><span class="mf">0.5</span> <span class="c">#demand factor</span>
<span class="c">#Transformer2</span>
<span class="n">Lr2</span><span class="o">=</span><span class="mi">500</span> <span class="c">#kW#Residential Load</span>
<span class="n">df_Lr2</span><span class="o">=</span><span class="mf">0.4</span> <span class="c">#demand factor</span>
<span class="c">#Transformer3</span>
<span class="n">Lr3</span><span class="o">=</span><span class="mi">400</span> <span class="c">#kW</span>
<span class="n">df_Lr3</span><span class="o">=</span><span class="mf">0.5</span> <span class="c">#demand factor</span>
<span class="c">#Diversity factors</span>
<span class="n">df1</span><span class="o">=</span><span class="mf">2.3</span> 
<span class="n">df2</span><span class="o">=</span><span class="mf">2.5</span> 
<span class="n">df3</span><span class="o">=</span><span class="mi">2</span> 
<span class="n">DF</span><span class="o">=</span><span class="mf">1.4</span> <span class="c">#Diversity factor between transformers</span>
<span class="c">#Solution :</span>
<span class="k">print</span> <span class="s">&quot;Part(a)&quot;</span> 
<span class="n">Lp1</span><span class="o">=</span><span class="p">(</span><span class="n">Lm</span><span class="o">*</span><span class="n">df_m</span><span class="o">+</span><span class="n">Lc</span><span class="o">*</span><span class="n">df_c</span><span class="p">)</span><span class="o">/</span><span class="n">df1</span> <span class="c">#kW#Peak load on Transformer1</span>
<span class="k">print</span> <span class="s">&quot;Peak load on Transformer1 = </span><span class="si">%0.2f</span><span class="s"> kW&quot;</span><span class="o">%</span><span class="k">Lp1</span>
<span class="n">Lp2</span><span class="o">=</span><span class="n">Lr2</span><span class="o">*</span><span class="n">df_Lr2</span><span class="o">/</span><span class="n">df2</span> <span class="c">#kW#Peak load on Transformer2</span>
<span class="k">print</span> <span class="s">&quot;Peak load on Transformer2 = </span><span class="si">%0.2f</span><span class="s"> kW&quot;</span><span class="o">%</span><span class="k">Lp2</span> 
<span class="n">Lp3</span><span class="o">=</span><span class="n">Lr3</span><span class="o">*</span><span class="n">df_Lr3</span><span class="o">/</span><span class="n">df3</span> <span class="c">#kW#Peak load on Transformer3</span>
<span class="k">print</span> <span class="s">&quot;Peak load on Transformer3 = </span><span class="si">%0.2f</span><span class="s"> kW &quot;</span><span class="o">%</span><span class="k">Lp3</span> 
<span class="k">print</span> <span class="s">&quot;Part(b)&quot;</span> 
<span class="n">LpF</span><span class="o">=</span><span class="p">(</span><span class="n">Lp1</span><span class="o">+</span><span class="n">Lp2</span><span class="o">+</span><span class="n">Lp3</span><span class="p">)</span><span class="o">/</span><span class="n">DF</span> <span class="c">#Peak load on feeder</span>
<span class="k">print</span> <span class="s">&quot;Peak load on feeder = </span><span class="si">%0.2f</span><span class="s"> kW &quot;</span><span class="o">%</span><span class="k">LpF</span> 
</pre></div>

</div>
</div>
</div>

<div class="output_wrapper">
<div class="output">


<div class="output_area"><div class="prompt"></div>
<div class="output_subarea output_stream output_stdout output_text">
<pre>Part(a)
Peak load on Transformer1 = 100.00 kW
Peak load on Transformer2 = 80.00 kW
Peak load on Transformer3 = 100.00 kW 
Part(b)
Peak load on feeder = 200.00 kW 
</pre>
</div>
</div>

</div>
</div>

</div>
<div class="cell border-box-sizing text_cell rendered">
<div class="prompt input_prompt">
</div>
<div class="inner_cell">
<div class="text_cell_render border-box-sizing rendered_html">
<h2 id="exa-1.16-page-23">exa 1.16 page 23<a class="anchor-link" href="#exa-1.16-page-23">&#182;</a></h2>
</div>
</div>
</div>
<div class="cell border-box-sizing code_cell rendered">
<div class="input">
<div class="prompt input_prompt">In&nbsp;[39]:</div>
<div class="inner_cell">
    <div class="input_area">
<div class=" highlight hl-ipython2"><pre><span class="n">L</span><span class="o">=</span><span class="p">[</span><span class="mi">20</span><span class="p">,</span> <span class="mi">25</span><span class="p">,</span> <span class="mi">30</span> <span class="p">,</span><span class="mi">25</span> <span class="p">,</span><span class="mi">35</span> <span class="p">,</span><span class="mi">20</span><span class="p">]</span> <span class="c">#MW</span>
<span class="n">T</span><span class="o">=</span><span class="p">[</span><span class="mi">6</span><span class="p">,</span> <span class="mi">4</span><span class="p">,</span> <span class="mi">2</span> <span class="p">,</span><span class="mi">4</span> <span class="p">,</span><span class="mi">4</span> <span class="p">,</span><span class="mi">4</span><span class="p">]</span> <span class="c">#Hours</span>
<span class="n">Lmax</span><span class="o">=</span><span class="nb">max</span><span class="p">(</span><span class="n">L</span><span class="p">)</span> <span class="c">#MW</span>
<span class="k">print</span> <span class="s">&quot;(a) Maximum demand = </span><span class="si">%0.2f</span><span class="s"> MW &quot;</span><span class="o">%</span><span class="k">Lmax</span> 
<span class="n">E</span><span class="o">=</span><span class="n">L</span><span class="p">[</span><span class="mi">0</span><span class="p">]</span><span class="o">*</span><span class="nb">sum</span><span class="p">(</span><span class="n">T</span><span class="p">)</span><span class="o">+</span><span class="p">(</span><span class="n">L</span><span class="p">[</span><span class="mi">1</span><span class="p">]</span><span class="o">-</span><span class="n">L</span><span class="p">[</span><span class="mi">0</span><span class="p">])</span><span class="o">*</span><span class="n">T</span><span class="p">[</span><span class="mi">1</span><span class="p">]</span><span class="o">+</span><span class="p">(</span><span class="n">L</span><span class="p">[</span><span class="mi">2</span><span class="p">]</span><span class="o">-</span><span class="n">L</span><span class="p">[</span><span class="mi">0</span><span class="p">])</span><span class="o">*</span><span class="n">T</span><span class="p">[</span><span class="mi">2</span><span class="p">]</span><span class="o">+</span><span class="p">(</span><span class="n">L</span><span class="p">[</span><span class="mi">3</span><span class="p">]</span><span class="o">-</span><span class="n">L</span><span class="p">[</span><span class="mi">0</span><span class="p">])</span><span class="o">*</span><span class="n">T</span><span class="p">[</span><span class="mi">3</span><span class="p">]</span><span class="o">+</span><span class="p">(</span><span class="n">L</span><span class="p">[</span><span class="mi">4</span><span class="p">]</span><span class="o">-</span><span class="n">L</span><span class="p">[</span><span class="mi">0</span><span class="p">])</span><span class="o">*</span><span class="n">T</span><span class="p">[</span><span class="mi">4</span><span class="p">]</span><span class="o">+</span><span class="p">(</span><span class="n">L</span><span class="p">[</span><span class="mi">5</span><span class="p">]</span><span class="o">-</span><span class="n">L</span><span class="p">[</span><span class="mi">0</span><span class="p">])</span><span class="o">*</span><span class="n">T</span><span class="p">[</span><span class="mi">5</span><span class="p">]</span> <span class="c">#MWh</span>
<span class="n">E</span><span class="o">=</span><span class="n">E</span><span class="o">*</span><span class="mi">1000</span> <span class="c">#kWh</span>
<span class="k">print</span> <span class="s">&quot;(b) Units generated per day = %0.e kWh &quot;</span><span class="o">%</span><span class="k">E</span> 
<span class="n">Lavg</span><span class="o">=</span><span class="n">E</span><span class="o">/</span><span class="nb">sum</span><span class="p">(</span><span class="n">T</span><span class="p">)</span> <span class="c">#/kWh</span>
<span class="n">Lavg</span><span class="o">=</span><span class="n">Lavg</span><span class="o">/</span><span class="mi">1000</span> <span class="c">#/MW</span>
<span class="k">print</span> <span class="s">&quot;(c) Average Load = </span><span class="si">%0.2f</span><span class="s"> MW &quot;</span><span class="o">%</span><span class="k">Lavg</span> 
<span class="n">LF</span><span class="o">=</span><span class="n">Lavg</span><span class="o">/</span><span class="n">Lmax</span><span class="o">*</span><span class="mi">100</span> <span class="c">#%</span>
<span class="k">print</span> <span class="s">&quot;(d) Load Factor = </span><span class="si">%0.2f</span><span class="s"> </span><span class="si">%%</span><span class="s">&quot;</span> <span class="o">%</span><span class="k">LF</span>
</pre></div>

</div>
</div>
</div>

<div class="output_wrapper">
<div class="output">


<div class="output_area"><div class="prompt"></div>
<div class="output_subarea output_stream output_stdout output_text">
<pre>(a) Maximum demand = 35.00 MW 
(b) Units generated per day = 6e+05 kWh 
(c) Average Load = 25.00 MW 
(d) Load Factor = 71.43 %
</pre>
</div>
</div>

</div>
</div>

</div>
<div class="cell border-box-sizing text_cell rendered">
<div class="prompt input_prompt">
</div>
<div class="inner_cell">
<div class="text_cell_render border-box-sizing rendered_html">
<h2 id="exa-1.17-page-24">exa 1.17 page 24<a class="anchor-link" href="#exa-1.17-page-24">&#182;</a></h2>
</div>
</div>
</div>
<div class="cell border-box-sizing code_cell rendered">
<div class="input">
<div class="prompt input_prompt">In&nbsp;[40]:</div>
<div class="inner_cell">
    <div class="input_area">
<div class=" highlight hl-ipython2"><pre><span class="kn">from</span> <span class="nn">math</span> <span class="kn">import</span> <span class="n">acos</span><span class="p">,</span> <span class="n">sin</span>
<span class="n">pf</span><span class="o">=</span><span class="mf">0.8</span> <span class="c">#power factor</span>
<span class="n">delf</span><span class="o">=</span><span class="mi">1</span> <span class="c">#%#drop in frequency(delf/f)</span>
<span class="c">#delP=-2*(sind(theta))**2*delf</span>
<span class="n">theta</span><span class="o">=</span><span class="n">acos</span><span class="p">(</span><span class="n">pf</span><span class="p">)</span> <span class="c">#degree</span>
<span class="n">delP_BY_delf</span><span class="o">=-</span><span class="mi">2</span><span class="o">*</span><span class="n">sin</span><span class="p">(</span><span class="n">theta</span><span class="p">)</span><span class="o">**</span><span class="mi">2</span> <span class="c">#increase in load wrt frequency</span>
<span class="k">print</span> <span class="s">&quot;1</span><span class="si">%%</span><span class="s"> drop in frequency, Increased in Load = </span><span class="si">%0.2f</span><span class="s"> </span><span class="si">%%</span><span class="s">&quot;</span><span class="o">%-</span><span class="n">delP_BY_delf</span> 
</pre></div>

</div>
</div>
</div>

<div class="output_wrapper">
<div class="output">


<div class="output_area"><div class="prompt"></div>
<div class="output_subarea output_stream output_stdout output_text">
<pre>1% drop in frequency, Increased in Load = 0.72 %
</pre>
</div>
</div>

</div>
</div>

</div>
<div class="cell border-box-sizing text_cell rendered">
<div class="prompt input_prompt">
</div>
<div class="inner_cell">
<div class="text_cell_render border-box-sizing rendered_html">
<h2 id="exa-1.18-page-24">exa 1.18 page 24<a class="anchor-link" href="#exa-1.18-page-24">&#182;</a></h2>
</div>
</div>
</div>
<div class="cell border-box-sizing code_cell rendered">
<div class="input">
<div class="prompt input_prompt">In&nbsp;[41]:</div>
<div class="inner_cell">
    <div class="input_area">
<div class=" highlight hl-ipython2"><pre><span class="n">Lmax</span><span class="o">=</span><span class="mi">100</span> <span class="c">#MW</span>
<span class="n">LF</span><span class="o">=</span><span class="mi">40</span> <span class="c">#%#Load Factor</span>
<span class="n">Lavg</span><span class="o">=</span><span class="n">Lmax</span><span class="o">*</span><span class="n">LF</span><span class="o">/</span><span class="mi">100</span> <span class="c">#MW</span>
<span class="n">E</span><span class="o">=</span><span class="n">Lavg</span><span class="o">*</span><span class="mi">24</span><span class="o">*</span><span class="mi">365</span> <span class="c">#MWh</span>
<span class="k">print</span> <span class="s">&quot;Energy generated in a year = %0.f MWh &quot;</span><span class="o">%</span><span class="k">E</span> 
</pre></div>

</div>
</div>
</div>

<div class="output_wrapper">
<div class="output">


<div class="output_area"><div class="prompt"></div>
<div class="output_subarea output_stream output_stdout output_text">
<pre>Energy generated in a year = 350400 MWh 
</pre>
</div>
</div>

</div>
</div>

</div>
<div class="cell border-box-sizing text_cell rendered">
<div class="prompt input_prompt">
</div>
<div class="inner_cell">
<div class="text_cell_render border-box-sizing rendered_html">
<h2 id="exa-1.19-page-25">exa 1.19 page 25<a class="anchor-link" href="#exa-1.19-page-25">&#182;</a></h2>
</div>
</div>
</div>
<div class="cell border-box-sizing code_cell rendered">
<div class="input">
<div class="prompt input_prompt">In&nbsp;[42]:</div>
<div class="inner_cell">
    <div class="input_area">
<div class=" highlight hl-ipython2"><pre><span class="kn">from</span> <span class="nn">math</span> <span class="kn">import</span> <span class="n">sqrt</span>
<span class="n">V</span><span class="o">=</span><span class="mi">400</span> <span class="c">#V</span>
<span class="n">s1</span><span class="o">=</span><span class="mf">0.03</span> <span class="c">#initial slip</span>
<span class="n">delV</span><span class="o">=</span><span class="mi">1</span> <span class="c">#%#/Voltage Drop</span>
<span class="n">R1</span><span class="o">=</span><span class="mf">0.290</span> <span class="c">#ohm/phase</span>
<span class="n">R2</span><span class="o">=</span><span class="mf">0.15</span> <span class="c">#ohm/phase</span>
<span class="n">X</span><span class="o">=</span><span class="mf">0.7</span> <span class="c">#ohm/phase(X1+X2)</span>
<span class="c">#V1**2*s1=V2**2*s2 for speed independent torque</span>
<span class="c">#taking for calculating s2</span>
<span class="n">V1</span><span class="o">=</span><span class="mi">1</span> <span class="c">#V </span>
<span class="n">V2</span><span class="o">=</span><span class="n">V1</span><span class="o">-</span><span class="n">V1</span><span class="o">*</span><span class="n">delV</span><span class="o">/</span><span class="mi">100</span> <span class="c">#V</span>
<span class="n">s2</span><span class="o">=</span><span class="n">V1</span><span class="o">**</span><span class="mi">2</span><span class="o">/</span><span class="n">V2</span><span class="o">**</span><span class="mi">2</span><span class="o">*</span><span class="n">s1</span> <span class="c">#slip</span>
<span class="n">I2ByI1</span><span class="o">=</span><span class="n">sqrt</span><span class="p">((</span><span class="n">R1</span><span class="o">+</span><span class="n">R2</span><span class="o">/</span><span class="n">s1</span><span class="p">)</span><span class="o">**</span><span class="mi">2</span><span class="o">+</span><span class="n">X</span><span class="o">**</span><span class="mi">2</span><span class="p">)</span><span class="o">/</span><span class="n">sqrt</span><span class="p">((</span><span class="n">R1</span><span class="o">+</span><span class="n">R2</span><span class="o">/</span><span class="n">s2</span><span class="p">)</span><span class="o">**</span><span class="mi">2</span><span class="o">+</span><span class="n">X</span><span class="o">**</span><span class="mi">2</span><span class="p">)</span><span class="o">*</span><span class="p">(</span><span class="n">V2</span><span class="o">/</span><span class="n">V1</span><span class="p">)</span>
<span class="n">delI</span><span class="o">=</span><span class="p">(</span><span class="n">I2ByI1</span><span class="o">-</span><span class="mi">1</span><span class="p">)</span><span class="o">*</span><span class="mi">100</span> <span class="c">#%#Current Increase</span>
<span class="k">print</span> <span class="s">&quot;1</span><span class="si">%%</span><span class="s"> drop in Voltage increases current by = </span><span class="si">%0.2f</span><span class="s"> </span><span class="si">%%</span><span class="s">&quot;</span><span class="o">%</span><span class="k">delI</span>
<span class="c">#P=(R1+R2/s)*I**2</span>
<span class="n">P2ByP1</span><span class="o">=</span><span class="p">(</span><span class="n">R1</span><span class="o">+</span><span class="n">R2</span><span class="o">/</span><span class="n">s2</span><span class="p">)</span><span class="o">/</span><span class="p">(</span><span class="n">R1</span><span class="o">+</span><span class="n">R2</span><span class="o">/</span><span class="n">s1</span><span class="p">)</span><span class="o">*</span><span class="n">I2ByI1</span><span class="o">**</span><span class="mi">2</span> <span class="c">#ratio</span>
<span class="n">delP</span><span class="o">=</span><span class="p">(</span><span class="mi">1</span><span class="o">-</span><span class="n">P2ByP1</span><span class="p">)</span><span class="o">*</span><span class="mi">100</span> <span class="c">#%#Power Decrease</span>
<span class="k">print</span> <span class="s">&quot;1</span><span class="si">%%</span><span class="s"> drop in Voltage decreases power input by = </span><span class="si">%0.1f</span><span class="s"> </span><span class="si">%%</span><span class="s">&quot;</span><span class="o">%</span><span class="k">delP</span> 
<span class="c">#Answer in the textbook is not accurate.</span>
</pre></div>

</div>
</div>
</div>

<div class="output_wrapper">
<div class="output">


<div class="output_area"><div class="prompt"></div>
<div class="output_subarea output_stream output_stdout output_text">
<pre>1% drop in Voltage increases current by = 0.86 %
1% drop in Voltage decreases power input by = 0.2 %
</pre>
</div>
</div>

</div>
</div>

</div>
    </div>
  </div>
</body>
</html>
