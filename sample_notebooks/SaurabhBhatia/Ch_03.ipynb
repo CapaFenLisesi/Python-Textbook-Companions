{
 "metadata": {
  "name": "",
  "signature": "sha256:764d1c60d9fefbb17ec0ffb4d8cdbf1cddd8802a6e86f8e004d6805017f0ecae"
 },
 "nbformat": 3,
 "nbformat_minor": 0,
 "worksheets": [
  {
   "cells": [
    {
     "cell_type": "heading",
     "level": 1,
     "metadata": {},
     "source": [
      "Chapter : 3 - Excess Carriers in Semiconductor"
     ]
    },
    {
     "cell_type": "heading",
     "level": 2,
     "metadata": {},
     "source": [
      "Example :  3.21.1 - Page No : 2-34"
     ]
    },
    {
     "cell_type": "code",
     "collapsed": false,
     "input": [
      "from __future__ import division\n",
      "# Given data\n",
      "N_d = 10**17 # atoms/cm**3\n",
      "n_i = 1.5 * 10**10 # in /cm**3\n",
      "n_o = 10**17 # in cm**3\n",
      "# p_o * n_o = (n_i)**2\n",
      "p_o = (n_i)**2 / n_o #in holes/cm**3\n",
      "print \"The holes concentration at equilibrium = %0.2e holes/cm**3 \" %p_o"
     ],
     "language": "python",
     "metadata": {},
     "outputs": [
      {
       "output_type": "stream",
       "stream": "stdout",
       "text": [
        "The holes concentration at equilibrium = 2.25e+03 holes/cm**3 \n"
       ]
      }
     ],
     "prompt_number": 1
    },
    {
     "cell_type": "heading",
     "level": 2,
     "metadata": {},
     "source": [
      "Example :  3.21.3 - Page No : 2-35"
     ]
    },
    {
     "cell_type": "code",
     "collapsed": false,
     "input": [
      "from math import log\n",
      "# Given data\n",
      "n_i = 1.5 * 10 **10 # in /cm**3 for silicon\n",
      "N_d = 10**17 # in atoms/cm**3\n",
      "n_o = 10**17 # electrons/cm**3\n",
      "KT = 0.0259 \n",
      "# E_r - E_i = KT * log(n_o/n_i)\n",
      "del_E = KT * log(n_o/n_i) # in eV\n",
      "print \"The energy band for this type material, E_F = Ei +\",round(del_E,3),\" eV\" "
     ],
     "language": "python",
     "metadata": {},
     "outputs": [
      {
       "output_type": "stream",
       "stream": "stdout",
       "text": [
        "The energy band for this type material, E_F = Ei + 0.407  eV\n"
       ]
      }
     ],
     "prompt_number": 2
    },
    {
     "cell_type": "heading",
     "level": 2,
     "metadata": {},
     "source": [
      "Example :  3.21.4 - Page No : 2-36"
     ]
    },
    {
     "cell_type": "code",
     "collapsed": false,
     "input": [
      "# Given data\n",
      "K = 1.38 * 10**-23 # in J/K\n",
      "T = 27 # in degree\n",
      "T = T + 273 # in K\n",
      "e = 1.6 * 10**-19 # in C\n",
      "Mu_e = 0.17 # in m**2/v-s\n",
      "Mu_e1 = 0.025 # in m**2/v-s\n",
      "D_n = ((K * T)/e) * Mu_e # in m**2/s\n",
      "print \"The diffusion coefficient of electrons = %0.1e m**2/s \" %D_n\n",
      "D_p = ((K * T)/e) * Mu_e1 # in m**2/s\n",
      "print \"The diffusion coefficient of  holes = %0.2e m**2/s \" %D_p"
     ],
     "language": "python",
     "metadata": {},
     "outputs": [
      {
       "output_type": "stream",
       "stream": "stdout",
       "text": [
        "The diffusion coefficient of electrons = 4.4e-03 m**2/s \n",
        "The diffusion coefficient of  holes = 6.47e-04 m**2/s \n"
       ]
      }
     ],
     "prompt_number": 3
    },
    {
     "cell_type": "heading",
     "level": 2,
     "metadata": {},
     "source": [
      "Example :  3.21.5 - Page No : 2-36"
     ]
    },
    {
     "cell_type": "code",
     "collapsed": false,
     "input": [
      "from math import sqrt\n",
      "# Given data\n",
      "Mu_n = 0.15 # in m**2/v-s\n",
      "K = 1.38 * 10**-23  # in J/K\n",
      "T = 300 # in K\n",
      "del_n = 10**20 # in per m**3\n",
      "Toh_n = 10**-7 # in s\n",
      "e = 1.6 * 10**-19 # in C\n",
      "D_n = Mu_n * ((K * T)/e) # in m**2/s\n",
      "print \"The diffusion coefficient = %0.2e m**2/s \" %D_n\n",
      "L_n = sqrt(D_n * Toh_n) # in m \n",
      "print \"The Diffusion length = %0.2e m \" %L_n\n",
      "J_n = (e * D_n * del_n)/L_n # in A/m**2\n",
      "print \"The diffusion current density = %0.2e A/m**2 \"  %J_n\n",
      "# Note : The value of diffusion coefficient in the book is wrong."
     ],
     "language": "python",
     "metadata": {},
     "outputs": [
      {
       "output_type": "stream",
       "stream": "stdout",
       "text": [
        "The diffusion coefficient = 3.88e-03 m**2/s \n",
        "The Diffusion length = 1.97e-05 m \n",
        "The diffusion current density = 3.15e+03 A/m**2 \n"
       ]
      }
     ],
     "prompt_number": 4
    },
    {
     "cell_type": "heading",
     "level": 2,
     "metadata": {},
     "source": [
      "Example :  3.21.6 - Page No : 2-36"
     ]
    },
    {
     "cell_type": "code",
     "collapsed": false,
     "input": [
      "# Given data\n",
      "Sigma = 0.1 # in (ohm-m)**-1\n",
      "Mu_n = 1300 \n",
      "n_i = 1.5 * 10**10 \n",
      "q = 1.6 * 10**-19 # in C\n",
      "n_n = Sigma/(Mu_n * q) # in electrons/cm**3\n",
      "print \"The concentration of electrons = %0.2e per m**3 \" %(n_n*10**6)\n",
      "p_n = (n_i)**2/n_n # in per cm**3\n",
      "p_n = p_n * 10**6 # in perm**3\n",
      "print \"The concentration of holes = %0.2e per m**3 \" %p_n"
     ],
     "language": "python",
     "metadata": {},
     "outputs": [
      {
       "output_type": "stream",
       "stream": "stdout",
       "text": [
        "The concentration of electrons = 4.81e+20 per m**3 \n",
        "The concentration of holes = 4.68e+11 per m**3 \n"
       ]
      }
     ],
     "prompt_number": 5
    },
    {
     "cell_type": "heading",
     "level": 2,
     "metadata": {},
     "source": [
      "Example :  3.21.7 - Page No : 2-37"
     ]
    },
    {
     "cell_type": "code",
     "collapsed": false,
     "input": [
      "# Given data\n",
      "Mu_e = 0.13 # in m**2/v-s\n",
      "Mu_h = 0.05 # in m**2/v-s\n",
      "Toh_h = 10**-6 # in s\n",
      "L = 100 # in \u00b5m\n",
      "L = L * 10**-6 # in m\n",
      "V = 2 # in V\n",
      "t_n =L**2/(Mu_e * V) # in s\n",
      "print \"Electron transit time = %0.1e seconds \" %t_n\n",
      "p_g = (Toh_h/t_n) * (1 + Mu_h/Mu_e) #photo conductor gain \n",
      "print \"Photo conductor gain = %0.2f\" %p_g\n",
      "\n",
      "# Note: There is a calculation error to evaluate the value of t_n. So the answer in the book is wrong"
     ],
     "language": "python",
     "metadata": {},
     "outputs": [
      {
       "output_type": "stream",
       "stream": "stdout",
       "text": [
        "Electron transit time = 3.8e-08 seconds \n",
        "Photo conductor gain = 36.00\n"
       ]
      }
     ],
     "prompt_number": 6
    },
    {
     "cell_type": "heading",
     "level": 2,
     "metadata": {},
     "source": [
      "Example :  3.21.8 - Page No : 2-37"
     ]
    },
    {
     "cell_type": "code",
     "collapsed": false,
     "input": [
      "# Given data\n",
      "n_i = 2.5 * 10**13 \n",
      "Mu_n = 3800 \n",
      "Mu_p = 1800 \n",
      "q = 1.6 * 10**-19 # in C\n",
      "Sigma = n_i * (Mu_n + Mu_p) * q # in (ohm-cm)**-1\n",
      "Rho = 1/Sigma # in ohm-cm\n",
      "Rho= round(Rho) \n",
      "print \"The resistivity of intrinsic germanium = %0.f ohm-cm \" %Rho\n",
      "N_D = 4.4 * 10**22/(1*10**8) # in atoms/cm**3\n",
      "Sigma_n = N_D * Mu_n * q # in (ohm-cm)**-1\n",
      "Rho_n = 1/Sigma_n # in ohm-cm\n",
      "print \"The resistivity drops = %0.2f ohm-cm \" %Rho_n"
     ],
     "language": "python",
     "metadata": {},
     "outputs": [
      {
       "output_type": "stream",
       "stream": "stdout",
       "text": [
        "The resistivity of intrinsic germanium = 45 ohm-cm \n",
        "The resistivity drops = 3.74 ohm-cm \n"
       ]
      }
     ],
     "prompt_number": 9
    },
    {
     "cell_type": "heading",
     "level": 2,
     "metadata": {},
     "source": [
      "Example :  3.21.9 - Page No : 2-38"
     ]
    },
    {
     "cell_type": "code",
     "collapsed": false,
     "input": [
      "# Given data\n",
      "n_i = 10**16 # in /m3\n",
      "N_D = 10**22 # in /m**3\n",
      "n = N_D # in /m**3\n",
      "print \"Electron concentration = %0.1e per m**3 \" %n\n",
      "p = (n_i)**2/n # in /m**3\n",
      "print \"Hole concentration = %0.1e per m**3 \" %p"
     ],
     "language": "python",
     "metadata": {},
     "outputs": [
      {
       "output_type": "stream",
       "stream": "stdout",
       "text": [
        "Electron concentration = 1.0e+22 per m**3 \n",
        "Hole concentration = 1.0e+10 per m**3 \n"
       ]
      }
     ],
     "prompt_number": 8
    }
   ],
   "metadata": {}
  }
 ]
}