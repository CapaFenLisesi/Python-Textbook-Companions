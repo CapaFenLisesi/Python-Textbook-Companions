{
 "cells": [
  {
   "cell_type": "markdown",
   "metadata": {},
   "source": [
    "# Chapter 12 : Absorption of Gases"
   ]
  },
  {
   "cell_type": "markdown",
   "metadata": {},
   "source": [
    "## Page No 669 Example 12.1"
   ]
  },
  {
   "cell_type": "code",
   "execution_count": 27,
   "metadata": {
    "collapsed": false
   },
   "outputs": [
    {
     "name": "stdout",
     "output_type": "stream",
     "text": [
      "\n",
      " For S02:\n",
      "\n",
      "    kGa = 0.00012 ol/s m**3(kN/m**2)\n",
      "\n",
      " For NH3:\n",
      "\n",
      "    kGa = 0.00016 kmol/s m**3(kN/m**2)\n",
      "\n",
      " For a very soluble gas such as NH3, kGa = KGa.\n",
      "\n",
      "   For NH3 the liquid-film resistance will be small, and:\n",
      "\n",
      "          kGa =KGa = 0.00016 mol/s m**3(kN/m**2)\n"
     ]
    }
   ],
   "source": [
    "from __future__ import division\n",
    "#Overall liquid transfer coefficient KLa = 0.003 kmol/s.m**3(kmol/m**3)\n",
    "\n",
    "#(1/KLa)=(1/kLa)+(1/HkGa)\n",
    "# let (KLa)=x\n",
    "x = 0.003#\n",
    "overall = 1/x#\n",
    "\n",
    "#For the absorption of a moderately soluble gas it is reasonable to assume that the liquid and gas phase resistances are of the same order ofmagnitude, assuming them to be equal.\n",
    "#(1/KLa)=(1/kLa)+(1/HkGa)\n",
    "#let 1/kLa = 1/HkGa = y\n",
    "y = (1/(2*x))#\n",
    "z = (1/y)#            #z is in  kmol/s m**3(kmol/m**3)\n",
    "print \"\\n For S02:\"\n",
    "print \"\\n    kGa = %0.5f ol/s m**3(kN/m**2)\"%(z/50)#\n",
    "print \"\\n For NH3:\"\n",
    "d_SO2 = 0.103#           #diffusivity at 273K for SO2 in cm**2/sec\n",
    "d_NH3 = 0.170#           #diffusivity at 273K for NH3 in cm**2/sec\n",
    "print \"\\n    kGa = %0.5f kmol/s m**3(kN/m**2)\"%((z/50)*(d_NH3/d_SO2)**0.56)#\n",
    "print \"\\n For a very soluble gas such as NH3, kGa = KGa.\"\n",
    "print \"\\n   For NH3 the liquid-film resistance will be small, and:\"\n",
    "print \"\\n          kGa =KGa = %0.5f mol/s m**3(kN/m**2)\"%((z/50)*(d_NH3/d_SO2)**0.56)"
   ]
  },
  {
   "cell_type": "markdown",
   "metadata": {},
   "source": [
    "## Page No 671 Example 12.2"
   ]
  },
  {
   "cell_type": "code",
   "execution_count": 28,
   "metadata": {
    "collapsed": false
   },
   "outputs": [
    {
     "name": "stdout",
     "output_type": "stream",
     "text": [
      "\n",
      " d = 0.05 mm\n",
      "\n",
      " kG = 1.19*10**(-8) kmol/m**2sec(N/m**2)\n",
      "\n",
      " kG = 7.59*10**(-4)kg SO2/m**2sec(kN/m**2)\n"
     ]
    }
   ],
   "source": [
    "G = 2#                             #air flow rate in kg/m**2.sec\n",
    "Re = 5160#                         #Re stands for Reynolds number\n",
    "f = 0.02#                         #friction factor = R/pu**2\n",
    "d_SO2 = 0.116*10**(-4)#            #diffusion coefficient in m**2/sec\n",
    "v = 1.8*10**(-5)#                        #viscosity in mNs/m**2\n",
    "p = 1.154#                        #density is in kg/m**3\n",
    "\n",
    "#(hd/u)(Pm/P)(u/p/d_SO2)**0.56 = BRe**(-0.17)=jd\n",
    "\n",
    "def a1():\n",
    "    x = (v/(p*d_SO2))**(0.56)#\n",
    "    return x\n",
    "\n",
    "\n",
    "#jd = f =R/pu**2\n",
    "def a2():\n",
    "    y = f/a1()#\n",
    "    return y\n",
    "#G = pu\n",
    "u = (G/p)#                     #u is in m/sec\n",
    "\n",
    "def a3():\n",
    "    x1 = a2()*u#\n",
    "    return x1\n",
    "\n",
    "def d1():\n",
    "    d = Re*v/(G)#\n",
    "    return d\n",
    "\n",
    "print \"\\n d = %0.2f mm\"%(d1())#\n",
    "R = 8314#            #R is in m**3(N/m**2)/K kmol\n",
    "T = 298#             #T is in Kelvins\n",
    "def kG1():\n",
    "    kG = a3()/(R*T)#\n",
    "    return kG\n",
    "\n",
    "print \"\\n kG = %.2f*10**(-8) kmol/m**2sec(N/m**2)\"%(kG1()*10**(8))#\n",
    "print \"\\n kG = %.2f*10**(-4)kg SO2/m**2sec(kN/m**2)\"%(kG1()*10**(7)*64)#"
   ]
  },
  {
   "cell_type": "markdown",
   "metadata": {},
   "source": [
    "## Page No 694 Example 12.3"
   ]
  },
  {
   "cell_type": "code",
   "execution_count": 32,
   "metadata": {
    "collapsed": false
   },
   "outputs": [
    {
     "name": "stdout",
     "output_type": "stream",
     "text": [
      "\n",
      "    x1 = 0.01\n",
      "\n",
      "     NoL =7.38\n"
     ]
    }
   ],
   "source": [
    "from sympy import symbols, solve, log\n",
    "#as the system are dilute mole fractions are approximately equal to mole ratios.\n",
    "#At the bottom of the tower\n",
    "y1 =0.015#            #mole fraction\n",
    "G = 1#                #Gas flow rate is in kg/m**2sec\n",
    "#At the top of the tower\n",
    "y2 = 0.00015#         #mole fraction\n",
    "x2 = 0#\n",
    "L = 1.6#             #liquid flow rate is in kg/m**2.sec\n",
    "Lm = 1.6/18#         #liquid flow rate is in kmol/m**2.sec\n",
    "Gm = 1.0/29#         #gas flow rate is in kmol/m**2.sec\n",
    "\n",
    "x1 = symbols('x1')\n",
    "x11 = solve(Gm*(y1-y2)-Lm*(x1),x1)[0]\n",
    "\n",
    "print \"\\n    x1 = %0.2f\"%(x11)#\n",
    "def henry_law(x):\n",
    "    ye1 = 1.75*x#\n",
    "    return ye1\n",
    "bottom_driving_force = y1 - henry_law(x11)#\n",
    "def log_mean():\n",
    "     lm = (bottom_driving_force-y2)/log(bottom_driving_force/y2)\n",
    "     return lm\n",
    "NoG = (y1-y2)/log_mean()\n",
    "NoL = NoG*1.75*(Gm/Lm)#\n",
    "print \"\\n     NoL =%.2f\"%(NoL)#"
   ]
  },
  {
   "cell_type": "markdown",
   "metadata": {},
   "source": [
    "## Page No 699 Example 12.4"
   ]
  },
  {
   "cell_type": "code",
   "execution_count": 33,
   "metadata": {
    "collapsed": false
   },
   "outputs": [
    {
     "name": "stdout",
     "output_type": "stream",
     "text": [
      "\n",
      "     Z =7.80m\n",
      "\n",
      "  Height of transfer unit HoG = 0.375m\n",
      "\n",
      " Number of transfer units NoG = 21.00\n"
     ]
    }
   ],
   "source": [
    "from sympy import symbols, solve\n",
    "from math import ceil\n",
    "Gm = 0.015#\n",
    "KGa = 0.04#\n",
    "top = 0.0003#\n",
    "Y1 = 0.03#\n",
    "Ye = 0.026#\n",
    "bottom = (Y1-Ye)#\n",
    "log_mean_driving_force = (bottom-top)/log(bottom/top)#\n",
    "Z = symbols('Z')\n",
    "Z1 = solve(Gm*(Y1-top)-KGa*log_mean_driving_force*Z,Z)[0]\n",
    "print \"\\n     Z =%.2fm\"%(Z1)#\n",
    "HoG = Gm/KGa#\n",
    "print \"\\n  Height of transfer unit HoG = %.3fm\"%(HoG)#\n",
    "print \"\\n Number of transfer units NoG = %0.2f\"%(ceil(7.79/0.375))#"
   ]
  },
  {
   "cell_type": "markdown",
   "metadata": {},
   "source": [
    "## Page No 700 Example 12.5"
   ]
  },
  {
   "cell_type": "code",
   "execution_count": 34,
   "metadata": {
    "collapsed": false
   },
   "outputs": [
    {
     "data": {
      "image/png": "[encoded data removed]",
      "text/plain": [
       "<matplotlib.figure.Figure at 0x7f4b195450d0>"
      ]
     },
     "metadata": {},
     "output_type": "display_data"
    },
    {
     "name": "stdout",
     "output_type": "stream",
     "text": [
      "The height of the tower is 4.91 meters\n"
     ]
    }
   ],
   "source": [
    "%matplotlib inline\n",
    "from matplotlib.pyplot import plot, show, xlabel, ylabel, title\n",
    "from numpy import arange\n",
    "y1 = 0.10#\n",
    "Y1 = 0.10/(1-0.10)#\n",
    "y2 = 0.001#\n",
    "Y2 = y2#\n",
    "mass_flowrate_gas = 0.95#       #mass flow rate in kg/m**2.sec\n",
    "mass_percent_air = (0.9*29/(0.1*17+0.9*29))*100#\n",
    "mass_flowrate_air = (mass_percent_air*mass_flowrate_gas)##in kg/m**2.sec\n",
    "Gm = (mass_flowrate_air/29)#\n",
    "Lm = 0.65/18#         #Lm is in kmol/m**2.sec\n",
    "#A mass balance between a plane in the tower where the compositions are X and Y and the top of the tower gives:\n",
    "\n",
    "#Y = 1.173X+0.001\n",
    "X = arange(0,0.159,0.001)\n",
    "Y=[]\n",
    "for x in X:\n",
    "    Y.append(1.173*x+0.001)\n",
    "plot(X,Y)#\n",
    "\n",
    "x=[0.021,0.031,0.042,0.053,0.079,0.106,0.159]\n",
    "\n",
    "PG = [12,18.2,24.9, 31.7, 50.0, 69.6, 114.0]\n",
    "i=0\n",
    "Y1=[]\n",
    "while i<7:\n",
    "    Y1.append(PG[(i)]/(760-PG[(i)]))\n",
    "    i=i+1\n",
    "\n",
    "plot(x,Y1)#\n",
    "#xlabel(\"Area under the curve is 3.82m\"%(\"kmolNH3/kmolH2O\"%(\"kmolNH3/kmol air\"\n",
    "\n",
    "              \n",
    "title(\"Operating and equilibrium lines\")\n",
    "xlabel(\"kmol NH3/kmol H2O\")\n",
    "ylabel(\"kmol NH3/kmol air\")\n",
    "show()\n",
    "#If the equilibrium line is assumed to be straight, then:\n",
    "#Gm(Y2 − Y1) = KGaZdeltaPlm\n",
    "\n",
    "#Top driving force\n",
    "deltaY2 = 0.022#\n",
    "#Bottom driving force\n",
    "deltaY1 = 0.001#\n",
    "deltaYlm = 0.0068#\n",
    "Z = (0.0307*0.11)/(0.001*0.688)#\n",
    "print \"The height of the tower is %.2f meters\"%(Z)#"
   ]
  },
  {
   "cell_type": "markdown",
   "metadata": {},
   "source": [
    "## Page No 708 Example 12.6"
   ]
  },
  {
   "cell_type": "code",
   "execution_count": 35,
   "metadata": {
    "collapsed": false
   },
   "outputs": [
    {
     "name": "stdout",
     "output_type": "stream",
     "text": [
      "\n",
      " Number of theoretical plates = 9\n",
      "\n",
      " LHS = 0.98\n",
      "\n",
      " 1/A = 1.00\n",
      "\n",
      " Gm/Lm = 0.333\n",
      "\n",
      " Actual/minimum Gm/Lm = 1.39\n",
      "\n",
      " Actual Gm/Lm = 0.656\n",
      "\n",
      " 1/A = mGm/Lm = 1.968\n",
      "\n",
      " The actual number of plates are : 17.0\n"
     ]
    }
   ],
   "source": [
    "from sympy import symbols, solve, log\n",
    "print \"\\n Number of theoretical plates = %d\"%((30*0.3))#\n",
    "\n",
    "#At the bottom of the tower:\n",
    "#Flowrate of steam = Gm (kmol/m**22s)\n",
    "#Mole ratio of pentane in steam = Y1, and\n",
    "#Mole ratio of pentane in oil = X1\n",
    "X1 = 0.001#\n",
    "\n",
    "#At the top of the tower:\n",
    "#exit steam composition = Y2\n",
    "#inlet oil composition = X2\n",
    "X2 = 0.06#\n",
    "#flowrate of oil = Lm (kmol/m**2.sec)\n",
    "\n",
    "#The minimum steam consumption occurs when the exit steam stream is in equilibrium with the inlet oil, that is when:\n",
    "#The equilibrium relation for the system may be taken as Ye = 3.0X, where Ye and X are expressed in mole ratios of pentane in the gas and liquid phases respectively.\n",
    "Ye2 = X2*3#\n",
    "#Lmin(X2 − X1) = Gmin(Y2 − Y1)\n",
    "#If Y1 = 0, that is the inlet steam is pentane-free, then:\n",
    "ratio_min = (X2 - X1)/Ye2#\n",
    "\n",
    "\n",
    "#The operating line may be fixed by trial and error as it passes through the point (0.001, 0), and 9 theoretical plates are required for the separation. Thus it is a matter of selecting the operating line which, with 9 steps, will give X2 = 0.001 when X1 = 0.06. This is tedious but possible, and the problem may be better solved analytically since the equilibrium line is straight.\n",
    "\n",
    "#let x = 1/A\n",
    "#for a stripping operation\n",
    "LHS = (X2-X1)/(X2)#\n",
    "print \"\\n LHS = %0.2f\"%(LHS)#\n",
    "x = symbols('x')\n",
    "x1 = solve((x**10-x)-LHS*(x**(10)-1),x)[0]\n",
    "print \"\\n 1/A = %.2f\"%(x1)#\n",
    "#A = Lm/mGm\n",
    "print \"\\n Gm/Lm = %.3f\"%(x1/3)#\n",
    "print \"\\n Actual/minimum Gm/Lm = %.2f\"%(0.457/0.328)#\n",
    "\n",
    "#If (actual Gm/Lm)/(min Gm/Lm) = 2,\n",
    "print \"\\n Actual Gm/Lm = %.3f\"%(.328*2)#\n",
    "x2 = 3*(0.656)#\n",
    "print \"\\n 1/A = mGm/Lm = %.3f\"%(3*0.656)#\n",
    "\n",
    "#y = (1.968)**(N+1)\n",
    "y = symbols('y')\n",
    "y1 = solve(0.983*(y-1)-(y-1.968),y)[0]\n",
    "N = log(y1)/log(1.968)-1#\n",
    "print \"\\n The actual number of plates are : %.1f\"%(ceil(N/0.3))#"
   ]
  }
 ],
 "metadata": {
  "kernelspec": {
   "display_name": "Python 2",
   "language": "python",
   "name": "python2"
  },
  "language_info": {
   "codemirror_mode": {
    "name": "ipython",
    "version": 2
   },
   "file_extension": ".py",
   "mimetype": "text/x-python",
   "name": "python",
   "nbconvert_exporter": "python",
   "pygments_lexer": "ipython2",
   "version": "2.7.9"
  }
 },
 "nbformat": 4,
 "nbformat_minor": 0
}
