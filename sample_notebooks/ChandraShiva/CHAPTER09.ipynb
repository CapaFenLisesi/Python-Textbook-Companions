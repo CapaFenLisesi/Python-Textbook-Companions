{
 "metadata": {
  "name": "",
  "signature": "sha256:2fe5d303c17886b921f7fce80c636f86023d9235c3c8b0a7cac768a73d655baa"
 },
 "nbformat": 3,
 "nbformat_minor": 0,
 "worksheets": [
  {
   "cells": [
    {
     "cell_type": "heading",
     "level": 1,
     "metadata": {},
     "source": [
      "CHAPTER09 : NETWORK FUNCTION"
     ]
    },
    {
     "cell_type": "heading",
     "level": 2,
     "metadata": {},
     "source": [
      "Example E24 - Pg 608"
     ]
    },
    {
     "cell_type": "code",
     "collapsed": false,
     "input": [
      "                             # EXAMPLE 9-24         PG NO-608-609\n",
      "import math \n",
      "L=20.;                          # INDUCTANCE\n",
      "R=2.*L;                        # RESISTANCE\n",
      "print '%s %.2f %s' %('i)  Resistance (R) is    =',R,'ohm');\n",
      "Wo=math.sqrt(101.);\n",
      "print '%s %.2f %s' %('ii)  Wo (Wo) is          =',Wo,'rad/sec');\n",
      "Q=(Wo*L)/R;\n",
      "print '%s %.2f' %('iii) Q  is               = ',Q);\n",
      "BW=Wo/Q;\n",
      "print '%s %.2f %s' %('iv) BANDWIDTH (BW) is    =  ',BW,' rad/sec  ');\n"
     ],
     "language": "python",
     "metadata": {},
     "outputs": [
      {
       "output_type": "stream",
       "stream": "stdout",
       "text": [
        "i)  Resistance (R) is    = 40.00 ohm\n",
        "ii)  Wo (Wo) is          = 10.05 rad/sec\n",
        "iii) Q  is               =  5.02\n",
        "iv) BANDWIDTH (BW) is    =   2.00  rad/sec  \n"
       ]
      }
     ],
     "prompt_number": 1
    },
    {
     "cell_type": "heading",
     "level": 2,
     "metadata": {},
     "source": [
      "Example E26 - Pg 609"
     ]
    },
    {
     "cell_type": "code",
     "collapsed": false,
     "input": [
      "                           # EXAMPLE 9-26            PG NO-609-610\n",
      "C=10.** -6.;\n",
      "X=5.*10.** 6.;\n",
      "L=1./(C*X);\n",
      "print '%s %.2f %s' %('i) INDUCTAR (L) is     =',L,' H  ');\n",
      "R=10.*L;\n",
      "print '%s %.2f %s' %('ii) Resistance (R) is  =',R,' ohm  ');\n",
      "W=2.236*10.** 3.;\n",
      "Q=(W*L)/R;\n",
      "print '%s %.2f' %('iii) (Q) is            =  ',Q);\n",
      "BW=W/Q;\n",
      "print '%s %.2f %s' %('iv) Band Width (BW) is =',BW,' rad/sec  ');\n"
     ],
     "language": "python",
     "metadata": {},
     "outputs": [
      {
       "output_type": "stream",
       "stream": "stdout",
       "text": [
        "i) INDUCTAR (L) is     = 0.20  H  \n",
        "ii) Resistance (R) is  = 2.00  ohm  \n",
        "iii) (Q) is            =   223.60\n",
        "iv) Band Width (BW) is = 10.00  rad/sec  \n"
       ]
      }
     ],
     "prompt_number": 2
    },
    {
     "cell_type": "heading",
     "level": 2,
     "metadata": {},
     "source": [
      "Example E32 - Pg 618"
     ]
    },
    {
     "cell_type": "code",
     "collapsed": false,
     "input": [
      "                           # Example 9-32         PG NO 618-619\n",
      "import math, cmath\n",
      "P1=1-1j*50;\n",
      "P2=1+1j*150;\n",
      "Z1=0+0j*50;\n",
      "I=(0.2*Z1)/(P1*P2);\n",
      "print 'i) Current (I) is    =  ',I,'A'\n",
      "L=5.; \n",
      "R=10.;\n",
      "C=2.*10.** -5.;\n",
      "Wo=1/math.sqrt(L*C);\n",
      "print 'ii) Wo (Wo) is    =  ',Wo,' rad/sec  '\n",
      "Q=(Wo*L)/R;\n",
      "print 'iii) Q (Q) is    =  ',Q;\n",
      "BW=Wo/Q;\n",
      "print 'ii) Band Width (BW) is    =  ',BW,' rad/sec  '\n"
     ],
     "language": "python",
     "metadata": {},
     "outputs": [
      {
       "output_type": "stream",
       "stream": "stdout",
       "text": [
        "i) Current (I) is    =   0j A\n",
        "ii) Wo (Wo) is    =   100.0  rad/sec  \n",
        "iii) Q (Q) is    =   50.0\n",
        "ii) Band Width (BW) is    =   2.0  rad/sec  \n"
       ]
      }
     ],
     "prompt_number": 3
    },
    {
     "cell_type": "heading",
     "level": 2,
     "metadata": {},
     "source": [
      "Example E37 - Pg 623"
     ]
    },
    {
     "cell_type": "code",
     "collapsed": false,
     "input": [
      "                             # EXAMPLE 9-37             PG NO 623-624\n",
      "C=1./8.5;                                  # Capacitor\n",
      "L=1./(17.*C);                              # Inductar\n",
      "print '%s %.2f %s' %('ii) Inductar (L) is    =  ',L,'H');\n",
      "R=2.*L;                                  # Resistance\n",
      "print '%s %.2f %s' %('ii) Resistance (R) is  =  ',R,' ohm  ');\n"
     ],
     "language": "python",
     "metadata": {},
     "outputs": [
      {
       "output_type": "stream",
       "stream": "stdout",
       "text": [
        "ii) Inductar (L) is    =   0.50 H\n",
        "ii) Resistance (R) is  =   1.00  ohm  \n"
       ]
      }
     ],
     "prompt_number": 4
    },
    {
     "cell_type": "heading",
     "level": 2,
     "metadata": {},
     "source": [
      "Example E38 - Pg 624"
     ]
    },
    {
     "cell_type": "code",
     "collapsed": false,
     "input": [
      "                         # EXAMPLE 9-38   PG NO=624-625\n",
      "C=1./9.;                # CAPACITOR\n",
      "X=2.;              # R/L=X\n",
      "Y=6-X;             # G/C\n",
      "G=4.*C;\n",
      "print '%s %.2f %s' %('i) G (G)   =  ',G,' ohm')\n",
      "L=0.9;\n",
      "R=1.8;\n"
     ],
     "language": "python",
     "metadata": {},
     "outputs": [
      {
       "output_type": "stream",
       "stream": "stdout",
       "text": [
        "i) G (G)   =   0.44  ohm\n"
       ]
      }
     ],
     "prompt_number": 5
    },
    {
     "cell_type": "heading",
     "level": 2,
     "metadata": {},
     "source": [
      "Example E46 - Pg 630"
     ]
    },
    {
     "cell_type": "code",
     "collapsed": false,
     "input": [
      "                           # EXAMPLE 9-46            PG NO 630-631\n",
      "import cmath\n",
      "ZA=5+1j*3;\n",
      "YA=1./ZA;\n",
      "print 'i) Admittance (YA) is    =  ',YA,' siemens  ';\n",
      "V=100.;                       # VOLTAGE\n",
      "IA=V*YA;\n",
      "print 'ii) Current (IA) is    =  ',IA,' A  ';\n"
     ],
     "language": "python",
     "metadata": {},
     "outputs": [
      {
       "output_type": "stream",
       "stream": "stdout",
       "text": [
        "i) Admittance (YA) is    =   (0.147058823529-0.0882352941176j)  siemens  \n",
        "ii) Current (IA) is    =   (14.7058823529-8.82352941176j)  A  \n"
       ]
      }
     ],
     "prompt_number": 6
    },
    {
     "cell_type": "heading",
     "level": 2,
     "metadata": {},
     "source": [
      "Example E50 - Pg 632"
     ]
    },
    {
     "cell_type": "code",
     "collapsed": false,
     "input": [
      "                 # EXAMPLE 9-50            PG NO-632\n",
      "I1=17.39-1j*4.66;         # CURRENT\n",
      "I2=9+1j*15.68;           # CURRENT\n",
      "I3=-1j*10.95;            # CURRENT\n",
      "I=I1+I2+I3;\n",
      "print 'i)CURRENT (I)   =  ',I,' A'\n"
     ],
     "language": "python",
     "metadata": {},
     "outputs": [
      {
       "output_type": "stream",
       "stream": "stdout",
       "text": [
        "i)CURRENT (I)   =   (26.39+0.07j)  A\n"
       ]
      }
     ],
     "prompt_number": 7
    },
    {
     "cell_type": "heading",
     "level": 2,
     "metadata": {},
     "source": [
      "Example E56 - Pg 636"
     ]
    },
    {
     "cell_type": "code",
     "collapsed": false,
     "input": [
      "                # example 9-56   pg no-636\n",
      "Z1=8.05+1j*2.156;             # IMPEDANCE\n",
      "XL=2.155;\n",
      "W=5000;\n",
      "L=XL/W;\n",
      "print 'i)INDUCTANCE (L)   =  ',L,' H'\n",
      "Z2=4.166-1j*7.216;          # IMPEDANCE\n",
      "Xc=7.216;\n",
      "C=1/(W*Xc);\n",
      "print 'ii)CAPACITOR (C)   =  ',C,' F'\n",
      "D=11.708;             # DIAMETER\n",
      "XL1=12.81;\n",
      "L1=XL1/W;\n",
      "print 'i) INDUCTANCE (L1)   =  ',L1,' H'\n"
     ],
     "language": "python",
     "metadata": {},
     "outputs": [
      {
       "output_type": "stream",
       "stream": "stdout",
       "text": [
        "i)INDUCTANCE (L)   =   0.000431  H\n",
        "ii)CAPACITOR (C)   =   2.77161862528e-05  F\n",
        "i) INDUCTANCE (L1)   =   0.002562  H\n"
       ]
      }
     ],
     "prompt_number": 8
    }
   ],
   "metadata": {}
  }
 ]
}