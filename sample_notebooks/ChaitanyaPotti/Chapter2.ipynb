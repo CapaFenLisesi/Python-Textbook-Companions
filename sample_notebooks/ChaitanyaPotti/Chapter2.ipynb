{
 "metadata": {
  "name": "",
  "signature": "sha256:b659456964884efc24c6f36b543fc4c77e2e36dfdbc033ad2f4c3e2f2bce479c"
 },
 "nbformat": 3,
 "nbformat_minor": 0,
 "worksheets": [
  {
   "cells": [
    {
     "cell_type": "heading",
     "level": 1,
     "metadata": {},
     "source": [
      "Chapter 2 - Amplitude Modulation"
     ]
    },
    {
     "cell_type": "heading",
     "level": 2,
     "metadata": {},
     "source": [
      "Example 1 - pg 51"
     ]
    },
    {
     "cell_type": "code",
     "collapsed": false,
     "input": [
      "#calcualate the carrier frequency\n",
      "#given\n",
      "import math\n",
      "L = 50*10**-6#in henry\n",
      "C = 1*10**-9#in farads\n",
      "#calculation\n",
      "F_c = 1/(2.*math.pi*math.sqrt(L*C))/1000.;\n",
      "#results\n",
      "print '%s %d %s' %(\"Carrier frequency F_c =\",math.ceil(F_c),\" kHz\")\n",
      "print(\"Now , it is given that the highest modulation frequency is 8KHz \");\n",
      "print(\"Therefore, the frequency range occupied by the sidebands will range from 8KHz \\nabove to 8KHz below the carrier frequency, extending fom 712KHz to 720KHz.\");\n"
     ],
     "language": "python",
     "metadata": {},
     "outputs": [
      {
       "output_type": "stream",
       "stream": "stdout",
       "text": [
        "Carrier frequency F_c = 712  kHz\n",
        "Now , it is given that the highest modulation frequency is 8KHz \n",
        "Therefore, the frequency range occupied by the sidebands will range from 8KHz \n",
        "above to 8KHz below the carrier frequency, extending fom 712KHz to 720KHz.\n"
       ]
      }
     ],
     "prompt_number": 3
    },
    {
     "cell_type": "heading",
     "level": 2,
     "metadata": {},
     "source": [
      "Example 2 - pg 51"
     ]
    },
    {
     "cell_type": "code",
     "collapsed": false,
     "input": [
      "#calculate the modulation index, upper and lower sideband frequency, bandwidth of modulation signal\n",
      "\n",
      "\n",
      "#given\n",
      "#v_m = 10*sin(2*%pi*10^3*t)\n",
      "#by comparing with v_m = V_m*sin(2*%pi*f_c*t) we get\n",
      "V_m = 10.#in volts\n",
      "f_m = 1*10**3#in hertz\n",
      "V_c = 20.#in volts\n",
      "f_c = 1*10**4#in hertz\n",
      "\n",
      "#calculations\n",
      "m_a = V_m/V_c;#modulation index formula\n",
      "m_a1 = m_a*100;#percentage modulation index\n",
      "f_usb = f_c + f_m;#Upper sideband\n",
      "f_lsb = f_c - f_m;#lower sideband\n",
      "A = (m_a*V_c)/2#amplitude of upper as well as lower sideband\n",
      "B = 2*f_m;#bandwidth of the modulation signal\n",
      "\n",
      "#results\n",
      "print '%s %.2f' %(\"i.a.Modulation index= \",m_a);\n",
      "print '%s %d %s' %(\"   b.Percentage modulation index=\",m_a1,\" percent\");\n",
      "print '%s %.f %s' %(\"ii.a.Upper sidebandfrequency=\",f_usb,\"Hz\");\n",
      "print '%s %.f %s' %(\"    b.Lower sideband frequency=\",f_lsb,\"Hz \"); \n",
      "print '%s %.f %s' %(\"iii.Amplitude of Upper sideband and Lower sideband =\",A,\"V\");\n",
      "print '%s %.f %s' %(\"\\iv.Bandwidth of the modulation signal=\",B,\"Hz\");\n"
     ],
     "language": "python",
     "metadata": {},
     "outputs": [
      {
       "output_type": "stream",
       "stream": "stdout",
       "text": [
        "i.a.Modulation index=  0.50\n",
        "   b.Percentage modulation index= 50  percent\n",
        "ii.a.Upper sidebandfrequency= 11000 Hz\n",
        "    b.Lower sideband frequency= 9000 Hz \n",
        "iii.Amplitude of Upper sideband and Lower sideband = 5 V\n",
        "\\iv.Bandwidth of the modulation signal= 2000 Hz\n"
       ]
      }
     ],
     "prompt_number": 5
    },
    {
     "cell_type": "heading",
     "level": 2,
     "metadata": {},
     "source": [
      "Example 3 - pg 54"
     ]
    },
    {
     "cell_type": "code",
     "collapsed": false,
     "input": [
      "#calculate the total power in the amplitude modulated wave\n",
      "\n",
      "\n",
      "#given\n",
      "m_a = .75;#modulation index\n",
      "P_c = 400.;#carrier power in watts\n",
      "\n",
      "#calculation\n",
      "P_t = P_c*(1+(m_a**2/2));#total power \n",
      "\n",
      "#results\n",
      "print \"Total power in  the amplitude modulated wave (in W) = \",P_t;\n"
     ],
     "language": "python",
     "metadata": {},
     "outputs": [
      {
       "output_type": "stream",
       "stream": "stdout",
       "text": [
        "Total power in  the amplitude modulated wave (in W) =  512.5\n"
       ]
      }
     ],
     "prompt_number": 7
    },
    {
     "cell_type": "heading",
     "level": 2,
     "metadata": {},
     "source": [
      "Example 4 - pg 54"
     ]
    },
    {
     "cell_type": "code",
     "collapsed": false,
     "input": [
      "#calculate the carrier power\n",
      "#given\n",
      "P_t = 10*10**3;#total power in watts\n",
      "m_a = .6;#modulation index\n",
      "#calculation\n",
      "P_c = (P_t/(1+(m_a**2/2)));# carrier power\n",
      "#results\n",
      "print \"Carrier power (in kW) = \",round(P_c/1000.,2)\n"
     ],
     "language": "python",
     "metadata": {},
     "outputs": [
      {
       "output_type": "stream",
       "stream": "stdout",
       "text": [
        "Carrier power (in kW) =  8.47\n"
       ]
      }
     ],
     "prompt_number": 8
    },
    {
     "cell_type": "heading",
     "level": 2,
     "metadata": {},
     "source": [
      "Example 5 - pg 55"
     ]
    },
    {
     "cell_type": "code",
     "collapsed": false,
     "input": [
      "#calculate the modulation index and antenna current\n",
      "\n",
      "import math\n",
      "#given\n",
      "I_t = 8.93;#total modulated current in ampers\n",
      "I_c= 8;#carrier or unmodulated current in ampers\n",
      "#calculation\n",
      "m_a = math.sqrt(2*((I_t/I_c)**2 -1));#formula for modulation index\n",
      "M_a=m_a*100;#percentage modulation\n",
      "#for \n",
      "m_a1 = .8;#given modulation index\n",
      "\n",
      "#calculation\n",
      "I_t1 = I_c*math.sqrt(1+(m_a1**2/2));#new antenna current \n",
      "\n",
      "#results\n",
      "print \"i.a. Modulation index = \",round(m_a,3)\n",
      "print \"b.Percentage modulation index (percent) = \",round(M_a,1)\n",
      "print \"ii. Antenna current (in A) = \",round(I_t1,2)\n"
     ],
     "language": "python",
     "metadata": {},
     "outputs": [
      {
       "output_type": "stream",
       "stream": "stdout",
       "text": [
        "i.a. Modulation index =  0.701\n",
        "b.Percentage modulation index (percent) =  70.1\n",
        "ii. Antenna current (in A) =  9.19\n"
       ]
      }
     ],
     "prompt_number": 10
    },
    {
     "cell_type": "heading",
     "level": 2,
     "metadata": {},
     "source": [
      "Example 6 - pg 56"
     ]
    },
    {
     "cell_type": "code",
     "collapsed": false,
     "input": [
      "#calculate the carrier signal current, modulation indexes\n",
      "import math\n",
      "#given\n",
      "I_t1 = 10#antenna current in amps\n",
      "m1 = .3#modulation index\n",
      "I_t2 = 11#increased antenna current\n",
      "\n",
      "#calculation\n",
      "I_c = (I_t1/(1+(m1**2/2))**.5);#formula for carrier signal current\n",
      "m_t = math.sqrt(2*((I_t2/I_c)**2 -1));#formula for modulation index\n",
      "m2 = math.sqrt(m_t**2 - m1**2);\n",
      "m3 = m2*100;#percentage modulation index\n",
      "\n",
      "#results\n",
      "print \"i.Carrier signal current (in A) = \",round(I_c,2)\n",
      "print \"ii.Modulation index of signal = \",round(m_t,2)\n",
      "print \"iii.a.Modulation index of second signal = \",round(m2,2)\n",
      "print \"b.Percentage modulation index of second signal (percent) = \",round(m3,0)\n"
     ],
     "language": "python",
     "metadata": {},
     "outputs": [
      {
       "output_type": "stream",
       "stream": "stdout",
       "text": [
        "i.Carrier signal current (in A) =  9.78\n",
        "ii.Modulation index of signal =  0.73\n",
        "iii.a.Modulation index of second signal =  0.66\n",
        "b.Percentage modulation index of second signal (percent) =  66.0\n"
       ]
      }
     ],
     "prompt_number": 11
    }
   ],
   "metadata": {}
  }
 ]
}