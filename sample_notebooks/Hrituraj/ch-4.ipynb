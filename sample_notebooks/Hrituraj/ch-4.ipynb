{
 "cells": [
  {
   "cell_type": "markdown",
   "metadata": {},
   "source": [
    "# Chapter 4 - Design Against Fluctuating Load"
   ]
  },
  {
   "cell_type": "markdown",
   "metadata": {},
   "source": [
    "## exa 4.1 Pg 102"
   ]
  },
  {
   "cell_type": "code",
   "execution_count": 3,
   "metadata": {
    "collapsed": false
   },
   "outputs": [
    {
     "name": "stdout",
     "output_type": "stream",
     "text": [
      " for stepped plate under tension, Kt=1.75 for r/d = 0.000 & D/d = 1.00 \n",
      "\n",
      " for finite width plate under tension with a hole, Kt=2.42 for d0/w = 0.00\n",
      "\n",
      " Thickness of plate = 6.05 mm or 6 mm\n"
     ]
    }
   ],
   "source": [
    "## Given data\n",
    "P=6## kN\n",
    "#dimensions of plate\n",
    "r=5##mm\n",
    "d=40##mm\n",
    "D=50##mm\n",
    "d0=10##mm\n",
    "w=40##mm\n",
    "Sut=200##MPa\n",
    "n=2.5## factor of safety\n",
    "\n",
    "#Fillet - \n",
    "rBYd=r/d#\n",
    "DBYd=D/d#\n",
    "Kt=1.75## factor\n",
    "print ' for stepped plate under tension, Kt=%.2f for r/d = %.3f & D/d = %.2f '%(Kt,rBYd,DBYd)\n",
    "\n",
    "# Hole -\n",
    "d0BYw=d0/w#\n",
    "Kt=2.42## factor \n",
    "print '\\n for finite width plate under tension with a hole, Kt=%.2f for d0/w = %.2f'%(Kt,d0BYw)\n",
    "sigma_max_into_t = Kt*P/(w-d0)##N/mm sq.\n",
    "\n",
    "#Design stress\n",
    "sigma_d = Sut/n## MPa\n",
    "#putting sigma_max=sigma_d\n",
    "t=sigma_max_into_t/sigma_d*1000## mm\n",
    "print '\\n Thickness of plate = %.2f mm or %.f mm'%(t,t)"
   ]
  },
  {
   "cell_type": "markdown",
   "metadata": {},
   "source": [
    "## exa 4.2 Pg 104"
   ]
  },
  {
   "cell_type": "code",
   "execution_count": 13,
   "metadata": {
    "collapsed": false
   },
   "outputs": [
    {
     "name": "stdout",
     "output_type": "stream",
     "text": [
      "\n",
      " Diameter of axle = 1.0 mm\n"
     ]
    }
   ],
   "source": [
    "from math import pi\n",
    "# Given Data\n",
    "rBYd=0.1#\n",
    "DBYd=1.2#\n",
    "P=3## kN\n",
    "Syt=300##MPa\n",
    "n=3## factor of safety\n",
    "#dimensions of plate\n",
    "l1=400##mm\n",
    "l2=300##mm\n",
    "l3=400##mm\n",
    "\n",
    "\n",
    "sigma_d=Syt/n## MPa\n",
    "Kt=1.65## factor for circular fillet radius member\n",
    "Rp=P/2##kN (bearing reaction due to symmetry)\n",
    "Mf=Rp*l1## kN.mm (bending moment at fillet)\n",
    "Mc=P*(l1+l2+l3)/4## kN.mm (bending moment at centre)\n",
    "\n",
    "#Fillet\n",
    "#sigma_max=Kt*32*Mf/(pi*d**3)\n",
    "sigma_max_into_d_cube_1 = Kt*32*Mf*1000/pi\n",
    "\n",
    "\n",
    "#Centre\n",
    "#sigma_max=32*Mc/(pi*d**3)\n",
    "sigma_max_into_d_cube_2 = Kt*32*Mf*1000/pi\n",
    "sigma_max_into_d_cube=max(sigma_max_into_d_cube_1,sigma_max_into_d_cube_2)## (getting max)\n",
    "\n",
    "#putting sigma_max=sigma_d\n",
    "t=(sigma_max_into_d_cube/sigma_d)**(1/3)## mm\n",
    "print '\\n Diameter of axle = %.1f mm'%t"
   ]
  },
  {
   "cell_type": "markdown",
   "metadata": {},
   "source": [
    "## exa 4.3 Pg 105"
   ]
  },
  {
   "cell_type": "code",
   "execution_count": 5,
   "metadata": {
    "collapsed": false
   },
   "outputs": [
    {
     "name": "stdout",
     "output_type": "stream",
     "text": [
      "\n",
      " Endurance limit = 45.50 MPa\n"
     ]
    }
   ],
   "source": [
    "# Given Data\n",
    "Sut=440##MPa\n",
    "d=25##mm\n",
    "R=95/100## reliability\n",
    "Kt=1.8## stress concentration factor\n",
    "q=0.86## sensitivity factor\n",
    "\n",
    "Se_dash = 0.5*Sut## MPa\n",
    "\n",
    "# for machined surface\n",
    "ka=0.82## surface finish factor\n",
    "kb=0.85## size factor\n",
    "kc=0.868## reliability factor\n",
    "kd=1## temperature factor\n",
    "ke=0.577## load factor\n",
    "\n",
    "Kf=1+q*(Kt-1)## fatigue strength factor\n",
    "kf=1/Kf ## fatigue strength reduction factor\n",
    "Se=ka*kb*kc*kd*ke*kf*Se_dash## (MPa) Endurance limit\n",
    "print '\\n Endurance limit = %.2f MPa'%Se"
   ]
  },
  {
   "cell_type": "markdown",
   "metadata": {},
   "source": [
    "## exa 4.4 Pg 105"
   ]
  },
  {
   "cell_type": "code",
   "execution_count": 6,
   "metadata": {
    "collapsed": false
   },
   "outputs": [
    {
     "name": "stdout",
     "output_type": "stream",
     "text": [
      "\n",
      " Thickness of plate = 18.23 mm or 20 mm\n"
     ]
    }
   ],
   "source": [
    "# Given Data\n",
    "Sut=440##MPa\n",
    "w=60##mm\n",
    "d=12## mm\n",
    "P=20## kN\n",
    "q=0.8## sensitivity factor\n",
    "R=90/100## reliability\n",
    "n=2## factor of safety\n",
    "\n",
    "Kt=2.52## stress concentration factor\n",
    "Se_dash = 0.5*Sut## MPa\n",
    "# for hot rollednormalized condition\n",
    "ka=0.67## surface finish factor\n",
    "kb=0.85## size factor (assuming t<50 mm)\n",
    "kc=0.897## reliability factor\n",
    "kd=1## temperature factor\n",
    "ke=0.9## load factor\n",
    "dBYw=d/w# #(for circular hole)\n",
    "\n",
    "Kf=1+q*(Kt-1)## fatigue strength factor\n",
    "kf=1/Kf ## fatigue strength reduction factor\n",
    "Se=ka*kb*kc*kd*ke*kf*Se_dash## (MPa) Endurance limit\n",
    "sigma_d=Se/n## MPa (design stress)\n",
    "# sigma_max=P/(w-d)/t\n",
    "sigma_max_into_t = P*1000/(w-d)#\n",
    "# putting sigma_max=sigma_d\n",
    "t=sigma_max_into_t/sigma_d## mm\n",
    "print '\\n Thickness of plate = %.2f mm or 20 mm'%t"
   ]
  },
  {
   "cell_type": "markdown",
   "metadata": {},
   "source": [
    "## exa 4.5 Pg 107"
   ]
  },
  {
   "cell_type": "code",
   "execution_count": 14,
   "metadata": {
    "collapsed": false
   },
   "outputs": [
    {
     "name": "stdout",
     "output_type": "stream",
     "text": [
      "\n",
      " Endurance of specimen = 325.00 MPa\n"
     ]
    }
   ],
   "source": [
    "from math import pi, log10\n",
    "# Given Data\n",
    "Sut=650##MPa\n",
    "N=10**5## cycles\n",
    "Se_dash = 0.5*Sut## MPa\n",
    "of=5## unit\n",
    "ob=6##unit\n",
    "bf=ob-of## unit\n",
    "be=3##unit\n",
    "\n",
    "# calculating endurance section wise\n",
    "OE=log10(Se_dash)#\n",
    "OA=log10(0.9*Sut)#\n",
    "AE=OA-OE#\n",
    "#log10_Sf=OD=OE+ED=OE+FC\n",
    "log10_Sf=OE+(bf/be)*AE#\n",
    "Sf=10**log10_Sf# # (MPa) Endurance\n",
    "print '\\n Endurance of specimen = %.2f MPa'%Sf"
   ]
  },
  {
   "cell_type": "markdown",
   "metadata": {},
   "source": [
    "## exa 4.6 Pg 108"
   ]
  },
  {
   "cell_type": "code",
   "execution_count": 16,
   "metadata": {
    "collapsed": false
   },
   "outputs": [
    {
     "name": "stdout",
     "output_type": "stream",
     "text": [
      "\n",
      " diameter of beam 20 mm\n"
     ]
    }
   ],
   "source": [
    "from __future__ import division\n",
    "from math import pi, log10\n",
    "# Given Data\n",
    "Sut=540##MPa\n",
    "N=10**4## cycles\n",
    "q=0.85## sensitivity factor\n",
    "R=90/100## reliability\n",
    "P=1500## N\n",
    "l=160## mm\n",
    "\n",
    "Se_dash = 0.5*Sut## MPa\n",
    "# for cold drawn steel\n",
    "ka=0.79## surface finish factor\n",
    "kb=0.85## size factor (assuming t<50 mm)\n",
    "kc=0.897## reliability factor\n",
    "kd=1## temperature factor\n",
    "ke=1## load factor\n",
    "\n",
    "Kt=1.33## under bending\n",
    "\n",
    "Kf=1+q*(Kt-1)## fatigue strength factor\n",
    "kf=1/Kf ## fatigue strength reduction factor\n",
    "Se=ka*kb*kc*kd*ke*kf*Se_dash## MPa( Endurance limit)\n",
    "\n",
    "of=4## unit\n",
    "ob=6##unit\n",
    "bf=ob-of## unit\n",
    "be=3##unit\n",
    "\n",
    "# calculating endurance section wise\n",
    "OE=log10(Se)#\n",
    "OA=log10(0.9*Sut)#\n",
    "AE=OA-OE#\n",
    "#log10_Sf=OD=OE+ED=OE+FC\n",
    "log10_Sf=OE+(bf/be)*AE#\n",
    "Sf=10**log10_Sf# # (MPa) Endurance\n",
    "\n",
    "MB=P*l## N.mm\n",
    "# 32*MB/pi/d**3 = Sf\n",
    "d=(32*MB/pi/Sf)**(1/3)\n",
    "print '\\n diameter of beam %.f mm'%d"
   ]
  },
  {
   "cell_type": "markdown",
   "metadata": {},
   "source": [
    "## exa 4.7 Pg 110"
   ]
  },
  {
   "cell_type": "code",
   "execution_count": 17,
   "metadata": {
    "collapsed": false
   },
   "outputs": [
    {
     "name": "stdout",
     "output_type": "stream",
     "text": [
      "\n",
      " diameter d at fillet cross section = 16 mm\n"
     ]
    }
   ],
   "source": [
    "from __future__ import division\n",
    "from math import pi, log10, atan\n",
    "# Given Data\n",
    "Sut=600##MPa\n",
    "Syt=380##MPa\n",
    "q=0.9## sensitivity factor\n",
    "R=90/100## reliability\n",
    "n=2## factor of safety\n",
    "Pmin=-100## N\n",
    "Pmax=200## N\n",
    "l=150## mm\n",
    "\n",
    "Se_dash = 0.5*Sut## MPa\n",
    "# for cold drawn steel\n",
    "ka=0.76## surface finish factor\n",
    "kb=0.85## size factor (assuming t<50 mm)\n",
    "kc=0.897## reliability factor\n",
    "kd=1## temperature factor\n",
    "ke=1## load factor\n",
    "\n",
    "Kt=1.4## under bending\n",
    "\n",
    "Kf=1+q*(Kt-1)## fatigue strength factor\n",
    "kf=1/Kf ## fatigue strength reduction factor\n",
    "Se=ka*kb*kc*kd*ke*kf*Se_dash## MPa( Endurance limit)\n",
    "Mmax=Pmax*l## N.mm\n",
    "Mmin=Pmin*l## N.mm\n",
    "Mm=(Mmax+Mmin)/2## N.mm\n",
    "Ma=(Mmax-Mmin)/2## N.mm\n",
    "theta=atan(Ma/Mm)*pi/180## degree\n",
    "\n",
    "#equation of Goodman - sigma_m/Sut+sigma_a/Se=1\n",
    "#here sigma_a/sigma_m=3\n",
    "sigma_m=1/(1/Sut+3/Se)##MPa\n",
    "sigma_a=3*sigma_m## MPa\n",
    "\n",
    "sigma_da=sigma_a/n## MPa\n",
    "#sigma_da=32*Ma/pi/d**3\n",
    "d=(32*Ma/pi/sigma_da)**(1/3)## mm \n",
    "print '\\n diameter d at fillet cross section = %.f mm'%d"
   ]
  },
  {
   "cell_type": "markdown",
   "metadata": {},
   "source": [
    "## exa 4.8 Pg 112"
   ]
  },
  {
   "cell_type": "code",
   "execution_count": 18,
   "metadata": {
    "collapsed": false
   },
   "outputs": [
    {
     "name": "stdout",
     "output_type": "stream",
     "text": [
      "\n",
      " diameter of shaft = 34 mm\n"
     ]
    }
   ],
   "source": [
    "from __future__ import division\n",
    "from math import pi, log10, atan,tan\n",
    "# Given Data\n",
    "Sut=500##MPa\n",
    "Syt=300##MPa\n",
    "R=90/100## reliability\n",
    "n=2## factor of safety\n",
    "Tmin=-200## N.m\n",
    "Tmax=500## N.m\n",
    "\n",
    "Se_dash = 0.5*Sut## MPa\n",
    "# for cold drawn steel\n",
    "ka=0.80## surface finish factor\n",
    "kb=0.85## size factor (assuming t<50 mm)\n",
    "kc=0.897## reliability factor\n",
    "kd=1## temperature factor\n",
    "ke=0.577## load factor\n",
    "\n",
    "Ses=ka*kb*kc*kd*ke*Se_dash## MPa( Endurance limit)\n",
    "Sys=ke*Syt## MPa\n",
    "Tm=(Tmax+Tmin)/2## N.m\n",
    "Ta=(Tmax-Tmin)/2## N.m\n",
    "theta=atan(Ta/Tm)*pi/180## degree\n",
    "Sms=Ses/tan(theta*180/pi)##MPa\n",
    "Sas=Ses##MPa\n",
    "tau_da=Sas/n##MPa\n",
    "#tua_da=16*Ta/pi/d**3\n",
    "d=(16*Ta*1000/pi/tau_da)**(1/3)##mm\n",
    "print '\\n diameter of shaft = %.f mm'%d"
   ]
  },
  {
   "cell_type": "markdown",
   "metadata": {},
   "source": [
    "## exa 4.9 Pg 113"
   ]
  },
  {
   "cell_type": "code",
   "execution_count": 2,
   "metadata": {
    "collapsed": false
   },
   "outputs": [
    {
     "name": "stdout",
     "output_type": "stream",
     "text": [
      "\n",
      " life of the spring, N = 215630 cycles\n"
     ]
    }
   ],
   "source": [
    "from __future__ import division\n",
    "from math import pi,log10\n",
    "# Given Data\n",
    "Sut=860##MPa\n",
    "Syt=690##MPa\n",
    "Pmin=60## N\n",
    "Pmax=120## N\n",
    "R=50/100## reliability\n",
    "l=500##mm\n",
    "d=10##mm\n",
    "Se_dash = 0.5*Sut## MPa\n",
    "# for machines surface\n",
    "ka=0.70## surface finish factor\n",
    "kb=0.85## size factor (assuming t<50 mm)\n",
    "kc=1## reliability factor\n",
    "kd=1## temperature factor\n",
    "ke=1## load factor\n",
    "\n",
    "Se=ka*kb*kc*kd*ke*Se_dash## MPa( Endurance limit)\n",
    "Mmax=Pmax*l## N.mm\n",
    "Mmin=Pmin*l## N.mm\n",
    "Mm=(Mmax+Mmin)/2## N.mm\n",
    "Ma=(Mmax-Mmin)/2## N.mm\n",
    "Sm=32*Mm/pi/d**3##MPa\n",
    "sigma_m=Sm##MPa\n",
    "Sa=32*Ma/pi/d**3##MPa\n",
    "sigma_a=Sa##MPa\n",
    "Sf=Sa*Sut/(Sut-Sm)##MPa\n",
    "\n",
    "#calculating section\n",
    "OB=6##unit ref. o at 3\n",
    "BE=OB-3##unit\n",
    "OC=Sf## MPa\n",
    "AE=log10(0.9*Sut)-log10(Se)##MPa\n",
    "AC=log10(0.9*Sut)-log10(Sf)##MPa\n",
    "CD=BE*AC/AE##\n",
    "#log10(N)=3+CD\n",
    "N=10**(3+CD)## cycle\n",
    "print '\\n life of the spring, N = %.f cycles'%N\n",
    "#Note : answer in the textbook is wrong."
   ]
  },
  {
   "cell_type": "markdown",
   "metadata": {},
   "source": [
    "## exa 4.10 Pg 116"
   ]
  },
  {
   "cell_type": "code",
   "execution_count": 5,
   "metadata": {
    "collapsed": false
   },
   "outputs": [
    {
     "name": "stdout",
     "output_type": "stream",
     "text": [
      "\n",
      " factor of safety, n = 5.04\n"
     ]
    }
   ],
   "source": [
    "from __future__ import division\n",
    "from math import pi, log10, sqrt,atan,tan\n",
    "# Given Data\n",
    "Sut=600##MPa\n",
    "Se=280##MPa\n",
    "sigma_x_min=50## MPa\n",
    "sigma_x_max=100## MPa\n",
    "sigma_y_min=20## MPa\n",
    "sigma_y_max=70## MPa\n",
    "\n",
    "sigma_xm=(sigma_x_max+sigma_x_min)/2## MPa\n",
    "sigma_xa=(sigma_x_max-sigma_x_min)/2## MPa\n",
    "sigma_ym=(sigma_y_max+sigma_y_min)/2## MPa\n",
    "sigma_ya=(sigma_y_max-sigma_y_min)/2## MPa\n",
    "\n",
    "# distortion energy theory - \n",
    "sigma_m=sqrt(sigma_xm**2+sigma_ym**2-sigma_xm*sigma_ym)## MPa\n",
    "sigma_a=sqrt(sigma_xa**2+sigma_ya**2-sigma_xa*sigma_ya)## MPa\n",
    "theta=atan(sigma_a/sigma_m)## radian\n",
    "# Sm/Sut+Sa/Se=1 where Sa=Sm*tan(theta)\n",
    "Sm=1/(1/Sut+tan(theta)/Se)## MPa\n",
    "Sa=tan(theta)*Sm## MPa\n",
    "n=Sa/sigma_a## factor of safety\n",
    "\n",
    "print '\\n factor of safety, n = %.2f'%n"
   ]
  }
 ],
 "metadata": {
  "kernelspec": {
   "display_name": "Python 2",
   "language": "python",
   "name": "python2"
  },
  "language_info": {
   "codemirror_mode": {
    "name": "ipython",
    "version": 2
   },
   "file_extension": ".py",
   "mimetype": "text/x-python",
   "name": "python",
   "nbconvert_exporter": "python",
   "pygments_lexer": "ipython2",
   "version": "2.7.9"
  }
 },
 "nbformat": 4,
 "nbformat_minor": 0
}
