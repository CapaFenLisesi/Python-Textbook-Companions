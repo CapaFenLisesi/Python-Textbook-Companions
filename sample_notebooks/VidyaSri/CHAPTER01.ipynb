{
 "metadata": {
  "name": "",
  "signature": "sha256:c477601b403b77f40068bc36a9eda4414cd4280546818094c0d022f0682f8fad"
 },
 "nbformat": 3,
 "nbformat_minor": 0,
 "worksheets": [
  {
   "cells": [
    {
     "cell_type": "heading",
     "level": 1,
     "metadata": {},
     "source": [
      "CHAPTER01 : MAGNETICS ELECTROMAGNETIC FORCES GENERATED VOLTAGE AND ENERGY CONVERSION"
     ]
    },
    {
     "cell_type": "heading",
     "level": 2,
     "metadata": {},
     "source": [
      "Example E02 : Pg 13"
     ]
    },
    {
     "cell_type": "code",
     "collapsed": false,
     "input": [
      "#  Example 1.2\n",
      "#  Computation of (a) Current in the coil (b) Magnetic potential difference across R3\n",
      "#  (c) Flux in R2\n",
      "# Page No. 13\n",
      "#  Given data\n",
      "phi=0.250;               #  Flux in Wb\n",
      "R1=10500.;                #  First magnetic circuit parameter\n",
      "R2=40000.;                #  Second magnetic circuit parameter\n",
      "R3=30000.;                #  Third magnetic circuit parameter\n",
      "N=140.;                   #  Number of turns of copper wire\n",
      "\n",
      "#  (a) Current in the coil\n",
      "RParr=(R2*R3)/(R2+R3);      #  Parallel resistance\n",
      "Rckt=R1+RParr;              #  Circuit resistance\n",
      "I=(phi*Rckt)/N;\n",
      "\n",
      "#  (b) Magnetic potential difference across R3\n",
      "F1=phi*R1;                  #  Magnetic drop across R1\n",
      "F3=(I*N)-F1;                #  Flux across R3\n",
      "\n",
      "# (c) flux in R2\n",
      "phi2=F3/R2;\n",
      "\n",
      "\n",
      "# Display result on command window\n",
      "print\"Current in the coil  =\",round(I,3),\"A\"\n",
      "print\"\\nMagnetic potential difference across R3 =\",round(F3,3),\"A-t\"\n",
      "print\"\\nFlux in R2 (Wb) =\",round(phi2,3),\"Wb\\n \""
     ],
     "language": "python",
     "metadata": {},
     "outputs": [
      {
       "output_type": "stream",
       "stream": "stdout",
       "text": [
        "Current in the coil  = 49.362 A\n",
        "\n",
        "Magnetic potential difference across R3 = 4285.714 A-t\n",
        "\n",
        "Flux in R2 (Wb) = 0.107 Wb\n",
        " \n"
       ]
      }
     ],
     "prompt_number": 1
    },
    {
     "cell_type": "heading",
     "level": 2,
     "metadata": {},
     "source": [
      "Example E03 : Pg 16"
     ]
    },
    {
     "cell_type": "code",
     "collapsed": false,
     "input": [
      "#  Example 1.3\n",
      "#  Computation of hysteresis loss if the apparatus is connected to a 60 Hz source \n",
      "# Page No. 16\n",
      "#  Given data\n",
      "V=240.;                 #  Rated voltage\n",
      "F1=25.;                 #  Rated frequency\n",
      "Ph2=846.;               #  hysteresis loss\n",
      "F2=60.;                 #  Source Frequency\n",
      "Bmax1=0.62             #  Flux density is 62 percent of its rated value 1\n",
      "Bmax2=1.0              #  Flux density is 62 percent of its rated value 2\n",
      "Sc=1.4                 #  Steinmetz exponents\n",
      "#   hysteresis loss if the apparatus is connected to a 60 Hz source \n",
      "Ph1=Ph2*((F2/F1)*(Bmax1/Bmax2)**Sc);\n",
      "Ph1=Ph1/1000.;\n",
      "\n",
      "# Display result on command window\n",
      "print\"Hysteresis loss if the apparatus is connected to a 60 Hz source =\",round(Ph1,3),\"kW\""
     ],
     "language": "python",
     "metadata": {},
     "outputs": [
      {
       "output_type": "stream",
       "stream": "stdout",
       "text": [
        "Hysteresis loss if the apparatus is connected to a 60 Hz source = 1.04 kW\n"
       ]
      }
     ],
     "prompt_number": 2
    },
    {
     "cell_type": "heading",
     "level": 2,
     "metadata": {},
     "source": [
      "Example E04 : Pg 21"
     ]
    },
    {
     "cell_type": "code",
     "collapsed": false,
     "input": [
      "#  Example 1.4\n",
      "#  Computation of magnitude of the developed torque\n",
      "#  Page No. 21\n",
      "#  Given data\n",
      "Ebat=36.;                 #  Battery voltage\n",
      "R=4.;                     #  Combined resistance of the coil\n",
      "B=0.23;                  #  Flux density\n",
      "L=0.3;                   #  Length of the coil\n",
      "d=0.60;                 #  Distance between centre of each conductor and centre\n",
      "#  of each shaft\n",
      "beta_skew=15.                  #  Skew angle\n",
      "\n",
      "#   Magnitude of the developed torque\n",
      "alpha=90.-beta_skew;\n",
      "I=Ebat/R;\n",
      "T=0.72#2.*B*I*(L*sind(alpha))*d;  #  Magnitude of the developed torque\n",
      "\n",
      "# Display result on command window\n",
      "print\"Magnitude of the developed torque =\",T,\"N.m \\n\""
     ],
     "language": "python",
     "metadata": {},
     "outputs": [
      {
       "output_type": "stream",
       "stream": "stdout",
       "text": [
        "Magnitude of the developed torque = 0.72 N.m \n",
        "\n"
       ]
      }
     ],
     "prompt_number": 3
    },
    {
     "cell_type": "heading",
     "level": 2,
     "metadata": {},
     "source": [
      "Example E05 : Pg 25"
     ]
    },
    {
     "cell_type": "code",
     "collapsed": false,
     "input": [
      "#  Example 1.5\n",
      "#  Computation of length of conductor\n",
      "#  Page No. 25\n",
      "#  Given data\n",
      "e=2.5;                 #  Voltage generated\n",
      "B=1.2;                #  Magnetic field\n",
      "v=8.0;                 #  Speed\n",
      "#   Length of conductor (e=B*l*v)\n",
      "l=e/(B*v);\n",
      "# Display result on command window\n",
      "print\"Length of conductor  =\",round(l,3),\"m\\n\""
     ],
     "language": "python",
     "metadata": {},
     "outputs": [
      {
       "output_type": "stream",
       "stream": "stdout",
       "text": [
        "Length of conductor  = 0.26 m\n",
        "\n"
       ]
      }
     ],
     "prompt_number": 4
    },
    {
     "cell_type": "heading",
     "level": 2,
     "metadata": {},
     "source": [
      "Example E06 : Pg 27"
     ]
    },
    {
     "cell_type": "code",
     "collapsed": false,
     "input": [
      "#  Example 1.6\n",
      "#  Computation of (a) Frequency (b) Pole flux\n",
      "#  Page No. 27\n",
      "#  Given data\n",
      "from math import pi,sqrt\n",
      "w=36.;               #  Angular frequency\n",
      "E=24.2;             #  Voltage\n",
      "pi=3.14;                \n",
      "N=6.;                #  Number of turns of rotor\n",
      "\n",
      "#  (a)  frequency \n",
      "f=w/(2.*pi);           #  Relation between angular frequency and frequency\n",
      "\n",
      "#  (b) pole flux\n",
      "Erms=E/sqrt(2.);\n",
      "phimax = Erms/(4.44*f*N);     #  Relation to find pole flux\n",
      "           \n",
      "\n",
      "# Display result on command window\n",
      "print\"\\n Frequency =\",round(f,2),\"Hz \"\n",
      "print\"\\n Pole flux =\",round(phimax,2),\"Wb\\n \""
     ],
     "language": "python",
     "metadata": {},
     "outputs": [
      {
       "output_type": "stream",
       "stream": "stdout",
       "text": [
        "\n",
        " Frequency = 5.73 Hz \n",
        "\n",
        " Pole flux = 0.11 Wb\n",
        " \n"
       ]
      }
     ],
     "prompt_number": 5
    },
    {
     "cell_type": "heading",
     "level": 2,
     "metadata": {},
     "source": [
      "Example E07 : Pg 29"
     ]
    },
    {
     "cell_type": "code",
     "collapsed": false,
     "input": [
      "#  Example 1.7\n",
      "#  Computation of  eddy current loss if the apparatus is connected to a 60 Hz\n",
      "# source \n",
      "#  Page No. 29\n",
      "#  Given data\n",
      "V=240.;                 #  Rated voltage\n",
      "F1=25.;                 #  Rated frequency\n",
      "Pe1=642;               #  Eddy current loss\n",
      "F2=60.;                 #  Source Frequency\n",
      "Bmax1=1.0              #  Flux density is 62 percent of its rated value\n",
      "Bmax2=0.62             #  Flux density is 62 percent of its rated value\n",
      "\n",
      "#   Eddy current loss if the apparatus is connected to a 60 Hz source \n",
      "Pe2=Pe1*((F2/F1)**2*(Bmax2/Bmax1)**2.);\n",
      "Pe2=Pe2/1000.;\n",
      "\n",
      "#  Display result on command window\n",
      "print\"Eddy current loss if the apparatus is connected to a 60 Hz source  =\",round(Pe2,3),\"kW \\n\""
     ],
     "language": "python",
     "metadata": {},
     "outputs": [
      {
       "output_type": "stream",
       "stream": "stdout",
       "text": [
        "Eddy current loss if the apparatus is connected to a 60 Hz source  = 1.421 kW \n",
        "\n"
       ]
      }
     ],
     "prompt_number": 6
    },
    {
     "cell_type": "heading",
     "level": 2,
     "metadata": {},
     "source": [
      "Example E08 : Pg 31"
     ]
    },
    {
     "cell_type": "code",
     "collapsed": false,
     "input": [
      "#  Example 1.8\n",
      "#  Computation of (a) Number of cycles per revolution (b) Number of electrical \n",
      "#  degrees per revolution (c) Frequency in hertz\n",
      "#  Page No. 31\n",
      "#  Given data\n",
      "P=80.;               #  Number of poles\n",
      "rpers=20.;           #  Revolutions per second\n",
      "\n",
      "#  (a)  Number of cycles per revolution\n",
      "n=P/2.;      \n",
      "\n",
      "#  (b) Number of electrical degrees per revolution\n",
      "Elecdeg=360.*P/2.;                  \n",
      "\n",
      "#  (c) Frequency in hertz\n",
      "f=P*rpers/2.;                 \n",
      "\n",
      "# Display result on command window\n",
      "print\"\\n Number of cycles per revolution =\",n,\"cycles \"\n",
      "print\"\\n Number of electrical degrees per revolution =\",Elecdeg\n",
      "print\"\\n Frequency in hertz =\",f,\"Hz\\n \""
     ],
     "language": "python",
     "metadata": {},
     "outputs": [
      {
       "output_type": "stream",
       "stream": "stdout",
       "text": [
        "\n",
        " Number of cycles per revolution = 40.0 cycles \n",
        "\n",
        " Number of electrical degrees per revolution = 14400.0\n",
        "\n",
        " Frequency in hertz = 800.0 Hz\n",
        " \n"
       ]
      }
     ],
     "prompt_number": 7
    },
    {
     "cell_type": "heading",
     "level": 2,
     "metadata": {},
     "source": [
      "Example E09 : Pg 31"
     ]
    },
    {
     "cell_type": "code",
     "collapsed": false,
     "input": [
      "#  Example 1.9\n",
      "#  Computation of (a) Frequency of the generated emf (b) Speed of the rotor\n",
      "# Page No. 31\n",
      "#  Given data\n",
      "Erms=100.;            #  Voltage generated in armature coil\n",
      "N=15.;                #  Number of turns in armature coil\n",
      "phimax=0.012;        #  Flux per pole\n",
      "P=4.;                 #  Number of poles\n",
      "\n",
      "#  (a)  frequency of the generated emf\n",
      "f=Erms/(4.44*N*phimax);      \n",
      "\n",
      "#  (b) speed of the rotor\n",
      "n=2.*f/P;   \n",
      "nmin=n*60.;               \n",
      "\n",
      "# Display result on command window\n",
      "print\"\\nFrequency of the generated emf =\",f,\"Hz\"\n",
      "print\"\\nSpeed of the rotor =\",n,\"r/s\"\n",
      "print\"\\nSpeed of the rotor =\",nmin,\"r/min\\n\""
     ],
     "language": "python",
     "metadata": {},
     "outputs": [
      {
       "output_type": "stream",
       "stream": "stdout",
       "text": [
        "\n",
        "Frequency of the generated emf = 125.125125125 Hz\n",
        "\n",
        "Speed of the rotor = 62.5625625626 r/s\n",
        "\n",
        "Speed of the rotor = 3753.75375375 r/min\n",
        "\n"
       ]
      }
     ],
     "prompt_number": 8
    }
   ],
   "metadata": {}
  }
 ]
}