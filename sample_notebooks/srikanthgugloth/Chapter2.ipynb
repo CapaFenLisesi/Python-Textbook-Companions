{
 "metadata": {
  "name": "",
  "signature": "sha256:e4425378c6999e9724676588b0097c2038f3833cd503390f3d7cf7bb3508521f"
 },
 "nbformat": 3,
 "nbformat_minor": 0,
 "worksheets": [
  {
   "cells": [
    {
     "cell_type": "heading",
     "level": 1,
     "metadata": {},
     "source": [
      "Chapter2-Introduction"
     ]
    },
    {
     "cell_type": "heading",
     "level": 2,
     "metadata": {},
     "source": [
      "Ex1-pg23"
     ]
    },
    {
     "cell_type": "code",
     "collapsed": false,
     "input": [
      "import math\n",
      "\n",
      "##input from given graph\n",
      "##calculation of initial accleration\n",
      "ia=18/4.\n",
      "## calculation of final accleration\n",
      "fa=-18/10.\n",
      "decel=-(fa)##calculation of deceleration\n",
      "##calculation of total distance covered\n",
      "d=0.5*(4.*18.)+(8.*18.)+0.5*(10.*18.)##area under velocity time graph\n",
      "##output\n",
      "print\"%s %.2f %s\"%(\"\\n the initial acceleration is \",ia,\" m/s^2\")\n",
      "print\"%s %.2f %s\"%(\"\\n the final acceleration is \",decel,\" m/s^2\")\n",
      "print\"%s %.2f %s\"%(\"\\n the distance covered is is \",d,\" m\")\n"
     ],
     "language": "python",
     "metadata": {},
     "outputs": [
      {
       "output_type": "stream",
       "stream": "stdout",
       "text": [
        "\n",
        " the initial acceleration is  4.50  m/s^2\n",
        "\n",
        " the final acceleration is  1.80  m/s^2\n",
        "\n",
        " the distance covered is is  270.00  m\n"
       ]
      }
     ],
     "prompt_number": 1
    },
    {
     "cell_type": "heading",
     "level": 2,
     "metadata": {},
     "source": [
      "Ex2-pg25"
     ]
    },
    {
     "cell_type": "code",
     "collapsed": false,
     "input": [
      "import math\n",
      "\n",
      "##input\n",
      "v=0. ##car stops => final velocity=0\n",
      "u=29. ##initial velocity\n",
      "t=11. ##time \n",
      "##calculation of acceleration\n",
      "a=(v-u)/t##eqn of uniformly accelerated body\n",
      "##calculating distance travelled during this period\n",
      "d=(v+u)*t*0.5##eqn of uniformly accelerated body\n",
      "##output\n",
      "print\"%s %.2f %s\"%(\"the accleration is \",a,\" ms^-2 \")\n",
      "print\"%s %.2f %s\"%(\"\\nthe distance travelled is \",d,\" m\")\n"
     ],
     "language": "python",
     "metadata": {},
     "outputs": [
      {
       "output_type": "stream",
       "stream": "stdout",
       "text": [
        "the accleration is  -2.64  ms^-2 \n",
        "\n",
        "the distance travelled is  159.50  m\n"
       ]
      }
     ],
     "prompt_number": 2
    },
    {
     "cell_type": "heading",
     "level": 2,
     "metadata": {},
     "source": [
      "Ex3-pg27"
     ]
    },
    {
     "cell_type": "code",
     "collapsed": false,
     "input": [
      "import math\n",
      "\n",
      "##input\n",
      "v=120. ##velocity\n",
      "a=75 ##accleration\n",
      "##ca.lculation of time\n",
      "t=2.*v/(a*math.cos(45/57.3))##eqn of uniformly accelerated body\n",
      "##output\n",
      "print\"%s %.2f %s\"%(\"the time taken is \",t,\" s\")\n"
     ],
     "language": "python",
     "metadata": {},
     "outputs": [
      {
       "output_type": "stream",
       "stream": "stdout",
       "text": [
        "the time taken is  4.53  s\n"
       ]
      }
     ],
     "prompt_number": 3
    },
    {
     "cell_type": "heading",
     "level": 2,
     "metadata": {},
     "source": [
      "Ex4-pg28"
     ]
    },
    {
     "cell_type": "code",
     "collapsed": false,
     "input": [
      "import math\n",
      "\n",
      "##input\n",
      "f1=50.\n",
      "f2=50.\n",
      "##calculation of net force\n",
      "f=f1+f2 ## the two forces act in same direction\n",
      "##output\n",
      "print\"%s %.2f %s\"%(\"the resultant force is \",f,\" N\")\n"
     ],
     "language": "python",
     "metadata": {},
     "outputs": [
      {
       "output_type": "stream",
       "stream": "stdout",
       "text": [
        "the resultant force is  100.00  N\n"
       ]
      }
     ],
     "prompt_number": 4
    },
    {
     "cell_type": "heading",
     "level": 2,
     "metadata": {},
     "source": [
      "Ex5-pg29"
     ]
    },
    {
     "cell_type": "code",
     "collapsed": false,
     "input": [
      "import math\n",
      "\n",
      "##input\n",
      "vc=25. ##velocity of car\n",
      "va=10. ##velocity of wind\n",
      "va1=15. ##velocity of wind westward\n",
      "##calculation\n",
      "v1=vc+va##resultant velocity for a tail of wind\n",
      "v2=vc-va##when wind blows westward at 10 m/s^resultant velocity \n",
      "v3=vc-va1##resultant velocity when wind blows westward at 15m/s^2\n",
      "##output\n",
      "print\"%s %.2f %s\"%(\"1. the resultant velocity of wind is \",v1,\" ms^-1 eastwards \")\n",
      "print\"%s %.2f %s\"%(\"\\n2. the resultant velocity of wind is \",v2,\" ms^-1 westwards \")\n",
      "print\"%s %.2f %s\"%(\"\\n3. the resultant velocity of wind is \",v3,\"  ms^-1westwards \")\n"
     ],
     "language": "python",
     "metadata": {},
     "outputs": [
      {
       "output_type": "stream",
       "stream": "stdout",
       "text": [
        "1. the resultant velocity of wind is  35.00  ms^-1 eastwards \n",
        "\n",
        "2. the resultant velocity of wind is  15.00  ms^-1 westwards \n",
        "\n",
        "3. the resultant velocity of wind is  10.00   ms^-1westwards \n"
       ]
      }
     ],
     "prompt_number": 5
    },
    {
     "cell_type": "heading",
     "level": 2,
     "metadata": {},
     "source": [
      "Ex7-pg31"
     ]
    },
    {
     "cell_type": "code",
     "collapsed": false,
     "input": [
      "import math\n",
      "##input\n",
      "v=30. ##velocity of speedboat\n",
      "vw=40. ##velocity of wind\n",
      "##calculation\n",
      "x=(30./40.)##angle between original velocity of boat and resultant velocity\n",
      "y=math.atan(x)*(57.3)##applying trigonometry\n",
      "b=90.+y##bearing of boat\n",
      "##output\n",
      "print\"%s %.2f %s\"%(\"the bearing of speedboat is \",b,\" deg\")\n"
     ],
     "language": "python",
     "metadata": {},
     "outputs": [
      {
       "output_type": "stream",
       "stream": "stdout",
       "text": [
        "the bearing of speedboat is  126.87  deg\n"
       ]
      }
     ],
     "prompt_number": 6
    },
    {
     "cell_type": "heading",
     "level": 2,
     "metadata": {},
     "source": [
      "Ex8-pg32"
     ]
    },
    {
     "cell_type": "code",
     "collapsed": false,
     "input": [
      "import math\n",
      "#input\n",
      "f1=6. ##tension on string AB\n",
      "f2=6. ##tension on string BC\n",
      "##calculation of tension\n",
      "t=2.*f1*math.sin(55/57.3)## the resultant tension is the diagonal of rhombus formed\n",
      "##output\n",
      "print\"%s %.2f %s\"%(\"/n the resultant tension is \",t,\" N\")\n"
     ],
     "language": "python",
     "metadata": {},
     "outputs": [
      {
       "output_type": "stream",
       "stream": "stdout",
       "text": [
        "/n the resultant tension is  9.83  N\n"
       ]
      }
     ],
     "prompt_number": 7
    },
    {
     "cell_type": "heading",
     "level": 2,
     "metadata": {},
     "source": [
      "Ex10-pg33"
     ]
    },
    {
     "cell_type": "code",
     "collapsed": false,
     "input": [
      "import math\n",
      "##input magnitude of forces\n",
      "f1=40.\n",
      "f2=50.\n",
      "##calculation\n",
      "d=50**2+40**2+2.*50.*40.*math.cos(50./57.3)##finding the diagonal\n",
      "r=50**2+40**2+2.*50.*(40.)*math.cos(130./57.3)##reversing the side and finding diagonlprint\"%s %.2f %s\"%(\"the resultant is %3.3f\",d1)\n",
      "r1=math.sqrt(r)##resultant sum\n",
      "d1=math.sqrt(d)## resultant when smaller force is subtracted from larger\n",
      "##output\n",
      "print\"%s %.2f %s\"%(\"1. the resultant sum is \",d1,\" N\")\n",
      "print\"%s %.2f %s\"%(\"\\n 2. the resultant when smaller force is subtracted from larger is \",r1,\" N\")\n"
     ],
     "language": "python",
     "metadata": {},
     "outputs": [
      {
       "output_type": "stream",
       "stream": "stdout",
       "text": [
        "1. the resultant sum is  81.68  N\n",
        "\n",
        " 2. the resultant when smaller force is subtracted from larger is  39.11  N\n"
       ]
      }
     ],
     "prompt_number": 8
    },
    {
     "cell_type": "heading",
     "level": 2,
     "metadata": {},
     "source": [
      "Ex11-pg34"
     ]
    },
    {
     "cell_type": "code",
     "collapsed": false,
     "input": [
      "import math\n",
      "##input\n",
      "v=380.##velocity\n",
      "##calculation\n",
      "vh=v*math.cos(60./57.3)##horizontal component\n",
      "vv=v*math.sin(60./57.3)##vertical component\n",
      "##output\n",
      "print\"%s %.2f %s\"%(\"the horizontal component is \",vh,\" ms**-1\")\n",
      "print\"%s %.2f %s\"%(\"\\nthe vertical component is \",vv,\" ms**-1\")\n"
     ],
     "language": "python",
     "metadata": {},
     "outputs": [
      {
       "output_type": "stream",
       "stream": "stdout",
       "text": [
        "the horizontal component is  190.03  ms**-1\n",
        "\n",
        "the vertical component is  329.07  ms**-1\n"
       ]
      }
     ],
     "prompt_number": 9
    },
    {
     "cell_type": "heading",
     "level": 2,
     "metadata": {},
     "source": [
      "Ex12-pg34"
     ]
    },
    {
     "cell_type": "code",
     "collapsed": false,
     "input": [
      "import math\n",
      "##input\n",
      "fc=50.##force applied by magnet\n",
      "x=90.-20. ##angle of force\n",
      "##calculation\n",
      "fb=fc*math.sin(70./57.3)##force due to b\n",
      "fa=fc*math.cos(70./57.3)##force due to a\n",
      "##output\n",
      "print\"%s %.2f %s\"%(\"the force due to b is \",fb,\" N\")\n",
      "print\"%s %.2f %s\"%(\"\\nthe force due to b is \",fa,\" N\")\n"
     ],
     "language": "python",
     "metadata": {},
     "outputs": [
      {
       "output_type": "stream",
       "stream": "stdout",
       "text": [
        "the force due to b is  46.98  N\n",
        "\n",
        "the force due to b is  17.11  N\n"
       ]
      }
     ],
     "prompt_number": 10
    },
    {
     "cell_type": "heading",
     "level": 2,
     "metadata": {},
     "source": [
      "Ex13-pg35"
     ]
    },
    {
     "cell_type": "code",
     "collapsed": false,
     "input": [
      "import math\n",
      "##input\n",
      "m1=1.\n",
      "v1=25.\n",
      "m2=2.\n",
      "v2=0.\n",
      "##calculation\n",
      "v=(m1*v1)+(m2*v2)##applying princilpe of conservation of linear momentum\n",
      "v4=v/(m1+m2)\n",
      "##output\n",
      "print\"%s %.2f %s\"%(\"the velocity with which both will move is \",v4,\" ms^-1\")\n"
     ],
     "language": "python",
     "metadata": {},
     "outputs": [
      {
       "output_type": "stream",
       "stream": "stdout",
       "text": [
        "the velocity with which both will move is  8.33  ms^-1\n"
       ]
      }
     ],
     "prompt_number": 11
    },
    {
     "cell_type": "heading",
     "level": 2,
     "metadata": {},
     "source": [
      "Ex14-pg35"
     ]
    },
    {
     "cell_type": "code",
     "collapsed": false,
     "input": [
      "import math\n",
      "##input\n",
      "m1=1.##mass of object 1\n",
      "v1=25.##velocity of object 1\n",
      "m2=2.##mass of object 2\n",
      "v2=0.##body at rest,velocity =0\n",
      "v3=10.\n",
      "##caclulation\n",
      "u=((m1*v1)+(m2*v2)-(m2*v3))/2.##applying princilpe of conservation of linear momentum\n",
      "##output\n",
      "print\"%s %.2f %s\"%(\"\\n the value of u is \",-u,\" ms^-1\")\n"
     ],
     "language": "python",
     "metadata": {},
     "outputs": [
      {
       "output_type": "stream",
       "stream": "stdout",
       "text": [
        "\n",
        " the value of u is  -2.50  ms^-1\n"
       ]
      }
     ],
     "prompt_number": 12
    },
    {
     "cell_type": "heading",
     "level": 2,
     "metadata": {},
     "source": [
      "Ex15-pg36"
     ]
    },
    {
     "cell_type": "code",
     "collapsed": false,
     "input": [
      "import math\n",
      "##input\n",
      "m=2.##mass\n",
      "r=4.##radius\n",
      "v=6.##uniform speed\n",
      "##calculation\n",
      "w=v/r##angular velocity\n",
      "f=m*r*w*w##centripetal force\n",
      "##output\n",
      "print\"%s %.2f %s\"%(\"the angular velocity is \",w,\" rads^-1\")\n",
      "print\"%s %.2f %s\"%(\"\\n the centripetal force is \",f,\" N\")\n"
     ],
     "language": "python",
     "metadata": {},
     "outputs": [
      {
       "output_type": "stream",
       "stream": "stdout",
       "text": [
        "the angular velocity is  1.50  rads^-1\n",
        "\n",
        " the centripetal force is  18.00  N\n"
       ]
      }
     ],
     "prompt_number": 13
    },
    {
     "cell_type": "heading",
     "level": 2,
     "metadata": {},
     "source": [
      "Ex16-pg37"
     ]
    },
    {
     "cell_type": "code",
     "collapsed": false,
     "input": [
      "import math\n",
      "##input\n",
      "m=140.##mass\n",
      "v=8.##speed\n",
      "r=5.##radius\n",
      "g=9.8##acceleration due to gravity\n",
      "##calculation\n",
      "t=((m*v**2/5.)**2)+(140.*9.8)**2 ##applying parallelogram of vectors\n",
      "t1=math.sqrt(t)\n",
      "##output\n",
      "print\"%s %.2f %s\"%(\"the tension in arm is \",t1,\" N\")\n"
     ],
     "language": "python",
     "metadata": {},
     "outputs": [
      {
       "output_type": "stream",
       "stream": "stdout",
       "text": [
        "the tension in arm is  2256.91  N\n"
       ]
      }
     ],
     "prompt_number": 14
    },
    {
     "cell_type": "heading",
     "level": 2,
     "metadata": {},
     "source": [
      "Ex17-pg38"
     ]
    },
    {
     "cell_type": "code",
     "collapsed": false,
     "input": [
      "import math\n",
      "##input\n",
      "v=15.##velocity\n",
      "m=70.##mass\n",
      "r=50.##radius\n",
      "##calculation\n",
      "x=v*v/(r*10.)##applying parallelogram of vectors,then for equilibrium\n",
      "y=math.atan(x)*57.3\n",
      "r1=(m*10.)/math.cos(y/57.3)\n",
      "##output\n",
      "print\"%s %.2f %s\"%(\"the inclination is \",y,\" deg\")\n",
      "print\"%s %.2f %s\"%(\"\\n the reaction is \",r1,\" N\")\n"
     ],
     "language": "python",
     "metadata": {},
     "outputs": [
      {
       "output_type": "stream",
       "stream": "stdout",
       "text": [
        "the inclination is  24.23  deg\n",
        "\n",
        " the reaction is  767.61  N\n"
       ]
      }
     ],
     "prompt_number": 15
    },
    {
     "cell_type": "heading",
     "level": 2,
     "metadata": {},
     "source": [
      "Ex18-pg39"
     ]
    },
    {
     "cell_type": "code",
     "collapsed": false,
     "input": [
      "import math\n",
      "##input\n",
      "r=5500.##radius\n",
      "g1=6.7*10**-11\n",
      "g=7##acceleration due to gravity\n",
      "##calculation of mean density\n",
      "p=3.*g/(4.*math.pi*r*10**3*g1)##mean density\n",
      "##output\n",
      "print\"%s %.2f %s\"%(\"the mean density of planet is \",p,\" kgm^-3\")\n"
     ],
     "language": "python",
     "metadata": {},
     "outputs": [
      {
       "output_type": "stream",
       "stream": "stdout",
       "text": [
        "the mean density of planet is  4534.94  kgm^-3\n"
       ]
      }
     ],
     "prompt_number": 16
    },
    {
     "cell_type": "heading",
     "level": 2,
     "metadata": {},
     "source": [
      "Ex19-pg40"
     ]
    },
    {
     "cell_type": "code",
     "collapsed": false,
     "input": [
      "import math\n",
      "##input\n",
      "m=5.*10**24##mass of earth\n",
      "g1=6.7*10**-11\n",
      "##calculation\n",
      "r=((6.7*10**-11.*5.*10**24*(3600.*24.)**2)/(4.*math.pi**2))**(1./3.)##orbit radius\n",
      "v=(2.*math.pi*r)/(3600.*24.)##linear velocity\n",
      "##output\n",
      "print\"%s %.2f %s\"%(\"the orbit radius is \",r,\"\")\n",
      "print\"%s %.2f %s\"%(\"\\n the linear velocity is \",v,\" ms^-1\")\n"
     ],
     "language": "python",
     "metadata": {},
     "outputs": [
      {
       "output_type": "stream",
       "stream": "stdout",
       "text": [
        "the orbit radius is  39863080.05 \n",
        "\n",
        " the linear velocity is  2898.92  ms^-1\n"
       ]
      }
     ],
     "prompt_number": 17
    },
    {
     "cell_type": "heading",
     "level": 2,
     "metadata": {},
     "source": [
      "Ex20-pg41"
     ]
    },
    {
     "cell_type": "code",
     "collapsed": false,
     "input": [
      "import math\n",
      "##input\n",
      "v=3.*10**5##orbit speed\n",
      "r=4.6*10**20##distance\n",
      "g1=6.7*10**-11\n",
      "##calculation of mass\n",
      "m=v*v*r/g1 ##Newtons law\n",
      "##output\n",
      "print\"%s %.2e %s\"%(\"the mass is \",m,\" kg\")\n"
     ],
     "language": "python",
     "metadata": {},
     "outputs": [
      {
       "output_type": "stream",
       "stream": "stdout",
       "text": [
        "the mass is  6.18e+41  kg\n"
       ]
      }
     ],
     "prompt_number": 18
    },
    {
     "cell_type": "heading",
     "level": 2,
     "metadata": {},
     "source": [
      "Ex21-pg42"
     ]
    },
    {
     "cell_type": "code",
     "collapsed": false,
     "input": [
      "import math\n",
      "##input\n",
      "v=0.6##speed\n",
      "m=0.3##mass\n",
      "##calculation\n",
      "e=0.75*m*v*v##total kinetic energy is kinetic energy+moment of inertia\n",
      "##output\n",
      "print\"%s %.2f %s\"%(\"the total kinetic energy is \",e,\" J\")\n"
     ],
     "language": "python",
     "metadata": {},
     "outputs": [
      {
       "output_type": "stream",
       "stream": "stdout",
       "text": [
        "the total kinetic energy is  0.08  J\n"
       ]
      }
     ],
     "prompt_number": 19
    },
    {
     "cell_type": "heading",
     "level": 2,
     "metadata": {},
     "source": [
      "Ex22-pg43"
     ]
    },
    {
     "cell_type": "code",
     "collapsed": false,
     "input": [
      "import math\n",
      "##input\n",
      "t1=34.\n",
      "u=0.##starts from rest\n",
      "x=3.##distance to move\n",
      "##calculation\n",
      "t=(3.*3./(10.*math.sin(t1)))**0.5##from law of conservation of energy\n",
      "##output\n",
      "print\"%s %.2f %s\"%(\"the time taken is \",t,\" s\")\n"
     ],
     "language": "python",
     "metadata": {},
     "outputs": [
      {
       "output_type": "stream",
       "stream": "stdout",
       "text": [
        "the time taken is  1.30  s\n"
       ]
      }
     ],
     "prompt_number": 20
    },
    {
     "cell_type": "heading",
     "level": 2,
     "metadata": {},
     "source": [
      "Ex23-pg43"
     ]
    },
    {
     "cell_type": "code",
     "collapsed": false,
     "input": [
      "import math\n",
      "##input\n",
      "i1=53.##inertia when it spins with panels carrying solar cells\n",
      "i2=37.##inertia about axis of rotation\n",
      "##calculation\n",
      "r=i1/i2##law of conservation of angular momentum\n",
      "##output\n",
      "print\"%s %.2f %s\"%(\"the ratio of angular velocities is\",r,\"\")\n"
     ],
     "language": "python",
     "metadata": {},
     "outputs": [
      {
       "output_type": "stream",
       "stream": "stdout",
       "text": [
        "the ratio of angular velocities is 1.43 \n"
       ]
      }
     ],
     "prompt_number": 21
    },
    {
     "cell_type": "heading",
     "level": 2,
     "metadata": {},
     "source": [
      "Ex25-pg45"
     ]
    },
    {
     "cell_type": "code",
     "collapsed": false,
     "input": [
      "import math\n",
      "##input\n",
      "f=9.##frequency\n",
      "x=0.##at midpoint of stroke x=0\n",
      "##calculation\n",
      "t=1./f\n",
      "a=-4.*math.pi**2*f**2*x##acceleration for shm\n",
      "v=2.*math.pi*f*0.05##velocity for shm\n",
      "a1=-4.*math.pi**2*9**2*0.05##acceleration at amplitude\n",
      "v1=0.##velocity at amplitude is 0\n",
      "##output\n",
      "print\"%s %.2f %s\"%(\"the period of oscillation is \",t,\" s^-1\")\n",
      "print\"%s %.2f %s\"%(\"\\n the velocity  at midpoint of stroke is \",v,\" ms^-1\")\n",
      "print\"%s %.2f %s\"%(\"\\n the acceleration at midpoint of stroke is \",a,\" ms^-2\")\n",
      "\n",
      "print\"%s %.2f %s\"%(\"\\n the velocity at amplitude is \",v1,\"  ms^-1\")\n",
      "print\"%s %.2f %s\"%(\"\\n the acceleration at amplitude is \",a1,\" ms^-2\")\n"
     ],
     "language": "python",
     "metadata": {},
     "outputs": [
      {
       "output_type": "stream",
       "stream": "stdout",
       "text": [
        "the period of oscillation is  0.11  s^-1\n",
        "\n",
        " the velocity  at midpoint of stroke is  2.83  ms^-1\n",
        "\n",
        " the acceleration at midpoint of stroke is  -0.00  ms^-2\n",
        "\n",
        " the velocity at amplitude is  0.00   ms^-1\n",
        "\n",
        " the acceleration at amplitude is  -159.89  ms^-2\n"
       ]
      }
     ],
     "prompt_number": 22
    },
    {
     "cell_type": "heading",
     "level": 2,
     "metadata": {},
     "source": [
      "Ex26-pg47"
     ]
    },
    {
     "cell_type": "code",
     "collapsed": false,
     "input": [
      "import math\n",
      "##input\n",
      "g=10.\n",
      "t=0.3##period of shm\n",
      "##calculation\n",
      "x=g*t**2/(4.*math.pi**2)##for shm maximum amplitude\n",
      "##output\n",
      "print\"%s %.2f %s\"%(\"the maximum amplitude for bead to be in contact is \",x,\" m\")\n"
     ],
     "language": "python",
     "metadata": {},
     "outputs": [
      {
       "output_type": "stream",
       "stream": "stdout",
       "text": [
        "the maximum amplitude for bead to be in contact is  0.02  m\n"
       ]
      }
     ],
     "prompt_number": 23
    },
    {
     "cell_type": "heading",
     "level": 2,
     "metadata": {},
     "source": [
      "Ex27-pg48"
     ]
    },
    {
     "cell_type": "code",
     "collapsed": false,
     "input": [
      "import math\n",
      "##input\n",
      "p1=2.3##period of pendulum\n",
      "p2=3.1##period when pendulum is lengthened\n",
      "##calculation\n",
      "g=4.*math.pi**2/(p2**2-p1**2)##acceleration of free fall\n",
      "l=p1**2*g/(4.*math.pi**2)##length of pendulum\n",
      "##output\n",
      "print\"%s %.2f %s\"%(\"the acceleration of free fall is \",g,\" m/s^2\")\n",
      "print\"%s %.2f %s\"%(\"\\n the length of pendulum is \",l,\" m\")\n"
     ],
     "language": "python",
     "metadata": {},
     "outputs": [
      {
       "output_type": "stream",
       "stream": "stdout",
       "text": [
        "the acceleration of free fall is  9.14  m/s^2\n",
        "\n",
        " the length of pendulum is  1.22  m\n"
       ]
      }
     ],
     "prompt_number": 24
    },
    {
     "cell_type": "heading",
     "level": 2,
     "metadata": {},
     "source": [
      "Ex28-pg49"
     ]
    },
    {
     "cell_type": "code",
     "collapsed": false,
     "input": [
      "import math\n",
      "##INPUT DATA\n",
      "f=55. ##frequency\n",
      "a=7.*10**-3 ##amplitude\n",
      "\n",
      "\n",
      "##calculation\n",
      "a=(-2.*math.pi*f)**2*a\n",
      "\n",
      "##output\n",
      "print\"%s %.2f %s\"%(\"the acceleration of the body when it is at its maximum displacement from its zero position is \",a,\" ms^-2\")"
     ],
     "language": "python",
     "metadata": {},
     "outputs": [
      {
       "output_type": "stream",
       "stream": "stdout",
       "text": [
        "the acceleration of the body when it is at its maximum displacement from its zero position is  835.96  ms^-2\n"
       ]
      }
     ],
     "prompt_number": 25
    },
    {
     "cell_type": "heading",
     "level": 2,
     "metadata": {},
     "source": [
      "Ex29-pg50"
     ]
    },
    {
     "cell_type": "code",
     "collapsed": false,
     "input": [
      "import math\n",
      "##input\n",
      "f=55.##frequency\n",
      "amp=7.*10**-3##amplitude\n",
      "m=1.2##mass\n",
      "##calculation\n",
      "e=0.5*m*4.*math.pi**2*f**2*amp**2##maximum pe occurs at zero position\n",
      "##output\n",
      "print\"%s %.2f %s\"%(\"the maximum pe is \",e,\" J\")\n"
     ],
     "language": "python",
     "metadata": {},
     "outputs": [
      {
       "output_type": "stream",
       "stream": "stdout",
       "text": [
        "the maximum pe is  3.51  J\n"
       ]
      }
     ],
     "prompt_number": 26
    },
    {
     "cell_type": "heading",
     "level": 2,
     "metadata": {},
     "source": [
      "Ex30-pg51"
     ]
    },
    {
     "cell_type": "code",
     "collapsed": false,
     "input": [
      "import math\n",
      "##input\n",
      "l=6.5##length\n",
      "m=0.06##mass of wire\n",
      "m1=10##mass attached\n",
      "g=9.8##acceleration due to gravity\n",
      "e=2.1*10**11##youngs modulus\n",
      "ro=8.*10**3##density of steel\n",
      "##calculation\n",
      "e1=m1*g*ro*l*l/(e*m)##extension caused \n",
      "pe=0.5*g*m1*e1##potential energy \n",
      "##output\n",
      "print\"%s %.2e %s\"%(\"the extension caused is \",e1,\" m\")\n",
      "print\"%s %.2f %s\"%(\"\\n the potential energy is \",pe,\" J\")\n"
     ],
     "language": "python",
     "metadata": {},
     "outputs": [
      {
       "output_type": "stream",
       "stream": "stdout",
       "text": [
        "the extension caused is  2.63e-03  m\n",
        "\n",
        " the potential energy is  0.13  J\n"
       ]
      }
     ],
     "prompt_number": 27
    },
    {
     "cell_type": "heading",
     "level": 2,
     "metadata": {},
     "source": [
      "Ex31-pg52"
     ]
    },
    {
     "cell_type": "code",
     "collapsed": false,
     "input": [
      "import math\n",
      "##input\n",
      "w=250.*10**3\n",
      "s=0.00003##strain\n",
      "a=0.04##area\n",
      "w1=320.*10**3\n",
      "##calculation\n",
      "e=w/(a*s)##youngs module\n",
      "st=w1/a##stress\n",
      "##output\n",
      "print\"%s %.2f %s\"%(\"the youngs modulus is \",e,\" N/m^2\")\n",
      "print\"%s %.2f %s\"%(\"\\n the stress is \",st,\" N/m^2\")\n"
     ],
     "language": "python",
     "metadata": {},
     "outputs": [
      {
       "output_type": "stream",
       "stream": "stdout",
       "text": [
        "the youngs modulus is  208333333333.33  N/m^2\n",
        "\n",
        " the stress is  8000000.00  N/m^2\n"
       ]
      }
     ],
     "prompt_number": 28
    },
    {
     "cell_type": "heading",
     "level": 2,
     "metadata": {},
     "source": [
      "Ex32-pg53"
     ]
    },
    {
     "cell_type": "code",
     "collapsed": false,
     "input": [
      "import math\n",
      "##input\n",
      "m=40.##mass\n",
      "g=9.8##acceleration due to gravity\n",
      "E=2*10**11##youngs modulus\n",
      "##calculation\n",
      "t1=m*g/5.##principle of momentum\n",
      "t2=4*m*g/5. ##principle of momentum\n",
      "d=4.*(t2-t1)/(4.*math.pi*10**-6*E)##difference in length\n",
      "##output\n",
      "print\"%s %.2e %s\"%(\"the difference is \",d,\" m\")\n"
     ],
     "language": "python",
     "metadata": {},
     "outputs": [
      {
       "output_type": "stream",
       "stream": "stdout",
       "text": [
        "the difference is  3.74e-04  m\n"
       ]
      }
     ],
     "prompt_number": 29
    }
   ],
   "metadata": {}
  }
 ]
}