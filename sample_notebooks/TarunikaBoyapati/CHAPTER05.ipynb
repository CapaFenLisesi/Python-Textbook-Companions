{
 "cells": [
  {
   "cell_type": "markdown",
   "metadata": {},
   "source": [
    "# CHAPTER05 : THEORY OF RELATIVITY"
   ]
  },
  {
   "cell_type": "markdown",
   "metadata": {},
   "source": [
    "## Example E01 : Pg 190"
   ]
  },
  {
   "cell_type": "code",
   "execution_count": 1,
   "metadata": {
    "collapsed": false
   },
   "outputs": [
    {
     "name": "stdout",
     "output_type": "stream",
     "text": [
      "\n",
      " # PROBLEM 1 # \n",
      "\n",
      "\n",
      " Number of oscillation corresponding to coherent length is 50000.0 \n",
      " Coherent time is 9.81666666667e-11 sec\n"
     ]
    }
   ],
   "source": [
    "from math import sqrt,pi \n",
    "# Given that\n",
    "l = 2.945e-2 # coherent length of sodium light\n",
    "lambd = 5890. # wavelength of light used in angstrom\n",
    "c = 3e8 # speed of light\n",
    "# Sample Problem 1 on page no. 242\n",
    "print\"\\n # PROBLEM 1 # \\n\"\n",
    "n = l/(lambd*1e-10) # number of oscillation corresponding to coherent length\n",
    "t = l/c # coherent time\n",
    "print\"\\n Number of oscillation corresponding to coherent length is\",n,\"\\n Coherent time is\",t,\"sec\""
   ]
  },
  {
   "cell_type": "markdown",
   "metadata": {},
   "source": [
    "## Example E02 : Pg 190"
   ]
  },
  {
   "cell_type": "code",
   "execution_count": 2,
   "metadata": {
    "collapsed": false
   },
   "outputs": [
    {
     "name": "stdout",
     "output_type": "stream",
     "text": [
      "\n",
      " # PROBLEM 2 # \n",
      "\n",
      "\n",
      " Angular  spread  is 0.00016 rad. \n",
      " Areal spread is 4096000000.0 m**2\n"
     ]
    }
   ],
   "source": [
    "from math import sqrt,pi \n",
    "# Given that\n",
    "l = 4e5 # Distance of moon in km\n",
    "lambd = 8e-7 # wavelength of light used\n",
    "a = 5e-3 # Aperture of laser\n",
    "c = 3e8 # speed of light\n",
    "# Sample Problem 2 on page no. 242\n",
    "print\"\\n # PROBLEM 2 # \\n\"\n",
    "theta = lambd/a  # Angular of spread \n",
    "Areal_spread = (l*1000.*theta)**2. # Areal spread\n",
    "print\"\\n Angular  spread  is\",theta,\"rad. \\n Areal spread is\",Areal_spread,\"m**2\""
   ]
  },
  {
   "cell_type": "markdown",
   "metadata": {},
   "source": [
    "## Example E03 : Pg 199"
   ]
  },
  {
   "cell_type": "code",
   "execution_count": 3,
   "metadata": {
    "collapsed": false
   },
   "outputs": [
    {
     "name": "stdout",
     "output_type": "stream",
     "text": [
      "\n",
      " # PROBLEM 3 # \n",
      "\n",
      "\n",
      " Number of oscillation corresponding to coherent length is 50000.0 \n",
      " Coherent time is 9.81666666667e-11 sec\n"
     ]
    }
   ],
   "source": [
    "from math import sqrt,pi \n",
    "# Given that\n",
    "l = 2.945e-2 # coherent length of sodium light\n",
    "lambd = 5890. # wavelength of light used\n",
    "c = 3e8 # speed of light\n",
    "# Sample Problem 3 on page no. 242\n",
    "print\"\\n # PROBLEM 3 # \\n\"\n",
    "n = l/(lambd *1e-10) # number of oscillation corresponding to coherent length\n",
    "t = l/c # coherent time\n",
    "print\"\\n Number of oscillation corresponding to coherent length is\",n,\"\\n Coherent time is\",t,\"sec\""
   ]
  },
  {
   "cell_type": "markdown",
   "metadata": {},
   "source": [
    "## Example E04 : Pg 201"
   ]
  },
  {
   "cell_type": "code",
   "execution_count": 4,
   "metadata": {
    "collapsed": false
   },
   "outputs": [
    {
     "name": "stdout",
     "output_type": "stream",
     "text": [
      "\n",
      " # PROBLEM 4 # \n",
      "\n",
      "\n",
      " Energy difference is 0.365641494412 eV\n"
     ]
    }
   ],
   "source": [
    "from math import sqrt,pi \n",
    "# Given that\n",
    "k = 12400. # constant\n",
    "lambd = 3.3913 # wavelength IR radiation\n",
    "\n",
    "# Sample Problem 4 on page no. 243\n",
    "print\"\\n # PROBLEM 4 # \\n\"\n",
    "E = k/(lambd*1e4) # Energy difference\n",
    "print\"\\n Energy difference is\",E,\"eV\""
   ]
  },
  {
   "cell_type": "markdown",
   "metadata": {},
   "source": [
    "## Example E05 : Pg 202"
   ]
  },
  {
   "cell_type": "code",
   "execution_count": 5,
   "metadata": {
    "collapsed": false
   },
   "outputs": [
    {
     "name": "stdout",
     "output_type": "stream",
     "text": [
      "\n",
      " # PROBLEM 5 # \n",
      "\n",
      "\n",
      " Energy of one photon  is 1.78597148207 eV. \n",
      " Total energy is 8.57266311393 J\n"
     ]
    }
   ],
   "source": [
    "from math import sqrt,pi \n",
    "k = 12400. # constant\n",
    "lambd = 6943. # wavelength of radiation in angstrom\n",
    "n = 3e19 # Total number of ions\n",
    "# Sample Problem 5 on page no. 243\n",
    "print\"\\n # PROBLEM 5 # \\n\"\n",
    "E = k/(lambd) # Energy difference\n",
    "E_total = E*n*1.6e-19 # Total Energy emitted \n",
    "print\"\\n Energy of one photon  is\",E,\"eV. \\n Total energy is\",E_total,\"J\""
   ]
  },
  {
   "cell_type": "markdown",
   "metadata": {},
   "source": [
    "## Example E06 : Pg 205"
   ]
  },
  {
   "cell_type": "code",
   "execution_count": 6,
   "metadata": {
    "collapsed": false
   },
   "outputs": [
    {
     "name": "stdout",
     "output_type": "stream",
     "text": [
      "\n",
      " # PROBLEM 6 # \n",
      "\n",
      "\n",
      " Required length of cavity is 10.010896 cm\n"
     ]
    }
   ],
   "source": [
    "from math import sqrt,pi \n",
    "# Given that\n",
    "h_w = 2e-3 # half width of gain profile of laser in nm\n",
    "mu = 1. # refractive index\n",
    "lambd = 6328. # wavelength of light used in angstrom\n",
    "# Sample Problem 6 on page no. 244\n",
    "print\"\\n # PROBLEM 6 # \\n\"\n",
    "L = (lambd*1e-10)**2./(2.*mu*h_w*1e-9) # Length of cavity \n",
    "print\"\\n Required length of cavity is\",L*100,\"cm\""
   ]
  }
 ],
 "metadata": {
  "anaconda-cloud": {},
  "kernelspec": {
   "display_name": "Python [Root]",
   "language": "python",
   "name": "Python [Root]"
  },
  "language_info": {
   "codemirror_mode": {
    "name": "ipython",
    "version": 2
   },
   "file_extension": ".py",
   "mimetype": "text/x-python",
   "name": "python",
   "nbconvert_exporter": "python",
   "pygments_lexer": "ipython2",
   "version": "2.7.12"
  }
 },
 "nbformat": 4,
 "nbformat_minor": 0
}
