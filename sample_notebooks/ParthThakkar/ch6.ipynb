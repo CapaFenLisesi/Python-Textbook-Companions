{
 "metadata": {
  "name": "",
  "signature": "sha256:b09b7fb5366e8af61b1c0396c23ff3a998c9bd372716836d0d1fda9706db6296"
 },
 "nbformat": 3,
 "nbformat_minor": 0,
 "worksheets": [
  {
   "cells": [
    {
     "cell_type": "heading",
     "level": 1,
     "metadata": {},
     "source": [
      "Chapter 6 : DC Machines"
     ]
    },
    {
     "cell_type": "heading",
     "level": 2,
     "metadata": {},
     "source": [
      "Example 6.1  Page No :  6.3"
     ]
    },
    {
     "cell_type": "code",
     "collapsed": false,
     "input": [
      "\n",
      "\n",
      "# Variables\n",
      "P = 4;\t\t\t\t#no. of poles\n",
      "c = 2;\t\t\t\t#no. of parallel paths\n",
      "p = 4./2;\t\t\t\t#no. of pair of poles\n",
      "S = 51;\t\t\t\t#no. of slots\n",
      "C = 12;\t\t\t\t#conductors per slot\n",
      "N = 900;\t\t\t\t#rpm(speed)\n",
      "fi = 25./1000;\t\t\t\t#Wb\n",
      "\n",
      "# Calculations\n",
      "Z = S*C;\t\t\t\t#total no. of conductors\n",
      "E = 2*Z/c*N*p/60*fi;\t\t\t\t#V\n",
      "\n",
      "# Results\n",
      "print \"Generated emf(V): %.2f\"%E\n"
     ],
     "language": "python",
     "metadata": {},
     "outputs": [
      {
       "output_type": "stream",
       "stream": "stdout",
       "text": [
        "Generated emf(V): 459.00\n"
       ]
      }
     ],
     "prompt_number": 1
    },
    {
     "cell_type": "heading",
     "level": 2,
     "metadata": {},
     "source": [
      "Example 6.2  Page No :  6.4"
     ]
    },
    {
     "cell_type": "code",
     "collapsed": false,
     "input": [
      "\n",
      "# Variables\n",
      "P = 8.;\t\t\t\t#no. of poles\n",
      "c = 8.;\t\t\t\t#no. of parallel paths\n",
      "p = 8./2;\t\t\t\t#no. of pair of poles\n",
      "E = 260.;\t\t\t\t#V(generated emf)\n",
      "fi = 0.05;\t\t\t\t#Wb\n",
      "S = 120;\t\t\t\t#no. of slots\n",
      "N = 350;\t\t\t\t#rpm(speed)\n",
      "\n",
      "# Calculations\n",
      "Z = E/(2./c*N*p/60*fi);\t\t\t\t#V\n",
      "\n",
      "# Results\n",
      "print \"No. of conductors per slot\",int(Z)\n"
     ],
     "language": "python",
     "metadata": {},
     "outputs": [
      {
       "output_type": "stream",
       "stream": "stdout",
       "text": [
        "No. of conductors per slot 891\n"
       ]
      }
     ],
     "prompt_number": 3
    },
    {
     "cell_type": "heading",
     "level": 2,
     "metadata": {},
     "source": [
      "Example 6.3  Page No :  6.6"
     ]
    },
    {
     "cell_type": "code",
     "collapsed": false,
     "input": [
      "\n",
      "# Variables\n",
      "Ra = 0.1;\t\t\t\t#ohm(Armature Resistance)\n",
      "Vs = 250;\t\t\t\t#V(supply voltage)\n",
      "\n",
      "# Calculations and Results\n",
      "#part(a)\n",
      "I = 80;\t\t\t\t#A\n",
      "Vdrop = Ra*I;\t\t\t\t#V\n",
      "emf = Vs+Vdrop;\t\t\t\t#V(Generated emf)\n",
      "print \"Part(a) Generated emf(V) : %.2f\"%emf\n",
      "\n",
      "#part(b)\n",
      "I = 60;\t\t\t\t#A(current taken by Motor)\n",
      "Vdrop = Ra*I;\t\t\t\t#V\n",
      "emf = Vs-Vdrop;\t\t\t\t#V(Generated emf)\n",
      "print \"Part(b) Generated emf(V) : %.2f\"%emf\n"
     ],
     "language": "python",
     "metadata": {},
     "outputs": [
      {
       "output_type": "stream",
       "stream": "stdout",
       "text": [
        "Part(a) Generated emf(V) : 258.00\n",
        "Part(b) Generated emf(V) : 244.00\n"
       ]
      }
     ],
     "prompt_number": 4
    },
    {
     "cell_type": "heading",
     "level": 2,
     "metadata": {},
     "source": [
      "Example 6.4  Page No :  6.7"
     ]
    },
    {
     "cell_type": "code",
     "collapsed": false,
     "input": [
      "\n",
      "# Variables\n",
      "P = 4;\t\t\t\t#no. of poles\n",
      "Vs = 440;\t\t\t\t#V\n",
      "c = 2;\t\t\t\t#no. of parallel paths\n",
      "p = 4./2;\t\t\t\t#no. of pair of poles\n",
      "Ia = 50;\t\t\t\t#A\n",
      "Ra = 0.28;\t\t\t\t#ohm\n",
      "Z = 888;\t\t\t\t#conductors\n",
      "fi = 0.023;\t\t\t\t#Wb\n",
      "\n",
      "# Calculations\n",
      "emf = Vs-Ia*Ra;\t\t\t\t#V\n",
      "N = emf/(2*Z/c*p/60*fi);\t\t\t\t#rpm\n",
      "\n",
      "# Results\n",
      "print \"Speed in rpm\",round(N)\n"
     ],
     "language": "python",
     "metadata": {},
     "outputs": [
      {
       "output_type": "stream",
       "stream": "stdout",
       "text": [
        "Speed in rpm 626.0\n"
       ]
      }
     ],
     "prompt_number": 5
    },
    {
     "cell_type": "heading",
     "level": 2,
     "metadata": {},
     "source": [
      "Example 6.5  Page No :  6.7"
     ]
    },
    {
     "cell_type": "code",
     "collapsed": false,
     "input": [
      "import math \n",
      "\n",
      "# Variables\n",
      "N = 900;\t\t\t\t#rpm\n",
      "Vs = 460.;\t\t\t\t#V\n",
      "Vs_new = 200;\t\t\t\t#V\n",
      "fi_ratio = 0.7;\t\t\t\t#ratio of new flux to original flux\n",
      "\n",
      "# Calculations\n",
      "kfi = Vs/N;\t\t\t\t#for original flux\n",
      "Nnew = Vs_new/kfi/fi_ratio;\t\t\t\t#rpm(new speed)\n",
      "\n",
      "# Results\n",
      "print \"Speed in rpm\",round(Nnew)\n"
     ],
     "language": "python",
     "metadata": {},
     "outputs": [
      {
       "output_type": "stream",
       "stream": "stdout",
       "text": [
        "Speed in rpm 559.0\n"
       ]
      }
     ],
     "prompt_number": 6
    },
    {
     "cell_type": "heading",
     "level": 2,
     "metadata": {},
     "source": [
      "Example 6.6  Page No :  6.8"
     ]
    },
    {
     "cell_type": "code",
     "collapsed": false,
     "input": [
      "import math \n",
      "\n",
      "# Variables\n",
      "Ia = 110;\t\t\t\t#A\n",
      "Vs = 480;\t\t\t\t#V\n",
      "Ra = 0.2;\t\t\t\t#ohm\n",
      "P = 6.;\t\t\t\t#no. of poles\n",
      "c = 6.;\t\t\t\t#no. of parallel paths\n",
      "p = P/2;\t\t\t\t#no. of pair of poles\n",
      "Z = 864;\t\t\t\t#no. of conductors\n",
      "fi = 0.05;\t\t\t\t#Wb\n",
      "\n",
      "# Calculations and Results\n",
      "emf = Vs-Ia*Ra;\t\t\t\t#V\n",
      "N = emf/(2*Z/c*p/60*fi);\t\t\t\t#rpm\n",
      "print \"(a) Speed in rpm\",round(N)\n",
      "\n",
      "Pm = Ia*emf;\t\t\t\t#W(Mechanical power developed)\n",
      "M = Pm/(N/60)/(2*math.pi);\t\t\t\t#Nm(Torque)\n",
      "print \"(b) Gross torque developed(Nm) : %.f\"%M\n"
     ],
     "language": "python",
     "metadata": {},
     "outputs": [
      {
       "output_type": "stream",
       "stream": "stdout",
       "text": [
        "(a) Speed in rpm 636.0\n",
        "(b) Gross torque developed(Nm) : 756\n"
       ]
      }
     ],
     "prompt_number": 8
    },
    {
     "cell_type": "heading",
     "level": 2,
     "metadata": {},
     "source": [
      "Example 6.7  Page No :  6.9"
     ]
    },
    {
     "cell_type": "code",
     "collapsed": false,
     "input": [
      "import math \n",
      "\n",
      "# Variables\n",
      "N = 15;\t\t\t\t#rps\n",
      "M = 2*1000;\t\t\t\t#Nm(Torque required)\n",
      "Loss = 8*1000;\t\t\t\t#W\n",
      "\n",
      "# Calculations\n",
      "P = 2*math.pi*M*N;\t\t\t\t#W(Power required)\n",
      "Pa = P-Loss;\t\t\t\t#W(Power generated in armature)\n",
      "\n",
      "# Results\n",
      "print \"Power generated in armature(kW) : %.2f\"%(Pa/1000)\n"
     ],
     "language": "python",
     "metadata": {},
     "outputs": [
      {
       "output_type": "stream",
       "stream": "stdout",
       "text": [
        "Power generated in armature(kW) : 180.50\n"
       ]
      }
     ],
     "prompt_number": 10
    }
   ],
   "metadata": {}
  }
 ]
}