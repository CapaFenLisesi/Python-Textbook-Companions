{
 "metadata": {
  "name": "",
  "signature": "sha256:40246af5736342db0b706a17990458bf898d0d1dfd632473c65bf3a52df25d34"
 },
 "nbformat": 3,
 "nbformat_minor": 0,
 "worksheets": [
  {
   "cells": [
    {
     "cell_type": "heading",
     "level": 1,
     "metadata": {},
     "source": [
      "Chapter 05 - Bipolar Junction Transistors"
     ]
    },
    {
     "cell_type": "heading",
     "level": 2,
     "metadata": {},
     "source": [
      "Example No -5.1 : Page No - 243"
     ]
    },
    {
     "cell_type": "code",
     "collapsed": false,
     "input": [
      "# Given data\n",
      "I_C= 5.10;# in mA\n",
      "I_E= 5.5;# in mA\n",
      "alpha= I_C/I_E;\n",
      "alpha_dc= alpha;\n",
      "print \"The common-base d.c. current gain = %0.2f \" %alpha_dc\n"
     ],
     "language": "python",
     "metadata": {},
     "outputs": [
      {
       "output_type": "stream",
       "stream": "stdout",
       "text": [
        "The common-base d.c. current gain = 0.93 \n"
       ]
      }
     ],
     "prompt_number": 1
    },
    {
     "cell_type": "heading",
     "level": 2,
     "metadata": {},
     "source": [
      "Example No -5.2 : Page No - 243"
     ]
    },
    {
     "cell_type": "code",
     "collapsed": false,
     "input": [
      "import math \n",
      "# Given data\n",
      "alpha= 0.987;\n",
      "I_E= 10.;# in mA\n",
      "# Formula alpha= I_C/I_E;\n",
      "I_C= alpha*I_E;# in mA\n",
      "I_B= I_E-I_C;# in mA\n",
      "print \"The base current = %0.2f mA \" %I_B\n"
     ],
     "language": "python",
     "metadata": {},
     "outputs": [
      {
       "output_type": "stream",
       "stream": "stdout",
       "text": [
        "The base current = 0.13 mA \n"
       ]
      }
     ],
     "prompt_number": 2
    },
    {
     "cell_type": "heading",
     "level": 2,
     "metadata": {},
     "source": [
      "Example No -5.4 : Page No - 249"
     ]
    },
    {
     "cell_type": "code",
     "collapsed": false,
     "input": [
      "# Given data\n",
      "alpha= 0.967;\n",
      "I_E= 10.;# in mA\n",
      "# Formula alpha= I_C/I_E;\n",
      "I_C= alpha*I_E;# in mA\n",
      "I_B= I_E-I_C;# in mA\n",
      "print \"The collector current = %0.2f mA\" %I_C\n",
      "print \"The base current = %0.2f mA \" %I_B\n"
     ],
     "language": "python",
     "metadata": {},
     "outputs": [
      {
       "output_type": "stream",
       "stream": "stdout",
       "text": [
        "The collector current = 9.67 mA\n",
        "The base current = 0.33 mA \n"
       ]
      }
     ],
     "prompt_number": 3
    },
    {
     "cell_type": "heading",
     "level": 2,
     "metadata": {},
     "source": [
      "Example No -5.5 : Page No - 250"
     ]
    },
    {
     "cell_type": "code",
     "collapsed": false,
     "input": [
      "# Given data\n",
      "Beta= 100.;\n",
      "I_E= 10.;# in mA\n",
      "alpha= Beta/(1+Beta);\n",
      "print \"The value of alpha = %0.2f\" %alpha\n",
      "# Formula alpha= I_C/I_E;\n",
      "I_C= alpha*I_E;# in mA\n",
      "I_B= I_E-I_C;# in mA\n",
      "print \"The collector current = %0.1f mA  \" %I_C\n",
      "print \"The base current = %0.1f mA\" %I_B"
     ],
     "language": "python",
     "metadata": {},
     "outputs": [
      {
       "output_type": "stream",
       "stream": "stdout",
       "text": [
        "The value of alpha = 0.99\n",
        "The collector current = 9.9 mA  \n",
        "The base current = 0.1 mA\n"
       ]
      }
     ],
     "prompt_number": 4
    },
    {
     "cell_type": "heading",
     "level": 2,
     "metadata": {},
     "source": [
      "Example No -5.6 : Page No - 258"
     ]
    },
    {
     "cell_type": "code",
     "collapsed": false,
     "input": [
      "# Given data\n",
      "alpha= 0.950;\n",
      "Beta= alpha/(1.-alpha);\n",
      "print \"For alpha = 0.950, the value of beta = %0.f\" %Beta\n",
      "Beta= 100.;\n",
      "alpha= Beta/(1.+Beta);\n",
      "print \"For beta = 100, the value of alpha = %0.2f\" %alpha\n"
     ],
     "language": "python",
     "metadata": {},
     "outputs": [
      {
       "output_type": "stream",
       "stream": "stdout",
       "text": [
        "For alpha = 0.950, the value of beta = 19\n",
        "For beta = 100, the value of alpha = 0.99\n"
       ]
      }
     ],
     "prompt_number": 5
    },
    {
     "cell_type": "heading",
     "level": 2,
     "metadata": {},
     "source": [
      "Example No -5.7 : Page No - 259"
     ]
    },
    {
     "cell_type": "code",
     "collapsed": false,
     "input": [
      "# Given data\n",
      "I_E= 10.;# in mA\n",
      "Beta= 100.;\n",
      "alpha= Beta/(1.+Beta);\n",
      "# Formula alpha= I_C/I_E;\n",
      "I_C= alpha*I_E;# in mA\n",
      "I_B= I_E-I_C;# in mA\n",
      "print \"The base current = %0.3f mA \" %I_B\n",
      "print \"The collector current = %0.3f mA\" %I_C"
     ],
     "language": "python",
     "metadata": {},
     "outputs": [
      {
       "output_type": "stream",
       "stream": "stdout",
       "text": [
        "The base current = 0.099 mA \n",
        "The collector current = 9.901 mA\n"
       ]
      }
     ],
     "prompt_number": 6
    },
    {
     "cell_type": "heading",
     "level": 2,
     "metadata": {},
     "source": [
      "Example No -5.8 : Page No - 263"
     ]
    },
    {
     "cell_type": "code",
     "collapsed": false,
     "input": [
      "# Given data\n",
      "%matplotlib inline\n",
      "import math\n",
      "import numpy as np\n",
      "import matplotlib.pyplot as plt\n",
      "V_CC= 12.;# in V\n",
      "R_C= 3.;# in kohm\n",
      "V_CE= np.linspace(0,12,num=120);# in V\n",
      "I_C= np.zeros(120)\n",
      "for i in range(0,120):\n",
      "\tI_C[i]= (V_CC-V_CE[i])/R_C;# in mA\n",
      "\n",
      "plt.plot(V_CE,I_C);\n",
      "plt.xlabel(\"V_CE in volts\")\n",
      "plt.ylabel(\"I_C in mA\")\n",
      "plt.title(\"DC load line\")\n",
      "plt.show()\n",
      "print \"DC load line shown in figure.\"\n"
     ],
     "language": "python",
     "metadata": {},
     "outputs": [
      {
       "metadata": {},
       "output_type": "display_data",
       "png": "[encoded data removed]",
       "text": [
        "<matplotlib.figure.Figure at 0x7f6d25333a90>"
       ]
      },
      {
       "output_type": "stream",
       "stream": "stdout",
       "text": [
        "DC load line shown in figure.\n"
       ]
      }
     ],
     "prompt_number": 22
    }
   ],
   "metadata": {}
  }
 ]
}