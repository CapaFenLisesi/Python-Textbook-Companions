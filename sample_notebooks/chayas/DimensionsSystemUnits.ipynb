{
 "metadata": {
  "name": "DimensionsSystemUnits"
 },
 "nbformat": 3,
 "nbformat_minor": 0,
 "worksheets": [
  {
   "cells": [
    {
     "cell_type": "heading",
     "level": 1,
     "metadata": {},
     "source": "Dimensions and systems of units"
    },
    {
     "cell_type": "heading",
     "level": 2,
     "metadata": {},
     "source": "Ex.1.1"
    },
    {
     "cell_type": "code",
     "collapsed": false,
     "input": "# Ex1.1 pageno 12\npg=40  #negative pressure\npatom=47.2  #atom pressure\npa=patom-pg  #absolute pressure of 6000\nprint \" pa = \",round(pa,1), \"kPa\" ",
     "language": "python",
     "metadata": {},
     "outputs": [
      {
       "output_type": "stream",
       "stream": "stdout",
       "text": " pa =  7.2 kPa\n"
      }
     ],
     "prompt_number": 8
    },
    {
     "cell_type": "heading",
     "level": 2,
     "metadata": {},
     "source": "Ex 1.2"
    },
    {
     "cell_type": "code",
     "collapsed": false,
     "input": "#Ex 1.2 pageno 13\nsigma=0.073 #N/m\nga= 9800 #density\nD= 2*10**-3\nh=(4*sigma)/(ga*D)*10**3\nprint '%s % 2g' %(\"\\n h(meter)= \",h), \"mm\"",
     "language": "python",
     "metadata": {},
     "outputs": [
      {
       "output_type": "stream",
       "stream": "stdout",
       "text": "\n h(meter)=   14.898 mm\n"
      }
     ],
     "prompt_number": 94
    },
    {
     "cell_type": "heading",
     "level": 2,
     "metadata": {},
     "source": "Ex 1.3"
    },
    {
     "cell_type": "code",
     "collapsed": false,
     "input": "# Ex 1.3 pageno 13 \n# from table given in textbook\nimport math\nz=10000 #meter\nT=223.3 #kelvin\nr=287\nk=1.4\nc=math.sqrt(k*r*T)\nprint \" velocity of sound C= \",round(c,1), \"m/s\" \nv=(800*1000) # given speed of aircraft flies 800 km/hr\nt=3600\nspeed= v/t\nprint '%s %.1f %s' %(\"speed of aircraft v= \",speed,\"m/s\" )\nm=speed/c\nprint '%s %.2f'%(\"mach number of aircraft M= \",m)",
     "language": "python",
     "metadata": {},
     "outputs": [],
     "prompt_number": "*"
    },
    {
     "cell_type": "heading",
     "level": 2,
     "metadata": {},
     "source": "EX 1.4"
    },
    {
     "cell_type": "code",
     "collapsed": false,
     "input": "# pageno 13\ns=0.91 #specific gravity of water\nd=1000 #density of water\np=s*d # fluid density of water\nprint \"fluid density\",p,\"kg/m3\"\nd1=25*10**-3\nv1=2.6\nmu=0.38\nre=(p*d1*v1)/mu\nprint '%s %.1f' %(\"Reynolds number Re is \",re)",
     "language": "python",
     "metadata": {},
     "outputs": [
      {
       "output_type": "stream",
       "stream": "stdout",
       "text": "fluid density 910.0 kg/m3\nReynolds number Re is  155.7\n"
      }
     ],
     "prompt_number": 50
    },
    {
     "cell_type": "heading",
     "level": 1,
     "metadata": {},
     "source": "Ex 1.5"
    },
    {
     "cell_type": "code",
     "collapsed": false,
     "input": "# page no 14\nb=3 #pressure bar of gauge\nv2=101.3 #conversion value \nap=(b*v2)+(v2) # absolute pressure in the tank in kpa\nprint '%s %.1f %s' %(\"Absolute pressure in the tank in kpa =\",ap,\"kPa\")\np=ap*10**3\nR=287 # R Radius of Surface tension\nT=288 # Temperature in kelvin\np1=p/(R*T)\nprint '%s %.1f %s' %(\"density p= \",p1,\"Kg/m3\")\nv=0.85 # volume of airtank in m3\ng= 9.8 # gravational force \nw=p1*v*g\nprint '%s %.2f %s'%(\"Weight of air W = pvg= \",w,\"Kg\")",
     "language": "python",
     "metadata": {},
     "outputs": [
      {
       "output_type": "stream",
       "stream": "stdout",
       "text": "Absolute pressure in the tank in kpa = 405.2 kPa\ndensity p=  4.9 Kg/m3\nWeight of air W = pvg=  40.84 Kg\n"
      }
     ],
     "prompt_number": 57
    },
    {
     "cell_type": "heading",
     "level": 2,
     "metadata": {},
     "source": "Ex 1.6"
    },
    {
     "cell_type": "code",
     "collapsed": false,
     "input": "#page no 14 \nR=1*10**-3 # radius in meter\nsigma1=72.7*10**-3 # N/M\nE=(2*sigma1)/R\nprint '%s %.1f %s' %(\" Excess pressure p= \",E,\"N/m2\")",
     "language": "python",
     "metadata": {},
     "outputs": [
      {
       "output_type": "stream",
       "stream": "stdout",
       "text": " Excess pressure p=  145.4 N/m2\n"
      }
     ],
     "prompt_number": 61
    },
    {
     "cell_type": "heading",
     "level": 2,
     "metadata": {},
     "source": "Ex 1.7\n"
    },
    {
     "cell_type": "code",
     "collapsed": false,
     "input": "#page no 15\n# derivation of equation  by substuting  so no calculations \nprint \"shear stress t=-BD/4\"\nprint \" Also at position r=D/4;t=-BD/8\"",
     "language": "python",
     "metadata": {},
     "outputs": [
      {
       "output_type": "stream",
       "stream": "stdout",
       "text": "shear stress t=-BD/4\n Also at position r=D/4;t=-BD/8\n"
      }
     ],
     "prompt_number": 63
    },
    {
     "cell_type": "code",
     "collapsed": false,
     "input": "",
     "language": "python",
     "metadata": {},
     "outputs": []
    }
   ],
   "metadata": {}
  }
 ]
}