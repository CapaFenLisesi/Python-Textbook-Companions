{
 "cells": [
  {
   "cell_type": "markdown",
   "metadata": {},
   "source": [
    "# CHAPTER01 : STRUCTURAL PROPERTIES OF SEMICONDUCTORS"
   ]
  },
  {
   "cell_type": "markdown",
   "metadata": {},
   "source": [
    "## Example E01 : Pg 20"
   ]
  },
  {
   "cell_type": "code",
   "execution_count": 1,
   "metadata": {
    "collapsed": false
   },
   "outputs": [
    {
     "name": "stdout",
     "output_type": "stream",
     "text": [
      "Silicon has a diamond structure which is made up of the fcc lattice with two atoms on each lattice point. The fcc unit cube has a volume a3. The cube has eight lattice sites at the cube edges. However, each of these points is shared with eight other cubes. In addition, there are six lattice points on the cube face centers. Each of these points is shared by two adjacent cubes.\n",
      "Thus, number of lattice points per cube of volume a**3 =  4.0\n",
      "In silicon there are two silicon atoms per lattice point. The number density is, therefore,\n",
      "in atoms per cm cube 4.99678310227e+22\n",
      "volume of th MOSFET (in cm cube) =  1e-10\n",
      "Number of Si atoms in the MOSFET =  4.99678310227e+12\n"
     ]
    }
   ],
   "source": [
    "a = 5.43*10.**-8.; #lattice constant for silicon in cm\n",
    "N = 8./8. +6./2.; # Silicon has a diamond structure which is made up of the fcc lattice with two atoms on each lattice point. The fcc unit cube has a volume a3. The cube has eight lattice sites at the cube edges. However, each of these points is shared with eight other cubes. In addition, there are six lattice points on the cube face centers. Each of these points is shared by two adjacent cubes.\n",
    "print\"Silicon has a diamond structure which is made up of the fcc lattice with two atoms on each lattice point. The fcc unit cube has a volume a3. The cube has eight lattice sites at the cube edges. However, each of these points is shared with eight other cubes. In addition, there are six lattice points on the cube face centers. Each of these points is shared by two adjacent cubes.\"\n",
    "print \"Thus, number of lattice points per cube of volume a**3 = \",N\n",
    "print\"In silicon there are two silicon atoms per lattice point. The number density is, therefore,\"\n",
    "Nsi = N*2./a**3.;\n",
    "print\"in atoms per cm cube\",Nsi\n",
    "l = 50.*10.**-4.;\n",
    "b = 2.*10.**-4.;\n",
    "h = 1.*10.**-4.;\n",
    "vol = l*b*h; #volume of the MOSFET\n",
    "print \"volume of th MOSFET (in cm cube) = \",vol\n",
    "nmos = Nsi*vol;\n",
    "print\"Number of Si atoms in the MOSFET = \",nmos"
   ]
  },
  {
   "cell_type": "markdown",
   "metadata": {},
   "source": [
    "## Example E02 : Pg 22"
   ]
  },
  {
   "cell_type": "code",
   "execution_count": 2,
   "metadata": {
    "collapsed": false
   },
   "outputs": [
    {
     "name": "stdout",
     "output_type": "stream",
     "text": [
      "In the (001) surfaces, the top atoms are either Ga or As leading to the terminology Ga terminated (or Ga stabilized) and As terminated (or As stabilized), respectively. A square of area a2 has four atoms on the edges of the square and one atom at the center of the square. The atoms on the square edges are shared by a total of four squares. The total number of atoms per square is\n",
      "2.0\n",
      "The surface density (in per cm square) of Ga atoms on a Ga terminated (001) GaAs surface 6.26517346699e+14\n"
     ]
    }
   ],
   "source": [
    "a = 5.65*10.**-8.; #lattice constant in cm\n",
    "print \"In the (001) surfaces, the top atoms are either Ga or As leading to the terminology Ga terminated (or Ga stabilized) and As terminated (or As stabilized), respectively. A square of area a2 has four atoms on the edges of the square and one atom at the center of the square. The atoms on the square edges are shared by a total of four squares. The total number of atoms per square is\"\n",
    "N = 4./4. +1.; \n",
    "print N\n",
    "density = N/a**2.; #Surface density\n",
    "print \"The surface density (in per cm square) of Ga atoms on a Ga terminated (001) GaAs surface\",density"
   ]
  },
  {
   "cell_type": "markdown",
   "metadata": {},
   "source": [
    "## Example E2.5.1 : Pg 23"
   ]
  },
  {
   "cell_type": "code",
   "execution_count": 3,
   "metadata": {
    "collapsed": false
   },
   "outputs": [
    {
     "name": "stdout",
     "output_type": "stream",
     "text": [
      "We can form a triangle on the (111) surface of GaAs. There are three atoms on the tips of the triangle. These atoms are shared by six other similar triangles. There are also 3 atoms along the edges of the triangle which are shared by two adjacent triangles. Thus the number of atoms in the triangle are\n",
      "2.0\n",
      "The density (in per square cm) of GaAs atoms on the surface =  7.28588939852e+14\n"
     ]
    }
   ],
   "source": [
    "a = 5.63*10.**-8.; #lattice constant in cm\n",
    "print \"We can form a triangle on the (111) surface of GaAs. There are three atoms on the tips of the triangle. These atoms are shared by six other similar triangles. There are also 3 atoms along the edges of the triangle which are shared by two adjacent triangles. Thus the number of atoms in the triangle are\"\n",
    "N = 3./6. +3./2.;\n",
    "print N\n",
    "area = 3.**0.5/2.*a**2.; #area of triangle\n",
    "density = N/area; #The density of GaAs atoms on the surface\n",
    "print \"The density (in per square cm) of GaAs atoms on the surface = \",density"
   ]
  }
 ],
 "metadata": {
  "anaconda-cloud": {},
  "kernelspec": {
   "display_name": "Python [Root]",
   "language": "python",
   "name": "Python [Root]"
  },
  "language_info": {
   "codemirror_mode": {
    "name": "ipython",
    "version": 2
   },
   "file_extension": ".py",
   "mimetype": "text/x-python",
   "name": "python",
   "nbconvert_exporter": "python",
   "pygments_lexer": "ipython2",
   "version": "2.7.12"
  }
 },
 "nbformat": 4,
 "nbformat_minor": 0
}
