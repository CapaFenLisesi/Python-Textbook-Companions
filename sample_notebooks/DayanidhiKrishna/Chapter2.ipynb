{
 "cells": [
  {
   "cell_type": "markdown",
   "metadata": {},
   "source": [
    "# Chapter 2 Antenna Fundamentals"
   ]
  },
  {
   "cell_type": "markdown",
   "metadata": {},
   "source": [
    "## 2.1 Calculation of Etheta"
   ]
  },
  {
   "cell_type": "code",
   "execution_count": 3,
   "metadata": {
    "collapsed": false
   },
   "outputs": [
    {
     "name": "stdout",
     "output_type": "stream",
     "text": [
      " Distance between point's is m 200 m\n",
      " the wavelength is  10 m\n",
      " the current element is  0.00030000000000000003 A/m\n",
      " Etheta value is V/m 0.2826\n"
     ]
    }
   ],
   "source": [
    "from __future__ import division\n",
    "import math\n",
    "\n",
    "# Etheta = 60∗ pi ∗ I ( dl / lambda ) ∗ ( sin(theta) / r) where thetha = 90\n",
    "r =200;\n",
    "print ( \" Distance between point's is m\" ,r ,'m') \n",
    "lam =10;\n",
    "print ( \" the wavelength is \" , lam ,'m') ;\n",
    "idl =3*10**-4;\n",
    "print ( \" the current element is \" , idl ,\"A/m\") ;\n",
    "Etheta =60*3.14*3*10** -3/2\n",
    "print(\" Etheta value is V/m\",Etheta)"
   ]
  },
  {
   "cell_type": "markdown",
   "metadata": {},
   "source": [
    "## 2.2 Calculation of directive gain"
   ]
  },
  {
   "cell_type": "code",
   "execution_count": 4,
   "metadata": {
    "collapsed": false
   },
   "outputs": [
    {
     "name": "stdout",
     "output_type": "stream",
     "text": [
      "radiation resistance is  72 ohm\n",
      "the Loss resistance is  8 ohm\n",
      "the power gain of antenna is  30\n",
      "the Directivity gain is  33.333333333333336\n",
      "the Directivity gain in db is given by  15.228787452803376\n"
     ]
    }
   ],
   "source": [
    "from __future__ import division\n",
    "import math\n",
    "\n",
    "#etta=Prad/Prad+Ploss=Rrad/Rrad+Rloss\n",
    "Rrad=72;\n",
    "print(\"radiation resistance is \",Rrad,\"ohm\");\n",
    "Rloss=8;\n",
    "ettar=72/(72+8);\n",
    "print(\"the Loss resistance is \",Rloss,\"ohm\");\n",
    "Gpmax=30;\n",
    "print(\"the power gain of antenna is \",Gpmax);\n",
    "Gdmax=Gpmax/ettar;\n",
    "Gdmax1=10 *math.log10(Gdmax);#in db\n",
    "print(\"the Directivity gain is \",Gdmax);\n",
    "print(\"the Directivity gain in db is given by \",Gdmax1);"
   ]
  },
  {
   "cell_type": "markdown",
   "metadata": {},
   "source": [
    "## 2.3 Radiation Resistance calculation"
   ]
  },
  {
   "cell_type": "code",
   "execution_count": 5,
   "metadata": {
    "collapsed": false
   },
   "outputs": [
    {
     "name": "stdout",
     "output_type": "stream",
     "text": [
      "the elemental length is given by  0.1\n",
      "the radiation resistance is  7.895683520871488 ohm\n"
     ]
    }
   ],
   "source": [
    "from __future__ import division\n",
    "import math\n",
    "\n",
    "#Rrad=80*pi^2*(dl/lambda)^2\n",
    "dl=0.1;\n",
    "print(\"the elemental length is given by \",dl);\n",
    "Rrad=80*(math.pi)**2*(0.1)**2;\n",
    "print(\"the radiation resistance is \",Rrad,\"ohm\");\n"
   ]
  },
  {
   "cell_type": "markdown",
   "metadata": {},
   "source": [
    "## 2.4 Rms current calculation"
   ]
  },
  {
   "cell_type": "code",
   "execution_count": 7,
   "metadata": {
    "collapsed": false
   },
   "outputs": [
    {
     "name": "stdout",
     "output_type": "stream",
     "text": [
      "the wavelength is  3.0 m\n",
      "the Radiated power is  100 W\n",
      "the elemental length is  0.01 m\n",
      "the Irms current is  106.76438151257656 A\n"
     ]
    }
   ],
   "source": [
    "from __future__ import division\n",
    "import math\n",
    "\n",
    "#Prad=80*(pi)**2*(dl/lambda)*(Irms)**2;\n",
    "frequency=100*10**6;\n",
    "lamda=(3*10**8)/(100*10**6); #lamda=c/f;\n",
    "print(\"the wavelength is \",lamda,\"m\");\n",
    "Prad=100;\n",
    "print(\"the Radiated power is \",Prad,\"W\");\n",
    "dl=0.01;\n",
    "print(\"the elemental length is \",dl,\"m\");\n",
    "Irms2=(3/0.01)**2*100/(80*(math.pi)**2);\n",
    "Irms=math.sqrt(Irms2);\n",
    "print(\"the Irms current is \",Irms,\"A\")"
   ]
  },
  {
   "cell_type": "markdown",
   "metadata": {},
   "source": [
    "## 2.5 Effective aperture calculation"
   ]
  },
  {
   "cell_type": "code",
   "execution_count": 8,
   "metadata": {
    "collapsed": false
   },
   "outputs": [
    {
     "name": "stdout",
     "output_type": "stream",
     "text": [
      "the electric field is  0.05 V/m\n",
      "the average power is  3.315727981081154e-06 W\n",
      "the maximum effective aperture area is  0.603318250377074 m^2\n"
     ]
    }
   ],
   "source": [
    "from __future__ import division\n",
    "import math\n",
    "\n",
    "#Pavg=0.5*|E|^2/etta0,Prmax=2*10^-6W,Aem=Prmax/Pavg\n",
    "\n",
    "E=50*10**-3;\n",
    "Etta0=120*(math.pi);\n",
    "print(\"the electric field is \",E,\"V/m\");\n",
    "Pavg=0.5*(50*10**-3)**2/(120*(math.pi));\n",
    "print(\"the average power is \",Pavg,\"W\");\n",
    "Aem=(2*10**-6)/(3.315*10**-6);\n",
    "print(\"the maximum effective aperture area is \",Aem,\"m^2\");\n"
   ]
  }
 ],
 "metadata": {
  "kernelspec": {
   "display_name": "Python 3",
   "language": "python",
   "name": "python3"
  },
  "language_info": {
   "codemirror_mode": {
    "name": "ipython",
    "version": 3
   },
   "file_extension": ".py",
   "mimetype": "text/x-python",
   "name": "python",
   "nbconvert_exporter": "python",
   "pygments_lexer": "ipython3",
   "version": "3.5.2"
  }
 },
 "nbformat": 4,
 "nbformat_minor": 1
}
