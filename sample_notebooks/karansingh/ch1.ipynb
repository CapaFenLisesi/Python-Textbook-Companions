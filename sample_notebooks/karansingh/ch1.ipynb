{
 "cells": [
  {
   "cell_type": "markdown",
   "metadata": {},
   "source": [
    "# Chapter1 - Survey Of Units And Dimensions"
   ]
  },
  {
   "cell_type": "markdown",
   "metadata": {},
   "source": [
    "## Ex:1.1 Pg: 19"
   ]
  },
  {
   "cell_type": "code",
   "execution_count": 1,
   "metadata": {
    "collapsed": false
   },
   "outputs": [
    {
     "name": "stdout",
     "output_type": "stream",
     "text": [
      "Force to accelerate = 3.108 lbf\n"
     ]
    }
   ],
   "source": [
    "#Initialization of variables\n",
    "gc=32.1739 #lbm ft/lbf s**2\n",
    "m=10 #lbm\n",
    "a=10 #ft/s**2\n",
    "#calculations\n",
    "F=m*a/gc\n",
    "#results\n",
    "print \"Force to accelerate = %.3f lbf\"%(F)"
   ]
  },
  {
   "cell_type": "markdown",
   "metadata": {},
   "source": [
    "## Ex:1.2 Pg: 19"
   ]
  },
  {
   "cell_type": "code",
   "execution_count": 2,
   "metadata": {
    "collapsed": false
   },
   "outputs": [
    {
     "name": "stdout",
     "output_type": "stream",
     "text": [
      "Force to accelerate = 10 lbf\n"
     ]
    }
   ],
   "source": [
    "#Initialization of variables\n",
    "gc=32.1739 #lbm ft/lbf s**2\n",
    "m=10 #lbm\n",
    "a=gc #ft/s**2\n",
    "#calculations\n",
    "F=m*a/gc\n",
    "#results\n",
    "print \"Force to accelerate = %d lbf\"%(F)"
   ]
  },
  {
   "cell_type": "markdown",
   "metadata": {},
   "source": [
    "## Ex:1.3 Pg: 19"
   ]
  },
  {
   "cell_type": "code",
   "execution_count": 3,
   "metadata": {
    "collapsed": false
   },
   "outputs": [
    {
     "name": "stdout",
     "output_type": "stream",
     "text": [
      "velocity = 60 mph\n"
     ]
    }
   ],
   "source": [
    "#Initialization of variables\n",
    "v=88 #ft/s\n",
    "#calculations\n",
    "v2=v*3600/5280\n",
    "#results\n",
    "print \"velocity = %d mph\"%(v2)"
   ]
  },
  {
   "cell_type": "markdown",
   "metadata": {},
   "source": [
    "## Ex:1.4 Pg: 20"
   ]
  },
  {
   "cell_type": "code",
   "execution_count": 8,
   "metadata": {
    "collapsed": false
   },
   "outputs": [
    {
     "name": "stdout",
     "output_type": "stream",
     "text": [
      "velocity = 0 mph\n"
     ]
    }
   ],
   "source": [
    "#Initialization of variables\n",
    "v=88 #ft/s\n",
    "#calculations\n",
    "v2=v*1/5280*3600\n",
    "#results\n",
    "print \"velocity = %d mph\"%(v2)"
   ]
  },
  {
   "cell_type": "markdown",
   "metadata": {},
   "source": [
    "## Ex:1.5 Pg: 20"
   ]
  },
  {
   "cell_type": "code",
   "execution_count": 9,
   "metadata": {
    "collapsed": false
   },
   "outputs": [
    {
     "name": "stdout",
     "output_type": "stream",
     "text": [
      "Force without dimensions = 5.79e-04 lbm/ft sec\n"
     ]
    }
   ],
   "source": [
    "#Initialization of variables\n",
    "F=5e-9 #lbf/ft**2 hr\n",
    "g=32.1739\n",
    "#calculations\n",
    "F2=F*3600*g\n",
    "#results\n",
    "print \"Force without dimensions = %.2e lbm/ft sec\"%(F2)"
   ]
  },
  {
   "cell_type": "markdown",
   "metadata": {},
   "source": [
    "## Ex:1.6 Pg: 21"
   ]
  },
  {
   "cell_type": "code",
   "execution_count": 10,
   "metadata": {
    "collapsed": false
   },
   "outputs": [
    {
     "name": "stdout",
     "output_type": "stream",
     "text": [
      "Density of water in this system = 1.937 lbf/ft**2\n",
      "\n",
      " Specific weight = 62.305 lbf/ft**2\n"
     ]
    }
   ],
   "source": [
    "#Initialization of variables\n",
    "rho=62.305 #lbf/ft**2\n",
    "g=32.1739 #ft/s**2\n",
    "#calculations\n",
    "gam=rho/g\n",
    "#results\n",
    "print \"Density of water in this system = %.3f lbf/ft**2\"%(gam)\n",
    "print \"\\n Specific weight = %.3f lbf/ft**2\"%(rho)"
   ]
  }
 ],
 "metadata": {
  "kernelspec": {
   "display_name": "Python 2",
   "language": "python",
   "name": "python2"
  },
  "language_info": {
   "codemirror_mode": {
    "name": "ipython",
    "version": 2
   },
   "file_extension": ".py",
   "mimetype": "text/x-python",
   "name": "python",
   "nbconvert_exporter": "python",
   "pygments_lexer": "ipython2",
   "version": "2.7.9"
  }
 },
 "nbformat": 4,
 "nbformat_minor": 0
}
