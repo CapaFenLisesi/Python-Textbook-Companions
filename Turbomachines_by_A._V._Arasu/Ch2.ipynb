{
 "metadata": {
  "name": "",
  "signature": "sha256:f90ad248f5346a845ec01efdf3c2941322625ecb2d8d238ed549e14c9d9de3bb"
 },
 "nbformat": 3,
 "nbformat_minor": 0,
 "worksheets": [
  {
   "cells": [
    {
     "cell_type": "heading",
     "level": 1,
     "metadata": {},
     "source": [
      "Chapter 2 - Blade Theory"
     ]
    },
    {
     "cell_type": "heading",
     "level": 2,
     "metadata": {},
     "source": [
      "Ex 2.1 page 53"
     ]
    },
    {
     "cell_type": "code",
     "collapsed": false,
     "input": [
      "#input data\n",
      "c =2.25#Chord length of an aerofoil in m\n",
      "l=13.5#Span of the aerofoil in m\n",
      "C=125#Velocity of the aerofoil in m/s\n",
      "Cl=0.465#Lift coefficient\n",
      "Cd=0.022#Drag coefficient\n",
      "d=1.25#Density of the air in kg/m**3\n",
      "\n",
      "#calculations\n",
      "A=c*l#Area of cross section of the aerofoil in m**2\n",
      "W=Cl*d*((C**2)/2)*A*10**-3#Weight carried by the wings of aerofoil in kN\n",
      "D=Cd*d*((C**2)/2)*A#Drag force on the wings of aerofoil in N\n",
      "P=D*C*10**-3#Power required to the drive the aerofoil in kW\n",
      "\n",
      "#output\n",
      "print '''(a)Weight carrried by the wings is %3.2f kN\n",
      "(b)Drag force on the wings of aerofoil is %3.2f N\n",
      "(c)Power required to drive the aerofoil is %3.3f kW'''%(W,D,P)"
     ],
     "language": "python",
     "metadata": {},
     "outputs": [
      {
       "output_type": "stream",
       "stream": "stdout",
       "text": [
        "(a)Weight carrried by the wings is 137.92 kN\n",
        "(b)Drag force on the wings of aerofoil is 6525.46 N\n",
        "(c)Power required to drive the aerofoil is 815.683 kW\n"
       ]
      }
     ],
     "prompt_number": 1
    },
    {
     "cell_type": "heading",
     "level": 2,
     "metadata": {},
     "source": [
      "Ex 2.2 page 53"
     ]
    },
    {
     "cell_type": "code",
     "collapsed": false,
     "input": [
      "from __future__ import division\n",
      "#input data\n",
      "W=980#The weight of the object being dropped by parachute in N\n",
      "C=5#The maximum terminal velocity of dropping in m/s\n",
      "d=1.22#The density of the air in kg/m**3\n",
      "Cd=1.3#The drag coefficient of the parachute\n",
      "\n",
      "#calculations\n",
      "A=W/(Cd*d*((C**2)/2))#The area of cross section in m**2\n",
      "D=((A*4)/(3.14))**(1/2)#Diameter of the parachute in m\n",
      "\n",
      "#output\n",
      "print 'The required diameter of the parachute is %3.2f m'%(D)"
     ],
     "language": "python",
     "metadata": {},
     "outputs": [
      {
       "output_type": "stream",
       "stream": "stdout",
       "text": [
        "The required diameter of the parachute is 7.94 m\n"
       ]
      }
     ],
     "prompt_number": 2
    },
    {
     "cell_type": "heading",
     "level": 2,
     "metadata": {},
     "source": [
      "Ex 2.3 page 54"
     ]
    },
    {
     "cell_type": "code",
     "collapsed": false,
     "input": [
      "#input data\n",
      "A=10*1.2#Area of the airplane wing in m**2\n",
      "C=((240*10**3)/3600)#Velocity of the wing in m/s\n",
      "F=20#Total aerodynamic force acting on the wing in kN\n",
      "LD=10#Lift-drag ratio\n",
      "d=1.2#Density of the air in kg/m**3\n",
      "\n",
      "#calculations\n",
      "L=(F)/(1.01)**(1/2)#The weight that the plane can carry in kN\n",
      "Cl=(L*10**3)/(d*A*((C**2)/2))#Coefficient of the lift\n",
      "\n",
      "#output\n",
      "print '(1)The coefficient of lift is %3.3f\\n(2)The total weight the palne can carry is %3.1f kN'%(Cl,L)"
     ],
     "language": "python",
     "metadata": {},
     "outputs": [
      {
       "output_type": "stream",
       "stream": "stdout",
       "text": [
        "(1)The coefficient of lift is 0.622\n",
        "(2)The total weight the palne can carry is 19.9 kN\n"
       ]
      }
     ],
     "prompt_number": 3
    },
    {
     "cell_type": "heading",
     "level": 2,
     "metadata": {},
     "source": [
      "Ex 2.4 page 54"
     ]
    },
    {
     "cell_type": "code",
     "collapsed": false,
     "input": [
      "#input data\n",
      "m=25#Mass flow rate of the air in kg/s\n",
      "d=1.1#Density of the air in kg/m**3\n",
      "Ca=157#Axial flow velocity of the air in m/s\n",
      "N=150#Rotational speed of the air in rev/s\n",
      "U=200#Mean blade speed in m/s\n",
      "lc=3#Rotor blade aspect ratio \n",
      "sc=0.8#Pitch chord ratio\n",
      "\n",
      "#calculations\n",
      "rm=(U)/(2*3.145*N)#Mean radius of the blades in m\n",
      "A=(m)/(d*Ca)#The annulus area of flow in m**2\n",
      "l=(A)/(2*3.1*rm)#The blade height in m\n",
      "C=l/lc#The chord of the blades in m\n",
      "S=sc*C#The blade pitch in m\n",
      "n=(2*3.141*rm)/(S)#Number of blades \n",
      "\n",
      "#output\n",
      "\n",
      "print '''(a)The mean radius of the blades is %3.3f m\n",
      "(b)The blade height is %3.2f m\\n(c) (1)The pitch of the blades is %3.4f m\n",
      "(2)The chord of the blades is %3.3f m\\n(d)The number of the blades are %3.f'''%(rm,l,S,C,n)"
     ],
     "language": "python",
     "metadata": {},
     "outputs": [
      {
       "output_type": "stream",
       "stream": "stdout",
       "text": [
        "(a)The mean radius of the blades is 0.212 m\n",
        "(b)The blade height is 0.11 m\n",
        "(c) (1)The pitch of the blades is 0.0294 m\n",
        "(2)The chord of the blades is 0.037 m\n",
        "(d)The number of the blades are  45\n"
       ]
      }
     ],
     "prompt_number": 4
    },
    {
     "cell_type": "heading",
     "level": 2,
     "metadata": {},
     "source": [
      "Ex 2.5 page 56"
     ]
    },
    {
     "cell_type": "code",
     "collapsed": false,
     "input": [
      "#input data\n",
      "sc=0.8#Pitch-chord ratio of compressor blade\n",
      "b1=45#Relative air angle at inlet in degree\n",
      "b2=15#Relative air angle at oulet in degree\n",
      "a1=b1#Cascade air angle at inlet in degree\n",
      "a2=b2#Cascade air angle at outlet in degree\n",
      "\n",
      "#calculations \n",
      "en=a1-a2#Nominal deflection angle of the blade in degree\n",
      "m=((0.23*(1)**2))+(0.1*a2/50)#An emperical constant for a circular arc camber where (2*a/c)=1\n",
      "t=(a1-a2)/(1-0.233)#Blade camber angle in degree\n",
      "d=(m*(sc)**(1/2))*t#The deviation angle of the blade in terms of (degree*t)\n",
      "ps=a1-(t/2)#The blade stagger for a given circular arc cascade in degree\n",
      "\n",
      "#output\n",
      "print '''(a)The nominal deflection angle is %i degree\n",
      "(b)The blade camber angle is %3.2f degree\n",
      "(c)The deviation angle is %3.2f degree\n",
      "(d)The blade stagger is %3.2f degree'''%(en,t,d,ps)"
     ],
     "language": "python",
     "metadata": {},
     "outputs": [
      {
       "output_type": "stream",
       "stream": "stdout",
       "text": [
        "(a)The nominal deflection angle is 30 degree\n",
        "(b)The blade camber angle is 39.11 degree\n",
        "(c)The deviation angle is 9.10 degree\n",
        "(d)The blade stagger is 25.44 degree\n"
       ]
      }
     ],
     "prompt_number": 5
    },
    {
     "cell_type": "heading",
     "level": 2,
     "metadata": {},
     "source": [
      "Ex 2.6 page 57"
     ]
    },
    {
     "cell_type": "code",
     "collapsed": false,
     "input": [
      "from math import atan, degrees, tan\n",
      "#input data\n",
      "t=25#The camber angle of aero foil blades in degree\n",
      "ps=30#The blade stagger angle in degree\n",
      "sc=1#The pitch-chord ratio of the blades\n",
      "In=5#The nominal value of incidence in degree\n",
      "\n",
      "#calculations\n",
      "a1=ps+(t/2)#The cascade blade angle at inlet in degree\n",
      "a2=a1-t#The cascade blade angle at outlet in degree\n",
      "a1n=In+a1#The nominal entry air angle in degree\n",
      "a2n=degrees(atan((tan(a1n))-(1.55/(1.0+(1.5*sc)))))#The nominal exit air angle in degree\n",
      "\n",
      "#output\n",
      "print '''(1)The cascade blade angles at -\n",
      "(a)inlet is %3.1f degree\n",
      "(b)exit is %3.1f degree\n",
      "(2)The nominal air angles at -\n",
      "(a)inlet is %3.1f degree\n",
      "(b)exit is %3.2f degree'''%(a1,a2,a1n,a2n)\n",
      "# the answer in the textbook is not correct."
     ],
     "language": "python",
     "metadata": {},
     "outputs": [
      {
       "output_type": "stream",
       "stream": "stdout",
       "text": [
        "(1)The cascade blade angles at -\n",
        "(a)inlet is 42.5 degree\n",
        "(b)exit is 17.5 degree\n",
        "(2)The nominal air angles at -\n",
        "(a)inlet is 47.5 degree\n",
        "(b)exit is -12.69 degree\n"
       ]
      }
     ],
     "prompt_number": 6
    },
    {
     "cell_type": "heading",
     "level": 2,
     "metadata": {},
     "source": [
      "Ex 2.7 page 58"
     ]
    },
    {
     "cell_type": "code",
     "collapsed": false,
     "input": [
      "from math import atan, cos, tan, pi\n",
      "#input data\n",
      "C1=75#Velocity of air entry in m/s\n",
      "a1=48#Air angle at entry in degree\n",
      "a2=25#Air angle at exit in degree\n",
      "cs=0.91#The chord-pitch ratio \n",
      "P0m=(11*9.81*10**3)/10**3#The stagnation pressure loss in N/m**2\n",
      "d=1.25#The density of the sair in kg/m**3\n",
      "\n",
      "#calculations\n",
      "Cp=(P0m/(0.5*d*C1**2))#The pressure loss coefficient \n",
      "am=degrees(atan((tan(a1)+tan(a2))/2))#The mean air angle in degree\n",
      "Cd=2*(1/cs)*(P0m/(d*C1**2))*((cos(pi/180*am))**3/(cos(pi/180*a1))**2)#The drag coefficient \n",
      "Cl=(2*(1/cs)*cos(pi/180*am)*(tan(pi/180*a1)-tan(pi/180*a2)))-(Cd*tan(pi/180*am))#THe lift coefficient\n",
      "\n",
      "#output\n",
      "print '''(a)The pressure loss coefficient is %3.4f\n",
      "(b)The drag coefficient is %3.4f\\n(c)The lift coefficient is %3.3f'''%(Cp,Cd,Cl)\n",
      "# the answer in the textbook is not correct."
     ],
     "language": "python",
     "metadata": {},
     "outputs": [
      {
       "output_type": "stream",
       "stream": "stdout",
       "text": [
        "(a)The pressure loss coefficient is 0.0307\n",
        "(b)The drag coefficient is 0.0518\n",
        "(c)The lift coefficient is 1.222\n"
       ]
      }
     ],
     "prompt_number": 7
    },
    {
     "cell_type": "heading",
     "level": 2,
     "metadata": {},
     "source": [
      "Ex 2.8 page 59"
     ]
    },
    {
     "cell_type": "code",
     "collapsed": false,
     "input": [
      "#input data\n",
      "a1=40#The cascade air angle at entry in degree\n",
      "a2=65#The cascade air angle at exit in degree\n",
      "C1=100#Air entry velocity in m/s\n",
      "d=1.25#The density of the air in kg/m**3\n",
      "sc=0.91#The pitch-chord ratio of the cascade\n",
      "P0m=(17.5*9.81*10**3)/10**3#The average loss in stagnation pressure across cascade in N/m**2\n",
      "\n",
      "#calculations\n",
      "Cp=(P0m/(0.5*d*C1**2))#The pressure loss coefficient in the cascade\n",
      "am=atan((tan(a2)-tan(a1))/2)#The mean air angle in degree\n",
      "Cd=2*(sc)*(P0m/(d*C1**2))*((cos(pi/180*am))**3/(cos(pi/180*a2))**2)#The drag coefficient \n",
      "Cl=(2*(sc)*cos(pi/180*am)*(tan(pi/180*a1)+tan(pi/180*a2)))+(Cd*tan(pi/180*am))#THe lift coefficient\n",
      "\n",
      "#output\n",
      "print '(a)The pressure loss coefficient is %3.4f\\n(b)The drag coefficient is %3.4f\\n(c)The lift coefficient is %3.3f'%(Cp,Cd,Cl)\n",
      "# the answer in the textbook is not correct."
     ],
     "language": "python",
     "metadata": {},
     "outputs": [
      {
       "output_type": "stream",
       "stream": "stdout",
       "text": [
        "(a)The pressure loss coefficient is 0.0275\n",
        "(b)The drag coefficient is 0.1399\n",
        "(c)The lift coefficient is 5.430\n"
       ]
      }
     ],
     "prompt_number": 8
    },
    {
     "cell_type": "heading",
     "level": 2,
     "metadata": {},
     "source": [
      "Ex 2.9 page 60"
     ]
    },
    {
     "cell_type": "code",
     "collapsed": false,
     "input": [
      "#input data\n",
      "W=30000#The weight of the jet plane in N\n",
      "A=20#The area of the wing in m**2\n",
      "C=250*5/18#The speed of the jet plane in m/s\n",
      "P=750#The power delivered by the engine in kW\n",
      "d=1.21#Density of the air in kg/m**3\n",
      "\n",
      "#calculations\n",
      "L=W#The lift force on the plane is equal to the weight of the plane in N\n",
      "Pd=0.65*P#The power required to overcome the drag resistance in kW\n",
      "D=(Pd/C)*10**3#The drag force on the wing in N\n",
      "Cd=D/(0.5*d*A*C**2)#The coefficient of drag for the wing \n",
      "Cl=L/(0.5*d*A*C**2)#The coefficient of lift for the wing \n",
      "\n",
      "#output\n",
      "print '(a)The coefficient of lift on the wing is %3.3f\\n(b)The coefficient of drag on the wing is %3.3f'%(Cl,Cd)"
     ],
     "language": "python",
     "metadata": {},
     "outputs": [
      {
       "output_type": "stream",
       "stream": "stdout",
       "text": [
        "(a)The coefficient of lift on the wing is 0.514\n",
        "(b)The coefficient of drag on the wing is 0.120\n"
       ]
      }
     ],
     "prompt_number": 9
    }
   ],
   "metadata": {}
  }
 ]
}