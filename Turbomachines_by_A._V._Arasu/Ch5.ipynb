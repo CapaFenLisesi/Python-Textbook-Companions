{
 "metadata": {
  "name": "",
  "signature": "sha256:b3c6b5b9437eb9e3bff13119283daec451a9bdb3f3f492bbf38ecac5c3f69e9c"
 },
 "nbformat": 3,
 "nbformat_minor": 0,
 "worksheets": [
  {
   "cells": [
    {
     "cell_type": "heading",
     "level": 1,
     "metadata": {},
     "source": [
      "Chapter 5 - Axial flow steam & gas turbines"
     ]
    },
    {
     "cell_type": "heading",
     "level": 2,
     "metadata": {},
     "source": [
      "Ex 5.1 Page 211"
     ]
    },
    {
     "cell_type": "code",
     "collapsed": false,
     "input": [
      "from __future__ import division\n",
      "#input data\n",
      "C1=500#Steam velocity in m/s\n",
      "U=200#Blade speed in m/s\n",
      "b2=(90-25)#Exit angle of moving blade measured in axial direction in degree\n",
      "a1=(90-20)#Nozzle angle in axial direction in degree\n",
      "m=5#Steam flow rate in kg/s\n",
      "\n",
      "print 'The scale of the velocity vector diagram is 1:50\\n\\nThe following values are obtained from the velocity vector diagram'\n",
      "\n",
      "b1=33#Moving blade inlet angle in degree\n",
      "a2=56#Direction of steam at the exit in degree\n",
      "C2=160#Exit velocity of the steam in m/s\n",
      "Wx1=270#Inlet whirl velocity in m/s\n",
      "Wx2=285#Exit whirl velocity in m/s\n",
      "Ca1=175#Inlet axial velocity in m/s\n",
      "Ca2=135#Exit axial velocity in m/s\n",
      "\n",
      "#calculations\n",
      "Wm=U*(Wx1+Wx2)*10**-3#Work done per kg of steam in kW/kg\n",
      "AT=m*(Ca1-Ca2)#Axial thrust in N\n",
      "W=m*Wm#Power developed in kW\n",
      "Ndia=((U*(Wx1+Wx2))/((C1**2)/2))#Diagram or blade efficiency \n",
      "\n",
      "#output\n",
      "print '\\n\\n(a)Moving blade inlet angle is %3i degree\\n(b)\\n    Exit velocity of the steam is %3i m/s\\n    Direction of steam at the exit is %3i degree\\n(c)Work done per kg of steam is %3i kW/kg\\n(d)\\n    Axial thrust is %3i N\\n    Power developed is %3i kW\\n(e)Diagram or blade efficiency is %0.1f %%'%(b1,C2,a2,Wm,AT,W,Ndia*100)\n",
      "# the answer in the textbook is not correct for axial thrust."
     ],
     "language": "python",
     "metadata": {},
     "outputs": [
      {
       "output_type": "stream",
       "stream": "stdout",
       "text": [
        "The scale of the velocity vector diagram is 1:50\n",
        "\n",
        "The following values are obtained from the velocity vector diagram\n",
        "\n",
        "\n",
        "(a)Moving blade inlet angle is  33 degree\n",
        "(b)\n",
        "    Exit velocity of the steam is 160 m/s\n",
        "    Direction of steam at the exit is  56 degree\n",
        "(c)Work done per kg of steam is 111 kW/kg\n",
        "(d)\n",
        "    Axial thrust is 200 N\n",
        "    Power developed is 555 kW\n",
        "(e)Diagram or blade efficiency is 88.8 %\n"
       ]
      }
     ],
     "prompt_number": 1
    },
    {
     "cell_type": "heading",
     "level": 2,
     "metadata": {},
     "source": [
      "Ex 5.2 Page 213"
     ]
    },
    {
     "cell_type": "code",
     "collapsed": false,
     "input": [
      "from math import sin, pi\n",
      "#input data\n",
      "U=300#Blade speed in m/s\n",
      "a=20#Nozzle angle in degree\n",
      "dhs=473#Isentropic heat drop in kJ/kg\n",
      "Nn=0.85#Nozzle efficiency\n",
      "W2W1=0.7#Blade velocity coefficient\n",
      "nM=0.9#Mechanical efficiency\n",
      "\n",
      "#initial calculations\n",
      "dh=Nn*dhs#Useful heat drop converted into kinetic energy in kJ/kg\n",
      "C1=(2*1000*dh)**(1/2)#Velocity of steam at exit from nozzle in m/s\n",
      "\n",
      "print 'The scale of the velocity vector diagram is 1:100\\n\\nThe following values are obtained from the velocity vector diagram'\n",
      "\n",
      "Ca1=310#Inlet axial velocity in m/s\n",
      "Ca2=210#Exit axial velocity in m/s\n",
      "Wx1=550#Inlet whirl velocity in m/s\n",
      "Wx2=380#Exit whirl velocity in m/s\n",
      "W1=620#inlet Blade velocity in m/s\n",
      "\n",
      "#calculations\n",
      "W2=W2W1*W1#Exit bladde velocity in m/s\n",
      "AT=Ca1-Ca2#Axial thrust in N/kg\n",
      "Wm=U*(Wx1+Wx2)*10**-3#Work developed per kg of steam/sec in kW/(kg/s)\n",
      "P=Wm*nM#Power developed per kg of steam/sec in kW/(kg/s)\n",
      "m=3600/P#Steam rate per kW.hr in kg\n",
      "Ndia=((U*(Wx1+Wx2))/((C1**2)/2))#Diagram or blade efficiency \n",
      "MNdia=(sin((90-a)*pi/180))**(2)#Maximum blade efficiency under optimum conditions \n",
      "Ns1=Wm/dhs#Stage efficiency\n",
      "Ns2=Ndia*Nn#Stage efficiency in other method\n",
      "E=(((W1**2)-(W2**2))/2)*10**-3#Energy loss in blade friction in kJ/kg\n",
      "\n",
      "#output\n",
      "print '\\n\\n(a)Axial thrust is %3i N/kg\\n(b)\\n    Work developed per kg of steam/sec is %3i kW/(kg/s)\\n    Power developed per kg of steam/sec is %3.1f kW/(kg/s)\\n    Steam rate per kW.hr is %3.1f kg\\n(c)\\n    Diagram or blade efficiency is %0.1f %%\\n    Maximum blade efficiency under optimum conditions is %0.1f %%\\n    Stage efficiency is %0.2f %%\\n(d)Energy loss in blade friction is %3.3f kJ/kg'%(AT,Wm,P,m,Ndia*100,MNdia*100,Ns1*100,E)"
     ],
     "language": "python",
     "metadata": {},
     "outputs": [
      {
       "output_type": "stream",
       "stream": "stdout",
       "text": [
        "The scale of the velocity vector diagram is 1:100\n",
        "\n",
        "The following values are obtained from the velocity vector diagram\n",
        "\n",
        "\n",
        "(a)Axial thrust is 100 N/kg\n",
        "(b)\n",
        "    Work developed per kg of steam/sec is 279 kW/(kg/s)\n",
        "    Power developed per kg of steam/sec is 251.1 kW/(kg/s)\n",
        "    Steam rate per kW.hr is 14.3 kg\n",
        "(c)\n",
        "    Diagram or blade efficiency is 69.4 %\n",
        "    Maximum blade efficiency under optimum conditions is 88.3 %\n",
        "    Stage efficiency is 58.99 %\n",
        "(d)Energy loss in blade friction is 98.022 kJ/kg\n"
       ]
      }
     ],
     "prompt_number": 5
    },
    {
     "cell_type": "heading",
     "level": 2,
     "metadata": {},
     "source": [
      "Ex 5.3 Page 215"
     ]
    },
    {
     "cell_type": "code",
     "collapsed": false,
     "input": [
      "#input data\n",
      "P1=5#Input pressure of steam in bar\n",
      "P2=3#Exhaust pressure of steam in bar\n",
      "C0=75#Carry over velocity of steam in m/s\n",
      "a1=20#Nozzle angle in degree\n",
      "UC1=0.4#The direction of blade rotation and blade speed ratio\n",
      "b2=20#Blade exit angle in degree\n",
      "m=2.5#Steam flow rate in kg/s\n",
      "W=206#Power Output of the stage in kW\n",
      "Nn=0.9#Efficiency of the nozzle\n",
      "\n",
      "print 'Assuming isentropic expansion the enthalpy drop can be found from steam table\\n\\nThe following values are obtained from steam tables'\n",
      " \n",
      "h1=2747.5#Enthalpy at initial pressure in kJ/kg\n",
      "s1=6.819#Entropy at initial pressure in kJ/kg.K\n",
      "s2=s1#Entropy at final pressure in kJ/kg.K\n",
      "sfp2=1.647#Entropy of fliud at final pressure in kJ/kg.K\n",
      "sfgp2=5.367#Entropy of fliud-gas mixture at final pressure in kJ/kg.K\n",
      "hfg=2170.1#Enthalpy of fliud-gas mixture in kJ/kg\n",
      "hf=551.5#Enthalpy of fliud in kJ/kg\n",
      "\n",
      "print '\\n\\nThe scale of the velocity vector diagram is 1:50\\n\\nThe following values are obtained from the velocity vector diagram'\n",
      "\n",
      "W1=280#Relative velocity at inlet in m/s\n",
      "W2=240#Relative velocity at exit in m/s\n",
      "\n",
      "#calculations\n",
      "x2=(s2-sfp2)/sfgp2#The percentage of wet steam \n",
      "h2s=hf+(x2*hfg)#The isentropic enthalpy at the second stage in kJ/kg\n",
      "dhs=h1-h2s#Isentropic heat drop in kJ/kg\n",
      "C1=((2000*Nn*dhs)+(C0**2))**(1/2)#Velocity of steam at exit from nozzle in m/s\n",
      "U=UC1*C1#Blade speed in m/s\n",
      "Wx1Wx2=(W*10**3)/(m*U)#The sum of whirl components of velocity in m/s\n",
      "Ndia=(U*Wx1Wx2)/((C1**2)/2)#Diagram efficiency \n",
      "RV=W2/W1#Relative velocity ratio \n",
      "E=dhs+((C0**2)/2000)#Energy supplied per kg in kJ/kg\n",
      "Ns1=(U*Wx1Wx2)/(E*10**3)#Stage efficiency\n",
      "Ns2=Ndia*Nn#Stage efficiency in other method\n",
      "\n",
      "#output\n",
      "print '\\n\\n(a)Velocity of steam at exit from nozzle is %3.2f m/s\\n(b)Diagram efficiency is %0.2f\\n(c)Relative velocity ratio is %3.3f\\n(d)\\n    Stage efficiency in method 1 is %0.2f\\n    Stage efficiency in method 2 is %0.2f'%(C1,Ndia*100,RV,Ns1*100,Ns2*100)\n",
      "# the answer in the textbook is not accurate."
     ],
     "language": "python",
     "metadata": {},
     "outputs": [
      {
       "output_type": "stream",
       "stream": "stdout",
       "text": [
        "Assuming isentropic expansion the enthalpy drop can be found from steam table\n",
        "\n",
        "The following values are obtained from steam tables\n",
        "\n",
        "\n",
        "The scale of the velocity vector diagram is 1:50\n",
        "\n",
        "The following values are obtained from the velocity vector diagram\n",
        "\n",
        "\n",
        "(a)Velocity of steam at exit from nozzle is 440.65 m/s\n",
        "(b)Diagram efficiency is 84.87\n",
        "(c)Relative velocity ratio is 0.857\n",
        "(d)\n",
        "    Stage efficiency in method 1 is 76.61\n",
        "    Stage efficiency in method 2 is 76.39\n"
       ]
      }
     ],
     "prompt_number": 6
    },
    {
     "cell_type": "heading",
     "level": 2,
     "metadata": {},
     "source": [
      "Ex 5.4 Page 218"
     ]
    },
    {
     "cell_type": "code",
     "collapsed": false,
     "input": [
      "#input data\n",
      "C1=600#Velocity of steam at exit from nozzle in m/s\n",
      "U=120#Blade speed in m/s\n",
      "a1=16#Nozzle angle in degree\n",
      "b2=18#Discharge angle for first moving ring in degree \n",
      "a11=21#Discharge angle for the fixed ring in degree \n",
      "b22=35#Discharge angle for the second moving ring in degree\n",
      "Wr=0.9#Blade velocity coefficient\n",
      "m=1#Mass flow rate in kg/s\n",
      "\n",
      "print '\\n\\nThe scale of the velocity vector diagram is 1:50\\n\\nThe following values are obtained from the velocity vector diagram'\n",
      "\n",
      "W1=485#Relative velocity at inlet for first stage in m/s\n",
      "W2=Wr*W1#Relative velocity for first stage at exit in m/s\n",
      "Wx1=460#Inlet whirl  velocity for first stage in m/s\n",
      "Wx2=410#Exit whirl velocity for first stage  in m/s\n",
      "Ca1=170#Inlet axial velocity for first stage  in m/s\n",
      "Ca2=135#Exit axial velocity for first stage in m/s\n",
      "C2=325#Exit velocity of the steam for first stage in m/s\n",
      "b1=20#Blade inlet angle for first row of moving blade in degree\n",
      "C11=Wr*C2#Steam velocity at inlet to second row of moving blades in m/s\n",
      "W12=190#Relative velocity at inlet for second stage in m/s\n",
      "W22=Wr*W12#Relative velocity at exit for second stage in m/s\n",
      "Wx11=155#Inlet whirl velocity  for second stage in m/s\n",
      "Wx22=140#Exit whirl velocity for second stage  in m/s\n",
      "Ca11=110#Inlet axial velocity for second stage  in m/s\n",
      "Ca22=100#Exit axial velocity for second stage in m/s\n",
      "b11=35#Blade inlet angle for second row of moving blade in degree\n",
      "dWx1=Wx1+Wx2#Driving force for first stage in m/s\n",
      "dWx11=Wx11+Wx22#Driving force for second stage in m/s\n",
      "dW=(dWx1+dWx11)*1#Total driving force for unit mass flow rate in N\n",
      "AT1=Ca1-Ca2#Axial thrust for first stage in m/s\n",
      "AT2=Ca11-Ca22#Axial thrust for second stage in m/s\n",
      "AT=(AT1+AT2)*1#Total axial thrust for unit mass flow rate in N\n",
      "DP=m*U*(dWx1+dWx11)*10**-3#Diagram power in kW\n",
      "DE=(U*(dWx1+dWx11))/((C1**2)/2)#Diagram efficiency\n",
      "MDE=(sin((90-a1)*pi/180))**2#Maximum  diagram efficiency\n",
      "\n",
      "#output\n",
      "print '\\n\\n(a)\\n    Blade inlet angle for first row of moving blade is %3.i degree\\n    Blade inlet angle for second row of moving blade is %3i degree\\n(b)\\n    Driving force for first stage is %3i m/s\\n    Driving force for second stage is %3i m/s\\n    Total driving force for unit mass flow rate is %3i N\\nTotal axial thrust for unit mass flow rate is %3i N\\n(c)Diagram power is %3.1f kW\\n(d)Diagram efficiency is %0.1f\\n(e)Maximum  diagram efficiency is %0.1f'%(b1,b11,dWx1,dWx11,dW,AT,DP,DE*100,MDE*100)"
     ],
     "language": "python",
     "metadata": {},
     "outputs": [
      {
       "output_type": "stream",
       "stream": "stdout",
       "text": [
        "\n",
        "\n",
        "The scale of the velocity vector diagram is 1:50\n",
        "\n",
        "The following values are obtained from the velocity vector diagram\n",
        "\n",
        "\n",
        "(a)\n",
        "    Blade inlet angle for first row of moving blade is  20 degree\n",
        "    Blade inlet angle for second row of moving blade is  35 degree\n",
        "(b)\n",
        "    Driving force for first stage is 870 m/s\n",
        "    Driving force for second stage is 295 m/s\n",
        "    Total driving force for unit mass flow rate is 1165 N\n",
        "Total axial thrust for unit mass flow rate is  45 N\n",
        "(c)Diagram power is 139.8 kW\n",
        "(d)Diagram efficiency is 77.7\n",
        "(e)Maximum  diagram efficiency is 92.4\n"
       ]
      }
     ],
     "prompt_number": 7
    },
    {
     "cell_type": "heading",
     "level": 2,
     "metadata": {},
     "source": [
      "Ex 5.5 Page 220"
     ]
    },
    {
     "cell_type": "code",
     "collapsed": false,
     "input": [
      "from math import cos\n",
      "#input data\n",
      "C1=100#Velocity of steam at exit from nozzle in m/s\n",
      "h=0.04#Mean blade height in m\n",
      "b2=20#Exit angle of moving blade in degree\n",
      "CaU=3/4#Ratio of flow velocity and blade speed at mean radius\n",
      "m=10000/3600#steam flow rate in kg/s\n",
      "\n",
      "#calculations\n",
      "a1=b2#Nozzle angle in degree\n",
      "Ca=C1*cos((90-a1)*pi/180)#Flow velocity in m/s\n",
      "U=Ca/CaU#Mean blade velocity in m/s\n",
      "v=0.60553#Specific volume of steam from steam table at 3 bar with dry saturated steam in m**3/kg\n",
      "A=(m*v)/Ca#Annulus area in m**2\n",
      "D=A/(3.1415*h)#Mean blade diameter in m\n",
      "N=(U*60)/(3.14*D)#Rotor speed in rpm\n",
      "\n",
      "print '\\n\\nThe scale of the velocity vector diagram is 1:10\\n\\nThe following values are obtained from the velocity vector diagram'\n",
      "\n",
      "W1=59#Relative velocity at inlet for first stage in m/s\n",
      "Wx1Wx2=142#Sum of whirl components of velocity in m/s\n",
      "DP=m*U*Wx1Wx2*10**-3#Diagram power in kW\n",
      "Wm=U*(Wx1Wx2)#Work done per kg of steam in kJ/kg\n",
      "W2=C1#Relative velocity at exit for first stage in m/s\n",
      "E=((C1**2)/2)+(((W2**2)-(W1**2))/2)#Energy input per kg in kJ/kg when W2=C1\n",
      "Ndia=Wm/E#Diagram efficiency \n",
      "RV=(W2-W1)/W1#Percentage increase in relative velocity \n",
      "dH=((W2**2)-(W1**2))/2*10**-3#Enthalpy drop in the moving blades in kJ/kg\n",
      "H=2*dH#Total enthalpy drop in two stages in kJ/kg\n",
      "\n",
      "#output\n",
      "print '\\n\\n(a)The rotor speed is %3i rpm\\n(b)The diagram power is %3.2f kW\\n(c)The diagram efficiency is %0.1f\\n(d)Percentage increase in relative velocity is %0.1f\\n(e)\\n    Enthalpy drop in the moving blades is %3.3f kJ/kg\\n    Total enthalpy drop in two stages is %3.3f kJ/kg'%(N,DP,Ndia*100,RV*100,dH,H)"
     ],
     "language": "python",
     "metadata": {},
     "outputs": [
      {
       "output_type": "stream",
       "stream": "stdout",
       "text": [
        "\n",
        "\n",
        "The scale of the velocity vector diagram is 1:10\n",
        "\n",
        "The following values are obtained from the velocity vector diagram\n",
        "\n",
        "\n",
        "(a)The rotor speed is 2226 rpm\n",
        "(b)The diagram power is 17.99 kW\n",
        "(c)The diagram efficiency is 78.4\n",
        "(d)Percentage increase in relative velocity is 69.5\n",
        "(e)\n",
        "    Enthalpy drop in the moving blades is 3.260 kJ/kg\n",
        "    Total enthalpy drop in two stages is 6.519 kJ/kg\n"
       ]
      }
     ],
     "prompt_number": 10
    },
    {
     "cell_type": "heading",
     "level": 2,
     "metadata": {},
     "source": [
      "Ex 5.6 Page 222"
     ]
    },
    {
     "cell_type": "code",
     "collapsed": false,
     "input": [
      "#input data\n",
      "R=0.5#Degree of reaction\n",
      "P1=14#Initial pressure in bar\n",
      "T1=588#Initial temperature in K\n",
      "P2=0.14#Final pressure in bar\n",
      "Ns=0.75#Stage efficiency \n",
      "RF=1.04#Reheat factor \n",
      "N=20#No. of stages\n",
      "W=11770#Total power output in kW\n",
      "a1=20#Exit blade angle in degree\n",
      "hD=1/12#Ratio of blade height to blade mean diameter \n",
      "\n",
      "#calculations\n",
      "hs1=3080#Isentropic enthalpy at initial condition from mollier chart in kJ/kg\n",
      "hs2=2270#Isentropic enthalpy at final condition from mollier chart in kJ/kg\n",
      "dhs=hs1-hs2#Isentropic enthalpy change in kJ/kg\n",
      "Nt=Ns*RF#Overall efficiency\n",
      "dh=Nt*dhs#Actual enthalpy drop in kJ/kg\n",
      "hs=dh/N#Enthalpy drop per stage in kJ/kg\n",
      "m=W/dh#Mass flow rate in kg/s\n",
      "C11=1.43*1#Velocity of steam at exit from nozzle in m/s in terms of U for 0.5 degree of reaction\n",
      "Wm=1*((2*C11*sin((90-a1)*pi/180))-1)#Work done per mass of steam in terms of U**2 in kJ/kg\n",
      "U=((hs*10**3)/Wm)**(1/2)#Mean blade velocity in m/s  as work done equals enthalpy drop per stage \n",
      "C1=1.43*U#Velocity of steam at exit from nozzle in m/s \n",
      "Ca=C1*cos((90-a1)*pi*180)#Flow velocity in m/s\n",
      "v=1.618#Specific volume of steam from steam table at 1.05 bar with dry saturated steam in m**3/kg\n",
      "D=((m*v)/(hD*3.14*Ca))**(1/2)#Blade mean diameter in m\n",
      "N=(U*60)/(3.14*D)#Rotor speed in rpm\n",
      "\n",
      "#output\n",
      "print '(a)Mass flow rate of steam is %3.2f kg/s\\n(b)Mean blade velocity is %3.1f m/s \\n(c)Blade mean diameter is %3.3f m \\n(d)Rotor speed is %3i rpm'%(m,U,D,N)\n",
      "# the answer in the textbook is not correct."
     ],
     "language": "python",
     "metadata": {},
     "outputs": [
      {
       "output_type": "stream",
       "stream": "stdout",
       "text": [
        "(a)Mass flow rate of steam is 18.63 kg/s\n",
        "(b)Mean blade velocity is 136.8 m/s \n",
        "(c)Blade mean diameter is 0.767 m \n",
        "(d)Rotor speed is 3407 rpm\n"
       ]
      }
     ],
     "prompt_number": 11
    },
    {
     "cell_type": "heading",
     "level": 2,
     "metadata": {},
     "source": [
      "Ex 5.7 Page 224"
     ]
    },
    {
     "cell_type": "code",
     "collapsed": false,
     "input": [
      "from math import tan, pi, degrees, atan\n",
      "#input data\n",
      "rh=0.225#Blade roof radius in m\n",
      "rt=0.375#Blade tip radius in m\n",
      "b1m=45#Inlet angle of the rotor blade at mid height in degree\n",
      "a1m=76#Outlet angle of the nozzle blade at mid height in degree\n",
      "b2m=75#Outlet angle of the rotor blade at mid height in degree\n",
      "N=6000#Speed of turbine in rpm\n",
      "\n",
      "#calculations\n",
      "rm=(rh+rt)/2#Mean radius in m\n",
      "Um=(2*3.14*rm*N)/60#Mean blade speed at mean radius in m/s\n",
      "Ca=Um/((tan(a1m*pi/180))-(tan(b1m*pi/180)))#Flow velocity in m/s\n",
      "Cx1m=Ca*tan(a1m*pi/180)#Velocity of whirl at inlet at mid height in m/s\n",
      "Cx2m=Ca*tan(b2m*pi/180)-Um#Velocity of whirl at inlet at mid height in m/s\n",
      "Cx1h=(Cx1m*rm)/rh#Velocity of whirl at inlet at hub height in m/s\n",
      "a1h=degrees(atan(Cx1h/Ca))#Inlet angle of the nozzle blade at hub height in degree\n",
      "Uh=(2*3.1415*rh*N)/60#Mean blade speed at hub in m/s\n",
      "b1h=degrees(atan(tan(a1h*pi/180)-(Uh/Ca)))#Inlet angle of the rotor blade at hub in degree\n",
      "Cx2h=Cx2m*rm/rh#Velocity of whirl at outlet at hub in m/s\n",
      "b2h=degrees(atan((Uh+Cx2h)/Ca))#Outlet angle of the rotor blade at hub in degree\n",
      "Cx1t=Cx1m*rm/rt#Velocity of whirl at inlet at tip in m/s\n",
      "a1t=degrees(atan(Cx1t/Ca))#Inlet angle of the nozzle blade at tip height in degree\n",
      "Ut=(2*3.14*rt*N)/60#Mean blade speed at tip in m/s\n",
      "b1t=degrees(atan(tan(a1t*pi/180)-(Ut/Ca)))#Inlet angle of the rotor blade at tip in degree\n",
      "Cx2t=Cx2m*rm/rt#Velocity of whirl at outlet at tip in m/s\n",
      "b2t=degrees(atan((Ut+Cx2t)/Ca))#Outlet angle of the rotor blade at hub in degree\n",
      "Rh=(Ca/(2*Uh))*(tan(b2h*pi/180)-tan(b1h*pi/180))#Degree of reaction at hub\n",
      "Rt=(Ca/(2*Ut))*(tan(b2t*pi/180)-tan(b1t*pi/180))#Degree of reaction at tip\n",
      "\n",
      "#output\n",
      "print '(a)for hub\\n    (1)Inlet angle of the nozzle blade at hub height is %3.1f degree\\n    (2)Inlet angle of the rotor blade at hub is %3i degree\\n    (3)Outlet angle of the rotor blade at hub is %3.2f degree\\n    (4)Degree of reaction at hub is %0.2f %%\\n(b)for tip\\n    (1)Inlet angle of the nozzle blade at tip height is %3.2f degree\\n    (2)Inlet angle of the rotor blade at tip is %3i degree\\n    (3)Outlet angle of the rotor blade at tip is %3i degree\\n    (4)Degree of reaction at tip is %0.2f'%(a1h,b1h,b2h,Rh*100,a1t,b1t,b2t,Rt*100)\n",
      "# Answer for degree of reaction is not correct in the textbook."
     ],
     "language": "python",
     "metadata": {},
     "outputs": [
      {
       "output_type": "stream",
       "stream": "stdout",
       "text": [
        "(a)for hub\n",
        "    (1)Inlet angle of the nozzle blade at hub height is 79.4 degree\n",
        "    (2)Inlet angle of the rotor blade at hub is  72 degree\n",
        "    (3)Outlet angle of the rotor blade at hub is 72.75 degree\n",
        "    (4)Degree of reaction at hub is 2.93 %\n",
        "(b)for tip\n",
        "    (1)Inlet angle of the nozzle blade at tip height is 72.69 degree\n",
        "    (2)Inlet angle of the rotor blade at tip is -29 degree\n",
        "    (3)Outlet angle of the rotor blade at tip is  77 degree\n",
        "    (4)Degree of reaction at tip is 65.04\n"
       ]
      }
     ],
     "prompt_number": 12
    },
    {
     "cell_type": "heading",
     "level": 2,
     "metadata": {},
     "source": [
      "Ex 5.8 Page 228"
     ]
    },
    {
     "cell_type": "code",
     "collapsed": false,
     "input": [
      "#input data\n",
      "Ca=180#Air velocity at the exit of nozzle in m/s\n",
      "a1=(90-27)#Nozzle inclination perpendicular to direction of rotation in degree\n",
      "R=0.5#Degree of reaction\n",
      "U=180#Blade speed in m/s\n",
      "\n",
      "#calculations\n",
      "Cx1=Ca*tan(a1*pi/180)#Inlet whirl velocity in m/s\n",
      "b11=degrees(atan((Cx1-U)/Ca))#Inlet angle of the rotor blade at inlet velocity triangle in degree\n",
      "pi=Ca/U#Ratio of air velocity and blade velocity \n",
      "b21=degrees(atan((2*R/pi))+tan(b11*pi/180))#Outlet angle of the rotor blade at inlet velocity triangle in degree\n",
      "C2=Ca#Exit velocity of the steam in m/s\n",
      "b22=degrees(atan(U/C2))#Outlet angle of the rotor blade at outlet velocity triangle in degree\n",
      "b12=b11#Inlet angle of the rotor blade at outlet velocity triangle in degree as np change in rotor inlet conditions \n",
      "R=(pi*(tan(b22*pi/180)-tan(b12*pi/180)))/2#Degree of reaction \n",
      "#output\n",
      "print '(a)blade angles\\n    Inlet angle of the rotor blade at inlet velocity triangle is %3.1f degree\\n    Outlet angle of the rotor blade at inlet velocity triangle is %3.f degree\\n(b)Degree of reaction is %3.4f\\n(c)Inlet angle of the rotor blade at outlet velocity triangle is %3.f degree\\n(d)Outlet angle of the rotor blade at outlet velocity triangle is %3.1f degree'%(b11,b21,R,b22,b12)\n",
      "# Answer in the textbook is not correct for some part."
     ],
     "language": "python",
     "metadata": {},
     "outputs": [
      {
       "output_type": "stream",
       "stream": "stdout",
       "text": [
        "(a)blade angles\n",
        "    Inlet angle of the rotor blade at inlet velocity triangle is 43.9 degree\n",
        "    Outlet angle of the rotor blade at inlet velocity triangle is  59 degree\n",
        "(b)Degree of reaction is 0.0032\n",
        "(c)Inlet angle of the rotor blade at outlet velocity triangle is  45 degree\n",
        "(d)Outlet angle of the rotor blade at outlet velocity triangle is 43.9 degree\n"
       ]
      }
     ],
     "prompt_number": 13
    },
    {
     "cell_type": "heading",
     "level": 2,
     "metadata": {},
     "source": [
      "Ex 5.9 Page 229"
     ]
    },
    {
     "cell_type": "code",
     "collapsed": false,
     "input": [
      "from math import cos\n",
      "#input data\n",
      "U=300#Blade speed of turbine in m/s\n",
      "m=2.5#Mass flow rate in kg/s\n",
      "T0=773#Gas temperature at turbine inlet in K\n",
      "T2=573#Gaas temperature at turbine outlet in K\n",
      "a1=70#Fixed blade outlet angle in degree\n",
      "Ca=200#Axial velocity in m/s\n",
      "Cp=1.005#Specific heat of gas at constant pressure in kJ/kg.K\n",
      "#calculations\n",
      "W=m*Cp*(T0-T2)#Power developed by turbine in kW\n",
      "Wm=Cp*(T0-T2)#Stage work done per unit mass flow rate in kJ/kg\n",
      "Wx1Wx2=Wm*10**3/U#Sum of whirl components of velocity at inlet and outlet in m/s\n",
      "Wx1=(Ca*tan(a1*pi/180))-U#Inlet whirl velocity in m/s\n",
      "Wx2=Wx1Wx2-Wx1#Outlet whirl velocity in m/s\n",
      "R=(Wx2-Wx1)/(2*U)#Degree of reaction\n",
      "Wx2Wx1=Wm*10**3*R#Energy input due to whirl component velocity in (m/s)**2\n",
      "C1=Ca/cos(a1*pi/180)#Velocity of steam at exit from nozzle in m/s \n",
      "nb=(Wm*10**3)/(((C1**2)/2)+Wx2Wx1)#Blade efficiency\n",
      "\n",
      "#output\n",
      "print '(a)Power developed by turbine is %3.1f kW\\n(b)Degree of reaction is %0.2f %%\\n(c)Blade efficiency is %0.2f %%\\n'%(W,R*100,nb*100)"
     ],
     "language": "python",
     "metadata": {},
     "outputs": [
      {
       "output_type": "stream",
       "stream": "stdout",
       "text": [
        "(a)Power developed by turbine is 502.5 kW\n",
        "(b)Degree of reaction is 184.35 %\n",
        "(c)Blade efficiency is 51.03 %\n",
        "\n"
       ]
      }
     ],
     "prompt_number": 14
    },
    {
     "cell_type": "heading",
     "level": 2,
     "metadata": {},
     "source": [
      "Ex 5.10 Page 230"
     ]
    },
    {
     "cell_type": "code",
     "collapsed": false,
     "input": [
      "from __future__ import division\n",
      "#input data\n",
      "R=0.5#Degree of reaction\n",
      "P0=2.2#Inlet pressure in bar\n",
      "T0=443#Inlet temperature in K\n",
      "N=2400#Rotor running speed in rpm\n",
      "Dm=0.5#Rotor mean diameter in m\n",
      "a1=36#Rotor inlet angle in degree\n",
      "a2=19#Stator exit angle in degree\n",
      "ns=0.88#Stage efficiency\n",
      "m=1#Mass flow rate of steam in kg/s\n",
      "\n",
      "#calculations\n",
      "b2=a1#Outlet angle of the rotor blade in degree\n",
      "b1=a2#Inlet angle of the rotor blade in degree\n",
      "U=(3.1415*Dm*N)/60#Mean blade speed in m/s\n",
      "Ca=(2*U*R)/(tan(b2*pi/180)-tan(b1*pi/180))#Axial velocity in m/s\n",
      "W=m*U*Ca*(tan(a1*pi/180)+tan(a2*pi/180))*10**-3#Power output in kW\n",
      "dh=W/ns#Stage enthalpy drop in kJ/kg\n",
      "\n",
      "#output\n",
      "print '(a)Power output is %3.2f kW\\n(b)Stage enthalpy drop is %3.2f kJ/kg'%(W,dh)\n",
      "# Answer in the textbook is not correct."
     ],
     "language": "python",
     "metadata": {},
     "outputs": [
      {
       "output_type": "stream",
       "stream": "stdout",
       "text": [
        "(a)Power output is 12.59 kW\n",
        "(b)Stage enthalpy drop is 14.31 kJ/kg\n"
       ]
      }
     ],
     "prompt_number": 15
    },
    {
     "cell_type": "heading",
     "level": 2,
     "metadata": {},
     "source": [
      "Ex 5.11 Page 231"
     ]
    },
    {
     "cell_type": "code",
     "collapsed": false,
     "input": [
      "from __future__ import division\n",
      "#input data\n",
      "P0=800#Inlet pressure of hot gas in kPa\n",
      "T1=973#Inlet temperature of hot gas in K\n",
      "P2=100#Final pressure of hot gas in kPa\n",
      "a1=73#Nozzle angle in degree\n",
      "m=35#Mass flow rate in kg/s\n",
      "ns=0.9#Nozzle efficiency\n",
      "Cp=1.005#Specific heat of gas at constant pressure in kJ/kg.K\n",
      "r=1.4#Ratio of specific heats of air\n",
      "\n",
      "#calculations\n",
      "b1=degrees(atan(tan(a1*pi/180)/2))#Inlet angle of the rotor blade in degree\n",
      "b2=b1#Outlet angle of the rotor blade in degree\n",
      "pi=2/tan(a1*pi/180)#Flow coefficient\n",
      "psil=pi*(tan(b1*pi/180)+tan(b2*pi/180))#Blade loading coefficient\n",
      "dh=ns*Cp*T1*(1-(P2/P0)**((r-1)/r))#Change in enthalpy in kJ/kg\n",
      "W=m*dh*10**-3#Power developed in MW\n",
      "\n",
      "#output\n",
      "print '(a)Rotor blade angles\\n    Inlet angle of the rotor blade is %3.2f degree\\n    Outlet angle of the rotor blade is %3.2f degree\\n(b)Flow coefficient is %3.3f\\n(c)Blade loading coefficient is %3.f\\n(d)Power developed is %3.1f MW'%(b1,b2,pi,psil,W)\n",
      "# Answer in the textbook is not accurate."
     ],
     "language": "python",
     "metadata": {},
     "outputs": [
      {
       "output_type": "stream",
       "stream": "stdout",
       "text": [
        "(a)Rotor blade angles\n",
        "    Inlet angle of the rotor blade is 12.12 degree\n",
        "    Outlet angle of the rotor blade is 12.12 degree\n",
        "(b)Flow coefficient is 4.658\n",
        "(c)Blade loading coefficient is   3\n",
        "(d)Power developed is 13.8 MW\n"
       ]
      }
     ],
     "prompt_number": 16
    },
    {
     "cell_type": "heading",
     "level": 2,
     "metadata": {},
     "source": [
      "Ex 5.12 Page 233"
     ]
    },
    {
     "cell_type": "code",
     "collapsed": false,
     "input": [
      "from math import sin, pi\n",
      "#Ex Page\n",
      "#input data\n",
      "P0=100#Initial pressure of steam in bar\n",
      "T0=773#Initial temperature of steam in K\n",
      "D=1#Turbine diameter in m\n",
      "N=3000#Speed of turbine in rpm\n",
      "m=100#Mass flow rate of steam in kg/s\n",
      "a1=70#Exit angle of the first stage nozzle in degree\n",
      "ns1=0.78#Stage efficiency of first stage \n",
      "ns2=ns1#Stage efficiency of second stage\n",
      "\n",
      "#calculations\n",
      "U=(pi*D*N)/60#Mean blade speed in m/s\n",
      "C1=(2*U)/sin(a1*pi/180)#Velocity of steam at exit from nozzle in m/s \n",
      "b11=degrees(atan(tan(a1*pi/180)/2))#Inlet angle of the rotor blade in degree\n",
      "b21=b11#Outlet angle of the rotor blade in degree\n",
      "b12=b21#Inlet angle of the rotor blade in second stage in degree\n",
      "b22=b12#Outlet angle of the rotor blade in second stage in degree\n",
      "W=4*m*U**2*10**-6#Total work done in both the stages in MW\n",
      "dh02=2*U**2*10**-3#Change in enthalpy in first stage of turbine in kJ/kg\n",
      "dh02s=(dh02/ns1)#Change in enthalpy isentropically of turine first stage in kJ/kg\n",
      "print 'The values of enthalpy and specific volume are taken from the mollier chart at inlet and exit conditions respectively'\n",
      "h0=3370#Enthalpy at beginning of first stage in kJ/kg\n",
      "h2=h0-dh02#Enthalpy at the end of first stage in kJ/kg\n",
      "h2s=h0-dh02s#Isentropic enthalpy at the end of first stage in kJ/kg\n",
      "v2=0.041#Specific volume at the end of first stage in m**3/kg\n",
      "dh24=2*U**2*10**-3#Change in enthalpy in second stage of turbine in kJ/kg\n",
      "dh24s=dh24/ns2#Change in enthalpy isentropically of turine second stage in kJ/kg\n",
      "h4=h2-dh24#Enthalpy at beginning of second stage in kJ/kg\n",
      "h4s=h2-dh24s#Isentropic enthalpy at the end of second stage in kJ/kg\n",
      "v4=0.05#Specific volume at the end of second stage in m**3/kg\n",
      "\n",
      "Ca=C1*cos(a1*pi/180)#Axial velocity in m/s\n",
      "h1r=(m*v2)/(3.1415*D*Ca)#Blade height at first stage rotor exit in m\n",
      "h2r=(m*v4)/(3.1415*D*Ca)#Blade height at second stage rotor exit in m\n",
      "\n",
      "#output\n",
      "print '\\n\\n(a)rotor blade angles\\n    Inlet angle of the rotor blade is %3.2f degree\\n    Outlet angle of the rotor blade is %3.2f degree\\n    Inlet angle of the rotor blade in second stage is %3.2f degres\\n    Outlet angle of the rotor blade in second stage is %3.2f degree\\n(b)Total work done or Power developed in both the stages is %3.2f MW\\n(c)final state of steam\\n    Enthalpy at beginning of first stage is %3i kJ/kg\\n    Enthalpy at the end of first stage is %3.2f kJ/kg\\n    Isentropic enthalpy at the end of first stage is %3.2f kJ/kg\\n    Specific volume at the end of first stage is %3.3f m**3/kg\\n    Enthalpy at beginning of second stage is %3.1f kJ/kg\\n    Isentropic enthalpy at the end of second stage is %3.2f kJ/kg\\n    Specific volume at the end of second stage is %3.2f m**3/kg\\n(d)blade height\\n    Blade height at first stage rotor exit is %3.4f m\\n    Blade height at second stage rotor exit is %3.4f m'%(b11,b21,b12,b22,W,h0,h2,h2s,v2,h4,h4s,v4,h1r,h2r)"
     ],
     "language": "python",
     "metadata": {},
     "outputs": [
      {
       "output_type": "stream",
       "stream": "stdout",
       "text": [
        "The values of enthalpy and specific volume are taken from the mollier chart at inlet and exit conditions respectively\n",
        "\n",
        "\n",
        "(a)rotor blade angles\n",
        "    Inlet angle of the rotor blade is 53.95 degree\n",
        "    Outlet angle of the rotor blade is 53.95 degree\n",
        "    Inlet angle of the rotor blade in second stage is 53.95 degres\n",
        "    Outlet angle of the rotor blade in second stage is 53.95 degree\n",
        "(b)Total work done or Power developed in both the stages is 9.87 MW\n",
        "(c)final state of steam\n",
        "    Enthalpy at beginning of first stage is 3370 kJ/kg\n",
        "    Enthalpy at the end of first stage is 3320.65 kJ/kg\n",
        "    Isentropic enthalpy at the end of first stage is 3306.73 kJ/kg\n",
        "    Specific volume at the end of first stage is 0.041 m**3/kg\n",
        "    Enthalpy at beginning of second stage is 3271.3 kJ/kg\n",
        "    Isentropic enthalpy at the end of second stage is 3257.39 kJ/kg\n",
        "    Specific volume at the end of second stage is 0.05 m**3/kg\n",
        "(d)blade height\n",
        "    Blade height at first stage rotor exit is 0.0114 m\n",
        "    Blade height at second stage rotor exit is 0.0139 m\n"
       ]
      }
     ],
     "prompt_number": 17
    },
    {
     "cell_type": "heading",
     "level": 2,
     "metadata": {},
     "source": [
      "Ex 5.13 Page 236"
     ]
    },
    {
     "cell_type": "code",
     "collapsed": false,
     "input": [
      "#input data\n",
      "P0=100#Initial pressure of steam in bar\n",
      "T0=773#Initial temperature of steam in K\n",
      "D=1#Turbine diameter in m\n",
      "N=3000#Speed of turbine in rpm\n",
      "m=100#Mass flow rate of steam in kg/s\n",
      "a1=70#Exit angle of the first stage nozzle in degree\n",
      "ns=0.65#Stage efficiency of first stage \n",
      "\n",
      "#calculations\n",
      "U=(3.1415*D*N)/60#Mean blade speed in m/s\n",
      "C1=(4*U)/sin(a1*pi/180)#Velocity of steam at exit from nozzle in m/s\n",
      "Ca=C1*cos(a1*pi/180)#Axial velocity in m/s\n",
      "Wx1=3*U#Inlet whirl velocity in m/s\n",
      "b11=degrees(atan(Wx1/Ca))#Inlet angle of the rotor blade in degree\n",
      "b21=b11#Outlet angle of the rotor blade in degree\n",
      "C2=Ca#Velocity of steam at exit from stage in m/s\n",
      "b22=degrees(atan(U/Ca))#Outlet angle of the rotor blade  in degree\n",
      "b12=b22#Inlet angle of the rotor blade in  in degree\n",
      "W=m*8*U**2*10**-6#Total work done or power developed in MW\n",
      "print 'The values of enthalpy and specific volume are taken from the mollier chart at inlet and exit conditions respectively'\n",
      "h0=3370#Enthalpy at beginning of  stage in kJ/kg\n",
      "dh04=(W*10**3)/m#Change in enthalpy  of turbine in kJ/kg\n",
      "dh04s=dh04/ns#Change in enthalpy isentropically of turine  in kJ/kg\n",
      "h4=h0-dh04#Enthalpy at beginning of stage in kJ/kg\n",
      "h4s=h0-dh04s#Isentropic enthalpy at the end of  stage in kJ/kg\n",
      "v4=0.105#Specific volume at the end of stage in m**3/kg\n",
      "h=(m*v4)/(3.1415*D*Ca)#Rotor blade height in m\n",
      "\n",
      "print '\\n\\n(a)rotor blade angles\\n    Inlet angle of the rotor blade is %3.2f degree\\n    Outlet angle of the rotor blade is %3.2f degree\\n    Inlet angle of the rotor blade in second stage is %3.2f degres\\n    Outlet angle of the rotor blade in second stage is %3.2f degree\\n(b)Total work done or Power developed in both the stages is %3.2f MW\\n(c)final state of steam\\n    Enthalpy at beginning of first stage is %3i kJ/kg\\n    Enthalpy at beginning of stage is %3.1f kJ/kg\\n    Isentropic enthalpy at the end of stage is %3.2f kJ/kg\\n    Specific volume at the end of stage is %3.3f m**3/kg\\n(d)rotor blade height is %3.4f m'%(b11,b21,b12,b22,W,h0,h4,h4s,v4,h)"
     ],
     "language": "python",
     "metadata": {},
     "outputs": [
      {
       "output_type": "stream",
       "stream": "stdout",
       "text": [
        "The values of enthalpy and specific volume are taken from the mollier chart at inlet and exit conditions respectively\n",
        "\n",
        "\n",
        "(a)rotor blade angles\n",
        "    Inlet angle of the rotor blade is 64.11 degree\n",
        "    Outlet angle of the rotor blade is 64.11 degree\n",
        "    Inlet angle of the rotor blade in second stage is 34.48 degres\n",
        "    Outlet angle of the rotor blade in second stage is 34.48 degree\n",
        "(b)Total work done or Power developed in both the stages is 19.74 MW\n",
        "(c)final state of steam\n",
        "    Enthalpy at beginning of first stage is 3370 kJ/kg\n",
        "    Enthalpy at beginning of stage is 3172.6 kJ/kg\n",
        "    Isentropic enthalpy at the end of stage is 3066.34 kJ/kg\n",
        "    Specific volume at the end of stage is 0.105 m**3/kg\n",
        "(d)rotor blade height is 0.0146 m\n"
       ]
      }
     ],
     "prompt_number": 18
    },
    {
     "cell_type": "heading",
     "level": 2,
     "metadata": {},
     "source": [
      "Ex 5.14 Page 238"
     ]
    },
    {
     "cell_type": "code",
     "collapsed": false,
     "input": [
      "#input data\n",
      "a1=(90-30)#Nozzle angle in axial direction in degree\n",
      "Ca=180#Axial velocity in m/s\n",
      "U=280#Rotor blade speed in m/s\n",
      "R=0.25#Degree of reaction\n",
      "\n",
      "#calculations\n",
      "Cx1=Ca*tan(a1*pi/180)#Velocity of whirl at inlet in m/s\n",
      "b1=degrees(atan((Cx1-U)/Ca))#Blade angle at inlet in degree\n",
      "b2=a1#Blade angle at exit in degree as degree of reaction is 0.5\n",
      "\n",
      "#output\n",
      "print '(a)Blade angle at inlet is %3i degree\\n(b)Blade angle at exit is %3i degree'%(b1,b2)"
     ],
     "language": "python",
     "metadata": {},
     "outputs": [
      {
       "output_type": "stream",
       "stream": "stdout",
       "text": [
        "(a)Blade angle at inlet is  10 degree\n",
        "(b)Blade angle at exit is  60 degree\n"
       ]
      }
     ],
     "prompt_number": 19
    },
    {
     "cell_type": "heading",
     "level": 2,
     "metadata": {},
     "source": [
      "Ex 5.15 Page 239"
     ]
    },
    {
     "cell_type": "code",
     "collapsed": false,
     "input": [
      "#input data\n",
      "R=0.5#Degree of reaction\n",
      "ns=0.85#Stage efficiency\n",
      "P0=800#Inlet pressure of hot gas in kPa\n",
      "T0=900#Inlet temperature of hot gas in K\n",
      "U=160#Blade speed in m/s\n",
      "m=75#Mass flow rate of hot gas in kg/s\n",
      "a1=70#Absolute air angle at first stage nozzle exit in degree\n",
      "\n",
      "#calculations\n",
      "C1=U/sin(a1*pi/180)#Velocity of steam at exit from nozzle in m/s\n",
      "Ca=C1*cos(a1*pi/180)#Axial velocity of hot gas in m/s\n",
      "C2=Ca#Velocity of steam at exit from stage in m/s\n",
      "b1=0#Blade angle at inlet in degree as Wx1=0 \n",
      "a2=b1#Stator exit angle in degree as degree of reaction is 0.5\n",
      "b2=a1#Blade angle at outlet in degree as degree of reaction is 0.5\n",
      "Cx2=0#Velocity of whirl at outlet in m/s\n",
      "Cx1=U#Velocity of whirl at inlet in m/s\n",
      "W=m*U*(Cx1+Cx2)*10**-6#Power developed in MW\n",
      "Wm=W*10**3/m#Work done per unit mass flow rate in kJ/kg\n",
      "dhs=Wm/ns#Isentropic enthalpy drop in kJ/kg\n",
      "\n",
      "#output\n",
      "print '(a)Rotor blade angles\\n    Absolute air angle at first stage nozzle exit is %3i degree\\n    Blade angle at outlet is %3i degree\\n    Blade angle at inlet is %3i degree\\n    Stator exit angle is %3i degree\\n(b)Power developed is %3.2f MW\\n(c)Isentropic enthalpy drop is %3.2f kJ/kg'%(a1,b2,b1,a2,W,dhs)"
     ],
     "language": "python",
     "metadata": {},
     "outputs": [
      {
       "output_type": "stream",
       "stream": "stdout",
       "text": [
        "(a)Rotor blade angles\n",
        "    Absolute air angle at first stage nozzle exit is  70 degree\n",
        "    Blade angle at outlet is  70 degree\n",
        "    Blade angle at inlet is   0 degree\n",
        "    Stator exit angle is   0 degree\n",
        "(b)Power developed is 1.92 MW\n",
        "(c)Isentropic enthalpy drop is 30.12 kJ/kg\n"
       ]
      }
     ],
     "prompt_number": 20
    },
    {
     "cell_type": "heading",
     "level": 2,
     "metadata": {},
     "source": [
      "Ex 5.16 Page 240"
     ]
    },
    {
     "cell_type": "code",
     "collapsed": false,
     "input": [
      "from __future__ import division\n",
      "from math import pi\n",
      "#input data\n",
      "b1m=46#Rotor blade angle at entry at mean section in degree\n",
      "b2m=75#Rotor blade angle at exit at mean section in degree\n",
      "a1m=75#Nozzle angle at exit at mean section in degree\n",
      "DhDt=0.6#Hub to tip ratio\n",
      "N=7500#Mean rotor speed in rpm\n",
      "Dh=0.45#Hub diameter in m\n",
      "\n",
      "#calculations\n",
      "R=0.5#Degree of reaction as a1m=b2m\n",
      "a2m=b1m#Stator angle at exit at mean section in degree\n",
      "Dm=(Dh+(Dh/DhDt))/2#Mean diameter of turbine at mean section in m\n",
      "Um=(pi*DhDt*N)/60#Mean blade speed in m/s\n",
      "Ca=Um/(tan(a1m*pi/180)-tan(b1m*pi/180))#Axial velocity in m/s\n",
      "fi=Ca/Um#Flow coefficient\n",
      "psil=fi*(tan(b1m*pi/180)+tan(b2m*pi/180))#Blade loading coefficient\n",
      "a1h=degrees(atan(tan(a1m*pi/180)*((Dm/2)/(Dh/2))))#Nozzle angle at inlet at root section in degree\n",
      "Uh=(3.14*Dh*N)/60#Blade speed at root section in m/s\n",
      "b1h=degrees(atan(tan(a1h*pi/180)-(Uh/Ca)))#Rotor blade angle at entry at root section in degree\n",
      "a2h=degrees(atan(tan(a2m*pi/180)*((Dm/2)/(Dh/2))))#Stator angle at exit at root section in degree\n",
      "b2h=degrees(atan((Uh/Ca)+tan(a2h*pi/180)))#Rotor blade angle at exit at root section in degree\n",
      "pih=Ca/Uh#Flow coefficient at root section\n",
      "Rh=(pih/2)*(tan(b2h*pi/180)-tan(b1h*pi/180))#Degree of reaction at root section\n",
      "psilh=pih*(tan(b1h*pi/180)+tan(b2h*pi/180))#Blade loading coefficient at root section\n",
      "\n",
      "#output\n",
      "print 'Mean section\\n    (a)Degree of reaction is %3.1f\\n    (b)Blade loading coefficient is %3.2f\\nRoot section    (a)Degree of reaction is %3.2f\\n    (b)Blade loading coefficient is %3.2f'%(R,psil,Rh,psilh)"
     ],
     "language": "python",
     "metadata": {},
     "outputs": [
      {
       "output_type": "stream",
       "stream": "stdout",
       "text": [
        "Mean section\n",
        "    (a)Degree of reaction is 0.5\n",
        "    (b)Blade loading coefficient is 1.77\n",
        "Root section    (a)Degree of reaction is 0.11\n",
        "    (b)Blade loading coefficient is 3.14\n"
       ]
      }
     ],
     "prompt_number": 21
    },
    {
     "cell_type": "heading",
     "level": 2,
     "metadata": {},
     "source": [
      "Ex 5.17 Page 242"
     ]
    },
    {
     "cell_type": "code",
     "collapsed": false,
     "input": [
      "#input data\n",
      "T00=973#Total head inlet temperature in K\n",
      "P00=4.5#Total head inlet pressure in bar\n",
      "P2=1.6#Static head outlet pressure in bar\n",
      "m=20#Gas flow rate in kg/s\n",
      "a1=(90-28)#Nozzle outlet angle measured perpendicular to blade velocity in degree\n",
      "Dmh=10#Mean blade diameter to blade height ratio \n",
      "NLC=0.1#Nozzle loss coefficient\n",
      "Cp=1155.6#Specific heat of gas at a constant pressure in kJ/kg\n",
      "R=289#Gas constant in J/kg\n",
      "r=1.333#Ratio of specific heats of gas \n",
      "\n",
      "#calculations\n",
      "T2ss=T00*(P2/P00)**((r-1)/r)#Isentropic temperature at outlet in mid section in K here T00=T01\n",
      "T1s=T2ss#Isentropic temperature at inlet at mid section in K\n",
      "C1m=(2*Cp*(T00-T1s)/1.1)**(1/2)#Velocity of steam at exit from nozzle at mid section in m/s\n",
      "T1=T00-((C1m**2)/(2*Cp))#Gas temperature at mid section in K\n",
      "d=(P2*10**5)/(R*T1)#Density of gas in kg/m**3\n",
      "Rg=(Cp*(r-1)/r)#Gas constant of the gas in kJ/kg\n",
      "Ca=C1m*cos(a1*pi/180)#Axial velocity in m/s\n",
      "h=((m/(d*Ca))*(1/(Dmh*3.1415)))**(1/2)#Hub height in m\n",
      "Dm=Dmh*h#Mean blade diameter in m\n",
      "Dh=Dm-h#Hub diameter in m\n",
      "a1h=degrees(atan(((Dm/2)/(Dh/2))*tan(a1*pi/180)))#Discharge angle at hub in degree\n",
      "C1h=Ca/cos(a1h*pi/180)#Gas velocity at hub section in m/s\n",
      "T1h=T00-((C1h**2)/(2*Cp))#Gas temperature at hub in K here T01=T00\n",
      "Dt=Dm+h#Tip diameter in m\n",
      "a1t=degrees(atan(((Dm/2)/(Dt/2))*tan(a1*pi/180)))#Gas discharge angle at tip in degree\n",
      "C1t=Ca/cos(a1t)#Gas velocity at tip in m/s\n",
      "T1t=T00-((C1t**2)/(2*Cp))#Gas temperature in K here T00=T01\n",
      "\n",
      "#output\n",
      "print '(a)At mid section\\n    Gas velocity is %3.1f m/s\\n    Gas temperature is %3.1f K\\n    Gas discharge angle is %3i degree\\n(b)At hub section\\n    Gas velocity is %3.1f m/s\\n    Gas temperature is %3.2f K\\n    Gas discharge angle is %3.2f degree\\n(c)At tip section\\n    Gas velocity is %3.1f m/s\\n    Gas temperature is %3.2f K\\n    Gas discharge angle is %3.2f degree'%(C1m,T1,a1,C1h,T1h,a1h,C1t,T1t,a1t)"
     ],
     "language": "python",
     "metadata": {},
     "outputs": [
      {
       "output_type": "stream",
       "stream": "stdout",
       "text": [
        "(a)At mid section\n",
        "    Gas velocity is 682.2 m/s\n",
        "    Gas temperature is 771.6 K\n",
        "    Gas discharge angle is  62 degree\n",
        "(b)At hub section\n",
        "    Gas velocity is 742.0 m/s\n",
        "    Gas temperature is 734.80 K\n",
        "    Gas discharge angle is 64.43 degree\n",
        "(c)At tip section\n",
        "    Gas velocity is -320.3 m/s\n",
        "    Gas temperature is 928.61 K\n",
        "    Gas discharge angle is 59.68 degree\n"
       ]
      }
     ],
     "prompt_number": 22
    },
    {
     "cell_type": "heading",
     "level": 2,
     "metadata": {},
     "source": [
      "Ex 5.18 Page 244"
     ]
    },
    {
     "cell_type": "code",
     "collapsed": false,
     "input": [
      "from math import sin, cos, atan, tan, pi, degrees\n",
      "#input data\n",
      "a1=75#Nozzle air angle in degree\n",
      "Rh=0#Degree of reaction\n",
      "N=6000#Running speed of hub in rpm\n",
      "Dh=0.45#Hub diameter in m\n",
      "Df=0.75#Tip diameter in m\n",
      "\n",
      "\n",
      "#calculations\n",
      "Uh=(3.1415*Dh*N)/60#Hub speed in m/s\n",
      "C1h=Uh/((sin(a1*pi/180))/2)#Velocity of steam at exit from nozzle in hub in m/s\n",
      "Cah=C1h*cos(a1*pi/180)#Axial velocity at hub in m/s\n",
      "Cx1h=C1h*sin(a1*pi/180)#Whirl component of velocity at inlet in hub in m/s\n",
      "b1h=degrees(atan((Cx1h-Uh)/Cah))#Rotor blade angle at entry at hub section in degree\n",
      "b2h=b1h#Rotor blade angle at exit at mean section in degree as zero reaction section\n",
      "sopt=sin(a1*pi/180)/2#Blade to gas speed ratio at hub\n",
      "rm=((Dh/2)+(Df/2))/2#Mean radius in m\n",
      "rmrh=(rm/(Dh/2))**((sin(a1*pi/180))**2)#Ratio of inlet velocity at hub and mean for constant nozzle air angle at hub section\n",
      "C1m=C1h/rmrh#Velocity of steam at exit from nozzle at mean section in m/s\n",
      "Cx1m=Cx1h/rmrh#Velocity of whirl at inlet at mean section in m/s\n",
      "Ca1m=Cah/rmrh#Axial velocity at mean section in m/s\n",
      "Um=(3.1415*2*rm*N)/60#Mean blade speed in m/s\n",
      "b1m=degrees(atan((Cx1m-Um)/Ca1m))#Rotor blade angle at entry at mean section in degree\n",
      "b2m=degrees(atan(Um/Ca1m))#Rotor blade angle at exit at mean section in degree for axial exit Cx2=0\n",
      "s=Um/C1m#Blade to gas ratio at mean\n",
      "Rm=(Ca1m/(2*Um))*(tan(b2m*pi/180)-tan(b1m*pi/180))#Degree of reaction of mean section\n",
      "rmrt=((rm)/(Df/2))**((sin(a1*pi/180))**2)#Ratio of inlet velocity at tip and mean for constant nozzle air angle at tip section\n",
      "C1t=C1m*rmrt#Velocity of steam at exit from nozzle at tip section in m/s\n",
      "Cx1t=Cx1m*rmrt#Velocity of whirl at inlet at tip section in m/s\n",
      "Ca1t=Ca1m*rmrt#Axial velocity at tip section in m/s\n",
      "Ut=(3.1415*Df*N)/60#Mean tip speed in m/s\n",
      "b1t=degrees(atan((Cx1t-Ut)/Ca1t))#Rotor blade angle at entry at tip section in degree\n",
      "b2t=degrees(atan(Ut/Ca1t))#Rotor blade angle at exit at tip section in degree for axial exit Cx2=0\n",
      "st=Ut/C1t#Blade to gas ratio at tip\n",
      "Rf=(Ca1t/(2*Ut))*(tan(b2t*pi/180)-tan(b1t*pi/180))#Degree of reaction of tip section\n",
      "\n",
      "#output\n",
      "print '(1)Hub section\\n    (a)\\n         Absolute air angle is %3.2f degree\\n         Relative air angle is %3.2f degree\\n    (b)Blade to gas speed ratio is %3.3f\\n    (c)Degree of reaction is %3i\\n(2)Mean section\\n    (a)\\n         Absolute air angle is %3.2f degree\\n         Relative air angle is %3.2f degree\\n    (b)Blade to gas speed ratio is %3.3f\\n    (c)Degree of reaction is %3.3f\\n(3)Tip section\\n    (a)\\n         Absolute air angle is %3.2f degree\\n         Relative air angle is %3.2f degree\\n    (b)Blade to gas speed ratio is %3.3f\\n    (c)Degree of reaction is %3.3f\\n'%(b1h,b2h,sopt,Rh,b1m,b2m,s,Rm,b1t,b2t,st,Rf)"
     ],
     "language": "python",
     "metadata": {},
     "outputs": [
      {
       "output_type": "stream",
       "stream": "stdout",
       "text": [
        "(1)Hub section\n",
        "    (a)\n",
        "         Absolute air angle is 61.81 degree\n",
        "         Relative air angle is 61.81 degree\n",
        "    (b)Blade to gas speed ratio is 0.483\n",
        "    (c)Degree of reaction is   0\n",
        "(2)Mean section\n",
        "    (a)\n",
        "         Absolute air angle is 25.55 degree\n",
        "         Relative air angle is 72.92 degree\n",
        "    (b)Blade to gas speed ratio is 0.842\n",
        "    (c)Degree of reaction is 0.427\n",
        "(3)Tip section\n",
        "    (a)\n",
        "         Absolute air angle is -51.94 degree\n",
        "         Relative air angle is 78.71 degree\n",
        "    (b)Blade to gas speed ratio is 1.296\n",
        "    (c)Degree of reaction is 0.627\n",
        "\n"
       ]
      }
     ],
     "prompt_number": 23
    }
   ],
   "metadata": {}
  }
 ]
}