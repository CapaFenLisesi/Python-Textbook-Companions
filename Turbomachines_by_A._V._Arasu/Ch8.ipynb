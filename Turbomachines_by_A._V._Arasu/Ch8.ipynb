{
 "metadata": {
  "name": "",
  "signature": "sha256:4917afa3531ad5b8b88974bc3a67730d6fe85dd6094df74e9d2ebeeb54dc0430"
 },
 "nbformat": 3,
 "nbformat_minor": 0,
 "worksheets": [
  {
   "cells": [
    {
     "cell_type": "heading",
     "level": 1,
     "metadata": {},
     "source": [
      "Chapter8 - Hydraulic pumps"
     ]
    },
    {
     "cell_type": "heading",
     "level": 2,
     "metadata": {},
     "source": [
      "Ex 8.1 Page 354"
     ]
    },
    {
     "cell_type": "code",
     "collapsed": false,
     "input": [
      "from __future__ import division\n",
      "from math import pi, tan\n",
      "#input data\n",
      "D=1.3#Diameter of the pump in m\n",
      "Q=3.5/60#Discharge of water by pump in m**3/s\n",
      "U2=10#Tip speed of pump in m/s\n",
      "Cr2=1.6#Flow velocity of water in pump in m/s\n",
      "b2=30#Outlet blade angle tangent to impeller periphery in degree\n",
      "Cx1=0#Whirl velocity at inlet in m/s\n",
      "U=10#Tip speed of pump in m/s\n",
      "d=1000#Density of water in kg/m**3\n",
      "g=9.81#Acceleration due to gravity in m/s**2\n",
      "\n",
      "#calculations\n",
      "Wx2=Cr2/tan(b2*pi/180)#Exit relative velocity in m/s\n",
      "E=(U2/g)*(U2-(Wx2))#Euler head in m or W/(N/S)\n",
      "m=d*Q#Mass flow rate of water in kg/s\n",
      "W=E*m*g#Power delivered in W\n",
      "r=D/2#Radius of the pump in m\n",
      "T=W/(U/r)#Torque delivered in Nm\n",
      "\n",
      "#output\n",
      "print 'Torque delivered by the impeller is %3.1f Nm'%(T)\n",
      "# Answer in the textbook is wrong."
     ],
     "language": "python",
     "metadata": {},
     "outputs": [
      {
       "output_type": "stream",
       "stream": "stdout",
       "text": [
        "Torque delivered by the impeller is 274.1 Nm\n"
       ]
      }
     ],
     "prompt_number": 1
    },
    {
     "cell_type": "heading",
     "level": 2,
     "metadata": {},
     "source": [
      "Ex 8.2 Page 355"
     ]
    },
    {
     "cell_type": "code",
     "collapsed": false,
     "input": [
      "from math import sin, tan\n",
      "#input data\n",
      "b2=30#Impeller blade angle to the tangent at impeller outlet in degree\n",
      "d=0.02#Blade depth in m\n",
      "D=0.25#Blade diameter in m\n",
      "N=1450#Pump rotation speed in rpm\n",
      "Q=0.028#FLow rate of the pump in m**3/s\n",
      "sf=0.77#Slip factor \n",
      "g=9.81#Acceleration due to gravity in m/s**2\n",
      "\n",
      "#calculations\n",
      "A=3.1415*d*D#Flow area in m**2\n",
      "Cr2=Q/A#Flow velocity in m/s\n",
      "Wx2=Cr2/tan(b2*pi/180)#Exit relative velocity in m/s\n",
      "U2=(3.14*D*N)/60#Tip speed of pump in m/s\n",
      "Cx2=U2-Wx2#Absolute whirl component at exit in m/s\n",
      "E=(U2*Cx2)/g#Euler head with no whirl at inlet in m\n",
      "Cx21=sf*Cx2#Actual value of component of absolute value in tangential direction in m/s\n",
      "Es=sf*E#Theoretical head with slip in m\n",
      "Z=(3.145*sin(b2*pi/180))/((1-sf)*(1-((Cr2/U2)/tan(b2*pi/180))))#Number of blades required based on stodola slip factor\n",
      "\n",
      "#output\n",
      "print '(a)Theoretical head with slip is %3.2f m\\n(b)Number of blades required is %3.f'%(Es,Z)"
     ],
     "language": "python",
     "metadata": {},
     "outputs": [
      {
       "output_type": "stream",
       "stream": "stdout",
       "text": [
        "(a)Theoretical head with slip is 23.65 m\n",
        "(b)Number of blades required is   8\n"
       ]
      }
     ],
     "prompt_number": 2
    },
    {
     "cell_type": "heading",
     "level": 2,
     "metadata": {},
     "source": [
      "Ex 8.3 Page 356"
     ]
    },
    {
     "cell_type": "code",
     "collapsed": false,
     "input": [
      "#input data\n",
      "D2=0.4#Outer diameter of impeller in m\n",
      "b2=0.05#Outlet width of impeller in m\n",
      "N=800#Running speed of pump in rpm\n",
      "Hm=16#Working head of pump in m\n",
      "b22=40#Vane angle at outlet in degree\n",
      "nm=0.75#Manometric efficiency \n",
      "g=9.81#Acceleration due to gravity in m/s**2\n",
      "\n",
      "#calculations\n",
      "U2=(3.1415*D2*N)/60#Impeller tip speed in m/s\n",
      "Cx2=(g*Hm)/(U2*nm)#Absolute whirl component at exit in m/s\n",
      "Wx2=U2-Cx2#Exit relative velocity in m/s\n",
      "Cr2=Wx2*tan(b22*pi/180)#Flow velocity of water in pump in m/s\n",
      "A=3.14*D2*b2#Area of flow in m**2\n",
      "Q=A*Cr2#Discharge of the pump in m**3/s\n",
      "\n",
      "#output\n",
      "print 'The discharge of the pump is %3.4f m**3/s'%(Q)"
     ],
     "language": "python",
     "metadata": {},
     "outputs": [
      {
       "output_type": "stream",
       "stream": "stdout",
       "text": [
        "The discharge of the pump is 0.2247 m**3/s\n"
       ]
      }
     ],
     "prompt_number": 3
    },
    {
     "cell_type": "heading",
     "level": 2,
     "metadata": {},
     "source": [
      "Ex 8.4 Page 357"
     ]
    },
    {
     "cell_type": "code",
     "collapsed": false,
     "input": [
      "from math import tan, atan, degrees\n",
      "#input data\n",
      "D2D1=2#The ratio of outer and inner diameter \n",
      "N=1200#The running speed of pump in rpm\n",
      "Hm=75#Total head producing work in m\n",
      "Cr1=3#Flow velocity through impeller at inlet in m/s\n",
      "Cr2=Cr1#Flow velocity through impeller at outlet in m/s\n",
      "b22=30#Vanes set back angle at outlet in degree\n",
      "D2=0.6#Outlet diameter of impeller in m\n",
      "d=1000#Density of water in kg/m**3\n",
      "b2=0.05#Width of impeller at outlet in m\n",
      "g=9.81#Acceleartion due to gravity in m/s**2\n",
      "\n",
      "#calculations\n",
      "D1=D2/D2D1#Inlet diameter of impeller in m\n",
      "U1=(3.1415*D1*N)/60#Impeller tip speed at inlet in m/s\n",
      "b11=degrees(atan(Cr1/U1))#Vane angle at inlet in degree\n",
      "U2=(3.1415*D2*N)/60#Impeller tip speed at exit in m/s\n",
      "A=3.1415*D2*b2#Area of flow in m**2\n",
      "Q=A*Cr2#Discharge of the pump in m**/s\n",
      "m=d*Q#Mass flow rate of water in kg/s\n",
      "Wx2=Cr2/tan(b22*pi/180)#Exit relative velocity in m/s\n",
      "Cx2=U2-Wx2#Absolute whirl component at exit in m/s\n",
      "W=m*U2*Cx2*10**-3#Work done per second in kW\n",
      "nm=Hm/((U2*Cx2)/g)#Manometric efficiency \n",
      "\n",
      "#output\n",
      "print '(a)Vane angle at inlet is %3.3f degree\\n(b)Work done per second is %3.2f kW\\n(c)Manometric efficiency is %0.2f %%'%(b11,W,nm*100)"
     ],
     "language": "python",
     "metadata": {},
     "outputs": [
      {
       "output_type": "stream",
       "stream": "stdout",
       "text": [
        "(a)Vane angle at inlet is 9.043 degree\n",
        "(b)Work done per second is 346.42 kW\n",
        "(c)Manometric efficiency is 60.05 %\n"
       ]
      }
     ],
     "prompt_number": 4
    },
    {
     "cell_type": "heading",
     "level": 2,
     "metadata": {},
     "source": [
      "Ex 8.5 Page 358"
     ]
    },
    {
     "cell_type": "code",
     "collapsed": false,
     "input": [
      "#input data\n",
      "Q=75#Discharge from the pump in l/s\n",
      "D1=0.1#Inlet diameter of the pump in m\n",
      "D2=0.29#Outlet diameter of the pump in m \n",
      "Hm=30#Total head producing work in m\n",
      "N=1750#Speed of the pump in rpm\n",
      "b1=0.025#Width of impeller at inlet per side in m\n",
      "b2=0.023#Width of impeller at outlet in total in m\n",
      "a11=90#The angle made by the entering fluid to impeller in degree\n",
      "b22=27#Vanes set back angle at outlet in degree\n",
      "Qloss=2.25#Leakage loss in l/s\n",
      "ml=1.04#Mechanical loss in kW\n",
      "cf=0.87#Contraction factor due to vane thickness \n",
      "n0=0.55#Overall efficiency\n",
      "d=1000#Density of water in kg/m**3\n",
      "g=9.81#Acceleration due to gravity in m/s**2\n",
      "\n",
      "#calculations\n",
      "U1=(3.1415*D1*N)/60#Blade inlet speed in m/s\n",
      "A1=3.1415*D1*b1*cf*10**3#Area of flow at inlet in m**2\n",
      "Qt=Q+Qloss#Total quantity of water handled by pump in l/s\n",
      "Qts=Qt/2#Total quantity of water handled by pump per side in l/s\n",
      "Cr1=(Qts*10**-3)/(A1*10**-3)#Flow velocity through impeller at inlet in m/s\n",
      "b11=degrees(atan(Cr1/U1))#Inlet vane angle in degree\n",
      "A2=3.1415*D2*(b2/2)*cf*10**3#Area of flow at outlet in m**2 here b2 is calculated per side\n",
      "Cr2=Qts/A2#Velocity of flow at outlet in m/s\n",
      "U2=(3.1415*D2*N)/60#Peripheral speed at outlet in m/s\n",
      "Wx2=Cr2/tan(b22*pi/180)#Exit relative velocity in m/s\n",
      "Cx2=U2-Wx2#Absolute whirl component at exit in m/s\n",
      "a22=degrees(atan(Cr2/Cx2))#The absolute water angle at outlet in degree\n",
      "C2=Cr2/sin(a22*pi/180)#Absolute velocity of water at exit in m/s\n",
      "nh=Hm/((U2*Cx2)/g)#Manometric efficiency \n",
      "nv=Q/Qt#Volumetric efficiency \n",
      "SP=(d*g*(Q*10**-3/2)*Hm)/n0*10**-3#Shaft power in kW\n",
      "nm=(SP-ml)/SP#Mechanical efficiency \n",
      "\n",
      "#output\n",
      "print '(a)Inlet vane angle is %3.2f degree\\n(b)The absolute water angle is %3.2f degree\\n(c)Absolute velocity of water at exit is %3.2f m/s\\n(d)Manometric efficiency is %0.1f %%\\n(e)Volumetric efficiency is %0.2f %%\\n(f)Mechanical efficiency is %0.1f %%'%(b11,a22,C2,nh*100,nv*100,nm*100)"
     ],
     "language": "python",
     "metadata": {},
     "outputs": [
      {
       "output_type": "stream",
       "stream": "stdout",
       "text": [
        "(a)Inlet vane angle is 31.67 degree\n",
        "(b)The absolute water angle is 13.07 degree\n",
        "(c)Absolute velocity of water at exit is 18.74 m/s\n",
        "(d)Manometric efficiency is 60.7 %\n",
        "(e)Volumetric efficiency is 97.09 %\n",
        "(f)Mechanical efficiency is 94.8 %\n"
       ]
      }
     ],
     "prompt_number": 5
    },
    {
     "cell_type": "heading",
     "level": 2,
     "metadata": {},
     "source": [
      "Ex 8.6 Page 360"
     ]
    },
    {
     "cell_type": "code",
     "collapsed": false,
     "input": [
      "#input data\n",
      "Hi=0.25#Vaccum gauge reading in m of Hg vaccum\n",
      "P0=1.5#Pressure gauge reading in bar\n",
      "Z01=0.5#Effective height between gauges in m\n",
      "P=22#Power of electric motor in kW\n",
      "Di=0.15#Inlet diameter in m\n",
      "Do=0.15#Outlet diameter in m\n",
      "Q=0.1#Discharge of pump in m**3/s\n",
      "dHg=13600#Density of mercury in kg/m**3\n",
      "dw=1000#Density of water in kg/m**3\n",
      "g=9.81#Acceleration due to gravity in m/s**2\n",
      "\n",
      "#calculations\n",
      "Pi=dHg*g*Hi#Inlet pressure in N/m**2 vaccum\n",
      "Po=P0*10**5#Outlet pressure in N/m**2\n",
      "V0=Q/((3.1415*Do**2)/4)#Velocity of water in delivery pipe in m/s\n",
      "Vi=V0#vleocity of water in suction pipe in m/s\n",
      "Hm=((Po+Pi)/(dw*g))+((V0**2-Vi**2)/(2*g))+(Z01)#Manometric head in m\n",
      "n0=(dw*g*Q*Hm)/(P*10**3)#Overall efficiency \n",
      "\n",
      "#output\n",
      "print '(a)Manometric head is %3.2f m\\n(b)Overall efficiency is %0.1f %%'%(Hm,n0*100)"
     ],
     "language": "python",
     "metadata": {},
     "outputs": [
      {
       "output_type": "stream",
       "stream": "stdout",
       "text": [
        "(a)Manometric head is 19.19 m\n",
        "(b)Overall efficiency is 85.6 %\n"
       ]
      }
     ],
     "prompt_number": 6
    },
    {
     "cell_type": "heading",
     "level": 2,
     "metadata": {},
     "source": [
      "Ex 8.7 Page 361"
     ]
    },
    {
     "cell_type": "code",
     "collapsed": false,
     "input": [
      "#input data\n",
      "Hm=20#Head against which work is produced in pump in m\n",
      "b22=45#Vanes set back angle at outlet in degree\n",
      "N=600#Rotating speed of pump in rpm\n",
      "Cr1=2#Flow velocity through impeller at inlet in m/s\n",
      "Cr2=Cr1#Flow velocity through impeller at outlet in m/s\n",
      "g=9.81#acceleration due to gravity in m/s**2\n",
      "\n",
      "#calculations\n",
      "Wx2=Cr2/tan(b22*pi/180)#Exit relative velocity in m/s\n",
      "U2=(4+(16+(4*3*792.8))**(1/2))/(2*3)#   Blade outlet speed in m/s\n",
      "     #The above equation is obtained by solving \n",
      "     #Cx2=U2-Wx2     #Absolute whirl component at exit in m/s\n",
      "     #C2=(Cx2**2+Cr2**2)**(1/2)    #Absolute velocity of water at exit in m/s\n",
      "     #Hm=(U2*Cx2/g)-((C2**2)/(4*g))     #Total head producing work in m\n",
      "     #3*(U2**2)-(4*U2)-792.8=0       \n",
      "D2=(60*U2)/(3.1415*N)#Impeller diameter in m\n",
      "\n",
      "#output\n",
      "print 'The impeller diameter is %3.4f m'%(D2)"
     ],
     "language": "python",
     "metadata": {},
     "outputs": [
      {
       "output_type": "stream",
       "stream": "stdout",
       "text": [
        "The impeller diameter is 0.5391 m\n"
       ]
      }
     ],
     "prompt_number": 7
    },
    {
     "cell_type": "heading",
     "level": 2,
     "metadata": {},
     "source": [
      "Ex 8.8 Page 362"
     ]
    },
    {
     "cell_type": "code",
     "collapsed": false,
     "input": [
      "#input data\n",
      "n0=0.7#Overall efficiency\n",
      "Q=0.025#Discharge of water by the pump in m**3/s\n",
      "H=20#Height of supplied by the pump in m\n",
      "D=0.1#Diameter of the pump in m\n",
      "L=100#Length of the pipe in m\n",
      "f=0.012#Friction coefficient \n",
      "g=9.81#Acceleration due to gravity in m/s**2\n",
      "d=1000#Density of water in kg/m**3\n",
      "\n",
      "#calculations\n",
      "V0=Q/((3.1415/4)*D**2)#Velocity of water in the pipe in m/s\n",
      "hf0=(4*f*L*V0**2)/(2*g*D)#Loss of head due to friction in pipe in m\n",
      "Hm=H+hf0+(V0**2/(2*g))#Manometric head in m\n",
      "P=(d*g*Q*Hm)/(n0)*10**-3#Power required to drive the pump in kW\n",
      "\n",
      "#output\n",
      "print 'Power required to drive the pump is %3.2f kW'%(P)"
     ],
     "language": "python",
     "metadata": {},
     "outputs": [
      {
       "output_type": "stream",
       "stream": "stdout",
       "text": [
        "Power required to drive the pump is 15.87 kW\n"
       ]
      }
     ],
     "prompt_number": 8
    },
    {
     "cell_type": "heading",
     "level": 2,
     "metadata": {},
     "source": [
      "Ex 8.9 Page 363"
     ]
    },
    {
     "cell_type": "code",
     "collapsed": false,
     "input": [
      "#input data\n",
      "Q=0.015#Discharge of water in pump in m**3/s\n",
      "D1=0.2#Internal diameter of the impeller in m\n",
      "D2=0.4#External diameter of the impeller in m\n",
      "b1=0.016#Width of impeller at inlet in m\n",
      "b2=0.008#Width of impeller at outlet in m\n",
      "N=1200#Running speed of the pump in rpm\n",
      "b22=30#Impeller vane angle at outlet in degree\n",
      "g=9.81#Acceleration due to gravity in m/s**2\n",
      "d=1000#Density of water in kg/m**3\n",
      "\n",
      "#calculations\n",
      "print 'From velocity triangles the following values have been deduced'\n",
      "a11=90#The absolute water angle at inlet in degree\n",
      "Cx1=0#Absolute whirl component at inlet in m/s\n",
      "A1=3.1415*D1*b1#Area of flow at inlet in m**2\n",
      "Cr1=Q/A1#Flow velocity through impeller at inlet in m/s\n",
      "C1=Cr1#Absolute velocity at inlet in m/s\n",
      "A2=3.1415*D2*b2#Area of flow at outlet in m**2\n",
      "Cr2=Q/A2#Flow velocity through impeller at outlet in m/s\n",
      "U2=(3.1415*D2*N)/60#Blade outlet speed in m/s\n",
      "Cx2=U2-(Cr2/tan(b22*pi/180))#Absolute whirl component at outlet in m/s\n",
      "C2=(Cx2**2+Cr2**2)**(1/2)#Velocity at impeller exit in m/s\n",
      "Ihl=((Cx2*U2)/g)-((C2**2)/(2*g))+((C1**2)/(2*g))#Pressure rise in impeller in m\n",
      "\n",
      "#output\n",
      "print '\\n\\nThe rise in pressure in the impeller is %3.3f m'%(Ihl)"
     ],
     "language": "python",
     "metadata": {},
     "outputs": [
      {
       "output_type": "stream",
       "stream": "stdout",
       "text": [
        "From velocity triangles the following values have been deduced\n",
        "\n",
        "\n",
        "The rise in pressure in the impeller is 31.852 m\n"
       ]
      }
     ],
     "prompt_number": 9
    },
    {
     "cell_type": "heading",
     "level": 2,
     "metadata": {},
     "source": [
      "Ex 8.10 Page 365"
     ]
    },
    {
     "cell_type": "code",
     "collapsed": false,
     "input": [
      "#input data\n",
      "Ihl=3#Head loss in impeller in m\n",
      "Cr2=4.64#Flow velocity through impeller at outlet in m/s\n",
      "U2=30#Blade outlet speed in m/s\n",
      "dPi=35.3#Difference in pressure gauge readings at impeller inlet and outlet in m of water\n",
      "Pg=4.7#Pressure gain in the casing in m of water \n",
      "n=0.385#Part of absolute kinetic energy converted into pressure gain\n",
      "g=9.81#Acceleration due to gravity in m/s**2\n",
      "d=1000#Density of water in kg/m**3\n",
      "ss=0.85#Slip coefficient\n",
      "\n",
      "#calculations\n",
      "Kei=Pg/n#Kinetic energy at impeller exit in m/s\n",
      "C2=((Kei)*2*g)**(1/2)#Velocity at impeller exit in m/s\n",
      "Cx22=(C2**2-Cr2**2)**(1/2)#Absolute whirl component at outlet with fliud slip in m/s\n",
      "Cx2=Cx22/ss#Ideal absolute whirl velocity in m/s\n",
      "b22=degrees(atan(Cr2/(U2-Cx2)))#Blade angle at exit in degree\n",
      "Wm=ss*U2*Cx2#Euler work input in J/kg\n",
      "nm=dPi/(U2*Cx22/g)#Manometric efficiency\n",
      "dP=(U2*Cx22/g)-(Ihl)-(C2**2/(2*g))#Pressure rise in impeller in m\n",
      "\n",
      "#output\n",
      "print '(a)\\n    Exit blade angle is %3.2f degree\\n    Euler work input is %3.2f J/kg\\n(b)Manometric efficiency is %0.2f %%\\n(c)Pressure rise in the impeller is %3.3f m'%(b22,Wm,nm*100,dP)"
     ],
     "language": "python",
     "metadata": {},
     "outputs": [
      {
       "output_type": "stream",
       "stream": "stdout",
       "text": [
        "(a)\n",
        "    Exit blade angle is 20.17 degree\n",
        "    Euler work input is 442.93 J/kg\n",
        "(b)Manometric efficiency is 78.18 %\n",
        "(c)Pressure rise in the impeller is 29.943 m\n"
       ]
      }
     ],
     "prompt_number": 10
    },
    {
     "cell_type": "heading",
     "level": 2,
     "metadata": {},
     "source": [
      "Ex 8.11 Page 366"
     ]
    },
    {
     "cell_type": "code",
     "collapsed": false,
     "input": [
      "#input data\n",
      "r1=0.051#Eye radius of the impeller in m\n",
      "D2=0.406#Outer diameter of the impeller in m\n",
      "b11=(90-75)#Inlet blade angle measured from tangential flow direction in degree\n",
      "b22=(90-83)#Outlet blade angle measured from tangential flow direction in degree\n",
      "b=0.064#Blade depth in m\n",
      "Cx1=0#Inlet whirl velocity in m/s\n",
      "nh=0.89#Hydraulic efficiency \n",
      "g=9.81#Acceleration due to gravity in m/s**2\n",
      "d=1000#Density of water in kg/m**3\n",
      "N=900#Rotating speed of impeller in rpm\n",
      "\n",
      "#calculations\n",
      "w=(2*3.1415*N)/60#Angular velocity at inlet in rad/s\n",
      "U1=(w*r1)#Inlet tangential impeller velocity in m/s\n",
      "C1=U1*tan(b11*pi/180)#Velocity at impeller inlet in m/s\n",
      "A=2*3.1415*r1*b#Area of flow through the pump in m**2\n",
      "Cr1=C1#Flow velocity through impeller at inlet in m/s\n",
      "Q=A*Cr1#Volume flow through the pump in m**3/s\n",
      "r2=D2/2#Outer radius of the impeller in m\n",
      "Cr2=(r1*Cr1)/r2#Flow velocity through impeller at outlet in m/s\n",
      "U2=w*r2#Outlet tangential impeller velocity in m/s\n",
      "Wx2=Cr2/tan(b22*pi/180)#Exit relative velocity in m/s\n",
      "E=(U2/g)*(U2-Wx2)#Theoretical head developed in m\n",
      "Hm=nh*E#Total stagnation head developed by the pump in m\n",
      "dP021=Hm*d*g*10**-3#Total pressure head coefficient in kPa\n",
      "Cx2=U2-(Cr2/tan(b22*pi/180))#Absolute whirl velocity in m/s\n",
      "C2=(Cr2**2+Cx2**2)**(1/2)#Velocity at impeller exit in m/s\n",
      "dP21=(Hm-(((C2**2)-(C1**2))/(2*g)))*d*g*10**-3#The static pressure head in kPa\n",
      "P=d*g*Q*Hm*10**-3#Power given to the fluid in kW\n",
      "Ps=P/nh#Input power to impeller in kW\n",
      "\n",
      "#output\n",
      "print '(a)Volume flow rate through the impeller is %3.4f m**3/s\\n(b)\\n    stagnation pressure rise across the impeller is %3.1f kPa\\n    Static pressure rise across the impeller is %3.1f kPa\\n(c)Power given to fluid is %3.2f kW\\n(d)Input power to impeller is %3.2f kW'%(Q,dP021,dP21,P,Ps)"
     ],
     "language": "python",
     "metadata": {},
     "outputs": [
      {
       "output_type": "stream",
       "stream": "stdout",
       "text": [
        "(a)Volume flow rate through the impeller is 0.0264 m**3/s\n",
        "(b)\n",
        "    stagnation pressure rise across the impeller is 280.9 kPa\n",
        "    Static pressure rise across the impeller is 145.6 kPa\n",
        "(c)Power given to fluid is 7.42 kW\n",
        "(d)Input power to impeller is 8.34 kW\n"
       ]
      }
     ],
     "prompt_number": 11
    },
    {
     "cell_type": "heading",
     "level": 2,
     "metadata": {},
     "source": [
      "Ex 8.12 Page 368"
     ]
    },
    {
     "cell_type": "code",
     "collapsed": false,
     "input": [
      "from math import pi, tan\n",
      "from __future__ import division\n",
      "#input data\n",
      "Q=0.04#Discharge of the pump design in m**3/s\n",
      "Ns=0.075#Specific speed in rev\n",
      "b22=(180-120)#Outlet angle with the normal in degree\n",
      "H=35#Distance to which pumping of water is done in m\n",
      "Dp=0.15#Diameter of suction and delivery pipes in m\n",
      "L=40#Combined length of suction and delivery pipes in m\n",
      "WD=1/10#Width to diameter ratio at outlet of impeller \n",
      "f=0.005#Friction factor \n",
      "g=9.81#Acceleration due to gravity in m/s**2\n",
      "nh=0.76#Hydraulic effficiency neglecting the slip\n",
      "n=0.06#Percentage occupied by blades on circumference area\n",
      "\n",
      "#calculations\n",
      "A=(pi/4)*(Dp**2)#Area of flow in pipe in m**2\n",
      "V=Q/A#Velocity in the pipes in m/s\n",
      "OL=3*V**2/(2*g)#Other loses in the pipes in m\n",
      "TL=(4*f*L*V**2/(2*g*Dp))+(OL)#Total loses in a pipe in m\n",
      "TH=TL+H#Total required head in m\n",
      "N=(Ns*((g*TH)**(3/4)))/((Q)**(1/2))#The speed of the pump in rev/s\n",
      "from sympy import symbols, solve\n",
      "from sympy import N as NN\n",
      "D = symbols('D')\n",
      "Ao=pi*WD*(1-n)*D**2#Flow area perpendicular to impeller outlet periphery \n",
      "Cr2=Q/Ao#Flow velocity through impeller at outlet in m/s\n",
      "U2=pi*D*N#Outlet tangential impeller velocity in m/s\n",
      "Cx2=(g*TH)/(U2*nh)#Absolute whirl velocity in m/s\n",
      "expr = tan(b22*pi/180)-(Cr2/(Cx2-U2)) # polynomial of D\n",
      "D = solve(expr, D) # discarding -ve values \n",
      "D = D[2] # Now discard imaginary part as negligible(in powers of e**-23)\n",
      "D = NN(abs(D),3) # in meters # rounding off\n",
      "#output\n",
      "print 'The pump impeller diameter is %3.3f m'%(D)"
     ],
     "language": "python",
     "metadata": {},
     "outputs": [
      {
       "output_type": "stream",
       "stream": "stdout",
       "text": [
        "The pump impeller diameter is 0.214 m\n"
       ]
      }
     ],
     "prompt_number": 12
    },
    {
     "cell_type": "heading",
     "level": 2,
     "metadata": {},
     "source": [
      "Ex 8.13 Page 370"
     ]
    },
    {
     "cell_type": "code",
     "collapsed": false,
     "input": [
      "#input data\n",
      "N=2875#Speed of the pump in rpm \n",
      "Q=57.2/3600#Discharge of the pump in m**3/s\n",
      "Hm=42.1#Total head developed by the pump in m\n",
      "d=1000#Density of the water in kg/m**3\n",
      "g=9.81#Acceleration due to gravity in m/s**2\n",
      "n=0.76#Efficiency of the pump\n",
      "\n",
      "#calculations\n",
      "Ns=(N*Q**(1/2))/(Hm**(3/4))#Specific speed of the pump \n",
      "P=((d*g*Q*Hm)/n)*10**-3#Power input in kW\n",
      "\n",
      "#calculations\n",
      "print '(a)Specific speed of the pump is %3.f\\n(b)Power input is %3.3f kW'%(Ns,P)"
     ],
     "language": "python",
     "metadata": {},
     "outputs": [
      {
       "output_type": "stream",
       "stream": "stdout",
       "text": [
        "(a)Specific speed of the pump is  22\n",
        "(b)Power input is 8.634 kW\n"
       ]
      }
     ],
     "prompt_number": 13
    },
    {
     "cell_type": "heading",
     "level": 2,
     "metadata": {},
     "source": [
      "Ex 8.14 Page 371"
     ]
    },
    {
     "cell_type": "code",
     "collapsed": false,
     "input": [
      "from math import ceil\n",
      "#input data\n",
      "D1=0.6#Inlet impeller diameter in m\n",
      "D2=1.2#Outlet impeller diameter in m\n",
      "Cr2=2.5#Radial flow velocity in m/s\n",
      "N=200#Running speed of the pump in rpm\n",
      "Q=1.88#Discharge of the pump in m**3/s\n",
      "Hm=6#Head which the pump has to overcome in m\n",
      "b22=26#Vane angle at exit at tangent to impeller in degree\n",
      "d=1000#Density of the water in kg/m**3\n",
      "g=9.81#Acceleration due to gravity in m/s**2\n",
      "\n",
      "#calculations\n",
      "U2=(3.1415*D2*N)/60#Outlet tangential impeller velocity in m/s\n",
      "Wx2=Cr2/tan(b22*pi/180)#Exit relative velocity in m/s\n",
      "Cx2=U2-Wx2#Absolute whirl velocity in m/s\n",
      "nm=(Hm/(U2*Cx2/g))#Manometric efficiency \n",
      "Nls=((2*g*Hm*60**2)/((3.1415**2)*((1.2**2)-(0.6**2))))**(1/2)#Least starting speed of the pump in rpm\n",
      "\n",
      "#output\n",
      "print '(1)Manometric efficiency is %0.1f %%\\n(2)Least speed to start the pump is %3.2f rpm, rounding off = %0.f rpm'%(nm*100,Nls, ceil(Nls))"
     ],
     "language": "python",
     "metadata": {},
     "outputs": [
      {
       "output_type": "stream",
       "stream": "stdout",
       "text": [
        "(1)Manometric efficiency is 63.0 %\n",
        "(2)Least speed to start the pump is 199.40 rpm, rounding off = 200 rpm\n"
       ]
      }
     ],
     "prompt_number": 14
    },
    {
     "cell_type": "heading",
     "level": 2,
     "metadata": {},
     "source": [
      "Ex 8.15 Page 372"
     ]
    },
    {
     "cell_type": "code",
     "collapsed": false,
     "input": [
      "#input data\n",
      "D2=1.25#External diameter of the impeller in m\n",
      "D1=0.5#Internal diameter of the impeller in m\n",
      "Q=2#Discharge of the pump in m**3/s\n",
      "Hm=16#Head over which pump has to operate in m\n",
      "N=300#Running speed of the pump in rpm\n",
      "b22=30#Angle at which vanes are curved back in degree\n",
      "Cr1=2.5#Flow velocity through impeller at inlet in m/s\n",
      "Cr2=Cr1#Flow velocity through impeller at outlet in m/s\n",
      "d=1000#Density of the water in kg/m**3\n",
      "g=9.81#Acceleration due to gravity in m/s**2\n",
      "\n",
      "#calculations\n",
      "U2=(3.1415*D2*N)/60#Outlet tangential impeller velocity in m/s\n",
      "Wx2=Cr2/tan(b22*pi/180)#Exit relative velocity in m/s\n",
      "Cx2=U2-Wx2#Absolute whirl velocity in m/s\n",
      "nm=(Hm*g)/(U2*Cx2)#Manometric or hydraulic efficiency\n",
      "m=d*Q#Mass flow rate of water in kg/s\n",
      "W=m*U2*Cx2*10**-3#Fluid power developed by the impeller in kW\n",
      "Ps=W#Power required by the pump in kW neglecting mechanical loses\n",
      "Nls=((2*g*Hm)/(((3.1415/60)**2)*(D2**2-D1**2)))**(1/2)#Minimum starting speed of the pump in rpm\n",
      "\n",
      "#output\n",
      "print '(a)Manometric or hydraulic efficiency is %0.1f %% \\n(b)Power required by the pump is %3.2f kW\\n(c)Minimum starting speed of the pump is %3.1f rpm'%(nm*100,Ps,Nls)"
     ],
     "language": "python",
     "metadata": {},
     "outputs": [
      {
       "output_type": "stream",
       "stream": "stdout",
       "text": [
        "(a)Manometric or hydraulic efficiency is 52.2 % \n",
        "(b)Power required by the pump is 600.98 kW\n",
        "(c)Minimum starting speed of the pump is 295.4 rpm\n"
       ]
      }
     ],
     "prompt_number": 15
    },
    {
     "cell_type": "heading",
     "level": 2,
     "metadata": {},
     "source": [
      "Ex 8.16 Page 373"
     ]
    },
    {
     "cell_type": "code",
     "collapsed": false,
     "input": [
      "#input data\n",
      "n=3#Number of stages \n",
      "D2=0.4#Outlet impeller diameter in m\n",
      "b2=0.02#Outlet impeller width in m\n",
      "b22=45#Backward vanes angle at outlet in degree\n",
      "dA=0.1#Reduction in circumferential area\n",
      "nm=0.9#Manometric efficiency of the pump\n",
      "Q=0.05#Discharge of the pump in m**3/s\n",
      "N=1000#Running speed of the pump in rpm\n",
      "n0=0.8#Overall efficiency of the pump\n",
      "g=9.81#Acceleration due to gravity in m/s**2\n",
      "d=1000#Density of water in kg/m**3\n",
      "\n",
      "#calculations\n",
      "A2=(1-dA)*3.1415*D2*b2#Area of flow at outlet in m**2\n",
      "Cr2=Q/A2#Flow velocity through impeller at outlet in m/s\n",
      "U2=(3.1415*D2*N)/60#Outlet impeller tangential velocity in m/s\n",
      "Wx2=Cr2#Exit relative velocity in m/s as tand(b22)=1\n",
      "Cx2=U2-Wx2#Absolute whirl velocity in m/s\n",
      "Hm=(nm*U2*Cx2)/g#Head over which pump has to operate in m\n",
      "H=n*Hm#Total head generated by the pump in m\n",
      "P=d*g*Q*Hm*n#Power output from the pump in W\n",
      "Ps=P/n0*10**-3#Shaft power input in kW\n",
      "\n",
      "#output\n",
      "print '(1)The head generated by the pump is %3.2f m\\n(2)Shaft power input is %3.3f kW'%(H,Ps)"
     ],
     "language": "python",
     "metadata": {},
     "outputs": [
      {
       "output_type": "stream",
       "stream": "stdout",
       "text": [
        "(1)The head generated by the pump is 107.98 m\n",
        "(2)Shaft power input is 66.205 kW\n"
       ]
      }
     ],
     "prompt_number": 16
    },
    {
     "cell_type": "heading",
     "level": 2,
     "metadata": {},
     "source": [
      "Ex 8.17 Page 374"
     ]
    },
    {
     "cell_type": "code",
     "collapsed": false,
     "input": [
      "#input data\n",
      "H=156#Total head operated by the pumps in m\n",
      "N=1000#Running speed of the pump in rpm\n",
      "Ns=20#Specific speed of each pump \n",
      "Q=0.150#Discharge of the pump in m**3/s\n",
      "\n",
      "#calculations\n",
      "Hm=((N*(Q)**(1/2))/(Ns))**(4/3)#Head developed by each pump in m\n",
      "n=H/Hm#Number of pumps\n",
      "\n",
      "#output\n",
      "print 'The number of pumps are %3.f'%(n)"
     ],
     "language": "python",
     "metadata": {},
     "outputs": [
      {
       "output_type": "stream",
       "stream": "stdout",
       "text": [
        "The number of pumps are   3\n"
       ]
      }
     ],
     "prompt_number": 17
    },
    {
     "cell_type": "heading",
     "level": 2,
     "metadata": {},
     "source": [
      "Ex 8.18 Page 375"
     ]
    },
    {
     "cell_type": "code",
     "collapsed": false,
     "input": [
      "#input data\n",
      "Q1=120#Discharge of each of the multi stage pump in parallel in first case in m**3/s\n",
      "Q2=450#Discharge of the multi stage pump in second case in m**3/s\n",
      "H1=16#Head of each stage in first case in m\n",
      "D1=0.15#Diameter of impeller in first case in m\n",
      "H=140#Total head developed by all pumps in second case in m\n",
      "N1=1500#Running speed of the pump in rpm in first case\n",
      "N2=1200#Running speed of the pump in rpm in second case\n",
      "#calculations\n",
      "H2=H1*((Q2/Q1)*((N2/N1)**2))**(4/6)#Head of each stage in second case in m\n",
      "n=H/H2#Number of stages in second case \n",
      "D2=D1*(((N1/N2)**(2))*(H2/H1))**(1/2)#Diameter of impeller in second case in m\n",
      "\n",
      "#output\n",
      "print '(a)number of stages required is %3.f\\n(b)Diameter of impeller in the second case is %3.2f m or %0.f mm'%(n,D2, D2*1000)"
     ],
     "language": "python",
     "metadata": {},
     "outputs": [
      {
       "output_type": "stream",
       "stream": "stdout",
       "text": [
        "(a)number of stages required is   5\n",
        "(b)Diameter of impeller in the second case is 0.25 m or 251 mm\n"
       ]
      }
     ],
     "prompt_number": 18
    },
    {
     "cell_type": "heading",
     "level": 2,
     "metadata": {},
     "source": [
      "Ex 8.19 Page 376"
     ]
    },
    {
     "cell_type": "code",
     "collapsed": false,
     "input": [
      "#input data\n",
      "H=36#Initial total head of the pump in m\n",
      "Q1=0.05#Initial discharge of the pump in m**3/s\n",
      "H2=3.5#Sum of static pressure and velocity head at inlet in m\n",
      "P01=0.75#Atmospheric pressure initially in m of Hg\n",
      "Pvap1=1.8*10**3#Vapour pressure of water initially in Pa\n",
      "Pvap2=830#Vapour pressure of water finanlly in Pa\n",
      "P02=0.62#Atmospheric pressure finally in m of Hg\n",
      "g=9.81#Acceleration due to gravity in m/s**2\n",
      "dW=1000#Density of water in kg/m**3\n",
      "dHg=13.6#Density of mercury in kg/m**3\n",
      "\n",
      "#calculations\n",
      "NPSH=H2-((Pvap1)/(dW*g))#Net positive suction head in m\n",
      "s=NPSH/H#Cavitation parameter when pump dvelops same total head and discharge \n",
      "dH1=(P01*dHg)-(s*H)-(Pvap1/(dW*g))#The height reduced in initial condition above supply in m\n",
      "dH2=(P02*dHg)-(s*H)-(Pvap2/(dW*g))#The height reduced in final condition above supply in m\n",
      "Z=dH1-dH2#The total height which the pump must be lowered at new location in m\n",
      "\n",
      "#output\n",
      "print '(a)The cavitation parameter is %3.4f\\n(b)\\n    The height reduced in initial condition above supply is %3.1f m\\n    The height reduced in final condition above supply is %3.2f m\\n    The total height which the pump must be lowered at new location is %3.2f m'%(s,dH1,dH2,Z)"
     ],
     "language": "python",
     "metadata": {},
     "outputs": [
      {
       "output_type": "stream",
       "stream": "stdout",
       "text": [
        "(a)The cavitation parameter is 0.0921\n",
        "(b)\n",
        "    The height reduced in initial condition above supply is 6.7 m\n",
        "    The height reduced in final condition above supply is 5.03 m\n",
        "    The total height which the pump must be lowered at new location is 1.67 m\n"
       ]
      }
     ],
     "prompt_number": 19
    },
    {
     "cell_type": "heading",
     "level": 2,
     "metadata": {},
     "source": [
      "Ex 8.20 Page 377"
     ]
    },
    {
     "cell_type": "code",
     "collapsed": false,
     "input": [
      "from math import degrees, atan\n",
      "#input data\n",
      "Dt=1#Impeller outlet diameter in m\n",
      "Dh=0.5#Diameter of the boss in m\n",
      "Ns=38#Specific speed of the pump \n",
      "Ca=2#Velocity of the flow in m/s\n",
      "H=6#Head which the pump has to drive in m\n",
      "\n",
      "#calculations\n",
      "A=(3.1415/4)*(Dt**2-Dh**2)#Area of flow in m**2\n",
      "Q=A*Ca#Discharge of the pump in m**3/s\n",
      "N=(Ns*H**(3/4))/(Q**(1/2))#Pump speed in rpm\n",
      "U1=(3.1415*Dh*N)/60#Blade inlet speed in m/s\n",
      "b1=degrees(atan(Ca/U1))#Vane angle at the entry of the pump when the flow is axial at inlet in degree\n",
      "\n",
      "#output\n",
      "print '(a)Pump speed is %0.2f rpm\\n(b)Vane angle at the entry of the pump when the flow is axial at inlet is %3.2f degree'%(N,b1)"
     ],
     "language": "python",
     "metadata": {},
     "outputs": [
      {
       "output_type": "stream",
       "stream": "stdout",
       "text": [
        "(a)Pump speed is 134.22 rpm\n",
        "(b)Vane angle at the entry of the pump when the flow is axial at inlet is 29.65 degree\n"
       ]
      }
     ],
     "prompt_number": 20
    },
    {
     "cell_type": "heading",
     "level": 2,
     "metadata": {},
     "source": [
      "Ex 8.21 Page 378"
     ]
    },
    {
     "cell_type": "code",
     "collapsed": false,
     "input": [
      "#input data\n",
      "Q=0.180#Discharge of the pump in m**3/s\n",
      "H=2#Head developed by the pump in m\n",
      "Ns=250#Specific speed of the pump \n",
      "SR=2.4#Speed ratio of the pump\n",
      "FR=0.5#Flow ratio of the pump\n",
      "g=9.81#Acceleration due to gravity in m/s**2\n",
      "\n",
      "#calculations\n",
      "N=(Ns*(H**(3/4)))/(Q**(1/2))#Pump speed in rpm\n",
      "U=SR*(2*g*H)**(1/2)#Peripheral velocity in m/s\n",
      "D=(60*U)/(3.1415*N)#Runner diameter of the pump in m\n",
      "Ca=FR*(2*g*H)**(1/2)#Velocity of flow in m/s\n",
      "Dh=((D**2)-(Q*4/(Ca*3.14)))**(1/2)#Boss diameter of the pump in m\n",
      "\n",
      "#output\n",
      "print '(a)Pump speed is %3.i rpm\\n(b)Runner diameter of the pump is %3.2f m\\n(c)Boss diameter of the pump is %3.2f m\\n'%(N,D,Dh)"
     ],
     "language": "python",
     "metadata": {},
     "outputs": [
      {
       "output_type": "stream",
       "stream": "stdout",
       "text": [
        "(a)Pump speed is 991 rpm\n",
        "(b)Runner diameter of the pump is 0.29 m\n",
        "(c)Boss diameter of the pump is 0.10 m\n",
        "\n"
       ]
      }
     ],
     "prompt_number": 21
    },
    {
     "cell_type": "heading",
     "level": 2,
     "metadata": {},
     "source": [
      "Ex 8.22 Page 379"
     ]
    },
    {
     "cell_type": "code",
     "collapsed": false,
     "input": [
      "#input data\n",
      "Hs=2.5#Height of the pipe above suction reservoir in m\n",
      "H1=18#Height of the pipe below supply reservoir in m\n",
      "H=2.7#Total height through which the pump lifts water in m\n",
      "Q1=2.75#Discharge of water used from supply reservoir in l/s\n",
      "Qt=7.51#Discharge of water totally delivered in l/s\n",
      "\n",
      "#calculations\n",
      "Hd=H-Hs#Height of the pipe from discharge reservoir in m\n",
      "Qs=Qt-Q1#Discharge of water in delivery reservoir in l/s\n",
      "nj=(Qs/Q1)*((Hs+Hd)/(H1-Hd))#Jet pump efficiency \n",
      "\n",
      "#output\n",
      "print 'The efficiency of the jet pump is %0.1f'%(nj*100)"
     ],
     "language": "python",
     "metadata": {},
     "outputs": [
      {
       "output_type": "stream",
       "stream": "stdout",
       "text": [
        "The efficiency of the jet pump is 26.3\n"
       ]
      }
     ],
     "prompt_number": 22
    }
   ],
   "metadata": {}
  }
 ]
}