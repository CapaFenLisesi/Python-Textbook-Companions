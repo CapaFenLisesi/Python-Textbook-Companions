{
 "metadata": {
  "name": "",
  "signature": "sha256:28b0077be1a0d41b0cc471c0e34331f1edde6c138991b53632e2c3b3cb0de57c"
 },
 "nbformat": 3,
 "nbformat_minor": 0,
 "worksheets": [
  {
   "cells": [
    {
     "cell_type": "heading",
     "level": 1,
     "metadata": {},
     "source": [
      "Evaluation of Public Alternatives"
     ]
    },
    {
     "cell_type": "heading",
     "level": 2,
     "metadata": {},
     "source": [
      "Example 10.1 Page 138"
     ]
    },
    {
     "cell_type": "code",
     "collapsed": false,
     "input": [
      "#initiation of variable\n",
      "Ii=4000000.0;#in Rs.\n",
      "AM=150000.0;#in Rs.\n",
      "AFS=600000.0;#in Rs.\n",
      "Einc=50000.0;#in Rs.\n",
      "i=12.0;#in % per annum\n",
      "n=15.0;#in years\n",
      "\n",
      "#calculation\n",
      "Cp=AM*(((1+i/100)**n)-1)/((i/100)*(1+i/100)**n);#in Rs\n",
      "TPW=Ii+Cp;#in RS\n",
      "\n",
      "#result\n",
      "print \"Total present worth of costs in RS. : \",round(TPW,3);\n",
      "\n",
      "#Total present worth of fuel savings:\n",
      "AI=600000.0;#in Rs.\n",
      "G=50000.0;#in Rs.\n",
      "i=12.0;#in % per annum\n",
      "n=15.0;#in years\n",
      "\n",
      "#calculation\n",
      "A=AI+G*(((1+i/100)**n)-i*n/100-1)/(((i/100)*(1+i/100)**n)-i/100);#in RS\n",
      "Bp=A*(((1+i/100)**n)-1)/((i/100)*(1+i/100)**n);#in Rs.\n",
      "BCratio=Bp/(Ii+Cp);#unitless\n",
      "\n",
      "#result\n",
      "print \"Present worth of fuel savings in Rs. : \",round(Bp,3);\n",
      "print \"BCratio : \",round(BCratio,3);\n",
      "print\"Since BC ratio is more than 1, the construction of the bridge across the river is justified.\";\n",
      "print\"answers are slightly different from the book due to approximation\""
     ],
     "language": "python",
     "metadata": {},
     "outputs": [
      {
       "output_type": "stream",
       "stream": "stdout",
       "text": [
        "Total present worth of costs in RS. :  5021629.673\n",
        "Present worth of fuel savings in Rs. :  5782527.265\n",
        "BCratio :  1.152\n",
        "Since BC ratio is more than 1, the construction of the bridge across the river is justified.\n",
        "answers are slightly different from the book due to approximation\n"
       ]
      }
     ],
     "prompt_number": 1
    },
    {
     "cell_type": "heading",
     "level": 2,
     "metadata": {},
     "source": [
      "Example 10.2 Page 139"
     ]
    },
    {
     "cell_type": "code",
     "collapsed": false,
     "input": [
      "#initiation of variable\n",
      "Ic=80000000.0;#in Rs.\n",
      "Aps=6000000.0;#in Rs.\n",
      "Afs=3000000.0;#in Rs.\n",
      "Aib=5000000.0;#in Rs.\n",
      "Arb=2000000.0;#in Rs.\n",
      "Amc=3000000.0;#in Rs.\n",
      "i=12.0;#in % per annum\n",
      "n=50.0;#in years\n",
      "\n",
      "#calculation\n",
      "TAB=Afs+Aib+Arb;#in Rs.\n",
      "PW_B=TAB*(((1+i/100)**n)-1)/((i/100)*(1+i/100)**n);#in Rs\n",
      "\n",
      "#result\n",
      "print \"Total present worth of benefits in RS. : \",round(PW_B,3);\n",
      "\n",
      "#Present worth of costs:\n",
      "PW_C=Ic+Amc*(((1+i/100)**n)-1)/((i/100)*(1+i/100)**n)-Aps*(((1+i/100)**n)-1)/((i/100)*(1+i/100)**n);#in RS\n",
      "BCratio=PW_B/PW_C;#unitless\n",
      "\n",
      "#result\n",
      "print \"Present worth of costs in Rs. : \",round(PW_C,3);\n",
      "print \"BCratio : \",round(BCratio,3);\n",
      "print \"Since BC ratio is more than 1, the state govt. can implement the hydroelectric project.\";"
     ],
     "language": "python",
     "metadata": {},
     "outputs": [
      {
       "output_type": "stream",
       "stream": "stdout",
       "text": [
        "Total present worth of benefits in RS. :  83044984.884\n",
        "Present worth of costs in Rs. :  55086504.535\n",
        "BCratio :  1.508\n",
        "Since BC ratio is more than 1, the state govt. can implement the hydroelectric project.\n"
       ]
      }
     ],
     "prompt_number": 3
    },
    {
     "cell_type": "heading",
     "level": 3,
     "metadata": {},
     "source": [
      "Example 10.3 Page 140"
     ]
    },
    {
     "cell_type": "code",
     "collapsed": false,
     "input": [
      "#initiation of variable\n",
      "#alternative 1\n",
      "P=3000000.0;#in Rs.\n",
      "B=900000.0;#in Rs.\n",
      "i=10.0;#in % per annum\n",
      "n=5.0;#in years\n",
      "\n",
      "#calculation\n",
      "AE1=P*((i/100)*(1+i/100)**n)/(((1+i/100)**n)-1);#in Rs\n",
      "BCratio=B/AE1;#unitless\n",
      "\n",
      "#result\n",
      "print \"Annual equivalent of initial cost in Rs. : \",round(AE1,3);\n",
      "print \"BCratio : \",round(BCratio,3);\n",
      "\n",
      "#Alternative A2 : \n",
      "P=6000000.0;#in Rs.\n",
      "B=1500000.0;#in Rs.\n",
      "i=10.0;#in % per annum\n",
      "n=7.0;#in years\n",
      "\n",
      "#calculation\n",
      "AE2=P*((i/100)*(1+i/100)**n)/(((1+i/100)**n)-1);#in Rs\n",
      "BCratio=B/AE2;#unitless\n",
      "\n",
      "#result\n",
      "print \"Annual equivalent of initial cost in Rs. : \",round(AE2,3);\n",
      "print \"BCratio : \",round(BCratio,3);\n",
      "print \"The benefit cost ratio of alternative 2 is more than that of alternative A1. Hence, alternative A2 is to be selected. The comparisoon is made on a 35 years period which is the minimum common multiple of the lives of alternative 1 and 2\";"
     ],
     "language": "python",
     "metadata": {},
     "outputs": [
      {
       "output_type": "stream",
       "stream": "stdout",
       "text": [
        "Annual equivalent of initial cost in Rs. :  791392.442\n",
        "BCratio :  1.137\n",
        "Annual equivalent of initial cost in Rs. :  1232432.998\n",
        "BCratio :  1.217\n",
        "The benefit cost ratio of alternative 2 is more than that of alternative A1. Hence, alternative A2 is to be selected. The comparisoon is made on a 35 years period which is the minimum common multiple of the lives of alternative 1 and 2\n"
       ]
      }
     ],
     "prompt_number": 4
    },
    {
     "cell_type": "heading",
     "level": 2,
     "metadata": {},
     "source": [
      "Example 10.4 Page 141"
     ]
    },
    {
     "cell_type": "code",
     "collapsed": false,
     "input": [
      "#initiation of variable\n",
      "#cost of the state\n",
      "n=20.0;#in years\n",
      "P=2500000000.0;#in Rs.\n",
      "Agt=10000000.0;#in Rs.\n",
      "Ai=1000000.0;#in Rs.\n",
      "Com=48000.0;#in Rs./year/employee\n",
      "C1=Com*300;#in Rs.\n",
      "i=10.0;#in % per annum\n",
      "\n",
      "#calculation\n",
      "C2=P*((i/100)*(1+i/100)**n)/(((1+i/100)**n)-1);#in Rs\n",
      "CA=C2+C1;#in Rs\n",
      "\n",
      "#result\n",
      "print \"Annual equivalent initial cost in Rs. : \",round(C2,3);\n",
      "print \"Total Annual equivalent cost of the project in Rs. : \",round(CA,3);\n",
      "\n",
      "#Benefit to the state : \n",
      "W=30000000.0;#in Rs.\n",
      "A1=W*((i/100)*(1+i/100)**n)/(((1+i/100)**n)-1);#in Rs.\n",
      "Agpy=10000000.0;#in ton/year\n",
      "A2=Agpy*(30-10);#in Rs.\n",
      "AvgAI=1000000.0;#in tons Km.\n",
      "G=20000000.0;#in Rs.\n",
      "\n",
      "#calculation\n",
      "A3=A2+G*(((1+i/100)**n)-i*n/100-1)/(((i/100)*(1+i/100)**n)-i/100) ;#in Rs.\n",
      "BA=A1+A3;#in Rs\n",
      "BCratio=BA/CA;#unitless\n",
      "print \"Annual equivalent average of transport cost saving in Rs. : \",round(A3,3);\n",
      "print \"Total annual equivalent benefits to the state : \",round(BA,3);\n",
      "print \"BCratio : \",round(BCratio,3);\n",
      "print \"The benefit cost ratio is more than 1,the project is justified.\";\n",
      "print \"the slight error in the answer of the book is due to approximation error\""
     ],
     "language": "python",
     "metadata": {},
     "outputs": [
      {
       "output_type": "stream",
       "stream": "stdout",
       "text": [
        "Annual equivalent initial cost in Rs. :  293649061.931\n",
        "Total Annual equivalent cost of the project in Rs. :  308049061.931\n",
        "Annual equivalent average of transport cost saving in Rs. :  330161500.91\n",
        "Total annual equivalent benefits to the state :  333685289.653\n",
        "BCratio :  1.083\n",
        "The benefit cost ratio is more than 1,the project is justified.\n",
        "the slight error in the answer of the book is due to approximation error\n"
       ]
      }
     ],
     "prompt_number": 1
    },
    {
     "cell_type": "heading",
     "level": 2,
     "metadata": {},
     "source": [
      "Example 10.5 Page 143"
     ]
    },
    {
     "cell_type": "code",
     "collapsed": false,
     "input": [
      "#initiation of variable\n",
      "#project A\n",
      "i=9.0;#% per annum\n",
      "n=50.0;#in years\n",
      "P_A=150000000.0;#in RS.\n",
      "Fcs_A=2500000;#in Rs.\n",
      "Ib_A=3500000;#in Rs.\n",
      "Rb_A=1000000;#in RS.\n",
      "OMC_A=2000000.0;#in Rs.\n",
      "Psy_A=10000000.0;#in Rs.\n",
      "\n",
      "#calculation\n",
      "AE_A=P_A*((i/100)*(1+i/100)**n)/(((1+i/100)**n)-1);\n",
      "Cpy_A=AE_A+OMC_A-Psy_A;#in Rs.\n",
      "Bpy_A=Fcs_A+Ib_A+Rb_A;#in Rs.\n",
      "BCratio_A=Bpy_A/Cpy_A;#unitless\n",
      "\n",
      "#result\n",
      "print \"Costs/year : \",round(Cpy_A,3);\n",
      "print \"Benefits/year : \",round(Bpy_A,3);\n",
      "print \"BC Ratio of project A : \",round(BCratio_A,3)\n",
      "\n",
      "\n",
      "#Project B : \n",
      "P_B=250000000.0;#in Rs.\n",
      "\n",
      "OMC_B=2500000.0;#in Rs.\n",
      "Psy_B=12000000.0;#in Rs.\n",
      "Fcs_B=3500000.0;#in Rs.\n",
      "Ib_B=4500000.0;#in Rs.\n",
      "Rb_B=2000000.0;#in RS.\n",
      "AE_B=P_B*((i/100)*(1+i/100)**n)/(((1+i/100)**n)-1);\n",
      "Cpy_B=AE_B+OMC_B-Psy_B;#in Rs.\n",
      "Bpy_B=Fcs_B+Ib_B+Rb_B;#in Rs.\n",
      "BCratio_B=Bpy_B/Cpy_B;#unitless\n",
      "\n",
      "#result\n",
      "print \"Costs/year : \",round(Cpy_B,3);\n",
      "print \"Benefits/year : \",round(Bpy_B,3);\n",
      "print \"BC Ratio of project B : \",round(BCratio_B,3)\n",
      "\n",
      "#Project C : \n",
      "P_C=400000000.0;#in Rs.\n",
      "OMC_C=3500000.0;#in Rs.\n",
      "Psy_C=18000000.0;#in Rs.\n",
      "Fcs_C=5000000.0;#in Rs.\n",
      "Ib_C=6000000.0;#in Rs.\n",
      "Rb_C=3500000.0;#in RS.\n",
      "AE_C=P_C*((i/100)*(1+i/100)**n)/(((1+i/100)**n)-1);\n",
      "Bpy_C=Fcs_C+Ib_C+Rb_C;#in Rs.\n",
      "Cpy_C=AE_C+OMC_C-Psy_C;#in Rs.\n",
      "BCratio_C=Bpy_C/Cpy_C;#unitless\n",
      "\n",
      "#result\n",
      "print \"Costs/year : \",round(Cpy_C,3);\n",
      "print \"Benefits/year : \",round(Bpy_C,3);\n",
      "print \"BC Ratio of project C : \",round(BCratio_C,3)\n",
      "print\"From the computations it is clear that only alternative A is eligible because other two alternatives have BC ratio less than one.\""
     ],
     "language": "python",
     "metadata": {},
     "outputs": [
      {
       "output_type": "stream",
       "stream": "stdout",
       "text": [
        "Costs/year :  5684030.212\n",
        "Benefits/year :  7000000.0\n",
        "BC Ratio of project A :  1.232\n",
        "Costs/year :  13306717.021\n",
        "Benefits/year :  10000000.0\n",
        "BC Ratio of project B :  0.752\n",
        "Costs/year :  21990747.233\n",
        "Benefits/year :  14500000.0\n",
        "BC Ratio of project C :  0.659\n",
        "From the computations it is clear that only alternative A is eligible because other two alternatives have BC ratio less than one.\n"
       ]
      }
     ],
     "prompt_number": 8
    }
   ],
   "metadata": {}
  }
 ]
}