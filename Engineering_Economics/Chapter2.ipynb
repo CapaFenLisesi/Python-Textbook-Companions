{
 "metadata": {
  "name": "",
  "signature": "sha256:579288a5e0685252a970b36dc99c069cd7fb91e6e042c88d50d8eb0615ccf38d"
 },
 "nbformat": 3,
 "nbformat_minor": 0,
 "worksheets": [
  {
   "cells": [
    {
     "cell_type": "heading",
     "level": 1,
     "metadata": {},
     "source": [
      "Elementary Economic Analysis"
     ]
    },
    {
     "cell_type": "heading",
     "level": 2,
     "metadata": {},
     "source": [
      "Example 2.1 Page 16"
     ]
    },
    {
     "cell_type": "code",
     "collapsed": false,
     "input": [
      "#initialisation of variable\n",
      "#Part a \n",
      "w1=1.2;#in Kg\n",
      "c1=80.0;#cost of making aluminium casting in Rs/Kg\n",
      "c2=150.0;#ost of machining aluminium casting per unit in Rs\n",
      "\n",
      "#calculation\n",
      "Tc1=c1*w1+c2;#Total cost of jet engine part made of aluminium per unit in Rs\n",
      "\n",
      "#result\n",
      "print \"Total cost of jet engine part made of aluminium per unit in Rs \",round(Tc1,3)\n",
      "\n",
      "#Part b \n",
      "w2=1.35;#in Kg\n",
      "c1=35.0;#in Rs/Kg\n",
      "c2=170.0;#in Rs\n",
      "c3=1300.0;#in Rs/Kg\n",
      "\n",
      "#calculation\n",
      "Tc2=c1*w2+c2+c3*(w2-w1);#in Rs\n",
      "\n",
      "#result\n",
      "print \"Total cost of jet engine part made of steel per unit in Rs : \",round(Tc2,3);\n",
      "print \"DECISION : The total cost/unit of a jet engine part made of aluminium is less than that for an engine made of steel. Hence, aluminium is suggested for making jet engine part. The economic advantage of aluminium over steel per unit in Rs  \",round(Tc2-Tc1,3)"
     ],
     "language": "python",
     "metadata": {},
     "outputs": [
      {
       "output_type": "stream",
       "stream": "stdout",
       "text": [
        "Total cost of jet engine part made of aluminium per unit in Rs  246.0\n",
        "Total cost of jet engine part made of steel per unit in Rs :  412.25\n",
        "DECISION : The total cost/unit of a jet engine part made of aluminium is less than that for an engine made of steel. Hence, aluminium is suggested for making jet engine part. The economic advantage of aluminium over steel per unit in Rs   166.25\n"
       ]
      }
     ],
     "prompt_number": 1
    },
    {
     "cell_type": "heading",
     "level": 2,
     "metadata": {},
     "source": [
      "Example 2.2, Page 17"
     ]
    },
    {
     "cell_type": "code",
     "collapsed": false,
     "input": [
      "#initialisation of variable\n",
      "#Part a \n",
      "wood=0.1;#in m^3\n",
      "WoodCost=12000.0;#in Rs/m^3\n",
      "Table=1;#in units\n",
      "TableTopCost=3000.0;#in Rs/unit\n",
      "LegBushes=4.0;#units\n",
      "LegBushesCost=10.0;#Rs/units\n",
      "Nails=100.0;#in grams\n",
      "NailsCost=300.0;#in Rs/Kg\n",
      "TotalLabour=15.0;#in Hours\n",
      "TotalLabourCost=50.0;#in Rs/Hours\n",
      "\n",
      "#calcualtion\n",
      "WoodCostframelegs=WoodCost*wood;#in Rs\n",
      "WoodTopCost=3000.0;#in Rs\n",
      "BushesCost=LegBushesCost*LegBushes;#in Rs\n",
      "NailsCost=Nails*NailsCost/1000;#in Rs\n",
      "LabourCost=TotalLabourCost*TotalLabour;#in Rs\n",
      "TotalCost1=WoodCostframelegs+WoodTopCost+BushesCost+NailsCost+LabourCost;#in Rs\n",
      "\n",
      "#result\n",
      "print \"Cost of Table with wooden top in Rs \",round(TotalCost1,3)\n",
      "\n",
      "#given data for table with granite top\n",
      "#Part b \n",
      "wood=0.15;#in m^3\n",
      "WoodCost=12000.0;#in Rs/m^3\n",
      "Granite=1.62;#in m^2\n",
      "GraniteCost=800.0;#in Rs/m^2\n",
      "LegBushes=4.0;#units\n",
      "LegBushesCost=25.0;#Rs/units\n",
      "Nails=50.0;#in grams\n",
      "NailsCost=300.0;#in Rs/Kg\n",
      "TotalLabour=8.0;#in Hours\n",
      "TotalLabourCost=50.0;#in Rs/Hours\n",
      "\n",
      "\n",
      "WoodCostframelegs=WoodCost*wood;#in Rs\n",
      "GraniteTopCost=Granite*GraniteCost;#in Rs\n",
      "BushesCost=LegBushesCost*LegBushes;#in Rs\n",
      "NailsCost=Nails*NailsCost/1000;#in Rs\n",
      "LabourCost=TotalLabourCost*TotalLabour;#in Rs\n",
      "TotalCost2=WoodCostframelegs+GraniteTopCost+BushesCost+NailsCost+LabourCost;#in Rs\n",
      "\n",
      "#result\n",
      "print \"Cost of Table with Granite top in Rs \",round(TotalCost2,3);\n",
      "print \"Economic advantage of table with granite top in Rs  \",round(TotalCost1-TotalCost2,3)"
     ],
     "language": "python",
     "metadata": {},
     "outputs": [
      {
       "output_type": "stream",
       "stream": "stdout",
       "text": [
        "Cost of Table with wooden top in Rs  5020.0\n",
        "Cost of Table with Granite top in Rs  3611.0\n",
        "Economic advantage of table with granite top in Rs   1409.0\n"
       ]
      }
     ],
     "prompt_number": 3
    },
    {
     "cell_type": "heading",
     "level": 2,
     "metadata": {},
     "source": [
      "Example 2.3 Page 19"
     ]
    },
    {
     "cell_type": "code",
     "collapsed": false,
     "input": [
      "#initialisation of variable\n",
      "#design A\n",
      "LatheCost=200.0;#in Rs/hour\n",
      "grinderCost=150.0;#in Rs/hour\n",
      "HoursOfLathe=16.0;#in hours/1000Unit\n",
      "HoursOfGrinder=4.5;#in hours/1000Unit\n",
      "\n",
      "#calcualtion\n",
      "TotalCostA=LatheCost*HoursOfLathe+grinderCost*HoursOfGrinder;#in Rs/1000unit\n",
      "\n",
      "#result\n",
      "print \"Total cost of design A per 100,000 units  \",round(TotalCostA*100000.0/1000,3);\n",
      "\n",
      "# Design B\n",
      "HoursOfLathe=7.0;#in hours/1000Unit\n",
      "HoursOfGrinder=12.0;#in hours/1000Unit\n",
      "TotalCostB=LatheCost*HoursOfLathe+grinderCost*HoursOfGrinder;#in Rs/1000unit\n",
      "\n",
      "#result\n",
      "print \"Total cost of design A per 100,000 units\",round(TotalCostB*100000.0/1000,3);\n",
      "print \"Economic advantage of design B over design A per 100,000 units in Rs  \",round(TotalCostA-TotalCostB,3)*100;"
     ],
     "language": "python",
     "metadata": {},
     "outputs": [
      {
       "output_type": "stream",
       "stream": "stdout",
       "text": [
        "Total cost of design A per 100,000 units   387500.0\n",
        "Total cost of design A per 100,000 units 320000.0\n",
        "Economic advantage of design B over design A per 100,000 units in Rs   67500.0\n"
       ]
      }
     ],
     "prompt_number": 1
    },
    {
     "cell_type": "heading",
     "level": 2,
     "metadata": {},
     "source": [
      "Example 2.4,Page 20"
     ]
    },
    {
     "cell_type": "code",
     "collapsed": false,
     "input": [
      "#initialisation of variable\n",
      "from math import pi\n",
      "Tanks=4.0;#units\n",
      "TankDia=5.2;#in meter\n",
      "\n",
      "#calcualtion\n",
      "TankRad=TankDia/2;#in meters\n",
      "TankHeight=7;#in meters\n",
      "HeightDiaRatio=TankHeight/TankDia;#unitless\n",
      "VolPerTank=(22/7)*TankRad**2*TankHeight;#in m^3\n",
      "h=VolPerTank/(pi)*64;#in meters\n",
      "r=h/8;#in meters\n",
      "d=2*r;#in meters\n",
      "CostNewDesign=900000*(100.0/111);#in Rs\n",
      "\n",
      "#result\n",
      "print \"Expected savings by redesign in Rs  \",round(900000-CostNewDesign,3);"
     ],
     "language": "python",
     "metadata": {},
     "outputs": [
      {
       "output_type": "stream",
       "stream": "stdout",
       "text": [
        "Expected savings by redesign in Rs   89189.189\n"
       ]
      }
     ],
     "prompt_number": 10
    },
    {
     "cell_type": "heading",
     "level": 2,
     "metadata": {},
     "source": [
      "Example 2.5,Page 21"
     ]
    },
    {
     "cell_type": "code",
     "collapsed": false,
     "input": [
      "#initialisation of variable\n",
      "#steel frame\n",
      "distance=2500.0;#in Km\n",
      "TransCost=1.0;#in Rs/Kg/100Km\n",
      "SteelFramePrice=1000.0;#in Rs/Unit\n",
      "SteelFrameWeight=75.0;#in Kg/Unit\n",
      "\n",
      "#calculation\n",
      "TotalCost1=SteelFramePrice+TransCost*SteelFrameWeight*distance/100;#in Rs\n",
      "\n",
      "#result\n",
      "print \"Total cost of steel window frame per unit in Rs  \",round(TotalCost1,3);\n",
      "\n",
      "# Aluminium window frame\n",
      "AlumilniumFramePrice=1500.0;#in Rs/Unit\n",
      "AlumilniumFrameWeight=28.0;#in Kg/Unit\n",
      "\n",
      "#calculation\n",
      "TotalCost2=AlumilniumFramePrice+TransCost*AlumilniumFrameWeight*distance/100;#in Rs\n",
      "\n",
      "#result\n",
      "print \"Total cost of Alumilnium window frame per unit in Rs \",round(TotalCost2,3);\n",
      "print \"DECISION : The total cost per unit of the aluminium window frame is less than that of steel window frame. Hence, Alumilnium window frame is recommended. The Economic advantage per unit of the Alumilnium window frame over steel window frame in Rs  \",round(TotalCost1-TotalCost2,3)"
     ],
     "language": "python",
     "metadata": {},
     "outputs": [
      {
       "output_type": "stream",
       "stream": "stdout",
       "text": [
        "Total cost of steel window frame per unit in Rs   2875.0\n",
        "Total cost of Alumilnium window frame per unit in Rs  2200.0\n",
        "DECISION : The total cost per unit of the aluminium window frame is less than that of steel window frame. Hence, Alumilnium window frame is recommended. The Economic advantage per unit of the Alumilnium window frame over steel window frame in Rs   675.0\n"
       ]
      }
     ],
     "prompt_number": 11
    },
    {
     "cell_type": "heading",
     "level": 2,
     "metadata": {},
     "source": [
      "Example 2.6,Page 23"
     ]
    },
    {
     "cell_type": "code",
     "collapsed": false,
     "input": [
      "#initialisation of variable\n",
      "#Cost of component using process sequence 1\n",
      "print\"The process sequence 1 of the component is as follows : Turning - Milling - Shaping - Drilling\" ;\n",
      "print \"Calculations are summarized in form of table below : \";\n",
      "print \"Operation     Operation       Time       Machine Hour rate     Cost\";\n",
      "print \"   No.                     Min    Hour           Rs.             Rs.\";\n",
      "print \"   1           Turning       5   0.083          200           16.60\";\n",
      "print \"   2           Milling       8   0.133          400           53.20\";\n",
      "print \"   3          Shapiing      10   0.167          350           58.45\";\n",
      "print \"   4          Drilling       3   0.050          300           15.00\";\n",
      "print \"                                                   Total     143.25\";\n",
      "\n",
      "#Cost of component using process sequence 2\n",
      "print \"The process sequence 2 of the component is as follows : Turning - Milling - Drilling\" ;\n",
      "print \"Calculations are summarized in form of table below : \";\n",
      "print \"Operation     Operation       Time       Machine Hour rate     Cost\";\n",
      "print \"   No.                     Min    Hour           Rs.             Rs.\";\n",
      "print \"   1           Turning       5   0.083          200           16.60\";\n",
      "print \"   2           Milling      14   0.233          400           93.20\";\n",
      "print \"   4          Drilling       3   0.050          300           15.00\";\n",
      "print \"                                                   Total     124.80\";\n",
      "\n",
      "#Cost of component using process sequence 3\n",
      "print \"The process sequence 3 of the component is as follows : Only CNC operations\" ;\n",
      "print \"Calculations are summarized in form of table below : \";\n",
      "print \"Operation     Operation       Time       Machine Hour rate     Cost\";\n",
      "print \"   No.                     Min    Hour           Rs.             Rs.\";\n",
      "print \"   1             CNC         8   0.133         1000             133\";\n",
      "\n",
      "print \"The process sequence 2 has the least cost. Therefore, it should be selected for manufacturing the component.\""
     ],
     "language": "python",
     "metadata": {},
     "outputs": [
      {
       "output_type": "stream",
       "stream": "stdout",
       "text": [
        "The process sequence 1 of the component is as follows : Turning - Milling - Shaping - Drilling\n",
        "Calculations are summarized in form of table below : \n",
        "Operation     Operation       Time       Machine Hour rate     Cost\n",
        "   No.                     Min    Hour           Rs.             Rs.\n",
        "   1           Turning       5   0.083          200           16.60\n",
        "   2           Milling       8   0.133          400           53.20\n",
        "   3          Shapiing      10   0.167          350           58.45\n",
        "   4          Drilling       3   0.050          300           15.00\n",
        "                                                   Total     143.25\n",
        "The process sequence 2 of the component is as follows : Turning - Milling - Drilling\n",
        "Calculations are summarized in form of table below : \n",
        "Operation     Operation       Time       Machine Hour rate     Cost\n",
        "   No.                     Min    Hour           Rs.             Rs.\n",
        "   1           Turning       5   0.083          200           16.60\n",
        "   2           Milling      14   0.233          400           93.20\n",
        "   4          Drilling       3   0.050          300           15.00\n",
        "                                                   Total     124.80\n",
        "The process sequence 3 of the component is as follows : Only CNC operations\n",
        "Calculations are summarized in form of table below : \n",
        "Operation     Operation       Time       Machine Hour rate     Cost\n",
        "   No.                     Min    Hour           Rs.             Rs.\n",
        "   1             CNC         8   0.133         1000             133\n",
        "The process sequence 2 has the least cost. Therefore, it should be selected for manufacturing the component.\n"
       ]
      }
     ],
     "prompt_number": 13
    }
   ],
   "metadata": {}
  }
 ]
}