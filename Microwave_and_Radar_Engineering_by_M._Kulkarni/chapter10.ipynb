{
 "metadata": {
  "name": "",
  "signature": "sha256:e0413e9c9e3050091f310d4afb4ca2e525621132a18cab203347bc4619b6cd5d"
 },
 "nbformat": 3,
 "nbformat_minor": 0,
 "worksheets": [
  {
   "cells": [
    {
     "cell_type": "heading",
     "level": 1,
     "metadata": {},
     "source": [
      "chapter10:Microwave Communication Systems"
     ]
    },
    {
     "cell_type": "heading",
     "level": 2,
     "metadata": {},
     "source": [
      "Example 10.1, Page number 486"
     ]
    },
    {
     "cell_type": "code",
     "collapsed": false,
     "input": [
      "#calculate radio horizon and the maximum distance of propagation of the TV signal\n",
      "from math import sqrt\n",
      "\n",
      "#Variable declaration\n",
      "ht = 144      #transmitter antenna height(m)\n",
      "hr = 25       #receiving antenna height(M)\n",
      "\n",
      "#Calculations\n",
      "dt = 4*sqrt(ht)\n",
      "dr = 4*sqrt(hr)\n",
      "d = dt+dr\n",
      "\n",
      "#Results\n",
      "print \"Radio horizon is\",dt,\"km\"\n",
      "print \"The maximum distance of propagation of the TV signal is\",d,\"km\""
     ],
     "language": "python",
     "metadata": {},
     "outputs": [
      {
       "output_type": "stream",
       "stream": "stdout",
       "text": [
        "Radio horizon is 48.0 km\n",
        "The maximum distance of propagation of the TV signal is 68.0 km\n"
       ]
      }
     ],
     "prompt_number": 1
    },
    {
     "cell_type": "heading",
     "level": 2,
     "metadata": {},
     "source": [
      "Example 10.2, Page number 486"
     ]
    },
    {
     "cell_type": "code",
     "collapsed": false,
     "input": [
      "#calculate horizon distance of the transmitter\n",
      "from fractions import Fraction\n",
      "\n",
      "#Variable declaration\n",
      "r = 6370*10**3          #radius of earth(km)\n",
      "du_dh = -0.05*10**-6    #refractive index of air near ground\n",
      "\n",
      "#Calculations\n",
      "k = 1/(1+(r*du_dh))\n",
      "\n",
      "#Result\n",
      "print \"The horizon distance of the transmitter can be modified by replaing r by r' is\",round(k,3),\"r\""
     ],
     "language": "python",
     "metadata": {},
     "outputs": [
      {
       "output_type": "stream",
       "stream": "stdout",
       "text": [
        "The horizon distance of the transmitter can be modified by replaing r by r' is 1.467 r\n"
       ]
      }
     ],
     "prompt_number": 2
    },
    {
     "cell_type": "heading",
     "level": 2,
     "metadata": {},
     "source": [
      "Example 10.3, Page number 487"
     ]
    },
    {
     "cell_type": "code",
     "collapsed": false,
     "input": [
      "#calculate carrier tansmitted power required\n",
      "import math \n",
      "#Variable declaration\n",
      "c = 3.*10**8       #velocity of propagation(m/s)\n",
      "f = 2*10**9       #frequency(Hz)\n",
      "r = 50*10**3      #repeater spacing(km)\n",
      "Pr = 20           #carrier power(dBm)\n",
      "Gt = 34           #antenna gain(dB)\n",
      "L = 10            #dB\n",
      "Gr = 34           #dB\n",
      "\n",
      "#Calculations\n",
      "lamda = c/f\n",
      "Pt = -Pr+(10*math.log10(4*math.pi*r**2))-Gt-(10*math.log10(lamda**2/(4*math.pi)))+L-Gr\n",
      "\n",
      "#Results\n",
      "print \"The carrier tansmitted power required is\",round(Pt,1),\"dBm\""
     ],
     "language": "python",
     "metadata": {},
     "outputs": [
      {
       "output_type": "stream",
       "stream": "stdout",
       "text": [
        "The carrier tansmitted power required is 54.4 dBm\n"
       ]
      }
     ],
     "prompt_number": 3
    },
    {
     "cell_type": "heading",
     "level": 2,
     "metadata": {},
     "source": [
      "Example 10.4, Page number 487"
     ]
    },
    {
     "cell_type": "code",
     "collapsed": false,
     "input": [
      "#calculate Received power\n",
      "import math\n",
      "\n",
      "#Variable declaration\n",
      "f = 6.*10**9     #uplink frequency(Hz)\n",
      "e = 5            #elevation angle(degrees)\n",
      "Pt = 1.*10**3     #transmitter power(W)\n",
      "Gt = 60.         #gain of transmitter(dB)\n",
      "Gr = 0           #gain of receiver(dB)\n",
      "d = 36000*10**3  #distance between ground and satellite(m)\n",
      "c = 3.*10**8     #velocity of propagation(m/s)\n",
      "\n",
      "#Calculation\n",
      "Gt1 = 10**(Gt/10)\n",
      "Gr1 = 10.**(Gr/10)\n",
      "r = d/(math.sin(math.radians(e)))\n",
      "lamda = c/f\n",
      "Pr = (Pt*Gt1*Gr1*lamda**2)/(4*math.pi*r**2*4*math.pi)\n",
      "\n",
      "#Result\n",
      "print \"Received power =\",round((Pr/1E-14),1),\"*10^-14 W\""
     ],
     "language": "python",
     "metadata": {},
     "outputs": [
      {
       "output_type": "stream",
       "stream": "stdout",
       "text": [
        "Received power = 9.3 *10^-14 W\n"
       ]
      }
     ],
     "prompt_number": 4
    },
    {
     "cell_type": "heading",
     "level": 2,
     "metadata": {},
     "source": [
      "Example 10.5, Page number 487"
     ]
    },
    {
     "cell_type": "code",
     "collapsed": false,
     "input": [
      "#calculate Antenna beam angle\n",
      "import math\n",
      "\n",
      "#Variable declaration\n",
      "r = 6371           #radius of the earth(km)\n",
      "\n",
      "#Calculation\n",
      "d = 35855+r        #distance of satellite from center of the earth(km)\n",
      "b = (math.degrees(math.pi)*r)/d\n",
      "\n",
      "#Result\n",
      "print \"Antenna beam angle =\",round(b,2),\"degrees\""
     ],
     "language": "python",
     "metadata": {},
     "outputs": [
      {
       "output_type": "stream",
       "stream": "stdout",
       "text": [
        "Antenna beam angle = 27.16 degrees\n"
       ]
      }
     ],
     "prompt_number": 5
    },
    {
     "cell_type": "heading",
     "level": 2,
     "metadata": {},
     "source": [
      "Example 10.6, Page number 488"
     ]
    },
    {
     "cell_type": "code",
     "collapsed": false,
     "input": [
      "#calculate round trip time between earth station and satellite,round trip time for vertical transmission\n",
      "import math\n",
      "\n",
      "#Variable declaration\n",
      "r = 6371         #radius of earth(km)\n",
      "h = 35855        #height(km) \n",
      "phi = 5          #elevation angle(degrees)\n",
      "c = 3*10**8      #velocity of propagation(m/s)\n",
      "B = 90           #angle for vertical transmission(degrees)\n",
      "\n",
      "#Calculations\n",
      "d = math.sqrt(((r+h)**2)-((r*math.cos(math.radians(phi)))**2))- (r*math.sin(math.radians(phi)))\n",
      "T = (2*d*10**3)/c\n",
      "dv = math.sqrt(((r+h)**2)-(r**2))\n",
      "Tv = (2*(dv-r)*10**3)/c\n",
      "\n",
      "#Results\n",
      "print \"The round trip time between earth station and satellite is\",round((T/1E-3)),\"msec\"\n",
      "print \"The round trip time for vertical transmission is\",round((Tv/1E-3)),\"msec\""
     ],
     "language": "python",
     "metadata": {},
     "outputs": [
      {
       "output_type": "stream",
       "stream": "stdout",
       "text": [
        "The round trip time between earth station and satellite is 275.0 msec\n",
        "The round trip time for vertical transmission is 236.0 msec\n"
       ]
      }
     ],
     "prompt_number": 6
    },
    {
     "cell_type": "heading",
     "level": 2,
     "metadata": {},
     "source": [
      "Example 10.7, Page number 488"
     ]
    },
    {
     "cell_type": "code",
     "collapsed": false,
     "input": [
      "#calculate figure of merit for earth station\n",
      "import math\n",
      "\n",
      "#Variable declaration\n",
      "Tant = 25      #effective noise temperature for antenna(K)\n",
      "Tr = 75        #receiver oise temperature(K)\n",
      "G = 45         #power gain(dB)\n",
      "\n",
      "#Calculations\n",
      "T = Tant+Tr\n",
      "Tdb = 10*math.log10(T)\n",
      "M = G - Tdb\n",
      "\n",
      "#Results\n",
      "print \"The figure of merit for earth station is\",M,\"dB\""
     ],
     "language": "python",
     "metadata": {},
     "outputs": [
      {
       "output_type": "stream",
       "stream": "stdout",
       "text": [
        "The figure of merit for earth station is 25.0 dB\n"
       ]
      }
     ],
     "prompt_number": 7
    },
    {
     "cell_type": "heading",
     "level": 2,
     "metadata": {},
     "source": [
      "Example 10.8, Page number 488"
     ]
    },
    {
     "cell_type": "code",
     "collapsed": false,
     "input": [
      "#calculate carrier to noise ratio\n",
      "#Variable declaration\n",
      "EIRP = 55.5   #satellite ESM(dBW)\n",
      "M = 35        #freespace loss(dB)\n",
      "Lfs = 245.3   #GT of earth station(dB)\n",
      "\n",
      "#Calculation\n",
      "C_No = EIRP + M - Lfs + 228.6\n",
      "\n",
      "#Result\n",
      "print \"The carrier to noise ratio is\",round(C_No,2),\"dB\""
     ],
     "language": "python",
     "metadata": {},
     "outputs": [
      {
       "output_type": "stream",
       "stream": "stdout",
       "text": [
        "The carrier to noise ratio is 73.8 dB\n"
       ]
      }
     ],
     "prompt_number": 8
    },
    {
     "cell_type": "heading",
     "level": 2,
     "metadata": {},
     "source": [
      "Example 10.9, Page number 489"
     ]
    },
    {
     "cell_type": "code",
     "collapsed": false,
     "input": [
      "#calculate system noise temperature\n",
      "import math\n",
      "\n",
      "#Variable declaration\n",
      "D = 30         #diameter of dish(m)\n",
      "f = 4*10**9    #downlink frequency(Hz)\n",
      "M = 20         #G/T ratio of earth station\n",
      "c = 3.*10**8    #velocity of propagation(m/s)\n",
      "\n",
      "#Calculations\n",
      "Ae = (math.pi*D**2)/4\n",
      "lamda = c/f\n",
      "G = (4*math.pi*Ae)/lamda**2\n",
      "Gdb = 10*math.log10(G)\n",
      "Ts = Gdb - M\n",
      "\n",
      "#Result\n",
      "print \"The system noise temperature is\",round(Ts),\"dB\" "
     ],
     "language": "python",
     "metadata": {},
     "outputs": [
      {
       "output_type": "stream",
       "stream": "stdout",
       "text": [
        "The system noise temperature is 42.0 dB\n"
       ]
      }
     ],
     "prompt_number": 9
    },
    {
     "cell_type": "heading",
     "level": 2,
     "metadata": {},
     "source": [
      "Example 10.10, Page number 489"
     ]
    },
    {
     "cell_type": "code",
     "collapsed": false,
     "input": [
      "#chapter-10 page 489 example 10.10\n",
      "#calculate Diameter of the circular mouth of a parabolic antenna, Half Power BeamWidth of the antenna\n",
      "#For a parabolic antenna\n",
      "import math\n",
      "Gp=1500.;#Power gain\n",
      "w=0.1;#wavelength in m\n",
      "\n",
      "#CALCULATION\n",
      "D=math.sqrt(Gp)*(w/(math.pi));#Diameter of the circular mouth of a parabolic antenna in m\n",
      "HPBW=58*(w/D);#Half Power BeamWidth of the antenna in deg\n",
      "\n",
      "#OUTPUT\n",
      "print '%s %.4f %s %s %.3f %s'%('\\nDiameter of the circular mouth of a parabolic antenna is D=',D,'m','\\nHalf Power BeamWidth of the antenna is HPBW=',HPBW,'deg');\n"
     ],
     "language": "python",
     "metadata": {},
     "outputs": [
      {
       "output_type": "stream",
       "stream": "stdout",
       "text": [
        "\n",
        "Diameter of the circular mouth of a parabolic antenna is D= 1.2328 m \n",
        "Half Power BeamWidth of the antenna is HPBW= 4.705 deg\n"
       ]
      }
     ],
     "prompt_number": 10
    },
    {
     "cell_type": "heading",
     "level": 2,
     "metadata": {},
     "source": [
      "Example 10.11, Page number 490"
     ]
    },
    {
     "cell_type": "code",
     "collapsed": false,
     "input": [
      "#chapter-10 page 490 example 10.11\n",
      "#calculate Overall gain that can be expected, Overall gain of the system\n",
      "import math\n",
      "D=1.;#Assume diameter of the parabolic reflectors in the original system in m\n",
      "w=1.;#Assume wavelength in m\n",
      "\n",
      "#CALCULATION\n",
      "D1=2.*D;#diameter of the parabolic reflectors in the modified system in m\n",
      "G=6.*(D/w)**2.;#gain in original system\n",
      "G1=6.*(D1/w)**2.;#gain in modified system\n",
      "GdB=10.*math.log10(G1/G);#Overall gain that can be expected in dB\n",
      "GdBo=2.*GdB;#Overall gain of the system(combining the two antennas one at the Tx and other at the Rx) in dB\n",
      "\n",
      "#OUTPUT\n",
      "print '%s %.f %s %s %.f %s' %('\\nOverall gain that can be expected is GdB=',GdB,'dB', '\\nOverall gain of the system(combining the two antennas one at the Tx and other at the Rx) is GdBo=',GdBo,'dB');\n",
      "\n",
      "#Note: Check the answer once ..it should be GdB=10log(4)=6 dB and GdBo=12dB\n"
     ],
     "language": "python",
     "metadata": {},
     "outputs": [
      {
       "output_type": "stream",
       "stream": "stdout",
       "text": [
        "\n",
        "Overall gain that can be expected is GdB= 6 dB \n",
        "Overall gain of the system(combining the two antennas one at the Tx and other at the Rx) is GdBo= 12 dB\n"
       ]
      }
     ],
     "prompt_number": 11
    },
    {
     "cell_type": "heading",
     "level": 2,
     "metadata": {},
     "source": [
      "Example 10.12, Page number 490"
     ]
    },
    {
     "cell_type": "code",
     "collapsed": false,
     "input": [
      "#chapter-10 page 490 example 10.12\n",
      "#calculate a)beamwidth between first nulls\n",
      "#calculate b)beamwidth between half power points\n",
      "\n",
      "\n",
      "D=3.##dimension of a paraboloid in m\n",
      "f=3.*10.**9.##frequency (S band) in Hz\n",
      "c=3.*10.**8.##Velocity of light in m/sec\n",
      "\n",
      "#CALCULATION\n",
      "w=c/f##wave length in m\n",
      "BWFN=140.*(w/D)##BeamWidth between First Nulls in deg\n",
      "BWHP=70.*(w/D)##BeamWidth between HalfPower points in deg\n",
      "G=6.*(D/w)**2.##Gain of the antenna \n",
      "\n",
      "#OUTPUT\n",
      "print '%s %.2f %s %s %.2f %s %s %.f' %('BeamWidth between First Nulls is BWFN=',BWFN,'deg','\\nBeamWidth between HalfPower points is BWHP=',BWHP,'deg','\\nGain of the Antenna is G=',G)#\n"
     ],
     "language": "python",
     "metadata": {},
     "outputs": [
      {
       "output_type": "stream",
       "stream": "stdout",
       "text": [
        "BeamWidth between First Nulls is BWFN= 4.67 deg \n",
        "BeamWidth between HalfPower points is BWHP= 2.33 deg \n",
        "Gain of the Antenna is G= 5400\n"
       ]
      }
     ],
     "prompt_number": 12
    },
    {
     "cell_type": "heading",
     "level": 2,
     "metadata": {},
     "source": [
      "Example 10.13, Page number 490"
     ]
    },
    {
     "cell_type": "code",
     "collapsed": false,
     "input": [
      "#calculate power gain of optimum horn antenna\n",
      "#Variable declaration\n",
      "A = 5\n",
      "\n",
      "#Calculation\n",
      "Gp = 4.5*A**2\n",
      "\n",
      "#Result\n",
      "print \"Power gain of optimum horn antenna =\",Gp\n"
     ],
     "language": "python",
     "metadata": {},
     "outputs": [
      {
       "output_type": "stream",
       "stream": "stdout",
       "text": [
        "Power gain of optimum horn antenna = 112.5\n"
       ]
      }
     ],
     "prompt_number": 13
    }
   ],
   "metadata": {}
  }
 ]
}