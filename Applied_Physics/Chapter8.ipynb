{
 "metadata": {
  "name": "",
  "signature": "sha256:aecad4e644a378cab0352aa29e9045a53c52646739e4f4bd6cdff80f1d0741e6"
 },
 "nbformat": 3,
 "nbformat_minor": 0,
 "worksheets": [
  {
   "cells": [
    {
     "cell_type": "heading",
     "level": 1,
     "metadata": {},
     "source": [
      "Chapter 8:Magnetic Properties"
     ]
    },
    {
     "cell_type": "heading",
     "level": 2,
     "metadata": {},
     "source": [
      "Example 8.1 , Page no:236"
     ]
    },
    {
     "cell_type": "code",
     "collapsed": false,
     "input": [
      "import math\n",
      "from __future__ import division\n",
      "\n",
      "#given\n",
      "X=-0.5E-5; #magnetic susceptibility of silicon\n",
      "H=0.9E4; #in A/m (magnetic field intensity)\n",
      "mu0=4*3.14*1E-7; #in H/m (absolute permeability)\n",
      "\n",
      "#calculate\n",
      "I=X*H; #calculation of intensity of magnetism\n",
      "B=mu0*H*(1+X); #calculation of magnetic flux density\n",
      "\n",
      "#result\n",
      "print\"The intensity of magnetism is I=\",I,\"A/m\";\n",
      "print\"The magnetic flux density is B=\",round(B,3),\"Wb/m^2\";\n",
      "print \"NOTE: The answer in the textbook is wrong\" "
     ],
     "language": "python",
     "metadata": {},
     "outputs": [
      {
       "output_type": "stream",
       "stream": "stdout",
       "text": [
        "The intensity of magnetism is I= -0.045 A/m\n",
        "The magnetic flux density is B= 0.011 Wb/m^2\n",
        "NOTE: The answer in the textbook is wrong\n"
       ]
      }
     ],
     "prompt_number": 1
    },
    {
     "cell_type": "heading",
     "level": 2,
     "metadata": {},
     "source": [
      "Example 8.2 , Page no:236"
     ]
    },
    {
     "cell_type": "code",
     "collapsed": false,
     "input": [
      "import math\n",
      "from __future__ import division\n",
      "\n",
      "#given\n",
      "r=0.052; #in nm (radius of orbit)\n",
      "B=1; #in Wb/m^2 (magnetic field of induction)\n",
      "e=1.6E-19; #in C (charge of electron)\n",
      "m=9.1E-31; #in Kg (mass of electron)\n",
      "\n",
      "#calculate\n",
      "r=0.052*1E-9; #changing unit from nm to m\n",
      "d_mu=(e**2*r**2*B)/(4*m); #calculation of change in magnetic moment\n",
      "\n",
      "#result\n",
      "print\"The change in magnetic moment is =\",d_mu,\"Am^2\";\n",
      "print \"NOTE: The answer in the textbook is wrong\" "
     ],
     "language": "python",
     "metadata": {},
     "outputs": [
      {
       "output_type": "stream",
       "stream": "stdout",
       "text": [
        "The change in magnetic moment is = 1.90171428571e-29 Am^2\n",
        "NOTE: The answer in the textbook is wrong\n"
       ]
      }
     ],
     "prompt_number": 2
    },
    {
     "cell_type": "heading",
     "level": 2,
     "metadata": {},
     "source": [
      "Example 8.3 , Page no:236"
     ]
    },
    {
     "cell_type": "code",
     "collapsed": false,
     "input": [
      "import math\n",
      "from __future__ import division\n",
      "\n",
      "#given\n",
      "H=220; #in A/m (magnetic field intensity)\n",
      "I=3300; #in A/m (intensity of magnetisation)\n",
      "\n",
      "#calculate\n",
      "mu_r=1+(I/H); #calculation of relative permeability\n",
      "\n",
      "#result\n",
      "print\"The relative permeability of a ferromagentic material is =\",mu_r;"
     ],
     "language": "python",
     "metadata": {},
     "outputs": [
      {
       "output_type": "stream",
       "stream": "stdout",
       "text": [
        "The relative permeability of a ferromagentic material is = 16.0\n"
       ]
      }
     ],
     "prompt_number": 3
    },
    {
     "cell_type": "heading",
     "level": 2,
     "metadata": {},
     "source": [
      "Example 8.4 , Page no:236"
     ]
    },
    {
     "cell_type": "code",
     "collapsed": false,
     "input": [
      "import math\n",
      "from __future__ import division\n",
      "\n",
      "#given\n",
      "I=3000; #in A/m (intensity of magnetisation)\n",
      "B=0.005; #in Wb/m^2 (magnetic flus intensity)\n",
      "pi=3.14; #value of pi used in the solution\n",
      "mu0=4*pi*1E-7; #in H/m (absolute permeability)\n",
      "\n",
      "#calculate\n",
      "H=(B/mu0)-I; #calculation of magnetic force\n",
      "mu_r=(I/H)+1; #calculation of relative permeability\n",
      "\n",
      "#result\n",
      "print\"The magnetic force is  H=\",H;\n",
      "print\"The relative permeability is =\",mu_r;"
     ],
     "language": "python",
     "metadata": {},
     "outputs": [
      {
       "output_type": "stream",
       "stream": "stdout",
       "text": [
        "The magnetic force is  H= 980.891719745\n",
        "The relative permeability is = 4.05844155844\n"
       ]
      }
     ],
     "prompt_number": 4
    },
    {
     "cell_type": "heading",
     "level": 2,
     "metadata": {},
     "source": [
      "Example 8.5 , Page no:237"
     ]
    },
    {
     "cell_type": "code",
     "collapsed": false,
     "input": [
      "import math\n",
      "from __future__ import division\n",
      "\n",
      "#given\n",
      "H=4E3; #in A/m (magnetic field intensity)\n",
      "N=60; #number of turns\n",
      "l=12; #in cm (length of solenoid)\n",
      "\n",
      "#calculate\n",
      "n=N/(l*1E-2); #calculation of number of turns per unit metre\n",
      "#Snice H=n*i;\n",
      "i=H/n; #calculation of current through the solenoid\n",
      "\n",
      "#result\n",
      "print\"The current through the solenoid is i=\",i,\"A\";"
     ],
     "language": "python",
     "metadata": {},
     "outputs": [
      {
       "output_type": "stream",
       "stream": "stdout",
       "text": [
        "The current through the solenoid is i= 8.0 A\n"
       ]
      }
     ],
     "prompt_number": 5
    },
    {
     "cell_type": "heading",
     "level": 2,
     "metadata": {},
     "source": [
      "Example 8.6 , Page no:237"
     ]
    },
    {
     "cell_type": "code",
     "collapsed": false,
     "input": [
      "import math\n",
      "from __future__ import division\n",
      "\n",
      "#given\n",
      "l=30; #in cm (length of solenoid)\n",
      "A=1; #in cm^2 (cross-sectional area)\n",
      "N=300; #number of turns\n",
      "i=0.032; #in A (current through the winding)\n",
      "phi_B=2E-6; #in Wb (magnetic flux)\n",
      "pi=3.14; #value of pi used in the solution\n",
      "mu0=4*pi*1E-7; #in H/m (absolute permeability)\n",
      "\n",
      "#calculate\n",
      "l=l*1E-2; #changing unit from cm to m\n",
      "A=A*1E-4; #changing unit from cm^2 to m^2\n",
      "B=phi_B/A; #calculation of flux density\n",
      "H=N*i/l; #calculation of magnetic intensity\n",
      "mu=B/H; #calcluation of absolute permeability of iron\n",
      "mu_r=mu/mu0; #calcluation of relative permeability of iron\n",
      "\n",
      "#result\n",
      "print\"The flux density is B=\",B,\"Wb/m^2\";\n",
      "print\"The magnetic intensity is H=\",H,\"A-turns/m\";\n",
      "print\"The relative permeability of iron is =\",round(mu_r),\"    (roundoff error)\";\n"
     ],
     "language": "python",
     "metadata": {},
     "outputs": [
      {
       "output_type": "stream",
       "stream": "stdout",
       "text": [
        "The flux density is B= 0.02 Wb/m^2\n",
        "The magnetic intensity is H= 32.0 A-turns/m\n",
        "The relative permeability of iron is = 498.0     (roundoff error)\n"
       ]
      }
     ],
     "prompt_number": 6
    },
    {
     "cell_type": "heading",
     "level": 2,
     "metadata": {},
     "source": [
      "Example 8.7 , Page no:238"
     ]
    },
    {
     "cell_type": "code",
     "collapsed": false,
     "input": [
      "import math\n",
      "from __future__ import division\n",
      "\n",
      "#given\n",
      "A=100; #in m^2 (area of Hysteresis loop)\n",
      "B=0.01; #in Wb/m^2 (unit space along vertical axis or magnetic flux density)\n",
      "H=40; #in A/m (unit space along horizontal axis or magnetic fild ntensity)\n",
      "\n",
      "#calculate\n",
      "H_L=A*B*H; #calculation of magnetic intensity\n",
      "\n",
      "#result\n",
      "print\"The Hystersis loss per cycle is =\",round(H_L),\"J/m^2\";"
     ],
     "language": "python",
     "metadata": {},
     "outputs": [
      {
       "output_type": "stream",
       "stream": "stdout",
       "text": [
        "The Hystersis loss per cycle is = 40.0 J/m^2\n"
       ]
      }
     ],
     "prompt_number": 7
    }
   ],
   "metadata": {}
  }
 ]
}