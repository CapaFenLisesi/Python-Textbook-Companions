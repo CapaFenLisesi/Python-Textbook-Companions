{
 "metadata": {
  "name": "",
  "signature": "sha256:5117f9d565431f3f25738652845b14f8a6fa036b5c0992b0b2e5d69631937306"
 },
 "nbformat": 3,
 "nbformat_minor": 0,
 "worksheets": [
  {
   "cells": [
    {
     "cell_type": "heading",
     "level": 1,
     "metadata": {},
     "source": [
      "Chapter 7:Dielectric Properties"
     ]
    },
    {
     "cell_type": "heading",
     "level": 2,
     "metadata": {},
     "source": [
      "Example 7.1 , Page no:187"
     ]
    },
    {
     "cell_type": "code",
     "collapsed": false,
     "input": [
      "import math\n",
      "from __future__ import division\n",
      "\n",
      "#given\n",
      "A=100; #in cm^2 (cross-sectional area)\n",
      "d=1; #in cm (seperation between plates)\n",
      "Eo=8.85E-12; #in F/m (absolute permittivity)\n",
      "V=100; #in V (potential difference)\n",
      "\n",
      "#calculate\n",
      "A1=A*1E-4; #changing unit from cm^2 to m^2\n",
      "d1=d*1E-2; #changing unit from cm to m\n",
      "C=Eo*A1/d1; #calculation of capacitance\n",
      "Q=C*V; #calculation of charge\n",
      "C1=C*1E12; #changing unit of capacitance from F to pF\n",
      "\n",
      "#result\n",
      "print\"The capacitance of capacitor is C=\",C,\"C\";\n",
      "print\"\\t\\t\\t\\t =\",C1,\"C\";\n",
      "print\"The charge on the plates is Q=\",Q,\"C\";"
     ],
     "language": "python",
     "metadata": {},
     "outputs": [
      {
       "output_type": "stream",
       "stream": "stdout",
       "text": [
        "The capacitance of capacitor is C= 8.85e-12 C\n",
        "\t\t\t\t = 8.85 C\n",
        "The charge on the plates is Q= 8.85e-10 C\n"
       ]
      }
     ],
     "prompt_number": 1
    },
    {
     "cell_type": "heading",
     "level": 2,
     "metadata": {},
     "source": [
      "Example 7.2 , Page no:187"
     ]
    },
    {
     "cell_type": "code",
     "collapsed": false,
     "input": [
      "import math\n",
      "from __future__ import division\n",
      "\n",
      "#given\n",
      "A=650; #in mm^2 (cross-sectional area)\n",
      "d=4; #in mm (seperation between plates)\n",
      "Eo=8.85E-12; #in F/m (absolute permittivity)\n",
      "Er=3.5; #di-electric constant of the material\n",
      "Q=2E-10; #in C (charge on plates)\n",
      "\n",
      "#calculate\n",
      "A1=A*1E-6; #changing unit from mm^2 to m^2\n",
      "d1=d*1E-3; #changing unit from mm to m\n",
      "C=Er*Eo*A1/d1; #calculation of capacitance\n",
      "V=Q/C; #calculation of charge\n",
      "C1=C*1E12; #changing unit of capacitance from F to pF\n",
      "\n",
      "#result\n",
      "print\"The capacitance of capacitor is C=\",C,\"C\",\n",
      "print\"\\n\\t\\t\\t         =\",C1,\"pF\";\n",
      "print\"The resultant voltage across the capacitor is V=\",round(V,3),\"V\";\n",
      "print \"NOTE: The answer in the textbook is wrong\" "
     ],
     "language": "python",
     "metadata": {},
     "outputs": [
      {
       "output_type": "stream",
       "stream": "stdout",
       "text": [
        "The capacitance of capacitor is C= 5.0334375e-12 C \n",
        "\t\t\t         = 5.0334375 pF\n",
        "The resultant voltage across the capacitor is V= 39.734 V\n",
        "NOTE: The answer in the textbook is wrong\n"
       ]
      }
     ],
     "prompt_number": 2
    },
    {
     "cell_type": "heading",
     "level": 2,
     "metadata": {},
     "source": [
      "Example 7.3 , Page no:188"
     ]
    },
    {
     "cell_type": "code",
     "collapsed": false,
     "input": [
      "import math\n",
      "from __future__ import division\n",
      "\n",
      "#given\n",
      "N=2.7E25; #in 1/m^3 (density of atoms)\n",
      "E=1E6; #in V/m (electric field)\n",
      "Z=2; #atomic number of Helium \n",
      "Eo=8.85E-12; #in F/m (absolute permittivity)\n",
      "Er=1.0000684; #(dielectric constant of the material)\n",
      "e=1.6E-19; #in C (charge of electron)\n",
      "pi=3.14; #value of pi used in the solution\n",
      "\n",
      "#calculate\n",
      "#since  alpha=Eo*(Er-1)/N=4*pi*Eo*r_0^3 \n",
      "#Therefore we have r_0^3=(Er-1)/(4*pi*N)\n",
      "r_0=((Er-1)/(4*pi*N))**(1/3); #calculation of radius of electron cloud\n",
      "x=4*pi*Eo*E*r_0/(Z*e); #calculation of dispalcement\n",
      "\n",
      "#result\n",
      "print\"The radius of electron cloud is r_0=\",r_0,\"m\";\n",
      "print\"The displacement is x=\",x,\"m\";\n",
      "print \"NOTE: The answer in the textbook is wrong\""
     ],
     "language": "python",
     "metadata": {},
     "outputs": [
      {
       "output_type": "stream",
       "stream": "stdout",
       "text": [
        "The radius of electron cloud is r_0= 5.86454377988e-11 m\n",
        "The displacement is x= 20371.2258874 m\n",
        "NOTE: The answer in the textbook is wrong\n"
       ]
      }
     ],
     "prompt_number": 3
    },
    {
     "cell_type": "heading",
     "level": 2,
     "metadata": {},
     "source": [
      "Example 7.4 , Page no:188"
     ]
    },
    {
     "cell_type": "code",
     "collapsed": false,
     "input": [
      "import math\n",
      "from __future__ import division\n",
      "\n",
      "#given\n",
      "K=1.000134; #di-elecrtic constant of the neon gas at NTP\n",
      "E=90000; #in V/m (electric field)\n",
      "Eo=8.85E-12; #in C/N-m^2 (absolute premittivity)\n",
      "N_A=6.023E26; #in atoms/Kg-mole (Avogadro's number)\n",
      "V=22.4; #in m^3 (volume of gas at NTP\n",
      "\n",
      "#calculate\n",
      "n=N_A/V; #calculaton of density of atoms\n",
      "#Since P=n*p=(k-1)*Eo*E\n",
      "#therefore we have\n",
      "p=(K-1)*Eo*E/n; #calculation of dipole moment induced\n",
      "alpha=p/E; #calculation of atomic polarisability\n",
      "\n",
      "#result\n",
      "print\"The dipole moment induced in each atom is p=\",p,\"C-m\";\n",
      "print\"The atomic polarisability of neon is =\",alpha,\"c-m^2/V\";\n",
      "print \"NOTE: The answer in the textbook is wrong\""
     ],
     "language": "python",
     "metadata": {},
     "outputs": [
      {
       "output_type": "stream",
       "stream": "stdout",
       "text": [
        "The dipole moment induced in each atom is p= 3.96940793625e-36 C-m\n",
        "The atomic polarisability of neon is = 4.4104532625e-41 c-m^2/V\n",
        "NOTE: The answer in the textbook is wrong\n"
       ]
      }
     ],
     "prompt_number": 4
    },
    {
     "cell_type": "heading",
     "level": 2,
     "metadata": {},
     "source": [
      "Example 7.5 , Page no:189"
     ]
    },
    {
     "cell_type": "code",
     "collapsed": false,
     "input": [
      "import math\n",
      "from __future__ import division\n",
      "\n",
      "#given\n",
      "Er=3.75; #di-elecrtic constant of sulphur at 27 degree Celcius\n",
      "gama=1/3; #internal field constant\n",
      "p=2050; #in Kg/m^3 (density)\n",
      "M_A=32; #in amu (atomic weight of sulphur)\n",
      "Eo=8.85E-12; #in F/m (absolute permittivity)\n",
      "N=6.022E23; #Avogadro's number\n",
      "\n",
      "#calculate\n",
      "#Since ((Er-1)/(Er+2))*(M_A/p)=(N/(3*Eo))*alpha_e\n",
      "#therefore we have\n",
      "alpha_e=((Er-1)/(Er+2))*(M_A/p)*(3*Eo/N); #calculation of electronic polarisability of sulphur\n",
      "\n",
      "#result\n",
      "print\"The electronic polarisability of sulphur is =\",alpha_e,\"Fm^2   (roundoff error)\";\n"
     ],
     "language": "python",
     "metadata": {},
     "outputs": [
      {
       "output_type": "stream",
       "stream": "stdout",
       "text": [
        "The electronic polarisability of sulphur is = 3.29143088985e-37 Fm^2   (roundoff error)\n"
       ]
      }
     ],
     "prompt_number": 5
    },
    {
     "cell_type": "heading",
     "level": 2,
     "metadata": {},
     "source": [
      "Example 7.6 , Page no:189"
     ]
    },
    {
     "cell_type": "code",
     "collapsed": false,
     "input": [
      "import math\n",
      "from __future__ import division\n",
      "\n",
      "#given\n",
      "Er=1.0000684; #di-elecrtic constant of Helium gas at NTP\n",
      "Eo=8.85E-12; #in F/m (absolute permittivity)\n",
      "N=2.7E25; #number of atomsper unit volume\n",
      "\n",
      "#calculate\n",
      "#Since Er-1=(N/Eo)*alpha_e\n",
      "#therefore we have\n",
      "alpha_e=Eo*(Er-1)/N; #calculation of electronic polarisability of Helium\n",
      "\n",
      "#result\n",
      "print\"The electronic polarisability of Helium gas is =\",alpha_e,\"Fm^2    (roundoff error)\";\n"
     ],
     "language": "python",
     "metadata": {},
     "outputs": [
      {
       "output_type": "stream",
       "stream": "stdout",
       "text": [
        "The electronic polarisability of Helium gas is = 2.242e-41 Fm^2    (roundoff error)\n"
       ]
      }
     ],
     "prompt_number": 6
    },
    {
     "cell_type": "heading",
     "level": 2,
     "metadata": {},
     "source": [
      "Example 7.7 , Page no:190"
     ]
    },
    {
     "cell_type": "code",
     "collapsed": false,
     "input": [
      "import math\n",
      "from __future__ import division\n",
      "\n",
      "#given\n",
      "N=3E28; #in atoms/m^3 (density of atoms)\n",
      "alpha_e=1E-40; #in F-m^2 (electronic polarisability)\n",
      "Eo=8.85E-12; #in F/m (absolute permittivity)\n",
      "\n",
      "#calculate\n",
      "#Since (Er-1)/(Er+2)=N*alpha_e/(3*Eo)\n",
      "#therefore we have\n",
      "Er=(2*(N*alpha_e/(3*Eo))+1)/(1-(N*alpha_e/(3*Eo)));\n",
      "#calculation of dielectric constant of the material\n",
      "\n",
      "#result\n",
      "print\"The dielectric constant of the material is Er=\",Er,\"F/m\",\n",
      "print \"NOTE: The answer in the book is wrong \""
     ],
     "language": "python",
     "metadata": {},
     "outputs": [
      {
       "output_type": "stream",
       "stream": "stdout",
       "text": [
        "The dielectric constant of the material is Er= 1.3821656051 F/m NOTE: The answer in the book is wrong \n"
       ]
      }
     ],
     "prompt_number": 7
    },
    {
     "cell_type": "heading",
     "level": 2,
     "metadata": {},
     "source": [
      "Example 7.8 , Page no:190"
     ]
    },
    {
     "cell_type": "code",
     "collapsed": false,
     "input": [
      "import math\n",
      "from __future__ import division\n",
      "\n",
      "#given\n",
      "Er=4; #relative permittivity of sulphur\n",
      "Eo=8.85E-12; #in F/m (absolute permittivity)\n",
      "NA=2.08E3; #in Kg/m^3 (density of atoms in sulphur)\n",
      "\n",
      "#calculate\n",
      "#Since ((Er-1)/(Er+2))*(M_A/p)=(N/(3*Eo))*alpha_e\n",
      "#therefore we have\n",
      "alpha_e=((Er-1)/(Er+2))*(3*Eo/NA); #calculation of electronic polarisability of sulphur\n",
      "\n",
      "#result\n",
      "print\"The electronic polarisability of sulphur is =\",alpha_e,\"Fm^2\";\n",
      "print \"NOTE: The answer in the book is wrong and they used the wrong formula \" \n"
     ],
     "language": "python",
     "metadata": {},
     "outputs": [
      {
       "output_type": "stream",
       "stream": "stdout",
       "text": [
        "The electronic polarisability of sulphur is = 6.38221153846e-15 Fm^2\n",
        "NOTE: The answer in the book is wrong and they used the wrong formula \n"
       ]
      }
     ],
     "prompt_number": 8
    },
    {
     "cell_type": "heading",
     "level": 2,
     "metadata": {},
     "source": [
      "Example 7.9 , Page no:190"
     ]
    },
    {
     "cell_type": "code",
     "collapsed": false,
     "input": [
      "import math\n",
      "from __future__ import division\n",
      "\n",
      "#given\n",
      "alpha1=2.5E-39; #in C^2-m/N (dielectric constant at 300K)\n",
      "alpha2=2.0E-39; #in C^2-m/N (dielectric constant at 400K)\n",
      "T1=300; #in K(first temperature)\n",
      "T2=400; #in K(second temperature)\n",
      "\n",
      "#calculate\n",
      "#since alpha=alpha_d+alpha0 and alpha0=Beta/T\n",
      "#therefore alpha=alpha_d+(Beta/T)\n",
      "#since alpha1=alpha_d+(Beta/T1)  and alpha2=alpha_d+(Beta/T2)\n",
      "#therefore alpha1-apha2=Beta*((1/T1)-(1/T2))\n",
      "#or Beta= (alpha1-apha2)/ ((1/T1)-(1/T2))\n",
      "Beta= (alpha1-alpha2)/ ((1/T1)-(1/T2)); #calculation of Beta\n",
      "alpha_d=alpha1-(Beta/T1); #calculation of polarisability due to defromation\n",
      "alpha0_1=Beta/T1; #calculation of polarisability due to permanent dipole moment at 300K\n",
      "alpha0_2=Beta/T2;  #calculation of polarisability due to permanent dipole moment at 400K\n",
      "\n",
      "#result\n",
      "print\"The polarisability due to permanent dipole moment at 300K is =\",alpha0_1,\"C^2-m/N\";\n",
      "print\"The polarisability due to permanent dipole moment at 400K is =\",alpha0_2,\"C^2-m/N\";\n",
      "print\"The polarisability due to deformation of the molecules is =\",alpha_d,\"C^2-m/N\";"
     ],
     "language": "python",
     "metadata": {},
     "outputs": [
      {
       "output_type": "stream",
       "stream": "stdout",
       "text": [
        "The polarisability due to permanent dipole moment at 300K is = 2e-39 C^2-m/N\n",
        "The polarisability due to permanent dipole moment at 400K is = 1.5e-39 C^2-m/N\n",
        "The polarisability due to deformation of the molecules is = 5e-40 C^2-m/N\n"
       ]
      }
     ],
     "prompt_number": 9
    },
    {
     "cell_type": "heading",
     "level": 2,
     "metadata": {},
     "source": [
      "Example 7.10 , Page no:191"
     ]
    },
    {
     "cell_type": "code",
     "collapsed": false,
     "input": [
      "import math\n",
      "from __future__ import division\n",
      "\n",
      "#given\n",
      "n=1.5; #refractive index\n",
      "Er=5.6; #dielectric constant\n",
      "\n",
      "#calculate\n",
      "#since (Er-1)/(Er+2)=N*(alpha_e+alpha_i)/(3*E0)   Clausius-Mossotti equation\n",
      "#and  (n^2-1)/(n^2+2)=N*alpha_e/(3*E0) \n",
      "#from above two equations, we get  ((n^2-1)/(n^2+2))*((Er+2)/(Er-1))=alpha_e/(alpha_e+alpha_i)\n",
      "#or alpha_i/ (alpha_e+alpha_i)= 1-((n^2-1)/(n^2+2))*((Er+2)/(Er-1))= (say P)\n",
      "#where P is fractional ionisational polarisability\n",
      "P=1-((n**2-1)/(n**2+2))*((Er+2)/(Er-1)); #calculation of fractional ionisational polarisability\n",
      "P1=P*100; #calculation of percentage of  ionisational polarisability\n",
      "\n",
      "#result\n",
      "print\"The percentage of  ionisational polarisability is =\",P1,\"percent\";"
     ],
     "language": "python",
     "metadata": {},
     "outputs": [
      {
       "output_type": "stream",
       "stream": "stdout",
       "text": [
        "The percentage of  ionisational polarisability is = 51.4066496164 percent\n"
       ]
      }
     ],
     "prompt_number": 10
    }
   ],
   "metadata": {}
  }
 ]
}