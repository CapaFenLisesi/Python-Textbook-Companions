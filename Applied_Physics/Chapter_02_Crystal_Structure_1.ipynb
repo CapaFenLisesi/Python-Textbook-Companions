{
 "metadata": {
  "name": "",
  "signature": "sha256:693d1c12519596ec538fd8d806511b7a1fdb44b316b98121270f6b11b5d8d004"
 },
 "nbformat": 3,
 "nbformat_minor": 0,
 "worksheets": [
  {
   "cells": [
    {
     "cell_type": "heading",
     "level": 1,
     "metadata": {},
     "source": [
      "Chapter 2:Crystal Structure"
     ]
    },
    {
     "cell_type": "heading",
     "level": 2,
     "metadata": {},
     "source": [
      "Example 2.1 , Page no:40"
     ]
    },
    {
     "cell_type": "code",
     "collapsed": false,
     "input": [
      "#given\n",
      "N=6.02*10**26; #in /Kg-molecule (Avogadro's number)\n",
      "n=4; #number of molecules per unit cell ofr NaCl\n",
      "M=58.5; #in Kg/Kg-molecule (molecular weight of NaCl)\n",
      "p=2189; #in Kg/m^3 (density)\n",
      "\n",
      "#calculate\n",
      "a=pow(((n*M)/(N*p)),0.3333333);\n",
      "a1=a*10**10; #changing unit to Angstrom\n",
      "\n",
      "#result\n",
      "print\"The lattice constant is a=\",'%.2E'%a,\"m\";\n",
      "print\"\\t\\t\\ta=\",round(a1,2),\"Angstrom\";"
     ],
     "language": "python",
     "metadata": {},
     "outputs": [
      {
       "output_type": "stream",
       "stream": "stdout",
       "text": [
        "The lattice constant is a= 5.62E-10 m\n",
        "\t\t\ta= 5.62 Angstrom\n"
       ]
      }
     ],
     "prompt_number": 1
    },
    {
     "cell_type": "heading",
     "level": 2,
     "metadata": {},
     "source": [
      "Example 2.2 , Page no:41"
     ]
    },
    {
     "cell_type": "code",
     "collapsed": false,
     "input": [
      "import math\n",
      "from __future__ import division\n",
      "\n",
      "#given\n",
      "N=6.02*10**23; #in /gram-atom (Avogadro's number)\n",
      "n=4; #number of atom per unit cell for fcc structure\n",
      "M=63.5; #in gram/gram-atom (atomic weight of Cu)\n",
      "p=8.96; #in g/cm^3 (density)\n",
      "\n",
      "#calculate\n",
      "a=pow((n*M/(N*p)),0.3333333);\n",
      "a1=a*1E8; #changing unit from cm to Angstrom\n",
      "d=a1/math.sqrt(2); #distance infcc lattice\n",
      "\n",
      "#result\n",
      "print\"lattice constant is a=\",'%.2E'%a,\"cm\";\n",
      "print\"\\t\\t    a=\",round(a1,2),\"Angstrom\";\n",
      "print\"distance between two nearest Cu atoms is d=\",round(d,2),\"Angstrom\";"
     ],
     "language": "python",
     "metadata": {},
     "outputs": [
      {
       "output_type": "stream",
       "stream": "stdout",
       "text": [
        "lattice constant is a= 3.61E-08 cm\n",
        "\t\t    a= 3.61 Angstrom\n",
        "distance between two nearest Cu atoms is d= 2.55 Angstrom\n"
       ]
      }
     ],
     "prompt_number": 2
    },
    {
     "cell_type": "heading",
     "level": 2,
     "metadata": {},
     "source": [
      "Example 2.3 , Page no:41"
     ]
    },
    {
     "cell_type": "code",
     "collapsed": false,
     "input": [
      "import math\n",
      "from __future__ import division\n",
      "\n",
      "#given\n",
      "N=6.02E26; #in /Kg-atom (Avogadro's number)\n",
      "n=2; #number of molecules per unit cell for bcc lattice\n",
      "M=55.85; #in Kg/Kg-atom (atomic weight of Iron)\n",
      "p=7860; #in Kg/m^3 (density)\n",
      "\n",
      "#calculate\n",
      "a=pow((n*M/(N*p)),0.33333);\n",
      "a1=a*1E10; #changing unit to Angstrom\n",
      "\n",
      "#result\n",
      "print\"The lattice constant is a=\",'%.2E'%a,\"m\";\n",
      "print\"\\t\\t\\ta=\",round(a1,2),\"Angstrom\";"
     ],
     "language": "python",
     "metadata": {},
     "outputs": [
      {
       "output_type": "stream",
       "stream": "stdout",
       "text": [
        "The lattice constant is a= 2.87E-10 m\n",
        "\t\t\ta= 2.87 Angstrom\n"
       ]
      }
     ],
     "prompt_number": 3
    },
    {
     "cell_type": "heading",
     "level": 2,
     "metadata": {},
     "source": [
      "Example 2.4 , Page no:42"
     ]
    },
    {
     "cell_type": "code",
     "collapsed": false,
     "input": [
      "import math\n",
      "from __future__ import division\n",
      "\n",
      "#given\n",
      "N=6.02*10**26; #in /Kg-atom (Avogadro's number)\n",
      "n=2; #number of molecules per unit cell for bcc lattice\n",
      "M=6.94; #in Kg/Kg-atom (atomic weight of Iron)\n",
      "p=530; #in Kg/m^3 (density)\n",
      "\n",
      "#calculate\n",
      "a=pow((n*M/(N*p)),0.33333);\n",
      "a1=a*1E10; #changing unit to Angstrom\n",
      "\n",
      "#result\n",
      "print\"The lattice constant is a=\",'%.2E'%a,\"m\";\n",
      "print\"\\t\\t\\ta=\",round(a1,2),\"Angstrom\";"
     ],
     "language": "python",
     "metadata": {},
     "outputs": [
      {
       "output_type": "stream",
       "stream": "stdout",
       "text": [
        "The lattice constant is a= 3.52E-10 m\n",
        "\t\t\ta= 3.52 Angstrom\n"
       ]
      }
     ],
     "prompt_number": 4
    },
    {
     "cell_type": "heading",
     "level": 2,
     "metadata": {},
     "source": [
      "Example 2.5 , Page no:42"
     ]
    },
    {
     "cell_type": "code",
     "collapsed": false,
     "input": [
      "import math\n",
      "from __future__ import division\n",
      "\n",
      "#given\n",
      "N=6.02*10**23; #in /gram-molecule (Avogadro's number)\n",
      "M=58.5; #in gram/gram-molecule (atomic weight of NaCl)\n",
      "p=2.17; #in g/cm^3 (density)\n",
      "\n",
      "#calculate\n",
      "#since V=M/p\n",
      "#(1/d)^-3=2N/V=2Np/M\n",
      "#therefore d= (M/2Np)^-3\n",
      "d=pow((M/(2*N*p)),0.33333333);\n",
      "d1=d*1*10**8; #changing unit from cm to Angstrom\n",
      "\n",
      "#result\n",
      "print\"The distance between two adjacent atoms of NaCl is d=\",'%.2E'%d,\"m\";\n",
      "print\"\\t\\t\\t\\t\\t\\t   d=\",round(d1,2),\"Angstrom\";"
     ],
     "language": "python",
     "metadata": {},
     "outputs": [
      {
       "output_type": "stream",
       "stream": "stdout",
       "text": [
        "The distance between two adjacent atoms of NaCl is d= 2.82E-08 m\n",
        "\t\t\t\t\t\t   d= 2.82 Angstrom\n"
       ]
      }
     ],
     "prompt_number": 5
    },
    {
     "cell_type": "heading",
     "level": 2,
     "metadata": {},
     "source": [
      "Example 2.6 , Page no:43"
     ]
    },
    {
     "cell_type": "code",
     "collapsed": false,
     "input": [
      "import math\n",
      "from __future__ import division\n",
      "\n",
      "#given\n",
      "r_Na=0.98; #in Angstrom (radius of sodium ion)\n",
      "r_Cl=1.81; #in Angstrom (radius of chloride ion)\n",
      "M_Na=22.99; #in amu (atomic mass of sodium)\n",
      "M_Cl=35.45; #in amu (atomic mass of chlorine)\n",
      "\n",
      "#calculate\n",
      "a=2*(r_Na+r_Cl); #lattice parameter\n",
      "#PF=volume of ions present in the unit cell/volume of unit cell\n",
      "PF=((4*(4/3)*3.14)*r_Na**3+(4*(4/3)*3.14)*r_Cl**3)/a**3;\n",
      "#Density=mass of unit cell/volume of unit cell\n",
      "p=4*(M_Na+M_Cl)*1.66E-27/(a*1E-10)**3;\n",
      "p1=p*1E-3; #changing unit to gm/cm^-3\n",
      "\n",
      "#result\n",
      "print\"Lattice constant  is a=\",round(a,3),\"Angstrom\";\n",
      "print\"Packing fraction is =\",round(PF,3); \n",
      "print\"Density is p=\",round(p),\"Kg/m^3\";\n",
      "print\"Density is p=\",round(p1,2),\"g/cm^3\";"
     ],
     "language": "python",
     "metadata": {},
     "outputs": [
      {
       "output_type": "stream",
       "stream": "stdout",
       "text": [
        "Lattice constant  is a= 5.58 Angstrom\n",
        "Packing fraction is = 0.662\n",
        "Density is p= 2233.0 Kg/m^3\n",
        "Density is p= 2.23 g/cm^3\n"
       ]
      }
     ],
     "prompt_number": 6
    }
   ],
   "metadata": {}
  }
 ]
}