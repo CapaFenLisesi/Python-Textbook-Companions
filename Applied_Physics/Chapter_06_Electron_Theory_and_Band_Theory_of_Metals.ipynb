{
 "metadata": {
  "name": "",
  "signature": "sha256:0c3d2d354976eaba7e5a0f2e0cf4b1fd72cd55b3826ca7e7cd6acde8afff2cdf"
 },
 "nbformat": 3,
 "nbformat_minor": 0,
 "worksheets": [
  {
   "cells": [
    {
     "cell_type": "heading",
     "level": 1,
     "metadata": {},
     "source": [
      "Chapter 6:Electron Theory and Band Theory of Metals"
     ]
    },
    {
     "cell_type": "heading",
     "level": 2,
     "metadata": {},
     "source": [
      "Example 6.1 , Page no:146"
     ]
    },
    {
     "cell_type": "code",
     "collapsed": false,
     "input": [
      "import math\n",
      "from __future__ import division\n",
      "\n",
      "#given\n",
      "n=8.5E28; #in 1/m^3 (density of electron)\n",
      "m_e=9.11E-31; #in Kg (mass of electron)\n",
      "k=1.38E-23; #in J/K (Boltzmann's constant)\n",
      "e=1.6E-19; #in C (charge of electron)\n",
      "T=300; #in K (temperature)\n",
      "p=1.69E-8; #in ohm-m (resistivity)\n",
      "\n",
      "#calculate\n",
      "lambda1=math.sqrt(3*k*m_e*T)/(n*e**2*p); #calculation of mean free path\n",
      "lambda2=lambda1*1E9; #changing unit from m to nanometer\n",
      "\n",
      "#result\n",
      "print\"The mean free path of electron is =\",lambda1,\"m\";\n",
      "print\"\\t\\t\\t\\t  =\",round(lambda2,2),\"nm\";\n",
      "#Note: answer in the book is wrong due to printing mistake"
     ],
     "language": "python",
     "metadata": {},
     "outputs": [
      {
       "output_type": "stream",
       "stream": "stdout",
       "text": [
        "The mean free path of electron is = 2.89250681437e-09 m\n",
        "\t\t\t\t  = 2.89 nm\n"
       ]
      }
     ],
     "prompt_number": 1
    },
    {
     "cell_type": "heading",
     "level": 2,
     "metadata": {},
     "source": [
      "Example 6.2 , Page no:146"
     ]
    },
    {
     "cell_type": "code",
     "collapsed": false,
     "input": [
      "import math\n",
      "from __future__ import division\n",
      "\n",
      "#given\n",
      "k=1.38E-23; #in J/K (Boltzmann's constant)\n",
      "e=1.6E-19; #in C (charge of electron)\n",
      "P_E=1; #in percentage (probability that a state with an energy 0.5 eV above Fermi energy will be occupied)\n",
      "E=0.5; #in eV (energy above Fermi level)\n",
      "\n",
      "#calculate\n",
      "P_E=1/100; #changing percentage into ratio\n",
      "E=E*e; #changing unit from eV to J\n",
      "#P_E=1/(1+exp((E-E_F)/k*T))\n",
      "#Rearranging this equation, we get\n",
      "#T=(E-E_F)/k*log((1/P_E)-1)\n",
      "#Since E-E_F has been denoted by E  therefore\n",
      "T=E/(k*math.log((1/P_E)-1));\n",
      "\n",
      "#result\n",
      "print\"The temperature is T=\",round(T),\"K\";\n",
      "# Note: There is slight variation in the answer due to logarithm function"
     ],
     "language": "python",
     "metadata": {},
     "outputs": [
      {
       "output_type": "stream",
       "stream": "stdout",
       "text": [
        "The temperature is T= 1262.0 K\n"
       ]
      }
     ],
     "prompt_number": 2
    },
    {
     "cell_type": "heading",
     "level": 2,
     "metadata": {},
     "source": [
      "Example 6.3 , Page no:147"
     ]
    },
    {
     "cell_type": "code",
     "collapsed": false,
     "input": [
      "import math\n",
      "from __future__ import division\n",
      "\n",
      "#given\n",
      "n=5.8E28; #in 1/m^3 (density of electron)\n",
      "m=9.1E-31; #in Kg (mass of electron)\n",
      "e=1.6E-19; #in C (charge of electron)\n",
      "p=1.54E-8; #in ohm-m (resistivity)\n",
      "\n",
      "#calculate\n",
      "t=m/(n*e**2*p); #calculation of relaxation time\n",
      "\n",
      "#result\n",
      "print\"The relaxation time of conduction electrons is =\",t,\"sec\";"
     ],
     "language": "python",
     "metadata": {},
     "outputs": [
      {
       "output_type": "stream",
       "stream": "stdout",
       "text": [
        "The relaxation time of conduction electrons is = 3.97972178683e-14 sec\n"
       ]
      }
     ],
     "prompt_number": 3
    },
    {
     "cell_type": "heading",
     "level": 2,
     "metadata": {},
     "source": [
      "Example 6.4 , Page no:147"
     ]
    },
    {
     "cell_type": "code",
     "collapsed": false,
     "input": [
      "import math\n",
      "from __future__ import division\n",
      "\n",
      "#given\n",
      "n=8.5E28; #in 1/m^3 (density of electron)\n",
      "m=9.1E-31; #in Kg (mass of electron)\n",
      "e=1.6E-19; #in C (charge of electron)\n",
      "sigma=6E7; #in 1/ohm-m (conductivity)\n",
      "E_F=7; #in E=eV (Fermi energy of Copper)\n",
      "\n",
      "#calculate\n",
      "E_F=E_F*e; #changing unit from eV to J\n",
      "v_F=math.sqrt(2*E_F/m); #calculation of velocity of electrons\n",
      "#Since sigma=n*e^2*lambda/(2*m*v_F)\n",
      "#Therefore we have\n",
      "lambda1=2*m*v_F*sigma/(n*e**2); #calculation of mean free path\n",
      "lambda2=lambda1*1E10; #changing unit from m to Angstrom\n",
      "\n",
      "#result\n",
      "print\"The velocity of the electrons is v_F=\",v_F,\"m/s   (roundoff error)\";\n",
      "print\"The mean free path traveled by the electrons is=\",round(lambda2),\"Angstrom\";\n"
     ],
     "language": "python",
     "metadata": {},
     "outputs": [
      {
       "output_type": "stream",
       "stream": "stdout",
       "text": [
        "The velocity of the electrons is v_F= 1568929.08111 m/s   (roundoff error)\n",
        "The mean free path traveled by the electrons is= 787.0 Angstrom\n"
       ]
      }
     ],
     "prompt_number": 4
    },
    {
     "cell_type": "heading",
     "level": 2,
     "metadata": {},
     "source": [
      "Example 6.5 , Page no:147"
     ]
    },
    {
     "cell_type": "code",
     "collapsed": false,
     "input": [
      "import math\n",
      "from __future__ import division\n",
      "\n",
      "#given\n",
      "n=6.5E28; #in 1/m^3 (density of electron)\n",
      "m=9.1E-31; #in Kg (mass of electron)\n",
      "e=1.6E-19; #in C (charge of electron)\n",
      "p=1.43E-8; #in ohm-m (resistivity)\n",
      "\n",
      "#calculate\n",
      "t=m/(n*e**2*p); #calculation of relaxation time\n",
      "\n",
      "#result\n",
      "print\"The relaxation time of conduction electrons is =\",t,\"sec\";"
     ],
     "language": "python",
     "metadata": {},
     "outputs": [
      {
       "output_type": "stream",
       "stream": "stdout",
       "text": [
        "The relaxation time of conduction electrons is = 3.8243006993e-14 sec\n"
       ]
      }
     ],
     "prompt_number": 5
    },
    {
     "cell_type": "heading",
     "level": 2,
     "metadata": {},
     "source": [
      "Example 6.6 , Page no:148"
     ]
    },
    {
     "cell_type": "code",
     "collapsed": false,
     "input": [
      "import math\n",
      "from __future__ import division\n",
      "\n",
      "#given\n",
      "T=30; #in Celcius (temperature)\n",
      "k=1.38E-23; #in J/K (Boltzmann's constant)\n",
      "m_p=1.67E-27; #in Kg (mass of proton)\n",
      "e=1.6E-19; #in C (charge of electron)\n",
      "\n",
      "#calculate\n",
      "T=T+273; #changing temperature from Celcius to Kelvin\n",
      "KE=(3/2)*k*T; #calculation of average kinetic energy\n",
      "KE1=KE/e; #changing unit from J to eV\n",
      "m=1.008*2*m_p; #calculating mass of hydrogen gas molecule\n",
      "c=math.sqrt(3*k*T/m); #calculation of velocity\n",
      "\n",
      "#result\n",
      "print\"The average kinetic energy of gas ,molecules is KE=\",KE,\"J\";\n",
      "print\"\\t\\t\\t\\t\\t\\t  =\",KE1,\"eV   (Answer is wrong in textbook)\";\n",
      "print\"The velocity of molecules is c=\",round(c,2),\"m/s\";\n"
     ],
     "language": "python",
     "metadata": {},
     "outputs": [
      {
       "output_type": "stream",
       "stream": "stdout",
       "text": [
        "The average kinetic energy of gas ,molecules is KE= 6.2721e-21 J\n",
        "\t\t\t\t\t\t  = 0.039200625 eV   (Answer is wrong in textbook)\n",
        "The velocity of molecules is c= 1930.27 m/s\n"
       ]
      }
     ],
     "prompt_number": 6
    },
    {
     "cell_type": "heading",
     "level": 2,
     "metadata": {},
     "source": [
      "Example 6.7 , Page no:148"
     ]
    },
    {
     "cell_type": "code",
     "collapsed": false,
     "input": [
      "import math\n",
      "from __future__ import division\n",
      "\n",
      "#given\n",
      "E=10; #in eV (kinetic energy for each electron and proton)\n",
      "m_e=9.1E-31; #in Kg (mass of electron)\n",
      "m_p=1.67E-27; #in Kg (mass of proton)\n",
      "e=1.6E-19; #in C (charge of electron)\n",
      "\n",
      "#calculate\n",
      "E=E*e; #changing unit from eV to J\n",
      "#since E=m*v^2/2\n",
      "#therefore  v=sqrt(2E/m)\n",
      "v_e=math.sqrt(2*E/m_e); #calculation of kinetic energy of electron\n",
      "v_p=math.sqrt(2*E/m_p); #calculation of kinetic energy of proton\n",
      "\n",
      "#result\n",
      "print\"The kinetic energy of electron is v_e=\",v_e,\"m/s\";\n",
      "print\"The kinetic energy of proton is v_p=\",v_p,\"m/s\";\n",
      "print \"Note: Answer is wrong in textbook\""
     ],
     "language": "python",
     "metadata": {},
     "outputs": [
      {
       "output_type": "stream",
       "stream": "stdout",
       "text": [
        "The kinetic energy of electron is v_e= 1875228.92375 m/s\n",
        "The kinetic energy of proton is v_p= 43774.0524132 m/s\n",
        "Note: Answer is wrong in textbook\n"
       ]
      }
     ],
     "prompt_number": 7
    },
    {
     "cell_type": "heading",
     "level": 2,
     "metadata": {},
     "source": [
      "Example 6.8 , Page no:149"
     ]
    },
    {
     "cell_type": "code",
     "collapsed": false,
     "input": [
      "import math\n",
      "from __future__ import division\n",
      "\n",
      "#given\n",
      "I=100; #in A (current in the wire)\n",
      "e=1.6E-19; #in C (charge of electron)\n",
      "A=10; #in mm^2 (cross-sectional area)\n",
      "n=8.5E28; #in 1/m^3 (density of electron)\n",
      "\n",
      "#calculate\n",
      "A=A*1E-6; #changing unit from mm^2 to m^2\n",
      "v_d=I/(n*A*e);\n",
      "\n",
      "#result\n",
      "print\"The drift velocity of free electrons is v_d=\",v_d,\"m/s\";"
     ],
     "language": "python",
     "metadata": {},
     "outputs": [
      {
       "output_type": "stream",
       "stream": "stdout",
       "text": [
        "The drift velocity of free electrons is v_d= 0.000735294117647 m/s\n"
       ]
      }
     ],
     "prompt_number": 8
    },
    {
     "cell_type": "heading",
     "level": 2,
     "metadata": {},
     "source": [
      "Example 6.9 , Page no:149"
     ]
    },
    {
     "cell_type": "code",
     "collapsed": false,
     "input": [
      "import math\n",
      "from __future__ import division\n",
      "\n",
      "#given\n",
      "I=4;#in A (current in the conductor)\n",
      "e=1.6E-19; #in C (charge of electron)\n",
      "A=1E-6; #in m^2 (cross-sectional area)\n",
      "N_A=6.02E23; #in atoms/gram-atom (Avogadro's number)\n",
      "p=8.9; #in g/cm^3 (density)\n",
      "M=63.6; #atomic mass of copper\n",
      "\n",
      "#calculate\n",
      "n=N_A*p/M; #Calculation of density of electrons in g/cm^3\n",
      "n1=n*1E6; #changing unit from g/cm^3 to g/m^3\n",
      "v_d=I/(n1*A*e);\n",
      "\n",
      "#result\n",
      "print\"The density of copper atoms is n=\",n,\"atoms/m^3\";\n",
      "print\"\\t\\t\\t        =\",n1,\"atoms/m^3\";\n",
      "print\"The average drift velocity of free electrons is v_d=\",v_d,\"m/s\";"
     ],
     "language": "python",
     "metadata": {},
     "outputs": [
      {
       "output_type": "stream",
       "stream": "stdout",
       "text": [
        "The density of copper atoms is n= 8.42421383648e+22 atoms/m^3\n",
        "\t\t\t        = 8.42421383648e+28 atoms/m^3\n",
        "The average drift velocity of free electrons is v_d= 0.000296763596999 m/s\n"
       ]
      }
     ],
     "prompt_number": 9
    },
    {
     "cell_type": "heading",
     "level": 2,
     "metadata": {},
     "source": [
      "Example 6.10 , Page no:149"
     ]
    },
    {
     "cell_type": "code",
     "collapsed": false,
     "input": [
      "import math\n",
      "from __future__ import division\n",
      "\n",
      "#given\n",
      "n=9E28; #in 1/m^3 (density of valence electrons)\n",
      "sigma=6E7; #in mho/m (conductivity of copper)\n",
      "e=1.6E-19; #in C (charge of electron)\n",
      "\n",
      "#calculate\n",
      "#Since sigma=n*e*mu  therefore\n",
      "mu=sigma/(n*e); #calculation of mobility of electron\n",
      "\n",
      "#result\n",
      "print\"The mobility of electrons is =\",mu,\"m^2/V-s\";"
     ],
     "language": "python",
     "metadata": {},
     "outputs": [
      {
       "output_type": "stream",
       "stream": "stdout",
       "text": [
        "The mobility of electrons is = 0.00416666666667 m^2/V-s\n"
       ]
      }
     ],
     "prompt_number": 10
    },
    {
     "cell_type": "heading",
     "level": 2,
     "metadata": {},
     "source": [
      "Example 6.11 , Page no:150"
     ]
    },
    {
     "cell_type": "code",
     "collapsed": false,
     "input": [
      "import math\n",
      "from __future__ import division\n",
      "\n",
      "#given\n",
      "E_F=5.51; #in eV (Fermi energy in Silver)\n",
      "k=1.38E-23; #in J/K (Boltzmann's constant)\n",
      "e=1.6E-19; #in C (charge of electron)\n",
      "\n",
      "#calculate\n",
      "#part-(a)\n",
      "Eo=(3/5)*E_F; #calculation of average energy of free electron at 0K\n",
      "#part-(b)\n",
      "Eo1=Eo*e; #changing unit from eV to J\n",
      "#Since for a classical particle E=(3/2)*k*T\n",
      "#therefroe we have\n",
      "T=(2/3)*Eo1/k; #calculation of temperature for a classical particle (an ideal gas)\n",
      "\n",
      "#result\n",
      "print\"The average energy of free electron at 0K is Eo=\",Eo,\"eV\";\n",
      "print\"The temperature at which a classical particle have this much energy is T=\",T,\"K\";"
     ],
     "language": "python",
     "metadata": {},
     "outputs": [
      {
       "output_type": "stream",
       "stream": "stdout",
       "text": [
        "The average energy of free electron at 0K is Eo= 3.306 eV\n",
        "The temperature at which a classical particle have this much energy is T= 25553.6231884 K\n"
       ]
      }
     ],
     "prompt_number": 11
    },
    {
     "cell_type": "heading",
     "level": 2,
     "metadata": {},
     "source": [
      "Example 6.12 , Page no:150"
     ]
    },
    {
     "cell_type": "code",
     "collapsed": false,
     "input": [
      "import math\n",
      "from __future__ import division\n",
      "\n",
      "#given\n",
      "E_F_L=4.7; #in eV (Fermi energy in Lithium)\n",
      "E_F_M=2.35; #in eV (Fermi energy in a metal)\n",
      "n_L=4.6E28; #in 1/m^3 (density of electron in Lithium)\n",
      "\n",
      "#calculate\n",
      "#Since n=((2*m/h)^3/2)*E_F^(3/2)*(8*pi/3) and all things except E_F are constant\n",
      "# Therefore we have n=C*E_F^(3/2)   where C is proportionality constant\n",
      "#n1/n2=(E_F_1/E_F_2)^(3/2)\n",
      "#Therefore we have\n",
      "n_M=n_L*(E_F_M/E_F_L); #calculation of electron density for a metal\n",
      "\n",
      "#result\n",
      "print\"The lectron density for a metal is =\",n_M,\"1/m^3\";\n",
      "print \"Note: Answer in the book is wrong \""
     ],
     "language": "python",
     "metadata": {},
     "outputs": [
      {
       "output_type": "stream",
       "stream": "stdout",
       "text": [
        "The lectron density for a metal is = 2.3e+28 1/m^3\n",
        "Note: Answer in the book is wrong \n"
       ]
      }
     ],
     "prompt_number": 12
    }
   ],
   "metadata": {}
  }
 ]
}