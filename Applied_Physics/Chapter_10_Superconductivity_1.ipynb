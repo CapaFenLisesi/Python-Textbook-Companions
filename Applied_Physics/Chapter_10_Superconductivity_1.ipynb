{
 "metadata": {
  "name": "",
  "signature": "sha256:2419f2161da8f36d7fa10fabb5f5aa4b318a9912237faaa5f03ac922aa4b8ac9"
 },
 "nbformat": 3,
 "nbformat_minor": 0,
 "worksheets": [
  {
   "cells": [
    {
     "cell_type": "heading",
     "level": 1,
     "metadata": {},
     "source": [
      "Chapter 10:Superconductivity"
     ]
    },
    {
     "cell_type": "heading",
     "level": 2,
     "metadata": {},
     "source": [
      "Example 10.1 , Page no:313"
     ]
    },
    {
     "cell_type": "code",
     "collapsed": false,
     "input": [
      "import math\n",
      "from __future__ import division\n",
      "\n",
      "#given\n",
      "Tc=7.2; #in K (critical temperature)\n",
      "T=5; #in K (given temperature)\n",
      "H0=6.5E3; #in A/m (critical magnetic field at 0K)\n",
      "\n",
      "#calculate\n",
      "Hc=H0*(1-(T/Tc)**2); #calculation of magnitude of critical magnetic field\n",
      "\n",
      "#result\n",
      "print\"The magnitude of critical magnetic field is Hc=\",round(Hc,2),\"A/m\";"
     ],
     "language": "python",
     "metadata": {},
     "outputs": [
      {
       "output_type": "stream",
       "stream": "stdout",
       "text": [
        "The magnitude of critical magnetic field is Hc= 3365.35 A/m\n"
       ]
      }
     ],
     "prompt_number": 1
    },
    {
     "cell_type": "heading",
     "level": 2,
     "metadata": {},
     "source": [
      "Example 10.2 , Page no:313"
     ]
    },
    {
     "cell_type": "code",
     "collapsed": false,
     "input": [
      "import math\n",
      "from __future__ import division\n",
      "\n",
      "#given\n",
      "r=0.02; #in m (radius of ring)\n",
      "Hc=2E3; #in A/m (critical magnetic field at 5K)\n",
      "pi=3.14; #value of pi used in the solutiion\n",
      "\n",
      "#calculate\n",
      "Ic=2*pi*r*Hc; #calculation of critical current value\n",
      "\n",
      "#result\n",
      "print\"The critical current value is Ic=\",Ic,\"A\";"
     ],
     "language": "python",
     "metadata": {},
     "outputs": [
      {
       "output_type": "stream",
       "stream": "stdout",
       "text": [
        "The critical current value is Ic= 251.2 A\n"
       ]
      }
     ],
     "prompt_number": 2
    },
    {
     "cell_type": "heading",
     "level": 2,
     "metadata": {},
     "source": [
      "Example 10.3 , Page no:313"
     ]
    },
    {
     "cell_type": "code",
     "collapsed": false,
     "input": [
      "import math\n",
      "from __future__ import division\n",
      "\n",
      "#given\n",
      "M1=199.5; #in amu (isotropic mass at 5K)\n",
      "T1=5; #in K (first critical temperature)\n",
      "T2=5.1; #in K (second critical temperature)\n",
      "#calculate\n",
      "#since Tc=C*(1/sqrt(M)\n",
      "#therefore T1*sqrt(M1)=T2*sqrt(M2)\n",
      "#therefore we have M2=(T1/T2)^2*M1\n",
      "M2=(T1/T2)**2*M1; #calculation of isotropic mass at 5.1K\n",
      "\n",
      "#result\n",
      "print\"The isotropic mass at 5.1K is M2=\",round(M2,3),\"a.m.u.\";"
     ],
     "language": "python",
     "metadata": {},
     "outputs": [
      {
       "output_type": "stream",
       "stream": "stdout",
       "text": [
        "The isotropic mass at 5.1K is M2= 191.753 a.m.u.\n"
       ]
      }
     ],
     "prompt_number": 3
    },
    {
     "cell_type": "heading",
     "level": 2,
     "metadata": {},
     "source": [
      "Example 10.4 , Page no:314"
     ]
    },
    {
     "cell_type": "code",
     "collapsed": false,
     "input": [
      "import math\n",
      "from __future__ import division\n",
      "\n",
      "#given\n",
      "T=6; #in K (given temperature)\n",
      "Hc=5E3; #in A/m (critical magnetic field at 5K)\n",
      "H0=2E4; #in A/m (critical magnetic field at 0K)\n",
      "\n",
      "#calculate\n",
      "#since Hc=H0*(1-(T/Tc)^2)\n",
      "#therefor we have Tc=T/sqrt(1-(Hc/H)^2)\n",
      "Tc=T/math.sqrt(1-(Hc/H0)); #calculation of transition temperature\n",
      "\n",
      "#result\n",
      "print\"The transition temperature is Tc=\",round(Tc,3),\"K\";\n",
      "print \"NOTE: The answer in the textbook is wrong\" "
     ],
     "language": "python",
     "metadata": {},
     "outputs": [
      {
       "output_type": "stream",
       "stream": "stdout",
       "text": [
        "The transition temperature is Tc= 6.928 K\n",
        "NOTE: The answer in the textbook is wrong\n"
       ]
      }
     ],
     "prompt_number": 4
    },
    {
     "cell_type": "heading",
     "level": 2,
     "metadata": {},
     "source": [
      "Example 10.5 , Page no:314"
     ]
    },
    {
     "cell_type": "code",
     "collapsed": false,
     "input": [
      "import math\n",
      "from __future__ import division\n",
      "\n",
      "#given\n",
      "T=5; #in K (given temperature)\n",
      "d=3; #in mm (diameter of the wire)\n",
      "Tc=8; #in K (critical temperature for Pb)\n",
      "H0=5E4; #in A/m (critical magnetic field at 0K)\n",
      "pi=3.14; #value of pi used in the solution\n",
      "\n",
      "#calculate\n",
      "Hc=H0*(1-(T/Tc)**2); #calculation of critical magnetic field at 5K\n",
      "r=(d*1E-3)/2; #calculation of radius in m\n",
      "Ic=2*pi*r*Hc; #calculation of critical current at 5K\n",
      "\n",
      "#result\n",
      "print\"The critical magnetic field at 5K is Hc=\",'%.3E'%Hc,\"A/m\";\n",
      "print\"The critical current at 5K is Ic=\",round(Ic,4),\"A\";\n",
      "print \"   (roundoff error)\""
     ],
     "language": "python",
     "metadata": {},
     "outputs": [
      {
       "output_type": "stream",
       "stream": "stdout",
       "text": [
        "The critical magnetic field at 5K is Hc= 3.047E+04 A/m\n",
        "The critical current at 5K is Ic= 287.0156 A\n",
        "   (roundoff error)\n"
       ]
      }
     ],
     "prompt_number": 5
    },
    {
     "cell_type": "heading",
     "level": 2,
     "metadata": {},
     "source": [
      "Example 10.6 , Page no:314"
     ]
    },
    {
     "cell_type": "code",
     "collapsed": false,
     "input": [
      "import math\n",
      "from __future__ import division\n",
      "\n",
      "#given\n",
      "V=8.50; #in micro V (voltage across Josephson junction )\n",
      "e=1.6E-19; #in C (charge of electron)\n",
      "h=6.626E-34; #in J/s (Planck\u2019s constant)\n",
      "\n",
      "#calculate\n",
      "V=V*1E-6; #changing unit from V to microVolt\n",
      "v1=2*e*V/h; #calculation of frequency of EM waves\n",
      "\n",
      "#result\n",
      "print\"The frequency of EM waves is v=\",'%.3E'%v1,\"Hz\";\n",
      "print \"NOTE: The answer in the textbook is wrong\" "
     ],
     "language": "python",
     "metadata": {},
     "outputs": [
      {
       "output_type": "stream",
       "stream": "stdout",
       "text": [
        "The frequency of EM waves is v= 4.105E+09 Hz\n",
        "NOTE: The answer in the textbook is wrong\n"
       ]
      }
     ],
     "prompt_number": 6
    },
    {
     "cell_type": "heading",
     "level": 2,
     "metadata": {},
     "source": [
      "Example 10.7 , Page no:315"
     ]
    },
    {
     "cell_type": "code",
     "collapsed": false,
     "input": [
      "import math\n",
      "from __future__ import division\n",
      "\n",
      "#given\n",
      "M1=200.59; #in amu (average atomic mass  at 4.153K)\n",
      "Tc1=4.153; #in K (first critical temperature)\n",
      "M2=204; #in amu (average atomic mass of isotopes)\n",
      "\n",
      "#calculate\n",
      "#since Tc=C*(1/sqrt(M)\n",
      "#therefore T1*sqrt(M1)=T2*sqrt(M2)\n",
      "#therefore we have Tc2=Tc1*sqrt(M1/M2)\n",
      "Tc2=Tc1*math.sqrt(M1/M2); #calculation of transition temperature of the isotopes\n",
      "\n",
      "#result\n",
      "print\"The transition temperature of the isotopes is  Tc2=\",round(Tc2,3),\"K\";"
     ],
     "language": "python",
     "metadata": {},
     "outputs": [
      {
       "output_type": "stream",
       "stream": "stdout",
       "text": [
        "The transition temperature of the isotopes is  Tc2= 4.118 K\n"
       ]
      }
     ],
     "prompt_number": 7
    }
   ],
   "metadata": {}
  }
 ]
}