{
 "metadata": {
  "name": "",
  "signature": "sha256:c0c41dd0dd6cd4e5e80827588fac9665fffcc944b50f6542bc22a982c1d29798"
 },
 "nbformat": 3,
 "nbformat_minor": 0,
 "worksheets": [
  {
   "cells": [
    {
     "cell_type": "heading",
     "level": 1,
     "metadata": {},
     "source": [
      "CHAPTER 9 - A Basic Cellular System"
     ]
    },
    {
     "cell_type": "heading",
     "level": 2,
     "metadata": {},
     "source": [
      "EXAMPLE 9.2 - PG NO.315"
     ]
    },
    {
     "cell_type": "code",
     "collapsed": false,
     "input": [
      "#page no. 315\n",
      "n1=17.#\n",
      "n2=16.#\n",
      "n3=14.#\n",
      "n4=12.#\n",
      "n5=11.#\n",
      "n6=10.#\n",
      "n7=7.#\n",
      "n8=5.#\n",
      "n9=3.#\n",
      "n10=2.\n",
      "t1=51.#\n",
      "t2=47.#\n",
      "t3=43.#\n",
      "t4=39.#\n",
      "t5=34.#\n",
      "t6=28.#\n",
      "t7=22.#\n",
      "t8=15.#\n",
      "t9=9.#\n",
      "t10=6.\n",
      "\n",
      "tncphr=n1+n2+n3+n4+n5+n6+n7+n8+n9+n10#no. of calls/hr.\n",
      "Y=tncphr/60.#rate of calls/min.\n",
      "toct=t1+t2+t3+t4+t5+t6+t7+t8+t9+t10#total system occupied time in min.\n",
      "H=toct/tncphr#avg. holding time/call in min\n",
      "Aav=Y*H\n",
      "print '%s %.1f %s' %('average traffic intensity Aav is =',Aav,'Erlangs')\n"
     ],
     "language": "python",
     "metadata": {},
     "outputs": [
      {
       "output_type": "stream",
       "stream": "stdout",
       "text": [
        "average traffic intensity Aav is = 4.9 Erlangs\n"
       ]
      }
     ],
     "prompt_number": 1
    },
    {
     "cell_type": "heading",
     "level": 2,
     "metadata": {},
     "source": [
      "EXAMPLE 9.3 - PG NO.316"
     ]
    },
    {
     "cell_type": "code",
     "collapsed": false,
     "input": [
      "#page no. 316\n",
      "Y=2.#avg. no of calls/hr/user\n",
      "Hmin=3.\n",
      "H=Hmin/60.#avg. duration of a call\n",
      "Aav=Y*H#average traffic intensity\n",
      "print '%s %.1f %s' %('average traffic intensity per user Aav is =',Aav,' Erlangs')\n"
     ],
     "language": "python",
     "metadata": {},
     "outputs": [
      {
       "output_type": "stream",
       "stream": "stdout",
       "text": [
        "average traffic intensity per user Aav is = 0.1  Erlangs\n"
       ]
      }
     ],
     "prompt_number": 2
    },
    {
     "cell_type": "heading",
     "level": 2,
     "metadata": {},
     "source": [
      "EXAMPLE 9.4 - PG NO.316"
     ]
    },
    {
     "cell_type": "code",
     "collapsed": false,
     "input": [
      "#page no. 316\n",
      "n1=2200.#\n",
      "n2=1900.#\n",
      "n3=4000.#\n",
      "n4=1100.#\n",
      "n5=1000.#\n",
      "n6=1200.#\n",
      "n7=1800.#\n",
      "n8=2100.#\n",
      "n9=2000.#\n",
      "n10=1580.#\n",
      "n11=1800.#\n",
      "n12=900.\n",
      "TBW=30.*10.**6.#total allocated bandwidth\n",
      "SBW=25000.#simplex channel bandwidth\n",
      "NS=TBW/SBW#no.of simplex channels\n",
      "DS=NS/2.#no.of duplex channels\n",
      "NCPC=10.\n",
      "NCPCL=12.\n",
      "TNCC=NCPC*NCPCL##no. of control channels\n",
      "TNTC=DS-TNCC#no. of traffic channels\n",
      "NTCPC=TNTC/NCPCL\n",
      "NUPC=8.\n",
      "NMCPC=8.\n",
      "TNCPC=NMCPC*NTCPC#total no. of calls/cell\n",
      "print '%s %d %s' %('total no. of calls/cell =',TNCPC,'calls/cell')\n",
      "H=5./100.*3600.\n",
      "Y=60./3600.\n",
      "Aav=H*Y#traffic intensity case(b)\n",
      "print '%s %d %s' %('average offered traffic load Aav for (case(b)) is =',Aav,'Erlangs')\n",
      "tc=n1+n2+n3+n4+n5+n6+n7+n8+n9+n10+n11+n12\n",
      "pbms=75./100.\n",
      "nbms=pbms*tc\n",
      "print '%s %.3f %s' %('number of mobile subscribers/cluster = ',nbms*10**(-3),'users')\n",
      "y=tc/NCPCL\n",
      "Y1=y/3600.\n",
      "H1=60.\n",
      "Aav1=Y1*H1#traffic intensity case(c)\n",
      "print '%s %d %s' %('average offered traffic load Aav for (case(c)) is =',round(Aav1),'Erlangs')\n",
      "\n",
      "\n",
      "\n"
     ],
     "language": "python",
     "metadata": {},
     "outputs": [
      {
       "output_type": "stream",
       "stream": "stdout",
       "text": [
        "total no. of calls/cell = 320 calls/cell\n",
        "average offered traffic load Aav for (case(b)) is = 3 Erlangs\n",
        "number of mobile subscribers/cluster =  16.185 users\n",
        "average offered traffic load Aav for (case(c)) is = 30 Erlangs\n"
       ]
      }
     ],
     "prompt_number": 16
    },
    {
     "cell_type": "heading",
     "level": 2,
     "metadata": {},
     "source": [
      "EXAMPLE 9.5 - PG NO.319"
     ]
    },
    {
     "cell_type": "code",
     "collapsed": false,
     "input": [
      "#page no. 319\n",
      "Y=3000./3600.\n",
      "H=1.76*60.\n",
      "Aav=Y*H\n",
      "print '%s %.2f %s' %('offered traffic load Aav is =',Aav,'Erlangs')\n",
      "Pb=2./100.\n",
      "N=100.\n",
      "Y1=28000./3600.\n",
      "H1=105.6\n",
      "Aav1=Y1*H1\n",
      "N1=820.\n",
      "print '%s %d %s' %('max. no of channels/cell =',N,'channels/cell')\n",
      "print '%s %d %s' %('max. no of channels/cell wrt increased lambda =',N1,'channels/cell')\n",
      "#answer in the textbook is less accurate due to approximations. "
     ],
     "language": "python",
     "metadata": {},
     "outputs": [
      {
       "output_type": "stream",
       "stream": "stdout",
       "text": [
        "offered traffic load Aav is = 88.00 Erlangs\n",
        "max. no of channels/cell = 100 channels/cell\n",
        "max. no of channels/cell wrt increased lambda = 820 channels/cell\n"
       ]
      }
     ],
     "prompt_number": 4
    },
    {
     "cell_type": "heading",
     "level": 2,
     "metadata": {},
     "source": [
      "EXAMPLE 9.6 - PG NO.320"
     ]
    },
    {
     "cell_type": "code",
     "collapsed": false,
     "input": [
      "#page no.320\n",
      "N=50.#no. of channels in cell\n",
      "Pb=0.02#blocking probability\n",
      "Aav=40.3#offered traffic load\n",
      "H=100./3600.#average call-holding time\n",
      "Y=Aav/H##no. of calls handled\n",
      "print'%s %d %s' %('no. of calls handled =',Y,'calls/hr')\n"
     ],
     "language": "python",
     "metadata": {},
     "outputs": [
      {
       "output_type": "stream",
       "stream": "stdout",
       "text": [
        "no. of calls handled = 1450 calls/hr\n"
       ]
      }
     ],
     "prompt_number": 5
    },
    {
     "cell_type": "heading",
     "level": 2,
     "metadata": {},
     "source": [
      "EXAMPLE 9.7 - PG NO.320"
     ]
    },
    {
     "cell_type": "code",
     "collapsed": false,
     "input": [
      "#page no. 320\n",
      "At=0.1\n",
      "Pb=0.005\n",
      "N=10.\n",
      "Aav=3.96\n",
      "Nt=Aav/At\n",
      "N1=100.\n",
      "Aav1=80.9\n",
      "Nt1=Aav1/At\n",
      "print '%s %d %s' %('total no. of mobile users =',Nt,'users')\n",
      "print '%s %d %s' %('total no. of mobile users for increased N =',Nt1,'users')\n"
     ],
     "language": "python",
     "metadata": {},
     "outputs": [
      {
       "output_type": "stream",
       "stream": "stdout",
       "text": [
        "total no. of mobile users = 39 users\n",
        "total no. of mobile users for increased N = 809 users\n"
       ]
      }
     ],
     "prompt_number": 6
    },
    {
     "cell_type": "heading",
     "level": 2,
     "metadata": {},
     "source": [
      "EXAMPLE 9.8 - PG NO.321"
     ]
    },
    {
     "cell_type": "code",
     "collapsed": false,
     "input": [
      "#page no.321\n",
      "N=40.#no. of channels in cell\n",
      "Pb=0.02#blocking probability\n",
      "Aav=31.#offered traffic load\n",
      "H=3./60.#holding time\n",
      "Z=Aav/(H*3.)#users per cell\n",
      "NC=20.#no. of cells in the system\n",
      "nms=NC*Z\n",
      "print'%s %d %s' %('number of mobile subscribers in the system =',nms,'users')\n"
     ],
     "language": "python",
     "metadata": {},
     "outputs": [
      {
       "output_type": "stream",
       "stream": "stdout",
       "text": [
        "number of mobile subscribers in the system = 4133 users\n"
       ]
      }
     ],
     "prompt_number": 7
    },
    {
     "cell_type": "heading",
     "level": 2,
     "metadata": {},
     "source": [
      "EXAMPLE 9.9 - PG NO.322"
     ]
    },
    {
     "cell_type": "code",
     "collapsed": false,
     "input": [
      "#page no.322\n",
      "N1=24.#no. of trunked channels\n",
      "N=10.#10 channels trunked together\n",
      "Pb=0.01#blocking probability\n",
      "Aav=4.46#offered traffic load\n",
      "N2=5.#2 groups of 5 trunked channels each\n",
      "Aav1=1.36\n",
      "Aav2=2.*Aav1\n",
      "Ex=Aav2/Aav#extent\n",
      "if Aav>Aav2:\n",
      "    print('10 channels trunked together can support more traffic at a specific GOS(say 0.01) than two 5-channel trunk individually do')\n",
      "else:\n",
      "    print('10 channels trunked together can support less traffic at a specific GOS(say 0.01) than two 5-channel trunk individually do')\n",
      "#end\n",
      "\n",
      "print'%s %d %s' %('\\nextent of more traffic supported by N=10 system as compared to two 5-channel trunked systems=',Ex*100,'%')\n"
     ],
     "language": "python",
     "metadata": {},
     "outputs": [
      {
       "output_type": "stream",
       "stream": "stdout",
       "text": [
        "10 channels trunked together can support more traffic at a specific GOS(say 0.01) than two 5-channel trunk individually do\n",
        "\n",
        "extent of more traffic supported by N=10 system as compared to two 5-channel trunked systems= 60 %\n"
       ]
      }
     ],
     "prompt_number": 8
    },
    {
     "cell_type": "heading",
     "level": 2,
     "metadata": {},
     "source": [
      "EXAMPLE 9.10 - PG NO.323"
     ]
    },
    {
     "cell_type": "code",
     "collapsed": false,
     "input": [
      "#page no. 323\n",
      "Nch=395.\n",
      "ncpcl=7.\n",
      "Pb=.01\n",
      "N=Nch/ncpcl\n",
      "H=3./60.\n",
      "Aav=44.2\n",
      "Y=Aav/H\n",
      "print '%s %d %s' %('average number of calls/hr. i.e(omnidirectional case) Y is =',Y,'calls per hour')\n",
      "\n",
      "nspc=3.\n",
      "Nchps=N/nspc\n",
      "Aav1=11.2\n",
      "avnc=Aav1/H\n",
      "Y1=avnc*nspc\n",
      "print '%s %d %s' %('average number of calls/hr. ie.(3-sector case) Y is =',Y1+1,'calls per hour')\n",
      "DTRef=(Y-Y1)/Y\n",
      "print '%s %.2f %s %d %s' %('decrease in trunking efficiency =',DTRef,'or',(DTRef+0.01)*100,'%')\n",
      "\n",
      "nspc1=6.\n",
      "Nchps1=N/nspc1\n",
      "Aav2=4.1\n",
      "avnc1=Aav2/H\n",
      "Y2=avnc1*nspc1\n",
      "print '%s %d %s' %('average number of calls/hr. ie.(6-sector case) Y is =',Y2+1,'calls per hour')\n",
      "DTRef1=(Y-Y2)/Y\n",
      "print '%s %.2f %s %d %s' %('decrement in trunking efficiency =',DTRef1,'or',DTRef1*100,'%')\n",
      "\n"
     ],
     "language": "python",
     "metadata": {},
     "outputs": [
      {
       "output_type": "stream",
       "stream": "stdout",
       "text": [
        "average number of calls/hr. i.e(omnidirectional case) Y is = 884 calls per hour\n",
        "average number of calls/hr. ie.(3-sector case) Y is = 672 calls per hour\n",
        "decrease in trunking efficiency = 0.24 or 24 %\n",
        "average number of calls/hr. ie.(6-sector case) Y is = 492 calls per hour\n",
        "decrement in trunking efficiency = 0.44 or 44 %\n"
       ]
      }
     ],
     "prompt_number": 9
    },
    {
     "cell_type": "heading",
     "level": 2,
     "metadata": {},
     "source": [
      "EXAMPLE 9.11 - PG NO.325"
     ]
    },
    {
     "cell_type": "code",
     "collapsed": false,
     "input": [
      "#page no. 325\n",
      "Rkm=1.4#radius of the cell\n",
      "Acell=2.6*Rkm*Rkm#area (hexagonal cell)\n",
      "K=4.#no.of cells/cluster\n",
      "ntotal=60.\n",
      "ncell=ntotal/K\n",
      "avgtlpu=0.029\n",
      "Aav=9.\n",
      "Pb=0.05\n",
      "tnu=Aav/avgtlpu#total no. of users supported in a cell\n",
      "NupA=tnu/Acell\n",
      "print '%s %d %s' %('number of users per kmsqr area =',NupA,'users/(km^2) (approx.)')\n"
     ],
     "language": "python",
     "metadata": {},
     "outputs": [
      {
       "output_type": "stream",
       "stream": "stdout",
       "text": [
        "number of users per kmsqr area = 60 users/(km^2) (approx.)\n"
       ]
      }
     ],
     "prompt_number": 10
    },
    {
     "cell_type": "heading",
     "level": 2,
     "metadata": {},
     "source": [
      "EXAMPLE 9.12 - PG NO.327"
     ]
    },
    {
     "cell_type": "code",
     "collapsed": false,
     "input": [
      "#page no.327\n",
      "Bt=12.5*10.**6.\n",
      "BtMHz=12.5\n",
      "Bc=30.*10.**3.\n",
      "Bg=10.**3.\n",
      "Nt=(Bt-2*Bg)/Bc#total number of channels/cluster\n",
      "Nc=21.\n",
      "Nd=Nt-Nc#number of user data transmission/cluster\n",
      "K=7.#frequency reuse factor\n",
      "Ndpcell=Nd/K\n",
      "Acell=6\n",
      "n1=Ndpcell/(BtMHz*Acell)\n",
      "print '%s %d %s' %('total number of channels/cluster (Nt) =',Nt,'channels')\n",
      "print '%s %d %s' %('number of user data transmission/cluster (Nd) =',Nd,'data channels per cluster')\n",
      "print '%s %d %s' %('total number of transmission/cell (Nd/cell) if K= 7 is =',Ndpcell,'data channels per cell')\n",
      "print '%s %.3f %s' %('overall spectral efficiency n1 in channels/MHz/kmsqr for cell area 6kmsqr is =',n1,'channels/MHz/Km^2')\n"
     ],
     "language": "python",
     "metadata": {},
     "outputs": [
      {
       "output_type": "stream",
       "stream": "stdout",
       "text": [
        "total number of channels/cluster (Nt) = 416 channels\n",
        "number of user data transmission/cluster (Nd) = 395 data channels per cluster\n",
        "total number of transmission/cell (Nd/cell) if K= 7 is = 56 data channels per cell\n",
        "overall spectral efficiency n1 in channels/MHz/kmsqr for cell area 6kmsqr is = 0.754 channels/MHz/Km^2\n"
       ]
      }
     ],
     "prompt_number": 11
    },
    {
     "cell_type": "heading",
     "level": 2,
     "metadata": {},
     "source": [
      "EXAMPLE 9.13 - PG NO.327"
     ]
    },
    {
     "cell_type": "code",
     "collapsed": false,
     "input": [
      "#page no.327\n",
      "Acell=6.\n",
      "Acellular=3024.\n",
      "Ncells=Acellular/Acell#number of cells in the system\n",
      "Bt=12.5*10.**6.\n",
      "BtMHz=12.5\n",
      "Bc=30.*10.**3.\n",
      "Bg=10.*10.**3.\n",
      "Nc=21.\n",
      "Nd=((Bt-2.*Bg)/Bc)-Nc#no. of data channels/cluster\n",
      "K=7.\n",
      "Ndpcell=Nd/K\n",
      "H=1./20\n",
      "ntr=0.95\n",
      "Ncallphr=1./H\n",
      "Ncallphrpcell=Ndpcell*ntr*Ncallphr#number of calls per hour per cell\n",
      "Ncallpuserphr=1.5\n",
      "Nusers=Ncallphrpcell/Ncallpuserphr\n",
      "n1=Ndpcell/(BtMHz*Acell)\n",
      "n=ntr*n1\n",
      "print '%s %d %s' %('number of cells in the system =',Ncells,'cells')\n",
      "print '%s %d %s' %('number of calls per hour per cell =',Ncallphrpcell,'calls/hour/cell')\n",
      "print '%s %d %s' %('average number of users per hour per cell =',Nusers,'users/hour/cell')\n",
      "print '%s %.3f %s' %('system spectral efficiency in the units of Erlangs/MHz/kmsqr =',n,'Erlangs/MHz/km^2')\n",
      "#answers in texbook are wrong due to approximations."
     ],
     "language": "python",
     "metadata": {},
     "outputs": [
      {
       "output_type": "stream",
       "stream": "stdout",
       "text": [
        "number of cells in the system = 504 cells\n",
        "number of calls per hour per cell = 1072 calls/hour/cell\n",
        "average number of users per hour per cell = 714 users/hour/cell\n",
        "system spectral efficiency in the units of Erlangs/MHz/kmsqr = 0.715 Erlangs/MHz/km^2\n"
       ]
      }
     ],
     "prompt_number": 12
    },
    {
     "cell_type": "heading",
     "level": 2,
     "metadata": {},
     "source": [
      "EXAMPLE 9.14 - PG NO.330"
     ]
    },
    {
     "cell_type": "code",
     "collapsed": false,
     "input": [
      "#page no.330\n",
      "Bt=25.*10.**6.#system bandwidth\n",
      "Bc=30.*10.**3.#channel bandwidth\n",
      "Bg=20.*10.**3.#guard spacing\n",
      "Nu=((Bt-2.*Bg)/Bc)\n",
      "Tf=40.*10.**-3.#frame time\n",
      "Tp=0.*10.**-3.#preamble time\n",
      "Tt=0.*10.**-3.#trailer time\n",
      "Ld=260.\n",
      "Ls=324.\n",
      "ntframe=((Tf-Tp-Tt)/Tf)*(Ld/Ls)\n",
      "ntsys=ntframe*(Nu*Bc*(1./Bt))\n",
      "Rs=7.95*10.**3.\n",
      "ntmod=Rs/Bc\n",
      "K=7.\n",
      "nt=ntsys*ntmod/K\n",
      "print '%s %d %s' %('number of simultaneous users that can be accomodated in each cell =',Nu,'users/cluster')\n",
      "print '%s %.1f' %('spectral efficiency per frame of a TDMA system =',ntframe)\n",
      "print '%s %.1f' %('spectral efficiency of the TDMA system =',ntsys)\n",
      "print '%s %.3f %s' %('overall spectral efficiency in bps/Hz/cell =',nt*10,'bps/Hz/cell')\n"
     ],
     "language": "python",
     "metadata": {},
     "outputs": [
      {
       "output_type": "stream",
       "stream": "stdout",
       "text": [
        "number of simultaneous users that can be accomodated in each cell = 832 users/cluster\n",
        "spectral efficiency per frame of a TDMA system = 0.8\n",
        "spectral efficiency of the TDMA system = 0.8\n",
        "overall spectral efficiency in bps/Hz/cell = 0.303 bps/Hz/cell\n"
       ]
      }
     ],
     "prompt_number": 13
    },
    {
     "cell_type": "heading",
     "level": 2,
     "metadata": {},
     "source": [
      "EXAMPLE 9.15 - PG NO.332"
     ]
    },
    {
     "cell_type": "code",
     "collapsed": false,
     "input": [
      "#page no. 332\n",
      "import math\n",
      "Bc1=30.*10.**3.#\n",
      "cimin1=18.\n",
      "Bc2=25.*10.**3.#\n",
      "cimin2=14.\n",
      "Bc3=12.5*10.**3.#\n",
      "cimin3=12.\n",
      "Bc4=6.25*10.**3.#\n",
      "cimin4=9.\n",
      "Y=4.#path propogation constant\n",
      "BcI=6.25*10.**3.\n",
      "cieq1=cimin1+20.*math.log10(Bc1/BcI)\n",
      "cieq2=cimin2+20.*math.log10(Bc2/BcI)\n",
      "cieq3=cimin3+20.*math.log10(Bc3/BcI)\n",
      "cieq4=cimin4+20.*math.log10(Bc4/BcI)\n",
      "print'%s %.2f %s' %('(C/I)eq in dB for system I =',cieq1,'dB')\n",
      "print'%s %d %s' %('(C/I)eq in dB for system II =',cieq2,'dB')\n",
      "print'%s %d %s' %('(C/I)eq in dB for system III =',cieq3,'dB')\n",
      "print'%s %d %s' %('(C/I)eq in dB for system IV =',cieq4,'dB')\n",
      "\n",
      "\n",
      "if cieq1<cieq2:\n",
      "    if cieq1<cieq3:\n",
      "        if cieq1<cieq4:\n",
      "            print('System I offers the best capacity')\n",
      "        #end\n",
      "    #end\n",
      "    elif cieq2<cieq3:\n",
      "        if cieq2<cieq4:\n",
      "            if cieq2<cieq1:\n",
      "                print('System II offers the best capacity')\n",
      "            #end\n",
      "        #end \n",
      "    elif cieq3<cieq4:\n",
      "        if cieq3<cieq1:\n",
      "            if cieq3<cieq2:\n",
      "                print('System II offers the best capacity')\n",
      "            #end \n",
      "        #end \n",
      "            \n",
      "    elif cieq4<cieq3 :\n",
      "        if cieq4<cieq1:\n",
      "            if cieq4<cieq2:\n",
      "                    print('System IV offers the best capacity')\n",
      "            #end\n",
      "        #end\n",
      "\n",
      "#end\n"
     ],
     "language": "python",
     "metadata": {},
     "outputs": [
      {
       "output_type": "stream",
       "stream": "stdout",
       "text": [
        "(C/I)eq in dB for system I = 31.62 dB\n",
        "(C/I)eq in dB for system II = 26 dB\n",
        "(C/I)eq in dB for system III = 18 dB\n",
        "(C/I)eq in dB for system IV = 9 dB\n"
       ]
      }
     ],
     "prompt_number": 14
    },
    {
     "cell_type": "heading",
     "level": 2,
     "metadata": {},
     "source": [
      "EXAMPLE 9.16 - PG NO.333"
     ]
    },
    {
     "cell_type": "code",
     "collapsed": false,
     "input": [
      "#page no. 333\n",
      "Bt=12.5*10.**6.\n",
      "Bc=200.*10.**3.\n",
      "Ns=8.\n",
      "N=Bt/Bc\n",
      "Ns=8.\n",
      "Nu=N*Ns\n",
      "K=4.#frequency reuse factor\n",
      "SysC=Nu/K#system capacity\n",
      "M=(Bt/Bc)*Ns*(1./K)#system capacity using alternate method\n",
      "print '%s %d %s' %('System capacity per cell is =',SysC,'users/cell')\n",
      "print '%s %d %s' %('System capacity per cell,M,by using alternate method is =',M,'users/cell')\n"
     ],
     "language": "python",
     "metadata": {},
     "outputs": [
      {
       "output_type": "stream",
       "stream": "stdout",
       "text": [
        "System capacity per cell is = 125 users/cell\n",
        "System capacity per cell,M,by using alternate method is = 125 users/cell\n"
       ]
      }
     ],
     "prompt_number": 15
    },
    {
     "cell_type": "code",
     "collapsed": false,
     "input": [],
     "language": "python",
     "metadata": {},
     "outputs": []
    }
   ],
   "metadata": {}
  }
 ]
}