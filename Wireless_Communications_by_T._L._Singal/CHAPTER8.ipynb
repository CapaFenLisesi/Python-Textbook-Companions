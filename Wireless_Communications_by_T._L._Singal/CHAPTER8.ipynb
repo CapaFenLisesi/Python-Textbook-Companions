{
 "metadata": {
  "name": "",
  "signature": "sha256:b380d0b5ef5988f7e443e226b65a3140dbdac6a491db60a3303ae9eccfb37838"
 },
 "nbformat": 3,
 "nbformat_minor": 0,
 "worksheets": [
  {
   "cells": [
    {
     "cell_type": "heading",
     "level": 1,
     "metadata": {},
     "source": [
      "CHAPTER 8 - Multiple Access Techniques"
     ]
    },
    {
     "cell_type": "heading",
     "level": 2,
     "metadata": {},
     "source": [
      "EXAMPLE 8.1 - PG NO.253"
     ]
    },
    {
     "cell_type": "code",
     "collapsed": false,
     "input": [
      "#page no. 253\n",
      "import math\n",
      "Y=2.#prpogation path-loss exponent\n",
      "r2=10.**3.\n",
      "r1=10.\n",
      "delPr=20.*math.log10(r2/r1)**2.#log(r2/r1)*20dB/decade\n",
      "print '%s %d %s' %('difference between the recieved signal strength is =',delPr,'dB')\n",
      "imp=delPr+20#impact\n",
      "print '%s %d %s' %('effect of shadow fading causes difference between the recieved signal strength to exceed to',imp,'dB')\n",
      "outrad=40#out of bound radiations\n",
      "print '%s %d %s' %('IMPACT is out-of-bound radiations exceeds the desired signal strength by',imp-outrad,'dB')\n"
     ],
     "language": "python",
     "metadata": {},
     "outputs": [
      {
       "output_type": "stream",
       "stream": "stdout",
       "text": [
        "difference between the recieved signal strength is = 80 dB\n",
        "effect of shadow fading causes difference between the recieved signal strength to exceed to 100 dB\n",
        "IMPACT is out-of-bound radiations exceeds the desired signal strength by 60 dB\n"
       ]
      }
     ],
     "prompt_number": 1
    },
    {
     "cell_type": "heading",
     "level": 2,
     "metadata": {},
     "source": [
      "EXAMPLE 8.3 - PG NO.255"
     ]
    },
    {
     "cell_type": "code",
     "collapsed": false,
     "input": [
      "#page no.255\n",
      "Bt=12.5*10.**6.\n",
      "Bg=10.**3.\n",
      "Bc=30.*10.**3.\n",
      "N=(Bt-2.*Bg)/Bc#no. of channels\n",
      "print'%s %d %s' %('no. of channels available in an FDMA system is',N,'channels')\n"
     ],
     "language": "python",
     "metadata": {},
     "outputs": [
      {
       "output_type": "stream",
       "stream": "stdout",
       "text": [
        "no. of channels available in an FDMA system is 416 channels\n"
       ]
      }
     ],
     "prompt_number": 2
    },
    {
     "cell_type": "heading",
     "level": 2,
     "metadata": {},
     "source": [
      "EXAMPLE 8.4 - PG NO.256"
     ]
    },
    {
     "cell_type": "code",
     "collapsed": false,
     "input": [
      "#page no. 256\n",
      "TS=5.*10.**6.#total spectrum\n",
      "CBW=25000.#bandwidth (channel)\n",
      "ns=TS/CBW\n",
      "nspd=2.\n",
      "nd=ns/nspd#Number of simultaneous calls\n",
      "print'%s %d %s' %('Number of simultaneous calls=',nd,'calls')\n"
     ],
     "language": "python",
     "metadata": {},
     "outputs": [
      {
       "output_type": "stream",
       "stream": "stdout",
       "text": [
        "Number of simultaneous calls= 100 calls\n"
       ]
      }
     ],
     "prompt_number": 3
    },
    {
     "cell_type": "heading",
     "level": 2,
     "metadata": {},
     "source": [
      "EXAMPLE 8.5 - PG NO.259"
     ]
    },
    {
     "cell_type": "code",
     "collapsed": false,
     "input": [
      "#page no. 259\n",
      "Bt=25.*10.**6.#allocated spectrum\n",
      "Bc=200.*10.**3.#channel bandwidth\n",
      "Bg=0.#no guard band\n",
      "m=8.#no. of speech channels\n",
      "N=m*(Bt-2.*Bg)/Bc\n",
      "print'%s %d' %('no. of simultaneous subscribers a GSM system can accommodate is =',N )\n"
     ],
     "language": "python",
     "metadata": {},
     "outputs": [
      {
       "output_type": "stream",
       "stream": "stdout",
       "text": [
        "no. of simultaneous subscribers a GSM system can accommodate is = 1000\n"
       ]
      }
     ],
     "prompt_number": 4
    },
    {
     "cell_type": "heading",
     "level": 2,
     "metadata": {},
     "source": [
      "EXAMPLE 8.7 - PG NO.263"
     ]
    },
    {
     "cell_type": "code",
     "collapsed": false,
     "input": [
      "#page no. 263\n",
      "N=156.25#total bits\n",
      "nov=40.25#overhead bits\n",
      "FReff=(1.-nov/N)*100.#frame efficiency\n",
      "print'%s %.1f %s' %('the frame efficiency is',FReff,'%')\n"
     ],
     "language": "python",
     "metadata": {},
     "outputs": [
      {
       "output_type": "stream",
       "stream": "stdout",
       "text": [
        "the frame efficiency is 74.2 %\n"
       ]
      }
     ],
     "prompt_number": 5
    },
    {
     "cell_type": "heading",
     "level": 2,
     "metadata": {},
     "source": [
      "EXAMPLE 8.11 - PG NO.285"
     ]
    },
    {
     "cell_type": "code",
     "collapsed": false,
     "input": [
      "#page no. 285\n",
      "import math\n",
      "TDR=1.*10.**6.\n",
      "G=0.5\n",
      "SmaxALOHA=G*math.e**(-2.*G)*TDR# throughput\n",
      "print'%s %d %s' %('max. throughput of ALOHA with large no.of subscibers with transmission rate of 1Mbps is =',round(SmaxALOHA*10**(-3)),'kbps')\n",
      "\n",
      "Stdma=100/100*TDR\n",
      "print'%s %.f %s' %('throughput of a TDMA network with transmission rate of 1Mbps is =',Stdma*10**(-6),'Mbps')\n",
      "\n",
      "Saloha=TDR\n",
      "print'%s %.f %s' %('throughput of ALOHA with 1 subsciber with transmission rate of 1Mbps =',Saloha*10**(-6),'Mbps')\n"
     ],
     "language": "python",
     "metadata": {},
     "outputs": [
      {
       "output_type": "stream",
       "stream": "stdout",
       "text": [
        "max. throughput of ALOHA with large no.of subscibers with transmission rate of 1Mbps is = 184 kbps\n",
        "throughput of a TDMA network with transmission rate of 1Mbps is = 1 Mbps\n",
        "throughput of ALOHA with 1 subsciber with transmission rate of 1Mbps = 1 Mbps\n"
       ]
      }
     ],
     "prompt_number": 6
    }
   ],
   "metadata": {}
  }
 ]
}