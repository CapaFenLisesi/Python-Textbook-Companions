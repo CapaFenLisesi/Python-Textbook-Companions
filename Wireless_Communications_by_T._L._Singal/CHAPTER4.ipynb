{
 "metadata": {
  "name": "",
  "signature": "sha256:1d9f738ece5e9d02226f2b0a236d66afc442425e45dd750332daf1b6f8eb7528"
 },
 "nbformat": 3,
 "nbformat_minor": 0,
 "worksheets": [
  {
   "cells": [
    {
     "cell_type": "heading",
     "level": 1,
     "metadata": {},
     "source": [
      "CHAPTER 4 -  Principles of Cellular Communication"
     ]
    },
    {
     "cell_type": "heading",
     "level": 2,
     "metadata": {},
     "source": [
      "EXAMPLE 4.1 - PG NO.101"
     ]
    },
    {
     "cell_type": "code",
     "collapsed": false,
     "input": [
      "#page no. 101\n",
      "A=140.\n",
      "n=7.\n",
      "Na=40.\n",
      "C=A/n#coverage area of each cell\n",
      "Nvchpercell=30./100.*Na\n",
      "N=Nvchpercell*n#Number of voice channels\n",
      "print '%s %d %s' %('coverage area of each cell =',C,'kmsqr')\n",
      "print '%s %d %s' %('Number of voice channels =',N,'channels')\n"
     ],
     "language": "python",
     "metadata": {},
     "outputs": [
      {
       "output_type": "stream",
       "stream": "stdout",
       "text": [
        "coverage area of each cell = 20 kmsqr\n",
        "Number of voice channels = 84 channels\n"
       ]
      }
     ],
     "prompt_number": 1
    },
    {
     "cell_type": "heading",
     "level": 2,
     "metadata": {},
     "source": [
      "EXAMPLE 4.2 - PG NO.102"
     ]
    },
    {
     "cell_type": "code",
     "collapsed": false,
     "input": [
      "#page no.102\n",
      "K=4.\n",
      "Acell=7.\n",
      "Acl=K*Acell#area of cluster\n",
      "Asys=1765.\n",
      "Nservarea=Asys/Acl#number of clusters \n",
      "N=round(Nservarea)\n",
      "print'%s %d' %('Numer of times the cluster of size 4  has to be replicated is',N)\n"
     ],
     "language": "python",
     "metadata": {},
     "outputs": [
      {
       "output_type": "stream",
       "stream": "stdout",
       "text": [
        "Numer of times the cluster of size 4  has to be replicated is 63\n"
       ]
      }
     ],
     "prompt_number": 2
    },
    {
     "cell_type": "heading",
     "level": 2,
     "metadata": {},
     "source": [
      "EXAMPLE 4.3 - PG NO.103"
     ]
    },
    {
     "cell_type": "code",
     "collapsed": false,
     "input": [
      "#page no.103\n",
      "import math\n",
      "N=32.\n",
      "Rkm=1.6\n",
      "Acell=(3.*math.sqrt(3.)/2.)*(Rkm**2.)\n",
      "TA=N*Acell#total service area\n",
      "Tc=336.\n",
      "n=7.\n",
      "Ncpc=Tc/n#number of channels per cell\n",
      "TSC=Ncpc*N#total sysytem capacity\n",
      "N1=128.\n",
      "Ahex=TA/N1\n",
      "R=math.sqrt(Ahex/(1.5*math.sqrt(2.)))\n",
      "NCap=Ncpc*N1\n",
      "print'%s %d %s' %('total service area is =',round(TA),'kmsqr')\n",
      "print'%s %d ' %('number of channels per cell =',Ncpc)\n",
      "print'%s %d %s' %('total sysytem capacity in no. of channels =',TSC,'channels')\n",
      "print'%s %.2f %s' %('radius of the new smaller cell is =',R,'km')\n",
      "print'%s %d %s' %('new system capacity in no. of channels',NCap,'channels')\n"
     ],
     "language": "python",
     "metadata": {},
     "outputs": [
      {
       "output_type": "stream",
       "stream": "stdout",
       "text": [
        "total service area is = 213 kmsqr\n",
        "number of channels per cell = 48 \n",
        "total sysytem capacity in no. of channels = 1536 channels\n",
        "radius of the new smaller cell is = 0.89 km\n",
        "new system capacity in no. of channels 6144 channels\n"
       ]
      }
     ],
     "prompt_number": 3
    },
    {
     "cell_type": "heading",
     "level": 2,
     "metadata": {},
     "source": [
      "EXAMPLE 4.5 - PG NO.107"
     ]
    },
    {
     "cell_type": "code",
     "collapsed": false,
     "input": [
      "#page no.107\n",
      "N=1000.\n",
      "n=20.\n",
      "n1=4.\n",
      "M=n/n1\n",
      "TSC=N*M#system capacity\n",
      "print'%s %d %s' %('the system capacity in no. of users',TSC,'users')\n",
      "n2=100.\n",
      "n3=4.\n",
      "M1=n2/n3\n",
      "NSC=N*M1#new system capacity for increased no. of cells\n",
      "print'%s %d %s' %('the new system capacity for increased no. of cells in no. of users',NSC,'users')\n",
      "n4=700.\n",
      "n5=7.\n",
      "M2=n4/n5\n",
      "NSC1=N*M2#new system capacity for increased no. of cells\n",
      "print'%s %d %s' %('the system capacity for increased no. of cells & also cluster size in no. of users',NSC1,'users')\n"
     ],
     "language": "python",
     "metadata": {},
     "outputs": [
      {
       "output_type": "stream",
       "stream": "stdout",
       "text": [
        "the system capacity in no. of users 5000 users\n",
        "the new system capacity for increased no. of cells in no. of users 25000 users\n",
        "the system capacity for increased no. of cells & also cluster size in no. of users 100000 users\n"
       ]
      }
     ],
     "prompt_number": 4
    },
    {
     "cell_type": "heading",
     "level": 2,
     "metadata": {},
     "source": [
      "EXAMPLE 4.6 - PG NO.109"
     ]
    },
    {
     "cell_type": "code",
     "collapsed": false,
     "input": [
      "#page no.109\n",
      "import math\n",
      "Asys=4200.#area of system\n",
      "Acell=12.#area of cell\n",
      "N=1001.\n",
      "K=7.\n",
      "Acl=K*Acell#area of cluster\n",
      "M=Asys/Acl#no. of clusters\n",
      "print'%s %d %s' %('no. of clusters',M,'clusters')\n",
      "J=N/K#cell capacity\n",
      "print'%s %d %s' %('cell capacity is =',J,'channels/cell')\n",
      "C=N*M#system capacity\n",
      "print'%s %d %s' %('the system capacity in no. of channels',C,'channels')\n",
      "k=4.\n",
      "acl=k*Acell\n",
      "m=Asys/acl\n",
      "m1=math.floor(m)\n",
      "print'%s %d' %('no. of clusters for reduced cluster size',m1)\n",
      "c=N*m1\n",
      "print'%s %d %s' %('new system capacity for reduced cluster size in no. of channels',c,'channels')\n",
      "#answers vary due to approximations."
     ],
     "language": "python",
     "metadata": {},
     "outputs": [
      {
       "output_type": "stream",
       "stream": "stdout",
       "text": [
        "no. of clusters 50 clusters\n",
        "cell capacity is = 143 channels/cell\n",
        "the system capacity in no. of channels 50050 channels\n",
        "no. of clusters for reduced cluster size 87\n",
        "new system capacity for reduced cluster size in no. of channels 87087 channels\n"
       ]
      }
     ],
     "prompt_number": 5
    },
    {
     "cell_type": "heading",
     "level": 2,
     "metadata": {},
     "source": [
      "EXAMPLE 4.7 - PG NO.110"
     ]
    },
    {
     "cell_type": "code",
     "collapsed": false,
     "input": [
      "#page no. 110\n",
      "n=16.\n",
      "N=7.\n",
      "M=12.\n",
      "Ncpc=n*N#no. of channels per cluster\n",
      "TSC=Ncpc*M#system capacity\n",
      "print'%s %d %s' %('no. of channels per cluster is =',Ncpc,'channels/cluster')\n",
      "print'%s %d %s' %('the system capacity in channels/system is =',TSC,'channels/system')\n"
     ],
     "language": "python",
     "metadata": {},
     "outputs": [
      {
       "output_type": "stream",
       "stream": "stdout",
       "text": [
        "no. of channels per cluster is = 112 channels/cluster\n",
        "the system capacity in channels/system is = 1344 channels/system\n"
       ]
      }
     ],
     "prompt_number": 6
    },
    {
     "cell_type": "heading",
     "level": 2,
     "metadata": {},
     "source": [
      "EXAMPLE 4.9 - PG NO.114"
     ]
    },
    {
     "cell_type": "code",
     "collapsed": false,
     "input": [
      "#page no. 114\n",
      "i=2.#no. of cells(centre to centre) along any chain of hexagon\n",
      "j=4.#no. of cells(centre to centre) in 60deg. counterclockwise of i\n",
      "K=i*i+j*j+i*j#cluster size\n",
      "print'%s %.f' %('no. of cells in a cluster for i=2 & j=4 is',K)\n",
      "\n",
      "i1=3.\n",
      "j1=3.\n",
      "K1=i1*i1+j1*j1+i1*j1#cluster size\n",
      "print'%s %.f' %('no. of cells in a cluster for i=3 & j=3 is',K1)\n"
     ],
     "language": "python",
     "metadata": {},
     "outputs": [
      {
       "output_type": "stream",
       "stream": "stdout",
       "text": [
        "no. of cells in a cluster for i=2 & j=4 is 28\n",
        "no. of cells in a cluster for i=3 & j=3 is 27\n"
       ]
      }
     ],
     "prompt_number": 7
    },
    {
     "cell_type": "heading",
     "level": 2,
     "metadata": {},
     "source": [
      "EXAMPLE 4.10 - PG NO.115"
     ]
    },
    {
     "cell_type": "code",
     "collapsed": false,
     "input": [
      "#page no. 115\n",
      "R=.64#radius\n",
      "q=12.#co-channel reuse ratio\n",
      "D=q*R#nearest distance\n",
      "print'%s %.2f %s' %('distance from the nearest cochannel cell is D =',D,'km')\n"
     ],
     "language": "python",
     "metadata": {},
     "outputs": [
      {
       "output_type": "stream",
       "stream": "stdout",
       "text": [
        "distance from the nearest cochannel cell is D = 7.68 km\n"
       ]
      }
     ],
     "prompt_number": 8
    },
    {
     "cell_type": "heading",
     "level": 2,
     "metadata": {},
     "source": [
      "EXAMPLE 4.11 - PG NO.115"
     ]
    },
    {
     "cell_type": "code",
     "collapsed": false,
     "input": [
      "#page no.115\n",
      "R=.8\n",
      "D=6.4\n",
      "q=D/R#frquency reuse ratio\n",
      "print'%s %d' %('frquency reuse ratio q is =',q)\n"
     ],
     "language": "python",
     "metadata": {},
     "outputs": [
      {
       "output_type": "stream",
       "stream": "stdout",
       "text": [
        "frquency reuse ratio q is = 8\n"
       ]
      }
     ],
     "prompt_number": 9
    }
   ],
   "metadata": {}
  }
 ]
}