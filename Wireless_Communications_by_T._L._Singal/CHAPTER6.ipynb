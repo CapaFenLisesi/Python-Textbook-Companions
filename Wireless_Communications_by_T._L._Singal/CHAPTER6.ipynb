{
 "metadata": {
  "name": "",
  "signature": "sha256:9296826215472ab3953ede0f25f030039fac7730dff1e65f4c0713a4c12b00b0"
 },
 "nbformat": 3,
 "nbformat_minor": 0,
 "worksheets": [
  {
   "cells": [
    {
     "cell_type": "heading",
     "level": 1,
     "metadata": {},
     "source": [
      "CHAPTER 6 - Frequency Management and Channel Assignment "
     ]
    },
    {
     "cell_type": "heading",
     "level": 2,
     "metadata": {},
     "source": [
      "EXAMPLE 6.1 - PG NO.159"
     ]
    },
    {
     "cell_type": "code",
     "collapsed": false,
     "input": [
      "#page no. 159\n",
      "K=4.\n",
      "tbw=20.*10.**6.#total bandwidth\n",
      "cbwpc=25.*10.**3.#channel bandwidth/simplex channel\n",
      "n=2.#in a duplex link no of channels\n",
      "dcbw=n*cbwpc#duplex channel bandwidth\n",
      "N=tbw/dcbw\n",
      "N1=N/K\n",
      "print '%s %d %s' %('total no. of duplex channels =',N,'channels')\n",
      "print '%s %d %s' %('no.of channels per cell-site =',N1,'channels')\n"
     ],
     "language": "python",
     "metadata": {},
     "outputs": [
      {
       "output_type": "stream",
       "stream": "stdout",
       "text": [
        "total no. of duplex channels = 400 channels\n",
        "no.of channels per cell-site = 100 channels\n"
       ]
      }
     ],
     "prompt_number": 1
    },
    {
     "cell_type": "heading",
     "level": 2,
     "metadata": {},
     "source": [
      "EXAMPLE 6.4 - PG NO.162"
     ]
    },
    {
     "cell_type": "code",
     "collapsed": false,
     "input": [
      "#page no. 162\n",
      "K=4.\n",
      "N=9.#no.of cells in 1 cluster\n",
      "tbw=60.*10.**6.#total bandwidth\n",
      "cbwpc=25.*10.**3.#channel bandwidth/simplex channel\n",
      "n=2.#in a duplex link no of channels\n",
      "dcbw=n*cbwpc#duplex channel bandwidth\n",
      "N=tbw/dcbw\n",
      "\n",
      "sbw=10.**6.#bandwidth for setup channels\n",
      "N1=sbw/dcbw#total no.of available setup channels\n",
      "print'%s %.f %s' %('total no.of available setup channels =',N1,'channels')\n",
      "\n",
      "vbw=tbw-sbw\n",
      "N2=vbw/dcbw#total no. of available voice channels\n",
      "\n",
      "print'%s %.f %s' %('total no.of available voice channels =',N2,'voice channels')\n"
     ],
     "language": "python",
     "metadata": {},
     "outputs": [
      {
       "output_type": "stream",
       "stream": "stdout",
       "text": [
        "total no.of available setup channels = 20 channels\n",
        "total no.of available voice channels = 1180 voice channels\n"
       ]
      }
     ],
     "prompt_number": 3
    },
    {
     "cell_type": "heading",
     "level": 2,
     "metadata": {},
     "source": [
      "EXAMPLE 6.5 - PG NO.164"
     ]
    },
    {
     "cell_type": "code",
     "collapsed": false,
     "input": [
      "#page no.164\n",
      "NV=168.\n",
      "N=7.\n",
      "NVpc=NV/N#number of voice channels omnidirectional case\n",
      "\n",
      "NS=3.\n",
      "NScl=N*NS\n",
      "NcS=NV/NScl #number of voice channels 3-sector\n",
      "\n",
      "NS1=6.\n",
      "NScl1=N*NS1\n",
      "NcS1=NV/NScl1 #number of voice channels 6-sector\n",
      "\n",
      "print'%s %.f' %('number of voice channels assigned in each cell is =',NVpc)\n",
      "\n",
      "print'%s %.f' %('number of voice channels assigned in each sector(3-sector case) is =',NcS)\n",
      "\n",
      "print'%s %.f' %('number of voice channels assigned in each sector(6-sector case) is =',NcS1)\n"
     ],
     "language": "python",
     "metadata": {},
     "outputs": [
      {
       "output_type": "stream",
       "stream": "stdout",
       "text": [
        "number of voice channels assigned in each cell is = 24\n",
        "number of voice channels assigned in each sector(3-sector case) is = 8\n",
        "number of voice channels assigned in each sector(6-sector case) is = 4\n"
       ]
      }
     ],
     "prompt_number": 4
    },
    {
     "cell_type": "heading",
     "level": 2,
     "metadata": {},
     "source": [
      "EXAMPLE 6.10 - PG NO.173"
     ]
    },
    {
     "cell_type": "code",
     "collapsed": false,
     "input": [
      "#page no. 173\n",
      "import math\n",
      "R2=20.\n",
      "N=7.\n",
      "R1=R2/2.6\n",
      "A=round(3.*math.sqrt(3.)/2.*R1**2.)#size of smaller cell\n",
      "print'%s %.f %s' %('size of each smaller cell is =',A,'kmsqr')\n"
     ],
     "language": "python",
     "metadata": {},
     "outputs": [
      {
       "output_type": "stream",
       "stream": "stdout",
       "text": [
        "size of each smaller cell is = 154 kmsqr\n"
       ]
      }
     ],
     "prompt_number": 5
    }
   ],
   "metadata": {}
  }
 ]
}