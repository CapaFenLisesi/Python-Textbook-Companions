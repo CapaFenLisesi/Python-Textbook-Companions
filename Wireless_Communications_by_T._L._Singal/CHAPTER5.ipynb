{
 "metadata": {
  "name": "",
  "signature": "sha256:ee7d80ecb4663168394a1a558769dfa112d29db92a494569a7cd8e5de95a8ba8"
 },
 "nbformat": 3,
 "nbformat_minor": 0,
 "worksheets": [
  {
   "cells": [
    {
     "cell_type": "heading",
     "level": 1,
     "metadata": {},
     "source": [
      "CHAPTER 5 - Cellular antenna system design considerations"
     ]
    },
    {
     "cell_type": "heading",
     "level": 2,
     "metadata": {},
     "source": [
      "EXAMPLE 5.1 - PG NO.133"
     ]
    },
    {
     "cell_type": "code",
     "collapsed": false,
     "input": [
      "#page no.133\n",
      "op=15.\n",
      "l=2.\n",
      "n=2.\n",
      "l1=n*l#connector loss\n",
      "l2=3.#coaxial cable loss\n",
      "tl=l1+l2#total loss\n",
      "ip=op-tl#input=output-total loss\n",
      "print '%s %s %d %s' %('signal level at the i/p of the antenna is =','+',ip,'dBm')\n"
     ],
     "language": "python",
     "metadata": {},
     "outputs": [
      {
       "output_type": "stream",
       "stream": "stdout",
       "text": [
        "signal level at the i/p of the antenna is = + 8 dBm\n"
       ]
      }
     ],
     "prompt_number": 1
    },
    {
     "cell_type": "heading",
     "level": 2,
     "metadata": {},
     "source": [
      "EXAMPLE 5.2 - PG NO.136"
     ]
    },
    {
     "cell_type": "code",
     "collapsed": false,
     "input": [
      "#page no. 136\n",
      "import math\n",
      "ci=18.\n",
      "CI=10.**((ci)/10.)\n",
      "q=(6*(CI))**0.25\n",
      "K=math.ceil(q*q/3)#cluster size\n",
      "print'%s %d' %('minimum cluster size is K =',K)\n",
      "k=7\n",
      "q1=math.sqrt(3*k)\n",
      "c1i1=q1**4/6\n",
      "C1I1=10*math.log10(c1i1)\n",
      "if (C1I1<20):\n",
      "\tprint('cluster size cannot meet the desired C/I requirement')\n",
      "\tC2I2=10**(20/10)\n",
      "\tq2=(6*C2I2)**0.25\n",
      "\tk1=math.ceil((q2)**2/3)\n",
      "\tprint'%s %d' %('nearest valid cluster size is K =',k1)\n",
      "else: \n",
      "\tprint('cluster size determined is adequate')\n"
     ],
     "language": "python",
     "metadata": {},
     "outputs": [
      {
       "output_type": "stream",
       "stream": "stdout",
       "text": [
        "minimum cluster size is K = 7\n",
        "cluster size cannot meet the desired C/I requirement\n",
        "nearest valid cluster size is K = 9\n"
       ]
      }
     ],
     "prompt_number": 2
    },
    {
     "cell_type": "heading",
     "level": 2,
     "metadata": {},
     "source": [
      "EXAMPLE 5.4 - PG NO.139"
     ]
    },
    {
     "cell_type": "code",
     "collapsed": false,
     "input": [
      "#page no. 139\n",
      "import math\n",
      "Y=4.#path loss exponent\n",
      "N=6.\n",
      "\n",
      "K=7.\n",
      "q=math.sqrt(3.*K)\n",
      "CI=(2.*(q-1.)**(-Y)+2.*q**(-Y)+2.*(q+1.)**(-Y))**(-1.)#C/I for omnidirectional operating cell\n",
      "CIdB=10.*math.log10(CI)\n",
      "print'%s %d %s' %('co-channel interfernce ratio C/I for K=7 is =',CIdB,'dB')\n",
      "\n",
      "K1=9.\n",
      "q1=math.sqrt(3.*K1)\n",
      "CI1=(2.*(q1-1.)**(-Y)+2.*q1**(-Y)+2.*(q1+1.)**(-Y))**(-1.)\n",
      "CI1dB=10.*math.log10(CI1)\n",
      "print'%s %.1f %s' %('co-channel interfernce ratio C/I for K=9 is =',CI1dB,'dB')\n",
      "\n",
      "K2=12.\n",
      "q2=math.sqrt(3.*K2)\n",
      "CI2=(2.*(q2-1.)**(-Y)+2.*q2**(-Y)+2.*(q2+1.)**(-Y))**(-1.)\n",
      "CI2dB=10.*math.log10(CI2)\n",
      "print'%s %.1f %s' %('co-channel interfernce ratio C/I in dB for K=12',CI2dB,'dB')\n",
      "\n",
      "\n",
      "if (CIdB<18) :\n",
      "\tprint('K=7 is imperfect')\n",
      "else :\n",
      "\tprint('K=7 is perfect')\n",
      "#end\n",
      "\n",
      "if (CI1dB<18):\n",
      "\tprint('K=9 is imperfect')\n",
      "else: \n",
      "\tprint('K=9 is perfect')\n",
      "#end\n",
      "\n",
      "if (CI2dB<18) :\n",
      "\tprint('K=12 is imperfect')\n",
      "else: \n",
      "\tprint('K=12 is perfect')\n",
      "#end\n"
     ],
     "language": "python",
     "metadata": {},
     "outputs": [
      {
       "output_type": "stream",
       "stream": "stdout",
       "text": [
        "co-channel interfernce ratio C/I for K=7 is = 17 dB\n",
        "co-channel interfernce ratio C/I for K=9 is = 19.8 dB\n",
        "co-channel interfernce ratio C/I in dB for K=12 22.5 dB\n",
        "K=7 is imperfect\n",
        "K=9 is perfect\n",
        "K=12 is perfect\n"
       ]
      }
     ],
     "prompt_number": 3
    },
    {
     "cell_type": "heading",
     "level": 2,
     "metadata": {},
     "source": [
      "EXAMPLE 5.5 - PG NO.142"
     ]
    },
    {
     "cell_type": "code",
     "collapsed": false,
     "input": [
      "#page no.142\n",
      "import math\n",
      "N=2.\n",
      "Y=4.\n",
      "K=7.\n",
      "q=math.sqrt(3*K)\n",
      "CI=((q**(-Y)+(q+0.7)**(-Y)))**(-1)#C/I for 3-sector\n",
      "CIdB=10*math.log10(CI)\n",
      "print'%s %.1f %s' %('worst case signal to co-channel interfernce ratio C/I is =',CIdB,'dB')\n"
     ],
     "language": "python",
     "metadata": {},
     "outputs": [
      {
       "output_type": "stream",
       "stream": "stdout",
       "text": [
        "worst case signal to co-channel interfernce ratio C/I is = 24.5 dB\n"
       ]
      }
     ],
     "prompt_number": 4
    },
    {
     "cell_type": "heading",
     "level": 2,
     "metadata": {},
     "source": [
      "EXAMPLE 5.6 - PG NO.143"
     ]
    },
    {
     "cell_type": "code",
     "collapsed": false,
     "input": [
      "#page no.143\n",
      "import math\n",
      "N=2\n",
      "Y=4\n",
      "K=4\n",
      "\n",
      "q=math.sqrt(3*K)\n",
      "CI=((q**(-Y)+(q+0.7)**(-Y)))**(-1)#C/I for 3-sector\n",
      "CIdB=10*math.log10(CI)\n",
      "print'%s %d %s' %('worst case C/I is',round(CIdB),'dB')\n",
      "if CIdB>18 :\n",
      "\ta= CIdB-6\n",
      "\tif a>18 :\n",
      "\t\tprint('K=4 is adequate system as C/I is still geater than 18dB after considering the practical conditions with reductions of 6dB ')\n",
      "\n",
      "\telse :\n",
      "\t\tprint('K=4 is inadequate system as C/I is smaller than 18dB after considering the practical conditions with reductions of 6dB ')\n",
      "\t#end\n",
      "\n",
      "else: \n",
      "\tprint('K=4 is inadequate system as C/I is less than the minimum required value of 18dB ')\n",
      "#end\n"
     ],
     "language": "python",
     "metadata": {},
     "outputs": [
      {
       "output_type": "stream",
       "stream": "stdout",
       "text": [
        "worst case C/I is 20 dB\n",
        "K=4 is inadequate system as C/I is smaller than 18dB after considering the practical conditions with reductions of 6dB \n"
       ]
      }
     ],
     "prompt_number": 5
    },
    {
     "cell_type": "heading",
     "level": 2,
     "metadata": {},
     "source": [
      "EXAMPLE 5.7 - PG NO.145"
     ]
    },
    {
     "cell_type": "code",
     "collapsed": false,
     "input": [
      "#page no.145\n",
      "import math\n",
      "N=1.\n",
      "Y=4.\n",
      "K=7.\n",
      "q=math.sqrt(3.*K)\n",
      "CI=((q+0.7)**(-Y))**(-1.)#C/I for 6-sector\n",
      "CIdB=10.*math.log10(CI)\n",
      "print'%s %d %s' %('signal to co-channel interfernce ratio C/I is =',round(CIdB),'dB')\n"
     ],
     "language": "python",
     "metadata": {},
     "outputs": [
      {
       "output_type": "stream",
       "stream": "stdout",
       "text": [
        "signal to co-channel interfernce ratio C/I is = 29 dB\n"
       ]
      }
     ],
     "prompt_number": 6
    },
    {
     "cell_type": "heading",
     "level": 2,
     "metadata": {},
     "source": [
      "EXAMPLE 5.8 - PG NO.146"
     ]
    },
    {
     "cell_type": "code",
     "collapsed": false,
     "input": [
      "#page no. 146\n",
      "import math\n",
      "N=1.\n",
      "Y=4.\n",
      "K=4.\n",
      "q=math.sqrt(3.*K)\n",
      "CI=((q+0.7)**(-Y))**(-1)#C/I for 6-sector\n",
      "CIdB=10.*math.log10(CI)\n",
      "print'%s %.2f %s' %('signal to co-channel interfernce ratio C/I is =',CIdB,'dB')\n",
      "\n",
      "if CIdB>18 :\n",
      "\ta= CIdB-6\n",
      "\tif a>18:\n",
      "\t\tprint('K=4 is adequate system as C/I is still geater than 18dB after considering the practical conditions with reductions of 6dB ')\n",
      "\n",
      "\telse :\n",
      "\t\tprint('K=4 is inadequate system as C/I is smaller than 18dB after considering the practical conditions with reductions of 6dB ')\n",
      "\t#end\n",
      "\n",
      "else: \n",
      "\tprint('K=4 is inadequate system as C/I is less than the minimum required value of 18dB ')\n",
      "#end\n"
     ],
     "language": "python",
     "metadata": {},
     "outputs": [
      {
       "output_type": "stream",
       "stream": "stdout",
       "text": [
        "signal to co-channel interfernce ratio C/I is = 24.78 dB\n",
        "K=4 is adequate system as C/I is still geater than 18dB after considering the practical conditions with reductions of 6dB \n"
       ]
      }
     ],
     "prompt_number": 7
    },
    {
     "cell_type": "heading",
     "level": 2,
     "metadata": {},
     "source": [
      "EXAMPLE 5.9 - PG NO.146"
     ]
    },
    {
     "cell_type": "code",
     "collapsed": false,
     "input": [
      "#page no.146\n",
      "CIdB=15.\n",
      "CI=10.**(CIdB/10.)\n",
      "q=(6.*(CI))**0.25\n",
      "K=q*q/3.\n",
      "\n",
      "\n",
      "if K >4:\n",
      "    K=7.\n",
      "print'%s %d' %('optimum value of K for an omnidirectional antenna design is K =',K)\n",
      "q1=(CI**0.25-0.7)\n",
      "k=q1*q1/3.\n",
      "\n",
      "\n",
      "if k<3: \n",
      "\tk=3\n",
      "#end\n",
      "\tprint'%s %d' %('practical value of K for 6-sector 60deg. directionl antenna design is K =',k)\n"
     ],
     "language": "python",
     "metadata": {},
     "outputs": [
      {
       "output_type": "stream",
       "stream": "stdout",
       "text": [
        "optimum value of K for an omnidirectional antenna design is K = 7\n",
        "practical value of K for 6-sector 60deg. directionl antenna design is K = 3\n"
       ]
      }
     ],
     "prompt_number": 8
    },
    {
     "cell_type": "heading",
     "level": 2,
     "metadata": {},
     "source": [
      "EXAMPLE 5.10 - PG NO.148"
     ]
    },
    {
     "cell_type": "code",
     "collapsed": false,
     "input": [
      "#page no. 148\n",
      "N=312.\n",
      "K=7.\n",
      "Nspc=3.\n",
      "Ntcpc=N/K\n",
      "Ntcps=Ntcpc/Nspc#number of traffic channels per sector\n",
      "print'%s %.f' %('number of traffic channels per sector for System A is =',Ntcps)\n",
      "\n",
      "N1=312.\n",
      "K1=4.\n",
      "Nspc1=6.\n",
      "Ntcpc1=N1/K1\n",
      "Ntcps1=Ntcpc1/Nspc1#number of traffic channels per sector\n",
      "print'%s %.f' %('number of traffic channels per sector for System B is =',Ntcps1)\n"
     ],
     "language": "python",
     "metadata": {},
     "outputs": [
      {
       "output_type": "stream",
       "stream": "stdout",
       "text": [
        "number of traffic channels per sector for System A is = 15\n",
        "number of traffic channels per sector for System B is = 13\n"
       ]
      }
     ],
     "prompt_number": 9
    }
   ],
   "metadata": {}
  }
 ]
}