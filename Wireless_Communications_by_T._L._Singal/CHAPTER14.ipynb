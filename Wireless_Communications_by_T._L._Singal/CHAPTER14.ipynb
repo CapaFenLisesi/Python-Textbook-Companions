{
 "metadata": {
  "name": "",
  "signature": "sha256:0aa996ba15f5f5eba3a2dc2201fd870de2e572f5e18181b2de999d668db465cf"
 },
 "nbformat": 3,
 "nbformat_minor": 0,
 "worksheets": [
  {
   "cells": [
    {
     "cell_type": "heading",
     "level": 1,
     "metadata": {},
     "source": [
      "CHAPTER 14 - Emerging Wireless Network Technologies "
     ]
    },
    {
     "cell_type": "heading",
     "level": 2,
     "metadata": {},
     "source": [
      "EXAMPLE 14.3 - PG NO. 569"
     ]
    },
    {
     "cell_type": "code",
     "collapsed": false,
     "input": [
      "#page no. 569\n",
      "TDR=2000.#transmission data rate\n",
      "Size=20.*8.\n",
      "dtt=Size/TDR#data transfer time\n",
      "print'%s %d %s' %('data transfer time =',dtt*10.**3.,'ms')\n"
     ],
     "language": "python",
     "metadata": {},
     "outputs": [
      {
       "output_type": "stream",
       "stream": "stdout",
       "text": [
        "data transfer time = 80 ms\n"
       ]
      }
     ],
     "prompt_number": 1
    },
    {
     "cell_type": "heading",
     "level": 2,
     "metadata": {},
     "source": [
      "EXAMPLE 14.4 - PG NO. 569"
     ]
    },
    {
     "cell_type": "code",
     "collapsed": false,
     "input": [
      "#page no. 569\n",
      "TDR=2.\n",
      "dtt=16.#data transfer time\n",
      "Size=TDR*dtt#size\n",
      "size=Size/8\n",
      "print'%s %d %s %s %d %s' %('size of a file transferred is =',Size,'Mb', 'or',size,'MB(Mega Bytes)')\n",
      " "
     ],
     "language": "python",
     "metadata": {},
     "outputs": [
      {
       "output_type": "stream",
       "stream": "stdout",
       "text": [
        "size of a file transferred is = 32 Mb or 4 MB(Mega Bytes)\n"
       ]
      }
     ],
     "prompt_number": 2
    },
    {
     "cell_type": "heading",
     "level": 2,
     "metadata": {},
     "source": [
      "EXAMPLE 14.5 - PG NO. 571"
     ]
    },
    {
     "cell_type": "code",
     "collapsed": false,
     "input": [
      "#page no. 571\n",
      "import math\n",
      "tn=52.#no.of subcarriers\n",
      "np=4.#no.of subcarriers used as pilot subcarriers\n",
      "nd=tn-np#no.of data subcarriers\n",
      "FECcr=3./4.#forward error correction code rate\n",
      "m=math.log10(64.)/math.log10(2.)#bits per symbol\n",
      "ndpos=m*FECcr*nd#no. of data bits transmitted per ofdm symbol\n",
      "odsd=4.*10.**-6.#data symbol duration\n",
      "TDR=ndpos/odsd\n",
      "print'%s %d %s' %('transmission data rate =',TDR*10**(-6),'Mbps')\n"
     ],
     "language": "python",
     "metadata": {},
     "outputs": [
      {
       "output_type": "stream",
       "stream": "stdout",
       "text": [
        "transmission data rate = 54 Mbps\n"
       ]
      }
     ],
     "prompt_number": 3
    },
    {
     "cell_type": "heading",
     "level": 2,
     "metadata": {},
     "source": [
      "EXAMPLE 14.10 - PG NO. 594"
     ]
    },
    {
     "cell_type": "code",
     "collapsed": false,
     "input": [
      "#page no. 594\n",
      "N=100.\n",
      "c=4.\n",
      "MNw=N*c\n",
      "TNw=MNw/2.#no. of wireless links\n",
      "print'%s %d' %('total no. of wireless links in the network is =',TNw)\n"
     ],
     "language": "python",
     "metadata": {},
     "outputs": [
      {
       "output_type": "stream",
       "stream": "stdout",
       "text": [
        "total no. of wireless links in the network is = 200\n"
       ]
      }
     ],
     "prompt_number": 4
    }
   ],
   "metadata": {}
  }
 ]
}