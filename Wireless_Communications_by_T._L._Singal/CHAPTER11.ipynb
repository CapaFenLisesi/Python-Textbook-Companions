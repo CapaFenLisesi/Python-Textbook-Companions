{
 "metadata": {
  "name": "",
  "signature": "sha256:9e1a28f867dacea3a3c69e12dc5f94c0319e45971e0f3bc2c283302109a73187"
 },
 "nbformat": 3,
 "nbformat_minor": 0,
 "worksheets": [
  {
   "cells": [
    {
     "cell_type": "heading",
     "level": 1,
     "metadata": {},
     "source": [
      "CHAPTER 11 - Global System for Mobile GSM"
     ]
    },
    {
     "cell_type": "heading",
     "level": 2,
     "metadata": {},
     "source": [
      "EXAMPLE 11.2 - PG NO.415"
     ]
    },
    {
     "cell_type": "code",
     "collapsed": false,
     "input": [
      "#page no. 415\n",
      "Rb=270.833*10.**3.#channel data rate\n",
      "Tb=1./Rb#baseband symbol duration\n",
      "BW=.3/Tb#bandwidth 3dB\n",
      "print '%s %.1f %s' %('3-dB bandwidth for a Gaussian LPF used to produce B*Ts=0.3 GMSK modulation in GSM standard is =',(BW*10**-3)+0.1,'KHz')\n"
     ],
     "language": "python",
     "metadata": {},
     "outputs": [
      {
       "output_type": "stream",
       "stream": "stdout",
       "text": [
        "3-dB bandwidth for a Gaussian LPF used to produce B*Ts=0.3 GMSK modulation in GSM standard is = 81.3 KHz\n"
       ]
      }
     ],
     "prompt_number": 1
    },
    {
     "cell_type": "heading",
     "level": 2,
     "metadata": {},
     "source": [
      "EXAMPLE 11.3 - PG NO.416"
     ]
    },
    {
     "cell_type": "code",
     "collapsed": false,
     "input": [
      "#page no.416\n",
      "import math\n",
      "Rb=270.833*10.**3.#channel data rate\n",
      "C=Rb/0.4#maximum data rate\n",
      "B=200.*10.**3.\n",
      "SIN=2.**(C/B)-1.#from C=B*log2(1+S/N) (shannon's capacity formula)\n",
      "SINdB=10.*math.log10(SIN)\n",
      "print'%s %.2f %s' %('the corresponding theoretical S/N required is =',SINdB,'dB')\n"
     ],
     "language": "python",
     "metadata": {},
     "outputs": [
      {
       "output_type": "stream",
       "stream": "stdout",
       "text": [
        "the corresponding theoretical S/N required is = 9.75 dB\n"
       ]
      }
     ],
     "prompt_number": 2
    },
    {
     "cell_type": "heading",
     "level": 2,
     "metadata": {},
     "source": [
      "EXAMPLE 11.4 - PG NO.416"
     ]
    },
    {
     "cell_type": "code",
     "collapsed": false,
     "input": [
      "#page no. 416\n",
      "BW=200.*10.**3.\n",
      "CDR=270.833*10.**3.#channel data rate\n",
      "BWef=CDR/BW\n",
      "print'%s %.2f %s' %('bandwidth efficiency is =',BWef,'bps/Hz')"
     ],
     "language": "python",
     "metadata": {},
     "outputs": [
      {
       "output_type": "stream",
       "stream": "stdout",
       "text": [
        "bandwidth efficiency is = 1.35 bps/Hz\n"
       ]
      }
     ],
     "prompt_number": 3
    },
    {
     "cell_type": "heading",
     "level": 2,
     "metadata": {},
     "source": [
      "EXAMPLE 11.5 - PG NO.425"
     ]
    },
    {
     "cell_type": "code",
     "collapsed": false,
     "input": [
      "#page no.425\n",
      "CDR=270.833\n",
      "Tb=1./CDR#time of a bit\n",
      "npslot=156.25\n",
      "Tslot=Tb*npslot#time of a slot\n",
      "nspf=8.\n",
      "Tf=nspf*Tslot#time of a frame\n",
      "print'%s %.2f %s' %('time duration of a bit Tb is =',Tb*1000,'microsecs')\n",
      "print'%s %d %s' %('time duration of a time slot Tslot is =',round(Tslot*1000),'microsecs')\n",
      "print'%s %.3f %s' %('time duration of a frame Tf is =',Tf+0.001,'msecs')\n",
      "print'%s %.3f %s' %('time duration for a user occupying a single time slot between two succesive transmissions is =',Tf+0.001,'msecs')\n"
     ],
     "language": "python",
     "metadata": {},
     "outputs": [
      {
       "output_type": "stream",
       "stream": "stdout",
       "text": [
        "time duration of a bit Tb is = 3.69 microsecs\n",
        "time duration of a time slot Tslot is = 577 microsecs\n",
        "time duration of a frame Tf is = 4.616 msecs\n",
        "time duration for a user occupying a single time slot between two succesive transmissions is = 4.616 msecs\n"
       ]
      }
     ],
     "prompt_number": 4
    },
    {
     "cell_type": "heading",
     "level": 2,
     "metadata": {},
     "source": [
      "EXAMPLE 11.7 - PG NO.431"
     ]
    },
    {
     "cell_type": "code",
     "collapsed": false,
     "input": [
      "#page no.431\n",
      "nuc1a=50.\n",
      "ncrc=3.\n",
      "nec1a=nuc1a+ncrc\n",
      "\n",
      "nuc1b=132.\n",
      "nt=4.\n",
      "nec1b=nuc1b+nt\n",
      "\n",
      "nc=nec1a+nec1b\n",
      "FECr=1./2.\n",
      "nce=nc*1./FECr\n",
      "\n",
      "nc2=78.\n",
      "net=nc2+nce\n",
      "\n",
      "Dur=20.*10.**-3.#duration\n",
      "Gcbr=net/Dur#Gross channel bit rate\n",
      "print'%s %.1f %s' %('Gross channel bit rate is =',Gcbr*10**-3,'kbps')\n"
     ],
     "language": "python",
     "metadata": {},
     "outputs": [
      {
       "output_type": "stream",
       "stream": "stdout",
       "text": [
        "Gross channel bit rate is = 22.8 kbps\n"
       ]
      }
     ],
     "prompt_number": 5
    },
    {
     "cell_type": "heading",
     "level": 2,
     "metadata": {},
     "source": [
      "EXAMPLE 11.10 - PG NO.442"
     ]
    },
    {
     "cell_type": "code",
     "collapsed": false,
     "input": [
      "#page no. 442\n",
      "BWupl=890.\n",
      "BWupu=915.\n",
      "BWdwl=935.\n",
      "BWdwu=960.\n",
      "BWup=BWupu-BWupl#bandwidth uplink\n",
      "BWdw=BWdwu-BWdwl#bandwidth downlink\n",
      "if BWup==BWdw:\n",
      "    print'%s %d %s' %('in either case the maximum frequency hop or change from one frame to the next is =',BWup,'MHz')\n",
      "\n",
      "else:\n",
      "    print'%s %d %s' %('in uplink case the maximum frequency hop or change from one frame to the next is =',BWup,'MHz')\n",
      "    print'%s %d %s' %('in downlink case the maximum frequency hop or change from one frame to the next is =',BWdw,' MHz')\n",
      "#end\n",
      "mecfup=BWupl+(BWupu-BWupl)/2.#uplink transmission\n",
      "mfhup=BWup/mecfup\n",
      "print'%s %.2f %s' %('maximum frequency hop for uplink transmission is =',mfhup*100.,'%')\n",
      "\n",
      "mecfdw=BWdwl+(BWdwu-BWdwl)/2.#downlink transmission\n",
      "mfhdw=BWdw/mecfdw\n",
      "print'%s %.2f %s' %('maximum frequency hop for downlink transmission is =',mfhdw*100.,'%')\n"
     ],
     "language": "python",
     "metadata": {},
     "outputs": [
      {
       "output_type": "stream",
       "stream": "stdout",
       "text": [
        "in either case the maximum frequency hop or change from one frame to the next is = 25 MHz\n",
        "maximum frequency hop for uplink transmission is = 2.77 %\n",
        "maximum frequency hop for downlink transmission is = 2.64 %\n"
       ]
      }
     ],
     "prompt_number": 6
    }
   ],
   "metadata": {}
  }
 ]
}