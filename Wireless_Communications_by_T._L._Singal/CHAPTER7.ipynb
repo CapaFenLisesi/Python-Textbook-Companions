{
 "metadata": {
  "name": "",
  "signature": "sha256:8f2ee048e36a112e9f429a1e72c1b5d7dac73120942146fdfdccff4032340661"
 },
 "nbformat": 3,
 "nbformat_minor": 0,
 "worksheets": [
  {
   "cells": [
    {
     "cell_type": "heading",
     "level": 1,
     "metadata": {},
     "source": [
      "CHAPTER 7 - Cellular System Design Tradeoffs"
     ]
    },
    {
     "cell_type": "heading",
     "level": 2,
     "metadata": {},
     "source": [
      "EXAMPLE 7.7 - PG NO.195"
     ]
    },
    {
     "cell_type": "code",
     "collapsed": false,
     "input": [
      "#page no.195\n",
      "Nmacro=7.\n",
      "Nchmacro=16.\n",
      "C1=Nmacro*Nchmacro#channel capacity \n",
      "\n",
      "Nminpmac=4.\n",
      "C2=Nmacro*Nchmacro*Nminpmac\n",
      "\n",
      "Nmicpmin=4.\n",
      "C3=Nmacro*Nchmacro*Nminpmac*Nmicpmin\n",
      "\n",
      "print '%s %d %s' %('channel capacity of macrocell system is =',C1,'channels')\n",
      "print '%s %d %s' %('channel capacity of minicell system is =',C2,'channels')\n",
      "print '%s %d %s' %('channel capacity of minicell system is =',C3,'channels')\n"
     ],
     "language": "python",
     "metadata": {},
     "outputs": [
      {
       "output_type": "stream",
       "stream": "stdout",
       "text": [
        "channel capacity of macrocell system is = 112 channels\n",
        "channel capacity of minicell system is = 448 channels\n",
        "channel capacity of minicell system is = 1792 channels\n"
       ]
      }
     ],
     "prompt_number": 1
    },
    {
     "cell_type": "heading",
     "level": 2,
     "metadata": {},
     "source": [
      "EXAMPLE 7.8 - PG NO.195"
     ]
    },
    {
     "cell_type": "code",
     "collapsed": false,
     "input": [
      "#page no.195\n",
      "r0=2.*10.**3.\n",
      "r1=1.*10.**3.\n",
      "nl=4.#no. of large cells\n",
      "ns=(r0/r1)**2.*nl-1.#split cells within area=split cells within square-1\n",
      "ncpl=120.\n",
      "n2=nl*ncpl#no. of channels without cell splitting\n",
      "ncps=120.\n",
      "n1=ns*ncps#no. of channels with cell splitting\n",
      "inc=n1/n2#increase in the number of cells\n",
      "print'%s %.2f %s' %('increase in the number of cells is =',inc,'times')\n"
     ],
     "language": "python",
     "metadata": {},
     "outputs": [
      {
       "output_type": "stream",
       "stream": "stdout",
       "text": [
        "increase in the number of cells is = 3.75 times\n"
       ]
      }
     ],
     "prompt_number": 2
    },
    {
     "cell_type": "heading",
     "level": 2,
     "metadata": {},
     "source": [
      "EXAMPLE 7.10 - PG NO.220"
     ]
    },
    {
     "cell_type": "code",
     "collapsed": false,
     "input": [
      "#page no. 220\n",
      "k=184.#information bits\n",
      "n=224.#encoded bits\n",
      "print'%s %.f %s' %('number of parity check bits is =',n-k,'bits')\n",
      "r=k/n#code rate\n",
      "print'%s %.2f' %('the code rate of block encoder is =',r)\n"
     ],
     "language": "python",
     "metadata": {},
     "outputs": [
      {
       "output_type": "stream",
       "stream": "stdout",
       "text": [
        "number of parity check bits is = 40 bits\n",
        "the code rate of block encoder is = 0.82\n"
       ]
      }
     ],
     "prompt_number": 3
    },
    {
     "cell_type": "heading",
     "level": 2,
     "metadata": {},
     "source": [
      "EXAMPLE 7.11 - PG NO.227"
     ]
    },
    {
     "cell_type": "code",
     "collapsed": false,
     "input": [
      "#page no. 227\n",
      "nip=228.\n",
      "nop=456.\n",
      "cr=nop/nip\n",
      "ntdma=8.#no.of TDMA blocks\n",
      "nebptd=nop/ntdma#no. of bits/tdma frame\n",
      "print'%s %d' %('Number of encoded data bits in each TDMA frame is =',nebptd)\n",
      "ttdma=4.6*10**-3.#1 TDMA frame duration\n",
      "tttdma=ntdma*ttdma\n",
      "print'%s %.1f %s' %('Delay in reconstructing the codewords to the reception of 8 TDMA frames is =',tttdma*10**3,'ms')\n"
     ],
     "language": "python",
     "metadata": {},
     "outputs": [
      {
       "output_type": "stream",
       "stream": "stdout",
       "text": [
        "Number of encoded data bits in each TDMA frame is = 57\n",
        "Delay in reconstructing the codewords to the reception of 8 TDMA frames is = 36.8 ms\n"
       ]
      }
     ],
     "prompt_number": 4
    }
   ],
   "metadata": {}
  }
 ]
}