{
 "metadata": {
  "name": "Chapter2"
 },
 "nbformat": 3,
 "nbformat_minor": 0,
 "worksheets": [
  {
   "cells": [
    {
     "cell_type": "heading",
     "level": 1,
     "metadata": {},
     "source": "Chapter 2, Fundamentals of C language"
    },
    {
     "cell_type": "heading",
     "level": 2,
     "metadata": {},
     "source": "Example 3, Page Number: CP-22"
    },
    {
     "cell_type": "code",
     "collapsed": false,
     "input": "# variable declaration\n\na = 5\nb = 7\nc = 2\n\n# calculation \n\ny = a + b / c - a % c + 2 * a\n\n# result \n\nprint \"The result is \",y\n",
     "language": "python",
     "metadata": {},
     "outputs": [
      {
       "output_type": "stream",
       "stream": "stdout",
       "text": "The result is  17\n"
      }
     ],
     "prompt_number": 1
    }
   ],
   "metadata": {}
  }
 ]
}