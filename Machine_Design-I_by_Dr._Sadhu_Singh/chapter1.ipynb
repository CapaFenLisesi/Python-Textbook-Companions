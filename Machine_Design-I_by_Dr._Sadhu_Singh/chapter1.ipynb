{
 "cells": [
  {
   "cell_type": "markdown",
   "metadata": {},
   "source": [
    "# Chapter 1 - Introduction"
   ]
  },
  {
   "cell_type": "markdown",
   "metadata": {},
   "source": [
    "## exa 1.1 Pg 13"
   ]
  },
  {
   "cell_type": "code",
   "execution_count": 1,
   "metadata": {
    "collapsed": false
   },
   "outputs": [
    {
     "name": "stdout",
     "output_type": "stream",
     "text": [
      "The speeds of gear box are:\n",
      "\n",
      "\t\t\tN1 = 30.0 rpm\n",
      "\n",
      "\t\t\tN2 = 46.5 rpm\n",
      "\n",
      "\t\t\tN3 = 72.1 rpm\n",
      "\n",
      "\t\t\tN4 = 111.7 rpm\n",
      "\n",
      "\t\t\tN5 = 173.2 rpm\n",
      "\n",
      "\t\t\tN6 = 268.5 rpm\n",
      "\n",
      "\t\t\tN7 = 416.2 rpm\n",
      "\n",
      "\t\t\tN8 = 645.1 rpm\n",
      "\n",
      "\t\t\tN9 = 1000.0 rpm\n"
     ]
    }
   ],
   "source": [
    "from __future__ import division\n",
    "Nmax=1000## rpm\n",
    "Nmin=30## rpm\n",
    "z=9## no. of steps\n",
    "\n",
    "#Rn=Nmax/Nmin=fi**(z-1)\n",
    "fi=(Nmax/Nmin)**(1/(z-1))## common ratio\n",
    "\n",
    "print 'The speeds of gear box are:'\n",
    "N1=Nmin## rpm\n",
    "for i in range(1,z+1):\n",
    "    print '\\n\\t\\t\\tN%d = %.1f rpm'%(i,N1)\n",
    "    N1=fi*N1##rpm\n"
   ]
  },
  {
   "cell_type": "markdown",
   "metadata": {},
   "source": [
    "## exa 1.2 Pg 14"
   ]
  },
  {
   "cell_type": "code",
   "execution_count": 2,
   "metadata": {
    "collapsed": false
   },
   "outputs": [
    {
     "name": "stdout",
     "output_type": "stream",
     "text": [
      "The power of generating sets are:\n",
      "\n",
      "\t\t\tP1 = 10.0 kW\n",
      "\n",
      "\t\t\tP2 = 17.8 kW\n",
      "\n",
      "\t\t\tP3 = 31.6 kW\n",
      "\n",
      "\t\t\tP4 = 56.2 kW\n",
      "\n",
      "\t\t\tP5 = 100.0 kW\n",
      "\n",
      "Expanding for 10 models.\n",
      "\n",
      "The power of generating sets are:\n",
      "\n",
      "\t\t\tP1 = 10.0 kW\n",
      "\n",
      "\t\t\tP2 = 12.9 kW\n",
      "\n",
      "\t\t\tP3 = 16.7 kW\n",
      "\n",
      "\t\t\tP4 = 21.5 kW\n",
      "\n",
      "\t\t\tP5 = 27.8 kW\n",
      "\n",
      "\t\t\tP6 = 35.9 kW\n",
      "\n",
      "\t\t\tP7 = 46.4 kW\n",
      "\n",
      "\t\t\tP8 = 59.9 kW\n",
      "\n",
      "\t\t\tP9 = 77.4 kW\n",
      "\n",
      "\t\t\tP10 = 100.0 kW\n"
     ]
    }
   ],
   "source": [
    "from __future__ import division\n",
    "Pmax=100## kW\n",
    "Pmin=10## kW\n",
    "z=5## no. of models\n",
    "\n",
    "#Rn=Pmax/Pmin=fi**(z-1)\n",
    "fi=(Pmax/Pmin)**(1/(z-1))## common ratio\n",
    "\n",
    "print 'The power of generating sets are:'\n",
    "P1=Pmin## kW\n",
    "for i in range(1,z+1):\n",
    "    print '\\n\\t\\t\\tP%d = %.1f kW'%(i,P1)\n",
    "    P1=fi*P1##kW\n",
    "\n",
    "\n",
    "print '\\nExpanding for 10 models.'\n",
    "z=10## no. of models\n",
    "\n",
    "fi=(Pmax/Pmin)**(1/(z-1))## common ratio\n",
    "\n",
    "print '\\nThe power of generating sets are:'\n",
    "P1=Pmin## kW\n",
    "for i in range(1,z+1):\n",
    "    print '\\n\\t\\t\\tP%d = %.1f kW'%(i,P1)\n",
    "    P1=fi*P1##kW"
   ]
  },
  {
   "cell_type": "markdown",
   "metadata": {},
   "source": [
    "## exa 1.4 Pg 15"
   ]
  },
  {
   "cell_type": "code",
   "execution_count": 3,
   "metadata": {
    "collapsed": false
   },
   "outputs": [
    {
     "name": "stdout",
     "output_type": "stream",
     "text": [
      "The models are:\n",
      "\n",
      "\t\t\tP0 = 5.0 kW\n",
      "\n",
      "\t\t\tP1 = 10.8 kW\n",
      "\n",
      "\t\t\tP2 = 23.2 kW\n",
      "\n",
      "\t\t\tP3 = 50.0 kW\n",
      "\n",
      " for 8 models.\n",
      "The models are:\n",
      "\n",
      "\t\t\tP0 = 5.0 kW\n",
      "\n",
      "\t\t\tP1 = 6.9 kW\n",
      "\n",
      "\t\t\tP2 = 9.7 kW\n",
      "\n",
      "\t\t\tP3 = 13.4 kW\n",
      "\n",
      "\t\t\tP4 = 18.6 kW\n",
      "\n",
      "\t\t\tP5 = 25.9 kW\n",
      "\n",
      "\t\t\tP6 = 36.0 kW\n",
      "\n",
      "\t\t\tP7 = 50.0 kW\n"
     ]
    }
   ],
   "source": [
    "from __future__ import division\n",
    "Pmax=50## kW\n",
    "Pmin=5## kW\n",
    "z=4## no. of models\n",
    "\n",
    "#Rn=Pmax/Pmin=fi**(z-1)\n",
    "fi=(Pmax/Pmin)**(1/(z-1))## common ratio\n",
    "\n",
    "print 'The models are:'\n",
    "\n",
    "for i in range(0,z):\n",
    "    P1=fi**(i)*Pmin## kW\n",
    "    print '\\n\\t\\t\\tP%d = %.1f kW'%(i,P1)\n",
    "\n",
    "\n",
    "print '\\n for 8 models.'\n",
    "\n",
    "z=8## no. of models\n",
    "\n",
    "#Rn=Pmax/Pmin=fi**(z-1)\n",
    "fi=(Pmax/Pmin)**(1/(z-1))## common ratio\n",
    "\n",
    "print 'The models are:'\n",
    "\n",
    "for i in range(0,z):\n",
    "    P1=fi**(i)*Pmin## kW\n",
    "    print '\\n\\t\\t\\tP%d = %.1f kW'%(i,P1)"
   ]
  },
  {
   "cell_type": "markdown",
   "metadata": {},
   "source": [
    "## exa 1.6 Pg 15"
   ]
  },
  {
   "cell_type": "code",
   "execution_count": 4,
   "metadata": {
    "collapsed": false
   },
   "outputs": [
    {
     "name": "stdout",
     "output_type": "stream",
     "text": [
      "The models are:\n",
      "\n",
      "\t\t\tP0 = 7.5 kW\n",
      "\n",
      "\t\t\tP1 = 13.3 kW\n",
      "\n",
      "\t\t\tP2 = 23.7 kW\n",
      "\n",
      "\t\t\tP3 = 42.2 kW\n",
      "\n",
      "\t\t\tP4 = 75.0 kW\n"
     ]
    }
   ],
   "source": [
    "from __future__ import division\n",
    "Pmax=75## kW\n",
    "Pmin=7.5## kW\n",
    "z=5## no. of models\n",
    "\n",
    "#Rn=Pmax/Pmin=fi**(z-1)\n",
    "fi=(Pmax/Pmin)**(1/(z-1))## common ratio\n",
    "\n",
    "print 'The models are:'\n",
    "\n",
    "for i in range(0,z):\n",
    "    P1=fi**(i)*Pmin## kW\n",
    "    print '\\n\\t\\t\\tP%d = %.1f kW'%(i,P1)\n"
   ]
  }
 ],
 "metadata": {
  "kernelspec": {
   "display_name": "Python 2",
   "language": "python",
   "name": "python2"
  },
  "language_info": {
   "codemirror_mode": {
    "name": "ipython",
    "version": 2
   },
   "file_extension": ".py",
   "mimetype": "text/x-python",
   "name": "python",
   "nbconvert_exporter": "python",
   "pygments_lexer": "ipython2",
   "version": "2.7.9"
  }
 },
 "nbformat": 4,
 "nbformat_minor": 0
}
