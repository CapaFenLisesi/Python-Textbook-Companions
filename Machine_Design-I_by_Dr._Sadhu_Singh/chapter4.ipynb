{
 "cells": [
  {
   "cell_type": "markdown",
   "metadata": {},
   "source": [
    "# Chapter 4 - Design Against Fluctuating Load"
   ]
  },
  {
   "cell_type": "markdown",
   "metadata": {},
   "source": [
    "## exa 4.1 Pg 102"
   ]
  },
  {
   "cell_type": "code",
   "execution_count": 1,
   "metadata": {
    "collapsed": false
   },
   "outputs": [
    {
     "name": "stdout",
     "output_type": "stream",
     "text": [
      " for stepped plate under tension, Kt=1.75 for r/d = 0.125 & D/d = 1.25 \n",
      " \n",
      " for finite width plate under tension with a hole, Kt=2.42 for d0/w = 0.25\n",
      " \n",
      " Thickness of plate = 6.05 mm or 6 mm\n"
     ]
    }
   ],
   "source": [
    "from __future__ import division\n",
    "from sympy import symbols,solve\n",
    "P=6## kN\n",
    "\n",
    "#dimensions of plate\n",
    "r=5##mm\n",
    "d=40##mm\n",
    "D=50##mm\n",
    "d0=10##mm\n",
    "w=40##mm\n",
    "Sut=200##MPa\n",
    "n=2.5## factor of safety\n",
    "\n",
    "#Fillet - \n",
    "rBYd=r/d#\n",
    "DBYd=D/d#\n",
    "Kt=1.75## factor\n",
    "print ' for stepped plate under tension, Kt=%.2f for r/d = %.3f & D/d = %.2f '%(Kt,rBYd,DBYd)\n",
    "t=symbols('t')\n",
    "sigma_max = Kt*P/t## N per mm sq.\n",
    "\n",
    "# Hole -\n",
    "d0BYw=d0/w#\n",
    "Kt=2.42## factor \n",
    "print ' \\n for finite width plate under tension with a hole, Kt=%.2f for d0/w = %.2f'%(Kt,d0BYw)\n",
    "sigma_max_into_t = Kt*P/(w-d0)##N/mm sq.\n",
    "\n",
    "#Design stress\n",
    "sigma_d = Sut/n## MPa\n",
    "#putting sigma_max=sigma_d\n",
    "t=sigma_max_into_t/sigma_d*1000## mm\n",
    "print ' \\n Thickness of plate = %.2f mm or %.f mm'%(t,t)"
   ]
  },
  {
   "cell_type": "markdown",
   "metadata": {},
   "source": [
    "## exa 4.2 Pg 104"
   ]
  },
  {
   "cell_type": "code",
   "execution_count": 2,
   "metadata": {
    "collapsed": false
   },
   "outputs": [
    {
     "name": "stdout",
     "output_type": "stream",
     "text": [
      " \n",
      " Diameter of axle = 46.5 mm\n"
     ]
    }
   ],
   "source": [
    "from __future__ import division\n",
    "from math import pi\n",
    "# Given Data\n",
    "rBYd=0.1#\n",
    "DBYd=1.2#\n",
    "P=3## kN\n",
    "Syt=300##MPa\n",
    "n=3## factor of safety\n",
    "#dimensions of plate\n",
    "l1=400##mm\n",
    "l2=300##mm\n",
    "l3=400##mm\n",
    "\n",
    "\n",
    "sigma_d=Syt/n## MPa\n",
    "Kt=1.65## factor for circular fillet radius member\n",
    "Rp=P/2##kN (bearing reaction due to symmetry)\n",
    "Mf=Rp*l1## kN.mm (bending moment at fillet)\n",
    "Mc=P*(l1+l2+l3)/4## kN.mm (bending moment at centre)\n",
    "\n",
    "#Fillet\n",
    "#sigma_max=Kt*32*Mf/(pi*d**3)\n",
    "sigma_max_into_d_cube_1 = Kt*32*Mf*1000/pi\n",
    "\n",
    "\n",
    "#Centre\n",
    "#sigma_max=32*Mc/(pi*d**3)\n",
    "sigma_max_into_d_cube_2 = Kt*32*Mf*1000/pi\n",
    "sigma_max_into_d_cube=max(sigma_max_into_d_cube_1,sigma_max_into_d_cube_2)## (getting max)\n",
    "\n",
    "#putting sigma_max=sigma_d\n",
    "t=(sigma_max_into_d_cube/sigma_d)**(1/3)## mm\n",
    "print ' \\n Diameter of axle = %.1f mm'%(t)"
   ]
  },
  {
   "cell_type": "markdown",
   "metadata": {},
   "source": [
    "## exa 4.3 Pg 105"
   ]
  },
  {
   "cell_type": "code",
   "execution_count": 3,
   "metadata": {
    "collapsed": false
   },
   "outputs": [
    {
     "name": "stdout",
     "output_type": "stream",
     "text": [
      " \n",
      " Endurance limit = 45.50 MPa\n"
     ]
    }
   ],
   "source": [
    "from __future__ import division\n",
    "\n",
    "# Given Data\n",
    "Sut=440##MPa\n",
    "d=25##mm\n",
    "R=95/100## reliability\n",
    "Kt=1.8## stress concentration factor\n",
    "q=0.86## sensitivity factor\n",
    "\n",
    "Se_dash = 0.5*Sut## MPa\n",
    "\n",
    "# for machined surface\n",
    "ka=0.82## surface finish factor\n",
    "kb=0.85## size factor\n",
    "kc=0.868## reliability factor\n",
    "kd=1## temperature factor\n",
    "ke=0.577## load factor\n",
    "\n",
    "Kf=1+q*(Kt-1)## fatigue strength factor\n",
    "kf=1/Kf ## fatigue strength reduction factor\n",
    "Se=ka*kb*kc*kd*ke*kf*Se_dash## (MPa) Endurance limit\n",
    "print ' \\n Endurance limit = %.2f MPa'%(Se)"
   ]
  },
  {
   "cell_type": "markdown",
   "metadata": {},
   "source": [
    "## exa 4.4 Pg 105"
   ]
  },
  {
   "cell_type": "code",
   "execution_count": 4,
   "metadata": {
    "collapsed": false
   },
   "outputs": [
    {
     "name": "stdout",
     "output_type": "stream",
     "text": [
      " \n",
      " Thickness of plate = 18.26 mm or 20 mm\n"
     ]
    }
   ],
   "source": [
    "from __future__ import division\n",
    "\n",
    "# Given Data\n",
    "Sut=440##MPa\n",
    "w=60##mm\n",
    "d=12## mm\n",
    "P=20## kN\n",
    "q=0.8## sensitivity factor\n",
    "R=90/100## reliability\n",
    "n=2## factor of safety\n",
    "\n",
    "Kt=2.52## stress concentration factor\n",
    "Se_dash = 0.5*Sut## MPa\n",
    "# for hot rollednormalized condition\n",
    "ka=0.67## surface finish factor\n",
    "kb=0.85## size factor (assuming t<50 mm)\n",
    "kc=0.897## reliability factor\n",
    "kd=1## temperature factor\n",
    "ke=0.9## load factor\n",
    "dBYw=d/w# #(for circular hole)\n",
    "\n",
    "Kf=1+q*(Kt-1)## fatigue strength factor\n",
    "kf=1/Kf ## fatigue strength reduction factor\n",
    "Se=ka*kb*kc*kd*ke*kf*Se_dash## (MPa) Endurance limit\n",
    "sigma_d=Se/n## MPa (design stress)\n",
    "# sigma_max=P/(w-d)/t\n",
    "sigma_max_into_t = P*1000/(w-d)#\n",
    "# putting sigma_max=sigma_d\n",
    "t=sigma_max_into_t/sigma_d## mm\n",
    "print ' \\n Thickness of plate = %.2f mm or 20 mm'%(t)"
   ]
  },
  {
   "cell_type": "markdown",
   "metadata": {},
   "source": [
    "## exa 4.5 Pg 107"
   ]
  },
  {
   "cell_type": "code",
   "execution_count": 5,
   "metadata": {
    "collapsed": false
   },
   "outputs": [
    {
     "name": "stdout",
     "output_type": "stream",
     "text": [
      " \n",
      " Endurance of specimen = 395.34 MPa\n"
     ]
    }
   ],
   "source": [
    "from __future__ import division\n",
    "from math import log10\n",
    "# Given Data\n",
    "Sut=650##MPa\n",
    "N=10**5## cycles\n",
    "Se_dash = 0.5*Sut## MPa\n",
    "of=5## unit\n",
    "ob=6##unit\n",
    "bf=ob-of## unit\n",
    "be=3##unit\n",
    "\n",
    "# calculating endurance section wise\n",
    "OE=log10(Se_dash)#\n",
    "OA=log10(0.9*Sut)#\n",
    "AE=OA-OE#\n",
    "#log10_Sf=OD=OE+ED=OE+FC\n",
    "log10_Sf=OE+(bf/be)*AE#\n",
    "Sf=10**log10_Sf# # (MPa) Endurance\n",
    "print ' \\n Endurance of specimen = %.2f MPa'%(Sf)"
   ]
  },
  {
   "cell_type": "markdown",
   "metadata": {},
   "source": [
    "## exa 4.6 Pg 108"
   ]
  },
  {
   "cell_type": "code",
   "execution_count": 6,
   "metadata": {
    "collapsed": false
   },
   "outputs": [
    {
     "name": "stdout",
     "output_type": "stream",
     "text": [
      " \n",
      " diameter of beam 20 mm\n"
     ]
    }
   ],
   "source": [
    "from __future__ import division\n",
    "from math import log10,pi\n",
    "# Given Data\n",
    "Sut=540##MPa\n",
    "N=10**4## cycles\n",
    "q=0.85## sensitivity factor\n",
    "R=90/100## reliability\n",
    "P=1500## N\n",
    "l=160## mm\n",
    "\n",
    "Se_dash = 0.5*Sut## MPa\n",
    "# for cold drawn steel\n",
    "ka=0.79## surface finish factor\n",
    "kb=0.85## size factor (assuming t<50 mm)\n",
    "kc=0.897## reliability factor\n",
    "kd=1## temperature factor\n",
    "ke=1## load factor\n",
    "\n",
    "Kt=1.33## under bending\n",
    "\n",
    "Kf=1+q*(Kt-1)## fatigue strength factor\n",
    "kf=1/Kf ## fatigue strength reduction factor\n",
    "Se=ka*kb*kc*kd*ke*kf*Se_dash## MPa( Endurance limit)\n",
    "\n",
    "of=4## unit\n",
    "ob=6##unit\n",
    "bf=ob-of## unit\n",
    "be=3##unit\n",
    "\n",
    "# calculating endurance section wise\n",
    "OE=log10(Se)#\n",
    "OA=log10(0.9*Sut)#\n",
    "AE=OA-OE#\n",
    "#log10_Sf=OD=OE+ED=OE+FC\n",
    "log10_Sf=OE+(bf/be)*AE#\n",
    "Sf=10**log10_Sf# # (MPa) Endurance\n",
    "\n",
    "MB=P*l## N.mm\n",
    "# 32*MB/pi/d**3 = Sf\n",
    "d=(32*MB/pi/Sf)**(1/3)\n",
    "print ' \\n diameter of beam %.f mm'%(d)"
   ]
  },
  {
   "cell_type": "markdown",
   "metadata": {},
   "source": [
    "## exa 4.7 Pg 110"
   ]
  },
  {
   "cell_type": "code",
   "execution_count": 7,
   "metadata": {
    "collapsed": false
   },
   "outputs": [
    {
     "name": "stdout",
     "output_type": "stream",
     "text": [
      " \n",
      " diameter d at fillet cross section = 16 mm\n"
     ]
    }
   ],
   "source": [
    "from __future__ import division\n",
    "from math import pi,atan\n",
    "# Given Data\n",
    "Sut=600##MPa\n",
    "Syt=380##MPa\n",
    "q=0.9## sensitivity factor\n",
    "R=90/100## reliability\n",
    "n=2## factor of safety\n",
    "Pmin=-100## N\n",
    "Pmax=200## N\n",
    "l=150## mm\n",
    "\n",
    "Se_dash = 0.5*Sut## MPa\n",
    "# for cold drawn steel\n",
    "ka=0.76## surface finish factor\n",
    "kb=0.85## size factor (assuming t<50 mm)\n",
    "kc=0.897## reliability factor\n",
    "kd=1## temperature factor\n",
    "ke=1## load factor\n",
    "\n",
    "Kt=1.4## under bending\n",
    "\n",
    "Kf=1+q*(Kt-1)## fatigue strength factor\n",
    "kf=1/Kf ## fatigue strength reduction factor\n",
    "Se=ka*kb*kc*kd*ke*kf*Se_dash## MPa( Endurance limit)\n",
    "Mmax=Pmax*l## N.mm\n",
    "Mmin=Pmin*l## N.mm\n",
    "Mm=(Mmax+Mmin)/2## N.mm\n",
    "Ma=(Mmax-Mmin)/2## N.mm\n",
    "theta=atan(Ma/Mm)*180/pi## degree\n",
    "\n",
    "#equation of Goodman - sigma_m/Sut+sigma_a/Se=1\n",
    "#here sigma_a/sigma_m=3\n",
    "sigma_m=1/(1/Sut+3/Se)##MPa\n",
    "sigma_a=3*sigma_m## MPa\n",
    "\n",
    "sigma_da=sigma_a/n## MPa\n",
    "#sigma_da=32*Ma/pi/d**3\n",
    "d=(32*Ma/pi/sigma_da)**(1/3)## mm \n",
    "print ' \\n diameter d at fillet cross section = %.f mm'%(d)"
   ]
  },
  {
   "cell_type": "markdown",
   "metadata": {},
   "source": [
    "## exa 4.8 Pg 112"
   ]
  },
  {
   "cell_type": "code",
   "execution_count": 8,
   "metadata": {
    "collapsed": false
   },
   "outputs": [
    {
     "name": "stdout",
     "output_type": "stream",
     "text": [
      " \n",
      " diameter of shaft = 34 mm\n"
     ]
    }
   ],
   "source": [
    "from __future__ import division\n",
    "from math import pi,tan,atan\n",
    "# Given Data\n",
    "Sut=500##MPa\n",
    "Syt=300##MPa\n",
    "R=90/100## reliability\n",
    "n=2## factor of safety\n",
    "Tmin=-200## N.m\n",
    "Tmax=500## N.m\n",
    "\n",
    "Se_dash = 0.5*Sut## MPa\n",
    "# for cold drawn steel\n",
    "ka=0.80## surface finish factor\n",
    "kb=0.85## size factor (assuming t<50 mm)\n",
    "kc=0.897## reliability factor\n",
    "kd=1## temperature factor\n",
    "ke=0.577## load factor\n",
    "\n",
    "Ses=ka*kb*kc*kd*ke*Se_dash## MPa( Endurance limit)\n",
    "Sys=ke*Syt## MPa\n",
    "Tm=(Tmax+Tmin)/2## N.m\n",
    "Ta=(Tmax-Tmin)/2## N.m\n",
    "theta=atan(Ta/Tm)*180/pi## degree\n",
    "Sms=Ses/tan(pi/180*theta)##MPa\n",
    "Sas=Ses##MPa\n",
    "tau_da=Sas/n##MPa\n",
    "#tua_da=16*Ta/pi/d**3\n",
    "d=(16*Ta*1000/pi/tau_da)**(1/3)##mm\n",
    "print ' \\n diameter of shaft = %.f mm'%(d)"
   ]
  },
  {
   "cell_type": "markdown",
   "metadata": {},
   "source": [
    "## exa 4.9 Pg 113"
   ]
  },
  {
   "cell_type": "code",
   "execution_count": 9,
   "metadata": {
    "collapsed": false
   },
   "outputs": [
    {
     "name": "stdout",
     "output_type": "stream",
     "text": [
      " \n",
      " life of the spring, N = 215630 cycles\n"
     ]
    }
   ],
   "source": [
    "from __future__ import division\n",
    "from math import pi,log10\n",
    "# Given Data\n",
    "Sut=860##MPa\n",
    "Syt=690##MPa\n",
    "Pmin=60## N\n",
    "Pmax=120## N\n",
    "R=50/100## reliability\n",
    "l=500##mm\n",
    "d=10##mm\n",
    "Se_dash = 0.5*Sut## MPa\n",
    "# for machines surface\n",
    "ka=0.70## surface finish factor\n",
    "kb=0.85## size factor (assuming t<50 mm)\n",
    "kc=1## reliability factor\n",
    "kd=1## temperature factor\n",
    "ke=1## load factor\n",
    "\n",
    "Se=ka*kb*kc*kd*ke*Se_dash## MPa( Endurance limit)\n",
    "Mmax=Pmax*l## N.mm\n",
    "Mmin=Pmin*l## N.mm\n",
    "Mm=(Mmax+Mmin)/2## N.mm\n",
    "Ma=(Mmax-Mmin)/2## N.mm\n",
    "Sm=32*Mm/pi/d**3##MPa\n",
    "sigma_m=Sm##MPa\n",
    "Sa=32*Ma/pi/d**3##MPa\n",
    "sigma_a=Sa##MPa\n",
    "Sf=Sa*Sut/(Sut-Sm)##MPa\n",
    "\n",
    "#calculating section\n",
    "OB=6##unit ref. o at 3\n",
    "BE=OB-3##unit\n",
    "OC=Sf## MPa\n",
    "AE=log10(0.9*Sut)-log10(Se)##MPa\n",
    "AC=log10(0.9*Sut)-log10(Sf)##MPa\n",
    "CD=BE*AC/AE##\n",
    "#log10(N)=3+CD\n",
    "N=10**(3+CD)## cycle\n",
    "print ' \\n life of the spring, N = %.f cycles'%(N)\n",
    "#Note : answer in the textbook is wrong."
   ]
  },
  {
   "cell_type": "markdown",
   "metadata": {},
   "source": [
    "## exa 4.10 Pg 116"
   ]
  },
  {
   "cell_type": "code",
   "execution_count": 10,
   "metadata": {
    "collapsed": false
   },
   "outputs": [
    {
     "name": "stdout",
     "output_type": "stream",
     "text": [
      " \n",
      " factor of safety, n = 5.04\n"
     ]
    }
   ],
   "source": [
    "from __future__ import division\n",
    "from math import sqrt,tan,pi,atan\n",
    "# Given Data\n",
    "Sut=600##MPa\n",
    "Se=280##MPa\n",
    "sigma_x_min=50## MPa\n",
    "sigma_x_max=100## MPa\n",
    "sigma_y_min=20## MPa\n",
    "sigma_y_max=70## MPa\n",
    "\n",
    "sigma_xm=(sigma_x_max+sigma_x_min)/2## MPa\n",
    "sigma_xa=(sigma_x_max-sigma_x_min)/2## MPa\n",
    "sigma_ym=(sigma_y_max+sigma_y_min)/2## MPa\n",
    "sigma_ya=(sigma_y_max-sigma_y_min)/2## MPa\n",
    "\n",
    "# distortion energy theory - \n",
    "sigma_m=sqrt(sigma_xm**2+sigma_ym**2-sigma_xm*sigma_ym)## MPa\n",
    "sigma_a=sqrt(sigma_xa**2+sigma_ya**2-sigma_xa*sigma_ya)## MPa\n",
    "theta=atan(sigma_a/sigma_m)*180/pi## degree\n",
    "# Sm/Sut+Sa/Se=1 where Sa=Sm*tan(theta)\n",
    "Sm=1/(1/Sut+tan(pi/180*theta)/Se)## MPa\n",
    "Sa=tan(pi/180*theta)*Sm## MPa\n",
    "n=Sa/sigma_a## factor of safety\n",
    "\n",
    "print ' \\n factor of safety, n = %.2f'%(n)"
   ]
  },
  {
   "cell_type": "markdown",
   "metadata": {},
   "source": [
    "## exa 4.11 Pg 117"
   ]
  },
  {
   "cell_type": "code",
   "execution_count": 11,
   "metadata": {
    "collapsed": false
   },
   "outputs": [
    {
     "name": "stdout",
     "output_type": "stream",
     "text": [
      " \n",
      " diameter of shaft, d = 32.71 mm\n"
     ]
    }
   ],
   "source": [
    "from __future__ import division\n",
    "from math import sqrt,pi\n",
    "# Given Data\n",
    "Sut=600##MPa\n",
    "Syt=400##MPa\n",
    "Se=200##MPa\n",
    "Mmin=200## N.m\n",
    "Mmax=500## N.m\n",
    "Tmin=60## N.m\n",
    "Tmax=180## N.m\n",
    "n=2## factor of safety\n",
    "\n",
    "Mm=(Mmax+Mmin)/2## N.mm\n",
    "Ma=(Mmax-Mmin)/2## N.mm\n",
    "Tm=(Tmax+Tmin)/2## N.mm\n",
    "Ta=(Tmax-Tmin)/2## N.mm\n",
    "# sigma_xm=32*Mm/pi/d**3\n",
    "sigma_xm_into_d_cube=(32*Mm*1000)/pi#\n",
    "# sigma_xa=32*Ma/pi/d**3\n",
    "sigma_xa_into_d_cube=(32*Ma*1000)/pi#\n",
    "#Txym=16*Tm/pi/d**3\n",
    "Txym_into_d_cube=16*Tm*1000/pi#\n",
    "#Txya=16*Ta/pi/d**3\n",
    "Txya_into_d_cube=16*Ta*1000/pi#\n",
    "# sigma_m=sqrt(sigma_xm**2+3*Txym**2)\n",
    "sigma_m_dash=sqrt(sigma_xm_into_d_cube**2+3*Txym_into_d_cube**2)## taken sigma_m_dash = sigma_m*d**(-3) for calculation\n",
    "# sigma_a=sqrt(sigma_xa**2+3*Txya**2)\n",
    "sigma_a_dash=sqrt(sigma_xa_into_d_cube**2+3*Txya_into_d_cube**2)## taken sigma_a_dash = sigma_a*d**(-3) for calculation\n",
    "#tan(theta) = sigma_a/sigma_m\n",
    "theta = atan(sigma_a_dash/sigma_m_dash)## radian\n",
    "#Sm/Sut+Sa/Se= 1 where Sa/Sm=0.4348 \n",
    "Sm= 1/(1/Sut+0.4348/Se)## MPa\n",
    "Sa=0.4348 * Sm## MPa\n",
    "#sigma_a=Sa/n\n",
    "d=(Sa/n/sigma_a_dash)**(1/3)*1000## mm\n",
    "print ' \\n diameter of shaft, d = %.2f mm'%(d)\n",
    "# Note - Ans in the textbook is wrong."
   ]
  },
  {
   "cell_type": "markdown",
   "metadata": {},
   "source": [
    "## exa 4.12 Pg 119"
   ]
  },
  {
   "cell_type": "code",
   "execution_count": 12,
   "metadata": {
    "collapsed": false
   },
   "outputs": [
    {
     "name": "stdout",
     "output_type": "stream",
     "text": [
      " \n",
      " diameter of shaft, d = 31.22 mm or 32 mm\n"
     ]
    }
   ],
   "source": [
    "from __future__ import division\n",
    "from math import pi,atan,ceil\n",
    "# Given Data\n",
    "Sut=620##MPa\n",
    "Syt=380##MPa\n",
    "R=90/100## Reliability\n",
    "n=2.5## factor of safety\n",
    "Tmin=-200## N.m\n",
    "Tmax=400## N.m\n",
    "\n",
    "Se_dash=0.5*Sut##MPa\n",
    "# for ground shaft\n",
    "ka=0.92## surface finish factor\n",
    "kb=0.85## size factor (assuming t<50 mm)\n",
    "kc=0.897## reliability factor\n",
    "kd=1## temperature factor\n",
    "ke=0.577## load factor\n",
    "Ses=ka*kb*kc*kd*ke*Se_dash## MPa( Endurance limit)\n",
    "Sys=ke*Syt## MPa\n",
    "Tm=(Tmax+Tmin)/2## N.mm\n",
    "Ta=(Tmax-Tmin)/2## N.mm\n",
    "theta=atan(Ta/Tm)##radian\n",
    "Sas=Ses## MPa\n",
    "Sms=Sas/3## MPa\n",
    "#Tda=Sas/n=16*Ta/pi/d**3\n",
    "d=(16*Ta*1000/pi/(Sas/n))**(1/3)## mm\n",
    "print ' \\n diameter of shaft, d = %.2f mm or %d mm'%(d, ceil(d))"
   ]
  },
  {
   "cell_type": "markdown",
   "metadata": {},
   "source": [
    "## exa 4.14 Pg 121"
   ]
  },
  {
   "cell_type": "code",
   "execution_count": 13,
   "metadata": {
    "collapsed": false
   },
   "outputs": [
    {
     "name": "stdout",
     "output_type": "stream",
     "text": [
      " \n",
      " Minimum required ultimate strength, Sut = 787.5 MPa\n"
     ]
    }
   ],
   "source": [
    "from __future__ import division\n",
    "\n",
    "# Given Data\n",
    "sigma_max=300## MPa\n",
    "sigma_min=-150## MPa\n",
    "n=1.5## factor of safety\n",
    "\n",
    "\n",
    "sigma_m=(sigma_max+sigma_min)/2## MPa\n",
    "sigma_a=(sigma_max-sigma_min)/2## MPa\n",
    "# Goodman failure line - sigma_m/Sut+sigma_a/Se=1/n\n",
    "Sut=(sigma_m+sigma_a/(0.5))*n ## putted Se=0.5*Sut\n",
    "print ' \\n Minimum required ultimate strength, Sut = %.1f MPa'%(Sut)"
   ]
  },
  {
   "cell_type": "markdown",
   "metadata": {},
   "source": [
    "## exa 4.16 Pg 122"
   ]
  },
  {
   "cell_type": "code",
   "execution_count": 14,
   "metadata": {
    "collapsed": false
   },
   "outputs": [
    {
     "name": "stdout",
     "output_type": "stream",
     "text": [
      " \n",
      " Size of piston rod, d = 25 mm\n"
     ]
    }
   ],
   "source": [
    "from __future__ import division\n",
    "from math import pi,sqrt\n",
    "# Given Data\n",
    "Pmin=-15## kN\n",
    "Pmax=25## kN\n",
    "Se_dash=360## MPa\n",
    "Sy=400## MPa\n",
    "Ki=1.25## impact factor\n",
    "n=2.25## factor of safety\n",
    "ka=0.88## surface finish factor\n",
    "Kt=2.25## stress concentration factor\n",
    "Pm=(Pmax+Pmin)/2## kN\n",
    "Pa=(Pmax-Pmin)/2## kN\n",
    "q=0.8## sensitivity factor\n",
    "\n",
    "# sigma_m=4*Pm/pi/d**2\n",
    "sigma_m_into_d_sq = 4*Pm*1000/pi#\n",
    "sigma_a_into_d_sq = 4*Pa*1000/pi#\n",
    "Kf=1+q*(Kt-1)## fatigue strength factor\n",
    "kf=1/Kf ## fatigue strength reduction factor\n",
    "kb=0.85## size factor\n",
    "ke=0.9##load factor\n",
    "ki=1/Ki## reverse impact factor\n",
    "Se=ka*kb*ke*kf*ki*Se_dash## MPa\n",
    "#soderburg failure equation - sigma_m/Sy+sigma_a/Se=1/n\n",
    "d=sqrt((sigma_m_into_d_sq/Sy+sigma_a_into_d_sq/Se)*n)\n",
    "print ' \\n Size of piston rod, d = %.f mm'%(d)"
   ]
  },
  {
   "cell_type": "markdown",
   "metadata": {},
   "source": [
    "## exa 4.18 Pg 123"
   ]
  },
  {
   "cell_type": "code",
   "execution_count": 15,
   "metadata": {
    "collapsed": false
   },
   "outputs": [
    {
     "name": "stdout",
     "output_type": "stream",
     "text": [
      " \n",
      " Suitable diameter of rod, d = 121 mm\n"
     ]
    }
   ],
   "source": [
    "from __future__ import division\n",
    "from math import pi,sqrt\n",
    "# Given Data\n",
    "Pmin=-300## kN\n",
    "Pmax=700## kN\n",
    "Se_dash=280## MPa\n",
    "Sy=350## MPa\n",
    "Kf=1.8##fatigue strength factor\n",
    "n=2## factor of safety\n",
    "\n",
    "Pm=(Pmax+Pmin)/2## kN\n",
    "Pa=(Pmax-Pmin)/2## kN\n",
    "# sigma_m=4*Pm/pi/d**2\n",
    "sigma_m_into_d_sq = 4*Pm*1000/pi#\n",
    "sigma_a_into_d_sq = 4*Pa*1000/pi#\n",
    "kf=1/Kf ## fatigue strength reduction factor\n",
    "kb=0.85## size factor\n",
    "ke=0.9##load factor\n",
    "ka=0.93## surface finish factor\n",
    "Se=ka*kb*ke*kf*Se_dash## MPa\n",
    "#Goodman failure equation - sigma_m/Sy+sigma_a/Se=1/n\n",
    "d=sqrt((sigma_m_into_d_sq/Sy+sigma_a_into_d_sq/Se)*2.25)\n",
    "print ' \\n Suitable diameter of rod, d = %.f mm'%(d)\n",
    "# Note - Ans in the textbook is wrong."
   ]
  },
  {
   "cell_type": "markdown",
   "metadata": {},
   "source": [
    "## exa 4.19 Pg 124"
   ]
  },
  {
   "cell_type": "code",
   "execution_count": 16,
   "metadata": {
    "collapsed": false
   },
   "outputs": [
    {
     "name": "stdout",
     "output_type": "stream",
     "text": [
      " \n",
      " thickness of plate, t = 12.5 mm\n"
     ]
    }
   ],
   "source": [
    "from __future__ import division\n",
    "\n",
    "# Given Data\n",
    "w=110## mm\n",
    "Pmin=98.1## kN\n",
    "Pmax=250## kN\n",
    "Se=225## N/mm.sq\n",
    "Sy=300## N/mm.sq\n",
    "n=1.5## factor of safety\n",
    "\n",
    "Pm=(Pmax+Pmin)/2## kN\n",
    "Pa=(Pmax-Pmin)/2## kN\n",
    "# sigma_m=Pm/w/t\n",
    "sigma_m_into_t = Pm/w#\n",
    "sigma_a_into_t = Pa/w#\n",
    "#Soderburg failure equation - sigma_m/Sy+sigma_a/Se=1/n\n",
    "d=(sigma_m_into_t/Sy+sigma_a_into_t/Se)*n*1000## mm\n",
    "print ' \\n thickness of plate, t = %.1f mm'%(d)"
   ]
  },
  {
   "cell_type": "markdown",
   "metadata": {},
   "source": [
    "## exa 4.20 Pg 124"
   ]
  },
  {
   "cell_type": "code",
   "execution_count": 17,
   "metadata": {
    "collapsed": false
   },
   "outputs": [
    {
     "name": "stdout",
     "output_type": "stream",
     "text": [
      " \n",
      " shaft size, d = 34 mm\n"
     ]
    }
   ],
   "source": [
    "from __future__ import division\n",
    "from math import sqrt,pi\n",
    "# Given Data\n",
    "Mmin=200## kN.mm\n",
    "Mmax=600## kN.mm\n",
    "Tmin=60## kN\n",
    "Tmax=180## kN\n",
    "Su=550## MPa\n",
    "Sy=400## MPa\n",
    "Se=0.5*Su## MPa\n",
    "n=1.5## factor of safety\n",
    "Ktb=1.5## stress concentration factor in blending\n",
    "Kts=1.2## stress concentration factor in torsion\n",
    "\n",
    "Mm=(Mmax+Mmin)/2## kN.mm\n",
    "Ma=(Mmax-Mmin)/2## kN.mm\n",
    "\n",
    "#sigma_xm=32*Mm/pi/d**3\n",
    "sigma_xm_into_d_cube=32*Mm/pi#\n",
    "#sigma_xa=32*Ma/pi/d**3\n",
    "sigma_xa_into_d_cube=32*Ma/pi#\n",
    "Tm=(Tmax+Tmin)/2## kN.mm\n",
    "Ta=(Tmax-Tmin)/2## kN.mm\n",
    "Txym_into_d_cube=16*Tm/pi#\n",
    "Txya_into_d_cube=16*Ta/pi#\n",
    "# using distortion energy theory\n",
    "# sigma_m=sqrt(sigma_xm**2+3*Txym**2)\n",
    "sigma_m_into_d_cube=sqrt(sigma_xm_into_d_cube**2+3*Txym_into_d_cube**2)#\n",
    "# sigma_a=sqrt((Ktb*sigma_xa)**2+3*(Kts*Txym)**2)\n",
    "sigma_a_into_d_cube=sqrt((Ktb*sigma_xa_into_d_cube)**2+3*(Kts*Txya_into_d_cube)**2)#\n",
    "# Sodeburg equation - sigma_m + (Su/Se)*sigma_a=Sy/n\n",
    "d=((sigma_m_into_d_cube + (Su/Se)*sigma_a_into_d_cube)*1000/(Sy/n))**(1/3)\n",
    "print ' \\n shaft size, d = %.f mm'%(d)"
   ]
  },
  {
   "cell_type": "markdown",
   "metadata": {},
   "source": [
    "## exa 4.21 Pg 126"
   ]
  },
  {
   "cell_type": "code",
   "execution_count": 18,
   "metadata": {
    "collapsed": false
   },
   "outputs": [
    {
     "name": "stdout",
     "output_type": "stream",
     "text": [
      " Calculating for hole - \n",
      " thickness is : 10.24 mm\n",
      " \n",
      " Calculating for notch - \n",
      " thickness is : 9.58 mm\n",
      " Suggestion, Adopt t = 11 mm\n"
     ]
    }
   ],
   "source": [
    "from __future__ import division\n",
    "\n",
    "# Given Data\n",
    "# Hole -\n",
    "d=25##mm\n",
    "w=150##mm\n",
    "Kt=2.56## stress concentration factor\n",
    "P=50## kN\n",
    "sigma_max=100## N/mm.sq\n",
    "t=Kt*P*1000/(w-d)/sigma_max## mm\n",
    "print ' Calculating for hole - \\n thickness is : %.2f mm'%(t)\n",
    "\n",
    "# Notch -\n",
    "d=30##mm\n",
    "w=120##mm\n",
    "w=150##mm\n",
    "Kt=2.3## stress concentration factor\n",
    "P=50## kN\n",
    "sigma_max=100## N/mm.sq\n",
    "t=Kt*P*1000/(w-d)/sigma_max## mm\n",
    "print ' \\n Calculating for notch - \\n thickness is : %.2f mm'%(t)\n",
    "print ' Suggestion, Adopt t = 11 mm'"
   ]
  }
 ],
 "metadata": {
  "kernelspec": {
   "display_name": "Python 2",
   "language": "python",
   "name": "python2"
  },
  "language_info": {
   "codemirror_mode": {
    "name": "ipython",
    "version": 2
   },
   "file_extension": ".py",
   "mimetype": "text/x-python",
   "name": "python",
   "nbconvert_exporter": "python",
   "pygments_lexer": "ipython2",
   "version": "2.7.9"
  }
 },
 "nbformat": 4,
 "nbformat_minor": 0
}
