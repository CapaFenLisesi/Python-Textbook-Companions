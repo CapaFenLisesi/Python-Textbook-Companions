{
 "cells": [
  {
   "cell_type": "markdown",
   "metadata": {},
   "source": [
    "# Chapter 6 - Shafts"
   ]
  },
  {
   "cell_type": "markdown",
   "metadata": {},
   "source": [
    "## exa 6.1 Pg 168"
   ]
  },
  {
   "cell_type": "code",
   "execution_count": 1,
   "metadata": {
    "collapsed": false
   },
   "outputs": [
    {
     "name": "stdout",
     "output_type": "stream",
     "text": [
      " shaft diameter = 43.13 mm. Use diameter = 45 mm.\n"
     ]
    }
   ],
   "source": [
    "from __future__ import division\n",
    "from math import sqrt, pi\n",
    "# Given Data\n",
    "Sut=650## MPa\n",
    "Syt=380## MPa\n",
    "F1BYF2 = 2.5## ratio of tensions\n",
    "Fmax=2.5## kN\n",
    "da=200## mm\n",
    "db=400## mm\n",
    "L=1*1000##mm\n",
    "Km=1.5## fatigue factor\n",
    "Kt=1## shock factor\n",
    "\n",
    "\n",
    "tau_d1=0.30*Syt## MPa\n",
    "tau_d2=0.18*Sut## MPa\n",
    "tau_d=min(tau_d1, tau_d2)## MPa (taking minimum value)\n",
    "tau_d=0.75*tau_d##MPa (Accounting keyway effect)\n",
    "\n",
    "# Pulley A\n",
    "F1=2500## N\n",
    "F2=1000## N\n",
    "T=(F1-F2)*da/2## N.mm\n",
    "Fa=F1+F2## N (resultant pull Downwards)\n",
    "\n",
    "# Pulley B\n",
    "# F3 & F4 are tension in belt (assumed)\n",
    "#T=(F3-F4)*db/2\n",
    "SUB_F3F4 = 2*T/db## N (where SUB_F3F4 = F3-F4) --eqn(1)\n",
    "F3BYF4=F1BYF2## ratio of tensions  --eqn(2)\n",
    "F4 = SUB_F3F4/(F3BYF4-1)## N (using above 2 equations)\n",
    "F3=F3BYF4*F4## N\n",
    "\n",
    "Fb=F3+F4## N (resultant pull right side( -->))\n",
    "\n",
    "# BENDING MOMENTS -\n",
    "Mav=Fa*L/4## N.mm (vertical force)\n",
    "Mc=Fb*da## N.mm\n",
    "Mah=Mc/2## N.mm (vertical force)\n",
    "M = sqrt(Mav**2+Mah**2)## N.mm (resultant bending moment at A)\n",
    "d=((16/pi/tau_d)*sqrt((Km*M)**2+(Kt*T)**2))**(1/3)## mm \n",
    "\n",
    "print ' shaft diameter = %.2f mm. Use diameter = 45 mm.'%(d)"
   ]
  },
  {
   "cell_type": "markdown",
   "metadata": {},
   "source": [
    "## exa 6.2 Pg 170"
   ]
  },
  {
   "cell_type": "code",
   "execution_count": 2,
   "metadata": {
    "collapsed": false
   },
   "outputs": [
    {
     "name": "stdout",
     "output_type": "stream",
     "text": [
      " shaft diameter = 34.81 mm. Use 35 mm.\n"
     ]
    }
   ],
   "source": [
    "from __future__ import division\n",
    "from math import sqrt,pi\n",
    "# Given Data\n",
    "Tmax=400## N.m\n",
    "Tmin=140## N.m\n",
    "Mmax=500## N.m\n",
    "Mmin=250## N.m\n",
    "Sut=540## MPa\n",
    "Syt=400## MPa\n",
    "n=2## factor of safety\n",
    "Kf=1.25## given\n",
    "\n",
    "Se_dash=0.4*Sut## Mpa\n",
    "Se=Se_dash/Kf##MPa\n",
    "Sys=0.577*Syt## MPa\n",
    "Ses=0.577*Se## MPa\n",
    "Mm=(Mmax+Mmin)/2## N.m\n",
    "Ma=(Mmax-Mmin)/2## N.m\n",
    "Tm=(Tmax+Tmin)/2## N.m\n",
    "Ta=(Tmax-Tmin)/2## N.m\n",
    "# Max. Distortion energy theory - Syt/n = 32/pi/d**3*sqrt((Mm+Ma*(Syt/Se)**2)+0.75*(Tm+Ta*(Sys/Ses))**2)\n",
    "d = (32/pi*sqrt((Mm+Ma*(Syt/Se))**2+0.75*(Tm+Ta*(Sys/Ses))**2)*1000/(Syt/n))**(1/3) # # mm\n",
    "print ' shaft diameter = %.2f mm. Use %.f mm.'%(d,d)"
   ]
  },
  {
   "cell_type": "markdown",
   "metadata": {},
   "source": [
    "## exa 6.3 Pg 171"
   ]
  },
  {
   "cell_type": "code",
   "execution_count": 3,
   "metadata": {
    "collapsed": false
   },
   "outputs": [
    {
     "name": "stdout",
     "output_type": "stream",
     "text": [
      " shaft diameter = 14.1 mm. Use 15 mm.\n"
     ]
    }
   ],
   "source": [
    "from __future__ import division\n",
    "from math import sqrt,pi, ceil\n",
    "# Given Data\n",
    "P=5## kW\n",
    "N=1000## rpm\n",
    "Syt=300## N/mm.sq.\n",
    "n=2## factor of safety\n",
    "v=0.25## Poisson's ratio\n",
    "\n",
    "#P=2*pi*N*T/(60*1000)\n",
    "T=P/(2*pi*N/(60*1000))## N.m\n",
    "#tau = 16*T/pi/d**3 # shear stress & sigma1 = tau#sigma2=0#sigma3=-tau\n",
    "# max. shear strain energy theory, sigma1**2+sigma3**2+(sigma3-sigma1)**2=2*(Syt/n)**2 \n",
    "d=(16*T*1000/pi/sqrt(2/6*(Syt/n)**2))**(1/3)## mm (putting values of tau)\n",
    "print ' shaft diameter = %.1f mm. Use %.f mm.'%(d,ceil(d))"
   ]
  },
  {
   "cell_type": "markdown",
   "metadata": {},
   "source": [
    "## exa 6.4 Pg 171"
   ]
  },
  {
   "cell_type": "code",
   "execution_count": 4,
   "metadata": {
    "collapsed": false
   },
   "outputs": [
    {
     "name": "stdout",
     "output_type": "stream",
     "text": [
      " shaft diameter(using ASME Code) = 46.7 mm. Use diameter = 47 mm.\n"
     ]
    }
   ],
   "source": [
    "from __future__ import division\n",
    "from math import sqrt,pi,tan\n",
    "# Given Data\n",
    "Sut=700## MPa\n",
    "Syt=460## Mpa\n",
    "F1BYF2=3## ratio of tensions\n",
    "dg=300## mm\n",
    "dp=400## mm\n",
    "P=25## kW\n",
    "N=600## rpm\n",
    "alfa=20## degree\n",
    "Km=1.5## fatigue factor\n",
    "Kt=1.5## shock factor\n",
    "\n",
    "tau_d1=0.30*Syt## MPa\n",
    "tau_d2=0.18*Sut## MPa\n",
    "tau_d=min(tau_d1, tau_d2)## MPa (taking minimum value)\n",
    "tau_d=0.75*tau_d##MPa (Accounting keyway effect)\n",
    "\n",
    "# Pulley D\n",
    "# P= 2*pi*N*T/60\n",
    "T=P/(2*pi*N/(60*1000))## N.m\n",
    "# (F1-F2)*dp/2=T\n",
    "SUB_F1F2 = T*2/dp## N (where SUB_F1F2 = F1-F2)\n",
    "F2 = SUB_F1F2/(F1BYF2-1) ## N (putting value of ratio)\n",
    "F1=F1BYF2*F2## N\n",
    "F=F1+F2## N \n",
    "# Gear B\n",
    "Ft=T*2/dg## N\n",
    "Fr=Ft*tan(alfa*pi/180)## N\n",
    "\n",
    "# Bearing Reactions\n",
    "\n",
    "#Vertical forces\n",
    "#RA*2*dg+Fr*dg=F*dg#\n",
    "RA=(F*dg-Fr*dg)/(2*dg)## N (downwards)\n",
    "RC=RA+Fr+F## N (upwards)\n",
    "MA=0;MB_v=-RA*dg## N.mm\n",
    "MC=-F*dg## N.mm\n",
    "#Horizontal forces\n",
    "MB_h=Ft*2*dg/4## N.mm\n",
    "#Resultant B.M at B\n",
    "MB=sqrt(MB_v**2+MB_h**2)## N.mm\n",
    "Mmax=MC##N.mm\n",
    "T=T*1000## N.mm\n",
    "# d**3=16/pi/tau_d*sqrt((Km*M)**2+(Kt*T)**2)\n",
    "d=(16/pi/tau_d*sqrt((Km*Mmax*1000)**2+(Kt*T)**2))**(1/3)\n",
    "print ' shaft diameter(using ASME Code) = %.1f mm. Use diameter = %.f mm.'%(d,d)"
   ]
  },
  {
   "cell_type": "markdown",
   "metadata": {},
   "source": [
    "## exa 6.5 Pg 174"
   ]
  },
  {
   "cell_type": "code",
   "execution_count": 5,
   "metadata": {
    "collapsed": false
   },
   "outputs": [
    {
     "name": "stdout",
     "output_type": "stream",
     "text": [
      " shaft diameter(using ASME Code) = 51.0 mm.\n"
     ]
    }
   ],
   "source": [
    "from __future__ import division\n",
    "from math import sqrt,pi,tan\n",
    "# Given Data\n",
    "L=1000## mm\n",
    "alfa=20## degree\n",
    "dg=500## mm\n",
    "L1=250## mm\n",
    "L2=300## mm\n",
    "dp=600## mm\n",
    "Wp=2000## N\n",
    "F1=2.5*1000## N\n",
    "F1BYF2=3## ratio of tensions\n",
    "tau_d=42## MPa\n",
    "\n",
    "F2=F1/F1BYF2## N\n",
    "T=(F1-F2)*dp/2## N.mm\n",
    "Ftg=2*T/dg## N\n",
    "Frg=Ftg*tan(alfa*pi/180)## N\n",
    "F=F1+F2## N\n",
    "\n",
    "# Vertical Loads\n",
    "RAV=(Ftg*(L1+dg)+Wp*L2)/L## N\n",
    "RBV=Ftg+Wp-RAV## N\n",
    "MCV=RAV*L1##N.mm\n",
    "MDV=RBV*L2## N.mm\n",
    "# Horizontal Loads\n",
    "RAH=(Frg*(L1+dg)+F*L2)/L##N\n",
    "RBH=Frg+F-RAH## N\n",
    "MCH=RAH*L1## N.mm\n",
    "MDH=RBH*L2## N.mm\n",
    "MD=sqrt(MDV**2+MDH**2)## N.mm\n",
    "Mmax=MD##N.mm\n",
    "Te=MCV+MDV;# N.mm\n",
    "# d**3 = 16*Te/%pi/tau_d\n",
    "d = (16*Te/pi/tau_d)**(1/3);# mm\n",
    "\n",
    "print ' shaft diameter(using ASME Code) = %.1f mm.'%(d)"
   ]
  },
  {
   "cell_type": "markdown",
   "metadata": {},
   "source": [
    "## exa 6.6 Pg 176"
   ]
  },
  {
   "cell_type": "code",
   "execution_count": 6,
   "metadata": {
    "collapsed": false
   },
   "outputs": [
    {
     "name": "stdout",
     "output_type": "stream",
     "text": [
      " shaft diameter = 34 mm.\n"
     ]
    }
   ],
   "source": [
    "from __future__ import division\n",
    "from math import sqrt,pi\n",
    "# Given Data\n",
    "Tmax=400## N.mm\n",
    "Tmin=200## N.mm\n",
    "Mmax=500## N.mm\n",
    "Mmin=250## N.mm\n",
    "Sut=540## MPa\n",
    "Syt=420## MPa\n",
    "n=2## factor of safety\n",
    "\n",
    "Se=0.35*Sut## MPa\n",
    "\n",
    "Mm=(Mmax+Mmin)/2## N.m\n",
    "Ma=(Mmax-Mmin)/2## N.m\n",
    "Tm=(Tmax+Tmin)/2## N.m\n",
    "Ta=(Tmax-Tmin)/2## N.m\n",
    "Sys=0.5*Syt# MPa\n",
    "Ses=0.5*Se## MPa\n",
    "# Max. Distortion energy theory - Syt/n = 32/pi/d**3*sqrt((Mm+Ma*(Syt/Se)**2)+0.75*(Tm+Ta*(Sys/Ses))**2)\n",
    "d = (32/pi*sqrt((Mm+Ma*(Syt/Se))**2+0.75*(Tm+Ta*(Sys/Ses))**2)*1000/(Syt/n))**(1/3) # # mm\n",
    "print ' shaft diameter = %.f mm.'%(d)"
   ]
  },
  {
   "cell_type": "markdown",
   "metadata": {},
   "source": [
    "## exa 6.7 Pg 177"
   ]
  },
  {
   "cell_type": "code",
   "execution_count": 7,
   "metadata": {
    "collapsed": false
   },
   "outputs": [
    {
     "name": "stdout",
     "output_type": "stream",
     "text": [
      " shaft diameter = 57 mm.\n"
     ]
    }
   ],
   "source": [
    "from __future__ import division\n",
    "from math import sqrt,pi\n",
    "# Given Data\n",
    "Wmax=40## kN\n",
    "Wmin=20## kN\n",
    "L=500## mm\n",
    "Se_dash=350## MPa\n",
    "Sut=650## MPa\n",
    "Syt=500## MPa\n",
    "n=1.5## factor of safety\n",
    "ka=0.9# # surface finish factor\n",
    "kb=0.85## size factor\n",
    "ke=1## load factor\n",
    "Kf=1## fatigue strength factor\n",
    "\n",
    "Wm=1/2*(Wmax+Wmin)## N\n",
    "Wa=1/2*(Wmax-Wmin)## N\n",
    "Se=ka*kb*ke*Se_dash##MPa\n",
    "Mm=Wm*L/1000/4## kN.m\n",
    "Ma=Wa*L/1000/4## kN.m\n",
    "#sigma_m=32*Mm/pi/d**3# & sigma_a=32*Ma/pi/d**3\n",
    "#soderburg failure criteria - 1/n=sigma_m/Syt+Kf*sigma_a/Se\n",
    "#d=((32/pi*n/1000)*(Mm/Syt+Kf*Ma/Se))*(1/3)\n",
    "d=((32/pi/1000)*(Mm/Syt+Kf*Ma/Se)*n)**(1/3)*1000## mm\n",
    "print ' shaft diameter = %.f mm.'%(d)"
   ]
  },
  {
   "cell_type": "markdown",
   "metadata": {},
   "source": [
    "## exa 6.8 Pg 178"
   ]
  },
  {
   "cell_type": "code",
   "execution_count": 8,
   "metadata": {
    "collapsed": false
   },
   "outputs": [
    {
     "name": "stdout",
     "output_type": "stream",
     "text": [
      " shaft diameter = 40.31 mm.\n"
     ]
    }
   ],
   "source": [
    "from __future__ import division\n",
    "from math import sqrt,pi\n",
    "# Given Data\n",
    "Tmax=300## N.mm\n",
    "Tmin=-100## N.mm\n",
    "Mmax=400## N.mm\n",
    "Mmin=-200## N.mm\n",
    "n=1.5## factor of safety\n",
    "Sut=500## MPa\n",
    "Syt=420## MPa\n",
    "sigma_d=280## MPa\n",
    "ka=0.62# # surface finish factor\n",
    "kb=0.85## size factor\n",
    "keb=1## load factor for bending\n",
    "kes=0.58## load factor for torsion\n",
    "Kfb=1## fatigue strength factor for bending \n",
    "Kfs=1## fatigue strength factor for torsion\n",
    "\n",
    "Se_dash=0.5*Sut## MPa\n",
    "Se=ka*kb*keb*Se_dash## MPa\n",
    "Ses_dash=0.5*Se_dash## MPa\n",
    "Ses=ka*kb*kes*Ses_dash## MPa\n",
    "Sys=0.5*Syt## MPa\n",
    "Mm=(Mmax+Mmin)/2## N.m\n",
    "Ma=(Mmax-Mmin)/2## N.m\n",
    "Tm=(Tmax+Tmin)/2## N.m\n",
    "Ta=(Tmax-Tmin)/2## N.m\n",
    "\n",
    "# tau_d/n = (16/pi/d**3)*sqrt((Mm+Ma*(Syt/Se)**2)+(Tm+Ta*(Sys/Ses))**2)\n",
    "tau_d=sigma_d/2## MPa\n",
    "d = ((16/pi)*sqrt((Mm+Ma*(Syt/Se)**2)+(Tm+Ta*(Sys/Ses))**2)/(tau_d*10**6/n))**(1/3)*1000## mm\n",
    "print ' shaft diameter = %.2f mm.'%(d)\n",
    "# Note - answer in the from math import sqrt,pi textbook is not accurate."
   ]
  }
 ],
 "metadata": {
  "kernelspec": {
   "display_name": "Python 2",
   "language": "python",
   "name": "python2"
  },
  "language_info": {
   "codemirror_mode": {
    "name": "ipython",
    "version": 2
   },
   "file_extension": ".py",
   "mimetype": "text/x-python",
   "name": "python",
   "nbconvert_exporter": "python",
   "pygments_lexer": "ipython2",
   "version": "2.7.9"
  }
 },
 "nbformat": 4,
 "nbformat_minor": 0
}
