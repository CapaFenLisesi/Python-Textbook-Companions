{
 "metadata": {
  "name": "",
  "signature": "sha256:188e5ca03e48e521630f0518a9d462567af55f5cfab6623682e9d579c84b2da8"
 },
 "nbformat": 3,
 "nbformat_minor": 0,
 "worksheets": [
  {
   "cells": [
    {
     "cell_type": "heading",
     "level": 1,
     "metadata": {},
     "source": [
      "Chapter 16 : Combustion In Compresson Ignition Engines"
     ]
    },
    {
     "cell_type": "heading",
     "level": 2,
     "metadata": {},
     "source": [
      "Example 16.1  Page no :  315"
     ]
    },
    {
     "cell_type": "code",
     "collapsed": false,
     "input": [
      "import math \n",
      "from numpy import array\n",
      "\t\t\t\t\t\n",
      "#Input data\n",
      "s = 0.005\t\t\t\t\t#Delay in sec\n",
      "d = 30.\t\t\t\t\t#Bore in cm\n",
      "N = 600.\t\t\t\t\t#Speed in r.p.m\n",
      "dx = array([10,15,20])\t\t\t\t\t#Bore diameters in cm\n",
      "\n",
      "\t\t\t\t\t\n",
      "#Calculations\n",
      "t = (s/d)*dx\t\t\t\t\t#Time of delay in sec. In textbook, t[1] is given wrong as 0.00025 sec instead of 0.0025 sec\n",
      "\n",
      "\t\t\t\t\t\n",
      "#Output\n",
      "print 'The delay time for %i cm diameter bore is %3.5f sec  \\\n",
      "\\nThe delay time for %i cm diameter bore is %3.5f sec  \\\n",
      "\\nThe delay time for %i cm diameter bore is %3.5f sec'%(dx[0],t[0],dx[1],t[1],dx[2],t[2])\n"
     ],
     "language": "python",
     "metadata": {},
     "outputs": [
      {
       "output_type": "stream",
       "stream": "stdout",
       "text": [
        "The delay time for 10 cm diameter bore is 0.00167 sec  \n",
        "The delay time for 15 cm diameter bore is 0.00250 sec  \n",
        "The delay time for 20 cm diameter bore is 0.00333 sec\n"
       ]
      }
     ],
     "prompt_number": 1
    },
    {
     "cell_type": "heading",
     "level": 2,
     "metadata": {},
     "source": [
      "Example 16.2  Page no :  317"
     ]
    },
    {
     "cell_type": "code",
     "collapsed": false,
     "input": [
      "import math \n",
      "\t\t\t\t\t\n",
      "#Input data\n",
      "d = [15.,60.]\t\t\t\t\t#Bore in cm\n",
      "N = [1600.,400.]\t\t\t\t\t#Speed in r.p.m respectively\n",
      "q = 30.\t\t\t\t\t#Injection of oil occupies 30 degrees of crank travel in each case\n",
      "pc = 30.\t\t\t\t\t#Compression pressure in kg/cm**2\n",
      "d = 0.001\t\t\t\t\t#Delay time in sec\n",
      "rp = 5.\t\t\t\t\t#Rapid combustion period is 5 degree of crank travel\n",
      "pe = 60.\t\t\t\t\t#Compression pressure at the end of rapid compression in kg/cm**2\n",
      "\n",
      "\t\t\t\t\t\n",
      "#Calculations\n",
      "\t\t\t\t\t#For small engine\n",
      "It1 = (60/N[0])*(q/360)\t\t\t\t\t#Injection time in sec\n",
      "pf1 = ((d/It1)+(rp/pc))*100\t\t\t\t\t#Percent fuel\n",
      "\t\t\t\t\t#For large engine\n",
      "It2 = (60/N[1])*(q/360)\t\t\t\t\t#Injection time in sec\n",
      "pf2 = ((d/It2)+(rp/pc))*100\t\t\t\t\t#Percent fuel\n",
      "pr = (pc*(pf2/pf1))\t\t\t\t\t#Pressure rise in kg/cm**2\n",
      "mp = (pc+pr)\t\t\t\t\t#Maximum pressure in kg/cm**2\n",
      "\n",
      "\t\t\t\t\t\n",
      "#Output\n",
      "print 'Pressure in the large engine is %3.1f kg/cm**2'%(mp)\n"
     ],
     "language": "python",
     "metadata": {},
     "outputs": [
      {
       "output_type": "stream",
       "stream": "stdout",
       "text": [
        "Pressure in the large engine is 45.2 kg/cm**2\n"
       ]
      }
     ],
     "prompt_number": 3
    },
    {
     "cell_type": "heading",
     "level": 2,
     "metadata": {},
     "source": [
      "Example 16.3  Page no :  320"
     ]
    },
    {
     "cell_type": "code",
     "collapsed": false,
     "input": [
      "import math \n",
      "\t\t\t\t\t\n",
      "#Input data\n",
      "n = 4.\t\t\t\t\t#Number of cylinders\n",
      "d = 105.\t\t\t\t\t#Bore in mm\n",
      "l = 127.\t\t\t\t\t#Stroke in mm\n",
      "BHP = 63.\t\t\t\t\t#Brake horse power in h.p\n",
      "N = 1800.\t\t\t\t\t#Speed in r.p.m\n",
      "t = 15.\t\t\t\t\t#Test time in min\n",
      "mf = 2.75\t\t\t\t\t#Mass of fuel in kg\n",
      "CV = 11000.\t\t\t\t\t#Calorific value in kcal/kg\n",
      "af = 14.8\t\t\t\t\t#Air fuel ratio\n",
      "v = 0.805\t\t\t\t\t#Specific volume in m**3/kg\n",
      "nv = 80.\t\t\t\t\t#Volumetric efficiency in percent\n",
      "J = 427.\t\t\t\t\t#Mechanical equivalent of heat in kg.m/kcal\n",
      "\n",
      "\t\t\t\t\t\n",
      "#Calculations\n",
      "bth = ((BHP*4500)/(J*(mf/t)*CV))*100\t\t\t\t\t#Brake thermal efficiency in percent\n",
      "Vs = ((3.14/4)*(d/10)**2*(l/10))\t\t\t\t\t#Stroke volume in c.c\n",
      "Vsw = (Vs*n*(N/2)*t)\t\t\t\t\t#Swept volume in c.c\n",
      "Va = (Vsw*10**-6*(nv/100))\t\t\t\t\t#Volume of air sucked in m**3\n",
      "wa = (Va/v)\t\t\t\t\t#Weight of air sucked in kg\n",
      "wr = (af*mf)\t\t\t\t\t#Weight of air reqired in kg\n",
      "pei = (wr/wa)*100\t\t\t\t\t#Percentage of air available for combustion\n",
      "\n",
      "\t\t\t\t\t\n",
      "#Output\n",
      "print 'Brake thermal efficiency is %3.1f percent  \\\n",
      "\\nThe percentage of air used for combustion is %i percent'%(bth,pei)\n",
      "\n"
     ],
     "language": "python",
     "metadata": {},
     "outputs": [
      {
       "output_type": "stream",
       "stream": "stdout",
       "text": [
        "Brake thermal efficiency is 32.9 percent  \n",
        "The percentage of air used for combustion is 69 percent\n"
       ]
      }
     ],
     "prompt_number": 5
    }
   ],
   "metadata": {}
  }
 ]
}