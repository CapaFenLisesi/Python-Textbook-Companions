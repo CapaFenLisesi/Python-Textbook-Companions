{
 "metadata": {
  "name": "",
  "signature": "sha256:7b8d681b65eb5e5f473fb64f021431b36e4fa7b13f8de28bbc19ff84b5a592cb"
 },
 "nbformat": 3,
 "nbformat_minor": 0,
 "worksheets": [
  {
   "cells": [
    {
     "cell_type": "heading",
     "level": 1,
     "metadata": {},
     "source": [
      "Chapter 26 : Jet Propulsion"
     ]
    },
    {
     "cell_type": "heading",
     "level": 2,
     "metadata": {},
     "source": [
      "Example 26.1  Page no :  447"
     ]
    },
    {
     "cell_type": "code",
     "collapsed": false,
     "input": [
      "import math \n",
      "\t\t\t\t\t\n",
      "#Input data\n",
      "Ve = 2700.\t\t\t\t\t#Jet exit velocity in m/s\n",
      "Vf = 1350\t\t\t\t\t#Forward flight velocity in m/s\n",
      "m = 78.6\t\t\t\t\t#Propellant consumption in kg/s\n",
      "\n",
      "\t\t\t\t\t\n",
      "#Calculations\n",
      "T = ((m/9.81)*(Ve-Vf))\t\t\t\t\t#Thrust in kg\n",
      "TH = ((T*Vf)/75)/10**5\t\t\t\t\t#Thrust horse power in HP*10**5\n",
      "pn = (2/(1+(Ve/Vf)))*100\t\t\t\t\t#Propulsive efficiency in percent\n",
      "\n",
      "\t\t\t\t\t\n",
      "#Output\n",
      "print 'i) Thrust is %3.0f kg  \\\n",
      "\\nii) Thrust horse power is %3.3f*10**5 H.P  \\\n",
      "\\niii) Propulsive efficiency is %3.1f percent'%(T,TH,pn)\n"
     ],
     "language": "python",
     "metadata": {},
     "outputs": [
      {
       "output_type": "stream",
       "stream": "stdout",
       "text": [
        "i) Thrust is 10817 kg  \n",
        "ii) Thrust horse power is 1.947*10**5 H.P  \n",
        "iii) Propulsive efficiency is 66.7 percent\n"
       ]
      }
     ],
     "prompt_number": 1
    },
    {
     "cell_type": "heading",
     "level": 2,
     "metadata": {},
     "source": [
      "Example 26.2  Page no :  451"
     ]
    },
    {
     "cell_type": "code",
     "collapsed": false,
     "input": [
      "import math \n",
      "\t\t\t\t\t\n",
      "#Input data\n",
      "CV = 10000\t\t\t\t\t#Calorific value in kcal/kg\n",
      "F = 1.4\t\t\t\t\t#Fuel consumption in kg per hour per kg of thrust\n",
      "T = 900\t\t\t\t\t#Thrust in kg\n",
      "Va = 425\t\t\t\t\t#Aircraft velocity in m/s\n",
      "w = 19.5\t\t\t\t\t#Weight of air in kg/sec\n",
      "\n",
      "\t\t\t\t\t\n",
      "#Calculations\n",
      "af = (w/((F*T)/3600))\t\t\t\t\t#Air fuel ratio\n",
      "nv = ((T*Va*3600)/(427*F*T*CV))*100\t\t\t\t\t#Overall efficiency in percent\n",
      "\n",
      "\t\t\t\t\t\n",
      "#Output\n",
      "print 'Air fuel ratio is %3.1f  \\\n",
      "\\nOverall efficiency is %3.1f percent'%(af,nv)\n"
     ],
     "language": "python",
     "metadata": {},
     "outputs": [
      {
       "output_type": "stream",
       "stream": "stdout",
       "text": [
        "Air fuel ratio is 55.7  \n",
        "Overall efficiency is 25.6 percent\n"
       ]
      }
     ],
     "prompt_number": 2
    },
    {
     "cell_type": "heading",
     "level": 2,
     "metadata": {},
     "source": [
      "Example 26.3  Page no :  451"
     ]
    },
    {
     "cell_type": "code",
     "collapsed": false,
     "input": [
      "import math \n",
      "\t\t\t\t\t\n",
      "#Input data\n",
      "a = 11500.\t\t\t\t\t#Altitude in m\n",
      "n = 123.\t\t\t\t\t#Number of passengers\n",
      "c = 3.\t\t\t\t\t#Cargo in tonnes\n",
      "Va = 650.\t\t\t\t\t#Velocity of air craft in km/hour\n",
      "d = 640.\t\t\t\t\t#Drag in kg\n",
      "pe = 50.\t\t\t\t\t#Propulsion efficiency in percent\n",
      "oe = 18.\t\t\t\t\t#Overall efficiency in percent\n",
      "CV = 10000.\t\t\t\t\t#Calorific value in kcal/kg\n",
      "da = 0.0172\t\t\t\t\t#Density of air at 11500 m in kg/cm**2\n",
      "\n",
      "\t\t\t\t\t\n",
      "#Calculations\n",
      "Vp = ((Va*1000)/3600)\t\t\t\t\t#Velocity of aeroplane in m/s\n",
      "Vr = ((2/(pe/100))-1)*Vp\t\t\t\t\t#Velocity of working medium in m/s\n",
      "nhp = ((d*Vp)/(75*(pe/100)))\t\t\t\t\t#Net horse power in H.P\n",
      "wf = ((nhp*75*3600)/((oe/100)*427*CV))\t\t\t\t\t#Mass flow rate in kg/hr\n",
      "thp = ((Va*Vp)/75)\t\t\t\t\t#Thrust horse power in H.P\n",
      "F = (wf/thp)\t\t\t\t\t#Fuel consumption per thrust H.P hour in kg\n",
      "W = ((Va*9.81)/Vr)\t\t\t\t\t#Air flow in kg/sec\n",
      "va = (W/da)\t\t\t\t\t#Volume of air in cu.m/sec\n",
      "aa = (va/(3*Vr))\t\t\t\t\t#Area of jet in m**2\n",
      "d = math.sqrt((4*aa)/3.14)*100\t\t\t\t\t#Diameter of jet in cm\n",
      "af = ((W*3600)/wf)\t\t\t\t\t#Air fuel ratio\n",
      "\n",
      "\t\t\t\t\t\n",
      "#Output\n",
      "print 'a) Absolute velocity of the jet is %3.1f m/sec  \\\n",
      "\\nb) Net horse power of the gas plant is %3.0f H.P  \\\n",
      "\\nc) Fuel consumption per thrust H.P hour is %3.3f kg  \\\n",
      "\\nd) Diameter of the jet is %3.1f cm  \\\n",
      "\\ne) Air-fuel ratio of the engine is %3.1f'%(Vr,nhp,F,d,af)\n",
      "\n"
     ],
     "language": "python",
     "metadata": {},
     "outputs": [
      {
       "output_type": "stream",
       "stream": "stdout",
       "text": [
        "a) Absolute velocity of the jet is 541.7 m/sec  \n",
        "b) Net horse power of the gas plant is 3081 H.P  \n",
        "c) Fuel consumption per thrust H.P hour is 0.692 kg  \n",
        "d) Diameter of the jet is 73.2 cm  \n",
        "e) Air-fuel ratio of the engine is 39.1\n"
       ]
      }
     ],
     "prompt_number": 4
    },
    {
     "cell_type": "heading",
     "level": 2,
     "metadata": {},
     "source": [
      "Example 26.4  Page no :  451"
     ]
    },
    {
     "cell_type": "code",
     "collapsed": false,
     "input": [
      "import math \n",
      "\t\t\t\t\t\n",
      "#Input data\n",
      "p1 = 7.\t\t\t\t\t#Pressure of gas before expansion in kg/cm**2\n",
      "p2 = 5.\t\t\t\t\t#Pressure of gas after expansion in kg/cm**2\n",
      "T1 = 250.+273\t\t\t\t\t#Temperature of gas before expansion in K\n",
      "Cp = 0.24\t\t\t\t\t#Specific heat at constant pressure in kJ/kg.K\n",
      "Cv = 0.17\t\t\t\t\t#Specific heat at constant volume in kJ/kg.K\n",
      "nv = 0.8\t\t\t\t\t#Nozzle efficiency\n",
      "\n",
      "\t\t\t\t\t\n",
      "#Calculations\n",
      "R = 427*(Cp-Cv)\t\t\t\t\t#Characteristic gas constant in kg.m/kg.K\n",
      "g = (Cp/Cv)\t\t\t\t\t#Ratio of specific heats\n",
      "V1 = (R*T1)/(p1*10**4)\t\t\t\t\t#Volume in cu.m per kg\n",
      "V2 = (V1*(p1/p2)**(1/g))\t\t\t\t\t#Volume in cu.m per kg\n",
      "Wd = (g/(g-1))*(p1*V1-p2*V2)*10**4\t\t\t\t\t#Work done in m.kg per kg\n",
      "KE = (nv*Wd)\t\t\t\t\t#Kinetic energy at exit in m.kg per kg\n",
      "v3 = math.sqrt(2*9.81*nv*Wd)\t\t\t\t\t#Velocity in m/s\n",
      "T2 = (T1*(p2/p1)*(V2/V1))\t\t\t\t\t#Temperature in K\n",
      "T3 = (((1-nv)*Wd)/(427*Cp))+T2\t\t\t\t\t#Temperature in K\n",
      "V3 = (V2*(T3/T2))\t\t\t\t\t#Volume in cu.m per kg\n",
      "qa = (V3/v3)*10**4\t\t\t\t\t#Discharge area unit rate of mass flow in cm**2\n",
      "\n",
      "\t\t\t\t\t\n",
      "#Output\n",
      "print 'Area of discharge per unit rate of mass flow is %3.2f sq.cm'%(qa)\n",
      "\n"
     ],
     "language": "python",
     "metadata": {},
     "outputs": [
      {
       "output_type": "stream",
       "stream": "stdout",
       "text": [
        "Area of discharge per unit rate of mass flow is 10.32 sq.cm\n"
       ]
      }
     ],
     "prompt_number": 5
    },
    {
     "cell_type": "heading",
     "level": 2,
     "metadata": {},
     "source": [
      "Example 26.5  Page no :  451"
     ]
    },
    {
     "cell_type": "code",
     "collapsed": false,
     "input": [
      "import math \n",
      "\t\t\t\t\t\n",
      "#Input data\n",
      "p = 3.5\t\t\t\t\t#Pressure at the delivery is 3.5 times that at entrance\n",
      "T = 1.15\t\t\t\t\t#Temperature rise during compression is 1.15 times that for frictionless adiabatic compression. In textbook it is given wrong as 1.5\n",
      "T3 = 500.+273\t\t\t\t\t#Temperature of products of combustion in K\n",
      "pa = 1.\t\t\t\t\t#Atmospheric pressure in kg/cm**2\n",
      "Ta = 15.+273\t\t\t\t\t#Atmospheric temperature in K\n",
      "Cp = 0.24\t\t\t\t\t#Specific heat at constant pressure in kJ/kg.K\n",
      "g = 1.4\t\t\t\t\t#Ratio of specific heats\n",
      "J = 427.\t\t\t\t\t#Mechanical equivalent of heat in kg.m/kcal\n",
      "\n",
      "\t\t\t\t\t\n",
      "#Calculations\n",
      "p2 = p*pa\t\t\t\t\t#Pressure in kg/cm**2\n",
      "T2a = (Ta*(p2/pa)**((g-1)/g))\t\t\t\t\t#Temperature in K\n",
      "T2 = (T2a-Ta)*T+Ta\t\t\t\t\t#Temperature in K\n",
      "wcomp = (Cp*(T2-Ta))\t\t\t\t\t#Work done by compressor in kcal/kg\n",
      "T5 = T3/(p2/pa)**((g-1)/g)\t\t\t\t\t#Temperature in K\n",
      "dh35 = (Cp*(T3-T5))\t\t\t\t\t#Change in enthalpy in kcal/kg\n",
      "dhnozzle = (dh35-wcomp)\t\t\t\t\t#Change in enthalpy of nozzle in kcal/kg\n",
      "v5 = math.sqrt(2*9.81*J*dhnozzle)\t\t\t\t\t#Velocity at the nozzle exit in m/sec\n",
      "Th = (v5/9.81)\t\t\t\t\t#Thrust in kg per kg of air/sec\n",
      "\n",
      "\t\t\t\t\t\n",
      "#Output\n",
      "print 'a) the power required to drive the compressor per kg of air per second is %3.1f kcal/kg  \\\n",
      "\\nb) Static thrust developed per kg of air per second is %3.1f kg'%(wcomp,Th)\n"
     ],
     "language": "python",
     "metadata": {},
     "outputs": [
      {
       "output_type": "stream",
       "stream": "stdout",
       "text": [
        "a) the power required to drive the compressor per kg of air per second is 34.2 kcal/kg  \n",
        "b) Static thrust developed per kg of air per second is 43.4 kg\n"
       ]
      }
     ],
     "prompt_number": 6
    },
    {
     "cell_type": "code",
     "collapsed": false,
     "input": [],
     "language": "python",
     "metadata": {},
     "outputs": []
    }
   ],
   "metadata": {}
  }
 ]
}