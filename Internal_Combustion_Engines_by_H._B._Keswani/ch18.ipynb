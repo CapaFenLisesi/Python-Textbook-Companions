{
 "metadata": {
  "name": "",
  "signature": "sha256:0edb003d2406dbd42a27924dc90436706150dd4044705ed46aaf76f3c5aa44bf"
 },
 "nbformat": 3,
 "nbformat_minor": 0,
 "worksheets": [
  {
   "cells": [
    {
     "cell_type": "heading",
     "level": 1,
     "metadata": {},
     "source": [
      "Chapter 18 : Super Charging"
     ]
    },
    {
     "cell_type": "heading",
     "level": 2,
     "metadata": {},
     "source": [
      "Example 18.1  Page no :  327"
     ]
    },
    {
     "cell_type": "code",
     "collapsed": false,
     "input": [
      "import math \n",
      "\t\t\t\t\t\n",
      "#Input data\n",
      "n = 6.\t\t\t\t\t#Number of cylinders\n",
      "d = 9.\t\t\t\t\t#Bore in cm\n",
      "l = 10.\t\t\t\t\t#Stroke in cm\n",
      "N = 2500.\t\t\t\t\t#Speed in r.p.m\n",
      "Ta = 25.+273\t\t\t\t\t#Temperature of air entering the compressor in K\n",
      "q = 16800.\t\t\t\t\t#Heat rate in kcal/hour\n",
      "T = 60.+273\t\t\t\t\t#Temperature of air leaving the cooler in K\n",
      "p = 1.6\t\t\t\t\t#Pressure of air leaving the cooler in kg/cm**2\n",
      "t = 14.5\t\t\t\t\t#Engine torque in kg.m\n",
      "nv = 75.\t\t\t\t\t#Volumetric efficiency in percent\n",
      "nm = 74.\t\t\t\t\t#Mechanical efficiency in percent\n",
      "R = 29.27\t\t\t\t\t#Characteristic gas constant in kg.m/kg.K\n",
      "Cp = 0.24\t\t\t\t\t#Specific heat at constant pressure n kcal/kg.K\n",
      "\n",
      "\t\t\t\t\t\n",
      "#Calculations\n",
      "BHP = (2*3.14*N*t)/4500\t\t\t\t\t#Brake horse power in B.H.P\n",
      "IHP = (BHP/(nm/100))\t\t\t\t\t#Indicated horse power in I.H.P\n",
      "pm = ((IHP*4500)/((l/100)*(3.14/4)*d**2*(N/2)*n))\t\t\t\t\t#Mean effective pressure in kg/cm**2\n",
      "Vs = (n*(3.14/4)*(d/100)**2*(l/100)*(N/2))\t\t\t\t\t#Swept volume in m**3/min\n",
      "Va = (Vs*(nv/100))\t\t\t\t\t#Aspirated Volume of air into engine in m**3/min\n",
      "ma = (p*10**4*Va)/(R*T)\t\t\t\t\t#Aspirated mass flow into the engine in kg/min\n",
      "mcdT = ((BHP*4500/427)/Cp)\t\t\t\t\t#Product of mass flow rate and change in temperature\n",
      "msdT = ((q/60)/Cp)\t\t\t\t\t#Product of mass flow rate and change in temperature\n",
      "x = (mcdT/msdT)\t\t\t\t\t#Ratio\n",
      "T2 = ((Ta-(x*T)))/(1-x)\t\t\t\t\t#Temperature in K\n",
      "mc = (msdT/(T2-T))\t\t\t\t\t#Air flow in kg/min\n",
      "\n",
      "\t\t\t\t\t\n",
      "#Output\n",
      "print 'a) the mean effective pressure is %3.2f kg/cm**2  \\\n",
      "\\nb) the air consumption is %3.3f kg/min  \\\n",
      "\\nc) the air flow into the compressor is %3.2f kg/min'%(pm,ma,mc)\n"
     ],
     "language": "python",
     "metadata": {},
     "outputs": [
      {
       "output_type": "stream",
       "stream": "stdout",
       "text": [
        "a) the mean effective pressure is 6.45 kg/cm**2  \n",
        "b) the air consumption is 5.871 kg/min  \n",
        "c) the air flow into the compressor is 30.14 kg/min\n"
       ]
      }
     ],
     "prompt_number": 1
    },
    {
     "cell_type": "heading",
     "level": 2,
     "metadata": {},
     "source": [
      "Example 18.2  Page no :  328"
     ]
    },
    {
     "cell_type": "code",
     "collapsed": false,
     "input": [
      "import math \n",
      "\t\t\t\t\t\n",
      "#Input data\n",
      "IMEP = 10.\t\t\t\t\t#Indicated mean effective pressure in kg/cm**2\n",
      "x = 20.\t\t\t\t\t#Mixture strength 20% richer math.tan chemically correct\n",
      "pIMEP = 0.41\t\t\t\t\t#Pumping Indicated mean effective pressure in kg/cm**2\n",
      "p1 = 0.97\t\t\t\t\t#Charge pressure at the beginning of compression in kg/cm**2\n",
      "T1 = 100.+273\t\t\t\t\t#Charge temperature at the beginning of compression in K\n",
      "pm = 0.91\t\t\t\t\t#Mean pressure during the conduction stroke in kg/cm**2\n",
      "bn = 70.\t\t\t\t\t#Blower adiabatic efficiency in percent\n",
      "T2 = 50.\t\t\t\t\t#Temperature of the charge after delivery by the blower in degree C\n",
      "dp = 0.07\t\t\t\t\t#Pressure drop in kg/cm**2\n",
      "pi = 1.47\t\t\t\t\t#Charge pressure in the cylinder during the induction stroke in kg/cm**2\n",
      "Ta = 15.+273\t\t\t\t\t#Atomspheric temperature in K\n",
      "pa = 1.03\t\t\t\t\t#Atmospheric pressure in kg/cm**2\n",
      "g = 1.4\t\t\t\t\t#Ratio of specific heats\n",
      "\n",
      "\t\t\t\t\t\n",
      "#Calculations\n",
      "T2x = ((((pi/pa)**((g-1)/g)-1)/(bn/100))+1)*Ta+T2\t\t\t\t\t#Temperature in K\n",
      "rIMEP = ((pi/pa)*(T1/T2x))\t\t\t\t\t#Ratio of I.M.E.P\n",
      "gIMEP = (rIMEP*IMEP)\t\t\t\t\t#Gross I.M.E.P in kg/cm**2\n",
      "nsIMEP = (gIMEP+(pi-pa))\t\t\t\t\t#Net I.M.E.P supercharged in kg/cm**2\n",
      "nuIMEP = (IMEP-pIMEP)\t\t\t\t\t#Net I.M.E.P unsupercharged in kg/cm**2 \n",
      "iIMEP = (nsIMEP-nuIMEP)\t\t\t\t\t#Increase in I.M.E.P in kg/cm**2\n",
      "pei = (iIMEP*100)/nuIMEP\t\t\t\t\t#Percentage increase\n",
      "\n",
      "\t\t\t\t\t\n",
      "#Output\n",
      "print 'Percentage increase in the net I.M.E.P due to supercharging is %3.1f percent'%(pei)\n",
      "\n"
     ],
     "language": "python",
     "metadata": {},
     "outputs": [
      {
       "output_type": "stream",
       "stream": "stdout",
       "text": [
        "Percentage increase in the net I.M.E.P due to supercharging is 49.9 percent\n"
       ]
      }
     ],
     "prompt_number": 2
    },
    {
     "cell_type": "heading",
     "level": 2,
     "metadata": {},
     "source": [
      "Example 18.3  Page no :  331"
     ]
    },
    {
     "cell_type": "code",
     "collapsed": false,
     "input": [
      "import math \n",
      "\t\t\t\t\t\n",
      "#Input data\n",
      "l = 4.5\t\t\t\t\t#Capacity in litres\n",
      "P = 20.\t\t\t\t\t#Power in H.P per m**3 of free air induced per minute\n",
      "N = 1700.\t\t\t\t\t#Speed in r.p.m\n",
      "nv = 75.\t\t\t\t\t#Volumetric efficiency in percent\n",
      "Ta = 27.+273\t\t\t\t\t#Atomspheric temperature in K\n",
      "pa = 1.03\t\t\t\t\t#Atmospheric pressure in kg/cm**2\n",
      "pr = 1.75\t\t\t\t\t#Pressure ratio\n",
      "ie = 70.\t\t\t\t\t#Isentropic efficiency in percent\n",
      "nm = 75.\t\t\t\t\t#Mechanical efficiency in percent\n",
      "g = 1.4\t\t\t\t\t#Ratio of specific heats\n",
      "nb = 80.\t\t\t\t\t#Efficiency of blower in percent\n",
      "R = 29.27\t\t\t\t\t#Characteristic gas constant in kg.m/kg.K\n",
      "Cp = 0.24\t\t\t\t\t#Specific heat at constant pressure in kJ/kg.K\n",
      "J = 427.\t\t\t\t\t#Mechanical equivalent of heat in kg.m/kcal\n",
      "\n",
      "\t\t\t\t\t\n",
      "#Calculations\n",
      "Vs = (l/1000*(N/2))\t\t\t\t\t#Swept volume in m**3/min\n",
      "uVs = ((nm/100)*Vs)\t\t\t\t\t#Unsupercharged swept volume in m**3/min\n",
      "dp = (pr*pa)\t\t\t\t\t#Blower delivery pressure in kg/cm**2\n",
      "Tc = (Ta*pr**((g-1)/g))\t\t\t\t\t#Temperature after isentropic compression in K\n",
      "dT = (Ta+(Tc-Ta)/(ie/100))\t\t\t\t\t#Blow delivery temperature in K\n",
      "Va = (Vs*(dp*Ta)/(pa*dT))\t\t\t\t\t#Equivalent volume at free air condition in m**3/min\n",
      "iiv = (Va-uVs)\t\t\t\t\t#Increase in the induced volume in m**3/min\n",
      "iIHP = (P*iiv)\t\t\t\t\t#ncrease in I.H.P \n",
      "iBHP = (iIHP*(nm/100))\t\t\t\t\t#Increase in B.H.P\n",
      "ma = (dp*10**4*Vs)/(R*dT)\t\t\t\t\t#Mass of air delivered by blower in kg/min\n",
      "HP = (ma*Cp*(dT-Ta)*J)/(4500*(80./100))\t\t\t\t\t#H.P required for blower\n",
      "nibhp = (iBHP-HP)\t\t\t\t\t#Net increse in engine b.h.p\n",
      "pei = (nibhp/(P*uVs))*100\t\t\t\t\t#Percentage increase\n",
      "\n",
      "\t\t\t\t\t\n",
      "#Output\n",
      "print 'Percentage net increase in B.H.P is %3.1f percent'%(pei)\n"
     ],
     "language": "python",
     "metadata": {},
     "outputs": [
      {
       "output_type": "stream",
       "stream": "stdout",
       "text": [
        "Percentage net increase in B.H.P is 42.1 percent\n"
       ]
      }
     ],
     "prompt_number": 5
    }
   ],
   "metadata": {}
  }
 ]
}