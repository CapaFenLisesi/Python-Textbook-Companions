{
 "metadata": {
  "name": "",
  "signature": "sha256:ba05265a254158c2105561a6062dfe30873e9384b5393c6f2ca64b6f28ed143f"
 },
 "nbformat": 3,
 "nbformat_minor": 0,
 "worksheets": [
  {
   "cells": [
    {
     "cell_type": "heading",
     "level": 1,
     "metadata": {},
     "source": [
      "Chapter 14 : The Diesel Engine"
     ]
    },
    {
     "cell_type": "heading",
     "level": 2,
     "metadata": {},
     "source": [
      "Example 14.1  Page no :  258"
     ]
    },
    {
     "cell_type": "code",
     "collapsed": false,
     "input": [
      "import math \n",
      "\t\t\t\t\t\n",
      "#Input data\n",
      "r = 14.3\t\t\t\t\t#Compression ratio\n",
      "c = 5\t\t\t\t\t#Fuel cutoff in percent of stroke\n",
      "w = 0.006\t\t\t\t\t#Weight of charge in kg\n",
      "T4 = 912\t\t\t\t\t#Final temperature in degree C abs\n",
      "q = 8300\t\t\t\t\t#Heat in kcal\n",
      "x = [0.258,0.000048]\t\t\t\t\t#Temperature expression is 0.258T+0.000048T**2, where T is in degree C abs\n",
      "\n",
      "\t\t\t\t\t\n",
      "#Calculations\n",
      "v4 = 1.                       #Assuming clearance volume as unity\n",
      "v1 = 1.665\t\t\t\t\t#v1 from fig. 14.2 on page no. 352\n",
      "T1 = (T4*v1)/v4\t\t\t\t\t#Temperature in degree C abs\n",
      "qp1 = (x[0]*T1+x[1]*T1**2)\t\t\t\t\t#constant pressure heat of mixture at temperature T1 in kcal/kg\n",
      "qp4 = (x[0]*T4+x[1]*T4**2)\t\t\t\t\t#constant pressure heat of mixture at temperature T4 in kcal/kg\n",
      "qre = (qp1-qp4)\t\t\t\t\t#Heat required by the mixture in kcal/kg\n",
      "wf = (w*qre)/q\t\t\t\t\t#Weight of oil in kg\n",
      "\n",
      "\t\t\t\t\t\n",
      "#Output\n",
      "print 'The weight of oil that must be injected is %3.6f kg'%(wf)\n"
     ],
     "language": "python",
     "metadata": {},
     "outputs": [
      {
       "output_type": "stream",
       "stream": "stdout",
       "text": [
        "The weight of oil that must be injected is 0.000164 kg\n"
       ]
      }
     ],
     "prompt_number": 2
    },
    {
     "cell_type": "heading",
     "level": 2,
     "metadata": {},
     "source": [
      "Example 14.2  Page no :  261"
     ]
    },
    {
     "cell_type": "code",
     "collapsed": false,
     "input": [
      "import math \n",
      "\t\t\t\t\t\n",
      "#Input data\n",
      "r = 14\t\t\t\t\t#Compression ratio\n",
      "p = 1.2\t\t\t\t\t#Induction pipe pressure in kg/cm**2\n",
      "bp = 0.65\t\t\t\t\t#Exhaust back pressure in kg/cm**2\n",
      "Tc = 87+273\t\t\t\t\t#Charge temperature in K\n",
      "Te = 850+273\t\t\t\t\t#Exhaust temperature in K\n",
      "T1 = 111+273\t\t\t\t\t#Temperature at the beginning of compression in K\n",
      "g = 1.2\t\t\t\t\t#Ratio of specific heats\n",
      "\n",
      "\t\t\t\t\t\n",
      "#Calculations\n",
      "Cw1 = ((bp*10**4)/Te)\t\t\t\t\t#specific heat in kJ/kg.K\n",
      "Cw2 = ((p*10**4*(r-1))/Tc)\t\t\t\t\t#specific heat in kJ/kg.K\n",
      "T3 = ((g*Te*Cw1+Cw2*Tc)/(Cw1*g+Cw2))\t\t\t\t\t#Temperature in K\n",
      "t3 = T3-273\t\t\t\t\t#Temperature in degree C\n",
      "rw = (Cw1/Cw2)\t\t\t\t\t#Ratio of specific heats\n",
      "\n",
      "\t\t\t\t\t\n",
      "#Output\n",
      "print 'The ratio of the mass residuals to fresh charge is %3.4f'%(rw)\n"
     ],
     "language": "python",
     "metadata": {},
     "outputs": [
      {
       "output_type": "stream",
       "stream": "stdout",
       "text": [
        "The ratio of the mass residuals to fresh charge is 0.0134\n"
       ]
      }
     ],
     "prompt_number": 3
    }
   ],
   "metadata": {}
  }
 ]
}