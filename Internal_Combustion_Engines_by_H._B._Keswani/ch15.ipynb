{
 "metadata": {
  "name": "",
  "signature": "sha256:f62e01247c5e7505c14dabc00585a7fb2179310320c1005e1a7d9854022a73b1"
 },
 "nbformat": 3,
 "nbformat_minor": 0,
 "worksheets": [
  {
   "cells": [
    {
     "cell_type": "heading",
     "level": 1,
     "metadata": {},
     "source": [
      "Chapter 15 : Fuel Injection"
     ]
    },
    {
     "cell_type": "heading",
     "level": 2,
     "metadata": {},
     "source": [
      "Example 15.1  Page no :  274"
     ]
    },
    {
     "cell_type": "code",
     "collapsed": false,
     "input": [
      "import math \n",
      "\t\t\t\t\t\n",
      "#Input data\n",
      "n = 6.\t\t\t\t\t\t#Number of cylinders\n",
      "p = 720.\t\t\t\t\t#Horse power in h.p\n",
      "N = 180.\t\t\t\t\t#Speed in r.p.m\n",
      "f = 250.\t\t\t\t\t#Fuel rate in gm per horse power hour\n",
      "\n",
      "\t\t\t\t\t\n",
      "#Calculations\n",
      "w = (((f/1000)*p)/((N/2)*60*n))*1000\t\t\t\t\t#Weight of fuel per cycle in gm/cycle\n",
      "\n",
      "\t\t\t\t\t#Outptut\n",
      "print 'The quantity of fuel to be injected per cylinder is %3.2f gm/cycle'%(w)\n"
     ],
     "language": "python",
     "metadata": {},
     "outputs": [
      {
       "output_type": "stream",
       "stream": "stdout",
       "text": [
        "The quantity of fuel to be injected per cylinder is 5.56 gm/cycle\n"
       ]
      }
     ],
     "prompt_number": 1
    },
    {
     "cell_type": "heading",
     "level": 2,
     "metadata": {},
     "source": [
      "Example 15.2  Page no :  278"
     ]
    },
    {
     "cell_type": "code",
     "collapsed": false,
     "input": [
      "import math \n",
      "\t\t\t\t\t\n",
      "#Input data\n",
      "n = 4\t\t\t\t\t#Number of cylinders\n",
      "fc = 0.215\t\t\t\t\t#Brake specific fuel consumption in kg/B.H.P hour\n",
      "BHP = 400\t\t\t\t\t#Brake horse power in B.H.P\n",
      "N = 250\t\t\t\t\t#Speed in r.p.m\n",
      "sg = 0.9\t\t\t\t\t#Specific gravity\n",
      "\n",
      "\t\t\t\t\t\n",
      "#Calculations\n",
      "Fc = (fc*BHP)\t\t\t\t\t#Fuel consumption per hour in kg/hr\n",
      "Fcy = (Fc/n)\t\t\t\t\t#Fuel consumption per cylinder in kg/hr\n",
      "Fcyc = ((Fcy/(60*(N/2)))/(sg*1000))*10**6\t\t\t\t\t#Fuel consumption per cycle in kg. In textbook it is given wrong as 0.0287 instead of 3.185\n",
      "\n",
      "\t\t\t\t\t\n",
      "#Output\n",
      "print 'The quantity of fuel to be injected per cycle per cylinder is %3.3f c.c'%(Fcyc)\n"
     ],
     "language": "python",
     "metadata": {},
     "outputs": [
      {
       "output_type": "stream",
       "stream": "stdout",
       "text": [
        "The quantity of fuel to be injected per cycle per cylinder is 3.185 c.c\n"
       ]
      }
     ],
     "prompt_number": 2
    },
    {
     "cell_type": "heading",
     "level": 2,
     "metadata": {},
     "source": [
      "Example 15.3  Page no :  279"
     ]
    },
    {
     "cell_type": "code",
     "collapsed": false,
     "input": [
      "import math \n",
      "\t\t\t\t\t\n",
      "#Input data\n",
      "n = 4.\t\t\t\t\t#Number of cylinders\n",
      "p = 450.\t\t\t\t\t#Brake Horse power in B.H.P\n",
      "N = 200.\t\t\t\t\t#Speed in r.p.m\n",
      "f = 0.2\t\t\t\t\t#Fuel rate in kg per horse power hour\n",
      "g = 0.9\t\t\t\t\t#Specific gravity of fuel\n",
      "\n",
      "\t\t\t\t\t\n",
      "#Output\n",
      "Fc = (p*f)\t\t\t\t\t#Fuel consumption per hour in kg/hr\n",
      "Fcy = (Fc/n)\t\t\t\t\t#Fuel consumption per cylinder in kg/hr\n",
      "Fcyc = (Fcy/(60*(N/2)))\t\t\t\t\t#Fuel consumption per cycle in kg\n",
      "q = (Fcyc/(g*1000))*10**6\t\t\t\t\t#Quantity of fuel injected per cylinder per cycle in c.c\n",
      "\n",
      "\t\t\t\t\t\n",
      "#Output\n",
      "print 'The quantity of fuel to be injected per cycle per cylinder is %3.3f c.c'%(q)\n"
     ],
     "language": "python",
     "metadata": {},
     "outputs": [
      {
       "output_type": "stream",
       "stream": "stdout",
       "text": [
        "The quantity of fuel to be injected per cycle per cylinder is 4.167 c.c\n"
       ]
      }
     ],
     "prompt_number": 3
    },
    {
     "cell_type": "heading",
     "level": 2,
     "metadata": {},
     "source": [
      "Example 15.4  Page no :  284"
     ]
    },
    {
     "cell_type": "code",
     "collapsed": false,
     "input": [
      "import math \n",
      "\t\t\t\t\t\n",
      "#Input data\n",
      "#Data from problem 1\n",
      "n = 6.\t\t\t\t\t#Number of cylinders\n",
      "p = 720.\t\t\t\t\t#Horse power in h.p\n",
      "N = 180.\t\t\t\t\t#Speed in r.p.m\n",
      "f = 250.\t\t\t\t\t#Fuel rate in gm per horse power hour\n",
      "\n",
      "Vo = 20.\t\t\t\t\t#Volume of oil in the suction chamber in c.c\n",
      "dp = 80.\t\t\t\t\t#Discharge pressure in kg/cm**2\n",
      "voi = 6.\t\t\t\t\t#Volume of oil in the injector in c.c\n",
      "g = 0.9\t\t\t\t\t#Specific gravity of oil\n",
      "b = 78.8*10**-6\t\t\t\t\t#Coefficient of compressibility in cm**2/kg when pressure is taken as atmospheric\n",
      "\n",
      "\t\t\t\t\t\n",
      "#Calculations\n",
      "w = (((f/1000)*p)/((N/2)*60*n))*1000\t\t\t\t\t#Weight of fuel per cycle in gm/cycle\n",
      "Va = (w/g)\t\t\t\t\t#Volume of air per cycle in c.c\n",
      "V1 = (Vo+Va)\t\t\t\t\t#Initial volume in c.c\n",
      "dV12 = (b*V1*dp)\t\t\t\t\t#Change in volume in c.c\n",
      "\t\t\t\t\t#Assuming in accordance with average practice that s = 2d, nv = 0.94 and full load in this pump type x = 0.5\n",
      "d = ((voi+dV12)/((3.14/4)*2*0.94*0.5))**(1./3)\t\t\t\t\t#Diameter in cm\n",
      "l = (2*d)\t\t\t\t\t#Stroke in cm\n",
      "\n",
      "\t\t\t\t\t\n",
      "#Output\n",
      "print 'The diameter of the pump is %3.2f cm  \\\n",
      "\\nThe total stroke is %3.2f cm'%(d,l)\n"
     ],
     "language": "python",
     "metadata": {},
     "outputs": [
      {
       "output_type": "stream",
       "stream": "stdout",
       "text": [
        "The diameter of the pump is 2.03 cm  \n",
        "The total stroke is 4.06 cm\n"
       ]
      }
     ],
     "prompt_number": 4
    },
    {
     "cell_type": "heading",
     "level": 2,
     "metadata": {},
     "source": [
      "Example 15.5  Page no :  287"
     ]
    },
    {
     "cell_type": "code",
     "collapsed": false,
     "input": [
      "import math \n",
      "\t\t\t\t\t\n",
      "#Input data\n",
      "p = 110.\t\t\t\t\t#Oil pressure in kg/cm**2\n",
      "pc = 25.\t\t\t\t\t#Pressure in the combustion chamber in kg/cm**2\n",
      "q = 0.805\t\t\t\t\t#Velocity coefficient. In textbook it is given wrong as 9.805\n",
      "d = 0.906\t\t\t\t\t#Specific gravity\n",
      "\n",
      "\t\t\t\t\t\n",
      "#Calculations\n",
      "v = (37.1*q*math.sqrt((p-pc)/d))\t\t\t\t\t#Velocity in m/s\n",
      "\n",
      "\t\t\t\t\t\n",
      "#Output\n",
      "print 'The velocity of injection is %3.0f m/s'%(v)\n"
     ],
     "language": "python",
     "metadata": {},
     "outputs": [
      {
       "output_type": "stream",
       "stream": "stdout",
       "text": [
        "The velocity of injection is 289 m/s\n"
       ]
      }
     ],
     "prompt_number": 5
    },
    {
     "cell_type": "heading",
     "level": 2,
     "metadata": {},
     "source": [
      "Example 15.6  Page no :  290"
     ]
    },
    {
     "cell_type": "code",
     "collapsed": false,
     "input": [
      "import math \n",
      "\t\t\t\t\t\n",
      "#Input data\n",
      "Vf = 6.2\t\t\t\t\t#Volume of fuel in c.c\n",
      "l = 65\t\t\t\t\t#Length of fuel line in cm\n",
      "di = 2.5\t\t\t\t\t#Inner diameter in mm\n",
      "V = 2.75\t\t\t\t\t#Volume of fuel in the injector valve in c.c\n",
      "Vd = 0.15\t\t\t\t\t#Volume of fuel to be delivered in c.c. In textbook it is given wrong as 0.047\n",
      "p = 140\t\t\t\t\t#Pressure in kg/cm**2\n",
      "pp = 1\t\t\t\t\t#Pump pressure in kg/cm**2\n",
      "patm = 1.03\t\t\t\t\t#Atmospheric pressure in kg/cm**2\n",
      "b = 78.8*10**-6\t\t\t\t\t#Coefficient of compressibility in cm**2/kg when pressure is taken as atmospheric\n",
      "\n",
      "\t\t\t\t\t\n",
      "#Calculations\n",
      "V1 = (Vf+(3.14/4)*(di/10)**2*l+V)\t\t\t\t\t#Initial volume in c.c\n",
      "dV = ((b*V1*(p-pp)/patm))\t\t\t\t\t#Change in volume in c.c\n",
      "d = (dV+Vd)\t\t\t\t\t#Total print lacement of the plunger in c.c\n",
      "\n",
      "\t\t\t\t\t\n",
      "#Output\n",
      "print 'The total print lacement of the plunger is %3.3f c.c'%(d)\n"
     ],
     "language": "python",
     "metadata": {},
     "outputs": [
      {
       "output_type": "stream",
       "stream": "stdout",
       "text": [
        "The total print lacement of the plunger is 0.279 c.c\n"
       ]
      }
     ],
     "prompt_number": 6
    },
    {
     "cell_type": "heading",
     "level": 2,
     "metadata": {},
     "source": [
      "Example 15.7  Page no :  292"
     ]
    },
    {
     "cell_type": "code",
     "collapsed": false,
     "input": [
      "import math \n",
      "\t\t\t\t\t\n",
      "#Input data\n",
      "Vf = 6.75\t\t\t\t\t#Volume of fuel in c.c\n",
      "l = 65\t\t\t\t\t#Length of fuel line in cm\n",
      "di = 2.5\t\t\t\t\t#Inner diameter in mm\n",
      "V = 2.45\t\t\t\t\t#Volume of fuel in the injector valve in c.c\n",
      "Vd = 0.15\t\t\t\t\t#Volume of fuel to be delivered in c.c. \n",
      "p = 150\t\t\t\t\t#Pressure in kg/cm**2\n",
      "pp = 1\t\t\t\t\t#Pump pressure in kg/cm**2\n",
      "patm = 1.03\t\t\t\t\t#Atmospheric pressure in kg/cm**2\n",
      "b = 78.8*10**-6\t\t\t\t\t#Coefficient of compressibility in cm**2/kg when pressure is taken as atmospheric\n",
      "\n",
      "\t\t\t\t\t\n",
      "#Calculations\n",
      "V1 = (Vf+(3.14/4)*(di/10)**2*l+V)\t\t\t\t\t#Initial volume in c.c\n",
      "dV = ((b*V1*(p-pp)/patm))\t\t\t\t\t#Change in volume in c.c\n",
      "d = (dV+Vd)\t\t\t\t\t#Total print lacement of the plunger in c.c\n",
      "\n",
      "\t\t\t\t\t\n",
      "#Output\n",
      "print 'The total print lacement of the plunger is %3.3f c.c'%(d)\n"
     ],
     "language": "python",
     "metadata": {},
     "outputs": [
      {
       "output_type": "stream",
       "stream": "stdout",
       "text": [
        "The total print lacement of the plunger is 0.291 c.c\n"
       ]
      }
     ],
     "prompt_number": 7
    },
    {
     "cell_type": "heading",
     "level": 2,
     "metadata": {},
     "source": [
      "Example 15.8  Page no :  295"
     ]
    },
    {
     "cell_type": "code",
     "collapsed": false,
     "input": [
      "import math \n",
      "\t\t\t\t\t\n",
      "#Input data\n",
      "Vf = 6.75\t\t\t\t\t#Volume of fuel in c.c\n",
      "l = 65\t\t\t\t\t#Length of fuel line in cm\n",
      "di = 2.5\t\t\t\t\t#Inner diameter in mm\n",
      "V = 2.45\t\t\t\t\t#Volume of fuel in the injector valve in c.c\n",
      "Vd = 0.15\t\t\t\t\t#Volume of fuel to be delivered in c.c. \n",
      "p = 150\t\t\t\t\t#Pressure in kg/cm**2\n",
      "pp = 1\t\t\t\t\t#Pump pressure in kg/cm**2\n",
      "patm = 1.03\t\t\t\t\t#Atmospheric pressure in kg/cm**2\n",
      "b = 78.8*10**-6\t\t\t\t\t#Coefficient of compressibility in cm**2/kg when pressure is taken as atmospheric\n",
      "dp = 0.75\t\t\t\t\t#Diameter of the plunger in cm\n",
      "\n",
      "\t\t\t\t\t\n",
      "#Calculations\n",
      "V1 = (Vf+(3.14/4)*(di/10)**2*l+V)\t\t\t\t\t#Initial volume in c.c\n",
      "dV = ((b*V1*(p-pp)/patm))\t\t\t\t\t#Change in volume in c.c\n",
      "d = (dV+Vd)\t\t\t\t\t#Total print lacement of the plunger in c.c\n",
      "s = ((4/3.14)*(d/dp**2))*10\t\t\t\t\t#Stroke in mm\n",
      "\n",
      "\t\t\t\t\t\n",
      "#Output\n",
      "print 'The effective plunger stroke is %3.1f mm'%(s)\n"
     ],
     "language": "python",
     "metadata": {},
     "outputs": [
      {
       "output_type": "stream",
       "stream": "stdout",
       "text": [
        "The effective plunger stroke is 6.6 mm\n"
       ]
      }
     ],
     "prompt_number": 8
    },
    {
     "cell_type": "heading",
     "level": 2,
     "metadata": {},
     "source": [
      "Example 15.9  Page no :  298"
     ]
    },
    {
     "cell_type": "code",
     "collapsed": false,
     "input": [
      "import math \n",
      "\t\t\t\t\t\n",
      "#Input data\n",
      "n = 6.\t\t\t\t\t#Number of cylinders\n",
      "p = 300.\t\t\t\t\t#Horse power in H.P\n",
      "N = 1200.\t\t\t\t\t#Speed in r.p.m\n",
      "f = 0.2\t\t\t\t\t#Fuel rate in kg per B.H.P hour\n",
      "ip = 200.\t\t\t\t\t#Injection pressure in kg/cm**2\n",
      "cp = 40.\t\t\t\t\t#Pressure in the combustion chamber in kg/cm**2\n",
      "pic = 33.\t\t\t\t\t#Period of injection of the crank angle in degrees\n",
      "g = 0.83\t\t\t\t\t#Specific gravity of fuel. In textbook, it is given wrong as 0.89\n",
      "Cd = 0.9\t\t\t\t\t#Coefficient of discharge \n",
      "\n",
      "\t\t\t\t\t\n",
      "#Output\n",
      "Fc = (p*f)\t\t\t\t\t#Fuel consumption per hour in kg/hr\n",
      "Fcy = (Fc/n)\t\t\t\t\t#Fuel consumption per cylinder in kg/hr\n",
      "Fcyc = (Fcy/(60*(N/2)))\t\t\t\t\t#Fuel consumption per cycle in kg\n",
      "q = (Fcyc/(g*1000))*10**6\t\t\t\t\t#Quantity of fuel injected per cylinder per cycle in c.c\n",
      "I = ((pic/360.)*(1/N)*60)\t\t\t\t\t#Injection period in sec\n",
      "df = (g/1000)\t\t\t\t\t#Density of fuel in kg/m**3\n",
      "v = math.sqrt(2*981*((ip-cp)/df))\t\t\t\t\t#Velocity of fuel through orifice in m/s\n",
      "A = (q/(Cd*v*I))\t\t\t\t\t#Area of orifice in cm**2\n",
      "d = math.sqrt(A/(3.14/4))*10\t\t\t\t\t#Diameter in mm\n",
      "\n",
      "\t\t\t\t\t\n",
      "#Output\n",
      "print 'The diameter of the math.single orifice injector is %3.2f mm'%(d)\n"
     ],
     "language": "python",
     "metadata": {},
     "outputs": [
      {
       "output_type": "stream",
       "stream": "stdout",
       "text": [
        "The diameter of the math.single orifice injector is 0.73 mm\n"
       ]
      }
     ],
     "prompt_number": 10
    },
    {
     "cell_type": "heading",
     "level": 2,
     "metadata": {},
     "source": [
      "Example 15.10  Page no :  302"
     ]
    },
    {
     "cell_type": "code",
     "collapsed": false,
     "input": [
      "import math \n",
      "\t\t\t\t\t\n",
      "#Input data\n",
      "n = 6\t\t\t\t\t#Number of cylinders\n",
      "d = 11.5\t\t\t\t\t#Bore in cm\n",
      "l = 14\t\t\t\t\t#Stroke in cm\n",
      "af = 16\t\t\t\t\t#Air fuel ratio\n",
      "pa = 1.03\t\t\t\t\t#Pressure of air intake in kg/cm**2\n",
      "Ta = 24+273\t\t\t\t\t#Temperature of air intake in K\n",
      "nv = 76.5\t\t\t\t\t#Volumetric efficiency in percent\n",
      "R = 29.27\t\t\t\t\t#Characteristic gas constant in kg.m/kg.K\n",
      "N = 1500\t\t\t\t\t#Speed in r.p.m\n",
      "ip = 125\t\t\t\t\t#Injection pressure in kg/cm**2\n",
      "cp = 40\t\t\t\t\t#Compression pressure in kg/cm**2\n",
      "q = 18.5\t\t\t\t\t#Fuel injection occupies 18.5 degrees of crenk travel\n",
      "fsw = 760\t\t\t\t\t#Fuel specific weight in kg/m**2\n",
      "dc = 0.94\t\t\t\t\t#Orifice discharge coefficient\n",
      "\n",
      "\t\t\t\t\t\n",
      "#Calculations\n",
      "Vs = ((3.14/4)*d**2*l)\t\t\t\t\t#Stroke volume in c.c\n",
      "Va = (Vs*(nv/100))\t\t\t\t\t#Volume of air supplied in c.c\n",
      "wa = ((pa*10**4*Va*10**-6)/(R*Ta))\t\t\t\t\t#Weight of air supplied per cylinder per cycle in kg\n",
      "wf = (wa/af)\t\t\t\t\t#Weight of fuel injected per cylinder per cycle in kg\n",
      "I = ((60*q)/(N*360))\t\t\t\t\t#Injection time per cycle in sec\n",
      "F = (wf/I)\t\t\t\t\t#Fuel injected per cylinder per sec in kg/sec\n",
      "Af = (F/(dc*math.sqrt(2*9.81*fsw*(ip-cp)*10**4)))\t\t\t\t\t#Area of orifice in sq.m\n",
      "df = math.sqrt(Af/(3.14/4))*1000\t\t\t\t\t#Diameter of orifice in mm\n",
      "\n",
      "\t\t\t\t\t\n",
      "#Output\n",
      "print 'Maximum amount of fuel injected per cylinder per sec is %3.2f kg/sec  \\\n",
      "\\nDiameter of orifice is %3.3f mm'%(F,df)\n"
     ],
     "language": "python",
     "metadata": {},
     "outputs": [
      {
       "output_type": "stream",
       "stream": "stdout",
       "text": [
        "Maximum amount of fuel injected per cylinder per sec is 0.04 kg/sec  \n",
        "Diameter of orifice is 0.694 mm\n"
       ]
      }
     ],
     "prompt_number": 11
    }
   ],
   "metadata": {}
  }
 ]
}