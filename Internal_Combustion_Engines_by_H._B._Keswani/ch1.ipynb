{
 "metadata": {
  "name": "",
  "signature": "sha256:66c08bada2ebadfa7866fc7150bec839eef52fbd4cb045f832cc9b9f75b7501a"
 },
 "nbformat": 3,
 "nbformat_minor": 0,
 "worksheets": [
  {
   "cells": [
    {
     "cell_type": "heading",
     "level": 1,
     "metadata": {},
     "source": [
      "Chapter 1 : Introduction"
     ]
    },
    {
     "cell_type": "heading",
     "level": 2,
     "metadata": {},
     "source": [
      "Example 1.1  Page no :  7"
     ]
    },
    {
     "cell_type": "code",
     "collapsed": false,
     "input": [
      "\t\t\t\t\t\n",
      "#Input data\n",
      "BHP = 51.\t\t\t\t\t#Brake horse power in h.p\n",
      "N = 1000.\t\t\t\t\t#Speed in r.p.m\n",
      "FHP = 17.\t\t\t\t\t#Friction horse power in h.p\n",
      "\n",
      "\t\t\t\t\t\n",
      "#Calculations\n",
      "IHP = (BHP+FHP)\t\t\t\t\t#Indicated Horse power in h.p\n",
      "mn = (BHP/IHP)*100\t\t\t\t\t#Mechanical efficiency in percent\n",
      "\n",
      "\t\t\t\t\t\n",
      "#Output\n",
      "print 'Mechanical efficiency of the engine is %i percent'%(mn)\n"
     ],
     "language": "python",
     "metadata": {},
     "outputs": [
      {
       "output_type": "stream",
       "stream": "stdout",
       "text": [
        "Mechanical efficiency of the engine is 75 percent\n"
       ]
      }
     ],
     "prompt_number": 1
    },
    {
     "cell_type": "heading",
     "level": 2,
     "metadata": {},
     "source": [
      "Example 1.2  Page no :  10"
     ]
    },
    {
     "cell_type": "code",
     "collapsed": false,
     "input": [
      "\n",
      "#Data taken from Ex.No.1\n",
      "BHP = 51.\t\t\t\t\t#Brake horse power in h.p\n",
      "N = 1000.\t\t\t\t\t#Speed in r.p.m\n",
      "FHP = 17.\t\t\t\t\t#Friction horse power in h.p\n",
      "\t\t\t\t\t\n",
      "#Input data\n",
      "O1 = BHP/2\t\t\t\t\t#Half of b.h.p output in h.p\n",
      "O2 = 10\t\t\t\t\t#Brake horse power in h.p\n",
      "\n",
      "\t\t\t\t\t\n",
      "#Calculations\n",
      "#Case(i)\n",
      "IHP1 = (O1+FHP)\t\t\t\t\t#Indicated Horse power in h.p\n",
      "mn1 = (O1/IHP1)*100\t\t\t\t\t#Mechanical efficiency in percent\n",
      "\n",
      "#Case(ii)\n",
      "IHP2 = (O2+FHP)\t\t\t\t\t#Indicated Horse power in h.p\n",
      "mn2 = (O2/IHP2)*100\t\t\t\t\t#Mechanical efficiency in percent\n",
      "\n",
      "\n",
      "\t\t\t\t\t\n",
      "#Output\n",
      "print 'Mechanical efficiency of the engine when it delivers  \\\n",
      "\\na) Half the b.h.p output is %3.0f percent  \\\n",
      "\\nb) 10 b.h.p is %3.0f percent'%(mn1,mn2)\n"
     ],
     "language": "python",
     "metadata": {},
     "outputs": [
      {
       "output_type": "stream",
       "stream": "stdout",
       "text": [
        "Mechanical efficiency of the engine when it delivers  \n",
        "a) Half the b.h.p output is  60 percent  \n",
        "b) 10 b.h.p is  37 percent\n"
       ]
      }
     ],
     "prompt_number": 2
    },
    {
     "cell_type": "heading",
     "level": 2,
     "metadata": {},
     "source": [
      "Example 1.3  Page no :  12"
     ]
    },
    {
     "cell_type": "code",
     "collapsed": false,
     "input": [
      "import math \n",
      "\t\t\t\t\t\n",
      "#Input data\n",
      "Fc = 220.\t\t\t\t\t#Fuel consumption in gm/(b.h.p*hr)\n",
      "CV = 10600.\t\t\t\t\t#Calorific value in kcal/kg\n",
      "\n",
      "\t\t\t\t\t\n",
      "#Calculations\n",
      "hf = (Fc/1000)*CV\t\t\t\t\t#Heat supplied in kcal/hr\n",
      "O = 632.\t\t\t\t\t\n",
      "#Output in terms of kcal/hr\n",
      "bn = (O/hf)*100\t\t\t\t\t#Brake thermal efficiency in percent\n",
      "\n",
      "\t\t\t\t\t\n",
      "#Output\n",
      "print 'Brake thermal efficiency is %3.1f percent'%(bn)\n"
     ],
     "language": "python",
     "metadata": {},
     "outputs": [
      {
       "output_type": "stream",
       "stream": "stdout",
       "text": [
        "Brake thermal efficiency is 27.1 percent\n"
       ]
      }
     ],
     "prompt_number": 3
    },
    {
     "cell_type": "heading",
     "level": 2,
     "metadata": {},
     "source": [
      "Example 1.4  Page no :  12"
     ]
    },
    {
     "cell_type": "code",
     "collapsed": false,
     "input": [
      "import math \n",
      "\t\t\t\t\t\n",
      "#Input data\n",
      "IHP = 45.\t\t\t\t\t#Indicated horse power in h.p\n",
      "Fc = 13.\t\t\t\t\t#Fuel consumption in litres/hr\n",
      "g = 0.8\t\t\t\t\t#Specific gravity of oil\n",
      "nm = 80.\t\t\t\t\t#Mechanical efficiency in percent\n",
      "CV = 10000.\t\t\t\t\t#Calorific value of fuel in kcal/kg\n",
      "\n",
      "\t\t\t\t\t\n",
      "#Calculations\n",
      "BHP = (IHP*nm)/100\t\t\t\t\t#Brake horse power in h.p\n",
      "hi = (Fc*g*CV)\t\t\t\t\t#Heat supplied in kcal/hour\n",
      "In = ((IHP*4500*60)/(427*hi))*100\t\t\t\t\t#Indicated thermal efficiency in percent\n",
      "Bn = (In*(nm/100))\t\t\t\t\t#Brake thermal efficiency in percent\n",
      "\n",
      "\t\t\t\t\t\n",
      "#Output\n",
      "print 'Indicated thermal efficiency is %3.2f percent  \\\n",
      "\\nBrake thermal efficiency is %3.2f percent'%(In,Bn)\n"
     ],
     "language": "python",
     "metadata": {},
     "outputs": [
      {
       "output_type": "stream",
       "stream": "stdout",
       "text": [
        "Indicated thermal efficiency is 27.36 percent  \n",
        "Brake thermal efficiency is 21.89 percent\n"
       ]
      }
     ],
     "prompt_number": 4
    },
    {
     "cell_type": "heading",
     "level": 2,
     "metadata": {},
     "source": [
      "Example 1.5  Page no :  13"
     ]
    },
    {
     "cell_type": "code",
     "collapsed": false,
     "input": [
      "import math \n",
      "\t\t\t\t\t\n",
      "#Input data\n",
      "BHP = 15.\t\t\t\t\t#Brake horse power in h.p\n",
      "In = 28.\t\t\t\t\t#Indicated thermal efficiency in percent\n",
      "mn = 75.\t\t\t\t\t#Mechanical efficiency in percent\n",
      "CV = 10000.\t\t\t\t\t#Calorific value of fuel in kcal/kg\n",
      "\n",
      "\t\t\t\t\t\n",
      "#Calculations\n",
      "Bn = ((In/100)*(mn/100))*100\t\t\t\t\t#Brake thermal efficiency in percent\n",
      "I = (BHP/(Bn/100))*((4500.*60)/427)\t\t\t\t\t#Input in kcal/hr\n",
      "Fc = (I/CV)\t\t\t\t\t#Fuel consumption in kg/hr\n",
      "\n",
      "\t\t\t\t\t\n",
      "#Output\n",
      "print 'Fuel consumption of the engine is %3.2f kg/hr'%(Fc)\n"
     ],
     "language": "python",
     "metadata": {},
     "outputs": [
      {
       "output_type": "stream",
       "stream": "stdout",
       "text": [
        "Fuel consumption of the engine is 4.52 kg/hr\n"
       ]
      }
     ],
     "prompt_number": 5
    }
   ],
   "metadata": {}
  }
 ]
}