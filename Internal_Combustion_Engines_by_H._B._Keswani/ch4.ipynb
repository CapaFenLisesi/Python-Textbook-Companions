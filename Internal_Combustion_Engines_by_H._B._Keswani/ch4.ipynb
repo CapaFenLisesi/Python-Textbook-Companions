{
 "metadata": {
  "name": "",
  "signature": "sha256:2908f0a1b2b0285d41bf32a20f608ca01130c6319cf5323377325757350f1f8a"
 },
 "nbformat": 3,
 "nbformat_minor": 0,
 "worksheets": [
  {
   "cells": [
    {
     "cell_type": "heading",
     "level": 1,
     "metadata": {},
     "source": [
      "Chapter 4 : Fuel Air Cycles And Real Cycles"
     ]
    },
    {
     "cell_type": "heading",
     "level": 2,
     "metadata": {},
     "source": [
      "Example 4.1  Page no :  100"
     ]
    },
    {
     "cell_type": "code",
     "collapsed": false,
     "input": [
      "import math \n",
      "\t\t\t\t\t\n",
      "#Input data\n",
      "d = 20.\t\t\t\t\t#Bore in cm\n",
      "l = 38.\t\t\t\t\t#Stroke in cm\n",
      "Vc = 900.\t\t\t\t\t#Clearance volume in c.c\n",
      "p1 = 1.\t\t\t\t\t#Pressure at the start of compression stroke in kg/cm**2\n",
      "T1 = 90.+273\t\t\t\t\t#Temperature at the start of compression stroke in K\n",
      "x = 0.75\t\t\t\t\t#Piston travelled 0.75 of the compression stroke\n",
      "n = 1.32\t\t\t\t\t#Compression curve index\n",
      "wa = 0.0125\t\t\t\t\t#Weight of air in kg\n",
      "\n",
      "\t\t\t\t\t\n",
      "#Calculations\n",
      "Vs = (3.14/4)*d**2*l\t\t\t\t\t#Swept volume in c.c\n",
      "V1 = (Vs+Vc)\t\t\t\t\t#Volume in c.c\n",
      "V2 = (1-x)*Vs+Vc\t\t\t\t\t#Volume in c.c\n",
      "p2 = p1*(V1/V2)**n\t\t\t\t\t#Pressure in kg/cm**2\n",
      "T2 = (T1*(p2/p1)*(V2/V1))\t\t\t\t\t#Temperature in K\n",
      "W = ((p1*V1-p2*V2)/(n-1))*10**-2\t\t\t\t\t#Workdone in kg.m\n",
      "dI = wa*0.17*(T2-T1)\t\t\t\t\t#Change in internal energy in kcal\n",
      "q = (dI+(W/427))\t\t\t\t\t#Heat in kcal\n",
      "\n",
      "\t\t\t\t\t\n",
      "#Output\n",
      "print 'When the cylinder has travelled %3.2f of the compression stroke,  \\\n",
      "\\nThe volume is %3.0f c.c  \\\n",
      "\\nThe pressure is %3.2f kg/cm**2  \\\n",
      "\\nTemperature is %3.0f K  \\\n",
      "\\nThe workdone on the gas is %3.2f kg.m  \\\n",
      "\\nChange in internal energy between the two points is %3.3f kcal'%(x,V2,p2,T2,W,dI)\n"
     ],
     "language": "python",
     "metadata": {},
     "outputs": [
      {
       "output_type": "stream",
       "stream": "stdout",
       "text": [
        "When the cylinder has travelled 0.75 of the compression stroke,  \n",
        "The volume is 3883 c.c  \n",
        "The pressure is 4.84 kg/cm**2  \n",
        "Temperature is 532 K  \n",
        "The workdone on the gas is -186.85 kg.m  \n",
        "Change in internal energy between the two points is 0.359 kcal\n"
       ]
      }
     ],
     "prompt_number": 1
    }
   ],
   "metadata": {}
  }
 ]
}