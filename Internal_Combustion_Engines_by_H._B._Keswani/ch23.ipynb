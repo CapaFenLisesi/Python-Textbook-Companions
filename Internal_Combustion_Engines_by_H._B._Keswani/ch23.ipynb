{
 "metadata": {
  "name": "",
  "signature": "sha256:0f0f5140414de1792e9d5844fd5e51c3893bcfd2190a5a84bfb8220b6aa3a6fc"
 },
 "nbformat": 3,
 "nbformat_minor": 0,
 "worksheets": [
  {
   "cells": [
    {
     "cell_type": "heading",
     "level": 1,
     "metadata": {},
     "source": [
      "Chapter 23 : Testing of Engines"
     ]
    },
    {
     "cell_type": "heading",
     "level": 2,
     "metadata": {},
     "source": [
      "Example 23.1  Page no :  340"
     ]
    },
    {
     "cell_type": "code",
     "collapsed": false,
     "input": [
      "import math \n",
      "\t\t\t\t\t\n",
      "#Input data\n",
      "n = 4.\t\t\t\t\t#Four cylinder engine\n",
      "N = 1200.\t\t\t\t\t#Speed in r.p.m\n",
      "BHP1 = 26.3\t\t\t\t\t#Brake horse power in B.H.P\n",
      "T = 11.3\t\t\t\t\t#Average torque in kg\n",
      "CV = 10000.\t\t\t\t\t#Calorific value of the fuel in kcal/kg\n",
      "m = 270.\t\t\t\t\t#Flow rate in gm of petrol per B.H.P hour\n",
      "\n",
      "\t\t\t\t\t\n",
      "#Calculations\n",
      "BHP2 = (T*2*3.14*N)/4500\t\t\t\t\t#Average B.H.P on 3 cylinders \n",
      "IHP = BHP1-BHP2\t\t\t\t\t#Average I.H.P of one cylinder\n",
      "TIHP = (n*IHP)\t\t\t\t\t#Total I.H.P\n",
      "p = ((m/1000)*BHP1)/TIHP\t\t\t\t\t#Petrol used in kg/I.H.P hr\n",
      "nth = ((4500*60)/(427*p*CV))*100\t\t\t\t\t#Indicated Thermal efficiency in percent \n",
      "\n",
      "\t\t\t\t\t\n",
      "#Output\n",
      "print 'Thermal efficiency is %3.1f percent'%(nth)\n"
     ],
     "language": "python",
     "metadata": {},
     "outputs": [
      {
       "output_type": "stream",
       "stream": "stdout",
       "text": [
        "Thermal efficiency is 26.3 percent\n"
       ]
      }
     ],
     "prompt_number": 1
    },
    {
     "cell_type": "heading",
     "level": 2,
     "metadata": {},
     "source": [
      "Example 23.2  Page no :  344"
     ]
    },
    {
     "cell_type": "code",
     "collapsed": false,
     "input": [
      "import math \n",
      "n = 4\t\t\t\t\t#Four cylinder engine\n",
      "d = 0.1\t\t\t\t\t#Diameter of piston in m\n",
      "l = 0.15\t\t\t\t\t#Stroke in m\n",
      "RPM = 1600\t\t\t\t\t#Speed in r.p.m\n",
      "ap = (5.76*10**-4)\t\t\t\t\t#Area of positive loop of indicator diagram in sq.m\n",
      "an = (0.26*10**-4)\t\t\t\t\t#Area of negative loop of indicator diagram in sq.m\n",
      "L = 0.055\t\t\t\t\t#Length of the indicator diagram in m\n",
      "k = (3.5/10**-6)\t\t\t\t\t#Spring constant in kg/m**2 per m\n",
      "\n",
      "\t\t\t\t\t\n",
      "#Calculations\n",
      "NA = (ap-an)\t\t\t\t\t#Net area of the indicator diagram in sq.m\n",
      "h = (NA/L)\t\t\t\t\t#Average height of diagram in m\n",
      "Pm = (h*k)\t\t\t\t\t#Mean effective pressure in kg/m**2\n",
      "IHP = (Pm*l*(3.14/4)*d**2*RPM*n)/4500\t\t\t\t\t#Indicated Horse Power\n",
      "\n",
      "\t\t\t\t\t\n",
      "#Output\n",
      "print 'Indicated horse power of a four cylinder two stroke petrol engine is %3.1f'%(IHP)\n"
     ],
     "language": "python",
     "metadata": {},
     "outputs": [
      {
       "output_type": "stream",
       "stream": "stdout",
       "text": [
        "Indicated horse power of a four cylinder two stroke petrol engine is 58.6\n"
       ]
      }
     ],
     "prompt_number": 2
    },
    {
     "cell_type": "heading",
     "level": 2,
     "metadata": {},
     "source": [
      "Example 23.3  Page no :  348"
     ]
    },
    {
     "cell_type": "code",
     "collapsed": false,
     "input": [
      "import math \n",
      "\t\t\t\t\t\n",
      "#Input data\n",
      "n = 6\t\t\t\t\t#Number of cylinders\n",
      "d = 0.089\t\t\t\t\t#Bore in m\n",
      "l = 0.1016\t\t\t\t\t#Stroke in m\n",
      "vc = 3.183\t\t\t\t\t#Compression ratio\n",
      "rn = 55\t\t\t\t\t#Relative efficiency in percent\n",
      "m = 0.218\t\t\t\t\t#Petrol consumption in kg/hp.hr\n",
      "Pm = (8.4/10**-4)\t\t\t\t\t#Indicated mean effective pressure in kg/m**2\n",
      "N = 2500\t\t\t\t\t#Speed in r.p.m\n",
      "\n",
      "\t\t\t\t\t\n",
      "#Calculations\n",
      "an = (1-(1/(vc-1)))*100\t\t\t\t\t#Air standard efficiency in percent\n",
      "nth = (rn*an)/100\t\t\t\t\t#Thermal efficiency in percent\n",
      "CV = ((4500*60)/(m*(nth/100)*427))\t\t\t\t\t#Calorific value in kcal/kg\n",
      "IHP = ((Pm*(3.14/4)*d**2*l*N*n)/(4500*2))\t\t\t\t\t#Indicated horse power\n",
      "p = (m*IHP)\t\t\t\t\t#Petrol consumption in kg/hour\n",
      "\n",
      "\t\t\t\t\t\n",
      "#Output\n",
      "print '1) The calorific value of petrol is %i kcal/kg  \\\n",
      "\\n2) Corresponding petrol consumption is %3.1f kg/hour'%(CV,p)\n"
     ],
     "language": "python",
     "metadata": {},
     "outputs": [
      {
       "output_type": "stream",
       "stream": "stdout",
       "text": [
        "1) The calorific value of petrol is 9731 kcal/kg  \n",
        "2) Corresponding petrol consumption is 19.3 kg/hour\n"
       ]
      }
     ],
     "prompt_number": 3
    },
    {
     "cell_type": "heading",
     "level": 2,
     "metadata": {},
     "source": [
      "Example 23.4  Page no :  349"
     ]
    },
    {
     "cell_type": "code",
     "collapsed": false,
     "input": [
      "import math \n",
      "\t\t\t\t\t\n",
      "#Input data\n",
      "n = 4.\t\t\t\t\t#Number of cylinders\n",
      "d = 0.2\t\t\t\t\t#Bore in m\n",
      "l = 0.3\t\t\t\t\t#Stroke in m\n",
      "N = 300.\t\t\t\t\t#Speed in r.p.m\n",
      "af = 5.\t\t\t\t\t#Air to fuel ratio by volume. In textbook it is given as 4 which is wrong\n",
      "nv = 78.\t\t\t\t\t#Volumetric efficiency in percent\n",
      "CV = 2200.\t\t\t\t\t#Calorific value in kcal/cu.m at N.T.P\n",
      "bth = 23.\t\t\t\t\t#Brake thermal efficiency in percent\n",
      "\n",
      "\t\t\t\t\t\n",
      "#Calculations\n",
      "Vs = ((3.14/4)*d**2*l)\t\t\t\t\t#Swept volume in cu.m\n",
      "c = ((nv/100)*Vs)\t\t\t\t\t#Total charge per stroke in cu.m\n",
      "Vg = ((c/af)*N)\t\t\t\t\t#Volume of gas used per min in cu.m at N.T.P\n",
      "q = (CV*Vg)\t\t\t\t\t#Heat supplied in kcal/min\n",
      "BHP = ((bth/100)*q)/(4500./427)\t\t\t\t\t#Brake horse power\n",
      "\n",
      "\t\t\t\t\t\n",
      "#Output\n",
      "print 'The volume of gas used per min is %3.3f cu.m at N.T.P  \\\n",
      "\\nB.H.P of engine is %3.1f'%(Vg,BHP)\n"
     ],
     "language": "python",
     "metadata": {},
     "outputs": [
      {
       "output_type": "stream",
       "stream": "stdout",
       "text": [
        "The volume of gas used per min is 0.441 cu.m at N.T.P  \n",
        "B.H.P of engine is 21.2\n"
       ]
      }
     ],
     "prompt_number": 5
    },
    {
     "cell_type": "heading",
     "level": 2,
     "metadata": {},
     "source": [
      "Example 23.5  Page no :  353"
     ]
    },
    {
     "cell_type": "code",
     "collapsed": false,
     "input": [
      "import math \n",
      "\t\t\t\t\t\n",
      "#Input data\n",
      "d = 20.\t\t\t\t\t#Bore in cm\n",
      "l = 37.5\t\t\t\t\t#Stroke in cm\n",
      "r = 6.\t\t\t\t\t#Compression ratio\n",
      "IPm = 5.\t\t\t\t\t#Indicated Mean effective pressure in kg/cm**2\n",
      "ag = 6.\t\t\t\t\t#Air to gas ratio\n",
      "CV = 3070.\t\t\t\t\t#Calorific value of gas in kcal/cu.m\n",
      "T = 75.+273\t\t\t\t\t#Temperature in K\n",
      "p = 0.975\t\t\t\t\t#Pressure in kg/cm**2\n",
      "RPM = 240.\t\t\t\t\t#Speed in r.p.m\n",
      "g = 1.4\t\t\t\t\t#Ratio of specific heats\n",
      "\n",
      "\t\t\t\t\t\n",
      "#Calculations\n",
      "Vs = (3.14/4)*d**2*l\t\t\t\t\t#Stroke Volume in cu.m\n",
      "Vg = (1/(r+1))*Vs\t\t\t\t\t#Volume of gas in cylinder in cu.m per cycle\n",
      "x = (Vg*(p/1.03)*(273/T))\t\t\t\t\t#Volume at 'Vg' cu.m at 'p' kg/cm**2 and 'T' K are equivalent in cu.m\n",
      "q = (CV*x)/10**6\t\t\t\t\t#Heat added in kcal per cycle\n",
      "IHP = (IPm*(Vs/100)*(RPM/2))/4500\t\t\t\t\t#Indicated horse power\n",
      "nth = ((IHP*4500)/(427*q*(RPM/2)))*100\t\t\t\t\t#Thermal efficiency in percent\n",
      "na = (1-(1/r**(g-1)))*100\t\t\t\t\t#Air standard efficiency in percent\n",
      "rn = (nth/na)*100\t\t\t\t\t#Relative effeciency in percent\n",
      "\n",
      "\t\t\t\t\t\n",
      "#Output\n",
      "print 'The thermal efficiency is %3.1f percent  \\\n",
      "\\nThe relative efficiency is %3.1f percent  \\\n",
      "\\nIndicated horese power is %3.1f H.P'%(nth,rn,IHP)\n"
     ],
     "language": "python",
     "metadata": {},
     "outputs": [
      {
       "output_type": "stream",
       "stream": "stdout",
       "text": [
        "The thermal efficiency is 36.0 percent  \n",
        "The relative efficiency is 70.3 percent  \n",
        "Indicated horese power is 15.7 H.P\n"
       ]
      }
     ],
     "prompt_number": 7
    },
    {
     "cell_type": "heading",
     "level": 2,
     "metadata": {},
     "source": [
      "Example 23.6  Page no :  356"
     ]
    },
    {
     "cell_type": "code",
     "collapsed": false,
     "input": [
      "import math \n",
      "\t\t\t\t\t\n",
      "#Input data\n",
      "n = 4\t\t\t\t\t#Number of cylinders\n",
      "d = 6.25\t\t\t\t\t#Diametre in cm\n",
      "l = 9.5\t\t\t\t\t#Stroke in cm\n",
      "t = 678\t\t\t\t\t#Torque in kg.m\n",
      "N = 3000\t\t\t\t\t#Speed in r.p.m\n",
      "Vc = 60\t\t\t\t\t#Clearance volume in c.c\n",
      "be = 0.5\t\t\t\t\t#Brake efficiency ratio based on the air standard cycle\n",
      "CV = 10000\t\t\t\t\t#Calorific value in kcal/kg\n",
      "g = 1.4\t\t\t\t\t#Ratio of specific heats\n",
      "\n",
      "\t\t\t\t\t\n",
      "#Calculations\n",
      "Vs = (3.14/4)*d**2*l\t\t\t\t\t#Stroke volume in c.c per cylinder\n",
      "r = ((Vs+Vc)/Vc)\t\t\t\t\t#Compression ratio\n",
      "na = (1-(1/r**(g-1)))\t\t\t\t\t#Air standard efficiency\n",
      "bth = (be*na)*100\t\t\t\t\t#Brake thermal efficiency in percent\n",
      "bhp = ((t/100)*2*3.14*N)/4500\t\t\t\t\t#B.H.P in H.P\n",
      "q = (bhp*(4500/427))/(bth/100)\t\t\t\t\t#Heat supplied in kcal/min\n",
      "F = (q*60)/CV\t\t\t\t\t#Fuel consumption in kg/hour\n",
      "P = (bhp*4500*2*100)/(n*Vs*N)\t\t\t\t\t#pressure in kg/cm**2\n",
      "\n",
      "\t\t\t\t\t\n",
      "#Output\n",
      "print 'The fuel consumption is %3.2f kg/hour  \\\n",
      "\\nThe brake mean effective pressure is %3.2f kg/cm**2'%(F,P)\n"
     ],
     "language": "python",
     "metadata": {},
     "outputs": [
      {
       "output_type": "stream",
       "stream": "stdout",
       "text": [
        "The fuel consumption is 5.95 kg/hour  \n",
        "The brake mean effective pressure is 6.47 kg/cm**2\n"
       ]
      }
     ],
     "prompt_number": 8
    },
    {
     "cell_type": "heading",
     "level": 2,
     "metadata": {},
     "source": [
      "Example 23.7  Page no :  360"
     ]
    },
    {
     "cell_type": "code",
     "collapsed": false,
     "input": [
      "import math \n",
      "\t\t\t\t\t\n",
      "#Input data\n",
      "n = 1.\t\t\t\t\t#Number of cylinders\n",
      "t = 30.\t\t\t\t\t#Trail time in min\n",
      "m = 5.6\t\t\t\t\t#Oil consumption in l\n",
      "CV = 9980.\t\t\t\t\t#Calorific value of oil in kcal/kg\n",
      "g = 0.8\t\t\t\t\t#Specific gravity of oil \n",
      "a = 8.35\t\t\t\t\t#Average area of indicator diagram in sq.cm\n",
      "l = 8.4\t\t\t\t\t#Length of the indicator diagram in cm\n",
      "is1 = 5.5\t\t\t\t\t#Indicator spring scale\n",
      "L = 147.5\t\t\t\t\t#Brake load in kg\n",
      "sp = 20.\t\t\t\t\t#Spring balance reading in kg\n",
      "d = 1.5\t\t\t\t\t#Effective brake wheel diameter in m\n",
      "N = 200.\t\t\t\t\t#Speed in r.p.m\n",
      "cyd = 30.\t\t\t\t\t#Cylinder diameter in cm\n",
      "l1 = 45.\t\t\t\t\t#Stroke in cm\n",
      "mw = 11.\t\t\t\t\t#Jacket cooling water in kg/min\n",
      "Tc = 35.+273\t\t\t\t\t#Temperature rise of cooling water in K\n",
      "\n",
      "\t\t\t\t\t\n",
      "#Calculations\n",
      "mp = (a/l)*is1\t\t\t\t\t#Mean effective pressure\n",
      "ihp = ((mp*(l1/100)*(3.14/4)*cyd**2*(N/2))/4500)\t\t\t\t\t#Indicated horse power in h.p\n",
      "bhp = (L*3.14*d*N)/4500\t\t\t\t\t#Brake horse power in h.p\n",
      "nm = (bhp/ihp)*100\t\t\t\t\t#Mechanical efficiency in percent\n",
      "F = (m*(60/t)*g)\t\t\t\t\t#Fuel consumption in kg/hour\n",
      "Fc = (F/bhp)\t\t\t\t\t#Specific fuel consumption in kg/B.H.P/hour\n",
      "ith = ((ihp*(4500./427))/((F/60)*CV))*100\t\t\t\t\t#Indicated thermal efficiency in percent\n",
      "\n",
      "\t\t\t\t\t\n",
      "#Output\n",
      "print 'a) I.H.P is %3.1f  \\\n",
      "\\nb) B.H.P is %3.1f  \\\n",
      "\\nc) Mechanical efficiency is %3.1f percent  \\\n",
      "\\nd) Specific fuel consumption is %3.2f kg/B.H.P/hour  \\\n",
      "\\ne) Indicated thermal efficiency is %3.1f percent'%(ihp,bhp,nm,Fc,ith)\n"
     ],
     "language": "python",
     "metadata": {},
     "outputs": [
      {
       "output_type": "stream",
       "stream": "stdout",
       "text": [
        "a) I.H.P is 38.6  \n",
        "b) B.H.P is 30.9  \n",
        "c) Mechanical efficiency is 79.9 percent  \n",
        "d) Specific fuel consumption is 0.29 kg/B.H.P/hour  \n",
        "e) Indicated thermal efficiency is 27.3 percent\n"
       ]
      }
     ],
     "prompt_number": 11
    },
    {
     "cell_type": "heading",
     "level": 2,
     "metadata": {},
     "source": [
      "Example 23.8  Page no :  361"
     ]
    },
    {
     "cell_type": "code",
     "collapsed": false,
     "input": [
      "import math \n",
      "\t\t\t\t\t\n",
      "#Input data\n",
      "d = 15.\t\t\t\t\t#Diameter in cm. In textbook it is given wrong as 39\n",
      "l = 45.\t\t\t\t\t#Stroke in cm\n",
      "f = 9.5\t\t\t\t\t#Total fuel used in litres\n",
      "CV = 10500.\t\t\t\t\t#Calorific value in kcal/kg\n",
      "n = 12624.\t\t\t\t\t#Total no. of revolutions\n",
      "imep = 7.24\t\t\t\t\t#Gross i.m.e.p in kg/cm**2\n",
      "pimep = 0.34\t\t\t\t\t#Pumping i.m.e.p in kg/cm**2\n",
      "L = 150.\t\t\t\t\t#Net load on brake in kg\n",
      "db = 1.78\t\t\t\t\t#Diameter of the brake wheel drum in m\n",
      "dr = 4.\t\t\t\t\t#Diameter of rope in cm\n",
      "cw = 545.\t\t\t\t\t#Cooling water circulated in litres\n",
      "Tc = 45.\t\t\t\t\t#Cooling water temperature rise in degree C\n",
      "g = 0.8\t\t\t\t\t#Specific gravity of oil\n",
      "\n",
      "\t\t\t\t\t\n",
      "#Calculations\n",
      "ihp = ((imep-pimep)*(l/100)*3.14*d**2*n)/(4500*60)\t\t\t\t\t#I.H.P in h.p\n",
      "q = (f*g*CV)/60\t\t\t\t\t#Heat supplied in kcal/min\n",
      "bhp = (L*3.14*(db+(dr/100))*n)/(4500*60)\t\t\t\t\t#B.H.P in h.p\n",
      "qbhp = (bhp*4500)/427\t\t\t\t\t#Heat equivalent of B.H.P in kcal/min\n",
      "qw = (cw*Tc)/60\t\t\t\t\t#Heat lost to jacket cooling water in kcal/min\n",
      "dq = (q-(qbhp+qw))\t\t\t\t\t#Heat unaccounted in kcal/min\n",
      "\n",
      "\t\t\t\t\t\n",
      "#Output\n",
      "print 'Heat supplied is %3.0f kcal/min  \\\n",
      "\\nHeat equivalent of B.H.P is %3.0f kcal/min  \\\n",
      "\\nHeat lost to jacket cooling water is %3.0f kcal/min  \\\n",
      "\\nHeat unaccounted is %3.0f kcal/min'%(q,qbhp,qw,dq)\n"
     ],
     "language": "python",
     "metadata": {},
     "outputs": [
      {
       "output_type": "stream",
       "stream": "stdout",
       "text": [
        "Heat supplied is 1330 kcal/min  \n",
        "Heat equivalent of B.H.P is 422 kcal/min  \n",
        "Heat lost to jacket cooling water is 409 kcal/min  \n",
        "Heat unaccounted is 499 kcal/min\n"
       ]
      }
     ],
     "prompt_number": 12
    },
    {
     "cell_type": "heading",
     "level": 2,
     "metadata": {},
     "source": [
      "Example 23.9  Page no :  364"
     ]
    },
    {
     "cell_type": "code",
     "collapsed": false,
     "input": [
      "import math \n",
      "\t\t\t\t\t\n",
      "#Input data\n",
      "d = 27.\t\t\t\t\t#Diameter in cm\n",
      "l = 45.\t\t\t\t\t#Stroke in cm\n",
      "db = 1.62\t\t\t\t\t#Effective diameter of the brake in m\n",
      "t = (38.*60+30)\t\t\t\t\t#Test duration in sec\n",
      "CV = 4650.\t\t\t\t\t#Calorific value in kcal/m**3 at N.T.P\n",
      "n = 8080.\t\t\t\t\t#Total no. of revolutions\n",
      "en = 3230.\t\t\t\t\t#Total number of explosions\n",
      "p = 5.75\t\t\t\t\t#Mean effective pressure in kg/cm**2\n",
      "V = 7.7\t\t\t\t\t#Gas used in m**3\n",
      "T = 15.+273\t\t\t\t\t#Atmospheric temperature in K\n",
      "pg = 135.\t\t\t\t\t#pressure of gas in mm of water above atmospheric pressure\n",
      "hb = 750.\t\t\t\t\t#Height of barometer in mm of Hg\n",
      "L = 92.\t\t\t\t\t#Net load on brake in kg\n",
      "w = 183.\t\t\t\t\t#Weigh of jacket cooling water in kg\n",
      "Tc = 47.\t\t\t\t\t#Cooling water temperature rise in degree C\n",
      "\n",
      "\t\t\t\t\t\n",
      "#Calculations\n",
      "ihp = (p*(l/100)*(3.14/4)*d**2*en)/(4500*(t/60))\t\t\t\t\t#I.H.P in h.p\n",
      "bhp = (L*3.14*db*n)/(4500*(t/60))\t\t\t\t\t#B.H.P in h.p\n",
      "pa = (hb+(pg/13))\t\t\t\t\t#Pressure of gas supplied in mm of Hg\n",
      "Vg = (V*(273/T)*(pa/760))\t\t\t\t\t#Volume of gas used at N.T.P in m**3\n",
      "q = (Vg*CV)/(t/60)\t\t\t\t\t#Heat supplied per minute in kcal\n",
      "qbhp = (bhp*4500)/427\t\t\t\t\t#Heat equivalent of B.H.P in kcal/min\n",
      "qc = (w/(t/60))*Tc\t\t\t\t\t#Heat lost to jacket cooling water in kcal/min\n",
      "qra = (q-(qbhp+qc))\t\t\t\t\t#Heat lost to exhaust, etc in kcal/min\n",
      "\n",
      "\t\t\t\t\t\n",
      "#Output\n",
      "print 'Heat supplied is %3.1f kcal/min  \\\n",
      "\\nHeat equivalent of B.H.P is %3.0f kcal/min  \\\n",
      "\\nHeat lost to jacket cooling water is %3.1f kcal/min  \\\n",
      "\\nHeat lost to exhaust radiation etc. is %3.1f kcal/min'%(q,qbhp,qc,qra)\n"
     ],
     "language": "python",
     "metadata": {},
     "outputs": [
      {
       "output_type": "stream",
       "stream": "stdout",
       "text": [
        "Heat supplied is 882.0 kcal/min  \n",
        "Heat equivalent of B.H.P is 230 kcal/min  \n",
        "Heat lost to jacket cooling water is 223.4 kcal/min  \n",
        "Heat lost to exhaust radiation etc. is 428.6 kcal/min\n"
       ]
      }
     ],
     "prompt_number": 14
    },
    {
     "cell_type": "heading",
     "level": 2,
     "metadata": {},
     "source": [
      "Example 23.10  Page no :  366"
     ]
    },
    {
     "cell_type": "code",
     "collapsed": false,
     "input": [
      "import math \n",
      "\t\t\t\t\t\n",
      "#Input data\n",
      "d = 25.\t\t\t\t\t#Bore in cm\n",
      "l = 50.\t\t\t\t\t#Stroke in cm\n",
      "N = 240.\t\t\t\t\t#Speed in r.p.m\n",
      "n = 100.\t\t\t\t\t#Number of times fires per minute\n",
      "qc = 0.3\t\t\t\t\t#Quantity of coal gas used in cu.m per minute\n",
      "h = 100.\t\t\t\t\t#Head in mm of water\n",
      "bp = 1.03\t\t\t\t\t#Barometric pressure in kg/cm**2\n",
      "T = 15.+273\t\t\t\t\t#Temperature in K\n",
      "ma = 2.82\t\t\t\t\t#Mass of air used in kg per minute\n",
      "R = 29.45\t\t\t\t\t#Characteristic gas constant in kg.m/kg.K\n",
      "\n",
      "\t\t\t\t\t\n",
      "#Calculations\n",
      "gp = (bp+(100/13.6)*(bp/76))\t\t\t\t\t#Gas pressure in kg/cm**2\n",
      "Vc = (qc*(gp/bp)*(273/T))\t\t\t\t\t#Volume of coal gas at N.T.P in cu.m per minute\n",
      "Vce = (Vc/n)\t\t\t\t\t#Volume of coal gas per explosion in cu.m at N.T.P\n",
      "va = (ma*R*273)/(bp*10**4)\t\t\t\t\t#Volume of air taken in at N.T.P in cu.m per min\n",
      "V = ((va-(((N/2)-n)*Vce))/(N/2))\t\t\t\t\t#Volume in cu.m\n",
      "tV = (V+Vce)\t\t\t\t\t#Total volume of charge in cu.m at N.T.P\n",
      "Vs = ((3.14/4)*(d**2*l)*10**-6)\t\t\t\t\t#Swept volume in cu.m\n",
      "nv = (tV/Vs)*100\t\t\t\t\t#Volumetric efficiency in percent\n",
      "\n",
      "\t\t\t\t\t\n",
      "#Output\n",
      "print 'a) the charge of air per working cycle as measured at N.T.P is %3.5f cu.m  \\\n",
      "\\nb) the volumetric efficiency is %3.1f percent'%(tV,nv)\n"
     ],
     "language": "python",
     "metadata": {},
     "outputs": [
      {
       "output_type": "stream",
       "stream": "stdout",
       "text": [
        "a) the charge of air per working cycle as measured at N.T.P is 0.02094 cu.m  \n",
        "b) the volumetric efficiency is 85.4 percent\n"
       ]
      }
     ],
     "prompt_number": 15
    },
    {
     "cell_type": "heading",
     "level": 2,
     "metadata": {},
     "source": [
      "Example 23.11  Page no :  368"
     ]
    },
    {
     "cell_type": "code",
     "collapsed": false,
     "input": [
      "import math \n",
      "\t\t\t\t\t\n",
      "#Input data\n",
      "d = 18.\t\t\t\t\t#Diameter in cm\n",
      "l = 24.\t\t\t\t\t#Stroke in cm\n",
      "t = 30.\t\t\t\t\t#Duration of trail in min\n",
      "r = 9000.\t\t\t\t\t#Total number of revolutins\n",
      "e = 4445.\t\t\t\t\t#Total number of explosions\n",
      "mep = 5.85\t\t\t\t\t#Mean effective pressure in kg/cm**2\n",
      "Nl = 40.\t\t\t\t\t#Net load on brake wheel in kg\n",
      "ed = 1.\t\t\t\t\t#Effective diameter of brake wheel in meter\n",
      "tg = 2.3\t\t\t\t\t#Total gas used at N.T.P in m**3\n",
      "CV = 4600.\t\t\t\t\t#Calorific value of gas in kcal/m**3 at N.T.P\n",
      "ta = 36.\t\t\t\t\t#Total air used in m**3\n",
      "pa = 720.\t\t\t\t\t#Pressure of air in mm of Hg\n",
      "Ta = 18.+273\t\t\t\t\t#Temperature of air in K\n",
      "da = 1.293\t\t\t\t\t#Density of air at N.T.P in kg/m**3\n",
      "Te = 350.+273\t\t\t\t\t#Temperature of exhaust gases in K\n",
      "Tr = 18.+273\t\t\t\t\t#Room temperature in K\n",
      "Cp = 0.24\t\t\t\t\t#Specific heat of exhaust gases in kJ/kg.K\n",
      "twc = 81.5\t\t\t\t\t#Total weight of cylinder jacket cooling water in kg\n",
      "dT = 33.\t\t\t\t\t#Rise in temperature of jacket cooling water in degree C\n",
      "R = 29.45\t\t\t\t\t#Characteristic gas constant in kg.m/kg.degree C\n",
      "\n",
      "\t\t\t\t\t\n",
      "#Calculations\n",
      "ihp = (mep*(l/100)*(3.14/4)*d**2*(e/t))/4500\t\t\t\t\t#Indicated horse power in h.p\n",
      "bhp = (Nl*3.14*r*ed)/(4500*t)\t\t\t\t\t#Brake horse power in h.p\n",
      "qs = (tg/t)*CV\t\t\t\t\t#Heat supplied at N.T.P in kcal\n",
      "qbhp = (bhp*4500)/427\t\t\t\t\t#Heat equivalent of B.H.P in kcal/min\n",
      "ql = (twc/t)*dT\t\t\t\t\t#Heat lost to cylinder jacket cooling water in kcal/min\n",
      "VA = (ta*(273/Ta)*(pa/760))\t\t\t\t\t#Volume of air used at N.T.P in m**3\n",
      "WA = (VA*da)/t\t\t\t\t\t#Weight of air used per min in kg\n",
      "WG = (1.03*tg*10**4)/(R*273)\t\t\t\t\t#Weight of gas in kg\n",
      "Wg = (WG/t)\t\t\t\t\t#Weight of gas per minute in kg\n",
      "We = (WA+Wg)\t\t\t\t\t#Total weight of exhaust gases in kg\n",
      "qle = (We*(Te-Tr)*Cp)\t\t\t\t\t#Heat lost of exhaust gases in kcal/min\n",
      "qra = (qs-(qbhp+ql+qle))\t\t\t\t\t#Heat lost by radiation in kcal/min\n",
      "nm = (bhp/ihp)*100\t\t\t\t\t#Mechanical efficiency in percent\n",
      "ith = ((ihp*4500)/(427*qs))*100\t\t\t\t\t#Indicated thermal efficiency in percent\n",
      "\n",
      "\t\t\t\t\t\n",
      "#Output\n",
      "print '         HEAT BALANCE SHEET          ------------------  \\\n",
      "\\nHeat supplied per minute is %3.1f kcal/min  \\\n",
      "\\nHeat expenditure               kcal per minute  \\\n",
      "\\n1.Heat equivalent of B.H.P is          %3.1f  \\\n",
      "\\n2.Heat lost to jacket cooling water is %3.1f  \\\n",
      "\\n3.Heat lost in exhaust gases is        %3.1f  \\\n",
      "\\n4.Heat lost by radiation, etc, is     %3.1f \\\n",
      "\\n--------                                       %3.1f                                      --------'%(qs,qbhp,ql,qle,qra,qs)\n"
     ],
     "language": "python",
     "metadata": {},
     "outputs": [
      {
       "output_type": "stream",
       "stream": "stdout",
       "text": [
        "         HEAT BALANCE SHEET          ------------------  \n",
        "Heat supplied per minute is 352.7 kcal/min  \n",
        "Heat expenditure               kcal per minute  \n",
        "1.Heat equivalent of B.H.P is          88.2  \n",
        "2.Heat lost to jacket cooling water is 89.7  \n",
        "3.Heat lost in exhaust gases is        117.7  \n",
        "4.Heat lost by radiation, etc, is     57.1 \n",
        "--------                                       352.7                                      --------\n"
       ]
      }
     ],
     "prompt_number": 16
    },
    {
     "cell_type": "heading",
     "level": 2,
     "metadata": {},
     "source": [
      "Example 23.12  Page no :  372"
     ]
    },
    {
     "cell_type": "code",
     "collapsed": false,
     "input": [
      "import math \n",
      "\t\t\t\t\t\n",
      "#Input data\n",
      "gu = 0.135\t\t\t\t\t#Gas used in m**3/min at N.T.P\n",
      "CV = 3990\t\t\t\t\t#Calorific value of gas in kcal/m**3 at N.T.P\n",
      "dg = 0.64\t\t\t\t\t#Density of gas in kg/m**3 at N.T.P\n",
      "au = 1.52\t\t\t\t\t#Air used in kg/min\n",
      "C = 0.24\t\t\t\t\t#Specific heat of exhaust gases in kJ/kg.K\n",
      "Te = 397+273\t\t\t\t\t#Temperature of exhaust gases in K\n",
      "Tr = 17+273\t\t\t\t\t#Room temperature in K\n",
      "cw = 6\t\t\t\t\t#Cooling water per minute in kg\n",
      "rT = 27.5\t\t\t\t\t#Rise in temperature in degree C\n",
      "ihp = 12.3\t\t\t\t\t#Indicated horse power in h.p\n",
      "bhp = 10.2\t\t\t\t\t#Brake horse power in h.p\n",
      "\n",
      "\t\t\t\t\t\n",
      "#Calculations\n",
      "qs = (gu*CV*60)\t\t\t\t\t#Heat supplied in kcal/hour\n",
      "qbhp = ((bhp*4500*60)/427)\t\t\t\t\t#Heat equivalent of B.H.P in kcal/hr\n",
      "ql = (cw*60*rT)\t\t\t\t\t#Heat lost in jacket cooling water in kcal/hr\n",
      "mg = (gu*dg)\t\t\t\t\t#Mass of gas used per minute in kg\n",
      "me = (mg+au)\t\t\t\t\t#Mass of exhaust gases per minute in kg\n",
      "qe = (me*C*(Te-Tr)*60)\t\t\t\t\t#Heat carried away by exhaust gases in kcal/hour\n",
      "qun = (qs-(qbhp+ql+qe))\t\t\t\t\t#Heat unaccounted in kcal/hour\n",
      "\n",
      "\t\t\t\t\t\n",
      "#Output\n",
      "print 'Heat supplied is %3.0f kcal/hour  \\\n",
      "\\nHeat equivalent of B.H.P is %3.0f kcal/hr  \\\n",
      "\\nHeat lost in jacket cooling water is %3.0f kcal/hr  \\\n",
      "\\nHeat carried away by exhaust gases is %3.0f kcal/hour  \\\n",
      "\\nHeat unaccounted is %3.0f kcal/hour'%(qs,qbhp,ql,qe,qun)\n"
     ],
     "language": "python",
     "metadata": {},
     "outputs": [
      {
       "output_type": "stream",
       "stream": "stdout",
       "text": [
        "Heat supplied is 32319 kcal/hour  \n",
        "Heat equivalent of B.H.P is 6450 kcal/hr  \n",
        "Heat lost in jacket cooling water is 9900 kcal/hr  \n",
        "Heat carried away by exhaust gases is 8790 kcal/hour  \n",
        "Heat unaccounted is 7179 kcal/hour\n"
       ]
      }
     ],
     "prompt_number": 17
    },
    {
     "cell_type": "heading",
     "level": 2,
     "metadata": {},
     "source": [
      "Example 23.13  Page no :  372"
     ]
    },
    {
     "cell_type": "code",
     "collapsed": false,
     "input": [
      "import math \n",
      "\t\t\t\t\t\n",
      "#Input data\n",
      "n = 4.\t\t\t\t\t#Number of cylinders\n",
      "r = 1.\t\t\t\t\t#Radius in metre\n",
      "N = 1400.\t\t\t\t\t#Speed in r.p.m\n",
      "bl = 14.5\t\t\t\t\t#Net brake load in kg\n",
      "P = [9.8,10.1,10.3,10]\t\t\t\t\t#Loads on the brake in kg\n",
      "d = 9.\t\t\t\t\t#Bore in cm\n",
      "l = 12.\t\t\t\t\t#Stroke in cm\n",
      "\n",
      "\t\t\t\t\t\n",
      "#Calculations\n",
      "bhp = (bl*2*3.14*r*N)/4500\t\t\t\t\t#Brake horse power in h.p\n",
      "bhp1 = (P[0]*2*3.14*r*N)/4500\t\t\t\t\t#Brake horse power in h.p\n",
      "bhp2 = (P[1]*2*3.14*r*N)/4500\t\t\t\t\t#Brake horse power in h.p\n",
      "bhp3 = (P[2]*2*3.14*r*N)/4500\t\t\t\t\t#Brake horse power in h.p\n",
      "bhp4 = (P[3]*2*3.14*r*N)/4500\t\t\t\t\t#Brake horse power in h.p\n",
      "ihp1 = bhp-bhp1\t\t\t\t\t#Indicated horse power in h.p\n",
      "ihp2 = bhp-bhp2\t\t\t\t\t#Indicated horse power in h.p\n",
      "ihp3 = bhp-bhp3\t\t\t\t\t#Indicated horse power in h.p\n",
      "ihp4 = bhp-bhp4\t\t\t\t\t#Indicated horse power in h.p\n",
      "ihp = (ihp1+ihp2+ihp3+ihp4)\t\t\t\t\t#Indicated horse power in h.p\n",
      "nm = (bhp/ihp)*100\t\t\t\t\t#Mechanical efficiency in percent\n",
      "pm = ((4500*bhp)/((l/100)*(3.14/4)*d**2*(N/2)))\t\t\t\t\t#Brake mean effective pressure in kg/cm**2\n",
      "\n",
      "\t\t\t\t\t\n",
      "#Output\n",
      "print 'I.H.P is %3.1f h.p  \\\n",
      "\\nMechanical efficiency is %3.1f percent  \\\n",
      "\\nBrake mean effective pressure is %3.0f kg/cm**2'%(ihp,nm,pm)\n"
     ],
     "language": "python",
     "metadata": {},
     "outputs": [
      {
       "output_type": "stream",
       "stream": "stdout",
       "text": [
        "I.H.P is 34.8 h.p  \n",
        "Mechanical efficiency is 81.5 percent  \n",
        "Brake mean effective pressure is  24 kg/cm**2\n"
       ]
      }
     ],
     "prompt_number": 20
    },
    {
     "cell_type": "heading",
     "level": 2,
     "metadata": {},
     "source": [
      "Example 23.14  Page no :  374"
     ]
    },
    {
     "cell_type": "code",
     "collapsed": false,
     "input": [
      "import math \n",
      "\t\t\t\t\t\n",
      "#Input data\n",
      "N = 350\t\t\t\t\t#Speed in r.p.m\n",
      "L = 60\t\t\t\t\t#Net brake load in kg\n",
      "mep = 2.75\t\t\t\t\t#Mean effective pressure in kg/cm**2\n",
      "oc = 4.25\t\t\t\t\t#Oil consumption in kg/hour\n",
      "jcw = 490\t\t\t\t\t#Jacket cooling water in kg/hour\n",
      "Tw = [20+273,45+273]\t\t\t\t\t#Temperature of jacket water at inlet and outlet in K\n",
      "au = 31.5\t\t\t\t\t#Air used per kg of oil in kg\n",
      "Ta = 20+273\t\t\t\t\t#Temperature of air in the test room in K\n",
      "Te = 390+273\t\t\t\t\t#Temperature of exhaust gases in K\n",
      "d = 22\t\t\t\t\t#Cylinder diameter in cm\n",
      "l = 28\t\t\t\t\t#Stroke in cm\n",
      "bd = 1\t\t\t\t\t#Effective brake diameter in m\n",
      "CV = 10500\t\t\t\t\t#Calorific value of oil in kcal/kg\n",
      "pH2 = 15\t\t\t\t\t#Proportion of hydrogen in fuel oil in percent\n",
      "C = 0.24\t\t\t\t\t#Mean specific heat of dry exhaust gases\n",
      "Cs = 9.5\t\t\t\t\t#Specific heat of steam in kJ/kg.K\n",
      "\n",
      "\t\t\t\t\t\n",
      "#Calculations\n",
      "ibp = (mep*(l/100)*(3.14/4)*d**2*N)/4500\t\t\t\t\t#Indicated brake power in h.p\n",
      "bhp = (L*3.14*N*bd)/4500\t\t\t\t\t#Brake horse power in h.p\n",
      "qs = (oc*CV)/60\t\t\t\t\t#Heat supplied per minute in kcal\n",
      "qbhp = (bhp*4500)/427\t\t\t\t\t#Heat equivalent of B.H.P in kcal/min\n",
      "pqbhp = (qbhp/qs)*100\t\t\t\t\t#Percenatge of  heat\n",
      "ql = (jcw/60)*(Tw[1]-Tw[0])\t\t\t\t\t#Heat lost to cooling water in kcal/min\n",
      "pql = (ql/qs)*100\t\t\t\t\t#Percenatge of  heat\n",
      "wH2O = (9*(pH2/100)*(oc/60))\t\t\t\t\t#Weight of H2O produced per kg of fuel burnt in kg/min\n",
      "twe = (oc*(au+1))/60\t\t\t\t\t#Total weight of wet exhaust gases per minute in kg\n",
      "twd = (twe-wH2O)\t\t\t\t\t#Weight of dry exhaust gases per minute in kg\n",
      "qle = (twd*C*(Te-Ta))\t\t\t\t\t#Heat lost to dry exhaust gases/min in kcal\n",
      "pqle = (qle/qs)*100\t\t\t\t\t#Percenatge of  heat\n",
      "qx = (100+538.9+0.5*(Te-373))\t\t\t\t\t#Heat in kcal/kg\n",
      "qst = (wH2O*qx)\t\t\t\t\t#Heat to steam in kcal/min\n",
      "pqst = (qst/qs)*100\t\t\t\t\t#Percenatge of  heat\n",
      "qra = (qs-(qbhp+ql+qle+qst))\t\t\t\t\t#Heat lost by radiation in kcal/min\n",
      "pqra = (qra/qs)*100\t\t\t\t\t#Percenatge of  heat\n",
      "\n",
      "\t\t\t\t\t\n",
      "#Output\n",
      "print '         HEAT BALANCE SHEET          ------------------  \\\n",
      "\\nHeat supplied per minute is        %3.0f kcal/min  100 percent  \\\n",
      "\\nHeat expenditure                  kcal per minute      percent  \\\n",
      "\\n1.Heat equivalent of B.H.P is              %3.1f      %3.1f  \\\n",
      "\\n2.Heat lost to cooling water is            %3.0f        %3.1f  \\\n",
      "\\n3.Heat lost to dry exhaust gases is        %3.1f      %3.1f \\\n",
      "\\n4.Heat lost of steam in exhaust gases is  %3.0f         %3.1f \\\n",
      "\\n5.Heat lost by radiation, etc., is         %3.0f        %3.1f \\\n",
      "\\n ---------- Total                         %3.0f        %3.0f  ------------------'\\\n",
      "%(qs,qbhp,pqbhp,ql,pql,qle,pqle,qst,pqst,qra,pqra,qs,(pqbhp+pql+pqle+pqst+pqra))\n",
      "\n"
     ],
     "language": "python",
     "metadata": {},
     "outputs": [
      {
       "output_type": "stream",
       "stream": "stdout",
       "text": [
        "         HEAT BALANCE SHEET          ------------------  \n",
        "Heat supplied per minute is        744 kcal/min  100 percent  \n",
        "Heat expenditure                  kcal per minute      percent  \n",
        "1.Heat equivalent of B.H.P is              154.4      20.8  \n",
        "2.Heat lost to cooling water is            200        26.9  \n",
        "3.Heat lost to dry exhaust gases is        204.4      27.5 \n",
        "4.Heat lost of steam in exhaust gases is    0         0.0 \n",
        "5.Heat lost by radiation, etc., is         185        24.9 \n",
        " ---------- Total                         744        100  ------------------\n"
       ]
      }
     ],
     "prompt_number": 23
    },
    {
     "cell_type": "heading",
     "level": 2,
     "metadata": {},
     "source": [
      "Example 23.15  Page no :  376"
     ]
    },
    {
     "cell_type": "code",
     "collapsed": false,
     "input": [
      "import math \n",
      "\t\t\t\t\t\n",
      "#Input data\n",
      "d = 20\t\t\t\t\t#Diameter in cm\n",
      "l = 40\t\t\t\t\t#Stroke in cm\n",
      "mep = 5.95\t\t\t\t\t#Mean effective pressure in kg/cm**2\n",
      "bt = 41.5\t\t\t\t\t#Brake torque in kg.m\n",
      "N = 250\t\t\t\t\t#Speed in r.p.m\n",
      "oc = 4.2\t\t\t\t\t#Oil consumption in kg per hour\n",
      "CV = 11300\t\t\t\t\t#Calorific value of fuel in kcal/kg\n",
      "jcw = 4.5\t\t\t\t\t#Jacket cooling water in kg/min\n",
      "rT = 45\t\t\t\t\t#Rise in temperature in degree C\n",
      "au = 31\t\t\t\t\t#Air used in kg\n",
      "Te = 420\t\t\t\t\t#Temperature of exhaust gases in degree C\n",
      "Tr = 20\t\t\t\t\t#Room temperature in degree C\n",
      "Cm = 0.24\t\t\t\t\t#Mean specific heat of exhaust gases in kJ/kg.K\n",
      "\n",
      "\t\t\t\t\t\n",
      "#Calculations\n",
      "ihp = (mep*(l/100)*(3.14/4)*d**2*(N/2))/4500\t\t\t\t\t#Indicated horse power in h.p\n",
      "bhp = (bt*2*3.14*N)/4500\t\t\t\t\t#Brake horse power in h.p\n",
      "q = (oc*CV)\t\t\t\t\t#Heat supplied in kcal/hour\n",
      "qbhp = (bhp*4500*60)/427\t\t\t\t\t#Heat equivalent of B.H.P in kcal/hour\n",
      "qfhp = ((ihp-bhp)*4500*60)/427\t\t\t\t\t#Heat equivalent F.H.P in kcal/hour\n",
      "qc = (jcw*rT*60)\t\t\t\t\t#Heat lost in cooling water in kcal/hour\n",
      "qe = (oc*32*Cm*(Te-Tr))\t\t\t\t\t#Heat lost in exhaust gases in kcal/hour\n",
      "hu = (q-(qbhp+qfhp+qc+qe))\t\t\t\t\t#Heat unaccounted in kcal/hour\n",
      "\n",
      "\t\t\t\t\t\n",
      "#Output\n",
      "print 'Indicated horse power is %3.1f h.p  \\\n",
      "\\nBrake horse power is %3.2f h.p  \\\n",
      "\\nHeat supplied is %3.0f kcal/hour  \\\n",
      "\\nHeat equivalent of B.H.P is %3.0f kcal/hour  \\\n",
      "\\nHeat equivalent of F.H.P is %3.0f kcal/hour  \\\n",
      "\\nHeat lost in cooling water is %3.0f kcal/hour  \\\n",
      "\\nHeat lost in exhaust gases is %3.0f kcal/hour  \\\n",
      "\\nHeat unaccounted is %3.0f kcal/hour'%(ihp,bhp,q,qbhp,qfhp,qc,qe,hu)\n"
     ],
     "language": "python",
     "metadata": {},
     "outputs": [
      {
       "output_type": "stream",
       "stream": "stdout",
       "text": [
        "Indicated horse power is 0.0 h.p  \n",
        "Brake horse power is 14.48 h.p  \n",
        "Heat supplied is 47460 kcal/hour  \n",
        "Heat equivalent of B.H.P is 9155 kcal/hour  \n",
        "Heat equivalent of F.H.P is -9155 kcal/hour  \n",
        "Heat lost in cooling water is 12150 kcal/hour  \n",
        "Heat lost in exhaust gases is 12902 kcal/hour  \n",
        "Heat unaccounted is 22408 kcal/hour\n"
       ]
      }
     ],
     "prompt_number": 24
    },
    {
     "cell_type": "heading",
     "level": 2,
     "metadata": {},
     "source": [
      "Example 23.16  Page no :  381"
     ]
    },
    {
     "cell_type": "code",
     "collapsed": false,
     "input": [
      "import math \n",
      "\t\t\t\t\t\n",
      "#Input data\n",
      "ihp = 45.\t\t\t\t\t#Indicated horse power in h.p\n",
      "bhp = 37.\t\t\t\t\t#Brake horse power in h.p\n",
      "fu = 8.4\t\t\t\t\t#Fuel used in kg/hour\n",
      "CV = 10000.\t\t\t\t\t#Calorific value in kcal/kg\n",
      "Tc = [15.,70.]\t\t\t\t\t#Inlet and outlet temperatures of cylinders in degree C\n",
      "cj = 7.\t\t\t\t\t#Rate of flow of cylinder jacket in kg/min\n",
      "Tw = [15.,55.]\t\t\t\t\t#Inlet and outlet temperatures of water in degree C\n",
      "rw = 12.5\t\t\t\t\t#Rate of water flow in kg per minute\n",
      "Te = 82.\t\t\t\t\t#Final temperature of exhaust gases in degree C\n",
      "Tr = 17.\t\t\t\t\t#Room temperature in degree C\n",
      "af = 20.\t\t\t\t\t#Air fuel ratio\n",
      "Cm = 0.24\t\t\t\t\t#Mean specific heat of exhaust gases in kJ/kg.K\n",
      "\n",
      "\t\t\t\t\t\n",
      "#Calculations\n",
      "q = (fu/60)*CV\t\t\t\t\t#Heat supplied in kcal/min\n",
      "qbhp = (bhp*4500)/427\t\t\t\t\t#Heat equivalent of B.H.P in kcal/min\n",
      "ql = (cj*(Tc[1]-Tc[0]))\t\t\t\t\t#Heat lost to cylinder jacket cooling water in kcal/min\n",
      "qe = (rw*(Tw[1]-Tw[0]))\t\t\t\t\t#Heat lost by exhaust gases in kcal/min\n",
      "qee = (Te-Tr)*Cm*(af+1)*fu/60\t\t\t\t\t#Heat of exhaust gas in kcal/min\n",
      "te = (qe+qee)\t\t\t\t\t#Total heat lost to exhaust gases in kcal/min\n",
      "hra = (q-(qbhp+ql+te))\t\t\t\t\t#Heat lost to radiation in kcal/min\n",
      "ith = ((ihp*4500)/(427*q))*100\t\t\t\t\t#Indicated thermal efficiency in percent\n",
      "bth = ((bhp*4500)/(427*q))*100\t\t\t\t\t#Brake thermal efficiency in percent\n",
      "nm = (bhp/ihp)*100\t\t\t\t\t#Mechanical efficiency in percent\n",
      "\n",
      "\t\t\t\t\t\n",
      "#Output\n",
      "print 'Heat supplied is %3.0f kcal/min  \\\n",
      "\\nHeat equivalent of B.H.P is %3.0f kcal/min  \\\n",
      "\\nHeat lost to cylinder jacket cooling water is %3.0f kcal/min  \\\n",
      "\\nTotal heat lost to exhaust gases is %3.1f kcal/min  \\\n",
      "\\nHeat lost to radiation is %3.1f kcal/min  \\\n",
      "\\nIndicated thermal efficiency is %3.1f percent  \\\n",
      "\\nBrake thermal efficiency is %3.1f percent  \\\n",
      "\\nMechanical efficiency is %3.1f percent'%(q,qbhp,ql,te,hra,ith,bth,nm)\n"
     ],
     "language": "python",
     "metadata": {},
     "outputs": [
      {
       "output_type": "stream",
       "stream": "stdout",
       "text": [
        "Heat supplied is 1400 kcal/min  \n",
        "Heat equivalent of B.H.P is 390 kcal/min  \n",
        "Heat lost to cylinder jacket cooling water is 385 kcal/min  \n",
        "Total heat lost to exhaust gases is 545.9 kcal/min  \n",
        "Heat lost to radiation is 79.2 kcal/min  \n",
        "Indicated thermal efficiency is 33.9 percent  \n",
        "Brake thermal efficiency is 27.9 percent  \n",
        "Mechanical efficiency is 82.2 percent\n"
       ]
      }
     ],
     "prompt_number": 26
    },
    {
     "cell_type": "heading",
     "level": 2,
     "metadata": {},
     "source": [
      "Example 23.17  Page no :  382"
     ]
    },
    {
     "cell_type": "code",
     "collapsed": false,
     "input": [
      "import math \n",
      "\t\t\t\t\t\n",
      "#Input data\n",
      "Vs = 0.0015\t\t\t\t\t#Stroke volume in cu.m\n",
      "rc = 5.5\t\t\t\t\t#Volume compression ratio\n",
      "p2 = 8.\t\t\t\t\t#Pressure at the end of compression stroke in kg/cm**2\n",
      "T2 = 350.+273\t\t\t\t\t#Temperature at the end of compression stroke in K\n",
      "p3 = 25.\t\t\t\t\t#Pressure in kg/cm**2\n",
      "x = (1./30)\t\t\t\t\t#Fraction of dismath.tance travelled by piston\n",
      "pa = 1./16\t\t\t\t\t#Petrol air mixture ratio\n",
      "R = 29.45\t\t\t\t\t#Characteristic gas constant in kg.m/kg degree C\n",
      "CV = 10000.\t\t\t\t\t#Calorific value of fuel in kcal per kg\n",
      "Cv = 0.23\t\t\t\t\t#Specific heat in kJ/kg.K\n",
      "\n",
      "\t\t\t\t\t\n",
      "#Calculations\n",
      "V2 = (Vs*10**6)/(rc-1)\t\t\t\t\t#Volume in c.c\n",
      "V3 = (Vs*10**6)*x+V2\t\t\t\t\t#Volume in c.c\n",
      "T3 = (T2*p3*V3)/(p2*V2)\t\t\t\t\t#Temperature in K\n",
      "W = ((p3+p2)/2)*(V3-V2)\t\t\t\t\t#Workdone in kg.cm\n",
      "mM = ((p2*V2)/(T2*R*100))\t\t\t\t\t#Mass of mixture present in kg\n",
      "dE = (mM*Cv*(T3-T2))\t\t\t\t\t#Change in energy in kcal\n",
      "q = (dE+(W/(427*100)))\t\t\t\t\t#Heat in kcal\n",
      "qc = (1/(1+(1/pa)))*mM*CV \t\t\t\t\t#Heat in kcal\n",
      "ql = (qc-q)/mM\t\t\t\t\t#Heat lost in kcal per kg of charge\n",
      "\n",
      "\t\t\t\t\t\n",
      "#Output\n",
      "print 'Heat lost per kg of charge during explosion is %3.0f kcal'%(ql)\n"
     ],
     "language": "python",
     "metadata": {},
     "outputs": [
      {
       "output_type": "stream",
       "stream": "stdout",
       "text": [
        "Heat lost per kg of charge during explosion is 203 kcal\n"
       ]
      }
     ],
     "prompt_number": 28
    }
   ],
   "metadata": {}
  }
 ]
}