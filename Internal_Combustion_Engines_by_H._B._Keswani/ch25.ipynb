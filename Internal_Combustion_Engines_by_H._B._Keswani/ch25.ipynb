{
 "metadata": {
  "name": "",
  "signature": "sha256:16041f73a6ade185910241ccacbd2122c1ac726ac6c27d2c9d56b6d7f6d26e8d"
 },
 "nbformat": 3,
 "nbformat_minor": 0,
 "worksheets": [
  {
   "cells": [
    {
     "cell_type": "heading",
     "level": 1,
     "metadata": {},
     "source": [
      "Chapter 25 : Gas Turbines"
     ]
    },
    {
     "cell_type": "heading",
     "level": 2,
     "metadata": {},
     "source": [
      "Example 25.2  Page no :  389"
     ]
    },
    {
     "cell_type": "code",
     "collapsed": false,
     "input": [
      "import math \n",
      "\t\t\t\t\t\n",
      "#Input data\n",
      "p = 4\t\t\t\t\t#Pressure ratio\n",
      "T3 = 1000\t\t\t\t\t#Turbine inlet temperature in K\n",
      "T1 = 15+273\t\t\t\t\t#Inlet temperature in K\n",
      "p1 = 1\t\t\t\t\t#Inlet pressure in kg/cm**2\n",
      "m = 11\t\t\t\t\t#Mass flow rate of air in kg/s\n",
      "Cp = 0.24\t\t\t\t\t#Specific heat at constant pressure in kJ/kg.K\n",
      "R = 29.27\t\t\t\t\t#haracteristic gas constant in kg.m/kg.K\n",
      "g = 1.4\t\t\t\t\t#Ratio of specific heats\n",
      "\n",
      "\t\t\t\t\t\n",
      "#Calculations\n",
      "Pc = (m*R*T1*(p**((g-1)/g)-1))/75\t\t\t\t\t#Power consumed by the compressor in H.P\n",
      "Pt = (m*R*T3*(1-(1/p)**((g-1)/g)))/75\t\t\t\t\t#Power consumed by the turbine in H.P\n",
      "N = (Pt-Pc)\t\t\t\t\t#Net output of the plant in H.P. In textbook answer is given wrong\n",
      "T2 = (T1*(p)**((g-1)/g))\t\t\t\t\t#Temperature at the end of compression in K\n",
      "q = (Cp*(T3-T2))\t\t\t\t\t#Heat supplied in kcal/kg of air\n",
      "n = (((N*4500)/427)/(q*m*60))*100\t\t\t\t\t#Overall efficiency of the plant in percent\n",
      "\n",
      "\t\t\t\t\t\n",
      "#Output\n",
      "print 'Horse power developed is %3.0f H.P  The overall efficiency of the plant is %3.2f percent'%(N,n)\n"
     ],
     "language": "python",
     "metadata": {},
     "outputs": [
      {
       "output_type": "stream",
       "stream": "stdout",
       "text": [
        "Horse power developed is 3692 H.P  The overall efficiency of the plant is 42.94 percent\n"
       ]
      }
     ],
     "prompt_number": 1
    },
    {
     "cell_type": "heading",
     "level": 2,
     "metadata": {},
     "source": [
      "Example 25.3  Page no :  391"
     ]
    },
    {
     "cell_type": "code",
     "collapsed": false,
     "input": [
      "import math \n",
      "\t\t\t\t\t\n",
      "#Input data\n",
      "T1 = 15+273\t\t\t\t\t#Temperature of air entering the compressor in K\n",
      "rp = 5\t\t\t\t\t#Pressure ratio\n",
      "T3 = 700+273\t\t\t\t\t#Temperature of air after heating in K\n",
      "g = 1.4\t\t\t\t\t#Ratio of specific heats\n",
      "Cp = 0.24\t\t\t\t\t#Specific heat at constant pressure in kJ/kg.K\n",
      "\n",
      "\t\t\t\t\t\n",
      "#Calculations\n",
      "T2 = (T1*rp**((g-1)/g))\t\t\t\t\t#Temperature of air after compression in K\n",
      "T4 = (T3/rp**((g-1)/g))\t\t\t\t\t#Temperature of air after expansion in K\n",
      "Wc = (Cp*(T2-T1))\t\t\t\t\t#Workdone in the compressor in kcal/kg of air\n",
      "Wt = (Cp*(T3-T4))\t\t\t\t\t#Workdone in the turbine in kcal/kg of air\n",
      "N = (Wt-Wc)\t\t\t\t\t#Net workdone in kcal/kg of air\n",
      "SHP = (N*427)/75\t\t\t\t\t#Shaft horse power in H.P per kg of air/sec\n",
      "q = (Cp*(T3-T2))\t\t\t\t\t#Heat supplied in kcal/kg of air\n",
      "n = (N/q)*100\t\t\t\t\t#Overall efficiency in percent\n",
      "\n",
      "\t\t\t\t\t\n",
      "#Output\n",
      "print 'Efficiency of plant is %3.1f percent  \\\n",
      "\\nThe shaft horse-power per kg of air per second is %3.0f H.P'%(n,SHP)\n"
     ],
     "language": "python",
     "metadata": {},
     "outputs": [
      {
       "output_type": "stream",
       "stream": "stdout",
       "text": [
        "Efficiency of plant is 36.9 percent  \n",
        "The shaft horse-power per kg of air per second is 260 H.P\n"
       ]
      }
     ],
     "prompt_number": 2
    },
    {
     "cell_type": "heading",
     "level": 2,
     "metadata": {},
     "source": [
      "Example 25.4  Page no :  396"
     ]
    },
    {
     "cell_type": "code",
     "collapsed": false,
     "input": [
      "import math \n",
      "\t\t\t\t\t\n",
      "#Input data\n",
      "g = 1.4\t\t\t\t\t#Ratio of specific heats\n",
      "Cp = 0.24\t\t\t\t\t#Specific heat at constant pressure in kJ/kg.K\n",
      "m = 20.5\t\t\t\t\t#Air flow rate in kg/sec\n",
      "p = [5.85,1.03,1.03,5.85]\t\t\t\t\t#Inlet and outlet pressure of turbine and compressor respectively in kg/cm**2\n",
      "T = [20+273,250+273,600+273,360+273]\t\t\t\t\t#Inlet and outlet temperatures of turbine and compressor respectively in degree C. In textbook instead of 360 degree C, 375 degree C is given\n",
      "\n",
      "\t\t\t\t\t\n",
      "#Calculations\n",
      "T2 = (T[0]*(p[3]/p[2])**((g-1)/g))\t\t\t\t\t#Temperature at the outlet of compressor in ideal cycle in K\n",
      "T4 = (T[2]/(p[0]/p[1])**((g-1)/g))\t\t\t\t\t#Temperature at the outlet of turbine in ideal cycle in K \n",
      "ic = ((T2-T[0])/(T[1]-T[0]))*100\t\t\t\t\t#Isentropic efficiency of compressor in percent\n",
      "it = ((T[2]-T[3])/(T[2]-T4))*100\t\t\t\t\t#Isentropic efficiency of turbine in percent\n",
      "Wc = (Cp*(T[1]-T[0]))\t\t\t\t\t#Workdone in compressor in kcal/kg of air\n",
      "Wt = (Cp*(T[2]-T[3]))\t\t\t\t\t#Workdone in turbine in kcal/kg of air\n",
      "N = (Wt-Wc)\t\t\t\t\t#Net workdone in kcal/kg of air\n",
      "P = (N*427*m)/75\t\t\t\t\t#Power output in H.P\n",
      "\n",
      "\t\t\t\t\t\n",
      "#Output\n",
      "print 'The net output is %3.0f H.P'%(P)\n"
     ],
     "language": "python",
     "metadata": {},
     "outputs": [
      {
       "output_type": "stream",
       "stream": "stdout",
       "text": [
        "The net output is 280 H.P\n"
       ]
      }
     ],
     "prompt_number": 4
    },
    {
     "cell_type": "heading",
     "level": 2,
     "metadata": {},
     "source": [
      "Example 25.5  Page no :  397"
     ]
    },
    {
     "cell_type": "code",
     "collapsed": false,
     "input": [
      "import math \n",
      "\t\t\t\t\t\n",
      "#Input data\n",
      "rp = 5.\t\t\t\t\t#Pressure ratio\n",
      "T1 = 15.+273\t\t\t\t\t#Inlet temperature in K\n",
      "nc = 80.\t\t\t\t\t#Adiabatic efficiency of the compressor in percent\n",
      "n = 1.4\t\t\t\t\t#Adiabatic index\n",
      "\n",
      "\t\t\t\t\t\n",
      "#Calculations\n",
      "T2 = (T1*rp**((n-1)/n))\t\t\t\t\t#Temperature at the outlet of compressor in ideal cycle in K. The textbook answer is wrong. Instead of 456 K, it is given as 452K\n",
      "T2i = (((nc/100)*T1)+T2-T1)/(nc/100)\t\t\t\t\t#Temperature at the outlet of the compressor in the actual cycle in K\n",
      "\n",
      "\t\t\t\t\t\n",
      "#Output\n",
      "print 'The temperature at the end of compression is %3.0f K'%(T2i)\n"
     ],
     "language": "python",
     "metadata": {},
     "outputs": [
      {
       "output_type": "stream",
       "stream": "stdout",
       "text": [
        "The temperature at the end of compression is 498 K\n"
       ]
      }
     ],
     "prompt_number": 6
    },
    {
     "cell_type": "heading",
     "level": 2,
     "metadata": {},
     "source": [
      "Example 25.6  Page no :  400"
     ]
    },
    {
     "cell_type": "code",
     "collapsed": false,
     "input": [
      "import math \n",
      "\t\t\t\t\t\n",
      "#Input data\n",
      "p1 = 5.62\t\t\t\t\t#Pressure of gas entering the turbine in kg/cm**2\n",
      "T1 = 1000+273\t\t\t\t\t#Temperature of gas entering the turbine in K\n",
      "p2 = 1.124\t\t\t\t\t#Pressure of gas leaving the turbine in kg/cm**2. In textbook it is given as 1.24 instead of 1.124\n",
      "n1 = 0.8\t\t\t\t\t#Isotropic efficiency of the turbine in ratio\n",
      "n = 1.36\t\t\t\t\t#Adiabatic index\n",
      "Cp = 0.25\t\t\t\t\t#Specific heat at constant pressure in kJ/kg.K\n",
      "\n",
      "\t\t\t\t\t\n",
      "#Calculations\n",
      "T2 = (T1/(p1/p2)**((n-1)/n))\t\t\t\t\t#Temperature at the end of adiabatic expansion in K\n",
      "dt = (T1-T2)\t\t\t\t\t#Isentropic temperature drop in K\n",
      "adt = (n1*dt)\t\t\t\t\t#Actual temperature drop in K\n",
      "T2i = (T1-adt)\t\t\t\t\t#Temperature at the end of actual expansion in K\n",
      "W = (Cp*(T1-T2i))\t\t\t\t\t#Workdone per kg of gas in kcal\n",
      "q = (W*427)/4500\t\t\t\t\t#H.P developed per kg of gas per minute \n",
      "t2i = (T2i-273)\t\t\t\t\t#Exhaust gas temperature in degree C\n",
      "\n",
      "\t\t\t\t\t\n",
      "#Output\n",
      "print '1) H.P developed per kg of gas per min is %3.2f  \\\n",
      "\\n2) Exhaust gas temperature is %3.1f degree C'%(q,t2i)\n"
     ],
     "language": "python",
     "metadata": {},
     "outputs": [
      {
       "output_type": "stream",
       "stream": "stdout",
       "text": [
        "1) H.P developed per kg of gas per min is 8.38  \n",
        "2) Exhaust gas temperature is 646.7 degree C\n"
       ]
      }
     ],
     "prompt_number": 7
    },
    {
     "cell_type": "heading",
     "level": 2,
     "metadata": {},
     "source": [
      "Example 25.7  Page no :  403"
     ]
    },
    {
     "cell_type": "code",
     "collapsed": false,
     "input": [
      "import math \n",
      "\t\t\t\t\t\n",
      "#Input data\n",
      "pt1 = [1.,15.+273]\t\t\t\t\t#Pressure and temperature at the inlet of compressor in kg/cm**2 and K respectively\n",
      "pt3 = [4.,650.+273]\t\t\t\t\t#Pressure and temperature at the inlet of turbine in kg/cm**2 and K respectively\n",
      "n = [85.,80.]\t\t\t\t\t#Isentropic efficiencies of turbine and compressor respectively in percent\n",
      "g = 1.4\t\t\t\t\t#Ratio of specific heats\n",
      "Cp = 0.24\t\t\t\t\t#Specific heat at constant pressure in kJ/kg.K\n",
      "\n",
      "\t\t\t\t\t\n",
      "#Calculations\n",
      "T2 = (pt1[1]*(pt3[0]/pt1[0])**((g-1)/g))\t\t\t\t\t#Temperature at the end of adiabatic compression in K\n",
      "T2i = (pt1[1]+((T2-pt1[1])/(n[1]/100)))\t\t\t\t\t#Temperature at the end of actual compression in K\n",
      "T4 = (pt3[1]/(pt3[0]/pt1[0])**((g-1)/g))\t\t\t\t\t#Temperature at the end of adiabatic expansion in K\n",
      "T4i = (pt3[1]-((pt3[1]-T4)*(n[0]/100)))\t\t\t\t\t#Temperature at the end of actual expansion in K\n",
      "Wt = (Cp*(pt3[1]-T4i))\t\t\t\t\t#Workdone in turbine in kcal/kg of air\n",
      "Wc = (Cp*(T2i-pt1[1]))\t\t\t\t\t#Workdone in compressor in kcal/kg of air\n",
      "N = (Wt-Wc)\t\t\t\t\t#Net workdone in kcal/kg of air\n",
      "q = (Cp*(pt3[1]-T2i))\t\t\t\t\t#Heat supplied in kcal/kg of air\n",
      "nt = (N/q)*100\t\t\t\t\t#Thermal efficiency in percent\n",
      "\n",
      "\t\t\t\t\t\n",
      "#Output\n",
      "print 'Thermal efficiency of the cycle is %3.2f percent'%(nt)\n"
     ],
     "language": "python",
     "metadata": {},
     "outputs": [
      {
       "output_type": "stream",
       "stream": "stdout",
       "text": [
        "Thermal efficiency of the cycle is 17.74 percent\n"
       ]
      }
     ],
     "prompt_number": 10
    },
    {
     "cell_type": "heading",
     "level": 2,
     "metadata": {},
     "source": [
      "Example 25.8  Page no :  404"
     ]
    },
    {
     "cell_type": "code",
     "collapsed": false,
     "input": [
      "import math \n",
      "\t\t\t\t\t\n",
      "#Input data\n",
      "p1 = 1.03\t\t\t\t\t#Inlet air pressure in kg/cm**2\n",
      "T1 = 15.5+273\t\t\t\t\t#Inlet temperature of air in K\n",
      "rp = 5.\t\t\t\t\t#Compression ratio\n",
      "nc = 85.\t\t\t\t\t#Isentropic efficiency of the compressor in percent\n",
      "T3 = 540.+273\t\t\t\t\t#Temperature of the gas entering the turbine in K\n",
      "p3 = 1.03\t\t\t\t\t#Pressure of gas entering the turbine in kg/cm**2\n",
      "nt = 80.\t\t\t\t\t#Isentropic efficiency of the turbine in percent\n",
      "O = 2500.\t\t\t\t\t#Net output in H.P\n",
      "fp = 0.07\t\t\t\t\t#Fall of pressure through the combustion chamber in kg/cm**2\n",
      "g = 1.4\t\t\t\t\t#Ratio of specific heats for both air and gas\n",
      "Cp = 0.24\t\t\t\t\t#Specific heat at constant pressure in kJ/kg.K for both air and gas\n",
      "\n",
      "\t\t\t\t\t\n",
      "#Calculations\n",
      "T2 = (T1*rp**((g-1)/g))\t\t\t\t\t#Temperature of air at the end of adiabatic compression in K\n",
      "T2i = (T1+((T2-T1)/(nc/100)))\t\t\t\t\t#Temperature of air at the end of actual compression in K\n",
      "T4 = (T3/((rp*p3-fp)/p3)**((g-1)/g))\t\t\t\t\t#Temperature of air at the end of adiabatic compression in K\n",
      "T4i = (T3-((T3-T4)*(nt/100)))\t\t\t\t\t#Temperature of air at the end of actual compression in K\n",
      "Wt = (Cp*(T3-T4i))\t\t\t\t\t#Workdone in turbine in kcal/kg of air\n",
      "Wc = (Cp*(T2i-T1))\t\t\t\t\t#Workdone in compressor in kcal/kg of air\n",
      "N = (Wt-Wc)\t\t\t\t\t#Net workdone in kcal/kg of air\n",
      "Fl = (O*4500)/(427*N*60)\t\t\t\t\t#Flow rate for 2500 H.P in kg/sec\n",
      "\n",
      "\t\t\t\t\t\n",
      "#Output\n",
      "print 'Flow rate of air is %3.1f kg/sec for a net output of %i H.P'%(Fl,O)\n"
     ],
     "language": "python",
     "metadata": {},
     "outputs": [
      {
       "output_type": "stream",
       "stream": "stdout",
       "text": [
        "Flow rate of air is 45.8 kg/sec for a net output of 2500 H.P\n"
       ]
      }
     ],
     "prompt_number": 12
    },
    {
     "cell_type": "heading",
     "level": 2,
     "metadata": {},
     "source": [
      "Example 25.9  Page no :  407"
     ]
    },
    {
     "cell_type": "code",
     "collapsed": false,
     "input": [
      "import math \n",
      "\t\t\t\t\t\n",
      "#Input data\n",
      "p1 = 1.\t\t\t\t\t#Inlet air pressure in kg/cm**2\n",
      "T1 = 16.+273\t\t\t\t\t#Inlet temperature of air in K\n",
      "rp = 3.5\t\t\t\t\t#Pressure ratio\n",
      "nc = 85.\t\t\t\t\t#Isentropic efficiency of the compressor in percent\n",
      "T3 = 500.+273\t\t\t\t\t#Temperature of the gas entering the turbine in K\n",
      "nt = 80.\t\t\t\t\t#Isentropic efficiency of the turbine in percent\n",
      "mc = 4.\t\t\t\t\t#Mass of air entering the compressor in tonnes/hour\n",
      "g = 1.4\t\t\t\t\t#Ratio of specific heats\n",
      "Cp = 0.24\t\t\t\t\t#Specific heat at constant pressure in kJ/kg.K\n",
      "\n",
      "\t\t\t\t\t\n",
      "#Calculations\n",
      "T2 = (T1*rp**((g-1)/g))\t\t\t\t\t#Temperature of air at the end of adiabatic compression in K\n",
      "dt = (T2-T1)\t\t\t\t\t#Isentropic temperature rise in K\n",
      "adt = (dt/(nc/100))\t\t\t\t\t#Actual temperature rise in K\n",
      "T2i = (T1+((T2-T1)/(nc/100)))\t\t\t\t\t#Temperature of air at the end of actual compression in K\n",
      "T4 = (T3/rp**((g-1)/g))\t\t\t\t\t#Temperature of air at the end of adiabatic compression in K\n",
      "T4i = (T3-((T3-T4)*(nt/100)))\t\t\t\t\t#Temperature of air at the end of actual compression in K\n",
      "Wt = (Cp*(T3-T4i))\t\t\t\t\t#Workdone in turbine in kcal/kg of air\n",
      "Wc = (Cp*(T2i-T1))\t\t\t\t\t#Workdone in compressor in kcal/kg of air\n",
      "N = (Wt-Wc)\t\t\t\t\t#Net workdone in kcal/kg of air\n",
      "q = (Cp*(T3-T2i))\t\t\t\t\t#Heat supplied in kcal/kg of air\n",
      "NHP = (N*427*mc*1000)/(60*4500)\t\t\t\t\t#Net Horse Power available in H.P\n",
      "nt = (N/q)*100\t\t\t\t\t#Thermal efficiency in percent\n",
      "\n",
      "\t\t\t\t\t\n",
      "#Output\n",
      "print 'i) The net Horse power available from this unit is %3.1f H.P  \\\n",
      "\\nii) The thermal efficiency of the plant is %3.2f percent'%(NHP,nt)\n"
     ],
     "language": "python",
     "metadata": {},
     "outputs": [
      {
       "output_type": "stream",
       "stream": "stdout",
       "text": [
        "i) The net Horse power available from this unit is 60.3 H.P  \n",
        "ii) The thermal efficiency of the plant is 11.77 percent\n"
       ]
      }
     ],
     "prompt_number": 14
    },
    {
     "cell_type": "heading",
     "level": 2,
     "metadata": {},
     "source": [
      "Example 25.10  Page no :  411"
     ]
    },
    {
     "cell_type": "code",
     "collapsed": false,
     "input": [
      "import math \n",
      "\t\t\t\t\t\n",
      "#Input data\n",
      "p1 = 1.02\t\t\t\t\t#Inlet air pressure in kg/cm**2\n",
      "T1 = 27.+273\t\t\t\t\t#Inlet temperature of air in K\n",
      "p2 = 4.08\t\t\t\t\t#Pressure after compression in kg/cm**2\n",
      "nc = 80.\t\t\t\t\t#Isentropic efficiency of compressor in percent\n",
      "mf = 1.\t\t\t\t\t#Mass of fuel in kg\n",
      "ma = 80.\t\t\t\t\t#Mass of air in kg\n",
      "nt = 85.\t\t\t\t\t#Isentropic efficiency of the turbine in percent\n",
      "CV = 10000.\t\t\t\t\t#Calorific value of fuel n kcal per kg\n",
      "g = 1.4\t\t\t\t\t#Ratio of specific heats\n",
      "Cp = 0.24\t\t\t\t\t#Specific heat at constant pressure in kJ/kg.K\n",
      "\n",
      "\t\t\t\t\t\n",
      "#Calculations\n",
      "rp = (p2/p1)\t\t\t\t\t#Pressure ratio\n",
      "T2 = (T1*rp**((g-1)/g))\t\t\t\t\t#Temperature of air at the end of adiabatic compression in K\n",
      "dt = (T2-T1)\t\t\t\t\t#Isentropic temperature rise in K\n",
      "adt = (dt/(nc/100))\t\t\t\t\t#Actual temperature rise in K\n",
      "T2i = (T1+((T2-T1)/(nc/100)))\t\t\t\t\t#Temperature of air at the end of actual compression in K\n",
      "q = (mf/ma)*CV\t\t\t\t\t#Heat supplied per kg of air in kcal\n",
      "T3 = (q/Cp)+T2i\t\t\t\t\t#Temperature of gas at the inlet of the turbine in K\n",
      "T4 = (T3/rp**((g-1)/g))\t\t\t\t\t#Temperature of air at the end of adiabatic expansion in K\n",
      "T4i = (T3-((T3-T4)*(nt/100)))\t\t\t\t\t#Temperature of air at the end of actual expansion in K\n",
      "Wt = (Cp*(T3-T4i)*((ma+mf)/ma))\t\t\t\t\t#Workdone in turbine in kcal/kg of air\n",
      "Wc = (Cp*(T2i-T1))\t\t\t\t\t#Workdone in compressor in kcal/kg of air\n",
      "N = (Wt-Wc)\t\t\t\t\t#Net workdone in kcal/kg of air\n",
      "nt = (N/q)*100\t\t\t\t\t#Thermal efficiency in percent\n",
      "\n",
      "\t\t\t\t\t\n",
      "#Output\n",
      "print 'a) The net work output of installation is %3.2f kcal/kg of air  \\\n",
      "\\nb) Overall efficiency of the plant is %3.1f percent'%(N,nt)\n"
     ],
     "language": "python",
     "metadata": {},
     "outputs": [
      {
       "output_type": "stream",
       "stream": "stdout",
       "text": [
        "a) The net work output of installation is 24.02 kcal/kg of air  \n",
        "b) Overall efficiency of the plant is 19.2 percent\n"
       ]
      }
     ],
     "prompt_number": 16
    },
    {
     "cell_type": "heading",
     "level": 2,
     "metadata": {},
     "source": [
      "Example 25.11  Page no :  413"
     ]
    },
    {
     "cell_type": "code",
     "collapsed": false,
     "input": [
      "import math \n",
      "\t\t\t\t\t\n",
      "#Input data\n",
      "rp = 5.\t\t\t\t\t#Pressure ratio\n",
      "T3 = 580.+273\t\t\t\t\t#Temperature of gas at the inlet of the turbine in K\n",
      "p1 = 1.03\t\t\t\t\t#Inlet air pressure in kg/cm**2\n",
      "T1 = 15.+273\t\t\t\t\t#Inlet temperature of air in K\n",
      "nc = 80.\t\t\t\t\t#Isentropic efficiency of compressor in percent\n",
      "no = 18.\t\t\t\t\t#Overall efficiency of the plant in percent\n",
      "Cpa = 0.239\t\t\t\t\t#Specific heat of air at constant pressure in kJ/kg.K\n",
      "Cpg = 0.261\t\t\t\t\t#Specific heat of gas at constant pressure in kJ/kg.K\n",
      "R = 29.27\t\t\t\t\t#haracteristic gas constant in kg.m/kg.K\n",
      "g = 1.4\t\t\t\t\t#Ratio of specific heats for air\n",
      "g1 = 1.355\t\t\t\t\t#Ratio of specific heats for gas\n",
      "\n",
      "\t\t\t\t\t\n",
      "#Calculations\n",
      "T2 = (T1*rp**((g-1)/g))\t\t\t\t\t#Temperature of air at the end of adiabatic compression in K\n",
      "T2i = (T1+((T2-T1)/(nc/100)))\t\t\t\t\t#Temperature of air at the end of actual compression in K\n",
      "q = (Cpg*(T3-T2i))\t\t\t\t\t#Heat supplied in kcal/kg of air\n",
      "Wc = (Cpa*(T2i-T1))\t\t\t\t\t#Workdone in compressor in kcal/kg of air\n",
      "Wt = ((no/100)*q)+Wc\t\t\t\t\t#Turbine work output in kcal/kg of air\n",
      "T4i = (T3-(Wt/Cpg))\t\t\t\t\t#Temperature of air at the end of actual expansion in K\n",
      "T4 = (T3/rp**((g1-1)/g1))\t\t\t\t\t#Temperature of air at the end of adiabatic expansion in K\n",
      "nt = ((T3-T4i)/(T3-T4))*100\t\t\t\t\t#Isentropic efficiency of turbine in percent\n",
      "\n",
      "\t\t\t\t\t\n",
      "#Output\n",
      "print 'Isentropic efficiency of turbine is %3.1f percent'%(nt)\n"
     ],
     "language": "python",
     "metadata": {},
     "outputs": [
      {
       "output_type": "stream",
       "stream": "stdout",
       "text": [
        "Isentropic efficiency of turbine is 87.3 percent\n"
       ]
      }
     ],
     "prompt_number": 17
    },
    {
     "cell_type": "heading",
     "level": 2,
     "metadata": {},
     "source": [
      "Example 25.12  Page no :  418"
     ]
    },
    {
     "cell_type": "code",
     "collapsed": false,
     "input": [
      "import math \n",
      "\t\t\t\t\t\n",
      "#Input data\n",
      "p1 = 1.03\t\t\t\t\t#Inlet air pressure in kg/cm**2\n",
      "T1 = 15.+273\t\t\t\t\t#Inlet temperature of air in K\n",
      "rp = 5.\t\t\t\t\t#Pressure ratio\n",
      "nc = 85.\t\t\t\t\t#Isentropic efficiency of the compressor in percent\n",
      "T3 = 540.+273\t\t\t\t\t#Temperature of the gas entering the turbine in K\n",
      "nt = 80.\t\t\t\t\t#Isentropic efficiency of the turbine in percent\n",
      "NHP = 2000.\t\t\t\t\t#Net horse power in H.P\n",
      "fp = 0.1\t\t\t\t\t#Fall of pressure through the combustion system in kg/cm**2\n",
      "g = 1.4\t\t\t\t\t#Ratio of specific heats for both air and gas\n",
      "Cp = 0.25\t\t\t\t\t#Specific heat at constant pressure in kJ/kg.K for both air and gas\n",
      "\n",
      "\t\t\t\t\t\n",
      "#Calculations\n",
      "T2i = (T1*rp**((g-1)/g))\t\t\t\t\t#Temperature of air at the end of adiabatic compression in K\n",
      "dt = (T2i-T1)\t\t\t\t\t#Isentropic temperature rise in K\n",
      "adt = (dt/(nc/100))\t\t\t\t\t#Actual temperature rise in K\n",
      "Wc = (Cp*adt)\t\t\t\t\t#Workdone in compressor in kcal/kg of air\n",
      "e = ((rp*p1-fp)/p1)\t\t\t\t\t#Expansion ratio\n",
      "T4i = (T3/e**((g-1)/g))\t\t\t\t\t#Temperature of air at the end of adiabatic expansion in K\n",
      "dt1 = (T3-T4i)\t\t\t\t\t#Isentropic temperature rise in K\n",
      "adt1 = (dt1/(nt/100))\t\t\t\t\t#Actual temperature rise in K\n",
      "Wt = (Cp*adt1)\t\t\t\t\t#Workdone in turbine in kcal/kg of air\n",
      "N = (Wt-Wc)\t\t\t\t\t#Net workdone in kcal/kg of air\n",
      "w = (NHP*75)/(427*9.8)\t\t\t\t\t#Flow rate in kg of air per sec\n",
      "\n",
      "\t\t\t\t\t\n",
      "#Output\n",
      "print 'Flow rate is %3.2f kg of air per sec'%(w)\n"
     ],
     "language": "python",
     "metadata": {},
     "outputs": [
      {
       "output_type": "stream",
       "stream": "stdout",
       "text": [
        "Flow rate is 35.85 kg of air per sec\n"
       ]
      }
     ],
     "prompt_number": 18
    },
    {
     "cell_type": "heading",
     "level": 2,
     "metadata": {},
     "source": [
      "Example 25.13  Page no :  422"
     ]
    },
    {
     "cell_type": "code",
     "collapsed": false,
     "input": [
      "import math \n",
      "\t\t\t\t\t\n",
      "#Input data\n",
      "nc = 75.\t\t\t\t\t#Isentropic efficiency of the compressor in percent\n",
      "nt = 85.\t\t\t\t\t#Isentropic efficiency of the turbine in percent\n",
      "nm = 98.\t\t\t\t\t#Mechanical efficiency in percent\n",
      "rp = 6.\t\t\t\t\t#Pressure ratio\n",
      "T3 = 727.+273\t\t\t\t\t#Temperature of the gas entering the turbine in K\n",
      "p1 = 1.\t\t\t\t\t#Inlet air pressure in kg/cm**2\n",
      "T1 = 15.5+273\t\t\t\t\t#Inlet temperature of air in K\n",
      "m = 2.2\t\t\t\t\t#Mass flow rate in kg/sec\n",
      "Cpa = 0.24\t\t\t\t\t#Specific heat of air at constant pressure in kJ/kg.K\n",
      "Cpg = 0.276\t\t\t\t\t#Specific heat of gas at constant pressure in kJ/kg.K\n",
      "g = 1.4\t\t\t\t\t#Ratio of specific heats for air\n",
      "g1 = 1.33\t\t\t\t\t#Ratio of specific heats for gas\n",
      "\n",
      "\t\t\t\t\t\n",
      "#Calculations\n",
      "T2 = (T1*rp**((g-1)/g))\t\t\t\t\t#Temperature of air at the end of adiabatic compression in K\n",
      "T2i = (T1+((T2-T1)/(nc/100)))\t\t\t\t\t#Temperature of air at the end of actual compression in K\n",
      "T4 = (T3/rp**((g1-1)/g1))\t\t\t\t\t#Temperature of air at the end of adiabatic compression in K\n",
      "T4i = (T3-((T3-T4)*(nt/100)))\t\t\t\t\t#Temperature of air at the end of actual compression in K\n",
      "Wt = (Cpg*(T3-T4i))\t\t\t\t\t#Workdone in turbine in kcal/kg of air\n",
      "Wc = (Cpa*(T2i-T1))\t\t\t\t\t#Workdone in compressor in kcal/kg of air\n",
      "N = (Wt-Wc)\t\t\t\t\t#Net workdone in kcal/kg of air\n",
      "P = (N*m*427)/(75*(nm/100))\t\t\t\t\t#Power output of the plant in H.P\n",
      "\n",
      "\t\t\t\t\t\n",
      "#Output\n",
      "print 'Power output of the plant is %3.0f H.P'%(P)\n"
     ],
     "language": "python",
     "metadata": {},
     "outputs": [
      {
       "output_type": "stream",
       "stream": "stdout",
       "text": [
        "Power output of the plant is 287 H.P\n"
       ]
      }
     ],
     "prompt_number": 19
    },
    {
     "cell_type": "heading",
     "level": 2,
     "metadata": {},
     "source": [
      "Example 25.14  Page no :  425"
     ]
    },
    {
     "cell_type": "code",
     "collapsed": false,
     "input": [
      "import math \n",
      "\t\t\t\t\t\n",
      "#Input data\n",
      "T1 = 15.+273\t\t\t\t\t#Inlet temperature of air in K\n",
      "rp = 4.\t\t\t\t\t#Pressure ratio\n",
      "T4 = 560.+273\t\t\t\t\t#Maximum temperature of the cycle in K\n",
      "nc = 83.\t\t\t\t\t#Isentropic efficiency of the compressor in percent\n",
      "nt = 86.\t\t\t\t\t#Isentropic efficiency of the turbine in percent\n",
      "x = 75.\t\t\t\t\t#Heat exchanger making use of heat available in percent\n",
      "g = 1.4\t\t\t\t\t#Ratio of specific heats\n",
      "\n",
      "\t\t\t\t\t\n",
      "#Calculations\n",
      "T5i = (T4*(1/rp)**((g-1)/g))\t\t\t\t\t#Temperature in K\n",
      "dt = (T4-T5i)\t\t\t\t\t#Isometric temperature drop through turbine in degree C\n",
      "ta = ((nt/100)*dt)\t\t\t\t\t#Actual temperature drop in degree C\n",
      "T5 = (T4-ta)\t\t\t\t\t#Temperature in K\n",
      "T2i = (T1*rp**((g-1)/g))\t\t\t\t\t#Temperature in K\n",
      "tc = (T2i-T1)\t\t\t\t\t#Temperature change in degree C\n",
      "T2 = (tc/(nc/100))+T1\t\t\t\t\t#Temperature in K\n",
      "q = (T5-T2)\t\t\t\t\t#Available heat in exchanger in kcal per kg *Cp\n",
      "T3 = ((q*(x/100))+T2)\t\t\t\t\t#Temperature in K\n",
      "\t\t\t\t\t#Without heat exchanger\n",
      "qw = (T4-T2)\t\t\t\t\t#Heat supplied *Cp in kcal/kg\n",
      "tw = (T4-T5)\t\t\t\t\t#Turbine work *Cp in kcal/kg\n",
      "cw = (T2-T1)\t\t\t\t\t#Compressor work *Cp in kcal/kg\n",
      "nw = (tw-cw)\t\t\t\t\t#Net workdone *Cp in kcal/kg\n",
      "no = (nw/qw)*100\t\t\t\t\t#Overall efficiency in percent\n",
      "\t\t\t\t\t#With heat exchanger\n",
      "qs = (T4-T3)\t\t\t\t\t#Heat supplied *Cp in kcal/kg\n",
      "no1 = (nw/qs)*100\t\t\t\t\t#Overall efficiency in percent\n",
      "\n",
      "\t\t\t\t\t\n",
      "#Output\n",
      "print 'The overall efficiency  \\\n",
      "\\na) without heat exchanger is %3.1f percent  \\\n",
      "\\nb) with heat exchanger making use of %i percent of heat available is %3.1f percent'%(no,x,no1)\n"
     ],
     "language": "python",
     "metadata": {},
     "outputs": [
      {
       "output_type": "stream",
       "stream": "stdout",
       "text": [
        "The overall efficiency  \n",
        "a) without heat exchanger is 17.4 percent  \n",
        "b) with heat exchanger making use of 75 percent of heat available is 24.3 percent\n"
       ]
      }
     ],
     "prompt_number": 20
    },
    {
     "cell_type": "heading",
     "level": 2,
     "metadata": {},
     "source": [
      "Example 25.15  Page no :  427"
     ]
    },
    {
     "cell_type": "code",
     "collapsed": false,
     "input": [
      "import math \n",
      "\t\t\t\t\t\n",
      "#Input data\n",
      "p1 = 1.\t\t\t\t\t#Initial pressure in kg/cm**2\n",
      "T1 = 15.+273\t\t\t\t\t#Initial temperature in K\n",
      "p2 = 5.5\t\t\t\t\t#Pressure after compression in kg/cm**2\n",
      "T3 = 750.+273\t\t\t\t\t#Temperature at the entrance of turbine in K\n",
      "v = 225.\t\t\t\t\t#Speed in m/s\n",
      "x = 70.\t\t\t\t\t#Percentage\n",
      "in1 = 75.\t\t\t\t\t#Isentropic efficiency of compressor in percent\n",
      "Cp = 0.24\t\t\t\t\t#Specific heat at constant pressure in kJ/kg.K\n",
      "g = 1.4\t\t\t\t\t#Ratio of specific heats\n",
      "\n",
      "\t\t\t\t\t\n",
      "#Calculations\n",
      "T2 = (T1*(p2/p1)**((g-1)/g))\t\t\t\t\t#Temperature in K\n",
      "at = (T2-T1)/(in1/100)\t\t\t\t\t#Actual temperature rise in the compressor in K\n",
      "T2i = (T1+at)\t\t\t\t\t#Temperature in K\n",
      "T4 = (T3/(p2/p1)**((g-1)/g))\t\t\t\t\t#Temperature in K\n",
      "to = (Cp*(T3-T4))\t\t\t\t\t#Theoritical turbine output in kcal/kg of air\n",
      "ci = (Cp*(T2i-T1))\t\t\t\t\t#Actual compressor input in kcal/kg of air\n",
      "ke = (v**2/(2*9.81*427))\t\t\t\t\t#Kinetic energy in gas leaving the exhaust annulus in kcal/kg\n",
      "dT34 = (ci+ke)/((x/100)*Cp)\t\t\t\t\t#Change in temperature in K\n",
      "r = 1/(1-(dT34/T3))**(g/(g-1))\t\t\t\t\t#Ratio of pressures\n",
      "p4 = (r/p2)\t\t\t\t\t#Pressure in kg/cm**2\n",
      "\n",
      "\t\t\t\t\t\n",
      "#Output\n",
      "print 'The pressure of the gases in the turbine exhaust annulus is %3.1f kg/cm**2'%(p4)\n"
     ],
     "language": "python",
     "metadata": {},
     "outputs": [
      {
       "output_type": "stream",
       "stream": "stdout",
       "text": [
        "The pressure of the gases in the turbine exhaust annulus is 0.9 kg/cm**2\n"
       ]
      }
     ],
     "prompt_number": 22
    },
    {
     "cell_type": "heading",
     "level": 2,
     "metadata": {},
     "source": [
      "Example 25.16  Page no :  431"
     ]
    },
    {
     "cell_type": "code",
     "collapsed": false,
     "input": [
      "import math \n",
      "\t\t\t\t\t\n",
      "#Input data\n",
      "p = [1.,5]\t\t\t\t\t#Pressures in atm\n",
      "T1 = 288\t\t\t\t\t#Temperature in K\n",
      "T3 = 650+273\t\t\t\t\t#Temperature in K\n",
      "er = 0.85\t\t\t\t\t#Efficiency ratio\n",
      "x = 0.72\t\t\t\t\t#Effectiveness of heat exchanger\n",
      "Cp = 0.24\t\t\t\t\t#Specific heat at constant pressure in kJ/kg.K\n",
      "g = 1.4\t\t\t\t\t#Ratio of specific heats\n",
      "\n",
      "\t\t\t\t\t\n",
      "#Calculations\n",
      "T2 = (T1*(p[1]/p[0])**((g-1)/g))\t\t\t\t\t#Temperature in K\n",
      "T2i = (T1+((T2-T1)/er))\t\t\t\t\t#Temperature in K\n",
      "T4 = (T3/(p[1]/p[0])**((g-1)/g))\t\t\t\t\t#Temperature in K\n",
      "T4i = (T3-(er*(T3-T4)))\t\t\t\t\t#Temperature in K\n",
      "Tc = ((x*(T4i-T2i))+T2i)\t\t\t\t\t#Temperature in K\n",
      "W = ((Cp*((T3-T4i)-(T2i-T1))))\t\t\t\t\t#Workdone in kcal/kg\n",
      "q = (Cp*(T3-Tc))\t\t\t\t\t#Heat supplied in kcal/kg\n",
      "n = (W/q)*100\t\t\t\t\t#Efficiency in percent\n",
      "\n",
      "\t\t\t\t\t\n",
      "#Output\n",
      "print 'The heat efficiency of the plant is %3.1f percent'%(n)\n"
     ],
     "language": "python",
     "metadata": {},
     "outputs": [
      {
       "output_type": "stream",
       "stream": "stdout",
       "text": [
        "The heat efficiency of the plant is 27.6 percent\n"
       ]
      }
     ],
     "prompt_number": 23
    },
    {
     "cell_type": "heading",
     "level": 2,
     "metadata": {},
     "source": [
      "Example 25.17  Page no :  435"
     ]
    },
    {
     "cell_type": "code",
     "collapsed": false,
     "input": [
      "import math \n",
      "\t\t\t\t\t\n",
      "#Input data\n",
      "T1 = 15.+273\t\t\t\t\t#Inlet temperature of air in K\n",
      "p1 = 1.03\t\t\t\t\t#Inlet pressure of air in kg/cm**2\n",
      "rp = 5.\t\t\t\t\t#Pressure ratio\n",
      "T3 = 815.+273\t\t\t\t\t#Temperature of air entering the turbine in K\n",
      "nc = 0.83\t\t\t\t\t#Adiabatic efficiency of the compressor\n",
      "nt = 0.92\t\t\t\t\t#Internal engine efficiency of the turbine\n",
      "nr = 0.65\t\t\t\t\t#Effectiveness of regenerator\n",
      "p2 = 2.45\t\t\t\t\t#Pressure in kg/cm**2 \n",
      "T6 = T1\t\t\t\t\t#Temperature in K\n",
      "T9 = T3\t\t\t\t\t#Temperature in K\n",
      "Cp = 0.24\t\t\t\t\t#Specific heat at constant pressure in kJ/kg.K\n",
      "g = 1.4\t\t\t\t\t#Ratio of specific heat\n",
      "\n",
      "\t\t\t\t\t\n",
      "#Calculations\n",
      "T2 = (T1*rp**((g-1)/g))\t\t\t\t\t#Temperature in K\n",
      "T4 = (T3/rp**((g-1)/g))\t\t\t\t\t#Temperature in K\n",
      "Wt = (Cp*(T3-T4))\t\t\t\t\t#Isentropic work done in the turbine in kcal/kg of air\n",
      "Wc = (Cp*(T2-T1))\t\t\t\t\t#Isentropic work done in the compressor in kcal/kg of air\n",
      "Wr = (Wt/Wc)\t\t\t\t\t#Work ratio\n",
      "qa = (Cp*(T3-T2))\t\t\t\t\t#Heat added in kcal/kg of air\n",
      "nth = ((Wt-Wc)/qa)*100\t\t\t\t\t#Thermal efficiency in percent\n",
      "T2i = (T1+((T2-T1)/nc))\t\t\t\t\t#Temperature in K\n",
      "T4i = (T3-(nt*(T3-T4)))\t\t\t\t\t#Temperature in K\n",
      "Wti = (Cp*(T3-T4i))\t\t\t\t\t#work done in the turbine in kcal/kg of air\n",
      "Wci = (Cp*(T2i-T1))\t\t\t\t\t#work done in the compressor in kcal/kg of air\n",
      "Wri = (Wti/Wci)\t\t\t\t\t#Work ratio\n",
      "qai = (Cp*(T3-T2i))\t\t\t\t\t#Heat added in kcal/kg of air\n",
      "nthi = ((Wti-Wci)/qai)*100\t\t\t\t\t#Thermal efficiency in percent\n",
      "T2ii = (T2i+((T4i-T2i)*nr))\t\t\t\t\t#Temperature in K\n",
      "qaii = (Cp*(T3-T2ii))\t\t\t\t\t#Heat added in kcal/kg of air\n",
      "nthii = ((Wti-Wci)/qaii)*100\t\t\t\t\t#Thermal efficiency in percent\n",
      "T5 = (T1*(p2/p1)**((g-1)/g))\t\t\t\t\t#Temperature in K\n",
      "T5i = (T1+((T5-T1)/nc))\t\t\t\t\t#Temperature in K\n",
      "T7 = (T1*((rp*p1)/p2)**((g-1)/g))\t\t\t\t\t#Temperature in K\n",
      "T7i = (T6+((T7-T6)/nc))\t\t\t\t\t#Temperature in K\n",
      "T7ii = (T7i+((T4i-T7i)*nr))\t\t\t\t\t#Temperature in K\n",
      "Wcomp = (Cp*((T5i-T1)+(T7i-T6)))\t\t\t\t\t#Compressor work in kcal/kg of air\n",
      "Wratio = (Wti/Wcomp)\t\t\t\t\t#Work ratio\n",
      "qaa = (Cp*(T3-T7ii))\t\t\t\t\t#Heat added in kcal/kg of air\n",
      "nthe = ((Wti-Wcomp)/qaa)*100\t\t\t\t\t#Thermal efficiency in percent\n",
      "T8 = (T3*(p2/(rp*p1))**((g-1)/g))\t\t\t\t\t#Temperature in K\n",
      "T8i = (T3-((T3-T8)*nt))\t\t\t\t\t#Temperature in K\n",
      "T10 = (T9/(p2/p1)**((g-1)/g))\t\t\t\t\t#Temperature in K\n",
      "T10i = (T9-((T9-T10)*nt))\t\t\t\t\t#Temperature in K\n",
      "T2iii = (T2i+((T10i-T2i)*nr))\t\t\t\t\t#Temperature in K\n",
      "Wturb = (Cp*((T3-T8i)+(T3-T10i)))\t\t\t\t\t#Compressor work in kcal/kg of air\n",
      "Wratioi = (Wturb/Wci)\t\t\t\t\t#Work ratio\n",
      "qaai = (Cp*((T3-T2iii)+(T9-T8i)))\t\t\t\t\t#Heat added in kcal/kg of air\n",
      "nthei = ((Wturb-Wci)/qaai)*100\t\t\t\t\t#Thermal efficiency in percent\n",
      "T7iii = (T7i+((T10i-T7i)*nr))\t\t\t\t\t#Temperature in K\n",
      "Wratioii = (Wturb/Wcomp)\t\t\t\t\t#Work ratio\n",
      "qaaii = (Cp*((T3-T7iii)+(T9-T8i)))\t\t\t\t\t#Heat added in kcal/kg of air\n",
      "ntheii = ((Wturb-Wcomp)/qaaii)*100\t\t\t\t\t#Thermal efficiency in percent\n",
      "\n",
      "\t\t\t\t\t\n",
      "#Output\n",
      "print 'Condition     Work ratio     Thermal efficiencyin percent)   \\\n",
      "\\na)           %3.3f                %3.1f   \\\n",
      "\\nb)           %3.2f                 %3.1f   \\\n",
      "\\nc)           %3.2f                 %3.1f   \\\n",
      "\\nd)           %3.2f                 %3.1f   \\\n",
      "\\ne)           %3.3f                %3.1f   \\\n",
      "\\nf)           %3.3f                %3.1f'%(Wr,nth,Wri,nthi,Wri,nthii,Wratio,nthe,Wratioi,nthei,Wratioii,ntheii)   \n"
     ],
     "language": "python",
     "metadata": {},
     "outputs": [
      {
       "output_type": "stream",
       "stream": "stdout",
       "text": [
        "Condition     Work ratio     Thermal efficiencyin percent)   \n",
        "a)           2.385                36.9   \n",
        "b)           1.82                 27.9   \n",
        "c)           1.82                 37.1   \n",
        "d)           2.06                 38.6   \n",
        "e)           2.029                38.4   \n",
        "f)           2.289                39.5\n"
       ]
      }
     ],
     "prompt_number": 24
    },
    {
     "cell_type": "heading",
     "level": 2,
     "metadata": {},
     "source": [
      "Example 25.18  Page no :  435"
     ]
    },
    {
     "cell_type": "code",
     "collapsed": false,
     "input": [
      "import math \n",
      "\t\t\t\t\t\n",
      "#Input data\n",
      "p = [1.,9.]\t\t\t\t\t#Pressures in ata\n",
      "T = [25.+273,1250.+273]\t\t\t\t\t#Minimum and maximum temperatures in K\n",
      "n = 0.83\t\t\t\t\t#Compressor and turbine efficiencies\n",
      "Cp = 0.24\t\t\t\t\t#Specific heat at constant pressure in kJ/kg.K\n",
      "g = 1.4\t\t\t\t\t#Ratio of specific heats\n",
      "x = 0.65\t\t\t\t\t#Cycle with 65% regeneration\n",
      "\n",
      "\t\t\t\t\t\n",
      "#Calculations\n",
      "\t\t\t\t\t#(a)Without regeneration\n",
      "ip = math.sqrt(p[0]*p[1])\t\t\t\t\t#Intermediate pressure in ata\n",
      "T2 = (T[0]*(ip/p[0])**((g-1)/g))\t\t\t\t\t#Temperature in K\n",
      "T3 = (T[0]+((T2-T[0])/n))\t\t\t\t\t#Temperature in K\n",
      "T4 = T[0]\t\t\t\t\t#Temperature in K\n",
      "T5 = T2\t\t\t\t\t#Temperature in K\n",
      "T6 = T3\t\t\t\t\t#Temperature in K\n",
      "T7 = T[1]\t\t\t\t\t#Temperature in K\n",
      "T8 = T7/(ip/p[0])**((g-1)/g)\t\t\t\t\t#Temperature in K\n",
      "T9 = (T7-((T7-T8)*n))\t\t\t\t\t#Temperature in K\n",
      "T10 = T7\t\t\t\t\t#Temperature in K\n",
      "T11 = T8\t\t\t\t\t#Temperature in K\n",
      "T12 = T9\t\t\t\t\t#Temperature in K\n",
      "Wc = (2*Cp*(T3-T[0]))\t\t\t\t\t#Work of compression in kcal/kg of air\n",
      "We = (2*Cp*(T7-T8))\t\t\t\t\t#Work of expansion in kcal/kg of air\n",
      "NW = (We-Wc)\t\t\t\t\t#Net output in kcal/kg of air\n",
      "qi = (Cp*((T7-T6)+(T10-T9)))\t\t\t\t\t#Heat input in kcal/kg of air\n",
      "nth = (NW/qi)*100\t\t\t\t\t#Thermal efficiency in percent\n",
      "\n",
      "\t\t\t\t\t#(b)Cycle efficiency with 65% regeneration\n",
      "Tg = (T6+(x*(T12-T6)))\t\t\t\t\t#Temperature in K\n",
      "q = (Cp*((T7-Tg)+(T10-T9)))\t\t\t\t\t#Heat input in kcal/kg of air\n",
      "nthi = (NW/q)*100\t\t\t\t\t#Thermal efficiency in percent\n",
      "\n",
      "\t\t\t\t\t#(c)Cycle efficiency with ideal regeneration\n",
      "Eg = T12\t\t\t\t\t#Temperature in K\n",
      "qa = (2*Cp*(T7-Eg))\t\t\t\t\t#Heat added in kcal/kg of air\n",
      "nthii = (NW/qa)*100\t\t\t\t\t#Thermal efficiency in percent\n",
      "\n",
      "\t\t\t\t\t\n",
      "#Output\n",
      "print 'a)Cycle efficiency without regeneration is %3.1f percent  \\\n",
      "\\nb)Cycle efficiency with 65 percent regeneration is %3.1f percent  \\\n",
      "\\nc)Cycle efficiency with ideal regeneration is %3.0f percent'%(nth,nthi,nthii)\n"
     ],
     "language": "python",
     "metadata": {},
     "outputs": [
      {
       "output_type": "stream",
       "stream": "stdout",
       "text": [
        "a)Cycle efficiency without regeneration is 38.8 percent  \n",
        "b)Cycle efficiency with 65 percent regeneration is 58.9 percent  \n",
        "c)Cycle efficiency with ideal regeneration is  82 percent\n"
       ]
      }
     ],
     "prompt_number": 25
    },
    {
     "cell_type": "heading",
     "level": 2,
     "metadata": {},
     "source": [
      "Example 25.19  Page no :  435"
     ]
    },
    {
     "cell_type": "code",
     "collapsed": false,
     "input": [
      "import math \n",
      "\t\t\t\t\t\n",
      "#Input data\n",
      "p1 = 1.\t\t\t\t\t#Inlet pressure of compressor in atm\n",
      "T1 = 27.+273\t\t\t\t\t#Inle temperature of compressor in K\n",
      "ic = 0.8\t\t\t\t\t#Isentropic efficiency of compressor\n",
      "ma = 20.5\t\t\t\t\t#Mass flow rate of air in kg/sec\n",
      "T3 = 650.+273\t\t\t\t\t#Inlet temperatures of both turbines in K\n",
      "p2 = 5.\t\t\t\t\t#Inlet pressure of turbine in atm\n",
      "it = 0.92\t\t\t\t\t#Internal engine efficiency for both the turbines\n",
      "CV = 10000.\t\t\t\t\t#Calorific value in kcal/kg\n",
      "Cpa = 0.24\t\t\t\t\t#Specific heat at constant pressure of air in kJ/kg.K\n",
      "ga = 1.4\t\t\t\t\t#Ratio of specific heats for air\n",
      "Cpg = 0.276\t\t\t\t\t#Specific heat at constant pressure of gas in kJ/kg.K\n",
      "gs = 1.33\t\t\t\t\t#Ratio of specific heats for gas\n",
      "\n",
      "\t\t\t\t\t\n",
      "#Calculations\n",
      "T2 = (T1*(p2/p1)**((ga-1)/ga))\t\t\t\t\t#Temperature in K\n",
      "T2i = (T1+((T2-T1)/ic))\t\t\t\t\t#Temperature in K\n",
      "T4 = (T3/(p2/p1)**((gs-1)/gs))\t\t\t\t\t#Temperature in K\n",
      "T4i = (T3-((T3-T4)*it))\t\t\t\t\t#Temperature in K\n",
      "Wc = (Cpa*(T2i-T1))\t\t\t\t\t#Work of compression in kcal/kg of air\n",
      "We = (Cpg*(T3-T4i))\t\t\t\t\t#Work of expansion in kcal/kg of air\n",
      "mx = (Wc/We)\t\t\t\t\t#Gas required per kg of air compressed in kg\n",
      "F = ((Cpa*T2i)-(Cpg*T3))/(Cpg*T3-CV)\t\t\t\t\t#Amount of fuel supplied per kg of air in kg\n",
      "Wg = 1+F\t\t\t\t\t#Weight of gases per kg of air in kg\n",
      "Wt = (Wg-mx)\t\t\t\t\t#Gases supplied to turbine in kg\n",
      "Ot = ((Wt*ma*427*We)/75)\t\t\t\t\t\n",
      "#Output of turbine in H.P\n",
      "nth = ((Wt*We)/(CV*F))*100\t\t\t\t\t#Thermal efficiency in percent\n",
      "\n",
      "\t\t\t\t\t\n",
      "#Output\n",
      "print 'Output is %3.0f H.P  \\\n",
      "\\nThermal efficiency is %3.2f percent'%(Ot,nth)\n"
     ],
     "language": "python",
     "metadata": {},
     "outputs": [
      {
       "output_type": "stream",
       "stream": "stdout",
       "text": [
        "Output is 2994 H.P  \n",
        "Thermal efficiency is 19.20 percent\n"
       ]
      }
     ],
     "prompt_number": 26
    },
    {
     "cell_type": "heading",
     "level": 2,
     "metadata": {},
     "source": [
      "Example 25.20  Page no :  435"
     ]
    },
    {
     "cell_type": "code",
     "collapsed": false,
     "input": [
      "import math \n",
      "\t\t\t\t\t\n",
      "#Input data\n",
      "q = 2250.\t\t\t\t\t#Heat supplied per sec in kcal\n",
      "\t\t\t\t\t\n",
      "#Input data from Fig. 25.34 from page no. 652\n",
      "T1 = 200.\t\t\t\t\t#Temperature in K\n",
      "T2 = 100.\t\t\t\t\t#Temperature in K\n",
      "T3 = 625.\t\t\t\t\t#Temperature in K\n",
      "T4 = 550.\t\t\t\t\t#Temperature in K\n",
      "Cp = 0.24\t\t\t\t\t#Specific heat at constant pressure in kJ/kg.K\n",
      "g = 1.4\t\t\t\t\t#Ratio of specific heats\n",
      "\n",
      "\t\t\t\t\t\n",
      "#Calculations\n",
      "Wc = (2*Cp*(T1-T2))\t\t\t\t\t#Work of compression in kcal/kg of air\n",
      "We = (2*Cp*(T3-T4))\t\t\t\t\t#Work of expansion in kcal/kg of air\n",
      "NW = (Wc-We)\t\t\t\t\t#Net output in kcal/kg of air\n",
      "qi = (2*Cp*(T3-T4))\t\t\t\t\t#Heat input in kcal/kg of air\n",
      "nth = (NW/qi)*100\t\t\t\t\t#Thermal efficiency in percent\n",
      "rf = (q/qi)\t\t\t\t\t#Rate of flow of working substance in kg/sec\n",
      "O = (NW*rf*427)/75\t\t\t\t\t#Total output in H.P\n",
      "\n",
      "\t\t\t\t\t\n",
      "#Output\n",
      "print 'Output is %3.0f H.P  \\\n",
      "\\nThermal efficiency is %3.1f percent'%(O,nth)\n"
     ],
     "language": "python",
     "metadata": {},
     "outputs": [
      {
       "output_type": "stream",
       "stream": "stdout",
       "text": [
        "Output is 4270 H.P  \n",
        "Thermal efficiency is 33.3 percent\n"
       ]
      }
     ],
     "prompt_number": 27
    },
    {
     "cell_type": "heading",
     "level": 2,
     "metadata": {},
     "source": [
      "Example 25.22  Page no :  436"
     ]
    },
    {
     "cell_type": "code",
     "collapsed": false,
     "input": [
      "import math \n",
      "\t\t\t\t\t\n",
      "#Input data\n",
      "p = [5.,20.]\t\t\t\t\t#Pressure limits in atm\n",
      "T3 = 650.+273\t\t\t\t\t#Temperature in K\n",
      "T1 = 60.+273\t\t\t\t\t#Temperature in K\n",
      "T2 = T1\t\t\t\t\t#Temperature in K\n",
      "Cp = 0.24\t\t\t\t\t#Specific heat at constant pressure in kJ/kg.K\n",
      "g = 1.4\t\t\t\t\t#Ratio of specific heats\n",
      "R = 29.27\t\t\t\t\t#Characteristic gas constant in kg.m/kg.K\n",
      "J = 427.\t\t\t\t\t#Mechanical equivalent of heat in kg.m/kcal\n",
      "\n",
      "\t\t\t\t\t\n",
      "#Calculations\n",
      "T4 = T3/(p[1]/p[0])**((g-1)/g)\t\t\t\t\t#Temperature in K\n",
      "Wc = ((R*T1)/J)*math.log(p[1]/p[0])\t\t\t\t\t#Compression work in kcal/kg\n",
      "qs = (Cp*(T3-T2))\t\t\t\t\t#Heat supplied at constant pressure in kcal/kg\n",
      "qre = (Cp*(T4-T1))\t\t\t\t\t#Heat ejected during process 4-1 in kcal/kg\n",
      "nth = ((qs-Wc-qre)/(qs-qre))*100\t\t\t\t\t#Thermal efficiency in percent\n",
      "nc = ((T3-T1)/T3)*100\t\t\t\t\t#Carnot efficiency in percent\n",
      "r = (nth/nc)*100\t\t\t\t\t#Ratio of air standard efficiency to carnot efficiency in percent\n",
      "\n",
      "\t\t\t\t\t\n",
      "#Output\n",
      "print 'a) air standard efficiency of the cycle is %3.1f percent  \\\n",
      "\\nb) carnot efficiency is %3.0f percent  \\\n",
      "\\nc) Ratio of air standard efficiency to carnot efficiency is %3.1f percent'%(nth,nc,r)\n"
     ],
     "language": "python",
     "metadata": {},
     "outputs": [
      {
       "output_type": "stream",
       "stream": "stdout",
       "text": [
        "a) air standard efficiency of the cycle is 56.3 percent  \n",
        "b) carnot efficiency is  64 percent  \n",
        "c) Ratio of air standard efficiency to carnot efficiency is 88.1 percent\n"
       ]
      }
     ],
     "prompt_number": 29
    }
   ],
   "metadata": {}
  }
 ]
}