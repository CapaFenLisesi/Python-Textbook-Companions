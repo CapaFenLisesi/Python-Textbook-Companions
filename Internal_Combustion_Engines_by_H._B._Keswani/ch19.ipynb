{
 "metadata": {
  "name": "",
  "signature": "sha256:2e4ee2364140e55a3d90d649c8582a33c5c2d95f57ec4b00aa0dee8989c40b8e"
 },
 "nbformat": 3,
 "nbformat_minor": 0,
 "worksheets": [
  {
   "cells": [
    {
     "cell_type": "heading",
     "level": 1,
     "metadata": {},
     "source": [
      "Chapter 19 : Two Stroke Engines"
     ]
    },
    {
     "cell_type": "heading",
     "level": 2,
     "metadata": {},
     "source": [
      "Example 19.3  Page no :  334"
     ]
    },
    {
     "cell_type": "code",
     "collapsed": false,
     "input": [
      "import math \n",
      "\t\t\t\t\t\n",
      "#Input data\n",
      "d = 11.25\t\t\t\t\t#Bore in cm\n",
      "l = 15.\t\t\t\t\t#Stroke in cm\n",
      "r = 7.\t\t\t\t\t#Compression ratio\n",
      "N = 1800.\t\t\t\t\t#Speed in r.p.m\n",
      "a = 4.5\t\t\t\t\t#Air supply in kg/min\n",
      "Ta = 72.+273\t\t\t\t\t#Temperature of air in K\n",
      "af = 14.3\t\t\t\t\t#Air fuel ratio\n",
      "ep = 1.\t\t\t\t\t#Exhaust pressure in kg/cm**2\n",
      "R = 29.27\t\t\t\t\t#Characteristic gas constant in kg.m/kg.degree C\n",
      "\n",
      "\t\t\t\t\t\n",
      "#Calculations\n",
      "Vc = ((r/(r-1))*(3.14/4)*(d/100)**2*(l/100))\t\t\t\t\t#Swept volume in m**3\n",
      "Wa = (Vc*N*ep*10**4)/(R*Ta)\t\t\t\t\t#Ideal air capacity in kg/min\n",
      "sr = (a/Wa)\t\t\t\t\t#Scavenging ratio\n",
      "sn = (1-math.exp(-sr))\t\t\t\t\t#Scavenging efficiency \n",
      "nt = (sn/sr)\t\t\t\t\t#Trapping efficiency\n",
      "\n",
      "\t\t\t\t\t\n",
      "#Output\n",
      "print 'a) Ideal air capacity is %3.2f kg/min  \\\n",
      "\\nb) Scavenging ratio is %3.2f  \\\n",
      "\\nc) Scavenging efficiency is %3.3f  \\\n",
      "\\nd) Trapping efficiency is %3.2f'%(Wa,sr,sn,nt)\n"
     ],
     "language": "python",
     "metadata": {},
     "outputs": [
      {
       "output_type": "stream",
       "stream": "stdout",
       "text": [
        "a) Ideal air capacity is 3.10 kg/min  \n",
        "b) Scavenging ratio is 1.45  \n",
        "c) Scavenging efficiency is 0.766  \n",
        "d) Trapping efficiency is 0.53\n"
       ]
      }
     ],
     "prompt_number": 3
    }
   ],
   "metadata": {}
  }
 ]
}