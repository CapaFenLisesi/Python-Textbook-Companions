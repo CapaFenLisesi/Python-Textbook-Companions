{
 "metadata": {
  "name": "",
  "signature": "sha256:c61eb8e9224191b5ac6675371d14933504264fcef497cdfae530da386f8dfb08"
 },
 "nbformat": 3,
 "nbformat_minor": 0,
 "worksheets": [
  {
   "cells": [
    {
     "cell_type": "heading",
     "level": 1,
     "metadata": {},
     "source": [
      "Chapter 3 : Air Standard Cycles"
     ]
    },
    {
     "cell_type": "heading",
     "level": 2,
     "metadata": {},
     "source": [
      "Example 3.1  Page no :  19"
     ]
    },
    {
     "cell_type": "code",
     "collapsed": false,
     "input": [
      "import math \n",
      "\t\t\t\t\t\n",
      "#Input data\n",
      "p = [1,8]\t\t\t\t\t#Pressure at the beginning and end of compression in kg/m**3\n",
      "g = 1.4\t\t\t\t\t#Ratio of specific heats\n",
      "\n",
      "\t\t\t\t\t\n",
      "#Calculations\n",
      "r = (p[1]/p[0])**(1/g)\t\t\t\t\t#Compression ratio\n",
      "n = (1-(1/r)**(g-1))*100\t\t\t\t\t#Air standard efficiency in percent\n",
      "\n",
      "\t\t\t\t\t\n",
      "#Output\n",
      "print 'Air standard efficiency of an engine working on the Otto cycle is %3.1f percent'%(n)\n"
     ],
     "language": "python",
     "metadata": {},
     "outputs": [
      {
       "output_type": "stream",
       "stream": "stdout",
       "text": [
        "Air standard efficiency of an engine working on the Otto cycle is 44.8 percent\n"
       ]
      }
     ],
     "prompt_number": 1
    },
    {
     "cell_type": "heading",
     "level": 2,
     "metadata": {},
     "source": [
      "Example 3.2  Page no :  24"
     ]
    },
    {
     "cell_type": "code",
     "collapsed": false,
     "input": [
      "import math \n",
      "\t\t\t\t\t\n",
      "#Input data\n",
      "D = 0.25\t\t\t\t\t#Bore in m\n",
      "L = 0.45\t\t\t\t\t#Stroke in m\n",
      "Cv = 5.\t\t\t\t\t#Clearance volume in litres\n",
      "g = 1.4\t\t\t\t\t#Ratio of specific heats\n",
      "IHP = 32.\t\t\t\t\t#Indicated Horse power in h.p\n",
      "m = 14.\t\t\t\t\t#Gas consumption in m**3/hr\n",
      "CV = 4000.\t\t\t\t\t#Calorific value of gas in kcal/m**3\n",
      "\n",
      "\t\t\t\t\t\n",
      "#Calculations\n",
      "Vs = (3.14/4)*D**2*L\t\t\t\t\t#Stroke volume in m**3\n",
      "Vc = Cv/1000\t\t\t\t\t#Clearance volume in m**3\n",
      "r = (Vs+Vc)/Vc\t\t\t\t\t#Compression ratio\n",
      "na = (1-(1/r)**(g-1))*100\t\t\t\t\t#Air standard efficiency in percent\n",
      "q = (m*CV)/60\t\t\t\t\t#Heat supplied in kcal/min\n",
      "aI = (IHP*4500)/427\t\t\t\t\t#Heat equivalent of I.H.P in kcal/min\n",
      "itn = (aI/q)*100\t\t\t\t\t#Indicated thermal efficiency in percent\n",
      "rn = (itn/na)*100\t\t\t\t\t#Relative efficiency in percent\n",
      "\n",
      "\t\t\t\t\t\n",
      "#Output\n",
      "print 'The air standard efficiency is %3.1f percent  \\\n",
      "\\nIndicated thermal efficiency is %3.1f percent  \\\n",
      "\\nRelative efficiency is %3.1f percent'%(na,itn,rn)\n",
      " \n"
     ],
     "language": "python",
     "metadata": {},
     "outputs": [
      {
       "output_type": "stream",
       "stream": "stdout",
       "text": [
        "The air standard efficiency is 49.1 percent  \n",
        "Indicated thermal efficiency is 36.1 percent  \n",
        "Relative efficiency is 73.6 percent\n"
       ]
      }
     ],
     "prompt_number": 2
    },
    {
     "cell_type": "heading",
     "level": 2,
     "metadata": {},
     "source": [
      "Example 3.3  Page no :  26"
     ]
    },
    {
     "cell_type": "code",
     "collapsed": false,
     "input": [
      "import math \n",
      "\t\t\t\t\t\n",
      "#Input data\n",
      "r = 6.\t\t\t\t\t#Compression ratio\n",
      "It = 0.6\t\t\t\t\t#Indicated thermal efficiency ratio\n",
      "CV = 10000.\t\t\t\t\t#Calorific value in kcal/kg\n",
      "g = 1.4\t\t\t\t\t#Ratio of specific heats\n",
      "\n",
      "\t\t\t\t\t\n",
      "#Calculations\n",
      "an = (1-(1/r)**(g-1))*100\t\t\t\t\t#Air standard efficiency in percent\n",
      "In = (It*(an/100))\t\t\t\t\t#Indicated thermal efficiency \n",
      "SFC = ((4500*60)/(427*CV*In))\t\t\t\t\t#Specific fuel consumption in kg/I.H.P.hr\n",
      "\n",
      "\t\t\t\t\t\n",
      "#Output\n",
      "print 'Specific fuel consumption is %3.3f kg/I.H.P. hr'%(SFC)\n"
     ],
     "language": "python",
     "metadata": {},
     "outputs": [
      {
       "output_type": "stream",
       "stream": "stdout",
       "text": [
        "Specific fuel consumption is 0.206 kg/I.H.P. hr\n"
       ]
      }
     ],
     "prompt_number": 3
    },
    {
     "cell_type": "heading",
     "level": 2,
     "metadata": {},
     "source": [
      "Example 3.4  Page no :  27"
     ]
    },
    {
     "cell_type": "code",
     "collapsed": false,
     "input": [
      "import math \n",
      "\t\t\t\t\t\n",
      "#Input data\n",
      "T = [100.+273,473.+273]\t\t\t\t\t#Temperatures at the beginning and at the end of adiabatic compression in K\n",
      "g = 1.4\t\t\t\t\t#Ratio of specific heats\n",
      "\n",
      "\t\t\t\t\t\n",
      "#Calculations\n",
      "an = (1-(T[0]/T[1]))*100\t\t\t\t\t#Air standard efficiency in percent \n",
      "r = (T[1]/T[0])**(1/(g-1))\t\t\t\t\t#Compression ratio\n",
      "\n",
      "\t\t\t\t\t\n",
      "#Output\n",
      "print 'The compression ratio is %3.2f  \\\n",
      "\\nAir standard efficiency is %i percent'%(r,an)\n"
     ],
     "language": "python",
     "metadata": {},
     "outputs": [
      {
       "output_type": "stream",
       "stream": "stdout",
       "text": [
        "The compression ratio is 5.66  \n",
        "Air standard efficiency is 50 percent\n"
       ]
      }
     ],
     "prompt_number": 4
    },
    {
     "cell_type": "heading",
     "level": 2,
     "metadata": {},
     "source": [
      "Example 3.5  Page no :  29"
     ]
    },
    {
     "cell_type": "code",
     "collapsed": false,
     "input": [
      "import math \n",
      "\t\t\t\t\t\n",
      "#Input data\n",
      "T1 = 45.+273\t\t\t\t\t#Temperature at the beginning of compression in K\n",
      "p1 = 1.\t\t\t\t\t#Pressure at the beginning of compression in kg/cm**2\n",
      "T2 = 325.+273\t\t\t\t\t#Temperature at the end of compression in K\n",
      "T3 = 1500.+273\t\t\t\t\t#Temperature at the end of consmath.tant volume heat addition in K\n",
      "g = 1.4\t\t\t\t\t#Ratio of specific heats\n",
      "\n",
      "\t\t\t\t\t\n",
      "#Calculations\n",
      "r = (T2/T1)**(1/(g-1))\t\t\t\t\t#Compression ratio\n",
      "an = (1-(1/r)**(g-1))*100\t\t\t\t\t#Air standard efficiency in percent\n",
      "p2 = (p1*r**g)\t\t\t\t\t#Pressure at the end of compression in kg/cm**2\n",
      "p3 = (p2*(T3/T2))\t\t\t\t\t#Pressure at the end of consmath.tant volume heat addition in kg/cm**2\n",
      "p4 = p3/p2\t\t\t\t\t#Pressure at the end of adiabatic expansion in kg/cm**2\n",
      "T4 = T3/r**(g-1)\t\t\t\t\t#Temperature at the end of adiabatic expansion in K\n",
      "t4 = T4-273\t\t\t\t\t#Temperature at the end of adiabatic expansion in degree C\n",
      "\n",
      "\t\t\t\t\t\n",
      "#Output\n",
      "print 'The air standard efficiency is %3.1f percent  \\\n",
      "\\nTemperature at the end of adiabatic expansion is %i degree C  \\\n",
      "\\nPressure at the end of adiabatic expansion is %3.0f kg/cm**2'%(an,t4,p4)\n"
     ],
     "language": "python",
     "metadata": {},
     "outputs": [
      {
       "output_type": "stream",
       "stream": "stdout",
       "text": [
        "The air standard efficiency is 46.8 percent  \n",
        "Temperature at the end of adiabatic expansion is 669 degree C  \n",
        "Pressure at the end of adiabatic expansion is   3 kg/cm**2\n"
       ]
      }
     ],
     "prompt_number": 5
    },
    {
     "cell_type": "heading",
     "level": 2,
     "metadata": {},
     "source": [
      "Example 3.6  Page no :  34"
     ]
    },
    {
     "cell_type": "code",
     "collapsed": false,
     "input": [
      "import math \n",
      "\t\t\t\t\t\n",
      "#Input data\n",
      "T1 = 40.+273\t\t\t\t\t#Temperature at the beginning of compression in K\n",
      "p1 = 1.\t\t\t\t\t#Pressure at the beginning of compression in kg/cm**2\n",
      "p2 = 15.\t\t\t\t\t#Pressure at the end of adabatic compression in kg/cm**2\n",
      "T3 = 2000.+273\t\t\t\t\t#Maximum temperature during the cycle in K\n",
      "Cv = 0.17\t\t\t\t\t#Specific heat at consmath.tant volume in kJ/kg.K\n",
      "g = 1.4\t\t\t\t\t#Ratio of specific heats\n",
      "\n",
      "\t\t\t\t\t\n",
      "#Calculations\n",
      "T2 = T1*(p2/p1)**((g-1)/g)\t\t\t\t\t#Temperature at the end of adabatic compression in K\n",
      "na = (1-(T1/T2))*100\t\t\t\t\t#Air standard efficiency in percent\n",
      "q = (Cv*(T3-T2))\t\t\t\t\t#Heat added in kcal/kg of air\n",
      "W = ((na/100)*q)\t\t\t\t\t#Workdone per kg of air in kcal\n",
      "W1 = (4.28*W)\t\t\t\t\t#Workdone per kg of air in kg.m\n",
      "p3 = (p2*(T3/T2))\t\t\t\t\t#Pressure at the end of consmath.tant volume heat addition in kg/cm**2\n",
      "p4 = (p3*p1)/p2\t\t\t\t\t#Pressure at the end of adiabatic expansion in kg/cm**2\n",
      "\n",
      "\t\t\t\t\t\n",
      "#Output\n",
      "print 'a) The heat supplied is %3.0f kcal/kg of air  \\\n",
      "\\nb) The workdone is %i kcal/kg of air  \\\n",
      "\\nc) The pressure at the end of adiabatic expansion is %3.2f kg/cm**2'%(q,W,p4)\n"
     ],
     "language": "python",
     "metadata": {},
     "outputs": [
      {
       "output_type": "stream",
       "stream": "stdout",
       "text": [
        "a) The heat supplied is 271 kcal/kg of air  \n",
        "b) The workdone is 146 kcal/kg of air  \n",
        "c) The pressure at the end of adiabatic expansion is 3.35 kg/cm**2\n"
       ]
      }
     ],
     "prompt_number": 6
    },
    {
     "cell_type": "heading",
     "level": 2,
     "metadata": {},
     "source": [
      "Example 3.7  Page no :  38"
     ]
    },
    {
     "cell_type": "code",
     "collapsed": false,
     "input": [
      "import math \n",
      "\t\t\t\t\t\n",
      "#Input data\n",
      "r = 16.\t\t\t\t\t#Compression ratio\n",
      "k = 5.\t\t\t\t\t#Cut off takes place at 5% of the stroke\n",
      "g = 1.4\t\t\t\t\t#Ratio of specific heats\n",
      "\n",
      "\t\t\t\t\t\n",
      "#Calculations\n",
      "c = (((k/100)*(r-1))+1)\t\t\t\t\t#Cut off ratio\n",
      "na = (1-((1/r**(g-1))*((c**g-1)/(g*(c-1)))))*100\t\t\t\t\t#Air standard efficiency in percent\n",
      "\n",
      "\t\t\t\t\t\n",
      "#Output\n",
      "print 'The air standard efficiency is %3.1f percent'%(na)\n"
     ],
     "language": "python",
     "metadata": {},
     "outputs": [
      {
       "output_type": "stream",
       "stream": "stdout",
       "text": [
        "The air standard efficiency is 62.6 percent\n"
       ]
      }
     ],
     "prompt_number": 7
    },
    {
     "cell_type": "heading",
     "level": 2,
     "metadata": {},
     "source": [
      "Example 3.8  Page no :  38"
     ]
    },
    {
     "cell_type": "code",
     "collapsed": false,
     "input": [
      "import math \n",
      "\t\t\t\t\t\n",
      "#Input data\n",
      "p1 = 1.05\t\t\t\t\t#Inlet pressure in kg/cm**2\n",
      "T1 = 15.+273\t\t\t\t\t#Inlet temperature in K\n",
      "p2 = 33.4\t\t\t\t\t#Pressure at the end of adiabatic compression in kg/cm**2\n",
      "r = 5.\t\t\t\t\t#The ratio of expansion\n",
      "Cp = 0.238\t\t\t\t\t#Specific heat at consmath.tant pressure in kJ/kg.K\n",
      "Cv = 0.17\t\t\t\t\t#Specific heat at consmath.tant volume in kJ/kg.K\n",
      "g = 1.4\t\t\t\t\t#Ratio of specific heats\n",
      "\n",
      "\t\t\t\t\t\n",
      "#Calculations\n",
      "r1 = (p2/p1)**(1/g)\t\t\t\t\t#Compression ratio\n",
      "k = r1/r\t\t\t\t\t#Cutoff ratio\n",
      "T2 = (p2/p1)**((g-1)/g)*T1\t\t\t\t\t#Temperature at the end of adiabatic compression in K\n",
      "T3 = T2*k\t\t\t\t\t#Temperature at the end of consmath.tant pressure heat addition in K\n",
      "T4 = T3*(1/r)**(g-1)\t\t\t\t\t#Temperature at the end of adiabatic expansion in K\n",
      "qa = (Cp*(T3-T2))\t\t\t\t\t#Heat added in kcal/kg of air\n",
      "qre = (Cv*(T4-T1))\t\t\t\t\t#Heat rejected in kcal/kg of air\n",
      "nt = ((qa-qre)/qa)*100\t\t\t\t\t#Ideal thermal efficiency in percent\n",
      "\n",
      "\t\t\t\t\t\n",
      "#Output\n",
      "print 'The ideal thermal efficiency is %3.1f percent'%(nt)\n"
     ],
     "language": "python",
     "metadata": {},
     "outputs": [
      {
       "output_type": "stream",
       "stream": "stdout",
       "text": [
        "The ideal thermal efficiency is 54.5 percent\n"
       ]
      }
     ],
     "prompt_number": 8
    },
    {
     "cell_type": "heading",
     "level": 2,
     "metadata": {},
     "source": [
      "Example 3.9  Page no :  41"
     ]
    },
    {
     "cell_type": "code",
     "collapsed": false,
     "input": [
      "\t\t\t\t\t\n",
      "#Input data\n",
      "p1 = 1.\t\t\t\t\t#Pressure at the end of suction stroke in kg/cm**2\n",
      "T1 = 30.+273\t\t\t\t\t#Temperature at the end of suction stroke in kg/cm**2\n",
      "T3 = 1500.+273\t\t\t\t\t#Maximum temperature during the cycle in K\n",
      "r = 16.\t\t\t\t\t#Compression ratio\n",
      "Cp = 0.24\t\t\t\t\t#Specific heat at consmath.tant pressure in kJ/kg.K\n",
      "Cv = 0.17\t\t\t\t\t#Specific heat at consmath.tant volume in kJ/kg.K\n",
      "g = 1.41\t\t\t\t\t#Ratio of specific heats\n",
      "\n",
      "\t\t\t\t\t\n",
      "#Calculations\n",
      "T2 = T1*r**(g-1)\t\t\t\t\t#Temperature at the end of adiabatic compression in K\n",
      "s = (((T3/T2)-1)/(r-1))*100\t\t\t\t\t#Percentage of the stroke at which cut off occurs\n",
      "r1 = (r/(T3/T2))\t\t\t\t\t#Expansion ratio\n",
      "T4 = T3/(r1)**(g-1)\t\t\t\t\t#Temperature at the end of adiabatic expansion in K\n",
      "qa = (Cp*(T3-T2))\t\t\t\t\t#Heat added in kcal/kg of air\n",
      "qre = (Cv*(T4-T1))\t\t\t\t\t#Heat rejected in kcal/kg of air\n",
      "nt = ((qa-qre)/qa)*100\t\t\t\t\t#Air standard efficiency in percent\n",
      "\n",
      "\t\t\t\t\t\n",
      "#Output\n",
      "print 'a) The percentage of stroke at which cut off takes place is %3.2f percent  \\\n",
      "\\nb) The temperature at the end of expansion stroke is %3.0f K  \\\n",
      "\\nc) The theoretical efficiency is %3.0f percent'%(s,T4,nt) \n"
     ],
     "language": "python",
     "metadata": {},
     "outputs": [
      {
       "output_type": "stream",
       "stream": "stdout",
       "text": [
        "a) The percentage of stroke at which cut off takes place is 5.85 percent  \n",
        "b) The temperature at the end of expansion stroke is 737 K  \n",
        "c) The theoretical efficiency is  63 percent\n"
       ]
      }
     ],
     "prompt_number": 9
    },
    {
     "cell_type": "heading",
     "level": 2,
     "metadata": {},
     "source": [
      "Example 3.10  Page no :  46"
     ]
    },
    {
     "cell_type": "code",
     "collapsed": false,
     "input": [
      "import math \n",
      "\t\t\t\t\t\n",
      "#Input data\n",
      "p1 = 1.\t\t\t\t\t#Pressure at the beginning of compression in kg/cm**2\n",
      "T1 = 80.+273\t\t\t\t\t#Temperature at the beginning of compression in K\n",
      "r = 14.\t\t\t\t\t#Compression ratio\n",
      "p4 = 2.7\t\t\t\t\t#Pressure at the end of expansion in kg/cm**2\n",
      "Cp = 0.24\t\t\t\t\t#Specific heat at consmath.tant pressure in kJ/kg.K\n",
      "g = 1.4\t\t\t\t\t#Ratio of specific heats\n",
      "\n",
      "\t\t\t\t\t\n",
      "#Calculations\n",
      "p2 = p1*r**g\t\t\t\t\t#Pressure at the end of compression in kg/cm**2\n",
      "s = (((r*(p4/p2)**(1/g))-1)/(r-1))*100\t\t\t\t\t#Percentage of stroke when the fuel is cut off in percent\n",
      "T2 = (T1*(p2/p1))/r\t\t\t\t\t#Temperature at the end of compression in K\n",
      "T3 = (T2*r*(p4/p2)**(1/g))\t\t\t\t\t#Temperature at the end of adiabatic expansion in K\n",
      "q = (Cp*(T3-T2))\t\t\t\t\t#Heat supplied in kcal/kg\n",
      "\n",
      "\t\t\t\t\t\n",
      "#Output\n",
      "print 'a) The maximum pressure attained during the cycle is %3.1f kg/cm**2  \\\n",
      "\\nb) The percentage of working stroke at which the heat supply to the working fluid ceases is %3.2f percent  \\\n",
      "\\nc) The heat received per kg of woring substance during the cycle is %3.0f kcal/kg'%(p2,s,q)\n"
     ],
     "language": "python",
     "metadata": {},
     "outputs": [
      {
       "output_type": "stream",
       "stream": "stdout",
       "text": [
        "a) The maximum pressure attained during the cycle is 40.2 kg/cm**2  \n",
        "b) The percentage of working stroke at which the heat supply to the working fluid ceases is 7.95 percent  \n",
        "c) The heat received per kg of woring substance during the cycle is 251 kcal/kg\n"
       ]
      }
     ],
     "prompt_number": 10
    },
    {
     "cell_type": "heading",
     "level": 2,
     "metadata": {},
     "source": [
      "Example 3.11  Page no :  47"
     ]
    },
    {
     "cell_type": "code",
     "collapsed": false,
     "input": [
      "import math \n",
      "\n",
      "# variables\n",
      "d = 0.25\t\t\t\t\t#Diameter of the cylinder in m\n",
      "L = 0.35\t\t\t\t\t#Stroke in m\n",
      "Cv = 1500.\t\t\t\t\t#Clearance volume in c.c\n",
      "s = 5.\t\t\t\t\t#cut off ratio takes place at 5 percent of stroke\n",
      "a = 1.4\t\t\t\t\t#Explosion ratio\n",
      "g = 1.4\t\t\t\t\t#Ratio of specific heats for air\n",
      "\n",
      "\t\t\t\t\t\n",
      "#Calculations\n",
      "Vs = (3.14/4)*d**2*L\t\t\t\t\t#Stroke volume in m**3\n",
      "r = (Vs*10**6+Cv)/Cv\t\t\t\t\t#Compression ratio\n",
      "k = (Cv+((s/100)*Vs*10**6))/Cv\t\t\t\t\t#Cut off ratio\n",
      "na = (1-((1/(r**(g-1)))*((a*k**g-1)/((a-1)+a*g*(k-1)))))*100\t\t\t\t\t#Air standard efficiency in percent\n",
      "\n",
      "\t\t\t\t\t\n",
      "#Output\n",
      "print 'The air standard efficiency of the engine is %3.1f percent'%(na)\n"
     ],
     "language": "python",
     "metadata": {},
     "outputs": [
      {
       "output_type": "stream",
       "stream": "stdout",
       "text": [
        "The air standard efficiency of the engine is 60.7 percent\n"
       ]
      }
     ],
     "prompt_number": 11
    },
    {
     "cell_type": "heading",
     "level": 2,
     "metadata": {},
     "source": [
      "Example 3.12  Page no :  48"
     ]
    },
    {
     "cell_type": "code",
     "collapsed": false,
     "input": [
      "import math \n",
      "\t\t\t\t\t\n",
      "#Input data\n",
      "d = 0.2\t\t\t\t\t#Diameter of the cylinder in m\n",
      "L = 0.4\t\t\t\t\t#Stroke in m\n",
      "r = 13.5\t\t\t\t\t#Compression ratio\n",
      "a = 1.42\t\t\t\t\t#Explosion ratio\n",
      "s = 5.1\t\t\t\t\t#Cut off occurs at 5.1 percent of the stroke\n",
      "g = 1.4\t\t\t\t\t#Ratio of specific heats for air\n",
      "\n",
      "\t\t\t\t\t\n",
      "#Calculations\n",
      "Vs = (3.14/4)*d**2*L*10**-6\t\t\t\t\t#Stroke volume in c.c\n",
      "Vc = Vs/r\t\t\t\t\t#Clearance volume in c.c\n",
      "k = (((s/100)*Vs)+Vc)/Vc\t\t\t\t\t#Cut off ratio\n",
      "ASE = (1-((1/(r**(g-1)))*((a*k**g-1)/((a-1)+a*g*(k-1)))))*100\t\t\t\t\t#Air standard efficiency in percent\n",
      "\n",
      "\t\t\t\t\t\n",
      "#Output\n",
      "print 'The air standard efficiency of the engine is %3.1f percent'%(ASE)\n",
      "\n"
     ],
     "language": "python",
     "metadata": {},
     "outputs": [
      {
       "output_type": "stream",
       "stream": "stdout",
       "text": [
        "The air standard efficiency of the engine is 61.4 percent\n"
       ]
      }
     ],
     "prompt_number": 12
    },
    {
     "cell_type": "heading",
     "level": 2,
     "metadata": {},
     "source": [
      "Example 3.13  Page no :  53"
     ]
    },
    {
     "cell_type": "code",
     "collapsed": false,
     "input": [
      "import math \n",
      "\t\t\t\t\t\n",
      "#Input data\n",
      "x = [2./3,1./3]\t\t\t\t\t#The dual cycle atkes two-thirds of its total heat supply at consmath.tant volume and one-third at consmath.tant pressure\n",
      "r = 13.\t\t\t\t\t#Compression ratio\n",
      "p3 = 43.\t\t\t\t\t#Maximum pressure of the cycle in kg/cm**2\n",
      "p1 = 1.\t\t\t\t\t#Pressure at intake in kg/cm**2\n",
      "T1 = 15.+273\t\t\t\t\t#Intake temperature in K\n",
      "Cp = 0.24\t\t\t\t\t#Specific heat at consmath.tant pressure in kJ/kg.K\n",
      "Cv = 0.17\t\t\t\t\t#Specific heat at consmath.tant volume in kJ/kg.K\n",
      "g = 1.41\t\t\t\t\t#Ratio of specific heats\n",
      "\n",
      "\t\t\t\t\t\n",
      "#Calculations\n",
      "T2 = T1*r**(g-1)\t\t\t\t\t#Temperature at the end of compression in K\n",
      "p2 = (p1*r**g)\t\t\t\t\t#Pressure at the end of compression in kg/cm**2\n",
      "T3 = T2*p3/p2\t\t\t\t\t#Temperature at the end of consmath.tant volume heat addition in K\n",
      "q23 = Cv*(T3-T2)\t\t\t\t\t#Heat added at consmath.tant volume in kcal/kg\n",
      "q34 = (1./2)*q23\t\t\t\t\t#Heat added at consmath.tant pressure in kcal/kg\n",
      "T4 = (q34/Cp)+T3\t\t\t\t\t#Temperature at the end of consmath.tant pressure heat supply in K\n",
      "T5 = (T4*((p1*(T4/T3))/r)**(g-1))\t\t\t\t\t#Temperature at the end of expansion in K\n",
      "na = (1-((Cv*(T5-T1))/((Cv*(T3-T2))+(Cp*(T4-T3)))))*100\t\t\t\t\t#Efficiency in percent\n",
      "T = [T1-273,T2-273,T3-273,T4-273,T5-273]\t\t\t\t\t#Temperature at the five cardinal points in degree C\n",
      "\n",
      "\t\t\t\t\t\n",
      "#Output\n",
      "print 'a) The temperature at the five cardinal points of the cycle are :  point 1 is %3.0f degree C  \\\n",
      "\\npoint 2 is %3.0f degree C  \\\n",
      "\\npoint 3 is %3.0f degree C  \\\n",
      "\\npoint 4 is %3.1f degree C  \\\n",
      "\\npoint 5 is %3.0f degree C  \\\n",
      "\\nb) The ideal thermal efficiency of the cycle is %3.1f percent'%(T[0],T[1],T[2],T[3],T[4],na)\n"
     ],
     "language": "python",
     "metadata": {},
     "outputs": [
      {
       "output_type": "stream",
       "stream": "stdout",
       "text": [
        "a) The temperature at the five cardinal points of the cycle are :  point 1 is  15 degree C  \n",
        "point 2 is 551 degree C  \n",
        "point 3 is 680 degree C  \n",
        "point 4 is 725.0 degree C  \n",
        "point 5 is  82 degree C  \n",
        "b) The ideal thermal efficiency of the cycle is 65.0 percent\n"
       ]
      }
     ],
     "prompt_number": 13
    },
    {
     "cell_type": "heading",
     "level": 2,
     "metadata": {},
     "source": [
      "Example 3.14  Page no :  56"
     ]
    },
    {
     "cell_type": "code",
     "collapsed": false,
     "input": [
      "import math \n",
      "\t\t\t\t\t\n",
      "#Input data\n",
      "p1 = 1.\t\t\t\t\t#Pressure at intake in kg/cm**2\n",
      "T1 = 100.+273\t\t\t\t\t#Intake temperature in K\n",
      "r = 10.\t\t\t\t\t#Compression ratio\n",
      "p3 = 70.\t\t\t\t\t#Maximum pressure of the cycle in kg/cm**2\n",
      "q = 400.\t\t\t\t\t#Amount of heat added in kcal/kg of air\n",
      "Cp = 0.24\t\t\t\t\t#Specific heat at consmath.tant pressure in kJ/kg.K\n",
      "Cv = 0.17\t\t\t\t\t#Specific heat at consmath.tant volume in kJ/kg.K\n",
      "g = 1.41\t\t\t\t\t#Ratio of specific heats\n",
      "\n",
      "\t\t\t\t\t\n",
      "#Calculations\n",
      "T2 = (T1*r**(g-1))\t\t\t\t\t#Temperature at the end of compression in K\n",
      "p2 = (p1*r**g)\t\t\t\t\t#Pressure at the end of compression in kg/cm**2\n",
      "T3 = T2*(p3/p2)\t\t\t\t\t#Temperature at the end of consmath.tant volume heat addition in K\n",
      "qv = (Cv*(T3-T2))\t\t\t\t\t#Heat added at consmath.tant volume in kcal/kg\n",
      "qp = (q-qv)\t\t\t\t\t#Heat added at consmath.tant pressure in kcal/kg\n",
      "T4 = (qp/Cp)+T3\t\t\t\t\t#Temperature at the end of consmath.tant pressure heat supply in K\n",
      "k = (T4/T3)\t\t\t\t\t#Cut off ratio\n",
      "T5 = T4/(r/k)**(g-1)\t\t\t\t\t#Temperature at the end of expansion in K\n",
      "qv2 = Cv*(T5-T1)\t\t\t\t\t#Heat added at consmath.tant volume in kcal/kg\n",
      "W = q-qv2\t\t\t\t\t#Workdone in kcal/kg of air\n",
      "na = (W/q)*100\t\t\t\t\t#Air standard efficiency in percent\n",
      "\n",
      "\t\t\t\t\t\n",
      "#Output\n",
      "print 'The temperature at the five cardinal points of the cycle are :  \\\n",
      "\\npoint 1 is %3.0f K  \\\n",
      "\\npoint 2 is %3.0f K  \\\n",
      "\\npoint 3 is %3.0f K  \\\n",
      "\\npoint 4 is %3.0f K  \\\n",
      "\\npoint 5 is %3.0f K  \\\n",
      "\\nThe air standard efficiency of the engine is %3.1f percent'%(T1,T2,T3,T4,T5,na)\n"
     ],
     "language": "python",
     "metadata": {},
     "outputs": [
      {
       "output_type": "stream",
       "stream": "stdout",
       "text": [
        "The temperature at the five cardinal points of the cycle are :  \n",
        "point 1 is 373 K  \n",
        "point 2 is 959 K  \n",
        "point 3 is 2611 K  \n",
        "point 4 is 3107 K  \n",
        "point 5 is 1298 K  \n",
        "The air standard efficiency of the engine is 60.7 percent\n"
       ]
      }
     ],
     "prompt_number": 14
    },
    {
     "cell_type": "heading",
     "level": 2,
     "metadata": {},
     "source": [
      "Example 3.15  Page no :  59"
     ]
    },
    {
     "cell_type": "code",
     "collapsed": false,
     "input": [
      "import math \n",
      "\t\t\t\t\t\n",
      "#Input data\n",
      "r = 12.\t\t\t\t\t#Compression ratio\n",
      "p1 = 0.955\t\t\t\t\t#Pressure at the start of compression in kg/cm**2\n",
      "T1 = 85.+273\t\t\t\t\t#Temperature at the start of compression in K\n",
      "p3 = 55.\t\t\t\t\t#Maximum pressure of the cycle in kg/cm**2\n",
      "x = (1./30)\t\t\t\t\t#Consmath.tant pressure heat reception contnues for 1/30 of the stroke\n",
      "Cp = 0.238\t\t\t\t\t#Specific heat at consmath.tant pressure in kJ/kg.K\n",
      "Cv = 0.17\t\t\t\t\t#Specific heat at consmath.tant volume in kJ/kg.K\n",
      "g = 1.4\t\t\t\t\t#Ratio of specific heats\n",
      "\n",
      "\t\t\t\t\t\n",
      "#Calculations\n",
      "T2 = T1*r**(g-1)\t\t\t\t\t#Temperature at the end of compression in K\n",
      "p2 = (p1*r**g)\t\t\t\t\t#Pressure at the end of compression in kg/cm**2\n",
      "T3 = T2*(p3/p2)\t\t\t\t\t#Temperature at the end of consmath.tant volume heat addition in K\n",
      "T4 = (T3*((p1+x*(r-1))/p1))\t\t\t\t\t#Temperature at the end of consmath.tant pressure heat supply in K\n",
      "T5 = T4*((p1+x*(r-1))/r)**(g-1)\t\t\t\t\t#Temperature at the end of expansion in K\n",
      "qs = (Cv*(T3-T2))+(Cp*(T4-T3))\t\t\t\t\t#Heat supplied in kcal/kg of air\n",
      "qre = (Cv*(T5-T1))\t\t\t\t\t#Heat rejected in kcal/kg of air\n",
      "W = (qs-qre)\t\t\t\t\t#Workdone in kcal/kg of air\n",
      "an = ((qs-qre)/qs)*100\t\t\t\t\t#Air standard efficiency in percent\n",
      "\n",
      "\t\t\t\t\t#Ouptut\n",
      "print 'The wordone per kg of air is %3.2f kcal  \\\n",
      "\\nThe ideal thermal efficiency is %3.1f percent'%(W,an)\n",
      "\n"
     ],
     "language": "python",
     "metadata": {},
     "outputs": [
      {
       "output_type": "stream",
       "stream": "stdout",
       "text": [
        "The wordone per kg of air is 178.24 kcal  \n",
        "The ideal thermal efficiency is 62.6 percent\n"
       ]
      }
     ],
     "prompt_number": 15
    },
    {
     "cell_type": "heading",
     "level": 2,
     "metadata": {},
     "source": [
      "Example 3.16  Page no :  63"
     ]
    },
    {
     "cell_type": "code",
     "collapsed": false,
     "input": [
      "import math \n",
      "\t\t\t\t\t\n",
      "#Input data\n",
      "p1 = 1.\t\t\t\t\t#Pressure of air intake in kg/cm**2\n",
      "T1 = 50.+273\t\t\t\t\t#Temperature of air intake in K\n",
      "v = (1./14)\t\t\t\t\t#Volume compresses by it adiabatically of its original volume\n",
      "r = (1/v)\t\t\t\t\t#Compression ratio\n",
      "Cp = 0.237\t\t\t\t\t#Specific heat at consmath.tant pressure in kJ/kg.K\n",
      "Cv = 0.169\t\t\t\t\t#Specific heat at consmath.tant volume in kJ/kg.K\n",
      "g = 1.4\t\t\t\t\t#Ratio of specific heats for air\n",
      "\n",
      "\t\t\t\t\t\n",
      "#Calculations\n",
      "T2 = T1*r**(g-1)\t\t\t\t\t#Temperature at the end of compression in K\n",
      "p2 = (p1*r**g)\t\t\t\t\t#Pressure at the end of compression in kg/cm**2\n",
      "p3 = x*p2\t\t\t\t\t#Pressure at the end of the heat addition at consmath.tant volume in kg/cm**2\n",
      "T3 = T2*(p3/p2)\t\t\t\t\t#Temperature at the end of consmath.tant volume heat addition in K\n",
      "T4 = (T3*x)\t\t\t\t\t#Temperature at the end of consmath.tant pressure heat supply in K\n",
      "T5 = T4/(r/x)**(g-1)\t\t\t\t\t#Temperature at the end of expansion in K\n",
      "qs = (Cv*(T3-T2))+(Cp*(T4-T3))\t\t\t\t\t#Heat supplied in kcal/kg of air\n",
      "qre = (Cv*(T5-T1))\t\t\t\t\t#Heat rejected in kcal/kg of air\n",
      "na = ((qs-qre)/qs)*100\t\t\t\t\t#Air standard efficiency in percent\n",
      "T = [T1-273,T2-273,T3-273,T4-273,T5-273]\t\t\t\t\t#Temperature at the five key points in degree C\n",
      "\n",
      "\t\t\t\t\t\n",
      "#Output\n",
      "print 'a) The temperature at the five key points of the cycle are :  \\\n",
      "\\npoint 1 is %3.0f K  =  %3.0f degree C  \\\n",
      "\\npoint 2 is %3.0f K  =  %3.0f degree C  \\\n",
      "\\npoint 3 is %3.0f K  =  %3.0f degree C  \\\n",
      "\\npoint 4 is %3.0f K  =  %3.0f degree C  \\\n",
      "\\npoint 5 is %3.0f K  =  %3.0f degree C  \\\n",
      "\\nb) The ideal thermal efficiency of the cycle is %3.2f percent'%(T1,T[0],T2,T[1],T3,T[2],T4,T[3],T5,T[4],na)\n",
      "\n"
     ],
     "language": "python",
     "metadata": {},
     "outputs": [
      {
       "output_type": "stream",
       "stream": "stdout",
       "text": [
        "a) The temperature at the five key points of the cycle are :  \n",
        "point 1 is 323 K  =   50 degree C  \n",
        "point 2 is 928 K  =  655 degree C  \n",
        "point 3 is  31 K  =  -242 degree C  \n",
        "point 4 is   1 K  =  -272 degree C  \n",
        "point 5 is   0 K  =  -273 degree C  \n",
        "b) The ideal thermal efficiency of the cycle is 65.62 percent\n"
       ]
      }
     ],
     "prompt_number": 16
    },
    {
     "cell_type": "heading",
     "level": 2,
     "metadata": {},
     "source": [
      "Example 3.18  Page no :  68"
     ]
    },
    {
     "cell_type": "code",
     "collapsed": false,
     "input": [
      "import math \n",
      "\t\t\t\t\t\n",
      "#Input data\n",
      "n = 6.\t\t\t\t\t#Six cylinder engine\n",
      "r = 5.\t\t\t\t\t#Compression ratio\n",
      "Vc = 110.\t\t\t\t\t#Clearance volume in c.c\n",
      "a = 0.66\t\t\t\t\t#Efficiency ratio referred to the air standard cycle\n",
      "N = 2400.\t\t\t\t\t#Speed in r.p.m\n",
      "m = 9.9\t\t\t\t\t#Mass of petrol in kg\n",
      "CV = 10600.\t\t\t\t\t#Calorific value of fuel in kcal/kg\n",
      "g = 1.4\t\t\t\t\t#Ratio of specific heats\n",
      "\n",
      "\t\t\t\t\t\n",
      "#Calculations\n",
      "Vs = (r*Vc-Vc)\t\t\t\t\t#Swept Volume in c.c\n",
      "na = (1-(1/r)**(g-1))*100\t\t\t\t\t#Air standard efficiency in percent\n",
      "nt = (na/100)*a\t\t\t\t\t#Thermal efficiency \n",
      "IHP = (nt*CV*m*427)/(4500*60)\t\t\t\t\t#Indicated Horse Power in h.p\n",
      "pm = (((IHP/n)*4500*100*2)/(Vs*N))\t\t\t\t\t#Average indicated mean effective pressure in kg/cm**2\n",
      "\n",
      "\t\t\t\t\t\n",
      "#Output\n",
      "print 'The average indicated mean effective pressure in each cylinder is %3.3f kg/cm**2'%(pm)\n"
     ],
     "language": "python",
     "metadata": {},
     "outputs": [
      {
       "output_type": "stream",
       "stream": "stdout",
       "text": [
        "The average indicated mean effective pressure in each cylinder is 7.386 kg/cm**2\n"
       ]
      }
     ],
     "prompt_number": 17
    },
    {
     "cell_type": "heading",
     "level": 2,
     "metadata": {},
     "source": [
      "Example 3.19  Page no :  68"
     ]
    },
    {
     "cell_type": "code",
     "collapsed": false,
     "input": [
      "import math \n",
      "\t\t\t\t\t\n",
      "#Input data\n",
      "n = 4.\t\t\t\t\t#Four cylinder engine\n",
      "BHP = 40.\t\t\t\t\t#Brake horse power in h.p\n",
      "N = 3000.\t\t\t\t\t#Speed in r.p.m\n",
      "nm = 70.\t\t\t\t\t#Mechanical efficiency in percent\n",
      "pm = 13.5\t\t\t\t\t#Indicated mean effective pressure in kg/cm**2\n",
      "\t\t\t\t\t#Bore is equal to stroke\n",
      "\n",
      "\t\t\t\t\t\n",
      "#Calculations\n",
      "#case(i)\n",
      "d1 = ((BHP*100*4500*n*2)/(n*(nm/100)*pm*N*3.14))**(1/3)\t\t\t\t\t#Cylinder bore or stroke length in cm\n",
      "\n",
      "#Case(ii)\n",
      "d2 = ((BHP*100*4500*n)/(n*(nm/100)*pm*N*3.14))**(1/3)*10\t\t\t\t\t#Cylinder bore or stroke length in cm\n",
      "\n",
      "\t\t\t\t\t\n",
      "#Output\n",
      "print 'The cylinder sizes for a bore equal to stroke of a four cylinder in case of  \\\n",
      "\\ni)Four stroke engine is %3.1f cm  \\\n",
      "\\nii)Two stroke engine is %3.0f mm'%(d1,d2)\n"
     ],
     "language": "python",
     "metadata": {},
     "outputs": [
      {
       "output_type": "stream",
       "stream": "stdout",
       "text": [
        "The cylinder sizes for a bore equal to stroke of a four cylinder in case of  \n",
        "i)Four stroke engine is 1.0 cm  \n",
        "ii)Two stroke engine is  10 mm\n"
       ]
      }
     ],
     "prompt_number": 18
    },
    {
     "cell_type": "heading",
     "level": 2,
     "metadata": {},
     "source": [
      "Example 3.20  Page no :  72"
     ]
    },
    {
     "cell_type": "code",
     "collapsed": false,
     "input": [
      "import math \n",
      "\t\t\t\t\t\n",
      "#Input data\n",
      "T = [50.+273,345.+273]\t\t\t\t\t#Temperatures at the beginning and end of compression in K\n",
      "g = 1.4\t\t\t\t\t#ratio of specific heats \n",
      "IHP = 25.\t\t\t\t\t#Indicated horse power in h.p\n",
      "m = 5.44\t\t\t\t\t#Mass of fuel consumed per hour in kg\n",
      "CV = 10300.\t\t\t\t\t#Calorific value in kcal/kg\n",
      "\n",
      "\t\t\t\t\t\n",
      "#Calculations\n",
      "na = (1-(T[0]/T[1]))*100\t\t\t\t\t#Air standard efficiency in percent\n",
      "r = (T[1]/T[0])**(1/(g-1))\t\t\t\t\t#Compression ratio\n",
      "qIHP = (IHP*4500)/427\t\t\t\t\t#Heat equivalent of I.H.P in kcal/min\n",
      "q = (m*CV)/60\t\t\t\t\t#Heat supplied per minute in kcal/min\n",
      "Ith = (qIHP/q)*100\t\t\t\t\t#Indicated thermal efficiency in percent\n",
      "nr = (Ith/na)*100\t\t\t\t\t#Efficiency ratio\n",
      "\n",
      "\t\t\t\t\t\n",
      "#Output\n",
      "print 'The air standard efficiency is %3.1f percent  \\\n",
      "\\nThe compression ratio is %3.2f  \\\n",
      "\\nIndicated thermal efficiency is %3.1f percent  \\\n",
      "\\nEfficiency ratio is %3.1f percent'%(na,r,Ith,nr)\n"
     ],
     "language": "python",
     "metadata": {},
     "outputs": [
      {
       "output_type": "stream",
       "stream": "stdout",
       "text": [
        "The air standard efficiency is 47.7 percent  \n",
        "The compression ratio is 5.06  \n",
        "Indicated thermal efficiency is 28.2 percent  \n",
        "Efficiency ratio is 59.1 percent\n"
       ]
      }
     ],
     "prompt_number": 19
    },
    {
     "cell_type": "heading",
     "level": 2,
     "metadata": {},
     "source": [
      "Example 3.21  Page no :  74"
     ]
    },
    {
     "cell_type": "code",
     "collapsed": false,
     "input": [
      "import math \n",
      "\t\t\t\t\t\n",
      "#Input data\n",
      "CV = 10000.\t\t\t\t\t#Calorific value of petrol in kcal/kg\n",
      "pe = [30.,70.]\t\t\t\t\t#Percentage of compression strokes in percent\n",
      "p = [1.33,2.66]\t\t\t\t\t#Pressures in the cylinder corresponding to the compression strokes in kg/cm**2\n",
      "n = 1.33\t\t\t\t\t#Polytropic consmath.tant\n",
      "rn = 50.\t\t\t\t\t#Relative efficiency in percent\n",
      "g = 1.4\t\t\t\t\t#ratio of specific heats\n",
      "\n",
      "\t\t\t\t\t\n",
      "#Calculations\n",
      "v = (p[1]/p[0])**(1/n)\t\t\t\t\t#Ratio of specific volumes\n",
      "r = ((pe[1]/100)*v-(pe[0]/100))/((pe[1]/100)-((pe[0]/100)*v))\t\t\t\t\t#Compression ratio\n",
      "na = (1-(1/r)**(g-1))*100\t\t\t\t\t#Air standard efficiency in percent\n",
      "ith = (rn*na)/100\t\t\t\t\t#Indicated thermal efficiency in percent\n",
      "q = (4500*60)/(427*(ith/100))\t\t\t\t\t#Heat supplied in kcal/i.h.p.hr\n",
      "Sc = (q/CV)\t\t\t\t\t#Specific consumption in kg/i.h.p.hr\n",
      "\n",
      "\t\t\t\t\t\n",
      "#Output\n",
      "print 'Compression ratio is %3.2f  \\\n",
      "\\nSpecific consumption is %3.3f kg/i.h.p.hr'%(r,Sc)\n"
     ],
     "language": "python",
     "metadata": {},
     "outputs": [
      {
       "output_type": "stream",
       "stream": "stdout",
       "text": [
        "Compression ratio is 4.51  \n",
        "Specific consumption is 0.279 kg/i.h.p.hr\n"
       ]
      }
     ],
     "prompt_number": 20
    },
    {
     "cell_type": "heading",
     "level": 2,
     "metadata": {},
     "source": [
      "Example 3.22  Page no :  76"
     ]
    },
    {
     "cell_type": "code",
     "collapsed": false,
     "input": [
      "import math \n",
      "\t\t\t\t\t\n",
      "#Input data\n",
      "n = 4.\t\t\t\t\t#Four cylinder four stroke\n",
      "d = 7.5\t\t\t\t\t#Bore in cm\n",
      "L = 8.75\t\t\t\t\t#Stroke in cm\n",
      "r = 6.\t\t\t\t\t#Compression ratio\n",
      "n1 = 55.\t\t\t\t\t#Efficiency in percent\n",
      "g = 1.4\t\t\t\t\t#ratio of specific heats\n",
      "N = 2400.\t\t\t\t\t#Speed in r.p.m\n",
      "pm = 7.\t\t\t\t\t#Brake mean effective pressure in kg/cm**2\n",
      "m = 9.\t\t\t\t\t#Mass of fuel per hour in kg\n",
      "CV = 10500.\t\t\t\t\t#Calorific Value in kcal/kg\n",
      "\n",
      "\t\t\t\t\t\n",
      "#Calculations\n",
      "an = (1-(1/r)**(g-1))*100\t\t\t\t\t#Air standard efficiency in percent\n",
      "In = (an*n1)/100\t\t\t\t\t#Indicated thermal efficiency in percent. In textbook, answer is wrong\n",
      "BHP = (pm*(3.14/4)*d**2*(L/100)*(N/2)*n)\t\t\t\t\t#Brake horse power in kg.m/min\n",
      "Bth = ((BHP*60)/(427*CV*m))*100\t\t\t\t\t#Brake thermal efficiency in percent\n",
      "nm = (Bth/In)*100\t\t\t\t\t#Mechanical efficiency in percent\n",
      "Sc = ((4500*60)/(427*(Bth/100)*CV))\t\t\t\t\t#Specific consumption in g/i.h.p.hr\n",
      "\n",
      "\t\t\t\t\t\n",
      "#Output\n",
      "print 'Indicated thermal efficiency is %3.1f percent  \\\n",
      "\\nBrake thermal efficiency is %3.1f percent  \\\n",
      "\\nMechanical efficiency is %3.1f percent  \\\n",
      "\\nSpecific fuel consumption is %3.3f kg/i.h.p.hr'%(In,Bth,nm,Sc)\n"
     ],
     "language": "python",
     "metadata": {},
     "outputs": [
      {
       "output_type": "stream",
       "stream": "stdout",
       "text": [
        "Indicated thermal efficiency is 28.1 percent  \n",
        "Brake thermal efficiency is 19.3 percent  \n",
        "Mechanical efficiency is 68.6 percent  \n",
        "Specific fuel consumption is 0.312 kg/i.h.p.hr\n"
       ]
      }
     ],
     "prompt_number": 21
    },
    {
     "cell_type": "heading",
     "level": 2,
     "metadata": {},
     "source": [
      "Example 3.26  Page no :  79"
     ]
    },
    {
     "cell_type": "code",
     "collapsed": false,
     "input": [
      "import math \n",
      "\t\t\t\t\t\n",
      "#Input data\n",
      "r = 7.\t\t\t\t\t#Compression ratio\n",
      "v = 1.\t\t\t\t\t#Specific heat at consmath.tant volume increases by 1 percent\n",
      "g = 1.4\t\t\t\t\t#Ratio of specific heats\n",
      "\n",
      "\t\t\t\t\t\n",
      "#Calculations\n",
      "e = (1-(1/r**(g-1)))\t\t\t\t\t#Air standard efficiency\n",
      "dee = -(((1-e)*(g-1)*math.log(r)*(v/100))/e)*100\t\t\t\t\t#Change in efficiency to the original efficiency\n",
      "x = -(dee)\t\t\t\t\t#For Output purpose\n",
      "\n",
      "\t\t\t\t\t\n",
      "#Output\n",
      "print 'Percentage change is efficiency is %3.2f percent i.e. a decrease of %3.2f percent'%(dee,x)\n"
     ],
     "language": "python",
     "metadata": {},
     "outputs": [
      {
       "output_type": "stream",
       "stream": "stdout",
       "text": [
        "Percentage change is efficiency is -0.66 percent i.e. a decrease of 0.66 percent\n"
       ]
      }
     ],
     "prompt_number": 22
    },
    {
     "cell_type": "heading",
     "level": 2,
     "metadata": {},
     "source": [
      "Example 3.30  Page no :  84"
     ]
    },
    {
     "cell_type": "code",
     "collapsed": false,
     "input": [
      "import math \n",
      "\t\t\t\t\t\n",
      "#Input data\n",
      "N = 210.\t\t\t\t\t#Speed in r.p.m\n",
      "d = 0.3\t\t\t\t\t#Diameter of the piston in m\n",
      "L = 0.4\t\t\t\t\t#Stroke in m\n",
      "v = 2.5\t\t\t\t\t#Clearance volume is 2.5% of the swept volume. But in textbook it is given wrong as 25%\n",
      "CO = 19.7\t\t\t\t\t#Percentage of CO gas\n",
      "H2 = 28.8\t\t\t\t\t#Percentage of H2 gas\n",
      "CO2 = 14.4\t\t\t\t\t#Percentage of CO2 gas\n",
      "N2 = 37.1\t\t\t\t\t#Percentage of N2 gas\n",
      "x = 0.875\t\t\t\t\t#Total mixture at N.T.P admitted per suction stroke is 0.875 of the total volume behind the piston at the end of the stroke\n",
      "tn = 35.\t\t\t\t\t#Thermal efficiency in percent\n",
      "CVH2 = 13200.\t\t\t\t\t#Calorific value of H2 per kg in kcal\n",
      "CVC = 2540.\t\t\t\t\t#Calorific value of carbon burning from CO to CO2 in kcal/kg\n",
      "de = 1.293\t\t\t\t\t#Density of air in kg/m**3\n",
      "mC = 12.\t\t\t\t\t#Molecular weight of carbon\n",
      "mO2 = 32.\t\t\t\t\t#Molecular weight of O2\n",
      "mH2 = 2.\t\t\t\t\t#Molecular weight of H2\n",
      "mCO = 28.\t\t\t\t\t#Molecular weight of CO\n",
      "\n",
      "\t\t\t\t\t\n",
      "#Calculations\n",
      "a = ((100./21)*((CO2/100)+((CO/2)/100)))\t\t\t\t\t#Air per cu.m of gas in cu.m\n",
      "Vm = (a+1)\t\t\t\t\t#Volume of mixture per cu.m of gas in cu.m\n",
      "Vs = ((3.14/4)*d**2*L)\t\t\t\t\t#Swept volume in cu.m\n",
      "Vc = (Vs*v)/100\t\t\t\t\t#Clearance volume in cu.m\n",
      "V = Vc+Vs\t\t\t\t\t#Total volume in cu.m\n",
      "VC = V*x\t\t\t\t\t#Volume of charge admitted per stroke in cu.m\n",
      "VM = VC*(N/2)\t\t\t\t\t#Charge volume per minute in cu.m\n",
      "VG = (VM/Vm)\t\t\t\t\t#cu.m of gas per minute\n",
      "vH2 = (VG*(H2/100))\t\t\t\t\t#Volume of H2 per minute in cu.m\n",
      "vCO = (VG*(CO/100))\t\t\t\t\t#Volume of CO per minute in cu.m\n",
      "CVH2cum = (mH2*CVH2)/(vH2*1000)\t\t\t\t\t#Calorific value of H2 per cu.m in kcal\n",
      "CVCO = (CVC*(2*mC)/(2*mCO))\t\t\t\t\t#Calorific value of CO per kg in kcal\n",
      "CVCOcum = (mCO*CVCO)/(vH2*1000)\t\t\t\t\t#Calorific value of CO per cu.m in kcal\n",
      "qH2 = (16.09*CVH2cum)\t\t\t\t\t#Heat in charge due to H2 in kcal\n",
      "qCO = (11*CVCOcum)\t\t\t\t\t#Heat in charge due to CO in kcal\n",
      "qt = (qH2+qCO)\t\t\t\t\t#Heat supplied per minute in kcal\n",
      "qu = (qt*(tn/100))\t\t\t\t\t#Heat utilised in kcal\n",
      "hp = (qu*427)/4500\t\t\t\t\t#H.P developed\n",
      "\n",
      "\t\t\t\t\t\n",
      "#Output\n",
      "print 'Maximum horse power that can be developed is %3.1f H.P'%(hp)\n"
     ],
     "language": "python",
     "metadata": {},
     "outputs": [
      {
       "output_type": "stream",
       "stream": "stdout",
       "text": [
        "Maximum horse power that can be developed is 71.0 H.P\n"
       ]
      }
     ],
     "prompt_number": 23
    },
    {
     "cell_type": "heading",
     "level": 2,
     "metadata": {},
     "source": [
      "Example 3.31  Page no :  84"
     ]
    },
    {
     "cell_type": "code",
     "collapsed": false,
     "input": [
      "import math \n",
      "\t\t\t\t\t\n",
      "#Input data\n",
      "vCH4 = 65.\t\t\t\t\t#Composition by volume of CH4 \n",
      "vH2 = 2.\t\t\t\t\t#Composition by volume of H2\n",
      "vN2 = 2.\t\t\t\t\t#Composition by volume of N2\n",
      "vCO2 = 31.\t\t\t\t\t#Composition by volume of CO2\n",
      "O2 = 5.3\t\t\t\t\t#Composition of O2 in dry exhaust gases when analysed in orsat apparatus\n",
      "N2 = 83.\t\t\t\t\t#Composition of N2 in dry exhaust gases when analysed in orsat apparatus\n",
      "CO = 0.3\t\t\t\t\t#Composition of CO in dry exhaust gases when analysed in orsat apparatus\n",
      "CO2 = 11.4\t\t\t\t\t#Composition of CO2 in dry exhaust gases when analysed in orsat apparatus\n",
      "an = 79.\t\t\t\t\t#Air contains 79% by volume of nitrogen \n",
      "\n",
      "\t\t\t\t\t\n",
      "#Calculations\n",
      "a = (100./(100-an))*(((vCH4/100)*2)+((vN2/100)*(1./2)))\t\t\t\t\t#Total air required for complete combustion of 1 cu.m of gas in cu.m\n",
      "xCO = (CO/2)\t\t\t\t\t#O2 required to burn the CO in cu.m\n",
      "xCO2 = CO\t\t\t\t\t#CO2 formed in cu.m \n",
      "tO2 = O2-xCO\t\t\t\t\t#Total O2 in cu.m\n",
      "tN2 = N2\t\t\t\t\t#Total N2 in cu.m\n",
      "tCO2 = CO2+xCO2\t\t\t\t\t#Total CO2 in cu.m\n",
      "T = tO2+tN2+tCO2\t\t\t\t\t#Total mixture in cu.m\n",
      "pCO2 = (tCO2*100)/T\t\t\t\t\t#Percentage of CO2 in percent\n",
      "mm = (a*100)\t\t\t\t\t#Minimum air supply required for complete combustion of 100 cu.m of the gas in cu.m\n",
      "an2 = (an/100)*mm\t\t\t\t\t#N2 for this air in cu.m\n",
      "tn2 = (an2+vN2)\t\t\t\t\t#Total N2 in cu.m\n",
      "v = (((vCH4+vCO2)*100)/pCO2)-(vCH4+vCO2+tn2)\t\t\t\t\t#Increase in air supply for reduction in percentage of CO2 in cu.m\n",
      "pea = (v*100)/mm\t\t\t\t\t#Percentage of excess air. In textbook it is given wrong as 26.7 percent\n",
      "\n",
      "\t\t\t\t\t\n",
      "#Output\n",
      "print 'a) the air-fuel ratio by volume to give complete combustion is %3.3f  \\\n",
      "\\nb) the percentage of excess air actually used in the test is %3.1f percent'%(a,pea)\n"
     ],
     "language": "python",
     "metadata": {},
     "outputs": [
      {
       "output_type": "stream",
       "stream": "stdout",
       "text": [
        "a) the air-fuel ratio by volume to give complete combustion is 6.238  \n",
        "b) the percentage of excess air actually used in the test is 36.6 percent\n"
       ]
      }
     ],
     "prompt_number": 24
    },
    {
     "cell_type": "heading",
     "level": 2,
     "metadata": {},
     "source": [
      "Example 3.32  Page no :  86"
     ]
    },
    {
     "cell_type": "code",
     "collapsed": false,
     "input": [
      "import math \n",
      "\t\t\t\t\t\n",
      "#Input data\n",
      "Vs = 9.45\t\t\t\t\t#Swept volume in litres\n",
      "Vc = 2.32\t\t\t\t\t#Clearance volume in litres\n",
      "m = 4.25\t\t\t\t\t#Consumption of gas per hour in cu.m\n",
      "N = 165.\t\t\t\t\t#Speed in r.p.m\n",
      "bhp = 5.62\t\t\t\t\t#Brake horse power in h.p\n",
      "nm = 73.4\t\t\t\t\t#Mechanical efficiency in percent\n",
      "CV = 3500.\t\t\t\t\t#Calorific value in kcal per cubic meter\n",
      "vn = 0.87\t\t\t\t\t#Volumetric efficiency\n",
      "g = 1.4\t\t\t\t\t#Ratio of specific heats\n",
      "\n",
      "\t\t\t\t\t\n",
      "#Calculations\n",
      "tV = (Vs+Vc)*1000\t\t\t\t\t#Total volume in c.c\n",
      "rc = (tV/Vc)\t\t\t\t\t#Compression ratio\n",
      "na = (1-(1/rc**(g-1)))*100\t\t\t\t\t#Air math.radians(numpy.arcmath.tan(ard efficiency in percent\n",
      "W = (bhp*4500)/427\t\t\t\t\t#Workdone per minute in kcal\n",
      "Iw = (W/(nm/100))\t\t\t\t\t#Indicated work in kcal/min\n",
      "q = (m/60)*CV\t\t\t\t\t#Heat supplied in kcal/min\n",
      "ith = (Iw/q)*100\t\t\t\t\t#Indicated thermal efficiency in percent\n",
      "rn = (ith/na)*100\t\t\t\t\t#Relative efficiency in percent\n",
      "Vm = (Vs*1000)*vn\t\t\t\t\t#Volume of mixture taken in per stroke in c.c\n",
      "Vg = (m*2*10**6)/(60*N)\t\t\t\t\t#Volume of gas taken in per stroke in c.c\n",
      "Va = (Vm-Vg)\t\t\t\t\t#Volume of air taken in per stroke in c.c\n",
      "agr = (Va/Vg)\t\t\t\t\t#Air gas ratio\n",
      "CVc = (CV/(agr+1))\t\t\t\t\t#Calorific value of charge in kcal\n",
      "\n",
      "\t\t\t\t\t\n",
      "#Output\n",
      "print 'Ratio of air to gas used is %3.2f  \\\n",
      "\\nCalorific value of 1 cu.m of the mixture in the cylinder is %3.1f kcal'%(agr,CVc)\n"
     ],
     "language": "python",
     "metadata": {},
     "outputs": [
      {
       "output_type": "stream",
       "stream": "stdout",
       "text": [
        "Ratio of air to gas used is 8.58  \n",
        "Calorific value of 1 cu.m of the mixture in the cylinder is 365.5 kcal\n"
       ]
      }
     ],
     "prompt_number": 25
    },
    {
     "cell_type": "heading",
     "level": 2,
     "metadata": {},
     "source": [
      "Example 3.33  Page no :  87"
     ]
    },
    {
     "cell_type": "code",
     "collapsed": false,
     "input": [
      "import math \n",
      "\t\t\t\t\t\n",
      "#Input data\n",
      "d = 18.\t\t\t\t\t#Bore in cm\n",
      "l = 37.5\t\t\t\t\t#Stroke in cm\n",
      "N = 220.\t\t\t\t\t#Speed in r.p.m\n",
      "#Mean effective pressure in kg/cm**2\n",
      "#Firing\n",
      "pp = 5.9\t\t\t\t\t#Positive loop\n",
      "pn = 0.248\t\t\t\t\t#Negative loop\n",
      "\t\t\t\t\t#Mismath.sing\n",
      "nn = 0.432\t\t\t\t\t#Negative loop\n",
      "bhp = 8.62\t\t\t\t\t#Brake horse power in h.p\n",
      "ex = 100.\t\t\t\t\t#Explosions per minute\n",
      "vg = 0.101\t\t\t\t\t#Gas used in cu.m per minute\n",
      "\n",
      "\t\t\t\t\t\n",
      "#Calculations\n",
      "tc = (N/2)\t\t\t\t\t#The number of cycles \n",
      "nw = ex\t\t\t\t\t#Number of working cycles \n",
      "nm = (tc-nw)\t\t\t\t\t#Number of mismath.sing cycles\n",
      "ihp = ((l/100)*(3.14/4)*(d**2/4500))*((pp-pn)*(100-nn))\t\t\t\t\t#Net I.H.P in h.p\n",
      "fhp = (ihp-bhp)\t\t\t\t\t#Friction horse power in h.p\n",
      "W = ((pp-pn)*(3.14/4)*(d**2*(l/100)))\t\t\t\t\t#Workdone per firing done in kg.m\n",
      "Wp = (nn*(3.14/4)*d**2*(l/100))\t\t\t\t\t#Workdone per pumping stroke in kg.m\n",
      "n = ((fhp*4500)+(Wp*tc))/(W+Wp)\t\t\t\t\t#Number of strokes\n",
      "gf = (vg/nw)\t\t\t\t\t#Gas per firing stroke in cu.m\n",
      "gl = (n*gf)\t\t\t\t\t#Gas per minute at no load in cu.m\n",
      "\n",
      "\t\t\t\t\t\n",
      "#Output\n",
      "print 'Friction horse power of the engine is %3.2f  Gas consumption at no load is %3.3f cu.m/min'%(fhp,gl)\n"
     ],
     "language": "python",
     "metadata": {},
     "outputs": [
      {
       "output_type": "stream",
       "stream": "stdout",
       "text": [
        "Friction horse power of the engine is 3.31  Gas consumption at no load is 0.034 cu.m/min\n"
       ]
      }
     ],
     "prompt_number": 26
    }
   ],
   "metadata": {}
  }
 ]
}