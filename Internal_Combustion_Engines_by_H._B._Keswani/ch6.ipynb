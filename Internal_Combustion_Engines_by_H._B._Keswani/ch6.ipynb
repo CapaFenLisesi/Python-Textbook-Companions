{
 "metadata": {
  "name": "",
  "signature": "sha256:898a7449413e7734ec995548ea6831e656bb39837964368aebad3ba68a836203"
 },
 "nbformat": 3,
 "nbformat_minor": 0,
 "worksheets": [
  {
   "cells": [
    {
     "cell_type": "heading",
     "level": 1,
     "metadata": {},
     "source": [
      "Chapter 6 : Combustion Charts"
     ]
    },
    {
     "cell_type": "heading",
     "level": 2,
     "metadata": {},
     "source": [
      "Example 6.1  Page no :  123"
     ]
    },
    {
     "cell_type": "code",
     "collapsed": false,
     "input": [
      "import math \n",
      "\t\t\t\t\t\n",
      "#Input data\n",
      "r = 7.5\t\t\t\t\t#Compression ratio\n",
      "\t\t\t\t\t#Data from combustion chart\n",
      "p = [1,15.1,26.95,1.95]\t\t\t\t\t#Pressure of air fuel mixture in kg/cm**2\n",
      "T = [60,460,1150,435]\t\t\t\t\t#Temperature of air fuel mixture in K\n",
      "V = [16.98,2.264,2.264,16.98]\t\t\t\t\t#Volume in m**3/kg\n",
      "U = [17,78.8,212,80]\t\t\t\t\t#Internal energy in kcal/kg\n",
      "S = [0.07,0.07,0.22,0.22]\t\t\t\t\t#Entropy in kcal/kg.degree C\n",
      "g = 1.4\t\t\t\t\t#Ratio of specific heats\n",
      "\n",
      "\t\t\t\t\t\n",
      "#Calculations\n",
      "n = (((U[2]-U[3])-(U[1]-U[0]))/(U[2]-U[1]))*100\t\t\t\t\t#Thermal efficiency in percent\n",
      "na = (1-(1/r)**(g-1))*100\t\t\t\t\t#Air standard efficiency in percent\n",
      "\n",
      "\t\t\t\t\t\n",
      "#Output\n",
      "print 'Thermal efficiency is %3.1f percent  \\\n",
      "\\nAir standard efficiency is %3.1f percent'%(n,na)\n"
     ],
     "language": "python",
     "metadata": {},
     "outputs": [
      {
       "output_type": "stream",
       "stream": "stdout",
       "text": [
        "Thermal efficiency is 52.7 percent  \n",
        "Air standard efficiency is 55.3 percent\n"
       ]
      }
     ],
     "prompt_number": 2
    },
    {
     "cell_type": "heading",
     "level": 2,
     "metadata": {},
     "source": [
      "Example 6.2  Page no :  127"
     ]
    },
    {
     "cell_type": "code",
     "collapsed": false,
     "input": [
      "import math \n",
      "\t\t\t\t\t\n",
      "#Input data\n",
      "\t\t\t\t\t#Data from combustion chart\n",
      "p = [1,33,33,1]\t\t\t\t\t#Pressure of air fuel mixture in kg/cm**2\n",
      "T = [65,600,1450,725]\t\t\t\t\t#Temperature of air fuel mixture in K\n",
      "V = [16,1.23,3.45,16]\t\t\t\t\t#Volume in m**3/kg\n",
      "U = [11.8,110,295,140]\t\t\t\t\t#Internal energy in kcal/kg\n",
      "H = [22.7,150,395,225]\t\t\t\t\t#Enthalpy in kcal/kg\n",
      "S = [0.068,0.068,0.264,0.264]\t\t\t\t\t#Entropy in kcal/kg.degree C\n",
      "\n",
      "\t\t\t\t\t\n",
      "#Calculations\n",
      "r = (V[0]/V[1])\t\t\t\t\t#Compression ratio\n",
      "q = (H[2]-H[1])\t\t\t\t\t#Heat supplied in kcal/kg\n",
      "qre = (U[3]-U[0])\t\t\t\t\t#Heat rejected in kcal/kg\n",
      "nt = ((q-qre)/q)*100\t\t\t\t\t#Thermal efficiency in percent\n",
      "\n",
      "\t\t\t\t\t\n",
      "#Output\n",
      "print 'a)Compression ratio is %3.0f  \\\n",
      "\\nb) Heat supplied to the cycle is %3.0f kcal/kg  \\\n",
      "\\nc) Heat rejected by the cycle is %3.2f kcal/kg  \\\n",
      "\\nd) Thermal efficiency is %3.2f percent'%(r,q,qre,nt)\n"
     ],
     "language": "python",
     "metadata": {},
     "outputs": [
      {
       "output_type": "stream",
       "stream": "stdout",
       "text": [
        "a)Compression ratio is  13  \n",
        "b) Heat supplied to the cycle is 245 kcal/kg  \n",
        "c) Heat rejected by the cycle is 128.20 kcal/kg  \n",
        "d) Thermal efficiency is 47.67 percent\n"
       ]
      }
     ],
     "prompt_number": 4
    },
    {
     "cell_type": "heading",
     "level": 2,
     "metadata": {},
     "source": [
      "Example 6.3  Page no :  130"
     ]
    },
    {
     "cell_type": "code",
     "collapsed": false,
     "input": [
      "import math \n",
      "\t\t\t\t\t\n",
      "#Input data\n",
      "\t\t\t\t\t#Data from combustion chart\n",
      "p = [1,51.5,77.25,77.25,3.75]\t\t\t\t\t#Pressure of air fuel mixture in kg/cm**2\n",
      "T = [16,1,1,1.5,16]\t\t\t\t\t#Temperature of air fuel mixture in K\n",
      "V = [65,745,1400,2200,1030]\t\t\t\t\t#Volume in m**3/kg\n",
      "U = [14.7,135,275,475,197]\t\t\t\t\t#Internal energy in kcal/kg\n",
      "H = [21.9,85,372,625,280]\t\t\t\t\t#Enthalpy in kcal/kg\n",
      "S = [0.068,0.068,0.19,0.32,0.32]\t\t\t\t\t#Entropy in kcal/kg.degree C\n",
      "\n",
      "\t\t\t\t\t\n",
      "#Calculations\n",
      "nth = (((U[2]-U[1])+(H[3]-H[2])-(U[4]-U[0]))/((U[2]-U[1])+(H[3]-H[2])))*100\t\t\t\t\t#Thermal efficiency in percent\n",
      "\n",
      "\t\t\t\t\t\n",
      "#Output\n",
      "print 'Thermal efficiency is %3.2f percent'%(nth)\n"
     ],
     "language": "python",
     "metadata": {},
     "outputs": [
      {
       "output_type": "stream",
       "stream": "stdout",
       "text": [
        "Thermal efficiency is 53.61 percent\n"
       ]
      }
     ],
     "prompt_number": 5
    }
   ],
   "metadata": {}
  }
 ]
}