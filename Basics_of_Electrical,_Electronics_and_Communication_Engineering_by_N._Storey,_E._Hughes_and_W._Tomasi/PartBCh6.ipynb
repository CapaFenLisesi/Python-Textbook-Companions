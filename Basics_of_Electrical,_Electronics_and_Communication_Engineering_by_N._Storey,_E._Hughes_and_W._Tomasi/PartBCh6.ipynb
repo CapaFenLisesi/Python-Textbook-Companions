{
 "metadata": {
  "name": "",
  "signature": "sha256:8403b6a2456cc38212f79201c05449f10a04ffecbe68dbb0c5f7fff2e9993540"
 },
 "nbformat": 3,
 "nbformat_minor": 0,
 "worksheets": [
  {
   "cells": [
    {
     "cell_type": "heading",
     "level": 1,
     "metadata": {},
     "source": [
      "Part B : Chapter 6 : Communication System"
     ]
    },
    {
     "cell_type": "heading",
     "level": 2,
     "metadata": {},
     "source": [
      "Example 6.1 Page no : 6.24"
     ]
    },
    {
     "cell_type": "code",
     "collapsed": false,
     "input": [
      "import math \n",
      "\n",
      "# Variables\n",
      "theta1 = 30;\t\t\t\t#degree(Angle of incedence)\n",
      "n1 = 1.5;\t\t\t\t#(refractive index for glass)\n",
      "n2 = 1.36;\t\t\t\t#(refractive index for ethyl alcohol)\n",
      "\n",
      "# Calculations\n",
      "theta2 = math.degrees(math.asin(n1*math.sin(math.radians(theta1))/n2));\t\t\t\t#degree(Angle of refraction)\n",
      "\n",
      "# Results\n",
      "print \"Angle of refraction(degree) : %.2f\"%theta2\n"
     ],
     "language": "python",
     "metadata": {},
     "outputs": [
      {
       "output_type": "stream",
       "stream": "stdout",
       "text": [
        "Angle of refraction(degree) : 33.47\n"
       ]
      }
     ],
     "prompt_number": 2
    },
    {
     "cell_type": "heading",
     "level": 2,
     "metadata": {},
     "source": [
      "Example 6.2 Page no : 6.35"
     ]
    },
    {
     "cell_type": "code",
     "collapsed": false,
     "input": [
      "\n",
      "# Variables\n",
      "clusters = 10;\t\t\t\t#no. of clusters\n",
      "cells = 7;\t\t\t\t#no. of cells in a cluster\n",
      "channels = 10;\t\t\t\t#no. of channels in a cell\n",
      "\n",
      "# Calculations and Results\n",
      "F = cells*channels;\t\t\t\t#no. of full duplex channels/cluster\n",
      "print \"Number of channels per cluster : %.2f\"%F\n",
      "\n",
      "C = clusters*cells*channels;\t\t\t\t#total no. of channels\n",
      "print \"Total channel capacity : %.2f\"%C\n"
     ],
     "language": "python",
     "metadata": {},
     "outputs": [
      {
       "output_type": "stream",
       "stream": "stdout",
       "text": [
        "Number of channels per cluster : 70.00\n",
        "Total channel capacity : 700.00\n"
       ]
      }
     ],
     "prompt_number": 3
    },
    {
     "cell_type": "heading",
     "level": 2,
     "metadata": {},
     "source": [
      "Example 6.3 Page no : 6.37"
     ]
    },
    {
     "cell_type": "code",
     "collapsed": false,
     "input": [
      "\n",
      "# Variables\n",
      "Asys = 1520.;\t\t\t\t#km**2\n",
      "Ch = 1140.;\t\t\t\t#no. of channels\n",
      "Acell = 4.;\t\t\t\t#km**2\n",
      "i = 3.;\n",
      "j = 2.;\t\t\t\t#For hexagon cells\n",
      "\n",
      "# Calculations and Results\n",
      "N = i**2+i*j+j**2;\t\t\t\t#cells in a cluster\n",
      "print \"(a) No. of cells in a cluster : %.2f\"%N\n",
      "\n",
      "Acluster = N*Acell;\t\t\t\t#km**2\n",
      "cluster = Asys/Acluster;\t\t\t\t#no. of clusters\n",
      "print \"(b) Number of clusters : %.2f\"%cluster\n",
      "print \"(c) Area of each cellular cluster(km**2) : %.2f\"%Acluster\n",
      "\n",
      "C = cluster*Ch;\t\t\t\t#system capacity\n",
      "print \"(d) Increased system capacity(No. of channels) : %.2f\"%C\n",
      "\n",
      "#Without frequency reuse :-\n",
      "c_sys = Asys/Acell;\t\t\t\t#No. of cell in a system\n",
      "ch_cell = Ch/c_sys;\t\t\t\t#No. of channels/cell\n",
      "print \"(e_i) Without frequency reuse, No. of channels/cell : %.2f\"%ch_cell\n",
      "\n",
      "#With frequency reuse :-\n",
      "ch_cell = Ch/N;\t\t\t\t#No. of channels/cell\n",
      "print \"(e_ii) With frequency reuse, No. of channels/cell : %.2f\"%ch_cell\n"
     ],
     "language": "python",
     "metadata": {},
     "outputs": [
      {
       "output_type": "stream",
       "stream": "stdout",
       "text": [
        "(a) No. of cells in a cluster : 19.00\n",
        "(b) Number of clusters : 20.00\n",
        "(c) Area of each cellular cluster(km**2) : 76.00\n",
        "(d) Increased system capacity(No. of channels) : 22800.00\n",
        "(e_i) Without frequency reuse, No. of channels/cell : 3.00\n",
        "(e_ii) With frequency reuse, No. of channels/cell : 60.00\n"
       ]
      }
     ],
     "prompt_number": 4
    }
   ],
   "metadata": {}
  }
 ]
}