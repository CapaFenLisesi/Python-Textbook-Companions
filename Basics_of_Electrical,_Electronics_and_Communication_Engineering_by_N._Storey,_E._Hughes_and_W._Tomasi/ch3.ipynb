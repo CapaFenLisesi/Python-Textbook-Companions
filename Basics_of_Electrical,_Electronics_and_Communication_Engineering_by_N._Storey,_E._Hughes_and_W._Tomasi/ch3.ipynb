{
 "metadata": {
  "name": "",
  "signature": "sha256:5832974f6596b2ec48130c7a269a7244dd2c7926d7d3ec08f6fd040b8078eb6e"
 },
 "nbformat": 3,
 "nbformat_minor": 0,
 "worksheets": [
  {
   "cells": [
    {
     "cell_type": "heading",
     "level": 1,
     "metadata": {},
     "source": [
      "Chapter 3 : Single Phase AC Circuits"
     ]
    },
    {
     "cell_type": "heading",
     "level": 2,
     "metadata": {},
     "source": [
      "Example 3.1  Page No :   3.7"
     ]
    },
    {
     "cell_type": "code",
     "collapsed": false,
     "input": [
      "import math \n",
      "\n",
      "# Variables\n",
      "N = 100.;\t\t\t\t#turns\n",
      "R = 1500.;\t\t\t\t#rpm(Rotation)\n",
      "B = 0.05;\t\t\t\t#T(Magnetic field)\n",
      "A = 40.;\t\t\t\t#cm**2(Cross sectional area)\n",
      "\n",
      "# Calculations and Results\n",
      "f = R/60;\t\t\t\t#Hz\n",
      "theta = 30.;\t\t\t\t#degree\n",
      "print \"(a) Frequency(Hz) : %.2f\"%f\n",
      "\n",
      "Period = 1/f;\t\t\t\t#seconds\n",
      "print \"(b) Period(seconds) : %.2f\"%Period\n",
      "\n",
      "Em = 2*math.pi*B*(A/10**4)*N*f;\t\t\t\t#V\n",
      "print \"(c) Maximum value of gnerated emf(V) : %.2f\"%Em\n",
      "\n",
      "e = math.pi*math.sin(math.radians(theta));\t\t\t\t#V\n",
      "print \"(d) Gnerated emf after rotation(V) : %.2f\"%e\n"
     ],
     "language": "python",
     "metadata": {},
     "outputs": [
      {
       "output_type": "stream",
       "stream": "stdout",
       "text": [
        "(a) Frequency(Hz) : 25.00\n",
        "(b) Period(seconds) : 0.04\n",
        "(c) Maximum value of gnerated emf(V) : 3.14\n",
        "(d) Gnerated emf after rotation(V) : 1.57\n"
       ]
      }
     ],
     "prompt_number": 1
    },
    {
     "cell_type": "heading",
     "level": 2,
     "metadata": {},
     "source": [
      "Example 3.2  Page No :  3.12"
     ]
    },
    {
     "cell_type": "code",
     "collapsed": false,
     "input": [
      "import math \n",
      "\n",
      "# Variables\n",
      "Irms = 10;\t\t\t\t#A\n",
      "\n",
      "# Calculations\n",
      "Im = Irms*math.sqrt(2);\t\t\t\t#A\n",
      "\n",
      "# Results\n",
      "print \"Peak values of current(A) are :%.2f and %.2f\"%(+Im,-Im)\n"
     ],
     "language": "python",
     "metadata": {},
     "outputs": [
      {
       "output_type": "stream",
       "stream": "stdout",
       "text": [
        "Peak values of current(A) are :14.14 and -14.14\n"
       ]
      }
     ],
     "prompt_number": 3
    },
    {
     "cell_type": "heading",
     "level": 2,
     "metadata": {},
     "source": [
      "Example 3.3  Page No :  3.12"
     ]
    },
    {
     "cell_type": "code",
     "collapsed": false,
     "input": [
      "import math \n",
      "\n",
      "# Variables\n",
      "#v = 141.4*math.sin(377*t)\n",
      "Vm = 141.4;\t\t\t\t#V\n",
      "\n",
      "# Calculations and Results\n",
      "V = Vm/math.sqrt(2);\t\t\t\t#V(rms voltage)\n",
      "print \"(a) r.m.s. Voltage(V) : %.f\"%V\n",
      "\n",
      "omega = 377.;\t\t\t\t#rad/s\n",
      "f = omega/2/math.pi;\t\t\t\t#Hz\n",
      "print \"(b) Frequency(Hz) : %.2f\"%f\n",
      "\n",
      "t = 3*10**-3;\t\t\t\t#seconds\n",
      "v = 141.4*math.sin(377*t);\t\t\t\t#V\n",
      "print \"(c) Instantaneous Voltage(V) : %.2f\"%v\n"
     ],
     "language": "python",
     "metadata": {},
     "outputs": [
      {
       "output_type": "stream",
       "stream": "stdout",
       "text": [
        "(a) r.m.s. Voltage(V) : 100\n",
        "(b) Frequency(Hz) : 60.00\n",
        "(c) Instantaneous Voltage(V) : 127.94\n"
       ]
      }
     ],
     "prompt_number": 5
    },
    {
     "cell_type": "heading",
     "level": 2,
     "metadata": {},
     "source": [
      "Example 3.4  Page No :  3.13"
     ]
    },
    {
     "cell_type": "code",
     "collapsed": false,
     "input": [
      "import math \n",
      "\n",
      "# Variables\n",
      "V = 110.;\t\t\t\t#V(Supply voltage)\n",
      "R = 50.;\t\t\t\t#ohm\n",
      "\n",
      "# Calculations and Results\n",
      "Vm = V*math.sqrt(2);\t\t\t\t#V(maximum voltage)\n",
      "Im = Vm/R;\t\t\t\t#A(maximum current)\n",
      "Iav1 = 0.637*Im;\t\t\t\t#A(average current Over +ve half cycle)\n",
      "Iav2 = 0;\t\t\t\t#(average current Over -ve half cycle)\n",
      "Iav = (Iav1+Iav2)/2;\t\t\t\t#A(average current Over whole cycle)\n",
      "print \"(a) Reading on moving coil ammeter(A) : %.2f\"%Iav\n",
      "\n",
      "#For thermal ammeter : I**2*R = 1/4*Im**2*R(thermal effect for complete cycle)\n",
      "I = math.sqrt(1./4*Im**2);\t\t\t\t#A(reading on thermal ammeter)\n",
      "print \"(a) Reading on thermal ammeter(A) : %.2f\"%I\n",
      "\n",
      "kf = I/Iav;\t\t\t\t#form factor\n",
      "kp = Im/I;\t\t\t\t#peak factor\n",
      "print \"(b) Form factor & peak factor are : %.2f and %.2f\"%(kf,kp)\n"
     ],
     "language": "python",
     "metadata": {},
     "outputs": [
      {
       "output_type": "stream",
       "stream": "stdout",
       "text": [
        "(a) Reading on moving coil ammeter(A) : 0.99\n",
        "(a) Reading on thermal ammeter(A) : 1.56\n",
        "(b) Form factor & peak factor are : 1.57 and 2.00\n"
       ]
      }
     ],
     "prompt_number": 6
    },
    {
     "cell_type": "heading",
     "level": 2,
     "metadata": {},
     "source": [
      "Example 3.5  Page No :  3.21"
     ]
    },
    {
     "cell_type": "code",
     "collapsed": false,
     "input": [
      "import math \n",
      "\n",
      "V = 100.;\t\t\t\t#V\n",
      "R = 7.;\t\t\t\t#ohm\n",
      "L = 31.8;\t\t\t\t#mH\n",
      "f = 50.;\t\t\t\t#/Hz\n",
      "XL = 2*math.pi*f*L/1000;\t\t\t\t#ohm\n",
      "Z = math.sqrt(R**2+XL**2);\t\t\t\t#ohm\n",
      "I = V/Z;\t\t\t\t#A(circuit current)\n",
      "print \"(a) Circuit current(A) %.1f\"%I\n",
      "\n",
      "fi = math.degrees(math.atan(XL/R));\t\t\t\t#degree(lag)\n",
      "print \"(b) Phase angle(lag) in degree : %.f\"%fi \n"
     ],
     "language": "python",
     "metadata": {},
     "outputs": [
      {
       "output_type": "stream",
       "stream": "stdout",
       "text": [
        "(a) Circuit current(A) 8.2\n",
        "(b) Phase angle(lag) in degree : 55\n"
       ]
      }
     ],
     "prompt_number": 10
    },
    {
     "cell_type": "heading",
     "level": 2,
     "metadata": {},
     "source": [
      "Example 3.6  Page No :  3.21"
     ]
    },
    {
     "cell_type": "code",
     "collapsed": false,
     "input": [
      "import math \n",
      "\n",
      "# Variables\n",
      "L = 318.;\t\t\t\t#mH\n",
      "R = 75.;\t\t\t\t#ohm\n",
      "VR = 150.;\t\t\t\t#V\n",
      "f = 50.;\t\t\t\t#/Hz\n",
      "\n",
      "# Calculations\n",
      "I = VR/R;\t\t\t\t#A\n",
      "XL = 2*math.pi*f*L/1000;\t\t\t\t#ohm\n",
      "VL = I*XL;\t\t\t\t#V\n",
      "V = math.sqrt(VR**2+VL**2);\t\t\t\t#V\n",
      "\n",
      "# Results\n",
      "print \"Supply Voltage(V) : %.f\"%V\n"
     ],
     "language": "python",
     "metadata": {},
     "outputs": [
      {
       "output_type": "stream",
       "stream": "stdout",
       "text": [
        "Supply Voltage(V) : 250\n"
       ]
      }
     ],
     "prompt_number": 12
    },
    {
     "cell_type": "heading",
     "level": 2,
     "metadata": {},
     "source": [
      "Example 3.7  Page No :  3.21"
     ]
    },
    {
     "cell_type": "code",
     "collapsed": false,
     "input": [
      "import math \n",
      "\n",
      "# Variables\n",
      "ZLr = 50.;\t\t\t\t#ohm\n",
      "fiLr = 45.;\t\t\t\t#degree(lag)(between current & Voltage)\n",
      "R = 40.;\t\t\t\t#ohm\n",
      "I = 3.;\t\t\t\t#A(Circuit current)\n",
      "\n",
      "# Calculations and Results\n",
      "VR = I*R;\t\t\t\t#V\n",
      "VLr = I*ZLr;\t\t\t\t#V\n",
      "V = math.sqrt(VR**2+VLr**2+2*VR*VLr*math.cos(math.radians(fiLr)));\t\t\t\t#V\n",
      "print \"Supply voltage(V) : %.f\"%V\n",
      "print math.cos(math.radians(fiLr))\n",
      "fi = math.degrees(math.acos((VR+VLr*math.cos(math.radians(fiLr)))/V));\t\t\t\t#degree\n",
      "print \"Circuit phase angle(lag in degree) : %.f\"%fi\n"
     ],
     "language": "python",
     "metadata": {},
     "outputs": [
      {
       "output_type": "stream",
       "stream": "stdout",
       "text": [
        "Supply voltage(V) : 250\n",
        "0.707106781187\n",
        "Circuit phase angle(lag in degree) : 25\n"
       ]
      }
     ],
     "prompt_number": 22
    },
    {
     "cell_type": "heading",
     "level": 2,
     "metadata": {},
     "source": [
      "Example 3.8  Page No :  3.24"
     ]
    },
    {
     "cell_type": "code",
     "collapsed": false,
     "input": [
      "import math \n",
      "\n",
      "# Variables\n",
      "C = 30.;\t\t\t\t#micro F\n",
      "V = 400.;\t\t\t\t#V\n",
      "f = 50.;\t\t\t\t#Hz\n",
      "\n",
      "# Calculations and Results\n",
      "Xc = 1/(2*math.pi*f*C*10**-6);\t\t\t\t#ohm\n",
      "print \"(a) Reacmath.tance of capacitor(ohm) : %.2f\"%Xc\n",
      "\n",
      "I = V/Xc;\t\t\t\t#A\n",
      "print \"(b) Current(A) : %.2f\"%I\n"
     ],
     "language": "python",
     "metadata": {},
     "outputs": [
      {
       "output_type": "stream",
       "stream": "stdout",
       "text": [
        "(a) Reacmath.tance of capacitor(ohm) : 106.10\n",
        "(b) Current(A) : 3.77\n"
       ]
      }
     ],
     "prompt_number": 23
    },
    {
     "cell_type": "heading",
     "level": 2,
     "metadata": {},
     "source": [
      "Example 3.9  Page No :  3.26"
     ]
    },
    {
     "cell_type": "code",
     "collapsed": false,
     "input": [
      "import math \n",
      "\n",
      "# Variables\n",
      "R = 12.;\t\t\t\t#ohm(Coil Resistance)\n",
      "L = 0.1;\t\t\t\t#H(Coil Inductance)\n",
      "V = 100.;\t\t\t\t#V\n",
      "f =  50.;\t\t\t\t#Hz\n",
      "\n",
      "# Calculations and Results\n",
      "XL = 2*math.pi*f*L;\t\t\t\t#ohm\n",
      "Z = math.sqrt(R**2+XL**2);\t\t\t\t#ohm\n",
      "print \"(a) Reactance(ohm) & impedence(ohm) of the coil are : %.2f and %.2f\"%(XL,Z)\n",
      "\n",
      "I = V/Z;\t\t\t\t#A\n",
      "print \"(b) Current(A) : %.2f\"%I\n",
      "\n",
      "fi = math.degrees(math.atan(XL/R));\t\t\t\t#degree\n",
      "print \"Phase difference(degree) : %.f\"%fi\n"
     ],
     "language": "python",
     "metadata": {},
     "outputs": [
      {
       "output_type": "stream",
       "stream": "stdout",
       "text": [
        "(a) Reactance(ohm) & impedence(ohm) of the coil are : 31.42 and 33.63\n",
        "(b) Current(A) : 2.97\n",
        "Phase difference(degree) : 69\n"
       ]
      }
     ],
     "prompt_number": 25
    },
    {
     "cell_type": "heading",
     "level": 2,
     "metadata": {},
     "source": [
      "Example 3.10  Page No :  3.27"
     ]
    },
    {
     "cell_type": "code",
     "collapsed": false,
     "input": [
      "import math \n",
      "\n",
      "# Variables\n",
      "Pr = 750.;\t\t\t\t#W(rated)\n",
      "Vr = 100.;\t\t\t\t#V(rated)\n",
      "V = 230.;\t\t\t\t#V(Supply voltage)\n",
      "f = 60.;\t\t\t\t#Hz\n",
      "\n",
      "# Calculations and Results\n",
      "VC = math.sqrt(V**2-Vr**2);\t\t\t\t#V(Voltage across capacitor)\n",
      "Ir = Pr/Vr;\t\t\t\t#A(Rated current)\n",
      "C = Ir/(2*math.pi*f*VC)*10**6;\t\t\t\t#micro F\n",
      "print \"(a) Capacimath.tance required(micro F) : %.2f\"%C\n",
      "\n",
      "fi = math.acos(math.radians(Vr/V));\t\t\t\t#degree\n",
      "print \"(b) Phase angle(degree) : %.2f\"%fi\n"
     ],
     "language": "python",
     "metadata": {},
     "outputs": [
      {
       "output_type": "stream",
       "stream": "stdout",
       "text": [
        "(a) Capacimath.tance required(micro F) : 96.05\n",
        "(b) Phase angle(degree) : 1.56\n"
       ]
      }
     ],
     "prompt_number": 26
    },
    {
     "cell_type": "heading",
     "level": 2,
     "metadata": {},
     "source": [
      "Example 3.11  Page No :  3.27"
     ]
    },
    {
     "cell_type": "code",
     "collapsed": false,
     "input": [
      "import math \n",
      "\n",
      "# Variables\n",
      "R = 12.;\t\t\t\t#ohm\n",
      "L = 0.15;\t\t\t\t#H\n",
      "C = 100.;\t\t\t\t#micro F\n",
      "V = 100.;\t\t\t\t#V\n",
      "f = 50.;\t\t\t\t#Hz\n",
      "\n",
      "# Calculations and Results\n",
      "XL = 2*math.pi*f*L;\t\t\t\t#ohm\n",
      "XC = 1/(2*math.pi*f*C*10**-6);\t\t\t\t#ohm\n",
      "Z = math.sqrt(R**2+(XL-XC)**2);\t\t\t\t#ohm\n",
      "print \"(a) Impedence(ohm) : %.2f\"%Z\n",
      "\n",
      "I = V/Z;\t\t\t\t#A\n",
      "print \"(b) Current(A) : %.2f\"%I\n",
      "\n",
      "VR = R*I;\t\t\t\t#V\n",
      "VL = XL*I;\t\t\t\t#V\n",
      "VC = XC*I;\t\t\t\t#V\n",
      "print \"(b) Voltge(V) across R, L & C : %.2f , %.2f and %.2f\"%(VR,VL,VC)\n",
      "\n",
      "fi = math.degrees(math.acos(VR/V));\t\t\t\t#degree\n",
      "print \"(c) Phase difference(degree): %.2f\"%fi\n"
     ],
     "language": "python",
     "metadata": {},
     "outputs": [
      {
       "output_type": "stream",
       "stream": "stdout",
       "text": [
        "(a) Impedence(ohm) : 19.44\n",
        "(b) Current(A) : 5.14\n",
        "(b) Voltge(V) across R, L & C : 61.73 , 242.42 and 163.75\n",
        "(c) Phase difference(degree): 51.88\n"
       ]
      }
     ],
     "prompt_number": 28
    },
    {
     "cell_type": "heading",
     "level": 2,
     "metadata": {},
     "source": [
      "Example 3.12  Page No :  3.33"
     ]
    },
    {
     "cell_type": "code",
     "collapsed": false,
     "input": [
      "import math \n",
      "\n",
      "# Variables\n",
      "R = 6.;\t\t\t\t#ohm\n",
      "L = 0.03;\t\t\t\t#H\n",
      "V = 50.;\t\t\t\t#V\n",
      "f = 60.;\t\t\t\t#Hz\n",
      "\n",
      "# Calculations and Results\n",
      "XL = 2*math.pi*f*L;\t\t\t\t#ohm\n",
      "Z = math.sqrt(R**2+XL**2);\t\t\t\t#ohm\n",
      "I = V/Z;\t\t\t\t#A\n",
      "print \"(a) Current(A) : %.2f\"%I\n",
      "\n",
      "fi = math.degrees(math.atan(XL/R));\t\t\t\t#degree\n",
      "print \"(b) Phase angle(degree) : %.2f\"%fi\n",
      "\n",
      "S = V*I;\t\t\t\t#VA(Apparent power)\n",
      "print \"(c) Apparent power(VA) : %.2f\"%S\n",
      "\n",
      "P = S*math.cos(math.radians(fi));\t\t\t\t#W\n",
      "print \"(d) Active power(W) : %.f\"%P\n"
     ],
     "language": "python",
     "metadata": {},
     "outputs": [
      {
       "output_type": "stream",
       "stream": "stdout",
       "text": [
        "(a) Current(A) : 3.91\n",
        "(b) Phase angle(degree) : 62.05\n",
        "(c) Apparent power(VA) : 195.27\n",
        "(d) Active power(W) : 92\n"
       ]
      }
     ],
     "prompt_number": 29
    },
    {
     "cell_type": "heading",
     "level": 2,
     "metadata": {},
     "source": [
      "Example 3.13  Page No :  3.34"
     ]
    },
    {
     "cell_type": "code",
     "collapsed": false,
     "input": [
      "import math \n",
      "\n",
      "# Variables\n",
      "R = 30.;\t\t\t\t#ohm\n",
      "V = 230.;\t\t\t\t#V\n",
      "f = 50.;\t\t\t\t#Hz\n",
      "VR = 130.;\t\t\t\t#V\n",
      "VLr = 180.;\t\t\t\t#V\n",
      "\n",
      "# Calculations\n",
      "fiLr = math.degrees(math.acos((V**2-VR**2-VLr**2)/(2*VR*VLr)));\t\t\t\t#degree(lag)\n",
      "I = VR/R;\t\t\t\t#A\n",
      "Pr = VLr*I*math.cos(math.radians(fiLr));\t\t\t\t#W\n",
      "\n",
      "# Results\n",
      "print \"Power dissipated in the coil(W) : %.2f\"%Pr\n"
     ],
     "language": "python",
     "metadata": {},
     "outputs": [
      {
       "output_type": "stream",
       "stream": "stdout",
       "text": [
        "Power dissipated in the coil(W) : 60.00\n"
       ]
      }
     ],
     "prompt_number": 31
    },
    {
     "cell_type": "heading",
     "level": 2,
     "metadata": {},
     "source": [
      "Example 3.14  Page No :  3.35"
     ]
    },
    {
     "cell_type": "code",
     "collapsed": false,
     "input": [
      "import math \n",
      "\n",
      "# Variables\n",
      "V = 230.;\t\t\t\t#V\n",
      "f = 50.;\t\t\t\t#Hz\n",
      "I = 5.;\t\t\t\t#A\n",
      "P = 750.;\t\t\t\t#W\n",
      "\n",
      "# Calculations and Results\n",
      "Z = V/I;\t\t\t\t#ohm\n",
      "R = P/I**2;\t\t\t\t#ohm(Resistance)\n",
      "XL = math.sqrt(Z**2-R**2);\t\t\t\t#ohm(reacmath.tance)\n",
      "L = XL/2/math.pi/f;\t\t\t\t#H(Inductance)\n",
      "print \"(a) Resistance(ohm) : %.2f\"%R\n",
      "print \"(a) Inductance(mH) : %.2f\"%(L*1000)\n",
      "\n",
      "pf = P/(V*I);\t\t\t\t#power factor(lag)\n",
      "print \"(b) Power factor(lag) : %.2f \"%pf\n"
     ],
     "language": "python",
     "metadata": {},
     "outputs": [
      {
       "output_type": "stream",
       "stream": "stdout",
       "text": [
        "(a) Resistance(ohm) : 30.00\n",
        "(a) Inductance(mH) : 111.00\n",
        "(b) Power factor(lag) : 0.65 \n"
       ]
      }
     ],
     "prompt_number": 32
    }
   ],
   "metadata": {}
  }
 ]
}