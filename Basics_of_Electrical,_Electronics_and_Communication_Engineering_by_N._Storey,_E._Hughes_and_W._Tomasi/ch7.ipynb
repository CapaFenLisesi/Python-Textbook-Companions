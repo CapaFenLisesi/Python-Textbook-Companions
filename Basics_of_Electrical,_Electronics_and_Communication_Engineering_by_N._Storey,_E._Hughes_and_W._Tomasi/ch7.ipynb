{
 "metadata": {
  "name": "",
  "signature": "sha256:b878fc066fefa58833a7b2835f2e845d255863cbc07b67c34a50477d1af138d4"
 },
 "nbformat": 3,
 "nbformat_minor": 0,
 "worksheets": [
  {
   "cells": [
    {
     "cell_type": "heading",
     "level": 1,
     "metadata": {},
     "source": [
      "Chapter 7 : Induction Machines"
     ]
    },
    {
     "cell_type": "heading",
     "level": 2,
     "metadata": {},
     "source": [
      "Example 7.1  Page No :  7.4"
     ]
    },
    {
     "cell_type": "code",
     "collapsed": false,
     "input": [
      "\n",
      "# Variables\n",
      "P = 4.;\t\t\t\t#no. of poles\n",
      "f = 50;\t\t\t\t#Hz\n",
      "S = 4./100;\t\t\t\t#slip\n",
      "N = 600;\t\t\t\t#rpm\n",
      "p = P/2;\t\t\t\t#pair of poles\n",
      "\n",
      "# Calculations and Results\n",
      "#(a)\n",
      "Ns = 60*f/p;\t\t\t\t#rpm(Synchronous speed)\n",
      "print \"(a) Synchronous speed(rpm) : %.2f\"%Ns\n",
      "\n",
      "#(b)\n",
      "Nr = Ns-S*Ns;\t\t\t\t#rpm(Rotor speed)\n",
      "print \"(b) Rotor speed(rpm) : %.2f\"%Nr\n",
      "\n",
      "#(c)\n",
      "Sdash = (Ns-N)/Ns;\t\t\t\t#per unot slip\n",
      "fr = f*Sdash;\t\t\t\t#Hz(Rotor frequency)\n",
      "print \"Rotor frequency(Hz) : %.2f\"%fr\n"
     ],
     "language": "python",
     "metadata": {},
     "outputs": [
      {
       "output_type": "stream",
       "stream": "stdout",
       "text": [
        "(a) Synchronous speed(rpm) : 1500.00\n",
        "(b) Rotor speed(rpm) : 1440.00\n",
        "Rotor frequency(Hz) : 30.00\n"
       ]
      }
     ],
     "prompt_number": 1
    },
    {
     "cell_type": "heading",
     "level": 2,
     "metadata": {},
     "source": [
      "Example 7.2  Page No :  7.4"
     ]
    },
    {
     "cell_type": "code",
     "collapsed": false,
     "input": [
      "import math \n",
      "\n",
      "# Variables\n",
      "Zs = 240.;\t\t\t\t#no. of conductors in stator winding\n",
      "Zr = 48.;\t\t\t\t#no. of conductors in rotor winding\n",
      "Rr = 0.013;\t\t\t\t#ohm/phase(ressmath.tance rotor windig)\n",
      "XL = 0.048;\t\t\t\t#ohm/phase(leakega reacmath.tance)\n",
      "Vs = 400.;\t\t\t\t#V\n",
      "\n",
      "# Calculations and Results\n",
      "#(a)\n",
      "Eo = Vs*Zr/Zs;\t\t\t\t#V(rotor emf)\n",
      "print \"(a) Rotor emf(V) : %.2f\"%Eo\n",
      "\n",
      "#(b)\n",
      "S = 4./100;\t\t\t\t#slip\n",
      "Eo = Eo*S;\t\t\t\t#V(rotor emf for 4% slip)\n",
      "print \"(b) Rotor emf at 4%% slip(V) :  %.2f\"%Eo\n",
      "\n",
      "Z = math.sqrt(Rr**2+(S*XL)**2);\t\t\t\t#ohm/phase(rotor impedence at 4% slip)\n",
      "Ir = Eo/Z;\t\t\t\t#A(Rotor curren at 4% slip)\n",
      "print \"(b) Rotor curren at 4%% slip(A) : %.2f\"%Ir\n",
      "\n",
      "#(c)\n",
      "fi_r = math.degrees(math.atan(S*XL/Rr));\t\t\t\t#degree\n",
      "print \"(c) Phase difference at 4%% slip(degree) : %.2f\"%fi_r\n",
      "\n",
      "S = 100./100;\t\t\t\t#100% slip\n",
      "fi_r = math.degrees(math.atan(S*XL/Rr));\t\t\t\t#degree\n",
      "print \"(c) Phase difference at 100%% slip(degree) : %.2f\"%fi_r\n",
      "\n",
      "# note : rounding off error."
     ],
     "language": "python",
     "metadata": {},
     "outputs": [
      {
       "output_type": "stream",
       "stream": "stdout",
       "text": [
        "(a) Rotor emf(V) : 80.00\n",
        "(b) Rotor emf at 4% slip(V) :  3.20\n",
        "(b) Rotor curren at 4% slip(A) : 243.51\n",
        "(c) Phase difference at 4% slip(degree) : 8.40\n",
        "(c) Phase difference at 100% slip(degree) : 74.85\n"
       ]
      }
     ],
     "prompt_number": 3
    }
   ],
   "metadata": {}
  }
 ]
}