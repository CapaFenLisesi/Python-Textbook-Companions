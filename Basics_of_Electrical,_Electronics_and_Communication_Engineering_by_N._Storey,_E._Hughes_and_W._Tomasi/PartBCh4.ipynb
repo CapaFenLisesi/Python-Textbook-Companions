{
 "metadata": {
  "name": "",
  "signature": "sha256:d610d0d35b1108468962e5c6764a0229e274de9fd25b118501a5da4efbea7d39"
 },
 "nbformat": 3,
 "nbformat_minor": 0,
 "worksheets": [
  {
   "cells": [
    {
     "cell_type": "heading",
     "level": 1,
     "metadata": {},
     "source": [
      "Part B : Chapter 4 : Radio Communication"
     ]
    },
    {
     "cell_type": "heading",
     "level": 2,
     "metadata": {},
     "source": [
      "Example 4.1 Page no : 4.3"
     ]
    },
    {
     "cell_type": "code",
     "collapsed": false,
     "input": [
      "import math \n",
      "\n",
      "fc = 100.;\t\t\t\t#kHz\n",
      "fm = 5.;\t\t\t\t#kHz\n",
      "\n",
      "# Calculations and Results\n",
      "LSB = [fc-fm ,fc];\t\t\t\t#kHz\n",
      "USB = [fc, fc+fm];\t\t\t\t#kHz\n",
      "print (\"Part (a)\");\n",
      "print (\"Lower sideband is from \"+str(LSB[0])+\" kHz to \"+str(LSB[1])+\" kHz\");\n",
      "print (\"Upper sideband is from \"+str(USB[0])+\" kHz to \"+str(USB[1])+\" kHz\");\n",
      "B = 2*fm;\t\t\t\t#kHz\n",
      "print \"(b) Bandwidth(kHz)\",B\n",
      "print (\"part (c)\");\n",
      "fm = 3;\t\t\t\t#kHz\n",
      "f_usf = fc+fm;\t\t\t\t#kHz\n",
      "print \"Upper side frequency(kHz)\",f_usf\n",
      "f_lsf = fc-fm;\t\t\t\t#kHz\n",
      "print \"Lower side frequency(kHz)\",f_lsf\n"
     ],
     "language": "python",
     "metadata": {},
     "outputs": [
      {
       "output_type": "stream",
       "stream": "stdout",
       "text": [
        "Part (a)\n",
        "Lower sideband is from 95.0 kHz to 100.0 kHz\n",
        "Upper sideband is from 100.0 kHz to 105.0 kHz\n",
        "(b) Bandwidth(kHz) 10.0\n",
        "part (c)\n",
        "Upper side frequency(kHz) 103.0\n",
        "Lower side frequency(kHz) 97.0\n"
       ]
      }
     ],
     "prompt_number": 46
    },
    {
     "cell_type": "heading",
     "level": 2,
     "metadata": {},
     "source": [
      "Example 4.2 Page no : 4.9"
     ]
    },
    {
     "cell_type": "code",
     "collapsed": false,
     "input": [
      "import math \n",
      "\n",
      "# Variables\n",
      "fc = 500.;\t\t\t\t#kHz\n",
      "fm = 10.;\t\t\t\t#kHz\n",
      "#Am = 7.5*Vp & Ac = 20*Vc\n",
      "Em = 7.5;\t\t\t\t#times of Vp\n",
      "Ec = 20.;\t\t\t\t#times of Vp(unmodulated carrier)\n",
      "\n",
      "# Calculations and Results\n",
      "print (\"Part (a)\");\n",
      "f_usf = fc+fm;\t\t\t\t#kHz\n",
      "print \"Upper side frequency(kHz)\",f_usf\n",
      "f_lsf = fc-fm;\t\t\t\t#kHz\n",
      "print \"Lower side frequency(kHz)\",f_lsf\n",
      "print (\"Part (b)\");\n",
      "m = Em/Ec;\t\t\t\t#modulation coefficient\n",
      "print \"Modulation coefficient\",m\n",
      "M = 100*m;\t\t\t\t#% modulation\n",
      "print \"% Modulation\",M\n",
      "print (\"Part (c)\");\n",
      "Ec1 = Ec;\t\t\t\t#times of Vp(modulated carrier)\n",
      "Eusf = m*Ec/2;\t\t\t\t#times of Vp\n",
      "Elsf = m*Ec/2;\t\t\t\t#times of Vp\n",
      "print (\"Peak amplitude of modulated carrier is \"+str(Ec1)+\"*Vp\");\n",
      "print (\"Upper & lower side frequency voltages, Eusf  =  Elsf  =  \"+str(Eusf)+\"*Vp\");\n",
      "print (\"Part (d)\");\n",
      "Vmax = Ec+Em;\t\t\t\t#times of Vp\n",
      "Vmin = Ec-Em;\t\t\t\t#times of Vp\n",
      "print (\"Maximum amplitude of envelope is \"+str(Vmax)+\"*Vp\");\n",
      "print (\"Minimum amplitude of envelope is \"+str(Vmin)+\"*Vp\");\n"
     ],
     "language": "python",
     "metadata": {},
     "outputs": [
      {
       "output_type": "stream",
       "stream": "stdout",
       "text": [
        "Part (a)\n",
        "Upper side frequency(kHz) 510.0\n",
        "Lower side frequency(kHz) 490.0\n",
        "Part (b)\n",
        "Modulation coefficient 0.375\n",
        "% Modulation 37.5\n",
        "Part (c)\n",
        "Peak amplitude of modulated carrier is 20.0*Vp\n",
        "Upper & lower side frequency voltages, Eusf  =  Elsf  =  3.75*Vp\n",
        "Part (d)\n",
        "Maximum amplitude of envelope is 27.5*Vp\n",
        "Minimum amplitude of envelope is 12.5*Vp\n"
       ]
      }
     ],
     "prompt_number": 47
    },
    {
     "cell_type": "heading",
     "level": 1,
     "metadata": {},
     "source": [
      "Example 4.3 Page no : 4.14"
     ]
    },
    {
     "cell_type": "code",
     "collapsed": false,
     "input": [
      "import math \n",
      "\n",
      "# Variables\n",
      "fc = 1.;\t\t\t\t#MHz\n",
      "fm = 5.;\t\t\t\t#kHz\n",
      "m = 60./100;\t\t\t\t#Modulation\n",
      "Pc = 6;\t\t\t\t#kW\n",
      "RL = 50.;\t\t\t\t#W\n",
      "\n",
      "# Calculations and Results\n",
      "Pavg = Pc*(1+m**2/2);\t\t\t\t#kW(Average power delivered to load)\n",
      "print (\"Part(a)\");\n",
      "print \"Average power of modulated signal(kW)\",Pavg\n",
      "PdB = 10*math.log10(Pavg*1000);\t\t\t\t#dB\n",
      "print \"Average power of modulated signal(dB) :%.2f\"%PdB\n",
      "PdBm = 10*math.log10(Pavg*10**6);\t\t\t\t#dBm\n",
      "print \"Average power of modulated signal(dBm) : %.2f\"%PdBm\n",
      "print (\"Part(b)\");\n",
      "VS_RMS = math.sqrt(2*RL*Pavg*1000)/1000;\t\t\t\t#kV\n",
      "print \"RMS voltage of modulated signal(kV) : %.2f\"%VS_RMS\n",
      "Vp = math.sqrt(2)*VS_RMS;\t\t\t\t#V\n",
      "print \"Peak value of modulated signal(kV) : %.2f\"%Vp\n",
      "#Answer is wrong in the book.\n"
     ],
     "language": "python",
     "metadata": {},
     "outputs": [
      {
       "output_type": "stream",
       "stream": "stdout",
       "text": [
        "Part(a)\n",
        "Average power of modulated signal(kW) 7.08\n",
        "Average power of modulated signal(dB) :38.50\n",
        "Average power of modulated signal(dBm) : 68.50\n",
        "Part(b)\n",
        "RMS voltage of modulated signal(kV) : 0.84\n",
        "Peak value of modulated signal(kV) : 1.19\n"
       ]
      }
     ],
     "prompt_number": 48
    },
    {
     "cell_type": "heading",
     "level": 2,
     "metadata": {},
     "source": [
      "Example 4.4 Page no : 4.15"
     ]
    },
    {
     "cell_type": "code",
     "collapsed": false,
     "input": [
      "\n",
      "# Variables\n",
      "Vc = 10.;\t\t\t\t#times of Vp\n",
      "RL = 10.;\t\t\t\t#ohm\n",
      "m = 1.;\t\t\t\t#modulation coefficient\n",
      "\n",
      "# Calculations and Results\n",
      "Pc = Vc**2/2/RL;\t\t\t\t#W\n",
      "Pusb = m**2*Pc/4;\t\t\t\t#W\n",
      "Plsb = m**2*Pc/4;\t\t\t\t#W\n",
      "print (\"Part(a)\");\n",
      "print \"Carrier power(W)\",Pc\n",
      "print \"Upper side band power(W)\",Pusb\n",
      "print \"Lower side band power(W)\",Plsb\n",
      "print (\"Part(b)\");\n",
      "Psbt = m**2*Pc/2;\t\t\t\t#W\n",
      "print \"Total side band power(W)\",Psbt\n",
      "print (\"Part(c)\");\n",
      "Pt = Pc*(1+m**2/2);\t\t\t\t#W\n",
      "print \"Total power of modulated wave(W)\",Pt\n",
      "print (\"Part(e)\");\n",
      "m = 0.5;\t\t\t\t#modulation coefficient\n",
      "Pusb = m**2*Pc/4;\t\t\t\t#W\n",
      "Plsb = m**2*Pc/4;\t\t\t\t#W\n",
      "print \"Carrier power(W)\",Pc\n",
      "print \"Upper side band power(W)\",Pusb\n",
      "print \"Lower side band power(W)\",Plsb\n",
      "Psbt = m**2*Pc/2;\t\t\t\t#W\n",
      "print \"Total side band power(W)\",Psbt\n",
      "Pt = Pc*(1+m**2/2);\t\t\t\t#W\n",
      "print \"Total power of modulated wave(W)\",Pt\n"
     ],
     "language": "python",
     "metadata": {},
     "outputs": [
      {
       "output_type": "stream",
       "stream": "stdout",
       "text": [
        "Part(a)\n",
        "Carrier power(W) 5.0\n",
        "Upper side band power(W) 1.25\n",
        "Lower side band power(W) 1.25\n",
        "Part(b)\n",
        "Total side band power(W) 2.5\n",
        "Part(c)\n",
        "Total power of modulated wave(W) 7.5\n",
        "Part(e)\n",
        "Carrier power(W) 5.0\n",
        "Upper side band power(W) 0.3125\n",
        "Lower side band power(W) 0.3125\n",
        "Total side band power(W) 0.625\n",
        "Total power of modulated wave(W) 5.625\n"
       ]
      }
     ],
     "prompt_number": 49
    },
    {
     "cell_type": "heading",
     "level": 2,
     "metadata": {},
     "source": [
      "Example 4.5 Page no : 4.21"
     ]
    },
    {
     "cell_type": "code",
     "collapsed": false,
     "input": [
      "import math \n",
      "\n",
      "# Variables\n",
      "RF = 200.;\t\t\t\t#kHz\n",
      "IF = 10.;\t\t\t\t#kHz\n",
      "\n",
      "# Calculations\n",
      "BI = RF/IF;\t\t\t\t#unitless(Bandwidth Improvement)\n",
      "NF = 10*math.log10(BI);\t\t\t\t#dB\n",
      "\n",
      "# Results\n",
      "print \"Noise Figure improvement(dB) : %.f\"%NF\n"
     ],
     "language": "python",
     "metadata": {},
     "outputs": [
      {
       "output_type": "stream",
       "stream": "stdout",
       "text": [
        "Noise Figure improvement(dB) : 13\n"
       ]
      }
     ],
     "prompt_number": 51
    },
    {
     "cell_type": "heading",
     "level": 2,
     "metadata": {},
     "source": [
      "Example 4.6 Page no : 4.35"
     ]
    },
    {
     "cell_type": "code",
     "collapsed": false,
     "input": [
      "import math \n",
      "\n",
      "# Variables\n",
      "#Part (a)\n",
      "K1 = 5.;\t\t\t\t#kHz/V\n",
      "#vm(t) = 2*math.cos(2*p*2000*t);\n",
      "Vm = 2.;\t\t\t\t#V\n",
      "fm = 2000.;\t\t\t\t#Hz\n",
      "\n",
      "# Calculations and Results\n",
      "delta_f = K1*Vm;\t\t\t\t#kHz\n",
      "print \"(a) Pak frequency deviation(kHz) : %.2f\"%delta_f\n",
      "m = delta_f*1000/fm;\t\t\t\t#modulation index\n",
      "print \"(a) Modulation index : %.2f\"%m\n",
      "#Part (b)\n",
      "K = 2.5;\t\t\t\t#rad/V\n",
      "#vm(t) = -math.cos(2*p*2000*t);\n",
      "fm = 2000;\t\t\t\t#Hz\n",
      "m = K*Vm;\t\t\t\t#rad(Peak phase shift)\n",
      "print \"(b) Peak phase shift(rad) : %.2f\"%m\n"
     ],
     "language": "python",
     "metadata": {},
     "outputs": [
      {
       "output_type": "stream",
       "stream": "stdout",
       "text": [
        "(a) Pak frequency deviation(kHz) : 10.00\n",
        "(a) Modulation index : 5.00\n",
        "(b) Peak phase shift(rad) : 5.00\n"
       ]
      }
     ],
     "prompt_number": 52
    },
    {
     "cell_type": "heading",
     "level": 2,
     "metadata": {},
     "source": [
      "Example 4.7 Page no : 4.36"
     ]
    },
    {
     "cell_type": "code",
     "collapsed": false,
     "input": [
      "import math \n",
      "\n",
      "# Variables\n",
      "#v(t) = 20*math.sin(6.28*10**6*t+10*math.sin(6.28*10**3*t));\n",
      "#Comparing with VPM(t) = A*math.sin(omega_c*t+mp*math.sin(omega_m*t))\n",
      "A = 20;\n",
      "omega_c = 6.28*10**6;\t\t\t\t#rad\n",
      "omega_m = 6.28*10**3;\t\t\t\t#rad\n",
      "# Calculations\n",
      "fc = omega_c/2/math.pi/10**6;\t\t\t\t#MHz\n",
      "fm = omega_m/2/math.pi/10**3;\t\t\t\t#kHz\n",
      "mp = 10;\t\t\t\t#modulation index\n",
      "delta_theta = mp;\t\t\t\t#radians\n",
      "\n",
      "# Results\n",
      "print \"(a) Carrier freuency(MHz)\",fc\n",
      "print \"(b) Modulating freuency(kHz)\",fm\n",
      "print \"(c) Modulation index(mp)\",mp\n",
      "print \"(d) Peak phase deviation(radians)\",delta_theta\n"
     ],
     "language": "python",
     "metadata": {},
     "outputs": [
      {
       "output_type": "stream",
       "stream": "stdout",
       "text": [
        "(a) Carrier freuency(MHz) 0.999493042617\n",
        "(b) Modulating freuency(kHz) 0.999493042617\n",
        "(c) Modulation index(mp) 10\n",
        "(d) Peak phase deviation(radians) 10\n"
       ]
      }
     ],
     "prompt_number": 53
    },
    {
     "cell_type": "heading",
     "level": 2,
     "metadata": {},
     "source": [
      "Example 4.8 Page no : 4.39"
     ]
    },
    {
     "cell_type": "code",
     "collapsed": false,
     "input": [
      "%matplotlib inline\n",
      "from matplotlib.pyplot import plot,title,xlabel,ylabel,bar\n",
      "\n",
      "# Variables\n",
      "delta_f = 10.;\t\t\t\t#kHz\n",
      "fm = 10.;\t\t\t\t#kHz\n",
      "Vc = 10.;\t\t\t\t#V\n",
      "fc = 500.;\t\t\t\t#kHz\n",
      "\n",
      "# Calculations and Results\n",
      "m = delta_f/fm;\t\t\t\t#modulation index\n",
      "#For m = 1 we have 3 sidebands\n",
      "B = 2*(3*fm);\t\t\t\t#kHz\n",
      "print \"(a) Actual minimum bandwidh(kHz)\",B\n",
      "B = 2*(fm+delta_f);\t\t\t\t#kHz\n",
      "print \"(b) Approximate minimum bandwidh(kHz)\",B\n",
      "A0 = 0.77*fm;\t\t\t\t#V\n",
      "A1 = 0.44*fm;\t\t\t\t#V\n",
      "A2 = 0.11*fm;\t\t\t\t#V\n",
      "A3 = 0.02*fm;\t\t\t\t#V\n",
      "#For frequency spectrum\n",
      "A = [A3, A2, A1, A0, A1, A2, A3];\t\t\t\t#V(Amplitudes)\n",
      "f = [fc-3*fm ,fc-2*fm, fc-fm, fc, fc+fm, fc+2*fm, fc+3*fm];\t\t\t\t#kHz\n",
      "bar(f,A);\n",
      "title('Output frequency spectrum');\n",
      "xlabel('Frequency(kHz)');\n",
      "ylabel('Amplitudes(V)');\n"
     ],
     "language": "python",
     "metadata": {},
     "outputs": [
      {
       "output_type": "stream",
       "stream": "stdout",
       "text": [
        "(a) Actual minimum bandwidh(kHz) 60.0\n",
        "(b) Approximate minimum bandwidh(kHz) 40.0\n"
       ]
      },
      {
       "metadata": {},
       "output_type": "display_data",
       "png": "[encoded data removed]",
       "text": [
        "<matplotlib.figure.Figure at 0x10f04ced0>"
       ]
      }
     ],
     "prompt_number": 63
    },
    {
     "cell_type": "heading",
     "level": 2,
     "metadata": {},
     "source": [
      "Example 4.9 Page no : 4.40"
     ]
    },
    {
     "cell_type": "code",
     "collapsed": false,
     "input": [
      "\n",
      "# Variables\n",
      "#Part (a)\n",
      "delta_f = 75.;\t\t\t\t#kHz\n",
      "fm = 15.;\t\t\t\t#kHz\n",
      "\n",
      "# Calculations and Results\n",
      "DR = delta_f/fm;\t\t\t\t#Deviation ratio\n",
      "print \"(a) Deviation ratio\",DR\n",
      "#For m or DR = 5 we have 8 sidebands\n",
      "B = 2*(8*fm);\t\t\t\t#kHz\n",
      "print \"(a) Bandwidh for worst case(kHz)\",B\n",
      "#Part (b)\n",
      "delta_f = 75./2;\t\t\t\t#kHz\n",
      "fm = 15./2;\t\t\t\t#kHz\n",
      "DR = delta_f/fm;\t\t\t\t#Deviation ratio\n",
      "print \"(b) Deviation ratio or modulation index\",DR\n",
      "#For m or DR = 5 we have 8 sidebands\n",
      "B = 2*(8*fm);\t\t\t\t#kHz\n",
      "print \"(b) Bandwidh for worst case(kHz)\",B\n"
     ],
     "language": "python",
     "metadata": {},
     "outputs": [
      {
       "output_type": "stream",
       "stream": "stdout",
       "text": [
        "(a) Deviation ratio 5.0\n",
        "(a) Bandwidh for worst case(kHz) 240.0\n",
        "(b) Deviation ratio or modulation index 5.0\n",
        "(b) Bandwidh for worst case(kHz) 120.0\n"
       ]
      }
     ],
     "prompt_number": 64
    },
    {
     "cell_type": "heading",
     "level": 2,
     "metadata": {},
     "source": [
      "Example 4.10 Page no : 4.44"
     ]
    },
    {
     "cell_type": "code",
     "collapsed": false,
     "input": [
      "\n",
      "# Variables\n",
      "#Part (a)\n",
      "ft = 88.8;\t\t\t\t#MHz\n",
      "N1N2N3 = 20;\t\t\t\t#frequency multiplication\n",
      "\n",
      "# Calculations and Results\n",
      "fc = ft/N1N2N3;\t\t\t\t#MHz\n",
      "print \"(a) Master oscillator center frequency(MHz)\",fc\n",
      "delta_ft = 75.;\t\t\t\t#kHz\n",
      "delta_f = delta_ft*1000/N1N2N3;\t\t\t\t#Hz\n",
      "print \"(b) Frequency deviation at the output(Hz)\",delta_f\n",
      "fm = 15;\t\t\t\t#kHz\n",
      "DR = delta_f/1000/fm;\t\t\t\t#Deviation ratio at output\n",
      "print \"(c) Deviation ratio at the output\",DR\n",
      "DR = DR*N1N2N3;\t\t\t\t#Deviation ratio at antenna\n",
      "print \"(d) Deviation ratio at the antenna\",DR\n"
     ],
     "language": "python",
     "metadata": {},
     "outputs": [
      {
       "output_type": "stream",
       "stream": "stdout",
       "text": [
        "(a) Master oscillator center frequency(MHz) 4.44\n",
        "(b) Frequency deviation at the output(Hz) 3750.0\n",
        "(c) Deviation ratio at the output 0.25\n",
        "(d) Deviation ratio at the antenna 5.0\n"
       ]
      }
     ],
     "prompt_number": 65
    },
    {
     "cell_type": "heading",
     "level": 2,
     "metadata": {},
     "source": [
      "Example 4.11 Page no :4.46"
     ]
    },
    {
     "cell_type": "code",
     "collapsed": false,
     "input": [
      "import math \n",
      "\n",
      "# Variables\n",
      "VCO = 200.;\t\t\t\t#ppm(VCO stability)\n",
      "fc = 5.1;\t\t\t\t#MHz\n",
      "ft_old = 91.8;\t\t\t\t#MHz\n",
      "k0 = 10.;\t\t\t\t#kHz/V\n",
      "kd = 2.;\t\t\t\t#V/kHz\n",
      "f2 = 30.6;\t\t\t\t#MHz\n",
      "\n",
      "# Calculations\n",
      "fc = fc*10**6+(VCO*10**-6*fc*10**6);\t\t\t\t#Hz(with feedback loop open)\n",
      "N1 = 2;\n",
      "N2 = 3;\n",
      "f2_new = N1*N2*fc;\t\t\t\t#Hz\n",
      "df2 = f2_new-f2*10**6;\t\t\t\t#Hz(Frequency drift)\n",
      "ft = N2*f2_new/10**6;\t\t\t\t#MHz(Transmit frequency)\n",
      "df2_reduced = df2/(1+N1*N2*kd*k0);\t\t\t\t#Hz(reduced frequency drift)\n",
      "df2_reduced = round(df2_reduced);\t\t\t\t#Hz\n",
      "print \"Reduced frequency drift(Hz)\",df2_reduced\n",
      "f2dash = f2*10**6+df2_reduced;\t\t\t\t#Hz(New transmit frequency of antenna)\n",
      "ftnew = f2dash*N2;\t\t\t\t#Hz\n",
      "print \"New transmit frequency of antenna(Hz)\",ftnew\n",
      "old_drift = ft*10**6-ft_old*10**6;\t\t\t\t#Hz\n",
      "new_drift = ftnew-ft_old*10**6;\t\t\t\t#Hz\n",
      "print (\"The frequency drift at the antenna has been reduced from \"+str(old_drift)+\" Hz to\\\n",
      " \"+str(new_drift)+\" Hz. This fulfill the FCC requirements.\")\n"
     ],
     "language": "python",
     "metadata": {},
     "outputs": [
      {
       "output_type": "stream",
       "stream": "stdout",
       "text": [
        "Reduced frequency drift(Hz) 51.0\n",
        "New transmit frequency of antenna(Hz) 91800153.0\n",
        "The frequency drift at the antenna has been reduced from 18360.0 Hz to 153.0 Hz. This fulfill the FCC requirements.\n"
       ]
      }
     ],
     "prompt_number": 66
    }
   ],
   "metadata": {}
  }
 ]
}