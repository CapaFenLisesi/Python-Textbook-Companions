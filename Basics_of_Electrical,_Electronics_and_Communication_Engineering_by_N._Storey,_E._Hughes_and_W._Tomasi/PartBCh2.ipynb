{
 "metadata": {
  "name": "",
  "signature": "sha256:4c07bbf8ad32ad1d86dbfc606f2615e8d1e6001b3486fca1531280171120a2e6"
 },
 "nbformat": 3,
 "nbformat_minor": 0,
 "worksheets": [
  {
   "cells": [
    {
     "cell_type": "heading",
     "level": 1,
     "metadata": {},
     "source": [
      "Part B : Chapter 2 : Digital System"
     ]
    },
    {
     "cell_type": "heading",
     "level": 2,
     "metadata": {},
     "source": [
      "Example 2.12 Page no :2.24"
     ]
    },
    {
     "cell_type": "code",
     "collapsed": false,
     "input": [
      "\n",
      "# Variables\n",
      "binary = '11010';\t\t\t\t#given binary value\n",
      "\n",
      "# Calculations\n",
      "decimal = int(binary,2);\t\t\t\t#equivalent decimal\n",
      "\n",
      "# Results\n",
      "print \"Equivalent decimal value is %d\"%decimal\n"
     ],
     "language": "python",
     "metadata": {},
     "outputs": [
      {
       "output_type": "stream",
       "stream": "stdout",
       "text": [
        "Equivalent decimal value is 26\n"
       ]
      }
     ],
     "prompt_number": 1
    },
    {
     "cell_type": "heading",
     "level": 2,
     "metadata": {},
     "source": [
      "Example 2.13 Page no :2.25"
     ]
    },
    {
     "cell_type": "code",
     "collapsed": false,
     "input": [
      "\n",
      "# Variables\n",
      "decimal = 26;\t\t\t\t#given decimal value\n",
      "\n",
      "# Calculations\n",
      "binary = bin(decimal);\t\t\t\t#equivalent binary value\n",
      "\n",
      "# Results\n",
      "print \"Equivalent binary value is \",binary\n"
     ],
     "language": "python",
     "metadata": {},
     "outputs": [
      {
       "output_type": "stream",
       "stream": "stdout",
       "text": [
        "Equivalent binary value is  0b11010\n"
       ]
      }
     ],
     "prompt_number": 2
    },
    {
     "cell_type": "heading",
     "level": 2,
     "metadata": {},
     "source": [
      "Example 2.15 Page no : 2.26\n"
     ]
    },
    {
     "cell_type": "code",
     "collapsed": false,
     "input": [
      "\n",
      "# Variables\n",
      "hex1 = '0xA013';\t\t\t\t#given hexadecimal value\n",
      "\n",
      "# Calculations\n",
      "dec = int(hex1,16);\t\t\t\t#equivalent decimal value\n",
      "\n",
      "# Results\n",
      "print \"Equivalent decimal value is\",dec\n"
     ],
     "language": "python",
     "metadata": {},
     "outputs": [
      {
       "output_type": "stream",
       "stream": "stdout",
       "text": [
        "Equivalent decimal value is 40979\n"
       ]
      }
     ],
     "prompt_number": 3
    },
    {
     "cell_type": "heading",
     "level": 2,
     "metadata": {},
     "source": [
      "Example 2.16 Page no :2.26"
     ]
    },
    {
     "cell_type": "code",
     "collapsed": false,
     "input": [
      "\n",
      "# Variables\n",
      "dec = 7046;\t\t\t\t#given decimal value\n",
      "\n",
      "# Calculations\n",
      "hex = hex(dec);\t\t\t\t#equivalent hexadecimal value\n",
      "\n",
      "# Results\n",
      "print \"Equivalent hexadecimal value is\",hex\n"
     ],
     "language": "python",
     "metadata": {},
     "outputs": [
      {
       "output_type": "stream",
       "stream": "stdout",
       "text": [
        "Equivalent hexadecimal value is 0x1b86\n"
       ]
      }
     ],
     "prompt_number": 4
    },
    {
     "cell_type": "heading",
     "level": 2,
     "metadata": {},
     "source": [
      "Example 2.17 Page no :2.27"
     ]
    },
    {
     "cell_type": "code",
     "collapsed": false,
     "input": [
      "\n",
      "# Variables\n",
      "hex1 = '0xF851';\t\t\t\t#given hexadecimal value\n",
      "\n",
      "# Calculations\n",
      "dec = int(hex1,16);\t\t\t\t#equivalent decimal value\n",
      "bin1 = bin(dec);\t\t\t\t#equivalent binary value\n",
      "\n",
      "# Results\n",
      "print \"Equivalent binary value is\",bin1\n"
     ],
     "language": "python",
     "metadata": {},
     "outputs": [
      {
       "output_type": "stream",
       "stream": "stdout",
       "text": [
        "Equivalent binary value is 0b1111100001010001\n"
       ]
      }
     ],
     "prompt_number": 6
    },
    {
     "cell_type": "heading",
     "level": 2,
     "metadata": {},
     "source": [
      "Example 2.18 Page no :2.27"
     ]
    },
    {
     "cell_type": "code",
     "collapsed": false,
     "input": [
      "# Variables\n",
      "bin1 = '111011011000100';\t\t\t\t#given binary value\n",
      "\n",
      "# Calculations\n",
      "dec = int(bin1,2);\t\t\t\t#equivalent decimal value\n",
      "hex1 = \"0x%X\"%dec;\t\t\t\t#equivalent hexadecimal value\n",
      "\n",
      "# Results\n",
      "print \"Equivalent hexadecimal value is\",hex1\n"
     ],
     "language": "python",
     "metadata": {},
     "outputs": [
      {
       "output_type": "stream",
       "stream": "stdout",
       "text": [
        "Equivalent hexadecimal value is 0x76C4\n"
       ]
      }
     ],
     "prompt_number": 7
    }
   ],
   "metadata": {}
  }
 ]
}