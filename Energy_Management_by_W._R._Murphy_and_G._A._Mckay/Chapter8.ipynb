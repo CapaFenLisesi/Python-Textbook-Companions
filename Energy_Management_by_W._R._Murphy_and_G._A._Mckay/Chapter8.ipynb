{
 "metadata": {
  "name": "",
  "signature": "sha256:2afc3daa8e0273c84c299dcbf4aab5274b684182c853d9a3418cd2adcae29e4d"
 },
 "nbformat": 3,
 "nbformat_minor": 0,
 "worksheets": [
  {
   "cells": [
    {
     "cell_type": "heading",
     "level": 1,
     "metadata": {},
     "source": [
      "Chapter8-Electrical energy"
     ]
    },
    {
     "cell_type": "heading",
     "level": 2,
     "metadata": {},
     "source": [
      "Ex1-pg222"
     ]
    },
    {
     "cell_type": "code",
     "collapsed": false,
     "input": [
      "import math\n",
      "## Example 8.1\n",
      "print('Example 8.1');\n",
      "print('Page No. 222');\n",
      "\n",
      "## given\n",
      "V = 240;## Voltage in Volts\n",
      "I = 8;## Current in Amps\n",
      "##By ohm's law-> V = I*R\n",
      "R = V/I;## In ohms\n",
      "print'%s %.2f %s '%('The resistance of the given circuit is ',R,' ohms')\n",
      "\n"
     ],
     "language": "python",
     "metadata": {},
     "outputs": [
      {
       "output_type": "stream",
       "stream": "stdout",
       "text": [
        "Example 8.1\n",
        "Page No. 222\n",
        "The resistance of the given circuit is  30.00  ohms \n"
       ]
      }
     ],
     "prompt_number": 10
    },
    {
     "cell_type": "heading",
     "level": 2,
     "metadata": {},
     "source": [
      "Ex2-pg223"
     ]
    },
    {
     "cell_type": "code",
     "collapsed": false,
     "input": [
      "import math\n",
      "import numpy\n",
      "from numpy.linalg import inv\n",
      "## Example 8.2\n",
      "print('Example 8.2');\n",
      "print('Page No. 223');\n",
      "\n",
      "## given\n",
      "V1 = 100.;## In Volts\n",
      "V2 = 50.;## In Volts\n",
      "R1 = 8.;## Resistance in ohm\n",
      "R2 = 5.;## Resistance in ohm\n",
      "R3 = 10.;## Resistance in ohm\n",
      "R4 = 50.;## Resistance in ohm\n",
      "##By refering figure 8.3, and applying kirchoff's current law and kirchoff's voltage law in the given circuit diagram, we get following equations:\n",
      "## I1 = I2 + I3\n",
      "##V1 - R1*I1 - V2 - R3*I3 = 0\n",
      "##V2 - R4*I3 + R3*I3 - R2*I2 = 0\n",
      "A = ([[1, -1, -1],[8, 0, 10],[0 ,55, -10]])\n",
      "b = ([0,50,50]);\n",
      "x =numpy.dot(inv(A),b)\n",
      "print'%s %.2f %s '%('The currents in I1 is ',x[0],' A ')\n",
      "print'%s %.2f %s '%('The currents in I2 is ',x[1],' A ')\n",
      "print'%s %.2f %s '%('The currents in I3 is ',x[2],' A ')\n",
      "\n",
      "\n"
     ],
     "language": "python",
     "metadata": {},
     "outputs": [
      {
       "output_type": "stream",
       "stream": "stdout",
       "text": [
        "Example 8.2\n",
        "Page No. 223\n",
        "The currents in I1 is  3.50  A  \n",
        "The currents in I2 is  1.31  A  \n",
        "The currents in I3 is  2.20  A  \n"
       ]
      }
     ],
     "prompt_number": 9
    },
    {
     "cell_type": "heading",
     "level": 2,
     "metadata": {},
     "source": [
      "Ex3-pg226"
     ]
    },
    {
     "cell_type": "code",
     "collapsed": false,
     "input": [
      "import math\n",
      "## Example 8.3\n",
      "print('Example 8.3');\n",
      "print('Page No. 226');\n",
      "\n",
      "## given\n",
      "R = 6;## Resistance in ohm\n",
      "Xc = 16;## Capacitive resistance in ohm\n",
      "Xl = 24;## Inductive resistance in ohm\n",
      "Z = ((R**2) + (Xc - Xl)**2)**0.5;## Impedance in ohm\n",
      "P_f = R/Z;## Power factor = cos(x) = 0.6\n",
      "x = math.cos(0.6)*57.3;\n",
      "y = math.sqrt(1 - P_f**2);##y = sin (x)\n",
      "V = 200;## in Volts(sin wave voltage = ((200*2**1.5)*sinwt)\n",
      "I = V/Z;## Current in Amperes\n",
      "P = I**2 * R;## in W\n",
      "Q = V * I * y;## in VAR\n",
      "S = V * I;## in VA\n",
      "print'%s %.2f %s'% ('The actual power is ',P,' W ')\n",
      "print'%s %.2f %s'% ('The reactive power is ',Q,' VAR ')\n",
      "print'%s %.2f %s'% ('The apparent power is ',S,' VA ')\n",
      "\n",
      "\n",
      "\n"
     ],
     "language": "python",
     "metadata": {},
     "outputs": [
      {
       "output_type": "stream",
       "stream": "stdout",
       "text": [
        "Example 8.3\n",
        "Page No. 226\n",
        "The actual power is  2400.00  W \n",
        "The reactive power is  3200.00  VAR \n",
        "The apparent power is  4000.00  VA \n"
       ]
      }
     ],
     "prompt_number": 8
    },
    {
     "cell_type": "heading",
     "level": 2,
     "metadata": {},
     "source": [
      "Ex4-pg232"
     ]
    },
    {
     "cell_type": "code",
     "collapsed": false,
     "input": [
      "\n",
      "## Example 8.4\n",
      "print ('Example 8.4');\n",
      "print ('Page No. 232');\n",
      "\n",
      "##given\n",
      "pump_1 = 100*10**3;## Required pump in W\n",
      "T_1 = 8;## Pump Operating time of each day\n",
      "Inc_op = 0.5;## Increased output per cent\n",
      "pump_ex = 50*10**3;## Extra pump requried in W\n",
      "\n",
      "## This question doesnot contain any calculation part.\n",
      "print('there is no computational part in the problem')\n",
      "\n"
     ],
     "language": "python",
     "metadata": {},
     "outputs": [
      {
       "output_type": "stream",
       "stream": "stdout",
       "text": [
        "Example 8.4\n",
        "Page No. 232\n",
        "there is no computational part in the problem\n"
       ]
      }
     ],
     "prompt_number": 7
    },
    {
     "cell_type": "heading",
     "level": 2,
     "metadata": {},
     "source": [
      "Ex5-pg232"
     ]
    },
    {
     "cell_type": "code",
     "collapsed": false,
     "input": [
      "\n",
      "## Example 8.5\n",
      "print ('Example 8.5');\n",
      "print ('Page No. 232');\n",
      "\n",
      "##given\n",
      "P = 600*10**3;## Power demand of pump in W\n",
      "T = 8.;## Operating time in hour per day\n",
      "red = 1.00/10**3.;## off-peak reduction in Pound per 10**3 W month\n",
      "M_save = P*red;##  Monthly saving Pound per month\n",
      "A_save = M_save*12.;## Annual saving in Pound per year\n",
      "print'%s %.2f %s'% ('Annual saving is ',A_save,' Pound per year')\n"
     ],
     "language": "python",
     "metadata": {},
     "outputs": [
      {
       "output_type": "stream",
       "stream": "stdout",
       "text": [
        "Example 8.5\n",
        "Page No. 232\n",
        "Annual saving is  7200.00  Pound per year\n"
       ]
      }
     ],
     "prompt_number": 6
    },
    {
     "cell_type": "heading",
     "level": 2,
     "metadata": {},
     "source": [
      "Ex6-pg234"
     ]
    },
    {
     "cell_type": "code",
     "collapsed": false,
     "input": [
      "import math\n",
      "import numpy\n",
      "from numpy import floor\n",
      "## Example 8.6\n",
      "print ('Example 8.6');\n",
      "print('Page No. 234');\n",
      "\n",
      "##given\n",
      "T_lamp = 12.*10**3.;## Output for the tungsten filament lamp in lm per 10^3 W\n",
      "F_tube = 63.*10**3.;## Output for the fluorescent tubes in lm per 10^3 W\n",
      "Save = F_tube - T_lamp;##  in W\n",
      "print'%s %.2f %s'% ('Energy saving is ',Save,' lm per 10^3 W ')\n",
      "\n",
      "Save_pcent = (Save/F_tube)*100.;\n",
      "print'%s %.2f %s'% ('Energy saving per cent is  ',floor(Save_pcent),'')\n"
     ],
     "language": "python",
     "metadata": {},
     "outputs": [
      {
       "output_type": "stream",
       "stream": "stdout",
       "text": [
        "Example 8.6\n",
        "Page No. 234\n",
        "Energy saving is  51000.00  lm per 10^3 W \n",
        "Energy saving per cent is   80.00 \n"
       ]
      }
     ],
     "prompt_number": 5
    },
    {
     "cell_type": "heading",
     "level": 2,
     "metadata": {},
     "source": [
      "Ex7-pg235"
     ]
    },
    {
     "cell_type": "code",
     "collapsed": false,
     "input": [
      "import math\n",
      "## Example 8.7\n",
      "print('Example 8.7');\n",
      "print ('Page No. 235');\n",
      "\n",
      "##given\n",
      "N = 40.;## Number of lamps\n",
      "T1 = 15.;## Operating time in h per day\n",
      "P = 500.;## POwer from the lamps in W\n",
      "T2 = 300.;## Total operating time in days per year\n",
      "C = 2.5/10**3;## Electricity cost in p per Wh\n",
      "\n",
      "An_Cost = N*P*T1*T2*C*10**-2;## In euro\n",
      "print'%s %.2f %s'% ('The Annual Cost is ',An_Cost,' Euro ')\n",
      "\n",
      "##Improvement in light by installing glassfibre skylights\n",
      "T3 = 5;##   Extra Time for natural lighting in h per day\n",
      "New_An_Cost = N*P*(T1-T3)*T2*C*10**-2;## In euro\n",
      "print'%s %.2f %s'% ('The New Annual Cost is ',New_An_Cost,' Euro ')\n",
      "\n",
      "Save = An_Cost - New_An_Cost;## in euro\n",
      "print'%s %.2f %s'% ('The annual saving for a pay-back period of 2.5 years is ',Save,'')\n",
      "\n",
      "\n"
     ],
     "language": "python",
     "metadata": {},
     "outputs": [
      {
       "output_type": "stream",
       "stream": "stdout",
       "text": [
        "Example 8.7\n",
        "Page No. 235\n",
        "The Annual Cost is  2250.00  Euro \n",
        "The New Annual Cost is  1500.00  Euro \n",
        "The annual saving for a pay-back period of 2.5 years is  750.00 \n"
       ]
      }
     ],
     "prompt_number": 4
    },
    {
     "cell_type": "heading",
     "level": 2,
     "metadata": {},
     "source": [
      "Ex8-pg236"
     ]
    },
    {
     "cell_type": "code",
     "collapsed": false,
     "input": [
      "\n",
      "## Example 8.8\n",
      "print ('Example 8.8');\n",
      "print ('Page No. 236');\n",
      "\n",
      "## This question doesnot contain any calculation part.\n",
      "\n",
      "##By refering figure 8.7 which shows Poer factor-load curve for a motor with a capacitor and one without a capacitor.\n",
      "print('there is no computational part in the problem')\n"
     ],
     "language": "python",
     "metadata": {},
     "outputs": [
      {
       "output_type": "stream",
       "stream": "stdout",
       "text": [
        "Example 8.8\n",
        "Page No. 236\n",
        "there is no computational part in the problem\n"
       ]
      }
     ],
     "prompt_number": 3
    },
    {
     "cell_type": "heading",
     "level": 2,
     "metadata": {},
     "source": [
      "Ex9-pg238"
     ]
    },
    {
     "cell_type": "code",
     "collapsed": false,
     "input": [
      "import math\n",
      "## Example 8.9\n",
      "print('Example 8.9');\n",
      "print('Page No. 238');\n",
      "\n",
      "## This question doesnot contain any calculation part.\n",
      "##given\n",
      "l = 500.*10**3.;## Load in VA\n",
      "P_F = 0.6;## Power Factor\n",
      "Req_P_F = 0.9;## Required power factor\n",
      "##Refer to figure 8.8\n",
      "BC = 2.5;## units\n",
      "C_rt = 250*10**3;## in VAR (obtained from figure 8.8)\n",
      "print'%s %.2f %s'%('The required condenser rating is',C_rt,'')\n",
      "\n"
     ],
     "language": "python",
     "metadata": {},
     "outputs": [
      {
       "output_type": "stream",
       "stream": "stdout",
       "text": [
        "Example 8.9\n",
        "Page No. 238\n",
        "The required condenser rating is 250000.00 \n"
       ]
      }
     ],
     "prompt_number": 2
    },
    {
     "cell_type": "heading",
     "level": 2,
     "metadata": {},
     "source": [
      "Ex10-pg240"
     ]
    },
    {
     "cell_type": "code",
     "collapsed": false,
     "input": [
      "import math\n",
      "import numpy\n",
      "from numpy.linalg import inv\n",
      "## Example 8.10\n",
      "print ('Example 8.10');\n",
      "print ('Page No. 240');\n",
      "\n",
      "P = 100.;## Power in 10^3 W\n",
      "C = 5.;## Charge in Euro per 10^3 per month\n",
      "PF = ([1.0, 0.9 ,0.8, 0.7, 0.6, 0.5]);## Power factor \n",
      "leng=len(PF)\n",
      "for i in range (0,leng):\n",
      "\tVA = (PF[i]/P)*C\n",
      "\ta=VA\n",
      "\tb=PF[i]\n",
      "\tprint'%s %.2f %s %.2f %s'% ('Charge per month for power factor ',b,' is' ,a,'Euro')\n",
      "\n"
     ],
     "language": "python",
     "metadata": {},
     "outputs": [
      {
       "output_type": "stream",
       "stream": "stdout",
       "text": [
        "Example 8.10\n",
        "Page No. 240\n",
        "Charge per month for power factor  1.00  is 0.05 Euro\n",
        "Charge per month for power factor  0.90  is 0.05 Euro\n",
        "Charge per month for power factor  0.80  is 0.04 Euro\n",
        "Charge per month for power factor  0.70  is 0.03 Euro\n",
        "Charge per month for power factor  0.60  is 0.03 Euro\n",
        "Charge per month for power factor  0.50  is 0.03 Euro\n"
       ]
      }
     ],
     "prompt_number": 1
    },
    {
     "cell_type": "heading",
     "level": 2,
     "metadata": {},
     "source": [
      "Ex11-pg240"
     ]
    },
    {
     "cell_type": "code",
     "collapsed": false,
     "input": [
      "import math\n",
      "## Example 8.11\n",
      "print('Example 8.11');\n",
      "print ('Page No. 240');\n",
      "\n",
      "## This question doesnot contain any calculation part.\n",
      "##given\n",
      "P_F_1 = 0.7;## Initial power factor\n",
      "P_F_2 = 0.95;## Final power factor\n",
      "##Refer Figure 8.10\n",
      "red_I = 26;##reduction in current in per cent\n",
      "print'%s %.2f %s'% ('The reduction in current is ',red_I,' per cent ')\n",
      "P_F_3 = 1.0;## Increased power factor\n",
      "## From figure 8.10\n",
      "Save = 4.;## per cent\n",
      "print'%s %.2f %s'% ('Increase in power factor from 0.95-1.0 only increases saving further by a ',Save,' per cent')\n",
      "\n"
     ],
     "language": "python",
     "metadata": {},
     "outputs": [
      {
       "output_type": "stream",
       "stream": "stdout",
       "text": [
        "Example 8.11\n",
        "Page No. 240\n",
        "The reduction in current is  26.00  per cent \n",
        "Increase in power factor from 0.95-1.0 only increases saving further by a  4.00  per cent\n"
       ]
      }
     ],
     "prompt_number": 34
    },
    {
     "cell_type": "heading",
     "level": 2,
     "metadata": {},
     "source": [
      "Ex12-pg240"
     ]
    },
    {
     "cell_type": "code",
     "collapsed": false,
     "input": [
      "\n",
      "## Example 8.12\n",
      "print ('Example 8.12');\n",
      "print ('Page No. 240');\n",
      "\n",
      "## This question doesnot contain any calculation part.\n",
      "##given\n",
      "C = 10000.;## Installation cost of capacitors in Pound\n",
      "P_F_1 = 0.84;## Initial power factor\n",
      "P_F_2 = 0.97;## Final power factor\n",
      "##Refer Figure 8.10\n",
      "red_dem = 14.;##reduction in maximum demand in per cent\n",
      "T = 9.;## pay-back time in months\n",
      "\n",
      "print'%s %.2f %s'% ('The reduction in maximum demand is',red_dem,' per cent')\n",
      "print'%s %.2f %s'% ('The pay-back time was',T,' months')\n",
      "## This question does not contain any calculation part.\n"
     ],
     "language": "python",
     "metadata": {},
     "outputs": [
      {
       "output_type": "stream",
       "stream": "stdout",
       "text": [
        "Example 8.12\n",
        "Page No. 240\n",
        "The reduction in maximum demand is 14.00  per cent\n",
        "The pay-back time was 9.00  months\n"
       ]
      }
     ],
     "prompt_number": 33
    },
    {
     "cell_type": "heading",
     "level": 2,
     "metadata": {},
     "source": [
      "Ex13-pg244"
     ]
    },
    {
     "cell_type": "code",
     "collapsed": false,
     "input": [
      "import math\n",
      "import numpy\n",
      "from numpy import floor\n",
      "## Example 8.13\n",
      "print ('Example 8.13');\n",
      "print ('Page No. 244');\n",
      "\n",
      "##given\n",
      "T1 = 21.;## in degree celcius\n",
      "t1 = 8.;## time in h per day\n",
      "c = 3.5;## cost in p per unit\n",
      "C1 = 38.;## Total cost in Pound per 10^3 W\n",
      "\n",
      "T2 = 16.;## in degree celcius\n",
      "t2 = 8.;## time in h per day\n",
      "C2 = 27.;## Total cost in Pound per 10^3 W\n",
      "\n",
      "Save = C1 - C2;## Saving in Pound per 10^3 W\n",
      "Save_deg = Save/(T1 - T2);## Total Saving in Pound per 10^3 W for each degree drop\n",
      "Save_per = (Save_deg/C1)*100.;## Saving in percent\n",
      "print'%s %.2f %s'% ('For each degree drop, an energy saving of ',floor(Save_per),' per cent is achieved')\n",
      "\n"
     ],
     "language": "python",
     "metadata": {},
     "outputs": [
      {
       "output_type": "stream",
       "stream": "stdout",
       "text": [
        "Example 8.13\n",
        "Page No. 244\n",
        "For each degree drop, an energy saving of  5.00  per cent is achieved\n"
       ]
      }
     ],
     "prompt_number": 32
    },
    {
     "cell_type": "heading",
     "level": 2,
     "metadata": {},
     "source": [
      "Ex14-pg245"
     ]
    },
    {
     "cell_type": "code",
     "collapsed": false,
     "input": [
      "import math\n",
      "## Example 8.14\n",
      "print ('Example 8.14');\n",
      "print ('Page No. 245');\n",
      "\n",
      "## This question doesnot contain any calculation part.\n",
      "##refer Table 8.6\n",
      "O_1 = 1750.;\n",
      "O_2 = 0.;\n",
      "O_3 = 2.;\n",
      "O_4 = 150.;\n",
      "O_5 = 1900.;\n",
      "O_6 = 0.;\n",
      "I_1 = 580.;\n",
      "I_2 = 1658.;\n",
      "I_3 = 0.5;\n",
      "I_4 = 40.;\n",
      "I_5 = 1698.;\n",
      "I_6 = 11.;\n",
      "D_1 = 300.;\n",
      "D_2 = 869.;\n",
      "D_3 = 0.5;\n",
      "D_4 = 40.;\n",
      "D_5 = 900.;\n",
      "D_6 = 37.;\n",
      "print(' \\t\\t\\t\\t\\t\\t ENERGY COSTS FOR HEATING STEEL BILLETS')\n",
      "print('components\\t\\t\\t\\t\\t\\t kmol \\t\\t\\t\\t\\t\\t % Composition by volume' '\\n\\n\\n')\n",
      "print('\\t\\t\\t\\t\\t\\t\\t (1)Oil fired \t   (2)Induction \t (3)Direct resistance')\n",
      "print'%s %.2f %s %.2f %s %.2f %s '%('Components(10^3 W/tonne) \\t\\t ',O_1,'  \\t\\t ',I_1,' \\t\\t  ',D_1,'')\n",
      "print'%s %.2f %s %.2f %s %.2f %s '%('Fuel(electricity) \\t\\t      '  ,O_2,'  \\t\\t ',I_2,' \\t\\t  ',D_2,'')\n",
      "print'%s %.2f %s %.2f %s %.2f %s '%('Components(10^3 W/tonne) \\t\\t ',O_3,'  \\t\\t ',I_3,' \\t\\t  ',D_3,'')\n",
      "print'%s %.2f %s %.2f %s %.2f %s '%('Components(10^3 W/tonne) \\t\\t ',O_4,'  \\t\\t ',I_4,' \\t\\t  ',D_4,'')\n",
      "print'%s %.2f %s %.2f %s %.2f %s '%('Components(10^3 W/tonne) \\t\\t ',O_5,'  \\t\\t ',I_5,' \\t\\t  ',D_5,'')\n",
      "print'%s %.2f %s %.2f %s %.2f %s '%('Components(10^3 W/tonne) \\t\\t ',O_6,'  \\t\\t ',I_6,' \\t\\t  ',D_6,'')\n"
     ],
     "language": "python",
     "metadata": {},
     "outputs": [
      {
       "output_type": "stream",
       "stream": "stdout",
       "text": [
        "Example 8.14\n",
        "Page No. 245\n",
        " \t\t\t\t\t\t ENERGY COSTS FOR HEATING STEEL BILLETS\n",
        "components\t\t\t\t\t\t kmol \t\t\t\t\t\t % Composition by volume\n",
        "\n",
        "\n",
        "\n",
        "\t\t\t\t\t\t\t (1)Oil fired \t   (2)Induction \t (3)Direct resistance\n",
        "Components(10^3 W/tonne) \t\t  1750.00   \t\t  580.00  \t\t   300.00  \n",
        "Fuel(electricity) \t\t       0.00   \t\t  1658.00  \t\t   869.00  \n",
        "Components(10^3 W/tonne) \t\t  2.00   \t\t  0.50  \t\t   0.50  \n",
        "Components(10^3 W/tonne) \t\t  150.00   \t\t  40.00  \t\t   40.00  \n",
        "Components(10^3 W/tonne) \t\t  1900.00   \t\t  1698.00  \t\t   900.00  \n",
        "Components(10^3 W/tonne) \t\t  0.00   \t\t  11.00  \t\t   37.00  \n"
       ]
      }
     ],
     "prompt_number": 3
    },
    {
     "cell_type": "heading",
     "level": 2,
     "metadata": {},
     "source": [
      "Ex15-pg247"
     ]
    },
    {
     "cell_type": "code",
     "collapsed": false,
     "input": [
      "import math\n",
      "## Example 8.15\n",
      "print('Example 8.15\\n\\n');\n",
      "print('Page No. 247\\n\\n');\n",
      "\n",
      "## This question doesnot contain any calculation part.\n",
      "##refer Table 8.7\n",
      "El = 35.;## Percentage of electricity produced from primary fuel\n",
      "En_1 = 50.;## Endothermic gas (m^3)\n",
      "En_2 = 100.;## Endothermic gas (m^3)\n",
      "En_3 = 200.;## Endothermic gas (m^3)\n",
      "G_1 = 97.;## Gas use (10^3 Wh)\n",
      "G_2 = 194.;## Gas use (10^3 Wh)\n",
      "G_3 = 386.;## Gas use (10^3 Wh)\n",
      "El_1 = 24.;## Electricity use (10^3 Wh)\n",
      "El_2 = 48.;## Electricity use (10^3 Wh)\n",
      "El_3 = 95.;## Electricity use (10^3 Wh)\n",
      "P_1 = 69.;## Primary energy (10^3 Wh)\n",
      "P_2 = 137.;## Primary energy (10^3 Wh)\n",
      "P_3 = 271.;## Primary energy (10^3 Wh)\n",
      "Endothermicgas=['50 \\t\\t',       '100 \\t\\t ','200 \\t\\t ']\n",
      "gasuse=        ['\\t\\t 97 \\t\\t  ','\\t\\t194 \\t\\t ','\\t\\t 386 \\t\\t ']\n",
      "electricityuse=[' \\t\\t 24 ',' \\t\\t 48\\t\\t ',' \\t\\t 95 \\t']\n",
      "primaryenergy= [' \\t\\t 69 ',' 137 ',' \\t 271  ']\n",
      "print('Endothermicgas\\t\\t gasuse\\t\\t electricityuse \\t\\t primaryenergy')\n",
      "\n",
      "for row in zip(Endothermicgas , gasuse, electricityuse,primaryenergy):\n",
      "\tprint ' '.join(row)\n"
     ],
     "language": "python",
     "metadata": {},
     "outputs": [
      {
       "output_type": "stream",
       "stream": "stdout",
       "text": [
        "Example 8.15\n",
        "\n",
        "\n",
        "Page No. 247\n",
        "\n",
        "\n",
        "Endothermicgas\t\t gasuse\t\t electricityuse \t\t primaryenergy\n",
        "50 \t\t \t\t 97 \t\t    \t\t 24   \t\t 69 \n",
        "100 \t\t  \t\t194 \t\t   \t\t 48\t\t   137 \n",
        "200 \t\t  \t\t 386 \t\t   \t\t 95 \t  \t 271  \n"
       ]
      }
     ],
     "prompt_number": 2
    }
   ],
   "metadata": {}
  }
 ]
}