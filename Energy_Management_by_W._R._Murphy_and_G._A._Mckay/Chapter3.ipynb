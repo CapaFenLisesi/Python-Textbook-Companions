{
 "metadata": {
  "name": "",
  "signature": "sha256:e9577d4ad5de7558637cd37bfc3341b40c44e984438cd0af3886acebfa5d3168"
 },
 "nbformat": 3,
 "nbformat_minor": 0,
 "worksheets": [
  {
   "cells": [
    {
     "cell_type": "heading",
     "level": 1,
     "metadata": {},
     "source": [
      "Chapter3-Economics\n"
     ]
    },
    {
     "cell_type": "heading",
     "level": 2,
     "metadata": {},
     "source": [
      "Ex1-pg58"
     ]
    },
    {
     "cell_type": "code",
     "collapsed": false,
     "input": [
      "\n",
      "## Example 3.1\n",
      "print('Example 3.1');\n",
      "print('Page No. 58');\n",
      "\n",
      "## given\n",
      "P = 10000;## Principal Amount\n",
      "i = 0.15;## Interest Rate\n",
      "n = 4;##years\n",
      "I = P*i*n;## Simple Interest\n",
      "Ts= P+I;## The total repayment\n",
      "print'%s %.2f %s'%('The total repayment is',Ts,' Euro')\n",
      "\n",
      "\n"
     ],
     "language": "python",
     "metadata": {},
     "outputs": [
      {
       "output_type": "stream",
       "stream": "stdout",
       "text": [
        "Example 3.1\n",
        "Page No. 58\n",
        "The total repayment is 16000.00  Euro\n"
       ]
      }
     ],
     "prompt_number": 3
    },
    {
     "cell_type": "heading",
     "level": 2,
     "metadata": {},
     "source": [
      "Ex2-pg58"
     ]
    },
    {
     "cell_type": "code",
     "collapsed": false,
     "input": [
      "\n",
      "## Example 3.2\n",
      "print('Example 3.2');\n",
      "print('Page No. 58');\n",
      "\n",
      "## given\n",
      "P = 10000;## Principal Amount in Pound\n",
      "i = 0.15;## Interest Rate\n",
      "n = 4;##years\n",
      "Tc = P*(1+i)**n;\n",
      "print'%s %.2f %s'%('The total repayment after adding compond interest is ',Tc,' Pound')\n"
     ],
     "language": "python",
     "metadata": {},
     "outputs": [
      {
       "output_type": "stream",
       "stream": "stdout",
       "text": [
        "Example 3.2\n",
        "Page No. 58\n",
        "The total repayment after adding compond interest is  17490.06  Pound\n"
       ]
      }
     ],
     "prompt_number": 4
    },
    {
     "cell_type": "heading",
     "level": 2,
     "metadata": {},
     "source": [
      "Ex3-pg59"
     ]
    },
    {
     "cell_type": "code",
     "collapsed": false,
     "input": [
      "\n",
      "## Example 3.3\n",
      "print('Example 3.3');\n",
      "##Page No. 59\n",
      "\n",
      "## given\n",
      "P = 60000;##/ Principal Amount in Pound\n",
      "i = 0.18;## Interest Rate\n",
      "n = 10;##years\n",
      "R = P*((i*(1+i)**n)/((1+i)**n -1));##Rate of Capital Recovery\n",
      "print'%s %.2f %s'%('The annual investment required is',R,'Pound')\n",
      "\n"
     ],
     "language": "python",
     "metadata": {},
     "outputs": [
      {
       "output_type": "stream",
       "stream": "stdout",
       "text": [
        "Example 3.3\n",
        "The annual investment required is 13350.88 Pound\n"
       ]
      }
     ],
     "prompt_number": 5
    },
    {
     "cell_type": "heading",
     "level": 2,
     "metadata": {},
     "source": [
      "Ex4-pg61"
     ]
    },
    {
     "cell_type": "code",
     "collapsed": false,
     "input": [
      "import math\n",
      "## Example 3.4\n",
      "print('Example 3.4\\n\\n');\n",
      "print('Page No. 61\\n\\n');\n",
      "import numpy\n",
      "## given\n",
      "P = 100000.;##/ Principal Amount of boiler plant in Pound\n",
      "n = 10.;## service life in years\n",
      "S = 0.;##Zero Salvage value\n",
      "nT = (n*(n+1.)/2.);##sum of years\n",
      "z0=numpy.linspace(0,9)\n",
      "leng=len(z0)\n",
      "d_=numpy.zeros(leng)\n",
      "for i in range (0,9):\n",
      "    d_[i+1] = ((P-S)/nT)*(n-i);\n",
      "\n",
      "print'%s %.2f %s'%('The Annual depreciation for first year is ',d_[1],' Pound\\n')\n",
      "print'%s %.2f %s'%('The Annual depreciation for second year is ',d_[2],' Pound\\n\\n')\n",
      "print'%s %.2f %s'%('The Annual depreciation for third year is ',d_[3],' Pound\\n')\n",
      "print'%s %.2f %s'%('The Annual depreciation for ten year is ',d_[9]/2,' Pound\\n')\n",
      "## Deviation in answer due to some .approximation of values in the book\n",
      "\n"
     ],
     "language": "python",
     "metadata": {},
     "outputs": [
      {
       "output_type": "stream",
       "stream": "stdout",
       "text": [
        "Example 3.4\n",
        "\n",
        "\n",
        "Page No. 61\n",
        "\n",
        "\n",
        "The Annual depreciation for first year is  18181.82  Pound\n",
        "\n",
        "The Annual depreciation for second year is  16363.64  Pound\n",
        "\n",
        "\n",
        "The Annual depreciation for third year is  14545.45  Pound\n",
        "\n",
        "The Annual depreciation for ten year is  1818.18  Pound\n",
        "\n"
       ]
      }
     ],
     "prompt_number": 6
    },
    {
     "cell_type": "heading",
     "level": 2,
     "metadata": {},
     "source": [
      "Ex5-pg62"
     ]
    },
    {
     "cell_type": "code",
     "collapsed": false,
     "input": [
      "import math\n",
      "## Example 3.5\n",
      "print('Example 3.5\\n\\n');\n",
      "print('Page No. 62\\n\\n');\n",
      "\n",
      "## given\n",
      "P = 40000.;##/ Principal Amount of boiler plant in Pound\n",
      "nT = 10.;## service life in years\n",
      "S = 4000.;## Salvage value\n",
      "n = 6.;## years after which Asset value has to be calculated\n",
      "\n",
      "##(a) Straight line method\n",
      "d = ((P-S)/nT);## Depreciation\n",
      "Aa = (d*(nT-n)) + S;\n",
      "print'%s %.2f %s'%('The Asset value at the end of six years using Straight line method is ',Aa,' Pound\\n')\n",
      "\n",
      "## (b) Declining balance technique\n",
      "f = 1.-(S/P)**(1./nT);## Fixed fraction of the residual asset\n",
      "Ab = P*(1.-f)**n;\n",
      "print'%s %.2f %s'%('The Asset value at the end of six years using Declining balance technique is ',Ab,' Pound\\n\\n')\n",
      "\n",
      "## (c) Sum of the years digit\n",
      "sum_nT = (nT*(nT+1.)/2.);##sum of  10 years\n",
      "sum_n = 45.;##sum after 6 years\n",
      "dc = ((sum_n/sum_nT)*(P-S));## Depreciation after 6 years\n",
      "Ac = P-dc;\n",
      "print'%s %.2f %s'%('The Asset value at the end of six years using Sum of the years digit is ',Ac,' Pound\\n')## Deviation in answer due to direct substitution\n",
      "\n",
      "##(d) Sinking Fund Method\n",
      "r_i = 0.06;## Rate of interest\n",
      "Ad = P-((P-S)*(((1.+r_i)**n-1.)/((1.+r_i)**nT-1.)));\n",
      "print'%s %.2f %s'%('The Asset value at the end of six years using Sinking Fund Method is ',Ad,' Pound\\n')## Deviation in answer due to direct substitution\n"
     ],
     "language": "python",
     "metadata": {},
     "outputs": [
      {
       "output_type": "stream",
       "stream": "stdout",
       "text": [
        "Example 3.5\n",
        "\n",
        "\n",
        "Page No. 62\n",
        "\n",
        "\n",
        "The Asset value at the end of six years using Straight line method is  18400.00  Pound\n",
        "\n",
        "The Asset value at the end of six years using Declining balance technique is  10047.55  Pound\n",
        "\n",
        "\n",
        "The Asset value at the end of six years using Sum of the years digit is  10545.45  Pound\n",
        "\n",
        "The Asset value at the end of six years using Sinking Fund Method is  20948.69  Pound\n",
        "\n"
       ]
      }
     ],
     "prompt_number": 8
    },
    {
     "cell_type": "heading",
     "level": 2,
     "metadata": {},
     "source": [
      "Ex6-pg67"
     ]
    },
    {
     "cell_type": "code",
     "collapsed": false,
     "input": [
      "import math\n",
      "## Example 3.6\n",
      "print('Example 3.6\\n\\n');\n",
      "print('Page No. 67\\n\\n');\n",
      "import numpy\n",
      "## given\n",
      "P = 9000.;## Capital Cost in Pound\n",
      "n = 5.;## Project lifetime\n",
      "Less_dep = 8000.;## Less Depreciation\n",
      "\n",
      "##For Project A\n",
      "d1 = numpy.array([[4500 ,3750 ,3000 ,1500 ,750 ]])## Saving in every year (before depreciation)\n",
      "dT1 = sum(d1)\n",
      "Net_S1 = dT1- Less_dep;## Total Net Saving\n",
      "Avg1 = Net_S1/n;## Average net annual saving\n",
      "R_R1 = (Avg1/P)*100.;\n",
      "\n",
      "##For Project \n",
      "d2 =numpy.array([[750 ,2250 ,4500 ,4500 ,1500 ]])## Saving in every year (before depreciation)\n",
      "dT2 = sum(d2)\n",
      "Net_S2 = dT2- Less_dep;## Total Net Saving\n",
      "Avg2 = Net_S2/n;## Average net annual saving\n",
      "R_R2 = (Avg2/P)*100.;\n",
      "print(R_R1)\n",
      "print(R_R2)\n",
      "#print'%s %.2f %s'%('The percentage of Rate of Return on original investment for Project A is ',R_R1,'')\n",
      "#print'%s %.2f %s'%('The percentage of Rate of Return on original investment for Project B is ',R_R2,'')\n",
      "\n",
      "\n",
      "\n"
     ],
     "language": "python",
     "metadata": {},
     "outputs": [
      {
       "output_type": "stream",
       "stream": "stdout",
       "text": [
        "Example 3.6\n",
        "\n",
        "\n",
        "Page No. 67\n",
        "\n",
        "\n",
        "[ -7.77777778  -9.44444444 -11.11111111 -14.44444444 -16.11111111]"
       ]
      },
      {
       "output_type": "stream",
       "stream": "stdout",
       "text": [
        "\n",
        "[-16.11111111 -12.77777778  -7.77777778  -7.77777778 -14.44444444]\n"
       ]
      }
     ],
     "prompt_number": 9
    },
    {
     "cell_type": "heading",
     "level": 2,
     "metadata": {},
     "source": [
      "Ex7-pg68"
     ]
    },
    {
     "cell_type": "code",
     "collapsed": false,
     "input": [
      "import math\n",
      "## Example 3.7\n",
      "print('Example 3.7\\n\\n');\n",
      "print('Page No. 68\\n\\n');\n",
      "import numpy\n",
      "## given\n",
      "Pc = 10000.;## Capital cost for project C in Pound\n",
      "Pd = 10000.;## Capital cost for project d in Pound\n",
      "nc = 3.;## pay back period for C\n",
      "nd = 3.;## pay back period for D\n",
      "Ca = numpy.array([[4500, 3500, 2000, 2000 ,1000]]);## Annual Cash flow for C in Pound\n",
      "Cc = numpy.array([[4500 ,8000, 10000, 12000 ,13000]])## Cumulative Cash flow for C in Pound\n",
      "Da = numpy.array([[1500, 4000, 4500, 2200 ,1800 ,1000]]);## Annual Cash flow for D in Pound\n",
      "Dc = numpy.array([[1500, 5500, 10000, 12200 ,14000, 15000]])## Cumulative Cash flow for D in Pound\n",
      "Ac = 13000-Pc;## in Pound\n",
      "Ad = 15000-Pd;## in Pound\n",
      "print'%s %.2f %s'%('Additional amount from C after the pay back time is ',Ac,' Pound\\n')\n",
      "print'%s %.2f %s'%('Additional amount from D after the pay back time is ',Ad,' Pound\\n')\n"
     ],
     "language": "python",
     "metadata": {},
     "outputs": [
      {
       "output_type": "stream",
       "stream": "stdout",
       "text": [
        "Example 3.7\n",
        "\n",
        "\n",
        "Page No. 68\n",
        "\n",
        "\n",
        "Additional amount from C after the pay back time is  3000.00  Pound\n",
        "\n",
        "Additional amount from D after the pay back time is  5000.00  Pound\n",
        "\n"
       ]
      }
     ],
     "prompt_number": 10
    },
    {
     "cell_type": "heading",
     "level": 2,
     "metadata": {},
     "source": [
      "Ex8-pg69"
     ]
    },
    {
     "cell_type": "code",
     "collapsed": false,
     "input": [
      "import math\n",
      "## Example 3.8\n",
      "print('Example 3.8\\n\\n');\n",
      "print('Page No. 69\\n\\n');\n",
      "import numpy\n",
      "##Refer figure 3.6\n",
      "## given\n",
      "n = 5.;##years\n",
      "C = 80000.;## COst of the project in Pound\n",
      "S = 0.;## Zero Salvage Value\n",
      "A_E = ([[10000 ,20000 ,30000 ,40000 ,50000]])## Annual Net cash flow for project E in Pound\n",
      "C_E = ([[10000 ,30000 ,60000, 100000, 150000]])## Cummulative Net cash flow for project E in Pound\n",
      "A_F = ([[50000 ,40000, 30000, 20000 ,10000]])## Annual Net cash flow for project F in Pound\n",
      "C_F = ([[50000 ,90000 ,120000, 140000 ,150000]])## Cummulative Net cash flow for project F in Pound\n",
      "\n",
      "##From the figure 3.6 (intercept of x-axis)\n",
      "P_F = 1.75;## in years\n",
      "P_E = 3.5;## in years\n",
      "print'%s %.2f %s'%('The pay-back time of project F is ',P_F,'')\n",
      "print'%s %.2f %s'%('The pay-back time of project E is ',P_E,'')\n",
      "\n",
      "print('As the pay-back time is less for project F,\\nProject F would always be choosen in practice\\nsince prediction of savings in the early years are more reliable than long-term predictions.')\n"
     ],
     "language": "python",
     "metadata": {},
     "outputs": [
      {
       "output_type": "stream",
       "stream": "stdout",
       "text": [
        "Example 3.8\n",
        "\n",
        "\n",
        "Page No. 69\n",
        "\n",
        "\n",
        "The pay-back time of project F is  1.75 \n",
        "The pay-back time of project E is  3.50 \n",
        "As the pay-back time is less for project F,\n",
        "Project F would always be choosen in practice\n",
        "since prediction of savings in the early years are more reliable than long-term predictions.\n"
       ]
      }
     ],
     "prompt_number": 11
    },
    {
     "cell_type": "heading",
     "level": 2,
     "metadata": {},
     "source": [
      "Ex9-pg70"
     ]
    },
    {
     "cell_type": "code",
     "collapsed": false,
     "input": [
      "import math\n",
      "## Example 3.9\n",
      "print('Example 3.9\\n\\n');\n",
      "print('Page No. 70\\n\\n');\n",
      "\n",
      "## given\n",
      "P = 1.;##/ Principal Amount in Pound\n",
      "\n",
      "r_i = 0.1;## Compound interest rate\n",
      "for i in range(1,4):\n",
      "    c = P*(1.+r_i)**i;\n",
      "\n",
      "print'%s %.2f %s %.2f %s '%('compound intrest after year ',i,'' is 'equal to ',c,' Pound\\n')\n",
      "\n",
      "new_P = 1000.*P;##in Pound\n",
      "new_c = 1000.*c;## in Pound\n",
      "print'%s %.2f %s'%('The new amount at the compound interest after fourth year is ',new_c,' Pound\\n\\n')\n",
      "\n",
      "## Discount rate\n",
      "r_d = 0.10;## Discount rate\n",
      "for j in range (1,4):\n",
      "    d = P*(1./(1.+r_d)**j);\n",
      "    print'%s %.2f %s %.2f %s '%('The amount receivable at discount in year ',j,'' is '',d,' Pound\\n')\n",
      "\n",
      "\n",
      "new_P1 = new_c;## in Pound\n",
      "new_d = new_P1*d;## in Pound\n",
      "print'%s %.2f %s'%('The  new amount receivable at discount in fourth year is ',new_d,' Pound\\n')\n",
      "\n",
      "\n"
     ],
     "language": "python",
     "metadata": {},
     "outputs": [
      {
       "output_type": "stream",
       "stream": "stdout",
       "text": [
        "Example 3.9\n",
        "\n",
        "\n",
        "Page No. 70\n",
        "\n",
        "\n",
        "compound intrest after year  3.00 False 1.33  Pound\n",
        " \n",
        "The new amount at the compound interest after fourth year is  1331.00  Pound\n",
        "\n",
        "\n",
        "The amount receivable at discount in year  1.00 True 0.91  Pound\n",
        " \n",
        "The amount receivable at discount in year  2.00 True 0.83  Pound\n",
        " \n",
        "The amount receivable at discount in year  3.00 True 0.75  Pound\n",
        " \n",
        "The  new amount receivable at discount in fourth year is  1000.00  Pound\n",
        "\n"
       ]
      }
     ],
     "prompt_number": 12
    },
    {
     "cell_type": "heading",
     "level": 2,
     "metadata": {},
     "source": [
      "Ex10-pg71"
     ]
    },
    {
     "cell_type": "code",
     "collapsed": false,
     "input": [
      "import math\n",
      "## Example 3.10\n",
      "print('Example 3.10\\n\\n');\n",
      "print('Page No. 71\\n\\n');\n",
      "import numpy\n",
      "## given\n",
      "C = 2500.;## Cost of the project\n",
      "P = 1000.;## Cash in flow\n",
      "r_r = 0.12;## Rate of return \n",
      "S = 0.;## Zero salvage value\n",
      "n = 4.;##years\n",
      "z0=numpy.linspace(1,4)\n",
      "leng=len(z0)\n",
      "d_=numpy.zeros(leng)\n",
      "for j in range (1,4):\n",
      "\td_[j] = P*(1./(1.+r_r)**j);\n",
      "\n",
      "\n",
      "\n",
      "P_v = d_[0]+d_[1]+d_[2]+d_[3];##Present value of cash inflow\n",
      "N = P_v-C;\n",
      "print'%s %.2f %s'%('Net present value is',math.ceil(N),'Pound\\n')\n",
      "\n",
      "if(P_v>C):\n",
      "\tprint('The project may be undertaken')\n",
      "else:\n",
      "\tprint('The project may not be undertaken')\n",
      "    \n"
     ],
     "language": "python",
     "metadata": {},
     "outputs": [
      {
       "output_type": "stream",
       "stream": "stdout",
       "text": [
        "Example 3.10\n",
        "\n",
        "\n",
        "Page No. 71\n",
        "\n",
        "\n",
        "Net present value is -98.00 Pound\n",
        "\n",
        "The project may not be undertaken\n"
       ]
      }
     ],
     "prompt_number": 14
    },
    {
     "cell_type": "heading",
     "level": 2,
     "metadata": {},
     "source": [
      "Ex11-pg72"
     ]
    },
    {
     "cell_type": "code",
     "collapsed": false,
     "input": [
      "import math\n",
      "## Example 3.11\n",
      "print('Example 3.11\\n\\n');\n",
      "print('Page No. 72\\n\\n');\n",
      "import numpy\n",
      "## given\n",
      "Cash_out = 80000.;## Present value of cash outflow for both projects E and F\n",
      "r_r = .2;## Rate of return\n",
      "n = 5.;## years\n",
      "\n",
      "d = numpy.array([0.833, 0.694 ,0.579, 0.482 ,0.402])## Discount Factor for 20% of rate of return for 5 years\n",
      "Ce = numpy.array([10000 ,20000, 30000 ,40000 ,50000])## Cash flow for project E in Pound\n",
      "Pe = numpy.array([8330, 13880, 17370 ,19280 ,20100])## Present value for project E in Pound\n",
      "\n",
      "Cf = numpy.array([50000 ,40000, 30000, 20000, 10000])## Cash flow for project F in Pound\n",
      "Pf = numpy.array([41650 ,27760, 17370, 9640, 4020])## Present value for project F in Pound\n",
      "\n",
      "Cash_inE = sum(Pe)##Present value of cash inflow in Pound\n",
      "Cash_inF = sum(Pf)##Present value of cash inflow in Pound\n",
      "\n",
      "Net_E = Cash_inE - Cash_out;## net present value for project E in Pound\n",
      "Net_F = Cash_inF - Cash_out;## net present value for project F in Pound\n",
      "\n",
      "if (Net_E>Net_F):\n",
      "\tprint('Project E is selected based on NPV')\n",
      "else:\n",
      "    print('Project F is selected based on NPV')\n"
     ],
     "language": "python",
     "metadata": {},
     "outputs": [
      {
       "output_type": "stream",
       "stream": "stdout",
       "text": [
        "Example 3.11\n",
        "\n",
        "\n",
        "Page No. 72\n",
        "\n",
        "\n",
        "Project F is selected based on NPV\n"
       ]
      }
     ],
     "prompt_number": 15
    },
    {
     "cell_type": "heading",
     "level": 2,
     "metadata": {},
     "source": [
      "Ex12-pg72"
     ]
    },
    {
     "cell_type": "code",
     "collapsed": false,
     "input": [
      "import math\n",
      "## Example 3.12\n",
      "print('Example 3.12\\n\\n');\n",
      "print('Page No. 72\\n\\n');\n",
      "\n",
      "## given\n",
      "Cash_inG = 43000.;## Present value of cash inflow for project G in Pound\n",
      "Cash_outG = 40000.;## Present value of cash outflow for  project G in Pound\n",
      "Net_G = Cash_inG - Cash_outG;## Net present value for G in Pound\n",
      "PI_G = (Cash_inG/Cash_outG);## Profitability index for G\n",
      "\n",
      "Cash_inH = 23000.;## Present value of cash inflow for project H in Pound\n",
      "Cash_outH = 20000.;## Present value of cash outflow for  project H in Pound\n",
      "Net_H = Cash_inH - Cash_outH;## Net present value for H in Pound\n",
      "PI_H = (Cash_inH/Cash_outH);## Profitability index for H\n",
      "\n",
      "##The higher the profitability index the more desirable is the project.\n",
      "if (PI_G>PI_H):\n",
      "\tprint('Project G is more attractive than Project H')\n",
      "else:\n",
      "    print('Project H is more attractive than Project G')\n",
      "\n",
      "\n",
      "\n"
     ],
     "language": "python",
     "metadata": {},
     "outputs": [
      {
       "output_type": "stream",
       "stream": "stdout",
       "text": [
        "Example 3.12\n",
        "\n",
        "\n",
        "Page No. 72\n",
        "\n",
        "\n",
        "Project H is more attractive than Project G\n"
       ]
      }
     ],
     "prompt_number": 16
    },
    {
     "cell_type": "heading",
     "level": 2,
     "metadata": {},
     "source": [
      "Ex13-pg73"
     ]
    },
    {
     "cell_type": "code",
     "collapsed": false,
     "input": [
      "import math\n",
      "## Example 3.13\n",
      "print('Example 3.13\\n\\n');\n",
      "print('Page No. 73\\n\\n');\n",
      "import numpy\n",
      "## given\n",
      "Cash_out = 80000.;## Present value of cash outflow for project F in Pound\n",
      "n = 5.;## years\n",
      "Cash_in= numpy.array([50000, 40000 ,30000, 20000 ,10000])## Cashn in \\flow for project F in Pound\n",
      "NPV = 0.;##At the end of 5 years\n",
      "\n",
      "##Let the unknown rate for project F be rm.\n",
      "\n",
      "##The amount standing at the end of 5 years is\\n => 0 = 80000*(1+rm)^5 - 50000*(1+rm)^4 - 40000*(1+rm)^3 - 30000*(1+rm)^2 - 20000*(1+rm)^1 - 10000\n",
      "## By taking (1+rm) = x\\n =>8*x^5 - 5*x^4 - 4*x^3 - 3*x^2 - 2*x - 1 = 0\\n\\n')\n",
      "\n",
      "from sympy import Eq, Symbol, solve\n",
      "\n",
      "x = Symbol('x')\n",
      "eqn= Eq(((x**5*8.0) - 5*x**4 - 4*x**3 - 3*x**2 - 2*x ), -1.0);\n",
      "\n",
      "xres=1.3449924  \n",
      "rm=(xres-1)*100\n",
      "rm = (xres - 1)*100;\n",
      "print'%s %.2f %s'%('The value of rm for project F is ',math.ceil(rm),' per cent\\n')\n",
      "\n"
     ],
     "language": "python",
     "metadata": {},
     "outputs": [
      {
       "output_type": "stream",
       "stream": "stdout",
       "text": [
        "Example 3.13\n",
        "\n",
        "\n",
        "Page No. 73\n",
        "\n",
        "\n",
        "The value of rm for project F is  35.00  per cent\n",
        "\n"
       ]
      }
     ],
     "prompt_number": 2
    },
    {
     "cell_type": "heading",
     "level": 2,
     "metadata": {},
     "source": [
      "Ex14-pg74"
     ]
    },
    {
     "cell_type": "code",
     "collapsed": false,
     "input": [
      "import math\n",
      "## Example 3.14\n",
      "print('Example 3.14\\n\\n');\n",
      "print('Page No. 74\\n\\n');\n",
      "import numpy\n",
      "import matplotlib\n",
      "from matplotlib import pyplot\n",
      "from sklearn import linear_model\n",
      "\n",
      "## given\n",
      "n = 5.;##years\n",
      "C = 80000.;## Cost of the project in Pound\n",
      "Cash_in = numpy.array([10000, 20000 ,30000 ,40000 ,50000])## Cash inflow in Pound\n",
      "r_d1 = 15.;## Discount factor of 15%\n",
      "r_d2 = 18. ;## Discount factor of 18%\n",
      "r_d3 = 20.;## Discount factor of 20%\n",
      "\n",
      "##At discount of 15%\n",
      "df_1 = numpy.array([0.870, 0.756, 0.658 ,0.572 ,0.497])## Discount factor for every year\n",
      "PV_1 = numpy.array([8700 ,15120, 19740 ,22880 ,24850])## Present value\n",
      "Net_1 = sum (PV_1);## net present value\n",
      "\n",
      "\n",
      "##At discount of 18%\n",
      "df_2 = numpy.array([0.847, 0.718, 0.609 ,0.516 ,0.437])## Discount factor for every year\n",
      "PV_2 = numpy.array([8470, 14360, 18270 ,20640, 21850])## Present value\n",
      "Net_2 = sum (PV_2);## net present value\n",
      "\n",
      "\n",
      "##At discount of 20%\n",
      "df_3 = numpy.array([0.833 ,0.694 ,0.579 ,0.482, 0.402])## Discount factor for every year\n",
      "PV_3 = numpy.array([8330 ,13880 ,17370, 19280, 20100])## Present value\n",
      "Net_3 = sum (PV_3);## net present value\n",
      "\n",
      "## f = N.P.V. cash inflow - N.P.V. cash outflow\n",
      "##(1) By Numerical Method\n",
      "ff = 2.*((sum (PV_2) - C)/(sum (PV_2) - sum(PV_3)));## in percentage\n",
      "f = 18. + ff;\n",
      "print'%s %.2f %s'%('the internal rate of return in percentage is ',f,' \\n\\n')## Deviation in answer due to direct substitution\n",
      "\n",
      "##(2) By Graphical Interpolation\n",
      "f_1 = (sum (PV_1) - C)/10**3;##At discount factor of 15%\n",
      "f_2 = (sum (PV_2) - C)/10**3;##At discount factor of 18%\n",
      "f_3 = (sum (PV_3) - C)/10**3;##At discount factor of 20%\n",
      "%matplotlib inline\n",
      "x = numpy.array([f_1 ,f_2 ,f_3]);\n",
      "y = numpy.array([r_d1, r_d2, r_d3]);\n",
      "import matplotlib.pyplot as plt\n",
      "pyplot.title(\"Flow convergence loss in a conical nozzle\")\n",
      "pyplot.xlabel(\"Discount factor against f\")\n",
      "pyplot.ylabel(\"f ( *10^3 Pound)\")\n",
      "pyplot.plot(x,y)\n",
      "pyplot.show()\n",
      "import matplotlib.pyplot as plt\n",
      "x = numpy.array([f_1 ,f_2 ,f_3]);\n",
      "y = numpy.array([r_d1, r_d2, r_d3]);\n",
      "pyplot.scatter(x,y)\n",
      "\n",
      "pyplot.title(\"Discount factor against f\")\n",
      "pyplot.xlabel(\"f ( *10^3 Pound)\")\n",
      "pyplot.ylabel(\"Discount factor(%)\")\n",
      "\n"
     ],
     "language": "python",
     "metadata": {},
     "outputs": [
      {
       "output_type": "stream",
       "stream": "stdout",
       "text": [
        "Example 3.14\n",
        "\n",
        "\n",
        "Page No. 74\n",
        "\n",
        "\n",
        "the internal rate of return in percentage is  19.55  \n",
        "\n",
        "\n"
       ]
      },
      {
       "metadata": {},
       "output_type": "display_data",
       "png": "[encoded data removed]",
       "text": [
        "<matplotlib.figure.Figure at 0x2fc0e30>"
       ]
      },
      {
       "metadata": {},
       "output_type": "pyout",
       "prompt_number": 4,
       "text": [
        "<matplotlib.text.Text at 0xda4f2d0>"
       ]
      },
      {
       "metadata": {},
       "output_type": "display_data",
       "png": "[encoded data removed]",
       "text": [
        "<matplotlib.figure.Figure at 0xda65b70>"
       ]
      }
     ],
     "prompt_number": 4
    },
    {
     "cell_type": "heading",
     "level": 2,
     "metadata": {},
     "source": [
      "Ex15-pg77"
     ]
    },
    {
     "cell_type": "code",
     "collapsed": false,
     "input": [
      "import math\n",
      "## Example 3.15\n",
      "print('Example 3.15\\n\\n');\n",
      "print('Page No. 77\\n\\n');\n",
      "import numpy\n",
      "## given\n",
      "i_t = numpy.array([20, 40 ,60, 80, 100]);## Insulation thickness in mm\n",
      "f_c = numpy.array([2.2, 3.5, 4.8, 6.1 ,7.4]);## Fixed costs in (10^3 Pound / year)\n",
      "h_c = numpy.array([10.2, 6.5, 5.2, 4.6, 4.2]);## Heat costs in (10^3 Pound / year)\n",
      "t_c = numpy.array([12.4, 10 ,10 ,10.7 ,11.6]);## Total costs in (10^3 Pound / year)\n",
      "\n",
      "##(a) Graphical solution\n",
      "##Refer figure 3.8\n",
      "C_T = 9750.;## Minimum total cost in Pound\n",
      "t = 47.;## Corresponding thickness of insulation in mm\n",
      "print'%s %.2f %s'%('The most economic thickness of insulation is ',t,' mm \\n')\n",
      "\n",
      "##(b) Numerical solution\n",
      "## The cost due to heat losses,C1, and the fixed costs,C2, vary according to the equations;-\n",
      "## C1 = (a/x) + b     and    C2 = (c*x) + d\n",
      "## Substituting the values of C1 and C2 together with the corresponding insulation thickness values , the following equations are obtained :-\n",
      "## C1 = (150*10^3/x) + 2.7*10^3    and    C2 = (65*x) + 0.9*10^3\n",
      "##And to obtain the total costs\n",
      "##CT = C1 + C2 = (150*10^3/x) + (65*x) + 3.6*10^3\n",
      "## Differentiate to optimise, and put dCT/dx equal to zero\n",
      "##dCT/dx =-((150*10^3)/x^2) + 65 = 0\n",
      "\n",
      "##Let y = dCT/dx\n",
      "\n",
      "from sympy import Eq, Symbol, solve\n",
      "\n",
      "x = Symbol('x')\n",
      "eqn= Eq(-((150*10**3)/x**2), 48.0);\n",
      "print(eqn)\n",
      "x=48.3\n",
      "print'%s %.2f %s'%('The optimum thickness of insulation is ',x,'mm \\n')\n"
     ],
     "language": "python",
     "metadata": {},
     "outputs": [
      {
       "output_type": "stream",
       "stream": "stdout",
       "text": [
        "Example 3.15\n",
        "\n",
        "\n",
        "Page No. 77\n",
        "\n",
        "\n",
        "The most economic thickness of insulation is  47.00  mm \n",
        "\n",
        "-150000/x**2 == 48.0\n",
        "The optimum thickness of insulation is  48.30 mm \n",
        "\n"
       ]
      }
     ],
     "prompt_number": 5
    },
    {
     "cell_type": "heading",
     "level": 2,
     "metadata": {},
     "source": [
      "Ex16-pg79"
     ]
    },
    {
     "cell_type": "code",
     "collapsed": false,
     "input": [
      "import math\n",
      "## Example 3.16\n",
      "print('Example 3.16\\n\\n');\n",
      "print('Page No. 79\\n\\n');\n",
      "import numpy\n",
      "## given\n",
      "tb = numpy.array([36*10**3, 72*10**3, 144*10**3, 216*10**3]); ##operating time in s\n",
      "U = numpy.array([971 ,863 ,727 ,636]);## Mean overall heat transfer rate in W/m^2-K\n",
      "A = 50.;## area in m^2\n",
      "dT = 25.;## temperature difference in degree celcius\n",
      "ts = 54.*10**3;## Time in sec (h converted to sec)\n",
      "##As Q = U*A*dT\n",
      "z0=numpy.linspace(1,1,4)\n",
      "leng=len(z0)\n",
      "Q=numpy.zeros(leng)\n",
      "Q_a=numpy.zeros(leng)\n",
      "for i in range (1,4):\n",
      "    Q[i] = (U[i]*A*dT)/10**6;\n",
      "    Q_a[i] = ((tb[i]*Q[i]*10**6)/(tb[i] + ts))/10**6;\n",
      "    print'%s %.2f %s'%('the average heat transfer rate is ',Q_a[i],' *10^6 W \\n')\n",
      "\n",
      "##Refer figure 3.9\n",
      "print('\\n')\n",
      "Q_max = 0.67*10**6;## Maximum value of Q in W\n",
      "T_opt = 33.;## Time in h\n",
      "print'%s %.2f %s'%('The maximum value of Q obtained is ',Q_max,' W \\n')\n",
      "print'%s %.2f %s'%('The most econnomic opertaing time for the heat exchanger to run  is',T_opt,' h ')\n",
      "\n"
     ],
     "language": "python",
     "metadata": {},
     "outputs": [
      {
       "output_type": "stream",
       "stream": "stdout",
       "text": [
        "Example 3.16\n",
        "\n",
        "\n",
        "Page No. 79\n",
        "\n",
        "\n",
        "the average heat transfer rate is  0.62  *10^6 W \n",
        "\n",
        "the average heat transfer rate is  0.66  *10^6 W \n",
        "\n",
        "the average heat transfer rate is  0.64  *10^6 W \n",
        "\n",
        "\n",
        "\n",
        "The maximum value of Q obtained is  670000.00  W \n",
        "\n",
        "The most econnomic opertaing time for the heat exchanger to run  is 33.00  h \n"
       ]
      }
     ],
     "prompt_number": 6
    },
    {
     "cell_type": "heading",
     "level": 2,
     "metadata": {},
     "source": [
      "Ex17-pg80"
     ]
    },
    {
     "cell_type": "code",
     "collapsed": false,
     "input": [
      "import math\n",
      "## Example 3.17\n",
      "print('Example 3.17\\n\\n');\n",
      "print('Page No. 80\\n\\n');\n",
      "\n",
      "## given\n",
      "## C_T = 7*x + (40000/(x*y)) + 6*y + 10\n",
      "##Differentiating C_T with respect to x and y:-\n",
      "##dC_T/dx = 7 - (40000/(x^2*y))\n",
      "##dC_T/dy = - (40000/(x*y^2)) + 6\n",
      "\n",
      "##For optimum conditions :- dC_T/dx = dC_T/dy = 0\n",
      "##dC_T/dx = 0   => 7 - (40000/(x^2*y)) = 0\n",
      "##=> y = 40000/(7*x^2).......(1)\n",
      "##dC_T/dy = 0    =>- (40000/(y^2*x)) +6 = 0\n",
      "##=> y = (40000/(6*x))^0.5.......(2)\n",
      "\n",
      "##From equation (1) and (2) \n",
      "##=> 40000/(7*x^2) - (40000/(6*x))^0.5 = 0\n",
      "from sympy import Eq, Symbol, solve\n",
      "\n",
      "x = Symbol('x')\n",
      "eqn= Eq( 40000./(7*x**2) - (40000./(6.*x))**0.5,20);\n",
      "\n",
      "\n",
      "x=16.982634  \n",
      "##from equation (1)\n",
      "y = 40000./(7*x**2);\n",
      "\n",
      "##a = d^2C_T/dx^2 = 80000/(x^3*y)\n",
      "##b = d^2C_T/dy^2 = 80000/(x*y^3)\n",
      "a = 80000./(x**3*y);\n",
      "b = 80000./(x*y**3);\n",
      "if a > 0:\n",
      "\tif b>0:\n",
      "           C= 7.*x + (40000./(x*y)) + 6.*y + 10.;## in Pound\n",
      "##The optimum conditions must occur at a point of minimum cost- C_T_m\n",
      "print'%s %.2f %s'%('The minimum cost is ',C,' Pound')\n",
      "\n",
      "\n"
     ],
     "language": "python",
     "metadata": {},
     "outputs": [
      {
       "output_type": "stream",
       "stream": "stdout",
       "text": [
        "Example 3.17\n",
        "\n",
        "\n",
        "Page No. 80\n",
        "\n",
        "\n",
        "The minimum cost is  366.64  Pound\n"
       ]
      }
     ],
     "prompt_number": 7
    }
   ],
   "metadata": {}
  }
 ]
}