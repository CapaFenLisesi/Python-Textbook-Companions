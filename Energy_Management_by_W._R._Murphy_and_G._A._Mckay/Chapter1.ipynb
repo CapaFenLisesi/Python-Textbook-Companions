{
 "metadata": {
  "name": "",
  "signature": "sha256:89509362f5307bcdc2a23ad180900fa6d31da4662232a1bc9ba201a6cbebc214"
 },
 "nbformat": 3,
 "nbformat_minor": 0,
 "worksheets": [
  {
   "cells": [
    {
     "cell_type": "heading",
     "level": 1,
     "metadata": {},
     "source": [
      "Chapter1-Energy auditing"
     ]
    },
    {
     "cell_type": "heading",
     "level": 2,
     "metadata": {},
     "source": [
      "Ex1-pg8"
     ]
    },
    {
     "cell_type": "code",
     "collapsed": false,
     "input": [
      "import math\n",
      "#calculate heat availble \n",
      "\n",
      "## Example 1.1\n",
      "print('Example 1.1');\n",
      "print(' Page No. 08');\n",
      "## Solution \n",
      "\n",
      "## Given\n",
      "m1= 40.*10**3;## fuel oil in gallons per year\n",
      "ga= 4.545*10**-3;## m**3\n",
      "m= m1*ga;## fuel oil in m**3 per year\n",
      "Cv1= 175.*10**3;## Btu per gallons\n",
      "Bt= .2321*10**6;## J per m**3\n",
      "Cv= Cv1*Bt;## in J per year per m**3 \n",
      "q=m*Cv;## in J per year\n",
      "print'%s %.2e %s'%(' Heat available is ',q,' J per year')\n"
     ],
     "language": "python",
     "metadata": {},
     "outputs": [
      {
       "output_type": "stream",
       "stream": "stdout",
       "text": [
        "Example 1.1\n",
        " Page No. 08\n",
        " Heat available is  7.38e+12  J per year\n"
       ]
      }
     ],
     "prompt_number": 5
    },
    {
     "cell_type": "heading",
     "level": 2,
     "metadata": {},
     "source": [
      "Ex2-pg9"
     ]
    },
    {
     "cell_type": "code",
     "collapsed": false,
     "input": [
      "\n",
      "## Example 1.2\n",
      "print('Example 1.2');\n",
      "print('Page No. 09');\n",
      "## Solution \n",
      "\n",
      "## Given\n",
      "Eo1= 1.775*10**9;## Annular energy consumption of oil in Btu\n",
      "Btu= 1055.;## 1 Btu = 1055 Joules\n",
      "Eo= Eo1*Btu;## Annular energy consumption of oil in Joules\n",
      "Eg1= 5.*10**3;## Annular energy consumption of gas in Therms\n",
      "Th= 1055.*10**5;##  1 Th = 1055*10**3 Joules\n",
      "Eg= Eg1*Th;## Annular energy consumption of gas in Joules\n",
      "Ee1= 995.*10**3;## Annular energy consumption of electricity in KWh\n",
      "KWh= 3.6*10**6;## 1 KWh = 3.6*10**6 Joules\n",
      "Ee= Ee1*KWh;## Annular energy consumption of electricity in Joules\n",
      "Et= ( Eo + Eg + Ee);## Total energy consumption\n",
      "P1= (Eo/Et)*100.; ## percentage of oil consumption\n",
      "P2= (Eg/Et)*100.; ## percentage of gas consumption\n",
      "P3= (Ee/Et)*100.; ## percentage of electricity consumption\n",
      "print'%s %.1f %s'%('percentage of oil consumption is ',P1,'')\n",
      "print'%s %.1f %s'%('percentage of gas consumption is ',P2,'')\n",
      "print'%s %.1f %s'%('percentage of electricity consumption is ',P3,'') \n",
      "\n"
     ],
     "language": "python",
     "metadata": {},
     "outputs": [
      {
       "output_type": "stream",
       "stream": "stdout",
       "text": [
        "Example 1.2\n",
        "Page No. 09\n",
        "percentage of oil consumption is  31.3 \n",
        "percentage of gas consumption is  8.8 \n",
        "percentage of electricity consumption is  59.9 \n"
       ]
      }
     ],
     "prompt_number": 2
    },
    {
     "cell_type": "heading",
     "level": 2,
     "metadata": {},
     "source": [
      "Ex3-pg10"
     ]
    },
    {
     "cell_type": "code",
     "collapsed": false,
     "input": [
      "import math\n",
      "## Example 1.3\n",
      "print('Example 1.3\\n\\n');\n",
      "print('Page No. 10\\n\\n');\n",
      "## Solution \n",
      "\n",
      "## Given\n",
      "Et = 100*10**3;## total energy production in tonnes per annum\n",
      "Eo= 0.520*10**9;## oil consumption in Wh\n",
      "Eg= 0.146*10**9;## gas consumption in Wh\n",
      "Ee= 0.995*10**9;## electricity consumption in Wh\n",
      "Io= Eo/Et;\n",
      "Ig= Eg/Et;\n",
      "Ie= Ee/Et;\n",
      "Et1= Eo + Eg + Ee;## total energy consumption\n",
      "It= Et1/Et;\n",
      "print'%s %.1f %s'%('oil energy index is ',Io,' Wh per tonne ')\n",
      "print'%s %.1f %s'%('gas energy index is ',Ig,' Wh per tonne ')\n",
      "print'%s %.1f %s'%('electricity energy index is ',Ie,' Wh per tonne')\n",
      "print'%s %.1f %s'%('total energy index is ',It,' Wh per tonne ')\n",
      "\n"
     ],
     "language": "python",
     "metadata": {},
     "outputs": [
      {
       "output_type": "stream",
       "stream": "stdout",
       "text": [
        "Example 1.3\n",
        "\n",
        "\n",
        "Page No. 10\n",
        "\n",
        "\n",
        "oil energy index is  5200.0  Wh per tonne \n",
        "gas energy index is  1460.0  Wh per tonne \n",
        "electricity energy index is  9950.0  Wh per tonne\n",
        "total energy index is  16610.0  Wh per tonne \n"
       ]
      }
     ],
     "prompt_number": 3
    },
    {
     "cell_type": "heading",
     "level": 2,
     "metadata": {},
     "source": [
      "Ex4-pg10"
     ]
    },
    {
     "cell_type": "code",
     "collapsed": false,
     "input": [
      "\n",
      "## Example 1.4\n",
      "print('Example 1.4');\n",
      "print('Page No. 10');\n",
      "## Solution \n",
      "\n",
      "## Given\n",
      "mc= 1.5*10**3;## coke consumption in tonnes\n",
      "mg= 18.*10**3;## gas consumption in therms\n",
      "me= 1.*10**9;## electricity consumption in Wh\n",
      "Cc1= 72.;## cost of coke in Pound per tonne\n",
      "Cg1= 0.20;## cost of gas in Pound per therm\n",
      "Ce1= 2.25*10**-5 ;## cost of electricity in Pound per Wh\n",
      "Cc= mc*Cc1;##in Pound\n",
      "Cg= mg*Cg1;##in Pound\n",
      "Ce= me*Ce1;##in Pound\n",
      "Ct= Cc+Cg+Ce;##in Pound\n",
      "print'%s %.1f %s'%('cost of coke consumption is ',Cc,' Pound ')\n",
      "print'%s %.1f %s'%('cost of gas consumption is',Cg, 'Pound ')\n",
      "print'%s %.1f %s'%('cost of electricity consumption is',Ce,' Pound ')\n",
      "print'%s %.1f %s'%('total cost is ',Ct,' Pound ')\n"
     ],
     "language": "python",
     "metadata": {},
     "outputs": [
      {
       "output_type": "stream",
       "stream": "stdout",
       "text": [
        "Example 1.4\n",
        "Page No. 10\n",
        "cost of coke consumption is  108000.0  Pound \n",
        "cost of gas consumption is 3600.0 Pound \n",
        "cost of electricity consumption is 22500.0  Pound \n",
        "total cost is  134100.0  Pound \n"
       ]
      }
     ],
     "prompt_number": 4
    },
    {
     "cell_type": "heading",
     "level": 2,
     "metadata": {},
     "source": [
      "Ex5-pg11"
     ]
    },
    {
     "cell_type": "code",
     "collapsed": false,
     "input": [
      "\n",
      "## Example 1.5\n",
      "#page no 11\n",
      "\n",
      "## Solution \n",
      "\n",
      "## Given\n",
      "Cc= 108.0*10**3;## cost of coke in Pound\n",
      "Cg= 3.6*10**3;## cost of gas in Pound\n",
      "Ce= 22.5*10**3;## cost of electricity in Pound\n",
      "Ct= Cc+Cg+Ce;## total cost of fuel in Pound\n",
      "E= 15*10**3;## total production in tonnes per year\n",
      "Ic= Cc/E;##Pound per tonne\n",
      "Ig= Cg/E;##Pound per tonne\n",
      "Ie= Ce/E;##Pound per tonne\n",
      "It= Ct/E;##Pound per tonne\n",
      "print'%s %.1f %s'%(' coke cost index is',Ic,'Pound per tonne ')\n",
      "print'%s %.1f %s'%(' gas cost index is',Ig,'Pound per tonne')\n",
      "print'%s %.1f %s'%(' electricity cost index is ',Ie,' Pound per tonne')\n",
      "print'%s %.1f %s'%(' total cost index is',It,' Pound per tonne')\n"
     ],
     "language": "python",
     "metadata": {},
     "outputs": [
      {
       "output_type": "stream",
       "stream": "stdout",
       "text": [
        " coke cost index is 7.2 Pound per tonne \n",
        " gas cost index is 0.2 Pound per tonne\n",
        " electricity cost index is  1.5  Pound per tonne\n",
        " total cost index is 8.9  Pound per tonne\n"
       ]
      }
     ],
     "prompt_number": 5
    },
    {
     "cell_type": "heading",
     "level": 2,
     "metadata": {},
     "source": [
      "Ex6-pg11"
     ]
    },
    {
     "cell_type": "code",
     "collapsed": false,
     "input": [
      "import math\n",
      "%matplotlib inline\n",
      "## Example 1.6\n",
      "##page No. 11\\n\\n');\n",
      "## Solution \n",
      "import matplotlib.pyplot as plt\n",
      "\n",
      "## Given\n",
      "G1= 11.72*10**3;## hourly consumption of gas in therms\n",
      "th= 34.13;## in Watts\n",
      "G= G1*th;## hourly consumption of gas in Watts\n",
      "O1= 4.32*10**9;## hourly consumption of oil in Joules\n",
      "J= .278*10**-3;## in Watts\n",
      "O= O1*J;## hourly consumption of oil in Watts\n",
      "E= 500.*10**3;## hourly consumption of electricity in Watts\n",
      "## Pie Chart Representation : one input argument  x=[G O E]\n",
      "labels = [r'gas', r'oil', r'electricity']\n",
      "sizes = [G,O,E]\n",
      "colors = ['yellowgreen', 'gold', 'lightskyblue']\n",
      "patches, texts = plt.pie(sizes, colors=colors, startangle=90)\n",
      "plt.legend(patches, labels, loc=\"best\")\n",
      "# Set aspect ratio to be equal so that pie is drawn as a circle.\n",
      "plt.axis('equal')\n",
      "plt.tight_layout()\n",
      "plt.show()\n",
      "\n",
      "print('The Pie chart is plotted in the figure');\n"
     ],
     "language": "python",
     "metadata": {},
     "outputs": [
      {
       "metadata": {},
       "output_type": "display_data",
       "png": "[encoded data removed]",
       "text": [
        "<matplotlib.figure.Figure at 0x5d18050>"
       ]
      },
      {
       "output_type": "stream",
       "stream": "stdout",
       "text": [
        "The Pie chart is plotted in the figure\n"
       ]
      }
     ],
     "prompt_number": 2
    },
    {
     "cell_type": "heading",
     "level": 2,
     "metadata": {},
     "source": [
      "Ex7-pg12"
     ]
    },
    {
     "cell_type": "code",
     "collapsed": false,
     "input": [
      "\n",
      "import math\n",
      "## Example 1.7\n",
      "print('Example 1.7\\n\\n');\n",
      "print('Page No. 12\\n\\n');\n",
      "## Solution \n",
      "import matplotlib.pyplot as plt\n",
      "%matplotlib inline\n",
      "## Given\n",
      "O= 150.*10**3;## energy consumption in office heating in Watts\n",
      "L= 120.*10**3;## energy consumption in lighting in Watts\n",
      "B= 90.*10**3;## energy consumption in boiler house in Watts\n",
      "P= 180.*10**3;## energy consumption in process in Watts\n",
      "## Pie Chart Representation : one input argument  x=[O L B P]\n",
      "labels = [r'office heating', r'lighting', r'boiler heating',r'process']\n",
      "sizes = [O,L ,B , P]\n",
      "colors = ['yellowgreen', 'gold', 'lightskyblue', 'lightcoral']\n",
      "patches, texts = plt.pie(sizes, colors=colors, startangle=90)\n",
      "plt.legend(patches, labels, loc=\"best\")\n",
      "# Set aspect ratio to be equal so that pie is drawn as a circle.\n",
      "plt.axis('equal')\n",
      "plt.tight_layout()\n",
      "plt.show()\n",
      "print('The Pie chart is plotted in the figure');\n",
      "\n"
     ],
     "language": "python",
     "metadata": {},
     "outputs": [
      {
       "output_type": "stream",
       "stream": "stdout",
       "text": [
        "Example 1.7\n",
        "\n",
        "\n",
        "Page No. 12\n",
        "\n",
        "\n"
       ]
      },
      {
       "metadata": {},
       "output_type": "display_data",
       "png": "[encoded data removed]",
       "text": [
        "<matplotlib.figure.Figure at 0x5dfc050>"
       ]
      },
      {
       "output_type": "stream",
       "stream": "stdout",
       "text": [
        "The Pie chart is plotted in the figure\n"
       ]
      }
     ],
     "prompt_number": 3
    },
    {
     "cell_type": "heading",
     "level": 2,
     "metadata": {},
     "source": [
      "Ex8-pg16"
     ]
    },
    {
     "cell_type": "code",
     "collapsed": false,
     "input": [
      "import math\n",
      "import numpy\n",
      "## Example 1.8\n",
      "print('Example 1.8\\n\\n');\n",
      "print('Page No. 16\\n\\n');\n",
      "## given\n",
      "\n",
      "qunty= numpy.array([40, 10000, 400 ,90000])\n",
      "unit_price= numpy.array([29 ,0.33, 0.18, 0.025])\n",
      "cost= (unit_price * qunty)## in Pound\n",
      "common_basis= ([310, 492 ,11.7 ,90])## in 10^6 Wh\n",
      "per_unit_cost= (unit_price * qunty) / common_basis## Pound per 10^6 Wh\n",
      "p= 150;## production in tonnes\n",
      "EI= sum(common_basis)*10**6/150.\n",
      "CI= sum(unit_price * qunty)/150.\n",
      "print'%s %.2f %s'%('energy index is ',EI,' Wh per tonne \\n')\n",
      "print'%s %.2f %s'%('cost index  is ',CI,' Wh per tonne \\n')\n"
     ],
     "language": "python",
     "metadata": {},
     "outputs": [
      {
       "output_type": "stream",
       "stream": "stdout",
       "text": [
        "Example 1.8\n",
        "\n",
        "\n",
        "Page No. 16\n",
        "\n",
        "\n",
        "energy index is  6024666.67  Wh per tonne \n",
        "\n",
        "cost index  is  45.21  Wh per tonne \n",
        "\n"
       ]
      }
     ],
     "prompt_number": 22
    },
    {
     "cell_type": "heading",
     "level": 2,
     "metadata": {},
     "source": [
      "Ex9-pg"
     ]
    },
    {
     "cell_type": "code",
     "collapsed": false,
     "input": [
      "import math\n",
      "%matplotlib inline\n",
      "## Example 1.9\n",
      "import numpy \n",
      "import matplotlib.pyplot as plt\n",
      "print('Example 1.9\\n\\n');\n",
      "print('Page No. 17\\n\\n');\n",
      "##given\n",
      "\n",
      "p= numpy.array([50, 55, 65, 50, 95, 90, 85, 80, 60, 90, 70, 110, 60, 105]);## weakly production in tonnes\n",
      "s= numpy.array([0.4, 0.35, 0.45, .31, 0.51,0.55, 0.45, 0.5, 0.4, 0.51, 0.4, 0.6, 0.45, 0.55]);## weakly steam consumption in 10^6 kg\n",
      "plt.plot(p,s,'r*');\n",
      "\n",
      "plt.show()\n",
      "\n"
     ],
     "language": "python",
     "metadata": {},
     "outputs": [
      {
       "output_type": "stream",
       "stream": "stdout",
       "text": [
        "Example 1.9\n",
        "\n",
        "\n",
        "Page No. 17\n",
        "\n",
        "\n"
       ]
      },
      {
       "metadata": {},
       "output_type": "display_data",
       "png": "[encoded data removed]",
       "text": [
        "<matplotlib.figure.Figure at 0x2ea7c10>"
       ]
      }
     ],
     "prompt_number": 4
    },
    {
     "cell_type": "heading",
     "level": 2,
     "metadata": {},
     "source": [
      "Ex10-pg19"
     ]
    },
    {
     "cell_type": "code",
     "collapsed": false,
     "input": [
      "import math\n",
      "## Example 1.10\n",
      "print('Example 1.10\\n\\n');\n",
      "print('Page No. 19\\n\\n');\n",
      "## given\n",
      "import numpy\n",
      "##Monthly Energy Usage\n",
      "qunty = numpy.array([15*10**3, 4*10**3 ,90*10**3])\n",
      "cost = numpy.array([4950 ,720 , 2250])## in Pound\n",
      "common_basis1  = numpy.array([738 ,117 ,90])## in 10**6 Wh\n",
      "common_basis= numpy.array([2655 ,421 ,324])## converted into 10**9 Joules\n",
      "unit_cost = cost/common_basis1## in Pound per 10**6 Wh\n",
      "p= 80;## production in tonnes\n",
      "EI = ((sum(common_basis))/p)*10**9;\n",
      "CI = sum(cost)/80.;\n",
      "print'%s %.2e %s'%('Monthly energy index is ',EI,' J per tonne \\n')\n",
      "print'%s %.2f %s'%('Monthly cost index is ',CI,' Pound per tonne \\n\\n')##Deviation in answer is due to calculation error for sum of cost in the book\n",
      "\n",
      "## Boiler House Energy Audit\n",
      "qunty_b = ([15000 ,10000])\n",
      "Com_basis_b_1 = ([2655 ,36])## in 10**9 J\n",
      "Com_basis_b = ([738, 10])## in 10**6 Wh\n",
      "Cost_b = ([4950, 250])## in Pound\n",
      "b_output = 571.*10**6;## in Wh\n",
      "EI_b = (b_output/(sum(Com_basis_b)*10**6));\n",
      "CI_b = (sum(Cost_b)/b_output)*10**3;## Pound converted into p\n",
      "print'%s %.2f %s'%('Energy index  for boiler is ',EI_b,' \\n')\n",
      "print'%s %.2e %s'%('Cost index for boiler is ',CI_b,' p per Wh\\n \\n')\n",
      "\n",
      "##Power House Energy Audit\n",
      "P_gen = 200.*10**6;## Power generated in Wh\n",
      "Com_basis_p_1 = ([14.4 ,2055 ,-1000])## in 10**9 J\n",
      "Com_basis_p = ([4.0, 571, -278])## in 10**6 Wh\n",
      "Cost_p = ([100 ,5196 ,-2530])## in Pound\n",
      "CI_p = (sum(Cost_p)/P_gen)*10**3;## Pound converted into p\n",
      "print'%s %.2e %s'%('Cost index for power house is ',CI_p,' p per Wh\\n\\n')##Deviation in answer is due to wrong calculation in the book\n",
      "\n",
      "##Space Heating Energy Audit\n",
      "deg_days = 260.;## Number of degree-days\n",
      "Com_basis_s_1 = ([36 ,100 ,105])## in 10**9 J\n",
      "Com_basis_s = ([10.0 ,27.8 ,29.2])## in 10**6 Wh\n",
      "Cost_s = ([250 ,253 ,179])## in Pound\n",
      "EI_s = ((sum(Com_basis_s)*10**6)/deg_days)\n",
      "CI_s = (sum(Cost_s)/deg_days)\n",
      "print'%s %.2e %s'%('Energy index  for space heating is ',EI_s,' Wh per degree-day\\n')\n",
      "print'%s %.2f %s'%('Cost index for space heating is ',CI_s,' Pound per degree-day\\n\\n')\n",
      "\n",
      "##Process Energy Audit\n",
      "T_pdt_output = 100.;## in tonne\n",
      "Com_basis_pr_1 = ([216 ,720 ,810 ,316])## in 10**9 J\n",
      "Com_basis_pr = ([60, 200 ,225 ,88])## in 10**6 Wh\n",
      "Cost_pr = ([1500 ,2766 ,2047 ,540])## in Pound\n",
      "EI_pr = ((sum(Com_basis_pr)*10**6)/T_pdt_output);\n",
      "CI_pr = (sum(Cost_pr)/T_pdt_output);\n",
      "print'%s %.2e %s'%('Energy index  for Process Energy Audit is ',EI_pr,' Wh per tonne \\n')\n",
      "print'%s %.2f %s'%('Cost index for Process Energy Audit is ',CI_pr,' Pound per tonne \\n')\n",
      "#igoner the warnings"
     ],
     "language": "python",
     "metadata": {},
     "outputs": [
      {
       "output_type": "stream",
       "stream": "stdout",
       "text": [
        "Example 1.10\n",
        "\n",
        "\n",
        "Page No. 19\n",
        "\n",
        "\n",
        "Monthly energy index is  -9.50e+08  J per tonne \n"
       ]
      },
      {
       "output_type": "stream",
       "stream": "stdout",
       "text": [
        "\n",
        "Monthly cost index is  99.00  Pound per tonne \n",
        "\n",
        "\n",
        "Energy index  for boiler is  0.76  \n",
        "\n",
        "Cost index for boiler is  9.11e-03  p per Wh\n",
        " \n",
        "\n",
        "Cost index for power house is  1.38e-02  p per Wh\n",
        "\n",
        "\n",
        "Energy index  for space heating is  2.58e+05  Wh per degree-day\n",
        "\n",
        "Cost index for space heating is  2.62  Pound per degree-day\n",
        "\n",
        "\n",
        "Energy index  for Process Energy Audit is  5.73e+06  Wh per tonne \n",
        "\n",
        "Cost index for Process Energy Audit is  68.53  Pound per tonne \n",
        "\n"
       ]
      },
      {
       "output_type": "stream",
       "stream": "stderr",
       "text": [
        "-c:14: RuntimeWarning: overflow encountered in long_scalars\n"
       ]
      }
     ],
     "prompt_number": 24
    }
   ],
   "metadata": {}
  }
 ]
}