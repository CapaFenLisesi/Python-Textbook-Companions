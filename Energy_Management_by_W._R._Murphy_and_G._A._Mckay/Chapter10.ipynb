{
 "metadata": {
  "name": "",
  "signature": "sha256:b792438c72450dcd6d934e54e6cfded0900e6de0fdddb69b36f4edb85bc5ee53"
 },
 "nbformat": 3,
 "nbformat_minor": 0,
 "worksheets": [
  {
   "cells": [
    {
     "cell_type": "heading",
     "level": 1,
     "metadata": {},
     "source": [
      "Chapter10-Air conditioning\n"
     ]
    },
    {
     "cell_type": "heading",
     "level": 2,
     "metadata": {},
     "source": [
      "Ex1-pg293"
     ]
    },
    {
     "cell_type": "code",
     "collapsed": false,
     "input": [
      "import math\n",
      "## Example 10.1\n",
      "print('Example 10.1\\n\\n');\n",
      "print('Page No. 293\\n\\n');\n",
      "\n",
      "## given\n",
      "m = 1.;## mass flow rate of initial air mixture in kg/s\n",
      "T = 23.5;## Initial temperature in degree celcius\n",
      "m1 = 0.6;## Percentage of fresh air mixture\n",
      "T1 = 5.;## Dry Bulb Temperature of  fresh air in degree celcius\n",
      "w1 = 0.005;## Humidity  of fresh air at temperature T1 in kg/kg\n",
      "m2 = 0.4;## Percentage of recirculated air mixture\n",
      "T2 = 25.;## Dry Bulb Temperature of recirculated air in degree celcius\n",
      "w2 = 0.015;## Humidity  of recirculated air at temperature T2 in kg/kg\n",
      "\n",
      "##In air conditioning => m1*w1 + m2*w2 = m*w\n",
      "w = (m1*w1 + m2*w2)/m;## in kg/kgs\n",
      "print'%s %.2f %s'%('The humidity of the air mixture  is ',w,' kg/kg \\n')\n",
      "\n",
      "##The specific enthalpy in J/kg can be calculated by the formula => h = (1.005*10^3*T) +(w*((2.50*10^6)+(1.86*10^3*T))); where the T is the temperature and w is the humidity at temperature T\n",
      "h_f = (1.005*10**3*T1) +(w1*((2.50*10**6)+(1.86*10**3*T1)));## Specific enthalpy of fresh air in J/kg\n",
      "h_r = (1.005*10**3*T2) +(w2*((2.50*10**6)+(1.86*10**3*T2)));## Specific enthalpy of recirculated  air in J/kg\n",
      "h_m = (1.005*10**3*T) +(w*((2.50*10**6)+(1.86*10**3*T)));## Specific enthalpy of  final air mixture in J/kg\n",
      "\n",
      "h_t = (m1*h_f) + (m2*h_r);## Total enthalpy of initial air mixturein J/kg\n",
      "Q = m*(h_m - h_t);## in Watts\n",
      "print'%s %.2f %s'%('The load on the heater is ',Q,' W')\n",
      "## Deviation in answer due to direct substitution and some approximation in answer in book\n",
      "\n"
     ],
     "language": "python",
     "metadata": {},
     "outputs": [
      {
       "output_type": "stream",
       "stream": "stdout",
       "text": [
        "Example 10.1\n",
        "\n",
        "\n",
        "Page No. 293\n",
        "\n",
        "\n",
        "The humidity of the air mixture  is  0.01  kg/kg \n",
        "\n",
        "The load on the heater is  10638.99  W\n"
       ]
      }
     ],
     "prompt_number": 1
    },
    {
     "cell_type": "heading",
     "level": 2,
     "metadata": {},
     "source": [
      "Ex2-pg298"
     ]
    },
    {
     "cell_type": "code",
     "collapsed": false,
     "input": [
      "import math\n",
      "## Example 10.2\n",
      "print('Example 10.2\\n\\n');\n",
      "print('Page No. 298\\n\\n');\n",
      "\n",
      "## given\n",
      "m1 = 0.75;## Percentage of fresh air mixture\n",
      "T1 = 31.;## Dry Bulb Temperature of  fresh air in degree celcius\n",
      "w1 = 0.0140;## Humidity  of fresh air at temperature T1 in kg/kg\n",
      "m2 = 0.75;## Percentage of recirculated air mixture\n",
      "T2 = 22.;## Dry Bulb Temperature of recirculated air in degree celcius\n",
      "w2 = 0.0080;## Humidity  of recirculated air at temperature T2 in kg/kg\n",
      "m = 1.50;## mass flow rate of final air mixture in kg/s\n",
      "T = 10.;## Dew Point temperature in degree celcius\n",
      "\n",
      "##In air conditioning => m1*w1 + m2*w2 = m*w\n",
      "w = (m1*w1 + m2*w2)/m## in kg/kgs\n",
      "print'%s %.2f %s'%('The humidity of the air mixture  is ',w,' kg/kg \\n')\n",
      "\n",
      "\n",
      "## from the psychrometric chart, at w = 0.011kg/kg, the  dry bulb temperature is = 26.5 degree celcius  also the humidity of saturated air at 10 degree celcius is 0.0075kg/kg\n",
      "T_w = 26.5;## Dry Bulb temerature in degree celcius\n",
      "w_10 = 0.0075;## humidity at temperatue T in kg/kg\n",
      "\n",
      "##the specific enthalpy in J/kg can be calculated by the formula => h = (1.005*10^3*T) +(w*((2.50*10^6)+(1.87*10^3*T))); where the T is the temperature and w is the humidity at temperature T\n",
      "\n",
      "h_a = (1.005*10**3*T_w) +(w*((2.50*10**6)+(1.88*10**3*T_w)));## Specific enthalpy of recirculated  air in J/kg\n",
      "h_s = (1.005*10**3*T) +(w_10*((2.50*10**6)+(1.87*10**3*T)));## Specific enthalpy of saturated air at 10 degree celcius in J/kg\n",
      "\n",
      "Q = m*(h_a - h_s);## in Watts\n",
      "print'%s %.2f %s'%('The cooling load on the washer is ',Q,' W')\n",
      "## Answer wrongly calculated in the book\n"
     ],
     "language": "python",
     "metadata": {},
     "outputs": [
      {
       "output_type": "stream",
       "stream": "stdout",
       "text": [
        "Example 10.2\n",
        "\n",
        "\n",
        "Page No. 298\n",
        "\n",
        "\n",
        "The humidity of the air mixture  is  0.01  kg/kg \n",
        "\n",
        "The cooling load on the washer is  38610.41  W\n"
       ]
      }
     ],
     "prompt_number": 2
    }
   ],
   "metadata": {}
  }
 ]
}