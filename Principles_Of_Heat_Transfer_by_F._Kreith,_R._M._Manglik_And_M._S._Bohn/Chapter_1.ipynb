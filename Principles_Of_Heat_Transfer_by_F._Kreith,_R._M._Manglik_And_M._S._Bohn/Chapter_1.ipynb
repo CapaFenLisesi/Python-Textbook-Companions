{
 "metadata": {
  "name": "",
  "signature": "sha256:b4eb9ee020afc1745fef7c6772881a7a2a876f1cb5d68f124dca600935589f19"
 },
 "nbformat": 3,
 "nbformat_minor": 0,
 "worksheets": [
  {
   "cells": [
    {
     "cell_type": "heading",
     "level": 1,
     "metadata": {},
     "source": [
      "Chapter 1: Basic Modes of Heat Transfer"
     ]
    },
    {
     "cell_type": "heading",
     "level": 2,
     "metadata": {},
     "source": [
      "Ex1.1: Page 8"
     ]
    },
    {
     "cell_type": "code",
     "collapsed": false,
     "input": [
      " \n",
      "print \"Principles of Heat Transfer, 7th Ed. Frank Kreith et. al Chapter - 1 Example # 1.1 \"\n",
      "\n",
      "#Temperature Inside in F\n",
      "Ti = 55;\n",
      "#Temperature outside in F\n",
      "To = 45;\n",
      "#Thickness of the wall in ft\n",
      "t = 1;\n",
      "#Heat loss through the wall in Btu/h-ft2\n",
      "q = 3.4;\n",
      "\n",
      "#Converting Btu/h-ft2 to W/m2\n",
      "print \"Heat loss through the wall in W/m2 is\"\n",
      "#Heat loss through the wall in W/m2 \n",
      "print \"qdash = \",(q*0.2931)/0.0929\n",
      "\n",
      "#Heat loss for a 100ft2 surface over a 24-h period\n",
      "print \"Heat loss for a 100ft2 surface over a 24-h period in Btu is\"\n",
      "#Heat loss for a 100ft2 surface over a 24-h period in Btu \n",
      "print \"Q = (q*100)*24\n",
      "\n",
      "#Q in SI units i.e. kWh\n",
      "print \"Q = \",(Q*0.2931)/1000;\n",
      "\n",
      "#At price of 10c/kWh, the total price shall be\n",
      "print \"So, the total price in c are\"\n",
      "#Total price in c\n",
      "print \"Price = \",round(10*Q)\n"
     ],
     "language": "python",
     "metadata": {},
     "outputs": [
      {
       "output_type": "stream",
       "stream": "stdout",
       "text": [
        "Principles of Heat Transfer, 7th Ed. Frank Kreith et. al Chapter - 1 Example # 1.1 \n",
        "Heat loss through the wall in W/m2 is\n",
        "Heat loss for a 100ft2 surface over a 24-h period in Btu is\n",
        "So, the total price in c are\n",
        "Price =  24.0 c\n"
       ]
      }
     ],
     "prompt_number": 5
    },
    {
     "cell_type": "heading",
     "level": 2,
     "metadata": {},
     "source": [
      "Ex1.2: Page 13"
     ]
    },
    {
     "cell_type": "code",
     "collapsed": false,
     "input": [
      "\n",
      "print \"Principles of Heat Transfer, 7th Ed. Frank Kreith et. al Chapter - 1 Example # 1.2 \"\n",
      "\n",
      "#Thermal conductivity of window glass in W/m-K\n",
      "k = 0.81;\n",
      "#Height of the glass in m\n",
      "h = 1;\n",
      "#Width of the glass in m\n",
      "w = 0.5;\n",
      "#Thickness of the glass in m\n",
      "t = 0.005;\n",
      "#Outside temperature in C\n",
      "T2 = 24;\n",
      "#Inside temperature in C\n",
      "T1 = 24.5;\n",
      "\n",
      "#Assume that steady state exists and that the temperature is uniform over the inner and outer surfaces\n",
      "\n",
      "#Cross sectional area in m2\n",
      "A = h*w;\n",
      "\n",
      "print \"Thermal resistance to conduction in K/W is\"\n",
      "#Thermal resistance to conduction in K/W\n",
      "R=t/(k*A)\n",
      "print \"R = \",round(R,4)\n",
      "\n",
      "#The rate of heat loss from the interior to the exterior surface is\n",
      "#obtained by dividing temperature difference from the thermal resistence\n",
      "\n",
      "print \"Heat loss in W from the window glass is\"\n",
      "#Heat loss in W\n",
      "print \"q = \",int((T1-T2)/R)\n"
     ],
     "language": "python",
     "metadata": {},
     "outputs": [
      {
       "output_type": "stream",
       "stream": "stdout",
       "text": [
        "Principles of Heat Transfer, 7th Ed. Frank Kreith et. al Chapter - 1 Example # 1.2 \n",
        "Thermal resistance to conduction in K/W is\n",
        "R =  0.0123\n",
        "Heat loss in W from the window glass is\n",
        "q =  40\n"
       ]
      }
     ],
     "prompt_number": 12
    },
    {
     "cell_type": "heading",
     "level": 2,
     "metadata": {},
     "source": [
      "Ex1.3: Page 20"
     ]
    },
    {
     "cell_type": "code",
     "collapsed": false,
     "input": [
      "\n",
      "print \"Principles of Heat Transfer, 7th Ed. Frank Kreith et. al Chapter - 1 Example # 1.3 \"\n",
      "\n",
      "#Area of room in m2 is given as\n",
      "A = 20*20;\n",
      "#Air temperature in C\n",
      "Tair = -3;\n",
      "#Roof temperature in C\n",
      "Troof = 27;\n",
      "#Heat transfer coefficient in W/m2-K\n",
      "h = 10;\n",
      "\n",
      "#Assume that steady state exists and the direction of heat flow is from the\n",
      "#roof to the air i.e higher to lower temperature (as it should be).\n",
      "\n",
      "print \" The rate of heat transfer by convection from the roof to the air in W\"\n",
      "#The rate of heat transfer by convection from the roof to the air in W\n",
      "print \"q = \",(-h*A)*(Troof-Tair)\n"
     ],
     "language": "python",
     "metadata": {},
     "outputs": [
      {
       "output_type": "stream",
       "stream": "stdout",
       "text": [
        "Principles of Heat Transfer, 7th Ed. Frank Kreith et. al Chapter - 1 Example # 1.3 \n",
        " The rate of heat transfer by convection from the roof to the air in W\n",
        "q =  -120000\n"
       ]
      }
     ],
     "prompt_number": 14
    },
    {
     "cell_type": "heading",
     "level": 2,
     "metadata": {},
     "source": [
      "Ex1.4: Page 22"
     ]
    },
    {
     "cell_type": "code",
     "collapsed": false,
     "input": [
      "\n",
      "print \"Principles of Heat Transfer, 7th Ed. Frank Kreith et. al Chapter - 1 Example # 1.4 \"\n",
      "\n",
      "#Diameter of rod in m\n",
      "d = 0.02;\n",
      "# Emissivity and temperautre of rod in K\n",
      "epsilon = 0.9;\n",
      "T1 = 1000;\n",
      "#Temperature of walls of furnace\n",
      "T2 = 800;\n",
      "\n",
      "#Assuming steady state has been reached.\n",
      "#Since the walls of the furnace completely enclose the heating rod, all the radiant energy emitted by the surface of the rod is intercepted by the furnace walls\n",
      "\n",
      "#From eq. 1.17, net heat loss can be given\n",
      "\n",
      "print \"Net heat loss per unit length considering 1m length in W\"\n",
      "#Area in m2\n",
      "A =(math.pi*d)*1;\n",
      "#Constant sigma in W/m2-K4\n",
      "sigma = 0.0000000567;\n",
      "#Net heat loss per unit length considering 1m length in W\n",
      "q=((A*sigma)*epsilon)*(T1**4-T2**4)\n",
      "print\" q = \",round(q)\n",
      "#From eq. 1.21 radiation heat transfer coefficient in W/m2-K is\n",
      "print \"Radiation heat transfer coefficient in W/m2-K is\"\n",
      "#Radiation heat transfer coefficient in W/m2-K \n",
      "print \"hr = \",round(((epsilon*sigma)*(T1**4-T2**4))/(T1-T2))\n"
     ],
     "language": "python",
     "metadata": {},
     "outputs": [
      {
       "output_type": "stream",
       "stream": "stdout",
       "text": [
        "Principles of Heat Transfer, 7th Ed. Frank Kreith et. al Chapter - 1 Example # 1.4 \n",
        "Net heat loss per unit length considering 1m length in W\n",
        " q =  1893.0\n",
        "Radiation heat transfer coefficient in W/m2-K is\n",
        "hr =  151.0\n"
       ]
      }
     ],
     "prompt_number": 19
    },
    {
     "cell_type": "heading",
     "level": 2,
     "metadata": {},
     "source": [
      "Ex1.5: Page 26"
     ]
    },
    {
     "cell_type": "code",
     "collapsed": false,
     "input": [
      "\n",
      "print \"Principles of Heat Transfer, 7th Ed. Frank Kreith et. al Chapter - 1 Example # 1.5 \"\n",
      "\n",
      "#Thickness of inside steel in m and thermal conductivity in W/m-k\n",
      "t1 = 0.005;\n",
      "k1 = 40;\n",
      "#Thickness of outside brick in m and thermal conductivity in W/m-k\n",
      "t2 = 0.1;\n",
      "k2 = 2.5;\n",
      "\n",
      "#Inside temperature in C\n",
      "T1 = 900;\n",
      "#Outside temperature in C\n",
      "To = 460;\n",
      "\n",
      "#Assuming the condition of steady state and umath.sing Eq. 1.24\n",
      "print \"The rate of heat loss per unit area  in W/m2 is\"\n",
      "#The rate of heat loss per unit area  in W/m2 \n",
      "qk = (T1-To)/(t1/k1+t2/k2)\n",
      "print int(qk)\n",
      "\n",
      "print \"Temperature at the interface in K is given as\"\n",
      "#Temperature at the interface in K\n",
      "T2 = T1-(qk*t1)/k1\n",
      "print round(T2,1)\n"
     ],
     "language": "python",
     "metadata": {},
     "outputs": [
      {
       "output_type": "stream",
       "stream": "stdout",
       "text": [
        "Principles of Heat Transfer, 7th Ed. Frank Kreith et. al Chapter - 1 Example # 1.5 \n",
        "The rate of heat loss per unit area  in W/m2 is\n",
        "10965\n",
        "Temperature at the interface in K is given as\n",
        "898.6\n"
       ]
      }
     ],
     "prompt_number": 22
    },
    {
     "cell_type": "heading",
     "level": 2,
     "metadata": {},
     "source": [
      "Ex1.6: Page 27"
     ]
    },
    {
     "cell_type": "code",
     "collapsed": false,
     "input": [
      "\n",
      "print \"Principles of Heat Transfer, 7th Ed. Frank Kreith et. al Chapter - 1 Example # 1.6 \"\n",
      "\n",
      "#Thermal conductivity of aluminium in W/m-K\n",
      "k = 240.0;\n",
      "#Thickness of each plate in m\n",
      "t = 0.01;\n",
      "#Temperature at the surfaces of plates in C is given as\n",
      "Ts1 = 395.0;\n",
      "Ts3 = 405.0;\n",
      "#From Table 1.6 the contact resistance at the interface in K/W is\n",
      "R2 = 0.000275;\n",
      "#Thermal resistance of the plates in K/W is\n",
      "R1 = t/k;\n",
      "R3 = t/k;\n",
      "\n",
      "print \"Heat flux in W/m2-K is\"\n",
      "#Heat flux in W/m2-K\n",
      "q = (Ts3-Ts1)/(R1+R2+R3)\n",
      "print \"{:.2e}\".format(q)\n",
      "#Since the temperature drop in each section of this one-dimensional system is propor-tional to the resistance.\n",
      "\n",
      "print \"Temperature drop due to contact resistance in degree C is\"\n",
      "#Temperature drop due to contact resistance in degree C\n",
      "deltaT = (R2/(R1+R2+R3))*(Ts3-Ts1)\n",
      "print round(deltaT,2)\n"
     ],
     "language": "python",
     "metadata": {},
     "outputs": [
      {
       "output_type": "stream",
       "stream": "stdout",
       "text": [
        "Principles of Heat Transfer, 7th Ed. Frank Kreith et. al Chapter - 1 Example # 1.6 \n",
        "Heat flux in W/m2-K is\n",
        "2.79e+04\n",
        "Temperature drop due to contact resistance in degree C is\n",
        "7.67\n"
       ]
      }
     ],
     "prompt_number": 29
    },
    {
     "cell_type": "heading",
     "level": 2,
     "metadata": {},
     "source": [
      "Ex1.7: Page 29"
     ]
    },
    {
     "cell_type": "code",
     "collapsed": false,
     "input": [
      "\n",
      " \n",
      "print \"Principles of Heat Transfer, 7th Ed. Frank Kreith et. al Chapter - 1 Example # 1.7 \"\n",
      "\n",
      "#Because of symmetry, we need to calculate for only one half of the system\n",
      "\n",
      "#Thickness of firebrick in inches\n",
      "L1 = 1.0;\n",
      "#Thermal conductivity of firebrick in Btu/h-ft-F\n",
      "kb = 1.0;\n",
      "#Thickness of steel plate in inches\n",
      "L3 = 1/4.0;\n",
      "#Thermal conductivity of steel in Btu/h-ft-F\n",
      "ks = 30;\n",
      "#Average height of asperities in inches is given as\n",
      "L2 = 1/32.0;\n",
      "#Temperature difference between the steel plates in F is\n",
      "deltaT = 600.0;\n",
      "\n",
      "\n",
      "#The thermal resistance of the steel plate is, on the basis of a unit wall area, equal to\n",
      "R3 = L3/(12*ks);#12 is added to convert ft to in\n",
      "\n",
      "#The thermal resistance of the brick asperities is, on the basis of a unit wall area, equal to\n",
      "R4 = L2/((0.3*12)*kb);#Considering the 30 percent area\n",
      "\n",
      "#At temperature of 300F, thermal conductivity of air in Btu/h-ft-F is\n",
      "ka = 0.02;\n",
      "\n",
      "# Thermal resistance of the air trapped between the asperities, is, on the basis of a unit area, equal to\n",
      "R5 = L2/((0.7*12)*ka);#Considering the other 70 percent area\n",
      "\n",
      "#Since R4 and R5 are in parallel, so there combined resistance is\n",
      "R2 = (R4*R5)/(R4+R5);\n",
      "\n",
      "#The thermal resistance of half of the solid brick is\n",
      "R1 = L1/(12*kb);\n",
      "\n",
      "#The overall unit conductance for half the composite wall in Btu/h-ft2-F is then\n",
      "kk = 0.5/(R1+R2+R3);\n",
      "\n",
      "print \"The rate of heat flow per unit area in Btu/h-ft2 is\"\n",
      "#The rate of heat flow per unit area in Btu/h-ft2\n",
      "q = kk*deltaT\n",
      "print round(q,2)\n",
      "\n",
      "# the answer is slightly different in textbook due to approximation\n"
     ],
     "language": "python",
     "metadata": {},
     "outputs": [
      {
       "output_type": "stream",
       "stream": "stdout",
       "text": [
        "Principles of Heat Transfer, 7th Ed. Frank Kreith et. al Chapter - 1 Example # 1.7 \n",
        "The rate of heat flow per unit area in Btu/h-ft2 is\n",
        "3249.52088923\n"
       ]
      }
     ],
     "prompt_number": 32
    },
    {
     "cell_type": "heading",
     "level": 2,
     "metadata": {},
     "source": [
      "Ex1.8: Page 35"
     ]
    },
    {
     "cell_type": "code",
     "collapsed": false,
     "input": [
      "\n",
      " \n",
      "print \"Principles of Heat Transfer, 7th Ed. Frank Kreith et. al Chapter - 1 Example # 1.8 \"\n",
      "\n",
      "#Length for heat transfer for stainless steel in m\n",
      "Lss = 0.1;\n",
      "\n",
      "#Area for heat transfer for stainless steel in m2\n",
      "A = 0.01;\n",
      "\n",
      "#Thermal conductivity for stainless steel in W/m-K\n",
      "kss = 144;\n",
      "\n",
      "#Length for heat transfer for Duralumin in m\n",
      "La1 = 0.02;\n",
      "\n",
      "#Area for heat transfer for Duralumin in m2\n",
      "A = 0.01;\n",
      "\n",
      "#Thermal conductivity for Duralumin in W/m-K\n",
      "ka1 = 164;\n",
      "\n",
      "#Resistance in case of steel  in K/W\n",
      "Rk1 = Lss/(A*kss);\n",
      "\n",
      "#Resistance in case of Duralumin  in K/W\n",
      "Rk2 = La1/(A*ka1);\n",
      "\n",
      "#From Fig. 1.20, contact resistance in K/W\n",
      "Ri = 0.05;\n",
      "\n",
      "#Total resistance to heat transfer in K/W\n",
      "Rtotal = Rk1+Rk2+Ri;\n",
      "\n",
      "#Temperature diff. is given in K\n",
      "deltaT = 40;\n",
      "\n",
      "print \"Maximum allowable rate of heat dissipation in W is\"\n",
      "#Maximum allowable rate of heat dissipation in W\n",
      "q = deltaT/Rtotal\n",
      "\n",
      "print int(q)\n"
     ],
     "language": "python",
     "metadata": {},
     "outputs": [
      {
       "output_type": "stream",
       "stream": "stdout",
       "text": [
        "Principles of Heat Transfer, 7th Ed. Frank Kreith et. al Chapter - 1 Example # 1.8 \n",
        "Maximum allowable rate of heat dissipation in W is\n",
        "303\n"
       ]
      }
     ],
     "prompt_number": 34
    },
    {
     "cell_type": "heading",
     "level": 2,
     "metadata": {},
     "source": [
      "Ex1.9: Page 37"
     ]
    },
    {
     "cell_type": "code",
     "collapsed": false,
     "input": [
      "\n",
      "print \"Principles of Heat Transfer, 7th Ed. Frank Kreith et. al Chapter - 1 Example # 1.9 \"\n",
      "\n",
      "#Cross sectional area in m2\n",
      "A = 1.0;\n",
      "#Heat transfer coefficient on hot side in W/m2-K\n",
      "hchot = 10.0;\n",
      "#Heat transfer coefficient on cold side in W/m2-K\n",
      "hccold = 40.0;\n",
      "\n",
      "#Length for heat transfer in m\n",
      "L = 0.1;\n",
      "#Thermal conductivity in W/m-K\n",
      "k = 0.7;\n",
      "\n",
      "#Resistances in K/w\n",
      "R1 = 1/(hchot*A);\n",
      "R2 = L/(k*A);\n",
      "R3 = 1/(hccold*A);\n",
      "\n",
      "#Total resistance\n",
      "Rtotal = R1+R2+R3;\n",
      "\n",
      "#Temperature on hot side in K\n",
      "T1 = 330.0;\n",
      "#Temperature on cold side in K\n",
      "T2 = 270.0;\n",
      "\n",
      "print \"Rate of heat transfer per unit area in W is\"\n",
      "#Rate of heat transfer per unit area in W\n",
      "q = (T1-T2)/(R1+R2+R3)\n",
      "print round(q)\n"
     ],
     "language": "python",
     "metadata": {},
     "outputs": [
      {
       "output_type": "stream",
       "stream": "stdout",
       "text": [
        "Principles of Heat Transfer, 7th Ed. Frank Kreith et. al Chapter - 1 Example # 1.9 \n",
        "Rate of heat transfer per unit area in W is\n",
        "224.0\n"
       ]
      }
     ],
     "prompt_number": 42
    },
    {
     "cell_type": "heading",
     "level": 2,
     "metadata": {},
     "source": [
      "Ex1.10: Page 40"
     ]
    },
    {
     "cell_type": "code",
     "collapsed": false,
     "input": [
      " \n",
      "print \"Principles of Heat Transfer, 7th Ed. Frank Kreith et. al Chapter - 1 Example # 1.10 \"\n",
      "\n",
      "#diameter of pipe in m\n",
      "d = 0.5;\n",
      "#Epsilon is given as\n",
      "epsilon = 0.9;\n",
      "#sigma(constant) in SI units is\n",
      "sigma = 0.0000000567;\n",
      "#Temperatures in K are given as\n",
      "T1 = 500;\n",
      "T2 = 300;\n",
      "\n",
      "#Radiation heat transfer coefficient in W/m2K\n",
      "hr = ((sigma*epsilon)*(T1*T1+T2*T2))*(T1+T2);\n",
      "\n",
      "#Convection heat transfer coefficient in W/m2K\n",
      "hc = 20;\n",
      "\n",
      "#total heat transfer coefficient in W/m2K\n",
      "h = hc+hr;\n",
      "\n",
      "print \"Rate of heat loss per meter in W/m is\"\n",
      "#Rate of heat loss per meter in W/m\n",
      "q = ((math.pi*d)*h)*(T1-T2)\n",
      "\n",
      "print round(q,2)\n",
      "\n",
      "# the answer is slightly different due to approximation\n"
     ],
     "language": "python",
     "metadata": {},
     "outputs": [
      {
       "output_type": "stream",
       "stream": "stdout",
       "text": [
        "Principles of Heat Transfer, 7th Ed. Frank Kreith et. al Chapter - 1 Example # 1.10 \n",
        "Rate of heat loss per meter in W/m is\n",
        "10643.77\n"
       ]
      }
     ],
     "prompt_number": 46
    },
    {
     "cell_type": "heading",
     "level": 2,
     "metadata": {},
     "source": [
      "Ex1.11: Page 43"
     ]
    },
    {
     "cell_type": "code",
     "collapsed": false,
     "input": [
      " \n",
      "print \"Principles of Heat Transfer, 7th Ed. Frank Kreith et. al Chapter - 1 Example # 1.11 \"\n",
      "\n",
      "#Hot-gas temperature in K\n",
      "Tgh = 1300.0;\n",
      "#Heat transfer coefficient on hot side in W/m2K\n",
      "h1 = 200.0;\n",
      "#Heat transfer coefficient on cold side in W/m2K\n",
      "h3 = 400.0;\n",
      "#Coolant temperature in K\n",
      "Tgc = 300.0;\n",
      "#Max temp. in C\n",
      "Tsg = 800.0;\n",
      "#Maximum permissible unit thermal resistance per square meter of the metal wall in K/W\n",
      "R2 = ((Tgh-Tgc)*(1/h1)/(Tgh-Tsg))-1/h1-1/h3;\n",
      "print \"Maximum permissible unit thermal resistance per square meter of the metal wall in m2.K/W is\"\n",
      "print R2\n",
      "\n",
      "# The answer is wrong in the textbook\n"
     ],
     "language": "python",
     "metadata": {},
     "outputs": [
      {
       "output_type": "stream",
       "stream": "stdout",
       "text": [
        "Principles of Heat Transfer, 7th Ed. Frank Kreith et. al Chapter - 1 Example # 1.11 \n",
        "Maximum permissible unit thermal resistance per square meter of the metal wall in m2.K/W is\n",
        "0.0025\n"
       ]
      }
     ],
     "prompt_number": 54
    },
    {
     "cell_type": "heading",
     "level": 2,
     "metadata": {},
     "source": [
      "Ex1.12: Page 49"
     ]
    },
    {
     "cell_type": "code",
     "collapsed": false,
     "input": [
      "\n",
      "print \"Principles of Heat Transfer, 7th Ed. Frank Kreith et. al Chapter - 1 Example # 1.12 \"\n",
      "\n",
      "# total length of metal sheet in m\n",
      "L = 0.625/39.4;\n",
      "#  we estimate the thermal conductivity of the metal sheets to be approximately 43 W/m K\n",
      "k = 43;\n",
      "# therefore the resistance in K/W offered by metal sheey\n",
      "R = L/k;\n",
      "\n",
      "#heat loss in W/m2 is given as\n",
      "q = 1200;\n",
      "# overall heat transfer coefficient between the gas and the door is given\n",
      "# in W/m2K\n",
      "U = 20;\n",
      "#The temperature drop between the gas and the interior surface of the door at the specified heat flux is\n",
      "deltaT1 = q/U;\n",
      "#Hence, the temperature of the Inconel will be in degree C\n",
      "T = 1200-deltaT1;\n",
      "\n",
      "#The heat transfer coefficient between the outer surface of the door and\n",
      "#the surroundings at 20\u00b0C in W/m2K\n",
      "h = 5;\n",
      "#The temperature drop at the outer surface in degree C is\n",
      "deltaT2 = q/h;\n",
      "#Selecting milled alumina-silica chips as insulator (Fig 1.31 on page 48)\n",
      "\n",
      "# Hence, temperature difference across the insulation is\n",
      "deltaT3 = T-deltaT1-deltaT2;\n",
      "\n",
      "#thermal conductivity for milled alumina-silica chips in W/mK is\n",
      "k = 0.27;\n",
      "\n",
      "print \"The insulation thickness in m is\"\n",
      "#The insulation thickness in m\n",
      "L = (k*deltaT3)/q\n",
      "\n",
      "print round(L,1)\n"
     ],
     "language": "python",
     "metadata": {},
     "outputs": [
      {
       "output_type": "stream",
       "stream": "stdout",
       "text": [
        "Principles of Heat Transfer, 7th Ed. Frank Kreith et. al Chapter - 1 Example # 1.12 \n",
        "The insulation thickness in m is\n",
        "0.2\n"
       ]
      }
     ],
     "prompt_number": 57
    },
    {
     "cell_type": "heading",
     "level": 2,
     "metadata": {},
     "source": [
      "Ex1.13: Page 53"
     ]
    },
    {
     "cell_type": "code",
     "collapsed": false,
     "input": [
      "\n",
      "print \"Principles of Heat Transfer, 7th Ed. Frank Kreith et. al Chapter - 1 Example # 1.13 \"\n",
      "\n",
      "#Temperature of air in degree K\n",
      "Tair = 300;\n",
      "#Heat transfer coefficient in W/m2K\n",
      "h = 10.0;\n",
      "\n",
      "print \"Part a\"\n",
      "#Radiation solar flux in W/m2\n",
      "q = 500.0;\n",
      "#Ambient temperature in K\n",
      "Tsurr = 50.0;\n",
      "\n",
      "print \"Solving energy balance equaiton by trial and error for the roof temperature, we get temp. in degree K\"\n",
      "#Room temperature in degree K\n",
      "Troof = 303\n",
      "print Troof\n",
      "print \"Part b\"\n",
      "\n",
      "#No heat flux, energy balance equaiton is modified\n",
      "print \"Room temperature in degree K\"\n",
      "#Room temperature in degree K\n",
      "Troof = 270\n",
      "print Troof\n"
     ],
     "language": "python",
     "metadata": {},
     "outputs": [
      {
       "output_type": "stream",
       "stream": "stdout",
       "text": [
        "Principles of Heat Transfer, 7th Ed. Frank Kreith et. al Chapter - 1 Example # 1.13 \n",
        "Part a\n",
        "Solving energy balance equaiton by trial and error for the roof temperature, we get temp. in degree K\n",
        "303\n",
        "Part b\n",
        "Room temperature in degree K\n",
        "270\n"
       ]
      }
     ],
     "prompt_number": 59
    },
    {
     "cell_type": "heading",
     "level": 2,
     "metadata": {},
     "source": [
      "Ex1.14: Page 54"
     ]
    },
    {
     "cell_type": "code",
     "collapsed": false,
     "input": [
      "\n",
      "\n",
      " \n",
      "print \"Principles of Heat Transfer, 7th Ed. Frank Kreith et. al Chapter - 1 Example # 1.14 \"\n",
      "\n",
      "print \"The given example is theoretical and does not involve any numerical computation\"\n"
     ],
     "language": "python",
     "metadata": {},
     "outputs": [
      {
       "output_type": "stream",
       "stream": "stdout",
       "text": [
        "Principles of Heat Transfer, 7th Ed. Frank Kreith et. al Chapter - 1 Example # 1.14 \n",
        "The given example is theoretical and does not involve any numerical computation\n"
       ]
      }
     ],
     "prompt_number": 60
    }
   ],
   "metadata": {}
  }
 ]
}