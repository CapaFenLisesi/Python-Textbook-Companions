{
 "metadata": {
  "name": "",
  "signature": "sha256:467171181816c2659c4f87b4e2efe7cc504a8bc236d63fac8ac695852fd8fdda"
 },
 "nbformat": 3,
 "nbformat_minor": 0,
 "worksheets": [
  {
   "cells": [
    {
     "cell_type": "heading",
     "level": 1,
     "metadata": {},
     "source": [
      "Chapter 7: Forced Convection Over Exterior Surfaces"
     ]
    },
    {
     "cell_type": "heading",
     "level": 2,
     "metadata": {},
     "source": [
      "Ex7.1: Page 429"
     ]
    },
    {
     "cell_type": "code",
     "collapsed": false,
     "input": [
      "\n",
      "print \"Principles of Heat Transfer, 7th Ed. Frank Kreith et. al Chapter - 7 Example # 7.1 \"\n",
      "\n",
      "#Diameter in m\n",
      "D = 0.3;\n",
      "#Cruimath.sing speed in m/s\n",
      "Uinfinity = 150;\n",
      "\n",
      "#At an altitude of 7500 m the standard atmospheric air pressure is 38.9 kPa and the density of the air is 0.566 kg/m3 (From Table 38 in Appendix 2).\n",
      "rho = 0.566;\n",
      "#Dynamic vismath.cosity in kgm/s\n",
      "mu = 0.0000174;\n",
      "#Prandtl number\n",
      "Pr = 0.72;\n",
      "#Thermal conductivity in W/mK\n",
      "k = 0.024;\n",
      "\n",
      "#The heat transfer coefficient at the stagnation point (\u0004\u00050) is, according to Eq. (7.2)\n",
      "\n",
      "print \"Heat transfer coefficient at stagnation point in W/m2K\"\n",
      "#Heat transfer coefficient at stagnation point in W/m2K\n",
      "h = (((k*1.14)*((((rho*Uinfinity)*D)/mu)**0.5))*(Pr**0.4))/D\n",
      "\n",
      "print \"Distribution of the convection heat trans-fer coefficient over the forward portion of the wing\"\n",
      "for o in range(0,90,15): #o is the parameter used in the loop\n",
      "    #convection heat trans-fer coefficients in W/m2K\n",
      "  ho = h*(1-(o/90.0)**3);\n",
      "  # L.26: No simple equivalent, so mtlb_fprintf() is called.\n",
      "  print \"At an angle of \",o,\" degree, heat transfer coeffcient is \",round(ho,2)\n",
      "\n"
     ],
     "language": "python",
     "metadata": {},
     "outputs": [
      {
       "output_type": "stream",
       "stream": "stdout",
       "text": [
        "Principles of Heat Transfer, 7th Ed. Frank Kreith et. al Chapter - 7 Example # 7.1 \n",
        "Heat transfer coefficient at stagnation point in W/m2K\n",
        "Distribution of the convection heat trans-fer coefficient over the forward portion of the wing\n",
        "At an angle of  0  degree, heat transfer coeffcient is  96.75\n",
        "At an angle of  15  degree, heat transfer coeffcient is  96.31\n",
        "At an angle of  30  degree, heat transfer coeffcient is  93.17\n",
        "At an angle of  45  degree, heat transfer coeffcient is  84.66\n",
        "At an angle of  60  degree, heat transfer coeffcient is  68.09\n",
        "At an angle of  75  degree, heat transfer coeffcient is  40.76\n"
       ]
      }
     ],
     "prompt_number": 9
    },
    {
     "cell_type": "heading",
     "level": 2,
     "metadata": {},
     "source": [
      "Ex7.2: Page 434"
     ]
    },
    {
     "cell_type": "code",
     "collapsed": false,
     "input": [
      "\n",
      "print \"Principles of Heat Transfer, 7th Ed. Frank Kreith et. al Chapter - 7 Example # 7.2 \"\n",
      "\n",
      "#Diameter of wire in m\n",
      "D = 0.000025;\n",
      "#Length of wire in m\n",
      "L = 0.006;\n",
      "#Free stream temperature of air in degeee C\n",
      "T = 20;\n",
      "#Wire temperature to be maintain in degree C\n",
      "Tw = 230;\n",
      "#Resistivity of platinum in ohm-cm\n",
      "Re = 0.0000171;\n",
      "\n",
      "#Since the wire is very thin, conduction along it can be neglected; also, the temperature gradient in the wire at any cross section can be disregarded.\n",
      "\n",
      "#At freestream temperature, for air:\n",
      "\n",
      "#Thermal conductivity in W/mC\n",
      "k = 0.0251;\n",
      "#Kinematic vismath.cosity in m2/s\n",
      "nu = 0.0000157;\n",
      "\n",
      "#Reynolds number at velocity = 2m/s\n",
      "Rey = (2*D)/nu;\n",
      "if Re<40:\n",
      "  #Umath.sing the correlation equa-tion from Eq. (7.3) and Table 7.1\n",
      "  #Average convection heat transfer coefficient as a function of velocity\n",
      "  #is\n",
      "  #hc=799U**0.4 W/m2C\n",
      "\n",
      "  #At this point, it is necessary to estimate the heat transfer coefficient for radiant heat flow.\n",
      "  #According to Eq. (1.21), we have approximately\n",
      "  #hr=sigma*epsilon*((Ts+Tinfinity)**3)/4\n",
      "\n",
      "  #The emissivity of polished platinum from Appendix 2, Table 7 is about 0.05, so hr is about 0.05 W/m2C.\n",
      "\n",
      "  #The rate at which heat is transferred from the wire is therefore\n",
      "  #0.0790U**4 W.\n",
      "\n",
      "  #The electrical resistance of the wire in ohm is\n",
      "  R = ((Re*L)*4)/(((100*math.pi)*D)*D);\n",
      "\n",
      "\n",
      "#A heat balance with the current i gives\n",
      "print \"Current in ampere as a function of velocity is\"\n",
      "print \"i=0.19*U**0.2\"\n",
      "\n",
      "# the answer is the equation hence we have to print the equation only\n"
     ],
     "language": "python",
     "metadata": {},
     "outputs": [
      {
       "output_type": "stream",
       "stream": "stdout",
       "text": [
        "Principles of Heat Transfer, 7th Ed. Frank Kreith et. al Chapter - 7 Example # 7.2 \n",
        "Current in ampere as a function of velocity is\n",
        "i=0.19*U**0.2\n"
       ]
      }
     ],
     "prompt_number": 10
    },
    {
     "cell_type": "heading",
     "level": 2,
     "metadata": {},
     "source": [
      "Ex7.3: Page 438"
     ]
    },
    {
     "cell_type": "code",
     "collapsed": false,
     "input": [
      "print \"Principles of Heat Transfer, 7th Ed. Frank Kreith et. al Chapter - 7 Example # 7.3 \"\n",
      "\n",
      "#Velocity of air in m/s\n",
      "Uinfinity = 0.5;\n",
      "#Length and breadth of square shaped array in m\n",
      "L = 2.5;\n",
      "#Surface temperature in degree C\n",
      "Ts = 70.0;\n",
      "#Ambient temperature in degree C\n",
      "Ta = 20.0;\n",
      "\n",
      "#At free stream temperature of air\n",
      "#Kinematic vismath.cosity in m2/s\n",
      "nu = 0.0000157;\n",
      "#Density in kg/m3\n",
      "rho = 1.16;\n",
      "#Specific heeat in Ws/kgC\n",
      "c = 1012;\n",
      "#Prandtl number\n",
      "Pr = 0.71;\n",
      "\n",
      "#Reynolds number\n",
      "Re = (Uinfinity*L)/nu;\n",
      "\n",
      "#From equation 7.18\n",
      "#The average heat transfer coefficient in W/m2C is\n",
      "#Heat transfer coefficient in W/m2C \n",
      "h = (((0.0033*(Pr**(-2/3.0)))*c)*rho)*Uinfinity;\n",
      "print \"Heat loss from array in W is\"\n",
      "#Heat loss in W \n",
      "q = ((h*L)*L)*(Ts-Ta)\n",
      "print round(q,2)\n",
      "\n",
      "# the answer is incorrect in the textbook\n"
     ],
     "language": "python",
     "metadata": {},
     "outputs": [
      {
       "output_type": "stream",
       "stream": "stdout",
       "text": [
        "Principles of Heat Transfer, 7th Ed. Frank Kreith et. al Chapter - 7 Example # 7.3 \n",
        "Heat loss from array in W is\n",
        "760.56\n"
       ]
      }
     ],
     "prompt_number": 11
    },
    {
     "cell_type": "heading",
     "level": 2,
     "metadata": {},
     "source": [
      "Ex7.4: Page 442"
     ]
    },
    {
     "cell_type": "code",
     "collapsed": false,
     "input": [
      "\n",
      "print \"Principles of Heat Transfer, 7th Ed. Frank Kreith et. al Chapter - 7 Example # 7.4 \"\n",
      "\n",
      "#Diameter of pipe in m\n",
      "D = 7.62/100;\n",
      "#Diameter and length of cylinder in m\n",
      "d = 0.93/100;\n",
      "l = 1.17/100;\n",
      "#Initial temperature in degree C\n",
      "Ti = 50.0;\n",
      "#Final temperature in degree C\n",
      "Tf = 350.0;\n",
      "#Temperature of pipe surface in degree C\n",
      "Tp = 400.0;\n",
      "#Therefore film temp. at inlet in degree C\n",
      "Tfi = (Ti+Tp)/2;\n",
      "#Therefore film temp. at outlet in degree C\n",
      "Tfo = (Tf+Tp)/2;\n",
      "#Average film temp. in degree C\n",
      "Tf = (Tfi+Tfo)/2;\n",
      "\n",
      "#At this film temperature\n",
      "#Kinematic vismath.cosity in m2/s\n",
      "nu = 0.0000482;\n",
      "#Thermal conductivity in W/mC\n",
      "k = 0.042;\n",
      "#Density in kg/m3\n",
      "rho = 0.6;\n",
      "#Specific heat in J/kgC\n",
      "c = 1081;\n",
      "#Prandtl number\n",
      "Pr = 0.71;\n",
      "#Flow rte of gas in kg/h is\n",
      "m = 5;\n",
      "\n",
      "#Superficial velocity in m/h\n",
      "Us = m/((((rho*math.pi)*D)*D)/4);\n",
      "#Cylinder packaging volume in m3\n",
      "V = (((math.pi*d)*d)*l)/4;\n",
      "#Surface area in m2\n",
      "A = (((2*math.pi)*d)*d)/4+(math.pi*d)*l;\n",
      "#Equivalent packaging dia in meter\n",
      "Dp = (6*V)/A;\n",
      "\n",
      "#REynolds number based on this dia\n",
      "Re = ((Us*3600)*Dp)/nu;\n",
      "#From eq. 7.23\n",
      "print \"Heat transfer coefficient in W/m2C is\"\n",
      "#Heat transfer coefficient in W/m2C\n",
      "h = (14.3*k)/Dp\n",
      "print round(h,2)\n"
     ],
     "language": "python",
     "metadata": {},
     "outputs": [
      {
       "output_type": "stream",
       "stream": "stdout",
       "text": [
        "Principles of Heat Transfer, 7th Ed. Frank Kreith et. al Chapter - 7 Example # 7.4 \n",
        "Heat transfer coefficient in W/m2C is\n",
        "60.16\n"
       ]
      }
     ],
     "prompt_number": 12
    },
    {
     "cell_type": "heading",
     "level": 2,
     "metadata": {},
     "source": [
      "Ex7.5: Page 453"
     ]
    },
    {
     "cell_type": "code",
     "collapsed": false,
     "input": [
      "\n",
      "print \"Principles of Heat Transfer, 7th Ed. Frank Kreith et. al Chapter - 7 Example # 7.5 \"\n",
      "\n",
      "#Initial temperature in degree F\n",
      "Ti = 58;\n",
      "#Final temperature in degree F\n",
      "Tf = 86.0;\n",
      "#Film temperature of air in degree F\n",
      "Tair = (Ti+Tf)/2;\n",
      "#Temperature of condenmath.sing steam in degree F\n",
      "Tsteam = 212.0;\n",
      "#Heat transfer coeffcient in Btuh/ft2F\n",
      "ho = 1000.0;\n",
      "#Length of tube in ft\n",
      "L = 2.0;\n",
      "#Diameter of tube in in\n",
      "d = 0.5;\n",
      "#Wall thickness in inches\n",
      "t = 0.049;\n",
      "#Pitch in inches\n",
      "p = 3/4.0;\n",
      "#Width in ft and height in inches of rectangular shell\n",
      "H = 15;\n",
      "W = 2;\n",
      "#Mass flow rate of air in lb/h\n",
      "m = 32000;\n",
      "\n",
      "#Appendix 2, Table 28 then gives for the properties of air at this mean\n",
      "#bulk temperature\n",
      "\n",
      "#Density in lb/ft3\n",
      "rho = 0.072;\n",
      "#Thermal conductivity in Btu/h F ft\n",
      "k = 0.0146;\n",
      "#Dynamic vismath.cosity in lb/fth\n",
      "mu = 0.0444;\n",
      "#Prandtl number for air and steam\n",
      "Pr = 0.71;\n",
      "\n",
      "#Calcaulating minimum free area in ft2\n",
      "A = ((H/p)*W)*((p-d)/12.0);\n",
      "#Maximum gas velocity in lb/h.ft2\n",
      "Gmax = m/A;\n",
      "#Hence the reynolds number is\n",
      "Re = (Gmax*d)/(12*mu);\n",
      "\n",
      "#Assuming that more than 10 rows will be required, the heat transfer coefficient is calculated from Eq. (7.29)\n",
      "\n",
      "#h value in Btu/h ft2 F\n",
      "h = ((((k*12)/d)*(Pr**0.36))*0.27)*(Re**0.63);\n",
      "\n",
      "#The resistance at the steam side per tube in h F/Btu\n",
      "R1 = 12/(((ho*math.pi)*(d-2*t))*L);\n",
      "\n",
      "#The resistance of the pipe wall in h F/Btu\n",
      "R2 = 0.049/(((60*math.pi)*L)*(d-t));\n",
      "\n",
      "#The resistance at the outside of the tube in h F/Btu\n",
      "R3 = 1/((((h*math.pi)*d)*L)/12);\n",
      "\n",
      "#Total resistance in h F/Btu\n",
      "R = R1+R2+R3;\n",
      "\n",
      "#Mean temperature difference between air and steam in degree F is\n",
      "deltaT = Tsteam-Tair;\n",
      "\n",
      "#Specific heat of air in Btu/lb F\n",
      "c = 0.241;\n",
      "\n",
      "#Equating the rate of heat flow from the steam to the air to the rate of enthalpy rise of the air\n",
      "\n",
      "#Solving for N gives\n",
      "print \"Total number of transverse tubes needed are\"\n",
      "#Total number of transverse tubes\n",
      "N = (((m*c)*(Tf-Ti))*R)/(20*deltaT)\n",
      "print \"Rounding off = 5 tubes\"\n",
      "\n",
      "if N<10 :\n",
      "  #Correction for h value, again in Btu/h ft2 F\n",
      "  h = 0.92*h;\n",
      "\n",
      "\n",
      "#The pressure drop is obtained from Eq. (7.37) and Fig. 7.25.\n",
      "\n",
      "#Velocity in ft/s\n",
      "Umax = Gmax/(3600*rho);\n",
      "#Acceleration due to gravity in ft/s2\n",
      "g = 32.2;\n",
      "print \"Corresponding pressure drop in lb/ft2\"\n",
      "#Corresponding pressure drop in lb/ft2\n",
      "P = ((((6*0.75)*rho)*Umax)*Umax)/(2*g)\n",
      "print round(P)\n"
     ],
     "language": "python",
     "metadata": {},
     "outputs": [
      {
       "output_type": "stream",
       "stream": "stdout",
       "text": [
        "Principles of Heat Transfer, 7th Ed. Frank Kreith et. al Chapter - 7 Example # 7.5 \n",
        "Total number of transverse tubes needed are\n",
        "Rounding off = 5 tubes\n",
        "Corresponding pressure drop in lb/ft2\n",
        "110.0\n"
       ]
      }
     ],
     "prompt_number": 14
    },
    {
     "cell_type": "heading",
     "level": 2,
     "metadata": {},
     "source": [
      "Ex7.6: Page 456"
     ]
    },
    {
     "cell_type": "code",
     "collapsed": false,
     "input": [
      "\n",
      "print \"Principles of Heat Transfer, 7th Ed. Frank Kreith et. al Chapter - 7 Example # 7.6 \"\n",
      "\n",
      "#Temperature of methane in degree C\n",
      "T = 20;\n",
      "#Outer dia of tube in m\n",
      "D = 4/100.0;\n",
      "#Longitudinal spacing in m\n",
      "SL = 6/100.0;\n",
      "#Transverse spacing in m\n",
      "ST = 8/100.0;\n",
      "#Wall temperature in degree C\n",
      "Tw = 50.0;\n",
      "#Methane flow velocity in m/s\n",
      "v = 10.0;\n",
      "\n",
      "#For methane at 20\u00b0C, Table 36, Appendix 2 gives\n",
      "\n",
      "#Density in kg/m3\n",
      "rho = 0.668;\n",
      "#Thermal conductivity in W/mK\n",
      "k = 0.0332;\n",
      "#Kinematic vismath.cosity in m2/s\n",
      "nu = 0.00001627;\n",
      "#Prandtl number\n",
      "Pr = 0.73;\n",
      "\n",
      "#From the geometry of the tube bundle, we see that the minimum flow\n",
      "#area is between adjacent tubes in a row and that this area is half\n",
      "#the frontal area of the tube bundle. Thus,\n",
      "#Velocity in m/s\n",
      "Umax = 2*v;\n",
      "\n",
      "#Reynolds number\n",
      "Re = (Umax*D)/nu;\n",
      "\n",
      "#Since ST/SL\u0005<\u00072, we use Eq. (7.30)\n",
      "\n",
      "#Nusselt number\n",
      "Nu = ((0.35*((ST/SL)**0.2))*(Re**0.6))*(Pr**0.36);\n",
      "\n",
      "#Heat transfer coefficient in W/m2K\n",
      "h = (Nu*k)/D;\n",
      "\n",
      "#Since there are fewer than 10 rows, the correlation factor in Table 7.3 gives\n",
      "print \"Heat transfer coefficient in W/m2K\"\n",
      "#Heat transfer coefficient in W/m2K\n",
      "h = 0.92*h\n",
      "print round(h)\n",
      "\n",
      "#Tube-bundle pressure drop is given by Eq. (7.37). The insert in Fig. (7.26) gives the correction factor x.\n",
      "\n",
      "print \"Corresponding pressure drop in N/m2\"\n",
      "#Corresponding pressure drop in N/m2\n",
      "P = ((((5*0.25)*rho)*Umax)*Umax)/2\n",
      "print round(P)\n"
     ],
     "language": "python",
     "metadata": {},
     "outputs": [
      {
       "output_type": "stream",
       "stream": "stdout",
       "text": [
        "Principles of Heat Transfer, 7th Ed. Frank Kreith et. al Chapter - 7 Example # 7.6 \n",
        "Heat transfer coefficient in W/m2K\n",
        "165.0\n",
        "Corresponding pressure drop in N/m2\n",
        "167.0\n"
       ]
      }
     ],
     "prompt_number": 16
    },
    {
     "cell_type": "heading",
     "level": 2,
     "metadata": {},
     "source": [
      "Ex7.7: Page 465"
     ]
    },
    {
     "cell_type": "code",
     "collapsed": false,
     "input": [
      "\n",
      "print \"Principles of Heat Transfer, 7th Ed. Frank Kreith et. al Chapter - 7 Example # 7.7 \"\n",
      "\n",
      "\n",
      "#Temperature of jet in degree C\n",
      "T = 20;\n",
      "#Thermal conductivity in W/mK\n",
      "k = 0.597;\n",
      "#Dynamic vismath.cosity in Ns/m2\n",
      "mu = 0.000993;\n",
      "#Prandtl number\n",
      "Pr = 7;\n",
      "#Mass flow rate in kg/s\n",
      "m = 0.008;\n",
      "#Diameter of jet in m\n",
      "d = 6/1000.0;\n",
      "#Total heat flux in W/m2\n",
      "q = 70000.0;\n",
      "\n",
      "#Reynolds number\n",
      "Re = (4*m)/((math.pi*d)*mu);\n",
      "\n",
      "print \"For r=3mm\"\n",
      "#From Eq. (7.45)\n",
      "#Heat transfer coefficient in W/m2K\n",
      "h = (63*k)/d;\n",
      "print \"Surface temperature at r=3mm in degree C is\"\n",
      "#Surface temperature in degree C\n",
      "Ts = T+q/h\n",
      "print round(Ts,1)\n",
      "\n",
      "print \"For r=12mm\"\n",
      "#From Eq. (7.48)\n",
      "#Heat transfer coefficient in W/m2K\n",
      "h = (35.3*k)/d;\n",
      "print \"Surface temperature at r=12mm in degree C is\"\n",
      "#Surface temperature in degree C\n",
      "Ts = T+q/h\n",
      "print round(Ts,1)\n"
     ],
     "language": "python",
     "metadata": {},
     "outputs": [
      {
       "output_type": "stream",
       "stream": "stdout",
       "text": [
        "Principles of Heat Transfer, 7th Ed. Frank Kreith et. al Chapter - 7 Example # 7.7 \n",
        "For r=3mm\n",
        "Surface temperature at r=3mm in degree C is\n",
        "31.2\n",
        "For r=12mm\n",
        "Surface temperature at r=12mm in degree C is\n",
        "39.9\n"
       ]
      }
     ],
     "prompt_number": 19
    },
    {
     "cell_type": "heading",
     "level": 2,
     "metadata": {},
     "source": [
      "Ex7.8: Page 470"
     ]
    },
    {
     "cell_type": "code",
     "collapsed": false,
     "input": [
      "\n",
      "print \"Principles of Heat Transfer, 7th Ed. Frank Kreith et. al Chapter - 7 Example # 7.8 \"\n",
      "\n",
      "#Temperature of plate in degree C\n",
      "Tplate = 60;\n",
      "#Temperature of jet in degree C\n",
      "T = 20;\n",
      "#Thermal conductivity in W/mK\n",
      "k = 0.0265;\n",
      "#Dynamic vismath.cosity in Ns/m2\n",
      "mu = 0.00001912;\n",
      "#Prandtl number\n",
      "Pr = 0.71;\n",
      "#Density in kg/m3\n",
      "rho = 1.092;\n",
      "#Mass flow rate in kg/s\n",
      "m = 0.008;\n",
      "#Width of jet in m\n",
      "w = 3/1000.0;\n",
      "#Length of jet in m\n",
      "l = 20/1000.0;\n",
      "#Velocity of jet in m/s\n",
      "v = 10.0;\n",
      "#Exit distance in m\n",
      "z = 0.01;\n",
      "#Width given for plate in m\n",
      "L = 0.04;\n",
      "#Reynolds number\n",
      "Re = ((rho*v)*w)/mu;\n",
      "\n",
      "#From Eq. (7.68) with x\u0005= 0.02 m, z =\u00050.01 m, and w\u0005= 0.003 m\n",
      "#Nusselt number\n",
      "Nu = 11.2;\n",
      "# ! L.33: mtlb(d) can be replaced by d() or d whether d is an M-file or not.\n",
      "#Heat transfer coefficient in W/m2K\n",
      "h = (Nu*k)/w;\n",
      "\n",
      "print \"Heat transfer rate from the plate in W is\"\n",
      "#Heat transfer rate from the plate in W\n",
      "q = ((h*L)*l)*(Tplate-T)\n",
      "print round(q,1)\n"
     ],
     "language": "python",
     "metadata": {},
     "outputs": [
      {
       "output_type": "stream",
       "stream": "stdout",
       "text": [
        "Principles of Heat Transfer, 7th Ed. Frank Kreith et. al Chapter - 7 Example # 7.8 \n",
        "Heat transfer rate from the plate in W is\n",
        "3.2\n"
       ]
      }
     ],
     "prompt_number": 22
    }
   ],
   "metadata": {}
  }
 ]
}