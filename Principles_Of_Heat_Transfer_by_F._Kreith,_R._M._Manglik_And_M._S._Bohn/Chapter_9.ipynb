{
 "metadata": {
  "name": "",
  "signature": "sha256:7dfa4acee6b7891eb5781d524c3fac37db5d2c104afc2e1d30e10ae32b280459"
 },
 "nbformat": 3,
 "nbformat_minor": 0,
 "worksheets": [
  {
   "cells": [
    {
     "cell_type": "heading",
     "level": 1,
     "metadata": {},
     "source": [
      "Chapter 9: Heat Transfer by Radiation"
     ]
    },
    {
     "cell_type": "heading",
     "level": 2,
     "metadata": {},
     "source": [
      "Ex9.1: Page 547"
     ]
    },
    {
     "cell_type": "code",
     "collapsed": false,
     "input": [
      "\n",
      "print \"Principles of Heat transfer, Seventh Edition, Frank Kreith, Raj M Manglik and Mark S Bohn, Chapter 9, Example 1\"\n",
      "#Temperature of the tungsten filament in Kelvin\n",
      "T=1400;\n",
      "\n",
      "print \"a)Wavelength at which the monochromatic emissive power of the given tungsten filament is maximum in meters\"\n",
      "#Wavelength in m\n",
      "lamda_max=2.898e-3/T\n",
      "print  \"{:.2e}\".format(lamda_max)\n",
      "\n",
      "print \"b)Monochromatic emissive power at calculated maximum wavelength in W/m**3\"\n",
      "#Emissive power in W/m3\n",
      "Eb_max=12.87e-6*(T**5)\n",
      "print  \"{:.2e}\".format(Eb_max)\n",
      "#Given wavelength in meters\n",
      "lamda=5e-6;\n",
      "#Product of wavelength and temperature in m-K\n",
      "lamda_T=lamda*T;\n",
      "\n",
      "print \"c)Monochromatic emissive power at given wavelength in W/m**3\"\n",
      "#Emissive power in W/m3\n",
      "Eb_lamda=Eb_max*(2.898e-3/(lamda_T))**5*(((math.e**4.965)-1)/((math.e**(0.014388/lamda_T)-1)))\n",
      "print \"{:.2e}\".format(Eb_lamda)\n",
      "print \"Thus ,Monochromatic emissive power at 5e-6 m wavelength is 25.4% of the Monochromatic emissive power at maximum wavelength\"\n",
      "\n"
     ],
     "language": "python",
     "metadata": {},
     "outputs": [
      {
       "output_type": "stream",
       "stream": "stdout",
       "text": [
        "Principles of Heat transfer, Seventh Edition, Frank Kreith, Raj M Manglik and Mark S Bohn, Chapter 9, Example 1\n",
        "a)Wavelength at which the monochromatic emissive power of the given tungsten filament is maximum in meters\n",
        "2.07e-06\n",
        "b)Monochromatic emissive power at calculated maximum wavelength in W/m**3\n",
        "6.92e+10\n",
        "c)Monochromatic emissive power at given wavelength in W/m**3\n",
        "1.76e+10\n",
        "Thus ,Monochromatic emissive power at 5e-6 m wavelength is 25.4% of the Monochromatic emissive power at maximum wavelength\n"
       ]
      }
     ],
     "prompt_number": 8
    },
    {
     "cell_type": "heading",
     "level": 2,
     "metadata": {},
     "source": [
      "Ex9.2: Page 549"
     ]
    },
    {
     "cell_type": "code",
     "collapsed": false,
     "input": [
      "\n",
      "print \"Principles of Heat transfer, Seventh Edition, Frank Kreith, Raj M Manglik and Mark S Bohn, Chapter 9, Example 2\"\n",
      "#Temperature at which sun is radiating as a blackbody in K\n",
      "T=5800;\n",
      "\n",
      "#Lower limit of wavelength for which glass is transparent in microns\n",
      "lamda_l=0.35;\n",
      "#lower limit of product of wavelength and temperature in micron-K\n",
      "lamda_l_T=lamda_l*T;\n",
      "#Lower limit of wavelength for which glass is transparent in microns\n",
      "lamda_u=2.7;\n",
      "#lower limit of product of wavelength and temperature in micron-K\n",
      "lamda_u_T=lamda_u*T;\n",
      "\n",
      "# For lamda_T= 2030, ratio of blackbody emission between zero and lamda_l to the total emission in terms of percentage\n",
      "r_l=6.7;\n",
      "# For lamda_T= 15660, ratio of blackbody emission between zero and lamda_u to the total emission in terms of percentage\n",
      "r_u=97;\n",
      "\n",
      "#Total radiant energy incident upon the glass from the sun in the wavelength range between lamda_l and lamda_u\n",
      "total_rad=r_u-r_l;\n",
      "print \"Percentage of solar radiation transmitted through the glass in terms of percentage\"\n",
      "rad_trans=total_rad*0.92    #Since it is given that silica glass transmits 92% of the incident radiation\n",
      "print round(rad_trans,1)\n"
     ],
     "language": "python",
     "metadata": {},
     "outputs": [
      {
       "output_type": "stream",
       "stream": "stdout",
       "text": [
        "Principles of Heat transfer, Seventh Edition, Frank Kreith, Raj M Manglik and Mark S Bohn, Chapter 9, Example 2\n",
        "Percentage of solar radiation transmitted through the glass in terms of percentage\n",
        "83.1\n"
       ]
      }
     ],
     "prompt_number": 10
    },
    {
     "cell_type": "heading",
     "level": 2,
     "metadata": {},
     "source": [
      "Ex9.3: Page 552"
     ]
    },
    {
     "cell_type": "code",
     "collapsed": false,
     "input": [
      "print \"Principles of Heat transfer, Seventh Edition, Frank Kreith, Raj M Manglik and Mark S Bohn, Chapter 9, Example 3\"\n",
      "#Area of the flat black surface in m**2\n",
      "A_1=10e-4;\n",
      "#Radiation emitted by the flat black surface in W/m** sr\n",
      "I_1=1000;\n",
      "# Another surface having same area as A1 is placed relative to A1 such that length of radiation ray connecting dA_1 and dA_2 in meters\n",
      "r=0.5;\n",
      "#Area in m**2\n",
      "A_2=10e-4;\n",
      "# Since both areas are quite small, they can be approximated as differential surface areas and the solid angle can be calculated as\n",
      "#d_omega21=dA_n2/r**2 where dA_n2 is the projection of A2 in the direction normal to the incident radiation for dA_1,thus\n",
      "\n",
      "#Angle between the normal n_2 ant the radiation ray connecting dA_1 and dA_2\n",
      "theta_2=30;\n",
      "\n",
      "#Therefore solid angle in sr\n",
      "d_omega21=(A_2*math.cos(theta_2*math.pi/180)/(r**2));\n",
      "\n",
      "print \"Irradiation of A_2 by A_1 in watt\"\n",
      "#Irradiation in W\n",
      "q_r12= I_1*A_1*math.cos(90*math.pi/180-theta_2*math.pi/180)*d_omega21\n",
      "print round(q_r12,5)\n"
     ],
     "language": "python",
     "metadata": {},
     "outputs": [
      {
       "output_type": "stream",
       "stream": "stdout",
       "text": [
        "Principles of Heat transfer, Seventh Edition, Frank Kreith, Raj M Manglik and Mark S Bohn, Chapter 9, Example 3\n",
        "Irradiation of A_2 by A_1 in watt\n",
        "0.00173\n"
       ]
      }
     ],
     "prompt_number": 23
    },
    {
     "cell_type": "heading",
     "level": 2,
     "metadata": {},
     "source": [
      "Ex9.4: Page 559"
     ]
    },
    {
     "cell_type": "code",
     "collapsed": false,
     "input": [
      "\n",
      "print \"Principles of Heat transfer, Seventh Edition, Frank Kreith, Raj M Manglik and Mark S Bohn, Chapter 9, Example 4\"\n",
      "#Hemispherical emissivity of an aluminum paint at wavelengths below 3 microns\n",
      "epsilon_lamda_1=0.4;\n",
      "#Hemispherical emissivity of an aluminum paint at longer wavelengths\n",
      "epsilon_lamda_2=0.8;\n",
      "#At room temperature 27 degree celcius, product of lamda and T in micron-K\n",
      "lamda_T_1=3*(27+273);\n",
      "#At elevated temperature 527 degree celcius, product of lamda and T  in micron-K\n",
      "lamda_T_2=3*(527+273);\n",
      "#From Table 9.1\n",
      "# For lamda_T_1, ratio of blackbody emission between zero and lamda_l to the total emission\n",
      "r_1=0.00016;\n",
      "# For lamda_T_2, ratio of blackbody emission between zero and lamda_u to the total emission\n",
      "r_2=0.14;\n",
      "print \"Thus, the emissivity at 27\u00b0C\"\n",
      "#Emissivity\n",
      "epsilon=0.8\n",
      "print epsilon\n",
      "print \"emissivity at 527\u00b0C\"\n",
      "#Emissivity at higher temp.\n",
      "epsilon=(r_2*epsilon_lamda_1)+(epsilon_lamda_2*0.86)\n",
      "print epsilon\n",
      "print \"The reason for the difference in the total emissivity is that at the higher temperature,the percentage of the total emissive power in the low-emittance region of the paint is appreciable, while at the lower temperature practically all the radiation is emittedat wavelengths above 3 microns\"\n"
     ],
     "language": "python",
     "metadata": {},
     "outputs": [
      {
       "output_type": "stream",
       "stream": "stdout",
       "text": [
        "Principles of Heat transfer, Seventh Edition, Frank Kreith, Raj M Manglik and Mark S Bohn, Chapter 9, Example 4\n",
        "Thus, the emissivity at 27\u00b0C\n",
        "0.8\n",
        "emissivity at 527\u00b0C\n",
        "0.744\n",
        "The reason for the difference in the total emissivity is that at the higher temperature,the percentage of the total emissive power in the low-emittance region of the paint is appreciable, while at the lower temperature practically all the radiation is emittedat wavelengths above 3 microns\n"
       ]
      }
     ],
     "prompt_number": 24
    },
    {
     "cell_type": "heading",
     "level": 2,
     "metadata": {},
     "source": [
      "Ex9.5: Page 560"
     ]
    },
    {
     "cell_type": "code",
     "collapsed": false,
     "input": [
      "\n",
      "print \"Principles of Heat transfer, Seventh Edition, Frank Kreith, Raj M Manglik and Mark S Bohn, Chapter 9, Example 5\"\n",
      "#Temperature of the sun in K\n",
      "T=5800;\n",
      "#For the case of Solar irradiation, value of the product of lamda and T in micron-K\n",
      "lamda_T_1=3*T;# value of lamda is taken from Example 9.4\n",
      "#From table 9.1\n",
      "# For lamda_T_1, ratio of blackbody emission between zero and lamda_l to the total emission\n",
      "r_1=0.98;\n",
      "#This means that 98% of the solar radiation falls below 3 microns\n",
      "#Hemispherical emissivity of an aluminum paint at wavelengths below 3 microns\n",
      "epsilon_lamda_1=0.4;\n",
      "#Hemispherical emissivity of an aluminum paint at longer wavelengths\n",
      "epsilon_lamda_2=0.8;\n",
      "print \"Effective absorptivity for first case\"\n",
      "#Effective absorptivity\n",
      "alpha_1=(r_1*epsilon_lamda_1)+(epsilon_lamda_2*0.02)\n",
      "print round(alpha_1,3)\n",
      "#For the case second with source at 800 K, value of the product of lamda and T in micron-K\n",
      "lamda_T_2=3*800;\n",
      "# For lamda_T_2, ratio of blackbody emission between zero and lamda_l to the total emission\n",
      "r_2=0.14;\n",
      "print \"Effective absorptivity for second case\"\n",
      "#Effective absorptivity\n",
      "alpha_2=(r_2*epsilon_lamda_1)+(epsilon_lamda_2*0.86)\n",
      "print round(alpha_2,3)\n"
     ],
     "language": "python",
     "metadata": {},
     "outputs": [
      {
       "output_type": "stream",
       "stream": "stdout",
       "text": [
        "Principles of Heat transfer, Seventh Edition, Frank Kreith, Raj M Manglik and Mark S Bohn, Chapter 9, Example 5\n",
        "Effective absorptivity for first case\n",
        "0.408\n",
        "Effective absorptivity for second case\n",
        "0.744\n"
       ]
      }
     ],
     "prompt_number": 26
    },
    {
     "cell_type": "heading",
     "level": 2,
     "metadata": {},
     "source": [
      "Ex9.6: Page 562"
     ]
    },
    {
     "cell_type": "code",
     "collapsed": false,
     "input": [
      "print \"Principles of Heat transfer, Seventh Edition, Frank Kreith, Raj M Manglik and Mark S Bohn, Chapter 9, Example 6\"\n",
      "#Stefan\u2013Boltzmann constant in W/m**2 K**4\n",
      "sigma=5.67e-8;\n",
      "#Temperature of the painted surface in K\n",
      "T=1000;\n",
      "#Temperature of the sun in K\n",
      "T_s=5800;\n",
      "#Given, below 2 microns the emissivity  of the surface is 0.3,so\n",
      "lamda_1=2; #wavelength in microns\n",
      "epsilon_1=0.3; #emissivity\n",
      "\n",
      "#Given, between 2 and 4 microns emmisivity is 0.9,so\n",
      "lamda_2=4;#wavelength in microns\n",
      "epsilon_2=0.9;#emissivity\n",
      "\n",
      "#Given, above 4 microns emmisivity is 0.5, so\n",
      "epsilon_3=0.5;#emissivity\n",
      "\n",
      "#value of the product of lamda_1 and T in micron-K\n",
      "lamda_1_T=2e-3*T;\n",
      "\n",
      "#From table 9.1\n",
      "# For lamda_1_T, ratio of blackbody emission between zero and lamda_l to the total emission\n",
      "r_1=0.0667; #1st ratio\n",
      "\n",
      "#value of the product of lamda_2 and T in micron-K\n",
      "lamda_2_T=2e-3*T;\n",
      "#From table 9.1\n",
      "# For lamda_2_T, ratio of blackbody emission between zero and lamda_l to the total emission\n",
      "r_2=0.4809; #2nd ratio\n",
      "\n",
      "print \"a)Effective emissivity over the entire spectrum\"\n",
      "#Effective emissivity\n",
      "epsilon_bar=epsilon_1*r_1+epsilon_2*(r_2-r_1)+epsilon_3*(1-r_2)\n",
      "print round(epsilon_bar,4)\n",
      "\n",
      "print \"b)Emissive power in W/m**2\"\n",
      "#Emissive power in W/m**2\n",
      "E=epsilon_bar*sigma*T**4\n",
      "print \"{:.1e}\".format(E)\n",
      "\n",
      "#value of the product of lamda_1 and T_s in micron-K\n",
      "lamda_1_T_s=2e-3*T_s;\n",
      "#From table 9.1\n",
      "# For lamda_1_T_s, ratio of blackbody emission between zero and lamda_l to the total emission\n",
      "r_1_s=0.941;\n",
      "#value of the product of lamda_2 and T_s in micron-K\n",
      "lamda_2_T_s=2e-3*T_s;\n",
      "#From table 9.1\n",
      "# For lamda_2_T_s, ratio of blackbody emission between zero and lamda_l to the total emission\n",
      "r_2_s=0.99;\n",
      "print \"c) Average solar absorptivity\"\n",
      "#Average solar absorptivity\n",
      "alpha_s=epsilon_1*r_1_s+epsilon_2*(r_2_s-r_1_s)+epsilon_3*(1-r_2_s)\n",
      "print round(alpha_s,3)\n",
      "\n",
      "# the answer in textbook is slightly different due to approximation"
     ],
     "language": "python",
     "metadata": {},
     "outputs": [
      {
       "output_type": "stream",
       "stream": "stdout",
       "text": [
        "Principles of Heat transfer, Seventh Edition, Frank Kreith, Raj M Manglik and Mark S Bohn, Chapter 9, Example 6\n",
        "a)Effective emissivity over the entire spectrum\n",
        "0.6523\n",
        "b)Emissive power in W/m**2\n",
        "3.7e+04\n",
        "c) Average solar absorptivity\n",
        "0.331\n"
       ]
      }
     ],
     "prompt_number": 29
    },
    {
     "cell_type": "heading",
     "level": 2,
     "metadata": {},
     "source": [
      "Ex9.7: Page 569"
     ]
    },
    {
     "cell_type": "code",
     "collapsed": false,
     "input": [
      "print \"Principles of Heat transfer, Seventh Edition, Frank Kreith, Raj M Manglik and Mark S Bohn, Chapter 9, Example 7\"\n",
      "#Temperature of the oxidised surface in Kelvin\n",
      "T=1800;\n",
      "#Area of the oxidised surface in m**2\n",
      "A=5e-3;\n",
      "#Stefan\u2013Boltzmann constant in W/m**2 K**4\n",
      "sigma=5.67e-8;\n",
      "print \"a)Emissivity perpendicular to the surface\"\n",
      "#Emissivity\n",
      "epsilon_zero=0.70*math.cos(0)\n",
      "print round(epsilon_zero,3)\n",
      "print \"b)Hemispherical emissivity\"\n",
      "#Hemispherical emissivity\n",
      "epsilon_bar=((-1.4)/3)*((math.cos(90*math.pi/180))**3-(math.cos(0))**3)\n",
      "print round(epsilon_bar,3)\n",
      "print \"c)Emissive Power in Watt\"\n",
      "#Emissive Power in W\n",
      "E=epsilon_bar*A*sigma*T**4\n",
      "print round(E,3)\n",
      "\n",
      "# the answer in textbook is slightly different due to approximation"
     ],
     "language": "python",
     "metadata": {},
     "outputs": [
      {
       "output_type": "stream",
       "stream": "stdout",
       "text": [
        "Principles of Heat transfer, Seventh Edition, Frank Kreith, Raj M Manglik and Mark S Bohn, Chapter 9, Example 7\n",
        "a)Emissivity perpendicular to the surface\n",
        "0.7\n",
        "b)Hemispherical emissivity\n",
        "0.467\n",
        "c)Emissive Power in Watt\n",
        "1388.832\n"
       ]
      }
     ],
     "prompt_number": 31
    },
    {
     "cell_type": "heading",
     "level": 2,
     "metadata": {},
     "source": [
      "Ex9.8: Page 574"
     ]
    },
    {
     "cell_type": "code",
     "collapsed": false,
     "input": [
      "print \"Principles of Heat transfer, Seventh Edition, Frank Kreith, Raj M Manglik and Mark S Bohn, Chapter 9, Example 8\"\n",
      "\n",
      "# Theoretical Proof\n",
      "print \"The given example is theoretical and does not involve any numerical computation\"\n",
      "\n"
     ],
     "language": "python",
     "metadata": {},
     "outputs": [
      {
       "output_type": "stream",
       "stream": "stdout",
       "text": [
        "Principles of Heat transfer, Seventh Edition, Frank Kreith, Raj M Manglik and Mark S Bohn, Chapter 9, Example 8\n",
        "The given example is theoretical and does not involve any numerical computation\n"
       ]
      }
     ],
     "prompt_number": 34
    },
    {
     "cell_type": "heading",
     "level": 2,
     "metadata": {},
     "source": [
      "Ex9.9: Page 578"
     ]
    },
    {
     "cell_type": "code",
     "collapsed": false,
     "input": [
      "print \"Principles of Heat transfer, Seventh Edition, Frank Kreith, Raj M Manglik and Mark S Bohn, Chapter 9, Example 9\"\n",
      "#Window arrangement consists of a long opening with dimensions\n",
      "#Height in meters\n",
      "h=1;\n",
      "#Length in meters\n",
      "l=5;\n",
      "#width of table in meters\n",
      "w=2;\n",
      "#Assuming that window and table are sufficiently long and applying crossed string method, we get\n",
      "#Distance ab in m\n",
      "ab=0;\n",
      "#Distance cb in m\n",
      "cb=w;\n",
      "#Distance ad in m\n",
      "ad=h;\n",
      "#Distance cd in m\n",
      "cd=math.sqrt(l);\n",
      "\n",
      "print \"Shape factor between the window and the table\"\n",
      "#Shape factor between the window and the table\n",
      "F_12=0.5*(ad+cb-cd)\n",
      "print round(F_12,4)\n"
     ],
     "language": "python",
     "metadata": {},
     "outputs": [
      {
       "output_type": "stream",
       "stream": "stdout",
       "text": [
        "Principles of Heat transfer, Seventh Edition, Frank Kreith, Raj M Manglik and Mark S Bohn, Chapter 9, Example 9\n",
        "Shape factor between the window and the table\n",
        "0.382\n"
       ]
      }
     ],
     "prompt_number": 33
    },
    {
     "cell_type": "heading",
     "level": 2,
     "metadata": {},
     "source": [
      "Ex9.10: Page 580"
     ]
    },
    {
     "cell_type": "code",
     "collapsed": false,
     "input": [
      "\n",
      "\n",
      "print \"Principles of Heat transfer, Seventh Edition, Frank Kreith, Raj M Manglik and Mark S Bohn, Chapter 9, Example 10\"\n",
      "#Window area in ft**2\n",
      "A1=6*20;\n",
      "#Second area in ft**2\n",
      "A2=4*20;\n",
      "#Assuming A5=A1+A2\n",
      "#Area in ft**2\n",
      "A5=A1+A2;\n",
      "\n",
      "#From Fig. 9.27\n",
      "#Shape Factors required\n",
      "F56=0.19;\n",
      "F26=0.32;\n",
      "F53=0.08;\n",
      "F23=0.19;\n",
      "\n",
      "print \"Shape factor\"\n",
      "#Shape factor\n",
      "F14=(A5*F56-A2*F26-A5*F53+A2*F23)/A1\n",
      "print round(F14,3)\n",
      "\n",
      "print \"Thus,only about 10% of the light pasmath.sing through the window will impinge on the floor area A4\"\n"
     ],
     "language": "python",
     "metadata": {},
     "outputs": [
      {
       "output_type": "stream",
       "stream": "stdout",
       "text": [
        "Principles of Heat transfer, Seventh Edition, Frank Kreith, Raj M Manglik and Mark S Bohn, Chapter 9, Example 10\n",
        "Shape factor\n",
        "0.097\n",
        "Thus,only about 10% of the light pasmath.sing through the window will impinge on the floor area A4\n"
       ]
      }
     ],
     "prompt_number": 37
    },
    {
     "cell_type": "heading",
     "level": 2,
     "metadata": {},
     "source": [
      "Ex9.11: Page 590"
     ]
    },
    {
     "cell_type": "code",
     "collapsed": false,
     "input": [
      "\n",
      "print \"Principles of Heat Transfer, 7th Ed. Frank Kreith et. al Chapter - 9 Example # 9.11 \"\n",
      "\n",
      "#Absolute boiling temperature of liquid oxygen in R\n",
      "T1 = 460-297.0;\n",
      "#Absolute temperature of sphere in R\n",
      "T2 = 460+30;\n",
      "#Diameter of inner sphere in ft\n",
      "D1 = 1;\n",
      "#Area of inner sphere in ft2\n",
      "A1 = (math.pi*D1)*D1;\n",
      "#Diameter of outer sphere in ft\n",
      "D2 = 1.5;\n",
      "#Area of outer sphere in ft2\n",
      "A2 = (math.pi*D2)*D2;\n",
      "#Stefans constant\n",
      "sigma = 0.1714;\n",
      "#Emissivity of Aluminium\n",
      "epsilon1 = 0.03;#Sphere1\n",
      "epsilon2 = 0.03;#Sphere2\n",
      "\n",
      "#Umath.sing Eq. 9.74\n",
      "print \"Rate of heat flow by radiation to the oxygen in Btu/h is\"\n",
      "#Rate of heat flow by radiation to the oxygen in Btu/h\n",
      "q = ((A1*sigma)*((T1/100.0)**4-(T2/100.0)**4))/(1/epsilon1+(A1/A2)*((1-epsilon2)/epsilon2))\n",
      "print round(q,1)\n"
     ],
     "language": "python",
     "metadata": {},
     "outputs": [
      {
       "output_type": "stream",
       "stream": "stdout",
       "text": [
        "Principles of Heat Transfer, 7th Ed. Frank Kreith et. al Chapter - 9 Example # 9.11 \n",
        "Rate of heat flow by radiation to the oxygen in Btu/h is\n",
        "-6.4\n"
       ]
      }
     ],
     "prompt_number": 40
    },
    {
     "cell_type": "heading",
     "level": 2,
     "metadata": {},
     "source": [
      "Ex9.12: Page 594"
     ]
    },
    {
     "cell_type": "code",
     "collapsed": false,
     "input": [
      " \n",
      "print \"Principles of Heat Transfer, 7th Ed. Frank Kreith et. al Chapter - 9 Example # 9.12 \"\n",
      "\n",
      "\n",
      "# As the example involves no calculations and the code for matlab is already given in the textbook thus following the guidelines this exapmle is to be skipped\n"
     ],
     "language": "python",
     "metadata": {},
     "outputs": [
      {
       "output_type": "stream",
       "stream": "stdout",
       "text": [
        "Principles of Heat Transfer, 7th Ed. Frank Kreith et. al Chapter - 9 Example # 9.12 \n"
       ]
      }
     ],
     "prompt_number": 28
    },
    {
     "cell_type": "heading",
     "level": 2,
     "metadata": {},
     "source": [
      "Ex9.13: Page 597"
     ]
    },
    {
     "cell_type": "code",
     "collapsed": false,
     "input": [
      " \n",
      "print \"Principles of Heat Transfer, 7th Ed. Frank Kreith et. al Chapter - 9 Example # 9.13 \"\n",
      "\n",
      "\n",
      "# As the example involves no calculations and the code for matlab is already given in the textbook thus following the guidelines this exapmle is to be skipped\n",
      "\n"
     ],
     "language": "python",
     "metadata": {},
     "outputs": [
      {
       "output_type": "stream",
       "stream": "stdout",
       "text": [
        "Principles of Heat Transfer, 7th Ed. Frank Kreith et. al Chapter - 9 Example # 9.13 \n"
       ]
      }
     ],
     "prompt_number": 29
    },
    {
     "cell_type": "heading",
     "level": 2,
     "metadata": {},
     "source": [
      "Ex9.14: Page 598"
     ]
    },
    {
     "cell_type": "code",
     "collapsed": false,
     "input": [
      " \n",
      "print \"Principles of Heat Transfer, 7th Ed. Frank Kreith et. al Chapter - 9 Example # 9.14 \"\n",
      "\n",
      "#Absolute temperature of first plate in degree R\n",
      "Ta = 2040+460.0;\n",
      "#Absolute temperature of second plate in degree R\n",
      "Tb = 540+460.0;\n",
      "#Stefans constant\n",
      "sigma = 0.1718;\n",
      "\n",
      "#For first radiation band, heat transfer is calculated\n",
      "#Emissivity of A\n",
      "epsilonA = 0.1;\n",
      "#Emissivity of B\n",
      "epsilonB = 0.9;\n",
      "#Shape factor\n",
      "Fab = 1/(1/epsilonA+1/epsilonB-1);\n",
      "#The percentage of the total radiation within a given band is obtained from Table 9.1.\n",
      "#Coefficients of T**4\n",
      "A = 0.375;\n",
      "#Coefficients of T**4\n",
      "B = 0.004;\n",
      "\n",
      "#Rate of heat transfer in first band in Btu/h ft2\n",
      "q1 = (Fab*sigma)*(A*((Ta/100.0)**4)-B*((Tb/100.0)**4));\n",
      "\n",
      "#Similarly for other two bands, heat transfer in Btu/h ft2\n",
      "q2 = 23000;\n",
      "#heat transfer in Btu/h ft2\n",
      "q3 = 1240;\n",
      "\n",
      "print \"Total rate of radiation heat transfer in Btu/h ft2\"\n",
      "#heat transfer in Btu/h ft2\n",
      "q = q1+q2+q3\n",
      "print round(q)\n",
      " # The answer is slightly different in textbook due to approximation\n"
     ],
     "language": "python",
     "metadata": {},
     "outputs": [
      {
       "output_type": "stream",
       "stream": "stdout",
       "text": [
        "Principles of Heat Transfer, 7th Ed. Frank Kreith et. al Chapter - 9 Example # 9.14 \n",
        "Total rate of radiation heat transfer in Btu/h ft2\n",
        "26728.0\n"
       ]
      }
     ],
     "prompt_number": 16
    },
    {
     "cell_type": "heading",
     "level": 2,
     "metadata": {},
     "source": [
      "Ex9.15: Page 608"
     ]
    },
    {
     "cell_type": "code",
     "collapsed": false,
     "input": [
      "\n",
      "print \"Principles of Heat Transfer, 7th Ed. Frank Kreith et. al Chapter - 9 Example # 9.15 \"\n",
      "\n",
      "#Temperature in degree K\n",
      "T = 800;\n",
      "#Diameter of sphere in m\n",
      "D = 0.4;\n",
      "#Partial pressure of nitrogen in atm\n",
      "PN2 = 1;\n",
      "#Partial pressure of H2O in atm\n",
      "PH2O = 0.4;\n",
      "#Partial pressure of CO2 in atm\n",
      "PCO2 = 0.6;\n",
      "\n",
      "#The mean beam length for a spherical mass of gas is obtained from Table 9.7\n",
      "#Beam length in m\n",
      "L = (2/3)*D;\n",
      "\n",
      "#The emissivities are given in Figs. 9.46 and 9.47\n",
      "#Emissivity of H2O\n",
      "epsilonH2O = 0.15;\n",
      "#Emissivity of CO2\n",
      "epsilonCO2 = 0.125;\n",
      "\n",
      "#N2 does not radiate appreciably at 800 K, but math.since the total gas pressure\n",
      "#is 2 atm, we must correct the 1-atm values for epsilon.\n",
      "#From Figs. 9.48 and 9.49 the pressure correction factors are\n",
      "#Pressure correction factor for H2O\n",
      "CH2O = 1.62;\n",
      "#Pressure correction factor for CO2\n",
      "CCO2 = 1.12;\n",
      "\n",
      "#From fig. 9.50\n",
      "#Chnage in emissivity\n",
      "deltaEpsilon = 0.014;\n",
      "\n",
      "#Finally, the emissivity of the mixture can be obtained from Eq. (9.114):\n",
      "print \"Emissivity of the mixture is\"\n",
      "#Emissivity of the mixture\n",
      "epsilonMix = CH2O*epsilonH2O+CCO2*epsilonCO2-deltaEpsilon\n",
      "print round(epsilonMix,3)\n",
      "\n"
     ],
     "language": "python",
     "metadata": {},
     "outputs": [
      {
       "output_type": "stream",
       "stream": "stdout",
       "text": [
        "Principles of Heat Transfer, 7th Ed. Frank Kreith et. al Chapter - 9 Example # 9.15 \n",
        "Emissivity of the mixture is\n",
        "0.369\n"
       ]
      }
     ],
     "prompt_number": 13
    },
    {
     "cell_type": "heading",
     "level": 2,
     "metadata": {},
     "source": [
      "Ex9.16: Page 609"
     ]
    },
    {
     "cell_type": "code",
     "collapsed": false,
     "input": [
      "\n",
      "print \"Principles of Heat Transfer, 7th Ed. Frank Kreith et. al Chapter - 9 Example # 9.16 \"\n",
      "\n",
      "#Total pressure in atm\n",
      "Pt = 2;\n",
      "#Temperature in degree K\n",
      "TH2O = 500.0;\n",
      "#Mean beam length in m\n",
      "L = 0.75;\n",
      "#Partial pressure of water vapor in atm\n",
      "PH2O = 0.4;\n",
      "#Source temperature in degree K\n",
      "Ts = 1000.0;\n",
      "\n",
      "#Since nitrogen is transparent, the absorption in the mixture is due to the water vapor alone.\n",
      "\n",
      "#Parameters required\n",
      "#A Parameter in atm-m\n",
      "A = PH2O*L;\n",
      "#B Parameter in atm\n",
      "B = (Pt+PH2O)/2.0;\n",
      "\n",
      "#From Figs. 9.46 and 9.48 we find\n",
      "#For water, C factor in SI units\n",
      "CH2O = 1.4;\n",
      "#Emissivity of water\n",
      "epsilonH2O = 0.29;\n",
      "\n",
      "\n",
      "#From Eq. (9.115) the absorptivity of H2O is\n",
      "print \"Absorptivity of H2O is\"\n",
      "alphaH2O = (CH2O*epsilonH2O)*((TH2O/Ts)**0.45)\n",
      "print round(alphaH2O,2)"
     ],
     "language": "python",
     "metadata": {},
     "outputs": [
      {
       "output_type": "stream",
       "stream": "stdout",
       "text": [
        "Principles of Heat Transfer, 7th Ed. Frank Kreith et. al Chapter - 9 Example # 9.16 \n",
        "Absorptivity of H2O is\n",
        "0.3\n"
       ]
      }
     ],
     "prompt_number": 11
    },
    {
     "cell_type": "heading",
     "level": 2,
     "metadata": {},
     "source": [
      "Ex9.17: Page 609"
     ]
    },
    {
     "cell_type": "code",
     "collapsed": false,
     "input": [
      "\n",
      "print \"Principles of Heat Transfer, 7th Ed. Frank Kreith et. al Chapter - 9 Example # 9.17 \"\n",
      "\n",
      "#Temperature of flue gas in degree F\n",
      "Tgas = 2000.0;\n",
      "#Inner-wall surface temperature in degree F\n",
      "Tsurface = 1850.0;\n",
      "#Partial pressure of water in atm\n",
      "p = 0.05;\n",
      "#Convection heat transfer coefficient in Btu/h ft2 F\n",
      "h = 1.0;\n",
      "#Length of square duct in ft\n",
      "L = 2.0;\n",
      "#Volume in ft3\n",
      "V = L*L;\n",
      "#Surface area in ft2\n",
      "A = 4*L;\n",
      "\n",
      "#The rate of heat flow from the gas to the wall by convection per unit\n",
      "#length in Btu/h ft is\n",
      "qc = (h*A)*(Tgas-Tsurface);\n",
      "\n",
      "#Effective beam length in m\n",
      "L = ((0.3058*3.4)*V)/A;\n",
      "\n",
      "#Product of partial pressure and L\n",
      "k = p*L;\n",
      "\n",
      "#From Fig. 9.46, for pL=0.026 and T=2000F, we find\n",
      "\n",
      "#Emissivity\n",
      "epsilon = 0.035;\n",
      "#Absorptivity\n",
      "alpha = 0.039;\n",
      "#stefans constant\n",
      "sigma = 0.171;\n",
      "\n",
      "#Assuming that the brick surface is black, the net rate of heat flow from the gas to the wall by radiation is, according to Eq. (9.117)\n",
      "qr = (sigma*A)*(epsilon*(((Tgas+460)/100.0)**4)-alpha*(((Tsurface+460.0)/100)**4));#Btu/h\n",
      "\n",
      "print \"Total heat flow from the gas to the duct in Btu/h\"\n",
      "#Total heat flow from the gas to the duct in Btu/h\n",
      "q = qc+qr\n",
      "print round(q,2)\n",
      " # The answer is slightly different in textbook due to approximation"
     ],
     "language": "python",
     "metadata": {},
     "outputs": [
      {
       "output_type": "stream",
       "stream": "stdout",
       "text": [
        "Principles of Heat Transfer, 7th Ed. Frank Kreith et. al Chapter - 9 Example # 9.17 \n",
        "Total heat flow from the gas to the duct in Btu/h\n",
        "3543.12\n"
       ]
      }
     ],
     "prompt_number": 6
    },
    {
     "cell_type": "heading",
     "level": 2,
     "metadata": {},
     "source": [
      "Ex9.18: Page 611"
     ]
    },
    {
     "cell_type": "code",
     "collapsed": false,
     "input": [
      "\n",
      "print \"Principles of Heat Transfer, 7th Ed. Frank Kreith et. al Chapter - 9 Example # 9.18 \"\n",
      "\n",
      "#Emissivity\n",
      "epsilon = 0.8;\n",
      "#Stefan's constant\n",
      "sigma = 0.1714;\n",
      "#Temperature of walls in degree F\n",
      "Twall = 440;\n",
      "#Temperature indicated ny thermocouple in degree F\n",
      "Tt = 940;\n",
      "#Heat transfer coefficient in Btu/h ft2 F\n",
      "h = 25;\n",
      "\n",
      "#The temperature of the thermocouple is below the gas temperature because the couple loses heat by radiation to the wall.\n",
      "\n",
      "#Under steady-state conditions the rate of heat flow by radiation from the thermocouple junction to the wall equals the rate of heat flow by convection from the gas to the couple.\n",
      "\n",
      "#Umath.sing this heat balance, q/A in Btu/h ft2\n",
      "q = (epsilon*sigma)*(((Tt+460)/100)**4-((Twall+460)/100)**4);\n",
      "\n",
      "print \"True gas temperature in degree F\"\n",
      "#True gas temperature in degree F\n",
      "Tg = Tt+q/h\n",
      "\n",
      "print round(Tg)\n",
      " # The answer is slightly different in textbook due to approximation"
     ],
     "language": "python",
     "metadata": {},
     "outputs": [
      {
       "output_type": "stream",
       "stream": "stdout",
       "text": [
        "Principles of Heat Transfer, 7th Ed. Frank Kreith et. al Chapter - 9 Example # 9.18 \n",
        "True gas temperature in degree F\n",
        "1115.0\n"
       ]
      }
     ],
     "prompt_number": 4
    },
    {
     "cell_type": "heading",
     "level": 2,
     "metadata": {},
     "source": [
      "Ex9.19: Page 612"
     ]
    },
    {
     "cell_type": "code",
     "collapsed": false,
     "input": [
      " \n",
      "print \"Principles of Heat Transfer, 7th Ed. Frank Kreith et. al Chapter - 9 Example # 9.19 \"\n",
      "\n",
      "#Emissivity of thermocouple\n",
      "epsilonT = 0.8;\n",
      "#Emissivity of shield\n",
      "epsilonS = 0.3;\n",
      "#Stefan''s constant\n",
      "sigma = 0.1714;\n",
      "#Temperature of walls in degree F\n",
      "Tw = 440;\n",
      "#Temperature indicated ny thermocouple in degree F\n",
      "Tt = 940.0;\n",
      "#Heat transfer coefficient of thermocouple in Btu/h ft2 F\n",
      "hrt = 25.0;\n",
      "#Heat transfer coefficient of shield in Btu/h ft2 F\n",
      "hrs = 20.0;\n",
      "\n",
      "#Area for thermocouple be unity ft2\n",
      "At = 1.0;\n",
      "#Corresponding area of shield in ft2\n",
      "As = 4.0;#Inside dia=4*dia of thermocouple\n",
      "\n",
      "#From Eq. (9.76)\n",
      "#View factors Fts and Fsw\n",
      "Fts = 1/((1-epsilonT)/(At*epsilonT)+1/At+(1-epsilonS)/(As*epsilonS));\n",
      "Fsw = As*epsilonS;\n",
      "\n",
      "#Assuming a shield temperature of 900\u00b0F, we have, according to Eq. (9.118)\n",
      "#Temperature in degree F\n",
      "Ts = 923;\n",
      "\n",
      "#Coeffcients for heat balance are as following\n",
      "#A parameter Btu/h-F\n",
      "A = 9.85;#A=hrt*At\n",
      "#B parameter Btu/h-F\n",
      "B = 13.7;#B=hrs*As\n",
      "\n",
      "#Umath.sing heat balance\n",
      "print \"Correct temperature of gas in degree F\"\n",
      "#Correct temperature of gas in degree F\n",
      "Tg = Ts+(B*(Ts-Tw)-A*(Tt-Ts))/((hrs*2)*As)\n",
      "print round(Tg,2)\n",
      " # The answer is slightly different in textbook due to approximation"
     ],
     "language": "python",
     "metadata": {},
     "outputs": [
      {
       "output_type": "stream",
       "stream": "stdout",
       "text": [
        "Principles of Heat Transfer, 7th Ed. Frank Kreith et. al Chapter - 9 Example # 9.19 \n",
        "Correct temperature of gas in degree F\n",
        "963.31\n"
       ]
      }
     ],
     "prompt_number": 2
    }
   ],
   "metadata": {}
  }
 ]
}