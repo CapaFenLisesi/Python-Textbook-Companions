{
 "metadata": {
  "name": "",
  "signature": "sha256:c489be538ada8e72e5c0ac93bd5fa6e3d18746a5fcfb78ea58fa8cf99d0eb015"
 },
 "nbformat": 3,
 "nbformat_minor": 0,
 "worksheets": [
  {
   "cells": [
    {
     "cell_type": "heading",
     "level": 1,
     "metadata": {},
     "source": [
      "Chapter 2: Heat Conduction"
     ]
    },
    {
     "cell_type": "heading",
     "level": 2,
     "metadata": {},
     "source": [
      "Ex2.1: Page 81"
     ]
    },
    {
     "cell_type": "code",
     "collapsed": false,
     "input": [
      "\n",
      "print \"Principles of Heat Transfer, 7th Ed. Frank Kreith et. al Chapter - 2 Example # 2.1 \"\n",
      "\n",
      "#Heat generation rate in W/m3\n",
      "qg = 1000000;\n",
      "#Length along which heat will be dissipated in m (thickness)\n",
      "L = 0.01;\n",
      "#Thermal conductivity at the required temperature in W/mK\n",
      "k = 64;\n",
      "\n",
      "#Temperature of surrounding oil in degree C\n",
      "Tinfinity = 80;\n",
      "#Temperature of heater in degree C to be maintained\n",
      "T1 = 200;\n",
      "\n",
      "print \"heat transfer coefficient in W/m2K from a heat balance\"\n",
      "#Heat transfer coefficient in W/m2K\n",
      "h = ((qg*L)/2)/(T1-Tinfinity)\n",
      "print round(h)\n"
     ],
     "language": "python",
     "metadata": {},
     "outputs": [
      {
       "output_type": "stream",
       "stream": "stdout",
       "text": [
        "Principles of Heat Transfer, 7th Ed. Frank Kreith et. al Chapter - 2 Example # 2.1 \n",
        "heat transfer coefficient in W/m2K from a heat balance\n",
        "42.0\n"
       ]
      }
     ],
     "prompt_number": 2
    },
    {
     "cell_type": "heading",
     "level": 2,
     "metadata": {},
     "source": [
      "Ex2.2: Page 84"
     ]
    },
    {
     "cell_type": "code",
     "collapsed": false,
     "input": [
      "\n",
      "print \"Principles of Heat Transfer, 7th Ed. Frank Kreith et. al Chapter - 2 Example # 2.2 \"\n",
      "\n",
      "print \"Case of Uninsualted pipe\"\n",
      "#Calculating resistance to heat flow at internal surface\n",
      "\n",
      "#Internal radius in m\n",
      "ri = 0.05;\n",
      "#Heat transfer coefficient at inner surface for steam condenmath.sing in W/m2K\n",
      "hci = 10000;\n",
      "#Resistance in mK/W\n",
      "R1 = 1/(((2*math.pi)*ri)*hci);\n",
      "\n",
      "#Calculating resistance to heat flow at external surface\n",
      "\n",
      "#External radius in m\n",
      "ro = 0.06;\n",
      "#Heat transfer coefficient at outer surface in W/m2K\n",
      "hco = 15;\n",
      "#Resistance in mK/W\n",
      "R3 = 1/(((2*math.pi)*ro)*hco);\n",
      "\n",
      "#Calcualting resistance to heat flow due to pipe\n",
      "\n",
      "#Thermal conductivity of pipe in W/mK\n",
      "kpipe = 400;\n",
      "#Resistance in mK/W\n",
      "R2 = log(ro/ri)/((2*math.pi)*kpipe);\n",
      "\n",
      "#Temperatures of steam(pipe) and surrounding(air) in degree C\n",
      "Ts = 110;\n",
      "Tinfinity = 30;\n",
      "\n",
      "print \"Heat loss from uninsulated pipe in W/m is therefore\"\n",
      "#Heat loss from uninsulated pipe in W/m \n",
      "q = (Ts-Tinfinity)/(R1+R2+R3)\n",
      "print round(q)\n",
      "\n",
      "\n",
      "print \"Case of insulated pipe\"\n",
      "#Calculating additional resistance between outer radius and new outer\n",
      "#radius\n",
      "\n",
      "#Thermal conductivity of insulation in W/mK\n",
      "k = 0.2;\n",
      "#New outer radius in m\n",
      "r3 = 0.11;\n",
      "#Resistance in mK/W\n",
      "R4 = log(r3/ro)/((2*math.pi)*k);\n",
      "\n",
      "#Calculating new outer resistance\n",
      "R0 = 1/(((2*math.pi)*r3)*hco);\n",
      "\n",
      "\n",
      "print \"Heat loss from insulated pipe in W/m is therefore\"\n",
      "#Heat loss from insulated pipe in W/m\n",
      "q = (Ts-Tinfinity)/(R1+R2+R4+R0)\n",
      "print int(q)\n"
     ],
     "language": "python",
     "metadata": {},
     "outputs": [
      {
       "output_type": "stream",
       "stream": "stdout",
       "text": [
        "Principles of Heat Transfer, 7th Ed. Frank Kreith et. al Chapter - 2 Example # 2.2 \n",
        "Case of Uninsualted pipe\n",
        "Heat loss from uninsulated pipe in W/m is therefore\n",
        "451.0\n",
        "Case of insulated pipe\n",
        "Heat loss from insulated pipe in W/m is therefore\n",
        "138\n"
       ]
      }
     ],
     "prompt_number": 6
    },
    {
     "cell_type": "heading",
     "level": 2,
     "metadata": {},
     "source": [
      "Ex2.3: Page 88"
     ]
    },
    {
     "cell_type": "code",
     "collapsed": false,
     "input": [
      " \n",
      "print \"Principles of Heat Transfer, 7th Ed. Frank Kreith et. al Chapter - 2 Example # 2.3 \"\n",
      "\n",
      "#Outer radius in m\n",
      "ro = 0.02;\n",
      "#Inner radius in m\n",
      "ri = 0.015;\n",
      "#Thermal conductivity of plastic in W/mK\n",
      "k = 0.5;\n",
      "#Internal convection heat transfer coefficient in W/m2K\n",
      "hc1 = 300.0\n",
      "#Temperature of fluid in pipe in degree C\n",
      "Thot = 200.0\n",
      "#Temperature of outside in degree C\n",
      "Tcold = 30.0\n",
      "#External convection heat transfer coefficient in W/m2K\n",
      "hc0 = 10.0\n",
      "\n",
      "print \"Overall heat transfer coefficient in W/m2K is\"\n",
      "#Overall heat transfer coefficient in W/m2K\n",
      "U0 = 1/(ro/(ri*hc1)+(ro*math.log(ro/ri))/k+1/hc0)\n",
      "print round(U0,2)\n",
      "\n",
      "print \"The heat loss per unit length in W/m is\"\n",
      "#The heat loss per unit length in W/m\n",
      "q = (((U0*2)*math.pi)*ro)*(Thot-Tcold)\n",
      "print round(q)\n"
     ],
     "language": "python",
     "metadata": {},
     "outputs": [
      {
       "output_type": "stream",
       "stream": "stdout",
       "text": [
        "Principles of Heat Transfer, 7th Ed. Frank Kreith et. al Chapter - 2 Example # 2.3 \n",
        "Overall heat transfer coefficient in W/m2K is\n",
        "8.62\n",
        "The heat loss per unit length in W/m is\n",
        "184.0\n"
       ]
      }
     ],
     "prompt_number": 10
    },
    {
     "cell_type": "heading",
     "level": 2,
     "metadata": {},
     "source": [
      "Ex2.4: Page 89"
     ]
    },
    {
     "cell_type": "code",
     "collapsed": false,
     "input": [
      "\n",
      "print \"Principles of Heat Transfer, 7th Ed. Frank Kreith et. al Chapter - 2 Example # 2.4 \"\n",
      "\n",
      "#Temperature of liquid nitrogen in degree K\n",
      "Tnitrogen = 77;\n",
      "#Radius of container in m\n",
      "ri = 0.25;\n",
      "#Temperature of surrounding air in degree K\n",
      "Tinfinity = 300.0;\n",
      "#Thermal conductivity of insulating silica powder in W/mK\n",
      "k = 0.0017;\n",
      "#Outer radius of container with insulation in m\n",
      "ro = 0.275;\n",
      "#Latent heat of vaporization of liquid nitrogen in J/kg\n",
      "hgf = 200000.0;\n",
      "#convection coefficient at outer surface in W/m2K\n",
      "hco = 20.0;\n",
      "\n",
      "#Calcaulting heat transfer to nitrogen\n",
      "q = (Tinfinity-Tnitrogen)/(1/((((4*math.pi)*ro)*ro)*hco)+(ro-ri)/((((4*math.pi)*k)*ro)*ri));\n",
      "\n",
      "print \" rate of liquid boil-off of nitrogen per hour is\"\n",
      "#rate of liquid boil-off of nitrogen per hour\n",
      "m = (3600*q)/hgf\n",
      "\n",
      "print round(m,3)\n"
     ],
     "language": "python",
     "metadata": {},
     "outputs": [
      {
       "output_type": "stream",
       "stream": "stdout",
       "text": [
        "Principles of Heat Transfer, 7th Ed. Frank Kreith et. al Chapter - 2 Example # 2.4 \n",
        " rate of liquid boil-off of nitrogen per hour is\n",
        "0.235\n"
       ]
      }
     ],
     "prompt_number": 13
    },
    {
     "cell_type": "heading",
     "level": 2,
     "metadata": {},
     "source": [
      "Ex2.5: Page 93"
     ]
    },
    {
     "cell_type": "code",
     "collapsed": false,
     "input": [
      "\n",
      "print \"Principles of Heat Transfer, 7th Ed. Frank Kreith et. al Chapter - 2 Example # 2.5 \"\n",
      "\n",
      "#Heat generation rate in W/m3\n",
      "qg = 75000000;\n",
      "#Outer radius of rods in m\n",
      "ro = 0.025;\n",
      "#Temperature of water in degree C\n",
      "Twater = 120;\n",
      "#Thermal cinductivity in W/mk\n",
      "k = 29.5\n",
      "#Heat transfer coefficient in W/m2K\n",
      "hco = 55000;\n",
      "\n",
      "#Since rate of flow through the surface of the rod equals the rate of internal heat generation\n",
      "#and\n",
      "#The rate of heat flow by conduction at the outer surface equals the rate\n",
      "#of heat flow by convection from the surface to the water\n",
      "\n",
      "#Surface Temperature in degree C\n",
      "T0 = (qg*ro)/(2*hco)+Twater;\n",
      "\n",
      "print \"Maximum temperature in degree C\"\n",
      "#Maximum temperature in degree C\n",
      "Tmax = T0+((qg*ro)*ro)/(4*k)\n",
      "print round(Tmax)\n"
     ],
     "language": "python",
     "metadata": {},
     "outputs": [
      {
       "output_type": "stream",
       "stream": "stdout",
       "text": [
        "Principles of Heat Transfer, 7th Ed. Frank Kreith et. al Chapter - 2 Example # 2.5 \n",
        "Maximum temperature in degree C\n",
        "534.0\n"
       ]
      }
     ],
     "prompt_number": 16
    },
    {
     "cell_type": "heading",
     "level": 2,
     "metadata": {},
     "source": [
      "Ex2.6: Page 99"
     ]
    },
    {
     "cell_type": "code",
     "collapsed": false,
     "input": [
      "\n",
      "print \"Principles of Heat Transfer, 7th Ed. Frank Kreith et. al Chapter - 2 Example # 2.6 \"\n",
      "\n",
      "#diameter of fin in m\n",
      "d = 0.0025;\n",
      "#Perimeter in m\n",
      "P = math.pi*d;\n",
      "#Area in m2\n",
      "A = ((math.pi*d)*d)/4;\n",
      "#Surface temperature in degree C\n",
      "Ts = 95;\n",
      "#Ambient temperature in degree c\n",
      "Tinfinity = 25;\n",
      "#Heat transfer coefficient in W/m2K\n",
      "hc = 10;\n",
      "#From table 12, value of thermal conductivity in W/mK\n",
      "k = 396;\n",
      "\n",
      "print \"Case of an infinitely long fin\"\n",
      "print \"Heat loss for the \u00e2\u20ac\u0153infintely long\u00e2\u20ac? fin in W is\"\n",
      "#Heat loss for the \u00e2\u20ac\u0153infintely long\u00e2\u20ac? fin in W\n",
      "qfin = ((((hc*P)*k)*A)**0.5)*(Ts-Tinfinity)\n",
      "print round(qfin,3)\n",
      "print \"Case 2: Fin length of 2.5cm\"\n",
      "#Length in cm\n",
      "L = 2.5/100;\n",
      "#Parameter m\n",
      "m = ((hc*P)/(k*A))**0.5;\n",
      "print \"Heat loss in this case in W is\"\n",
      "#Heat loss in this case in W\n",
      "qfin = qfin*((math.sinh(m*L)+(hc/(m*k))*math.cosh(m*L))/(math.cosh(m*L)+(hc/(m*k))*math.sinh(m*L)))\n",
      "print round(qfin,3)\n",
      "print \"For the two solutions to be within 5%\"\n",
      "#((math.sinh(m*L)+(hc/(m*k))*math.cosh(m*L))/(math.cosh(m*L)+(hc/(m*k))*math.sinh(m*L))) must\n",
      "#be less than 0.95\n",
      "print \"L must be greater than 28.3cm\"\n"
     ],
     "language": "python",
     "metadata": {},
     "outputs": [
      {
       "output_type": "stream",
       "stream": "stdout",
       "text": [
        "Principles of Heat Transfer, 7th Ed. Frank Kreith et. al Chapter - 2 Example # 2.6 \n",
        "Case of an infinitely long fin\n",
        "Heat loss for the \u00e2\u20ac\u0153infintely long\u00e2\u20ac? fin in W is\n",
        "0.865\n",
        "Case 2: Fin length of 2.5cm\n",
        "Heat loss in this case in W is\n",
        "0.14\n",
        "For the two solutions to be within 5%\n",
        "L must be greater than 28.3cm\n"
       ]
      }
     ],
     "prompt_number": 19
    },
    {
     "cell_type": "heading",
     "level": 2,
     "metadata": {},
     "source": [
      "Ex2.7: Page 103"
     ]
    },
    {
     "cell_type": "code",
     "collapsed": false,
     "input": [
      "\n",
      "print \"Principles of Heat Transfer, 7th Ed. Frank Kreith et. al Chapter - 2 Example # 2.7 \"\n",
      "\n",
      "#Thermal conductivity of alumunium in W/mK\n",
      "k = 200;\n",
      "#Outer radius of system in m\n",
      "ro = 5.5/200;\n",
      "#Inner radius of system in m\n",
      "ri = 2.5/200;\n",
      "#Thickness of fin in m\n",
      "t = 0.1/100;\n",
      "\n",
      "#Temperature of pipe in  degree C\n",
      "Ts = 100;\n",
      "#Temperature of surrounding in degree C\n",
      "Tinfinity = 25;\n",
      "#Heat transfer coefficient in W/m2K\n",
      "h = 65;\n",
      "\n",
      "#calculating fin efficiency\n",
      "#From Fig. 2.22 on page 103, the fin efficiency is found to be 91%.\n",
      "\n",
      "#Area of fin\n",
      "A = (2*math.pi)*((ro+t/2)**2-ri*ri);\n",
      "\n",
      "print \"The rate of heat loss from a math.single fin in W is\"\n",
      "#The rate of heat loss from a math.single fin in W\n",
      "q = ((0.91*h)*A)*(Ts-Tinfinity)\n",
      "print round(q,1)\n"
     ],
     "language": "python",
     "metadata": {},
     "outputs": [
      {
       "output_type": "stream",
       "stream": "stdout",
       "text": [
        "Principles of Heat Transfer, 7th Ed. Frank Kreith et. al Chapter - 2 Example # 2.7 \n",
        "The rate of heat loss from a math.single fin in W is\n",
        "17.5\n"
       ]
      }
     ],
     "prompt_number": 21
    },
    {
     "cell_type": "heading",
     "level": 2,
     "metadata": {},
     "source": [
      "Ex2.8: Page 113"
     ]
    },
    {
     "cell_type": "code",
     "collapsed": false,
     "input": [
      " \n",
      "print \"Principles of Heat Transfer, 7th Ed. Frank Kreith et. al Chapter - 2 Example # 2.8 \"\n",
      "\n",
      "#Diameter of pipe in m\n",
      "D = 0.1;\n",
      "#Depth under which it is sunk in m\n",
      "z = 0.6;\n",
      "#Temperature of pipe in degree C\n",
      "Tpipe = 100.0;\n",
      "#Temperature of soil in degree C\n",
      "Tsoil = 20.0;\n",
      "#Thermal conductivity in W/mK\n",
      "k = 0.4;\n",
      "\n",
      "\n",
      "#From table 2.2 on page 112, calculating shape factor\n",
      "#Shape factor\n",
      "S = (2*math.pi)/math.acosh((2*z)/D);\n",
      "print \" rate of heat loss per meter length in W/m is\"\n",
      "#rate of heat loss per meter length in W/m\n",
      "q = (k*S)*(Tpipe-Tsoil)\n",
      "\n",
      "print round(q,1)\n",
      "\n",
      "# the other parts of question are theoritical hence not solved here\n"
     ],
     "language": "python",
     "metadata": {},
     "outputs": [
      {
       "output_type": "stream",
       "stream": "stdout",
       "text": [
        "Principles of Heat Transfer, 7th Ed. Frank Kreith et. al Chapter - 2 Example # 2.8 \n",
        " rate of heat loss per meter length in W/m is\n",
        "63.3\n"
       ]
      }
     ],
     "prompt_number": 29
    },
    {
     "cell_type": "heading",
     "level": 2,
     "metadata": {},
     "source": [
      "Ex2.9: Page 115"
     ]
    },
    {
     "cell_type": "code",
     "collapsed": false,
     "input": [
      "\n",
      "print \"Principles of Heat Transfer, 7th Ed. Frank Kreith et. al Chapter - 2 Example # 2.9 \"\n",
      "\n",
      "#Thermal conductivity in W/mC\n",
      "k = 1.04;\n",
      "#For square length and breadth are equal and are in m\n",
      "D = 0.5;\n",
      "#Area in m2\n",
      "A = D*D;\n",
      "#Thickness in m\n",
      "L = 0.1;\n",
      "#Inside temperature in degree C\n",
      "Ti = 500.0;\n",
      "\n",
      "#Outside temperature in degree C\n",
      "To = 50.0;\n",
      "#Shape factor for walls\n",
      "Sw = A/L;\n",
      "#Shape factor for corners\n",
      "Sc = 0.15*L;\n",
      "#Shape factor for edges\n",
      "Se = 0.54*D;\n",
      "\n",
      "#There are 6 wall sections, 12 edges, and 8 corners, so that the total\n",
      "#shape factor is\n",
      "S = 6*Sw+12*Se+8*Sc;\n",
      "\n",
      "print \"Heat flow in kW is\"\n",
      "#Heat flow in W \n",
      "q = (k*S)*(Ti-To)/1000\n",
      "print round(q,2)\n"
     ],
     "language": "python",
     "metadata": {},
     "outputs": [
      {
       "output_type": "stream",
       "stream": "stdout",
       "text": [
        "Principles of Heat Transfer, 7th Ed. Frank Kreith et. al Chapter - 2 Example # 2.9 \n",
        "Heat flow in kW is\n",
        "8.59\n"
       ]
      }
     ],
     "prompt_number": 33
    },
    {
     "cell_type": "heading",
     "level": 2,
     "metadata": {},
     "source": [
      "Ex2.10: Page 119"
     ]
    },
    {
     "cell_type": "code",
     "collapsed": false,
     "input": [
      "import matplotlib.pyplot as plt\n",
      "%matplotlib inline\n",
      "import numpy\n",
      "\n",
      "print \"Principles of Heat Transfer, 7th Ed. Frank Kreith et. al Chapter - 2 Example # 2.10 \"\n",
      "\n",
      "#Diameter of copper wire in m\n",
      "D = 0.1/100;\n",
      "#Initial temperature in degree C\n",
      "To = 150.0;\n",
      "#Final surrounding temperature in degree C of air and water\n",
      "Tinfinity = 40.0;\n",
      "\n",
      "#From table 12, appendix 2, we get the following data values for copper\n",
      "#Thermal conductivity in W/mK\n",
      "k = 391.0;\n",
      "#Specific heat in J/kgK\n",
      "c = 383.0;\n",
      "#Density in kg/m3\n",
      "rho = 8930.0;\n",
      "\n",
      "#Surface area of wire per unit length in m\n",
      "A = math.pi*D;\n",
      "#Volume of wire per unit length in m2\n",
      "V = ((math.pi*D)*D)/4;\n",
      "\n",
      "#Heat transfer coefficient in the case of water in W/m2K\n",
      "h = 80.0;\n",
      "#Biot number in water\n",
      "bi = (h*D)/(4*k);\n",
      "#The temperature response is given by Eq. (2.84)\n",
      "\n",
      "#For water Bi*Fo is 0.0936t\n",
      "#For air Bi*Fo is 0.0117t\n",
      "x=numpy.zeros((1,130))\n",
      "Twater=numpy.zeros((1,130))\n",
      "Tair=numpy.zeros((1,130))\n",
      "for i in range (0,120):\n",
      "  #Position of grid\n",
      "  x[0,i] = i;\n",
      "  # Temperature of water in degree C\n",
      "  Twater[0,i] = Tinfinity+(To-Tinfinity)*math.exp(-0.0936*i);\n",
      "  # Temperature of air in degree C\n",
      "  Tair[0,i] = Tinfinity+(To-Tinfinity)*math.exp(-0.0117*i);\n",
      "plt.grid('on')\n",
      "ax = pylab.gca()\n",
      "#Plotting curve\n",
      "plt.plot(x[0,:120],Twater[0,:120],label=\"water\")\n",
      "\n",
      "#Plotting curve\n",
      "plt.plot(x[0,:120],Tair[0,:120],label=\"air\")\n",
      "#Labelling axis\n",
      "xlabel(\"time\")\n",
      "ylabel(\"temperature\")\n",
      "plt.legend(loc='upper right');\n",
      "plt.show()\n",
      "print \"Temperature drop in water is more than that of air\"\n"
     ],
     "language": "python",
     "metadata": {},
     "outputs": [
      {
       "output_type": "stream",
       "stream": "stdout",
       "text": [
        "Principles of Heat Transfer, 7th Ed. Frank Kreith et. al Chapter - 2 Example # 2.10 \n"
       ]
      },
      {
       "metadata": {},
       "output_type": "display_data",
       "png": "[encoded data removed]",
       "text": [
        "<matplotlib.figure.Figure at 0x9861400>"
       ]
      },
      {
       "output_type": "stream",
       "stream": "stdout",
       "text": [
        "Temperature drop in water is more than that of air\n"
       ]
      }
     ],
     "prompt_number": 38
    },
    {
     "cell_type": "heading",
     "level": 2,
     "metadata": {},
     "source": [
      "Ex2.11: Page 133"
     ]
    },
    {
     "cell_type": "code",
     "collapsed": false,
     "input": [
      " \n",
      "print \"Principles of Heat Transfer, 7th Ed. Frank Kreith et. al Chapter - 2 Example # 2.11 \"\n",
      "\n",
      "#Initial temperature of soil in degree C\n",
      "Ti = 20;\n",
      "#Surface temperature of soil\n",
      "Ts = -15;\n",
      "#Critical temperature (Freezing temperature) in degree C\n",
      "Tc = 0;\n",
      "#Time in days\n",
      "t = 60;\n",
      "#Density of soil in kg/m3\n",
      "rho = 2050.0;\n",
      "#Thermal conductivity of soil in W/mK\n",
      "k = 0.52;\n",
      "#Specific heat in J/kgK\n",
      "c = 1840.0;\n",
      "#Diffusivity in m2/sec\n",
      "alpha = k/(rho*c);\n",
      "\n",
      "#Finding the value of following to proceed further\n",
      "#Z value\n",
      "z = (Tc-Ts)/(Ti-Ts);\n",
      "\n",
      "#From table 43, it corresponds to an error function value of 0.4,\n",
      "#proceeding\n",
      "\n",
      "print \"Minimum depth at which one must place a water main below the surface to avoid freezing in m is\"\n",
      "#Minimum depth at which one must place a water main below the surface to avoid freezing in m\n",
      "xm = (0.4*2)*((((alpha*t)*24)*3600)**0.5)\n",
      "\n",
      "print round(xm,2)\n"
     ],
     "language": "python",
     "metadata": {},
     "outputs": [
      {
       "output_type": "stream",
       "stream": "stdout",
       "text": [
        "Principles of Heat Transfer, 7th Ed. Frank Kreith et. al Chapter - 2 Example # 2.11 \n",
        "Minimum depth at which one must place a water main below the surface to avoid freezing in m is\n",
        "0.68\n"
       ]
      }
     ],
     "prompt_number": 34
    },
    {
     "cell_type": "heading",
     "level": 2,
     "metadata": {},
     "source": [
      "Ex2.12: Page 143"
     ]
    },
    {
     "cell_type": "code",
     "collapsed": false,
     "input": [
      "print \"Principles of Heat Transfer, 7th Ed. Frank Kreith et. al Chapter - 2 Example # 2.12 \"\n",
      "\n",
      "#Length of steel component in m\n",
      "L = 2;\n",
      "#Radius of steel component in m\n",
      "ro = 0.1;\n",
      "#Thermal conductivity of steel in W/mK\n",
      "k = 40;\n",
      "#Thermal diffusivity in m2/s\n",
      "alpha = 0.00001;\n",
      "#Initital temperature in degree C\n",
      "Ti = 400;\n",
      "#Surrounding temperature in degree C\n",
      "Tinfinity = 50;\n",
      "#Heat transfer coefficient in W/m2K\n",
      "h = 200;\n",
      "#time of immersion in mins\n",
      "t = 20;\n",
      "\n",
      "#Since the cylinder has a length 10 times the diameter, we can neglect end\n",
      "#effects.\n",
      "\n",
      "#Calculating biot number\n",
      "bi = (h*ro)/k;\n",
      "if (bi>0.1):\n",
      "  #Calculating fourier number\n",
      "  fo = ((alpha*t)*60)/(ro*ro);\n",
      "  #The initial amount of internal energy stored in the cylinder per unit\n",
      "  #length in Ws/m\n",
      "  Q = ((((k*math.pi)*ro)*ro)*(Ti-Tinfinity))/alpha;\n",
      "\n",
      "  #The dimensionless centerline temperature for 1/Bi\u0002= 2.0 and Fo\u0002= 1.2 from\n",
      "  #Fig. 2.43(a)\n",
      "  #Centreline temperature in degree C\n",
      "  T = Tinfinity+0.35*(Ti-Tinfinity);\n",
      "  print \"Centreline temperature in degree C is\"\n",
      "  print T\n",
      "  #The surface temperature at r/r0\u0002= 1.0 and t\u0002= 1200 s is obtained from Fig. 2.43(b) in terms of the centerline temperature\n",
      "  #Surface temperature in degree C\n",
      "  Tr = Tinfinity+0.8*(T-Tinfinity);\n",
      "  print \"Surface temperature in degree C is\"\n",
      "  print Tr\n",
      "  #Then the amount of heat transferred from the steel rod to the water can be obtained from Fig. 2.43(c). Since Q\u001b(t)/Qi\u001b\u0002= 0.61,\n",
      "  print \"The heat transferred to the water during the initial 20 min in kWh is\"\n",
      "  #The heat transferred to the water during the initial 20 min in Wh\n",
      "  Q = ((0.61*L)*Q)/(3600*1000)\n",
      "  print round(Q,1)\n",
      "\n"
     ],
     "language": "python",
     "metadata": {},
     "outputs": [
      {
       "output_type": "stream",
       "stream": "stdout",
       "text": [
        "Principles of Heat Transfer, 7th Ed. Frank Kreith et. al Chapter - 2 Example # 2.12 \n",
        "Centreline temperature in degree C is\n",
        "172.5\n",
        "Surface temperature in degree C is\n",
        "148.0\n",
        "The heat transferred to the water during the initial 20 min in kWh is\n",
        "14.9\n"
       ]
      }
     ],
     "prompt_number": 41
    },
    {
     "cell_type": "heading",
     "level": 2,
     "metadata": {},
     "source": [
      "Ex2.13: Page 144"
     ]
    },
    {
     "cell_type": "code",
     "collapsed": false,
     "input": [
      "print \"Principles of Heat Transfer, 7th Ed. Frank Kreith et. al Chapter - 2 Example # 2.13 \"\n",
      "\n",
      "#Thickness of wall in m\n",
      "L = 0.5;\n",
      "#Initial temperature in degree C\n",
      "Ti = 60;\n",
      "#Combustion gas (Surrounding) temperature in degree C\n",
      "Tinfinity = 900;\n",
      "#Heat transfer coefficient in W/m2K\n",
      "h = 25;\n",
      "#Thermal conductivity in W/mk\n",
      "k = 1.25;\n",
      "#Specific heat in J/KgK\n",
      "c = 837;\n",
      "#Density in kg/m3\n",
      "rho = 500;\n",
      "#Thermal diffusivity in m2/s\n",
      "alpha = 0.000003;\n",
      "#Required temperature to achieve in degree C\n",
      "Ts = 600;\n",
      "\n",
      "#Calculating temperature ratio\n",
      "z = (Ts-Tinfinity)/(Ti-Tinfinity);\n",
      "#Reciprocal biot number\n",
      "bi = k/(h*L);\n",
      "\n",
      "\n",
      "#From Fig. 2.42(a) we find that for the above conditions the Fourier number\u0005= 0.70 at the midplane.\n",
      "#Time in hours\n",
      "t = ((0.7*L)*L)/alpha;\n",
      "print \"Time in hours is\"\n",
      "#Time in hours\n",
      "t = t/3600.0\n",
      "print round(t,1)\n",
      "\n",
      "#The temperature distribution in the wall 16 h after the transient was\n",
      "#initiated can be obtained from Fig. 2.42(b) for various values of x/L\n",
      "\n",
      "print \"Temperature distribution in degree C is\"\n",
      "print \"  (x/l)  = 1.00 0.80 0.60 0.40 0.20\"\n",
      "print \"Fraction = 0.13 0.41 0.64 0.83 0.96\"\n",
      "\n",
      "#The heat transferred to the wall per square meter of surface area during\n",
      "#the transient can be obtained from Fig. 2.42(c).\n",
      "print \"Heat transfer in J/m2 is\"\n",
      "#Heat transfer in J/m2\n",
      "Q = ((c*rho)*L)*(Ti-Tinfinity)\n",
      "print \"{:.3e}\".format(Q)\n"
     ],
     "language": "python",
     "metadata": {},
     "outputs": [
      {
       "output_type": "stream",
       "stream": "stdout",
       "text": [
        "Principles of Heat Transfer, 7th Ed. Frank Kreith et. al Chapter - 2 Example # 2.13 \n",
        "Time in hours is\n",
        "16.2\n",
        "Temperature distribution in degree C is\n",
        "  (x/l)  = 1.00 0.80 0.60 0.40 0.20\n",
        "Fraction = 0.13 0.41 0.64 0.83 0.96\n",
        "Heat transfer in J/m2 is\n",
        "-1.758e+08\n"
       ]
      }
     ],
     "prompt_number": 44
    },
    {
     "cell_type": "heading",
     "level": 2,
     "metadata": {},
     "source": [
      "Ex2.14: Page 148"
     ]
    },
    {
     "cell_type": "code",
     "collapsed": false,
     "input": [
      " \n",
      "print \"Principles of Heat Transfer, 7th Ed. Frank Kreith et. al Chapter - 2 Example # 2.14 \"\n",
      "\n",
      "#Radius of cylinder in m\n",
      "ro = 0.05;\n",
      "#Length of cylinder in m\n",
      "L = 0.16;\n",
      "#Thermal conductivity in W/mK\n",
      "k = 0.5;\n",
      "#Thermal diffusivity in m2/s\n",
      "alpha = 0.0000005;\n",
      "#Initial temperature in degree C\n",
      "Ti = 20.0;\n",
      "#Surrounding temperature in degree C\n",
      "Tinfinity = 500.0;\n",
      "#Heat transfer coefficient in W/m2K\n",
      "h = 30.0;\n",
      "#Time in mins\n",
      "t = 30.0;\n",
      "\n",
      "#Biot number\n",
      "bi = (h*ro)/k;\n",
      "#Fourier number\n",
      "fo = ((alpha*t)*60)/((L*L)/4);\n",
      "\n",
      "#From fig. 2.42(a)\n",
      "#Po\n",
      "P0 = 0.9;\n",
      "#From fig. 2.42(a) and (b)\n",
      "#Pl\n",
      "PL = 0.243;\n",
      "#From fig. 2.43(a)\n",
      "#Co\n",
      "C0 = 0.47;\n",
      "#From fig. 2.43(a) and (b)\n",
      "#Cr\n",
      "CR = 0.155;\n",
      "print \"Minimum temperature in degree C\"\n",
      "#Minimum temperature in degree C\n",
      "Tmin = Tinfinity+((Ti-Tinfinity)*P0)*C0\n",
      "print round(Tmin)\n",
      "\n",
      "print \"Maximum temperature in degree C\"\n",
      "#Maximum temperature in degree C\n",
      "Tmax = Tinfinity+((Ti-Tinfinity)*PL)*CR\n",
      "print round(Tmax)\n",
      "\n",
      "\n"
     ],
     "language": "python",
     "metadata": {},
     "outputs": [
      {
       "output_type": "stream",
       "stream": "stdout",
       "text": [
        "Principles of Heat Transfer, 7th Ed. Frank Kreith et. al Chapter - 2 Example # 2.14 \n",
        "Minimum temperature in degree C\n",
        "297.0\n",
        "Maximum temperature in degree C\n",
        "482.0\n"
       ]
      }
     ],
     "prompt_number": 48
    }
   ],
   "metadata": {}
  }
 ]
}