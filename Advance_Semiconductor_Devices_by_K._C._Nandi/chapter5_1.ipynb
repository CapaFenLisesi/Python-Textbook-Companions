{
 "cells": [
  {
   "cell_type": "markdown",
   "metadata": {},
   "source": [
    "# Chapter-5 Metal semiconductor field effect transistors"
   ]
  },
  {
   "cell_type": "markdown",
   "metadata": {},
   "source": [
    "## Ex 5.6.1 Pg 5-22"
   ]
  },
  {
   "cell_type": "code",
   "execution_count": 2,
   "metadata": {
    "collapsed": false
   },
   "outputs": [
    {
     "name": "stdout",
     "output_type": "stream",
     "text": [
      "Kn = 0.302 mA/V**2\n",
      "Current = 0.15 mA\n"
     ]
    }
   ],
   "source": [
    "#Given : \n",
    "VTN=0.7##V\n",
    "W=45##micro m\n",
    "L=4##micro m\n",
    "mu_n=700##cm**2/V-s\n",
    "t_ox=450##Angstrum\n",
    "epsilon_ox=3.9*8.85*10**-14##F/cm\n",
    "VGS=2*VTN##V\n",
    "Kn=(W*10**-4)*mu_n*epsilon_ox/(2*(L*10**-4)*(t_ox*10**-8))##A/V**2\n",
    "Kn=Kn*10**3##mA/V**2\n",
    "print \"Kn = %0.3f mA/V**2\"%Kn\n",
    "ID=Kn*(VGS-VTN)**2##A\n",
    "print \"Current = %0.2f mA\"%ID\n",
    "#Answer is wrong in the book. Calculation mistake whle calculating value for Kn."
   ]
  }
 ],
 "metadata": {
  "kernelspec": {
   "display_name": "Python 2",
   "language": "python",
   "name": "python2"
  },
  "language_info": {
   "codemirror_mode": {
    "name": "ipython",
    "version": 2
   },
   "file_extension": ".py",
   "mimetype": "text/x-python",
   "name": "python",
   "nbconvert_exporter": "python",
   "pygments_lexer": "ipython2",
   "version": "2.7.9"
  }
 },
 "nbformat": 4,
 "nbformat_minor": 0
}
