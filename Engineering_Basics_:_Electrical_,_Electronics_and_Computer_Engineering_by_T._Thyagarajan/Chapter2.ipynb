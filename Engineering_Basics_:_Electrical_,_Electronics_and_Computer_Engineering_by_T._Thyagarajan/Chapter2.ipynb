{
 "cells": [
  {
   "cell_type": "markdown",
   "metadata": {},
   "source": [
    "#Chapter 2 : Magnetic circuits"
   ]
  },
  {
   "cell_type": "markdown",
   "metadata": {},
   "source": [
    "##Example2.1, page number 51"
   ]
  },
  {
   "cell_type": "code",
   "execution_count": 1,
   "metadata": {
    "collapsed": false
   },
   "outputs": [
    {
     "name": "stdout",
     "output_type": "stream",
     "text": [
      "flux density =  1.25 Wb/m^2\n"
     ]
    }
   ],
   "source": [
    "#Determine magnetic flux density\n",
    "\n",
    "#variable declaration\n",
    "F=0.5e-3 #webers\n",
    "A=4*10**-4 #meter**2\n",
    "\n",
    "#calculation\n",
    "B=F/A #flux density\n",
    "\n",
    "#result\n",
    "print \"flux density = \" , B, \"Wb/m^2\"\n"
   ]
  },
  {
   "cell_type": "markdown",
   "metadata": {},
   "source": [
    "##Example2.2, page number 51"
   ]
  },
  {
   "cell_type": "code",
   "execution_count": 2,
   "metadata": {
    "collapsed": false
   },
   "outputs": [
    {
     "name": "stdout",
     "output_type": "stream",
     "text": [
      "magnetic field strenght =  400.0 AT/m\n"
     ]
    }
   ],
   "source": [
    "#Determine magnetic field strength\n",
    "\n",
    "#variable declaration\n",
    "I=2 #ampere\n",
    "L=50e-2 #meter\n",
    "N=100 #turns\n",
    "\n",
    "#calculations\n",
    "H=(N*I)/L #magnetic field strength\n",
    "\n",
    "#result\n",
    "print \"magnetic field strenght = \" , H , \"AT/m\"\n"
   ]
  },
  {
   "cell_type": "markdown",
   "metadata": {},
   "source": [
    "##Example2.3, page number 51"
   ]
  },
  {
   "cell_type": "code",
   "execution_count": 3,
   "metadata": {
    "collapsed": false
   },
   "outputs": [
    {
     "name": "stdout",
     "output_type": "stream",
     "text": [
      "Reluctance =  2094144.0 AT/Wb\n",
      "current =  5.86 amperes\n"
     ]
    }
   ],
   "source": [
    "#Calculate reluctance and current required to produce flux\n",
    "\n",
    "import math\n",
    "\n",
    "#variable declaration\n",
    "A=5e-4 # area in m**2\n",
    "N=250 # number of turns\n",
    "l=50e-2 # length\n",
    "F=700e-6 #flux \n",
    "u=380 #relative permeability\n",
    "\n",
    "#calculations\n",
    "S=l/(4*math.pi*10**-7*A*u) #reluctance\n",
    "I=F*S/N #current\n",
    "\n",
    "\n",
    "print \"Reluctance = \" , round(S,1) , \"AT/Wb\"\n",
    "print \"current = \" , round(I,2) , \"amperes\"\n"
   ]
  },
  {
   "cell_type": "markdown",
   "metadata": {},
   "source": [
    "##Example2.4, page number 52"
   ]
  },
  {
   "cell_type": "code",
   "execution_count": 4,
   "metadata": {
    "collapsed": false
   },
   "outputs": [
    {
     "name": "stdout",
     "output_type": "stream",
     "text": [
      "value of relative permeability =  500.0\n"
     ]
    }
   ],
   "source": [
    "\n",
    "#Determine relative permeability of iron\n",
    "\n",
    "import math\n",
    "\n",
    "#varaible declaration\n",
    "D=15e-2 #diameter\n",
    "l=math.pi*15e-2 #length\n",
    "N=450 #number of turns \n",
    "I=2 #amperes\n",
    "B=1.2 #flux density\n",
    "\n",
    "#calculations\n",
    "u=(B*l)/(4*math.pi*10**-7*N*I) #relative permeability\n",
    "\n",
    "#result\n",
    "print \"value of relative permeability = \" , u \n"
   ]
  },
  {
   "cell_type": "markdown",
   "metadata": {},
   "source": [
    "##Example2.5, page number 53"
   ]
  },
  {
   "cell_type": "code",
   "execution_count": 5,
   "metadata": {
    "collapsed": false
   },
   "outputs": [
    {
     "name": "stdout",
     "output_type": "stream",
     "text": [
      "total amperes turns =  1850.18 AT\n"
     ]
    }
   ],
   "source": [
    "import math\n",
    "\n",
    "#Calculate mmf required\n",
    "\n",
    "#variable declaration\n",
    "l=1.5 #length\n",
    "u=1600 #relative permeability\n",
    "B=1.2 #flux density\n",
    "la=1e-3 #length of air gap\n",
    "ua=1 #relative permeability of air\n",
    "\n",
    "#calculations\n",
    "H1=B*l/(4*math.pi*10**-7*u) #ampere turns in iron path\n",
    "H2=B*la/(4*math.pi*10**-7*ua) #ampere turns in air gap\n",
    "H=H1+H2 #total turns\n",
    "\n",
    "#result\n",
    "print \"total amperes turns = \" , round(H,2) , \"AT\"\n"
   ]
  },
  {
   "cell_type": "markdown",
   "metadata": {},
   "source": [
    "##Example2.6, page number 54"
   ]
  },
  {
   "cell_type": "code",
   "execution_count": 6,
   "metadata": {
    "collapsed": false
   },
   "outputs": [
    {
     "name": "stdout",
     "output_type": "stream",
     "text": [
      " #case 1\n",
      " magnetic force =  800.0 AT/m\n",
      " relative permeability =  596.83\n",
      " flux density =  0.6 Wb/m**2\n",
      " #case 2\n",
      " magnetic force =  2000.0 AT/m\n",
      " relative permeability =  461.55\n",
      " flux density =  0.464 Wb/m**2\n"
     ]
    }
   ],
   "source": [
    "#Calculate magnetic force , relative permeability and flux density\n",
    "\n",
    "import math\n",
    "\n",
    "#variable declaration\n",
    "A=5e-4 #m**2\n",
    "l=25e-2 #m\n",
    "N=100 #number of turns\n",
    "I=2 #amperes\n",
    "F=0.3e-3 #flux\n",
    "I1=5 #amperes\n",
    "F1=0.58e-3 #flux\n",
    "\n",
    "#calculations\n",
    "H=(N*I)/l #magnetic force\n",
    "u=(F*l)/(N*I*A*4*math.pi*10**-7) #relative permeability\n",
    "B=(u*H*4*math.pi*10**-7) #flux density\n",
    "H1=(N*I1)/l \n",
    "u1=(F1*l)/(N*I1*A*4*math.pi*10**-7)\n",
    "B1=(u1*H*4*math.pi*10**-7)\n",
    "\n",
    "#result\n",
    "print \" #case 1\"\n",
    "print \" magnetic force = \" , H , \"AT/m\"\n",
    "print \" relative permeability = \" , round(u,2)\n",
    "print \" flux density = \" , B , \"Wb/m**2\"\n",
    "print \" #case 2\"\n",
    "print \" magnetic force = \" , H1 , \"AT/m\"\n",
    "print \" relative permeability = \" , round(u1,2)\n",
    "print \" flux density = \" , B1 , \"Wb/m**2\"\n"
   ]
  },
  {
   "cell_type": "markdown",
   "metadata": {},
   "source": [
    "##Example2.7, page number 56"
   ]
  },
  {
   "cell_type": "code",
   "execution_count": 7,
   "metadata": {
    "collapsed": false
   },
   "outputs": [
    {
     "name": "stdout",
     "output_type": "stream",
     "text": [
      "Magnetising current =   1.59 A\n"
     ]
    }
   ],
   "source": [
    "# Calculate magnetising current\n",
    "\n",
    "import math\n",
    "\n",
    "#variable declaration\n",
    "A=0.01 #m**2\n",
    "l=2e-3 #m \n",
    "u=1 #relative permeability\n",
    "F=800e-6 #magnetic flux\n",
    "L=150e-2 #m\n",
    "u1=600 #relative permeability of iron\n",
    "f=9.6e-4 #magnetic flux of iron\n",
    "n=200 #turns\n",
    "\n",
    "#calculations\n",
    "B=F/A #flux\n",
    "H=B/(4*math.pi*10**-7*u) #manetising force in air gap\n",
    "N=(H*l) #turns\n",
    "N1=(f*L)/(A*4*math.pi*10**-7*u1) #turns\n",
    "N2=N1+N #total ampere turns\n",
    "M=N2/n #Magnetising current\n",
    "\n",
    "#result\n",
    "print \"Magnetising current =  \" , round(M,2) , \"A\"\n"
   ]
  },
  {
   "cell_type": "markdown",
   "metadata": {},
   "source": [
    "##Example2.8, page number 57"
   ]
  },
  {
   "cell_type": "code",
   "execution_count": 8,
   "metadata": {
    "collapsed": false
   },
   "outputs": [
    {
     "name": "stdout",
     "output_type": "stream",
     "text": [
      "total ampere turns  =  2005.35 ampere turns\n"
     ]
    }
   ],
   "source": [
    "#Find number of ampere turns\n",
    "\n",
    "import math\n",
    "\n",
    "#variable declaration\n",
    "A=25e-4 #m**2\n",
    "F=1.2e-3 #Wb\n",
    "u=1  #air path\n",
    "l=0.25e-2 #m\n",
    "ur=2000  # iron path\n",
    "L=50e-2 #m\n",
    "\n",
    "#calculations\n",
    "N=(F*l/(4*math.pi*10**-7*A*u))*2  #for two air gaps\n",
    "N1=(F*L)/(ur*A*4*math.pi*10**-7)\n",
    "N2=N+N1\n",
    "\n",
    "#result\n",
    "print \"total ampere turns  = \" , round(N2,2) , \"ampere turns\"\n",
    "\n",
    "#round off error in book\n"
   ]
  },
  {
   "cell_type": "markdown",
   "metadata": {},
   "source": [
    "##Example2.9, page number 58"
   ]
  },
  {
   "cell_type": "code",
   "execution_count": 9,
   "metadata": {
    "collapsed": false
   },
   "outputs": [
    {
     "name": "stdout",
     "output_type": "stream",
     "text": [
      " exciting current =  1.64 amperes\n"
     ]
    }
   ],
   "source": [
    "#Determine exciting current\n",
    "\n",
    "import math\n",
    "\n",
    "#variable declaration\n",
    "u=1 #for air gap\n",
    "F=1.5e-3 #flux\n",
    "A=9e-4 #area \n",
    "l=4e-3 #air gap\n",
    "u1=800# for iron gap\n",
    "A1=750e-6 #m**2\n",
    "l1=270e-3 #m\n",
    "u2=1000 #for P,Q,R\n",
    "Ip=135e-3 #ampere\n",
    "Iq=270e-3\n",
    "Ir=135e-3\n",
    "TN=4000 #turns\n",
    "\n",
    "#calculation\n",
    "B=F/A #Wb/m**2\n",
    "H=B/(4*math.pi*10**-7*u) #AT/m\n",
    "S=H*l #amperes turns in air gap\n",
    "B1=F/A1\n",
    "H1=B1/(4*math.pi*10**-7*u1)\n",
    "S1=H1*l1\n",
    "H2=B/(4*math.pi*10**-7*u2)\n",
    "S2=H2*(Ip+Iq+Ir)#amperes turns\n",
    "TNn=S+S1+S2  #turns\n",
    "EI=TNn/TN #amperes\n",
    "\n",
    "print \" exciting current = \" , round(EI,3) , \"amperes\"\n"
   ]
  },
  {
   "cell_type": "markdown",
   "metadata": {},
   "source": [
    "##Example2.10, page number 60"
   ]
  },
  {
   "cell_type": "code",
   "execution_count": 10,
   "metadata": {
    "collapsed": false
   },
   "outputs": [
    {
     "name": "stdout",
     "output_type": "stream",
     "text": [
      " exciting current =  0.601 amperes\n"
     ]
    }
   ],
   "source": [
    "#Determine exciting current\n",
    "\n",
    "import math\n",
    "\n",
    "#variable declaration\n",
    "u=1 #for air gap\n",
    "F=1.2e-3 #flux\n",
    "A=10e-4 #area \n",
    "l=0.2e-3#air gap\n",
    "l1=15e-2#air gap\n",
    "A1=8e-4\n",
    "H1=450 \n",
    "F1=0.6e-3\n",
    "H2=140\n",
    "TN=500 #total turns\n",
    "\n",
    "#calculations\n",
    "B=F/A #Wb/m**2\n",
    "H=B/(4*math.pi*10**-7*u)\n",
    "S=H*l #amperes turns in air gap\n",
    "S1=H1*l1 #AT\n",
    "B1=F1/A1 #Wb/m**2\n",
    "S2=H2*30e-2 #AT\n",
    "TAN=S+S1+S2 #turns\n",
    "EI=TAN/TN #ampere\n",
    "\n",
    "#result\n",
    "print \" exciting current = \" , round(EI,3) , \"amperes\"\n",
    "\n",
    "#round off error in book\n"
   ]
  },
  {
   "cell_type": "markdown",
   "metadata": {},
   "source": [
    "##Example2.11, page number 63"
   ]
  },
  {
   "cell_type": "code",
   "execution_count": 11,
   "metadata": {
    "collapsed": false
   },
   "outputs": [
    {
     "name": "stdout",
     "output_type": "stream",
     "text": [
      "Hysteresis loop =  10.0 j/s\n"
     ]
    }
   ],
   "source": [
    "#Calculate hysteresis loss\n",
    "\n",
    "#variable declaration\n",
    "A=50 #area of hysterisis\n",
    "H=200 #AT/m\n",
    "B=0.2 #Wb/m**2\n",
    "f=50 #Hz\n",
    "D=10 # density\n",
    "M=1000 # mass\n",
    "\n",
    "#calculations\n",
    "V=M/D # velocity is mass /density\n",
    "HL=A*H*B #j/m**2/cycle\n",
    "HL1=A*H*B*10**-4 #j/cycle\n",
    "HL2=A*H*B*50*1e-4 #j/s\n",
    "\n",
    "#result\n",
    "print \"Hysteresis loop = \" ,HL2, \"j/s\"\n"
   ]
  }
 ],
 "metadata": {
  "kernelspec": {
   "display_name": "Python 2",
   "language": "python",
   "name": "python2"
  },
  "language_info": {
   "codemirror_mode": {
    "name": "ipython",
    "version": 2
   },
   "file_extension": ".py",
   "mimetype": "text/x-python",
   "name": "python",
   "nbconvert_exporter": "python",
   "pygments_lexer": "ipython2",
   "version": "2.7.8"
  }
 },
 "nbformat": 4,
 "nbformat_minor": 0
}
