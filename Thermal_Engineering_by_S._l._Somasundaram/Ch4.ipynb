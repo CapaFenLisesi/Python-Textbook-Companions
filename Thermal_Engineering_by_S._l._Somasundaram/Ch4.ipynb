{
 "metadata": {
  "name": "",
  "signature": "sha256:78e90073f1d3e896aa59a93fe405edfd326289aeeacf9b8c1583b20516c1d040"
 },
 "nbformat": 3,
 "nbformat_minor": 0,
 "worksheets": [
  {
   "cells": [
    {
     "cell_type": "heading",
     "level": 1,
     "metadata": {},
     "source": [
      "Ch-4 : Vapour Power Cycles"
     ]
    },
    {
     "cell_type": "heading",
     "level": 2,
     "metadata": {},
     "source": [
      "Ex - 4.1 : Pg - 177"
     ]
    },
    {
     "cell_type": "code",
     "collapsed": false,
     "input": [
      "#initialisation of variables\n",
      "t1=523.3 #temparature under p1=40 bar in k\n",
      "t2=314.5 #temparature under p2=0.80 bar in k\n",
      "s4=2.797 #entropy under p1=40 bar \n",
      "s1=6.070 #entropy under p1=40 bar\n",
      "sf3=0.593 #entropy under p2=0.08 bar\n",
      "sfg3=7.634 #entropy under p2=0.08 bar\n",
      "h4=1087 #kj/kg\n",
      "h1=2801 #kj/kg\n",
      "hf3=174 #kj/kg under p2=0.08bar\n",
      "hfg3=2402 #kj/kg under p2=0.08bar\n",
      "#CALCULATIONS\n",
      "eff=(t1-t2)/t1\n",
      "x3=(s4-sf3)/sfg3\n",
      "x2=(s1-sf3)/sfg3\n",
      "h3=hf3+(x3*hfg3)\n",
      "h2=hf3+(x2*hfg3)\n",
      "wt=h1-h2\n",
      "cw=h4-h3\n",
      "wr=(wt-cw)/wt\n",
      "#RESULTS\n",
      "print '(a)efficiency of carnot cycle is %0.3f'%(eff)\n",
      "print '\\n(b)quality is %0.4f'%(x3)\n",
      "print '\\n(c)gross work of expansion is %0.1f'%(wt)\n",
      "print '\\n(d)work ratio is %0.3f'%(wr)"
     ],
     "language": "python",
     "metadata": {},
     "outputs": [
      {
       "output_type": "stream",
       "stream": "stdout",
       "text": [
        "(a)efficiency of carnot cycle is 0.399\n",
        "\n",
        "(b)quality is 0.2887\n",
        "\n",
        "(c)gross work of expansion is 903.7\n",
        "\n",
        "(d)work ratio is 0.757\n"
       ]
      }
     ],
     "prompt_number": 1
    },
    {
     "cell_type": "heading",
     "level": 2,
     "metadata": {},
     "source": [
      "Ex - 4.2 : Pg - 179"
     ]
    },
    {
     "cell_type": "code",
     "collapsed": false,
     "input": [
      "#initialisation of variables\n",
      "v=0.1008*10**-2\n",
      "p1=40 #pressure in bar\n",
      "p2=0.08 #pressure in bar\n",
      "wt=903.8 #kj/kg\n",
      "wp=4.02 #kj/kg\n",
      "h1=2801 #kj/kg\n",
      "h3=174 #kj/kg\n",
      "#CALCULATIONS\n",
      "pw=v*(p1-p2)\n",
      "wn=wt-wp\n",
      "qs=h1-(h3+wp)\n",
      "reff=wn/qs\n",
      "wr=wn/wt\n",
      "#RESULTS\n",
      "print '\\nrankine efficiency and work ratio is %0.3f and %0.3f'%(reff,wr)"
     ],
     "language": "python",
     "metadata": {},
     "outputs": [
      {
       "output_type": "stream",
       "stream": "stdout",
       "text": [
        "\n",
        "rankine efficiency and work ratio is 0.343 and 0.996\n"
       ]
      }
     ],
     "prompt_number": 2
    },
    {
     "cell_type": "heading",
     "level": 2,
     "metadata": {},
     "source": [
      "Ex - 4.3 : Pg - 180"
     ]
    },
    {
     "cell_type": "code",
     "collapsed": false,
     "input": [
      "#initialisation of  variables\n",
      "h3=174 #kj/kg\n",
      "h4=178.02 #kj/kg\n",
      "ieff=0.50 #isentropic efficiency of compression\n",
      "wt=903.8 #kj/kg\n",
      "feff=0.75 #furnace efficiency\n",
      "ieeff=0.85#isentropic expansion efficiency\n",
      "wp=4.02 #kj/kg\n",
      "h1=2801 #kj/kg\n",
      "#CALCULATIONS\n",
      "hx=((h4-h3)/0.5)+174\n",
      "wr=wp/ieff\n",
      "atu=ieeff*wt\n",
      "hs=h1-hx\n",
      "nwo=atu-wr\n",
      "eff=nwo/hs\n",
      "oeff=eff*feff\n",
      "wrt=nwo/atu\n",
      "ssc=3600/nwo\n",
      "hr=3600/oeff\n",
      "#RESULTS\n",
      "print 'steam and heat rates are %0.2fkg/kwh and %0.1fkj/kwh'%(ssc,hr)"
     ],
     "language": "python",
     "metadata": {},
     "outputs": [
      {
       "output_type": "stream",
       "stream": "stdout",
       "text": [
        "steam and heat rates are 4.74kg/kwh and 16536.7kj/kwh\n"
       ]
      }
     ],
     "prompt_number": 3
    },
    {
     "cell_type": "heading",
     "level": 2,
     "metadata": {},
     "source": [
      "Ex - 4.4 : Pg - 183"
     ]
    },
    {
     "cell_type": "code",
     "collapsed": false,
     "input": [
      "#initialisation of variables\n",
      "h1=3221.6 #kj/kg\n",
      "s1=7.399 #kj/kgk\n",
      "sf2=0.521 #kj/kgk\n",
      "sfg2=7.808 #kj/kgk\n",
      "hf2=152 #kj/kg\n",
      "hfg2=2415 #kj/kg\n",
      "t1=653 #temp in k\n",
      "t2=309.2 #temp in k\n",
      "v=0.1006*10**-2\n",
      "p1=10 #pressure in bar\n",
      "p2=0.06 #pressure in bar\n",
      "h3=152 #kj/kg\n",
      "x=110\n",
      "y=639.7\n",
      "z=610\n",
      "a=2015\n",
      "#CALCULATIONS\n",
      "x2=(s1-sf2)/sfg2\n",
      "h2=hf2+(x2*hfg2)\n",
      "wo=h1-h2\n",
      "hs=h1-h3\n",
      "theff=wo/hs\n",
      "sr1=3600/wo\n",
      "ceff=(t1-t2)/t1\n",
      "wp=v*(p1-p2)\n",
      "h4=h3+wp\n",
      "reff=(x+y)/(z+a)\n",
      "sr2=3600/(x+y)\n",
      "hr=3600/reff\n",
      "print 'steam rate and carnot efficiency are %0.2fkg/kwh and %00.3f'%(sr1,ceff)\n",
      "print '\\nsteam rate and heat rate are %0.2fkg/kwh and %0.f kJ/kWh'%(sr2,hr)"
     ],
     "language": "python",
     "metadata": {},
     "outputs": [
      {
       "output_type": "stream",
       "stream": "stdout",
       "text": [
        "steam rate and carnot efficiency are 3.82kg/kwh and 0.526\n",
        "\n",
        "steam rate and heat rate are 4.80kg/kwh and 12605 kJ/kWh\n"
       ]
      }
     ],
     "prompt_number": 4
    },
    {
     "cell_type": "heading",
     "level": 2,
     "metadata": {},
     "source": [
      "Ex - 4.5 : Pg - 188"
     ]
    },
    {
     "cell_type": "code",
     "collapsed": false,
     "input": [
      "#initialisation of variables\n",
      "h1=3157 #kj/kg\n",
      "h2=2725 #kj/kg\n",
      "h3=3299 #kj/kg\n",
      "h4=2257.9 #kj/kg\n",
      "h5=1940.3 #kj/kg\n",
      "h6=152 #kj/kg\n",
      "x4=0.872\n",
      "x5=0.7405\n",
      "v=0.1006*10**-2 #volume\n",
      "p1=100 #pressure in bar\n",
      "p2=0.06 #pressure in bar\n",
      "#CALCULATIONS\n",
      "wp=v*(p1-p2)*100\n",
      "h7=h6+wp\n",
      "wt1=h1-h5\n",
      "wn1=wt1-wp\n",
      "qs1=h1-h7\n",
      "wr1=wn1/wt1\n",
      "reff=wn1/qs1\n",
      "#reheat cycle\n",
      "wt2=(h1-h2)+(h3-h4)\n",
      "wn2=wt2-wp\n",
      "wr2=wn2/wt2\n",
      "qs2=h1-h7+h3-h2\n",
      "teff=wn2/qs2\n",
      "pd=wn2/3600\n",
      "pdi=(pd-0.3352)/0.3352\n",
      "df=1-pdi\n",
      "#RESULTS\n",
      "print 'work ratio and rakine efficiency of rankine cycle is %0.4f and %0.3f'%(wr1,reff)\n",
      "print 'dryness fraction of steam is 0.872'\n",
      "print '\\nheat supplied is %0.2f'%(qs1)\n",
      "print '\\npower developed is %0.2f'%(pd)\n",
      "print '\\npower developed per kg of steam is %0.4f'%(pdi)"
     ],
     "language": "python",
     "metadata": {},
     "outputs": [
      {
       "output_type": "stream",
       "stream": "stdout",
       "text": [
        "work ratio and rakine efficiency of rankine cycle is 0.9917 and 0.403\n",
        "dryness fraction of steam is 0.872\n",
        "\n",
        "heat supplied is 2994.95\n",
        "\n",
        "power developed is 0.41\n",
        "\n",
        "power developed per kg of steam is 0.2124\n"
       ]
      }
     ],
     "prompt_number": 5
    },
    {
     "cell_type": "heading",
     "level": 2,
     "metadata": {},
     "source": [
      "Ex - 4.6 : Pg - 195"
     ]
    },
    {
     "cell_type": "code",
     "collapsed": false,
     "input": [
      "#initialisation of variables\n",
      "h1=2979 #kj/kg\n",
      "h2=2504.3 #kj/kg\n",
      "h3=1987.4 #kj/kg\n",
      "h4=152 #kj/kg\n",
      "h6=561 #kj/kg\n",
      "#CALCULATIONS\n",
      "m=(h6-h4)/(h2-h4)\n",
      "wo=(h1-h2)+(1-m)*(h2-h3)\n",
      "qs=h1-h6\n",
      "teff=wo/qs\n",
      "ssc=3600/wo\n",
      "#RESULTS\n",
      "print 'work output is %0.1f kJ/kg'%(wo)\n",
      "print '\\nheat supplied is %0.f kJ/kg'%(qs)\n",
      "print '\\nthermal efficiency is %0.3f'%(teff)\n",
      "print '\\nspecific steam consumption is %0.2fkg/kwh'%(ssc)"
     ],
     "language": "python",
     "metadata": {},
     "outputs": [
      {
       "output_type": "stream",
       "stream": "stdout",
       "text": [
        "work output is 901.7 kJ/kg\n",
        "\n",
        "heat supplied is 2418 kJ/kg\n",
        "\n",
        "thermal efficiency is 0.373\n",
        "\n",
        "specific steam consumption is 3.99kg/kwh\n"
       ]
      }
     ],
     "prompt_number": 6
    },
    {
     "cell_type": "heading",
     "level": 2,
     "metadata": {},
     "source": [
      "Ex - 4.7 : Pg - 196"
     ]
    },
    {
     "cell_type": "code",
     "collapsed": false,
     "input": [
      "#initialisation of variables\n",
      "h1=3222.5 #kj/kg\n",
      "h2=3127.5 #kj/kg\n",
      "h3=2692.5 #kj/kg\n",
      "h4=2406.7 #kj/kg\n",
      "h5=360 #kj/kg\n",
      "h6=360 #kj/kg\n",
      "h7=584 #kj/kg\n",
      "h8=962 #kj/kg\n",
      "#CALCULATIONS\n",
      "m1=(h8-h7)/(h2-h7)\n",
      "m2=((1-m1)*(h7-h5))/(h3-h5)\n",
      "wo=(h1-h2)+(1-m1)*(h2-h3)+(1-m1-m2)*(h3-h4)\n",
      "qs=h1-h8\n",
      "teff=wo/qs\n",
      "sr=3600/wo\n",
      "#RESULTS\n",
      "print 'work output is %0.1f kJ/kg'%(wo)\n",
      "print '\\nheat supplied is %0.1f kJ/kg'%(qs)\n",
      "print '\\nthermal efficiency is %0.4f'%(teff)\n",
      "print '\\nsteam rate is %0.2f kg/kwh'%(sr)"
     ],
     "language": "python",
     "metadata": {},
     "outputs": [
      {
       "output_type": "stream",
       "stream": "stdout",
       "text": [
        "work output is 685.3 kJ/kg\n",
        "\n",
        "heat supplied is 2260.5 kJ/kg\n",
        "\n",
        "thermal efficiency is 0.3032\n",
        "\n",
        "steam rate is 5.25 kg/kwh\n"
       ]
      }
     ],
     "prompt_number": 7
    },
    {
     "cell_type": "heading",
     "level": 1,
     "metadata": {},
     "source": [
      "Ex - 4.8 : Pg - 197"
     ]
    },
    {
     "cell_type": "code",
     "collapsed": false,
     "input": [
      "from __future__ import division\n",
      "#initialisation of variables\n",
      "h1=2990 #kj/kg\n",
      "h2=2710 #kj/kg\n",
      "h3=2325 #kj/kg\n",
      "h4=152 #kj/kg\n",
      "h5=152 #kj/kg\n",
      "h7=505 #kj/kg\n",
      "wo=612 #kj/kg\n",
      "qs=2485 #kj/kg\n",
      "#CALCULATIONS\n",
      "m=(h7-h4)/(h2-h4)\n",
      "mph=m*30000\n",
      "ip=((h1-h2)+(1-m)*(h2-h3))*(30000/3600)\n",
      "teff=wo/qs\n",
      "#when there is no feeding\n",
      "eff=(h1-h3)/(h1-h4)\n",
      "sc=(3600/(h1-h3))*ip\n",
      "#RESULTS\n",
      "print 'internal powers is %0.f kW'%(ip)\n",
      "print '\\nthermal efficiency when feeding is there is %0.4f'%(teff)\n",
      "print '\\nwhen there is no feed heating,thermal efficiency is %0.4f'%(eff)\n",
      "print '\\nsteam consumption is %0.f kg/h'%(sc)"
     ],
     "language": "python",
     "metadata": {},
     "outputs": [
      {
       "output_type": "stream",
       "stream": "stdout",
       "text": [
        "internal powers is 5099 kW\n",
        "\n",
        "thermal efficiency when feeding is there is 0.2463\n",
        "\n",
        "when there is no feed heating,thermal efficiency is 0.2343\n",
        "\n",
        "steam consumption is 27603 kg/h\n"
       ]
      }
     ],
     "prompt_number": 8
    },
    {
     "cell_type": "heading",
     "level": 2,
     "metadata": {},
     "source": [
      "Ex - 4.10 : Pg - 202"
     ]
    },
    {
     "cell_type": "code",
     "collapsed": false,
     "input": [
      "#initialisation of variables\n",
      "#for the mercury cycle\n",
      "ha=360.025 #kj/kg\n",
      "sa=0.50625 #kj/kgk\n",
      "sfb=0.0961 #kj/kgk\n",
      "sfgb=0.5334 #kj/kgk\n",
      "hfb=38.05 #kj/kg\n",
      "hfgb=294.02 #kj/kg\n",
      "#for the steam cycle\n",
      "h5=2801 #kj/kg\n",
      "h3=163 #kj/kg\n",
      "hb=264.2 #kj/kg\n",
      "h1=2963 #kj/kg\n",
      "s1=6.364 #kj/kgk\n",
      "sf2=0.559 #kj/kgk\n",
      "sfg2=7.715 #kj/kgk\n",
      "qs=3916.2 #kj/kg\n",
      "hf2=163 #kj/kg\n",
      "hfg2=2409 #kj/kg\n",
      "#CALCULATIONS\n",
      "xb=(sa-sfb)/sfgb\n",
      "hb=hfb+(xb*hfgb)\n",
      "m1=(h5-h3)/(hb-hfb)\n",
      "x2=(s1-sf2)/sfg2\n",
      "h2=hf2+(x2*hfg2)\n",
      "wn=m1*(ha-hb)+(h1-h2)\n",
      "teff1=wn/qs\n",
      "hx=ha-(0.8*(ha-hb))\n",
      "hy=h1-(0.8*(h1-h2))\n",
      "m2=(h5-h3)/(hx-hfb)\n",
      "wo=m2*(ha-hx)+(h1-hy)\n",
      "qs=m2*(ha-hfb)+(h1-h5)\n",
      "teff2=wo/qs\n",
      "#RESULTS\n",
      "print 'thermal efficiency of steam cycle is %0.3f'%(teff1)\n",
      "print '\\nwork output of plant is %0.1f kJ/kg'%(wo)\n",
      "print '\\nheat supplied is %0.1f kJ/kg'%(qs)\n",
      "print '\\nthermal efficiency of the plant is %0.4f'%(teff2)"
     ],
     "language": "python",
     "metadata": {},
     "outputs": [
      {
       "output_type": "stream",
       "stream": "stdout",
       "text": [
        "thermal efficiency of steam cycle is 0.538\n",
        "\n",
        "work output of plant is 1615.0 kJ/kg\n",
        "\n",
        "heat supplied is 3625.1 kJ/kg\n",
        "\n",
        "thermal efficiency of the plant is 0.4455\n"
       ]
      }
     ],
     "prompt_number": 9
    },
    {
     "cell_type": "heading",
     "level": 2,
     "metadata": {},
     "source": [
      "Ex - 4.11 : Pg - 205"
     ]
    },
    {
     "cell_type": "code",
     "collapsed": false,
     "input": [
      "#initialisation of variables\n",
      "ha=360.025 #kj/kg\n",
      "hfb=38.05 #kj/kg\n",
      "hb=264.2 #kj/kg\n",
      "h1=2963 #kj/kg\n",
      "h2=1974.6 #kj/kg\n",
      "h3=163 #kj/kg\n",
      "h4=1087 #kj/kg\n",
      "h=1714 #kj/kg\n",
      "#CALCULATIONS\n",
      "m=h/(hb-hfb)\n",
      "wo=7.58*(ha-hb)+(h1-h2)\n",
      "qs=7.58*(ha-hfb)+(h4-h3)+(h1-h)\n",
      "teff=(wo/qs)\n",
      "#RESULTS\n",
      "print 'thermal efficiency is %0.1f %%'%(teff*100.0)"
     ],
     "language": "python",
     "metadata": {},
     "outputs": [
      {
       "output_type": "stream",
       "stream": "stdout",
       "text": [
        "thermal efficiency is 37.2 %\n"
       ]
      }
     ],
     "prompt_number": 10
    },
    {
     "cell_type": "heading",
     "level": 2,
     "metadata": {},
     "source": [
      "Ex - 4.12 : Pg - 205"
     ]
    },
    {
     "cell_type": "code",
     "collapsed": false,
     "input": [
      "#initialisation of variables\n",
      "ha=359.11 #under 10 bar pressure in kj/kg\n",
      "sa=0.5089 #under 10 bar pressure in kj/kgk\n",
      "sfb=0.0870 #under 0.08 bar pressure in kj/kgk\n",
      "sfgb=0.57 #under 0.08 bar pressure in kj/kgk\n",
      "hfb=33.21 #under 0.08 bar pressure in kj/kg\n",
      "hfgb=294.7 #under 0.08 bar pressure in kj/kg\n",
      "h=1840.5 #kj/kg\n",
      "h1=3350 #under 25 bar pressure and 723 k in kj/kg\n",
      "s1=7.183 #under 25 bar pressure and 723 k in kj/kgk\n",
      "sf2=0.476 #under 25 bar pressure and 723 k in kj/kgk\n",
      "sfg2=7.918 #under 25 bar pressure and 723 k in kj/kgk\n",
      "hf2=138 #under 25 bar pressure and 723 ki n kj/kg\n",
      "hfg2=2423 #under 25 bar pressure and 723 k in kj/kg\n",
      "h5=964 #kj/kg\n",
      "#CALCULATIONS\n",
      "xb=(sa-sfb)/(sfgb)\n",
      "hb=hfb+(xb*hfgb)\n",
      "m=h/(hb-hfb)\n",
      "x2=(s1-sf2)/sfg2\n",
      "h2=hf2+(x2*hfg2)\n",
      "wo=8.47*(ha-hb)+(h1-h2)\n",
      "qs=8.47*(ha-hfb)+(h5-138)+(h1-2802.5)\n",
      "teff=(wo/qs)*100\n",
      "#RESULTS\n",
      "print 'work output is %0.1f kJ/kg of steam'%(wo) #textbook ans slightly varies\n",
      "print '\\nheat supplied to the plant is %0.1f kJ/kg of steam'%(qs)\n",
      "print '\\nthermal efficiency is %0.1f %%'%(teff)"
     ],
     "language": "python",
     "metadata": {},
     "outputs": [
      {
       "output_type": "stream",
       "stream": "stdout",
       "text": [
        "work output is 2072.4 kJ/kg of steam\n",
        "\n",
        "heat supplied to the plant is 4133.9 kJ/kg of steam\n",
        "\n",
        "thermal efficiency is 50.1 %\n"
       ]
      }
     ],
     "prompt_number": 11
    }
   ],
   "metadata": {}
  }
 ]
}