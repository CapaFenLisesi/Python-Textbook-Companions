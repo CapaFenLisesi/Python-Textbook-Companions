{
 "metadata": {
  "name": "",
  "signature": "sha256:42e2ded71019e096fa78e5ec8ee8970ec5e9f7c3ad7b071fbd97280ef33b24b4"
 },
 "nbformat": 3,
 "nbformat_minor": 0,
 "worksheets": [
  {
   "cells": [
    {
     "cell_type": "heading",
     "level": 1,
     "metadata": {},
     "source": [
      "Ch-8 : Refrigeration"
     ]
    },
    {
     "cell_type": "heading",
     "level": 2,
     "metadata": {},
     "source": [
      "Ex - 8.1 : Pg - 325"
     ]
    },
    {
     "cell_type": "code",
     "collapsed": false,
     "input": [
      "#initialisation of variables\n",
      "cc=12000 #btu/h\n",
      "pi=1565 #/watts\n",
      "ra=7 #btu/h/w\n",
      "#CALCULATIONS\n",
      "EER=cc/pi\n",
      "p1=cc/ra\n",
      "#RESULTS\n",
      "print 'EER is %0.2f '%(EER)\n",
      "print '\\npower consumption of first unit is %0.2f Watts'%(p1)"
     ],
     "language": "python",
     "metadata": {},
     "outputs": [
      {
       "output_type": "stream",
       "stream": "stdout",
       "text": [
        "EER is 7.00 \n",
        "\n",
        "power consumption of first unit is 1714.00 Watts\n"
       ]
      }
     ],
     "prompt_number": 3
    },
    {
     "cell_type": "heading",
     "level": 2,
     "metadata": {},
     "source": [
      "Ex - 8.2 : Pg - 327"
     ]
    },
    {
     "cell_type": "code",
     "collapsed": false,
     "input": [
      "#initialisation of variables\n",
      "t1=278 #temparature in k\n",
      "t2=300 #temparature in k\n",
      "hf2=21 #kj/kg\n",
      "hfg2=2489.7 #kj/kg\n",
      "h3=113.1 #under 300 k in kj/kg\n",
      "x2=0.8\n",
      "p=3.154 #power\n",
      "#CALCULATIONS\n",
      "cop=t1/(t2-t1)\n",
      "h2=hf2+(x2*hfg2)\n",
      "re=h2-h3\n",
      "pr=p/cop\n",
      "#RESULTS\n",
      "print 'cop is %0.2f '%(cop)\n",
      "print '\\npower required is %0.4f kw/ton of refrigeration'%(pr)\n",
      "print '\\nrefrigeration effect is %0.1f kJ/kg'%(re)"
     ],
     "language": "python",
     "metadata": {},
     "outputs": [
      {
       "output_type": "stream",
       "stream": "stdout",
       "text": [
        "cop is 12.00 \n",
        "\n",
        "power required is 0.2628 kw/ton of refrigeration\n",
        "\n",
        "refrigeration effect is 1899.7 kJ/kg\n"
       ]
      }
     ],
     "prompt_number": 4
    },
    {
     "cell_type": "heading",
     "level": 2,
     "metadata": {},
     "source": [
      "Ex - 8.3 : Pg - 330"
     ]
    },
    {
     "cell_type": "code",
     "collapsed": false,
     "input": [
      "#initialisation of variables\n",
      "t1=253 #temp in k\n",
      "t3=313 #temp in k\n",
      "cp=1.005 #kj/kg\n",
      "r=4 #bar\n",
      "g=1.4\n",
      "#CALCULATIONS\n",
      "t2=(t1*(r)**((g-1)/g))\n",
      "t4=(t3/(r)**((g-1)/g))\n",
      "re=cp*(t1-t4)\n",
      "wi=cp*((t2-t3)-(t1-t4))\n",
      "cop=re/wi\n",
      "ma=(3.5164*10)/re\n",
      "p=ma*wi\n",
      "#RESULTS\n",
      "print 'cop is %0.2f '%(cop)\n",
      "print '\\nmass of refrigeration is %0.3f kg/s'%(ma)\n",
      "print '\\npower required to drive the unit is %0.1f kW'%(p)"
     ],
     "language": "python",
     "metadata": {},
     "outputs": [
      {
       "output_type": "stream",
       "stream": "stdout",
       "text": [
        "cop is 2.06 \n",
        "\n",
        "mass of refrigeration is 0.826 kg/s\n",
        "\n",
        "power required to drive the unit is 17.1 kW\n"
       ]
      }
     ],
     "prompt_number": 5
    },
    {
     "cell_type": "heading",
     "level": 2,
     "metadata": {},
     "source": [
      "Ex - 8.4 : Pg - 330"
     ]
    },
    {
     "cell_type": "code",
     "collapsed": false,
     "input": [
      "#initialisation of variables\n",
      "t1=261 #temp in k\n",
      "t3=310 #temp in k\n",
      "cp=1.005 #kj/kg\n",
      "r=5\n",
      "#CALCULATIONS\n",
      "t2=(t1*(r)**((g-1)/g))\n",
      "t4=(t3/(r)**((g-1)/g))\n",
      "re=cp*(t1-t4)\n",
      "ma=(3.5164*3600)/re\n",
      "woc=cp*(t2-t1)\n",
      "woe=cp*(t3-t4)\n",
      "nw=woc-woe\n",
      "cop1=re/nw\n",
      "cop2=t1/(t3-t1)\n",
      "reff=cop1/cop2\n",
      "#RESULTS\n",
      "print 'temparature at states 2 and 4 are %0.1f k and %0.1f k'%(t2,t4)\n",
      "print '\\nmass of air per hour is %0.2f kg/h'%(ma)\n",
      "print '\\nnet work required is %0.2f kJ/kg'%(nw)\n",
      "print '\\ncoefficient of perfoemance is %0.3f '%(cop1)\n",
      "print '\\nrelative efficiency is %0.4f '%(reff)"
     ],
     "language": "python",
     "metadata": {},
     "outputs": [
      {
       "output_type": "stream",
       "stream": "stdout",
       "text": [
        "temparature at states 2 and 4 are 413.4 k and 195.7 k\n",
        "\n",
        "mass of air per hour is 192.98 kg/h\n",
        "\n",
        "net work required is 38.30 kJ/kg\n",
        "\n",
        "coefficient of perfoemance is 1.713 \n",
        "\n",
        "relative efficiency is 0.3426 \n"
       ]
      }
     ],
     "prompt_number": 6
    },
    {
     "cell_type": "heading",
     "level": 2,
     "metadata": {},
     "source": [
      "Ex - 8.5 : Pg - 334"
     ]
    },
    {
     "cell_type": "code",
     "collapsed": false,
     "input": [
      "#initialisation of variables\n",
      "h1=176.48 #under -25 degrees temp in kj/kg\n",
      "s1=0.7127 #under -25 degrees temp in kj/kgk\n",
      "h2=215.17 #under 58 degrees temp in kj/kg\n",
      "h3=79.71 #under 45 degrees temp in kj/kg\n",
      "h4=79.71 #under 45 degrees temp in kj/kg\n",
      "no=20 # number of tons\n",
      "#CALCULATIONS\n",
      "w=h2-h1\n",
      "re=h1-h4\n",
      "cop=re/w\n",
      "ha=no*3.5164\n",
      "cr=ha/re\n",
      "pr=cr*w\n",
      "#RESULTS\n",
      "print 'the refrigeration effect is %0.2f kJ/kg'%(re)\n",
      "print '\\ncoefficient of performance is %0.2f '%(cop)\n",
      "print '\\npower required is %0.2f kw'%(pr)\n",
      "print '\\ncirculating rate of refrigerant is %0.3f kg/s'%(cr)"
     ],
     "language": "python",
     "metadata": {},
     "outputs": [
      {
       "output_type": "stream",
       "stream": "stdout",
       "text": [
        "the refrigeration effect is 96.77 kJ/kg\n",
        "\n",
        "coefficient of performance is 2.50 \n",
        "\n",
        "power required is 28.12 kw\n",
        "\n",
        "circulating rate of refrigerant is 0.727 kg/s\n"
       ]
      }
     ],
     "prompt_number": 7
    },
    {
     "cell_type": "heading",
     "level": 2,
     "metadata": {},
     "source": [
      "Ex - 8.6 : Pg - 335"
     ]
    },
    {
     "cell_type": "code",
     "collapsed": false,
     "input": [
      "#initialisation of variables\n",
      "h1=176.48 #under -25 degrees temp in kj/kg\n",
      "h2=215.17 #kj/kg\n",
      "h4=74.59 #kj/kg\n",
      "#CALCULATIONS\n",
      "re=h1-h4\n",
      "w=h2-h1\n",
      "cop=re/w\n",
      "#RESULTS\n",
      "print 'the refrigeration effect is %0.2f kj/kg'%(re)\n",
      "print '\\ncoefficient of performance is %0.2f '%(cop)"
     ],
     "language": "python",
     "metadata": {},
     "outputs": [
      {
       "output_type": "stream",
       "stream": "stdout",
       "text": [
        "the refrigeration effect is 101.89 kj/kg\n",
        "\n",
        "coefficient of performance is 2.63 \n"
       ]
      }
     ],
     "prompt_number": 8
    },
    {
     "cell_type": "heading",
     "level": 2,
     "metadata": {},
     "source": [
      "Ex - 8.7 : Pg - 335"
     ]
    },
    {
     "cell_type": "code",
     "collapsed": false,
     "input": [
      "#initialisation of variables\n",
      "h1=179.43 #under -25 degrees temp in kj/kg\n",
      "h2=219.03 #kj/kg\n",
      "h4=74.59 #kj/kg\n",
      "#CALCULATIONS\n",
      "re=h1-h4\n",
      "w=h2-h1\n",
      "cop=re/w\n",
      "#RESULTS\n",
      "print 'the refrigeration effect is %0.2f kJ/kg'%(re)\n",
      "print '\\ncoefficient of performance is %0.2f '%(cop)"
     ],
     "language": "python",
     "metadata": {},
     "outputs": [
      {
       "output_type": "stream",
       "stream": "stdout",
       "text": [
        "the refrigeration effect is 104.84 kJ/kg\n",
        "\n",
        "coefficient of performance is 2.65 \n"
       ]
      }
     ],
     "prompt_number": 9
    },
    {
     "cell_type": "heading",
     "level": 2,
     "metadata": {},
     "source": [
      "Ex - 8.8 : Pg - 336"
     ]
    },
    {
     "cell_type": "code",
     "collapsed": false,
     "input": [
      "#initialisation of variables\n",
      "h2=1472.6 #kj/kg\n",
      "s2=4.898 #kj/kgk\n",
      "sf1=0.510 #kj/kgk\n",
      "sfg1=5.504 #kj/kgk\n",
      "hf1=126.2 #kj/kg\n",
      "hfg1=1304.3 #kj/kg\n",
      "h4=362.1 #under 38 degrees in kj/kg\n",
      "h2=1472.6 #kj/kg\n",
      "h3=362.1 #under 38 degrees in kj/kg\n",
      "t1=261 #temp in k\n",
      "t2=311 #temp in k\n",
      "#CALCULATIONS\n",
      "x1=(s2-sf1)/sfg1\n",
      "h1=hf1+(x1*hfg1)\n",
      "re=h1-h4\n",
      "w=h2-h1\n",
      "cop=re/w\n",
      "hr=h2-h3\n",
      "ca=(2*re*50)/(3600*3.5164)\n",
      "pom=100*w/3600\n",
      "ccop=t1/(t2-t1)\n",
      "rff=cop/ccop\n",
      "#RESULTS\n",
      "print 'coefficient of performance is %0.2f '%(cop)\n",
      "print '\\nheat rejected in the condenser is %0.2f kJ/kg'%(hr)\n",
      "print '\\nrefrigerating effect is %0.1f kJ/kg'%(re)\n",
      "print '\\ncapacity of motor is %0.2f rons of refrigeration'%(ca)\n",
      "print '\\npower of motor is %0.2f kw'%(pom)\n",
      "print '\\nrefrigerating befficiency is %0.3f '%(rff)"
     ],
     "language": "python",
     "metadata": {},
     "outputs": [
      {
       "output_type": "stream",
       "stream": "stdout",
       "text": [
        "coefficient of performance is 2.62 \n",
        "\n",
        "heat rejected in the condenser is 1110.50 kJ/kg\n",
        "\n",
        "refrigerating effect is 803.9 kJ/kg\n",
        "\n",
        "capacity of motor is 6.35 rons of refrigeration\n",
        "\n",
        "power of motor is 8.52 kw\n",
        "\n",
        "refrigerating befficiency is 0.524 \n"
       ]
      }
     ],
     "prompt_number": 10
    },
    {
     "cell_type": "heading",
     "level": 2,
     "metadata": {},
     "source": [
      "Ex - 8.9 : Pg - 337"
     ]
    },
    {
     "cell_type": "code",
     "collapsed": false,
     "input": [
      "#initialisation of variables\n",
      "hf1=-7.53 #kj/kg\n",
      "hfg1=245.8 #kj/kg\n",
      "x1=0.6\n",
      "sf1=-0.04187 #kj/kgk\n",
      "t1=268 #temp in degrees\n",
      "sf2=0.2513 #kj/kgk\n",
      "hf2=81.25 #kj/kg\n",
      "hfg2=121.5 #kj/kg\n",
      "t2=298 #temp in k\n",
      "h4=81.25 #under 20 degrees in kj/kg\n",
      "h3=81.25 #under 20 degrees in kj/kg\n",
      "sh=4.2 #kj/kgk\n",
      "lt=335 #kj/kg\n",
      "reff=0.5\n",
      "sfg1= 1 #kj/kg\n",
      "s2= 1 #kj/kg\n",
      "#CALCULATIONS\n",
      "h1=hf1+(x1*hfg1)\n",
      "s1=sf1+(x1*sfg1)\n",
      "x2=((s2-sf2)/hfg2)*t2\n",
      "h2=hf2+(x2*hfg2)\n",
      "re=h1-h4\n",
      "are=re*reff\n",
      "he=sh*10+lt\n",
      "ma=(are*6*60)/he\n",
      "#RESULTS\n",
      "print 'refrigerating effect is %0.2f kJ/kg'%(re)\n",
      "print '\\nactual refrigerating effect is %0.2f kJ/kg'%(are)\n",
      "print '\\nheat to be extracted to produce 1kg of ice is %0.2f kJ/kg of ice'%(he)\n",
      "print '\\nmass of ice formed is %0.2f kg/day'%(ma)"
     ],
     "language": "python",
     "metadata": {},
     "outputs": [
      {
       "output_type": "stream",
       "stream": "stdout",
       "text": [
        "refrigerating effect is 58.70 kJ/kg\n",
        "\n",
        "actual refrigerating effect is 29.35 kJ/kg\n",
        "\n",
        "heat to be extracted to produce 1kg of ice is 377.00 kJ/kg of ice\n",
        "\n",
        "mass of ice formed is 28.03 kg/day\n"
       ]
      }
     ],
     "prompt_number": 11
    },
    {
     "cell_type": "heading",
     "level": 2,
     "metadata": {},
     "source": [
      "Ex - 8.10 : Pg - 340"
     ]
    },
    {
     "cell_type": "code",
     "collapsed": false,
     "input": [
      "#initialisation of variables\n",
      "ph=13.89 #pressure in bar under 36 degrees temp\n",
      "p1=1.447 #pressure in bar under -26 degrees temp\n",
      "h1=1411.4 #kj/kg\n",
      "s1=5.718 #kj/kgk\n",
      "h2=1561.7 #kj/kg\n",
      "h3= 150 #kj/kg\n",
      "h4=185.8 #kj/kg\n",
      "h5=1445.5 #kj/kg\n",
      "s5=5.327 #kj/kgk\n",
      "s5=5.327 #kj/kgk\n",
      "h6=1607.6 #kj/kg\n",
      "r=25\n",
      "#CALCULATIONS\n",
      "pi=(p1*ph)**0.5\n",
      "m1=(3.5164*r)/(h1-h4)\n",
      "mh=m1*(h2-h3)/(h5-h1)\n",
      "poc=m1*(h2-h1)\n",
      "pohc=mh*(h6-h5)\n",
      "pr=poc+pohc\n",
      "re=h1-h4\n",
      "wi=(h2-h1)+(h6-h5)\n",
      "cop=re/wi\n",
      "#RESULTS\n",
      "# ans in the book is wrong.\n",
      "print 'power of lp compressor is %0.2f kW'%(poc)\n",
      "print '\\npower of hp compressor is %0.2f kW'%(pohc)\n",
      "print '\\ntotal power required is %0.2f kW'%(pr)\n",
      "print '\\nrefrigerating effect is %0.2f kJ/kg'%(re)\n",
      "print '\\ncoefficient of performance is %0.2f '%(cop)"
     ],
     "language": "python",
     "metadata": {},
     "outputs": [
      {
       "output_type": "stream",
       "stream": "stdout",
       "text": [
        "power of lp compressor is 10.78 kW\n",
        "\n",
        "power of hp compressor is 481.35 kW\n",
        "\n",
        "total power required is 492.13 kW\n",
        "\n",
        "refrigerating effect is 1225.60 kJ/kg\n",
        "\n",
        "coefficient of performance is 3.92 \n"
       ]
      }
     ],
     "prompt_number": 12
    },
    {
     "cell_type": "heading",
     "level": 2,
     "metadata": {},
     "source": [
      "Ex - 8.11 : Pg - 341"
     ]
    },
    {
     "cell_type": "code",
     "collapsed": false,
     "input": [
      "#initialisation of variables\n",
      "h1=1411.4 #kj/kg\n",
      "s1=5.718 #kj/kgk\n",
      "s2=5.718 #kj/kgk\n",
      "h2=1755.7 #kj/kg\n",
      "h4=352.3 #under 13.89 bar in kj/kg\n",
      "h3=352.3 #under 13.89 bar in kj/kg \n",
      "#CALCULATIONS\n",
      "m=(3.5164*25)/(h1-h4)\n",
      "poc=m*(h2-h1)\n",
      "cop=(h1-h4)/(h2-h1)\n",
      "#RESULTS\n",
      "print 'mass flow rate of refrigerant is %0.3f kg/s'%(m)\n",
      "print '\\ncoefficient of performance is %0.2f '%(cop)\n",
      "print '\\npower of compressor is %0.2f kW'%(poc)"
     ],
     "language": "python",
     "metadata": {},
     "outputs": [
      {
       "output_type": "stream",
       "stream": "stdout",
       "text": [
        "mass flow rate of refrigerant is 0.083 kg/s\n",
        "\n",
        "coefficient of performance is 3.08 \n",
        "\n",
        "power of compressor is 28.58 kW\n"
       ]
      }
     ],
     "prompt_number": 13
    },
    {
     "cell_type": "heading",
     "level": 2,
     "metadata": {},
     "source": [
      "Ex - 8.12 : Pg - 342"
     ]
    },
    {
     "cell_type": "code",
     "collapsed": false,
     "input": [
      "#initialisation of variables\n",
      "h1=178.73 #under -20 degrees in kj/kg\n",
      "h5=185.66 #under 5 degrees in kj/kg\n",
      "h3=79.71 #under 10.84 degrees in kj/kg\n",
      "h6=79.71 #under 10.84 degrees in kj/kg\n",
      "h4=79.71 #under 10.84 degrees in kj/kg\n",
      "h2=219.33 #kj/kg\n",
      "#CALCULATIONS\n",
      "m1=(7*211)/(h1-h4)\n",
      "mh=(5*211)/(h5-h4)\n",
      "h8=((m1*h1)+(mh*h5))/(m1+mh)\n",
      "poc=(m1+mh)*(h2-h8)\n",
      "cop=(12*211)/poc\n",
      "#RESULTS\n",
      "# ans in the book is wrong.\n",
      "print 'power of compressor is %0.2f kJ/min'%(poc)\n",
      "print '\\nrefrigerant flow rate is %0.2f kg/min'%(mh)\n",
      "print '\\ncoefficient of performance is %0.2f '%(cop)"
     ],
     "language": "python",
     "metadata": {},
     "outputs": [
      {
       "output_type": "stream",
       "stream": "stdout",
       "text": [
        "power of compressor is 940.87 kJ/min\n",
        "\n",
        "refrigerant flow rate is 9.96 kg/min\n",
        "\n",
        "coefficient of performance is 2.69 \n"
       ]
      }
     ],
     "prompt_number": 14
    },
    {
     "cell_type": "heading",
     "level": 2,
     "metadata": {},
     "source": [
      "Ex - 8.13 : Pg - 344"
     ]
    },
    {
     "cell_type": "code",
     "collapsed": false,
     "input": [
      "#initialisation of variables\n",
      "h1=185.38 #under -5 degrees temp in kj/kg\n",
      "s1=0.6991 #nder -5 degrees temp in kj/kgk\n",
      "ps2=7.449 #under 30 degrees in bar\n",
      "s2=0.6991 #under 30 degrees in bar\n",
      "h2=203.9 #kj/kg\n",
      "h3=64.59 #kj/kg\n",
      "h4=64.59 #kj/kg\n",
      "#CALCULATIONS\n",
      "he=h2-h3\n",
      "wi=h2-h1\n",
      "cop1=he/wi\n",
      "mf=84400/he\n",
      "pr=(mf/3600)*(wi)\n",
      "coe=pr*1\n",
      "#RESULTS\n",
      "print 'coefficient of performance is %0.3f '%(cop1)\n",
      "print '\\nmass flow rate of refrigerant is %0.2f kg/h'%(mf)\n",
      "print '\\npower required is %0.2f kw'%(pr)\n",
      "print '\\ncost of electricity is %0.2f rs'%(coe)"
     ],
     "language": "python",
     "metadata": {},
     "outputs": [
      {
       "output_type": "stream",
       "stream": "stdout",
       "text": [
        "coefficient of performance is 7.522 \n",
        "\n",
        "mass flow rate of refrigerant is 605.84 kg/h\n",
        "\n",
        "power required is 3.12 kw\n",
        "\n",
        "cost of electricity is 3.12 rs\n"
       ]
      }
     ],
     "prompt_number": 15
    },
    {
     "cell_type": "heading",
     "level": 2,
     "metadata": {},
     "source": [
      "Ex - 8.14 : Pg - 356"
     ]
    },
    {
     "cell_type": "code",
     "collapsed": false,
     "input": [
      "from __future__ import division\n",
      "#initialisation of variables\n",
      "TH = 120+273 # K\n",
      "TL = 6+273 # K\n",
      "Ta = 21+273 # K\n",
      "eff = 14/100.0\n",
      "#CALCULATIONS\n",
      "cop1 = (TL/(Ta-TL))*(TH-Ta)/TH\n",
      "cop2 = eff*cop1\n",
      "#RESULTS\n",
      "print '\\nCOP of reversible cycle is %0.2f '%(cop1)\n",
      "print '\\nCOP of actual cycle is %0.2f '%(cop2)"
     ],
     "language": "python",
     "metadata": {},
     "outputs": [
      {
       "output_type": "stream",
       "stream": "stdout",
       "text": [
        "\n",
        "COP of reversible cycle is 4.69 \n",
        "\n",
        "COP of actual cycle is 0.66 \n"
       ]
      }
     ],
     "prompt_number": 16
    },
    {
     "cell_type": "heading",
     "level": 2,
     "metadata": {},
     "source": [
      "Ex - 8.15 : Pg - 359"
     ]
    },
    {
     "cell_type": "code",
     "collapsed": false,
     "input": [
      "#initialisation of variables\n",
      "ps2=0.008129 #under 4 degree temp in bar\n",
      "ps3=0.047534 #under32 degree temp in bar\n",
      "v=0.75 #volume in m*m*m\n",
      "vf=0.001\n",
      "h1=50.4 #under 12 degree temp in kj/kg\n",
      "h2=16.8 #kj/kg\n",
      "hf3=16.8 #kj/kg\n",
      "hfg3=2492.1 #kj/kg\n",
      "x3=0.98\n",
      "vg3=157.27 #under 4 degree temparature\n",
      "#CALCULATIONS\n",
      "pr=ps3/ps2\n",
      "mfr=v/vf\n",
      "re=mfr*(h1-h2)\n",
      "h3=hf3+(x3*hfg3)\n",
      "mf3=re/(h3-h1)\n",
      "vv=mf3*x3*vg3\n",
      "#RESULTS\n",
      "print 'pressures in flash chamber are ps2=0.008129 and ps3=0.047534'\n",
      "print '\\npressure ratio is %0.2f '%(pr)\n",
      "print '\\nthe refrigeration effect is %0.2f kJ/kg'%(re)\n",
      "print '\\namount of makeup water is %0.3f kg/min'%(mf3)\n",
      "print '\\nvolume of water entering the ejector is %0.1f m*m*m/min'%(vv)"
     ],
     "language": "python",
     "metadata": {},
     "outputs": [
      {
       "output_type": "stream",
       "stream": "stdout",
       "text": [
        "pressures in flash chamber are ps2=0.008129 and ps3=0.047534\n",
        "\n",
        "pressure ratio is 5.85 \n",
        "\n",
        "the refrigeration effect is 25200.00 kJ/kg\n",
        "\n",
        "amount of makeup water is 10.462 kg/min\n",
        "\n",
        "volume of water entering the ejector is 1612.5 m*m*m/min\n"
       ]
      }
     ],
     "prompt_number": 17
    },
    {
     "cell_type": "heading",
     "level": 2,
     "metadata": {},
     "source": [
      "Ex - 8.16 : Pg - 362"
     ]
    },
    {
     "cell_type": "code",
     "collapsed": false,
     "input": [
      "#initialisation of variables\n",
      "h1=272.763 #under 300 k temp in kj/kg\n",
      "s1=6.4125 #under 300 k temp in kj/kg\n",
      "h2=230.347 #under 200 k temp in kj/kg1\n",
      "s2=4.9216 #under 300 k temp in kj/kg\n",
      "hf=-133.347 #kj/kg\n",
      "t1=300 #temp in k\n",
      "#CALCULATIONS\n",
      "y=(h1-h2)/(h1-hf)\n",
      "mw=(t1*(s2-s1))-(h2-h1)\n",
      "x=mw/0.1044\n",
      "#RESULTS\n",
      "print 'fraction of oxygen condensed is %0.4f '%(y)\n",
      "print '\\nwork required is %0.2f '%(x) #answer is wrong in tb"
     ],
     "language": "python",
     "metadata": {},
     "outputs": [
      {
       "output_type": "stream",
       "stream": "stdout",
       "text": [
        "fraction of oxygen condensed is 0.1044 \n",
        "\n",
        "work required is -3877.91 \n"
       ]
      }
     ],
     "prompt_number": 18
    },
    {
     "cell_type": "heading",
     "level": 2,
     "metadata": {},
     "source": [
      "Ex - 8.19 : Pg - 364"
     ]
    },
    {
     "cell_type": "code",
     "collapsed": false,
     "input": [
      "#initialisation of variables\n",
      "t1=300 #temp in k\n",
      "sf=2.9409 #kj/kgk\n",
      "s1=6.44125 #kj/kgk\n",
      "hf=-133.347 #kj/kg\n",
      "h1=272.763 #kj/kg\n",
      "w=-4690.5\n",
      "#CALCULATIONS\n",
      "mw=(t1*(sf-s1)-(hf-h1))\n",
      "fom=mw/w\n",
      "#RESULTS\n",
      "print 'minimum work is %0.2f kJ/kg of o2 liquefied'%(mw)\n",
      "print '\\nfigure of merit is %0.4f '%(fom)\n",
      "#ans wrong in the book."
     ],
     "language": "python",
     "metadata": {},
     "outputs": [
      {
       "output_type": "stream",
       "stream": "stdout",
       "text": [
        "minimum work is -644.00 kJ/kg of o2 liquefied\n",
        "\n",
        "figure of merit is 0.1373 \n"
       ]
      }
     ],
     "prompt_number": 19
    }
   ],
   "metadata": {}
  }
 ]
}