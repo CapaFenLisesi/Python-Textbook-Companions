{
 "metadata": {
  "name": "",
  "signature": "sha256:12ee20bd9521c10737609fb373b2e41b416d6e03938e26451dcfe9f587185285"
 },
 "nbformat": 3,
 "nbformat_minor": 0,
 "worksheets": [
  {
   "cells": [
    {
     "cell_type": "heading",
     "level": 1,
     "metadata": {},
     "source": [
      "Ch-9 : Air Compressors"
     ]
    },
    {
     "cell_type": "heading",
     "level": 2,
     "metadata": {},
     "source": [
      "Ex - 9.1 : Pg - 377"
     ]
    },
    {
     "cell_type": "code",
     "collapsed": false,
     "input": [
      "from math import log\n",
      "#initialisation of variables\n",
      "t1=305 #temp in k\n",
      "r=0.287 #kJ/kg\n",
      "p2=6 #pressure in bar\n",
      "p1=1.013 #pressure in bar\n",
      "g=1.4 #const value\n",
      "n=1.28\n",
      "v1=100 #volume\n",
      "#CALCULATIONS\n",
      "rp=(p2/p1)\n",
      "wiso=r*t1*log(p2/p1)\n",
      "wadia=(g/(g-1))*r*t1*0.6623\n",
      "wpoly=(n/(n-1))*r*t1*0.4756\n",
      "m=(p1*v1*100)/(r*t1)\n",
      "ipr=(wiso*m)/60\n",
      "apr=(wadia*m)/60\n",
      "#RESULTS\n",
      "print 'work for isthermal compression is %0.1f knm/kg'%(wiso)\n",
      "print '\\nwork for adiabatic compression is %0.1f knm/kg'%(wadia)\n",
      "print '\\nwork for polytropic compression is %0.2f knm/kg'%(wpoly)\n",
      "print '\\nmass of air compressed is %0.2f kg/min'%(m)\n",
      "print '\\nisothermal power required is %0.1f kW'%(ipr)\n",
      "print '\\nadiabatic power required is %0.1f kW'%(apr)\n",
      "    "
     ],
     "language": "python",
     "metadata": {},
     "outputs": [
      {
       "output_type": "stream",
       "stream": "stdout",
       "text": [
        "work for isthermal compression is 155.7 knm/kg\n",
        "\n",
        "work for adiabatic compression is 202.9 knm/kg\n",
        "\n",
        "work for polytropic compression is 190.32 knm/kg\n",
        "\n",
        "mass of air compressed is 115.73 kg/min\n",
        "\n",
        "isothermal power required is 300.3 kW\n",
        "\n",
        "adiabatic power required is 391.4 kW\n"
       ]
      }
     ],
     "prompt_number": 1
    },
    {
     "cell_type": "heading",
     "level": 2,
     "metadata": {},
     "source": [
      "Ex - 9.2 : Pg - 378"
     ]
    },
    {
     "cell_type": "code",
     "collapsed": false,
     "input": [
      "from math import ceil\n",
      "#initialisation of variables\n",
      "p2=135 #bar pressure\n",
      "p1=1 #bar pressure\n",
      "x=5 #x=p2/p1\n",
      "#CALCULATIONS\n",
      "s=log(p2)/log(x)\n",
      "rp=(p2/p1)**0.25\n",
      "#RESULTS\n",
      "print 's is %0.3f '%(s)\n",
      "print 'rp is %0.4f '%(rp)\n",
      "print 'number of stages are : ',int(ceil(rp))\n",
      "print '1st intermediate pressure is %0.4f bar abs.'%rp\n",
      "print '2nd intermediate pressure is %0.3f bar abs.'%(rp**2)\n",
      "print '3rd intermediate pressure is %0.3f bar abs.'%(rp**3)"
     ],
     "language": "python",
     "metadata": {},
     "outputs": [
      {
       "output_type": "stream",
       "stream": "stdout",
       "text": [
        "s is 3.048 \n",
        "rp is 3.4087 \n",
        "number of stages are :  4\n",
        "1st intermediate pressure is 3.4087 bar abs.\n",
        "2nd intermediate pressure is 11.619 bar abs.\n",
        "3rd intermediate pressure is 39.605 bar abs.\n"
       ]
      }
     ],
     "prompt_number": 2
    },
    {
     "cell_type": "heading",
     "level": 2,
     "metadata": {},
     "source": [
      "Ex - 9.3 : Pg - 378"
     ]
    },
    {
     "cell_type": "code",
     "collapsed": false,
     "input": [
      "#initialisation of variables\n",
      "p2=3.24 #pressure in bar\n",
      "p1=1 #pressure in bar\n",
      "v1=16 #volume in m*m*m\n",
      "n=1.35\n",
      "rp=3.24 #pressure\n",
      "r=10.5\n",
      "t1=294 #temparature in k\n",
      "t2=294 #temparature in k\n",
      "cp=1.005 #kJ/kg \n",
      "rx=0.287\n",
      "#CALCULATIONS\n",
      "w1=(2*n/(n-1))*p1*v1*100*0.35630 #(3.24)**0.2592-1\n",
      "w2=(n/(n-1))*p1*v1*100*0.8396 #(10.5)**0.2592-1\n",
      "pr1=w1/60\n",
      "pr2=w2/60\n",
      "tb=t1*(r)**(n-1/n)\n",
      "t3=t2*(rp)**((n-1)/n)\n",
      "m=(p1*v1*100)/(rx*t1)\n",
      "hr=m*cp*(t3-t2)\n",
      "ma=hr/(4.18*25)\n",
      "#RESULTS\n",
      "print 'minimum power required are %0.2f kw and %0.1f kw'%(pr1,pr2)\n",
      "print '\\nmass of air compressed is %0.2f kg/min'%(m)\n",
      "print '\\nheat rejected by air compressor is %0.2f kJ/min'%(hr)\n",
      "print '\\nmass of water is %0.2f kg/min'%(ma)"
     ],
     "language": "python",
     "metadata": {},
     "outputs": [
      {
       "output_type": "stream",
       "stream": "stdout",
       "text": [
        "minimum power required are 73.30 kw and 86.4 kw\n",
        "\n",
        "mass of air compressed is 18.96 kg/min\n",
        "\n",
        "heat rejected by air compressor is 1996.41 kJ/min\n",
        "\n",
        "mass of water is 19.10 kg/min\n"
       ]
      }
     ],
     "prompt_number": 3
    },
    {
     "cell_type": "heading",
     "level": 2,
     "metadata": {},
     "source": [
      "Ex - 9.4 : Pg - 380"
     ]
    },
    {
     "cell_type": "code",
     "collapsed": false,
     "input": [
      "#initialisation of variables\n",
      "p2=4.08 #pressure in bar\n",
      "p1=1 #pressure in bar\n",
      "n=1.22\n",
      "r=0.287\n",
      "p=1.01325 #pressure in bar\n",
      "v=145 #volume\n",
      "t=288 #temparature in k\n",
      "p3=17.5 #pressure in bar\n",
      "t1=307 #temp in k\n",
      "t2=313 #temp in k\n",
      "#CALCULATIONS\n",
      "wlp=5.54*r*t1*(((p2/p1)**((n-1)/n))-1)\n",
      "whp=5.54*r*t2*(((p2/p1)**((n-1)/n))-1)\n",
      "w=wlp+whp\n",
      "m=(p*v)/(r*t)\n",
      "pr=(w*m)/60\n",
      "p2=(p1*p3)**0.5\n",
      "x=(p2)**0.5 #x=d1/d2\n",
      "#RESULTS\n",
      "# ans in the book is wrong.\n",
      "print 'the intercooler pressure = %0.2f bar'%p2\n",
      "print 'total work required is %0.2f kNm/kg'%(w)\n",
      "print '\\nmass of free air is %0.2f kg/min'%(m)\n",
      "print '\\npower required to drive the compressor is %0.2f kw'%(pr)\n",
      "print '\\nratio of cylinder diameters is %0.3f '%(x)"
     ],
     "language": "python",
     "metadata": {},
     "outputs": [
      {
       "output_type": "stream",
       "stream": "stdout",
       "text": [
        "the intercooler pressure = 4.18 bar\n",
        "total work required is 284.50 kNm/kg\n",
        "\n",
        "mass of free air is 1.78 kg/min\n",
        "\n",
        "power required to drive the compressor is 8.43 kw\n",
        "\n",
        "ratio of cylinder diameters is 2.045 \n"
       ]
      }
     ],
     "prompt_number": 4
    },
    {
     "cell_type": "heading",
     "level": 2,
     "metadata": {},
     "source": [
      "Ex - 9.5 : Pg - 383"
     ]
    },
    {
     "cell_type": "code",
     "collapsed": false,
     "input": [
      "#initialisation of variables\n",
      "c1=0.05 #percentage\n",
      "c2=0.10 #percentage\n",
      "c3=0.20 #percentage\n",
      "rp=10\n",
      "#CALCULATIONS\n",
      "eff1=(1+c1-c1*(rp)**(0.78125))\n",
      "eff2=(1+c2-c2*(rp)**(0.78125))\n",
      "eff3=(1+c3-c3*(rp)**(0.78125))\n",
      "#RESULTS\n",
      "print 'volumetric effiency 1 is %0.3f '%(eff1)\n",
      "print '\\nvolumetric effiency 2 is %0.3f '%(eff2)\n",
      "print '\\nvolumetric effiency 3 is %0.f '%abs(eff3)"
     ],
     "language": "python",
     "metadata": {},
     "outputs": [
      {
       "output_type": "stream",
       "stream": "stdout",
       "text": [
        "volumetric effiency 1 is 0.748 \n",
        "\n",
        "volumetric effiency 2 is 0.496 \n",
        "\n",
        "volumetric effiency 3 is 0 \n"
       ]
      }
     ],
     "prompt_number": 5
    },
    {
     "cell_type": "heading",
     "level": 2,
     "metadata": {},
     "source": [
      "Ex - 9.6 : Pg - 383"
     ]
    },
    {
     "cell_type": "code",
     "collapsed": false,
     "input": [
      "from __future__ import division\n",
      "#initialisation of variables\n",
      "d=0.2 #diameter in m\n",
      "lc=0.01 #linear clearance\n",
      "l=0.3 #lenght\n",
      "rp=7\n",
      "n=1.25\n",
      "pi=(22/7)\n",
      "#CALCULATIONS\n",
      "cv=((pi/4)*((d)**2)*lc)\n",
      "sv=((pi/4)*(d)**2*l)\n",
      "cr=cv/sv\n",
      "veff=(1+cr-cr*(rp)**(1/n))\n",
      "x=veff*sv\n",
      "#RESULTS\n",
      "# ans in the book is wrong.\n",
      "print 'clearance ratio is %0.2f '%(cr)\n",
      "print '\\nvolumetric efficiency is %0.3f '%(veff)\n",
      "print '\\nvolume of air taken in is %0.2e m*m*/stroke'%(x)"
     ],
     "language": "python",
     "metadata": {},
     "outputs": [
      {
       "output_type": "stream",
       "stream": "stdout",
       "text": [
        "clearance ratio is 0.03 \n",
        "\n",
        "volumetric efficiency is 0.875 \n",
        "\n",
        "volume of air taken in is 8.25e-03 m*m*/stroke\n"
       ]
      }
     ],
     "prompt_number": 6
    },
    {
     "cell_type": "heading",
     "level": 2,
     "metadata": {},
     "source": [
      "Ex - 9.7 : Pg - 384"
     ]
    },
    {
     "cell_type": "code",
     "collapsed": false,
     "input": [
      "#initialisation of variables\n",
      "n=1.2\n",
      "r=0.287\n",
      "t1=310 #temparature in degrees\n",
      "p2=7 #pressure in bar\n",
      "p1=1 #pressure in bar\n",
      "#CALCULATIONS\n",
      "rp=(p2/p1)\n",
      "wr=((n/(n-1))*r*t1*((rp)**((n-1)/n)-1))\n",
      "#RESULTS\n",
      "print 'volumetric efficiency is 0.797'\n",
      "print 'volumetric efficiency referred to atmospheric conditions is 0.731'\n",
      "print 'work required is %0.2f kNm/kg'%(wr)"
     ],
     "language": "python",
     "metadata": {},
     "outputs": [
      {
       "output_type": "stream",
       "stream": "stdout",
       "text": [
        "volumetric efficiency is 0.797\n",
        "volumetric efficiency referred to atmospheric conditions is 0.731\n",
        "work required is 204.50 kNm/kg\n"
       ]
      }
     ],
     "prompt_number": 7
    },
    {
     "cell_type": "heading",
     "level": 2,
     "metadata": {},
     "source": [
      "Ex - 9.8 : Pg - 385"
     ]
    },
    {
     "cell_type": "code",
     "collapsed": false,
     "input": [
      "#initialisation of variables\n",
      "veff=0.8 #efficiency\n",
      "rp=7 \n",
      "n=1.2 #constant value\n",
      "pi=(22/7)\n",
      "#CALCULATIONS\n",
      "c=(veff-1)/(1-(rp)**(1/n))\n",
      "vs=2/c\n",
      "d=((4*vs)/pi)**(1/3)\n",
      "#RESULTS\n",
      "print 'stroke volume is %0.2f m*m*m'%(vs)\n",
      "print '\\nlenght of stroke is %0.2f m'%(d) # ans in the book is wrong."
     ],
     "language": "python",
     "metadata": {},
     "outputs": [
      {
       "output_type": "stream",
       "stream": "stdout",
       "text": [
        "stroke volume is 40.61 m*m*m\n",
        "\n",
        "lenght of stroke is 3.73 m\n"
       ]
      }
     ],
     "prompt_number": 8
    },
    {
     "cell_type": "heading",
     "level": 2,
     "metadata": {},
     "source": [
      "Ex - 9.9 : Pg - 386"
     ]
    },
    {
     "cell_type": "code",
     "collapsed": false,
     "input": [
      "#initialisation of variables\n",
      "sp=1400 #speed in revolutions per min\n",
      "ma=15 #mass in kgs\n",
      "r=0.287\n",
      "p1=1 #pressure in bar\n",
      "t1=303 #temparature in k\n",
      "p2=7 #pressure in bar\n",
      "c=0.05 #clearance volume/stoke volume\n",
      "pi=(22/7)\n",
      "n=1.2\n",
      "m1=15\n",
      "meff=0.85 #mechanical efficinecy\n",
      "#CALCULATIONS\n",
      "rp=(p2/p1)\n",
      "m=ma/sp\n",
      "va=(m1*r*t1)/(p1*100)\n",
      "eff1=(1+c-c*(rp)**(1/n))\n",
      "vs=va/eff1\n",
      "d1=((4*vs)/pi)**(1/3)\n",
      "pr=((n/(n-1))*m1*r*t1*((rp)**((n-1)/n)-1))/60\n",
      "prs=pr/meff\n",
      "d2=((prs*4)/(7*100*pi*700))**0.333\n",
      "#RESULTS\n",
      "print 'volumetric efficiency is %0.3f '%(eff1)\n",
      "print '\\nlengh of the stroke is %0.2f m'%(d1)\n",
      "print '\\nindicated power is %0.2f kw'%(pr)\n",
      "print '\\npower required at the shaft of the compressor is %0.2f kw'%(prs)\n",
      "print '\\ndiameter of the piston is %0.2f m'%(d2)\n",
      "# ans in the book is wrong."
     ],
     "language": "python",
     "metadata": {},
     "outputs": [
      {
       "output_type": "stream",
       "stream": "stdout",
       "text": [
        "volumetric efficiency is 0.797 \n",
        "\n",
        "lengh of the stroke is 2.75 m\n",
        "\n",
        "indicated power is 49.97 kw\n",
        "\n",
        "power required at the shaft of the compressor is 58.79 kw\n",
        "\n",
        "diameter of the piston is 0.05 m\n"
       ]
      }
     ],
     "prompt_number": 9
    },
    {
     "cell_type": "heading",
     "level": 2,
     "metadata": {},
     "source": [
      "Ex - 9.10 : Pg - 387"
     ]
    },
    {
     "cell_type": "code",
     "collapsed": false,
     "input": [
      "#initialisation of variables\n",
      "sp=200 #mean speed m/s\n",
      "#CALCULATIONS\n",
      "d=(21/(0.7773*1.18*200))**0.5\n",
      "l=1.5*d\n",
      "s=200/(3*d)\n",
      "#RESULTS\n",
      "print 'volumetric efficiency is 0.7773'\n",
      "print '\\ndiameter is %0.4f m'%(d)\n",
      "print '\\nstroke is %0.4f m'%(l)\n",
      "print '\\nspeed of compressor is %0.f rev/min'%(s)"
     ],
     "language": "python",
     "metadata": {},
     "outputs": [
      {
       "output_type": "stream",
       "stream": "stdout",
       "text": [
        "volumetric efficiency is 0.7773\n",
        "\n",
        "diameter is 0.3383 m\n",
        "\n",
        "stroke is 0.5075 m\n",
        "\n",
        "speed of compressor is 197 rev/min\n"
       ]
      }
     ],
     "prompt_number": 10
    },
    {
     "cell_type": "heading",
     "level": 2,
     "metadata": {},
     "source": [
      "Ex - 9.11 : Pg - 388"
     ]
    },
    {
     "cell_type": "code",
     "collapsed": false,
     "input": [
      "#initialisation of variables\n",
      "r=0.287\n",
      "p=1.01325 #pressure in bar\n",
      "v=5 #volume in m*m*m\n",
      "t=288 #temparature in k\n",
      "t1=303 #temparature in k\n",
      "t2=403 #temparature in k\n",
      "p2=4.08 #pressure in bar\n",
      "p1=0.98 #pressure in bar\n",
      "p3=17 #pressure in bar\n",
      "n=1.25\n",
      "c=0.06 #clearance volume by swept volume\n",
      "#CALCULATIONS\n",
      "m=(p*v)/(r*t)\n",
      "rp=p2/p1\n",
      "t2s=(t1*(p2/p1)**((n-1)/n))\n",
      "wr=(n/n-1)*r*(t2-t1)\n",
      "wc=2*wr\n",
      "veff=(1+c-c*(rp)**(1/n))\n",
      "x=(p*100*v*t1)/(p1*100*t) #x=(v1-v4)\n",
      "vs=x/veff\n",
      "vsc=vs/125\n",
      "d1=((4*vsc)/pi)**(1/3)\n",
      "#RESULTS\n",
      "print 'volumetric efficiency is %0.3f '%(veff)\n",
      "print '\\nstoke volume is %0.3f m*m*m/min'%(vs)\n",
      "print '\\nstroke volume per cycle is %0.4f m*m*m'%(vsc)\n",
      "print '\\nstoke of piston is %0.3f '%(d1)"
     ],
     "language": "python",
     "metadata": {},
     "outputs": [
      {
       "output_type": "stream",
       "stream": "stdout",
       "text": [
        "volumetric efficiency is 0.872 \n",
        "\n",
        "stoke volume is 6.236 m*m*m/min\n",
        "\n",
        "stroke volume per cycle is 0.0499 m*m*m\n",
        "\n",
        "stoke of piston is 0.399 \n"
       ]
      }
     ],
     "prompt_number": 11
    },
    {
     "cell_type": "heading",
     "level": 2,
     "metadata": {},
     "source": [
      "Ex - 9.12 : Pg - 390"
     ]
    },
    {
     "cell_type": "code",
     "collapsed": false,
     "input": [
      "#initialisation of variables\n",
      "t1=303 #temparature in k\n",
      "p2=4.08 #pressure in bar\n",
      "p1=1 #pressure in bar\n",
      "t5=303 #temparature in k\n",
      "x=0.3247 #x=v2/v1 where the relation is v2=v1*(1/rp)**1/n\n",
      "y=0.0385 #y=v3/v1\n",
      "vo=0.2862 #vo=volume of air delivered/v1\n",
      "vf=0.8299 #vf=vome of free air /v1\n",
      "n=1.25\n",
      "p3=17.5 #pressure in bar\n",
      "r=0.287\n",
      "tatm=2911 #temp in k\n",
      "patm=1.02 #pressure in bar\n",
      "w=291 \n",
      "#CALCULATIONS\n",
      "t2=(t1*(p2/p1)**((n-1)/n))\n",
      "veff=vf/(1-y)\n",
      "a=(r*(t2-t1)*5)\n",
      "t3=(t1*(p3/p2)**((n-1)/n))\n",
      "hp=(5*r*(t3-t1))\n",
      "iso=(r*tatm*log(p3/patm))/10 #its ln\n",
      "ieff=iso/w\n",
      "#RESULTS\n",
      "print 'volumetric efficiency is %0.3f '%(veff)\n",
      "print '\\nwork required for lp cyclinder is %0.2f '%(a)\n",
      "print '\\nwork required for hp cyclinder is %0.2f '%(hp)\n",
      "print '\\nwork required for isothermal is %0.2f '%(iso)\n",
      "print '\\nisothermal efficiency is %0.3f '%(ieff)"
     ],
     "language": "python",
     "metadata": {},
     "outputs": [
      {
       "output_type": "stream",
       "stream": "stdout",
       "text": [
        "volumetric efficiency is 0.863 \n",
        "\n",
        "work required for lp cyclinder is 141.20 \n",
        "\n",
        "work required for hp cyclinder is 146.99 \n",
        "\n",
        "work required for isothermal is 237.47 \n",
        "\n",
        "isothermal efficiency is 0.816 \n"
       ]
      }
     ],
     "prompt_number": 12
    },
    {
     "cell_type": "heading",
     "level": 2,
     "metadata": {},
     "source": [
      "Ex - 9.13 : Pg - 396"
     ]
    },
    {
     "cell_type": "code",
     "collapsed": false,
     "input": [
      "#initialisation of variables\n",
      "p2=1.5 #pressure in bar\n",
      "p1=1 #pressure in bar\n",
      "v=0.05 #volume in m*m*m\n",
      "g=1.4\n",
      "r=1.4\n",
      "n=120 #number of cycles\n",
      "#CALCULATIONS\n",
      "wa=v*(p2-p1)*100\n",
      "wi=3.5*100*p1*v*(((p2/p1)**((r-1)/r))-1)\n",
      "reff=wi/wa\n",
      "vo=v/4\n",
      "pr=wa*n/60\n",
      "#RESULTS\n",
      "print 'roots efficiency is %0.2f '%(reff)\n",
      "print '\\nvolume of air is %0.4f m*m*m/cycle'%(vo)\n",
      "print '\\npower required is %0.2f kw'%(pr)"
     ],
     "language": "python",
     "metadata": {},
     "outputs": [
      {
       "output_type": "stream",
       "stream": "stdout",
       "text": [
        "roots efficiency is 0.86 \n",
        "\n",
        "volume of air is 0.0125 m*m*m/cycle\n",
        "\n",
        "power required is 5.00 kw\n"
       ]
      }
     ],
     "prompt_number": 13
    },
    {
     "cell_type": "heading",
     "level": 2,
     "metadata": {},
     "source": [
      "Ex - 9.14 : Pg - 397"
     ]
    },
    {
     "cell_type": "code",
     "collapsed": false,
     "input": [
      "#initialisation of variables\n",
      "p2=1.5 #pressure in bar\n",
      "p1=1 #pressure in bar\n",
      "v=0.05 #volume in m*m*m\n",
      "x=0.35 #increse in pressure\n",
      "g=1.4\n",
      "r=1.4\n",
      "n=120 #number of cycles\n",
      "#CALCULATIONS\n",
      "wa=v*(p2-p1)*100\n",
      "wi1=3.5*100*p1*v*(((p2/p1)**((r-1)/r))-1)\n",
      "ceff=wi1/wa\n",
      "vo=v/4\n",
      "pr=wa*n/60\n",
      "prs=x*(p2-p1)\n",
      "p3=p1+prs\n",
      "wi2=3.5*100*p1*v*(((p3/p1)**((r-1)/r))-1)\n",
      "vi=v*(p1/p3)**(1/g)\n",
      "w2=vi*(p2-p3)*100\n",
      "tw=w2+wi2\n",
      "comeff=wi1/tw\n",
      "po=tw*2\n",
      "#RESULTS\n",
      "print 'compressor efficiency is %0.2f '%(ceff)\n",
      "print '\\nwork required for internal compression is %0.3f knm/rev'%(wi2)\n",
      "print '\\npower required is %0.2f kW'%(pr)\n",
      "print '\\ncompressor efficiency 2 is %0.3f '%(comeff)\n",
      "print '\\npower required 2 is %0.3f kW'%(po)"
     ],
     "language": "python",
     "metadata": {},
     "outputs": [
      {
       "output_type": "stream",
       "stream": "stdout",
       "text": [
        "compressor efficiency is 0.86 \n",
        "\n",
        "work required for internal compression is 0.825 knm/rev\n",
        "\n",
        "power required is 5.00 kW\n",
        "\n",
        "compressor efficiency 2 is 0.945 \n",
        "\n",
        "power required 2 is 4.547 kW\n"
       ]
      }
     ],
     "prompt_number": 14
    },
    {
     "cell_type": "heading",
     "level": 2,
     "metadata": {},
     "source": [
      "Ex - 9.15 : Pg - 398"
     ]
    },
    {
     "cell_type": "code",
     "collapsed": false,
     "input": [
      "#initialisation of variables\n",
      "t1=295 #temp in k\n",
      "p1=1.02 #pressure in bar\n",
      "p2=7.14 #pressure in bar\n",
      "cp=1.005 #kJ/kg\n",
      "g=1.4\n",
      "wr=250 #kJ/kg\n",
      "#CALCULATIONS\n",
      "t2s=t1*(p2/p1)**((g-1)/g)\n",
      "wi=cp*(t2s-t1)\n",
      "ieff=wi/wr\n",
      "t2=(wr/cp)+t1\n",
      "#RESULTS\n",
      "print 'isentropic work is %0.2f kJ/kg'%(wi)\n",
      "print '\\nisentropic efficiency is %0.3f '%(ieff)\n",
      "print '\\ntemparature 2 is %0.2f k'%(t2)\n",
      "print 'index of compression is 1.46'"
     ],
     "language": "python",
     "metadata": {},
     "outputs": [
      {
       "output_type": "stream",
       "stream": "stdout",
       "text": [
        "isentropic work is 220.47 kJ/kg\n",
        "\n",
        "isentropic efficiency is 0.882 \n",
        "\n",
        "temparature 2 is 543.76 k\n",
        "index of compression is 1.46\n"
       ]
      }
     ],
     "prompt_number": 15
    },
    {
     "cell_type": "heading",
     "level": 2,
     "metadata": {},
     "source": [
      "Ex - 9.16 : Pg - 399"
     ]
    },
    {
     "cell_type": "code",
     "collapsed": false,
     "input": [
      "#initialisation of variables\n",
      "t1=310 #temp in k\n",
      "p1=1 #pressure in bar\n",
      "p2=4 #pressure in bar\n",
      "cp=1.005 #kJ/kg\n",
      "v1=28 #m*m*m volume\n",
      "r=0.287\n",
      "ce=0.7 #copression efficiency\n",
      "g= 1.4 #ft/sec**2\n",
      "#CALCULATIONS\n",
      "t2s=t1*(p2/p1)**((g-1)/g)\n",
      "wi=cp*(t2s-t1)\n",
      "m=(p1*v1*100)/(r*t1)\n",
      "apr=(m*wi)/60\n",
      "iei=wi/ce\n",
      "#RESULTS\n",
      "print 'isentropic work is %0.2f '%(apr)\n",
      "print '\\nadiabatic power required is %0.2f '%(m)\n",
      "print '\\nindicated enthalpy increase is %0.2f '%(iei)"
     ],
     "language": "python",
     "metadata": {},
     "outputs": [
      {
       "output_type": "stream",
       "stream": "stdout",
       "text": [
        "isentropic work is 79.42 \n",
        "\n",
        "adiabatic power required is 31.47 \n",
        "\n",
        "indicated enthalpy increase is 216.30 \n"
       ]
      }
     ],
     "prompt_number": 16
    },
    {
     "cell_type": "heading",
     "level": 2,
     "metadata": {},
     "source": [
      "Ex - 9.17 : Pg - 399"
     ]
    },
    {
     "cell_type": "code",
     "collapsed": false,
     "input": [
      "from math import sin\n",
      "#initialisation of variables\n",
      "p2=6 #prressure in bar\n",
      "p1=1 #pressure in bar\n",
      "t1=313 #temp in k\n",
      "a1=45 #angle in degrees\n",
      "a2=10 #angle in degrees\n",
      "a3=55 #angle in degrees\n",
      "r=1.4\n",
      "cp=1.005 #kJ/kg\n",
      "ieff=0.85 #isentropic efficiency\n",
      "c=200 #m/s\n",
      "#CALCULATIONS\n",
      "t2s=(t1*(p2/p1)**((r-1)/r))\n",
      "t2=(((t2s-t1)/ieff)+t1)\n",
      "w=cp*(t2-t1)\n",
      "cro=(c*(sin(45*(pi/180))/sin(55*(pi/180))))\n",
      "cv=c-cro\n",
      "n=w/cv\n",
      "#RESULTS\n",
      "print 'actual work is %0.2f kJ/kg'%(w)\n",
      "print '\\nchange in whirl velocities is %0.2f kJ/kg/stage'%(cv)\n",
      "print '\\nnumber of stages is %0.f stages'%(n)"
     ],
     "language": "python",
     "metadata": {},
     "outputs": [
      {
       "output_type": "stream",
       "stream": "stdout",
       "text": [
        "actual work is 247.40 kJ/kg\n",
        "\n",
        "change in whirl velocities is 27.35 kJ/kg/stage\n",
        "\n",
        "number of stages is 9 stages\n"
       ]
      }
     ],
     "prompt_number": 17
    }
   ],
   "metadata": {}
  }
 ]
}