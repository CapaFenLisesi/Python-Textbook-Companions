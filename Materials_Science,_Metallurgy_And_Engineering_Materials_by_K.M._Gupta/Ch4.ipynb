{
 "metadata": {
  "name": "",
  "signature": "sha256:c3acc1fab1ab8a2f10940ad0f121e6fed364ac2fa1b9f49347a7b95bd54bf0dd"
 },
 "nbformat": 3,
 "nbformat_minor": 0,
 "worksheets": [
  {
   "cells": [
    {
     "cell_type": "heading",
     "level": 1,
     "metadata": {},
     "source": [
      "Ch-4, Solid structure & allotropy"
     ]
    },
    {
     "cell_type": "heading",
     "level": 2,
     "metadata": {},
     "source": [
      "example-4.1 page no-110"
     ]
    },
    {
     "cell_type": "code",
     "collapsed": false,
     "input": [
      "from __future__ import division\n",
      "from math import sqrt\n",
      "#given\n",
      "#atomic radii of iron in BCC and FCC at 910 degrees celcius temp are\n",
      "rBCC=1.258  #A\n",
      "rFCC=1.292  #A\n",
      "#latice side\n",
      "aBCC=4*rBCC/sqrt(3)\n",
      "aFCC=2*sqrt(2)*rFCC\n",
      "#effective number of atoms in BCC and FCC \n",
      "nBCC=2\n",
      "nFCC=4\n",
      "#volume\n",
      "VBCC=nBCC/2*(aBCC)**3\n",
      "VFCC=nFCC/4*(aFCC)**3\n",
      "#change in volume percent\n",
      "deltaV=(-1+VFCC/VBCC)*100\n",
      "print \"the volume change = %0.2f %% and here +ve sign indicates that the volume increases during polymorphism transformation\"%deltaV"
     ],
     "language": "python",
     "metadata": {},
     "outputs": [
      {
       "output_type": "stream",
       "stream": "stdout",
       "text": [
        "the volume change = 99.01 % and here +ve sign indicates that the volume increases during polymorphism transformation\n"
       ]
      }
     ],
     "prompt_number": 1
    },
    {
     "cell_type": "heading",
     "level": 2,
     "metadata": {},
     "source": [
      "example-4.2 page no-115"
     ]
    },
    {
     "cell_type": "code",
     "collapsed": false,
     "input": [
      "from math import tan, pi\n",
      "#given\n",
      "#height of zinc unit cell\n",
      "h=4.935*10**-10  #m\n",
      "#side of the lattice\n",
      "a=2.66*10**-10  #m\n",
      "#as we know that zinc has HCP unit cell. \n",
      "#the number of effective atoms\n",
      "Ne=6 \n",
      "#as we know \n",
      "#tan(pi/3)=x/(a/2)\n",
      "#so\n",
      "x=a/2*tan (pi/3)  #m\n",
      "#area of basal plane\n",
      "Ar=6*a*x/2  #m**2\n",
      "#volume of the unit cell\n",
      "V=Ar*h  #m**3\n",
      "#atomic weight of zinc\n",
      "Aw=65.37\n",
      "#avogadro's number\n",
      "NA=6.023*10**23\n",
      "#density of zinc\n",
      "rho=Aw*Ne/(NA*V)/1000  #kg/m**3\n",
      "print \"the no of effective atoms, the volume of unit cell and density of zinc  are %d, %0.2e and %d kg/m**3 resp\"%(Ne,V,rho)"
     ],
     "language": "python",
     "metadata": {},
     "outputs": [
      {
       "output_type": "stream",
       "stream": "stdout",
       "text": [
        "the no of effective atoms, the volume of unit cell and density of zinc  are 6, 9.07e-29 and 7178 kg/m**3 resp\n"
       ]
      }
     ],
     "prompt_number": 2
    },
    {
     "cell_type": "heading",
     "level": 2,
     "metadata": {},
     "source": [
      "example-4.3 page no-121"
     ]
    },
    {
     "cell_type": "code",
     "collapsed": false,
     "input": [
      "#given\n",
      "#ionic radius of anion is \n",
      "ra=2.11*10**-10  #m\n",
      "#given that the atom has eight fold ligancy with the anion\n",
      "#so, we know that for this\n",
      "#rc/ra=0.732\n",
      "rc=0.732*ra  #m\n",
      "print \"the radius of smallest cation is 1.54 A\""
     ],
     "language": "python",
     "metadata": {},
     "outputs": [
      {
       "output_type": "stream",
       "stream": "stdout",
       "text": [
        "the radius of smallest cation is 1.54 A\n"
       ]
      }
     ],
     "prompt_number": 3
    },
    {
     "cell_type": "heading",
     "level": 2,
     "metadata": {},
     "source": [
      "example-4.6 page no-125"
     ]
    },
    {
     "cell_type": "code",
     "collapsed": false,
     "input": [
      "#given\n",
      "#radii of cation and anion in CaO\n",
      "rc=0.94*10**-10  #m\n",
      "ra=1.32*10**-10  #m\n",
      "#so the lattice side will be\n",
      "a=2*(rc+ra)  #m\n",
      "#effective no of atoms in FCC lattice structure\n",
      "Ne=4  #because CuO has FCC cubic structure\n",
      "#molecular weight of CuO\n",
      "Aw=40.08+16\n",
      "#atomic weight unit\n",
      "amu=1.66*10**-27  #amu\n",
      "#mass of atom per unit cell\n",
      "M=Aw*amu\n",
      "#density\n",
      "rho=M*Ne/a**3   #kg/m**3\n",
      "print \"density of CuO is %0.f Kg/m**3\"%rho"
     ],
     "language": "python",
     "metadata": {},
     "outputs": [
      {
       "output_type": "stream",
       "stream": "stdout",
       "text": [
        "density of CuO is 4032 Kg/m**3\n"
       ]
      }
     ],
     "prompt_number": 4
    },
    {
     "cell_type": "heading",
     "level": 2,
     "metadata": {},
     "source": [
      "example-4.7 page  no-126"
     ]
    },
    {
     "cell_type": "code",
     "collapsed": false,
     "input": [
      "#given\n",
      "#radii of cation and anion in MgO\n",
      "rc=0.78*10**-10  #m\n",
      "ra=1.32*10**-10  #m\n",
      "#so the lattice side will be\n",
      "a=2*(rc+ra)  #m\n",
      "#effective no of atoms in FCC lattice structure\n",
      "Ne=4  #because MgO has FCC cubic structure\n",
      "#molecular weight of MgO\n",
      "Aw=24.3+16\n",
      "#atomic weight unit\n",
      "amu=1.66*10**-27  #amu\n",
      "#mass of atom per unit cell\n",
      "M=Aw*amu\n",
      "#density\n",
      "rho=M*Ne/a**3   #kg/m**3\n",
      "print \"density of MgO is %0.3f Kg/m**3\" %rho"
     ],
     "language": "python",
     "metadata": {},
     "outputs": [
      {
       "output_type": "stream",
       "stream": "stdout",
       "text": [
        "density of MgO is 3611.813 Kg/m**3\n"
       ]
      }
     ],
     "prompt_number": 5
    }
   ],
   "metadata": {}
  }
 ]
}