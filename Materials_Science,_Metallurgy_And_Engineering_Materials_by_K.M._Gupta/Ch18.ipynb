{
 "metadata": {
  "name": "",
  "signature": "sha256:7b265e751ff1e7a83221e62eaaf1fb3cb58beb0eac8456c9e59af597a832c4e3"
 },
 "nbformat": 3,
 "nbformat_minor": 0,
 "worksheets": [
  {
   "cells": [
    {
     "cell_type": "heading",
     "level": 1,
     "metadata": {},
     "source": [
      "Ch-18, Electron theories & conducting material properties, behaviour and application"
     ]
    },
    {
     "cell_type": "heading",
     "level": 2,
     "metadata": {},
     "source": [
      "example-18.1 page no-535"
     ]
    },
    {
     "cell_type": "code",
     "collapsed": false,
     "input": [
      "from __future__ import division\n",
      "#given\n",
      "#side of cube\n",
      "l=20*10**-3  #m\n",
      "#plank's constant\n",
      "h=6.626*10**-34   #Js\n",
      "#mass of electron\n",
      "m=9.109*10**-31  #kg\n",
      "# lower energy level\n",
      "nx1=1\n",
      "ny1=1\n",
      "nz1=1\n",
      "#higher energy level\n",
      "nx2=2\n",
      "ny2=1\n",
      "nz2=1\n",
      "#energy in the lower level\n",
      "E1=h**2*(nx1**2+ny1**2+nz1**2)/(8*m*l**2)  #J\n",
      "#energy in the higher level\n",
      "E2=h**2*(nx2**2+ny2**2+nz2**2)/(8*m*l**2)  #J\n",
      "#difference in energies of the two levels\n",
      "deltaE=E2-E1  #J\n",
      "print \"deltaE = %0.2e\"%deltaE\n",
      "print \"since deltaE is very small, so the assumption that E varies continuously with k, is justified\""
     ],
     "language": "python",
     "metadata": {},
     "outputs": [
      {
       "output_type": "stream",
       "stream": "stdout",
       "text": [
        "deltaE = 4.52e-34\n",
        "since deltaE is very small, so the assumption that E varies continuously with k, is justified\n"
       ]
      }
     ],
     "prompt_number": 8
    },
    {
     "cell_type": "heading",
     "level": 2,
     "metadata": {},
     "source": [
      "example-18.2 page no-537"
     ]
    },
    {
     "cell_type": "code",
     "collapsed": false,
     "input": [
      "#given\n",
      "#distance between the plates\n",
      "d=5*10**-3  #m\n",
      "#voltage difference between the plates\n",
      "V=230  #Volts\n",
      "#electric field is given by\n",
      "E=-V/d  #V/m\n",
      "print \"electric field between the plates is %.f V/m\"%(E)"
     ],
     "language": "python",
     "metadata": {},
     "outputs": [
      {
       "output_type": "stream",
       "stream": "stdout",
       "text": [
        "electric field between the plates is -46000 V/m\n"
       ]
      }
     ],
     "prompt_number": 3
    },
    {
     "cell_type": "heading",
     "level": 2,
     "metadata": {},
     "source": [
      "example-18.3 page no- 537"
     ]
    },
    {
     "cell_type": "code",
     "collapsed": false,
     "input": [
      "#given\n",
      "#conductivity of material\n",
      "sigma=0.018  # per ohm m\n",
      "#no of electrons\n",
      "n=10**19  #electrons/m**3\n",
      "#voltage\n",
      "V=0.16  #V\n",
      "#thickness of material\n",
      "t=0.29*10**-3  #m\n",
      "#mass and charge of electron\n",
      "m=9.1*10**-31  #kg\n",
      "e=1.602*10**-19  #C\n",
      "#electric feilf gradient\n",
      "kie=V/t  #V/m\n",
      "#as we know that\n",
      "#sigma=n*e*vd/kie\n",
      "#so v\n",
      "vd=sigma*kie/n/e  #m/s\n",
      "print \" drift velocity of carriers is %0.3f m/s\"%(vd)"
     ],
     "language": "python",
     "metadata": {},
     "outputs": [
      {
       "output_type": "stream",
       "stream": "stdout",
       "text": [
        " drift velocity of carriers is 6.199 m/s\n"
       ]
      }
     ],
     "prompt_number": 9
    },
    {
     "cell_type": "heading",
     "level": 2,
     "metadata": {},
     "source": [
      "example-18.4 page no-547"
     ]
    },
    {
     "cell_type": "code",
     "collapsed": false,
     "input": [
      "from math import pi\n",
      "#given\n",
      "#resistance of wire\n",
      "R=21  #ohm\n",
      "#length of wire\n",
      "l=200  #m\n",
      "#diameter of wire\n",
      "d=0.44*10**-3  #m\n",
      "#area of cross section of wire\n",
      "A=(pi)/4*d**2  #m**2\n",
      "#as we know that \n",
      "#R=rho*l/A\n",
      "#so\n",
      "rho=R*A/l  #ohm m\n",
      "print \"the specific resistance of wire is %0.2e ohm m\"%(rho)"
     ],
     "language": "python",
     "metadata": {},
     "outputs": [
      {
       "output_type": "stream",
       "stream": "stdout",
       "text": [
        "the specific resistance of wire is 1.60e-08 ohm m\n"
       ]
      }
     ],
     "prompt_number": 10
    },
    {
     "cell_type": "heading",
     "level": 2,
     "metadata": {},
     "source": [
      "example-18.5  page no-548"
     ]
    },
    {
     "cell_type": "code",
     "collapsed": false,
     "input": [
      "#given\n",
      "#resistance of wire at 70 degree celcius is 57.2 ohm and at 25 degrees celcius 50 ohm\n",
      "R25=50  #ohm\n",
      "R70=57.2  #ohm\n",
      "T1=25    #degree C\n",
      "T2=70  #degree C\\\n",
      "#as we know that\n",
      "#Rt=R0*(1+t*alpha)\n",
      "#putting above values in the above given equation we get\n",
      "#R25=R0*(1+25*alpha)  -------(1)\n",
      "#R70=R0*(1+70*alpha)  --------(2)\n",
      "#applying R70/R25\n",
      "#we get\n",
      "#R70/R25=(1+70*alpha)/(1+25*alpha)\n",
      "#solving for alpha we get equation as follows\n",
      "alpha=(R70-R25)/(T2*R25-T1*R70)  #K**-1\n",
      "print \"the temperature coefficient of resistance is %f K**-1\"%(alpha)"
     ],
     "language": "python",
     "metadata": {},
     "outputs": [
      {
       "output_type": "stream",
       "stream": "stdout",
       "text": [
        "the temperature coefficient of resistance is 0.003478 K**-1\n"
       ]
      }
     ],
     "prompt_number": 11
    },
    {
     "cell_type": "heading",
     "level": 2,
     "metadata": {},
     "source": [
      "example-18.6 page no-550"
     ]
    },
    {
     "cell_type": "code",
     "collapsed": false,
     "input": [
      "#given\n",
      "#resistivity of copper , nickel and silver are\n",
      "rhoCu=0.015*10**-6  #ohm m\n",
      "rhoNi=0.012*10**-6  #ohm m\n",
      "rhoAg=0.016*10**-6  #ohm m\n",
      "#atomic percent of nickle and silver\n",
      "CNi=0.25\n",
      "CAg=0.40\n",
      "#the resistivity of Cu-Ni-Ag alloy at 300 K\n",
      "rho=rhoCu+(rhoNi*CNi)+(rhoAg*CAg)  #ohm m\n",
      "print \" the resistivity of Cu=Ni-Ag alloy is %.2e ohm m\"%(rho)"
     ],
     "language": "python",
     "metadata": {},
     "outputs": [
      {
       "output_type": "stream",
       "stream": "stdout",
       "text": [
        " the resistivity of Cu=Ni-Ag alloy is 2.44e-08 ohm m\n"
       ]
      }
     ],
     "prompt_number": 7
    }
   ],
   "metadata": {}
  }
 ]
}