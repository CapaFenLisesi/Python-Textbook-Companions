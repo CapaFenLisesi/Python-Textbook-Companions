{
 "metadata": {
  "name": "",
  "signature": "sha256:0c5a5b237d1d9ee2de03397e0c595a70fe68a27ab5ea34fc9d5e4643a075bb47"
 },
 "nbformat": 3,
 "nbformat_minor": 0,
 "worksheets": [
  {
   "cells": [
    {
     "cell_type": "heading",
     "level": 1,
     "metadata": {},
     "source": [
      "Ch-26, Optical properties of materials and materials for opto electronic devices"
     ]
    },
    {
     "cell_type": "heading",
     "level": 2,
     "metadata": {},
     "source": [
      "example-26.1 page no-769"
     ]
    },
    {
     "cell_type": "code",
     "collapsed": false,
     "input": [
      "from __future__ import division\n",
      "#given\n",
      "#wavelength of light\n",
      "lamda=5.893*10**-7  #m\n",
      "#plank's constant\n",
      "h=6.626*10**-34  #J s\n",
      "#velocity of light \n",
      "c=3*10**8  #m/s\n",
      "#energy of photon\n",
      "Ephoton=h*c/lamda  #J\n",
      "#we know that 1eV=1.6*10**-19 J\n",
      "#so\n",
      "EPhoton=Ephoton/(1.6*10**-19)  #eV\n",
      "print \" the energy of photon is %.23f J or %f eV\"%(Ephoton,EPhoton)"
     ],
     "language": "python",
     "metadata": {},
     "outputs": [
      {
       "output_type": "stream",
       "stream": "stdout",
       "text": [
        " the energy of photon is 0.00000000000000000033732 J or 2.108222 eV\n"
       ]
      }
     ],
     "prompt_number": 3
    },
    {
     "cell_type": "heading",
     "level": 2,
     "metadata": {},
     "source": [
      "example-26.2 page no-769"
     ]
    },
    {
     "cell_type": "code",
     "collapsed": false,
     "input": [
      "from math import exp\n",
      "#given\n",
      "##thickness of sample\n",
      "t=0.45*10**-4  #cm\n",
      "#energy of light\n",
      "E1=3  #eV\n",
      "#absorption coefficient\n",
      "alpha=50000  #per cm\n",
      "#incident power on the sample\n",
      "I0=15*10**-3  #W\n",
      "#we know that\n",
      "#intensity of transmitted light is given by\n",
      "It=I0*exp(-alpha*t)  #W or J/s\n",
      "#thus total energy absorbed is \n",
      "Iabsorbed=I0-It  #W or J/s\n",
      "print \" total energy absorbed is %0.3e J/s\"%(Iabsorbed)\n",
      "#plank's constant\n",
      "h=6.626*10**-34  #J s\n",
      "#energy of outgoing radiation\n",
      "E2=2.35  #eV\n",
      "#fraction of each photon energy unit which is converted ton heat\n",
      "E=(E1-E2)/E1  \n",
      "#therefore total amount of energy converted to heat per second is\n",
      "EC=E*Iabsorbed  #J/s\n",
      "print \" total amount of energy coverted to heat is %0.3e J/s\"%(EC)\n",
      "#charge on an electron\n",
      "e=1.6*10**-19  #C\n",
      "#no of photons = nphoton \n",
      "nphoton=Iabsorbed/(e*E1)  #photons/sec  (calculation mistake is there in book)\n",
      "print \" the no of photon given off from recombination is %0.3e photons/sec\"%(nphoton)"
     ],
     "language": "python",
     "metadata": {},
     "outputs": [
      {
       "output_type": "stream",
       "stream": "stdout",
       "text": [
        " total energy absorbed is 1.342e-02 J/s\n",
        " total amount of energy coverted to heat is 2.907e-03 J/s\n",
        " the no of photon given off from recombination is 2.796e+16 photons/sec\n"
       ]
      }
     ],
     "prompt_number": 4
    },
    {
     "cell_type": "heading",
     "level": 2,
     "metadata": {},
     "source": [
      "example-26.3 page no-783"
     ]
    },
    {
     "cell_type": "code",
     "collapsed": false,
     "input": [
      "#given\n",
      "#energy of photon\n",
      "E=1.5*10**-19  #J\n",
      "#quantum eficiency\n",
      "muquantam=0.6\n",
      "#photon current\n",
      "Iopc=3*10**-6  #A\n",
      "#speed of light\n",
      "c=3*10**8  #m/s\n",
      "#plank's constant\n",
      "h=6.626*10**-34  #J s\n",
      "#wavelength at which the photodiode is operatng\n",
      "lamda=h*c/E*10**6  #micro m\n",
      "#responsivity of diode\n",
      "R=0.64\n",
      "#incident optical power is given by\n",
      "Piop=Iopc/R*10**6  #micro W\n",
      "print \"wavelength at which photodiode is operating is %0.3f micro m \\n and incident optical power is %0.3f micro W\"%(lamda,Piop)"
     ],
     "language": "python",
     "metadata": {},
     "outputs": [
      {
       "output_type": "stream",
       "stream": "stdout",
       "text": [
        "wavelength at which photodiode is operating is 1.325 micro m \n",
        " and incident optical power is 4.688 micro W\n"
       ]
      }
     ],
     "prompt_number": 5
    },
    {
     "cell_type": "heading",
     "level": 2,
     "metadata": {},
     "source": [
      "example-26.4 page no-784"
     ]
    },
    {
     "cell_type": "code",
     "collapsed": false,
     "input": [
      "from math import asin, pi\n",
      "#given\n",
      "#refractive index of core and cladding\n",
      "mucladding=1.47\n",
      "mucore=1.50\n",
      "#critocal angle at the core cladding interface\n",
      "thetac=asin(mucladding/mucore) *180/(pi) #degrees\n",
      "print \"the critical angle at core cladding interface is %0.3f degrees\"%(thetac)"
     ],
     "language": "python",
     "metadata": {},
     "outputs": [
      {
       "output_type": "stream",
       "stream": "stdout",
       "text": [
        "the critical angle at core cladding interface is 78.522 degrees\n"
       ]
      }
     ],
     "prompt_number": 6
    },
    {
     "cell_type": "heading",
     "level": 2,
     "metadata": {},
     "source": [
      "example-26.5 page no-784"
     ]
    },
    {
     "cell_type": "code",
     "collapsed": false,
     "input": [
      "#given\n",
      "#energy band gap\n",
      "Eg=0.75*1.6*10**-19  #J\n",
      "#plank's constant\n",
      "h=6.626*10**-34  #Js\n",
      "#speed of light\n",
      "c=3*10**8  #m/s\n",
      "#wavelength of light\n",
      "lamda=h*c/Eg*10**10  #A\n",
      "print \" wavelength of light is %.f A\"%(lamda)"
     ],
     "language": "python",
     "metadata": {},
     "outputs": [
      {
       "output_type": "stream",
       "stream": "stdout",
       "text": [
        " wavelength of light is 16565 A\n"
       ]
      }
     ],
     "prompt_number": 7
    },
    {
     "cell_type": "heading",
     "level": 2,
     "metadata": {},
     "source": [
      "example-26.7 page no-784"
     ]
    },
    {
     "cell_type": "code",
     "collapsed": false,
     "input": [
      "#given\n",
      "#frequency of light\n",
      "f=1.5*10**9*10**6  #Hz\n",
      "#pank's constant\n",
      "h=6.626*10**-34  #J s\n",
      "#threshold frequency is\n",
      "f0=1.2*10**9*10**6  #Hz\n",
      "#maximum energy of emitted photoelectron is\n",
      "Emax=h*(f-f0)/(1.6*10**-19)  #eV\n",
      "print \"The maximum enery of the emitted photoe lectron is %0.3f eV\"%(Emax)"
     ],
     "language": "python",
     "metadata": {},
     "outputs": [
      {
       "output_type": "stream",
       "stream": "stdout",
       "text": [
        "The maximum enery of the emitted photoe lectron is 1.242 eV\n"
       ]
      }
     ],
     "prompt_number": 8
    }
   ],
   "metadata": {}
  }
 ]
}