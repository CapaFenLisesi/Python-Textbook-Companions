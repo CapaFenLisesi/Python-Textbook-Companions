{
 "metadata": {
  "name": "",
  "signature": "sha256:88f6d7864909abb362ac624b2474dc1ea419f7b404761f21c8b5e63cda752047"
 },
 "nbformat": 3,
 "nbformat_minor": 0,
 "worksheets": [
  {
   "cells": [
    {
     "cell_type": "heading",
     "level": 1,
     "metadata": {},
     "source": [
      "Ch-9, Mechanical Properties"
     ]
    },
    {
     "cell_type": "heading",
     "level": 2,
     "metadata": {},
     "source": [
      "example-9.1 page no-259"
     ]
    },
    {
     "cell_type": "code",
     "collapsed": false,
     "input": [
      "from __future__ import division\n",
      "#given\n",
      "#bonding characteristics of a material are\n",
      "n=1\n",
      "m=9\n",
      "A=7.56*10**-29   #J m\n",
      "#initial bond length\n",
      "r_0=2.3*10**-10   #m\n",
      "#this bond length exceed by 15 %\n",
      "#so extension is \n",
      "e=15/100*r_0   #m\n",
      "#new bond length will be\n",
      "r=r_0+e   #m\n",
      "#the axial tensile starin is given by\n",
      "epsilon_t=e/r_0   #(change in dimension /original dimension)\n",
      "#according to P-r function we have\n",
      "B=A*r_0**8/9   #J m**9\n",
      "#we have double deravative of P as\n",
      "double_derivative_P=-2*A/r_0**3+90*B/r_0**11   #/J/m**2\n",
      "#so youngs modulus will be given by\n",
      "E=double_derivative_P/r_0*10**-9   #GPa  (some approximation is done in book)\n",
      "print  \"the axial stain is %.2f \\nand youngs modulus of elasticity is %0.3e GPa \"%(epsilon_t,E)"
     ],
     "language": "python",
     "metadata": {},
     "outputs": [
      {
       "output_type": "stream",
       "stream": "stdout",
       "text": [
        "the axial stain is 0.15 \n",
        "and youngs modulus of elasticity is 2.161e+02 GPa \n"
       ]
      }
     ],
     "prompt_number": 6
    },
    {
     "cell_type": "heading",
     "level": 2,
     "metadata": {},
     "source": [
      "example-9.4 page no-274"
     ]
    },
    {
     "cell_type": "code",
     "collapsed": false,
     "input": [
      "#given\n",
      "#according to the data given in the question we can have the graph shown in the fig 9.11 in book\n",
      "#part(a):- tangent modulus of elasticity at 200 MPa\n",
      "E_tangent=(222-168)*10**9/(1.90-1.42)/10**9   #G Pa ( values from graph)\n",
      "#part(b):- secant modulus of elasticity at 180 MPa\n",
      "E_secant= (180-0)*10**9/(1.46-0)/10**9   #G Pa  (values from graph)\n",
      "#part(c):-youngs modulus of elasticity at 85 MPa\n",
      "E=(85-0)*10**6/((0.68-0)*10**-3)/10**9   #G Pa  (values from graph)\n",
      "print \"\"\"tangent modulus of elasticity at 200 MPa is %0.2f Pa\n",
      "secant modulus of elasticity at 180 MPa is %d Pa\n",
      "youngs modulus of elasticity at 85 MPa is %d Pa\"\"\"%(E_tangent,E_secant,E)"
     ],
     "language": "python",
     "metadata": {},
     "outputs": [
      {
       "output_type": "stream",
       "stream": "stdout",
       "text": [
        "tangent modulus of elasticity at 200 MPa is 112.50 Pa\n",
        "secant modulus of elasticity at 180 MPa is 123 Pa\n",
        "youngs modulus of elasticity at 85 MPa is 124 Pa\n"
       ]
      }
     ],
     "prompt_number": 7
    },
    {
     "cell_type": "heading",
     "level": 2,
     "metadata": {},
     "source": [
      "example-9.5 page no-280"
     ]
    },
    {
     "cell_type": "code",
     "collapsed": false,
     "input": [
      "#given\n",
      "#stress\n",
      "sigmamean=70  #MPa\n",
      "#stress range\n",
      "sigmarange=210  #MPa\n",
      "#as we know that\n",
      "#sigmamean=(sigmamax+sigmamin)/2\n",
      "#from this we get\n",
      "#sigmamax+sigmamin=140    -----------(1)\n",
      "#also\n",
      "#sigmarange=sigmamax-sigmamin\n",
      "#so we get\n",
      "#sigmamax-sigmamin=210  ----------(2)\n",
      "#solving 1 and 2\n",
      "#we get\n",
      "sigmamax=(140+210)/2   #MPa\n",
      "#and\n",
      "sigmamin=140-sigmamax  #MPa\n",
      "#stress ratio\n",
      "R=sigmamin/sigmamax\n",
      "#stress ranges from sigmamin to sigmamax\n",
      "#so total sum will be\n",
      "totalsum=-sigmamin+sigmamax  #MPa\n",
      "print \"\"\"the maximum and minimum stresses are %d MPa and %d MPa resp,\n",
      "stress ratio is %f\n",
      "and total sum is %d MPa\"\"\"%(sigmamax,sigmamin,R,totalsum)"
     ],
     "language": "python",
     "metadata": {},
     "outputs": [
      {
       "output_type": "stream",
       "stream": "stdout",
       "text": [
        "the maximum and minimum stresses are 175 MPa and -35 MPa resp,\n",
        "stress ratio is -0.200000\n",
        "and total sum is 210 MPa\n"
       ]
      }
     ],
     "prompt_number": 4
    },
    {
     "cell_type": "heading",
     "level": 2,
     "metadata": {},
     "source": [
      "example-9.7 page no-289"
     ]
    },
    {
     "cell_type": "code",
     "collapsed": false,
     "input": [
      "#given\n",
      "#temp \n",
      "T=600  #degree C\n",
      "#tightenening stress\n",
      "sigmai=750    #kgf/cm**2\n",
      "#minimum creep rate\n",
      "vcr=2.8*10**-8  #cm/cm/hour\n",
      "#stress\n",
      "sigma=300  #kgf/cm**2\n",
      "#young's modulus\n",
      "E=2*10**6   #kgf/cm**2\n",
      "#constant\n",
      "n=3\n",
      "#we knnow that minimum creep rate\n",
      "#vcr=A*sigma**n\n",
      "#so\n",
      "A=vcr/sigma**n\n",
      "#total time involved in creep of bolt is 1 year\n",
      "t=365*24  #hours\n",
      "#the stress relaxation in bolt due to creep is expresed by:-\n",
      "#1/(sigmaif)**(n-1)=1/(sigmai)**(n-1)+A*E*(n-1)*t\n",
      "#we have to find sigmaif\n",
      "#so\n",
      "sigmaif=((1/(sigmai)**(n-1)+A*E*(n-1)*t)**(1/(n-1)))**-1  \n",
      "print  \"the stress relaxation in bolt to creep is %0.3f kgf/cm**2\"%(sigmaif)"
     ],
     "language": "python",
     "metadata": {},
     "outputs": [
      {
       "output_type": "stream",
       "stream": "stdout",
       "text": [
        "the stress relaxation in bolt to creep is 161.975 kgf/cm**2\n"
       ]
      }
     ],
     "prompt_number": 8
    }
   ],
   "metadata": {}
  }
 ]
}