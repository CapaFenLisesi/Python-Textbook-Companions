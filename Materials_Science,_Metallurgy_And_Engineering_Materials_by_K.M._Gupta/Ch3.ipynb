{
 "metadata": {
  "name": "",
  "signature": "sha256:bc212e8bce28ec0d7c268cd20b237b2f8a7e58b06860a7ec51f691263671de76"
 },
 "nbformat": 3,
 "nbformat_minor": 0,
 "worksheets": [
  {
   "cells": [
    {
     "cell_type": "heading",
     "level": 1,
     "metadata": {},
     "source": [
      "Ch-3, Crystal geometry of metal & miller indices"
     ]
    },
    {
     "cell_type": "heading",
     "level": 2,
     "metadata": {},
     "source": [
      "example-3.3 page no-78"
     ]
    },
    {
     "cell_type": "code",
     "collapsed": false,
     "input": [
      "from math import pi\n",
      "#given\n",
      "#ionia radius of Na and cl are resp.\n",
      "r1=0.98*10**(-10)  #m\n",
      "r2=1.81*10**(-10)  #m\n",
      "#no of atons in FCC\n",
      "N=4\n",
      "#total volume of Na and cl ions are resp\n",
      "v1=N*4/3*(pi)*(r1)**3  #m**3\n",
      "v2=N*4/3*(pi)*(r2)**3  #m**3\n",
      "#the lattice constant\n",
      "a=2*r1+2*r2\n",
      "#average packing fraction\n",
      "APF=(v1+v2)/a**3  \n",
      "print \"the average packing fraction is %0.2f\"%(APF)"
     ],
     "language": "python",
     "metadata": {},
     "outputs": [
      {
       "output_type": "stream",
       "stream": "stdout",
       "text": [
        "the average packing fraction is 0.62\n"
       ]
      }
     ],
     "prompt_number": 1
    },
    {
     "cell_type": "heading",
     "level": 2,
     "metadata": {},
     "source": [
      "example-3.4 page no-80"
     ]
    },
    {
     "cell_type": "code",
     "collapsed": false,
     "input": [
      "from math import sqrt\n",
      "#given\n",
      "#atomic radius of copper\n",
      "r=1.278*10**(-8)  #cm\n",
      "#lattice structure of copper is FCC\n",
      "a=4*r/sqrt(2)  #cm\n",
      "#atomic weight of copper\n",
      "Aw=63.54\n",
      "N=4\n",
      "#avogadro's number\n",
      "Na=6.023*10**(23)  \n",
      "#density of copper atoms in lattice\n",
      "rho=Aw*N/(Na*a**3)*1000 #kg/m**3\n",
      "print \"the density of copper is %d kg/m**3\"%(rho)"
     ],
     "language": "python",
     "metadata": {},
     "outputs": [
      {
       "output_type": "stream",
       "stream": "stdout",
       "text": [
        "the density of copper is 8934 kg/m**3\n"
       ]
      }
     ],
     "prompt_number": 2
    },
    {
     "cell_type": "heading",
     "level": 2,
     "metadata": {},
     "source": [
      "example-3.5 page no-80"
     ]
    },
    {
     "cell_type": "code",
     "collapsed": false,
     "input": [
      "#given\n",
      "#density of NaCl is\n",
      "rho=2.18   #g/cm**3\n",
      "#no of effective atoms in FCC\n",
      "N=4\n",
      "#molecular weight of NaCl\n",
      "Aw=23+35.5\n",
      "#avogadro's number\n",
      "Na=6.023*10**(23)\n",
      "#lenght of sice of the unit cell\n",
      "a=(Aw*N/(Na*rho))**(1/3)*10**8  #A\n",
      "#distance between two adjacent atoms\n",
      "r=a/2  #A\n",
      "print \"the distance b/w the two adjacent atoms is %0.1e A\"%(r) "
     ],
     "language": "python",
     "metadata": {},
     "outputs": [
      {
       "output_type": "stream",
       "stream": "stdout",
       "text": [
        "the distance b/w the two adjacent atoms is 5.0e+07 A\n"
       ]
      }
     ],
     "prompt_number": 3
    },
    {
     "cell_type": "heading",
     "level": 2,
     "metadata": {},
     "source": [
      "example-3.6 page no-80"
     ]
    },
    {
     "cell_type": "code",
     "collapsed": false,
     "input": [
      "#given\n",
      "#density of iron\n",
      "rho=7.86  #gm/cm**3\n",
      "#atomic weight of iron\n",
      "Aw=55.85\n",
      "#iron has BCC unit structure\n",
      "Ne=2\n",
      "#avogadros no.\n",
      "Na=6.023*10**(23) \n",
      "#side of the unit cell\n",
      "a=(Aw*Ne/(Na*rho))**(1/3)  #cm\n",
      "#atomic radius\n",
      "r=3**(1/3)*a/4*10**8  #A\n",
      "print \"the atomic radius of iron is %0.1e A\"%(r)"
     ],
     "language": "python",
     "metadata": {},
     "outputs": [
      {
       "output_type": "stream",
       "stream": "stdout",
       "text": [
        "the atomic radius of iron is 2.5e+07 A\n"
       ]
      }
     ],
     "prompt_number": 4
    },
    {
     "cell_type": "heading",
     "level": 2,
     "metadata": {},
     "source": [
      "example-3.7 page no-85"
     ]
    },
    {
     "cell_type": "code",
     "collapsed": false,
     "input": [
      "from __future__ import division\n",
      "#given\n",
      "#the intercepts \n",
      "#c1(along x-axis)=a\n",
      "#c2(along y-axis)=b/2\n",
      "#c3(along z-axis)=3*c\n",
      "#therefore\n",
      "p=1\n",
      "q=1.0/2\n",
      "r=3\n",
      "#so \n",
      "h=1/p\n",
      "k=1/q\n",
      "l=1/r\n",
      "#hence (hkl)=(121/3)=1/3*(361) or (361)\n",
      "print \"miller indices for such a simple cubic unit cell is\",\n",
      "print str('%0.f')%(h/l)+str('%0.f')%(k/l)+str('%0.f')%(l/l)"
     ],
     "language": "python",
     "metadata": {},
     "outputs": [
      {
       "output_type": "stream",
       "stream": "stdout",
       "text": [
        "miller indices for such a simple cubic unit cell is 361\n"
       ]
      }
     ],
     "prompt_number": 5
    },
    {
     "cell_type": "heading",
     "level": 2,
     "metadata": {},
     "source": [
      "example-3.8 page no-85"
     ]
    },
    {
     "cell_type": "code",
     "collapsed": false,
     "input": [
      "from __future__ import division\n",
      "#given\n",
      "#the ratio of intercepts of orthorombic unit cell is a:b:c=0.429:1:0.379\n",
      "#to find:- the miller indices of faces of the following intecepts\n",
      "#(I) 0.214:1:0.188\n",
      "#(II) 0.858:1:0.754\n",
      "#(III) 0.429:1:0.126\n",
      "#solution\n",
      "#let\n",
      "x=0.429\n",
      "y=1\n",
      "z=0.379\n",
      "x1=0.214\n",
      "y1=1\n",
      "z1=0.188\n",
      "p1=x1/x\n",
      "q1=y1/y\n",
      "r1=z1/z\n",
      "#intercepts will be 1/2:1:1/2\n",
      "#reciprocal is 2:1:2\n",
      "#so miller indices is (212)\n",
      "x2=0.858\n",
      "y2=1\n",
      "z2=0.754\n",
      "p2=x2/x\n",
      "q2=y2/y\n",
      "r2=z2/z\n",
      "#intercepts willbe 2:1:2\n",
      "#reciprocal is 1/2:1:1/2\n",
      "#so miller inces is (121)\n",
      "x3=0.429\n",
      "y3=1\n",
      "z3=0.126\n",
      "p3=x3/x\n",
      "q3=y3/y\n",
      "r3=z3/z\n",
      "#th e intercept will be  1:1:1/3\n",
      "#reciprocal is 1:1:3\n",
      "#so miller indices is (113)\n",
      "print \"the miller indices for part (I),(II) and (III) are :\"\n",
      "print str('%0.f')%(1/p1)+str('%0.f')%(1/q1)+str('%0.f')%(1/r1)+'',\n",
      "print str('%0.f')%(1/p2*p2)+str('%0.f')%(1/q2*p2)+str('%0.f')%(1/r2*p2)+'',\n",
      "print str('%0.f')%(1/p3)+str('%0.f')%(1/q3)+str('%0.f')%(1/r3),\n",
      "print 'respectively'"
     ],
     "language": "python",
     "metadata": {},
     "outputs": [
      {
       "output_type": "stream",
       "stream": "stdout",
       "text": [
        "the miller indices for part (I),(II) and (III) are :\n",
        "212 121 113 respectively\n"
       ]
      }
     ],
     "prompt_number": 6
    },
    {
     "cell_type": "heading",
     "level": 2,
     "metadata": {},
     "source": [
      "example-3.9 page no-85"
     ]
    },
    {
     "cell_type": "code",
     "collapsed": false,
     "input": [
      "#given\n",
      "#a:b:c=4:3:2\n",
      "#so\n",
      "a=4\n",
      "b=3\n",
      "c=2\n",
      "#intercepts are\n",
      "x=2  #armstrong\n",
      "y=3  #armstrong\n",
      "z=4  #armstrong\n",
      "p=x/a\n",
      "q=y/b\n",
      "r=z/c\n",
      "#reciprocals will be\n",
      "h=1/p\n",
      "k=1/q\n",
      "l=1/r\n",
      "#(hkl)=(2 1 1/2)=1/2*(421)=(421)\n",
      "print \"the miller indices is\",\n",
      "print str('%0.f')%(h/l)+str('%0.f')%(k/l)+str('%0.f')%(l/l)"
     ],
     "language": "python",
     "metadata": {},
     "outputs": [
      {
       "output_type": "stream",
       "stream": "stdout",
       "text": [
        "the miller indices is 421\n"
       ]
      }
     ],
     "prompt_number": 7
    },
    {
     "cell_type": "heading",
     "level": 2,
     "metadata": {},
     "source": [
      "example-3.11 page no-93"
     ]
    },
    {
     "cell_type": "code",
     "collapsed": false,
     "input": [
      "from math import sqrt\n",
      "#given\n",
      "#atomic radius in a FCC crystal is\n",
      "r=1.246  #A\n",
      "#side of the unit cell\n",
      "a=4*r/sqrt(2)  #A\n",
      "#part(I)\n",
      "h1=2\n",
      "k1=0\n",
      "l1=0\n",
      "d1=a/sqrt((h1)**2+(k1)**2+(l1)**2)   #A\n",
      "#part (II)\n",
      "h2=2\n",
      "k2=2\n",
      "l2=0\n",
      "d2=a/sqrt((h2)**2+(k2)**2+(l2)**2)   #A\n",
      "#part (III)\n",
      "h3=1\n",
      "k3=1\n",
      "l3=1\n",
      "d3=a/sqrt((h3)**2+(k3)**2+(l3)**2)   #A\n",
      "print \"the inteplaners spacing will be d1,d2 and d3 are %0.3f A, %0.3f A and %0.3f A \"%(d1,d2,d3)"
     ],
     "language": "python",
     "metadata": {},
     "outputs": [
      {
       "output_type": "stream",
       "stream": "stdout",
       "text": [
        "the inteplaners spacing will be d1,d2 and d3 are 1.762 A, 1.246 A and 2.035 A \n"
       ]
      }
     ],
     "prompt_number": 8
    },
    {
     "cell_type": "heading",
     "level": 2,
     "metadata": {},
     "source": [
      "example-3.12 page no-94"
     ]
    },
    {
     "cell_type": "code",
     "collapsed": false,
     "input": [
      "#given\n",
      "#lattice parameter of an orthorombic unit cell are\n",
      "a=0.82  #nm\n",
      "b=0.94  #nm\n",
      "c=0.75  #nm\n",
      "#part(I)\n",
      "h1=1\n",
      "k1=2\n",
      "l1=3\n",
      "d1=sqrt(1/((h1/a)**2+(k1/b)**2+(l1/c)**2))   #nm\n",
      "#part(II)\n",
      "h2=2\n",
      "k2=4\n",
      "l2=6\n",
      "d2=sqrt(1/((h2/a)**2+(k2/b)**2+(l2/c)**2))   #nm\n",
      "#aprt(III)- comment\n",
      "#we note that\n",
      "d=d2/d1\n",
      "#i.e d2=1/2*d1\n",
      "print \"IT MEANS THAT INCREASING THE MILLER INDICES FREOM (123) TO (246) I.E BY 2 TIMES , DECREASES THE SEPERATION B/W THE PLANES BY 2 TIMES.\""
     ],
     "language": "python",
     "metadata": {},
     "outputs": [
      {
       "output_type": "stream",
       "stream": "stdout",
       "text": [
        "IT MEANS THAT INCREASING THE MILLER INDICES FREOM (123) TO (246) I.E BY 2 TIMES , DECREASES THE SEPERATION B/W THE PLANES BY 2 TIMES.\n"
       ]
      }
     ],
     "prompt_number": 9
    },
    {
     "cell_type": "heading",
     "level": 2,
     "metadata": {},
     "source": [
      "example-3.14 page no-96"
     ]
    },
    {
     "cell_type": "code",
     "collapsed": false,
     "input": [
      "from __future__ import division\n",
      "#given\n",
      "#lattice constant for copper unit cell is \n",
      "a=3.61*10**(-10)  #m\n",
      "#since the lattice structure of copper is FCC\n",
      "#so the length of lattice structure (110)\n",
      "r110=a*sqrt(2)  #m because r110=sqrt(a**2+a**2)\n",
      "#effective no of atoms present on vector OA is\n",
      "Ne110=(1/2+1+1/2)   #1/2 is for the atoms at corners of diagonal OA and 1 is for the atom at the centre of diagonal OA\n",
      "#therefore linear density of atoms along (110) in copper unit cell is\n",
      "invr110=Ne110/r110  #atoms per m\n",
      "#so the length of lattice structure (111)\n",
      "r111=a*sqrt(3)  #m because r111=sqrt(a**2+a**2+a**2)\n",
      "#effective no of atoms present on vector OB is\n",
      "Ne111=(1/2+1/2)   #1/2 is for each atoms at corners of diagonal OB\n",
      "#therefore linear density of atoms along (111) in copper unit cell is\n",
      "invr111=Ne111/r111  #atoms per m\n",
      "print \"the linear density of atoms along (110) and (111) are %0.2e atoms/mm and %0.2e atoms/mm resp\"%(invr110,invr111)"
     ],
     "language": "python",
     "metadata": {},
     "outputs": [
      {
       "output_type": "stream",
       "stream": "stdout",
       "text": [
        "the linear density of atoms along (110) and (111) are 3.92e+09 atoms/mm and 1.60e+09 atoms/mm resp\n"
       ]
      }
     ],
     "prompt_number": 10
    },
    {
     "cell_type": "heading",
     "level": 2,
     "metadata": {},
     "source": [
      "example-3.15 page no-101"
     ]
    },
    {
     "cell_type": "code",
     "collapsed": false,
     "input": [
      "# to find the linear density of (100) direction in BCC\n",
      "#density is given by the ratio of toatal line length of the intersecting atoms to the distance between the centres of atom\n",
      "#rho=2*r/(4*r/sqrt(3))\n",
      "#so\n",
      "rho=2*sqrt(3)/4  \n",
      "print \"the linear density of (100) direction in BCC structure is %0.3f\"%(rho)"
     ],
     "language": "python",
     "metadata": {},
     "outputs": [
      {
       "output_type": "stream",
       "stream": "stdout",
       "text": [
        "the linear density of (100) direction in BCC structure is 0.866\n"
       ]
      }
     ],
     "prompt_number": 11
    },
    {
     "cell_type": "heading",
     "level": 2,
     "metadata": {},
     "source": [
      "example-3.17 page no-101"
     ]
    },
    {
     "cell_type": "code",
     "collapsed": false,
     "input": [
      "#given\n",
      "#atomic radii of polonium,rhodium and chromium are\n",
      "rPo=1.7*10**(-10)  #m\n",
      "rRh=1.34*10**(-10)  #m\n",
      "rCr=1.25*10**(-10)  #m\n",
      "#latice strucrure of polonium , rhodiun and chromium are SC, FCC and BCC resp\n",
      "#so lattice constants are\n",
      "aPo=2*rPo  #m\n",
      "aRh=2*sqrt(2)*rRh  #m\n",
      "aCr=4/sqrt(3)*rCr  #m\n",
      "#planer density on (100) in polonium is given by\n",
      "rhoPo=1/(aPo)**2  #per m**2\n",
      "#planer denity on (110) in rhodium\n",
      "rhoRh=sqrt(2)/(aRh)**2  #per m**2\n",
      "#planer density on (111) in chromium \n",
      "rhoCr=sqrt(3)/(aCr)**2  #per m**2\n",
      "print \"\"\"the planer density of polonium in (100) is %0.2e, \n",
      "rhodium in (110) is %0.2e per m**2 and chromium in (111) is %0.2e per m**2\"\"\"%(rhoPo,rhoRh,rhoCr)"
     ],
     "language": "python",
     "metadata": {},
     "outputs": [
      {
       "output_type": "stream",
       "stream": "stdout",
       "text": [
        "the planer density of polonium in (100) is 8.65e+18, \n",
        "rhodium in (110) is 9.84e+18 per m**2 and chromium in (111) is 2.08e+19 per m**2\n"
       ]
      }
     ],
     "prompt_number": 12
    }
   ],
   "metadata": {}
  }
 ]
}