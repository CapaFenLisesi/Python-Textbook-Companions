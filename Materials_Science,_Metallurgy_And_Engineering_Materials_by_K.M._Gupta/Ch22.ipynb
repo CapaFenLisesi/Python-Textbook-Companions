{
 "metadata": {
  "name": "",
  "signature": "sha256:9b85f177bb11398b4f5d182de9fe8e9e406f1c070a747a1b0c1a3320e4f20360"
 },
 "nbformat": 3,
 "nbformat_minor": 0,
 "worksheets": [
  {
   "cells": [
    {
     "cell_type": "heading",
     "level": 1,
     "metadata": {},
     "source": [
      "Ch-22, Superconduting material properties, behaviour and application"
     ]
    },
    {
     "cell_type": "heading",
     "level": 2,
     "metadata": {},
     "source": [
      "example-22.2 page no-660"
     ]
    },
    {
     "cell_type": "code",
     "collapsed": false,
     "input": [
      "from __future__ import division\n",
      "#given\n",
      "#critical  temp of Pb\n",
      "T0=7.17  #K\n",
      "#critical field\n",
      "H0=0.0803  #A/m\n",
      "#to find the critical field at \n",
      "T1=3 #K\n",
      "T2=10  #K\n",
      "#critical field at T1\n",
      "Hc1=H0*(1-T1**2/T0**2)  #A/m\n",
      "#critical field at T2\n",
      "Hc2=H0*(1-T2**2/T0**2)  #A/m\n",
      "print \" the critical field at 3K temp is %0.3f A/m and at 10K ia %0.3f A/m\"%(Hc1,Hc2)"
     ],
     "language": "python",
     "metadata": {},
     "outputs": [
      {
       "output_type": "stream",
       "stream": "stdout",
       "text": [
        " the critical field at 3K temp is 0.066 A/m and at 10K ia -0.076 A/m\n"
       ]
      }
     ],
     "prompt_number": 8
    },
    {
     "cell_type": "heading",
     "level": 2,
     "metadata": {},
     "source": [
      "example-22.3 page no-660"
     ]
    },
    {
     "cell_type": "code",
     "collapsed": false,
     "input": [
      "from math import pi\n",
      "#given\n",
      "#critical magnetic field\n",
      "Hc=7.9*10**3  #A/m\n",
      "#diameter of aluminium wire\n",
      "d=1*10**-3   #m\n",
      "#critical current is give by\n",
      "Ic=2*(pi)*d*Hc  #A\n",
      "print \" the critical current which can pass through a long thin superconducting wire of aluminium is %0.3f A\"%(Ic)"
     ],
     "language": "python",
     "metadata": {},
     "outputs": [
      {
       "output_type": "stream",
       "stream": "stdout",
       "text": [
        " the critical current which can pass through a long thin superconducting wire of aluminium is 49.637 A\n"
       ]
      }
     ],
     "prompt_number": 9
    },
    {
     "cell_type": "heading",
     "level": 2,
     "metadata": {},
     "source": [
      "example-22.4 page no-667"
     ]
    },
    {
     "cell_type": "code",
     "collapsed": false,
     "input": [
      "from math import sqrt\n",
      "#given\n",
      "#specific density of lead\n",
      "sd=11.4\n",
      "#density of lead\n",
      "rho=sd*10**3  #kg/m**3\n",
      "#atomic weight of lead\n",
      "Aw=207.2  #kg/kg-mol\n",
      "#velocity of sound in lead\n",
      "v=1200  #m/s\n",
      "NA=6.023*10**26  #particles/kg-mol (avogadro's number)\n",
      "e=1.602*10**-19  #C/electrons  (charge on an electron)\n",
      "m=9.1*10**-31  #kg  (mass of electron)\n",
      "mu0=4*(pi)*10**-7  #H/m  (permeability)\n",
      "#since lead is type I superconductor, so  London's theory of superconductivity is applicable\n",
      "#so\n",
      "ne=2*rho*NA/Aw  #electrons/m**3\n",
      "#critical current density\n",
      "Ied=ne*e*v  #A/m**2\n",
      "#depth of penetration at the surface of lead\n",
      "dp=sqrt(m/(mu0*ne*e**2))*10**10  #A\n",
      "print \"\"\"the electron density is %0.3e electrons/m**3\n",
      "the critical current density is %0.3e A/m**2\n",
      "the depth of penetration is %0.3e A\"\"\"%(ne,Ied,dp)"
     ],
     "language": "python",
     "metadata": {},
     "outputs": [
      {
       "output_type": "stream",
       "stream": "stdout",
       "text": [
        "the electron density is 6.628e+28 electrons/m**3\n",
        "the critical current density is 1.274e+13 A/m**2\n",
        "the depth of penetration is 2.063e+02 A\n"
       ]
      }
     ],
     "prompt_number": 10
    },
    {
     "cell_type": "heading",
     "level": 2,
     "metadata": {},
     "source": [
      "example-22.9 page no-673"
     ]
    },
    {
     "cell_type": "code",
     "collapsed": false,
     "input": [
      "#given\n",
      "#magnetic field at 0K temp \n",
      "H0=65*10**3  #A/m\n",
      "#critical temp \n",
      "Tc=7.18  #K\n",
      "#diameter of wire\n",
      "d=1*10**-3  #m\n",
      "#radius of wire\n",
      "r=d/2  #m\n",
      "#area of cross section\n",
      "A=(pi)*r**2  #m**2\n",
      "#to find the current density at 4.2 K\n",
      "#since it is given that Hc is parabolicaly dependent on T, so\n",
      "T=4.2  #K\n",
      "Hc=H0*(1-T**2/Tc**2)  #A/m\n",
      "#critical current\n",
      "Ic=2*(pi)*r*Hc  #A\n",
      "#critical current density Jc\n",
      "Jc=Ic/A  #A/m**2\n",
      "print \" the critical current density of lead is %0.3e A/m**2\"%(Jc)"
     ],
     "language": "python",
     "metadata": {},
     "outputs": [
      {
       "output_type": "stream",
       "stream": "stdout",
       "text": [
        " the critical current density of lead is 1.710e+08 A/m**2\n"
       ]
      }
     ],
     "prompt_number": 11
    },
    {
     "cell_type": "heading",
     "level": 2,
     "metadata": {},
     "source": [
      "example-22.10 page no-673"
     ]
    },
    {
     "cell_type": "code",
     "collapsed": false,
     "input": [
      "from math import sqrt\n",
      "#given\n",
      "#critical field at 3K and 14 K are 21 A/m and 10 A/m\n",
      "T1=7  #K\n",
      "T2=14  #K\n",
      "Hc1=21  #A/m\n",
      "Hc2=10  #A/m\n",
      "#DETERMINING CRITICAL TEMP\n",
      "#as we know that H=H0*(1-T**2/Tc**2)\n",
      "#so we get\n",
      "#71=H0*(1-7**2/Tc**2)  ----(1)\n",
      "#10=H0*(1-14**2/Tc**2) --(2)\n",
      "#dividing 1 and 2 we get\n",
      "#71/10=(Tc**2-7**2)/(Tc**2-14**2)\n",
      "#on solving we get\n",
      "Tc=sqrt(3626/11)  #K\n",
      "#DETERMINING CRITICAL FIELD AT 0K\n",
      "H0=Hc1/(1-T1**2/Tc**2)  #A/m\n",
      "#DETERMINING CRITICAL FIELD AT \n",
      "T=4.2   #K\n",
      "Hc=H0*(1-T**2/Tc**2)  #A/m\n",
      "print \" the critical temp is %0.3f K\\n, the critical field at 0K is %0.3f A/m and critical field at 4.2 K is %0.3f A/m\"%(Tc,H0,Hc)"
     ],
     "language": "python",
     "metadata": {},
     "outputs": [
      {
       "output_type": "stream",
       "stream": "stdout",
       "text": [
        " the critical temp is 18.156 K\n",
        ", the critical field at 0K is 24.667 A/m and critical field at 4.2 K is 23.347 A/m\n"
       ]
      }
     ],
     "prompt_number": 12
    },
    {
     "cell_type": "heading",
     "level": 2,
     "metadata": {},
     "source": [
      "example-22.11 page no-674"
     ]
    },
    {
     "cell_type": "code",
     "collapsed": false,
     "input": [
      "from __future__ import division\n",
      "#given\n",
      "#depth of penetration at 3K is 39.8 nm and at 7.1 K is 1730 A\n",
      "T1=3  #K\n",
      "T2=7.1  #K\n",
      "dp1=39.6*10**-9  #m\n",
      "dp2=1730*10**-10  #m\n",
      "#as we know that depth of penetration and temp are related as\n",
      "#(dp(T)/dp(T0))=1/(1-t**4/Tc**4)\n",
      "#so we get\n",
      "#at 3K\n",
      "#let dp(T0)=dp0\n",
      "#dp0=sqrt(dp1**2*(1-T1**4/Tc**4))  -(1)\n",
      "#also\n",
      "#dp0=sqrt(dp2**2*(1-T2**4/Tc**4))  .----(2)\n",
      "#solving 1 and 2 we get\n",
      "#((Tc**4-81)/(Tc**4-(7.1)**4))=(173)**2/(39.6)**2\n",
      "#so we get\n",
      "Tc=(48417.9/18.085)**(1/4)  #K\\\n",
      "#depth of penetration at absolute zero willbe\n",
      "dp0=sqrt(dp1**2*(1-T1**4/Tc**4))*10**9  #nm\n",
      "print \" critica temp is %0.3f K\\n and depth of penetration at critica zero is %0.3f nm\"%(Tc,dp0)"
     ],
     "language": "python",
     "metadata": {},
     "outputs": [
      {
       "output_type": "stream",
       "stream": "stdout",
       "text": [
        " critica temp is 7.193 K\n",
        " and depth of penetration at critica zero is 38.996 nm\n"
       ]
      }
     ],
     "prompt_number": 14
    }
   ],
   "metadata": {}
  }
 ]
}