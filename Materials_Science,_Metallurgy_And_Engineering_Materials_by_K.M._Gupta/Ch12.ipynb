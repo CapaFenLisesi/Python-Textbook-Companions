{
 "metadata": {
  "name": "",
  "signature": "sha256:6fb610a5c61b7f5f5a11cdaca7365589bd559a2226305d387dc828099826367f"
 },
 "nbformat": 3,
 "nbformat_minor": 0,
 "worksheets": [
  {
   "cells": [
    {
     "cell_type": "heading",
     "level": 1,
     "metadata": {},
     "source": [
      "Ch-12, Organic materials, plastic, rubber, elastomers and wood"
     ]
    },
    {
     "cell_type": "heading",
     "level": 2,
     "metadata": {},
     "source": [
      "example-12.1 page no-382"
     ]
    },
    {
     "cell_type": "code",
     "collapsed": false,
     "input": [
      "from __future__ import division\n",
      "#given\n",
      "#degree of polymerization of styrene\n",
      "DOP=10000\n",
      "#formula of styrene= C8H8\n",
      "#molecular weight of styrene monomer\n",
      "Mm=12*8+1*8\n",
      "#molecular weight of polymer\n",
      "Mp=DOP*Mm\n",
      "print \"the molecular weight of styrene polymer is %d\"%(Mp)"
     ],
     "language": "python",
     "metadata": {},
     "outputs": [
      {
       "output_type": "stream",
       "stream": "stdout",
       "text": [
        "the molecular weight of styrene polymer is 1040000\n"
       ]
      }
     ],
     "prompt_number": 3
    },
    {
     "cell_type": "heading",
     "level": 2,
     "metadata": {},
     "source": [
      "example-12.2 page no-382"
     ]
    },
    {
     "cell_type": "code",
     "collapsed": false,
     "input": [
      "#given\n",
      "#degree of polymerization of teflon\n",
      "DOP=100000\n",
      "#chemical formula of teflon is C2F4\n",
      "#molecular weight of monomer teflon\n",
      "Mm=2*12+4*19\n",
      "#molecular weight of teflon polymer\n",
      "Mp=DOP*Mm\n",
      "#molecular weight of polythene monomer i.ee C2H4\n",
      "MmP=2*12+4*1\n",
      "#molecular weight of polythene polymer\n",
      "MpP=DOP*MmP\n",
      "print \"molecular weight of PTFE anf Polythene are %d and %d\"%(Mm,MpP)\n",
      "#ratio of molecular weight of PTFE and Polythene\n",
      "R=Mp/MpP\n",
      "print \"the ration of molecular weight of PTFE and Polythene having same DOP is %0.3f\"%(R)"
     ],
     "language": "python",
     "metadata": {},
     "outputs": [
      {
       "output_type": "stream",
       "stream": "stdout",
       "text": [
        "molecular weight of PTFE anf Polythene are 100 and 2800000\n",
        "the ration of molecular weight of PTFE and Polythene having same DOP is 3.571\n"
       ]
      }
     ],
     "prompt_number": 7
    },
    {
     "cell_type": "heading",
     "level": 2,
     "metadata": {},
     "source": [
      "example-12.3 page no-396"
     ]
    },
    {
     "cell_type": "code",
     "collapsed": false,
     "input": [
      "#given\n",
      "#the molecular weight of polyisoprene monomer\n",
      "Mm=68  #gm\n",
      "#after vulcanisation with sulphur, it is observedthat the 2 molecules of isoprene monimer require 2 molecules of sulphur\n",
      "#hence for full cross linking ,(68*2) gm of isoprene requires (32*2)gm of sulphur. therefore 68kg of isoprene requires\n",
      "M=32*2*68/68/2  #kg of sulphur\n",
      "print \"the weight of sulphur required for cross link polymerization of polyisoprene is %d of sulphur\"%(M)\n",
      "print \"the fully cross linked product will be EBONITE\""
     ],
     "language": "python",
     "metadata": {},
     "outputs": [
      {
       "output_type": "stream",
       "stream": "stdout",
       "text": [
        "the weight of sulphur required for cross link polymerization of polyisoprene is 32 of sulphur\n",
        "the fully cross linked product will be EBONITE\n"
       ]
      }
     ],
     "prompt_number": 5
    },
    {
     "cell_type": "heading",
     "level": 2,
     "metadata": {},
     "source": [
      "example-12.4 page no-396"
     ]
    },
    {
     "cell_type": "code",
     "collapsed": false,
     "input": [
      "from __future__ import division\n",
      "#given\n",
      "#molecular weight of butdiene,isoprene,sulhur and carbon black are\n",
      "MB=4*12+6*1\n",
      "MI=68\n",
      "MS=32\n",
      "MC=12\n",
      "#percentages of diiferent constituents in rubber\n",
      "PB=27/MB\n",
      "PI=51/MI\n",
      "PS=16/MS\n",
      "PC=6/MC\n",
      "#percentage of coss linking\n",
      "percent=PS/(PI+PB)*100\n",
      "print \"the percentage of cross linking is %d\"%(percent)"
     ],
     "language": "python",
     "metadata": {},
     "outputs": [
      {
       "output_type": "stream",
       "stream": "stdout",
       "text": [
        "the percentage of cross linking is 40\n"
       ]
      }
     ],
     "prompt_number": 6
    }
   ],
   "metadata": {}
  }
 ]
}