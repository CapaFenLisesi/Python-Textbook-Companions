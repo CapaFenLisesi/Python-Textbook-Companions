{
 "metadata": {
  "name": "",
  "signature": "sha256:a30f79ff459b2d070e97267af2c0b53a7ca4c8f26e341ccc7fe8201d7c4afe5e"
 },
 "nbformat": 3,
 "nbformat_minor": 0,
 "worksheets": [
  {
   "cells": [
    {
     "cell_type": "heading",
     "level": 1,
     "metadata": {},
     "source": [
      "Ch-21, Magnetic material properties, behaviour and application"
     ]
    },
    {
     "cell_type": "heading",
     "level": 2,
     "metadata": {},
     "source": [
      "example-21.1 page no-621"
     ]
    },
    {
     "cell_type": "code",
     "collapsed": false,
     "input": [
      "from __future__ import division\n",
      "from math import pi\n",
      "#given\n",
      "#magnetic field\n",
      "H=2400  #A/m\n",
      "#susceptibilty\n",
      "kie=1500\n",
      "#part(a)\n",
      "#relative permeability is given by\n",
      "mur=1+kie\n",
      "#part(b)\n",
      "#intensity of magnetization \n",
      "M=kie*H  #A/m\n",
      "#part(c)\n",
      "#permeability\n",
      "mu0=4*(pi)*10**-7\n",
      "#remanance\n",
      "B=mu0*mur*H  #T\n",
      "print \" the realative permeability is %0.f \\n, the intensity of magnetisation is %.f A/m \\n and the remanance is %0.3f\"%(mur,M,B)"
     ],
     "language": "python",
     "metadata": {},
     "outputs": [
      {
       "output_type": "stream",
       "stream": "stdout",
       "text": [
        " the realative permeability is 1501 \n",
        ", the intensity of magnetisation is 3600000 A/m \n",
        " and the remanance is 4.527\n"
       ]
      }
     ],
     "prompt_number": 14
    },
    {
     "cell_type": "heading",
     "level": 2,
     "metadata": {},
     "source": [
      "example-21.2 page no-621"
     ]
    },
    {
     "cell_type": "code",
     "collapsed": false,
     "input": [
      "from __future__ import division\n",
      "#given\n",
      "#relative permeability of superalloy\n",
      "mur=200000\n",
      "mu0=4*(pi)*10**-7  #henry/m\n",
      "#intensity of magnetisation\n",
      "M=6000  #A/m\n",
      "#magnetic field is given by\n",
      "H=M/(mur-1)  #A/m\n",
      "#strength of magnet\n",
      "B=mu0*mur*H  #tesla\n",
      "print \"The strength of magnet is %0.3f T\"%(B)"
     ],
     "language": "python",
     "metadata": {},
     "outputs": [
      {
       "output_type": "stream",
       "stream": "stdout",
       "text": [
        "The strength of magnet is 0.008 T\n"
       ]
      }
     ],
     "prompt_number": 15
    },
    {
     "cell_type": "heading",
     "level": 2,
     "metadata": {},
     "source": [
      "example-21.3 page no-621"
     ]
    },
    {
     "cell_type": "code",
     "collapsed": false,
     "input": [
      "#given\n",
      "#magnetic moment is 0.6 times bohr magneton and we know that beta is 9.27*10**-24 Am**2\n",
      "beta=9.27*10**-24  #A/m**2\n",
      "M=0.6*beta  #A/m**2\n",
      "#attice constant \n",
      "a=0.35*10**-9  #m\n",
      "#no of atoms per unit cell is given by\n",
      "Ne=4\n",
      "#saturation magnetisation for FCC unit cell is given by\n",
      "Ms=Ne*M/a**3  #A/m\n",
      "print \"he saturation magnetisation is %0.3f A/m\"%(Ms)"
     ],
     "language": "python",
     "metadata": {},
     "outputs": [
      {
       "output_type": "stream",
       "stream": "stdout",
       "text": [
        "he saturation magnetisation is 518903.790 A/m\n"
       ]
      }
     ],
     "prompt_number": 17
    },
    {
     "cell_type": "heading",
     "level": 2,
     "metadata": {},
     "source": [
      "example-21.4 page no-632"
     ]
    },
    {
     "cell_type": "code",
     "collapsed": false,
     "input": [
      "#given\n",
      "#refer to fig-21.6\n",
      "#width of loop\n",
      "#W=(OA+OB)  \n",
      "#so \n",
      "W=80*2  #A/m\n",
      "#height of loop\n",
      "#H=(OC+OD)  #wb/m**2\n",
      "#so\n",
      "H=0.15*2  #Wb/m**2\n",
      "#area of loop\n",
      "A=W*H  #T A/m or J\n",
      "print \"The energy loss per ubitvolume of the magnetic material during one cycle is %.f J\"%(A)"
     ],
     "language": "python",
     "metadata": {},
     "outputs": [
      {
       "output_type": "stream",
       "stream": "stdout",
       "text": [
        "The energy loss per ubitvolume of the magnetic material during one cycle is 48 J\n"
       ]
      }
     ],
     "prompt_number": 5
    },
    {
     "cell_type": "heading",
     "level": 2,
     "metadata": {},
     "source": [
      "example-21.5 page no-633"
     ]
    },
    {
     "cell_type": "code",
     "collapsed": false,
     "input": [
      "#given\n",
      "#volume\n",
      "V=0.01  #m**3\n",
      "#frequency\n",
      "f=50  #Hz\n",
      "#area of loop\n",
      "A=600   #J/m**2\n",
      "#as we know that\n",
      "#A=mu*Bmax**16\n",
      "#also power loss is given by\n",
      "#P=mu*Bmax**16*f*V\n",
      "#so \n",
      "P=A*f*V  #watt\n",
      "print \" the power loss due to hysteresis is %.f W\"%(P)"
     ],
     "language": "python",
     "metadata": {},
     "outputs": [
      {
       "output_type": "stream",
       "stream": "stdout",
       "text": [
        " the power loss due to hysteresis is 300 W\n"
       ]
      }
     ],
     "prompt_number": 6
    },
    {
     "cell_type": "heading",
     "level": 2,
     "metadata": {},
     "source": [
      "example-21.6 page no-633"
     ]
    },
    {
     "cell_type": "code",
     "collapsed": false,
     "input": [
      "#given\n",
      "#hysteresis loss is\n",
      "W1=300  #W\n",
      "#max flux density is \n",
      "Bmax1=0.9  #Wb/m**2\n",
      "Bmax2=1.1  #Wb/m**2\n",
      "#frequency\n",
      "f1=50  #Hz\n",
      "f2=40  #Hz\n",
      "#we know that\n",
      "#W=nu*(Bmax)**1.7*f*V\n",
      "#s0 \n",
      "#W1=nu*(Bmax1)**1.7*f1*V   ---------(1)\n",
      "#W2=nu*(Bmax2)**1.7*f*V   -------(2)\n",
      "#from one and 2 we get\n",
      "W2=W1*(Bmax2)**1.7*f2/((Bmax1)**1.7*f1)  #W\n",
      "print \"The hysteresis loss at 40 Hz frequency is %0.3f W\"%(W2)"
     ],
     "language": "python",
     "metadata": {},
     "outputs": [
      {
       "output_type": "stream",
       "stream": "stdout",
       "text": [
        "The hysteresis loss at 40 Hz frequency is 337.572 W\n"
       ]
      }
     ],
     "prompt_number": 18
    },
    {
     "cell_type": "heading",
     "level": 2,
     "metadata": {},
     "source": [
      "example-21.7 page no 634"
     ]
    },
    {
     "cell_type": "code",
     "collapsed": false,
     "input": [
      "#given\n",
      "#flux density\n",
      "Bm=1.10  #Wb/m**2\n",
      "#frequency\n",
      "f=50  #Hz\n",
      "#thickness of sheet\n",
      "t=0.5*10**-3  #m\n",
      "#resistivity\n",
      "rho=30*10**-8  #per ohm m\n",
      "#density\n",
      "rhodash=7800  #kg/m**3\n",
      "#mass\n",
      "m=1  #kg\n",
      "#volume of material\n",
      "V=m/rhodash  #m**3\n",
      "#and \n",
      "k=1.11\n",
      "#hysteresis loss in each cycle\n",
      "Wh=380  #W s/m**3\n",
      "#loss per kg of specimen is given by\n",
      "We=4/3*(Bm*f*t*k)**2*V/(rho)   #watt/kg\n",
      "print \" the loss is %0.3f watt/kg\"%(We)"
     ],
     "language": "python",
     "metadata": {},
     "outputs": [
      {
       "output_type": "stream",
       "stream": "stdout",
       "text": [
        " the loss is 0.531 watt/kg\n"
       ]
      }
     ],
     "prompt_number": 19
    },
    {
     "cell_type": "heading",
     "level": 2,
     "metadata": {},
     "source": [
      "example-21.8 page no-634"
     ]
    },
    {
     "cell_type": "code",
     "collapsed": false,
     "input": [
      "#given\n",
      "#frequency\n",
      "f=50  #Hz\n",
      "#mass\n",
      "m=50  #kg\n",
      "#density\n",
      "rho=7500  #kg/m**3\n",
      "#volume of material\n",
      "V=m/rho  #m**3\n",
      "#hysteresis loop area\n",
      "A=150  #m**2\n",
      "#scale factor\n",
      "#1 cm=0.008 Wb/m**2 on y-axis and 1cm=20 A/m on x-axis\n",
      "#energy lost during each cycle\n",
      "E=A*0.008*20*10**4  #J/m**3\n",
      "#poer loss due to hysteresis\n",
      "P=E*f*V  #J/s\n",
      "#energy lost in one hour\n",
      "Wh=P*(60*60)  #J\n",
      "print \" the energy lost in one hour is %0.3e J\"%(Wh)"
     ],
     "language": "python",
     "metadata": {},
     "outputs": [
      {
       "output_type": "stream",
       "stream": "stdout",
       "text": [
        " the energy lost in one hour is 2.880e+08 J\n"
       ]
      }
     ],
     "prompt_number": 20
    },
    {
     "cell_type": "heading",
     "level": 2,
     "metadata": {},
     "source": [
      "example-21.11 page no-650"
     ]
    },
    {
     "cell_type": "code",
     "collapsed": false,
     "input": [
      "#given\n",
      "#frequency\n",
      "f=50  #Hz\n",
      "#eddy current loss in transformer\n",
      "We=100  #W\n",
      "#to find eddy current loss at frequencies\n",
      "f1=60  #Hz\n",
      "f2=100  #Hz\n",
      "#as we know that\n",
      "#We is directly proportional to f**2\n",
      "We1=f1**2*We/f**2  #W\n",
      "#similarly\n",
      "We2=f2**2*We/f**2  #W\n",
      "print \" the eddy current loss at 60 Hz is %0.f W \\n and at 100 Hz is %.f W\"%(We1,We2)"
     ],
     "language": "python",
     "metadata": {},
     "outputs": [
      {
       "output_type": "stream",
       "stream": "stdout",
       "text": [
        " the eddy current loss at 60 Hz is 144 W \n",
        " and at 100 Hz is 400 W\n"
       ]
      }
     ],
     "prompt_number": 22
    },
    {
     "cell_type": "heading",
     "level": 2,
     "metadata": {},
     "source": [
      "example-21.15 page no-651"
     ]
    },
    {
     "cell_type": "code",
     "collapsed": false,
     "input": [
      "#given\n",
      "#length of wire\n",
      "l=250*10**-3  #m\n",
      "#no of turns\n",
      "N=400\n",
      "#current\n",
      "I=15  #A\n",
      "#permeability in vaccum\n",
      "mu0=1.2457*10**-6  #H/m\n",
      "#relative permeability\n",
      "mur=1\n",
      "#magnetic field strength \n",
      "H=N*I/l  #AT/m\n",
      "#flux density is\n",
      "B=mu0*mur*H  #Wb/m**2\n",
      "print \" the magnetic field strength is %.f AT/m and flux density is %0.3f Wb/m\"%(H,B)"
     ],
     "language": "python",
     "metadata": {},
     "outputs": [
      {
       "output_type": "stream",
       "stream": "stdout",
       "text": [
        " the magnetic field strength is 24000 AT/m and flux density is 0.030 Wb/m\n"
       ]
      }
     ],
     "prompt_number": 23
    }
   ],
   "metadata": {}
  }
 ]
}