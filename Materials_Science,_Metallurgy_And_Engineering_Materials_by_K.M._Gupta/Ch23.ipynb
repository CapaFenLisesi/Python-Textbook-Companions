{
 "metadata": {
  "name": "",
  "signature": "sha256:5b9459ecae57c08b61ec14610fd69508bc529ffb99e434161f835cad507f2c18"
 },
 "nbformat": 3,
 "nbformat_minor": 0,
 "worksheets": [
  {
   "cells": [
    {
     "cell_type": "heading",
     "level": 1,
     "metadata": {},
     "source": [
      "Ch-23, Thermal properties & materials"
     ]
    },
    {
     "cell_type": "heading",
     "level": 2,
     "metadata": {},
     "source": [
      "example-23.1 page no-681"
     ]
    },
    {
     "cell_type": "code",
     "collapsed": false,
     "input": [
      "from __future__ import division\n",
      "#given\n",
      "#length of glass rod and steel rod is equal at 273 K and differ by 1.2 mm at 373 K\n",
      "T1=273  #K\n",
      "T2=373  #K\n",
      "#coefficients of linear expansion af glass and steel are\n",
      "alphaG=8*10**-6  #per degree C\n",
      "alphaS=12*10**-6   #per degrees C\n",
      "#we know that\n",
      "#lT2=lT1*(1+alpha(T2-T1))\n",
      "#so for glass rod\n",
      "#l100G=l0*(1+(alpha1)*(T2-T1))\n",
      "#similarly for steel rod\n",
      "#l100G=1.0008*l0   ----(1)\n",
      "#l100S=lo*(1+(alpha2)*(T2-T1))\n",
      "#l100S=1.0012*l0  ----------(2)\n",
      "#we have given that\n",
      "#l100S-l100G=1.2 mm  ---(3)\n",
      "#from 1 and 2 put in 3, we get\n",
      "#1.0012*l0-1.0008*l0=1.2\n",
      "#so\n",
      "l0=1.2*10**-3/(0.0012-.0008)  #m\n",
      "print \" the length of rod at 0 degrees celcius is %.f m\"%(l0)"
     ],
     "language": "python",
     "metadata": {},
     "outputs": [
      {
       "output_type": "stream",
       "stream": "stdout",
       "text": [
        " the length of rod at 0 degrees celcius is 3 m\n"
       ]
      }
     ],
     "prompt_number": 5
    },
    {
     "cell_type": "heading",
     "level": 2,
     "metadata": {},
     "source": [
      "example-23.2 page no-684"
     ]
    },
    {
     "cell_type": "code",
     "collapsed": false,
     "input": [
      "#given\n",
      "#coefficient of linear expansion of Cu and steel are\n",
      "alphaCu=18*10**-6  #cm/cm/degree C\n",
      "alphaSteel=14*10**-6  #cm/cm/degree C\n",
      "#young's modulus of elasticity\n",
      "ECu=106*10**9  #Pa\n",
      "ESteel=200*10**9  #Pa\n",
      "#part(a)\n",
      "#since alphaCu>alphaSteel\n",
      "#so steel will contract less. \n",
      "print \" Hence strip will bend in the direction of copper\"\n",
      "#part(b)\n",
      "#annealing temp\n",
      "T2=530  #degrees celcius\n",
      "#room temp\n",
      "T1=30  #degrees celcius\n",
      "#difference in temp\n",
      "T=T2-T1  #degrees celcius\n",
      "#differnce in values of coefficient of linear expansion\n",
      "alpha=alphaCu-alphaSteel  #cm/cm/degrees celcius\n",
      "#differential contraction\n",
      "contraction=T*alpha  #cm/cm\n",
      "#since the two metals in the strip have equal dimension\n",
      "#sigmaCu=sigmaSteel=sigma\n",
      "#strain in copper\n",
      "#eCu=sigma/Ecu    -----(1)\n",
      "#strain in steel\n",
      "#eSteel=sigma/ESteel   ---(2)\n",
      "#sum of strains given by equation 1 and 2\n",
      "sigma=contraction*ESteel*ECu/(ESteel+ECu)*10**-6  # MPa\n",
      "print \" the stresses in each metal is %0.3f MPa\"%(sigma)"
     ],
     "language": "python",
     "metadata": {},
     "outputs": [
      {
       "output_type": "stream",
       "stream": "stdout",
       "text": [
        " Hence strip will bend in the direction of copper\n",
        " the stresses in each metal is 138.562 MPa\n"
       ]
      }
     ],
     "prompt_number": 7
    }
   ],
   "metadata": {}
  }
 ]
}