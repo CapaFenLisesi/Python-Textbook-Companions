{
 "metadata": {
  "name": "",
  "signature": "sha256:b4c4e8b4e1c16c859c0b2970e90b60e284d6f5febb43327aebce670fd8dbf006"
 },
 "nbformat": 3,
 "nbformat_minor": 0,
 "worksheets": [
  {
   "cells": [
    {
     "cell_type": "heading",
     "level": 1,
     "metadata": {},
     "source": [
      "Ch-5,Material Characterization"
     ]
    },
    {
     "cell_type": "heading",
     "level": 2,
     "metadata": {},
     "source": [
      "example-5.1 page no-136"
     ]
    },
    {
     "cell_type": "code",
     "collapsed": false,
     "input": [
      "from math import pi, sin, asin\n",
      "#given\n",
      "#wavelength of X-rays beams of light\n",
      "lamda=0.824*10**-10  #m\n",
      "#glancing angle of the incident light\n",
      "theta1=(8+35/60)*(pi)/180  #radians\n",
      "n1=1\n",
      "#to find theta3 i.e at\n",
      "n3=3\n",
      "#as we know that\n",
      "#2*d*sin(theta)=n*lambda\n",
      "#so for n1 and n3 we get in the same way and solving together we get \n",
      "theta3=asin(3*sin(theta1))\n",
      "#so \n",
      "d=lamda/2/sin(theta1)\n",
      "print \"the galncing angle for the third order diffraction is and interplanar spacing of the crystal is 2.761 A\""
     ],
     "language": "python",
     "metadata": {},
     "outputs": [
      {
       "output_type": "stream",
       "stream": "stdout",
       "text": [
        "the galncing angle for the third order diffraction is and interplanar spacing of the crystal is 2.761 A\n"
       ]
      }
     ],
     "prompt_number": 1
    },
    {
     "cell_type": "heading",
     "level": 2,
     "metadata": {},
     "source": [
      "example-5.2 page no-141"
     ]
    },
    {
     "cell_type": "code",
     "collapsed": false,
     "input": [
      "from math import sqrt, pi\n",
      "#given\n",
      "#bragg's angle of reflection\n",
      "theta1=17.03*(pi)/180  #radians\n",
      "#wavelength of light\n",
      "lamda=0.71  #A\n",
      "#according to bragg's equation \n",
      "#n*lambda=2*d*sin(theta)\n",
      "#for n=1\n",
      "d=lamda/2/sin(theta1)  #A\n",
      "#given that h**2+k**2+l**2=8\n",
      "#let (h**2+k**2+l**2)**1/2=H\n",
      "#we get\n",
      "H=sqrt(8)\n",
      "a=d*H  #A\n",
      "print \"since h**2+k**2+l**2=8 ,hence the reflecting planes will be (220). family of planes (220) include (220), (202), (022) ,etc.\""
     ],
     "language": "python",
     "metadata": {},
     "outputs": [
      {
       "output_type": "stream",
       "stream": "stdout",
       "text": [
        "since h**2+k**2+l**2=8 ,hence the reflecting planes will be (220). family of planes (220) include (220), (202), (022) ,etc.\n"
       ]
      }
     ],
     "prompt_number": 2
    },
    {
     "cell_type": "heading",
     "level": 2,
     "metadata": {},
     "source": [
      "example-5.3 page n0-141"
     ]
    },
    {
     "cell_type": "code",
     "collapsed": false,
     "input": [
      "#given\n",
      "#lattice constant\n",
      "a=1.54  #A\n",
      "#wavelength of beam of light\n",
      "lamda=1.54 #A\n",
      "#according to bragg's equation\n",
      "#n*lambda=2*d*sin(theta)\n",
      "#following angles are given\n",
      "theta1=20.3*(pi)/180\n",
      "theta2=29.2*(pi)/180\n",
      "theta3=36.7*(pi)/180\n",
      "theta4=43.6*(pi)/180\n",
      "#interplaner spadcing is \n",
      "d1=lamda/(2*sin(theta1))  #A\n",
      "d2=lamda/(2*sin(theta2))  #A\n",
      "d3=lamda/(2*sin(theta3))  #A\n",
      "d4=lamda/(2*sin(theta4))  #A\n",
      "#magnitude of bragg's \n",
      "#we have h**2+k**2+l**2=a**2/d**2\n",
      "#let a**2/d**2= D for notation only\n",
      "#so\n",
      "D1=2\n",
      "D2=4\n",
      "D3=6\n",
      "D4=8\n",
      "#so from bragg's magnitude we can get (hkl)\n",
      "#(hkl1)=(110)\n",
      "#(hkl3)=(200)\n",
      "#(hkl3)=(211)\n",
      "#(hkl4)=(220)\n",
      "print \"the reflection will take from {110},{200},{211} and (220)\""
     ],
     "language": "python",
     "metadata": {},
     "outputs": [
      {
       "output_type": "stream",
       "stream": "stdout",
       "text": [
        "the reflection will take from {110},{200},{211} and (220)\n"
       ]
      }
     ],
     "prompt_number": 3
    },
    {
     "cell_type": "heading",
     "level": 2,
     "metadata": {},
     "source": [
      "example-5.5 page no-146"
     ]
    },
    {
     "cell_type": "code",
     "collapsed": false,
     "input": [
      "#given\n",
      "#wavelength of X-ray\n",
      "lamda=1.54  #A\n",
      "#diameter of powder camera\n",
      "D=114.6  #mm\n",
      "#radius of powder camera\n",
      "R=D/2  #mm\n",
      "#value of l\n",
      "l1=86\n",
      "l2=100\n",
      "l3=148\n",
      "l4=180\n",
      "l5=188\n",
      "l6=232\n",
      "l7=272\n",
      "#we know that\n",
      "#theta=l/4\n",
      "#so\n",
      "theta1=l1/4*(pi)/180   #radians\n",
      "theta2=l2/4*(pi)/180   #radians\n",
      "theta3=l3/4*(pi)/180   #radians\n",
      "theta4=l4/4*(pi)/180   #radians\n",
      "theta5=l5/4*(pi)/180   #radians\n",
      "theta6=l6/4*(pi)/180   #radians\n",
      "theta7=l7/4*(pi)/180   #radians\n",
      "#now values of sin (theta) and sin(theta2)\n",
      "S1=sin(theta1)\n",
      "SS1=(sin(theta1))**2\n",
      "S2=sin(theta1)\n",
      "SS2=(sin(theta1))**2\n",
      "S3=sin(theta1)\n",
      "SS3=(sin(theta1))**2\n",
      "S4=sin(theta1)\n",
      "SS4=(sin(theta1))**2\n",
      "S5=sin(theta1)\n",
      "SS5=(sin(theta1))**2\n",
      "S6=sin(theta1)\n",
      "SS6=(sin(theta1))**2\n",
      "S7=sin(theta1)\n",
      "SS7=(sin(theta1))**2\n",
      "#so the ratio can be expressed as\n",
      "#3:4:8:11:12:16:19\n",
      "print \"from the extinction rule, we notice that this is an FCC Structure\"\n",
      "#the lattice parameter for highest bragg's angle is\n",
      "#a=lambda*sqrt(h**2+k**2+l**2)/(2*sin(theta))\n",
      "#here h**2+k**2+l**2=19\n",
      "#and let h**2+k**2+l**2 =M for notation\n",
      "M=19\n",
      "a=lamda*sqrt(M)/(2*sin(theta6))  #A\n",
      "print \"lattice parameter of material is %0.2f A\"%(a)"
     ],
     "language": "python",
     "metadata": {},
     "outputs": [
      {
       "output_type": "stream",
       "stream": "stdout",
       "text": [
        "from the extinction rule, we notice that this is an FCC Structure\n",
        "lattice parameter of material is 3.96 A\n"
       ]
      }
     ],
     "prompt_number": 4
    },
    {
     "cell_type": "heading",
     "level": 2,
     "metadata": {},
     "source": [
      "example-5.6 page no-158"
     ]
    },
    {
     "cell_type": "code",
     "collapsed": false,
     "input": [
      "#given\n",
      "#ASTM number\n",
      "n=12\n",
      "#as we know that the number of grains N observed on photomicrograph is given by\n",
      "N=2**(n-1)\n",
      "#as we know that grain size diameter is given by\n",
      "d=1/sqrt((N/645)*10**4)  #mm  because 1 square inch=645 mm**2\n",
      "print \"the grain diameter for an ASTM number 12 is %f mm\"%(d)"
     ],
     "language": "python",
     "metadata": {},
     "outputs": [
      {
       "output_type": "stream",
       "stream": "stdout",
       "text": [
        "the grain diameter for an ASTM number 12 is 0.005774 mm\n"
       ]
      }
     ],
     "prompt_number": 5
    },
    {
     "cell_type": "heading",
     "level": 2,
     "metadata": {},
     "source": [
      "example-5.7 page no-158"
     ]
    },
    {
     "cell_type": "code",
     "collapsed": false,
     "input": [
      "from math import log\n",
      "#given\n",
      "#no of grains within the view of a micrograph\n",
      "n1=41\n",
      "#no of grains cut by circumference\n",
      "n2=42\n",
      "#diameter of circular area\n",
      "d=1  #inch\n",
      "#area\n",
      "A=(pi)/4*d**2  #inch**2\n",
      "#the area density of grains\n",
      "\n",
      "N=(n1+n2/2)/A  #grains/inch**2\n",
      "#grain size\n",
      "n=log(N)/log(2)+1  \n",
      "print \"the area density of grains is %0.2f grains/inch**2 and grain size is 8\"%(N)"
     ],
     "language": "python",
     "metadata": {},
     "outputs": [
      {
       "output_type": "stream",
       "stream": "stdout",
       "text": [
        "the area density of grains is 78.94 grains/inch**2 and grain size is 8\n"
       ]
      }
     ],
     "prompt_number": 6
    },
    {
     "cell_type": "heading",
     "level": 2,
     "metadata": {},
     "source": [
      "example-5.8 page no-159"
     ]
    },
    {
     "cell_type": "code",
     "collapsed": false,
     "input": [
      "from __future__ import division\n",
      "#given\n",
      "#ASTM no of grains\n",
      "ASTM=5\n",
      "#area density of grains\n",
      "N=2**(ASTM-1)  #grains/inch**2 at magnification of 100*\n",
      "#as we know that lineal and areal magnification are related as\n",
      "#*100 lineal=*10000 areal\n",
      "#therefore\n",
      "Nnew=N/0.01/0.01  #grains/inch**2 at 1*\n",
      "#average area of one grain\n",
      "A=1/Nnew*(2.54)**2  #cm**2\n",
      "#now 160000 grains/inch**2 of surface is sqrt(160000)=400 grains/inch of length and this is equal to=(400)**3==6.4*10**7 grains/m**3 of volume\n",
      "#surface area of each cubic surface\n",
      "S=(1/400)**2  #inch**2\n",
      "#there are 6 surfaces in accubic grain\n",
      "#thus total surface area of each grain\n",
      "T=1/2*6*S*(400)**3/2.54  #cm**2 boundary per cubic cm of steel\n",
      "print \"the boumdary area per cubic centimeter of steel is %0.2e cm**2 boundary per cubic centimeter of steel\"%T "
     ],
     "language": "python",
     "metadata": {},
     "outputs": [
      {
       "output_type": "stream",
       "stream": "stdout",
       "text": [
        "the boumdary area per cubic centimeter of steel is 4.72e+02 cm**2 boundary per cubic centimeter of steel\n"
       ]
      }
     ],
     "prompt_number": 7
    }
   ],
   "metadata": {}
  }
 ]
}