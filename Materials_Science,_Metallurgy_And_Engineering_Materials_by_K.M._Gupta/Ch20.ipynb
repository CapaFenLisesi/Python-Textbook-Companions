{
 "metadata": {
  "name": "",
  "signature": "sha256:b9f5d7f0a48b46e1babebe6bd43ebb6898c49a7f38ee85ae4b3cf64f271cc1c8"
 },
 "nbformat": 3,
 "nbformat_minor": 0,
 "worksheets": [
  {
   "cells": [
    {
     "cell_type": "heading",
     "level": 1,
     "metadata": {},
     "source": [
      "Ch-20, Dielectric, Ferroelectric, piezoelastic & pyroelastic material"
     ]
    },
    {
     "cell_type": "heading",
     "level": 2,
     "metadata": {},
     "source": [
      "example-20.1 page no-593"
     ]
    },
    {
     "cell_type": "code",
     "collapsed": false,
     "input": [
      "from __future__ import division\n",
      "#given\n",
      "#dielecric strength of natural rubber\n",
      "DS=40000  #volts/mm\n",
      "#current \n",
      "I=33*10**3  #V\n",
      "#required thickness of insulation\n",
      "t=I/DS  #mm\n",
      "print \"the thickness of wire required for insulation is %0.3f mm\"%(t)"
     ],
     "language": "python",
     "metadata": {},
     "outputs": [
      {
       "output_type": "stream",
       "stream": "stdout",
       "text": [
        "the thickness of wire required for insulation is 0.825 mm\n"
       ]
      }
     ],
     "prompt_number": 11
    },
    {
     "cell_type": "heading",
     "level": 2,
     "metadata": {},
     "source": [
      "example-20.2 page no-594"
     ]
    },
    {
     "cell_type": "code",
     "collapsed": false,
     "input": [
      "from math import pi\n",
      "#given\n",
      "#capacitance of capacitor\n",
      "C=0.025*10**-6  #F\n",
      "#power factor\n",
      "#tan delta=0.0005\n",
      "#for notation let tan delta=delta\n",
      "delta=0.0005\n",
      "#current\n",
      "I=200  #A\n",
      "#frequency\n",
      "f=25*10**3  #Hz\n",
      "#volatge across a capacitor is\n",
      "V=I/(2*(pi)*f*C)  #V\n",
      "#dielectric loss\n",
      "P=V*I*delta  # W\n",
      "print \" the dielectric loss is %0.3f Watt\"%(P)"
     ],
     "language": "python",
     "metadata": {},
     "outputs": [
      {
       "output_type": "stream",
       "stream": "stdout",
       "text": [
        " the dielectric loss is 5092.958 Watt\n"
       ]
      }
     ],
     "prompt_number": 12
    },
    {
     "cell_type": "heading",
     "level": 2,
     "metadata": {},
     "source": [
      "example-20.3 page no-596"
     ]
    },
    {
     "cell_type": "code",
     "collapsed": false,
     "input": [
      "#given\n",
      "#electric field\n",
      "E=600  #V/m\n",
      "#dielectric constant\n",
      "Er=6.1\n",
      "E0=8.85*10**-12  \n",
      "#polarization is given by\n",
      "P=E*E0*(Er-1)  #V/m\n",
      "print \"The polarization produced is %0.3e V/m\"%(P)"
     ],
     "language": "python",
     "metadata": {},
     "outputs": [
      {
       "output_type": "stream",
       "stream": "stdout",
       "text": [
        "The polarization produced is 2.708e-08 V/m\n"
       ]
      }
     ],
     "prompt_number": 13
    },
    {
     "cell_type": "heading",
     "level": 2,
     "metadata": {},
     "source": [
      "example-20.4 page no-596"
     ]
    },
    {
     "cell_type": "code",
     "collapsed": false,
     "input": [
      "#given\n",
      "#charge\n",
      "Q=10*10**-6  #C\n",
      "#voltage\n",
      "V=10*10**3  #V\n",
      "#seperation betweemn the plates\n",
      "d=5*10**-4  #m\n",
      "#dielectric eonstant\n",
      "Er=10\n",
      "E0=8.854*10**-12\n",
      "#we know that\n",
      "#Q=C*V\n",
      "#so\n",
      "C=Q/V  #F\n",
      "#also we know that\n",
      "#C=Er*E0*A/d\n",
      "#so\n",
      "A=C*d/Er/E0  #m**2\n",
      "print \"area between the plates is %0.3f m**2\"%(A)"
     ],
     "language": "python",
     "metadata": {},
     "outputs": [
      {
       "output_type": "stream",
       "stream": "stdout",
       "text": [
        "area between the plates is 0.006 m**2\n"
       ]
      }
     ],
     "prompt_number": 14
    },
    {
     "cell_type": "heading",
     "level": 2,
     "metadata": {},
     "source": [
      "example-20.5 page no-597"
     ]
    },
    {
     "cell_type": "code",
     "collapsed": false,
     "input": [
      "#given\n",
      "#area of plate\n",
      "A=10*10*10**-6  #m**2\n",
      "#capacitance\n",
      "C=10**-9  #F\n",
      "#distance between the plates\n",
      "d=2*10**-3  #m\n",
      "#contant\n",
      "E0=8.854*10**-12  #F/m\n",
      "#dielectric constant\n",
      "Er=C*d/(E0*A)  \n",
      "print \"the cielectric constant of the crystal is %0.3f\"%(Er)"
     ],
     "language": "python",
     "metadata": {},
     "outputs": [
      {
       "output_type": "stream",
       "stream": "stdout",
       "text": [
        "the cielectric constant of the crystal is 2258.866\n"
       ]
      }
     ],
     "prompt_number": 15
    },
    {
     "cell_type": "heading",
     "level": 2,
     "metadata": {},
     "source": [
      "example-20.6 page no-597"
     ]
    },
    {
     "cell_type": "code",
     "collapsed": false,
     "input": [
      "#given\n",
      "#dielectric constant\n",
      "Er1=6.0\n",
      "Er2=3.0\n",
      "#thickness of plates\n",
      "d1=0.25*10**-3  #m\n",
      "d2=0.1*10**-3  #m\n",
      "#taking A1=A2\n",
      "#we know that \n",
      "#C=Er*E0*A/d\n",
      "#for plate1\n",
      "#C1=Er1*E0*A1/d1     -----------(1)\n",
      "#for plate 2\n",
      "#C2=Er1*E0*A2/d2   --------------(2)\n",
      "#dividing 1 and 2\n",
      "#we get\n",
      "#C1/C2=Er1*d2/(Er2*d1)\n",
      "#let C1/C2=c\n",
      "C=Er1*d2/(Er2*d1)  \n",
      "#so we get\n",
      "#C1=0.8*C2\n",
      "print \"The plastic film wil hold more charge\""
     ],
     "language": "python",
     "metadata": {},
     "outputs": [
      {
       "output_type": "stream",
       "stream": "stdout",
       "text": [
        "The plastic film wil hold more charge\n"
       ]
      }
     ],
     "prompt_number": 6
    },
    {
     "cell_type": "heading",
     "level": 2,
     "metadata": {},
     "source": [
      "example-20.7 page no-609"
     ]
    },
    {
     "cell_type": "code",
     "collapsed": false,
     "input": [
      "#given\n",
      "#thickness of BaTiO3 wafer\n",
      "t=0.15*10**-3  #m\n",
      "#compressive strength\n",
      "sigma=25*10**6  #N/m**2\n",
      "#young's modulus of elasticity\n",
      "Y=70*10**9  #N/m**2\n",
      "#electric field E produced by the stress sigma is related as\n",
      "#E=sigma*lambda  where lambda is constant known as voltage output coefficient\n",
      "lamda=1*10**-10  #m/V\n",
      "#and modulus of elasticity is gven by\n",
      "#Y=1/(lambda*t)\n",
      "#so we get from 1 and 2\n",
      "#E=sigma/(Y*t)\n",
      "#also E=V/t\n",
      "#so\n",
      "V=sigma*t/(lamda*Y)  #V\n",
      "print \"Potential difference producd across tha wafer is %0.3f V\"%(V)"
     ],
     "language": "python",
     "metadata": {},
     "outputs": [
      {
       "output_type": "stream",
       "stream": "stdout",
       "text": [
        "Potential difference producd across tha wafer is 535.714 V\n"
       ]
      }
     ],
     "prompt_number": 16
    },
    {
     "cell_type": "heading",
     "level": 2,
     "metadata": {},
     "source": [
      "example-20.8 page no-613"
     ]
    },
    {
     "cell_type": "code",
     "collapsed": false,
     "input": [
      "from math import sqrt\n",
      "#given\n",
      "#vibration frequency\n",
      "f=434*10**3 #Hz\n",
      "#young's modulus of elasticity\n",
      "E=80*10**9   #Pa\n",
      "#density\n",
      "rho=2655  #kg/m**3\n",
      "#and fundamental overtones may be 1,2,3.......\n",
      "#so\n",
      "n=1\n",
      "#we konow tha\n",
      "#f=n/(2*t)*sqrt(E/rho) wher t is the thickness of crystal\n",
      "#so\n",
      "t=n/(2*f)*sqrt(E/rho)*10**3  #mm\n",
      "print \" the thickness of crystal is %0.3f mm\"%(t)"
     ],
     "language": "python",
     "metadata": {},
     "outputs": [
      {
       "output_type": "stream",
       "stream": "stdout",
       "text": [
        " the thickness of crystal is 6.324 mm\n"
       ]
      }
     ],
     "prompt_number": 17
    },
    {
     "cell_type": "heading",
     "level": 2,
     "metadata": {},
     "source": [
      "example-20.9 page no-613"
     ]
    },
    {
     "cell_type": "code",
     "collapsed": false,
     "input": [
      "#given\n",
      "#capacitance of paper capacitance\n",
      "C=0.02*10**-6  #F\n",
      "#thickness of capacitor\n",
      "d=1*10**-3  #m\n",
      "#relative permitivity\n",
      "Er=2.6\n",
      "E0=8.85*10**-12\n",
      "#dielectric strength\n",
      "k=1.8*10**7   #V/m\n",
      "#area of capacitor is given by\n",
      "A=C*d/(Er*E0)*10**4  #cm**2\n",
      "#breakdown volatage\n",
      "Vbreakdown=k*d  #V\n",
      "print \"The area of capacitor is %0.3f am**2 \\n and breakdown volatage is %0.3f V\"%(A,Vbreakdown)"
     ],
     "language": "python",
     "metadata": {},
     "outputs": [
      {
       "output_type": "stream",
       "stream": "stdout",
       "text": [
        "The area of capacitor is 8691.873 am**2 \n",
        " and breakdown volatage is 18000.000 V\n"
       ]
      }
     ],
     "prompt_number": 19
    },
    {
     "cell_type": "heading",
     "level": 2,
     "metadata": {},
     "source": [
      "example-20.10 page no-614"
     ]
    },
    {
     "cell_type": "code",
     "collapsed": false,
     "input": [
      "#given\n",
      "#capacitance of capacitor\n",
      "C=0.2*10**-6  #F\n",
      "#loss factor\n",
      "#tan delta=0.004\n",
      "# for notation let us use tan delta=delta\n",
      "delta=0.004\n",
      "#voltage\n",
      "V=240  #V\n",
      "#frequency\n",
      "f=50  #Hz\n",
      "#and \n",
      "omega=2*(pi)*f\n",
      "#power loss is given by\n",
      "P=V**2*omega*C*delta  #W \n",
      "print \" power loss in the capacitor is %0.3f W\"%(P)"
     ],
     "language": "python",
     "metadata": {},
     "outputs": [
      {
       "output_type": "stream",
       "stream": "stdout",
       "text": [
        " power loss in the capacitor is 0.014 W\n"
       ]
      }
     ],
     "prompt_number": 20
    }
   ],
   "metadata": {}
  }
 ]
}