{
 "metadata": {
  "name": "",
  "signature": "sha256:8f783907d07720e4a586c63392d5e7f018b540c022c382705c66c64148aba8e2"
 },
 "nbformat": 3,
 "nbformat_minor": 0,
 "worksheets": [
  {
   "cells": [
    {
     "cell_type": "heading",
     "level": 1,
     "metadata": {},
     "source": [
      "Ch-17, Corrosion & Oxidation"
     ]
    },
    {
     "cell_type": "heading",
     "level": 2,
     "metadata": {},
     "source": [
      "example-17.1 page no-511"
     ]
    },
    {
     "cell_type": "code",
     "collapsed": false,
     "input": [
      "from __future__ import division\n",
      "#given\n",
      "#density of nickel and nickel oxide (NiO)\n",
      "rhom=8900  #kg/m**3\n",
      "rhoc=7080  #kg/m**3\n",
      "#molecular weight of nickel and nickel oxide\n",
      "Mm=58.51\n",
      "Mc=74.71\n",
      "#molar volumes are\n",
      "Vm=Mm/rhom  #m**3/mol\n",
      "Vc=Mc/rhoc  #m**3/mol\n",
      "if Vc>Vm:\n",
      "    print \" it is clear that Vc>Vm, so a protective film will form over nickel\"\n",
      "else :\n",
      "    print \" it is clear that Vc<Vm, so a protective film will not form over nickel\""
     ],
     "language": "python",
     "metadata": {},
     "outputs": [
      {
       "output_type": "stream",
       "stream": "stdout",
       "text": [
        " it is clear that Vc>Vm, so a protective film will form over nickel\n"
       ]
      }
     ],
     "prompt_number": 2
    },
    {
     "cell_type": "heading",
     "level": 2,
     "metadata": {},
     "source": [
      "example-17.2 page no-513"
     ]
    },
    {
     "cell_type": "code",
     "collapsed": false,
     "input": [
      "from math import sqrt\n",
      "#given\n",
      "#oxidation loss on the copper surface is 0.1 mm in 25 hours\n",
      "t1=25  #hours\n",
      "x1=0.1  #mm\n",
      "#to find the loss in 300 hours\n",
      "t2=300  #hours\n",
      "# as we know that oxidation loss is given by\n",
      "#x**2=Cp*t\n",
      "#for t1 and t2 we have following equations\n",
      "#x1**2=Cp*t1  -------(1)\n",
      "#x2**2=Cp*t2   -----------(2)\n",
      "#dividing equation 1 by 2\n",
      "#we get\n",
      "x2=x1*sqrt(t2/t1)   #mm\n",
      "print \"Loss in 300 hours is %0.3f mm\"%(x2)"
     ],
     "language": "python",
     "metadata": {},
     "outputs": [
      {
       "output_type": "stream",
       "stream": "stdout",
       "text": [
        "Loss in 300 hours is 0.346 mm\n"
       ]
      }
     ],
     "prompt_number": 7
    },
    {
     "cell_type": "heading",
     "level": 2,
     "metadata": {},
     "source": [
      "example-17.3 page no-515"
     ]
    },
    {
     "cell_type": "code",
     "collapsed": false,
     "input": [
      "#given\n",
      "#atomic weight  and density of magnesium\n",
      "MMg=24.3  #gm\n",
      "rhoMg=1.740  #g/cm**3\n",
      "#molecular weight and density of MgO\n",
      "MMgO=40.3  #gm\n",
      "rhoMgO=3.650  #g/cm**3\n",
      "#volume of Mg and Mgo\n",
      "VMg=MMg/rhoMg  #cm**3\n",
      "VMgO=MMgO/rhoMgO  #cm**3\n",
      "#we know that pilling-bedworth ratio is given by\n",
      "PBR=VMgO/VMg  \n",
      "if PBR<1:\n",
      "    print \"Since PBR is less than 1 so the film formed is not protective \"\n",
      "else:\n",
      "    print \"Since PBR is greater than 1 so the film formed is protective \""
     ],
     "language": "python",
     "metadata": {},
     "outputs": [
      {
       "output_type": "stream",
       "stream": "stdout",
       "text": [
        "Since PBR is less than 1 so the film formed is not protective \n"
       ]
      }
     ],
     "prompt_number": 4
    },
    {
     "cell_type": "heading",
     "level": 2,
     "metadata": {},
     "source": [
      "example-17.4 page no-526"
     ]
    },
    {
     "cell_type": "code",
     "collapsed": false,
     "input": [
      "#given\n",
      "#one mole of magnesium weighs\n",
      "MMg=0.0243  #Kg\n",
      "#current density\n",
      "I=20*10**-3   #A/m**2\n",
      "#design life of 15 years\n",
      "t=15*365*24*3600  #sec\n",
      "#charge= 2 faradya\n",
      "Q=2*96490  #C\n",
      "#charge needed per m**2 of structure's for design life\n",
      "q=I*t  #A s\n",
      "#the amount of magnesium needed\n",
      "AMg=MMg*q/Q  #kg/m**2\n",
      "print \"the amount of magnesiun meeded is %0.3f kg/m**2\"%(AMg)"
     ],
     "language": "python",
     "metadata": {},
     "outputs": [
      {
       "output_type": "stream",
       "stream": "stdout",
       "text": [
        "the amount of magnesiun meeded is 1.191 kg/m**2\n"
       ]
      }
     ],
     "prompt_number": 8
    }
   ],
   "metadata": {}
  }
 ]
}