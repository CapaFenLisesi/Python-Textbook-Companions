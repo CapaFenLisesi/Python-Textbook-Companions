{
 "metadata": {
  "name": "",
  "signature": "sha256:67f7218fdc52f5680eb92fd41ae852facfa629b4691b8574101a958a20b2627c"
 },
 "nbformat": 3,
 "nbformat_minor": 0,
 "worksheets": [
  {
   "cells": [
    {
     "cell_type": "heading",
     "level": 1,
     "metadata": {},
     "source": [
      "Ch-19, Semiconducting material property, behaviour & application"
     ]
    },
    {
     "cell_type": "heading",
     "level": 2,
     "metadata": {},
     "source": [
      "example-19.1 page no-561"
     ]
    },
    {
     "cell_type": "code",
     "collapsed": false,
     "input": [
      "from math import exp, log\n",
      "from __future__ import division\n",
      "#given\n",
      "pE=0.05\n",
      "#let E-Ef=EE\n",
      "EE=0.4  #eV\n",
      "k=8.614*10**-5\n",
      "#we know that\n",
      "#p(E)=1/exp((E-EF)/k/T)\n",
      "#putting above values in above equation we get\n",
      "T=EE/k/log(1/pE-1)  #K\n",
      "print \"\"\"The temperature at which there is a probability of 5 percent \n",
      "for an electron to occupy energy state which is 0.4 eV above the fermi level is %0.3f K\"\"\"%(T)"
     ],
     "language": "python",
     "metadata": {},
     "outputs": [
      {
       "output_type": "stream",
       "stream": "stdout",
       "text": [
        "The temperature at which there is a probability of 5 percent \n",
        "for an electron to occupy energy state which is 0.4 eV above the fermi level is 1577.076 K\n"
       ]
      }
     ],
     "prompt_number": 2
    },
    {
     "cell_type": "heading",
     "level": 2,
     "metadata": {},
     "source": [
      "example-19.2 page no-563"
     ]
    },
    {
     "cell_type": "code",
     "collapsed": false,
     "input": [
      "from __future__ import division\n",
      "#given\n",
      "#resistivity of pure silicon is \n",
      "rho= 3000  #ohm m\n",
      "#conductivity of pure silicon is reciproca of resistivity\n",
      "sigma=1/rho  #(ohm m)**-1\n",
      "#mobility of electrons and holes\n",
      "muh=0.05  #m**2/V s\n",
      "mue=0.14  #m**2/V s\n",
      "#charge on elctron\n",
      "e=1.602*10**-19  #C\n",
      "# we know that\n",
      "#sigme=ne*ee*mue+nh*eh*muh\n",
      "#here we have ne=nh=n and ee=eh=e\n",
      "#so we have sigma=n*e*muh+n*e*mue\n",
      "#so \n",
      "n=sigma/(e*muh+e*mue)  #ohm m**2/(C V s)\n",
      "print \" the density of intrensic carriers is %0.3e /m**3\"%(n)"
     ],
     "language": "python",
     "metadata": {},
     "outputs": [
      {
       "output_type": "stream",
       "stream": "stdout",
       "text": [
        " the density of intrensic carriers is 1.095e+16 /m**3\n"
       ]
      }
     ],
     "prompt_number": 3
    },
    {
     "cell_type": "heading",
     "level": 2,
     "metadata": {},
     "source": [
      "example-19.3 page no-563"
     ]
    },
    {
     "cell_type": "code",
     "collapsed": false,
     "input": [
      "#given\n",
      "#mobility of silicon\n",
      "mue=0.17  #m**2/V s\n",
      "#mobility of holes\n",
      "muh=0.035  #m**2/V s\n",
      "#carrier density\n",
      "n=1.1*10**16  #per m**3 (here ne=nh=n)\n",
      "#electronic charge\n",
      "e=1.602*10**-19  #C (here ee=eh)\n",
      "#as we know that\n",
      "#sigma=ne*ee*mue+nh*eh*muh\n",
      "#so we get\n",
      "sigma=n*e*(mue+muh)  #per ohm m\n",
      "#resistivity\n",
      "rho=1/sigma  #ohm m\n",
      "print \" the resistivity of silicon is %0.3f ohm m approx.\"%(rho)"
     ],
     "language": "python",
     "metadata": {},
     "outputs": [
      {
       "output_type": "stream",
       "stream": "stdout",
       "text": [
        " the resistivity of silicon is 2768.158 ohm m approx.\n"
       ]
      }
     ],
     "prompt_number": 4
    },
    {
     "cell_type": "heading",
     "level": 2,
     "metadata": {},
     "source": [
      "example-19.4 page no-565"
     ]
    },
    {
     "cell_type": "code",
     "collapsed": false,
     "input": [
      "#given\n",
      "#resistivity\n",
      "rho=2*10**-3  #ohm m\n",
      "#conductivity\n",
      "sigma=1/rho  #per ohm m\n",
      "#electrons and holes mobility\n",
      "mue=0.3  #m**2/V s\n",
      "muh=0.1  #m**2/V s\n",
      "#charge on holes and electrons are same so\n",
      "e=1.602*10**-19  #C\n",
      "#we know that\n",
      "#sigma=ne*e*mue+nh*e*muh\n",
      "#here ne=nh=n\n",
      "#so\n",
      "n=sigma/(e*(mue+muh))  #per m**3  (some approximation is done in book)\n",
      "print \"the carrier density is %0.3e per m**3\"%(n)"
     ],
     "language": "python",
     "metadata": {},
     "outputs": [
      {
       "output_type": "stream",
       "stream": "stdout",
       "text": [
        "the carrier density is 7.803e+21 per m**3\n"
       ]
      }
     ],
     "prompt_number": 5
    },
    {
     "cell_type": "heading",
     "level": 2,
     "metadata": {},
     "source": [
      "example-19.5 page no-566"
     ]
    },
    {
     "cell_type": "code",
     "collapsed": false,
     "input": [
      "#given\n",
      "#current density\n",
      "Id=1000  #A/m**2\n",
      "#resistivity\n",
      "rho=0.05  #ohm m\n",
      "#conductivity\n",
      "sigma=1/rho  #per ohm m\n",
      "#electron mobility\n",
      "mue=0.4  #m**2/V m\n",
      "#length of crystal\n",
      "l=100*10**-6  #m\n",
      "#charge on electron\n",
      "e=1.602*10**-19  #C\n",
      "#in n-type semiconductor ne>>>nh\n",
      "#so\n",
      "n=sigma/e/mue  #per m**3\n",
      "#also we know that\n",
      "#Ie=n*e*vd\n",
      "#so\n",
      "vd=Id/n/e  #m/s\n",
      "#the distance l travelled in time t at drift velocity vd, by an electron is given by\n",
      "#l=t*vd\n",
      "#so\n",
      "t=l/vd*10**6  #micro sec\n",
      "print \"the velocity and time taken by the electron to travel 100 m in the crystal is %d m/s and %d micro sec\"%(vd,t)"
     ],
     "language": "python",
     "metadata": {},
     "outputs": [
      {
       "output_type": "stream",
       "stream": "stdout",
       "text": [
        "the velocity and time taken by the electron to travel 100 m in the crystal is 20 m/s and 5 micro sec\n"
       ]
      }
     ],
     "prompt_number": 6
    },
    {
     "cell_type": "heading",
     "level": 2,
     "metadata": {},
     "source": [
      "example-19.6 page no-567"
     ]
    },
    {
     "cell_type": "code",
     "collapsed": false,
     "input": [
      "from math import pi\n",
      "#given\n",
      "#electronic charge\n",
      "e=1.602*10**-19  #C\n",
      "#lengthof rod\n",
      "l=10*10**-3  #m\n",
      "#diameter of rod \n",
      "d=1*10**-3  #m\n",
      "#area of cross section\n",
      "A=(pi)/4*d**2  #m**2\n",
      "#resistance of wire\n",
      "R=100  #ohm\n",
      "#mobility of holes \n",
      "muh=0.19  #m**2/V s\n",
      "#resistivity of wire\n",
      "rho=R*A/l  #ohm m\n",
      "#conductivity\n",
      "sigma=1/rho  #per ohm m\n",
      "#we know that i p-type semiconductore nh>>>ne and eh=e\n",
      "#so\n",
      "#sigma=nh*e*muh\n",
      "#so\n",
      "nh=sigma/e/muh  #per m**3\n",
      "print \"the impurity conc in the rod is %0.3e per m**3\"%(nh)"
     ],
     "language": "python",
     "metadata": {},
     "outputs": [
      {
       "output_type": "stream",
       "stream": "stdout",
       "text": [
        "the impurity conc in the rod is 4.183e+21 per m**3\n"
       ]
      }
     ],
     "prompt_number": 6
    },
    {
     "cell_type": "heading",
     "level": 2,
     "metadata": {},
     "source": [
      "example-19.7 page no 569"
     ]
    },
    {
     "cell_type": "code",
     "collapsed": false,
     "input": [
      "#given\n",
      "#hole density \n",
      "n=10**19  #per m**3\n",
      "#intrinsic carriers concentration\n",
      "ni=1.5*10**16  # per m**3\n",
      "#no of conduction electrons are given by\n",
      "p=(ni)**2/n  #per m**3\n",
      "print \"The no of intrinsic carrier are %0.3e per m**3\"%(p)"
     ],
     "language": "python",
     "metadata": {},
     "outputs": [
      {
       "output_type": "stream",
       "stream": "stdout",
       "text": [
        "The no of intrinsic carrier are 2.250e+13 per m**3\n"
       ]
      }
     ],
     "prompt_number": 7
    },
    {
     "cell_type": "heading",
     "level": 2,
     "metadata": {},
     "source": [
      "example-19.8 page no-569"
     ]
    },
    {
     "cell_type": "code",
     "collapsed": false,
     "input": [
      "#given\n",
      "#hole density in silicon\n",
      "ND=10**17  #per cm**3\n",
      "#intrinsic carrier concentretion\n",
      "ni=1.5*10**10  #per cm**3\n",
      "#since ND>>>> ni, so ne=ND\n",
      "ne=ND\n",
      "#the holes concentration\n",
      "nh=(ni)**2/ne  #per cm**3\n",
      "print \" the hole concentration is %.f per cm**3\"%(nh)\n",
      "#relative location of EF and Ei are found from\n",
      "#EF-Ei=k*Tlog (ne/ni)\n",
      "#let us assume for notation\n",
      "#EF-Ei=EE\n",
      "#temp\n",
      "T=300  #K\n",
      "k=8.614*10**-5  #eV\n",
      "#so now \n",
      "EE=k*T*log(ne/ni)  #eV\n",
      "print \" EF is located at %0.3f eV away from Ei, toeards Ec side as denoted in book\"%(EE)"
     ],
     "language": "python",
     "metadata": {},
     "outputs": [
      {
       "output_type": "stream",
       "stream": "stdout",
       "text": [
        " the hole concentration is 2250 per cm**3\n",
        " EF is located at 0.406 eV away from Ei, toeards Ec side as denoted in book\n"
       ]
      }
     ],
     "prompt_number": 14
    },
    {
     "cell_type": "heading",
     "level": 2,
     "metadata": {},
     "source": [
      "example-19.9 page no-582"
     ]
    },
    {
     "cell_type": "code",
     "collapsed": false,
     "input": [
      "#given\n",
      "#deimension of aluminium piece\n",
      "t=15*10**-3  #m (thickness)\n",
      "b=60*10**-3  #m (width)\n",
      "l=180*10**-3  #m (length)\n",
      "#magnetic field\n",
      "betaz=0.6  #T (tesla)\n",
      "#current\n",
      "I=25  #A\n",
      "#hole mobility\n",
      "sigmah=0.0012\n",
      "#electrical conductivity\n",
      "sigma=3.8*10**7  # per ohm m\n",
      "#part(a)\n",
      "#hall coefficient\n",
      "HC=sigmah/sigma  #Vm/AT\n",
      "#part(b)\n",
      "#hall voltage\n",
      "VAB=HC*I*betaz/t  #V\n",
      "#part(c)\n",
      "#resistance\n",
      "R=l/sigma/b/t  #ohm\n",
      "print \" the hall coefficient is %.12f Vm/AT\\n, hall voltage is %.9f V\\n and resistance is %.6f ohm\"%(HC,VAB,R)"
     ],
     "language": "python",
     "metadata": {},
     "outputs": [
      {
       "output_type": "stream",
       "stream": "stdout",
       "text": [
        " the hall coefficient is 0.000000000032 Vm/AT\n",
        ", hall voltage is 0.000000032 V\n",
        " and resistance is 0.000005 ohm\n"
       ]
      }
     ],
     "prompt_number": 12
    },
    {
     "cell_type": "heading",
     "level": 2,
     "metadata": {},
     "source": [
      "example-19.13 page no-583"
     ]
    },
    {
     "cell_type": "code",
     "collapsed": false,
     "input": [
      "#given\n",
      "#electron mobility\n",
      "mue=1.065*10**-3  #m**2/V s\n",
      "#relaxation time\n",
      "tau=6*10**-15  #s\n",
      "#charge on electron\n",
      "e=1.6*10**-19  #C\n",
      "#no of electrons\n",
      "n=1 \n",
      "#mass of electron\n",
      "me=9.1*10**-31  #kg\n",
      "#as we know that \n",
      "#mue=sigma*HC and sigma=n*e**2*tau/me\n",
      "#so \n",
      "#mue=n*e**2*tau*HC/me\n",
      "#from above equation we can get\n",
      "HC=mue*me/n/e**2/tau   #V m**3/A Wb  \n",
      "#condustivity\n",
      "sigma=mue/HC  #per ohm m   (calculation mistake in book)\n",
      "print \" the hall coefficient is %.2e V m**3/A Wb and conductivity is %.2e per ohm m\"%(HC,sigma)"
     ],
     "language": "python",
     "metadata": {},
     "outputs": [
      {
       "output_type": "stream",
       "stream": "stdout",
       "text": [
        " the hall coefficient is 6.31e+18 V m**3/A Wb and conductivity is 1.69e-22 per ohm m\n"
       ]
      }
     ],
     "prompt_number": 17
    },
    {
     "cell_type": "heading",
     "level": 2,
     "metadata": {},
     "source": [
      "example-19.14 page no-583"
     ]
    },
    {
     "cell_type": "code",
     "collapsed": false,
     "input": [
      "#given\n",
      "#electron mobility\n",
      "mue=1.065*10**-3   #m**2/Vs\n",
      "#relaxation time\n",
      "tau=6*10**-15  #sec\n",
      "#charge on an electron\n",
      "e=1.6*10**-19  #C\n",
      "#mass of electron\n",
      "me=9.1*10**-31  #Kg\n",
      "n=1\n",
      "#as we know that\n",
      "#mue=sigma*Hc and sigma=n*e**2*tau/me\n",
      "#so \n",
      "#mue=n*e**2*tau*Hc/me\n",
      "#upon rearrangement\n",
      "Hc=mue*me/n/e**2/tau   \n",
      "#and  \n",
      "sigma=mue/Hc   #(ohm m)**-1  #(ohm m)**-1  (calulation mistake is there in book)\n",
      "print \" the hall coefficent is %0.3e \\n and conductivity of Al sample is %0.3e (ohm m)**-1 \"%(Hc,sigma)"
     ],
     "language": "python",
     "metadata": {},
     "outputs": [
      {
       "output_type": "stream",
       "stream": "stdout",
       "text": [
        " the hall coefficent is 6.310e+18 \n",
        " and conductivity of Al sample is 1.688e-22 (ohm m)**-1 \n"
       ]
      }
     ],
     "prompt_number": 18
    },
    {
     "cell_type": "heading",
     "level": 2,
     "metadata": {},
     "source": [
      "example-19.15 page no-584"
     ]
    },
    {
     "cell_type": "code",
     "collapsed": false,
     "input": [
      "from math import atan\n",
      "#given\n",
      "#magnetic flux density\n",
      "betaz=0.5  #T or Wb/m**2\n",
      "#hall coefficient\n",
      "HC=3.66*10**-4  #m**3/C\n",
      "#resistivity of semiconductors \n",
      "rho=0.00893  #ohm m\n",
      "#hall angle\n",
      "thetaH=(atan(HC*betaz/rho))*180/(pi)   #degrees\n",
      "print \" the hall angle is %0.3f degrees\"%(thetaH)"
     ],
     "language": "python",
     "metadata": {},
     "outputs": [
      {
       "output_type": "stream",
       "stream": "stdout",
       "text": [
        " the hall angle is 1.174 degrees\n"
       ]
      }
     ],
     "prompt_number": 19
    },
    {
     "cell_type": "heading",
     "level": 2,
     "metadata": {},
     "source": [
      "example-19.18 page no-585"
     ]
    },
    {
     "cell_type": "code",
     "collapsed": false,
     "input": [
      "from math import sqrt\n",
      "#given\n",
      "#fermi velocity of electron\n",
      "VF=0.85*10**6  #m/s\n",
      "#rest mass of electron\n",
      "m0=9.109*10**-31  #kg\n",
      "#charge on an electron\n",
      "e=1.602*10**-19  #C\n",
      "#fermi energy is\n",
      "EF=1/2*m0*(VF)**2  # J\n",
      "#energy in eV\n",
      "E=EF/e #eV\n",
      "print \"the fermi energy value = %0.2f ev\"%E\n",
      "print \"it indicate that the metal is potassium\\n\"\n",
      "#speed of light\n",
      "c=3*10**8  #m/s\n",
      "#varying mass of electron can bee calculated as\n",
      "m=m0*sqrt(1-(VF/c)**2)  #kg\n",
      "#fermi energy \n",
      "EF=1/2*m*(VF)**2  #J\n",
      "#energy in eV\n",
      "E=EF/e  #eV\n",
      "print \"the fermi energy value = %0.2f ev\"%E\n",
      "print \"it indicate that the metal is potassium\\n\""
     ],
     "language": "python",
     "metadata": {},
     "outputs": [
      {
       "output_type": "stream",
       "stream": "stdout",
       "text": [
        "the fermi energy value = 2.05 ev\n",
        "it indicate that the metal is potassium\n",
        "\n",
        "the fermi energy value = 2.05 ev\n",
        "it indicate that the metal is potassium\n",
        "\n"
       ]
      }
     ],
     "prompt_number": 24
    },
    {
     "cell_type": "heading",
     "level": 2,
     "metadata": {},
     "source": [
      "example-19.19 page no-586"
     ]
    },
    {
     "cell_type": "code",
     "collapsed": false,
     "input": [
      "#given\n",
      "#wavelength of the edge of the absorption edge of a semiconductor material is \n",
      "lamda=1771*10**-9  #m\n",
      "#plank's constant\n",
      "h=6.626*10**-34\n",
      "#speed of light\n",
      "c=3*10**8  #m/s\n",
      "#band gap energy\n",
      "Eg=h*c/lamda  #J\n",
      "#charge on electron\n",
      "e=1.602*10**-19  #C\n",
      "#energy in eV\n",
      "E=Eg/e  #eV\n",
      "print \" the band gap energy is %0.3f eV\"%(E)"
     ],
     "language": "python",
     "metadata": {},
     "outputs": [
      {
       "output_type": "stream",
       "stream": "stdout",
       "text": [
        " the band gap energy is 0.701 eV\n"
       ]
      }
     ],
     "prompt_number": 28
    }
   ],
   "metadata": {}
  }
 ]
}