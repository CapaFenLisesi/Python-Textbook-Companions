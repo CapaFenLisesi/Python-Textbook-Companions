{
 "metadata": {
  "name": "",
  "signature": "sha256:b6e48af252b8eb0313570eb48f776c5f4fb174ec410de5193092e40aca119a0c"
 },
 "nbformat": 3,
 "nbformat_minor": 0,
 "worksheets": [
  {
   "cells": [
    {
     "cell_type": "heading",
     "level": 1,
     "metadata": {},
     "source": [
      "Ch-6, Crystal Imperfection"
     ]
    },
    {
     "cell_type": "heading",
     "level": 2,
     "metadata": {},
     "source": [
      "example-6.1 page no-169"
     ]
    },
    {
     "cell_type": "code",
     "collapsed": false,
     "input": [
      "from math import sqrt, exp\n",
      "#given\n",
      "#molecular weight of CaF2 (calcium fluoride)\n",
      "Mw=0.079  #kg/mol\n",
      "#specific gravity of CaF2\n",
      "sg=3.17\n",
      "#density\n",
      "rho=sg*1000  #kg/m**3\n",
      "#avogadro's number\n",
      "NA=6.023*10**23\n",
      "#the no of lattice sites is\n",
      "NL=NA*rho/Mw   #calcium ions/m**3\n",
      "#the ionic structure of CaF2\n",
      "NI=2*NL  # per m**3\n",
      "#we can note that the no of anions are double that of the no of cation vacancies for frenkel defect, so effective value of Ef =Ef/2 i.e half\n",
      "#effective energy\n",
      "Ef=2.7*1.602*10**-19   #V (because 1eV=1.602*10**-19 V)\n",
      "#boltzmann's constant\n",
      "k=1.38*10**-23\n",
      "T=1300 #K\n",
      "#no of frenkel defects nF per cubic metre ie\n",
      "nF=sqrt(NI*NI)*exp(-Ef/2/k/T)  # per m**3 (some variation in result is due to the approximation done in book at some points)\n",
      "print \"the number of frenkels defect per unit volume of CaF2 is  %0.2e per m**3 approx.\"%nF "
     ],
     "language": "python",
     "metadata": {},
     "outputs": [
      {
       "output_type": "stream",
       "stream": "stdout",
       "text": [
        "the number of frenkels defect per unit volume of CaF2 is  2.81e+23 per m**3 approx.\n"
       ]
      }
     ],
     "prompt_number": 1
    },
    {
     "cell_type": "heading",
     "level": 2,
     "metadata": {},
     "source": [
      "example-6.2 page no-171"
     ]
    },
    {
     "cell_type": "code",
     "collapsed": false,
     "input": [
      "from math import log\n",
      "#given\n",
      "#gas constant\n",
      "R=8.314  #J/mol K\n",
      "#temperatures\n",
      "T1=27+273  #K\n",
      "T2=52+273  #K\n",
      "#we know that\n",
      "#n=NA*exp(-Hf/R/T)\n",
      "#so for n1=NA*exp(-Hf/R/T1)\n",
      "#similarly for n2=NA*exp(-Hf/R/T2)\n",
      "#dividing n2 by n1\n",
      "#we have given in ques that dfects triple on incresing the temp from T1 to T2\n",
      "#so n2/n1=3\n",
      "#we get 3=exp(Hf/R*(1/T1-1/T2))\n",
      "#on solving we get\n",
      "Hf=log(3)*R*(T1*T2/(T2-T1))/1000   #KJ/mol\n",
      "print \"enthalpy of formation of vacancies is %0.2f kJ/mol\"%(Hf)"
     ],
     "language": "python",
     "metadata": {},
     "outputs": [
      {
       "output_type": "stream",
       "stream": "stdout",
       "text": [
        "enthalpy of formation of vacancies is 35.62 kJ/mol\n"
       ]
      }
     ],
     "prompt_number": 2
    },
    {
     "cell_type": "heading",
     "level": 2,
     "metadata": {},
     "source": [
      "example-6.3 page no-172"
     ]
    },
    {
     "cell_type": "code",
     "collapsed": false,
     "input": [
      "#given\n",
      "#gas constant\n",
      "R=8.314  #J/mol K\n",
      "#temperature\n",
      "T1=300  #K\n",
      "#enthalpy of formation of vacancy\n",
      "Hf=168*10**3  #J/mol\n",
      "#as we know that\n",
      "#n=NA*exp(-Hf/R/T)\n",
      "#let n/NA=N\n",
      "N1=exp(-Hf/R/T1)  \n",
      "#now temperature is\n",
      "T2=1000  #K\n",
      "N2=exp(-Hf/R/T2)\n",
      "# ratio of no of vacancies\n",
      "ratio=N1/N2  \n",
      "print \"the ratio of number of vacancies in equilibrium is %0.2e\"%(ratio)"
     ],
     "language": "python",
     "metadata": {},
     "outputs": [
      {
       "output_type": "stream",
       "stream": "stdout",
       "text": [
        "the ratio of number of vacancies in equilibrium is 3.34e-21\n"
       ]
      }
     ],
     "prompt_number": 3
    },
    {
     "cell_type": "heading",
     "level": 2,
     "metadata": {},
     "source": [
      "example-6.5 page no-180"
     ]
    },
    {
     "cell_type": "code",
     "collapsed": false,
     "input": [
      "from math import pi\n",
      "#given\n",
      "#shear modulus\n",
      "G=45*10**9   #N/m**2 because 1GPa=10**9 N/m**2\n",
      "#burge vector\n",
      "b=2.5*10**-9  #m\n",
      "#inner and outer radius of elastic strain\n",
      "r0=11*10**-10   #m\n",
      "r1=10**5*b  #m\n",
      "#poisson ratio\n",
      "nu=0.31\n",
      "#for an edge dislocation\n",
      "Ued=G*b**2/(4*(pi)*(1-nu))*log (r0/r1)  #J/m\n",
      "#for screw dislocation\n",
      "Usd=G*b**2/(4*(pi))*log (r0/r1)  #J/m\n",
      "#ratio of edge and screw dislocation\n",
      "ratio=Ued/Usd\n",
      "print \"tha ratios of energies of an edge dislocation over screw dislocation is %.2f\"%(ratio)"
     ],
     "language": "python",
     "metadata": {},
     "outputs": [
      {
       "output_type": "stream",
       "stream": "stdout",
       "text": [
        "tha ratios of energies of an edge dislocation over screw dislocation is 1.45\n"
       ]
      }
     ],
     "prompt_number": 4
    },
    {
     "cell_type": "heading",
     "level": 2,
     "metadata": {},
     "source": [
      "example-6.6 page no183"
     ]
    },
    {
     "cell_type": "code",
     "collapsed": false,
     "input": [
      "#given\n",
      "#atomic radius of polonium\n",
      "r=1.7*10**-10  #m\n",
      "#structure of polonium is simple cubic (SC) for which\n",
      "a=2*r  #m\n",
      "#number of atoms \"n\" involved with 1mm long dislocation\n",
      "n=10**-3/a  \n",
      "#the number steps ns of clinbs down for 2 micro m will be\n",
      "ns=2*10**-6/a\n",
      "#total no of created vacancies\n",
      "NV=n*ns\n",
      "print \"the total no of vacancies created are %0.2e\"%(NV)"
     ],
     "language": "python",
     "metadata": {},
     "outputs": [
      {
       "output_type": "stream",
       "stream": "stdout",
       "text": [
        "the total no of vacancies created are 1.73e+10\n"
       ]
      }
     ],
     "prompt_number": 5
    },
    {
     "cell_type": "heading",
     "level": 2,
     "metadata": {},
     "source": [
      "example-6.7 page no-186"
     ]
    },
    {
     "cell_type": "code",
     "collapsed": false,
     "input": [
      "from __future__ import division\n",
      "#given\n",
      "#burgers vector of copper is\n",
      "h=1/2\n",
      "k=1/2\n",
      "l=0/2\n",
      "#shear modulus of copper\n",
      "G=44*10**9  #N/m**2\n",
      "#latice parameter of copper\n",
      "a=3.61*10**-10  #m\n",
      "#magnitude of burgers vector\n",
      "b=a*sqrt(h**2+k**2+l**2)#m\n",
      "#the line energy of dislocation\n",
      "U=G*b**2/2  #J/m\n",
      "print \"the line energy of disloactation is %.2e J/m\"%(U)"
     ],
     "language": "python",
     "metadata": {},
     "outputs": [
      {
       "output_type": "stream",
       "stream": "stdout",
       "text": [
        "the line energy of disloactation is 1.43e-09 J/m\n"
       ]
      }
     ],
     "prompt_number": 6
    },
    {
     "cell_type": "heading",
     "level": 2,
     "metadata": {},
     "source": [
      "example-6.8 page no-188"
     ]
    },
    {
     "cell_type": "code",
     "collapsed": false,
     "input": [
      "from math import tan\n",
      "#given\n",
      "#lattice constant of Ir\n",
      "a=3.84  #A\n",
      "#burgers vector gfor FCC is 1/2(110)\n",
      "#so\n",
      "h=1/2\n",
      "k=1/2\n",
      "l=0/2\n",
      "#magnitude of burgers vector\n",
      "b=a*sqrt(h**2+k**2+l**2)  #A\n",
      "#angle of tilts\n",
      "theta1=1*(pi)/180  #radians\n",
      "theta2=3*(pi)/180  #radians\n",
      "#spacing between dislocation for theta1\n",
      "h1=b/tan(theta1)  #A\n",
      "#spacing between dislocations for theta2\n",
      "h2=b/tan(theta2)   #A\n",
      "print \"the spacinf between dislocations at 1 degree and 3 degrees are %0.2f A and %0.2f A resp\"%(h1,h2)"
     ],
     "language": "python",
     "metadata": {},
     "outputs": [
      {
       "output_type": "stream",
       "stream": "stdout",
       "text": [
        "the spacinf between dislocations at 1 degree and 3 degrees are 155.56 A and 51.81 A resp\n"
       ]
      }
     ],
     "prompt_number": 7
    }
   ],
   "metadata": {}
  }
 ]
}