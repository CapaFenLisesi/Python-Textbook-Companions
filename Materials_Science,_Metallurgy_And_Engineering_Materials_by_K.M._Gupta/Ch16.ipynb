{
 "metadata": {
  "name": "",
  "signature": "sha256:f92e9700573aa24c5004333de60aedbbc7f2ae80bd6c9e8b75276c45115c8416"
 },
 "nbformat": 3,
 "nbformat_minor": 0,
 "worksheets": [
  {
   "cells": [
    {
     "cell_type": "heading",
     "level": 1,
     "metadata": {},
     "source": [
      "Ch-16, Heat treatment"
     ]
    },
    {
     "cell_type": "heading",
     "level": 2,
     "metadata": {},
     "source": [
      "example-16.1 page no- 484"
     ]
    },
    {
     "cell_type": "code",
     "collapsed": false,
     "input": [
      "from __future__ import division\n",
      "from math import sqrt\n",
      "#given\n",
      "#atomic radiii of gamma-iron having FCC lattice\n",
      "rFCC=1.26  #A\n",
      "#atomic radius of alpha-iron having BCC lattica\n",
      "rBCC=1.24  #A\n",
      "#as we know that FCC and BCC has effective no of atoms 4 and 2 resp\n",
      "#so\n",
      "aBCC=4/sqrt(3)*rBCC  #A\n",
      "aFCC=2*sqrt(2)*rFCC  #A\n",
      "#volume of lattice for FCC and BCC\n",
      "VFCC=(aFCC)**3  #A**3\n",
      "VBCC=(aBCC)**3  #A**3\n",
      "#percentage change in volume during phase transformation of gamma-iron to alpha-iron is given by\n",
      "percent_vol_change=(VFCC/4-VBCC/2)/(VFCC/4)*100\n",
      "print \"the percentage volume change during phase transformation of gamma-iron to alpha-iron is %0.3f\"%(percent_vol_change)"
     ],
     "language": "python",
     "metadata": {},
     "outputs": [
      {
       "output_type": "stream",
       "stream": "stdout",
       "text": [
        "the percentage volume change during phase transformation of gamma-iron to alpha-iron is -3.764\n"
       ]
      }
     ],
     "prompt_number": 2
    },
    {
     "cell_type": "heading",
     "level": 2,
     "metadata": {},
     "source": [
      "example-16.3 page no-495"
     ]
    },
    {
     "cell_type": "code",
     "collapsed": false,
     "input": [
      "from __future__ import division\n",
      "#given\n",
      "#young's modulus \n",
      "E=51*10**9  #Pa\n",
      "#poisson's ratio\n",
      "nu=0.22\n",
      "#magnitude of burger's vector\n",
      "b=2*10**-10  #m\n",
      "#we know that shear modulus is given by\n",
      "G=E/2/(1-nu)  #Pa\n",
      "#elastic strain energy of dislocation in cold worked tin\n",
      "Ue=1/2*G*b**2*10**12  #Pa m\n",
      "#the strain energy in tin before cold working may be neglected as it is smaller by three orders of magnitude.\n",
      "print \" the change in energy during recrystallization is %0.3f Pa m\"%(Ue)"
     ],
     "language": "python",
     "metadata": {},
     "outputs": [
      {
       "output_type": "stream",
       "stream": "stdout",
       "text": [
        " the change in energy during recrystallization is 653.846 Pa m\n"
       ]
      }
     ],
     "prompt_number": 3
    }
   ],
   "metadata": {}
  }
 ]
}