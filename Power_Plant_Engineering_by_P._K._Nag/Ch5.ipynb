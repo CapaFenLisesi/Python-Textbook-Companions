{
 "cells": [
  {
   "cell_type": "markdown",
   "metadata": {},
   "source": [
    "# Chapter 5 : Combustion Mechanism, Combustion Equipment And Firing Methods"
   ]
  },
  {
   "cell_type": "markdown",
   "metadata": {},
   "source": [
    "## Ex 5.1 Page 308"
   ]
  },
  {
   "cell_type": "code",
   "execution_count": 1,
   "metadata": {
    "collapsed": false
   },
   "outputs": [
    {
     "name": "stdout",
     "output_type": "stream",
     "text": [
      " The total surface area of the particles in the bed As = 8423 m**2 \n"
     ]
    }
   ],
   "source": [
    "#Input data\n",
    "Vs=2500##The mass of a bed of solid particles in kg\n",
    "p=2650##The density of the solid in kg/m**3\n",
    "d=800*10**-6##The mean particle size in m\n",
    "s=0.84##The sphericity of the particle\n",
    "\n",
    "#Calculations\n",
    "As=(6*Vs)/(p*d*s)##The total surface area of the particles in the bed\n",
    "\n",
    "#Output\n",
    "print \" The total surface area of the particles in the bed As = %3.0f m**2 \"%(As)\n"
   ]
  },
  {
   "cell_type": "markdown",
   "metadata": {},
   "source": [
    "## Ex 5.2 Page 309"
   ]
  },
  {
   "cell_type": "code",
   "execution_count": 12,
   "metadata": {
    "collapsed": false
   },
   "outputs": [
    {
     "name": "stdout",
     "output_type": "stream",
     "text": [
      " (a) The voidage of the bed = 0.417 \n",
      " (b) The minimum fluidization velocity Umf = 0.187 m/s \n"
     ]
    }
   ],
   "source": [
    "#Input data\n",
    "d=427*10**-6##The mean particle size in m\n",
    "pg=1.21##The density of air in kg/m**3\n",
    "v=1.82*10**-5##The viscosity of air in kg/ms\n",
    "pl=1620##The density of the loosely packed bed in kg/m**3\n",
    "ps=2780##The density of the solids in kg/m**3\n",
    "c1=27.2##(Grace,1982)constant value.\n",
    "c2=0.0408##(Grace,1982)constant value\n",
    "g=9.812##Gravitational forc constant in m/s**2\n",
    "\n",
    "#Calculations\n",
    "E=1-(pl/ps)##The voidage of the bed\n",
    "Ar=((pg)*(ps-pg)*g*(d**3))/v**2##Archimedes number\n",
    "Re=(c1**2+(c2*Ar))**(0.5)-c1##Reynolds number\n",
    "Umf=Re*v/(pg*d)##Minimum superficial velocity in m/s\n",
    "\n",
    "#Output\n",
    "print \" (a) The voidage of the bed = %3.3f \\n (b) The minimum fluidization velocity Umf = %3.3f m/s \"%(E,Umf)"
   ]
  },
  {
   "cell_type": "markdown",
   "metadata": {},
   "source": [
    "## Ex 5.3 Page 309"
   ]
  },
  {
   "cell_type": "code",
   "execution_count": 25,
   "metadata": {
    "collapsed": false
   },
   "outputs": [
    {
     "name": "stdout",
     "output_type": "stream",
     "text": [
      "The sphericity of particles is = 0.811 \n"
     ]
    }
   ],
   "source": [
    "from scipy.optimize import fsolve\n",
    "#Input data\n",
    "d=427*10**-6##The mean particle size in m\n",
    "pg=1.21##The density of air in kg/m**3\n",
    "v=1.82*10**-5##The viscosity of air in kg/ms\n",
    "Umf=0.14##Minimum superficial velocity in m/s\n",
    "Ar=7753##Archimedes number from previous example problem\n",
    "\n",
    "#Calculations\n",
    "\n",
    "Re=(Umf*pg*d)/v##Reynolds number\n",
    "def F(x):##function definition\n",
    "    f = 7753*x**2- 381.1*x -4793#\n",
    "    return f\n",
    "x = 100##Initial guss\n",
    "y = fsolve(F,x)#\n",
    "\n",
    "#Output\n",
    "print \"The sphericity of particles is = %3.3f \"%(y)"
   ]
  },
  {
   "cell_type": "markdown",
   "metadata": {},
   "source": [
    "## Ex 5.4 Page 310"
   ]
  },
  {
   "cell_type": "code",
   "execution_count": 26,
   "metadata": {
    "collapsed": false
   },
   "outputs": [
    {
     "name": "stdout",
     "output_type": "stream",
     "text": [
      "The required flow rate of limestone is 2405.3 kg/h \n"
     ]
    }
   ],
   "source": [
    "from __future__ import division\n",
    "#Input data\n",
    "O=35##The output of the fluidized bed combustion system in MW\n",
    "n=0.80##Efficiency of the fluidized bed combustion system \n",
    "H=26##The heating value of coal in MJ/kg\n",
    "S=3.6##Sulphur content in the coal in %\n",
    "C=3##The calcium sulphur ratio \n",
    "Ca=85##The amount of calcium carbonate in the limestone in %\n",
    "CaCO3=100##The molecular weight of CaCO3\n",
    "\n",
    "#Calculations\n",
    "Cb=O/(n*H)##Coal burning rate in kg/s\n",
    "Cb1=Cb*3600##Coal burning rate in kg/h\n",
    "Sf=(Cb1*(S/100))/32##Flow rate of sulphur in Kmol/h\n",
    "Cf=Sf*C##The flow rate of calcium in Kmol/h\n",
    "Caf=Cf*CaCO3##Mass flow rate of CaCO3 in kg/h\n",
    "L=Caf/(Ca/100)##Mass flow rate of limestone in kg/h\n",
    "\n",
    "#Output\n",
    "print \"The required flow rate of limestone is %3.1f kg/h \"%(L)"
   ]
  },
  {
   "cell_type": "markdown",
   "metadata": {},
   "source": [
    "## Ex 5.5 Page 310"
   ]
  },
  {
   "cell_type": "code",
   "execution_count": 27,
   "metadata": {
    "collapsed": false
   },
   "outputs": [
    {
     "name": "stdout",
     "output_type": "stream",
     "text": [
      " (a) The rate of heat removal from the bed = 6405 kW \n",
      " (b) The rate of heat removal from the above bed zone = 16333 kW \n"
     ]
    }
   ],
   "source": [
    "#Input data\n",
    "CV=24##The calorific value of the fuel in MJ/kg\n",
    "C=0.65##The amount of calorific value released in the bed in %\n",
    "to=850##Temperature at which products leave in degree centigrade\n",
    "ti=30##The inlet temperature in degree centigrade\n",
    "tb=850##The bed temperature in degree centigrade\n",
    "A=14.5##The air fuel ratio by mass\n",
    "Cp=1.035##The specific heat of the products leaving the bed surface in kJ/kgK\n",
    "B=7000##The burning rate of coal in kg/h\n",
    "\n",
    "#Calculations\n",
    "H=(C*CV*1000)-(A*Cp*(to-ti))##Heat removal from the bed per kg fuel in kJ/kg fuel\n",
    "Hr=(H*B)/3600##Rate of heat removal from the bed in kW\n",
    "Hb=(B/3600)*(1-C)*CV*1000##The rate of heat removal from the above bed zone in kW\n",
    "\n",
    "#Output\n",
    "print \" (a) The rate of heat removal from the bed = %3.0f kW \\n (b) The rate of heat removal from the above bed zone = %3.0f kW \"%(Hr,Hb)"
   ]
  },
  {
   "cell_type": "markdown",
   "metadata": {},
   "source": [
    "## Ex 5.6 Page 311"
   ]
  },
  {
   "cell_type": "code",
   "execution_count": 28,
   "metadata": {
    "collapsed": false
   },
   "outputs": [
    {
     "name": "stdout",
     "output_type": "stream",
     "text": [
      " (a) The planform area = 2.4 m**2 \n",
      " (b) Fuel burning rate = 0.192 kg/s \n",
      "    Air flow rate = 2.1888 kg/s \n",
      "    Planform area = 2.58 m**2 \n"
     ]
    }
   ],
   "source": [
    "#Input data\n",
    "tb=850##The bed temperature in degree centigrade\n",
    "CV=25##The calorific value of the fuel in MJ/kg\n",
    "A=9.5##The stoichiometric air fuel ratio by mass\n",
    "E=20##The amount of excess air used in %\n",
    "F=4.8##The total fueling rate in MW\n",
    "p=0.3145##The density of air at bed temperature in kg/m**3\n",
    "f=2##The firing rate in MW/m**2\n",
    "v=2.7##The fluidizing velocity in m/s\n",
    "\n",
    "#Calculations\n",
    "P=F/f##Planform area in m**2\n",
    "m=(F*1000)/(CV*1000)##Fuel burning rate in kg/s\n",
    "ma=A*(1+(E/100))*m##Mass flow rate of air in kg/s\n",
    "Pa=ma/(p*v)##Planform area in m**2\n",
    "\n",
    "#Output\n",
    "print \" (a) The planform area = %3.1f m**2 \\n (b) Fuel burning rate = %3.3f kg/s \\n    Air flow rate = %3.4f kg/s \\n    Planform area = %3.2f m**2 \"%(P,m,ma,Pa)"
   ]
  }
 ],
 "metadata": {
  "kernelspec": {
   "display_name": "Python 2",
   "language": "python",
   "name": "python2"
  },
  "language_info": {
   "codemirror_mode": {
    "name": "ipython",
    "version": 2
   },
   "file_extension": ".py",
   "mimetype": "text/x-python",
   "name": "python",
   "nbconvert_exporter": "python",
   "pygments_lexer": "ipython2",
   "version": "2.7.9"
  }
 },
 "nbformat": 4,
 "nbformat_minor": 0
}
