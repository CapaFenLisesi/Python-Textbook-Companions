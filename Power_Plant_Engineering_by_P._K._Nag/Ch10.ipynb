{
 "cells": [
  {
   "cell_type": "markdown",
   "metadata": {},
   "source": [
    "# Chapter 10 : Hydroelecric power plant"
   ]
  },
  {
   "cell_type": "markdown",
   "metadata": {},
   "source": [
    "## Ex: 10.1 Pg: 709"
   ]
  },
  {
   "cell_type": "code",
   "execution_count": 51,
   "metadata": {
    "collapsed": false
   },
   "outputs": [
    {
     "name": "stdout",
     "output_type": "stream",
     "text": [
      " (a) the efficiency of the runner is 93.17 percent \n",
      " (b) the diameter of each jet is 0.1614 m\n"
     ]
    }
   ],
   "source": [
    "from math import sqrt,cos,pi\n",
    "from __future__ import division\n",
    "#Input data\n",
    "P=4000#Power in kW\n",
    "N=400#Speed in r.p.m\n",
    "h=200#Head in m\n",
    "e=90#Efficiency in percent\n",
    "d=1.5#Diameter in m\n",
    "vd=10#Percentage decrease in velocity\n",
    "a=165#Angle with which jet is deflected in degrees\n",
    "\n",
    "#Calculations\n",
    "V1=sqrt(2*9.81*h*(e/100))#Velocity in m/s\n",
    "Vb=(3.14*d*N)/60#Velocity in m/s\n",
    "nn=((2*(1-((e/100)*cos(pi/180*a)))*(V1-Vb)*Vb)/V1**2)*100#Efficiency in percent\n",
    "p=(P/(nn/100))#Power developed in kW\n",
    "pj=(p/2)#Power developed per jet in kW\n",
    "dx=sqrt((pj*8)/(3.14*V1**3))#Diameter of each jet in m\n",
    "\n",
    "#Output\n",
    "print \" (a) the efficiency of the runner is %3.2f percent \\n (b) the diameter of each jet is %3.4f m\"%(nn,dx)"
   ]
  },
  {
   "cell_type": "markdown",
   "metadata": {},
   "source": [
    "## Ex: 10.2 Pg: 710"
   ]
  },
  {
   "cell_type": "code",
   "execution_count": 3,
   "metadata": {
    "collapsed": false
   },
   "outputs": [
    {
     "name": "stdout",
     "output_type": "stream",
     "text": [
      " (a) the number of jets are  3 \n",
      " (b) diameter of each jet is 0.123 m \n",
      " (c) diameter of the wheel is 1.23 m \n",
      " (d) the quantity of water required is 2.4 m**3/s\n"
     ]
    }
   ],
   "source": [
    "from math import sqrt\n",
    "#Input data\n",
    "P=6000#Power in kW\n",
    "h=300#Net head availabe in m\n",
    "N=550#Speed in r.p.m\n",
    "rd=(1/10)#Ratio of jet diameter to wheel diameter\n",
    "nh=0.85#Hydraulic efficiency \n",
    "Cv=0.98#Coefficient of velocity\n",
    "f=0.46#Speed ratio\n",
    "d=1000#Density in kg/m**3\n",
    "\n",
    "#Calculations\n",
    "V1=Cv*sqrt(2*9.81*h)#Velocity in m/s\n",
    "Vb=f*sqrt(2*9.81*h)#Velocity in m/s\n",
    "Q=((P*10**3)/(nh*d*9.81*h))#Discharge in m**3/s\n",
    "D=((Vb*60)/(3.14*N))#Diameter in m\n",
    "d=(D/10)#Diameter of jet in m\n",
    "n=(Q/((V1*(3.14/4)*d**2)))#Number of jets\n",
    "\n",
    "#Output\n",
    "print \" (a) the number of jets are%3.0f \\n (b) diameter of each jet is %3.3f m \\n (c) diameter of the wheel is %3.2f m \\n (d) the quantity of water required is %3.1f m**3/s\"%(n,d,D,Q)"
   ]
  },
  {
   "cell_type": "markdown",
   "metadata": {},
   "source": [
    "## Ex: 10.3 Pg: 711"
   ]
  },
  {
   "cell_type": "code",
   "execution_count": 52,
   "metadata": {
    "collapsed": false
   },
   "outputs": [
    {
     "name": "stdout",
     "output_type": "stream",
     "text": [
      " Diameter of jet is 0.183 m \n",
      " Diameter of bucket wheel is 3.61 m\n"
     ]
    }
   ],
   "source": [
    "from math import sqrt\n",
    "from __future__ import division\n",
    "#Input data\n",
    "P=10#Capacity in MW\n",
    "h=500#Head in m\n",
    "Ns=10#Specific speed of the turbine\n",
    "on=80#Overall efficiency in percent\n",
    "Cv=0.98#Coefficient of velocity\n",
    "x=0.46#Speed of the bucket wheel to the velocity of jet\n",
    "da=1000#Density in kg/m**3\n",
    "\n",
    "#Calculations\n",
    "N=(Ns*h**(5/4))/sqrt(P*10**3)#Speed in r.p.m\n",
    "V=(Cv*sqrt(2*9.81*h))#Velocity in m/s\n",
    "Vb=(x*V)#Speed of bucket wheel in m/s\n",
    "D=((60*Vb)/(3.14*N))#Diameter in m\n",
    "d=sqrt((P*10**6)/((on/100)*(3.14/4)*da*V*9.81*h))#Diameter in m\n",
    "\n",
    "#Output\n",
    "print \" Diameter of jet is %3.3f m \\n Diameter of bucket wheel is %3.2f m\"%(d,D)"
   ]
  },
  {
   "cell_type": "markdown",
   "metadata": {},
   "source": [
    "## Ex: 10.4 Pg: 711"
   ]
  },
  {
   "cell_type": "code",
   "execution_count": 5,
   "metadata": {
    "collapsed": false
   },
   "outputs": [
    {
     "name": "stdout",
     "output_type": "stream",
     "text": [
      "The specific speed of a single jet Pelton wheel is about 202 (d/D) where d and D represent the jet and bucket wheel diameters respectively\n"
     ]
    }
   ],
   "source": [
    "from math import sqrt\n",
    "#Input data\n",
    "Cv=0.97#Coefficient of velocity\n",
    "f=0.45#Friction coefficient\n",
    "h=0.85#Head in m\n",
    "d=1000#Density in kg/m**3\n",
    "n=1#For a single jet turbine\n",
    "\n",
    "#Calculations\n",
    "Ns=((60/3.14)*(f*sqrt(2*9.8))*sqrt(n*(3.14/4)*Cv*sqrt(2*9.8)*9.8*h))#Specific speed in terms of d/D \n",
    "\n",
    "#Output\n",
    "print \"The specific speed of a single jet Pelton wheel is about %3.0f (d/D) where d and D represent the jet and bucket wheel diameters respectively\"%(Ns)"
   ]
  },
  {
   "cell_type": "markdown",
   "metadata": {},
   "source": [
    "## Ex: 10.5 Pg: 712"
   ]
  },
  {
   "cell_type": "code",
   "execution_count": 53,
   "metadata": {
    "collapsed": false
   },
   "outputs": [
    {
     "name": "stdout",
     "output_type": "stream",
     "text": [
      " Velocity of the jet for maximum efficiency is  90 m/s \n",
      " Power developed is 4050 kW \n",
      " Hydraulic efficiency is 98.3 percent\n"
     ]
    }
   ],
   "source": [
    "from math import cos,pi\n",
    "#Input data\n",
    "n=4#Number of jets\n",
    "d=60#Diameter of each jet in mm\n",
    "a=165#Angle in degrees\n",
    "v=45#Speed of the bucket wheel in m/s\n",
    "de=1000#Density in kg/m**3\n",
    "\n",
    "#Calculations\n",
    "v1=(2*v)#Jet velocity in m/s\n",
    "Q=(3.14/4)*(d/1000)**2*v1#Discharge in m**3/s\n",
    "P=(1-cos(pi/180*a))*(v1**2/4)*Q*de*10**-3#Power developed in kW\n",
    "P4=(P*4)#For four jets in kW\n",
    "nd=((1-cos(pi/180*a))/2)*100#Maximum efficiency in percent\n",
    "\n",
    "#Output\n",
    "print \" Velocity of the jet for maximum efficiency is %3.0f m/s \\n Power developed is %d kW \\n Hydraulic efficiency is %3.1f percent\"%(v1,P4,nd)"
   ]
  },
  {
   "cell_type": "markdown",
   "metadata": {},
   "source": [
    "## Ex: 10.6 Pg: 713"
   ]
  },
  {
   "cell_type": "code",
   "execution_count": 12,
   "metadata": {
    "collapsed": false
   },
   "outputs": [
    {
     "name": "stdout",
     "output_type": "stream",
     "text": [
      " Head on the wheel is 43.3 m \n",
      " The power generated by the turbine is 238 kW \n",
      " Eit angle of guide vanes is 173.29 degrees and Inlet blade angle is 33.7 degrees\n"
     ]
    }
   ],
   "source": [
    "from math import atan, degrees\n",
    "#Input data\n",
    "v=20#Peripheral velocity in m/s\n",
    "vw=17#Velocity of whirl in m/s\n",
    "vr=2#Radial velocity in m/s\n",
    "Q=0.7#Flow in m**3/s\n",
    "hn=80#Hydraulic efficiency in percent\n",
    "d=1000#Density in kg/m**3\n",
    "\n",
    "#Calculations\n",
    "H=((vw*v)/(9.81*(hn/100)))#Head on the wheel in m\n",
    "P=(d*Q*9.81*H*(hn/100)*10**-3)#Power generated in kW\n",
    "al=180-degrees(atan(vr/vw))#Angle of guide vanes in degrees\n",
    "bl=degrees(atan(vr/(v-vw)))#Inlet blade angle in degrees\n",
    "\n",
    "#Output\n",
    "print \" Head on the wheel is %3.1f m \\n The power generated by the turbine is %3.0f kW \\n Eit angle of guide vanes is %3.2f degrees and Inlet blade angle is %3.1f degrees\"%(H,P,al,bl)"
   ]
  },
  {
   "cell_type": "markdown",
   "metadata": {},
   "source": [
    "## Ex: 10.7 Pg: 714"
   ]
  },
  {
   "cell_type": "code",
   "execution_count": 54,
   "metadata": {
    "collapsed": false
   },
   "outputs": [
    {
     "name": "stdout",
     "output_type": "stream",
     "text": [
      " Inlet blade angle is  35 degrees  38 minutes \n",
      " Outlet blade angle is  17 degrees  16 minute\n"
     ]
    }
   ],
   "source": [
    "from math import atan,tan,pi,sqrt,degrees\n",
    "#Input data\n",
    "od=1.5#Outer diameter in m\n",
    "id=0.75#Inner diameter in m\n",
    "h=150#Head in m\n",
    "P=14000#Power in kW\n",
    "Ns=120#Specific speed \n",
    "vw2=0#Velocity in m/s\n",
    "a=(11+(20/60))#Angle in degrees\n",
    "hn=92#Hydraulic efficiency in percent\n",
    "\n",
    "#Calculations\n",
    "N=(Ns*h**(5/4))/sqrt(P)#Speed in rpm\n",
    "vb1=(3.14*od*N)/60#velocity in m/s\n",
    "vw1=(((hn/100)*9.81*h)/vb1)#velocity in m/s\n",
    "vf1=(tan(pi/180*a)*vw1)#Velocity in m/s\n",
    "vf2=vf1#Velocity in m/s\n",
    "b1=degrees(atan(vf1/(vb1-vw1)))#Angle in degrees\n",
    "b1x=(b1-int(b1))*60#For output\n",
    "vb2=(vb1/2)#Velocity in m/s\n",
    "b2=degrees(atan(vf1/(vb2-vw2)))#Angle in degrees\n",
    "b2x=(b2-int(b2))*60#For output\n",
    "\n",
    "#Output\n",
    "print \" Inlet blade angle is %3.0f degrees %3.0f minutes \\n Outlet blade angle is %3.0f degrees %3.0f minute\"%(b1,b1x,b2,b2x)"
   ]
  },
  {
   "cell_type": "markdown",
   "metadata": {},
   "source": [
    "## Ex: 10.8 Pg: 715"
   ]
  },
  {
   "cell_type": "code",
   "execution_count": 55,
   "metadata": {
    "collapsed": false
   },
   "outputs": [
    {
     "name": "stdout",
     "output_type": "stream",
     "text": [
      " (a)the guide vane angle is 13.3 degrees \n",
      " (b)the runner vane angle at inlet is 26.6 degrees and outlet is 41.72 degrees \n",
      " (c)the diametres of the runner at inlet is 0.5 metre and outlet is 0.25 metre\n",
      " (d)the width of the wheel at inlet is 0.05 metre\n"
     ]
    }
   ],
   "source": [
    "from math import sqrt,pi,atan,degrees\n",
    "#Input data\n",
    "h=70#net head in m\n",
    "N=700#speed in rpm\n",
    "o=85#over all efficiency in %\n",
    "P=350#shaft power in kW\n",
    "he=92#hydraulic efficiency in %\n",
    "fr=.22#flow ratio\n",
    "b=.1#breadth ratio\n",
    "s=2#outer diameter in terms of inner diametre\n",
    "#Calculations\n",
    "vf1=fr*sqrt(2*9.81*h)#velocity in m/s\n",
    "q=(P/(9.81*h*(o/100)))#discharge in m**3/s\n",
    "d1=sqrt(q/(.94*b*vf1*3.14))#diameter in metre\n",
    "b1=d1*b#breadth in metre\n",
    "d2=d1/2#diametre in metre\n",
    "vb1=(3.14*d1*N)/60#velocity in m/s\n",
    "vw1=((he/100)*9.81*h)/vb1#velcity in m/s\n",
    "a=degrees(atan(vf1/vw1))#angle in degrees\n",
    "bet=degrees(atan(vf1/(vw1-vb1)))#angle in degrees\n",
    "vb2=(d2/d1)*vb1#velocity in m/s\n",
    "bet2=degrees(atan(vf1/vb2))#angle in degrees\n",
    "\n",
    "#Output\n",
    "print \" (a)the guide vane angle is %3.1f degrees \\n (b)the runner vane angle at inlet is %3.1f degrees and outlet is %3.2f degrees \\n (c)the diametres of the runner at inlet is %3.1f metre and outlet is %3.2f metre\\n (d)the width of the wheel at inlet is %3.2f metre\"%(a,bet,bet2,d1,d2,b1)"
   ]
  },
  {
   "cell_type": "markdown",
   "metadata": {},
   "source": [
    "## Ex: 10.9 Pg: 717"
   ]
  },
  {
   "cell_type": "code",
   "execution_count": 20,
   "metadata": {
    "collapsed": false
   },
   "outputs": [
    {
     "name": "stdout",
     "output_type": "stream",
     "text": [
      " (a) the discharge of the turbine is 15.34 m**3/s \n",
      " (b) the jet diameter is 0.227 m \n",
      " (c) the nozzle tip diameter is 0.284 m \n",
      " (d) the pitch circle diameter of the wheel is 2.89 m \n",
      " (e) the specific speed is 69.04 \n",
      " (f) the number of buckets on the wheel are  22 \n",
      " (g) the workdone per kg of water on the wheel is 443.02 kg.m/kg \n",
      " (h) the hydraulic efficiency is  93 percent\n"
     ]
    }
   ],
   "source": [
    "from math import ceil,sqrt,cos,pi\n",
    "#Input data\n",
    "n=4#Number of units\n",
    "P=70000#Power in kVA\n",
    "f=50#Frequency in Hz\n",
    "p=10#No.of pair of poles\n",
    "h=505#Gross head in m\n",
    "tn=94#Transmission efficiency in percent\n",
    "po=260#Power in MW\n",
    "e=91#Efficiency in percent\n",
    "nn=0.98#Nozzle efficiency\n",
    "Cv=0.98#Coefficient of velocity\n",
    "x=0.48#Vb=0.48 V\n",
    "dd=25#Nozzle diameter is 25% bigger than jet diameter\n",
    "a=165#Angle of buckets in degrees\n",
    "de=99.75#Discharge efficiency in percent\n",
    "\n",
    "#Calculations\n",
    "N=(120*f)/(p*2)#Synchronous speed in r.p.m\n",
    "nh=((tn/100)*h)#Net head in m\n",
    "pt=(po*10**3)/n#Power developed per turbine in kW\n",
    "ip=(pt/(e/100))#Input water power in kW\n",
    "Q=(ip/(9.81*nh))#Discharge in m**3/s\n",
    "Qj=(Q/n)#Discharge per jet in m**3/s\n",
    "V1=Cv*sqrt(2*9.81*nh)#Velocity in m/s\n",
    "d=sqrt((4/3.14)*(Qj/V1))#Diameter of jet in m\n",
    "nd=(1+(dd/100))*d#Nozzle tip diameter in m\n",
    "Vb=(x*V1)#Velocity in m/s\n",
    "D=((Vb*60)/(3.14*N))#Pitch circle diameter of the wheel in m\n",
    "Ns=((N*sqrt(po*10**3))/nh**(5/4))#Specific speed\n",
    "jr=(D/d)#Jet ratio\n",
    "nob=(jr/2)+15#Number of buckets\n",
    "nobb=ceil(nob)#Rounding off to next integer\n",
    "W=((V1-Vb)*(1-(nn*cos(pi/180*a)))*Vb)/9.81#Workdone per kg in kg.m/kg\n",
    "nth=((W/nh)*de)#Hydraulic efficiency in percent\n",
    "\n",
    "#Output\n",
    "print \" (a) the discharge of the turbine is %3.2f m**3/s \\n (b) the jet diameter is %3.3f m \\n (c) the nozzle tip diameter is %3.3f m \\n (d) the pitch circle diameter of the wheel is %3.2f m \\n (e) the specific speed is %3.2f \\n (f) the number of buckets on the wheel are %3.0f \\n (g) the workdone per kg of water on the wheel is %3.2f kg.m/kg \\n (h) the hydraulic efficiency is %3.0f percent\"%(Q,d,nd,D,Ns,nobb,W,nth)"
   ]
  },
  {
   "cell_type": "markdown",
   "metadata": {},
   "source": [
    "## Ex: 10.10 Pg: 718"
   ]
  },
  {
   "cell_type": "code",
   "execution_count": 56,
   "metadata": {
    "collapsed": false
   },
   "outputs": [
    {
     "name": "stdout",
     "output_type": "stream",
     "text": [
      " Blade angle at inlet is  62 degrees \n",
      " Hydraulic efficiency is  81 percent\n"
     ]
    }
   ],
   "source": [
    "from math import sin,cos,degrees,atan,sqrt,pi\n",
    "#Input data\n",
    "gh=35#Gross head in m\n",
    "md=2#Mean diameter in m\n",
    "N=145#Speed in rpm\n",
    "a=30#Angle in degrees\n",
    "oa=28#Outlet angle in degrees\n",
    "x=7#Percentage of gross head lost\n",
    "y=8#Reduction in relative velocity in percent\n",
    "\n",
    "#Calculations\n",
    "H=((100-x)/100)*gh#Net haed in m\n",
    "V1=sqrt(2*9.81*H)#Velocity in m/s\n",
    "Vb=(3.14*md*N)/60#Velocity in m/s\n",
    "b1=degrees(atan((V1*sin(pi/180*a))/((V1*cos(pi/180*a))-Vb)))#Angle in degrees\n",
    "Vr1=((V1*sin(pi/180*a))/sin(pi/180*b1))#Velocity in m/s\n",
    "Vr2=((100-y)/100)*Vr1#Velocity in m/s\n",
    "Vw1=(V1*cos(pi/180*a))#Velocity in m/s\n",
    "Vw2=(Vb-(Vr2*cos(pi/180*oa)))#Velocity in m/s\n",
    "E=((Vb*(Vw1-Vw2))/9.81)#Workdone in kg.m/kg\n",
    "nb=(E/gh)*100#Hydraulic efficiency in percent\n",
    "\n",
    "#Output\n",
    "print \" Blade angle at inlet is %3.0f degrees \\n Hydraulic efficiency is %3.0f percent\"%(b1,nb)"
   ]
  },
  {
   "cell_type": "markdown",
   "metadata": {},
   "source": [
    "## Ex: 10.11 Pg: 719"
   ]
  },
  {
   "cell_type": "code",
   "execution_count": 26,
   "metadata": {
    "collapsed": false
   },
   "outputs": [
    {
     "name": "stdout",
     "output_type": "stream",
     "text": [
      " (a) the speed is 166.7 rpm \n",
      " (b) the diameter of the runner is 3.56 m \n",
      " (c) the specific speed is 746\n"
     ]
    }
   ],
   "source": [
    "from math import sqrt\n",
    "#Input data\n",
    "P=10000#Power in kW\n",
    "h=12#Head in m\n",
    "Nr=2#Speed ratio\n",
    "Fr=0.65#Flow ratio\n",
    "x=0.3#Diameter of hub is 0.3 times the eternal diameter of the vane \n",
    "on=94#Overall efficiency in percent\n",
    "\n",
    "#Calculations\n",
    "Q=(P/(9.81*h*(on/100)))#Discharge in m**3/s\n",
    "Vr1=(Fr*sqrt(2*9.81*h))#Velocity in m/s\n",
    "Ab=(Q/Vr1)#Area of flow in m**2\n",
    "D=sqrt(((Ab*4)/3.14)/(1-x**2))#Diameter of runner in m\n",
    "Vb=(Nr*sqrt(2*9.81*h))#Velocity in m/s\n",
    "N=((Vb*60)/(3.14*D))#Speed in rpm\n",
    "f=50#Taking frequency as 50 Hz\n",
    "p=(120*50)/N#Number of poles\n",
    "N1=(120*f)/int(p)#Speed in rpm\n",
    "Ns=(N1*sqrt(P))/h**(5/4)#Specific speed\n",
    "\n",
    "#Output\n",
    "print \" (a) the speed is %3.1f rpm \\n (b) the diameter of the runner is %3.2f m \\n (c) the specific speed is %3.0f\"%(N1,D,Ns)"
   ]
  },
  {
   "cell_type": "markdown",
   "metadata": {},
   "source": [
    "## Ex: 10.12 Pg: 721"
   ]
  },
  {
   "cell_type": "code",
   "execution_count": 29,
   "metadata": {
    "collapsed": false
   },
   "outputs": [
    {
     "name": "stdout",
     "output_type": "stream",
     "text": [
      " Specific speed is 241.5 \n",
      " Normal speed is 120.7 rpm \n",
      " Output under a head of 20 m is 7155 kW\n"
     ]
    }
   ],
   "source": [
    "from math import sqrt\n",
    "#Input data\n",
    "P=10000#Power in kW\n",
    "h=25#Head in m. In textbook it is given wrong as 2 m\n",
    "N=135#Speed in rpm\n",
    "h1=20#Head in m\n",
    "\n",
    "#Calculations\n",
    "Ns=((N*sqrt(P))/h**(5/4))#Specific speed\n",
    "N1=sqrt(h1/h)*N#Speed in rpm\n",
    "P2=P/(h/h1)**(3/2)#Power in kW\n",
    "\n",
    "#Output\n",
    "print \" Specific speed is %3.1f \\n Normal speed is %3.1f rpm \\n Output under a head of %d m is %3.0f kW\"%(Ns,N1,h1,P2)"
   ]
  },
  {
   "cell_type": "markdown",
   "metadata": {},
   "source": [
    "## Ex: 10.13 Pg: 721"
   ]
  },
  {
   "cell_type": "code",
   "execution_count": 32,
   "metadata": {
    "collapsed": false
   },
   "outputs": [
    {
     "name": "stdout",
     "output_type": "stream",
     "text": [
      "The number of turbines in \n",
      " (a) Francis turbine are  2 \n",
      " (b) Kaplan turbine are 4\n"
     ]
    }
   ],
   "source": [
    "from math import ceil\n",
    "#Input data\n",
    "Q=175#Discharge in m**3/s\n",
    "h=18#Head in meter\n",
    "N=150#Speed in rpm\n",
    "oe=82#Overall efficiency in percent\n",
    "Ns1=460#Maximum specific speed\n",
    "Ns2=350#Maximum specific speed\n",
    "d=1000#Density in kg/m**3\n",
    "\n",
    "#Calculations\n",
    "P=(d*Q*9.81*h*(oe/100)*10**-3)#power in kW\n",
    "P1=((Ns1*h**(5/4))/N)**2#Power in kW\n",
    "n1=P/P1#No.of turbains\n",
    "P2=((Ns2*h**(5/4))/N)**2#Power in kW\n",
    "n2=ceil(P/P2)#No.of turbains\n",
    "\n",
    "#Output\n",
    "print \"The number of turbines in \\n (a) Francis turbine are%3.0f \\n (b) Kaplan turbine are %d\"%(n1,n2)"
   ]
  },
  {
   "cell_type": "markdown",
   "metadata": {},
   "source": [
    "## Ex: 10.14 Pg: 722"
   ]
  },
  {
   "cell_type": "code",
   "execution_count": 34,
   "metadata": {
    "collapsed": false
   },
   "outputs": [
    {
     "name": "stdout",
     "output_type": "stream",
     "text": [
      " Speed is 285 rpm \n",
      " Power is 23.309 kW \n",
      " Scale ratio is 5.518 \n",
      " Flow through the turbine is 63.6 m**3/s\n"
     ]
    }
   ],
   "source": [
    "from math import sqrt\n",
    "#Input data\n",
    "Ns=210#Specific speed \n",
    "P=30#Power in MW\n",
    "N=180#Speed in rpm\n",
    "Q=0.6#Discharge in m**3/s\n",
    "h=4.5#Head in m\n",
    "e=88#Efficiency in percent\n",
    "d=1000#Density in kg/m**3\n",
    "\n",
    "#Calculations\n",
    "Pm=(d*Q*9.81*h*(e/100)*10**-3)#Power in kW\n",
    "Nm=(Ns*h**(5/4))/sqrt(Pm)#Speed in rpm\n",
    "Hp=((N*sqrt(P*1000))/Ns)**(4/5)#Head in m\n",
    "Dpm=(Nm/N)*sqrt(Hp/h)#Scale ratio\n",
    "Qp=(P*10**6)/(d*9.81*Hp*(e/100))#Discharge in m**3/s\n",
    "\n",
    "#Output\n",
    "print \" Speed is %3.0f rpm \\n Power is %3.3f kW \\n Scale ratio is %3.3f \\n Flow through the turbine is %3.1f m**3/s\"%(Nm,Pm,Dpm,Qp)"
   ]
  },
  {
   "cell_type": "markdown",
   "metadata": {},
   "source": [
    "## Ex: 10.15 Pg: 723"
   ]
  },
  {
   "cell_type": "code",
   "execution_count": 36,
   "metadata": {
    "collapsed": false
   },
   "outputs": [
    {
     "name": "stdout",
     "output_type": "stream",
     "text": [
      " Speed is 402 rpm \n",
      " Power is 11180 kW\n"
     ]
    }
   ],
   "source": [
    "from math import sqrt\n",
    "#Input data\n",
    "x=1/5#Scale model\n",
    "h=1.5#Head in m\n",
    "P=5#Power in kW\n",
    "N=450#Speed in rpm\n",
    "h1=30#Head in m\n",
    "\n",
    "#Calculations\n",
    "N1=(x*N)/sqrt(h/h1)#Speed in rpm\n",
    "Ns=(N*sqrt(P))/h**(5/4)#Specific speed\n",
    "P1=((Ns*h1**(5/4))/N1)**2#Power in kW\n",
    "\n",
    "#Output\n",
    "print \" Speed is %3.0f rpm \\n Power is %3.0f kW\"%(N1,P1)"
   ]
  },
  {
   "cell_type": "markdown",
   "metadata": {},
   "source": [
    "## Ex: 10.16 Pg: 723"
   ]
  },
  {
   "cell_type": "code",
   "execution_count": 38,
   "metadata": {
    "collapsed": false
   },
   "outputs": [
    {
     "name": "stdout",
     "output_type": "stream",
     "text": [
      " Speed of the turbine is 307.8 rpm \n",
      " Maximum flow rate is 1.5 m**3/s\n"
     ]
    }
   ],
   "source": [
    "from math import sqrt\n",
    "#Input data\n",
    "h=19#Head in m\n",
    "Q=3#Flow rate in m**3/s\n",
    "N=600#Speed in rpm\n",
    "h1=5#Head in m\n",
    "\n",
    "#Calculations\n",
    "N1=N/sqrt(h/h1)#Speed in rpm\n",
    "Q1=Q/sqrt(h/h1)#Discharge in m**3/s\n",
    "\n",
    "#Output\n",
    "print \" Speed of the turbine is %3.1f rpm \\n Maximum flow rate is %3.1f m**3/s\"%(N1,Q1)"
   ]
  },
  {
   "cell_type": "markdown",
   "metadata": {},
   "source": [
    "## Ex: 10.17 Pg: 724"
   ]
  },
  {
   "cell_type": "code",
   "execution_count": 39,
   "metadata": {
    "collapsed": false
   },
   "outputs": [
    {
     "name": "stdout",
     "output_type": "stream",
     "text": [
      "Least number of machines required if using \n",
      " (a) Francis turbines are  13 \n",
      " (b) Kaplan turbines are   2\n"
     ]
    }
   ],
   "source": [
    "from math import ceil\n",
    "#Input data\n",
    "Q=350#Discharge in m**3/s\n",
    "h=30#Head in m\n",
    "e=87#Turbine efficiency in percent\n",
    "f=50#Frequency in Hz\n",
    "p=24#Number of poles\n",
    "Ns1=300#Specific speed\n",
    "Ns2=820#Specific speed\n",
    "d=1000#Dnsity of water in kg/m**3\n",
    "\n",
    "#Calculations\n",
    "N=(120*f)/p#Speed in rpm\n",
    "P=d*Q*9.81*h*(e/100)*10**-3#Power in kW\n",
    "P1=((Ns1*h**(5/4))/N)**2#Power in kW\n",
    "n1=P/P1#No.of turbines\n",
    "P2=((Ns2*h**(5/4))/N)**2#Power in kW\n",
    "n2=ceil(P/P2)#No.of turbines\n",
    "\n",
    "#Output\n",
    "print \"Least number of machines required if using \\n (a) Francis turbines are %3.0f \\n (b) Kaplan turbines are %3.0f\"%(n1,n2)"
   ]
  },
  {
   "cell_type": "markdown",
   "metadata": {},
   "source": [
    "## Ex: 10.18 Pg: 725"
   ]
  },
  {
   "cell_type": "code",
   "execution_count": 41,
   "metadata": {
    "collapsed": false
   },
   "outputs": [
    {
     "name": "stdout",
     "output_type": "stream",
     "text": [
      " (a) Power developed is 2302 kW \n",
      " (b) As the available head is low, Kaplan turbines are suggested.\n",
      " Two turbines each of 3000kW capacity may be installed.\n"
     ]
    }
   ],
   "source": [
    "#Input data\n",
    "h=27#Head in m\n",
    "A=430#Area in sq.km\n",
    "R=150#Rainfall in cm/year\n",
    "pr=65#Percentage of rainfall utilised\n",
    "pe=95#Penstock efficiency in percent\n",
    "te=80#Turbine efficiency in percent\n",
    "ge=86#Generator efficiency in percent\n",
    "lf=0.45#Load factor\n",
    "d=1000#Density of water in kg/m**3\n",
    "\n",
    "#Calculations\n",
    "Q=A*10**6*(R/100)*(pr/100)#Discharge in m**3 per year\n",
    "Qs=(Q/(365*24*3600))#Quantity of water per second in m**3\n",
    "P=(pe/100)*(te/100)*(ge/100)*d*Qs*9.81*h*10**-3#Power in kW\n",
    "plc=(P/lf)#Peak load capacity in kW\n",
    "C=(plc/(2*(ge/100)))#Capacity of each unit in kW\n",
    "\n",
    "#Output\n",
    "print \" (a) Power developed is %3.0f kW \\n (b) As the available head is low, Kaplan turbines are suggested.\\n Two turbines each of 3000kW capacity may be installed.\"%(P)"
   ]
  },
  {
   "cell_type": "markdown",
   "metadata": {},
   "source": [
    "## Ex: 10.19 Pg: 725"
   ]
  },
  {
   "cell_type": "code",
   "execution_count": 50,
   "metadata": {
    "collapsed": false
   },
   "outputs": [
    {
     "data": {
      "image/png": "[encoded data removed]",
      "text/plain": [
       "<matplotlib.figure.Figure at 0x7f04b38d7a10>"
      ]
     },
     "metadata": {},
     "output_type": "display_data"
    },
    {
     "data": {
      "image/png": "[encoded data removed]",
      "text/plain": [
       "<matplotlib.figure.Figure at 0x7f04cd2ebed0>"
      ]
     },
     "metadata": {},
     "output_type": "display_data"
    },
    {
     "name": "stdout",
     "output_type": "stream",
     "text": [
      "Power developed is 13.79 MW\n"
     ]
    }
   ],
   "source": [
    "%matplotlib inline\n",
    "from matplotlib.pyplot import plot, subplot, title,show,xlabel,ylabel\n",
    "#Input data\n",
    "q=[0,30,25,20,0,10,50,80,100,110,65,45,30]#Mean discharge in millions of cu.m per month respectively\n",
    "h=90#Head in m\n",
    "n=86#Overall efficiency in percent\n",
    "\n",
    "#Calculations\n",
    "Qm=(q[(1)]+q[(2)]+q[(3)]+q[(4)]+q[(5)]+q[(6)]+q[(7)]+q[(8)]+q[(9)]+q[(10)]+q[(11)]+q[(12)])/12#Mean discharge in millions m**3/s\n",
    "Q=[0,30,30,25,25,20,20,0,0,10,10,50,50,80,80,100,100,110,110,65,65,45,45,30,30,0]#Discharge(million m**3/month) on y-axis\n",
    "y=[0,0,1,1,2,2,3,3,4,4,5,5,6,6,7,7,8,8,9,9,10,10,11,11,12,12]#Months on x-ais\n",
    "D=[0,110,100,90,80,70,60,50,40,30,25,20,10,0]#Discharge per month in million m**3\n",
    "pt=[0,8.3,16.7,25,25,25,33.3,41.7,50,66.7,75,83.3,91.7,100]#Percentage time \n",
    "Po=((Qm*10**6*9.81*h*(n/100))/(30*24*3600*1000))#Power developed in MW\n",
    "\n",
    "#Output\n",
    "#subplot(131)\n",
    "plot(y[1:],Q[1:])#Graph Discharge(million m**3/month) vs Month\n",
    "title(\"Discharge(million m**3/month) vs Month\")\n",
    "xlabel(\"Months\")\n",
    "ylabel(\"Discharge(million m**3/month)\")\n",
    "show()\n",
    "#subplot(133)\n",
    "plot(pt[1:],D[1:])#Graph percentage time vs Discharge(million m**3/month)\n",
    "title(\"percentage time vs Discharge(million m**3/month)\")\n",
    "xlabel(\"percentage time\")\n",
    "ylabel(\"Discharge(million m**3/month)\")\n",
    "show()\n",
    "print \"Power developed is %3.2f MW\"%(Po)\n"
   ]
  }
 ],
 "metadata": {
  "kernelspec": {
   "display_name": "Python 2",
   "language": "python",
   "name": "python2"
  },
  "language_info": {
   "codemirror_mode": {
    "name": "ipython",
    "version": 2
   },
   "file_extension": ".py",
   "mimetype": "text/x-python",
   "name": "python",
   "nbconvert_exporter": "python",
   "pygments_lexer": "ipython2",
   "version": "2.7.9"
  }
 },
 "nbformat": 4,
 "nbformat_minor": 0
}
