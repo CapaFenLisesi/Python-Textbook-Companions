{
 "cells": [
  {
   "cell_type": "markdown",
   "metadata": {},
   "source": [
    "# Chapter 1 : Introduction : Economics of Power Generation"
   ]
  },
  {
   "cell_type": "markdown",
   "metadata": {},
   "source": [
    "## Ex1.1 Page23"
   ]
  },
  {
   "cell_type": "code",
   "execution_count": 27,
   "metadata": {
    "collapsed": false
   },
   "outputs": [
    {
     "name": "stdout",
     "output_type": "stream",
     "text": [
      "(a)Load factor of the plant is 0.65\n",
      "(b)Load factor of a standby equipment of  30 capacity if it takes up all the loads above  70 MW is 0.75\n",
      "(c)Use factor is 0.75\n"
     ]
    },
    {
     "data": {
      "image/png": "[encoded data removed]",
      "text/plain": [
       "<matplotlib.figure.Figure at 0x7f5c10894090>"
      ]
     },
     "metadata": {},
     "output_type": "display_data"
    }
   ],
   "source": [
    "from __future__ import division\n",
    "%matplotlib inline\n",
    "from matplotlib.pyplot import plot, title, xlabel, ylabel, show\n",
    "#Input data\n",
    "C=30#Capacity in MW\n",
    "M=70#Loads are taken above 70 MW\n",
    "t1=[0,6]#Time range in hours\n",
    "t2=[6,10]#Time range in hours\n",
    "t3=[10,12]#Time range in hours\n",
    "t4=[12,16]#Time range in hours\n",
    "t5=[16,20]#Time range in hours\n",
    "t6=[20,22]#Time range in hours\n",
    "t7=[22,24]#Time range in hours\n",
    "L=[30,70,90,60,100,80,60]#Load in MW\n",
    "\n",
    "#Calculations\n",
    "E=((L[0]*(t1[1]-t1[0]))+(L[1]*(t2[1]-t2[0]))+(L[2]*(t3[1]-t3[0]))+(L[3]*(t4[1]-t4[0]))+(L[4]*(t5[1]-t5[0]))+(L[5]*(t6[1]-t6[0]))+(L[6]*(t7[1]-t7[0])))#Energy generated in MWh\n",
    "AL=(E/24)#Average load in MW\n",
    "PL=max(L[0],L[1],L[2],L[3],L[4],L[5],L[6])#Peak load in MW\n",
    "LF=(AL/PL)#Load factor of the plant\n",
    "E1=((L[2]-M)*(t3[1]-t3[0]))+((L[4]-M)*(t5[1]-t5[0]))+((L[5]-M)*(t6[1]-t6[0]))#Energy generated if the load above 70 MW is supplied by a standby unit of 30 MW capacity in MWh\n",
    "T=(t3[1]-t3[0])+(t5[1]-t5[0])+(t6[1]-t6[0])#Time during which the standby unit remains in operation in h\n",
    "AL1=(E1/T)#Average load in MW\n",
    "LF1=(AL1/C)#Load factor \n",
    "U=(E1/(C*T))#Use factor\n",
    "\n",
    "#Output\n",
    "t=[0,0,6,6,10,10,12,12,16,16,20,20,22,22,24,24]#Time for plotting load curve in hours\n",
    "l=[0,30,30,70,70,90,90,60,60,100,100,80,80,60,60,0]#Load for plotting load curve in MW\n",
    "plot(t,l)#Load curve taking Time in hours on X-axis and Load in MW on Y- axis\n",
    "title('Load Curve')\n",
    "xlabel('Time hours')\n",
    "ylabel('Load MW')\n",
    "print \"(a)Load factor of the plant is %3.2f\\n(b)Load factor of a standby equipment of %3.0f capacity if it takes up all the loads above %3.0f MW is %3.2f\\n(c)Use factor is %3.2f\"%(LF,C,M,LF1,U)"
   ]
  },
  {
   "cell_type": "markdown",
   "metadata": {},
   "source": [
    "## Ex1.2 Page25"
   ]
  },
  {
   "cell_type": "code",
   "execution_count": 9,
   "metadata": {
    "collapsed": false
   },
   "outputs": [
    {
     "name": "stdout",
     "output_type": "stream",
     "text": [
      "(a) The average load on the power plant is  30 MW \n",
      "(b) The energy supplied per year is 262.8 *10**6 kWh \n",
      "(c) Demand factor is 0.811 \n",
      "(d) Diversity factor is 1.233\n"
     ]
    }
   ],
   "source": [
    "from __future__ import division\n",
    "#Input data\n",
    "P=60#Peak load on power plant in MW\n",
    "L=[30,20,10,14]#Loads having maximum demands in MW\n",
    "C=80#Capacity of the power plant in MW\n",
    "A=0.5#Annual load factor\n",
    "Y=8760#Number of hours in a year of 365 days\n",
    "\n",
    "#Calculations\n",
    "AL=(P*A)#Average load in MW\n",
    "E=(AL*1000*Y)/10**6#Energy supplied per year in kWh*10**6\n",
    "DF=(P/(L[0]+L[1]+L[2]+L[3]))#Demand factor \n",
    "DIF=((L[0]+L[1]+L[2]+L[3])/P)#Diversity factor\n",
    "\n",
    "#Output\n",
    "print \"(a) The average load on the power plant is %3.0f MW \\n(b) The energy supplied per year is %3.1f *10**6 kWh \\n(c) Demand factor is %3.3f \\n(d) Diversity factor is %3.3f\"%(AL,E,DF,DIF)"
   ]
  },
  {
   "cell_type": "markdown",
   "metadata": {},
   "source": [
    "## Ex1.3 Page25"
   ]
  },
  {
   "cell_type": "code",
   "execution_count": 10,
   "metadata": {
    "collapsed": false
   },
   "outputs": [
    {
     "name": "stdout",
     "output_type": "stream",
     "text": [
      "(a) The annual revenue earned by the power plant is Rs 46.25 crore \n",
      "(b) Capacity factor is 0.457\n"
     ]
    }
   ],
   "source": [
    "#Input data\n",
    "C=210#Capacity of thermal power plant in MW\n",
    "P=160#Maximum load in MW\n",
    "L=0.6#Annual load factor \n",
    "m=1#Coal consumption per kWh of energy generated\n",
    "Rs=450#Cost of coal in Rs per tonne\n",
    "Y=8760#Number of hours in a year of 365 days\n",
    "\n",
    "#Calculations\n",
    "AL=(L*P)#Average load in MW\n",
    "E=(AL*Y)#Energy generated per year in MWh\n",
    "CL=(E*1000)#Coal required per year in kg\n",
    "CY=(E*Rs)#Cost of coal per year\n",
    "CE=CL#Cost of energy sold in Rs\n",
    "RY=(CE-CY)/10**7#Revenue earned by the power plant per year in Rs crore\n",
    "CF=(AL/C)#Capacity factor\n",
    "\n",
    "#Output\n",
    "print \"(a) The annual revenue earned by the power plant is Rs %3.2f crore \\n(b) Capacity factor is %3.3f\"%(RY,CF)"
   ]
  },
  {
   "cell_type": "markdown",
   "metadata": {},
   "source": [
    "## Ex1.4 Page 26"
   ]
  },
  {
   "cell_type": "code",
   "execution_count": 11,
   "metadata": {
    "collapsed": false
   },
   "outputs": [
    {
     "name": "stdout",
     "output_type": "stream",
     "text": [
      "(a) Annual energy production is 394.2 * 10**6 kWh \n",
      "(b) Reserve capacity over and above the peak load is  15 MW \n",
      "(c) The hours during which the plant is not in service per year is 674 hrs\n"
     ]
    }
   ],
   "source": [
    "#Input data\n",
    "L=0.75#Load factor\n",
    "C=0.60#Capacity factor\n",
    "U=0.65#Use factor\n",
    "M=60#Maximum power demand in MW\n",
    "Y=8760#Number of hours in a year of 365 days\n",
    "\n",
    "#Calculations\n",
    "A=(L*M)#Average load in MW\n",
    "P=((A*1000)*Y)/10**6#Annual energy production in kWh *10**6\n",
    "PC=(A/C)#Plant capacity in MW\n",
    "R=(PC-M)#Reserve capacity in MW\n",
    "HIO=(P*1000/(U*PC))#Hours in operation in hrs\n",
    "NH=(Y-HIO)#Hours not in service in a year in hrs\n",
    "\n",
    "#Output\n",
    "print \"(a) Annual energy production is %3.1f * 10**6 kWh \\n(b) Reserve capacity over and above the peak load is %3.0f MW \\n(c) The hours during which the plant is not in service per year is %3.0f hrs\"%(P,R,NH)"
   ]
  },
  {
   "cell_type": "markdown",
   "metadata": {},
   "source": [
    "## Ex1.5 Page26"
   ]
  },
  {
   "cell_type": "code",
   "execution_count": 12,
   "metadata": {
    "collapsed": false
   },
   "outputs": [
    {
     "name": "stdout",
     "output_type": "stream",
     "text": [
      "(i)Overall cost per kWh in Steam power plant is  91 paise \n",
      "(ii)Overall cost per kWh in Hydroelectric power plant is  67 paise \n",
      "(iii)Overall cost per kWh in Nuclear power plant is  99 paise\n"
     ]
    }
   ],
   "source": [
    "from __future__ import division\n",
    "#Input data\n",
    "Dd=500#Maximum demand in MW\n",
    "L=0.7#Load factor \n",
    "#1)Steam power plant 2)Hydroelectric power plant 3)Nuclear power plant\n",
    "CC=[0,3,4,5]#Capital cost per MW installed in Rs. crore\n",
    "I=[0,6,5,5]#Interest in percent\n",
    "D=[0,6,4,5]#Depreciation in percent\n",
    "OP=[0,30,5,15]#Operating cost (including fuel) per kWh\n",
    "TD=[0,2,3,2]#Transmission and distribution cost per kWh\n",
    "Y=8760#Number of hours in a year of 365 days\n",
    "\n",
    "#Calculations\n",
    "#1)Steam power plant\n",
    "CCX=(CC[(1)]*Dd*10**7)#Capital cost in Rs\n",
    "IX=((I[(1)]/100)*CCX)#Interest in Rs\n",
    "DX=((D[(1)]/100)*CCX)#Depreciation in Rs\n",
    "AFCX=IX+DX#Annual fixed cost in Rs\n",
    "EX=(L*Dd*1000*Y)#Energy generated per year in kWh\n",
    "RX=(OP[(1)]+TD[(1)])#Running cost/kWh in paise\n",
    "OX=((AFCX/EX)+(RX/100))*100#Overall cost/kWh in paise\n",
    "\n",
    "#2)Hydroelectric Power plant\n",
    "CCY=(CC[(2)]*Dd*10**7)#Capital cost in Rs\n",
    "IY=((I[(2)]/100)*CCY)#Interest in Rs\n",
    "DY=((D[(2)]/100)*CCY)#Depreciation in Rs\n",
    "AFCY=IY+DY#Annual fixed cost in Rs\n",
    "EY=(L*Dd*1000*Y)#Energy generated per year in kWh\n",
    "RY=(OP[(2)]+TD[(2)])#Running cost/kWh in paise\n",
    "OY=((AFCY/EY)+(RY/100))*100#Overall cost/kWh in paise\n",
    "\n",
    "#3)Nuclear power plant\n",
    "CCZ=(CC[(3)]*Dd*10**7)#Capital cost in Rs\n",
    "IZ=((I[(3)]/100)*CCZ)#Interest in Rs\n",
    "DZ=((D[(3)]/100)*CCZ)#Depreciation in Rs\n",
    "AFCZ=IZ+DZ#Annual fixed cost in Rs\n",
    "EZ=(L*Dd*1000*Y)#Energy generated per year in kWh\n",
    "RZ=(OP[(3)]+TD[(3)])#Running cost/kWh in paise\n",
    "OZ=((AFCZ/EZ)+(RZ/100))*100#Overall cost/kWh in paise\n",
    "\n",
    "#Output\n",
    "print \"(i)Overall cost per kWh in Steam power plant is %3.0f paise \\n(ii)Overall cost per kWh in Hydroelectric power plant is %3.0f paise \\n(iii)Overall cost per kWh in Nuclear power plant is %3.0f paise\"%(OX,OY,OZ)\n"
   ]
  },
  {
   "cell_type": "markdown",
   "metadata": {},
   "source": [
    "## Ex1.6 Page28"
   ]
  },
  {
   "cell_type": "code",
   "execution_count": 13,
   "metadata": {
    "collapsed": false
   },
   "outputs": [
    {
     "name": "stdout",
     "output_type": "stream",
     "text": [
      "(a) The cost of power generation per kWh is  70 paise \n",
      "(b) The reserve capacity is  21 MW\n"
     ]
    }
   ],
   "source": [
    "from __future__ import division\n",
    "#Input data\n",
    "C=210#Capacity in MW\n",
    "ID=12#Interest and depreciation in percent\n",
    "CC=18000#Capital cost/kW installed in Rs\n",
    "L=0.6#Annual load factor\n",
    "AC=0.54#Annual capacity factor\n",
    "RC=(200*10**6)#Annual running charges in Rs\n",
    "E=6#Energy consumed by power plant auxiliaries in percent\n",
    "Y=8760#Number of hours in a year of 365 days\n",
    "\n",
    "#Calculations\n",
    "MD=(C/L)*AC#Maximum demand in MW\n",
    "RSC=(C-MD)#Reserve Capacity in MW\n",
    "AL=(L*MD)#Average load in MW\n",
    "EP=(AL*1000*Y)#Energy produced per year in kWh\n",
    "NE=((100-E)/100)*EP#Net energy delivered in kWh\n",
    "AID=((ID/100)*CC*C*1000)#Annual interest and depreciation in Rs\n",
    "T=(AID+RC)#Total annual cost in Rs\n",
    "CP=(T/NE)*100#Cost of power generation in paise\n",
    "\n",
    "#Output\n",
    "print \"(a) The cost of power generation per kWh is %3.0f paise \\n(b) The reserve capacity is %3.0f MW\"%(CP,RSC)"
   ]
  },
  {
   "cell_type": "markdown",
   "metadata": {},
   "source": [
    "## Ex1.7 Page28"
   ]
  },
  {
   "cell_type": "code",
   "execution_count": 14,
   "metadata": {
    "collapsed": false
   },
   "outputs": [
    {
     "name": "stdout",
     "output_type": "stream",
     "text": [
      "(a)The economic loading of two units when the total load supplied by the power plants is 200 MW are 75.86 MW and 124.14 MW\n",
      "(b)The loss in fuel cost per hour if the load is equally shared by both units is Rs.42.24 per hour\n"
     ]
    }
   ],
   "source": [
    "from numpy import mat\n",
    "#Input data\n",
    "L=200#The total load supplied by the plants in MW\n",
    "#The incremental fuel costs for generating units a and b of power plant are given by\n",
    "#dFa/dPa=0.065Pa+25\n",
    "#dFb/dPb=0.08Pa+20\n",
    "\n",
    "#Calculations\n",
    "#Solving two equations\n",
    "#Pa+Pb=200\n",
    "#0.065Pa+25=0.08Pb+20\n",
    "A=mat([[1, 1],[0.065, -0.08]])#Coefficient matrix\n",
    "B=mat([[L],[(20-25)]])#Constant matrix\n",
    "X=(A**-1)*B#Variable matrix\n",
    "P=100#If load is shared equally then Pa=Pb=100MW\n",
    "a=(((0.065*P**2)/2)+(25*P))-(((0.065*X[0]**2)/2)+(25*X[0]))#increase in fuel cost for unit a in Rs. per hour\n",
    "b=(((0.08*P**2)/2)+(20*P))-(((0.08*X[1]**2)/2)+(20*X[1]))#increase in fuel cost for unit a in Rs. per hour\n",
    "x=a+b#Net increase in fuel cost due to departure from economic distribution of load in Rs. per hour\n",
    "\n",
    "#Output\n",
    "print \"(a)The economic loading of two units when the total load supplied by the power plants is 200 MW are %3.2f MW and %3.2f MW\\n(b)The loss in fuel cost per hour if the load is equally shared by both units is Rs.%3.2f per hour\"%(X[0],X[1],x)"
   ]
  },
  {
   "cell_type": "markdown",
   "metadata": {},
   "source": [
    "## Ex1.8 page29"
   ]
  },
  {
   "cell_type": "code",
   "execution_count": 16,
   "metadata": {
    "collapsed": false
   },
   "outputs": [
    {
     "name": "stdout",
     "output_type": "stream",
     "text": [
      " Cost of generation per kWh is  61 paise \n",
      " Saving in cost per kWh if the annual load factor is raised to 60 percent is  11 paise\n"
     ]
    }
   ],
   "source": [
    "from math import ceil\n",
    "#Input data\n",
    "C=200#Installed capacity of the plant in MW\n",
    "CC=400#Capital cost in Rs crores\n",
    "ID=12#Rate of interest and depreciation in percent\n",
    "AC=5#Annual cost of fuel, salaries and taxation in Rs. crores\n",
    "L=0.5#Load factor\n",
    "AL2=0.6#Raised Annual load\n",
    "Y=8760#Number of hours in a year of 365 days\n",
    "\n",
    "#Calculations\n",
    "AvL=(C*L)#Average Load in MW\n",
    "E=(AvL*1000*Y)#Energy generated per year in kWh\n",
    "IDC=((ID/100)*CC*10**7)#Interest and depreciation (fixed cost) in Rs\n",
    "T=(IDC+(AC*10**7))#Total annual cost in Rs\n",
    "CP1=(T/E)*100#Cost per kWh in paise\n",
    "AvL2=(C*AL2)#Average Load in MW\n",
    "E2=(AvL2*1000*Y)#Energy generated per year in kWh\n",
    "CP2=(T/E2)*100#Cost per kWh in paise\n",
    "S=((CP1)-(CP2))#Saving in cost per kWh in paise\n",
    "S1=ceil(S)#Rounding off to next higher integer\n",
    "\n",
    "#Output\n",
    "print \" Cost of generation per kWh is %3.0f paise \\n Saving in cost per kWh if the annual load factor is raised to 60 percent is %3.0f paise\"%(CP1,S1)"
   ]
  },
  {
   "cell_type": "markdown",
   "metadata": {},
   "source": [
    "## Ex1.9 Page30"
   ]
  },
  {
   "cell_type": "code",
   "execution_count": 17,
   "metadata": {
    "collapsed": false
   },
   "outputs": [
    {
     "name": "stdout",
     "output_type": "stream",
     "text": [
      "(a) Load factor is 0.875 \n",
      "(b) Capacity factor is 0.70\n"
     ]
    }
   ],
   "source": [
    "#Input data\n",
    "C=300#Capacity of power plant in MW\n",
    "MXD=240#Maximum demand in MW in a year\n",
    "MND=180#Minimum demand in MW in a year\n",
    "#Assuming the load duration curve shown in Figure E1.9 on page no 30 to be straight line\n",
    "Y=8760#Number of hours in a year of 365 days\n",
    "\n",
    "#Calculations\n",
    "E=((MND*Y)+0.5*(MXD-MND)*Y)*1000#Energy supplied per year in kWh\n",
    "AL=(E/Y)#Average load in kW\n",
    "L=((AL/1000)/MXD)#Load factor\n",
    "CF=((AL/1000)*Y)/(C*Y)#Capacity factor\n",
    "\n",
    "#Output\n",
    "print \"(a) Load factor is %3.3f \\n(b) Capacity factor is %3.2f\"%(L,CF)"
   ]
  },
  {
   "cell_type": "markdown",
   "metadata": {},
   "source": [
    "## Ex1.10 Page 31"
   ]
  },
  {
   "cell_type": "code",
   "execution_count": 21,
   "metadata": {
    "collapsed": false
   },
   "outputs": [
    {
     "name": "stdout",
     "output_type": "stream",
     "text": [
      "Revenue earned by the power plant = 3.679e+08 Rs./year\n"
     ]
    }
   ],
   "source": [
    "#Input data\n",
    "C=60#Capacity of power plant in MW\n",
    "MXD=50#Maximum demand in MW in a year\n",
    "L=60/100#Load factor\n",
    "cc = 1 # kg/unit (Coal consumption)\n",
    "c_cost = 600 # Rs/Tonne\n",
    "e_cost = 2 # Rs/kWh\n",
    "Y=8760#Number of hours in a year of 365 days\n",
    "\n",
    "#Calculations\n",
    "AL=(MXD*L)#Average load in MW\n",
    "E=AL*10**3*Y #Energy generated per year in kWh\n",
    "Coal = E*cc/10**3 # Tonnes (Coal required per year)\n",
    "CC = Coal*c_cost # rupees (Coal cost / year)\n",
    "CE = E*e_cost # Rs (Cost of energy sold)\n",
    "Rev = CE-CC\n",
    "#Output\n",
    "print \"Revenue earned by the power plant = %0.3e Rs./year\"%(Rev)"
   ]
  },
  {
   "cell_type": "markdown",
   "metadata": {},
   "source": [
    "## Ex1.11 Page31"
   ]
  },
  {
   "cell_type": "code",
   "execution_count": 18,
   "metadata": {
    "collapsed": false
   },
   "outputs": [
    {
     "data": {
      "image/png": "[encoded data removed]",
      "text/plain": [
       "<matplotlib.figure.Figure at 0x7f5c10894c50>"
      ]
     },
     "metadata": {},
     "output_type": "display_data"
    },
    {
     "data": {
      "image/png": "[encoded data removed]",
      "text/plain": [
       "<matplotlib.figure.Figure at 0x7f5bf6f06d50>"
      ]
     },
     "metadata": {},
     "output_type": "display_data"
    },
    {
     "name": "stdout",
     "output_type": "stream",
     "text": [
      "(c)Suitable generating units to supply the load are\n",
      "i)One unit of  30 MW will run for  24 hours\n",
      "ii)One unit of  30 MW will run for  18 hours\n",
      "iii)One unit of  30 MW will run for  10 hours\n",
      "iv)One unit of  10 MW will run for   4 hours\n",
      "\n",
      "(d)Load factor is 0.64\n",
      "\n",
      "(e)Capacity of the plant is 130 MW and Capacity factor is 0.494\n"
     ]
    }
   ],
   "source": [
    "%matplotlib inline\n",
    "from matplotlib.pyplot import plot,subplot,title,xlabel,ylabel,show\n",
    "#Input data\n",
    "t1x=[0,6]#Time range in hours\n",
    "t2x=[6,12]#Time range in hours\n",
    "t3=[12,14]#Time range in hours\n",
    "t4=[14,18]#Time range in hours\n",
    "t5=[18,24]#Time range in hours\n",
    "L=[30,90,60,100,50]#Load in MW\n",
    "\n",
    "#Calculations\n",
    "t1=[0,6,6,12,12,14,14,18,18,24,24]#Time in hours for Load curve\n",
    "L1=[30,30,90,90,60,60,100,100,50,50,0]#Load in MW for Load curve\n",
    "t2=[0,4,4,10,10,12,12,18,18,24,24]#Time in hours for Load duration curve\n",
    "L2=[100,100,90,90,60,60,50,50,30,30,24]#Load in MW for Load duration curve\n",
    "E=((L[0]*(t1x[1]-t1x[0]))+(L[1]*(t2x[1]-t2x[0]))+(L[2]*(t3[1]-t3[0]))+(L[3]*(t4[1]-t4[0]))+(L[4]*(t5[1]-t5[0])))#Energy generated in MWh\n",
    "AL=E/24#Average load in MW\n",
    "MD=max(L[0],L[1],L[2],L[3],L[4])#Maximum demand in MW\n",
    "LF=(AL/MD)#Load factor\n",
    "Lx=[30,10]#Loads for selecting suitable generating units in MW\n",
    "tx=[24,18,10,4]#Time for selecting suitable generating units in hrs\n",
    "PC=(Lx[0]*tx[3]+Lx[1]*1)#Plant capacity in MW\n",
    "CF=(E/(PC*24))#Capacity factor \n",
    "\n",
    "#Output\n",
    "plot(t1,L1)#Load curve taking Time in hrs on X- axis and Load in MW on Y- axis\n",
    "title('Load curve')\n",
    "xlabel('Time hrs')\n",
    "ylabel('Load MW')\n",
    "show()\n",
    "plot(t2,L2)#Load duration curve taking Time in hrs on X- axis and Load in MW on Y- axis\n",
    "title('Load duration curve')\n",
    "xlabel('Time hrs')\n",
    "ylabel('Load MW')\n",
    "show()\n",
    "print \"(c)Suitable generating units to supply the load are\\ni)One unit of %3.0f MW will run for %3.0f hours\\nii)One unit of %3.0f MW will run for %3.0f hours\\niii)One unit of %3.0f MW will run for %3.0f hours\\niv)One unit of %3.0f MW will run for %3.0f hours\\n\\n(d)Load factor is %3.2f\\n\\n(e)Capacity of the plant is %3.0f MW and Capacity factor is %3.3f\"%(Lx[0],tx[0],Lx[0],tx[1],Lx[0],tx[2],Lx[1],tx[3],LF,PC,CF)"
   ]
  },
  {
   "cell_type": "markdown",
   "metadata": {},
   "source": [
    "## Ex1.12 Page32"
   ]
  },
  {
   "cell_type": "code",
   "execution_count": 7,
   "metadata": {
    "collapsed": false
   },
   "outputs": [
    {
     "name": "stdout",
     "output_type": "stream",
     "text": [
      "Overall cost of energy per kWh for:\n",
      "(a)Domestic consumers is  70 paise\n",
      "(b)Industrial consumers is  36 paise\n",
      "(c)Street-lighting load is  51 paise\n"
     ]
    }
   ],
   "source": [
    "#Input data\n",
    "C=10#Capacity of generating unit in MW\n",
    "MD=[6,3.6,0.4]#Maximum demand for domestic consumers, industrial consumers and street-lighting load respectively in MW\n",
    "L=[0.2,0.5,0.3]#Load factor for domestic consumers, industrial consumers and street-lighting load respectively\n",
    "CC=10000#Capital cost of the plant per kW in Rs\n",
    "RC=3600000#Total rumming cost per year in Rs\n",
    "AID=10#Annual interest and depreciation on capital cost in percent\n",
    "Y=8760#Number of hours in a year of 365 days\n",
    "\n",
    "#Calculations\n",
    "E=((MD[0]*L[0])+(MD[1]*L[1])+(MD[2]*L[2]))*Y*1000#Energy supplied per year to all three consumers in kWh\n",
    "OC=(RC/E)#Operating charges per kWh in Rs\n",
    "CCP=(C*1000*CC)#capital cost of the plant in Rs\n",
    "FCY=((AID/100)*CCP)#Fixed charges per year in Rs\n",
    "FCkW=(FCY/CC)#Fixed charges per kW in Rs\n",
    "#a) For domestic consumers\n",
    "TC1=((FCkW*MD[0]*1000)+(OC*MD[0]*L[0]*Y*1000))#Total chrges in Rs\n",
    "OC1=(TC1/(MD[0]*L[0]*Y*1000))*100#Overall cost per kWh in paise\n",
    "#b)For industrial consumers\n",
    "TC2=((FCkW*MD[1]*1000)+(OC*MD[1])*L[1]*Y*1000)#Total chrges in Rs\n",
    "OC2=(TC2/(MD[1]*L[1]*Y*1000))*100#Overall cost per kWh in paise\n",
    "#c) For street-lighting load\n",
    "TC3=((FCkW*MD[2]*1000)+(OC*MD[2])*L[2]*Y*1000)#Total chrges in Rs\n",
    "OC3=(TC3/(MD[2]*L[2]*Y*1000))*100#Overall cost per kWh in paise\n",
    "\n",
    "#Output\n",
    "print \"Overall cost of energy per kWh for:\\n(a)Domestic consumers is %3.0f paise\\n(b)Industrial consumers is %3.0f paise\\n(c)Street-lighting load is %3.0f paise\"%(OC1,OC2,OC3)"
   ]
  },
  {
   "cell_type": "markdown",
   "metadata": {},
   "source": [
    "## Ex1.13 Page32"
   ]
  },
  {
   "cell_type": "code",
   "execution_count": 20,
   "metadata": {
    "collapsed": false
   },
   "outputs": [
    {
     "name": "stdout",
     "output_type": "stream",
     "text": [
      "The amount of money to be saved annually is Rs.961317/-\n"
     ]
    }
   ],
   "source": [
    "#Input data\n",
    "CC=(80*10**6)#Capital cost in Rs\n",
    "L=30#Useful life in years\n",
    "S=5#Salvage value of the capital cost in percent\n",
    "i=0.06#Yearly rate of compound interest\n",
    "\n",
    "#Calculations\n",
    "A=((100-S)/100)*CC#Difference of capital cost and salvage value in Rs\n",
    "P=((A*i)/((1+i)**L-1))#The amount of money to be saved annually in Rs\n",
    "\n",
    "#Output\n",
    "print \"The amount of money to be saved annually is Rs.%3.0f/-\"%(P)"
   ]
  },
  {
   "cell_type": "markdown",
   "metadata": {},
   "source": [
    "## Ex1.14 Page34"
   ]
  },
  {
   "cell_type": "code",
   "execution_count": 22,
   "metadata": {
    "collapsed": false
   },
   "outputs": [
    {
     "name": "stdout",
     "output_type": "stream",
     "text": [
      "Present worth of the payments at the time of commissioning is Rs.5994.39 crores\n"
     ]
    }
   ],
   "source": [
    "#Input data\n",
    "i=4000#Initial investment in Rs crore\n",
    "Y=4#Period in years\n",
    "A=1200#Amount added in Rs crore\n",
    "B=400#Amount paid from 5th year onwards to the 12th year in Rs crore\n",
    "a=5#5th year\n",
    "b=12#12th year\n",
    "y=30#Period in years\n",
    "C=600#Salvage value in Rs crore\n",
    "I=0.1#Interest rate \n",
    "\n",
    "#Calculations\n",
    "X=(1/(1+I))#X value for calculations\n",
    "PW=(i+(A*X**Y)+((B/I)*X**b*((I+1)**b-1))-((B/I)*X**a*((I+1)**a-1))-(C*X**y))#Present worth of the payments at the time of commissioning in Rs. crores\n",
    "\n",
    "#Output\n",
    "print \"Present worth of the payments at the time of commissioning is Rs.%3.2f crores\"%(PW)"
   ]
  },
  {
   "cell_type": "markdown",
   "metadata": {},
   "source": [
    "## Ex1.15 Page 35"
   ]
  },
  {
   "cell_type": "code",
   "execution_count": 25,
   "metadata": {
    "collapsed": false
   },
   "outputs": [
    {
     "name": "stdout",
     "output_type": "stream",
     "text": [
      "Incremental heat transfer rate at which the combined output of the two units is 1000 MW is IR = (IR)P = (IR)Q = 9293 kJ/kWh\n"
     ]
    }
   ],
   "source": [
    "#Input data\n",
    "O=1000#Combined output of two units in MW\n",
    "#Two coal generating units P and Q have the incremental heat rate defined by\n",
    "#(IR)P=0.4818*10**-7.LP**4 - 0.9089*10**-4.LP**3 + 0.6842*10**-1.LP**2 - 0.2106*10.LP + 9860\n",
    "#(IR)R=0.9592*10**-7.LQ**4 - 0.7811*10**-4.LQ**3 + 0.2625*10**-1.LQ**2 - 0.2189*10.LQ + 9003\n",
    "\n",
    "#Calculations\n",
    "#LP+LQ=1000\n",
    "#By making (IR)P=(IR)Q and solving the above three equations by a numerical methos such as Newton-Raphson algorithm, we get \n",
    "LP=732.5#Heat rate in MW\n",
    "LQ=(O-LP)#Heat rate in MW\n",
    "IR=0.4818*10**-7*LP**4 - 0.9089*10**-4*LP**3 + 0.6842*10**-1*LP**2 - 0.2106*100*LP + 9860\n",
    "IR1=0.9592*10**-7*LQ**4 - 0.7811*10**-4*LQ**3 + 0.2625*10**-1*LQ**2 - 0.2189*10*LQ + 9003\n",
    "\n",
    "#Output\n",
    "print \"Incremental heat transfer rate at which the combined output of the two units is %3.0f MW is IR = (IR)P = (IR)Q = %d kJ/kWh\"%(O,IR)"
   ]
  },
  {
   "cell_type": "markdown",
   "metadata": {},
   "source": [
    "## Ex1.16 Page 36"
   ]
  },
  {
   "cell_type": "code",
   "execution_count": 26,
   "metadata": {
    "collapsed": false
   },
   "outputs": [
    {
     "name": "stdout",
     "output_type": "stream",
     "text": [
      "==============================================================================\n",
      "Load      Energy produced    Fixed cost   Fuel and       Total cost     Cost per\n",
      "factor    in 1hr with        per hr      operating cost    per hr        kWh\n",
      "(percent) 1kW plant(kWh)    (paise)        (paise)        (paise)        (paise)\n",
      "==============================================================================\n",
      "100            1                31             40             71           71\n",
      " 75          0.75               31             30             61           81\n",
      " 50          0.50               31             20             51          102\n",
      " 25          0.25               31             10             41          163\n",
      "==============================================================================\n"
     ]
    }
   ],
   "source": [
    "#Input data\n",
    "F=2700#Fixed cost of the thermal station per kW of installed capacity per year in Rs,\n",
    "FO=40#Fuel and operating costs per kWh generated in paise\n",
    "L=[100,75,50,25]#Load factors\n",
    "Y=8760#Number of hours in a year of 365 days\n",
    "\n",
    "#Calculations\n",
    "FC=(F/Y)*100#Fixed costs per kW per hour in paise\n",
    "E1=(L[0]/100)#Energy produced in 1 hr with 1 kW plant in kWh\n",
    "FOC1=(E1*FO)#Fuel and operating cost in paise\n",
    "TC1=(FC+FOC1)#Total cost per hr in paise\n",
    "C1=(TC1/E1)#Cost per kWh in paise\n",
    "E2=(L[1]/100)#Energy produced in 1 hr with 1 kW plant in kWh\n",
    "FOC2=(E2*FO)#Fuel and operating cost in paise\n",
    "TC2=(FC+FOC2)#Total cost per hr in paise\n",
    "C2=(TC2/E2)#Cost per kWh in paise\n",
    "E3=(L[2]/100)#Energy produced in 1 hr with 1 kW plant in kWh\n",
    "FOC3=(E3*FO)#Fuel and operating cost in paise\n",
    "TC3=(FC+FOC3)#Total cost per hr in paise\n",
    "C3=(TC3/E3)#Cost per kWh in paise\n",
    "E4=(L[3]/100)#Energy produced in 1 hr with 1 kW plant in kWh\n",
    "FOC4=(E4*FO)#Fuel and operating cost in paise\n",
    "TC4=(FC+FOC4)#Total cost per hr in paise\n",
    "C4=(TC4/E4)#Cost per kWh in paise\n",
    "\n",
    "#Output\n",
    "print \"==============================================================================\\nLoad      Energy produced    Fixed cost   Fuel and       Total cost     Cost per\\nfactor    in 1hr with        per hr      operating cost    per hr        kWh\\n(percent) 1kW plant(kWh)    (paise)        (paise)        (paise)        (paise)\\n==============================================================================\\n%3.0f          %3.0f               %3.0f            %3.0f            %3.0f          %3.0f\\n%3.0f          %3.2f              %3.0f            %3.0f            %3.0f          %3.0f\\n%3.0f          %3.2f              %3.0f            %3.0f            %3.0f          %3.0f\\n%3.0f          %3.2f              %3.0f            %3.0f            %3.0f          %3.0f\\n==============================================================================\"%(L[0],E1,FC,FOC1,TC1,C1,L[1],E2,FC,FOC2,TC2,C2,L[2],E3,FC,FOC3,TC3,C3,L[3],E4,FC,FOC4,TC4,C4)"
   ]
  }
 ],
 "metadata": {
  "kernelspec": {
   "display_name": "Python 2",
   "language": "python",
   "name": "python2"
  },
  "language_info": {
   "codemirror_mode": {
    "name": "ipython",
    "version": 2
   },
   "file_extension": ".py",
   "mimetype": "text/x-python",
   "name": "python",
   "nbconvert_exporter": "python",
   "pygments_lexer": "ipython2",
   "version": "2.7.9"
  }
 },
 "nbformat": 4,
 "nbformat_minor": 0
}
