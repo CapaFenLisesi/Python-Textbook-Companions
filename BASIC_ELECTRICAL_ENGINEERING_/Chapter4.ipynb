{
 "metadata": {
  "name": ""
 },
 "nbformat": 3,
 "nbformat_minor": 0,
 "worksheets": [
  {
   "cells": [
    {
     "cell_type": "heading",
     "level": 1,
     "metadata": {},
     "source": [
      "Chapter 4: NETWORK THEOREMS"
     ]
    },
    {
     "cell_type": "heading",
     "level": 2,
     "metadata": {},
     "source": [
      "Example 4.1,Page number: 105"
     ]
    },
    {
     "cell_type": "code",
     "collapsed": false,
     "input": [
      "#Question:\n",
      "\"\"\"Finding the current I in the circuit using superposition theorem.\"\"\"\n",
      "\n",
      "#Calculations:\n",
      "I1=-0.5*(0.3/(0.1+0.3))\n",
      "I2=80e-03/(0.1+0.3)\n",
      "I=I1+I2\n",
      "\n",
      "\n",
      "#Result:\n",
      "print \"The current I in the circuit is %.3f A.\" %(I)"
     ],
     "language": "python",
     "metadata": {},
     "outputs": [
      {
       "output_type": "stream",
       "stream": "stdout",
       "text": [
        "The current I in the circuit is -0.175 A.\n"
       ]
      }
     ],
     "prompt_number": 1
    },
    {
     "cell_type": "heading",
     "level": 2,
     "metadata": {},
     "source": [
      "Example 4.2,Page number: 106"
     ]
    },
    {
     "cell_type": "code",
     "collapsed": false,
     "input": [
      "#Question:\n",
      "\"\"\"Finding current I_x in the network using superposition theorem.\"\"\"\n",
      "\n",
      "#Calculations:\n",
      "I1=10.0/(50+150)\n",
      "I2=40*(150.0/(50+150))\n",
      "I3=-120*(50.0/(150+50))\n",
      "Ix=I1+I2+I3\n",
      "\n",
      "\n",
      "#Result:\n",
      "print \"The current Ix determined using superposition principle is %.2f A.\" %(Ix)"
     ],
     "language": "python",
     "metadata": {},
     "outputs": [
      {
       "output_type": "stream",
       "stream": "stdout",
       "text": [
        "The current Ix determined using superposition principle is 0.05 A.\n"
       ]
      }
     ],
     "prompt_number": 2
    },
    {
     "cell_type": "heading",
     "level": 2,
     "metadata": {},
     "source": [
      "Example 4.3,Page number: 106"
     ]
    },
    {
     "cell_type": "code",
     "collapsed": false,
     "input": [
      "#Question:\n",
      "\"\"\"Finding the voltage across resistor by applying the principle of superposition.\"\"\"\n",
      "\n",
      "#Calculations:\n",
      "i=4.0*(1.0/(1.0+(2+3)))\n",
      "R=3.0\n",
      "v_4=i*R\n",
      "v_5=(-5*(1.0/(1+(2+3))))*R\n",
      "v_6=6.0*(3.0/(1+2+3))\n",
      "v=+v_4+v_5+v_6\n",
      "\n",
      "\n",
      "#Result:\n",
      "print \"The total voltage(v) across the 3 ohm resistor is %.2f V.\" %(v)"
     ],
     "language": "python",
     "metadata": {},
     "outputs": [
      {
       "output_type": "stream",
       "stream": "stdout",
       "text": [
        "The total voltage(v) across the 3 ohm resistor is 2.50 V.\n"
       ]
      }
     ],
     "prompt_number": 3
    },
    {
     "cell_type": "heading",
     "level": 2,
     "metadata": {},
     "source": [
      "Example 4.4,Page number: 108 "
     ]
    },
    {
     "cell_type": "code",
     "collapsed": false,
     "input": [
      "#Question:\n",
      "\"\"\"Finding the value of I_s to reduce the voltage across the 4-ohm resistor to zero. \"\"\"\n",
      "\n",
      "#Variable Declaration:\n",
      "V_source=10.0         #Voltage of the source(in Volts) \n",
      "\n",
      "\n",
      "#Calculations:\n",
      "I1=V_source/(2+4+6)\n",
      "\n",
      "\"\"\" I2(from top to bottom in the 4 ohm resistor) = -Is*((2+6)/(2+6+4)) = -(2/3)*Is ;\n",
      "    \n",
      "    The voltage across the 4 ohm resistor can be zero,only if the current through this resistor is zero.  \n",
      "    \n",
      "     I1+I2=0; \"\"\"\n",
      "\n",
      "Is=I1*(3.0/2)\n",
      "\n",
      "\n",
      "#Result:\n",
      "print \"The current Is to reduce the voltage across the 4 ohm resistor to zero is %.2f A.\" %(Is) "
     ],
     "language": "python",
     "metadata": {},
     "outputs": [
      {
       "output_type": "stream",
       "stream": "stdout",
       "text": [
        "The current Is to reduce the voltage across the 4 ohm resistor to zero is 1.25 A.\n"
       ]
      }
     ],
     "prompt_number": 4
    },
    {
     "cell_type": "heading",
     "level": 2,
     "metadata": {},
     "source": [
      "Example 4.5,Page number: 110"
     ]
    },
    {
     "cell_type": "code",
     "collapsed": false,
     "input": [
      "#Question: \n",
      "\"\"\"Finding the voltage across the load resistor using Thevenin's theorem.\"\"\"\n",
      "\n",
      "#Calculations:\n",
      "I1=(50.0-10.0)/(10+10+20)\n",
      "I2=1.5*(10.0/(10.0+(10+20)))\n",
      "I=I1+I2\n",
      "V_Th=I*20\n",
      "R_Th=1.0/((1.0/20)+(1.0/(10+10)))\n",
      "R_L=5.0\n",
      "V_L=V_Th*(R_L/(R_L+R_Th))\n",
      "\n",
      "\n",
      "#Result:\n",
      "print \"The voltage across the load resistor R_L is %.2f V.\" %(V_L)"
     ],
     "language": "python",
     "metadata": {},
     "outputs": [
      {
       "output_type": "stream",
       "stream": "stdout",
       "text": [
        "The voltage across the load resistor R_L is 9.17 V.\n"
       ]
      }
     ],
     "prompt_number": 5
    },
    {
     "cell_type": "heading",
     "level": 2,
     "metadata": {},
     "source": [
      "Example 4.6,Page number: 111"
     ]
    },
    {
     "cell_type": "code",
     "collapsed": false,
     "input": [
      "#Question:\n",
      "\"\"\"Finding the voltage across the resistor by applying Thevenin's theorem.\"\"\"\n",
      "\n",
      "#Calculations:\n",
      "V_Th=5.0*1.0\n",
      "R_Th=3.0\n",
      "R_L=3.0\n",
      "V_L=V_Th*(R_L/(R_L+R_Th))\n",
      "\n",
      "\n",
      "#Result:\n",
      "print \"The voltage across the resistor by applying Thevenin's Theorem is %.2f V.\" %(V_L)"
     ],
     "language": "python",
     "metadata": {},
     "outputs": [
      {
       "output_type": "stream",
       "stream": "stdout",
       "text": [
        "The voltage across the resistor by applying Thevenin's Theorem is 2.50 V.\n"
       ]
      }
     ],
     "prompt_number": 6
    },
    {
     "cell_type": "heading",
     "level": 2,
     "metadata": {},
     "source": [
      "Example 4.7,Page number: 113"
     ]
    },
    {
     "cell_type": "code",
     "collapsed": false,
     "input": [
      "#Question:\n",
      "\"\"\"Finding Norton's equivalent circuit with respect to terminals AB.\"\"\"\n",
      "\n",
      "#Calculations:\n",
      "I1=10.0/5\n",
      "I2=5.0/10\n",
      "I_N=I1+I2\n",
      "R_N=1.0/((1.0/5)+(1.0/10))\n",
      "I_L=I_N*((10.0/3)/((10.0/3)+5))\n",
      "\n",
      "\n",
      "#Result:\n",
      "print \"When terminals AB are shorted, the current I_N is %.2f A.\" %(I_N)\n",
      "print \"The value of current that would flow through a load resistor of 5 ohm if it were connected across terminals AB is %.2f A.\" %(I_L)  "
     ],
     "language": "python",
     "metadata": {},
     "outputs": [
      {
       "output_type": "stream",
       "stream": "stdout",
       "text": [
        "When terminals AB are shorted, the current I_N is 2.50 A.\n",
        "The value of current that would flow through a load resistor of 5 ohm if it were connected across terminals AB is 1.00 A.\n"
       ]
      }
     ],
     "prompt_number": 7
    },
    {
     "cell_type": "heading",
     "level": 2,
     "metadata": {},
     "source": [
      "Example 4.8,Page number: 114 "
     ]
    },
    {
     "cell_type": "code",
     "collapsed": false,
     "input": [
      "#Question:\n",
      "\"\"\"Finding the available power from the battery.\"\"\"\n",
      "\n",
      "#Variable Declaration:\n",
      "Voc=12.6              #Open-circuit voltage(in Volts)\n",
      "Isc=300.0             #Short-circuit voltage(in Volts)\n",
      "\n",
      "\n",
      "#Calculations:\n",
      "Ro=Voc/Isc\n",
      "P_avl=(Voc*Voc)/(4*Ro)\n",
      "\n",
      "\n",
      "#Result:\n",
      "print \"The available power from the battery is %.2f W.\" %(P_avl)"
     ],
     "language": "python",
     "metadata": {},
     "outputs": [
      {
       "output_type": "stream",
       "stream": "stdout",
       "text": [
        "The available power from the battery is 945.00 W.\n"
       ]
      }
     ],
     "prompt_number": 8
    },
    {
     "cell_type": "heading",
     "level": 2,
     "metadata": {},
     "source": [
      "Example 4.9,Page number: 115 "
     ]
    },
    {
     "cell_type": "code",
     "collapsed": false,
     "input": [
      "#Question:\n",
      "\"\"\"Finding the available power from the battery.\"\"\"\n",
      "\n",
      "#Variable Declaration:\n",
      "no_of_cells=8         #Number of dry cells in the battery\n",
      "emf=1.5               #EMF of each cell(in Volts)\n",
      "int_res=0.75          #Internal resistanceof each cell(in Ohms)\n",
      "\n",
      "\n",
      "#Calculations:\n",
      "Voc=no_of_cells*emf\n",
      "Ro=no_of_cells*int_res\n",
      "P_avl=(Voc*Voc)/(4.0*Ro)\n",
      "\n",
      "\n",
      "#Result:\n",
      "print \"The available power from the battery is %.2f W.\" %(P_avl)"
     ],
     "language": "python",
     "metadata": {},
     "outputs": [
      {
       "output_type": "stream",
       "stream": "stdout",
       "text": [
        "The available power from the battery is 6.00 W.\n"
       ]
      }
     ],
     "prompt_number": 9
    },
    {
     "cell_type": "heading",
     "level": 2,
     "metadata": {},
     "source": [
      "Example 4.10,Page number: 115 "
     ]
    },
    {
     "cell_type": "code",
     "collapsed": false,
     "input": [
      "#Question:\n",
      "\"\"\"Plotting a curve showing the variation of the output power Po with the load resistance R_L.\"\"\"\n",
      "\n",
      "from math import sqrt\n",
      "\n",
      "#Variable Declaration:\n",
      "P=25.0                #Power to be delivered to the speaker(in Watts)\n",
      "Ro=8.0                #Resistance of the speaker(in Ohms)\n",
      "\n",
      "\n",
      "#Calculations:\n",
      "V_Th=sqrt(P*4*Ro)\n",
      "Vo=V_Th/2.0\n",
      "R_Th=Ro\n",
      "R_L=0.0\n",
      "P1=(V_Th*V_Th*R_L)/((R_Th+R_L)*(R_Th+R_L))\n",
      "R_L=2.0\n",
      "P2=(V_Th*V_Th*R_L)/((R_Th+R_L)*(R_Th+R_L))\n",
      "R_L=4.0\n",
      "P3=(V_Th*V_Th*R_L)/((R_Th+R_L)*(R_Th+R_L))\n",
      "R_L=6.0\n",
      "P4=(V_Th*V_Th*R_L)/((R_Th+R_L)*(R_Th+R_L))\n",
      "R_L=8.0\n",
      "P5=(V_Th*V_Th*R_L)/((R_Th+R_L)*(R_Th+R_L))\n",
      "R_L=16.0\n",
      "P6=(V_Th*V_Th*R_L)/((R_Th+R_L)*(R_Th+R_L))\n",
      "R_L=32.0\n",
      "P7=(V_Th*V_Th*R_L)/((R_Th+R_L)*(R_Th+R_L))\n",
      "P8=0.0\n",
      "\n",
      "\n",
      "#Result:\n",
      "print \"(a)The voltage provided by this amplifier to to the speaker is %.2f V.\" %(Vo)\n",
      "print \"(b)(i)If the load is a short circuit(R_L=0),the output voltage Vo would be zero and hence the output power,Po= Vo*I_L = 0*I_L =0.\"\n",
      "print \"   (ii) If the load is an open circuit(R_L=0),the load current I_L would be zero and hence the output power,Po= Vo*I_L = Vo*0 = 0.\"\n",
      "print \"(c)(i) For R_L = 0 , Po = %.2f W. \\n   (ii) For R_L = 2 Ohms, Po = %.2f W.\" %(P1,P2)  \n",
      "print \"   (iii) For R_L = 4 Ohms, Po = %.2f W. \\n   (iv) For R_L = 6 Ohms, Po = %.2f W.\" %(P3,P4)  \n",
      "print \"   (v) For R_L = 8 Ohms, Po = %.2f W. \\n   (vi) For R_L = 16 Ohms, Po = %.2f W.\" %(P5,P6) \n",
      "print \"   (vii) For R_L = 32 Ohms, Po = %.2f W. \\n   (viii) For R_L = infinity, Po = %.2f W.\" %(P7,P8)\n",
      "print \"Note: Po is the power delivered to the speaker (in Watts) and R_L is the speaker resistance(in Ohms).\"  \n",
      "\n",
      "\n",
      "from __future__ import division\n",
      "from pylab import *\n",
      "from matplotlib import *\n",
      "import numpy as np\n",
      "%pylab inline\n",
      "\n",
      "\n",
      "#Variable declaration:\n",
      "Rdata=[0.0, 2.0, 4.0, 6.0, 8.0, 16.0]     #(in ohm)\n",
      "Podata=[0, 16, 22.22, 24.49, 25, 22.22]   #(in Watt)\n",
      "\n",
      "\n",
      "#Calculations:\n",
      "R=np.array(Rdata)\n",
      "Po=np.array(Podata)\n",
      "length=len(R)\n",
      "Rmax=R[length-1]\n",
      "a=polyfit(R,Po,4)\n",
      "Rfit=[0]*100\n",
      "Pofit=[0]*100\n",
      "for n in range(1,100,1):\n",
      "    Rfit[n-1]=Rmax*(n-1)/100\n",
      "    Pofit[n-1]=a[0]*Rfit[n-1]**4+a[1]*Rfit[n-1]**3+a[2]*Rfit[n-1]**2+a[3]*Rfit[n-1]+a[4]\n",
      "\n",
      "#Plot the data and then the fit to compare (convert xfit to cm and Lfit to mH)\n",
      "plot(Rdata,Podata,'o')\n",
      "plot(np.array(Rfit),np.array(Pofit),'g.') \n",
      "xlabel('R_L (in ohm) ')\n",
      "ylabel('Po (in Watt) ')\n",
      "title('Ouput power(Po) vs. Speaker Resistance(R_L)')\n",
      "grid()\n",
      "print \"\\n\\nThe required plot is shown below: \"\n",
      "show()\n"
     ],
     "language": "python",
     "metadata": {},
     "outputs": [
      {
       "output_type": "stream",
       "stream": "stdout",
       "text": [
        "(a)The voltage provided by this amplifier to to the speaker is 14.14 V.\n",
        "(b)(i)If the load is a short circuit(R_L=0),the output voltage Vo would be zero and hence the output power,Po= Vo*I_L = 0*I_L =0.\n",
        "   (ii) If the load is an open circuit(R_L=0),the load current I_L would be zero and hence the output power,Po= Vo*I_L = Vo*0 = 0.\n",
        "(c)(i) For R_L = 0 , Po = 0.00 W. \n",
        "   (ii) For R_L = 2 Ohms, Po = 16.00 W.\n",
        "   (iii) For R_L = 4 Ohms, Po = 22.22 W. \n",
        "   (iv) For R_L = 6 Ohms, Po = 24.49 W.\n",
        "   (v) For R_L = 8 Ohms, Po = 25.00 W. \n",
        "   (vi) For R_L = 16 Ohms, Po = 22.22 W.\n",
        "   (vii) For R_L = 32 Ohms, Po = 16.00 W. \n",
        "   (viii) For R_L = infinity, Po = 0.00 W.\n",
        "Note: Po is the power delivered to the speaker (in Watts) and R_L is the speaker resistance(in Ohms).\n",
        "Populating the interactive namespace from numpy and matplotlib\n",
        "\n",
        "\n",
        "The required plot is shown below: "
       ]
      },
      {
       "output_type": "stream",
       "stream": "stdout",
       "text": [
        "\n"
       ]
      },
      {
       "output_type": "stream",
       "stream": "stderr",
       "text": [
        "WARNING: pylab import has clobbered these variables: ['streamplot', 'rc', 'tri', 'axes', 'legend', 'rc_context', 'figure', 'f', 'quiver', 'axis', 'linalg', 'draw_if_interactive', 'text', 'random', 'colors', 'stackplot', 'contour', 'colorbar', 'rcdefaults', 'table', 'power', 'info', 'fft', 'test']\n",
        "`%pylab --no-import-all` prevents importing * from pylab and numpy\n"
       ]
      },
      {
       "metadata": {},
       "output_type": "display_data",
       "png": "[encoded data removed]",
       "text": [
        "<matplotlib.figure.Figure at 0x43b9d10>"
       ]
      }
     ],
     "prompt_number": 2
    },
    {
     "cell_type": "heading",
     "level": 2,
     "metadata": {},
     "source": [
      "Example 4.11,Page number: 115"
     ]
    },
    {
     "cell_type": "code",
     "collapsed": false,
     "input": [
      "#Question:\n",
      "\"\"\"Finding the current in branch B due to the voltage source of 36 V in branch A.\"\"\"\n",
      "\n",
      "\n",
      "#Variable Declaration:\n",
      "V_supply_a=36.0                         #Supply voltage in the network shown in figure a(in Volts)\n",
      "Req_a=2+ 1/((1.0/12)+(1.0/(3+1))) + 4   #Equivalent resistance of network shown in figure a(in Ohms)\n",
      "\n",
      "\n",
      "#Calculations:\n",
      "I_supply_a=V_supply_a/Req_a\n",
      "I=I_supply_a*(12.0/(12+4))\n",
      "V_supply_b=36.0\n",
      "Req_b= 3+ 1.0/((1.0/12)+(1.0/(2+4))) + 1\n",
      "I_supply_b=V_supply_b/Req_b\n",
      "I_dash= I_supply_b*(12.0/(12+6))\n",
      "R_tr=V_supply_a/I\n",
      "\n",
      "\n",
      "#Result:\n",
      "print \"The current I(in figure (a)) is %.2f A and the current I'(in branch A in figure (b)) is %.2f A.\" %(I,I_dash)\n",
      "if(I==I_dash) : print \"As the two currents I and I' have the same value, the reciprocity theorem is established.\\n \"\n",
      "else : print \"As the two currents I and I' have different values, the reciprocity theorem is not established.\\n \"\n",
      "print \"The transfer resistance is %.2f Ohms.\" %(R_tr)"
     ],
     "language": "python",
     "metadata": {},
     "outputs": [
      {
       "output_type": "stream",
       "stream": "stdout",
       "text": [
        "The current I(in figure (a)) is 3.00 A and the current I'(in branch A in figure (b)) is 3.00 A.\n",
        "As the two currents I and I' have the same value, the reciprocity theorem is established.\n",
        " \n",
        "The transfer resistance is 12.00 Ohms.\n"
       ]
      }
     ],
     "prompt_number": 20
    },
    {
     "cell_type": "heading",
     "level": 2,
     "metadata": {},
     "source": [
      "Example 4.13,Page number: 119"
     ]
    },
    {
     "cell_type": "code",
     "collapsed": false,
     "input": [
      "#Question:\n",
      "\"\"\"Finding the current using Thevenin's theorem.\"\"\"\n",
      "\n",
      "#Variable Declaration:\n",
      "R_L=20.0              #Load resistance(in Ohms)\n",
      "\n",
      "\n",
      "#Calculations:\n",
      "\"\"\" KVL equation for the loop bacdeb, V_Th+50-20+10=0.\"\"\"\n",
      "V_Th=-50.0-10.0+20.0\n",
      "\"\"\"Shorting all the voltage sources.\"\"\"\n",
      "R_Th=0.0\n",
      "I3=V_Th/(R_L+R_Th)\n",
      "\n",
      "\n",
      "#Result:\n",
      "print \"The current I3 in the circuit is %.2f A.\" %(I3)"
     ],
     "language": "python",
     "metadata": {},
     "outputs": [
      {
       "output_type": "stream",
       "stream": "stdout",
       "text": [
        "The current I3 in the circuit is -2.00 A.\n"
       ]
      }
     ],
     "prompt_number": 3
    },
    {
     "cell_type": "heading",
     "level": 2,
     "metadata": {},
     "source": [
      "Example 4.14,Page number: 120"
     ]
    },
    {
     "cell_type": "code",
     "collapsed": false,
     "input": [
      "#Question:\n",
      "\"\"\"Finding the current using Thevenin's theorem.\"\"\"\n",
      "\n",
      "#Variable Declaration:\n",
      "R_L=1.0              #Load resistance(in Ohms)\n",
      "\n",
      "\n",
      "#Calculations:\n",
      "\"\"\" KVL equation for the loop bacdeb, V_Th+50-20+10=0.\"\"\"\n",
      "V_Th=20.0-10.0-9.0\n",
      "\"\"\"Shorting all the voltage sources.\"\"\"\n",
      "R_Th=0.0\n",
      "I2=V_Th/(R_L+R_Th)\n",
      "\n",
      "\n",
      "#Result:\n",
      "print \"The current I2 in the circuit is %.2f A.\" %(I2)"
     ],
     "language": "python",
     "metadata": {},
     "outputs": [
      {
       "output_type": "stream",
       "stream": "stdout",
       "text": [
        "The current I2 in the circuit is 1.00 A.\n"
       ]
      }
     ],
     "prompt_number": 4
    },
    {
     "cell_type": "heading",
     "level": 2,
     "metadata": {},
     "source": [
      "Example 4.15,Page number: 121"
     ]
    },
    {
     "cell_type": "code",
     "collapsed": false,
     "input": [
      "#Question:\n",
      "\"\"\"Finding the current using superposition theorem.\"\"\"\n",
      "\n",
      "#Variable Declaration:\n",
      "R=0.5                 #Load resistance(in Ohms)\n",
      "\n",
      "\n",
      "#Calculations:\n",
      "I=15.0/(1+0.6)\n",
      "I1=I*(1/(1+(R+1)))\n",
      "I2=20/((2/3.0)+2)\n",
      "I1_20=I2*(2.0/(2.0+(R+R)))\n",
      "Inet=I1-I1_20\n",
      "\n",
      "\n",
      "#Result:\n",
      "print \"The current flowing through R from A to B is %.2f A.\" %(Inet) "
     ],
     "language": "python",
     "metadata": {},
     "outputs": [
      {
       "output_type": "stream",
       "stream": "stdout",
       "text": [
        "The current flowing through R from A to B is -1.25 A.\n"
       ]
      }
     ],
     "prompt_number": 8
    },
    {
     "cell_type": "heading",
     "level": 2,
     "metadata": {},
     "source": [
      "Example 4.16,Page number: 121"
     ]
    },
    {
     "cell_type": "code",
     "collapsed": false,
     "input": [
      "#Question:\n",
      "\"\"\"Finding the voltage across the resistance using Thevenin's theorem.\"\"\"\n",
      "\n",
      "#Calculations:\n",
      "\"\"\"The first step is to remove the 5 Ohms resistance.Then, find the open-circuit voltage Voc across AB. \n",
      "   Using nodal analysis,for node C we can write ((Voc-20)/2)+((Voc+10)/1)+((Voc-12)/4)=10.\"\"\"\n",
      "Voc=(10+3)/(0.5+1+0.25)\n",
      "V_Th=Voc\n",
      "R_Th=1.0/((1.0/2.0)+(1.0)+(1/4.0))\n",
      "V_AB=V_Th*(5.0/(5.0+R_Th))\n",
      "\n",
      "\n",
      "#Result:\n",
      "print \"The voltage across the 5 Ohms resistance is %.2f V.\" %(V_AB)\n",
      "print \"Note:There is a calculation error in the textbook.Voc=7.43 V but not 1.74 V. Therefore V_AB=6.67 V.\""
     ],
     "language": "python",
     "metadata": {},
     "outputs": [
      {
       "output_type": "stream",
       "stream": "stdout",
       "text": [
        "The voltage across the 5 Ohms resistance is 6.67 V.\n",
        "Note:There is a calculation error in the textbook.Voc=7.43 V but not 1.74 V. Therefore V_AB=6.67 V.\n"
       ]
      }
     ],
     "prompt_number": 1
    },
    {
     "cell_type": "heading",
     "level": 2,
     "metadata": {},
     "source": [
      "Example 4.17,Page number: 122"
     ]
    },
    {
     "cell_type": "code",
     "collapsed": false,
     "input": [
      "#Question:\n",
      "\"\"\"Finding the current using Norton's theorem.\"\"\"\n",
      "\n",
      "#Calculations:\n",
      "Isc=20.0/10.0\n",
      "I_N=Isc\n",
      "R_N=1.0/((1.0/10)+(1.0/10))\n",
      "I=I_N*(R_N/(R_N+2.0))\n",
      "\n",
      "\n",
      "#Result:\n",
      "print \"The current through the 2 Ohms resistance when connected across terminals AB is %.2f A.\" %(I)"
     ],
     "language": "python",
     "metadata": {},
     "outputs": [
      {
       "output_type": "stream",
       "stream": "stdout",
       "text": [
        "The current through the 2 Ohms resistance when connected across terminals AB is 1.43 A.\n"
       ]
      }
     ],
     "prompt_number": 20
    },
    {
     "cell_type": "heading",
     "level": 2,
     "metadata": {},
     "source": [
      "Example 4.18,Page number: 123"
     ]
    },
    {
     "cell_type": "code",
     "collapsed": false,
     "input": [
      "#Question:\n",
      "\"\"\"Finfing the power consumed by resistor using Norton's theorem.\"\"\"\n",
      "\n",
      "#Variable Declaration:\n",
      "R_L=2.0               #Resistance of load(in Ohms)\n",
      "\n",
      "\n",
      "#Calculations:\n",
      "\"\"\"To determine I_N,short circuit the terminals xy and find the current Isc throgh this short circuit.\n",
      "\n",
      "   Applying node-voltage analysis to determine the voltage at node 1,\n",
      "   \n",
      "   ((V1-12)/3)+(V1/2)=4;\"\"\"\n",
      "\n",
      "V1=(4.0+(12.0/3.0))/((1.0/3.0)+0.5)\n",
      "Isc=V1/2.0\n",
      "I_N=Isc\n",
      "R_N=1.0/((1.0/(3.0+2.0))+(1.0/5.0))\n",
      "I=I_N*(R_N/(R_N+R_L))\n",
      "P=I*I*R_L\n",
      "\n",
      "\n",
      "#Result:\n",
      "print \"The power consumed by the 2 Ohms load reistor is %.3f W.\" %(P)"
     ],
     "language": "python",
     "metadata": {},
     "outputs": [
      {
       "output_type": "stream",
       "stream": "stdout",
       "text": [
        "The power consumed by the 2 Ohms load reistor is 14.222 W.\n"
       ]
      }
     ],
     "prompt_number": 4
    },
    {
     "cell_type": "heading",
     "level": 2,
     "metadata": {},
     "source": [
      "Example 4.19,Page number: 124"
     ]
    },
    {
     "cell_type": "code",
     "collapsed": false,
     "input": [
      "#Question:\n",
      "\"\"\"Finding the voltage across load.\"\"\"\n",
      "\n",
      "#Variable Declaration:\n",
      "R_L=5.0               #Load resistance(in Ohms)\n",
      "\n",
      "\n",
      "#Calculations:\n",
      "R_N=1.0/((1.0/20.0)+(1.0/(10.0+10.0)))\n",
      "I_N=(65.0-10.0)/(10.0+10.0)\n",
      "I_L=I_N*(R_N/(R_N+R_L))\n",
      "V_L=I_L*R_L\n",
      "\n",
      "\n",
      "#Result:\n",
      "print \"The voltage across the load using Norton's theorem is %.2f V.\" %(V_L)"
     ],
     "language": "python",
     "metadata": {},
     "outputs": [
      {
       "output_type": "stream",
       "stream": "stdout",
       "text": [
        "The voltage across the load using Norton's theorem is 9.17 V.\n"
       ]
      }
     ],
     "prompt_number": 23
    },
    {
     "cell_type": "heading",
     "level": 2,
     "metadata": {},
     "source": [
      "Example 4.20,Page number: 125 "
     ]
    },
    {
     "cell_type": "code",
     "collapsed": false,
     "input": [
      "#Question:\n",
      "\"\"\"Finding the reading of voltmeter.\"\"\"\n",
      "\n",
      "#Variable Declaration:\n",
      "R=500e03              #Resistance across which voltmeter is connected(in Ohms)\n",
      "Rm=10e06              #Internal resistance of voltmeter(in Ohms)\n",
      "\n",
      "\n",
      "#Calculations:\n",
      "V_a=10.0*(R/(R+800e03))\n",
      "R_Th=1.0/((1/R)+(1/800e03))\n",
      "V_Th=V_a\n",
      "V_b=V_Th*(Rm/(Rm+R_Th))\n",
      "\n",
      "\n",
      "#Result:\n",
      "print \"(a)The reading of the voltmeter if it assumed to be ideal is %.2f V.\" %(V_a)\n",
      "print \"(b)The reading of the voltmeter if it has an internal resistance of 10 M Ohms is %.2f V.\" %(V_b)"
     ],
     "language": "python",
     "metadata": {},
     "outputs": [
      {
       "output_type": "stream",
       "stream": "stdout",
       "text": [
        "(a)The reading of the voltmeter if it assumed to be ideal is 3.85 V.\n",
        "(b)The reading of the voltmeter if it has an internal resistance of 10 M Ohms is 3.73 V.\n"
       ]
      }
     ],
     "prompt_number": 5
    },
    {
     "cell_type": "heading",
     "level": 2,
     "metadata": {},
     "source": [
      "Example 4.21,Page number: 125"
     ]
    },
    {
     "cell_type": "code",
     "collapsed": false,
     "input": [
      "#Question:\n",
      "\"\"\"Finding the load resistance for receiving maximum power.\"\"\"\n",
      "\n",
      "#Variable Declaration:\n",
      "R_L=3e03             #Load resistance(in Ohms)\n",
      "\n",
      "\n",
      "#Calculations:\n",
      "\"\"\"First, we remove R_L and then find Voc=V_Th. We transform the 5-mA current source into voltage source.\"\"\"\n",
      "Voc=(60.0-40.0)*((6e03)/((6e03)+(12e03+18e03)))\n",
      "V_Th=Voc\n",
      "R_Th=1.0/((1.0/6e03)+(1.0/(12e03+18e03)))\n",
      "Vab_b=V_Th*(R_L/(R_L+R_Th))\n",
      "R_L_c=R_Th\n",
      "\"\"\" The current required through 6 kilo Ohms resistor is 0.1 mA.\"\"\"\n",
      "Vab_d=(0.1e-03)*(6e03)\n",
      "V_30k=20-Vab_d\n",
      "I_30k=V_30k/(30e03)\n",
      "I_L=I_30k-(0.1e-03)\n",
      "R_L_d=Vab_d/I_L\n",
      "\n",
      "\n",
      "#Result:\n",
      "print \"(a)The Thevenin's equivalent voltage is %.2f V and the Thevenin's resistance is %.2f kilo Ohms.\" %(V_Th,(R_Th/1000.0))\n",
      "print \"(b)The Vab for R_L=3 kilo Ohms is %.3f V.\" %(Vab_b)\n",
      "print \"(c)The value of R_L which receives maximum power from the circuit is %.2f kilo Ohms.\" %(R_L_c/1000.0)\n",
      "print \"(d)The value of R_L which makes the current in the 6 kilo Ohms resistor to be 0.1 mA is %.3f kilo Ohms.\" %(R_L_d/1000.0) "
     ],
     "language": "python",
     "metadata": {},
     "outputs": [
      {
       "output_type": "stream",
       "stream": "stdout",
       "text": [
        "(a)The Thevenin's equivalent voltage is 3.33 V and the Thevenin's resistance is 5.00 kilo Ohms.\n",
        "(b)The Vab for R_L=3 kilo Ohms is 1.250 V.\n",
        "(c)The value of R_L which receives maximum power from the circuit is 5.00 kilo Ohms.\n",
        "(d)The value of R_L which makes the current in the 6 kilo Ohms resistor to be 0.1 mA is 1.098 kilo Ohms.\n"
       ]
      }
     ],
     "prompt_number": 29
    },
    {
     "cell_type": "heading",
     "level": 2,
     "metadata": {},
     "source": [
      "Example 4.22,Page number: 127"
     ]
    },
    {
     "cell_type": "code",
     "collapsed": false,
     "input": [
      "#Question:\n",
      "\"\"\"Finding the value of resistance.\"\"\"\n",
      "\n",
      "#Variable Declaration:\n",
      "V=12.0                #Supply voltage(in Volts)\n",
      "\n",
      "\n",
      "#Calculations:\n",
      "\"\"\" To receive maximum power,the resistance R should be equal to the output resistance of the remaining circuit,which is same as \n",
      "    Thevenin's resistance.\"\"\"\n",
      "R_Th=1.0/((1.0/2.0)+(1.0/6.0))\n",
      "R=R_Th\n",
      "\"\"\" Mesh equations to find loop currents I1 and I2, \n",
      "    \n",
      "    (8*I1)-(6*I2)=4 and -(6*I1)+(7.5*I2)=8. Solving these equations, we get I1=3.25 A. \"\"\"\n",
      "I1=((4*7.5)+(8*6))/((8*7.5)-(6*6))\n",
      "P=V*I1\n",
      "\n",
      "\n",
      "#Result:\n",
      "print \"(a)The value of R to receive maximum power from the circuit is %.2f Ohms.\" %(R)\n",
      "print \"(b)The power supplied by the 12 V source is %.2f W.\" %(P) "
     ],
     "language": "python",
     "metadata": {},
     "outputs": [
      {
       "output_type": "stream",
       "stream": "stdout",
       "text": [
        "(a)The value of R to receive maximum power from the circuit is 1.50 Ohms.\n",
        "(b)The power supplied by the 12 V source is 39.00 W.\n"
       ]
      }
     ],
     "prompt_number": 10
    },
    {
     "cell_type": "heading",
     "level": 2,
     "metadata": {},
     "source": [
      "Example 4.23,Page number: 127"
     ]
    },
    {
     "cell_type": "code",
     "collapsed": false,
     "input": [
      "#Question:\n",
      "\"\"\"Finding the current Is.\"\"\"\n",
      "\n",
      "#Calculations:\n",
      "I1=12.0/(80.0+120)\n",
      "\"\"\" I2=Is*(80/(80+120)); I1+I2=0;\"\"\"\n",
      "Is=-I1/(80.0/(80+120))\n",
      "\n",
      "\n",
      "#Result:\n",
      "print \"The current Is such that the current through 120 Ohms resistor is zero is %.2f A.\" %(Is)"
     ],
     "language": "python",
     "metadata": {},
     "outputs": [
      {
       "output_type": "stream",
       "stream": "stdout",
       "text": [
        "The current Is such that the current through 120 Ohms resistor is zero is -0.15 A.\n"
       ]
      }
     ],
     "prompt_number": 6
    },
    {
     "cell_type": "heading",
     "level": 2,
     "metadata": {},
     "source": [
      "Example 4.24,Page number: 128"
     ]
    },
    {
     "cell_type": "code",
     "collapsed": false,
     "input": [
      "#Question:\n",
      "\"\"\"Finding the Thevenin equivalent circuit.\"\"\"\n",
      "\n",
      "#Variable Declaration:\n",
      "Vs=12.0               #Supply voltage(in Volts)\n",
      "\n",
      "\n",
      "#Calculations:\n",
      "\"\"\"The circuit has no independent source.So,the current I in the 12 Ohms resistor will be zero and hence the dependent voltage source\n",
      "   (8*I) will also be zero. Obviously,Thevenin's voltage V_Th=0 V. \"\"\"\n",
      "V_Th=0.0\n",
      "I=12.0/12.0\n",
      "V=8*I\n",
      "\"\"\"Applying KCL to node a,\"\"\"\n",
      "Is=(12.0/12.0)+(12.0/6.0)+((12.0-8.0)/4.0)\n",
      "R_Th=Vs/Is\n",
      "\n",
      "\n",
      "#Result:\n",
      "print \"The Thevenin's equivalent resistance is %.2f Ohms and the Thevenin's equivalent voltage is %.2f V.\" %(R_Th,V_Th)"
     ],
     "language": "python",
     "metadata": {},
     "outputs": [
      {
       "output_type": "stream",
       "stream": "stdout",
       "text": [
        "The Thevenin's equivalent resistance is 3.00 Ohms and the Thevenin's equivalent voltage is 0.00 V.\n"
       ]
      }
     ],
     "prompt_number": 3
    }
   ],
   "metadata": {}
  }
 ]
}