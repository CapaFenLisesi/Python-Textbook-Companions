{
 "metadata": {
  "name": "chapter 4.ipynb"
 },
 "nbformat": 3,
 "nbformat_minor": 0,
 "worksheets": [
  {
   "cells": [
    {
     "cell_type": "heading",
     "level": 1,
     "metadata": {},
     "source": [
      "Chapter 4:Conditions Of Equilibrium"
     ]
    },
    {
     "cell_type": "heading",
     "level": 2,
     "metadata": {},
     "source": [
      "Example 4.1,Page No.68"
     ]
    },
    {
     "cell_type": "code",
     "collapsed": false,
     "input": [
      "import math\n",
      "\n",
      "#Declaration Of Variables\n",
      "F1=100 #N #Force acting on body\n",
      "\n",
      "#Calculations\n",
      "\n",
      "#As the Force F1 & F2 are acting on the same body and at same point but in opposite directions\n",
      "#These two forces will be equal\n",
      "F2=F1\n",
      "\n",
      "#Result\n",
      "print\"Magnitude of Force F2 is\",round(F2,2),\"N\""
     ],
     "language": "python",
     "metadata": {},
     "outputs": [
      {
       "output_type": "stream",
       "stream": "stdout",
       "text": [
        "Magnitude of Force F2 is 100.0 N\n"
       ]
      }
     ],
     "prompt_number": 1
    },
    {
     "cell_type": "heading",
     "level": 2,
     "metadata": {},
     "source": [
      "Example 4.2,Page No.68"
     ]
    },
    {
     "cell_type": "code",
     "collapsed": false,
     "input": [
      "import math\n",
      "\n",
      "#Declaration Of Variables\n",
      "\n",
      "#Force\n",
      "F3=400 #N\n",
      "theta1=30 #Degree #Angle made by forces F2 & F3\n",
      "\n",
      "#Calculations\n",
      "\n",
      "#By Lami's Theorem\n",
      "#F1*sin(120)**-1=F2*sin(120)**-1=F3*sin(120)**-1\n",
      "F2=F3*sin(120*pi*180**-1)**-1*sin(120*pi*180**-1)\n",
      "F1=F2*sin(120*pi*180**-1)**-1*sin(120*pi*180**-1)\n",
      "\n",
      "#Result\n",
      "print\"Magnitude of Forces:F1\",round(F1,2),\"N\"\n",
      "print\"                   :F2\",round(F2,2),\"N\""
     ],
     "language": "python",
     "metadata": {},
     "outputs": [
      {
       "output_type": "stream",
       "stream": "stdout",
       "text": [
        "Magnitude of Forces:F1 400.0 N\n",
        "                   :F2 400.0 N\n"
       ]
      }
     ],
     "prompt_number": 2
    },
    {
     "cell_type": "heading",
     "level": 2,
     "metadata": {},
     "source": [
      "Example 4.3,Page No.69"
     ]
    },
    {
     "cell_type": "code",
     "collapsed": false,
     "input": [
      "import math\n",
      "\n",
      "#Declaration Of Variables\n",
      "\n",
      "#FOrces\n",
      "F1=250 #N\n",
      "F3=1000 #N\n",
      "L_AB=1 #m #Length of AB\n",
      "\n",
      "#Calculations\n",
      "\n",
      "#Sum of forces in y direction\n",
      "F2=F1+F3 #N\n",
      "\n",
      "#Moment at pt A\n",
      "#-F2*L_AB+F3*(L_AB+x)=0\n",
      "#After further simplifying we get\n",
      "x=F2*L_AB*F3**-1-L_AB\n",
      "\n",
      "#Result\n",
      "print\"Magnitude of Force F2 is\",round(F2,2),\"N\"\n",
      "print\"Distance of F2 From F3 is\",round(x,2),\"N\""
     ],
     "language": "python",
     "metadata": {},
     "outputs": [
      {
       "output_type": "stream",
       "stream": "stdout",
       "text": [
        "Magnitude of Force F2 is 1250.0 N\n",
        "Distance of F2 From F3 is 0.25 N\n"
       ]
      }
     ],
     "prompt_number": 3
    },
    {
     "cell_type": "heading",
     "level": 2,
     "metadata": {},
     "source": [
      "Example 4.4,Page No.69"
     ]
    },
    {
     "cell_type": "code",
     "collapsed": false,
     "input": [
      "import math\n",
      "\n",
      "#Declaration Of Variables\n",
      "\n",
      "#Forces\n",
      "F1=18 #N\n",
      "F2=22.5 #N\n",
      "F3=15 #N\n",
      "F4=30 #N\n",
      "\n",
      "#Angles\n",
      "theta2=45 #Degree\n",
      "theta3=90 #Degree\n",
      "theta4=30 #Degree\n",
      "\n",
      "#Calculations\n",
      "\n",
      "#Sum of Forces in x-direction\n",
      "#F1+F2*cos(45)-F4*cos(30)-F5*cos(theta5)=0\n",
      "#After further simplifying we get\n",
      "#F5*cos(theta5)=F1+F2*cos(45)-F4*cos(30)....................1\n",
      "\n",
      "#Sum of Forces in y-direction\n",
      "#F3+F2*sin(45)-F4*sin(30)-F5*sin(theta5)=0\n",
      "#After further simplifying we get\n",
      "#F5*sin(theta5)=F3+F2*sin(45)-F4*sin(30)....................2\n",
      "\n",
      "#Dividing equation 2 and 1 we get\n",
      "X=F3+F2*sin(45*pi*180**-1)-F4*sin(30*pi*180**-1)\n",
      "Y=F1+F2*cos(45*pi*180**-1)-F4*cos(30*pi*180**-1)\n",
      "theta=arctan((X)*(Y)**-1)*(pi**-1*180)\n",
      "\n",
      "F5=(F1+F2*cos(45*pi*180**-1)-F4*cos(30*pi*180**-1))*(cos(theta*pi*180**-1))**-1\n",
      "\n",
      "\n",
      "#Result\n",
      "print\"Magnitude of force F5 is\",round(F5,2),\"N\"\n",
      "print\"Direction of F5 is\",round(theta,2),\"Degrees\""
     ],
     "language": "python",
     "metadata": {},
     "outputs": [
      {
       "output_type": "stream",
       "stream": "stdout",
       "text": [
        "Magnitude of force F5 is 17.78 N\n",
        "Direction of F5 is 63.51 Degrees\n"
       ]
      }
     ],
     "prompt_number": 4
    },
    {
     "cell_type": "heading",
     "level": 2,
     "metadata": {},
     "source": [
      "Example 4.5,Page No.71"
     ]
    },
    {
     "cell_type": "code",
     "collapsed": false,
     "input": [
      "import math\n",
      "\n",
      "#Declaration Of Variables \n",
      "\n",
      "#Forces\n",
      "F_C=1500 #N\n",
      "theta_C=60 #degrees\n",
      "\n",
      "F_B=1805 #N\n",
      "theta_B=33.67 #Degrees\n",
      "\n",
      "F_A=2240 #N\n",
      "theta_A=63.43 #Degrees\n",
      "\n",
      "#Distances of forces from D\n",
      "L_DC=2 #m\n",
      "L_DB=3 #m\n",
      "L_DE=4 #m\n",
      "L_DO=3 #m\n",
      "\n",
      "\n",
      "#Calculations\n",
      "\n",
      "#NEt forces along Y-axis\n",
      "R_y=-F_C*cos(theta_C*pi*180**-1)-F_B*cos(theta_B*pi*180**-1)+F_A*cos(theta_A*pi*180**-1)\n",
      "\n",
      "#Net Forces along x-axis\n",
      "R_x=F_C*sin(theta_C*pi*180**-1)-F_B*sin(theta_B*pi*180**-1)-F_A*sin(theta_A*pi*180**-1)\n",
      "\n",
      "#Resultant Forces\n",
      "R=(R_x**2+R_y**2)**0.5 #N\n",
      "\n",
      "#Angle made by resultant\n",
      "theta=arctan(R_y*R_x**-1)*(pi**-1*180) #Degrees\n",
      "\n",
      "#Net Moment about point O\n",
      "M_O=-F_C*cos(theta_C*pi*180**-1)*L_DO-F_B*cos(theta_B*pi*180**-1)*L_DO-F_C*sin(theta_C*pi*180**-1)*L_DC+F_B*sin(theta_B*pi*180**-1)*L_DB+F_A*sin(theta_A*pi*180**-1)*L_DE\n",
      "\n",
      "\n",
      "#Moment of R about O\n",
      "\n",
      "#X-intercept\n",
      "x=M_O*-R_x**-1\n",
      "\n",
      "#Y-intercept\n",
      "y=M_O*-R_y**-1\n",
      "\n",
      "#Result\n",
      "print\"Resultant is\",round(R,2),\"N\"\n",
      "print\"X intercept is\",round(x,2),\"m\"\n",
      "print\"Y intercept is\",round(y,2),\"m\""
     ],
     "language": "python",
     "metadata": {},
     "outputs": [
      {
       "output_type": "stream",
       "stream": "stdout",
       "text": [
        "Resultant is 2114.37 N\n",
        "X intercept is 0.97 m\n",
        "Y intercept is 1.33 m\n"
       ]
      }
     ],
     "prompt_number": 5
    },
    {
     "cell_type": "heading",
     "level": 2,
     "metadata": {},
     "source": [
      "Example 4.6,Page No.73"
     ]
    },
    {
     "cell_type": "code",
     "collapsed": false,
     "input": [
      "import math\n",
      "\n",
      "#Declaration Of Variables\n",
      "theta=60 #Degrees #Angle made by chain with ceiling\n",
      "W=5 #N #Weight of lamp\n",
      "theta2=120 #Degree #Angle made by chain with cord\n",
      "theta3=150 #Degree #Angle made by chain with wire holding lamp\n",
      "theta4=90 #Degree #Angle made by cord with wire holding lamp\n",
      "\n",
      "#Calculations\n",
      "\n",
      "#LEt T1=tension in cord\n",
      "#T2=tension in chain\n",
      "\n",
      "#By lami's theorem\n",
      "#T1*sin(theta3)**-1=T2*sin(theta4)**-1=W*sin(theta2)**-1\n",
      "\n",
      "T1=W*sin(theta2*pi*180**-1)**-1*sin(theta3*pi*180**-1) #N\n",
      "T2=W*sin(theta2*pi*180**-1)**-1*sin(theta4*pi*180**-1) #N\n",
      "\n",
      "#Result\n",
      "print\"Tension in chain is\",round(T2,2),\"N\"\n",
      "print\"Tension in cord is\",round(T1,2),\"N\""
     ],
     "language": "python",
     "metadata": {},
     "outputs": [
      {
       "output_type": "stream",
       "stream": "stdout",
       "text": [
        "Tension in chain is 5.77 N\n",
        "Tension in cord is 2.89 N\n"
       ]
      }
     ],
     "prompt_number": 6
    },
    {
     "cell_type": "heading",
     "level": 2,
     "metadata": {},
     "source": [
      "Example 4.7,Page No.74"
     ]
    },
    {
     "cell_type": "code",
     "collapsed": false,
     "input": [
      "import math\n",
      "\n",
      "#Declaration Of Variables\n",
      "\n",
      "#Forces\n",
      "F_P=1000 #N\n",
      "F_Q=1500 #N\n",
      "F_R=1000 #N\n",
      "F_S=500  #N\n",
      "\n",
      "theta=90 #Degree  #Angle made by F_P with PS\n",
      "theta2=60 #Degree #Angle made by F_Q with QS\n",
      "theta3=45 #Degree #Angle made by F_R with RS\n",
      "theta4=30 #Degree #Angle made by F_S with PS\n",
      "\n",
      "#Calculations\n",
      "\n",
      "#Resultant of forces along x-axis\n",
      "R_x=-F_Q*cos(theta2*pi*180**-1)-F_R*cos(theta3*pi*180**-1)-F_S*cos(theta4*pi*180**-1)\n",
      "\n",
      "#Resultant of forces along y-axis\n",
      "R_y=-F_P*sin(theta*pi*180**-1)-F_Q*sin(theta2*pi*180**-1)-F_R*sin(theta3*pi*180**-1)-F_S*sin(theta4*pi*180**-1)\n",
      "\n",
      "#Resultant\n",
      "R=(R_x**2+R_y**2)**0.5 #N\n",
      "\n",
      "#Direction of resultant\n",
      "theta=arctan(R_y*R_x**-1)*(180*pi**-1) #Degree\n",
      "\n",
      "#Result\n",
      "print\"Magnitude of Resultant is\",round(R,2),\"N\"\n",
      "print\"Direction of Resultant is\",round(theta,2),\"degree\""
     ],
     "language": "python",
     "metadata": {},
     "outputs": [
      {
       "output_type": "stream",
       "stream": "stdout",
       "text": [
        "Magnitude of Resultant is 3764.97 N\n",
        "Direction of Resultant is 59.87 degree\n"
       ]
      }
     ],
     "prompt_number": 7
    },
    {
     "cell_type": "heading",
     "level": 2,
     "metadata": {},
     "source": [
      "Example 4.9,Page No.78"
     ]
    },
    {
     "cell_type": "code",
     "collapsed": false,
     "input": [
      "import math\n",
      "\n",
      "#Declaration Of Variables\n",
      "W=100 #N #Weight of roller\n",
      "L_BC=10 #cm #Radius of roller\n",
      "L_AB=20 #cm #Length of tie rod\n",
      "\n",
      "#Calculations\n",
      "\n",
      "theta=arcsin(L_BC*L_AB**-1)*(pi**-1*180) #Degrees\n",
      "\n",
      "F=W*cos(theta*pi*180**-1)**-1 #N #Force in tie rod\n",
      "R_C=F*sin(theta*pi*180**-1)\n",
      "\n",
      "#Result \n",
      "print\"Force in tie rod is\",round(F,2),\"N\"\n",
      "print\"Reaction at C is\",round(R_C,2),\"N\""
     ],
     "language": "python",
     "metadata": {},
     "outputs": [
      {
       "output_type": "stream",
       "stream": "stdout",
       "text": [
        "Force in tie rod is 115.47 N\n",
        "Reaction at C is 57.74 N\n"
       ]
      }
     ],
     "prompt_number": 8
    },
    {
     "cell_type": "heading",
     "level": 2,
     "metadata": {},
     "source": [
      "Example 4.11,Page No.79"
     ]
    },
    {
     "cell_type": "code",
     "collapsed": false,
     "input": [
      "import math\n",
      "\n",
      "#Declaration Of Variables\n",
      "W=120 #N #Weight of ball\n",
      "theta=30 #Degrees #angle made by groove\n",
      "theta2=60 #Degrees #Angle made by groove\n",
      "\n",
      "#Calculations\n",
      "\n",
      "#LEt R_A and R_B be the reactions at A and B respectively\n",
      "#by LAmi's theorem\n",
      "#R_B*sin(120)**-1=R_A*sin(150)**-1=W*sin(90)**-1\n",
      "\n",
      "R_C=W*sin(90*pi*180**-1)**-1*sin(120*pi*180**-1) #N\n",
      "R_A=W*sin(90*pi*180**-1)**-1*sin(150*pi*180**-1) #N\n",
      "\n",
      "\n",
      "#Result\n",
      "print\"Reaction at A is\",round(R_A,2),\"N\"\n",
      "print\"Reaction at c is\",round(R_C,2),\"N\""
     ],
     "language": "python",
     "metadata": {},
     "outputs": [
      {
       "output_type": "stream",
       "stream": "stdout",
       "text": [
        "Reaction at A is 60.0 N\n",
        "Reaction at c is 103.92 N\n"
       ]
      }
     ],
     "prompt_number": 9
    },
    {
     "cell_type": "heading",
     "level": 2,
     "metadata": {},
     "source": [
      "Example 4.11(A),Page No.81"
     ]
    },
    {
     "cell_type": "code",
     "collapsed": false,
     "input": [
      "import math\n",
      "\n",
      "#Declaration Of Variables\n",
      "W=100 #N #weight of roller\n",
      "\n",
      "#Calculations\n",
      "\n",
      "#LEt R_A and R_B be the reactions at A and B respectively\n",
      "theta=45 #Degrees #Angle made by R_B with horizontal\n",
      "theta2=30 #Degrees  #Angle made by R_A with horizontal\n",
      "\n",
      "#by LAmi's theorem\n",
      "#R_B*sin(120)**-1=R_A*sin(135)**-1=W*sin(105)**-1\n",
      "\n",
      "R_B=W*sin(105*pi*180**-1)**-1*sin(120*pi*180**-1) #N\n",
      "R_A=W*sin(105*pi*180**-1)**-1*sin(135*pi*180**-1) #N\n",
      "\n",
      "#Result\n",
      "print\"Reaction at A is\",round(R_A,2),\"N\"\n",
      "print\"Reaction at B is\",round(R_B,2),\"N\""
     ],
     "language": "python",
     "metadata": {},
     "outputs": [
      {
       "output_type": "stream",
       "stream": "stdout",
       "text": [
        "Reaction at A is 73.21 N\n",
        "Reaction at B is 89.66 N\n"
       ]
      }
     ],
     "prompt_number": 10
    },
    {
     "cell_type": "heading",
     "level": 2,
     "metadata": {},
     "source": [
      "Example 4.12,Page No.81"
     ]
    },
    {
     "cell_type": "code",
     "collapsed": false,
     "input": [
      "import math\n",
      "\n",
      "#Declaration Of Variables\n",
      "W=100 #N #Weight of roller\n",
      "F=200 #N #Horizontal Force\n",
      "L_AB=10 #cm #LEngth of bar AB\n",
      "L_BC=5  #cm #radius of roller\n",
      "\n",
      "#Calculations\n",
      "\n",
      "theta=arcsin(L_BC*L_AB**-1)*(pi**-1*180)\n",
      "\n",
      "#LEt R_C be the reaction at c\n",
      "\n",
      "#sum of Forces along x-axis\n",
      "F_AB=F*cos(theta*pi*180**-1)**-1 #N\n",
      "\n",
      "#sum of forces along y-axis\n",
      "R_C=W+F_AB*sin(theta*pi*180**-1)\n",
      "\n",
      "#Result\n",
      "print\"Force in bar AB is\",round(F_AB,2),\"N\"\n",
      "print\"Reaction at C is\",round(R_C,2),\"N\""
     ],
     "language": "python",
     "metadata": {},
     "outputs": [
      {
       "output_type": "stream",
       "stream": "stdout",
       "text": [
        "Force in bar AB is 230.94 N\n",
        "Reaction at C is 215.47 N\n"
       ]
      }
     ],
     "prompt_number": 11
    },
    {
     "cell_type": "heading",
     "level": 2,
     "metadata": {},
     "source": [
      "Example 4.14,Page No.84"
     ]
    },
    {
     "cell_type": "code",
     "collapsed": false,
     "input": [
      "import math\n",
      "\n",
      "#Declaration Of Variables\n",
      "W=1000 #N #Weight of rollers\n",
      "theta=30 #Degree #Angle made by groove\n",
      "\n",
      "#Calculations\n",
      "\n",
      "#LEt R_A,R_B,R_C,R_D be the reactions at A,B,C,D respectively\n",
      "\n",
      "#Roller-2\n",
      "R_D=W*sin(90*pi*180**-1)*sin(150*pi*180**-1) #N\n",
      "R_A=W*sin(90*pi*180**-1)*sin(120*pi*180**-1) #N\n",
      "\n",
      "#ROller-1\n",
      "R_B=(W+R_D*sin(theta*pi*180**-1))*sin(60*pi*180**-1)**-1 #N\n",
      "R_C=R_B*cos(60*pi*180**-1)+R_D*cos(theta*pi*180**-1)\n",
      "\n",
      "#Result\n",
      "print\"Reactions at A:R_A\",round(R_A,2),\"N\"\n",
      "print\"             B:R_B\",round(R_B,2),\"N\"\n",
      "print\"             C:R_C\",round(R_C,2),\"N\""
     ],
     "language": "python",
     "metadata": {},
     "outputs": [
      {
       "output_type": "stream",
       "stream": "stdout",
       "text": [
        "Reactions at A:R_A 866.03 N\n",
        "             B:R_B 1443.38 N\n",
        "             C:R_C 1154.7 N\n"
       ]
      }
     ],
     "prompt_number": 12
    },
    {
     "cell_type": "heading",
     "level": 2,
     "metadata": {},
     "source": [
      "Example 4.15,Page No.85"
     ]
    },
    {
     "cell_type": "code",
     "collapsed": false,
     "input": [
      "import math\n",
      "\n",
      "#Declaration Of Variables\n",
      "W=1000 #N #Weight of each sphere\n",
      "L_AF=L_BF=L_FD=L_DE=L_CE=25 #cm\n",
      "L=90 #Width of channel\n",
      "L_FG=40 #cm\n",
      "L_EF=L_FD+L_DE #cm\n",
      "\n",
      "#Calculations\n",
      "\n",
      "theta=arcsin(L_FG*L_EF**-1)*(180*pi**-1) #Degrees\n",
      "\n",
      "#LEt R_A,R_B,R_C,R_D be the reactions at A,B,C,D respectively\n",
      "\n",
      "#Roller-2\n",
      "R_D=W*(cos(theta*pi*180**-1))**-1 #N\n",
      "R_C=R_D*sin(theta*pi*180**-1) #N\n",
      "\n",
      "#Roller-1\n",
      "R_A=R_D*sin(theta*pi*180**-1) #N\n",
      "R_B=R_D*cos(theta*pi*180**-1)+W #N\n",
      "\n",
      "#Result\n",
      "print\"Reactions at A:R_A\",round(R_A,2),\"N\"\n",
      "print\"             B:R_B\",round(R_B,2),\"N\"\n",
      "print\"             C:R_C\",round(R_C,2),\"N\""
     ],
     "language": "python",
     "metadata": {},
     "outputs": [
      {
       "output_type": "stream",
       "stream": "stdout",
       "text": [
        "Reactions at A:R_A 1333.33 N\n",
        "             B:R_B 2000.0 N\n",
        "             C:R_C 1333.33 N\n"
       ]
      }
     ],
     "prompt_number": 13
    },
    {
     "cell_type": "heading",
     "level": 2,
     "metadata": {},
     "source": [
      "Example 4.16,Page No.87"
     ]
    },
    {
     "cell_type": "code",
     "collapsed": false,
     "input": [
      "import math\n",
      "\n",
      "#Declaration Of Variables\n",
      "W=1000 #N #Weight of 2 circular cyclinders\n",
      "L_AF=L_FC=L_CG=L_GB=15 #cm\n",
      "W2=2000 #N #Weight of 3rd cyclinder\n",
      "r2=15 #cm\n",
      "L_AB=40 #cm\n",
      "L_AH=L_HB=20 #cm\n",
      "\n",
      "#Calculations\n",
      "\n",
      "theta=arcsin(L_AH*(L_AF+L_FC)**-1)*(pi**-1*180) #Degrees\n",
      "\n",
      "#Let R_G,R_F,R_D,R_E be the reactions at G,F,D,E \n",
      "\n",
      "R_F=W2*(2*cos(theta*pi*180**-1))**-1 #N\n",
      "R_G=R_F #N\n",
      "\n",
      "#Roller-1\n",
      "\n",
      "R_D=W+R_F*cos(theta*pi*180**-1) #N\n",
      "S=R_F*sin(theta*pi*180**-1) #N\n",
      "\n",
      "#Roller-2\n",
      "\n",
      "R_E=W+R_G*cos(41.81*pi*180**-1) #N\n",
      "\n",
      "#Result\n",
      "print\"Reaction at E is \",round(R_E,2),\"N\"\n",
      "print\"Reactions at D is\",round(R_D,2),\"N\"\n",
      "print\"Force S in the string is \",round(S,2),\"N\""
     ],
     "language": "python",
     "metadata": {},
     "outputs": [
      {
       "output_type": "stream",
       "stream": "stdout",
       "text": [
        "Reaction at E is  2000.0 N\n",
        "Reactions at D is 2000.0 N\n",
        "Force S in the string is  894.43 N\n"
       ]
      }
     ],
     "prompt_number": 14
    },
    {
     "cell_type": "heading",
     "level": 2,
     "metadata": {},
     "source": [
      "Example 4.17,Page No.88"
     ]
    },
    {
     "cell_type": "code",
     "collapsed": false,
     "input": [
      "import math\n",
      "\n",
      "#Declaration Of Variables\n",
      "L_OB=L_OC=L_OA=40 #cm #Radius of roller\n",
      "h=20 #cm #Height of block\n",
      "L_OD=L_OA-h #cm #Length \n",
      "W=3000 #N #Weight of roller\n",
      "\n",
      "#Calculations\n",
      "\n",
      "#LEt R_B be the reaction at B\n",
      "L_BD=((L_OB**2-L_OD**2)**0.5) #cm\n",
      "theta=arctan(L_BD*(L_OC+L_OD)**-1)*(180*pi**-1) #degree\n",
      "\n",
      "#Sum of all vertical Forces\n",
      "R_B=W*(cos(theta*pi*180**-1))**-1 #N\n",
      "\n",
      "#Sum of all horizontal Forces\n",
      "P=R_B*sin(theta*pi*180**-1) #N\n",
      "\n",
      "#Result\n",
      "print\"Reaction at B is\",round(R_B,2),\"N\"\n",
      "print\"Horizontal Reaction at C is\",round(P,2),\"N\""
     ],
     "language": "python",
     "metadata": {},
     "outputs": [
      {
       "output_type": "stream",
       "stream": "stdout",
       "text": [
        "Reaction at B is 3464.1 N\n",
        "Horizontal Reaction at C is 1732.05 N\n"
       ]
      }
     ],
     "prompt_number": 15
    },
    {
     "cell_type": "heading",
     "level": 2,
     "metadata": {},
     "source": [
      "Example 4.18,Page No.89"
     ]
    },
    {
     "cell_type": "code",
     "collapsed": false,
     "input": [
      "import math\n",
      "\n",
      "#Declaration Of Variables\n",
      "#Declaration Of Variables\n",
      "L_OB=L_OC=L_OA=40 #cm #Radius of roller\n",
      "h=20 #cm #Height of block\n",
      "L_OD=L_OA-h #cm #Length \n",
      "W=3000 #N #Weight of roller\n",
      "\n",
      "#Calculations\n",
      "\n",
      "theta=arccos(L_OD*L_OB**-1)*(pi**-1*180) #N\n",
      "\n",
      "R_B=W*(cos(theta*pi*180**-1))**-1 #N\n",
      "P=R_B*sin(theta*pi*180**-1) #N\n",
      "\n",
      "#LEt P_min be the least Force applied\n",
      "#let alpha be the angle made by least force\n",
      "#P_min=W*L_BD*L_BC**-1\n",
      "\n",
      "L_BD=((L_OB**2-L_OD**2)**0.5) #cm\n",
      "\n",
      "#But L_BC=L_BO*sin(alpha) \n",
      "\n",
      "#Force P will be min when sin(Alpha) is max.\n",
      "#thus sin(alpha)=90 or sin(alpha)=0. therefore sub value in above equation,we get min Force\n",
      "#LEt P_min be the Least Force to be applied\n",
      "P_min=W*L_BD*(L_OB*1)**-1 #N\n",
      "\n",
      "#Direction of least force is right angle to L_BO\n",
      "\n",
      "#Result\n",
      "print\"Minimum least force is\",round(P_min,2),\"N\"\n",
      "print\"Magnitude of force applied horizontally at centre of roller\",round(P,2),\"N\""
     ],
     "language": "python",
     "metadata": {},
     "outputs": [
      {
       "output_type": "stream",
       "stream": "stdout",
       "text": [
        "Minimum least force is 2598.08 N\n",
        "Magnitude of force applied horizontally at centre of roller 5196.15 N\n"
       ]
      }
     ],
     "prompt_number": 16
    },
    {
     "cell_type": "heading",
     "level": 2,
     "metadata": {},
     "source": [
      "Example 4.19,Page No.91"
     ]
    },
    {
     "cell_type": "code",
     "collapsed": false,
     "input": [
      "import math\n",
      "\n",
      "#Declaration Of Variables\n",
      "L_BC=25 #cm \n",
      "L_AB=40 #cm\n",
      "\n",
      "#Calculations\n",
      "\n",
      "#Let alpha be the angle made by force F so that body will be in equilibrium\n",
      "#Theta is angle made by R_A with horizontal,so Force F has to make same angle with horizontal\n",
      "alpha=arctan(L_AB*L_BC**-1)*(pi**-1*180) #degrees\n",
      "theta=alpha\n",
      "\n",
      "#Result\n",
      "print\"Angle theta is\",round(theta,2),\"Degrees\""
     ],
     "language": "python",
     "metadata": {},
     "outputs": [
      {
       "output_type": "stream",
       "stream": "stdout",
       "text": [
        "Angle theta is 57.99 Degrees\n"
       ]
      }
     ],
     "prompt_number": 17
    },
    {
     "cell_type": "heading",
     "level": 2,
     "metadata": {},
     "source": [
      "Example 4.20,Page No.91"
     ]
    },
    {
     "cell_type": "code",
     "collapsed": false,
     "input": [
      "import math\n",
      "\n",
      "#Declaration Of Variables\n",
      "L_AB=1.6 #m\n",
      "L_BD=1.2 #m\n",
      "L_BC=0.8 #m\n",
      "L_CD=0.4 #m\n",
      "F_C=200 #N #Force t C\n",
      "theta=60 #Degrees\n",
      "\n",
      "#Calculations\n",
      "\n",
      "\n",
      "\n",
      "#Sum of all forces in x-direction\n",
      "R_Bx=F_C #N\n",
      "\n",
      "L_BD2=L_BD*sin(theta*pi*180**-1) #m\n",
      "L_DD=L_BD*cos(theta*pi*180**-1) #m\n",
      "L_BC2=sin(theta*pi*180**-1)*L_BC #m\n",
      "\n",
      "R_D=F_C*L_BC2*L_DD**-1 #N\n",
      "R_By=R_D\n",
      "\n",
      "#Resultant reaction at B\n",
      "R_B=(R_Bx**2+R_By**2)**0.5 #N\n",
      "\n",
      "#Sum of moments at A\n",
      "M_A=R_By*L_AB\n",
      "\n",
      "\n",
      "#Result\n",
      "print\"Couple to be apllied to hold the system is\",round(M_A,2),\"N\"\n",
      "print\"Magnitude of pin reaction at B\",round(R_B,2),\"N\""
     ],
     "language": "python",
     "metadata": {},
     "outputs": [
      {
       "output_type": "stream",
       "stream": "stdout",
       "text": [
        "Couple to be apllied to hold the system is 369.5 N\n",
        "Magnitude of pin reaction at B 305.51 N\n"
       ]
      }
     ],
     "prompt_number": 18
    },
    {
     "cell_type": "heading",
     "level": 2,
     "metadata": {},
     "source": [
      "Example 4.21,Page No.93"
     ]
    },
    {
     "cell_type": "code",
     "collapsed": false,
     "input": [
      "import math\n",
      "\n",
      "#Declaration Of Variables\n",
      "W=2000 #N #Weight of chain\n",
      "L_AB=2 #m\n",
      "F_B=320 #N\n",
      "\n",
      "#Calculations\n",
      "\n",
      "#By LAmi's theorem\n",
      "#F_A*sin(90)=W*sin(180-theta)**-1=F_B*sin(90+theta)**-1\n",
      "#But sin(180-theta)=sin(theta),sin(90+theta)=cos(theta)\n",
      "#Tan(theta)=W*F_B**-1\n",
      "theta=arctan(W*F_B**-1)*(180*pi**-1) #Degrees\n",
      "\n",
      "F_A=W*(sin(theta*pi*180**-1))**-1 #N\n",
      "#Let x be the lateral distance\n",
      "x=cos(theta*pi*180**-1)*2\n",
      "\n",
      "#Result\n",
      "print\"Force in the chain is\",round(F_A,2),\"N\"\n",
      "print\"Horizontal displacement is\",round(x,2),\"m\""
     ],
     "language": "python",
     "metadata": {},
     "outputs": [
      {
       "output_type": "stream",
       "stream": "stdout",
       "text": [
        "Force in the chain is 2025.44 N\n",
        "Horizontal displacement is 0.32 m\n"
       ]
      }
     ],
     "prompt_number": 15
    }
   ],
   "metadata": {}
  }
 ]
}