{
 "metadata": {
  "name": "chapter 14.ipynb"
 },
 "nbformat": 3,
 "nbformat_minor": 0,
 "worksheets": [
  {
   "cells": [
    {
     "cell_type": "heading",
     "level": 1,
     "metadata": {},
     "source": [
      "Chapter 14:Projectiles"
     ]
    },
    {
     "cell_type": "heading",
     "level": 2,
     "metadata": {},
     "source": [
      "Example 14.1,Page No.507 "
     ]
    },
    {
     "cell_type": "code",
     "collapsed": false,
     "input": [
      "import math\n",
      "\n",
      "#Initilization of Variables\n",
      "alpha=60 #Degrees\n",
      "R=5000 #m #Horizontal Range\n",
      "g=9.81 #m/s**2 #Acceleration due to gravity\n",
      "\n",
      "#Calculation\n",
      "\n",
      "#By equation of Horizontal Range,we get\n",
      "u=((R*g)*(sin(2*alpha*pi*180**-1))**-1)**0.5 #m/s\n",
      "\n",
      "#Max Height attained by projectile\n",
      "h_max=u**2*(sin(alpha*pi*180**-1))**2*(2*g)**-1\n",
      "\n",
      "#Result\n",
      "print\"Velocity of projection is\",round(u,2),\"m/s\"\n",
      "print\"Max Height attained by projectile is\",round(h_max,2),\"m\""
     ],
     "language": "python",
     "metadata": {},
     "outputs": [
      {
       "output_type": "stream",
       "stream": "stdout",
       "text": [
        "Velocity of projection is 237.99 m/s\n",
        "Max Height attained by projectile is 2165.06 m\n"
       ]
      }
     ],
     "prompt_number": 1
    },
    {
     "cell_type": "heading",
     "level": 2,
     "metadata": {},
     "source": [
      "Example 14.2,Page No.507"
     ]
    },
    {
     "cell_type": "code",
     "collapsed": false,
     "input": [
      "import math\n",
      "\n",
      "#Initilization of Variables\n",
      "u=100 #m/s #Velocity\n",
      "alpha=30 #Degrees #Angle made by projectile with horizontal\n",
      "g=9.81 #m/s #Acceleration due to gravity\n",
      "\n",
      "#Calculation\n",
      "\n",
      "#Horizontal Range\n",
      "R=u**2*sin(2*alpha*pi*180**-1)*g**-1 #m\n",
      "\n",
      "#MAx height attained\n",
      "h_max=u**2*sin(alpha*pi*180**-1)*g**-1 #m\n",
      "\n",
      "#Time of flight\n",
      "T=2*u*sin(alpha*pi*180**-1)*g**-1 #s\n",
      "\n",
      "#Result\n",
      "print\"Horizontal Range is\",round(R,2),\"m\"\n",
      "print\"MAx Height attained is\",round(h_max,2),\"m\"\n",
      "print\"Time of Flight is\",round(T,2),\"s\"                                    "
     ],
     "language": "python",
     "metadata": {},
     "outputs": [
      {
       "output_type": "stream",
       "stream": "stdout",
       "text": [
        "Horizontal Range is 882.8 m\n",
        "MAx Height attained is 509.68 m\n",
        "Time of Flight is 10.19 s\n"
       ]
      }
     ],
     "prompt_number": 2
    },
    {
     "cell_type": "heading",
     "level": 2,
     "metadata": {},
     "source": [
      "Example 14.3,Page No.508"
     ]
    },
    {
     "cell_type": "code",
     "collapsed": false,
     "input": [
      "import math\n",
      "\n",
      "#Initilization of Variables\n",
      "#R=4*h_max\n",
      "\n",
      "#Calculation\n",
      "\n",
      "#Equation ofhorizontal Range is\n",
      "#R=u**2*sin(2*alpha)*g**-1   .........1\n",
      "\n",
      "#Equation of  MAx height \n",
      "#h_max=u**2*sin(alpha)**2*(2*g)**-1    .........2\n",
      "\n",
      "#After simplifying both equations,we get\n",
      "alpha=arctan(1)*(pi**-1*180)\n",
      "\n",
      "#Result\n",
      "print\"Angle of projections is\",round(alpha,2),\"degrees\""
     ],
     "language": "python",
     "metadata": {},
     "outputs": [
      {
       "output_type": "stream",
       "stream": "stdout",
       "text": [
        "Angle of projections is 45.0 degrees\n"
       ]
      }
     ],
     "prompt_number": 3
    },
    {
     "cell_type": "heading",
     "level": 2,
     "metadata": {},
     "source": [
      "Example 14.4,Page No.508"
     ]
    },
    {
     "cell_type": "code",
     "collapsed": false,
     "input": [
      "import math\n",
      "\n",
      "#Initilization of Variables\n",
      "u=20 #m/s #Velocity\n",
      "x=20 #m #X cordinate of trajectory\n",
      "y=8 #m #Y cordinate of trajectory\n",
      "\n",
      "#Calculation\n",
      "\n",
      "#equation of trajectory\n",
      "#y=x*tan(alpha)-g*x**2*(2*u**2*cos(alpha)**2)**-1\n",
      "#After substituting values and further simplifying we get quadratic equation\n",
      "#4.905*(tan(alpha))**2-20*tan(alpha)+12.905=0\n",
      "a=4.905\n",
      "b=-20\n",
      "c=12.905\n",
      "\n",
      "X=b**2-4*a*c\n",
      "\n",
      "y1=(-b+X**0.5)*(2*a)**-1\n",
      "y2=(-b-X**0.5)*(2*a)**-1\n",
      "\n",
      "alpha1=arctan(y1)*(pi**-1*180) #Degrees\n",
      "alpha2=arctan(y2)*(pi**-1*180) #Degrees\n",
      "\n",
      "#Result\n",
      "print\"Angle of projection of particle is:alpha1\",round(alpha1,2),\"Degrees\"\n",
      "print\"                                  :alpha2\",round(alpha2,2),\"Degrees\""
     ],
     "language": "python",
     "metadata": {},
     "outputs": [
      {
       "output_type": "stream",
       "stream": "stdout",
       "text": [
        "Angle of projection of particle is:alpha1 73.01 Degrees\n",
        "                                  :alpha2 38.79 Degrees\n"
       ]
      }
     ],
     "prompt_number": 4
    },
    {
     "cell_type": "heading",
     "level": 2,
     "metadata": {},
     "source": [
      "Example 14.5,Page No.509"
     ]
    },
    {
     "cell_type": "code",
     "collapsed": false,
     "input": [
      "import math\n",
      "\n",
      "#Initilization of Variables\n",
      "\n",
      "x=4.8 #m #X-cord of projectile\n",
      "y=3.6 #m #y-cord of projectile\n",
      "alpha=60 #Degrees #Inclination of jet\n",
      "g=9.81 #m/s**2\n",
      "\n",
      "#Calculation\n",
      "\n",
      "#Equation of trajectory\n",
      "#y=x*tan(alpha)-g*x**2*(2*u**2*cos(alpha)**2)**-1\n",
      "#After further simplifying we get\n",
      "u=((g*x**2)*(2*(cos(alpha*pi*180**-1))**2*((x*tan(alpha*pi*180**-1))-y))**-1)**0.5 #m/s\n",
      "\n",
      "#Result\n",
      "print\"required velocity of jet at nozzle exit is\",round(u,2),\"m/s\""
     ],
     "language": "python",
     "metadata": {},
     "outputs": [
      {
       "output_type": "stream",
       "stream": "stdout",
       "text": [
        "required velocity of jet at nozzle exit is 9.79 m/s\n"
       ]
      }
     ],
     "prompt_number": 5
    },
    {
     "cell_type": "heading",
     "level": 2,
     "metadata": {},
     "source": [
      "Example 14.6,Page No.510"
     ]
    },
    {
     "cell_type": "code",
     "collapsed": false,
     "input": [
      "import math\n",
      "\n",
      "#Initilization of Variables\n",
      "\n",
      "u=250 #m/s #Velocity\n",
      "x=4000 #m #x-cord\n",
      "y=700 #m #y-cord\n",
      "\n",
      "#Calculation\n",
      "\n",
      "#equation of trajectory\n",
      "#y=x*tan(alpha)-g*x**2*(2*u**2*cos(alpha)**2)**-1\n",
      "#After substituting values and further simplifying we get quadratic equation\n",
      "#1255.68*tan(alpha)**2-4000*tan(alpha)+1955.68=0\n",
      "a=1255.68\n",
      "b=-4000\n",
      "c=1955.68\n",
      "\n",
      "X=b**2-4*a*c\n",
      "\n",
      "y1=(-b+X**0.5)*(2*a)**-1\n",
      "y2=(-b-X**0.5)*(2*a)**-1\n",
      "\n",
      "alpha1=arctan(y1)*(pi**-1*180) #Degrees\n",
      "alpha2=arctan(y2)*(pi**-1*180) #Degrees\n",
      "\n",
      "#Result\n",
      "print\"Firing angle to hit the target is:alpha1\",round(alpha1,2),\"Degrees\"\n",
      "print\"                                 :alpha2\",round(alpha2,2),\"Degrees\""
     ],
     "language": "python",
     "metadata": {},
     "outputs": [
      {
       "output_type": "stream",
       "stream": "stdout",
       "text": [
        "Firing angle to hit the target is:alpha1 68.83 Degrees\n",
        "                                 :alpha2 31.09 Degrees\n"
       ]
      }
     ],
     "prompt_number": 6
    },
    {
     "cell_type": "heading",
     "level": 2,
     "metadata": {},
     "source": [
      "Example 14.7,Page No.511"
     ]
    },
    {
     "cell_type": "code",
     "collapsed": false,
     "input": [
      "import math\n",
      "\n",
      "#Initilization of Variables\n",
      "\n",
      "alpha1=15 #Degrees #Angle of projectile 1\n",
      "alpha2=45 #Degrees #Angle of projectile2\n",
      "g=9.81 #m/s**2\n",
      "#R1=R-12\n",
      "#R2=R+24\n",
      "\n",
      "#Calculation\n",
      "\n",
      "#form Equation of horizontal Range we get,\n",
      "#R-12=u**2*sin(2*alpha1)*g**-1  ..................1\n",
      "\n",
      "#R+24=u**2*sin(2*alpha2)*g**-1   ....................2\n",
      "\n",
      "#Dividing equation 1 by 2 and further simplifying we get\n",
      "R=24+24 #m\n",
      "\n",
      "#Sub value of R in equation 2 we get\n",
      "#u**2=g*72\n",
      "\n",
      "#Sub values of R and u**2 in equation of horizontal range we get\n",
      "#sin(2*alpha)=R*g*(g*72)**-1\n",
      "#LEt sin(2*alpha)=X\n",
      "X=R*g*(g*72)**-1\n",
      "alpha=(arcsin(X)*(180*pi**-1))*2**-1\n",
      "\n",
      "#Result\n",
      "print\"Angle of projection to hit the mark is\",round(alpha,2)"
     ],
     "language": "python",
     "metadata": {},
     "outputs": [
      {
       "output_type": "stream",
       "stream": "stdout",
       "text": [
        "Angle of projection to hit the mark is 20.91\n"
       ]
      }
     ],
     "prompt_number": 7
    },
    {
     "cell_type": "heading",
     "level": 2,
     "metadata": {},
     "source": [
      "Example 14.8,Page No.512"
     ]
    },
    {
     "cell_type": "code",
     "collapsed": false,
     "input": [
      "import math\n",
      "\n",
      "#Initilization of Variables\n",
      "\n",
      "u=100 #m/s #initial Velocity\n",
      "alpha=30 #DEgrees #Angle of projection\n",
      "g=9.81 #m/s**2\n",
      "h=80 #m #Height below B\n",
      "\n",
      "#Calculation\n",
      "\n",
      "#Max Height \n",
      "H=u**2*(sin(alpha*pi*180**-1))**2*(2*g)**-1 #m\n",
      "\n",
      "#Vertical Distance\n",
      "S=H+h #m\n",
      "\n",
      "#Vertical Component of velocity striking the target\n",
      "v2=(2*g*S)**0.5 #m/s\n",
      "\n",
      "#Horizontal component of velocity\n",
      "v=u*cos(alpha*pi*180**-1)\n",
      "\n",
      "#Actual Velocity with which bullet strikes the target\n",
      "V=(v2**2+v**2)**0.5\n",
      "\n",
      "#Angle made by actual velocity striking velocity\n",
      "theta=arctan(v2*v**-1)*(pi**-1*180)\n",
      "\n",
      "#Result\n",
      "print\"Max height attained by bullet\",round(H,2),\"m\"\n",
      "print\"Actual Velocity with which it will strike the target\",round(theta,2),\"Degrees\""
     ],
     "language": "python",
     "metadata": {},
     "outputs": [
      {
       "output_type": "stream",
       "stream": "stdout",
       "text": [
        "Max height attained by bullet 127.42 m\n",
        "Actual Velocity with which it will strike the target 36.38 Degrees\n"
       ]
      }
     ],
     "prompt_number": 8
    },
    {
     "cell_type": "heading",
     "level": 2,
     "metadata": {},
     "source": [
      "Example 14.9,Page No.514"
     ]
    },
    {
     "cell_type": "code",
     "collapsed": false,
     "input": [
      "import math\n",
      "\n",
      "#Initilization of Variables\n",
      "h=150 #m #Height of cliff\n",
      "u=180 #m/s #Initial Velocity\n",
      "alpha=30 #ANgle of projection\n",
      "\n",
      "#Calculation\n",
      "\n",
      "#From equation of vertical Distance\n",
      "#y=u*sin(Alpha)*t-0.5*g*t**2\n",
      "#Sub values and further simplifying we get\n",
      "#4.905t**2-90*t-150=0\n",
      "a=4.905 \n",
      "b=-90\n",
      "c=-150\n",
      "\n",
      "X=(b**2-4*a*c)**0.5\n",
      "\n",
      "#Total time of flight\n",
      "t=(-b+(X))*(2*a)**-1\n",
      "\n",
      "#Horizontal Distance \n",
      "h1=u*cos(alpha*pi*180**-1)*t\n",
      "\n",
      "#MAx Height \n",
      "H=u**2*sin(alpha*pi*180**-1)**2*(2*g)**-1 #m\n",
      "\n",
      "#ELEvation above the ground\n",
      "H2=h+H #m\n",
      "\n",
      "#Result\n",
      "print\"Horizontal Distance from gun is\",round(h1,2),\"m\"\n",
      "print\"Elevation above the ground\",round(H2,2),\"m\""
     ],
     "language": "python",
     "metadata": {},
     "outputs": [
      {
       "output_type": "stream",
       "stream": "stdout",
       "text": [
        "Horizontal Distance from gun is 3099.98 m\n",
        "Elevation above the ground 562.84 m\n"
       ]
      }
     ],
     "prompt_number": 9
    },
    {
     "cell_type": "heading",
     "level": 2,
     "metadata": {},
     "source": [
      "Example 14.10,Page No.515"
     ]
    },
    {
     "cell_type": "code",
     "collapsed": false,
     "input": [
      "import math\n",
      "\n",
      "#Initilization of Variables\n",
      "\n",
      "h=6 #m #Height of tunnel\n",
      "u=50 #m/s #Initial Velocity\n",
      "g=9.81\n",
      "\n",
      "#Calculation\n",
      "\n",
      "alpha=arcsin(((h*2*g)*((u**2)**-1))**0.5)*(pi**-1*180)\n",
      "\n",
      "#Horizontal Range \n",
      "R=u**2*sin(2*alpha*pi*180**-1)*g**-1\n",
      "\n",
      "#Result\n",
      "print\"Angle of projection is\",round(alpha,2),\"DEgrees\"\n",
      "print\"Horizontal Range is\",round(R,2),\"m\""
     ],
     "language": "python",
     "metadata": {},
     "outputs": [
      {
       "output_type": "stream",
       "stream": "stdout",
       "text": [
        "Angle of projection is 12.53 DEgrees\n",
        "Horizontal Range is 107.96 m\n"
       ]
      }
     ],
     "prompt_number": 10
    },
    {
     "cell_type": "heading",
     "level": 2,
     "metadata": {},
     "source": [
      "Example 14.11,Page No.516"
     ]
    },
    {
     "cell_type": "code",
     "collapsed": false,
     "input": [
      "import math\n",
      "\n",
      "#Initilization of Variables\n",
      "alpha1=30 #Degrees #Angle of projection1\n",
      "alpha2=30 #Degrees #Angle of projection2\n",
      "u1=350 #m/s #Velocity of projection at A\n",
      "u2=300 #m/s #Velocity of projection at B\n",
      "L_AB=30 #m #distance between A nd B\n",
      "g=9.81 #m/s**2 \n",
      "\n",
      "#Calculation\n",
      "\n",
      "#Length AD\n",
      "L_AD=L_AB*cos(alpha1*pi*180**-1)\n",
      "\n",
      "#Horizontal component of velocity at A\n",
      "V_A=u1*cos(alpha1*pi*180) #m/s\n",
      "\n",
      "#Horizontal component of velocity at B\n",
      "V_B=u2*cos(alpha2*pi*180) #m/s\n",
      "\n",
      "#Horizontal Distance covered by shot A\n",
      "#x=(u1*cos(alpha1)*t   ..........................1\n",
      "\n",
      "#Horizontal Distance covered by shot B\n",
      "#15*(3)**0.5-x=(u2*cos(alpha2))*t   ................2\n",
      "\n",
      "#Adding Equations 1 and 2 we get\n",
      "t=15*(3)**0.5*((u1+u2)*cos(alpha1*pi*180**-1))**-1\n",
      "\n",
      "#sub values in equation 1 we get\n",
      "x=(u1*cos(alpha1*pi*180**-1))*t\n",
      "\n",
      "#Intial velocity shot in vertical direction\n",
      "V2=u1*sin(alpha1*pi*180**-1) #m/s\n",
      "\n",
      "#Distance in vertical direction\n",
      "y=V2*t-g*t**2*2**-1\n",
      "\n",
      "#Result\n",
      "print\"Time when these two shots meet\",round(t,2),\"s\"\n",
      "print\"Vertical Distance at which they meet\",round(y,3),\"m\""
     ],
     "language": "python",
     "metadata": {},
     "outputs": [
      {
       "output_type": "stream",
       "stream": "stdout",
       "text": [
        "Time when these two shots meet 0.05 s\n",
        "Vertical Distance at which they meet 8.066 m\n"
       ]
      }
     ],
     "prompt_number": 11
    },
    {
     "cell_type": "heading",
     "level": 2,
     "metadata": {},
     "source": [
      "Example 14.12,Page No.518"
     ]
    },
    {
     "cell_type": "code",
     "collapsed": false,
     "input": [
      "import math\n",
      "\n",
      "#Initilization of Variables\n",
      "v=720*10**3*3600**-1 #m/s #Speed of air craft\n",
      "u=200 #m/s #Velocity of bomb\n",
      "H=1000 #m #Height\n",
      "\n",
      "#Calculation\n",
      "\n",
      "#Time requaired by bomb\n",
      "t=(H*2*g**-1)**0.5 #s\n",
      "\n",
      "#Horizontal distance of air craft\n",
      "h=u*round(t,3) #m\n",
      "\n",
      "#Result\n",
      "print\"Time requaired by bomb to reach the ground\",round(t,2),\"s\"\n",
      "print\"Horizontal distance of air craft\",round(h,2),\"m\""
     ],
     "language": "python",
     "metadata": {},
     "outputs": [
      {
       "output_type": "stream",
       "stream": "stdout",
       "text": [
        "Time requaired by bomb to reach the ground 14.28 s\n",
        "Horizontal distance of air craft 2855.6 m\n"
       ]
      }
     ],
     "prompt_number": 12
    },
    {
     "cell_type": "heading",
     "level": 2,
     "metadata": {},
     "source": [
      "Example 14.13,Page No.519"
     ]
    },
    {
     "cell_type": "code",
     "collapsed": false,
     "input": [
      "import math\n",
      "\n",
      "#Initilization of Variables\n",
      "\n",
      "v=108*10**3*3600**-1 #m/s #Spedd of air craft\n",
      "u=30 #m/s #Horizontal Velocity\n",
      "H=1000 #m #Height\n",
      "g=9.81 #m/s**2\n",
      "\n",
      "#Calculation\n",
      "\n",
      "#Time taken by bomb\n",
      "t=(H*2*g**-1)**0.5 #s\n",
      "\n",
      "#Horizontal Distance OB\n",
      "h=u*t #m\n",
      "\n",
      "#Velocity of bomb hitting the ground\n",
      "V=g*t #m/s**2\n",
      "\n",
      "#Resultant Velocity\n",
      "V2=(u**2+V**2)**0.5 #m/s\n",
      "\n",
      "#Direction in which the bomb hits the ground\n",
      "theta=arctan(V*u**-1)*(180*pi**-1)\n",
      "\n",
      "#Result\n",
      "print\"HOrizontal Distance of air craft from target\",round(h,2),\"m\"\n",
      "print\"Velocity of bomb\",round(V2,2),\"m/s\"\n",
      "print\"Direction of bomb\",round(theta,2),\"Degrees\""
     ],
     "language": "python",
     "metadata": {},
     "outputs": [
      {
       "output_type": "stream",
       "stream": "stdout",
       "text": [
        "HOrizontal Distance of air craft from target 428.35 m\n",
        "Velocity of bomb 143.25 m/s\n",
        "Direction of bomb 77.91 Degrees\n"
       ]
      }
     ],
     "prompt_number": 13
    },
    {
     "cell_type": "heading",
     "level": 2,
     "metadata": {},
     "source": [
      "Example 14.14,Page No.520"
     ]
    },
    {
     "cell_type": "code",
     "collapsed": false,
     "input": [
      "import math\n",
      "\n",
      "#Initilization of Variables\n",
      "H=2000 #m #Height of aeroplane\n",
      "u=10**6*3600**-1 #Velocity of plane #m/s\n",
      "g=9.8 #m/s**2\n",
      "\n",
      "#Calculation\n",
      "\n",
      "#Time required by bomb\n",
      "t=(2*H*g**-1)**0.5 #s\n",
      "\n",
      "#Horizontal Distance travelled by bomb\n",
      "h=u*t #m\n",
      "\n",
      "#Result\n",
      "print\"Time required by bomb to reach the ground\",round(t,2),\"s\"\n",
      "print\"Horizontal Distance travelled by bomb\",round(h,2),\"m\""
     ],
     "language": "python",
     "metadata": {},
     "outputs": [
      {
       "output_type": "stream",
       "stream": "stdout",
       "text": [
        "Time required by bomb to reach the ground 20.2 s\n",
        "Horizontal Distance travelled by bomb 5611.96 m\n"
       ]
      }
     ],
     "prompt_number": 14
    },
    {
     "cell_type": "heading",
     "level": 2,
     "metadata": {},
     "source": [
      "Example 14.16,Page No.521"
     ]
    },
    {
     "cell_type": "code",
     "collapsed": false,
     "input": [
      "import math\n",
      "\n",
      "#Initilization of Variables\n",
      "L_AB1=4 #m #LEngth of AB in Horizontal Distance\n",
      "L_AB2=2 #m #LEngth of AB in Vertical Distance\n",
      "g=9.81 #m/s**2 \n",
      "\n",
      "#Calculation\n",
      "\n",
      "#time\n",
      "t=((L_AB2*2)*(9.81)**-1)**0.5\n",
      "\n",
      "#Minimum veloacity of motorcyclye at A in Horizontal Direction\n",
      "u=L_AB1*t**-1 #m/s\n",
      "\n",
      "#Vertical Component of velocity\n",
      "v=g*t #m/s\n",
      "\n",
      "#Resultant velocity at B\n",
      "V=(u**2+v**2)**0.5*3600*(10**3)**-1 #km/hr\n",
      "\n",
      "#Inclination\n",
      "theta=arctan(v*u**-1)*(180*pi**-1)\n",
      "\n",
      "#Result\n",
      "print\"Inclination of motorcycle clearing the ditch\",round(theta,2),\"Degrees\"\n",
      "print\"MAgnitude of velocity of motorcycleafter clearing ditch\",round(V,2),\"km/hr\""
     ],
     "language": "python",
     "metadata": {},
     "outputs": [
      {
       "output_type": "stream",
       "stream": "stdout",
       "text": [
        "Inclination of motorcycle clearing the ditch 45.0 Degrees\n",
        "MAgnitude of velocity of motorcycleafter clearing ditch 31.89 km/hr\n"
       ]
      }
     ],
     "prompt_number": 15
    },
    {
     "cell_type": "heading",
     "level": 2,
     "metadata": {},
     "source": [
      "Example 14.17,Page No.522"
     ]
    },
    {
     "cell_type": "code",
     "collapsed": false,
     "input": [
      "import math\n",
      "\n",
      "#Initilization of Variables\n",
      "alpha=25 #Degrees #Angle of ramp\n",
      "L_BC1=4 #m #Horizontal Distance between B and C\n",
      "L_BC2=2 #m #vertical Distance between B and C\n",
      "g=9.81 #m/s**2\n",
      "\n",
      "#Calculation\n",
      "\n",
      "##From equation of path \n",
      "X=(L_BC2+L_BC1*tan(alpha*pi*180**-1))\n",
      "Y=(g*L_BC1**2)*(2*(cos(alpha*pi*180**-1))**2)**-1\n",
      "u=(X**-1*Y)**0.5\n",
      "\n",
      "#Result\n",
      "print\"Minimum speed of motorcycle is\",round(u,2),\"m/s\""
     ],
     "language": "python",
     "metadata": {},
     "outputs": [
      {
       "output_type": "stream",
       "stream": "stdout",
       "text": [
        "Minimum speed of motorcycle is 4.97 m/s\n"
       ]
      }
     ],
     "prompt_number": 16
    },
    {
     "cell_type": "heading",
     "level": 2,
     "metadata": {},
     "source": [
      "Example 14.18,Page No.526"
     ]
    },
    {
     "cell_type": "code",
     "collapsed": false,
     "input": [
      "import math\n",
      "\n",
      "#Initilization of Variables\n",
      "u=40 #m/s #Velocity of projection\n",
      "alpha=50 #Degrees #Angle of projection\n",
      "beta=20 #degrees #Ang;e if incline plane\n",
      "\n",
      "#Calculation\n",
      "\n",
      "#Time of flight\n",
      "T=2*u*sin((alpha-beta)*pi*180**-1)*(g*cos(beta*pi*180**-1))**-1\n",
      "\n",
      "#Range \n",
      "R=2*u**2*cos(alpha*pi*180**-1)*sin((alpha-beta)*pi*180**-1)*(g*(cos(beta*pi*180**-1))**2)**-1\n",
      "\n",
      "#Let alpha2 be the angle of projection for max range\n",
      "alpha2=(90+beta)*2**-1\n",
      "\n",
      "#MAx range up the plane\n",
      "R2=u**2*(g*(1+sin(beta*pi*180**-1)))**-1\n",
      "\n",
      "#Result\n",
      "print\"Time of flight is\",round(T,2),\"s\"\n",
      "print\"range up the plane is\",round(R,2),\"m\"\n",
      "print\"Max range up the plane\",round(R2,2),\"m\""
     ],
     "language": "python",
     "metadata": {},
     "outputs": [
      {
       "output_type": "stream",
       "stream": "stdout",
       "text": [
        "Time of flight is 4.34 s\n",
        "range up the plane is 118.73 m\n",
        "Max range up the plane 121.53 m\n"
       ]
      }
     ],
     "prompt_number": 17
    },
    {
     "cell_type": "heading",
     "level": 2,
     "metadata": {},
     "source": [
      "Example 14.19,Page No.527"
     ]
    },
    {
     "cell_type": "code",
     "collapsed": false,
     "input": [
      "import math\n",
      "\n",
      "#Initilization of Variables\n",
      "\n",
      "u=30 #m/s #velocity\n",
      "alpha=55 #angle of projection\n",
      "beta=20 #angle of plane\n",
      "g=9.81\n",
      "\n",
      "#Calculation\n",
      "#Maximum Range\n",
      "R=u**2*(g*(1+sin(beta*pi*180**-1)))**-1 #m\n",
      "\n",
      "#Time of Flight\n",
      "T=2*u*sin((alpha-beta)*pi*180**-1)*(g*cos(beta*pi*180**-1))**-1\n",
      "\n",
      "#Result\n",
      "print\"Time of Fliight is\",round(T,2),\"s\"\n",
      "print\"Maximum Range is \",round(R,2),\"m\""
     ],
     "language": "python",
     "metadata": {},
     "outputs": [
      {
       "output_type": "stream",
       "stream": "stdout",
       "text": [
        "Time of Fliight is 3.73 s\n",
        "Maximum Range is  68.36 m\n"
       ]
      }
     ],
     "prompt_number": 18
    },
    {
     "cell_type": "heading",
     "level": 2,
     "metadata": {},
     "source": [
      "Example 14.20,Page No.527"
     ]
    },
    {
     "cell_type": "code",
     "collapsed": false,
     "input": [
      "import math\n",
      "\n",
      "#Initilization of Variables\n",
      "\n",
      "u=3 #m/s #Velocity of projection\n",
      "alpha=25 #Degrees #Angle of projection\n",
      "beta=25 #degrees #Angle of plane with horizontal\n",
      "g=9.81 #m/s**2\n",
      "\n",
      "#Calculation\n",
      "\n",
      "#Range\n",
      "R=2*u**2*cos(alpha*pi*180**-1)*sin((alpha+beta)*pi*180**-1)*(g*(cos(beta*pi*180**-1))**2)**-1\n",
      "\n",
      "#L_BC=y\n",
      "#L_AC=x\n",
      "\n",
      "#From tan(beta) we get\n",
      "#y=0.466*x   .................(1)\n",
      "\n",
      "#From Equation (L_AB)**2=(L_BC**2+L_AC)**2\n",
      "#After sub values and further simplifying we get\n",
      "x=(2.4*(1.217)**-1)**0.5 #m\n",
      "\n",
      "#Sub in equation 1 we get\n",
      "y=0.466*x\n",
      "\n",
      "#Result\n",
      "print\"Co-ordinates of point B are:x\",round(x,2),\"m\"\n",
      "print\"                           :y\",round(y,2),\"m\""
     ],
     "language": "python",
     "metadata": {},
     "outputs": [
      {
       "output_type": "stream",
       "stream": "stdout",
       "text": [
        "Co-ordinates of point B are:x 1.4 m\n",
        "                           :y 0.65 m\n"
       ]
      }
     ],
     "prompt_number": 12
    },
    {
     "cell_type": "heading",
     "level": 2,
     "metadata": {},
     "source": [
      "Example 14.21,Page No.528"
     ]
    },
    {
     "cell_type": "code",
     "collapsed": false,
     "input": [
      "import math\n",
      "\n",
      "#Initilization of Variables\n",
      "\n",
      "L_AB=75 #m #LEngth of AB\n",
      "h=19.6 #m #Height of point of release\n",
      "beta=26.564 #Degrees #angle of plane \n",
      "\n",
      "#Calculation\n",
      "\n",
      "#Length AC\n",
      "L_AC=L_AB*cos(beta*pi*180**-1) #m\n",
      "\n",
      "#From horizontal Distance \n",
      "#u*cos(alpha)=L_AC*t**-1   .............1\n",
      "\n",
      "#Vertical motion motion from point of release\n",
      "#u*sin(alpha)=19.6   ....................2\n",
      "\n",
      "#vertical Distance\n",
      "y=L_AB*sin(beta*pi*180**-1) #m\n",
      "\n",
      "#Vertical distance from point of release travelled by ball\n",
      "#y=u*sin(alpha)*t-0.5*g*t**2\n",
      "\n",
      "#sub value of y in above equation and further simplifyin we get\n",
      "#t**2-4t-6.84=0\n",
      "a=1\n",
      "b=-4\n",
      "c=-6.84\n",
      "\n",
      "X=b**2-4*a*c\n",
      "\n",
      "t=(-b+X**0.5)*(2*a)**-1\n",
      "\n",
      "#sub value in equation 1 we get\n",
      "#Let ucos(alpha)=X\n",
      "X=67.08*t**-1  #..........................3\n",
      "\n",
      "#Dividing equation 1 by 3 we get\n",
      "alpha=arctan(19.6*12.68**-1)*(180*pi**-1)\n",
      "\n",
      "#sub in equation 1 we get\n",
      "u=12.68*cos(alpha*pi*180**-1)**-1\n",
      "\n",
      "#Result\n",
      "print\"Initial Velocity\",round(u,2),\"m/s\"\n",
      "print\"Inclination is\",round(alpha,4),\"Degrees\""
     ],
     "language": "python",
     "metadata": {},
     "outputs": [
      {
       "output_type": "stream",
       "stream": "stdout",
       "text": [
        "Initial Velocity 23.34 m/s\n",
        "Inclination is 57.0996 Degrees\n"
       ]
      }
     ],
     "prompt_number": 10
    }
   ],
   "metadata": {}
  }
 ]
}