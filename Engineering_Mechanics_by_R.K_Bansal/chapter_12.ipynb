{
 "metadata": {
  "name": "chapter 12.ipynb"
 },
 "nbformat": 3,
 "nbformat_minor": 0,
 "worksheets": [
  {
   "cells": [
    {
     "cell_type": "heading",
     "level": 1,
     "metadata": {},
     "source": [
      "Chapter 12:Kinematics of Linear Motion"
     ]
    },
    {
     "cell_type": "heading",
     "level": 2,
     "metadata": {},
     "source": [
      "Example 12.1,Page No.437"
     ]
    },
    {
     "cell_type": "code",
     "collapsed": false,
     "input": [
      "import math\n",
      "\n",
      "#Initilization of Variables\n",
      "\n",
      "u=2 #m/s #Initial velocity\n",
      "v=5 #m/s #Final Velocity\n",
      "t=4 #sec\n",
      "\n",
      "#Calculations\n",
      "\n",
      "a=(v-u)*t**-1 #m/s**2\n",
      "\n",
      "#Result\n",
      "print\"Acceleration of the body is\",round(a,2),\"m/s**2\""
     ],
     "language": "python",
     "metadata": {},
     "outputs": [
      {
       "output_type": "stream",
       "stream": "stdout",
       "text": [
        "Acceleration of the body is 0.75 m/s**2\n"
       ]
      }
     ],
     "prompt_number": 1
    },
    {
     "cell_type": "heading",
     "level": 2,
     "metadata": {},
     "source": [
      "Example 12.2,Page No.437"
     ]
    },
    {
     "cell_type": "code",
     "collapsed": false,
     "input": [
      "import math\n",
      "\n",
      "#Initilization of Variables\n",
      "\n",
      "u=15 #m/s #Intital velocity\n",
      "v=0 #m/s #Final velocity\n",
      "t=5 #sec\n",
      "\n",
      "#Calculations\n",
      "\n",
      "#acceleration\n",
      "a=u*t**-1 #m/s**2\n",
      "\n",
      "#Distance\n",
      "S=u*t-a*t**2*0.5\n",
      "\n",
      "#Result\n",
      "print\"Retardation is\",round(a,2),\"m/s**2\"\n",
      "print\"Distance travelled by the car is\",round(S,2),\"m\""
     ],
     "language": "python",
     "metadata": {},
     "outputs": [
      {
       "output_type": "stream",
       "stream": "stdout",
       "text": [
        "Retardation is 3.0 m/s**2\n",
        "Distance travelled by the car is 37.5 m\n"
       ]
      }
     ],
     "prompt_number": 2
    },
    {
     "cell_type": "heading",
     "level": 2,
     "metadata": {},
     "source": [
      "Example 12.3,Page No.437"
     ]
    },
    {
     "cell_type": "code",
     "collapsed": false,
     "input": [
      "import math\n",
      "\n",
      "#Initilization of Variables\n",
      "\n",
      "u=250 #m/s #Initial Velocity\n",
      "v=0  #m/s #final Velocity\n",
      "s1=0.40 #m #Distance\n",
      "s2=0.20 #m #distance moved\n",
      "\n",
      "#Calculations\n",
      "\n",
      "#acceleration\n",
      "a=u**2*(2*s1)**-1 #m/s**2\n",
      "\n",
      "#velocity\n",
      "v=(u**2-2*a*s2)**0.5 #m/s\n",
      "\n",
      "\n",
      "#Result\n",
      "print\"Acceleration is\",round(a,2),\"m/s**2\"\n",
      "print\"Velocity is\",round(v,2),\"m/s\""
     ],
     "language": "python",
     "metadata": {},
     "outputs": [
      {
       "output_type": "stream",
       "stream": "stdout",
       "text": [
        "Acceleration is 78125.0 m/s**2\n",
        "Velocity is 176.78 m/s\n"
       ]
      }
     ],
     "prompt_number": 3
    },
    {
     "cell_type": "heading",
     "level": 2,
     "metadata": {},
     "source": [
      "Example 12.4,Page No.438"
     ]
    },
    {
     "cell_type": "code",
     "collapsed": false,
     "input": [
      "import math\n",
      "\n",
      "#Initilization of Variables\n",
      "\n",
      "L_AB=100 #m #Distance AB\n",
      "L_BC=100 #m #distance BC\n",
      "t1=10 #s #Time taken by car from A to B\n",
      "t2=8 #s #Time taken by car from B to C\n",
      "s=100 #m #Distance\n",
      "L_AC=L_AB+L_BC #m\n",
      "\n",
      "#Calculations\n",
      "\n",
      "#From equation of distance we get value of velocity\n",
      "#s=10*V_A+50*a   ...........................1\n",
      "\n",
      "#again using equation of distance we get\n",
      "#L_AC=18*V_A+162*a   .........................2\n",
      "\n",
      "#After simplifying above equations we get equations like\n",
      "#900=90*V_A+450*a   ......................3\n",
      "#1000=90*V_A+810*a   ..............4\n",
      "\n",
      "#Subtracting equations 3 by 4 we get\n",
      "a=100*360**-1 #m/s**2\n",
      "\n",
      "#Velocity of car A\n",
      "V_A=(100-13.9)*10**-1 #m/s\n",
      "\n",
      "#Velocity of car B\n",
      "V_B=(L_BC-(a*t2**2*0.5))*t2**-1 #m/s\n",
      "\n",
      "#Distance OA\n",
      "s3=V_A**2*(2*a)**-1 #m/s\n",
      "\n",
      "#Result\n",
      "print\"Acceleration of car is\",round(a,2),\"m/s**2\"\n",
      "print\"Velocity of car A\",round(V_A,2),\"m/s\"\n",
      "print\"Velocity of car B\",round(V_B,2),\"m/s\"\n",
      "print\"distance of mark A from starting point is\",round(s3,2),\"m\""
     ],
     "language": "python",
     "metadata": {},
     "outputs": [
      {
       "output_type": "stream",
       "stream": "stdout",
       "text": [
        "Acceleration of car is 0.28 m/s**2\n",
        "Velocity of car A 8.61 m/s\n",
        "Velocity of car B 11.39 m/s\n",
        "distance of mark A from starting point is 133.44 m\n"
       ]
      }
     ],
     "prompt_number": 4
    },
    {
     "cell_type": "heading",
     "level": 2,
     "metadata": {},
     "source": [
      "Example 12.5,Page No.440"
     ]
    },
    {
     "cell_type": "code",
     "collapsed": false,
     "input": [
      "import math\n",
      "\n",
      "#Initilization of Variables\n",
      "\n",
      "u=0 #m/s  #Initial velocity\n",
      "a=2 #m/s**2 #Acceleration\n",
      "u2=40 #m/s #Uniform velocity\n",
      "\n",
      "#Calculations\n",
      "\n",
      "#after simplifying Distance travelled we get\n",
      "#t**2+20t+100=0  .................1\n",
      "\n",
      "#Distance travelled by police party=40*t ..........2\n",
      "\n",
      "#Equating equations 1 and 2 we get\n",
      "#t**2-20*t+100\n",
      "a=1\n",
      "b=-20\n",
      "c=100\n",
      "\n",
      "X=b**-4*a*c\n",
      "\n",
      "t=(-b+X**0.5)*(2*a)**-1 #s\n",
      "\n",
      "#Result\n",
      "print\"TIme taken in which police van will overtake the car is\",round(t,2),\"s\""
     ],
     "language": "python",
     "metadata": {},
     "outputs": [
      {
       "output_type": "stream",
       "stream": "stdout",
       "text": [
        "TIme taken in which police van will overtake the car is 10.01 s\n"
       ]
      }
     ],
     "prompt_number": 5
    },
    {
     "cell_type": "heading",
     "level": 2,
     "metadata": {},
     "source": [
      "Example 12.6,Page No.440"
     ]
    },
    {
     "cell_type": "code",
     "collapsed": false,
     "input": [
      "import math\n",
      "\n",
      "#Initilization of Variables\n",
      "\n",
      "v=10 #m/s #uniform Velocity\n",
      "a=1 #m/s**2 #Uniform acceleration\n",
      "u=10 #m/s #uniform velocity\n",
      "\n",
      "#Calculations\n",
      "\n",
      "#From distance equation and further simplifying we get\n",
      "#S=(t**2+100-20*t)  .................1\n",
      "\n",
      "#again sub value in distance we get\n",
      "#S=u*t   ............2\n",
      "\n",
      "#Equating two equations and further simplifying we get\n",
      "#t**2-40*t+100=0\n",
      "a=1\n",
      "b=-40\n",
      "c=100\n",
      "\n",
      "X=b**2-4*a*c\n",
      "\n",
      "t1=(-b+X**0.5)*(2*a)**-1 #s\n",
      "t2=(-b-X**0.5)*(2*a)**-1 #s\n",
      "\n",
      "#time required to catch smugglers car is\n",
      "t3=(t1-10)\n",
      "\n",
      "#Result\n",
      "print\"Time necesscary for the jeep to catch up with the smuggler's car is\",round(t3,2),\"s\""
     ],
     "language": "python",
     "metadata": {},
     "outputs": [
      {
       "output_type": "stream",
       "stream": "stdout",
       "text": [
        "Time necesscary for the jeep to catch up with the smuggler's car is 27.32 s\n"
       ]
      }
     ],
     "prompt_number": 6
    },
    {
     "cell_type": "heading",
     "level": 2,
     "metadata": {},
     "source": [
      "Example 12.6(A),Page No.442"
     ]
    },
    {
     "cell_type": "code",
     "collapsed": false,
     "input": [
      "import math\n",
      "\n",
      "#Initilization of Variables\n",
      "\n",
      "u=0\n",
      "a=4 #m/s**2\n",
      "t1=7 #s\n",
      "t2=6 #s\n",
      "\n",
      "#Calculations\n",
      "\n",
      "#Distance travelled in 7 seconds\n",
      "S7=u*t1+0.5*a*t1**2 #m\n",
      "\n",
      "#DistANCE TRAVELLED in 6 seconds\n",
      "S6=u*t2+0.5*a*t2**2 #m\n",
      "\n",
      "#Distance travelled in 7th second\n",
      "S7_2=S7-S6\n",
      "\n",
      "#Result\n",
      "print\"Distance travelled in 7th second is\",round(S7_2,2),\"s\""
     ],
     "language": "python",
     "metadata": {},
     "outputs": [
      {
       "output_type": "stream",
       "stream": "stdout",
       "text": [
        "Distance travelled in 7th second is 26.0 s\n"
       ]
      }
     ],
     "prompt_number": 7
    },
    {
     "cell_type": "heading",
     "level": 2,
     "metadata": {},
     "source": [
      "Example 12.7,Page No.442"
     ]
    },
    {
     "cell_type": "code",
     "collapsed": false,
     "input": [
      "import math\n",
      "\n",
      "#Initilization of Variables\n",
      "\n",
      "S5=15 #m  #Distance travelled for 5 th seconds\n",
      "S10=25 #m #Distance travelled for 10 th seconds\n",
      "n1=10\n",
      "n2=5\n",
      "\n",
      "#Calculations\n",
      "\n",
      "#Equation for distance covered for nth seconds\n",
      "#S=u+a*2**-1\n",
      "\n",
      "#distance covered in 10 th second\n",
      "#S10=u+a*2**-1*(2*n1-1)  ...................1\n",
      "\n",
      "#distance covered in 5 th second\n",
      "#S5=u+a*2**-1*(2*n2-1)  .........................2\n",
      "\n",
      "#Subtracting equation 2 by 1 we get\n",
      "a=10*(19-9)**-1*2\n",
      "\n",
      "u=S5-9*2**-1*2\n",
      "\n",
      "#Result\n",
      "print\"Initial Velocity of the body is\",round(a,2),\"m/s**2\"\n",
      "print\"Acceleration of the body is\",round(u,2),\"m/s**2\""
     ],
     "language": "python",
     "metadata": {},
     "outputs": [
      {
       "output_type": "stream",
       "stream": "stdout",
       "text": [
        "Initial Velocity of the body is 2.0 m/s**2\n",
        "Acceleration of the body is 6.0 m/s**2\n"
       ]
      }
     ],
     "prompt_number": 8
    },
    {
     "cell_type": "heading",
     "level": 2,
     "metadata": {},
     "source": [
      "Example 12.8,Page No.443"
     ]
    },
    {
     "cell_type": "code",
     "collapsed": false,
     "input": [
      "import math\n",
      "\n",
      "#Initilization of Variables\n",
      "\n",
      "h=90 #3mm Height of tower\n",
      "h1=30 #m #Height at which both particles meet\n",
      "S1=60 #m #Distance travelled by first particle\n",
      "S2=30 #m \n",
      "g2=-9.81 #m/s**2\n",
      "\n",
      "#For Initial Velocity\n",
      "u1=0 \n",
      "g=9.81 #m/s**2\n",
      "\n",
      "\n",
      "#Calculations\n",
      "\n",
      "#Time\n",
      "t1=((S1*2)*g**-1)**0.5 #s\n",
      "\n",
      "#For second particle\n",
      "u2=(S2-0.5*g2*t1**2)*t1**-1\n",
      "\n",
      "#Result\n",
      "print\"Velocity with which second particle projected is\",round(u2,2),\"m/s\""
     ],
     "language": "python",
     "metadata": {},
     "outputs": [
      {
       "output_type": "stream",
       "stream": "stdout",
       "text": [
        "Velocity with which second particle projected is 25.73 m/s\n"
       ]
      }
     ],
     "prompt_number": 9
    },
    {
     "cell_type": "heading",
     "level": 2,
     "metadata": {},
     "source": [
      "Example 12.9,Page No.443"
     ]
    },
    {
     "cell_type": "code",
     "collapsed": false,
     "input": [
      "import math\n",
      "\n",
      "#Initilization of Variables\n",
      "\n",
      "h=800 #m #Height of aeroplane\n",
      "U=166.67 #m/s \n",
      "\n",
      "#First case\n",
      "u1=0\n",
      "h2=800 #m #Height of bomb when released\n",
      "g=9.81 #m/s**2\n",
      "\n",
      "#Calculations\n",
      "\n",
      "#Time required to reach the ground\n",
      "t=(h*2*(g)**-1)**0.5\n",
      "\n",
      "#Horizontal distance travelled\n",
      "S=U*t\n",
      "\n",
      "#Result\n",
      "print\"Time required to reach the ground is\",round(t,2),\"s\"\n",
      "print\"Horizontal distance travelled is\",round(S,2),\"m\""
     ],
     "language": "python",
     "metadata": {},
     "outputs": [
      {
       "output_type": "stream",
       "stream": "stdout",
       "text": [
        "Time required to reach the ground is 12.77 s\n",
        "Horizontal distance travelled is 2128.55 m\n"
       ]
      }
     ],
     "prompt_number": 10
    },
    {
     "cell_type": "heading",
     "level": 2,
     "metadata": {},
     "source": [
      "Example 12.10,Page No.445"
     ]
    },
    {
     "cell_type": "code",
     "collapsed": false,
     "input": [
      "import math\n",
      "\n",
      "#Initilization of Variables\n",
      "\n",
      "u=0 #m/s #Initial velocity\n",
      "g=9.81 #m/s**2 #acceleration due to gravity\n",
      "\n",
      "#Calculations\n",
      "\n",
      "#t1+t2=4   ...........1\n",
      "\n",
      "#Depth of well after simplifying we get\n",
      "#h=4.905*t1**2   ........2\n",
      "\n",
      "#Time taken by sound to reach from bottom of well\n",
      "#t2=4.905*t1**2*350**-1 #s   ...............3\n",
      "\n",
      "#Sub value in equation 1 and further simplifying we get\n",
      "#4.905*t1**2+350*t1-1400=0\n",
      "a=4.905 \n",
      "b=350\n",
      "c=-1400\n",
      "\n",
      "X=b**2-4*a*c\n",
      "\n",
      "t1=(-b+X**0.5)*(2*a)**-1 #s\n",
      "\n",
      "#Depth of well \n",
      "h=4.905*t1**2 #m \n",
      "\n",
      "#Result\n",
      "print\"Depth of well is\",round(h,2),\"m\""
     ],
     "language": "python",
     "metadata": {},
     "outputs": [
      {
       "output_type": "stream",
       "stream": "stdout",
       "text": [
        "Depth of well is 70.75 m\n"
       ]
      }
     ],
     "prompt_number": 11
    },
    {
     "cell_type": "heading",
     "level": 2,
     "metadata": {},
     "source": [
      "Example 12.11,Page No.446"
     ]
    },
    {
     "cell_type": "code",
     "collapsed": false,
     "input": [
      "import math\n",
      "\n",
      "#Initilization of Variables\n",
      "\n",
      "u=19.6 #m/s #Initial velocity\n",
      "h=24.5 #m #height of tower\n",
      "g=9.80 #m/s**2 #acceleration de to gravity\n",
      "\n",
      "#Calculations\n",
      "\n",
      "#Max height of stone\n",
      "h1=(u**2)*(2*g)**-1 #m\n",
      "\n",
      "#Time for stone to move from A to C\n",
      "t1=u*g**-1\n",
      "\n",
      "#Time for stone to move from C to D\n",
      "h2=h+h1 #m #Max height to which stone will rise\n",
      "t2=((h2*4.9**-1))**0.5 #s\n",
      "\n",
      "#Total time for stone to reach the ground\n",
      "t=t1+t2 #s\n",
      "\n",
      "#Result\n",
      "print\"Total time for stone to reach the ground is\",round(t,2),\"s\"\n",
      "print\"Velocity of stone in downward travel is\",round(u,2),\"m/s\"\n",
      "print\"Max height to which the stone will rise is\",round(h2,2),\"m\""
     ],
     "language": "python",
     "metadata": {},
     "outputs": [
      {
       "output_type": "stream",
       "stream": "stdout",
       "text": [
        "Total time for stone to reach the ground is 5.0 s\n",
        "Velocity of stone in downward travel is 19.6 m/s\n",
        "Max height to which the stone will rise is 44.1 m\n"
       ]
      }
     ],
     "prompt_number": 12
    },
    {
     "cell_type": "heading",
     "level": 2,
     "metadata": {},
     "source": [
      "Example 12.12,Page No.447"
     ]
    },
    {
     "cell_type": "code",
     "collapsed": false,
     "input": [
      "import math\n",
      "\n",
      "#Initilization of Variables\n",
      "\n",
      "u=0 #Initial Velocity\n",
      "t=5 #s #time taken by stone in striking the glass pane\n",
      "g=9.81 #m/s**2\n",
      "\n",
      "#Calculations\n",
      "\n",
      "#velocity\n",
      "v1=u+g*t #m/s\n",
      "\n",
      "#Velocity lost in breaking stones\n",
      "v2=20*100**-1*v\n",
      "\n",
      "#Velocity of the stone after breaking the glass pane\n",
      "v3=v1-v2 #m/s \n",
      "\n",
      "#distance travelled in t2=1 s\n",
      "t2=1 #s\n",
      "s=v3*t2+0.5*g*t2**2 #m\n",
      "\n",
      "#Result\n",
      "print\"Distance travelled by the stone in next second is\",round(s,2),\"m\""
     ],
     "language": "python",
     "metadata": {},
     "outputs": [
      {
       "output_type": "stream",
       "stream": "stdout",
       "text": [
        "Distance travelled by the stone in next second is 51.96 m\n"
       ]
      }
     ],
     "prompt_number": 13
    },
    {
     "cell_type": "heading",
     "level": 2,
     "metadata": {},
     "source": [
      "Example 12.13,Page No.448"
     ]
    },
    {
     "cell_type": "code",
     "collapsed": false,
     "input": [
      "import math\n",
      "\n",
      "#Initilization of Variables\n",
      "\n",
      "u=0 #m/s\n",
      "s=53.90 #m #Distance\n",
      "g=9.80 #m/s**2 #Acceleration due to gravity\n",
      "\n",
      "#Calculations\n",
      "\n",
      "#Height \n",
      "#After simplifying equation of distance we get\n",
      "#h1=4.9*t**2  ..................................1\n",
      "\n",
      "#Distance travelleed in (t-1) s\n",
      "#After simplifying equation of distance we get\n",
      "#h2=4.9(t-1)**2   ..................................2\n",
      "\n",
      "#Distance travelled by object in last seconds\n",
      "#h3=h-h2\n",
      "#After substituting values in above equation we get\n",
      "#h3=4.9(2*t-1)\n",
      "\n",
      "#Equating h3 to s we get after simplifying\n",
      "t=12*2**-1 #m/s\n",
      "\n",
      "#height from which object falls\n",
      "h1=4.9*t**2\n",
      "\n",
      "#Result\n",
      "print\"height from which object falls is\",round(t,2),\"s\"\n",
      "print\"Total time taken by object in falling is\",round(h1,2),\"m\""
     ],
     "language": "python",
     "metadata": {},
     "outputs": [
      {
       "output_type": "stream",
       "stream": "stdout",
       "text": [
        "height from which object falls is 6.0 s\n",
        "Total time taken by object in falling is 176.4 m\n"
       ]
      }
     ],
     "prompt_number": 14
    },
    {
     "cell_type": "heading",
     "level": 2,
     "metadata": {},
     "source": [
      "Example 12.14,Page No.448"
     ]
    },
    {
     "cell_type": "code",
     "collapsed": false,
     "input": [
      "import math\n",
      "\n",
      "#Initilization of Variables\n",
      "\n",
      "g=9.80 #m/s**2\n",
      "u=0 #m/s\n",
      "\n",
      "#Calculations\n",
      "\n",
      "#Distance travelled in time t after simplifiying \n",
      "#h=4.9*t**2\n",
      "\n",
      "#Distance travelled in (t-1)s\n",
      "#h-h2=2*3**-1*h\n",
      "\n",
      "#Substituting value we get equation as\n",
      "#2*t**2-6*t+3=0\n",
      "a=2\n",
      "b=-6\n",
      "c=3\n",
      "\n",
      "X=b**2-4*a*c\n",
      "\n",
      "t=(-b+X**0.5)*(2*a)**-1 #s\n",
      "t2=(-b-X**0.5)*(2*a)**-1 #s\n",
      "\n",
      "#Height of tower \n",
      "h=4.9*t**2\n",
      "\n",
      "#Result\n",
      "print\"Height of tower is\",round(h,2),\"m\""
     ],
     "language": "python",
     "metadata": {},
     "outputs": [
      {
       "output_type": "stream",
       "stream": "stdout",
       "text": [
        "Height of tower is 27.43 m\n"
       ]
      }
     ],
     "prompt_number": 15
    },
    {
     "cell_type": "heading",
     "level": 2,
     "metadata": {},
     "source": [
      "Example 12.15,Page No.449"
     ]
    },
    {
     "cell_type": "code",
     "collapsed": false,
     "input": [
      "import math\n",
      "\n",
      "#Initilization of Variables\n",
      "\n",
      "u1=30 #m/s #Initial Vlocity of 1st object\n",
      "u2=40 #m/s #Initial Velocity of2nd object\n",
      "\n",
      "#Calculations\n",
      "\n",
      "#For the first object\n",
      "#After simplifying we get\n",
      "#h1=30*t-4.905*t**2    ................1\n",
      "\n",
      "#For second object\n",
      "##After simplifying we get\n",
      "#h2=40*(t-4)-4.905(t-4)**2    ...........2\n",
      "\n",
      "#Equating equations 1 and 2 and further simplify we get\n",
      "t=238.48*49.24**-1 #s\n",
      "\n",
      "#height\n",
      "h=30*t-4.905*t**2 #m\n",
      "\n",
      "#Result\n",
      "print\"Time whrn the two objects will meet each other is\",round(t,2),\"s\"\n",
      "print\"Height from the earth at which the two objects will meet is\",round(h,2),\"m\""
     ],
     "language": "python",
     "metadata": {},
     "outputs": [
      {
       "output_type": "stream",
       "stream": "stdout",
       "text": [
        "Time whrn the two objects will meet each other is 4.84 s\n",
        "Height from the earth at which the two objects will meet is 30.24 m\n"
       ]
      }
     ],
     "prompt_number": 16
    },
    {
     "cell_type": "heading",
     "level": 2,
     "metadata": {},
     "source": [
      "Example 12.16,Page No.450"
     ]
    },
    {
     "cell_type": "code",
     "collapsed": false,
     "input": [
      "import math\n",
      "\n",
      "#Initilization of Variables\n",
      "\n",
      "h=100 #m #Height of tower\n",
      "u1=0 #Initial velocity of 1st particle\n",
      "S2=30 #m #Distace travelled by 2nd particle\n",
      "S1=70 #m #Distance travelled by 1st paerticle\n",
      "g=9.81 #m/s**2\n",
      "\n",
      "#Calculations\n",
      "\n",
      "#time of particle 1 \n",
      "t=(S1*(g*2**-1)**-1)**0.5 #s\n",
      "\n",
      "#Initial velocity\n",
      "u=((S2+(g*2**-1)*t**2)*t**-1) #m/s\n",
      "\n",
      "#Result\n",
      "print\"Velocity with which the second particle is projected upward is\",round(u,2),\"m/s\""
     ],
     "language": "python",
     "metadata": {},
     "outputs": [
      {
       "output_type": "stream",
       "stream": "stdout",
       "text": [
        "Velocity with which the second particle is projected upward is 26.47 m/s\n"
       ]
      }
     ],
     "prompt_number": 17
    },
    {
     "cell_type": "heading",
     "level": 2,
     "metadata": {},
     "source": [
      "Example 12.16(A),Page No.451"
     ]
    },
    {
     "cell_type": "code",
     "collapsed": false,
     "input": [
      "import math\n",
      "\n",
      "#Initilization of Variables\n",
      "\n",
      "n=5 #Rate of drops\n",
      "u=0 #Initial Velocity\n",
      "v=3 #m/s #Final Velocity\n",
      "g=9.81 #m/s**2\n",
      "t=3*9.81**-1 #s\n",
      "\n",
      "#Calculations\n",
      "\n",
      "#Vertical Distance \n",
      "Sb=u*t+0.5*g*t**2 #m\n",
      "\n",
      "#time taken by drop A \n",
      "t2=3*9.81**-1-0.2 #s\n",
      "\n",
      "#Vertical Distance travelled from mouth of faucet by drop A\n",
      "Sa=u*t2+0.5*g*t2**2 #m\n",
      "\n",
      "#Vertical Separation between drops A and B\n",
      "S=Sb-Sa #m\n",
      "\n",
      "#Result\n",
      "print\"Vertical separation between two drops is\",round(S,3),\"m\""
     ],
     "language": "python",
     "metadata": {},
     "outputs": [
      {
       "output_type": "stream",
       "stream": "stdout",
       "text": [
        "Vertical separation between two drops is 0.404 m\n"
       ]
      }
     ],
     "prompt_number": 18
    },
    {
     "cell_type": "heading",
     "level": 2,
     "metadata": {},
     "source": [
      "Example 12.18,Page No.453"
     ]
    },
    {
     "cell_type": "code",
     "collapsed": false,
     "input": [
      "import math\n",
      "\n",
      "#Initilization of Variables\n",
      "\n",
      "u=0 #m/s**2 #Initial Velocity\n",
      "#S=(x+20) #m #distance\n",
      "g=9.81 #m/s**2\n",
      "\n",
      "#Calculations\n",
      "\n",
      "#Distance travelled by Body in time t\n",
      "#x=0.5*g*t**2   .................................1\n",
      "\n",
      "#Distance travelled by body in time (t+0.4)s\n",
      "#S2=0.5(t**2+0.**t+0.16)  ........................2\n",
      "\n",
      "#Subtracting equation 2 from 1 we get\n",
      "t=3.92*0.80**-1\n",
      "\n",
      "#Distance travelled by Body in time t is given by\n",
      "x=0.5*g*t**2 #m\n",
      "\n",
      "#Result\n",
      "print\"Distance travelled by Body in time t is\",round(x,2),\"m\""
     ],
     "language": "python",
     "metadata": {},
     "outputs": [
      {
       "output_type": "stream",
       "stream": "stdout",
       "text": [
        "Distance travelled by Body in time t is 117.77 m\n"
       ]
      }
     ],
     "prompt_number": 19
    },
    {
     "cell_type": "heading",
     "level": 2,
     "metadata": {},
     "source": [
      "Example 12.19,Page No.454"
     ]
    },
    {
     "cell_type": "code",
     "collapsed": false,
     "input": [
      "import math\n",
      "\n",
      "#Initilization of Variables\n",
      "\n",
      "#Equation of displacement\n",
      "#s=t**3+3*t**2+4*t+5\n",
      "\n",
      "#Calculations\n",
      "\n",
      "#After differentiating displacement equation we get velocity at t=0\n",
      "#At \n",
      "t=0\n",
      "v=3*t**2+6*t+4 #m/s\n",
      "\n",
      "#Velocity at t=4 seconds\n",
      "t2=4\n",
      "v2=3*t2**2+6*t2+4 #m/s\n",
      "\n",
      "#After differentiating w.r.to t we get equation of acceleration as\n",
      "#a=6*t+6\n",
      "\n",
      "#at t=0\n",
      "t3=0\n",
      "a=6*t3+6 #m/s**2\n",
      "\n",
      "#at t=4\n",
      "t4=4\n",
      "a2=6*t4+6 #m/s**2\n",
      "\n",
      "\n",
      "#Result\n",
      "print\"Velocity at start of 4seconds is\",round(v,2),\"m/s\"\n",
      "print\"Velocity after 4seconds is\",round(v2,2),\"m/s\"\n",
      "print\"Acceleration at start is\",round(a,2),\"m/s**2\"\n",
      "print\"Acceleration after four seconds is\",round(a2,2),\"m/s**2\""
     ],
     "language": "python",
     "metadata": {},
     "outputs": [
      {
       "output_type": "stream",
       "stream": "stdout",
       "text": [
        "Velocity at start of 4seconds is 4.0 m/s\n",
        "Velocity after 4seconds is 76.0 m/s\n",
        "Acceleration at start is 6.0 m/s**2\n",
        "Acceleration after four seconds is 30.0 m/s**2\n"
       ]
      }
     ],
     "prompt_number": 20
    },
    {
     "cell_type": "heading",
     "level": 2,
     "metadata": {},
     "source": [
      "Example 12.20,Page No.455"
     ]
    },
    {
     "cell_type": "code",
     "collapsed": false,
     "input": [
      "import math\n",
      "\n",
      "#Initilization of Variables\n",
      "\n",
      "#Equation of particle motion\n",
      "#s=18*t+3*t**2-2*t**3\n",
      "\n",
      "#Calculations\n",
      "\n",
      "#After differentiating w.r.to t to above equation we get\n",
      "#6*t**2-6*t-18\n",
      "\n",
      "#at \n",
      "t=0\n",
      "#Velocity\n",
      "v=6*t**2+6*t+18\n",
      "\n",
      "#After differentiating above equation again we get equation of acceleration\n",
      "#at \n",
      "t2=0\n",
      "a=6-12*t2\n",
      "\n",
      "#After differentiating equation of velocity we get value of \n",
      "t2=6*12**-1\n",
      "\n",
      "vmax=18+6*t2-6*t2**2 #m/s\n",
      "\n",
      "#Result\n",
      "print\"Velocity at start is\",round(v,2),\"m/s\"\n",
      "print\"Acceleration at start is\",round(a,2),\"m/s**2\"\n",
      "print\"Time when it reaches max velocity is\",round(t2,2),\"s\"\n",
      "print\"MAx velocity of particle is\",round(vmax,2),\"m/s\""
     ],
     "language": "python",
     "metadata": {},
     "outputs": [
      {
       "output_type": "stream",
       "stream": "stdout",
       "text": [
        "Velocity at start is 18.0 m/s\n",
        "Acceleration at start is 6.0 m/s**2\n",
        "Time when it reaches max velocity is 0.5 s\n",
        "MAx velocity of particle is 19.5 m/s\n"
       ]
      }
     ],
     "prompt_number": 21
    },
    {
     "cell_type": "heading",
     "level": 2,
     "metadata": {},
     "source": [
      "Example 12.21,Page No.457"
     ]
    },
    {
     "cell_type": "code",
     "collapsed": false,
     "input": [
      "import math\n",
      "\n",
      "#Initilization of Variables\n",
      "\n",
      "#a=-**s**-2 #m/s**2\n",
      "t=1 #s #time\n",
      "s=4 #m #Distance\n",
      "v=2 #m/s #Velocity\n",
      "t2=2 #s #time\n",
      "\n",
      "#Calculations\n",
      "\n",
      "#Acceleration equation\n",
      "#a=v*(dv*ds**-1)\n",
      "#After sub values and further simplifying and integrating the obtained equation we get\n",
      "#v**2=8*s**-1+C1   ...................1\n",
      "#Sub equation in above equations we get\n",
      "C1=v**2*2**-1-8*s**-1\n",
      "\n",
      "#Sub value in equation 1 and furter simplifying and integrating obtained equation we get\n",
      "#2*3**-1*s**(3*2**_1)=4*t+c2\n",
      "#Sub values\n",
      "C2=2*3**-1*s**(3*2**-1)-4*t\n",
      "\n",
      "#Sub value of C2 and further sub values we get\n",
      "s=14**(2*3**-1) \n",
      "\n",
      "#Acceleration\n",
      "a=8*s**-2 #m/s**2\n",
      "\n",
      "#Result\n",
      "print\"Acceleration when t=2 is\",round(a,4),\"m/s**2\""
     ],
     "language": "python",
     "metadata": {},
     "outputs": [
      {
       "output_type": "stream",
       "stream": "stdout",
       "text": [
        "Acceleration when t=2 is 0.2371 m/s**2\n"
       ]
      }
     ],
     "prompt_number": 22
    },
    {
     "cell_type": "heading",
     "level": 2,
     "metadata": {},
     "source": [
      "Example 12.22,Page No.458"
     ]
    },
    {
     "cell_type": "code",
     "collapsed": false,
     "input": [
      "import math\n",
      "\n",
      "#Initilization of Variables\n",
      "\n",
      "#a=4*t**2-2 \n",
      "t1=0 \n",
      "s1=-2 #m\n",
      "\n",
      "t2=2 #s\n",
      "s2=-20 #m\n",
      "\n",
      "t3=4 #s\n",
      "\n",
      "#Calculations\n",
      "\n",
      "#a=4*t**2-2\n",
      "#After integrating above equations we getand further simplifying we get equation of distance as\n",
      "#s=t**4*3**-1-t**2+C1*t+C2\n",
      "C2=s1-t1**4*3**-1 \n",
      "\n",
      "#s=t**4*3**-1-t**2+C1*t-2   ...............3\n",
      "#Now after sub in equation and further simplifying the equation we get\n",
      "C1=(s2-t2**4*3**-1+t2**2+2)*t2**-1\n",
      "#Sub in above equation 3 we get\n",
      "\n",
      "#when t=4\n",
      "t4=4\n",
      "s3=t4**4*3**-1-t4**2+C1*t4-2\n",
      "\n",
      "\n",
      "#Result\n",
      "print\"Position of particle when t=4 s is\",round(s3,2),\"s\""
     ],
     "language": "python",
     "metadata": {},
     "outputs": [
      {
       "output_type": "stream",
       "stream": "stdout",
       "text": [
        "Position of particle when t=4 s is 28.67 s\n"
       ]
      }
     ],
     "prompt_number": 23
    },
    {
     "cell_type": "heading",
     "level": 2,
     "metadata": {},
     "source": [
      "Example 12.23,Page No.460"
     ]
    },
    {
     "cell_type": "code",
     "collapsed": false,
     "input": [
      "import math\n",
      "\n",
      "#Initilization of Variables\n",
      "\n",
      "#v=2*t**3-t**2-2*t**2-2*t+4\n",
      "t=2 #s\n",
      "s=10 #m\n",
      "t2=6 #s\n",
      "\n",
      "#Calculations\n",
      "\n",
      "#acceleration\n",
      "a=6*t2**2-2*t2-2 #m/s**2\n",
      "\n",
      "#Displacement when t=6s \n",
      "#After integrating and further simplifying the equation of velocity we get equation of displacement as\n",
      "#s=2*t**4*4**-1-t**3*3**-1-t**2+4*t+C   ...............1\n",
      "#After sub values we get \n",
      "C=s-(2*t**4*4**-1-t**3*3**-1-t**2+4*t)\n",
      "\n",
      "#Sub value of C in equation \n",
      "s2=2*t2**4*4**-1-t2**3*3**-1-t2**2+4*t2+C #m  \n",
      "\n",
      "#Result\n",
      "print\"Acceleration is\",round(a,2),\"m/s**2\"\n",
      "print\"Displacement of particle when t=6 s is\",round(s2,2),\"m\""
     ],
     "language": "python",
     "metadata": {},
     "outputs": [
      {
       "output_type": "stream",
       "stream": "stdout",
       "text": [
        "Acceleration is 202.0 m/s**2\n",
        "Displacement of particle when t=6 s is 564.67 m\n"
       ]
      }
     ],
     "prompt_number": 24
    },
    {
     "cell_type": "heading",
     "level": 2,
     "metadata": {},
     "source": [
      "Example 12.24,Page No.461"
     ]
    },
    {
     "cell_type": "code",
     "collapsed": false,
     "input": [
      "import math\n",
      "\n",
      "#Initilization of Variables\n",
      "\n",
      "#a=2-3*t\n",
      "t=5 #s \n",
      "t2=10 #s\n",
      "v=20 #m/s #velocity\n",
      "s=85 #m  #displacement\n",
      "\n",
      "#Calculations\n",
      "\n",
      "#Acceleration at start when t=0 \n",
      "a=2-3*t \n",
      "\n",
      "#Equation of acceleration after integrating and further simplifying we get\n",
      "C1=v-(2*t-3*t**2*2**-1)\n",
      "\n",
      "#After substituting in equation and further simplifying we get\n",
      "#At t3=0\n",
      "t3=0\n",
      "v=2*t3-3*t3**2*2**-1+C1\n",
      "\n",
      "#After differentiating equation of velocity and integrating it we get equation of displacement as\n",
      "#s=t**2-3*t**3*6**-1+47.5*t+C2  \n",
      "C2=s-(t2**2-3*t2**3*6**-1+47.5*t2)\n",
      "#sub value of C2 in above equation we get\n",
      "s2=t3**2-3*t3**3*6**-1+47.5*t3+C2 \n",
      "\n",
      "#Sub v=0 in equation 3 we get an duaqratic equation as\n",
      "#3*t**2-4*t-95=0\n",
      "a=3\n",
      "b=-4\n",
      "c=-95\n",
      "\n",
      "X=b**2-4*a*c\n",
      "\n",
      "t4=(-b+(X**0.5))*(2*a)**-1 #s\n",
      "#Sub value of t4 in equation of displacement and we get\n",
      "s3=t4**2-3*t4**3*6**-1+47.5*t4+C2 \n",
      "\n",
      "#Result\n",
      "print\"Acceleration from origin at start of observation is\",round(a,2),\"m/s**2\"\n",
      "print\"Velocity from origin at start of observation is\",round(v,2),\"m/s**2\"\n",
      "print\"distance from origin at start of observationis\",round(s2,2),\"m\"\n",
      "print\"Time after start of observation is\",round(t4,2),\"s\"\n",
      "print\"Distance from origin is\",round(s3,2),\"m\""
     ],
     "language": "python",
     "metadata": {},
     "outputs": [
      {
       "output_type": "stream",
       "stream": "stdout",
       "text": [
        "Acceleration from origin at start of observation is 3.0 m/s**2\n",
        "Velocity from origin at start of observation is 47.5 m/s**2\n",
        "distance from origin at start of observationis 10.0 m\n",
        "Time after start of observation is 6.33 s\n",
        "Distance from origin is 223.93 m\n"
       ]
      }
     ],
     "prompt_number": 57
    }
   ],
   "metadata": {}
  }
 ]
}