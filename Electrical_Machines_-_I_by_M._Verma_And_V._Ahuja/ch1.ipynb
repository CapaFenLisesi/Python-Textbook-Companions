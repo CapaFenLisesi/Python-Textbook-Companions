{
 "cells": [
  {
   "cell_type": "markdown",
   "metadata": {},
   "source": [
    "# Chapter 1 - Introduction to electrical machines"
   ]
  },
  {
   "cell_type": "markdown",
   "metadata": {},
   "source": [
    "## Exa:1.9 Pg No: 39"
   ]
  },
  {
   "cell_type": "code",
   "execution_count": 2,
   "metadata": {
    "collapsed": false
   },
   "outputs": [
    {
     "name": "stdout",
     "output_type": "stream",
     "text": [
      "Emf induced in the coil = 8.00 volts\n"
     ]
    }
   ],
   "source": [
    "N=800 #  No.of turns\n",
    "Phy_1=2000*10**-6 #  Webers\n",
    "Phy_2=1000*10**-6 #  Webers\n",
    "t=0.1 #  seconds\n",
    "e=N*(Phy_1-Phy_2)/t\n",
    "print 'Emf induced in the coil = %.2f volts'%e"
   ]
  },
  {
   "cell_type": "markdown",
   "metadata": {},
   "source": [
    "## Exa:1.10 Pg No: 39"
   ]
  },
  {
   "cell_type": "code",
   "execution_count": 4,
   "metadata": {
    "collapsed": false
   },
   "outputs": [
    {
     "name": "stdout",
     "output_type": "stream",
     "text": [
      "Average value of emf induced in the coil = 20.00 volts\n"
     ]
    }
   ],
   "source": [
    "N=1000.0 #  No.of turns\n",
    "Phy_1=2000.0*10**-6 #  Webers\n",
    "#On reversal of current\n",
    "Phy_2=2000.0*10**-6 #  Webers\n",
    "t=0.2 #  seconds\n",
    "e=N*(Phy_1-(-Phy_2))/t\n",
    "print 'Average value of emf induced in the coil = %.2f volts'%e"
   ]
  },
  {
   "cell_type": "markdown",
   "metadata": {},
   "source": [
    "## Exa:1.11 Pg No: 40"
   ]
  },
  {
   "cell_type": "code",
   "execution_count": 5,
   "metadata": {
    "collapsed": false
   },
   "outputs": [
    {
     "name": "stdout",
     "output_type": "stream",
     "text": [
      "(1) Average emf induced in the coil = 1.50 volts\n",
      "(2) Current through the coil = 0.02 Amperes\n"
     ]
    }
   ],
   "source": [
    "N=300 #  No.of turns\n",
    "R=60 #  resitance in ohms\n",
    "Phy_1=2*10**-3 #  Webers\n",
    "Phy_2=3*10**-3 #  Webers\n",
    "t=0.2 #  seconds\n",
    "e=N*(Phy_2-Phy_1)/t\n",
    "print '(1) Average emf induced in the coil = %.2f volts'%e\n",
    "i=e/R\n",
    "print '(2) Current through the coil = %.2f Amperes'%i"
   ]
  },
  {
   "cell_type": "markdown",
   "metadata": {},
   "source": [
    "## Exa:1.12 Pg No: 40"
   ]
  },
  {
   "cell_type": "code",
   "execution_count": 1,
   "metadata": {
    "collapsed": false
   },
   "outputs": [
    {
     "name": "stdout",
     "output_type": "stream",
     "text": [
      "average value of emf induced across the feild terminals = 1400.00 volts\n"
     ]
    }
   ],
   "source": [
    "P=4 #  no of poles\n",
    "N=4*250 #  No.of turns\n",
    "Phy_1=40*P*10**-3 #  Webers\n",
    "Phy_2=5*P*10**-3 #  Webers\n",
    "t=0.1 #  seconds\n",
    "e=N*(Phy_1-Phy_2)/t\n",
    "print 'average value of emf induced across the feild terminals = %.2f volts'%e"
   ]
  }
 ],
 "metadata": {
  "kernelspec": {
   "display_name": "Python 2",
   "language": "python",
   "name": "python2"
  },
  "language_info": {
   "codemirror_mode": {
    "name": "ipython",
    "version": 2
   },
   "file_extension": ".py",
   "mimetype": "text/x-python",
   "name": "python",
   "nbconvert_exporter": "python",
   "pygments_lexer": "ipython2",
   "version": "2.7.9"
  }
 },
 "nbformat": 4,
 "nbformat_minor": 0
}
