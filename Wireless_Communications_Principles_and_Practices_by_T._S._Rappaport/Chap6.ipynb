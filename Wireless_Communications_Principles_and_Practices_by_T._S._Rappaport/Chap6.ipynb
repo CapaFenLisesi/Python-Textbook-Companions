{
 "cells": [
  {
   "cell_type": "markdown",
   "metadata": {},
   "source": [
    "# Chapter No.6 : Modulation techniques for mobile radio"
   ]
  },
  {
   "cell_type": "markdown",
   "metadata": {},
   "source": [
    "## Example no 6.1 Page no. 260"
   ]
  },
  {
   "cell_type": "code",
   "execution_count": 1,
   "metadata": {
    "collapsed": false
   },
   "outputs": [
    {
     "name": "stdout",
     "output_type": "stream",
     "text": [
      "\n",
      " The carrier power = 8.47 kW\n",
      "\n",
      " The percentage of total power in carrier power = 84.7 percentage\n",
      "\n",
      " The power in each sideband = 0.763 kW\n"
     ]
    }
   ],
   "source": [
    "# To compute the carrier power, percentage of total power in carrier power and power in each sideband.\n",
    "\n",
    "\n",
    "# Given data\n",
    "PAM=10*10**3#                                                             # Power of transmitted AM signal\n",
    "k=0.6#                                                                   # Modulation index\n",
    "\n",
    "# To compute the carrier power\n",
    "Pc=PAM/(1+k**2/2)#                                                        # The carrier power\n",
    "\n",
    "# To compute percentage of total power in carrier power\n",
    "PercentPc=(Pc/PAM)*100#                                                  # Percentage of total power in carrier power\n",
    "\n",
    "# To compute power in each sideband\n",
    "Psideband=(PAM-Pc)/2#                                                    # The power in each sideband\n",
    "# Answer is varrying due to round-off error\n",
    "\n",
    "# Displaying the result in command window\n",
    "print '\\n The carrier power = %0.2f kW'%(Pc*10**-3)#\n",
    "print '\\n The percentage of total power in carrier power = %0.1f percentage'%(PercentPc)#\n",
    "print '\\n The power in each sideband = %0.3f kW'%(Psideband*10**-3)#"
   ]
  },
  {
   "cell_type": "markdown",
   "metadata": {},
   "source": [
    "## Example no 6.2 Page no. 265"
   ]
  },
  {
   "cell_type": "code",
   "execution_count": 2,
   "metadata": {
    "collapsed": false
   },
   "outputs": [
    {
     "name": "stdout",
     "output_type": "stream",
     "text": [
      "\n",
      " The peak frequency deviation = 40 kHz\n",
      "\n",
      " The modulation index = 10\n"
     ]
    }
   ],
   "source": [
    "# To compute a)the peak frequency deviation b)the modulation index.\n",
    "\n",
    "\n",
    "# Given data\n",
    "kf=10*10**3#                                                     # Frequency deviation constant gain in Hz/V\n",
    "fm=4*10**3#                                                      # Modulating frequency in Hz\n",
    "A=4#                                                            # Maximum instantaneous value of input signal in V\n",
    "\n",
    "# To compute the peak frequency deviation\n",
    "deltaf=A*kf#                                                   # The peak frequency deviation in Hz\n",
    "\n",
    "# To compute the modulation index\n",
    "betaf=deltaf/fm#                                               # The modulation index\n",
    "\n",
    "# Displaying the result in command window\n",
    "print '\\n The peak frequency deviation = %0.0f kHz'%(deltaf*10**-3)#\n",
    "print '\\n The modulation index = %0.0f'%(betaf)#"
   ]
  },
  {
   "cell_type": "markdown",
   "metadata": {},
   "source": [
    "## Example no 6.3 Page no. 267"
   ]
  },
  {
   "cell_type": "code",
   "execution_count": 3,
   "metadata": {
    "collapsed": false
   },
   "outputs": [
    {
     "name": "stdout",
     "output_type": "stream",
     "text": [
      "\n",
      " Using Carson rule, the IF bandwidth occupied by FM signal = 1200 kHz\n"
     ]
    }
   ],
   "source": [
    "# To determine the IF bandwidth necessary to pass the given signal.\n",
    "\n",
    "\n",
    "# Given data\n",
    "fm=100*10**3#                                                 # Modulating frequency in Hz\n",
    "deltaf=500*10**3#                                             # Peak frequency deviation in Hz\n",
    "betaf=deltaf/fm#                                             # Modulation index\n",
    "\n",
    "# The IF bandwidth occupied by FM signal using Carson's rule\n",
    "BT=2*(betaf+1)*fm#                                          # The IF bandwidth necessary to pass the given signal\n",
    "\n",
    "# Displaying the result in command window\n",
    "print '\\n Using Carson rule, the IF bandwidth occupied by FM signal = %0.0f kHz'%(BT*10**-3)#"
   ]
  },
  {
   "cell_type": "markdown",
   "metadata": {},
   "source": [
    "## Example no 6.4 Page no. 273"
   ]
  },
  {
   "cell_type": "code",
   "execution_count": 11,
   "metadata": {
    "collapsed": false
   },
   "outputs": [
    {
     "name": "stdout",
     "output_type": "stream",
     "text": [
      "\n",
      " Value of Resistor required for RLC circuit = 1.273 kohm\n",
      "\n",
      " Value of Inductor required for RLC circuit = 10 microH\n",
      "\n",
      " Value of Capacitor required for RLC circuit = 10 pF\n"
     ]
    },
    {
     "data": {
      "image/png": "[encoded data removed]",
      "text/plain": [
       "<matplotlib.figure.Figure at 0x7f9a53a33e50>"
      ]
     },
     "metadata": {},
     "output_type": "display_data"
    }
   ],
   "source": [
    "from numpy import arange\n",
    "from math import sqrt,pi,tan,atan\n",
    "%matplotlib inline\n",
    "from matplotlib.pyplot import plot,subplot,title,show,xlabel,ylabel\n",
    "# To design an RLC network that implements an IF quadrature FM detector \n",
    "\n",
    "# Given data\n",
    "fc=10.7*10**6#                                               #Cut-off frequency in Hz\n",
    "B=500*10**3#                                                 #Bandwidth in Hz\n",
    "phi=5#                                                      #phase shift for good system in degree\n",
    "Q=tan(pi/180*phi)/((fc+B/2)/fc-fc/(fc+B/2))#                     #Q-factor\n",
    "L=10*10**(-6)#                                              #Chosen value of inductor\n",
    "R=Q*2*pi*fc*L#                                            #Value of Resistor\n",
    "c1=12.13*10**(-12)#                                          #Chosen value of C1\n",
    "c=(Q/(R*2*pi*fc))-c1#                                     #Value of capacitor\n",
    "\n",
    "# Displaying the result in command window\n",
    "print '\\n Value of Resistor required for RLC circuit = %0.3f kohm'%(R*10**(-3))#\n",
    "print '\\n Value of Inductor required for RLC circuit = %0.0f microH'%(L*10**(6))#\n",
    "print '\\n Value of Capacitor required for RLC circuit = %0.0f pF'%(c*10**(12))#\n",
    "\n",
    "# Magnitude plot\n",
    "f=arange(0.95*10**7,1.2*10**7+0.1,0.05*10**7)                           # Frequency range for plotting in Hz\n",
    "mgh=[]\n",
    "for ff in f:\n",
    "    mgh.append((2*pi*ff*R*c1)/sqrt(1+Q**2*((ff**2-fc**2)/(ff*fc))**2))     # Magnitude transfer function\n",
    "subplot(311)#\n",
    "plot(f,mgh)#\n",
    "#a=gca()#\n",
    "#a.data_bounds=[0.95*10**7 0#1.2*10**7 2]#                   # To see the vertical line hiddden by the y axis\n",
    "xlabel(\"Frequency\")#\n",
    "ylabel(\"Magnitude\")\n",
    "title(\"Magnitude response\")\n",
    "\n",
    "# Phase plot\n",
    "f=0.95*10**7                                              # Initial frequency for plotting\n",
    "phH=[]\n",
    "for i in range(0,6):\n",
    "    if f<1.25*10**7 :\n",
    "        phH.append((pi/2)+atan(Q*((f**2-fc**2)/(f*fc))))      # Phase transfer function\n",
    "        f=f+0.05*10**7#\n",
    "    \n",
    "f=arange(0.95*10**7,1.2*10**7+0.1,0.05*10**7)\n",
    "subplot(313)#\n",
    "plot(f,phH)#\n",
    "#a=gca()#\n",
    "#a.data_bounds=[0.95*10**7 1.2#1.2*10**7 2]#              # To see the vertical line hiddden by the y axis\n",
    "xlabel(\"Frequency\")\n",
    "ylabel(\"Phase\")\n",
    "title(\"Phase response\")\n",
    "show()"
   ]
  },
  {
   "cell_type": "markdown",
   "metadata": {},
   "source": [
    "## Example no 6.5 Page no. 277"
   ]
  },
  {
   "cell_type": "code",
   "execution_count": 1,
   "metadata": {
    "collapsed": false
   },
   "outputs": [
    {
     "name": "stdout",
     "output_type": "stream",
     "text": [
      "\n",
      " Using Carson rule, the analog bandwidth at 3 modulation index occupied by FM signal = 40 KHz\n",
      "\n",
      " Using Carson rule, the analog bandwidth at 5 modulation index occupied by FM signal = 60 KHz\n",
      "\n",
      " Improvement in output SNR by increasing modulation index = 6.2 dB\n",
      "\n",
      " \n",
      " This improvement is achieved at the expenses of bandwidth. For modulation index = 3, a bandwidth of 40kHz is needed,\n",
      " while for modulation index = 5 requires bandwidth = 60kHz.\n"
     ]
    }
   ],
   "source": [
    "from math import log10\n",
    "# To determine the analog bandwidth, output SNR improvement if modulation index is increased from 3 to 5 and tradeoff bandwidth for this improvement.\n",
    "\n",
    "\n",
    "# Given data\n",
    "fm=5*10**3#                                        # Audio bandwidth of FM signal\n",
    "betaf1=3#                                         # Initial modulation index\n",
    "betaf2=5#                                         # Final modulation index\n",
    "\n",
    "# To determine analog bandwidth\n",
    "BT1=2*(betaf1+1)*fm#                               # The analog bandwidth\n",
    "BT2=2*(betaf2+1)*fm#                               # The analog bandwidth\n",
    "\n",
    "# To determine output SNR improvement factor\n",
    "SNR1=3*betaf1**3+3*betaf1**2#                      # Output SNR factor for modulation index=3\n",
    "SNR1=10*log10(SNR1)#                             # Output SNR factor for modulation index=3 in dB\n",
    "SNR2=3*betaf2**3+3*betaf2**2#                       # Output SNR factor for modulation index=3\n",
    "SNR2=10*log10(SNR2)#                             # Output SNR factor for modulation index=3 in dB\n",
    "\n",
    "# To determine improvement in output SNR by increasing modulation index\n",
    "improvedSNR=SNR2-SNR1#                           # Improvement in output SNR by increasing modulation index\n",
    "\n",
    "# Displaying the result in command window\n",
    "print '\\n Using Carson rule, the analog bandwidth at 3 modulation index occupied by FM signal = %0.0f KHz'%(BT1*10**-3)#\n",
    "print '\\n Using Carson rule, the analog bandwidth at 5 modulation index occupied by FM signal = %0.0f KHz'%(BT2*10**-3)#\n",
    "print '\\n Improvement in output SNR by increasing modulation index = %0.1f dB'%(improvedSNR)#\n",
    "print '\\n \\n This improvement is achieved at the expenses of bandwidth. For modulation index = 3, a bandwidth of 40kHz is needed,\\n while for modulation index = 5 requires bandwidth = 60kHz.'"
   ]
  },
  {
   "cell_type": "markdown",
   "metadata": {},
   "source": [
    "## Example no 6.6 Page no. 280"
   ]
  },
  {
   "cell_type": "code",
   "execution_count": 2,
   "metadata": {
    "collapsed": false
   },
   "outputs": [
    {
     "name": "stdout",
     "output_type": "stream",
     "text": [
      "\n",
      " The maximum theoretical datarate = 199.75 kbps\n",
      "\n",
      " The USDC data rate is 48.6 kbps, which is only about one fourth the theoretical limit under 20dB SNR condition.\n"
     ]
    }
   ],
   "source": [
    "from math import log10\n",
    "# To determine the maximum theoretical datarate and to compare this rate to US digital cellular standard\n",
    "\n",
    "\n",
    "# Given data\n",
    "SNR=20#                                            # Signal to noise ratio of wireless communication link in dB\n",
    "B=30*10**3#                                         # RF bandwidth in Hz\n",
    "SNR=10**(SNR/10)#                                   # Signal to noise ratio of wireless communication link\n",
    "\n",
    "# To determine the maximum theoretical datarate \n",
    "C=B*(log10(1+SNR)/log10(2))#                       # The maximum theoretical datarate in bps\n",
    "\n",
    "# Displaying the result in command window\n",
    "print '\\n The maximum theoretical datarate = %0.2f kbps'%(C*10**-3)#\n",
    "print '\\n The USDC data rate is 48.6 kbps, which is only about one fourth the theoretical limit under 20dB SNR condition.'"
   ]
  },
  {
   "cell_type": "markdown",
   "metadata": {},
   "source": [
    "## Example no 6.7 Page no. 280"
   ]
  },
  {
   "cell_type": "code",
   "execution_count": 3,
   "metadata": {
    "collapsed": false
   },
   "outputs": [
    {
     "name": "stdout",
     "output_type": "stream",
     "text": [
      "\n",
      " The maximum theoretical datarate for 10dB SNR = 691.886 kbps\n",
      "\n",
      " The maximum theoretical datarate for 30dB SNR = 1.99 Mbps\n",
      "\n",
      " \n",
      " The GSM data rate is 270.833 kbps, which is only about 40 percent of the theoretical limit of 10dB SNR condition\n",
      " and about 14 percent of theoretical limit of 30dB SNR condition\n"
     ]
    }
   ],
   "source": [
    "from math import log10\n",
    "# To determine the maximum theoretical datarate and to compare this rate to GSM standard\n",
    "\n",
    "\n",
    "# Given data\n",
    "SNR1=10#                                          # Signal to noise ratio in dB\n",
    "SNR2=30#                                          # Signal to noise ratio in dB\n",
    "B=200*10**3#                                       # RF bandwidth of channel in Hz\n",
    "\n",
    "SNR1=10**(SNR1/10)#                                # Signal to noise ratio\n",
    "SNR2=10**(SNR2/10)#                                # Signal to noise ratio\n",
    "\n",
    "# To determine the maximum theoretical datarate\n",
    "C1=B*(log10(1+SNR1)/log10(2))#                    # The maximum theoretical datarate for SNR=10dB\n",
    "C2=B*(log10(1+SNR2)/log10(2))#                    # The maximum theoretical datarate for SNR=30dB\n",
    "\n",
    "# Displaying the result in command window\n",
    "print '\\n The maximum theoretical datarate for 10dB SNR = %0.3f kbps'%(C1*10**-3)#\n",
    "print '\\n The maximum theoretical datarate for 30dB SNR = %0.2f Mbps'%(C2*10**-6)#\n",
    "print '\\n \\n The GSM data rate is 270.833 kbps, which is only about 40 percent of the theoretical limit of 10dB SNR condition\\n and about 14 percent of theoretical limit of 30dB SNR condition'"
   ]
  },
  {
   "cell_type": "markdown",
   "metadata": {},
   "source": [
    "## Example no 6.8 Page no. 291"
   ]
  },
  {
   "cell_type": "code",
   "execution_count": 4,
   "metadata": {
    "collapsed": false
   },
   "outputs": [
    {
     "name": "stdout",
     "output_type": "stream",
     "text": [
      "\n",
      " The first zero-crossing RF bandwidth of rectangular pulse = 48.71 kHz\n",
      "\n",
      " The first zero-crossing RF bandwidth of cosine filter pulse = 32.88 kHz\n"
     ]
    }
   ],
   "source": [
    "# To find the first zero-crossing RF bandwidth of rectangular pulse and compare to raised cosine filter pulse\n",
    "\n",
    "\n",
    "# Given data\n",
    "RectTs=41.06*10**-6#                                             # Symbol period of rectangular pulse\n",
    "cosineTs=41.06*10**-6#                                           # Symbol period of cosine filter pulse\n",
    "alpha=0.35#                                                     # Rolloff factor of cosine filter pulse\n",
    "\n",
    "# To find the first zero-crossing RF bandwidth of rectangular pulse\n",
    "B1=2/RectTs#                                                    # The first zero-crossing RF bandwidth of rectangular pulse\n",
    "\n",
    "# The first zero-crossing RF bandwidth of cosine filter pulse\n",
    "B2=(1/cosineTs)*(1+alpha)#                                      # The first zero-crossing RF bandwidth of cosine filter pulse\n",
    "\n",
    "# Displaying the result in command window\n",
    "print '\\n The first zero-crossing RF bandwidth of rectangular pulse = %0.2f kHz'%(B1*10**-3)#\n",
    "print '\\n The first zero-crossing RF bandwidth of cosine filter pulse = %0.2f kHz'%(B2*10**-3)#"
   ]
  },
  {
   "cell_type": "markdown",
   "metadata": {},
   "source": [
    "## Example no 6.9 Page no. 307"
   ]
  },
  {
   "cell_type": "code",
   "execution_count": 5,
   "metadata": {
    "collapsed": false
   },
   "outputs": [
    {
     "name": "stdout",
     "output_type": "stream",
     "text": [
      "\n",
      " Phase of signal during transmission of first bit pair 00 = -135 degree\n",
      "\n",
      " In-phase pulse produced during transmission of first bit pair 00 = -0.707\n",
      "\n",
      " Quadrature pulse produced during transmission of first bit pair 00 = -0.707\n",
      "\n",
      " \n",
      " Phase of signal during transmission of second bit pair 10 = -180 degree\n",
      "\n",
      " In-phase pulse produced during transmission of second bit pair 10 = -1\n",
      "\n",
      " Quadrature pulse produced during transmission of second bit pair 10 = -0\n",
      "\n",
      " \n",
      " Phase of signal during transmission of third bit pair 11 = -135 degree\n",
      "\n",
      " In-phase pulse produced during transmission of third bit pair 11 = -0.707\n",
      "\n",
      " Quadrature pulse produced during transmission of third bit pair 11 = -0.707\n"
     ]
    }
   ],
   "source": [
    "from math import pi,sin,cos\n",
    "# To determine phase and values of Ik and Qk during transmission of bit stream 001011 using pi/4 DQPSK.\n",
    "\n",
    "\n",
    "# Given data\n",
    "theta0=0#                                                                # Initial phase in rad\n",
    "phi1=pi/4#                                                              # Carrier phase shift for the input bit pair 11 [Feh91], [Rap91b]\n",
    "phi2=(3*pi)/4#                                                          # Carrier phase shift for the input bit pair 01 [Feh91], [Rap91b]\n",
    "phi3=(-3*pi)/4#                                                         # Carrier phase shift for the input bit pair 00 [Feh91], [Rap91b]\n",
    "phi4=-pi/4#                                                             # Carrier phase shift for the input bit pair 10 [Feh91], [Rap91b]\n",
    "\n",
    "# For transmission of first pair of bits 00\n",
    "theta1=theta0+phi3#                                                      # Phase of signal during transmission of first bit pair 00\n",
    "I1=cos(theta1)#                                                          # In-phase pulse produced at the output of signal mapping\n",
    "Q1=sin(theta1)#                                                          # Quadrature pulse produced at the output of signal mapping\n",
    "\n",
    "# For transmission of second pair of bits 10\n",
    "theta2=theta1+phi4#                                                      # Phase of signal during transmission of second bit pair 10\n",
    "I2=cos(theta2)#                                                          # In-phase pulse produced at the output of signal mapping\n",
    "Q2=sin(theta2)#                                                          # Quadrature pulse produced at the output of signal mapping\n",
    "\n",
    "# For transmission of third pair of bits 11\n",
    "theta3=theta2+phi1#                                                      # Phase of signal during transmission of third bit pair 11\n",
    "I3=cos(theta3)#                                                          # In-phase pulse produced at the output of signal mapping\n",
    "Q3=sin(theta3)#                                                          # Quadrature pulse produced at the output of signal mapping\n",
    "\n",
    "# Displaying the result in command window\n",
    "print '\\n Phase of signal during transmission of first bit pair 00 = %0.0f degree'%(theta1*(180/pi))#\n",
    "print '\\n In-phase pulse produced during transmission of first bit pair 00 = %0.3f'%(I1)#\n",
    "print '\\n Quadrature pulse produced during transmission of first bit pair 00 = %0.3f'%(Q1)#\n",
    "\n",
    "print '\\n \\n Phase of signal during transmission of second bit pair 10 = %0.0f degree'%(theta2*(180/pi))#\n",
    "print '\\n In-phase pulse produced during transmission of second bit pair 10 = %0.0f'%(I2)#\n",
    "print '\\n Quadrature pulse produced during transmission of second bit pair 10 = %0.0f'%(Q2)#\n",
    "\n",
    "print '\\n \\n Phase of signal during transmission of third bit pair 11 = %0.0f degree'%(theta3*(180/pi))#\n",
    "print '\\n In-phase pulse produced during transmission of third bit pair 11 = %0.3f'%(I3)#\n",
    "print '\\n Quadrature pulse produced during transmission of third bit pair 11 = %0.3f'%(Q3)#"
   ]
  },
  {
   "cell_type": "markdown",
   "metadata": {},
   "source": [
    "## Example no 6.10 Page no. 310"
   ]
  },
  {
   "cell_type": "code",
   "execution_count": 6,
   "metadata": {
    "collapsed": false
   },
   "outputs": [
    {
     "name": "stdout",
     "output_type": "stream",
     "text": [
      "S1 = 0\n",
      "\n",
      " S2 = 0\n",
      "\n",
      " S3 = 1\n",
      "\n",
      " S4 = 0\n",
      "\n",
      " S5 = 1\n",
      "\n",
      " S6 = 1\n"
     ]
    }
   ],
   "source": [
    "# To demonstrate how the received signal is detected properly using baseband differential detector.\n",
    "\n",
    "\n",
    "# Given data\n",
    "x1=-0.707#\n",
    "y1=-0.707#\n",
    "x2=0.707#\n",
    "y2=-0.707#\n",
    "x3=0.707#\n",
    "y3=0.707#\n",
    "\n",
    "if x1<0:\n",
    "    print 'S1 = 0'\n",
    "else:\n",
    "    print '\\n S1 = 1'  \n",
    "    \n",
    "if y1<0:\n",
    "    print '\\n S2 = 0'\n",
    "else:\n",
    "    print '\\n S2 = 1'  \n",
    "\n",
    "if x2<0 :\n",
    "    print '\\n S3 = 0'\n",
    "else:\n",
    "    print '\\n S3 = 1'  \n",
    " \n",
    "if y2<0:\n",
    "    print '\\n S4 = 0'\n",
    "else:\n",
    "    print '\\n S4 = 1'  \n",
    " \n",
    "if x3<0:\n",
    "    print '\\n S5 = 0'\n",
    "else:\n",
    "    print '\\n S5 = 1'  \n",
    " \n",
    "if y3<0 :\n",
    "    print '\\n S6 = 0'\n",
    "else:\n",
    "    print '\\n S6 = 1'  "
   ]
  },
  {
   "cell_type": "markdown",
   "metadata": {},
   "source": [
    "## Example no 6.11 Page no. 321"
   ]
  },
  {
   "cell_type": "code",
   "execution_count": 7,
   "metadata": {
    "collapsed": false
   },
   "outputs": [
    {
     "name": "stdout",
     "output_type": "stream",
     "text": [
      "\n",
      " The 3-dB bandwidth-bit duration product = 67.500 kHz\n",
      "\n",
      " The 90 percent power bandwidth = 153.9 kHz\n"
     ]
    }
   ],
   "source": [
    "from __future__ import division\n",
    "# To find 3-dB bandwidth for gaussian low pass filter to produce 0.25GMSK, 90% power bandwidth.\n",
    "\n",
    "\n",
    "# Given data\n",
    "Rb=270*10**3#                                                  # Channel data rate in bps\n",
    "BT=0.25#                                                      # 3-dB bandwidth-bit duration product\n",
    "\n",
    "T=1/Rb#                                                       # Time\n",
    "B=BT/T#                                                       # 3-dB bandwidth in Hz\n",
    "# Answer is varrying due to round-off error\n",
    "\n",
    "# 90% power bandwidth\n",
    "B1=0.57*Rb#                                                   # The 90% power bandwidth\n",
    "# Answer is varrying due to round-off error\n",
    "\n",
    "# Displaying the result in command window\n",
    "print '\\n The 3-dB bandwidth-bit duration product = %0.3f kHz'%(B*10**-3)#\n",
    "print '\\n The 90 percent power bandwidth = %0.1f kHz'%(B1*10**-3)#"
   ]
  },
  {
   "cell_type": "markdown",
   "metadata": {},
   "source": [
    "## Example no 6.12 Page no. 321"
   ]
  },
  {
   "cell_type": "code",
   "execution_count": 8,
   "metadata": {
    "collapsed": false
   },
   "outputs": [
    {
     "name": "stdout",
     "output_type": "stream",
     "text": [
      "\n",
      " The 3-dB bandwidth-bit duration product = 66.500 kHz\n",
      "\n",
      " The 90 percent power bandwidth = 108.3 kHz\n"
     ]
    }
   ],
   "source": [
    "from __future__ import division\n",
    "# To find 3-dB bandwidth for gaussian low pass filter to produce 0.25GMSK, 90% power bandwidth.\n",
    "\n",
    "\n",
    "# Given data\n",
    "Rb=190*10**3#                                                  # Channel data rate in bps\n",
    "BT=0.35#                                                      # 3-dB bandwidth-bit duration product\n",
    "\n",
    "T=1/Rb#                                                       # Time\n",
    "B=BT/T#                                                       # 3-dB bandwidth in Hz\n",
    "# Answer is varrying due to round-off error\n",
    "\n",
    "# 90% power bandwidth\n",
    "B1=0.57*Rb#                                                   # The 90% power bandwidth\n",
    "# Answer is varrying due to round-off error\n",
    "\n",
    "# Displaying the result in command window\n",
    "print '\\n The 3-dB bandwidth-bit duration product = %0.3f kHz'%(B*10**-3)#\n",
    "print '\\n The 90 percent power bandwidth = %0.1f kHz'%(B1*10**-3)#"
   ]
  }
 ],
 "metadata": {
  "kernelspec": {
   "display_name": "Python 2",
   "language": "python",
   "name": "python2"
  },
  "language_info": {
   "codemirror_mode": {
    "name": "ipython",
    "version": 2
   },
   "file_extension": ".py",
   "mimetype": "text/x-python",
   "name": "python",
   "nbconvert_exporter": "python",
   "pygments_lexer": "ipython2",
   "version": "2.7.9"
  }
 },
 "nbformat": 4,
 "nbformat_minor": 0
}
