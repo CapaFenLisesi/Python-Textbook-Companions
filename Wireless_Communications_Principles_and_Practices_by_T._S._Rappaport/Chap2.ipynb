{
 "cells": [
  {
   "cell_type": "markdown",
   "metadata": {},
   "source": [
    "# Chapter No.2 : Appendix B Noise figure calculations for link budgets"
   ]
  },
  {
   "cell_type": "markdown",
   "metadata": {},
   "source": [
    "## Example no B.1 Page no. 613"
   ]
  },
  {
   "cell_type": "code",
   "execution_count": 11,
   "metadata": {
    "collapsed": false
   },
   "outputs": [
    {
     "name": "stdout",
     "output_type": "stream",
     "text": [
      "\n",
      " SNR at the detector output stage = 14 dB\n"
     ]
    }
   ],
   "source": [
    "# To determine SNR at the detector output stage\n",
    "\n",
    "\n",
    "# Given data\n",
    "SNRin=20#                                         # SNR at the receiver antenna input terminal in dB\n",
    "F=6#                                              # Noise figure in dB\n",
    "\n",
    "# SNR at the detector output stage\n",
    "SNRout=SNRin-F#                                  # SNR at the detector output stage in dB\n",
    "\n",
    "# Displaying the result in command window\n",
    "print '\\n SNR at the detector output stage = %0.0f dB'%(SNRout)#"
   ]
  },
  {
   "cell_type": "markdown",
   "metadata": {},
   "source": [
    "## Example no B.2 Page no. 613"
   ]
  },
  {
   "cell_type": "code",
   "execution_count": 12,
   "metadata": {
    "collapsed": false
   },
   "outputs": [
    {
     "name": "stdout",
     "output_type": "stream",
     "text": [
      "\n",
      " Noise figure of mobile receiver system = 9 dB\n"
     ]
    }
   ],
   "source": [
    "from __future__ import division\n",
    "from math import log10\n",
    "#To compute noise figure of mobile receiver system\n",
    "\n",
    "\n",
    "#Given data\n",
    "F1=3#                                       #Coaxial cable loss in dB\n",
    "F1=10**(F1/10)#                              #Coaxial cable loss\n",
    "F2=6#                                       #Noise figure of phone in dB\n",
    "F2=10**(F2/10)#                              #Noise figure of phone\n",
    "\n",
    "Fsys=F1+((F2-1)/0.5)#                       #Noise figure of mobile receiver system\n",
    "Fsys=10*log10(Fsys)#                        #Noise figure of mobile receiver system in dB\n",
    "\n",
    "# Displaying the result in command window\n",
    "print '\\n Noise figure of mobile receiver system = %0.0f dB'%(Fsys)"
   ]
  },
  {
   "cell_type": "markdown",
   "metadata": {},
   "source": [
    "## Example no B.3 Page no. 614"
   ]
  },
  {
   "cell_type": "code",
   "execution_count": 13,
   "metadata": {
    "collapsed": false
   },
   "outputs": [
    {
     "name": "stdout",
     "output_type": "stream",
     "text": [
      "\n",
      " Average output thermal noise power = -119.5 dBm\n"
     ]
    }
   ],
   "source": [
    "from __future__ import division\n",
    "from math import log10\n",
    "# To determine average output thermal noise power\n",
    "\n",
    "\n",
    "# Given data\n",
    "T0=300#                                                                   # Ambient room temperature in K\n",
    "Fsys=8#                                                                   # Noise figure of the system\n",
    "Tant=290#                                                                 # Effective temperature of antenna in K\n",
    "K=1.38*10**-23#                                                            # Boltzmann's constant in J/K\n",
    "B=30000#                                                                  # Effective bandwidth in Hz\n",
    "\n",
    "Te=(Fsys-1)*T0#                                                           # Effective noise temperature in K\n",
    "Ttotal=Tant+Te#                                                           # Overall system noise temperature in K\n",
    "\n",
    "# To determine average output thermal noise power\n",
    "Pn=(1+(Ttotal/T0))*K*T0*B#                                                # Average output thermal noise power in W\n",
    "Pn=10*log10(Pn/(10**-3))#                                                  # Average output thermal noise power in dBm\n",
    "\n",
    "# Displaying the result in command window\n",
    "print '\\n Average output thermal noise power = %0.1f dBm'%(Pn)#"
   ]
  },
  {
   "cell_type": "markdown",
   "metadata": {},
   "source": [
    "## Example no B.4 Page no. 614"
   ]
  },
  {
   "cell_type": "code",
   "execution_count": 1,
   "metadata": {
    "collapsed": false
   },
   "outputs": [
    {
     "name": "stdout",
     "output_type": "stream",
     "text": [
      "\n",
      " Average signal strength at the antenna terminal to provide 30dB SNR = -89.5 dBm\n"
     ]
    }
   ],
   "source": [
    "# To determine average signal strength at the antenna terminal \n",
    "\n",
    "\n",
    "# Given data\n",
    "Pn=-119.5#                                                           # Average output thermal noise power in dBm\n",
    "SNR=30#                                                              # SNR at the receiver output in dB\n",
    "\n",
    "# To determine average signal strength at the antenna terminal to provide 30dB SNR\n",
    "Ps=SNR+Pn#                                                           # Average signal strength at the antenna terminal\n",
    "\n",
    "# Displaying the result in command window\n",
    "print '\\n Average signal strength at the antenna terminal to provide 30dB SNR = %0.1f dBm'%(Ps)#"
   ]
  },
  {
   "cell_type": "markdown",
   "metadata": {},
   "source": [
    "## Example no B.5 Page no. 615"
   ]
  },
  {
   "cell_type": "code",
   "execution_count": 2,
   "metadata": {
    "collapsed": false
   },
   "outputs": [
    {
     "name": "stdout",
     "output_type": "stream",
     "text": [
      "\n",
      " Average signal strength at the antenna terminal to provide 30dB SNR = -68.5 dBm\n"
     ]
    }
   ],
   "source": [
    "# To determine average signal strength at the antenna terminal \n",
    "\n",
    "\n",
    "# Given data\n",
    "Pn=-104.5#                                                           # Average output thermal noise power in dBm\n",
    "SNR=36#                                                              # SNR at the receiver output in dB\n",
    "\n",
    "# To determine average signal strength at the antenna terminal to provide 36dB SNR\n",
    "Ps=SNR+Pn#                                                           # Average signal strength at the antenna terminal\n",
    "\n",
    "# Displaying the result in command window\n",
    "print '\\n Average signal strength at the antenna terminal to provide 30dB SNR = %0.1f dBm'%(Ps)#"
   ]
  },
  {
   "cell_type": "markdown",
   "metadata": {},
   "source": [
    "## Example no B.6 Page no. 615"
   ]
  },
  {
   "cell_type": "code",
   "execution_count": 16,
   "metadata": {
    "collapsed": false
   },
   "outputs": [
    {
     "name": "stdout",
     "output_type": "stream",
     "text": [
      "\n",
      " Noise figure of mobile receiver system = 11 dB\n"
     ]
    }
   ],
   "source": [
    "from __future__ import division\n",
    "from math import log10\n",
    "#To compute noise figure of mobile receiver system\n",
    "\n",
    "\n",
    "#Given data\n",
    "F1=5#                                       #Coaxial cable loss in dB\n",
    "F1=10**(F1/10)#                              #Coaxial cable loss\n",
    "F2=8#                                       #Noise figure of phone in dB\n",
    "F2=10**(F2/10)#                              #Noise figure of phone\n",
    "\n",
    "Fsys=F1+((F2-1)/0.5)#                       #Noise figure of mobile receiver system\n",
    "Fsys=10*log10(Fsys)#                        #Noise figure of mobile receiver system in dB\n",
    "\n",
    "# Displaying the result in command window\n",
    "print '\\n Noise figure of mobile receiver system = %0.0f dB'%(Fsys)"
   ]
  },
  {
   "cell_type": "markdown",
   "metadata": {},
   "source": [
    "## Example no B.7 Page no. 615"
   ]
  },
  {
   "cell_type": "code",
   "execution_count": 3,
   "metadata": {
    "collapsed": false
   },
   "outputs": [
    {
     "name": "stdout",
     "output_type": "stream",
     "text": [
      "\n",
      " SNR at the detector output stage = 24 dB\n"
     ]
    }
   ],
   "source": [
    "# To determine SNR at the detector output stage\n",
    "\n",
    "\n",
    "# Given data\n",
    "SNRin=30#                                         # SNR at the receiver antenna input terminal in dB\n",
    "F=6#                                              # Noise figure in dB\n",
    "\n",
    "# SNR at the detector output stage\n",
    "SNRout=SNRin-F#                                  # SNR at the detector output stage in dB\n",
    "\n",
    "# Displaying the result in command window\n",
    "print '\\n SNR at the detector output stage = %0.0f dB'%(SNRout)#"
   ]
  }
 ],
 "metadata": {
  "kernelspec": {
   "display_name": "Python 2",
   "language": "python",
   "name": "python2"
  },
  "language_info": {
   "codemirror_mode": {
    "name": "ipython",
    "version": 2
   },
   "file_extension": ".py",
   "mimetype": "text/x-python",
   "name": "python",
   "nbconvert_exporter": "python",
   "pygments_lexer": "ipython2",
   "version": "2.7.9"
  }
 },
 "nbformat": 4,
 "nbformat_minor": 0
}
