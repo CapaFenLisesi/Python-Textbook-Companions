{
 "metadata": {
  "name": ""
 },
 "nbformat": 3,
 "nbformat_minor": 0,
 "worksheets": [
  {
   "cells": [
    {
     "cell_type": "heading",
     "level": 1,
     "metadata": {},
     "source": [
      "Chapter 2 : Special Purpose Diodes"
     ]
    },
    {
     "cell_type": "heading",
     "level": 2,
     "metadata": {},
     "source": [
      "Example 2.1, Page No. 68"
     ]
    },
    {
     "cell_type": "code",
     "collapsed": false,
     "input": [
      "# maximum current\n",
      "\n",
      "import math\n",
      "#Variable declaration\n",
      "Pmax=364.0               #dissipation in milliwatt\n",
      "Vz=9.1                   #in V\n",
      "\n",
      "#Calculations\n",
      "Izmax=Pmax/Vz            #in mA\n",
      "\n",
      "#Result\n",
      "print(\"maximum current the diode can handle is ,(mA)= %.f\"%Izmax)"
     ],
     "language": "python",
     "metadata": {},
     "outputs": [
      {
       "output_type": "stream",
       "stream": "stdout",
       "text": [
        "maximum current the diode can handle is ,(mA)= 40\n"
       ]
      }
     ],
     "prompt_number": 6
    },
    {
     "cell_type": "heading",
     "level": 2,
     "metadata": {},
     "source": [
      "Example 2.2, Page No. 68"
     ]
    },
    {
     "cell_type": "code",
     "collapsed": false,
     "input": [
      "# resistance\n",
      "\n",
      "import math\n",
      "#Vaariable declaration\n",
      "mip=15.0                  #in volt\n",
      "op=6.8                    #output potential in volt\n",
      "pd=mip-op                 #potential difference across series resistor\n",
      "Il=5                      #load current in mA\n",
      "nmip=20                   #new maximum input voltage in volt\n",
      "pd1=nmip-op               #new potential difference across series resistor\n",
      "Il1=20                    #new load current in mA\n",
      "\n",
      "#Calculations\n",
      "R=((pd1-pd)/((Il1-Il)*10**-3))\n",
      "print(\"value of series resistance is,(ohm)= %.1f\"%R)"
     ],
     "language": "python",
     "metadata": {},
     "outputs": [
      {
       "output_type": "stream",
       "stream": "stdout",
       "text": [
        "value of series resistance is,(ohm)= 333.3\n"
       ]
      }
     ],
     "prompt_number": 5
    },
    {
     "cell_type": "heading",
     "level": 2,
     "metadata": {},
     "source": [
      "Example 2.3, Page No.69"
     ]
    },
    {
     "cell_type": "code",
     "collapsed": false,
     "input": [
      "# Current\n",
      "\n",
      "import math\n",
      "#VAriable declaration\n",
      "V=120.0              #in V\n",
      "Vz=50.0              #in V\n",
      "R=5.0                #in ohm\n",
      "Rl=10.0              #in k-ohm\n",
      "\n",
      "#Calculations\n",
      "vd5=V-Vz             #voltage drop across 5 ohm resistor\n",
      "I5=vd5/R             #current through 5 ohm resistor\n",
      "Il=Vz/(Rl*10**3)     #current through load resistor\n",
      "Iz=I5-Il             #in A\n",
      "\n",
      "#Result\n",
      "print(\"current through zener diode is ,(A)= %.3f\"%Iz)\n"
     ],
     "language": "python",
     "metadata": {},
     "outputs": [
      {
       "output_type": "stream",
       "stream": "stdout",
       "text": [
        "current through zener diode is ,(A)= 13.995\n"
       ]
      }
     ],
     "prompt_number": 8
    }
   ],
   "metadata": {}
  }
 ]
}