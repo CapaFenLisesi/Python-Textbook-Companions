{
 "cells": [
  {
   "cell_type": "markdown",
   "metadata": {},
   "source": [
    "# 11: Crystal Structure"
   ]
  },
  {
   "cell_type": "markdown",
   "metadata": {},
   "source": [
    "## Example number 1, Page number 357"
   ]
  },
  {
   "cell_type": "code",
   "execution_count": 1,
   "metadata": {
    "collapsed": false
   },
   "outputs": [
    {
     "name": "stdout",
     "output_type": "stream",
     "text": [
      "miller indices of plane are ( 6 4 3 )\n"
     ]
    }
   ],
   "source": [
    "#importing modules\n",
    "import math\n",
    "from __future__ import division\n",
    "\n",
    "#Variable declaration  \n",
    "a=1/2;\n",
    "b=1/3;\n",
    "c=1/4;     #intercepts along the three axes\n",
    "\n",
    "#Calculations\n",
    "def lcm(x, y):\n",
    "    if x > y:\n",
    "        greater = x\n",
    "    else:\n",
    "        greater = y\n",
    "    while(True):\n",
    "        if((greater % x == 0) and (greater % y == 0)):\n",
    "            lcm = greater\n",
    "            break\n",
    "        greater += 1\n",
    "        \n",
    "    return lcm\n",
    "\n",
    "z=lcm(1/a,1/b);\n",
    "lcm=lcm(z,1/c);\n",
    "h=a*lcm;\n",
    "k=b*lcm;\n",
    "l=c*lcm;      #miller indices of plane\n",
    "\n",
    "#Result\n",
    "print \"miller indices of plane are (\",int(h),int(k),int(l),\")\""
   ]
  },
  {
   "cell_type": "markdown",
   "metadata": {},
   "source": [
    "## Example number 2, Page number 357"
   ]
  },
  {
   "cell_type": "code",
   "execution_count": 2,
   "metadata": {
    "collapsed": false
   },
   "outputs": [
    {
     "name": "stdout",
     "output_type": "stream",
     "text": [
      "miller indices of plane are ( 3 2 0 )\n"
     ]
    }
   ],
   "source": [
    "#importing modules\n",
    "import math\n",
    "from __future__ import division\n",
    "\n",
    "#Variable declaration  \n",
    "a=1/2;\n",
    "b=1/3;\n",
    "x=float(\"inf\");\n",
    "c=1/x;     #intercepts along the three axes\n",
    "\n",
    "#Calculations\n",
    "def lcm(x, y):\n",
    "    if x > y:\n",
    "        greater = x\n",
    "    else:\n",
    "        greater = y\n",
    "    while(True):\n",
    "        if((greater % x == 0) and (greater % y == 0)):\n",
    "            lcm = greater\n",
    "            break\n",
    "        greater += 1\n",
    "        \n",
    "    return lcm\n",
    "\n",
    "lcm=lcm(1/a,1/b);\n",
    "h=a*lcm;\n",
    "k=b*lcm;\n",
    "l=c*lcm;      #miller indices of plane\n",
    "\n",
    "#Result\n",
    "print \"miller indices of plane are (\",int(h),int(k),int(l),\")\""
   ]
  },
  {
   "cell_type": "markdown",
   "metadata": {},
   "source": [
    "## Example number 3, Page number 358"
   ]
  },
  {
   "cell_type": "code",
   "execution_count": 3,
   "metadata": {
    "collapsed": false
   },
   "outputs": [
    {
     "name": "stdout",
     "output_type": "stream",
     "text": [
      "miller indices of plane are ( 6 3 2 )\n"
     ]
    }
   ],
   "source": [
    "#importing modules\n",
    "import math\n",
    "from __future__ import division\n",
    "\n",
    "#Variable declaration  \n",
    "a=1/1;\n",
    "b=1/2;\n",
    "c=1/3;     #intercepts along the three axes\n",
    "\n",
    "#Calculations\n",
    "def lcm(x, y):\n",
    "    if x > y:\n",
    "        greater = x\n",
    "    else:\n",
    "        greater = y\n",
    "    while(True):\n",
    "        if((greater % x == 0) and (greater % y == 0)):\n",
    "            lcm = greater\n",
    "            break\n",
    "        greater += 1\n",
    "        \n",
    "    return lcm\n",
    "\n",
    "z=lcm(1/a,1/b);\n",
    "lcm=lcm(z,1/c);\n",
    "h=a*lcm;\n",
    "k=b*lcm;\n",
    "l=c*lcm;      #miller indices of plane\n",
    "\n",
    "#Result\n",
    "print \"miller indices of plane are (\",int(h),int(k),int(l),\")\""
   ]
  },
  {
   "cell_type": "markdown",
   "metadata": {},
   "source": [
    "## Example number 4, Page number 359"
   ]
  },
  {
   "cell_type": "code",
   "execution_count": 14,
   "metadata": {
    "collapsed": false
   },
   "outputs": [
    {
     "name": "stdout",
     "output_type": "stream",
     "text": [
      "corresponding intercept on Y-axis and Z-axis are 0.8 angstrom and 0.65 angstrom\n"
     ]
    }
   ],
   "source": [
    "#importing modules\n",
    "import math\n",
    "from __future__ import division\n",
    "\n",
    "#Variable declaration  \n",
    "a=1.1;\n",
    "b=1.2;\n",
    "c=1.3;     #intercepts along the three axes(angstrom)\n",
    "h=2;\n",
    "k=3;\n",
    "l=4;       #miller indices of plane\n",
    "\n",
    "#Calculations\n",
    "l1=a*h/h;\n",
    "l2=b*h/k;    #corresponding intercept on Y-axis(angstrom)\n",
    "l3=c*h/l;    #corresponding intercept on Z-axis(angstrom)\n",
    "\n",
    "#Result\n",
    "print \"corresponding intercept on Y-axis and Z-axis are\",l2,\"angstrom and\",l3,\"angstrom\""
   ]
  },
  {
   "cell_type": "markdown",
   "metadata": {},
   "source": [
    "## Example number 5, Page number 360"
   ]
  },
  {
   "cell_type": "code",
   "execution_count": 4,
   "metadata": {
    "collapsed": false
   },
   "outputs": [
    {
     "name": "stdout",
     "output_type": "stream",
     "text": [
      "miller indices of plane are ( 6 -2 3 )\n"
     ]
    }
   ],
   "source": [
    "#importing modules\n",
    "import math\n",
    "from __future__ import division\n",
    "\n",
    "#Variable declaration  \n",
    "a=1/1;\n",
    "b=-1/3;\n",
    "c=1/2;     #intercepts along the three axes\n",
    "\n",
    "#Calculations\n",
    "def lcm(x, y):\n",
    "    if x > y:\n",
    "        greater = x\n",
    "    else:\n",
    "        greater = y\n",
    "    while(True):\n",
    "        if((greater % x == 0) and (greater % y == 0)):\n",
    "            lcm = greater\n",
    "            break\n",
    "        greater += 1\n",
    "        \n",
    "    return lcm\n",
    "\n",
    "z=lcm(1/a,1/b);\n",
    "lcm=lcm(z,1/c);\n",
    "h=a*lcm;\n",
    "k=b*lcm;\n",
    "l=c*lcm;      #miller indices of plane\n",
    "\n",
    "#Result\n",
    "print \"miller indices of plane are (\",int(h),int(k),int(l),\")\""
   ]
  },
  {
   "cell_type": "markdown",
   "metadata": {},
   "source": [
    "## Example number 6, Page number 360"
   ]
  },
  {
   "cell_type": "code",
   "execution_count": 13,
   "metadata": {
    "collapsed": false
   },
   "outputs": [
    {
     "name": "stdout",
     "output_type": "stream",
     "text": [
      "lattice constant is 3.61 angstrom\n",
      "distance between two nearest copper atoms is 2.55 angstrom\n"
     ]
    }
   ],
   "source": [
    "#importing modules\n",
    "import math\n",
    "from __future__ import division\n",
    "\n",
    "#Variable declaration    \n",
    "n=4;        #number of molecules per unit cell\n",
    "M=63.5;     #molecular weight\n",
    "N=6.02*10**26;     #avagadro number(kg mol-1)\n",
    "rho=8.96*10**3;    #density(kg/m**3)\n",
    "\n",
    "#Calculations\n",
    "a=(n*M/(rho*N))**(1/3);     #lattice constant(m)\n",
    "a=round(a*10**10,2);        #lattice constant(angstrom) \n",
    "d=a/math.sqrt(2);           #distance between two nearest copper atoms(angstrom)\n",
    "\n",
    "#Result\n",
    "print \"lattice constant is\",a,\"angstrom\"\n",
    "print \"distance between two nearest copper atoms is\",round(d,2),\"angstrom\""
   ]
  },
  {
   "cell_type": "markdown",
   "metadata": {},
   "source": [
    "## Example number 7, Page number 361"
   ]
  },
  {
   "cell_type": "code",
   "execution_count": 7,
   "metadata": {
    "collapsed": false
   },
   "outputs": [
    {
     "name": "stdout",
     "output_type": "stream",
     "text": [
      "lattice constant is 2.8687 angstrom\n"
     ]
    }
   ],
   "source": [
    "#importing modules\n",
    "import math\n",
    "from __future__ import division\n",
    "\n",
    "#Variable declaration    \n",
    "n=2;        #number of molecules per unit cell\n",
    "M=55.85;     #molecular weight\n",
    "N=6.02*10**26;     #avagadro number(kg mol-1)\n",
    "rho=7860;          #density(kg/m**3)\n",
    "\n",
    "#Calculations\n",
    "a=(n*M/(rho*N))**(1/3);     #lattice constant(m)\n",
    "\n",
    "#Result\n",
    "print \"lattice constant is\",round(a*10**10,4),\"angstrom\""
   ]
  }
 ],
 "metadata": {
  "kernelspec": {
   "display_name": "Python 2",
   "language": "python",
   "name": "python2"
  },
  "language_info": {
   "codemirror_mode": {
    "name": "ipython",
    "version": 2
   },
   "file_extension": ".py",
   "mimetype": "text/x-python",
   "name": "python",
   "nbconvert_exporter": "python",
   "pygments_lexer": "ipython2",
   "version": "2.7.11"
  }
 },
 "nbformat": 4,
 "nbformat_minor": 0
}
