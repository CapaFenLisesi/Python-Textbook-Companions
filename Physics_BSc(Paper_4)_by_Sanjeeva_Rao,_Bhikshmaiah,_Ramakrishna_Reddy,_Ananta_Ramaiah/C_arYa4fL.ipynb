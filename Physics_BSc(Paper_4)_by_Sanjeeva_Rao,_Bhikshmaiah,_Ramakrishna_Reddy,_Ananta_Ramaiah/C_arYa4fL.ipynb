{
 "cells": [
  {
   "cell_type": "markdown",
   "metadata": {},
   "source": [
    "# 8: Alpha and Beta Decays"
   ]
  },
  {
   "cell_type": "markdown",
   "metadata": {},
   "source": [
    "## Example number 1, Page number 282"
   ]
  },
  {
   "cell_type": "code",
   "execution_count": 9,
   "metadata": {
    "collapsed": false
   },
   "outputs": [
    {
     "name": "stdout",
     "output_type": "stream",
     "text": [
      "velocity of beta article is 0.8624 c\n",
      "mass of beta particle is 1.98 m0\n",
      "flux density is 0.029106 weber/m**2\n",
      "answer in the book varies due to rounding off errors\n"
     ]
    }
   ],
   "source": [
    "#importing modules\n",
    "import math\n",
    "from __future__ import division\n",
    "\n",
    "#Variable declaration\n",
    "e=1.6*10**-19;     #charge(coulomb)\n",
    "Ek=0.5*10**6;      #kinetic energy(eV)\n",
    "m0=9.11*10**-31;   #mass(kg)\n",
    "c=3*10**8;         #velocity of light(m/s)\n",
    "r=0.1;             #radius(m)\n",
    "\n",
    "#Calculation\n",
    "x=(Ek*e/(m0*c**2))+1;\n",
    "y=1-(1/x)**2;\n",
    "v=c*math.sqrt(y);     #velocity of beta article(m/s)\n",
    "m=m0/math.sqrt(1-(v/c)**2);     #mass of beta particle(kg)\n",
    "B=m*v/(e*r);                    #flux density(weber/m**2)\n",
    "\n",
    "#Result\n",
    "print \"velocity of beta article is\",round(v/c,4),\"c\"\n",
    "print \"mass of beta particle is\",round(m/m0,2),\"m0\"\n",
    "print \"flux density is\",round(B,6),\"weber/m**2\"\n",
    "print \"answer in the book varies due to rounding off errors\""
   ]
  },
  {
   "cell_type": "markdown",
   "metadata": {},
   "source": [
    "## Example number 2, Page number 283"
   ]
  },
  {
   "cell_type": "code",
   "execution_count": 12,
   "metadata": {
    "collapsed": false
   },
   "outputs": [
    {
     "name": "stdout",
     "output_type": "stream",
     "text": [
      "kinetic energy of alpha particle is 4.782 MeV\n"
     ]
    }
   ],
   "source": [
    "#importing modules\n",
    "import math\n",
    "from __future__ import division\n",
    "\n",
    "#Variable declaration\n",
    "A=226;       #atomic weight\n",
    "Ra=226.02540;     #mass of Ra\n",
    "Rn=222.017571;    #mass of Rn\n",
    "He=4.002603;      #mass of He\n",
    "m=931.5; \n",
    "\n",
    "#Calculation\n",
    "Q=(Ra-Rn-He)*m;   \n",
    "kalpha=(A-4)*Q/A;    #kinetic energy of alpha particle(MeV)\n",
    "\n",
    "#Result\n",
    "print \"kinetic energy of alpha particle is\",round(kalpha,3),\"MeV\""
   ]
  },
  {
   "cell_type": "markdown",
   "metadata": {},
   "source": [
    "## Example number 3, Page number 283"
   ]
  },
  {
   "cell_type": "code",
   "execution_count": 15,
   "metadata": {
    "collapsed": false
   },
   "outputs": [
    {
     "name": "stdout",
     "output_type": "stream",
     "text": [
      "maximum kinetic energy of electrons is 4.548 MeV\n",
      "answer given in the book is wrong\n"
     ]
    }
   ],
   "source": [
    "#importing modules\n",
    "import math\n",
    "from __future__ import division\n",
    "\n",
    "#Variable declaration\n",
    "Ne=22.99465;     #mass of Ne\n",
    "Na=22.989768;    #mass of Na\n",
    "m=931.5; \n",
    "\n",
    "#Calculation\n",
    "Q=(Ne-Na)*m;     #maximum kinetic energy of electrons(MeV)\n",
    "\n",
    "#Result\n",
    "print \"maximum kinetic energy of electrons is\",round(Q,3),\"MeV\"\n",
    "print \"answer given in the book is wrong\""
   ]
  },
  {
   "cell_type": "markdown",
   "metadata": {},
   "source": [
    "## Example number 4, Page number 284"
   ]
  },
  {
   "cell_type": "code",
   "execution_count": 18,
   "metadata": {
    "collapsed": false
   },
   "outputs": [
    {
     "name": "stdout",
     "output_type": "stream",
     "text": [
      "Q value of 1st decay is 0.482 MeV\n",
      "Q value of 2nd decay is 1.504 MeV\n"
     ]
    }
   ],
   "source": [
    "#importing modules\n",
    "import math\n",
    "from __future__ import division\n",
    "\n",
    "#Variable declaration\n",
    "K=39.963999;     #mass of K\n",
    "Ca=39.962591;    #mass of Ca\n",
    "Ar=39.962384;    #mass of Ar\n",
    "me=0.000549;     #mass of electron  \n",
    "m=931.5; \n",
    "\n",
    "#Calculation\n",
    "Q1=(K-Ar-(2*me))*m;   #Q value of 1st decay(MeV)\n",
    "Q2=(K-Ar)*m;      #Q value of 2nd decay(MeV)\n",
    "\n",
    "#Result\n",
    "print \"Q value of 1st decay is\",round(Q1,3),\"MeV\"\n",
    "print \"Q value of 2nd decay is\",round(Q2,3),\"MeV\""
   ]
  }
 ],
 "metadata": {
  "kernelspec": {
   "display_name": "Python 2",
   "language": "python",
   "name": "python2"
  },
  "language_info": {
   "codemirror_mode": {
    "name": "ipython",
    "version": 2
   },
   "file_extension": ".py",
   "mimetype": "text/x-python",
   "name": "python",
   "nbconvert_exporter": "python",
   "pygments_lexer": "ipython2",
   "version": "2.7.11"
  }
 },
 "nbformat": 4,
 "nbformat_minor": 0
}
