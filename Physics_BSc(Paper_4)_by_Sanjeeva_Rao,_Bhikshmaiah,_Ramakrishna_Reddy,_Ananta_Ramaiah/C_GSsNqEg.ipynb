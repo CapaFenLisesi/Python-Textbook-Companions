{
 "cells": [
  {
   "cell_type": "markdown",
   "metadata": {},
   "source": [
    "# 10: Nuclear Detectors"
   ]
  },
  {
   "cell_type": "markdown",
   "metadata": {},
   "source": [
    "## Example number 1, Page number 322"
   ]
  },
  {
   "cell_type": "code",
   "execution_count": 2,
   "metadata": {
    "collapsed": false
   },
   "outputs": [
    {
     "name": "stdout",
     "output_type": "stream",
     "text": [
      "current produced is 1.829 *10**-13 amp\n"
     ]
    }
   ],
   "source": [
    "#importing modules\n",
    "import math\n",
    "from __future__ import division\n",
    "\n",
    "#Variable declaration\n",
    "e=1.6*10**-19;      #charge(coulomb)\n",
    "n=10;               #number of particles\n",
    "E=4*10**6;          #energy of alpha particle(eV)\n",
    "E1=35;              #energy of 1 ion pair(eV)\n",
    "\n",
    "#Calculation\n",
    "N=E*n/E1;             #number of ion pairs\n",
    "q=N*e;                #current produced(amp)\n",
    "\n",
    "#Result\n",
    "print \"current produced is\",round(q*10**13,3),\"*10**-13 amp\""
   ]
  },
  {
   "cell_type": "markdown",
   "metadata": {},
   "source": [
    "## Example number 2, Page number 322"
   ]
  },
  {
   "cell_type": "code",
   "execution_count": 5,
   "metadata": {
    "collapsed": false
   },
   "outputs": [
    {
     "name": "stdout",
     "output_type": "stream",
     "text": [
      "number of ion pairs required is 6.25 *10**5\n",
      "energy of alpha-particles is 21.875 MeV\n"
     ]
    }
   ],
   "source": [
    "#importing modules\n",
    "import math\n",
    "from __future__ import division\n",
    "\n",
    "#Variable declaration\n",
    "v=4;                #voltage sensitivity(div/volt)\n",
    "d=0.8;              #number of divisions\n",
    "C=0.5*10**-12;      #capacitance(F)\n",
    "e=1.6*10**-19;      #charge(coulomb)\n",
    "E1=35;              #energy of 1 ion pair(eV)\n",
    "\n",
    "#Calculation\n",
    "V=d/v;              #voltage(V)\n",
    "q=C*V;              #current(C)\n",
    "n=q/e;              #number of ion pairs required\n",
    "E=n*E1/10**6;       #energy of alpha-particles(MeV)\n",
    "\n",
    "#Result\n",
    "print \"number of ion pairs required is\",n/10**5,\"*10**5\"\n",
    "print \"energy of alpha-particles is\",E,\"MeV\""
   ]
  },
  {
   "cell_type": "markdown",
   "metadata": {},
   "source": [
    "## Example number 3, Page number 323"
   ]
  },
  {
   "cell_type": "code",
   "execution_count": 7,
   "metadata": {
    "collapsed": false
   },
   "outputs": [
    {
     "name": "stdout",
     "output_type": "stream",
     "text": [
      "maximum radial field is 1.89 *10**6 volts/meter\n",
      "counter will last for 3.7 years\n"
     ]
    }
   ],
   "source": [
    "#importing modules\n",
    "import math\n",
    "from __future__ import division\n",
    "\n",
    "#Variable declaration\n",
    "V=1000;              #voltage(V)\n",
    "r=0.0001;            #radius(m)\n",
    "b=2*10**-2;          #diameter(m)\n",
    "a=10**-4;\n",
    "n=10**9;             #number of counts\n",
    "\n",
    "#Calculation\n",
    "Emax=V/(r*math.log(b/a));    #maximum radial field(volts/meter)\n",
    "N=n/(50*30*60*3000);         #counter will last for(years)\n",
    "\n",
    "#Result\n",
    "print \"maximum radial field is\",round(Emax/10**6,2),\"*10**6 volts/meter\"\n",
    "print \"counter will last for\",round(N,1),\"years\""
   ]
  },
  {
   "cell_type": "markdown",
   "metadata": {},
   "source": [
    "## Example number 4, Page number 324"
   ]
  },
  {
   "cell_type": "code",
   "execution_count": 9,
   "metadata": {
    "collapsed": false
   },
   "outputs": [
    {
     "name": "stdout",
     "output_type": "stream",
     "text": [
      "energy of the particle is 1500 MeV\n"
     ]
    }
   ],
   "source": [
    "#importing modules\n",
    "import math\n",
    "from __future__ import division\n",
    "\n",
    "#Variable declaration\n",
    "r=2;               #radius(m)\n",
    "B=2.5;             #flux density(Wb/m**2)\n",
    "q=1.6*10**-19;     #charge(coulomb)\n",
    "c=3*10**8;         #velocity of light(m/sec)\n",
    "\n",
    "#Calculation\n",
    "E=B*q*r*c*10**-6/q;     #energy of the particle(MeV)\n",
    "\n",
    "#Result\n",
    "print \"energy of the particle is\",int(E),\"MeV\""
   ]
  },
  {
   "cell_type": "markdown",
   "metadata": {},
   "source": [
    "## Example number 5, Page number 325"
   ]
  },
  {
   "cell_type": "code",
   "execution_count": 10,
   "metadata": {
    "collapsed": false
   },
   "outputs": [
    {
     "name": "stdout",
     "output_type": "stream",
     "text": [
      "average current in the circuit is 1.6e-11 A\n"
     ]
    }
   ],
   "source": [
    "#importing modules\n",
    "import math\n",
    "from __future__ import division\n",
    "\n",
    "#Variable declaration\n",
    "cr=600;            #counting rate(counts/minute)\n",
    "e=10**7;           #number of electrons per discharge\n",
    "q=1.6*10**-19;     #charge(coulomb)\n",
    "t=60;              #number of seconds\n",
    "\n",
    "#Calculation\n",
    "n=cr*e;            #number of electrons in 1 minute\n",
    "q=n*q/t;           #average current in the circuit(A)\n",
    "\n",
    "#Result\n",
    "print \"average current in the circuit is\",q,\"A\""
   ]
  }
 ],
 "metadata": {
  "kernelspec": {
   "display_name": "Python 2",
   "language": "python",
   "name": "python2"
  },
  "language_info": {
   "codemirror_mode": {
    "name": "ipython",
    "version": 2
   },
   "file_extension": ".py",
   "mimetype": "text/x-python",
   "name": "python",
   "nbconvert_exporter": "python",
   "pygments_lexer": "ipython2",
   "version": "2.7.11"
  }
 },
 "nbformat": 4,
 "nbformat_minor": 0
}
