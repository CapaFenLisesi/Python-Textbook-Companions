{
 "cells": [
  {
   "cell_type": "markdown",
   "metadata": {},
   "source": [
    "# 4: Matter Waves"
   ]
  },
  {
   "cell_type": "markdown",
   "metadata": {},
   "source": [
    "## Example number 1, Page number 158"
   ]
  },
  {
   "cell_type": "code",
   "execution_count": 2,
   "metadata": {
    "collapsed": false
   },
   "outputs": [
    {
     "name": "stdout",
     "output_type": "stream",
     "text": [
      "de-Broglie wavelength of proton is 1 angstrom\n"
     ]
    }
   ],
   "source": [
    "#importing modules\n",
    "import math\n",
    "from __future__ import division\n",
    "\n",
    "#Variable declaration  \n",
    "m=1.67*10**-27;            #mass of proton(kg)\n",
    "h=6.625*10**-34;           #planks constant(Js)\n",
    "v=3967;                    #velocity of proton(m/s)\n",
    "\n",
    "#Calculations\n",
    "lamda=h/(m*v);             #de-Broglie wavelength of proton(m)\n",
    "\n",
    "#Result\n",
    "print \"de-Broglie wavelength of proton is\",int(lamda*10**10),\"angstrom\""
   ]
  },
  {
   "cell_type": "markdown",
   "metadata": {},
   "source": [
    "## Example number 2, Page number 158"
   ]
  },
  {
   "cell_type": "code",
   "execution_count": 6,
   "metadata": {
    "collapsed": false
   },
   "outputs": [
    {
     "name": "stdout",
     "output_type": "stream",
     "text": [
      "kinetic energy of electron is 6 eV\n"
     ]
    }
   ],
   "source": [
    "#importing modules\n",
    "import math\n",
    "from __future__ import division\n",
    "\n",
    "#Variable declaration  \n",
    "m=9.11*10**-31;            #mass of electron(kg)\n",
    "h=6.625*10**-34;           #planks constant(Js)\n",
    "lamda=5*10**-10;           #de-Broglie wavelength(m)\n",
    "e=1.6*10**-19;             #charge(coulomb)\n",
    "\n",
    "#Calculations\n",
    "E=h**2/(2*m*lamda**2*e);     #kinetic energy of electron(eV)\n",
    "\n",
    "#Result\n",
    "print \"kinetic energy of electron is\",int(E),\"eV\""
   ]
  },
  {
   "cell_type": "markdown",
   "metadata": {},
   "source": [
    "## Example number 3, Page number 158"
   ]
  },
  {
   "cell_type": "code",
   "execution_count": 8,
   "metadata": {
    "collapsed": false
   },
   "outputs": [
    {
     "name": "stdout",
     "output_type": "stream",
     "text": [
      "de-Broglie wavelength of proton is 3.97 *10**-6 angstrom\n"
     ]
    }
   ],
   "source": [
    "#importing modules\n",
    "import math\n",
    "from __future__ import division\n",
    "\n",
    "#Variable declaration  \n",
    "c=3*10**8;                  #velocity of light(m/sec)\n",
    "m=1.67*10**-27;            #mass of proton(kg)\n",
    "h=6.625*10**-34;             #planks constant(Js)\n",
    "\n",
    "#Calculations\n",
    "v=c/30;             #velocity of proton(m/sec)\n",
    "lamda=h/(m*v);     #de-Broglie wavelength of proton(m)\n",
    "\n",
    "#Result\n",
    "print \"de-Broglie wavelength of proton is\",round(lamda*10**14,2),\"*10**-6 angstrom\""
   ]
  },
  {
   "cell_type": "markdown",
   "metadata": {},
   "source": [
    "## Example number 4, Page number 159"
   ]
  },
  {
   "cell_type": "code",
   "execution_count": 10,
   "metadata": {
    "collapsed": false
   },
   "outputs": [
    {
     "name": "stdout",
     "output_type": "stream",
     "text": [
      "de-Broglie wavelength of electron is 1 angstrom\n"
     ]
    }
   ],
   "source": [
    "#importing modules\n",
    "import math\n",
    "from __future__ import division\n",
    "\n",
    "#Variable declaration  \n",
    "V=150;          #potential difference(V)\n",
    "\n",
    "#Calculations\n",
    "lamda=12.26/math.sqrt(V);     #de-Broglie wavelength of electron(angstrom)\n",
    "\n",
    "#Result\n",
    "print \"de-Broglie wavelength of electron is\",int(lamda),\"angstrom\""
   ]
  },
  {
   "cell_type": "markdown",
   "metadata": {},
   "source": [
    "## Example number 5, Page number 159"
   ]
  },
  {
   "cell_type": "code",
   "execution_count": 12,
   "metadata": {
    "collapsed": false
   },
   "outputs": [
    {
     "name": "stdout",
     "output_type": "stream",
     "text": [
      "de-Broglie wavelength is 1.23 angstrom\n"
     ]
    }
   ],
   "source": [
    "#importing modules\n",
    "import math\n",
    "from __future__ import division\n",
    "\n",
    "#Variable declaration \n",
    "V=100;                 #voltage(eV)  \n",
    "m=9.1*10**-31;         #mass of proton(kg)\n",
    "h=6.625*10**-34;       #planks constant(Js)\n",
    "e=1.6*10**-19;         #charge(coulomb)\n",
    "\n",
    "#Calculations\n",
    "lamda=h*10**10/math.sqrt(2*m*e*V);    #de-Broglie wavelength(angstrom)\n",
    "\n",
    "#Result\n",
    "print \"de-Broglie wavelength is\",round(lamda,2),\"angstrom\""
   ]
  },
  {
   "cell_type": "markdown",
   "metadata": {},
   "source": [
    "## Example number 6, Page number 159"
   ]
  },
  {
   "cell_type": "code",
   "execution_count": 14,
   "metadata": {
    "collapsed": false
   },
   "outputs": [
    {
     "name": "stdout",
     "output_type": "stream",
     "text": [
      "de-Broglie wavelength of neutron is 0.99 angstrom\n"
     ]
    }
   ],
   "source": [
    "#importing modules\n",
    "import math\n",
    "from __future__ import division\n",
    "\n",
    "#Variable declaration  \n",
    "m=1.67*10**-27;            #mass of proton(kg)\n",
    "h=6.625*10**-34;           #planks constant(Js)\n",
    "v=4000;                    #velocity of proton(m/s)\n",
    "\n",
    "#Calculations\n",
    "lamda=h*10**10/(m*v);             #de-Broglie wavelength of neutron(angstrom)\n",
    "\n",
    "#Result\n",
    "print \"de-Broglie wavelength of neutron is\",round(lamda,2),\"angstrom\""
   ]
  },
  {
   "cell_type": "markdown",
   "metadata": {},
   "source": [
    "## Example number 7, Page number 160"
   ]
  },
  {
   "cell_type": "code",
   "execution_count": 16,
   "metadata": {
    "collapsed": false
   },
   "outputs": [
    {
     "name": "stdout",
     "output_type": "stream",
     "text": [
      "ratio of kinetic energies of electron and proton is 1833\n"
     ]
    }
   ],
   "source": [
    "#importing modules\n",
    "import math\n",
    "from __future__ import division\n",
    "\n",
    "#Variable declaration  \n",
    "mp=1.67*10**-27;            #mass of proton(kg)\n",
    "me=9.11*10**-31;            #mass of electron(kg)\n",
    "\n",
    "#Calculations\n",
    "r=mp/me;                    #ratio of kinetic energies of electron and proton\n",
    "\n",
    "#Result\n",
    "print \"ratio of kinetic energies of electron and proton is\",int(r)"
   ]
  },
  {
   "cell_type": "markdown",
   "metadata": {},
   "source": [
    "## Example number 8, Page number 160"
   ]
  },
  {
   "cell_type": "code",
   "execution_count": 20,
   "metadata": {
    "collapsed": false
   },
   "outputs": [
    {
     "name": "stdout",
     "output_type": "stream",
     "text": [
      "ratio of wavelengths is 32\n"
     ]
    }
   ],
   "source": [
    "#importing modules\n",
    "import math\n",
    "from __future__ import division\n",
    "\n",
    "#Variable declaration \n",
    "m=9.1*10**-31;         #mass of proton(kg)\n",
    "e=1.6*10**-19;         #charge(coulomb)\n",
    "c=3*10**8;             #velocity of light(m/sec)\n",
    "E=1000;                #energy(eV)\n",
    "\n",
    "#Calculations\n",
    "r=math.sqrt(2*m/(e*E))*c;    #ratio of wavelengths\n",
    "\n",
    "#Result\n",
    "print \"ratio of wavelengths is\",int(round(r))"
   ]
  },
  {
   "cell_type": "markdown",
   "metadata": {},
   "source": [
    "## Example number 9, Page number 160"
   ]
  },
  {
   "cell_type": "code",
   "execution_count": 27,
   "metadata": {
    "collapsed": false
   },
   "outputs": [
    {
     "name": "stdout",
     "output_type": "stream",
     "text": [
      "wavelength of electron is 0.289 angstrom\n"
     ]
    }
   ],
   "source": [
    "#importing modules\n",
    "import math\n",
    "from __future__ import division\n",
    "\n",
    "#Variable declaration \n",
    "m=9.1*10**-31;         #mass of electron(kg)\n",
    "c=3*10**8;             #velocity of light(m/sec)\n",
    "h=6.6*10**-34;         #planks constant(Js)\n",
    "lamda=1.54*10**-10;    #wavelength of X-ray(m)\n",
    "wf=1*10**-15;          #work function(J)\n",
    "\n",
    "#Calculations\n",
    "E=h*c/lamda;           #energy of X-ray(J)\n",
    "Ee=E-wf;               #energy of electron emitted(J)\n",
    "lamda=h/math.sqrt(2*m*Ee);     #wavelength of electron(m)\n",
    "\n",
    "#Result\n",
    "print \"wavelength of electron is\",round(lamda*10**10,3),\"angstrom\""
   ]
  },
  {
   "cell_type": "markdown",
   "metadata": {},
   "source": [
    "## Example number 10, Page number 161"
   ]
  },
  {
   "cell_type": "code",
   "execution_count": 29,
   "metadata": {
    "collapsed": false
   },
   "outputs": [
    {
     "name": "stdout",
     "output_type": "stream",
     "text": [
      "de broglie wavelength of proton is 1.537 angstrom\n"
     ]
    }
   ],
   "source": [
    "#importing modules\n",
    "import math\n",
    "from __future__ import division\n",
    "\n",
    "#Variable declaration \n",
    "m=1.67*10**-27;         #mass of proton(kg)\n",
    "h=6.6*10**-34;          #planks constant(Js)\n",
    "T=400;                  #temperature(K)\n",
    "k=1.38*10**-23;         #boltzmann constant\n",
    "\n",
    "#Calculations\n",
    "lamda=h*10**10/math.sqrt(2*m*k*T);     #de broglie wavelength of proton(angstrom)\n",
    "\n",
    "#Result\n",
    "print \"de broglie wavelength of proton is\",round(lamda,3),\"angstrom\""
   ]
  },
  {
   "cell_type": "markdown",
   "metadata": {},
   "source": [
    "## Example number 11, Page number 162"
   ]
  },
  {
   "cell_type": "code",
   "execution_count": 36,
   "metadata": {
    "collapsed": false
   },
   "outputs": [
    {
     "name": "stdout",
     "output_type": "stream",
     "text": [
      "rest energy of electron is 8.19e-14 J\n",
      "energy of proton is 8.19e-11 J\n",
      "velocity of proton is 312902460.506 m/s\n",
      "wavelength of electron is 1.27 *10**-5 angstrom\n",
      "answers given in the book are wrong\n"
     ]
    }
   ],
   "source": [
    "#importing modules\n",
    "import math\n",
    "from __future__ import division\n",
    "\n",
    "#Variable declaration \n",
    "m=1.673*10**-27;        #mass of proton(kg)\n",
    "m0=9.1*10**-31;         #mass of electron(kg)\n",
    "c=3*10**8;              #velocity of light(m/sec)\n",
    "h=6.63*10**-34;         #planks constant(Js)\n",
    "ke=1000;                #kinetic energy\n",
    "\n",
    "#Calculations\n",
    "re=m0*c**2;             #rest energy of electron(J)\n",
    "Ep=ke*re;               #energy of proton(J)\n",
    "v=math.sqrt(2*Ep/m);     #velocity of proton(m/s)\n",
    "lamda=h*10**10/(m*v);   #debroglie wavelength of proton(angstrom)\n",
    "\n",
    "#Result\n",
    "print \"rest energy of electron is\",re,\"J\"\n",
    "print \"energy of proton is\",Ep,\"J\"\n",
    "print \"velocity of proton is\",v,\"m/s\"\n",
    "print \"wavelength of electron is\",round(lamda*10**5,2),\"*10**-5 angstrom\"\n",
    "print \"answers given in the book are wrong\""
   ]
  },
  {
   "cell_type": "markdown",
   "metadata": {},
   "source": [
    "## Example number 12, Page number 162"
   ]
  },
  {
   "cell_type": "code",
   "execution_count": 3,
   "metadata": {
    "collapsed": false
   },
   "outputs": [
    {
     "name": "stdout",
     "output_type": "stream",
     "text": [
      "velocity of electron is 4.55 *10**7 m/s\n",
      "kinetic energy is 5887 eV\n"
     ]
    }
   ],
   "source": [
    "#importing modules\n",
    "import math\n",
    "from __future__ import division\n",
    "\n",
    "#Variable declaration \n",
    "m=9.1*10**-31;         #mass of electron(kg)\n",
    "h=6.625*10**-34;       #planks constant(Js)\n",
    "lamda=0.16*10**-10;    #debroglie wavelength of electron(m)\n",
    "e=1.6*10**-19;         #charge(coulomb)\n",
    "\n",
    "#Calculations\n",
    "v=h/(lamda*m);         #velocity of electron(m/s)\n",
    "KE=m*v**2/(2*e);       #kinetic energy(eV)\n",
    "\n",
    "#Result\n",
    "print \"velocity of electron is\",round(v*10**-7,2),\"*10**7 m/s\"\n",
    "print \"kinetic energy is\",int(KE),\"eV\""
   ]
  },
  {
   "cell_type": "markdown",
   "metadata": {},
   "source": [
    "## Example number 13, Page number 163"
   ]
  },
  {
   "cell_type": "code",
   "execution_count": 7,
   "metadata": {
    "collapsed": false
   },
   "outputs": [
    {
     "name": "stdout",
     "output_type": "stream",
     "text": [
      "interplanar spacing of crystal is 1.78 angstrom\n",
      "answer given in the book is wrong\n"
     ]
    }
   ],
   "source": [
    "#importing modules\n",
    "import math\n",
    "from __future__ import division\n",
    "\n",
    "#Variable declaration \n",
    "m=1.67*10**-27;       #mass of proton(kg)\n",
    "h=6.62*10**-34;       #planks constant(Js)\n",
    "T=300;                 #temperature(K)\n",
    "k=1.38*10**-23;        #boltzmann constant\n",
    "\n",
    "#Calculations\n",
    "d=h*10**10/math.sqrt(2*m*k*T);     #interplanar spacing of crystal(angstrom)\n",
    "\n",
    "#Result\n",
    "print \"interplanar spacing of crystal is\",round(d,2),\"angstrom\"\n",
    "print \"answer given in the book is wrong\""
   ]
  },
  {
   "cell_type": "markdown",
   "metadata": {},
   "source": [
    "## Example number 14, Page number 164"
   ]
  },
  {
   "cell_type": "code",
   "execution_count": 10,
   "metadata": {
    "collapsed": false
   },
   "outputs": [
    {
     "name": "stdout",
     "output_type": "stream",
     "text": [
      "potential is 605.16 volts\n"
     ]
    }
   ],
   "source": [
    "#importing modules\n",
    "import math\n",
    "from __future__ import division\n",
    "\n",
    "#Variable declaration \n",
    "lamda=0.5;        #wavelength(angstrom)\n",
    "\n",
    "#Calculations\n",
    "V=(12.3/lamda)**2;    #potential(volts)\n",
    "\n",
    "#Result\n",
    "print \"potential is\",V,\"volts\""
   ]
  },
  {
   "cell_type": "markdown",
   "metadata": {},
   "source": [
    "## Example number 15, Page number 164"
   ]
  },
  {
   "cell_type": "code",
   "execution_count": 14,
   "metadata": {
    "collapsed": false
   },
   "outputs": [
    {
     "name": "stdout",
     "output_type": "stream",
     "text": [
      "energy of gama ray photon is 19.89 *10**-16 J\n"
     ]
    }
   ],
   "source": [
    "#importing modules\n",
    "import math\n",
    "from __future__ import division\n",
    "\n",
    "#Variable declaration \n",
    "lamda=1*10**-10;      #wavelength(m)\n",
    "h=6.63*10**-34;       #planks constant(Js)\n",
    "c=3*10**8;            #velocity of light(m/sec)\n",
    "\n",
    "#Calculations\n",
    "p=h/lamda;            #momentum(J-sec/m)\n",
    "E=p*c;                #energy of gama ray photon(J)\n",
    "\n",
    "#Result\n",
    "print \"energy of gama ray photon is\",E*10**16,\"*10**-16 J\""
   ]
  },
  {
   "cell_type": "markdown",
   "metadata": {},
   "source": [
    "## Example number 16, Page number 164"
   ]
  },
  {
   "cell_type": "code",
   "execution_count": 17,
   "metadata": {
    "collapsed": false
   },
   "outputs": [
    {
     "name": "stdout",
     "output_type": "stream",
     "text": [
      "velocity of electron is 2.2 *10**6 m/sec\n"
     ]
    }
   ],
   "source": [
    "#importing modules\n",
    "import math\n",
    "from __future__ import division\n",
    "\n",
    "#Variable declaration \n",
    "h=6.6*10**-34;       #planks constant(Js)\n",
    "m=9*10**-31;         #mass of electron(kg)\n",
    "r=0.53*10**-10;      #radius of orbit(m)\n",
    "\n",
    "#Calculations\n",
    "v=h/(2*math.pi*r*m);   #velocity of electron(m/sec)\n",
    "\n",
    "#Result\n",
    "print \"velocity of electron is\",round(v*10**-6,1),\"*10**6 m/sec\""
   ]
  }
 ],
 "metadata": {
  "kernelspec": {
   "display_name": "Python 2",
   "language": "python",
   "name": "python2"
  },
  "language_info": {
   "codemirror_mode": {
    "name": "ipython",
    "version": 2
   },
   "file_extension": ".py",
   "mimetype": "text/x-python",
   "name": "python",
   "nbconvert_exporter": "python",
   "pygments_lexer": "ipython2",
   "version": "2.7.11"
  }
 },
 "nbformat": 4,
 "nbformat_minor": 0
}
