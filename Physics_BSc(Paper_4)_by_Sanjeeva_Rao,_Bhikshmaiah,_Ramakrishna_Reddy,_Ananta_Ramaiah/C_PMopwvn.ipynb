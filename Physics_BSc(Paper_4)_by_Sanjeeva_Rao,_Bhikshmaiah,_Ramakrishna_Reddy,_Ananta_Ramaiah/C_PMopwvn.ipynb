{
 "cells": [
  {
   "cell_type": "markdown",
   "metadata": {},
   "source": [
    "# 2: Molecular Spectra"
   ]
  },
  {
   "cell_type": "markdown",
   "metadata": {},
   "source": [
    "## Example number 2, Page number 97"
   ]
  },
  {
   "cell_type": "code",
   "execution_count": 2,
   "metadata": {
    "collapsed": false
   },
   "outputs": [
    {
     "name": "stdout",
     "output_type": "stream",
     "text": [
      "raman shift is 219.03 cm-1\n",
      "answer given in the book is wrong\n"
     ]
    }
   ],
   "source": [
    "#importing modules\n",
    "import math\n",
    "from __future__ import division\n",
    "\n",
    "#Variable declaration   \n",
    "lamda_sample=4358;     #wavelength(angstrom)\n",
    "lamda_raman=4400;      #wavelength(angstrom)\n",
    "\n",
    "#Calculations\n",
    "delta_new=(10**8/lamda_sample)-(10**8/lamda_raman);        #raman shift(cm-1)\n",
    "\n",
    "#Result\n",
    "print \"raman shift is\",round(delta_new,2),\"cm-1\"\n",
    "print \"answer given in the book is wrong\""
   ]
  },
  {
   "cell_type": "markdown",
   "metadata": {},
   "source": [
    "## Example number 3, Page number 98"
   ]
  },
  {
   "cell_type": "code",
   "execution_count": 4,
   "metadata": {
    "collapsed": false
   },
   "outputs": [
    {
     "name": "stdout",
     "output_type": "stream",
     "text": [
      "energy of diatomic molecule is 2.22 *10**-68 J\n",
      "answer given in the book is wrong\n"
     ]
    }
   ],
   "source": [
    "#importing modules\n",
    "import math\n",
    "from __future__ import division\n",
    "\n",
    "#Variable declaration   \n",
    "h=6.62*10**-34;        #planck's constant\n",
    "\n",
    "#Calculations\n",
    "E=h**2/(2*math.pi**2);    #energy of diatomic molecule(J)\n",
    "\n",
    "#Result\n",
    "print \"energy of diatomic molecule is\",round(E*10**68,2),\"*10**-68 J\"\n",
    "print \"answer given in the book is wrong\""
   ]
  },
  {
   "cell_type": "markdown",
   "metadata": {},
   "source": [
    "## Example number 4, Page number 98"
   ]
  },
  {
   "cell_type": "code",
   "execution_count": 9,
   "metadata": {
    "collapsed": false
   },
   "outputs": [
    {
     "name": "stdout",
     "output_type": "stream",
     "text": [
      "raman shift is 0.02 *10**6 m-1\n",
      "wavelength of antistokes line 4950.5 angstrom\n",
      "answer for wavelength given in the book is wrong\n"
     ]
    }
   ],
   "source": [
    "#importing modules\n",
    "import math\n",
    "from __future__ import division\n",
    "\n",
    "#Variable declaration   \n",
    "lamda0=5000*10**-10;      #wavelength(m)\n",
    "lamda=5050.5*10**-10;     #wavelength(m)\n",
    "\n",
    "#Calculations\n",
    "new0=1/lamda0;       #frequency(m-1)\n",
    "new=1/lamda;         #frequency(m-1)\n",
    "delta_new=new0-new;        #raman shift(m-1)\n",
    "new_as=delta_new+new0;     #frequency of anti-stokes line(m-1)\n",
    "lamdaas=1*10**10/new_as;          #wavelength of anti-stokes line(angstrom)\n",
    "\n",
    "#Result\n",
    "print \"raman shift is\",round(delta_new*10**-6,2),\"*10**6 m-1\"\n",
    "print \"wavelength of antistokes line\",round(lamdaas,2),\"angstrom\"\n",
    "print \"answer for wavelength given in the book is wrong\""
   ]
  },
  {
   "cell_type": "markdown",
   "metadata": {},
   "source": [
    "## Example number 5, Page number 99"
   ]
  },
  {
   "cell_type": "code",
   "execution_count": 11,
   "metadata": {
    "collapsed": false
   },
   "outputs": [
    {
     "name": "stdout",
     "output_type": "stream",
     "text": [
      "energy required is 60 eV\n"
     ]
    }
   ],
   "source": [
    "#importing modules\n",
    "import math\n",
    "from __future__ import division\n",
    "\n",
    "#Variable declaration   \n",
    "k=4.8*10**2;        #force constant(N/m)\n",
    "x=2*10**-10;        #inter nuclear distance(m)\n",
    "e=1.6*10**-19;      #charge(coulomb)\n",
    "\n",
    "#Calculations\n",
    "E=k*x**2/(2*e);     #energy required(eV)\n",
    "\n",
    "#Result\n",
    "print \"energy required is\",int(E),\"eV\""
   ]
  },
  {
   "cell_type": "markdown",
   "metadata": {},
   "source": [
    "## Example number 6, Page number 99"
   ]
  },
  {
   "cell_type": "code",
   "execution_count": 19,
   "metadata": {
    "collapsed": false
   },
   "outputs": [
    {
     "name": "stdout",
     "output_type": "stream",
     "text": [
      "frequency of vibration is 2.04 *10**13 sec-1\n",
      "spacing between energy levels is 8.447 *10**-2 eV\n"
     ]
    }
   ],
   "source": [
    "#importing modules\n",
    "import math\n",
    "from __future__ import division\n",
    "\n",
    "#Variable declaration   \n",
    "k=187;        #force constant(N/m)\n",
    "m=1.14*10**-26;     #reduced mass(kg)\n",
    "h=6.63*10**-34;     #planck's constant\n",
    "e=1.6*10**-19;      #charge(coulomb)\n",
    "\n",
    "#Calculations\n",
    "new=math.sqrt(k/m)/(2*math.pi);          #frequency of vibration(sec-1)\n",
    "delta_E=h*new;        #spacing between energy levels(J)\n",
    "delta_E=delta_E/e;    #spacing between energy levels(eV)\n",
    "\n",
    "#Result\n",
    "print \"frequency of vibration is\",round(new*10**-13,2),\"*10**13 sec-1\"\n",
    "print \"spacing between energy levels is\",round(delta_E*10**2,3),\"*10**-2 eV\""
   ]
  },
  {
   "cell_type": "markdown",
   "metadata": {},
   "source": [
    "## Example number 7, Page number 100"
   ]
  },
  {
   "cell_type": "code",
   "execution_count": 3,
   "metadata": {
    "collapsed": false
   },
   "outputs": [
    {
     "name": "stdout",
     "output_type": "stream",
     "text": [
      "internuclear distance is 1.42 angstrom\n"
     ]
    }
   ],
   "source": [
    "#importing modules\n",
    "import math\n",
    "from __future__ import division\n",
    "\n",
    "#Variable declaration   \n",
    "B=8.5;        #seperation(cm-1)\n",
    "h=6.62*10**-27;     #planck's constant\n",
    "c=3*10**10;         #velocity of light(cm/sec)\n",
    "N=6.023*10**23;     #avagadro number\n",
    "m1=1;\n",
    "m2=79;         \n",
    "\n",
    "#Calculations\n",
    "I=h/(8*math.pi**2*B*c);    #moment inertia of molecule(gm cm**2)\n",
    "m=m1*m2/(N*(m1+m2));       #reduced mass(gm)\n",
    "r=10**8*math.sqrt(I/m);          #internuclear distance(angstrom)\n",
    "\n",
    "#Result\n",
    "print \"internuclear distance is\",round(r,2),\"angstrom\""
   ]
  },
  {
   "cell_type": "markdown",
   "metadata": {},
   "source": [
    "## Example number 8, Page number 100"
   ]
  },
  {
   "cell_type": "code",
   "execution_count": 6,
   "metadata": {
    "collapsed": false
   },
   "outputs": [
    {
     "name": "stdout",
     "output_type": "stream",
     "text": [
      "vibrational frequency of sample is 1974 cm-1\n"
     ]
    }
   ],
   "source": [
    "#importing modules\n",
    "import math\n",
    "from __future__ import division\n",
    "\n",
    "#Variable declaration   \n",
    "lamda1=4358.3;     #wavelength(angstrom)\n",
    "lamda2=4768.5;      #wavelength(angstrom)\n",
    "\n",
    "#Calculations\n",
    "delta_new=(10**8/lamda1)-(10**8/lamda2);        #vibrational frequency of sample(cm-1)\n",
    "\n",
    "#Result\n",
    "print \"vibrational frequency of sample is\",int(round(delta_new)),\"cm-1\""
   ]
  },
  {
   "cell_type": "markdown",
   "metadata": {},
   "source": [
    "## Example number 9, Page number 101"
   ]
  },
  {
   "cell_type": "code",
   "execution_count": 9,
   "metadata": {
    "collapsed": false
   },
   "outputs": [
    {
     "name": "stdout",
     "output_type": "stream",
     "text": [
      "frequqncy of OD stretching vibration is 2401 cm-1\n"
     ]
    }
   ],
   "source": [
    "#importing modules\n",
    "import math\n",
    "from __future__ import division\n",
    "\n",
    "#Variable declaration   \n",
    "MO=16;\n",
    "MD=2;\n",
    "MH=1;\n",
    "new=3300;     #frequency(cm-1)\n",
    "\n",
    "#Calculations\n",
    "mew_OD=MO*MD/(MO+MD);      \n",
    "mew_OH=MO*MH/(MO+MH);\n",
    "new1=math.sqrt(mew_OD/mew_OH);\n",
    "new_OD=new/new1;        #frequqncy of OD stretching vibration(cm-1)\n",
    "\n",
    "#Result\n",
    "print \"frequqncy of OD stretching vibration is\",int(new_OD),\"cm-1\""
   ]
  },
  {
   "cell_type": "markdown",
   "metadata": {},
   "source": [
    "## Example number 11, Page number 102"
   ]
  },
  {
   "cell_type": "code",
   "execution_count": 12,
   "metadata": {
    "collapsed": false
   },
   "outputs": [
    {
     "name": "stdout",
     "output_type": "stream",
     "text": [
      "raman shift of 4400 line is 219.03 cm-1\n",
      "raman shift of 4419 line is 316.8 cm-1\n",
      "raman shift of 4447 line is 459.2 cm-1\n"
     ]
    }
   ],
   "source": [
    "#importing modules\n",
    "import math\n",
    "from __future__ import division\n",
    "\n",
    "#Variable declaration   \n",
    "lamda0=4358;     #wavelength(angstrom)\n",
    "lamda1=4400;     #wavelength(angstrom)\n",
    "lamda2=4419;     #wavelength(angstrom)\n",
    "lamda3=4447;     #wavelength(angstrom)\n",
    "\n",
    "#Calculations\n",
    "new0bar=10**8/lamda0;        #wave number of exciting line(cm-1)\n",
    "rs1=(10**8/lamda0)-(10**8/lamda1);     #raman shift of 4400 line(cm-1)\n",
    "rs2=(10**8/lamda0)-(10**8/lamda2);     #raman shift of 4419 line(cm-1)\n",
    "rs3=(10**8/lamda0)-(10**8/lamda3);     #raman shift of 4447 line(cm-1)\n",
    "\n",
    "#Result\n",
    "print \"raman shift of 4400 line is\",round(rs1,2),\"cm-1\"\n",
    "print \"raman shift of 4419 line is\",round(rs2,1),\"cm-1\"\n",
    "print \"raman shift of 4447 line is\",round(rs3,1),\"cm-1\""
   ]
  },
  {
   "cell_type": "markdown",
   "metadata": {},
   "source": [
    "## Example number 12, Page number 102"
   ]
  },
  {
   "cell_type": "code",
   "execution_count": 14,
   "metadata": {
    "collapsed": false
   },
   "outputs": [
    {
     "name": "stdout",
     "output_type": "stream",
     "text": [
      "corresponding wavelength is 32 *10**-4 cm\n"
     ]
    }
   ],
   "source": [
    "#importing modules\n",
    "import math\n",
    "from __future__ import division\n",
    "\n",
    "#Variable declaration   \n",
    "new_bar=20.68;          #transition(cm-1)\n",
    "J=14;\n",
    "\n",
    "#Calculations\n",
    "B=new_bar/2;            \n",
    "new=2*B*(J+1);          #frequency(cm-1)\n",
    "lamda=1/new;            #corresponding wavelength(cm) \n",
    "\n",
    "#Result\n",
    "print \"corresponding wavelength is\",int(lamda*10**4),\"*10**-4 cm\""
   ]
  },
  {
   "cell_type": "markdown",
   "metadata": {},
   "source": [
    "## Example number 13, Page number 103"
   ]
  },
  {
   "cell_type": "code",
   "execution_count": 17,
   "metadata": {
    "collapsed": false
   },
   "outputs": [
    {
     "name": "stdout",
     "output_type": "stream",
     "text": [
      "moment of inertia of molecule is 1.4 *10**-42 gm cm**2\n"
     ]
    }
   ],
   "source": [
    "#importing modules\n",
    "import math\n",
    "from __future__ import division\n",
    "\n",
    "#Variable declaration   \n",
    "twoB=4000;        #seperation observed from the series(cm-1)\n",
    "h=6.62*10**-27;     #planck's constant\n",
    "c=3*10**10;         #velocity of light(cm/sec)\n",
    "\n",
    "#Calculations\n",
    "B=twoB/2;\n",
    "I=h/(8*math.pi**2*B*c);     #moment of inertia of molecule(gm cm**2)\n",
    "\n",
    "#Result\n",
    "print \"moment of inertia of molecule is\",round(I*10**42,1),\"*10**-42 gm cm**2\""
   ]
  },
  {
   "cell_type": "markdown",
   "metadata": {},
   "source": [
    "## Example number 14, Page number 104"
   ]
  },
  {
   "cell_type": "code",
   "execution_count": 27,
   "metadata": {
    "collapsed": false
   },
   "outputs": [
    {
     "name": "stdout",
     "output_type": "stream",
     "text": [
      "corresponding wavelengths are 5648 angstrom 5725 angstrom 5775 angstrom 5836 angstrom 5983 angstrom 6558 angstrom\n"
     ]
    }
   ],
   "source": [
    "#importing modules\n",
    "import math\n",
    "from __future__ import division\n",
    "\n",
    "#Variable declaration   \n",
    "lamda=5461*10**-8;      #wavelength(cm)\n",
    "new1=608;\n",
    "new2=846;\n",
    "new3=995;\n",
    "new4=1178;\n",
    "new5=1599; \n",
    "new6=3064;              #raman shift(cm-1)\n",
    "\n",
    "#Calculations\n",
    "newbar=1/lamda;         #wave number(cm-1)\n",
    "new11=newbar-new1;\n",
    "new22=newbar-new2;\n",
    "new33=newbar-new3;\n",
    "new44=newbar-new4;\n",
    "new55=newbar-new5;\n",
    "new66=newbar-new6;\n",
    "lamda1=10**8/new11;\n",
    "lamda2=10**8/new22;\n",
    "lamda3=10**8/new33;\n",
    "lamda4=10**8/new44;\n",
    "lamda5=10**8/new55;\n",
    "lamda6=10**8/new66;        #corresponding wavelength(angstrom)\n",
    "\n",
    "#Result\n",
    "print \"corresponding wavelengths are\",int(lamda1),\"angstrom\",int(lamda2),\"angstrom\",int(round(lamda3)),\"angstrom\",int(lamda4),\"angstrom\",int(lamda5),\"angstrom\",int(lamda6),\"angstrom\""
   ]
  },
  {
   "cell_type": "markdown",
   "metadata": {},
   "source": [
    "## Example number 15, Page number 105"
   ]
  },
  {
   "cell_type": "code",
   "execution_count": 20,
   "metadata": {
    "collapsed": false
   },
   "outputs": [
    {
     "name": "stdout",
     "output_type": "stream",
     "text": [
      "force constant is 115 N/m\n"
     ]
    }
   ],
   "source": [
    "#importing modules\n",
    "import math\n",
    "from __future__ import division\n",
    "\n",
    "#Variable declaration   \n",
    "h=6.63*10**-34;     #planck's constant(J s)\n",
    "e=1.602*10**-19;    #charge(coulomb)  \n",
    "mew=1.14*10**-26;   #reduced mass(kg)\n",
    "deltaE=6.63*10**-2*e;     #energy(J)\n",
    "\n",
    "#Calculations\n",
    "new=deltaE/h;                 #frequency(sec-1)\n",
    "k=4*math.pi**2*new**2*mew;    #force constant(N/m)\n",
    "\n",
    "#Result\n",
    "print \"force constant is\",int(k),\"N/m\""
   ]
  }
 ],
 "metadata": {
  "kernelspec": {
   "display_name": "Python 2",
   "language": "python",
   "name": "python2"
  },
  "language_info": {
   "codemirror_mode": {
    "name": "ipython",
    "version": 2
   },
   "file_extension": ".py",
   "mimetype": "text/x-python",
   "name": "python",
   "nbconvert_exporter": "python",
   "pygments_lexer": "ipython2",
   "version": "2.7.11"
  }
 },
 "nbformat": 4,
 "nbformat_minor": 0
}
