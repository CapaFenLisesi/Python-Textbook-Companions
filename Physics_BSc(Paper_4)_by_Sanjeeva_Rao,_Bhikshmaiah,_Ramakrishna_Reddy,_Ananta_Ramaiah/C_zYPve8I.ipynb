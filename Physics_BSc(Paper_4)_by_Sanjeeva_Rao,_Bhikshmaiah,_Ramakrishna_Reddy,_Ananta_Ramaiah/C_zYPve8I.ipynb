{
 "cells": [
  {
   "cell_type": "markdown",
   "metadata": {},
   "source": [
    "# 7: Nuclear Structure"
   ]
  },
  {
   "cell_type": "markdown",
   "metadata": {},
   "source": [
    "## Example number 1, Page number 259"
   ]
  },
  {
   "cell_type": "code",
   "execution_count": 3,
   "metadata": {
    "collapsed": false
   },
   "outputs": [
    {
     "name": "stdout",
     "output_type": "stream",
     "text": [
      "radius of He is 2.2375 fermi\n"
     ]
    }
   ],
   "source": [
    "#importing modules\n",
    "import math\n",
    "from __future__ import division\n",
    "\n",
    "#Variable declaration\n",
    "A1=165;               #mass number\n",
    "A2=4;                 #mass number\n",
    "R1=7.731;             #radius(fermi)\n",
    "\n",
    "#Calculation\n",
    "R2=R1*(A2/A1)**(1/3);     #radius of He(fermi)\n",
    "\n",
    "#Result\n",
    "print \"radius of He is\",round(R2,4),\"fermi\""
   ]
  },
  {
   "cell_type": "markdown",
   "metadata": {},
   "source": [
    "## Example number 2, Page number 259"
   ]
  },
  {
   "cell_type": "code",
   "execution_count": 5,
   "metadata": {
    "collapsed": false
   },
   "outputs": [
    {
     "name": "stdout",
     "output_type": "stream",
     "text": [
      "average binding energy per nucleon is 7.07 MeV\n"
     ]
    }
   ],
   "source": [
    "#importing modules\n",
    "import math\n",
    "from __future__ import division\n",
    "\n",
    "#Variable declaration\n",
    "n=1.008665;           #mass of neutron(amu)\n",
    "p=1.007276;           #mass of proton(amu)\n",
    "alpha=4.00150;        #mass of alpha particle(amu)\n",
    "m=931;                \n",
    "\n",
    "#Calculation\n",
    "deltam=2*(p+n)-alpha;\n",
    "BE=deltam*m;          #binding energy(MeV)\n",
    "ABE=BE/4;             #average binding energy per nucleon(MeV)\n",
    "\n",
    "#Result\n",
    "print \"average binding energy per nucleon is\",round(ABE,2),\"MeV\""
   ]
  },
  {
   "cell_type": "markdown",
   "metadata": {},
   "source": [
    "## Example number 3, Page number 260"
   ]
  },
  {
   "cell_type": "code",
   "execution_count": 7,
   "metadata": {
    "collapsed": false
   },
   "outputs": [
    {
     "name": "stdout",
     "output_type": "stream",
     "text": [
      "binding energy of neutron is 7.25 MeV\n"
     ]
    }
   ],
   "source": [
    "#importing modules\n",
    "import math\n",
    "from __future__ import division\n",
    "\n",
    "#Variable declaration\n",
    "n=1.008665;           #mass of neutron(amu)\n",
    "Li36=6.015125;        #mass of Li(amu)\n",
    "Li37=7.016004;        #mass of Li(amu)\n",
    "m=931;                \n",
    "\n",
    "#Calculation\n",
    "deltam=Li36+n-Li37;   \n",
    "BE=deltam*m;          #binding energy of neutron(MeV)\n",
    "\n",
    "#Result\n",
    "print \"binding energy of neutron is\",round(BE,2),\"MeV\""
   ]
  },
  {
   "cell_type": "markdown",
   "metadata": {},
   "source": [
    "## Example number 4, Page number 260"
   ]
  },
  {
   "cell_type": "code",
   "execution_count": 8,
   "metadata": {
    "collapsed": false
   },
   "outputs": [
    {
     "name": "stdout",
     "output_type": "stream",
     "text": [
      "energy released is 23.6 MeV\n"
     ]
    }
   ],
   "source": [
    "#importing modules\n",
    "import math\n",
    "from __future__ import division\n",
    "\n",
    "#Variable declaration\n",
    "BEHe=4*7.0;        #binding energy for He\n",
    "BEH=2*1.1;         #binding energy for H\n",
    "\n",
    "#Calculation\n",
    "deltaE=BEHe-(2*BEH);     #energy released(MeV)   \n",
    "\n",
    "#Result\n",
    "print \"energy released is\",deltaE,\"MeV\""
   ]
  },
  {
   "cell_type": "markdown",
   "metadata": {},
   "source": [
    "## Example number 5, Page number 260"
   ]
  },
  {
   "cell_type": "code",
   "execution_count": 11,
   "metadata": {
    "collapsed": false
   },
   "outputs": [
    {
     "name": "stdout",
     "output_type": "stream",
     "text": [
      "mass is 19.987 amu\n",
      "answer given in the book is wrong\n"
     ]
    }
   ],
   "source": [
    "#importing modules\n",
    "import math\n",
    "from __future__ import division\n",
    "\n",
    "#Variable declaration\n",
    "n=1.008665;           #mass of neutron(amu)\n",
    "p=1.007276;           #mass of proton(amu)\n",
    "BE=160.647;           #binding energy(MeV)\n",
    "m=931;                \n",
    "\n",
    "#Calculation\n",
    "Mx=10*(p+n)-(BE/m);   #mass(amu)\n",
    "\n",
    "#Result\n",
    "print \"mass is\",round(Mx,3),\"amu\"\n",
    "print \"answer given in the book is wrong\""
   ]
  },
  {
   "cell_type": "markdown",
   "metadata": {},
   "source": [
    "## Example number 6, Page number 261"
   ]
  },
  {
   "cell_type": "code",
   "execution_count": 14,
   "metadata": {
    "collapsed": false
   },
   "outputs": [
    {
     "name": "stdout",
     "output_type": "stream",
     "text": [
      "binding energy of neutron is 11.471 MeV\n",
      "answer given in the book varies due to rounding off errors\n"
     ]
    }
   ],
   "source": [
    "#importing modules\n",
    "import math\n",
    "from __future__ import division\n",
    "\n",
    "#Variable declaration\n",
    "n=1.008665;           #mass of neutron(amu)\n",
    "Ca41=40.962278;       #mass of Ca(amu)\n",
    "Ca42=41.958622;       #mass of Ca(amu)\n",
    "m=931;                \n",
    "\n",
    "#Calculation\n",
    "deltam=Ca41+n-Ca42;     \n",
    "BE=deltam*m;          #binding energy of neutron(MeV)\n",
    "\n",
    "#Result\n",
    "print \"binding energy of neutron is\",round(BE,3),\"MeV\"\n",
    "print \"answer given in the book varies due to rounding off errors\""
   ]
  }
 ],
 "metadata": {
  "kernelspec": {
   "display_name": "Python 2",
   "language": "python",
   "name": "python2"
  },
  "language_info": {
   "codemirror_mode": {
    "name": "ipython",
    "version": 2
   },
   "file_extension": ".py",
   "mimetype": "text/x-python",
   "name": "python",
   "nbconvert_exporter": "python",
   "pygments_lexer": "ipython2",
   "version": "2.7.11"
  }
 },
 "nbformat": 4,
 "nbformat_minor": 0
}
