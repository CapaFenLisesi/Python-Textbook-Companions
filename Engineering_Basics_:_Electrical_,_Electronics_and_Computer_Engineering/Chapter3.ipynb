{
 "cells": [
  {
   "cell_type": "markdown",
   "metadata": {},
   "source": [
    "#Chapter 3 : Electromagnetism"
   ]
  },
  {
   "cell_type": "markdown",
   "metadata": {},
   "source": [
    "##Example3.1, Page number 73 "
   ]
  },
  {
   "cell_type": "code",
   "execution_count": 1,
   "metadata": {
    "collapsed": false
   },
   "outputs": [
    {
     "name": "stdout",
     "output_type": "stream",
     "text": [
      "induced emf e =  4.0 volts\n"
     ]
    }
   ],
   "source": [
    "#calculate the emf induced in the coil\n",
    "\n",
    "#variable declaration\n",
    "N=200 #rpm\n",
    "F1=1e-3 #initial value\n",
    "F2=3e-3 #final value\n",
    "t=0.1 #second\n",
    "\n",
    "#calculation\n",
    "F3=F2-F1 #final value\n",
    "e=N*F3/t #neglecting negative sign\n",
    "\n",
    "#result\n",
    "print \"induced emf e = \" , e , \"volts\"\n"
   ]
  },
  {
   "cell_type": "markdown",
   "metadata": {},
   "source": [
    "##Example3.2, Page number 74"
   ]
  },
  {
   "cell_type": "code",
   "execution_count": 2,
   "metadata": {
    "collapsed": false
   },
   "outputs": [
    {
     "name": "stdout",
     "output_type": "stream",
     "text": [
      " emf induced in the conductor =  9.6 volt\n"
     ]
    }
   ],
   "source": [
    "#calculate the emf inducedin a long wire\n",
    "\n",
    "#variable declaration\n",
    "B=1.2 #flux density\n",
    "V=4 #velocity of conductor\n",
    "l=2 #m\n",
    "\n",
    "#calculation\n",
    "e=(B*V*l*1)#volts\n",
    "\n",
    "#result\n",
    "print \" emf induced in the conductor = \" , e ,\"volt\"\n"
   ]
  },
  {
   "cell_type": "markdown",
   "metadata": {},
   "source": [
    "##Example3.3, Page number 78"
   ]
  },
  {
   "cell_type": "code",
   "execution_count": 3,
   "metadata": {
    "collapsed": false
   },
   "outputs": [
    {
     "name": "stdout",
     "output_type": "stream",
     "text": [
      "inductance of coil =  0.075 henry\n"
     ]
    }
   ],
   "source": [
    "#find the inductance of the  coil\n",
    "\n",
    "#variable declaration\n",
    "N=1500 # number of turns\n",
    "I=10 #ampere \n",
    "F=.5*10**-3 #weber\n",
    "\n",
    "#calculation\n",
    "L=N*F/I #inductance\n",
    "\n",
    "#result\n",
    "print \"inductance of coil = \" , L ,\"henry\"\n",
    " \n"
   ]
  },
  {
   "cell_type": "markdown",
   "metadata": {},
   "source": [
    "##Example3.4, Page number 78 "
   ]
  },
  {
   "cell_type": "code",
   "execution_count": 4,
   "metadata": {
    "collapsed": false
   },
   "outputs": [
    {
     "name": "stdout",
     "output_type": "stream",
     "text": [
      "Self inductance =   0.000335 henry\n"
     ]
    }
   ],
   "source": [
    "import math \n",
    "\n",
    "#calculate its self induction \n",
    "\n",
    "#variable declaration\n",
    "Ur=1 \n",
    "N=400 #turns\n",
    "l=30e-2 #m\n",
    "A=5e-4 #m**2\n",
    "U0=4e-7*math.pi\n",
    "\n",
    "#calculation\n",
    "S=l/(U0*Ur*A) #AT/m\n",
    "L=N**2/S #henry\n",
    "\n",
    "#result\n",
    "print \"Self inductance =  \" , round(L,6) , \"henry\"\n",
    "\n"
   ]
  },
  {
   "cell_type": "markdown",
   "metadata": {},
   "source": [
    "##Example3.5, Page number 79 "
   ]
  },
  {
   "cell_type": "code",
   "execution_count": 5,
   "metadata": {
    "collapsed": false
   },
   "outputs": [
    {
     "name": "stdout",
     "output_type": "stream",
     "text": [
      " Inductance of coil =  0.000503 henry\n",
      " emf induced =  0.1006 volts\n"
     ]
    }
   ],
   "source": [
    "import math\n",
    "\n",
    "#calculate the inductance and emf induced in the coil\n",
    "\n",
    "#variable declaration\n",
    "u=1  \n",
    "D=25e-2 #m \n",
    "N=500 #turns\n",
    "d=4e-2  #cross sectional diameter\n",
    "dI=10 #ampere\n",
    "dt=50e-3 #s\n",
    "\n",
    "#calculation\n",
    "l=3.14*D #m\n",
    "A=(math.pi*d*d)/4 #cross sectional area\n",
    "s=l/(4*math.pi*10**-7*u*A) #AT/Wb\n",
    "L=N**2/s  # self inductance\n",
    "e=(L*dI)/dt\n",
    "\n",
    "#result\n",
    "print \" Inductance of coil = \" , round(L,6) , \"henry\"\n",
    "print \" emf induced = \" , round(e,4) , \"volts\"\n"
   ]
  },
  {
   "cell_type": "markdown",
   "metadata": {},
   "source": [
    "##Example3.6, Page number 80 "
   ]
  },
  {
   "cell_type": "code",
   "execution_count": 6,
   "metadata": {
    "collapsed": false
   },
   "outputs": [
    {
     "name": "stdout",
     "output_type": "stream",
     "text": [
      " Inductance of coil =  0.00016 henry\n",
      " emf induced =  0.032 volts\n"
     ]
    }
   ],
   "source": [
    "import math\n",
    "\n",
    "#calculate the induced emf in the coil\n",
    "\n",
    "#variable declaration\n",
    "A=4e-4 #cross sectional in a square side\n",
    "u=1  #air core torroidal ring\n",
    "D=25e-2 #m\n",
    "N=500 #turns\n",
    "d=4e-2  #cross sectional diameter\n",
    "dI=10 #ampere\n",
    "dt=50e-3 #s\n",
    "\n",
    "#calculation\n",
    "l=3.14*D #m\n",
    "s=l/(4*math.pi*10**-7*u*A) #AT/Wb\n",
    "L=N**2/s  # self inductance\n",
    "e=(L*dI)/dt #volts\n",
    "\n",
    "#result\n",
    "print \" Inductance of coil = \" , round(L,6) , \"henry\"\n",
    "print \" emf induced = \" , round(e,4) , \"volts\"\n",
    "\n"
   ]
  },
  {
   "cell_type": "markdown",
   "metadata": {},
   "source": [
    "##Example3.7, Page number 80 "
   ]
  },
  {
   "cell_type": "code",
   "execution_count": 7,
   "metadata": {
    "collapsed": false
   },
   "outputs": [
    {
     "name": "stdout",
     "output_type": "stream",
     "text": [
      "Case 1\n",
      "induced emf =  0.05029 volts\n",
      "case 2\n",
      "induced emf =  0.20116 volts\n"
     ]
    }
   ],
   "source": [
    "#calculate the induced emf in coil\n",
    "\n",
    "#variable declaration\n",
    "di=5 #ampere\n",
    "dt=0.05 #s\n",
    "L=5.029e-4 #m \n",
    "di1=400 #ampere\n",
    "dt1=1 #s\n",
    "\n",
    "#calculation\n",
    "e=L*di/dt #volts\n",
    "e1=L*di1/dt1 #volts\n",
    "\n",
    "#result\n",
    "print \"Case 1\"\n",
    "print \"induced emf = \" , e , \"volts\"\n",
    "print \"case 2\"\n",
    "print \"induced emf = \" , e1, \"volts\"\n",
    "\n",
    "#round off error in book\n"
   ]
  },
  {
   "cell_type": "markdown",
   "metadata": {},
   "source": [
    "##Example3.8, Page number 83 "
   ]
  },
  {
   "cell_type": "code",
   "execution_count": 8,
   "metadata": {
    "collapsed": false
   },
   "outputs": [
    {
     "name": "stdout",
     "output_type": "stream",
     "text": [
      " Mutual inductance =  0.471 henry\n",
      " emf induced =  376.99 volts\n"
     ]
    }
   ],
   "source": [
    "import math\n",
    "\n",
    "#calculate the mutual inductance between the two coil\n",
    "\n",
    "#variable declaration\n",
    "N1=50 #turns for coil 1\n",
    "N2=400 #turns for coil 2\n",
    "A=150e-4 #m**2\n",
    "l=200e-2 #m\n",
    "u=2500 #relative permeability\n",
    "dI1=24 #ampere\n",
    "dt=0.03 #s\n",
    "\n",
    "#calculation\n",
    "s=l/(4*math.pi*10**-7*A*u) #AT?wb\n",
    "M=(N1*N2)/s #henry\n",
    "eM2=M*dI1/dt #volts\n",
    "\n",
    "#result\n",
    "print \" Mutual inductance = \" , round(M,3) , \"henry\"\n",
    "print \" emf induced = \" , round(eM2,2) , \"volts\"\n"
   ]
  },
  {
   "cell_type": "markdown",
   "metadata": {},
   "source": [
    "##Example3.9, Page number 86 "
   ]
  },
  {
   "cell_type": "code",
   "execution_count": 9,
   "metadata": {
    "collapsed": false
   },
   "outputs": [
    {
     "name": "stdout",
     "output_type": "stream",
     "text": [
      "Energy stored =   1.0 joule\n"
     ]
    }
   ],
   "source": [
    "#find the energy stored in it\n",
    "\n",
    "#variable declaration\n",
    "L=0.5 #m\n",
    "I=2 #ampere\n",
    "\n",
    "#calculation\n",
    "E=0.5*L*I*I #volts\n",
    "\n",
    "#result\n",
    "print \"Energy stored =  \", E,  \"joule\"\n"
   ]
  },
  {
   "cell_type": "markdown",
   "metadata": {},
   "source": [
    "##Example3.10, Page number 86"
   ]
  },
  {
   "cell_type": "code",
   "execution_count": 10,
   "metadata": {
    "collapsed": false
   },
   "outputs": [
    {
     "name": "stdout",
     "output_type": "stream",
     "text": [
      "Total force =  1718.9 N\n"
     ]
    }
   ],
   "source": [
    "import math\n",
    "\n",
    "#determine the pull between poles and keeper\n",
    "A=15e-4 #m**2\n",
    "B=1.2 #flux density\n",
    "U=1\n",
    "\n",
    "#calculation\n",
    "F=2*B*B*A/(2*4*math.pi*10**-7) #force\n",
    "\n",
    "#result\n",
    "print \"Total force = \" , round(F,1) , \"N\"\n",
    "\n",
    "#round off error in book\n"
   ]
  }
 ],
 "metadata": {
  "kernelspec": {
   "display_name": "Python 2",
   "language": "python",
   "name": "python2"
  },
  "language_info": {
   "codemirror_mode": {
    "name": "ipython",
    "version": 2
   },
   "file_extension": ".py",
   "mimetype": "text/x-python",
   "name": "python",
   "nbconvert_exporter": "python",
   "pygments_lexer": "ipython2",
   "version": "2.7.8"
  }
 },
 "nbformat": 4,
 "nbformat_minor": 0
}
