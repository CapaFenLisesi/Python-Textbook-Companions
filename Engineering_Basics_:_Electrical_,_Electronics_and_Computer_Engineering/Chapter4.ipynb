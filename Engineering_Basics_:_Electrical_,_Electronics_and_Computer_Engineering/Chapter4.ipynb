{
 "cells": [
  {
   "cell_type": "markdown",
   "metadata": {},
   "source": [
    "#Chapter 4 : A.C.Circuits"
   ]
  },
  {
   "cell_type": "markdown",
   "metadata": {},
   "source": [
    "##Example4.1, Page number 99"
   ]
  },
  {
   "cell_type": "code",
   "execution_count": 28,
   "metadata": {
    "collapsed": false
   },
   "outputs": [
    {
     "name": "stdout",
     "output_type": "stream",
     "text": [
      " Maximum value of current =  40 amperes\n",
      " Average of value of currenr =  28.289 amperes\n",
      " R.M.S. value of current =  25.478 amperes\n",
      " Frequency =  50.0 Hz\n",
      " Form factor =  0.901\n",
      " Peak factor =  1.57\n"
     ]
    }
   ],
   "source": [
    "#determine Maximum ,Average adn R.M.S. value of current. Find frequency and form factor.\n",
    "\n",
    "#variable declaration\n",
    "Im=40 #ampere\n",
    "w=314 #rad/sec\n",
    "\n",
    "#calculation\n",
    "Iav=Im/1.414 #amperes\n",
    "Irms=Im*2/3.14 #amperes\n",
    "f=w/(2*3.14) #Hz\n",
    "Ff=Irms/Iav #form factor\n",
    "Pf=Im/Irms #peak factor\n",
    "\n",
    "#result\n",
    "print \" Maximum value of current = \" , Im , \"amperes\"\n",
    "print \" Average of value of currenr = \" , round(Iav,3) , \"amperes\"\n",
    "print \" R.M.S. value of current = \" ,round(Irms,3) , \"amperes\"\n",
    "print \" Frequency = \" , f , \"Hz\"\n",
    "print \" Form factor = \" , round(Ff,3)\n",
    "print \" Peak factor = \" , Pf\n",
    "\n",
    "#Answers in book printed wrong\n",
    "     \n"
   ]
  },
  {
   "cell_type": "markdown",
   "metadata": {},
   "source": [
    "##Example4.2, Page number 100"
   ]
  },
  {
   "cell_type": "code",
   "execution_count": 29,
   "metadata": {
    "collapsed": false
   },
   "outputs": [
    {
     "name": "stdout",
     "output_type": "stream",
     "text": [
      " voltage equation v =  70.7 sin( 314.0 )t\n"
     ]
    }
   ],
   "source": [
    "#determine the voltage sin wave\n",
    "\n",
    "import math\n",
    "\n",
    "#variable declaration\n",
    "f=50 #Hz\n",
    "V=50 #volts\n",
    "\n",
    "#calculation\n",
    "Vm=V*math.sqrt(2) #volts\n",
    "w=2*math.pi*f #Hz\n",
    "\n",
    "#result\n",
    "print \" voltage equation v = \",round(Vm,1),\"sin(\",round(w),\")t\"\n"
   ]
  },
  {
   "cell_type": "markdown",
   "metadata": {},
   "source": [
    "## Example4.3, Page number 100"
   ]
  },
  {
   "cell_type": "code",
   "execution_count": 30,
   "metadata": {
    "collapsed": false
   },
   "outputs": [
    {
     "name": "stdout",
     "output_type": "stream",
     "text": [
      " Instantenous value of voltage =  282.843 volts\n",
      " Time to reach instantenous value =  0.00178 seconds\n"
     ]
    }
   ],
   "source": [
    "#determine voltage and  time taken to reach the intantaneous voltage\n",
    "\n",
    "from math import sqrt,asin,sin,pi\n",
    "\n",
    "#variable declaration\n",
    "f=50 #Hz\n",
    "Vr=200 #volts\n",
    "t=2.5e-3 #seconds\n",
    "v1=150 #volts\n",
    "\n",
    "#calculations\n",
    "Vm=Vr*sqrt(2) #volts\n",
    "t=(asin(v1/Vm))/(2*f*pi) #seconds\n",
    "#result\n",
    "print \" Instantenous value of voltage = \" , round(Vm,3) , \"volts\"\n",
    "print \" Time to reach instantenous value = \" , round(t,5) , \"seconds\"\n",
    "\n",
    "#round off error\n",
    "\n",
    "\n"
   ]
  },
  {
   "cell_type": "markdown",
   "metadata": {},
   "source": [
    "##Example4.12, Page number 128"
   ]
  },
  {
   "cell_type": "code",
   "execution_count": 31,
   "metadata": {
    "collapsed": false
   },
   "outputs": [
    {
     "name": "stdout",
     "output_type": "stream",
     "text": [
      "power dissipiated in resistance =  5002.0 watts\n"
     ]
    }
   ],
   "source": [
    "#determine the power dissipiated in resistance from equation v=200 sind 314t and i=50 sind 314t\n",
    "\n",
    "#variable declaration\n",
    "Vm=200 #volts\n",
    "w = 314 #rad/sec\n",
    "Im=50 #ampere\n",
    "\n",
    "#calculation\n",
    "R=Vm/Im #ohm\n",
    "I=Im/1.414 #ampere\n",
    "P=(I*I*R) #watt\n",
    "\n",
    "#result\n",
    "print \"power dissipiated in resistance = \" , round(P), \"watts\"\n",
    "\n",
    "#round off error\n"
   ]
  },
  {
   "cell_type": "markdown",
   "metadata": {},
   "source": [
    "##Example4.14, Page number 129"
   ]
  },
  {
   "cell_type": "code",
   "execution_count": 32,
   "metadata": {
    "collapsed": false
   },
   "outputs": [
    {
     "name": "stdout",
     "output_type": "stream",
     "text": [
      "value of inductive reactance =  78.54 ohms\n"
     ]
    }
   ],
   "source": [
    "#determine the inductive reactance of the coil\n",
    "\n",
    "import math\n",
    "#variable declaration\n",
    "L=0.25;#henry\n",
    "f=50;#frequency\n",
    "\n",
    "#calculation\n",
    "X=2*math.pi*f*L # inductive reactance\n",
    "\n",
    "#result\n",
    "print \"value of inductive reactance = \" ,round(X,2),\"ohms\"\n",
    "\n",
    "#round off error\n"
   ]
  },
  {
   "cell_type": "markdown",
   "metadata": {},
   "source": [
    "##Example4.15, Page number 130"
   ]
  },
  {
   "cell_type": "code",
   "execution_count": 33,
   "metadata": {
    "collapsed": false
   },
   "outputs": [
    {
     "name": "stdout",
     "output_type": "stream",
     "text": [
      "the current flowing through the coil =  12.2 amperes\n"
     ]
    }
   ],
   "source": [
    "#calculate the current flowing through the coil\n",
    "\n",
    "import math\n",
    "\n",
    "#variable declaration\n",
    "L=0.05 #inductance\n",
    "V=230 #volts\n",
    "f=60 #Hz\n",
    "\n",
    "#calculation\n",
    "X=(2*math.pi*f*L) #inductive reactance\n",
    "I=V/X #ampere\n",
    "\n",
    "#result\n",
    "print \"the current flowing through the coil = \" , round(I,1) , \"amperes\"\n"
   ]
  },
  {
   "cell_type": "markdown",
   "metadata": {},
   "source": [
    "##Example4.16, Page number 130"
   ]
  },
  {
   "cell_type": "code",
   "execution_count": 34,
   "metadata": {
    "collapsed": false
   },
   "outputs": [
    {
     "name": "stdout",
     "output_type": "stream",
     "text": [
      " the value of inductance=  0.1273 ohm\n",
      " Current =  4.45 amperes\n"
     ]
    }
   ],
   "source": [
    "#detrmine the value of inductance\n",
    "\n",
    "import math\n",
    "\n",
    "#variable declaration\n",
    "I=5 #ampere\n",
    "V=200 #volt\n",
    "f=50 #hertz\n",
    "f1=45 #hertz\n",
    "\n",
    "#calculation\n",
    "X=V/I #inductive reactance\n",
    "L=40/(2*math.pi*f) #inductance\n",
    "I= V/(2*math.pi*f1*0.159) #ampere\n",
    "\n",
    "#result\n",
    "print \" the value of inductance= \" , round(L,4) , \"ohm\"\n",
    "print \" Current = \" , round(I,2) ,\"amperes\" \n",
    "\n",
    "#round off error\n"
   ]
  },
  {
   "cell_type": "markdown",
   "metadata": {},
   "source": [
    "##Example4.18, Page number 131"
   ]
  },
  {
   "cell_type": "code",
   "execution_count": 35,
   "metadata": {
    "collapsed": false
   },
   "outputs": [
    {
     "name": "stdout",
     "output_type": "stream",
     "text": [
      "Current =  1.88 ampere\n",
      "current when frequency is doubled =  3.77 ampere\n",
      "current when frequency is halfed =  0.94 ampere\n"
     ]
    }
   ],
   "source": [
    "#calculate the current\n",
    "\n",
    "import math\n",
    "\n",
    "#variable declaration\n",
    "C=25e-6 #capacitance\n",
    "V=200 #volts\n",
    "f=60  #Hz\n",
    "f1=30 #frequency half\n",
    "f2=120  #frequency doubled\n",
    "\n",
    "#calcultion\n",
    "Xc=1/(2*math.pi*f*C)\n",
    "X1=1/(2*math.pi*f2*C)\n",
    "X2=1/(2*math.pi*f1*C)\n",
    "I=V/Xc #ampere\n",
    "I1 = V/X1 #ampere\n",
    "I2 = V/X2 #ampere\n",
    "\n",
    "#result\n",
    "print \"Current = \", round(I,2),\"ampere\"\n",
    "print \"current when frequency is doubled = \" , round(I1,2),\"ampere\"\n",
    "print \"current when frequency is halfed = \" , round(I2,2),\"ampere\"\n"
   ]
  },
  {
   "cell_type": "markdown",
   "metadata": {},
   "source": [
    "##Example4.19, Page number 132"
   ]
  },
  {
   "cell_type": "code",
   "execution_count": 36,
   "metadata": {
    "collapsed": false
   },
   "outputs": [
    {
     "name": "stdout",
     "output_type": "stream",
     "text": [
      " the value of capacitance =  0.00012732 farad\n",
      "the value of current =  8 amperes\n"
     ]
    }
   ],
   "source": [
    "#determine the value of capacitance nd current\n",
    "\n",
    "import math\n",
    "\n",
    "#variable declaration\n",
    "Xc=25 #ohm\n",
    "V=200 #volts\n",
    "f=50 #Hz\n",
    "\n",
    "#calculation\n",
    "C=1/(2*math.pi*f*Xc) #capacitannce\n",
    "I=V/Xc #ampere\n",
    "\n",
    "#result\n",
    "print \" the value of capacitance = \" ,round(C,8),\"farad\"\n",
    "print \"the value of current = \" ,I,\"amperes\"\n"
   ]
  },
  {
   "cell_type": "markdown",
   "metadata": {},
   "source": [
    "##Example4.20, Page number 132"
   ]
  },
  {
   "cell_type": "code",
   "execution_count": 37,
   "metadata": {
    "collapsed": false
   },
   "outputs": [
    {
     "name": "stdout",
     "output_type": "stream",
     "text": [
      "value of frequency =  50.0 Hz\n"
     ]
    }
   ],
   "source": [
    "#find the frquency\n",
    "\n",
    "import math\n",
    "\n",
    "#variable declaration\n",
    "Vrms=110 #volts\n",
    "c=15e-6 #capacitance\n",
    "I=0.518 #amperes\n",
    "\n",
    "#calculation\n",
    "Xc=Vrms/I #ohm\n",
    "f=1/(2*math.pi*Xc*c) #Hz\n",
    "\n",
    "#result\n",
    "print \"value of frequency = \" , round(f), \"Hz\"\n"
   ]
  },
  {
   "cell_type": "markdown",
   "metadata": {},
   "source": [
    "##Example4.21, Page number 133"
   ]
  },
  {
   "cell_type": "code",
   "execution_count": 38,
   "metadata": {
    "collapsed": false
   },
   "outputs": [
    {
     "name": "stdout",
     "output_type": "stream",
     "text": [
      "phase angle =  32.142 degree\n",
      "current flowing through coil =  21.168 ampere\n"
     ]
    }
   ],
   "source": [
    "#calculate the value of current\n",
    "\n",
    "from math import pi,sqrt,acos\n",
    "\n",
    "#variable declaration\n",
    "R=10 #ohms\n",
    "L=0.02 #henry\n",
    "V=250 #volt\n",
    "f=50 #hertz\n",
    "\n",
    "#calculation\n",
    "X=(2*pi*f*L) #ohm\n",
    "Z=sqrt(R**2+X**2) #ohm\n",
    "I=V/Z #ampere\n",
    "coso=R/Z \n",
    "o= acos(coso)*180/pi\n",
    "\n",
    "#result\n",
    "print \"phase angle = \",round(o,3),\"degree\"  \n",
    "print \"current flowing through coil = \",round(I,3),\"ampere\"\n",
    "\n",
    "#round off error\n"
   ]
  },
  {
   "cell_type": "markdown",
   "metadata": {},
   "source": [
    "##Example4.22, Page number 134"
   ]
  },
  {
   "cell_type": "code",
   "execution_count": 39,
   "metadata": {
    "collapsed": false
   },
   "outputs": [
    {
     "name": "stdout",
     "output_type": "stream",
     "text": [
      "Inductive reactance =  157.08 ohm\n",
      "Impedance =  164.845 ohm\n",
      "current =  1.2133 ampere\n",
      "power factor =  0.303\n",
      "phase angle =  72.343\n",
      " voltage across resistance =  60.663 volts\n",
      " voltage across inductance  =  190.578 volts\n",
      "Active power =  73.6 watts\n",
      "Reactive power =  231.22 watts\n",
      "Apparent power =  242.652 watts\n"
     ]
    }
   ],
   "source": [
    "#find the inductance impedence,current,power factor,voltage and power\n",
    "\n",
    "from math import pi,sqrt,acos,asin \n",
    "\n",
    "#variable declaration\n",
    "R=50 #0hms\n",
    "L=0.5 #henry\n",
    "V=200 #volt\n",
    "f=50 #hertz\n",
    "\n",
    "#calculation\n",
    "Vm = V*sqrt(2) #volts\n",
    "X=(2*pi*f*L) #ohm\n",
    "Z= sqrt(R**2+X**2) #impedence\n",
    "I=V/Z #ampere\n",
    "Im = I*sqrt(2) \n",
    "coso=R/Z\n",
    "sino=X/Z\n",
    "o=acos(coso)*180/pi\n",
    "o1=asin(sino)*180/pi\n",
    "Vr=I*R #volts\n",
    "Vl=I*X #volts\n",
    "AP=V*I*coso #active power\n",
    "RP=V*I*sino #reactive power\n",
    "APP=V*I #apparent power\n",
    "\n",
    "#result\n",
    "print \"Inductive reactance = \" , round(X,3) , \"ohm\"\n",
    "print \"Impedance = \" , round(Z,3), \"ohm\"\n",
    "print \"current = \" , round(I,4) , \"ampere\"\n",
    "print \"power factor = \" , round(coso,3)\n",
    "print \"phase angle = \" , round(o,3)\n",
    "print \" voltage across resistance = \" , round(Vr,3),\"volts\"\n",
    "print \" voltage across inductance  = \" , round(Vl,3),\"volts\"\n",
    "print \"Active power = \" , round(AP,3),\"watts\"\n",
    "print \"Reactive power = \" , round(RP,3),\"watts\"\n",
    "print \"Apparent power = \" , round(APP,3),\"watts\"\n",
    "\n",
    "#round off error\n",
    "\n",
    "\n"
   ]
  },
  {
   "cell_type": "markdown",
   "metadata": {},
   "source": [
    "##Example4.23, Page number 135"
   ]
  },
  {
   "cell_type": "code",
   "execution_count": 40,
   "metadata": {
    "collapsed": false
   },
   "outputs": [
    {
     "name": "stdout",
     "output_type": "stream",
     "text": [
      "supply voltage =  989.07 volts\n"
     ]
    }
   ],
   "source": [
    "#determine the supply voltage\n",
    "\n",
    "import math\n",
    "\n",
    "#variable declaration\n",
    "R=15 #ohms \n",
    "L=0.15 #henry\n",
    "I=20 #amperes\n",
    "f=50 #hertz\n",
    "\n",
    "#calculation\n",
    "X=2*math.pi*f*L #ohm\n",
    "Z=math.sqrt(R**2+X**2) #ohm\n",
    "V=I*Z #volts\n",
    "\n",
    "#result\n",
    "print \"supply voltage = \",round(V,2),\"volts\"\n"
   ]
  },
  {
   "cell_type": "markdown",
   "metadata": {},
   "source": [
    "##Example4.24, Page number 135"
   ]
  },
  {
   "cell_type": "code",
   "execution_count": 41,
   "metadata": {
    "collapsed": false
   },
   "outputs": [
    {
     "name": "stdout",
     "output_type": "stream",
     "text": [
      "Resistance =  379.748 ohms\n"
     ]
    }
   ],
   "source": [
    "#determine the supply voltage \n",
    "\n",
    "import math\n",
    "\n",
    "#variable declaration\n",
    "V=200 #ohms \n",
    "L=0.4 #henry\n",
    "I=0.5 #amperes\n",
    "f=50 #hertz\n",
    "\n",
    "#Calculation\n",
    "Z=V/I #ohms\n",
    "X=2*math.pi*f*L #ohms\n",
    "R=math.sqrt(Z**2-X**2)\n",
    "\n",
    "#result\n",
    "print \"Resistance = \" , round(R,3), \"ohms\"\n"
   ]
  },
  {
   "cell_type": "markdown",
   "metadata": {},
   "source": [
    "##Example4.25, Page number 135"
   ]
  },
  {
   "cell_type": "code",
   "execution_count": 42,
   "metadata": {
    "collapsed": false
   },
   "outputs": [
    {
     "name": "stdout",
     "output_type": "stream",
     "text": [
      " inductance of coil =   0.4418 henry\n"
     ]
    }
   ],
   "source": [
    "#determine the inductance of the coil\n",
    "\n",
    "import math\n",
    "\n",
    "#variable declaration\n",
    "R=6 #ohm\n",
    "V=250 #volts\n",
    "I=1.5;#amperes\n",
    "f=60 #hetrz\n",
    "\n",
    "#calculation\n",
    "Z=V/I #impedance\n",
    "X=math.sqrt(Z**2-R**2) #impedence\n",
    "L=X/(2*math.pi*f) #inductance\n",
    "\n",
    "#result\n",
    "print \" inductance of coil =  \" , round(L,4) , \"henry\"\n"
   ]
  },
  {
   "cell_type": "markdown",
   "metadata": {},
   "source": [
    "##Example4.27, Page number 137"
   ]
  },
  {
   "cell_type": "code",
   "execution_count": 43,
   "metadata": {
    "collapsed": false
   },
   "outputs": [
    {
     "name": "stdout",
     "output_type": "stream",
     "text": [
      "voltage across choking coil =  183.385 volts\n",
      "inductance =  0.0833 henry\n"
     ]
    }
   ],
   "source": [
    "#determine the inductance of the coil and voltage across each element\n",
    "\n",
    "import math\n",
    "\n",
    "#variable declaration\n",
    "I=7 #ampere\n",
    "V=200 #volts\n",
    "f=50 #Hz\n",
    "R=10 #non-inductive resistance\n",
    "r=1.5  #resistance of choke coil\n",
    "\n",
    "#calculation\n",
    "V1=I*R #volts\n",
    "V3=I*r\n",
    "V2=math.sqrt(V**2-(V1+V3)**2)\n",
    "X=V2/I  #inductive reactance\n",
    "L=X/(2*math.pi*f) #henry\n",
    "V4=math.sqrt(V2**2+V3**2)  #voltage across choking coil\n",
    "\n",
    "#result\n",
    "print \"voltage across choking coil = \",round(V4,3),\"volts\"\n",
    "print \"inductance = \" ,round(L,4),\"henry\"\n",
    "\n"
   ]
  },
  {
   "cell_type": "markdown",
   "metadata": {},
   "source": [
    "##Example4.28, Page number 138"
   ]
  },
  {
   "cell_type": "code",
   "execution_count": 44,
   "metadata": {
    "collapsed": false
   },
   "outputs": [
    {
     "name": "stdout",
     "output_type": "stream",
     "text": [
      "Inductive reactance =  21.221 ohm\n",
      "Impedance =  23.459 ohm\n",
      "current =  4.2628 ampere\n",
      "power factor =  0.426\n",
      "phase angle =  64.77\n",
      " voltage across resistance =  42.628 volts\n",
      " voltage across inductance  =  90.459 volts\n",
      "Active power =  181.714 watts\n",
      "Reactive power =  385.608 watts\n",
      "Apparent power =  100.0 watts\n"
     ]
    }
   ],
   "source": [
    "#find the inductance impedence,current,power factor,voltage and power\n",
    "\n",
    "from math import pi,sqrt,acos,asin \n",
    "\n",
    "#variable declaration\n",
    "R=10 #0hms\n",
    "C = 150*10**-6 #henry\n",
    "V=100 #volt\n",
    "f=50 #hertz\n",
    "\n",
    "#calculation\n",
    "Vm = V*sqrt(2) #volts\n",
    "X= 1/(2*pi*f*C) #ohm\n",
    "Z= sqrt(R**2+X**2) #impedence\n",
    "I=V/Z #ampere\n",
    "Im = I*sqrt(2) \n",
    "coso=R/Z\n",
    "sino=X/Z\n",
    "o=acos(coso)*180/pi\n",
    "o1=asin(sino)*180/pi\n",
    "Vr=I*R #volts\n",
    "Vc=I*X #volts\n",
    "AP=V*I*coso #active power\n",
    "RP=V*I*sino #reactive power\n",
    "APP=V #apparent power\n",
    "\n",
    "#result\n",
    "print \"Inductive reactance = \" , round(X,3) , \"ohm\"\n",
    "print \"Impedance = \" , round(Z,3), \"ohm\"\n",
    "print \"current = \" , round(I,4) , \"ampere\"\n",
    "print \"power factor = \" , round(coso,3)\n",
    "print \"phase angle = \" , round(o,2)\n",
    "print \" voltage across resistance = \" , round(Vr,3),\"volts\"\n",
    "print \" voltage across inductance  = \" , round(Vc,3),\"volts\"\n",
    "print \"Active power = \" , round(AP,3),\"watts\"\n",
    "print \"Reactive power = \" , round(RP,3),\"watts\"\n",
    "print \"Apparent power = \" , round(APP,3),\"watts\"\n",
    "\n",
    "#answers in book is printed wrong\n",
    "\n",
    "\n"
   ]
  },
  {
   "cell_type": "markdown",
   "metadata": {},
   "source": [
    "##Example4.31, Page number 140"
   ]
  },
  {
   "cell_type": "code",
   "execution_count": 45,
   "metadata": {
    "collapsed": false
   },
   "outputs": [
    {
     "name": "stdout",
     "output_type": "stream",
     "text": [
      " capacitance =  5.50448880662e-05 farad\n",
      " Resistance =  16.0 ohm\n"
     ]
    }
   ],
   "source": [
    "#calculate the value of RESISTANCE AND CAPACITANCE \n",
    "\n",
    "import math\n",
    "\n",
    "#variable declaration\n",
    "I=2.5 #amperes\n",
    "V=150 #volts\n",
    "f=50 #hetz\n",
    "P=100 #power\n",
    "\n",
    "#calculation\n",
    "Z=V/I #ohm\n",
    "R=P/(I*I)\n",
    "Xc=math.sqrt(Z**2-R**2) #ohm\n",
    "C=1/(2*math.pi*f*Xc)#capacitance\n",
    "\n",
    "#reslt\n",
    "print \" capacitance = \",C,\"farad\"\n",
    "print \" Resistance = \",R,\"ohm\"\n",
    "\n"
   ]
  },
  {
   "cell_type": "markdown",
   "metadata": {},
   "source": [
    "##Example4.32, Page number 141"
   ]
  },
  {
   "cell_type": "code",
   "execution_count": 46,
   "metadata": {
    "collapsed": false
   },
   "outputs": [
    {
     "name": "stdout",
     "output_type": "stream",
     "text": [
      "capacitance =  6.94609118043e-05 farad\n"
     ]
    }
   ],
   "source": [
    "#determine the value of capacitance\n",
    "\n",
    "import math\n",
    "\n",
    "#variable declaration\n",
    "V1=100 #volts\n",
    "V=250 #volts\n",
    "f=50 #hertz\n",
    "P=500 #watt\n",
    "\n",
    "#calculation\n",
    "I=P/V1 #ampere\n",
    "V2=math.sqrt(V**2-V1**2) #volts\n",
    "Xc=V2/I #ohm\n",
    "C=1/(2*math.pi*f*Xc) #farad\n",
    "\n",
    "#result\n",
    "print \"capacitance = \" ,C,\"farad\"\n"
   ]
  },
  {
   "cell_type": "markdown",
   "metadata": {},
   "source": [
    "##Example4.33, Page number 141"
   ]
  },
  {
   "cell_type": "code",
   "execution_count": 47,
   "metadata": {
    "collapsed": false
   },
   "outputs": [
    {
     "name": "stdout",
     "output_type": "stream",
     "text": [
      "inductive reactance =  47.124 ohm\n",
      "capacitive reactance =  159.155 ohm\n",
      "impedance =  114.787 ohm\n",
      "current =  2.178 ampere\n",
      "power factor =  0.218\n",
      "phase angle =  77.42\n",
      "voltage across r =  54.449 volts\n",
      "voltage across l =  102.634 volts\n",
      "voltage across c =  346.632 volts\n"
     ]
    }
   ],
   "source": [
    "#determine the inductive reactance and capacitance and voltage across R L C\n",
    "\n",
    "from math import pi,sqrt,acos\n",
    "\n",
    "#variable declaration\n",
    "R=25 #ohm\n",
    "C=20e-6 #farad\n",
    "L=0.15 #henry\n",
    "V=250 #volts\n",
    "f=50 #Hz\n",
    "\n",
    "#calculation\n",
    "X=2*pi*f*L #ohm\n",
    "Xc=1/(2*pi*f*C) #ohm \n",
    "Z= sqrt(R**2+(X-Xc)**2) #ohm\n",
    "I=V/Z #ampere\n",
    "coso=R/Z\n",
    "o=acos(coso)*180/pi#phase angle\n",
    "Vr=I*R #volts\n",
    "Vl=I*X #volts\n",
    "Vc=I*Xc #volts\n",
    "\n",
    "#result\n",
    "\n",
    "print \"inductive reactance = \", round(X,3) ,\"ohm\"\n",
    "print \"capacitive reactance = \" , round(Xc,3), \"ohm\"\n",
    "print \"impedance = \",round(Z,3),\"ohm\"\n",
    "print \"current = \",round(I,3),\"ampere\"\n",
    "print \"power factor = \",round(coso,3)\n",
    "print \"phase angle = \" ,round(o,3)\n",
    "print \"voltage across r = \" ,round(Vr,3),\"volts\"\n",
    "print \"voltage across l = \" ,round(Vl,3),\"volts\"\n",
    "print \"voltage across c = \" ,round(Vc,3),\"volts\"\n",
    "\n"
   ]
  },
  {
   "cell_type": "markdown",
   "metadata": {},
   "source": [
    "##Example4.34, Page number 142"
   ]
  },
  {
   "cell_type": "code",
   "execution_count": 48,
   "metadata": {
    "collapsed": false
   },
   "outputs": [
    {
     "name": "stdout",
     "output_type": "stream",
     "text": [
      "Current =  1.29 amperes\n",
      "Voltage V1 =  350.63 volts\n",
      "Voltage V2 =  102.01 volts\n"
     ]
    }
   ],
   "source": [
    "#determine the current also V1 and V2\n",
    "\n",
    "import math\n",
    "\n",
    "#variable declaration\n",
    "V=250 #volts\n",
    "f=50 #Hz\n",
    "R1=10 #ohm\n",
    "L1=0.15 #henry\n",
    "C1=10e-6 #capacitance\n",
    "R2=8 #ohm\n",
    "L2=0.25 #henry\n",
    "\n",
    "#variable declaration\n",
    "X1=2*math.pi*f*L1 #ohm\n",
    "Xc1=1/(2*math.pi*f*C1)\n",
    "X2=2*math.pi*f*L2\n",
    "Z=math.sqrt((pow((R1+R2),2))+(pow(((X1+X2)-Xc1),2))) #impedance\n",
    "I=V/Z #ampere\n",
    "Z1=math.sqrt(R1**2+(X1-Xc1)**2)\n",
    "V1=I*Z1 #volts\n",
    "Z2=math.sqrt(R2**2+X2**2)\n",
    "V2=I*Z2 #volts\n",
    "\n",
    "#result\n",
    "print \"Current = \" ,round(I,2),\"amperes\"\n",
    "print \"Voltage V1 = \" ,round(V1,2),\"volts\"\n",
    "print \"Voltage V2 = \" ,round(V2,2),\"volts\"\n",
    "\n",
    "#round off error\n"
   ]
  },
  {
   "cell_type": "markdown",
   "metadata": {},
   "source": [
    "##Example4.35, Page number 144"
   ]
  },
  {
   "cell_type": "code",
   "execution_count": 49,
   "metadata": {
    "collapsed": false
   },
   "outputs": [
    {
     "name": "stdout",
     "output_type": "stream",
     "text": [
      "frequency = 64.97 hertz\n",
      "maximum current = 16 amperes\n"
     ]
    }
   ],
   "source": [
    "#determine the value of maximum current\n",
    "\n",
    "import math\n",
    "\n",
    "#variable declaration\n",
    "C=30e-6 #farad\n",
    "R=12 #ohms\n",
    "L=0.2 #henry\n",
    "V=200 #volt\n",
    "\n",
    "#calculation\n",
    "I=V/R #ampere\n",
    "f=1/(2*math.pi*math.sqrt (L*C))\n",
    "\n",
    "#result\n",
    "print \"frequency =\",round(f,2),\"hertz\"\n",
    "print \"maximum current =\",I,\"amperes\"\n"
   ]
  },
  {
   "cell_type": "markdown",
   "metadata": {},
   "source": [
    "##Example4.36, Page number 144"
   ]
  },
  {
   "cell_type": "code",
   "execution_count": 50,
   "metadata": {
    "collapsed": false
   },
   "outputs": [
    {
     "name": "stdout",
     "output_type": "stream",
     "text": [
      "frequency at resonance = 64.269 hz\n"
     ]
    }
   ],
   "source": [
    "#calculate frequency at resonance\n",
    "\n",
    "import math\n",
    "\n",
    "#variable declaration\n",
    "C=30*10**-6 #farad\n",
    "L=0.2 #henry\n",
    "R=12 #ohm\n",
    "\n",
    "#variable declaration\n",
    "F= math.sqrt(1/(L*C)-R**2/(L*L)) #Hz\n",
    "f=1/(2*math.pi)*F\n",
    "\n",
    "#result\n",
    "print \"frequency at resonance =\",round(f,3),\"hz\"\n"
   ]
  },
  {
   "cell_type": "markdown",
   "metadata": {},
   "source": [
    "##Example4.40, Page number 158"
   ]
  },
  {
   "cell_type": "code",
   "execution_count": 51,
   "metadata": {
    "collapsed": false
   },
   "outputs": [
    {
     "name": "stdout",
     "output_type": "stream",
     "text": [
      "active power for star connection = 968.0 watts\n",
      "active power for delta connection = 2904.0 watts\n"
     ]
    }
   ],
   "source": [
    "#calculate the line currnt nd voltage\n",
    "\n",
    "import math\n",
    "\n",
    "#variable declaration\n",
    "R=200 #ohm\n",
    "Vl=440 #volt\n",
    "f=50 #Hz\n",
    "coso=1 #power factor\n",
    "Vp=440 #volts\n",
    "\n",
    "#calculation\n",
    "V=Vl/math.sqrt(3) #volts\n",
    "I=V/R #ampere\n",
    "Il=I #ampere\n",
    "P=3*V*I*coso #power\n",
    "I1=math.sqrt(3)*I #ampere\n",
    "P1=3*Vp*I1*coso #watt\n",
    "\n",
    "#result\n",
    "print \"active power for star connection =\",P,\"watts\"\n",
    "print \"active power for delta connection =\",P1,\"watts\"\n",
    "\n",
    "#round off error\n"
   ]
  },
  {
   "cell_type": "markdown",
   "metadata": {},
   "source": [
    "##Example4.41, Page number 159"
   ]
  },
  {
   "cell_type": "code",
   "execution_count": 52,
   "metadata": {
    "collapsed": false
   },
   "outputs": [
    {
     "name": "stdout",
     "output_type": "stream",
     "text": [
      "total power absorbed for star connection = 375.38 watt\n",
      "total power absorbed for delta connection = 1126.14 watt\n"
     ]
    }
   ],
   "source": [
    "#calculate total power absrbed\n",
    "\n",
    "import math\n",
    "\n",
    "#variable declaration\n",
    "R=15 #ohm\n",
    "L=0.25 #ampere\n",
    "f=50 #Hz\n",
    "Vl=400 #volts\n",
    "\n",
    "#calculation\n",
    "X=2*math.pi*f*L #ohm\n",
    "Z=math.sqrt(R**2+X**2) #ohm\n",
    "V=Vl/math.sqrt(3) #star connection\n",
    "I=V/Z #ampere\n",
    "Il=I \n",
    "coso=R/Z \n",
    "P=3*V*Il*coso #power\n",
    "Iph = Vl/Z #ampere\n",
    "Il1 = math.sqrt(3)*Iph #ampere\n",
    "P1=3*V*Il1*coso #power\n",
    "#result\n",
    "print \"total power absorbed for star connection =\",round(P,2),\"watt\"\n",
    "print \"total power absorbed for delta connection =\",round(P1,2),\"watt\"\n",
    "\n",
    "#round off error\n"
   ]
  },
  {
   "cell_type": "markdown",
   "metadata": {},
   "source": [
    "##Example4.42, Page number 160"
   ]
  },
  {
   "cell_type": "code",
   "execution_count": 53,
   "metadata": {
    "collapsed": false
   },
   "outputs": [
    {
     "name": "stdout",
     "output_type": "stream",
     "text": [
      " reactance = 5.18 ohms\n",
      " resistance = 4.08 ohms\n"
     ]
    }
   ],
   "source": [
    "#calculate resistance and reactance of circuit\n",
    "\n",
    "import math\n",
    "\n",
    "#variable declaration\n",
    "P=15000 #power\n",
    "Vl=400#line voltage\n",
    "I=35 #line current\n",
    "\n",
    "#calculation\n",
    "V=Vl/math.sqrt(3) #volts\n",
    "I=35 #line current \n",
    "Z=V/I #ohm\n",
    "coso=(15e3)/(math.sqrt(3)*Vl*I)\n",
    "R =Z*coso\n",
    "X=math.sqrt(Z**2-R**2)\n",
    "\n",
    "#result           \n",
    "print \" reactance =\",round(X,2),\"ohms\"\n",
    "print \" resistance =\",round(R,2),\"ohms\"\n"
   ]
  },
  {
   "cell_type": "markdown",
   "metadata": {},
   "source": [
    "##Example4.43, Page number 161"
   ]
  },
  {
   "cell_type": "code",
   "execution_count": 54,
   "metadata": {
    "collapsed": false
   },
   "outputs": [
    {
     "name": "stdout",
     "output_type": "stream",
     "text": [
      "power factor = 23.41\n"
     ]
    }
   ],
   "source": [
    "#calculate power factor\n",
    "\n",
    "from math import sqrt,atan,pi\n",
    "\n",
    "#variable declaration\n",
    "W1=5000 #watt\n",
    "W2=3000 #watt\n",
    "\n",
    "#calculation\n",
    "tanphi = (sqrt(3)*(W1-W2))/(W1+W2)\n",
    "phi = (atan(tanphi)*180)/pi\n",
    "\n",
    "#result\n",
    "print \"power factor =\",round(phi,2)\n"
   ]
  }
 ],
 "metadata": {
  "kernelspec": {
   "display_name": "Python 2",
   "language": "python",
   "name": "python2"
  },
  "language_info": {
   "codemirror_mode": {
    "name": "ipython",
    "version": 2
   },
   "file_extension": ".py",
   "mimetype": "text/x-python",
   "name": "python",
   "nbconvert_exporter": "python",
   "pygments_lexer": "ipython2",
   "version": "2.7.8"
  }
 },
 "nbformat": 4,
 "nbformat_minor": 0
}
