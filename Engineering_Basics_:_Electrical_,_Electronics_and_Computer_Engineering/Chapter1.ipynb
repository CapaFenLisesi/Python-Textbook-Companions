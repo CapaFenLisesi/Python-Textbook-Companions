{
 "cells": [
  {
   "cell_type": "markdown",
   "metadata": {},
   "source": [
    "# Chapter 1 : concept of electric current and laws"
   ]
  },
  {
   "cell_type": "markdown",
   "metadata": {},
   "source": [
    "##Example1.1, Page number 4"
   ]
  },
  {
   "cell_type": "code",
   "execution_count": 1,
   "metadata": {
    "collapsed": false
   },
   "outputs": [
    {
     "name": "stdout",
     "output_type": "stream",
     "text": [
      "specific resistance =  1.66666666667e-08 ohm-metre\n"
     ]
    }
   ],
   "source": [
    "#Find specific resistance\n",
    "\n",
    "#variable declaration\n",
    "L =12  #meter\n",
    "A=0.01*10**-4   #m**2\n",
    "R=0.2  #ohm\n",
    "\n",
    "#calculation\n",
    "p=R*A/L   #specific resistance\n",
    "\n",
    "#result\n",
    "print \"specific resistance = \" , p, \"ohm-metre\"\n"
   ]
  },
  {
   "cell_type": "markdown",
   "metadata": {},
   "source": [
    "##Example1.2, Page number 5"
   ]
  },
  {
   "cell_type": "code",
   "execution_count": 2,
   "metadata": {
    "collapsed": false
   },
   "outputs": [
    {
     "name": "stdout",
     "output_type": "stream",
     "text": [
      "The resistance of armature winding at 40 degree celcius = 1.575 ohm\n"
     ]
    }
   ],
   "source": [
    "#Calculate resistance\n",
    "\n",
    "#variable declaration\n",
    "a0=0.0043 \n",
    "t1=27 #degree celsius\n",
    "t2=40\n",
    "R1=1.5 #ohm\n",
    "\n",
    "#calculation\n",
    "R2=R1*(1+a0*t2)/(1+a0*t1) #ohm\n",
    "\n",
    "#result\n",
    "print \"The resistance of armature winding at 40 degree celcius =\" , round(R2,3) ,\"ohm\"\n"
   ]
  },
  {
   "cell_type": "markdown",
   "metadata": {},
   "source": [
    "##Example1.3, Page number 13"
   ]
  },
  {
   "cell_type": "code",
   "execution_count": 3,
   "metadata": {
    "collapsed": false
   },
   "outputs": [
    {
     "name": "stdout",
     "output_type": "stream",
     "text": [
      "Resistance =  30 ohm\n",
      "cureent =  4 amperes\n",
      "Voltage V1 =  20 volts\n",
      "Voltage V2 =  40 volts\n",
      "Voltage V3 =  60 volts\n"
     ]
    }
   ],
   "source": [
    "#Find resistance , current and voltage\n",
    "\n",
    "#variable decdlaration\n",
    "R1=5 #ohm   \n",
    "R2=10\n",
    "R3=15\n",
    "V=120 #volt\n",
    "\n",
    "#calculation\n",
    "R=R1+R2+R3 #ohm\n",
    "I=V/R  # ampere\n",
    "V1=I*R1  #volt\n",
    "V2=I*R2\n",
    "V3=I*R3\n",
    "\n",
    "#result\n",
    "print \"Resistance = \" , R , \"ohm\"\n",
    "print \"cureent = \" , I , \"amperes\"\n",
    "print \"Voltage V1 = \" , V1 , \"volts\"\n",
    "print \"Voltage V2 = \" , V2 , \"volts\"\n",
    "print \"Voltage V3 = \" , V3 , \"volts\"\n",
    "\n"
   ]
  },
  {
   "cell_type": "markdown",
   "metadata": {},
   "source": [
    "##Example1.4, Page number 14"
   ]
  },
  {
   "cell_type": "code",
   "execution_count": 4,
   "metadata": {
    "collapsed": false
   },
   "outputs": [
    {
     "name": "stdout",
     "output_type": "stream",
     "text": [
      "resistance across AC =  4.76 ohms\n"
     ]
    }
   ],
   "source": [
    "#Find equivalent resistance\n",
    "\n",
    "#varaiable declaration\n",
    "Rab =(2.0*4.0)/(2+4) #ohms\n",
    "Rbc =(6.0*8.0)/(6+8)\n",
    "\n",
    "#calculation\n",
    "Rac = Rab+Rbc #ohms\n",
    "\n",
    "#result\n",
    "print \"resistance across AC = \" , round(Rac,2) , \"ohms\"\n"
   ]
  },
  {
   "cell_type": "markdown",
   "metadata": {},
   "source": [
    "##Example1.5, Page number 14"
   ]
  },
  {
   "cell_type": "code",
   "execution_count": 5,
   "metadata": {
    "collapsed": false
   },
   "outputs": [
    {
     "name": "stdout",
     "output_type": "stream",
     "text": [
      "resistance across AC =  10.8 ohms\n"
     ]
    }
   ],
   "source": [
    "#Find effective resistance\n",
    "\n",
    "#variable declaration\n",
    "Rab=4 #ohm\n",
    "Rbc=(12.0*8.0)/(12+8)\n",
    "Rcd=(3.0*6.0)/(3+6)\n",
    "\n",
    "#calculation\n",
    "Rad=Rab+Rbc+Rcd #ohm\n",
    "\n",
    "#result\n",
    "print \"resistance across AC = \" , Rad, \"ohms\"\n"
   ]
  },
  {
   "cell_type": "markdown",
   "metadata": {},
   "source": [
    "##Example1.6, Page number 15"
   ]
  },
  {
   "cell_type": "code",
   "execution_count": 6,
   "metadata": {
    "collapsed": false
   },
   "outputs": [
    {
     "name": "stdout",
     "output_type": "stream",
     "text": [
      " Resistance R2 =  24 ohms\n"
     ]
    }
   ],
   "source": [
    "#Find resistance\n",
    "\n",
    "#variable declaration\n",
    "R1=8 #ohms\n",
    "R=6\n",
    "#calculations\n",
    "R2 = 48/2 # R = R1*R2/(R1+R2)\n",
    "\n",
    "#result\n",
    "print \" Resistance R2 = \" , R2, \"ohms\"\n"
   ]
  },
  {
   "cell_type": "markdown",
   "metadata": {},
   "source": [
    "##Example1.7, Page number 15"
   ]
  },
  {
   "cell_type": "code",
   "execution_count": 7,
   "metadata": {
    "collapsed": false
   },
   "outputs": [
    {
     "name": "stdout",
     "output_type": "stream",
     "text": [
      "I1=  6.857 amperes\n",
      "I2=  5.14 amperes\n"
     ]
    }
   ],
   "source": [
    "#Find values of current\n",
    "\n",
    "#variable declaration\n",
    "I=12.0 #ampere\n",
    "R1=6.0 #ohms\n",
    "R2=8.0\n",
    "\n",
    "#calculations\n",
    "I1=I*R2/(R1+R2) #amperes\n",
    "I2=I*R1/(R1+R2)\n",
    "\n",
    "#result\n",
    "print \"I1= \" , round(I1,3) , \"amperes\" \n",
    "print \"I2= \" , round(I2,2) , \"amperes\"\n",
    "\n",
    "#round off error in book\n"
   ]
  },
  {
   "cell_type": "markdown",
   "metadata": {},
   "source": [
    "##Example1.9, Page number 17"
   ]
  },
  {
   "cell_type": "code",
   "execution_count": 8,
   "metadata": {
    "collapsed": false
   },
   "outputs": [
    {
     "name": "stdout",
     "output_type": "stream",
     "text": [
      " I1=  6.0 amperes \n",
      " I2=  4.0 amperes \n"
     ]
    }
   ],
   "source": [
    "#Find current values\n",
    "\n",
    "#variable declaration\n",
    "R1=0.02 #ohms\n",
    "R2=0.03\n",
    "I = 10 #amperes\n",
    "\n",
    "#Calculations\n",
    "I1=(I*R2)/(R1+R2)\n",
    "I2=(I*R1)/(R1+R2)\n",
    "\n",
    "#result\n",
    "print \" I1= \" , I1 , \"amperes \"\n",
    "print \" I2= \" , I2 , \"amperes \" \n"
   ]
  },
  {
   "cell_type": "markdown",
   "metadata": {},
   "source": [
    "##Example1.10, Page number 18"
   ]
  },
  {
   "cell_type": "code",
   "execution_count": 9,
   "metadata": {
    "collapsed": false
   },
   "outputs": [
    {
     "name": "stdout",
     "output_type": "stream",
     "text": [
      "R1 =  26.67 ohms\n",
      "R2 =  11.43 ohms\n"
     ]
    }
   ],
   "source": [
    "#Calculate resistance of each coil\n",
    "\n",
    "#variable declaration\n",
    "V=200.0 #volts\n",
    "I=25.0 #amperes\n",
    "P1=1500.0 #watts\n",
    "\n",
    "#calculations \n",
    "R1=(V*V)/P1 #ohms\n",
    "R=V/I       #total resistance\n",
    "R2=R*R1/(R1-R) #ohms\n",
    "\n",
    "#result\n",
    "print \"R1 = \" ,round(R1,2) , \"ohms\" \n",
    "print \"R2 = \" , round(R2,2) , \"ohms\" \n"
   ]
  },
  {
   "cell_type": "markdown",
   "metadata": {},
   "source": [
    "##Example1.11, Page number 19"
   ]
  },
  {
   "cell_type": "code",
   "execution_count": 10,
   "metadata": {
    "collapsed": false
   },
   "outputs": [
    {
     "name": "stdout",
     "output_type": "stream",
     "text": [
      "power dissipated in coil  Pa =  333.33 watts\n",
      "power dissipated in coil  Pb =  1333.33 watts\n",
      "power dissipated in coil  Pc =  333.33 watts\n"
     ]
    }
   ],
   "source": [
    "#Calculate power dissipaed in each coil\n",
    "\n",
    "#variable declaration\n",
    "V=100.0 #volts \n",
    "P=1500.0 #watts\n",
    "\n",
    "#calculations\n",
    "R=(V**2/P)/2 #ohms\n",
    "Ra=R\n",
    "Rb=R\n",
    "Rc=R\n",
    "R1=((Ra*Rc)/(Ra+Rc))+Rb\n",
    "I=V/R1 #amperes\n",
    "I1=(I*Ra)/(Ra+Rc)\n",
    "I2=(I*Ra)/(Ra+Rc)\n",
    "Pb=I*I*Ra #watts\n",
    "Pa=I1*I1*Rb\n",
    "Pc=I2*I2*Rc\n",
    "\n",
    "#result\n",
    "print \"power dissipated in coil  Pa = \" , round(Pa,2) , \"watts\"\n",
    "print \"power dissipated in coil  Pb = \" , round(Pb,2), \"watts\"\n",
    "print \"power dissipated in coil  Pc = \" , round(Pc,2) , \"watts\"\n",
    "\n",
    "#Round off error in book \n"
   ]
  },
  {
   "cell_type": "markdown",
   "metadata": {},
   "source": [
    "##Example1.12, Page number 20"
   ]
  },
  {
   "cell_type": "code",
   "execution_count": 11,
   "metadata": {
    "collapsed": false
   },
   "outputs": [
    {
     "name": "stdout",
     "output_type": "stream",
     "text": [
      "Bill amount = Rs  263.0\n"
     ]
    }
   ],
   "source": [
    "#Calculate amount of bill\n",
    "\n",
    "#variable declaration\n",
    "L=3600  #six lamp 1000 watt each for six days\n",
    "H=3000  # heater\n",
    "M=735.5 # single phase motor\n",
    "F=2400  #four fans 75W\n",
    "C=0.9 #cost of energy\n",
    "\n",
    "#Calculations\n",
    "T=L+H+M+F #total energy consumed in watt \n",
    "TE=T*30/1000\n",
    "B=TE*C #Bill amount in Rs\n",
    "\n",
    "#result\n",
    "print \"Bill amount = Rs \" , round(B) \n"
   ]
  },
  {
   "cell_type": "markdown",
   "metadata": {},
   "source": [
    "##Example1.18, Page number 34"
   ]
  },
  {
   "cell_type": "code",
   "execution_count": 12,
   "metadata": {
    "collapsed": false
   },
   "outputs": [
    {
     "name": "stdout",
     "output_type": "stream",
     "text": [
      "Rr =  2.0 ohms\n",
      "Ry =  0.4 ohms\n",
      "Rb=  0.5 ohms\n"
     ]
    }
   ],
   "source": [
    "#Calculate resistance value\n",
    "\n",
    "#variable declaration\n",
    "Rry=4.0 #ohm\n",
    "Ryb=1.0\n",
    "Rbr=5.0\n",
    "\n",
    "#calculation\n",
    "Rr=(Rbr*Rry)/(Rry+Rbr+Ryb)\n",
    "Ry=(Rry*Ryb)/(Rry+Rbr+Ryb)\n",
    "Rb=(Rbr*Ryb)/(Rry+Rbr+Ryb)\n",
    "\n",
    "#result\n",
    "print \"Rr = \" , Rr , \"ohms\"\n",
    "print \"Ry = \" , Ry , \"ohms\"\n",
    "print \"Rb= \" , Rb , \"ohms\"\n",
    "\n",
    "#Value of Rr in book is printed wrong \n"
   ]
  },
  {
   "cell_type": "markdown",
   "metadata": {},
   "source": [
    "##Example1.19, Page number 34"
   ]
  },
  {
   "cell_type": "code",
   "execution_count": 13,
   "metadata": {
    "collapsed": false
   },
   "outputs": [
    {
     "name": "stdout",
     "output_type": "stream",
     "text": [
      "Rry =  4.0 ohms\n",
      "Ryb =  2.0 ohms\n",
      "Rbr =  6.0 ohms\n"
     ]
    }
   ],
   "source": [
    "#Calculate resistance\n",
    "\n",
    "#variable declaration\n",
    "Rr=2.0 #ohms\n",
    "Ry=0.67\n",
    "Rb=1.0\n",
    "\n",
    "#calculations\n",
    "Rry=(Rr*Ry)+(Ry*Rb)+(Rb*Rr)/Rb\n",
    "Ryb=((Rr*Ry)+(Ry*Rb)+(Rb*Rr))/Rr\n",
    "Rbr=((Rr*Ry)+(Ry*Rb)+(Rb*Rr))/Ry\n",
    "\n",
    "#result\n",
    "print \"Rry = \" , round(Rry) , \"ohms\"\n",
    "print \"Ryb = \" , round(Ryb) , \"ohms\"\n",
    "print \"Rbr = \" , round(Rbr) , \"ohms\"\n"
   ]
  },
  {
   "cell_type": "code",
   "execution_count": null,
   "metadata": {
    "collapsed": true
   },
   "outputs": [],
   "source": []
  }
 ],
 "metadata": {
  "kernelspec": {
   "display_name": "Python 2",
   "language": "python",
   "name": "python2"
  },
  "language_info": {
   "codemirror_mode": {
    "name": "ipython",
    "version": 2
   },
   "file_extension": ".py",
   "mimetype": "text/x-python",
   "name": "python",
   "nbconvert_exporter": "python",
   "pygments_lexer": "ipython2",
   "version": "2.7.8"
  }
 },
 "nbformat": 4,
 "nbformat_minor": 0
}
