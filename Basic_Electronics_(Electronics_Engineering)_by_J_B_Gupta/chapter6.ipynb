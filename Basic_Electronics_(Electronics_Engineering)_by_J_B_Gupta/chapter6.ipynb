{
 "cells": [
  {
   "cell_type": "markdown",
   "metadata": {},
   "source": [
    "#Chapter 6 , Bipolar Junction Trasistor"
   ]
  },
  {
   "cell_type": "markdown",
   "metadata": {
    "collapsed": true
   },
   "source": [
    "##Example 6.1 , Page Number 192"
   ]
  },
  {
   "cell_type": "code",
   "execution_count": 1,
   "metadata": {
    "collapsed": false
   },
   "outputs": [
    {
     "name": "stdout",
     "output_type": "stream",
     "text": [
      "Base current :  0.05 mA.\n"
     ]
    }
   ],
   "source": [
    "#Variables\n",
    "\n",
    "IE = 10 * 10**-3                 #Emitter current (in Ampere)\n",
    "IC = 9.95 * 10**-3               #Collector current (in Ampere)\n",
    "\n",
    "#Calculation\n",
    "\n",
    "IB = IE - IC                     #Base current (in Ampere)\n",
    "\n",
    "#Result\n",
    "\n",
    "print \"Base current : \",IB * 10**3,\"mA.\""
   ]
  },
  {
   "cell_type": "markdown",
   "metadata": {
    "collapsed": true
   },
   "source": [
    "##Example 6.2 , Page Number 192 "
   ]
  },
  {
   "cell_type": "code",
   "execution_count": 3,
   "metadata": {
    "collapsed": false
   },
   "outputs": [
    {
     "name": "stdout",
     "output_type": "stream",
     "text": [
      "Current gain (alphadc) :  0.995 .\n"
     ]
    }
   ],
   "source": [
    "#Variables\n",
    "\n",
    "IB = 0.5 * 10**-3                 #Base current (in Ampere)\n",
    "IC = 100.0 * 10**-3               #Collector current (in Ampere)\n",
    "\n",
    "#Calculation\n",
    "\n",
    "IE = IB + IC                      #Emitter current (in Ampere)\n",
    "alphadc = IC/IE                   #Current amplification factor\n",
    "\n",
    "#Result\n",
    "\n",
    "print \"Current amplification factor (alphadc) : \",round(alphadc,3),\".\""
   ]
  },
  {
   "cell_type": "markdown",
   "metadata": {
    "collapsed": true
   },
   "source": [
    "##Example 6.3 , Page Number 193 "
   ]
  },
  {
   "cell_type": "code",
   "execution_count": 5,
   "metadata": {
    "collapsed": false
   },
   "outputs": [
    {
     "name": "stdout",
     "output_type": "stream",
     "text": [
      "Emitter current :  2.7  mA.\n",
      "Collector current :  2.65  mA.\n"
     ]
    }
   ],
   "source": [
    "#Variables\n",
    "\n",
    "IB = 50 * 10**-6                 #Base current (in Ampere)\n",
    "ICBO = 4 * 10**-6                #Collector-to-base leakage current (in Ampere)\n",
    "alphadc = 0.98                   #Current amplification factor\n",
    "\n",
    "#Calculation\n",
    "\n",
    "IC = (alphadc*IB + ICBO)/(1-alphadc)       #Collector current (in Ampere)\n",
    "IE = IC + IB                               #Emitter current (in Ampere)\n",
    "\n",
    "#Result\n",
    "\n",
    "print \"Emitter current : \",IE * 10**3,\" mA.\\nCollector current : \",IC * 10**3,\" mA.\""
   ]
  },
  {
   "cell_type": "markdown",
   "metadata": {
    "collapsed": true
   },
   "source": [
    "##Example 6.4 , Page Number 193  "
   ]
  },
  {
   "cell_type": "code",
   "execution_count": 6,
   "metadata": {
    "collapsed": false
   },
   "outputs": [
    {
     "name": "stdout",
     "output_type": "stream",
     "text": [
      "Emitter current :  20.4 mA.\n"
     ]
    }
   ],
   "source": [
    "#Variables\n",
    "\n",
    "IC = 20.0 * 10**-3                #Collector current (in Ampere)\n",
    "beta = 50                         #Current gain \n",
    "\n",
    "#Calculation\n",
    "\n",
    "IB = IC/beta                      #Base current (in Ampere)\n",
    "IE = IC + IB                      #Emitter current (in Ampere)\n",
    "\n",
    "#Result\n",
    "\n",
    "print \"Emitter current : \",IE * 10**3,\"mA.\""
   ]
  },
  {
   "cell_type": "markdown",
   "metadata": {
    "collapsed": true
   },
   "source": [
    "##Example 6.5 , Page Number 194 "
   ]
  },
  {
   "cell_type": "code",
   "execution_count": 7,
   "metadata": {
    "collapsed": false
   },
   "outputs": [
    {
     "name": "stdout",
     "output_type": "stream",
     "text": [
      "Emitter current :  1.0 mA.\n",
      "Current Amplification factor :  0.98 .\n",
      "Current gain factor :  49.0 .\n"
     ]
    }
   ],
   "source": [
    "#Variables\n",
    "\n",
    "IB = 20.0 * 10**-6                 #Base current (in Ampere)\n",
    "IC = 0.98 * 10**-3                 #Collector current (in Ampere)\n",
    "\n",
    "#Calculation\n",
    "\n",
    "IE = IB + IC                      #Emitter current (in Ampere)\n",
    "alphadc = IC/IE                   #Current amplification factor\n",
    "beta = IC/IB                      #Current gain\n",
    "\n",
    "#Result\n",
    "\n",
    "print \"Emitter current : \",IE*10**3,\"mA.\\nCurrent Amplification factor : \",alphadc,\".\\nCurrent gain factor : \",beta,\".\""
   ]
  },
  {
   "cell_type": "markdown",
   "metadata": {
    "collapsed": true
   },
   "source": [
    "##Example 6.6 , Page Number 194 "
   ]
  },
  {
   "cell_type": "code",
   "execution_count": 10,
   "metadata": {
    "collapsed": false
   },
   "outputs": [
    {
     "name": "stdout",
     "output_type": "stream",
     "text": [
      "Collector current :  1.09  mA.\n"
     ]
    }
   ],
   "source": [
    "#Variables\n",
    "\n",
    "IB = 10 * 10**-6                   #Base current (in Ampere)\n",
    "ICBO = 1.0 * 10**-6                #Collector-to-base leakage current (in Ampere)\n",
    "beta = 99                          #Current amplification factor\n",
    "\n",
    "#Calculation\n",
    "\n",
    "IC = beta*IB + (1 + beta)*ICBO     #Collector current (in Ampere)\n",
    "\n",
    "#Result\n",
    "\n",
    "print \"Collector current : \",IC*10**3,\" mA.\""
   ]
  },
  {
   "cell_type": "markdown",
   "metadata": {
    "collapsed": true
   },
   "source": [
    "##Example 6.7 , Page Number 199 "
   ]
  },
  {
   "cell_type": "code",
   "execution_count": 12,
   "metadata": {
    "collapsed": false
   },
   "outputs": [
    {
     "name": "stdout",
     "output_type": "stream",
     "text": [
      "Current amplification factor :  0.9697 .\n"
     ]
    }
   ],
   "source": [
    "#Variables\n",
    "\n",
    "IC = -6.4               #Collector current (in milli-Ampere)\n",
    "IE = 6.6                #Emitter current (in milli-Ampere)\n",
    "\n",
    "#Calculation\n",
    "\n",
    "alpha = -IC/IE          #Current amplification factor \n",
    "\n",
    "#Result\n",
    "\n",
    "print \"Current amplification factor : \",round(alpha,4),\".\""
   ]
  },
  {
   "cell_type": "markdown",
   "metadata": {
    "collapsed": true
   },
   "source": [
    "##Example 6.8 , Page Number 199 "
   ]
  },
  {
   "cell_type": "code",
   "execution_count": 13,
   "metadata": {
    "collapsed": false
   },
   "outputs": [
    {
     "name": "stdout",
     "output_type": "stream",
     "text": [
      "Dynamic input resistance :  40.0  ohm.\n"
     ]
    }
   ],
   "source": [
    "#Variables\n",
    "\n",
    "dVEB = 200 * 10**-3             #Change in emitter voltage \n",
    "dIE  = 5 * 10**-3               #Change in emitter current \n",
    "\n",
    "#Calculation\n",
    "\n",
    "rin = dVEB/dIE                  #Dynamic input resistance (in ohm)   \n",
    "\n",
    "#Result\n",
    "\n",
    "print \"Dynamic input resistance : \",rin,\" ohm.\""
   ]
  },
  {
   "cell_type": "markdown",
   "metadata": {
    "collapsed": true
   },
   "source": [
    "##Example 6.9 , Page Number 199 "
   ]
  },
  {
   "cell_type": "code",
   "execution_count": 14,
   "metadata": {
    "collapsed": false
   },
   "outputs": [
    {
     "name": "stdout",
     "output_type": "stream",
     "text": [
      "Base current :  30.0  micro-A.\n",
      "Collector current :  1.97  mA.\n"
     ]
    }
   ],
   "source": [
    "#Variables\n",
    "\n",
    "ICO = 10 * 10**-6           #Reverse saturation current (in Ampere)\n",
    "IE = 2 * 10**-3             #Emitter current (in Ampere)\n",
    "alpha = 0.98                #Current amplification factor \n",
    "\n",
    "#Calculation\n",
    "\n",
    "IC = alpha*IE + ICO         #Collector current (in Ampere)\n",
    "IB = IE - IC                #Base current (in Ampere)\n",
    "\n",
    "#Result\n",
    "\n",
    "print \"Base current : \",IB * 10**6,\" micro-A.\\nCollector current : \",IC * 10**3,\" mA.\""
   ]
  },
  {
   "cell_type": "markdown",
   "metadata": {
    "collapsed": true
   },
   "source": [
    "##Example 6.10 , Page Number 199 "
   ]
  },
  {
   "cell_type": "code",
   "execution_count": 17,
   "metadata": {
    "collapsed": false
   },
   "outputs": [
    {
     "name": "stdout",
     "output_type": "stream",
     "text": [
      "Current gain :  0.979 .\n",
      "Base current :  0.03 mA.\n"
     ]
    }
   ],
   "source": [
    "#Variables\n",
    "\n",
    "IE = 2.0 * 10**-3                #Emitter current (in Ampere)\n",
    "IC = 1.97 * 10**-3               #Collector current (in Ampere)\n",
    "ICBO = 12.5 * 10**-6             #Reverse saturation current (in Ampere)   \n",
    "\n",
    "#Calculation\n",
    "\n",
    "alpha = (IC-ICBO)/IE             #Current amplification factor\n",
    "IB = IE - IC                     #Base current (in Ampere)\n",
    "\n",
    "#Result\n",
    "\n",
    "print \"Current gain : \",round(alpha,3),\".\\nBase current : \",IB * 10**3,\"mA.\""
   ]
  },
  {
   "cell_type": "markdown",
   "metadata": {
    "collapsed": true
   },
   "source": [
    "##Example 6.11 , Page Number 199 "
   ]
  },
  {
   "cell_type": "code",
   "execution_count": 20,
   "metadata": {
    "collapsed": false
   },
   "outputs": [
    {
     "name": "stdout",
     "output_type": "stream",
     "text": [
      "Base current :  0.03 mA.\n"
     ]
    }
   ],
   "source": [
    "#Variables\n",
    "\n",
    "RL = 4.0 * 10**3               #Load resistance (in ohm)\n",
    "VL = 3                         #Voltage drop across load (in volts)\n",
    "alpha = 0.96                   #Current amplification factor\n",
    "\n",
    "#Calculation\n",
    "\n",
    "IC = VL/RL                     #Collector current (in Ampere)\n",
    "IE = IC/alpha                  #Emitter current (in Ampere)\n",
    "IB = IE - IC                   #Base current (in Ampere)\n",
    "\n",
    "#Result\n",
    "\n",
    "print \"Base current : \",round(IB * 10**3,2),\"mA.\""
   ]
  },
  {
   "cell_type": "markdown",
   "metadata": {
    "collapsed": true
   },
   "source": [
    "##Example 6.12 , Page Number 204 "
   ]
  },
  {
   "cell_type": "code",
   "execution_count": 22,
   "metadata": {
    "collapsed": false
   },
   "outputs": [
    {
     "name": "stdout",
     "output_type": "stream",
     "text": [
      "Current gain in CE configuration :  99.0 .\n",
      "Current gain in CB configuration :  0.988 .\n"
     ]
    }
   ],
   "source": [
    "#Variables\n",
    "\n",
    "alpha1 = 0.99                          #Current gain1 in CB\n",
    "beta2 = 80.0                           #Current gain2 in CE  \n",
    "\n",
    "#Calculation\n",
    "\n",
    "beta1 = alpha1/(1-alpha1)              #Current gain1 in CE \n",
    "alpha2 = beta2/(1 + beta2)             #Current gain2 in CB\n",
    "\n",
    "#Result\n",
    "\n",
    "print \"Current gain in CE configuration : \",beta1,\".\\nCurrent gain in CB configuration : \",round(alpha2,3),\".\""
   ]
  },
  {
   "cell_type": "markdown",
   "metadata": {
    "collapsed": true
   },
   "source": [
    "##Example 6.13 , Page Number 204 "
   ]
  },
  {
   "cell_type": "code",
   "execution_count": 23,
   "metadata": {
    "collapsed": false
   },
   "outputs": [
    {
     "name": "stdout",
     "output_type": "stream",
     "text": [
      "Base current :  20.0 micro-A.\n"
     ]
    }
   ],
   "source": [
    "#Variables\n",
    "\n",
    "RL = 1.0 * 10**3                  #Load resistance (in ohm)\n",
    "VL = 1.2                          #Voltage across load (in volts)\n",
    "beta = 60                         #Current gain in CE \n",
    "\n",
    "#Calculation\n",
    "\n",
    "IC = VL/RL                        #Collector current (in Ampere)\n",
    "IB = IC/beta                      #Base current (in Ampere)  \n",
    "\n",
    "#Result\n",
    "\n",
    "print \"Base current : \",IB * 10**6,\"micro-A.\""
   ]
  },
  {
   "cell_type": "markdown",
   "metadata": {
    "collapsed": true
   },
   "source": [
    "##Example 6.14 , Page Number 204 "
   ]
  },
  {
   "cell_type": "code",
   "execution_count": 26,
   "metadata": {
    "collapsed": false
   },
   "outputs": [
    {
     "name": "stdout",
     "output_type": "stream",
     "text": [
      "VCE :  9.2 V.\n",
      "Base current :  41.67  micro-A.\n"
     ]
    }
   ],
   "source": [
    "#Variables\n",
    "\n",
    "VCC = 10.0                    #Collector supply voltage (in volts)\n",
    "VL = 0.8                      #Voltage drop across load (in volts)\n",
    "RL = 800                      #Load resistance (in ohm) \n",
    "alpha = 0.96                  #Current gain in CB\n",
    "\n",
    "#Calculation\n",
    "\n",
    "VCE = VCC - VL                #Collector-emitter voltage (in volts)\n",
    "IC = VL/RL                    #Collector current (in Ampere)\n",
    "beta = alpha/(1-alpha)        #Current gain in CE \n",
    "IB = IC/beta                  #Base current (in Ampere)\n",
    "\n",
    "#Result\n",
    "\n",
    "print \"VCE : \",VCE,\"V.\"\n",
    "print \"Base current : \",round(IB * 10**6,2),\" micro-A.\""
   ]
  },
  {
   "cell_type": "markdown",
   "metadata": {
    "collapsed": true
   },
   "source": [
    "##Example 6.15 , Page Number 205 "
   ]
  },
  {
   "cell_type": "code",
   "execution_count": 27,
   "metadata": {
    "collapsed": false
   },
   "outputs": [
    {
     "name": "stdout",
     "output_type": "stream",
     "text": [
      "Collector current :  11.28 mA.\n"
     ]
    }
   ],
   "source": [
    "#Variables\n",
    "\n",
    "ICO = 10.0 * 10**-6              #Reverse saturation current (in Ampere)\n",
    "alpha = 0.98                     #Current gain in CB \n",
    "IB = 0.22 * 10**-3               #Base current (in Ampere) \n",
    "\n",
    "#Calculation\n",
    "\n",
    "IC = (alpha*IB + ICO)/(1-alpha)  #Collector current (in Ampere) \n",
    "\n",
    "#Result\n",
    "\n",
    "print \"Collector current : \",IC * 10**3,\"mA.\""
   ]
  },
  {
   "cell_type": "markdown",
   "metadata": {
    "collapsed": true
   },
   "source": [
    "##Example 6.16 , Page Number 205 "
   ]
  },
  {
   "cell_type": "code",
   "execution_count": 29,
   "metadata": {
    "collapsed": false
   },
   "outputs": [
    {
     "name": "stdout",
     "output_type": "stream",
     "text": [
      "Dynamic input resistance :  250.0  ohm.\n"
     ]
    }
   ],
   "source": [
    "#Variables\n",
    "\n",
    "dVBE = 250 * 10**-3                 #Change in base-emitter voltage (in volts)\n",
    "dIB = 1.0 * 10**-3                  #Change in base current (in Ampere)\n",
    "\n",
    "#Calculation\n",
    "\n",
    "rin = dVBE/dIB                      #Dynamic input resistance (in ohm) \n",
    "\n",
    "#Result\n",
    "\n",
    "print \"Dynamic input resistance : \",rin,\" ohm.\""
   ]
  },
  {
   "cell_type": "markdown",
   "metadata": {
    "collapsed": true
   },
   "source": [
    "##Example 6.17 , Page Number 205 "
   ]
  },
  {
   "cell_type": "code",
   "execution_count": 31,
   "metadata": {
    "collapsed": false
   },
   "outputs": [
    {
     "name": "stdout",
     "output_type": "stream",
     "text": [
      "Dynamic output resistance :  6.25 kilo-ohm.\n"
     ]
    }
   ],
   "source": [
    "#Variables\n",
    "\n",
    "dVCE = 5                            #Change in collector-emitter voltage (in volts)\n",
    "dIC = 0.8 * 10**-3                  #Change in base current (in Ampere)\n",
    "\n",
    "#Calculation\n",
    "\n",
    "rout = dVCE/dIC                     #Dynamic output resistance (in ohm) \n",
    "\n",
    "#Result\n",
    "\n",
    "print \"Dynamic output resistance : \",rout * 10**-3,\"kilo-ohm.\""
   ]
  },
  {
   "cell_type": "markdown",
   "metadata": {
    "collapsed": true
   },
   "source": [
    "##Example 6.18 , Page Number 209 "
   ]
  },
  {
   "cell_type": "code",
   "execution_count": 43,
   "metadata": {
    "collapsed": false
   },
   "outputs": [
    {
     "name": "stdout",
     "output_type": "stream",
     "text": [
      "Operating point Q is ( 5.2 V , 0.6 mA.)\n"
     ]
    },
    {
     "data": {
      "text/plain": [
       "<matplotlib.text.Text at 0x642f590>"
      ]
     },
     "execution_count": 43,
     "metadata": {},
     "output_type": "execute_result"
    },
    {
     "data": {
      "image/png": "[encoded data removed]",
      "text/plain": [
       "<matplotlib.figure.Figure at 0x6f3ec10>"
      ]
     },
     "metadata": {},
     "output_type": "display_data"
    }
   ],
   "source": [
    "import math\n",
    "import numpy\n",
    "%matplotlib inline\n",
    "from matplotlib.pyplot import plot,title,xlabel,ylabel,ylim,xlim,annotate\n",
    "\n",
    "#Variables\n",
    "\n",
    "VCC = 10.0                              #Collector supply voltage (in volts)\n",
    "RC = 8.0 * 10**3                        #Load resistance (in ohm)\n",
    "IB = 15.0 * 10**-6                      #Base current (in Ampere) \n",
    "beta = 40                               #Current gain in CE\n",
    "\n",
    "#Calculation\n",
    "\n",
    "IC = VCC/RC                             #Collector current (in Ampere)\n",
    "IC1 = beta * IB                         #Zero signal collector current (in Ampere)\n",
    "VCE = VCC - IC1*RC                      #Zero signal collector-emitter voltage (in volts) \n",
    "\n",
    "#Result\n",
    "\n",
    "print \"Operating point Q is (\",VCE,\"V ,\",IC1 * 10**3,\"mA.)\"\n",
    "\n",
    "#Graph\n",
    "\n",
    "x = numpy.linspace(0,10,100)\n",
    "y1 = numpy.linspace(0,0.6,100)\n",
    "x1 = numpy.linspace(0,5.2,100)\n",
    "plot(x,1.25-1.25/10*x,'b')\n",
    "plot(x1,0.6+x1-x1,'--',color='g')\n",
    "plot(5.2+y1-y1,y1,'--',color='g')\n",
    "annotate('Q',xy=(5.2,0.6))\n",
    "xlim(0,11)\n",
    "ylim(0,1.5)\n",
    "title(\"DC Load line\")\n",
    "xlabel(\"-VCE in Volts->\")\n",
    "ylabel(\"-IC in mA->\")"
   ]
  },
  {
   "cell_type": "markdown",
   "metadata": {
    "collapsed": true
   },
   "source": [
    "##Example 6.19 , Page Number 210"
   ]
  },
  {
   "cell_type": "code",
   "execution_count": 48,
   "metadata": {
    "collapsed": false
   },
   "outputs": [
    {
     "name": "stdout",
     "output_type": "stream",
     "text": [
      "Operating point  is ( 6.0 V, 1.2 mA ).\n",
      "Changed operating point is ( 3.0 V, 1.2 mA ).\n"
     ]
    }
   ],
   "source": [
    "#Variables\n",
    "\n",
    "IC = 1.2 * 10**-3             #Collector current (in Ampere)\n",
    "RL = 5.0 * 10**3              #Load resistance (in ohm)\n",
    "VCC = 12.0                    #Collector supply voltage (in volts) \n",
    "\n",
    "#Calculation\n",
    "\n",
    "VCE = VCC - IC*RL             #Zero signal collector-emitter voltage (in volts)\n",
    "RL1 = 7.5 * 10**3             #Changed load resistance (in ohm)\n",
    "VCE1 = VCC - IC*RL1           #Changed zero signal collector-emitter voltage (in volts)\n",
    "\n",
    "#Result\n",
    "\n",
    "print \"Operating point  is (\",VCE,\"V,\",IC*10**3,\"mA ).\"\n",
    "print \"Changed operating point is (\",VCE1,\"V,\",IC*10**3,\"mA ).\""
   ]
  },
  {
   "cell_type": "markdown",
   "metadata": {
    "collapsed": true
   },
   "source": [
    "##Example 6.20 , Page Number 210 "
   ]
  },
  {
   "cell_type": "code",
   "execution_count": 62,
   "metadata": {
    "collapsed": false
   },
   "outputs": [
    {
     "name": "stdout",
     "output_type": "stream",
     "text": [
      "At cut-off point VCE : 20 V.\n",
      "At saturation point IC : 6.0 mA.\n"
     ]
    },
    {
     "data": {
      "text/plain": [
       "<matplotlib.text.Text at 0x721b590>"
      ]
     },
     "execution_count": 62,
     "metadata": {},
     "output_type": "execute_result"
    },
    {
     "data": {
      "image/png": "[encoded data removed]",
      "text/plain": [
       "<matplotlib.figure.Figure at 0x642f370>"
      ]
     },
     "metadata": {},
     "output_type": "display_data"
    }
   ],
   "source": [
    "import math\n",
    "import numpy\n",
    "%matplotlib inline\n",
    "from matplotlib.pyplot import plot,title,xlabel,ylabel,ylim,xlim\n",
    "\n",
    "#Variables\n",
    "\n",
    "IC = 0                       #Collector current (in Ampere)\n",
    "VCE = VCC = 20               #Collector supply (in volts)\n",
    "RC = 3.3 * 10**3             #Resistance in collector branch (in ohm)\n",
    "\n",
    "#Calculation\n",
    "\n",
    "VCE1 = 0                     #Saturation point collector-emitter voltage (in volts)\n",
    "IC = VCC/RC                  #Collector current at saturation point (in Ampere)\n",
    "\n",
    "#Result\n",
    "\n",
    "print \"At cut-off point VCE :\",VCE,\"V.\"\n",
    "print \"At saturation point IC :\",round(IC * 10**3),\"mA.\"\n",
    "\n",
    "#Graph \n",
    "\n",
    "x = numpy.linspace(0,25,100)\n",
    "plot(x,6-6.0/20*x,'b')\n",
    "annotate('(0,6 mA)',xy=(0.5,6))\n",
    "annotate('(20 V,0)',xy=(20,0.5))\n",
    "xlim(0,25)\n",
    "ylim(0,10)\n",
    "title(\"DC Load line\")\n",
    "xlabel(\"-VCE in Volts->\")\n",
    "ylabel(\"-IC in mA->\")"
   ]
  },
  {
   "cell_type": "markdown",
   "metadata": {
    "collapsed": true
   },
   "source": [
    "##Example 6.21 , Page Number 210 "
   ]
  },
  {
   "cell_type": "code",
   "execution_count": 56,
   "metadata": {
    "collapsed": false
   },
   "outputs": [
    {
     "name": "stdout",
     "output_type": "stream",
     "text": [
      "VC for the network : -4.482 V.\n",
      "VB for the network : 9.7 V.\n"
     ]
    }
   ],
   "source": [
    "#Variables\n",
    "\n",
    "VCC = 0                         #Collector supply (in volts) \n",
    "beta = 45.0                     #Current gain in CE\n",
    "VBE = 0.7                       #Emitter-base voltage (in volts)\n",
    "VEE = 9                         #Emitter supply (in volts)  \n",
    "RB = 100 * 10**3                #Resistance in base branch (in ohm)\n",
    "RC = 1.2 * 10**3                #Resistance in collector branch (in ohm) \n",
    "\n",
    "#Calculation\n",
    "\n",
    "IB = (VEE - VBE)/RB             #Base current (in Ampere)\n",
    "IC = beta * IB                  #Collector current (in Ampere)\n",
    "VC = VCC - IC * RC              #Collector voltage (in volts)  \n",
    "VB = VBE + VEE                  #Base voltage (in volts)\n",
    "\n",
    "#Result\n",
    "\n",
    "print \"VC for the network :\",VC,\"V.\"\n",
    "print \"VB for the network :\",VB,\"V.\"\n",
    "\n",
    "#Slight variation due to higher precision."
   ]
  },
  {
   "cell_type": "markdown",
   "metadata": {
    "collapsed": true
   },
   "source": [
    "##Example 6.22 , Page Number 211 "
   ]
  },
  {
   "cell_type": "code",
   "execution_count": 64,
   "metadata": {
    "collapsed": false
   },
   "outputs": [
    {
     "name": "stdout",
     "output_type": "stream",
     "text": [
      "IB :  0.0167 mA.\n",
      "IC :  1.96 mA.\n",
      "Since, beta * IB < IC , therefore , transistor is in saturation.\n"
     ]
    }
   ],
   "source": [
    "#Variables\n",
    "\n",
    "VCC = 10                        #Collector supply (in volts)\n",
    "VBE = 0.8                       #Emitter-to-base voltage (in volts)\n",
    "VCE = 0.2                       #Collector-to-emitter voltage (in volts)\n",
    "beta = hfe = 100                #Current gain in CE\n",
    "VBB = 5                         #base supply (in volts)\n",
    "RB = 50 * 10**3                 #Resistance in base branch (in ohm)\n",
    "RE = 2 * 10**3                  #Resistance in emitter branch (in ohm)\n",
    "RC = 3 * 10**3                  #Resistance in collector branch (in ohm)\n",
    "\n",
    "#Calculation\n",
    "\n",
    "IB = (VBB - VBE)/(RB+(1+beta)*RE)   #Base current (in Ampere)\n",
    "IC = (VCC - VCE)/(RE + RC)          #Collector current (in Ampere)  \n",
    "\n",
    "#Result\n",
    "\n",
    "print \"IB : \",round(IB* 10**3,4),\"mA.\"\n",
    "print \"IC : \",IC* 10**3,\"mA.\"\n",
    "print \"Since, beta * IB < IC , therefore , transistor is in saturation.\""
   ]
  },
  {
   "cell_type": "markdown",
   "metadata": {
    "collapsed": true
   },
   "source": [
    "##Example 6.23 , Page Number 215 "
   ]
  },
  {
   "cell_type": "code",
   "execution_count": 68,
   "metadata": {
    "collapsed": false
   },
   "outputs": [
    {
     "name": "stdout",
     "output_type": "stream",
     "text": [
      "Maximum level of collector current :  4.26  mA.\n"
     ]
    }
   ],
   "source": [
    "#Variables\n",
    "\n",
    "Tf = 105                   #Free air temp. (in Celsius degree)\n",
    "Tf1 = 80                   #Temp. in excess of 25 degree celsius (in Celsius degree) \n",
    "df = 2.81                  #derating factor  (in milli-Watt per Celsius degree)  \n",
    "VCE = 20                   #Collector-to-emitter voltage (in volts)\n",
    "Porig = 310.0              #Original maximum power dissipation (in milli-Watt)                    \n",
    "\n",
    "#Calculation\n",
    "\n",
    "Pcmax  = Porig - Tf1 * df  #Derated power dissipation (in milli-watt)\n",
    "ICmax = Pcmax/VCE          #Device dissipation (in Ampere) \n",
    "\n",
    "#Result\n",
    "\n",
    "print \"Maximum level of collector current : \",ICmax,\" mA.\"\n",
    "\n",
    "#Calculation error in book."
   ]
  }
 ],
 "metadata": {
  "kernelspec": {
   "display_name": "Python 2",
   "language": "python",
   "name": "python2"
  },
  "language_info": {
   "codemirror_mode": {
    "name": "ipython",
    "version": 2
   },
   "file_extension": ".py",
   "mimetype": "text/x-python",
   "name": "python",
   "nbconvert_exporter": "python",
   "pygments_lexer": "ipython2",
   "version": "2.7.10"
  }
 },
 "nbformat": 4,
 "nbformat_minor": 0
}
