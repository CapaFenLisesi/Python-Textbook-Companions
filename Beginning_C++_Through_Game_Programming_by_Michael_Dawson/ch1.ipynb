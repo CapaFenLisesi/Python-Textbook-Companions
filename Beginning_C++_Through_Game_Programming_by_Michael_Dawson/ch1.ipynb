{
 "metadata": {
  "name": ""
 },
 "nbformat": 3,
 "nbformat_minor": 0,
 "worksheets": [
  {
   "cells": [
    {
     "cell_type": "heading",
     "level": 1,
     "metadata": {},
     "source": [
      "Chapter 1 : Types, Variables, and Standard I/O: Lost Fortune"
     ]
    },
    {
     "cell_type": "heading",
     "level": 3,
     "metadata": {},
     "source": [
      "Exmaple 1.1 Page no : 6"
     ]
    },
    {
     "cell_type": "code",
     "collapsed": false,
     "input": [
      "\n",
      "\n",
      "print \"Game Over!\""
     ],
     "language": "python",
     "metadata": {},
     "outputs": [
      {
       "output_type": "stream",
       "stream": "stdout",
       "text": [
        "Game Over!\n"
       ]
      }
     ],
     "prompt_number": 1
    },
    {
     "cell_type": "heading",
     "level": 3,
     "metadata": {},
     "source": [
      "Exmaple 1.2 Page no : 11"
     ]
    },
    {
     "cell_type": "code",
     "collapsed": false,
     "input": [
      "\n",
      "\n",
      "print \"Game Over!\""
     ],
     "language": "python",
     "metadata": {},
     "outputs": [
      {
       "output_type": "stream",
       "stream": "stdout",
       "text": [
        "Game Over!\n"
       ]
      }
     ],
     "prompt_number": 2
    },
    {
     "cell_type": "heading",
     "level": 3,
     "metadata": {},
     "source": [
      "Exmaple 1.3 Page no : 12"
     ]
    },
    {
     "cell_type": "code",
     "collapsed": false,
     "input": [
      "\n",
      "\n",
      "print \"Game Over!\""
     ],
     "language": "python",
     "metadata": {},
     "outputs": [
      {
       "output_type": "stream",
       "stream": "stdout",
       "text": [
        "Game Over!\n"
       ]
      }
     ],
     "prompt_number": 3
    },
    {
     "cell_type": "heading",
     "level": 3,
     "metadata": {},
     "source": [
      "Exmaple 1.4 Page no : 13"
     ]
    },
    {
     "cell_type": "code",
     "collapsed": false,
     "input": [
      "\n",
      "\n",
      "print \"7 + 3 = \" , 7 + 3\n",
      "print \"7 - 3 = \" , 7 - 3\n",
      "print \"7 * 3 = \" , 7 * 3 \n",
      "print \"7 / 3 = \" , 7 / 3 \n",
      "print \"7.0 / 3.0 = \" , 7.0 / 3.0 \n",
      "print \"7 % 3 = \" , 7 % 3 \n",
      "print \"7 + 3 * 5 = \" , 7 + 3 * 5\n",
      "print \"(7 + 3) * 5 = \" , (7 + 3) * 5"
     ],
     "language": "python",
     "metadata": {},
     "outputs": [
      {
       "output_type": "stream",
       "stream": "stdout",
       "text": [
        "7 + 3 =  10\n",
        "7 - 3 =  4\n",
        "7 * 3 =  21\n",
        "7 / 3 =  2\n",
        "7.0 / 3.0 =  2.33333333333\n",
        "7 % 3 =  1\n",
        "7 + 3 * 5 =  22\n",
        "(7 + 3) * 5 =  50\n"
       ]
      }
     ],
     "prompt_number": 4
    },
    {
     "cell_type": "heading",
     "level": 3,
     "metadata": {},
     "source": [
      "Example 1.5 Page no : 17"
     ]
    },
    {
     "cell_type": "code",
     "collapsed": false,
     "input": [
      "\n",
      "score = 0;\n",
      "distance = 1200.76;\n",
      "playAgain = 'y'\n",
      "shieldsUp = True;\n",
      "lives = 3;\n",
      "aliensKilled = 10;\n",
      "engineTemp = 6572.89;\n",
      "print \"\\nscore: \" , score \n",
      "print \"distance: \" , distance\n",
      "print \"playAgain: \" , playAgain\n",
      "#skipping shieldsUp since you dont generally print Boolean values\n",
      "print \"lives: \" , lives\n",
      "print \"aliensKilled: \" , aliensKilled\n",
      "print \"engineTemp: \" , engineTemp\n",
      "\n",
      "print \"\\nHow much fuel? \",\n",
      "fuel = 5  # raw_input()\n",
      "\n",
      "print \"fuel: \" , fuel\n",
      "bonus = 10;\n",
      "print \"\\nbonus: \" , bonus"
     ],
     "language": "python",
     "metadata": {},
     "outputs": [
      {
       "output_type": "stream",
       "stream": "stdout",
       "text": [
        "\n",
        "score:  0\n",
        "distance:  1200.76\n",
        "playAgain:  y\n",
        "lives:  3\n",
        "aliensKilled:  10\n",
        "engineTemp:  6572.89\n",
        "\n",
        "How much fuel?  fuel:  5\n",
        "\n",
        "bonus:  10\n"
       ]
      }
     ],
     "prompt_number": 5
    },
    {
     "cell_type": "heading",
     "level": 3,
     "metadata": {},
     "source": [
      "Example 1.6 Page no : 35"
     ]
    },
    {
     "cell_type": "code",
     "collapsed": false,
     "input": [
      "\n",
      "\n",
      "score = 5000;\n",
      "print \"score: \" , score\n",
      "#altering the value of a variable\n",
      "score = score + 100;\n",
      "print \"score: \" , score\n",
      "#combined assignment operator\n",
      "score += 100;\n",
      "print \"score: \" , score\n",
      "# increment operators\n",
      "lives = 3;\n",
      "lives += 1\n",
      "print \"lives: \", lives\n",
      "\n",
      "lives = 3;\n",
      "lives += 1\n",
      "print \"lives: \", lives\n",
      "\n",
      "lives = 3;\n",
      "lives += 1\n",
      "bonus = lives * 10;\n",
      "print \"lives, bonus = \" , lives , \", \" , bonus \n",
      "\n",
      "lives = 3;\n",
      "bonus = lives * 10;\n",
      "lives += 1\n",
      "print \"lives, bonus = \" , lives , \", \" , bonus \n",
      "#integer wrap around\n",
      "score = 4294967295;\n",
      "print \"\\nscore: \" , score\n",
      "score += 1\n",
      "print \"score: \", score "
     ],
     "language": "python",
     "metadata": {},
     "outputs": [
      {
       "output_type": "stream",
       "stream": "stdout",
       "text": [
        "score:  5000\n",
        "score:  5100\n",
        "score:  5200\n",
        "lives:  4\n",
        "lives:  4\n",
        "lives, bonus =  4 ,  40\n",
        "lives, bonus =  4 ,  30\n",
        "\n",
        "score:  4294967295\n",
        "score:  4294967296\n"
       ]
      }
     ],
     "prompt_number": 6
    },
    {
     "cell_type": "heading",
     "level": 3,
     "metadata": {},
     "source": [
      "Example 1.7 Page no : 30"
     ]
    },
    {
     "cell_type": "code",
     "collapsed": false,
     "input": [
      "\n",
      "ALIEN_POINTS = 150;\n",
      "aliensKilled = 10;\n",
      "score = aliensKilled * ALIEN_POINTS;\n",
      "print \"score: \" , score\n",
      "NOVICE = 0\n",
      "EASY = 1\n",
      "NORMAL =2\n",
      "HARD=3\n",
      "UNBEATABLE=4\n",
      "myDifficulty = EASY;\n",
      "FIGHTER_COST = 25\n",
      "BOMBER_COST=26\n",
      "CRUISER_COST = 50\n",
      "myShipCost = BOMBER_COST;\n",
      "print  \"\\nTo upgrade my ship to a Cruiser will cost\" , (CRUISER_COST - myShipCost) , \" Resource Points.\\n\";"
     ],
     "language": "python",
     "metadata": {},
     "outputs": [
      {
       "output_type": "stream",
       "stream": "stdout",
       "text": [
        "score:  1500\n",
        "\n",
        "To upgrade my ship to a Cruiser will cost 24  Resource Points.\n",
        "\n"
       ]
      }
     ],
     "prompt_number": 7
    },
    {
     "cell_type": "heading",
     "level": 3,
     "metadata": {},
     "source": [
      "Example 1.8 Page no : 33"
     ]
    },
    {
     "cell_type": "code",
     "collapsed": false,
     "input": [
      "\n",
      "GOLD_PIECES = 900;\n",
      "\n",
      "print \"Welcome to Lost Fortune\\n\\n\";\n",
      "print \"Please enter the following for your personalized adventure\\n\";\n",
      "print  \"Enter a number: \";\n",
      "adventurers  = 10 # int(raw_input())\n",
      "print \"Enter a number, smaller than the first: \";\n",
      "killed = 5 #int(raw_input())\n",
      "\n",
      "survivors = adventurers - killed;\n",
      "print \"Enter your last name: \";\n",
      "leader = 'xyz' #raw_input()\n",
      "#tell the story\n",
      "print \"\\nA brave group of \" , adventurers , \" set out on a quest \";\n",
      "print \"- in search of the lost treasure of the Ancient Dwarves. \";\n",
      "print \"The group was led by that legendary rogue, \" , leader , \".\\n\";\n",
      "print \"\\nAlong the way, a band of marauding ogres ambushed the party. \";\n",
      "print \"All fought bravely under the command of \" , leader,\n",
      "print \", and the ogres were defeated, but at a cost. \",\n",
      "print \"Of the adventurers, \" , killed , \" were vanquished, \",\n",
      "print \"leaving just \" , survivors , \" in the group.\\n\"\n",
      "\n",
      "print \"\\nThe party was about to give up all hope. \";\n",
      "print \"But while laying the deceased to rest, \";\n",
      "print \"they stumbled upon the buried fortune. \";\n",
      "print \"So the adventurers split \" , GOLD_PIECES , \" gold pieces.\" ,\n",
      "print leader , \" held on to the extra \" , (GOLD_PIECES % survivors),\n",
      "print \" pieces to keep things fair of course.\\n\""
     ],
     "language": "python",
     "metadata": {},
     "outputs": [
      {
       "output_type": "stream",
       "stream": "stdout",
       "text": [
        "Welcome to Lost Fortune\n",
        "\n",
        "\n",
        "Please enter the following for your personalized adventure\n",
        "\n",
        "Enter a number: \n",
        "Enter a number, smaller than the first: \n",
        "Enter your last name: \n",
        "\n",
        "A brave group of  10  set out on a quest \n",
        "- in search of the lost treasure of the Ancient Dwarves. \n",
        "The group was led by that legendary rogue,  xyz .\n",
        "\n",
        "\n",
        "Along the way, a band of marauding ogres ambushed the party. \n",
        "All fought bravely under the command of  xyz , and the ogres were defeated, but at a cost.  Of the adventurers,  5  were vanquished,  leaving just  5  in the group.\n",
        "\n",
        "\n",
        "The party was about to give up all hope. \n",
        "But while laying the deceased to rest, \n",
        "they stumbled upon the buried fortune. \n",
        "So the adventurers split  900  gold pieces. xyz  held on to the extra  0  pieces to keep things fair of course.\n",
        "\n"
       ]
      }
     ],
     "prompt_number": 8
    }
   ],
   "metadata": {}
  }
 ]
}