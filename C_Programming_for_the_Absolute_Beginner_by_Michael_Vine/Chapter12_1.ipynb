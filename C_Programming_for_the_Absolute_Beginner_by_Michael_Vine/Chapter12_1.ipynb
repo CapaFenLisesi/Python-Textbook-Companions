{
 "metadata": {
  "name": "",
  "signature": "sha256:b5b5db464e530d21c4b695ff4bde6912d0e8c447d51f1ede515f161acac3856f"
 },
 "nbformat": 3,
 "nbformat_minor": 0,
 "worksheets": [
  {
   "cells": [
    {
     "cell_type": "heading",
     "level": 1,
     "metadata": {},
     "source": [
      "Chapter 12 : The C PreProcessor"
     ]
    },
    {
     "cell_type": "heading",
     "level": 2,
     "metadata": {},
     "source": [
      "Example 12.1, Page No 272"
     ]
    },
    {
     "cell_type": "code",
     "collapsed": false,
     "input": [
      "print \"\\nHaving fun with preprocessor directives\\n\""
     ],
     "language": "python",
     "metadata": {},
     "outputs": [
      {
       "output_type": "stream",
       "stream": "stdout",
       "text": [
        "\n",
        "Having fun with preprocessor directives\n",
        "\n"
       ]
      }
     ],
     "prompt_number": 1
    },
    {
     "cell_type": "heading",
     "level": 2,
     "metadata": {},
     "source": [
      "Example 12.2, Page No 273"
     ]
    },
    {
     "cell_type": "code",
     "collapsed": false,
     "input": [
      "NUMBER = 7\n",
      "print \"\\nLucky Number \", NUMBER , \"\\n\""
     ],
     "language": "python",
     "metadata": {},
     "outputs": [
      {
       "output_type": "stream",
       "stream": "stdout",
       "text": [
        "\n",
        "Lucky Number  7 \n",
        "\n"
       ]
      }
     ],
     "prompt_number": 2
    },
    {
     "cell_type": "heading",
     "level": 2,
     "metadata": {},
     "source": [
      "Example 12.3, Page No 274"
     ]
    },
    {
     "cell_type": "code",
     "collapsed": false,
     "input": [
      "NUMBER = 7\n",
      "print \"\\nLucky Number \", NUMBER , \"\\n\"\n",
      "NUMBER = 5"
     ],
     "language": "python",
     "metadata": {},
     "outputs": [
      {
       "output_type": "stream",
       "stream": "stdout",
       "text": [
        "\n",
        "Lucky Number  7 \n",
        "\n"
       ]
      }
     ],
     "prompt_number": 3
    },
    {
     "cell_type": "heading",
     "level": 2,
     "metadata": {},
     "source": [
      "Example 12.4, Page No 275"
     ]
    },
    {
     "cell_type": "code",
     "collapsed": false,
     "input": [
      "def area(l,w):\n",
      "    return l * w\n",
      "length = 0\n",
      "width = 0\n",
      "length = int(raw_input(\"\\nEnter length: \"))\n",
      "width = int(raw_input(\"\\nEnter width: \"))\n",
      "print \"\\nArea of rectangle = \" , area(length,width) , \"\\n\""
     ],
     "language": "python",
     "metadata": {},
     "outputs": [
      {
       "name": "stdout",
       "output_type": "stream",
       "stream": "stdout",
       "text": [
        "\n",
        "Enter length: 12\n"
       ]
      },
      {
       "name": "stdout",
       "output_type": "stream",
       "stream": "stdout",
       "text": [
        "\n",
        "Enter width: 7\n"
       ]
      },
      {
       "output_type": "stream",
       "stream": "stdout",
       "text": [
        "\n",
        "Area of rectangle =  84 \n",
        "\n"
       ]
      }
     ],
     "prompt_number": 4
    },
    {
     "cell_type": "heading",
     "level": 2,
     "metadata": {},
     "source": [
      "Example 12.5, Page No 276"
     ]
    },
    {
     "cell_type": "code",
     "collapsed": false,
     "input": [
      "def RESULT(x,y):\n",
      "    print \"\\nResult is \\n\", x+y\n",
      "num1 = 0\n",
      "num2 = 0\n",
      "num1 = int(raw_input(\"\\nEnter first number: \"))\n",
      "num2 = int(raw_input(\"\\nEnter second number: \"))\n",
      "RESULT(num1,num2)"
     ],
     "language": "python",
     "metadata": {},
     "outputs": [
      {
       "name": "stdout",
       "output_type": "stream",
       "stream": "stdout",
       "text": [
        "\n",
        "Enter first number: 27\n"
       ]
      },
      {
       "name": "stdout",
       "output_type": "stream",
       "stream": "stdout",
       "text": [
        "\n",
        "Enter second number: 44\n"
       ]
      },
      {
       "output_type": "stream",
       "stream": "stdout",
       "text": [
        "\n",
        "Result is \n",
        "71\n"
       ]
      }
     ],
     "prompt_number": 5
    },
    {
     "cell_type": "heading",
     "level": 2,
     "metadata": {},
     "source": [
      "Example 12.6, Page No 277"
     ]
    },
    {
     "cell_type": "code",
     "collapsed": false,
     "input": [
      "def RESULT(x,y):\n",
      "    print \"\\nResult is \\n\", x+y\n",
      "operand1 = 0\n",
      "operand2 = 0\n",
      "operand1 = int(raw_input(\"\\nEnter first operand: \"))\n",
      "operand2 = int(raw_input(\"\\nEnter second operand: \"))\n",
      "RESULT(operand1,operand2)"
     ],
     "language": "python",
     "metadata": {},
     "outputs": [
      {
       "name": "stdout",
       "output_type": "stream",
       "stream": "stdout",
       "text": [
        "\n",
        "Enter first operand: 27\n"
       ]
      },
      {
       "name": "stdout",
       "output_type": "stream",
       "stream": "stdout",
       "text": [
        "\n",
        "Enter second operand: 44\n"
       ]
      },
      {
       "output_type": "stream",
       "stream": "stdout",
       "text": [
        "\n",
        "Result is \n",
        "71\n"
       ]
      }
     ],
     "prompt_number": 6
    },
    {
     "cell_type": "heading",
     "level": 2,
     "metadata": {},
     "source": [
      "Example 12.7, Page No 279"
     ]
    },
    {
     "cell_type": "code",
     "collapsed": false,
     "input": [
      "import profit\n",
      "print \"\\nThe Profit Program\\n\"\n",
      "price = float(raw_input(\"\\nEnter unit price: \"))\n",
      "quantity = int(raw_input(\"Enter quantity sold: \"))\n",
      "totalCost = float(raw_input(\"Enter total cost: \"))\n",
      "profit1(price,quantity,totalCost)\n",
      "\n",
      "\"\"\"\n",
      "Header file:- profit.py\n",
      "def profit(p,q,tc):\n",
      "    print \"\\nYour profit is \",(p * q) - tc,\"\\n\"\n",
      "\"\"\""
     ],
     "language": "python",
     "metadata": {},
     "outputs": [
      {
       "output_type": "stream",
       "stream": "stdout",
       "text": [
        "\n",
        "The Profit Program\n",
        "\n"
       ]
      },
      {
       "name": "stdout",
       "output_type": "stream",
       "stream": "stdout",
       "text": [
        "\n",
        "Enter unit price: 12.99\n"
       ]
      },
      {
       "name": "stdout",
       "output_type": "stream",
       "stream": "stdout",
       "text": [
        "Enter quantity sold: 7\n"
       ]
      },
      {
       "name": "stdout",
       "output_type": "stream",
       "stream": "stdout",
       "text": [
        "Enter total cost: 56\n"
       ]
      },
      {
       "output_type": "stream",
       "stream": "stdout",
       "text": [
        "\n",
        "Your profit is  34.93 \n",
        "\n"
       ]
      }
     ],
     "prompt_number": 22
    },
    {
     "cell_type": "heading",
     "level": 2,
     "metadata": {},
     "source": [
      "Example 12.8, Page No 282"
     ]
    },
    {
     "cell_type": "code",
     "collapsed": false,
     "input": [
      "import calculate\n",
      "selection = 0\n",
      "print \"\\n The Function Wizard \\n\"\n",
      "print \"\\n1\\tDetermine perimeter of ractangle\\n\"\n",
      "print \"\\n2\\tDetermine area of rectangle\\n\"\n",
      "print \"\\n3\\tDetermine volume of rectangle\\n\"\n",
      "selection = int(raw_input(\"\\nEnter selection : \"))\n",
      "if selection == 1:\n",
      "    l = float(raw_input(\"Enter length: \"))\n",
      "    w = float(raw_input(\"Enter width: \"))\n",
      "    perimeter(l,w)\n",
      "elif selection == 2:\n",
      "    l = float(raw_input(\"Enter length: \"))\n",
      "    w = float(raw_input(\"Enter width: \"))\n",
      "    area(l,w)\n",
      "elif selection == 3:\n",
      "    l = float(raw_input(\"Enter length: \"))\n",
      "    w = float(raw_input(\"Enter width: \"))\n",
      "    h = float(raw_input(\"Enter height: \"))\n",
      "    volume(l,w,h)"
     ],
     "language": "python",
     "metadata": {},
     "outputs": [
      {
       "output_type": "stream",
       "stream": "stdout",
       "text": [
        "\n",
        " The Function Wizard \n",
        "\n",
        "\n",
        "1\tDetermine perimeter of ractangle\n",
        "\n",
        "\n",
        "2\tDetermine area of rectangle\n",
        "\n",
        "\n",
        "3\tDetermine volume of rectangle\n",
        "\n"
       ]
      },
      {
       "name": "stdout",
       "output_type": "stream",
       "stream": "stdout",
       "text": [
        "\n",
        "Enter selection : 3\n"
       ]
      },
      {
       "name": "stdout",
       "output_type": "stream",
       "stream": "stdout",
       "text": [
        "Enter length: 1\n"
       ]
      },
      {
       "name": "stdout",
       "output_type": "stream",
       "stream": "stdout",
       "text": [
        "Enter width: 2\n"
       ]
      },
      {
       "name": "stdout",
       "output_type": "stream",
       "stream": "stdout",
       "text": [
        "Enter height: 3\n"
       ]
      },
      {
       "output_type": "stream",
       "stream": "stdout",
       "text": [
        "\n",
        " Perimeter is  6.0 \n",
        "\n"
       ]
      }
     ],
     "prompt_number": 5
    }
   ],
   "metadata": {}
  }
 ]
}