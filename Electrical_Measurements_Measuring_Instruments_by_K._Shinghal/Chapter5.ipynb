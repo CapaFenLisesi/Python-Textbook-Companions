{
 "cells": [
  {
   "cell_type": "markdown",
   "metadata": {},
   "source": [
    "# Chapter 5 - Magnetic measurement"
   ]
  },
  {
   "cell_type": "markdown",
   "metadata": {},
   "source": [
    "## Example 1 - pg 304"
   ]
  },
  {
   "cell_type": "code",
   "execution_count": 1,
   "metadata": {
    "collapsed": false
   },
   "outputs": [
    {
     "name": "stdout",
     "output_type": "stream",
     "text": [
      "Capacity of the capacitor (micro-F) =  2.12\n"
     ]
    }
   ],
   "source": [
    "#pg 304\n",
    "#Example 5.1: Capacity of the capacitor\n",
    "#calculate the Capacity of the capacitor\n",
    "#given data :\n",
    "import math\n",
    "Ig=0.0001;# in A\n",
    "T0=3.;# in sec\n",
    "theta0=200.;\n",
    "theta=45.;\n",
    "V=100.;# in V\n",
    "#calculations\n",
    "Q=(Ig*T0*theta0)/(theta*2*math.pi);\n",
    "C=(Q/V)*10**6;\n",
    "#results\n",
    "print \"Capacity of the capacitor (micro-F) = \",round(C,2)\n"
   ]
  },
  {
   "cell_type": "markdown",
   "metadata": {},
   "source": [
    "## Example 2 - pg 304"
   ]
  },
  {
   "cell_type": "code",
   "execution_count": 2,
   "metadata": {
    "collapsed": false
   },
   "outputs": [
    {
     "name": "stdout",
     "output_type": "stream",
     "text": [
      "Coulomb sensitivity (mm/micro-C) =  8.89\n"
     ]
    }
   ],
   "source": [
    "#pg 304\n",
    "#Example 5.2: Coulomb sensitivity\n",
    "#calculate te Coulomb sensitivity\n",
    "#given data :\n",
    "C=1.5*10**-6;# in F\n",
    "V=15;# in V\n",
    "d1=20;# in cm\n",
    "#calculations\n",
    "Q=C*V;\n",
    "Sb=(d1/Q)*10**-5;\n",
    "#resutls\n",
    "print \"Coulomb sensitivity (mm/micro-C) = \",round(Sb,2)\n"
   ]
  },
  {
   "cell_type": "markdown",
   "metadata": {},
   "source": [
    "## Example 3 - pg 305"
   ]
  },
  {
   "cell_type": "code",
   "execution_count": 4,
   "metadata": {
    "collapsed": false
   },
   "outputs": [
    {
     "name": "stdout",
     "output_type": "stream",
     "text": [
      "Logarithmic increment =  0.2231\n",
      "undamped frequency is (Hz)= 0.1253\n"
     ]
    }
   ],
   "source": [
    "#pg 305\n",
    "#Example 5.3: Logarithmic increment\n",
    "#calculate the Logarithmic increment and frequency\n",
    "#given data :\n",
    "import math\n",
    "theta1=12.5;\n",
    "theta2=10.;\n",
    "#calculations\n",
    "lamda=math.log(theta1/theta2);\n",
    "x=lamda**2;#\n",
    "y=x/(math.pi**2-x);#\n",
    "y1=math.sqrt(y);#\n",
    "f=0.125;#Hz\n",
    "fo=f/(math.sqrt(1-y1**2));#Hz\n",
    "#results\n",
    "print \"Logarithmic increment = \",round(lamda,4)\n",
    "print \"undamped frequency is (Hz)=\",round(fo,4)"
   ]
  },
  {
   "cell_type": "markdown",
   "metadata": {},
   "source": [
    "## Example 4 - pg 305"
   ]
  },
  {
   "cell_type": "code",
   "execution_count": 6,
   "metadata": {
    "collapsed": false
   },
   "outputs": [
    {
     "name": "stdout",
     "output_type": "stream",
     "text": [
      "Flux density B(Wb/m^2) =  55.56\n",
      "permeability mu(H/m) =  60.0\n",
      "flux density is calculed wrong in the textbook\n"
     ]
    }
   ],
   "source": [
    "#pg 305\n",
    "#Example 5.4: Flux density\n",
    "#calculate the flux density\n",
    "#given data :\n",
    "I1=5.;# in A\n",
    "I2=10.;# in A\n",
    "N1=100.;# number of turns\n",
    "N2=200.;#number of turns\n",
    "l=30*10**-2;# in m\n",
    "R=200.;# in ohm\n",
    "theta1=45.;# in degree\n",
    "theta2=30.;# in degree\n",
    "As=0.3*10**-4;# in m**2\n",
    "M=100*10**-3;# in H\n",
    "#calculations\n",
    "k=(2*M*I1)/(R*theta1);\n",
    "H=(N1*I2)/l;\n",
    "fi=(R*k*theta2)/(2*N2);\n",
    "B=fi/As;\n",
    "mu=H/B;\n",
    "#results\n",
    "print \"Flux density B(Wb/m^2) = \",round(B,2)\n",
    "print \"permeability mu(H/m) = \",mu\n",
    "print 'flux density is calculed wrong in the textbook'\n"
   ]
  },
  {
   "cell_type": "markdown",
   "metadata": {},
   "source": [
    "## Example 5 - pg 309"
   ]
  },
  {
   "cell_type": "code",
   "execution_count": 8,
   "metadata": {
    "collapsed": false
   },
   "outputs": [
    {
     "name": "stdout",
     "output_type": "stream",
     "text": [
      "Flux density,B(Wb/m^2) =  1.25\n",
      "Relative permeability =  521.0\n"
     ]
    }
   ],
   "source": [
    "#pg 309\n",
    "#Example 5.5: Flux density and relative permeability\n",
    "#calculate the Flux density and relative permeability\n",
    "#given data :\n",
    "import math\n",
    "A=5*10**-4;# in m**2\n",
    "d=25*10**-2;# in m\n",
    "N1=150;# turns\n",
    "N2=300;# turns\n",
    "k=2*10**-6;# coulomb per division\n",
    "R=2500;# in ohm\n",
    "I=10;# in A\n",
    "theta=75;# in division\n",
    "#calculations\n",
    "l=math.pi*d;\n",
    "mu_0=4*math.pi*10**-7;\n",
    "B=(k*theta*R)/(2*N2*A);\n",
    "H=(N1*I)/l;\n",
    "mu_r=(B/(mu_0*H));\n",
    "#results\n",
    "print \"Flux density,B(Wb/m^2) = \",B\n",
    "print \"Relative permeability = \",round(mu_r)\n"
   ]
  },
  {
   "cell_type": "markdown",
   "metadata": {},
   "source": [
    "## Example 6 - pg 308"
   ]
  },
  {
   "cell_type": "code",
   "execution_count": 9,
   "metadata": {
    "collapsed": false
   },
   "outputs": [
    {
     "name": "stdout",
     "output_type": "stream",
     "text": [
      "In case of total flux is (Wb)= 0.027\n",
      "In case of useful flux is (Wb)= 0.0228\n",
      "leakage coefficient is = 1.185\n"
     ]
    }
   ],
   "source": [
    "#pg 308\n",
    "#Example 5.6 #flux per pole and leakage cofficient\n",
    "#calculate the flux per pole and leakage cofficient\n",
    "#given data:\n",
    "k=0.15;#micro-C\n",
    "th=120.;#divisions\n",
    "th1=135.;#divisions\n",
    "r=4500.;#ohm\n",
    "n=3.;#turns\n",
    "#calculations\n",
    "ft=(k*10**-6*th*r)/n;#Wb\n",
    "n1=4;#\n",
    "ft1=(k*10**-6*th1*r)/n1;#Wb\n",
    "lk=ft/ft1;#\n",
    "#results\n",
    "print \"In case of total flux is (Wb)=\",ft\n",
    "print \"In case of useful flux is (Wb)=\",round(ft1,4)\n",
    "print \"leakage coefficient is =\",round(lk,3)\n"
   ]
  },
  {
   "cell_type": "markdown",
   "metadata": {},
   "source": [
    "## Example 7 - pg 308"
   ]
  },
  {
   "cell_type": "code",
   "execution_count": 10,
   "metadata": {
    "collapsed": false
   },
   "outputs": [
    {
     "name": "stdout",
     "output_type": "stream",
     "text": [
      "relative permeability = 30.7\n"
     ]
    }
   ],
   "source": [
    "#pg 308\n",
    "#Example 5.7 #relative permeability\n",
    "#calculate the relative permeability\n",
    "#given data\n",
    "import math\n",
    "n1=320.;#turns\n",
    "n2=250.;#turns\n",
    "i=10.;#A\n",
    "l=32.;#cm\n",
    "fl=2.5*10**-4;#Wb\n",
    "sd=100;#\n",
    "sd1=270;#/\n",
    "#calculations\n",
    "N=(n1*i)/(l*10**-2);#AT/m\n",
    "k=(fl*i)/sd;#\n",
    "mo=4*math.pi*10**-7;#\n",
    "A=0.35;#cm**2\n",
    "ur=((k*sd1)/(2*mo*N*A*10**-4*n2));#\n",
    "#results\n",
    "print \"relative permeability =\",round(ur,1)"
   ]
  },
  {
   "cell_type": "markdown",
   "metadata": {},
   "source": [
    "## Example 8 - pg 309"
   ]
  },
  {
   "cell_type": "code",
   "execution_count": 11,
   "metadata": {
    "collapsed": false
   },
   "outputs": [
    {
     "name": "stdout",
     "output_type": "stream",
     "text": [
      "The shunt resistance S(ohm) =  0.0127\n"
     ]
    }
   ],
   "source": [
    "#pg 309\n",
    "#Example 5.7 # Shunt resistance\n",
    "#calculate the shunt resistance\n",
    "#given data :\n",
    "N=800.;# turns\n",
    "I=10.;# in A\n",
    "reluctance=150000;# in AT per Wb\n",
    "K=.15*10**-3;# in Wb turns/ division\n",
    "rs=0.025;# in ohm\n",
    "Ns=1;\n",
    "theta=120;#divisions\n",
    "#calculations\n",
    "fi=(N*I)/reluctance;\n",
    "S=(K*rs*theta)/((fi*Ns)-(K*theta));\n",
    "#results\n",
    "print \"The shunt resistance S(ohm) = \",round(S,4)\n"
   ]
  },
  {
   "cell_type": "markdown",
   "metadata": {},
   "source": [
    "## Example 9 - pg 310"
   ]
  },
  {
   "cell_type": "code",
   "execution_count": 12,
   "metadata": {
    "collapsed": false
   },
   "outputs": [
    {
     "name": "stdout",
     "output_type": "stream",
     "text": [
      "The magnetic potential difference between two points,(AT) =  697.0\n"
     ]
    }
   ],
   "source": [
    "#pg 310\n",
    "#Example 5.9 # Magnetic pole difference\n",
    "#calculate the Magnetic pole difference\n",
    "#given data :\n",
    "N=150.;# turns\n",
    "I=1.2;# in A\n",
    "theta=300.;# divisions\n",
    "t=155.;#change in mmf in division\n",
    "#calculations\n",
    "mmf=N*I;\n",
    "r=2*mmf;# du to reversal\n",
    "K=360/t;\n",
    "M=(K*theta);\n",
    "#results\n",
    "print \"The magnetic potential difference between two points,(AT) = \",round(M)\n"
   ]
  },
  {
   "cell_type": "markdown",
   "metadata": {},
   "source": [
    "## Example 10 - pg 310"
   ]
  },
  {
   "cell_type": "code",
   "execution_count": 13,
   "metadata": {
    "collapsed": false
   },
   "outputs": [
    {
     "name": "stdout",
     "output_type": "stream",
     "text": [
      "relative permeability = 521.0\n"
     ]
    }
   ],
   "source": [
    "#pg 310\n",
    "#Example 5.10 #relative permeability\n",
    "#calculate the relative permeability\n",
    "#given data\n",
    "import math\n",
    "n1=600.;#turns\n",
    "i=3.;#A\n",
    "d=30.;#cm\n",
    "ass=6.;#cm^2;#\n",
    "t1=500.;#turns\n",
    "r=250.;#ohms\n",
    "k=3000.;#micro-C\n",
    "#calculations\n",
    "H=(n1*i)/(math.pi*d*10**-2);#\n",
    "mo=4*math.pi*10**-7;#\n",
    "x=mo*H;#\n",
    "y=ass*10**-4*x;#\n",
    "z=t1*y;#\n",
    "z1=2*z;#\n",
    "it=z1/r;#\n",
    "ur=(k*10**-6)/it;#\n",
    "#results\n",
    "print \"relative permeability =\",round(ur)\n"
   ]
  },
  {
   "cell_type": "markdown",
   "metadata": {},
   "source": [
    "## Example 11 - pg 311"
   ]
  },
  {
   "cell_type": "code",
   "execution_count": 14,
   "metadata": {
    "collapsed": false
   },
   "outputs": [
    {
     "name": "stdout",
     "output_type": "stream",
     "text": [
      "Fluxmeter deflection (degree) =  76.4\n"
     ]
    }
   ],
   "source": [
    "#pg 311\n",
    "#Example 5.11 # Fluxmeter deflection\n",
    "#calculate the Fluxmeter deflection\n",
    "#given data :\n",
    "import math\n",
    "l=5*10**-2;# in m\n",
    "N=40;# turns\n",
    "B=5*10**-3;# in Wb/m**2\n",
    "b=1.5*10**-2;# in m\n",
    "cs=2*10**-4;# in  m**2\n",
    "B1=0.05;# in Wb/m**2\n",
    "#calculations\n",
    "fi=B1*cs;\n",
    "del_fi=2*fi;\n",
    "theta=(del_fi*10)/(N*B*l*b);\n",
    "#results\n",
    "print \"Fluxmeter deflection (degree) = \",round((theta*(180/math.pi)),1)\n"
   ]
  },
  {
   "cell_type": "markdown",
   "metadata": {},
   "source": [
    "## Example 12 - pg 311"
   ]
  },
  {
   "cell_type": "code",
   "execution_count": 16,
   "metadata": {
    "collapsed": false
   },
   "outputs": [
    {
     "name": "stdout",
     "output_type": "stream",
     "text": [
      "Hysteresis current component of the loss (W)= 266.7\n",
      "Eddy current component of the loss (W)= 158.3\n"
     ]
    }
   ],
   "source": [
    "#pg 311\n",
    "#Example 5.12 #hysteresis and eddy current components\n",
    "#calculate the hysteresis and eddy current components\n",
    "#given data\n",
    "import numpy\n",
    "w1=132.;#W\n",
    "f1=20.;#Hz\n",
    "w2=425.;#W\n",
    "f2=50.;#Hz\n",
    "#calculations\n",
    "x=w1/f1;#\n",
    "y=w2/f2;#\n",
    "A=numpy.matrix([[1, f1],[1, f2]]);#\n",
    "B=numpy.matrix([[x],[y]]);#\n",
    "X=numpy.dot(numpy.linalg.inv(A),B);#\n",
    "Wh=X[0,0]*f2;#W\n",
    "We=X[1,0]*f2**2;#W\n",
    "#results\n",
    "print \"Hysteresis current component of the loss (W)=\",round(Wh,1)\n",
    "print \"Eddy current component of the loss (W)=\",round(We,1)\n"
   ]
  },
  {
   "cell_type": "markdown",
   "metadata": {},
   "source": [
    "## Example 13 - pg 312"
   ]
  },
  {
   "cell_type": "code",
   "execution_count": 17,
   "metadata": {
    "collapsed": false
   },
   "outputs": [
    {
     "name": "stdout",
     "output_type": "stream",
     "text": [
      "hysteresis loss is (W)= 22.0\n"
     ]
    }
   ],
   "source": [
    "#pg 312\n",
    "#Example 5.13 #hysteresis loss\n",
    "#calculate the hysteresis loss\n",
    "#given data\n",
    "Hx=125.;#AT/m\n",
    "ah=200.;#cm**2\n",
    "ba=0.15;#Wb/m**2\n",
    "lo=50;#loos\n",
    "kg=8.5*10**3;#kg/m**3\n",
    "#calculations\n",
    "le=ah*Hx*ba;#J/m**3\n",
    "po=lo*le;#W/m**3\n",
    "lkg=po/kg;#watt\n",
    "#results\n",
    "print \"hysteresis loss is (W)=\",round(lkg)\n"
   ]
  },
  {
   "cell_type": "markdown",
   "metadata": {},
   "source": [
    "## Example 14 - pg 312"
   ]
  },
  {
   "cell_type": "code",
   "execution_count": 18,
   "metadata": {
    "collapsed": false
   },
   "outputs": [
    {
     "name": "stdout",
     "output_type": "stream",
     "text": [
      "The flux density B(Wb/m^2) =  0.121\n"
     ]
    }
   ],
   "source": [
    "#pg 312\n",
    "#Example 5.14 # flux density\n",
    "#calculate the flux density\n",
    "#given data :\n",
    "R=200+50.;# in ohm\n",
    "k=100*10**-6;# in coulomb\n",
    "theta=80.;# divisions\n",
    "A=55*10**-4;# in m**2\n",
    "N=1500;# turns\n",
    "#calculations\n",
    "B=(R*k*theta)/(2*A*N);\n",
    "#results\n",
    "print \"The flux density B(Wb/m^2) = \",round(B,3)\n"
   ]
  },
  {
   "cell_type": "markdown",
   "metadata": {},
   "source": [
    "## Example 15 - pg 313"
   ]
  },
  {
   "cell_type": "code",
   "execution_count": 19,
   "metadata": {
    "collapsed": false
   },
   "outputs": [
    {
     "name": "stdout",
     "output_type": "stream",
     "text": [
      "loss is (W)= 0.617\n"
     ]
    }
   ],
   "source": [
    "#pg 313\n",
    "#Example 5.15 #loss\n",
    "#calculate the loss\n",
    "#given data\n",
    "f=50.;#Hz\n",
    "k=2.3*10**-2;#\n",
    "x=1.7;#\n",
    "wi=0.6;#W\n",
    "bm=0.5;#Wb/m**2\n",
    "f1=20;#Hz\n",
    "bm1=1;#\n",
    "#calculations\n",
    "kd=((wi-(k*bm**x*f))/(bm**2*f**2));#\n",
    "wi1=((k*bm1**x*f1)+(kd*bm1**2*f1**2));#\n",
    "#results\n",
    "print \"loss is (W)=\",round(wi1,3)"
   ]
  },
  {
   "cell_type": "markdown",
   "metadata": {},
   "source": [
    "## Example 16 - pg 313"
   ]
  },
  {
   "cell_type": "code",
   "execution_count": 21,
   "metadata": {
    "collapsed": false
   },
   "outputs": [
    {
     "name": "stdout",
     "output_type": "stream",
     "text": [
      "magnetic flux is (Wb/m^2)= 0.714\n",
      "flux density is (AT/m^2)= 400.0\n",
      "relative permeability is = 1421.03\n"
     ]
    }
   ],
   "source": [
    "#pg 313\n",
    "#Example 5.16 #MAGNETIC FORCE ,FLUX DENSITY AND RELATIVE PERMEABILITY\n",
    "#calculate the MAGNETIC FORCE ,FLUX DENSITY AND RELATIVE PERMEABILITY\n",
    "#given data\n",
    "import math\n",
    "k=1;#micro-C\n",
    "th=100.;#turns\n",
    "r=5000.;#ohm\n",
    "n2=350.;#turns\n",
    "ass=10.;#cm**2\n",
    "n1=100.;#turns\n",
    "i=4.;#A\n",
    "l=100.;#cm\n",
    "#calculations\n",
    "b=((k*th*r*10**-6)/(2*n2*ass*10**-4));#Wb/m**2\n",
    "H=(n1*i)/(l*10**-2);#AT/m**2\n",
    "mo=4*math.pi*10**-7;#\n",
    "ur=b/(mo*H);#\n",
    "#results\n",
    "print \"magnetic flux is (Wb/m^2)=\",round(b,3)\n",
    "print \"flux density is (AT/m^2)=\",H\n",
    "print \"relative permeability is =\",round(ur,2)\n"
   ]
  },
  {
   "cell_type": "markdown",
   "metadata": {},
   "source": [
    "## Example 17 - pg 314"
   ]
  },
  {
   "cell_type": "code",
   "execution_count": 20,
   "metadata": {
    "collapsed": false
   },
   "outputs": [
    {
     "name": "stdout",
     "output_type": "stream",
     "text": [
      "Constant is (Wb-turn/scale-div)= 1.005e-07\n"
     ]
    }
   ],
   "source": [
    "#pg 314\n",
    "#Example 5.17 # fluxmeter\n",
    "#calculate the Constant of fluxmeter\n",
    "#given data :\n",
    "import math\n",
    "N1=800.;# turns\n",
    "I=5;# in A\n",
    "l=1;# in m\n",
    "A=5*10**-4;# in m**2\n",
    "N=500;# turns\n",
    "theta=25.;# divisions\n",
    "#calculations\n",
    "H=(N1*I)/l;\n",
    "B=(4*math.pi*10**-7*H);\n",
    "fi=B*A*10**8;\n",
    "K=((2*N*fi*10**-8)/(theta));\n",
    "#results\n",
    "print \"Constant is (Wb-turn/scale-div)=\",round(K*10**-3,10)\n"
   ]
  }
 ],
 "metadata": {
  "kernelspec": {
   "display_name": "Python 2",
   "language": "python",
   "name": "python2"
  },
  "language_info": {
   "codemirror_mode": {
    "name": "ipython",
    "version": 2
   },
   "file_extension": ".py",
   "mimetype": "text/x-python",
   "name": "python",
   "nbconvert_exporter": "python",
   "pygments_lexer": "ipython2",
   "version": "2.7.9"
  }
 },
 "nbformat": 4,
 "nbformat_minor": 0
}
