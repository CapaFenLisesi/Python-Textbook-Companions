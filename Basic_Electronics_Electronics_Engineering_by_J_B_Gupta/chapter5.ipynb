{
 "cells": [
  {
   "cell_type": "markdown",
   "metadata": {},
   "source": [
    "#Chapter 5 , Diode Applications - DC Power Supplies and Waveshaping Circuits "
   ]
  },
  {
   "cell_type": "markdown",
   "metadata": {},
   "source": [
    "## Example 5.1 , Page Number 140"
   ]
  },
  {
   "cell_type": "code",
   "execution_count": 3,
   "metadata": {
    "collapsed": false
   },
   "outputs": [
    {
     "name": "stdout",
     "output_type": "stream",
     "text": [
      "Idc =  1.957  A.\n",
      "Irms =  3.074  A.\n"
     ]
    }
   ],
   "source": [
    "import math\n",
    "\n",
    "#Variables \n",
    "\n",
    "VSrms = 10                #Supply voltage\n",
    "VSmax = 10* 2**0.5        #Peak value of supply voltage (in volts)\n",
    "RF = 0.3                  #Forward resistance (in ohm)\n",
    "RL = 2                    #Load resistance (in ohm)\n",
    "\n",
    "#Calculation\n",
    "\n",
    "Imax = VSmax/(RL + RF)    #Peak value of current in load (in Ampere)\n",
    "Idc = Imax/math.pi        #DC ouput current (in Ampere)\n",
    "Irms = Imax/2             #RMS value of output current (in Ampere)             \n",
    "\n",
    "#Result\n",
    "\n",
    "print \"Idc = \",round(Idc,3),\" A.\"\n",
    "print \"Irms = \",round(Irms,3),\" A.\"\n",
    "\n",
    "#Slight variation due to higher precision."
   ]
  },
  {
   "cell_type": "markdown",
   "metadata": {},
   "source": [
    "## Example 5.2 , Page Number 141"
   ]
  },
  {
   "cell_type": "code",
   "execution_count": 2,
   "metadata": {
    "collapsed": false
   },
   "outputs": [
    {
     "name": "stdout",
     "output_type": "stream",
     "text": [
      "Imax =  148.156  mA.\n",
      "Idc =  47.16  mA.\n",
      "Irms =  74.078  mA.\n",
      "PIV =  311.127  V.\n",
      "Load output voltage =  94.32  V.\n",
      "DC output power =  4.448  W.\n",
      "AC input power =  11.524  W.\n",
      "Ripple factor =  1.21 .\n",
      "Transformer utilisation factor =  0.2724 .\n",
      "Rectification efficiency =  38.6 %.\n"
     ]
    }
   ],
   "source": [
    "import math\n",
    "\n",
    "#Variables \n",
    "\n",
    "VSrms = 220.0                   #Supply voltage\n",
    "VSmax = 220.0 * 2**0.5          #Peak value of supply voltage (in volts)\n",
    "RF = 100.0                      #Forward resistance (in ohm)\n",
    "RL = 2.0 * 10**3                #Load resistance (in ohm)\n",
    "\n",
    "#Calculation\n",
    "\n",
    "Imax = VSmax/(RL + RF)          #Maximum value of current (in Ampere)\n",
    "Idc = Imax/math.pi              #DC ouput current (in Ampere)\n",
    "Irms = Imax/2                   #RMS value of output current (in Ampere)  \n",
    "PIV = VSmax                     #Peak inverse voltage (in volts)\n",
    "Vdc = Idc*RL                    #Load output voltage (in volts)\n",
    "Pdc = Idc**2 * RL               #DC output power (in watt)\n",
    "Pac = Imax**2/4*(RF + RL)       #AC input power (in watt)\n",
    "gamma = ((Irms/Idc)**2 - 1)**.5 #Ripple factor \n",
    "TUF = 0.286/(1 + RF/RL)         #Transformer utilisation factor\n",
    "eeta = Pdc/Pac * 100            #Rectification efficiency\n",
    "\n",
    "#Result\n",
    "\n",
    "print \"Imax = \",round(Imax * 10**3,3),\" mA.\\nIdc = \",round(Idc * 10**3,2),\" mA.\\nIrms = \",round(Irms * 10**3,3),\" mA.\"\n",
    "print \"PIV = \",round(PIV,3),\" V.\"\n",
    "print \"Load output voltage = \",round(Vdc,2),\" V.\"\n",
    "print \"DC output power = \",round(Pdc,3),\" W.\\nAC input power = \",round(Pac,3),\" W.\"\n",
    "print \"Ripple factor = \",round(gamma,2),\".\"\n",
    "print \"Transformer utilisation factor = \",round(TUF,4),\".\"\n",
    "print \"Rectification efficiency = \",round(eeta,1),\"%.\""
   ]
  },
  {
   "cell_type": "markdown",
   "metadata": {},
   "source": [
    "## Example 5.3 , Page Number 141"
   ]
  },
  {
   "cell_type": "code",
   "execution_count": 13,
   "metadata": {
    "collapsed": false
   },
   "outputs": [
    {
     "name": "stdout",
     "output_type": "stream",
     "text": [
      "Percentage voltage regulation :  4.76  %.\n"
     ]
    }
   ],
   "source": [
    "#Variables \n",
    "\n",
    "VNL = 44.0             #No load voltage (in volts)\n",
    "VFL = 42.0             #Full load voltage (in volts)              \n",
    "\n",
    "#Calculation\n",
    "\n",
    "Reg = (VNL - VFL)/VFL * 100        #Percentage voltage regulation \n",
    "\n",
    "#Result\n",
    "\n",
    "print \"Percentage voltage regulation : \",round(Reg,2),\" %.\""
   ]
  },
  {
   "cell_type": "markdown",
   "metadata": {},
   "source": [
    "## Example 5.4 , Page Number 141"
   ]
  },
  {
   "cell_type": "code",
   "execution_count": 1,
   "metadata": {
    "collapsed": false
   },
   "outputs": [
    {
     "name": "stdout",
     "output_type": "stream",
     "text": [
      "DC output voltage :  4.4  V.\n",
      "PIV :  17.0  V.\n"
     ]
    }
   ],
   "source": [
    "import math\n",
    "\n",
    "#Variables \n",
    "\n",
    "RF = 10                  #Forward resistance (in ohm)\n",
    "IL = 100 * 10**-3        #Load current (in Ampere)\n",
    "VSrms = 12               #RMS value of supply voltage (in volts)\n",
    "VSmax = 12 * 2**0.5      #Maximum value of supply voltage (in volts)\n",
    "Idc = 0.1                #DC current (in Ampere)\n",
    "\n",
    "#Calculation\n",
    "\n",
    "Vdc = VSmax/math.pi - Idc*RF    #DC output voltage (in volts)\n",
    "PIV = VSmax                     #Peak inverse voltage (in volts)\n",
    "\n",
    "#Result\n",
    "\n",
    "print \"DC output voltage : \",round(Vdc,1),\" V.\"\n",
    "print \"PIV : \",round(PIV),\" V.\""
   ]
  },
  {
   "cell_type": "markdown",
   "metadata": {},
   "source": [
    "## Example 5.5 , Page Number 146 "
   ]
  },
  {
   "cell_type": "code",
   "execution_count": 19,
   "metadata": {
    "collapsed": false
   },
   "outputs": [
    {
     "name": "stdout",
     "output_type": "stream",
     "text": [
      "Peak value of current :  0.109  A.\n",
      "Average value of current :  0.0694  A.\n",
      "RMS value of current :  0.077  A.\n",
      "Ripple factor :  0.483 .\n",
      "Efficiency of rectifier :  73.82 %.\n"
     ]
    }
   ],
   "source": [
    "import math\n",
    "\n",
    "#Variables \n",
    "\n",
    "VSmax = 60.0                           #Maximum value of supply voltage (in volts)\n",
    "RF = 50.0                              #Forward resistance (in ohm)\n",
    "RL = 500.0                             #Load resistance (in ohm)  \n",
    "\n",
    "#Calculation\n",
    "\n",
    "Imax = VSmax/(RL + RF)                #Peak current (in Ampere)\n",
    "Idc = 2*Imax/math.pi                  #Average current (in Ampere)\n",
    "Irms = Imax/2**0.5                    #RMS value of current (in Ampere)\n",
    "r = ((Irms/Idc)**2 - 1)**0.5          #Ripple factor \n",
    "n = 0.812/(1 + RF/RL)*100             #Efficiency of rectifier                   \n",
    "\n",
    "#Result\n",
    "\n",
    "print \"Peak value of current : \",round(Imax,3),\" A.\\nAverage value of current : \",round(Idc,4),\" A.\\nRMS value of current : \",round(Irms,3),\" A.\"\n",
    "print \"Ripple factor : \",round(r,3),\".\"\n",
    "print \"Efficiency of rectifier : \",round(n,2),\"%.\""
   ]
  },
  {
   "cell_type": "markdown",
   "metadata": {},
   "source": [
    "## Example 5.6 , Page Number 147"
   ]
  },
  {
   "cell_type": "code",
   "execution_count": 4,
   "metadata": {
    "collapsed": false
   },
   "outputs": [
    {
     "name": "stdout",
     "output_type": "stream",
     "text": [
      "DC output voltage :  10.8  V.\n",
      "DC load current :  108.0  mA.\n",
      "PIV rating required :  33.94  V.\n"
     ]
    }
   ],
   "source": [
    "import math \n",
    "\n",
    "#Variables \n",
    "\n",
    "VSmax = 12 * 2**0.5            #Peak value of supply voltage (in volts)\n",
    "RL = 100.0                     #Load resistance (in ohm)\n",
    "\n",
    "#Calculation\n",
    "\n",
    "Idc = 2*VSmax/(RL*math.pi)     #Average current (in Ampere)\n",
    "Vdc = Idc * RL                 #Average voltage (in volts)\n",
    "PIV = 2*VSmax                  #Peak inverse voltage (in volts)\n",
    "\n",
    "#Result\n",
    "\n",
    "print \"DC output voltage : \",round(Vdc,1),\" V.\"\n",
    "print \"DC load current : \",round(Idc * 10**3),\" mA.\"\n",
    "print \"PIV rating required : \",round(PIV,2),\" V.\""
   ]
  },
  {
   "cell_type": "markdown",
   "metadata": {},
   "source": [
    "## Example 5.7 , Page Number 153 "
   ]
  },
  {
   "cell_type": "code",
   "execution_count": 8,
   "metadata": {
    "collapsed": false
   },
   "outputs": [
    {
     "name": "stdout",
     "output_type": "stream",
     "text": [
      "Output DC voltage :  25.46 V.\n",
      "Ripple fator :  0.0149 .\n"
     ]
    }
   ],
   "source": [
    "import math\n",
    "\n",
    "#Variables \n",
    "\n",
    "VLmax = VSmax = 40.0         #Peak value of supply voltage (in volts)\n",
    "f = 50                       #Frequency (in Hertz) \n",
    "w = 2*math.pi*50             #Angular frequency (in rad/sec)\n",
    "L = 2.0                      #Inductance (in Henry)\n",
    "C = 40 * 10**-6              #Capacitance (in Farad) \n",
    "\n",
    "#Calculation\n",
    "\n",
    "Vdc = 2*VSmax/math.pi        #Average voltage (in bolts)\n",
    "r = 1/(6*2**0.5*w**2*L*C)    #Ripple factor\n",
    "\n",
    "#Result\n",
    "\n",
    "print \"Output DC voltage : \",round(Vdc,2),\"V.\"\n",
    "print \"Ripple fator : \",round(r,4),\".\""
   ]
  },
  {
   "cell_type": "markdown",
   "metadata": {},
   "source": [
    "## Example 5.8 , Page Number 161"
   ]
  },
  {
   "cell_type": "code",
   "execution_count": 9,
   "metadata": {
    "collapsed": false
   },
   "outputs": [
    {
     "name": "stdout",
     "output_type": "stream",
     "text": [
      "Peak output voltage :  14.3  V.\n"
     ]
    }
   ],
   "source": [
    "#Variables \n",
    "\n",
    "Vo = 0.7                    #Barrier potential (in volts)\n",
    "Vinpeak = 15                #Peak input voltage (in volts)\n",
    "\n",
    "#Calculation\n",
    "\n",
    "Voutpeak = Vinpeak - Vo     #Peak output voltage (in volts)   \n",
    "\n",
    "#Result\n",
    "\n",
    "print \"Peak output voltage : \",Voutpeak,\" V.\""
   ]
  },
  {
   "cell_type": "markdown",
   "metadata": {},
   "source": [
    "## Example 5.9 , Page Number 161"
   ]
  },
  {
   "cell_type": "code",
   "execution_count": 11,
   "metadata": {
    "collapsed": false
   },
   "outputs": [
    {
     "name": "stdout",
     "output_type": "stream",
     "text": [
      "Output voltage (rms value) :  1.27  V.\n"
     ]
    }
   ],
   "source": [
    "import math\n",
    "\n",
    "#Variables \n",
    "\n",
    "R1 = 2.0 * 10**3                #Resistance1 (in ohm)\n",
    "R2 = 1.0 * 10**3                #Resistance2 (in ohm)\n",
    "Vinpeak = 10                    #peak input voltage (in volts)\n",
    "\n",
    "#Calculation\n",
    "\n",
    "RL = R1*R2/(R1+R2)              #Load resistance (in ohm)\n",
    "Voutpeak = Vinpeak*RL/(R2+RL)   #Peak voltage across load resistance (in ohm)\n",
    "Vrms = Voutpeak/math.pi         #RMS value of output voltage (in volts)\n",
    "\n",
    "#Result\n",
    "\n",
    "print \"Output voltage (rms value) : \",round(Vrms,2),\" V.\""
   ]
  },
  {
   "cell_type": "markdown",
   "metadata": {},
   "source": [
    "## Example 5.10 , Page Number 162 "
   ]
  },
  {
   "cell_type": "code",
   "execution_count": 29,
   "metadata": {
    "collapsed": false
   },
   "outputs": [
    {
     "name": "stdout",
     "output_type": "stream",
     "text": [
      "Voutpeak :  8.0 V.\n"
     ]
    },
    {
     "data": {
      "text/plain": [
       "<matplotlib.text.Text at 0x6186270>"
      ]
     },
     "execution_count": 29,
     "metadata": {},
     "output_type": "execute_result"
    },
    {
     "data": {
      "image/png": "[encoded data removed]",
      "text/plain": [
       "<matplotlib.figure.Figure at 0x702b130>"
      ]
     },
     "metadata": {},
     "output_type": "display_data"
    }
   ],
   "source": [
    "import math\n",
    "import numpy\n",
    "%matplotlib inline\n",
    "from matplotlib.pyplot import plot,title,xlabel,ylabel,ylim,xlim\n",
    "\n",
    "#Variables \n",
    "\n",
    "R1 = 20.0 * 10**3                #Resistance1 (in ohm)\n",
    "R2 = 10.0 * 10**3                #Resistance2 (in ohm)\n",
    "Vinpeak = 20                     #peak input voltage (in volts)\n",
    "\n",
    "#Calculation\n",
    "\n",
    "RL = R1*R2/(R1+R2)              #Load resistance (in ohm)\n",
    "Voutpeak = Vinpeak*RL/(R2+RL)   #Peak voltage across load resistance (in ohm)\n",
    "\n",
    "#Result\n",
    "\n",
    "print \"Voutpeak : \",Voutpeak,\"V.\"\n",
    "\n",
    "#Graph\n",
    "\n",
    "x = numpy.linspace(0,math.pi,100)\n",
    "y = numpy.sin(x)\n",
    "plot(x,8*y,'b')\n",
    "ylim(0,9)\n",
    "xlim(0,math.pi)\n",
    "title(\"Output Waveform\")\n",
    "xlabel(\"t ->\")\n",
    "ylabel(\"-Vout->\")"
   ]
  },
  {
   "cell_type": "markdown",
   "metadata": {},
   "source": [
    "## Example 5.11 , Page Number 162"
   ]
  },
  {
   "cell_type": "code",
   "execution_count": 15,
   "metadata": {
    "collapsed": false
   },
   "outputs": [
    {
     "name": "stdout",
     "output_type": "stream",
     "text": [
      "Peak output voltage :  10.0  V.\n"
     ]
    },
    {
     "data": {
      "text/plain": [
       "<matplotlib.text.Text at 0x6dc1210>"
      ]
     },
     "execution_count": 15,
     "metadata": {},
     "output_type": "execute_result"
    },
    {
     "data": {
      "image/png": "[encoded data removed]",
      "text/plain": [
       "<matplotlib.figure.Figure at 0x7504050>"
      ]
     },
     "metadata": {},
     "output_type": "display_data"
    }
   ],
   "source": [
    "import math\n",
    "import numpy\n",
    "%matplotlib inline\n",
    "from matplotlib.pyplot import plot,title,xlabel,ylabel,ylim,xlim\n",
    "\n",
    "#Variables \n",
    "\n",
    "Vinpeak = 12.0               #Peak input voltage (in volts)\n",
    "Vo = 0.7                     #Barrier potential (in volts)\n",
    "RS = 500                     #Series resistance (in ohm)\n",
    "RL = 2.5 * 10**3             #Load resistance (in ohm)\n",
    "\n",
    "#Calculation\n",
    "\n",
    "Voutpeak = Vinpeak*RL/(RS+RL) #Peak output voltage (in volts) \n",
    "\n",
    "#Result\n",
    "\n",
    "print \"Peak output voltage : \",Voutpeak,\" V.\"\n",
    "\n",
    "#Graph\n",
    "\n",
    "x = numpy.linspace(0,math.pi,100)\n",
    "x1 = numpy.linspace(math.pi,2*math.pi,100)\n",
    "x2 = numpy.linspace(math.pi,2*math.pi,100)\n",
    "x3=numpy.linspace(0,8,100)\n",
    "y2 = numpy.sin(x2)\n",
    "y = numpy.sin(x)\n",
    "plot(x,8*y,'b')\n",
    "plot(x1,-0.7+x1-x1,'b')\n",
    "plot(x2,12*y2,'--')\n",
    "plot(x3,0+x3-x3,'k')\n",
    "ylim(-13,9)\n",
    "xlim(0,2*math.pi+1)\n",
    "title(\"Output Waveform\")\n",
    "xlabel(\"t ->\")\n",
    "ylabel(\"-Vout->\")"
   ]
  },
  {
   "cell_type": "markdown",
   "metadata": {},
   "source": [
    "## Example 5.12 , Page Number 163 "
   ]
  },
  {
   "cell_type": "code",
   "execution_count": 20,
   "metadata": {
    "collapsed": false
   },
   "outputs": [
    {
     "name": "stdout",
     "output_type": "stream",
     "text": [
      "PIV of diode :  5 V.\n"
     ]
    },
    {
     "data": {
      "text/plain": [
       "<matplotlib.text.Text at 0x7d41190>"
      ]
     },
     "execution_count": 20,
     "metadata": {},
     "output_type": "execute_result"
    },
    {
     "data": {
      "image/png": "[encoded data removed]",
      "text/plain": [
       "<matplotlib.figure.Figure at 0x7cb4d50>"
      ]
     },
     "metadata": {},
     "output_type": "display_data"
    }
   ],
   "source": [
    "import math\n",
    "import numpy\n",
    "%matplotlib inline\n",
    "from matplotlib.pyplot import plot,title,xlabel,ylabel,ylim,xlim\n",
    "\n",
    "#Variables \n",
    "\n",
    "Vi = 10                    #Input voltage (in volts)\n",
    "\n",
    "#Calculation\n",
    "\n",
    "Vo = Vi * 1.0/2            #Output voltage (in volts)\n",
    "Vdc = 0.636 * Vo           #DC output voltage (in volts)\n",
    "PIV = 5                    #Peak inverse voltage (in volts) \n",
    "\n",
    "#Result\n",
    "\n",
    "print \"PIV of diode : \",PIV,\"V.\"\n",
    "\n",
    "#Graph\n",
    "\n",
    "x = numpy.linspace(0,math.pi,100)\n",
    "y = numpy.sin(x)\n",
    "x1 = numpy.linspace(math.pi,2*math.pi,100)\n",
    "y1 = numpy.sin(x1)\n",
    "ylim(0,8)\n",
    "xlim(0,2*math.pi)\n",
    "plot(x,5*(y),'b')\n",
    "plot(x1,-5*(y1),'b')\n",
    "plot(x,0+x-x,'k')\n",
    "plot(x1,0+x1-x1,'k')\n",
    "plot(x,5+x-x,'--',color='g')\n",
    "plot(x1,5+x1-x1,'--',color='g')\n",
    "title(\"Output Waveform\")\n",
    "xlabel(\"t ->\")\n",
    "ylabel(\"-Vout->\")"
   ]
  },
  {
   "cell_type": "markdown",
   "metadata": {},
   "source": [
    "## Example 5.13 , Page Number 164"
   ]
  },
  {
   "cell_type": "code",
   "execution_count": 32,
   "metadata": {
    "collapsed": false
   },
   "outputs": [
    {
     "name": "stdout",
     "output_type": "stream",
     "text": [
      "PIV rating of diode : 200 V.\n"
     ]
    },
    {
     "data": {
      "text/plain": [
       "<matplotlib.text.Text at 0x802a9d0>"
      ]
     },
     "execution_count": 32,
     "metadata": {},
     "output_type": "execute_result"
    },
    {
     "data": {
      "image/png": "[encoded data removed]",
      "text/plain": [
       "<matplotlib.figure.Figure at 0x86934f0>"
      ]
     },
     "metadata": {},
     "output_type": "display_data"
    }
   ],
   "source": [
    "import math\n",
    "import numpy\n",
    "%matplotlib inline\n",
    "from matplotlib.pyplot import plot,title,xlabel,ylabel,ylim,xlim,annotate\n",
    "\n",
    "#Variables \n",
    "\n",
    "Vimax = 200            #Peak input voltage (in volts)\n",
    "R = 10 * 10**3         #Resistance (in ohm)\n",
    "RL = 4 * 10**3         #Load resistance (in ohm)\n",
    "\n",
    "#Calculation\n",
    "\n",
    "Iimax = Vimax/R        #Peak input current (in Ampere) \n",
    "VLmax = Iimax * RL     #Peak voltage across load (in volts) \n",
    "PIV = 200              #Peak inverse voltage (in volts)\n",
    "\n",
    "#Result\n",
    "\n",
    "print \"PIV rating of diode :\",PIV,\"V.\"\n",
    "\n",
    "#Graph\n",
    "\n",
    "x1 = numpy.linspace(0,math.pi,100)\n",
    "x2 = numpy.linspace(math.pi,2*math.pi,100)\n",
    "x3 = numpy.linspace(2*math.pi,3*math.pi,100)\n",
    "y1 = numpy.sin(x1)\n",
    "y2 = numpy.sin(x2)\n",
    "y3 = numpy.sin(x3)\n",
    "plot(x1,80*(y1),'b')\n",
    "plot(x2,(-1)*80*(y2),'b')\n",
    "plot(x3,80*(y3),'b')\n",
    "plot(x1/2,80+x1-x1,'--',color='g')\n",
    "xlim(0,3*math.pi)\n",
    "ylim(0,200)\n",
    "annotate('80 V',xy=(0.5 ,80))\n",
    "title(\"Output Voltage Waveform\")\n",
    "xlabel(\"t ->\")\n",
    "ylabel(\"-Vout->\")"
   ]
  },
  {
   "cell_type": "markdown",
   "metadata": {},
   "source": [
    "## Example 5.14 , Page Number 165 "
   ]
  },
  {
   "cell_type": "code",
   "execution_count": 33,
   "metadata": {
    "collapsed": false
   },
   "outputs": [
    {
     "name": "stdout",
     "output_type": "stream",
     "text": [
      "During positive half , Output voltage Vo = 2 V when Vi < 2 V.\n",
      "Output voltage Vo = Vi when Vi > 2 V.\n",
      "During negative half , Output voltage Vo = 2 V.\n"
     ]
    }
   ],
   "source": [
    "#Variables \n",
    "\n",
    "Vo = 2                     #Output voltage when Vi < 2 V (in volts)\n",
    "#Vo1 = Vi                  #Output voltage when Vi > 2 V (in volts) \n",
    "\n",
    "#Calculation\n",
    "\n",
    "Vo = 2                     #Output voltage during negative half (in volts)\n",
    "\n",
    "#Result\n",
    "\n",
    "print \"During positive half , Output voltage Vo = 2 V when Vi < 2 V.\\nOutput voltage Vo = Vi when Vi > 2 V.\"\n",
    "print \"During negative half , Output voltage Vo = 2 V.\""
   ]
  },
  {
   "cell_type": "markdown",
   "metadata": {},
   "source": [
    "## Example 5.15 , Page Number 166 "
   ]
  },
  {
   "cell_type": "code",
   "execution_count": 38,
   "metadata": {
    "collapsed": false
   },
   "outputs": [
    {
     "name": "stdout",
     "output_type": "stream",
     "text": [
      "During positive half , Output voltage :  5.0 V.\n",
      "During negative half , Output voltage :  -10 V.\n"
     ]
    },
    {
     "data": {
      "text/plain": [
       "(-12, 10)"
      ]
     },
     "execution_count": 38,
     "metadata": {},
     "output_type": "execute_result"
    },
    {
     "data": {
      "image/png": "[encoded data removed]",
      "text/plain": [
       "<matplotlib.figure.Figure at 0x8939390>"
      ]
     },
     "metadata": {},
     "output_type": "display_data"
    }
   ],
   "source": [
    "import math\n",
    "import numpy\n",
    "%matplotlib inline\n",
    "from matplotlib.pyplot import plot,title,xlabel,ylabel,ylim,xlim\n",
    "\n",
    "#Variables \n",
    "\n",
    "Vi = 10                    #Input voltage (in volts)\n",
    "V1 = 2.5                   #Voltage (in volts)\n",
    "Rnet = 3 * 10**3           #Net resistance (in ohm)\n",
    "R1 = 2.0 * 10**3           #Resistance1 (in ohm)\n",
    "R2 = 1.0 * 10**3           #Resistance2 (in ohm)\n",
    "\n",
    "#Calculation\n",
    "\n",
    "I = (Vi - V1)/Rnet         #Current (in Ampere)\n",
    "Vo = I * (R2) + 2.5        #Output voltage positive half (in volts)\n",
    "Voneg = -Vi                #Output voltage negative half (in volts)\n",
    "\n",
    "#Result\n",
    "\n",
    "print \"During positive half , Output voltage : \",Vo,\"V.\"\n",
    "print \"During negative half , Output voltage : \",Voneg,\"V.\" \n",
    "\n",
    "#Graph\n",
    "\n",
    "x = numpy.linspace(0,9,100) \n",
    "x1 = numpy.linspace(0,3,100)\n",
    "x2 = numpy.linspace(3,6,100)\n",
    "x3 = numpy.linspace(6,9,100)\n",
    "y1 = numpy.linspace(-10,5,100)\n",
    "plot(x,0+x-x,'k')\n",
    "plot(x1,-10+x1-x1,'--',color='g')\n",
    "plot(x1,5-x1+x1,'b')\n",
    "plot(x2,-10+x2-x2,'b')\n",
    "plot(x3,5+x3-x3,'b')\n",
    "plot(3+y1-y1,y1,'b')\n",
    "plot(6+y1-y1,y1,'b')\n",
    "title(\"Output Voltage Waveform\")\n",
    "xlabel(\"t ->\")\n",
    "ylabel(\"-Vout->\")\n",
    "xlim(0,9)\n",
    "ylim(-12,10)"
   ]
  },
  {
   "cell_type": "markdown",
   "metadata": {},
   "source": [
    "## Example 5.16 , Page Number 166"
   ]
  },
  {
   "cell_type": "code",
   "execution_count": 39,
   "metadata": {
    "collapsed": false
   },
   "outputs": [
    {
     "name": "stdout",
     "output_type": "stream",
     "text": [
      "During positive half , peak voltage :  12 V.\n",
      "During negative half , peak voltage :  -8 V.\n"
     ]
    },
    {
     "data": {
      "text/plain": [
       "<matplotlib.text.Text at 0x9864710>"
      ]
     },
     "execution_count": 39,
     "metadata": {},
     "output_type": "execute_result"
    },
    {
     "data": {
      "image/png": "[encoded data removed]",
      "text/plain": [
       "<matplotlib.figure.Figure at 0x8f02ef0>"
      ]
     },
     "metadata": {},
     "output_type": "display_data"
    }
   ],
   "source": [
    "import math\n",
    "import numpy\n",
    "%matplotlib inline\n",
    "from matplotlib.pyplot import plot,title,xlabel,ylabel,ylim,xlim\n",
    "\n",
    "#Variables \n",
    "\n",
    "V1 = 12              #Voltage1 (in volts)\n",
    "V2 = 8               #Voltage2 (in volts) \n",
    "\n",
    "#Calculation\n",
    "\n",
    "Vopos = V1           #Peak Output voltage during positive half (in volts)\n",
    "Voneg = -V2          #Peak Output voltage during negative half (in volts) \n",
    "\n",
    "#Result\n",
    "\n",
    "print \"During positive half , peak voltage : \",Vopos,\"V.\\nDuring negative half , peak voltage : \",Voneg,\"V.\"\n",
    "\n",
    "#Graph \n",
    "\n",
    "x = numpy.linspace(0,24,100)\n",
    "x1 = numpy.linspace(0,2,100)\n",
    "x2 = numpy.linspace(2,6,100)\n",
    "x3 = numpy.linspace(6,8,100)\n",
    "x4 = numpy.linspace(8,8+8.0/6,100)\n",
    "x5 = numpy.linspace(8+8.0/6,12+8.0/6,100)\n",
    "x6 = numpy.linspace(12+8.0/6,12+2*8.0/6,100)\n",
    "x7 = numpy.linspace(12+2*8.0/6,14+2*8.0/6,100)\n",
    "x8 = numpy.linspace(14+2*8.0/6,18+2*8.0/6,100)\n",
    "x9 = numpy.linspace(18+2*8.0/6,20+2*8.0/6,100)\n",
    "x10 = numpy.linspace(0,8+8.0/6,100)\n",
    "plot(x,0+x-x,'k')\n",
    "plot(x1,6*x1,'b')\n",
    "plot(x2,12-x2+x2,'b')\n",
    "plot(x3,12-6*(x3-6),'b')\n",
    "plot(x4,-6*(x4-8),'b')\n",
    "plot(x5,-8+x5-x5,'b')\n",
    "plot(x6,-8+6*(x6-(12+8.0/6)))\n",
    "plot(x7,6*(x7-(12+2*8.0/6)),'b')\n",
    "plot(x8,12-x8+x8,'b')\n",
    "plot(x9,12-6*(x9-(18+2*8.0/6)),'b')\n",
    "plot(x10,-8+x10-x10,'--',color='g')\n",
    "plot(x1,12+x1-x1,'--',color='g')\n",
    "ylim(-20,15)\n",
    "xlim(0,20+2*8.0/6)\n",
    "title(\"Output Voltage Waveform\")\n",
    "xlabel(\"t ->\")\n",
    "ylabel(\"-Vout->\")"
   ]
  },
  {
   "cell_type": "markdown",
   "metadata": {},
   "source": [
    "## Example 5.17 , Page Number 167 "
   ]
  },
  {
   "cell_type": "code",
   "execution_count": 44,
   "metadata": {
    "collapsed": false
   },
   "outputs": [
    {
     "name": "stdout",
     "output_type": "stream",
     "text": [
      "Following is the output wave generated when Vinmax is changed to 60 V.\n"
     ]
    },
    {
     "data": {
      "text/plain": [
       "<matplotlib.text.Text at 0x9d5c490>"
      ]
     },
     "execution_count": 44,
     "metadata": {},
     "output_type": "execute_result"
    },
    {
     "data": {
      "image/png": "[encoded data removed]",
      "text/plain": [
       "<matplotlib.figure.Figure at 0x9582910>"
      ]
     },
     "metadata": {},
     "output_type": "display_data"
    }
   ],
   "source": [
    "import math\n",
    "import numpy\n",
    "%matplotlib inline\n",
    "from matplotlib.pyplot import plot,title,xlabel,ylabel,ylim,xlim\n",
    "\n",
    "#Variables \n",
    "\n",
    "Vinmax1 = 25                   #Peak input voltage1 (in volts)\n",
    "Vinmax2 = 60                   #Peak input voltage2 (in volts)\n",
    "\n",
    "#Calculation\n",
    "\n",
    "Voutmax1 = 20                  #Peak output voltage1 (in volts)\n",
    "Voutmax2 = 10                  #Peak output voltage2 (in volts)\n",
    "\n",
    "#Result\n",
    "\n",
    "print \"Following is the output wave generated when Vinmax is changed to 60 V.\"\n",
    "\n",
    "#Graph\n",
    "\n",
    "x = numpy.linspace(0,24,100)\n",
    "x1 = numpy.linspace(0,2,100)\n",
    "x2 = numpy.linspace(2,6,100)\n",
    "x3 = numpy.linspace(6,8,100)\n",
    "x4 = numpy.linspace(8,10,100)\n",
    "x5 = numpy.linspace(10,14,100)\n",
    "x6 = numpy.linspace(14,16,100)\n",
    "x7 = numpy.linspace(0,10,100)\n",
    "plot(x,0+x-x,'k')\n",
    "plot(x1,10*x1,'b')\n",
    "plot(x2,20-x2+x2,'b')\n",
    "plot(x3,20-10*(x3-6),'b')\n",
    "plot(x4,-10*(x4-8),'b')\n",
    "plot(x5,-20+x5-x5,'b')\n",
    "plot(x6,-20+10*(x6-14))\n",
    "plot(x7,-20+x7-x7,'--',color='g')\n",
    "xlim(0,16)\n",
    "ylim(-22,22)\n",
    "title(\"Output Voltage Waveform\")\n",
    "xlabel(\"t ->\")\n",
    "ylabel(\"-Vout->\")"
   ]
  },
  {
   "cell_type": "markdown",
   "metadata": {},
   "source": [
    "## Example 5.18 , Page Number 168 "
   ]
  },
  {
   "cell_type": "code",
   "execution_count": 60,
   "metadata": {
    "collapsed": false
   },
   "outputs": [
    {
     "name": "stdout",
     "output_type": "stream",
     "text": [
      "Output voltage Vout = Vin/2.\n",
      "Voutmax =  5.0 V.\n"
     ]
    },
    {
     "data": {
      "text/plain": [
       "<matplotlib.text.Annotation at 0xa9b53f0>"
      ]
     },
     "execution_count": 60,
     "metadata": {},
     "output_type": "execute_result"
    },
    {
     "data": {
      "image/png": "[encoded data removed]",
      "text/plain": [
       "<matplotlib.figure.Figure at 0xafafd90>"
      ]
     },
     "metadata": {},
     "output_type": "display_data"
    }
   ],
   "source": [
    "import math\n",
    "import numpy\n",
    "%matplotlib inline\n",
    "from matplotlib.pyplot import plot,title,xlabel,ylabel,ylim,xlim,annotate\n",
    "\n",
    "#Variables \n",
    "\n",
    "Vinmax = 10.0                   #Peak input voltage (in volts)\n",
    "R1 = 5 * 10**3                  #Resistance1 (in ohm)\n",
    "R2 = 5 * 10**3                  #Resistance2 (in ohm) \n",
    "\n",
    "#Calculation\n",
    "\n",
    "Vout = Vinmax/(R1 + R2)*R2      #Output voltage (in volts)          \n",
    "\n",
    "#Result\n",
    "\n",
    "print \"Output voltage Vout = Vin/2.\"\n",
    "print \"Voutmax = \",Vout,'V.'\n",
    "\n",
    "#Graph\n",
    "\n",
    "x = numpy.linspace(0,12,100) \n",
    "x1 = numpy.linspace(0,3,100)\n",
    "x2 = numpy.linspace(3,6,100)\n",
    "x3 = numpy.linspace(6,9,100)\n",
    "y1 = numpy.linspace(-5,0,100)\n",
    "plot(x,0+x-x,'k')\n",
    "plot(x1,0-x1+x1,'b')\n",
    "plot(x2,-5+x2-x2,'b')\n",
    "plot(x3,0+x3-x3,'b')\n",
    "plot(3+y1-y1,y1,'b')\n",
    "plot(6+y1-y1,y1,'b')\n",
    "plot(9+y1-y1,y1,'b')\n",
    "plot(x2,-2+x2-x2,'--',color='g')\n",
    "title(\"Output Voltage Waveform\")\n",
    "xlabel(\"t ->\")\n",
    "ylabel(\"-Vout->\")\n",
    "xlim(0,9)\n",
    "ylim(-6,5)\n",
    "annotate('T/2',xy=(4.25,-2))"
   ]
  },
  {
   "cell_type": "markdown",
   "metadata": {},
   "source": [
    "## Example 5.19 , Page Number 168 "
   ]
  },
  {
   "cell_type": "code",
   "execution_count": 92,
   "metadata": {
    "collapsed": false
   },
   "outputs": [
    {
     "name": "stdout",
     "output_type": "stream",
     "text": [
      "OUtput voltage lies in range : -8 V to +6 V.\n"
     ]
    },
    {
     "data": {
      "text/plain": [
       "<matplotlib.text.Text at 0xccf9450>"
      ]
     },
     "execution_count": 92,
     "metadata": {},
     "output_type": "execute_result"
    },
    {
     "data": {
      "image/png": "[encoded data removed]",
      "text/plain": [
       "<matplotlib.figure.Figure at 0xcbb18d0>"
      ]
     },
     "metadata": {},
     "output_type": "display_data"
    }
   ],
   "source": [
    "import math\n",
    "import numpy\n",
    "%matplotlib inline\n",
    "from matplotlib.pyplot import plot,title,xlabel,ylabel,ylim,xlim,annotate\n",
    "\n",
    "#Variables \n",
    "\n",
    "Vinmax = 10                             #Peak input voltage (in volts)\n",
    "V1 = 5.3                                #Voltage source1 (in volts)\n",
    "V2 = 7.3                                #Voltage source2 (in volts) \n",
    "R = 10.0 * 10**3                        #Resistance (in ohm)\n",
    "\n",
    "#Calculation\n",
    "\n",
    "Vomax = 6                               #Peak output voltage in positive half (in volts)\n",
    "Vomin = -8                              #Peak output voltage in negative half (in volts)\n",
    "\n",
    "#Result\n",
    "\n",
    "print \"OUtput voltage lies in range : -8 V to +6 V.\"\n",
    "\n",
    "#Graph \n",
    "\n",
    "x = numpy.linspace(0,24,100)\n",
    "x1 = numpy.linspace(0,3,100)\n",
    "x2 = numpy.linspace(3,5,100)\n",
    "x3 = numpy.linspace(5,7,100)\n",
    "x4 = numpy.linspace(7,10,100)\n",
    "x5 = numpy.linspace(10,14,100)\n",
    "x6 = numpy.linspace(14,15,100)\n",
    "x7 = numpy.linspace(15,16,100)\n",
    "x8 = numpy.linspace(16,20,100)\n",
    "x9 = numpy.linspace(0,5,100)\n",
    "x10 = numpy.linspace(0,14,100)\n",
    "x11 = numpy.linspace(0,15,100)\n",
    "\n",
    "plot(x,0+x-x,'k')\n",
    "plot(x1,2*x1,'b')\n",
    "plot(x2,2*x2,'--',color='b')\n",
    "plot(x3,10-2*(x3-5),'--',color='b')\n",
    "plot(x4,6-2*(x4-7),'b')\n",
    "plot(x5,-2*(x5-10),'b')\n",
    "plot(x6,-8-2*(x6-14),'--',color='b')\n",
    "plot(x7,-10+2*(x7-15),'--',color='b')\n",
    "plot(x8,-8+2*(x8-16),'b')\n",
    "\n",
    "plot(x1,6-x1+x1,'--',color='g')\n",
    "plot(x2,6-x2+x2,'k')\n",
    "plot(x3,6-x3+x3,'k')\n",
    "plot(x6,-8-x6+x6,'k')\n",
    "plot(x7,-8-x7+x7,'k')\n",
    "plot(x9,10+x9-x9,'--',color='g')\n",
    "plot(x10,-8+x10-x10,'--',color='g')\n",
    "plot(x11,-10+x11-x11,'--',color='g')\n",
    "\n",
    "xlim(0,20)\n",
    "ylim(-12,12)\n",
    "title(\"Output Voltage Waveform\")\n",
    "xlabel(\"t ->\")\n",
    "ylabel(\"-Vout->\")"
   ]
  },
  {
   "cell_type": "markdown",
   "metadata": {},
   "source": [
    "## Example 5.20 , Page Number 173 "
   ]
  },
  {
   "cell_type": "code",
   "execution_count": 98,
   "metadata": {
    "collapsed": false
   },
   "outputs": [
    {
     "name": "stdout",
     "output_type": "stream",
     "text": [
      "Output voltage in positive half :  35 V.\n",
      "Output voltage in negative half  : -5 V.\n"
     ]
    },
    {
     "data": {
      "text/plain": [
       "(-10, 40)"
      ]
     },
     "execution_count": 98,
     "metadata": {},
     "output_type": "execute_result"
    },
    {
     "data": {
      "image/png": "[encoded data removed]",
      "text/plain": [
       "<matplotlib.figure.Figure at 0xcbb1ad0>"
      ]
     },
     "metadata": {},
     "output_type": "display_data"
    }
   ],
   "source": [
    "import math\n",
    "import numpy\n",
    "%matplotlib inline\n",
    "from matplotlib.pyplot import plot,title,xlabel,ylabel,ylim,xlim\n",
    "\n",
    "#Variables \n",
    "\n",
    "Vin = 20                      #Input voltage (in volts)\n",
    "V1 = 5                        #Battery voltage (in volts) \n",
    "\n",
    "#Calculation\n",
    "\n",
    "Voutp = (2*Vin - V1)          #Output voltage in positive half (in volts)\n",
    "Voutn = 0 - V1                #Output voltage in negative half (in volts) \n",
    "\n",
    "#Result\n",
    "\n",
    "print \"Output voltage in positive half : \",Voutp,\"V.\"\n",
    "print \"Output voltage in negative half  :\",Voutn,\"V.\"\n",
    "\n",
    "#Graph\n",
    "\n",
    "x = numpy.linspace(0,9,100) \n",
    "x1 = numpy.linspace(0,3,100)\n",
    "x2 = numpy.linspace(3,6,100)\n",
    "x3 = numpy.linspace(6,9,100)\n",
    "y1 = numpy.linspace(-5,35,100)\n",
    "plot(x,0+x-x,'k')\n",
    "plot(x1,-10+x1-x1,'--',color='g')\n",
    "plot(x1,35-x1+x1,'b')\n",
    "plot(x2,-5+x2-x2,'b')\n",
    "plot(x3,35+x3-x3,'b')\n",
    "plot(3+y1-y1,y1,'b')\n",
    "plot(6+y1-y1,y1,'b')\n",
    "title(\"Output Voltage Waveform\")\n",
    "xlabel(\"t ->\")\n",
    "ylabel(\"-Vout->\")\n",
    "xlim(0,9)\n",
    "ylim(-10,40)"
   ]
  }
 ],
 "metadata": {
  "kernelspec": {
   "display_name": "Python 2",
   "language": "python",
   "name": "python2"
  },
  "language_info": {
   "codemirror_mode": {
    "name": "ipython",
    "version": 2
   },
   "file_extension": ".py",
   "mimetype": "text/x-python",
   "name": "python",
   "nbconvert_exporter": "python",
   "pygments_lexer": "ipython2",
   "version": "2.7.10"
  }
 },
 "nbformat": 4,
 "nbformat_minor": 0
}
