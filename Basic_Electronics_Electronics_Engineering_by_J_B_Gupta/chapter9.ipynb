{
 "cells": [
  {
   "cell_type": "markdown",
   "metadata": {},
   "source": [
    "#Chapter 9 , Regulated Power Supplies"
   ]
  },
  {
   "cell_type": "markdown",
   "metadata": {},
   "source": [
    "##Example 9.1 , Page Number 328"
   ]
  },
  {
   "cell_type": "code",
   "execution_count": 3,
   "metadata": {
    "collapsed": false
   },
   "outputs": [
    {
     "name": "stdout",
     "output_type": "stream",
     "text": [
      "Breakdown voltage :  8.0 V.\n",
      "Resistor R :  206.0 ohm.\n"
     ]
    }
   ],
   "source": [
    "#Variables\n",
    "\n",
    "IC = IL = 1.2                 #Collector current (in Ampere)\n",
    "Vout = 7.5                    #Voltage (in volts)\n",
    "VBE = 0.5                     #Base-emitter voltage (in volts)\n",
    "beta = 50.0                   #Current gain\n",
    "VCC = 15.0                    #Supply voltage (in volts) \n",
    "IZmin = 10.0 * 10**-3         #Minimum zener current (in Ampere) \n",
    "\n",
    "#Calculation\n",
    "\n",
    "IB = IC/beta                  #Base current (in Ampere)\n",
    "VZ = Vout + VBE               #Zener diode breakdown voltage (in volts)\n",
    "VR = VCC - VZ                 #Voltage drop in resistor R (in volts)\n",
    "IR = IB + IZmin               #Current through R (in AMpere)                   \n",
    "R = VR/IR                     #Resistance R (in ohm)\n",
    "\n",
    "#Result\n",
    "\n",
    "print \"Breakdown voltage : \",VZ,\"V.\\nResistor R : \",round(R),\"ohm.\""
   ]
  },
  {
   "cell_type": "markdown",
   "metadata": {},
   "source": [
    "##Example 9.2 , Page Number 328"
   ]
  },
  {
   "cell_type": "code",
   "execution_count": 4,
   "metadata": {
    "collapsed": false
   },
   "outputs": [
    {
     "name": "stdout",
     "output_type": "stream",
     "text": [
      "Breakdown voltage :  9.6 V.\n",
      "Series Resistor RSE :  37.5 ohm.\n"
     ]
    }
   ],
   "source": [
    "#Variables\n",
    "\n",
    "Vout = 10                    #Output voltage (in volts)\n",
    "VBE = 0.4                    #Base-emitter voltage (in volts)\n",
    "IL = 100.0 * 10**-3          #Load current (in Ampere)\n",
    "Vinmin = 11.25               #Min. input voltage (in volts)\n",
    "Vinmax = 13.75               #Max. input voltage (in volts)\n",
    "\n",
    "#Calculation\n",
    "\n",
    "VZ = Vout - VBE              #Zener breakdown voltage (in volts)\n",
    "VRSE = Vinmax - Vout         #Max. voltage drop in series resistor (in volts)\n",
    "Imax = IL                    #Series resistor current (in Ampere)\n",
    "RSE = VRSE/Imax              #Series resistor (in ohm)\n",
    "\n",
    "#Result\n",
    "\n",
    "print \"Breakdown voltage : \",VZ,\"V.\\nSeries Resistor RSE : \",round(RSE,1),\"ohm.\""
   ]
  }
 ],
 "metadata": {
  "kernelspec": {
   "display_name": "Python 2",
   "language": "python",
   "name": "python2"
  },
  "language_info": {
   "codemirror_mode": {
    "name": "ipython",
    "version": 2
   },
   "file_extension": ".py",
   "mimetype": "text/x-python",
   "name": "python",
   "nbconvert_exporter": "python",
   "pygments_lexer": "ipython2",
   "version": "2.7.10"
  }
 },
 "nbformat": 4,
 "nbformat_minor": 0
}
