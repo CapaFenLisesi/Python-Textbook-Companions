{
 "cells": [
  {
   "cell_type": "markdown",
   "metadata": {},
   "source": [
    "#Chapter 2 , Energy Levels and Electron Emission"
   ]
  },
  {
   "cell_type": "markdown",
   "metadata": {},
   "source": [
    "## Example 2.1 , Page Number 33 "
   ]
  },
  {
   "cell_type": "code",
   "execution_count": 4,
   "metadata": {
    "collapsed": false
   },
   "outputs": [
    {
     "name": "stdout",
     "output_type": "stream",
     "text": [
      " Emission current is  0.0166  A.\n"
     ]
    }
   ],
   "source": [
    "import math\n",
    "\n",
    "#Variables\n",
    "\n",
    "phi = 3.4              #Voltage (in electron-volt)\n",
    "e = 1.6 * 10**-19      #Charge on electron (in Coulomb)\n",
    "A = 6.0 * 10**4        #Emission constant (in Ampere per meter-square per kelvin-square)\n",
    "T = 2000.0             #Temperature (in kelvin)\n",
    "l = 40.0 * 10**-3      #Length (in meter)\n",
    "D = 0.2 * 10**-3       #Diameter (in meter)\n",
    "k = 1.38 * 10**-23     #Boltzmann constant (in meter-square kilogram per second-square per kelvin)\n",
    "\n",
    "#Calculation\n",
    "\n",
    "b = phi * e /k         #Constant \n",
    "Js = A*T**2*math.exp(-b/T)  #Emission current density (in Ampere per meter-square)\n",
    "S = math.pi * D * l    #Emitting surface (in meter-square)\n",
    "I = Js * S             #Emission current (in Ampere)       \n",
    "\n",
    "#Result\n",
    "\n",
    "print \"Emission current is \",round(I,4),\" A.\"\n",
    "\n",
    "#Slight variation due to higher precision."
   ]
  }
 ],
 "metadata": {
  "kernelspec": {
   "display_name": "Python 2",
   "language": "python",
   "name": "python2"
  },
  "language_info": {
   "codemirror_mode": {
    "name": "ipython",
    "version": 2
   },
   "file_extension": ".py",
   "mimetype": "text/x-python",
   "name": "python",
   "nbconvert_exporter": "python",
   "pygments_lexer": "ipython2",
   "version": "2.7.10"
  }
 },
 "nbformat": 4,
 "nbformat_minor": 0
}
