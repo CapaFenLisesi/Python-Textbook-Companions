{
 "cells": [
  {
   "cell_type": "markdown",
   "metadata": {},
   "source": [
    "# Chapter 29 ELECTRIC POTENTIAL"
   ]
  },
  {
   "cell_type": "markdown",
   "metadata": {},
   "source": [
    "# Example 29.3 Magnitude of an isolated positive point charge"
   ]
  },
  {
   "cell_type": "code",
   "execution_count": 1,
   "metadata": {
    "collapsed": false
   },
   "outputs": [
    {
     "name": "stdout",
     "output_type": "stream",
     "text": [
      "Potential due to a point charge is V=q/4*pi*epislon0*r\n",
      "Magnitude of positive point charge in coul is 1.112e-09\n"
     ]
    }
   ],
   "source": [
    "import math\n",
    "V=100 #electric potential in volts\n",
    "r=10*10**-2 #in meters\n",
    "epsilon0=8.85*10**-12 #coul2/nt-m2\n",
    "print(\"Potential due to a point charge is V=q/4*pi*epislon0*r\")\n",
    "q=V*4*math.pi*epsilon0*r\n",
    "print(\"Magnitude of positive point charge in coul is %.3e\"%q)"
   ]
  },
  {
   "cell_type": "markdown",
   "metadata": {},
   "source": [
    "# Exa 29.4 Electric potential at the surface of a gold nucleus"
   ]
  },
  {
   "cell_type": "code",
   "execution_count": 2,
   "metadata": {
    "collapsed": false
   },
   "outputs": [
    {
     "name": "stdout",
     "output_type": "stream",
     "text": [
      "Electric potential at the surface of the nucleus in volts is 17220668\n"
     ]
    }
   ],
   "source": [
    "import math\n",
    "r=6.6*10**-15 #radius of the gold nucleus in meter\n",
    "Z=79 #gold atomic number\n",
    "e=1.6*10**-19 #charge in coul\n",
    "q=Z*e #total positive charge in coul\n",
    "epsilon0=8.85*10**-12 #coul2/nt-m2\n",
    "V=q/(4*math.pi*epsilon0*r)\n",
    "print(\"Electric potential at the surface of the nucleus in volts is %d\"%V)"
   ]
  },
  {
   "cell_type": "markdown",
   "metadata": {},
   "source": [
    "# Exa 29.5 Potential at the center of the square"
   ]
  },
  {
   "cell_type": "code",
   "execution_count": 3,
   "metadata": {
    "collapsed": false
   },
   "outputs": [
    {
     "name": "stdout",
     "output_type": "stream",
     "text": [
      "Potential at the center of the square in volts is 508.65\n"
     ]
    }
   ],
   "source": [
    "import math\n",
    "q1=1.0*10**-8 #in coul\n",
    "q2=-2.0*10**-8 #in coul\n",
    "q3=3.0*10**-8 #in coul\n",
    "q4=2.0*10**-8 #in coul\n",
    "a=1 #side of square in meter\n",
    "epsilon0=8.85*10**-12 #coul2/nt-m2\n",
    "#refer to the fig 29.7\n",
    "r=a/math.sqrt(2) #distance of charges from centre in meter\n",
    "V=(q1+q2+q3+q4)/(4*math.pi*epsilon0*r)\n",
    "print(\"Potential at the center of the square in volts is %.2f\"%V)"
   ]
  },
  {
   "cell_type": "markdown",
   "metadata": {},
   "source": [
    "# Exa 29.8 Mutual potential energy"
   ]
  },
  {
   "cell_type": "code",
   "execution_count": 4,
   "metadata": {
    "collapsed": false
   },
   "outputs": [
    {
     "name": "stdout",
     "output_type": "stream",
     "text": [
      "Mutual electric potential energy of two proton in joules is 3.837e-14\n",
      "Mutual electric potential energy of two proton in ev is 239781.46\n"
     ]
    }
   ],
   "source": [
    "import math\n",
    "q1=1.6*10**-19 #charge in coul\n",
    "q2=1.6*10**-19 #charge in coul\n",
    "r=6.0*10**-15 #seperation b/w two protons in meter\n",
    "epsilon0=8.85*10**-12 #coul2/nt-m2\n",
    "U=(q1*q2)/(4*math.pi*epsilon0*r)\n",
    "print(\"Mutual electric potential energy of two proton in joules is %.3e\"%U)\n",
    "V=U/q1\n",
    "print(\"Mutual electric potential energy of two proton in ev is %.2f\"%V)"
   ]
  },
  {
   "cell_type": "markdown",
   "metadata": {},
   "source": [
    "# Exa 29.9 Mutual potential energy"
   ]
  },
  {
   "cell_type": "code",
   "execution_count": 5,
   "metadata": {
    "collapsed": false
   },
   "outputs": [
    {
     "name": "stdout",
     "output_type": "stream",
     "text": [
      "Total energy is the sum of each pair of particles \n",
      "Mutual potential energy of the particles in joules is -0.008991804694457362\n"
     ]
    }
   ],
   "source": [
    "import math\n",
    "q=1.0*10**-7 #charge in coul\n",
    "a=10*10**-2 #side of triangle in meter\n",
    "q1=q\n",
    "q2=-4*q\n",
    "q3=2*q\n",
    "epsilon0=8.85*10**-12 #coul2/nt-m2\n",
    "print(\"Total energy is the sum of each pair of particles \")\n",
    "U=(1/(4*math.pi*epsilon0))*(((q1*q2)/a)+((q1*q3)/a)+((q2*q3)/a))\n",
    "print(\"Mutual potential energy of the particles in joules is\",U)"
   ]
  }
 ],
 "metadata": {
  "kernelspec": {
   "display_name": "Python 3",
   "language": "python",
   "name": "python3"
  },
  "language_info": {
   "codemirror_mode": {
    "name": "ipython",
    "version": 3
   },
   "file_extension": ".py",
   "mimetype": "text/x-python",
   "name": "python",
   "nbconvert_exporter": "python",
   "pygments_lexer": "ipython3",
   "version": "3.5.1"
  },
  "widgets": {
   "state": {},
   "version": "1.1.2"
  }
 },
 "nbformat": 4,
 "nbformat_minor": 0
}
