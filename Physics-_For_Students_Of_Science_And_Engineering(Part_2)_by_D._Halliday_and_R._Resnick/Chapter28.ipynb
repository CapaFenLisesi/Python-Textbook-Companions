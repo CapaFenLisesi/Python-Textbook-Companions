{
 "cells": [
  {
   "cell_type": "markdown",
   "metadata": {},
   "source": [
    "# Chapter 28 GAUSS'S LAW"
   ]
  },
  {
   "cell_type": "markdown",
   "metadata": {},
   "source": [
    "# Example 28.3 Electric ﬁeld strength"
   ]
  },
  {
   "cell_type": "code",
   "execution_count": 1,
   "metadata": {
    "collapsed": false
   },
   "outputs": [
    {
     "name": "stdout",
     "output_type": "stream",
     "text": [
      "Electric field strength at the surface of the gold atom in nt/coul is 1.138e+13\n"
     ]
    }
   ],
   "source": [
    "r=1*10**-10 #radius of the atom in meter\n",
    "Z=79 #gold atomic number\n",
    "e=1.6*10**-19 #charge in coul\n",
    "q=Z*e #total positive charge in coul\n",
    "E=(9.0*10**9)*q/r**2\n",
    "print(\"Electric field strength at the surface of the gold atom in nt/coul is %.3e\"%E)"
   ]
  },
  {
   "cell_type": "markdown",
   "metadata": {},
   "source": [
    "# Example 28.4 Electric ﬁeld strength at the nuclear surface"
   ]
  },
  {
   "cell_type": "code",
   "execution_count": 2,
   "metadata": {
    "collapsed": false
   },
   "outputs": [
    {
     "name": "stdout",
     "output_type": "stream",
     "text": [
      "Electric field strength at the surface of the gold atom in nt/coul is 2.389e+21\n"
     ]
    }
   ],
   "source": [
    "r=6.9*10**-15 #radius of the gold nucleus in meter\n",
    "Z=79 #gold atomic number\n",
    "e=1.6*10**-19 #charge in coul\n",
    "q=Z*e #total positive charge in coul\n",
    "E=(9.0*10**9)*q/r**2\n",
    "print(\"Electric field strength at the surface of the gold atom in nt/coul is %.3e\"%E)"
   ]
  }
 ],
 "metadata": {
  "kernelspec": {
   "display_name": "Python 3",
   "language": "python",
   "name": "python3"
  },
  "language_info": {
   "codemirror_mode": {
    "name": "ipython",
    "version": 3
   },
   "file_extension": ".py",
   "mimetype": "text/x-python",
   "name": "python",
   "nbconvert_exporter": "python",
   "pygments_lexer": "ipython3",
   "version": "3.5.1"
  },
  "widgets": {
   "state": {},
   "version": "1.1.2"
  }
 },
 "nbformat": 4,
 "nbformat_minor": 0
}
