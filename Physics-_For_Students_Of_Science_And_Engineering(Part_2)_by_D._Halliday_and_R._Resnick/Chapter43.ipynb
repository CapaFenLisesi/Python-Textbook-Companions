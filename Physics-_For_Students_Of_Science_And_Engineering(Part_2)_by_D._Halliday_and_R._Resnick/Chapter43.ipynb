{
 "cells": [
  {
   "cell_type": "markdown",
   "metadata": {},
   "source": [
    "# Chapter 43 INTERFERENCE"
   ]
  },
  {
   "cell_type": "markdown",
   "metadata": {},
   "source": [
    "# Example 43.1 Angular position of ﬁrst minimum"
   ]
  },
  {
   "cell_type": "code",
   "execution_count": 1,
   "metadata": {
    "collapsed": false
   },
   "outputs": [
    {
     "name": "stdout",
     "output_type": "stream",
     "text": [
      "Sin theta = 0.00273\n",
      "Angle in degree= 0.15642\n"
     ]
    }
   ],
   "source": [
    "import math\n",
    "m=1\n",
    "lamda=546*10**-9\n",
    "d=0.10*10**-3 #in m\n",
    "sin_theta=((m-0.5)*lamda)/(d)\n",
    "print(\"Sin theta = %.5f\"%sin_theta)\n",
    "theta=math.degrees(math.asin(sin_theta))\n",
    "print(\"Angle in degree= %.5f\"%theta)"
   ]
  },
  {
   "cell_type": "markdown",
   "metadata": {},
   "source": [
    "# Example 43.2 Linear distance"
   ]
  },
  {
   "cell_type": "code",
   "execution_count": 2,
   "metadata": {
    "collapsed": false
   },
   "outputs": [
    {
     "name": "stdout",
     "output_type": "stream",
     "text": [
      "Linear distance in meter= 0.00109\n"
     ]
    }
   ],
   "source": [
    "delta=546*10**-9  #in meter\n",
    "D=20*10**-2     #in meter\n",
    "d=0.10*10**-3  #in meter\n",
    "delta_y=(delta*D)/d\n",
    "print(\"Linear distance in meter= %.5f\"%delta_y)"
   ]
  },
  {
   "cell_type": "markdown",
   "metadata": {},
   "source": [
    "# Example 43.4 Refraction"
   ]
  },
  {
   "cell_type": "code",
   "execution_count": 3,
   "metadata": {
    "collapsed": false
   },
   "outputs": [
    {
     "name": "stdout",
     "output_type": "stream",
     "text": [
      "When m= 1\n",
      "Lambda_max= 5674.666666666667\n",
      "Lambda_min= 8500.0\n",
      "When m= 2\n",
      "Lambda_max= 3404.8\n",
      "Lambda_min= 4250.0\n"
     ]
    }
   ],
   "source": [
    "d=3200  #in A\n",
    "n=1.33\n",
    "for m in range(1,3):\n",
    "    lambda_max=(2*d*n)/(m+0.5)\n",
    "    lambda_min=(8500/m)\n",
    "    print(\"When m=\",m)\n",
    "    print(\"Lambda_max=\",lambda_max)\n",
    "    print(\"Lambda_min=\",lambda_min)\n"
   ]
  },
  {
   "cell_type": "markdown",
   "metadata": {},
   "source": [
    "# Example 43.5 Refraction"
   ]
  },
  {
   "cell_type": "code",
   "execution_count": 4,
   "metadata": {
    "collapsed": false
   },
   "outputs": [
    {
     "name": "stdout",
     "output_type": "stream",
     "text": [
      "When m= 0\n",
      "d in A=905.797\n",
      "When m= 1\n",
      "d in A=2717.391\n",
      "When m= 2\n",
      "d in A=4528.986\n",
      "When m= 3\n",
      "d in A=6340.580\n"
     ]
    }
   ],
   "source": [
    "lamda=5000 #in A\n",
    "n=1.38\n",
    "for m in range(0,4):\n",
    "    print(\"When m=\",m)\n",
    "    d=((m+0.5)*lamda)/(2*n)\n",
    "    print(\"d in A=%.3f\"%d)"
   ]
  }
 ],
 "metadata": {
  "anaconda-cloud": {},
  "kernelspec": {
   "display_name": "Python 3",
   "language": "python",
   "name": "python3"
  },
  "language_info": {
   "codemirror_mode": {
    "name": "ipython",
    "version": 3
   },
   "file_extension": ".py",
   "mimetype": "text/x-python",
   "name": "python",
   "nbconvert_exporter": "python",
   "pygments_lexer": "ipython3",
   "version": "3.5.1"
  },
  "widgets": {
   "state": {},
   "version": "1.1.2"
  }
 },
 "nbformat": 4,
 "nbformat_minor": 0
}
