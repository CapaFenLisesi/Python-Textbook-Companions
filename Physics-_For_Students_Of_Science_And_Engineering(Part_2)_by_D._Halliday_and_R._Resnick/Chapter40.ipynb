{
 "cells": [
  {
   "cell_type": "markdown",
   "metadata": {},
   "source": [
    "# Chapter 40 NATURE AND PROPOGATION OF LIGHT"
   ]
  },
  {
   "cell_type": "markdown",
   "metadata": {},
   "source": [
    "# Example 40.1 Force and energy reﬂected"
   ]
  },
  {
   "cell_type": "code",
   "execution_count": 1,
   "metadata": {
    "collapsed": false
   },
   "outputs": [
    {
     "name": "stdout",
     "output_type": "stream",
     "text": [
      "(A) Energy reflected from mirror in joule= 36000.0\n",
      "Momentum after 1 hr illumination in kg-m/sec= 0.00024\n",
      "(B) Force in newton= 6.667e-08\n"
     ]
    }
   ],
   "source": [
    "u=(10)*(1.0)*3600  #in Joules\n",
    "c=3*10**8 #in m/sec\n",
    "t=3600 #in sec\n",
    "print(\"(A) Energy reflected from mirror in joule=\",u)\n",
    "p=(2*u)/c\n",
    "print(\"Momentum after 1 hr illumination in kg-m/sec= %.5f\"%p)\n",
    "f=p/t\n",
    "print(\"(B) Force in newton= %.3e\"%f)"
   ]
  },
  {
   "cell_type": "markdown",
   "metadata": {},
   "source": [
    "# Example 40.2 Angular speed"
   ]
  },
  {
   "cell_type": "code",
   "execution_count": 2,
   "metadata": {
    "collapsed": false
   },
   "outputs": [
    {
     "name": "stdout",
     "output_type": "stream",
     "text": [
      "Angular speed in rev/sec= 12.07030\n"
     ]
    }
   ],
   "source": [
    "theta=1/1440\n",
    "c=3*10**8 #in m/sec\n",
    "l=8630 #in m\n",
    "w=(c*theta)/(2*l)\n",
    "print(\"Angular speed in rev/sec= %.5f\"%w)"
   ]
  },
  {
   "cell_type": "markdown",
   "metadata": {},
   "source": [
    "# Example 40.3 Calculation of c"
   ]
  },
  {
   "cell_type": "code",
   "execution_count": 3,
   "metadata": {
    "collapsed": false
   },
   "outputs": [
    {
     "name": "stdout",
     "output_type": "stream",
     "text": [
      "Lambda_g in cm= 3.9\n",
      "Value of c in m/sec= 2.992e+10\n"
     ]
    }
   ],
   "source": [
    "l=15.6 #in cm\n",
    "n=8\n",
    "lambda_g=(2*l)/n\n",
    "print(\"Lambda_g in cm=\",lambda_g)\n",
    "lamda=3.15  #in cm\n",
    "f=9.5*10**9 #cycles/sec\n",
    "c=lamda*f\n",
    "print(\"Value of c in m/sec= %.3e\"%c)"
   ]
  },
  {
   "cell_type": "markdown",
   "metadata": {},
   "source": [
    "# Example 40.4 Percentage error"
   ]
  },
  {
   "cell_type": "code",
   "execution_count": 4,
   "metadata": {
    "collapsed": false
   },
   "outputs": [
    {
     "name": "stdout",
     "output_type": "stream",
     "text": [
      "Speed of light in miles/hour= 50000\n"
     ]
    }
   ],
   "source": [
    "v_1=25000 #miles/hr\n",
    "u=25000   #miles/hr\n",
    "c=6.7*10**8 #miles/hr\n",
    "x=1+((v_1*u)/(c)**2)\n",
    "v=(v_1+u)/x\n",
    "print(\"Speed of light in miles/hour= %.0f\"%v)"
   ]
  }
 ],
 "metadata": {
  "kernelspec": {
   "display_name": "Python 3",
   "language": "python",
   "name": "python3"
  },
  "language_info": {
   "codemirror_mode": {
    "name": "ipython",
    "version": 3
   },
   "file_extension": ".py",
   "mimetype": "text/x-python",
   "name": "python",
   "nbconvert_exporter": "python",
   "pygments_lexer": "ipython3",
   "version": "3.5.1"
  },
  "widgets": {
   "state": {},
   "version": "1.1.2"
  }
 },
 "nbformat": 4,
 "nbformat_minor": 0
}
