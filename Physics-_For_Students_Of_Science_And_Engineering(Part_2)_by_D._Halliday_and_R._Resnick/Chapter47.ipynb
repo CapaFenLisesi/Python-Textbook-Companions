{
 "cells": [
  {
   "cell_type": "markdown",
   "metadata": {},
   "source": [
    "# Chapter 47 LIGHT AND QUANTUM PHYSICS"
   ]
  },
  {
   "cell_type": "markdown",
   "metadata": {},
   "source": [
    "# Example 47.1 Velocity"
   ]
  },
  {
   "cell_type": "code",
   "execution_count": 1,
   "metadata": {
    "collapsed": false
   },
   "outputs": [
    {
     "name": "stdout",
     "output_type": "stream",
     "text": [
      "Velocity in cycles/s 0.71176\n"
     ]
    }
   ],
   "source": [
    "import math\n",
    "k=20 #in nt/m\n",
    "m=1  #in kg\n",
    "\n",
    "v=(math.sqrt((k)/(m)))*(1/(2*math.pi))\n",
    "print(\"Velocity in cycles/s %.5f\"%v)"
   ]
  },
  {
   "cell_type": "markdown",
   "metadata": {},
   "source": [
    "# Example 47.2 Time calculation"
   ]
  },
  {
   "cell_type": "code",
   "execution_count": 2,
   "metadata": {
    "collapsed": false
   },
   "outputs": [
    {
     "name": "stdout",
     "output_type": "stream",
     "text": [
      "Power in j-sec 1.000000e-23\n",
      "('Time reqired in sec =', 80000.0)\n",
      "Time required in hour 22.22224\n"
     ]
    }
   ],
   "source": [
    "P=(10**(-3))*(3*10**(-18))/(300)\n",
    "print(\"Power in j-sec %e\"%P)\n",
    "s=1.6*(10**(-19))\n",
    "t=(5*s)/P\n",
    "print(\"Time reqired in sec =\",t)\n",
    "one_sec=0.000277778 #hr\n",
    "in_hour=one_sec*t\n",
    "print(\"Time required in hour %.5f\"%in_hour)"
   ]
  },
  {
   "cell_type": "markdown",
   "metadata": {},
   "source": [
    "# Example 47.3 Work function for sodium"
   ]
  },
  {
   "cell_type": "code",
   "execution_count": 3,
   "metadata": {
    "collapsed": false
   },
   "outputs": [
    {
     "name": "stdout",
     "output_type": "stream",
     "text": [
      "Energy in joule= 2.911e-19\n"
     ]
    }
   ],
   "source": [
    "h=6.63*10**(-34) #in joule/sec\n",
    "v=4.39*10**(14) #cycles/sec\n",
    "E_o=h*(v)\n",
    "print(\"Energy in joule= %.3e\"%E_o)"
   ]
  },
  {
   "cell_type": "markdown",
   "metadata": {},
   "source": [
    "# Example 47.4 Kinetic energy to be imparten on recoiling electron"
   ]
  },
  {
   "cell_type": "code",
   "execution_count": null,
   "metadata": {
    "collapsed": true
   },
   "outputs": [],
   "source": [
    "h=(6.63)*10**-34\n",
    "m=9.11*10**-31\n",
    "c=3*10**8\n",
    "delta_h=(h/(m*c))*(1-math.cos(90))\n",
    "print(\"(A) Compton shift in meter %.3e\",delta_h)\n",
    "delta=1*10**-10\n",
    "k=(h*c*delta_h)/(delta*(delta+delta_h))\n",
    "print(\"(B) Kinetic energy in joules\",k)"
   ]
  }
 ],
 "metadata": {
  "anaconda-cloud": {},
  "kernelspec": {
   "display_name": "Python 3",
   "language": "python",
   "name": "python3"
  },
  "language_info": {
   "codemirror_mode": {
    "name": "ipython",
    "version": 3
   },
   "file_extension": ".py",
   "mimetype": "text/x-python",
   "name": "python",
   "nbconvert_exporter": "python",
   "pygments_lexer": "ipython3",
   "version": "3.5.1"
  },
  "widgets": {
   "state": {},
   "version": "1.1.2"
  }
 },
 "nbformat": 4,
 "nbformat_minor": 0
}
