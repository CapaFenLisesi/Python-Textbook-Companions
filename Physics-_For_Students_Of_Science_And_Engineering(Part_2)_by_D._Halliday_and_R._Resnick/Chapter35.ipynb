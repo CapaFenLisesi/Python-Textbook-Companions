{
 "cells": [
  {
   "cell_type": "markdown",
   "metadata": {},
   "source": [
    "# Chapter 35 FARADAYS LAW"
   ]
  },
  {
   "cell_type": "markdown",
   "metadata": {},
   "source": [
    "# Example 35.1 Induced EMF"
   ]
  },
  {
   "cell_type": "code",
   "execution_count": 2,
   "metadata": {
    "collapsed": false
   },
   "outputs": [
    {
     "name": "stdout",
     "output_type": "stream",
     "text": [
      "Magnetic field at center in wb/m2 is 0.0376991\n",
      "Magnetic flux at the center of the solenoid in weber is 0.0000118\n",
      "Induced EMF in volts is -0.0473741\n"
     ]
    }
   ],
   "source": [
    "import math \n",
    "l=1.0 #length of solenoid in meter\n",
    "r=3*10**-2 #radius of solenoid in meter\n",
    "n=200*10**2 #number of turns in solenoid per meter\n",
    "u0=4*math.pi*10**-7 #in weber/amp-m\n",
    "i=1.5 #current in amp\n",
    "N=100 #no.of turns in a close packed coil placed at the center of solenoid\n",
    "d=2*10**-2 #diameter of coil in meter\n",
    "delta_T=0.050 #in sec\n",
    "#(A)\n",
    "B=u0*i*n\n",
    "print(\"Magnetic field at center in wb/m2 is %.7f\"%B)\n",
    "#(B)\n",
    "A=math.pi*(d/2)**2\n",
    "Q=B*A\n",
    "print(\"Magnetic flux at the center of the solenoid in weber is %.7f\"%Q)\n",
    "delta_Q=Q-(-Q)\n",
    "E=-(N*delta_Q/delta_T)\n",
    "print(\"Induced EMF in volts is %.7f\"%E)"
   ]
  },
  {
   "cell_type": "markdown",
   "metadata": {},
   "source": [
    "# Example 35.7 Induced electric ﬁeld and EMF"
   ]
  },
  {
   "cell_type": "code",
   "execution_count": 1,
   "metadata": {
    "collapsed": false
   },
   "outputs": [
    {
     "name": "stdout",
     "output_type": "stream",
     "text": [
      "Let S be the frame of reference fixed w.r.t  the magnet and Z be the frame of reference w.r.t the loop\n",
      "(A) Induced electric field in volt/m observed by Z 2.0\n",
      "(B) Force acting on charge carrier in nt w.r.t S is 3.2e-19\n",
      "Force acting on charge carrier in nt w.r.t Z is 3.2e-19\n",
      "(C) Induced emf in volt observed by S is 0.2\n",
      "Induced emf in volt observed by Z is 0.2\n"
     ]
    }
   ],
   "source": [
    "B=2 #magnetic field in wb/m2\n",
    "l=10*10**-2 #in m\n",
    "v=1.0 #in m/sec\n",
    "q=1.6*10**-19 #charge in coul\n",
    "print(\"Let S be the frame of reference fixed w.r.t  the magnet and Z be the frame of reference w.r.t the loop\")\n",
    "#(A)\n",
    "E=v*B\n",
    "print(\"(A) Induced electric field in volt/m observed by Z\",E)\n",
    "#(B)\n",
    "F=q*v*B\n",
    "print(\"(B) Force acting on charge carrier in nt w.r.t S is %.1e\"%F)\n",
    "F1=q*E\n",
    "print(\"Force acting on charge carrier in nt w.r.t Z is %.1e\"%F1)\n",
    "#(C)\n",
    "emf1=B*l*v\n",
    "print(\"(C) Induced emf in volt observed by S is\",emf1)\n",
    "emf2=E*l\n",
    "print(\"Induced emf in volt observed by Z is\",emf2)"
   ]
  }
 ],
 "metadata": {
  "anaconda-cloud": {},
  "kernelspec": {
   "display_name": "Python 3",
   "language": "python",
   "name": "python3"
  },
  "language_info": {
   "codemirror_mode": {
    "name": "ipython",
    "version": 3
   },
   "file_extension": ".py",
   "mimetype": "text/x-python",
   "name": "python",
   "nbconvert_exporter": "python",
   "pygments_lexer": "ipython3",
   "version": "3.5.1"
  },
  "widgets": {
   "state": {},
   "version": "1.1.2"
  }
 },
 "nbformat": 4,
 "nbformat_minor": 0
}
