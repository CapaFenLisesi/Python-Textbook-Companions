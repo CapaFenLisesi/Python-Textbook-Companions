{
 "metadata": {
  "name": "",
  "signature": "sha256:49fb320e4e9f8bda8c482a6df5a6d862902fe6b1b70d63f85fdebe1d70bf5a2c"
 },
 "nbformat": 3,
 "nbformat_minor": 0,
 "worksheets": [
  {
   "cells": [
    {
     "cell_type": "heading",
     "level": 1,
     "metadata": {},
     "source": [
      "Chapter7-Beams and Bendings"
     ]
    },
    {
     "cell_type": "heading",
     "level": 2,
     "metadata": {},
     "source": [
      "Ex2-pg234"
     ]
    },
    {
     "cell_type": "code",
     "collapsed": false,
     "input": [
      "import math\n",
      "import numpy\n",
      "#calculate sf and Bm\n",
      "import matplotlib\n",
      "from matplotlib import pyplot\n",
      "%matplotlib inline\n",
      "#initialization of variables\n",
      "s=3. #m\n",
      "n=60.\n",
      "p=50. #kg\n",
      "## calculations\n",
      "W=n*p\n",
      "Rc=W*2./s\n",
      "Rb=W-Rc\n",
      "dx = 0.001;\n",
      "x = numpy.linspace(0,s,3001)\n",
      "n = round(s/dx +1);\n",
      "n=int(n)\n",
      "Sx=numpy.zeros(n)\n",
      "Mx=numpy.zeros(n)\n",
      "i=0;\n",
      "for i in range (0,n):\n",
      "    Sx[i] = -Rb + Rc*x[i]**2./6.;\n",
      "    Mx[i] = Rb*x[i] - Rc*x[i]**3 /18.;\n",
      "\n",
      "##Results\n",
      "pyplot.plot(x,Sx);pyplot.title(\"Shear force diagram\");pyplot.xlabel(\"X (in m)\");pyplot.ylabel(\"Shear force (in kg)\");\n",
      "pyplot.show()\n",
      "pyplot.plot(x,Mx);pyplot.title(\"Bending Moment diagram\");pyplot.xlabel(\"X (in m)\");pyplot.ylabel(\"Bending Moment (in kg-m)\");\n",
      "pyplot.show()"
     ],
     "language": "python",
     "metadata": {},
     "outputs": [
      {
       "metadata": {},
       "output_type": "display_data",
       "png": "[encoded data removed]",
       "text": [
        "<matplotlib.figure.Figure at 0x1d2b1f0>"
       ]
      },
      {
       "metadata": {},
       "output_type": "display_data",
       "png": "[encoded data removed]",
       "text": [
        "<matplotlib.figure.Figure at 0x5910590>"
       ]
      }
     ],
     "prompt_number": 5
    },
    {
     "cell_type": "heading",
     "level": 2,
     "metadata": {},
     "source": [
      "Ex8-pg249"
     ]
    },
    {
     "cell_type": "code",
     "collapsed": false,
     "input": [
      "import math\n",
      "##initialization of new variables\n",
      "#centriod of the section and momets of inertia and product of inertia about xx and yy axes and direction of principal axes and value of maximum and minimum\n",
      "b=10075 ##mm\n",
      "h=10 ##mm\n",
      "p1=7.5\n",
      "p2=9\n",
      "##part (a)\n",
      "ybar=1*p1*0.5+1*p2*5.5\n",
      "ybar=ybar/16.5\n",
      "xbar=1*p1*0.5+1*p1*4.75\n",
      "xbar=xbar/16.5\n",
      "print('part (a)')\n",
      "print'%s %.2f %s %.2f %s '%('\\n Centroid coordinates (x,y) = ',xbar,''and '',ybar,'cm')\n",
      "\n",
      "##part (b)\n",
      "Ixx=p1*1**3/12.+p1*1*(3.23-0.5)**2+1*p2**3/12.+p2*1*(5.5-3.23)**2\n",
      "Iyy=1*p1**3/12.+p1*1*(3.75-2.43)**2+p2*1**3/12.+p2*1*(2.43-0.5)**2\n",
      "Ixy=p1*1.32*2.73+9*(-1.93)*(-2.27)\n",
      "print('\\n part (b)')\n",
      "print'%s %.2f %s %.2f %s %.2f %s '%('\\n Moment of Areas: \\n Ixx = ',Ixx,' cm^4 \\n Iyy = ',Iyy,' cm^4' and'Ixy=',Ixy,'cm^4')\n",
      "\n",
      "##part (c)\n",
      "alpha=0.5*math.atan(2*Ixy/(Iyy-Ixx))\n",
      "alpha=alpha*180/math.pi\n",
      "print('\\n part (c)')\n",
      "print('\\n Direction of principal axes:')\n",
      "print'%s %.2f %s'%('\\n alpha = ',alpha,' degrees')\n",
      "\n",
      "##part (d)\n",
      "Iuu=(Ixx+Iyy)/2+math.sqrt((Iyy-Ixx)**2/4.+Ixy**2)\n",
      "Ivv=(Ixx+Iyy)/2-math.sqrt((Iyy-Ixx)**2/4.+Ixy**2)\n",
      "print('\\n part (d)')\n",
      "print'%s %.2f %s %.2f %s '%('\\n Iuu = ',Iuu,' cm^4 \\n Ivv = ',Ivv,' cm^4')\n"
     ],
     "language": "python",
     "metadata": {},
     "outputs": [
      {
       "output_type": "stream",
       "stream": "stdout",
       "text": [
        "part (a)\n",
        "\n",
        " Centroid coordinates (x,y) =  2.39  3.23 cm \n",
        "\n",
        " part (b)\n",
        "\n",
        " Moment of Areas: \n",
        " Ixx =  163.65  cm^4 \n",
        " Iyy =  82.50 Ixy= 66.46 cm^4 \n",
        "\n",
        " part (c)\n",
        "\n",
        " Direction of principal axes:\n",
        "\n",
        " alpha =  -29.30  degrees\n",
        "\n",
        " part (d)\n",
        "\n",
        " Iuu =  200.94  cm^4 \n",
        " Ivv =  45.21  cm^4 \n"
       ]
      }
     ],
     "prompt_number": 1
    },
    {
     "cell_type": "heading",
     "level": 2,
     "metadata": {},
     "source": [
      "Ex10-pg256"
     ]
    },
    {
     "cell_type": "code",
     "collapsed": false,
     "input": [
      "import math\n",
      "##initialization of variables\n",
      "#determine bending stress and find the minimum radius \n",
      "Ys=17000. ##kg/cm^2\n",
      "E=2*10**6 ##kg/cm^2\n",
      "d1=1. ##mm\n",
      "d=1. ##cm\n",
      "##calculations: 1 cm\n",
      "R=E*d/(2*Ys)\n",
      "M=Ys*math.pi*d**3/32.\n",
      "## results\n",
      "print'%s %.2f %s'%(' daimeter wire:',d,'cm')\n",
      "print'%s %.2f %s'%('\\n Minimum radius = ',R,' cm')\n",
      "print'%s %.2f %s'%('\\n Bending Moment = ',M,' kg-cm')\n",
      "## calculations: 1 mm\n",
      "R1=R/(d1*10.)\n",
      "M1=M/(d1*1000.)\n",
      "## results\n",
      "print'%s %.2f %s'%('\\n  daimeter wire:',d1,'mm')\n",
      "print'%s %.2f %s'%('\\n Minimum radius = ',R1,' cm')\n",
      "print'%s %.2f %s'%('\\n Bending Moment = ',M1,' kg-cm')\n"
     ],
     "language": "python",
     "metadata": {},
     "outputs": [
      {
       "output_type": "stream",
       "stream": "stdout",
       "text": [
        " daimeter wire: 1.00 cm\n",
        "\n",
        " Minimum radius =  58.82  cm\n",
        "\n",
        " Bending Moment =  1668.97  kg-cm\n",
        "\n",
        "  daimeter wire: 1.00 mm\n",
        "\n",
        " Minimum radius =  5.88  cm\n",
        "\n",
        " Bending Moment =  1.67  kg-cm\n"
       ]
      }
     ],
     "prompt_number": 2
    },
    {
     "cell_type": "heading",
     "level": 2,
     "metadata": {},
     "source": [
      "Ex11-pg258"
     ]
    },
    {
     "cell_type": "code",
     "collapsed": false,
     "input": [
      "#calculate the section modulus per meter width of plate \n",
      "##initialization of variables\n",
      "import math\n",
      "t=0.5 ##cm\n",
      "s=2. ##m\n",
      "p1=7.5 ##cm\n",
      "p2=10. ##cm\n",
      "d=p2/2.\n",
      "D=1650. ##kg/cm**2\n",
      "## calculations\n",
      "## ab\n",
      "IxX=p1*t**3./12.+t*p1*d**2.\n",
      "## bc\n",
      "alpha=math.atan(3/4.)*57.3\n",
      "Ixx=t*(p1+d)**3./12.\n",
      "Iyy=0.\n",
      "Ixy=0.\n",
      "Iuu=Ixx*math.cos(alpha)**2+Iyy*math.sin(alpha)**2-Ixy*math.sin(2.*alpha)\n",
      "Ixx=Iuu+IxX\n",
      "IXX=Ixx*100./(2.*p1)\n",
      "Z=IXX/(d+t/2.)\n",
      "w=D*Z*8./(s**2*100.)\n",
      "w=w/1000.\n",
      "##Results\n",
      "print'%s %.2f %s'%('w = ',w,' tonne/m')\n"
     ],
     "language": "python",
     "metadata": {},
     "outputs": [
      {
       "output_type": "stream",
       "stream": "stdout",
       "text": [
        "w =  5.50  tonne/m\n"
       ]
      }
     ],
     "prompt_number": 3
    },
    {
     "cell_type": "heading",
     "level": 2,
     "metadata": {},
     "source": [
      "Ex12-pg261"
     ]
    },
    {
     "cell_type": "code",
     "collapsed": false,
     "input": [
      "#find the total u.d load that can be supported \n",
      "##initialization of variables\n",
      "import math\n",
      "wb=10. ##cm\n",
      "wh=20. ##cm\n",
      "sb=0.5 ##cm\n",
      "sh=10. ##cm\n",
      "s=6. ##m\n",
      "fs=1650. ##kg/cm^2\n",
      "fw=150. ##kg/cm^2\n",
      "Es=2*10**6 ##kg/cm^2\n",
      "Ew=12*10**4 ##kg/cm^2\n",
      "\n",
      "##calculations\n",
      "## Method 1\n",
      "A=2*fs/(21.*Es)\n",
      "aw=2.*fw/(20.*Ew)\n",
      "a=min(A,aw)\n",
      "ss=a*Ew*wh/2.\n",
      "##Moment resistance of steel portion\n",
      "F=(fs+1573.)/2.*sb*sh\n",
      "k=sb/3*(fs+2*1573.)/(fs+1573.)\n",
      "Ms=2*F*(10.5-k)\n",
      "##Moment resistance of wooden portion\n",
      "F=ss*wb*wb/2.\n",
      "Mw=2*(F*(wb-wb/3.))\n",
      "M=Ms+Mw\n",
      "##Total udl supported\n",
      "W=M*8./(s*100.)\n",
      "\n",
      "##Results\n",
      "print('Using method 1')\n",
      "print'%s %.2f %s'%('\\n W = ',W,' kg')\n",
      "\n",
      "##Method 2\n",
      "nE=Es/Ew\n",
      "nf=fs/fw\n",
      "Is=2*(0+sb*sh*10.25**2)\n",
      "Iw=0.6*wh**3/12.\n",
      "I=Is+Iw\n",
      "W=fs*I*8./(s*100*10.5)\n",
      "\n",
      "##Results\n",
      "print('\\n Using method 2')\n",
      "print'%s %.2f %s'%('\\n W = ',W,' kg')\n"
     ],
     "language": "python",
     "metadata": {},
     "outputs": [
      {
       "output_type": "stream",
       "stream": "stdout",
       "text": [
        "Using method 1\n",
        "\n",
        " W =  3040.91  kg\n",
        "\n",
        " Using method 2\n",
        "\n",
        " W =  3039.40  kg\n"
       ]
      }
     ],
     "prompt_number": 4
    },
    {
     "cell_type": "heading",
     "level": 2,
     "metadata": {},
     "source": [
      "Ex13-pg264"
     ]
    },
    {
     "cell_type": "code",
     "collapsed": false,
     "input": [
      "#calculate stiffness ratio \n",
      "##initialization of variables\n",
      "import math\n",
      "p=6. ##mm\n",
      "Ixx=2375. ##cm**4\n",
      "Es=2*10**6. ##kg/cm**2\n",
      "EAl=0.667*10**6 ##kg/cm**2\n",
      "d1=10.6 ##cm\n",
      "d2=10. ##cm\n",
      "## calculations\n",
      "I1=2.*(0.+p/10*10*10.3**2)\n",
      "I2=Ixx*EAl/Es\n",
      "I=I1+I2\n",
      "n=I/I2\n",
      "## results\n",
      "print'%s %.2f %s'%('stiffness ratio =  ',n,'')\n",
      "n1=Es*d1/(d2*EAl)\n",
      "print'%s %.2f %s'%('\\n Stress ration = ',n1,'')\n"
     ],
     "language": "python",
     "metadata": {},
     "outputs": [
      {
       "output_type": "stream",
       "stream": "stdout",
       "text": [
        "stiffness ratio =   2.61 \n",
        "\n",
        " Stress ration =  3.18 \n"
       ]
      }
     ],
     "prompt_number": 5
    },
    {
     "cell_type": "heading",
     "level": 2,
     "metadata": {},
     "source": [
      "Ex14-pg269"
     ]
    },
    {
     "cell_type": "code",
     "collapsed": false,
     "input": [
      "#calculate shape factor \n",
      "##initilization of new variables\n",
      "import math\n",
      "wt=0.8 ##cm\n",
      "ft=1.4 ##cm\n",
      "w=10. ##cm\n",
      "y=20. ##cm\n",
      "## Sigma_y: yield stress is not given explicitly\n",
      "k1=wt*(40.-2*ft)/2.\n",
      "Zp=(14*19.3+k1*9.3)*2\n",
      "If=2*(w*ft**3/12+w*ft*19.3**2)\n",
      "Iw=wt*(40-2*ft)**3/12.\n",
      "I=Iw+If\n",
      "Z=I/y\n",
      "sf=Zp/Z\n",
      "##Results\n",
      "print'%s %.2f %s'%('shape factor =  ',sf,'')\n"
     ],
     "language": "python",
     "metadata": {},
     "outputs": [
      {
       "output_type": "stream",
       "stream": "stdout",
       "text": [
        "shape factor =   1.18 \n"
       ]
      }
     ],
     "prompt_number": 6
    },
    {
     "cell_type": "heading",
     "level": 2,
     "metadata": {},
     "source": [
      "Ex15-pg270"
     ]
    },
    {
     "cell_type": "code",
     "collapsed": false,
     "input": [
      "#calculate elastic core \n",
      "##initilization of new variables\n",
      "import math\n",
      "wt=0.8 ##cm\n",
      "ft=1.4 ##cm\n",
      "w=10. ##cm\n",
      "y=20. ##cm\n",
      "T=750. ##T==750*sigma_y\n",
      "## calculations\n",
      "MpF=ft*w*(40-2*ft)\n",
      "c1=((40.-2*ft)/2)**2-(T-MpF)/wt\n",
      "c=math.sqrt(3*c1)\n",
      "## results\n",
      "print'%s %.2f %s'%('Elastic core of ',2*c,' cm depth is present')\n"
     ],
     "language": "python",
     "metadata": {},
     "outputs": [
      {
       "output_type": "stream",
       "stream": "stdout",
       "text": [
        "Elastic core of  26.71  cm depth is present\n"
       ]
      }
     ],
     "prompt_number": 7
    },
    {
     "cell_type": "heading",
     "level": 2,
     "metadata": {},
     "source": [
      "Ex17-pg274"
     ]
    },
    {
     "cell_type": "code",
     "collapsed": false,
     "input": [
      "#find stress at the inner side of the hook \n",
      "##initialization of new variables\n",
      "P=2000. ##kg\n",
      "a=4. ##cm\n",
      "b=1. ##cm\n",
      "d=7. ##cm\n",
      "r=3. ##cm\n",
      "## calculations\n",
      "A=(a+b)/2*d\n",
      "xbar=(a+b*2.)*d/(r*(a+b))\n",
      "rbar=r+xbar\n",
      "I=b*d**3/12.+r*d**3/12.\n",
      "Ixx=I-A*2.8**2\n",
      "e=Ixx/(rbar*A)\n",
      "f1=P*5.8*(xbar-0.62)/(A*0.62*r)\n",
      "f2=P*5.8*(-d+2.18)/(A*0.62*(5.18+d-2.18))\n",
      "str=P/A\n",
      "Str_i=f1+str\n",
      "Str_o=-f2-str\n",
      "##Results\n",
      "print'%s %.2f %s'%('stress at the inner side of the hook =',Str_i,' kg/cm^2 (tensile)')\n",
      "print'%s %.2f %s'%('\\n stress at the outer side of the hook = ',Str_o,' kg/cm^2 (compressive)')\n",
      "## approximations involved in the text\n"
     ],
     "language": "python",
     "metadata": {},
     "outputs": [
      {
       "output_type": "stream",
       "stream": "stdout",
       "text": [
        "stress at the inner side of the hook = 891.18  kg/cm^2 (tensile)\n",
        "\n",
        " stress at the outer side of the hook =  401.03  kg/cm^2 (compressive)\n"
       ]
      }
     ],
     "prompt_number": 8
    },
    {
     "cell_type": "heading",
     "level": 2,
     "metadata": {},
     "source": [
      "Ex20-pg281"
     ]
    },
    {
     "cell_type": "code",
     "collapsed": false,
     "input": [
      "#  find Ratio of maximum bending stress in the stem and flange at various point\n",
      "##initialization of new variables\n",
      "import math\n",
      "t=1. ##cm\n",
      "a=40. ##cm\n",
      "A=236.\n",
      "## calculations\n",
      "ybar=a*t*0.5+(50-1)*4*0.5/(a*t+(50-1)*4)\n",
      "y1bar=1.25*a-ybar\n",
      "IAA=a*t**3/3.+(50-1)**3*4/12.+(50-1)*4*25.5**2\n",
      "Io=IAA-A*ybar**2.\n",
      "##part (1)\n",
      "r=y1bar/ybar\n",
      "## results\n",
      "print('Ratio of maximum bending stress in the stem and flange')\n",
      "print'%s %.2f %s'%('\\n Ratio = ',r,'')\n",
      "##part(2)\n",
      "## calculations\n",
      "r=(2/3.*388*29.56)-(2/3.*160*20.44)-(228*20.44)\n",
      "r=r/(2*2/3.*388*29.56)\n",
      "## results\n",
      "print('\\n Ratio of S.F in flange to total S.F')\n",
      "print'%s %.2f %s'%('\\n Ratio = ',r*100,' percent')\n",
      "## part (3)\n",
      "## calculations\n",
      "r=359.*200./Io\n",
      "## results\n",
      "print('\\n Ratio of maximum shear stress in the flange to average sher stress in the stem')\n",
      "print'%s %.2f %s'%('\\n Ratio =  ',r,'')\n",
      "##part (4)\n",
      "## calculations\n",
      "s=10 ##m\n",
      "r=r/0.922\n",
      "sigma=1650 ##kg/cm**2\n",
      "shear=945 ##kg/cm**2\n",
      "wsh=2*200*shear/(r*s)\n",
      "wsi=8*Io*sigma/(s**2*10*29.56)\n",
      "w=min(wsh,wsi)\n",
      "## results\n",
      "print'%s %.2f %s'%('\\n Maximum u.d.l. = ',w,' kg/m ')\n",
      "\n",
      "print('wrong moment of Inertia (Io) in the text and hence part (3) and part (4) are wrong')\n"
     ],
     "language": "python",
     "metadata": {},
     "outputs": [
      {
       "output_type": "stream",
       "stream": "stdout",
       "text": [
        "Ratio of maximum bending stress in the stem and flange\n",
        "\n",
        " Ratio =  1.45 \n",
        "\n",
        " Ratio of S.F in flange to total S.F\n",
        "\n",
        " Ratio =  5.27  percent\n",
        "\n",
        " Ratio of maximum shear stress in the flange to average sher stress in the stem\n",
        "\n",
        " Ratio =   1.05 \n",
        "\n",
        " Maximum u.d.l. =  30507.35  kg/m \n",
        "wrong moment of Inertia (Io) in the text and hence part (3) and part (4) are wrong\n"
       ]
      }
     ],
     "prompt_number": 9
    },
    {
     "cell_type": "heading",
     "level": 2,
     "metadata": {},
     "source": [
      "Ex21-pg284"
     ]
    },
    {
     "cell_type": "code",
     "collapsed": false,
     "input": [
      "#find the design force two cases\n",
      "##initialization of new variables\n",
      "import math\n",
      "a=30. ##cm\n",
      "t=2.5 ##cm\n",
      "S=15. ##cm\n",
      "s=5. ##Tonne\n",
      "## calculations\n",
      "I=a*a**3-25*25**3\n",
      "I=I/12.\n",
      "tau_zx=s*1000.*27.5*t*25/(4*35000.*t)\n",
      "FA=S*t*tau_zx\n",
      "tau_xy=s*1000.*a*t*27.5/(4.*35000.*t)\n",
      "FB=tau_xy*t*S\n",
      "##Results\n",
      "print'%s %.2f %s'%('case A \\n F = ',FA,' kg')\n",
      "print'%s %.2f %s'%('\\n case B \\n F= ',FB,' kg')\n"
     ],
     "language": "python",
     "metadata": {},
     "outputs": [
      {
       "output_type": "stream",
       "stream": "stdout",
       "text": [
        "case A \n",
        " F =  920.76  kg\n",
        "\n",
        " case B \n",
        " F=  1104.91  kg\n"
       ]
      }
     ],
     "prompt_number": 10
    },
    {
     "cell_type": "heading",
     "level": 2,
     "metadata": {},
     "source": [
      "Ex23-pg288"
     ]
    },
    {
     "cell_type": "code",
     "collapsed": false,
     "input": [
      "#calculate shear centre\n",
      "##initialization of variables\n",
      "import math\n",
      "h=40. ##cm\n",
      "b=10. ##cm\n",
      "t1=1.4 ##cm\n",
      "t2=0.8 ##cm\n",
      "Ixx=13989.5 ##cm^4\n",
      "##calculations\n",
      "e=b**2*h**2*t1/(4.*Ixx)*(1-t1/h-t1/b+t1**2/(b*h))*(1-t1/h)\n",
      "##Results\n",
      "print'%s %.2f %s'%('Shear center: \\n e = ',e,' cm')\n"
     ],
     "language": "python",
     "metadata": {},
     "outputs": [
      {
       "output_type": "stream",
       "stream": "stdout",
       "text": [
        "Shear center: \n",
        " e =  3.21  cm\n"
       ]
      }
     ],
     "prompt_number": 11
    },
    {
     "cell_type": "heading",
     "level": 2,
     "metadata": {},
     "source": [
      "Ex33-pg303"
     ]
    },
    {
     "cell_type": "code",
     "collapsed": false,
     "input": [
      "#calculate deflection\n",
      "##initialization of new variables\n",
      "import math\n",
      "L=50. ##cm\n",
      "k=15. ##cm\n",
      "I=200. ##cm^4\n",
      "II=40. ##cm^4\n",
      "d=30. ##cm\n",
      "Pd=40. ##cm\n",
      "E=0.6667*10**6 ##kg/cm^2\n",
      "##calculations\n",
      "delta=(100.*10./2*16.33+L*d*35+L*k/2.*25+d*k/2.*45)\n",
      "delta1=delta/E\n",
      "##Results\n",
      "print'%s %.2f %s'%('deflection = ',delta1*10**1,'mm')\n"
     ],
     "language": "python",
     "metadata": {},
     "outputs": [
      {
       "output_type": "stream",
       "stream": "stdout",
       "text": [
        "deflection =  1.20 mm\n"
       ]
      }
     ],
     "prompt_number": 12
    },
    {
     "cell_type": "heading",
     "level": 2,
     "metadata": {},
     "source": [
      "Ex39-pg312"
     ]
    },
    {
     "cell_type": "code",
     "collapsed": false,
     "input": [
      "#design suitable I design section\n",
      "W=1\n",
      "L=6\n",
      "f=1650\n",
      "Z=305.9\n",
      "w=31.2\n",
      "z=8\n",
      "t=0.65\n",
      "d=22.5\n",
      "M=4.5*10**5\n",
      "##part(i)\n",
      "#maximum B.M\n",
      "BM= W*L**2/(z)\n",
      "SF=W*L/2\n",
      "print'%s %.2f %s %.2f %s '%('Bm=',Bm,''and '',SF,'')\n",
      "#part(ii)\n",
      "Z=M/f\n",
      "#part(iii)\n",
      "#for ISMB 225 having weight 31.2\n",
      "Z1=305.9\n",
      "print'%s %.2f %s'%('z=',Z1,'')\n",
      "#Additional Beam\n",
      "Bm=w*12/z\n",
      "Z2=Bm/f\n",
      "TZ=Z+Z2\n",
      "print'%s %.2f %s'%('TZ=',TZ,'')\n",
      "#thickness\n",
      "WA=t*d\n",
      "print'%s %.2f %s'%('WA=',WA,'')"
     ],
     "language": "python",
     "metadata": {},
     "outputs": [
      {
       "output_type": "stream",
       "stream": "stdout",
       "text": [
        "Bm= 4.00  3.00  \n",
        "z= 305.90 \n",
        "TZ= 272.76 \n",
        "WA= 14.62 \n"
       ]
      }
     ],
     "prompt_number": 19
    }
   ],
   "metadata": {}
  }
 ]
}