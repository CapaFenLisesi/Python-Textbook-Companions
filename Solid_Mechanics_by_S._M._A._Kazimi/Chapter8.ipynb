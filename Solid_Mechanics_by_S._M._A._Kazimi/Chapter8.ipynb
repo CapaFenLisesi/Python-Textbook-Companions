{
 "metadata": {
  "name": "",
  "signature": "sha256:d68e0c119bd3bfe882788d74028fcc8cbbdbb80bd702bb1bf7bdb0ffe972f8d9"
 },
 "nbformat": 3,
 "nbformat_minor": 0,
 "worksheets": [
  {
   "cells": [
    {
     "cell_type": "heading",
     "level": 1,
     "metadata": {},
     "source": [
      "Chapter8-Stability of Equlibrium-Columns"
     ]
    },
    {
     "cell_type": "heading",
     "level": 2,
     "metadata": {},
     "source": [
      "Ex1-pg330"
     ]
    },
    {
     "cell_type": "code",
     "collapsed": false,
     "input": [
      "#calculate maximum axial load and for both ends and and fixed and one fix and one pinned\n",
      "## initialization of variables\n",
      "import math\n",
      "L=5. ##m\n",
      "D=20. ##cm\n",
      "t=1. ##cm\n",
      "E=2*10**6 ##kg/cm^2\n",
      "I=2502. ##cm^4\n",
      "L=5*100. ##cm\n",
      "## calculations\n",
      "P=E*I/(4.*L**2)\n",
      "## results\n",
      "print'%s %.2f %s'%('The maximal axial load taken is ',P/100,' Tonne')\n",
      "print'%s %.2f %s'%('\\n for both ends pinned, P=',P*4/100,' Tonne',)\n",
      "print'%s %.2f %s'%('\\n for both ends fixed, P=',P*16/100,' Tonne')\n",
      "print'%s %.2f %s'%('\\n for one end fixed, one pinned, P=',P*4*2.13/100,' Tonne')\n",
      "\n",
      "## Evaluation of critical load (P) in the text is wrong\n",
      "\n",
      "\n"
     ],
     "language": "python",
     "metadata": {},
     "outputs": [
      {
       "output_type": "stream",
       "stream": "stdout",
       "text": [
        "The maximal axial load taken is  50.04  Tonne\n",
        "\n",
        " for both ends pinned, P= 200.16  Tonne\n",
        "\n",
        " for both ends fixed, P= 800.64  Tonne\n",
        "\n",
        " for one end fixed, one pinned, P= 426.34  Tonne\n"
       ]
      }
     ],
     "prompt_number": 9
    },
    {
     "cell_type": "heading",
     "level": 2,
     "metadata": {},
     "source": [
      "Ex2-pg331"
     ]
    },
    {
     "cell_type": "code",
     "collapsed": false,
     "input": [
      "#calculate actual critical length ratio and critical length ratio \n",
      "##initialization of variables\n",
      "import math\n",
      "E=2*10**6. ##kg/cm**2\n",
      "sigma_y=2600. ##kg/cm**2\n",
      "I=2502. ##cm**4\n",
      "L=500. ##cm\n",
      "A=59.7 ##cm**2\n",
      "L_tcr=L/math.sqrt(I/A)\n",
      "\n",
      "print'%s %.2f %s'%('The actual critical length ratio is',L_tcr,'')\n",
      "##case (b)\n",
      "L_cr=math.sqrt(E*math.pi**2/sigma_y)\n",
      "print('\\n case (b)')\n",
      "print'%s %.2f %s'%('\\n The critical length ratio is ',L_cr,'')\n",
      "\n",
      "##case (a)\n",
      "L_cr=math.sqrt(E*math.pi**2/(4.*sigma_y))\n",
      "print('\\n case (a)')\n",
      "print'%s %.2f %s'%('\\n The critical length ratio is ',L_cr,'')\n",
      "\n",
      "##case (c)\n",
      "L_cr=math.sqrt(4.*E*math.pi**2./sigma_y)\n",
      "print('\\n case (c)')\n",
      "print'%s %.2f %s'%('\\n The critical length ratio is',L_cr,'')\n",
      "\n",
      "## case (d)\n",
      "L_cr=math.sqrt(2.05*E*math.pi**2/sigma_y)\n",
      "## Results\n",
      "print('\\n case (d)')\n",
      "print'%s %.2f %s'%('\\n The critical length ratio is ',L_cr,'')\n",
      "print('\\n Only in case (a) actual ratio is more than critical ratio and material \\n remains elastic  For cases (b), (c) and (d) critical length ratio is \\n much higher and hence the material yelds before crippling loads are reached')\n",
      "\n",
      "\n"
     ],
     "language": "python",
     "metadata": {},
     "outputs": [
      {
       "output_type": "stream",
       "stream": "stdout",
       "text": [
        "The actual critical length ratio is 77.23 \n",
        "\n",
        " case (b)\n",
        "\n",
        " The critical length ratio is  87.13 \n",
        "\n",
        " case (a)\n",
        "\n",
        " The critical length ratio is  43.57 \n",
        "\n",
        " case (c)\n",
        "\n",
        " The critical length ratio is 174.26 \n",
        "\n",
        " case (d)\n",
        "\n",
        " The critical length ratio is  124.75 \n",
        "\n",
        " Only in case (a) actual ratio is more than critical ratio and material \n",
        " remains elastic  For cases (b), (c) and (d) critical length ratio is \n",
        " much higher and hence the material yelds before crippling loads are reached\n"
       ]
      }
     ],
     "prompt_number": 8
    },
    {
     "cell_type": "heading",
     "level": 2,
     "metadata": {},
     "source": [
      "Ex3-pg336"
     ]
    },
    {
     "cell_type": "code",
     "collapsed": false,
     "input": [
      "#calculate crtical stress \n",
      "##initialzation of variables\n",
      "import math\n",
      "h=3.5 ##m\n",
      "A=22.4 ##cm**2\n",
      "r=7.08 ##cm\n",
      "E=2*10**6 ##kg/cm**2\n",
      "Q=1/2.\n",
      "## calculations\n",
      "h=h*100.\n",
      "Q1=(Q*h/r)**2\n",
      "s_cr=E*math.pi**2/Q1\n",
      "## results\n",
      "print'%s %.2f %s'%('The critical stress is ',s_cr,' kg/cm**2')\n",
      "print('\\n This is much higher than yield stress for the material, \\n so the column will fail by yielding')\n",
      "\n",
      "print('rounding off errors in the text')\n"
     ],
     "language": "python",
     "metadata": {},
     "outputs": [
      {
       "output_type": "stream",
       "stream": "stdout",
       "text": [
        "The critical stress is  32308.75  kg/cm**2\n",
        "\n",
        " This is much higher than yield stress for the material, \n",
        " so the column will fail by yielding\n",
        "rounding off errors in the text\n"
       ]
      }
     ],
     "prompt_number": 2
    },
    {
     "cell_type": "heading",
     "level": 2,
     "metadata": {},
     "source": [
      "Ex4-pg337"
     ]
    },
    {
     "cell_type": "code",
     "collapsed": false,
     "input": [
      "#find crippling load\n",
      "##initialization of variables\n",
      "import math\n",
      "r_min=1.17 ##cm\n",
      "A=17.21 ##cm^2\n",
      "Q=1/2.\n",
      "h=3.5 ##m\n",
      "E=2*10**6 ##kg/cm^2\n",
      "h=h*100.\n",
      "## calculations\n",
      "Q1=(Q*h/r_min)**2\n",
      "s_cr=E*math.pi**2/Q1\n",
      "P_cr=s_cr*A\n",
      "## results\n",
      "print'%s %.2f %s'%('The crippling load is ',P_cr,' kg')\n",
      "\n",
      "## wrong calculations given in the text\n"
     ],
     "language": "python",
     "metadata": {},
     "outputs": [
      {
       "output_type": "stream",
       "stream": "stdout",
       "text": [
        "The crippling load is  15184.70  kg\n"
       ]
      }
     ],
     "prompt_number": 3
    },
    {
     "cell_type": "heading",
     "level": 2,
     "metadata": {},
     "source": [
      "Ex5-pg340"
     ]
    },
    {
     "cell_type": "code",
     "collapsed": false,
     "input": [
      "import math\n",
      "##initialization of variables\n",
      "#find safe load\n",
      "L=2.5 ##m\n",
      "A=6.02 ##cm^2\n",
      "Q1=105.\n",
      "s=796.5 ##kg/cm^2\n",
      "## calculations\n",
      "P=2*A*s\n",
      "print'%s %.2f %s'%('The safe load is ',P,' kg')\n",
      "## Results\n",
      "## wrong calculations in the text\n"
     ],
     "language": "python",
     "metadata": {},
     "outputs": [
      {
       "output_type": "stream",
       "stream": "stdout",
       "text": [
        "The safe load is  9589.86  kg\n"
       ]
      }
     ],
     "prompt_number": 7
    },
    {
     "cell_type": "heading",
     "level": 2,
     "metadata": {},
     "source": [
      "Ex6-pg345"
     ]
    },
    {
     "cell_type": "code",
     "collapsed": false,
     "input": [
      "#calculate Permissible load by secent and rankine gordon and parabolic formula\n",
      "##initialization of variables\n",
      "import math\n",
      "h=3.5 ##m\n",
      "r_xx=7.08 ##cm\n",
      "A=24.38 ##cm^2\n",
      "Q=0.5\n",
      "Q1=Q*h*100./r_xx\n",
      "\n",
      "##Permissible load by secent formula\n",
      "P=1231.28*2*A\n",
      "print'%s %.2f %s'%('Permissible load by secent formula: ',P,' kg')\n",
      "\n",
      "##Permissible load by Rankine-Gordon formula\n",
      "P=1260./(1.+(24.75**2/18000.))*2*A\n",
      "print'%s %.2f %s'%('\\n Permissible load by Rankine-Gordon formula: ',P,' kg')\n",
      "\n",
      "##Permissible load by parabolic formula\n",
      "P=(1050-0.0233*Q1**2)*2*A\n",
      "print'%s %.2f %s'%('\\n Permissible load by parabolic formula: ',P,' kg')\n",
      "\n",
      "##Permissible load by straight-line formula\n",
      "P=(1120-Q1*4.8)*2*A\n",
      "print'%s %.2f %s'%('\\n Permissible load by parabolic formula: ',P,' kg')\n",
      "\n",
      "print('Rounding off errors in the text')\n",
      "\n"
     ],
     "language": "python",
     "metadata": {},
     "outputs": [
      {
       "output_type": "stream",
       "stream": "stdout",
       "text": [
        "Permissible load by secent formula:  60037.21  kg\n",
        "\n",
        " Permissible load by Rankine-Gordon formula:  59415.61  kg\n",
        "\n",
        " Permissible load by parabolic formula:  50503.89  kg\n",
        "\n",
        " Permissible load by parabolic formula:  48826.12  kg\n",
        "Rounding off errors in the text\n"
       ]
      }
     ],
     "prompt_number": 6
    }
   ],
   "metadata": {}
  }
 ]
}