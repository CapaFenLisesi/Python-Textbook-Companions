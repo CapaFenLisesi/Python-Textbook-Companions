{
 "cells": [
  {
   "cell_type": "markdown",
   "metadata": {},
   "source": [
    "# Chapter 2 - Nonlinear Algebraic Equations"
   ]
  },
  {
   "cell_type": "markdown",
   "metadata": {},
   "source": [
    "## Exa 2.1 Page 20"
   ]
  },
  {
   "cell_type": "code",
   "execution_count": 1,
   "metadata": {
    "collapsed": false
   },
   "outputs": [
    {
     "name": "stdout",
     "output_type": "stream",
     "text": [
      "the root of the eqn is 0.20165449273\n"
     ]
    }
   ],
   "source": [
    "from __future__ import division\n",
    "from scipy.misc import derivative\n",
    "\n",
    "x=.5                      #initial value\n",
    "xnew=0\n",
    "e=1\n",
    "while e>10**-4:\n",
    "    x=xnew\n",
    "    def Fa(x):\n",
    "        y=x**3-5*x+1#                   #defining fn \n",
    "        return y\n",
    "\n",
    "    der=derivative(Fa,x)                #differentiating the fn\n",
    "    xnew=x-Fa(x)/der\n",
    "    e=abs(xnew-x)\n",
    "    \n",
    "print \"the root of the eqn is\",xnew"
   ]
  },
  {
   "cell_type": "markdown",
   "metadata": {},
   "source": [
    "## Exa 2.2 Page 20"
   ]
  },
  {
   "cell_type": "code",
   "execution_count": 2,
   "metadata": {
    "collapsed": false
   },
   "outputs": [
    {
     "name": "stdout",
     "output_type": "stream",
     "text": [
      "the Reynolds no. is 13743.0167598\n",
      "the fanning friction factor is 0.0290420879897407\n",
      "the pressure drop in pascals is 11163.0525710566\n"
     ]
    }
   ],
   "source": [
    "from __future__ import division\n",
    "from scipy.misc import derivative\n",
    "from sympy import symbols, sqrt,log\n",
    "ff=symbols('ff')\n",
    "meu=1.79*10**-5\n",
    "rough=.0000015     #roughness\n",
    "dia=.004\n",
    "e_by_D=rough/dia\n",
    "rho=1.23\n",
    "v=50              #velocity of air\n",
    "l=1\n",
    "Re=(rho*v*dia)/meu         #Reynold's number\n",
    "ffnew=0.01\n",
    "e=1\n",
    "t1=e_by_D/3.7              #term 1 of eqn.\n",
    "t2=2.51/Re                 #term 2 of eqn.\n",
    "print \"the Reynolds no. is\",Re\n",
    "\n",
    "\n",
    "while e>1e-6:\n",
    "    fff=ffnew\n",
    "    ff=symbols('ff')\n",
    "    t3=sqrt(ff)\n",
    "    y=1/t3+2*log(t1+t2/t3)/2.3\n",
    "\n",
    "    fdash=y.diff().subs(ff,fff)#             #f'(ff)\n",
    "    ffnew=fff-y.subs(ff,fff)/fdash#\n",
    "    e=abs(fff-ffnew)\n",
    "\n",
    "print \"the fanning friction factor is\",fff\n",
    "delta_p=(fff*l*v**2*rho)/(2*dia)                  #pressure drop\n",
    "print \"the pressure drop in pascals is\",delta_p"
   ]
  },
  {
   "cell_type": "markdown",
   "metadata": {},
   "source": [
    "## Exa 2.3 Page 23"
   ]
  },
  {
   "cell_type": "code",
   "execution_count": 1,
   "metadata": {
    "collapsed": false
   },
   "outputs": [
    {
     "name": "stdout",
     "output_type": "stream",
     "text": [
      "the minimum fluidisation velocity in m/s is 0.00502529644298\n"
     ]
    }
   ],
   "source": [
    "from __future__ import division\n",
    "from scipy.misc import derivative\n",
    "from math import log,sqrt\n",
    "\n",
    "P=2*101325      #given data\n",
    "T=298.15\n",
    "M=28.97*10**-3\n",
    "R=8.314\n",
    "rho=(P*M)/(R*T)\n",
    "rho_p=1000\n",
    "dia=1.2*10**-4\n",
    "ep=.42                #void fraction\n",
    "sph=.88\n",
    "meu=1.845*10**-5\n",
    "t1=1.75*rho*(1-ep)/(sph*dia*ep**3)                      #these are the terms of the function.\n",
    "t2=150*meu*(1-ep)**2/(sph**2*dia**2*ep**3)\n",
    "t3=(1-ep)*(rho_p-rho)*9.8\n",
    "vnew=0.1\n",
    "e1=1\n",
    "while e1>1e-6:\n",
    "    v=vnew\n",
    "    def Fb(v):\n",
    "        y=t1*v**2+t2*v-t3                   #defining fn \n",
    "        return y\n",
    "    vdash=derivative(Fb,v)                #differentiating the fn\n",
    "    vnew=v-Fb(v)/vdash\n",
    "    e1=abs(vnew-v)\n",
    "\n",
    "print \"the minimum fluidisation velocity in m/s is\",v"
   ]
  },
  {
   "cell_type": "markdown",
   "metadata": {},
   "source": [
    "## Exa 2.4 Page 25"
   ]
  },
  {
   "cell_type": "code",
   "execution_count": 2,
   "metadata": {
    "collapsed": false
   },
   "outputs": [
    {
     "name": "stdout",
     "output_type": "stream",
     "text": [
      "the terminal velocity in m/s is 6.52652883498\n"
     ]
    }
   ],
   "source": [
    "from __future__ import division\n",
    "from scipy.misc import derivative\n",
    "from math import log,sqrt\n",
    "\n",
    "dia=2*10**-3\n",
    "P=101325      #given data\n",
    "T=298.15\n",
    "M=28.89*10**-3\n",
    "R=8.314\n",
    "rho=(P*M)/(R*T)\n",
    "rho_oil=900\n",
    "meu=1.85*10**-5\n",
    "Re_oil_by_v=rho*dia/meu\n",
    "vnew=0.1\n",
    "e=1\n",
    "while e>1e-6:\n",
    "    v=vnew\n",
    "    Re_oil=Re_oil_by_v*v \n",
    "    Cd=24*(1+.15*Re_oil**.687)/Re_oil\n",
    "    vnew=sqrt(4*(rho_oil-rho)*9.81*dia/(3*Cd*rho))\n",
    "    e=abs(vnew-v)\n",
    "\n",
    "print \"the terminal velocity in m/s is\",v"
   ]
  },
  {
   "cell_type": "markdown",
   "metadata": {},
   "source": [
    "## Exa 2.5 Page 27"
   ]
  },
  {
   "cell_type": "code",
   "execution_count": 3,
   "metadata": {
    "collapsed": false
   },
   "outputs": [
    {
     "name": "stdout",
     "output_type": "stream",
     "text": [
      "the values of x and y respectively are -3.2443635355e-08 0.999999956342\n",
      "such small value of x can be considered as zero.\n"
     ]
    }
   ],
   "source": [
    "from __future__ import division\n",
    "from scipy.misc import derivative\n",
    "from math import log,sqrt,exp,sin,cos\n",
    "\n",
    "xnew=0.1\n",
    "ynew=0.5\n",
    "e1=1\n",
    "e2=1\n",
    "while e1>1e-6 and e2>1e-6:\n",
    "    x=xnew\n",
    "    y=ynew\n",
    "    y1=exp(x)+x*y-1\n",
    "    d_fx=exp(x)+y\n",
    "    d_fy=x\n",
    "    y2=sin(x*y)+x+y-1\n",
    "    d_gx=y*cos(x*y)+1\n",
    "    d_gy=x*cos(x*y)+1\n",
    "    t1=(y2*d_fy)\n",
    "    t2=(y1*d_gy)\n",
    "    D1=d_fx*d_gy-d_fy*d_gx\n",
    "    delta_x=(t1-t2)/D1\n",
    "    t3=(y1*d_gx)\n",
    "    t4=(y2*d_fx)\n",
    "    delta_y=(t3-t4)/D1\n",
    "    xnew=x+delta_x\n",
    "    ynew=y+delta_y\n",
    "    e1=abs(x-xnew)\n",
    "    e2=abs(y-ynew)\n",
    "\n",
    "print \"the values of x and y respectively are\",x,y\n",
    "print \"such small value of x can be considered as zero.\""
   ]
  },
  {
   "cell_type": "markdown",
   "metadata": {},
   "source": [
    "## Exa 2.6 Page 28"
   ]
  },
  {
   "cell_type": "code",
   "execution_count": 1,
   "metadata": {
    "collapsed": false
   },
   "outputs": [
    {
     "name": "stdout",
     "output_type": "stream",
     "text": [
      "the values of x and y are respectively 3.0 4.00000000002\n"
     ]
    }
   ],
   "source": [
    "from __future__ import division\n",
    "from scipy.misc import derivative\n",
    "from math import log,sqrt\n",
    "\n",
    "xnew=0.1\n",
    "ynew=0.5\n",
    "e1=1\n",
    "e2=1\n",
    "while e1>10**-6 and e2>10**-6:\n",
    "    x=xnew\n",
    "    y=ynew\n",
    "    y1=3*x**3+4*y**2-145\n",
    "    d_fx=9*x**2\n",
    "    d_fy=8*y\n",
    "    y2=4*x**2-y**3+28\n",
    "    d_gx=8*x\n",
    "    d_gy=-3*y**2\n",
    "    D2=d_fx*d_gy-d_gx*d_fy\n",
    "    delta_x=(y2*d_fy-y1*d_gy)/D2\n",
    "    delta_y=(y1*d_gx-y2*d_fx)/D2\n",
    "    xnew=x+delta_x\n",
    "    ynew=y+delta_y\n",
    "    e1=abs(xnew-x)\n",
    "    e2=abs(ynew-y)\n",
    "\n",
    "print \"the values of x and y are respectively\",x,y"
   ]
  }
 ],
 "metadata": {
  "kernelspec": {
   "display_name": "Python 2",
   "language": "python",
   "name": "python2"
  },
  "language_info": {
   "codemirror_mode": {
    "name": "ipython",
    "version": 2
   },
   "file_extension": ".py",
   "mimetype": "text/x-python",
   "name": "python",
   "nbconvert_exporter": "python",
   "pygments_lexer": "ipython2",
   "version": "2.7.9"
  }
 },
 "nbformat": 4,
 "nbformat_minor": 0
}
