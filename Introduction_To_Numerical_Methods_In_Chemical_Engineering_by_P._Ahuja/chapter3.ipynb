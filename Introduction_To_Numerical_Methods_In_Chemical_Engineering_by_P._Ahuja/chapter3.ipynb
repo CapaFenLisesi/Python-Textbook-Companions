{
 "cells": [
  {
   "cell_type": "markdown",
   "metadata": {},
   "source": [
    "# Chapter 3 - Chemical Engineering Thermodynamics"
   ]
  },
  {
   "cell_type": "markdown",
   "metadata": {},
   "source": [
    "## Exa 3.1 Page 32"
   ]
  },
  {
   "cell_type": "code",
   "execution_count": 1,
   "metadata": {
    "collapsed": false
   },
   "outputs": [
    {
     "name": "stdout",
     "output_type": "stream",
     "text": [
      "all values in m3/mol\n",
      "the soln by virial gas eqn. of volume in m3/mol by Z(T,P) is vold\n",
      "the soln by virial gas eqn. of volume in m3/mol by Z(T,V) is 0.0302510618121734\n",
      "the volume of saturated liq. and saturated vapour by peng-robinson method respectively is\n",
      "0.0306180024673 2.2509412835e-05\n",
      "the vol of saturated liq. and vapour by redlich kwong method respectively are\n",
      "2.62463386857767e-5 2.64047733063277e-5\n",
      "the vol of saturated liq. and vapour by vander waal method respectively are\n",
      "0.0304707748423797 3.90181676996140e-5\n"
     ]
    }
   ],
   "source": [
    "from __future__ import division\n",
    "from sympy import symbols\n",
    "vold=symbols('vold')\n",
    "#from scipy.misc import derivative\n",
    "print \"all values in m3/mol\"\n",
    "T=373.15\n",
    "P=101325\n",
    "Tc=647.1\n",
    "Pc=220.55*10**5\n",
    "w=.345\n",
    "R=8.314\n",
    "Tr=T/Tc # reduced temperature\n",
    "Pr=P/Pc #reduced pressure \n",
    "b0=.083-.422*Tr**-1.6\n",
    "b1=.139-.172*Tr**-4.2\n",
    "B=(b0+w*b1)*R*Tc/Pc\n",
    "vnew=1\n",
    "e1=1\n",
    "vold_=R*T/P+B\n",
    "print \"the soln by virial gas eqn. of volume in m3/mol by Z(T,P) is\",vold\n",
    "while e1>1e-6:\n",
    "    vold_=vnew\n",
    "    #def Fh(vold):\n",
    "    y=P*vold/(R*T)-1-B/vold\n",
    "    #    return y\n",
    "    #ydash=derivative(Fh,vold)#\n",
    "    ydash=y.diff().subs(vold,vold_)\n",
    "    #vnew=vold-Fh(vold)/ydash#\n",
    "    vnew=vold_-y.subs(vold,vold_)/ydash\n",
    "    e1=abs(vold_-vnew)\n",
    "\n",
    "print \"the soln by virial gas eqn. of volume in m3/mol by Z(T,V) is\",vold_\n",
    "#by peng robinson method\n",
    "k=.37464+1.54226*w-.26992*w**2\n",
    "s=1+k*(1-Tr**.5)\n",
    "lpha=s**2\n",
    "a=.45724*R**2*Tc**2*lpha/Pc\n",
    "b=.0778*R*Tc/Pc\n",
    "vnew=b\n",
    "e2=1 \n",
    "vol=b\n",
    "fe=0\n",
    "fd=0\n",
    "print \"the volume of saturated liq. and saturated vapour by peng-robinson method respectively is\"\n",
    "for i in range(0,3):\n",
    "    vol=vnew\n",
    "    y2=vol**3*P+vol**2*(P*b-R*T)-vol*(3*P*b**2+2*b*R*T-a)+P*b**3+b**2*R*T-a*b\n",
    "    ydash2=3*P*vol**2+(P*b-R*T)*2*vol-(3*P*b**2+2*b*R*T-a)\n",
    "    vnew=vol-y2/ydash2\n",
    "    e2=abs(vol-vnew)\n",
    "    if i==1 and e2<1e-6:\n",
    "        fd=vnew\n",
    "        vnew=R*T/P\n",
    "\n",
    "\n",
    "print vol,fd\n",
    "\n",
    "#by redlich-kwong method\n",
    "i=0\n",
    "a=.42748*R**2*Tc**2.5/Pc\n",
    "b=.08664*R*Tc/Pc\n",
    "Vnew=b ; e3=1\n",
    "print \"the vol of saturated liq. and vapour by redlich kwong method respectively are\"\n",
    "\n",
    "from math import sqrt\n",
    "VV=symbols('VV')\n",
    "for i in range(0,3):\n",
    "    V=Vnew\n",
    "    y3=VV**3*P-R*T*VV**2-VV*(P*b**2+b*R*T-a/sqrt(T))-a*b/sqrt(T)\n",
    "    deriv=y3.diff().subs(VV,V)\n",
    "    Vnew=V-y3.subs(VV,V)/deriv\n",
    "    e3=abs(Vnew-V)\n",
    "    if i==1 and e3<1e-6:\n",
    "        de=Vnew\n",
    "        Vnew=R*T/P          #for saturated liq.\n",
    "        \n",
    "        print V,de\n",
    "#vander waals method\n",
    "i=0\n",
    "a=27*R**2*Tc**2/(64*Pc)\n",
    "b=R*Tc/(8*Pc)\n",
    "vnew=b; v=b ; e=1\n",
    "vv=symbols('vv')\n",
    "for i in range(0,3):\n",
    "    v=vnew\n",
    "    v3=vv**3*P-vv**2*(P*b+R*T)+a*vv-a*b\n",
    "    deriva=v3.diff().subs(vv,v)\n",
    "    vnew=v-v3.subs(vv,v)/deriva\n",
    "    e4=abs(v-vnew)\n",
    "    if i==1 and e4<10**-6:\n",
    "        sol=vnew\n",
    "        vnew=R*T/P\n",
    "    \n",
    "\n",
    "print \"the vol of saturated liq. and vapour by vander waal method respectively are\"\n",
    "print vnew,sol"
   ]
  },
  {
   "cell_type": "markdown",
   "metadata": {},
   "source": [
    "## Exa 3.2 Page 33"
   ]
  },
  {
   "cell_type": "code",
   "execution_count": 2,
   "metadata": {
    "collapsed": false
   },
   "outputs": [
    {
     "name": "stdout",
     "output_type": "stream",
     "text": [
      "the bubble point temp. in Celsius is 71.8054048538555\n",
      "the dew point temp. in Celsius is 87.0799975600241\n"
     ]
    }
   ],
   "source": [
    "from sympy import symbols,log,exp\n",
    "z1=.5 ; P=101.325                                      #given data\n",
    "a1=14.3916 ; b1=2795.32 ;c1=230.002\n",
    "a2=16.262 ; b2=3799.887 ;c2=226.346\n",
    "x1=z1 ; x2=1-z1\n",
    "T1sat=b1/(a1-log(P))-c1\n",
    "T2sat=b2/(a2-log(P))-c2\n",
    "Told_=273 ; e=1\n",
    "Tnew=x1*T1sat+x2*T2sat\n",
    "Told = symbols('Told')\n",
    "while e>1e-6:\n",
    "    Told_=Tnew\n",
    "    \n",
    "    P1sat=exp(a1-b1/(Told+c1))\n",
    "    P2sat=exp(a2-b2/(Told+c2))\n",
    "    y1=P-x1*P1sat-x2*P2sat\n",
    "    \n",
    "    ydashd=y1.diff().subs(Told,Told_)\n",
    "    Tnew=Told_-y1.subs(Told,Told_)/ydashd\n",
    "    e=abs(Told_-Tnew)\n",
    "    \n",
    "print \"the bubble point temp. in Celsius is\",Tnew\n",
    "\n",
    "                                                     #calc of dew point\n",
    "y1=z1 ; y2=1-z1 ; e=1\n",
    "Tnew=y1*T1sat+y2*T2sat\n",
    "Told = symbols('Told')\n",
    "while e>1e-6:\n",
    "    Told_=Tnew\n",
    "    P1sat=exp(a1-b1/(Told+c1))\n",
    "    P2sat=exp(a2-b2/(Told+c2))\n",
    "    y11=1/P-y1/P1sat-y2/P2sat\n",
    "    \n",
    "    ydashd=y11.diff().subs(Told,Told_)\n",
    "    Tnew=Told_-y11.subs(Told,Told_)/ydashd\n",
    "    e=abs(Told_-Tnew)\n",
    "    \n",
    "print \"the dew point temp. in Celsius is\",Tnew"
   ]
  },
  {
   "cell_type": "markdown",
   "metadata": {},
   "source": [
    "## Exa 3.3 Page 33"
   ]
  },
  {
   "cell_type": "code",
   "execution_count": 2,
   "metadata": {
    "collapsed": false
   },
   "outputs": [
    {
     "name": "stdout",
     "output_type": "stream",
     "text": [
      "the bubble point pressure and dew point pressure respectively are 108.205 79.6944627367\n",
      "mol frctn of acetone in liq. phase is 0.226211512882\n",
      "mol frctn of acetone in vapour phase is 0.442809036467\n",
      "mol frctn of acetonitrile in liq. phase is 0.30222391249\n",
      "mol frctn of acetonitrile in vapour. phase is 0.29569587598\n",
      "mol frctn of nitromethane in liq. phase is 0.481489923277\n",
      "mol frctn of nitromethane in vapour phase is 0.242285729393\n"
     ]
    }
   ],
   "source": [
    "from sympy import symbols,log,exp\n",
    "from numpy import zeros\n",
    "psat=[0,195.75,97.84,50.32]            #given data\n",
    "z=[0,.3,.3,.4]\n",
    "bpp=z[(1)]*psat[(1)]+z[(2)]*psat[(2)]+z[(3)]*psat[(3)]            #Bubble point pressure\n",
    "dpp=1/(z[(1)]/psat[(1)]+z[(2)]/psat[(2)]+z[(3)]/psat[(3)])        #dew point pressure\n",
    "print \"the bubble point pressure and dew point pressure respectively are\",bpp,dpp\n",
    "P=100 ; v=1 ; vnew=1 ; e=1 ; y2=0 ; der=0                #given pressure is between BPP & DPP\n",
    "k=zeros(5)\n",
    "for i in range(1,4): \n",
    "    k[(i)]=psat[(i)]/P\n",
    "\n",
    "while e>1e-6:\n",
    "    v=vnew\n",
    "    for i in range(1,4):\n",
    "        t1=(1-v+v*k[(i)])\n",
    "        y2=y2+z[(i)]*(k[(i)]-1)/t1\n",
    "        der=der-z[(i)]*(k[(i)]-1)**2/t1**2\n",
    "        \n",
    "    vnew=v-y2/der\n",
    "    e=abs(vnew-v)\n",
    "x=zeros(5)\n",
    "y=zeros(5)\n",
    "for i in range(1,4):\n",
    "    x[(i)]=z[(i)]/(1-v+v*k[(i)])\n",
    "    y[i]=x[i]*k[i] \n",
    "    \n",
    "print \"mol frctn of acetone in liq. phase is\",x[(1)]\n",
    "print \"mol frctn of acetone in vapour phase is\",y[(1)]\n",
    "print \"mol frctn of acetonitrile in liq. phase is\",x[(2)]\n",
    "print \"mol frctn of acetonitrile in vapour. phase is\",y[(2)]\n",
    "print \"mol frctn of nitromethane in liq. phase is\",x[(3)]\n",
    "print \"mol frctn of nitromethane in vapour phase is\",y[(3)]"
   ]
  },
  {
   "cell_type": "markdown",
   "metadata": {},
   "source": [
    "## Exa 3.4 Page 35"
   ]
  },
  {
   "cell_type": "code",
   "execution_count": 3,
   "metadata": {
    "collapsed": false
   },
   "outputs": [
    {
     "name": "stdout",
     "output_type": "stream",
     "text": [
      "boiling point pressure in kPa is 204.264012744\n",
      "boiling point temperature in Celsius is 81.4675225814\n",
      "dew point pressure  in kPa is 184.104082046\n",
      "dew point temperature  in Celsius is 84.0803584712\n"
     ]
    }
   ],
   "source": [
    "from __future__ import division\n",
    "from math import exp,log\n",
    "a12=437.98*4.186\n",
    "a21=1238*4.186\n",
    "v1=76.92\n",
    "v2=18.07                                                               #calc of BPP\n",
    "t=100\n",
    "x1=.5 ; R=8.314\n",
    "a1=16.678 ; b1=3640.2 ; c1=219.61\n",
    "a2=16.2887 ; b2=3816.44 ; c2=227.02\n",
    "x2=1-x1\n",
    "p1sat=exp(a1-b1/(c1+t))\n",
    "p2sat=exp(a2-b2/(c2+t))\n",
    "h12=v2*exp(-a12/(R*(t+273.15)))/v1\n",
    "h21=v1*exp(-a21/(R*(t+273.15)))/v2\n",
    "m=h12/(x1+x2*h12)-h21/(x2+x1*h21)\n",
    "g1=exp(-log(x1+x2*h12)+x2*m)\n",
    "g2=exp(-log(x2+x1*h21)-x1*m)\n",
    "p=x1*g1*p1sat+x2*g2*p2sat\n",
    "print \"boiling point pressure in kPa is\",p\n",
    "                                                               #calc of BPT\n",
    "p=101.325 ; x1=.5 ;  e=1\n",
    "x2=1-x1\n",
    "t1sat=b1/(a1-log(p))-c1\n",
    "t2sat=b2/(a2-log(p))-c2\n",
    "tnew=x1*t1sat+x2*t2sat\n",
    "while e>10**-4:\n",
    "    told=tnew\n",
    "    p1sat=exp(a1-b1/(c1+told))\n",
    "    p2sat=exp(a2-b2/(c2+told))\n",
    "    p1sat=p/(g1*x1+g2*x2*(p2sat/p1sat))\n",
    "    tnew=b1/(a1-log(p1sat))-c1\n",
    "    e=abs(tnew-told)\n",
    "\n",
    "print \"boiling point temperature in Celsius is\",tnew\n",
    "                                                              #calc of dpp\n",
    "e1=1 ;  e2=1 ;  e3=1 ; pold=1\n",
    "t=100 ; y1=.5\n",
    "y2=1-y1\n",
    "p1sat=exp(a1-b1/(c1+t))\n",
    "p2sat=exp(a2-b2/(c2+t))\n",
    "g1=1 ; g2=1 ; g11=1 ; g22=1\n",
    "pnew=1/(y1/(g1*p1sat)+y2/(g2*p2sat))\n",
    "while e1>.0001:\n",
    "    pold=pnew\n",
    "    while e2>.0001 and e3>.0001:\n",
    "        g1=g11 ; g2=g22\n",
    "        x1=y1*pold/(g1*p1sat)\n",
    "        x2=y2*pold/(g2*p2sat)\n",
    "        x1=x1/(x1+x2)\n",
    "        x2=1-x1\n",
    "        h12=v2*exp(-a12/(R*(t+273.15)))/v1\n",
    "        h21=v1*exp(-a21/(R*(t+273.15)))/v2\n",
    "        m=h12/(x1+x2*h12)-h21/(x2+x1*h21)\n",
    "        g11=exp(-log(x1+x2*h12)+x2*m)\n",
    "        g22=exp(-log(x2+x1*h21)-x1*m)\n",
    "        e2=abs(g11-g1) ; e3=abs(g22-g2)\n",
    "    \n",
    "    pnew=1/(y1/(g1*p1sat)+y2/(g2*p2sat))\n",
    "    e1=abs(pnew-pold)\n",
    "\n",
    "print \"dew point pressure  in kPa is\",pnew\n",
    "                                                            #calc dpt\n",
    "p=101.325 ; y1=.5 ;  e4=1 ;  e5=1 ; e6=1\n",
    "y2=1-y1\n",
    "t1sat=b1/(a1-log(p))-c1\n",
    "t2sat=b2/(a2-log(p))-c2\n",
    "tnew=y1*t1sat+y2*t2sat\n",
    "g11=1 ; g22=1\n",
    "while e4>.0001:\n",
    "    told=tnew\n",
    "    p1sat=exp(a1-b1/(c1+told))\n",
    "    p2sat=exp(a2-b2/(c2+told))\n",
    "    while e5>.0001 and e6>.0001:\n",
    "        g1=g11\n",
    "        g2=g22\n",
    "        x1=y1*p/(g1*p1sat)\n",
    "        x2=y2*p/(g2*p2sat)\n",
    "        x1=x1/(x1+x2)\n",
    "        x2=1-x1\n",
    "        h12=v2*exp(-a12/(R*(t+273.15)))/v1\n",
    "        h21=v1*exp(-a21/(R*(t+273.15)))/v2\n",
    "        m=h12/(x1+x2*h12)-h21/(x2+x1*h21)\n",
    "        g11=exp(-log(x1+x2*h12)+x2*m)\n",
    "        g22=exp(-log(x2+x1*h21)-x1*m)\n",
    "        e5=abs(g11-g1)\n",
    "        e6=abs(g22-g2)\n",
    "                          \n",
    "    p1sat=p*(y1/g1+y2*p1sat/(g2*p2sat))\n",
    "    tnew=b1/(a1-log(p1sat))-c1\n",
    "    e4=abs(tnew-told)\n",
    "\n",
    "print \"dew point temperature  in Celsius is\",tnew"
   ]
  },
  {
   "cell_type": "markdown",
   "metadata": {},
   "source": [
    "## Exa 3.5 Page 36"
   ]
  },
  {
   "cell_type": "code",
   "execution_count": 5,
   "metadata": {
    "collapsed": false
   },
   "outputs": [
    {
     "name": "stdout",
     "output_type": "stream",
     "text": [
      "the bubble point pressure is 310.299302687235\n",
      "the dew point pressure is 143.432965325576\n",
      "the no. of moles in vapour phase is 0.540556419677788\n",
      "x1 and y1 respectively are 0.0283277058050475 1.88246875380055\n"
     ]
    }
   ],
   "source": [
    "from sympy import symbols,log,exp\n",
    "from numpy import zeros\n",
    "a12=292.66*4.18\n",
    "a21=1445.26*4.18\n",
    "v1=74.05*10**-6\n",
    "v2=18.07*10**-6\n",
    "R=8.314\n",
    "t=100\n",
    "z1=.3\n",
    "z2=1-z1\n",
    "a1=14.39155 ; a2=16.262 ; b1=2795.82 ; b2=3799.89 ; c1=230.002 ; c2=226.35\n",
    "e1=1 ;e2=1 ;e3=1 ;e4=1 ;e5=1 ;e6=1 ;vnew=0\n",
    "                                             #calc of BPP\n",
    "x1=z1; x2=z2\n",
    "p1sat=exp(a1-(b1/(t+c1)))\n",
    "p2sat=exp(a2-(b2/(t+c2)))\n",
    "h12=v2*exp(-a12/(R*(t+273.15)))/v1\n",
    "h21=v1*exp(-a21/(R*(t+273.15)))/v2\n",
    "m=(h12/(x1+x2*h12))-(h21/(x2+x1*h21))\n",
    "g1=exp(-log(x1+x2*h12)+x2*m)\n",
    "g2=exp(-log(x2+x1*h21)-x1*m)\n",
    "p=x1*g1*p1sat+x2*g2*p2sat\n",
    "print\"the bubble point pressure is\",p\n",
    "bpp=p ;  gb1=g1 ; gb2=g2                          #g1 & g2 are activity co-efficients\n",
    "                                               #calc of DPP\n",
    "y1=z1 ; y2=z2\n",
    "g1=1 ;  g2=1\n",
    "pnew=1/(y1/(g1*p1sat)+y2/(g2*p2sat))\n",
    "g1n=g1 ; g2n=g2\n",
    "while e1>.0001:\n",
    "    pold=pnew\n",
    "    while e2>.0001 and e3>.0001:\n",
    "        g1=g1n ; g2=g2n\n",
    "        x1=y1*pold/(g1*p1sat)\n",
    "        x2=y2*pold/(g2*p2sat)\n",
    "        x1=x1/(x1+x2)\n",
    "        x2=1-x1\n",
    "        g1n=exp(-log(x1+x2*h12)+x2*m)\n",
    "        g2n=exp(-log(x2+x1*h21)-x1*m)\n",
    "        e2=abs(g1n-g1) ; e3=abs(g2n-g2)\n",
    "\n",
    "    pnew=1/(y1/(g1n*p1sat)+y2/(g2n*p2sat))\n",
    "    e1=abs(pnew-pold)\n",
    "\n",
    "print \"the dew point pressure is\",pnew\n",
    "dpp=pnew ; gd1=g1n ; gd2=g2n\n",
    "p=200\n",
    "v=(bpp-p)/(bpp-dpp)\n",
    "g1=((p-dpp)*(gb1-gd1))/(bpp-dpp)+gd1\n",
    "g2=((p-dpp)*(gb2-gd2))/(bpp-dpp)+gd2\n",
    "\n",
    "#calc of distribution co-efficients\n",
    "from sympy import symbols, exp as exp_, log as log_\n",
    "\n",
    "v=symbols('v')\n",
    "while e4>.0001 and e5>.0001:\n",
    "    g1n=g1 ; g2n=g2\n",
    "    k1=g1n*p1sat/p\n",
    "    k2=g2n*p2sat/p\n",
    "    while e6>.00001:\n",
    "        vv=vnew\n",
    "        y1=(k1*z1)/(1-v+v*k1)\n",
    "        y2=(k2*z2)/(1-v+v*k2)\n",
    "        x1_=y1/k1\n",
    "        x2_=y2/k2    \n",
    "        f=y1-x1_+y2-x2_\n",
    "        derv=f.diff().subs(v,vv)\n",
    "        vnew=vv-f.subs(v,vv)/derv\n",
    "        e6=abs(vnew-vv)\n",
    "    \n",
    "    h12=v2*exp(-a12/(R*(t+273.15)))/v1\n",
    "    h21=v1*exp(-a21/(R*(t+273.15)))/v2\n",
    "    m=(h12/(x1+x2*h12))-(h21/(x2+x1*h21))\n",
    "    g1=exp_(-log_(x1+x2*h12)+x2*m)\n",
    "    g2=exp_(-log_(x2+x1*h21)-x1*m)\n",
    "    e4=abs(g1-g1n)\n",
    "    e5=abs(g2-g2n)\n",
    "\n",
    "print \"the no. of moles in vapour phase is\",vv\n",
    "print \"x1 and y1 respectively are\",x1.subs(v,v1),y1.subs(v,v1)"
   ]
  },
  {
   "cell_type": "markdown",
   "metadata": {},
   "source": [
    "## Exa 3.6 Page 37"
   ]
  },
  {
   "cell_type": "code",
   "execution_count": 27,
   "metadata": {
    "collapsed": false
   },
   "outputs": [
    {
     "name": "stdout",
     "output_type": "stream",
     "text": [
      "the vapour pressure of water in Pa is 154846.968055\n"
     ]
    },
    {
     "name": "stderr",
     "output_type": "stream",
     "text": [
      "/home/asif/.local/lib/python2.7/site-packages/ipykernel/__main__.py:42: RuntimeWarning: overflow encountered in exp\n",
      "/home/asif/.local/lib/python2.7/site-packages/ipykernel/__main__.py:44: RuntimeWarning: invalid value encountered in double_scalars\n"
     ]
    }
   ],
   "source": [
    "from __future__ import division\n",
    "from scipy import sqrt,log,exp\n",
    "t=373.15 ; tc=647.1  ; pc=220.55*10**5 ; w=.345 ; R=8.314            #given\n",
    "f1=1 ; e1=1 ; e2=1 ; vnew=1 ; pnew=1             #assumed values\n",
    "k=.37464+1.54226*w-.26992*w*2\n",
    "s=(1+k*(1-(t/tc)**.5))**2\n",
    "a=.45724*R*R*tc*tc*s/pc\n",
    "b=.0778*R*tc/pc\n",
    "#calc of vol. of liq.\n",
    "while f1>10**-4:\n",
    "    p=pnew ; vnew=b ;  \n",
    "    t1=(p*b-R*t)                       #co-efficients of vol. in the eqn.\n",
    "    t2=3*p*b**2+2*b*R*t-a\n",
    "    t3=p*b**3+b**2*R*t-a*b\n",
    "    while e1>1e-6 and vnew>0:\n",
    "        vold=vnew\n",
    "        y1=vold**3*p+vold**2*t1-vold*t2+t3\n",
    "        der=3*vold**2*p+2*vold*t1-t2\n",
    "        vnew=vold-y1/der\n",
    "        e1=abs(vnew-vold)\n",
    "    \n",
    "    vliq=vold\n",
    "    #fugacity of liq.\n",
    "    zliq=p*vliq/(R*t)\n",
    "    c=(a/(2*1.414*b*R*t))*(log((vliq+(1+sqrt(2))*b)/(vliq+(1-sqrt(2))*b)))\n",
    "    t5=zliq-p*b/(R*t)\n",
    "    fl2=p*exp(zliq-1-log(t5)-c)\n",
    "    vvnew=R*t/p                 #assumed value close to the ideal value\n",
    "    #calc of vol. of vapour\n",
    "    while e2>1e-6:\n",
    "        vvold=vvnew\n",
    "        x2=vvold**3*p+vvold**2*t1-vvold*t2+t3\n",
    "        der1=3*vvold**2*p+2*vvold*t1-t2\n",
    "        vvnew=vvold-x2/der1\n",
    "        e2=abs(vvnew-vvold)\n",
    "        \n",
    "    #fugacity of vapour\n",
    "    vvap=vvold\n",
    "    zvap=p*vvap/(R*t)\n",
    "    d=(a/(2*sqrt(2)*b*R*t))*(log((zvap+(1+sqrt(2))*b*p/(R*t))/(zvap+(1-sqrt(2))*p*b/(R*t))))\n",
    "    t6=zvap-p*b/(R*t)\n",
    "    fv2=p*exp(zvap-1-log(t6)-d)\n",
    "    pnew=p*fl2/fv2                      #updating the value of P\n",
    "    f1=abs((fl2-fv2)/fv2)\n",
    "\n",
    "print \"the vapour pressure of water in Pa is\",p\n",
    "# Note value of fv2 is infinite & it is the reason for warning"
   ]
  },
  {
   "cell_type": "markdown",
   "metadata": {},
   "source": [
    "## Exa 3.7 Page 39"
   ]
  },
  {
   "cell_type": "code",
   "execution_count": 1,
   "metadata": {
    "collapsed": false
   },
   "outputs": [
    {
     "name": "stdout",
     "output_type": "stream",
     "text": [
      "the amt. of methanol in vapour phase  and system pressure in Pa respectively are 0.981547559133 344637.196487\n"
     ]
    }
   ],
   "source": [
    "from __future__ import division\n",
    "from scipy import sqrt,log,exp\n",
    "et=1 ; er=1 ; sold=0 ; snew=0             #assumed values\n",
    "R=8.314 ; t=100 ; x1=.958 ; a12=107.38*4.18 ; a21=469.55*4.18\n",
    "tc1=512.6 ; tc2=647.1 ; pc1=80.97*10**5 ; pc2=220.55*10**5 ; w1=.564 ; w2=.345 ; zc1=.224 ; zc2=.229 ; v1=40.73*10**-6 ; v2=18.07*10**-6                     #given data\n",
    "x2=1-x1\n",
    "a1=16.5938 ; a2=16.262 ; b1=3644.3 ; b2=3799.89 ; c1=239.76 ; c2=226.35\n",
    "p1sat=exp(a1-b1/(c1+t))*1000                         #Saturation Pressure\n",
    "p2sat=exp(a2-b2/(c2+t))*1000\n",
    "t=t+273.15                                           #Temp in Kelvin req.\n",
    "h12=(v2/v1)*exp(-a12/(R*t))\n",
    "h21=(v1/v2)*exp(-a21/(R*t))\n",
    "z=h12/(x1+x2*h12)-h21/(x2+x1*h21)\n",
    "g1=exp(-log(x1+x2*h12)+x2*z)                          #Activity Co-efficients\n",
    "g2=exp(-log(x2+x1*h21)-x1*z)\n",
    "tr1=t/tc1                                 #Reduced Temp.\n",
    "b0=.083-.422*tr1**-1.6\n",
    "b1=.139-.172*tr1**-4.2\n",
    "b11=(R*tc1/pc1)*(b0+b1*w1)\n",
    "tr2=t/tc2\n",
    "b0=.083-.422*tr2**-1.6\n",
    "b1=.139-.172*tr2**-4.2\n",
    "b22=(R*tc2/pc2)*(b0+b1*w2)\n",
    "w12=(w1+w2)**.5\n",
    "tc12=(tc1*tc2)**.5\n",
    "zc12=(zc1+zc2)**.5\n",
    "vc1=zc1*R*tc1/pc1 ; vc2=zc2*R*tc2/pc2\n",
    "vc12=((vc1**.33+vc2**.33)/2)**3\n",
    "pc12=zc12*R*tc12/vc12\n",
    "tr12=t/tc12\n",
    "b0=.083-.422*tr12**-1.6\n",
    "b1=.139-.172*tr12**-4.2\n",
    "b12=(R*tc12/pc12)*(b0+b1*w12)\n",
    "d12=2*b12-b11-b22\n",
    "p=x1*g1*p1sat+x2*p2sat*g2\n",
    "y1=x1*g1*p1sat/p ; y2=x2*g2*p2sat/p\n",
    "pnew=p\n",
    "#calc of Pressure\n",
    "while et>1e-6:\n",
    "    p=pnew\n",
    "    f1=p1sat*(exp(b11*p1sat/(R*t)))*(exp((v1*(p-p1sat)/(R*t))))\n",
    "    f2=p2sat*(exp(b22*p2sat/(R*t)))*(exp((v2*(p-p2sat)/(R*t))))\n",
    "    while er>1e-6:\n",
    "        sold=snew\n",
    "        fc1=exp((p/(R*t))*(b11+y2**2*d12))\n",
    "        fc2=exp((p/(R*t))*(b22+y1**2*d12))\n",
    "        k1=g1*f1/(fc1*p)\n",
    "        k2=g2*f2/(fc2*p)\n",
    "        snew=x1*k1+x2*k2\n",
    "        y1=x1*k1/snew\n",
    "        y2=x2*k2/snew\n",
    "        er=abs(snew-sold)\n",
    "\n",
    "    pnew=(x1*g1*f1/fc1)+(x2*g2*f2/fc2)\n",
    "    y1=x1*g1*f1/(fc1*pnew)\n",
    "    y2=x2*g2*f2/(fc2*pnew)\n",
    "    et=abs(pnew-p)\n",
    "\n",
    "print \"the amt. of methanol in vapour phase  and system pressure in Pa respectively are\",y1,p"
   ]
  },
  {
   "cell_type": "markdown",
   "metadata": {},
   "source": [
    "## Exa 3.9 Page 41"
   ]
  },
  {
   "cell_type": "code",
   "execution_count": 2,
   "metadata": {
    "collapsed": false
   },
   "outputs": [
    {
     "name": "stdout",
     "output_type": "stream",
     "text": [
      "the value of X1 and X2 respectively is 0.912056278984 0.632839210308\n",
      "the moles at eqm of CH4,H2O,CO,H2,CO2 are 0.0879437210164 3.45510451071 0.279217068676 3.36900804726 0.632839210308\n",
      "total number of moles at eqm. is 7.82411255797\n"
     ]
    }
   ],
   "source": [
    "from __future__ import division\n",
    "from scipy import sqrt,log,exp\n",
    "#let x1 and x2 be the reaction co-ordinate for 1st and 2nd reactions\n",
    "x1new=.9 ; x2new=.6 ; r1=1 ; r2=1               #assumed values\n",
    "Kp=1             #since P=1 atm\n",
    "K1=.574 ; K2=2.21               #given\n",
    "Kye1=K1 ; Kye2=K2               #at eqm.\n",
    "while r1>1e-6 and r2>1e-6:\n",
    "    x1=x1new ; x2=x2new\n",
    "    m_CH4=1-x1\n",
    "    m_H2O=5-x1-x2\n",
    "    m_CO=x1-x2\n",
    "    m_H2=3*x1+x2\n",
    "    m_CO2=x2      #moles of reactants and products at eqm.\n",
    "    total=m_CO2+m_H2+m_CO+m_H2O+m_CH4\n",
    "    Ky1=m_CO*m_H2**3/(m_CH4*m_H2O*total**2)\n",
    "    Ky2=m_CO2*m_H2/(m_CO*m_H2O)\n",
    "    f1=Ky1-.574                             #1st function in x1 and x2\n",
    "    f2=Ky2-2.21                             #2nd function in x1 and x2\n",
    "    d3=((3*x1+x2)**2*(12*x1-8*x2))/((1-x1)*(5-x1-x2)*(6+2*x1)**2)\n",
    "    d4=(3*x1+x2)**3*(x1-x2)*(8*x1**2+6*x1*x2-24*x1+2*x2-16)\n",
    "    d5=((1-x1)**2)*((5-x1-x2)**2)*((6+2*x1)**3)\n",
    "    df1_dx1=d3-(d4/d5)                         #df1/dx1- partial derivative of f1 wrt to x1\n",
    "    d6=3*(x1-x2)*((3*x1+x2)**2)-(3*x1+x2)**3\n",
    "    d7=(1-x1)*(5-x1-x2)*((6+x1*2)**2)\n",
    "    d8=((x1-x2)*(3*x1+x2)**3)/((1-x1)*((5-x1-x2)**2)*(6+2*x1)**2)\n",
    "    df1_dx2=(d6/d7)+d8                         #df1/dx2- partial derivative of f1 wrt to x2  \n",
    "    d9=(x1-x2)*(5-x1-x2)\n",
    "    df2_dx1=3*x2/d9-(x2*(3*x1+x2)*(5-2*x1))/(d9**2)        #df1/dx2- partial derivative of f1 wrt to x2\n",
    "    d10=(3*x1+2*x2)/d9\n",
    "    d11=x2*(3*x1+x2)*(2*x2-5)/(d9**2)\n",
    "    df2_dx2=d10-d11                             #df1/dx2- partial derivative of f1 wrt to x2\n",
    "    dm=df1_dx1*df2_dx2-df1_dx2*df2_dx1\n",
    "    delta_x1=(f2*df1_dx2-f1*df2_dx2)/dm\n",
    "    delta_x2=(f1*df2_dx1-f2*df1_dx1)/dm\n",
    "    x1new=x1+delta_x1                        #updating the values of x1 & x2\n",
    "    x2new=x2+delta_x2\n",
    "    r1=abs(x1-x1new)\n",
    "    r2=abs(x2new-x2)\n",
    "\n",
    "print \"the value of X1 and X2 respectively is\",x1,x2\n",
    "m_CH4=1-x1 ; m_H2O=5-x1-x2 ; m_CO=x1-x2 ; m_H2=3*x1+x2 ; m_CO2=x2      #moles of reactants and products at eqm.\n",
    "total=m_CO2+m_H2+m_CO+m_H2O+m_CH4\n",
    "print \"the moles at eqm of CH4,H2O,CO,H2,CO2 are\",m_CH4,m_H2O,m_CO,m_H2,m_CO2\n",
    "print \"total number of moles at eqm. is\",total"
   ]
  },
  {
   "cell_type": "markdown",
   "metadata": {},
   "source": [
    "## Exa 3.10 Page 45"
   ]
  },
  {
   "cell_type": "code",
   "execution_count": 3,
   "metadata": {
    "collapsed": false
   },
   "outputs": [
    {
     "name": "stdout",
     "output_type": "stream",
     "text": [
      "the adiabatic flame temp in K is 2090.37132921579\n"
     ]
    }
   ],
   "source": [
    "from __future__ import division\n",
    "from scipy import sqrt,log,exp\n",
    "from sympy.abc import t\n",
    "\n",
    "u1=1 ; u2=3.5 ; u3=2 ; u4=3                      #moles given 1-C2H6, 2-O2, 3-CO2, 4-H2O\n",
    "a1=1.648 ; a2=6.085 ; a3=5.316 ; a4=7.7\n",
    "b1=4.124e-2 ; b2=.3631e-2 ; b3=1.4285e-2 ; b4=.04594e-2\n",
    "c1=-1.53e-5 ; c2=-.1709e-5 ; c3=-.8362e-5 ; c4=.2521e-5\n",
    "d1=1.74e-9 ; d2=.3133e-9 ; d3=1.784e-9 ; d4=-.8587e-9\n",
    "n1=1 ; n2=4 ; n3=10 ; n4=0 ; t0=298.15 ; t1=25 ; e1=1\n",
    "t1=t1+273.15\n",
    "#calc. of sum of co-efficients of heat capacity of the rxn.\n",
    "sa=n1*a1+n2*a2+n3*a3+n4*a4\n",
    "sb=n1*b1+n2*b2+n3*b3+n4*b4\n",
    "sc=n1*c1+n2*c2+n3*c3+n4*c4\n",
    "sd=n1*d1+n2*d2+n3*d3+n4*d4\n",
    "da=u4*a4+u3*a3-u2*a2-u1*a1\n",
    "db=u4*b4+u3*b3-u2*b2-u1*b1\n",
    "dc=u4*c4+u3*c3-u2*c2-u1*c1\n",
    "dd=u4*d4+u3*d3-u2*d2-u1*d1\n",
    "h0=(u4*(-57.798)+u3*(-94.05)-u2*0-u1*(-20.236))*1000                #enthalpy of the rxn.\n",
    "tnew=1000\n",
    "\n",
    "while e1>1e-6:\n",
    "    tt=tnew\n",
    "    ft=sa*(t-t1)+(sb/2)*(t**2-t1**2)+(sc/3)*(t**3-t1**3)+(sd/4)*(t**4-t1**4)+h0+da*(t-t0)+(db/2)*(t**2-t0**2)+(dc/3)*(t**3-t0**3)+(dd/4)*(t**4-t0**4)\n",
    "    dr=ft.diff().subs(t,tt)\n",
    "    tnew=tt-ft.subs(t,tt)/dr\n",
    "    e1=abs((tnew-tt)/tnew)\n",
    "\n",
    "print \"the adiabatic flame temp in K is\",tnew"
   ]
  }
 ],
 "metadata": {
  "kernelspec": {
   "display_name": "Python 2",
   "language": "python",
   "name": "python2"
  },
  "language_info": {
   "codemirror_mode": {
    "name": "ipython",
    "version": 2
   },
   "file_extension": ".py",
   "mimetype": "text/x-python",
   "name": "python",
   "nbconvert_exporter": "python",
   "pygments_lexer": "ipython2",
   "version": "2.7.9"
  }
 },
 "nbformat": 4,
 "nbformat_minor": 0
}
