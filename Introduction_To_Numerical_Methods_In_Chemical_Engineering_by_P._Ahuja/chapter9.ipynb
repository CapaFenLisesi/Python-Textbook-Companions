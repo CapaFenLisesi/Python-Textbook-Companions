{
 "cells": [
  {
   "cell_type": "markdown",
   "metadata": {},
   "source": [
    "# Chapter 9 - One Dimensional Transient Heat Conduction"
   ]
  },
  {
   "cell_type": "markdown",
   "metadata": {},
   "source": [
    "## Exa 9.1 Page 174"
   ]
  },
  {
   "cell_type": "code",
   "execution_count": 2,
   "metadata": {
    "collapsed": false
   },
   "outputs": [
    {
     "name": "stdout",
     "output_type": "stream",
     "text": [
      "the values of Temp measured from centre at the gap of .2 cm are\n",
      "31.914893617\n",
      "37.8723404255\n",
      "61.7021276596\n",
      "127.234042553\n",
      "-----------------\n",
      "----------END---------\n"
     ]
    }
   ],
   "source": [
    "from __future__ import division\n",
    "from numpy import arange,zeros\n",
    "print \"the values of Temp measured from centre at the gap of .2 cm are\"\n",
    "alpha=10**-5 ;  delta_t=.1 ; delta_x=10**-3           #given data\n",
    "m=alpha*delta_t/(delta_x**2)\n",
    "a=[0]\n",
    "for i in range(2,5):\n",
    "    a.append(m)                               #sub-diagonal\n",
    "\n",
    "b=[(-2*m-1)/2]\n",
    "for i in range(2,5):\n",
    "    b.append(-2*m-1)                               #diagonal\n",
    "c=[]\n",
    "for i in range(1,4):\n",
    "    c.append(m)                               #super-diagonal\n",
    "x=[]\n",
    "for i in range(1,5):\n",
    "    x.append(20)                              #initial temperature\n",
    "y=[]\n",
    "for t in arange(0.1,3.2,.1):\n",
    "    for i in range(1,5):\n",
    "        y.append(x[i-1])\n",
    "    #TDMA method\n",
    "    d=[-.5*y[0],\n",
    "    -y[1],\n",
    "    -y[2],\n",
    "    -y[3]-300]\n",
    "    i=1 ; n=4\n",
    "    Beta=[b[i-1]]\n",
    "    Gamma=[d[i-1]/Beta[i-1]]\n",
    "    i1=i+1\n",
    "    for j in range(i1,n+1):\n",
    "        Beta.append(b[j-1]-a[j-1]*c[j-2]/Beta[j-2])\n",
    "        Gamma.append((d[j-1]-a[j-1]*Gamma[j-2])/Beta[j-1])\n",
    "    x=zeros(n)\n",
    "    x[-1]=Gamma[n-1]\n",
    "    n1=n-i\n",
    "    for k in range(1,n1+1):\n",
    "        j=n-k\n",
    "        x[j-1]=Gamma[j-1]-c[j-1]*x[j]/Beta[j-1]\n",
    "    \n",
    "for i in range(1,5):\n",
    "    print x[i-1]                                 #solution of temperature\n",
    "\n",
    "print \"-----------------\"\n",
    "\n",
    "print \"----------END---------\""
   ]
  },
  {
   "cell_type": "markdown",
   "metadata": {},
   "source": [
    "## Exa 9.2 Page 175"
   ]
  },
  {
   "cell_type": "code",
   "execution_count": 1,
   "metadata": {
    "collapsed": false
   },
   "outputs": [
    {
     "name": "stdout",
     "output_type": "stream",
     "text": [
      "time when centre temp is 425 K in secs. is\n",
      "2860\n",
      "the values of temp. at req. time is\n",
      "415.830778173\n",
      "409.161921067\n",
      "407.289372709\n",
      "412.10629054\n",
      "424.920334418\n",
      "446.302352324\n",
      "475.988566837\n",
      "512.861107143\n",
      "555.026826929\n"
     ]
    }
   ],
   "source": [
    "from __future__ import division\n",
    "from numpy import zeros\n",
    "delta_t=1 ;  delta_x=.05 ; alpha=10**-5\n",
    "t1=alpha*delta_t/delta_x**2\n",
    "a=[0]\n",
    "for i in range(2,10):\n",
    "    a.append(-t1)\n",
    "\n",
    "b=[]\n",
    "for i in range(1,10):\n",
    "    b.append(1+2*t1)\n",
    "\n",
    "c=[]\n",
    "for i in range(1,9):\n",
    "    c.append(-t1)\n",
    "\n",
    "\n",
    "t=1 ; tf=3000\n",
    "x=[]\n",
    "for i in range(1,10):\n",
    "    x.append(300)\n",
    "\n",
    "e1=425\n",
    "print \"time when centre temp is 425 K in secs. is\"\n",
    "y=zeros(10)\n",
    "for t in range(1,tf+1):\n",
    "    for i in range(1,10):\n",
    "        y[i-1]=x[i-1]\n",
    "    d=zeros(9)\n",
    "    d[0]=y[0]+1.7\n",
    "    d[8]=y[8]+2.4\n",
    "    \n",
    "    for i in range(2,9):\n",
    "        d[i-1]=y[i-1]\n",
    "    \n",
    "    i=1 ; n=9\n",
    "    Beta=[b[i]]\n",
    "    Gamma=[d[i-1]/Beta[i-1]]\n",
    "    i1=i+1\n",
    "    \n",
    "    for j in range(i1,n+1):\n",
    "        Beta.append(b[j-1]-a[j-1]*c[j-2]/Beta[j-2])\n",
    "        Gamma.append((d[j-1]-a[j-1]*Gamma[j-2])/Beta[j-1])\n",
    "    x=zeros(n)\n",
    "    x[-1]=Gamma[n-1]\n",
    "    n1=n-i\n",
    "    for k in range(1,n1+1):\n",
    "        j=n-k\n",
    "        x[j-1]=Gamma[j-1]-c[j-1]*x[j]/Beta[j-1]\n",
    "    \n",
    "    if abs(x[4]-e1)>0 and abs(x[4]-e1)<.1:\n",
    "        print t\n",
    "        break\n",
    "    \n",
    "\n",
    "print \"the values of temp. at req. time is\"\n",
    "for i in range(1,10):\n",
    "    print x[i-1]"
   ]
  },
  {
   "cell_type": "markdown",
   "metadata": {},
   "source": [
    "## Exa 9.3 Page 176"
   ]
  },
  {
   "cell_type": "code",
   "execution_count": 3,
   "metadata": {
    "collapsed": false
   },
   "outputs": [
    {
     "name": "stdout",
     "output_type": "stream",
     "text": [
      "T1,T2,T2 & T4 at time interval of .1 sec is\n",
      "145.908706385 81.3038645321 55.3676141531 48.2940913225\n",
      "--------------------\n",
      "203.484090902 137.507282499 102.483825782 91.6458788902\n",
      "--------------------\n",
      "234.561182928 180.311474047 146.967547978 135.90321416\n",
      "--------------------\n",
      "253.657260062 211.777427681 183.93231189 174.326492344\n",
      "--------------------\n",
      "266.42505656 234.835425713 212.930038344 205.209329144\n",
      "--------------------\n",
      "275.387525045 251.785736583 235.049836974 229.081735408\n",
      "--------------------\n",
      "281.845998761 264.286279996 251.687473273 247.1663257\n",
      "--------------------\n",
      "286.564174449 273.5252396 264.112294324 260.723100599\n",
      "--------------------\n",
      "290.035348701 280.36239094 273.35699646 270.830217288\n",
      "--------------------\n",
      "292.598329474 285.425737959 280.222548126 278.344081958\n",
      "--------------------\n",
      "294.494232563 289.176912624 285.316278945 283.921839548\n",
      "--------------------\n",
      "295.898007646 291.956531063 289.093561344 288.059216985\n",
      "--------------------\n",
      "296.937902328 294.016445785 291.893904508 291.126967003\n",
      "--------------------\n",
      "297.708431547 295.543088011 293.969705086 293.40115747\n",
      "--------------------\n",
      "298.279442258 296.674544089 295.50832191 295.086889022\n",
      "--------------------\n",
      "298.702624888 297.513124139 296.648729623 296.336361503\n",
      "--------------------\n",
      "299.01626097 298.134643482 297.49397346 297.262451069\n",
      "--------------------\n",
      "299.248712123 298.595288596 298.12044287 297.94884451\n",
      "--------------------\n",
      "299.420994656 298.936700895 298.584761024 298.457577721\n",
      "--------------------\n",
      "299.548683446 299.189742715 298.928897257 298.83463335\n",
      "--------------------\n",
      "299.643321393 299.377287795 299.183958571 299.114093527\n",
      "--------------------\n"
     ]
    }
   ],
   "source": [
    "from __future__ import division\n",
    "from numpy import zeros,arange\n",
    "delta_t=.1 ; delta_r=.001 ;alpha=10**-5              #given data\n",
    "t1=alpha*delta_t/delta_r**2\n",
    "a=[0,\n",
    ".5*t1,.75*t1,.833*t1]                #sub-diagonal\n",
    "b=[-4*t1-1]\n",
    "for i in range(2,5):\n",
    "    b.append(-2*t1-1)                             #main diagonal\n",
    "\n",
    "c=[4*t1,1.5*t1,1.25*t1]                 #super-diagonal\n",
    "x=[]\n",
    "for i in range(1,5):\n",
    "    x.append(20)\n",
    "\n",
    "print \"T1,T2,T2 & T4 at time interval of .1 sec is\"\n",
    "y=zeros(5)\n",
    "d=zeros(5)\n",
    "for t in arange(.1,2.2,.1):\n",
    "    for i in range(1,5):\n",
    "        y[i-1]=x[i-1]          #TDMA Method\n",
    "    \n",
    "    d[3]=-y[3]-7*t1*300/6\n",
    "    for i in range(1,4):\n",
    "        d[i-1]=-y[i-1]\n",
    "    \n",
    "    i=1 ; n=4\n",
    "    Beta=[b[i-1]]\n",
    "    Gamma=[d[i-1]/Beta[i-1]]\n",
    "    i1=i+1\n",
    "    for j in range(i1,n+1):\n",
    "        Beta.append(b[j-1]-a[j-1]*c[j-2]/Beta[j-2])\n",
    "        Gamma.append((d[j-1]-a[j-1]*Gamma[j-2])/Beta[j-1])\n",
    "    x=zeros(n)\n",
    "    x[-1]=Gamma[n-1]\n",
    "    n1=n-i\n",
    "    for k in range(1,n1+1):\n",
    "        j=n-k\n",
    "        x[j-1]=Gamma[j-1]-c[j-1]*x[j]/Beta[j-1]\n",
    "    \n",
    "    print x[3],x[2],x[1],x[0]\n",
    "    print \"--------------------\"\n"
   ]
  },
  {
   "cell_type": "markdown",
   "metadata": {},
   "source": [
    "## Exa 9.4 Page 178"
   ]
  },
  {
   "cell_type": "code",
   "execution_count": 4,
   "metadata": {
    "collapsed": false
   },
   "outputs": [
    {
     "name": "stdout",
     "output_type": "stream",
     "text": [
      "T1,T2,T2 & T4 at time interval of .1 sec is\n",
      "257.170280019 171.439218947 42.8591053357 85.7098332796\n",
      "-------------------\n"
     ]
    }
   ],
   "source": [
    "from __future__ import division\n",
    "from numpy import zeros,arange\n",
    "delta_t=.1 ; delta_r=.001 ; alpha=10**-5\n",
    "t1=alpha*delta_t/delta_r**2\n",
    "\n",
    "a=[0,0,.5,.667]\n",
    "b=[-7*t1]\n",
    "for i in range(2,):\n",
    "    b.append(-3)\n",
    "\n",
    "x=[6,2,1.5]\n",
    "x=[]\n",
    "for i in range(1,5):\n",
    "    x.append(20)\n",
    "\n",
    "print \"T1,T2,T2 & T4 at time interval of .1 sec is\"\n",
    "y=zeros(4) ; d=zeros(4)\n",
    "for t in arange(.1,1.5,.1):\n",
    "    for i in range(1,5):\n",
    "        y[i-1]=x[i-1]\n",
    "    \n",
    "    d[3]=-y[3]-400\n",
    "    for i in range(1,4):\n",
    "        d[i-1]=-y[i-1]\n",
    "    \n",
    "    i=1 ; n=4\n",
    "    Beta=[b[i]]\n",
    "    Gamma=[d[i-1]/Beta[i-1]]\n",
    "    i1=i+1\n",
    "    for j in range(i1,n+1):\n",
    "        Beta.append(b[j-2]-a[j-1]*c[j-2]/Beta[j-2])\n",
    "        Gamma.append((d[j-1]-a[j-1]*Gamma[j-2])/Beta[j-1])\n",
    "    x=zeros(n)\n",
    "    x[-1]=Gamma[n-1]\n",
    "    n1=n-i\n",
    "    for k in range(1,n1+1):\n",
    "        j=n-k\n",
    "        x[j-1]=Gamma[j-1]-c[j-1]*x[j]/Beta[j-1]\n",
    "    \n",
    "print x[3],x[2],x[1],x[0]\n",
    "print \"-------------------\""
   ]
  },
  {
   "cell_type": "markdown",
   "metadata": {},
   "source": [
    "## Exa 9.5 Page 184"
   ]
  },
  {
   "cell_type": "code",
   "execution_count": 1,
   "metadata": {
    "collapsed": false
   },
   "outputs": [
    {
     "name": "stdout",
     "output_type": "stream",
     "text": [
      "the initial conc. of drug is 69.0789433935\n",
      "Conc. at centre at t=3hr, 12 hr, 24 hr,48 hr is\n",
      "0.0\n",
      "0.0\n",
      "0.0\n",
      "0.0\n"
     ]
    }
   ],
   "source": [
    "from __future__ import division\n",
    "from math import pi\n",
    "from numpy import arange,zeros\n",
    "R=.326 ; D=3*10^-7\n",
    "delta_t=1 ;  delta_r=.0326 ; conc_ini=10/(1.33*pi*R**3)\n",
    "t1=D*delta_t/delta_r**2\n",
    "print \"the initial conc. of drug is\",conc_ini\n",
    "a=[0]\n",
    "for i in range(2,11):\n",
    "    a.append(-(1-1/(i-1)))\n",
    "\n",
    "b=[591.4]\n",
    "for i in range(2,11):\n",
    "    b.append(3544.5)\n",
    "\n",
    "c=[-1]\n",
    "for i in range(2,10):\n",
    "    c.append(-(1+1/(i-1)))\n",
    "x=[]\n",
    "for i in range(1,11):\n",
    "    x.append(conc_ini)\n",
    "#y=[]\n",
    "y=zeros(10)\n",
    "d=zeros(10)\n",
    "Beta=zeros(10)\n",
    "Gamma=zeros(10)\n",
    "x=zeros(10)\n",
    "print \"Conc. at centre at t=3hr, 12 hr, 24 hr,48 hr is\"\n",
    "for t in arange(1,172800+delta_t,delta_t):\n",
    "    for i in range(1,11):\n",
    "        y[i-1]=x[i-1]\n",
    "    d[0]=y[0]*590.4\n",
    "    for i in range(2,11):\n",
    "        d[i-1]=3542.5*y[i-1]\n",
    "    \n",
    "    i=1 ; n=10\n",
    "    Beta[i-1]=b[i-1]\n",
    "    Gamma[i-1]=d[i-1]/Beta[i-1]\n",
    "    i1=i+1\n",
    "    for j in range(i1,n+1):\n",
    "        Beta[j-1]=b[j-1]-a[j-1]*c[j-2]/Beta[j-2]\n",
    "        Gamma[j-1]=(d[j-1]-a[j-1]*Gamma[j-2])/Beta[j-1]\n",
    "    \n",
    "    x[n-1]=Gamma[n-1]\n",
    "    n1=n-i\n",
    "    for k in range(1,n1+1):\n",
    "        j=n-k\n",
    "        x[j-1]=Gamma[j-1]-c[j-1]*x[j]/Beta[j-1]\n",
    "    \n",
    "    if t==10800 or t==43200 or t==86400 or t==172800:\n",
    "        print x[5]\n",
    "    "
   ]
  }
 ],
 "metadata": {
  "kernelspec": {
   "display_name": "Python 2",
   "language": "python",
   "name": "python2"
  },
  "language_info": {
   "codemirror_mode": {
    "name": "ipython",
    "version": 2
   },
   "file_extension": ".py",
   "mimetype": "text/x-python",
   "name": "python",
   "nbconvert_exporter": "python",
   "pygments_lexer": "ipython2",
   "version": "2.7.9"
  }
 },
 "nbformat": 4,
 "nbformat_minor": 0
}
