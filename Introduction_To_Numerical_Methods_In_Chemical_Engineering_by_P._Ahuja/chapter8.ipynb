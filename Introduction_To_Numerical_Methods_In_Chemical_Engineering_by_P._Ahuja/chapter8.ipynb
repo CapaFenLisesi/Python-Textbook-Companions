{
 "cells": [
  {
   "cell_type": "markdown",
   "metadata": {},
   "source": [
    "# Chapter 8 - Chemical Reaction & Dissusion in a spherical Catalyst Pellet"
   ]
  },
  {
   "cell_type": "markdown",
   "metadata": {},
   "source": [
    "## Exa 8.1 Page 158"
   ]
  },
  {
   "cell_type": "code",
   "execution_count": 3,
   "metadata": {
    "collapsed": false
   },
   "outputs": [
    {
     "name": "stdout",
     "output_type": "stream",
     "text": [
      "the solution by TDMA of node 77 to 99 by 1st order rxn. is 1\n",
      "2.11327608271e-05\n",
      "-6.97708390547e-06\n",
      "-6.19992402138e-05\n",
      "2.04759969916e-05\n",
      "0.000182009868277\n",
      "-6.01295131167e-05\n",
      "-0.000534648505839\n",
      "0.000176680552708\n",
      "0.0015714263084\n",
      "-0.000519440824961\n",
      "-0.00462125771268\n",
      "0.00152798240852\n",
      "0.0135974017665\n",
      "-0.00449702200409\n",
      "-0.0400286588926\n",
      "0.0132417745751\n",
      "0.117895160831\n",
      "-0.0390097044184\n",
      "-0.34739360391\n",
      "0.114972976752\n",
      "1.02409485606\n",
      "-0.339006034307\n",
      "-3.02025227398\n"
     ]
    }
   ],
   "source": [
    "from __future__ import division\n",
    "from numpy import zeros\n",
    "x=[];x1=[]\n",
    "for i in range(1,101):\n",
    "    x.append(0)\n",
    "\n",
    "Iter=0 ;  e1=1 ;  f=1\n",
    "a=[0]\n",
    "while e1>1e-6 and f>1e-6:\n",
    "    Iter=Iter+1\n",
    "    for i in range(1,101):\n",
    "        x1.append(x[i-1])\n",
    "    for i in range(2,101):\n",
    "        a.append(1-(1/(i-1)))\n",
    "    b=[-6.01]\n",
    "    for i in range(2,101):\n",
    "        b.append(-2.01)\n",
    "    c=[6]\n",
    "    for i in range(2,100):\n",
    "        c.append(1+(1/(i-1)))\n",
    "    #for i=1:99,d(i)=0, end, d(100)=-100/99,\n",
    "    d=zeros(100)\n",
    "    d[99]=-100/99\n",
    "    i=1 ; n=100 ; Beta = [b[i-1]]\n",
    "    Gamma = [d[i-1]/Beta[i-1]]\n",
    "    i1=i+1\n",
    "    for j in range(i1,n+1):\n",
    "        Beta.append((b[j-1]-a[j-1]*c[j-2])/Beta[j-2])\n",
    "        Gamma.append((d[j-1]-a[j-1]*Gamma[j-2])/Beta[j-1])\n",
    "    x=zeros(n)\n",
    "    x[-1]=Gamma[n-1]\n",
    "    n1=n-i\n",
    "    for k in range(1,n1+1):\n",
    "        j=n-k\n",
    "        x[j-1]=Gamma[j-1]-c[j-1]*x[j]/Beta[j-1]\n",
    "    \n",
    "    e1=abs(x[0]-x1[0])\n",
    "    f=abs(x[99]-x1[99])\n",
    "\n",
    "print \"the solution by TDMA of node 77 to 99 by 1st order rxn. is\",Iter\n",
    "for i in range(78,101):\n",
    "    print x[i-1]\n"
   ]
  },
  {
   "cell_type": "markdown",
   "metadata": {},
   "source": [
    "## Exa 8.2 Page 162"
   ]
  },
  {
   "cell_type": "code",
   "execution_count": 1,
   "metadata": {
    "collapsed": false
   },
   "outputs": [
    {
     "name": "stdout",
     "output_type": "stream",
     "text": [
      "the solution by TDMA of node 77 to 99 by 2nd order rxn. is\n",
      "0.0\n",
      "0.0\n",
      "0.0\n",
      "0.0\n",
      "0.0\n",
      "0.0\n",
      "0.0\n",
      "0.0\n",
      "0.0\n",
      "0.0\n",
      "0.0\n",
      "0.0\n",
      "0.0\n",
      "0.0\n",
      "0.0\n",
      "0.0\n",
      "0.0\n",
      "0.0\n",
      "0.0\n",
      "0.0\n",
      "0.0\n",
      "0.0\n",
      "0.0\n",
      "-0.0\n"
     ]
    }
   ],
   "source": [
    "from __future__ import division\n",
    "from numpy import zeros\n",
    "x=zeros(100)\n",
    "Iter=0 ; e1=1 ; f=1\n",
    "k=.1 ; D=10**-9 ; r=.01 ; delta_r=r/10 ; t1=k*delta_r**2/D\n",
    "x1=[]; a=[0] ; b=[0] ;d=[0]\n",
    "while e1>1e-6 and f>1e-6:\n",
    "    Iter=Iter+1\n",
    "    for i in range(1,101):\n",
    "        x1.append(x[i-1])\n",
    "    for i in range(2,101):\n",
    "        a.append(1-(1/(i-1)))\n",
    "    b=[-6-t1*x1[0]]\n",
    "    for i in range(2,101):\n",
    "        b.append(-2-t1*x1[i-1])\n",
    "    c=[6]\n",
    "    for i in range(2,100):\n",
    "        c.append(1+(1/(i-1)))\n",
    "    for i in range(1,100):\n",
    "        d.append(0)\n",
    "    d.append(-100/99)\n",
    "    i=1 ;  n=100 ;  Beta=[b[i-1]]\n",
    "    Gamma=[d[i-1]/Beta[i-1]]\n",
    "    i1=i+1\n",
    "    for j in range(i1,n+1):\n",
    "        Beta.append(b[j-1]-a[j-1]*c[j-2]/Beta[j-2])\n",
    "        Gamma.append((d[j-1]-a[j-1]*Gamma[j-2])/Beta[j-1])\n",
    "    x=zeros(n)\n",
    "    x[-1]=Gamma[n-1]\n",
    "    n1=n-i\n",
    "    for k in range(1,n1+1):\n",
    "        j=n-k\n",
    "        x[j-1]=Gamma[j-1]-c[j-1]*x[j-1]/Beta[j-1]\n",
    "    e1=abs(x[0]-x1[0])\n",
    "    f=abs(x[99]-x1[99])\n",
    "\n",
    "print \"the solution by TDMA of node 77 to 99 by 2nd order rxn. is\"\n",
    "for i in range(77,101):\n",
    "    print x[i-1]"
   ]
  },
  {
   "cell_type": "markdown",
   "metadata": {},
   "source": [
    "## Exa 8.3 Page 163"
   ]
  },
  {
   "cell_type": "code",
   "execution_count": 3,
   "metadata": {
    "collapsed": false
   },
   "outputs": [
    {
     "name": "stdout",
     "output_type": "stream",
     "text": [
      "the solution by TDMA of node 77 to 100 by 1st order rxn. is\n",
      "0.0604887704253\n",
      "0.0678168756519\n",
      "0.0760392035241\n",
      "0.0852643022272\n",
      "0.095613536562\n",
      "0.107222479921\n",
      "0.120242419314\n",
      "0.134841969734\n",
      "0.151208788326\n",
      "0.169551370725\n",
      "0.190100900502\n",
      "0.213113107034\n",
      "0.238870065591\n",
      "0.26768184402\n",
      "0.299887860369\n",
      "0.335857761202\n",
      "0.375991556122\n",
      "0.420718642949\n",
      "0.470495220437\n",
      "0.525799398375\n",
      "0.587123060992\n",
      "0.654959197343\n",
      "0.729782956961\n",
      "0.812024100415\n",
      "0.902027799616\n"
     ]
    }
   ],
   "source": [
    "from __future__ import division\n",
    "from numpy import zeros,exp\n",
    "x=zeros(100) ; x1=zeros(100); a=zeros(100) ;                        #initial values\n",
    "\n",
    "e2=1 ;  f1=1 ; Iter=0                          #assumed values\n",
    "k=.1*10**-2 ;  D=10**-9 ; r=.01 ; delta_r=r/100 ; t1=k*delta_r**2/D        #given data\n",
    "#now solving the eqns for all the nodes and then simplifying we get the following relations\n",
    "d=[]\n",
    "while e2>1e-6 and f1>1e-6:\n",
    "    Iter=Iter+1\n",
    "    for i in range(1,101):\n",
    "        x1[i-1]=x[i-1]\n",
    "        \n",
    "    for i in range(2,101):\n",
    "        a[i-1]=1-(1/(i-1))\n",
    "    b=[-6-t1*exp((1-x1[0])/(2-x1[0]))]\n",
    "    for i in range(2,101):\n",
    "        b.append(-2-t1*exp((1-x[i-1])/(2-x[i-1])))\n",
    "    c=[6]\n",
    "    for i in range(2,100):\n",
    "        c.append(1+(1/(i-1)))\n",
    "    for i in range(1,100):\n",
    "        d.append(0)\n",
    "    d.append(-100/99)\n",
    "    i=1 ;  n=100 ;  Beta = [b[i-1]]\n",
    "    Gamma=[d[i-1]/Beta[i-1]]\n",
    "    i1=i+1\n",
    "    for j in range(i1,n+1):\n",
    "        Beta.append(b[j-1]-a[j-1]*c[j-2]/Beta[j-2])\n",
    "        Gamma.append((d[j-1]-a[j-1]*Gamma[j-2])/Beta[j-1])\n",
    "    x=zeros(n)    \n",
    "    x[-1]=Gamma[n-1]\n",
    "    n1=n-i\n",
    "    for k in range(1,n1+1):\n",
    "        j=n-k\n",
    "        x[j-1]=Gamma[j-1]-c[j-1]*x[j]/Beta[j-1]\n",
    "    \n",
    "    e2=abs(x[0]-x1[0])\n",
    "    f1=abs(x[99]-x1[99])\n",
    "\n",
    "print \"the solution by TDMA of node 77 to 100 by 1st order rxn. is\"\n",
    "for i in range(76,101):\n",
    "    print x[i-1]\n"
   ]
  },
  {
   "cell_type": "markdown",
   "metadata": {},
   "source": [
    "## Exa 8.4 Page 164"
   ]
  },
  {
   "cell_type": "code",
   "execution_count": 4,
   "metadata": {
    "collapsed": false
   },
   "outputs": [
    {
     "name": "stdout",
     "output_type": "stream",
     "text": [
      "the solution by TDMA of node 77 to 99 by 1st order rxn. is\n",
      "0.0274150220283\n",
      "0.0316615335985\n",
      "0.0365714178414\n",
      "0.0422488399165\n",
      "0.0488143356681\n",
      "0.0564073663768\n",
      "0.0651892620654\n",
      "0.0753466078611\n",
      "0.087095133412\n",
      "0.100684170249\n",
      "0.116401745411\n",
      "0.134580380148\n",
      "0.155603657639\n",
      "0.179913609207\n",
      "0.208018937265\n",
      "0.240504032341\n",
      "0.278038627503\n",
      "0.321387721808\n",
      "0.371421006027\n",
      "0.429120250921\n",
      "0.495581544008\n",
      "0.572005825625\n",
      "0.659662934735\n",
      "0.759791838019\n",
      "0.873325342972\n"
     ]
    }
   ],
   "source": [
    "from __future__ import division\n",
    "from numpy import zeros,exp\n",
    "x=zeros(100);x=zeros(100)\n",
    "Iter=0 ; e1=1 ; f1=1\n",
    "while e1>1e-6 and f1>1e-6:\n",
    "    Iter=Iter+1\n",
    "    for i in range(1,101):\n",
    "        x1[i-1]=x[i-1]\n",
    "    for i in range(2,101):\n",
    "        a[i-1]=1-(1/(i-1))\n",
    "    b=[-6-.01*exp((10-10*x1[0])/(11-10*x1[0]))]\n",
    "    for i in range(2,101):\n",
    "        b.append(-2-.01*exp((10-10*x1[i-1])/(11-10*x1[i-1])))\n",
    "    c=[6]; d= []\n",
    "    for i in range(2,100):\n",
    "        c.append(1+(1/(i-1)))\n",
    "    for i in range(1,100):\n",
    "        d.append(0)\n",
    "    d.append(-100/99)\n",
    "    i=1 ;  n=100 ; \n",
    "    Beta=[b[i-1]]\n",
    "    Gamma=[d[i-1]/Beta[i-1]]\n",
    "    i1=i+1\n",
    "    for j in range(i1,n+1):\n",
    "        Beta.append(b[j-1]-a[j-1]*c[j-2]/Beta[j-2])\n",
    "        Gamma.append((d[j-1]-a[j-1]*Gamma[j-2])/Beta[j-1])\n",
    "    x=zeros(n)\n",
    "    x[-1]=Gamma[n-1]\n",
    "    n1=n-i\n",
    "    for k in range(1,n1+1):\n",
    "        j=n-k\n",
    "        x[j-1]=Gamma[j-1]-c[j-1]*x[j]/Beta[j-1]\n",
    "    \n",
    "    e1=abs(x[0]-x1[0])\n",
    "    f1=abs(x[99]-x1[99])\n",
    "\n",
    "print \"the solution by TDMA of node 77 to 99 by 1st order rxn. is\"\n",
    "for i in range(76,101):\n",
    "    print x[i-1]"
   ]
  }
 ],
 "metadata": {
  "kernelspec": {
   "display_name": "Python 2",
   "language": "python",
   "name": "python2"
  },
  "language_info": {
   "codemirror_mode": {
    "name": "ipython",
    "version": 2
   },
   "file_extension": ".py",
   "mimetype": "text/x-python",
   "name": "python",
   "nbconvert_exporter": "python",
   "pygments_lexer": "ipython2",
   "version": "2.7.9"
  }
 },
 "nbformat": 4,
 "nbformat_minor": 0
}
