{
 "metadata": {
  "name": "",
  "signature": "sha256:7cbb692f860f8b51041eaeba8c14f1a99838650a96dbd811943baf1a8f00410c"
 },
 "nbformat": 3,
 "nbformat_minor": 0,
 "worksheets": [
  {
   "cells": [
    {
     "cell_type": "heading",
     "level": 1,
     "metadata": {},
     "source": [
      "Chapter 6: Particle Accelerators"
     ]
    },
    {
     "cell_type": "heading",
     "level": 2,
     "metadata": {},
     "source": [
      "Example 6.2.1, Page 264"
     ]
    },
    {
     "cell_type": "code",
     "collapsed": false,
     "input": [
      "#Variable declaration\n",
      "q = 1;  #   Number of proton, \n",
      "V = 800;    #  Voltage applied to the dome, kV\n",
      "\n",
      "#Calculations\n",
      "E = q*V; # The kinetic energy of proton,keV\n",
      "\n",
      "#Result\n",
      "print \"The kinetic energy of proton : %d keV\"%E"
     ],
     "language": "python",
     "metadata": {},
     "outputs": [
      {
       "output_type": "stream",
       "stream": "stdout",
       "text": [
        "The kinetic energy of proton : 800 keV\n"
       ]
      }
     ],
     "prompt_number": 1
    },
    {
     "cell_type": "heading",
     "level": 2,
     "metadata": {},
     "source": [
      "Example 6.3.1, Page 265"
     ]
    },
    {
     "cell_type": "code",
     "collapsed": false,
     "input": [
      "#Variable declaration\n",
      "q = 1;  #   Number of proton, \n",
      "V = 7;    #  Voltage applied to the dome, MV\n",
      "\n",
      "#Calculations\n",
      "E = q*V; # The kinetic energy of proton,MeV\n",
      "\n",
      "#Result\n",
      "print \"The kinetic energy of proton : %d MeV\"%E\n"
     ],
     "language": "python",
     "metadata": {},
     "outputs": [
      {
       "output_type": "stream",
       "stream": "stdout",
       "text": [
        "The kinetic energy of proton : 7 MeV\n"
       ]
      }
     ],
     "prompt_number": 2
    },
    {
     "cell_type": "heading",
     "level": 2,
     "metadata": {},
     "source": [
      "Example 6.3.2, Page 265"
     ]
    },
    {
     "cell_type": "code",
     "collapsed": false,
     "input": [
      "#Variable declaration\n",
      "V = 5; # Voltage of accelerator, MV\n",
      "# Declare three cells [for three reactions]: Page no. : 133[2011]\n",
      "R1 = [[0,0],[0,0],[0,0]]\n",
      "R2 = [[0,0],[0,0],[0,0],[0,0],[0,0],[0,0],[0,0],[0,0],[0,0],[0,0]]\n",
      "# Enter data for first cell [Reaction]\n",
      "R1[0][0] = \"p\";\n",
      "R1[0][1] = 1;\n",
      "R1[1][0] = 'd';\n",
      "R1[1][1] = 1;\n",
      "R1[2][0] = \"He\";\n",
      "R1[2][1] = 2;\n",
      "\n",
      "#Calculations&Results\n",
      "E_p =  R1[0][1]*V\n",
      "E_d =  R1[1][1]*V\n",
      "E_He =  R1[2][1]*V\n",
      "# Enter data for second cell [Reaction]\n",
      "R2[0][0] = \"p\"\n",
      "R2[0][1] = 1\n",
      "R2[1][0] = \"N\"\n",
      "R2[1][1] = 14\n",
      "R2[2][0] = \"O\"\n",
      "R2[2][1] = 15\n",
      "R2[3][0] = \"y\"\n",
      "R2[3][1] = 0\n",
      "R2[4][0] = \"d\"\n",
      "R2[4][1] = 1\n",
      "R2[5][0] = \"n\"\n",
      "R2[5][1] = 0\n",
      "R2[6][0] = \"He\"\n",
      "R2[6][1] = 3\n",
      "R2[7][0] = \"C\"\n",
      "R2[7][1] = 13\n",
      "R2[8][0] = \"He\"\n",
      "R2[8][1] = 4\n",
      "R2[9][0] = \"C\"\n",
      "R2[9][1] = 12\n",
      "print \"Protons energy   = -%d MeV \\n Deuterons energy   = -%d MeV  \\n Double charged He-3  = -%d MeV\"%(E_p, E_d, E_He)\n",
      "print \" Possible reaction at these energies are\"\n",
      "print \" %s + %s[%d] --->   %s[%d]+ %s\"%(R2[0][0],R2[1][0],R2[1][1],R2[2][0],R2[2][1],R2[3][0])\n",
      "print \" %s + %s[%d] --->   %s[%d] + %s \"%(R2[4][0],R2[1][0],R2[1][1],R2[2][0],R2[2][1],R2[5][0])\n",
      "print \" %s[%d] +%s[%d]  --->   %s[%d]+ %s\"%(R2[6][0],R2[6][1],R2[7][0],R2[7][1],R2[2][0],R2[2][1],R2[5][0])\n",
      "print \" %s[%d] + %s[%d]  --->  %s[%d] +%s\"%(R2[8][0],R2[8][1],R2[9][0],R2[9][1],R2[2][0],R2[2][1],R2[5][0])"
     ],
     "language": "python",
     "metadata": {},
     "outputs": [
      {
       "output_type": "stream",
       "stream": "stdout",
       "text": [
        "Protons energy   = -5 MeV \n",
        " Deuterons energy   = -5 MeV  \n",
        " Double charged He-3  = -10 MeV\n",
        " Possible reaction at these energies are\n",
        " p + N[14] --->   O[15]+ y\n",
        " d + N[14] --->   O[15] + n \n",
        " He[3] +C[13]  --->   O[15]+ n\n",
        " He[4] + C[12]  --->  O[15] +n\n"
       ]
      }
     ],
     "prompt_number": 3
    },
    {
     "cell_type": "heading",
     "level": 2,
     "metadata": {},
     "source": [
      "Example 6.4.1, Page 266"
     ]
    },
    {
     "cell_type": "code",
     "collapsed": false,
     "input": [
      "#Variable declaration\n",
      "q = 2;  #   Number of proton, \n",
      "V = 15;    #  Voltage applied to the dome, MV\n",
      "\n",
      "#Calculations\n",
      "E = q*V; # The kinetic energy of proton,MeV\n",
      "\n",
      "#Result\n",
      "print \"The kinetic energy of proton : %d MeV\"%E"
     ],
     "language": "python",
     "metadata": {},
     "outputs": [
      {
       "output_type": "stream",
       "stream": "stdout",
       "text": [
        "The kinetic energy of proton : 30 MeV\n"
       ]
      }
     ],
     "prompt_number": 4
    },
    {
     "cell_type": "heading",
     "level": 2,
     "metadata": {},
     "source": [
      "Example 6.5.1, Page 265"
     ]
    },
    {
     "cell_type": "code",
     "collapsed": false,
     "input": [
      "#Variable declaration\n",
      "v = 2.999999997e+08;  #  Velocity of the electron, m/s\n",
      "c = 3e+08;  # Velocity of light,m/s\n",
      "\n",
      "#Calculations\n",
      "D = c-v; # difference between electron's speed and speed of light,m/s\n",
      "\n",
      "#Result\n",
      "print \"The difference between electron speed and speed of light : %3.1f m/s\"%D"
     ],
     "language": "python",
     "metadata": {},
     "outputs": [
      {
       "output_type": "stream",
       "stream": "stdout",
       "text": [
        "The difference between electron speed and speed of light : 0.3 m/s\n"
       ]
      }
     ],
     "prompt_number": 5
    },
    {
     "cell_type": "heading",
     "level": 2,
     "metadata": {},
     "source": [
      "Example 6.5.2, Page 268"
     ]
    },
    {
     "cell_type": "code",
     "collapsed": false,
     "input": [
      "import math\n",
      "\n",
      "#Variable declaration\n",
      "f = 200e+06;  #  Frequency of applied the voltage, Hz\n",
      "V_0 = 750e+03;  # Applied potential difference, V\n",
      "q = 1.6e-019; # Charge of proton, C\n",
      "m = 1.67e-027; # Mass of proton, Kg\n",
      "n_1 = 1; # For first tube\n",
      "\n",
      "#Calculations\n",
      "L_1 = math.sqrt(2*n_1*q*V_0/m)/(2*f);   # Length of the first tube, m\n",
      "n_n = 128; #  For last tube\n",
      "L_n = 1/(2*f)*math.sqrt(2*n_n*q*V_0/m); # Length of the last tube,m\n",
      "\n",
      "#Result\n",
      "print \"Length of the first tube = %4.2f m \\n Length of the last tube = %4.2f m \"%(L_1,L_n)"
     ],
     "language": "python",
     "metadata": {},
     "outputs": [
      {
       "output_type": "stream",
       "stream": "stdout",
       "text": [
        "Length of the first tube = 0.03 m \n",
        " Length of the last tube = 0.34 m \n"
       ]
      }
     ],
     "prompt_number": 6
    },
    {
     "cell_type": "heading",
     "level": 2,
     "metadata": {},
     "source": [
      "Example 6.5.3, Page 269"
     ]
    },
    {
     "cell_type": "code",
     "collapsed": false,
     "input": [
      "#Variable declaration\n",
      "K_E = 1.17; # Kinetic energy of the electron, MeV\n",
      "E_r = 0.511; # Rest mass energy of the electron, MeV\n",
      "\n",
      "#Calculations\n",
      "v = (1-1/(K_E/E_r+1)**2); # Velocity of the electron, m/s\n",
      "\n",
      "#Result\n",
      "print \"Velocity of the electron : %4.2fc\"%v"
     ],
     "language": "python",
     "metadata": {},
     "outputs": [
      {
       "output_type": "stream",
       "stream": "stdout",
       "text": [
        "Velocity of the electron : 0.91c\n"
       ]
      }
     ],
     "prompt_number": 7
    },
    {
     "cell_type": "heading",
     "level": 2,
     "metadata": {},
     "source": [
      "Example 6.7.1, Page 270"
     ]
    },
    {
     "cell_type": "code",
     "collapsed": false,
     "input": [
      "import math\n",
      "\n",
      "#Variable declaration\n",
      "V = 20e+03; # Potential difference across the dees, V\n",
      "r = 0.28; # Radius of the dees, m \n",
      "B = 1.1; # Magnetic field, tesla\n",
      "q = 1.6e-019; # Charge of the proton, C\n",
      "m = 1.67e-027; # Mass of the proton, Kg\n",
      "\n",
      "#Calculations\n",
      "E_max = B**2*q**2*r**2/(2*m*1.6e-013); # Maximnum energy acquired by protons,MeV\n",
      "f = B*q/(2*math.pi*m*10**06); # Frequecy of the oscillator,MHzmath.\n",
      "N = E_max*1.6e-013/(q*V); # Number of revolutions, \n",
      "\n",
      "#Result\n",
      "print \"Maximum energy acquired by proton   =  %4.2f MeV \\n Frequency of the oscillator = %4.2f MHz \\n Number of revolutions =  %d revolutions \"%(E_max,f,N)"
     ],
     "language": "python",
     "metadata": {},
     "outputs": [
      {
       "output_type": "stream",
       "stream": "stdout",
       "text": [
        "Maximum energy acquired by proton   =  4.54 MeV \n",
        " Frequency of the oscillator = 16.77 MHz \n",
        " Number of revolutions =  227 revolutions \n"
       ]
      }
     ],
     "prompt_number": 9
    },
    {
     "cell_type": "heading",
     "level": 2,
     "metadata": {},
     "source": [
      "Example 6.7.2, Page 271"
     ]
    },
    {
     "cell_type": "code",
     "collapsed": false,
     "input": [
      "import math \n",
      "\n",
      "#Variable declaration\n",
      "B= 2.475; # Magnetic field, tesla\n",
      "q = 1.6e-019; # Charge of the deutron, C\n",
      "m = 2*1.67e-027; # Mass of the deutron, Kg\n",
      "\n",
      "#Calculations\n",
      "f = B*q/(2*math.pi*m*10**06); # Frequency of the deutron,MHz\n",
      "\n",
      "#Result\n",
      "print \"Frequency of the deutron:  %4.2f MHz \"%f"
     ],
     "language": "python",
     "metadata": {},
     "outputs": [
      {
       "output_type": "stream",
       "stream": "stdout",
       "text": [
        "Frequency of the deutron:  18.87 MHz \n"
       ]
      }
     ],
     "prompt_number": 10
    },
    {
     "cell_type": "heading",
     "level": 2,
     "metadata": {},
     "source": [
      "Example 6.7.3, Page 271"
     ]
    },
    {
     "cell_type": "code",
     "collapsed": false,
     "input": [
      "import math\n",
      "\n",
      "#Variable declaration\n",
      "q = 1.6e-019; # Charge of the proton, C\n",
      "r = 0.60; # radius of the dees, m\n",
      "m = 1.67e-027; # Mass of the proton, Kg\n",
      "f = 10**6; # Frequecy of the proton,Hz\n",
      "\n",
      "#Calculations\n",
      "B = 2*math.pi*m*f/q; # Magnetic field applied to cyclotron, tesla\n",
      "\n",
      "#Result\n",
      "print \"Magnetic field applied to cyclotron :  %6.4f tesla \"%B"
     ],
     "language": "python",
     "metadata": {},
     "outputs": [
      {
       "output_type": "stream",
       "stream": "stdout",
       "text": [
        "Magnetic field applied to cyclotron :  0.0656 tesla \n"
       ]
      }
     ],
     "prompt_number": 11
    },
    {
     "cell_type": "heading",
     "level": 2,
     "metadata": {},
     "source": [
      "Example 6.7.4, Page 272"
     ]
    },
    {
     "cell_type": "code",
     "collapsed": false,
     "input": [
      "import math\n",
      "\n",
      "#Variable declaration\n",
      "q = 1.6e-019; # Charge of the proton, C\n",
      "m = 1.67e-027; # Mass of the proton, Kg\n",
      "B = 1.4; # Magnetic field , tesla\n",
      "\n",
      "#Calculations\n",
      "f = B*q/(2*math.pi*m*10**06); # Frequency of the applied field, tesla\n",
      "\n",
      "#Result\n",
      "print \"Frequency of the applied field :  %4.2f MHz\"%f"
     ],
     "language": "python",
     "metadata": {},
     "outputs": [
      {
       "output_type": "stream",
       "stream": "stdout",
       "text": [
        "Frequency of the applied field :  21.35 MHz\n"
       ]
      }
     ],
     "prompt_number": 12
    },
    {
     "cell_type": "heading",
     "level": 2,
     "metadata": {},
     "source": [
      "Example 6.8.1, Page 273"
     ]
    },
    {
     "cell_type": "code",
     "collapsed": false,
     "input": [
      "import math\n",
      "\n",
      "#Variable declaration\n",
      "e = 1.6e-019 ; # Charge of an electron, C\n",
      "f = 60; # Frequency of variation magnetic field, Hz\n",
      "B_0 = 1; # Magnetic field , tesla\n",
      "r_0 = 1; # Radius of doughnut, m\n",
      "\n",
      "#Calculations\n",
      "E = 4*e*2*math.pi*f*r_0**2/(1.6e-019); # Energy gained by electron per turn, eV\n",
      "E_g = round(E)\n",
      "\n",
      "#Result\n",
      "print \"Energy gained by electron per turn:  %d eV\"%E_g"
     ],
     "language": "python",
     "metadata": {},
     "outputs": [
      {
       "output_type": "stream",
       "stream": "stdout",
       "text": [
        "Energy gained by electron per turn:  1508 eV\n"
       ]
      }
     ],
     "prompt_number": 13
    },
    {
     "cell_type": "heading",
     "level": 2,
     "metadata": {},
     "source": [
      "Example 6.9.1, Page 273"
     ]
    },
    {
     "cell_type": "code",
     "collapsed": false,
     "input": [
      "#Variable declaration\n",
      "K = 500; # Kinetic energy of the proton, MeV\n",
      "E_r = 938.; # Rest mass energy of the proton, MeV\n",
      "\n",
      "#Calculations\n",
      "R_f = E_r/(K+E_r); # The ratio of highest to the lowest frequency, \n",
      "\n",
      "#Result\n",
      "print \"The ratio of highest to the lowest frequency :  %4.2f \"%R_f"
     ],
     "language": "python",
     "metadata": {},
     "outputs": [
      {
       "output_type": "stream",
       "stream": "stdout",
       "text": [
        "The ratio of highest to the lowest frequency :  0.65 \n"
       ]
      }
     ],
     "prompt_number": 14
    },
    {
     "cell_type": "heading",
     "level": 2,
     "metadata": {},
     "source": [
      "Example 6.9.2, Page 274"
     ]
    },
    {
     "cell_type": "code",
     "collapsed": false,
     "input": [
      "#Variable declaration\n",
      "E_k = 1200; # Kinetic energy of the proton, MeV\n",
      "q = 7; # Number of proton in nitrogen\n",
      "E_r = 13040 #  Rest mass energy of the electron, MeV\n",
      "\n",
      "#Calculations\n",
      "E = (E_k+E_r)*1.6e-013; # Total energy,j\n",
      "c = 3e+08; # Velocity of light, m/s\n",
      "R_w_B = q*1.6e-019*c**2/E; # Ratio of w/B, m^2/W  \n",
      "\n",
      "#Result\n",
      "print \"The ratio of w/B :  %4.2e m^2/W \"%R_w_B"
     ],
     "language": "python",
     "metadata": {},
     "outputs": [
      {
       "output_type": "stream",
       "stream": "stdout",
       "text": [
        "The ratio of w/B :  4.42e+07 m^2/W \n"
       ]
      }
     ],
     "prompt_number": 15
    },
    {
     "cell_type": "heading",
     "level": 2,
     "metadata": {},
     "source": [
      "Example 6.10.1, Page 274"
     ]
    },
    {
     "cell_type": "code",
     "collapsed": false,
     "input": [
      "#Variable declaration\n",
      "q = 1.602e-019; # Charge of an electron, C\n",
      "r = 0.28; # Radius of stable orbit,m\n",
      "E = 70*1.6e-013;  #  Energy of the electron, j\n",
      "c = 3e+08; # Velocity of light, m/s\n",
      "\n",
      "#Calculations\n",
      "B = E/(q*r*c); # Magnetic field, T  \n",
      "\n",
      "#Result\n",
      "print \"The magnetic field of the electron :  %4.2f T\"%B"
     ],
     "language": "python",
     "metadata": {},
     "outputs": [
      {
       "output_type": "stream",
       "stream": "stdout",
       "text": [
        "The magnetic field of the electron :  0.83 T\n"
       ]
      }
     ],
     "prompt_number": 16
    },
    {
     "cell_type": "heading",
     "level": 2,
     "metadata": {},
     "source": [
      "Example 6.10.2, Page 275"
     ]
    },
    {
     "cell_type": "code",
     "collapsed": false,
     "input": [
      "#Variable declaration\n",
      "c= 3e+08; # Speed of light in vacuum, m/s\n",
      "q = 1.602e-019; # Charge on proton, coulomb\n",
      "amu = 931;    # Energy equivalent of 1 amu, MeV\n",
      "m = 938;  #  Rest mass of a proton, MeV\n",
      "KE = 12e+03;    # Kinetic energy of proton, MeV\n",
      "B = 1.9; # Magnetic field, T\n",
      "\n",
      "#Calculations\n",
      "E = m + KE;    # Total energy of proton, MeV\n",
      "# As E = m*amu, solving for m, the mass of proton\n",
      "m = E/amu*1.672e-027;    # Proton mass in motion, kg \n",
      "v = 0.9973*c; # Velocity of the proton, m/s\n",
      "r = m*v/(B*q); # Radius of the proton, m  \n",
      "\n",
      "#Result\n",
      "print \"Radius of the proton orbit :  %4.2f m\"%r"
     ],
     "language": "python",
     "metadata": {},
     "outputs": [
      {
       "output_type": "stream",
       "stream": "stdout",
       "text": [
        "Radius of the proton orbit :  22.84 m\n"
       ]
      }
     ],
     "prompt_number": 17
    }
   ],
   "metadata": {}
  }
 ]
}