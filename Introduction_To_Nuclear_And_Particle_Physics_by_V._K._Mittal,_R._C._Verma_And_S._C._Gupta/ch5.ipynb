{
 "metadata": {
  "name": "",
  "signature": "sha256:b3d84f92a01550eaa67b406d224abe5a49a5edc9fe8877cf03444a3c9cc2e577"
 },
 "nbformat": 3,
 "nbformat_minor": 0,
 "worksheets": [
  {
   "cells": [
    {
     "cell_type": "heading",
     "level": 1,
     "metadata": {},
     "source": [
      "Chapter 5: Interactions of Radiations with Matter"
     ]
    },
    {
     "cell_type": "heading",
     "level": 2,
     "metadata": {},
     "source": [
      "Example 5.2.1, Page 223"
     ]
    },
    {
     "cell_type": "code",
     "collapsed": false,
     "input": [
      "#Variable declaration\n",
      "m = 511.; # Mass of electron, KeV\n",
      "M = 938*10**3; # Mass of incident charged particle, KeV\n",
      "E = 10*10**3; # Energy of proton, KeV\n",
      "\n",
      "#Calculations\n",
      "E_l = 4*m*E/M; # Energy lost during collison, KeV\n",
      "n = E/E_l; # Number of collisions, \n",
      "N = round(n)\n",
      "\n",
      "#Result\n",
      "print \"The energy lost during collision  = %5.2f KeV \\n Number of collision required   = %d collisions\"%(E_l,N)"
     ],
     "language": "python",
     "metadata": {},
     "outputs": [
      {
       "output_type": "stream",
       "stream": "stdout",
       "text": [
        "The energy lost during collision  = 21.79 KeV \n",
        " Number of collision required   = 459 collisions\n"
       ]
      }
     ],
     "prompt_number": 1
    },
    {
     "cell_type": "heading",
     "level": 2,
     "metadata": {},
     "source": [
      "Example 5.5.1, Page 225"
     ]
    },
    {
     "cell_type": "code",
     "collapsed": false,
     "input": [
      "import math\n",
      "\n",
      "#Variable declaration\n",
      "x = 0.2; # Thickness of Al material , m\n",
      "I_r = 3./100; # Intensity ratios, \n",
      "\n",
      "#Calculations\n",
      "x_h = math.log(2)*x/math.log(1./I_r); # Half value thickness of Al, m\n",
      "\n",
      "#Result\n",
      "print \"Half value thickness of Al : %6.4f m\"%x_h "
     ],
     "language": "python",
     "metadata": {},
     "outputs": [
      {
       "output_type": "stream",
       "stream": "stdout",
       "text": [
        "Half value thickness of Al : 0.0395 m\n"
       ]
      }
     ],
     "prompt_number": 2
    },
    {
     "cell_type": "heading",
     "level": 2,
     "metadata": {},
     "source": [
      "Example 5.5.2, Page 226"
     ]
    },
    {
     "cell_type": "code",
     "collapsed": false,
     "input": [
      "import math\n",
      "\n",
      "#Variable declaration\n",
      "u = 0.75; # Absorption coefficient , cm^-1\n",
      "I_r = 1./100; # Intensity ratios, \n",
      "\n",
      "#Calculations\n",
      "x = math.log(1./I_r)*u; # Thckness of Pb, cm\n",
      "\n",
      "#Result\n",
      "print \"Thickness of Pb : %5.3f cm\"%x\n"
     ],
     "language": "python",
     "metadata": {},
     "outputs": [
      {
       "output_type": "stream",
       "stream": "stdout",
       "text": [
        "Thickness of Pb : 3.454 cm\n"
       ]
      }
     ],
     "prompt_number": 7
    },
    {
     "cell_type": "heading",
     "level": 2,
     "metadata": {},
     "source": [
      "Example 5.5.3, Page 226"
     ]
    },
    {
     "cell_type": "code",
     "collapsed": false,
     "input": [
      "import math\n",
      "\n",
      "#Variable declaration\n",
      "x_h = 5; # Half thickness of an absorber, mm\n",
      "x = 20; # Thickness of an absorber, mm\n",
      "\n",
      "#Calculations\n",
      "u = math.log(2)/x_h; # Absorption coefficient, mm^-1\n",
      "I_r = math.exp(-u*x); # Intensity ratios, \n",
      "P_loss = I_r*100; # Percentage loss in intensity, percent\n",
      "\n",
      "#Result\n",
      "print \"Percentage loss in intensity : %4.2f percent\"%P_loss"
     ],
     "language": "python",
     "metadata": {},
     "outputs": [
      {
       "output_type": "stream",
       "stream": "stdout",
       "text": [
        "Percentage loss in intensity : 6.25 percent\n"
       ]
      }
     ],
     "prompt_number": 8
    },
    {
     "cell_type": "heading",
     "level": 2,
     "metadata": {},
     "source": [
      "Example 5.6.1, Page 230"
     ]
    },
    {
     "cell_type": "code",
     "collapsed": false,
     "input": [
      "import math\n",
      "\n",
      "#Variable declaration\n",
      "C = 3e+08; # Speed of light, m/s\n",
      "h = 6.626e-034; # Planck's constant, Js\n",
      "lamda = 2500e-010; #   wavelength of light, m\n",
      "e = 1.602e-019; # Charge of electron, C\n",
      "w = 1.9; # Work function, J\n",
      "m = 9.1e-031; # Mass of the electron, kg \n",
      "\n",
      "#Calculations\n",
      "E_c = h*C/(lamda*e); # Calculated energy, J\n",
      "E_e = E_c-w; # Energy of photoelectron, J\n",
      "v = math.sqrt((2*E_e*e)/m); # Velocity of photoelectron, m/s\n",
      "\n",
      "#Result\n",
      "print \"The velocity of photoelectron : %4.2e m/s \"%v\n"
     ],
     "language": "python",
     "metadata": {},
     "outputs": [
      {
       "output_type": "stream",
       "stream": "stdout",
       "text": [
        "The velocity of photoelectron : 1.04e+06 m/s \n"
       ]
      }
     ],
     "prompt_number": 9
    },
    {
     "cell_type": "heading",
     "level": 2,
     "metadata": {},
     "source": [
      "Example 5.6.2, Page 231"
     ]
    },
    {
     "cell_type": "code",
     "collapsed": false,
     "input": [
      "#Variable declaration\n",
      "C = 3e+08; # Speed of light, m/s\n",
      "h = 6.626e-034; # Planck's constant, Js\n",
      "lamda = 250e-09; # Wavelength of light, m\n",
      "w = 2.30; # Work function, eV\n",
      "A = 2e-04; # Area of the surface, m^2 \n",
      "I = 2; # Intensity of light, W/m^2\n",
      "e = 1.6e-019; # Charge of the electron, C\n",
      "\n",
      "#Calculations\n",
      "E_p = h*C/(lamda*e); # Energy of photoelectron, eV\n",
      "E_max = E_p-w; # Maximum kinetic energy of photoelectron, eV\n",
      "n_p = I*A/(E_p*e); # Number of photons reaching the surface per second, photons/s\n",
      "R_p = 0.2/100*n_p; # Rate at which photoelectrons are emitted, photoelectrons/s\n",
      "\n",
      "#Result\n",
      "print \"The maximum kinetic energy = %4.2f eV  \\n The rate at which photoelectrons are emitted = %4.2e photoelectrons/s \"%(E_max, R_p)"
     ],
     "language": "python",
     "metadata": {},
     "outputs": [
      {
       "output_type": "stream",
       "stream": "stdout",
       "text": [
        "The maximum kinetic energy = 2.67 eV  \n",
        " The rate at which photoelectrons are emitted = 1.01e+12 photoelectrons/s \n"
       ]
      }
     ],
     "prompt_number": 10
    },
    {
     "cell_type": "heading",
     "level": 2,
     "metadata": {},
     "source": [
      "Example 5.6.3, Page 232"
     ]
    },
    {
     "cell_type": "code",
     "collapsed": false,
     "input": [
      "#Variable declaration\n",
      "C = 3e+08; # Speed of light, m/s\n",
      "h = 6.626e-034; # Planck's constant, Js\n",
      "T_lamda = 190e-09; # Threhold wavelength of light, m\n",
      "e = 1.6e-019; # Charge of the electron, C\n",
      "E_max = 1.1; # Maximum kinetic energy of photoelectron, eV\n",
      "\n",
      "#Calculations\n",
      "w = h*C/(T_lamda*e); # Work function, eV \n",
      "E_t = E_max+w; # threshold energy, eV\n",
      "lamda = h*C/(E_t*e); # Wavelength of light used, m\n",
      "\n",
      "#Result\n",
      "print \"The wavelength of light used  : %5.3e m\"%lamda\n"
     ],
     "language": "python",
     "metadata": {},
     "outputs": [
      {
       "output_type": "stream",
       "stream": "stdout",
       "text": [
        "The wavelength of light used  : 1.626e-07 m\n"
       ]
      }
     ],
     "prompt_number": 11
    },
    {
     "cell_type": "heading",
     "level": 2,
     "metadata": {},
     "source": [
      "Example 5.7.1, Page 233"
     ]
    },
    {
     "cell_type": "code",
     "collapsed": false,
     "input": [
      "import math\n",
      "\n",
      "#Variable declaration\n",
      "h = 6.62e-034; # Value of Planck's constant, J\n",
      "m_e = 9.11e-031; # Mass of the electron,Kg\n",
      "c = 3e+08; # Velocity of light, m/s\n",
      "A = 65; # Angle between scattered radiation and incident radiation, degree\n",
      "\n",
      "#Calculations\n",
      "C_s =  h/(m_e*c)*(1-math.cos(A*math.pi/180)); # Compton shift, m\n",
      "\n",
      "#Result\n",
      "print \"Compton shift  : %4.2e m\"%C_s"
     ],
     "language": "python",
     "metadata": {},
     "outputs": [
      {
       "output_type": "stream",
       "stream": "stdout",
       "text": [
        "Compton shift  : 1.40e-12 m\n"
       ]
      }
     ],
     "prompt_number": 12
    },
    {
     "cell_type": "heading",
     "level": 2,
     "metadata": {},
     "source": [
      "Example 5.7.2, Page 233"
     ]
    },
    {
     "cell_type": "code",
     "collapsed": false,
     "input": [
      "import math\n",
      "\n",
      "#Variable declaration\n",
      "h = 6.626e-034; # Value of Planck's constant, J\n",
      "m_e = 9.11e-031; # Mass of the electron,Kg\n",
      "c = 3e-04; # Velocity of light, m/s\n",
      "A = 135; # Angle between scattered radiation and incident radiation, degree\n",
      "W_i = 1.87; # Wavelength of incident radiation, pm\n",
      "\n",
      "#Calculations\n",
      "W_s = W_i + (h*(1-math.cos(A*math.pi/180)))/(m_e*c); # Wavelength of scattered radiation, pm\n",
      "\n",
      "#Result\n",
      "print \"Wavelength of scattered radiation : %4.2f pm\"%W_s "
     ],
     "language": "python",
     "metadata": {},
     "outputs": [
      {
       "output_type": "stream",
       "stream": "stdout",
       "text": [
        "Wavelength of scattered radiation : 6.01 pm\n"
       ]
      }
     ],
     "prompt_number": 13
    },
    {
     "cell_type": "heading",
     "level": 2,
     "metadata": {},
     "source": [
      "Example 5.7.3, Page 234"
     ]
    },
    {
     "cell_type": "code",
     "collapsed": false,
     "input": [
      "import math\n",
      "\n",
      "#Variable declaration\n",
      "h = 6.626e-034; # Value of Planck's constant, J\n",
      "m_e = 9.11e-031; # Mass of the electron,Kg\n",
      "c = 3e-04; # Velocity of light, pm/s\n",
      "A = 90; # Angle between scattered radiation and incident radiation, degree\n",
      "W_s = 3.8; # Wavelength of scattered radiation, pm\n",
      "\n",
      "#Calculations\n",
      "W_i = (W_s - h/(m_e*c)*(1-math.cos(A*math.pi/180))); # Wavelength of incident beam of Xrays, pm\n",
      "\n",
      "#Result\n",
      "print \"Wavelength of incident beam of X-rays : %4.2f pm\"%W_i"
     ],
     "language": "python",
     "metadata": {},
     "outputs": [
      {
       "output_type": "stream",
       "stream": "stdout",
       "text": [
        "Wavelength of incident beam of X-rays : 1.38 pm\n"
       ]
      }
     ],
     "prompt_number": 14
    },
    {
     "cell_type": "heading",
     "level": 2,
     "metadata": {},
     "source": [
      "Example 5.7.4, Page 234"
     ]
    },
    {
     "cell_type": "code",
     "collapsed": false,
     "input": [
      "import math\n",
      "\n",
      "#Variable declaration\n",
      "h = 6.626e-034; # Value of Planck's constant, J\n",
      "m_e = 9.11e-031; # Mass of the electron,Kg\n",
      "c = 3e+08; # Velocity of light, pm/s\n",
      "A = 60; # Angle between scattered radiation and incident radiation, degree\n",
      "v_0 = 3.2e+019; # Frequency of the incident photon, Hz\n",
      "\n",
      "#Calculations\n",
      "V = 1/v_0 + h/(m_e*c**2)*(1-math.cos(A*math.pi/180)); \n",
      "v =(1/V); # Frequency of the scattered photon, Hz\n",
      "\n",
      "#Result\n",
      "print \"Frequency of the scattered photon: %4.2e Hz\"%v"
     ],
     "language": "python",
     "metadata": {},
     "outputs": [
      {
       "output_type": "stream",
       "stream": "stdout",
       "text": [
        "Frequency of the scattered photon: 2.83e+19 Hz\n"
       ]
      }
     ],
     "prompt_number": 15
    },
    {
     "cell_type": "heading",
     "level": 2,
     "metadata": {},
     "source": [
      "Example 5.7.5, Page 235"
     ]
    },
    {
     "cell_type": "code",
     "collapsed": false,
     "input": [
      "import math\n",
      "\n",
      "#Variable declaration\n",
      "h = 6.626e-034; # Value of Planck's constant, J\n",
      "m_e = 9.11e-031; # Mass of the electron,Kg\n",
      "c = 3e+08; # Velocity of light, pm/s\n",
      "A = 180; # Angle between scattered radiation and incident radiation, degree\n",
      "E_i = 1836; # Energy of the incident electron, KeV\n",
      "\n",
      "#Calculations\n",
      "E = 1./E_i + 1./511*(1-math.cos(A*math.pi/180)); \n",
      "E_s = round(1./E); # Energy of the sscattered photon, KeV\n",
      "E_r = E_i-E_s; # Energy of the recoil electron, KeV\n",
      "\n",
      "#Result\n",
      "print \"Energy of the scattered photon = %d KeV  \\n Energy of the recoil electron = %d KeV \"%(E_s, E_r )"
     ],
     "language": "python",
     "metadata": {},
     "outputs": [
      {
       "output_type": "stream",
       "stream": "stdout",
       "text": [
        "Energy of the scattered photon = 224 KeV  \n",
        " Energy of the recoil electron = 1612 KeV \n"
       ]
      }
     ],
     "prompt_number": 16
    },
    {
     "cell_type": "heading",
     "level": 2,
     "metadata": {},
     "source": [
      "Example 5.7.6, Page 235"
     ]
    },
    {
     "cell_type": "code",
     "collapsed": false,
     "input": [
      "import math\n",
      "\n",
      "#Variable declaration\n",
      "E_s = 180; # Energy of the scattered X-rays, KeV\n",
      "E_i = 200; # Energy of the incident X-rays, KeV\n",
      "\n",
      "#Calculations\n",
      "a = math.degrees(math.acos(1-((1./E_s-1./E_i)*511))); # \n",
      "A = round(a); # Scattering angle of X-rays, degree\n",
      "\n",
      "#Result\n",
      "print \"Scattering angle of X-rays: %d degree\"%A "
     ],
     "language": "python",
     "metadata": {},
     "outputs": [
      {
       "output_type": "stream",
       "stream": "stdout",
       "text": [
        "Scattering angle of X-rays: 44 degree\n"
       ]
      }
     ],
     "prompt_number": 17
    },
    {
     "cell_type": "heading",
     "level": 2,
     "metadata": {},
     "source": [
      "Example 5.8.1, Page 236"
     ]
    },
    {
     "cell_type": "code",
     "collapsed": false,
     "input": [
      "#Variable declaration\n",
      "M_e = 0.511; # Rest mass of electron, MeV\n",
      "M_p = 0.511; # Rest mass of positron, MeV\n",
      "\n",
      "#Calculations\n",
      "E_c = M_e+M_p; # Energy consumed, Mev\n",
      "E_g = 5.0; # Given energy, MeV\n",
      "E_l = E_g-E_c; # Energy left, Mev\n",
      "E_k = E_l/2; # Kinetic energy of electron and positron, MeV\n",
      "\n",
      "#Result\n",
      "print \"The kinetic energy of electron and positron  : %5.3f Mev\"%E_k"
     ],
     "language": "python",
     "metadata": {},
     "outputs": [
      {
       "output_type": "stream",
       "stream": "stdout",
       "text": [
        "The kinetic energy of electron and positron  : 1.989 Mev\n"
       ]
      }
     ],
     "prompt_number": 18
    }
   ],
   "metadata": {}
  }
 ]
}