{
 "metadata": {
  "name": "",
  "signature": "sha256:130faf1cedbe400b3db8dd80f8c91c381c48671493c78c08a2ff8acbfd97253c"
 },
 "nbformat": 3,
 "nbformat_minor": 0,
 "worksheets": [
  {
   "cells": [
    {
     "cell_type": "heading",
     "level": 1,
     "metadata": {},
     "source": [
      "Chapter 3: Radioactivity"
     ]
    },
    {
     "cell_type": "heading",
     "level": 2,
     "metadata": {},
     "source": [
      "Example 3.2.1, Page 124"
     ]
    },
    {
     "cell_type": "code",
     "collapsed": false,
     "input": [
      "#Variable declaration\n",
      "Bq = 1./3.7e+010; # Number of curie in one Bq, Ci\n",
      "\n",
      "#Calculations\n",
      "N = 10**10*Bq; # The number of curie in 10^10 Bq, Ci\n",
      "\n",
      "#Result\n",
      "print \"The number of curie in 10^10 Bq : %4.2f Ci\"%N\n",
      "\n"
     ],
     "language": "python",
     "metadata": {},
     "outputs": [
      {
       "output_type": "stream",
       "stream": "stdout",
       "text": [
        "The number of curie in 10^10 Bq : 0.27 Ci\n"
       ]
      }
     ],
     "prompt_number": 1
    },
    {
     "cell_type": "heading",
     "level": 2,
     "metadata": {},
     "source": [
      "Example 3.2.2, Page 125"
     ]
    },
    {
     "cell_type": "code",
     "collapsed": false,
     "input": [
      "#Variable declaration\n",
      "lambda_232 = 1.58e-018; # Decay constant, s^-1\n",
      "N = 2.596e+022; # Number of atoms in 10g Th-232\n",
      "\n",
      "#Calculations\n",
      "A = N*lambda_232; # The activity of 10g of Th-232, dps\n",
      "\n",
      "#Result\n",
      "print \"The activty of 10g of Th-232 : %5.3e dps\"%A\n"
     ],
     "language": "python",
     "metadata": {},
     "outputs": [
      {
       "output_type": "stream",
       "stream": "stdout",
       "text": [
        "The activty of 10g of Th-232 : 4.102e+04 dps\n"
       ]
      }
     ],
     "prompt_number": 2
    },
    {
     "cell_type": "heading",
     "level": 2,
     "metadata": {},
     "source": [
      "Example 3.3.3, Page 125"
     ]
    },
    {
     "cell_type": "code",
     "collapsed": false,
     "input": [
      "#Variable declaration\n",
      "A = 3.7e+010; # Activity of 1Ci sample, dps\n",
      "t = 1608; # Half life of radioactive substance, s\n",
      "\n",
      "#Calculations\n",
      "N = 6.023e+023/214; # Number of atoms in 1g of substance having atomic mass 214\n",
      "lamda = 0.6931/t; # Decay constant, s^-1\n",
      "m = A/(lamda*N); # The mass of radoiactive substance, g\n",
      "\n",
      "#Result\n",
      "print \"nThe mass of radioactive substance : %4.2e g\"%m\n"
     ],
     "language": "python",
     "metadata": {},
     "outputs": [
      {
       "output_type": "stream",
       "stream": "stdout",
       "text": [
        "nThe mass of radioactive substance : 3.05e-08 g\n"
       ]
      }
     ],
     "prompt_number": 3
    },
    {
     "cell_type": "heading",
     "level": 2,
     "metadata": {},
     "source": [
      "Example 3.2.4, Page 125"
     ]
    },
    {
     "cell_type": "code",
     "collapsed": false,
     "input": [
      "#Variable declaration\n",
      "t =  1.419e+017; # Half life of U-238, s\n",
      "N = 6.023e+023/238; # Number of atoms in 1g of U-238\n",
      "\n",
      "#Calculations\n",
      "lamda = 0.6931/t; # Decay constant, s^-1\n",
      "A = (lamda*N)*1000/(3.7e+010); # The activity of 1kg of U-238, Ci\n",
      "\n",
      "#Result\n",
      "print \"The activity of 1kg of U-238 : %4.2e Ci\"%A\n"
     ],
     "language": "python",
     "metadata": {},
     "outputs": [
      {
       "output_type": "stream",
       "stream": "stdout",
       "text": [
        "The activity of 1kg of U-238 : 3.34e-04 Ci\n"
       ]
      }
     ],
     "prompt_number": 6
    },
    {
     "cell_type": "heading",
     "level": 2,
     "metadata": {},
     "source": [
      "Example 3.2.5, Page 126"
     ]
    },
    {
     "cell_type": "code",
     "collapsed": false,
     "input": [
      "import math\n",
      "\n",
      "#Variable declaration\n",
      "t_h =  1600; # Half life of radioactive material, years\n",
      "t = 2000; # Totaltime, years\n",
      "\n",
      "#Calculations\n",
      "lamda = 0.6931/t_h; # Decay constant, years^-1\n",
      "m0 = 1; # The mass of radioactive substance at t0, mg\n",
      "m = m0* math.exp(-(lamda*t)); # Ratio of total number of atoms and number of atoms disintegrat, mg\n",
      "A = 1-m; # The amount of radioactive substance decayed, mg\n",
      "\n",
      "#Result\n",
      "print \"The amount of radioactive substance decayed : %6.4f mg\"%A\n"
     ],
     "language": "python",
     "metadata": {},
     "outputs": [
      {
       "output_type": "stream",
       "stream": "stdout",
       "text": [
        "The amount of radioactive substance decayed : 0.5795 mg\n"
       ]
      }
     ],
     "prompt_number": 22
    },
    {
     "cell_type": "heading",
     "level": 2,
     "metadata": {},
     "source": [
      "Example 3.2.6, Page 127"
     ]
    },
    {
     "cell_type": "code",
     "collapsed": false,
     "input": [
      "import math\n",
      "\n",
      "#Variable declaration\n",
      "t =  10; # Total period of radioactive material, days\n",
      "\n",
      "#Calculations\n",
      "lamda = math.log(6.6667)/10; #Decay constant, day^-1\n",
      "t_h = 0.6931/(lamda); # Half life of radioactive substance, days\n",
      "\n",
      "#Result\n",
      "print \"The half life of radioactive substance  : %4.2f days\"%t_h\n"
     ],
     "language": "python",
     "metadata": {},
     "outputs": [
      {
       "output_type": "stream",
       "stream": "stdout",
       "text": [
        "The half life of radioactive substance  : 3.65 days\n"
       ]
      }
     ],
     "prompt_number": 7
    },
    {
     "cell_type": "heading",
     "level": 2,
     "metadata": {},
     "source": [
      "Example 3.2.7, Page 127"
     ]
    },
    {
     "cell_type": "code",
     "collapsed": false,
     "input": [
      "#Variable declaration\n",
      "t_h  = 1620*31536000; # Half life of Ra-226, S\n",
      "D = 0.6931/t_h; # Decay constant, S^-1\n",
      "A_Ci = 3.7e+010; # Activity, Ci\n",
      "\n",
      "#Calculations\n",
      "N_Ci = A_Ci/D; # Number of atoms decayed\n",
      "m = 0.226; # Mass of 6.023e+023 atoms, kg\n",
      "M_Ci = m*N_Ci/6.023e+023; # Mass of 1-Ci sample of Ra-226, kg\n",
      "A_rf = 10**6; # Activity, Rf\n",
      "N_rf = A_rf/D; # Number of atoms decayed\n",
      "M_rf = m*N_rf/6.023e+023; # Mass of 1-Rf sample of Ra-226, kg\n",
      "\n",
      "#Result\n",
      "print \"Mass of 1-Ci sample of Ra-226   = %5.3e kg and \\n Mass of 1-Rf sample of Ra-226  =  %4.2e kg \"%(M_Ci, M_rf )\n"
     ],
     "language": "python",
     "metadata": {},
     "outputs": [
      {
       "output_type": "stream",
       "stream": "stdout",
       "text": [
        "Mass of 1-Ci sample of Ra-226   = 1.023e-03 kg and \n",
        " Mass of 1-Rf sample of Ra-226  =  2.77e-08 kg \n"
       ]
      }
     ],
     "prompt_number": 8
    },
    {
     "cell_type": "heading",
     "level": 2,
     "metadata": {},
     "source": [
      "Example 3.2.8, Page 128"
     ]
    },
    {
     "cell_type": "code",
     "collapsed": false,
     "input": [
      "import math\n",
      "\n",
      "#Variable declaration\n",
      "N_o = 7.721e+018; # Number of atoms in 3 mg of U-234\n",
      "t_h = 2.5e+05; # Half life of U-234, years\n",
      "T = 150000; # Total time, years\n",
      "\n",
      "#Calculations\n",
      "lamda = 0.6931/t_h; # Decay constant, year^-1\n",
      "N = N_o*(math.exp(-lamda*T)); # Number of atoms left after T years\n",
      "m = 234000; # Mass of 6.023e+023 atoms of U-234, mg\n",
      "M = m*N/(6.023e+023); # Weight of sample left after t years, \n",
      "L = 8.8e-014; # Given decay constant, S^-1\n",
      "A = N*L*10**6/(3.7e+010); # Activity, micro Ci\n",
      "\n",
      "#Result\n",
      "print \"The weight of sample  =  %5.3f mg  \\n Activity   =  %5.2f micro Ci \"%(M, A)\n",
      " "
     ],
     "language": "python",
     "metadata": {},
     "outputs": [
      {
       "output_type": "stream",
       "stream": "stdout",
       "text": [
        "The weight of sample  =  1.979 mg  \n",
        " Activity   =  12.12 micro Ci \n"
       ]
      }
     ],
     "prompt_number": 11
    },
    {
     "cell_type": "heading",
     "level": 2,
     "metadata": {},
     "source": [
      "Example 3.2.9, Page 129"
     ]
    },
    {
     "cell_type": "code",
     "collapsed": false,
     "input": [
      "#Variable declaration\n",
      "N = 6.324e+020; # Number of atoms in 4.2e-05 kg of K-40\n",
      "\n",
      "#Calculations\n",
      "t_h = 1.31e+09*31536000; # Half life of K-40, s\n",
      "D = 0.693/t_h; # Decay constant, s^-1\n",
      "A = N*D/(3.7e+010)*10**6; # Activity of K-40, microCi\n",
      "\n",
      "#Result\n",
      "print \"The activity of K-40 : %5.3f micro Ci\"%A"
     ],
     "language": "python",
     "metadata": {},
     "outputs": [
      {
       "output_type": "stream",
       "stream": "stdout",
       "text": [
        "The activity of K-40 : 0.287 micro Ci\n"
       ]
      }
     ],
     "prompt_number": 12
    },
    {
     "cell_type": "heading",
     "level": 2,
     "metadata": {},
     "source": [
      "Example 3.2.10, Page 130"
     ]
    },
    {
     "cell_type": "code",
     "collapsed": false,
     "input": [
      "#Variable declaration\n",
      "N = 2.87e+019; # Number of atoms in 10e-10kg of Po-210\n",
      "t_h = 138*24*3600; # Half life of Po-210, s\n",
      "\n",
      "#Calculations\n",
      "D = 0.693/t_h; # Decay constant, s^-1\n",
      "A = N*D; # Activity of K-40, dps\n",
      "E = 5.3*1.6e-013; # Power produce by one dps, MeV\n",
      "P = A*E; # Power produced by 1.667e+012 dps, W\n",
      "\n",
      "#Result\n",
      "print \"The Power produced by 1.667e+012 dps : %3.1f W\"%P\n"
     ],
     "language": "python",
     "metadata": {},
     "outputs": [
      {
       "output_type": "stream",
       "stream": "stdout",
       "text": [
        "The Power produced by 1.667e+012 dps : 1.4 W\n"
       ]
      }
     ],
     "prompt_number": 13
    },
    {
     "cell_type": "heading",
     "level": 2,
     "metadata": {},
     "source": [
      "Example 3.3.1, Page 131"
     ]
    },
    {
     "cell_type": "code",
     "collapsed": false,
     "input": [
      "#Variable declaration\n",
      "# Declare three cells (for three reactions)\n",
      "R1 = [[0,0,0],[0,0,0],[0,0,0],[0,0,0]]\n",
      "R2 = [[0,0,0],[0,0,0],[0,0,0],[0,0,0]]\n",
      "R3 = [[0,0,0],[0,0,0],[0,0,0],[0,0,0]]\n",
      "\n",
      "# Enter data for first cell (Reaction)\n",
      "R1[0][0] = \"Pb\";\n",
      "R1[0][1] = 82;\n",
      "R1[0][2] = 211;\n",
      "R1[1][0] = 'Bi';\n",
      "R1[1][1] = 83;\n",
      "R1[1][2] = 211;\n",
      "R1[2][0] = 'Tl';\n",
      "R1[2][1] = 81;\n",
      "R1[2][2] = 207;\n",
      "R1[3][0] = 'Pb';\n",
      "R1[3][1] = 82;\n",
      "R1[3][2] = 207;\n",
      "\n",
      "# Enter data for second cell (Reaction)\n",
      "R2[0][0] = \"U\";\n",
      "R2[0][1] = 92;\n",
      "R2[0][2] = 238;\n",
      "R2[1][0] = 'Th';\n",
      "R2[1][1] = 90;\n",
      "R2[1][2] = 234;\n",
      "R2[2][0] = 'Pa';\n",
      "R2[2][1] = 91;\n",
      "R2[2][2] = 234;\n",
      "R2[3][0] = 'U';\n",
      "R2[3][1] = 92;\n",
      "R2[3][2] = 234;\n",
      "\n",
      "# Enter data for third cell (Reaction)\n",
      "R3[0][0] = \"Bi\";\n",
      "R3[0][1] = 83;\n",
      "R3[0][2] = 211;\n",
      "R3[1][0] = 'Pa';\n",
      "R3[1][1] = 84;\n",
      "R3[1][2] = 211;\n",
      "R3[2][0] = 'Pb';\n",
      "R3[2][1] = 82;\n",
      "R3[2][2] = 207;\n",
      "\n",
      "\n",
      "#Calculations&Results\n",
      "# Declare a function returning the type of particle emitted\n",
      "def identify_particle(d_Z, d_A):\n",
      "    if d_Z == 2 & d_A == 4: \n",
      "        particle = \"Alpha\";\n",
      "    elif d_Z == -1 & d_A == 0:\n",
      "        particle = \"Beta minus\";\n",
      "    elif d_Z == 1 & d_A == 0:\n",
      "        particle = \"Beta plus\";\n",
      "      \n",
      "\n",
      "# Display emitted particles for first reaction\n",
      "print \"\\nReaction-I:\"\n",
      "for i in range(0,3):\n",
      "    dZ = R1[i][1]-R1[i+1][1];\n",
      "    dA = R1[i][2]-R1[i+1][2];\n",
      "    p = identify_particle(dZ,dA);\n",
      "    print \"%s(%d) - (%s) --> %s(%d)\"%(R1[i][0], R1[i][1], p, R1[i+1][0], R1[i+1][1]); \n",
      "\n",
      "\n",
      "# Display emitted particles for second reaction\n",
      "print \"\\n\\nReaction-II:\"\n",
      "for i in range(0,3):\n",
      "    dZ = R2[i][1]-R2[i+1][1];\n",
      "    dA = R2[i][2]-R2[i+1][2];\n",
      "    p = identify_particle(dZ,dA);\n",
      "    print \"%s(%d) - (%s) --> %s(%d)\"%(R2[i][0],R2[i][1], p, R2[i+1][0], R2[i+1][1]); \n",
      "\n",
      "\n",
      "# Display emitted particles for third reaction\n",
      "print \"\\n\\nReaction-III:\"\n",
      "for i in range(0,2):\n",
      "    dZ = R3[i][1]-R3[i+1][1];\n",
      "    dA = R3[i][2]-R3[i+1][2];\n",
      "    p = identify_particle(dZ,dA);\n",
      "    print \"%s(%d) - (%s) --> %s(%d)\"%(R3[i][0], R3[i][1], p, R3[i+1][0], R3[i+1][1]); \n"
     ],
     "language": "python",
     "metadata": {},
     "outputs": [
      {
       "output_type": "stream",
       "stream": "stdout",
       "text": [
        "\n",
        "Reaction-I:\n",
        "Pb(82) - (None) --> Bi(83)\n",
        "Bi(83) - (None) --> Tl(81)\n",
        "Tl(81) - (None) --> Pb(82)\n",
        "\n",
        "\n",
        "Reaction-II:\n",
        "U(92) - (None) --> Th(90)\n",
        "Th(90) - (None) --> Pa(91)\n",
        "Pa(91) - (None) --> U(92)\n",
        "\n",
        "\n",
        "Reaction-III:\n",
        "Bi(83) - (None) --> Pa(84)\n",
        "Pa(84) - (None) --> Pb(82)\n"
       ]
      }
     ],
     "prompt_number": 14
    },
    {
     "cell_type": "heading",
     "level": 2,
     "metadata": {},
     "source": [
      "Example 3.3.2, Page 132"
     ]
    },
    {
     "cell_type": "code",
     "collapsed": false,
     "input": [
      "#Variable declaration\n",
      "M_U = 238.050786; # Atomic mass of U-238, amu\n",
      "M_Pb = 205.9744550; # Atomic mass of Pb-205, amu\n",
      "M_He = 4.002603; # Atomic mass of He-4, amu\n",
      "M_e = 5.486e-04; # Atomic mass of electron, amu\n",
      "\n",
      "#Calculations\n",
      "M = M_Pb+(8*M_He)+(6*M_e); # Total mass of products, amu\n",
      "D = M_U-M; # Decrease in mass, amu\n",
      "E = D*931.47; # Energy evolved, MeV\n",
      "\n",
      "#Results\n",
      "print \"Total mass of products  = %1.7f amu \\n Decrease in mass   =  %9.7f amu and \\n Energy evolved   = %4.1f MeV\"%(M, D,  E)\n"
     ],
     "language": "python",
     "metadata": {},
     "outputs": [
      {
       "output_type": "stream",
       "stream": "stdout",
       "text": [
        "Total mass of products  = 237.9985706 amu \n",
        " Decrease in mass   =  0.0522154 amu and \n",
        " Energy evolved   = 48.6 MeV\n"
       ]
      }
     ],
     "prompt_number": 16
    },
    {
     "cell_type": "heading",
     "level": 2,
     "metadata": {},
     "source": [
      "Example 3.4.1, Page 133"
     ]
    },
    {
     "cell_type": "code",
     "collapsed": false,
     "input": [
      "#Variable declaration\n",
      "# Declare  cell (for given reaction)\n",
      "R1 = [[0,0,0,0],[0,0,0,0],[0,0,0,0],[0,0,0,0],[0,0,0,0]];\n",
      "# Enter data for cell (Reaction-I)\n",
      "R1[0][0] = \"A\";\n",
      "R1[0][1] = 90;\n",
      "R1[0][2] = 238;\n",
      "R1[0][3] = \"Alpha\";\n",
      "R1[1][0] = 'B';\n",
      "R1[1][3] = \"Beta minus\";\n",
      "R1[2][0] = 'C';\n",
      "R1[2][3] = \"Alpha\";\n",
      "R1[3][0] = 'D';\n",
      "R1[3][3] = \"Beta minus\";\n",
      "R1[4][0] = 'E';  \n",
      "\n",
      "# Declare a function returning the type of particle emitted\n",
      "def daughter_nucleus(particle_emitted):\n",
      "    if particle_emitted == \"Alpha\":\n",
      "        Z = 2\n",
      "        A = 4;\n",
      "    elif particle_emitted == \"Beta minus\":\n",
      "        Z = -1\n",
      "        A = 0; \n",
      "    elif particle_emitted == \"Beta plus\":\n",
      "        Z = 1\n",
      "        A = 0;\n",
      "    return Z,A\n",
      "\n",
      "# Display emitted particles for first reaction\n",
      "print \"\\n\\nReaction-I:\"\n",
      "for i in range(0,4):\n",
      "    [Z, A]  = daughter_nucleus(R1[i][3]);\n",
      "    R1[i+1][1] = R1[i][1]-Z;\n",
      "    R1[i+1][2] = R1[i][2]-A; \n",
      "    print \"%s(%d,%d) - (%s) --> %s(%d,%d)\"%(R1[i][0], R1[i][1], R1[i][2], R1[i][3], R1[i+1][0], R1[i+1][1], R1[i+1][2])\n",
      "         "
     ],
     "language": "python",
     "metadata": {},
     "outputs": [
      {
       "output_type": "stream",
       "stream": "stdout",
       "text": [
        "\n",
        "\n",
        "Reaction-I:\n",
        "A(90,238) - (Alpha) --> B(88,234)\n",
        "B(88,234) - (Beta minus) --> C(89,234)\n",
        "C(89,234) - (Alpha) --> D(87,230)\n",
        "D(87,230) - (Beta minus) --> E(88,230)\n"
       ]
      }
     ],
     "prompt_number": 17
    },
    {
     "cell_type": "heading",
     "level": 2,
     "metadata": {},
     "source": [
      "Example 3.4.2, Page 133"
     ]
    },
    {
     "cell_type": "code",
     "collapsed": false,
     "input": [
      "import math\n",
      "\n",
      "#Variable declaration\n",
      "D = math.log(2); # Decay constant, s^-1\n",
      "t = math.log(100); # Half life, s\n",
      "\n",
      "#Calculations\n",
      "n = t/D; # Number of half-lives \n",
      "\n",
      "#Result\n",
      "print \"Number of half-lives : %4.2f \"%n\n"
     ],
     "language": "python",
     "metadata": {},
     "outputs": [
      {
       "output_type": "stream",
       "stream": "stdout",
       "text": [
        "Number of half-lives : 6.64 \n"
       ]
      }
     ],
     "prompt_number": 18
    },
    {
     "cell_type": "heading",
     "level": 2,
     "metadata": {},
     "source": [
      "Example 3.4.3, Page 133"
     ]
    },
    {
     "cell_type": "code",
     "collapsed": false,
     "input": [
      "#Variable declaration\n",
      "H_t = 60.5*60; # Total half life period, s\n",
      "\n",
      "#Calculations\n",
      "T_d = 0.693/H_t; # Total decay constant, s^-1\n",
      "A_d = 34./100*T_d; # Decay constant for alpha decays, s^-1\n",
      "B_d = 66./100*T_d; # Decay constant for beta decay, s^-1\n",
      "\n",
      "#Result\n",
      "print \"Alpha decay   =  %4.2e s^-1    \\n Beta decay    = %4.2e s^-1\"%(A_d, B_d)\n"
     ],
     "language": "python",
     "metadata": {},
     "outputs": [
      {
       "output_type": "stream",
       "stream": "stdout",
       "text": [
        "Alpha decay   =  6.49e-05 s^-1    \n",
        " Beta decay    = 1.26e-04 s^-1\n"
       ]
      }
     ],
     "prompt_number": 20
    },
    {
     "cell_type": "heading",
     "level": 2,
     "metadata": {},
     "source": [
      "Example 3.4.4, Page 134"
     ]
    },
    {
     "cell_type": "code",
     "collapsed": false,
     "input": [
      "#Variable declaration\n",
      "A_r = 1.8e+04; # Atomic ratio of U(92,238) and U(92,234)\n",
      "T_238  = 2.5e+05; # Half life of U(92,238), years\n",
      "\n",
      "#Calculations\n",
      "T_234 = A_r*T_238; # Half life of U(92,234), years\n",
      "\n",
      "#Result\n",
      "print \"Half life of U(92,234): %3.1e years\"%T_234\n"
     ],
     "language": "python",
     "metadata": {},
     "outputs": [
      {
       "output_type": "stream",
       "stream": "stdout",
       "text": [
        "Half life of U(92,234): 4.5e+09 years\n"
       ]
      }
     ],
     "prompt_number": 21
    },
    {
     "cell_type": "heading",
     "level": 2,
     "metadata": {},
     "source": [
      "Example 3.5.2, Page 135"
     ]
    },
    {
     "cell_type": "code",
     "collapsed": false,
     "input": [
      "#Variable declaration\n",
      "M_239 = 239.052158; # Atomic mass of Pu-239, amu\n",
      "M_235 = 235.043925; # Atomic mass of U-235, amu\n",
      "M_4 = 4.002603; # Atomic mass of He-4, amu\n",
      "\n",
      "#Calculations\n",
      "Q = (M_239-M_235-M_4)*931.47; # Difference in masses, MeV\n",
      "A = 241; # Mass number \n",
      "K_alpha = Q*(A-4)/A; # Kinetic energy of alpha particle, MeV\n",
      "\n",
      "#Result\n",
      "print \"Kinetic energy of alpha particle %5.2f MeV\"%K_alpha\n"
     ],
     "language": "python",
     "metadata": {},
     "outputs": [
      {
       "output_type": "stream",
       "stream": "stdout",
       "text": [
        "Kinetic energy of alpha particle  5.16 MeV\n"
       ]
      }
     ],
     "prompt_number": 23
    },
    {
     "cell_type": "heading",
     "level": 2,
     "metadata": {},
     "source": [
      "Example 3.5.3, Page 136"
     ]
    },
    {
     "cell_type": "code",
     "collapsed": false,
     "input": [
      "import math\n",
      "\n",
      "#Variable declaration\n",
      "Z = 88; # Atomic number of Ra-226 nucleus, \n",
      "A = 226; # Atomic mass of Ra-226 nucleus\n",
      "R_0 = 1.3e-015; # Distance of closest approach, m\n",
      "E_0 = 8.854e-012; # Permittivity of free space, C^2/Nm^2\n",
      "e = 1.6e-019; # Charge of an electron, C\n",
      "\n",
      "#Calculations\n",
      "B = 2/(1.6e-013)*(Z-2)*e**2/(4*math.pi*E_0*R_0*A**(1./3)); # The barrier height faced by alpha particle, MeV\n",
      "\n",
      "#Result\n",
      "print \"The barrier height faced by alpha particle : %4.1f MeV\"%B\n"
     ],
     "language": "python",
     "metadata": {},
     "outputs": [
      {
       "output_type": "stream",
       "stream": "stdout",
       "text": [
        "The barrier height faced by alpha particle : 31.2 MeV\n"
       ]
      }
     ],
     "prompt_number": 24
    },
    {
     "cell_type": "heading",
     "level": 2,
     "metadata": {},
     "source": [
      "Example 3.5.4, Page 136"
     ]
    },
    {
     "cell_type": "code",
     "collapsed": false,
     "input": [
      "import math\n",
      "\n",
      "#Variable declaration\n",
      "Z_1 = 2; #Atomic number of He-4,  \n",
      "Z_2 = 7; # Atomic number of N-14,\n",
      "A_1 = 4; # Atomis mass of He-4 nucleus \n",
      "A_2 = 14; # Atomic mass of N-14 nucleus\n",
      "R_0 = 1.5e-015; # Distance of closest approach, m\n",
      "E_0 = 8.854e-012; # Permittivity of free space, C**2/Nm**2\n",
      "e = 1.6e-019; # Charge of an electron, C\n",
      "\n",
      "#Calculations\n",
      "B = Z_1/(1.6e-013)*Z_2*e**2/(4*math.pi*E_0*R_0*(A_1**(1./3)+A_2**(1./3))); # The coulomb barrier  faced by alpha particle, MeV\n",
      "\n",
      "#Result\n",
      "print \"The coulomb barrier  faced by alpha particle : %4.2f MeV\"%B\n"
     ],
     "language": "python",
     "metadata": {},
     "outputs": [
      {
       "output_type": "stream",
       "stream": "stdout",
       "text": [
        "The coulomb barrier  faced by alpha particle : 3.36 MeV\n"
       ]
      }
     ],
     "prompt_number": 25
    },
    {
     "cell_type": "heading",
     "level": 2,
     "metadata": {},
     "source": [
      "Example 3.5.5, Page 137"
     ]
    },
    {
     "cell_type": "code",
     "collapsed": false,
     "input": [
      "#Variable declaration\n",
      "R_0 = 1.2; # Distance of closest approach, m\n",
      "\n",
      "#Calculations\n",
      "E_b = 197/(R_0*137); # The K.E. of proton to penetrate the berrier of H nucleus, Mev\n",
      "\n",
      "#Result\n",
      "print \"The K.E. of proton to penetrate the berrier of H nucleus : %3.1f MeV\"%E_b\n"
     ],
     "language": "python",
     "metadata": {},
     "outputs": [
      {
       "output_type": "stream",
       "stream": "stdout",
       "text": [
        "The K.E. of proton to penetrate the berrier of H nucleus : 1.2 MeV\n"
       ]
      }
     ],
     "prompt_number": 26
    },
    {
     "cell_type": "heading",
     "level": 2,
     "metadata": {},
     "source": [
      "Example 3.6.1, Page 138"
     ]
    },
    {
     "cell_type": "code",
     "collapsed": false,
     "input": [
      "#Variable declaration\n",
      "M_C = 14.007685; # Mass of C-14 nucleus, amu\n",
      "E_e = 0.156/931.47; # Kinetic energy of emitted electron, amu\n",
      "\n",
      "#Calculations\n",
      "M_N = M_C-E_e; # Mass of N-14 nucleus, amu\n",
      "\n",
      "#Result\n",
      "print \"Mass of N-14 nucleus : %9.6f amu\"%M_N\n"
     ],
     "language": "python",
     "metadata": {},
     "outputs": [
      {
       "output_type": "stream",
       "stream": "stdout",
       "text": [
        "Mass of N-14 nucleus : 14.007518 amu\n"
       ]
      }
     ],
     "prompt_number": 27
    },
    {
     "cell_type": "heading",
     "level": 2,
     "metadata": {},
     "source": [
      "Example 3.6.3, Page 139"
     ]
    },
    {
     "cell_type": "code",
     "collapsed": false,
     "input": [
      "#Variable declaration\n",
      "N_p = 6.70e+033;# Number of protons \n",
      "T_p = 10**32; # Mean life of proton, years\n",
      "\n",
      "#Calculations\n",
      "D_p = N_p/T_p*0.5; # Number of proton decays per year, decays/year  \n",
      "\n",
      "#Result\n",
      "print \"Number of proton decays per year,: %4.1f decays/year\"%D_p\n"
     ],
     "language": "python",
     "metadata": {},
     "outputs": [
      {
       "output_type": "stream",
       "stream": "stdout",
       "text": [
        "Number of proton decays per year,: 33.5 decays/year\n"
       ]
      }
     ],
     "prompt_number": 28
    },
    {
     "cell_type": "heading",
     "level": 2,
     "metadata": {},
     "source": [
      "Example 3.7.1, Page 141"
     ]
    },
    {
     "cell_type": "code",
     "collapsed": false,
     "input": [
      "#Variable declaration\n",
      "E_2 = 2505; # Second excited state of Ni-60, KeV\n",
      "E_1 = 1332; # First excited state of Ni-60, KeV\n",
      "E_0 = 0; # Ground state of Ni-60 , KeV\n",
      "\n",
      "#Calculations\n",
      "E_G_2 = E_2-E_1; # Energy of gamma rays emitted when transition from 2 to 1, KeV\n",
      "E_G_1 = E_1-E_0; # Energy of gamma rays emitted when transition from 1 to 0, KeV\n",
      "\n",
      "#Result\n",
      "print \"Energies of two gamma rays emitted : %d KeV and %d KeV\"%(E_G_2, E_G_1)\n"
     ],
     "language": "python",
     "metadata": {},
     "outputs": [
      {
       "output_type": "stream",
       "stream": "stdout",
       "text": [
        "Energies of two gamma rays emitted : 1173 KeV and 1332 KeV\n"
       ]
      }
     ],
     "prompt_number": 29
    },
    {
     "cell_type": "heading",
     "level": 2,
     "metadata": {},
     "source": [
      "Example 3.7.2, Page 141"
     ]
    },
    {
     "cell_type": "code",
     "collapsed": false,
     "input": [
      "#Variable declaration\n",
      "E = 662; # Energy available with the nucleus, KeV\n",
      "I_b_K = 37.4; # Binding energy for K-shell, KeV\n",
      "I_b_L = 6.0; # Binding energy for L-shell, KeV\n",
      "\n",
      "#Calculations\n",
      "E_c_K = E-I_b_K; # Energy conversion for K-shell, KeV\n",
      "E_c_L = E-I_b_L; # Energy conversion for L-shell, KeV\n",
      "\n",
      "#Results\n",
      "print \"Energies conversion for K and L-shell electrons : %5.1f KeV and %d KeV\"%(E_c_K, E_c_L)\n"
     ],
     "language": "python",
     "metadata": {},
     "outputs": [
      {
       "output_type": "stream",
       "stream": "stdout",
       "text": [
        "Energies conversion for K and L-shell electrons : 624.6 KeV and 656 KeV\n"
       ]
      }
     ],
     "prompt_number": 30
    },
    {
     "cell_type": "heading",
     "level": 2,
     "metadata": {},
     "source": [
      "Example 3.9.1, Page 143"
     ]
    },
    {
     "cell_type": "code",
     "collapsed": false,
     "input": [
      "import math\n",
      "\n",
      "#Variable declaration\n",
      "t_h = 4.5e+09; # Half life of mineral, years\n",
      "\n",
      "#Calculations\n",
      "D_c = 0.6931/t_h; # Decay constant of minerals, years^-1\n",
      "N_1 = 6.023e+023/238; # Number of nuclei in 1g of Uranium\n",
      "N = 6.023e+023*0.093/206; # Number of nuclei in 0.093g of lead\n",
      "t = math.log(1+N/N_1)/D_c; # Age of the mineral, years\n",
      "\n",
      "#Result\n",
      "print \"Age of the mineral : %6.4e years \"%t\n"
     ],
     "language": "python",
     "metadata": {},
     "outputs": [
      {
       "output_type": "stream",
       "stream": "stdout",
       "text": [
        "Age of the mineral : 6.6261e+08 years \n"
       ]
      }
     ],
     "prompt_number": 31
    },
    {
     "cell_type": "heading",
     "level": 2,
     "metadata": {},
     "source": [
      "Example 3.9.2, Page 145"
     ]
    },
    {
     "cell_type": "code",
     "collapsed": false,
     "input": [
      "import math\n",
      "\n",
      "#Variable declaration\n",
      "t_h = 5760; # Half life of boat, years\n",
      "D_c = 0.6931/t_h; # Decay constant of boat, years^-1\n",
      "N_1 = 16.; # Number of atoms decay per min. per gram initially \n",
      "N = 5; # Number of atoms decay per min per gram presently\n",
      "\n",
      "#Calculations\n",
      "t = math.log(N_1/N)*1/D_c; # Age of the boat, years\n",
      "\n",
      "#Result\n",
      "print \"Age of the boat : %d years \"%t\n"
     ],
     "language": "python",
     "metadata": {},
     "outputs": [
      {
       "output_type": "stream",
       "stream": "stdout",
       "text": [
        "Age of the boat : 9666 years \n"
       ]
      }
     ],
     "prompt_number": 33
    },
    {
     "cell_type": "heading",
     "level": 2,
     "metadata": {},
     "source": [
      "Example 3.9.4, Page 145"
     ]
    },
    {
     "cell_type": "code",
     "collapsed": false,
     "input": [
      "import math\n",
      "\n",
      "#Variable declaration\n",
      "t_h = 24000*365*24*3600; # Half life of Pu-239, s\n",
      "\n",
      "#Calculations\n",
      "D_c = 0.6931/t_h; # Decay constant of Pu-239, s^-1\n",
      "N = 6.023e+023*10/239; # Number of nuclei at t = 0, nuclei \n",
      "A_0 = D_c*N; # Initial activity, disintegrations/sec\n",
      "A = 0.1; # Activity after time t, disintegrations/sec\n",
      "t = math.log(A_0/A)*1/D_c; # Age of the Pu-239, years\n",
      "\n",
      "#Results\n",
      "print \"The number of nuclei at t = 0,  = %4.2e nuclei \\nInitial activity  = %4.2e disintegrations/s and \\nAge  of Pu-239  = %4.2e years \"%(N, A_0, t)\n"
     ],
     "language": "python",
     "metadata": {},
     "outputs": [
      {
       "output_type": "stream",
       "stream": "stdout",
       "text": [
        "The number of nuclei at t = 0,  = 2.52e+22 nuclei \n",
        "Initial activity  = 2.31e+10 disintegrations/s and \n",
        "Age  of Pu-239  = 2.86e+13 years \n"
       ]
      }
     ],
     "prompt_number": 34
    }
   ],
   "metadata": {}
  }
 ]
}