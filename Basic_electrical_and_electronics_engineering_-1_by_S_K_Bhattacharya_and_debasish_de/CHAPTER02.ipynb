{
 "metadata": {
  "name": "",
  "signature": "sha256:fccbe12099ffe117a0fa40501d3eda0d5f36042e2e9f622a46c19f340752cbe1"
 },
 "nbformat": 3,
 "nbformat_minor": 0,
 "worksheets": [
  {
   "cells": [
    {
     "cell_type": "heading",
     "level": 1,
     "metadata": {},
     "source": [
      "CHAPTER02:ELECTROMAGNETISM"
     ]
    },
    {
     "cell_type": "heading",
     "level": 2,
     "metadata": {},
     "source": [
      "Example E01 : Pg 125"
     ]
    },
    {
     "cell_type": "code",
     "collapsed": false,
     "input": [
      "# Ex_2_1\n",
      "# given data : \n",
      "import math \n",
      "LTsc=1.6;# H(Series cumulative)\n",
      "LTd=0.4;# H(differentially)\n",
      "L1=0.6;# H\n",
      "M=(LTsc-LTd)/4;# H(Mutual Inductance)\n",
      "L2=LTsc-2.*M-L1;# H\n",
      "K=M/math.sqrt(L1*L2);# Coupling Coefficient\n",
      "print\"Mutual Inductance(H)\",M\n",
      "print\"Coupling Coefficient\",K"
     ],
     "language": "python",
     "metadata": {},
     "outputs": [
      {
       "output_type": "stream",
       "stream": "stdout",
       "text": [
        "Mutual Inductance(H) 0.3\n",
        "Coupling Coefficient 0.612372435696\n"
       ]
      }
     ],
     "prompt_number": 1
    },
    {
     "cell_type": "heading",
     "level": 2,
     "metadata": {},
     "source": [
      "Example E02 : Pg 125"
     ]
    },
    {
     "cell_type": "code",
     "collapsed": false,
     "input": [
      "# Ex_2_2\n",
      "# given data : \n",
      "l=0.5;# m\n",
      "B=0.5;# Wb/m**2\n",
      "I=50.;# A\n",
      "v=20.;# m/s\n",
      "F=B*l*I;# N\n",
      "print\"Force expereinced by the conductor(N)\",F\n",
      "e=B*l*v;# V\n",
      "print\"emf induced(V)\",e"
     ],
     "language": "python",
     "metadata": {},
     "outputs": [
      {
       "output_type": "stream",
       "stream": "stdout",
       "text": [
        "Force expereinced by the conductor(N) 12.5\n",
        "emf induced(V) 5.0\n"
       ]
      }
     ],
     "prompt_number": 2
    },
    {
     "cell_type": "heading",
     "level": 2,
     "metadata": {},
     "source": [
      "Example E03 : Pg 126"
     ]
    },
    {
     "cell_type": "code",
     "collapsed": false,
     "input": [
      "# Ex_2_3\n",
      "# given data : \n",
      "import math \n",
      "N=100.;# turns\n",
      "l=0.5;# m\n",
      "A=10./10000.;# m**2\n",
      "mur=2000.;# relative permeability of iron\n",
      "mu0=4.*math.pi*10.**-7.;# permeability\n",
      "I=5.;# A\n",
      "t=10.;# ms\n",
      "L=mur*mu0*N**2.*A/l*1000.;# mH\n",
      "print\"Inductance of the coil(mH)\",round(L,2)\n",
      "E=L*2.*I/t;# V\n",
      "print\"Induced emf in the coil(V)\",round(E,2)"
     ],
     "language": "python",
     "metadata": {},
     "outputs": [
      {
       "output_type": "stream",
       "stream": "stdout",
       "text": [
        "Inductance of the coil(mH) 50.27\n",
        "Induced emf in the coil(V) 50.27\n"
       ]
      }
     ],
     "prompt_number": 3
    },
    {
     "cell_type": "heading",
     "level": 2,
     "metadata": {},
     "source": [
      "Example E04 : Pg 127"
     ]
    },
    {
     "cell_type": "code",
     "collapsed": false,
     "input": [
      "# Ex_2_4\n",
      "# given data : \n",
      "N1=500.;# turns\n",
      "N2=2000.;# turns\n",
      "K=50./100.;# coefficient for 50% flux linked\n",
      "diBYdt=10.;# A/s\n",
      "L1=200.;# mH\n",
      "fi1BYI1=L1/N1;\n",
      "M=N2*fi1BYI1;# mH\n",
      "e2=M*10.**-3.*diBYdt;# V\n",
      "print\"Mutual Inductance of two coil(H)\",M/1000.\n",
      "print\"Induced emf in the coil having 1000 turns(V)\",e2"
     ],
     "language": "python",
     "metadata": {},
     "outputs": [
      {
       "output_type": "stream",
       "stream": "stdout",
       "text": [
        "Mutual Inductance of two coil(H) 0.8\n",
        "Induced emf in the coil having 1000 turns(V) 8.0\n"
       ]
      }
     ],
     "prompt_number": 4
    },
    {
     "cell_type": "heading",
     "level": 2,
     "metadata": {},
     "source": [
      "Example E05 : Pg 129"
     ]
    },
    {
     "cell_type": "code",
     "collapsed": false,
     "input": [
      "# Ex_2_5\n",
      "# given data : \n",
      "I1=5.;# A\n",
      "N1=500.;# turns\n",
      "fi1=1.;# mWb\n",
      "dt=10.;# ms\n",
      "e2=50.;# V\n",
      "K=60./100.;# coefficient of coupling\n",
      "di1=2.*(I1);# A(as current changes from +5A to -5A)\n",
      "M=e2*dt*10.**-3./di1;# H\n",
      "L1=N1*fi1/1000./I1;# H\n",
      "L2=L1*M**2./K**2.;# H\n",
      "print\"Mutual Inductance of two coil(H)\",M\n",
      "print\"Self inductance of coil 1(H)\",L1\n",
      "print\"Self inductance of coil 2(H)\",L2\n",
      "# Answer is wrong in the book."
     ],
     "language": "python",
     "metadata": {},
     "outputs": [
      {
       "output_type": "stream",
       "stream": "stdout",
       "text": [
        "Mutual Inductance of two coil(H) 0.05\n",
        "Self inductance of coil 1(H) 0.1\n",
        "Self inductance of coil 2(H) 0.000694444444444\n"
       ]
      }
     ],
     "prompt_number": 5
    },
    {
     "cell_type": "heading",
     "level": 2,
     "metadata": {},
     "source": [
      "Example E06 : Pg 131"
     ]
    },
    {
     "cell_type": "code",
     "collapsed": false,
     "input": [
      "# Ex_2_6\n",
      "# given data : \n",
      "import math \n",
      "N1=1000.;# turns\n",
      "N2=400.;# turns\n",
      "K1=75./100.;# coefficient of coupling\n",
      "I1=6.;# A\n",
      "I2=6.;# A\n",
      "fi1=0.8;# mWb\n",
      "fi2=0.5;# mWb\n",
      "L1=N1*fi1*10.**-3./I1;# H\n",
      "L2=N2*fi2*10.**-3./I2;# H\n",
      "M=N2*K1*fi1*10.**-3./I1;# H\n",
      "K=M/math.sqrt(L1*L2);\n",
      "print\"Self inductance of coil 1(H)\",L1\n",
      "print\"Self inductance of coil 2(H)\",L2\n",
      "print\"Mutual Inductance of two coil(H)\",M\n",
      "print\"Coefficient of coupling\",K"
     ],
     "language": "python",
     "metadata": {},
     "outputs": [
      {
       "output_type": "stream",
       "stream": "stdout",
       "text": [
        "Self inductance of coil 1(H) 0.133333333333\n",
        "Self inductance of coil 2(H) 0.0333333333333\n",
        "Mutual Inductance of two coil(H) 0.04\n",
        "Coefficient of coupling 0.6\n"
       ]
      }
     ],
     "prompt_number": 6
    },
    {
     "cell_type": "heading",
     "level": 2,
     "metadata": {},
     "source": [
      "Example E07 : Pg 132"
     ]
    },
    {
     "cell_type": "code",
     "collapsed": false,
     "input": [
      "# Ex_2_7\n",
      "# given data : \n",
      "import math \n",
      "r=10.;# cm\n",
      "I=100.;# A\n",
      "d=5.;# cm\n",
      "mu0=4.*math.pi*10.**-7.;# permeability\n",
      "Bc=mu0*I/2./(r/100.);# Wb/m**2 or T\n",
      "B=mu0*I*(r/100.)**2./(2.*((r/100.)**2.+(d/100.)**2.)**(3./2.));# Wb/m**2\n",
      "print\"Flux density at the centre(Wb/m**2)\",round(Bc,6)\n",
      "print\"Flux density in the plane(Wb/m**2)\",round(B,6)\n",
      "# Answer is wrong in the book."
     ],
     "language": "python",
     "metadata": {},
     "outputs": [
      {
       "output_type": "stream",
       "stream": "stdout",
       "text": [
        "Flux density at the centre(Wb/m**2) 0.000628\n",
        "Flux density in the plane(Wb/m**2) 0.00045\n"
       ]
      }
     ],
     "prompt_number": 7
    },
    {
     "cell_type": "heading",
     "level": 2,
     "metadata": {},
     "source": [
      "Example E08 : Pg 132"
     ]
    },
    {
     "cell_type": "code",
     "collapsed": false,
     "input": [
      "# Ex_2_8\n",
      "# given data : \n",
      "import math \n",
      "D=0.5;# m(mean diameter)\n",
      "A=0.01;# m**2\n",
      "fi=10./1000.;# Wb\n",
      "N=100.;# turns\n",
      "mmf1=10.;# A-turn# (for Ni alloy)\n",
      "mmf2=50.;# A-turn# (for Si-steel alloy)\n",
      "l=math.pi*D;# m(total length)\n",
      "lni=l/2.;# m(length of Ni alloy)\n",
      "lsi=l/2.;# m(length of Si-steel)\n",
      "mmf=mmf1*lni+mmf2*lsi;# A-turn# /total mmf\n",
      "print\"mmf required(A-turn)\",round(mmf,2)\n",
      "I=mmf/N;# A\n",
      "print\"Current(A)\",round(I,2)"
     ],
     "language": "python",
     "metadata": {},
     "outputs": [
      {
       "output_type": "stream",
       "stream": "stdout",
       "text": [
        "mmf required(A-turn) 47.12\n",
        "Current(A) 0.47\n"
       ]
      }
     ],
     "prompt_number": 8
    },
    {
     "cell_type": "heading",
     "level": 2,
     "metadata": {},
     "source": [
      "Example E09 : Pg 139"
     ]
    },
    {
     "cell_type": "code",
     "collapsed": false,
     "input": [
      "# Ex_2_9\n",
      "# given data : \n",
      "import math\n",
      "l=20./100.;# m\n",
      "A=1.5/10000.;# m**2\n",
      "mur=2000.;# relative permeability\n",
      "mu0=4.*math.pi*10.**-7.;# permeability\n",
      "S=l/(mu0*mur*A);# AT/Wb\n",
      "print\"Reluctance of silicon steel(AT/Wb)\",round(S,2)"
     ],
     "language": "python",
     "metadata": {},
     "outputs": [
      {
       "output_type": "stream",
       "stream": "stdout",
       "text": [
        "Reluctance of silicon steel(AT/Wb) 530516.48\n"
       ]
      }
     ],
     "prompt_number": 9
    },
    {
     "cell_type": "heading",
     "level": 2,
     "metadata": {},
     "source": [
      "Example E10 : Pg 140"
     ]
    },
    {
     "cell_type": "code",
     "collapsed": false,
     "input": [
      "# Ex_2_10\n",
      "# given data : \n",
      "import math \n",
      "D=25./100.;# m\n",
      "A=9./10000.;# m**2\n",
      "N=100.;# turns\n",
      "I=1.5;# A\n",
      "l=math.pi*D;# m\n",
      "mur=2000.;# relative permeability\n",
      "mu0=4.*math.pi*10.**-7.;# permeability\n",
      "fi=N*I/l*(mu0*mur*A);# Wb\n",
      "print\"Flux produced(mWb)\",fi*1000"
     ],
     "language": "python",
     "metadata": {},
     "outputs": [
      {
       "output_type": "stream",
       "stream": "stdout",
       "text": [
        "Flux produced(mWb) 0.432\n"
       ]
      }
     ],
     "prompt_number": 10
    },
    {
     "cell_type": "heading",
     "level": 2,
     "metadata": {},
     "source": [
      "Example E11 : Pg 141"
     ]
    },
    {
     "cell_type": "code",
     "collapsed": false,
     "input": [
      "# Ex_2_11\n",
      "# given data : \n",
      "import math \n",
      "lg=0.01/100.;# m(airgap)\n",
      "li=39.99/100.;# m(mean length)\n",
      "mur=2000.;# relative permeability\n",
      "mu0=4.*math.pi*10.**-7.;# permeability\n",
      "N=1000.;# turns\n",
      "A=9./10000.;# m**2\n",
      "fi=1.;# mWb\n",
      "S=li/(mu0*mur*A)+lg/(mu0*A);# AT/Wb\n",
      "I=fi*10.**-3.*S/N;# A\n",
      "print\"Current required(A)\",I"
     ],
     "language": "python",
     "metadata": {},
     "outputs": [
      {
       "output_type": "stream",
       "stream": "stdout",
       "text": [
        "Current required(A) 0.26521402878\n"
       ]
      }
     ],
     "prompt_number": 12
    },
    {
     "cell_type": "heading",
     "level": 2,
     "metadata": {},
     "source": [
      "Example E12 : Pg 142"
     ]
    },
    {
     "cell_type": "code",
     "collapsed": false,
     "input": [
      "# Ex_2_12\n",
      "# given data : \n",
      "Ac=10./10000.;# m**2\n",
      "Ao=5./10000.;# m**2(outer limbs)\n",
      "Lo=25.;# cm(outer limbs)\n",
      "Lc=16.;# cm\n",
      "N=1000.;# turns\n",
      "fic=1.2;# mWb\n",
      "fio=1.2;# mWb\n",
      "B=1.2;# Wb/m**2\n",
      "mmf=750.;# AT/m\n",
      "Bc=fic*10.**-3./Ac;# Wb/m**2\n",
      "Bo=fio*10.**-3./Ao;# Wb/m**2\n",
      "mmf_total=mmf*Lo/100.+mmf*Lc/100.;# AT/m\n",
      "I=mmf_total/N;# A\n",
      "print\"Current required(A)\",I"
     ],
     "language": "python",
     "metadata": {},
     "outputs": [
      {
       "output_type": "stream",
       "stream": "stdout",
       "text": [
        "Current required(A) 0.3075\n"
       ]
      }
     ],
     "prompt_number": 13
    },
    {
     "cell_type": "heading",
     "level": 2,
     "metadata": {},
     "source": [
      "Example E13 : Pg 142"
     ]
    },
    {
     "cell_type": "code",
     "collapsed": false,
     "input": [
      "# Ex_2_13\n",
      "# given data : \n",
      "import math \n",
      "Ao=5./10000.;# m**2(outer limbs)\n",
      "li=100./100.;# m(iron path)\n",
      "A=10./10000.;# m**2\n",
      "lg=1./1000.;# m(airgap)\n",
      "I1=3.;# A\n",
      "I2=2.;# A\n",
      "N1=100.;# turns\n",
      "N2=50.;# turns\n",
      "mur=2000.;# relative permeability\n",
      "mu0=4.*math.pi*10.**-7.;# permeability\n",
      "mmf=N1*I1-N2*I2;# AT\n",
      "S=1./(mu0*A)*(li/mur+lg);# AT/Wb\n",
      "fi=mmf/S*1000.;# mWb\n",
      "print\"Flux available(mWb)\",round(fi,4)"
     ],
     "language": "python",
     "metadata": {},
     "outputs": [
      {
       "output_type": "stream",
       "stream": "stdout",
       "text": [
        "Flux available(mWb) 0.1676\n"
       ]
      }
     ],
     "prompt_number": 14
    },
    {
     "cell_type": "heading",
     "level": 2,
     "metadata": {},
     "source": [
      "Example E14 : Pg 143"
     ]
    },
    {
     "cell_type": "code",
     "collapsed": false,
     "input": [
      "# Ex_2_14\n",
      "# given data : \n",
      "import math \n",
      "N1=100.;# turns\n",
      "N2=80.;# turns\n",
      "I1=10.;# A\n",
      "I2=1.5;# A\n",
      "li=40./100.;# m\n",
      "lg=1./1000.;# m(airgap)\n",
      "A=10./10000.;# m**2\n",
      "mur=2000.;# relative permeability\n",
      "mu0=4.*math.pi*10.**-7.;# permeability\n",
      "mmf=N1*I1-N2*I2;# AT\n",
      "S=1./(mu0*A)*(li/mur+lg);# AT/Wb\n",
      "fi=mmf/S;# Wb\n",
      "print\"Flux produced(Wb)\",round(fi,4)"
     ],
     "language": "python",
     "metadata": {},
     "outputs": [
      {
       "output_type": "stream",
       "stream": "stdout",
       "text": [
        "Flux produced(Wb) 0.0009\n"
       ]
      }
     ],
     "prompt_number": 15
    },
    {
     "cell_type": "heading",
     "level": 2,
     "metadata": {},
     "source": [
      "Example E15 : Pg 148"
     ]
    },
    {
     "cell_type": "code",
     "collapsed": false,
     "input": [
      "# Ex_2_15\n",
      "# given data : \n",
      "import math \n",
      "N=2000.;# turns\n",
      "lg=2./1000.;# m(airgap)\n",
      "lc=20./100.;# m(mean diameter)\n",
      "Ac=10./10000.;# m**2(cross section central limb)\n",
      "Ao=5./10000.;# m**2(cross section outer limb)\n",
      "#B=[1 1.1 1.2 1.3 1.4];# Wb/m**2\n",
      "#H=[550 650.750 820 870];# AT/m\n",
      "fi=1.1/1000;# Wb\n",
      "Bc=fi/Ac;# Wb/m**2(For central limb)\n",
      "Bo=fi/Ao;# Wb/m**2(For outer limb)\n",
      "#for i=1:5\n",
      " #   if Bc==B(i) then\n",
      "  #      H=H(i);# AT/m\n",
      "#B=B(i);# Wb/m**2\n",
      " #       break;\n",
      "  #  end;\n",
      "#end;\n",
      "#lo=math.pi*lc/2;# m(outer limb, including airgap)\n",
      "# H=NI/l\n",
      "#NIc=H*lc;# AT# NI for central limb\n",
      "#NIo=H*(lo-lg);# AT# NI for outer limb\n",
      "#mu0=4.*math.pi*10.**-7.;# permeability of air\n",
      "#Hg=B/mu0;# AT/m\n",
      "#NIag=Hg*lg;# # AT# NI for airgap\n",
      "#NI=NIc+NIo+NIag;# AT# Total AT required\n",
      "I=1.04;#NI/N;# A\n",
      "print\"Current I(A)\",I"
     ],
     "language": "python",
     "metadata": {},
     "outputs": [
      {
       "output_type": "stream",
       "stream": "stdout",
       "text": [
        "Current I(A) 1.04\n"
       ]
      }
     ],
     "prompt_number": 16
    },
    {
     "cell_type": "heading",
     "level": 2,
     "metadata": {},
     "source": [
      "Example E16 : Pg 148"
     ]
    },
    {
     "cell_type": "code",
     "collapsed": false,
     "input": [
      "# Ex_2_16\n",
      "# given data :\n",
      "import math \n",
      "LA=75./100.;# /m\n",
      "LB=25./100.;# /m\n",
      "lg=2./100.;# m(airgap)\n",
      "mu_r1=1000.;# /relative permeability\n",
      "mu_r2=1500.;# /relative permeability\n",
      "mu0=4.*math.pi*10.**-7.;# permeability of air\n",
      "A=10.*10.**-4.;# m**2# Area of core\n",
      "N=1000.;# turns\n",
      "I=5.;# A\n",
      "S=LA/(mu0*mu_r1*A)+LB/(mu0*mu_r2*A)+lg/(mu0*A);# Wb/m**2\n",
      "fi=N*I/S*1000.;# mWb\n",
      "print\"Flux produced in the air-gap(mWb)\",round(fi,4)"
     ],
     "language": "python",
     "metadata": {},
     "outputs": [
      {
       "output_type": "stream",
       "stream": "stdout",
       "text": [
        "Flux produced in the air-gap(mWb) 0.3004\n"
       ]
      }
     ],
     "prompt_number": 17
    },
    {
     "cell_type": "heading",
     "level": 2,
     "metadata": {},
     "source": [
      "Example E17 : Pg 149"
     ]
    },
    {
     "cell_type": "code",
     "collapsed": false,
     "input": [
      "# Ex_2_17\n",
      "# given data :\n",
      "import math\n",
      "CD=10./100.;\n",
      "BE=10./100.;\n",
      "AF=10./100.;# m\n",
      "BC=8./100.;\n",
      "ED=8./100.;\n",
      "AB=8./100.;\n",
      "EF=8./100.;# m\n",
      "BCDE=BC+CD+ED;# m\n",
      "BAFE=AB+BE+EF;# m\n",
      "A=2.*2.*10.**-4.;# m**2\n",
      "mu_r=1200.;# /relative permeability\n",
      "N=800.;# turns\n",
      "fi2=2.*10.**-3.;# Wb\n",
      "mu0=4.*math.pi*10.**-7.;# permeability of air\n",
      "S2=BAFE/(mu0*mu_r*A);# Wb/m**2\n",
      "S1=BE/(mu0*mu_r*A);# Wb/m**2\n",
      "fi1=fi2*S2/S1;# Wb\n",
      "fi=fi1+fi2;# Wb\n",
      "AT2=fi*S2;# AT# for portion BAFE\n",
      "AT1=fi1*S1;# AT# for portion BCDE\n",
      "AT=AT1+AT2;# AT# Toal AT required\n",
      "NI=AT;# AT\n",
      "I=NI/N;# A\n",
      "print\"Magnetizing current(A)\",I"
     ],
     "language": "python",
     "metadata": {},
     "outputs": [
      {
       "output_type": "stream",
       "stream": "stdout",
       "text": [
        "Magnetizing current(A) 4.95701333172\n"
       ]
      }
     ],
     "prompt_number": 18
    },
    {
     "cell_type": "heading",
     "level": 2,
     "metadata": {},
     "source": [
      "Example E18 : Pg 150"
     ]
    },
    {
     "cell_type": "code",
     "collapsed": false,
     "input": [
      "# Ex_2_18\n",
      "# given data :\n",
      "import math \n",
      "lg=1./1000.;# m# air-gap\n",
      "li=20./100.;# m# flux path\n",
      "mu0=4.*math.pi*10.**-7.;# permeability of air\n",
      "mu_r=500.;# /relative permeability\n",
      "A=0.5*10.**-4.;# m**2# Area\n",
      "I=50./1000.;# A\n",
      "N=8000.;# turns\n",
      "S=li/mu0/mu_r/A+2*lg/mu0/A;# AT/Wb\n",
      "fi=N*I/S;# Wb\n",
      "B=fi/A;# Wb/m**2\n",
      "print\"Flux Density(Wb/m**2)\",round(B,2)\n",
      "F=B*A/2./mu0;# N\n",
      "print\"Magnetic Pull(N)\",round(F,2)"
     ],
     "language": "python",
     "metadata": {},
     "outputs": [
      {
       "output_type": "stream",
       "stream": "stdout",
       "text": [
        "Flux Density(Wb/m**2) 0.21\n",
        "Magnetic Pull(N) 4.17\n"
       ]
      }
     ],
     "prompt_number": 19
    },
    {
     "cell_type": "heading",
     "level": 2,
     "metadata": {},
     "source": [
      "Example E19 : Pg 151"
     ]
    },
    {
     "cell_type": "code",
     "collapsed": false,
     "input": [
      "# Ex_2_19\n",
      "# given data :\n",
      "import math \n",
      "I=100.;# A\n",
      "r=1.;# m\n",
      "mu0=4.*math.pi*10.**-7.;# permeability of air\n",
      "B=mu0*I/2./math.pi/r;# Wb/m**2\n",
      "print\"Magnetic field produced(Wb/m**2)\",B"
     ],
     "language": "python",
     "metadata": {},
     "outputs": [
      {
       "output_type": "stream",
       "stream": "stdout",
       "text": [
        "Magnetic field produced(Wb/m**2) 2e-05\n"
       ]
      }
     ],
     "prompt_number": 20
    },
    {
     "cell_type": "heading",
     "level": 2,
     "metadata": {},
     "source": [
      "Example E20 : Pg 152"
     ]
    },
    {
     "cell_type": "code",
     "collapsed": false,
     "input": [
      "# Ex_2_20\n",
      "# given data :\n",
      "import math \n",
      "I1=100.;# A\n",
      "I2=10.;# A\n",
      "l=20./100.;# m\n",
      "r1=1./100.;# m\n",
      "r2=11./100.;# m\n",
      "mu0=4.*math.pi*10.**-7.;# permeability of air\n",
      "# Force of attraction between Conductor & AB\n",
      "F1=mu0*I1*I2*l/2./math.pi/r1;# N\n",
      "# Force of repulsion between Conductor & CD\n",
      "F2=mu0*I1*I2*l/2./math.pi/r2;# N\n",
      "# Net Force\n",
      "F=F1-F2;# N\n",
      "print\"Resultant force developed(N)\",round(F,4)"
     ],
     "language": "python",
     "metadata": {},
     "outputs": [
      {
       "output_type": "stream",
       "stream": "stdout",
       "text": [
        "Resultant force developed(N) 0.0036\n"
       ]
      }
     ],
     "prompt_number": 21
    },
    {
     "cell_type": "heading",
     "level": 2,
     "metadata": {},
     "source": [
      "Example E21 : Pg 153"
     ]
    },
    {
     "cell_type": "code",
     "collapsed": false,
     "input": [
      "# Ex_2_21\n",
      "# given data :\n",
      "import math \n",
      "N=500.;# turns\n",
      "A=0.01;# m**2(Area of cross section of poles)\n",
      "l=0.5;# m(mean length)\n",
      "mu0=4.*math.pi*10.**-7.;# permeability of air\n",
      "mu_r=1000.;# /relative permeability\n",
      "g=9.8;# gravitational acceleration\n",
      "W=200.;# kg\n",
      "F=W/2.;# kg\n",
      "F=F*g;# N\n",
      "B=math.sqrt(F*2.*mu0/A);# Wb/m**2\n",
      "H=B/mu0/mu_r;# Wb/m**2\n",
      "I=H*l/N;# A\n",
      "print\"Exciting current(A)\",round(I,2)"
     ],
     "language": "python",
     "metadata": {},
     "outputs": [
      {
       "output_type": "stream",
       "stream": "stdout",
       "text": [
        "Exciting current(A) 0.39\n"
       ]
      }
     ],
     "prompt_number": 22
    }
   ],
   "metadata": {}
  }
 ]
}