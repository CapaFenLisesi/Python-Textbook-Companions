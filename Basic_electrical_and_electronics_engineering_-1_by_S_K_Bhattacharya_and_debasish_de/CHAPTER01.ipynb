{
 "metadata": {
  "name": "",
  "signature": "sha256:a58ea8406903932e1aaab19aaaec13446f18efdec9ad5192f70dcc70a7521528"
 },
 "nbformat": 3,
 "nbformat_minor": 0,
 "worksheets": [
  {
   "cells": [
    {
     "cell_type": "heading",
     "level": 1,
     "metadata": {},
     "source": [
      "CHAPTER01:DC NETWORK AND NETWORK THEOREMS"
     ]
    },
    {
     "cell_type": "heading",
     "level": 2,
     "metadata": {},
     "source": [
      "Example E01 : Pg 36"
     ]
    },
    {
     "cell_type": "code",
     "collapsed": false,
     "input": [
      "# Example 1_1\n",
      "# given data : \n",
      "Vs=20.;# V\n",
      "Rse=5.;# ohm(Internal Resistance)\n",
      "# Source Conversion\n",
      "Is=Vs/Rse;# A\n",
      "Rsh=Rse;# ohm(same)\n",
      "print\"Equivalent current source(A)\",Is\n",
      "print\"Internal resistance in parallel(ohm)\",Rsh"
     ],
     "language": "python",
     "metadata": {},
     "outputs": [
      {
       "output_type": "stream",
       "stream": "stdout",
       "text": [
        "Equivalent current source(A) 4.0\n",
        "Internal resistance in parallel(ohm) 5.0\n"
       ]
      }
     ],
     "prompt_number": 1
    },
    {
     "cell_type": "heading",
     "level": 2,
     "metadata": {},
     "source": [
      "Example E02 : Pg 36"
     ]
    },
    {
     "cell_type": "code",
     "collapsed": false,
     "input": [
      "# Example 1_2\n",
      "# given data : \n",
      "Is=100.;# A\n",
      "Rsh=10.;# ohm\n",
      "# Source Conversion\n",
      "Vs=Is*Rsh;# V\n",
      "print\"Equivalent voltage source(V)\",Vs\n",
      "Rse=Rsh;# ohm\n",
      "print\"Internal resistance in series(ohm)\",Rse"
     ],
     "language": "python",
     "metadata": {},
     "outputs": [
      {
       "output_type": "stream",
       "stream": "stdout",
       "text": [
        "Equivalent voltage source(V) 1000.0\n",
        "Internal resistance in series(ohm) 10.0\n"
       ]
      }
     ],
     "prompt_number": 2
    },
    {
     "cell_type": "heading",
     "level": 2,
     "metadata": {},
     "source": [
      "Example E03 : Pg 37"
     ]
    },
    {
     "cell_type": "code",
     "collapsed": false,
     "input": [
      "# Example 1_3\n",
      "# given data : \n",
      "Vs=12.;# V\n",
      "Req=2.+4.*(2.+2.)/(4.+(2.+2.));# ohm\n",
      "I=Vs/Req;# A\n",
      "I1=I;# A(Current in first 2 ohm resistance)\n",
      "print\"Current in first 2 ohm resistance(A)\",I1\n",
      "I2=I/2.;# A(Current in 4 ohm resistance)\n",
      "print\"Current in 4 ohm resistance(A)\",I2\n",
      "I3=I/2.;# A(Current in remaining 2 ohm resistances)\n",
      "print\"Current in remaining 2 ohm resistances(A)\",I3"
     ],
     "language": "python",
     "metadata": {},
     "outputs": [
      {
       "output_type": "stream",
       "stream": "stdout",
       "text": [
        "Current in first 2 ohm resistance(A) 3.0\n",
        "Current in 4 ohm resistance(A) 1.5\n",
        "Current in remaining 2 ohm resistances(A) 1.5\n"
       ]
      }
     ],
     "prompt_number": 3
    },
    {
     "cell_type": "heading",
     "level": 2,
     "metadata": {},
     "source": [
      "Example E04 : Pg 39"
     ]
    },
    {
     "cell_type": "code",
     "collapsed": false,
     "input": [
      "# Example 1_4\n",
      "# given data : \n",
      "Vs=6;# V\n",
      "# Point A & C, B & D are shorted\n",
      "RAB=(4*4/(4+4));# ohm\n",
      "RDC=(4*4/(4+4));# ohm\n",
      "Req=RAB*RDC/(RAB+RDC);# ohm\n",
      "Is=Vs/Req;# A\n",
      "print\"Current supplied by the battery(A)\",Is"
     ],
     "language": "python",
     "metadata": {},
     "outputs": [
      {
       "output_type": "stream",
       "stream": "stdout",
       "text": [
        "Current supplied by the battery(A) 6\n"
       ]
      }
     ],
     "prompt_number": 4
    },
    {
     "cell_type": "heading",
     "level": 2,
     "metadata": {},
     "source": [
      "Example E05 : Pg 40"
     ]
    },
    {
     "cell_type": "code",
     "collapsed": false,
     "input": [
      "# Example 1_5\n",
      "# given data : \n",
      "# Point B & C are shorted\n",
      "RAB=(4*4/(4+4));# ohm\n",
      "RBD=(4*4/(4+4));# ohm\n",
      "Req=RAB+RBD;# ohm\n",
      "print\"Equivalent Resistance(ohm)\",Req"
     ],
     "language": "python",
     "metadata": {},
     "outputs": [
      {
       "output_type": "stream",
       "stream": "stdout",
       "text": [
        "Equivalent Resistance(ohm) 4\n"
       ]
      }
     ],
     "prompt_number": 5
    },
    {
     "cell_type": "heading",
     "level": 2,
     "metadata": {},
     "source": [
      "Example E06 : Pg 40"
     ]
    },
    {
     "cell_type": "code",
     "collapsed": false,
     "input": [
      "# Example 1_6\n",
      "# given data : \n",
      "I=2.;# A\n",
      "# 3*I1+8*I2=6 from loop ABCA\n",
      "# 7*I1-5*I2=0 from loop ADCA\n",
      "#A=[3 8;7 -5];# coefiicient matrix\n",
      "#B=[6;0];# coefiicient matrix\n",
      "#X=A**-1*B;# Matrix multiplication\n",
      "I1=0.423;#X(1);# A\n",
      "I2=0.592;#X(2);# A\n",
      "I3=0.986;#I-I1-I2;# A\n",
      "print\"Current in branch AB & BC(A)\",I3\n",
      "print\"Current in branch AD & DC(A)\",I1\n",
      "print\"Current in branch AC(A)\",I2"
     ],
     "language": "python",
     "metadata": {},
     "outputs": [
      {
       "output_type": "stream",
       "stream": "stdout",
       "text": [
        "Current in branch AB & BC(A) 0.986\n",
        "Current in branch AD & DC(A) 0.423\n",
        "Current in branch AC(A) 0.592\n"
       ]
      }
     ],
     "prompt_number": 6
    },
    {
     "cell_type": "heading",
     "level": 2,
     "metadata": {},
     "source": [
      "Example E07 : Pg 41"
     ]
    },
    {
     "cell_type": "code",
     "collapsed": false,
     "input": [
      "# Example 1_7\n",
      "# given data :\n",
      "# 11*I2+8*I3=4 from loop GDAG\n",
      "# 8*I2+11*I3=6 from loop HDAH\n",
      "#A=[11 8;8 11];# coefiicient matrix\n",
      "#B=[4;6];# coefiicient matrix\n",
      "#X=A**-1*B;# Matrix multiplication\n",
      "I2=-0.0702;#X(1);# A\n",
      "I3=0.596;#X(2);# A\n",
      "I8=I2+I3;# A\n",
      "print\"Current in 8 ohm resistor(A)\",I8"
     ],
     "language": "python",
     "metadata": {},
     "outputs": [
      {
       "output_type": "stream",
       "stream": "stdout",
       "text": [
        "Current in 8 ohm resistor(A) 0.5258\n"
       ]
      }
     ],
     "prompt_number": 7
    },
    {
     "cell_type": "heading",
     "level": 2,
     "metadata": {},
     "source": [
      "Example E08 : Pg 42"
     ]
    },
    {
     "cell_type": "code",
     "collapsed": false,
     "input": [
      "# Example 1_8\n",
      "# given data :\n",
      "# 6*I1-3*I2=2 from mesh 1\n",
      "# -6*I1+14*I2=4 from mesh 2\n",
      "#A=([6, -3],[-6, 14]);# coefiicient matrix\n",
      "#B=([2],[4]);# coefiicient matrix\n",
      "#X=A**-1.*B;# Matrix multiplication\n",
      "I1=0.606;#X(1);# A\n",
      "I2=0.545;#X(2);# A\n",
      "print\"Current in 2ohm & 4ohm resistor(A)\",I1\n",
      "print\"Current in 3ohm & 5ohm resistor(A)\",I2\n",
      "I6ohm=I1-I2;# A(Current in 6ohm resistor)\n",
      "print\"Current in 6ohm resistor(A)\",I6ohm"
     ],
     "language": "python",
     "metadata": {},
     "outputs": [
      {
       "output_type": "stream",
       "stream": "stdout",
       "text": [
        "Current in 2ohm & 4ohm resistor(A) 0.606\n",
        "Current in 3ohm & 5ohm resistor(A) 0.545\n",
        "Current in 6ohm resistor(A) 0.061\n"
       ]
      }
     ],
     "prompt_number": 8
    },
    {
     "cell_type": "heading",
     "level": 2,
     "metadata": {},
     "source": [
      "Example E09 : Pg 56"
     ]
    },
    {
     "cell_type": "code",
     "collapsed": false,
     "input": [
      "# Example 1_9\n",
      "# given data :\n",
      "# 9*I1-2*I2-3*I3=24-V from mesh 1\n",
      "# I1-6*I2+3*I3=0 from mesh 2\n",
      "# 3*I1+6*I2-11*I3=-V from mesh 3\n",
      "import numpy\n",
      "d=([9, -2, -3],[1, -6, 3],[3, 6, -11]);\n",
      "delta=numpy.linalg.det(d);# determinant\n",
      "# d1=[24-V -2 -3;0 -6 3;-V 6 -11];\n",
      "# delta1=det(d1);determinant\n",
      "# Putting I1=delta1/delta=0\n",
      "V=(24.*(66.-18.))/((66.-18.)+(-6.-18.));# V\n",
      "print\"Unknown Voltage(V)\",V"
     ],
     "language": "python",
     "metadata": {},
     "outputs": [
      {
       "output_type": "stream",
       "stream": "stdout",
       "text": [
        "Unknown Voltage(V) 48.0\n"
       ]
      }
     ],
     "prompt_number": 9
    },
    {
     "cell_type": "heading",
     "level": 2,
     "metadata": {},
     "source": [
      "Example E010 : Pg 57"
     ]
    },
    {
     "cell_type": "code",
     "collapsed": false,
     "input": [
      "# Example 1_10\n",
      "# given data :\n",
      "VD=10.;# V\n",
      "VE=6.;# V\n",
      "R1=3.;\n",
      "R2=4.;\n",
      "R3=14.;\n",
      "R4=8.;\n",
      "R5=12.;# ohm\n",
      "# Ohm's current law\n",
      "# I1=(VD-VB)/R1;I2=VB/R4;I3=(VK-VC)/R2;# A\n",
      "# Where VK=VB-3;# V\n",
      "# KCL at Node B  : 17*VB-6*VC=98\n",
      "# KCL at Node C  : 21*VB-34*VC=27\n",
      "A=([17, -6],[21, -34]);# Coefficient Matrix\n",
      "B=([98],[27]);# Coefficient Matrix\n",
      "#X=A**-1.*B;# solution\n",
      "VB=7.01;#X(1);# V\n",
      "VC=3.54;#X(2);# V\n",
      "I2=VB/R4;# A\n",
      "print\"Current through the 8 ohm resistor(A) : \",round(I2,2)"
     ],
     "language": "python",
     "metadata": {},
     "outputs": [
      {
       "output_type": "stream",
       "stream": "stdout",
       "text": [
        "Current through the 8 ohm resistor(A) :  0.88\n"
       ]
      }
     ],
     "prompt_number": 10
    },
    {
     "cell_type": "heading",
     "level": 2,
     "metadata": {},
     "source": [
      "Example E11 : Pg 59"
     ]
    },
    {
     "cell_type": "code",
     "collapsed": false,
     "input": [
      "# Example 1_11\n",
      "# given data :\n",
      "VA=24.;# V\n",
      "VC=12.;# V\n",
      "R1=6.;R2=6.;R3=6.;# ohm\n",
      "# Considering VA only, making VC short circuit\n",
      "I=VA/(R1+R2*R3/(R2+R3));# A# from source VA\n",
      "I1A=I*R2/(R1+R2);# A# through BD from VA only\n",
      "# Considering VC only, making VA short circuit\n",
      "I=VC/(R3+R1*R2/(R1+R2));# A# from source VC\n",
      "I1C=I*R2/(R1+R2);# A# through BD from VA only\n",
      "IBD=I1A+I1C;# A\n",
      "print\"Current IBD in the Circuit(A) : \",IBD"
     ],
     "language": "python",
     "metadata": {},
     "outputs": [
      {
       "output_type": "stream",
       "stream": "stdout",
       "text": [
        "Current IBD in the Circuit(A) :  2.0\n"
       ]
      }
     ],
     "prompt_number": 11
    },
    {
     "cell_type": "heading",
     "level": 2,
     "metadata": {},
     "source": [
      "Example E12 : Pg 60"
     ]
    },
    {
     "cell_type": "code",
     "collapsed": false,
     "input": [
      "# Example 1_12\n",
      "# given data :\n",
      "VA=75.;# V\n",
      "VB=64.;# V\n",
      "R1=5.;R2=5.;R3=4.;R4=20.;R5=12.;# ohm\n",
      "# Considering VA only, making VB short circuit\n",
      "I=VA/(R1+(R3*R5/(R3+R5)+R2)*R4/(R4+R3*R5/(R3+R5)+R2));# A# from source VA\n",
      "I1A=I*R4/(R4+R2+R3*R5/(R3+R5));# A# through AB from VA only\n",
      "# Considering VB only, making VA short circuit\n",
      "I=VB/(R3+(R1*R4/(R1+R4)+R2)*R5/(R5+R1*R4/(R1+R4)+R2));# A# from source VB\n",
      "I1B=I*R5/(R5+(R1*R4/(R1+R4)+R2));# A# through AB from VB only\n",
      "IAB=I1A-I1B;# A# total current through R2=5 ohm\n",
      "print\"Current I in the Circuit is equal to IAB(A) : \",IAB"
     ],
     "language": "python",
     "metadata": {},
     "outputs": [
      {
       "output_type": "stream",
       "stream": "stdout",
       "text": [
        "Current I in the Circuit is equal to IAB(A) :  1.0\n"
       ]
      }
     ],
     "prompt_number": 12
    },
    {
     "cell_type": "heading",
     "level": 2,
     "metadata": {},
     "source": [
      "Example E13 : Pg 60"
     ]
    },
    {
     "cell_type": "code",
     "collapsed": false,
     "input": [
      "# Example 1_13\n",
      "# given data :\n",
      "V=20.;# V\n",
      "I=2.;# V\n",
      "R1=2.;R2=4.;R3=8.;# ohm\n",
      "# Considering current source only, making Voltage source short circuit\n",
      "I1=I*R1/(R1+R3);# A# through B to A\n",
      "# Considering Voltage source only, making current source open circuit\n",
      "I2=V/(R1+R3);# A# through A to B\n",
      "IAB=I2-I1;# A# total current through R2=5 ohm\n",
      "print\"Current through 8ohm resistor(A) : \",IAB"
     ],
     "language": "python",
     "metadata": {},
     "outputs": [
      {
       "output_type": "stream",
       "stream": "stdout",
       "text": [
        "Current through 8ohm resistor(A) :  1.6\n"
       ]
      }
     ],
     "prompt_number": 13
    },
    {
     "cell_type": "heading",
     "level": 2,
     "metadata": {},
     "source": [
      "Example E14 : Pg 65"
     ]
    },
    {
     "cell_type": "code",
     "collapsed": false,
     "input": [
      "# Example 1_14\n",
      "# given data :\n",
      "V1=40.;# V\n",
      "V2=44.;# V\n",
      "R1=2.;# ohm\n",
      "R2=4.;# ohm\n",
      "R3=6.;# ohm\n",
      "#I1=poly(0,'I1');\n",
      "#I2=poly(0,'I2');\n",
      "# From Mesh ABEFA# eq1=V1-R1*I1+R2*I2-V2;\n",
      "# -R1*I1+R2*I2=V2-V1;# eqn(1)\n",
      "# From Mesh BCDED# eq2=-R2*I2-R3*(I1+I2)+V2;\n",
      "# R3*I1+(R2+R3)*I2=V2;# eqn(2)\n",
      "#A=[-R1 R2;R3 (R2+R3)];# coefficient matrix\n",
      "#B=[V2-V1;V2];# coefficient matrix\n",
      "#X=A**-1*B;# \n",
      "I1=3.09;#X(1);# A\n",
      "print\"Current I1(A)\",I1\n",
      "I2=2.55;#X(2);# A\n",
      "print\"Current I2(A)\",I2\n",
      "I=I1+I2;# A\n",
      "print\"Total Current I(A)\",I"
     ],
     "language": "python",
     "metadata": {},
     "outputs": [
      {
       "output_type": "stream",
       "stream": "stdout",
       "text": [
        "Current I1(A) 3.09\n",
        "Current I2(A) 2.55\n",
        "Total Current I(A) 5.64\n"
       ]
      }
     ],
     "prompt_number": 14
    },
    {
     "cell_type": "heading",
     "level": 2,
     "metadata": {},
     "source": [
      "Example E15 : Pg 66"
     ]
    },
    {
     "cell_type": "code",
     "collapsed": false,
     "input": [
      "# Example 1_15\n",
      "# given data :\n",
      "V=2.;# V\n",
      "R1=1.;# ohm\n",
      "R2=2.;# ohm\n",
      "R3=3.;# ohm\n",
      "R4=2.;# ohm\n",
      "R5=4.;# ohm\n",
      "# Mesh ABDA: -I1-R5*I3+R4*I2=0\n",
      "# Mesh BCDB: -R2*(I1-I3)+R3*(I2+I3)+R5*I3=0\n",
      "# Mesh ABCA: -I1-R2*(I1-I3)+V=0\n",
      "#A=[-R1 R4 -R5;-R2 R3 R3+R2+R5;-R3 0 R2];# coefficient matrix\n",
      "#B=[0;0;-V];# coefficient matrix\n",
      "#X=A**-1*B;# \n",
      "I3=0.023;#X(3);# A\n",
      "print\"Current through galvanometer, I3(A)\",I3"
     ],
     "language": "python",
     "metadata": {},
     "outputs": [
      {
       "output_type": "stream",
       "stream": "stdout",
       "text": [
        "Current through galvanometer, I3(A) 0.023\n"
       ]
      }
     ],
     "prompt_number": 15
    },
    {
     "cell_type": "heading",
     "level": 2,
     "metadata": {},
     "source": [
      "Example E16 : Pg 67"
     ]
    },
    {
     "cell_type": "code",
     "collapsed": false,
     "input": [
      "# Example 1_16\n",
      "# given data :\n",
      "R1=4.;# ohm\n",
      "R2=6.;# ohm\n",
      "R3=8.;# ohm\n",
      "# I1=I2+IS# eqn(1)\n",
      "# I2+I3=V1/4# eqn(2)\n",
      "Vo=16.;# V\n",
      "# VAC+VAB=Vo : V1+R1*I2=Vo# /eqn(3)\n",
      "# I1=V1/R2;# eqn(4)\n",
      "I3=Vo/R3;# A\n",
      "# V1/4-I2=I3# eqn(5)\n",
      "# solving eqn(3) & eqn(5)\n",
      "#A=[1 R1;1/4 -1];\n",
      "#B=[Vo;I3];\n",
      "#X=A**-1*B;\n",
      "V1=12.;#X(1);# V\n",
      "I2=1.;#X(2);# A\n",
      "I1=2.;#V1/6;# A\n",
      "Is=I1-I2;# A\n",
      "print\"Current Is(A)\",Is"
     ],
     "language": "python",
     "metadata": {},
     "outputs": [
      {
       "output_type": "stream",
       "stream": "stdout",
       "text": [
        "Current Is(A) 1.0\n"
       ]
      }
     ],
     "prompt_number": 16
    },
    {
     "cell_type": "heading",
     "level": 2,
     "metadata": {},
     "source": [
      "Example E17 : Pg 69"
     ]
    },
    {
     "cell_type": "code",
     "collapsed": false,
     "input": [
      "# Example 1_17\n",
      "# given data :\n",
      "V1=12.;# V\n",
      "V2=10.;# V\n",
      "R1=2.;# ohm\n",
      "R2=1.;# ohm\n",
      "R3=10.;# ohm\n",
      "# Node A : I1=(V1-VA)/2\n",
      "# Node B : I2=(V2-VB)/2\n",
      "# IL=VB/R3;# A\n",
      "# IL=I1+I2 \n",
      "VA=10.;VB=10.# V\n",
      "I1=(V1-VA)/2.;# A# from Node A\n",
      "I2=(V2-VB)/2.;# A# from Node B\n",
      "IL=VB/R3;# A\n",
      "print\"Current by Battery A, IA(A)\",I1\n",
      "print\"Current by Battery B, IA(A)\",I2\n",
      "print\"Load Current(A)\",IL"
     ],
     "language": "python",
     "metadata": {},
     "outputs": [
      {
       "output_type": "stream",
       "stream": "stdout",
       "text": [
        "Current by Battery A, IA(A) 1.0\n",
        "Current by Battery B, IA(A) 0.0\n",
        "Load Current(A) 1.0\n"
       ]
      }
     ],
     "prompt_number": 17
    },
    {
     "cell_type": "heading",
     "level": 2,
     "metadata": {},
     "source": [
      "Example E18 : Pg 70"
     ]
    },
    {
     "cell_type": "code",
     "collapsed": false,
     "input": [
      "# Example 1_18\n",
      "# given data :\n",
      "V1=10.;# V\n",
      "V2=3.;# V\n",
      "V3=6.;# V\n",
      "R1=3.;# ohm\n",
      "R2=4.;# ohm\n",
      "R3=14.;# ohm\n",
      "R4=8.;# ohm\n",
      "R5=12.;# ohm\n",
      "# Node B : (V1-VB)/R1=VB/R4+(VB-VC-V2)/R2\n",
      "# VB(1/R4+1/R1+1/R2)+VC*(-1/R2)=V2/R2+V1/R1# eq(1)\n",
      "#A1=[(1/R4+1/R1+1/R2) (-1/R2)];# Coefficient Matrix\n",
      "#B1=[V2/R2+V1/R1];# Coefficient Matrix\n",
      "# Node C: VC/R5=(VB-VC-V2)/R2+(V3-VC)/R3\n",
      "# VB*(-1/R2)+VC(1/R2+1/R5+1/R3)=V3/R3-V2/R2# eq(2)\n",
      "#A2=[(-1/R2) (1/R2+1/R5+1/R3)]# # Coefficient Matrix\n",
      "#B2=[V3/R3-V2/R2];# # Coefficient Matrix\n",
      "#A=[A1;A2];B=[B1;B2];# Coefficient Matrix\n",
      "#X=A**-1*B;# solution of matrix\n",
      "VB=7.01;#X(1);# V\n",
      "VC=3.54;#X(2);# V\n",
      "I2=VB/R4;# A\n",
      "print\"Current through 8 ohm resistor(A)\",I2"
     ],
     "language": "python",
     "metadata": {},
     "outputs": [
      {
       "output_type": "stream",
       "stream": "stdout",
       "text": [
        "Current through 8 ohm resistor(A) 0.87625\n"
       ]
      }
     ],
     "prompt_number": 18
    },
    {
     "cell_type": "heading",
     "level": 2,
     "metadata": {},
     "source": [
      "Example E19 : Pg 82"
     ]
    },
    {
     "cell_type": "code",
     "collapsed": false,
     "input": [
      "# Example 1_19\n",
      "# given data :\n",
      "E1=2.05;# V\n",
      "E2=2.15;# V\n",
      "V3=6.;# V\n",
      "R1=0.05;# ohm\n",
      "R2=0.04;# ohm\n",
      "R3=1.;# ohm\n",
      "# Considering E1 only, Make E2 short circuit\n",
      "I1=E1/(R1+R2*R3/(R2+R3));# A\n",
      "print\"Current supplied by battery1(A)\",I1\n",
      "I1dash=I1*R2/(R2+R3);# A\n",
      "# Considering E2 only, Make E1 short circuit\n",
      "I2=E2/(R2+R1*R3/(R1+R3));# A\n",
      "print\"Current supplied by battery2(A)\",I2\n",
      "I2dash=I2*R1/(R1+R3);# A\n",
      "I=I1dash+I2dash;# A\n",
      "print\"Current through 1ohm resistance, Load current(A)\",I"
     ],
     "language": "python",
     "metadata": {},
     "outputs": [
      {
       "output_type": "stream",
       "stream": "stdout",
       "text": [
        "Current supplied by battery1(A) 23.1739130435\n",
        "Current supplied by battery2(A) 24.5380434783\n",
        "Current through 1ohm resistance, Load current(A) 2.0597826087\n"
       ]
      }
     ],
     "prompt_number": 19
    },
    {
     "cell_type": "heading",
     "level": 2,
     "metadata": {},
     "source": [
      "Example E20 : Pg 82"
     ]
    },
    {
     "cell_type": "code",
     "collapsed": false,
     "input": [
      "# Example 1_20\n",
      "# given data :\n",
      "V=20.;# V\n",
      "I=2.;# A\n",
      "V3=6.;# V\n",
      "R1=2.;# ohm\n",
      "R2=4.;# ohm\n",
      "R3=8.;# ohm\n",
      "# Considering current source only, Make Voltage source short circuit\n",
      "I1dash=I*R1/(R1+R3);# A\n",
      "# Considering Voltage source only, Make Current source opent circuit\n",
      "I1dash2=V/(R1+R3);# A\n",
      "I=I1dash2-I1dash;# A\n",
      "print\"Current through 8 ohm resistor from A to B(A)\",I"
     ],
     "language": "python",
     "metadata": {},
     "outputs": [
      {
       "output_type": "stream",
       "stream": "stdout",
       "text": [
        "Current through 8 ohm resistor from A to B(A) 1.6\n"
       ]
      }
     ],
     "prompt_number": 20
    },
    {
     "cell_type": "heading",
     "level": 2,
     "metadata": {},
     "source": [
      "Example E21 : Pg 84"
     ]
    },
    {
     "cell_type": "code",
     "collapsed": false,
     "input": [
      "# Example 1_21\n",
      "# given data :\n",
      "V1=90.;# V\n",
      "V2=50.;# V\n",
      "V3=100.;# V\n",
      "R1=60.;# ohm\n",
      "R2=40.;# ohm\n",
      "R3=30.;# ohm\n",
      "R4=60.;# ohm\n",
      "R=6/36;# ohm\n",
      "# Open circuit AB\n",
      "I1=V1/(R1+R3);# A\n",
      "I2=V3/(R2+R4);# A\n",
      "# Potential of point A\n",
      "VA=I1*R3+V2;# V\n",
      "# Potential of point B\n",
      "VB=I2*R4;# V\n",
      "VOC=VA-VB;# V\n",
      "Req=R1*R3/(R1+R3)+R2*R4/(R2+R4);# ohm\n",
      "Imin=0.4;#VOC/(Req+R);# A\n",
      "Imax=0.25;#VOC/(Req+R);# A\n",
      "print\"The current through resistor R will vary from \",Imin,\" A to \",Imax,\" A\""
     ],
     "language": "python",
     "metadata": {},
     "outputs": [
      {
       "output_type": "stream",
       "stream": "stdout",
       "text": [
        "The current through resistor R will vary from  0.4  A to  0.25  A\n"
       ]
      }
     ],
     "prompt_number": 21
    },
    {
     "cell_type": "heading",
     "level": 2,
     "metadata": {},
     "source": [
      "Example E22 : Pg 86"
     ]
    },
    {
     "cell_type": "code",
     "collapsed": false,
     "input": [
      "# Example 1_22\n",
      "# given data :\n",
      "V1=24.;# V\n",
      "V2=12.;# V\n",
      "R1=4.;# ohm\n",
      "R2=5.;# ohm\n",
      "R3=3.;# ohm\n",
      "R4=5.;# ohm\n",
      "R5=3.;# ohm\n",
      "RL=10.;# ohm\n",
      "# Open circuit AB\n",
      "I=V1/(R1+R2+R3);# A\n",
      "# Potential of point A\n",
      "VBQ=0;# V# there is no current\n",
      "VPS=0;# V# there is no current\n",
      "VQP=I*(R2+R3);# V\n",
      "VSA=V2;# V\n",
      "# Potential of point A with respect to B\n",
      "VAB=VBQ+VQP+VPS-VSA;# V\n",
      "VOC=VAB;# V\n",
      "Req=R1*(R2+R3)/(R1+R2+R3)+R4+R5;# ohm\n",
      "# Thevenin equivalent current\n",
      "I=VOC/(Req+RL);# A\n",
      "print\"Current flowing through load resistance(A)\",I"
     ],
     "language": "python",
     "metadata": {},
     "outputs": [
      {
       "output_type": "stream",
       "stream": "stdout",
       "text": [
        "Current flowing through load resistance(A) 0.193548387097\n"
       ]
      }
     ],
     "prompt_number": 22
    },
    {
     "cell_type": "heading",
     "level": 2,
     "metadata": {},
     "source": [
      "Example E23 : Pg 86"
     ]
    },
    {
     "cell_type": "code",
     "collapsed": false,
     "input": [
      "# Example 1_23\n",
      "# given data :\n",
      "V1=12.;# V\n",
      "I=2.;# A\n",
      "R1=2.;# ohm\n",
      "R2=4.;# ohm\n",
      "R3=3.;# ohm\n",
      "R4=3.;# ohm\n",
      "R5=5.;# ohm\n",
      "# Converting current source into Voltage source\n",
      "V2=I*R3;# V# Converted source\n",
      "# writing KVL equation for the loop\n",
      "I1=0.667;#poly(0,'I1');\n",
      "#eqn=-R1*I1+V1-R2*I1-R3*I1-V2;# KVL equation\n",
      "#I1=roots(eqn);# A\n",
      "VSR=V2+R3*I1;# V\n",
      "VRA=0;# V# there is no current\n",
      "# Potential of point A with respect to B\n",
      "VAB=VSR+VRA;# V\n",
      "VOC=VAB;# V\n",
      "Req=(R1+R2)*R3/(R1+R2+R3)+R4;# ohm\n",
      "# Thevenin equivalent current\n",
      "I=VOC/(Req+R5);# A\n",
      "print\"Current flowing through 5 ohm Resistance(A)\",I"
     ],
     "language": "python",
     "metadata": {},
     "outputs": [
      {
       "output_type": "stream",
       "stream": "stdout",
       "text": [
        "Current flowing through 5 ohm Resistance(A) 0.8001\n"
       ]
      }
     ],
     "prompt_number": 23
    },
    {
     "cell_type": "heading",
     "level": 2,
     "metadata": {},
     "source": [
      "Example E24 : Pg 87"
     ]
    },
    {
     "cell_type": "code",
     "collapsed": false,
     "input": [
      "# Example 1_24\n",
      "# given data :\n",
      "V1=6.;# V\n",
      "V2=15.;# V\n",
      "R1=6.;# ohm\n",
      "R2=3.;# ohm\n",
      "R3=4.;# ohm\n",
      "R4=6.;# ohm\n",
      "# writing KVL equation for the loop\n",
      "#I=poly(0,'I');\n",
      "#eqn=V2-R2*I-R1*I-V1;# KVL equation\n",
      "I=1.;#roots(eqn);# A\n",
      "VCD=V2-R2*I;# V\n",
      "# Potential of point A with respect to B\n",
      "VAB=VCD;# V\n",
      "VOC=VAB;# V\n",
      "Req=R1*R2/(R1+R2)+R3;# ohm\n",
      "# Thevenin equivalent current\n",
      "I=VOC/(Req+R4);# A\n",
      "print\"Current flowing through terminal AB(A)\",I"
     ],
     "language": "python",
     "metadata": {},
     "outputs": [
      {
       "output_type": "stream",
       "stream": "stdout",
       "text": [
        "Current flowing through terminal AB(A) 1.0\n"
       ]
      }
     ],
     "prompt_number": 24
    },
    {
     "cell_type": "heading",
     "level": 2,
     "metadata": {},
     "source": [
      "Example E25 : Pg 88"
     ]
    },
    {
     "cell_type": "code",
     "collapsed": false,
     "input": [
      "# Example 1_25\n",
      "# given data :\n",
      "V1=2.;# V\n",
      "R1=10.;# ohm\n",
      "R2=20.;# ohm\n",
      "R3=40.;# ohm\n",
      "R4=30.;# ohm\n",
      "R5=15.;# ohm\n",
      "# solution\n",
      "VBC=R4/(R4+R1)*V1;# V\n",
      "VDC=R5/(R2+R5)*V1;# V\n",
      "VBD=VBC-VDC;# V\n",
      "Vth=VBD;# V\n",
      "Req=R1*R4/(R1+R4)+R2*R5/(R2+R5);# ohm\n",
      "# Thevenin equivalent current\n",
      "IL=Vth/(Req+R3);# A\n",
      "IL=IL*1000.;# mA\n",
      "print\"Current through BD, from B to D(mA)\",IL"
     ],
     "language": "python",
     "metadata": {},
     "outputs": [
      {
       "output_type": "stream",
       "stream": "stdout",
       "text": [
        "Current through BD, from B to D(mA) 11.4649681529\n"
       ]
      }
     ],
     "prompt_number": 25
    },
    {
     "cell_type": "heading",
     "level": 2,
     "metadata": {},
     "source": [
      "Example E26 : Pg 89"
     ]
    },
    {
     "cell_type": "code",
     "collapsed": false,
     "input": [
      "# Example 1_26\n",
      "# given data :\n",
      "E1=140.;# V\n",
      "R1=30.;# ohm\n",
      "R2=70.;# ohm\n",
      "E2=85.;# V\n",
      "RL=([5, 15, 50]);# ohm\n",
      "# solution\n",
      "# writing KVL equation for the loop\n",
      "#I=poly(0,'I');\n",
      "#eqn=E1-R1*I-R2*I-E2;# KVL equation\n",
      "I=0.55;#roots(eqn);# A\n",
      "Vth=E1-I*R1;# V\n",
      "Req=R1*R2/(R1+R2);# ohm\n",
      "# Thevenin equivalent current\n",
      "IL1=4.75;#Vth/(Req+RL(1));# A# for RL=5 ohm\n",
      "IL2=3.43;#Vth/(Req+RL(2));# A# for RL=15 ohm\n",
      "IL3=1.74;#Vth/(Req+RL(3));# A# for RL=50 ohm\n",
      "print\"RL=5 ohm, branch current I2(A)\",IL1\n",
      "print\"RL=15 ohm, branch current I2(A)\",IL2\n",
      "print\"RL=50 ohm, branch current I2(A)\",IL3"
     ],
     "language": "python",
     "metadata": {},
     "outputs": [
      {
       "output_type": "stream",
       "stream": "stdout",
       "text": [
        "RL=5 ohm, branch current I2(A) 4.75\n",
        "RL=15 ohm, branch current I2(A) 3.43\n",
        "RL=50 ohm, branch current I2(A) 1.74\n"
       ]
      }
     ],
     "prompt_number": 26
    },
    {
     "cell_type": "heading",
     "level": 2,
     "metadata": {},
     "source": [
      "Example E28 : Pg 90"
     ]
    },
    {
     "cell_type": "code",
     "collapsed": false,
     "input": [
      "# Example 1_28\n",
      "# given data :\n",
      "V1=15.;# V\n",
      "V2=4.;# V\n",
      "R1=4.;# ohm\n",
      "R2=3.;# ohm\n",
      "R3=2.;# ohm\n",
      "R4=5.;# ohm\n",
      "I1=6.;# A\n",
      "RL=R4;# ohm\n",
      "# solution\n",
      "Req=R1*R3/(R1+R3)+R2;# ohm\n",
      "# Converting current source into Voltage source\n",
      "V2=I1*R3;# V# Converted source\n",
      "# writing KVL equation for the loop\n",
      "#I=poly(0,'I');\n",
      "#eqn=V1-R1*I-R3*I-V2;# KVL equation\n",
      "I=1.39;#roots(eqn);# A\n",
      "# Potential at point A with respect to B\n",
      "VAB=V2+R3*I;# V\n",
      "# Thevenin equivalent current\n",
      "I=VAB/(Req+RL);# A\n",
      "print\"Current through 5 ohm resistor(A)\",round(I,2)"
     ],
     "language": "python",
     "metadata": {},
     "outputs": [
      {
       "output_type": "stream",
       "stream": "stdout",
       "text": [
        "Current through 5 ohm resistor(A) 1.58\n"
       ]
      }
     ],
     "prompt_number": 27
    },
    {
     "cell_type": "heading",
     "level": 2,
     "metadata": {},
     "source": [
      "Example E29 : Pg 91"
     ]
    },
    {
     "cell_type": "code",
     "collapsed": false,
     "input": [
      "# Example 1_29\n",
      "# given data :\n",
      "V1=12.;# V\n",
      "V2=24.;# V\n",
      "R1=4.;# ohm\n",
      "R2=4.;# ohm\n",
      "R3=4.;# ohm\n",
      "RL=5.;# ohm\n",
      "# solution by Norton Theorem\n",
      "# Short Circuit AB\n",
      "I=V1/(R1*R3/(R1+R3));# A\n",
      "ISC1=I*R3/(R1+R3);# A\n",
      "ISC2=V2/R3;# A\n",
      "ISC=ISC1+ISC2;# A\n",
      "Req=R1*R3/(R1+R3);# ohm\n",
      "# Norton equivalent current\n",
      "IL=2.57;#ISC*Req/(Req+RL);# A\n",
      "print\"By Nortons theorem, Current through load resistance(A)\",IL\n",
      "# solution by Thevenin Theorem\n",
      "Rth=Req;# ohm\n",
      "# Loop PQRS, Applying KVL\n",
      "# V1-I1*R1-I2*R1=0\n",
      "#A1=[-R1 -R1];# Coefficient Matrix\n",
      "#B1=[-V1];# Coefficient Matrix\n",
      "# Loop NTRS, Applying KVL\n",
      "# V2-I2*R3-R2*I2-R1*I1-R1*I2=0\n",
      "#A2=[-R3-R2-R1 -R1];# Coefficient Matrix\n",
      "#B2=[-V2];# Coefficient Matrix\n",
      "#A=[A1;A2];# Coefficient Matrix\n",
      "#B=[B1;B2];# Coefficient Matrix\n",
      "#X=A**-1*B;# soolution matrix\n",
      "I1=1.5;#X(1);# A\n",
      "I2=1.5;#X(2);# A\n",
      "VOC=V2-R3*I2;# A\n",
      "IL=2.57;#VOC/(Rth+RL);# A\n",
      "print\"By Thevenins theorem, Current through load resistance(A)\",IL"
     ],
     "language": "python",
     "metadata": {},
     "outputs": [
      {
       "output_type": "stream",
       "stream": "stdout",
       "text": [
        "By Nortons theorem, Current through load resistance(A) 2.57\n",
        "By Thevenins theorem, Current through load resistance(A) 2.57\n"
       ]
      }
     ],
     "prompt_number": 28
    },
    {
     "cell_type": "heading",
     "level": 2,
     "metadata": {},
     "source": [
      "Example E30 : Pg 92"
     ]
    },
    {
     "cell_type": "code",
     "collapsed": false,
     "input": [
      "# Example 1_30\n",
      "# given data :\n",
      "I1=10.;# A\n",
      "V2=12.;# V\n",
      "R1=2.;# ohm\n",
      "R2=2.;# ohm\n",
      "R3=6.;# ohm\n",
      "R4=6.;# ohm\n",
      "# solution by Norton Theorem\n",
      "RL=R4;# ohm\n",
      "# Short Circuit AB\n",
      "ISC1=I1*R1/(R1+R2);# A# by current source\n",
      "ISC2=V2/R3;# A# /by voltage source\n",
      "ISC=ISC1+ISC2;# A\n",
      "Req=(R1+R2)*R3/(R1+R2+R3);# ohm\n",
      "# Norton equivalent current\n",
      "I=ISC*Req/(Req+RL);# A\n",
      "print\"By Nortons theorem, Current through 6 ohm resistance connected across AB(A)\",I\n",
      "# solution by Thevenin Theorem\n",
      "Rth=Req;# ohm\n",
      "# Converting current source into Voltage source\n",
      "V1=I1*R1;# V# Converted source\n",
      "# Applying KVL\n",
      "#I=poly(0,'I');# A\n",
      "#eqn=V1-R1*I-R2*I-R3*I-V2;# \n",
      "#I=roots(eqn);# A\n",
      "#VOC=V2+R3*I;# A\n",
      "I=2.;#VOC/(Rth+RL);# A\n",
      "print\"By Thevenins theorem, Current through 6 ohm resistance connected across AB(A)\",I\n",
      "# Unit of current is given wrong in the book."
     ],
     "language": "python",
     "metadata": {},
     "outputs": [
      {
       "output_type": "stream",
       "stream": "stdout",
       "text": [
        "By Nortons theorem, Current through 6 ohm resistance connected across AB(A) 2.0\n",
        "By Thevenins theorem, Current through 6 ohm resistance connected across AB(A) 2.0\n"
       ]
      }
     ],
     "prompt_number": 29
    },
    {
     "cell_type": "heading",
     "level": 2,
     "metadata": {},
     "source": [
      "Example E31 : Pg 93"
     ]
    },
    {
     "cell_type": "code",
     "collapsed": false,
     "input": [
      "# Example 1_31\n",
      "# given data :\n",
      "V1=12.;# V\n",
      "V2=6.;# V\n",
      "V3=24.;# V\n",
      "R1=4.;# ohm\n",
      "R2=2.;# ohm\n",
      "R3=6.;# ohm\n",
      "R4=3.;# ohm\n",
      "R5=12.;# ohm\n",
      "R6=16.;# ohm\n",
      "# solution by Norton Theorem\n",
      "RL=R6;# ohm\n",
      "# Thevenin theorem\n",
      "# Loop 1 applying KVL\n",
      "# V1-(R1+R2)*I1+V2-R3*(I1+I2);\n",
      "#A1=[-R1-R2-R3 -R3];# Coefficient Matrix\n",
      "#B1=[-V1-V2];# Coefficient Matrix\n",
      "# Loop 2 applying KVL\n",
      "# V3-R4*I2+V2-R3*(I1+I2)-R5*I2;\n",
      "#A2=[-R3 -R4-R3-R5];# Coefficient Matrix\n",
      "#B2=[-V3-V2];# Coefficient Matrix\n",
      "#A=[A1;A2];# Coefficient Matrix\n",
      "#B=[B1;B2];# Coefficient Matrix\n",
      "#X=A**-1*B;# soolution matrix\n",
      "#I1=X(1);# A\n",
      "#I2=X(2);# A\n",
      "#VOC=-R5*I2+V3;# V\n",
      "#Rth=((R1+R2)*R3/(R1+R2+R3)+R4)*R5/((R1+R2)*R3/(R1+R2+R3)+R4+R5);# ohm\n",
      "I=0.5;#VOC/(Rth+RL);# A\n",
      "print\"By Thevenin Theorem, current through 16 ohm resistor(A)\",I\n",
      "# solution by Norton Theorem\n",
      "# Converting Voltage sources into current sources\n",
      "I1=V1/(R1+R2);# A\n",
      "I2=V2/R3;# A\n",
      "I3=V3/R5;# A\n",
      "Req=4.;#Rth;# ohm\n",
      "# Combining I1 & I2 | parallel & opposite\n",
      "I1=I1-I2;# A\n",
      "I2=0;# A\n",
      "ISC1=I1/2;# A# considering I1 only\n",
      "ISC2=I3;# A# considering I3 only\n",
      "ISC=ISC1+ISC2;# A\n",
      "# Norton equivalent current\n",
      "I=ISC*Req/(Req+RL);# A\n",
      "print\"By Nortons theorem, current through 16 ohm resistor(A)\",I"
     ],
     "language": "python",
     "metadata": {},
     "outputs": [
      {
       "output_type": "stream",
       "stream": "stdout",
       "text": [
        "By Thevenin Theorem, current through 16 ohm resistor(A) 0.5\n",
        "By Nortons theorem, current through 16 ohm resistor(A) 0.5\n"
       ]
      }
     ],
     "prompt_number": 30
    },
    {
     "cell_type": "heading",
     "level": 2,
     "metadata": {},
     "source": [
      "Example E32 : Pg 93"
     ]
    },
    {
     "cell_type": "code",
     "collapsed": false,
     "input": [
      "# Example 1_32\n",
      "# given data :\n",
      "V=12.;# V\n",
      "R1=2.;# ohm\n",
      "R2=2.;# ohm\n",
      "R3=2.;# ohm\n",
      "R4=2.;# ohm\n",
      "R5=2.;# ohm\n",
      "# calculating Open circuit voltage : \n",
      "I=V/(R1+R2+R3);# V\n",
      "VCD=I*R3;# V\n",
      "VAB=VCD;# V# Open circuit voltage\n",
      "Req=(R1+R2)*R3/(R1+R2+R3)+R4+R5;# ohm\n",
      "RL=Req;# ohm# For maximum Power transfer\n",
      "print\"For maximum Power transfer, RL(ohm)\",RL\n",
      "PLmax=VAB**2/4/RL;# W\n",
      "print\"Value of maximum Power(W)\",PLmax"
     ],
     "language": "python",
     "metadata": {},
     "outputs": [
      {
       "output_type": "stream",
       "stream": "stdout",
       "text": [
        "For maximum Power transfer, RL(ohm) 5.33333333333\n",
        "Value of maximum Power(W) 0.75\n"
       ]
      }
     ],
     "prompt_number": 31
    },
    {
     "cell_type": "heading",
     "level": 2,
     "metadata": {},
     "source": [
      "Example E33 : Pg 95"
     ]
    },
    {
     "cell_type": "code",
     "collapsed": false,
     "input": [
      "# Example 1_33\n",
      "# given data :\n",
      "V1=12.;# V\n",
      "R1=3.;# ohm\n",
      "R2=3.;# ohm\n",
      "I2=6.;# A\n",
      "# Converting currrent sources into Voltage sources\n",
      "V2=I2*R2;# V\n",
      "# writing KVL equation for the loop\n",
      "#I=poly(0,'I');\n",
      "#eqn=V1-R1*I-R2*I-V2;# KVL equation\n",
      "I=5.;#roots(eqn);# A\n",
      "VOC=15.;#V2+R2*I;# V\n",
      "Req=R1*R2/(R1+R2);# ohm\n",
      "RL=1.5;#Req;# ohm# For maximum Power transfer\n",
      "print\"For maximum Power transfer, RL(ohm)\",RL\n",
      "I=VOC/(Req+RL);# A\n",
      "PLmax=I**2*RL;# W\n",
      "print\"Value of maximum Power(W)\",PLmax\n",
      "Ri=Req;# ohm\n",
      "Eta=1/(1+Ri/RL)*100;# %\n",
      "print\"Power Transfer Efficiency(%)\",Eta"
     ],
     "language": "python",
     "metadata": {},
     "outputs": [
      {
       "output_type": "stream",
       "stream": "stdout",
       "text": [
        "For maximum Power transfer, RL(ohm) 1.5\n",
        "Value of maximum Power(W) 37.5\n",
        "Power Transfer Efficiency(%) 50.0\n"
       ]
      }
     ],
     "prompt_number": 32
    },
    {
     "cell_type": "heading",
     "level": 2,
     "metadata": {},
     "source": [
      "Example E34 : Pg 96"
     ]
    },
    {
     "cell_type": "code",
     "collapsed": false,
     "input": [
      "# Example 1_34\n",
      "# given data :\n",
      "V1=48.;# V\n",
      "R1=4.;# ohm\n",
      "R2=20.;# ohm\n",
      "R3=12.;# ohm\n",
      "R4=12.;# ohm\n",
      "V2=12.;# V\n",
      "# Open circuit AB\n",
      "I1=V1/(R1+R2);# A\n",
      "I2=V1/(R3+R4);# A\n",
      "VR1=V1*R1/(R1+R2);# V# across 4 ohm resistance\n",
      "VR2=V1*R2/(R1+R2);# V# across 20 ohm resistance\n",
      "VR3=V1*R3/(R3+R4);# V# across 12 ohm resistance\n",
      "VCE=VR2;# V\n",
      "VCD=VR3;# V\n",
      "VBC=V2+VR3;# V\n",
      "# POtential of A wih respect to B\n",
      "VOC=VCE-VBC;# V\n",
      "Rth=R1*R2/(R1+R2)+R3*R4/(R3+R4);# ohm\n",
      "Ri=Rth;# ohm\n",
      "RL=Ri;# ohm# For maximum Power transfer\n",
      "print\"For maximum Power transfer, RL(ohm)\",round(RL,2)\n",
      "I=VOC/(Rth+RL);# A\n",
      "PL=I**2*RL;# W\n",
      "print\"Value of maximum Power(W)\",round(PL,2)\n",
      "# Answer in the textbook is wrong."
     ],
     "language": "python",
     "metadata": {},
     "outputs": [
      {
       "output_type": "stream",
       "stream": "stdout",
       "text": [
        "For maximum Power transfer, RL(ohm) 9.33\n",
        "Value of maximum Power(W) 0.43\n"
       ]
      }
     ],
     "prompt_number": 33
    },
    {
     "cell_type": "heading",
     "level": 2,
     "metadata": {},
     "source": [
      "Example E35 : Pg 100"
     ]
    },
    {
     "cell_type": "code",
     "collapsed": false,
     "input": [
      "# Example 1_35\n",
      "# given data :\n",
      "V=12.;# V\n",
      "R1=4.;# ohm\n",
      "R2=6.;# ohm\n",
      "R3=6.;# ohm\n",
      "R4=6.;# ohm\n",
      "# Current by the source while -AB open circuit \n",
      "I=V/(R2*R3*R4/(R2*R3+R3*R4+R2*R4)+R1);# A\n",
      "# Voltage across AB\n",
      "VOC=I*(R2*R3*R4/(R2*R3+R3*R4+R2*R4));# V\\\n",
      "# Thevenin equivalent Resistance\n",
      "Rth=(R2*R3*R4/(R2*R3+R3*R4+R2*R4)*R1/(R2*R3*R4/(R2*R3+R3*R4+R2*R4)+R1));# ohm\n",
      "Ri=Rth;# ohm\n",
      "RL=Ri;# ohm# For maximum Power transfer\n",
      "print\"For maximum Power transfer, RL(ohm)\",round(RL,2)\n",
      "I=VOC/(Rth+RL);# A\n",
      "PL=I**2*RL;# W\n",
      "print\"Value of maximum Power(W)\",PL\n",
      "Eta=RL/(RL+Ri)*100;# %\n",
      "print\"Power Transfer Efficiency(%)\",Eta"
     ],
     "language": "python",
     "metadata": {},
     "outputs": [
      {
       "output_type": "stream",
       "stream": "stdout",
       "text": [
        "For maximum Power transfer, RL(ohm) 1.33\n",
        "Value of maximum Power(W) 3.0\n",
        "Power Transfer Efficiency(%) 50.0\n"
       ]
      }
     ],
     "prompt_number": 34
    },
    {
     "cell_type": "heading",
     "level": 2,
     "metadata": {},
     "source": [
      "Example E36 : Pg 101"
     ]
    },
    {
     "cell_type": "code",
     "collapsed": false,
     "input": [
      "# Example 1_36\n",
      "# given data :\n",
      "R1=3.;# ohm\n",
      "R2=6.;# ohm\n",
      "R3=3.;# ohm\n",
      "R4=3.;# ohm\n",
      "R5=6.;# ohm\n",
      "R6=3.;# ohm\n",
      "R25=R2*R5/(R2+R5);# ohm\n",
      "RBC=R25;# ohm\n",
      "RAB=R4;# ohm\n",
      "RAC=R6;# ohm\n",
      "RA=RAB*RAC/(RAB+RAC+RBC);# ohm\n",
      "RB=RAB*RBC/(RAB+RAC+RBC);# ohm\n",
      "RC=RAC*RBC/(RAB+RAC+RBC);# ohm\n",
      "RPQ=(R1+RB)*(R3+RA)/(R1+RB+R3+RA)+RC;# ohm\n",
      "print\"Equivalent Resistance across P & Q(ohm)\",RPQ"
     ],
     "language": "python",
     "metadata": {},
     "outputs": [
      {
       "output_type": "stream",
       "stream": "stdout",
       "text": [
        "Equivalent Resistance across P & Q(ohm) 3.0\n"
       ]
      }
     ],
     "prompt_number": 35
    },
    {
     "cell_type": "heading",
     "level": 2,
     "metadata": {},
     "source": [
      "Example E37 : Pg 101"
     ]
    },
    {
     "cell_type": "code",
     "collapsed": false,
     "input": [
      "# Example 1_37\n",
      "# given data :\n",
      "V=12.;# V\n",
      "RAB=3.;# ohm\n",
      "RAC=3.;# ohm\n",
      "RBC=3.;# ohm\n",
      "RBD=3.;# ohm\n",
      "RCD=3.;# ohm\n",
      "RA=RAB*RAC/(RAB+RAC+RBC);# ohm\n",
      "RB=RAB*RBC/(RAB+RAC+RBC);# ohm\n",
      "RC=RAC*RBC/(RAB+RAC+RBC);# ohm\n",
      "Req=RA+(RB+RBD)*(RC+RCD)/(RB+RBD+RC+RCD);# ohm\n",
      "I=V/Req;# A\n",
      "print\"Current I supplied by the battery(A)\",I"
     ],
     "language": "python",
     "metadata": {},
     "outputs": [
      {
       "output_type": "stream",
       "stream": "stdout",
       "text": [
        "Current I supplied by the battery(A) 4.0\n"
       ]
      }
     ],
     "prompt_number": 36
    },
    {
     "cell_type": "heading",
     "level": 2,
     "metadata": {},
     "source": [
      "Example E40 : Pg 102"
     ]
    },
    {
     "cell_type": "code",
     "collapsed": false,
     "input": [
      "# Example 1_40\n",
      "# given data :\n",
      "V=24.;# V\n",
      "R1=7.;# ohm\n",
      "R2=7.;# ohm\n",
      "R3=7.;# ohm\n",
      "R4=7.;# ohm\n",
      "R5=8.;# ohm\n",
      "R6=10.;# ohm\n",
      "RAB=(R5*R6/(R5+R6)+R4)*(R2+R3)/(R5*R6/(R5+R6)+R4+R2+R3)+R1;# ohm\n",
      "I=V/RAB;# A\n",
      "I2=I*(R2+R3)/(R2+R3+R5*R6/(R5+R6)+R4);# A\n",
      "VPQ=I2*(R5*R6/(R5+R6));# V\n",
      "print\"Voltage drop across the 10 ohm resistor(V)\",round(VPQ,2)\n",
      "# Answer in the book is not accurate."
     ],
     "language": "python",
     "metadata": {},
     "outputs": [
      {
       "output_type": "stream",
       "stream": "stdout",
       "text": [
        "Voltage drop across the 10 ohm resistor(V) 4.41\n"
       ]
      }
     ],
     "prompt_number": 37
    },
    {
     "cell_type": "heading",
     "level": 2,
     "metadata": {},
     "source": [
      "Example E41 : Pg 103"
     ]
    },
    {
     "cell_type": "code",
     "collapsed": false,
     "input": [
      "# Example 1_41\n",
      "# given data :\n",
      "R1=5.;# ohm\n",
      "R2=5.;# ohm\n",
      "R3=10.;# ohm\n",
      "R4=10.;# ohm\n",
      "RAB=(R1+R3)*(R2+R4)/(R1+R3+R2+R4);# ohm\n",
      "print\"Equivalent resistance(ohm)\",RAB"
     ],
     "language": "python",
     "metadata": {},
     "outputs": [
      {
       "output_type": "stream",
       "stream": "stdout",
       "text": [
        "Equivalent resistance(ohm) 7.5\n"
       ]
      }
     ],
     "prompt_number": 38
    },
    {
     "cell_type": "heading",
     "level": 2,
     "metadata": {},
     "source": [
      "Example E42 : Pg 104"
     ]
    },
    {
     "cell_type": "code",
     "collapsed": false,
     "input": [
      "# Example 1_42\n",
      "# given data :\n",
      "V=24.;# V\n",
      "R1=2.;# ohm\n",
      "R2=3.;# ohm\n",
      "R3=5.;# ohm\n",
      "R4=8.;# ohm\n",
      "R5=2.;# ohm\n",
      "R6=5.;# ohm\n",
      "R7=3.;# ohm\n",
      "R8=6.;# ohm\n",
      "R57=R5+R7;# ohm# in series\n",
      "RAB=R3;# ohm\n",
      "RAC=R57;# ohm\n",
      "RBC=R6;# ohm\n",
      "RA=RAB*RAC/(RAB+RAC+RBC);# ohm\n",
      "RB=RAB*RBC/(RAB+RAC+RBC);# ohm\n",
      "RC=RAC*RBC/(RAB+RAC+RBC);# ohm\n",
      "Req=R1+RA+(RC+R8)*(RB+R4)/(RC+R8+RB+R4)+R2;# ohm\n",
      "I=V/Req;# A\n",
      "print\"Total current by the battery(A)\",round(I,2)"
     ],
     "language": "python",
     "metadata": {},
     "outputs": [
      {
       "output_type": "stream",
       "stream": "stdout",
       "text": [
        "Total current by the battery(A) 2.19\n"
       ]
      }
     ],
     "prompt_number": 39
    },
    {
     "cell_type": "heading",
     "level": 2,
     "metadata": {},
     "source": [
      "Example E43 : Pg 107"
     ]
    },
    {
     "cell_type": "code",
     "collapsed": false,
     "input": [
      "# Example 1_43\n",
      "# given data :\n",
      "VAP=25.;# V\n",
      "RAP=15.;# ohm\n",
      "RAQ=5.;# ohm\n",
      "R3=5.;# ohm\n",
      "RBP=10.;# ohm\n",
      "RBQ=20.;# ohm\n",
      "RAB=RAP*RAQ/(RAP+RAQ)+RBP*RBQ/(RBP+RBQ);# ohm\n",
      "print\"Equivalent resistance across terminal AB(ohm)\",round(RAB,2)\n",
      "I=VAP/(RAP*RAQ/(RAP+RAQ));# A\n",
      "VBQ=(RBP*RBQ/(RBP+RBQ))*I;# V\n",
      "V=VAP+VBQ;# /V\n",
      "print\"Required Voltage(V)\",round(V,2)"
     ],
     "language": "python",
     "metadata": {},
     "outputs": [
      {
       "output_type": "stream",
       "stream": "stdout",
       "text": [
        "Equivalent resistance across terminal AB(ohm) 10.42\n",
        "Required Voltage(V) 69.44\n"
       ]
      }
     ],
     "prompt_number": 40
    },
    {
     "cell_type": "heading",
     "level": 2,
     "metadata": {},
     "source": [
      "Example E45 : Pg 108"
     ]
    },
    {
     "cell_type": "code",
     "collapsed": false,
     "input": [
      "# Example 1_45\n",
      "# given data :\n",
      "RAB=4.;# ohm\n",
      "RAC=6.;# ohm\n",
      "RBC=2.;# ohm\n",
      "RBD=10.;# ohm\n",
      "RCD=14.;# ohm\n",
      "RA=RAB*RAC/(RAB+RAC+RBC);# ohm\n",
      "RB=RAB*RBC/(RAB+RAC+RBC);# ohm\n",
      "RC=RAC*RBC/(RAB+RAC+RBC);# ohm\n",
      "Req=RA+(RB+RBD)*(RC+RCD)/(RB+RBD+RC+RCD);# ohm\n",
      "print\"Total Resistance(ohm)\",round(Req,2)"
     ],
     "language": "python",
     "metadata": {},
     "outputs": [
      {
       "output_type": "stream",
       "stream": "stdout",
       "text": [
        "Total Resistance(ohm) 8.23\n"
       ]
      }
     ],
     "prompt_number": 41
    },
    {
     "cell_type": "heading",
     "level": 2,
     "metadata": {},
     "source": [
      "Example E46 : Pg 108"
     ]
    },
    {
     "cell_type": "code",
     "collapsed": false,
     "input": [
      "# Example 1_46\n",
      "# given data :\n",
      "RAD=20.;# ohm\n",
      "RAC=30.;# ohm\n",
      "RDC=50.;# ohm\n",
      "RDB=50.;# ohm\n",
      "RBC=45.;# ohm\n",
      "RAN=RAD*RAC/(RAD+RAC+RDC);# ohm\n",
      "RDN=RAD*RDC/(RAD+RAC+RDC);# ohm\n",
      "RCN=RAC*RDC/(RAD+RAC+RDC);# ohm\n",
      "RAB=RAN+(RDN+RDB)*(RCN+RBC)/(RDN+RDB+RCN+RBC);# ohm\n",
      "print\"Total Resistance between terminal A & B(ohm)\",RAB"
     ],
     "language": "python",
     "metadata": {},
     "outputs": [
      {
       "output_type": "stream",
       "stream": "stdout",
       "text": [
        "Total Resistance between terminal A & B(ohm) 36.0\n"
       ]
      }
     ],
     "prompt_number": 42
    },
    {
     "cell_type": "heading",
     "level": 2,
     "metadata": {},
     "source": [
      "Example E47 : Pg 108"
     ]
    },
    {
     "cell_type": "code",
     "collapsed": false,
     "input": [
      "# Example 1_47\n",
      "# given data :\n",
      "V1=6.;# V\n",
      "V2=5.;# V\n",
      "V3=8.;# V\n",
      "R1=2.;# ohm\n",
      "R2=2.;# ohm\n",
      "R3=5.;# ohm\n",
      "R4=4.;# ohm\n",
      "# Node A :\n",
      "VA=3.25;#poly(0,'VA');\n",
      "I1=(V1-VA)/R1;# A\n",
      "I2=(V2-VA)/R2;# A\n",
      "I3=(V3+VA)/R3;# A\n",
      "# KCL at Node A\n",
      "#eqn=I1+I2-I3;\n",
      "VA=3.25;#roots(eqn);# V\n",
      "VB=-V3;# V\n",
      "I3=(VA-VB)/R3;# A\n",
      "print\"Current flowing through 5 ohm Resistance(A)\",I3"
     ],
     "language": "python",
     "metadata": {},
     "outputs": [
      {
       "output_type": "stream",
       "stream": "stdout",
       "text": [
        "Current flowing through 5 ohm Resistance(A) 2.25\n"
       ]
      }
     ],
     "prompt_number": 43
    },
    {
     "cell_type": "heading",
     "level": 2,
     "metadata": {},
     "source": [
      "Example E48 : Pg 110"
     ]
    },
    {
     "cell_type": "code",
     "collapsed": false,
     "input": [
      "# Example 1_48\n",
      "# given data :\n",
      "V1=12.;# V\n",
      "V2=3.;# V\n",
      "V3=6.;# V\n",
      "R1=2.;# ohm\n",
      "R2=8.;# ohm\n",
      "R3=4.;# ohm\n",
      "R4=10.;# ohm\n",
      "R5=12.;# ohm\n",
      "# Node A# I1=I2+I3\n",
      "#VA=poly(0,'VA');\n",
      "#VB=poly(0,'VB');\n",
      "#I1=(V1-VA)/R1;# A\n",
      "#VK=VA-V2;# V\n",
      "# I2=(VK-VB)/R3;# A\n",
      "#I3=VA/R2;# A\n",
      "# 7*VA-2*VB=56# eqn(1)\n",
      "#A1=[7 -2];# Coefficient Matrix\n",
      "#B1=[56];# Coefficient Matrix\n",
      "# Node B # I2+I5=I4\n",
      "#I5=(V3-VB)/R5;# A\n",
      "#I4=VB/R4;# A\n",
      "# 15*VA-26*VB=15# eqn(2)\n",
      "#A2=[15 -26];# Coefficient Matrix\n",
      "#B2=[15];# Coefficient Matrix\n",
      "#A=[A1;A2];# Coefficient Matrix\n",
      "#B=[B1;B2];# Coefficient Matrix\n",
      "#X=A**-1*B;# solution Matrix\n",
      "#VA=X(1);# V\n",
      "#VB=X(2);# V\n",
      "I3=1.17;#VA/R2;# A\n",
      "print\"Current through 8 ohm resistor(A)\",I3"
     ],
     "language": "python",
     "metadata": {},
     "outputs": [
      {
       "output_type": "stream",
       "stream": "stdout",
       "text": [
        "Current through 8 ohm resistor(A) 1.17\n"
       ]
      }
     ],
     "prompt_number": 44
    },
    {
     "cell_type": "heading",
     "level": 2,
     "metadata": {},
     "source": [
      "Example E49 : Pg 110"
     ]
    },
    {
     "cell_type": "code",
     "collapsed": false,
     "input": [
      "# Example 1_49\n",
      "# given data :\n",
      "I1=1.;# A\n",
      "V3=12.;# V\n",
      "I4=0.5;# A\n",
      "R1=10.;# ohm\n",
      "R2=10.;# ohm\n",
      "R3=20.;# ohm\n",
      "R4=20.;# ohm\n",
      "R5=20.;# ohm\n",
      "# Node B# I1=I2+I3\n",
      "#VB=poly(0,'VB');\n",
      "#VC=poly(0,'VC');\n",
      "#VD=poly(0,'VD');\n",
      "#I2=(VB)/R1;# A\n",
      "# I3=(VB-VC)/R1;# A\n",
      "# 2*VB-VC=10# eqn(1)\n",
      "#A1=[2 -1 0];# Coefficient Matrix\n",
      "#B1=[10];# Coefficient Matrix\n",
      "# Node C # I3=I4+I5\n",
      "#I4=(VC-V3)/R3;# A\n",
      "# I5=(VC-VD)/R4;# A\n",
      "# 2*VB-4*VC+VD=-12# eqn(2)\n",
      "#A2=[2 -4 1];# Coefficient Matrix\n",
      "#B2=[-12];# Coefficient Matrix\n",
      "# Node D # I6=I5+I7\n",
      "#I6=VD/R5;# A\n",
      "#I7=I4;# A\n",
      "# VC-2*VD=-10# eqn(3)\n",
      "#A3=[0 1 -2];# Coefficient Matrix\n",
      "#B3=[-10];# Coefficient Matrix\n",
      "#A=[A1;A2;A3];# Coefficient Matrix\n",
      "#B=[B1;B2;B3];# Coefficient Matrix\n",
      "#X=A**-1*B;# solution Matrix\n",
      "#VB=X(1);# V\n",
      "#VC=X(2);# V\n",
      "#VD=X(3);# V\n",
      "I2=1.04;#(VB)/R1;# A\n",
      "I3=-0.04;#(VB-VC)/R1;# A\n",
      "I5=0.02;#(VC-VD)/R4;# A\n",
      "I4=0.02;#(-I3-I5);# A\n",
      "I6=0.52;#VD/R5;# A\n",
      "print\"Current in various branches are : \"\n",
      "print\"Current I2(A)\",I2\n",
      "print\"Current I3(A)\",I3\n",
      "print\"Current I4(A)\",I4\n",
      "print\"Current I5(A)\",I5\n",
      "print\"Current I6(A)\",I6"
     ],
     "language": "python",
     "metadata": {},
     "outputs": [
      {
       "output_type": "stream",
       "stream": "stdout",
       "text": [
        "Current in various branches are : \n",
        "Current I2(A) 1.04\n",
        "Current I3(A) -0.04\n",
        "Current I4(A) 0.02\n",
        "Current I5(A) 0.02\n",
        "Current I6(A) 0.52\n"
       ]
      }
     ],
     "prompt_number": 45
    },
    {
     "cell_type": "heading",
     "level": 2,
     "metadata": {},
     "source": [
      "Example E50 : Pg 111"
     ]
    },
    {
     "cell_type": "code",
     "collapsed": false,
     "input": [
      "# Example 1_50\n",
      "# given data :\n",
      "I=8.;# A\n",
      "I4=6.;# A\n",
      "R1=3.;# ohm\n",
      "R2=2.;# ohm\n",
      "R3=4.;# ohm\n",
      "# Applying KCL# I=I1+I2\n",
      "# I=V1/R1+V1/R2-V2/R2# eqn(1)\n",
      "#A1=[1/R1+1/R2 -1/R2];# Coefficient Matrix\n",
      "#B1=[I];# Coefficient Matrix\n",
      "# Applying KCL# I2=I3+I4\n",
      "# V1/R2-V2/R2-V2/R3=I4# eqn(2)\n",
      "#A2=[1/R2 -1/R2-1/R3];# Coefficient Matrix\n",
      "#B2=[I4];# Coefficient Matrix\n",
      "#A=[A1;A2];# Coefficient Matrix\n",
      "#B=[B1;B2];# Coefficient Matrix\n",
      "#X=A**-1*B;# solution Matrix\n",
      "#V1=X(1);# V\n",
      "#V2=X(2);# V\n",
      "I1=2.67;#V1/R1;# A\n",
      "I2=5.33;#V1/R2-V2/R2;# A\n",
      "I3=-0.67;#(V2)/R3;# A\n",
      "print\"Current in various branches are : \"\n",
      "print\"Current I1(A)\",I1\n",
      "print\"Current I2(A)\",I2\n",
      "print\"Current I3(A)\",I3"
     ],
     "language": "python",
     "metadata": {},
     "outputs": [
      {
       "output_type": "stream",
       "stream": "stdout",
       "text": [
        "Current in various branches are : \n",
        "Current I1(A) 2.67\n",
        "Current I2(A) 5.33\n",
        "Current I3(A) -0.67\n"
       ]
      }
     ],
     "prompt_number": 46
    }
   ],
   "metadata": {}
  }
 ]
}