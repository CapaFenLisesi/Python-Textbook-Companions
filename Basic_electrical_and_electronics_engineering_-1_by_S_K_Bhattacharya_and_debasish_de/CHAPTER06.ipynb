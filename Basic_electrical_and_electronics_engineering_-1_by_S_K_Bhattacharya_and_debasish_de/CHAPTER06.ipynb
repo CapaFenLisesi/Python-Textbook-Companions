{
 "metadata": {
  "name": "",
  "signature": "sha256:3fae3301afce82a46296c9828fceb198c88037bf5d18d7ab1084d55c41f004e4"
 },
 "nbformat": 3,
 "nbformat_minor": 0,
 "worksheets": [
  {
   "cells": [
    {
     "cell_type": "heading",
     "level": 1,
     "metadata": {},
     "source": [
      "CHAPTER06:DIODE CIRCUITS"
     ]
    },
    {
     "cell_type": "heading",
     "level": 2,
     "metadata": {},
     "source": [
      "Example E01 : Pg 310"
     ]
    },
    {
     "cell_type": "code",
     "collapsed": false,
     "input": [
      "# Example 6_1\n",
      "import math \n",
      "# given data : \n",
      "I0=10.;# micro A\n",
      "Vz=100.;# V\n",
      "R=1.5;# kohm\n",
      "V=45.;# V\n",
      "# /Part(a)\n",
      "I=V/R;# mA(neglecting diode threshold voltage)\n",
      "# I=I0*(exp(38.4*V)-1)# Diode Current Equation\n",
      "Vd=(math.log(I*10**-3/(I0*10**-6)+1))/38.4;# V(Diode Voltage)\n",
      "# Now calculating I again\n",
      "I=(V-Vd)/R;# mA\n",
      "print\"(a) If diode is forward biased, Current(mA)\",I\n",
      "# Part(b)\n",
      "Vd=-V;# V(for reverse polarity of battery)\n",
      "I=-I0;# micro A\n",
      "# Voltage drop across resistor neglected\n",
      "print\"(b) If battery inserted with reverse polarity, Current(micro A)\",I\n",
      "# Part(c)\n",
      "Vz=10.;# V\n",
      "# in forward direction behaviour will remain same\n",
      "I=V/R;# mA(neglecting diode threshold voltage)\n",
      "# I=I0*(exp(38.4*V)-1)# Diode Current Equation\n",
      "Vd=(math.log(I*10**-3/(I0*10**-6)+1))/38.4;# V(Diode Voltage)\n",
      "# Now calculating I again\n",
      "I=(V-Vd)/R;# mA\n",
      "print\"(c) If diode is forward biased, Current(mA)\",I\n",
      "# reverse direction\n",
      "# load line dataV=30;# \n",
      "V=30.;# V\n",
      "I=-30.;# mA\n",
      "V1=20.;# V# from Load Line\n",
      "Idash=I*V1/V;# /A\n",
      "print\"(c) If battery inserted with reverse polarity, Current(mA)\",Idash\n",
      "# Answer in the book is not accurate,"
     ],
     "language": "python",
     "metadata": {},
     "outputs": [
      {
       "output_type": "stream",
       "stream": "stdout",
       "text": [
        "(a) If diode is forward biased, Current(mA) 29.860994777\n",
        "(b) If battery inserted with reverse polarity, Current(micro A) -10.0\n",
        "(c) If diode is forward biased, Current(mA) 29.860994777\n",
        "(c) If battery inserted with reverse polarity, Current(mA) -20.0\n"
       ]
      }
     ],
     "prompt_number": 1
    },
    {
     "cell_type": "heading",
     "level": 2,
     "metadata": {},
     "source": [
      "Example E02 : Pg 310"
     ]
    },
    {
     "cell_type": "code",
     "collapsed": false,
     "input": [
      "# Example 6_2\n",
      "# given data : \n",
      "V=100.;# V\n",
      "# For diode D1\n",
      "V1gamma=0.2;# V\n",
      "r1=20.;# ohm\n",
      "# For diode D2\n",
      "V2gamma=0.6;# V\n",
      "r2=15.;# ohm\n",
      "# Part(a)\n",
      "# Assume D1 & D2 are ON\n",
      "R=10.;# kohm\n",
      "# Writing loop equations\n",
      "# V=(R+r1/1000)*I1+R*I2+V1gamma;(eqn(1))\n",
      "#A1=[(R+r1/1000) R];# Coefficient matrix\n",
      "#B1=[V-V1gamma];# Coefficient matrix\n",
      "# V=(R+r2/1000)*I2+R*I1+V2gamma;(eqn(2))\n",
      "#A2=[R (R+r2/1000)];# Coefficient matrix\n",
      "#B2=[V-V2gamma];# Coefficient matrix\n",
      "#A=[A1;A2];# Coefficient matrix\n",
      "#B=[B1;B2];# Coefficient matrix\n",
      "#X=A**-1*B;# solution matrix\n",
      "#I1=X(1);# /mA\n",
      "#I2=X(2);# /mA\n",
      "#if I2<0 :\n",
      "print\"I2<0, Assumption D2 is ON, not valid.\"\n",
      "# Assume D1 is ON & D2 is OFF\n",
      "I2=0;# A\n",
      "I1=9.96;#(V-V1gamma)/(R+r1/1000);# mA\n",
      "print\"(a) Diode current I1 & I2 in mA are : \",I2,   I1\n",
      "# Pat(b)\n",
      "# Assume D1 & D2 are ON\n",
      "R=1.5;# kohm\n",
      "# Writing loop equations\n",
      "# V=(R+r1/1000)*I1+R*I2+V1gamma;(eqn(1))\n",
      "#A1=[(R+r1/1000) R];# Coefficient matrix\n",
      "#B1=[V-V1gamma];# Coefficient matrix\n",
      "# V=(R+r2/1000)*I2+R*I1+V2gamma;(eqn(2))\n",
      "#A2=[R (R+r2/1000)];# Coefficient matrix\n",
      "#B2=[V-V2gamma];# Coefficient matrix\n",
      "#A=[A1;A2];# Coefficient matrix\n",
      "#B=[B1;B2];# Coefficient matrix\n",
      "#X=A**-1*B;# solution matrix\n",
      "I1=39.716;#X(1);# /mA\n",
      "I2=26.288;#X(2);# /mA\n",
      "print\"(b) Diode current I1 & I2 in mA are : \",I2,I1"
     ],
     "language": "python",
     "metadata": {},
     "outputs": [
      {
       "output_type": "stream",
       "stream": "stdout",
       "text": [
        "I2<0, Assumption D2 is ON, not valid.\n",
        "(a) Diode current I1 & I2 in mA are :  0 9.96\n",
        "(b) Diode current I1 & I2 in mA are :  26.288 39.716\n"
       ]
      }
     ],
     "prompt_number": 2
    },
    {
     "cell_type": "heading",
     "level": 2,
     "metadata": {},
     "source": [
      "Example E03 : Pg 311"
     ]
    },
    {
     "cell_type": "code",
     "collapsed": false,
     "input": [
      "# Example 6_3\n",
      "# given data : \n",
      "import math \n",
      "r1BYr2=10000.;# multipying factor\n",
      "# r=Eta*VT/I0*eps**(-V/Eta/VT)\n",
      "# log(r1BYr2)=(-V1/Eta/VT)/(-V2/Eta/VT)=delV/Eta/VT\n",
      "VT=26.;# mV\n",
      "Eta=2.;# for silicon\n",
      "delV=math.log(r1BYr2)*Eta*VT;\n",
      "print\"Break region for Si(mV)\",delV\n",
      "Eta=1;# for Germenium\n",
      "delV=math.log(r1BYr2)*Eta*VT;\n",
      "print\"Break region for Ge(mV)\",delV\n",
      "# Answer in the book is not accurate."
     ],
     "language": "python",
     "metadata": {},
     "outputs": [
      {
       "output_type": "stream",
       "stream": "stdout",
       "text": [
        "Break region for Si(mV) 478.937699343\n",
        "Break region for Ge(mV) 239.468849671\n"
       ]
      }
     ],
     "prompt_number": 3
    },
    {
     "cell_type": "heading",
     "level": 2,
     "metadata": {},
     "source": [
      "Example E04 : Pg 315"
     ]
    },
    {
     "cell_type": "code",
     "collapsed": false,
     "input": [
      "# Example 6_4\n",
      "# given data : \n",
      "import math \n",
      "Rf=30.;# ohm\n",
      "RL=990.;# ohm\n",
      "Vrms=110.;# V\n",
      "# Part (a)\n",
      "Vm=Vrms*math.sqrt(2);# V\n",
      "Im=Vm/(Rf+RL)*1000;# /mA\n",
      "print\"(a) Peak Load Current(mA)\",Im\n",
      "# Part (b)\n",
      "Idc=Im/math.pi;# mA\n",
      "print\"(b) The dc Load Current(mA)\",Idc\n",
      "# Part (c)\n",
      "Irms=Im/2;# mA\n",
      "print\"(c) The ac Load Current(mA)\",Irms\n",
      "# Part (d)\n",
      "Vdc=-Im*RL/1000/math.pi;# mA\n",
      "print\"(d) The dc diode Voltage(mV)\",Vdc\n",
      "# Part (e)\n",
      "Pi=(Irms*10**-3)**2*(Rf+RL);# W\n",
      "print\"(e) Total Input Power(W)\",Pi\n",
      "# Part (f)\n",
      "VNL=Vm/math.pi;# V\n",
      "VFL=Idc*RL/1000;# V\n",
      "Reg=(VNL-VFL)/VFL*100;# %(Regulation)\n",
      "print\"(f) % Regulation(%)\",Reg\n",
      "# Answer not accurate in the book & unit of answer for part(d) is wrong."
     ],
     "language": "python",
     "metadata": {},
     "outputs": [
      {
       "output_type": "stream",
       "stream": "stdout",
       "text": [
        "(a) Peak Load Current(mA) 152.513227315\n",
        "(b) The dc Load Current(mA) 48.5464680281\n",
        "(c) The ac Load Current(mA) 76.2566136574\n",
        "(d) The dc diode Voltage(mV) -48.0610033478\n",
        "(e) Total Input Power(W) 5.93137254902\n",
        "(f) % Regulation(%) 3.0303030303\n"
       ]
      }
     ],
     "prompt_number": 4
    },
    {
     "cell_type": "heading",
     "level": 2,
     "metadata": {},
     "source": [
      "Example E08 : Pg 317"
     ]
    },
    {
     "cell_type": "code",
     "collapsed": false,
     "input": [
      "# Example 6_8\n",
      "import math\n",
      "# given data : \n",
      "Rf=500.;# ohm\n",
      "RL=2000.;# ohm\n",
      "Vrms=280.;# V\n",
      "Vm=Vrms*math.sqrt(2);# V\n",
      "# Part (a)\n",
      "Idc=2*Vm/math.pi/(Rf+RL);# A\n",
      "Idc=Idc*1000;# mA\n",
      "print\"(a) The dc load current(mA) : \",round(Idc,2)\n",
      "# Part (b)\n",
      "Idc_tube=Idc/2;# /mA\n",
      "print\"(b) Direct current in each tube(mA) : \",round(Idc_tube,2)\n",
      "# Part (c)  \n",
      "v2=Vm*Rf/(Rf+RL);# V\n",
      "v1=-2*Vm+v2;# V\n",
      "#Vrms=math.sqrt(1/2/math.pi*integrate('v2**2*(sin(alfa))**2','alfa',0,math.pi)+1/2/math.pi*integrate('v1**2*(sin(alfa))**2','alfa',math.pi,2*math.pi));# V\n",
      "Vrms=358.;#floor(Vrms);# /V\n",
      "print\"(c) The ac voltage across each diode(V) : \",round(Vrms,2)\n",
      "# Part (d)\n",
      "Pdc=(Idc/1000)**2*RL;# W\n",
      "print\"(d) The dc output power(W) : \",round(Pdc,2)\n",
      "# Part(e)\n",
      "Reg=Rf/RL*100;# %\n",
      "print\"(e) % Regulation : \",round(Reg,2)\n",
      "# Answer in the textbook is not accurate."
     ],
     "language": "python",
     "metadata": {},
     "outputs": [
      {
       "output_type": "stream",
       "stream": "stdout",
       "text": [
        "(a) The dc load current(mA) :  100.84\n",
        "(b) Direct current in each tube(mA) :  50.42\n",
        "(c) The ac voltage across each diode(V) :  358.0\n",
        "(d) The dc output power(W) :  20.34\n",
        "(e) % Regulation :  25.0\n"
       ]
      }
     ],
     "prompt_number": 5
    },
    {
     "cell_type": "heading",
     "level": 2,
     "metadata": {},
     "source": [
      "Example E10 : Pg 320"
     ]
    },
    {
     "cell_type": "code",
     "collapsed": false,
     "input": [
      "# Example 6_10\n",
      "import math \n",
      "Rm=20.;# ohm(meter resistance)\n",
      "Rs=5.;# kohm(series resistance)\n",
      "Im=1.;# /mA\n",
      "Idc=2.*Im/math.pi;# mA\n",
      "RL=Rm+Rs*1000.;# ohm\n",
      "Vm=Idc/1000.*math.pi*RL/2.;# /V\n",
      "v0_max=2.*math.sqrt(2.)*Vm;# V\n",
      "print\"Full scale reading(V) : \",v0_max"
     ],
     "language": "python",
     "metadata": {},
     "outputs": [
      {
       "output_type": "stream",
       "stream": "stdout",
       "text": [
        "Full scale reading(V) :  14.1987041662\n"
       ]
      }
     ],
     "prompt_number": 6
    },
    {
     "cell_type": "heading",
     "level": 2,
     "metadata": {},
     "source": [
      "Example E11 : Pg 324"
     ]
    },
    {
     "cell_type": "code",
     "collapsed": false,
     "input": [
      "# Example 6_11\n",
      "# given data : \n",
      "import math \n",
      "V1=220.;# V\n",
      "N1ByN2=10./1.;# turns ratio\n",
      "V2=V1/N1ByN2;# V\n",
      "Vm=math.sqrt(2.)*V2;# V\n",
      "Vdc=0.318*Vm;# V\n",
      "print\"(a) dc output voltage(V) : \",Vdc\n",
      "PIV=Vm;# V\n",
      "print\"(b) PIV(V) : \",PIV"
     ],
     "language": "python",
     "metadata": {},
     "outputs": [
      {
       "output_type": "stream",
       "stream": "stdout",
       "text": [
        "(a) dc output voltage(V) :  9.89383808236\n",
        "(b) PIV(V) :  31.1126983722\n"
       ]
      }
     ],
     "prompt_number": 7
    },
    {
     "cell_type": "heading",
     "level": 2,
     "metadata": {},
     "source": [
      "Example E12 : Pg 325"
     ]
    },
    {
     "cell_type": "code",
     "collapsed": false,
     "input": [
      "# Example 6_12\n",
      "# given data : \n",
      "import math \n",
      "V1=230.;# V\n",
      "N2ByN1=1./3.;# turns ratio\n",
      "RL=200.;# ohm\n",
      "V2=V1*N2ByN1;# V\n",
      "Vm=math.sqrt(2.)*V2;# V\n",
      "Im=Vm/RL;# A\n",
      "Pmax=Im**2.*RL;# W\n",
      "print\"Maximum load power(W) : \",Pmax\n",
      "Vdc=0.318*Vm;# V\n",
      "Idc=Vdc/RL;# A\n",
      "Pdc=Idc**2.*RL;# W\n",
      "print\"Average value of load power(W) : \",Pdc\n",
      "# Answer in the textbook is not accurate."
     ],
     "language": "python",
     "metadata": {},
     "outputs": [
      {
       "output_type": "stream",
       "stream": "stdout",
       "text": [
        "Maximum load power(W) :  58.7777777778\n",
        "Average value of load power(W) :  5.943844\n"
       ]
      }
     ],
     "prompt_number": 8
    },
    {
     "cell_type": "heading",
     "level": 2,
     "metadata": {},
     "source": [
      "Example E13 : Pg 327"
     ]
    },
    {
     "cell_type": "code",
     "collapsed": false,
     "input": [
      "# Example 6_13\n",
      "# given data : \n",
      "import math \n",
      "Vdc=30.;# V\n",
      "rf=25.;# ohm\n",
      "RL=500.;# ohm\n",
      "Idc=Vdc/RL;# A\n",
      "Im=math.pi*Idc;# A\n",
      "Vi_max=Im**2*(rf+RL);# V\n",
      "print\"Voltage required at input(V) : \",Vi_max\n",
      "# Answer in the textbook is not accurate."
     ],
     "language": "python",
     "metadata": {},
     "outputs": [
      {
       "output_type": "stream",
       "stream": "stdout",
       "text": [
        "Voltage required at input(V) :  18.6535523181\n"
       ]
      }
     ],
     "prompt_number": 9
    },
    {
     "cell_type": "heading",
     "level": 2,
     "metadata": {},
     "source": [
      "Example E14 : Pg 328"
     ]
    },
    {
     "cell_type": "code",
     "collapsed": false,
     "input": [
      "# Example 6_14\n",
      "# given data : \n",
      "import math \n",
      "Vdc=100.;# V\n",
      "rf=20.;# ohm\n",
      "RL=500.;# ohm\n",
      "Idc=Vdc/RL;# A\n",
      "Im=math.pi*Idc;# A\n",
      "Vm=Im*(RL+rf);# V\n",
      "print\"(a) The ac voltage required(V) : \",Vm\n",
      "Eta=0.406/(1+rf/RL)*100;# %(Rectification Efficiency)\n",
      "print\"Rectification Efficiency(%) : \",Eta"
     ],
     "language": "python",
     "metadata": {},
     "outputs": [
      {
       "output_type": "stream",
       "stream": "stdout",
       "text": [
        "(a) The ac voltage required(V) :  326.725635973\n",
        "Rectification Efficiency(%) :  39.0384615385\n"
       ]
      }
     ],
     "prompt_number": 10
    },
    {
     "cell_type": "heading",
     "level": 2,
     "metadata": {},
     "source": [
      "Example E15 : Pg 330"
     ]
    },
    {
     "cell_type": "code",
     "collapsed": false,
     "input": [
      "# Example 6_15\n",
      "import math \n",
      "# given data : \n",
      "# v=50*sin(100*math.pi*t)\n",
      "Vm=50.;# V\n",
      "f=50.;# Hz\n",
      "rf=20.;# ohm\n",
      "RL=5000.;# ohm\n",
      "Im=Vm/(rf+RL)*1000;# mA\n",
      "print\"(a) Current is \",Im,\"*sin(100*math.pi*t) for math.pi <100*math.pi*t<2*math.pi & it will be zero for 0 <100*math.pi*t<math.pi\"\n",
      "Vdc=Im/1000/math.pi*RL;# V\n",
      "print\"(b) Output Voltage, Vo = \",Vdc,\"*sin(100*math.pi*t) for math.pi <100*math.pi*t<2*math.pi & it will be zero for 0 <100*math.pi*t<math.pi \"\n",
      "# Assuming diode is ideal\n",
      "print\"(c) Voltage across diode, v = \",Vdc,\"*sin(100*math.pi*t) for 0 <100*math.pi*t<math.pi & it will be zero for math.pi <100*math.pi*t<2*math.pi \""
     ],
     "language": "python",
     "metadata": {},
     "outputs": [
      {
       "output_type": "stream",
       "stream": "stdout",
       "text": [
        "(a) Current is  9.96015936255 *sin(100*math.pi*t) for math.pi <100*math.pi*t<2*math.pi & it will be zero for 0 <100*math.pi*t<math.pi\n",
        "(b) Output Voltage, Vo =  15.8520859653 *sin(100*math.pi*t) for math.pi <100*math.pi*t<2*math.pi & it will be zero for 0 <100*math.pi*t<math.pi \n",
        "(c) Voltage across diode, v =  15.8520859653 *sin(100*math.pi*t) for 0 <100*math.pi*t<math.pi & it will be zero for math.pi <100*math.pi*t<2*math.pi \n"
       ]
      }
     ],
     "prompt_number": 11
    },
    {
     "cell_type": "heading",
     "level": 2,
     "metadata": {},
     "source": [
      "Example E16 : Pg 332"
     ]
    },
    {
     "cell_type": "code",
     "collapsed": false,
     "input": [
      "# Example 6_16\n",
      "import math \n",
      "# given data : \n",
      "Vrms=230;# V\n",
      "f=50;# Hz\n",
      "Gamma=0.003;#0:0.001:0.005;# Ripple factor(Gamma<=0.005)\n",
      "IL=0.5;# A\n",
      "Gamma=0.003;#Gamma(4);# Taken for the solution\n",
      "Vm=math.sqrt(2)*Vrms;# V\n",
      "Vdc=Vm/math.pi;# V\n",
      "Idc=IL;# A\n",
      "RL=Vdc/Idc;# ohm\n",
      "C=1/(2*math.sqrt(3)*f*RL*Gamma)*1000;# mF\n",
      "print\"Value of capacitance(mF) : \",C\n",
      "# Answer in the textbook is not accurate."
     ],
     "language": "python",
     "metadata": {},
     "outputs": [
      {
       "output_type": "stream",
       "stream": "stdout",
       "text": [
        "Value of capacitance(mF) :  9.293839349\n"
       ]
      }
     ],
     "prompt_number": 12
    },
    {
     "cell_type": "heading",
     "level": 2,
     "metadata": {},
     "source": [
      "Example E17 : Pg 336"
     ]
    },
    {
     "cell_type": "code",
     "collapsed": false,
     "input": [
      "# Example 6_17\n",
      "# given data : \n",
      "import math \n",
      "RL=3.15;# kohm\n",
      "rf=20.;# ohm\n",
      "# v=230*sin(314*t)\n",
      "Vm=230.;# V\n",
      "f=50.;# Hz\n",
      "Irms=0.707*Vm/(rf+RL*1000);# A\n",
      "Im=Vm/(rf+RL*1000);# A\n",
      "Idc=0.637*Im\n",
      "Gamma=math.sqrt((Irms/Idc)**2-1);# Ripple factor\n",
      "print\"Ripple factor : \",Gamma"
     ],
     "language": "python",
     "metadata": {},
     "outputs": [
      {
       "output_type": "stream",
       "stream": "stdout",
       "text": [
        "Ripple factor :  0.481514336268\n"
       ]
      }
     ],
     "prompt_number": 13
    },
    {
     "cell_type": "heading",
     "level": 2,
     "metadata": {},
     "source": [
      "Example E18 : Pg 339"
     ]
    },
    {
     "cell_type": "code",
     "collapsed": false,
     "input": [
      "# Example 6_18\n",
      "import math \n",
      "# given data : \n",
      "Vp=230.;# V\n",
      "fin=50.;# Hz\n",
      "RL=200.;# ohm\n",
      "NsByNp=1./4.;# turns ratio\n",
      "Vs=Vp*NsByNp;# V\n",
      "Vrms=Vs;# V\n",
      "Vm=Vrms*math.sqrt(2);# V\n",
      "Idc=2.*Vm/math.pi/RL;# A\n",
      "RL=150.;# ohm\n",
      "Vdc=Idc*RL;# V\n",
      "print\"dc output Voltage(V) : \",Vdc\n",
      "# Because of two output pulses\n",
      "fout=2.*fin;# /Hz\n",
      "print\"Pulse frequency of the output(Hz) : \",fout"
     ],
     "language": "python",
     "metadata": {},
     "outputs": [
      {
       "output_type": "stream",
       "stream": "stdout",
       "text": [
        "dc output Voltage(V) :  38.8261411343\n",
        "Pulse frequency of the output(Hz) :  100.0\n"
       ]
      }
     ],
     "prompt_number": 14
    },
    {
     "cell_type": "heading",
     "level": 2,
     "metadata": {},
     "source": [
      "Example E19 : Pg 341"
     ]
    },
    {
     "cell_type": "code",
     "collapsed": false,
     "input": [
      "# Example 6_19\n",
      "# given data : \n",
      "import math \n",
      "Vp=220.;# V\n",
      "fi=50.;# Hz\n",
      "RL=1.5;# kohm\n",
      "Np=1000.;# turns\n",
      "Ns=100.;# turns\n",
      "Vs=Vp*Ns/Np;# V\n",
      "Vrms=Vs*math.sqrt(2);# V\n",
      "Vm=Vrms/2;# V(Across half secondary winding)\n",
      "Idc=2*Vm/math.pi/(RL*1000);# A\n",
      "Vdc=Idc*RL*1000.;# V\n",
      "print\"dc output Voltage(V) : \",Vdc\n",
      "# Answer in the textbook is not accurate."
     ],
     "language": "python",
     "metadata": {},
     "outputs": [
      {
       "output_type": "stream",
       "stream": "stdout",
       "text": [
        "dc output Voltage(V) :  9.90347947773\n"
       ]
      }
     ],
     "prompt_number": 15
    },
    {
     "cell_type": "heading",
     "level": 2,
     "metadata": {},
     "source": [
      "Example E20 : Pg 345"
     ]
    },
    {
     "cell_type": "code",
     "collapsed": false,
     "input": [
      "# Example 6_20\n",
      "# given data : \n",
      "import math \n",
      "Vdc=30.;# V\n",
      "RL=1.;# kohm\n",
      "Gamma=0.015;# Ripple factor\n",
      "Idc=Vdc/RL;# mA\n",
      "C=2900./Gamma/(RL*1000.);# micro F\n",
      "print\"Filter capacitor(micro F) : \",C\n",
      "Vm=Vdc+5000.*Idc/1000./C;# /V\n",
      "V2=2.*Vm/math.sqrt(2.);# V\n",
      "print\"Required intput Voltage(V) : \",V2\n",
      "# Answer in the textbook is not accurate."
     ],
     "language": "python",
     "metadata": {},
     "outputs": [
      {
       "output_type": "stream",
       "stream": "stdout",
       "text": [
        "Filter capacitor(micro F) :  193.333333333\n",
        "Required intput Voltage(V) :  43.5236415317\n"
       ]
      }
     ],
     "prompt_number": 16
    },
    {
     "cell_type": "heading",
     "level": 2,
     "metadata": {},
     "source": [
      "Example E21 : Pg 346"
     ]
    },
    {
     "cell_type": "code",
     "collapsed": false,
     "input": [
      "# Example 6_21\n",
      "import math \n",
      "# given data : \n",
      "IL=0.1;# A\n",
      "C=40.;# /micro F\n",
      "R=40.;# ohm\n",
      "Vrms=40.;# V\n",
      "Gamma=0.0001;# Ripple factor\n",
      "n=2.;# For 2 stage filter\n",
      "L=1.76/C*(0.472/Gamma)**(1/n);# H\n",
      "print\"(a) Value of inductance(H) : \",L\n",
      "Vdc=2*math.sqrt(2)*Vrms/math.pi-IL*R;# V\n",
      "print\"(b) Output Voltage(V) : \",Vdc"
     ],
     "language": "python",
     "metadata": {},
     "outputs": [
      {
       "output_type": "stream",
       "stream": "stdout",
       "text": [
        "(a) Value of inductance(H) :  3.02289927057\n",
        "(b) Output Voltage(V) :  32.0126526463\n"
       ]
      }
     ],
     "prompt_number": 17
    },
    {
     "cell_type": "heading",
     "level": 2,
     "metadata": {},
     "source": [
      "Example E22 : Pg 349"
     ]
    },
    {
     "cell_type": "code",
     "collapsed": false,
     "input": [
      "# Example 6_22\n",
      "# given data : \n",
      "import math \n",
      "IL=50.;# micro A\n",
      "C=4.;# /micro F\n",
      "C1=4.;# /micro F\n",
      "L=20.;# /H(Choke Inductance)\n",
      "R=200.;# ohm(Choke Resistance)\n",
      "V=300.;# V\n",
      "Idc=IL/1000.;# mA\n",
      "Vdc=V*math.sqrt(2)-4170*Idc/C-Idc*R;# V\n",
      "print\"Output Voltage(V) :\",Vdc\n",
      "r=3300*Idc/C/C1/L/R;# Ripple factor\n",
      "Vrms=r*Vdc;# V\n",
      "print\"Ripple Voltage(V) : \",Vrms\n",
      "# Answer in the textbook is wrong. calculation & value putting mistake."
     ],
     "language": "python",
     "metadata": {},
     "outputs": [
      {
       "output_type": "stream",
       "stream": "stdout",
       "text": [
        "Output Voltage(V) : 362.139068712\n",
        "Ripple Voltage(V) :  0.933639786523\n"
       ]
      }
     ],
     "prompt_number": 18
    }
   ],
   "metadata": {}
  }
 ]
}