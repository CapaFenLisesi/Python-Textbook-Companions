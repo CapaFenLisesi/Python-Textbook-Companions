{
 "metadata": {
  "name": "",
  "signature": "sha256:f6ce3e2215a6f47b0bbae74ad915c08f8a8d3811bc5f91cd5834d518f16d3c4d"
 },
 "nbformat": 3,
 "nbformat_minor": 0,
 "worksheets": [
  {
   "cells": [
    {
     "cell_type": "heading",
     "level": 1,
     "metadata": {},
     "source": [
      "CHAPTER08:BJT CIRCUITS"
     ]
    },
    {
     "cell_type": "heading",
     "level": 2,
     "metadata": {},
     "source": [
      "Example E01 : Pg 410"
     ]
    },
    {
     "cell_type": "code",
     "collapsed": false,
     "input": [
      "# Ex_8_1\n",
      "# given data : \n",
      "Beta=100.;# unitless\n",
      "Rc=2.;# kohm\n",
      "Rb=100.;# kohm\n",
      "Vcc=10.;# V\n",
      "VBE=0.7;# V\n",
      "\n",
      "# Part (a)\n",
      "IB=(Vcc-VBE)/(Beta*Rc+Rc+Rb);# mA\n",
      "print\"IB(mA)\",IB\n",
      "IC=Beta*IB;# mA\n",
      "print\"IC(mA)\",IC\n",
      "VCE=Vcc-(IB+IC)*Rc;# V\n",
      "print\"VCE(V)\",VCE\n",
      "\n",
      "# Part (b)\n",
      "VCE=7;# V\n",
      "ICB=(Vcc-VCE)/Rc;# mA(ICB=IC+IB)\n",
      "IB=ICB/(1+Beta);# mA\n",
      "IC=ICB*Beta;# mA\n",
      "Rb=(Vcc-VBE-Rc*ICB)/IB;# kohm\n",
      "print\"Value of Rb(kohm)\",Rb"
     ],
     "language": "python",
     "metadata": {},
     "outputs": [
      {
       "output_type": "stream",
       "stream": "stdout",
       "text": [
        "IB(mA) 0.0307947019868\n",
        "IC(mA) 3.07947019868\n",
        "VCE(V) 3.77947019868\n",
        "Value of Rb(kohm) 424.2\n"
       ]
      }
     ],
     "prompt_number": 1
    },
    {
     "cell_type": "heading",
     "level": 2,
     "metadata": {},
     "source": [
      "Example E04 : Pg 411"
     ]
    },
    {
     "cell_type": "code",
     "collapsed": false,
     "input": [
      "# Ex_8_4\n",
      "# given data : \n",
      "Beta=50.;# unitless\n",
      "VBE=0.7;# V\n",
      "VCC=22.5;# V\n",
      "Rc=5.6;# kohm\n",
      "VCE=12.;# V\n",
      "IC=1.5;# mA\n",
      "S=3.;# Stability factor(S<=3)\n",
      "Rec=(VCC-VCE)/IC;# kohm(Rec=Re+Rc)\n",
      "Re=Rec-Rc;# kohm\n",
      "RbBYRe=(S-1)/(1-S/(1+Beta))\n",
      "Rb=RbBYRe*Re;# kohm\n",
      "IB=IC/Beta;# mA\n",
      "V=IB*Rb+VBE+(IB/1000+IC)*Re;# V\n",
      "R1=Rb*VCC/V;# kohm\n",
      "R2=R1*V/(VCC-V);# kohm\n",
      "print\"Value of Re(kohm)\",Re\n",
      "print\"Value of R1(kohm)\",R1\n",
      "print\"Value of R2(kohm)\",R2\n",
      "# Answer in the book is wrong for R1."
     ],
     "language": "python",
     "metadata": {},
     "outputs": [
      {
       "output_type": "stream",
       "stream": "stdout",
       "text": [
        "Value of Re(kohm) 1.4\n",
        "Value of R1(kohm) 23.1674403279\n",
        "Value of R2(kohm) 3.41331378755\n"
       ]
      }
     ],
     "prompt_number": 2
    },
    {
     "cell_type": "heading",
     "level": 2,
     "metadata": {},
     "source": [
      "Example E05 : Pg 414"
     ]
    },
    {
     "cell_type": "code",
     "collapsed": false,
     "input": [
      "# Ex_8_5\n",
      "# given data : \n",
      "VCC=20.;# V\n",
      "Rc=1.5;# kohm\n",
      "VCE=8.;# V\n",
      "IC=4.;# mA\n",
      "Beta=50.;# unitless\\\n",
      "VBE=0.2;# V\n",
      "print\"Part (a)\"\n",
      "S=12.;# Stability factor\n",
      "IB=IC/Beta;# mA\n",
      "Re=(VCC-VCE-IC*Rc)/(IB+IC);# kohm\n",
      "RbBYRe=(S-1)/(1-S/(1+Beta))\n",
      "Rb=RbBYRe*Re;# kohm\n",
      "IE=IB+IC;# mA\n",
      "VBN=VBE+IE*Re;# V\n",
      "V=VBN+IB*Rb;# V\n",
      "R1=Rb*VCC/V;# kohm\n",
      "IR1=(VCC-VBN)/R1;# mA\n",
      "IR2=IR1-IB;# mA\n",
      "R2=VBN/IR2;# kohm\n",
      "print\"Value of R1(kohm)\",R1\n",
      "print\"Value of R2(kohm)\",R2\n",
      "print\"Value of Re(kohm)\",Re\n",
      "print\"Part (b)\"\n",
      "S=3.;# Stability factor\n",
      "IB=IC/Beta;# mA\n",
      "Re=(VCC-VCE-IC*Rc)/(IB+IC);# kohm\n",
      "RbBYRe=(S-1)/(1-S/(1+Beta))\n",
      "Rb=RbBYRe*Re;# kohm\n",
      "IE=IB+IC;# mA\n",
      "VBN=VBE+IE*Re;# V\n",
      "V=VBN+IB*Rb;# V\n",
      "R1=Rb*VCC/V;# kohm\n",
      "IR1=(VCC-VBN)/R1;# mA\n",
      "IR2=IR1-IB;# mA\n",
      "R2=VBN/IR2;# kohm\n",
      "print\"Value of R1(kohm)\",R1\n",
      "print\"Value of R2(kohm)\",R2\n",
      "print\"Value of Re(kohm)\",Re\n",
      "print\"Value of Rb(kohm)\",Rb\n",
      "# Answer in the book is wrong."
     ],
     "language": "python",
     "metadata": {},
     "outputs": [
      {
       "output_type": "stream",
       "stream": "stdout",
       "text": [
        "Part (a)\n",
        "Value of R1(kohm) 53.6062378168\n",
        "Value of R2(kohm) 34.9428208386\n",
        "Value of Re(kohm) 1.47058823529\n",
        "Part (b)\n",
        "Value of R1(kohm) 9.68992248062\n",
        "Value of R2(kohm) 4.61254612546\n",
        "Value of Re(kohm) 1.47058823529\n",
        "Value of Rb(kohm) 3.125\n"
       ]
      }
     ],
     "prompt_number": 3
    },
    {
     "cell_type": "heading",
     "level": 2,
     "metadata": {},
     "source": [
      "Example E06 : Pg 415"
     ]
    },
    {
     "cell_type": "code",
     "collapsed": false,
     "input": [
      "# Ex_8_6\n",
      "# given data : \n",
      "VBE=0.7;# V\n",
      "Beta=50.;# unitless\n",
      "VCE=4.;# V\n",
      "VCC=12.;# V\n",
      "Rc=4.3;# kohm\n",
      "VEE=-6.;# V\n",
      "IC=1.5;# mA\n",
      "S=3.;# Stability factor(S<=3)\n",
      "Rec=(VCC-VCE)/IC;# kohm(Rec=Re+Rc)\n",
      "Re=Rec-Rc;# kohm\n",
      "RbBYRe=(S-1)/(1-S/(1+Beta))\n",
      "Rb=RbBYRe*Re;# kohm\n",
      "IB=IC/Beta;# mA\n",
      "V=IB*Rb+VBE+(IB/1000+IC)*Re;# V\n",
      "R1=Rb*VCC/V;# kohm\n",
      "R2=R1*V/(VCC-V);# kohm\n",
      "print\"Value of Re(kohm)\",Re\n",
      "print\"Value of R1(kohm)\",R1\n",
      "print\"Value of R2(kohm)\",R2\n",
      "# Answer in the book is wrong for R1."
     ],
     "language": "python",
     "metadata": {},
     "outputs": [
      {
       "output_type": "stream",
       "stream": "stdout",
       "text": [
        "Value of Re(kohm) 1.03333333333\n",
        "Value of R1(kohm) 11.3778365789\n",
        "Value of R2(kohm) 2.72095665325\n"
       ]
      }
     ],
     "prompt_number": 4
    }
   ],
   "metadata": {}
  }
 ]
}