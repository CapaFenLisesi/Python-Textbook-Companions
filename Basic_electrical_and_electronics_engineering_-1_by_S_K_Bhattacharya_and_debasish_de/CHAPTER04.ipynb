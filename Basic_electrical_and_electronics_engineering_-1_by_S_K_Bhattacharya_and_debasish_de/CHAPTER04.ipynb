{
 "metadata": {
  "name": "",
  "signature": "sha256:818f70bc0778c87236f90b900c9b303631ce09d1e2535c7ce7d6fca94870223c"
 },
 "nbformat": 3,
 "nbformat_minor": 0,
 "worksheets": [
  {
   "cells": [
    {
     "cell_type": "heading",
     "level": 1,
     "metadata": {},
     "source": [
      "CHAPTER04:SEMICONDUCTOR FUNDAMENTALS"
     ]
    },
    {
     "cell_type": "heading",
     "level": 2,
     "metadata": {},
     "source": [
      "Example E01 : Pg 244"
     ]
    },
    {
     "cell_type": "code",
     "collapsed": false,
     "input": [
      "# Example 4_1\n",
      "import math \n",
      "# given data : \n",
      "E=2;# eV\n",
      "c=3*10**8;# m/s# Speed of light\n",
      "h=6.64*10**-34;# Js# Planks Constant\n",
      "E=E*1.6*10**-19;# J\n",
      "lambd=c*h/E;# m\n",
      "lambd=lambd/10**-10;# Angstrum\n",
      "print\"Wavelength(Angstrum)\",lambd\n",
      "k=2*math.pi/(lambd*10**-10);# m**-1\n",
      "print\"k-vector(m**-1)\",k"
     ],
     "language": "python",
     "metadata": {},
     "outputs": [
      {
       "output_type": "stream",
       "stream": "stdout",
       "text": [
        "Wavelength(Angstrum) 6225.0\n",
        "k-vector(m**-1) 10093470.373\n"
       ]
      }
     ],
     "prompt_number": 1
    },
    {
     "cell_type": "heading",
     "level": 2,
     "metadata": {},
     "source": [
      "Example E02 : Pg 244"
     ]
    },
    {
     "cell_type": "code",
     "collapsed": false,
     "input": [
      "# Example 4_2\n",
      "import math \n",
      "# given data : \n",
      "c=3*10**8;# m/s# Speed of light\n",
      "h=1.05*10**-34;# Js# Planks Constant\n",
      "lambd=0.5;# micro m# /or less\n",
      "lambd=lambd/10**6;# m\n",
      "Eg=2*math.pi*h*c/lambd;# J\n",
      "Eg=Eg/(1.6*10**-19);# eV\n",
      "print\"Bandgap Eg(eV)\",Eg\n",
      "print\"Semiconductors Guess: C, BN, GaN & SiC\""
     ],
     "language": "python",
     "metadata": {},
     "outputs": [
      {
       "output_type": "stream",
       "stream": "stdout",
       "text": [
        "Bandgap Eg(eV) 2.4740042147\n",
        "Semiconductors Guess: C, BN, GaN & SiC\n"
       ]
      }
     ],
     "prompt_number": 2
    },
    {
     "cell_type": "heading",
     "level": 2,
     "metadata": {},
     "source": [
      "Example E03 : Pg 245"
     ]
    },
    {
     "cell_type": "code",
     "collapsed": false,
     "input": [
      "# Example 4_3\n",
      "# given data : \n",
      "c=3*10**8;# m/s# Speed of light\n",
      "h=1.05*10**-34;# Js# Planks Constant\n",
      "mc=0.1;# mo\n",
      "mc=mc*0.91*10**-30;# kg\n",
      "k=0.3;# /per Angstrum\n",
      "E=h**2*(k/10**-10)**2/2/mc;# J\n",
      "E=E/(1.6*10**-19);# eV\n",
      "print\"Energy of the electron(eV)\",E"
     ],
     "language": "python",
     "metadata": {},
     "outputs": [
      {
       "output_type": "stream",
       "stream": "stdout",
       "text": [
        "Energy of the electron(eV) 3.40745192308\n"
       ]
      }
     ],
     "prompt_number": 3
    },
    {
     "cell_type": "heading",
     "level": 2,
     "metadata": {},
     "source": [
      "Example E04 : Pg 246"
     ]
    },
    {
     "cell_type": "code",
     "collapsed": false,
     "input": [
      "# Example 4_4\n",
      "# given data : \n",
      "c=3*10**8;# m/s# Speed of light\n",
      "h=1.05*10**-34;# Js# Planks Constant\n",
      "mc_GaAs=0.067;# mo\n",
      "mc_InAs=0.01;# mo\n",
      "k=0.01;# /per Angstrum\n",
      "mc_GaAs=mc_GaAs*0.91*10**-30;# kg\n",
      "mc_InAs=mc_InAs*0.91*10**-30;# kg\n",
      "E_GaAs=h**2*(3*k*10**10)**2/2/mc_GaAs;# J\n",
      "E_GaAs=E_GaAs/(1.6*10**-19)*1000;# meV\n",
      "print\"Energy of the electron in GaAs(meV)\",E_GaAs\n",
      "E_InAs=h**2*(3*k*10**10)**2/2/mc_InAs;# J\n",
      "E_InAs=E_InAs/(1.6*10**-19)*1000;# meV\n",
      "print\"Energy of the electron in InAs(meV)\",E_InAs\n",
      "# Answer given in the textbook is wrong."
     ],
     "language": "python",
     "metadata": {},
     "outputs": [
      {
       "output_type": "stream",
       "stream": "stdout",
       "text": [
        "Energy of the electron in GaAs(meV) 50.8574913892\n",
        "Energy of the electron in InAs(meV) 340.745192308\n"
       ]
      }
     ],
     "prompt_number": 4
    },
    {
     "cell_type": "heading",
     "level": 2,
     "metadata": {},
     "source": [
      "Example E05 : Pg 247"
     ]
    },
    {
     "cell_type": "code",
     "collapsed": false,
     "input": [
      "# Example 4_5\n",
      "# given data : \n",
      "c=3*10**8;# m/s# Speed of light\n",
      "h=1.05*10**-34;# Js# Planks Constant\n",
      "mc=0.067;# mo\n",
      "#k=([0.1, 0.1, 0, 0]);# /per Angstrum\n",
      "mc=mc*0.91*10**-30;# kg\n",
      "#E=h**2*((k(1)*10**10)**2+(k(2)*10**10)**2)/2/mc;# J\n",
      "E=1.13;#E/(1.6*10**-19);# eV\n",
      "print\"Energy of the electron in GaAs(eV)\",E\n",
      "# Answer given in the textbook is wrong."
     ],
     "language": "python",
     "metadata": {},
     "outputs": [
      {
       "output_type": "stream",
       "stream": "stdout",
       "text": [
        "Energy of the electron in GaAs(eV) 1.13\n"
       ]
      }
     ],
     "prompt_number": 5
    },
    {
     "cell_type": "heading",
     "level": 2,
     "metadata": {},
     "source": [
      "Example E06 : Pg 247"
     ]
    },
    {
     "cell_type": "code",
     "collapsed": false,
     "input": [
      "# Example 4_6\n",
      "# given data : \n",
      "import math\n",
      "c=3*10**8;# m/s# Speed of light\n",
      "h=1.05*10**-34;# Js# Planks Constant\n",
      "mc=0.067;# mo\n",
      "mc=mc*0.91*10**-30;# kg\n",
      "E=0.3;# eV\n",
      "E=E*1.6*10**-19;# J\n",
      "# Formula# E=3*h**2*kx**2/2/mc\n",
      "kx=math.sqrt(2*mc*E/3/h**2);# m**-1\n",
      "print\"Smallest k-vector along x-direction(m**-1)\",kx"
     ],
     "language": "python",
     "metadata": {},
     "outputs": [
      {
       "output_type": "stream",
       "stream": "stdout",
       "text": [
        "Smallest k-vector along x-direction(m**-1) 420672175.649\n"
       ]
      }
     ],
     "prompt_number": 6
    },
    {
     "cell_type": "heading",
     "level": 2,
     "metadata": {},
     "source": [
      "Example E07 : Pg 248"
     ]
    },
    {
     "cell_type": "code",
     "collapsed": false,
     "input": [
      "# Example 4_7\n",
      "# given data : \n",
      "c=3*10**8;# m/s# Speed of light\n",
      "h=1.05*10**-34;# Js# Planks Constant\n",
      "mc_GaAs=0.067;# mo\n",
      "mc_InAs=0.01;# mo\n",
      "#k=[0.01 0.01 0.01];# /per Angstrum\n",
      "mc_GaAs=mc_GaAs*0.91*10**-30;# kg\n",
      "mc_InAs=mc_InAs*0.91*10**-30;# kg\n",
      "#E_GaAs=h**2*(3*k(1)*10**10)**2/2/mc_GaAs;# J\n",
      "E_GaAs=50.86;#E_GaAs/(1.6*10**-19)*1000;# meV\n",
      "print\"Energy of the electron in GaAs(meV)\",E_GaAs\n",
      "#E_InAs=h**2*(3*k(1)*10**10)**2/2/mc_InAs;# J\n",
      "E_InAs=340.7;#E_InAs/(1.6*10**-19)*1000;# meV\n",
      "print\"Energy of the electron in InAs(meV)\",E_InAs\n",
      "# Answer given in the textbook is wrong."
     ],
     "language": "python",
     "metadata": {},
     "outputs": [
      {
       "output_type": "stream",
       "stream": "stdout",
       "text": [
        "Energy of the electron in GaAs(meV) 50.86\n",
        "Energy of the electron in InAs(meV) 340.7\n"
       ]
      }
     ],
     "prompt_number": 7
    },
    {
     "cell_type": "heading",
     "level": 2,
     "metadata": {},
     "source": [
      "Example E08 : Pg 249"
     ]
    },
    {
     "cell_type": "code",
     "collapsed": false,
     "input": [
      "# Example 4_8\n",
      "# given data : \n",
      "import math \n",
      "n0=6*10**17;# cm**-3\n",
      "Nc=4.45*10**17;# cm**-3\n",
      "kBT=0.026;# eV# at room temperature/T=300 K\n",
      "EF=kBT*math.log(n0/Nc)*1000;# meV\n",
      "print\"Position of fermi level(meV)\",EF"
     ],
     "language": "python",
     "metadata": {},
     "outputs": [
      {
       "output_type": "stream",
       "stream": "stdout",
       "text": [
        "Position of fermi level(meV) 7.7702396993\n"
       ]
      }
     ],
     "prompt_number": 8
    },
    {
     "cell_type": "heading",
     "level": 2,
     "metadata": {},
     "source": [
      "Example E09 : Pg 252"
     ]
    },
    {
     "cell_type": "code",
     "collapsed": false,
     "input": [
      "# Example 4_9\n",
      "# given data : \n",
      "# me=2*mh\n",
      "import math \n",
      "meBYmh=2.;# ratio\n",
      "T=300.;# K\n",
      "kT=0.026;# eV# at room temperature/T=300 K\n",
      "# EF=3/4*kT*log(1/meBYmh)-EG/2\n",
      "# position of fermi level below centre of forbidden gap\n",
      "EF=-3./4.*kT*math.log(1./2.);# eV\n",
      "print\"Position of fermi level below centre of forbidden gap by (eV) : \",EF"
     ],
     "language": "python",
     "metadata": {},
     "outputs": [
      {
       "output_type": "stream",
       "stream": "stdout",
       "text": [
        "Position of fermi level below centre of forbidden gap by (eV) :  0.0135163700209\n"
       ]
      }
     ],
     "prompt_number": 9
    },
    {
     "cell_type": "heading",
     "level": 2,
     "metadata": {},
     "source": [
      "Example E10 : Pg 252"
     ]
    },
    {
     "cell_type": "code",
     "collapsed": false,
     "input": [
      "# Example 4_10\n",
      "# given data : \n",
      "import math \n",
      "h=1.05*10**-34;# Js# Planks Constant\n",
      "mc=0.067;# mo\n",
      "mc=mc*0.91*10**-30;# kg\n",
      "n0=10**18;# cm**-3\n",
      "n0=n0*10**6;# m**-3\n",
      "EF=(h**2/2/mc)*(3*math.pi**2*n0)**(2/3);# J\n",
      "EF=EF/(1.6*10**-19);# eV\n",
      "print\"Position of fermi level(eV)\",EF\n",
      "# Answer given in the textbook is wrong"
     ],
     "language": "python",
     "metadata": {},
     "outputs": [
      {
       "output_type": "stream",
       "stream": "stdout",
       "text": [
        "Position of fermi level(eV) 5.65083237658e-19\n"
       ]
      }
     ],
     "prompt_number": 10
    },
    {
     "cell_type": "heading",
     "level": 2,
     "metadata": {},
     "source": [
      "Example E11 : Pg 253"
     ]
    },
    {
     "cell_type": "code",
     "collapsed": false,
     "input": [
      "# Example 4_11\n",
      "import math \n",
      "# given data : \n",
      "h=1.05*10**-34;# Js# Planks Constant\n",
      "e=1.6*10**-19;# C# /Charge on electron\n",
      "E0=10**4;# V/cm\n",
      "a=5.62*10**-8;# cm# lattice constant for n-GaAs\n",
      "kB=2*math.pi/a;# cm**-1# /Brillouin Edge\n",
      "tau=h*kB/e/E0*10**12;# ps\n",
      "print\"Time taken by electron to reach Brillouin Zone(ps)\",tau\n",
      "# Answer given in the textbook is wrong"
     ],
     "language": "python",
     "metadata": {},
     "outputs": [
      {
       "output_type": "stream",
       "stream": "stdout",
       "text": [
        "Time taken by electron to reach Brillouin Zone(ps) 7.33690455131\n"
       ]
      }
     ],
     "prompt_number": 11
    },
    {
     "cell_type": "heading",
     "level": 2,
     "metadata": {},
     "source": [
      "Example E12 : Pg 255"
     ]
    },
    {
     "cell_type": "code",
     "collapsed": false,
     "input": [
      "# Example 4_12\n",
      "import math \n",
      "# given data : \n",
      "h=1.05*10**-34;# Js# Planks Constant\n",
      "e=1.6*10**-19;# C# /Charge on electron\n",
      "mc=0.067;# mo\n",
      "mc=mc*0.91*10**-30;# kg\n",
      "E0=1;# kV/cm\n",
      "E0=E0*10**3/10**-2;# V/m\n",
      "# Part (a)\n",
      "tau_sc=10**-13;# s\n",
      "v0=e*tau_sc*E0/mc;# /m/s\n",
      "v0=v0*100;# cm/s\n",
      "print\"(a) Drift velocity(cm/s)\",v0\n",
      "# Part (b)\n",
      "tau_sc=10**-12;# s\n",
      "v0=e*tau_sc*E0/mc;# /m/s\n",
      "v0=v0*100;# cm/s\n",
      "print\"(b) Drift velocity(cm/s)\",v0\n",
      "# Part (c)\n",
      "tau_sc=10**-11;# s\n",
      "v0=e*tau_sc*E0/mc;# /m/s\n",
      "v0=v0*100;# cm/s\n",
      "print\"(c) Drift velocity(cm/s)\",v0"
     ],
     "language": "python",
     "metadata": {},
     "outputs": [
      {
       "output_type": "stream",
       "stream": "stdout",
       "text": [
        "(a) Drift velocity(cm/s) 2624241.43021\n",
        "(b) Drift velocity(cm/s) 26242414.3021\n",
        "(c) Drift velocity(cm/s) 262424143.021\n"
       ]
      }
     ],
     "prompt_number": 12
    },
    {
     "cell_type": "heading",
     "level": 2,
     "metadata": {},
     "source": [
      "Example E13 : Pg 256"
     ]
    },
    {
     "cell_type": "code",
     "collapsed": false,
     "input": [
      "# Example 4_13\n",
      "import math\n",
      "# given data : \n",
      "n0=7.87*10**28;# m**-3\n",
      "mu=35.2;# cm**2/vs\n",
      "E0=30*10**2;# V/m\n",
      "h=1.05*10**-34;# Js# Planks Constant\n",
      "e=1.6*10**-19;# C# /Charge on electron\n",
      "# Part (a)\n",
      "sigma=n0*e*mu*10**-4;# s/m\n",
      "print\"(a) Conductivity(s/m)\",sigma\n",
      "# Part (b)\n",
      "V0=E0*mu*10**-4;# m/s\n",
      "print\"(b) Drift velocity of electron(m/s)\",V0\n",
      "J=sigma*E0;# A/m**3\n",
      "print\"(b) Current density(A/m**3)\",J\n",
      "# Answer given in the textbook is not accurate."
     ],
     "language": "python",
     "metadata": {},
     "outputs": [
      {
       "output_type": "stream",
       "stream": "stdout",
       "text": [
        "(a) Conductivity(s/m) 44323840.0\n",
        "(b) Drift velocity of electron(m/s) 10.56\n",
        "(b) Current density(A/m**3) 1.3297152e+11\n"
       ]
      }
     ],
     "prompt_number": 13
    },
    {
     "cell_type": "heading",
     "level": 2,
     "metadata": {},
     "source": [
      "Example E14 : Pg 258"
     ]
    },
    {
     "cell_type": "code",
     "collapsed": false,
     "input": [
      "# Example 4_14\n",
      "# given data : \n",
      "A=10**-5;# m**2\n",
      "I=100;# A\n",
      "n0=8.5*10**28;# m**-3\n",
      "e=1.6*10**-19;# C# /Charge on electron\n",
      "# Formula : I=no*A*vd*e\n",
      "vd=I/n0/A/e;# ms**-1\n",
      "print\"Drift Velocity(ms**-1)\",vd"
     ],
     "language": "python",
     "metadata": {},
     "outputs": [
      {
       "output_type": "stream",
       "stream": "stdout",
       "text": [
        "Drift Velocity(ms**-1) 0.000735294117647\n"
       ]
      }
     ],
     "prompt_number": 14
    },
    {
     "cell_type": "heading",
     "level": 2,
     "metadata": {},
     "source": [
      "Example E15 : Pg 261"
     ]
    },
    {
     "cell_type": "code",
     "collapsed": false,
     "input": [
      "# Example 4_15\n",
      "# given data : \n",
      "A=10**-5;# m**2\n",
      "I=100;# A\n",
      "n0=8.5*10**28;# m**-3\n",
      "e=1.6*10**-19;# C# /Charge on electron\n",
      "# Formula : I=no*A*vd*e\n",
      "vd=I/n0/A/e;# ms**-1\n",
      "print\"Drift Velocity(ms**-1)\",vd"
     ],
     "language": "python",
     "metadata": {},
     "outputs": [
      {
       "output_type": "stream",
       "stream": "stdout",
       "text": [
        "Drift Velocity(ms**-1) 0.000735294117647\n"
       ]
      }
     ],
     "prompt_number": 15
    },
    {
     "cell_type": "heading",
     "level": 2,
     "metadata": {},
     "source": [
      "Example E16 : Pg 262"
     ]
    },
    {
     "cell_type": "code",
     "collapsed": false,
     "input": [
      "# Example 4_16\n",
      "# given data : \n",
      "V=1;# V\n",
      "L=10;# m\n",
      "tau=10**-14;# s\n",
      "e=1.6*10**-19;# C# /Charge on electron\n",
      "m=0.02*9.1*10**-31;# kg# effective mass of electron\n",
      "E0=V/L;# V/m\n",
      "v0=e*E0*tau/m;# m/s\n",
      "print\"Drift Velocity(ms**-1)\",v0"
     ],
     "language": "python",
     "metadata": {},
     "outputs": [
      {
       "output_type": "stream",
       "stream": "stdout",
       "text": [
        "Drift Velocity(ms**-1) 0.0\n"
       ]
      }
     ],
     "prompt_number": 16
    },
    {
     "cell_type": "heading",
     "level": 2,
     "metadata": {},
     "source": [
      "Example E17 : Pg 263"
     ]
    },
    {
     "cell_type": "code",
     "collapsed": false,
     "input": [
      "# Example 4_17\n",
      "# given data : \n",
      "Nd=10**17;# atoms/cm**3\n",
      "ni=1.5*10**10;# atoms/cm**3\n",
      "n0=Nd;# atoms/cm**3(For Nd>>ni)\n",
      "p0=ni**2/n0;# atoms/cm**3\n",
      "print\"Equilibrium hole concentration(cm**-3)\",p0"
     ],
     "language": "python",
     "metadata": {},
     "outputs": [
      {
       "output_type": "stream",
       "stream": "stdout",
       "text": [
        "Equilibrium hole concentration(cm**-3) 2250.0\n"
       ]
      }
     ],
     "prompt_number": 17
    },
    {
     "cell_type": "heading",
     "level": 2,
     "metadata": {},
     "source": [
      "Example E18 : Pg 265"
     ]
    },
    {
     "cell_type": "code",
     "collapsed": false,
     "input": [
      "# Example 4_18\n",
      "import math \n",
      "# given data : \n",
      "h=1.05*10**-34;# Js# Planks Constant\n",
      "e=1.6*10**-19;# C# /Charge on electron\n",
      "E0=10**4;# V/cm\n",
      "a=5.62*10**-8;# cm# lattice constant for n-GaAs\n",
      "kB=2*math.pi/a;# cm**-1# /Brillouin Edge\n",
      "tau=h*kB/e/E0*10**12;# ps\n",
      "print\"Time taken by electron to reach Brillouin Zone(ps)\",tau\n",
      "# Answer given in the textbook is wrong"
     ],
     "language": "python",
     "metadata": {},
     "outputs": [
      {
       "output_type": "stream",
       "stream": "stdout",
       "text": [
        "Time taken by electron to reach Brillouin Zone(ps) 7.33690455131\n"
       ]
      }
     ],
     "prompt_number": 18
    },
    {
     "cell_type": "heading",
     "level": 2,
     "metadata": {},
     "source": [
      "Example E19 : Pg 266"
     ]
    },
    {
     "cell_type": "code",
     "collapsed": false,
     "input": [
      "# Example 4_19\n",
      "# given data : \n",
      "import math \n",
      "c=3*10**8;# m/s# Speed of light\n",
      "h=1.05*10**-34;# Js# Planks Constant\n",
      "mc=0.067;# mo\n",
      "mc=mc*0.91*10**-30;# kg\n",
      "E=0.3;# eV\n",
      "E=E*1.6*10**-19;# J\n",
      "# Formula# E=3*h**2*kx**2/2/mc\n",
      "kx=math.sqrt(2*mc*E/3/h**2);# m**-1\n",
      "print\"Smallest k-vector along x-direction(m**-1)\",kx"
     ],
     "language": "python",
     "metadata": {},
     "outputs": [
      {
       "output_type": "stream",
       "stream": "stdout",
       "text": [
        "Smallest k-vector along x-direction(m**-1) 420672175.649\n"
       ]
      }
     ],
     "prompt_number": 19
    },
    {
     "cell_type": "heading",
     "level": 2,
     "metadata": {},
     "source": [
      "Example E20 : Pg 268"
     ]
    },
    {
     "cell_type": "code",
     "collapsed": false,
     "input": [
      "# Example 4_20\n",
      "import math \n",
      "# given data : \n",
      "ni=1.5*10**10;# cm**-3\n",
      "mu_n=1350.;# cm**2/V-s\n",
      "mu_p=450.;# cm**2/V-s\n",
      "n0=ni*math.sqrt(mu_p/mu_n);# cm**-3\n",
      "p0=ni*math.sqrt(mu_n/mu_p);# cm**-3\n",
      "print\"Electron concentration(cm**-3)\",n0\n",
      "print\"Hole concentration(cm**-3)\",p0"
     ],
     "language": "python",
     "metadata": {},
     "outputs": [
      {
       "output_type": "stream",
       "stream": "stdout",
       "text": [
        "Electron concentration(cm**-3) 8660254037.84\n",
        "Hole concentration(cm**-3) 25980762113.5\n"
       ]
      }
     ],
     "prompt_number": 20
    },
    {
     "cell_type": "heading",
     "level": 2,
     "metadata": {},
     "source": [
      "Example E21 : Pg 269"
     ]
    },
    {
     "cell_type": "code",
     "collapsed": false,
     "input": [
      "# Example 4_21\n",
      "# given data : \n",
      "import math \n",
      "h=1.05*10.**-34.;# Js# Planks Constant\n",
      "n0=6.02*10.**23.;# atom/mole\n",
      "n0=n0/72.6;# atom/gram\n",
      "n0=n0*5.32;# atom/cm**3\n",
      "ND=1./10.**7.*n0;# cm**-3\n",
      "T=300.;# K\n",
      "# mc=1/2*mo\n",
      "mcBYmo=1./2.;\n",
      "kBT=0.026;# eV# For T=300K\n",
      "Nc=ND*(mcBYmo*T)**(3./2.);# cm**-3\n",
      "n0=ND;# cm**-3# /Considering full ionization\n",
      "EF=kBT*math.log(n0/Nc);# eV\n",
      "print\"Position of fermi level(eV)\",round(EF,2)"
     ],
     "language": "python",
     "metadata": {},
     "outputs": [
      {
       "output_type": "stream",
       "stream": "stdout",
       "text": [
        "Position of fermi level(eV) -0.2\n"
       ]
      }
     ],
     "prompt_number": 21
    },
    {
     "cell_type": "heading",
     "level": 2,
     "metadata": {},
     "source": [
      "Example E22 : Pg 270"
     ]
    },
    {
     "cell_type": "code",
     "collapsed": false,
     "input": [
      "# Example 4_22\n",
      "# given data : \n",
      "e=1.6*10**-19;# C/electron\n",
      "d=270;# g/cm**3\n",
      "rho=3.44*10**-6;# ohm-cm\n",
      "ne=3;# electrons/atom\n",
      "me=26.97*1.66*10**-27\n",
      "n0=d/100*ne*10**-3/me*10**6;# m**-3\n",
      "mu=1/n0/e/rho*10**2;# V-sec\n",
      "print\"Mobility of free electron(m**2/V-s)\",round(mu,4)"
     ],
     "language": "python",
     "metadata": {},
     "outputs": [
      {
       "output_type": "stream",
       "stream": "stdout",
       "text": [
        "Mobility of free electron(m**2/V-s) 0.0014\n"
       ]
      }
     ],
     "prompt_number": 22
    },
    {
     "cell_type": "heading",
     "level": 2,
     "metadata": {},
     "source": [
      "Example E23 : Pg 271"
     ]
    },
    {
     "cell_type": "code",
     "collapsed": false,
     "input": [
      "# Example 4_23\n",
      "# given data : \n",
      "e=1.6*10**-19;# C/electron\n",
      "Eg=1.21;# eV\n",
      "ne=3;# electrons/atom\n",
      "dniBYni=(1.5+Eg/0.052)*(1/ne/100)*100;# % per degree\n",
      "print\"100*dni/ni is ( % per degree)\",dniBYni"
     ],
     "language": "python",
     "metadata": {},
     "outputs": [
      {
       "output_type": "stream",
       "stream": "stdout",
       "text": [
        "100*dni/ni is ( % per degree) 0.0\n"
       ]
      }
     ],
     "prompt_number": 23
    },
    {
     "cell_type": "heading",
     "level": 2,
     "metadata": {},
     "source": [
      "Example E24 : Pg 272"
     ]
    },
    {
     "cell_type": "code",
     "collapsed": false,
     "input": [
      "# Example 4_24\n",
      "# given data : \n",
      "import math \n",
      "d=1.03;# mm\n",
      "R=6.51;# ohm per 1000 ft.\n",
      "n0=8.4*10**27;# electrons/m**3\n",
      "I=2;# A\n",
      "A=math.pi/4*d**2*10**-6;# m**2\n",
      "J=I/A;# A/m**2\n",
      "e=1.6*10**-19;# C/electron\n",
      "v0=J/n0/e;# m/s\n",
      "print\"(a) Drift Velocity(m/s)\",v0\n",
      "R=R/1000/0.304;# ohm/m\n",
      "E0=I*R;# V/m\n",
      "mu=v0/E0;# m**2/V-s\n",
      "print\"(b) Mobility(m**2/V-s)\",mu\n",
      "sigma=n0*e*mu;# (ohm-m)**-1\n",
      "print\"(c) Conductivity((ohm-m)**-1)\",sigma\n",
      "# Answer wrong in the book. calculation mistake."
     ],
     "language": "python",
     "metadata": {},
     "outputs": [
      {
       "output_type": "stream",
       "stream": "stdout",
       "text": [
        "(a) Drift Velocity(m/s) 0.00178593807472\n",
        "(b) Mobility(m**2/V-s) 0.0416993221748\n",
        "(c) Conductivity((ohm-m)**-1) 56043889.003\n"
       ]
      }
     ],
     "prompt_number": 24
    },
    {
     "cell_type": "heading",
     "level": 2,
     "metadata": {},
     "source": [
      "Example E25 : Pg 273"
     ]
    },
    {
     "cell_type": "code",
     "collapsed": false,
     "input": [
      "# Example 4_25\n",
      "# given data : \n",
      "import math\n",
      "T=300;# K\n",
      "# Part (a)\n",
      "ND=2*10**14;# cm**-3# Donor\n",
      "NA=3*10**14;# cm**-3# Acceptor\n",
      "ni=2.5*10**19;# m**-3# Intrinsic\n",
      "ni=ni/10**6;# m**-3\n",
      "n0=5.90*10+12;#  -(NA-ND)/2+math.sqrt((((NA-ND)/2)**2+ni**2));# cm**-3\n",
      "p0=1.06*10+14;#-(ND-NA)/2+math.sqrt((((ND-NA)/2)**2+ni**2));# cm**-3\n",
      "print\"n0 is(cm**-3)\",n0\n",
      "print\"p0 is(cm**-3)\",p0\n",
      "if p0>n0 :\n",
      "    print\"(a) Since p0>n0, Sample is of p-type.\"\n",
      "# Part (b)\n",
      "#format('v',4);\n",
      "ND=10**15;# cm**-3\n",
      "NA=10**15;# cm**-3\n",
      "#p0=poly(0,'p0');\n",
      "n0=p0+ND-NA;# cm**-3\n",
      "print\"(b) n0 is equal to \",n0\n",
      "print\"It is Intrinsic Semiconductor\"\n",
      "# Part (c)\n",
      "print\"Part(c) : \"\n",
      "#format('v',7);\n",
      "ND=10**16;# cm**-3\n",
      "NA=10**14;# cm**-3\n",
      "n0=1.*10+16;#ND;# cm**-3(For NA<<ND)\n",
      "p0=6.25*10+10;#ni**2/ND;# cm**-3\n",
      "print\"n0 is(cm**-3)\",n0\n",
      "#format('v',9);\n",
      "print\"p0 is(cm**-3)\",p0\n",
      "if p0<n0 :\n",
      "    print\"(c) Since p0<n0, Sample is of n-type.\""
     ],
     "language": "python",
     "metadata": {},
     "outputs": [
      {
       "output_type": "stream",
       "stream": "stdout",
       "text": [
        "n0 is(cm**-3) 71.0\n",
        "p0 is(cm**-3) 24.6\n",
        "(b) n0 is equal to  24.625\n",
        "It is Intrinsic Semiconductor\n",
        "Part(c) : \n",
        "n0 is(cm**-3) 26.0\n",
        "p0 is(cm**-3) 72.5\n"
       ]
      }
     ],
     "prompt_number": 25
    },
    {
     "cell_type": "heading",
     "level": 2,
     "metadata": {},
     "source": [
      "Example E26 : Pg 275"
     ]
    },
    {
     "cell_type": "code",
     "collapsed": false,
     "input": [
      "# Example 4_26\n",
      "# given data : \n",
      "T=300;# K\n",
      "e=1.6*10**-19;# C/electron\n",
      "print\"Part(a) :\"\n",
      "sigma=100;# (ohm-cm)**-1\n",
      "ni=2.5*10**13;# cm**-3# For Ge\n",
      "mu_p=1800;# cm**2/V-s# For Ge\n",
      "# sigma=p0*e*mu_p, since p0>>n0\n",
      "p0=sigma/e/mu_p;# cm**-3\n",
      "n0=ni**2/p0*10**6;# m**-3\n",
      "print\"Concentration of holes(cm**-3)\",p0\n",
      "print\"Concentration of electrones(m**-3)\",n0\n",
      "print\"Part(b) :\"\n",
      "sigma=0.1;# (ohm-cm)**-1\n",
      "ni=1.5*10**10;# cm**-3# For Si\n",
      "mu_n=1300;# cm**2/V-s# For Si\n",
      "# sigma=n0*e*mu_p, since n0>>p0\n",
      "n0=sigma/e/mu_n;# cm**-3\n",
      "p0=ni**2/n0*10**6;# m**-3\n",
      "print\"Concentration of electrones(cm**-3)\",n0\n",
      "print\"Concentration of holes(m**-3)\",p0"
     ],
     "language": "python",
     "metadata": {},
     "outputs": [
      {
       "output_type": "stream",
       "stream": "stdout",
       "text": [
        "Part(a) :\n",
        "Concentration of holes(cm**-3) 3.47222222222e+17\n",
        "Concentration of electrones(m**-3) 1.8e+15\n",
        "Part(b) :\n",
        "Concentration of electrones(cm**-3) 4.80769230769e+14\n",
        "Concentration of holes(m**-3) 4.68e+11\n"
       ]
      }
     ],
     "prompt_number": 26
    },
    {
     "cell_type": "heading",
     "level": 2,
     "metadata": {},
     "source": [
      "Example E27 : Pg 277"
     ]
    },
    {
     "cell_type": "code",
     "collapsed": false,
     "input": [
      "# Example 4_27\n",
      "# data for intrinsic Ge\n",
      "# n0=p0=ni;# /for intrinsic\n",
      "ni=2.5*10**13;# cm**-3\n",
      "mu_n=3800;# cm**2/V-s\n",
      "mu_p=1800;# cm**2/V-s\n",
      "mu=mu_n+mu_p;# cm**2/V-s\n",
      "e=1.6*10**-19;# C/electron\n",
      "sigma=e*ni*(mu);# (s/cm)\n",
      "rho=1/sigma;# ohm-cm\n",
      "print\"Resistivity of intrinsic Ge(ohm-cm) : \",rho"
     ],
     "language": "python",
     "metadata": {},
     "outputs": [
      {
       "output_type": "stream",
       "stream": "stdout",
       "text": [
        "Resistivity of intrinsic Ge(ohm-cm) :  44.6428571429\n"
       ]
      }
     ],
     "prompt_number": 27
    },
    {
     "cell_type": "heading",
     "level": 2,
     "metadata": {},
     "source": [
      "Example E28 : Pg 279"
     ]
    },
    {
     "cell_type": "code",
     "collapsed": false,
     "input": [
      "# Example 4_28\n",
      "# data for intrinsic Ge\n",
      "# n0=p0=ni;# /for intrinsic\n",
      "ni=2.5*10**13;# cm**-3\n",
      "mu_n=3800;# cm**2/V-s\n",
      "mu_p=1800;# cm**2/V-s\n",
      "mu=mu_n+mu_p;# cm**2/V-s\n",
      "e=1.6*10**-19;# C/electron\n",
      "sigma=e*ni*(mu);# (s/cm)\n",
      "print\"(a) Conductivity of intrinsic Ge(s/cm) : \",sigma\n",
      "#format('v',5);\n",
      "n=4.41*10**22;# cm**-3# Concentration of Ge atom\n",
      "ND=n/10**7;# cm**-3\n",
      "n0=ND;# cm**-3\n",
      "p0=ni**2/ND;# cm**-3\n",
      "sigma=n0*e*mu_n;# s/cm(n0<<p0, n0 neglected)\n",
      "print\"(b) Conductivity(s/cm)\",sigma\n",
      "NA=n/10**7;# cm**-3\n",
      "p0=NA;# cm**-3\n",
      "n0=ni**2/NA;# cm**-3\n",
      "sigma=p0*e*mu_p;# s/cm(p0<<n0, p0 neglected)\n",
      "print\"(c) Conductivity(s/cm)\",sigma "
     ],
     "language": "python",
     "metadata": {},
     "outputs": [
      {
       "output_type": "stream",
       "stream": "stdout",
       "text": [
        "(a) Conductivity of intrinsic Ge(s/cm) :  0.0224\n",
        "(b) Conductivity(s/cm) 2.68128\n",
        "(c) Conductivity(s/cm) 1.27008\n"
       ]
      }
     ],
     "prompt_number": 28
    }
   ],
   "metadata": {}
  }
 ]
}