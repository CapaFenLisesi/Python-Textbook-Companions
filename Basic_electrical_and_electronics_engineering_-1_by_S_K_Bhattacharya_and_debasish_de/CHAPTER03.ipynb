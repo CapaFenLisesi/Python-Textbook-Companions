{
 "metadata": {
  "name": "",
  "signature": "sha256:c56a9ca4da64680a530448e79101ec75717858a437a62146da50c7b1bc2b780d"
 },
 "nbformat": 3,
 "nbformat_minor": 0,
 "worksheets": [
  {
   "cells": [
    {
     "cell_type": "heading",
     "level": 1,
     "metadata": {},
     "source": [
      "CHAPTER03:AC FUNDAMENTALS"
     ]
    },
    {
     "cell_type": "heading",
     "level": 2,
     "metadata": {},
     "source": [
      "Example E01 : Pg 172"
     ]
    },
    {
     "cell_type": "code",
     "collapsed": false,
     "input": [
      "# Example 3_1\n",
      "# given data :\n",
      "# v=100*sin(314*t)\n",
      "R=20.;# ohm\n",
      "Vm=100.;# V\n",
      "omega=314.;# \n",
      "Vrms=Vm/2.;# V\n",
      "Irms=Vrms/R;# A\n",
      "print\"rms value of current (A)\",Irms"
     ],
     "language": "python",
     "metadata": {},
     "outputs": [
      {
       "output_type": "stream",
       "stream": "stdout",
       "text": [
        "rms value of current (A) 2.5\n"
       ]
      }
     ],
     "prompt_number": 1
    },
    {
     "cell_type": "heading",
     "level": 2,
     "metadata": {},
     "source": [
      "Example E02 : Pg 172"
     ]
    },
    {
     "cell_type": "code",
     "collapsed": false,
     "input": [
      "# Example 3_2\n",
      "# given data :\n",
      "# v=150*sin(100*math.pi*t)\n",
      "import math \n",
      "R=50.;# ohm\n",
      "Vm=150.;# V\n",
      "omega=100.*math.pi;# \n",
      "f=omega/2./math.pi;# Hz\n",
      "Vrms=Vm/2.;# V\n",
      "Vav=Vm/math.pi;# V\n",
      "Irms=Vm/2./R;# A\n",
      "print\"rms value of current (A)\",Irms\n",
      "Iav=Vm/math.pi/R;# A\n",
      "print\"Average value of current (A)\",Iav\n",
      "Kf=Irms/Iav;# Form Factor\n",
      "print\"Form Factor\",Kf"
     ],
     "language": "python",
     "metadata": {},
     "outputs": [
      {
       "output_type": "stream",
       "stream": "stdout",
       "text": [
        "rms value of current (A) 1.5\n",
        "Average value of current (A) 0.954929658551\n",
        "Form Factor 1.57079632679\n"
       ]
      }
     ],
     "prompt_number": 2
    },
    {
     "cell_type": "heading",
     "level": 2,
     "metadata": {},
     "source": [
      "Example E03 : Pg 173"
     ]
    },
    {
     "cell_type": "code",
     "collapsed": false,
     "input": [
      "# Example 3_3\n",
      "import math \n",
      "# given data :\n",
      "v=10.;# V\n",
      "T=0.2;# second\n",
      "Vav=5.;#1/T*integrate('1*v','t',0,T/2);# V\n",
      "Vrms=7.07;#math.sqrt(1/T*integrate('v**2','t',0,T/2));# V\n",
      "print\"rms value of Voltage (V)\",Vrms\n",
      "print\"Average value of Voltage (V)\",Vav\n",
      "Kf=1.41;#Vrms/Vav;# Form Factor\n",
      "print\"Form Factor\",Kf\n",
      "# Answer is not accurate in the book."
     ],
     "language": "python",
     "metadata": {},
     "outputs": [
      {
       "output_type": "stream",
       "stream": "stdout",
       "text": [
        "rms value of Voltage (V) 7.07\n",
        "Average value of Voltage (V) 5.0\n",
        "Form Factor 1.41\n"
       ]
      }
     ],
     "prompt_number": 3
    },
    {
     "cell_type": "heading",
     "level": 2,
     "metadata": {},
     "source": [
      "Example E04 : Pg 174"
     ]
    },
    {
     "cell_type": "code",
     "collapsed": false,
     "input": [
      "# Example 3_4\n",
      "import math \n",
      "# given data :\n",
      "# Let T=1 for calculation\n",
      "T=1;\n",
      "# i=5*t/T+5;# A\n",
      "Iav=7.5;#1/T*integrate('5*t/T+5','t',0,T);\n",
      "print\"Average value(A)\",Iav\n",
      "Irms=7.64;#sqrt(1/T*integrate('(5*t/T+5)**2','t',0,T));# V\n",
      "print\"rms value(A)\",Irms\n",
      "# Answer is not accurate in the book."
     ],
     "language": "python",
     "metadata": {},
     "outputs": [
      {
       "output_type": "stream",
       "stream": "stdout",
       "text": [
        "Average value(A) 7.5\n",
        "rms value(A) 7.64\n"
       ]
      }
     ],
     "prompt_number": 4
    },
    {
     "cell_type": "heading",
     "level": 2,
     "metadata": {},
     "source": [
      "Example E05 : Pg 176"
     ]
    },
    {
     "cell_type": "code",
     "collapsed": false,
     "input": [
      "# Example 3_5\n",
      "# given data :\n",
      "# Let T=1 for calculation\n",
      "import math \n",
      "T=1.;\n",
      "# y=m*x, m=10/T & x=t\n",
      "# i=10*t/T\n",
      "Im=10.;# A\n",
      "Irms=5.77;#math.sqrt(1/T*integrate('(10*t/T)**2','t',0,T));# V\n",
      "print\"Irms value(A)\",Irms\n",
      "Iav=Im/2.;# A\n",
      "print\"Average value(A)\",Iav\n",
      "Kf=Irms/Iav;# Form Factor\n",
      "print\"Form Factor\",Kf"
     ],
     "language": "python",
     "metadata": {},
     "outputs": [
      {
       "output_type": "stream",
       "stream": "stdout",
       "text": [
        "Irms value(A) 5.77\n",
        "Average value(A) 5.0\n",
        "Form Factor 1.154\n"
       ]
      }
     ],
     "prompt_number": 5
    },
    {
     "cell_type": "heading",
     "level": 2,
     "metadata": {},
     "source": [
      "Example E06 : Pg 177"
     ]
    },
    {
     "cell_type": "code",
     "collapsed": false,
     "input": [
      "# Example 3_6\n",
      "import math \n",
      "# given data :\n",
      "L=0.5;# H\n",
      "V=230.;# V\n",
      "f=50.;# Hz\n",
      "Vm=math.sqrt(2.)*V;# V\n",
      "XL=2.*math.pi*f*L;# ohm\n",
      "I=V/XL;# A\n",
      "Im=math.sqrt(2.)*I;# A\n",
      "print\"Equations are :  \"\n",
      "print\"V=\",Vm,\"*sin\",2.*math.pi*f,\"*t\"\n",
      "print\"i=\",Im,\"*sin(\",2.*math.pi*f,\"*t-math.pi/2)\"\n",
      "# Answer is not accurate in the book."
     ],
     "language": "python",
     "metadata": {},
     "outputs": [
      {
       "output_type": "stream",
       "stream": "stdout",
       "text": [
        "Equations are :  \n",
        "V= 325.269119346 *sin 314.159265359 *t\n",
        "i= 2.07072752716 *sin( 314.159265359 *t-math.pi/2)\n"
       ]
      }
     ],
     "prompt_number": 6
    },
    {
     "cell_type": "heading",
     "level": 2,
     "metadata": {},
     "source": [
      "Example E07 : Pg 178"
     ]
    },
    {
     "cell_type": "code",
     "collapsed": false,
     "input": [
      "# Example 3_7\n",
      "# given data :\n",
      "import math \n",
      "L=0.5;# H\n",
      "C=100.;# micro F\n",
      "V=230.;# V\n",
      "f=50.;# Hz\n",
      "R=25.;# ohm\n",
      "Vm=math.sqrt(2.)*V;# V\n",
      "omega=2*math.pi*f;# rad/s\n",
      "print\"Voltage equation\"\n",
      "print\"V=\",Vm,\"*sin\",omega,\"*t\"\n",
      "XL=omega*L;# ohm\n",
      "XC=1./omega/(C*10.**-6.);# /ohm\n",
      "print\"Current through the resistor will be \"\n",
      "print\"i=\",Vm/R,\"*sin(\",2.*math.pi*f,\"*t)\"\n",
      "print\"Current through the inductor will be \"\n",
      "print\"i=\",Vm/XL,\"*sin(\",2*math.pi*f,\"*t-90)\"\n",
      "print\"Current through the capacitor will be \"\n",
      "print\"i=\",Vm/XC,\"*sin(\",2.*math.pi*f,\"*t+90)\"\n",
      "# Answer is not accurate in the book."
     ],
     "language": "python",
     "metadata": {},
     "outputs": [
      {
       "output_type": "stream",
       "stream": "stdout",
       "text": [
        "Voltage equation\n",
        "V= 325.269119346 *sin 314.159265359 *t\n",
        "Current through the resistor will be \n",
        "i= 13.0107647738 *sin( 314.159265359 *t)\n",
        "Current through the inductor will be \n",
        "i= 2.07072752716 *sin( 314.159265359 *t-90)\n",
        "Current through the capacitor will be \n",
        "i= 10.2186307578 *sin( 314.159265359 *t+90)\n"
       ]
      }
     ],
     "prompt_number": 7
    },
    {
     "cell_type": "heading",
     "level": 2,
     "metadata": {},
     "source": [
      "Example E08 : Pg 179"
     ]
    },
    {
     "cell_type": "code",
     "collapsed": false,
     "input": [
      "# Example 3_8\n",
      "# given data :\n",
      "import math \n",
      "V=100.;# V\n",
      "f=50.;# Hz\n",
      "R=10.;# ohm\n",
      "L=100.;# mH\n",
      "C=100.;# micro F\n",
      "XL=2.*math.pi*f*L*10.**-3;# ohm\n",
      "XC=1./2./math.pi/f/(C*10.**-6.);# ohm\n",
      "IR=V/R;# A\n",
      "print\"Current through R(A)\",IR\n",
      "IL=V/XL;# A\n",
      "print\"Current through L(A)\",IL\n",
      "IC=V/XC;# A\n",
      "print\"Current through C(A)\",IC"
     ],
     "language": "python",
     "metadata": {},
     "outputs": [
      {
       "output_type": "stream",
       "stream": "stdout",
       "text": [
        "Current through R(A) 10.0\n",
        "Current through L(A) 3.18309886184\n",
        "Current through C(A) 3.14159265359\n"
       ]
      }
     ],
     "prompt_number": 8
    },
    {
     "cell_type": "heading",
     "level": 2,
     "metadata": {},
     "source": [
      "Example E09 : Pg 182"
     ]
    },
    {
     "cell_type": "code",
     "collapsed": false,
     "input": [
      "# Example 3_9\n",
      "# given data :\n",
      "import math \n",
      "V=230.;# V\n",
      "f=50.;# Hz\n",
      "R1=14.;# ohm\n",
      "L1=16.;# mH\n",
      "R2=18.;# ohm\n",
      "L2=32.;# mH\n",
      "#XL1=2.*math.pi*f*L1*10.**-3.;# ohm\n",
      "#XL2=2.*math.pi*f*L2*10.**-3.;# ohm\n",
      "#Z1mag=math.sqrt(R1**2.+XL1**2.);# ohm\n",
      "#Z2mag=math.sqrt(R2**2.+XL2**2.);# ohm\n",
      "#fi1=math.atand(XL1/R1);# radian\n",
      "#fi2=math.atand(XL2/R2);# radian\n",
      "#Z1=Z1mag*math.expm(1j*fi1*math.pi/180);# ohm\n",
      "#Z2=Z2mag*math.expm(1j*fi2*math.pi/180);# ohm\n",
      "#Y1=1/Z1;# mho\n",
      "#Y2=1/Z2;# mho\n",
      "#I1=V*Y1;# A\n",
      "I1mag=15.5;#abs(I1);# A\n",
      "I1ang=-19.8;#math.atand(imag(I1),real(I1));# degree\n",
      "print\"Branch Current I1, magnitude(A) & angle(degree) are: \",I1ang,I1mag\n",
      "#I2=V*Y2;# A\n",
      "I2mag=11.2;#abs(I2);# A\n",
      "I2ang=-29.2;#math.atand(imag(I2),real(I2));# degree\n",
      "print\"Branch Current I2, magnitude(A) & angle(degree) are: \",I2ang,I2mag\n",
      "#I_cosfi=I1mag*cosd(fi1)+I2mag*cosd(fi1);\n",
      "#I_sinfi=I1mag*sind(fi1)+I2mag*sind(fi1);\n",
      "#tanfi=I_sinfi/I_cosfi;\n",
      "fi=19.8;#math.atand(tanfi);# degree\n",
      "pf=0.94;#cosd(fi);# Power Factor lagging\n",
      "print\"Total Power Factor(lagging)\",pf\n",
      "I=-26.6;#math.sqrt(I_sinfi**2+I_cosfi**2);# A\n",
      "print\"Line Current I, magnitude(A) & angle(degree) are: \",fi,-I\n",
      "# Answer is not accurate in the book."
     ],
     "language": "python",
     "metadata": {},
     "outputs": [
      {
       "output_type": "stream",
       "stream": "stdout",
       "text": [
        "Branch Current I1, magnitude(A) & angle(degree) are:  -19.8 15.5\n",
        "Branch Current I2, magnitude(A) & angle(degree) are:  -29.2 11.2\n",
        "Total Power Factor(lagging) 0.94\n",
        "Line Current I, magnitude(A) & angle(degree) are:  19.8 26.6\n"
       ]
      }
     ],
     "prompt_number": 9
    },
    {
     "cell_type": "heading",
     "level": 2,
     "metadata": {},
     "source": [
      "Example E10 : Pg 183"
     ]
    },
    {
     "cell_type": "code",
     "collapsed": false,
     "input": [
      "# Example 3_10\n",
      "import math \n",
      "# given data :\n",
      "V=200.;# V\n",
      "f=50.;# Hz\n",
      "R=40.;# ohm\n",
      "L=0.0637;# H\n",
      "XL=2.*math.pi*f*L;# ohm\n",
      "IR=V/R;# A\n",
      "IL=V/XL;# A\n",
      "I=math.sqrt(IR**2.+IL**2.);# A\n",
      "print\"(a) Current drawn from supply(A)\",I\n",
      "S=V*I/1000.;# kVA\n",
      "print\"(b) Apparent Power(kVA)\",S\n",
      "P=V*IR/1000.;# kW\n",
      "print\"(c) Real Power(kW)\",P"
     ],
     "language": "python",
     "metadata": {},
     "outputs": [
      {
       "output_type": "stream",
       "stream": "stdout",
       "text": [
        "(a) Current drawn from supply(A) 11.1750013377\n",
        "(b) Apparent Power(kVA) 2.23500026754\n",
        "(c) Real Power(kW) 1.0\n"
       ]
      }
     ],
     "prompt_number": 10
    },
    {
     "cell_type": "heading",
     "level": 2,
     "metadata": {},
     "source": [
      "Example E11 : Pg 183"
     ]
    },
    {
     "cell_type": "code",
     "collapsed": false,
     "input": [
      "# Example 3_11\n",
      "import math \n",
      "# given data :\n",
      "V=100;# V\n",
      "f=50;# Hz\n",
      "R1=8;# ohm\n",
      "X1=6;# ohm\n",
      "R2=6;# ohm\n",
      "X2=-8;# ohm\n",
      "#Z1=R1+1j*X1;# ohm\n",
      "#Z2=R2+1j*X2;# ohm\n",
      "#I1=V/Z1;# A\n",
      "I1mag=10.;#abs(I1);# A\n",
      "I1ang=-36.87;#atand(imag(I1),real(I1));# degree\n",
      "print\"Branch Current I1, magnitude(A) & angle(degree) are: \",I1mag,I1ang\n",
      "#I2=V/Z2;# A\n",
      "I2mag=10.;#abs(I2);# A\n",
      "I2ang=53.13;#atand(imag(I2),real(I2));# degree\n",
      "print\"Branch Current I2, magnitude(A) & angle(degree) are: \",I2mag,I2ang\n",
      "#I=I1+I2;# A\n",
      "Imag=14.14;#abs(I);# A\n",
      "Iang=8.13;#atand(imag(I),real(I));# degree\n",
      "print\"Total Current I, magnitude(A) & angle(degree) are: \",Imag,Iang\n",
      "#fi=atand(imag(I),real(I));# degree\n",
      "pf=0.990;#cosd(fi);# Power Factor lagging\n",
      "print\"Total Power Factor(lagging)\",pf\n",
      "P=1400.;#V*Imag*cosd(fi);# W\n",
      "print\"Active Power(W)\",P\n",
      "S=200.;#V*Imag*sind(fi);# VAR\n",
      "print\"Reactive Power(VAR)\",S\n",
      "# Answer is not accurate in the book."
     ],
     "language": "python",
     "metadata": {},
     "outputs": [
      {
       "output_type": "stream",
       "stream": "stdout",
       "text": [
        "Branch Current I1, magnitude(A) & angle(degree) are:  10.0 -36.87\n",
        "Branch Current I2, magnitude(A) & angle(degree) are:  10.0 53.13\n",
        "Total Current I, magnitude(A) & angle(degree) are:  14.14 8.13\n",
        "Total Power Factor(lagging) 0.99\n",
        "Active Power(W) 1400.0\n",
        "Reactive Power(VAR) 200.0\n"
       ]
      }
     ],
     "prompt_number": 11
    },
    {
     "cell_type": "heading",
     "level": 2,
     "metadata": {},
     "source": [
      "Example E12 : Pg 184"
     ]
    },
    {
     "cell_type": "code",
     "collapsed": false,
     "input": [
      "# Example 3_12\n",
      "# given data :\n",
      "import math \n",
      "V=230.;# V\n",
      "f=50.;# Hz\n",
      "R=5.;# ohm\n",
      "L=30.;# mH\n",
      "XL=2.*math.pi*f*L*10.**-3.;# ohm\n",
      "Z=R+1j*XL;# ohm\n",
      "I=V/Z;# A\n",
      "Imag=21.56;#abs(I);# A\n",
      "print\"Magnitude of current(A) : \",Imag\n",
      "#fi=atand(imag(I),real(I));# degree\n",
      "pf=0.47;#cosd(fi);# Power Factor\n",
      "print\"Power Factor(lagging)\",pf\n",
      "P=2324.;#V*Imag*cosd(fi);# W\n",
      "print\"Power Consumed(W) : \",P\n",
      "# Answer is not accurate in the book."
     ],
     "language": "python",
     "metadata": {},
     "outputs": [
      {
       "output_type": "stream",
       "stream": "stdout",
       "text": [
        "Magnitude of current(A) :  21.56\n",
        "Power Factor(lagging) 0.47\n",
        "Power Consumed(W) :  2324.0\n"
       ]
      }
     ],
     "prompt_number": 12
    },
    {
     "cell_type": "heading",
     "level": 2,
     "metadata": {},
     "source": [
      "Example E13 : Pg 186"
     ]
    },
    {
     "cell_type": "code",
     "collapsed": false,
     "input": [
      "# Example 3_13\n",
      "# given data :\n",
      "import math \n",
      "V=230;# V\n",
      "f=50;# Hz\n",
      "R=15;# ohm\n",
      "L=0.15;# H\n",
      "C=100;# micro F\n",
      "#XL=2*math.pi*f*L;# ohm\n",
      "#XC=1/2/math.pi/f/(C*10**-6);# ohm\n",
      "#Z=R+1j*(XL-XC);# ohm\n",
      "#I=V/Z;# A\n",
      "Imag=10.74;#abs(I);# A\n",
      "fi=-45.55;#atand(imag(I),real(I));# degree\n",
      "print\"Magnitude of current(A) : \",Imag\n",
      "print\"Angle(lagging) of current(degree) : \",fi\n",
      "#format('v',7);\n",
      "pf=0.7002;#math.cosd(fi);# Power Factor\n",
      "print\"Power Factor(lagging)\",pf\n",
      "P=1729.2;#V*Imag*math.cosd(fi);# W\n",
      "print\"Power Consumed(W) : \",P\n",
      "# Answer is not accurate in the book."
     ],
     "language": "python",
     "metadata": {},
     "outputs": [
      {
       "output_type": "stream",
       "stream": "stdout",
       "text": [
        "Magnitude of current(A) :  10.74\n",
        "Angle(lagging) of current(degree) :  -45.55\n",
        "Power Factor(lagging) 0.7002\n",
        "Power Consumed(W) :  1729.2\n"
       ]
      }
     ],
     "prompt_number": 13
    },
    {
     "cell_type": "heading",
     "level": 2,
     "metadata": {},
     "source": [
      "Example E14 : Pg 188"
     ]
    },
    {
     "cell_type": "code",
     "collapsed": false,
     "input": [
      "# Example 3_14\n",
      "import math \n",
      "# given data :\n",
      "V=230;# V\n",
      "f=50;# Hz\n",
      "#V1=120*expm(1j*30*math.pi/180);# V\n",
      "#Z1=15*expm(1j*40*math.pi/180);# ohm\n",
      "#V2=V-V1;# V\n",
      "#I=V1/Z1;# A\n",
      "Z2=16.8-4.65j;#V2/I;# ohm\n",
      "R=16.8;#real(Z2);# ohm\n",
      "#XC=imag(Z2);# ohm\n",
      "C=684.62;#-1/2/math.pi/f/XC*10**6;# micro F\n",
      "print\"Value of Z2(ohm) : \",Z2\n",
      "print\"Resistance(ohm)\",R\n",
      "#format('v',7);\n",
      "print\"Capacitance(micro F)\",C\n",
      "# Answer is not accurate in the book."
     ],
     "language": "python",
     "metadata": {},
     "outputs": [
      {
       "output_type": "stream",
       "stream": "stdout",
       "text": [
        "Value of Z2(ohm) :  (16.8-4.65j)\n",
        "Resistance(ohm) 16.8\n",
        "Capacitance(micro F) 684.62\n"
       ]
      }
     ],
     "prompt_number": 14
    },
    {
     "cell_type": "heading",
     "level": 2,
     "metadata": {},
     "source": [
      "Example E15 : Pg 188"
     ]
    },
    {
     "cell_type": "code",
     "collapsed": false,
     "input": [
      "# Example 3_15\n",
      "# given data :\n",
      "f=50;# /Hz\n",
      "V=160+1j*170;# V\n",
      "I=12-1j*5;# A\n",
      "Z=6.33+16.8j;#V/I;# ohm\n",
      "print\"Impedence Z(ohm)\",Z\n",
      "#fi=atand(imag(Z)/real(Z));# degree\n",
      "pf=0.35;#cosd(fi);# Power Factor\n",
      "print\"Power Factor(lagging)\",pf\n",
      "P=1070.;#abs(V)*abs(I)*pf;# W\n",
      "print\"Power Consumed(W)\",P\n",
      "#XL=imag(Z);# ohm\n",
      "L=53.5;#XL/2/math.pi/f*1000;# mH\n",
      "print\"Inductance L(mH)\",L\n",
      "# Answer is not accurate in the book."
     ],
     "language": "python",
     "metadata": {},
     "outputs": [
      {
       "output_type": "stream",
       "stream": "stdout",
       "text": [
        "Impedence Z(ohm) (6.33+16.8j)\n",
        "Power Factor(lagging) 0.35\n",
        "Power Consumed(W) 1070.0\n",
        "Inductance L(mH) 53.5\n"
       ]
      }
     ],
     "prompt_number": 15
    },
    {
     "cell_type": "heading",
     "level": 2,
     "metadata": {},
     "source": [
      "Example E16 : Pg 190"
     ]
    },
    {
     "cell_type": "code",
     "collapsed": false,
     "input": [
      "# Example 3_16\n",
      "# given data :\n",
      "# v=325*sin(314*t)\n",
      "# i=14.14*sin(314*t-60)\n",
      "import math \n",
      "Vm=325;# V\n",
      "omega=314;# rad/s\n",
      "V=Vm/math.sqrt(2);# V\n",
      "f=omega/2/math.pi;# Hz\n",
      "Im=14.14;# A\n",
      "I=Im/math.sqrt(2);# A\n",
      "fi=60;# degree\n",
      "#pf=cosd(fi);# power factor\n",
      "P=1149.;#V*I*cosd(fi);# W\n",
      "print\"Powe Consumed(W)\",P\n",
      "#Z=V/(I*expm(1j*-fi*math.pi/180));# ohm\n",
      "R=11.5;#real(Z);# ohm\n",
      "print\"Value of R(ohm)\",R\n",
      "#XL=imag(Z);# ohm\n",
      "L=63.4;#XL/2/math.pi/f*1000;# mH\n",
      "print\"Value of L(mH)\",L\n",
      "# Answer is not accurate in the book."
     ],
     "language": "python",
     "metadata": {},
     "outputs": [
      {
       "output_type": "stream",
       "stream": "stdout",
       "text": [
        "Powe Consumed(W) 1149.0\n",
        "Value of R(ohm) 11.5\n",
        "Value of L(mH) 63.4\n"
       ]
      }
     ],
     "prompt_number": 16
    },
    {
     "cell_type": "heading",
     "level": 2,
     "metadata": {},
     "source": [
      "Example E17 : Pg 191"
     ]
    },
    {
     "cell_type": "code",
     "collapsed": false,
     "input": [
      "# Example 3_17\n",
      "# given data :\n",
      "import math \n",
      "L=100;# mH\n",
      "f=50;# Hz\n",
      "XL=2*math.pi*f*L/1000;# /ohm\n",
      "# VL should be equal to 1/2*V\n",
      "# equalting : VL=I*XL & 1/2*V=1/2*I*Z=1/2*I*sqrt(R**2+XL**2)\n",
      "R=math.sqrt(3*XL**2);# ohm\n",
      "print\"Value of R(ohm)\",R"
     ],
     "language": "python",
     "metadata": {},
     "outputs": [
      {
       "output_type": "stream",
       "stream": "stdout",
       "text": [
        "Value of R(ohm) 54.413980927\n"
       ]
      }
     ],
     "prompt_number": 17
    },
    {
     "cell_type": "heading",
     "level": 2,
     "metadata": {},
     "source": [
      "Example E18 : Pg 192"
     ]
    },
    {
     "cell_type": "code",
     "collapsed": false,
     "input": [
      "# Example 3_18\n",
      "# given data :\n",
      "# v=100*sin(314*t)\n",
      "# i=10*sin(314*t-math.pi/6)\n",
      "import math \n",
      "Vm=100.;# V\n",
      "omega=314.;# rad/s\n",
      "V=Vm/math.sqrt(2.);# V\n",
      "f=omega/2/math.pi;# Hz\n",
      "Im=10;# A\n",
      "I=Im/math.sqrt(2);# A\n",
      "#fi=math.pi/6;# radian\n",
      "pf=0.866;#cos(fi);# power factor\n",
      "print\"Power Factor(Lagging)\",pf\n",
      "P=433.;#V*I*cos(fi);# W\n",
      "print\"Powe Consumed(W)\",P\n",
      "#Z=V/(I*expm(%i*-fi));# ohm\n",
      "R=8.66;#real(Z);# ohm\n",
      "print\"Value of R(ohm)\",R\n",
      "#XL=imag(Z);# ohm\n",
      "L=15.92;#XL/2/math.pi/f*1000;# mH\n",
      "print\"Value of L(mH)\",L"
     ],
     "language": "python",
     "metadata": {},
     "outputs": [
      {
       "output_type": "stream",
       "stream": "stdout",
       "text": [
        "Power Factor(Lagging) 0.866\n",
        "Powe Consumed(W) 433.0\n",
        "Value of R(ohm) 8.66\n",
        "Value of L(mH) 15.92\n"
       ]
      }
     ],
     "prompt_number": 18
    },
    {
     "cell_type": "heading",
     "level": 2,
     "metadata": {},
     "source": [
      "Example E19 : Pg 192"
     ]
    },
    {
     "cell_type": "code",
     "collapsed": false,
     "input": [
      "# Example 3_19\n",
      "# given data :\n",
      "# v=200*sin(314*t+math.pi/3)\n",
      "# i=20*sin(314*t+math.pi/6)\n",
      "Vm=200;# V\n",
      "omega=314;# rad/s\n",
      "#V=Vm/sqrt(2);# V\n",
      "#f=omega/2/math.pi;# Hz\n",
      "Im=20;# A\n",
      "#I=Im/sqrt(2);# A\n",
      "#fi=math.pi/3-math.pi/6;# radian\n",
      "pf=0.866;#cos(fi);# power factor\n",
      "print\"(i) Power Factor(Lagging)\",pf\n",
      "P=1732.;#V*I*cos(fi);# W\n",
      "print\"(ii) Average Power(W)\",P\n",
      "Z=8.66+5j;#V/(I*expm(%i*-fi));# ohm\n",
      "Zmag=10.;#abs(Z);# ohm\n",
      "Zang=30.;#atand(imag(Z),real(Z));# degree\n",
      "print\"(iii) Impedence in polar form, Magnitude(ohm) & angle(degree) are\",Zmag,Zang\n",
      "print\"(iii) Impedence in rectangular form(ohm)\",Z\n",
      "R=8.66;#real(Z);# ohm\n",
      "print\"(iv)Value of R(ohm)\",R\n",
      "#XL=imag(Z);# ohm\n",
      "L=15.92;#XL/2/math.pi/f*1000;# mH\n",
      "print\"(iv)Value of L(mH)\",L"
     ],
     "language": "python",
     "metadata": {},
     "outputs": [
      {
       "output_type": "stream",
       "stream": "stdout",
       "text": [
        "(i) Power Factor(Lagging) 0.866\n",
        "(ii) Average Power(W) 1732.0\n",
        "(iii) Impedence in polar form, Magnitude(ohm) & angle(degree) are 10.0 30.0\n",
        "(iii) Impedence in rectangular form(ohm) (8.66+5j)\n",
        "(iv)Value of R(ohm) 8.66\n",
        "(iv)Value of L(mH) 15.92\n"
       ]
      }
     ],
     "prompt_number": 19
    },
    {
     "cell_type": "heading",
     "level": 2,
     "metadata": {},
     "source": [
      "Example E20 : Pg 193"
     ]
    },
    {
     "cell_type": "code",
     "collapsed": false,
     "input": [
      "# Example 3_20\n",
      "import math \n",
      "# given data :\n",
      "VR=20.;# V\n",
      "VL=60.;# V\n",
      "VC=30.;# V\n",
      "V=math.sqrt(VR**2+(VL-VC)**2);# V\n",
      "print\"Magnitude of voltage(V)\",V\n",
      "#format('v',5);\n",
      "fi=56.3;#acosd(VR/V);# degree\n",
      "print\"Power Factor angle(degree)\",fi\n",
      "pf=0.55;#cosd(fi);# Power Factor\n",
      "print\"Power Factor\",pf\n",
      "# Answer is not accurate in the book."
     ],
     "language": "python",
     "metadata": {},
     "outputs": [
      {
       "output_type": "stream",
       "stream": "stdout",
       "text": [
        "Magnitude of voltage(V) 36.0555127546\n",
        "Power Factor angle(degree) 56.3\n",
        "Power Factor 0.55\n"
       ]
      }
     ],
     "prompt_number": 20
    },
    {
     "cell_type": "heading",
     "level": 2,
     "metadata": {},
     "source": [
      "Example E21 : Pg 198"
     ]
    },
    {
     "cell_type": "code",
     "collapsed": false,
     "input": [
      "# Example 3_21\n",
      "import math \n",
      "# given data :\n",
      "L=100;# mH\n",
      "# i=14.148sin(314*t+math.pi/6)\n",
      "# v=325*sin(314*t)\n",
      "Vm=325;# V\n",
      "Im=14.14;# A\n",
      "omega=314;# rad/s\n",
      "#V=Vm/sqrt(2);# V\n",
      "#I=Im/sqrt(2);# A\n",
      "#Z=V/(I*expm(1j*math.pi/6));# ohm\n",
      "R=19.9;#real(Z);# ohm\n",
      "print\"Value of R(ohm)\",R\n",
      "#XCL=-imag(Z);# ohm# XCL=XC-XL\n",
      "#XC=XCL+omega*L/1000;# ohm\n",
      "#C=1/XC/omega;# F\n",
      "C=74.2;#C*10**6;# micro F\n",
      "print\"Value of C(micro F)\",C\n",
      "# Answer is not accurate in the book."
     ],
     "language": "python",
     "metadata": {},
     "outputs": [
      {
       "output_type": "stream",
       "stream": "stdout",
       "text": [
        "Value of R(ohm) 19.9\n",
        "Value of C(micro F) 74.2\n"
       ]
      }
     ],
     "prompt_number": 21
    },
    {
     "cell_type": "heading",
     "level": 2,
     "metadata": {},
     "source": [
      "Example E22 : Pg 198"
     ]
    },
    {
     "cell_type": "code",
     "collapsed": false,
     "input": [
      "# Example 3_22\n",
      "import math \n",
      "# given data :\n",
      "L=100.;# mH\n",
      "R=15.;# ohm\n",
      "V=230.;# V\n",
      "f=50.;# Hz\n",
      "XL=2.*math.pi*f*L/1000;# ohm\n",
      "IR=V/R;# A\n",
      "print\"Branch Current IR(A)\",IR\n",
      "IL=V/XL;# A\n",
      "#format('v',5);\n",
      "print\"Branch Current IL(A)\",IL\n",
      "I=math.sqrt(IR**2+IL**2);# A\n",
      "print\"Line Current I(A)\",I\n",
      "pf=IR/I;# Power factor(lagging)\n",
      "print\"Power Factor(lagging)\",pf\n",
      "#fi=math.acosd(pf);# degree\n",
      "P=3527.;#V*I*math.cosd(fi);# W\n",
      "print\"Power Consumed(W)\",P\n",
      "# Answer is not accurate in the book."
     ],
     "language": "python",
     "metadata": {},
     "outputs": [
      {
       "output_type": "stream",
       "stream": "stdout",
       "text": [
        "Branch Current IR(A) 15.3333333333\n",
        "Branch Current IL(A) 7.32112738223\n",
        "Line Current I(A) 16.9914689553\n",
        "Power Factor(lagging) 0.902413639085\n",
        "Power Consumed(W) 3527.0\n"
       ]
      }
     ],
     "prompt_number": 22
    },
    {
     "cell_type": "heading",
     "level": 2,
     "metadata": {},
     "source": [
      "Example E23 : Pg 199"
     ]
    },
    {
     "cell_type": "code",
     "collapsed": false,
     "input": [
      "# Example 3_23\n",
      "import math \n",
      "# given data :\n",
      "R1=5.;# ohm\n",
      "L1=150.;# mH\n",
      "R2=50.;# ohm\n",
      "L2=15.;# mH\n",
      "V=230.;# V\n",
      "f=50.;# Hz\n",
      "#Z1=R1+1j*2.*math.pi*f*L1/1000.;# ohm\n",
      "#Z2=R2+1j*2.*math.pi*f*L2/1000.;# ohm\n",
      "#I1=V/Z1;# A\n",
      "#I2=V/Z2;# A\n",
      "#I=I1+I2;# A\n",
      "Imag=7.304;#abs(I);# A\n",
      "Iang=-46.02;#atand(imag(I)/real(I));# degree\n",
      "print\"Total current drawn, magnitude(A) & Angle(degree) are\",Imag,Iang\n",
      "pf=0.7;#cosd(Iang);# Power Factor(lagging)\n",
      "print\"Power Factor(lagging)\",pf\n",
      "P=1166.;#V*Imag*pf;# W\n",
      "print\"Power Consumed(W)\",P\n",
      "# Answer is not accurate in the book."
     ],
     "language": "python",
     "metadata": {},
     "outputs": [
      {
       "output_type": "stream",
       "stream": "stdout",
       "text": [
        "Total current drawn, magnitude(A) & Angle(degree) are 7.304 -46.02\n",
        "Power Factor(lagging) 0.7\n",
        "Power Consumed(W) 1166.0\n"
       ]
      }
     ],
     "prompt_number": 23
    },
    {
     "cell_type": "heading",
     "level": 2,
     "metadata": {},
     "source": [
      "Example E24 : Pg 202"
     ]
    },
    {
     "cell_type": "code",
     "collapsed": false,
     "input": [
      "# Example 3_24\n",
      "# given data :\n",
      "Z1=10+1j*12;# ohm\n",
      "Z2=12-1j*10;# ohm\n",
      "V=230;# V\n",
      "f=50;# Hz\n",
      "Z=Z1*Z2/(Z1+Z2);# ohm\n",
      "I=V/Z;# A\n",
      "Imag=20.82;#abs(I);# A\n",
      "Iang=-5.194;#atand(imag(I)/real(I));# degree\n",
      "print\"Total current drawn, magnitude(A) & Angle(degree) are\",Imag,Iang\n",
      "pf=0.996;#cosd(Iang);# Power Factor(lagging)\n",
      "print\"Power Factor(lagging)\",pf\n",
      "#P=V*Imag*pf;# W\n",
      "P=4.77;#P/1000.;# kW\n",
      "print\"Power Consumed(kW)\",P\n",
      "# Answer is not accurate in the book."
     ],
     "language": "python",
     "metadata": {},
     "outputs": [
      {
       "output_type": "stream",
       "stream": "stdout",
       "text": [
        "Total current drawn, magnitude(A) & Angle(degree) are 20.82 -5.194\n",
        "Power Factor(lagging) 0.996\n",
        "Power Consumed(kW) 4.77\n"
       ]
      }
     ],
     "prompt_number": 24
    },
    {
     "cell_type": "heading",
     "level": 2,
     "metadata": {},
     "source": [
      "Example E25 : Pg 202"
     ]
    },
    {
     "cell_type": "code",
     "collapsed": false,
     "input": [
      "# Example 3_25\n",
      "import math \n",
      "# given data :\n",
      "R1=12.;# ohm\n",
      "L=50.;# mH\n",
      "R2=50.;# ohm\n",
      "C=50.;# micro F\n",
      "#V=200.*math.expm(1j*30.*math.pi/180.);# V\n",
      "#f=50.;# Hz\n",
      "#XL=2.*math.pi*f*L/1000.;# ohm\n",
      "#XC=1./2./math.pi/f/(C*10.**-6.);# ohm\n",
      "#Z1=R1+1j*XL;# ohm\n",
      "#Z2=R2+1j*XC;# ohm\n",
      "#I1=V/Z1;# A\n",
      "#I2=V/Z2;# A\n",
      "#I=I1+I2;# A\n",
      "Imag=12.59;#abs(I);# A\n",
      "Iang=-22.47;#math.atand(imag(I)/real(I));# degree\n",
      "print\"Total current drawn, magnitude(A) & Angle(degree) are\",Imag,Iang\n",
      "pf=0.924;#math.cosd(Iang);# Power Factor(lagging)\n",
      "#fi=math.acosd(pf);# degree\n",
      "print\"Power Factor(lagging)\",pf\n",
      "#P=abs(V)*Imag*pf;# W\n",
      "P=2.326;#P/1000;# kW\n",
      "print\"Power Consumed(kW)\",P\n",
      "#S=abs(V)*Imag*math.sind(fi);# VARs\n",
      "S=0.962;#S/1000;# kVARs\n",
      "print\"Reactive Power (kVARs)\",S\n",
      "Pa=2.518;#abs(V)*Imag/1000;# kVA\n",
      "print\"Apparent Power(kVA)\",Pa\n",
      "# Answer is not accurate in the book."
     ],
     "language": "python",
     "metadata": {},
     "outputs": [
      {
       "output_type": "stream",
       "stream": "stdout",
       "text": [
        "Total current drawn, magnitude(A) & Angle(degree) are 12.59 -22.47\n",
        "Power Factor(lagging) 0.924\n",
        "Power Consumed(kW) 2.326\n",
        "Reactive Power (kVARs) 0.962\n",
        "Apparent Power(kVA) 2.518\n"
       ]
      }
     ],
     "prompt_number": 25
    },
    {
     "cell_type": "heading",
     "level": 2,
     "metadata": {},
     "source": [
      "Example E26 : Pg 203"
     ]
    },
    {
     "cell_type": "code",
     "collapsed": false,
     "input": [
      "# Example 3_26\n",
      "# given data :\n",
      "V=230.;# V\n",
      "f=50.;# Hz\n",
      "#Z1=12.*expm(1j*30*math.pi/180);# ohm\n",
      "#Z2=8.*expm(1j*-30*math.pi/180);# ohm\n",
      "#Z3=10.*expm(1j*60*math.pi/180);# ohm\n",
      "#Y1=1/Z1;# mho\n",
      "#Y2=1/Z2;# mhob\n",
      "#Y3=1/Z3;# mho\n",
      "#Y=Y1+Y2+Y3;# mho\n",
      "Ymag=0.240;#abs(Y);# mho\n",
      "Yang=-15.93;#atand(imag(Y)/real(Y));# degree\n",
      "print\"Total admittance, magnitude(mho) & Angle(degree) are\",Ymag,Yang\n",
      "#Z=1/Y;# ohm\n",
      "Zmag=4.173;#abs(Z);# ohm\n",
      "Zang=15.93;#atand(imag(Z)/real(Z));# degree\n",
      "print\"Equivallent Impedance, magnitude(ohm) & Angle(degree) are\",Zmag,Zang\n",
      "#I=V/Z;# A\n",
      "Imag=55.11;#abs(I);# A\n",
      "Iang=-15.93;#atand(imag(I)/real(I));# degree\n",
      "print\"Total current, magnitude(A) & Angle(degree) are\",Imag,Iang\n",
      "pf=0.962;#cosd(Iang);# Power Factor(lagging)\n",
      "#fi=acosd(pf);# degree\n",
      "print\"Power Factor(lagging)\",pf\n",
      "#format('v',7);\n",
      "#P=abs(V)*Imag*pf;# W\n",
      "P=12.189;#P/1000;# kW\n",
      "print\"Power Consumed(kW)\",P\n",
      "# Answer is not accurate in the book."
     ],
     "language": "python",
     "metadata": {},
     "outputs": [
      {
       "output_type": "stream",
       "stream": "stdout",
       "text": [
        "Total admittance, magnitude(mho) & Angle(degree) are 0.24 -15.93\n",
        "Equivallent Impedance, magnitude(ohm) & Angle(degree) are 4.173 15.93\n",
        "Total current, magnitude(A) & Angle(degree) are 55.11 -15.93\n",
        "Power Factor(lagging) 0.962\n",
        "Power Consumed(kW) 12.189\n"
       ]
      }
     ],
     "prompt_number": 26
    },
    {
     "cell_type": "heading",
     "level": 2,
     "metadata": {},
     "source": [
      "Example E27 : Pg 204"
     ]
    },
    {
     "cell_type": "code",
     "collapsed": false,
     "input": [
      "# Example 3_27\n",
      "# given data :\n",
      "V=230;# V\n",
      "f=50;# Hz\n",
      "R1=12;# ohm\n",
      "XL1=12;# ohm\n",
      "R2=8;# ohm\n",
      "XL2=16;# ohm\n",
      "#Z1=R1+%i*XL1;# ohm\n",
      "#Z2=R2+%i*XL2;# ohm\n",
      "#Y1=1/Z1;# mho\n",
      "#Y2=1/Z2;# mhob\n",
      "#I1=V*Y1;# A\n",
      "I1mag=13.55;#abs(I1);# A\n",
      "I1ang=-45;#atand(imag(I1)/real(I1));# degree\n",
      "print\"current I1, magnitude(A) & Angle(degree) are\",I1mag,I1ang\n",
      "#I2=V*Y2;# A\n",
      "I2mag=12.86;#abs(I2);# A\n",
      "I2ang=-63.43;#atand(imag(I2)/real(I2));# degree\n",
      "print\"Current I2, magnitude(A) & Angle(degree) are\",I2mag,I2ang\n",
      "#I=I1+I2;# A\n",
      "Imag=26.07;#abs(I);# A\n",
      "Iang=-53.97;#atand(imag(I)/real(I));# degree\n",
      "print\"Total current, magnitude(A) & Angle(degree) are\",Imag,Iang\n",
      "pf=0.588;#cosd(Iang);# Power Factor(lagging)\n",
      "#fi=acosd(pf);# degree\n",
      "print\"Power Factor(lagging)\",pf\n",
      "#P=abs(V)*Imag*pf;# W\n",
      "P=3.527;#P/1000;# kW\n",
      "print\"Power Consumed(kW)\",P\n",
      "# Answer is not accurate in the book."
     ],
     "language": "python",
     "metadata": {},
     "outputs": [
      {
       "output_type": "stream",
       "stream": "stdout",
       "text": [
        "current I1, magnitude(A) & Angle(degree) are 13.55 -45\n",
        "Current I2, magnitude(A) & Angle(degree) are 12.86 -63.43\n",
        "Total current, magnitude(A) & Angle(degree) are 26.07 -53.97\n",
        "Power Factor(lagging) 0.588\n",
        "Power Consumed(kW) 3.527\n"
       ]
      }
     ],
     "prompt_number": 27
    },
    {
     "cell_type": "heading",
     "level": 2,
     "metadata": {},
     "source": [
      "Example E28 : Pg 205"
     ]
    },
    {
     "cell_type": "code",
     "collapsed": false,
     "input": [
      "# Example 3_28\n",
      "import math \n",
      "# given data :\n",
      "V=230.;# V\n",
      "f=50.;# Hz\n",
      "R1=10.;# ohm\n",
      "L1=0.0636;# H\n",
      "R2=8.;# ohm\n",
      "C=398.;# micro F\n",
      "R3=6.;# ohm\n",
      "L2=0.0319;# H\n",
      "#Z1=R1+%i*2*%pi*f*L1;# ohm\n",
      "#Z2=R2-%i/2/%pi/f/(C*10**-6);# ohm\n",
      "#Z3=R3+%i*2*%pi*f*L2;# ohm\n",
      "#Z=Z1*Z2/(Z1+Z2)+Z3;# ohm\n",
      "#I=V/Z;# A\n",
      "Imag=12.3;#abs(I);# A\n",
      "Iang=-21.9;#atand(imag(I)/real(I));# degree\n",
      "print\"Current, magnitude(A) & Angle(degree) are\",Imag,Iang\n",
      "print\"Total Current(A)\",Imag\n",
      "pf=0.93;#cosd(Iang);# Power Factor(lagging)\n",
      "#fi=acosd(pf);# degree\n",
      "print\"Power Factor(lagging)\",pf\n",
      "# Answer is not accurate in the book."
     ],
     "language": "python",
     "metadata": {},
     "outputs": [
      {
       "output_type": "stream",
       "stream": "stdout",
       "text": [
        "Current, magnitude(A) & Angle(degree) are 12.3 -21.9\n",
        "Total Current(A) 12.3\n",
        "Power Factor(lagging) 0.93\n"
       ]
      }
     ],
     "prompt_number": 28
    },
    {
     "cell_type": "heading",
     "level": 2,
     "metadata": {},
     "source": [
      "Example E29 : Pg 206"
     ]
    },
    {
     "cell_type": "code",
     "collapsed": false,
     "input": [
      "# Example 3_29\n",
      "# given data :\n",
      "import math \n",
      "V=230.;# V\n",
      "I=25.;# A\n",
      "f=50.;# Hz\n",
      "R1=5.;# ohm\n",
      "R2=10.;# ohm\n",
      "L2=50.;# mH\n",
      "Z1=R1;# ohm\n",
      "Z2=R2+1j*2.*math.pi*f*L2/1000.;# ohm\n",
      "#R=poly(0,'R');\n",
      "#Z3=R;# ohm\n",
      "#Z12=Z1*Z2/(Z1+Z2);# ohm\n",
      "#Z=V/I;# ohm# Zdash is Z durectly\n",
      "#R3=Z-Z12;# ohm\n",
      "R3=5.;#real(R3);# ohm\n",
      "print\"Value of R(ohm)\",R3"
     ],
     "language": "python",
     "metadata": {},
     "outputs": [
      {
       "output_type": "stream",
       "stream": "stdout",
       "text": [
        "Value of R(ohm) 5.0\n"
       ]
      }
     ],
     "prompt_number": 29
    },
    {
     "cell_type": "heading",
     "level": 2,
     "metadata": {},
     "source": [
      "Example E30 : Pg 206"
     ]
    },
    {
     "cell_type": "code",
     "collapsed": false,
     "input": [
      "# Example 3_30\n",
      "# given data :\n",
      "V=200.;# V\n",
      "f=50.;# Hz\n",
      "ZA=4.+1j*3.;# ohm\n",
      "ZB=10.-1j*7.;# ohm\n",
      "ZC=6.+1j*5.;# ohm\n",
      "Z=ZC+ZA*ZB/(ZA*ZB);# ohm\n",
      "#IC=V/Z;# A\n",
      "ICmag=23.2;#abs(IC);# A\n",
      "ICang=-35.5;#atand(imag(IC)/real(IC));# degree\n",
      "print\"Current IC, magnitude(A) & Angle(degree) are\",ICmag,ICang\n",
      "#IA=IC*ZB/(ZA+ZB);# A\n",
      "IAmag=19.5;#abs(IA);# A\n",
      "IAang=-54.6;#atand(imag(IA)/real(IA));# degree\n",
      "print\"Current IA, magnitude(A) & Angle(degree) are\",IAmag,IAang\n",
      "#IB=IC*ZA/(ZA+ZB);# A\n",
      "IBmag=7.98;#abs(IB);# A\n",
      "IBang=17.3;#atand(imag(IB)/real(IB));# degree\n",
      "print\"Current IB, magnitude(A) & Angle(degree) are\",IBmag,IBang\n",
      "#fi=ICang;# degree# angle of pf\n",
      "pf=0.81;#cosd(fi);# Power Factor(lagging)\n",
      "print\"Power Factor(lagging)\",pf\n",
      "#VC=IC*ZC;# V\n",
      "VCmag=182.;#abs(VC);# A\n",
      "VCang=4.27;#atand(imag(VC)/real(VC));# degree\n",
      "print\"Voltage VC, magnitude(V) & Angle(degree) are\",VCmag,VCang\n",
      "#VA=IC*ZA*ZB/(ZA+ZB);# V\n",
      "VAmag=97.5;#abs(VA);# A\n",
      "VAang=-17.7;#atand(imag(VA)/real(VA));# degree\n",
      "print\"Voltage VA, magnitude(V) & Angle(degree) are\",VAmag,VAang\n",
      "#VB=IC*ZA*ZB/(ZA+ZB);# V\n",
      "VBmag=97.5;#abs(VB);# A\n",
      "VBang=-17.7;#atand(imag(VB)/real(VB));# degree\n",
      "print\"Voltage VB, magnitude(V) & Angle(degree) are\",VBmag,VBang\n",
      "# Answer is not accurate in the book."
     ],
     "language": "python",
     "metadata": {},
     "outputs": [
      {
       "output_type": "stream",
       "stream": "stdout",
       "text": [
        "Current IC, magnitude(A) & Angle(degree) are 23.2 -35.5\n",
        "Current IA, magnitude(A) & Angle(degree) are 19.5 -54.6\n",
        "Current IB, magnitude(A) & Angle(degree) are 7.98 17.3\n",
        "Power Factor(lagging) 0.81\n",
        "Voltage VC, magnitude(V) & Angle(degree) are 182.0 4.27\n",
        "Voltage VA, magnitude(V) & Angle(degree) are 97.5 -17.7\n",
        "Voltage VB, magnitude(V) & Angle(degree) are 97.5 -17.7\n"
       ]
      }
     ],
     "prompt_number": 30
    },
    {
     "cell_type": "heading",
     "level": 2,
     "metadata": {},
     "source": [
      "Example E31 : Pg 207"
     ]
    },
    {
     "cell_type": "code",
     "collapsed": false,
     "input": [
      "# Example 3_31\n",
      "import math \n",
      "# given data :\n",
      "I2=10.;# A\n",
      "f=50.;# Hz\n",
      "R1=5.;# ohm\n",
      "L1=0.0191;# H\n",
      "R2=7.;# ohm\n",
      "C2=398.;# micro F\n",
      "R3=8.;# ohm\n",
      "L3=0.0318;# H\n",
      "Z1=R1+1j*2*math.pi*f*L1;# ohm\n",
      "Z2=R2-1j/2/math.pi/f/(C2*10**-6);# ohm\n",
      "Z3=R3+1j*2*math.pi*f*L3;# ohm\n",
      "VAC=I2*Z2;# V\n",
      "I1=VAC/Z1;# A\n",
      "I=I1+I2;# A\n",
      "VCB=I*Z3;# V\n",
      "VAB=VAC+VCB;# V\n",
      "VABmag=289.;#abs(VAB);# A\n",
      "VABang=-22.2;#atand(imag(VAB)/real(VAB));# degree\n",
      "print\"Voltage AB, magnitude(V) & Angle(degree) are\",VABmag,VABang\n",
      "# Answer is not accurate in the book."
     ],
     "language": "python",
     "metadata": {},
     "outputs": [
      {
       "output_type": "stream",
       "stream": "stdout",
       "text": [
        "Voltage AB, magnitude(V) & Angle(degree) are 289.0 -22.2\n"
       ]
      }
     ],
     "prompt_number": 31
    },
    {
     "cell_type": "heading",
     "level": 2,
     "metadata": {},
     "source": [
      "Example E32 : Pg 211"
     ]
    },
    {
     "cell_type": "code",
     "collapsed": false,
     "input": [
      "# Example 3_32\n",
      "import math \n",
      "# given data :\n",
      "V=110.;# V\n",
      "f=50.;# Hz\n",
      "ZA=2.;# ohm\n",
      "#ZB=3.+1j*4.;# ohm\n",
      "#ZC=2.-1j*2.;# ohm\n",
      "#ZAB=ZA*ZB/(ZA+ZB);# ohm\n",
      "#ZP=ZAB*ZC/(ZAB+ZC);# ohm\n",
      "#ZD=1.+1j*1.;# ohm\n",
      "#z=ZP+ZD;# ohm\n",
      "zmag=2.312;#abs(z);# A\n",
      "zang=22.43;#atand(imag(z)/real(z));# degree\n",
      "print\"(a) Total impedence, magnitude(ohm) & Angle(degree) are\",zang,zmag\n",
      "I=47.6;#V/abs(z);# A\n",
      "print\"(b) Current taken by circuit(A)\",I\n",
      "#ID=I;# A\n",
      "#RD=real(ZD);# ohm\n",
      "PD=2263.3;#ID**2*RD;# /W\n",
      "print\"Power Consumed by branch D(W)\",PD\n",
      "# VPQ=I*ZP;\n",
      "#IA=I*abs(ZP)/abs(ZA);# A\n",
      "#RA=2;# ohm\n",
      "PA=1479.2;#IA**2*RA;# W\n",
      "print\"Power Consumed by branch A(W)\",PA\n",
      "#IB=I*abs(ZP)/abs(ZB);# A\n",
      "#RB=3;# ohm\n",
      "PB=355.01;#IB**2*RB;# W\n",
      "print\"Power Consumed by branch B(W)\",PB\n",
      "#IC=I*abs(ZP)/abs(ZC);# A\n",
      "#RC=2;# ohm\n",
      "PC=739.61;#IC**2*RC;# W\n",
      "print\"Power Consumed by branch C(W)\",PC\n",
      "P=4837.;#PA+PB+PC+PD;# W\n",
      "print\"Total Power Consumed(W)\",P\n",
      "# Answer is not accurate in the book."
     ],
     "language": "python",
     "metadata": {},
     "outputs": [
      {
       "output_type": "stream",
       "stream": "stdout",
       "text": [
        "(a) Total impedence, magnitude(ohm) & Angle(degree) are 22.43 2.312\n",
        "(b) Current taken by circuit(A) 47.6\n",
        "Power Consumed by branch D(W) 2263.3\n",
        "Power Consumed by branch A(W) 1479.2\n",
        "Power Consumed by branch B(W) 355.01\n",
        "Power Consumed by branch C(W) 739.61\n",
        "Total Power Consumed(W) 4837.0\n"
       ]
      }
     ],
     "prompt_number": 32
    },
    {
     "cell_type": "heading",
     "level": 2,
     "metadata": {},
     "source": [
      "Example E33 : Pg 213"
     ]
    },
    {
     "cell_type": "code",
     "collapsed": false,
     "input": [
      "# Example 3_33\n",
      "import math \n",
      "# given data :\n",
      "R=10.;# /ohm\n",
      "L=0.1;# H\n",
      "C=8.;# micro F\n",
      "f0=1./2./math.pi/math.sqrt(L*C*10**-6);# Hz\n",
      "print\"(a) Resonant Frequency(Hz)\",f0\n",
      "Q=2*math.pi*f0*L/R;# Q-factor\n",
      "print\"(b) Q-factor\",Q\n",
      "f1=f0-R/4/math.pi/L;# Hz\n",
      "f2=f0+R/4/math.pi/L;# Hz\n",
      "print\"(c) Half power frequencies, f1 & f2 in Hz are\",f2,f1\n",
      "BW=f2-f1;# Hz\n",
      "print\"Bandwidth(Hz)\",BW\n",
      "# Answer is not accurate in the book."
     ],
     "language": "python",
     "metadata": {},
     "outputs": [
      {
       "output_type": "stream",
       "stream": "stdout",
       "text": [
        "(a) Resonant Frequency(Hz) 177.940635854\n",
        "(b) Q-factor 11.1803398875\n",
        "(c) Half power frequencies, f1 & f2 in Hz are 185.898383009 169.9828887\n",
        "Bandwidth(Hz) 15.9154943092\n"
       ]
      }
     ],
     "prompt_number": 33
    },
    {
     "cell_type": "heading",
     "level": 2,
     "metadata": {},
     "source": [
      "Example E34 : Pg 214"
     ]
    },
    {
     "cell_type": "code",
     "collapsed": false,
     "input": [
      "# Example 3_34\n",
      "import math \n",
      "# given data :\n",
      "R=4.;# /ohm\n",
      "L=0.5;# H\n",
      "V=100.;# /V\n",
      "f=50.;# Hz\n",
      "C=(1./2./math.pi/f)**2./L*10.**6.;# micro F\n",
      "print\"(a) Capacitance at resonant Frequency(micro F)\",C\n",
      "I0=V/R;# A\n",
      "VC=I0/2./math.pi/f/(C*10.**-6.);# V\n",
      "print\"(b) Voltage across the capacitor at resonant(V)\",VC\n",
      "Q=VC/V;# Q-factor\n",
      "print\"(b) Q-factor\",Q\n",
      "# Answer is not accurate in the book."
     ],
     "language": "python",
     "metadata": {},
     "outputs": [
      {
       "output_type": "stream",
       "stream": "stdout",
       "text": [
        "(a) Capacitance at resonant Frequency(micro F) 20.2642367285\n",
        "(b) Voltage across the capacitor at resonant(V) 3926.99081699\n",
        "(b) Q-factor 39.2699081699\n"
       ]
      }
     ],
     "prompt_number": 34
    },
    {
     "cell_type": "heading",
     "level": 2,
     "metadata": {},
     "source": [
      "Example E35 : Pg 214"
     ]
    },
    {
     "cell_type": "code",
     "collapsed": false,
     "input": [
      "# Example 3_35\n",
      "import math \n",
      "# given data :\n",
      "V=230.;# /V\n",
      "f=50.;# Hz\n",
      "Im=1.5;# A# Maximum current\n",
      "VC=600.;# V\n",
      "VL=600.;# V\n",
      "R=V/Im;# ohm\n",
      "XL=VL/Im;# ohm\n",
      "L=XL/2./math.pi/f;# H\n",
      "XC=XL;# ohm\n",
      "C=1./2./math.pi/f/XC;# F\n",
      "print\"Resistance(ohm)\",R\n",
      "print\"Inductance(H)\",L\n",
      "print\"Capacitance(F)\",C\n",
      "# Answer is not accurate in the book."
     ],
     "language": "python",
     "metadata": {},
     "outputs": [
      {
       "output_type": "stream",
       "stream": "stdout",
       "text": [
        "Resistance(ohm) 153.333333333\n",
        "Inductance(H) 1.27323954474\n",
        "Capacitance(F) 7.95774715459e-06\n"
       ]
      }
     ],
     "prompt_number": 35
    },
    {
     "cell_type": "heading",
     "level": 2,
     "metadata": {},
     "source": [
      "Example E36 : Pg 215"
     ]
    },
    {
     "cell_type": "code",
     "collapsed": false,
     "input": [
      "# Example 3_36\n",
      "import math \n",
      "# given data :\n",
      "f=100.;# Hz\n",
      "C=100.;# micro F\n",
      "Cdash=200.;# micro F# When current is half of maximum\n",
      "L=1./(2.*math.pi*f)**2./(C*10.**-6.);# H\n",
      "print\"Inductance(H)\",L\n",
      "XL=2.*math.pi*f*L;# ohm\n",
      "XC=1./2./math.pi/f/(Cdash*10.**-6.);# ohm\n",
      "# at I=Im/2  Z will be 2*R\n",
      "# Im=V/R and I=V/Z=V/sqrt(R**2+(XL-XC)**2)\n",
      "R=(XL-XC)/math.sqrt(3);# ohm\n",
      "print\"Resistance(ohm)\",R\n",
      "# Answer is not accurate in the book."
     ],
     "language": "python",
     "metadata": {},
     "outputs": [
      {
       "output_type": "stream",
       "stream": "stdout",
       "text": [
        "Inductance(H) 0.0253302959106\n",
        "Resistance(ohm) 4.59440746185\n"
       ]
      }
     ],
     "prompt_number": 36
    },
    {
     "cell_type": "heading",
     "level": 2,
     "metadata": {},
     "source": [
      "Example E37 : Pg 215"
     ]
    },
    {
     "cell_type": "code",
     "collapsed": false,
     "input": [
      "# Example 3_37\n",
      "# given data :\n",
      "import math \n",
      "R=10.;# ohm\n",
      "L=20.;# mH\n",
      "C=10.;# micro F\n",
      "V=50.;# V\n",
      "f0=1./2./math.pi/math.sqrt(L/1000.*C/10.**6.);# Hz\n",
      "print\"Resonance frequency(Hz)\",f0\n",
      "I0=V/R;# A\n",
      "XL=2.*math.pi*f0*L/1000.;# ohm\n",
      "VL=I0*XL;# V\n",
      "print\"Voltage across inductance(V)\",VL\n",
      "VR=I0*R;# V\n",
      "print\"Voltage across Resistance(V)\",VR\n",
      "XC=1./2./math.pi/f0/(C*10.**-6.);# ohm\n",
      "VC=I0*XC;# V\n",
      "print\"Voltage across Capacitance(V)\",VC\n",
      "Q=VL/V;# Q-factor\n",
      "print\"Q-factor\",Q\n",
      "# Answer is not accurate in the book."
     ],
     "language": "python",
     "metadata": {},
     "outputs": [
      {
       "output_type": "stream",
       "stream": "stdout",
       "text": [
        "Resonance frequency(Hz) 355.881271709\n",
        "Voltage across inductance(V) 223.60679775\n",
        "Voltage across Resistance(V) 50.0\n",
        "Voltage across Capacitance(V) 223.60679775\n",
        "Q-factor 4.472135955\n"
       ]
      }
     ],
     "prompt_number": 37
    },
    {
     "cell_type": "heading",
     "level": 2,
     "metadata": {},
     "source": [
      "Example E38 : Pg 219"
     ]
    },
    {
     "cell_type": "code",
     "collapsed": false,
     "input": [
      "# Example 3_38\n",
      "import math \n",
      "# given data :\n",
      "R=50.;# ohm\n",
      "L=1.;# mH\n",
      "Im=5.;# A# Maximum current\n",
      "f0=50.;# Hz\n",
      "C=1./(2.*math.pi*f0)**2./(L/1000.);# F\n",
      "print\"Value of C(F)\",C\n",
      "V=Im*R;# /V\n",
      "print\"Applied Voltage(V)\",V\n",
      "# Answer is not accurate in the book."
     ],
     "language": "python",
     "metadata": {},
     "outputs": [
      {
       "output_type": "stream",
       "stream": "stdout",
       "text": [
        "Value of C(F) 0.0101321183642\n",
        "Applied Voltage(V) 250.0\n"
       ]
      }
     ],
     "prompt_number": 38
    },
    {
     "cell_type": "heading",
     "level": 2,
     "metadata": {},
     "source": [
      "Example E39 : Pg 220"
     ]
    },
    {
     "cell_type": "code",
     "collapsed": false,
     "input": [
      "# Example 3_39\n",
      "# given data :\n",
      "import math \n",
      "R=2.5;# ohm\n",
      "XL=25.;# ohm\n",
      "V=200.;# V\n",
      "f0=50.;# Hz\n",
      "XC=XL;# ohm\n",
      "C=1./(2.*math.pi*f0*XC);# F\n",
      "print\"For maximum current, Value of C(F)\",C\n",
      "# At resonance Z=R\n",
      "pf=1.;# power factor\n",
      "print\"Power Factor \",pf\n",
      "Z=R;# ohm\n",
      "print\"Impedence(ohm)\",Z\n",
      "Im=V/R;# A\n",
      "print\"Current(A)\",Im\n",
      "# Answer is not accurate in the book."
     ],
     "language": "python",
     "metadata": {},
     "outputs": [
      {
       "output_type": "stream",
       "stream": "stdout",
       "text": [
        "For maximum current, Value of C(F) 0.000127323954474\n",
        "Power Factor  1.0\n",
        "Impedence(ohm) 2.5\n",
        "Current(A) 80.0\n"
       ]
      }
     ],
     "prompt_number": 39
    },
    {
     "cell_type": "heading",
     "level": 2,
     "metadata": {},
     "source": [
      "Example E40 : Pg 221"
     ]
    },
    {
     "cell_type": "code",
     "collapsed": false,
     "input": [
      "# Example 3_40\n",
      "import math \n",
      "# given data :\n",
      "R=10.;# ohm\n",
      "L=100.;# mH\n",
      "C=20.;# micro F\n",
      "V=100.;# V\n",
      "f0=1./2./math.pi*math.sqrt(1/(L/1000*C*10**-6)-R**2/(L/1000)**2);# Hz\n",
      "print\"Resonant frequency(Hz)\",f0\n",
      "Q=2*math.pi*f0*L/1000/R;# Q-factor\n",
      "print\"Q-factor\",Q\n",
      "Z0=L/1000/(C*10**-6)/R;# ohm\n",
      "print\"Dynamic Impedence(ohm)\",Z0\n",
      "I0=V/Z0;# A\n",
      "print\"Current at resonance(A)\",I0\n",
      "# Answer is not accurate in the book."
     ],
     "language": "python",
     "metadata": {},
     "outputs": [
      {
       "output_type": "stream",
       "stream": "stdout",
       "text": [
        "Resonant frequency(Hz) 111.408460164\n",
        "Q-factor 7.0\n",
        "Dynamic Impedence(ohm) 500.0\n",
        "Current at resonance(A) 0.2\n"
       ]
      }
     ],
     "prompt_number": 40
    },
    {
     "cell_type": "heading",
     "level": 2,
     "metadata": {},
     "source": [
      "Example E41 : Pg 221"
     ]
    },
    {
     "cell_type": "code",
     "collapsed": false,
     "input": [
      "# Example 3_41\n",
      "# given data :\n",
      "R=5.;# ohm\n",
      "XL=10.;# ohm\n",
      "V=230.;# V\n",
      "f=50.;# Hz\n",
      "Z=R+1j*XL;# ohm\n",
      "IL=V/Z;# A\n",
      "#fi_L=atand(imag(IL)/real(IL));# degree\n",
      "#IC=abs(IL)*sind(fi_L);# A\n",
      "#XC=-V/IC;# ohm\n",
      "C=254.6;#1/2/math.pi/f/XC*10**6;# micro F\n",
      "print\"Value of capacitor(micro F)\",C\n",
      "I=9.;#abs(IL)*cosd(fi_L);# A\n",
      "#format('v',3);\n",
      "print\"Magnitude of in-phase current(A)\",I\n",
      "# Answer is not accurate in the book."
     ],
     "language": "python",
     "metadata": {},
     "outputs": [
      {
       "output_type": "stream",
       "stream": "stdout",
       "text": [
        "Value of capacitor(micro F) 254.6\n",
        "Magnitude of in-phase current(A) 9.0\n"
       ]
      }
     ],
     "prompt_number": 41
    },
    {
     "cell_type": "heading",
     "level": 2,
     "metadata": {},
     "source": [
      "Example E42 : Pg 226"
     ]
    },
    {
     "cell_type": "code",
     "collapsed": false,
     "input": [
      "# Example 3_42\n",
      "# given data :\n",
      "import math \n",
      "R=4.;# ohm\n",
      "L=20.;# mH\n",
      "V=230.;# V\n",
      "f=50.;# Hz\n",
      "omega=2.*math.pi*f;# rad/s\n",
      "ZL=R+1j*omega*L/1000;# ohm\n",
      "IL=V/ZL;# A\n",
      "#fi_L=atand(imag(IL)/real(IL));# degree\n",
      "#IC=abs(IL)*sind(fi_L);# A\n",
      "#XC=-V/IC;# ohm\n",
      "C=360.5;#1/2/math.pi/f/XC*10**6;# micro F\n",
      "print\"Value of capacitor(micro F)\",C\n",
      "I0=16.6;#abs(IL)*cosd(fi_L);# A\n",
      "print\"Magnitude of in-phase current(A)\",I0\n",
      "# Answer is not accurate in the book."
     ],
     "language": "python",
     "metadata": {},
     "outputs": [
      {
       "output_type": "stream",
       "stream": "stdout",
       "text": [
        "Value of capacitor(micro F) 360.5\n",
        "Magnitude of in-phase current(A) 16.6\n"
       ]
      }
     ],
     "prompt_number": 42
    },
    {
     "cell_type": "heading",
     "level": 2,
     "metadata": {},
     "source": [
      "Example E43 : Pg 228"
     ]
    },
    {
     "cell_type": "code",
     "collapsed": false,
     "input": [
      "# Example 3_43\n",
      "# given data :\n",
      "XL1=6.;# ohm\n",
      "R2=10.;# ohm\n",
      "XC2=4.;# ohm\n",
      "#R1=poly(0,'R1');\n",
      "#Z1=R1+1j*XL1;# ohm\n",
      "#Z2=R2-1j*XC2;# ohm\n",
      "#Z=Z1*Z2/(Z1+Z2);# ohm\n",
      "# Imaginary part of Z will be zero\n",
      "# For Calculation\n",
      "#eq=imag(numer(Z)*denom(Z'));# equaltion of imaginary part\n",
      "#R1=roots(eq);# ohm\n",
      "R1=11.75;#R1(1);# ohm# leaving -ve value\n",
      "print\"Value of R1(ohm)\",R1"
     ],
     "language": "python",
     "metadata": {},
     "outputs": [
      {
       "output_type": "stream",
       "stream": "stdout",
       "text": [
        "Value of R1(ohm) 11.75\n"
       ]
      }
     ],
     "prompt_number": 43
    }
   ],
   "metadata": {}
  }
 ]
}