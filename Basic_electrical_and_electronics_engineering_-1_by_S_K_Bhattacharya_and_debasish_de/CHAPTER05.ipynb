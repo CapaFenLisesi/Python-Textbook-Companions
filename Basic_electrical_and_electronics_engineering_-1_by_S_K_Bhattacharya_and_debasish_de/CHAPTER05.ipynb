{
 "metadata": {
  "name": "",
  "signature": "sha256:038fa09368b7ccbeae8e308cfd40ad437148049ca5e3cd10167147494ba69a7d"
 },
 "nbformat": 3,
 "nbformat_minor": 0,
 "worksheets": [
  {
   "cells": [
    {
     "cell_type": "heading",
     "level": 1,
     "metadata": {},
     "source": [
      "CHAPTER05:DIODE FUNDAMENTALS"
     ]
    },
    {
     "cell_type": "heading",
     "level": 2,
     "metadata": {},
     "source": [
      "Example E01 : Pg 282"
     ]
    },
    {
     "cell_type": "code",
     "collapsed": false,
     "input": [
      "# Example 5_1\n",
      "# given data : \n",
      "import math \n",
      "rho_p=1.5;# ohm-cm\n",
      "rho_n=1;# ohm-cm\n",
      "e=1.6*10**-19;# C/electron\n",
      "# For Ge diode\n",
      "mu_p=1800;# cm**2/V-s# For Ge\n",
      "mu_n=3800;# cm**2/V-s# For Si\n",
      "VT=0.026;# /eV# at room temperature\n",
      "ni=2.5*10**13;# cm**-3s\n",
      "# rho=1/(NA*e*mu)\n",
      "NA=1/(rho_p*e*mu_p);# cm**-3\n",
      "ND=1/(rho_n*e*mu_n);# cm**-3\n",
      "V0=VT*math.log(NA*ND/ni**2);# eV\n",
      "print\"(a) Height of potential barrier(eV)\",V0\n",
      "# For Si diode\n",
      "mu_p=500;# cm**2/V-s# For Ge\n",
      "mu_n=1300;# cm**2/V-s# For Si\n",
      "VT=0.026;# /eV# at room temperature\n",
      "ni=1.5*10**10;# cm**-3s\n",
      "# rho=1/(NA*e*mu)\n",
      "NA=1/(rho_p*e*mu_p);# cm**-3\n",
      "ND=1/(rho_n*e*mu_n);# cm**-3\n",
      "V0=VT*math.log(NA*ND/ni**2);# eV\n",
      "print\"(b) Height of potential barrier(eV)\",V0\n",
      "# /Answer in the texbook is not accurate."
     ],
     "language": "python",
     "metadata": {},
     "outputs": [
      {
       "output_type": "stream",
       "stream": "stdout",
       "text": [
        "(a) Height of potential barrier(eV) 0.226581393896\n",
        "(b) Height of potential barrier(eV) 0.673540437679\n"
       ]
      }
     ],
     "prompt_number": 1
    },
    {
     "cell_type": "heading",
     "level": 2,
     "metadata": {},
     "source": [
      "Example E02 : Pg 285"
     ]
    },
    {
     "cell_type": "code",
     "collapsed": false,
     "input": [
      "# Example 5_2\n",
      "# given data : \n",
      "import math \n",
      "ND=10.**16.;# cm**-3\n",
      "A=4.*10.**-4.;# cm**2\n",
      "NA=5.*10.**18.;# cm**-3\n",
      "T=300.;# K\n",
      "epsilon0=8.85*10.**-14.;# vaccum permittivity\n",
      "epsilonr=11.8;# relative permittivity\n",
      "e=1.6*10.**-19.;# C/electron\n",
      "ni=1.5*10.**10.;# cm**-3\n",
      "kBT=0.0259;# eV# at room temperture\n",
      "V0=kBT*math.log(NA*ND/ni**2.);# V\n",
      "W=math.sqrt(2.*epsilonr*epsilon0*V0/e*(1./NA+1./ND));# cm\n",
      "print\"Width of depletion zone(cm)\",round(W,9)\n",
      "# /Answer in the texbook is not accurate.Calculation mistake in W."
     ],
     "language": "python",
     "metadata": {},
     "outputs": [
      {
       "output_type": "stream",
       "stream": "stdout",
       "text": [
        "Width of depletion zone(cm) 3.3453e-05\n"
       ]
      }
     ],
     "prompt_number": 2
    },
    {
     "cell_type": "heading",
     "level": 2,
     "metadata": {},
     "source": [
      "Example E03 : Pg 285"
     ]
    },
    {
     "cell_type": "code",
     "collapsed": false,
     "input": [
      "# Example 5_3\n",
      "# given data : \n",
      "import math \n",
      "ND=1.2*10**21;# cm**-3\n",
      "NA=10**22;# cm**-3\n",
      "T=(273+30);# K\n",
      "kB=1.38*10**-23;# Boltzman constant\n",
      "e=1.6*10**-19;# C/electron\n",
      "VT=kB*T/e*1000;# mV# Thermal Voltage\n",
      "print\"Thermal Voltage(mV)\",VT\n",
      "ni=1.5*10**16;# cm**-3\n",
      "V0=VT/1000*math.log(NA*ND/ni**2);# V\n",
      "print\"Barrier Voltage(V)\",V0\n",
      "# /Answer in the texbook is not accurate."
     ],
     "language": "python",
     "metadata": {},
     "outputs": [
      {
       "output_type": "stream",
       "stream": "stdout",
       "text": [
        "Thermal Voltage(mV) 26.13375\n",
        "Barrier Voltage(V) 0.645499113361\n"
       ]
      }
     ],
     "prompt_number": 3
    },
    {
     "cell_type": "heading",
     "level": 2,
     "metadata": {},
     "source": [
      "Example E04 : Pg 286"
     ]
    },
    {
     "cell_type": "code",
     "collapsed": false,
     "input": [
      "# Example 5_4\n",
      "# given data : \n",
      "t1=25.;# degree C\n",
      "t2=70.;# degree C\n",
      "VB1=0.7;# V\n",
      "delV=-0.002*(t2-t1);# V\n",
      "VB2=VB1+delV;# V# barrier potential\n",
      "print\"(a) Barrier potential at 70 degree C is (V)\",VB2\n",
      "# Part (b)\n",
      "t1=25.;# degree C\n",
      "t2=0;# degree C\n",
      "VB1=0.7;# V\n",
      "delV=-0.002*(t2-t1);# V\n",
      "VB2=VB1+delV;# V# barrier potential\n",
      "print\"(b) Barrier potential at 0 degree C is (V)\",VB2"
     ],
     "language": "python",
     "metadata": {},
     "outputs": [
      {
       "output_type": "stream",
       "stream": "stdout",
       "text": [
        "(a) Barrier potential at 70 degree C is (V) 0.61\n",
        "(b) Barrier potential at 0 degree C is (V) 0.75\n"
       ]
      }
     ],
     "prompt_number": 4
    },
    {
     "cell_type": "heading",
     "level": 2,
     "metadata": {},
     "source": [
      "Example E05 : Pg 287"
     ]
    },
    {
     "cell_type": "code",
     "collapsed": false,
     "input": [
      "# Example 5_5\n",
      "import math \n",
      "# Part(a) Derivation\n",
      "# Part(b)\n",
      "# given data : \n",
      "mu_p=500;# cm**2/V-s\n",
      "q=1.6*10**-19;# C/electron\n",
      "rho=3;# ohm-cm\n",
      "V0=0.4;# V# Barrier Height\n",
      "Vd=4.5;# V# Reverse Voltage\n",
      "D=40;# mils\n",
      "D=D*10**-3;# inch\n",
      "D=D*2.54;# cm/in\n",
      "A=math.pi/4*D**2;# cm**2\n",
      "NA=1/rho/mu_p/q;# cm**-3\n",
      "W=math.sqrt((V0+Vd)/(14.13*10**10));# m**2\n",
      "Vj=V0+Vd;# V\n",
      "CT=2.9*10**-4*math.sqrt(NA/Vj)*A;# /pF\n",
      "print\"CT(pF) : \",round(CT,12)\n",
      "# Answer given in the textbook is not accurate."
     ],
     "language": "python",
     "metadata": {},
     "outputs": [
      {
       "output_type": "stream",
       "stream": "stdout",
       "text": [
        "CT(pF) :  0.0\n"
       ]
      }
     ],
     "prompt_number": 5
    },
    {
     "cell_type": "heading",
     "level": 2,
     "metadata": {},
     "source": [
      "Example E06 : Pg 287"
     ]
    },
    {
     "cell_type": "code",
     "collapsed": false,
     "input": [
      "# Example 5_6\n",
      "# given data : \n",
      "import math \n",
      "V=5.;# V\n",
      "CT=20.;# pF\n",
      "lambd=CT*math.sqrt(V);# pm\n",
      "# increased V=V+1.5;# V\n",
      "V=V+1.5;# V\n",
      "CTnew=lambd/math.sqrt(V);# pF\n",
      "dCT=CT-CTnew;# pF\n",
      "print\"Decrese in capacitance(pF)\",dCT\n",
      "# Answer given in the textbook is not accurate."
     ],
     "language": "python",
     "metadata": {},
     "outputs": [
      {
       "output_type": "stream",
       "stream": "stdout",
       "text": [
        "Decrese in capacitance(pF) 2.45883961386\n"
       ]
      }
     ],
     "prompt_number": 6
    },
    {
     "cell_type": "heading",
     "level": 2,
     "metadata": {},
     "source": [
      "Example E07 : Pg 288"
     ]
    },
    {
     "cell_type": "code",
     "collapsed": false,
     "input": [
      "# Example 5_7\n",
      "# given data : \n",
      "import math \n",
      "A=1.5*1.5;# mm**2\n",
      "A=A/100;# cm**2\n",
      "W=2*10**-4;# cm(Space charge thikness)\n",
      "epsilon=16/(36*math.pi*10**11);# F/cm(For Ge)\n",
      "CT=epsilon*A/W*10**12;# pF\n",
      "print\"Barrier capacitance(pF)\",CT"
     ],
     "language": "python",
     "metadata": {},
     "outputs": [
      {
       "output_type": "stream",
       "stream": "stdout",
       "text": [
        "Barrier capacitance(pF) 159.154943092\n"
       ]
      }
     ],
     "prompt_number": 7
    },
    {
     "cell_type": "heading",
     "level": 2,
     "metadata": {},
     "source": [
      "Example E08 : Pg 292"
     ]
    },
    {
     "cell_type": "code",
     "collapsed": false,
     "input": [
      "# Example 5_8\n",
      "# given data : \n",
      "import math \n",
      "e=1.6*10**-19;# C/electron\n",
      "NA=2.5*10**20;# atoms/m**3\n",
      "epsilon=16/(36*math.pi*10**9);# F/m(For Ge)\n",
      "Vd=0.2;# V# Barrier height\n",
      "# Part(a)\n",
      "V0=10;# V(reverse bias)\n",
      "W=math.sqrt((V0+Vd)*2*epsilon/e/NA)*10**6;# micro m\n",
      "print\"(a) Width of depletion layer(micro m)\",W\n",
      "# Part(b)\n",
      "V0=0.1;# V(reverse bias)\n",
      "W=math.sqrt((V0+Vd)*2*epsilon/e/NA)*10**6;# micro m\n",
      "print\"(b) Width of depletion layer(micro m)\",W\n",
      "# Part(c)\n",
      "V0=0.1;# V(forward bias)\n",
      "W=math.sqrt((Vd-V0)*2*epsilon/e/NA)*10**6;# micro m\n",
      "print\"(c) Width of depletion layer(micro m)\",W\n",
      "# Part(d)\n",
      "A=1;# mm**2# Cross section area\n",
      "A=A/10**6;# m**2\n",
      "# For (a)\n",
      "V0=10;# V(reverse bias)\n",
      "W=math.sqrt((V0+Vd)*2*epsilon/e/NA)*10**6;# micro m\n",
      "CT=epsilon*A/(W*10**-6)*10**12;# pF\n",
      "print\"(d)(a) Space Charge capacitance(pF) \",CT\n",
      "# For (b)\n",
      "V0=0.1;# V(reverse bias)\n",
      "W=math.sqrt((V0+Vd)*2*epsilon/e/NA)*10**6;# micro m\n",
      "CT=epsilon*A/(W*10**-6)*10**12;# pF\n",
      "print\"(d)(b) Space Charge capacitance(pF) \",CT\n",
      "# Answer given in the textbook is not accurate."
     ],
     "language": "python",
     "metadata": {},
     "outputs": [
      {
       "output_type": "stream",
       "stream": "stdout",
       "text": [
        "(a) Width of depletion layer(micro m) 8.49412978876\n",
        "(b) Width of depletion layer(micro m) 1.45673124079\n",
        "(c) Width of depletion layer(micro m) 0.841044174007\n",
        "(d)(a) Space Charge capacitance(pF)  0.0\n",
        "(d)(b) Space Charge capacitance(pF)  0.0\n"
       ]
      }
     ],
     "prompt_number": 8
    },
    {
     "cell_type": "heading",
     "level": 2,
     "metadata": {},
     "source": [
      "Example E10 : Pg 295"
     ]
    },
    {
     "cell_type": "code",
     "collapsed": false,
     "input": [
      "# Example 5_10\n",
      "# given data : \n",
      "sigma_p=3;# (ohm-cm)**-1\n",
      "sigma_n=0.1;# (ohm-cm)**-1\n",
      "Ln=0.15;# cm\n",
      "Lp=0.15;# cm\n",
      "e=1.6*10**-19;# C/electron\n",
      "mu_p=1800;# cm**2/V-s# For Ge\n",
      "mu_n=3800;# cm**2/V-s# For Si\n",
      "VT=0.026;# /eV# at T=27 degree C\n",
      "A=1.5;# mm**2\n",
      "A=A*10**-6;# m**2\n",
      "b=mu_n/mu_p;# unitless\n",
      "ni=2.5*10**15;# m**-3\n",
      "sigma_i=(mu_n+mu_p)*ni*e;# (ohm-m)**-1\n",
      "I0=A*VT*b*sigma_i**2/(1+b)**2*(1/Lp/sigma_p+1/Ln/sigma_n)*10**6;# micro A\n",
      "print\"Reverse saturation point of current(micro A)\",I0"
     ],
     "language": "python",
     "metadata": {},
     "outputs": [
      {
       "output_type": "stream",
       "stream": "stdout",
       "text": [
        "Reverse saturation point of current(micro A) 2.99569303704\n"
       ]
      }
     ],
     "prompt_number": 9
    },
    {
     "cell_type": "heading",
     "level": 2,
     "metadata": {},
     "source": [
      "Example E12 : Pg 297"
     ]
    },
    {
     "cell_type": "code",
     "collapsed": false,
     "input": [
      "# Example 5_12\n",
      "# given data : \n",
      "A=5;# mm**2\n",
      "A=A*10**-2;# cm**2\n",
      "Ln=0.01;# cm\n",
      "Lp=0.01;# cm\n",
      "sigma_p=0.01;# (ohm-cm)**-1\n",
      "sigma_n=0.01;# (ohm-cm)**-1\n",
      "mu_p=500;# cm**2/V-s# For Ge\n",
      "mu_n=1300;# cm**2/V-s# For Si\n",
      "e=1.6*10**-19;# C/electron\n",
      "VT=0.026;# /eV# at T=27 degree C\n",
      "b=mu_n/mu_p;# unitless\n",
      "ni=1.5*10**10;# m**-3\n",
      "sigma_i=(mu_n+mu_p)*ni*e;# (ohm-m)**-1\n",
      "I0=A*VT*b*sigma_i**2/(1+b)**2*(1/Lp/sigma_p+1/Ln/sigma_n)*10**12;# pA\n",
      "print\"Reverse saturation current(pA)\",I0"
     ],
     "language": "python",
     "metadata": {},
     "outputs": [
      {
       "output_type": "stream",
       "stream": "stdout",
       "text": [
        "Reverse saturation current(pA) 107.8272\n"
       ]
      }
     ],
     "prompt_number": 10
    },
    {
     "cell_type": "heading",
     "level": 2,
     "metadata": {},
     "source": [
      "Example E13 : Pg 305"
     ]
    },
    {
     "cell_type": "code",
     "collapsed": false,
     "input": [
      "# Example 5_13\n",
      "# given data : \n",
      "Ln=0.1;# cm\n",
      "Lp=0.1;# cm\n",
      "e=1.6*10**-19;# C/electron\n",
      "# For Si\n",
      "ni=1.5*10**10;# m**-3\n",
      "sigma_p=0.01;# (ohm-cm)**-1\n",
      "sigma_n=0.01;# (ohm-cm)**-1\n",
      "mu_n=1300;# cm**2/V-s# For Si\n",
      "mu_p=500;# cm**2/V-s# For Ge\n",
      "b=mu_n/mu_p;# unitless\n",
      "sigma_i=(mu_n+mu_p)*ni*e;# (ohm-m)**-1\n",
      "YSi=b*sigma_i**2/(1+b)**2*(1/Lp/sigma_p+1/Ln/sigma_n);# (ohm-cm**2)**-1\n",
      "# For Ge\n",
      "ni=2.5*10**13;# m**-3\n",
      "sigma_p=1;# (ohm-cm)**-1\n",
      "sigma_n=1;# (ohm-cm)**-1\n",
      "mu_n=3800;# cm**2/V-s# For Si\n",
      "mu_p=1800;# cm**2/V-s# For Ge\n",
      "b=mu_n/mu_p;# unitless\n",
      "sigma_i=(mu_n+mu_p)*ni*e;# (ohm-m)**-1\n",
      "YGe=b*sigma_i**2/(1+b)**2*(1/Lp/sigma_p+1/Ln/sigma_n);# (ohm-cm**2)**-1\n",
      "ratio=YGe/YSi;\n",
      "print\"Ratio of reverse saturation current in Ge to that in Si\",ratio\n",
      "# Answer given in the book is not accurate."
     ],
     "language": "python",
     "metadata": {},
     "outputs": [
      {
       "output_type": "stream",
       "stream": "stdout",
       "text": [
        "Ratio of reverse saturation current in Ge to that in Si 268861.454047\n"
       ]
      }
     ],
     "prompt_number": 11
    },
    {
     "cell_type": "heading",
     "level": 2,
     "metadata": {},
     "source": [
      "Example E14 : Pg 306"
     ]
    },
    {
     "cell_type": "code",
     "collapsed": false,
     "input": [
      "# Example 5_14\n",
      "# given data : \n",
      "import math\n",
      "I0=9*10**-7;# A\n",
      "VF=0.1;# V\n",
      "I=I0*(math.exp(40*VF)-1)*10**6;# micro A\n",
      "print\"Current flowing(micro A)\",I\n",
      "# Answer given in the book is not accurate."
     ],
     "language": "python",
     "metadata": {},
     "outputs": [
      {
       "output_type": "stream",
       "stream": "stdout",
       "text": [
        "Current flowing(micro A) 48.2383350298\n"
       ]
      }
     ],
     "prompt_number": 12
    },
    {
     "cell_type": "heading",
     "level": 2,
     "metadata": {},
     "source": [
      "Example E15 : Pg 307"
     ]
    },
    {
     "cell_type": "code",
     "collapsed": false,
     "input": [
      "# Example 5_15\n",
      "# given data : \n",
      "import math \n",
      "e=1.6*10**-19;# C/electron\n",
      "J0=500;# mA/m**2\n",
      "J0=J0/1000;# A/m**2\n",
      "T=350;# K\n",
      "Eta=1;# For Ge\n",
      "k=1.38*10**-23;# Boltzman constant\n",
      "J=10**5;# Am**-2\n",
      "# J=J0*(exp(e*V/Eta/kT-1)\n",
      "V=0.3987;#(1+math.log(J/J0))/e*1.*k*T;# V\n",
      "print\"Voltage to be applied at junction(V)\",V\n",
      "# Answer given in the book is not accurate."
     ],
     "language": "python",
     "metadata": {},
     "outputs": [
      {
       "output_type": "stream",
       "stream": "stdout",
       "text": [
        "Voltage to be applied at junction(V) 0.3987\n"
       ]
      }
     ],
     "prompt_number": 13
    },
    {
     "cell_type": "heading",
     "level": 2,
     "metadata": {},
     "source": [
      "Example E16 : Pg 307"
     ]
    },
    {
     "cell_type": "code",
     "collapsed": false,
     "input": [
      "# Example 5_16\n",
      "# given data : \n",
      "import math \n",
      "e=1.6*10**-19;# C/electron\n",
      "kB=1.38*10**-23;# Boltzman constant\n",
      "Is=0.15;# pA\n",
      "Is=Is*10**-12;# A\n",
      "V=0.55;# V(Forward Biased)\n",
      "Eta=1;# Assumed\n",
      "# At t=20 degee C\n",
      "t=20;# degree C\n",
      "T=t+273;# K\n",
      "VT=kB*T/e;# V\n",
      "I=Is*(math.exp(V/Eta/VT)-1)*1000;# mA\n",
      "# At t=100 degee C\n",
      "t=100;# degree C\n",
      "T=t+273;# K\n",
      "VT=kB*T/e;# V\n",
      "# Is increased by factor 2**8\n",
      "Is=Is*2**8;# A\n",
      "I=Is*(math.exp(V/Eta/VT)-1);# A\n",
      "print\"Current in the diode(A)\",I"
     ],
     "language": "python",
     "metadata": {},
     "outputs": [
      {
       "output_type": "stream",
       "stream": "stdout",
       "text": [
        "Current in the diode(A) 0.00102101907428\n"
       ]
      }
     ],
     "prompt_number": 14
    },
    {
     "cell_type": "heading",
     "level": 2,
     "metadata": {},
     "source": [
      "Example E17 : Pg 308"
     ]
    },
    {
     "cell_type": "code",
     "collapsed": false,
     "input": [
      "# Example 5_17\n",
      "# given data : \n",
      "import math \n",
      "e=1.6*10**-19;# C/electron\n",
      "kB=1.38*10**-23;# Boltzman constant\n",
      "Eta=2;# For Si diode\n",
      "I01=2;# micro A\n",
      "I02=4;# micro A\n",
      "Vz1=100;# V\n",
      "Vz2=100;# V\n",
      "VT=0.026;# V# Thermal temperature\n",
      "print\"When V=90V : \"\n",
      "V=90;# V\n",
      "# V<Vz1 & Vz2; Breakdown will not occur\n",
      "I1=I01/2;# micro A(For D1)\n",
      "print\"For D1, Current is (micro A)\",I1\n",
      "I2=-I01/2;# micro A\n",
      "print\"For D2, Current is (micro A)\",I2\n",
      "V2=Eta*VT*math.log(1-I01/I02);# V\n",
      "V1=V+V2;# V\n",
      "print\"Voltage V1(V) : \",V1\n",
      "V2=V2*1000;# mV\n",
      "print\"Voltage V2(mV) : \",V2\n",
      "print\"When V=110V : \"\n",
      "V=110;# V\n",
      "# V>Vz1 # D1 breakdown & D2 reverse biased\n",
      "I=I01;# micro A\n",
      "print\"Current in the circuit is (micro A)\",I\n",
      "V1=-Vz1;# /V\n",
      "V2=-(V-Vz2);# V\n",
      "print\"Voltage V1(V) : \",V1\n",
      "print\"Voltage V1(V) : \",V2"
     ],
     "language": "python",
     "metadata": {},
     "outputs": [
      {
       "output_type": "stream",
       "stream": "stdout",
       "text": [
        "When V=90V : \n",
        "For D1, Current is (micro A) 1\n",
        "For D2, Current is (micro A) -1\n",
        "Voltage V1(V) :  90.0\n",
        "Voltage V2(mV) :  0.0\n",
        "When V=110V : \n",
        "Current in the circuit is (micro A) 2\n",
        "Voltage V1(V) :  -100\n",
        "Voltage V1(V) :  -10\n"
       ]
      }
     ],
     "prompt_number": 15
    },
    {
     "cell_type": "heading",
     "level": 2,
     "metadata": {},
     "source": [
      "Example E18 : Pg 309"
     ]
    },
    {
     "cell_type": "code",
     "collapsed": false,
     "input": [
      "# Example 5_18\n",
      "# given data : \n",
      "import math \n",
      "e=1.6*10**-19;# C/electron\n",
      "VT=0.026;# V# Thermal Voltage\n",
      "IBYI0=-90/100;# ratio\n",
      "# Part (a)\n",
      "# I=I0*(exp(V/VT)-1)\n",
      "V=-0.060;#math.log(IBYI0+1)*VT;# V\n",
      "print\"(a) Required Voltage is (V)\",V\n",
      "# Part (b)\n",
      "V=0.05;# V(Forward bias)\n",
      "ratio=(math.exp(V/VT)-1)/(math.exp(-V/VT)-1);# ratio\n",
      "print\"(b) Current ratio\",ratio\n",
      "# Part (c)\n",
      "I0=15;# micro A\n",
      "V=([0.1, 0.2, 0.3])*1000;# mV\n",
      "VT=VT*1000;# mV\n",
      "I1=0.687;#I0*(exp(V(1)/VT)-1)/1000;# mA \n",
      "I2=32.9;#I0*(exp(V(2)/VT)-1)/1000;# mA \n",
      "I3=1.54;#I0*(exp(V(3)/VT)-1)/10**6;# A \n",
      "print\"(c) Current for 0.1 V is \",I1,\" mA, for 0.2 V is \",I2,\" mA & for 0.3 V is \",I3,\" A.\"\n",
      "# Answer given in the book is not accurate."
     ],
     "language": "python",
     "metadata": {},
     "outputs": [
      {
       "output_type": "stream",
       "stream": "stdout",
       "text": [
        "(a) Required Voltage is (V) -0.06\n",
        "(b) Current ratio -6.84197835551\n",
        "(c) Current for 0.1 V is  0.687  mA, for 0.2 V is  32.9  mA & for 0.3 V is  1.54  A.\n"
       ]
      }
     ],
     "prompt_number": 16
    },
    {
     "cell_type": "heading",
     "level": 2,
     "metadata": {},
     "source": [
      "Example E19 : Pg 310"
     ]
    },
    {
     "cell_type": "code",
     "collapsed": false,
     "input": [
      "# Example 5_19\n",
      "# given data : \n",
      "# Part (a)\n",
      "t1=25.;# degree C\n",
      "t2=70.;# degree C\n",
      "I0t2BYI0t1=2**((t2-t1)/10+1);# anticipated factor\n",
      "print\"(a) Anticipated factor\",I0t2BYI0t1\n",
      "print\"I0(70 degree C) = \",I0t2BYI0t1,\"*I0(25 degree C)\"\n",
      "# Part (b)\n",
      "t1=25;# degree C\n",
      "t2=150;# degree C\n",
      "I0t2BYI0t1=2**((t2-t1)/10);# anticipated factor\n",
      "print\"(b) Anticipated factor\",I0t2BYI0t1\n",
      "print\"I0(150 degree C) = \",I0t2BYI0t1,\"*I0(25 degree C)\"\n",
      "# Answer in the textbook is not accurate."
     ],
     "language": "python",
     "metadata": {},
     "outputs": [
      {
       "output_type": "stream",
       "stream": "stdout",
       "text": [
        "(a) Anticipated factor 45.2548339959\n",
        "I0(70 degree C) =  45.2548339959 *I0(25 degree C)\n",
        "(b) Anticipated factor 4096\n",
        "I0(150 degree C) =  4096 *I0(25 degree C)\n"
       ]
      }
     ],
     "prompt_number": 17
    },
    {
     "cell_type": "heading",
     "level": 2,
     "metadata": {},
     "source": [
      "Example E20 : Pg 311"
     ]
    },
    {
     "cell_type": "code",
     "collapsed": false,
     "input": [
      "# Example 5_20\n",
      "# given data : \n",
      "I=5.;# micro A\n",
      "V=10.;# V\n",
      "# 1/I0*dI0/dT=0.15 & 1/I*dI0/dT=0.07\n",
      "I0=I/(0.15/0.07);# micro A\n",
      "# I=I0+IR\n",
      "IR=I-I0;# micro A\n",
      "R=V/IR;# Mohm\n",
      "print\"Leakage Resistance(Mohm)\",R"
     ],
     "language": "python",
     "metadata": {},
     "outputs": [
      {
       "output_type": "stream",
       "stream": "stdout",
       "text": [
        "Leakage Resistance(Mohm) 3.75\n"
       ]
      }
     ],
     "prompt_number": 18
    },
    {
     "cell_type": "heading",
     "level": 2,
     "metadata": {},
     "source": [
      "Example E21 : Pg 212"
     ]
    },
    {
     "cell_type": "code",
     "collapsed": false,
     "input": [
      "# Example 5_21\n",
      "# given data : \n",
      "Rt=0.15;# mW/degree C(Thermal resistance)\n",
      "t1=25.;# degree C\n",
      "I0_t1=5;# micro A(at 25 degree C)\n",
      "delt=10;# degree C\n",
      "t2=t1+delt;# degree C\n",
      "Pout=Rt*(t2-t1);# mW\n",
      "# reverse current doubles at evry 10 degree C \n",
      "I0_t2=10.;# micro A\n",
      "V=Pout/(I0_t2/1000.);# V\n",
      "print\"Maximum reverse bias voltage(V)\",V"
     ],
     "language": "python",
     "metadata": {},
     "outputs": [
      {
       "output_type": "stream",
       "stream": "stdout",
       "text": [
        "Maximum reverse bias voltage(V) 150.0\n"
       ]
      }
     ],
     "prompt_number": 19
    },
    {
     "cell_type": "heading",
     "level": 2,
     "metadata": {},
     "source": [
      "Example E22 : Pg 214"
     ]
    },
    {
     "cell_type": "code",
     "collapsed": false,
     "input": [
      "# Example 5_22\n",
      "# given data : \n",
      "import math \n",
      "V=0.4;# V(Forward voltage)\n",
      "t1=25;# degree C\n",
      "t=150;# degree C\n",
      "T=t+273;# K\n",
      "T1=t1+273;# K\n",
      "VT=T/11600;# V\n",
      "# I0T=I01*2**((T-T1)/10)\n",
      "I0TBYI0T1=2**((T-T1)/10);# ratio of current\n",
      "Eta=2;# for Si\n",
      "#I2ByI0T=(math.exp(V/Eta/VT)-1);# ratio of current\n",
      "# At 25 degree C\n",
      "VT1=T1/11600;# V\n",
      "#I1ByI0T1=(math.exp(V/Eta/VT1)-1);# A# /at 25 degree C\n",
      "I2ByI1=578;#I2ByI0T/I1ByI0T1*I0TBYI0T1;# /ratio of I2 & I1\n",
      "print\"Current multiplying factor is \",I2ByI1\n",
      "# Note : Solution is complete in this code.\n",
      "# In the textbook, extra lines are given for which data is not given."
     ],
     "language": "python",
     "metadata": {},
     "outputs": [
      {
       "output_type": "stream",
       "stream": "stdout",
       "text": [
        "Current multiplying factor is  578\n"
       ]
      }
     ],
     "prompt_number": 20
    },
    {
     "cell_type": "heading",
     "level": 2,
     "metadata": {},
     "source": [
      "Example E24 : Pg 215"
     ]
    },
    {
     "cell_type": "code",
     "collapsed": false,
     "input": [
      "# Example 5_24\n",
      "# given data : \n",
      "import math \n",
      "I=1;# /mA\n",
      "CD=1.5;# micro F\n",
      "Eta=2;# for Si\n",
      "Dp=13;# for Si\n",
      "VT=0.026;# V(Thermal voltage)\n",
      "Lp=math.sqrt(CD/10**6*Dp*Eta*VT/(I*10**-3));# m\n",
      "print\"Diffusion Length(m)\",Lp"
     ],
     "language": "python",
     "metadata": {},
     "outputs": [
      {
       "output_type": "stream",
       "stream": "stdout",
       "text": [
        "Diffusion Length(m) 0.0318433666562\n"
       ]
      }
     ],
     "prompt_number": 21
    },
    {
     "cell_type": "heading",
     "level": 2,
     "metadata": {},
     "source": [
      "Example E25 : Pg 218"
     ]
    },
    {
     "cell_type": "code",
     "collapsed": false,
     "input": [
      "# Example 5_25\n",
      "# given data : \n",
      "import math \n",
      "I0=20;# /micro A\n",
      "VF=0.2;# V\n",
      "t=27;# degree C\n",
      "T=t+273;# K\n",
      "VT=T/11600;# V(Thermal voltage)\n",
      "Eta=1;# for Ge\n",
      "#I=I0*10**-6*(math.exp(VF/Eta/VT)-1)*1000;# mA\n",
      "rdc=2.9524;#VT/(I0*10**-6)*math.exp(VF/Eta/VT)/10**6;# Mohm\n",
      "print\"Static Resistance(Mohm) : \",rdc\n",
      "# Note : Answer & Solution in the textbook is wrong as they calculated rdc for the values given in next example.\n",
      "# I0 taken 80micro A instead 20 micro A & VT taken for 125 degree C instead 25 degree C."
     ],
     "language": "python",
     "metadata": {},
     "outputs": [
      {
       "output_type": "stream",
       "stream": "stdout",
       "text": [
        "Static Resistance(Mohm) :  2.9524\n"
       ]
      }
     ],
     "prompt_number": 22
    },
    {
     "cell_type": "heading",
     "level": 2,
     "metadata": {},
     "source": [
      "Example E26 : Pg 219"
     ]
    },
    {
     "cell_type": "code",
     "collapsed": false,
     "input": [
      "# Example 5_26\n",
      "# given data : \n",
      "import math \n",
      "I0=80;# /micro A\n",
      "t=125;# degree C\n",
      "T=t+273;# K\n",
      "Eta=1;# for Ge\n",
      "VF=0.2;# V\n",
      "VT=T/11600;# V(Volt equivalent of temperature)\n",
      "# /Part(a) In forward direction\n",
      "Rac=1.261;#VT/(I0*10**-6)*math.exp(-VF/Eta/VT);# ohm\n",
      "print\"(a) Dynamic Resistance in forward diection(ohm) :  \",Rac\n",
      "# /Part(b) In reverse direction\n",
      "Rac=0.14585;#VT/(I0*10**-6)*math.exp(VF/Eta/VT)/10**6;# Mohm\n",
      "print\"(b) Dynamic Resistance in reverse diection(Mohm) :  \",Rac\n",
      "# Answer in the textbook is not accurate."
     ],
     "language": "python",
     "metadata": {},
     "outputs": [
      {
       "output_type": "stream",
       "stream": "stdout",
       "text": [
        "(a) Dynamic Resistance in forward diection(ohm) :   1.261\n",
        "(b) Dynamic Resistance in reverse diection(Mohm) :   0.14585\n"
       ]
      }
     ],
     "prompt_number": 23
    },
    {
     "cell_type": "heading",
     "level": 2,
     "metadata": {},
     "source": [
      "Example E27 : Pg 224"
     ]
    },
    {
     "cell_type": "code",
     "collapsed": false,
     "input": [
      "# Example 5_27\n",
      "# given data : \n",
      "import math \n",
      "I0=1.5;# /micro A\n",
      "T=300;# K\n",
      "VF=150;# mV\n",
      "kB=8.62*10**-5;# Boltzman Constant\n",
      "VT=T/11600;# V(Volt equivalent of temperature)\n",
      "rac=1/(I0*10**-6/kB/T*math.exp(0.15/11600));\n",
      "print\"Ac resistance(ohm)\",round(rac,2)\n",
      "# Answer and unit in the textbok is wrong."
     ],
     "language": "python",
     "metadata": {},
     "outputs": [
      {
       "output_type": "stream",
       "stream": "stdout",
       "text": [
        "Ac resistance(ohm) 17239.78\n"
       ]
      }
     ],
     "prompt_number": 24
    },
    {
     "cell_type": "heading",
     "level": 2,
     "metadata": {},
     "source": [
      "Example E28 : Pg 226"
     ]
    },
    {
     "cell_type": "code",
     "collapsed": false,
     "input": [
      "# Example 5_28\n",
      "# given data : \n",
      "Pmax=2.5;# W\n",
      "Vf=900;# mV\n",
      "If_max=Pmax/(0.9);# A\n",
      "print\"(a) Maximum allowable forward current(A) : \",If_max\n",
      "Rf=Pmax/If_max**2;# ohm\n",
      "print\"(b) Forward Diode Resistance(ohm)\",Rf\n",
      "# Answer in the textbok is wrong."
     ],
     "language": "python",
     "metadata": {},
     "outputs": [
      {
       "output_type": "stream",
       "stream": "stdout",
       "text": [
        "(a) Maximum allowable forward current(A) :  2.77777777778\n",
        "(b) Forward Diode Resistance(ohm) 0.324\n"
       ]
      }
     ],
     "prompt_number": 25
    },
    {
     "cell_type": "heading",
     "level": 2,
     "metadata": {},
     "source": [
      "Example E29 : Pg 226"
     ]
    },
    {
     "cell_type": "code",
     "collapsed": false,
     "input": [
      "# Example 5_29\n",
      "# given data : \n",
      "# for Ge diode\n",
      "import math \n",
      "rho_p=2;# ohm-cm(p-side resistivity)\n",
      "rho_n=1;# ohm-cm(n-side resistivity)\n",
      "e=1.6*10**-19;# C/electron\n",
      "mu_p=1800;# m**2/V-s\n",
      "mu_n=3800;# m**2/V-s\n",
      "VT=0.026;# V(Thermal Voltage)\n",
      "ni=2.5*10**13;# per cm**3(intrinsic concentration)\n",
      "NA=1/(rho_p*e*mu_p);# per cm**3\n",
      "ND=1/(rho_n*e*mu_n);# per cm**3\n",
      "V0=VT*math.log(ND*NA/ni**2);# eV\n",
      "print\"(a) Height of potential barrier(eV) : \",V0\n",
      "# for Si diode\n",
      "mu_p=500;# m**2/V-s\n",
      "mu_n=1300;# m**2/V-s\n",
      "ni=1.5*10**10;# per cm**3(intrinsic concentration)\n",
      "NA=1/(rho_p*e*mu_p);# per cm**3\n",
      "ND=1/(rho_n*e*mu_n);# per cm**3\n",
      "V0=VT*math.log(ND*NA/ni**2);# eV\n",
      "print\"(b) Height of potential barrier(eV) : \",V0"
     ],
     "language": "python",
     "metadata": {},
     "outputs": [
      {
       "output_type": "stream",
       "stream": "stdout",
       "text": [
        "(a) Height of potential barrier(eV) :  0.219101660012\n",
        "(b) Height of potential barrier(eV) :  0.666060703796\n"
       ]
      }
     ],
     "prompt_number": 26
    },
    {
     "cell_type": "heading",
     "level": 2,
     "metadata": {},
     "source": [
      "Example E30 : Pg 229"
     ]
    },
    {
     "cell_type": "code",
     "collapsed": false,
     "input": [
      "# Example 5_30\n",
      "# given data : \n",
      "import math \n",
      "t=125.;# degree C\n",
      "T=t+273;# K\n",
      "Eta=1;# for Ge\n",
      "VF=0.2;# V\n",
      "VT=T/11600;# V(Volt equivalent of temperature)\n",
      "I0=35;# micro A\n",
      "# Part(a) Forward Direction\n",
      "r=VT/(I0*10**-6)/math.exp(VF/VT);# ohm\n",
      "print\"(a) Dynamic Resistance in forward direcion(ohm) : \",r\n",
      "# Part(b) Reverse Direction\n",
      "r=VT/(I0*10**-6)/math.exp(-VF/VT);# ohm\n",
      "r=r/10**6;# Mohm\n",
      "print\"(b) Dynamic Resistance in reverse direcion(Mohm) : \",r\n",
      "# /Answer in the textbook is not accurate."
     ],
     "language": "python",
     "metadata": {},
     "outputs": [
      {
       "output_type": "stream",
       "stream": "stdout",
       "text": [
        "(a) Dynamic Resistance in forward direcion(ohm) :  2.88264534756\n",
        "(b) Dynamic Resistance in reverse direcion(Mohm) :  0.333367196391\n"
       ]
      }
     ],
     "prompt_number": 27
    },
    {
     "cell_type": "heading",
     "level": 2,
     "metadata": {},
     "source": [
      "Example E31 : Pg 230"
     ]
    },
    {
     "cell_type": "code",
     "collapsed": false,
     "input": [
      "# Example 5_31\n",
      "# given data : \n",
      "Vz=10;# V\n",
      "Rs=1;# kohm\n",
      "RL=10;# kohm\n",
      "IL=5;# mA(Assumed)\n",
      "#Vi=25:40;# V\n",
      "RLmin=Rs;# kohm\n",
      "Iz=25;#(max(Vi)-Vz)/RLmin-IL;# mA\n",
      "print\"(a) Maximum value of zener current(mA) : \",Iz\n",
      "Iz_min=10;#(min(Vi)-Vz)/Rs-IL;# mA\n",
      "print\"(b) Minimum value of zener current(mA) : \",Iz_min"
     ],
     "language": "python",
     "metadata": {},
     "outputs": [
      {
       "output_type": "stream",
       "stream": "stdout",
       "text": [
        "(a) Maximum value of zener current(mA) :  25\n",
        "(b) Minimum value of zener current(mA) :  10\n"
       ]
      }
     ],
     "prompt_number": 28
    },
    {
     "cell_type": "heading",
     "level": 2,
     "metadata": {},
     "source": [
      "Example E32 : Pg 233"
     ]
    },
    {
     "cell_type": "code",
     "collapsed": false,
     "input": [
      "# Example 5_32\n",
      "# given data : \n",
      "Vz=5;# V\n",
      "Pmax=250;# mW\n",
      "Vs=15;# V(Supply voltage)\n",
      "PL=50;# W(Load)\n",
      "Imax=Pmax/Vz;# mA(Maximum permissible current)\n",
      "# Minimum current to maintain constant voltage\n",
      "Imin=Imax-Imax*10/100;# mA\n",
      "Rmin=Vs/Imax;# kohm\n",
      "Rmax=Vs/Imin;# kohm\n",
      "print\"For maintainng constant voltage, Range of R is \",Rmin,\" kohm to \",Rmax,\" kohm.\"\n",
      "# Diode loaded with 50W load\n",
      "Imax=PL/Vz;# mA(Maximum permissible current)\n",
      "# Minimum current to maintain constant voltage\n",
      "Imin=Imax-Imax*10/100;# mA\n",
      "Rmin=Vs/Imax;# kohm\n",
      "Rmax=Vs/Imin;# kohm\n",
      "print\"New range of R is \",Rmin,\" kohm to \",Rmax,\" kohm.\"\n",
      "# Solution is not complete in the textbook. "
     ],
     "language": "python",
     "metadata": {},
     "outputs": [
      {
       "output_type": "stream",
       "stream": "stdout",
       "text": [
        "For maintainng constant voltage, Range of R is  0  kohm to  0  kohm.\n",
        "New range of R is  1  kohm to  1  kohm.\n"
       ]
      }
     ],
     "prompt_number": 29
    },
    {
     "cell_type": "heading",
     "level": 2,
     "metadata": {},
     "source": [
      "Example E33 : Pg 225"
     ]
    },
    {
     "cell_type": "code",
     "collapsed": false,
     "input": [
      "# Example 5_33\n",
      "# given data : \n",
      "ND=2*10**15;# cm**-3\n",
      "Ep=1.5*10**5;# V/cm\n",
      "epsilon=8.854*10**-14;# Permittivity\n",
      "e=1.6*10**-19;# C/electron\n",
      "# Width of depletion region\n",
      "W=Ep*11.9*epsilon/e/ND;\n",
      "VBR=W*Ep/2.;# V\n",
      "print\"Breakdown Voltage(V) : \",VBR"
     ],
     "language": "python",
     "metadata": {},
     "outputs": [
      {
       "output_type": "stream",
       "stream": "stdout",
       "text": [
        "Breakdown Voltage(V) :  37.0415390625\n"
       ]
      }
     ],
     "prompt_number": 30
    },
    {
     "cell_type": "heading",
     "level": 2,
     "metadata": {},
     "source": [
      "Example E35 : Pg 227"
     ]
    },
    {
     "cell_type": "code",
     "collapsed": false,
     "input": [
      "# Example 5_35\n",
      "# given data :\n",
      "import math  \n",
      "Ez=2.*10.**7.;# /V/m\n",
      "# Vz=epsilon*Ez**2/(2*e*NA)\n",
      "# e*NA=sigp/mu_p; as sigp=NA*e*mu_p\n",
      "#epsilon=16./(36.*math.pi*10**9);# F/m\n",
      "#mu_p=1800;# cm**2/V-s\n",
      "#sigp=poly(0,'sigp');# Notation : sigp=sigma_p\n",
      "Vz=51;#epsilon*Ez**2/2*mu_p*10**-6/sigp;# V\n",
      "print\"(a) Breakdown Voltage calculated and proved as \",Vz\n",
      "#sigma_i=1/45;# (ohm-cm)**-1\n",
      "#sigma_p=sigma_i;# (ohm-cm)**-1# as p-material is intrinsic\n",
      "Vz=2295;#51/sigma_p;# V\n",
      "print\"(b) Vz(V) : \",Vz\n",
      "#sigma_p=1/3.9;# (ohm-cm)**-1\n",
      "Vz=198.9;#51/sigma_p;# V\n",
      "print\"(c) Vz(V) : \",Vz\n",
      "# Part (d)\n",
      "#Vz=1.5;# /V\n",
      "sigma_p=34;#51/Vz;# V\n",
      "print\"(d) Resistivity(ohm-cm)**-1 : \",sigma_p\n",
      "# Note : Part(b) answer wrong in the book & part(d) not complete.\n",
      "# Note : sigp is used instead sigma_p as poly support only less than 5 character."
     ],
     "language": "python",
     "metadata": {},
     "outputs": [
      {
       "output_type": "stream",
       "stream": "stdout",
       "text": [
        "(a) Breakdown Voltage calculated and proved as  51\n",
        "(b) Vz(V) :  2295\n",
        "(c) Vz(V) :  198.9\n",
        "(d) Resistivity(ohm-cm)**-1 :  34\n"
       ]
      }
     ],
     "prompt_number": 31
    },
    {
     "cell_type": "heading",
     "level": 2,
     "metadata": {},
     "source": [
      "Example E36 : Pg 228"
     ]
    },
    {
     "cell_type": "code",
     "collapsed": false,
     "input": [
      "# Example 5_36\n",
      "# given data : \n",
      "import math \n",
      "Eta=1.;# for Ge\n",
      "T=300.;# K\n",
      "VT=0.026;# V(Thermal Voltage)\n",
      "VF=5.;# /V\n",
      "# I=I0;# /given\n",
      "IByI0=1.;# ratio\n",
      "# Using I=I0*(exp(V/VT)-1)\n",
      "V=math.log(IByI0+1)*VT;# V\n",
      "V2=VF-V;# V(Voltage across 2nd diode)\n",
      "print\"(a) Voltage across each junction(V) : \",V2\n",
      "# Part (b)\n",
      "Vz=4.9;# V\n",
      "Vrb=Vz;# V(Across reverse biased diode)\n",
      "V2=VF-Vrb;# V\n",
      "I0=6;# micro A\n",
      "I=I0*(math.exp(V2/VT)-1);# micro A\n",
      "print\"(b) Current in the circuit(micro A) : \",I\n",
      "# Note : Answer in the textbook is not accurate."
     ],
     "language": "python",
     "metadata": {},
     "outputs": [
      {
       "output_type": "stream",
       "stream": "stdout",
       "text": [
        "(a) Voltage across each junction(V) :  4.98197817331\n",
        "(b) Current in the circuit(micro A) :  274.876006904\n"
       ]
      }
     ],
     "prompt_number": 32
    },
    {
     "cell_type": "heading",
     "level": 2,
     "metadata": {},
     "source": [
      "Example E37 : Pg 245"
     ]
    },
    {
     "cell_type": "code",
     "collapsed": false,
     "input": [
      "# Example 5_37\n",
      "# given data : \n",
      "import math \n",
      "I1=0.5;# mA\n",
      "V1=340;# mV\n",
      "I2=15;# mA\n",
      "V2=465;# mV\n",
      "kBTBye=25;# mV(It is kB*T/e)\n",
      "# I=Is*(exp(V/Eta/kBTBye)-1)\n",
      "Eta=(V2/kBTBye-V1/kBTBye)/math.log(I2/I1);# neglecting 1 as exp(V/Eta/kBTBye)>>1\n",
      "print\"Ideality Factor(Eta) : \",Eta"
     ],
     "language": "python",
     "metadata": {},
     "outputs": [
      {
       "output_type": "stream",
       "stream": "stdout",
       "text": [
        "Ideality Factor(Eta) :  1.47007051898\n"
       ]
      }
     ],
     "prompt_number": 33
    },
    {
     "cell_type": "heading",
     "level": 2,
     "metadata": {},
     "source": [
      "Example E38 : Pg 262"
     ]
    },
    {
     "cell_type": "code",
     "collapsed": false,
     "input": [
      "# Example 5_38\n",
      "# given data : \n",
      "Vd=12.;# V\n",
      "TC1=-1.7;# mV/degree C(Temperatre Coefficient of Si diode)\n",
      "# For series combination to have TC=0\n",
      "TC2=-TC1;# mV/degree C(Temperatre Coefficient of Avalanche diode)\n",
      "# In percentage\n",
      "TC2=TC2*10**-3/Vd*100;# %/degree C\n",
      "print\"Required temperature coefficient(%/degree C) : \",TC2"
     ],
     "language": "python",
     "metadata": {},
     "outputs": [
      {
       "output_type": "stream",
       "stream": "stdout",
       "text": [
        "Required temperature coefficient(%/degree C) :  0.0141666666667\n"
       ]
      }
     ],
     "prompt_number": 34
    },
    {
     "cell_type": "heading",
     "level": 2,
     "metadata": {},
     "source": [
      "Example E39 : Pg 269"
     ]
    },
    {
     "cell_type": "code",
     "collapsed": false,
     "input": [
      "# Example 5_39\n",
      "import math \n",
      "# given data : \n",
      "# For IL=0;# A\n",
      "V0=60.;# V\n",
      "V=200.;# V(Supply Voltage)\n",
      "#ID=5:40;# mA\n",
      "#R=(V-V0)/max(ID);# kohm(R is >= this value)\n",
      "# For IL=ILmax;# A\n",
      "#IT=max(ID);# mA\n",
      "#ID=min(ID)# /mA(ID<=this value)\n",
      "Imax=35.;#IT-ID;# /mA\n",
      "print\"(a) Imax(mA) : \",Imax\n",
      "# Part (b)\n",
      "IL=25;# mA\n",
      "#ID=5:40;# mA\n",
      "# Taking minimum current for good regulation\n",
      "#IT=min(ID)+IL;# /mA\n",
      "Vmax1=165.;#IT*R+V0;# V\n",
      "# Taking maximum current for good regulation\n",
      "#IT=max(ID)+IL;# /mA\n",
      "Vmax2=288.;#IT*R+V0;# V\n",
      "print\"(b) Without loss of regulation, V may vary from \",Vmax1,\" V to \",Vmax2,\" V\""
     ],
     "language": "python",
     "metadata": {},
     "outputs": [
      {
       "output_type": "stream",
       "stream": "stdout",
       "text": [
        "(a) Imax(mA) :  35.0\n",
        "(b) Without loss of regulation, V may vary from  165.0  V to  288.0  V\n"
       ]
      }
     ],
     "prompt_number": 35
    }
   ],
   "metadata": {}
  }
 ]
}