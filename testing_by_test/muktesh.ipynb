{
 "cells": [
  {
   "cell_type": "markdown",
   "metadata": {},
   "source": [
    "# Chapter 5: Sequential Circuits, Flip flops & Multivibrators"
   ]
  },
  {
   "cell_type": "markdown",
   "metadata": {},
   "source": [
    "## Example 1, Page 183"
   ]
  },
  {
   "cell_type": "code",
   "execution_count": 1,
   "metadata": {
    "collapsed": false
   },
   "outputs": [
    {
     "name": "stdout",
     "output_type": "stream",
     "text": [
      "Required time=1.1 milli-seconds\n"
     ]
    }
   ],
   "source": [
    "#Variable declaration\n",
    "R=10*10**3;#external resistance ohm#\n",
    "C=0.1*10**-6;#timing capacitor Farad#\n",
    "\n",
    "#Calculations\n",
    "T=1.1*R*C;#time for which output remains high in monostable multivibrator using IC 555 timer#\n",
    "\n",
    "#Result\n",
    "print \"Required time=%.1f milli-seconds\"%(T*10**3)"
   ]
  },
  {
   "cell_type": "markdown",
   "metadata": {},
   "source": [
    "## Example 2, Page 183"
   ]
  },
  {
   "cell_type": "code",
   "execution_count": 1,
   "metadata": {
    "collapsed": false
   },
   "outputs": [
    {
     "name": "stdout",
     "output_type": "stream",
     "text": [
      "frequency=48.10 KH\n",
      "duty cycle=33.33 percent\n"
     ]
    }
   ],
   "source": [
    "#Variable declaration\n",
    "Ra=10*10**3  #ohms\n",
    "Rb=10*10**3  #ohms\n",
    "C=.001*10**-6 #F\n",
    "\n",
    "#Calculations&Results\n",
    "T1=.693*(Ra+Rb)*C;#charging time constant#\n",
    "T2=.693*Rb*C;#discharging time constant#\n",
    "T=T1+T2;#total time#\n",
    "f=1./T;#frequency#\n",
    "print 'frequency=%.2f KH'%(f*10**-3);\n",
    "D=T2/T;#duty cycle#\n",
    "D=D*100\n",
    "print 'duty cycle=%.2f percent'%D\n"
   ]
  },
  {
   "cell_type": "markdown",
   "metadata": {},
   "source": [
    "## Example 3, Page 184"
   ]
  },
  {
   "cell_type": "code",
   "execution_count": 3,
   "metadata": {
    "collapsed": false
   },
   "outputs": [
    {
     "name": "stdout",
     "output_type": "stream",
     "text": [
      "frequency=1.077 KH\n",
      "duty cycle=24.63 percent\n"
     ]
    }
   ],
   "source": [
    "#Variable declaration\n",
    "Ra=6.8*10**3  #ohms\n",
    "Rb=3.3*10**3  #ohms\n",
    "C=.1*10**-6   #F\n",
    "\n",
    "#Calculations&Results\n",
    "T1=.693*(Ra+Rb)*C;#charging time constant#\n",
    "T2= .693*Rb*C;#discharging time constant#\n",
    "T=T1+T2;#total time#\n",
    "f=1/T#frequency#\n",
    "print 'frequency=%.3f KH'%(f*10**-3)\n",
    "D=T2/T;#duty cycle#\n",
    "D=D*100\n",
    "print 'duty cycle=%.2f percent'%D"
   ]
  }
 ],
 "metadata": {
  "kernelspec": {
   "display_name": "Python 2",
   "language": "python",
   "name": "python2"
  },
  "language_info": {
   "codemirror_mode": {
    "name": "ipython",
    "version": 2
   },
   "file_extension": ".py",
   "mimetype": "text/x-python",
   "name": "python",
   "nbconvert_exporter": "python",
   "pygments_lexer": "ipython2",
   "version": "2.7.6"
  }
 },
 "nbformat": 4,
 "nbformat_minor": 0
}
