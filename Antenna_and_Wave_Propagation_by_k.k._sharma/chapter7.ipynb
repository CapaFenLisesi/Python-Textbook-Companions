{
 "metadata": {
  "name": "",
  "signature": ""
 },
 "nbformat": 3,
 "nbformat_minor": 0,
 "worksheets": [
  {
   "cells": [
    {
     "cell_type": "heading",
     "level": 1,
     "metadata": {},
     "source": [
      "chapter 07 : Antenna Measurements"
     ]
    },
    {
     "cell_type": "heading",
     "level": 2,
     "metadata": {},
     "source": [
      "Exa 7.1 : page 7.28"
     ]
    },
    {
     "cell_type": "code",
     "collapsed": false,
     "input": [
      "#given data :\n",
      "f=6.0 #in GHz\n",
      "f=f*10**9 #in Hz\n",
      "d=10 #in feet\n",
      "d=3.048 #in meter\n",
      "c=3*10**8 #in m/s\n",
      "lamda=c/f #in meters\n",
      "rmin=2*d**2/lamda #in meters\n",
      "print \"Minimum separation distance = %0.2f m\" %rmin"
     ],
     "language": "python",
     "metadata": {},
     "outputs": [
      {
       "output_type": "stream",
       "stream": "stdout",
       "text": [
        "Minimum separation distance = 371.61 m\n"
       ]
      }
     ],
     "prompt_number": 1
    },
    {
     "cell_type": "heading",
     "level": 2,
     "metadata": {},
     "source": [
      "Exa 7.2 : page 7.28"
     ]
    },
    {
     "cell_type": "code",
     "collapsed": false,
     "input": [
      "#given data :\n",
      "GP=12.5 #unitless\n",
      "P_dB=23 #in dB\n",
      "P=10**(P_dB/10) #unitless\n",
      "G=GP*P #unitless\n",
      "GdB=GP+P_dB #in dB\n",
      "print \"Gain of large antenna = %0.2f \"% GdB\n",
      "#Note : Answer in the book is wrong."
     ],
     "language": "python",
     "metadata": {},
     "outputs": [
      {
       "output_type": "stream",
       "stream": "stdout",
       "text": [
        "Gain of large antenna = 35.50 \n"
       ]
      }
     ],
     "prompt_number": 2
    },
    {
     "cell_type": "heading",
     "level": 2,
     "metadata": {},
     "source": [
      "Exa 7.3 : page 7.28"
     ]
    },
    {
     "cell_type": "code",
     "collapsed": false,
     "input": [
      "from math import log10\n",
      "#given data :\n",
      "print \"Open mouth aperture, D = 10*lambda\" \n",
      "print \"Power gain : GP = 6*(D/labda)**2\" \n",
      "GP=6*10**2 #unitless\n",
      "GPdB=10*log10(GP)\n",
      "print \"Power gain = %0.1f dB \" %GPdB "
     ],
     "language": "python",
     "metadata": {},
     "outputs": [
      {
       "output_type": "stream",
       "stream": "stdout",
       "text": [
        "Open mouth aperture, D = 10*lambda\n",
        "Power gain : GP = 6*(D/labda)**2\n",
        "Power gain = 27.8 dB \n"
       ]
      }
     ],
     "prompt_number": 5
    },
    {
     "cell_type": "heading",
     "level": 2,
     "metadata": {},
     "source": [
      "Exa 7.4 : page 7.28"
     ]
    },
    {
     "cell_type": "code",
     "collapsed": false,
     "input": [
      "#given data :\n",
      "f=30000. #in MHz\n",
      "f=f*10**6 #in Hz\n",
      "d=20 #in feet\n",
      "d=20*0.3048 #in meter\n",
      "c=3*10**8 #in m/s\n",
      "lamda=c/f #in meters\n",
      "r=2*d**2/lamda #in meters\n",
      "print \"Minimum distance between primary and secondary = %0.2f m\" %r\n",
      "# Answe wrong in the textbook."
     ],
     "language": "python",
     "metadata": {},
     "outputs": [
      {
       "output_type": "stream",
       "stream": "stdout",
       "text": [
        "Minimum distance between primary and secondary = 7432.24 m\n"
       ]
      }
     ],
     "prompt_number": 21
    },
    {
     "cell_type": "heading",
     "level": 2,
     "metadata": {},
     "source": [
      "Exa 7.5 : page 7.29"
     ]
    },
    {
     "cell_type": "code",
     "collapsed": false,
     "input": [
      "#given data :\n",
      "f=1.2 #in GHz\n",
      "f=f*10**9 #in Hz\n",
      "BWFN=5 #in degree\n",
      "c=3.0*10**8 #in m/s\n",
      "lamda=c/f #in meters\n",
      "D=140*lamda/BWFN #in meters\n",
      "print \"Diameter of a paraboloidal reflector = %0.2f m\" %D"
     ],
     "language": "python",
     "metadata": {},
     "outputs": [
      {
       "output_type": "stream",
       "stream": "stdout",
       "text": [
        "Diameter of a paraboloidal reflector = 7.00 m\n"
       ]
      }
     ],
     "prompt_number": 23
    },
    {
     "cell_type": "heading",
     "level": 2,
     "metadata": {},
     "source": [
      "Exa 7.6 : page 7.29"
     ]
    },
    {
     "cell_type": "code",
     "collapsed": false,
     "input": [
      "from math import pi, sqrt, log10\n",
      "#given data :\n",
      "f=9.0 #in GHz\n",
      "f=f*10**9 #in Hz\n",
      "c=3*10**8 #in m/s\n",
      "lamda=c/f #in meters\n",
      "r=35 #in cm\n",
      "r=r*10**-2 #in meters\n",
      "Attenuation=9.8 #in dB\n",
      "#Formula : 10*log10(WT/Wr) = 9.8dB\n",
      "WTbyWr=10**(Attenuation/10) #unitless\n",
      "D=(4*pi*r/lamda)*(sqrt(1/WTbyWr)) #unitless\n",
      "D_dB=10*log10(D) \n",
      "print \"Gain of the horn = %0.2f dB \" %D_dB "
     ],
     "language": "python",
     "metadata": {},
     "outputs": [
      {
       "output_type": "stream",
       "stream": "stdout",
       "text": [
        "Gain of the horn = 16.30 dB \n"
       ]
      }
     ],
     "prompt_number": 25
    },
    {
     "cell_type": "heading",
     "level": 2,
     "metadata": {},
     "source": [
      "Exa 7.7 : page 7.29"
     ]
    },
    {
     "cell_type": "code",
     "collapsed": false,
     "input": [
      "from math import pi, sqrt, log10\n",
      "#given data :\n",
      "ratio = 28 # length:diameter\n",
      "from sympy import symbols, N\n",
      "lamda = symbols('lamda')\n",
      "L = 0.925*lamda\n",
      "Z = 710+1J*0  # ohm\n",
      "Zs = 35476/Z  # ohm\n",
      "D = L/ratio\n",
      "omega = 2*D\n",
      "print \"omega =\",N(omega,2)"
     ],
     "language": "python",
     "metadata": {},
     "outputs": [
      {
       "output_type": "stream",
       "stream": "stdout",
       "text": [
        "omega = 0.066*lamda\n"
       ]
      }
     ],
     "prompt_number": 28
    }
   ],
   "metadata": {}
  }
 ]
}
