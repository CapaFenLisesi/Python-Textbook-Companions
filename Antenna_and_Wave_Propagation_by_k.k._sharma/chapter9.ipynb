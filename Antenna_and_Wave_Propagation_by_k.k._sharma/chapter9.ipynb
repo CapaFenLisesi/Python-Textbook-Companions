{
 "metadata": {
  "name": "",
  "signature": ""
 },
 "nbformat": 3,
 "nbformat_minor": 0,
 "worksheets": [
  {
   "cells": [
    {
     "cell_type": "heading",
     "level": 1,
     "metadata": {},
     "source": [
      "chapter 09 : Ground wave propagation"
     ]
    },
    {
     "cell_type": "heading",
     "level": 2,
     "metadata": {},
     "source": [
      "Exa 9.1 : page 9-23"
     ]
    },
    {
     "cell_type": "code",
     "collapsed": false,
     "input": [
      "from math import sqrt\n",
      "#given data :\n",
      "HT=50 #in meter\n",
      "HR=10 #in meter\n",
      "f=60 #in MHz\n",
      "P=10 #in KW\n",
      "D=10 #in Km\n",
      "D=D*10**3 #in m\n",
      "c=3*10**8 #speed of light in m/s\n",
      "lamda=c/(f*10**6) #in meter\n",
      "#Part (i) \n",
      "d=3.55*(sqrt(HT)+sqrt(HR)) #in Km\n",
      "print \"Maximum line of sight range = %0.2f km \" %d \n",
      "#Part (ii)\n",
      "Et=88*sqrt(P*1000)*HT*HR/(lamda*D**2)\n",
      "print \"The field strength at 10 km = %0.1e V/m\" %Et \n",
      "#Part (iii)\n",
      "#Formula : Et=88*sqrt(p)*HT*HR/(lambda*D**2)\n",
      "Et=1 #in mV/m\n",
      "D=sqrt(88*sqrt(P*1000)*HT*HR/(lamda*Et*10**-3)) #in m\n",
      "print \"Distance = %0.3f km \" %(D/1000)"
     ],
     "language": "python",
     "metadata": {},
     "outputs": [
      {
       "output_type": "stream",
       "stream": "stdout",
       "text": [
        "Maximum line of sight range = 36.33 km \n",
        "The field strength at 10 km = 8.8e-03 V/m\n",
        "Distance = 29.665 km \n"
       ]
      }
     ],
     "prompt_number": 4
    },
    {
     "cell_type": "heading",
     "level": 2,
     "metadata": {},
     "source": [
      "Exa 9.2 : page 9-24"
     ]
    },
    {
     "cell_type": "code",
     "collapsed": false,
     "input": [
      "from math import sqrt\n",
      "#given data :\n",
      "P=200 #in KW\n",
      "D=20 #in Km\n",
      "D=D*10**3 #in m\n",
      "E=300*sqrt(P)/D #in V/m\n",
      "print \"Field Strength at 20 km = %0.2f mV/m \" %(E*10**3)"
     ],
     "language": "python",
     "metadata": {},
     "outputs": [
      {
       "output_type": "stream",
       "stream": "stdout",
       "text": [
        "Field Strength at 20 km = 212.13 mV/m \n"
       ]
      }
     ],
     "prompt_number": 5
    },
    {
     "cell_type": "heading",
     "level": 2,
     "metadata": {},
     "source": [
      "Exa 9.3 : page 9-24"
     ]
    },
    {
     "cell_type": "code",
     "collapsed": false,
     "input": [
      "#given data :\n",
      "HT=10 #in meter\n",
      "HR=3 #in meter\n",
      "P=200 #in W\n",
      "D=50 #in Km\n",
      "D=D*10**3 #in Km\n",
      "f=150 #in MHz\n",
      "c=3*10**8 #speed of light in m/s\n",
      "lamda=c/(f*10**6) #in meter\n",
      "E=88*sqrt(P)*HT*HR/(lamda*D**2) #in m\n",
      "print \"Field Strength at 20 km = %0.2f microV/m \" %(E*10**6)"
     ],
     "language": "python",
     "metadata": {},
     "outputs": [
      {
       "output_type": "stream",
       "stream": "stdout",
       "text": [
        "Field Strength at 20 km = 7.47 microV/m \n"
       ]
      }
     ],
     "prompt_number": 6
    },
    {
     "cell_type": "heading",
     "level": 2,
     "metadata": {},
     "source": [
      "Exa 9.4 : page 9-25"
     ]
    },
    {
     "cell_type": "code",
     "collapsed": false,
     "input": [
      "from math import sqrt\n",
      "#given data :\n",
      "HT=100 #in meter\n",
      "d=60 #in Km\n",
      "#Formula :  d=4.12*(sqrt(HT)+sqrt(HR)) #in Km\n",
      "HR=(d/4.12-sqrt(HT))**2 #in meter\n",
      "print \"Height of receiving antenna = %0.2f m\" %HR"
     ],
     "language": "python",
     "metadata": {},
     "outputs": [
      {
       "output_type": "stream",
       "stream": "stdout",
       "text": [
        "Height of receiving antenna = 20.82 m\n"
       ]
      }
     ],
     "prompt_number": 7
    },
    {
     "cell_type": "heading",
     "level": 2,
     "metadata": {},
     "source": [
      "Exa 9.5 : page 9-25"
     ]
    },
    {
     "cell_type": "code",
     "collapsed": false,
     "input": [
      "from math import sqrt\n",
      "#given data :\n",
      "HT=3000 #in meter\n",
      "HR=6000 #in meter\n",
      "d=4.12*(sqrt(HT)+sqrt(HR)) #in Km\n",
      "print \"Maximum possible distance = %0.2f km\" %d"
     ],
     "language": "python",
     "metadata": {},
     "outputs": [
      {
       "output_type": "stream",
       "stream": "stdout",
       "text": [
        "Maximum possible distance = 544.80 km\n"
       ]
      }
     ],
     "prompt_number": 8
    },
    {
     "cell_type": "heading",
     "level": 2,
     "metadata": {},
     "source": [
      "Exa 9.6 : page 9-25"
     ]
    },
    {
     "cell_type": "code",
     "collapsed": false,
     "input": [
      "from math import log10\n",
      "#given data :\n",
      "f_MHz=3000 #in MHz\n",
      "d_Km=384000 #in Km\n",
      "PathLoss=32.45+20*log10(f_MHz)+20*log10(d_Km) #in dB\n",
      "print \"Path loss = %0.2f dB \" %PathLoss"
     ],
     "language": "python",
     "metadata": {},
     "outputs": [
      {
       "output_type": "stream",
       "stream": "stdout",
       "text": [
        "Path loss = 213.68 dB \n"
       ]
      }
     ],
     "prompt_number": 9
    },
    {
     "cell_type": "heading",
     "level": 2,
     "metadata": {},
     "source": [
      "Exa 9.7 : page 9-26"
     ]
    },
    {
     "cell_type": "code",
     "collapsed": false,
     "input": [
      "from math import pi\n",
      "#given data :\n",
      "#Part (i)\n",
      "D=10 #in Km\n",
      "lamda=10000 #in meter\n",
      "LP=(4*pi*D*1000/lamda)**2 #in dB\n",
      "print \"Path loss = %0.2f dB\" %LP\n",
      "#Part (ii)\n",
      "D=10**6 #in Km\n",
      "lamda=0.3 #in cm\n",
      "LP=(4*pi*D*1000/(lamda*10**-2))**2 #in dB\n",
      "print \"Path loss = %0.2e dB \" %LP \n",
      "#Note : Answer in the book is wrong as value putted in the solution is differ from given in question."
     ],
     "language": "python",
     "metadata": {},
     "outputs": [
      {
       "output_type": "stream",
       "stream": "stdout",
       "text": [
        "Path loss = 157.91 dB\n",
        "Path loss = 1.75e+25 dB \n"
       ]
      }
     ],
     "prompt_number": 10
    },
    {
     "cell_type": "heading",
     "level": 2,
     "metadata": {},
     "source": [
      "Exa 9.8 : page 9-26"
     ]
    },
    {
     "cell_type": "code",
     "collapsed": false,
     "input": [
      "from math import sqrt\n",
      "#given data :\n",
      "HT=50 #in meter\n",
      "HR=5 #in meter\n",
      "d=4.12*(sqrt(HT)+sqrt(HR)) #in Km\n",
      "print \"Range of LOS system = %0.2f km\"%d"
     ],
     "language": "python",
     "metadata": {},
     "outputs": [
      {
       "output_type": "stream",
       "stream": "stdout",
       "text": [
        "Range of LOS system = 38.35 km\n"
       ]
      }
     ],
     "prompt_number": 11
    },
    {
     "cell_type": "heading",
     "level": 2,
     "metadata": {},
     "source": [
      "Exa 9.9 : page 9-26"
     ]
    },
    {
     "cell_type": "code",
     "collapsed": false,
     "input": [
      "from math import pi\n",
      "#given data :\n",
      "PT=5.0 #in KW\n",
      "PT=PT*1000 #in W\n",
      "D=100.0 #in Km\n",
      "D=D*10**3 #in m\n",
      "f=300.0 #in MHz\n",
      "GT=1.64 #Directivity of transmitter\n",
      "GR=1.64 #Directivity of receiver\n",
      "c=3*10**8 #speed of light in m/s\n",
      "lamda=c/(f*10**6) #in meter\n",
      "Pr=PT*GT*GR*(lamda/(4*pi*D))**2\n",
      "print \"Maximum power received = %0.3e W\"% Pr\n",
      "# Answer wrong in the textbook."
     ],
     "language": "python",
     "metadata": {},
     "outputs": [
      {
       "output_type": "stream",
       "stream": "stdout",
       "text": [
        "Maximum power received = 8.516e-09 W\n"
       ]
      }
     ],
     "prompt_number": 14
    }
   ],
   "metadata": {}
  }
 ]
}
