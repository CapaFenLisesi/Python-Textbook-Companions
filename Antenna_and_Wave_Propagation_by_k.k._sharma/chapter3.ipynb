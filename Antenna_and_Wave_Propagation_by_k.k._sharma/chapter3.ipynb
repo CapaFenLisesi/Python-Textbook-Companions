{
 "metadata": {
  "name": "",
  "signature": ""
 },
 "nbformat": 3,
 "nbformat_minor": 0,
 "worksheets": [
  {
   "cells": [
    {
     "cell_type": "heading",
     "level": 1,
     "metadata": {},
     "source": [
      "chapter 03 : Antenna Terminology"
     ]
    },
    {
     "cell_type": "heading",
     "level": 2,
     "metadata": {},
     "source": [
      "Exa 3.1 : page 3.42"
     ]
    },
    {
     "cell_type": "code",
     "collapsed": false,
     "input": [
      "from math import pi\n",
      "#given data :\n",
      "E=10.0 #in V/m\n",
      "ETA_o=120.0*pi #Constant\n",
      "H=E/ETA_o #in A/m\n",
      "print \"The Magnetic Field Strength = %0.4f A/m  \" %H "
     ],
     "language": "python",
     "metadata": {},
     "outputs": [
      {
       "output_type": "stream",
       "stream": "stdout",
       "text": [
        "The Magnetic Field Strength = 0.0265 A/m  \n"
       ]
      }
     ],
     "prompt_number": 2
    },
    {
     "cell_type": "heading",
     "level": 2,
     "metadata": {},
     "source": [
      "Exa 3.2 : page 3.42"
     ]
    },
    {
     "cell_type": "code",
     "collapsed": false,
     "input": [
      "from math import sqrt\n",
      "#given data :\n",
      "W=25.0 #in KW\n",
      "W=W*10**3 #in W\n",
      "r=3 #in Km\n",
      "r=r*10**3 #in m\n",
      "Erms=sqrt(90*W)/r #in V/m\n",
      "print \"Field strength at receiver = %0.2f V/m \" %Erms "
     ],
     "language": "python",
     "metadata": {},
     "outputs": [
      {
       "output_type": "stream",
       "stream": "stdout",
       "text": [
        "Field strength at receiver = 0.50 V/m \n"
       ]
      }
     ],
     "prompt_number": 3
    },
    {
     "cell_type": "heading",
     "level": 2,
     "metadata": {},
     "source": [
      "Exa 3.3 : page 3.42"
     ]
    },
    {
     "cell_type": "code",
     "collapsed": false,
     "input": [
      "from math import pi\n",
      "#given data :\n",
      "le=125 #in m\n",
      "Irms=5 #in A\n",
      "lamda=1.25 #in Km\n",
      "lamda=lamda*10**3 #in m\n",
      "Rl=10 #in Ohm\n",
      "#radiation Resistance\n",
      "Rr=(80*pi**2)*(le/lamda)**2 #in Ohm\n",
      "Rr=round(Rr) #in Ohm : approx\n",
      "print \"Radiation resistance = %0.2f Ohm \" %Rr \n",
      "#Power radiated\n",
      "W=(Irms**2)*Rr #in \n",
      "print \"Power radiated = %0.2f W \" %W\n",
      "#Antenna efficiency \n",
      "ETA=Rr/(Rr+Rl)\n",
      "print \"Antenna efficiency = %0.2f %% \" %(ETA*100) "
     ],
     "language": "python",
     "metadata": {},
     "outputs": [
      {
       "output_type": "stream",
       "stream": "stdout",
       "text": [
        "Radiation resistance = 8.00 Ohm \n",
        "Power radiated = 200.00 W \n",
        "Antenna efficiency = 44.44 % \n"
       ]
      }
     ],
     "prompt_number": 4
    },
    {
     "cell_type": "heading",
     "level": 2,
     "metadata": {},
     "source": [
      "Exa 3.4 : page 3.43"
     ]
    },
    {
     "cell_type": "code",
     "collapsed": false,
     "input": [
      "from math import cos, pi, sin\n",
      "#given data :\n",
      "r=1 #in Km\n",
      "r=r*10**3 #in m\n",
      "I=0.5 #in A\n",
      "#For theta = 45 degree\n",
      "theta=45  #in degree\n",
      "E=(60*I/r)*((cos(pi*cos(theta*pi/180)/2))/sin(theta*pi/180)) \n",
      "print \"E-Field for 45 degree angle = %0.2f mV/m \" %(E*10**3) \n",
      "ETA_o=120*pi #constant\n",
      "H=E/ETA_o #in A/m\n",
      "print \"H-Field for 45 degree angle = %0.5f mV/m \" %(H*10**3) \n",
      "\n",
      "#For theta = 90 degree\n",
      "theta=90  #in degree\n",
      "E=(60*I/r)*((cos(pi*cos(theta*pi/180)/2))/sin(theta*pi/180)) \n",
      "print \"E-Field for 90 degree angle = %0.2f mV/m \" %(E*10**3) \n",
      "ETA_o=120*pi #constant\n",
      "H=E/ETA_o #in A/m\n",
      "print \"H-Field for 90 degree angle = %0.4f mV/m \" %(H*10**3) "
     ],
     "language": "python",
     "metadata": {},
     "outputs": [
      {
       "output_type": "stream",
       "stream": "stdout",
       "text": [
        "E-Field for 45 degree angle = 18.84 mV/m \n",
        "H-Field for 45 degree angle = 0.04997 mV/m \n",
        "E-Field for 90 degree angle = 30.00 mV/m \n",
        "H-Field for 90 degree angle = 0.0796 mV/m \n"
       ]
      }
     ],
     "prompt_number": 8
    },
    {
     "cell_type": "heading",
     "level": 2,
     "metadata": {},
     "source": [
      "Exa 3.5 : page 3.44"
     ]
    },
    {
     "cell_type": "code",
     "collapsed": false,
     "input": [
      "from math import pi\n",
      "#given data :\n",
      "#l=lambda/10 meter\n",
      "#Assume pi**2 = 10\n",
      "Rl=2.0 #in Ohm\n",
      "#Rr=80*pi**2*(dl/lambda)**2\n",
      "Rr=80*10*(1.0/10)**2 #in Ohm\n",
      "print \"Radiation Resistance = %0.2f Ohm\" %(Rr)\n",
      "ETA=Rr/(Rr+Rl) #in Ohm\n",
      "print \"Efficiency = %0.2f %%\" %(ETA*100)"
     ],
     "language": "python",
     "metadata": {},
     "outputs": [
      {
       "output_type": "stream",
       "stream": "stdout",
       "text": [
        "Radiation Resistance = 8.00 Ohm\n",
        "Efficiency = 80.00 %\n"
       ]
      }
     ],
     "prompt_number": 11
    },
    {
     "cell_type": "heading",
     "level": 2,
     "metadata": {},
     "source": [
      "Exa 3.6 : page 3.44"
     ]
    },
    {
     "cell_type": "code",
     "collapsed": false,
     "input": [
      "#given data :\n",
      "#l=lambda/15 meter\n",
      "#Assume pi**2 = 10\n",
      "Rl=2.0 #in Ohm\n",
      "#Gain : \n",
      "Gain=5.33/4 #Unitless\n",
      "#Directivity\n",
      "Rr=80*10*(1.0/15)**2 #in Ohm\n",
      "ETA=Rr/(Rr+Rl) #Unitless\n",
      "Directivity=Gain/ETA #unitless\n",
      "#Beam solid angle \n",
      "BSA=4.0*pi/Directivity #in steradian\n",
      "print \"Directivity = %0.4f \" %Directivity \n",
      "print \"Gain = %0.2f \"%Gain \n",
      "#Effective aperture\n",
      "print \"Effective aperture = \" ,\n",
      "print round((Gain/(4*pi)),3),\"lambda**2\" \n",
      "print \"Beam Solid Angle = %0.2f steradian  \"%BSA \n",
      "Rr=80*10*(1.0/15)**2 #in Ohm\n",
      "print \"Radiation Resistance = %0.2f Ohm \" %Rr \n",
      "print \"Pt =\",120*10/225,\"I**2\" \n",
      "print \"Pr = 4*I**2\" "
     ],
     "language": "python",
     "metadata": {},
     "outputs": [
      {
       "output_type": "stream",
       "stream": "stdout",
       "text": [
        "Directivity = 2.0820 \n",
        "Gain = 1.33 \n",
        "Effective aperture =  0.106 lambda**2\n",
        "Beam Solid Angle = 6.04 steradian  \n",
        "Radiation Resistance = 3.56 Ohm \n",
        "Pt = 5 I**2\n",
        "Pr = 4*I**2\n"
       ]
      }
     ],
     "prompt_number": 22
    },
    {
     "cell_type": "heading",
     "level": 2,
     "metadata": {},
     "source": [
      "Exa 3.7 : page 3.45"
     ]
    },
    {
     "cell_type": "code",
     "collapsed": false,
     "input": [
      "from math import pi\n",
      "#given data :\n",
      "D=30.0 #in m\n",
      "k=0.55 #illumination efficiency\n",
      "f=4.0 #in GHz\n",
      "f=f*10**9 #in Hz\n",
      "c=3*10**8 #speed of light in m/s\n",
      "lamda=c/f #in Meter\n",
      "r=D/2 #in m\n",
      "A=pi*(r**2) #in m**2\n",
      "G=(4*pi/lamda**2)*k*A #Unitless\n",
      "print \"Gain = %0.5e\"%G\n",
      "HPBW=70*lamda/D #in Degree\n",
      "print \"HPBW = %0.3f Degree \" % HPBW\n",
      "BWFN=2*70*lamda/D #in Degree\n",
      "print \"BWFN = %0.2f Degree \" %BWFN "
     ],
     "language": "python",
     "metadata": {},
     "outputs": [
      {
       "output_type": "stream",
       "stream": "stdout",
       "text": [
        "Gain = 8.68525e+05\n",
        "HPBW = 0.175 Degree \n",
        "BWFN = 0.35 Degree \n"
       ]
      }
     ],
     "prompt_number": 25
    },
    {
     "cell_type": "heading",
     "level": 2,
     "metadata": {},
     "source": [
      "Exa 3.8 : page 3.46"
     ]
    },
    {
     "cell_type": "code",
     "collapsed": false,
     "input": [
      "#given data :\n",
      "Rl=20.0 #in Ohm\n",
      "Rr=100.0 #in Ohm\n",
      "Gp=25.0 #power gain \n",
      "ETA=Rr/(Rr+Rl) #Unitless\n",
      "D=Gp/ETA #unitless\n",
      "print \"Directivity = %0.2f\" %D"
     ],
     "language": "python",
     "metadata": {},
     "outputs": [
      {
       "output_type": "stream",
       "stream": "stdout",
       "text": [
        "Directivity = 30.00\n"
       ]
      }
     ],
     "prompt_number": 30
    },
    {
     "cell_type": "heading",
     "level": 2,
     "metadata": {},
     "source": [
      "Exa 3.9 : page 3.46"
     ]
    },
    {
     "cell_type": "code",
     "collapsed": false,
     "input": [
      "#given data :\n",
      "lamda=10 #in m\n",
      "D=80 #unitless\n",
      "Aem=D*lamda**2/(4*pi) #in m**2\n",
      "print \"Maximum effective aperture = %0.2f m^2\" %Aem"
     ],
     "language": "python",
     "metadata": {},
     "outputs": [
      {
       "output_type": "stream",
       "stream": "stdout",
       "text": [
        "Maximum effective aperture = 636.62 m^2\n"
       ]
      }
     ],
     "prompt_number": 31
    },
    {
     "cell_type": "heading",
     "level": 2,
     "metadata": {},
     "source": [
      "Exa 3.10 : page 3.47"
     ]
    },
    {
     "cell_type": "code",
     "collapsed": false,
     "input": [
      "from math import log10\n",
      "#given data :\n",
      "P1=30 #in KW\n",
      "P1=P1*1000 #in W\n",
      "P2=5000 #in W\n",
      "Gdb=10*log10(P1/P2) #unitless\n",
      "print \"Front to back ratio, Gdb =\",round(Gdb ,3)"
     ],
     "language": "python",
     "metadata": {},
     "outputs": [
      {
       "output_type": "stream",
       "stream": "stdout",
       "text": [
        "Front to back ratio, Gdb = 7.782\n"
       ]
      }
     ],
     "prompt_number": 34
    },
    {
     "cell_type": "heading",
     "level": 2,
     "metadata": {},
     "source": [
      "Exa 3.11 : page 3.47"
     ]
    },
    {
     "cell_type": "code",
     "collapsed": false,
     "input": [
      "#given data :\n",
      "f=10 #in GHz\n",
      "f=f*10**9 #in Hz\n",
      "Gt=40 #in dB\n",
      "Gr=40 #in dB\n",
      "print \"Gain = Gt = Gr =\",Gt ,\"dB\""
     ],
     "language": "python",
     "metadata": {},
     "outputs": [
      {
       "output_type": "stream",
       "stream": "stdout",
       "text": [
        "Gain = Gt = Gr = 40 dB\n"
       ]
      }
     ],
     "prompt_number": 36
    },
    {
     "cell_type": "heading",
     "level": 2,
     "metadata": {},
     "source": [
      "Exa 3.12 : page 3.47"
     ]
    },
    {
     "cell_type": "code",
     "collapsed": false,
     "input": [
      "from math import pi\n",
      "#given data :\n",
      "L=10 #in m\n",
      "f=1.5 #in MHz\n",
      "f=f*10**6 #in Hz\n",
      "X=350 #in Ohm\n",
      "Q=100 #Coil parameter\n",
      "c=3*10**8 #speed of light in m/s\n",
      "lamda=c/f #in Meter\n",
      "l_eff=2*L/2 #in m\n",
      "Re=2*X/Q #in Ohm\n",
      "Rr=40*pi**2*(l_eff/lamda)**2 #in hm\n",
      "Gd=(3/2)*(lamda**2/(4*pi)) #unitless\n",
      "ETA=Rr/(Rr+Re) #Efficiency unitless\n",
      "Gp=Gd*ETA ##unitless\n",
      "print \"Antenna Efficiency = %0.1f %%\" %(ETA*100)\n",
      "print \"Power gain = %0.2f \" %(Gp)\n",
      "#Note : Answer of Gp is wrong in the book."
     ],
     "language": "python",
     "metadata": {},
     "outputs": [
      {
       "output_type": "stream",
       "stream": "stdout",
       "text": [
        "Antenna Efficiency = 12.4 %\n",
        "Power gain = 393.34 \n"
       ]
      }
     ],
     "prompt_number": 38
    },
    {
     "cell_type": "heading",
     "level": 2,
     "metadata": {},
     "source": [
      "Exa 3.13 : page 3.48"
     ]
    },
    {
     "cell_type": "code",
     "collapsed": false,
     "input": [
      "#given data :\n",
      "delf=600.0 #in KHz\n",
      "fr=50 #in MHz\n",
      "Q=(fr*10**6)/(delf*10**3) #unitless\n",
      "print \"Quality Factor = %0.2f \" %(Q) "
     ],
     "language": "python",
     "metadata": {},
     "outputs": [
      {
       "output_type": "stream",
       "stream": "stdout",
       "text": [
        "Quality Factor = 83.33 \n"
       ]
      }
     ],
     "prompt_number": 41
    },
    {
     "cell_type": "heading",
     "level": 2,
     "metadata": {},
     "source": [
      "Exa 3.14 : page 3.48"
     ]
    },
    {
     "cell_type": "code",
     "collapsed": false,
     "input": [
      "from math import pi\n",
      "#given data :\n",
      "OmegaA=4.0*pi #For isotropic Antenna\n",
      "D=4.0*pi/OmegaA #Directivity : Unitless\n",
      "print \"Directivity of Isotropic Antenna = %0.2f\" %D "
     ],
     "language": "python",
     "metadata": {},
     "outputs": [
      {
       "output_type": "stream",
       "stream": "stdout",
       "text": [
        "Directivity of Isotropic Antenna = 1.00\n"
       ]
      }
     ],
     "prompt_number": 42
    },
    {
     "cell_type": "heading",
     "level": 2,
     "metadata": {},
     "source": [
      "Exa 3.15 : page 3.48"
     ]
    },
    {
     "cell_type": "code",
     "collapsed": false,
     "input": [
      "from sympy import symbols, N\n",
      "lamda = symbols('lamda')\n",
      "#given data :\n",
      "D=500.0 #Directivity : Unitless\n",
      "Aem = D*lamda**2/(4*pi)\n",
      "print \"Aem =\",N(Aem,4)"
     ],
     "language": "python",
     "metadata": {},
     "outputs": [
      {
       "output_type": "stream",
       "stream": "stdout",
       "text": [
        "Aem = 39.79*lamda**2\n"
       ]
      }
     ],
     "prompt_number": 50
    },
    {
     "cell_type": "heading",
     "level": 2,
     "metadata": {},
     "source": [
      "Exa 3.16 : page 3.48"
     ]
    },
    {
     "cell_type": "code",
     "collapsed": false,
     "input": [
      "#given data\n",
      "Fn_dB=1.1 #in dB\n",
      "Fn=10**(Fn_dB/10) #unitless\n",
      "To=290 #in Kelvin\n",
      "Te=To*(Fn-1) #in Kelvin\n",
      "print \"Effective Noise Temperature = %0.2f degree Kelvin \" %Te "
     ],
     "language": "python",
     "metadata": {},
     "outputs": [
      {
       "output_type": "stream",
       "stream": "stdout",
       "text": [
        "Effective Noise Temperature = 83.59 degree Kelvin \n"
       ]
      }
     ],
     "prompt_number": 52
    },
    {
     "cell_type": "heading",
     "level": 2,
     "metadata": {},
     "source": [
      "Exa 3.19 : page 3.50"
     ]
    },
    {
     "cell_type": "code",
     "collapsed": false,
     "input": [
      "from math import pi, log10\n",
      "#given data\n",
      "D=6.0 #in meter\n",
      "f=10.0 #in GHz\n",
      "f=f*10**9 #in Hz\n",
      "Aactual=pi*D**2/4 #in m**2\n",
      "Ae=0.6*Aactual #in m**2\n",
      "c=3*10**8 #speed of light in m/s\n",
      "lamda=c/f #in Meter\n",
      "G=4*pi*Ae/lamda**2 #Unitless\n",
      "Gdb=10*log10(G) #gain in dB\n",
      "BWFN=140*lamda/D #in degree\n",
      "print \"Gain = %0.1f \" %G \n",
      "print \"Gain = %0.2f dB  \" %Gdb \n",
      "print \"Beamwidth = %0.2f degree \" %BWFN \n",
      "print \"Capture Area = %0.2f m**2  \" %Ae \n",
      "#Note : Answer in the book is not accurate."
     ],
     "language": "python",
     "metadata": {},
     "outputs": [
      {
       "output_type": "stream",
       "stream": "stdout",
       "text": [
        "Gain = 236870.5 \n",
        "Gain = 53.75 dB  \n",
        "Beamwidth = 0.70 degree \n",
        "Capture Area = 16.96 m**2  \n"
       ]
      }
     ],
     "prompt_number": 54
    },
    {
     "cell_type": "heading",
     "level": 2,
     "metadata": {},
     "source": [
      "Exa 3.20 : page 3.50"
     ]
    },
    {
     "cell_type": "code",
     "collapsed": false,
     "input": [
      "from math import pi\n",
      "#given data\n",
      "Gdb=44 #gain in dB\n",
      "G=10**(Gdb/10) #gain unitless\n",
      "OmegaB=4*pi/G #n steradian\n",
      "THETA3db=sqrt(4*OmegaB/pi) #in Radian\n",
      "print \"Beamwidth THETA3db = %0.4f degree \" %THETA3db \n",
      "#Note : Answer in the book is not accurate."
     ],
     "language": "python",
     "metadata": {},
     "outputs": [
      {
       "output_type": "stream",
       "stream": "stdout",
       "text": [
        "Beamwidth THETA3db = 0.0400 degree \n"
       ]
      }
     ],
     "prompt_number": 56
    }
   ],
   "metadata": {}
  }
 ]
}
