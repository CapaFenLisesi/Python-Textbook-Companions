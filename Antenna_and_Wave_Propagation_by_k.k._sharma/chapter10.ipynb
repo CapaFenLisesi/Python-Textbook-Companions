{
 "metadata": {
  "name": "",
  "signature": ""
 },
 "nbformat": 3,
 "nbformat_minor": 0,
 "worksheets": [
  {
   "cells": [
    {
     "cell_type": "heading",
     "level": 1,
     "metadata": {},
     "source": [
      "chapter 10 : Sky wave propagation - The ionospheric waves"
     ]
    },
    {
     "cell_type": "heading",
     "level": 2,
     "metadata": {},
     "source": [
      "Exa 10.1 : page 10-19"
     ]
    },
    {
     "cell_type": "code",
     "collapsed": false,
     "input": [
      "from math import sqrt\n",
      "#given data :\n",
      "H=500 #in km\n",
      "n=0.8 #in m\n",
      "f_muf=10 #in MHz\n",
      "f_muf=f_muf*10**6 #in Hz\n",
      "f=10 #in MHz\n",
      "f=f*10**6 #in Hz\n",
      "# Formula : n=sqrt(1-81*N/f**2)\n",
      "Nmax=(1-n**2)*f**2/81 #in Hz \n",
      "fc=9*sqrt(Nmax) #in Hz\n",
      "Dskip=2*H*sqrt((f_muf/fc)**2-1) #in Km\n",
      "print \"Assuming the earth is flat the range = %0.2f km\" %Dskip\n",
      "#Note : Answer in the book is wrong."
     ],
     "language": "python",
     "metadata": {},
     "outputs": [
      {
       "output_type": "stream",
       "stream": "stdout",
       "text": [
        "Assuming the earth is flat the range = 1333.33 km\n"
       ]
      }
     ],
     "prompt_number": 1
    },
    {
     "cell_type": "heading",
     "level": 2,
     "metadata": {},
     "source": [
      "Exa 10.2 : page 10-19"
     ]
    },
    {
     "cell_type": "code",
     "collapsed": false,
     "input": [
      "#given data :\n",
      "n=0.8 #in m\n",
      "H=500 #in km\n",
      "a=6370 #in km\n",
      "D=1349.07 #in Km\n",
      "f_muf=10 #in MHz\n",
      "f_muf=f_muf*10**6 #in Hz\n",
      "f=10 #in MHz\n",
      "f=f*10**6 #in Hz\n",
      "# Formula : n=sqrt(1-81*N/f**2)\n",
      "Nmax=(1-n**2)*f**2/81 #in Hz \n",
      "fc=9*sqrt(Nmax) #in Hz\n",
      "# Formula : f_muf/fc=sqrt(D**2/(4*(H+D**2/(8*a))))+1\n",
      "D1=2*(H+D**2/(8*a))*sqrt((f_muf/fc)**2-1) #in Km\n",
      "Dskip=2*H*sqrt((f_muf/fc)**2-1) #in Km\n",
      "print \"Assuming the earth is curved the ground range = %0.2f km\"% D1\n",
      "# Answer wrong in the textbook."
     ],
     "language": "python",
     "metadata": {},
     "outputs": [
      {
       "output_type": "stream",
       "stream": "stdout",
       "text": [
        "Assuming the earth is curved the ground range = 1428.57 km\n"
       ]
      }
     ],
     "prompt_number": 3
    },
    {
     "cell_type": "heading",
     "level": 2,
     "metadata": {},
     "source": [
      "Exa 10.3 : page 10-20"
     ]
    },
    {
     "cell_type": "code",
     "collapsed": false,
     "input": [
      "from math import sqrt\n",
      "#given data :\n",
      "Nmax=2.48*10**6 #in cm**-3\n",
      "Nmax=2.48*10**6*10**-6 #in m**-3\n",
      "fc=9*sqrt(Nmax) #in MHz\n",
      "print \"Critical frequency = %0.2f MHz \" %fc "
     ],
     "language": "python",
     "metadata": {},
     "outputs": [
      {
       "output_type": "stream",
       "stream": "stdout",
       "text": [
        "Critical frequency = 14.17 MHz \n"
       ]
      }
     ],
     "prompt_number": 4
    },
    {
     "cell_type": "heading",
     "level": 2,
     "metadata": {},
     "source": [
      "Exa 10.4 : page 10-20"
     ]
    },
    {
     "cell_type": "code",
     "collapsed": false,
     "input": [
      "from math import sqrt\n",
      "#given data :\n",
      "H=200 #in Km\n",
      "D=4000 #in Km\n",
      "fc=5 #in MHz\n",
      "f_muf=fc*sqrt(1+(D/(2*H))**2) #in MHz\n",
      "print \"MUF for the given path = %0.2f MHz \" %f_muf\n",
      "#Note : Answer in the book is wrong."
     ],
     "language": "python",
     "metadata": {},
     "outputs": [
      {
       "output_type": "stream",
       "stream": "stdout",
       "text": [
        "MUF for the given path = 50.25 MHz \n"
       ]
      }
     ],
     "prompt_number": 5
    },
    {
     "cell_type": "heading",
     "level": 2,
     "metadata": {},
     "source": [
      "Exa 10.5 : page 10-20"
     ]
    },
    {
     "cell_type": "code",
     "collapsed": false,
     "input": [
      "from math import sqrt\n",
      "#given data :\n",
      "#For F1 layer :\n",
      "print \"For F1 layer :\" \n",
      "Nmax=2.3*10**6 #in cm**3\n",
      "Nmax=2.3*10**6*10**-6 #in m**3\n",
      "fc=9*sqrt(Nmax) #in MHz\n",
      "print \"Critical frequency = %0.2f MHz \" %fc \n",
      "\n",
      "#For F2 layer :\n",
      "print \"For F2 layer :\" \n",
      "Nmax=3.5*10**6 #in cm**3\n",
      "Nmax=3.5*10**6*10**-6 #in m**3\n",
      "fc=9*sqrt(Nmax) #in MHz\n",
      "print \"Critical frequency = %0.2f MHz\" %fc\n",
      "\n",
      "#For F3 layer :\n",
      "print \"For F3 layer :\" \n",
      "Nmax=1.7*10**6 #in cm**3\n",
      "Nmax=1.7*10**6*10**-6 #in m**3\n",
      "fc=9*sqrt(Nmax) #in MHz\n",
      "print \"Critical frequency = %0.2f MHz  \" %fc "
     ],
     "language": "python",
     "metadata": {},
     "outputs": [
      {
       "output_type": "stream",
       "stream": "stdout",
       "text": [
        "For F1 layer :\n",
        "Critical frequency = 13.65 MHz \n",
        "For F2 layer :\n",
        "Critical frequency = 16.84 MHz\n",
        "For F3 layer :\n",
        "Critical frequency = 11.73 MHz  \n"
       ]
      }
     ],
     "prompt_number": 7
    },
    {
     "cell_type": "heading",
     "level": 2,
     "metadata": {},
     "source": [
      "Exa 10.6 : page 10-21"
     ]
    },
    {
     "cell_type": "code",
     "collapsed": false,
     "input": [
      "from math import sqrt\n",
      "#given data :\n",
      "n=0.7 #refractive index\n",
      "N=400 #in cm**-3\n",
      "#Formula : n=sqrt(1-81*N/f**2)\n",
      "f=sqrt(81*N/(1-n**2)) #in KHz\n",
      "print \"Frequency of wave propagation = %0.2f kHz\" %f\n",
      "#Note : Unit of Answer in the book is MHz. It is written by mistake. It is accurately calculated by scilab in KHz. "
     ],
     "language": "python",
     "metadata": {},
     "outputs": [
      {
       "output_type": "stream",
       "stream": "stdout",
       "text": [
        "Frequency of wave propagation = 252.05 kHz\n"
       ]
      }
     ],
     "prompt_number": 8
    },
    {
     "cell_type": "heading",
     "level": 2,
     "metadata": {},
     "source": [
      "Exa 10.7 : page 10-21"
     ]
    },
    {
     "cell_type": "code",
     "collapsed": false,
     "input": [
      "from math import sqrt\n",
      "#given data :\n",
      "HT=169.0 #in meter\n",
      "HR=20.0 #in meter\n",
      "d=4.12*(sqrt(HT)+sqrt(HR)) #in Km\n",
      "print \"Maximum distance = %0.2f km \" %d \n",
      "r_dash=(4/3)*6370/1000 #in Km\n",
      "RadioHorizon=sqrt(2*r_dash*HT) #in Km\n",
      "print \"Radio Horizon = %0.2f km \"  %RadioHorizon\n",
      "# Answe wrong in thetextbook."
     ],
     "language": "python",
     "metadata": {},
     "outputs": [
      {
       "output_type": "stream",
       "stream": "stdout",
       "text": [
        "Maximum distance = 71.99 km \n",
        "Radio Horizon = 45.03 km \n"
       ]
      }
     ],
     "prompt_number": 12
    },
    {
     "cell_type": "heading",
     "level": 2,
     "metadata": {},
     "source": [
      "Exa 10.8 : page 10-21"
     ]
    },
    {
     "cell_type": "code",
     "collapsed": false,
     "input": [
      "from math import tan , pi, asin, cos\n",
      "H=200 #in Km\n",
      "Beta=20 #in Degree\n",
      "a=6370 #in Km\n",
      "D_flat=2*H/tan(Beta*pi/180) #in Km\n",
      "print \"If earth assumed to be flat transmission path distance = %0.2f km\" %D_flat\n",
      "D_curved=2*a*(90*pi/180-Beta*pi/180)-asin(a*cos(Beta*pi/180)/(a+H))\n",
      "print \"If earth assumed to be curved transmission path distance = %0.2f \"%D_curved\n",
      "# Answe wrong in thetextbook."
     ],
     "language": "python",
     "metadata": {},
     "outputs": [
      {
       "output_type": "stream",
       "stream": "stdout",
       "text": [
        "If earth assumed to be flat transmission path distance = 1098.99 km\n",
        "If earth assumed to be curved transmission path distance = 15563.70 \n"
       ]
      }
     ],
     "prompt_number": 17
    },
    {
     "cell_type": "heading",
     "level": 2,
     "metadata": {},
     "source": [
      "Exa 10.9 : page 10-22"
     ]
    },
    {
     "cell_type": "code",
     "collapsed": false,
     "input": [
      "from math import acos\n",
      "#given data :\n",
      "R=6370 #in Km\n",
      "hm=400 #in Km\n",
      "#Formula : d=2*R*Q=2*R*acos(R/(R+hm))\n",
      "d=2*R*acos(R/(R+hm)) #in Km\n",
      "print \"Maximum Range in a single range transmission = %0.2f km \" %d \n",
      "# Answe wrong in thetextbook."
     ],
     "language": "python",
     "metadata": {},
     "outputs": [
      {
       "output_type": "stream",
       "stream": "stdout",
       "text": [
        "Maximum Range in a single range transmission = 20011.95 km \n"
       ]
      }
     ],
     "prompt_number": 21
    },
    {
     "cell_type": "heading",
     "level": 2,
     "metadata": {},
     "source": [
      "Exa 10.10 : page 10-22"
     ]
    },
    {
     "cell_type": "code",
     "collapsed": false,
     "input": [
      "from math import sqrt\n",
      "#given data :\n",
      "n=0.6 #refractive index\n",
      "N=4.23*10**4 #in m**-3\n",
      "#Formula : n=sqrt(1-81*N/f**2)\n",
      "f=sqrt(81*N/(1-n**2)) #in Hz\n",
      "print \"Frequency of wave propagation = %0.3f kHz\" %(f/1000)"
     ],
     "language": "python",
     "metadata": {},
     "outputs": [
      {
       "output_type": "stream",
       "stream": "stdout",
       "text": [
        "Frequency of wave propagation = 2.314 kHz\n"
       ]
      }
     ],
     "prompt_number": 23
    },
    {
     "cell_type": "heading",
     "level": 2,
     "metadata": {},
     "source": [
      "Exa 10.11 : page 10-23"
     ]
    },
    {
     "cell_type": "code",
     "collapsed": false,
     "input": [
      "from math import sqrt\n",
      "#given data :\n",
      "n=0.8 #refractive index\n",
      "N=500 #in cm**-3\n",
      "#Formula : n=sqrt(1-81*N/f**2)\n",
      "f=sqrt(81*N/(1-n**2)) #in KHz\n",
      "print \"Frequency of wave propagation = %0.2f kHz\" %f "
     ],
     "language": "python",
     "metadata": {},
     "outputs": [
      {
       "output_type": "stream",
       "stream": "stdout",
       "text": [
        "Frequency of wave propagation = 335.41 kHz\n"
       ]
      }
     ],
     "prompt_number": 24
    }
   ],
   "metadata": {}
  }
 ]
}
