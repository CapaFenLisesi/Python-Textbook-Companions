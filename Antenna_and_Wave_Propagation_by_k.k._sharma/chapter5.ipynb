{
 "metadata": {
  "name": "",
  "signature": ""
 },
 "nbformat": 3,
 "nbformat_minor": 0,
 "worksheets": [
  {
   "cells": [
    {
     "cell_type": "heading",
     "level": 1,
     "metadata": {},
     "source": [
      "chapter 05 : Practical Antennas-I"
     ]
    },
    {
     "cell_type": "heading",
     "level": 2,
     "metadata": {},
     "source": [
      "Exa 5.1 : page 5.57"
     ]
    },
    {
     "cell_type": "code",
     "collapsed": false,
     "input": [
      "from math import pi\n",
      "#For Single Turn:\n",
      "from sympy import symbols, sqrt\n",
      "lamda = symbols('lamda')\n",
      "a=lamda/25\n",
      "A=pi*pow(a,2)\n",
      "Rr = (A/lamda**2)**2*31171.2\n",
      "print \"radiation Resistance =\",round(Rr,4),\"Ohm for single turn \"\n",
      "\n",
      "#For Eight Turn:\n",
      "N=8 #no. of turns\n",
      "Rr=Rr*N**2 #in Ohm\n",
      "print \"radiation Resistance = %0.2f Ohm for Eight turn \" %Rr"
     ],
     "language": "python",
     "metadata": {},
     "outputs": [
      {
       "output_type": "stream",
       "stream": "stdout",
       "text": [
        "radiation Resistance = 0.7876 Ohm for single turn \n",
        "radiation Resistance = 50.40 Ohm for Eight turn \n"
       ]
      }
     ],
     "prompt_number": 26
    },
    {
     "cell_type": "heading",
     "level": 2,
     "metadata": {},
     "source": [
      "Exa 5.2 : page 5.58"
     ]
    },
    {
     "cell_type": "code",
     "collapsed": false,
     "input": [
      "from math import pi, acos, sqrt \n",
      "#Given data :\n",
      "f=20.0 #in MHz\n",
      "N=15.0 #No. of turns\n",
      "A=2.0 #in m**2\n",
      "Vrms=200.0 #in uV\n",
      "theta=acos(1)  #in radian\n",
      "mu_o=4*pi*10**-7 #in H/m\n",
      "#Formula : Vm=2*pi*f*mu_o*H*A*N\n",
      "Vm=Vrms*sqrt(2) #in uV\n",
      "H=(Vm*10**-6)/(2.0*pi*f*10**6*mu_o*A*N) #in A/m\n",
      "print \"Peak Value of magnetic feld intensity = %0.3e mA/m \" %(H*1000) \n",
      "#Note : Answer in the book is wrong."
     ],
     "language": "python",
     "metadata": {},
     "outputs": [
      {
       "output_type": "stream",
       "stream": "stdout",
       "text": [
        "Peak Value of magnetic feld intensity = 5.970e-05 mA/m \n"
       ]
      }
     ],
     "prompt_number": 32
    },
    {
     "cell_type": "heading",
     "level": 2,
     "metadata": {},
     "source": [
      "Exa 5.3 : page 5.58"
     ]
    },
    {
     "cell_type": "code",
     "collapsed": false,
     "input": [
      "from math import sqrt\n",
      "#Given data :\n",
      "f=20 #in MHz\n",
      "f=f*10**6 #in Hz\n",
      "Wmax=25 #in mW/m**2\n",
      "A=10.0 #in m**2\n",
      "c=3*10**8 #speed of light in m/s\n",
      "lamda=c/f #in meter\n",
      "Rr=31171.2*(A/lamda**2)**2 #iin Ohm\n",
      "#Formula : Wmax=V**2/(4*Rr)\n",
      "V=sqrt(Wmax*10**-3*4*Rr) #in Volts\n",
      "print \"Maximum emf in the loop = %0.3f Volts \"%V "
     ],
     "language": "python",
     "metadata": {},
     "outputs": [
      {
       "output_type": "stream",
       "stream": "stdout",
       "text": [
        "Maximum emf in the loop = 2.481 Volts \n"
       ]
      }
     ],
     "prompt_number": 35
    },
    {
     "cell_type": "heading",
     "level": 2,
     "metadata": {},
     "source": [
      "Exa 5.4 : page 5.59"
     ]
    },
    {
     "cell_type": "code",
     "collapsed": false,
     "input": [
      "from math import pi\n",
      "#Given data :\n",
      "N=20.0 #turns\n",
      "D=1.0 #in meter\n",
      "r=D/2 #in meter\n",
      "E=200*10**-6 #in V/m\n",
      "L=50*10**-6 #in H\n",
      "R=2.0 #in Ohm\n",
      "f=1.5 #in MHz\n",
      "f=f*10**6 #in Hz\n",
      "c=3*10**8 #speed of light in m/s\n",
      "lamda=c/f #in meter\n",
      "A=pi*r**2 #in m**2\n",
      "Vrms=2*pi*E*A*N/lamda #in Volts\n",
      "Q=2*pi*f*L/R #unitless\n",
      "Vc_rms=Vrms*Q #in Volts\n",
      "print \"Voltage across the capacitor = %0.2f mV\" %(Vc_rms*1000) \n",
      "#Note : Answer in the book is wrong."
     ],
     "language": "python",
     "metadata": {},
     "outputs": [
      {
       "output_type": "stream",
       "stream": "stdout",
       "text": [
        "Voltage across the capacitor = 23.25 mV\n"
       ]
      }
     ],
     "prompt_number": 36
    },
    {
     "cell_type": "heading",
     "level": 2,
     "metadata": {},
     "source": [
      "Exa 5.5 : page 5.59"
     ]
    },
    {
     "cell_type": "code",
     "collapsed": false,
     "input": [
      "from math import pi, cos\n",
      "#Given data :\n",
      "N=100 #No. of turns\n",
      "A=2 #in m**2\n",
      "f=10 #in MHz\n",
      "f=f*10**6 #in Hz\n",
      "Q=150 #Quality factor\n",
      "c=3*10**8 #speed of light in m/s\n",
      "lamda=c/f #in meter\n",
      "Erms=10*10**-6 #in V/m\n",
      "theta=60 #in degree\n",
      "Vrms=2*pi*Erms*A*N*cos(theta*pi/180)/lamda \n",
      "Vin=Vrms*Q #in Volts\n",
      "print \"Voltage to the receiver = %0.1f mV  \" %(Vin*1000) \n",
      "#Note : Answer in the book is wrong."
     ],
     "language": "python",
     "metadata": {},
     "outputs": [
      {
       "output_type": "stream",
       "stream": "stdout",
       "text": [
        "Voltage to the receiver = 31.4 mV  \n"
       ]
      }
     ],
     "prompt_number": 40
    }
   ],
   "metadata": {}
  }
 ]
}
