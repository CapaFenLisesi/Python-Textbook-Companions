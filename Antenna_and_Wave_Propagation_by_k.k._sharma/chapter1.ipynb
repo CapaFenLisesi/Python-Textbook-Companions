{
 "metadata": {
  "name": "",
  "signature": ""
 },
 "nbformat": 3,
 "nbformat_minor": 0,
 "worksheets": [
  {
   "cells": [
    {
     "cell_type": "heading",
     "level": 1,
     "metadata": {},
     "source": [
      "chapter 01 : Antenna Principles"
     ]
    },
    {
     "cell_type": "heading",
     "level": 2,
     "metadata": {},
     "source": [
      "Exa 1.1 : page 1.42"
     ]
    },
    {
     "cell_type": "code",
     "collapsed": false,
     "input": [
      "from math import pi\n",
      "#given data :\n",
      "E=4.0 #in V/m\n",
      "Eta=120*pi #constant\n",
      "#Formula : E/H=Eta\n",
      "H=E/Eta #in A/m\n",
      "print \"Strength of magnetic field in free space = %0.4f A/m \" %H"
     ],
     "language": "python",
     "metadata": {},
     "outputs": [
      {
       "output_type": "stream",
       "stream": "stdout",
       "text": [
        "Strength of magnetic field in free space = 0.0106 A/m \n"
       ]
      }
     ],
     "prompt_number": 3
    },
    {
     "cell_type": "heading",
     "level": 2,
     "metadata": {},
     "source": [
      "Exa 1.2 : page 1.42"
     ]
    },
    {
     "cell_type": "code",
     "collapsed": false,
     "input": [
      "from math import pi\n",
      "#given data :\n",
      "H=5.2 #in mA/m\n",
      "Eta=120*pi #constant\n",
      "#Formula : E/H=Eta\n",
      "E=H*10**-3*Eta #in V/m\n",
      "print \"Strength of Electric field in free space =\",round(E),\"V/m\" "
     ],
     "language": "python",
     "metadata": {},
     "outputs": [
      {
       "output_type": "stream",
       "stream": "stdout",
       "text": [
        "Strength of Electric field in free space = 2.0 V/m\n"
       ]
      }
     ],
     "prompt_number": 4
    },
    {
     "cell_type": "heading",
     "level": 2,
     "metadata": {},
     "source": [
      "Exa 1.3 : page 1.42"
     ]
    },
    {
     "cell_type": "code",
     "collapsed": false,
     "input": [
      "#given data :\n",
      "I=20.0 #in A\n",
      "Rr=100.0 #in Ohm\n",
      "#Formula : Wr=I**2*R\n",
      "Wr=I**2*Rr #in W\n",
      "print \"Radiated power  = %0.f kW \" %(Wr/1000) "
     ],
     "language": "python",
     "metadata": {},
     "outputs": [
      {
       "output_type": "stream",
       "stream": "stdout",
       "text": [
        "Radiated power  = 40 kW \n"
       ]
      }
     ],
     "prompt_number": 5
    },
    {
     "cell_type": "heading",
     "level": 2,
     "metadata": {},
     "source": [
      "Exa 1.4 : page 1.42"
     ]
    },
    {
     "cell_type": "code",
     "collapsed": false,
     "input": [
      "from math import sqrt\n",
      "#given data :\n",
      "W=625.0 #in KW\n",
      "r=30.0 #in Km\n",
      "Erms=sqrt(90*W*1000)/(r*1000) #in V/m\n",
      "print \"Strength of Electric field at 30Km away = %0.f mV/m \" %(Erms*1000) "
     ],
     "language": "python",
     "metadata": {},
     "outputs": [
      {
       "output_type": "stream",
       "stream": "stdout",
       "text": [
        "Strength of Electric field at 30Km away = 250 mV/m \n"
       ]
      }
     ],
     "prompt_number": 6
    },
    {
     "cell_type": "heading",
     "level": 2,
     "metadata": {},
     "source": [
      "Exa 1.5 : page 1.43"
     ]
    },
    {
     "cell_type": "code",
     "collapsed": false,
     "input": [
      "from math import pi\n",
      "#given data :\n",
      "le=10.0 #in m\n",
      "Irms=450.0 #in A\n",
      "f=50.0 #in KHz\n",
      "R=1.5 #in Ohm\n",
      "lamda=300.0/(f/1000) #in m\n",
      "Rr=160*(pi)**2*(le/lamda)**2 #in Ohm\n",
      "print \"Radiation resistance = %0.5f ohm\" %Rr\n",
      "Wr=Irms**2*Rr #in W\n",
      "print \"Radiated power = %0.2f Watts \" %Wr \n",
      "Eta=(Rr/(Rr+R))*100 #efficiency in %\n",
      "print \"Efficiency of antenna = %0.2f %%\" %Eta\n",
      "# Ans in the textbook is not accurate."
     ],
     "language": "python",
     "metadata": {},
     "outputs": [
      {
       "output_type": "stream",
       "stream": "stdout",
       "text": [
        "Radiation resistance = 0.00439 ohm\n",
        "Radiated power = 888.26 Watts \n",
        "Efficiency of antenna = 0.29 %\n"
       ]
      }
     ],
     "prompt_number": 10
    },
    {
     "cell_type": "heading",
     "level": 2,
     "metadata": {},
     "source": [
      "Exa 1.6 : page 1.43"
     ]
    },
    {
     "cell_type": "code",
     "collapsed": false,
     "input": [
      "from math import pi\n",
      "#given data :\n",
      "le=50.0 #in m\n",
      "f=100.0 #in MHz\n",
      "lamda=300.0/(f) #in m\n",
      "Rr=(160*(pi)**2)*(le/lamda)**2 #in Ohm\n",
      "print \"Radiation Resistance = %0.2f Mohm \" %(Rr/10**6) \n",
      "#Note : Answer in the book is wrong"
     ],
     "language": "python",
     "metadata": {},
     "outputs": [
      {
       "output_type": "stream",
       "stream": "stdout",
       "text": [
        "Radiation Resistance = 0.44 Mohm \n"
       ]
      }
     ],
     "prompt_number": 12
    },
    {
     "cell_type": "heading",
     "level": 2,
     "metadata": {},
     "source": [
      "Exa 1.7 : page 1.44"
     ]
    },
    {
     "cell_type": "code",
     "collapsed": false,
     "input": [
      "from math import pi\n",
      "#given data :\n",
      "l=30 #in m\n",
      "Irms=20 #in A\n",
      "f=1 #in MHz\n",
      "r=10 #in Km\n",
      "r=r*1000 #in m\n",
      "le=2*l/pi #in m\n",
      "lamda=300/(f) #in m\n",
      "Erms=120*pi*le*Irms/(lamda*r) #in V/m\n",
      "print \"Field strength at 10Km distance = %0.2e V/m \" %Erms \n",
      "#Note : Answer in the book is wrong"
     ],
     "language": "python",
     "metadata": {},
     "outputs": [
      {
       "output_type": "stream",
       "stream": "stdout",
       "text": [
        "Field strength at 10Km distance = 4.80e-02 V/m \n"
       ]
      }
     ],
     "prompt_number": 14
    },
    {
     "cell_type": "heading",
     "level": 2,
     "metadata": {},
     "source": [
      "Exa 1.8 : page 1.44"
     ]
    },
    {
     "cell_type": "code",
     "collapsed": false,
     "input": [
      "from math import pi\n",
      "#given data :\n",
      "Rl=1.0 #in ohm\n",
      "#Formula : Rr=80*pi**2*(l/lamda)**2\n",
      "#Given l=lamda/10\n",
      "#l/lamda=1/10\n",
      "Rr=80*pi**2*(1.0/10)**2 #in Ohm\n",
      "print \"Radiation resistance = %0.2f Ohm \" %(Rr) \n",
      "Eta=Rr/(Rr+Rl) #Unitless\n",
      "print \"Antenna Efficiency = %0.2f %% \" %(Eta*100) "
     ],
     "language": "python",
     "metadata": {},
     "outputs": [
      {
       "output_type": "stream",
       "stream": "stdout",
       "text": [
        "Radiation resistance = 7.90 Ohm \n",
        "Antenna Efficiency = 88.76 % \n"
       ]
      }
     ],
     "prompt_number": 15
    },
    {
     "cell_type": "heading",
     "level": 2,
     "metadata": {},
     "source": [
      "Exa 1.9 : page 1.44"
     ]
    },
    {
     "cell_type": "code",
     "collapsed": false,
     "input": [
      "from math import sqrt\n",
      "#given data :\n",
      "r=100 #in Km\n",
      "W=100 #in KW\n",
      "Erms=sqrt(90*W*1000)/(r*1000) #in V/m\n",
      "print \"Strength of Electric Field = %0.2f V/m \" %Erms "
     ],
     "language": "python",
     "metadata": {},
     "outputs": [
      {
       "output_type": "stream",
       "stream": "stdout",
       "text": [
        "Strength of Electric Field = 0.03 V/m \n"
       ]
      }
     ],
     "prompt_number": 16
    },
    {
     "cell_type": "heading",
     "level": 2,
     "metadata": {},
     "source": [
      "Exa 1.10 : page 1.44"
     ]
    },
    {
     "cell_type": "code",
     "collapsed": false,
     "input": [
      "from math import pi\n",
      "#given data :\n",
      "le=200.0 #in m\n",
      "Irms=200 #in A\n",
      "f=300 #in KHz\n",
      "r=10 #in Km\n",
      "c=3*10**8 #speed of light i m/s\n",
      "lamda=c/(f*1000) #in m\n",
      "Erms=120*pi*le*Irms/(lamda*r*10**3) #in V/m\n",
      "print \"Field strength at 10Km distance = %0.4f V/m\" %(Erms) \n",
      "Rr=(160*(pi)**2)*(le/lamda)**2 #in Ohm\n",
      "W=Irms**2*Rr #in Watts\n",
      "print \"Radiated Power = %0.2f MW \" %(W/10**6) \n",
      "#Note : Answer is wrong in the book. Unit of answer in the book is written mW instead of MW by mistake."
     ],
     "language": "python",
     "metadata": {},
     "outputs": [
      {
       "output_type": "stream",
       "stream": "stdout",
       "text": [
        "Field strength at 10Km distance = 1.5080 V/m\n",
        "Radiated Power = 2.53 MW \n"
       ]
      }
     ],
     "prompt_number": 21
    },
    {
     "cell_type": "heading",
     "level": 2,
     "metadata": {},
     "source": [
      "Exa 1.11 : page 1.45"
     ]
    },
    {
     "cell_type": "code",
     "collapsed": false,
     "input": [
      "from math import pi\n",
      "#given data :\n",
      "#Formula : Rr=80*pi**2*(l/lamda)**2\n",
      "#Given l=lamda/60\n",
      "#l/lamda=1/60\n",
      "Rr=80*pi**2*(1.0/60)**2 #in Ohm\n",
      "print \"Radiation resistance = %0.3f Ohm  \" %Rr "
     ],
     "language": "python",
     "metadata": {},
     "outputs": [
      {
       "output_type": "stream",
       "stream": "stdout",
       "text": [
        "Radiation resistance = 0.219 Ohm  \n"
       ]
      }
     ],
     "prompt_number": 23
    },
    {
     "cell_type": "heading",
     "level": 2,
     "metadata": {},
     "source": [
      "Exa 1.12 : page 1.45"
     ]
    },
    {
     "cell_type": "code",
     "collapsed": false,
     "input": [
      "#given data :\n",
      "r=10.0 #in Km\n",
      "Erms=10.0 #in mV/m\n",
      "r1=20.0 #in Km\n",
      "#Formula : Erms=sqrt(90*W)/r #in V/m\n",
      "#Let swrt(90*W)=a\n",
      "a=Erms*r \n",
      "Erms1=a/r1 #in mV/m\n",
      "print \"Field strength at 20Km distance = %0.f mV/m \" %Erms1 "
     ],
     "language": "python",
     "metadata": {},
     "outputs": [
      {
       "output_type": "stream",
       "stream": "stdout",
       "text": [
        "Field strength at 20Km distance = 5 mV/m \n"
       ]
      }
     ],
     "prompt_number": 24
    },
    {
     "cell_type": "heading",
     "level": 2,
     "metadata": {},
     "source": [
      "Exa 1.13 : page 1.45"
     ]
    },
    {
     "cell_type": "code",
     "collapsed": false,
     "input": [
      "from math import pi\n",
      "#given data :\n",
      "r=1.0 #in Km\n",
      "r=1*10**3 #in m\n",
      "l=1.0 #in m\n",
      "Irms=10.0 #in A\n",
      "f=5.0 #in MHz\n",
      "c=3*10**8 #speed of light i m/s\n",
      "lamda=c/(f*10**6) #in m\n",
      "le=2*l/pi #in m\n",
      "Erms=120*pi*le*Irms/(lamda*r) #in V/m\n",
      "print \"Field strength at 10Km distance = %0.4f V/m \" %Erms\n",
      "#Note : Answer in the book is wrong. Mistake during value putting."
     ],
     "language": "python",
     "metadata": {},
     "outputs": [
      {
       "output_type": "stream",
       "stream": "stdout",
       "text": [
        "Field strength at 10Km distance = 0.0400 V/m \n"
       ]
      }
     ],
     "prompt_number": 26
    },
    {
     "cell_type": "heading",
     "level": 2,
     "metadata": {},
     "source": [
      "Exa 1.14 : page 1.46"
     ]
    },
    {
     "cell_type": "code",
     "collapsed": false,
     "input": [
      "from math import pi\n",
      "#given data :\n",
      "Irms=30.0 #in A\n",
      "f=1.0 #in MHz\n",
      "Erms=10.0 #in mV/m\n",
      "Erms=Erms*10**-3 #in V/m\n",
      "r=50.0 #in Km\n",
      "r=r*10**3 #in m\n",
      "c=3*10**8 #speed of light i m/s\n",
      "lamda=c/(f*10**6) #in m\n",
      "le=Erms*lamda*r/(120*pi*Irms) #in m\n",
      "print \"Effetive height of Antenna = %0.4f meter \" %le "
     ],
     "language": "python",
     "metadata": {},
     "outputs": [
      {
       "output_type": "stream",
       "stream": "stdout",
       "text": [
        "Effetive height of Antenna = 13.2629 meter \n"
       ]
      }
     ],
     "prompt_number": 28
    },
    {
     "cell_type": "heading",
     "level": 2,
     "metadata": {},
     "source": [
      "Exa 1.15 : page 1.46"
     ]
    },
    {
     "cell_type": "code",
     "collapsed": false,
     "input": [
      "from sympy import symbols, solve\n",
      "I, r = symbols('I r')\n",
      "E = 10*I/r # V/m\n",
      "\n",
      "#given data :\n",
      "Erms_sqr = E**2\n",
      "Wt = (Erms_sqr*r**2)/30 \n",
      "Rr = Wt/I**2 # ohm\n",
      "print \"Radiation resistance = %0.2f Ohm \" %float(Rr) \n"
     ],
     "language": "python",
     "metadata": {},
     "outputs": [
      {
       "output_type": "stream",
       "stream": "stdout",
       "text": [
        "Radiation resistance = 3.33 Ohm \n"
       ]
      }
     ],
     "prompt_number": 41
    },
    {
     "cell_type": "heading",
     "level": 2,
     "metadata": {},
     "source": [
      "Exa 1.16 : page 1.46"
     ]
    },
    {
     "cell_type": "code",
     "collapsed": false,
     "input": [
      "#given data :\n",
      "lamda=300/(50*10**-6) #in m\n",
      "r=round(lamda)/(2*pi) #in m\n",
      "print \"Distance = %0.2e meter \" %r \n",
      "#Note : Answer in the book is wrong."
     ],
     "language": "python",
     "metadata": {},
     "outputs": [
      {
       "output_type": "stream",
       "stream": "stdout",
       "text": [
        "Distance = 9.55e+05 meter \n"
       ]
      }
     ],
     "prompt_number": 43
    },
    {
     "cell_type": "heading",
     "level": 2,
     "metadata": {},
     "source": [
      "Exa 1.17 : page 1.47"
     ]
    },
    {
     "cell_type": "code",
     "collapsed": false,
     "input": [
      "from math import sqrt\n",
      "#given data :\n",
      "r=2 #in Km\n",
      "r=r*10**3 #in m\n",
      "Wt=1 #in KW\n",
      "Wt=Wt*10**3 #in Watt\n",
      "Erms=sqrt(30*Wt)/r #in V/m\n",
      "print \"Field strength at 2Km distance = %0.3f mV/m \" %(Erms*10**3) "
     ],
     "language": "python",
     "metadata": {},
     "outputs": [
      {
       "output_type": "stream",
       "stream": "stdout",
       "text": [
        "Field strength at 2Km distance = 86.603 mV/m \n"
       ]
      }
     ],
     "prompt_number": 45
    },
    {
     "cell_type": "heading",
     "level": 2,
     "metadata": {},
     "source": [
      "Exa 1.18 : page 1.47"
     ]
    },
    {
     "cell_type": "code",
     "collapsed": false,
     "input": [
      "from math import pi\n",
      "#given data :\n",
      "f=20.0 #in MHz\n",
      "f=f*10**6 #in Hz\n",
      "le=100.0 #in m\n",
      "c=3*10**8 #speed of light in m/s\n",
      "lamda=c/f #in m\n",
      "Rr=160*(pi*le/lamda)**2 #in ohm\n",
      "print \"Radiation Resistance = %0.1f kohm \" %(Rr/1000) "
     ],
     "language": "python",
     "metadata": {},
     "outputs": [
      {
       "output_type": "stream",
       "stream": "stdout",
       "text": [
        "Radiation Resistance = 70.2 kohm \n"
       ]
      }
     ],
     "prompt_number": 47
    },
    {
     "cell_type": "heading",
     "level": 2,
     "metadata": {},
     "source": [
      "Exa 1.19 : page 1.47"
     ]
    },
    {
     "cell_type": "code",
     "collapsed": false,
     "input": [
      "from math import sqrt, pi\n",
      "#given data :\n",
      "P=10.0 #in W/m**2\n",
      "f=40.0 #in MHz\n",
      "f=f*10**6 #in Hz\n",
      "mu_r=4.0 #constant\n",
      "epsilon_r=5 #constant\n",
      "#Velocity of propagation\n",
      "#formula : v=(1/sqrt(mu_o*epsilon_o))*(1/sqrt(mu_r*epsilon_r)) #in m/s\n",
      "#1/sqrt(mu_o*epsilon_o)=c=speed of light=3*10**8 m/s\n",
      "c=3*10**8 #speed of light in m/s\n",
      "v=c*(1.0/sqrt(mu_r*epsilon_r)) #in m/s\n",
      "print \"Velocity of propagation = %0.1e m/s \" %v \n",
      "#Wavelength\n",
      "lamda=v/f #in meter\n",
      "print \"Wavelength = %0.2f m \" %lamda \n",
      "#rms electric field\n",
      "#Formula : E=P*sqrt(mu_o/epsilon_o)*sqrt(mu_r/epsilon_r) #in V/m\n",
      "E=sqrt(1200*pi*sqrt(4.0/5)) #in V/m\n",
      "Erms=sqrt(E**2/sqrt(2)) #in V/m\n",
      "print \"rms Electric Field = %0.2f V/m\" %Erms \n",
      "#Impedence of medium\n",
      "Eta=(sqrt(2)*Erms)**2/P #in Ohm\n",
      "print \"Impedence of medium = %0.2f ohm \" %Eta "
     ],
     "language": "python",
     "metadata": {},
     "outputs": [
      {
       "output_type": "stream",
       "stream": "stdout",
       "text": [
        "Velocity of propagation = 6.7e+07 m/s \n",
        "Wavelength = 1.68 m \n",
        "rms Electric Field = 48.83 V/m\n",
        "Impedence of medium = 476.86 ohm \n"
       ]
      }
     ],
     "prompt_number": 50
    },
    {
     "cell_type": "heading",
     "level": 2,
     "metadata": {},
     "source": [
      "Exa 1.20 : page 1.48"
     ]
    },
    {
     "cell_type": "code",
     "collapsed": false,
     "input": [
      "from math import pi\n",
      "from sympy import symbols, solve, N\n",
      "#given data :\n",
      "#Hfi = (Im*dlsin(theta)/(4*pi))*[cos(omega*t1)/r-omega*sin(omega*t1)/(c*r)]\n",
      "lamda, r = symbols('lamda r')\n",
      "#expr = 200.0/r**2-2*pi*f/c\n",
      "expr = 200.0/r**2-2*pi/lamda/r # putting f/c = lamda\n",
      "r = solve(expr, r)\n",
      "print \"r =\",N(r[0],4)"
     ],
     "language": "python",
     "metadata": {},
     "outputs": [
      {
       "output_type": "stream",
       "stream": "stdout",
       "text": [
        "r = 31.83*lamda\n"
       ]
      }
     ],
     "prompt_number": 3
    }
   ],
   "metadata": {}
  }
 ]
}
