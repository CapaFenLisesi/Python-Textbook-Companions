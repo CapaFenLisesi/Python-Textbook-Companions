{
 "metadata": {
  "name": "",
  "signature": "sha256:ddc25f5d953d46de15d09c9a8d7da27eb7ecafe874a3fe46bf2bbd376bf4cf37"
 },
 "nbformat": 3,
 "nbformat_minor": 0,
 "worksheets": [
  {
   "cells": [
    {
     "cell_type": "heading",
     "level": 1,
     "metadata": {},
     "source": [
      "Chapter 23 Magnetic properties of solids"
     ]
    },
    {
     "cell_type": "heading",
     "level": 2,
     "metadata": {},
     "source": [
      "Example 23.1 Page no 268"
     ]
    },
    {
     "cell_type": "code",
     "collapsed": false,
     "input": [
      "#Given\n",
      "u=9.3*10**-24                   #Joule/tesla\n",
      "ub=5.6*10**-5                  #ev\n",
      "Kb=0.025                          #ev\n",
      "\n",
      "#Calculation\n",
      "A=ub/Kb\n",
      "print\"Magnetic interaction is\", A*10**3,\"*10**-3\""
     ],
     "language": "python",
     "metadata": {},
     "outputs": [
      {
       "output_type": "stream",
       "stream": "stdout",
       "text": [
        "Magnetic interaction is 2.24 *10**-3\n"
       ]
      }
     ],
     "prompt_number": 5
    },
    {
     "cell_type": "heading",
     "level": 2,
     "metadata": {},
     "source": [
      "Example 23.2 Page no 269"
     ]
    },
    {
     "cell_type": "code",
     "collapsed": false,
     "input": [
      "#Given\n",
      "N=2.8*10**-13\n",
      "a=27*10**23\n",
      "b=0.53*10**-8\n",
      "\n",
      "#Calculation\n",
      "x=-(a*N*b)/3.0\n",
      "\n",
      "#Result\n",
      "print\"Diamagnetic susceptibility is\", round(x*10**-4,2),\"*10**-5\""
     ],
     "language": "python",
     "metadata": {},
     "outputs": [
      {
       "output_type": "stream",
       "stream": "stdout",
       "text": [
        "Diamagnetic susceptibility is -0.13 *10**-5\n"
       ]
      }
     ],
     "prompt_number": 17
    }
   ],
   "metadata": {}
  }
 ]
}