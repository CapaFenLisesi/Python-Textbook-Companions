{
 "metadata": {
  "name": "",
  "signature": "sha256:b6353cab8239666e492e150381505927ed36ee982fa6a2d0b8c2d1ea5d2f16a2"
 },
 "nbformat": 3,
 "nbformat_minor": 0,
 "worksheets": [
  {
   "cells": [
    {
     "cell_type": "heading",
     "level": 1,
     "metadata": {},
     "source": [
      "Chapter 21 Band theory of solids"
     ]
    },
    {
     "cell_type": "heading",
     "level": 2,
     "metadata": {},
     "source": [
      "Example 21.1 Page no 228"
     ]
    },
    {
     "cell_type": "code",
     "collapsed": false,
     "input": [
      "#Given\n",
      "T=300                   #K\n",
      "Er=0.7                  #ev\n",
      "K=0.025                  #ev\n",
      "a=4.83*10**21\n",
      "\n",
      "#Calculation\n",
      "import math\n",
      "ni=a*T**1.5*math.exp(Er/K)\n",
      "\n",
      "#Result\n",
      "print\"Density of holes and electron is\",round(ni*10**-37,1)*10**19,\"/m**3\""
     ],
     "language": "python",
     "metadata": {},
     "outputs": [
      {
       "output_type": "stream",
       "stream": "stdout",
       "text": [
        "Density of holes and electron is 3.6e+19 /m**3\n"
       ]
      }
     ],
     "prompt_number": 12
    },
    {
     "cell_type": "heading",
     "level": 2,
     "metadata": {},
     "source": [
      "Example 21.2 Page no 229"
     ]
    },
    {
     "cell_type": "code",
     "collapsed": false,
     "input": [
      "#Given\n",
      "T=300                  #K\n",
      "nd=5*10**22                #/m**3\n",
      "K=0.025                     #ev\n",
      "a=4.83*10**21\n",
      "\n",
      "#Calculation\n",
      "import math\n",
      "E=(a*T**1.5)/nd\n",
      "E1=K*math.log(E)\n",
      "\n",
      "#Result\n",
      "print\"Position of fermi level is\", round(E1,2),\"ev\""
     ],
     "language": "python",
     "metadata": {},
     "outputs": [
      {
       "output_type": "stream",
       "stream": "stdout",
       "text": [
        "Position of fermi level is 0.16 ev\n"
       ]
      }
     ],
     "prompt_number": 20
    },
    {
     "cell_type": "heading",
     "level": 2,
     "metadata": {},
     "source": [
      "Example 21.3 Page no 229"
     ]
    },
    {
     "cell_type": "code",
     "collapsed": false,
     "input": [
      "#Given\n",
      "E=0.3                         #ev\n",
      "T1=300.0\n",
      "T2=330                         #K\n",
      "\n",
      "#Calculation\n",
      "E1=E*T2/T1\n",
      "\n",
      "#Result\n",
      "print\"New position of fermi level is\",E1,\"ev\""
     ],
     "language": "python",
     "metadata": {},
     "outputs": [
      {
       "output_type": "stream",
       "stream": "stdout",
       "text": [
        "New position of fermi level is 0.33 ev\n"
       ]
      }
     ],
     "prompt_number": 22
    },
    {
     "cell_type": "heading",
     "level": 2,
     "metadata": {},
     "source": [
      "Example 21.4 Page no 230"
     ]
    },
    {
     "cell_type": "code",
     "collapsed": false,
     "input": [
      "#Given\n",
      "Kb=9.1*10**-31\n",
      "m=1.38*10**-23\n",
      "h=6.6*10**-34\n",
      "uh=0.17                       #m**2/Volt/sec\n",
      "a=2.12                        #/ohm/m\n",
      "ue=0.36\n",
      "e=1.2*10**-19\n",
      "T=300\n",
      "T1=13.8\n",
      "\n",
      "#Calculation\n",
      "import math\n",
      "C=2*((2*math.pi*Kb*m)/h**2)**1.5\n",
      "ni=a/(e*(ue+uh))\n",
      "A=(C*T**1.5)/ni\n",
      "K=math.log(A)*T\n",
      "Eb=2*Kb*T1\n",
      "\n",
      "#Result\n",
      "print round(Eb*10**28,2),\"ev\""
     ],
     "language": "python",
     "metadata": {},
     "outputs": [
      {
       "output_type": "stream",
       "stream": "stdout",
       "text": [
        "0.25 ev\n"
       ]
      }
     ],
     "prompt_number": 51
    },
    {
     "cell_type": "heading",
     "level": 2,
     "metadata": {},
     "source": [
      "Example 21.5 Page no 231"
     ]
    },
    {
     "cell_type": "code",
     "collapsed": false,
     "input": [
      "#Given\n",
      "E=0.4                                    #ev\n",
      "T=0.03                                   #ev\n",
      "\n",
      "#Calculation\n",
      "import math\n",
      "E1=E-(T*math.log(3))\n",
      "\n",
      "#Result\n",
      "print\"New position of fermi level is\", round(E1,3),\"ev\""
     ],
     "language": "python",
     "metadata": {},
     "outputs": [
      {
       "output_type": "stream",
       "stream": "stdout",
       "text": [
        "New position of fermi level is 0.367 ev\n"
       ]
      }
     ],
     "prompt_number": 55
    },
    {
     "cell_type": "heading",
     "level": 2,
     "metadata": {},
     "source": [
      "Example 21.6 Page no 231"
     ]
    },
    {
     "cell_type": "code",
     "collapsed": false,
     "input": [
      "#Given\n",
      "h=6.626*10**-34                           #J-s\n",
      "m=9.1*10**-31                               #Kg\n",
      "a=0.3*10**-9                                #m\n",
      "e=1.6*10**-19\n",
      "\n",
      "#Calculation\n",
      "p=h/(2*a)\n",
      "E=p**2/(2*m*e)\n",
      "\n",
      "#Result\n",
      "print\"Electron momentum is\",round(p*10**24,1)*10**-24,\"Kg m/s\"\n",
      "print\"Energy of free electron is\",round(E,1),\"ev\""
     ],
     "language": "python",
     "metadata": {},
     "outputs": [
      {
       "output_type": "stream",
       "stream": "stdout",
       "text": [
        "Electron momentum is 1.1e-24 Kg m/s\n",
        "Energy of free electron is 4.2 ev\n"
       ]
      }
     ],
     "prompt_number": 64
    },
    {
     "cell_type": "heading",
     "level": 2,
     "metadata": {},
     "source": [
      "Example 21.7 Page no 232"
     ]
    },
    {
     "cell_type": "code",
     "collapsed": false,
     "input": [
      "#Given\n",
      "P=0.35                          #Volt\n",
      "T=300                           #K\n",
      "e=1.6*10**-19\n",
      "K=1.38*10**-23\n",
      "\n",
      "#Calculation\n",
      "import math\n",
      "Iv=math.exp(e*P/(K*T))\n",
      "\n",
      "#Result\n",
      "print\"Forward current is\", round(Iv*10**-5,2),\"*10**5 I0\""
     ],
     "language": "python",
     "metadata": {},
     "outputs": [
      {
       "output_type": "stream",
       "stream": "stdout",
       "text": [
        "Forward current is 7.49 *10**5 I0\n"
       ]
      }
     ],
     "prompt_number": 11
    },
    {
     "cell_type": "heading",
     "level": 2,
     "metadata": {},
     "source": [
      "Example 21.8 Page no 232"
     ]
    },
    {
     "cell_type": "code",
     "collapsed": false,
     "input": [
      "#Given\n",
      "Kb=1.38*10**-23\n",
      "T=300\n",
      "e=1.6*10**-19\n",
      "\n",
      "#Calculation\n",
      "import math\n",
      "V=math.log(10)*math.log10(1.9)*Kb*T/e\n",
      "\n",
      "#Result\n",
      "print\"Voltage is\", round(V,4),\"Volts\""
     ],
     "language": "python",
     "metadata": {},
     "outputs": [
      {
       "output_type": "stream",
       "stream": "stdout",
       "text": [
        "Voltage is 0.0166 Volts\n"
       ]
      }
     ],
     "prompt_number": 17
    },
    {
     "cell_type": "heading",
     "level": 2,
     "metadata": {},
     "source": [
      "Example 21.9 Page no 232"
     ]
    },
    {
     "cell_type": "code",
     "collapsed": false,
     "input": [
      "#Given\n",
      "a=0.428*10**-9\n",
      "n=2.55*10**28\n",
      "e=1.6*10**-19\n",
      "m=0.014\n",
      "m1=0.18\n",
      "me=9.1*10**-31                      #kg\n",
      "T=300                               #K\n",
      "K=0.025                             #ev\n",
      "Eg=0.15                             #ev\n",
      "n1=1.535*10**22\n",
      "Ix=100*10**-3\n",
      "b=10**-3                          #Web/m**3\n",
      "B=0.1\n",
      "\n",
      "#Calculation\n",
      "n=2/a**3\n",
      "Rh=1/(n*e)\n",
      "me1=m*me\n",
      "mh=m1*me\n",
      "RH=1/(n1*e)\n",
      "Vh=(Rh*Ix*B)/b\n",
      "VH=Ix*B*RH/b\n",
      "\n",
      "#Result\n",
      "print\"Hall coefficient of sodium is\", round(Rh*10**9,3),\"*10**-9 m**3/C\"\n",
      "print\"Hall coefficient of pure InSb is\",round(RH*10**4,2),\"*10**-4 m**3/C\"\n",
      "print\"Hall voltage for sodium is\",round(Vh*10**9,2)*10**-9,\"V\"\n",
      "print\"Hall voltage for InSb is\",round(VH*10**3,2),\"*10**-3 V\""
     ],
     "language": "python",
     "metadata": {},
     "outputs": [
      {
       "output_type": "stream",
       "stream": "stdout",
       "text": [
        "Hall coefficient of sodium is 0.245 *10**-9 m**3/C\n",
        "Hall coefficient of pure InSb is 4.07 *10**-4 m**3/C\n",
        "Hall voltage for sodium is 2.45e-09 V\n",
        "Hall voltage for InSb is 4.07 *10**-3 V\n"
       ]
      }
     ],
     "prompt_number": 43
    },
    {
     "cell_type": "heading",
     "level": 2,
     "metadata": {},
     "source": [
      "Example 21.10 Page no 233"
     ]
    },
    {
     "cell_type": "code",
     "collapsed": false,
     "input": [
      "#Given\n",
      "n=5*10**25                       #atoms/m**3\n",
      "e=1.6*10**-19                    #C\n",
      "\n",
      "#Calculation\n",
      "Rh=1/(n*e)\n",
      "\n",
      "#Result\n",
      "print\"Hall coefficient is\",Rh*10**8,\"*10**-4 m**3\""
     ],
     "language": "python",
     "metadata": {},
     "outputs": [
      {
       "output_type": "stream",
       "stream": "stdout",
       "text": [
        "Hall coefficient is 12.5 *10**-4 m**3\n"
       ]
      }
     ],
     "prompt_number": 52
    }
   ],
   "metadata": {}
  }
 ]
}