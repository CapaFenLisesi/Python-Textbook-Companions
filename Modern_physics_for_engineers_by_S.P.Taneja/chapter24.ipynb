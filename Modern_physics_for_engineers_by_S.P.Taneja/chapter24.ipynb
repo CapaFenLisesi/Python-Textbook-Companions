{
 "metadata": {
  "name": "",
  "signature": "sha256:b4c2ad3d2231e003dd81c8536584a68dd7b730bbf60d4fc7279f9c5e2add3106"
 },
 "nbformat": 3,
 "nbformat_minor": 0,
 "worksheets": [
  {
   "cells": [
    {
     "cell_type": "heading",
     "level": 1,
     "metadata": {},
     "source": [
      "Chapter 24 Superconductivity"
     ]
    },
    {
     "cell_type": "heading",
     "level": 2,
     "metadata": {},
     "source": [
      "Example 24.1 Page no 289"
     ]
    },
    {
     "cell_type": "code",
     "collapsed": false,
     "input": [
      "#Given\n",
      "H1=1.4*10**5                       #A/m\n",
      "H2=4.2*10**5             \n",
      "T1=14                              #K\n",
      "T2=13\n",
      "Tc=14.5\n",
      "H0=20.66*10**5                        #A/m\n",
      "T=4.2\n",
      "\n",
      "#Calculation\n",
      "Hc=H0*(Tc**2-T**2)/Tc**2\n",
      "\n",
      "#Result\n",
      "print\"Critical field is\",round(Hc*10**-5,1),\"*10**5 A/m\""
     ],
     "language": "python",
     "metadata": {},
     "outputs": [
      {
       "output_type": "stream",
       "stream": "stdout",
       "text": [
        "Critical field is 18.9 *10**5 A/m\n"
       ]
      }
     ],
     "prompt_number": 36
    },
    {
     "cell_type": "heading",
     "level": 2,
     "metadata": {},
     "source": [
      "Example 24.2 Page no 290"
     ]
    },
    {
     "cell_type": "code",
     "collapsed": false,
     "input": [
      "#Given\n",
      "Tc1=4.185                          #K\n",
      "M1=199.5\n",
      "M2=203.4\n",
      "\n",
      "#Calculation\n",
      "import math\n",
      "Tc2=Tc1*math.sqrt(M1)/math.sqrt(M2)\n",
      "\n",
      "#Result\n",
      "print\"Critical temperature is\",round(Tc2,2),\"K\""
     ],
     "language": "python",
     "metadata": {},
     "outputs": [
      {
       "output_type": "stream",
       "stream": "stdout",
       "text": [
        "Critical temperature is 4.14 K\n"
       ]
      }
     ],
     "prompt_number": 12
    },
    {
     "cell_type": "heading",
     "level": 2,
     "metadata": {},
     "source": [
      "Example 24.3 Page no 290"
     ]
    },
    {
     "cell_type": "code",
     "collapsed": false,
     "input": [
      "#Given\n",
      "T=4.2                           #K\n",
      "H0=6.5*10**4                      #A/m\n",
      "Tc=7.18\n",
      "d=10**-3\n",
      "\n",
      "#Calculation\n",
      "Hc=H0*(Tc**2-T**2)/Tc**2\n",
      "Jc=4*Hc/d\n",
      "\n",
      "#Result\n",
      "print\"Critical current is\", round(Jc*10**-8,3),\"*10**8 A/m**2\""
     ],
     "language": "python",
     "metadata": {},
     "outputs": [
      {
       "output_type": "stream",
       "stream": "stdout",
       "text": [
        "Critical current is 1.71 *10**8 A/m**2\n"
       ]
      }
     ],
     "prompt_number": 26
    },
    {
     "cell_type": "heading",
     "level": 2,
     "metadata": {},
     "source": [
      "Example 24.4 Page no 291"
     ]
    },
    {
     "cell_type": "code",
     "collapsed": false,
     "input": [
      "#Given\n",
      "w=750                         #A\n",
      "T=3.5\n",
      "Tc=4.12\n",
      "h=6.02*10**26\n",
      "a=13.55*10**3\n",
      "M=200.6\n",
      "\n",
      "#Calculation\n",
      "import math\n",
      "W=w*math.sqrt(1-(T/Tc)**4)\n",
      "n0=h*a/M\n",
      "ns=n0*(1-(T/Tc)**4)\n",
      "\n",
      "#Result\n",
      "print\"Penetration is\", round(ns*10**-28,2)*10**28,\"/m**3\""
     ],
     "language": "python",
     "metadata": {},
     "outputs": [
      {
       "output_type": "stream",
       "stream": "stdout",
       "text": [
        "Penetration is 1.95e+28 /m**3\n"
       ]
      }
     ],
     "prompt_number": 35
    }
   ],
   "metadata": {}
  }
 ]
}