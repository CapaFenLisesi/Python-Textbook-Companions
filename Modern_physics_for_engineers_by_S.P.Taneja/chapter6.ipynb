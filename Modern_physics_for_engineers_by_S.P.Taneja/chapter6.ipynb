{
 "metadata": {
  "name": "",
  "signature": "sha256:6ffb6fb5f2eac445aca13f38980506e3cf9076ac340f9f29d4a27dddedd73157"
 },
 "nbformat": 3,
 "nbformat_minor": 0,
 "worksheets": [
  {
   "cells": [
    {
     "cell_type": "heading",
     "level": 1,
     "metadata": {},
     "source": [
      "Chapter 6 Oscillatory motion"
     ]
    },
    {
     "cell_type": "heading",
     "level": 2,
     "metadata": {},
     "source": [
      "Example 6.1 Page no 218"
     ]
    },
    {
     "cell_type": "code",
     "collapsed": false,
     "input": [
      "#Given\n",
      "A =0.05                         #Amplitude of SHM in m\n",
      "T =6.0                           # period in sec\n",
      "Xo=A\n",
      "X =0.025\n",
      "\n",
      "#Calculation\n",
      "import math\n",
      "w =2*3.14/T\n",
      "ph= math.asin (Xo/A)\n",
      "t=(math.asin (X/Xo)-ph)/w \n",
      "t1= abs (t)\n",
      "\n",
      "#Result\n",
      "print\"Timeto move from equilibrium position is\",round(t1,1),\"sec\"\n"
     ],
     "language": "python",
     "metadata": {},
     "outputs": [
      {
       "output_type": "stream",
       "stream": "stdout",
       "text": [
        "Timeto move from equilibrium position is 1.0 sec\n"
       ]
      }
     ],
     "prompt_number": 6
    },
    {
     "cell_type": "heading",
     "level": 2,
     "metadata": {},
     "source": [
      "Example 6.2 Page no 219"
     ]
    },
    {
     "cell_type": "code",
     "collapsed": false,
     "input": [
      "#Given\n",
      "A =0.06                     #Amplitude of SHM in m\n",
      "T =31.4\n",
      "\n",
      "#Calculation\n",
      "w =2*3.14/T\n",
      "V=A*w\n",
      "\n",
      "#Result\n",
      "print\"Maximum velocity is\",V,\"m/s\""
     ],
     "language": "python",
     "metadata": {},
     "outputs": [
      {
       "output_type": "stream",
       "stream": "stdout",
       "text": [
        "Maximum velocity is 0.012 m/s\n"
       ]
      }
     ],
     "prompt_number": 8
    },
    {
     "cell_type": "heading",
     "level": 2,
     "metadata": {},
     "source": [
      "Example 6.3 Page no 219"
     ]
    },
    {
     "cell_type": "code",
     "collapsed": false,
     "input": [
      "#Given\n",
      "A=0.05                   #m\n",
      "T=2                      #S\n",
      "\n",
      "#Calculation\n",
      "import math\n",
      "x=A*math.sin(math.pi/3.0)\n",
      "v=A*math.pi*math.sqrt(1-(x**2/A**2))\n",
      "\n",
      "#Result\n",
      "print\"Displacement is\",round(x*10**2,1),\"cm\"\n",
      "print\"Velocity is\", round(v*10**2,2),\"cm/s\""
     ],
     "language": "python",
     "metadata": {},
     "outputs": [
      {
       "output_type": "stream",
       "stream": "stdout",
       "text": [
        "Displacement is 4.3 cm\n",
        "Velocity is 7.85 cm/s\n"
       ]
      }
     ],
     "prompt_number": 20
    },
    {
     "cell_type": "heading",
     "level": 2,
     "metadata": {},
     "source": [
      "Example 6.4 Page no 219"
     ]
    },
    {
     "cell_type": "code",
     "collapsed": false,
     "input": [
      "#Given\n",
      "l =1                         # length of pendulum in m\n",
      "m =1                       #mass of pendulum in kg\n",
      "g =9.8\n",
      "\n",
      "#Calculation\n",
      "T =2*3.14* math.sqrt (l/g)\n",
      "\n",
      "#Result\n",
      "print\"Period of oscillation is\",round(T,1),\"sec\""
     ],
     "language": "python",
     "metadata": {},
     "outputs": [
      {
       "output_type": "stream",
       "stream": "stdout",
       "text": [
        "Period of oscillation is 2.0 sec\n"
       ]
      }
     ],
     "prompt_number": 11
    },
    {
     "cell_type": "heading",
     "level": 2,
     "metadata": {},
     "source": [
      "Example 6.5 Page no 220"
     ]
    },
    {
     "cell_type": "code",
     "collapsed": false,
     "input": [
      "#Given\n",
      "m1 =8                           #mass suspended in kg\n",
      "l =0.32\n",
      "m =0.50\n",
      "g =9.8\n",
      "\n",
      "#Calculation\n",
      "import math\n",
      "k=m1*g/l\n",
      "T=2*math.pi* math.sqrt (m/k)\n",
      "\n",
      "#Result\n",
      "print\"K=\",k,\"N m\"\n",
      "print\"Time period of the oscillation is\",round(T,2),\"sec\""
     ],
     "language": "python",
     "metadata": {},
     "outputs": [
      {
       "output_type": "stream",
       "stream": "stdout",
       "text": [
        "K= 245.0 N m\n",
        "Time period of the oscillation is 0.28 sec\n"
       ]
      }
     ],
     "prompt_number": 26
    },
    {
     "cell_type": "heading",
     "level": 2,
     "metadata": {},
     "source": [
      "Example 6.6 Page no 220"
     ]
    },
    {
     "cell_type": "code",
     "collapsed": false,
     "input": [
      "#Given\n",
      "K=98.0                        #N/m\n",
      "x=20                         #cm\n",
      "g=9.8                       #m/sec**2\n",
      "\n",
      "#Calculation\n",
      "F=K*x/100.0\n",
      "m=K*x/(100*g)\n",
      "\n",
      "#Result\n",
      "print\"Restoring force is\",F,\"N\"\n",
      "print\"Mass is\",m,\"Kg\""
     ],
     "language": "python",
     "metadata": {},
     "outputs": [
      {
       "output_type": "stream",
       "stream": "stdout",
       "text": [
        "Restoring force is 19.6 N\n",
        "Mass is 2.0 Kg\n"
       ]
      }
     ],
     "prompt_number": 31
    },
    {
     "cell_type": "heading",
     "level": 2,
     "metadata": {},
     "source": [
      "Example 6.7 Page no 220"
     ]
    },
    {
     "cell_type": "code",
     "collapsed": false,
     "input": [
      "#Given\n",
      "T=57\n",
      "l=79\n",
      "\n",
      "#Calculation\n",
      "import math\n",
      "g=4*math.pi**2*l*T**2/(100*100**2)\n",
      "\n",
      "#Result\n",
      "print\"Value of g is\", round(g,2),\"m/s**2\""
     ],
     "language": "python",
     "metadata": {},
     "outputs": [
      {
       "output_type": "stream",
       "stream": "stdout",
       "text": [
        "Value of g is 10.13 m/s**2\n"
       ]
      }
     ],
     "prompt_number": 35
    },
    {
     "cell_type": "heading",
     "level": 2,
     "metadata": {},
     "source": [
      "Example 6.8 Page no 221"
     ]
    },
    {
     "cell_type": "code",
     "collapsed": false,
     "input": [
      "#Given\n",
      "m=4\n",
      "T=55\n",
      "\n",
      "#Calculation\n",
      "import math\n",
      "K=(2*math.pi*math.sqrt(m)*55/100.0)**2\n",
      "\n",
      "#Result\n",
      "print\"Stiffness factor is\", round(K,2),\"N/m\""
     ],
     "language": "python",
     "metadata": {},
     "outputs": [
      {
       "output_type": "stream",
       "stream": "stdout",
       "text": [
        "Stiffness factor is 47.77 N/m\n"
       ]
      }
     ],
     "prompt_number": 39
    },
    {
     "cell_type": "heading",
     "level": 2,
     "metadata": {},
     "source": [
      "Example 6.9 Page no 221"
     ]
    },
    {
     "cell_type": "code",
     "collapsed": false,
     "input": [
      "#Given\n",
      "K=89.2               # N/m\n",
      "T=1                     #S\n",
      "\n",
      "#Calculation\n",
      "import math\n",
      "M=(T*math.sqrt(K)/(2*math.pi))**2\n",
      "\n",
      "#Result\n",
      "print\"Mass is\", round(M,2),\"Kg\""
     ],
     "language": "python",
     "metadata": {},
     "outputs": [
      {
       "output_type": "stream",
       "stream": "stdout",
       "text": [
        "Mass is 2.26 Kg\n"
       ]
      }
     ],
     "prompt_number": 45
    },
    {
     "cell_type": "heading",
     "level": 2,
     "metadata": {},
     "source": [
      "Example 6.10 Page no 221"
     ]
    },
    {
     "cell_type": "code",
     "collapsed": false,
     "input": [
      "#Given\n",
      "m=4                         #Kg\n",
      "g=9.8                       #m/sec**2\n",
      "x=16.0\n",
      "m1=0.5\n",
      "\n",
      "#Calculation\n",
      "import math\n",
      "K=m*g*100/x\n",
      "T=2*math.pi*math.sqrt(m1/K)\n",
      "\n",
      "#Result\n",
      "print\"Time period is\", round(T,2),\"Sec\""
     ],
     "language": "python",
     "metadata": {},
     "outputs": [
      {
       "output_type": "stream",
       "stream": "stdout",
       "text": [
        "Time period is 0.28 Sec\n"
       ]
      }
     ],
     "prompt_number": 49
    },
    {
     "cell_type": "heading",
     "level": 2,
     "metadata": {},
     "source": [
      "Example 6.11 Page no 222"
     ]
    },
    {
     "cell_type": "code",
     "collapsed": false,
     "input": [
      "#Given\n",
      "T=50.0                               #S\n",
      "\n",
      "#Calculation\n",
      "t=1/(2*T)\n",
      "t1=1/t\n",
      "t2=t1/2.0\n",
      "\n",
      "#Result\n",
      "print\"Time is\", t2,\"Second\""
     ],
     "language": "python",
     "metadata": {},
     "outputs": [
      {
       "output_type": "stream",
       "stream": "stdout",
       "text": [
        "Time is 50.0 Second\n"
       ]
      }
     ],
     "prompt_number": 55
    },
    {
     "cell_type": "heading",
     "level": 2,
     "metadata": {},
     "source": [
      "Example 6.12 Page no 222"
     ]
    },
    {
     "cell_type": "code",
     "collapsed": false,
     "input": [
      "#Given\n",
      "a=200.0\n",
      "b=2.3\n",
      "\n",
      "#Calculation\n",
      "y=b/a\n",
      "D=1/y\n",
      "\n",
      "#Result\n",
      "print\"(i) Damping constant is\", y\n",
      "print\"(ii) Decay modulus is\",round(D,1),\"Second\""
     ],
     "language": "python",
     "metadata": {},
     "outputs": [
      {
       "output_type": "stream",
       "stream": "stdout",
       "text": [
        "(i) Damping constant is 0.0115\n",
        "(ii) Decay modulus is 87.0 Second\n"
       ]
      }
     ],
     "prompt_number": 61
    },
    {
     "cell_type": "heading",
     "level": 2,
     "metadata": {},
     "source": [
      "Example 6.13 Page no 223"
     ]
    },
    {
     "cell_type": "code",
     "collapsed": false,
     "input": [
      "#Given\n",
      "a=20                     #cm\n",
      "b=2.0\n",
      "x=100.0\n",
      "y=2.3\n",
      "\n",
      "#Calculation\n",
      "import math\n",
      "w=a/b\n",
      "w1=y/x\n",
      "\n",
      "#Result\n",
      "print\"Logarithmic decrement of the system is\", w1"
     ],
     "language": "python",
     "metadata": {},
     "outputs": [
      {
       "output_type": "stream",
       "stream": "stdout",
       "text": [
        "Logarithmic decrement of the system is 0.023\n"
       ]
      }
     ],
     "prompt_number": 64
    },
    {
     "cell_type": "heading",
     "level": 2,
     "metadata": {},
     "source": [
      "Example 6.14 Page no 223"
     ]
    },
    {
     "cell_type": "code",
     "collapsed": false,
     "input": [
      "#Given\n",
      "n=2\n",
      "m=0.3\n",
      "Q=60.0\n",
      "\n",
      "#Calculation\n",
      "import math\n",
      "K=16*math.pi**2*m\n",
      "p=2*math.pi*n*m/Q\n",
      "\n",
      "#Result\n",
      "print\"Force constant is\",round(K,2),\"N/m\"\n",
      "print\"Mechanical resistance is\",round(p,5),\"Kg/m\""
     ],
     "language": "python",
     "metadata": {},
     "outputs": [
      {
       "output_type": "stream",
       "stream": "stdout",
       "text": [
        "Force constant is 47.37 N/m\n",
        "Mechanical resistance is 0.06283 Kg/m\n"
       ]
      }
     ],
     "prompt_number": 70
    },
    {
     "cell_type": "heading",
     "level": 2,
     "metadata": {},
     "source": [
      "Example 6.15 Page no 223"
     ]
    },
    {
     "cell_type": "code",
     "collapsed": false,
     "input": [
      "#Given\n",
      "Q=10**4\n",
      "b=500\n",
      "\n",
      "#Calculation\n",
      "import math\n",
      "a=math.log(10)*Q/(b*math.pi)\n",
      "\n",
      "#Result\n",
      "print\"Time interval is\", round(a,2),\"Seconds\""
     ],
     "language": "python",
     "metadata": {},
     "outputs": [
      {
       "output_type": "stream",
       "stream": "stdout",
       "text": [
        "Time interval is 14.66 Seconds\n"
       ]
      }
     ],
     "prompt_number": 77
    },
    {
     "cell_type": "heading",
     "level": 2,
     "metadata": {},
     "source": [
      "Example 6.16 Page no 224"
     ]
    },
    {
     "cell_type": "code",
     "collapsed": false,
     "input": [
      "#Given\n",
      "Q=2*10**3\n",
      "v =240\n",
      "\n",
      "#Calculation\n",
      "import math\n",
      "w =2*3.14*v\n",
      "r= math.exp (2)\n",
      "T=Q/w\n",
      "t =2* T*log(r)\n",
      "\n",
      "#Result\n",
      "print\"Time to become for new amplitude is\",round(t,1),\"sec\""
     ],
     "language": "python",
     "metadata": {},
     "outputs": [
      {
       "output_type": "stream",
       "stream": "stdout",
       "text": [
        "Time to become for new amplitude is 5.3 sec\n"
       ]
      }
     ],
     "prompt_number": 6
    },
    {
     "cell_type": "heading",
     "level": 2,
     "metadata": {},
     "source": [
      "Example 6.17 Page no 224"
     ]
    },
    {
     "cell_type": "code",
     "collapsed": false,
     "input": [
      "#Given\n",
      "A0=10.0\n",
      "T=200\n",
      "\n",
      "#Calculation\n",
      "import math\n",
      "y=math.log(10)/A0\n",
      "t=1/(2*y)\n",
      "Q=2*math.pi*t*T\n",
      "t1=t*math.log(A0)\n",
      "\n",
      "#Result\n",
      "print\"(i) Relaxation time is\", round(t,3),\"Second\"\n",
      "print\"(ii) Quality factor is\", round(Q,0)\n",
      "print\"(iii) Time is\",t1,\"Second\""
     ],
     "language": "python",
     "metadata": {},
     "outputs": [
      {
       "output_type": "stream",
       "stream": "stdout",
       "text": [
        "(i) Relaxation time is 2.171 Second\n",
        "(ii) Quality factor is 2729.0\n",
        "(iii) Time is 5.0 Second\n"
       ]
      }
     ],
     "prompt_number": 87
    },
    {
     "cell_type": "heading",
     "level": 2,
     "metadata": {},
     "source": [
      "Example 6.18 Page no 225"
     ]
    },
    {
     "cell_type": "code",
     "collapsed": false,
     "input": [
      "#Given\n",
      "E=10**3\n",
      "w=256\n",
      "\n",
      "#Calculation\n",
      "import math\n",
      "t=E/(2*math.pi*w)\n",
      "n=E/(2*math.pi)\n",
      "\n",
      "#Result\n",
      "print\"Time is\", round(t,2),\"Sec\"\n",
      "print\"Number of oscillations is\",round(n,0)"
     ],
     "language": "python",
     "metadata": {},
     "outputs": [
      {
       "output_type": "stream",
       "stream": "stdout",
       "text": [
        "Time is 0.62 Sec\n",
        "Number of oscillations is 159.0\n"
       ]
      }
     ],
     "prompt_number": 93
    },
    {
     "cell_type": "heading",
     "level": 2,
     "metadata": {},
     "source": [
      "Example 6.20 Page no 226"
     ]
    },
    {
     "cell_type": "code",
     "collapsed": false,
     "input": [
      "#Given\n",
      "Ao =0.1                                 #amplitude at minimum frequency in mm\n",
      "A =100                             #maximum amplitude\n",
      "w =100\n",
      "\n",
      "#Calculation\n",
      "Q=A/Ao\n",
      "T=Q/w\n",
      "hw =1/(2* T)\n",
      "\n",
      "#Result\n",
      "print\"(a) Quality factor is\",Q\n",
      "print\"(b) Energy decay time is\",T,\"sec\"\n",
      "print\"(c) Half width of power resonance curve is\",hw,\"rad/sec\""
     ],
     "language": "python",
     "metadata": {},
     "outputs": [
      {
       "output_type": "stream",
       "stream": "stdout",
       "text": [
        "(a) Quality factor is 1000.0\n",
        "(b) Energy decay time is 10.0 sec\n",
        "(c) Half width of power resonance curve is 0.05 rad/sec\n"
       ]
      }
     ],
     "prompt_number": 20
    },
    {
     "cell_type": "heading",
     "level": 2,
     "metadata": {},
     "source": [
      "Example 6.21 Page no 226"
     ]
    },
    {
     "cell_type": "code",
     "collapsed": false,
     "input": [
      "#Given\n",
      "m =0.1                          #suspended mass in kg\n",
      "k =100                        #force constant in N/m\n",
      "Fo =2\n",
      "p =1\n",
      "W =50\n",
      "a=1000\n",
      "a1=2500\n",
      "\n",
      "#Calculation\n",
      "import math\n",
      "Wo= math.sqrt (k/m)\n",
      "f=Fo/m\n",
      "d=p /(2* m)\n",
      "B=f/ (math.sqrt((a-a1)**2+(k*W**2)))\n",
      "delta = math.atan(2*d*W/( Wo**2-W**2) )*180/3.14+180\n",
      "\n",
      "#Result\n",
      "print\"Amplitude of oscillation is\",round(B,4),\"m\"\n",
      "print\"Relative phase is\",round(delta,1),\"degree\""
     ],
     "language": "python",
     "metadata": {},
     "outputs": [
      {
       "output_type": "stream",
       "stream": "stdout",
       "text": [
        "Amplitude of oscillation is 0.0126 m\n",
        "Relative phase is 161.6 degree\n"
       ]
      }
     ],
     "prompt_number": 110
    },
    {
     "cell_type": "heading",
     "level": 2,
     "metadata": {},
     "source": [
      "Example 6.22 Page no 227"
     ]
    },
    {
     "cell_type": "code",
     "collapsed": false,
     "input": [
      "#Given\n",
      "Q=50\n",
      "a=1.4\n",
      "\n",
      "#Calculation\n",
      "B=1/a\n",
      "\n",
      "#Result\n",
      "print\"Value of B/Bmax is\",round(B,2)"
     ],
     "language": "python",
     "metadata": {},
     "outputs": [
      {
       "output_type": "stream",
       "stream": "stdout",
       "text": [
        "Value of B/Bmax is 0.71\n"
       ]
      }
     ],
     "prompt_number": 113
    }
   ],
   "metadata": {}
  }
 ]
}