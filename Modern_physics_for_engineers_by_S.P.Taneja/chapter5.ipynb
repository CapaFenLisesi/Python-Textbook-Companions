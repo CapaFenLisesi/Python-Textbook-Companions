{
 "metadata": {
  "name": "",
  "signature": "sha256:89d0949b61b404b5225e0d1d1fa6fa40a7e6670219cda64657a01ef547822266"
 },
 "nbformat": 3,
 "nbformat_minor": 0,
 "worksheets": [
  {
   "cells": [
    {
     "cell_type": "heading",
     "level": 1,
     "metadata": {},
     "source": [
      "Chapter 5 Fiber optics"
     ]
    },
    {
     "cell_type": "heading",
     "level": 2,
     "metadata": {},
     "source": [
      "Example 5.1 Page no 184"
     ]
    },
    {
     "cell_type": "code",
     "collapsed": false,
     "input": [
      "#Given\n",
      "u1 =1.48                    #refractive index of cladding\n",
      "u2 =1.5                     #refractive index of core\n",
      "u =1\n",
      "\n",
      "#Calculation\n",
      "import math\n",
      "theta = math.asin (u1/u2)*180/3.14\n",
      "Fr =((u2 -u1)/u2)*100\n",
      "A= math.asin ( math.sqrt (u2**2- u1**2) )\n",
      "NA=math.sin(A)\n",
      "\n",
      "#Result\n",
      "print\"(i) Critical angle is\",round(theta,2),\"degree\"\n",
      "print\"(ii)Fractional refractive index is\",round(Fr,2),\"% of light\"\n",
      "print\"(iii) Acceptance angle is\",round(A,2),\"radian\"\n",
      "print\"(iv) Numerical aperture is\",round(NA,2)"
     ],
     "language": "python",
     "metadata": {},
     "outputs": [
      {
       "output_type": "stream",
       "stream": "stdout",
       "text": [
        "(i) Critical angle is 80.67 degree\n",
        "(ii)Fractional refractive index is 1.33 % of light\n",
        "(iii) Acceptance angle is 0.25 radian\n",
        "(iv) Numerical aperture is 0.24\n"
       ]
      }
     ],
     "prompt_number": 1
    },
    {
     "cell_type": "heading",
     "level": 2,
     "metadata": {},
     "source": [
      "Example 5.2 Page no 184"
     ]
    },
    {
     "cell_type": "code",
     "collapsed": false,
     "input": [
      "#Given\n",
      "uf=1.5\n",
      "A1=0.005\n",
      "u=1.45\n",
      "\n",
      "#Calculation\n",
      "import math\n",
      "uc=uf*(1-A1)\n",
      "x=uc/uf\n",
      "A=math.asin(x)*180/3.14\n",
      "X=math.sqrt((uf**2)-(uc**2))\n",
      "A11=math.asin(X)*180/3.14\n",
      "Na=X\n",
      "\n",
      "#Result\n",
      "print\"(a) Refractive index is\",round(uc,2)\n",
      "print\"(b) Critical internal reflacting angle is\",round(A,2),\"Degree\"\n",
      "print\"(c) Acceptance angle is\",round(A11,4),\"Degree\"\n",
      "print\"(d) Numerical aperature is\",round(Na,4)"
     ],
     "language": "python",
     "metadata": {},
     "outputs": [
      {
       "output_type": "stream",
       "stream": "stdout",
       "text": [
        "(a) Refractive index is 1.49\n",
        "(b) Critical internal reflacting angle is 84.31 Degree\n",
        "(c) Acceptance angle is 8.6204 Degree\n",
        "(d) Numerical aperature is 0.1498\n"
       ]
      }
     ],
     "prompt_number": 54
    },
    {
     "cell_type": "heading",
     "level": 2,
     "metadata": {},
     "source": [
      "Example 5.3 Page no 185"
     ]
    },
    {
     "cell_type": "code",
     "collapsed": false,
     "input": [
      "#Given\n",
      "NA =0.22                         # Numerical Aperatur e\n",
      "Fr =0.012\n",
      "\n",
      "#Calculation\n",
      "import math\n",
      "u1=NA/ math.sqrt (Fr *(2 - Fr))\n",
      "u2= math.sqrt (u1**2- NA**2) \n",
      "\n",
      "#result\n",
      "print\"Refractive index of core is\",round(u1,2)\n",
      "print\"Refractive index of clad is\",round(u2,2)"
     ],
     "language": "python",
     "metadata": {},
     "outputs": [
      {
       "output_type": "stream",
       "stream": "stdout",
       "text": [
        "Refractive index of core is 1.42\n",
        "Refractive index of clad is 1.41\n"
       ]
      }
     ],
     "prompt_number": 3
    },
    {
     "cell_type": "heading",
     "level": 2,
     "metadata": {},
     "source": [
      "Example 5.4 Page no 185"
     ]
    },
    {
     "cell_type": "code",
     "collapsed": false,
     "input": [
      "#Given\n",
      "u1 =1.62                     #refractive index of core\n",
      "u2 =1.52                       # refractive index of clad\n",
      "\n",
      "#Calculation\n",
      "import math\n",
      "A= math.asin ( math.sqrt (u1**2- u2**2) )*180/3.14\n",
      "NA=math.sin(A*3.14/180.0)\n",
      "\n",
      "#Result\n",
      "print\"Acceptance length is\",round(A,2),\"Degree\"\n",
      "print\"Numerical aperature is\",round(NA,4)\n"
     ],
     "language": "python",
     "metadata": {},
     "outputs": [
      {
       "output_type": "stream",
       "stream": "stdout",
       "text": [
        "Acceptance length is 34.1 Degree\n",
        "Numerical aperature is 0.5604\n"
       ]
      }
     ],
     "prompt_number": 6
    },
    {
     "cell_type": "heading",
     "level": 2,
     "metadata": {},
     "source": [
      "Example 5.5 Page no 185"
     ]
    },
    {
     "cell_type": "code",
     "collapsed": false,
     "input": [
      "#Given\n",
      "Na=0.20\n",
      "u=1.59\n",
      "uw=1.33\n",
      "\n",
      "#Calculation\n",
      "import math\n",
      "uc=math.sqrt(Na**2+u**2)\n",
      "NA=(math.sqrt(uc**2-u**2))/uw\n",
      "A= math.asin(NA)*180/3.14\n",
      "\n",
      "#Result\n",
      "print\"Acceptance angle is\", round(A,1),\"Degree\""
     ],
     "language": "python",
     "metadata": {},
     "outputs": [
      {
       "output_type": "stream",
       "stream": "stdout",
       "text": [
        "Acceptance angle is 8.7 Degree\n"
       ]
      }
     ],
     "prompt_number": 60
    },
    {
     "cell_type": "heading",
     "level": 2,
     "metadata": {},
     "source": [
      "Example 5.6 Page no 186"
     ]
    },
    {
     "cell_type": "code",
     "collapsed": false,
     "input": [
      "#Given\n",
      "uc=1.45\n",
      "uf=1.5\n",
      "ua=1\n",
      "\n",
      "#Calculation\n",
      "import math\n",
      "a=math.asin(uc/uf)*180/3.14\n",
      "NA=math.sqrt(uf**2-uc**2)\n",
      "N=math.asin(NA)*180/3.14\n",
      "\n",
      "#Result\n",
      "print\"Critical angle is\",round(a,1) ,\"Degree\"\n",
      "print\"Acceptance angle is\",round(N,2),\"Degree\"\n",
      "print\"Nemerical aperature is\",round(NA,3)"
     ],
     "language": "python",
     "metadata": {},
     "outputs": [
      {
       "output_type": "stream",
       "stream": "stdout",
       "text": [
        "Critical angle is 75.2 Degree\n",
        "Acceptance angle is 22.6 Degree\n",
        "Nemerical aperature is 0.384\n"
       ]
      }
     ],
     "prompt_number": 73
    },
    {
     "cell_type": "heading",
     "level": 2,
     "metadata": {},
     "source": [
      "Example 5.7 Page no 186"
     ]
    },
    {
     "cell_type": "code",
     "collapsed": false,
     "input": [
      "#Given\n",
      "w=0.850                             #micro m\n",
      "NA=0.22\n",
      "a=50/2.0                            #micro m\n",
      "\n",
      "#Calculation\n",
      "import math\n",
      "V=2*math.pi*a*NA/w\n",
      "N=V**2/4.0\n",
      "\n",
      "#Result\n",
      "print\"V numver is\", round(V,2)\n",
      "print\"Number of modes is\",round(N,2)"
     ],
     "language": "python",
     "metadata": {},
     "outputs": [
      {
       "output_type": "stream",
       "stream": "stdout",
       "text": [
        "V numver is 40.66\n",
        "Number of modes is 413.23\n"
       ]
      }
     ],
     "prompt_number": 80
    },
    {
     "cell_type": "heading",
     "level": 2,
     "metadata": {},
     "source": [
      "Example 5.8 Page no 187"
     ]
    },
    {
     "cell_type": "code",
     "collapsed": false,
     "input": [
      "#Given\n",
      "NA=0.16\n",
      "uc=1.45\n",
      "d=0.6                    #M\n",
      "w=9*10**-7\n",
      "\n",
      "#Calculation\n",
      "import math\n",
      "V=math.pi*d*NA/w\n",
      "\n",
      "#Result\n",
      "print\"Normalized frequency is\",round(V*10**-5,2),\"*10**5\""
     ],
     "language": "python",
     "metadata": {},
     "outputs": [
      {
       "output_type": "stream",
       "stream": "stdout",
       "text": [
        "Normalized frequency is 3.35 *10**5\n"
       ]
      }
     ],
     "prompt_number": 84
    },
    {
     "cell_type": "heading",
     "level": 2,
     "metadata": {},
     "source": [
      "Example 5.9 Page no 187"
     ]
    },
    {
     "cell_type": "code",
     "collapsed": false,
     "input": [
      "#Given\n",
      "uc=1.52\n",
      "d=29*10**-6\n",
      "a=0.007\n",
      "w=1.3*10**-6\n",
      "\n",
      "#Calculation\n",
      "import math\n",
      "u=uc-(uc*a)\n",
      "V=(math.pi*d/w)*math.sqrt(uc**2-u**2)\n",
      "N=V**2/2.0\n",
      "\n",
      "#Result\n",
      "print\"(i) The fiber V-number is\",round(V,2)\n",
      "print\"(ii) The number of modes is\",round(N,0),\"Modes\""
     ],
     "language": "python",
     "metadata": {},
     "outputs": [
      {
       "output_type": "stream",
       "stream": "stdout",
       "text": [
        "(i) The fiber V-number is 12.58\n",
        "(ii) The number of modes is 79.0 Modes\n"
       ]
      }
     ],
     "prompt_number": 93
    },
    {
     "cell_type": "heading",
     "level": 2,
     "metadata": {},
     "source": [
      "Example 5.10 Page no 187"
     ]
    },
    {
     "cell_type": "code",
     "collapsed": false,
     "input": [
      "#Given\n",
      "uf=1.48\n",
      "uc=1.46\n",
      "w=0.82                        #micro m\n",
      "a=25 \n",
      "\n",
      "#Calculation\n",
      "import math\n",
      "V=2*math.pi*a*math.sqrt(uf**2-uc**2)/w\n",
      "N=V**2/2.0\n",
      "\n",
      "print\"Number of modes is\", round(N,0)"
     ],
     "language": "python",
     "metadata": {},
     "outputs": [
      {
       "output_type": "stream",
       "stream": "stdout",
       "text": [
        "Number of modes is 1079.0\n"
       ]
      }
     ],
     "prompt_number": 97
    },
    {
     "cell_type": "heading",
     "level": 2,
     "metadata": {},
     "source": [
      "Example 5.11 Page no 188"
     ]
    },
    {
     "cell_type": "code",
     "collapsed": false,
     "input": [
      "#Given\n",
      "uf=1.48\n",
      "u=1.46\n",
      "c=3*10**8\n",
      "\n",
      "#Calculation\n",
      "a=(uf-u)/uf\n",
      "af=uf*1000*a/(c*(1-a))\n",
      "t=af*20\n",
      "\n",
      "#Result\n",
      "print\"Dispersion per kilometer  of length is\", round(af*10**9,1),\"ns\"\n",
      "print\"Total dispersion is\",round(t*10**6,2),\"ms\""
     ],
     "language": "python",
     "metadata": {},
     "outputs": [
      {
       "output_type": "stream",
       "stream": "stdout",
       "text": [
        "Dispersion per kilometer  of length is 67.6 ns\n",
        "Total dispersion is 1.35 ms\n"
       ]
      }
     ],
     "prompt_number": 110
    },
    {
     "cell_type": "heading",
     "level": 2,
     "metadata": {},
     "source": [
      "Example 5.12 Page no 188"
     ]
    },
    {
     "cell_type": "code",
     "collapsed": false,
     "input": [
      "#Given\n",
      "a=40                            #ps/nm-Km\n",
      "w=1.5                            #nm\n",
      "b=20                             #Km\n",
      "\n",
      "#Calculation\n",
      "A=a*w*b\n",
      "\n",
      "#Result\n",
      "print\"Material dispersion is\",A*10**-3,\"ns\""
     ],
     "language": "python",
     "metadata": {},
     "outputs": [
      {
       "output_type": "stream",
       "stream": "stdout",
       "text": [
        "Material dispersion is 1.2 ns\n"
       ]
      }
     ],
     "prompt_number": 3
    },
    {
     "cell_type": "heading",
     "level": 2,
     "metadata": {},
     "source": [
      "Example 5.13 Page no 188"
     ]
    },
    {
     "cell_type": "code",
     "collapsed": false,
     "input": [
      "#Given\n",
      "d=6.6                        #ps/nm-Km\n",
      "w=1.5                          #nm\n",
      "l=20                            #Km\n",
      "\n",
      "#Calculation\n",
      "import math\n",
      "A=d*w*l\n",
      "\n",
      "#Result\n",
      "print\"Wavelength dispersion is\",A,\"ps\""
     ],
     "language": "python",
     "metadata": {},
     "outputs": [
      {
       "output_type": "stream",
       "stream": "stdout",
       "text": [
        "Wavelength dispersion is 198.0 ps\n"
       ]
      }
     ],
     "prompt_number": 5
    },
    {
     "cell_type": "heading",
     "level": 2,
     "metadata": {},
     "source": [
      "Example 5.14 Page no 188"
     ]
    },
    {
     "cell_type": "code",
     "collapsed": false,
     "input": [
      "#Givem\n",
      "uc=1.5\n",
      "c=3.0*10**5                       #Km/s\n",
      "z=6\n",
      "\n",
      "#Calculation\n",
      "u=uc/100.0\n",
      "a=(uc*z/c)*(uc/(uc-u)-1)\n",
      "\n",
      "#Result\n",
      "print\"Delay difference is\", round(a*10**8,1),\"m sec\""
     ],
     "language": "python",
     "metadata": {},
     "outputs": [
      {
       "output_type": "stream",
       "stream": "stdout",
       "text": [
        "Delay difference is 30.3 m sec\n"
       ]
      }
     ],
     "prompt_number": 15
    },
    {
     "cell_type": "heading",
     "level": 2,
     "metadata": {},
     "source": [
      "Example 5.15 Page no 189"
     ]
    },
    {
     "cell_type": "code",
     "collapsed": false,
     "input": [
      "#Given\n",
      "a=3.5                        #db/Km\n",
      "P1=0.5                       #mW\n",
      "L=4\n",
      "b=25.11\n",
      "\n",
      "#Calculation\n",
      "import math\n",
      "N=a*L\n",
      "P0=P1/b\n",
      "\n",
      "#Result\n",
      "print \"Power level is\",round(P0*10**3,1),\"micro W\""
     ],
     "language": "python",
     "metadata": {},
     "outputs": [
      {
       "output_type": "stream",
       "stream": "stdout",
       "text": [
        "Power level is 19.9 micro W\n"
       ]
      }
     ],
     "prompt_number": 21
    },
    {
     "cell_type": "heading",
     "level": 2,
     "metadata": {},
     "source": [
      "Example 5.16 Page no 189"
     ]
    },
    {
     "cell_type": "code",
     "collapsed": false,
     "input": [
      "#Given\n",
      "uc=1.558\n",
      "a=0.026\n",
      "z=10**3                        #m\n",
      "c=3*10**8\n",
      "\n",
      "#Calculation\n",
      "D=uc*a*z/(c*(1-a))\n",
      "D1=D*10\n",
      "\n",
      "#Result\n",
      "print\"Dispersion/Km is\",round(D*10**8,1),\"n sec\"\n",
      "print\"Total dispersion in 10 Km is\",round(D1*10**8,1),\"n sec\""
     ],
     "language": "python",
     "metadata": {},
     "outputs": [
      {
       "output_type": "stream",
       "stream": "stdout",
       "text": [
        "Dispersion/Km is 13.9 n sec\n",
        "Total dispersion in 10 Km is 138.6 n sec\n"
       ]
      }
     ],
     "prompt_number": 32
    },
    {
     "cell_type": "heading",
     "level": 2,
     "metadata": {},
     "source": [
      "Example 5.17 Page no 189"
     ]
    },
    {
     "cell_type": "code",
     "collapsed": false,
     "input": [
      "#Given\n",
      "uc=1.5\n",
      "a=0.026\n",
      "c=3*10**8\n",
      "\n",
      "#Calculation\n",
      "A=(uc*a**2*1000)/(8*c)\n",
      "\n",
      "#Result\n",
      "print\"Maximum dispersion is\",round(A*10**9,2),\"ns/Km\""
     ],
     "language": "python",
     "metadata": {},
     "outputs": [
      {
       "output_type": "stream",
       "stream": "stdout",
       "text": [
        "Maximum dispersion is 0.42 ns/Km\n"
       ]
      }
     ],
     "prompt_number": 37
    }
   ],
   "metadata": {}
  }
 ]
}