{
 "metadata": {
  "name": "",
  "signature": "sha256:6ebc3dec4ac351e74bbbf4f44c04359a8b31dcd4a15a5034b45dec5fef6dce79"
 },
 "nbformat": 3,
 "nbformat_minor": 0,
 "worksheets": [
  {
   "cells": [
    {
     "cell_type": "heading",
     "level": 1,
     "metadata": {},
     "source": [
      "Chapter 8 Dielectrics"
     ]
    },
    {
     "cell_type": "heading",
     "level": 2,
     "metadata": {},
     "source": [
      "Example 8.1 Page no 303"
     ]
    },
    {
     "cell_type": "code",
     "collapsed": false,
     "input": [
      "#Given\n",
      "k =3                       #Dielectric constant\n",
      "E=1*10**6\n",
      "e =8.85*10**-12\n",
      "\n",
      "#Calculation\n",
      "P=e*(k -1)*E\n",
      "D=k*e*E\n",
      "ED =0.5*k*e*E**2\n",
      "\n",
      "#Result\n",
      "print\"Polarisation is\",P,\"C/m**2\"\n",
      "print\"Displacement is\",D,\"C/m**2\"\n",
      "print\"Energy density is\",round(ED,2),\"joule s/m**3\"\n"
     ],
     "language": "python",
     "metadata": {},
     "outputs": [
      {
       "output_type": "stream",
       "stream": "stdout",
       "text": [
        "Polarisation is 1.77e-05 C/m**2\n",
        "Displacement is 2.655e-05 C/m**2\n",
        "Energy density is 13.27 joule s/m**3\n"
       ]
      }
     ],
     "prompt_number": 1
    },
    {
     "cell_type": "heading",
     "level": 2,
     "metadata": {},
     "source": [
      "Example 8.2 Page no 303"
     ]
    },
    {
     "cell_type": "code",
     "collapsed": false,
     "input": [
      "#Given\n",
      "D=5*10**-4\n",
      "P=4*10**-4\n",
      "V =0.5\n",
      "\n",
      "#Calculation\n",
      "E=D-P\n",
      "k=D/E\n",
      "p=P*V\n",
      "\n",
      "#Result\n",
      "print\"Dielectric constant is\",k\n",
      "print\"Total dipole constant is\",p*10**4,\"*10**-4 m**5\"\n"
     ],
     "language": "python",
     "metadata": {},
     "outputs": [
      {
       "output_type": "stream",
       "stream": "stdout",
       "text": [
        "Dielectric constant is 5.0\n",
        "Total dipole constant is 2.0 *10**-4 m**5\n"
       ]
      }
     ],
     "prompt_number": 3
    },
    {
     "cell_type": "heading",
     "level": 2,
     "metadata": {},
     "source": [
      "Example 8.3 Page no 303"
     ]
    },
    {
     "cell_type": "code",
     "collapsed": false,
     "input": [
      "#Given\n",
      "k =1.000038\n",
      "\n",
      "#Calculation\n",
      "x=k-1\n",
      "\n",
      "#Result\n",
      "print\"Electric susceptibility is\",x"
     ],
     "language": "python",
     "metadata": {},
     "outputs": [
      {
       "output_type": "stream",
       "stream": "stdout",
       "text": [
        "Electric susceptibility is 3.8e-05\n"
       ]
      }
     ],
     "prompt_number": 4
    },
    {
     "cell_type": "heading",
     "level": 2,
     "metadata": {},
     "source": [
      "Example 8.4 Page no 303"
     ]
    },
    {
     "cell_type": "code",
     "collapsed": false,
     "input": [
      "#Given\n",
      "E =100\n",
      "k =1.000074\n",
      "e =8.85*10**-12\n",
      "p =22.4*10**-3\n",
      "a=6*10**23\n",
      "\n",
      "#Calculation\n",
      "N=a/p \n",
      "p=e*(k -1) *E/N\n",
      "\n",
      "#Result\n",
      "print\"Total moment is\",round(p*10**40,2)*10**-40,\"cm\"\n"
     ],
     "language": "python",
     "metadata": {},
     "outputs": [
      {
       "output_type": "stream",
       "stream": "stdout",
       "text": [
        "Total moment is 2.445e-39 cm\n"
       ]
      }
     ],
     "prompt_number": 7
    },
    {
     "cell_type": "heading",
     "level": 2,
     "metadata": {},
     "source": [
      "Example 8.6 Page no 304"
     ]
    },
    {
     "cell_type": "code",
     "collapsed": false,
     "input": [
      "#Given\n",
      "K=1.329\n",
      "\n",
      "#Calculation\n",
      "k=K-1\n",
      "\n",
      "#Result\n",
      "print\"Electric susceptibility is\",k"
     ],
     "language": "python",
     "metadata": {},
     "outputs": [
      {
       "output_type": "stream",
       "stream": "stdout",
       "text": [
        "Electric susceptibility is 0.329\n"
       ]
      }
     ],
     "prompt_number": 8
    }
   ],
   "metadata": {}
  }
 ]
}