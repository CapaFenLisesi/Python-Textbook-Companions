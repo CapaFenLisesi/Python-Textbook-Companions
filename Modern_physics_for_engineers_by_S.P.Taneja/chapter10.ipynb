{
 "metadata": {
  "name": "",
  "signature": "sha256:60e1b4f69268bf5ef981c421da464c3f2155bd9dcb0f2936b64236297523b2ca"
 },
 "nbformat": 3,
 "nbformat_minor": 0,
 "worksheets": [
  {
   "cells": [
    {
     "cell_type": "heading",
     "level": 1,
     "metadata": {},
     "source": [
      "Chapter 10 Nuclear Fission and Fusion"
     ]
    },
    {
     "cell_type": "heading",
     "level": 2,
     "metadata": {},
     "source": [
      "Example 10.1 Page no 351"
     ]
    },
    {
     "cell_type": "code",
     "collapsed": false,
     "input": [
      "#Given\n",
      "c=3*10**8                       #m/s\n",
      "m=3.6*10**-3                   #Kg\n",
      "a=36000\n",
      "\n",
      "#Calculation\n",
      "E=m*c**2\n",
      "E1=E/(a*10**3)\n",
      "\n",
      "#Result\n",
      "print\"Energy is\", E1*10**-6,\"*10**7 Kilo watt-hrs\""
     ],
     "language": "python",
     "metadata": {},
     "outputs": [
      {
       "output_type": "stream",
       "stream": "stdout",
       "text": [
        "Energy is 9.0 *10**7 Kilo watt-hrs\n"
       ]
      }
     ],
     "prompt_number": 7
    },
    {
     "cell_type": "heading",
     "level": 2,
     "metadata": {},
     "source": [
      "Example 10.2 Page no 352"
     ]
    },
    {
     "cell_type": "code",
     "collapsed": false,
     "input": [
      "#Given\n",
      "mn=1.6747*10**-27\n",
      "mp=1.6725*10**-27\n",
      "me=9*10**-31\n",
      "c=3*10**8\n",
      "e=1.6*10**-19\n",
      "\n",
      "#Calculation\n",
      "m=mn-(mp+me)\n",
      "E=(m*c**2)/e\n",
      "\n",
      "#Result\n",
      "print\"Energy produced is\", round(E*10**-6,2),\"Mev\""
     ],
     "language": "python",
     "metadata": {},
     "outputs": [
      {
       "output_type": "stream",
       "stream": "stdout",
       "text": [
        "Energy produced is 0.73 Mev\n"
       ]
      }
     ],
     "prompt_number": 16
    },
    {
     "cell_type": "heading",
     "level": 2,
     "metadata": {},
     "source": [
      "Example 10.3 Page no 352"
     ]
    },
    {
     "cell_type": "code",
     "collapsed": false,
     "input": [
      "#Given\n",
      "P=3.2*10**7                   #Watts\n",
      "e=1.6*10**-13\n",
      "E1=200.0\n",
      "a=1000\n",
      "N=6.0*10**23\n",
      "A=235\n",
      "\n",
      "#Calculation\n",
      "E=P/e\n",
      "n=E/E1\n",
      "n1=n*a*3600\n",
      "m=n1*A/N\n",
      "\n",
      "#Result\n",
      "print\"Number of fission occuring in the reactor/sec is\", n\n",
      "print\"Mass of U235 used in 1000 hrs is\",m*10**-3,\"Kg\""
     ],
     "language": "python",
     "metadata": {},
     "outputs": [
      {
       "output_type": "stream",
       "stream": "stdout",
       "text": [
        "Number of fission occuring in the reactor/sec is 1e+18\n",
        "Mass of U235 used in 1000 hrs is 1.41 Kg\n"
       ]
      }
     ],
     "prompt_number": 28
    }
   ],
   "metadata": {}
  }
 ]
}