{
 "metadata": {
  "name": "",
  "signature": "sha256:aa5ceefed0ada315a43937860fa7396936667b9a8413471a944a5253df1179d4"
 },
 "nbformat": 3,
 "nbformat_minor": 0,
 "worksheets": [
  {
   "cells": [
    {
     "cell_type": "heading",
     "level": 1,
     "metadata": {},
     "source": [
      "Chapter 15 X-Ray and diffraction of X-Ray"
     ]
    },
    {
     "cell_type": "heading",
     "level": 2,
     "metadata": {},
     "source": [
      "Example 15.1 Page no 55"
     ]
    },
    {
     "cell_type": "code",
     "collapsed": false,
     "input": [
      "#Given\n",
      "V=100000.0\n",
      "a=12400\n",
      "\n",
      "#Calculation\n",
      "w=a/V\n",
      "\n",
      "#Result\n",
      "print\"Cut off wavelength is\",w,\"A\""
     ],
     "language": "python",
     "metadata": {},
     "outputs": [
      {
       "output_type": "stream",
       "stream": "stdout",
       "text": [
        "Cut off wavelength is 0.124 A\n"
       ]
      }
     ],
     "prompt_number": 5
    },
    {
     "cell_type": "heading",
     "level": 2,
     "metadata": {},
     "source": [
      "Example 15.2 Page no 56"
     ]
    },
    {
     "cell_type": "code",
     "collapsed": false,
     "input": [
      "#Given\n",
      "V=25000.0\n",
      "\n",
      "#Calculation\n",
      "w=a/V\n",
      "\n",
      "#Result\n",
      "print\"Minimum wavelength is\",w,\"A\""
     ],
     "language": "python",
     "metadata": {},
     "outputs": [
      {
       "output_type": "stream",
       "stream": "stdout",
       "text": [
        "Minimum wavelength is 0.496 A\n"
       ]
      }
     ],
     "prompt_number": 8
    },
    {
     "cell_type": "heading",
     "level": 2,
     "metadata": {},
     "source": [
      "Example 15.3 Page no 56"
     ]
    },
    {
     "cell_type": "code",
     "collapsed": false,
     "input": [
      "#Given\n",
      "e=1.6*10**-19                         #C\n",
      "V=10*10**3\n",
      "m=9.1*10**-31                         #Kg\n",
      "\n",
      "#Calculation\n",
      "import math\n",
      "v=math.sqrt((2*e*V)/m)\n",
      "\n",
      "#Result\n",
      "print\"Velocity of electron is\",round(v*10**-7,1),\"*10**7 m/s\""
     ],
     "language": "python",
     "metadata": {},
     "outputs": [
      {
       "output_type": "stream",
       "stream": "stdout",
       "text": [
        "Velocity of electron is 5.9 *10**7 m/s\n"
       ]
      }
     ],
     "prompt_number": 15
    },
    {
     "cell_type": "heading",
     "level": 2,
     "metadata": {},
     "source": [
      "Example 15.4 Page no 56"
     ]
    },
    {
     "cell_type": "code",
     "collapsed": false,
     "input": [
      "#Given\n",
      "h=6.62*10**-34                         #j-s\n",
      "e=1.6*10**-19                            #C\n",
      "c=3*10**8\n",
      "w=10**-10\n",
      "\n",
      "#Calculation\n",
      "E=((h*c)/w)/e\n",
      "\n",
      "#Result\n",
      "print\"Energy of each electron is\",round(E*10**-3,2),\"Kev\""
     ],
     "language": "python",
     "metadata": {},
     "outputs": [
      {
       "output_type": "stream",
       "stream": "stdout",
       "text": [
        "Energy of each electron is 12.41 Kev\n"
       ]
      }
     ],
     "prompt_number": 22
    },
    {
     "cell_type": "heading",
     "level": 2,
     "metadata": {},
     "source": [
      "Example 15.5 Page no 56"
     ]
    },
    {
     "cell_type": "code",
     "collapsed": false,
     "input": [
      "#Given\n",
      "w=10**-10\n",
      "\n",
      "#Calculation\n",
      "V=a/w\n",
      "\n",
      "#Result\n",
      "print\"Minimum applied potential is\",V*10**-3,\"KV\""
     ],
     "language": "python",
     "metadata": {},
     "outputs": [
      {
       "output_type": "stream",
       "stream": "stdout",
       "text": [
        "Minimum applied potential is 1.24e+11 KV\n"
       ]
      }
     ],
     "prompt_number": 27
    },
    {
     "cell_type": "heading",
     "level": 2,
     "metadata": {},
     "source": [
      "Example 15.6 Page no 57"
     ]
    },
    {
     "cell_type": "code",
     "collapsed": false,
     "input": [
      "#Given\n",
      "V=40*10**3                     #V\n",
      "e=1.6*10**-19                   #C\n",
      "w=0.310*10**-10\n",
      "c=3.0*10**8\n",
      "\n",
      "#Calculation\n",
      "h=(V*e*w)/c\n",
      "\n",
      "#Result\n",
      "print\"Planck's constant is\",round(h*10**34,2)*10**-34,\"Joule-sec\""
     ],
     "language": "python",
     "metadata": {},
     "outputs": [
      {
       "output_type": "stream",
       "stream": "stdout",
       "text": [
        "Planck's constant is 6.61e-34 Joule-sec\n"
       ]
      }
     ],
     "prompt_number": 32
    },
    {
     "cell_type": "heading",
     "level": 2,
     "metadata": {},
     "source": [
      "Example 15.7 Page no 57"
     ]
    },
    {
     "cell_type": "code",
     "collapsed": false,
     "input": [
      "#Given\n",
      "w=1.93\n",
      "a=25\n",
      "b=49.0\n",
      "\n",
      "#Calculation\n",
      "W=(a/b)**2*w\n",
      "\n",
      "#Result\n",
      "print\"Ka lines for tin and barium is\",round(W,1),\"A\""
     ],
     "language": "python",
     "metadata": {},
     "outputs": [
      {
       "output_type": "stream",
       "stream": "stdout",
       "text": [
        "Ka lines for tin and barium is 0.5 A\n"
       ]
      }
     ],
     "prompt_number": 36
    },
    {
     "cell_type": "heading",
     "level": 2,
     "metadata": {},
     "source": [
      "Example 15.8 Page no 57"
     ]
    },
    {
     "cell_type": "code",
     "collapsed": false,
     "input": [
      "#Given\n",
      "R=1.1*10**7                        #/m\n",
      "Z=92\n",
      "\n",
      "#Calculation\n",
      "W=4/(3*R*(Z-1)**2)\n",
      "\n",
      "#Result\n",
      "print\"Wavelength is\",round(W*10**10,3),\"A\""
     ],
     "language": "python",
     "metadata": {},
     "outputs": [
      {
       "output_type": "stream",
       "stream": "stdout",
       "text": [
        "Wavelength is 0.146 A\n"
       ]
      }
     ],
     "prompt_number": 41
    },
    {
     "cell_type": "heading",
     "level": 2,
     "metadata": {},
     "source": [
      "Example 15.9 Page no 58"
     ]
    },
    {
     "cell_type": "code",
     "collapsed": false,
     "input": [
      "#Given\n",
      "I0=23.0\n",
      "\n",
      "#Calculation\n",
      "import math\n",
      "x=-(10/I0)*math.log(10)*math.log10(0.5)\n",
      "\n",
      "#Result\n",
      "print\"Thickness is\",round(x,2),\"cm\""
     ],
     "language": "python",
     "metadata": {},
     "outputs": [
      {
       "output_type": "stream",
       "stream": "stdout",
       "text": [
        "Thickness is 0.3 cm\n"
       ]
      }
     ],
     "prompt_number": 50
    },
    {
     "cell_type": "heading",
     "level": 2,
     "metadata": {},
     "source": [
      "Example 15.10 Page no 58"
     ]
    },
    {
     "cell_type": "code",
     "collapsed": false,
     "input": [
      "#Given\n",
      "x=1.05*10**-3                   #m\n",
      "a=8930\n",
      "u=2466.7                        #m\n",
      "\n",
      "#Calculation\n",
      "p=u/a\n",
      "\n",
      "#Result\n",
      "print\"The mass absorption coefficient of copper is\",round(p,3),\"m**3/kg\""
     ],
     "language": "python",
     "metadata": {},
     "outputs": [
      {
       "output_type": "stream",
       "stream": "stdout",
       "text": [
        "The mass absorption coefficient of copper is 0.276 m**3/kg\n"
       ]
      }
     ],
     "prompt_number": 58
    },
    {
     "cell_type": "heading",
     "level": 2,
     "metadata": {},
     "source": [
      "Example 15.11 Page no 58"
     ]
    },
    {
     "cell_type": "code",
     "collapsed": false,
     "input": [
      "#Given\n",
      "d=2.820                          #A\n",
      "q=2\n",
      "a=0.1491\n",
      "\n",
      "#Calculation\n",
      "import math\n",
      "l=d*a*q\n",
      "l1=math.asin((q*l)/(q*d))*180/3.14\n",
      "\n",
      "#Result\n",
      "print\"The wavelength of the x-ray is\",round(l,3),\"A\"\n",
      "print\"The angle is\",round(l1,0),\"degree\""
     ],
     "language": "python",
     "metadata": {},
     "outputs": [
      {
       "output_type": "stream",
       "stream": "stdout",
       "text": [
        "The wavelength of the x-ray is 0.841 A\n",
        "The angle is 17.0 degree\n"
       ]
      }
     ],
     "prompt_number": 68
    },
    {
     "cell_type": "heading",
     "level": 2,
     "metadata": {},
     "source": [
      "Example 15.12 Page no 59"
     ]
    },
    {
     "cell_type": "code",
     "collapsed": false,
     "input": [
      "#Given\n",
      "d=3.84*10**-8\n",
      "n=2\n",
      "a=10*0.05\n",
      "h=6.6*10**-34\n",
      "e=10**-10\n",
      "m=1.67*10**-27\n",
      "A=30\n",
      "\n",
      "#Calculation\n",
      "import math\n",
      "l=n*d*math.sin(A*3.14/180.0)\n",
      "v=(h/(m*l*10))\n",
      "\n",
      "#Result\n",
      "print\"The wave length of the neutron beam is\",round(l*10**8,2),\"10**-8\"\n",
      "print\"Speed is\", round(v,2),\"*10**3 m/sec\""
     ],
     "language": "python",
     "metadata": {},
     "outputs": [
      {
       "output_type": "stream",
       "stream": "stdout",
       "text": [
        "The wave length of the neutron beam is 3.84 10**-8\n",
        "Speed is 1.03 *10**3 m/sec\n"
       ]
      }
     ],
     "prompt_number": 106
    },
    {
     "cell_type": "heading",
     "level": 2,
     "metadata": {},
     "source": [
      "Example 15.13 Page no 59"
     ]
    },
    {
     "cell_type": "code",
     "collapsed": false,
     "input": [
      "#Given\n",
      "l=1.8*10**-18\n",
      "\n",
      "#Calculation\n",
      "a=1*l\n",
      "\n",
      "#Result\n",
      "print\"Interatomic spacing is\",a,\"m\""
     ],
     "language": "python",
     "metadata": {},
     "outputs": [
      {
       "output_type": "stream",
       "stream": "stdout",
       "text": [
        "Interatomic spacing is 1.8e-18 m\n"
       ]
      }
     ],
     "prompt_number": 109
    },
    {
     "cell_type": "heading",
     "level": 2,
     "metadata": {},
     "source": [
      "Example 15.14 Page no 59"
     ]
    },
    {
     "cell_type": "code",
     "collapsed": false,
     "input": [
      "#Given\n",
      "d=2.814\n",
      "a=9                   #degree\n",
      "n1=1\n",
      "n2=2\n",
      "n3=3\n",
      "n4=4\n",
      "n5=5\n",
      "\n",
      "#Calculation\n",
      "import math\n",
      "l1=n2*d*math.sin(a*3.14/180.0)\n",
      "l2=l1/2.0\n",
      "l3=l1/3.0\n",
      "l4=l1/4.0\n",
      "l5=l1/5.0\n",
      "\n",
      "#Result\n",
      "print\"Wavelength is\",round(l1,4),\"A\\n\",round(l2,4),\"A\\n\",round(l3,4),\"A\\n\",round(l4,4),\"A\\n\",round(l5,4),\"A\""
     ],
     "language": "python",
     "metadata": {},
     "outputs": [
      {
       "output_type": "stream",
       "stream": "stdout",
       "text": [
        "Wavelength is 0.88 A\n",
        "0.44 A\n",
        "0.2933 A\n",
        "0.22 A\n",
        "0.176 A\n"
       ]
      }
     ],
     "prompt_number": 132
    },
    {
     "cell_type": "heading",
     "level": 2,
     "metadata": {},
     "source": [
      "Example 15.15 Page no 59"
     ]
    },
    {
     "cell_type": "code",
     "collapsed": false,
     "input": [
      "#Given\n",
      "w=0.71                    #A                       \n",
      "a=2.814\n",
      "\n",
      "#Calculation\n",
      "import math\n",
      "A=math.asin(w/a)*180/3.14\n",
      "\n",
      "#Result\n",
      "print\"The glancing angle on the cube face is\",round(A,0)"
     ],
     "language": "python",
     "metadata": {},
     "outputs": [
      {
       "output_type": "stream",
       "stream": "stdout",
       "text": [
        "The glancing angle on the cube face is 15.0\n"
       ]
      }
     ],
     "prompt_number": 143
    },
    {
     "cell_type": "heading",
     "level": 2,
     "metadata": {},
     "source": [
      "Example 15.16 Page no 60"
     ]
    },
    {
     "cell_type": "code",
     "collapsed": false,
     "input": [
      "#Given\n",
      "w=2*10**-11\n",
      "q=45\n",
      "l=3\n",
      "\n",
      "#Calculation\n",
      "import math\n",
      "r=1*w*math.sqrt(l)/(2*math.sin(q*3.14/180.0))\n",
      "\n",
      "#Result\n",
      "print\"The interatomic spacing of the crystal is\",round(r*10**11,2),\"10**-11\",\"m\""
     ],
     "language": "python",
     "metadata": {},
     "outputs": [
      {
       "output_type": "stream",
       "stream": "stdout",
       "text": [
        "The interatomic spacing of the crystal is 2.45 10**-11 m\n"
       ]
      }
     ],
     "prompt_number": 151
    },
    {
     "cell_type": "heading",
     "level": 2,
     "metadata": {},
     "source": [
      "Example 15.17 Page no 60"
     ]
    },
    {
     "cell_type": "code",
     "collapsed": false,
     "input": [
      "#Given\n",
      "a=5        \n",
      "b=12       \n",
      "c=18       \n",
      "l=0.586    #A\n",
      "\n",
      "#Calculation\n",
      "import math\n",
      "d=l/(2*math.sin(a*3.14/180.0))\n",
      "d1=l/(math.sin(b*3.14/180.0))\n",
      "d2=1/(2*math.sin(c*3.14/180.0))\n",
      "\n",
      "#Result\n",
      "print\"The spacing from first maximum is\",round(d,3),\"A\"\n",
      "print\"The spacing from second maximum is\",round(d1,3),\"A\"\n",
      "print\"The spacing from third maximum is\",round(d2,3),\"A\""
     ],
     "language": "python",
     "metadata": {},
     "outputs": [
      {
       "output_type": "stream",
       "stream": "stdout",
       "text": [
        "The spacing from first maximum is 3.363 A\n",
        "The spacing from second maximum is 2.82 A\n",
        "The spacing from third maximum is 1.619 A\n"
       ]
      }
     ],
     "prompt_number": 173
    },
    {
     "cell_type": "heading",
     "level": 2,
     "metadata": {},
     "source": [
      "Example 15.18 Page no 60"
     ]
    },
    {
     "cell_type": "code",
     "collapsed": false,
     "input": [
      "#Given\n",
      "w=1.549\n",
      "d=4.255\n",
      "n=1\n",
      "n1=2\n",
      "\n",
      "#Calculation\n",
      "import math\n",
      "a=n*w/(2*d)\n",
      "A=math.asin(a)*180/3.14\n",
      "a1=n1*w/(2*d)\n",
      "A1=math.asin(a1)*180/3.14\n",
      "\n",
      "#Result\n",
      "print\"Glacing angles are\",round(A,2),\"degree and\",round(A1,2),\"Degree\""
     ],
     "language": "python",
     "metadata": {},
     "outputs": [
      {
       "output_type": "stream",
       "stream": "stdout",
       "text": [
        "Glacing angles are 10.49 degree and 21.36 Degree\n"
       ]
      }
     ],
     "prompt_number": 180
    },
    {
     "cell_type": "heading",
     "level": 2,
     "metadata": {},
     "source": [
      "Example 15.19 Page no 61"
     ]
    },
    {
     "cell_type": "code",
     "collapsed": false,
     "input": [
      "#Given\n",
      "a=28                    #Degree\n",
      "w=0.32*10**-9\n",
      "n=1\n",
      "\n",
      "#Calculation\n",
      "import math\n",
      "d=n*w/(2.0*math.sin(a*3.14/180.0))\n",
      "\n",
      "#Result\n",
      "print\"Distance between atomic planes is\",round(d*10**9,2),\"nm\""
     ],
     "language": "python",
     "metadata": {},
     "outputs": [
      {
       "output_type": "stream",
       "stream": "stdout",
       "text": [
        "Distance between atomic planes is 0.34 nm\n"
       ]
      }
     ],
     "prompt_number": 193
    }
   ],
   "metadata": {}
  }
 ]
}