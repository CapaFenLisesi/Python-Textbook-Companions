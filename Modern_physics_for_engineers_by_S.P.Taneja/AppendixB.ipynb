{
 "metadata": {
  "name": "",
  "signature": "sha256:1f5ae555ac2a157f0b132375251e1524df6c01d683983f76dbbc48ea3bbe3233"
 },
 "nbformat": 3,
 "nbformat_minor": 0,
 "worksheets": [
  {
   "cells": [
    {
     "cell_type": "heading",
     "level": 1,
     "metadata": {},
     "source": [
      "Appendix B EM waves in conducting Medium"
     ]
    },
    {
     "cell_type": "heading",
     "level": 2,
     "metadata": {},
     "source": [
      "Example B.1 Page no 414"
     ]
    },
    {
     "cell_type": "code",
     "collapsed": false,
     "input": [
      "#Given\n",
      "a=5.8*10**7                         #s/m\n",
      "v=1                                 #MHz\n",
      "\n",
      "#Calculation\n",
      "import math\n",
      "u=4*math.pi*10**-7\n",
      "d=v/math.sqrt((math.pi*10**-6*u*a))\n",
      "\n",
      "#Result\n",
      "print\"Skin depth is\",round(d*10**-3,3),\"mm\""
     ],
     "language": "python",
     "metadata": {},
     "outputs": [
      {
       "output_type": "stream",
       "stream": "stdout",
       "text": [
        "Skin depth is 0.066 mm\n"
       ]
      }
     ],
     "prompt_number": 5
    },
    {
     "cell_type": "heading",
     "level": 2,
     "metadata": {},
     "source": [
      "Example B.2 Page no 414"
     ]
    },
    {
     "cell_type": "code",
     "collapsed": false,
     "input": [
      "#Given\n",
      "a=2.56*10**-4\n",
      "n=10.0**10\n",
      "er=2.3\n",
      "e0=8.85*10**-12\n",
      "c=3*10**8\n",
      "\n",
      "#Calculation\n",
      "import math\n",
      "v=a/(2*math.pi*n*er*e0)\n",
      "V=c*math.sqrt(1/er)\n",
      "B=(v*2*math.pi*n)/(2*v)\n",
      "\n",
      "#Result\n",
      "print\"Phase velocity is\", round(V*10**-8,2),\"*10**8 m/s\"\n",
      "print\"Magnitude of attenuation constant is\",round(B*10**-10,2),\"*10**-2\""
     ],
     "language": "python",
     "metadata": {},
     "outputs": [
      {
       "output_type": "stream",
       "stream": "stdout",
       "text": [
        "Phase velocity is 1.98 *10**8 m/s\n",
        "Magnitude of attenuation constant is 3.14 *10**-2\n"
       ]
      }
     ],
     "prompt_number": 27
    },
    {
     "cell_type": "heading",
     "level": 2,
     "metadata": {},
     "source": [
      "Example B.3 Page no 415"
     ]
    },
    {
     "cell_type": "code",
     "collapsed": false,
     "input": [
      "#Given\n",
      "n=1.6*10**6                         #Hz\n",
      "a=38.3*10**6                         #/sm\n",
      "\n",
      "#Calculation\n",
      "import math\n",
      "d=1/(math.sqrt(math.pi*n*a*math.pi*4*10**-7))\n",
      "v=2*math.pi*n*d\n",
      "\n",
      "#Result\n",
      "print\"Skin depth is\", round(d*10**6,1),\"micro m\"\n",
      "print\"Wave velocity is\",round(v,0),\"m/s\""
     ],
     "language": "python",
     "metadata": {},
     "outputs": [
      {
       "output_type": "stream",
       "stream": "stdout",
       "text": [
        "Skin depth is 64.3 micro m\n",
        "Wave velocity is 646.0 m/s\n"
       ]
      }
     ],
     "prompt_number": 35
    }
   ],
   "metadata": {}
  }
 ]
}