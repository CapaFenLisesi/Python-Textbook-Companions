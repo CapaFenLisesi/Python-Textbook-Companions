{
 "metadata": {
  "name": "",
  "signature": "sha256:fa25aede5e2048b3aef3db7a512e42eedd41c6618ebcfbecf8cd5a65f6b8e6f4"
 },
 "nbformat": 3,
 "nbformat_minor": 0,
 "worksheets": [
  {
   "cells": [
    {
     "cell_type": "heading",
     "level": 1,
     "metadata": {},
     "source": [
      "Chapter 12 Ultrasonics"
     ]
    },
    {
     "cell_type": "heading",
     "level": 2,
     "metadata": {},
     "source": [
      "Example 12.1 Page no 388"
     ]
    },
    {
     "cell_type": "code",
     "collapsed": false,
     "input": [
      "#Given\n",
      "y=115*10**9                                  #N/m**2\n",
      "t=40.0*10**-3\n",
      "a=7.25*10**3                                 #kg/m**3\n",
      "\n",
      "#Calculation\n",
      "import math\n",
      "n=(math.sqrt(y/a))/(2*t)\n",
      "\n",
      "#Resut\n",
      "print\"Fundamental frequency is\",round(n*10**-3,1),\"KHz\""
     ],
     "language": "python",
     "metadata": {},
     "outputs": [
      {
       "output_type": "stream",
       "stream": "stdout",
       "text": [
        "Fundamental frequency is 49.8 KHz\n"
       ]
      }
     ],
     "prompt_number": 5
    },
    {
     "cell_type": "heading",
     "level": 2,
     "metadata": {},
     "source": [
      "Example 12.2 Page no 388"
     ]
    },
    {
     "cell_type": "code",
     "collapsed": false,
     "input": [
      "#Given\n",
      "y=8*10**10                          #N/m**2\n",
      "a=5000.0                               #Kg/m**3\n",
      "V=400.0\n",
      "\n",
      "#Calculation\n",
      "import math\n",
      "v=math.sqrt(y/a)\n",
      "w=v/V\n",
      "\n",
      "#Result\n",
      "print\"(a) Velocity is\", v,\"m/sec\"\n",
      "print\"(b) Wavelength is\",w,\"mt\""
     ],
     "language": "python",
     "metadata": {},
     "outputs": [
      {
       "output_type": "stream",
       "stream": "stdout",
       "text": [
        "(a) Velocity is 4000.0 m/sec\n",
        "(b) Wavelength is 10.0 mt\n"
       ]
      }
     ],
     "prompt_number": 11
    },
    {
     "cell_type": "heading",
     "level": 2,
     "metadata": {},
     "source": [
      "Example 12.3 Page no 389"
     ]
    },
    {
     "cell_type": "code",
     "collapsed": false,
     "input": [
      "#Given\n",
      "v=1700                               #m/s\n",
      "t=0.65                                #sec\n",
      "n=0.7*10**5\n",
      "\n",
      "#Calculation\n",
      "d=v*t/2.0\n",
      "w=v/n\n",
      "\n",
      "#Result\n",
      "print\"Depth of sea is\", d,\"m\"\n",
      "print\"Wavelength of pulse is\",round(w,4),\"m\""
     ],
     "language": "python",
     "metadata": {},
     "outputs": [
      {
       "output_type": "stream",
       "stream": "stdout",
       "text": [
        "Depth of sea is 552.5 m\n",
        "Wavelength of pulse is 0.0243 m\n"
       ]
      }
     ],
     "prompt_number": 19
    }
   ],
   "metadata": {}
  }
 ]
}