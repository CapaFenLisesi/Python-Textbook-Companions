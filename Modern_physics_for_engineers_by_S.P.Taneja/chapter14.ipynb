{
 "metadata": {
  "name": "",
  "signature": "sha256:f95ad053d0ee60a574142f8a3593f1e9b0c8e0f820af4e56f85cc80fe6a03524"
 },
 "nbformat": 3,
 "nbformat_minor": 0,
 "worksheets": [
  {
   "cells": [
    {
     "cell_type": "heading",
     "level": 1,
     "metadata": {},
     "source": [
      "Chapter 14 Crystal structure"
     ]
    },
    {
     "cell_type": "heading",
     "level": 2,
     "metadata": {},
     "source": [
      "Example 14.1 Page no 27"
     ]
    },
    {
     "cell_type": "code",
     "collapsed": false,
     "input": [
      "#Given\n",
      "a=3.56\n",
      "\n",
      "#Calculation\n",
      "import math\n",
      "A=a/math.sqrt(2)\n",
      "\n",
      "#Result\n",
      "print\"(a) There are 8 atmos\"\n",
      "print\"(b) Length is\",round(A,2),\"A\""
     ],
     "language": "python",
     "metadata": {},
     "outputs": [
      {
       "output_type": "stream",
       "stream": "stdout",
       "text": [
        "(a) There are 8 atmos\n",
        "(b) Length is 2.52 A\n"
       ]
      }
     ],
     "prompt_number": 4
    },
    {
     "cell_type": "heading",
     "level": 2,
     "metadata": {},
     "source": [
      "Example 14.6 Page no 28"
     ]
    },
    {
     "cell_type": "code",
     "collapsed": false,
     "input": [
      "#Given\n",
      "a=3\n",
      "b=2.0\n",
      "\n",
      "#Calculation\n",
      "import math\n",
      "d=math.sqrt(a/b)\n",
      "\n",
      "#Result\n",
      "print\"(i) Ratio of intercepts of three axes is 1:1/2:1/3\"\n",
      "print\"(ii) Ratio of spascing is\",round(d,3)"
     ],
     "language": "python",
     "metadata": {},
     "outputs": [
      {
       "output_type": "stream",
       "stream": "stdout",
       "text": [
        "(i) Ratio of intercepts of three axes is 1:1/2:1/3\n",
        "(ii) Ratio of spascing is 1.225\n"
       ]
      }
     ],
     "prompt_number": 7
    },
    {
     "cell_type": "heading",
     "level": 2,
     "metadata": {},
     "source": [
      "Example 14.12 Page no 30"
     ]
    },
    {
     "cell_type": "code",
     "collapsed": false,
     "input": [
      "#Given\n",
      "c=8\n",
      "a=3.0\n",
      "\n",
      "#Calculation\n",
      "import math\n",
      "A=math.sqrt(c/a)\n",
      "\n",
      "#Result\n",
      "print\"A=\",round(A,3)"
     ],
     "language": "python",
     "metadata": {},
     "outputs": [
      {
       "output_type": "stream",
       "stream": "stdout",
       "text": [
        "A= 1.633\n"
       ]
      }
     ],
     "prompt_number": 10
    },
    {
     "cell_type": "heading",
     "level": 2,
     "metadata": {},
     "source": [
      "Example 14.13 Page no 30"
     ]
    },
    {
     "cell_type": "code",
     "collapsed": false,
     "input": [
      "#Given\n",
      "v=1.794*10**-28                           #m**3\n",
      "Kb=8.625*10**-5\n",
      "T=298\n",
      "A=16.65\n",
      "\n",
      "#Calculation\n",
      "import math\n",
      "E=math.log(10)*A*2*Kb*T\n",
      "\n",
      "#Result\n",
      "print\"Average energy required is\",round(E,3),\"eV\""
     ],
     "language": "python",
     "metadata": {},
     "outputs": [
      {
       "output_type": "stream",
       "stream": "stdout",
       "text": [
        "Average energy required is 1.971 eV\n"
       ]
      }
     ],
     "prompt_number": 13
    },
    {
     "cell_type": "heading",
     "level": 2,
     "metadata": {},
     "source": [
      "Example 14.14 Page no 31"
     ]
    },
    {
     "cell_type": "code",
     "collapsed": false,
     "input": [
      "#Given\n",
      "a=560\n",
      "Kb=8.625*10**-5\n",
      "T=586\n",
      "A=1146\n",
      "\n",
      "#Calculation\n",
      "import math\n",
      "n=1.4*a/(math.log(10)*Kb*T*A)\n",
      "\n",
      "#Result\n",
      "print\"Ratio is\", round(n,3)"
     ],
     "language": "python",
     "metadata": {},
     "outputs": [
      {
       "output_type": "stream",
       "stream": "stdout",
       "text": [
        "Ratio is 5.878\n"
       ]
      }
     ],
     "prompt_number": 23
    }
   ],
   "metadata": {}
  }
 ]
}