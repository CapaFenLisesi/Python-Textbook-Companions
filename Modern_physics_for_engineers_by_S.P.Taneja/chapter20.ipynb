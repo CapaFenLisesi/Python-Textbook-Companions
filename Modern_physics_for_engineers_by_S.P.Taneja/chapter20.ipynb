{
 "metadata": {
  "name": "",
  "signature": "sha256:28632a8e2e8b8cfc35d61b358e115b3b420083bd7c5c7f588f01ea1f5ef49276"
 },
 "nbformat": 3,
 "nbformat_minor": 0,
 "worksheets": [
  {
   "cells": [
    {
     "cell_type": "heading",
     "level": 1,
     "metadata": {},
     "source": [
      "Chapter 20 Free electron theory"
     ]
    },
    {
     "cell_type": "heading",
     "level": 2,
     "metadata": {},
     "source": [
      "Example 20.1 Page no 191"
     ]
    },
    {
     "cell_type": "code",
     "collapsed": false,
     "input": [
      "#Given\n",
      "a=0.971*10**3               #Kg/m**3\n",
      "w=22.99\n",
      "N0=6*10**26\n",
      "m=9.1*10**-31                #Kg\n",
      "h=6.626*10**-34                 #J-s\n",
      "\n",
      "#Calculation\n",
      "import math\n",
      "N=(N0*a)/w\n",
      "Ef=(h/(8*m))*((3*N)/math.pi)**0.66\n",
      "\n",
      "#Result\n",
      "print\"Fermi energy is\", round(Ef*10**-14,0)*10**-19,\"J\""
     ],
     "language": "python",
     "metadata": {},
     "outputs": [
      {
       "output_type": "stream",
       "stream": "stdout",
       "text": [
        "Fermi energy is 5e-19 J\n"
       ]
      }
     ],
     "prompt_number": 12
    },
    {
     "cell_type": "heading",
     "level": 2,
     "metadata": {},
     "source": [
      "Example 20.2 Page no 192"
     ]
    },
    {
     "cell_type": "code",
     "collapsed": false,
     "input": [
      "#Given\n",
      "a=10**-10                 #m\n",
      "m=9.1*10**-31               #Kg\n",
      "h=6.626*10**-34                #J-s\n",
      "\n",
      "#Calculation\n",
      "E=3*h**2/(8*m*a**2)\n",
      "\n",
      "#Result\n",
      "print\"Energy difference is\", round(E*10**17,3)*10**-17,\"J\""
     ],
     "language": "python",
     "metadata": {},
     "outputs": [
      {
       "output_type": "stream",
       "stream": "stdout",
       "text": [
        "Energy difference is 1.809e-17 J\n"
       ]
      }
     ],
     "prompt_number": 18
    },
    {
     "cell_type": "heading",
     "level": 2,
     "metadata": {},
     "source": [
      "Example 20.3 Page no 192"
     ]
    },
    {
     "cell_type": "code",
     "collapsed": false,
     "input": [
      "#Given\n",
      "x=1.39\n",
      "K=0.025\n",
      "Ef=3.2\n",
      "\n",
      "#Calculation\n",
      "E=x*K\n",
      "E1=E+Ef\n",
      "\n",
      "#Result\n",
      "print\"Energy at 300 K is\", round(E1,3),\"ev\""
     ],
     "language": "python",
     "metadata": {},
     "outputs": [
      {
       "output_type": "stream",
       "stream": "stdout",
       "text": [
        "Energy at 300 K is 3.235 ev\n"
       ]
      }
     ],
     "prompt_number": 23
    }
   ],
   "metadata": {}
  }
 ]
}