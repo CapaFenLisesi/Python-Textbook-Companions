{
 "metadata": {
  "name": "",
  "signature": "sha256:23cd3e5417a4aba77158edca69b0fcc586465a3d6fb0b76bd20567d78ca32f5c"
 },
 "nbformat": 3,
 "nbformat_minor": 0,
 "worksheets": [
  {
   "cells": [
    {
     "cell_type": "heading",
     "level": 1,
     "metadata": {},
     "source": [
      "Chapter 4 Laser"
     ]
    },
    {
     "cell_type": "heading",
     "level": 2,
     "metadata": {},
     "source": [
      "Example 4.1 Page no 164"
     ]
    },
    {
     "cell_type": "code",
     "collapsed": false,
     "input": [
      "#Given\n",
      "w=6328.0*10**-10                       #m\n",
      "K=1.38*10**-23                #J/k\n",
      "T=300                        #K\n",
      "e=6.63*10**-34\n",
      "c=3*10**8\n",
      "\n",
      "#Calculation\n",
      "E=e*c/w\n",
      "N=math.exp(-E/(K*T))\n",
      "\n",
      "#Result\n",
      "print\"Ratio of population of two states is\", round(N*10**33,0)*10**-33"
     ],
     "language": "python",
     "metadata": {},
     "outputs": [
      {
       "output_type": "stream",
       "stream": "stdout",
       "text": [
        "Ratio of population of two states is 1e-33\n"
       ]
      }
     ],
     "prompt_number": 16
    },
    {
     "cell_type": "heading",
     "level": 2,
     "metadata": {},
     "source": [
      "Example 4.2 Page no 164"
     ]
    },
    {
     "cell_type": "code",
     "collapsed": false,
     "input": [
      "#Given\n",
      "N=1.059*10**-30\n",
      "T=330\n",
      "K=1.38*10**-23                    #J/K\n",
      "E=3.147*10**-19\n",
      "c=3*10**8\n",
      "h=6.63*10**-34\n",
      "\n",
      "#Calculation\n",
      "w=h*c/E\n",
      "\n",
      "#Result\n",
      "print\"Wavelength of light is\",round(w*10**9,0),\"*10**-9 m\""
     ],
     "language": "python",
     "metadata": {},
     "outputs": [
      {
       "output_type": "stream",
       "stream": "stdout",
       "text": [
        "Wavelength of light is 632.0 *10**-9 m\n"
       ]
      }
     ],
     "prompt_number": 15
    },
    {
     "cell_type": "heading",
     "level": 2,
     "metadata": {},
     "source": [
      "Example 4.3 Page no 165"
     ]
    },
    {
     "cell_type": "code",
     "collapsed": false,
     "input": [
      "#Given\n",
      "v=3000.0                     #bandwidth in Hz\n",
      "c=3*10**8                    #speed of light in m/ s\n",
      "\n",
      "#Calculation\n",
      "t =1/ v\n",
      "l=(c*t)\n",
      "\n",
      "#Result\n",
      "print\"Coherence length for laser is\",l*10**-3,\"km\""
     ],
     "language": "python",
     "metadata": {},
     "outputs": [
      {
       "output_type": "stream",
       "stream": "stdout",
       "text": [
        "Coherence length for laser is 100.0 km\n"
       ]
      }
     ],
     "prompt_number": 3
    },
    {
     "cell_type": "heading",
     "level": 2,
     "metadata": {},
     "source": [
      "Example 4.4 Page no 165"
     ]
    },
    {
     "cell_type": "code",
     "collapsed": false,
     "input": [
      "#Given\n",
      "theta =32                     #angle on slit in second\n",
      "w=5*10**-5\n",
      "\n",
      "#Calculation\n",
      "theta1 =theta* 3.14/(60*180) \n",
      "C=w/ theta1\n",
      "\n",
      "#Result\n",
      "print\"Transverse coherence length is\",round(C,3),\"cm\""
     ],
     "language": "python",
     "metadata": {},
     "outputs": [
      {
       "output_type": "stream",
       "stream": "stdout",
       "text": [
        "Transverse coherence length is 0.005 cm\n"
       ]
      }
     ],
     "prompt_number": 17
    },
    {
     "cell_type": "heading",
     "level": 2,
     "metadata": {},
     "source": [
      "Example 4.5 Page no 165"
     ]
    },
    {
     "cell_type": "code",
     "collapsed": false,
     "input": [
      "#Given\n",
      "t=1.0*10**-10                      #coherence time in sec\n",
      "c=3*10**8                     #speed of light in m/ s\n",
      "w =54.0*10**-8                  #wave length of non\udbc0\udc00monochromacity in m\n",
      "\n",
      "#Calclation\n",
      "B =1/ t\n",
      "v=c/w\n",
      "D=B/v\n",
      "\n",
      "#Result\n",
      "print\"Degree is\",D"
     ],
     "language": "python",
     "metadata": {},
     "outputs": [
      {
       "output_type": "stream",
       "stream": "stdout",
       "text": [
        "Degree is 1.8e-05\n"
       ]
      }
     ],
     "prompt_number": 3
    },
    {
     "cell_type": "heading",
     "level": 2,
     "metadata": {},
     "source": [
      "Example 4.6 Page no 166"
     ]
    },
    {
     "cell_type": "code",
     "collapsed": false,
     "input": [
      "#Given\n",
      "t=5.0*10**-10                 #s\n",
      "c=3*10**8\n",
      "\n",
      "#Calculation\n",
      "l=t*c\n",
      "v=1/t\n",
      "\n",
      "#Result\n",
      "print\"Coherence length is\", v*10**-9,\"*10**9 Hz\""
     ],
     "language": "python",
     "metadata": {},
     "outputs": [
      {
       "output_type": "stream",
       "stream": "stdout",
       "text": [
        "Coherence length is 2.0 *10**9 Hz\n"
       ]
      }
     ],
     "prompt_number": 24
    },
    {
     "cell_type": "heading",
     "level": 2,
     "metadata": {},
     "source": [
      "Example 4.7 Page no 166"
     ]
    },
    {
     "cell_type": "code",
     "collapsed": false,
     "input": [
      "#Given\n",
      "L=7200*10**-10                       #m\n",
      "d=5*10**-3\n",
      "f=0.1\n",
      "p=50*10**-3\n",
      "\n",
      "#Calculation\n",
      "a=L/d\n",
      "A=a**2*f**2\n",
      "I=p/A\n",
      "\n",
      "#Result\n",
      "print\"Area of image is\", A,\"m**2\"\n",
      "print\"Intensity of image is\",round(I*10**-8,3),\"*10**8 W/m**2\""
     ],
     "language": "python",
     "metadata": {},
     "outputs": [
      {
       "output_type": "stream",
       "stream": "stdout",
       "text": [
        "Area of image is 2.0736e-10 m**2\n",
        "Intensity of image is 2.411 *10**8 W/m**2\n"
       ]
      }
     ],
     "prompt_number": 33
    },
    {
     "cell_type": "heading",
     "level": 2,
     "metadata": {},
     "source": [
      "Example 4.8 Page no 166"
     ]
    },
    {
     "cell_type": "code",
     "collapsed": false,
     "input": [
      "#Given\n",
      "w=7*10**-7                         #m\n",
      "a=5.0*10**-3\n",
      "D=4*10**8\n",
      "\n",
      "#Calculation\n",
      "A=1.22*w/a\n",
      "x=(D*A)**2*3.14\n",
      "\n",
      "#Result\n",
      "print\"(i) The angular spread is\",round(A*10**4,1),\"*10**-4 radian\"\n",
      "print\"(ii) Areal spread when the beam reaches the moon is\", round(x*10**-10,2),\"*10**10 m**2\""
     ],
     "language": "python",
     "metadata": {},
     "outputs": [
      {
       "output_type": "stream",
       "stream": "stdout",
       "text": [
        "(i) The angular spread is 1.7 *10**-4 radian\n",
        "(ii) Areal spread when the nbeam reaches the moon is 1.47 *10**10 m**2\n"
       ]
      }
     ],
     "prompt_number": 47
    },
    {
     "cell_type": "heading",
     "level": 2,
     "metadata": {},
     "source": [
      "Example 4.9 Page no 167"
     ]
    },
    {
     "cell_type": "code",
     "collapsed": false,
     "input": [
      "#Given\n",
      "L=0.5                         #m\n",
      "\n",
      "#Calculation\n",
      "v=c/(2*L)\n",
      "\n",
      "#Result\n",
      "print\"Mode separation of longitudinal cavity is\",v*10**-8,\"*10**8 Hz\""
     ],
     "language": "python",
     "metadata": {},
     "outputs": [
      {
       "output_type": "stream",
       "stream": "stdout",
       "text": [
        "Mode separation of longitudinal cavity is 3.0 *10**8 Hz\n"
       ]
      }
     ],
     "prompt_number": 50
    }
   ],
   "metadata": {}
  }
 ]
}