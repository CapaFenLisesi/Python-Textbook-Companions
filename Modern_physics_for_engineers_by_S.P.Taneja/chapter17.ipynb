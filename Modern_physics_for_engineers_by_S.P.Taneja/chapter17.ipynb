{
 "metadata": {
  "name": "",
  "signature": "sha256:a0472cad9efc9fc083eae29a6558b27a9e3a3efc3cc73f1c739af6d2c19278c6"
 },
 "nbformat": 3,
 "nbformat_minor": 0,
 "worksheets": [
  {
   "cells": [
    {
     "cell_type": "heading",
     "level": 1,
     "metadata": {},
     "source": [
      "Chapter 17 Development of wave Mechanics"
     ]
    },
    {
     "cell_type": "heading",
     "level": 2,
     "metadata": {},
     "source": [
      "Example 17.1 Page no 102"
     ]
    },
    {
     "cell_type": "code",
     "collapsed": false,
     "input": [
      "#Given\n",
      "h=6.6*10**-34                        #j-s\n",
      "v=6*10**14                           #/sec\n",
      "w=6000*10**-10                       #m\n",
      "c=3*10**8\n",
      "e=1.6*10**-19\n",
      "\n",
      "#Calculation\n",
      "E=(h*(v-(c/w)))/e\n",
      "\n",
      "#Result\n",
      "print\"Energy of photoelectrons is\",round(E,3),\"ev\""
     ],
     "language": "python",
     "metadata": {},
     "outputs": [
      {
       "output_type": "stream",
       "stream": "stdout",
       "text": [
        "Energy of photoelectrons is 0.412 ev\n"
       ]
      }
     ],
     "prompt_number": 4
    },
    {
     "cell_type": "heading",
     "level": 2,
     "metadata": {},
     "source": [
      "Example 17.2 Page no 102"
     ]
    },
    {
     "cell_type": "code",
     "collapsed": false,
     "input": [
      "#Given\n",
      "w=4.8*10**-7\n",
      "a0=2.3\n",
      "h=6.6*10**-34\n",
      "c=3*10**8\n",
      "e=1.6*10**-19\n",
      "\n",
      "#Calculation\n",
      "hv=h*c/(w*e)\n",
      "K=hv-a0\n",
      "W=(h*c)/(a0*e)\n",
      "\n",
      "#Result\n",
      "print\"Maximum kinetic energy is\", round(K,2),\"ev\"\n",
      "print\"Longest wavelength is\",round(W*10**7,2)*10**-7,\"m\""
     ],
     "language": "python",
     "metadata": {},
     "outputs": [
      {
       "output_type": "stream",
       "stream": "stdout",
       "text": [
        "Maximum kinetic energy is 0.28 ev\n",
        "Longest wavelength is 5.38e-07 m\n"
       ]
      }
     ],
     "prompt_number": 17
    },
    {
     "cell_type": "heading",
     "level": 2,
     "metadata": {},
     "source": [
      "Example 17.3 Page no 103"
     ]
    },
    {
     "cell_type": "code",
     "collapsed": false,
     "input": [
      "#Given\n",
      "h=6.62*10**-34                         #joule-sec\n",
      "m=9.1*10**-31\n",
      "e=1.6*10**-19\n",
      "E=1.25                           #Joule\n",
      "\n",
      "#Calculation\n",
      "import math\n",
      "w=h/(math.sqrt(2*m*E*e))\n",
      "\n",
      "#Result\n",
      "print\"Wavelength is\",round(w*10**10,0),\"A\""
     ],
     "language": "python",
     "metadata": {},
     "outputs": [
      {
       "output_type": "stream",
       "stream": "stdout",
       "text": [
        "Wavelength is 11.0 A\n"
       ]
      }
     ],
     "prompt_number": 34
    },
    {
     "cell_type": "heading",
     "level": 2,
     "metadata": {},
     "source": [
      "Example 17.4 Page no 103"
     ]
    },
    {
     "cell_type": "code",
     "collapsed": false,
     "input": [
      "#Given\n",
      "h=6.6*10**-34                        #J-s\n",
      "m=1.674*10**-27                      #Kg\n",
      "w=10**-10                            #m\n",
      "\n",
      "#Calculation\n",
      "E=(h**2/(2*m*w**2))/e\n",
      "\n",
      "#Result\n",
      "print\"Energy of neutron is\", round(E,4),\"ev\""
     ],
     "language": "python",
     "metadata": {},
     "outputs": [
      {
       "output_type": "stream",
       "stream": "stdout",
       "text": [
        "Energy of neutron is 0.0813 ev\n"
       ]
      }
     ],
     "prompt_number": 39
    },
    {
     "cell_type": "heading",
     "level": 2,
     "metadata": {},
     "source": [
      "Example 17.5 Page no 103"
     ]
    },
    {
     "cell_type": "code",
     "collapsed": false,
     "input": [
      "#given\n",
      "w=4000*10**-10              #m\n",
      "c=3*10**8                    #m/s\n",
      "h=6.62*10**-34                 #js\n",
      "\n",
      "#Calculation\n",
      "v=c/w\n",
      "E=(h*v)/e\n",
      "\n",
      "#Result\n",
      "print\"Frequency is\", v*10**-15,\"*10**15 Hz\"\n",
      "print\"Energy is\",round(E,1),\"ev\""
     ],
     "language": "python",
     "metadata": {},
     "outputs": [
      {
       "output_type": "stream",
       "stream": "stdout",
       "text": [
        "Frequency is 0.75 *10**15 Hz\n",
        "Energy is 3.1 ev\n"
       ]
      }
     ],
     "prompt_number": 48
    },
    {
     "cell_type": "heading",
     "level": 2,
     "metadata": {},
     "source": [
      "Example 17.6 Page no 104"
     ]
    },
    {
     "cell_type": "code",
     "collapsed": false,
     "input": [
      "#Given\n",
      "h=6.62*10**-34                   #J-s\n",
      "m=1.67*10**-27                   #Kg\n",
      "K=1.38*10**-23                   #Joule/K\n",
      "T=300                            #K\n",
      "\n",
      "#Calculation\n",
      "import math\n",
      "w=h/(math.sqrt(2*m*K*T))\n",
      "\n",
      "#Result\n",
      "print\"Wavelength is\",round(w*10**10,2),\"A\""
     ],
     "language": "python",
     "metadata": {},
     "outputs": [
      {
       "output_type": "stream",
       "stream": "stdout",
       "text": [
        "Wavelength is 1.78 A\n"
       ]
      }
     ],
     "prompt_number": 52
    },
    {
     "cell_type": "heading",
     "level": 2,
     "metadata": {},
     "source": [
      "Example 17.7 Page no 104"
     ]
    },
    {
     "cell_type": "code",
     "collapsed": false,
     "input": [
      "#Given\n",
      "m=1.67*10**-27                  #Kg\n",
      "h=6.62*10**-34                    #joule-sec\n",
      "V=2000                             #V\n",
      "\n",
      "#Calculation\n",
      "import math\n",
      "M=4*m\n",
      "w=h/(math.sqrt(4*M*e*V))\n",
      "\n",
      "#Result\n",
      "print\"De-Broglie wavelength is\",round(w*10**13,1),\"*10**-3 A\""
     ],
     "language": "python",
     "metadata": {},
     "outputs": [
      {
       "output_type": "stream",
       "stream": "stdout",
       "text": [
        "De-Broglie wavelength is 2.3 *10**-3 A\n"
       ]
      }
     ],
     "prompt_number": 57
    },
    {
     "cell_type": "heading",
     "level": 2,
     "metadata": {},
     "source": [
      "Example 17.8 Page no 105"
     ]
    },
    {
     "cell_type": "code",
     "collapsed": false,
     "input": [
      "#Given\n",
      "h=6.626*10**-34                  #j-s\n",
      "m=9.1*10**-31                    #Kg\n",
      "v=10**7\n",
      "\n",
      "#Calculation\n",
      "w=h/(m*v)\n",
      "\n",
      "#Result\n",
      "print\"De-Broglie wavelength is\",round(w*10**10,4),\"A\""
     ],
     "language": "python",
     "metadata": {},
     "outputs": [
      {
       "output_type": "stream",
       "stream": "stdout",
       "text": [
        "De-Broglie wavelength is 0.7281 A\n"
       ]
      }
     ],
     "prompt_number": 65
    }
   ],
   "metadata": {}
  }
 ]
}