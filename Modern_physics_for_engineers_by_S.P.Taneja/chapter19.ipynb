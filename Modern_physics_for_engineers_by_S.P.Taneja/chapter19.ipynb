{
 "metadata": {
  "name": "",
  "signature": "sha256:1d083196ab02ad5ba2396b4a10a213058e506c3fee2a8be71f6824530382e5a1"
 },
 "nbformat": 3,
 "nbformat_minor": 0,
 "worksheets": [
  {
   "cells": [
    {
     "cell_type": "heading",
     "level": 1,
     "metadata": {},
     "source": [
      "Chapter 19 Schrodinger Equation and its Applications"
     ]
    },
    {
     "cell_type": "heading",
     "level": 2,
     "metadata": {},
     "source": [
      "Example 19.1 Page no 168"
     ]
    },
    {
     "cell_type": "code",
     "collapsed": false,
     "input": [
      "#Given                       \n",
      "h=6.624*10**-34\n",
      "m=9.1*10**-31\n",
      "a=10**-10\n",
      "\n",
      "#Calculation\n",
      "E1=h**2/(8*m*a**2)\n",
      "\n",
      "#Result\n",
      "print\"Energy is\", round(E1*10**19,1),\"*10**-10 J\""
     ],
     "language": "python",
     "metadata": {},
     "outputs": [
      {
       "output_type": "stream",
       "stream": "stdout",
       "text": [
        "Energy is 60.3 *10**-10 J\n"
       ]
      }
     ],
     "prompt_number": 23
    },
    {
     "cell_type": "heading",
     "level": 2,
     "metadata": {},
     "source": [
      "Example 19.4 Page no 169"
     ]
    },
    {
     "cell_type": "code",
     "collapsed": false,
     "input": [
      "#Given\n",
      "a=10**-9                        #m\n",
      "m=9.1*10**-31                      #Kg\n",
      "h=6.63*10**-34                     #J-s\n",
      "\n",
      "#Calculation\n",
      "E0=h**2/(8*m*a**2)\n",
      "\n",
      "#Result\n",
      "print\"Value of E0 is\",round(E0*10**20,2)*10**-17,\"J\""
     ],
     "language": "python",
     "metadata": {},
     "outputs": [
      {
       "output_type": "stream",
       "stream": "stdout",
       "text": [
        "Value of E0 is 6.04e-17 J\n"
       ]
      }
     ],
     "prompt_number": 28
    },
    {
     "cell_type": "heading",
     "level": 2,
     "metadata": {},
     "source": [
      "Example 19.5 Page no 169"
     ]
    },
    {
     "cell_type": "code",
     "collapsed": false,
     "input": [
      "#Given\n",
      "x=5*10**-10\n",
      "a=25*10**-10\n",
      "\n",
      "#Calculation\n",
      "P=(2*x)/a\n",
      "\n",
      "#Result\n",
      "print\"Probability of finding the particle is\",P"
     ],
     "language": "python",
     "metadata": {},
     "outputs": [
      {
       "output_type": "stream",
       "stream": "stdout",
       "text": [
        "Probability of finding the particle is 0.4\n"
       ]
      }
     ],
     "prompt_number": 29
    }
   ],
   "metadata": {}
  }
 ]
}