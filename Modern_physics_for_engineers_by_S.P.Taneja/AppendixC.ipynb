{
 "metadata": {
  "name": "",
  "signature": "sha256:dd508155a47c2bffcd2dfdcfbd55f2abf1514dac72895d0c19bd7f9bfbad737d"
 },
 "nbformat": 3,
 "nbformat_minor": 0,
 "worksheets": [
  {
   "cells": [
    {
     "cell_type": "heading",
     "level": 1,
     "metadata": {},
     "source": [
      "Appendix C Acoustics of Buildings"
     ]
    },
    {
     "cell_type": "heading",
     "level": 2,
     "metadata": {},
     "source": [
      "Example C.1 Page no 427"
     ]
    },
    {
     "cell_type": "code",
     "collapsed": false,
     "input": [
      "#Given\n",
      "s1=5000\n",
      "a1=0.05\n",
      "s2=8000\n",
      "a2=0.03\n",
      "s3=500\n",
      "a3=0.025\n",
      "s4=600\n",
      "a4=0.3\n",
      "s5=500\n",
      "a5=4.2\n",
      "v1=50\n",
      "v2=80\n",
      "v3=20\n",
      "\n",
      "#Calculation\n",
      "A1=s1*a1\n",
      "A2=s2*a2\n",
      "A3=s3*a3\n",
      "A4=s4*a4\n",
      "A5=s5*a5\n",
      "A=A1+A2+A3+A4+A5\n",
      "V=v1*v2*v3\n",
      "T=(0.16*V)/A\n",
      "\n",
      "#Result\n",
      "print\"(i) Reverbrating time with absorption coefficient 0.05 is\",A1,\"sq m\"\n",
      "print\"(ii) Reverbrating time with absorption coefficient 0.03 is\",A2,\"sq m\"\n",
      "print\"(iii) Reverbrating time with absorption coefficient 0.025 is\",A3,\"sq m\"\n",
      "print\"(iv) Reverbrating time with absorption coefficient 0.3 is\",A4,\"sq m\"\n",
      "print\"(v) Reverbrating time is\",round(T,1),\"Second\""
     ],
     "language": "python",
     "metadata": {},
     "outputs": [
      {
       "output_type": "stream",
       "stream": "stdout",
       "text": [
        "(i) Reverbrating time with absorption coefficient 0.05 is 250.0 sq m\n",
        "(ii) Reverbrating time with absorption coefficient 0.03 is 240.0 sq m\n",
        "(iii) Reverbrating time with absorption coefficient 0.025 is 12.5 sq m\n",
        "(iv) Reverbrating time with absorption coefficient 0.3 is 180.0 sq m\n",
        "(v) Reverbrating time is 4.6 Second\n"
       ]
      }
     ],
     "prompt_number": 20
    },
    {
     "cell_type": "heading",
     "level": 2,
     "metadata": {},
     "source": [
      "Example C.2 Page no 428"
     ]
    },
    {
     "cell_type": "code",
     "collapsed": false,
     "input": [
      "#Given\n",
      "S1=220                             #m**2\n",
      "S2=120                        \n",
      "S3=120\n",
      "T=460.0\n",
      "a1=0.03\n",
      "a2=0.06\n",
      "a3=0.80\n",
      "V=600                                #m**3\n",
      "\n",
      "#Calculation\n",
      "A=S1*a1+S2*a2+S3*a3\n",
      "Av=A/T\n",
      "T1=0.16*V/A\n",
      "\n",
      "#Result\n",
      "print\"Average absorption coefficient is\",round(Av,3)\n",
      "print\"Reverbration time is\",round(T1,2),\"Sec\""
     ],
     "language": "python",
     "metadata": {},
     "outputs": [
      {
       "output_type": "stream",
       "stream": "stdout",
       "text": [
        "Average absorption coefficient is 0.239\n",
        "Reverbration time is 0.87 Sec\n"
       ]
      }
     ],
     "prompt_number": 28
    },
    {
     "cell_type": "heading",
     "level": 2,
     "metadata": {},
     "source": [
      "Example C.3 Page no 429"
     ]
    },
    {
     "cell_type": "code",
     "collapsed": false,
     "input": [
      "#Given\n",
      "V=7000                                 #m**3\n",
      "T=1.4                                  #sec\n",
      "\n",
      "#Calculation\n",
      "A=0.16*V/T\n",
      "\n",
      "#Result\n",
      "print\"Total absorption is\",A,\"O.W.U\""
     ],
     "language": "python",
     "metadata": {},
     "outputs": [
      {
       "output_type": "stream",
       "stream": "stdout",
       "text": [
        "Total absorption is 800.0 O.W.U\n"
       ]
      }
     ],
     "prompt_number": 30
    },
    {
     "cell_type": "heading",
     "level": 2,
     "metadata": {},
     "source": [
      "Example C.4 Page no 429"
     ]
    },
    {
     "cell_type": "code",
     "collapsed": false,
     "input": [
      "#Given\n",
      "a1=6                     #m\n",
      "a2=4\n",
      "a3=3\n",
      "a=0.25\n",
      "\n",
      "#Calculation\n",
      "V=a1*a2*a3\n",
      "S=((a1*a2)+(a2*a3)+(a3*a1))*a\n",
      "T=0.16*V/S\n",
      "\n",
      "#Result\n",
      "print\"Time of reverbration is\",round(T,2),\"Sec\""
     ],
     "language": "python",
     "metadata": {},
     "outputs": [
      {
       "output_type": "stream",
       "stream": "stdout",
       "text": [
        "Time of reverbration is 0.85 Sec\n"
       ]
      }
     ],
     "prompt_number": 37
    },
    {
     "cell_type": "heading",
     "level": 2,
     "metadata": {},
     "source": [
      "Example C.5 Page no 430"
     ]
    },
    {
     "cell_type": "code",
     "collapsed": false,
     "input": [
      "#Given\n",
      "a1=0.03\n",
      "s1=220\n",
      "a2=0.80\n",
      "s2=120\n",
      "a3=0.06\n",
      "s3=120\n",
      "V=1200\n",
      "\n",
      "#Calculation\n",
      "a=(a1*s1+a2*s2+a3*s3)/(s1+s2+s3)\n",
      "a1=a*(s1+s2+s3)\n",
      "T=0.16*V/a1\n",
      "\n",
      "#Result\n",
      "print\"Average sound absorption coefficient is\", round(a,4)\n",
      "print\"Reverberation time is\",round(T,2),\"Second\""
     ],
     "language": "python",
     "metadata": {},
     "outputs": [
      {
       "output_type": "stream",
       "stream": "stdout",
       "text": [
        "Average sound absorption coefficient is 0.2387\n",
        "Reverberation time is 1.75 Second\n"
       ]
      }
     ],
     "prompt_number": 47
    }
   ],
   "metadata": {}
  }
 ]
}