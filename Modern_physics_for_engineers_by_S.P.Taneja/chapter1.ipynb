{
 "metadata": {
  "name": "",
  "signature": "sha256:ee5d81beae8ca18c4c460d21085e375c6aabc7924316241bd3369b021ef9ba7b"
 },
 "nbformat": 3,
 "nbformat_minor": 0,
 "worksheets": [
  {
   "cells": [
    {
     "cell_type": "heading",
     "level": 1,
     "metadata": {},
     "source": [
      "Chapter 1 Interference of light"
     ]
    },
    {
     "cell_type": "heading",
     "level": 2,
     "metadata": {},
     "source": [
      "Example 1.1 Page no 35"
     ]
    },
    {
     "cell_type": "code",
     "collapsed": false,
     "input": [
      "#Given\n",
      "I1=9\n",
      "I2=4.0\n",
      "\n",
      "#Calculation\n",
      "import math\n",
      "I=I1/I2\n",
      "i=math.sqrt(I)\n",
      "Imax=((i+1)/(i-1))**2\n",
      "\n",
      "#Result\n",
      "print\"Ratio of maximum intensity of the fringe system is\",Imax,\":1\""
     ],
     "language": "python",
     "metadata": {},
     "outputs": [
      {
       "output_type": "stream",
       "stream": "stdout",
       "text": [
        "Ratio of maximum intensity of the fringe system is 25.0 :1\n"
       ]
      }
     ],
     "prompt_number": 7
    },
    {
     "cell_type": "heading",
     "level": 2,
     "metadata": {},
     "source": [
      "Example 1.2 Page no 36"
     ]
    },
    {
     "cell_type": "code",
     "collapsed": false,
     "input": [
      "#Given\n",
      "a=4\n",
      "b=2\n",
      "\n",
      "#Calculation\n",
      "amax=a+b\n",
      "amin=a-b\n",
      "I=amax**2/amin**2\n",
      "\n",
      "#Result\n",
      "print\"Ratio of maximum to minimum intensity is\", I"
     ],
     "language": "python",
     "metadata": {},
     "outputs": [
      {
       "output_type": "stream",
       "stream": "stdout",
       "text": [
        "Ratio of maximum to minimum intensity is 9\n"
       ]
      }
     ],
     "prompt_number": 9
    },
    {
     "cell_type": "heading",
     "level": 2,
     "metadata": {},
     "source": [
      "Example 1.3 Page no 36"
     ]
    },
    {
     "cell_type": "code",
     "collapsed": false,
     "input": [
      "#Given\n",
      "I=0.6\n",
      "a=0.4\n",
      "I2=0.4\n",
      "a1=1.6\n",
      "\n",
      "#Calculation\n",
      "import math\n",
      "A=(I-a1-a)/(2.0*math.sqrt(a1*a))\n",
      "A1=math.acos(A)*180.0/3.14\n",
      "\n",
      "#Result\n",
      "print\"Minimum phase difference is\", round(A1,0),\"Degree\""
     ],
     "language": "python",
     "metadata": {},
     "outputs": [
      {
       "output_type": "stream",
       "stream": "stdout",
       "text": [
        "Minimum phase difference is 151.0 Degree\n"
       ]
      }
     ],
     "prompt_number": 24
    },
    {
     "cell_type": "heading",
     "level": 2,
     "metadata": {},
     "source": [
      "Example 1.4 Page no 36"
     ]
    },
    {
     "cell_type": "code",
     "collapsed": false,
     "input": [
      "#Given\n",
      "d=0.5*10**-3                         #m\n",
      "lembda=5890*10**-10                   #m\n",
      "D=0.5                                 #m\n",
      "\n",
      "#Calculation\n",
      "B=D*lembda/d\n",
      "\n",
      "#Result\n",
      "print\"Width of fringes is\", B*10**3,\"10**-3 m\""
     ],
     "language": "python",
     "metadata": {},
     "outputs": [
      {
       "output_type": "stream",
       "stream": "stdout",
       "text": [
        "Width of fringes is 0.589 10**-3 m\n"
       ]
      }
     ],
     "prompt_number": 28
    },
    {
     "cell_type": "heading",
     "level": 2,
     "metadata": {},
     "source": [
      "Example 1.5 Page no 36"
     ]
    },
    {
     "cell_type": "code",
     "collapsed": false,
     "input": [
      "#Given\n",
      "lembda=5100*10**-10                          #m\n",
      "D=2\n",
      "x=0.02\n",
      "n=10.0\n",
      "\n",
      "#Calculation\n",
      "B=x/n\n",
      "d=D*lembda/B\n",
      "\n",
      "#Result\n",
      "print\"Double slit seperation is\", d*10**5,\"*10**-5 m\""
     ],
     "language": "python",
     "metadata": {},
     "outputs": [
      {
       "output_type": "stream",
       "stream": "stdout",
       "text": [
        "Double slit seperation is 51.0 *10**-5 m\n"
       ]
      }
     ],
     "prompt_number": 34
    },
    {
     "cell_type": "heading",
     "level": 2,
     "metadata": {},
     "source": [
      "Example 1.6 Page no 36"
     ]
    },
    {
     "cell_type": "code",
     "collapsed": false,
     "input": [
      "#Given\n",
      "B=0.31*10**-3                       #m\n",
      "d=1.9*10**-3\n",
      "D=1\n",
      "\n",
      "#Calculation\n",
      "lembda=B*d/D\n",
      "\n",
      "#Result\n",
      "print\"Wavelength of light is\",lembda*10**10,\"A\""
     ],
     "language": "python",
     "metadata": {},
     "outputs": [
      {
       "output_type": "stream",
       "stream": "stdout",
       "text": [
        "Wavelength of light is 5890.0 A\n"
       ]
      }
     ],
     "prompt_number": 38
    },
    {
     "cell_type": "heading",
     "level": 2,
     "metadata": {},
     "source": [
      "Example 1.7 Page no 37"
     ]
    },
    {
     "cell_type": "code",
     "collapsed": false,
     "input": [
      "#Given\n",
      "n=10\n",
      "D=0.04                               #m\n",
      "lembda=5890*10**-10\n",
      "d=2*10**-3                          #m\n",
      "\n",
      "#Calculation\n",
      "x10=n*D*lembda/d\n",
      "\n",
      "#Result\n",
      "print\"Position of tenth bright fringe is\",x10*10**4,\"*10**-4 m\""
     ],
     "language": "python",
     "metadata": {},
     "outputs": [
      {
       "output_type": "stream",
       "stream": "stdout",
       "text": [
        "Position of tenth bright fringe is 1.178 *10**-4 m\n"
       ]
      }
     ],
     "prompt_number": 41
    },
    {
     "cell_type": "heading",
     "level": 2,
     "metadata": {},
     "source": [
      "Example 1.8 Page no 37"
     ]
    },
    {
     "cell_type": "code",
     "collapsed": false,
     "input": [
      "#Given\n",
      "L=5890*10**-10                  #m\n",
      "a=0.05\n",
      "b=0.75\n",
      "B=9.424*10**-4\n",
      "\n",
      "#Calculation\n",
      "D=a+b\n",
      "B1=L*D/B\n",
      "\n",
      "#Result\n",
      "print\"Distance is\", B1*10**4,\"*10**-4 m\""
     ],
     "language": "python",
     "metadata": {},
     "outputs": [
      {
       "output_type": "stream",
       "stream": "stdout",
       "text": [
        "Distance is 5.0 *10**-4 m\n"
       ]
      }
     ],
     "prompt_number": 46
    },
    {
     "cell_type": "heading",
     "level": 2,
     "metadata": {},
     "source": [
      "Example 1.9 Page no 37"
     ]
    },
    {
     "cell_type": "code",
     "collapsed": false,
     "input": [
      "#Given\n",
      "a=0.10\n",
      "b=1\n",
      "l=5900*10**-10\n",
      "A=22\n",
      "u=1.5\n",
      "\n",
      "#Calculation\n",
      "D=a+b\n",
      "B=L*D*180*7/(2*a*(u-1)*A)\n",
      "\n",
      "#Result\n",
      "print\"Fringe width is\", round(B*10**5,0),\"*10**-5 m\""
     ],
     "language": "python",
     "metadata": {},
     "outputs": [
      {
       "output_type": "stream",
       "stream": "stdout",
       "text": [
        "Frige width is 37.0 *10**-5 m\n"
       ]
      }
     ],
     "prompt_number": 51
    },
    {
     "cell_type": "heading",
     "level": 2,
     "metadata": {},
     "source": [
      "Example 1.10 Page no 37"
     ]
    },
    {
     "cell_type": "code",
     "collapsed": false,
     "input": [
      "#Given\n",
      "u=1.45\n",
      "l=5890*10**-10                    #m\n",
      "\n",
      "#Calculation\n",
      "t=5*l/(u-1)\n",
      "\n",
      "#Result\n",
      "print\"Thickness is\", round(t*10**6,3)*10**-6,\"m\""
     ],
     "language": "python",
     "metadata": {},
     "outputs": [
      {
       "output_type": "stream",
       "stream": "stdout",
       "text": [
        "Thickness is 6.544e-06 m\n"
       ]
      }
     ],
     "prompt_number": 57
    },
    {
     "cell_type": "heading",
     "level": 2,
     "metadata": {},
     "source": [
      "Example 1.11 Page no 38"
     ]
    },
    {
     "cell_type": "code",
     "collapsed": false,
     "input": [
      "#Given\n",
      "a=0.25                          #m\n",
      "b=1.75\n",
      "L=5*10**-7\n",
      "u=1.50\n",
      "B=0.2*10**-3\n",
      "\n",
      "#Calculation\n",
      "D=a+b\n",
      "d=L*D/B\n",
      "A=(L*D)/(B*2*a*(u-1))\n",
      "\n",
      "#Result\n",
      "print\"Angle at the vertex is\", A,\"Radian\"\n"
     ],
     "language": "python",
     "metadata": {},
     "outputs": [
      {
       "output_type": "stream",
       "stream": "stdout",
       "text": [
        "Angle at the vertex is 0.02 Radian\n"
       ]
      }
     ],
     "prompt_number": 11
    },
    {
     "cell_type": "heading",
     "level": 2,
     "metadata": {},
     "source": [
      "Example 1.12 Page no 38"
     ]
    },
    {
     "cell_type": "code",
     "collapsed": false,
     "input": [
      "#Given\n",
      "B=0.0135                   #cm\n",
      "a=50\n",
      "b=50.0\n",
      "u=1.5\n",
      "A=179                       #Degree\n",
      "\n",
      "#Calculation\n",
      "import math\n",
      "D=a+b\n",
      "L=(2*a*(u-1)*B*math.pi)/(D*360)\n",
      "\n",
      "#Result\n",
      "print\"Wavelength of light is\", round(L*10**8,0),\"A\""
     ],
     "language": "python",
     "metadata": {},
     "outputs": [
      {
       "output_type": "stream",
       "stream": "stdout",
       "text": [
        "Wavelength of light is 5890.0 A\n"
       ]
      }
     ],
     "prompt_number": 20
    },
    {
     "cell_type": "heading",
     "level": 2,
     "metadata": {},
     "source": [
      "Example 1.13 Page no 38"
     ]
    },
    {
     "cell_type": "code",
     "collapsed": false,
     "input": [
      "#Given\n",
      "d1=0.75\n",
      "d=1\n",
      "b=0.087\n",
      "\n",
      "#Calculation\n",
      "B=d/d1\n",
      "B1=B*b\n",
      "\n",
      "#Result\n",
      "print\"Fringe width is\", B1,\"mm\""
     ],
     "language": "python",
     "metadata": {},
     "outputs": [
      {
       "output_type": "stream",
       "stream": "stdout",
       "text": [
        "Fringe width is 0.116 mm\n"
       ]
      }
     ],
     "prompt_number": 29
    },
    {
     "cell_type": "heading",
     "level": 2,
     "metadata": {},
     "source": [
      "Example 1.14 Page no 39"
     ]
    },
    {
     "cell_type": "code",
     "collapsed": false,
     "input": [
      "#Given\n",
      "u=1.50\n",
      "a=0.10                             #m\n",
      "\n",
      "#Calculation\n",
      "import math\n",
      "d=(2*(u-1)*a*math.pi)/90.0\n",
      "\n",
      "#Result\n",
      "print\"Separation between coherent sources is\",round(d*10**2,2),\"*10**-2 m\""
     ],
     "language": "python",
     "metadata": {},
     "outputs": [
      {
       "output_type": "stream",
       "stream": "stdout",
       "text": [
        "Separation between coherent sources is 0.35 *10**-2 m\n"
       ]
      }
     ],
     "prompt_number": 37
    },
    {
     "cell_type": "heading",
     "level": 2,
     "metadata": {},
     "source": [
      "Example 1.15 Page no 39"
     ]
    },
    {
     "cell_type": "code",
     "collapsed": false,
     "input": [
      "#Given\n",
      "t=6.3*10**-6                    #m\n",
      "L=5460*10**-10\n",
      "n=6\n",
      "\n",
      "#Calculattion\n",
      "u=((n*L)/t)+1\n",
      "\n",
      "#Result\n",
      "print\"Refractive index is\",u"
     ],
     "language": "python",
     "metadata": {},
     "outputs": [
      {
       "output_type": "stream",
       "stream": "stdout",
       "text": [
        "Refractive index is 1.52\n"
       ]
      }
     ],
     "prompt_number": 38
    },
    {
     "cell_type": "heading",
     "level": 2,
     "metadata": {},
     "source": [
      "Example 1.16 Page no 39"
     ]
    },
    {
     "cell_type": "code",
     "collapsed": false,
     "input": [
      "#Given\n",
      "t=3.4*10**-6                         #m\n",
      "L=5893*10**-10\n",
      "\n",
      "#Calculation\n",
      "u=1+((4*L)/t)\n",
      "\n",
      "#Result\n",
      "print\"Refractive index is\",round(u,2)"
     ],
     "language": "python",
     "metadata": {},
     "outputs": [
      {
       "output_type": "stream",
       "stream": "stdout",
       "text": [
        "Refractive index is 1.69\n"
       ]
      }
     ],
     "prompt_number": 40
    },
    {
     "cell_type": "heading",
     "level": 2,
     "metadata": {},
     "source": [
      "Example 1.17 Page no 39"
     ]
    },
    {
     "cell_type": "code",
     "collapsed": false,
     "input": [
      "#Given\n",
      "L=6000*10**-10\n",
      "t=3.6*10**-5\n",
      "n=30\n",
      "\n",
      "#Calculation\n",
      "u=1+((n*L)/t)\n",
      "\n",
      "#Result\n",
      "print\"Refractive index of the sheet is\",u"
     ],
     "language": "python",
     "metadata": {},
     "outputs": [
      {
       "output_type": "stream",
       "stream": "stdout",
       "text": [
        "Refractive index of the sheet is 1.5\n"
       ]
      }
     ],
     "prompt_number": 41
    },
    {
     "cell_type": "heading",
     "level": 2,
     "metadata": {},
     "source": [
      "Example 1.18 Page no 40"
     ]
    },
    {
     "cell_type": "code",
     "collapsed": false,
     "input": [
      "#Given\n",
      "n=2\n",
      "D=1.2\n",
      "d=3*10**-5\n",
      "x2=45*10**-3\n",
      "\n",
      "#Calculation\n",
      "L=x2*d/(D*n)\n",
      "\n",
      "#Result\n",
      "print\"lembda is\",L*10**10,\"A\""
     ],
     "language": "python",
     "metadata": {},
     "outputs": [
      {
       "output_type": "stream",
       "stream": "stdout",
       "text": [
        "lembda is 5625.0 A\n"
       ]
      }
     ],
     "prompt_number": 44
    },
    {
     "cell_type": "heading",
     "level": 2,
     "metadata": {},
     "source": [
      "Eaxmple 1.19 Page no 40"
     ]
    },
    {
     "cell_type": "code",
     "collapsed": false,
     "input": [
      "#Given\n",
      "L1=6.1*10**-5\n",
      "L2=6.0*10**-5\n",
      "u=4/3.0\n",
      "I=4/5.0\n",
      "\n",
      "#Calculation\n",
      "import math\n",
      "t=L1*L2/((L1-L2)*2*math.sqrt(u**2-I**2))\n",
      "\n",
      "#Result\n",
      "print\"Thickness is\",round(t,4),\"cm\""
     ],
     "language": "python",
     "metadata": {},
     "outputs": [
      {
       "output_type": "stream",
       "stream": "stdout",
       "text": [
        "Thickness is 0.0017 cm\n"
       ]
      }
     ],
     "prompt_number": 47
    },
    {
     "cell_type": "heading",
     "level": 2,
     "metadata": {},
     "source": [
      "Example 1.20 Page no 41"
     ]
    },
    {
     "cell_type": "code",
     "collapsed": false,
     "input": [
      "#Given\n",
      "u=1.5\n",
      "L=5890*10**-10\n",
      "n=1\n",
      "r=60                    #degree\n",
      "a=0.5\n",
      "\n",
      "#Calculation\n",
      "t=n*L/(2*u*a)\n",
      "\n",
      "#Result\n",
      "print\"Smallest thickness of the plate is\", round(t*10**10,0),\"*10**-10 m\"\n"
     ],
     "language": "python",
     "metadata": {},
     "outputs": [
      {
       "output_type": "stream",
       "stream": "stdout",
       "text": [
        "Smallest thickness of the plate is 3927.0 *10**-10 m\n"
       ]
      }
     ],
     "prompt_number": 52
    },
    {
     "cell_type": "heading",
     "level": 2,
     "metadata": {},
     "source": [
      "Example 1.21 Page no 41"
     ]
    },
    {
     "cell_type": "code",
     "collapsed": false,
     "input": [
      "#Given\n",
      "L=5890*10**-10\n",
      "n=8\n",
      "a=1/2.0\n",
      "b=1.5\n",
      "\n",
      "#Calculation\n",
      "r=math.sqrt(1-(a/b)**2)\n",
      "t=n*L/(2*b*r)\n",
      "\n",
      "#Result\n",
      "print\"Film thickness is\", round(t*10**6,3)*10**-6,\"m\""
     ],
     "language": "python",
     "metadata": {},
     "outputs": [
      {
       "output_type": "stream",
       "stream": "stdout",
       "text": [
        "Film thickness is 1.666e-06 m\n"
       ]
      }
     ],
     "prompt_number": 59
    },
    {
     "cell_type": "heading",
     "level": 2,
     "metadata": {},
     "source": [
      "Example 1.22 Page no 41"
     ]
    },
    {
     "cell_type": "code",
     "collapsed": false,
     "input": [
      "#Given\n",
      "L=5*10**-7                        #m\n",
      "t=1.5*10**-6\n",
      "u=4/3.0\n",
      "A=0.7604\n",
      "\n",
      "#Calculation\n",
      "import math\n",
      "r=(math.sin(60*3.14/180.0))/u\n",
      "n=2*u*t*A/L\n",
      "\n",
      "print\"Order of dark band is\", round(n,0)"
     ],
     "language": "python",
     "metadata": {},
     "outputs": [
      {
       "output_type": "stream",
       "stream": "stdout",
       "text": [
        "Order of dark band is 6.0\n"
       ]
      }
     ],
     "prompt_number": 73
    },
    {
     "cell_type": "heading",
     "level": 2,
     "metadata": {},
     "source": [
      "Example 1.23 Page no 42"
     ]
    },
    {
     "cell_type": "code",
     "collapsed": false,
     "input": [
      "#Given\n",
      "x=0.15\n",
      "L=6000*10**-10\n",
      "A=0.05*10**-3\n",
      "\n",
      "#Calculation\n",
      "B=L*x/(2*A)\n",
      "\n",
      "#Result\n",
      "print\"Fringe width is\",B*10**4,\"*10**-4 m\""
     ],
     "language": "python",
     "metadata": {},
     "outputs": [
      {
       "output_type": "stream",
       "stream": "stdout",
       "text": [
        "Fringe width is 9.0 *10**-4 m\n"
       ]
      }
     ],
     "prompt_number": 76
    },
    {
     "cell_type": "heading",
     "level": 2,
     "metadata": {},
     "source": [
      "Example 1.24 Page no 42"
     ]
    },
    {
     "cell_type": "code",
     "collapsed": false,
     "input": [
      "#Given\n",
      "B=0.5*10**-2\n",
      "u=1.40\n",
      "a=10\n",
      "b=22\n",
      "\n",
      "#Calculation\n",
      "L=2*a*b*u*B/(60*60*180*7)\n",
      "\n",
      "#Result\n",
      "print\"Wavelength of light is\", round(L*10**10,0),\"*10**-10 m\""
     ],
     "language": "python",
     "metadata": {},
     "outputs": [
      {
       "output_type": "stream",
       "stream": "stdout",
       "text": [
        "Wavelength of light is 6790.0 *10**-10 m\n"
       ]
      }
     ],
     "prompt_number": 83
    },
    {
     "cell_type": "heading",
     "level": 2,
     "metadata": {},
     "source": [
      "Example 1.25 Page no 43"
     ]
    },
    {
     "cell_type": "code",
     "collapsed": false,
     "input": [
      "#Given\n",
      "x=10**-2\n",
      "m=10\n",
      "L=6000*10**-10\n",
      "\n",
      "#Calculation\n",
      "import math\n",
      "A=m*L/(2*x)\n",
      "A1=A*180*60*60/(math.pi)\n",
      "\n",
      "#Result\n",
      "print\"Angle of wedge is\", round(A1,1),\"Seconds\""
     ],
     "language": "python",
     "metadata": {},
     "outputs": [
      {
       "output_type": "stream",
       "stream": "stdout",
       "text": [
        "Angle of wedge is 61.9 Seconds\n"
       ]
      }
     ],
     "prompt_number": 88
    },
    {
     "cell_type": "heading",
     "level": 2,
     "metadata": {},
     "source": [
      "Example 1.26 Page no 43"
     ]
    },
    {
     "cell_type": "code",
     "collapsed": false,
     "input": [
      "#Given\n",
      "u=1.4\n",
      "t=0.001\n",
      "L1=4000.0*10**-8\n",
      "L2=5000.0*10**-8\n",
      "\n",
      "#Calculation\n",
      "import math\n",
      "r=math.sqrt(1-1/(2*u**2))\n",
      "n1=2*u*t*r/L1\n",
      "n2=2*u*t*r/L2\n",
      "n=n1-n2\n",
      "\n",
      "#Result\n",
      "print\"Number of dark bands is\", round(n,0)"
     ],
     "language": "python",
     "metadata": {},
     "outputs": [
      {
       "output_type": "stream",
       "stream": "stdout",
       "text": [
        "Number of dark bands is 12.0\n"
       ]
      }
     ],
     "prompt_number": 96
    },
    {
     "cell_type": "heading",
     "level": 2,
     "metadata": {},
     "source": [
      "Example 1.27 Page no 44"
     ]
    },
    {
     "cell_type": "code",
     "collapsed": false,
     "input": [
      "#Given\n",
      "L=5890*10**-10\n",
      "d=10**-2\n",
      "u=1\n",
      "n=3\n",
      "\n",
      "#Calculation\n",
      "import math\n",
      "R=d**2*math.cos(30*3.14/180.0)\n",
      "R1=R/(4*n*L)\n",
      "\n",
      "#Result\n",
      "print\"Radius of the lens is\", round(R1,2),\"m\""
     ],
     "language": "python",
     "metadata": {},
     "outputs": [
      {
       "output_type": "stream",
       "stream": "stdout",
       "text": [
        "Radius of the lens is 12.25 m\n"
       ]
      }
     ],
     "prompt_number": 102
    },
    {
     "cell_type": "heading",
     "level": 2,
     "metadata": {},
     "source": [
      "Example 1.28 Page no 44"
     ]
    },
    {
     "cell_type": "code",
     "collapsed": false,
     "input": [
      "#Given\n",
      "n=8\n",
      "dn=0.72*10**-2\n",
      "R=3\n",
      "u=1\n",
      "\n",
      "#Calculation\n",
      "L=dn**2/((2*n-1)*2*R)\n",
      "\n",
      "#Result\n",
      "print\"Wavelength of light is\", L*10**10,\"*10**-10 m\""
     ],
     "language": "python",
     "metadata": {},
     "outputs": [
      {
       "output_type": "stream",
       "stream": "stdout",
       "text": [
        "Wavelength of light is 5760.0 *10**-10 m\n"
       ]
      }
     ],
     "prompt_number": 107
    },
    {
     "cell_type": "heading",
     "level": 2,
     "metadata": {},
     "source": [
      "Example 1.29 Page no 44"
     ]
    },
    {
     "cell_type": "code",
     "collapsed": false,
     "input": [
      "#Given\n",
      "n=5\n",
      "L=5400*10**-8\n",
      "R1=100.0\n",
      "R2=100.0\n",
      "n1=15\n",
      "\n",
      "#Calculation\n",
      "import math\n",
      "r=math.sqrt((n*L)/(1/R1+1/R2))\n",
      "r1=math.sqrt((n1*L)/(1/R1+1/R2))\n",
      "R=r1-r\n",
      "\n",
      "#Result\n",
      "print\"Distance between 5th and 15th dark ring is\", round(R,4),\"cm\""
     ],
     "language": "python",
     "metadata": {},
     "outputs": [
      {
       "output_type": "stream",
       "stream": "stdout",
       "text": [
        "Distance between 5th and 15th dark ring is 0.0851 cm\n"
       ]
      }
     ],
     "prompt_number": 119
    },
    {
     "cell_type": "heading",
     "level": 2,
     "metadata": {},
     "source": [
      "Example 1.30 Page no 45"
     ]
    },
    {
     "cell_type": "code",
     "collapsed": false,
     "input": [
      "#Given\n",
      "d=0.25                       #cm\n",
      "dair=0.30\n",
      "\n",
      "#Calculation\n",
      "u=(dair/d)**2\n",
      "\n",
      "#Result\n",
      "print\"Refractive index is\",u"
     ],
     "language": "python",
     "metadata": {},
     "outputs": [
      {
       "output_type": "stream",
       "stream": "stdout",
       "text": [
        "Refractive index is 1.44\n"
       ]
      }
     ],
     "prompt_number": 121
    },
    {
     "cell_type": "heading",
     "level": 2,
     "metadata": {},
     "source": [
      "Example 1.31 Page no 45"
     ]
    },
    {
     "cell_type": "code",
     "collapsed": false,
     "input": [
      "#Given\n",
      "R1=3.0                       #m\n",
      "R2=4.0\n",
      "n=13\n",
      "L=6*10**-7\n",
      "\n",
      "#Calculation\n",
      "import math\n",
      "r=math.sqrt((2*n-1)*L/((1/R1-1/R2)*2.0))\n",
      "D=2*r\n",
      "\n",
      "#Result\n",
      "print\" Diameter of the 13th bright ring is\",round(D,3),\"m\""
     ],
     "language": "python",
     "metadata": {},
     "outputs": [
      {
       "output_type": "stream",
       "stream": "stdout",
       "text": [
        " Diameter of the 13th bright ring is 0.019 m\n"
       ]
      }
     ],
     "prompt_number": 129
    },
    {
     "cell_type": "heading",
     "level": 2,
     "metadata": {},
     "source": [
      "Example 1.32 Page no 45"
     ]
    },
    {
     "cell_type": "code",
     "collapsed": false,
     "input": [
      "#Given\n",
      "u=1\n",
      "d1=0.25\n",
      "d2=0.30\n",
      "c=3*10**8\n",
      "\n",
      "#Calculation\n",
      "V=((d1/d2)**2)*c\n",
      "\n",
      "#Result\n",
      "print\"Velocity of light is\",round(V*10**-8,2),\"*10**8 m/s\""
     ],
     "language": "python",
     "metadata": {},
     "outputs": [
      {
       "output_type": "stream",
       "stream": "stdout",
       "text": [
        "Velocity of light is 2.08 *10**8 m/s\n"
       ]
      }
     ],
     "prompt_number": 135
    },
    {
     "cell_type": "heading",
     "level": 2,
     "metadata": {},
     "source": [
      "Example 1.33 Page no 46"
     ]
    },
    {
     "cell_type": "code",
     "collapsed": false,
     "input": [
      "#Given\n",
      "n=5\n",
      "a=25\n",
      "m=20\n",
      "R=100\n",
      "dn=0.3\n",
      "d=0.8\n",
      "\n",
      "#Calculation\n",
      "L=(d**2-dn**2)/(4*R*m)\n",
      "\n",
      "#Result\n",
      "print\"Wavelength is\", L*10**8,\"*10**-8 cm\""
     ],
     "language": "python",
     "metadata": {},
     "outputs": [
      {
       "output_type": "stream",
       "stream": "stdout",
       "text": [
        "Wavelength is 6875.0 *10**-8 cm\n"
       ]
      }
     ],
     "prompt_number": 140
    },
    {
     "cell_type": "heading",
     "level": 2,
     "metadata": {},
     "source": [
      "Example 1.34 Page no 46"
     ]
    },
    {
     "cell_type": "code",
     "collapsed": false,
     "input": [
      "#Given\n",
      "n=4\n",
      "a=12\n",
      "m=8.0\n",
      "d12=0.700\n",
      "dn=0.400\n",
      "n1=20\n",
      "\n",
      "#Calculation\n",
      "import math\n",
      "R=(d12**2-dn**2)/m\n",
      "d20=math.sqrt(n1*R)\n",
      "\n",
      "#Result\n",
      "print\"Diameter of 20th dark ring is\", round(d20,3),\"cm\""
     ],
     "language": "python",
     "metadata": {},
     "outputs": [
      {
       "output_type": "stream",
       "stream": "stdout",
       "text": [
        "Diameter of 20th dark ring is 0.908 cm\n"
       ]
      }
     ],
     "prompt_number": 145
    },
    {
     "cell_type": "heading",
     "level": 2,
     "metadata": {},
     "source": [
      "Example 1.35 Page no 46"
     ]
    },
    {
     "cell_type": "code",
     "collapsed": false,
     "input": [
      "#Given\n",
      "n=3\n",
      "a=23\n",
      "m=20\n",
      "R=50\n",
      "d=0.501\n",
      "dn=0.181\n",
      "\n",
      "#Calculation\n",
      "L=(d**2-dn**2)/(4*m*R)\n",
      "\n",
      "#Result\n",
      "print\"Wavelength is\", L*10**8,\"*10**-8 cm\""
     ],
     "language": "python",
     "metadata": {},
     "outputs": [
      {
       "output_type": "stream",
       "stream": "stdout",
       "text": [
        "Wavelength is 5456.0 *10**-8 cm\n"
       ]
      }
     ],
     "prompt_number": 149
    },
    {
     "cell_type": "heading",
     "level": 2,
     "metadata": {},
     "source": [
      "Example 1.36 Page no 47"
     ]
    },
    {
     "cell_type": "code",
     "collapsed": false,
     "input": [
      "#Given\n",
      "d=0.295*10**-3\n",
      "n=100.0\n",
      "\n",
      "#Calculation\n",
      "L=(2*d)/n\n",
      "\n",
      "#Result\n",
      "print\"Wavelength of light is\", L*10**9,\"*10**-9 m\""
     ],
     "language": "python",
     "metadata": {},
     "outputs": [
      {
       "output_type": "stream",
       "stream": "stdout",
       "text": [
        "Wavelength of light is 5900.0 *10**-9 m\n"
       ]
      }
     ],
     "prompt_number": 154
    },
    {
     "cell_type": "heading",
     "level": 2,
     "metadata": {},
     "source": [
      "Example 1.37 Page no 47"
     ]
    },
    {
     "cell_type": "code",
     "collapsed": false,
     "input": [
      "#Given\n",
      "L=5000.0*10**-10\n",
      "d=0.1*10**-3\n",
      "\n",
      "#Calculation\n",
      "n=2*d/L\n",
      "\n",
      "#Result\n",
      "print\"Number of fringes is\",n"
     ],
     "language": "python",
     "metadata": {},
     "outputs": [
      {
       "output_type": "stream",
       "stream": "stdout",
       "text": [
        "Number of fringes is 400.0\n"
       ]
      }
     ],
     "prompt_number": 155
    },
    {
     "cell_type": "heading",
     "level": 2,
     "metadata": {},
     "source": [
      "Example 1.38 Page no 47"
     ]
    },
    {
     "cell_type": "code",
     "collapsed": false,
     "input": [
      "#Given\n",
      "L=5890*10**-10\n",
      "d=0.289*10**-3\n",
      "\n",
      "#Calculation\n",
      "L1=L**2/(2*d)\n",
      "\n",
      "#Result\n",
      "print\"Difference in wavelength is\",  round(L1*10**10,0)*10**-10,\"m\""
     ],
     "language": "python",
     "metadata": {},
     "outputs": [
      {
       "output_type": "stream",
       "stream": "stdout",
       "text": [
        "Difference in wavelength is 6e-10 m\n"
       ]
      }
     ],
     "prompt_number": 161
    },
    {
     "cell_type": "heading",
     "level": 2,
     "metadata": {},
     "source": [
      "Example 1.39 Page no 47"
     ]
    },
    {
     "cell_type": "code",
     "collapsed": false,
     "input": [
      "#Given\n",
      "u=1.50\n",
      "L=5890*10**-10\n",
      "m=10\n",
      "\n",
      "#Calculation\n",
      "t=m*L/(2*(u-1))\n",
      "\n",
      "#Result\n",
      "print\"Thickness of the film is\",t*10**8,\"*10**-8 m\""
     ],
     "language": "python",
     "metadata": {},
     "outputs": [
      {
       "output_type": "stream",
       "stream": "stdout",
       "text": [
        "Thickness of the film is 589.0 *10**-8 m\n"
       ]
      }
     ],
     "prompt_number": 166
    },
    {
     "cell_type": "heading",
     "level": 2,
     "metadata": {},
     "source": [
      "Example 1.40 Page no 48"
     ]
    },
    {
     "cell_type": "code",
     "collapsed": false,
     "input": [
      "#Given\n",
      "n=150\n",
      "L=4000*10**-10\n",
      "l=0.20\n",
      "\n",
      "#Calculation\n",
      "u=1+(n*L/(2*l))\n",
      "\n",
      "#Result\n",
      "print\"Refractive index is\",u"
     ],
     "language": "python",
     "metadata": {},
     "outputs": [
      {
       "output_type": "stream",
       "stream": "stdout",
       "text": [
        "Refractive index is 1.00015\n"
       ]
      }
     ],
     "prompt_number": 167
    },
    {
     "cell_type": "heading",
     "level": 2,
     "metadata": {},
     "source": [
      "Example 1.41 Page no 48"
     ]
    },
    {
     "cell_type": "code",
     "collapsed": false,
     "input": [
      "#Given\n",
      "u=1.45\n",
      "n=6.5\n",
      "L=5890*10**-10\n",
      "\n",
      "#Calculation\n",
      "t=n*L/(2*(u-1))\n",
      "\n",
      "#Result\n",
      "print\"Thickness is\", round(t*10**6,3),\"*10**-6 m\""
     ],
     "language": "python",
     "metadata": {},
     "outputs": [
      {
       "output_type": "stream",
       "stream": "stdout",
       "text": [
        "Thickness is 4.254 *10**-6 m\n"
       ]
      }
     ],
     "prompt_number": 172
    },
    {
     "cell_type": "heading",
     "level": 2,
     "metadata": {},
     "source": [
      "Example 1.42 Page no 48"
     ]
    },
    {
     "cell_type": "code",
     "collapsed": false,
     "input": [
      "#Given\n",
      "L1=5896*10**-8\n",
      "L2=5890*10**-8\n",
      "\n",
      "#Calculation\n",
      "d=L1*L2/(2*(L1-L2))\n",
      "\n",
      "#Result\n",
      "print\"Distance is\",round(d,5),\"cm\""
     ],
     "language": "python",
     "metadata": {},
     "outputs": [
      {
       "output_type": "stream",
       "stream": "stdout",
       "text": [
        "Distance is 0.02894 cm\n"
       ]
      }
     ],
     "prompt_number": 176
    }
   ],
   "metadata": {}
  }
 ]
}