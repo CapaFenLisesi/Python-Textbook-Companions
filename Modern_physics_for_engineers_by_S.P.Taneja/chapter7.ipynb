{
 "metadata": {
  "name": "",
  "signature": "sha256:bf713428376b6af39f07d5dc1c02aba4029400f6d14863b8b2704c0654b7ab69"
 },
 "nbformat": 3,
 "nbformat_minor": 0,
 "worksheets": [
  {
   "cells": [
    {
     "cell_type": "heading",
     "level": 1,
     "metadata": {},
     "source": [
      "Chapter 7 Electromagnetic theory"
     ]
    },
    {
     "cell_type": "heading",
     "level": 2,
     "metadata": {},
     "source": [
      "Example 7.4 Page no 283"
     ]
    },
    {
     "cell_type": "code",
     "collapsed": false,
     "input": [
      "#Given\n",
      "u =4*10**-7*3.14                           #permeability ( free space ) in H/m\n",
      "e =8.85*10**-12\n",
      "H =1\n",
      "\n",
      "#Calculation\n",
      "import math\n",
      "E=H* math.sqrt (u/e)\n",
      "\n",
      "#Result\n",
      "print\"Magnitude of energy of plane wave is\",round(E,2),\"V/m\""
     ],
     "language": "python",
     "metadata": {},
     "outputs": [
      {
       "output_type": "stream",
       "stream": "stdout",
       "text": [
        "Magnitude of energy of plane wave is 376.72 V/m\n"
       ]
      }
     ],
     "prompt_number": 3
    },
    {
     "cell_type": "heading",
     "level": 2,
     "metadata": {},
     "source": [
      "Example 7.5 Page no 283"
     ]
    },
    {
     "cell_type": "code",
     "collapsed": false,
     "input": [
      "#Given\n",
      "ur =1                     #relative permeability\n",
      "er =2\n",
      "uo =(4*10**-7*3.14 )\n",
      "eo =8.85*10**-12\n",
      "Eo =5\n",
      "\n",
      "#Calculation\n",
      "import math\n",
      "u=ur*uo\n",
      "e=er*eo\n",
      "Z= math.sqrt (u/e)\n",
      "Ho=Eo/Z\n",
      "v =1/(math.sqrt (u*e))\n",
      "\n",
      "#Result\n",
      "print\"(i) Impedence of medium is\",round(Z,2),\"ohm\"\n",
      "print\"(ii) Intensity of magnetic field is\",round(Ho*10**2,3),\"*10**-2 A/m\"\n",
      "print\"(iii) Velocity of magnetic field is\",round(v*10**-8,2),\"m/s\""
     ],
     "language": "python",
     "metadata": {},
     "outputs": [
      {
       "output_type": "stream",
       "stream": "stdout",
       "text": [
        "(i) Impedence of medium is 266.38 ohm\n",
        "(ii) Intensity of magnetic field is 1.877 *10**-2 A/m\n",
        "(iii) Velocity of magnetic field is 2.12 m/s\n"
       ]
      }
     ],
     "prompt_number": 4
    },
    {
     "cell_type": "heading",
     "level": 2,
     "metadata": {},
     "source": [
      "Example 7.6 Page no 284"
     ]
    },
    {
     "cell_type": "code",
     "collapsed": false,
     "input": [
      "#Given\n",
      "f=3.0*10**11                          #frequency of wave in Hz\n",
      "c=3.0*10**8\n",
      "Eo =50\n",
      "\n",
      "#Calculation\n",
      "w=c/f\n",
      "Bo=Eo/c\n",
      "\n",
      "#Result\n",
      "print\"(i) Wavelength of wave is\",w,\"m\"\n",
      "print\"(ii) Approx amplitude of oscillating magnetic field is\",round(Bo*10**7,2)*10**-7,\"T\""
     ],
     "language": "python",
     "metadata": {},
     "outputs": [
      {
       "output_type": "stream",
       "stream": "stdout",
       "text": [
        "(i) Wavelength of wave is 0.001 m\n",
        "(ii) Approx amplitude of oscillating magnetic field is 1.67e-07 T\n"
       ]
      }
     ],
     "prompt_number": 5
    },
    {
     "cell_type": "heading",
     "level": 2,
     "metadata": {},
     "source": [
      "Example 7.7 Page no 284"
     ]
    },
    {
     "cell_type": "code",
     "collapsed": false,
     "input": [
      "#Given\n",
      "r =1.5*10**11                          #distance from sun to earth\n",
      "P =3.8*10**26                          #power radiated by sun\n",
      "\n",
      "#Calculation\n",
      "import math\n",
      "N=(P /(4*math.pi*(r**2) ))*60/4.2*10**4\n",
      "N1= ceil (N)\n",
      "\n",
      "#Result\n",
      "print\"Average solar energy is\",round(N1*10**-8,0),\"cal/cm2.min\""
     ],
     "language": "python",
     "metadata": {},
     "outputs": [
      {
       "output_type": "stream",
       "stream": "stdout",
       "text": [
        "Average solar energy is 2.0 cal/cm2.min\n"
       ]
      }
     ],
     "prompt_number": 15
    },
    {
     "cell_type": "heading",
     "level": 2,
     "metadata": {},
     "source": [
      "Example 7.8 Page no 284"
     ]
    },
    {
     "cell_type": "code",
     "collapsed": false,
     "input": [
      "#Given\n",
      "p=3.8*10**26                #watts\n",
      "r=7*10**8                   #m\n",
      "\n",
      "#Calculation\n",
      "import math\n",
      "N=p/(4*math.pi*((r)**2))\n",
      "\n",
      "#Result\n",
      "print\"The magnitude of poynting vactor at the surface of the sun is\",round(N*10**-7,3),\"10**7\",\"watt/m**2\""
     ],
     "language": "python",
     "metadata": {},
     "outputs": [
      {
       "output_type": "stream",
       "stream": "stdout",
       "text": [
        "The magnitude of poynting vactor at the surface of the sun is 6.171 10**7 watt/m**2\n"
       ]
      }
     ],
     "prompt_number": 30
    },
    {
     "cell_type": "heading",
     "level": 2,
     "metadata": {},
     "source": [
      "Example 7.9 Page no 285"
     ]
    },
    {
     "cell_type": "code",
     "collapsed": false,
     "input": [
      "#Given\n",
      "a=2\n",
      "b=4.18*10**4\n",
      "c=60.0\n",
      "d=376.72\n",
      "\n",
      "#Calculation\n",
      "import math \n",
      "E=a*b/c\n",
      "E1=math.sqrt(E*d)\n",
      "E2=E1/d\n",
      "H=E1*math.sqrt(2)\n",
      "H1=E2*math.sqrt(2)\n",
      "\n",
      "#Result \n",
      "print\"The amplitudes of electrons is\",round(H,0),\"V/m\"\n",
      "print\"The amplitudes of magnetic field is\",round(H1,3),\"Amp/m\""
     ],
     "language": "python",
     "metadata": {},
     "outputs": [
      {
       "output_type": "stream",
       "stream": "stdout",
       "text": [
        "The amplitudes of electrons is 1025.0 V/m\n",
        "The amplitudes of magnetic field is 2.72 Amp/m\n"
       ]
      }
     ],
     "prompt_number": 68
    },
    {
     "cell_type": "heading",
     "level": 2,
     "metadata": {},
     "source": [
      "Example 7.10 Page no 285"
     ]
    },
    {
     "cell_type": "code",
     "collapsed": false,
     "input": [
      "#Given\n",
      "v =0.62                             #velocity factor of coaxial\n",
      "\n",
      "#Calculation\n",
      "Er =1/v**2\n",
      "\n",
      "#Result\n",
      "print\"Dielecric constant of instulator is\",round(Er,2)"
     ],
     "language": "python",
     "metadata": {},
     "outputs": [
      {
       "output_type": "stream",
       "stream": "stdout",
       "text": [
        "Dielecric constant of instulator is 2.6\n"
       ]
      }
     ],
     "prompt_number": 17
    }
   ],
   "metadata": {}
  }
 ]
}