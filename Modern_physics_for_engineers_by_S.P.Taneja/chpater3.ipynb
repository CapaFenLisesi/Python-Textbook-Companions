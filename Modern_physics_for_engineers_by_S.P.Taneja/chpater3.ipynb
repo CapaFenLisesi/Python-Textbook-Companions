{
 "metadata": {
  "name": "",
  "signature": "sha256:fe61a4917a4e7c9ed97f1b980c09da72254242a6ca941fad2a3f75243a636dcb"
 },
 "nbformat": 3,
 "nbformat_minor": 0,
 "worksheets": [
  {
   "cells": [
    {
     "cell_type": "heading",
     "level": 1,
     "metadata": {},
     "source": [
      "Chapter 3 Polarization of light"
     ]
    },
    {
     "cell_type": "heading",
     "level": 2,
     "metadata": {},
     "source": [
      "Example 3.1 Page no 130"
     ]
    },
    {
     "cell_type": "code",
     "collapsed": false,
     "input": [
      "#Given\n",
      "u =1.54                                     #refrective index of glass\n",
      "\n",
      "#Calculation\n",
      "import math\n",
      "i= math.atan(u)*180/3.14\n",
      "r=90-i\n",
      "\n",
      "#Result\n",
      "print\"Angle of refraction is\",round(r,1),\"degree\""
     ],
     "language": "python",
     "metadata": {},
     "outputs": [
      {
       "output_type": "stream",
       "stream": "stdout",
       "text": [
        "Angle of refraction is 33.0 degree\n"
       ]
      }
     ],
     "prompt_number": 10
    },
    {
     "cell_type": "heading",
     "level": 2,
     "metadata": {},
     "source": [
      "Example 3.2 Page no 130"
     ]
    },
    {
     "cell_type": "code",
     "collapsed": false,
     "input": [
      "#Given\n",
      "i= 60\n",
      "\n",
      "#Calculation\n",
      "import math\n",
      "u= math.tan(i*3.14/180.0)\n",
      "\n",
      "#Result\n",
      "print\"Refractive index of glass is\",round(u,3)\n"
     ],
     "language": "python",
     "metadata": {},
     "outputs": [
      {
       "output_type": "stream",
       "stream": "stdout",
       "text": [
        "Refractive index of glass is 1.73\n"
       ]
      }
     ],
     "prompt_number": 14
    },
    {
     "cell_type": "heading",
     "level": 2,
     "metadata": {},
     "source": [
      "Example 3.3 Page no 130"
     ]
    },
    {
     "cell_type": "code",
     "collapsed": false,
     "input": [
      "#Given\n",
      "u=1.5697\n",
      "\n",
      "#Calculation\n",
      "import math\n",
      "up=math.atan(u)*180/3.14\n",
      "\n",
      "#Result\n",
      "print\"Angle is\", round(up,1),\"Degree\""
     ],
     "language": "python",
     "metadata": {},
     "outputs": [
      {
       "output_type": "stream",
       "stream": "stdout",
       "text": [
        "Angle is 57.5 Degree\n"
       ]
      }
     ],
     "prompt_number": 18
    },
    {
     "cell_type": "heading",
     "level": 2,
     "metadata": {},
     "source": [
      "Example 3.4 Page no 130"
     ]
    },
    {
     "cell_type": "code",
     "collapsed": false,
     "input": [
      "#Given\n",
      "u1=1.0\n",
      "u2=1.54\n",
      "u3=1.33\n",
      "\n",
      "#Calculation\n",
      "import math\n",
      "u=u2/u1\n",
      "a=math.atan(u)*180/3.14\n",
      "U1=u1/u2\n",
      "a2=math.atan(U1)*180/3.14\n",
      "U2=u2/u3\n",
      "a3=math.atan(U2)*180/3.14\n",
      "U3=u3/u2\n",
      "a4=math.atan(U3)*180/3.14\n",
      "U4=u3/u1\n",
      "a5=math.atan(U4)*180/3.14\n",
      "U5=u1/u3\n",
      "a6=math.atan(U5)*180/3.14\n",
      "\n",
      "#Result\n",
      "print\"(i) Polarizing angle from air to glass is\",round(a,0),\"Degree\"\n",
      "print\"(ii) Plolarizing angle from glass to air is\",round(a2,0),\"Degree\"\n",
      "print\"(iii) Polarizing angle from water to glass is\",round(a3,2),\"Degree\"\n",
      "print\"(iv) Polarizing angle from glass to water is\",round(a4,2),\"Degree\"\n",
      "print\"(v) Polarizing angle from air to water is\",round(a5,2),\"Degree\"\n",
      "print\"(vi) Polarizing angle from water to air is\",round(a6,2),\"Degree\""
     ],
     "language": "python",
     "metadata": {},
     "outputs": [
      {
       "output_type": "stream",
       "stream": "stdout",
       "text": [
        "(i) Polarizing angle from air to glass is 57.0 Degree\n",
        "(ii) Plolarizing angle from glass to air is 33.0 Degree\n",
        "(iii) Polarizing angle from water to glass is 49.21 Degree\n",
        "(iv) Polarizing angle from glass to water is 40.84 Degree\n",
        "(v) Polarizing angle from air to water is 53.09 Degree\n",
        "(vi) Polarizing angle from water to air is 36.96 Degree\n"
       ]
      }
     ],
     "prompt_number": 38
    },
    {
     "cell_type": "heading",
     "level": 2,
     "metadata": {},
     "source": [
      "Example 3.5 Page no 131"
     ]
    },
    {
     "cell_type": "code",
     "collapsed": false,
     "input": [
      "#Given\n",
      "uglass=1.54\n",
      "uwater=1.33\n",
      "\n",
      "#Calculation\n",
      "import math\n",
      "u=uglass/uwater\n",
      "i=math.atan(u)*180/3.14\n",
      "u1=uwater/uglass\n",
      "i1=math.atan(u1)*180/3.14\n",
      "\n",
      "#Result\n",
      "print\"The polarizing angle for water to glass interface\", round(i1,1),\"degree is large\""
     ],
     "language": "python",
     "metadata": {},
     "outputs": [
      {
       "output_type": "stream",
       "stream": "stdout",
       "text": [
        "The polarizing angle for water to glass interface 40.8 degree is large\n"
       ]
      }
     ],
     "prompt_number": 43
    },
    {
     "cell_type": "heading",
     "level": 2,
     "metadata": {},
     "source": [
      "Example 3.6 Page no 131"
     ]
    },
    {
     "cell_type": "code",
     "collapsed": false,
     "input": [
      "#Given\n",
      "a=30                              #Degree\n",
      "a1=45\n",
      "a2=60\n",
      "\n",
      "#Calculation\n",
      "import math\n",
      "I1=(math.cos(a*3.14/180.0))**2\n",
      "I2=(math.cos(a1*3.14/180.0))**2\n",
      "I3=(math.cos(a2*3.14/180.0))**2\n",
      "\n",
      "#Result\n",
      "print\"(a) Intensity of light when analyser is rotated through 30 degree is\", round(I1,2)\n",
      "print\"(b) Intensity of light when analyser is rotated through 45 degree is\", round(I2,2)\n",
      "print\"(c) Intensity of light when analyser is rotated through 30 degree is\", round(I3,2)"
     ],
     "language": "python",
     "metadata": {},
     "outputs": [
      {
       "output_type": "stream",
       "stream": "stdout",
       "text": [
        "(a) Intensity of light when analyser is rotated through 30 degree is 0.75\n",
        "(b) Intensity of light when analyser is rotated through 45 degree is 0.5\n",
        "(c) Intensity of light when analyser is rotated through 30 degree is 0.25\n"
       ]
      }
     ],
     "prompt_number": 51
    },
    {
     "cell_type": "heading",
     "level": 2,
     "metadata": {},
     "source": [
      "Example 3.7 Page no 132"
     ]
    },
    {
     "cell_type": "code",
     "collapsed": false,
     "input": [
      "#Given\n",
      "A=3.0\n",
      "\n",
      "#Calculation\n",
      "import math\n",
      "x=1/(math.sqrt(A))\n",
      "a=math.acos(x)*180/3.14\n",
      "\n",
      "#Result\n",
      "print\"Angle is\", round(a,2),\"Degree\""
     ],
     "language": "python",
     "metadata": {},
     "outputs": [
      {
       "output_type": "stream",
       "stream": "stdout",
       "text": [
        "Angle is 54.76 Degree\n"
       ]
      }
     ],
     "prompt_number": 60
    },
    {
     "cell_type": "heading",
     "level": 2,
     "metadata": {},
     "source": [
      "Example 3.8 Page no 132"
     ]
    },
    {
     "cell_type": "code",
     "collapsed": false,
     "input": [
      "#Given\n",
      "a=30                         #Degree\n",
      "b=60\n",
      "\n",
      "#Calculation\n",
      "import math\n",
      "I=(math.cos(b*3.14/180.0)**2)/(math.cos(a*3.14/180.0)**2)\n",
      "\n",
      "#Result\n",
      "print\"Intensity ratio is\",round(I,2)"
     ],
     "language": "python",
     "metadata": {},
     "outputs": [
      {
       "output_type": "stream",
       "stream": "stdout",
       "text": [
        "Intensity ratio is 0.33\n"
       ]
      }
     ],
     "prompt_number": 64
    },
    {
     "cell_type": "heading",
     "level": 2,
     "metadata": {},
     "source": [
      "Example 3.9 Page no 132"
     ]
    },
    {
     "cell_type": "code",
     "collapsed": false,
     "input": [
      "#Given\n",
      "L=6000*10**-8\n",
      "u0=1.55\n",
      "ue=1.54\n",
      "\n",
      "#Calculation\n",
      "t=L/(2*(u0-ue))\n",
      "\n",
      "#Result\n",
      "print\"Thickness is\",t,\"cm\""
     ],
     "language": "python",
     "metadata": {},
     "outputs": [
      {
       "output_type": "stream",
       "stream": "stdout",
       "text": [
        "Thickness is 0.003 cm\n"
       ]
      }
     ],
     "prompt_number": 66
    },
    {
     "cell_type": "heading",
     "level": 2,
     "metadata": {},
     "source": [
      "Example 3.10 Page no 133"
     ]
    },
    {
     "cell_type": "code",
     "collapsed": false,
     "input": [
      "#Given\n",
      "Uo =1.54\n",
      "r =1.007\n",
      "Ue=r*Uo\n",
      "w =5893*10**-10\n",
      "\n",
      "#Calculation\n",
      "t=w /(2*( Uo -Ue))\n",
      "t= abs (t)\n",
      "\n",
      "print\"Thickness of halfwave plate is\",round(t*10**2,5),\"cm\""
     ],
     "language": "python",
     "metadata": {},
     "outputs": [
      {
       "output_type": "stream",
       "stream": "stdout",
       "text": [
        "Thickness of halfwave plate is 0.00273 cm\n"
       ]
      }
     ],
     "prompt_number": 77
    },
    {
     "cell_type": "heading",
     "level": 2,
     "metadata": {},
     "source": [
      "Example 3.11 Page no 133"
     ]
    },
    {
     "cell_type": "code",
     "collapsed": false,
     "input": [
      "#Given\n",
      "Uo =1.652                         #refractive index for O ray\n",
      "Ue =1.488\n",
      "w =546*10**-9\n",
      "\n",
      "#Calculation\n",
      "p=w/2.0\n",
      "t=w /(4.0*( Uo -Ue))\n",
      "t1=t *100\n",
      "\n",
      "#Result\n",
      "print\"Thickness of quarterwave plate is\",round(t1*10**5,2)*10**-5,\"cm\""
     ],
     "language": "python",
     "metadata": {},
     "outputs": [
      {
       "output_type": "stream",
       "stream": "stdout",
       "text": [
        "Thickness of quarterwave plate is 8.32e-05 cm\n"
       ]
      }
     ],
     "prompt_number": 23
    },
    {
     "cell_type": "heading",
     "level": 2,
     "metadata": {},
     "source": [
      "Example 3.12 Page no 133"
     ]
    },
    {
     "cell_type": "code",
     "collapsed": false,
     "input": [
      "#Given\n",
      "Uo =1.658\n",
      "Ue =1.486\n",
      "w =589*10**-9\n",
      "n =1\n",
      "\n",
      "#Calculation\n",
      "t =(2*n -1)*w /(4.0*( Uo -Ue))\n",
      "t1=t *100\n",
      "\n",
      "#Result\n",
      "print\"Thickness of calcite plate is\",round(t1*10**5,2)*10**-5,\"cm\""
     ],
     "language": "python",
     "metadata": {},
     "outputs": [
      {
       "output_type": "stream",
       "stream": "stdout",
       "text": [
        "Thickness of calcite plate is 8.56e-05 cm\n"
       ]
      }
     ],
     "prompt_number": 27
    },
    {
     "cell_type": "heading",
     "level": 2,
     "metadata": {},
     "source": [
      "Example 3.13 Page no 134"
     ]
    },
    {
     "cell_type": "code",
     "collapsed": false,
     "input": [
      "#Given\n",
      "Ur =1.55810\n",
      "Ul =1.55821\n",
      "w=4*10**-7\n",
      "d =0.002\n",
      "\n",
      "#Calculation\n",
      "R= 3.14*d*(Ul -Ur)/w\n",
      "R1=R *180/3.14\n",
      "\n",
      "#Result\n",
      "print\"Amount of optional rotation is\",R1,\"Degree\""
     ],
     "language": "python",
     "metadata": {},
     "outputs": [
      {
       "output_type": "stream",
       "stream": "stdout",
       "text": [
        "Amount of optional rotation is 99.0 Degree\n"
       ]
      }
     ],
     "prompt_number": 29
    },
    {
     "cell_type": "heading",
     "level": 2,
     "metadata": {},
     "source": [
      "Example 3.14 Page no 134"
     ]
    },
    {
     "cell_type": "code",
     "collapsed": false,
     "input": [
      "#Given\n",
      "Uo =1.5508\n",
      "Ue =1.5418\n",
      "w=5.0*10**-5\n",
      "t =0.0032\n",
      "\n",
      "#Calculation\n",
      "p =2*3.14*(Uo -Ue)*t/w\n",
      "\n",
      "#Result\n",
      "print\"Phase retardation is\",round(p,2),\"radian\""
     ],
     "language": "python",
     "metadata": {},
     "outputs": [
      {
       "output_type": "stream",
       "stream": "stdout",
       "text": [
        "Phase retardation is 3.62 radian\n"
       ]
      }
     ],
     "prompt_number": 81
    },
    {
     "cell_type": "heading",
     "level": 2,
     "metadata": {},
     "source": [
      "Example 3.15 Page no 134"
     ]
    },
    {
     "cell_type": "code",
     "collapsed": false,
     "input": [
      "#Given\n",
      "w=5892*10**-10\n",
      "u=0.01\n",
      "a=0.009\n",
      "\n",
      "#Calculation\n",
      "t=w/(2.0*a)\n",
      "t1=w/(4.0*a)\n",
      "\n",
      "#Result\n",
      "print\"Thickness of halfwave is\", round(t*10**8,0),\"*10**-8 m\"\n",
      "print\"Thickness of quarter wave is\",round(t1*10**8,0),\"*10**-8 m\""
     ],
     "language": "python",
     "metadata": {},
     "outputs": [
      {
       "output_type": "stream",
       "stream": "stdout",
       "text": [
        "Thickness of halfwave is 3273.0 *10**-8 m\n",
        "Thickness of quarter wave is 1637.0 *10**-8 m\n"
       ]
      }
     ],
     "prompt_number": 97
    },
    {
     "cell_type": "heading",
     "level": 2,
     "metadata": {},
     "source": [
      "Example 3.16 Page no 135"
     ]
    },
    {
     "cell_type": "code",
     "collapsed": false,
     "input": [
      "#Given\n",
      "ue=1.553\n",
      "u0=1.544\n",
      "w=5890*10**-10                   #m\n",
      "\n",
      "#Calculation\n",
      "t=w/(2*(ue-u0))\n",
      "\n",
      "#Result\n",
      "print\"Thickness of halfwave plate is\",round(t*10**7,0),\"*10**-7 m\""
     ],
     "language": "python",
     "metadata": {},
     "outputs": [
      {
       "output_type": "stream",
       "stream": "stdout",
       "text": [
        "Thickness of halfwave plate is 327.0 *10**-7 m\n"
       ]
      }
     ],
     "prompt_number": 102
    },
    {
     "cell_type": "heading",
     "level": 2,
     "metadata": {},
     "source": [
      "Example 3.17 Page no 135"
     ]
    },
    {
     "cell_type": "code",
     "collapsed": false,
     "input": [
      "#Given\n",
      "theta =6.5\n",
      "l =2\n",
      "C =0.05\n",
      "\n",
      "#Calculation\n",
      "S= theta /(l*C)\n",
      "\n",
      "#Result\n",
      "print\"Specific rotation of sugar solution is\",S,\"Degree\""
     ],
     "language": "python",
     "metadata": {},
     "outputs": [
      {
       "output_type": "stream",
       "stream": "stdout",
       "text": [
        "Specific rotation of sugar solution is 65.0 Degree\n"
       ]
      }
     ],
     "prompt_number": 103
    },
    {
     "cell_type": "heading",
     "level": 2,
     "metadata": {},
     "source": [
      "Example 3.18 Page no 135"
     ]
    },
    {
     "cell_type": "code",
     "collapsed": false,
     "input": [
      "#Given\n",
      "a=20\n",
      "b=35\n",
      "c1=5\n",
      "c2=10.0\n",
      "\n",
      "#Calculation\n",
      "I2=b*c1/(a*c2)\n",
      "\n",
      "#Result\n",
      "print\"Length of 10% solution is\", I2"
     ],
     "language": "python",
     "metadata": {},
     "outputs": [
      {
       "output_type": "stream",
       "stream": "stdout",
       "text": [
        "Length of 10% solution is 0.875\n"
       ]
      }
     ],
     "prompt_number": 105
    },
    {
     "cell_type": "heading",
     "level": 2,
     "metadata": {},
     "source": [
      "Example 3.19 Page no 136"
     ]
    },
    {
     "cell_type": "code",
     "collapsed": false,
     "input": [
      "#Given\n",
      "l =2                                    #length of solution in decimeter\n",
      "theta =12\n",
      "S =60.0\n",
      "\n",
      "#Calculation\n",
      "C= theta /(S*l)\n",
      "\n",
      "#Result\n",
      "print\"Strength of solution is\",C,\"gm/cc\""
     ],
     "language": "python",
     "metadata": {},
     "outputs": [
      {
       "output_type": "stream",
       "stream": "stdout",
       "text": [
        "Strength of solution is 0.1 gm/cc\n"
       ]
      }
     ],
     "prompt_number": 34
    },
    {
     "cell_type": "heading",
     "level": 2,
     "metadata": {},
     "source": [
      "Example 3.20 Page no 136"
     ]
    },
    {
     "cell_type": "code",
     "collapsed": false,
     "input": [
      "#Given\n",
      "a=20\n",
      "l=3.5\n",
      "s=60\n",
      "\n",
      "#Calculation\n",
      "C=a/(l*s)\n",
      "\n",
      "#Result\n",
      "print\"Strength of sugar solution is\",round(C*10**2,2),\"%\""
     ],
     "language": "python",
     "metadata": {},
     "outputs": [
      {
       "output_type": "stream",
       "stream": "stdout",
       "text": [
        "Strength of sugar solution is 9.52 %\n"
       ]
      }
     ],
     "prompt_number": 111
    },
    {
     "cell_type": "heading",
     "level": 2,
     "metadata": {},
     "source": [
      "Example 3.21 Page no 136"
     ]
    },
    {
     "cell_type": "code",
     "collapsed": false,
     "input": [
      "#Given\n",
      "b =.172                              #bifringe of plate\n",
      "w=6*10**-7\n",
      "\n",
      "\n",
      "#Calculation\n",
      "t=w /(4*( b))\n",
      "t1=t *100\n",
      "\n",
      "#Result\n",
      "print\"Thickness of quarterwave plate is\",round(t1*10**5,2)*10**-5,\"cm\""
     ],
     "language": "python",
     "metadata": {},
     "outputs": [
      {
       "output_type": "stream",
       "stream": "stdout",
       "text": [
        "Thickness of quarterwave plate is 8.72e-05 cm\n"
       ]
      }
     ],
     "prompt_number": 39
    }
   ],
   "metadata": {}
  }
 ]
}