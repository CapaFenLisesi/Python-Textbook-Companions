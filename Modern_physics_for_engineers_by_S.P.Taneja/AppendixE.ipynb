{
 "metadata": {
  "name": "",
  "signature": "sha256:71a2a43bff110d18f4f5b8bfe00dd3899b9e51db23c52fd655d330ac3ea92bc5"
 },
 "nbformat": 3,
 "nbformat_minor": 0,
 "worksheets": [
  {
   "cells": [
    {
     "cell_type": "heading",
     "level": 1,
     "metadata": {},
     "source": [
      "Appendix E Thermal Radiation"
     ]
    },
    {
     "cell_type": "heading",
     "level": 2,
     "metadata": {},
     "source": [
      "Example E.1 Page no 446"
     ]
    },
    {
     "cell_type": "code",
     "collapsed": false,
     "input": [
      "#Given\n",
      "K=380                               #W/m/K\n",
      "A=7.85*10**-5                       #m**2\n",
      "x=0.19\n",
      "a1=100\n",
      "a2=30\n",
      "t=600                               #sec\n",
      "\n",
      "#Calculation\n",
      "Q=(K*A*(a1-a2)*t)/x\n",
      "\n",
      "#Result\n",
      "print\"Amount of heat is\",round(Q*10**-3,1),\"*10**3 J\""
     ],
     "language": "python",
     "metadata": {},
     "outputs": [
      {
       "output_type": "stream",
       "stream": "stdout",
       "text": [
        "Amount of heat is 6.6 *10**3 J\n"
       ]
      }
     ],
     "prompt_number": 4
    },
    {
     "cell_type": "heading",
     "level": 2,
     "metadata": {},
     "source": [
      "Example E.2 Page no 446"
     ]
    },
    {
     "cell_type": "code",
     "collapsed": false,
     "input": [
      "#Given\n",
      "K=0.1674                            #j/a/m/degree C\n",
      "A=3600                              #cm**2\n",
      "x=0.04\n",
      "L=336.0*10**3                         #J/Kg\n",
      "a1=27\n",
      "a2=0\n",
      "\n",
      "#Calculation\n",
      "A1=6*A\n",
      "Q=K*A1*(a1-a2)/x\n",
      "m=Q/L\n",
      "\n",
      "#Result\n",
      "print\"Rate of flow of heat is\",round(Q*10**-4,2),\"J\"\n",
      "print\"Mass of ice melted per second is\",round(m*10**-1,3),\"*10**-3 Kg/sec\""
     ],
     "language": "python",
     "metadata": {},
     "outputs": [
      {
       "output_type": "stream",
       "stream": "stdout",
       "text": [
        "Rate of flow of heat is 244.07 J\n",
        "Mass of ice melted per second is 0.726 *10**-3 Kg/sec\n"
       ]
      }
     ],
     "prompt_number": 14
    },
    {
     "cell_type": "heading",
     "level": 2,
     "metadata": {},
     "source": [
      "Example E.3 Page no 447"
     ]
    },
    {
     "cell_type": "code",
     "collapsed": false,
     "input": [
      "#Given\n",
      "K=0.26                           #cal/s/cm/degree C\n",
      "r=1\n",
      "x=200                            #cm\n",
      "a1=250                            #degree\n",
      "Q=0.5\n",
      "\n",
      "#Calculation\n",
      "import math\n",
      "A=math.pi*r**2\n",
      "a2=a1-(Q*x/(K*A))\n",
      "\n",
      "#Result\n",
      "print\"Temperature of other end is\", round(a2,1),\"Degree C\""
     ],
     "language": "python",
     "metadata": {},
     "outputs": [
      {
       "output_type": "stream",
       "stream": "stdout",
       "text": [
        "Temperature of other end is 127.6 Degree C\n"
       ]
      }
     ],
     "prompt_number": 20
    },
    {
     "cell_type": "heading",
     "level": 2,
     "metadata": {},
     "source": [
      "Example E.4 Page no 447"
     ]
    },
    {
     "cell_type": "code",
     "collapsed": false,
     "input": [
      "#Given\n",
      "K=1                            #W/m/K\n",
      "A=0.5                          #m**2\n",
      "t=3600                          #sec\n",
      "x=6*10**-3                      #m\n",
      "a1=24                           #degree\n",
      "a2=2\n",
      "\n",
      "#Calculation\n",
      "Q=K*A*t*(a1-a2)/x\n",
      "\n",
      "#Result\n",
      "print\"Heat is\",Q*10**-5,\"*10**5 J\""
     ],
     "language": "python",
     "metadata": {},
     "outputs": [
      {
       "output_type": "stream",
       "stream": "stdout",
       "text": [
        "Heat is 66.0 *10**5 J\n"
       ]
      }
     ],
     "prompt_number": 23
    },
    {
     "cell_type": "heading",
     "level": 2,
     "metadata": {},
     "source": [
      "Example E.5 Page no 448"
     ]
    },
    {
     "cell_type": "code",
     "collapsed": false,
     "input": [
      "#given\n",
      "T=2100                        #K\n",
      "er=0.5\n",
      "a=5.67*10**-8                 #W/m**2/K**4\n",
      "\n",
      "#Calculation\n",
      "E=er*a*T**4\n",
      "\n",
      "#Result\n",
      "print\"Power radiated per unit area is\",round(E*10**-5,1),\"*10**5 W/m**2\""
     ],
     "language": "python",
     "metadata": {},
     "outputs": [
      {
       "output_type": "stream",
       "stream": "stdout",
       "text": [
        "Power radiated per unit area is 5.5 *10**5 W/m**2\n"
       ]
      }
     ],
     "prompt_number": 27
    },
    {
     "cell_type": "heading",
     "level": 2,
     "metadata": {},
     "source": [
      "Example E.6 Page no 448"
     ]
    },
    {
     "cell_type": "code",
     "collapsed": false,
     "input": [
      "#Given\n",
      "E=315                       #W/m**2\n",
      "T=273.0                       #K\n",
      "t=60                          #sec\n",
      "r=10*10**-2\n",
      "\n",
      "#Calculation\n",
      "import math\n",
      "a=E/T**4\n",
      "T1=1000+T\n",
      "E=a*4*math.pi*r**2*T1**4*t\n",
      "\n",
      "#Result\n",
      "print\"Heat radiated is\",round(E*10**-5,2),\"*10**5 J\""
     ],
     "language": "python",
     "metadata": {},
     "outputs": [
      {
       "output_type": "stream",
       "stream": "stdout",
       "text": [
        "Heat radiated is 11.23 *10**5 J\n"
       ]
      }
     ],
     "prompt_number": 33
    },
    {
     "cell_type": "heading",
     "level": 2,
     "metadata": {},
     "source": [
      "Example E.7 Page no 448"
     ]
    },
    {
     "cell_type": "code",
     "collapsed": false,
     "input": [
      "#Given\n",
      "r=6*10**-2\n",
      "T1=1200+273                             #K\n",
      "T2=500+273\n",
      "a=5.7*10**-8\n",
      "\n",
      "#Calculation\n",
      "import math\n",
      "E=a*4*math.pi*r**2*(T1**4-T2**4)\n",
      "\n",
      "#Result\n",
      "print\"Rate of loss of heat is\",round(E*10**-3,1),\"*10**3 W\""
     ],
     "language": "python",
     "metadata": {},
     "outputs": [
      {
       "output_type": "stream",
       "stream": "stdout",
       "text": [
        "Rate of loss of heat is 11.2 *10**3 W\n"
       ]
      }
     ],
     "prompt_number": 40
    }
   ],
   "metadata": {}
  }
 ]
}