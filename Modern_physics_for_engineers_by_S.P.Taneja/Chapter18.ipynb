{
 "metadata": {
  "name": "",
  "signature": "sha256:96f5d1279be2252c9ff04c355e85834215067f6eb464abda89728ac05eeaeb23"
 },
 "nbformat": 3,
 "nbformat_minor": 0,
 "worksheets": [
  {
   "cells": [
    {
     "cell_type": "heading",
     "level": 1,
     "metadata": {},
     "source": [
      "Chapter 18 Uncertainty Principle and Quantum Statistics"
     ]
    },
    {
     "cell_type": "heading",
     "level": 2,
     "metadata": {},
     "source": [
      "Example 18.1 Page no 122"
     ]
    },
    {
     "cell_type": "code",
     "collapsed": false,
     "input": [
      "#Given\n",
      "h=1.05*10**-34\n",
      "x=10.0**-8\n",
      "m=9.1*10**-31\n",
      "\n",
      "#Calculation\n",
      "p=h/x\n",
      "v=h/m\n",
      "\n",
      "#Result\n",
      "print\"Minimum uncertainty in its velocity is\",round(v*10**4,2),\"*10**4 m/s\""
     ],
     "language": "python",
     "metadata": {},
     "outputs": [
      {
       "output_type": "stream",
       "stream": "stdout",
       "text": [
        "Minimum uncertainty in its velocity is 1.15 *10**4 m/s\n"
       ]
      }
     ],
     "prompt_number": 9
    },
    {
     "cell_type": "heading",
     "level": 2,
     "metadata": {},
     "source": [
      "Example 18.2 Page no 122"
     ]
    },
    {
     "cell_type": "code",
     "collapsed": false,
     "input": [
      "#Given\n",
      "E=200\n",
      "m=9*10**-31\n",
      "e=1.602*10**-19\n",
      "h=6.626*10**-34\n",
      "r=10**-6\n",
      "\n",
      "#Calculation\n",
      "import math\n",
      "p=math.sqrt(2*m*E*e)\n",
      "p1=h/(2*r)\n",
      "a=p1/p\n",
      "\n",
      "#Result\n",
      "print\"Uncertainty introduced in the angle of emergence is\", round(a*10**5,2),\"*10**-6 radians\""
     ],
     "language": "python",
     "metadata": {},
     "outputs": [
      {
       "output_type": "stream",
       "stream": "stdout",
       "text": [
        "Uncertainty introduced in the angle of emergence is 4.36 *10**-6 radians\n"
       ]
      }
     ],
     "prompt_number": 21
    },
    {
     "cell_type": "heading",
     "level": 2,
     "metadata": {},
     "source": [
      "Example 18.3 Page no 123"
     ]
    },
    {
     "cell_type": "code",
     "collapsed": false,
     "input": [
      "#Given\n",
      "h=1.05*10**-34                     #j-s\n",
      "v=3*10**7                          #m/s\n",
      "m0=9*10**-31                       #Kg\n",
      "c=3*10**8\n",
      "\n",
      "#Calculation\n",
      "import math\n",
      "x=(h/(m0*v))*(math.sqrt(1-(v/c)*2))\n",
      "\n",
      "#Result\n",
      "print\"Smallest possible uncertainty is\", round(x*10**10,3),\"A\""
     ],
     "language": "python",
     "metadata": {},
     "outputs": [
      {
       "output_type": "stream",
       "stream": "stdout",
       "text": [
        "Smallest possible uncertainty is 0.039 A\n"
       ]
      }
     ],
     "prompt_number": 27
    },
    {
     "cell_type": "heading",
     "level": 2,
     "metadata": {},
     "source": [
      "Example 18.4 Page no 123"
     ]
    },
    {
     "cell_type": "code",
     "collapsed": false,
     "input": [
      "#Given\n",
      "h=1.05*10**-34\n",
      "x=0.0001\n",
      "m=9*10**-31\n",
      "X=5*10**-10\n",
      "m1=1.67*10**-27\n",
      "\n",
      "#Calculation\n",
      "p=h/x\n",
      "v=p*10**-9/(m*X)\n",
      "M=4*m1\n",
      "V=p/(M*X)\n",
      "\n",
      "#Result\n",
      "print\"Uncertainty in the velocity of electron is\", round(v,2),\"*10**3 m/s\"\n",
      "print\"Uncertainty in the velocity of alpha particle is\",round(V*10**-4,1),\"m/s\""
     ],
     "language": "python",
     "metadata": {},
     "outputs": [
      {
       "output_type": "stream",
       "stream": "stdout",
       "text": [
        "Uncertainty in the velocity of electron is 2.33 *10**3 m/s\n",
        "Uncertainty in the velocity of alpha particle is 31.4 m/s\n"
       ]
      }
     ],
     "prompt_number": 48
    },
    {
     "cell_type": "heading",
     "level": 2,
     "metadata": {},
     "source": [
      "Example 18.5 Page no 124"
     ]
    },
    {
     "cell_type": "code",
     "collapsed": false,
     "input": [
      "#Given\n",
      "E=200                   #eV\n",
      "A=1.6*10**-19           #J\n",
      "S=9*10**-31\n",
      "q=2\n",
      "x=1.05*10**-34          #J.s\n",
      "y=2*10**-6              #m\n",
      "\n",
      "#Calculation\n",
      "import math\n",
      "P=math.sqrt(q*S*E*A)\n",
      "P1=x/y\n",
      "P2=P1/P\n",
      "\n",
      "#Result\n",
      "print\"The uncertainty introduced in the angle of emergence is\",round(P2*10**6,2),\"10**-6 radians\""
     ],
     "language": "python",
     "metadata": {},
     "outputs": [
      {
       "output_type": "stream",
       "stream": "stdout",
       "text": [
        "The uncertainty introduced in the angle of emergence is 6.92 10**-6 radians\n"
       ]
      }
     ],
     "prompt_number": 56
    },
    {
     "cell_type": "heading",
     "level": 2,
     "metadata": {},
     "source": [
      "Example 18.6 Page no 124"
     ]
    },
    {
     "cell_type": "code",
     "collapsed": false,
     "input": [
      "#Given\n",
      "a=1.05*10**4                            #ms**-1\n",
      "b=0.01 \n",
      "h=1.05*10**-34                          #Js\n",
      "m=9*10**-31\n",
      "s=100\n",
      "\n",
      "#Calculation\n",
      "v=h*s/(m*b*h)\n",
      "\n",
      "#Result\n",
      "print\"The uncertainty in the position of the electron is\",round(v*10**-34,1),\"10**-4 m\""
     ],
     "language": "python",
     "metadata": {},
     "outputs": [
      {
       "output_type": "stream",
       "stream": "stdout",
       "text": [
        "The uncertainty in the position of the electron is 1.1 10**-4 m\n"
       ]
      }
     ],
     "prompt_number": 65
    },
    {
     "cell_type": "heading",
     "level": 2,
     "metadata": {},
     "source": [
      "Example 18.7 Page no 124"
     ]
    },
    {
     "cell_type": "code",
     "collapsed": false,
     "input": [
      "#Given\n",
      "q=50                            #g\n",
      "w=300                           #ms**-1\n",
      "i=0.01\n",
      "d=1000.0\n",
      "e=100.0\n",
      "h=6.62*10**-34\n",
      "\n",
      "#Calculation\n",
      "b=(w*(q/d)*(i/e))\n",
      "b1=h/(2*math.pi*b)\n",
      "\n",
      "#Result\n",
      "print\"The accuracy is\",round(b1*10**32,0),\"10**-32 m\""
     ],
     "language": "python",
     "metadata": {},
     "outputs": [
      {
       "output_type": "stream",
       "stream": "stdout",
       "text": [
        "The accuracy is 7.0 10**-32 m\n"
       ]
      }
     ],
     "prompt_number": 78
    },
    {
     "cell_type": "heading",
     "level": 2,
     "metadata": {},
     "source": [
      "Example 18.8 Page no 124"
     ]
    },
    {
     "cell_type": "code",
     "collapsed": false,
     "input": [
      "#Given\n",
      "y=10**12\n",
      "h=6.62*10**-34\n",
      "a=2\n",
      "\n",
      "#Calculation\n",
      "import math\n",
      "E=h/(a*math.pi*y)\n",
      "E1=E/h\n",
      "\n",
      "#Result\n",
      "print\"The probable uncertainty in energy is\",round(E*10**46,3),\"10**-22 J\"\n",
      "print\"The frequency of a gamma-ray is\",round(E1*10**13,2),\"10**11 Hz\""
     ],
     "language": "python",
     "metadata": {},
     "outputs": [
      {
       "output_type": "stream",
       "stream": "stdout",
       "text": [
        "The probable uncertainty in energy is 1.054 10**-22 J\n",
        "The frequency of a gamma-ray is 1.59 10**11 Hz\n"
       ]
      }
     ],
     "prompt_number": 89
    },
    {
     "cell_type": "heading",
     "level": 2,
     "metadata": {},
     "source": [
      "Example 18.9 Page no 125"
     ]
    },
    {
     "cell_type": "code",
     "collapsed": false,
     "input": [
      "#Given\n",
      "h=6.63*10**-34                #J.sec\n",
      "a=10**-8\n",
      "b=2\n",
      "\n",
      "#Calculation\n",
      "import math\n",
      "E=h/(b*math.pi*a)\n",
      "v=E/h\n",
      "\n",
      "#Result\n",
      "print\"The uncertainty in the energy is\",round(E*10**26,3),\"10**-26 J\"\n",
      "print\"The uncertainty in the frwquency of light is\",round(v*10**-7,2),\"10**7 Hz\""
     ],
     "language": "python",
     "metadata": {},
     "outputs": [
      {
       "output_type": "stream",
       "stream": "stdout",
       "text": [
        "The uncertainty in the energy is 1.055 10**-26 J\n",
        "The uncertainty in the frwquency of light is 1.59 10**7 Hz\n"
       ]
      }
     ],
     "prompt_number": 99
    },
    {
     "cell_type": "heading",
     "level": 2,
     "metadata": {},
     "source": [
      "Example 18.10 Page no 125"
     ]
    },
    {
     "cell_type": "code",
     "collapsed": false,
     "input": [
      "#Given\n",
      "a=10**-8                       #sec\n",
      "h=1.05*10**-34\n",
      "l=1.6*10**-19\n",
      "\n",
      "#Calculation\n",
      "g=h/a\n",
      "E=g/l\n",
      "\n",
      "#Result\n",
      "print\"The limit of accuracy is\",round(E*10**8,2)*10**-8,\"eV\""
     ],
     "language": "python",
     "metadata": {},
     "outputs": [
      {
       "output_type": "stream",
       "stream": "stdout",
       "text": [
        "The limit of accuracy is 6.56e-08 eV\n"
       ]
      }
     ],
     "prompt_number": 113
    }
   ],
   "metadata": {}
  }
 ]
}