{
 "metadata": {
  "name": "",
  "signature": "sha256:5eaf89b152ca748a2683d4aae6e84226b27a321383e75d742208d36f80cde7b1"
 },
 "nbformat": 3,
 "nbformat_minor": 0,
 "worksheets": [
  {
   "cells": [
    {
     "cell_type": "heading",
     "level": 1,
     "metadata": {},
     "source": [
      "Chapter 11 Interaction and detection of nuclear radiations"
     ]
    },
    {
     "cell_type": "heading",
     "level": 2,
     "metadata": {},
     "source": [
      "Example 11.1 Page no 378"
     ]
    },
    {
     "cell_type": "code",
     "collapsed": false,
     "input": [
      "#Given\n",
      "u=15.64\n",
      "\n",
      "#Calculation\n",
      "import math\n",
      "a=math.log(0.5)**2/u\n",
      "\n",
      "#Result\n",
      "print\"Linear absorption thickness is\", round(a,3),\"m\""
     ],
     "language": "python",
     "metadata": {},
     "outputs": [
      {
       "output_type": "stream",
       "stream": "stdout",
       "text": [
        "Linear absorption thickness is 0.031 m\n"
       ]
      }
     ],
     "prompt_number": 43
    },
    {
     "cell_type": "heading",
     "level": 2,
     "metadata": {},
     "source": [
      "Example 11.2 Page no 378"
     ]
    },
    {
     "cell_type": "code",
     "collapsed": false,
     "input": [
      "#Given\n",
      "V0=1.5*10**5                        #volts\n",
      "r=0.01                          #cm\n",
      "b=1                             #cm\n",
      "\n",
      "#Calculation\n",
      "import math\n",
      "E=V0/(math.log(10)*(math.log(b/r)))\n",
      "\n",
      "#Result\n",
      "print\"Electric field is\", round(E*10**-4,2),\"*10**4 V/cm\""
     ],
     "language": "python",
     "metadata": {},
     "outputs": [
      {
       "output_type": "stream",
       "stream": "stdout",
       "text": [
        "Electric field is 1.41 *10**4 V/cm\n"
       ]
      }
     ],
     "prompt_number": 23
    },
    {
     "cell_type": "heading",
     "level": 2,
     "metadata": {},
     "source": [
      "Example 11.3 Page no 378"
     ]
    },
    {
     "cell_type": "code",
     "collapsed": false,
     "input": [
      "#Given\n",
      "l=15.7          #eV\n",
      "l1=7.8*10**-6    #m\n",
      "b=0.05/2.0      #m\n",
      "a=0.00006       #m\n",
      "q=2.3026\n",
      "\n",
      "#Calculation\n",
      "import math\n",
      "V=((l*a*q)/l1)*math.log10(b/a)\n",
      "\n",
      "#Result\n",
      "print\"The voltage that must be applied to just produce an avalanche is\",round(V,0),\"volts\""
     ],
     "language": "python",
     "metadata": {},
     "outputs": [
      {
       "output_type": "stream",
       "stream": "stdout",
       "text": [
        "The voltage that must be applied to just produce an avalanche is 729.0 volts\n"
       ]
      }
     ],
     "prompt_number": 7
    }
   ],
   "metadata": {}
  }
 ]
}