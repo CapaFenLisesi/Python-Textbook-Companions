{
 "metadata": {
  "name": "",
  "signature": "sha256:1b5b5964cb89c549d8c11036342b3602dc90e55e0ac13a8572a17795ecc5cada"
 },
 "nbformat": 3,
 "nbformat_minor": 0,
 "worksheets": [
  {
   "cells": [
    {
     "cell_type": "heading",
     "level": 1,
     "metadata": {},
     "source": [
      "Chapter8, Slot Antenna"
     ]
    },
    {
     "cell_type": "heading",
     "level": 2,
     "metadata": {},
     "source": [
      "Example No. 8.3.1, page : 8-3"
     ]
    },
    {
     "cell_type": "code",
     "collapsed": false,
     "input": [
      "from math import pi\n",
      "import numpy as np\n",
      "Zcs=73+1J*42.5 # ohm (Impedence of complementry structure)\n",
      "Eta=120*pi #(Constant for free space)\n",
      "ZS=Eta**2/4/Zcs # ohm (Input Impedence)\n",
      "print \"Input impedence =\",np.around(ZS),\"ohm\"\n",
      "#At resonance\n",
      "Zcs=73 #\u00ce\u00a9(Impedence of complementry structure)\n",
      "Eta=120*pi #(Constant for free space)\n",
      "ZS=Eta**2/4/Zcs #ohm (Input Impedence)\n",
      "print \"At resonance, Input impedence = %0.2f ohm\"%ZS\n",
      "print \"ZS can be rounded to 500 ohm \""
     ],
     "language": "python",
     "metadata": {},
     "outputs": [
      {
       "output_type": "stream",
       "stream": "stdout",
       "text": [
        "Input impedence = (364-212j) ohm\n",
        "At resonance, Input impedence = 486.72 ohm\n",
        "ZS can be rounded to 500 ohm \n"
       ]
      }
     ],
     "prompt_number": 1
    }
   ],
   "metadata": {}
  }
 ]
}