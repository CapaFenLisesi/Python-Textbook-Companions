{
 "cells": [
  {
   "cell_type": "markdown",
   "metadata": {},
   "source": [
    "# Chapter 29 : Transistor Amplifiers"
   ]
  },
  {
   "cell_type": "markdown",
   "metadata": {},
   "source": [
    "## Example No. 29_1 Page No.  940"
   ]
  },
  {
   "cell_type": "code",
   "execution_count": 1,
   "metadata": {
    "collapsed": false
   },
   "outputs": [
    {
     "name": "stdout",
     "output_type": "stream",
     "text": [
      "The Ac Resistance with R=10 kOhms = 26.88 Ohms\n",
      "The Ac Resistance with R=5 kOhms = 13.44 Ohms\n",
      "The Ac Resistance with R=1 kOhms = 2.69 Ohms\n",
      "Approx 2.69 Ohms\n"
     ]
    }
   ],
   "source": [
    "# For the diode circuit, calculate the ac resistance, rac, for the following values of R: (a) 10 kOhms, (b) 5 kOhms, and (c) 1 kOhms. Use the second approximation of a diode.\n",
    "\n",
    "# Given data\n",
    "\n",
    "R1 = 10.*10**3#     # Resistance 1=10 kOhms\n",
    "R2 = 5.*10**3#      # Resistance 2=5 kOhms\n",
    "R3 = 1.*10**3#      # Resistance 3=1 kOhms\n",
    "Vdc = 10.#         # DC supply=10 Volts\n",
    "V = 0.7#          # Starting voltage of diode=0.7 Volts\n",
    "A = 25.*10**-3#     # Constant\n",
    "\n",
    "# For R=10 kOhms\n",
    "\n",
    "Id1 = (Vdc-V)/R1#\n",
    "\n",
    "rac1 = A/Id1#\n",
    "print 'The Ac Resistance with R=10 kOhms = %0.2f Ohms'%rac1\n",
    "\n",
    "# For R=5 kOhms\n",
    "\n",
    "Id2 = (Vdc-V)/R2#\n",
    "\n",
    "rac2 = A/Id2#\n",
    "print 'The Ac Resistance with R=5 kOhms = %0.2f Ohms'%rac2\n",
    "\n",
    "# For R=1 kOhms\n",
    "\n",
    "Id3 = (Vdc-V)/R3#\n",
    "\n",
    "rac3 = A/Id3#\n",
    "print 'The Ac Resistance with R=1 kOhms = %0.2f Ohms'%rac3\n",
    "print 'Approx 2.69 Ohms'"
   ]
  },
  {
   "cell_type": "markdown",
   "metadata": {},
   "source": [
    "## Example No. 29_2 Page No. 941"
   ]
  },
  {
   "cell_type": "code",
   "execution_count": 2,
   "metadata": {
    "collapsed": false
   },
   "outputs": [
    {
     "name": "stdout",
     "output_type": "stream",
     "text": [
      "The Voltage Gain Av =200.00\n"
     ]
    }
   ],
   "source": [
    "#A common-emitter amplifier circuit has an input of 25 mVp-p and an output of 5 Vp-p. Calculate Av.\n",
    "\n",
    "# Given data\n",
    "\n",
    "Vin = 25*10**-3#     # Input voltage=25 mVolts(p-p)\n",
    "Vo = 5#             # Output voltage=5 Volts(p-p).\n",
    "\n",
    "Av = Vo/Vin#\n",
    "print 'The Voltage Gain Av =%0.2f'%Av"
   ]
  },
  {
   "cell_type": "markdown",
   "metadata": {},
   "source": [
    "## Example No. 29_3 Page No.  942"
   ]
  },
  {
   "cell_type": "code",
   "execution_count": 4,
   "metadata": {
    "collapsed": false
   },
   "outputs": [
    {
     "name": "stdout",
     "output_type": "stream",
     "text": [
      "The Output Voltage = 1.50 Volts(p-p)\n"
     ]
    }
   ],
   "source": [
    "# assume Av still equals 300. If vin is\u0003 5 mVp-p, calculate Vout.\n",
    "\n",
    "# Given data\n",
    "\n",
    "Vin = 5*10**-3#     # Input voltage=5 mVolts(p-p)\n",
    "Av = 300#          # Voltage gain=300\n",
    "\n",
    "Vo = Av*Vin#\n",
    "print 'The Output Voltage = %.2f Volts(p-p)'%Vo"
   ]
  },
  {
   "cell_type": "markdown",
   "metadata": {},
   "source": [
    "## Example No. 29_4 Page No.  948"
   ]
  },
  {
   "cell_type": "code",
   "execution_count": 5,
   "metadata": {
    "collapsed": false
   },
   "outputs": [
    {
     "name": "stdout",
     "output_type": "stream",
     "text": [
      "The Voltage Gain Av =89.96\n",
      "Approx 90\n"
     ]
    }
   ],
   "source": [
    "# Assume that re varies from 3.33 Ohms to 6.67 Ohms as the temperature of the transistor changes. Calculate the variation in the voltage gain, Av.\n",
    "\n",
    "# Given data\n",
    "\n",
    "rl = 600#       # Load resistance=600 Ohms\n",
    "re = 6.67#      # Internal emitter resistance=6.67 Ohms\n",
    "\n",
    "Av = rl/re#\n",
    "print 'The Voltage Gain Av =%0.2f'%Av\n",
    "print 'Approx 90'"
   ]
  },
  {
   "cell_type": "markdown",
   "metadata": {},
   "source": [
    "## Example No. 29_5 Page No.  949"
   ]
  },
  {
   "cell_type": "code",
   "execution_count": 8,
   "metadata": {
    "collapsed": false
   },
   "outputs": [
    {
     "name": "stdout",
     "output_type": "stream",
     "text": [
      "The Voltage Gain Av(max) when r`e=3.33 Ohms: 9.47\n",
      "The Voltage Gain Av(min) when r`e=6.67 Ohms: 9.00\n"
     ]
    }
   ],
   "source": [
    "# Assume that r'e varies from 3.33 Ohms\u0003 to 6.67 Ohms. Calculate the minimum and maximum values for Av.\n",
    "\n",
    "# Given data\n",
    "\n",
    "rl = 600.#     # Load resistance=600 Ohms\n",
    "re1 = 3.33#   # Internal emitter resistance=3.33 Ohms\n",
    "re2 = 6.67#   # Internal emitter resistance=6.67 Ohms\n",
    "rE = 60.#      # Emitter resistance=60 Ohms\n",
    "\n",
    "Av1 = rl/(re1+rE)#\n",
    "print \"The Voltage Gain Av(max) when r`e=3.33 Ohms: %0.2f\"%Av1\n",
    "\n",
    "Av2 = rl/(re2+rE)#\n",
    "print 'The Voltage Gain Av(min) when r`e=6.67 Ohms: %0.2f'%Av2"
   ]
  },
  {
   "cell_type": "markdown",
   "metadata": {},
   "source": [
    "## Example No. 29_6 Page No.  950"
   ]
  },
  {
   "cell_type": "code",
   "execution_count": 14,
   "metadata": {
    "collapsed": false
   },
   "outputs": [
    {
     "name": "stdout",
     "output_type": "stream",
     "text": [
      "The Voltage Gain Av =0.996\n",
      "i.e 996 mVolts(p-p)\n",
      "The Output Voltage = 0.700 Volts(p-p)\n"
     ]
    }
   ],
   "source": [
    "# Find the exact value of Av. Also, find  Vout.\n",
    "\n",
    "# Given data\n",
    "\n",
    "rl = 909.#       # Load resistance=909 Ohms\n",
    "re = 3.35#      # Internal emitter resistance=3.35 Ohms\n",
    "Vin = 1.#        # Input voltage=1 Volts(p-p)\n",
    "\n",
    "Av = rl/(re+rl)#\n",
    "print 'The Voltage Gain Av =%0.3f'%Av\n",
    "print 'i.e 996 mVolts(p-p)'\n",
    "Vo = Av*Vin#\n",
    "print 'The Output Voltage = %0.3f Volts(p-p)'%V\n"
   ]
  },
  {
   "cell_type": "markdown",
   "metadata": {},
   "source": [
    "## Example No. 29_7 Page No.  951"
   ]
  },
  {
   "cell_type": "code",
   "execution_count": 15,
   "metadata": {
    "collapsed": false
   },
   "outputs": [
    {
     "name": "stdout",
     "output_type": "stream",
     "text": [
      "The Input impedence = 2485.72 Ohms\n",
      "i.e 2.48 kOhms\n"
     ]
    }
   ],
   "source": [
    "# Calculate Zin.\n",
    "\n",
    "# Given data\n",
    "\n",
    "rl = 909.#           # Load resistance=909 Ohms\n",
    "re = 3.35#          # Internal emitter resistance=3.35 Ohms\n",
    "B = 100.#            # Beta=100\n",
    "R1 = 4.7*10**3#      # Resistance1=4.7 kOhms\n",
    "R2 = 5.6*10**3#      # Resistance2=5.6 kOhms\n",
    "\n",
    "Zibase = B*(re+rl)#\n",
    "A = (R1*R2)/(R1+R2)#\n",
    "\n",
    "Zin = (Zibase*A)/(A+Zibase)#\n",
    "print 'The Input impedence = %0.2f Ohms'%Zin\n",
    "print 'i.e 2.48 kOhms'"
   ]
  },
  {
   "cell_type": "markdown",
   "metadata": {},
   "source": [
    "## Example No. 29_8 Page No.  952"
   ]
  },
  {
   "cell_type": "code",
   "execution_count": 16,
   "metadata": {
    "collapsed": false
   },
   "outputs": [
    {
     "name": "stdout",
     "output_type": "stream",
     "text": [
      "The Base Voltage = 9.00 Volts\n",
      "The Emitter Voltage = 8.30 Volts\n",
      "The Collector current = 0.01 Amps\n",
      "i.e 5.53 mAmps\n",
      "The Collector Voltage = 20.00 Volts\n",
      "The Collector-Emmiter Voltage = 11.70 Volts\n",
      "The AC emmiter resistance = 4.52 Ohms\n",
      "Approx 4.52 Ohms\n",
      "The Voltage gain =0.99\n",
      "The Input Base Impedence = 120903.61 Ohms\n",
      "i.e 120.9 kOhms\n",
      "The Input Impedence = 9150.71 Ohms\n",
      "i.e 9.15 kOhms\n",
      "The AC base voltage = 4.69 Volts(p-p)\n",
      "The AC output voltage = 4.66 Volts(p-p)\n",
      "Q(11.700000,0.005533)\n",
      "\n"
     ]
    },
    {
     "data": {
      "image/png": "[encoded data removed]",
      "text/plain": [
       "<matplotlib.figure.Figure at 0x7fb8844408d0>"
      ]
     },
     "metadata": {},
     "output_type": "display_data"
    }
   ],
   "source": [
    "%matplotlib inline\n",
    "from matplotlib.pyplot import plot,xlabel,title,ylabel,show\n",
    "# Calculate the following quantities: Vb, Ve, Ic, Vc, Vce, r'e, Zin(base), Zin, Av, vb, and vout. Also, plot the dc load line.\n",
    "\n",
    "# Given data\n",
    "\n",
    "R1 = 22.*10**3#   # Resistance1=22 kOhms\n",
    "R2 = 18.*10**3#   # Resistance2=18 kOhms\n",
    "Rg = 600.#       # Generator resistance=600 Ohms\n",
    "Re = 1.5*10**3#  # Emitter resistance=1.5 kOhms\n",
    "Rl = 1.*10**3#    # Load resistance=1 kOhms\n",
    "Vcc = 20.#       # Supply Voltage=20 Volts\n",
    "Vbe = 0.7#      # Voltage Base-Emitter=0.7 Volts\n",
    "B = 200.#        # Beta=200\n",
    "vin = 5.#        # Input Voltage=5 Volts(p-p)\n",
    "\n",
    "# Calculate the DC quantities first:\n",
    "\n",
    "Vb = Vcc*(R2/(R1+R2))#\n",
    "print 'The Base Voltage = %0.2f Volts'%Vb\n",
    "\n",
    "Ve = Vb-Vbe#\n",
    "print 'The Emitter Voltage = %0.2f Volts'%Ve\n",
    "\n",
    "Ie = Ve/Re#\n",
    "Ic = Ie#        # Ic =~ Ie\n",
    "print 'The Collector current = %0.2f Amps'%Ic\n",
    "print 'i.e 5.53 mAmps'\n",
    "\n",
    "Vc = Vcc#       # Since the collector is tied directly to Vcc\n",
    "print 'The Collector Voltage = %0.2f Volts'%Vc\n",
    "\n",
    "Vce = Vcc-Ve#\n",
    "print 'The Collector-Emmiter Voltage = %0.2f Volts'%Vce\n",
    "\n",
    "Icsat = Vcc/Re#\n",
    "\n",
    "Vceoff = Vcc#\n",
    "\n",
    "# Now, calculate AC quantities:\n",
    "\n",
    "a = 25.*10**-3#\n",
    "\n",
    "re = a/Ie#\n",
    "print 'The AC emmiter resistance = %0.2f Ohms'%re\n",
    "print 'Approx 4.52 Ohms'\n",
    "\n",
    "b = Re*Rl#\n",
    "c = Re+Rl#\n",
    "rl = b/c#\n",
    "\n",
    "Av = rl/(rl+re)#\n",
    "print 'The Voltage gain =%0.2f'%Av\n",
    "\n",
    "Zinbase = B*(re+rl)#\n",
    "print 'The Input Base Impedence = %0.2f Ohms'%Zinbase\n",
    "print 'i.e 120.9 kOhms'\n",
    "\n",
    "d = 1./Zinbase#\n",
    "e = 1./R1#\n",
    "f = 1./R2#\n",
    "\n",
    "Zin = (d+e+f)**-1\n",
    "print 'The Input Impedence = %0.2f Ohms'%Zin\n",
    "print 'i.e 9.15 kOhms'\n",
    "\n",
    "vb = vin*(Zin/(Zin+Rg))#\n",
    "print 'The AC base voltage = %0.2f Volts(p-p)'%vb\n",
    "\n",
    "vout = Av*vb#\n",
    "print 'The AC output voltage = %0.2f Volts(p-p)'%vout\n",
    "\n",
    "Icq = Ic\n",
    "Vceq = Vce\n",
    "\n",
    "Vce1=[Vcc, Vceq, 0]\n",
    "Ic1=[0 ,Icq ,Icsat]\n",
    "\n",
    "#To plot DC load line\n",
    "\n",
    "print \"Q(%f,%f)\\n\"%(Vceq,Icq)\n",
    "plot(Vce1, Ic1)\n",
    "plot(Vceq,Icq)\n",
    "plot(0,Icq)\n",
    "plot(Vceq,0)\n",
    "plot(0,Icsat)\n",
    "plot(Vceoff,0)\n",
    "xlabel(\"Vce in Volt\")\n",
    "ylabel(\"Ic in mAmps\")\n",
    "title(\"DC Load-line for Emitter Follower Circuit\")\n",
    "show()"
   ]
  },
  {
   "cell_type": "markdown",
   "metadata": {},
   "source": [
    "## Example No. 29_9 Page No.  963"
   ]
  },
  {
   "cell_type": "code",
   "execution_count": 18,
   "metadata": {
    "collapsed": false
   },
   "outputs": [
    {
     "name": "stdout",
     "output_type": "stream",
     "text": [
      "The Emmiter current = 0.0046 Amps\n",
      "i.e 4.61 mApms\n",
      "The Collector-Base Voltage = 8.08 Volts\n",
      "Approx 8.09 Volts\n",
      "The AC emmiter resistance = 5.42 Ohms\n",
      "The Voltage gain =138.33\n",
      "The AC output voltage = 3.46 Volts(p-p)\n",
      "Approx 3.46 Volts(p-p)\n",
      "The Input Impedence = 5.41 Ohms\n"
     ]
    }
   ],
   "source": [
    "# Calculate the following: Ie, Vcb, r'\u0005e, Av, vout and zin.\n",
    "\n",
    "# Given data\n",
    "\n",
    "Rc = 1.5*10**3#      # Collector resistance=1.5 kOhms\n",
    "Re = 1.8*10**3#      # Emitter resistance=1.8 kOhms\n",
    "Rl = 1.5*10**3#      # Load resistance=1.5 kOhms\n",
    "Vcc = 15.#           # +ve Supply Voltage=15 Volts\n",
    "Vee = 9.#            # -ve Supply Voltage=9 Volts\n",
    "Vbe = 0.7#          # Voltage Base-Emitter=0.7 Volts\n",
    "vin = 25.*10**-3#     # Input Voltage=25 mVolts(p-p)\n",
    "\n",
    "\n",
    "Ie = (Vee-Vbe)/Re#\n",
    "print 'The Emmiter current = %0.4f Amps'%Ie\n",
    "print 'i.e 4.61 mApms'\n",
    "\n",
    "Ic = Ie#        # Ic =~ Ie\n",
    "\n",
    "Vcb = Vcc-(Ic*Rc)#\n",
    "print 'The Collector-Base Voltage = %0.2f Volts'%Vcb\n",
    "print 'Approx 8.09 Volts'\n",
    "\n",
    "a = 25.*10**-3#\n",
    "\n",
    "re = a/Ie#\n",
    "print 'The AC emmiter resistance = %0.2f Ohms'%re\n",
    "\n",
    "b = Rc*Rl#\n",
    "c = Rc+Rl#\n",
    "\n",
    "rl = b/c#\n",
    "\n",
    "Av = rl/re#\n",
    "print 'The Voltage gain =%0.2f'%Av\n",
    "\n",
    "vout = Av*vin#\n",
    "print 'The AC output voltage = %0.2f Volts(p-p)'%vout\n",
    "print 'Approx 3.46 Volts(p-p)'\n",
    "\n",
    "d = Re*re\n",
    "e = Re+re\n",
    "\n",
    "Zin = d/e#\n",
    "print 'The Input Impedence = %0.2f Ohms'%Zin"
   ]
  },
  {
   "cell_type": "markdown",
   "metadata": {},
   "source": [
    "## Example No. 29_10 Page No.  968"
   ]
  },
  {
   "cell_type": "code",
   "execution_count": 19,
   "metadata": {
    "collapsed": false
   },
   "outputs": [
    {
     "name": "stdout",
     "output_type": "stream",
     "text": [
      "The AC output voltage = 1.45 Volts(p-p)\n"
     ]
    }
   ],
   "source": [
    "# Calculate the ac output voltage, vout.\n",
    "\n",
    "# Given data\n",
    "\n",
    "Rc = 1.2*10**3#      # Collector resistance=1.2 kOhms\n",
    "Re = 2.2*10**3#      # Emitter resistance=2.2 kOhms\n",
    "Rl = 3.3*10**3#      # Load resistance=3.3 kOhms\n",
    "Rg = 600.#           # Generator Resistance=600 Ohms\n",
    "Vcc = 12.#           # +ve Supply Voltage=15 Volts\n",
    "Vee = 12.#           # -ve Supply Voltage=9 Volts\n",
    "Vbe = 0.7#          # Voltage Base-Emitter=0.7 Volts\n",
    "vin = 1.#            # Input Voltage=1 Volts(p-p)\n",
    "\n",
    "Ie = (Vee-Vbe)/Re#\n",
    "\n",
    "a = 25*10**-3#\n",
    "re = a/Ie#\n",
    "\n",
    "b = Rc*Rl#\n",
    "c = Rc+Rl#\n",
    "rl = b/c#\n",
    "\n",
    "Av = rl/re#\n",
    "\n",
    "d = Re*re\n",
    "e = Re+re\n",
    "Zin = d/e#\n",
    "\n",
    "ve = vin*(Zin/(Zin+Rg))#\n",
    "\n",
    "vout = Av*ve#\n",
    "print 'The AC output voltage = %0.2f Volts(p-p)'%vout"
   ]
  }
 ],
 "metadata": {
  "kernelspec": {
   "display_name": "Python 2",
   "language": "python",
   "name": "python2"
  },
  "language_info": {
   "codemirror_mode": {
    "name": "ipython",
    "version": 2
   },
   "file_extension": ".py",
   "mimetype": "text/x-python",
   "name": "python",
   "nbconvert_exporter": "python",
   "pygments_lexer": "ipython2",
   "version": "2.7.9"
  }
 },
 "nbformat": 4,
 "nbformat_minor": 0
}
