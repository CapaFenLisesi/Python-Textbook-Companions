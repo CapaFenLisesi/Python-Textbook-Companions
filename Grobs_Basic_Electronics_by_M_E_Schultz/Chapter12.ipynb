{
 "cells": [
  {
   "cell_type": "markdown",
   "metadata": {},
   "source": [
    "# Chapter 12 : Batteries"
   ]
  },
  {
   "cell_type": "markdown",
   "metadata": {},
   "source": [
    "## Example No. 12_1 Page No.  368"
   ]
  },
  {
   "cell_type": "code",
   "execution_count": 1,
   "metadata": {
    "collapsed": false
   },
   "outputs": [
    {
     "name": "stdout",
     "output_type": "stream",
     "text": [
      "The Resistance ri = 10 Ohms\n"
     ]
    }
   ],
   "source": [
    "# Calculate ri if the output of a generator drops from 100 V with zero load current to 80 V when Il is 2 A.\n",
    "\n",
    "# Given data\n",
    "\n",
    "Vo0 = 100#      # Vo at zero load current=100 Volts\n",
    "Vo1 = 80#       # Vo at 2 A load current=80 Volts\n",
    "Il = 2#         # Load current=2 Amps\n",
    "\n",
    "Ri = (Vo0-Vo1)/Il#\n",
    "print 'The Resistance ri = %0.f Ohms'%Ri"
   ]
  }
 ],
 "metadata": {
  "kernelspec": {
   "display_name": "Python 2",
   "language": "python",
   "name": "python2"
  },
  "language_info": {
   "codemirror_mode": {
    "name": "ipython",
    "version": 2
   },
   "file_extension": ".py",
   "mimetype": "text/x-python",
   "name": "python",
   "nbconvert_exporter": "python",
   "pygments_lexer": "ipython2",
   "version": "2.7.9"
  }
 },
 "nbformat": 4,
 "nbformat_minor": 0
}
