{
 "cells": [
  {
   "cell_type": "markdown",
   "metadata": {},
   "source": [
    "# Chapter17 : Capacitive Reactance"
   ]
  },
  {
   "cell_type": "markdown",
   "metadata": {},
   "source": [
    "## Example No. 17_1 Page No.  530"
   ]
  },
  {
   "cell_type": "code",
   "execution_count": 2,
   "metadata": {
    "collapsed": false
   },
   "outputs": [
    {
     "name": "stdout",
     "output_type": "stream",
     "text": [
      "The Capacitive Reactance = 1136.82 Ohms\n",
      "approx 1140 Ohms\n",
      "The Capacitive Reactance = 113.68 Ohms\n",
      "approx 114 Ohms\n"
     ]
    }
   ],
   "source": [
    "from math import pi\n",
    "# How much is Xc for (a) 0.1 u\u0003F of C at 1400 Hz? (b) 1 u\u0003F of C at the same frequency?\n",
    "\n",
    "# Given data\n",
    "\n",
    "f = 1400#           # Frequency=1400 Hz\n",
    "C1 = 0.1*10**-6#     # Cap1=0.1 uF\n",
    "C2 = 1*10**-6#       # Cap2=1 uF\n",
    "\n",
    "Xc1 = 1./(2.*pi*f*C1)#\n",
    "print 'The Capacitive Reactance = %0.2f Ohms'%Xc1\n",
    "print 'approx 1140 Ohms'\n",
    "\n",
    "Xc2 = 1./(2.*pi*f*C2)#\n",
    "print 'The Capacitive Reactance = %0.2f Ohms'%Xc2\n",
    "print 'approx 114 Ohms'"
   ]
  },
  {
   "cell_type": "markdown",
   "metadata": {},
   "source": [
    "## Example No. 17_2 Page No.  530"
   ]
  },
  {
   "cell_type": "code",
   "execution_count": 3,
   "metadata": {
    "collapsed": false
   },
   "outputs": [
    {
     "name": "stdout",
     "output_type": "stream",
     "text": [
      "The Capacitive Reactance = 3386.28 Ohms\n",
      "approx 3388 Ohms\n",
      "The Capacitive Reactance = 338.63 Ohms\n"
     ]
    }
   ],
   "source": [
    "from math import pi\n",
    "#How much is the Xc of a 47-pF value of C at (a) 1 MHz? (b) 10 MHz?\n",
    "\n",
    "# Given data\n",
    "\n",
    "f1 = 1*10**6#   # Frequency1=1 MHz\n",
    "f2 = 10*10**6#  # Frequency2=10 MHz\n",
    "C = 47*10**-12# # Cap=47 pF\n",
    "\n",
    "# For 1 MHz\n",
    "\n",
    "Xc1 = 1./(2.*pi*f1*C)#\n",
    "print 'The Capacitive Reactance = %0.2f Ohms'%Xc1\n",
    "print 'approx 3388 Ohms'\n",
    "\n",
    "# For 10 MHz\n",
    "\n",
    "Xc2 = 1./(2.*pi*f2*C)#\n",
    "print 'The Capacitive Reactance = %0.2f Ohms'%Xc2"
   ]
  },
  {
   "cell_type": "markdown",
   "metadata": {},
   "source": [
    "## Example No. 17_3 Page No.  532"
   ]
  },
  {
   "cell_type": "code",
   "execution_count": 4,
   "metadata": {
    "collapsed": false
   },
   "outputs": [
    {
     "name": "stdout",
     "output_type": "stream",
     "text": [
      "The Capacitance = 4.68e-10 Farads\n",
      "approx 468 pF\n"
     ]
    }
   ],
   "source": [
    "from math import pi\n",
    "# What C is needed for Xc of 100 Ohms\u0003 at 3.4 MHz?\n",
    "\n",
    "# Given data\n",
    "\n",
    "f = 3.4*10**6#   # Frequency=3.4 MHz\n",
    "Xc = 100# # Capacitive Reactance=100 Ohms\n",
    "\n",
    "C = 1./(2.*pi*f*Xc)#\n",
    "print 'The Capacitance = %0.2e Farads'%C\n",
    "print 'approx 468 pF'"
   ]
  },
  {
   "cell_type": "markdown",
   "metadata": {},
   "source": [
    "## Example No. 17_4 Page No.  533"
   ]
  },
  {
   "cell_type": "code",
   "execution_count": 5,
   "metadata": {
    "collapsed": false
   },
   "outputs": [
    {
     "name": "stdout",
     "output_type": "stream",
     "text": [
      "The Frequency = 159.15 Hertz\n",
      "approx 159 Hz\n"
     ]
    }
   ],
   "source": [
    "from math import pi\n",
    "# At what frequency will a 10 uF capacitor have Xc equal to 100 Ohms\u0003?\n",
    "\n",
    "# Given data\n",
    "\n",
    "Xc = 100# # Capacitive Reactance=100 Ohms\n",
    "C = 10*10**-6# # Cap=10 uF\n",
    "\n",
    "f = 1./(2.*pi*C*Xc)#\n",
    "print 'The Frequency = %0.2f Hertz'%f\n",
    "print 'approx 159 Hz'"
   ]
  },
  {
   "cell_type": "markdown",
   "metadata": {},
   "source": [
    "## Example No. 17_5 Page No.  534"
   ]
  },
  {
   "cell_type": "code",
   "execution_count": 7,
   "metadata": {
    "collapsed": false
   },
   "outputs": [
    {
     "name": "stdout",
     "output_type": "stream",
     "text": [
      "The Instantaneous Value of Charging Current ic produced = 3.00e-04 Amps\n",
      "i.e 300 uAmps\n"
     ]
    }
   ],
   "source": [
    "# Calculate the instantaneous value of charging current ic produced by a 6 u\u0003F C when its potential difference is increased by 50 V in 1 s.\n",
    "\n",
    "# Given data\n",
    "\n",
    "C = 6*10**-6#    # Cap=6 uF\n",
    "dv = 50.#        # differential voltage increased by 50 Volts\n",
    "dt = 1.#         # differectial time is 1 sec\n",
    "\n",
    "ic = C*(dv/dt)#\n",
    "print 'The Instantaneous Value of Charging Current ic produced = %0.2e Amps'%ic\n",
    "print 'i.e 300 uAmps'"
   ]
  },
  {
   "cell_type": "markdown",
   "metadata": {},
   "source": [
    "## Example No. 17_6 Page No.  535"
   ]
  },
  {
   "cell_type": "code",
   "execution_count": 8,
   "metadata": {
    "collapsed": false
   },
   "outputs": [
    {
     "name": "stdout",
     "output_type": "stream",
     "text": [
      "The Instantaneous Value of Discharging Current ic produced = -3.00e-04 Amps\n",
      "i.e -300 uAmps\n"
     ]
    }
   ],
   "source": [
    "# Calculate the instantaneous value of charging current ic produced by a 6 u\u0003F C when its potential difference is decreased by 50 V in 1 s.\n",
    "\n",
    "# Given data\n",
    "\n",
    "C = 6*10**-6#    # Cap=6 uF\n",
    "dv = -50.#        # differential voltage decreased by 50 Volts\n",
    "dt = 1.#         # differectial time is 1 sec\n",
    "\n",
    "ic = C*(dv/dt)#\n",
    "print 'The Instantaneous Value of Discharging Current ic produced = %0.2e Amps'%ic\n",
    "print 'i.e -300 uAmps'"
   ]
  },
  {
   "cell_type": "markdown",
   "metadata": {},
   "source": [
    "## Example No. 17_7 Page No.  536"
   ]
  },
  {
   "cell_type": "code",
   "execution_count": 9,
   "metadata": {
    "collapsed": false
   },
   "outputs": [
    {
     "name": "stdout",
     "output_type": "stream",
     "text": [
      "The Instantaneous Value of ic produced = 1.25e-02 Amps\n",
      "12500 uAmps or 12.5 mAmps\n"
     ]
    }
   ],
   "source": [
    "# Calculate ic produced by a 250-pF capacitor for a change of 50 V in 1 u\u0002s.\n",
    "\n",
    "# Given data\n",
    "\n",
    "C = 250*10**-12#    # Cap=250 pF\n",
    "dv = 50.#           # differential voltage increased by 50 Volts\n",
    "dt = 1.*10**-6#      # differectial time is 1 usec\n",
    "\n",
    "ic = C*(dv/dt)#\n",
    "print 'The Instantaneous Value of ic produced = %0.2e Amps'%ic\n",
    "print '12500 uAmps or 12.5 mAmps'"
   ]
  }
 ],
 "metadata": {
  "kernelspec": {
   "display_name": "Python 2",
   "language": "python",
   "name": "python2"
  },
  "language_info": {
   "codemirror_mode": {
    "name": "ipython",
    "version": 2
   },
   "file_extension": ".py",
   "mimetype": "text/x-python",
   "name": "python",
   "nbconvert_exporter": "python",
   "pygments_lexer": "ipython2",
   "version": "2.7.9"
  }
 },
 "nbformat": 4,
 "nbformat_minor": 0
}
