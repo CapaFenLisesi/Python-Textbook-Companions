{
 "cells": [
  {
   "cell_type": "markdown",
   "metadata": {},
   "source": [
    "# Chapter14 : Electromagnetism"
   ]
  },
  {
   "cell_type": "markdown",
   "metadata": {},
   "source": [
    "## Example No. 14_1 Page No.  421"
   ]
  },
  {
   "cell_type": "code",
   "execution_count": 1,
   "metadata": {
    "collapsed": false
   },
   "outputs": [
    {
     "name": "stdout",
     "output_type": "stream",
     "text": [
      "The Amps-Turn (A.t) of Magneto-Motive Force (mmf) = 10.00 A.t\n"
     ]
    }
   ],
   "source": [
    "# Calculate the ampere-turns of mmf for a coil with 2000 turns and a 5-mA current.\n",
    "\n",
    "# Given data\n",
    "\n",
    "I = 5*10**-3#        # Current=5 mAmps\n",
    "N = 2000#           # No. of Turns=2000\n",
    "\n",
    "mmf = I*N#\n",
    "print 'The Amps-Turn (A.t) of Magneto-Motive Force (mmf) = %0.2f A.t'%mmf"
   ]
  },
  {
   "cell_type": "markdown",
   "metadata": {},
   "source": [
    "## Example No. 14_2 Page No.  421"
   ]
  },
  {
   "cell_type": "code",
   "execution_count": 2,
   "metadata": {
    "collapsed": false
   },
   "outputs": [
    {
     "name": "stdout",
     "output_type": "stream",
     "text": [
      "The Turns necessary are :  150\n"
     ]
    }
   ],
   "source": [
    "# A coil with 4 A is to provide a magnetizing force of 600 A\u0002 t. How many turns are necessary?\n",
    "\n",
    "# Given data\n",
    "\n",
    "I = 4#        # Current=4 Amps\n",
    "mmf = 600#    # Magnetizing Force=600 A.t\n",
    "\n",
    "N = mmf/I#\n",
    "print 'The Turns necessary are : ',N"
   ]
  },
  {
   "cell_type": "markdown",
   "metadata": {},
   "source": [
    "## Example No. 14_3 Page No.  424"
   ]
  },
  {
   "cell_type": "code",
   "execution_count": 3,
   "metadata": {
    "collapsed": false
   },
   "outputs": [
    {
     "name": "stdout",
     "output_type": "stream",
     "text": [
      "The Current necessary = 2 Amps\n"
     ]
    }
   ],
   "source": [
    "# A coil with 400 turns must provide 800 A\u0002 t of magnetizing force. How much current is necessary?\n",
    "\n",
    "# Given data\n",
    "\n",
    "mmf = 800#    # Magnetizing Force=800 A.t\n",
    "N = 400#      # No. of Turns=400\n",
    "\n",
    "I = mmf/N#\n",
    "print 'The Current necessary = %0.f Amps'%I"
   ]
  },
  {
   "cell_type": "markdown",
   "metadata": {},
   "source": [
    "## Example No. 14_4 Page No.  426"
   ]
  },
  {
   "cell_type": "code",
   "execution_count": 4,
   "metadata": {
    "collapsed": false
   },
   "outputs": [
    {
     "name": "stdout",
     "output_type": "stream",
     "text": [
      "The Current necessary when a wire is connected to 6-V Battery = 2 Amps\n",
      "The Amps-Turn (A.t) of Magneto-Motive Force (mmf) = 500 A.t\n"
     ]
    }
   ],
   "source": [
    "# The wire in a solenoid of 250 turns has a resistance of 3 Ohms. (a)How much is the current when the coil is connected to a 6-V battery? (b) Calculate the ampereturns of mmf.\n",
    "\n",
    "# Given data\n",
    "\n",
    "V = 6#             # Voltage=6 Volts\n",
    "R = 3#             # Resistance=3 Ohms\n",
    "N = 250#           # No. of Turns=250\n",
    "\n",
    "I = V/R#\n",
    "print 'The Current necessary when a wire is connected to 6-V Battery = %0.f Amps'%I\n",
    "\n",
    "mmf = I*N#\n",
    "print 'The Amps-Turn (A.t) of Magneto-Motive Force (mmf) = %0.f A.t'%mmf"
   ]
  },
  {
   "cell_type": "markdown",
   "metadata": {},
   "source": [
    "## Example No. 14_5 Page No.  426"
   ]
  },
  {
   "cell_type": "code",
   "execution_count": 7,
   "metadata": {
    "collapsed": false
   },
   "outputs": [
    {
     "name": "stdout",
     "output_type": "stream",
     "text": [
      "The Absolute u as B/H in CGS = 500 (G/Oe)\n",
      "The Absolute u as B/H in SI = 6.300e-04 (T/(A.t/m))\n",
      "i.e 630*10**-6 T/(A.t/m)\n"
     ]
    }
   ],
   "source": [
    "# A magnetic material has a \u0003ur of 500. Calculate the absolute u\u0003 as B/H (a) in CGS units and (b) in SI units.\n",
    "\n",
    "# Given data\n",
    "\n",
    "ur = 500#         # ur=500\n",
    "uoa = 1#          # uo for CGS Units=1\n",
    "uob = 1.26*10**-6# # uo for SI Units=1.26 u\n",
    "\n",
    "ua = ur*uoa#\n",
    "print 'The Absolute u as B/H in CGS = %0.f (G/Oe)'%ua\n",
    "\n",
    "ub = ur*uob#\n",
    "print 'The Absolute u as B/H in SI = %0.3e (T/(A.t/m))'%ub\n",
    "print 'i.e 630*10**-6 T/(A.t/m)'"
   ]
  },
  {
   "cell_type": "markdown",
   "metadata": {},
   "source": [
    "## Example No. 14_6 Page No.  427"
   ]
  },
  {
   "cell_type": "code",
   "execution_count": 8,
   "metadata": {
    "collapsed": false
   },
   "outputs": [
    {
     "name": "stdout",
     "output_type": "stream",
     "text": [
      "The Flux density = 0.63 Tesla\n"
     ]
    }
   ],
   "source": [
    "# u = 630*10**-\u00056 in SI units, calculate the flux density B that will be produced by the field intensity H equal to 1000 A.t/m.\n",
    "\n",
    "# Given data\n",
    "\n",
    "u = 630*10**-6#      # u=630 micro T/(A.t/m)\n",
    "H = 1000#           # H=1000 A.t/m\n",
    "\n",
    "B = u*H#\n",
    "print 'The Flux density = %0.2f Tesla'%B"
   ]
  }
 ],
 "metadata": {
  "kernelspec": {
   "display_name": "Python 2",
   "language": "python",
   "name": "python2"
  },
  "language_info": {
   "codemirror_mode": {
    "name": "ipython",
    "version": 2
   },
   "file_extension": ".py",
   "mimetype": "text/x-python",
   "name": "python",
   "nbconvert_exporter": "python",
   "pygments_lexer": "ipython2",
   "version": "2.7.9"
  }
 },
 "nbformat": 4,
 "nbformat_minor": 0
}
