{
 "cells": [
  {
   "cell_type": "markdown",
   "metadata": {},
   "source": [
    "# Chapter 23 : Alternating Current Circuits"
   ]
  },
  {
   "cell_type": "markdown",
   "metadata": {},
   "source": [
    "## Example No. 23_1 Page No.  715"
   ]
  },
  {
   "cell_type": "code",
   "execution_count": 3,
   "metadata": {
    "collapsed": false
   },
   "outputs": [
    {
     "name": "stdout",
     "output_type": "stream",
     "text": [
      "Total Impedence Zt = 38.18 Ohms\n",
      "Current I = 0.00 Ampers\n",
      "i.e 1.31 mAmps\n",
      "Theta z = 45.00 Degree\n"
     ]
    }
   ],
   "source": [
    "from math import sqrt,atan,pi\n",
    "# A 27-Ohms R is in series with 54 Ohms\u0004 of Xl and 27 Ohms\u0004 of Xc. The applied voltage Vt is 50 mV. Calculate ZT, I, and Theta z.\n",
    "\n",
    "# Given data\n",
    "\n",
    "R = 27.#         # Resistance=27 Ohms\n",
    "Xl = 54.#        # Inductive reactance=54 Ohms\n",
    "Vt = 50.*10**-3#  # Applied voltage=100 Volts\n",
    "Xc = 27.#        # Capacitive reactance=27 Ohms\n",
    "\n",
    "nXl = Xl-Xc#    # Net Inductive reactance\n",
    "R1 = R*R#\n",
    "nXl1 = nXl*nXl#\n",
    "\n",
    "Zt = sqrt(R1+nXl1)#\n",
    "print 'Total Impedence Zt = %0.2f Ohms'%Zt\n",
    "\n",
    "I = (Vt/Zt)#\n",
    "print  'Current I = %0.2f Ampers'%I\n",
    "print 'i.e 1.31 mAmps'\n",
    "\n",
    "Oz = atan(Xc/R)*180/pi\n",
    "print  'Theta z = %0.2f Degree'%Oz"
   ]
  },
  {
   "cell_type": "markdown",
   "metadata": {},
   "source": [
    "## Example No. 23_2 Page No. 717"
   ]
  },
  {
   "cell_type": "code",
   "execution_count": 4,
   "metadata": {
    "collapsed": false
   },
   "outputs": [
    {
     "name": "stdout",
     "output_type": "stream",
     "text": [
      "The Total Current It = 0.00 Amps\n",
      "i.e 2.55 mAmps\n",
      "The Equivqlent Impedence Zeq = 19.64 Ohms\n",
      "approx 19.61 Ohms\n",
      "Theta z = -45.00 Degree\n"
     ]
    }
   ],
   "source": [
    "from math import atan,pi,sqrt\n",
    "# The following branch currents are supplied from a 50-mV source: Ir=1.8 mA# Il=2.8 mA# Ic=1 mA. Calculate It, Zeq, and Theta I.\n",
    "\n",
    "# Given data\n",
    "\n",
    "Va = 50.*10**-3#      # Applied voltage=50m Volts\n",
    "Ir = 1.8*10**-3#     # Ir=1.8 mAmps\n",
    "Il = 2.8*10**-3#     # Ir=2.8 mAmps\n",
    "Ic = 1.*10**-3#       # Ic=1 mAmps\n",
    "\n",
    "nI = Il-Ic#         # net current\n",
    "Ir1 = Ir*Ir#\n",
    "nI1 = nI*nI#\n",
    "\n",
    "It = sqrt(Ir1+nI1)#\n",
    "print 'The Total Current It = %0.2f Amps'%It\n",
    "print 'i.e 2.55 mAmps'\n",
    "\n",
    "Zeq = Va/It#\n",
    "print 'The Equivqlent Impedence Zeq = %0.2f Ohms'%Zeq\n",
    "print 'approx 19.61 Ohms'\n",
    "\n",
    "Oz = atan(-(nI/Ir))*180/pi\n",
    "print 'Theta z = %0.2f Degree'%Oz"
   ]
  }
 ],
 "metadata": {
  "kernelspec": {
   "display_name": "Python 2",
   "language": "python",
   "name": "python2"
  },
  "language_info": {
   "codemirror_mode": {
    "name": "ipython",
    "version": 2
   },
   "file_extension": ".py",
   "mimetype": "text/x-python",
   "name": "python",
   "nbconvert_exporter": "python",
   "pygments_lexer": "ipython2",
   "version": "2.7.9"
  }
 },
 "nbformat": 4,
 "nbformat_minor": 0
}
