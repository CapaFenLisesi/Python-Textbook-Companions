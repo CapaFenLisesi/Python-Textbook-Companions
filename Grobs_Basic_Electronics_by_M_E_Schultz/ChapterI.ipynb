{
 "cells": [
  {
   "cell_type": "markdown",
   "metadata": {},
   "source": [
    "# Chapter - I : Introduction to powers of 10"
   ]
  },
  {
   "cell_type": "markdown",
   "metadata": {},
   "source": [
    "## Example No. I_9 Page No.  9"
   ]
  },
  {
   "cell_type": "code",
   "execution_count": 24,
   "metadata": {
    "collapsed": false
   },
   "outputs": [
    {
     "name": "stdout",
     "output_type": "stream",
     "text": [
      "The addition of 170*10**3 and 23*10**4 =4.00E+05\n"
     ]
    }
   ],
   "source": [
    "# Add 170*10**3 and 23*10**4. Express the final answer in scientific notation.\n",
    "\n",
    "# Given data\n",
    "\n",
    "A = 170*10**3#       # Variable 1\n",
    "B = 23*10**4#        # Variable 2\n",
    "\n",
    "C = A+B#\n",
    "print 'The addition of 170*10**3 and 23*10**4 =%0.2E'%C"
   ]
  },
  {
   "cell_type": "markdown",
   "metadata": {},
   "source": [
    "## Example No. I_10 Page No.  9"
   ]
  },
  {
   "cell_type": "code",
   "execution_count": 25,
   "metadata": {
    "collapsed": false
   },
   "outputs": [
    {
     "name": "stdout",
     "output_type": "stream",
     "text": [
      "The substraction of 250*10**3 and 1.5*10**6 =1.25E+06\n"
     ]
    }
   ],
   "source": [
    "# Substract 250*10**3 and 1.5*10**6. Express the final answer in scientific notation.\n",
    "\n",
    "# Given data\n",
    "\n",
    "A = 1.5*10**6#       # Variable 1\n",
    "B = 250*10**3#       # Variable 2\n",
    "\n",
    "C = A-B#\n",
    "print 'The substraction of 250*10**3 and 1.5*10**6 =%0.2E'%C"
   ]
  },
  {
   "cell_type": "markdown",
   "metadata": {},
   "source": [
    "## Example No. I_11 Page No.  10"
   ]
  },
  {
   "cell_type": "code",
   "execution_count": 26,
   "metadata": {
    "collapsed": false
   },
   "outputs": [
    {
     "name": "stdout",
     "output_type": "stream",
     "text": [
      "The multiplication of 3*10**6 by 150*10**2 =4.50E+10\n"
     ]
    }
   ],
   "source": [
    "# Multiply 3*10**6 by 150*10**2. Express the final answer in scientific notation.\n",
    "\n",
    "# Given data\n",
    "\n",
    "A = 3*10**6#         # Variable 1\n",
    "B = 150*10**2#       # Variable 2\n",
    "\n",
    "C = A*B#\n",
    "print 'The multiplication of 3*10**6 by 150*10**2 =%0.2E'%C"
   ]
  },
  {
   "cell_type": "markdown",
   "metadata": {},
   "source": [
    "## Example No. I_12 Page No.  10"
   ]
  },
  {
   "cell_type": "code",
   "execution_count": 27,
   "metadata": {
    "collapsed": false
   },
   "outputs": [
    {
     "name": "stdout",
     "output_type": "stream",
     "text": [
      "The division of 5.0*10**7 by 2.0*10**4 =2.50E+03\n"
     ]
    }
   ],
   "source": [
    "# Divide 5.0*10**7 by 2.0*10**4. Express the final answer in scientific notation.\n",
    "\n",
    "# Given data\n",
    "\n",
    "A = 5.0*10**7#       # Variable 1\n",
    "B = 2.0*10**4#       # Variable 2\n",
    "\n",
    "C = A/B#\n",
    "print 'The division of 5.0*10**7 by 2.0*10**4 =%0.2E'%C"
   ]
  },
  {
   "cell_type": "markdown",
   "metadata": {},
   "source": [
    "## Example No. I_13 Page No.  10"
   ]
  },
  {
   "cell_type": "code",
   "execution_count": 28,
   "metadata": {
    "collapsed": false
   },
   "outputs": [
    {
     "name": "stdout",
     "output_type": "stream",
     "text": [
      "The reciprocal of 10**5 =1.00e-05\n",
      "i.e 10**-5\n",
      "The reciprocal of 10-3 = 1.00e+03\n",
      "i.e 10**3\n"
     ]
    }
   ],
   "source": [
    "# Find the reciprocals for the following powers of 10: (a) 10**5 (b) 10**-3.\n",
    "\n",
    "# Given data\n",
    "\n",
    "A = 10**5#       # Variable 1\n",
    "B = 10**-3#      # Variable 2\n",
    "\n",
    "C = 1./A#\n",
    "print 'The reciprocal of 10**5 =%0.2e'%C\n",
    "print 'i.e 10**-5'\n",
    "\n",
    "D = 1./B#\n",
    "print 'The reciprocal of 10-3 = %0.2e'%D\n",
    "print 'i.e 10**3'"
   ]
  },
  {
   "cell_type": "markdown",
   "metadata": {},
   "source": [
    "## Example No. I_14 Page No.  11"
   ]
  },
  {
   "cell_type": "code",
   "execution_count": 29,
   "metadata": {
    "collapsed": false
   },
   "outputs": [
    {
     "name": "stdout",
     "output_type": "stream",
     "text": [
      "The square of 3.0*10**4 =9.00E+08\n"
     ]
    }
   ],
   "source": [
    "# Square 3.0*10**4. Express the answer in scientific notation.\n",
    "\n",
    "# Given data\n",
    "\n",
    "A = 3.0*10**4#       # Variable 1\n",
    "\n",
    "B = A*A#\n",
    "print 'The square of 3.0*10**4 =%0.2E'%B"
   ]
  },
  {
   "cell_type": "markdown",
   "metadata": {},
   "source": [
    "## Example No. I_15 Page No.  11"
   ]
  },
  {
   "cell_type": "code",
   "execution_count": 30,
   "metadata": {
    "collapsed": false
   },
   "outputs": [
    {
     "name": "stdout",
     "output_type": "stream",
     "text": [
      "The squareroot of 4*10**6 = 2.00E+03\n"
     ]
    }
   ],
   "source": [
    "from math import sqrt\n",
    "# Find the squareroot of 4*10**6. Express the answer in scientific notation.\n",
    "\n",
    "# Given data\n",
    "\n",
    "A = 4*10**6#       # Variable 1\n",
    "\n",
    "B = sqrt(A)#\n",
    "print 'The squareroot of 4*10**6 = %0.2E'%B"
   ]
  },
  {
   "cell_type": "markdown",
   "metadata": {},
   "source": [
    "## Example No. I_16 Page No.  12"
   ]
  },
  {
   "cell_type": "code",
   "execution_count": 31,
   "metadata": {
    "collapsed": false
   },
   "outputs": [
    {
     "name": "stdout",
     "output_type": "stream",
     "text": [
      "The squareroot of 90*10**5 =3.00E+03\n"
     ]
    }
   ],
   "source": [
    "from math import sqrt\n",
    "# Find the squareroot of 90*10**5. Express the answer in scientific notation.\n",
    "\n",
    "# Given data\n",
    "\n",
    "A = 90*10**5#       # Variable 1\n",
    "\n",
    "B = sqrt(A)#\n",
    "print 'The squareroot of 90*10**5 =%0.2E'% B"
   ]
  },
  {
   "cell_type": "markdown",
   "metadata": {},
   "source": [
    "## Example No. I_17 Page No.  12"
   ]
  },
  {
   "cell_type": "code",
   "execution_count": 32,
   "metadata": {
    "collapsed": false
   },
   "outputs": [
    {
     "name": "stdout",
     "output_type": "stream",
     "text": [
      "The multiplication of 40*10**-3 by 5*10**6 =200000.00\n",
      "i.e 200.000*10**03 OR 200E03\n"
     ]
    }
   ],
   "source": [
    "# Show the keystrokes for multiplying 40*10**-3 by 5*10**6.\n",
    "\n",
    "# Given data\n",
    "\n",
    "A = 40*10**-3#       # Variable 1\n",
    "B = 5*10**6#         # Variable 2\n",
    "\n",
    "C = A*B#\n",
    "print 'The multiplication of 40*10**-3 by 5*10**6 =%0.2f'%C\n",
    "print 'i.e 200.000*10**03 OR 200E03'"
   ]
  }
 ],
 "metadata": {
  "kernelspec": {
   "display_name": "Python 2",
   "language": "python",
   "name": "python2"
  },
  "language_info": {
   "codemirror_mode": {
    "name": "ipython",
    "version": 2
   },
   "file_extension": ".py",
   "mimetype": "text/x-python",
   "name": "python",
   "nbconvert_exporter": "python",
   "pygments_lexer": "ipython2",
   "version": "2.7.9"
  }
 },
 "nbformat": 4,
 "nbformat_minor": 0
}
