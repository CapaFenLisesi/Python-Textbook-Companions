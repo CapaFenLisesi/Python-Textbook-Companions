{
 "cells": [
  {
   "cell_type": "markdown",
   "metadata": {},
   "source": [
    "# Chapter 28 : Bipolar Junction Transistors"
   ]
  },
  {
   "cell_type": "markdown",
   "metadata": {},
   "source": [
    "## Example No. 28_1 Page No.  910"
   ]
  },
  {
   "cell_type": "code",
   "execution_count": 1,
   "metadata": {
    "collapsed": false
   },
   "outputs": [
    {
     "name": "stdout",
     "output_type": "stream",
     "text": [
      "The Emitter Current Ie = 5.00 Amps\n"
     ]
    }
   ],
   "source": [
    "# A transistor has the following currents: Ib is\u0002 20 mA and Ic is 4.98 A. Calculate Ie.\n",
    "\n",
    "# Given data\n",
    "\n",
    "Ib = 20*10**-3#      # Base current=20 mAmps\n",
    "Ic = 4.98#          # Collector current=4.98 Amps\n",
    "\n",
    "Ie = Ic+Ib#\n",
    "print 'The Emitter Current Ie = %0.2f Amps'%Ie"
   ]
  },
  {
   "cell_type": "markdown",
   "metadata": {},
   "source": [
    "## Example No. 28_2 Page No.  912"
   ]
  },
  {
   "cell_type": "code",
   "execution_count": 2,
   "metadata": {
    "collapsed": false
   },
   "outputs": [
    {
     "name": "stdout",
     "output_type": "stream",
     "text": [
      "The Collector Current Ic = 0.09804 Amps\n",
      "i.e 98.04 mAmps\n"
     ]
    }
   ],
   "source": [
    "# A transistor has the following currents: Ie is\u0002 100 mA, Ib is\u0002 1.96 mA. Calculate Ic.\n",
    "\n",
    "# Given data\n",
    "\n",
    "Ie = 100.0*10**-3#      # Emitter current=100 mAmps\n",
    "Ib = 1.96*10**-3#     # Base current=4.98 Amps\n",
    "\n",
    "Ic = Ie-Ib#\n",
    "print 'The Collector Current Ic = %0.5f Amps'%Ic\n",
    "print 'i.e 98.04 mAmps'"
   ]
  },
  {
   "cell_type": "markdown",
   "metadata": {},
   "source": [
    "## Example No. 28_3 Page No.  913"
   ]
  },
  {
   "cell_type": "code",
   "execution_count": 3,
   "metadata": {
    "collapsed": false
   },
   "outputs": [
    {
     "name": "stdout",
     "output_type": "stream",
     "text": [
      "The Base Current Ib = 0.0010 Amps\n",
      "i.e 1 mAmps\n"
     ]
    }
   ],
   "source": [
    "# A transistor has the following currents: Ie is\u0002 50 mA, Ic is\u0002 49 mA. Calculate Ib.\n",
    "\n",
    "# Given data\n",
    "\n",
    "Ie = 50.0*10**-3#      # Emitter current=50 mAmps\n",
    "Ic = 49.0*10**-3#      # Collector current=20 mAmps\n",
    "\n",
    "Ib = Ie-Ic#\n",
    "print 'The Base Current Ib = %0.4f Amps'%Ib\n",
    "print 'i.e 1 mAmps'"
   ]
  },
  {
   "cell_type": "markdown",
   "metadata": {},
   "source": [
    "## Example No. 28_4 Page No.  914"
   ]
  },
  {
   "cell_type": "code",
   "execution_count": 4,
   "metadata": {
    "collapsed": false
   },
   "outputs": [
    {
     "name": "stdout",
     "output_type": "stream",
     "text": [
      "The Value of Alpha(dc) = 0.9960\n"
     ]
    }
   ],
   "source": [
    "# A transistor has the following currents: Ie is\u0002 15 mA, Ib is\u0002 60 u\u0004A. Calculate \u0002Alpha(dc).\n",
    "\n",
    "# Given data\n",
    "\n",
    "Ie = 15.*10**-3#      # Emitter current=15 mAmps\n",
    "Ib = 60.*10**-6#      # Base current=60 uAmps\n",
    "\n",
    "Ic = Ie-Ib#\n",
    "\n",
    "Adc = Ic/Ie#\n",
    "print 'The Value of Alpha(dc) = %0.4f'%Adc"
   ]
  },
  {
   "cell_type": "markdown",
   "metadata": {},
   "source": [
    "## Example No. 28_5 Page No.  916"
   ]
  },
  {
   "cell_type": "code",
   "execution_count": 5,
   "metadata": {
    "collapsed": false
   },
   "outputs": [
    {
     "name": "stdout",
     "output_type": "stream",
     "text": [
      "The Value of Beta(dc) = 200\n"
     ]
    }
   ],
   "source": [
    "# A transistor has the following currents: Ic is\u0002 10 mA and Ib is 50 uA. Calculate Beta(dc).\n",
    "\n",
    "# Given data\n",
    "\n",
    "Ic = 10.*10**-3#      # Collector current=10 mAmps\n",
    "Ib = 50.*10**-6#      # Base current=50 uAmps\n",
    "\n",
    "Bdc = Ic/Ib#\n",
    "print 'The Value of Beta(dc) = %0.f'%Bdc"
   ]
  },
  {
   "cell_type": "markdown",
   "metadata": {},
   "source": [
    "## Example No. 28_6 Page No.  918"
   ]
  },
  {
   "cell_type": "code",
   "execution_count": 6,
   "metadata": {
    "collapsed": false
   },
   "outputs": [
    {
     "name": "stdout",
     "output_type": "stream",
     "text": [
      "The Collector Current Ic = 0.01125 Amps\n",
      "i.e 11.25 mAmps\n"
     ]
    }
   ],
   "source": [
    "# A transistor has Beta(dc) of 150 and Ib of 75 uAmps. Calculate Ic.\n",
    "\n",
    "# Given data\n",
    "\n",
    "Bdc = 150.#          # Beta(dc)=150\n",
    "Ib = 75.*10**-6#      # Base current=75 uAmps\n",
    "\n",
    "Ic = Bdc*Ib#\n",
    "print 'The Collector Current Ic = %0.5f Amps'%Ic\n",
    "print 'i.e 11.25 mAmps'"
   ]
  },
  {
   "cell_type": "markdown",
   "metadata": {},
   "source": [
    "## Example No. 28_7 Page No.  920"
   ]
  },
  {
   "cell_type": "code",
   "execution_count": 7,
   "metadata": {
    "collapsed": false
   },
   "outputs": [
    {
     "name": "stdout",
     "output_type": "stream",
     "text": [
      "The Value of Alpha(dc) = 0.9901\n"
     ]
    }
   ],
   "source": [
    "# A transistor has Beta(dc) of 100. Calculate Alpha(dc).\n",
    "\n",
    "# Given data\n",
    "\n",
    "Bdc = 100.0#  # Beta(dc)=100\n",
    "\n",
    "Adc = Bdc/(1+Bdc)#\n",
    "print 'The Value of Alpha(dc) = %0.4f'%Adc"
   ]
  },
  {
   "cell_type": "markdown",
   "metadata": {},
   "source": [
    "## Example No. 28_8 Page No.  922"
   ]
  },
  {
   "cell_type": "code",
   "execution_count": 8,
   "metadata": {
    "collapsed": false
   },
   "outputs": [
    {
     "name": "stdout",
     "output_type": "stream",
     "text": [
      "The Value of Beta(dc) =199.00\n"
     ]
    }
   ],
   "source": [
    "# A transistor has Alpha(dc) of 0.995. Calculate Beta(dc).\n",
    "\n",
    "# Given data\n",
    "\n",
    "Adc = 0.995#  # Alpha(dc)=100\n",
    "\n",
    "Bdc = Adc/(1-Adc)#\n",
    "print 'The Value of Beta(dc) =%0.2f'%Bdc"
   ]
  },
  {
   "cell_type": "markdown",
   "metadata": {},
   "source": [
    "## Example No. 28_9 Page No.  922"
   ]
  },
  {
   "cell_type": "code",
   "execution_count": 9,
   "metadata": {
    "collapsed": false
   },
   "outputs": [
    {
     "name": "stdout",
     "output_type": "stream",
     "text": [
      "The Power Dissipation = 0.05 Watts\n",
      "i.e 50 mWatts\n"
     ]
    }
   ],
   "source": [
    "# Calculate Pd if Vcc is 10 V and Ib is 50 uAmps. Assume Beta(dc) is 100.\n",
    "\n",
    "# Given data\n",
    "\n",
    "Bdc = 100.#          # Beta(dc)=100\n",
    "Ib = 50.*10**-6#      # Base current=50 uAmps\n",
    "Vcc = 10.#           # Supply voltage=10 Volts\n",
    "\n",
    "Vce = Vcc\n",
    "\n",
    "Ic = Bdc*Ib#\n",
    "\n",
    "Pd = Vce*Ic#\n",
    "print 'The Power Dissipation = %0.2f Watts'%Pd\n",
    "print 'i.e 50 mWatts'"
   ]
  },
  {
   "cell_type": "markdown",
   "metadata": {},
   "source": [
    "## Example No. 28_10 Page No.  922"
   ]
  },
  {
   "cell_type": "code",
   "execution_count": 10,
   "metadata": {
    "collapsed": false
   },
   "outputs": [
    {
     "name": "stdout",
     "output_type": "stream",
     "text": [
      "The Maximum Allowable Collector Current Ic(max) = 0.025 Amps\n",
      "i.e 25 mAmps\n"
     ]
    }
   ],
   "source": [
    "# The transistor has a power rating of 0.5 W. If Vce is\u0002 20 V, calculate the maximum allowable collector current, Ic, that can exist without exceeding the transistor’s power rating.\n",
    "\n",
    "# Given data\n",
    "\n",
    "Pdmax = 0.5#        # Power dissipation(max)=0.5 Watts\n",
    "Vce = 20.#           # Voltage (collector to emitter)=20 Volts\n",
    "\n",
    "Ic = Pdmax/Vce#\n",
    "print 'The Maximum Allowable Collector Current Ic(max) = %0.3f Amps'%Ic\n",
    "print 'i.e 25 mAmps'"
   ]
  },
  {
   "cell_type": "markdown",
   "metadata": {},
   "source": [
    "## Example No. 28_11 Page No.  923"
   ]
  },
  {
   "cell_type": "code",
   "execution_count": 11,
   "metadata": {
    "collapsed": false
   },
   "outputs": [
    {
     "name": "stdout",
     "output_type": "stream",
     "text": [
      "The Power Rating at 50°C = 0.28 Watts\n",
      "i.e 280 mWatts\n"
     ]
    }
   ],
   "source": [
    "# Assume that a transistor has a power rating Pd(max) of 350 mW at an ambient temperature Ta of 25°C. The derating factor is 2.8 mW/°C. Calculate the power rating at 50°C.\n",
    "\n",
    "# Given data\n",
    "\n",
    "f = 2.8*10**-3#      # Derating factor=2.8 mW/°C\n",
    "Pd = 350.*10**-3#     # Power dissipation(max)=350 mWatts\n",
    "Ta = 25.#            # Ambient Temperature=25°C\n",
    "Tp = 50.#            # Power rating at 50°C\n",
    "\n",
    "delT = Tp-Ta#       # Difference between max and min temp\n",
    "\n",
    "delPd = delT*f#\n",
    "\n",
    "Prat = Pd-delPd#\n",
    "print 'The Power Rating at 50°C = %0.2f Watts'%Prat\n",
    "print 'i.e 280 mWatts'"
   ]
  },
  {
   "cell_type": "markdown",
   "metadata": {},
   "source": [
    "## Example No. 28_12 Page No.  923"
   ]
  },
  {
   "cell_type": "code",
   "execution_count": 12,
   "metadata": {
    "collapsed": false
   },
   "outputs": [
    {
     "name": "stdout",
     "output_type": "stream",
     "text": [
      "The Base Current = 0.0000 Amps.\n",
      "Approx 28.97 mAmps\n",
      "The Collector Current = 0.0043 Amps\n",
      "Approx 4.35 mAmps\n",
      "The Voltage Collector-Emitter = 5.48 Volts\n",
      "Q(5.480769,0.004346)\n",
      "\n"
     ]
    },
    {
     "data": {
      "image/png": "[encoded data removed]",
      "text/plain": [
       "<matplotlib.figure.Figure at 0x7fbd5f1197d0>"
      ]
     },
     "metadata": {},
     "output_type": "display_data"
    }
   ],
   "source": [
    "%matplotlib inline\n",
    "from matplotlib.pyplot import plot,xlabel,ylabel,show,title\n",
    "# Solve for Ib, Ic, Vce. Also, Construct a dc load line showing the valuse of Ic(sat), Vce(off), Icq, Vceq.\n",
    "\n",
    "# Given data\n",
    "Vcc = 12.#               # Supply voltage=12 Volts\n",
    "Vbe = 0.7#              # Base-Emitter Voltage=0.7 Volts\n",
    "Rb = 390.*10**3#          # Base Resistor=390K Ohms\n",
    "Rc = 1.5*10**3#          # Collector Resistor=1.5K Ohms\n",
    "B = 150.#                # Beta(dc)=150\n",
    "\n",
    "Ib = (Vcc-Vbe)/Rb#\n",
    "print 'The Base Current = %0.4f Amps.'%Ib\n",
    "print 'Approx 28.97 mAmps'\n",
    "\n",
    "Icq = B*Ib#\n",
    "print 'The Collector Current = %0.4f Amps'%Icq\n",
    "print 'Approx 4.35 mAmps'\n",
    "\n",
    "Vceq = Vcc-(Icq*Rc)#\n",
    "print  'The Voltage Collector-Emitter = %0.2f Volts'%Vceq\n",
    "\n",
    "# For DC load line\n",
    "\n",
    "Icsat = (Vcc/Rc)#\n",
    "Vceoff = Vcc#\n",
    "\n",
    "Vce1=[Vceoff, Vceq ,0]\n",
    "Ic1=[0 ,Icq ,Icsat]\n",
    "\n",
    "#To plot DC load line\n",
    "\n",
    "print \"Q(%f,%f)\\n\"%(Vceq,Icq)\n",
    "plot(Vce1, Ic1)\n",
    "plot(Vceq,Icq)\n",
    "plot(0,Icq)\n",
    "plot(Vceq,0)\n",
    "plot(0,Icsat)\n",
    "plot(Vceoff,0)\n",
    "xlabel(\"Vce in volt\")\n",
    "ylabel(\"Ic in Ampere\")\n",
    "title(\"DC Load-line for Base-Biased Transistor Circuit\")\n",
    "show()      "
   ]
  },
  {
   "cell_type": "markdown",
   "metadata": {},
   "source": [
    "## Example No. 28_13 Page No.  924"
   ]
  },
  {
   "cell_type": "code",
   "execution_count": 13,
   "metadata": {
    "collapsed": false
   },
   "outputs": [
    {
     "name": "stdout",
     "output_type": "stream",
     "text": [
      "The Base Voltage = 2.61 Volts\n",
      "The Emmiter Voltage = 1.91 Volts\n",
      "The Collector Voltage = 10.65 Volts\n",
      "Approx 10.65 Volts\n",
      "The Collector-Emitter Voltage = 8.74 Volts\n",
      "Approx 8.74 Volts\n",
      "The Current Ic(sat) = 0.01 Amps\n",
      "i.e 9.52 mAmps\n",
      "The Voltage Vce(off) = 18.00 Volts\n",
      "Q(8.737067,0.004901)\n",
      "\n"
     ]
    },
    {
     "data": {
      "image/png": "[encoded data removed]",
      "text/plain": [
       "<matplotlib.figure.Figure at 0x7fbd5f078490>"
      ]
     },
     "metadata": {},
     "output_type": "display_data"
    }
   ],
   "source": [
    "%matplotlib inline\n",
    "from matplotlib.pyplot import plot,xlabel,ylabel,show,title\n",
    "\n",
    "# Solve for Vb, Ve, Ic, Vc, and Vce. Also, calculate Ic(sat) and Vce(off). Finally, construct a dc load line showing the values of Ic(sat), Vce(off), Icq, and Vceq.\n",
    "\n",
    "# Given data\n",
    "\n",
    "R1 = 33.*10**3#       # Resistor 1=33 kOhms\n",
    "R2 = 5.6*10**3#      # Resistor 2=5.6 kOhms\n",
    "Rc = 1.5*10**3#      # Collector resistance=1.5 kOhms\n",
    "Re = 390.#           # Emitter resistance=390 Ohms\n",
    "Bdc = 200.#          # Beta(dc)= 200\n",
    "Vcc = 18.#           # Supply voltage = 18 Volts\n",
    "Vbe = 0.7#          # Base-Emmiter Voltage=0.7 Volts\n",
    "\n",
    "Vb = Vcc*(R2/(R1+R2))#\n",
    "print 'The Base Voltage = %0.2f Volts'%Vb\n",
    "\n",
    "Ve = Vb-Vbe#\n",
    "print 'The Emmiter Voltage = %0.2f Volts'%Ve\n",
    "\n",
    "Ie = Ve/Re#         # Emitter current\n",
    "\n",
    "Ic = Ie#\n",
    "\n",
    "Vc = Vcc-(Ic*Rc)#\n",
    "print 'The Collector Voltage = %0.2f Volts'%Vc\n",
    "print 'Approx 10.65 Volts'\n",
    "\n",
    "Vce = Vcc-(Ic*(Rc+Re))#\n",
    "print 'The Collector-Emitter Voltage = %0.2f Volts'%Vce\n",
    "print 'Approx 8.74 Volts'\n",
    "\n",
    "Icsat = Vcc/(Rc+Re)#\n",
    "print 'The Current Ic(sat) = %0.2f Amps'%Icsat\n",
    "print 'i.e 9.52 mAmps'\n",
    "\n",
    "Vceoff = Vcc#\n",
    "print 'The Voltage Vce(off) = %0.2f Volts'%Vceoff\n",
    "\n",
    "Icq = Ic\n",
    "Vceq = Vce\n",
    "\n",
    "Vce1=[Vcc, Vceq, 0]\n",
    "Ic1=[0, Icq, Icsat]\n",
    "\n",
    "#To plot DC load line\n",
    "\n",
    "print \"Q(%f,%f)\\n\"%(Vceq,Icq)\n",
    "plot(Vce1, Ic1)\n",
    "plot(Vceq,Icq)\n",
    "plot(0,Icq)\n",
    "plot(Vceq,0)\n",
    "plot(0,Icsat)\n",
    "plot(Vceoff,0)\n",
    "xlabel(\"Vce in Volt\")\n",
    "ylabel(\"Ic in mAmps\")\n",
    "title(\"DC Load-line for Voltage Divider-Biased Transistor Circuit\")\n",
    "show()"
   ]
  },
  {
   "cell_type": "markdown",
   "metadata": {},
   "source": [
    "## Example No. 28_14 Page No.  925"
   ]
  },
  {
   "cell_type": "code",
   "execution_count": 14,
   "metadata": {
    "collapsed": false
   },
   "outputs": [
    {
     "name": "stdout",
     "output_type": "stream",
     "text": [
      "The Base Voltage = -1.90 Volts\n",
      "Approx -1.9 Volts\n",
      "The Emitter Voltage = -1.20 Volts\n",
      "Approx -1.2 Volts\n",
      "The Collector Current = 0.00 Amps\n",
      "Approx 2.4 mAmps\n",
      "The Collector Voltage = -7.21 Volts\n",
      "The Collector-Emitter Voltage = -6.01 Volts\n"
     ]
    }
   ],
   "source": [
    "# For the pnp transistor, solve for Vb, Ve, Ic, Vc, and Vce.\n",
    "\n",
    "# Given data\n",
    "\n",
    "R1 = 33.*10**3#     # Resistor1=33 kOhms\n",
    "R2 = 6.2*10**3#    # Resistor2=6.2 kOhms\n",
    "Rc = 2.*10**3#      # Collector resistance=2 kOhms\n",
    "Re = 500.#         # Emitter resistance=500 Ohms\n",
    "Vcc = 12.#         # Supply voltage=12 Volts\n",
    "Vbe = 0.7#        # Base-Emmiter Voltage=0.7 Volts\n",
    "\n",
    "\n",
    "Vb = -Vcc*(R2/(R1+R2))#\n",
    "print 'The Base Voltage = %0.2f Volts'%Vb\n",
    "print 'Approx -1.9 Volts'\n",
    "\n",
    "Ve = Vb-(-Vbe)#\n",
    "print 'The Emitter Voltage = %0.2f Volts'%Ve\n",
    "print 'Approx -1.2 Volts'\n",
    "\n",
    "Ic = -(Ve/Re)#     # Ic =~ Ie\n",
    "print 'The Collector Current = %0.2f Amps'%Ic\n",
    "print 'Approx 2.4 mAmps'\n",
    "\n",
    "Vc = -Vcc+(Ic*Rc)\n",
    "print 'The Collector Voltage = %0.2f Volts'%Vc\n",
    "\n",
    "Vce = -Vcc+(Ic*(Rc+Re))#\n",
    "print 'The Collector-Emitter Voltage = %0.2f Volts'%Vce"
   ]
  },
  {
   "cell_type": "markdown",
   "metadata": {},
   "source": [
    "## Example No. 28_15 Page No. 926"
   ]
  },
  {
   "cell_type": "code",
   "execution_count": 15,
   "metadata": {
    "collapsed": false
   },
   "outputs": [
    {
     "name": "stdout",
     "output_type": "stream",
     "text": [
      "The Emitter current = 0.0053 Amps\n",
      "i.e 5.3 mAmps\n",
      "The Collector voltage = 7.05 Volts\n"
     ]
    }
   ],
   "source": [
    "# Calculate Ie and Vc\n",
    "\n",
    "# Given data\n",
    "\n",
    "Vee = 6.#        # Supply voltage at emitter=6 Volts\n",
    "Vcc = 15.#       # Supply voltage at collector=15 Volts\n",
    "Vbe = 0.7#      # Base-Emmiter Voltage=0.7 Volts\n",
    "Rc = 1.5*10**3#  # Collector resistance=1.5 kOhms\n",
    "Re = 1.*10**3#    # Emitter resistance=1 kOhms\n",
    "\n",
    "Ie = (Vee-Vbe)/Re#\n",
    "print 'The Emitter current = %0.4f Amps'%Ie\n",
    "print 'i.e 5.3 mAmps'\n",
    "\n",
    "Ic = Ie#        # Ic =~ Ie\n",
    "\n",
    "Vc = Vcc-Ic*Rc#\n",
    "print 'The Collector voltage = %0.2f Volts'%Vc"
   ]
  }
 ],
 "metadata": {
  "kernelspec": {
   "display_name": "Python 2",
   "language": "python",
   "name": "python2"
  },
  "language_info": {
   "codemirror_mode": {
    "name": "ipython",
    "version": 2
   },
   "file_extension": ".py",
   "mimetype": "text/x-python",
   "name": "python",
   "nbconvert_exporter": "python",
   "pygments_lexer": "ipython2",
   "version": "2.7.9"
  }
 },
 "nbformat": 4,
 "nbformat_minor": 0
}
