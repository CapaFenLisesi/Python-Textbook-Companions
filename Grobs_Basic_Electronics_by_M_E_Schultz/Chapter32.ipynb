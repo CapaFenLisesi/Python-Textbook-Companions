{
 "cells": [
  {
   "cell_type": "markdown",
   "metadata": {},
   "source": [
    "# Chapter 32 : Thyristors"
   ]
  },
  {
   "cell_type": "markdown",
   "metadata": {},
   "source": [
    "## Example No. 32_1 Page No. 1058"
   ]
  },
  {
   "cell_type": "code",
   "execution_count": 2,
   "metadata": {
    "collapsed": false
   },
   "outputs": [
    {
     "name": "stdout",
     "output_type": "stream",
     "text": [
      "The Frequency of the Emmiter Voltage Waveform = 49.61 Hertz\n"
     ]
    }
   ],
   "source": [
    "from math import log\n",
    "# Calculate the frequency of the emmiter voltage waveform. Assume n=0.6\n",
    "\n",
    "# Given data\n",
    "\n",
    "Rt = 220*10**3#      # Resistor Rt=220k Ohms\n",
    "Ct = 0.1*10**-6#     # Capacitor Ct=0.1u Farad\n",
    "n = 0.6#            # Constant\n",
    "\n",
    "A = 1./(1-n)#\n",
    "T = Rt*Ct*log(A)#\n",
    "\n",
    "f = 1./T#\n",
    "print 'The Frequency of the Emmiter Voltage Waveform = %0.2f Hertz'%f"
   ]
  }
 ],
 "metadata": {
  "kernelspec": {
   "display_name": "Python 2",
   "language": "python",
   "name": "python2"
  },
  "language_info": {
   "codemirror_mode": {
    "name": "ipython",
    "version": 2
   },
   "file_extension": ".py",
   "mimetype": "text/x-python",
   "name": "python",
   "nbconvert_exporter": "python",
   "pygments_lexer": "ipython2",
   "version": "2.7.9"
  }
 },
 "nbformat": 4,
 "nbformat_minor": 0
}
