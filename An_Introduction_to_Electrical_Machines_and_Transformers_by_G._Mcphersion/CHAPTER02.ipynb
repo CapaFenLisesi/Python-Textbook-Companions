{
 "cells": [
  {
   "cell_type": "markdown",
   "metadata": {},
   "source": [
    "# CHAPTER02 : SYNCHRONOUS MACHINES"
   ]
  },
  {
   "cell_type": "markdown",
   "metadata": {},
   "source": [
    "## Example E01 : Pg 15"
   ]
  },
  {
   "cell_type": "code",
   "execution_count": 1,
   "metadata": {
    "collapsed": false
   },
   "outputs": [
    {
     "name": "stdout",
     "output_type": "stream",
     "text": [
      "phi= 0.024 Wb\n"
     ]
    }
   ],
   "source": [
    "L=0.25 # length of stator stack in metre\n",
    "r=0.15 # radius of stator stack in metres\n",
    "BImax=0.96 # peak value of air gap flux density in tesla\n",
    "P=6. # no of machine poles\n",
    "phi=(4.*L*r*BImax)/P # flux per pole in webers\n",
    "print\"phi=\",phi,\"Wb\""
   ]
  },
  {
   "cell_type": "markdown",
   "metadata": {},
   "source": [
    "## Example E02 : Pg 16"
   ]
  },
  {
   "cell_type": "code",
   "execution_count": 3,
   "metadata": {
    "collapsed": false
   },
   "outputs": [
    {
     "name": "stdout",
     "output_type": "stream",
     "text": [
      "p= 150.0\n",
      "Kp=sin(p/2)= 0.00999983333417\n",
      "xcmax=Nc*Kp*phi= 0.00047999200004 Wb turns\n",
      "f=Hz 50\n",
      "Ec=sqrt(2)*phi*f*Nc*kp*phi= 0.000814573435545 V\n"
     ]
    }
   ],
   "source": [
    "# the example below is an extension of Ex2_1\n",
    "from math import sqrt, sin\n",
    "L=0.25 # length of stator stack in metres\n",
    "r=0.15 # radius of stator stack in metres\n",
    "BImax=0.96 # peak value of air gap flux density in tesla\n",
    "P=6. # no of machine poles\n",
    "phi=(4.*L*r*BImax)/P # flux per pole in webers\n",
    "# above comes from Ex2_1\n",
    "span=5. # span of each coil given by  no of slots\n",
    "edps=30. # electrical degrees per slot in degrees\n",
    "p=span*edps# coil pitch in degrees\n",
    "print\"p=\",span*edps\n",
    "Nc=2# turns of coil\n",
    "Kp=sin(((p/2)*phi)/180) # pitch factor # degree being converted to radians before calculation\n",
    "print\"Kp=sin(p/2)=\",Kp # the ans may vary due to roundoff error\n",
    "print\"xcmax=Nc*Kp*phi=\",Nc*Kp*phi,\"Wb turns\"# max flux linkage # ans may vary due to roundoff error\n",
    "ns=1000 # machine speed in rev/min\n",
    "p=6 # no of poles\n",
    "f=(p*ns)/120 # frequency at given speed in Hertz\n",
    "print\"f=Hz\",f\n",
    "print\"Ec=sqrt(2)*phi*f*Nc*kp*phi=\",sqrt(2)*phi*f*Nc*Kp*phi,\"V\"# ans may vary due to roundoff error # voltage induced at above frequency"
   ]
  },
  {
   "cell_type": "markdown",
   "metadata": {},
   "source": [
    "## Example E03 : Pg 17"
   ]
  },
  {
   "cell_type": "code",
   "execution_count": 4,
   "metadata": {
    "collapsed": false
   },
   "outputs": [
    {
     "name": "stdout",
     "output_type": "stream",
     "text": [
      "n=S1/(q1*p)= 2.0 n\n",
      "kd=sin(n*y/2)/n*sin(y/2)= 0.965925826289\n",
      "|Egroup|=n*Ec*kd= 19.8972778287 V\n",
      "|Eo|=p*|Egroup|= 119.383666972 V\n",
      "sqrt(3)*Eo= 206.77857679 V\n",
      "No=n*Nc*p= 24.0 turns\n",
      "|Eo|=sqrt(2)*pi*No*f*o*kp*kd= 119.383666972 V\n"
     ]
    }
   ],
   "source": [
    "# the example below is an extension of Ex2_1 and Ex2_2\n",
    "from math import sin, sqrt,pi\n",
    "S1=36. # no of slots\n",
    "q1=3. # no of phases\n",
    "p=6. # no of poles\n",
    "Nc=2. # no of turns per coil\n",
    "L=0.25 # length of stator stack in metres\n",
    "r=0.15 # radius of stator stack in metres\n",
    "BImax=0.96 # peak value of air gap flux density in tesla\n",
    "P=6. # no of machine poles\n",
    "phi=(4.*L*r*BImax)/P # flux per pole in webers\n",
    "span=5. # span of each coil given by  no of slots\n",
    "edps=30. # electrical degrees per slot in degrees\n",
    "p=span*edps# coil pitch in degrees\n",
    "Nc=2.# turns of coil\n",
    "kp=sin(((p/2.)*pi)/180.) # pitch factor # degree being converted to radians before calculation\n",
    "ns=1000. # machine speed in rev/min\n",
    "p=6. # no of poles\n",
    "f=(p*ns)/120. # frequency at given speed in Hertz\n",
    "Ec=sqrt(2.)*pi*f*Nc*kp*phi# voltage induced at above frequency\n",
    "n=S1/(q1*p)\n",
    "print\"n=S1/(q1*p)=\",n,\"n\" # coils per group\n",
    "edps=30. # electrical degrees per slot # equal to y as per textbook\n",
    "kd=(sin((n*edps*pi)/(180.*2.)))/(n*sin((edps/2.)*pi/180.)) # distribution factor of the machine # degree converted to radian for calculation\n",
    "print\"kd=sin(n*y/2)/n*sin(y/2)=\",kd# ans may vary due to roundoff error\n",
    "print\"|Egroup|=n*Ec*kd=\",n*Ec*kd,\"V\"# ans may vary due to roundoff error\n",
    "print\"|Eo|=p*|Egroup|=\",p*n*Ec*kd,\"V\"# ans may vary due to roundoff error\n",
    "print\"sqrt(3)*Eo=\",sqrt(3.)*n*Ec*kd*p,\"V\"# ans may vary due to roundoff error\n",
    "stp=n*Nc*p # series turns per phase # equal to No in textbook\n",
    "print\"No=n*Nc*p=\",stp,\"turns\"\n",
    "print\"|Eo|=sqrt(2)*pi*No*f*o*kp*kd=\",sqrt(2.)*pi*stp*f*kp*kd*phi,\"V\" # ans may vary due to round off error # induced phase winding"
   ]
  },
  {
   "cell_type": "markdown",
   "metadata": {},
   "source": [
    "## Example E04 : Pg 20"
   ]
  },
  {
   "cell_type": "code",
   "execution_count": 5,
   "metadata": {
    "collapsed": false
   },
   "outputs": [
    {
     "name": "stdout",
     "output_type": "stream",
     "text": [
      "P= 35.0567083452 KW\n",
      "HP=P/746= 46.9929066289 hp\n",
      "Q=|S|sin0om=|S|sin cos-1(pf)= 26.2925312589 kVAR\n"
     ]
    }
   ],
   "source": [
    "from math import sqrt, sin, acos\n",
    "Vl=2300. # terminal voltage of synchronous motor in volts\n",
    "Il=8.8 # minimum line current in ampere\n",
    "P=sqrt(3.)*Vl*Il\n",
    "print\"P=\",P/1000.,\"KW\"# power drawn from the line # ans may vary due to round off error\n",
    "pf=0.8 # operating power factor\n",
    "print\"HP=P/746=\",P/746.,\"hp\"# ans may vary due to round off error # conversion of power to hp requires division by 746\n",
    "S=P/(pf*1000.) # total volt amperes of motor in kVA\n",
    "print\"Q=|S|sin0om=|S|sin cos-1(pf)=\",S*sin(acos(pf)),\"kVAR\"# kVAR supplied by motor to the system # ans may vary due to roundoff error"
   ]
  },
  {
   "cell_type": "markdown",
   "metadata": {},
   "source": [
    "## Example E05 : Pg 23"
   ]
  },
  {
   "cell_type": "code",
   "execution_count": 6,
   "metadata": {
    "collapsed": false
   },
   "outputs": [
    {
     "name": "stdout",
     "output_type": "stream",
     "text": [
      "Sp= (5000+3750j) kVA\n",
      "Pin= 388.541666667 kW\n",
      "Sm= (388.542+188.179j) kVA\n",
      "Ss= 97.136 kVA\n",
      "Sp1= (5000+3271j) kVA\n",
      "New power factor= 0.837010255529\n",
      "Percent reduction= 4.40158528511\n"
     ]
    }
   ],
   "source": [
    "from math import sqrt, sin, cos\n",
    "# the following code contains userdefined fucntion complexstring \n",
    "Load=5000. # load of the plant in kW\n",
    "pf1=0.8 # power factor of load(lagging)\n",
    "pf2=0.9 # power factor of induction motor\n",
    "pf3=0.8 # power factor of synchronous motor\n",
    "Hp=500. # rating of induction motor to be replaced in hp\n",
    "Pout=0.746*Hp # output power of induction motor in kW\n",
    "Eta=0.96 # efficiency of the induction motor equal to n in textbook\n",
    "Sp=5000+3750j;#Load+(Load*tan(acos(pf1)))*%i # original complex power of load in kVA\n",
    "print'Sp=',Sp,\"kVA\"\n",
    "Pin=Pout/Eta # input power in kW\n",
    "print\"Pin=\",Pin,\"kW\"# complex power of induction motor # the ans may vary due to round off error\n",
    "Sm=388.542+188.179j;#Pin+(Pin*tan(acos(pf2)))*%i\n",
    "print'Sm=',Sm,'kVA'# the ans may vary due to round off error # complex power of induction motor\n",
    "Ss=388.542-291.406;#Pin-(Pin*tan(acos(pf3)))*%i\n",
    "print'Ss=',Ss,'kVA'# complex power of synchronous machine # the ans may vary due to round off error\n",
    "Qm=0 + 188j;#(Pin*tan(acos(pf2)))*%i# reactive power of induction motor in kVAR\n",
    "Qs=-0 + -291j;#(-1*(Pin*tan(acos(pf3)))*%i)# reactive power of synchronous motor in kVAR\n",
    "Sp1=Sp-Qm+Qs\n",
    "print'Sp1=',Sp1,'kVA'# new plant requirement,equal to Sp` in textbook\n",
    "pha=0.579;#acos(real(Sp1)/abs(Sp1)) # phase angle of Sp1 in radians\n",
    "print\"New power factor=\",cos(pha)# new power factor # the ans may vary due to round off error\n",
    "invl=abs(Sp)# initial value of complex power in kVA\n",
    "fnvl=abs(Sp1) # final value of complex power in kVA \n",
    "print\"Percent reduction=\",(((invl-fnvl)/invl)*100.)# the ans may vary due to round off error"
   ]
  },
  {
   "cell_type": "markdown",
   "metadata": {},
   "source": [
    "## Example E06 : Pg 23"
   ]
  },
  {
   "cell_type": "code",
   "execution_count": 7,
   "metadata": {
    "collapsed": false
   },
   "outputs": [
    {
     "name": "stdout",
     "output_type": "stream",
     "text": [
      "Sp= (5000+3750j) kVA\n",
      "Qp= 2420.0 kVAR\n",
      "Qs= -1330.0 kVAR\n"
     ]
    }
   ],
   "source": [
    "from math import sqrt, sin, cos, pi\n",
    "Load=5000. # load of the plant in kW\n",
    "pf1=0.8 # power factor of load(lagging)\n",
    "Sp=5000+3750j;#Load+(Load*tan(acos(pf1)))*%i # original complex power of load in kVA\n",
    "print'Sp=',Sp,'kVA'\n",
    "pf2=0.9 # new power factor\n",
    "Qp1=2.42e+03;#real(Sp)*tan(acos(0.9)) # reactive power,equal to Qp` in textbook\n",
    "print\"Qp=\",Qp1,\"kVAR\"# the ans vary due to roundoff error\n",
    "Qp=3.75e+03;#imag(Sp)\n",
    "print\"Qs=\",Qp1-Qp,\"kVAR\"# KVAR to be supplied by synchronous condenser"
   ]
  },
  {
   "cell_type": "markdown",
   "metadata": {},
   "source": [
    "## Example E07 : Pg 29"
   ]
  },
  {
   "cell_type": "code",
   "execution_count": 8,
   "metadata": {
    "collapsed": false
   },
   "outputs": [
    {
     "name": "stdout",
     "output_type": "stream",
     "text": [
      "V1= 1385.64064606 V\n",
      "I1B= 2255.27448902 A\n",
      "I1= (1804.22-1353.16j) A\n",
      "Eo=V1+jI1x1= (1520.96+180.422j) V\n",
      "sqrt3*|Eo|= (2652.85+0j) V\n",
      "ks= 1.35454545455\n",
      "m=|Eo|/Ifs= 10.3 omega\n",
      "xd=x1+(xdu-x1)/ks= 0.61677852349 omega\n",
      "Ef= (2220.24+1112.8j) V\n",
      "If= 241.116841984 A\n"
     ]
    }
   ],
   "source": [
    "from math import sqrt,pi,sin,cos\n",
    "VLB=2400. # line to base voltage in volts\n",
    "V1=VLB/sqrt(3.)  # reference phasor in volts # ans may vary due to roundoff error\n",
    "print\"V1=\",V1,\"V\"\n",
    "kVAB=9375. # rated kVA\n",
    "I1B=(kVAB*1000.)/(sqrt(3.)*VLB)\n",
    "pf=0.8 # power factor\n",
    "print\"I1B=\",I1B,\"A\" # ans may vary due to roundoff error\n",
    "I1=1804.22-1353.16j;#I1B*exp((-1)*%i*(acos(pf)))\n",
    "print'I1=',I1,'A'# ans may vary due to roundoff error\n",
    "x1=0.1# in ohms\n",
    "print'Eo=V1+jI1x1=',1520.96+180.422j,\"V\";#  +complexstring(V1+%i*I1*x1)+'V')# ans may vary due to roundoff error\n",
    "print'sqrt3*|Eo|=',2652.85+0j,\"V\";#+complexstring((abs(V1+%i*I1*x1))*sqrt(3))+'V')\n",
    "Ifu=110. # value in ampere,dc\n",
    "Ifs=149. # value in ampere,dc\n",
    "ks=Ifs/Ifu\n",
    "print\"ks=\",ks # ans may vary due to roundoff error\n",
    "m1=10.3;#(abs((V1+%i*I1*x1)))/Ifs # equal to m in textbook\n",
    "print\"m=|Eo|/Ifs=\",m1,\"omega\"# ans may vary due to roundoff error\n",
    "xdu=0.8 # in ohms\n",
    "xd=x1+((xdu-x1)/ks)\n",
    "print\"xd=x1+(xdu-x1)/ks=\",xd,\"omega\"# ans may vary due to roundoff error\n",
    "Ef=2220.24+1112.8j;#V1+(%i*I1*xd)\n",
    "print'Ef=',Ef,'V'# ans may vary due to roundoff error\n",
    "print\"If=\",abs(Ef)/m1,\"A\"# ans may vary due to roundoff error\n"
   ]
  },
  {
   "cell_type": "markdown",
   "metadata": {},
   "source": [
    "## Example E08 : Pg 30"
   ]
  },
  {
   "cell_type": "code",
   "execution_count": 9,
   "metadata": {
    "collapsed": false
   },
   "outputs": [
    {
     "name": "stdout",
     "output_type": "stream",
     "text": [
      "xda= 0.691092591549 omega\n",
      "ma=V1B/Ifv= 11.9451779832 omega\n",
      "Ef= (2320+1250j) V\n",
      "If=|Ef|/ma= 220.617710456 A\n",
      "V1oc= 1708.9567968 V\n",
      "Efmax= 2866.84271598 V\n",
      "I1max= 2143.27586207 A\n",
      "Qmax= 8.90943045057 MVAR\n"
     ]
    }
   ],
   "source": [
    "from math import sqrt,pi,sin,cos,exp\n",
    "VLB=2400. # line to base voltage in volts\n",
    "Ix=2005. # current in amperes\n",
    "xda=VLB/(sqrt(3.)*Ix)\n",
    "print\"xda=\",xda,\"omega\"# ans may vary due to roundoff error\n",
    "Ifv=116. # current in amperes\n",
    "ma1=VLB/(sqrt(3.)*Ifv)# equal to ma` in textbook\n",
    "print\"ma=V1B/Ifv=\",ma1,\"omega\"# ans may vary due to roundoff error\n",
    "# from ex 2_7\n",
    "V1=VLB/sqrt(3.)  # reference phasor in volts \n",
    "kVAB=9375. # rated kVA\n",
    "I1B=(kVAB*1000.)/(sqrt(3.)*VLB)# current in amperes\n",
    "pf=0.8 # power factor\n",
    "I1=1.8e+03 + -1.35e+03j;#I1B*exp((-1)*%i*(acos(pf)))# current in amperes\n",
    "Ef=2.32e+03 + 1.25e+03j;#V1+%i*I1*xda\n",
    "print'Ef=',Ef,'V'# ans may vary due to roundoff error\n",
    "print\"If=|Ef|/ma=\",abs(Ef)/ma1,\"A\"# ans may vary due to roundoff error\n",
    "Voc=2960. # line to line volatge in Volts\n",
    "print\"V1oc=\",Voc/sqrt(3.),\"V\"# ans may vary due to roundoff error\n",
    "If=240. # current in amperes\n",
    "Efmax=ma1*If\n",
    "print\"Efmax=\",Efmax,\"V\"# ans in textbook is wrong\n",
    "I1max=(Efmax-V1)/xda # ans in textbook is wrong\n",
    "print\"I1max=\",I1max,\"A\"# ans may vary due to roundoff error\n",
    "print\"Qmax=\",sqrt(3)*VLB*I1max*(10**-6),\"MVAR\"# ans may vary due to roundoff error\n"
   ]
  },
  {
   "cell_type": "markdown",
   "metadata": {},
   "source": [
    "## Example E010 : Pg 31"
   ]
  },
  {
   "cell_type": "code",
   "execution_count": 10,
   "metadata": {
    "collapsed": false
   },
   "outputs": [
    {
     "name": "stdout",
     "output_type": "stream",
     "text": [
      "Ipu= 5.0 per unit\n",
      "Ib= 3608.43918244 A\n",
      "I= 18042.1959122 A\n",
      "I=Efo/xd= 3.33333333333 per unit\n",
      "Iss=Efo/xd=1 per unit\n",
      "I= 3.80549254747 per unit\n",
      "I= 1.00010593317 per unit\n"
     ]
    }
   ],
   "source": [
    "import math \n",
    "xd=1. # in ohms per unit\n",
    "xd1=0.3 # in ohms per unit\n",
    "xd2=0.2 # in ohms per unit\n",
    "Td2=0.03 # time in seconds\n",
    "Td1=1. # time in seconds\n",
    "MVA=100. # rating in mega volt ampere\n",
    "V=16000. # voltage in volts\n",
    "I2pu=1./xd2\n",
    "print \"Ipu=\",I2pu,\"per unit\"\n",
    "Ib=(MVA*(10.**6.))/(math.sqrt(3.)*V)\n",
    "print\"Ib=\",Ib,\"A\"# ans may vary due to roundoff error\n",
    "print\"I=\",I2pu*Ib,\"A\"# ans in textbook is wrong\n",
    "I1=1./xd1 # current in per unit\n",
    "print\"I=Efo/xd=\",I1,\"per unit\"# ans may vary due to roundoff error\n",
    "Iss=1/xd# current in per unit\n",
    "print\"Iss=Efo/xd=1 per unit\"\n",
    "t=2./60. # time in seconds\n",
    "print\"I=\",(I2pu-I1)*math.exp(-t/Td2)+(I1-Iss)*math.exp(-t/Td1)+1.,\"per unit\"# ans may vary due to roundoff error\n",
    "t=10. # time in seconds\n",
    "print\"I=\",(I2pu-I1)*math.exp(-t/Td2)+(I1-Iss)*math.exp(-t/Td1)+1.,\"per unit\"# ans may vary due to roundoff error"
   ]
  }
 ],
 "metadata": {
  "kernelspec": {
   "display_name": "Python [Root]",
   "language": "python",
   "name": "Python [Root]"
  },
  "language_info": {
   "codemirror_mode": {
    "name": "ipython",
    "version": 2
   },
   "file_extension": ".py",
   "mimetype": "text/x-python",
   "name": "python",
   "nbconvert_exporter": "python",
   "pygments_lexer": "ipython2",
   "version": "2.7.12"
  }
 },
 "nbformat": 4,
 "nbformat_minor": 0
}
