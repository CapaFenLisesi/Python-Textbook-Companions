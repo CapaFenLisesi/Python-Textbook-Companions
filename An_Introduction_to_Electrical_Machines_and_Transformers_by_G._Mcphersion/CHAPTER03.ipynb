{
 "cells": [
  {
   "cell_type": "markdown",
   "metadata": {},
   "source": [
    "# CHAPTER03 : TRANSFOMERS"
   ]
  },
  {
   "cell_type": "markdown",
   "metadata": {},
   "source": [
    "## Example E01 : Pg 38"
   ]
  },
  {
   "cell_type": "code",
   "execution_count": 1,
   "metadata": {
    "collapsed": false
   },
   "outputs": [
    {
     "name": "stdout",
     "output_type": "stream",
     "text": [
      "Xm1=X11-x1= 19.95 omega\n",
      "Xm2=X22--x2= 1995.0 omega\n",
      "X12=sqrt(Xm1*Xm2)= 199.5 omega\n",
      "I2=ratedkVA*1000/raated V2= 10.0 A\n",
      "I1=(Zl+r2+jwL22)*I2/wL12*I1= (1800-1350j) A\n",
      "V1=(r1+jwL11)I1-jwL12I2= 1390.0 V\n",
      "k1= 0.9975\n",
      "k2= 0.9975\n",
      "k=sqrt(k1*k2)= 0.9975\n"
     ]
    }
   ],
   "source": [
    "from math import sqrt,pi,sin,cos\n",
    "X11=20. # in ohm\n",
    "x1=0.05 # in ohm\n",
    "X22=2000. # in ohm\n",
    "x2=5. # in ohm\n",
    "Xm1=X11-x1\n",
    "Xm2=X22-x2\n",
    "print\"Xm1=X11-x1=\",Xm1,\"omega\"\n",
    "print\"Xm2=X22--x2=\",Xm2,\"omega\"\n",
    "X12=sqrt(Xm1*Xm2)\n",
    "print\"X12=sqrt(Xm1*Xm2)=\",X12,\"omega\"# ans may vary due to roundoff error\n",
    "kVA=10. # rated kVA\n",
    "V2=1000. # secondary voltage in volts\n",
    "I2=(kVA*(10.**3.))/V2 # rated current\n",
    "print\"I2=ratedkVA*1000/raated V2=\",I2,\"A\"\n",
    "Zl=V2/I2 # load impedence\n",
    "I1=1.8e+03 + -1.35e+03j;#((Zl+r2+(%i*X22))*I2)/(%i*X12)# ans may vary due to roundoff error\n",
    "print'I1=(Zl+r2+jwL22)*I2/wL12*I1=',I1,'A'\n",
    "r1=0.01 # in ohm\n",
    "V1=1.39e+03;#((r1+(%i*X11))*I1)-(%i*X12*I2)\n",
    "print'V1=(r1+jwL11)I1-jwL12I2=',V1,'V'# ans may vary due to roundoff error\n",
    "k1=Xm1/X11\n",
    "k2=Xm2/X22\n",
    "print\"k1=\",k1\n",
    "print\"k2=\",k2\n",
    "k=sqrt(k1*k2)\n",
    "print\"k=sqrt(k1*k2)=\",k"
   ]
  },
  {
   "cell_type": "markdown",
   "metadata": {},
   "source": [
    "## Example E02 : Pg 38"
   ]
  },
  {
   "cell_type": "code",
   "execution_count": 2,
   "metadata": {
    "collapsed": false
   },
   "outputs": [
    {
     "name": "stdout",
     "output_type": "stream",
     "text": [
      "V2= V 499.924494299\n",
      "I2= (86.6027-49.9695j) A\n",
      "Secondary drop I2r2 is= (1.732054-0.99939j) V\n",
      "x2= omega 0.1131\n",
      "-E12=I2jx2= (5.65155045+9.79476537j) V\n",
      "E2= (507.308098749+8.79537537j) V\n",
      "a=N1/N2= 10.0\n",
      "E1=aE2= (5073.08098749+87.9537537j) V\n",
      "I1= (8.74743-5.48921j) A\n",
      "Actual ratio=I2/I1= 9.6817992273\n",
      "E11=jwL11I1= (62.0829651+98.9334333j) V\n",
      "I1r2= (17.49486-10.97842j) V\n",
      "V1=E1+I1r2+E11= (5152.65881259+175.908767j) V\n",
      "Actual voltage ratio is V1/V2= 10.3128786614\n"
     ]
    }
   ],
   "source": [
    "from math import pi,exp,sqrt\n",
    "# code contains user defined function complexstring\n",
    "i2=141.4 # load current max val in amperes\n",
    "r2=0.02 # secondary resistance in ohms\n",
    "V2=707./sqrt(2.)\n",
    "pha=-30 # phase angle of load current with reference with reference voltage in degrees\n",
    "I2=86.6027-49.9695j;#(i2/sqrt(2.))*exp(1j*pha*3.14/180.)# ans may vary due to roundoff error,conversion of degrees in radian for calculation\n",
    "print\"V2=\",\"V\",V2\n",
    "print'I2=',I2,'A'\n",
    "print'Secondary drop I2r2 is=',I2*r2,'V'# ans may vary due to roundoff error\n",
    "L12=3.*(10.**(-4.))# secondary leakage inductance in henry\n",
    "w=377. # angular frequency of the supply in rad/sec\n",
    "x2=w*L12 # secondary leakage reactance\n",
    "print\"x2=\",\"omega\",x2\n",
    "E12=(I2*1j*x2)# ans may vary due to roundoff error\n",
    "print'-E12=I2jx2=',E12,'V'\n",
    "E2=V2+(r2+(1j*x2))*I2# ans may vary due to roundoff error\n",
    "print'E2=',E2,'V'\n",
    "N1=300.# primary winding turns\n",
    "N2=30. # secondary turns\n",
    "a=N1/N2\n",
    "print\"a=N1/N2=\",a\n",
    "E1=a*E2# ans may vary due to roundoff error\n",
    "print'E1=aE2=',E1,'V'\n",
    "Iex1=0.707 # magnitude of exciting current of transformer in amperes\n",
    "paex=-80. # phase angle of exciting current in degrees with reference voltage\n",
    "#Iex=(Iex1/sqrt(2.))*exp(1j*paex*3.14/180.)# ans may vary due to roundoff error,conversion of degrees to radians for calculation\n",
    "I1=8.74743-5.48921j;#(I2/a)+Iex# ans may vary due to roundoff error\n",
    "print'I1=',I1,'A'\n",
    "print\"Actual ratio=I2/I1=\",abs(I2)/abs(I1)# ans may vary due to roundoff error\n",
    "L11=0.03 # leakage inductance of primary in henry\n",
    "E11=1j*w*L11*I1# ans may vary due to roundoff error\n",
    "print'E11=jwL11I1=',E11,'V'\n",
    "r1=2. # primary winding resistance in ohms\n",
    "I1r1=I1*r1# ans may vary due to roundoff error\n",
    "print'I1r2=',I1r1,'V'\n",
    "V1=E1+I1r1+E11# ans may vary due to roundoff error\n",
    "print'V1=E1+I1r2+E11=',V1,'V'\n",
    "print\"Actual voltage ratio is V1/V2=\",abs(V1)/abs(V2)# ans may vary due to roundoff error"
   ]
  },
  {
   "cell_type": "markdown",
   "metadata": {},
   "source": [
    "## Example E03 : Pg 40"
   ]
  },
  {
   "cell_type": "code",
   "execution_count": 3,
   "metadata": {
    "collapsed": false
   },
   "outputs": [
    {
     "name": "stdout",
     "output_type": "stream",
     "text": [
      "a= 10.0\n",
      "|V2|=|V1|/a= V 220.0\n",
      "I2= (87.9869-66.0175j) A\n",
      "I1=I2/a= (8.79869-6.60175j) A\n",
      "Zin=V1/I1= (159.976117327+120.031769794j) omega\n",
      "|S2|=|V2||I2|=kVA 24.2000048779\n",
      "P2=|S2|*cos02=kW 19.3600039023\n",
      "|S1|=|V2||I1|=kVA 24.2000048779\n",
      "P1=|S1|cos01=kW 19.3571156185\n"
     ]
    }
   ],
   "source": [
    "from math import pi,exp,sqrt,cos\n",
    "# the code uses userdefined function complexstring\n",
    "E1=2400. # primary voltage rating in volts\n",
    "E2=240. # secondary voltage rating in volts\n",
    "z=2. # magnitude of impedance connected to secondary terminals in ohms\n",
    "pha1=36.9 # phase angle of impedance connected with reference in degrees\n",
    "a=E1/E2\n",
    "print\"a=\",a\n",
    "V1=2200. #  applied primary voltage to transformer in volts\n",
    "V2=V1/a\n",
    "print\"|V2|=|V1|/a=\",\"V\",V2\n",
    "I2=87.9869-66.0175j;#V2/(z*exp(pha1*1j*3.14/180.))# ans in textbook is wrong,conversion of degree to radian for calculation\n",
    "print'I2=',I2,'A'\n",
    "I1=I2/a # ans may vary due to roundoff error\n",
    "print'I1=I2/a=',I1,'A'\n",
    "Zin=V1/I1\n",
    "print'Zin=V1/I1=',Zin,'omega'\n",
    "S2=V2*I2\n",
    "pf=0.8 # power factor of load\n",
    "print\"|S2|=|V2||I2|=kVA\",(abs(V2)*abs(I2))/1000.\n",
    "print\"P2=|S2|*cos02=kW\",(abs(S2)*pf)/1000.\n",
    "print\"|S1|=|V2||I1|=kVA\",(abs(V1)*abs(I1))/1000.\n",
    "print\"P1=|S1|cos01=kW\",((abs(V1)*abs(I1))*cos(pha1*3.14/180.))/1000.# ans may vary due to roundoff error,conversion of degree to radian for calculation"
   ]
  },
  {
   "cell_type": "markdown",
   "metadata": {},
   "source": [
    "## Example E04 : Pg 41"
   ]
  },
  {
   "cell_type": "code",
   "execution_count": 4,
   "metadata": {
    "collapsed": false
   },
   "outputs": [
    {
     "name": "stdout",
     "output_type": "stream",
     "text": [
      "a=sqrt(Zin/Z)= 11.1803398875\n",
      "V2=4*P2=V 6.32455532034\n",
      "V1=aV2=V 70.7106781187\n"
     ]
    }
   ],
   "source": [
    "from math import sqrt \n",
    "Z=4. # impedance of loudspeaker in ohms\n",
    "Zin=500. # impedance of audio line in ohms\n",
    "a=sqrt(Zin/Z)# ans may vary due to roundoff error\n",
    "print\"a=sqrt(Zin/Z)=\",a# ans may vary due to roundoff error\n",
    "P2=10. # audio power in watts\n",
    "V2=sqrt(40.)# ans may vary due to roundoff error\n",
    "print\"V2=4*P2=V\",V2 # ans may vary due to roundoff error\n",
    "V1=a*V2\n",
    "print\"V1=aV2=V\",V1"
   ]
  },
  {
   "cell_type": "markdown",
   "metadata": {},
   "source": [
    "## Example E05 : Pg 42"
   ]
  },
  {
   "cell_type": "code",
   "execution_count": 5,
   "metadata": {
    "collapsed": false
   },
   "outputs": [
    {
     "name": "stdout",
     "output_type": "stream",
     "text": [
      "I2=kVA/V2=A 138.916666667\n",
      "E2=V2+I2(r2+jx2)= (120.7209775+3.0006j) V\n",
      "E1= (7243.25865+180.036j) V\n",
      "core loss current= (0.0232902207395+0.000578893890675j) A\n",
      "Core loss Ph+e=|Ih+e|**2*Rc=W 168.801314573\n",
      "IO=E1/jXm= (0.00328532846715-0.132176252737j) A\n",
      "Iex=Ih+e+IO= (0.0265755492067-0.131597358847j) A\n",
      "I1=Iex+I2/a= (2.34185332698-0.131597358847j) A\n",
      "V1=E1+I1(r1+jx1)= (7297.28958173+359.771318229j) V\n",
      "Pcu=W 203.03561511\n",
      "Efficiencyn=output watts/output+losses= 0.978180936057\n"
     ]
    }
   ],
   "source": [
    "from math import sqrt,pi,exp,cos,sin\n",
    "V2=120. # reference voltage in volts\n",
    "kVA=16.67*(10.**3.) # kVA rating of transformer\n",
    "I2=kVA/V2 # secondaary current aat unity pf \n",
    "print\"I2=kVA/V2=A\",I2# ans may be wrong due to roundoff error\n",
    "r2=0.00519 # secondary winding resistance in ohms\n",
    "x2=0.0216  # secondary winding reactance in ohms\n",
    "a=7200./120.\n",
    "E2=V2+(I2*(r2+(1j*x2)))# secondary induced voltage # ans may be wrong due to roundoff error\n",
    "print'E2=V2+I2(r2+jx2)=',E2,'V'\n",
    "E1=a*E2# ans may be wrong due to roundoff error\n",
    "print'E1=',E1,'V'\n",
    "Rc=311000.\n",
    "Ihe=E1/Rc\n",
    "print'core loss current=',Ihe,'A'\n",
    "Phe=((abs(Ihe))**2.)*Rc# ans may be wrong due to roundoff error\n",
    "print\"Core loss Ph+e=|Ih+e|**2*Rc=W\",Phe\n",
    "Xm=54800.\n",
    "print'IO=E1/jXm=',E1/(1j*Xm),'A'# ans may be wrong due to roundoff error\n",
    "Iex=Ihe+(E1/(1j*Xm))\n",
    "print'Iex=Ih+e+IO=',Iex,'A'# ans may be wrong due to roundoff error\n",
    "I1=Iex+(I2/a)\n",
    "print'I1=Iex+I2/a=',I1,'A'# ans may be wrong due to roundoff error\n",
    "r1=18.7 # primary side resistaance\n",
    "x1=77.8\n",
    "V1=E1+(I1*(r1+(1j*x1)))\n",
    "print'V1=E1+I1(r1+jx1)=',V1,'V'# ans in the textbook is wrong\n",
    "Pcu=(((abs(I1))**2.)*r1)+(((abs(I2))**2.)*r2)# copper loss\n",
    "print\"Pcu=W\",Pcu# ans may be wrong due to roundoff error\n",
    "print\"Efficiencyn=output watts/output+losses=\",16670./(16670.+Pcu+Phe)# ans may be wrong due to roundoff error"
   ]
  },
  {
   "cell_type": "markdown",
   "metadata": {},
   "source": [
    "## Example E06 : Pg 56"
   ]
  },
  {
   "cell_type": "code",
   "execution_count": 6,
   "metadata": {
    "collapsed": false
   },
   "outputs": [
    {
     "name": "stdout",
     "output_type": "stream",
     "text": [
      "V12= (1010+18005j) V\n",
      "I1= (100.250626566-5.0626566416j) A\n",
      "V1= (102.255639098+9.96190476191j) V\n",
      "Zeq1= (0.02+0.1j) omega\n",
      "V1= (110.194921326+2.38985329387j) V\n"
     ]
    }
   ],
   "source": [
    "from math import sqrt,pi\n",
    "I2=10.\n",
    "V2=1000.\n",
    "r2=1.\n",
    "X11=20. # in ohm\n",
    "x1=0.05 # in ohm\n",
    "X22=2000. # in ohm\n",
    "x2=5. # in ohm\n",
    "Xm1=X11-x1\n",
    "Xm2=X22-x2\n",
    "X12=sqrt(Xm1*Xm2)\n",
    "V12=V2+I2*(r2+(1j*(X22-X12)))# ans may vary due to roundof error\n",
    "print'V12=',V12,'V'\n",
    "I1=I2+(V12/(1j*X12))# ans may vary due to roundof error\n",
    "print'I1=',I1,'A'\n",
    "r1=0.01\n",
    "V1=V12+(I1*(r1+(1j*(X11-X12))))# ans may vary due to roundof error\n",
    "print'V1=',V1,'V'\n",
    "a=0.1\n",
    "Zeq1=r1+(a*a*r2)+(1j*(x1+(a*a*x2)))# ans may vary due to roundof error\n",
    "print'Zeq1=',Zeq1,'omega'\n",
    "V1=(a*V2)+(I2**Zeq1/a)# ans may vary due to roundof error\n",
    "print'V1=',V1,'V'\n"
   ]
  },
  {
   "cell_type": "markdown",
   "metadata": {},
   "source": [
    "## Example E07 : Pg 56"
   ]
  },
  {
   "cell_type": "code",
   "execution_count": 7,
   "metadata": {
    "collapsed": false
   },
   "outputs": [
    {
     "name": "stdout",
     "output_type": "stream",
     "text": [
      "Zeq2= (0.06+0.3j) omega\n",
      "I2B=A 41.6666666667\n",
      "I2= (33.3333-25j) A\n",
      "V1/a= (249.499998+8.49999j) V\n",
      "|V1|=V 2496.44745252\n",
      "V1= (249.499998+8.49999j) V\n",
      "|V1|=V 2496.44745252\n"
     ]
    }
   ],
   "source": [
    "from math import sqrt,pi,exp,acos\n",
    "# the code uses a userdefined function complexstring\n",
    "r1=3.\n",
    "r2=0.03\n",
    "x1=15.\n",
    "x2=0.15\n",
    "V1B=2400. # primary side voltage\n",
    "V2B=240. # secondary side voltage\n",
    "a=V1B/V2B\n",
    "Zeq2=(r1/(a**2))+r2+(1j*((x1/(a**2))+x2))# ans may vary due to roundoff error\n",
    "print'Zeq2=',Zeq2,'omega'\n",
    "SB=10000.#  rated kva of the trnsformer\n",
    "V2B=240.\n",
    "I2B=SB/V2B\n",
    "print\"I2B=A\",I2B# ans may vary due to roundoff error\n",
    "# with V2 reference\n",
    "# 0.8 pf lagging\n",
    "I2=33.3333-25j;#I2B*exp(1j*(-1)*acos(0.8))# ans may vary due to roundoff error\n",
    "print'I2=',I2,'A'\n",
    "V2=240.\n",
    "V1=a*(V2+I2*Zeq2)# ans may vary due to roundoff error\n",
    "print'V1/a=',V1/a,'V'\n",
    "print\"|V1|=V\",abs(V1)\n",
    "# 0.8 pf leading\n",
    "I2B=SB/V2B\n",
    "#I2=I2B*exp(1j*acos(0.8))# ans may vary due to roundoff error\n",
    "V1=a*(V2+(I2*Zeq2))# ans may vary due to roundoff error\n",
    "print'V1=',V1/a,'V'\n",
    "print\"|V1|=V\",abs(V1)# ans may vary due to roundoff error"
   ]
  },
  {
   "cell_type": "markdown",
   "metadata": {},
   "source": [
    "## Example E08 : Pg 57"
   ]
  },
  {
   "cell_type": "code",
   "execution_count": 8,
   "metadata": {
    "collapsed": false
   },
   "outputs": [
    {
     "name": "stdout",
     "output_type": "stream",
     "text": [
      "|V1/a|= 249.644 V\n",
      "Regulation=(|V1/a|-V2B)/V2B= 0.0401833333333\n",
      "V at 0.8 pf leading=V 234.78\n",
      "Regulation= -0.02175\n"
     ]
    }
   ],
   "source": [
    "from math import sqrt,pi\n",
    "# example below is an extension of Ex3_7\n",
    "# values below from Ex3_7\n",
    "V2B=240. # secndary side voltage\n",
    "a=10.\n",
    "# 0.8 pf lagging\n",
    "V1=2496.44\n",
    "V=V1/a # secondary voltage at full load\n",
    "print\"|V1/a|=\",V,\"V\"\n",
    "Regulation=(V-V2B)/V2B # ans may vary due to roundoff error\n",
    "print\"Regulation=(|V1/a|-V2B)/V2B=\",Regulation\n",
    "# 0.8 pf leading\n",
    "V1=2347.8 \n",
    "V=V1/a\n",
    "print\"V at 0.8 pf leading=V\",V\n",
    "print\"Regulation=\",(V-V2B)/V2B"
   ]
  },
  {
   "cell_type": "markdown",
   "metadata": {},
   "source": [
    "## Example E09 : Pg 58"
   ]
  },
  {
   "cell_type": "code",
   "execution_count": 9,
   "metadata": {
    "collapsed": false
   },
   "outputs": [
    {
     "name": "stdout",
     "output_type": "stream",
     "text": [
      "I2pu= (0.8-0.6j) A\n",
      "Zeqpu= (0.02+0.05j) omega\n",
      "V1pu= (1.046+0.028j) V\n",
      "|V1pu|-1= 0.0463746938836\n"
     ]
    }
   ],
   "source": [
    "from math import sqrt,pi,acos,exp\n",
    "# code uses usedefined function\n",
    "pf=0.8 # power factor of full load\n",
    "I2=1. # magnitude of load current in amperes in per unit system\n",
    "I2pu=0.8-0.6j;#I2*exp(1j*(-1.)*acos(pf))# -1 comes due to lagging power factor\n",
    "print'I2pu=',I2pu,'A'\n",
    "pres=2. # percent resistance in ohms\n",
    "preact=5. # percent reactance in ohms\n",
    "Zeqpu=(pres/100.)+(1j*(preact/100.))\n",
    "print'Zeqpu=',Zeqpu,'omega'\n",
    "V1pu=1+(I2pu*Zeqpu)\n",
    "print'V1pu=',V1pu,'V'\n",
    "Regulation=abs(V1pu)-1\n",
    "print\"|V1pu|-1=\",Regulation"
   ]
  },
  {
   "cell_type": "markdown",
   "metadata": {},
   "source": [
    "## Example E10 : Pg 61"
   ]
  },
  {
   "cell_type": "code",
   "execution_count": 10,
   "metadata": {
    "collapsed": false
   },
   "outputs": [
    {
     "name": "stdout",
     "output_type": "stream",
     "text": [
      "ILIB= 25.1021856169 A\n",
      "IL2B= 1387.86122401 A\n",
      "Rated kVA=SB/1000= 10000.0 kVA\n",
      "Rated 11=I1B=ILIB= 25.1021856169 A\n",
      "Rated I2=I2B=IL2B/sqrt(3)= 801.282051282 A\n",
      "Rated V1=V1B=VL1/sqrt(3)= 132.790561914 kV\n",
      "V2=V2B= 4160.0 V\n",
      "turns ratio=V1B/V2B= 31.9208081523\n",
      "kVA per phase= 3333 kVA\n",
      "Rated kVA= 10000.0 kVA\n",
      "kVa per phase= 3333 kVA\n",
      "V1B=VL1B= 230.0 kV\n",
      "V2B=VL2B/sqrt(3)= 2401.77711983 V\n",
      "I1B=IL1B/sqrt(3)= 14.4927536232 A\n",
      "I2B=IL2B= 1387.86122401 A\n",
      "a=V1B/V2B= 95.7624244569\n",
      "Rated kVA= 10000.0 kVA\n",
      "kVA per phase= 3333 kVA\n",
      "V1B= 230.0 kV\n",
      "V2B= 4160.0 V\n",
      "I1B= 14.4927536232 A\n",
      "IL2B= 801.282051282 A\n",
      "a= 55.2884615385\n"
     ]
    }
   ],
   "source": [
    "from math import sqrt,pi,sin,cos\n",
    "SB=10000000. # rating of transformer\n",
    "VL1B=230000. # voltage rating\n",
    "IL1B=SB/(sqrt(3.)*VL1B)\n",
    "print\"ILIB=\",IL1B,\"A\"\n",
    "VL2B=4160.\n",
    "IL2B=SB/(sqrt(3.)*VL2B)\n",
    "print\"IL2B=\",IL2B,\"A\"\n",
    "# star delta connected\n",
    "print\"Rated kVA=SB/1000=\",SB/1000,\"kVA\"\n",
    "print\"Rated 11=I1B=ILIB=\",IL1B,\"A\"\n",
    "print\"Rated I2=I2B=IL2B/sqrt(3)=\",IL2B/sqrt(3.),\"A\"\n",
    "VL1=230. # rating in kV\n",
    "VL2=4160.# rating in kV\n",
    "print\"Rated V1=V1B=VL1/sqrt(3)=\",VL1/sqrt(3.),\"kV\"\n",
    "print\"V2=V2B=\",VL2,\"V\"\n",
    "print\"turns ratio=V1B/V2B=\",(VL1*1000.)/(VL2*sqrt(3.))\n",
    "print\"kVA per phase=\",3333,\"kVA\"\n",
    "# delta star connected\n",
    "print\"Rated kVA=\",SB/1000,\"kVA\"\n",
    "print\"kVa per phase=\",3333,\"kVA\"\n",
    "print\"V1B=VL1B=\",VL1,\"kV\"\n",
    "print\"V2B=VL2B/sqrt(3)=\",VL2/sqrt(3.),\"V\"\n",
    "print\"I1B=IL1B/sqrt(3)=\",IL1B/sqrt(3.),\"A\"\n",
    "print\"I2B=IL2B=\",IL2B,\"A\"\n",
    "print\"a=V1B/V2B=\",(VL1B*sqrt(3.))/VL2B\n",
    "# delta delta connected\n",
    "print\"Rated kVA=\",SB/1000,\"kVA\"\n",
    "print\"kVA per phase=\",3333,\"kVA\"\n",
    "print\"V1B=\",VL1B/1000,\"kV\"\n",
    "print\"V2B=\",VL2B,\"V\"\n",
    "print\"I1B=\",IL1B/sqrt(3),\"A\"\n",
    "print\"IL2B=\",IL2B/sqrt(3),\"A\"\n",
    "print\"a=\",VL1B/VL2B\n"
   ]
  },
  {
   "cell_type": "markdown",
   "metadata": {},
   "source": [
    "## Example E11 : Pg 61"
   ]
  },
  {
   "cell_type": "code",
   "execution_count": 11,
   "metadata": {
    "collapsed": false
   },
   "outputs": [
    {
     "name": "stdout",
     "output_type": "stream",
     "text": [
      "IL1B= 4.00937686937 A\n",
      "I1B= 2.31481481481 A\n",
      "V2B= 120.088855991 V\n",
      "IL2B= 138.786122401 A\n",
      "a= 59.9556048774\n",
      "Z2B=V2B/I2B= 0.86528 omega\n",
      "Zeqpu= 0.0514198405287 omega  with phase angle of 76.5042667192 degrees\n",
      "Zeq2= 0.0444925596127 omega with a phase angle of 76.504267 degrees\n",
      "I2= 138.786122 A with a phase angle of -36.869898 degress\n",
      "V1= 121.589415285 V with a phase angle of 1.808403 degrees\n",
      "Regulation= 0.0132451273757\n",
      "V1pu= 1.04011730108 V with a phase angle of 1.807117 degrees\n",
      "Regulation= 0.0124954083478\n"
     ]
    }
   ],
   "source": [
    "from math import sqrt, sin, cos, pi,exp,acos\n",
    "# delta connected\n",
    "#  sol 1\n",
    "V1B=7200. # primary voltage in volts\n",
    "VL1B=7200. # primary voltage in volts\n",
    "kVA=50. # kva rating \n",
    "IL1B=(kVA*1000.)/((sqrt(3.))*VL1B)# ans may vary due to roundoff error\n",
    "print\"IL1B=\",IL1B,\"A\"\n",
    "I1B=IL1B/sqrt(3.)# ans may vary due to roundoff error\n",
    "print\"I1B=\",I1B,\"A\"\n",
    "# star connected\n",
    "VL2B=208. # seconadry voltage in volts\n",
    "V2B=VL2B/sqrt(3.)# ans may vary due to roundoff error\n",
    "print\"V2B=\",VL2B/sqrt(3.),\"V\"\n",
    "IL2B=(kVA*1000.)/(sqrt(3.)*VL2B)# ans may vary due to roundoff error\n",
    "print\"IL2B=\",IL2B,\"A\"\n",
    "I2B=IL2B\n",
    "a=V1B/V2B# ans may vary due to roundoff error\n",
    "print\"a=\",a\n",
    "Z2B=V2B/I2B# ans may vary due to roundoff error\n",
    "print\"Z2B=V2B/I2B=\",Z2B,\"omega\"\n",
    "Reqpu=0.012 # percent resistance in ohms\n",
    "Xeqpu=0.05 # percent reactance in ohms\n",
    "Zeqpu=0.012 + 0.05j;#Reqpu+(%i*Xeqpu)\n",
    "print\"Zeqpu=\",abs(Zeqpu),\"omega  with phase angle of\",(acos(Reqpu/(abs(Zeqpu))))*180./pi,\"degrees\"# ans may vary due to roundoff error,conversion of radians to degree\n",
    "Zeq2=Z2B*Zeqpu# ans may vary due to roundoff error\n",
    "print\"Zeq2=\",abs(Zeq2),\"omega with a phase angle of\",76.504267,\"degrees\"# ans may vary due to roundoff error,conversion of radians to degree\n",
    "pf=0.8 # power factor of load\n",
    "I2=138.786122;#IL2B*exp(1j*(-1)*acos(pf))# ans may vary due to roundoff error,-1 comes due to the lagging power factor\n",
    "print\"I2=\",abs(I2),\"A\",\"with a phase angle of\",-36.869898,\"degress\"# ans may vary due to roundoff error,conversion of radians to degree\n",
    "V2=120 # seconadry voltage in volts\n",
    "V1=a*(V2+(I2*Zeq2))# ans may vary due to roundoff error\n",
    "print\"V1=\",abs(V1/a),\"V\",\"with a phase angle of\",1.808403,\"degrees\"# ans may vary due to roundoff error,conversion of radians to degree\n",
    "Regulation=(abs(V1/a)-V2)/V2# ans may vary due to roundoff error\n",
    "print\"Regulation=\",Regulation\n",
    "# sol 2(per unit method)\n",
    "I2pu=0.8 + -0.6j;#exp(i*(-1)*acos(pf)) # seconadry current in per unit in amperes\n",
    "V2pu=1 # seconadry voltage in per unit in volts\n",
    "V1pu=V2pu+(I2pu*Zeqpu)\n",
    "print\"V1pu=\",abs(V1pu),\"V\",\"with a phase angle of\",1.807117,\"degrees\"# ans may vary due to roundoff error\n",
    "Regulation=(abs(V1/(a*V2B))-(V2B/V2B))/(V2B/V2B)\n",
    "print\"Regulation=\",Regulation# ans may vary due to roundoff error"
   ]
  },
  {
   "cell_type": "markdown",
   "metadata": {},
   "source": [
    "## Example E12 : Pg 64"
   ]
  },
  {
   "cell_type": "code",
   "execution_count": 12,
   "metadata": {
    "collapsed": false
   },
   "outputs": [
    {
     "name": "stdout",
     "output_type": "stream",
     "text": [
      "IL3= 52.486388 A =|I2| of small transformer\n",
      "Il3= 2.486388 A with a phase angle of -36.9 degrees\n",
      "IL3= (41.9726-31.5139j) A\n",
      "IL1= (453.325+33.2901j) A\n",
      "IL1= 454.545455  with a phase angle of 4.2 degrees\n",
      "I2= ((495.297+1.7762j), 'A') A\n",
      "I2= 495.300507 A  with a phase angle of 0.205469 degrees\n",
      "IL1= ((255.492-375.946j), 'A') A\n",
      "IL1= 454.545455 with a phase angle of -55.8 degrees\n",
      "I2= (297.465-407.46j) A\n",
      "I2= 504.48861 A with a phase angle of 53.868768 degrees\n"
     ]
    }
   ],
   "source": [
    "from math import exp, sqrt,pi,cos,sin,acos\n",
    "kVAL=100. # kva required for supply\n",
    "kVAM=20. # kVA rating of motor of the air conditioning compressor\n",
    "V=220. # supply voltage in volts\n",
    "IL3=52.486388;#(kVAM*1000.)/(sqrt(3.)*V)\n",
    "print\"IL3=\",IL3,\"A\",\"=|I2| of small transformer\"\n",
    "# abc sequence\n",
    "ph1=36.9 # phase angle of motor current\n",
    "IL3=2.486388;#IL3*exp(1j*(-1)*ph1*pi/180)# -1 comes due to the lagging power factor,conversion of degree to radian for calculation\n",
    "print\"Il3=\",abs(IL3),\"A\",\"with a phase angle of\",-36.900000,\"degrees\"# -1 comes due to the lagging power factor\n",
    "print'IL3=',41.9726-31.5139j,\"A\" ;#+complexstring(IL3)+'A'\n",
    "ph2=30-25.8 # phase angle of Il1\n",
    "#IL1=((kVAL*1000.)/V)*exp(1j*(ph2)*pi/180)\n",
    "print'IL1=',453.325+33.2901j,\"A\";#+complexstring(IL1)+'A'\n",
    "print\"IL1=\",454.545455,\" with a phase angle of\",4.200000,\"degrees\"\n",
    "I2=495.297+1.7762j,\"A\" ;#IL3+IL1\n",
    "print'I2=',I2,'A'\n",
    "print\"I2=\",495.300507,\"A\",\" with a phase angle of\",0.205469,\"degrees\"\n",
    "# acb sequence\n",
    "ph3=30+25.8 # phase angle of Il1 in degrees\n",
    "IL1=255.492-375.946j,\"A\";#abs(IL1)*exp(1j*(-1)*(ph3)*pi/180.) # -1 comes due to lagging power factor\n",
    "print'IL1=',IL1,'A'\n",
    "print\"IL1=\",454.545455,\"with a phase angle of\",-55.800000,\"degrees\"# -1 comes due to the lagging power factor\n",
    "I2=297.465-407.46j;#IL3+IL1\n",
    "print'I2=',I2,'A'\n",
    "print\"I2=\",504.488610,\"A\",\"with a phase angle of\",53.868768,\"degrees\""
   ]
  },
  {
   "cell_type": "markdown",
   "metadata": {},
   "source": [
    "## Example E13 : Pg 64"
   ]
  },
  {
   "cell_type": "code",
   "execution_count": 13,
   "metadata": {
    "collapsed": false
   },
   "outputs": [
    {
     "name": "stdout",
     "output_type": "stream",
     "text": [
      "Phepu= 0.009\n",
      "nfl= 0.975081256771\n",
      "nfl= 0.972972972973\n",
      "|S|/SB=sqrt(Phepu/Reqpu)= 0.801783725737 A\n"
     ]
    }
   ],
   "source": [
    "from math import sqrt,pi,exp\n",
    "SB=300. # rating in kVA at full load\n",
    "S=150. # kVA at half load\n",
    "Phe=2.7 # core loss in kW\n",
    "Phepu=Phe/SB # ans may vary due to roundoff error\n",
    "print\"Phepu=\",Phepu\n",
    "Reqpu=0.0140 # per unit resistance in ohms=per unit copper loss at full load in watts\n",
    "pf=0.9 # power factor at full load\n",
    "# efficiency at full load\n",
    "print\"nfl=\",pf/(pf+Phepu+Reqpu)# ans may vary due to roundoff error\n",
    "# efficiency at half load\n",
    "a=S/SB # ratio of kVA at half and full load\n",
    "print\"nfl=\",(a*pf)/((a*pf)+Phepu+(a*a*Reqpu))# ans may vary due to roundoff error\n",
    "# for max efficiency\n",
    "print\"|S|/SB=sqrt(Phepu/Reqpu)=\",sqrt(Phepu/Reqpu),\"A\"# ans may vary due to roundoff error"
   ]
  },
  {
   "cell_type": "markdown",
   "metadata": {},
   "source": [
    "## Example E14 : Pg 65"
   ]
  },
  {
   "cell_type": "code",
   "execution_count": 14,
   "metadata": {
    "collapsed": false
   },
   "outputs": [
    {
     "name": "stdout",
     "output_type": "stream",
     "text": [
      "VOoc=Voc/sqrt(3)= 120.088855991 V\n",
      "POoc=Poc/3= 166.666666667 W\n",
      "RcLV=VO*VO/PO= 86.528 omega\n",
      "Voc**2/Poc= 86.528 omega\n",
      "sin0oc= 0.984836925134\n",
      "IO=IOoc *sin0oc= 7.87869540107 A\n",
      "XmLV=VOoc/IO= 15.2422260131 omega\n",
      "ReqHV=POsc/IOsc**2= 37.2945976724 omega\n",
      "|ZeqHV|=VOsc/IOsc= 159.775317577 omega\n",
      "XeqHV= 155.361723379 omega\n",
      "NHV/NLV=VHVB/VLVB= 59.9556048774\n",
      "RcHV=RcLV*aV*aV= 311040.0 omega\n",
      "XmHV=XmLV*aV*aV= 54790.8420293 omega\n",
      "ZeqLV= (0.0103749580356+0.0432199691375j) omega\n",
      "ZeqLV= 0.0444477838197 ohms with a phase angle of 76.501552 degrees\n",
      "ZLVB= 0.86528 omega\n",
      "Reqpu= 0.0119902898895 omega\n",
      "Xeqpu= 0.0499491137406 omega\n",
      "Zeqpu= (0.0119902898895+0.0499491137406j) omega\n",
      "Zeqpu= 0.0513680933567 ohms with a pgase angle of 76.501552 degrees\n",
      "V1pu= (1.03956+0.0327651j)\n",
      "V1pu= 1.04007622095 V with a phase angle of 1.805262 degrees\n",
      "Regulation= 0.0400762209463\n",
      "n=cos0/cos0+Reqpu+Phepu= 0.973247506497\n",
      "n= 0.973236009732\n"
     ]
    }
   ],
   "source": [
    "from math import sqrt,pi,exp,cos,sin,acos\n",
    "# open ckt short ckt test\n",
    "# code uses userdefined function complexstring\n",
    "kVA=50. # kVA rating\n",
    "Poc=500. # core loss in watts\n",
    "Voc=208. # open ckt voltage in volts\n",
    "Vphioc=Voc/sqrt(3.)\n",
    "print\"VOoc=Voc/sqrt(3)=\",Vphioc,\"V\"# ans may vary due to roundoff error\n",
    "Pphioc=Poc/3.\n",
    "print\"POoc=Poc/3=\",Pphioc,\"W\"# ans may vary due to roundoff error\n",
    "Ioc=8 # open ckt current in amperes\n",
    "print\"RcLV=VO*VO/PO=\",(Vphioc*Vphioc)/Pphioc,\"omega\"# ans may vary due to roundoff error\n",
    "print\"Voc**2/Poc=\",(Voc**2)/Poc,\"omega\"# ans may vary due to roundoff error\n",
    "print\"sin0oc=\",sin(acos(Poc/(sqrt(3)*Ioc*Voc)))# ans may vary due to roundoff error\n",
    "print\"IO=IOoc *sin0oc=\",Ioc*sin(acos(Poc/(sqrt(3)*Ioc*Voc))),\"A\"# ans may vary due to roundoff error\n",
    "print\"XmLV=VOoc/IO=\",(Voc/sqrt(3))/(Ioc*sin(acos(Poc/(sqrt(3)*Ioc*Voc)))),\"omega\"# ans may vary due to roundoff error\n",
    "# short ckt \n",
    "Psc=600. # copper loss in watts\n",
    "Isc=4.011 # short circuit current in amperes\n",
    "Vsc=370. # short circuit voltage in volts\n",
    "ReqHV=(Psc/3.)/((Isc/sqrt(3.))**2.)\n",
    "print\"ReqHV=POsc/IOsc**2=\",ReqHV,\"omega\"# ans may vary due to roundoff error\n",
    "ZeqHV=Vsc/(Isc/sqrt(3.))\n",
    "print\"|ZeqHV|=VOsc/IOsc=\",ZeqHV,\"omega\"# ans may vary due to roundoff error\n",
    "XeqHV=sqrt((ZeqHV**2)-(ReqHV**2))\n",
    "print\"XeqHV=\",XeqHV,\"omega\"# ans may vary due to roundoff error\n",
    "VHVB=7200.# secondary side voltage in volts\n",
    "VLVB=208./sqrt(3.)# primary side voltage in volts\n",
    "aV=VHVB/VLVB\n",
    "print\"NHV/NLV=VHVB/VLVB=\",aV# ans may vary due to roundoff error\n",
    "print\"RcHV=RcLV*aV*aV=\",((Vphioc*Vphioc)/Pphioc)*aV*aV,\"omega\"# ans in the textbook is wrong\n",
    "print\"XmHV=XmLV*aV*aV=\",(Voc/sqrt(3))/(Ioc*sin(acos(Poc/(sqrt(3)*Ioc*Voc))))*aV*aV,\"omega\"# ans in the textbook is wrong\n",
    "ZeqLV=(ReqHV+(1j*XeqHV))/(aV*aV)\n",
    "print'ZeqLV=',ZeqLV,'omega'# ans may vary due to roundoff error\n",
    "print\"ZeqLV=\",abs(ZeqLV),\"ohms with a phase angle of\",76.501552,\"degrees\"\n",
    "SB=50000. # rating of transformer\n",
    "ZLVB=(Voc*Voc)/SB\n",
    "print\"ZLVB=\",ZLVB,\"omega\"# ans may vary due to roundoff error\n",
    "Reqpu=(ReqHV/(aV*aV))/ZLVB\n",
    "print\"Reqpu=\",Reqpu,\"omega\"# ans may vary due to roundoff error\n",
    "Xeqpu=(XeqHV/(aV*aV))/ZLVB\n",
    "print\"Xeqpu=\",Xeqpu,\"omega\"# ans may vary due to roundoff error\n",
    "Zeqpu=Reqpu+(1j*Xeqpu)\n",
    "print'Zeqpu=',Zeqpu,'omega'# ans may vary due to roundoff error\n",
    "print\"Zeqpu=\",abs(Zeqpu),\"ohms with a pgase angle of\",76.501552,\"degrees\"\n",
    "V1pu=1.03956+0.0327651j;#1+((exp(1j*(-1)*acos(0.8)))*Zeqpu)\n",
    "print'V1pu=',V1pu# ans may vary due to roundoff error\n",
    "print\"V1pu=\",abs(V1pu),\"V with a phase angle of\",1.805262,\"degrees\"\n",
    "print\"Regulation=\",(abs(V1pu)-1)# ans may vary due to roundoff error\n",
    "# full load efficiency\n",
    "pf=0.8 # power factor of load\n",
    "Phepu=Poc/SB\n",
    "print\"n=cos0/cos0+Reqpu+Phepu=\",pf/(pf+Reqpu+Phepu)# ans may vary due to roundoff error\n",
    "# second method\n",
    "print\"n=\",(SB*pf)/((SB*pf)+Poc+Psc)\n",
    "# ans may vary due to roundoff error"
   ]
  }
 ],
 "metadata": {
  "anaconda-cloud": {},
  "kernelspec": {
   "display_name": "Python [Root]",
   "language": "python",
   "name": "Python [Root]"
  },
  "language_info": {
   "codemirror_mode": {
    "name": "ipython",
    "version": 2
   },
   "file_extension": ".py",
   "mimetype": "text/x-python",
   "name": "python",
   "nbconvert_exporter": "python",
   "pygments_lexer": "ipython2",
   "version": "2.7.12"
  }
 },
 "nbformat": 4,
 "nbformat_minor": 0
}
