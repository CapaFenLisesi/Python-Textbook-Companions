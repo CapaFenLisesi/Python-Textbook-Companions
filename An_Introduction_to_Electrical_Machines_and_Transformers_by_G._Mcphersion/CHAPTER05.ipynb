{
 "cells": [
  {
   "cell_type": "markdown",
   "metadata": {},
   "source": [
    "# CHAPTER05 : DIRECT CURRENT MACHINES "
   ]
  },
  {
   "cell_type": "markdown",
   "metadata": {},
   "source": [
    "## Example E01 : Pg 82"
   ]
  },
  {
   "cell_type": "code",
   "execution_count": 1,
   "metadata": {
    "collapsed": false
   },
   "outputs": [
    {
     "name": "stdout",
     "output_type": "stream",
     "text": [
      "Flux per pole O=B.A= 0.0156 Wb\n",
      "Z=2*C*Nc= 380.0 conductors\n",
      "w= 125.663706144 rad/s\n",
      "Ka= 120.95775675 V-s/Wb\n",
      "Eg=Ka*O*w= 237.12 V\n",
      "Ia= 64.4 A\n",
      "Pin= 16100.0 W\n",
      "Armature copper loss= 829.472 W\n",
      "Pd=Pin-coper loss= 15270.528 W\n",
      "td=Pd/w= 121.519000741 N-m\n",
      "or 89.6324149467 lb-ft\n"
     ]
    }
   ],
   "source": [
    "from math import sqrt,pi\n",
    "B=0.78 # flux density in tesla\n",
    "A=200.*(10.**(-4.))# cross sectional area in centimetre square\n",
    "print\"Flux per pole O=B.A=\",B*A,\"Wb\"\n",
    "C=95. # no of coils\n",
    "Nc=2. # no of turns in each coil\n",
    "Z=2.*C*Nc\n",
    "print\"Z=2*C*Nc=\",Z,\"conductors\"\n",
    "n=1200. # rotating speed in rev/min\n",
    "w=(n/60.)*(2.*pi)\n",
    "print\"w=\",w,\"rad/s\"# ans may vary due to rounof error\n",
    "a=2. # no of paths\n",
    "p=4. # no of poles\n",
    "Ka=(Z*p)/(2.*pi*a)\n",
    "print\"Ka=\",Ka,\"V-s/Wb\"# ans may vary due to rounof error\n",
    "Eg=Ka*B*A*w\n",
    "print\"Eg=Ka*O*w=\",Eg,\"V\"# ans may vary due to rounof error\n",
    "VT=250. # terminal voltage in volts\n",
    "ra=0.2 # armture resistance in ohms\n",
    "Ia=(VT-Eg)/ra\n",
    "print\"Ia=\",Ia,\"A\"# ans may vary due to rounof error\n",
    "Pin=VT*Ia\n",
    "print\"Pin=\",Pin,\"W\"# ans in textbook is wrong\n",
    "print\"Armature copper loss=\",((Ia*Ia)*ra),\"W\"# ans in textbook is wrong\n",
    "Pd=Pin-((Ia*Ia)*ra)# ans in textbook is wrong\n",
    "print\"Pd=Pin-coper loss=\",Pd,\"W\"\n",
    "print\"td=Pd/w=\",Pd/w,\"N-m\"\n",
    "cf=0.7376 # conversion factor for conversion from N-m to lb-ft\n",
    "print\"or\",(Pd/w)*cf,\"lb-ft\"# ans may vary due to roundoff error"
   ]
  },
  {
   "cell_type": "markdown",
   "metadata": {},
   "source": [
    "## Example E02 : Pg 82"
   ]
  },
  {
   "cell_type": "code",
   "execution_count": 2,
   "metadata": {
    "collapsed": false
   },
   "outputs": [
    {
     "name": "stdout",
     "output_type": "stream",
     "text": [
      "Eg*=VT*-Iara*= 223.0 V\n",
      "w*= 40.0 pirad/sec\n",
      "KaO=Eg*/w*= 1.77457761547 V-s/rad\n",
      "td=KaOIa= 177.457761547 N-m\n",
      "Ia=td/KaO= 169.054313198 A\n",
      "w=(VT-Iara)/KaO= 122.939789262 rad/sec\n"
     ]
    }
   ],
   "source": [
    "from math import sqrt,pi\n",
    "I=100. # current drawn in amperes\n",
    "ra=0.07 # armature resistance in ohms\n",
    "Vt=230. # terminal voltage of motor in volts\n",
    "print\"Eg*=VT*-Iara*=\",Vt-(I*ra),\"V\"\n",
    "n=1200. # speed of rotation in rev/min\n",
    "print\"w*=\",(n/60.)*2.,\"pirad/sec\"\n",
    "print\"KaO=Eg*/w*=\",(Vt-(I*ra))/((n/60.)*2.*pi),\"V-s/rad\"# ans may vary due to roundoff error\n",
    "Ia=100. # armature current in ampere\n",
    "print\"td=KaOIa=\",(Ia*(Vt-(I*ra))/((n/60.)*2.*pi)),\"N-m\"# ans may vary due to roundoff error\n",
    "Td=300. # torque in N-m\n",
    "Ia=Td/((Vt-(I*ra))/((n/60.)*2.*pi))# ans may vary due to roundoff error\n",
    "print\"Ia=td/KaO=\",Ia,\"A\"\n",
    "ra=0.07 # resistance in ohms\n",
    "VT=230. # voltage in volts\n",
    "w=(VT-Ia*ra)/((Vt-(I*ra))/((n/60.)*2.*pi))\n",
    "print\"w=(VT-Iara)/KaO=\",w,\"rad/sec\"# ans may vary due to roundoff error"
   ]
  },
  {
   "cell_type": "markdown",
   "metadata": {},
   "source": [
    "## Example E03 : Pg 83"
   ]
  },
  {
   "cell_type": "code",
   "execution_count": 3,
   "metadata": {
    "collapsed": false
   },
   "outputs": [
    {
     "name": "stdout",
     "output_type": "stream",
     "text": [
      "At 1200 rev/min and shunt field current of 0.7A Eg*=90V\n",
      "wB= 40.0 pirad/sec\n",
      "KaO*=Eg*/wB= 0.716197243914 V-s/rad\n",
      "Ia=td/KaO*= 41.8879020479 A\n",
      "Eg= 116.62241959 V\n",
      "w=Eg/KaO*= 162.83561628 rad/s\n",
      "n= 1554.96559454 rev/min\n",
      "n= 1554.96559454 rev/min\n",
      "td= 22.14 lb-ft\n",
      "KaO=Eg*/nB= 0.0971853496587 V-min/rev\n",
      "Ia=td/(7.04*Ka*O)= 41.9318181818 A\n",
      "n=Eg/KaO= 1554.96559454 rev/min\n"
     ]
    }
   ],
   "source": [
    "from math import sqrt,pi\n",
    "# Ex5_3 uses a magnetization curve given in textbook\n",
    "print\"At 1200 rev/min and shunt field current of 0.7A Eg*=90V\" # from magnetization curve\n",
    "n=1200. # speed of rotation in rev/min\n",
    "Eg1=90. # voltage in volts\n",
    "wB=(n/60.)*2.\n",
    "print\"wB=\",wB,\"pirad/sec\"\n",
    "print\"KaO*=Eg*/wB=\",Eg1/(wB*pi),\"V-s/rad\"# ans may vary due to roundoff error\n",
    "Td=30. # torque in N-m\n",
    "Ia=Td/(Eg1/(wB*pi))\n",
    "print\"Ia=td/KaO*=\",Ia,\"A\"# ans may vary due to roundoff error\n",
    "VT=125. # voltage in volts\n",
    "ra=0.2 # resistance in ohms\n",
    "Eg=VT-(Ia*ra)\n",
    "print\"Eg=\",Eg,\"V\"# ans may vary due to roundoff error\n",
    "w=Eg/((Eg1/(wB*pi)))\n",
    "print\"w=Eg/KaO*=\",w,\"rad/s\"# ans may vary due to roundoff error\n",
    "n=(w*60.)/(2.*pi)\n",
    "print\"n=\",n,\"rev/min\"# ans may vary due to roundoff error\n",
    "# other two techniques\n",
    "# first technique\n",
    "nB=1200. # speed in rev/min\n",
    "n=nB*(Eg/Eg1)# ans may vary due to roundoff error\n",
    "print\"n=\",n,\"rev/min\"\n",
    "# second technique\n",
    "print\"td=\",Td*0.738,\"lb-ft\"# ans may vary due to roundoff error\n",
    "print\"KaO=Eg*/nB=\",Eg/nB,\"V-min/rev\"\n",
    "Ia=(Td*0.738)/(7.04*(Eg1/nB))# ans may vary due to roundoff error\n",
    "print\"Ia=td/(7.04*Ka*O)=\",Ia,\"A\"\n",
    "n=Eg/(Eg1/nB)\n",
    "print\"n=Eg/KaO=\",n,\"rev/min\"# ans may vary due to roundoff error"
   ]
  },
  {
   "cell_type": "markdown",
   "metadata": {},
   "source": [
    "## Example E04 : Pg 89"
   ]
  },
  {
   "cell_type": "code",
   "execution_count": 4,
   "metadata": {
    "collapsed": false
   },
   "outputs": [
    {
     "name": "stdout",
     "output_type": "stream",
     "text": [
      "Isc= 30.0 A\n",
      "If*=If+(Nsc/Nf)*Isc= 1.6 A\n",
      "KaO=Eg*/nB= 0.110416666667 V-min/rev\n",
      "Eg=Kan= 125.875 V\n",
      "Ra= 0.23 ohm\n",
      "VTfl= 114.375 V\n",
      "If*=If+0= 1.3 A\n",
      "Eg=Eg*(n/nB)= 119.58125 V\n",
      "Voltage Regulation=(VTnl-VTfl)/VTfl= 4.55191256831 %\n"
     ]
    }
   ],
   "source": [
    "from math import sqrt,pi\n",
    "# Ex5_4 uses a figure given in textbook\n",
    "Ia=50. # current in amperes\n",
    "IB=50. # current in amperes\n",
    "nB=1200. # speed in rev/min\n",
    "ratio=0.01 # ratio of Nsc/Nf ,unit less\n",
    "Isc=0.6*Ia # equation given in textbook\n",
    "print\"Isc=\",Isc,\"A\"\n",
    "If=1.3 # field current in amperes\n",
    "print\"If*=If+(Nsc/Nf)*Isc=\",If+(ratio*Isc),\"A\"\n",
    "Eg1=132.5 # voltage in volts\n",
    "print\"KaO=Eg*/nB=\",Eg1/nB,\"V-min/rev\"# ans may vary due to roundoff error\n",
    "n=1140. # speed in rev/min\n",
    "Eg=n*(Eg1/nB)\n",
    "print\"Eg=Kan=\",Eg,\"V\"# ans may vary due to roundoff error\n",
    "ra=0.2 # resistance in ohms\n",
    "Ra=0.03+ra # by kirchodff's law and parallel combination or resistances\n",
    "print\"Ra=\",Ra,\"ohm\"\n",
    "VTfl=Eg-(Ia*Ra)\n",
    "print\"VTfl=\",VTfl,\"V\"# ans may vary due to roundoff error\n",
    "print\"If*=If+0=\",If,\"A\"\n",
    "Eg2=125. # voltage in volts\n",
    "VTnl=Eg*(n/nB)\n",
    "print\"Eg=Eg*(n/nB)=\",VTnl,\"V\"# ans may vary due to roundoff error\n",
    "print\"Voltage Regulation=(VTnl-VTfl)/VTfl=\",((VTnl-VTfl)/VTfl)*100.,\"%\" # ans may vary due to roundoff error"
   ]
  },
  {
   "cell_type": "markdown",
   "metadata": {},
   "source": [
    "## Example E05 : Pg 89"
   ]
  },
  {
   "cell_type": "code",
   "execution_count": 5,
   "metadata": {
    "collapsed": false
   },
   "outputs": [
    {
     "name": "stdout",
     "output_type": "stream",
     "text": [
      "Shunt field copper loss= 750.0 W\n",
      "Ia=Isc=Iload+If= 505.0 A\n",
      "Seires filed copper losses= 2550.25 W\n",
      "ACL= 6375.625 W\n",
      "Brush copper loss=2Ia= 1010.0 W\n",
      "Stray load loss=1 % of 125Kw= 1250.0 W\n",
      "Efficiency= 88.067939131 %\n",
      "Pin required= 142435.875 W\n",
      "Ia1= 405.321741689 A\n"
     ]
    }
   ],
   "source": [
    "from math import sqrt,pi\n",
    "V=250. # voltage rating in volts\n",
    "Pout=125000. # output power in watts\n",
    "ra=0.025 # armature resistance in ohms\n",
    "rsc=0.01 # resistance in ohms \n",
    "rf=30. # field resistance in ohms\n",
    "If=5. # field current in amperes\n",
    "print\"Shunt field copper loss=\",If*If*rf,\"W\"\n",
    "Iload=Pout/V\n",
    "Ia=Iload+If\n",
    "Isc=Iload+If\n",
    "print\"Ia=Isc=Iload+If=\",Ia,\"A\"\n",
    "print\"Seires filed copper losses=\",Isc*Isc*rsc,\"W\"\n",
    "print\"ACL=\",Ia*Ia*ra,\"W\"# ans in textbook is wrong\n",
    "print\"Brush copper loss=2Ia=\",2*Ia,\"W\"\n",
    "print\"Stray load loss=1\",\"%\",\"of 125Kw=\",0.01*Pout,\"W\"\n",
    "Prot=5000. # rotational loss in watts\n",
    "losses=(If*If*rf)+(Isc*Isc*rsc)+(Ia*Ia*ra)+(2*Ia)+(0.01*Pout)+Prot # aadding all losses\n",
    "print\"Efficiency=\",(Pout/(Pout+losses))*100.,'%'# ans may vary due to roundoff eror\n",
    "rlosses=500. # rheostat losses in watts\n",
    "Pin=Pout+losses+rlosses\n",
    "print\"Pin required=\",Pin,\"W\" # ans in the textbook is wrong\n",
    "Ia1=sqrt((Prot+(If*If*rf))/(ra+rsc))\n",
    "print\"Ia1=\",Ia1,\"A\""
   ]
  }
 ],
 "metadata": {
  "anaconda-cloud": {},
  "kernelspec": {
   "display_name": "Python [Root]",
   "language": "python",
   "name": "Python [Root]"
  },
  "language_info": {
   "codemirror_mode": {
    "name": "ipython",
    "version": 2
   },
   "file_extension": ".py",
   "mimetype": "text/x-python",
   "name": "python",
   "nbconvert_exporter": "python",
   "pygments_lexer": "ipython2",
   "version": "2.7.12"
  }
 },
 "nbformat": 4,
 "nbformat_minor": 0
}
