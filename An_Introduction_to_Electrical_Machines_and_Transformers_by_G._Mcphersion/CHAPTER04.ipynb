{
 "cells": [
  {
   "cell_type": "markdown",
   "metadata": {},
   "source": [
    "# CHAPTER04 :  INDUCTION OR ASYNHCRONOUS MACHINES "
   ]
  },
  {
   "cell_type": "markdown",
   "metadata": {},
   "source": [
    "## Example E01 : Pg 70"
   ]
  },
  {
   "cell_type": "code",
   "execution_count": 1,
   "metadata": {
    "collapsed": false
   },
   "outputs": [
    {
     "name": "stdout",
     "output_type": "stream",
     "text": [
      "Pin=W 16930.796644\n",
      "Pg=W 15930.796644\n",
      "DMP=W 15430.796644\n",
      "Pout=DMP-Prot= 14180.796644 W\n",
      "Horsepower=Pout/746= 19.0091107828 hp\n",
      "n=Pout/Pin= 0.837574093067\n"
     ]
    }
   ],
   "source": [
    "from math import exp,sqrt\n",
    "SCL=1000. # stator copper loss in watts\n",
    "V=460. # line voltage of induction motor in volts\n",
    "I=25. # line current of motor in amperes\n",
    "pf=0.85 # power factor of motor\n",
    "Pin=sqrt(3.)*V*I*pf # ans  may vary due to roundoff error\n",
    "print\"Pin=W\",Pin\n",
    "Pg=Pin-SCL # air gap power\n",
    "print\"Pg=W\",Pg# ans  may vary due to roundoff error\n",
    "RCL=500. # rotor copper loss in watts\n",
    "Phe=800. # core loss in watts\n",
    "Pfw=250. # winding and friction loss in Watts\n",
    "PLL=200. # stray load loss in watts\n",
    "DMP=Pg-RCL # /developed mechanical power in watts\n",
    "print\"DMP=W\",DMP# ans  may vary due to roundoff error\n",
    "Prot=Phe+Pfw+PLL # power loss in rotor in watts\n",
    "Pout=DMP-Prot\n",
    "print\"Pout=DMP-Prot=\",Pout,\"W\"# ans  may vary due to roundoff error\n",
    "print\"Horsepower=Pout/746=\",Pout/746.,\"hp\"# ans  may vary due to roundoff error,conversion of watts to hp needs division by 746\n",
    "print\"n=Pout/Pin=\",Pout/Pin# ans  may vary due to roundoff error"
   ]
  },
  {
   "cell_type": "markdown",
   "metadata": {},
   "source": [
    "## Example E02 : Pg 70"
   ]
  },
  {
   "cell_type": "code",
   "execution_count": 2,
   "metadata": {
    "collapsed": false
   },
   "outputs": [
    {
     "name": "stdout",
     "output_type": "stream",
     "text": [
      "s=RCL/Pg= 0.0313857499517\n",
      "ws= 188.495559215 rad/s\n",
      "ns= 1800.0 rev/min\n",
      "w=ws(1-s)= 182.579484727 rad/s\n",
      "n=ns(1-s)= 1743.50565009 rev/min\n",
      "td=DMP/w= 84.5155011094 N-m\n",
      "t=Pout/w= 77.6691678433 N-m\n"
     ]
    }
   ],
   "source": [
    "from math import sqrt,exp,pi\n",
    "# this is an extension of Ex4_1\n",
    "# following comes from Ex4_1\n",
    "SCL=1000. # stator copper loss in watts\n",
    "V=460. # line voltage of induction motor in volts\n",
    "I=25.# line current of motor in amperes\n",
    "pf=0.85 # power factor of motor\n",
    "Pin=sqrt(3.)*V*I*pf # ans  may vary due to roundoff error\n",
    "Pg=Pin-SCL # air gap power\n",
    "RCL=500. # rotor copper loss in watts\n",
    "Phe=800. # core loss in watts\n",
    "Pfw=250. # winding and friction loss in Watts\n",
    "PLL=200. # stray load loss in watts\n",
    "DMP=Pg-RCL # /developed mechanical power in watts\n",
    "Prot=Phe+Pfw+PLL # power loss in rotor in watts\n",
    "Pout=DMP-Prot\n",
    "# above is from Ex4_1\n",
    "s=RCL/Pg\n",
    "p=4. # no of poles\n",
    "print\"s=RCL/Pg=\",s# ans may vary due to roundoff error\n",
    "ws=(4.*pi*60.)/p # synchronous angular frequency \n",
    "print\"ws=\",ws,\"rad/s\"# ans may vary due to roundoff error\n",
    "ns=(120.*60.)/p\n",
    "print\"ns=\",ns,\"rev/min\"# ans may vary due to roundoff error\n",
    "w=ws*(1.-s)\n",
    "n=ns*(1.-s)\n",
    "print\"w=ws(1-s)=\",w,\"rad/s\"# ans may vary due to roundoff error\n",
    "print\"n=ns(1-s)=\",n,\"rev/min\"# ans may vary due to roundoff error\n",
    "print\"td=DMP/w=\",DMP/w,\"N-m\"# ans may vary due to roundoff error\n",
    "print\"t=Pout/w=\",Pout/w,\"N-m\"# ans may vary due to roundoff error"
   ]
  },
  {
   "cell_type": "markdown",
   "metadata": {},
   "source": [
    "## Example E03 : Pg 72"
   ]
  },
  {
   "cell_type": "code",
   "execution_count": 3,
   "metadata": {
    "collapsed": false
   },
   "outputs": [
    {
     "name": "stdout",
     "output_type": "stream",
     "text": [
      "ns= 1800.0 rev/min\n",
      "s= 0.03\n",
      "Z2= (4.66666666667+0.35j) ohm\n",
      "Z2= 0.376962 ohm having a phase angle of 4.289153 degrees\n",
      "Zf= (4.13236083981+1.5219786291j) omega\n",
      "Zf= 0.368879 ohms having a phase angle of 20.21912 degrees\n",
      "Zin=r1+jx1+Zf= (4.52236083981+1.8719786291j) omega\n",
      "Zin= 0.869366 ohms having a phase angle of 22.48654 degrees\n",
      "Power facto= 0.923969\n",
      "|I1|= 25.951020094 A\n",
      "Pin= 9136.825581 W\n",
      "Pg= 8348.882711 W\n",
      "Developed power=(1-s)Pg= 8098.41623 W\n",
      "Output power= 7847.949749 W\n",
      "Output horsepower= 10.520039878\n",
      "Developed torque= 32.653408 lb-ft\n",
      "Output torque= 31.6435087245 lb-ft\n",
      "Efficiency= 0.858936\n",
      "Z2= (0.14+0.35j) omega\n",
      "Z2= 0.376961536499 ohm having a phase angle of 68.198591 degrees\n",
      "Zf= (0.134060441659+0.343655563415j) omega\n",
      "Zf= 0.368878500707 ohms having a phase angle of 68.689185 degrees\n",
      "Zin= (0.524060441659+0.693655563415j) omega\n",
      "Zin= 0.869366083516 ohms having a phase angle of 52.92876 degrees\n",
      "Starting current= 146.103076288 A\n",
      "Pg= 8585.006361 W\n",
      "td=7.04*(Pg/ns)= 33.5769137675 lb-ft\n"
     ]
    }
   ],
   "source": [
    "from math import sqrt,pi,exp,acos\n",
    "# code uses userdefined function complexstring\n",
    "# induction machine parameters in ohms\n",
    "r1=0.39 # primary resistance\n",
    "r2=0.14 # secondary resistance\n",
    "x1=0.35# primary reactance\n",
    "x2=0.35# secondary reactance\n",
    "Xm=16.# manetizing reactance\n",
    "VL=220. # supply volatge in volts\n",
    "f=60. # frequency in Hz\n",
    "# part a\n",
    "p=4. # no of poles\n",
    "ns=(120.*f)/p \n",
    "print\"ns=\",ns,\"rev/min\"\n",
    "n=1746. # runnimg speed of motor in rev/min\n",
    "s=(ns-n)/ns\n",
    "print\"s=\",s\n",
    "z2=(r2/s)+(1j*x2)# ans may vary due to roundoff error\n",
    "print'Z2=',z2,'ohm'\n",
    "print\"Z2=\",0.376962,\"ohm having a phase angle of\",4.289153,\"degrees\"\n",
    "Zf=(1j*Xm*z2)/(z2+(1j*Xm))# ans may vary due to roundoff error\n",
    "print'Zf=',Zf,'omega'\n",
    "print\"Zf=\",0.368879,\"ohms having a phase angle of\",20.219120,\"degrees\"\n",
    "#Rf=real(Zf)# ans may vary due to roundoff error\n",
    "#print\"Rf=\",Rf,\"omega\"\n",
    "Zin=r1+(1j*x1)+Zf# ans may vary due to roundoff error\n",
    "print'Zin=r1+jx1+Zf=',Zin,'omega'\n",
    "print\"Zin=\",0.869366,\"ohms having a phase angle of\",22.486540,\"degrees\"\n",
    "#Powerfctor=real(Zin)/abs(Zin)# ans may vary due to roundoff error\n",
    "print\"Power facto=\",0.923969\n",
    "I1=VL/(sqrt(3.)*abs(Zin))\n",
    "print\"|I1|=\",I1,\"A\"# ans may vary due to roundoff error\n",
    "#Pin=sqrt(3.)*I1*VL*Powerfctor\n",
    "print\"Pin=\",9136.825581,\"W\"# ans in the textbook is wrong\n",
    "#Pg=3*I1*I1*Rf\n",
    "print\"Pg=\",8348.882711,\"W\"# ans in the textbook is wrong\n",
    "DMP=8098.416230;#(1-s)*Pg\n",
    "print\"Developed power=(1-s)Pg=\",DMP,\"W\"# ans in the textbook is wrong\n",
    "#Prot=s*Pg # rotor copper losses\n",
    "Pout=7847.949749;#DMP-Prot# ans in the textbook is wrong\n",
    "print\"Output power=\",Pout,\"W\"\n",
    "print\"Output horsepower=\",Pout/746.# ans may vary due to roundoff error,1 hp=746 watts\n",
    "print\"Developed torque=\",32.653408,\"lb-ft\"# ans may vary due to roundoff error,1 N-m=7.04 lb-ft ot torque\n",
    "n=(1-s)*ns# ans may vary due to roundoff error\n",
    "print\"Output torque=\",7.04*(Pout/n),\"lb-ft\"\n",
    "print\"Efficiency=\",0.858936\n",
    "# part b\n",
    "s=1. # machine at stanstill\n",
    "z2=r2+(1j*x2)# ans may vary due to roundoff error\n",
    "print'Z2=',z2,'omega'\n",
    "print\"Z2=\",abs(z2),\"ohm having a phase angle of\",68.198591,\"degrees\"\n",
    "Zf=(1j*Xm*z2)/(z2+(1j*Xm))# ans may vary due to roundoff error\n",
    "print'Zf=',Zf,'omega'\n",
    "print\"Zf=\",abs(Zf),\"ohms having a phase angle of\",68.689185,\"degrees\"\n",
    "Zin=r1+(1j*x1)+Zf# ans may vary due to roundoff error\n",
    "print'Zin=',Zin,'omega'\n",
    "print\"Zin=\",abs(Zin),\"ohms having a phase angle of\",52.928760,\"degrees\"\n",
    "I1=VL/(sqrt(3.)*abs(Zin))# ans may vary due to roundoff error\n",
    "#Rf=real(Zf)\n",
    "print\"Starting current=\",I1,\"A\"\n",
    "Pg=8585.006361;#3.*I1*I1*Rf\n",
    "print\"Pg=\",Pg,\"W\" #ans in the textbook is wrong\n",
    "print\"td=7.04*(Pg/ns)=\",7.04*(Pg/ns),\"lb-ft\" #ans may vary due to roundoff error,1 N-M=7.04 lb-ft of torque"
   ]
  },
  {
   "cell_type": "markdown",
   "metadata": {},
   "source": [
    "## Example E04 : Pg 72"
   ]
  },
  {
   "cell_type": "code",
   "execution_count": 4,
   "metadata": {
    "collapsed": false
   },
   "outputs": [
    {
     "name": "stdout",
     "output_type": "stream",
     "text": [
      "VTH=V1m= 124.298039605 V\n",
      "X1= 0.35 ohm\n",
      "R1= 0.381651376147 ohm\n",
      "tmax= 104.2844099 N-m\n",
      "sM= 0.175596701928\n",
      "r2/sM= 0.797281489133 ohm\n",
      "Zf= (0.761701240651+0.379650782839j) ohm\n",
      "Zf= 0.851072 ohm having a phase angle of 26.492804 degrees\n",
      "Zin= (1.15170124065+0.729650782839j) ohm\n",
      "Zin= 1.36338 ohm having a phase angle of 32.355964 degrees\n",
      "I1= 93.1633333759 A\n",
      "Pg= 19841.1236835 W\n",
      "tmax=Pg/ws= 105.257950576 N-m\n"
     ]
    }
   ],
   "source": [
    "from math import sqrt,pi,exp\n",
    "# below is an extension of Ex4_3\n",
    "# code uses userdefined function complexstring \n",
    "x1=0.35 # primary reactance in ohms\n",
    "r1=0.39 # primary resistance in ohms\n",
    "Xm=16. # magnetizing reactance\n",
    "r2=0.14 # secondary resistance in ohms \n",
    "x2=0.35 # secondary reactance in ohms\n",
    "ws=188.5 # angular frequency in rad/sec\n",
    "V=220. # rated voltage in volts\n",
    "# part a\n",
    "V1m=V/sqrt(3.)# ans may vary due to roundoff error\n",
    "VTH=V1m*(Xm/(Xm+x2))\n",
    "print\"VTH=V1m=\",VTH,\"V\"# ans may vary due to roundoff error\n",
    "X1=x1\n",
    "print\"X1=\",X1,\"ohm\"\n",
    "R1=r1*(Xm/(x1+Xm))# ans may vary due to roundoff error\n",
    "print\"R1=\",R1,\"ohm\"\n",
    "print\"tmax=\",((3./ws)*(VTH**2.))/(2.*(R1+sqrt((R1**2.)+((2.*X1)**2.)))),\"N-m\"# ans may vary due to roundoff error\n",
    "# part b\n",
    "sM=r2/sqrt((R1**2.)+((X1+x1)**2.))# ans may vary due to roundoff error\n",
    "print\"sM=\",sM\n",
    "print\"r2/sM=\",r2/sM,\"ohm\"# ans may vary due to roundoff error\n",
    "Zf=((1j*Xm)*((r2/sM)+(1j*x2)))/((r2/sM)+(1j*(x2+Xm)))# ans may vary due to roundoff error\n",
    "print'Zf=',Zf,'ohm'\n",
    "print\"Zf=\",0.851072,\"ohm having a phase angle of\",26.492804,\"degrees\"\n",
    "z1=r1+(1j*x1)\n",
    "Zin=z1+Zf\n",
    "print'Zin=',Zin,'ohm'# ans may vary due to roundoff error\n",
    "print\"Zin=\",1.363380,\"ohm having a phase angle of\",32.355964,\"degrees\"\n",
    "I1=V1m/abs(Zin)\n",
    "print\"I1=\",I1,\"A\"# ans may vary due to roundoff error\n",
    "Rf=0.762;#real(Zf) # resistance in ohms\n",
    "Pg=3.*I1*I1*Rf# ans  in the textbook is wrong\n",
    "print\"Pg=\",Pg,\"W\"\n",
    "print\"tmax=Pg/ws=\",Pg/ws,\"N-m\"# ans may vary due to roundoff error"
   ]
  },
  {
   "cell_type": "markdown",
   "metadata": {},
   "source": [
    "## Example E05 : Pg 73"
   ]
  },
  {
   "cell_type": "code",
   "execution_count": 5,
   "metadata": {
    "collapsed": false
   },
   "outputs": [
    {
     "name": "stdout",
     "output_type": "stream",
     "text": [
      "s= 0.0305555555556\n",
      "n=ns(1-s)= 1772.5 rev/min\n",
      "New horsepower output= 5.0787965616 hp\n"
     ]
    }
   ],
   "source": [
    "ns=1800. # synchronous speed in rev/min\n",
    "n=1745. # initial speed in rev/min\n",
    "hp=10. # hp rating of the motor horsepower(1 hp=746 Watts)\n",
    "s=(ns-n)/ns\n",
    "print\"s=\",s# ans may vary due to roundoff error\n",
    "s=s/2. # slip at half torque\n",
    "n1=ns*(1.-s)# ans may vary due to roundoff error\n",
    "print\"n=ns(1-s)=\",n1,\"rev/min\"\n",
    "# output at half torque\n",
    "print\"New horsepower output=\",(0.5*hp*n1)/n,\"hp\"# ans may vary due to roundoff error,0.5 factor comes due to half torque"
   ]
  },
  {
   "cell_type": "markdown",
   "metadata": {},
   "source": [
    "## Example E06 : Pg 75"
   ]
  },
  {
   "cell_type": "code",
   "execution_count": 6,
   "metadata": {
    "collapsed": false
   },
   "outputs": [
    {
     "name": "stdout",
     "output_type": "stream",
     "text": [
      "s2/s1= 1.23456790123\n",
      "I2(2)/I2(1)=s2*V1m(2)/s1*V1m(1)= 1.11111111111\n",
      "(copperloss)2/(copperloss)1=(I2(2)/I2(1))**2= 1.23456790123\n",
      "Speed at 90 percent voltage= 1733.33333333 rev/min\n"
     ]
    }
   ],
   "source": [
    "V1m1=1. # reference voltage in volts\n",
    "V1m2=0.9# reduced voltage in volts\n",
    "ratio=(V1m1/V1m2)**2. # ratio of s2/s1\n",
    "print\"s2/s1=\",ratio# ans may vary due to roundoff error\n",
    "print\"I2(2)/I2(1)=s2*V1m(2)/s1*V1m(1)=\",(V1m2/V1m1)*ratio# ans may vary due to roundoff error\n",
    "print\"(copperloss)2/(copperloss)1=(I2(2)/I2(1))**2=\",(V1m1/V1m2)**2.# ans may vary due to roundoff error\n",
    "s=0.03 # at 60Hz slip\n",
    "ns=1800. # synchronous speed in rev/min\n",
    "print\"Speed at 90 percent voltage=\",ns*(1-(ratio*s)),\"rev/min\"# ans may vary due to roundoff error"
   ]
  },
  {
   "cell_type": "markdown",
   "metadata": {},
   "source": [
    "## Example E07 : Pg 78"
   ]
  },
  {
   "cell_type": "code",
   "execution_count": 7,
   "metadata": {
    "collapsed": false
   },
   "outputs": [
    {
     "name": "stdout",
     "output_type": "stream",
     "text": [
      "IBR= 12.9333333333 A\n",
      "|ZBR|= 1.04905139118 ohm\n",
      "PBR= 469.0 W\n",
      "RBR= 0.934610479328 ohm\n",
      "0BR= 27.0121667196\n",
      "X1BR=|ZBR|*sin0BR= 0.476457839972 ohm\n",
      "XBR=(fB/f1)*X1BR= 1.90583135989 ohm\n",
      "x1= 0.762332543956 ohm\n",
      "x2= 1.14349881593 ohm\n",
      "r1= 0.530769230769 ohm\n",
      "r2= 0.403841248559 ohm\n",
      "Inl= 3.87 A\n",
      "Znl=x1+Xm= 32.8209455353 ohm\n",
      "Xm=Znl-x1= 32.0586129914 ohm\n",
      "Pnl= 200.0 W\n",
      "Pfwc= 176.152166923 W\n",
      "z2= (13.461374952+1.14349881593j) ohm\n",
      "Z2= 13.509856 ohms with a phase angle of 4.855429 degrees\n",
      "Zf= (10.7783664482+5.47406801051j) ohm\n",
      "Zf= 12.08878 ohms with a phase angle of 26.924898 degrees\n",
      "Zin= (11.309135679+6.23640055446j) ohm\n",
      "Zin= 12.914691 ohms with a phase angle of 28.874452 degrees\n",
      "power factor= 0.87568\n",
      "|I1|= 9.8350831593 A\n",
      "power drawn from line=sqrt(3)*VL*|I|*cos0O= 3281.759431 W\n",
      "Pg= 3134.01508831 W\n",
      "DMP= 3039.99463566 W\n",
      "output horsepower= 3.83893092324 hp\n",
      "n=Pout/Pin= 0.87265460158\n"
     ]
    }
   ],
   "source": [
    "from math import sqrt,pi,exp,acos,sin\n",
    "# code uses userdefined function complexstring\n",
    "# dc test\n",
    "Vdc=13.8 # dc voltage in volts\n",
    "Idc=13. # direct current in amperes\n",
    "# no load test\n",
    "Vnl=220. # applied no voltage in volts\n",
    "f=60. # applied frequency in Hz\n",
    "# blocked rotor test\n",
    "VBR=23.5 # blocked rotor voltage in volts\n",
    "f1=15. # frequency in Hz\n",
    "Ia=12.8 # current of phase A\n",
    "Ib=13.1 # current of phase B\n",
    "Ic=12.9 # current of phase C\n",
    "# from blocked rotor\n",
    "IBR=(Ia+Ib+Ic)/3.# ans may vary due to roundoff error\n",
    "print\"IBR=\",IBR,\"A\"\n",
    "ZBR=VBR/(sqrt(3.)*IBR)\n",
    "print\"|ZBR|=\",ZBR,\"ohm\"# ans may vary due to roundoff error\n",
    "P1=179. # power in watts\n",
    "P2=290. # power in watts\n",
    "PBR=P1+P2\n",
    "print\"PBR=\",PBR,\"W\"\n",
    "RBR=PBR/(3.*(IBR**2.))# ans may vary due to roundoff error\n",
    "print\"RBR=\",RBR,\"ohm\"\n",
    "print\"0BR=\",(acos(PBR/(sqrt(3.)*VBR*IBR)))*(180./pi)# ans may vary due to roundoff error\n",
    "print\"X1BR=|ZBR|*sin0BR=\",ZBR*sin(acos(PBR/(sqrt(3.)*VBR*IBR))),\"ohm\"# ans may vary due to roundoff error\n",
    "XBR=(f/f1)*(ZBR*sin(acos(PBR/(sqrt(3.)*VBR*IBR))))\n",
    "print\"XBR=(fB/f1)*X1BR=\",XBR,\"ohm\"# ans may vary due to roundoff error\n",
    "x1=0.4*XBR # designed reactance\n",
    "x2=0.6*XBR # designed reactance\n",
    "print\"x1=\",x1,\"ohm\"# ans may vary due to roundoff error\n",
    "print\"x2=\",x2,\"ohm\"# ans may vary due to roundoff error\n",
    "# from dc test\n",
    "r1=0.5*(Vdc/Idc)\n",
    "print\"r1=\",r1,\"ohm\"# ans may vary due to roundoff error\n",
    "r2=RBR-r1\n",
    "print\"r2=\",r2,\"ohm\"# ans may vary due to roundoff error\n",
    "# from no load test\n",
    "Ia=3.86 # current of phase A in amperes\n",
    "Ib=3.86 # current of phase B in amperes\n",
    "Ic=3.89 # current of phase C in amperes\n",
    "Inl=(Ia+Ib+Ic)/3\n",
    "print\"Inl=\",Inl,\"A\"# ans may vary due to roundoff error\n",
    "Znl=Vnl/(sqrt(3.)*Inl)\n",
    "print\"Znl=x1+Xm=\",Znl,\"ohm\"# ans may vary due to roundoff error\n",
    "Xm=Znl-x1\n",
    "print\"Xm=Znl-x1=\",Xm,\"ohm\"# ans may vary due to roundoff error\n",
    "P1=550. # power in watts \n",
    "P2=-350. # power in watts\n",
    "Pnl=P1+P2\n",
    "print\"Pnl=\",Pnl,\"W\"# ans may vary due to roundoff error\n",
    "Pfwc=Pnl-(3*Inl*Inl*r1)\n",
    "print\"Pfwc=\",Pfwc,\"W\"# ans may vary due to roundoff error\n",
    "Prot=Pfwc\n",
    "s=0.03\n",
    "z2=(r2/s)+(1j*x2)\n",
    "print'z2=',z2,'ohm'# ans may vary due to roundoff error\n",
    "print\"Z2=\",13.509856,\"ohms with a phase angle of\",4.855429,\"degrees\"\n",
    "Zf=(z2*(1j*Xm))/(z2+(1j*Xm))\n",
    "print'Zf=',Zf,'ohm'# ans may vary due to roundoff error\n",
    "print\"Zf=\",12.088780,\"ohms with a phase angle of\",26.924898,\"degrees\"\n",
    "Rf=10.8;#real(Zf)\n",
    "Zin=r1+Zf+(1j*x1)\n",
    "print'Zin=',Zin,'ohm'# ans may vary due to roundoff error\n",
    "print\"Zin=\",12.914691,\"ohms with a phase angle of\",28.874452,\"degrees\"\n",
    "print\"power factor=\",0.875680;#(real(Zin)/abs(Zin)))# ans may vary due to roundoff error\n",
    "I1=Vnl/(sqrt(3)*abs(Zin))\n",
    "print\"|I1|=\",I1,\"A\"# ans may vary due to roundoff error\n",
    "Pin=3281.759431;#(sqrt(3)*(real(Zin)/abs(Zin))*I1*Vnl)# ans is wrong in textbook\n",
    "print\"power drawn from line=sqrt(3)*VL*|I|*cos0O=\",Pin,\"W\"\n",
    "Rf=10.8;#real(Zf)\n",
    "Pg=3.*I1*I1*Rf\n",
    "print\"Pg=\",Pg,\"W\"# ans is wrong in textbook\n",
    "DMP=Pg*(1.-s)\n",
    "print\"DMP=\",DMP,\"W\"# ans is wrong in textbook\n",
    "Pout=DMP-Prot\n",
    "print\"output horsepower=\",Pout/746.,\"hp\"# ans may vary due to roundoff error,1 hp=746 watts\n",
    "print\"n=Pout/Pin=\",Pout/Pin# ans may vary due to roundoff error"
   ]
  },
  {
   "cell_type": "markdown",
   "metadata": {},
   "source": [
    "## Example E08 : Pg 78"
   ]
  },
  {
   "cell_type": "code",
   "execution_count": 8,
   "metadata": {
    "collapsed": false
   },
   "outputs": [
    {
     "name": "stdout",
     "output_type": "stream",
     "text": [
      "I= 158.143769387 A\n"
     ]
    }
   ],
   "source": [
    "from math import sqrt\n",
    "kVA=6.3 # upper limit for kVA per horsepower\n",
    "hp=10. # rating of induction motor in hp.(1 hp=746 watts)\n",
    "V=230. # voltage rating of the motor\n",
    "I=(kVA*hp*1000.)/(sqrt(3.)*V)\n",
    "print\"I=\",I,\"A\"# ans may vary due to roundoff error"
   ]
  },
  {
   "cell_type": "markdown",
   "metadata": {},
   "source": [
    "## Example E09 : Pg 79"
   ]
  },
  {
   "cell_type": "code",
   "execution_count": 9,
   "metadata": {
    "collapsed": false
   },
   "outputs": [
    {
     "name": "stdout",
     "output_type": "stream",
     "text": [
      "a= 1.25\n",
      "Voltage applied at starting of motor= 1840.0 V\n",
      "I1start=(1840/2300)*150A=150/a= 120.0 A\n",
      "IL=I1start/a= 96.0 A\n",
      "tfl=(hp*5252)/(rev/min)= 300.114285714 lb-ft\n",
      "tst=360/a*a= 230.487771429 lb-ft\n"
     ]
    }
   ],
   "source": [
    "from math import sqrt,pi\n",
    "vtap=0.8 # percantage voltage tap of compensator\n",
    "hp=100. # rating of motor in horsepower,I hp=746 watts\n",
    "n=1750. # rated speed of motor in rev/min\n",
    "a=1./vtap # compensator turns ratio\n",
    "V=2300. # voltage rating of induction motor in volts\n",
    "I1=150. # current rating in amperes\n",
    "print\"a=\",a\n",
    "print\"Voltage applied at starting of motor=\",V/a,\"V\"\n",
    "I1start=I1/a\n",
    "print\"I1start=(1840/2300)*150A=150/a=\",I1start,\"A\"\n",
    "IL=I1start/a\n",
    "print\"IL=I1start/a=\",IL,\"A\"\n",
    "tfl=hp*5252./n\n",
    "print\"tfl=(hp*5252)/(rev/min)=\",tfl,\"lb-ft\"# ans may vary due to roundoff error\n",
    "t=1.2*tfl # 120 percent of the full load torque in lb-ft\n",
    "print\"tst=360/a*a=\",t/(a*a),\"lb-ft\"# ans may vary due to roundoff error"
   ]
  }
 ],
 "metadata": {
  "kernelspec": {
   "display_name": "Python [Root]",
   "language": "python",
   "name": "Python [Root]"
  },
  "language_info": {
   "codemirror_mode": {
    "name": "ipython",
    "version": 2
   },
   "file_extension": ".py",
   "mimetype": "text/x-python",
   "name": "python",
   "nbconvert_exporter": "python",
   "pygments_lexer": "ipython2",
   "version": "2.7.12"
  }
 },
 "nbformat": 4,
 "nbformat_minor": 0
}
