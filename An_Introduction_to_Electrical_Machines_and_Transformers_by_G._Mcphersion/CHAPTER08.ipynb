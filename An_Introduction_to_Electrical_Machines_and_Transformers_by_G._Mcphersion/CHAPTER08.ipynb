{
 "cells": [
  {
   "cell_type": "markdown",
   "metadata": {},
   "source": [
    "# CHAPTER08 : FORCES AND TORQUES IN ELECTROMAGNETIC SYSTEMS"
   ]
  },
  {
   "cell_type": "markdown",
   "metadata": {},
   "source": [
    "## Example E02 : Pg 129"
   ]
  },
  {
   "cell_type": "code",
   "execution_count": 1,
   "metadata": {
    "collapsed": false
   },
   "outputs": [
    {
     "name": "stdout",
     "output_type": "stream",
     "text": [
      "L(0.01)= 0.057 H\n",
      "XL=wL= 21.489 ohm\n",
      "V=IXL= 21.489 V\n",
      "f= 2.7 N\n"
     ]
    }
   ],
   "source": [
    "x=0.01 # length in metres\n",
    "L=0.03+(270*x*x) # equation provided in the textbook\n",
    "print\"L(0.01)=\",L,\"H\"\n",
    "w=377. # angular  frequency in rad/sec\n",
    "XL=w*L\n",
    "print\"XL=wL=\",XL,\"ohm\"# ans may vary due to toundoff error\n",
    "I=1. # current in ampere\n",
    "V=I*XL\n",
    "print\"V=IXL=\",V,\"V\"# ans may vary due to toundoff error\n",
    "a=540. # comes from an equation in textbook,unit is henry/metre\n",
    "f=(1./2.)*(a*x)\n",
    "print\"f=\",f,\"N\""
   ]
  }
 ],
 "metadata": {
  "anaconda-cloud": {},
  "kernelspec": {
   "display_name": "Python [Root]",
   "language": "python",
   "name": "Python [Root]"
  },
  "language_info": {
   "codemirror_mode": {
    "name": "ipython",
    "version": 2
   },
   "file_extension": ".py",
   "mimetype": "text/x-python",
   "name": "python",
   "nbconvert_exporter": "python",
   "pygments_lexer": "ipython2",
   "version": "2.7.12"
  }
 },
 "nbformat": 4,
 "nbformat_minor": 0
}
