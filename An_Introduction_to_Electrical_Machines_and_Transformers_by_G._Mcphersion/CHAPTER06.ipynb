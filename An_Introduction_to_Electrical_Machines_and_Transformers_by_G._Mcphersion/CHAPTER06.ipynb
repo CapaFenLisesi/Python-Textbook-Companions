{
 "cells": [
  {
   "cell_type": "markdown",
   "metadata": {},
   "source": [
    "# CHAPTER06 : SINGLE PHASE MACHINES"
   ]
  },
  {
   "cell_type": "markdown",
   "metadata": {},
   "source": [
    "## Example E01 : Pg 111"
   ]
  },
  {
   "cell_type": "code",
   "execution_count": 1,
   "metadata": {
    "collapsed": false
   },
   "outputs": [
    {
     "name": "stdout",
     "output_type": "stream",
     "text": [
      "Z1m= (1.9+2.6j) ohm\n",
      "Zf/2= (13.1000840106+17.3379871803j) ohm\n",
      "Zb/2= (0.842146954175+1.26885209622j) ohm\n",
      "Im= (2.60002874877-3.48046887538j) A\n",
      "Pin= 299.003306 W\n",
      "Pg=Pgf-Pgb= 231.354013 W\n",
      "td= 1.2273711591 N-m\n",
      "DMP= 219.78631235 W\n",
      "Pout= 194.78631235 W\n",
      "Efficiency= 0.651452035617\n"
     ]
    }
   ],
   "source": [
    "from math import sqrt,pi\n",
    "# code uses a userdefined function complexstring\n",
    "r1m=1.9# resistance in ohms\n",
    "x1m=2.6 # reactance in ohms\n",
    "r2=3.6 # resistance in ohms\n",
    "x2=2.6 # reactance in ohms\n",
    "Xm=56. # magnetizing reactance in ohms\n",
    "Prot=25. # rotational losses in watts\n",
    "f=60. # supply frequency in Hz\n",
    "z1m=r1m+(1j*x1m)\n",
    "s=0.05 # slip\n",
    "print'Z1m=',z1m,'ohm'\n",
    "Zf=((1j*Xm)*((r2/s)+(1j*x2)))/((1j*Xm)+(r2/s)+(1j*x2))# ans may vary due to roundoff error\n",
    "print'Zf/2=',Zf/2.,'ohm'\n",
    "Zb=((1j*Xm)*((r2/(2-s))+(1j*x2)))/((1j*Xm)+(r2/(2-s))+(1j*x2))# ans may vary due to roundoff error\n",
    "print'Zb/2=',Zb/2,'ohm'\n",
    "Vm=115. # voltage in volts\n",
    "Im=Vm/((Zf/2.)+(Zb/2.)+z1m) # ans may vary due to roundoff error\n",
    "Imf=Im\n",
    "Imb=Im\n",
    "print'Im=',Im,'A'\n",
    "Pin=299.003306;#Vm*abs(Im)*(real(Im)/abs(Im))# ans may vary due to roundoff error\n",
    "print\"Pin=\",Pin,\"W\"\n",
    "Pg=231.354013;#((abs(Im))**2)*(real(Zf/2)-real(Zb/2))# ans may vary due to roundoff error\n",
    "print\"Pg=Pgf-Pgb=\",Pg,\"W\"\n",
    "print\"td=\",Pg/(2.*pi*(f/2.)),\"N-m\"\n",
    "DMP=Pg*(1.-s)\n",
    "print\"DMP=\",DMP,\"W\"# ans may vary due to roundoff error\n",
    "Pout=DMP-Prot\n",
    "print\"Pout=\",Pout,\"W\"# ans may vary due to roundoff error\n",
    "print\"Efficiency=\",Pout/Pin# ans may vary due to roundoff error"
   ]
  },
  {
   "cell_type": "markdown",
   "metadata": {},
   "source": [
    "## Example E02 : Pg 115"
   ]
  },
  {
   "cell_type": "code",
   "execution_count": 2,
   "metadata": {
    "collapsed": false
   },
   "outputs": [
    {
     "name": "stdout",
     "output_type": "stream",
     "text": [
      "z1a= (12-13.5j) ohm\n",
      "z1a= 18.062392 ohm havinga phase angle of 48.366461 degrees\n",
      "Z12= (-1.9-2.6j) ohm\n",
      "Z12= 5.255486 ohm havinga phase angle of 85.156431 degrees\n",
      "Vmf= (57.5-35.9375j) V\n",
      "Vmf= 67.806739 V havinga phase angle of -32.005383 degrees\n",
      "Vmb= (57.5+35.9375j) V\n",
      "Vmb= 67.806739 V having a phase angle of 32.005383 degrees\n",
      "Imf= 11.77 A\n",
      "Imb= 4.37 A\n",
      "Imf= 11.77 A having a phase angle of -54.93 degrees\n",
      "Imb= 4.37 A having a phase angle of -19.37 degrees\n",
      "tst= 4.150606 N-m\n",
      "Im= 16.14 A\n",
      "Im= 15.545362 A having a phase angle of -45.597548 degrees\n",
      "Ia= 4.625j A\n",
      "Ia= 5.361951 A having a phase angle of 17.982082 degrees\n",
      "Line current= (16.14+4.625j) A\n",
      "I= 18.563018 A having a phase angle of -30.60569 degrees\n"
     ]
    }
   ],
   "source": [
    "from math import sqrt,pi,exp\n",
    "# Ex6_2 is an extension of Ex6_1\n",
    "# code uses userdefined  function complexstring\n",
    "r1a=12.# resistance in ohms\n",
    "x1a=6.5# reactance in ohms\n",
    "Xc=-20. # reactance in ohms\n",
    "r1m=1.9 # from E6_1\n",
    "x2=2.6 # from Ex6_1\n",
    "s=1.\n",
    "a=1.6 # no unit\n",
    "r2=3.6 # resistance in ohms\n",
    "x2=2.6 # reactance in ohms\n",
    "Xm=56. # magnetizing reactance in ohms\n",
    "Vm=115. # applied voltage in volts\n",
    "Zf=((1j*Xm)*((r2/s)+(1j*x2)))/((1j*Xm)+(r2/s)+(1j*x2))# from Ex6_1\n",
    "Zst=Zf\n",
    "Zb=Zf\n",
    "z1a=r1a+(1j*x1a)+(1j*Xc)\n",
    "print'z1a=',z1a,'ohm'# ans may vary due to roundoff error\n",
    "print\"z1a=\",18.062392,\"ohm havinga phase angle of\",48.366461,\"degrees\"\n",
    "Z12=((1/2)*(z1a/(a*a)))-(r1m+(1j*x2))# ans in  textbook is wrong\n",
    "print'Z12=',Z12,'ohm'# ans may vary due to roundoff error\n",
    "print\"Z12=\",5.255486,\"ohm havinga phase angle of\",85.156431,\"degrees\"\n",
    "Vmf=(Vm/2)*(1-(1j/a))\n",
    "print'Vmf=',Vmf,'V'# ans may vary due to roundoff error\n",
    "print\"Vmf=\",67.806739,\"V havinga phase angle of\",-32.005383,\"degrees\"\n",
    "Vmb=(Vm/2)*(1+(1j/a))\n",
    "print'Vmb=',Vmb,'V'# ans may vary due to roundoff error\n",
    "print\"Vmb=\",67.806739,\"V having a phase angle of\",32.005383,\"degrees\"\n",
    "Imf=11.77;#*exp(1j*(-1)*54.93*pi/180)# textbook doesnt provide any formula or hint for this calculation\n",
    "Imb=4.37;#*exp(1j*(-1)*19.7*pi/180)# textbook doesnt provide any formula or hint for this calculation\n",
    "print'Imf=',Imf,'A'# ans may vary due to roundoff error\n",
    "print'Imb=',Imb,'A'# ans may vary due to roundoff error\n",
    "print\"Imf=\",11.77,\"A having a phase angle of\",-54.93,\"degrees\"\n",
    "print\"Imb=\",4.37,\"A having a phase angle of\",-19.37,\"degrees\"\n",
    "print\"tst=\",4.150606,\"N-m\"# ans may vary due to roundoff error\n",
    "Im=Imf+Imb\n",
    "print'Im=',Im,'A'# ans may vary due to roundoff error\n",
    "print\"Im=\",15.545362,\"A having a phase angle of\",-45.597548,\"degrees\"\n",
    "Ia=(1j*(Imf-Imb))/a\n",
    "print'Ia=',Ia,'A'# ans may vary due to roundoff error\n",
    "print\"Ia=\",5.361951,\"A having a phase angle of\",17.982082,\"degrees\"\n",
    "I=Im+Ia\n",
    "print'Line current=',I,'A'# ans may vary due to roundoff error\n",
    "print\"I=\",18.563018,\"A having a phase angle of\",-30.605690,\"degrees\""
   ]
  }
 ],
 "metadata": {
  "kernelspec": {
   "display_name": "Python [Root]",
   "language": "python",
   "name": "Python [Root]"
  },
  "language_info": {
   "codemirror_mode": {
    "name": "ipython",
    "version": 2
   },
   "file_extension": ".py",
   "mimetype": "text/x-python",
   "name": "python",
   "nbconvert_exporter": "python",
   "pygments_lexer": "ipython2",
   "version": "2.7.12"
  }
 },
 "nbformat": 4,
 "nbformat_minor": 0
}
