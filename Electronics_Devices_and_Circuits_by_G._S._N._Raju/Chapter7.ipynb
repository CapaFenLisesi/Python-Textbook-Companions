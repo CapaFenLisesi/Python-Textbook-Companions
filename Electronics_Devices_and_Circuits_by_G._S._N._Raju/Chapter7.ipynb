{
 "metadata": {
  "name": "",
  "signature": "sha256:d3daff958b5be5c6e40b0f1f5f3b3f381d9b737d42da1a313b446c455add3344"
 },
 "nbformat": 3,
 "nbformat_minor": 0,
 "worksheets": [
  {
   "cells": [
    {
     "cell_type": "heading",
     "level": 1,
     "metadata": {},
     "source": [
      "Chapter7-Transistor Biasing and Stabilization Techniques"
     ]
    },
    {
     "cell_type": "heading",
     "level": 2,
     "metadata": {},
     "source": [
      "Ex1-pg233"
     ]
    },
    {
     "cell_type": "code",
     "collapsed": false,
     "input": [
      "##Ex7_1\n",
      "import math\n",
      "Ie = 6.0*10**-3\n",
      "Ve = 1.1\n",
      "Re = Ve/Ie\n",
      "print'%s %.2f %s'%(\"Ie = \",(Ie),\"A\")##current flowing in emitter resistance\n",
      "print'%s %.2f %s'%(\"Ve = \",(Ve),\"V\")##voltage drop across emitter resistance\n",
      "print'%s %.2f %s'%(\"Re = \",(Re),\"ohm\")##emitter resistance\n"
     ],
     "language": "python",
     "metadata": {},
     "outputs": [
      {
       "output_type": "stream",
       "stream": "stdout",
       "text": [
        "Ie =  0.01 A\n",
        "Ve =  1.10 V\n",
        "Re =  183.33 ohm\n"
       ]
      }
     ],
     "prompt_number": 1
    },
    {
     "cell_type": "heading",
     "level": 2,
     "metadata": {},
     "source": [
      "Ex2-pg233"
     ]
    },
    {
     "cell_type": "code",
     "collapsed": false,
     "input": [
      "##Ex7_2\n",
      "import math\n",
      "TA = 30.\n",
      "TJ = 48.\n",
      "PD = 4.\n",
      "TR = (TJ - TA)/PD\n",
      "print'%s %.2f %s'%(\"TA = \",(TA),\"degreeC\")##ambient temperature at which transistor is operated\n",
      "print'%s %.2f %s'%(\"TJ = \",(TJ),\"degreeC\")##junction temperature\n",
      "print'%s %.2f %s'%(\"PD = \",(PD),\"W\")##dissipated power\n",
      "print'%s %.2f %s'%(\"TR = (TJ - TA)/PD = \",(TR),\"degreeC/W\")##termal resistance\n"
     ],
     "language": "python",
     "metadata": {},
     "outputs": [
      {
       "output_type": "stream",
       "stream": "stdout",
       "text": [
        "TA =  30.00 degreeC\n",
        "TJ =  48.00 degreeC\n",
        "PD =  4.00 W\n",
        "TR = (TJ - TA)/PD =  4.50 degreeC/W\n"
       ]
      }
     ],
     "prompt_number": 2
    },
    {
     "cell_type": "heading",
     "level": 2,
     "metadata": {},
     "source": [
      "Ex3-pg233"
     ]
    },
    {
     "cell_type": "code",
     "collapsed": false,
     "input": [
      "##Ex7_3\n",
      "import math\n",
      "TA = 28.\n",
      "TJ = 50.\n",
      "TR = 10.\n",
      "PD = (TJ - TA)/TR\n",
      "print'%s %.2f %s'%(\"TA = \",(TA),\"degreeC\")##ambient temperature at which transistor is operated\n",
      "print'%s %.2f %s'%(\"TJ = \",(TJ),\"degreeC\")##junction temperature\n",
      "print'%s %.2f %s'%(\"TR = \",(TR),\"degreeC/W\")##termal resistance\n",
      "print'%s %.2f %s'%(\"PD = (TJ - TA)/TR = \",(PD),\"W\")##dissipated power\n"
     ],
     "language": "python",
     "metadata": {},
     "outputs": [
      {
       "output_type": "stream",
       "stream": "stdout",
       "text": [
        "TA =  28.00 degreeC\n",
        "TJ =  50.00 degreeC\n",
        "TR =  10.00 degreeC/W\n",
        "PD = (TJ - TA)/TR =  2.20 W\n"
       ]
      }
     ],
     "prompt_number": 3
    },
    {
     "cell_type": "heading",
     "level": 2,
     "metadata": {},
     "source": [
      "Ex4-pg234"
     ]
    },
    {
     "cell_type": "code",
     "collapsed": false,
     "input": [
      "##Ex7_4\n",
      "import math\n",
      "RC = 4.*10**3\n",
      "RB = 1.2*10**6\n",
      "VCC = 9.\n",
      "VBE = .2\n",
      "beta = 80.\n",
      "print'%s %.2f %s'%(\"RC = \",(RC),\"ohm\")##collector resistance\n",
      "print'%s %.2f %s'%(\"RB = \",(RB),\"ohm\")##base resistance\n",
      "print'%s %.2f %s'%(\"VCC = \",(VCC),\"V\")##collector supply voltage\n",
      "print'%s %.2f %s'%(\"VBE = \",(VBE),\"V\")##voltage across base and emittter\n",
      "print'%s %.2f %s'%(\"beta = \",(beta),\"\")##current gain\n",
      "IB = (VCC - VBE)/RB\n",
      "print'%s %.2e %s'%(\"IB = (VCC - VBE)/RB = \",(IB),\"A\")##base current\n",
      "IC = beta*IB\n",
      "print'%s %.2e %s'%(\"IC = beta*IB = \",(IC),\"A\")##collector current\n",
      "VCE = VCC - (IC*RC)\n",
      "print'%s %.2f %s'%(\"VCE = VCC - (IC*RC) = \",(VCE),\"V\")##collector-emitter voltage\n",
      "print'%s %.2f %s  %.4f %s'%(\"The Q-point is(\",(VCE),\"V\"and \" \",(IC),\"A\")##Q-point in fixed bias circuit\n"
     ],
     "language": "python",
     "metadata": {},
     "outputs": [
      {
       "output_type": "stream",
       "stream": "stdout",
       "text": [
        "RC =  4000.00 ohm\n",
        "RB =  1200000.00 ohm\n",
        "VCC =  9.00 V\n",
        "VBE =  0.20 V\n",
        "beta =  80.00 \n",
        "IB = (VCC - VBE)/RB =  7.33e-06 A\n",
        "IC = beta*IB =  5.87e-04 A\n",
        "VCE = VCC - (IC*RC) =  6.65 V\n",
        "The Q-point is( 6.65    0.0006 A\n"
       ]
      }
     ],
     "prompt_number": 4
    },
    {
     "cell_type": "heading",
     "level": 2,
     "metadata": {},
     "source": [
      "Ex5-pg235"
     ]
    },
    {
     "cell_type": "code",
     "collapsed": false,
     "input": [
      "##Ex7_5\n",
      "import math\n",
      "VBE = 0.6\n",
      "beta = 100.\n",
      "print'%s %.2f %s'%(\"beta = \",(beta),\"\")##current gain\n",
      "print'%s %.2f %s'%(\"VBE = \",(VBE),\"V\")##voltage across base and emitter\n",
      "##according to given circuit;\n",
      "VCC = 12.\n",
      "RC = 5.*10**3\n",
      "print'%s %.2f %s'%(\"VCC = \",(VCC),\"V\")##collector supply voltage\n",
      "print'%s %.2f %s'%(\"RC = \",(RC),\"ohm\")##collector resistance\n",
      "## optimum operating point is half of (VCC/RC)\n",
      "IC = (1./2.)*(VCC/RC)\n",
      "print'%s %.4f %s'%(\"IC = VCC/(2*RC) = \",(IC),\"A\")##collector current at optimum operating point\n",
      "IB = IC/beta\n",
      "print'%s %.2e %s'%(\"IB = IC/beta = \",(IB),\"A\")##base current\n",
      "##from the closed circuit in the given fig., we have\n",
      "print(\"IB*RB = VCC - VBE\")\n",
      "RB = (VCC - VBE)/IB \n",
      "print'%s %.2f %s'%(\"RB = (VCC - VBE)/IB = \",(RB),\"ohm\")##veriable resistance across base-collector as given in circuit\n",
      "\n"
     ],
     "language": "python",
     "metadata": {},
     "outputs": [
      {
       "output_type": "stream",
       "stream": "stdout",
       "text": [
        "beta =  100.00 \n",
        "VBE =  0.60 V\n",
        "VCC =  12.00 V\n",
        "RC =  5000.00 ohm\n",
        "IC = VCC/(2*RC) =  0.0012 A\n",
        "IB = IC/beta =  1.20e-05 A\n",
        "IB*RB = VCC - VBE\n",
        "RB = (VCC - VBE)/IB =  950000.00 ohm\n"
       ]
      }
     ],
     "prompt_number": 5
    },
    {
     "cell_type": "heading",
     "level": 2,
     "metadata": {},
     "source": [
      "Ex6-pg235"
     ]
    },
    {
     "cell_type": "code",
     "collapsed": false,
     "input": [
      "##Ex7_6\n",
      "import math\n",
      "RC = 2.*10**3\n",
      "beta = 100.\n",
      "VCC = 9.\n",
      "RB = 500.*10**3\n",
      "VBE = 0.6\n",
      "print'%s %.2f %s'%(\"RC = \",(RC),\"ohm\")##collector resistance\n",
      "print'%s %.2f %s'%(\"beta = \",(beta),\"\")##current gain\n",
      "print'%s %.2f %s'%(\"VCC = \",(VCC),\"V\")##collector supply voltage\n",
      "print'%s %.2f %s'%(\"RB = \",(RB),\"ohm\")##base resistance\n",
      "print'%s %.2f %s'%(\"VBE = \",(VBE),\"V\")##base-emitter voltage\n",
      "IB = (VCC - VBE)/RB\n",
      "print'%s %.2e %s'%(\"IB = (VCC - VBE)/RB = \",(IB),\"Amp\")##base current\n",
      "IC = beta*IB\n",
      "print'%s %.4f %s'%(\"IC = beta*IB = \",(IC),\"A\")##collector current\n",
      "VCE = VCC - IC*RC\n",
      "print'%s %.2f %s'%(\"VCE = VCC - IC*RC = \",(VCE),\"V\")##collector-emitter voltage\n",
      "print'%s %.2f %s  %.2e %s '%(\"operating point is(\",(VCE),\"V \"  and \" \",(IC),\"A)\")\n"
     ],
     "language": "python",
     "metadata": {},
     "outputs": [
      {
       "output_type": "stream",
       "stream": "stdout",
       "text": [
        "RC =  2000.00 ohm\n",
        "beta =  100.00 \n",
        "VCC =  9.00 V\n",
        "RB =  500000.00 ohm\n",
        "VBE =  0.60 V\n",
        "IB = (VCC - VBE)/RB =  1.68e-05 Amp\n",
        "IC = beta*IB =  0.0017 A\n",
        "VCE = VCC - IC*RC =  5.64 V\n",
        "operating point is( 5.64    1.68e-03 A) \n"
       ]
      }
     ],
     "prompt_number": 7
    },
    {
     "cell_type": "heading",
     "level": 2,
     "metadata": {},
     "source": [
      "Ex7-pg236"
     ]
    },
    {
     "cell_type": "code",
     "collapsed": false,
     "input": [
      "##Ex7_7\n",
      "import math\n",
      "VCC = 12.\n",
      "RB = 300.*10**3\n",
      "RC = 1.5*10**3\n",
      "Re = 2.*10**3\n",
      "beta = 100.\n",
      "print'%s %.2f %s'%(\"VCC = \",(VCC),\"V\")##collector supply voltage\n",
      "print'%s %.2f %s'%(\"RB = \",(RB),\"ohm\")##base resistance\n",
      "print'%s %.2f %s'%(\"RC = \",(RC),\"ohm\")##collector resistance\n",
      "print'%s %.2f %s'%(\"Re = \",(Re),\"ohm\")##emitter resistance\n",
      "print'%s %.2f %s'%(\"beta = \",(beta),\"\")##current gain\n",
      "IB = VCC/(RB + beta*Re)\n",
      "print'%s %.2e %s'%(\"IB = VCC/(RB + beta*Re) = \",(IB),\"A\")##base current\n",
      "IC = beta*IB\n",
      "print'%s %.2e %s'%(\"IC = beta*IB = \",(IC),\"A\")##collector current\n",
      "IE = IB + IC\n",
      "print'%s %.2e %s'%(\"IE = IB + IC = \",(IE),\"A\")##emitter current\n",
      "VCE = VCC - IC*RC - IE*Re\n",
      "print'%s %.2f %s'%(\"VCE = VCC - IC*RC - IE*Re = \",(VCE),\"V\")##collector-emitter voltage\n",
      "print'%s %.2f %s %.4f %s '%(\"quiescent point is(\",(VCE),\"V \" and \"\" ,(IC),\"A)\")\n"
     ],
     "language": "python",
     "metadata": {},
     "outputs": [
      {
       "output_type": "stream",
       "stream": "stdout",
       "text": [
        "VCC =  12.00 V\n",
        "RB =  300000.00 ohm\n",
        "RC =  1500.00 ohm\n",
        "Re =  2000.00 ohm\n",
        "beta =  100.00 \n",
        "IB = VCC/(RB + beta*Re) =  2.40e-05 A\n",
        "IC = beta*IB =  2.40e-03 A\n",
        "IE = IB + IC =  2.42e-03 A\n",
        "VCE = VCC - IC*RC - IE*Re =  3.55 V\n",
        "quiescent point is( 3.55  0.0024 A) \n"
       ]
      }
     ],
     "prompt_number": 8
    },
    {
     "cell_type": "heading",
     "level": 2,
     "metadata": {},
     "source": [
      "Ex8-pg236"
     ]
    },
    {
     "cell_type": "code",
     "collapsed": false,
     "input": [
      "##Ex7_8\n",
      "import math\n",
      "VCC = 9.\n",
      "RC = 3.*10**3\n",
      "RB = 500.*10**3\n",
      "beta = 100.\n",
      "VBE = 0.7\n",
      "print'%s %.2f %s'%(\"VCC = \",(VCC),\"V\")##collector supply voltage\n",
      "print'%s %.2f %s'%(\"RC = \",(RC),\"ohm\")##collector resistance\n",
      "print'%s %.2f %s'%(\"RB = \",(RB),\"ohm\")##base resistance\n",
      "print'%s %.2f %s'%(\"beta = \",(beta),\"\")##current gain\n",
      "print'%s %.2f %s'%(\"VBE = \",(VBE),\"V\")##emitter-base voltage\n",
      "##for a Fixed Bais Circuit;\n",
      "IB = (VCC - VBE)/RB\n",
      "print'%s %.2e %s'%(\"IB = (VCC - VBE)/RB  = \",(IB),\"A\")##base current\n",
      "IC = beta*IB\n",
      "print'%s %.2e %s'%(\"IC = beta*IB = \",(IC),\"A\")##collector current\n",
      "VCE = VCC - IC*RC\n",
      "print'%s %.2f %s'%(\"VCE = VCC - IC*RC = \",(VCE),\"V\")##collector-emitter voltage\n",
      "print'%s %.2f %s %4f %s '%(\"operating point is(\",(VCE),\"V\" and  \" \",(IC),\"A)\")\n",
      "S = 1+beta\n",
      "print'%s %.2f %s'%(\"S = 1 + beta = \",(S),\"\")##stability factor\n",
      "\n",
      "\n",
      "## NOTE : in the textbook author has taken beta = 100 for calculation \n",
      "##        but has mention beta = 50 in Question\n",
      "##        I am working with beta = 100.\n"
     ],
     "language": "python",
     "metadata": {},
     "outputs": [
      {
       "output_type": "stream",
       "stream": "stdout",
       "text": [
        "VCC =  9.00 V\n",
        "RC =  3000.00 ohm\n",
        "RB =  500000.00 ohm\n",
        "beta =  100.00 \n",
        "VBE =  0.70 V\n",
        "IB = (VCC - VBE)/RB  =  1.66e-05 A\n",
        "IC = beta*IB =  1.66e-03 A\n",
        "VCE = VCC - IC*RC =  4.02 V\n",
        "operating point is( 4.02   0.001660 A) \n",
        "S = 1 + beta =  101.00 \n"
       ]
      }
     ],
     "prompt_number": 9
    },
    {
     "cell_type": "heading",
     "level": 2,
     "metadata": {},
     "source": [
      "Ex9-pg237"
     ]
    },
    {
     "cell_type": "code",
     "collapsed": false,
     "input": [
      "##Ex7_9\n",
      "import math\n",
      "R1 = 80.*10**3\n",
      "R2 = 25.*10**3\n",
      "Re = 2.*10**3\n",
      "Rc = 2.*10**3\n",
      "beta = 100.\n",
      "VCC = 12.\n",
      "VBE = 0.7\n",
      "print'%s %.2f %s'%(\"R1 = \",(R1),\"ohm\")\n",
      "print'%s %.2f %s'%(\"R2 = \",(R2),\"ohm\")\n",
      "print'%s %.2f %s'%(\"Re = \",(Re),\"ohm\")##emitter resistance\n",
      "print'%s %.2f %s'%(\"Rc = \",(Rc),\"ohm\")##collector resistance\n",
      "print'%s %.2f %s'%(\"beta = \",(beta),\"\")##current gain\n",
      "print'%s %.2f %s'%(\"VCC = \",(VCC),\"V\")##collector supply voltage\n",
      "print'%s %.2f %s'%(\"VBE = \",(VBE),\"V\")##base-emitter voltage\n",
      "Rb = R1*R2/(R1+R2)\n",
      "print'%s %.2f %s'%(\"Rb = R1*R2/(R1+R2) = \",(Rb),\"ohm\")##base resistance\n",
      "VB = VCC*(R2/(R1+R2))\n",
      "print'%s %.2f %s'%(\"VB = VCC(R2/(R1+R2)) = \",(VB),\"V\")##base voltage\n",
      "IB = (VB - VBE)/(Rb*(1+((1+beta)*(Re/Rb))))\n",
      "print(\"IB = (VB - VBE)/(Rb*(1+((1+beta)*(Re/Rb))))\")\n",
      "print'%s %.2e %s'%(\"   = \",(IB),\"A\")##base current\n",
      "IC = beta*IB\n",
      "print'%s %.2e %s'%(\"IC = beta*IB = \",(IC),\"A\")##collector current\n",
      "IE = IC\n",
      "VCE = VCC - IC*Rc - IE*Re\n",
      "print'%s %.2f %s'%(\"VCE = VCC - IC*Rc - IE*Re = \",(VCE),\"V\")##collector-emitter voltage\n",
      "print'%s %.2f %s %.2e %s '%(\"operating point is(\",(VCE),\"V\" and  \" \",(IC),\"A)\")\n",
      "S = (1.+beta)*((1.+Rb/Re)/(1.+beta+Rb/Re))\n",
      "print'%s %.2f %s'%(\"S = (1+beta)*[(1+Rb/Re)*(1+beta+Rb/Re)] = \",(S),\"\")\n",
      "\n"
     ],
     "language": "python",
     "metadata": {},
     "outputs": [
      {
       "output_type": "stream",
       "stream": "stdout",
       "text": [
        "R1 =  80000.00 ohm\n",
        "R2 =  25000.00 ohm\n",
        "Re =  2000.00 ohm\n",
        "Rc =  2000.00 ohm\n",
        "beta =  100.00 \n",
        "VCC =  12.00 V\n",
        "VBE =  0.70 V\n",
        "Rb = R1*R2/(R1+R2) =  19047.62 ohm\n",
        "VB = VCC(R2/(R1+R2)) =  2.86 V\n",
        "IB = (VB - VBE)/(Rb*(1+((1+beta)*(Re/Rb))))\n",
        "   =  9.76e-06 A\n",
        "IC = beta*IB =  9.76e-04 A\n",
        "VCE = VCC - IC*Rc - IE*Re =  8.10 V\n",
        "operating point is( 8.10   9.76e-04 A) \n",
        "S = (1+beta)*[(1+Rb/Re)*(1+beta+Rb/Re)] =  9.62 \n"
       ]
      }
     ],
     "prompt_number": 10
    },
    {
     "cell_type": "heading",
     "level": 2,
     "metadata": {},
     "source": [
      "Ex10-pg238"
     ]
    },
    {
     "cell_type": "code",
     "collapsed": false,
     "input": [
      "##Ex7_10\n",
      "import math\n",
      "delta_IC = 0.01*10**-3\n",
      "delta_beta = 5.\n",
      "print'%s %.2e %s'%(\"delta_IC = \",(delta_IC),\"A\")##change of collector current\n",
      "print'%s %.2f %s'%(\"delta_beta = \",(delta_beta),\"A\")##change in current gain\n",
      "print'%s %.2e %s'%(\"S'''' = delta_IC/delta_beta = \",(delta_IC/delta_beta),\"\")##stability\n"
     ],
     "language": "python",
     "metadata": {},
     "outputs": [
      {
       "output_type": "stream",
       "stream": "stdout",
       "text": [
        "delta_IC =  1.00e-05 A\n",
        "delta_beta =  5.00 A\n",
        "S'''' = delta_IC/delta_beta =  2.00e-06 \n"
       ]
      }
     ],
     "prompt_number": 11
    },
    {
     "cell_type": "heading",
     "level": 2,
     "metadata": {},
     "source": [
      "Ex11-pg239"
     ]
    },
    {
     "cell_type": "code",
     "collapsed": false,
     "input": [
      "##Ex7_11\n",
      "import math\n",
      "TA = 30.\n",
      "TJ = 48.\n",
      "PD = 4.\n",
      "TR = (TJ - TA)/PD\n",
      "print'%s %.2f %s'%(\"TA = \",(TA),\"degreeC\")##ambient temperature at which transistor is operated\n",
      "print'%s %.2f %s'%(\"TJ = \",(TJ),\"degreeC\")##junction temperature\n",
      "print'%s %.2f %s'%(\"PD = \",(PD),\"W\")##dissipated power\n",
      "print'%s %.2f %s'%(\"TR = (TJ - TA)/PD = \",(TR),\"degreeC/W\")##termal resistance\n"
     ],
     "language": "python",
     "metadata": {},
     "outputs": [
      {
       "output_type": "stream",
       "stream": "stdout",
       "text": [
        "TA =  30.00 degreeC\n",
        "TJ =  48.00 degreeC\n",
        "PD =  4.00 W\n",
        "TR = (TJ - TA)/PD =  4.50 degreeC/W\n"
       ]
      }
     ],
     "prompt_number": 12
    },
    {
     "cell_type": "heading",
     "level": 2,
     "metadata": {},
     "source": [
      "Ex12-pg 239"
     ]
    },
    {
     "cell_type": "code",
     "collapsed": false,
     "input": [
      "##Ex7_12\n",
      "import math\n",
      "TA = 28.\n",
      "TJ = 50.\n",
      "TR = 10.\n",
      "PD = (TJ - TA)/TR\n",
      "print'%s %.2f %s'%(\"TA = \",(TA),\"degreeC\")##ambient temperature at which transistor is operated\n",
      "print'%s %.2f %s'%(\"TJ = \",(TJ),\"degreeC\")##junction temperature\n",
      "print'%s %.2f %s'%(\"TR = \",(TR),\"degreeC/W\")##termal resistance\n",
      "print'%s %.2f %s'%(\"PD = (TJ - TA)/TR = \",(PD),\"W\")##dissipated power\n"
     ],
     "language": "python",
     "metadata": {},
     "outputs": [
      {
       "output_type": "stream",
       "stream": "stdout",
       "text": [
        "TA =  28.00 degreeC\n",
        "TJ =  50.00 degreeC\n",
        "TR =  10.00 degreeC/W\n",
        "PD = (TJ - TA)/TR =  2.20 W\n"
       ]
      }
     ],
     "prompt_number": 13
    }
   ],
   "metadata": {}
  }
 ]
}