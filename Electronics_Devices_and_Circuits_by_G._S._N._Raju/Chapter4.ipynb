{
 "metadata": {
  "name": "",
  "signature": "sha256:b5dd4c88b33d9566177e5d14d5448e93091bbef56202314786623f46711c6cd8"
 },
 "nbformat": 3,
 "nbformat_minor": 0,
 "worksheets": [
  {
   "cells": [
    {
     "cell_type": "heading",
     "level": 1,
     "metadata": {},
     "source": [
      "Chapter4-Diode Characteristics and Applications"
     ]
    },
    {
     "cell_type": "heading",
     "level": 2,
     "metadata": {},
     "source": [
      "Ex1-pg141"
     ]
    },
    {
     "cell_type": "code",
     "collapsed": false,
     "input": [
      "##Ex4_1\n",
      "import math\n",
      "Irs = 0.2*10**-6\n",
      "Vf = 0.1\n",
      "VT = 26.*10**-3\n",
      "eta = 1.##for germanium\n",
      "I = Irs*(math.exp(Vf/eta/VT)-1.)\n",
      "print'%s %.2e %s'%(\"Irs = \",(Irs),\"A\")##reverse saturation current\n",
      "print'%s %.2f %s'%(\"Vf = \",(Vf),\"V\")##applied voltage\n",
      "print'%s %.2f %s'%(\"VT = \",(VT),\"V\")##voltage at room temperature\n",
      "print'%s %.2f %s'%(\"eta = \",(eta),\"\")\n",
      "print(\"I = Irs*(math.exp(Vf/eta/VT)-1)\")##current at room temperature\n",
      "print'%s %.2e %s'%(\"I = \",(I),\"A\")\n",
      "\n",
      "##current in silicon:\n",
      "eta = 2.##for silicon\n",
      "print'%s %.2f %s'%(\"eta = \",(eta),\"\")\n",
      "I = Irs*(math.exp(Vf/eta/VT)-1.)\n",
      "print'%s %.2e %s'%(\"I = \",(I),\"A\")\n",
      "\n",
      "\n",
      "\n",
      "\n",
      "## note: incomplete solution in textbook for above question.\n"
     ],
     "language": "python",
     "metadata": {},
     "outputs": [
      {
       "output_type": "stream",
       "stream": "stdout",
       "text": [
        "Irs =  2.00e-07 A\n",
        "Vf =  0.10 V\n",
        "VT =  0.03 V\n",
        "eta =  1.00 \n",
        "I = Irs*(math.exp(Vf/eta/VT)-1)\n",
        "I =  9.16e-06 A\n",
        "eta =  2.00 \n",
        "I =  1.17e-06 A\n"
       ]
      }
     ],
     "prompt_number": 2
    },
    {
     "cell_type": "heading",
     "level": 2,
     "metadata": {},
     "source": [
      "Ex2-pg141"
     ]
    },
    {
     "cell_type": "code",
     "collapsed": false,
     "input": [
      "##Ex4_2\n",
      "import math\n",
      "Irs = 2.0*10**-6\n",
      "I = 10.*10**-3\n",
      "VT = 26.*10**-3\n",
      "eta = 2##for silicon\n",
      "print'%s %.2e %s'%(\"Irs = \",(Irs),\"A\")##reverse saturation current\n",
      "print'%s %.2f %s'%(\"I = \",(I),\"A\")##forward current\n",
      "print'%s %.2f %s'%(\"VT = \",(VT),\"V\")##voltage at room temperature\n",
      "print'%s %.2f %s'%(\"eta = \",(eta),\"\")\n",
      "Vf = eta*VT*math.log((I/Irs)+1)##voltage produced\n",
      "print'%s %.2f %s'%(\"Vf = eta*VT*log((I/Irs)+1) = \",(Vf),\"V\")\n"
     ],
     "language": "python",
     "metadata": {},
     "outputs": [
      {
       "output_type": "stream",
       "stream": "stdout",
       "text": [
        "Irs =  2.00e-06 A\n",
        "I =  0.01 A\n",
        "VT =  0.03 V\n",
        "eta =  2.00 \n",
        "Vf = eta*VT*log((I/Irs)+1) =  0.44 V\n"
       ]
      }
     ],
     "prompt_number": 3
    },
    {
     "cell_type": "heading",
     "level": 2,
     "metadata": {},
     "source": [
      "Ex3-pg142"
     ]
    },
    {
     "cell_type": "code",
     "collapsed": false,
     "input": [
      "##Ex4_3\n",
      "import math\n",
      "If = 3.*10**-3##forward current\n",
      "eta = 1.##for germanium\n",
      "T = 300.##room temperature\n",
      "VT = T/11600.##voltage at room temperature\n",
      "print'%s %.2e %s'%(\"If = \",(If),\"A\")\n",
      "print'%s %.2f %s'%(\"eta = \",(eta),\"\")\n",
      "print'%s %.2f %s'%(\"T = \",(T),\"degreeK\")\n",
      "print'%s %.2f %s'%(\"VT = \",(VT),\"V\")\n",
      "Rdf = (eta*VT/If)##dynamic resistance at room temprature\n",
      "print'%s %.2f %s'%(\"Rdf = (eta*VT/If) = \",(Rdf),\"ohm\")\n"
     ],
     "language": "python",
     "metadata": {},
     "outputs": [
      {
       "output_type": "stream",
       "stream": "stdout",
       "text": [
        "If =  3.00e-03 A\n",
        "eta =  1.00 \n",
        "T =  300.00 degreeK\n",
        "VT =  0.03 V\n",
        "Rdf = (eta*VT/If) =  8.62 ohm\n"
       ]
      }
     ],
     "prompt_number": 4
    },
    {
     "cell_type": "heading",
     "level": 2,
     "metadata": {},
     "source": [
      "Ex4-pg142"
     ]
    },
    {
     "cell_type": "code",
     "collapsed": false,
     "input": [
      "##Ex4_4\n",
      "import math\n",
      "A = 4*10**-6\n",
      "W = 1.5*10**-6\n",
      "apsilent_r = 16.##for germanium\n",
      "apsilent_not = 8.85*10**-12##permitivity in vaccum\n",
      "print'%s %.2e %s'%(\"A = \",(A),\"m_sq\")##cross sectional are\n",
      "print'%s %.2e %s'%(\"W = \",(W),\"m\")##width of depletion layer\n",
      "print'%s %.2e %s'%(\"apsient_r = \",(apsilent_r),\"\")##relative permittivity\n",
      "print(\"CT = apsilent*A/W\")##transition capacitance\n",
      "print'%s %.2e %s'%(\"   = \",(apsilent_r*apsilent_not*A/W),\"F\")\n",
      "\n",
      "\n",
      "## note: units given in textbook in the solution for cross sectional area and width are misprinted.\n"
     ],
     "language": "python",
     "metadata": {},
     "outputs": [
      {
       "output_type": "stream",
       "stream": "stdout",
       "text": [
        "A =  4.00e-06 m_sq\n",
        "W =  1.50e-06 m\n",
        "apsient_r =  1.60e+01 \n",
        "CT = apsilent*A/W\n",
        "   =  3.78e-10 F\n"
       ]
      }
     ],
     "prompt_number": 5
    },
    {
     "cell_type": "heading",
     "level": 2,
     "metadata": {},
     "source": [
      "Ex5-pg142"
     ]
    },
    {
     "cell_type": "code",
     "collapsed": false,
     "input": [
      "##Ex4_5\n",
      "import math\n",
      "I = 10.*10**-3\n",
      "eta = 1##for germanium\n",
      "VT = 26.*10**-3\n",
      "tawo = 6.*10**-3\n",
      "CD = I*tawo/eta/VT\n",
      "print'%s %.2f %s'%(\"I = \",(I),\"A\")##forward current\n",
      "print'%s %.2f %s'%(\"eta = \",(eta),\"\")\n",
      "print'%s %.2f %s'%(\"VT = \",(VT),\"V\")##voltagr at room temperature\n",
      "print'%s %.2f %s'%(\"tawo = \",(tawo),\"sec\")##mean lifetime\n",
      "print'%s %.2e %s'%(\"CD = I*tao/eta/VT = \",(CD),\"F\")##\n"
     ],
     "language": "python",
     "metadata": {},
     "outputs": [
      {
       "output_type": "stream",
       "stream": "stdout",
       "text": [
        "I =  0.01 A\n",
        "eta =  1.00 \n",
        "VT =  0.03 V\n",
        "tawo =  0.01 sec\n",
        "CD = I*tao/eta/VT =  2.31e-03 F\n"
       ]
      }
     ],
     "prompt_number": 6
    }
   ],
   "metadata": {}
  }
 ]
}