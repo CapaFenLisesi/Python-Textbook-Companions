{
 "metadata": {
  "name": "",
  "signature": "sha256:a4b3441bd4777b1f4f74984d78b8aa7d5a0397bbd623e5e34e1bdf797e40e04f"
 },
 "nbformat": 3,
 "nbformat_minor": 0,
 "worksheets": [
  {
   "cells": [
    {
     "cell_type": "heading",
     "level": 1,
     "metadata": {},
     "source": [
      "Chapter13- Oscillators"
     ]
    },
    {
     "cell_type": "heading",
     "level": 2,
     "metadata": {},
     "source": [
      "Ex1-pg411"
     ]
    },
    {
     "cell_type": "code",
     "collapsed": false,
     "input": [
      "##Ex13_1\n",
      "import math\n",
      "A = 100.##amplification gain\n",
      "A_Beta = 1.##for sustain oscillation \n",
      "Beta = A_Beta/A##feeback ratio\n",
      "print'%s %.2f %s'%(\"A = \",(A),\"\")\n",
      "print'%s %.2f %s'%(\"A_Beta = \",(A_Beta),\"\")\n",
      "print'%s %.2f %s'%(\"Beta = \",(Beta),\"\")\n"
     ],
     "language": "python",
     "metadata": {},
     "outputs": [
      {
       "output_type": "stream",
       "stream": "stdout",
       "text": [
        "A =  100.00 \n",
        "A_Beta =  1.00 \n",
        "Beta =  0.01 \n"
       ]
      }
     ],
     "prompt_number": 1
    },
    {
     "cell_type": "heading",
     "level": 2,
     "metadata": {},
     "source": [
      "Ex2-pg411"
     ]
    },
    {
     "cell_type": "code",
     "collapsed": false,
     "input": [
      "##Ex13_2\n",
      "import math\n",
      "Rf = 0.5*10**6##feeback resistance\n",
      "Cf = 100.*10**-12##capacitance across feedback\n",
      "Rc = 0.5*10**6##critical resistance\n",
      "f0 = 1./(2.*math.pi*Rf*Cf*(6.+4.*(Rc/Rf))**(1/2.))##frequency of oscillation\n",
      "print'%s %.2f %s'%(\"Rf = \",(Rf),\"ohm\")\n",
      "print'%s %.2e %s'%(\"Cf = \",(Cf),\"F\")\n",
      "print'%s %.2f %s'%(\"Rc = \",(Rc),\"ohm\")\n",
      "print'%s %.2f %s'%(\"f0 = 1/[2*pi*Rf*Cf*(6+4*(Rc/Rf))^(1/2)] = \",(f0),\"Hz\")\n"
     ],
     "language": "python",
     "metadata": {},
     "outputs": [
      {
       "output_type": "stream",
       "stream": "stdout",
       "text": [
        "Rf =  500000.00 ohm\n",
        "Cf =  1.00e-10 F\n",
        "Rc =  500000.00 ohm\n",
        "f0 = 1/[2*pi*Rf*Cf*(6+4*(Rc/Rf))^(1/2)] =  1006.58 Hz\n"
       ]
      }
     ],
     "prompt_number": 2
    },
    {
     "cell_type": "heading",
     "level": 2,
     "metadata": {},
     "source": [
      "Ex3-pg412"
     ]
    },
    {
     "cell_type": "code",
     "collapsed": false,
     "input": [
      "##Ex13_3\n",
      "import math\n",
      "Rf = 1.5*10**6##feeback resistance\n",
      "Cf = 1.*10**-9##capacitance across feedback\n",
      "f0 = 1./(2.*math.pi*Rf*Cf)##frequency of oscillation\n",
      "print'%s %.2f %s'%(\"Rf = \",(Rf),\"ohm\")\n",
      "print'%s %.2e %s'%(\"Cf = \",(Cf),\"F\")\n",
      "print'%s %.2f %s'%(\"f0 = 1/(2*pi*Rf*Cf) = \",(f0),\"Hz\")\n"
     ],
     "language": "python",
     "metadata": {},
     "outputs": [
      {
       "output_type": "stream",
       "stream": "stdout",
       "text": [
        "Rf =  1500000.00 ohm\n",
        "Cf =  1.00e-09 F\n",
        "f0 = 1/(2*pi*Rf*Cf) =  106.10 Hz\n"
       ]
      }
     ],
     "prompt_number": 3
    },
    {
     "cell_type": "heading",
     "level": 2,
     "metadata": {},
     "source": [
      "Ex4-pg412"
     ]
    },
    {
     "cell_type": "code",
     "collapsed": false,
     "input": [
      "##Ex13_4\n",
      "import math\n",
      "C1 = 1.*10**-9##capacitance of capacitor 1\n",
      "C2 = 10.*10**-9##capacitance of capacitor 2\n",
      "L = 110.*10**-6##inductance of inductor\n",
      "beta = C1/C2##feedback factor\n",
      "f0 = ((C1+C2)/(C1*C2*L))**.5/(2.*math.pi)##operating frequency\n",
      "print'%s %.2e %s'%(\"C1 = \",(C1),\"F\")\n",
      "print'%s %.2e %s'%(\"C2 = \",(C2),\"F\")\n",
      "print'%s %.2e %s'%(\"L = \",(L),\"H\")\n",
      "print'%s %.2e %s'%(\"beta = \",(beta),\"\")\n",
      "print'%s %.2f %s'%(\"f0 = ((C1+C2)/(C1*C2*L))^.5/(2*pi) = \",(f0),\"Hz\")\n",
      "\n",
      "##note : unit given for inductance \"L\" is wrong in the textook for the above question.\n"
     ],
     "language": "python",
     "metadata": {},
     "outputs": [
      {
       "output_type": "stream",
       "stream": "stdout",
       "text": [
        "C1 =  1.00e-09 F\n",
        "C2 =  1.00e-08 F\n",
        "L =  1.10e-04 H\n",
        "beta =  1.00e-01 \n",
        "f0 = ((C1+C2)/(C1*C2*L))^.5/(2*pi) =  503292.12 Hz\n"
       ]
      }
     ],
     "prompt_number": 4
    }
   ],
   "metadata": {}
  }
 ]
}