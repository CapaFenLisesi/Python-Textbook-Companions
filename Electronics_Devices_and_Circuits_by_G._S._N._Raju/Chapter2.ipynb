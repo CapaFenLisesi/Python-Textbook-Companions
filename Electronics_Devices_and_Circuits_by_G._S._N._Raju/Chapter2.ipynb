{
 "metadata": {
  "name": "",
  "signature": "sha256:ec6af5429388f992cb1468420122d4e393e493b5c03d62f1dfb860ebd6cd8e26"
 },
 "nbformat": 3,
 "nbformat_minor": 0,
 "worksheets": [
  {
   "cells": [
    {
     "cell_type": "heading",
     "level": 1,
     "metadata": {},
     "source": [
      "Chapter2-Passive Component and DC Sources and Circuit Theorems\n",
      "and Basic Meters"
     ]
    },
    {
     "cell_type": "heading",
     "level": 2,
     "metadata": {},
     "source": [
      "Ex1-pg44"
     ]
    },
    {
     "cell_type": "code",
     "collapsed": false,
     "input": [
      "##Ex2_1\n",
      "import math\n",
      "Q = 2*10**-6;\n",
      "V = 10.\n",
      "print'%s %.2e %s'%(\"Q = \",Q,\"C\")## charge\n",
      "print'%s %.2f %s'%(\"V = \",V,\"V\") ##voltage\n",
      "print'%s %.2e %s'%(\"C = Q/V = \",Q/V,\"F\")##calculation for capacitance\n"
     ],
     "language": "python",
     "metadata": {},
     "outputs": [
      {
       "output_type": "stream",
       "stream": "stdout",
       "text": [
        "Q =  2.00e-06 C\n",
        "V =  10.00 V\n",
        "C = Q/V =  2.00e-07 F\n"
       ]
      }
     ],
     "prompt_number": 2
    },
    {
     "cell_type": "heading",
     "level": 2,
     "metadata": {},
     "source": [
      "Ex2-pg44"
     ]
    },
    {
     "cell_type": "code",
     "collapsed": false,
     "input": [
      "##Ex2_2\n",
      "import math\n",
      "C = 10**-6\n",
      "V = 10.\n",
      "print'%s %.2e %s'%(\"C =\",(C),\"F\")##capacitance\n",
      "print'%s %.2f %s'%(\"V = \",(V),\"V\")##voltage\n",
      "print'%s %.2e %s'%(\"Q = C*V = \",(C*V),\"C\")##calculation for charge\n",
      "#conveted in units"
     ],
     "language": "python",
     "metadata": {},
     "outputs": [
      {
       "output_type": "stream",
       "stream": "stdout",
       "text": [
        "C = 1.00e-06 F\n",
        "V =  10.00 V\n",
        "Q = C*V =  1.00e-05 C\n"
       ]
      }
     ],
     "prompt_number": 4
    },
    {
     "cell_type": "heading",
     "level": 2,
     "metadata": {},
     "source": [
      "Ex3-pg44"
     ]
    },
    {
     "cell_type": "code",
     "collapsed": false,
     "input": [
      "##Ex2_3\n",
      "import math\n",
      "Q = 5.*(10**-12) ;\n",
      "V = 50.\n",
      "print'%s %.2e %s'%(\"Q = \",(Q),\"C\")##charge\n",
      "print'%s %.7f %s'%(\"V = \",(V),\"V\")##voltage\n",
      "print'%s %.2e %s'%(\"C = Q/V = \",(Q/V),\"F\")##calculation for capacitance\n",
      "#conveted into units"
     ],
     "language": "python",
     "metadata": {},
     "outputs": [
      {
       "output_type": "stream",
       "stream": "stdout",
       "text": [
        "Q =  5.00e-12 C\n",
        "V =  50.0000000 V\n",
        "C = Q/V =  1.00e-13 F\n"
       ]
      }
     ],
     "prompt_number": 5
    },
    {
     "cell_type": "heading",
     "level": 2,
     "metadata": {},
     "source": [
      "Ex4-pg45"
     ]
    },
    {
     "cell_type": "code",
     "collapsed": false,
     "input": [
      "##Ex2_4\n",
      "import math\n",
      "I = 10.*(10**-6)\n",
      "t= 10.\n",
      "print'%s %.2e %s'%(\"I = \",(I),\"A\")##current\n",
      "print'%s %.2f %s'%(\"t = \",(t),\"seconds\")##time\n",
      "print'%s %.1e %s'%(\"Q =\",(I*t),\"* C \")##calculation for charge\n",
      "#converted into units"
     ],
     "language": "python",
     "metadata": {},
     "outputs": [
      {
       "output_type": "stream",
       "stream": "stdout",
       "text": [
        "I =  1.00e-05 A\n",
        "t =  10.00 seconds\n",
        "Q = 1.0e-04 * C \n"
       ]
      }
     ],
     "prompt_number": 7
    },
    {
     "cell_type": "heading",
     "level": 2,
     "metadata": {},
     "source": [
      "Ex5-pg45"
     ]
    },
    {
     "cell_type": "code",
     "collapsed": false,
     "input": [
      "##Ex2_5\n",
      "import math\n",
      "C = 2.*math.pow(10,-6)\n",
      "t= 2.\n",
      "I = 10.*math.pow(10,-6)\n",
      "Q = I*t\n",
      "print'%s %.2e %s'%(\"C = \",(C),\"F\")##capacitance\n",
      "print'%s %.2f %s'%(\"t = \",(t),\"seconds\")##time\n",
      "print'%s %.2e %s'%(\"I = \",(I),\"A\")##current\n",
      "print'%s %.2e %s'%(\"Q = I*t = \",(Q),\"C\")##calculation for charge\n",
      "print'%s %.2f %s'%(\"V = Q/C = \",(Q/C),\"V\")##calculation for voltage\n"
     ],
     "language": "python",
     "metadata": {},
     "outputs": [
      {
       "output_type": "stream",
       "stream": "stdout",
       "text": [
        "C =  2.00e-06 F\n",
        "t =  2.00 seconds\n",
        "I =  1.00e-05 A\n",
        "Q = I*t =  2.00e-05 C\n",
        "V = Q/C =  10.00 V\n"
       ]
      }
     ],
     "prompt_number": 9
    },
    {
     "cell_type": "heading",
     "level": 2,
     "metadata": {},
     "source": [
      "Ex6-pg45"
     ]
    },
    {
     "cell_type": "code",
     "collapsed": false,
     "input": [
      "##Ex2_6\n",
      "import math\n",
      "C = 12* 10** -6\n",
      "f = 1.0*10**3\n",
      "Xc = 1./(2.*math.pi*f*C)\n",
      "print'%s %.2e %s'%(\"C = \",(C),\"F\")##capacitance\n",
      "print'%s %.2f %s'%(\"at... f = \",(f),\"Hz\")##frequency\n",
      "print'%s %.2f %s'%(\"Xc = 1/(2*pi*f*C) = \",(1./(2.*math.pi*f*C)),\"ohm\")##calculation for capacitive reactance\n"
     ],
     "language": "python",
     "metadata": {},
     "outputs": [
      {
       "output_type": "stream",
       "stream": "stdout",
       "text": [
        "C =  1.20e-05 F\n",
        "at... f =  1000.00 Hz\n",
        "Xc = 1/(2*pi*f*C) =  13.26 ohm\n"
       ]
      }
     ],
     "prompt_number": 10
    },
    {
     "cell_type": "heading",
     "level": 2,
     "metadata": {},
     "source": [
      "Ex7-pg46"
     ]
    },
    {
     "cell_type": "code",
     "collapsed": false,
     "input": [
      "##Ex2_7\n",
      "import math\n",
      "C = 0.2*10**-6\n",
      "f1 = 1.0*10**3\n",
      "f2 = 50.\n",
      "print'%s %.2e %s'%(\"C = \",(C),\"F\")##capacitance\n",
      "print'%s %.2f %s'%(\"at... f = \",(f1),\"Hz\")##frequency\n",
      "print'%s %.2f %s'%(\"Xc = 1/(2*pi*f*C) = \",(1./(2.*math.pi*f1*C)),\"ohm\")##calculation for capacitive reactance\n",
      "print'%s %.2f %s'%(\"at... f = \",(f2),\"Hz\")##frequency\n",
      "print'%s %.2f %s'%(\"Xc = 1/(2*pi*f*C) = \",(1./(2.*math.pi*f2*C)),\"ohm\")##calculation for capacitive reactance\n"
     ],
     "language": "python",
     "metadata": {},
     "outputs": [
      {
       "output_type": "stream",
       "stream": "stdout",
       "text": [
        "C =  2.00e-07 F\n",
        "at... f =  1000.00 Hz\n",
        "Xc = 1/(2*pi*f*C) =  795.77 ohm\n",
        "at... f =  50.00 Hz\n",
        "Xc = 1/(2*pi*f*C) =  15915.49 ohm\n"
       ]
      }
     ],
     "prompt_number": 11
    },
    {
     "cell_type": "heading",
     "level": 2,
     "metadata": {},
     "source": [
      "Ex8-pg46"
     ]
    },
    {
     "cell_type": "code",
     "collapsed": false,
     "input": [
      "##Ex2_8\n",
      "import math\n",
      "C1 = 0.5*10**-6\n",
      "C2 = 0.5*10**-6\n",
      "CT = (C1*C2)/(C1+C2)\n",
      "print'%s %.2e %s'%(\"C1 = \",(C1),\"F\")##capacitance 1\n",
      "print'%s %.2e %s'%(\"C1 = \",(C1),\"F\")##capacitance 2\n",
      "print'%s %.2e %s'%(\"1/CT = 1/C1 + 1/C2 = (C1*C2)/(C1+C2) = \",(C1*C2/(C1+C2)),\"F\")##series capacitance\n",
      "## proper ans. = 0.25*10^-6F\n"
     ],
     "language": "python",
     "metadata": {},
     "outputs": [
      {
       "output_type": "stream",
       "stream": "stdout",
       "text": [
        "C1 =  5.00e-07 F\n",
        "C1 =  5.00e-07 F\n",
        "1/CT = 1/C1 + 1/C2 = (C1*C2)/(C1+C2) =  2.50e-07 F\n"
       ]
      }
     ],
     "prompt_number": 12
    },
    {
     "cell_type": "heading",
     "level": 2,
     "metadata": {},
     "source": [
      "Ex9-pg46"
     ]
    },
    {
     "cell_type": "code",
     "collapsed": false,
     "input": [
      "##Ex2_9\n",
      "import math\n",
      "C1 = 0.2*10**-12\n",
      "C2 = 0.6*10**-12\n",
      "C3 = 1.0*10**-12\n",
      "print'%s %.2e %s'%(\"C1 = \",(C1),\"F\")##capacitance\n",
      "print'%s %.2e %s'%(\"C2 = \",(C2),\"F\")##capacitance\n",
      "print'%s %.2e %s'%(\"C3 = \",(C3),\"F\")##capacitance\n",
      "print'%s %.2e %s'%(\"CT = C1+C2+C3 = \",(C1+C2+C3),\"F\")##parallel capacitance\n"
     ],
     "language": "python",
     "metadata": {},
     "outputs": [
      {
       "output_type": "stream",
       "stream": "stdout",
       "text": [
        "C1 =  2.00e-13 F\n",
        "C2 =  6.00e-13 F\n",
        "C3 =  1.00e-12 F\n",
        "CT = C1+C2+C3 =  1.80e-12 F\n"
       ]
      }
     ],
     "prompt_number": 13
    },
    {
     "cell_type": "heading",
     "level": 2,
     "metadata": {},
     "source": [
      "Ex10-pg47"
     ]
    },
    {
     "cell_type": "code",
     "collapsed": false,
     "input": [
      "##Ex2_10\n",
      "import math\n",
      "C = 10.*10**-6\n",
      "V = 100.\n",
      "W = C*(V**2)/2.\n",
      "print'%s %.2e %s'%(\"C = \",(C),\"F\")##capacitance\n",
      "print'%s %.2e %s'%(\"V = \",(V),\"V\")##voltage\n",
      "print'%s %.2f %s'%(\"W = C*(V^2)/2 = \",(W),\"Joules\")##calculating for energy stored\n"
     ],
     "language": "python",
     "metadata": {},
     "outputs": [
      {
       "output_type": "stream",
       "stream": "stdout",
       "text": [
        "C =  1.00e-05 F\n",
        "V =  1.00e+02 V\n",
        "W = C*(V^2)/2 =  0.05 Joules\n"
       ]
      }
     ],
     "prompt_number": 14
    },
    {
     "cell_type": "heading",
     "level": 2,
     "metadata": {},
     "source": [
      "Ex11-pg48"
     ]
    },
    {
     "cell_type": "code",
     "collapsed": false,
     "input": [
      "##Ex2_11\n",
      "import math\n",
      "C = 10.*10**-6\n",
      "delta_V = 100.\n",
      "delta_t = 10.\n",
      "ic = C*delta_V/delta_t\n",
      "print'%s %.2e %s'%(\"C = \",(C),\"F\")##capacitance\n",
      "print'%s %.2f %s'%(\"delta_V = \",(delta_V),\"V\")##change in voltage\n",
      "print'%s %.2f %s'%(\"delta_t = \",(delta_t),\"sec\")##change in time\n",
      "print'%s %.2e %s'%(\"ic = C*(delta delta_V/delta_t) = \",(ic),\"A\")##calculation for instantaneous current\n",
      "#conveted into units"
     ],
     "language": "python",
     "metadata": {},
     "outputs": [
      {
       "output_type": "stream",
       "stream": "stdout",
       "text": [
        "C =  1.00e-05 F\n",
        "delta_V =  100.00 V\n",
        "delta_t =  10.00 sec\n",
        "ic = C*(delta delta_V/delta_t) =  1.00e-04 A\n"
       ]
      }
     ],
     "prompt_number": 15
    },
    {
     "cell_type": "heading",
     "level": 2,
     "metadata": {},
     "source": [
      "Ex12-pg50"
     ]
    },
    {
     "cell_type": "code",
     "collapsed": false,
     "input": [
      "##Ex2_12\n",
      "import math\n",
      "Ii = 10\n",
      "If = 15\n",
      "delta_t = 2\n",
      "dI = Ii - If\n",
      "print'%s %.2f %s'%(\"Ii = \",(Ii),\"A\")##initial current\n",
      "print'%s %.2f %s'%(\"If = \",(If),\"A\")##final current\n",
      "print'%s %.2f %s'%(\"delta_t = \",(delta_t),\"sec\")##time taken to change current\n",
      "print'%s %.2f %s'%(\"dI/dt = \",(abs(dI)/delta_t),\"Amp/sec.\")##calculation for rate of change of current\n",
      "##wronge answer given in the textbook i.e. 0.5 Amp/sec.\n"
     ],
     "language": "python",
     "metadata": {},
     "outputs": [
      {
       "output_type": "stream",
       "stream": "stdout",
       "text": [
        "Ii =  10.00 A\n",
        "If =  15.00 A\n",
        "delta_t =  2.00 sec\n",
        "dI/dt =  2.00 Amp/sec.\n"
       ]
      }
     ],
     "prompt_number": 16
    },
    {
     "cell_type": "heading",
     "level": 2,
     "metadata": {},
     "source": [
      "Ex13-pg50"
     ]
    },
    {
     "cell_type": "code",
     "collapsed": false,
     "input": [
      "##Ex2_13\n",
      "import math\n",
      "r = 5.0##rate of current change\n",
      "vL = 50.##induced voltage\n",
      "L = vL/(r)\n",
      "print'%s %.2f %s'%(\"diL/dt = \",(r),\"A/s\")##rate of current change \n",
      "print'%s %.2f %s'%(\"vL = \",(vL),\"V\")\n",
      "print(\"vL = L*(diL/dt)\") \n",
      "print'%s %.2f %s'%(\"L = vL/(diL/dt) = \",(L),\" Henry\")##calculation for inductane\n"
     ],
     "language": "python",
     "metadata": {},
     "outputs": [
      {
       "output_type": "stream",
       "stream": "stdout",
       "text": [
        "diL/dt =  5.00 A/s\n",
        "vL =  50.00 V\n",
        "vL = L*(diL/dt)\n",
        "L = vL/(diL/dt) =  10.00  Henry\n"
       ]
      }
     ],
     "prompt_number": 17
    },
    {
     "cell_type": "heading",
     "level": 2,
     "metadata": {},
     "source": [
      "Ex14-pg51"
     ]
    },
    {
     "cell_type": "code",
     "collapsed": false,
     "input": [
      "##Ex2_14\n",
      "import math\n",
      "I = 5.\n",
      "L = 5.\n",
      "WL = L*(I**2)/2.\n",
      "print'%s %.2f %s'%(\"I = \",(I),\"A\")##current flow\n",
      "print'%s %.2f %s'%(\"L = \",(L),\"H\")##inductance\n",
      "print'%s %.2f %s'%(\"WL= \",(WL),\"joules\")##energy stored\n"
     ],
     "language": "python",
     "metadata": {},
     "outputs": [
      {
       "output_type": "stream",
       "stream": "stdout",
       "text": [
        "I =  5.00 A\n",
        "L =  5.00 H\n",
        "WL=  62.50 joules\n"
       ]
      }
     ],
     "prompt_number": 18
    },
    {
     "cell_type": "heading",
     "level": 2,
     "metadata": {},
     "source": [
      "Ex15-pg52"
     ]
    },
    {
     "cell_type": "code",
     "collapsed": false,
     "input": [
      "##Ex2_15\n",
      "import math\n",
      "flux1 = 100.*10**-6\n",
      "flux2 = 50.*10**-6\n",
      "flux12 = flux1 - flux2\n",
      "print'%s %.2e %s'%(\"flux1 = \",(flux1),\"Wb\")##flux of coil 1\n",
      "print'%s %.2e %s'%(\"flux2 = \",(flux2),\"Wb\")##flux of coil 2\n",
      "print(\"K = flux linkage between coil 1 and coil 2/flux of coil 1\")##coefficient of coupling\n",
      "print'%s %.2f %s'%(\"total   = \",(flux12/flux1),\"\")\n"
     ],
     "language": "python",
     "metadata": {},
     "outputs": [
      {
       "output_type": "stream",
       "stream": "stdout",
       "text": [
        "flux1 =  1.00e-04 Wb\n",
        "flux2 =  5.00e-05 Wb\n",
        "K = flux linkage between coil 1 and coil 2/flux of coil 1\n",
        "total   =  0.50 \n"
       ]
      }
     ],
     "prompt_number": 20
    },
    {
     "cell_type": "heading",
     "level": 2,
     "metadata": {},
     "source": [
      "Ex16-pg52"
     ]
    },
    {
     "cell_type": "code",
     "collapsed": false,
     "input": [
      "##Ex2_16\n",
      "import math\n",
      "L1 = 100.*10**-3\n",
      "L2 = 50.*10**-3\n",
      "K = 0.3\n",
      "M = K*(L1*L2)**0.5\n",
      "print'%s %.2f %s'%(\"L1 = \",(L1),\"H\")##inductance of coil 1\n",
      "print'%s %.2f %s'%(\"L2 = \",(L2),\"H\")##inductance of coil 2\n",
      "print'%s %.2f %s'%(\"K = \",(K),\"\")##coefficient of coupling\n",
      "print(\"M = K*(L1*L2)^0.5\")\n",
      "print'%s %.2f %s'%(\"M = \",(M),\"H\")##mutual inductance\n",
      "#converted into units"
     ],
     "language": "python",
     "metadata": {},
     "outputs": [
      {
       "output_type": "stream",
       "stream": "stdout",
       "text": [
        "L1 =  0.10 H\n",
        "L2 =  0.05 H\n",
        "K =  0.30 \n",
        "M = K*(L1*L2)^0.5\n",
        "M =  0.02 H\n"
       ]
      }
     ],
     "prompt_number": 22
    },
    {
     "cell_type": "heading",
     "level": 2,
     "metadata": {},
     "source": [
      "Ex17-pg54"
     ]
    },
    {
     "cell_type": "code",
     "collapsed": false,
     "input": [
      "##Ex2_17\n",
      "import math\n",
      "L1 = 10.\n",
      "L2 = 15.\n",
      "LT = L1 + L2\n",
      "print'%s %.2f %s'%(\"L1 = \",(L1),\"H\")##inductance of coil 1\n",
      "print'%s %.2f %s'%(\"L2 = \",(L2),\"H\")##inductance of coil 2\n",
      "print'%s %.2f %s'%(\"LT = L1+L2 = \",(LT),\"mH\")##series inductance\n"
     ],
     "language": "python",
     "metadata": {},
     "outputs": [
      {
       "output_type": "stream",
       "stream": "stdout",
       "text": [
        "L1 =  10.00 H\n",
        "L2 =  15.00 H\n",
        "LT = L1+L2 =  25.00 mH\n"
       ]
      }
     ],
     "prompt_number": 25
    },
    {
     "cell_type": "heading",
     "level": 2,
     "metadata": {},
     "source": [
      "Ex18-pg55"
     ]
    },
    {
     "cell_type": "code",
     "collapsed": false,
     "input": [
      "##Ex2_18\n",
      "import math\n",
      "L1 = 1.\n",
      "L2 = 5.\n",
      "LT = (L1*L2)/(L1+L2)\n",
      "print'%s %.2f %s'%(\"L1 = \",(L1),\"H\")##inductance of coil 1\n",
      "print'%s %.2f %s'%(\"L2 = \",(L2),\"H\")##inductance of coil 2\n",
      "print(\"1/LT = 1/L1 + 1/L2\")\n",
      "print'%s %.2f %s'%(\"LT = (L1*L2)/(L1+L2) = \",(LT),\"mH\")##parallel inductance\n"
     ],
     "language": "python",
     "metadata": {},
     "outputs": [
      {
       "output_type": "stream",
       "stream": "stdout",
       "text": [
        "L1 =  1.00 H\n",
        "L2 =  5.00 H\n",
        "1/LT = 1/L1 + 1/L2\n",
        "LT = (L1*L2)/(L1+L2) =  0.83 mH\n"
       ]
      }
     ],
     "prompt_number": 30
    },
    {
     "cell_type": "heading",
     "level": 2,
     "metadata": {},
     "source": [
      "Ex19-pg61"
     ]
    },
    {
     "cell_type": "code",
     "collapsed": false,
     "input": [
      "##Ex2_19\n",
      "import math\n",
      "VNL = 50.\n",
      "VL = 40.\n",
      "IL = 4.\n",
      "Rs = (VNL - VL)/IL\n",
      "print'%s %.2f %s'%(\"VNL  = \",(VNL),\"V\")##no load voltage\n",
      "print'%s %.2f %s'%(\"VL  = \",(VL),\"V\")##load voltage\n",
      "print'%s %.2f %s'%(\"IL  = \",(IL),\"A\")##load current\n",
      "print'%s %.2f %s'%(\"Rs = (VNL - VL)/IL = \",(Rs),\"ohm\")##source resistane\n"
     ],
     "language": "python",
     "metadata": {},
     "outputs": [
      {
       "output_type": "stream",
       "stream": "stdout",
       "text": [
        "VNL  =  50.00 V\n",
        "VL  =  40.00 V\n",
        "IL  =  4.00 A\n",
        "Rs = (VNL - VL)/IL =  2.50 ohm\n"
       ]
      }
     ],
     "prompt_number": 31
    },
    {
     "cell_type": "heading",
     "level": 2,
     "metadata": {},
     "source": [
      "Ex20-pg61"
     ]
    },
    {
     "cell_type": "code",
     "collapsed": false,
     "input": [
      "##Ex2_20\n",
      "import math\n",
      "V = 2.5\n",
      "print'%s %.2f %s'%(\"V1 = V2 = V3 = V4 = \",(V),\"V\")##four batteries of equal voltage connected in series\n",
      "print'%s %.2f %s'%(\"VT = V1+V2+V3+V4 = \",(V+V+V+V),\"V\")##resultant voltage(series voltage)\n"
     ],
     "language": "python",
     "metadata": {},
     "outputs": [
      {
       "output_type": "stream",
       "stream": "stdout",
       "text": [
        "V1 = V2 = V3 = V4 =  2.50 V\n",
        "VT = V1+V2+V3+V4 =  10.00 V\n"
       ]
      }
     ],
     "prompt_number": 32
    },
    {
     "cell_type": "heading",
     "level": 2,
     "metadata": {},
     "source": [
      "Ex21-pg61"
     ]
    },
    {
     "cell_type": "code",
     "collapsed": false,
     "input": [
      "##Ex2_20\n",
      "import math\n",
      "V = 2.\n",
      "print'%s %.2f %s'%(\"V1 = V2 = V3 = V4 = \",(V),\"V\")##four batteries of equal voltage connected in series\n",
      "print'%s %.2f %s'%(\"VT = V1 = V2 = V3 = V4 = \",(V),\"V\")##parallel voltage\n"
     ],
     "language": "python",
     "metadata": {},
     "outputs": [
      {
       "output_type": "stream",
       "stream": "stdout",
       "text": [
        "V1 = V2 = V3 = V4 =  2.00 V\n",
        "VT = V1 = V2 = V3 = V4 =  2.00 V\n"
       ]
      }
     ],
     "prompt_number": 33
    },
    {
     "cell_type": "heading",
     "level": 2,
     "metadata": {},
     "source": [
      "Ex22-pg66"
     ]
    },
    {
     "cell_type": "code",
     "collapsed": false,
     "input": [
      "##Ex2_22\n",
      "import math\n",
      "##considering the fig. 2.17 given in the question \n",
      "R1 = 1.\n",
      "R2 = 3.\n",
      "R3 = 2.\n",
      "V = 20.\n",
      "print'%s %.2f %s'%(\"R1 =\",(R1),\"ohm\")##value of resitance R1\n",
      "print'%s %.2f %s'%(\"R2 =\",(R2),\"ohm\")##value of resitance R2\n",
      "print'%s %.2f %s'%(\"R3 =\",(R3),\"ohm\")##value of resitance R3(across A and B terminals, \n",
      "                            ##across which thevenin equivalate circuit is need to determine)\n",
      "print'%s %.2f %s'%(\"V =\",(V),\"V\")##value of D.C. voltage applied\n",
      "\n",
      "##TO FIND THEVENIN'S RESISTANCE (RTH),.. \n",
      "##CONSIDERING FIG 2.17\n",
      "## WE REMOVE THE RESISTANCE (R1) ACROSS LOAD TERMINAL AB I.E. \n",
      "##AND ALSO WE SHORT THE VOLTAGE SOURCE\n",
      "##NOW ACCORDING TO MODIFIED CIRCUIT\n",
      "\n",
      "print'%s %.2f %s'%(\"1/RTH = 1/R3 + 1/R2 = \",(1/((1/R3)+(1/R2))),\"ohm\")##R1 and R2 are in parallel\n",
      "\n",
      "##TO FIND THEVENIN VOLTAGE (VTH),.. \n",
      "##CONSIDERING FIG 2.17\n",
      "##WE DISCONNECT LOAD RESISTANCE (R1) AND MADE  TERMINAL AB OPEN CIRCUIT\n",
      "##ACCORDING TO MODIFIED CIRCUIT\n",
      "\n",
      "##applying KVL in the loop, to find the amount of current flowing in circuit\n",
      "##taking current as 'I' amperes\n",
      "\n",
      "print(\"V = (R3*I)+(R2*I)\")\n",
      "I = V/(R2+R3)\n",
      "print'%s %.2f %s'%(\"or, I = V/(R2+R3) = \",(I),\"amperes\")\n",
      "##Voltage drop across R2 resistance = Thevenin voltage\n",
      "##thus, voltage across AB i.e., thevenin voltage, is given as\n",
      "print'%s %.2f %s'%(\"VTH = R2*I = \",(R2*I),\"V\")\n",
      "\n",
      "##  NOTE :  Notations used in the program are as mentioned in the main fig. 2.17\n",
      "\n"
     ],
     "language": "python",
     "metadata": {},
     "outputs": [
      {
       "output_type": "stream",
       "stream": "stdout",
       "text": [
        "R1 = 1.00 ohm\n",
        "R2 = 3.00 ohm\n",
        "R3 = 2.00 ohm\n",
        "V = 20.00 V\n",
        "1/RTH = 1/R3 + 1/R2 =  1.20 ohm\n",
        "V = (R3*I)+(R2*I)\n",
        "or, I = V/(R2+R3) =  4.00 amperes\n",
        "VTH = R2*I =  12.00 V\n"
       ]
      }
     ],
     "prompt_number": 34
    }
   ],
   "metadata": {}
  }
 ]
}