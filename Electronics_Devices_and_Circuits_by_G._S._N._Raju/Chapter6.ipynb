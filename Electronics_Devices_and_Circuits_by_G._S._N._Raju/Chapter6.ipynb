{
 "metadata": {
  "name": "",
  "signature": "sha256:536d2633b46d62b04175e783d1a89133775ceac60adb7277fb34177e8999d317"
 },
 "nbformat": 3,
 "nbformat_minor": 0,
 "worksheets": [
  {
   "cells": [
    {
     "cell_type": "heading",
     "level": 1,
     "metadata": {},
     "source": [
      "Chapter6-Transistor Characteristics And Applications"
     ]
    },
    {
     "cell_type": "heading",
     "level": 2,
     "metadata": {},
     "source": [
      "Ex1-pg205"
     ]
    },
    {
     "cell_type": "code",
     "collapsed": false,
     "input": [
      "##Ex6_1\n",
      "import math\n",
      "IB = 40.*10**-6\n",
      "IC = 3.*10**-3\n",
      "beta = IC/IB\n",
      "alpha = beta/(1.+beta)\n",
      "print'%s %.2e %s'%(\"IB = \",(IB),\"A\")##base current \n",
      "print'%s %.2e %s'%(\"IC = \",(IC),\"A\")##collector current\n",
      "print'%s %.2f %s'%(\"beta = IC/IB = \",(beta),\"\")##current gain in CE configuration\n",
      "print'%s %.2f %s'%(\"alpha = beta/(1+beta) = \",(alpha),\"\")##current gain in CB configuration\n"
     ],
     "language": "python",
     "metadata": {},
     "outputs": [
      {
       "output_type": "stream",
       "stream": "stdout",
       "text": [
        "IB =  4.00e-05 A\n",
        "IC =  3.00e-03 A\n",
        "beta = IC/IB =  75.00 \n",
        "alpha = beta/(1+beta) =  0.99 \n"
       ]
      }
     ],
     "prompt_number": 1
    },
    {
     "cell_type": "heading",
     "level": 2,
     "metadata": {},
     "source": [
      "Ex2-pg206"
     ]
    },
    {
     "cell_type": "code",
     "collapsed": false,
     "input": [
      "##Ex6_2\n",
      "import math\n",
      "IE = 1.2*10**-3\n",
      "beta = 60.\n",
      "alpha = beta/(1.+beta)\n",
      "print'%s %.2f %s'%(\"beta = \",(beta),\"\")##current gain in CE configuration\n",
      "print'%s %.2f %s'%(\"alpha = beta/(1+beta) = \",(alpha),\"\")##current gain in CB configuraion\n",
      "print'%s %.2f %s'%(\"IE = \",(IE),\"A\")##emitter current\n",
      "IB = IE/(beta+1.)\n",
      "IC = beta*IB\n",
      "print'%s %.2e %s'%(\"IB = IE/(beta+1) = \",(IB),\"A\")##base current\n",
      "print'%s %.2e %s'%(\"IC = beta*IB = \",(IC),\"A\")##collector current\n"
     ],
     "language": "python",
     "metadata": {},
     "outputs": [
      {
       "output_type": "stream",
       "stream": "stdout",
       "text": [
        "beta =  60.00 \n",
        "alpha = beta/(1+beta) =  0.98 \n",
        "IE =  0.00 A\n",
        "IB = IE/(beta+1) =  1.97e-05 A\n",
        "IC = beta*IB =  1.18e-03 A\n"
       ]
      }
     ],
     "prompt_number": 2
    },
    {
     "cell_type": "heading",
     "level": 2,
     "metadata": {},
     "source": [
      "Ex3-pg206"
     ]
    },
    {
     "cell_type": "code",
     "collapsed": false,
     "input": [
      "##Ex6_3\n",
      "import math\n",
      "alpha = 0.98\n",
      "VBE = 0.7\n",
      "IE = -2.*10**-3\n",
      "Re = 100.\n",
      "RL = 3.3*10**3\n",
      "print'%s %.2f %s'%(\"alpha = \",(alpha),\"\")##current gain\n",
      "print'%s %.2f %s'%(\"VBE = \",(VBE),\"V\")##voltage across base-emitter\n",
      "print'%s %.2e %s'%(\"IE = \",(IE),\"A\")##emitter current\n",
      "print'%s %.2f %s'%(\"Re = \",(Re),\"ohm\")##emitter resistance\n",
      "print'%s %.2f %s'%(\"RL = \",(RL),\"ohm\")##load resistance\n",
      "##now according to circuit given for the question in the textbook\n",
      "IC = -alpha * IE\n",
      "print'%s %.2e %s'%(\"IC = -alpha*IE = \",(IC),\"A\")##collector current\n",
      "IB = -IC - IE\n",
      "print'%s %.2e%s'%(\"IB = -IC - IE = \",(IB),\"A\")##base current\n",
      "VBN = VBE+(abs(IE)*Re)\n",
      "print'%s %.2f %s'%(\"VBN = VBE+(IE*Re) = \",(VBN),\"V\")##voltage across base and ground(N)\n",
      "##ASSUMING... value for R1 = 30*10^3 ohm\n",
      "R1 = 30*10**3\n",
      "print'%s %.2f %s'%(\"R1 = \",(R1),\"ohm\")##resistancfe R1 as given in circuit\n",
      "I = VBN/R1\n",
      "print'%s %.2e %s'%(\"I = VBN/R1 = \",(I),\"A\")##current across resistance R1\n",
      "##ASSUMING... VCC = 9V\n",
      "VCC = 9##collector voltage\n",
      "print'%s %.2f %s'%(\"VCC = \",(VCC),\"V\")\n",
      "VCN = VCC - (RL*(IC+I+IB))\n",
      "print'%s %.2f %s'%(\"VCN = VCC - RL*(IC+I+IB)) = \",(VCN),\"V\")##voltage across collector and ground(N)\n",
      "## according to the given diagram for the question in the textbook, unknown resistance is,\n",
      "R = (VCN - VBN)/(I+IB)\n",
      "print'%s %.2f %s'%(\"R = (VCN - VBN)/(I+IB) = \",(R),\"ohm\")##unknown resistance\n"
     ],
     "language": "python",
     "metadata": {},
     "outputs": [
      {
       "output_type": "stream",
       "stream": "stdout",
       "text": [
        "alpha =  0.98 \n",
        "VBE =  0.70 V\n",
        "IE =  -2.00e-03 A\n",
        "Re =  100.00 ohm\n",
        "RL =  3300.00 ohm\n",
        "IC = -alpha*IE =  1.96e-03 A\n",
        "IB = -IC - IE =  4.00e-05A\n",
        "VBN = VBE+(IE*Re) =  0.90 V\n",
        "R1 =  30000.00 ohm\n",
        "I = VBN/R1 =  3.00e-05 A\n",
        "VCC =  9.00 V\n",
        "VCN = VCC - RL*(IC+I+IB)) =  2.30 V\n",
        "R = (VCN - VBN)/(I+IB) =  20014.29 ohm\n"
       ]
      }
     ],
     "prompt_number": 3
    },
    {
     "cell_type": "heading",
     "level": 2,
     "metadata": {},
     "source": [
      "Ex4-pg207"
     ]
    },
    {
     "cell_type": "code",
     "collapsed": false,
     "input": [
      "##Ex6_4\n",
      "import math\n",
      "RC = 2.3*10**3\n",
      "Re = 1*10**3\n",
      "VCC = 12.\n",
      "VCE = 5.\n",
      "VBE = 0.7\n",
      "beta = 50.\n",
      "print'%s %.2f %s'%(\"RC = \",(RC),\"ohm\")##collector resistance\n",
      "print'%s %.2f %s'%(\"Re = \",(Re),\"ohm\")##emitter resistance\n",
      "print'%s %.2f %s'%(\"VCC = \",(VCC),\"V\")##supply voltage\n",
      "print'%s %.2f %s'%(\"VCE = \",(VCE),\"V\")##voltage across collector and emitter\n",
      "print'%s %.2f %s'%(\"VBE = \",(VBE),\"V\")##voltage across base and emitter\n",
      "print'%s %.2f %s'%(\"beta = \",(beta),\"\")##current gain\n",
      "## according to the given circuit, we have\n",
      "IB = (VCC - VCE)/((beta+1.)*(RC+Re))\n",
      "print'%s %.2e %s'%(\"IB = \",(IB),\"A\")##base current\n",
      "IC = beta*IB\n",
      "print'%s %.2e %s'%(\"IC = \",(IC),\"A\")##collector current\n",
      "##from the circuit we have,\n",
      "Rt = (VCE-VBE)/IB\n",
      "print'%s %.2e %s'%(\"Rt = (VCE - VBE)/IB = \",(Rt),\"ohm\")##resistance Rt as given in circuit\n"
     ],
     "language": "python",
     "metadata": {},
     "outputs": [
      {
       "output_type": "stream",
       "stream": "stdout",
       "text": [
        "RC =  2300.00 ohm\n",
        "Re =  1000.00 ohm\n",
        "VCC =  12.00 V\n",
        "VCE =  5.00 V\n",
        "VBE =  0.70 V\n",
        "beta =  50.00 \n",
        "IB =  4.16e-05 A\n",
        "IC =  2.08e-03 A\n",
        "Rt = (VCE - VBE)/IB =  1.03e+05 ohm\n"
       ]
      }
     ],
     "prompt_number": 14
    },
    {
     "cell_type": "heading",
     "level": 2,
     "metadata": {},
     "source": [
      "Ex5-pg208"
     ]
    },
    {
     "cell_type": "code",
     "collapsed": false,
     "input": [
      "##Ex6_5\n",
      "import math\n",
      "VBB = 1.\n",
      "VCC = 12.\n",
      "IC = 12.*10**-3\n",
      "VCE = 4.\n",
      "beta = 80.\n",
      "VBE = 0.7\n",
      "print'%s %.2f %s'%(\"VBB = \",(VBB),\"V\")##base supply voltage\n",
      "print'%s %.2f %s'%(\"VCC = \",(VCC),\"V\")##collector supply voltage\n",
      "print'%s %.2f %s'%(\"IC = \",(IC),\"A\")##collector current\n",
      "print'%s %.2f %s'%(\"VCE = \",(VCE),\"V\")##voltage across collector and emitter\n",
      "print'%s %.2f %s'%(\"beta = \",(beta),\"\")##current gain\n",
      "print'%s %.2f %s'%(\"VBE = \",(VBE),\"V\")##voltage across base and emitter\n",
      "IB = IC/beta\n",
      "print'%s %.4f %s'%(\"IB = IC/beta = \",(IB),\"A\")##base current\n",
      "RC = (VCC - VCE)/IC\n",
      "print'%s %.2f %s'%(\"RC = (VCC - VCE)/IC = \",(int(RC)),\"ohm\")##collector resistance\n"
     ],
     "language": "python",
     "metadata": {},
     "outputs": [
      {
       "output_type": "stream",
       "stream": "stdout",
       "text": [
        "VBB =  1.00 V\n",
        "VCC =  12.00 V\n",
        "IC =  0.01 A\n",
        "VCE =  4.00 V\n",
        "beta =  80.00 \n",
        "VBE =  0.70 V\n",
        "IB = IC/beta =  0.0002 A\n",
        "RC = (VCC - VCE)/IC =  666.00 ohm\n"
       ]
      }
     ],
     "prompt_number": 15
    },
    {
     "cell_type": "heading",
     "level": 2,
     "metadata": {},
     "source": [
      "Ex6-pg209"
     ]
    },
    {
     "cell_type": "code",
     "collapsed": false,
     "input": [
      "##Ex6_6\n",
      "import math\n",
      "VCC = 9.\n",
      "VBB = 3.\n",
      "IC = 2.*10**-3\n",
      "beta = 50.\n",
      "VBE = 0.7\n",
      "VCE = 4.\n",
      "print'%s %.2f %s'%(\"VCC = \",(VCC),\"V\")##collector supply voltage\n",
      "print'%s %.2f %s'%(\"VBB = \",(VBB),\"V\")##base supply voltage\n",
      "print'%s %.2e %s'%(\"IC = \",(IC),\"A\")##collector current\n",
      "print'%s %.2f %s'%(\"beta = \",(beta),\"\")##current gain\n",
      "print'%s %.2f %s'%(\"VBE = \",(VBE),\"V\")##voltage across base and emitter\n",
      "print'%s %.4f %s'%(\"VCE = \",(VCE),\"V\")##voltage across collector and emitter\n",
      "IB = IC/beta\n",
      "print'%s %.2e %s'%(\"IB = IC/beta = \",(IB),\"A\")##base current\n",
      "RB = (VBB - VBE)/IB\n",
      "print'%s %.2f %s'%(\"RB = (VBB - VBE)/IB = \",(RB),\"ohm\")##base resistance according to the given in circuit\n",
      "\n",
      "\n",
      "## note: misprint in the question, author is asking for IB instead of beta, as beta is already provided.\n",
      "## note: calculation done in the textbook for the problem is wrong.\n"
     ],
     "language": "python",
     "metadata": {},
     "outputs": [
      {
       "output_type": "stream",
       "stream": "stdout",
       "text": [
        "VCC =  9.00 V\n",
        "VBB =  3.00 V\n",
        "IC =  2.00e-03 A\n",
        "beta =  50.00 \n",
        "VBE =  0.70 V\n",
        "VCE =  4.0000 V\n",
        "IB = IC/beta =  4.00e-05 A\n",
        "RB = (VBB - VBE)/IB =  57500.00 ohm\n"
       ]
      }
     ],
     "prompt_number": 17
    },
    {
     "cell_type": "heading",
     "level": 2,
     "metadata": {},
     "source": [
      "Ex7-pg209"
     ]
    },
    {
     "cell_type": "code",
     "collapsed": false,
     "input": [
      "##Ex6_7\n",
      "import math\n",
      "VCC = 12.\n",
      "VBB = 3.\n",
      "IC = 12.*10**-3\n",
      "VCE = 5.5\n",
      "beta = 100.\n",
      "VBE = 0.7\n",
      "Re = 50.\n",
      "print'%s %.2f %s'%(\"VCC = \",(VCC),\"V\")##collector supply voltage\n",
      "print'%s %.2f %s'%(\"VBB = \",(VBB),\"V\")##base supply voltage\n",
      "print'%s %.2e %s'%(\"IC = \",(IC),\"A\")##collector current\n",
      "print'%s %.2f %s'%(\"VCE = \",(VCE),\"V\")##voltage across collector and emitter\n",
      "print'%s %.2f %s'%(\"beta = \",(beta),\"\")##current gain\n",
      "print'%s %.2f %s'%(\"VBE = \",(VBE),\"V\")##voltage across base and emitter\n",
      "print'%s %.2f %s'%(\"Re = \",(Re),\"ohm\")##emittter resistance\n",
      "IB = IC/beta\n",
      "print'%s %.2e %s'%(\"IB = IC/beta = \",(IB),\"A\")##base current\n",
      "##from base-emitter circuit;\n",
      "IE = IC+IB\n",
      "Rb = (VBB - VBE - (IE*Re))/IB\n",
      "print'%s %.2f %s'%(\"Rb = (VBB - VBE - IE*Re)/IB = \",(Rb),\"ohm\")##base resistance\n",
      "##from collector-emitter circuit, we have\n",
      "Rc = (VCC - VCE - (IE*Re))/(IC)\n",
      "print'%s %.2f %s'%(\"Rc = (VCC - VCE - (IE*Re))/IC = \",(Rc),\"ohm\")##collector resistance\n",
      "\n",
      "\n",
      "##NOTE : in textbook the notation used for base and emitter resistance in fig. and in calculation are different\n",
      "\n",
      "\n",
      "\n",
      "## note : calculation perform in the textbook is wrong for the above problem\n"
     ],
     "language": "python",
     "metadata": {},
     "outputs": [
      {
       "output_type": "stream",
       "stream": "stdout",
       "text": [
        "VCC =  12.00 V\n",
        "VBB =  3.00 V\n",
        "IC =  1.20e-02 A\n",
        "VCE =  5.50 V\n",
        "beta =  100.00 \n",
        "VBE =  0.70 V\n",
        "Re =  50.00 ohm\n",
        "IB = IC/beta =  1.20e-04 A\n",
        "Rb = (VBB - VBE - IE*Re)/IB =  14116.67 ohm\n",
        "Rc = (VCC - VCE - (IE*Re))/IC =  491.17 ohm\n"
       ]
      }
     ],
     "prompt_number": 20
    },
    {
     "cell_type": "heading",
     "level": 2,
     "metadata": {},
     "source": [
      "Ex8-pg210"
     ]
    },
    {
     "cell_type": "code",
     "collapsed": false,
     "input": [
      "##Ex6_8\n",
      "import math\n",
      "VBB = 10.\n",
      "RB = 500.*10**3\n",
      "VCC = 15.\n",
      "RC = 1.2*10**3\n",
      "beta =100.\n",
      "print'%s %.2f %s'%(\"beta = \",(beta),\"\")##current gain\n",
      "print'%s %.2f %s'%(\"VBB = \",(VBB),\"V\")##base supply voltage\n",
      "print'%s %.2f %s'%(\"RB = \",(RB),\"ohm\")##resistance across base terminal\n",
      "print'%s %.2f %s'%(\"VCC = \",(VCC),\"V\")##collector supply voltage\n",
      "print'%s %.2f %s'%(\"RC = \",(RC),\"ohm\")##resistance across collector terminal\n",
      "IB = VBB/RB\n",
      "print'%s %.2e %s'%(\"IB = VBB/RB = \",(IB),\"A\")##base current\n",
      "IC = beta*IB\n",
      "print'%s %.4f %s'%(\"IC = beta*IB = \",(IC),\"A\")##collector current\n",
      "VCE = VCC - (IC*RC)\n",
      "print'%s %.2f %s'%(\"VCE = VCC - IC*RC = \",(VCE),\"V\")##voltage across collector and emitter\n",
      "\n",
      "\n",
      "## the answer printed in the textbook for VCE is wrong.\n"
     ],
     "language": "python",
     "metadata": {},
     "outputs": [
      {
       "output_type": "stream",
       "stream": "stdout",
       "text": [
        "beta =  100.00 \n",
        "VBB =  10.00 V\n",
        "RB =  500000.00 ohm\n",
        "VCC =  15.00 V\n",
        "RC =  1200.00 ohm\n",
        "IB = VBB/RB =  2.00e-05 A\n",
        "IC = beta*IB =  0.0020 A\n",
        "VCE = VCC - IC*RC =  12.60 V\n"
       ]
      }
     ],
     "prompt_number": 21
    },
    {
     "cell_type": "heading",
     "level": 2,
     "metadata": {},
     "source": [
      "Ex9-pg211"
     ]
    },
    {
     "cell_type": "code",
     "collapsed": false,
     "input": [
      "##Ex6_9\n",
      "import math\n",
      "ic = 2.*10**-3\n",
      "ie = ic## as base current is negligble\n",
      "VT = 25.*10**-3\n",
      "re = VT/ie\n",
      "gm = ie/VT\n",
      "print'%s %.2e %s'%(\"ic = \",(ic),\"A\")##collector current\n",
      "print'%s %.2e %s'%(\"ie = \",(ie),\"A\")##emitter current with negligble base current\n",
      "print'%s %.2f %s'%(\"VT = \",(VT),\"V\")##voltage at room temperature\n",
      "print'%s %.2f %s'%(\"re = VT/ie = \",(re),\"ohm\")##emitter resistance\n",
      "print'%s %.2f %s'%(\"gm = ie/VT = \",(gm),\"mho\")##conductance\n",
      "rc = 100*10^3##slope of output characteristics\n",
      "print'%s %.2f %s'%(\"rc = \",(rc),\"ohm\")\n",
      "hoe = 1./rc\n",
      "print'%s %.2e %s'%(\"hoe = 1/rc = \",(hoe),\"Mho\")##output conductance\n"
     ],
     "language": "python",
     "metadata": {},
     "outputs": [
      {
       "output_type": "stream",
       "stream": "stdout",
       "text": [
        "ic =  2.00e-03 A\n",
        "ie =  2.00e-03 A\n",
        "VT =  0.03 V\n",
        "re = VT/ie =  12.50 ohm\n",
        "gm = ie/VT =  0.08 mho\n",
        "rc =  1003.00 ohm\n",
        "hoe = 1/rc =  9.97e-04 Mho\n"
       ]
      }
     ],
     "prompt_number": 23
    },
    {
     "cell_type": "heading",
     "level": 2,
     "metadata": {},
     "source": [
      "Ex10-pg211"
     ]
    },
    {
     "cell_type": "code",
     "collapsed": false,
     "input": [
      "##Ex6_10\n",
      "import math\n",
      "ic = 2.5*10**-3\n",
      "ib = 50.*10**-6\n",
      "print'%s %.2e %s'%(\"ib = \",(ib),\"A\")##base current\n",
      "print'%s %.2e %s'%(\"ic = \",(ic),\"A\")##collector current\n",
      "beta = ic/ib\n",
      "print'%s %.2f %s'%(\"beta = ic/ib = \",(beta),\"\")##current gain \n"
     ],
     "language": "python",
     "metadata": {},
     "outputs": [
      {
       "output_type": "stream",
       "stream": "stdout",
       "text": [
        "ib =  5.00e-05 A\n",
        "ic =  2.50e-03 A\n",
        "beta = ic/ib =  50.00 \n"
       ]
      }
     ],
     "prompt_number": 24
    },
    {
     "cell_type": "heading",
     "level": 2,
     "metadata": {},
     "source": [
      "Ex11-pg211"
     ]
    },
    {
     "cell_type": "code",
     "collapsed": false,
     "input": [
      "##Ex6_11\n",
      "import math\n",
      "ic = 3.*10**-3\n",
      "ib = 3.08*10**-3\n",
      "print'%s %.4f %s'%(\"ib = \",(ib),\"A\")##base current\n",
      "print'%s %.4f %s'%(\"ic = \",(ic),\"A\")##collector current\n",
      "alpha = ic/ib\n",
      "print'%s %.2f %s'%(\"alpha = ie/ib = ic/ib = \",(alpha),\"\")##current gain, assuming ie = ic \n"
     ],
     "language": "python",
     "metadata": {},
     "outputs": [
      {
       "output_type": "stream",
       "stream": "stdout",
       "text": [
        "ib =  0.0031 A\n",
        "ic =  0.0030 A\n",
        "alpha = ie/ib = ic/ib =  0.97 \n"
       ]
      }
     ],
     "prompt_number": 25
    },
    {
     "cell_type": "heading",
     "level": 2,
     "metadata": {},
     "source": [
      "Ex12-pg211"
     ]
    },
    {
     "cell_type": "code",
     "collapsed": false,
     "input": [
      "##Ex6_12\n",
      "import math\n",
      "##given, collector voltage swings between 11V to 4V\n",
      "##thus,\n",
      "vc = 11.-4.\n",
      "print'%s %.2f %s'%(\"vc = 11 - 4 = \",(vc),\"V\")##PEAK-to-PEAK collector voltage\n",
      "##given, collector current swings between 5mA to 1.4mA\n",
      "##thus,\n",
      "ic = (5. - 1.4)*10**-3\n",
      "print'%s %.3f %s'%(\"ic = 5m - 1.4m = \",(ic),\"A\")##PEAK-to-PEAK collector current\n"
     ],
     "language": "python",
     "metadata": {},
     "outputs": [
      {
       "output_type": "stream",
       "stream": "stdout",
       "text": [
        "vc = 11 - 4 =  7.00 V\n",
        "ic = 5m - 1.4m =  0.004 A\n"
       ]
      }
     ],
     "prompt_number": 26
    },
    {
     "cell_type": "heading",
     "level": 2,
     "metadata": {},
     "source": [
      "Ex13-pg211"
     ]
    },
    {
     "cell_type": "code",
     "collapsed": false,
     "input": [
      "##Ex6_13\n",
      "import math\n",
      "ic = 4.*10**-3\n",
      "ib = 80.*10**-6\n",
      "print'%s %.4f %s'%(\"ib = \",(ib),\"A\")##base current\n",
      "print'%s %.4f %s'%(\"ic = \",(ic),\"A\")##collector current\n",
      "Ai = ic/ib\n",
      "print'%s %.2f %s'%(\"Ai = ic/ib = \",(Ai),\"\")##current gain in CE amplifier\n"
     ],
     "language": "python",
     "metadata": {},
     "outputs": [
      {
       "output_type": "stream",
       "stream": "stdout",
       "text": [
        "ib =  0.0001 A\n",
        "ic =  0.0040 A\n",
        "Ai = ic/ib =  50.00 \n"
       ]
      }
     ],
     "prompt_number": 27
    }
   ],
   "metadata": {}
  }
 ]
}