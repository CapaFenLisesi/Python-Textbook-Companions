{
 "metadata": {
  "name": "",
  "signature": "sha256:347774940adba930af0901c5733b8bb5d84509910ba09b31d35530c71977fde1"
 },
 "nbformat": 3,
 "nbformat_minor": 0,
 "worksheets": [
  {
   "cells": [
    {
     "cell_type": "heading",
     "level": 1,
     "metadata": {},
     "source": [
      "Chapter3-Electrodynamics and CRO"
     ]
    },
    {
     "cell_type": "heading",
     "level": 2,
     "metadata": {},
     "source": [
      "Ex1-pg94"
     ]
    },
    {
     "cell_type": "code",
     "collapsed": false,
     "input": [
      "##Ex3_1\n",
      "import math\n",
      "E = 20*.10**3\n",
      "e = -(1.6*10**-19)\n",
      "F = e*E\n",
      "print'%s %.2f %s'%(\"E = \",(E),\"ax V/m\")##initializing electic field\n",
      "print'%s %.2e %s'%(\"e = \",(e),\"C\")##intializing electron charge\n",
      "print'%s %.2e %s'%(\"F = eE = \",(F),\"ax N\")##calculation for force on electron due to electric field\n",
      "\n",
      "##  NOTE : answer provided in the textbook is wrong Correct answer is, -3.2*10^16ax N\n"
     ],
     "language": "python",
     "metadata": {},
     "outputs": [
      {
       "output_type": "stream",
       "stream": "stdout",
       "text": [
        "E =  0.02 ax V/m\n",
        "e =  -1.60e-19 C\n",
        "F = eE =  -3.20e-21 ax N\n"
       ]
      }
     ],
     "prompt_number": 1
    },
    {
     "cell_type": "heading",
     "level": 2,
     "metadata": {},
     "source": [
      "Ex2-pg94"
     ]
    },
    {
     "cell_type": "code",
     "collapsed": false,
     "input": [
      "##Ex3_2\n",
      "import math\n",
      "E = 50.*10**3\n",
      "e = -1.6*10**-19\n",
      "N = 10**6\n",
      "F = N*e*E\n",
      "print'%s %.2f %s'%(\"E = \",(E),\"az V/m\")##value of Electric field applied\n",
      "print'%s %.2e %s'%(\"e = \",(e),\"C\")##value of eletron charge\n",
      "print(\"N = (N)\")##total number of charge\n",
      "print'%s %.2e %s'%(\"F = NeE = \",(F),\"az N\")##force on electron\n"
     ],
     "language": "python",
     "metadata": {},
     "outputs": [
      {
       "output_type": "stream",
       "stream": "stdout",
       "text": [
        "E =  50000.00 az V/m\n",
        "e =  -1.60e-19 C\n",
        "N = (N)\n",
        "F = NeE =  -8.00e-09 az N\n"
       ]
      }
     ],
     "prompt_number": 2
    },
    {
     "cell_type": "heading",
     "level": 2,
     "metadata": {},
     "source": [
      "Ex3-pg95"
     ]
    },
    {
     "cell_type": "code",
     "collapsed": false,
     "input": [
      "##Ex3_3\n",
      "import math\n",
      "v = 5.*10**6\n",
      "e = -1.6*10**-19\n",
      "B = 20.*10**-6\n",
      "F = e*v*B\n",
      "print'%s %.2f %s'%(\"v = \",(v),\"m/s\")##velocity of electron\n",
      "print'%s %.2e %s'%(\"e = \",(e),\"C\")##charge of electron\n",
      "print'%s %.2e %s'%(\"B = \",(B),\"Wb/m-sq\")##magnetic field\n",
      "print'%s %.2e %s'%(\"F = e(VxB) = e*v*B = \",(F),\"N\")##force on the electron due to field\n",
      "\n",
      "\n"
     ],
     "language": "python",
     "metadata": {},
     "outputs": [
      {
       "output_type": "stream",
       "stream": "stdout",
       "text": [
        "v =  5000000.00 m/s\n",
        "e =  -1.60e-19 C\n",
        "B =  2.00e-05 Wb/m-sq\n",
        "F = e(VxB) = e*v*B =  -1.60e-17 N\n"
       ]
      }
     ],
     "prompt_number": 3
    },
    {
     "cell_type": "heading",
     "level": 2,
     "metadata": {},
     "source": [
      "Ex4-pg95"
     ]
    },
    {
     "cell_type": "code",
     "collapsed": false,
     "input": [
      "##Ex3_4\n",
      "import math\n",
      "Bx = 40.*10**-6\n",
      "By = 10.*10**-6\n",
      "N = 10**6\n",
      "e = -1.6*10**-19\n",
      "v = 8.*10**6\n",
      "print'%s %.2e %s%.2e %s'%(\"B = \",(Bx),\"ax + \",(By),\"ay Wb/m-sq\")##magnetic field\n",
      "print'%s %.2f %s'%(\"N = \",(N),\"\")##number of electrons\n",
      "print'%s %.2e %s'%(\"e = \",(e),\"C\")##electron charge\n",
      "print'%s %.2e %s'%(\"v = \",(v),\"ax m/s\")##velocity of electron\n",
      "print'%s %.2e %s'%(\"F = Q(VxB) = \",(e*N*v*By),\" az N\")##force on electron\n",
      "##as we are taking curl of V and B,.. thus Vx X Bx = 0\n",
      "##force will be only due to V x By.\n"
     ],
     "language": "python",
     "metadata": {},
     "outputs": [
      {
       "output_type": "stream",
       "stream": "stdout",
       "text": [
        "B =  4.00e-05 ax + 1.00e-05 ay Wb/m-sq\n",
        "N =  1000000.00 \n",
        "e =  -1.60e-19 C\n",
        "v =  8.00e+06 ax m/s\n",
        "F = Q(VxB) =  -1.28e-11  az N\n"
       ]
      }
     ],
     "prompt_number": 7
    },
    {
     "cell_type": "heading",
     "level": 2,
     "metadata": {},
     "source": [
      "Ex5-pg95"
     ]
    },
    {
     "cell_type": "code",
     "collapsed": false,
     "input": [
      "##Ex3_5\n",
      "import math\n",
      "e = -1.6*10**-19\n",
      "n = 10**6\n",
      "v = 5.*10**6\n",
      "J = n*e*v\n",
      "print'%s %.2e %s'%(\"e = \",(e),\"C\")##charge of electrons\n",
      "print'%s %.2f %s'%(\"n = \",(n),\" /m-cube\")##electron density\n",
      "print'%s %.2f %s'%(\"v = \",(v),\"m/s\")##electron velocity\n",
      "print'%s %.2e %s'%(\"J = nev = \",(abs(J)),\"A/m-sq\")##current density\n"
     ],
     "language": "python",
     "metadata": {},
     "outputs": [
      {
       "output_type": "stream",
       "stream": "stdout",
       "text": [
        "e =  -1.60e-19 C\n",
        "n =  1000000.00  /m-cube\n",
        "v =  5000000.00 m/s\n",
        "J = nev =  8.00e-07 A/m-sq\n"
       ]
      }
     ],
     "prompt_number": 8
    },
    {
     "cell_type": "heading",
     "level": 2,
     "metadata": {},
     "source": [
      "Ex6-pg95"
     ]
    },
    {
     "cell_type": "code",
     "collapsed": false,
     "input": [
      "##Ex3_6\n",
      "import math\n",
      "v = 2*10**7\n",
      "e = -1.6*10**-19\n",
      "n = 10**8\n",
      "J = n*e*v\n",
      "print'%s %.2f %s'%(\"v = \",(v),\"m/s\")##velocity of electron\n",
      "print'%s %.2e %s'%(\"e = \",(e),\"C\")##electron charge\n",
      "print'%s %.2f %s'%(\"n = \",(n),\" /m-cube\")##electron density\n",
      "print'%s %.2e %s'%(\"J = nev = \",(abs(J)),\"A/m-sq\")##current density\n",
      "\n",
      "##note: formula for current density in the solution in the textbook is misprinted \n",
      "##      also the answer is provide in the textbook for above problem is misprinted.\n"
     ],
     "language": "python",
     "metadata": {},
     "outputs": [
      {
       "output_type": "stream",
       "stream": "stdout",
       "text": [
        "v =  20000000.00 m/s\n",
        "e =  -1.60e-19 C\n",
        "n =  100000000.00  /m-cube\n",
        "J = nev =  3.20e-04 A/m-sq\n"
       ]
      }
     ],
     "prompt_number": 9
    },
    {
     "cell_type": "heading",
     "level": 2,
     "metadata": {},
     "source": [
      "Ex7-pg96"
     ]
    },
    {
     "cell_type": "code",
     "collapsed": false,
     "input": [
      "##Ex3_7\n",
      "import math\n",
      "l = 4.##cycle length\n",
      "t = 10. *10**-6##scale setting\n",
      "T = l*t##time period for full cycle\n",
      "print'%s %.2e %s'%(\"T = \",(T),\" s\")\n",
      "print'%s %.2f %s'%(\"Frequency = 1/T = \",(1./T),\"Hz\")##frequency of the signal\n"
     ],
     "language": "python",
     "metadata": {},
     "outputs": [
      {
       "output_type": "stream",
       "stream": "stdout",
       "text": [
        "T =  4.00e-05  s\n",
        "Frequency = 1/T =  25000.00 Hz\n"
       ]
      }
     ],
     "prompt_number": 10
    },
    {
     "cell_type": "heading",
     "level": 2,
     "metadata": {},
     "source": [
      "Ex8-pg96"
     ]
    },
    {
     "cell_type": "code",
     "collapsed": false,
     "input": [
      "##Ex3_8\n",
      "import math\n",
      "Vpp = 4.2*10.*10**-3##peak to peak voltage of sinusoidal signal  ##notation not used in textbook\n",
      "Vm = Vpp/2.##maximum positive voltage\n",
      "Vrms = Vm/(2**.5)##root mean square value of voltage\n",
      "print'%s %.2f %s'% (\"Vm = \",(Vm),\"V\")\n",
      "print'%s %.2e %s'%(\"Vrms = Vm/(2^.5) = \",(Vrms),\"V\")\n"
     ],
     "language": "python",
     "metadata": {},
     "outputs": [
      {
       "output_type": "stream",
       "stream": "stdout",
       "text": [
        "Vm =  0.02 V\n",
        "Vrms = Vm/(2^.5) =  1.48e-02 V\n"
       ]
      }
     ],
     "prompt_number": 12
    },
    {
     "cell_type": "heading",
     "level": 2,
     "metadata": {},
     "source": [
      "Ex9-pg96"
     ]
    },
    {
     "cell_type": "code",
     "collapsed": false,
     "input": [
      "##Ex3_9\n",
      "import math\n",
      "V = 4.5*10**-3##applied dc voltage\n",
      "r = 100. ## given resistance\n",
      "I = V/r##flow of current\n",
      "print'%s %.2e %s'%(\"DC voltage = \",(V),\"V\")\n",
      "print'%s %.2e %s'%(\"The current in 100 ohm = \",(I),\"A\")\n"
     ],
     "language": "python",
     "metadata": {},
     "outputs": [
      {
       "output_type": "stream",
       "stream": "stdout",
       "text": [
        "DC voltage =  4.50e-03 V\n",
        "The current in 100 ohm =  4.50e-05 A\n"
       ]
      }
     ],
     "prompt_number": 13
    },
    {
     "cell_type": "heading",
     "level": 2,
     "metadata": {},
     "source": [
      "Ex10-pg96"
     ]
    },
    {
     "cell_type": "code",
     "collapsed": false,
     "input": [
      "##Ex3_10\n",
      "import math\n",
      "l = .03\n",
      "d = 0.01\n",
      "L = 0.18\n",
      "Va = 1000.\n",
      "print'%s %.2f %s'%(\"l = \",(l),\"m\")##lenght of deflection plate\n",
      "print'%s %.2f %s'%(\"d = \",(d),\"m\")##plate separation\n",
      "print'%s %.2f %s'%(\"L = \",(L),\"m\")##distance of screen from plate\n",
      "print'%s %.2f %s'%(\"Va = \",(Va),\"V\")##anode voltage\n",
      "SE = (l*L)/(2.*d*Va)\n",
      "print'%s %.2e %s'%(\"SE = (l*L)/(2*d*Va) = \",(SE),\"m/V\")\n"
     ],
     "language": "python",
     "metadata": {},
     "outputs": [
      {
       "output_type": "stream",
       "stream": "stdout",
       "text": [
        "l =  0.03 m\n",
        "d =  0.01 m\n",
        "L =  0.18 m\n",
        "Va =  1000.00 V\n",
        "SE = (l*L)/(2*d*Va) =  2.70e-04 m/V\n"
       ]
      }
     ],
     "prompt_number": 16
    },
    {
     "cell_type": "heading",
     "level": 2,
     "metadata": {},
     "source": [
      "Ex11-pg97"
     ]
    },
    {
     "cell_type": "code",
     "collapsed": false,
     "input": [
      "##Ex3_11\n",
      "import math\n",
      "print(\"fm = BIL\")##formula used for finding FORCE ON CURRENT ELEMENT\n",
      "B = 2.0\n",
      "IL = 10.*10**-3\n",
      "fm = B*IL\n",
      "print'%s %.2f %s'%(\"B = \",(B),\"Wb/m-sq\")##magnetic field\n",
      "print'%s %.2f %s'%(\"IL = \",(IL),\"A-m\")##current element\n",
      "print'%s %.2f %s'%(\"fm =\",(fm),\"Newton\")##answer print'%s %.2f %s'%layed\n"
     ],
     "language": "python",
     "metadata": {},
     "outputs": [
      {
       "output_type": "stream",
       "stream": "stdout",
       "text": [
        "fm = BIL\n",
        "B =  2.00 Wb/m-sq\n",
        "IL =  0.01 A-m\n",
        "fm = 0.02 Newton\n"
       ]
      }
     ],
     "prompt_number": 17
    },
    {
     "cell_type": "heading",
     "level": 2,
     "metadata": {},
     "source": [
      "Ex12-pg97"
     ]
    },
    {
     "cell_type": "code",
     "collapsed": false,
     "input": [
      "##Ex3_12\n",
      "import math\n",
      "print(\"v = (2*e*Va/m)^.5\")##formula used to calculate velocity of electrons\n",
      "e = -1.6*10**-19\n",
      "m = 9.1*10**-31\n",
      "Va = 3.0*10**3\n",
      "print'%s %.2e %s'%(\"e = \",(e),\"C\")##electron charge\n",
      "print'%s %.2e %s'%(\"m = \",(m),\"Kg\")##mass of electron\n",
      "print'%s %.2f %s'%(\"Va = \",(Va),\"V\")##potential difference = anode voltage\n",
      "v = abs((2*e*Va/m))**.5\n",
      "print'%s %.2f %s'%(\"v = \",(v),\"m/s\")\n",
      "W = e*Va##kinetic energy\n",
      "print'%s %.2e %s'%(\"W = e*Va = \",(W),\"joules\")##Kinetic energy\n"
     ],
     "language": "python",
     "metadata": {},
     "outputs": [
      {
       "output_type": "stream",
       "stream": "stdout",
       "text": [
        "v = (2*e*Va/m)^.5\n",
        "e =  -1.60e-19 C\n",
        "m =  9.10e-31 Kg\n",
        "Va =  3000.00 V\n",
        "v =  32479917.72 m/s\n",
        "W = e*Va =  -4.80e-16 joules\n"
       ]
      }
     ],
     "prompt_number": 18
    },
    {
     "cell_type": "heading",
     "level": 2,
     "metadata": {},
     "source": [
      "Ex13-pg97"
     ]
    },
    {
     "cell_type": "code",
     "collapsed": false,
     "input": [
      "##Ex3_13\n",
      "import math\n",
      "e = -1.6*10**-19\n",
      "m = 9.1*10**-31\n",
      "Va = 400.\n",
      "v = (abs(2.*e*Va/m))**.5\n",
      "print'%s %.2e %s'%(\"e = \",(e),\"C\")##electron charge\n",
      "print'%s %.2e %s'%(\"m = \",(m),\"Kg\")##mass of electron\n",
      "print'%s %.2f %s'%(\"Va = \",(Va),\"V\")##anode voltage\n",
      "print'%s %.2f %s'%(\"v = (2*e*Va/m)^.5 = \",(v),\"m/s\")##formula used to calculate velocity of electrons\n",
      "##as electron traces a circular path, radius of circular path\n",
      "H = 47.75\n",
      "micro_not = 4.*math.pi*10**-7\n",
      "B = H*micro_not\n",
      "print'%s %.2e %s'%(\"B = \",(B),\"Wb/m-sq\")\n",
      "r = (v/(e/m)/B)\n",
      "print'%s %.2f %s'%(\"r = (v/(e/m))/B = \",(r),\"m\")\n",
      "\n",
      "##  NOTE : Question is incompletely solved in the textbook\n"
     ],
     "language": "python",
     "metadata": {},
     "outputs": [
      {
       "output_type": "stream",
       "stream": "stdout",
       "text": [
        "e =  -1.60e-19 C\n",
        "m =  9.10e-31 Kg\n",
        "Va =  400.00 V\n",
        "v = (2*e*Va/m)^.5 =  11859989.07 m/s\n",
        "B =  6.00e-05 Wb/m-sq\n",
        "r = (v/(e/m))/B =  -1.12 m\n"
       ]
      }
     ],
     "prompt_number": 19
    },
    {
     "cell_type": "heading",
     "level": 2,
     "metadata": {},
     "source": [
      "Ex14-pg98"
     ]
    },
    {
     "cell_type": "code",
     "collapsed": false,
     "input": [
      "##Ex3_14\n",
      "import math\n",
      "l = 22.\n",
      "d = 1.5\n",
      "Va = 625.\n",
      "e = 1.6*10**-19\n",
      "m = 9.1*10**-31\n",
      "print'%s %.2f %s'%(\"l = \",(l),\"cm\")##distance from location of magnetic field\n",
      "print'%s %.2f %s'%(\"d = \",(d),\"cm\")##length over which magnetic field is present\n",
      "print'%s %.2f %s'%(\"Va = \",(Va),\"V\")##voltage applied to anode\n",
      "print'%s %.2e %s'%(\"e = \",(e),\"C\")##electron charge\n",
      "print'%s %.2e %s'%(\"m = \",(m),\"Kg\")##mass of electron\n",
      "SH = l*10**-2*d*10**-2*(e/(2.*m*Va))**.5\n",
      "print'%s %.2f %s'%(\"SH = D/B = l*d*(e/(2*m*Va))^.5 = \",(SH),\"m/tesla\")##magnetic deflection sensitivity in terms of meter and tesla\n",
      "## as B = micro_not*H\n",
      "micro_not = 4.*math.pi*10**-7\n",
      "print'%s %.2e %s'%(\"SH = D/H = micro_not*l*d*(e/(2*m*Va))^.5 = \",(SH*micro_not),\"m-sq/Amp.\")##magnetic deflection sensitivity in terms of meter and amperes\n"
     ],
     "language": "python",
     "metadata": {},
     "outputs": [
      {
       "output_type": "stream",
       "stream": "stdout",
       "text": [
        "l =  22.00 cm\n",
        "d =  1.50 cm\n",
        "Va =  625.00 V\n",
        "e =  1.60e-19 C\n",
        "m =  9.10e-31 Kg\n",
        "SH = D/B = l*d*(e/(2*m*Va))^.5 =  39.14 m/tesla\n",
        "SH = D/H = micro_not*l*d*(e/(2*m*Va))^.5 =  4.92e-05 m-sq/Amp.\n"
       ]
      }
     ],
     "prompt_number": 20
    },
    {
     "cell_type": "heading",
     "level": 2,
     "metadata": {},
     "source": [
      "Ex15-pg98"
     ]
    },
    {
     "cell_type": "code",
     "collapsed": false,
     "input": [
      "##Ex3_15\n",
      "import math\n",
      "Vd = 50.\n",
      "d = 1.\n",
      "print(\"(a)\")\n",
      "print'%s %.2f %s'%(\"Vd = \",(Vd),\"V\")##voltage applied to deflection plates\n",
      "print'%s %.2f %s'%(\"d = \",(d),\"cm\")##plate separation\n",
      "E = Vd/d/10**-2\n",
      "print'%s %.2f %s'%(\"E = Vd/d = \",(E),\"V/m\")##electric field produced\n",
      "\n",
      "print(\"(b)\")\n",
      "e = -1.6*10**-19\n",
      "m = 9.1*10**-31\n",
      "Va = 500.\n",
      "v = abs((2.*e*Va/m))**.5\n",
      "print(\"v = (2*e*Va/m)^.5\")## formula for Velocity OF Electron\n",
      "print'%s %.2e %s'%(\"e = \",(e),\"C\")##electron charge\n",
      "print'%s %.2e %s'%(\"m = \",(m),\"Kg\")##mass of electron\n",
      "print'%s %.2f %s'%(\"Va = \",(Va),\"V\")##voltage applied at anode\n",
      "print'%s %.2f %s'%(\"v = \",(v),\"m/s\")\n",
      "\n",
      "print(\"(c)\")\n",
      "l = 2.\n",
      "L = 30.\n",
      "Va = 500.\n",
      "SE = l*L/2./Va/d*10.\n",
      "print'%s %.2f %s'%(\"l = \",(l),\"cm\")##length of deflection plate\n",
      "print'%s %.2f %s'%(\"L = \",(L),\"cm\")##distance between plates and screen\n",
      "print'%s %.2f %s'%(\"d = \",(d),\"cm\")##plate separation\n",
      "print'%s %.2f %s'%(\"Va = \",(Va),\"V\")##anode voltage\n",
      "print'%s %.2f %s'%(\"SE = (l*L)/(2*Va*d) = \",(SE),\"mm/volts\")##Electrostatic deflection sensitivity\n"
     ],
     "language": "python",
     "metadata": {},
     "outputs": [
      {
       "output_type": "stream",
       "stream": "stdout",
       "text": [
        "(a)\n",
        "Vd =  50.00 V\n",
        "d =  1.00 cm\n",
        "E = Vd/d =  5000.00 V/m\n",
        "(b)\n",
        "v = (2*e*Va/m)^.5\n",
        "e =  -1.60e-19 C\n",
        "m =  9.10e-31 Kg\n",
        "Va =  500.00 V\n",
        "v =  13259870.88 m/s\n",
        "(c)\n",
        "l =  2.00 cm\n",
        "L =  30.00 cm\n",
        "d =  1.00 cm\n",
        "Va =  500.00 V\n",
        "SE = (l*L)/(2*Va*d) =  0.60 mm/volts\n"
       ]
      }
     ],
     "prompt_number": 21
    },
    {
     "cell_type": "heading",
     "level": 2,
     "metadata": {},
     "source": [
      "Ex16-pg98"
     ]
    },
    {
     "cell_type": "code",
     "collapsed": false,
     "input": [
      "##Ex3_16\n",
      "import math\n",
      "##considering Lissajous pattern given in question\n",
      "y1 = 0.\n",
      "y2 = 5.\n",
      "phi = math.asin(y1/y2)*57.3\n",
      "print'%s %.2f %s'%(\"y1 = \",(y1),\"cm\")##minor axis\n",
      "print'%s %.2f %s'%(\"y2 = \",(y2),\"cm\")##major axis\n",
      "print'%s %.2f %s'%(\"phi = sin-1(y1/y2) = \",(phi),\"degree\")##phase difference\n"
     ],
     "language": "python",
     "metadata": {},
     "outputs": [
      {
       "output_type": "stream",
       "stream": "stdout",
       "text": [
        "y1 =  0.00 cm\n",
        "y2 =  5.00 cm\n",
        "phi = sin-1(y1/y2) =  0.00 degree\n"
       ]
      }
     ],
     "prompt_number": 22
    },
    {
     "cell_type": "heading",
     "level": 2,
     "metadata": {},
     "source": [
      "Ex17-pg100"
     ]
    },
    {
     "cell_type": "code",
     "collapsed": false,
     "input": [
      "##Ex3_17\n",
      "import math\n",
      "##considering Lissajous pattern given in question\n",
      "y1 = 4.\n",
      "y2 = 5.\n",
      "phi = math.asin(y1/y2)*57.3\n",
      "print'%s %.2f %s'%(\"y1 = \",(y1),\"unit\")##minor axis\n",
      "print'%s %.2f %s'%(\"y2 = \",(y2),\"unit\")##major axis\n",
      "print'%s %.2f %s'%(\"phi = sin-1(y1/y2) = \",(phi),\"degree\")##phase difference\n"
     ],
     "language": "python",
     "metadata": {},
     "outputs": [
      {
       "output_type": "stream",
       "stream": "stdout",
       "text": [
        "y1 =  4.00 unit\n",
        "y2 =  5.00 unit\n",
        "phi = sin-1(y1/y2) =  53.13 degree\n"
       ]
      }
     ],
     "prompt_number": 23
    },
    {
     "cell_type": "heading",
     "level": 2,
     "metadata": {},
     "source": [
      "Ex18-pg100"
     ]
    },
    {
     "cell_type": "code",
     "collapsed": false,
     "input": [
      "##Ex3_16\n",
      "import math\n",
      "##considering Lissajous pattern given in question\n",
      "y1 = 4.\n",
      "y2 = 4.\n",
      "phi = math.asin(y1/y2)*57.3\n",
      "print'%s %.2f %s'%(\"y1 = \",(y1),\"cm\")##minor axis\n",
      "print'%s %.2f %s'%(\"y2 = \",(y2),\"cm\")##major axis\n",
      "print'%s %.2f %s'%(\"phi = sin-1(y1/y2) = \",(phi),\"degree\")##phase difference\n"
     ],
     "language": "python",
     "metadata": {},
     "outputs": [
      {
       "output_type": "stream",
       "stream": "stdout",
       "text": [
        "y1 =  4.00 cm\n",
        "y2 =  4.00 cm\n",
        "phi = sin-1(y1/y2) =  90.01 degree\n"
       ]
      }
     ],
     "prompt_number": 24
    },
    {
     "cell_type": "heading",
     "level": 2,
     "metadata": {},
     "source": [
      "Ex19-pg101"
     ]
    },
    {
     "cell_type": "code",
     "collapsed": false,
     "input": [
      "##Ex3_16\n",
      "import math\n",
      "##considering Lissajous pattern given in question\n",
      "y1 = 2.\n",
      "y2 = 6.\n",
      "phi = math.asin(y1/y2)*57.3\n",
      "print'%s %.2f %s'%(\"y1 = \",(y1),\"cm\")##minor axis\n",
      "print'%s %.2f %s'%(\"y2 = \",(y2),\"cm\")##major axis\n",
      "print'%s %.2f %s'%(\"phi = sin-1(y1/y2) = \",(phi),\"degree\")##phase difference\n",
      "print(\"OR\")\n",
      "phi = 180. - phi\n",
      "print'%s %.2f %s'%(\"phi = \",(phi),\"degree\")\n"
     ],
     "language": "python",
     "metadata": {},
     "outputs": [
      {
       "output_type": "stream",
       "stream": "stdout",
       "text": [
        "y1 =  2.00 cm\n",
        "y2 =  6.00 cm\n",
        "phi = sin-1(y1/y2) =  19.47 degree\n",
        "OR\n",
        "phi =  160.53 degree\n"
       ]
      }
     ],
     "prompt_number": 25
    }
   ],
   "metadata": {}
  }
 ]
}