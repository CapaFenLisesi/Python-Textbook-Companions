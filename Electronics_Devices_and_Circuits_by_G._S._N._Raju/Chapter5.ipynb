{
 "metadata": {
  "name": "",
  "signature": "sha256:9bcdbe2bb929b70831fd7821b41c25df75a08d35534a4d4ce456209e7964dbaa"
 },
 "nbformat": 3,
 "nbformat_minor": 0,
 "worksheets": [
  {
   "cells": [
    {
     "cell_type": "heading",
     "level": 1,
     "metadata": {},
     "source": [
      "Chapter5-Rectifier and DC Power Supplies"
     ]
    },
    {
     "cell_type": "heading",
     "level": 2,
     "metadata": {},
     "source": [
      "Ex1-pg173"
     ]
    },
    {
     "cell_type": "code",
     "collapsed": false,
     "input": [
      "##Ex5_1\n",
      "import math\n",
      "Vm = 24.\n",
      "RL = 1.8*10**3\n",
      "Im = Vm/RL\n",
      "Irms = Im/2.\n",
      "Idc = Im/(math.pi)\n",
      "r = ((Irms/Idc)**2. - 1.)**.5\n",
      "print'%s %.2f %s'%(\"Vm = \",(Vm),\"V\")##applied voltage to half wave rectifier\n",
      "print'%s %.2f %s'%(\"RL = \",(RL),\"ohm\")##load resistance\n",
      "print'%s %.2f %s'%(\"Im = Vm/RL = \",(Im),\"A\")##peak current\n",
      "print'%s %.2f %s'%(\"Irms = Im/2 = \",(Irms),\"A\")##rms current\n",
      "print'%s %.2e %s'%(\"Idc = Im/pi = \",(Idc),\"A\")##D.C. current\n",
      "print'%s %.2f %s'%(\"r= \",(r),\"\")##ripple factor\n"
     ],
     "language": "python",
     "metadata": {},
     "outputs": [
      {
       "output_type": "stream",
       "stream": "stdout",
       "text": [
        "Vm =  24.00 V\n",
        "RL =  1800.00 ohm\n",
        "Im = Vm/RL =  0.01 A\n",
        "Irms = Im/2 =  0.01 A\n",
        "Idc = Im/pi =  4.24e-03 A\n",
        "r=  1.21 \n"
       ]
      }
     ],
     "prompt_number": 1
    },
    {
     "cell_type": "heading",
     "level": 2,
     "metadata": {},
     "source": [
      "Ex2-pg173"
     ]
    },
    {
     "cell_type": "code",
     "collapsed": false,
     "input": [
      "##Ex5_2\n",
      "import math \n",
      "Vm = 18.\n",
      "\n",
      "##in half wave circuit\n",
      "Vdc = Vm/math.pi\n",
      "PIV = Vm\n",
      "print'%s %.2f %s'%(\"Vm = \",(Vm),\"V\")##peak voltage to rectifier\n",
      "print'%s %.2f %s'%(\"Vdc = Vm/pi = \",(Vdc),\"V\")##D.C. voltage\n",
      "print'%s %.2f %s'%(\"PIV = Vm = \",(PIV),\"V\")##peak inverse voltage\n",
      "\n",
      "##in full wave circuit\n",
      "Vdc = (2.*Vm/math.pi)\n",
      "PIV = 2.*Vm\n",
      "print'%s %.2f %s'%(\"Vdc = 2*Vm/pi = \",(Vdc),\"V\")##D.C. voltage\n",
      "print'%s %.2f %s'%(\"PIV = 2*Vm = \",(PIV),\"V\")##peak inverse voltage for center trapped\n",
      "\n",
      "##in full wave Bridge rectifier\n",
      "print'%s %.2f %s'%(\"PIV = Vm = \",(Vm),\"V\")##peak inverse voltage\n"
     ],
     "language": "python",
     "metadata": {},
     "outputs": [
      {
       "output_type": "stream",
       "stream": "stdout",
       "text": [
        "Vm =  18.00 V\n",
        "Vdc = Vm/pi =  5.73 V\n",
        "PIV = Vm =  18.00 V\n",
        "Vdc = 2*Vm/pi =  11.46 V\n",
        "PIV = 2*Vm =  36.00 V\n",
        "PIV = Vm =  18.00 V\n"
       ]
      }
     ],
     "prompt_number": 2
    },
    {
     "cell_type": "heading",
     "level": 2,
     "metadata": {},
     "source": [
      "Ex3-pg174"
     ]
    },
    {
     "cell_type": "code",
     "collapsed": false,
     "input": [
      "##Ex5_3\n",
      "import math\n",
      "Vm = 12.\n",
      "RL = 1.5*10**3\n",
      "Im = Vm/RL\n",
      "Irms = Im/(2**.5)\n",
      "Idc = (2.*Im/math.pi)\n",
      "r =(((Irms/Idc)**2)-1.)**.5\n",
      "print'%s %.2f %s'%(\"Vm = \",(Vm),\"V\")##peak voltage to full rectifier\n",
      "print'%s %.2f %s'%(\"Im = Vm/RL = \",(Im),\"A\")##peak current\n",
      "print'%s %.2f %s'%(\"Irms = Im/(2^0.5) = \",(Irms),\"A\")##rms current\n",
      "print'%s %.2f %s'%(\"Idc = (2*Im/pi) = \",(Idc),\"A\")##D.C. current\n",
      "print'%s %.2f %s'%(\"r= \",(r),\"\")##ripple factor\n"
     ],
     "language": "python",
     "metadata": {},
     "outputs": [
      {
       "output_type": "stream",
       "stream": "stdout",
       "text": [
        "Vm =  12.00 V\n",
        "Im = Vm/RL =  0.01 A\n",
        "Irms = Im/(2^0.5) =  0.01 A\n",
        "Idc = (2*Im/pi) =  0.01 A\n",
        "r=  0.48 \n"
       ]
      }
     ],
     "prompt_number": 3
    },
    {
     "cell_type": "heading",
     "level": 2,
     "metadata": {},
     "source": [
      "Ex4-pg174"
     ]
    },
    {
     "cell_type": "code",
     "collapsed": false,
     "input": [
      "##Ex5_4\n",
      "import math\n",
      "Idc = 10*10**-3\n",
      "Irms = 14*10**-3\n",
      "RL = 1*10**3\n",
      "Pdc = (Idc**2)*RL\n",
      "Pac = (Irms**2)*RL\n",
      "print'%s %.2f %s'%(\"Idc = \",(Idc),\"A\")##D.C. current\n",
      "print'%s %.2f %s'%(\"Irms = \",(Irms),\"A\")##rms current\n",
      "print'%s %.2f %s'%(\"RL = \",(RL),\"ohm\")##load resistance\n",
      "print'%s %.2f %s'%(\"Pdc = (Idc^2)*RL = \",(Pdc),\"W\")##D.C. power \n",
      "print'%s %.2f %s'%(\"Pac = (Irms^2)*RL = \",(Pac),\"W\")##A.C. power\n",
      "print'%s %.2f %s'%(\"eta_r = Pdc/Pac = \",(Pdc/Pac*100),\"%\")##Rectification efficiency\n",
      "\n"
     ],
     "language": "python",
     "metadata": {},
     "outputs": [
      {
       "output_type": "stream",
       "stream": "stdout",
       "text": [
        "Idc =  0.01 A\n",
        "Irms =  0.01 A\n",
        "RL =  1000.00 ohm\n",
        "Pdc = (Idc^2)*RL =  0.10 W\n",
        "Pac = (Irms^2)*RL =  0.20 W\n",
        "eta_r = Pdc/Pac =  51.02 %\n"
       ]
      }
     ],
     "prompt_number": 4
    },
    {
     "cell_type": "heading",
     "level": 2,
     "metadata": {},
     "source": [
      "Ex5-pg175"
     ]
    },
    {
     "cell_type": "code",
     "collapsed": false,
     "input": [
      "##Ex5_5\n",
      "import math\n",
      "print(\"v = 12 sin(wt)\")\n",
      "Vm = 12.\n",
      "RL = 1*10**3\n",
      "Rf = 10.\n",
      "Im = Vm/(RL+Rf)\n",
      "Idc =Im/math.pi\n",
      "Vdc = Idc*RL\n",
      "Irms = Im/2.\n",
      "Pi = (Irms**2)*(RL+Rf)\n",
      "VNL = Vm/math.pi\n",
      "VL = Idc*RL\n",
      "Regulation = (VNL - VL)/VL\n",
      "print'%s %.2f %s'%(\"Vm = \",(Vm),\"V\")##amplitude of applied signal\n",
      "print'%s %.2f %s'%(\"RL = \",(RL),\"ohm\")##load resistance\n",
      "print'%s %.2f %s'%(\"Rf = \",(Rf),\"ohm\")##forward resistance\n",
      "print'%s %.2f %s'%(\"Im = Vm/(RL+Rf) = \",(Im),\"A\")##peak current\n",
      "print'%s %.2f %s'%(\"Idc = Im/pi = \",(Idc),\"A\")##D.C. current\n",
      "print'%s %.2f %s'%(\"Vdc = Idc*RL = \",(Vdc),\"V\")##D.C, voltage\n",
      "print(\"Pi = (Irms^2)*(RL+Rf)\")\n",
      "print'%s %.2f %s'%(\"Irms = Im/2 = \",(Irms),\"A\")##rms current\n",
      "print'%s %.2f %s'%(\"Pi = \",(Pi),\"W\")##input power\n",
      "print(\"%Regulation = (VNL - VL)/VL\")\n",
      "print'%s %.2f %s'%(\"VNL = Vm/pi = \",(VNL),\"V\")##non load voltage\n",
      "print'%s %.2f %s'%(\"VL = Idc*RL = \",(VL),\"\")##load voltage\n",
      "print'%s %.2f %s'%(\"%Regulation = \",(Regulation*100),\"%\")##percentage regulation\n",
      "\n",
      "\n",
      "##   NOTE : THE POWER CALCULATED IN THE TEXTBOOK IS WRONG.\n"
     ],
     "language": "python",
     "metadata": {},
     "outputs": [
      {
       "output_type": "stream",
       "stream": "stdout",
       "text": [
        "v = 12 sin(wt)\n",
        "Vm =  12.00 V\n",
        "RL =  1000.00 ohm\n",
        "Rf =  10.00 ohm\n",
        "Im = Vm/(RL+Rf) =  0.01 A\n",
        "Idc = Im/pi =  0.00 A\n",
        "Vdc = Idc*RL =  3.78 V\n",
        "Pi = (Irms^2)*(RL+Rf)\n",
        "Irms = Im/2 =  0.01 A\n",
        "Pi =  0.04 W\n",
        "%Regulation = (VNL - VL)/VL\n",
        "VNL = Vm/pi =  3.82 V\n",
        "VL = Idc*RL =  3.78 \n",
        "%Regulation =  1.00 %\n"
       ]
      }
     ],
     "prompt_number": 5
    },
    {
     "cell_type": "heading",
     "level": 2,
     "metadata": {},
     "source": [
      "Ex6-pg176"
     ]
    },
    {
     "cell_type": "code",
     "collapsed": false,
     "input": [
      "##Ex5_6\n",
      "import math\n",
      "Vdc = 15.\n",
      "print'%s %.2f %s'%(\"Vdc = \",(Vdc),\"V\")##applied D.C. voltage\n",
      "##Half Wave Rectifier\n",
      "Vm = math.pi*Vdc\n",
      "PIV = Vm\n",
      "print'%s %.2f %s'%(\"Vm = Vdc*pi = \",(Vm),\"V\")##D.C. voltage for half wave rectifier\n",
      "print'%s %.2f %s'%(\"PIV = Vm = \",(PIV),\"V\")##peak inverse voltage for half wave rectifier\n",
      "##Full Wave Rectifier\n",
      "Vm = math.pi*Vdc/2.\n",
      "PIV = 2.*Vm\n",
      "print'%s %.2f %s'%(\"Vm = Vdc*pi/2 = \",(Vm),\"V\")##D.C. voltage for full wave rectifier\n",
      "print'%s %.2f %s'%(\"PIV = 2*Vm = \",(PIV),\"V\")##peak inverse voltage for full wave rectifier\n",
      "##Bridge Rectifier\n",
      "Vm = math.pi*Vdc/2.\n",
      "PIV = Vm\n",
      "print'%s %.2f %s'%(\"Vm = Vdc*pi/2 = \",(Vm),\"V\")##D.C. voltage for bridge rectifier\n",
      "print'%s %.2f %s'%(\"PIV = Vm = \",(PIV),\"V\")##peak inverse voltage for bridge rectifier\n"
     ],
     "language": "python",
     "metadata": {},
     "outputs": [
      {
       "output_type": "stream",
       "stream": "stdout",
       "text": [
        "Vdc =  15.00 V\n",
        "Vm = Vdc*pi =  47.12 V\n",
        "PIV = Vm =  47.12 V\n",
        "Vm = Vdc*pi/2 =  23.56 V\n",
        "PIV = 2*Vm =  47.12 V\n",
        "Vm = Vdc*pi/2 =  23.56 V\n",
        "PIV = Vm =  23.56 V\n"
       ]
      }
     ],
     "prompt_number": 6
    },
    {
     "cell_type": "heading",
     "level": 2,
     "metadata": {},
     "source": [
      "Ex11-pg179"
     ]
    },
    {
     "cell_type": "code",
     "collapsed": false,
     "input": [
      "##Ex5_11\n",
      "import math\n",
      "Rf = 10.\n",
      "RL = 150.\n",
      "eta_r = 40.6/(1.+Rf/RL)\n",
      "print'%s %.2f %s'%(\"Rf = \",(Rf),\"ohm\")##forward resistance\n",
      "print'%s %.2f %s'%(\"RL = \",(RL),\"ohm\")##load resistance\n",
      "print'%s %.2f %s'%(\"eta_r = 40.6/(1+Rf/RL) = \",(eta_r),\"%\")##rectification efficiency\n"
     ],
     "language": "python",
     "metadata": {},
     "outputs": [
      {
       "output_type": "stream",
       "stream": "stdout",
       "text": [
        "Rf =  10.00 ohm\n",
        "RL =  150.00 ohm\n",
        "eta_r = 40.6/(1+Rf/RL) =  38.06 %\n"
       ]
      }
     ],
     "prompt_number": 7
    },
    {
     "cell_type": "heading",
     "level": 2,
     "metadata": {},
     "source": [
      "Ex12-pg180"
     ]
    },
    {
     "cell_type": "code",
     "collapsed": false,
     "input": [
      "##Ex5_12\n",
      "import math\n",
      "Rf = 12.5\n",
      "RL = 100.\n",
      "eta_r = 80.1/(1.+Rf/RL)\n",
      "print'%s %.2f %s'%(\"Rf = \",(Rf),\"ohm\")##forward resistance\n",
      "print'%s %.2f %s'%(\"RL = \",(RL),\"ohm\")##load resistance\n",
      "print'%s %.2f %s'%(\"eta_r = 80.1/(1+Rf/RL) = \",(eta_r),\"%\")##rectification efficiency\n"
     ],
     "language": "python",
     "metadata": {},
     "outputs": [
      {
       "output_type": "stream",
       "stream": "stdout",
       "text": [
        "Rf =  12.50 ohm\n",
        "RL =  100.00 ohm\n",
        "eta_r = 80.1/(1+Rf/RL) =  71.20 %\n"
       ]
      }
     ],
     "prompt_number": 8
    },
    {
     "cell_type": "heading",
     "level": 2,
     "metadata": {},
     "source": [
      "Ex13-pg180"
     ]
    },
    {
     "cell_type": "code",
     "collapsed": false,
     "input": [
      "##Ex5_13\n",
      "import math\n",
      "Vdc = 32.\n",
      "Vm = math.pi*Vdc/2.\n",
      "Vrms = Vm/(2**.5)\n",
      "PIV = Vm\n",
      "print'%s %.2f %s'%(\"Vdc = \",(Vdc),\"V\")##D.C. voltage\n",
      "print'%s %.2f %s'%(\"Vm = pi*Vdc/2 = \",(Vm),\"V\")##peak voltage\n",
      "print'%s %.2f %s'%(\"Vrms = Vm/(2^.5) = \",(Vrms),\"V\")##rms voltage\n",
      "print'%s %.2f %s'%(\"PIV = \",(PIV),\"V\")##peak inverse voltage\n",
      "\n",
      "\n",
      "## note : value calculated for Vrms in the textbook is wrong.\n"
     ],
     "language": "python",
     "metadata": {},
     "outputs": [
      {
       "output_type": "stream",
       "stream": "stdout",
       "text": [
        "Vdc =  32.00 V\n",
        "Vm = pi*Vdc/2 =  50.27 V\n",
        "Vrms = Vm/(2^.5) =  35.54 V\n",
        "PIV =  50.27 V\n"
       ]
      }
     ],
     "prompt_number": 9
    },
    {
     "cell_type": "heading",
     "level": 2,
     "metadata": {},
     "source": [
      "Ex14-pg180"
     ]
    },
    {
     "cell_type": "code",
     "collapsed": false,
     "input": [
      "##Ex5_14\n",
      "import math\n",
      "C = 10.*10**-3\n",
      "f = 50.\n",
      "Idc = 200.*10**-3\n",
      "Vr = Idc/(2.*f*C)\n",
      "print'%s %.2f %s'%(\"C = \",(C),\"F\")##circuit capacitance\n",
      "print'%s %.2f %s'%(\"f = \",(f),\"Hz\")##operating frequency\n",
      "print'%s %.2f %s'%(\"Idc = \",(Idc),\"A\")##D.C. current\n",
      "print'%s %.2f %s'%(\"Vr = Idc/(2*f*C) = \",(Vr),\"V\")##ripple voltage\n"
     ],
     "language": "python",
     "metadata": {},
     "outputs": [
      {
       "output_type": "stream",
       "stream": "stdout",
       "text": [
        "C =  0.01 F\n",
        "f =  50.00 Hz\n",
        "Idc =  0.20 A\n",
        "Vr = Idc/(2*f*C) =  0.20 V\n"
       ]
      }
     ],
     "prompt_number": 10
    },
    {
     "cell_type": "heading",
     "level": 2,
     "metadata": {},
     "source": [
      "Ex15-pg180"
     ]
    },
    {
     "cell_type": "code",
     "collapsed": false,
     "input": [
      "##Ex5_15\n",
      "import math\n",
      "C = 600.*10**-6\n",
      "T = 20.*10**-3\n",
      "Vr = 1.2\n",
      "Vdc = 9.\n",
      "Vac =Vr/(2.*(3**.5))\n",
      "r = Vac/Vdc\n",
      "Idc = (Vr*C)/(T/2.)\n",
      "RL = Vdc/Idc\n",
      "print'%s %.2e %s'%(\"C = \",(C),\"F\")##rectifier capacitance\n",
      "print'%s %.2f %s'%(\"T = \",(T),\"s\")##time\n",
      "print'%s %.2f %s'%(\"Vr = \",(Vr),\"V\")##ripple voltage\n",
      "print'%s %.2f %s'%(\"Vdc = \",(Vdc),\"V\")##D.C. voltage\n",
      "print'%s %.2f %s'%(\"Vac = \",(Vac),\"V\")##A.C. voltage\n",
      "print'%s %.2f %s'%(\"r = \",(r),\"\")##ripple factor\n",
      "print'%s %.2f %s'%(\"Idc = \",(Idc),\"A\")##D.C. current\n",
      "print'%s %.2f %s'%(\"RL = \",(RL),\"ohm\")##load resistance\n"
     ],
     "language": "python",
     "metadata": {},
     "outputs": [
      {
       "output_type": "stream",
       "stream": "stdout",
       "text": [
        "C =  6.00e-04 F\n",
        "T =  0.02 s\n",
        "Vr =  1.20 V\n",
        "Vdc =  9.00 V\n",
        "Vac =  0.35 V\n",
        "r =  0.04 \n",
        "Idc =  0.07 A\n",
        "RL =  125.00 ohm\n"
       ]
      }
     ],
     "prompt_number": 12
    },
    {
     "cell_type": "heading",
     "level": 2,
     "metadata": {},
     "source": [
      "Ex16-pg181"
     ]
    },
    {
     "cell_type": "code",
     "collapsed": false,
     "input": [
      "##Ex5_16\n",
      "import math\n",
      "L = 1.## assuming inductance\n",
      "f = 50.##operating frequency\n",
      "XL = 2.*math.pi*f*L##inductance\n",
      "RL = 100.##assuming load resistance\n",
      "r = .01##ripple factor\n",
      "\n",
      "##let, capacitances C1 = C2 = C\n",
      "##that implies XC1 = XC2 = XC\n",
      "print'%s %.2f %s'%(\"XL = 2*math.pi*f*L = \",(XL),\"ohm\")\n",
      "print'%s %.2f %s'%(\"r = \",(r),\"\")\n",
      "XC = ((r*8.*XL*RL)/(2**.5))**.5##capacitive resistance\n",
      "print'%s %.2f %s'%(\"XC = ((r*8*XL*RL)/(2^.5))^.5 = \",(XC),\"ohm\")\n",
      "print'%s %.2f %s'%(\"XC = 1/wC = 1/(2*pi*f*C) = \",(XC),\"\")\n",
      "C = 1./(2.*math.pi*f*XC)##capacitance\n",
      "print'%s %.4f %s'%(\"C = 1/(2*pi*f*XC) = \",(C),\"F\")\n",
      "## thus, design parameters are : \n",
      "print(\"design parameters:\")\n",
      "print'%s %.4f %s'%(\"C1 = C2 = \",(C),\"F\")\n",
      "print'%s %.2f %s'%(\"RL = \",(RL),\"ohm\")\n",
      "print'%s %.2f %s'%(\"L = \",(L),\"H\")\n",
      "\n",
      "\n",
      "## Note : the calculations done in the textbook for the given problem is wrong.\n"
     ],
     "language": "python",
     "metadata": {},
     "outputs": [
      {
       "output_type": "stream",
       "stream": "stdout",
       "text": [
        "XL = 2*math.pi*f*L =  314.16 ohm\n",
        "r =  0.01 \n",
        "XC = ((r*8*XL*RL)/(2^.5))^.5 =  42.16 ohm\n",
        "XC = 1/wC = 1/(2*pi*f*C) =  42.16 \n",
        "C = 1/(2*pi*f*XC) =  0.0001 F\n",
        "design parameters:\n",
        "C1 = C2 =  0.0001 F\n",
        "RL =  100.00 ohm\n",
        "L =  1.00 H\n"
       ]
      }
     ],
     "prompt_number": 13
    },
    {
     "cell_type": "heading",
     "level": 2,
     "metadata": {},
     "source": [
      "Ex17-pg182"
     ]
    },
    {
     "cell_type": "code",
     "collapsed": false,
     "input": [
      "##Ex5_17\n",
      "import math\n",
      "f =50.\n",
      "print(\"vi = 16 sin(wt)\")\n",
      "Vdc = 16.\n",
      "RL = 100.\n",
      "C1 = 2.*10**-3\n",
      "C2 = 2.*10**-3\n",
      "L = 1.0\n",
      "Idc = Vdc/RL\n",
      "XC1 = 1./(2.*math.pi*f*C1)\n",
      "XC2 = 1./(2.*math.pi*f*C2)\n",
      "XL = 2.*math.pi*f*L\n",
      "r = ((2**.5)*XC1*XC2)/(8.*XL*RL)\n",
      "print'%s %.2f %s'%(\"L = \",(L),\"H\")##inductance\n",
      "print'%s %.4f %s'%(\"C1 = \",(C1),\"F\")##capacitance 1\n",
      "print'%s %.4f %s'%(\"C2 = \",(C2),\"F\")##capacitance 2\n",
      "print'%s %.2f %s'%(\"RL = \",(RL),\"ohm\")##load resistance\n",
      "print'%s %.2f %s'%(\"f = \",(f),\"Hz\")##operating frequency\n",
      "print'%s %.2f %s'%(\"Vdc = \",(Vdc),\"V\")##d.c. voltage\n",
      "print'%s %.2f %s'%(\"Idc = Vdc/RL = \",(Idc),\"A\")##d.c. current\n",
      "print'%s %.2f %s'%(\"XL = 2*%pi*f*L = \",(XL),\"ohm\")##inductive resistance\n",
      "print'%s %.2f %s'%(\"XC1 = 1/(2*%pi*f*C1) = \",(XC1),\"ohm\")##capacitive resistance due to capacitance 1\n",
      "print'%s %.2f %s'%(\"XC2 = 1/(2*%pi*f*C2) = \",(XC2),\"ohm\")##capacitive resistance due to capacitance 2\n",
      "print'%s %.2e %s'%(\"r = ((2^.5)*XC1*XC2)/(8*XL*RL) = \",(r),\"\")##ripple factor\n",
      "\n"
     ],
     "language": "python",
     "metadata": {},
     "outputs": [
      {
       "output_type": "stream",
       "stream": "stdout",
       "text": [
        "vi = 16 sin(wt)\n",
        "L =  1.00 H\n",
        "C1 =  0.0020 F\n",
        "C2 =  0.0020 F\n",
        "RL =  100.00 ohm\n",
        "f =  50.00 Hz\n",
        "Vdc =  16.00 V\n",
        "Idc = Vdc/RL =  0.16 A\n",
        "XL = 2*%pi*f*L =  314.16 ohm\n",
        "XC1 = 1/(2*%pi*f*C1) =  1.59 ohm\n",
        "XC2 = 1/(2*%pi*f*C2) =  1.59 ohm\n",
        "r = ((2^.5)*XC1*XC2)/(8*XL*RL) =  1.43e-05 \n"
       ]
      }
     ],
     "prompt_number": 14
    }
   ],
   "metadata": {}
  }
 ]
}