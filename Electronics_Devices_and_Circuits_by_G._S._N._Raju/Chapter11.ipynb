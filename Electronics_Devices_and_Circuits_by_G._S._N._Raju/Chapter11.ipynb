{
 "metadata": {
  "name": "",
  "signature": "sha256:0da7b5fc3571010d943cdc95812dd870c1ad432ad01831171ccec77caca39d6e"
 },
 "nbformat": 3,
 "nbformat_minor": 0,
 "worksheets": [
  {
   "cells": [
    {
     "cell_type": "heading",
     "level": 1,
     "metadata": {},
     "source": [
      "Chapter11-Power Amplifiers "
     ]
    },
    {
     "cell_type": "heading",
     "level": 2,
     "metadata": {},
     "source": [
      "Ex1-pg371"
     ]
    },
    {
     "cell_type": "code",
     "collapsed": false,
     "input": [
      "##Ex11_1\n",
      "import math\n",
      "VCC = 20.##collector voltage\n",
      "RL = 12.##load resistance\n",
      "print'%s %.2f %s'%(\"VCC = \",(VCC),\"V\")\n",
      "print'%s %.2f %s'%(\"RL = \",(RL),\"ohm\")\n",
      "Pi_dc = (VCC**2)/(2.*RL)##input power\n",
      "print'%s %.2f %s'%(\"Pi(dc) = (VCC^2)/(2*RL) = \",(Pi_dc),\"W\")\n",
      "Po_ac = (VCC**2)/(8.*RL)##output power\n",
      "print'%s %.2f %s'%(\"Po_ac = (VCC^2)/(8*RL) = \",(Po_ac),\"W\")\n",
      "eta = Po_ac/Pi_dc##efficiency\n",
      "print'%s %.2f %s'%(\"eta = Po_ac/Pi_dc = \",(eta*100.),\"%\")\n",
      "\n",
      "\n",
      "## note : has modifed variables:\n",
      "##        using Po_ac instead of Po(ac)\n",
      "##        and   Pi_dc instead of Pi(dc).\n",
      "\n",
      "## note: there is a misprinting in the above problem given in the textbook \n",
      "##       author want to ask for efficiency instead of frequency.\n"
     ],
     "language": "python",
     "metadata": {},
     "outputs": [
      {
       "output_type": "stream",
       "stream": "stdout",
       "text": [
        "VCC =  20.00 V\n",
        "RL =  12.00 ohm\n",
        "Pi(dc) = (VCC^2)/(2*RL) =  16.67 W\n",
        "Po_ac = (VCC^2)/(8*RL) =  4.17 W\n",
        "eta = Po_ac/Pi_dc =  25.00 %\n"
       ]
      }
     ],
     "prompt_number": 2
    },
    {
     "cell_type": "heading",
     "level": 2,
     "metadata": {},
     "source": [
      "Ex2-pg371"
     ]
    },
    {
     "cell_type": "code",
     "collapsed": false,
     "input": [
      "##Ex11_2\n",
      "import math\n",
      "Po_ac = 64.##output power\n",
      "eta = 0.3##efficiency\n",
      "Pi_dc = Po_ac/eta##input power\n",
      "print'%s %.2f %s'%(\"Po_ac = \",(Po_ac),\"W\")\n",
      "print'%s %.2f %s'%(\"eta = \",(eta),\"\")\n",
      "print'%s %.2f %s'%(\"Pi_dc = Po_ac/eta = \",(Pi_dc),\"W\")\n",
      "power_losses = Pi_dc - Po_ac##power losses\n",
      "print'%s %.2f %s'%(\"Power losses = Pi_dc - Po_ac = \",(power_losses),\"W\")\n",
      "\n",
      "## note : has modifed variables:\n",
      "##        using Po_ac instead of Po(ac)\n",
      "##        and   Pi_dc instead of Pi(dc).\n"
     ],
     "language": "python",
     "metadata": {},
     "outputs": [
      {
       "output_type": "stream",
       "stream": "stdout",
       "text": [
        "Po_ac =  64.00 W\n",
        "eta =  0.30 \n",
        "Pi_dc = Po_ac/eta =  213.33 W\n",
        "Power losses = Pi_dc - Po_ac =  149.33 W\n"
       ]
      }
     ],
     "prompt_number": 3
    },
    {
     "cell_type": "heading",
     "level": 2,
     "metadata": {},
     "source": [
      "Ex3-pg372"
     ]
    },
    {
     "cell_type": "code",
     "collapsed": false,
     "input": [
      "##Ex11_3\n",
      "import math\n",
      "VCEmax = 18.## highest value for collector emitter voltage\n",
      "VCEmin = 2.## lowest value for collector emitter voltage\n",
      "VQ = 9.##operating point voltage\n",
      "print'%s %.2f %s'%(\"VCEmin = \",(VCEmin),\"V\")\n",
      "print'%s %.2f %s'%(\"VCEmax = \",(VCEmax),\"V\")\n",
      "print'%s %.2f %s'%(\"VQ = \",(VQ),\"V\")\n",
      "D2 = ((1./2.)*(VCEmax + VCEmin) - VQ)/(VCEmax - VCEmin)*100.##second harmonic distortion\n",
      "print(\"D2 = ((1/2)*(VCEmax + VCEmin) - VQ)/(VCEmax - VCEmin)*100\")\n",
      "print'%s %.2f %s'%(\"   =\",(D2),\"%\")\n",
      "\n",
      "## note : for above problem there is a misprint for the formula given in solution in the textbook\n"
     ],
     "language": "python",
     "metadata": {},
     "outputs": [
      {
       "output_type": "stream",
       "stream": "stdout",
       "text": [
        "VCEmin =  2.00 V\n",
        "VCEmax =  18.00 V\n",
        "VQ =  9.00 V\n",
        "D2 = ((1/2)*(VCEmax + VCEmin) - VQ)/(VCEmax - VCEmin)*100\n",
        "   = 6.25 %\n"
       ]
      }
     ],
     "prompt_number": 4
    },
    {
     "cell_type": "heading",
     "level": 2,
     "metadata": {},
     "source": [
      "Ex4-pg372"
     ]
    },
    {
     "cell_type": "code",
     "collapsed": false,
     "input": [
      "##Ex11_4\n",
      "import math\n",
      "##according to the given eqution for output current, we have:\n",
      "I1 = 5.0\n",
      "I2 = 0.9\n",
      "I3 = 0.6\n",
      "I4 = 0.3\n",
      "I5 = 0.01\n",
      "D2 = I2/I1## second harmonic distortion\n",
      "D3 = I3/I1##third harmonic distortion\n",
      "D4 = I4/I1##fourth harmonic distortion\n",
      "D5 = I5/I1##fifth harmonic distortion\n",
      "print'%s %.2f %s'%(\"I1 = \",(I1),\"A\")\n",
      "print'%s %.2f %s'%(\"I2 = \",(I2),\"A\")\n",
      "print'%s %.2f %s'%(\"I3 = \",(I3),\"A\")\n",
      "print'%s %.2f %s'%(\"I4 = \",(I4),\"A\")\n",
      "print'%s %.2f %s'%(\"I5 = \",(I5),\"A\")\n",
      "print'%s %.2f %s'%(\"D2 = I2/I1 = \",(D2),\"\")\n",
      "print'%s %.2f %s'%(\"D3 = I3/I1 = \",(D3),\"\")\n",
      "print'%s %.2f %s'%(\"D4 = I4/I1 = \",(D4),\"\")\n",
      "print'%s %.2f %s'%(\"D5 = I5/I1 = \",(D5),\"\")\n",
      "D = ((D2**2.)+(D3**2)+(D4**2.)+(D5**2))**(1/2.)##total harmonic distortion\n",
      "print'%s %.2f %s'%(\"D = [(D2^2)+(D3^2)+(D4^2)+(D5^2)]^(1/2) = \",(D*100),\"%\")\n"
     ],
     "language": "python",
     "metadata": {},
     "outputs": [
      {
       "output_type": "stream",
       "stream": "stdout",
       "text": [
        "I1 =  5.00 A\n",
        "I2 =  0.90 A\n",
        "I3 =  0.60 A\n",
        "I4 =  0.30 A\n",
        "I5 =  0.01 A\n",
        "D2 = I2/I1 =  0.18 \n",
        "D3 = I3/I1 =  0.12 \n",
        "D4 = I4/I1 =  0.06 \n",
        "D5 = I5/I1 =  0.00 \n",
        "D = [(D2^2)+(D3^2)+(D4^2)+(D5^2)]^(1/2) =  22.45 %\n"
       ]
      }
     ],
     "prompt_number": 5
    },
    {
     "cell_type": "heading",
     "level": 2,
     "metadata": {},
     "source": [
      "Ex5-pg373"
     ]
    },
    {
     "cell_type": "code",
     "collapsed": false,
     "input": [
      "##Ex11_5\n",
      "import math\n",
      "VCC = 9.##collector voltage\n",
      "Vp = 5.##output peak voltage\n",
      "VQ = VCC##operating point\n",
      "VCEmax = VQ + Vp## maximum value of collector emitter voltage\n",
      "VCEmin = VQ - Vp## minimum value of collector emitter voltage\n",
      "print'%s %.2f %s'%(\"VCC = \",(VCC),\"V\")\n",
      "print'%s %.2f %s'%(\"Vp = \",(Vp),\"V\")\n",
      "print'%s %.2f %s'%(\"VQ = VCC = \",(VQ),\"V\")\n",
      "print'%s %.2f %s'%(\"VCEmax = VQ + Vp = \",(VCEmax),\"V\")\n",
      "print'%s %.2f %s'%(\"VCEmin = VQ - Vp = \",(VCEmin),\"V\")\n",
      "eta = 50.*((VCEmax - VCEmin)/(VCEmax + VCEmin))##amplifier efficiency\n",
      "print'%s %.2f %s'%(\"eta = 50*[(VCEmax - VCEmin)/(VCEmax + VCEmin)] = \",(eta),\"%\")\n"
     ],
     "language": "python",
     "metadata": {},
     "outputs": [
      {
       "output_type": "stream",
       "stream": "stdout",
       "text": [
        "VCC =  9.00 V\n",
        "Vp =  5.00 V\n",
        "VQ = VCC =  9.00 V\n",
        "VCEmax = VQ + Vp =  14.00 V\n",
        "VCEmin = VQ - Vp =  4.00 V\n",
        "eta = 50*[(VCEmax - VCEmin)/(VCEmax + VCEmin)] =  27.78 %\n"
       ]
      }
     ],
     "prompt_number": 6
    },
    {
     "cell_type": "heading",
     "level": 2,
     "metadata": {},
     "source": [
      "Ex6-pg373"
     ]
    },
    {
     "cell_type": "code",
     "collapsed": false,
     "input": [
      "##Ex11_6\n",
      "import math\n",
      "VCC = 20.##collector voltage\n",
      "RL = 10.##load resistance\n",
      "print'%s %.2f %s'%(\"VCC = \",(VCC),\"V\")\n",
      "print'%s %.2f %s'%(\"RL = \",(RL),\"ohm\")\n",
      "Pi_dc = (VCC**2)/(RL)##input power\n",
      "print'%s %.2f %s'%(\"Pi(dc) = (VCC^2)/(RL) = \",(Pi_dc),\"W\")\n",
      "Po_ac = (VCC**2)/(2.*RL)##output power\n",
      "print'%s %.2f %s'%(\"Po_ac = (VCC^2)/(2*RL) = \",(Po_ac),\"W\")\n",
      "eta = Po_ac/Pi_dc##efficiency\n",
      "print'%s %.2f %s'%(\"eta = Po_ac/Pi_dc = \",(eta*100.),\"%\")\n",
      "\n",
      "\n",
      "## note : has modifed variables:\n",
      "##        using Po_ac instead of Po(ac)\n",
      "##        and   Pi_dc instead of Pi(dc).\n",
      "\n"
     ],
     "language": "python",
     "metadata": {},
     "outputs": [
      {
       "output_type": "stream",
       "stream": "stdout",
       "text": [
        "VCC =  20.00 V\n",
        "RL =  10.00 ohm\n",
        "Pi(dc) = (VCC^2)/(RL) =  40.00 W\n",
        "Po_ac = (VCC^2)/(2*RL) =  20.00 W\n",
        "eta = Po_ac/Pi_dc =  50.00 %\n"
       ]
      }
     ],
     "prompt_number": 7
    },
    {
     "cell_type": "heading",
     "level": 2,
     "metadata": {},
     "source": [
      "Ex7-pg373"
     ]
    },
    {
     "cell_type": "code",
     "collapsed": false,
     "input": [
      "##Ex11_7\n",
      "import math\n",
      "RL = 3.6*10**3##output impedence of power amplifier\n",
      "RL_dash = 4.##resistance of speaker\n",
      "n = (RL/RL_dash)**.5##turns ratio\n",
      "print'%s %.2f %s'%(\"RL = \",(RL),\"ohm\") \n",
      "print'%s %.2f %s'%(\"RL_dash = \",(RL_dash),\"ohm\") \n",
      "print'%s %.2f %s'%(\"n = RL/RL_dash = \",(n),\"\") \n",
      "print(\"trun of ratio\")\n",
      "print(  \"30 :  1\")\n",
      "\n"
     ],
     "language": "python",
     "metadata": {},
     "outputs": [
      {
       "output_type": "stream",
       "stream": "stdout",
       "text": [
        "RL =  3600.00 ohm\n",
        "RL_dash =  4.00 ohm\n",
        "n = RL/RL_dash =  30.00 \n",
        "trun of ratio\n",
        "30 :  1\n"
       ]
      }
     ],
     "prompt_number": 8
    },
    {
     "cell_type": "heading",
     "level": 2,
     "metadata": {},
     "source": [
      "Ex8-pg373"
     ]
    },
    {
     "cell_type": "code",
     "collapsed": false,
     "input": [
      "##Ex11_8\n",
      "import math\n",
      "VCC = 15.##collector voltage\n",
      "Vp = 12.##output peak voltage\n",
      "print'%s %.2f %s'%(\"VCC = \",(VCC),\"V\")\n",
      "print'%s %.2f %s'%(\"Vp = \",(Vp),\"V\")\n",
      "eta = 78.5*(Vp/VCC)##amplifier efficiency\n",
      "print'%s %.2f %s'%(\"eta = 78.5*(Vp/VCC) = \",(eta),\"%\")\n"
     ],
     "language": "python",
     "metadata": {},
     "outputs": [
      {
       "output_type": "stream",
       "stream": "stdout",
       "text": [
        "VCC =  15.00 V\n",
        "Vp =  12.00 V\n",
        "eta = 78.5*(Vp/VCC) =  62.80 %\n"
       ]
      }
     ],
     "prompt_number": 9
    },
    {
     "cell_type": "heading",
     "level": 2,
     "metadata": {},
     "source": [
      "Ex9-pg374"
     ]
    },
    {
     "cell_type": "code",
     "collapsed": false,
     "input": [
      "##Ex11_9\n",
      "import math\n",
      "VCC = 25.##collector voltage\n",
      "Vi = 9.##inout rms voltage\n",
      "RL = 10.##load resistnce\n",
      "Vi_peak = 1.414*Vi##input peak voltage\n",
      "Vo = Vi_peak##output peak voltage\n",
      "Po_ac = (Vo**2)/(2.*RL)##output power\n",
      "Io = Vo/RL##output current\n",
      "IC = (2./math.pi)*Io##collector current\n",
      "Pi_dc = VCC*IC##input power\n",
      "eta = Po_ac/Pi_dc##efficiency\n",
      "print'%s %.2f %s'%(\"VCC = \",(VCC),\"V\")\n",
      "print'%s %.2f %s'%(\"Vi = \",(Vi),\"V\")\n",
      "print'%s %.2f %s'%(\"RL = \",(RL),\"ohm\")\n",
      "print'%s %.2f %s'%(\"Vi_peak = (2^2)Vi = \",(Vi_peak),\"V\")\n",
      "print'%s %.2f %s'%(\"Vo = Vi_peak = \",(Vo),\"V\")\n",
      "print'%s %.2f %s'%(\"Po_ac = (Vo^2)/(2*RL) = \",(Po_ac),\"W\")\n",
      "print'%s %.2f %s'%(\"Io = Vo/RL = \",(Io),\"A\")\n",
      "print'%s %.2f %s'%(\"IC = (2/%pi)*Io = \",(IC),\"A\")\n",
      "print'%s %.2f %s'%(\"Pi_dc = VCC*IC = \",(Pi_dc),\"W\")\n",
      "print'%s %.2f %s'%(\"eta = Po_ac/Pi_dc = \",(eta*100.),\"%\")\n"
     ],
     "language": "python",
     "metadata": {},
     "outputs": [
      {
       "output_type": "stream",
       "stream": "stdout",
       "text": [
        "VCC =  25.00 V\n",
        "Vi =  9.00 V\n",
        "RL =  10.00 ohm\n",
        "Vi_peak = (2^2)Vi =  12.73 V\n",
        "Vo = Vi_peak =  12.73 V\n",
        "Po_ac = (Vo^2)/(2*RL) =  8.10 W\n",
        "Io = Vo/RL =  1.27 A\n",
        "IC = (2/%pi)*Io =  0.81 A\n",
        "Pi_dc = VCC*IC =  20.25 W\n",
        "eta = Po_ac/Pi_dc =  39.98 %\n"
       ]
      }
     ],
     "prompt_number": 10
    },
    {
     "cell_type": "heading",
     "level": 2,
     "metadata": {},
     "source": [
      "Ex10-pg375"
     ]
    },
    {
     "cell_type": "code",
     "collapsed": false,
     "input": [
      "##Ex11_10\n",
      "import math\n",
      "VCC = 18.##collector voltage\n",
      "Vp = 15.##output peak voltage\n",
      "RL = 12.##load resistnce\n",
      "print'%s %.2f %s'%(\"VCC = \",(VCC),\"V\")\n",
      "print'%s %.2f %s'%(\"Vp = \",(Vp),\"V\")\n",
      "print'%s %.2f %s'%(\"RL = \",(RL),\"ohm\")\n",
      "Ip = Vp/RL##output peak current\n",
      "Idc = (2./math.pi)*Ip##input direct current\n",
      "print'%s %.2f %s'%(\"Ip = Vp/RL = \",(Ip),\"A\")\n",
      "print'%s %.2f %s'%(\"Idc = (2/%pi)*Ip = \",(Idc),\"A\")\n",
      "Pi_dc = VCC*Idc##input power\n",
      "print'%s %.2f %s'%(\"Pi_dc = VCC*Idc = \",(Pi_dc),\"W\")\n",
      "Po_ac = (Vp**2.)/(2.*RL)##output power\n",
      "print'%s %.2f %s'%(\"Po_ac = (Vp^2)/(2*RL) = \",(Po_ac),\"W\")\n",
      "eta = Po_ac/Pi_dc##efficiency\n",
      "print'%s %.2f %s'%(\"eta = Po_ac/Pi_dc = \",(eta*100.),\"%\")\n"
     ],
     "language": "python",
     "metadata": {},
     "outputs": [
      {
       "output_type": "stream",
       "stream": "stdout",
       "text": [
        "VCC =  18.00 V\n",
        "Vp =  15.00 V\n",
        "RL =  12.00 ohm\n",
        "Ip = Vp/RL =  1.25 A\n",
        "Idc = (2/%pi)*Ip =  0.80 A\n",
        "Pi_dc = VCC*Idc =  14.32 W\n",
        "Po_ac = (Vp^2)/(2*RL) =  9.38 W\n",
        "eta = Po_ac/Pi_dc =  65.45 %\n"
       ]
      }
     ],
     "prompt_number": 11
    },
    {
     "cell_type": "heading",
     "level": 2,
     "metadata": {},
     "source": [
      "Ex11-pg375"
     ]
    },
    {
     "cell_type": "code",
     "collapsed": false,
     "input": [
      "##Ex11_11\n",
      "import math\n",
      "Vop_p = 7.##peak to peap output voltage\n",
      "Vip_p = 100.*10**-3##peak to peap input voltage\n",
      "Av = Vop_p/Vip_p\n",
      "print(\"Av = output voltage/input voltage\")\n",
      "print'%s %.2f %s'%(\"   = \",(Av),\"\")##voltage gain\n"
     ],
     "language": "python",
     "metadata": {},
     "outputs": [
      {
       "output_type": "stream",
       "stream": "stdout",
       "text": [
        "Av = output voltage/input voltage\n",
        "   =  70.00 \n"
       ]
      }
     ],
     "prompt_number": 12
    },
    {
     "cell_type": "heading",
     "level": 2,
     "metadata": {},
     "source": [
      "Ex12-pg375"
     ]
    },
    {
     "cell_type": "code",
     "collapsed": false,
     "input": [
      "##Ex11_12\n",
      "import math\n",
      "Ai = 50.##current gain\n",
      "Av = 70.##voltage gain\n",
      "print'%s %.2f %s'%(\"Ai = \",(Ai),\"\")\n",
      "print'%s %.2f %s'%(\"Av = \",(Av),\"\")\n",
      "Ap = Ai*Av##power gain\n",
      "print'%s %.2f %s'%(\"Ap = Ai*Av = \",(Ap),\"\")\n"
     ],
     "language": "python",
     "metadata": {},
     "outputs": [
      {
       "output_type": "stream",
       "stream": "stdout",
       "text": [
        "Ai =  50.00 \n",
        "Av =  70.00 \n",
        "Ap = Ai*Av =  3500.00 \n"
       ]
      }
     ],
     "prompt_number": 13
    },
    {
     "cell_type": "heading",
     "level": 2,
     "metadata": {},
     "source": [
      "Ex13-pg375"
     ]
    },
    {
     "cell_type": "code",
     "collapsed": false,
     "input": [
      "##Ex11_13\n",
      "import math\n",
      "vc = 9.##collector voltage\n",
      "ic = 3.*10**-3##collector current\n",
      "Pd = vc*ic##power dissipated at collector junction\n",
      "print'%s %.2f %s'%(\"vc = \",(vc),\"V\")\n",
      "print'%s %.4f %s'%(\"ic = \",(ic),\"A\")\n",
      "print'%s %.2f %s'%(\"Pd = vc*ic = \",(Pd),\"W\")\n"
     ],
     "language": "python",
     "metadata": {},
     "outputs": [
      {
       "output_type": "stream",
       "stream": "stdout",
       "text": [
        "vc =  9.00 V\n",
        "ic =  0.0030 A\n",
        "Pd = vc*ic =  0.03 W\n"
       ]
      }
     ],
     "prompt_number": 14
    },
    {
     "cell_type": "heading",
     "level": 2,
     "metadata": {},
     "source": [
      "Ex14-pg376"
     ]
    },
    {
     "cell_type": "code",
     "collapsed": false,
     "input": [
      "##Ex11_14\n",
      "import math\n",
      "Pac = 3.2*10**-3##output power\n",
      "Pd = 27.*10**-3##power dissipated collector junction\n",
      "P_eta = Pac/Pd##power efficiency\n",
      "print'%s %.4f %s'%(\"Pac = \",(Pac),\"W\")\n",
      "print'%s %.2f %s'%(\"Pd = \",(Pd),\"W\")\n",
      "print'%s %.2f %s'%(\"P_eta = Pac/Pd = \",(P_eta*100),\"%\")\n"
     ],
     "language": "python",
     "metadata": {},
     "outputs": [
      {
       "output_type": "stream",
       "stream": "stdout",
       "text": [
        "Pac =  0.0032 W\n",
        "Pd =  0.03 W\n",
        "P_eta = Pac/Pd =  11.85 %\n"
       ]
      }
     ],
     "prompt_number": 15
    }
   ],
   "metadata": {}
  }
 ]
}