{
 "metadata": {
  "name": ""
 },
 "nbformat": 3,
 "nbformat_minor": 0,
 "worksheets": [
  {
   "cells": [
    {
     "cell_type": "markdown",
     "metadata": {},
     "source": [
      "<h1> Chapter No 7: Optoelectonic Devices <h1>"
     ]
    },
    {
     "cell_type": "heading",
     "level": 2,
     "metadata": {},
     "source": [
      "Example 7.1, Page No 283"
     ]
    },
    {
     "cell_type": "code",
     "collapsed": false,
     "input": [
      "from __future__ import division\n",
      "import math \n",
      "# Given Data\n",
      "Vout = 5.0         #in V\n",
      "V = 1.5               #ON state voltage drop across LED in V\n",
      "I = 5.0          #in mA\n",
      "I = I*10**-3       #in A\n",
      "R = (Vout-V)/I         #in ohm\n",
      "print('Resistance  is =%.f \u03a9' %R)"
     ],
     "language": "python",
     "metadata": {},
     "outputs": [
      {
       "output_type": "stream",
       "stream": "stdout",
       "text": [
        "Resistance  is =700 \u03a9\n"
       ]
      }
     ],
     "prompt_number": 1
    },
    {
     "cell_type": "heading",
     "level": 2,
     "metadata": {},
     "source": [
      "Example 7.2, Page No 306"
     ]
    },
    {
     "cell_type": "code",
     "collapsed": false,
     "input": [
      "# Given Data\n",
      "N_A = 7.5*10**24            #in atoms/m^3\n",
      "N_D = 1.5*10**22            #in atoms/m^3\n",
      "D_e = 25*10**-4             #in m^2/s\n",
      "D_n = 1*10**-3             #in m^2/s\n",
      "V_T = 26*10**-3            #in V\n",
      "Torque_eo = 500*10**-9            #in sec\n",
      "Torque_ho = 100*10**-9            #in sec\n",
      "e = 1.6*10**-19                #in C\n",
      "n_i = 1.5*10**16              #in /m^3\n",
      "I_lambda = 12.5              #in mA/cm^2\n",
      "I_lambda= I_lambda*10**-3       #in A/cm^2\n",
      "L_e = math.sqrt(D_e*Torque_eo)    #in m\n",
      "L_n = math.sqrt(D_n*Torque_ho)  #in m\n",
      "J_s = e*((n_i)**2)*( ((D_e)/(L_e*N_A)) + ((D_n)/(L_n*N_D)) )         #in A/m^2\n",
      "J_s= J_s*10**-4                      #in A/cm^2\n",
      "V_OC = V_T*(math.log(1+(I_lambda/J_s)))                     #in V\n",
      "print('Open circuit voltage is =%.2f volts ' %V_OC)"
     ],
     "language": "python",
     "metadata": {},
     "outputs": [
      {
       "output_type": "stream",
       "stream": "stdout",
       "text": [
        "Open circuit voltage is =0.52 volts \n"
       ]
      }
     ],
     "prompt_number": 2
    },
    {
     "cell_type": "heading",
     "level": 2,
     "metadata": {},
     "source": [
      "Example 7.3, Page No 307"
     ]
    },
    {
     "cell_type": "code",
     "collapsed": false,
     "input": [
      "# Given Data\n",
      "Phi_o = 1.0*10**21               #in m^-2s^-1\n",
      "alpha =1.0*10**5                 #in m^-1\n",
      "e= 1.6*10**-19                 #in C\n",
      "G_L1 = alpha*Phi_o             #in m^-3s^-1\n",
      "W = 26.0                       #in \u00b5m\n",
      "W = W * 10**-6                 #in m\n",
      "G_L2 = alpha*Phi_o*(math.e)**((-alpha)*W)             #in m^-3s^-1\n",
      "#temp=(1-math.e)**(-(alpha)*W)\n",
      "J_L = e*Phi_o*(1-math.e**(-(alpha)*W))               #in A/m^2\n",
      "J_L = J_L * 10**3*10**-4                         #in mA/cm^2\n",
      "print('Photo current density  is =%.1f mA/cm^2' %J_L)"
     ],
     "language": "python",
     "metadata": {},
     "outputs": [
      {
       "output_type": "stream",
       "stream": "stdout",
       "text": [
        "Photo current density  is =14.8 mA/cm^2\n"
       ]
      }
     ],
     "prompt_number": 3
    }
   ],
   "metadata": {}
  }
 ]
}