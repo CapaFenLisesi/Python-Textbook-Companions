{
 "cells": [
  {
   "cell_type": "markdown",
   "metadata": {},
   "source": [
    "# Chapter6-SIMPLE MACHINES"
   ]
  },
  {
   "cell_type": "markdown",
   "metadata": {},
   "source": [
    "# Example 6.1"
   ]
  },
  {
   "cell_type": "code",
   "execution_count": 73,
   "metadata": {
    "collapsed": false
   },
   "outputs": [
    {
     "name": "stdout",
     "output_type": "stream",
     "text": [
      "Mechanical advantage-- 20.0\n",
      "Velocity Ratio 25.0\n",
      "Efficiency 0.8\n",
      "Ideal Load 12500.0\n",
      "Ideal Effort 400.0\n",
      "Effort lost in friction 100.0\n",
      "frictional resistance 2500.0\n"
     ]
    }
   ],
   "source": [
    "import math\n",
    "W = 10000.0  #Load\n",
    "P = 500.0    #Effort\n",
    "D = 20.0   #Distance moved by the effort \n",
    "d = 0.8     #Distance moved by the load \n",
    "MA=W/P         #Mechanical advantage\n",
    "VR=D/d      #Velocity Ratio\n",
    "Efficiency=MA/VR\n",
    "Pi =W/VR        #Ideal effort\n",
    "Wi = P*VR        #ideal load\n",
    "efl=P-Pi            #Effort lost in friction\n",
    "Fr=Wi-W            #frictional resistance\n",
    "print \"Mechanical advantage--\",MA\n",
    "print \"Velocity Ratio\",VR\n",
    "print \"Efficiency\",Efficiency\n",
    "print \"Ideal Load\",Wi\n",
    "print \"Ideal Effort\",Pi\n",
    "print \"Effort lost in friction\",efl\n",
    "print \"frictional resistance\",Fr\n",
    "\n",
    "\n"
   ]
  },
  {
   "cell_type": "markdown",
   "metadata": {},
   "source": [
    "# Example 6.2"
   ]
  },
  {
   "cell_type": "code",
   "execution_count": 74,
   "metadata": {
    "collapsed": false
   },
   "outputs": [
    {
     "name": "stdout",
     "output_type": "stream",
     "text": [
      "Law of machine is P= 0.05 W + 30.0\n",
      "Load is  3400.0 N\n",
      "Mechanical advantage-- 17.0\n",
      "Ideal effort is 113.333333333 N\n",
      "Effort lost in friction 86.6666666667\n",
      "Efficiency 56.6666666667\n"
     ]
    }
   ],
   "source": [
    "import math\n",
    "W1 = 2400.0  #Load 1\n",
    "P1= 150.0    #Effort1\n",
    "\n",
    "W2 = 3000.0  #Load 2\n",
    "P2= 180.0    #Effort2\n",
    "P3= 200.0    #Effort3\n",
    "#law of machine is given by P=mW+C\n",
    "m=(P2-P1)/(W2-W1)\n",
    "C=P2-m*W2\n",
    "print \"Law of machine is P=\",m,\"W\",\"+\",C\n",
    "W3=(P3-C)/m                   #Load 2\n",
    "print \"Load is \",W3,\"N\"\n",
    "MA=W3/P3         #Mechanical advantage\n",
    "print \"Mechanical advantage--\",MA\n",
    "VR=30.0      #Velocity Ratio\n",
    "Efficiency=MA/VR*100\n",
    "Pi =W3/VR        #Ideal effort\n",
    "print \"Ideal effort is\",Pi,\"N\"\n",
    "\n",
    "efl=P3-Pi            #Effort lost in friction\n",
    "\n",
    "print \"Effort lost in friction\",efl\n",
    "print \"Efficiency\",Efficiency"
   ]
  },
  {
   "cell_type": "markdown",
   "metadata": {},
   "source": [
    "# Example 6.3"
   ]
  },
  {
   "cell_type": "code",
   "execution_count": 75,
   "metadata": {
    "collapsed": false
   },
   "outputs": [
    {
     "name": "stdout",
     "output_type": "stream",
     "text": [
      "Mechanical advantage-- 51.3333333333\n",
      "Velocity Ratio 85.5555555556\n",
      "Efficiency 61.7142857143\n",
      "Maximum Mechanical advantage-- 55.0\n",
      "Maximum Efficiency 64.2857142857\n"
     ]
    }
   ],
   "source": [
    "import math\n",
    "W1 = 7700.0  #Load 1\n",
    "P1= 150.0    #Effort1\n",
    "MA=W1/P1         #Mechanical advantage\n",
    "Efficiency=0.6\n",
    "VR=MA/Efficiency        #Velocity Ratio\n",
    "print \"Mechanical advantage--\",MA\n",
    "print \"Velocity Ratio\",VR\n",
    "W2 = 13200.0  #Load 2\n",
    "P2= 250.0    #Effort2\n",
    "MA=W2/P2\n",
    "Efficiency=MA/VR*100\n",
    "print \"Efficiency\",Efficiency\n",
    "#law of machine is given by P=mW+C\n",
    "m=(P2-P1)/(W2-W1)\n",
    "\n",
    "\n",
    "MMA=1/m         #Maximum Mechanical advantage\n",
    "print \"Maximum Mechanical advantage--\",MMA\n",
    "\n",
    "MaxEfficiency=MMA/VR*100\n",
    "\n",
    "print \"Maximum Efficiency\",MaxEfficiency"
   ]
  },
  {
   "cell_type": "markdown",
   "metadata": {},
   "source": [
    "# Example 6.4"
   ]
  },
  {
   "cell_type": "code",
   "execution_count": 76,
   "metadata": {
    "collapsed": false
   },
   "outputs": [
    {
     "name": "stdout",
     "output_type": "stream",
     "text": [
      "Law of machine is P= 0.06 W + 10.5\n"
     ]
    },
    {
     "data": {
      "application/javascript": [
       "/* Put everything inside the global mpl namespace */\n",
       "window.mpl = {};\n",
       "\n",
       "\n",
       "mpl.get_websocket_type = function() {\n",
       "    if (typeof(WebSocket) !== 'undefined') {\n",
       "        return WebSocket;\n",
       "    } else if (typeof(MozWebSocket) !== 'undefined') {\n",
       "        return MozWebSocket;\n",
       "    } else {\n",
       "        alert('Your browser does not have WebSocket support.' +\n",
       "              'Please try Chrome, Safari or Firefox ≥ 6. ' +\n",
       "              'Firefox 4 and 5 are also supported but you ' +\n",
       "              'have to enable WebSockets in about:config.');\n",
       "    };\n",
       "}\n",
       "\n",
       "mpl.figure = function(figure_id, websocket, ondownload, parent_element) {\n",
       "    this.id = figure_id;\n",
       "\n",
       "    this.ws = websocket;\n",
       "\n",
       "    this.supports_binary = (this.ws.binaryType != undefined);\n",
       "\n",
       "    if (!this.supports_binary) {\n",
       "        var warnings = document.getElementById(\"mpl-warnings\");\n",
       "        if (warnings) {\n",
       "            warnings.style.display = 'block';\n",
       "            warnings.textContent = (\n",
       "                \"This browser does not support binary websocket messages. \" +\n",
       "                    \"Performance may be slow.\");\n",
       "        }\n",
       "    }\n",
       "\n",
       "    this.imageObj = new Image();\n",
       "\n",
       "    this.context = undefined;\n",
       "    this.message = undefined;\n",
       "    this.canvas = undefined;\n",
       "    this.rubberband_canvas = undefined;\n",
       "    this.rubberband_context = undefined;\n",
       "    this.format_dropdown = undefined;\n",
       "\n",
       "    this.image_mode = 'full';\n",
       "\n",
       "    this.root = $('<div/>');\n",
       "    this._root_extra_style(this.root)\n",
       "    this.root.attr('style', 'display: inline-block');\n",
       "\n",
       "    $(parent_element).append(this.root);\n",
       "\n",
       "    this._init_header(this);\n",
       "    this._init_canvas(this);\n",
       "    this._init_toolbar(this);\n",
       "\n",
       "    var fig = this;\n",
       "\n",
       "    this.waiting = false;\n",
       "\n",
       "    this.ws.onopen =  function () {\n",
       "            fig.send_message(\"supports_binary\", {value: fig.supports_binary});\n",
       "            fig.send_message(\"send_image_mode\", {});\n",
       "            if (mpl.ratio != 1) {\n",
       "                fig.send_message(\"set_dpi_ratio\", {'dpi_ratio': mpl.ratio});\n",
       "            }\n",
       "            fig.send_message(\"refresh\", {});\n",
       "        }\n",
       "\n",
       "    this.imageObj.onload = function() {\n",
       "            if (fig.image_mode == 'full') {\n",
       "                // Full images could contain transparency (where diff images\n",
       "                // almost always do), so we need to clear the canvas so that\n",
       "                // there is no ghosting.\n",
       "                fig.context.clearRect(0, 0, fig.canvas.width, fig.canvas.height);\n",
       "            }\n",
       "            fig.context.drawImage(fig.imageObj, 0, 0);\n",
       "        };\n",
       "\n",
       "    this.imageObj.onunload = function() {\n",
       "        this.ws.close();\n",
       "    }\n",
       "\n",
       "    this.ws.onmessage = this._make_on_message_function(this);\n",
       "\n",
       "    this.ondownload = ondownload;\n",
       "}\n",
       "\n",
       "mpl.figure.prototype._init_header = function() {\n",
       "    var titlebar = $(\n",
       "        '<div class=\"ui-dialog-titlebar ui-widget-header ui-corner-all ' +\n",
       "        'ui-helper-clearfix\"/>');\n",
       "    var titletext = $(\n",
       "        '<div class=\"ui-dialog-title\" style=\"width: 100%; ' +\n",
       "        'text-align: center; padding: 3px;\"/>');\n",
       "    titlebar.append(titletext)\n",
       "    this.root.append(titlebar);\n",
       "    this.header = titletext[0];\n",
       "}\n",
       "\n",
       "\n",
       "\n",
       "mpl.figure.prototype._canvas_extra_style = function(canvas_div) {\n",
       "\n",
       "}\n",
       "\n",
       "\n",
       "mpl.figure.prototype._root_extra_style = function(canvas_div) {\n",
       "\n",
       "}\n",
       "\n",
       "mpl.figure.prototype._init_canvas = function() {\n",
       "    var fig = this;\n",
       "\n",
       "    var canvas_div = $('<div/>');\n",
       "\n",
       "    canvas_div.attr('style', 'position: relative; clear: both; outline: 0');\n",
       "\n",
       "    function canvas_keyboard_event(event) {\n",
       "        return fig.key_event(event, event['data']);\n",
       "    }\n",
       "\n",
       "    canvas_div.keydown('key_press', canvas_keyboard_event);\n",
       "    canvas_div.keyup('key_release', canvas_keyboard_event);\n",
       "    this.canvas_div = canvas_div\n",
       "    this._canvas_extra_style(canvas_div)\n",
       "    this.root.append(canvas_div);\n",
       "\n",
       "    var canvas = $('<canvas/>');\n",
       "    canvas.addClass('mpl-canvas');\n",
       "    canvas.attr('style', \"left: 0; top: 0; z-index: 0; outline: 0\")\n",
       "\n",
       "    this.canvas = canvas[0];\n",
       "    this.context = canvas[0].getContext(\"2d\");\n",
       "\n",
       "    var backingStore = this.context.backingStorePixelRatio ||\n",
       "\tthis.context.webkitBackingStorePixelRatio ||\n",
       "\tthis.context.mozBackingStorePixelRatio ||\n",
       "\tthis.context.msBackingStorePixelRatio ||\n",
       "\tthis.context.oBackingStorePixelRatio ||\n",
       "\tthis.context.backingStorePixelRatio || 1;\n",
       "\n",
       "    mpl.ratio = (window.devicePixelRatio || 1) / backingStore;\n",
       "\n",
       "    var rubberband = $('<canvas/>');\n",
       "    rubberband.attr('style', \"position: absolute; left: 0; top: 0; z-index: 1;\")\n",
       "\n",
       "    var pass_mouse_events = true;\n",
       "\n",
       "    canvas_div.resizable({\n",
       "        start: function(event, ui) {\n",
       "            pass_mouse_events = false;\n",
       "        },\n",
       "        resize: function(event, ui) {\n",
       "            fig.request_resize(ui.size.width, ui.size.height);\n",
       "        },\n",
       "        stop: function(event, ui) {\n",
       "            pass_mouse_events = true;\n",
       "            fig.request_resize(ui.size.width, ui.size.height);\n",
       "        },\n",
       "    });\n",
       "\n",
       "    function mouse_event_fn(event) {\n",
       "        if (pass_mouse_events)\n",
       "            return fig.mouse_event(event, event['data']);\n",
       "    }\n",
       "\n",
       "    rubberband.mousedown('button_press', mouse_event_fn);\n",
       "    rubberband.mouseup('button_release', mouse_event_fn);\n",
       "    // Throttle sequential mouse events to 1 every 20ms.\n",
       "    rubberband.mousemove('motion_notify', mouse_event_fn);\n",
       "\n",
       "    rubberband.mouseenter('figure_enter', mouse_event_fn);\n",
       "    rubberband.mouseleave('figure_leave', mouse_event_fn);\n",
       "\n",
       "    canvas_div.on(\"wheel\", function (event) {\n",
       "        event = event.originalEvent;\n",
       "        event['data'] = 'scroll'\n",
       "        if (event.deltaY < 0) {\n",
       "            event.step = 1;\n",
       "        } else {\n",
       "            event.step = -1;\n",
       "        }\n",
       "        mouse_event_fn(event);\n",
       "    });\n",
       "\n",
       "    canvas_div.append(canvas);\n",
       "    canvas_div.append(rubberband);\n",
       "\n",
       "    this.rubberband = rubberband;\n",
       "    this.rubberband_canvas = rubberband[0];\n",
       "    this.rubberband_context = rubberband[0].getContext(\"2d\");\n",
       "    this.rubberband_context.strokeStyle = \"#000000\";\n",
       "\n",
       "    this._resize_canvas = function(width, height) {\n",
       "        // Keep the size of the canvas, canvas container, and rubber band\n",
       "        // canvas in synch.\n",
       "        canvas_div.css('width', width)\n",
       "        canvas_div.css('height', height)\n",
       "\n",
       "        canvas.attr('width', width * mpl.ratio);\n",
       "        canvas.attr('height', height * mpl.ratio);\n",
       "        canvas.attr('style', 'width: ' + width + 'px; height: ' + height + 'px;');\n",
       "\n",
       "        rubberband.attr('width', width);\n",
       "        rubberband.attr('height', height);\n",
       "    }\n",
       "\n",
       "    // Set the figure to an initial 600x600px, this will subsequently be updated\n",
       "    // upon first draw.\n",
       "    this._resize_canvas(600, 600);\n",
       "\n",
       "    // Disable right mouse context menu.\n",
       "    $(this.rubberband_canvas).bind(\"contextmenu\",function(e){\n",
       "        return false;\n",
       "    });\n",
       "\n",
       "    function set_focus () {\n",
       "        canvas.focus();\n",
       "        canvas_div.focus();\n",
       "    }\n",
       "\n",
       "    window.setTimeout(set_focus, 100);\n",
       "}\n",
       "\n",
       "mpl.figure.prototype._init_toolbar = function() {\n",
       "    var fig = this;\n",
       "\n",
       "    var nav_element = $('<div/>')\n",
       "    nav_element.attr('style', 'width: 100%');\n",
       "    this.root.append(nav_element);\n",
       "\n",
       "    // Define a callback function for later on.\n",
       "    function toolbar_event(event) {\n",
       "        return fig.toolbar_button_onclick(event['data']);\n",
       "    }\n",
       "    function toolbar_mouse_event(event) {\n",
       "        return fig.toolbar_button_onmouseover(event['data']);\n",
       "    }\n",
       "\n",
       "    for(var toolbar_ind in mpl.toolbar_items) {\n",
       "        var name = mpl.toolbar_items[toolbar_ind][0];\n",
       "        var tooltip = mpl.toolbar_items[toolbar_ind][1];\n",
       "        var image = mpl.toolbar_items[toolbar_ind][2];\n",
       "        var method_name = mpl.toolbar_items[toolbar_ind][3];\n",
       "\n",
       "        if (!name) {\n",
       "            // put a spacer in here.\n",
       "            continue;\n",
       "        }\n",
       "        var button = $('<button/>');\n",
       "        button.addClass('ui-button ui-widget ui-state-default ui-corner-all ' +\n",
       "                        'ui-button-icon-only');\n",
       "        button.attr('role', 'button');\n",
       "        button.attr('aria-disabled', 'false');\n",
       "        button.click(method_name, toolbar_event);\n",
       "        button.mouseover(tooltip, toolbar_mouse_event);\n",
       "\n",
       "        var icon_img = $('<span/>');\n",
       "        icon_img.addClass('ui-button-icon-primary ui-icon');\n",
       "        icon_img.addClass(image);\n",
       "        icon_img.addClass('ui-corner-all');\n",
       "\n",
       "        var tooltip_span = $('<span/>');\n",
       "        tooltip_span.addClass('ui-button-text');\n",
       "        tooltip_span.html(tooltip);\n",
       "\n",
       "        button.append(icon_img);\n",
       "        button.append(tooltip_span);\n",
       "\n",
       "        nav_element.append(button);\n",
       "    }\n",
       "\n",
       "    var fmt_picker_span = $('<span/>');\n",
       "\n",
       "    var fmt_picker = $('<select/>');\n",
       "    fmt_picker.addClass('mpl-toolbar-option ui-widget ui-widget-content');\n",
       "    fmt_picker_span.append(fmt_picker);\n",
       "    nav_element.append(fmt_picker_span);\n",
       "    this.format_dropdown = fmt_picker[0];\n",
       "\n",
       "    for (var ind in mpl.extensions) {\n",
       "        var fmt = mpl.extensions[ind];\n",
       "        var option = $(\n",
       "            '<option/>', {selected: fmt === mpl.default_extension}).html(fmt);\n",
       "        fmt_picker.append(option)\n",
       "    }\n",
       "\n",
       "    // Add hover states to the ui-buttons\n",
       "    $( \".ui-button\" ).hover(\n",
       "        function() { $(this).addClass(\"ui-state-hover\");},\n",
       "        function() { $(this).removeClass(\"ui-state-hover\");}\n",
       "    );\n",
       "\n",
       "    var status_bar = $('<span class=\"mpl-message\"/>');\n",
       "    nav_element.append(status_bar);\n",
       "    this.message = status_bar[0];\n",
       "}\n",
       "\n",
       "mpl.figure.prototype.request_resize = function(x_pixels, y_pixels) {\n",
       "    // Request matplotlib to resize the figure. Matplotlib will then trigger a resize in the client,\n",
       "    // which will in turn request a refresh of the image.\n",
       "    this.send_message('resize', {'width': x_pixels, 'height': y_pixels});\n",
       "}\n",
       "\n",
       "mpl.figure.prototype.send_message = function(type, properties) {\n",
       "    properties['type'] = type;\n",
       "    properties['figure_id'] = this.id;\n",
       "    this.ws.send(JSON.stringify(properties));\n",
       "}\n",
       "\n",
       "mpl.figure.prototype.send_draw_message = function() {\n",
       "    if (!this.waiting) {\n",
       "        this.waiting = true;\n",
       "        this.ws.send(JSON.stringify({type: \"draw\", figure_id: this.id}));\n",
       "    }\n",
       "}\n",
       "\n",
       "\n",
       "mpl.figure.prototype.handle_save = function(fig, msg) {\n",
       "    var format_dropdown = fig.format_dropdown;\n",
       "    var format = format_dropdown.options[format_dropdown.selectedIndex].value;\n",
       "    fig.ondownload(fig, format);\n",
       "}\n",
       "\n",
       "\n",
       "mpl.figure.prototype.handle_resize = function(fig, msg) {\n",
       "    var size = msg['size'];\n",
       "    if (size[0] != fig.canvas.width || size[1] != fig.canvas.height) {\n",
       "        fig._resize_canvas(size[0], size[1]);\n",
       "        fig.send_message(\"refresh\", {});\n",
       "    };\n",
       "}\n",
       "\n",
       "mpl.figure.prototype.handle_rubberband = function(fig, msg) {\n",
       "    var x0 = msg['x0'] / mpl.ratio;\n",
       "    var y0 = (fig.canvas.height - msg['y0']) / mpl.ratio;\n",
       "    var x1 = msg['x1'] / mpl.ratio;\n",
       "    var y1 = (fig.canvas.height - msg['y1']) / mpl.ratio;\n",
       "    x0 = Math.floor(x0) + 0.5;\n",
       "    y0 = Math.floor(y0) + 0.5;\n",
       "    x1 = Math.floor(x1) + 0.5;\n",
       "    y1 = Math.floor(y1) + 0.5;\n",
       "    var min_x = Math.min(x0, x1);\n",
       "    var min_y = Math.min(y0, y1);\n",
       "    var width = Math.abs(x1 - x0);\n",
       "    var height = Math.abs(y1 - y0);\n",
       "\n",
       "    fig.rubberband_context.clearRect(\n",
       "        0, 0, fig.canvas.width, fig.canvas.height);\n",
       "\n",
       "    fig.rubberband_context.strokeRect(min_x, min_y, width, height);\n",
       "}\n",
       "\n",
       "mpl.figure.prototype.handle_figure_label = function(fig, msg) {\n",
       "    // Updates the figure title.\n",
       "    fig.header.textContent = msg['label'];\n",
       "}\n",
       "\n",
       "mpl.figure.prototype.handle_cursor = function(fig, msg) {\n",
       "    var cursor = msg['cursor'];\n",
       "    switch(cursor)\n",
       "    {\n",
       "    case 0:\n",
       "        cursor = 'pointer';\n",
       "        break;\n",
       "    case 1:\n",
       "        cursor = 'default';\n",
       "        break;\n",
       "    case 2:\n",
       "        cursor = 'crosshair';\n",
       "        break;\n",
       "    case 3:\n",
       "        cursor = 'move';\n",
       "        break;\n",
       "    }\n",
       "    fig.rubberband_canvas.style.cursor = cursor;\n",
       "}\n",
       "\n",
       "mpl.figure.prototype.handle_message = function(fig, msg) {\n",
       "    fig.message.textContent = msg['message'];\n",
       "}\n",
       "\n",
       "mpl.figure.prototype.handle_draw = function(fig, msg) {\n",
       "    // Request the server to send over a new figure.\n",
       "    fig.send_draw_message();\n",
       "}\n",
       "\n",
       "mpl.figure.prototype.handle_image_mode = function(fig, msg) {\n",
       "    fig.image_mode = msg['mode'];\n",
       "}\n",
       "\n",
       "mpl.figure.prototype.updated_canvas_event = function() {\n",
       "    // Called whenever the canvas gets updated.\n",
       "    this.send_message(\"ack\", {});\n",
       "}\n",
       "\n",
       "// A function to construct a web socket function for onmessage handling.\n",
       "// Called in the figure constructor.\n",
       "mpl.figure.prototype._make_on_message_function = function(fig) {\n",
       "    return function socket_on_message(evt) {\n",
       "        if (evt.data instanceof Blob) {\n",
       "            /* FIXME: We get \"Resource interpreted as Image but\n",
       "             * transferred with MIME type text/plain:\" errors on\n",
       "             * Chrome.  But how to set the MIME type?  It doesn't seem\n",
       "             * to be part of the websocket stream */\n",
       "            evt.data.type = \"image/png\";\n",
       "\n",
       "            /* Free the memory for the previous frames */\n",
       "            if (fig.imageObj.src) {\n",
       "                (window.URL || window.webkitURL).revokeObjectURL(\n",
       "                    fig.imageObj.src);\n",
       "            }\n",
       "\n",
       "            fig.imageObj.src = (window.URL || window.webkitURL).createObjectURL(\n",
       "                evt.data);\n",
       "            fig.updated_canvas_event();\n",
       "            fig.waiting = false;\n",
       "            return;\n",
       "        }\n",
       "        else if (typeof evt.data === 'string' && evt.data.slice(0, 21) == \"data:image/png;base64\") {\n",
       "            fig.imageObj.src = evt.data;\n",
       "            fig.updated_canvas_event();\n",
       "            fig.waiting = false;\n",
       "            return;\n",
       "        }\n",
       "\n",
       "        var msg = JSON.parse(evt.data);\n",
       "        var msg_type = msg['type'];\n",
       "\n",
       "        // Call the  \"handle_{type}\" callback, which takes\n",
       "        // the figure and JSON message as its only arguments.\n",
       "        try {\n",
       "            var callback = fig[\"handle_\" + msg_type];\n",
       "        } catch (e) {\n",
       "            console.log(\"No handler for the '\" + msg_type + \"' message type: \", msg);\n",
       "            return;\n",
       "        }\n",
       "\n",
       "        if (callback) {\n",
       "            try {\n",
       "                // console.log(\"Handling '\" + msg_type + \"' message: \", msg);\n",
       "                callback(fig, msg);\n",
       "            } catch (e) {\n",
       "                console.log(\"Exception inside the 'handler_\" + msg_type + \"' callback:\", e, e.stack, msg);\n",
       "            }\n",
       "        }\n",
       "    };\n",
       "}\n",
       "\n",
       "// from http://stackoverflow.com/questions/1114465/getting-mouse-location-in-canvas\n",
       "mpl.findpos = function(e) {\n",
       "    //this section is from http://www.quirksmode.org/js/events_properties.html\n",
       "    var targ;\n",
       "    if (!e)\n",
       "        e = window.event;\n",
       "    if (e.target)\n",
       "        targ = e.target;\n",
       "    else if (e.srcElement)\n",
       "        targ = e.srcElement;\n",
       "    if (targ.nodeType == 3) // defeat Safari bug\n",
       "        targ = targ.parentNode;\n",
       "\n",
       "    // jQuery normalizes the pageX and pageY\n",
       "    // pageX,Y are the mouse positions relative to the document\n",
       "    // offset() returns the position of the element relative to the document\n",
       "    var x = e.pageX - $(targ).offset().left;\n",
       "    var y = e.pageY - $(targ).offset().top;\n",
       "\n",
       "    return {\"x\": x, \"y\": y};\n",
       "};\n",
       "\n",
       "/*\n",
       " * return a copy of an object with only non-object keys\n",
       " * we need this to avoid circular references\n",
       " * http://stackoverflow.com/a/24161582/3208463\n",
       " */\n",
       "function simpleKeys (original) {\n",
       "  return Object.keys(original).reduce(function (obj, key) {\n",
       "    if (typeof original[key] !== 'object')\n",
       "        obj[key] = original[key]\n",
       "    return obj;\n",
       "  }, {});\n",
       "}\n",
       "\n",
       "mpl.figure.prototype.mouse_event = function(event, name) {\n",
       "    var canvas_pos = mpl.findpos(event)\n",
       "\n",
       "    if (name === 'button_press')\n",
       "    {\n",
       "        this.canvas.focus();\n",
       "        this.canvas_div.focus();\n",
       "    }\n",
       "\n",
       "    var x = canvas_pos.x * mpl.ratio;\n",
       "    var y = canvas_pos.y * mpl.ratio;\n",
       "\n",
       "    this.send_message(name, {x: x, y: y, button: event.button,\n",
       "                             step: event.step,\n",
       "                             guiEvent: simpleKeys(event)});\n",
       "\n",
       "    /* This prevents the web browser from automatically changing to\n",
       "     * the text insertion cursor when the button is pressed.  We want\n",
       "     * to control all of the cursor setting manually through the\n",
       "     * 'cursor' event from matplotlib */\n",
       "    event.preventDefault();\n",
       "    return false;\n",
       "}\n",
       "\n",
       "mpl.figure.prototype._key_event_extra = function(event, name) {\n",
       "    // Handle any extra behaviour associated with a key event\n",
       "}\n",
       "\n",
       "mpl.figure.prototype.key_event = function(event, name) {\n",
       "\n",
       "    // Prevent repeat events\n",
       "    if (name == 'key_press')\n",
       "    {\n",
       "        if (event.which === this._key)\n",
       "            return;\n",
       "        else\n",
       "            this._key = event.which;\n",
       "    }\n",
       "    if (name == 'key_release')\n",
       "        this._key = null;\n",
       "\n",
       "    var value = '';\n",
       "    if (event.ctrlKey && event.which != 17)\n",
       "        value += \"ctrl+\";\n",
       "    if (event.altKey && event.which != 18)\n",
       "        value += \"alt+\";\n",
       "    if (event.shiftKey && event.which != 16)\n",
       "        value += \"shift+\";\n",
       "\n",
       "    value += 'k';\n",
       "    value += event.which.toString();\n",
       "\n",
       "    this._key_event_extra(event, name);\n",
       "\n",
       "    this.send_message(name, {key: value,\n",
       "                             guiEvent: simpleKeys(event)});\n",
       "    return false;\n",
       "}\n",
       "\n",
       "mpl.figure.prototype.toolbar_button_onclick = function(name) {\n",
       "    if (name == 'download') {\n",
       "        this.handle_save(this, null);\n",
       "    } else {\n",
       "        this.send_message(\"toolbar_button\", {name: name});\n",
       "    }\n",
       "};\n",
       "\n",
       "mpl.figure.prototype.toolbar_button_onmouseover = function(tooltip) {\n",
       "    this.message.textContent = tooltip;\n",
       "};\n",
       "mpl.toolbar_items = [[\"Home\", \"Reset original view\", \"fa fa-home icon-home\", \"home\"], [\"Back\", \"Back to  previous view\", \"fa fa-arrow-left icon-arrow-left\", \"back\"], [\"Forward\", \"Forward to next view\", \"fa fa-arrow-right icon-arrow-right\", \"forward\"], [\"\", \"\", \"\", \"\"], [\"Pan\", \"Pan axes with left mouse, zoom with right\", \"fa fa-arrows icon-move\", \"pan\"], [\"Zoom\", \"Zoom to rectangle\", \"fa fa-square-o icon-check-empty\", \"zoom\"], [\"\", \"\", \"\", \"\"], [\"Download\", \"Download plot\", \"fa fa-floppy-o icon-save\", \"download\"]];\n",
       "\n",
       "mpl.extensions = [\"eps\", \"jpeg\", \"pdf\", \"png\", \"ps\", \"raw\", \"svg\", \"tif\"];\n",
       "\n",
       "mpl.default_extension = \"png\";var comm_websocket_adapter = function(comm) {\n",
       "    // Create a \"websocket\"-like object which calls the given IPython comm\n",
       "    // object with the appropriate methods. Currently this is a non binary\n",
       "    // socket, so there is still some room for performance tuning.\n",
       "    var ws = {};\n",
       "\n",
       "    ws.close = function() {\n",
       "        comm.close()\n",
       "    };\n",
       "    ws.send = function(m) {\n",
       "        //console.log('sending', m);\n",
       "        comm.send(m);\n",
       "    };\n",
       "    // Register the callback with on_msg.\n",
       "    comm.on_msg(function(msg) {\n",
       "        //console.log('receiving', msg['content']['data'], msg);\n",
       "        // Pass the mpl event to the overriden (by mpl) onmessage function.\n",
       "        ws.onmessage(msg['content']['data'])\n",
       "    });\n",
       "    return ws;\n",
       "}\n",
       "\n",
       "mpl.mpl_figure_comm = function(comm, msg) {\n",
       "    // This is the function which gets called when the mpl process\n",
       "    // starts-up an IPython Comm through the \"matplotlib\" channel.\n",
       "\n",
       "    var id = msg.content.data.id;\n",
       "    // Get hold of the div created by the display call when the Comm\n",
       "    // socket was opened in Python.\n",
       "    var element = $(\"#\" + id);\n",
       "    var ws_proxy = comm_websocket_adapter(comm)\n",
       "\n",
       "    function ondownload(figure, format) {\n",
       "        window.open(figure.imageObj.src);\n",
       "    }\n",
       "\n",
       "    var fig = new mpl.figure(id, ws_proxy,\n",
       "                           ondownload,\n",
       "                           element.get(0));\n",
       "\n",
       "    // Call onopen now - mpl needs it, as it is assuming we've passed it a real\n",
       "    // web socket which is closed, not our websocket->open comm proxy.\n",
       "    ws_proxy.onopen();\n",
       "\n",
       "    fig.parent_element = element.get(0);\n",
       "    fig.cell_info = mpl.find_output_cell(\"<div id='\" + id + \"'></div>\");\n",
       "    if (!fig.cell_info) {\n",
       "        console.error(\"Failed to find cell for figure\", id, fig);\n",
       "        return;\n",
       "    }\n",
       "\n",
       "    var output_index = fig.cell_info[2]\n",
       "    var cell = fig.cell_info[0];\n",
       "\n",
       "};\n",
       "\n",
       "mpl.figure.prototype.handle_close = function(fig, msg) {\n",
       "    var width = fig.canvas.width/mpl.ratio\n",
       "    fig.root.unbind('remove')\n",
       "\n",
       "    // Update the output cell to use the data from the current canvas.\n",
       "    fig.push_to_output();\n",
       "    var dataURL = fig.canvas.toDataURL();\n",
       "    // Re-enable the keyboard manager in IPython - without this line, in FF,\n",
       "    // the notebook keyboard shortcuts fail.\n",
       "    IPython.keyboard_manager.enable()\n",
       "    $(fig.parent_element).html('<img src=\"' + dataURL + '\" width=\"' + width + '\">');\n",
       "    fig.close_ws(fig, msg);\n",
       "}\n",
       "\n",
       "mpl.figure.prototype.close_ws = function(fig, msg){\n",
       "    fig.send_message('closing', msg);\n",
       "    // fig.ws.close()\n",
       "}\n",
       "\n",
       "mpl.figure.prototype.push_to_output = function(remove_interactive) {\n",
       "    // Turn the data on the canvas into data in the output cell.\n",
       "    var width = this.canvas.width/mpl.ratio\n",
       "    var dataURL = this.canvas.toDataURL();\n",
       "    this.cell_info[1]['text/html'] = '<img src=\"' + dataURL + '\" width=\"' + width + '\">';\n",
       "}\n",
       "\n",
       "mpl.figure.prototype.updated_canvas_event = function() {\n",
       "    // Tell IPython that the notebook contents must change.\n",
       "    IPython.notebook.set_dirty(true);\n",
       "    this.send_message(\"ack\", {});\n",
       "    var fig = this;\n",
       "    // Wait a second, then push the new image to the DOM so\n",
       "    // that it is saved nicely (might be nice to debounce this).\n",
       "    setTimeout(function () { fig.push_to_output() }, 1000);\n",
       "}\n",
       "\n",
       "mpl.figure.prototype._init_toolbar = function() {\n",
       "    var fig = this;\n",
       "\n",
       "    var nav_element = $('<div/>')\n",
       "    nav_element.attr('style', 'width: 100%');\n",
       "    this.root.append(nav_element);\n",
       "\n",
       "    // Define a callback function for later on.\n",
       "    function toolbar_event(event) {\n",
       "        return fig.toolbar_button_onclick(event['data']);\n",
       "    }\n",
       "    function toolbar_mouse_event(event) {\n",
       "        return fig.toolbar_button_onmouseover(event['data']);\n",
       "    }\n",
       "\n",
       "    for(var toolbar_ind in mpl.toolbar_items){\n",
       "        var name = mpl.toolbar_items[toolbar_ind][0];\n",
       "        var tooltip = mpl.toolbar_items[toolbar_ind][1];\n",
       "        var image = mpl.toolbar_items[toolbar_ind][2];\n",
       "        var method_name = mpl.toolbar_items[toolbar_ind][3];\n",
       "\n",
       "        if (!name) { continue; };\n",
       "\n",
       "        var button = $('<button class=\"btn btn-default\" href=\"#\" title=\"' + name + '\"><i class=\"fa ' + image + ' fa-lg\"></i></button>');\n",
       "        button.click(method_name, toolbar_event);\n",
       "        button.mouseover(tooltip, toolbar_mouse_event);\n",
       "        nav_element.append(button);\n",
       "    }\n",
       "\n",
       "    // Add the status bar.\n",
       "    var status_bar = $('<span class=\"mpl-message\" style=\"text-align:right; float: right;\"/>');\n",
       "    nav_element.append(status_bar);\n",
       "    this.message = status_bar[0];\n",
       "\n",
       "    // Add the close button to the window.\n",
       "    var buttongrp = $('<div class=\"btn-group inline pull-right\"></div>');\n",
       "    var button = $('<button class=\"btn btn-mini btn-primary\" href=\"#\" title=\"Stop Interaction\"><i class=\"fa fa-power-off icon-remove icon-large\"></i></button>');\n",
       "    button.click(function (evt) { fig.handle_close(fig, {}); } );\n",
       "    button.mouseover('Stop Interaction', toolbar_mouse_event);\n",
       "    buttongrp.append(button);\n",
       "    var titlebar = this.root.find($('.ui-dialog-titlebar'));\n",
       "    titlebar.prepend(buttongrp);\n",
       "}\n",
       "\n",
       "mpl.figure.prototype._root_extra_style = function(el){\n",
       "    var fig = this\n",
       "    el.on(\"remove\", function(){\n",
       "\tfig.close_ws(fig, {});\n",
       "    });\n",
       "}\n",
       "\n",
       "mpl.figure.prototype._canvas_extra_style = function(el){\n",
       "    // this is important to make the div 'focusable\n",
       "    el.attr('tabindex', 0)\n",
       "    // reach out to IPython and tell the keyboard manager to turn it's self\n",
       "    // off when our div gets focus\n",
       "\n",
       "    // location in version 3\n",
       "    if (IPython.notebook.keyboard_manager) {\n",
       "        IPython.notebook.keyboard_manager.register_events(el);\n",
       "    }\n",
       "    else {\n",
       "        // location in version 2\n",
       "        IPython.keyboard_manager.register_events(el);\n",
       "    }\n",
       "\n",
       "}\n",
       "\n",
       "mpl.figure.prototype._key_event_extra = function(event, name) {\n",
       "    var manager = IPython.notebook.keyboard_manager;\n",
       "    if (!manager)\n",
       "        manager = IPython.keyboard_manager;\n",
       "\n",
       "    // Check for shift+enter\n",
       "    if (event.shiftKey && event.which == 13) {\n",
       "        this.canvas_div.blur();\n",
       "        // select the cell after this one\n",
       "        var index = IPython.notebook.find_cell_index(this.cell_info[0]);\n",
       "        IPython.notebook.select(index + 1);\n",
       "    }\n",
       "}\n",
       "\n",
       "mpl.figure.prototype.handle_save = function(fig, msg) {\n",
       "    fig.ondownload(fig, null);\n",
       "}\n",
       "\n",
       "\n",
       "mpl.find_output_cell = function(html_output) {\n",
       "    // Return the cell and output element which can be found *uniquely* in the notebook.\n",
       "    // Note - this is a bit hacky, but it is done because the \"notebook_saving.Notebook\"\n",
       "    // IPython event is triggered only after the cells have been serialised, which for\n",
       "    // our purposes (turning an active figure into a static one), is too late.\n",
       "    var cells = IPython.notebook.get_cells();\n",
       "    var ncells = cells.length;\n",
       "    for (var i=0; i<ncells; i++) {\n",
       "        var cell = cells[i];\n",
       "        if (cell.cell_type === 'code'){\n",
       "            for (var j=0; j<cell.output_area.outputs.length; j++) {\n",
       "                var data = cell.output_area.outputs[j];\n",
       "                if (data.data) {\n",
       "                    // IPython >= 3 moved mimebundle to data attribute of output\n",
       "                    data = data.data;\n",
       "                }\n",
       "                if (data['text/html'] == html_output) {\n",
       "                    return [cell, data, j];\n",
       "                }\n",
       "            }\n",
       "        }\n",
       "    }\n",
       "}\n",
       "\n",
       "// Register the function which deals with the matplotlib target/channel.\n",
       "// The kernel may be null if the page has been refreshed.\n",
       "if (IPython.notebook.kernel != null) {\n",
       "    IPython.notebook.kernel.comm_manager.register_target('matplotlib', mpl.mpl_figure_comm);\n",
       "}\n"
      ],
      "text/plain": [
       "<IPython.core.display.Javascript object>"
      ]
     },
     "metadata": {},
     "output_type": "display_data"
    },
    {
     "data": {
      "text/html": [
       "<img src=\"data:image/png;base64,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\" width=\"640\">"
      ],
      "text/plain": [
       "<IPython.core.display.HTML object>"
      ]
     },
     "metadata": {},
     "output_type": "display_data"
    },
    {
     "name": "stdout",
     "output_type": "stream",
     "text": [
      "Maximum Efficiency 66.6666666667\n"
     ]
    }
   ],
   "source": [
    "%matplotlib notebook\n",
    "import matplotlib\n",
    "import numpy as np\n",
    "import matplotlib.pyplot as plt2\n",
    "W=[100.0,200.0,300.0,400.0,500.0,600.0]           #loads  \n",
    "P=[16.0,22.5,28.0,34.0,40.5,46.5]    #Efforts\n",
    "VR=25.0             #velocity ratio\n",
    "E=[0,0,0,0,0,0]  #Efficiency\n",
    "#calculating average slope\n",
    "m=(P[4]-P[1])/(W[4]-W[1])\n",
    "C=P[4]-m*W[4]\n",
    "print \"Law of machine is P=\",m,\"W\",\"+\",C\n",
    "for i in range(0,6):\n",
    "    \n",
    "    E[i]=W[i]/(25*P[i])*100                     #E=W/(P*VR)\n",
    "   \n",
    "plt2.plot(W,E)\n",
    "plt2.ylabel(\"Efficiency\")\n",
    "plt2.xlabel(\"Load\")\n",
    "plt2.show()    \n",
    "\n",
    "    \n",
    "MaxEfficiency=1/VR*100*1/m\n",
    "\n",
    "print \"Maximum Efficiency\",MaxEfficiency\n",
    "\n",
    "       \n",
    "    "
   ]
  },
  {
   "cell_type": "markdown",
   "metadata": {},
   "source": [
    "# Example 6.5"
   ]
  },
  {
   "cell_type": "code",
   "execution_count": 77,
   "metadata": {
    "collapsed": false
   },
   "outputs": [
    {
     "name": "stdout",
     "output_type": "stream",
     "text": [
      "Mechanical advantage-- 13.8888888889\n",
      "Velocity Ratio 30.0\n",
      "Efficiency 46.2962962963\n",
      "self-locking machine\n",
      "Ideal Load 10800.0\n",
      "frictional resistance 5800.0\n"
     ]
    }
   ],
   "source": [
    "\n",
    "W = 5000.0  #Load\n",
    "P = 360.0    #Effort\n",
    "\n",
    "MA=W/P         #Mechanical advantage\n",
    "VR=30.0      #Velocity Ratio\n",
    "Efficiency=MA/VR*100.0\n",
    "var=\"reversible machine\"\n",
    "if Efficiency < 50.0:\n",
    "    var=\"self-locking machine\"\n",
    "\n",
    "\n",
    "\n",
    "Wi = P*VR        #ideal load\n",
    "\n",
    "Fr=Wi-W            #frictional resistance\n",
    "print \"Mechanical advantage--\",MA\n",
    "print \"Velocity Ratio\",VR\n",
    "print \"Efficiency\",Efficiency\n",
    "print var\n",
    "print \"Ideal Load\",Wi\n",
    "\n",
    "print \"frictional resistance\",Fr\n",
    "\n",
    "\n"
   ]
  },
  {
   "cell_type": "markdown",
   "metadata": {},
   "source": [
    "# Example 6.6"
   ]
  },
  {
   "cell_type": "code",
   "execution_count": 78,
   "metadata": {
    "collapsed": false
   },
   "outputs": [
    {
     "name": "stdout",
     "output_type": "stream",
     "text": [
      "Effort is 937.5 N\n",
      "number of pulley is  4\n"
     ]
    }
   ],
   "source": [
    "import math\n",
    "W = 6000.0  #Load\n",
    "N=3.0              #number of pulleys\n",
    "VR=2**N              #Velocity Ratio\n",
    "L=0.05                     #Efficiency loss  in each pulley\n",
    "Efficiency=0.8\n",
    "MA=Efficiency*VR         #Mechanical advantage\n",
    "P = W/MA    #Effort\n",
    "print \"Effort is\",P,\"N\"\n",
    "#second case\n",
    "P=520.0\n",
    "n=0,\n",
    "for i in range(3,20):\n",
    "    if((P*(0.8-(i-3)*0.05)*(2**i)))>6000:\n",
    "        n=i\n",
    "        break\n",
    "        \n",
    "        \n",
    "print \"number of pulley is \",n\n"
   ]
  },
  {
   "cell_type": "markdown",
   "metadata": {},
   "source": [
    "# Exmple 6.7"
   ]
  },
  {
   "cell_type": "code",
   "execution_count": 79,
   "metadata": {
    "collapsed": false
   },
   "outputs": [
    {
     "name": "stdout",
     "output_type": "stream",
     "text": [
      "Effort is 2352.94117647 N\n"
     ]
    }
   ],
   "source": [
    "import math\n",
    "W = 12000.0  #Load\n",
    "N=3.0              #number of movable pulleys\n",
    "VR=2*N              #Velocity Ratio\n",
    "L=0.05                     #Efficiency loss  in each pulley\n",
    "Efficiency=0.85\n",
    "MA=Efficiency*VR         #Mechanical advantage\n",
    "P = W/MA    #Effort\n",
    "print \"Effort is\",P,\"N\"\n"
   ]
  },
  {
   "cell_type": "markdown",
   "metadata": {},
   "source": [
    "# Example 6.8"
   ]
  },
  {
   "cell_type": "code",
   "execution_count": 80,
   "metadata": {
    "collapsed": false
   },
   "outputs": [
    {
     "name": "stdout",
     "output_type": "stream",
     "text": [
      "Effort is 1923.07692308 N\n"
     ]
    }
   ],
   "source": [
    "import math\n",
    "W = 12000.0  #Load\n",
    "N1=2.0              #number of movable pulleys in  system 1\n",
    "N2=2.0              #number of movable  puleys in system 2\n",
    "VR=2*N1+2*N2              #Velocity Ratio\n",
    "L=0.05                     #Efficiency loss  in each pulley\n",
    "Efficiency=0.78\n",
    "MA=Efficiency*VR         #Mechanical advantage\n",
    "P = W/MA    #Effort\n",
    "print \"Effort is\",P,\"N\"\n"
   ]
  },
  {
   "cell_type": "markdown",
   "metadata": {},
   "source": [
    "# Example 6.9"
   ]
  },
  {
   "cell_type": "code",
   "execution_count": 81,
   "metadata": {
    "collapsed": false
   },
   "outputs": [
    {
     "name": "stdout",
     "output_type": "stream",
     "text": [
      "Efficiency 79.3650793651\n",
      "Effort lost in friction 37.1428571429\n"
     ]
    }
   ],
   "source": [
    "import math\n",
    "W = 1000.0  #Load\n",
    "N=3.0              #number of pulleys\n",
    "VR=2**N-1              #Velocity Ratio\n",
    "P = 180.0    #Effort\n",
    "MA=W/P        #Mechanical advantage\n",
    "Efficiency=MA/VR*100\n",
    "print \"Efficiency\",Efficiency\n",
    "Pi =W/VR        #Ideal effort\n",
    "\n",
    "efl=P-Pi            #Effort lost in friction\n",
    "print \"Effort lost in friction\",efl"
   ]
  },
  {
   "cell_type": "markdown",
   "metadata": {},
   "source": [
    "# Example 6.10"
   ]
  },
  {
   "cell_type": "code",
   "execution_count": 82,
   "metadata": {
    "collapsed": false
   },
   "outputs": [
    {
     "name": "stdout",
     "output_type": "stream",
     "text": [
      "Effort is 595.238095238 N\n"
     ]
    }
   ],
   "source": [
    "import math\n",
    "W = 2500.0  #Load\n",
    "N1=2.0              #number of movable pulleys in  system 1 in figure B\n",
    "N2=2.0              #number of movable  puleys in system 2 in figure C\n",
    "VR=2**N1-1+2**N2-1              #Velocity Ratio\n",
    "Efficiency=0.70\n",
    "MA=Efficiency*VR         #Mechanical advantage\n",
    "P = W/MA    #Effort\n",
    "print \"Effort is\",P,\"N\"\n"
   ]
  },
  {
   "cell_type": "markdown",
   "metadata": {},
   "source": [
    "# Example 6.11"
   ]
  },
  {
   "cell_type": "code",
   "execution_count": 83,
   "metadata": {
    "collapsed": false
   },
   "outputs": [
    {
     "name": "stdout",
     "output_type": "stream",
     "text": [
      "Velocity ratio is  2.3\n",
      "Effort is 745.341614907 N\n"
     ]
    }
   ],
   "source": [
    "D=500.0            #diameter of the wheel\n",
    "d=200.0            #diameter of axle\n",
    "tcw=6.0             #thickness of the cord on the wheel\n",
    "tca=20.0           #thickness of the cord on the axle\n",
    "W=1200              #effort\n",
    "ED=D+tcw            #Effective diameter of the wheel\n",
    "Ed=d+tca            #Effectivediameter of axle\n",
    "VR=ED/Ed           #Velocity Ratio\n",
    "print \"Velocity ratio is \",VR\n",
    "Efficiency=0.7\n",
    "MA=Efficiency*VR         #Mechanical advantage\n",
    "P = W/MA    #Effort\n",
    "print \"Effort is\",P,\"N\""
   ]
  },
  {
   "cell_type": "markdown",
   "metadata": {},
   "source": [
    "# Example 6.12"
   ]
  },
  {
   "cell_type": "code",
   "execution_count": 84,
   "metadata": {
    "collapsed": false
   },
   "outputs": [
    {
     "name": "stdout",
     "output_type": "stream",
     "text": [
      "Velocity ratio is  32.0\n",
      "Effort is 1136.36363636 N\n"
     ]
    }
   ],
   "source": [
    "D=800.0            #diameter of the wheel\n",
    "d1=250.0            #diameter of axle 1\n",
    "d2=300.0            #diameter of axle 2\n",
    "\n",
    "W=20000.0              #effort\n",
    "\n",
    "VR=(2*D)/(d2-d1)           #Velocity Ratio\n",
    "print \"Velocity ratio is \",VR\n",
    "Efficiency=0.55\n",
    "MA=Efficiency*VR         #Mechanical advantage\n",
    "P = W/MA    #Effort\n",
    "print \"Effort is\",P,\"N\""
   ]
  },
  {
   "cell_type": "markdown",
   "metadata": {},
   "source": [
    "# Example 6.13"
   ]
  },
  {
   "cell_type": "code",
   "execution_count": 85,
   "metadata": {
    "collapsed": false
   },
   "outputs": [
    {
     "name": "stdout",
     "output_type": "stream",
     "text": [
      "Velocity ratio is  3.33333333333\n",
      "Effort is 2500.0 N\n"
     ]
    }
   ],
   "source": [
    "D=500.0            #diameter of the wheel\n",
    "d=200.0            #diameter of axle \n",
    "\n",
    "W=5000.0              #effort\n",
    "\n",
    "VR=(2*D)/(D-d)           #Velocity Ratio\n",
    "print \"Velocity ratio is \",VR\n",
    "Efficiency=0.6\n",
    "MA=Efficiency*VR         #Mechanical advantage\n",
    "P = W/MA    #Effort\n",
    "print \"Effort is\",P,\"N\""
   ]
  },
  {
   "cell_type": "markdown",
   "metadata": {},
   "source": [
    "# Example 6.14"
   ]
  },
  {
   "cell_type": "code",
   "execution_count": 86,
   "metadata": {
    "collapsed": false
   },
   "outputs": [
    {
     "name": "stdout",
     "output_type": "stream",
     "text": [
      "Effort is 348.376068376 N\n"
     ]
    }
   ],
   "source": [
    "D=40.0  #Screw diameter\n",
    "l=20.0   #Screw lwngth\n",
    "p=l/3.0  #Lead of the screw\n",
    "W=40000.0              #effort\n",
    "R = 400  #Lever length\n",
    "u = 0.12    #coefficient of friction between screw and nut\n",
    "P = (D/(2*R))*W*((u+(p/(3.14*D)))/(1-u*(p/(3.14*D))))   #Effort\n",
    "print \"Effort is\",P,\"N\"\n"
   ]
  },
  {
   "cell_type": "markdown",
   "metadata": {},
   "source": [
    "# Example 6.15"
   ]
  },
  {
   "cell_type": "code",
   "execution_count": 87,
   "metadata": {
    "collapsed": false
   },
   "outputs": [
    {
     "name": "stdout",
     "output_type": "stream",
     "text": [
      "Effort is 57.0287539936 N\n",
      "Efficiency 55.8439936484 %\n",
      "reversible machine\n",
      "The torque required to keep the load from descending 2047.61904762 Nm\n"
     ]
    }
   ],
   "source": [
    "import math\n",
    "d=50.0  #mean diameter of screw\n",
    "p=10.0  #pitch of screw\n",
    "u=0.05 #coefficient of friction at the screw thread\n",
    "R=300.0 ##Lever length\n",
    "W=6000.0 #Load\n",
    "o1=math.atan(p/(3.14*d))\n",
    "o2=math.atan(0.05)\n",
    "P=d/(2*R)*(W*math.tan(o1+o2))  #effort\n",
    "print \"Effort is\",P,\"N\"\n",
    "VR=2*3.14*R/p       #Velocity Ratio\n",
    "MA=W/P         #Mechanical advantage\n",
    "Efficiency=MA/VR*100.0\n",
    "print \"Efficiency\",Efficiency,\"%\"\n",
    "var=\"reversible machine\"\n",
    "if Efficiency < 50.0:\n",
    "    var=\"self-locking machine\"\n",
    "print var\n",
    "T =d/2.0*W*math.tan(o1-o2) #The torque required to keep the load from descending\n",
    "print \"The torque required to keep the load from descending\",T,\"Nm\"\n"
   ]
  },
  {
   "cell_type": "markdown",
   "metadata": {},
   "source": [
    "# Example 6.16"
   ]
  },
  {
   "cell_type": "code",
   "execution_count": 88,
   "metadata": {
    "collapsed": false
   },
   "outputs": [
    {
     "name": "stdout",
     "output_type": "stream",
     "text": [
      "Efficiency 12.9110001721 %\n"
     ]
    }
   ],
   "source": [
    "import math\n",
    "p1=5.0   #Pitch of smaller screw\n",
    "p2=10.0    #Pitch of larger screw\n",
    "R=500.0     #Lever arm length from centre of screw\n",
    "W=15000.0  #Load\n",
    "P=185.0    #Effort\n",
    "VR=2*3.14*R/(p2-p1)       #Velocity Ratio\n",
    "MA=W/P         #Mechanical advantage\n",
    "Efficiency=MA/VR*100.0\n",
    "\n",
    "print \"Efficiency\",Efficiency,\"%\"\n"
   ]
  },
  {
   "cell_type": "markdown",
   "metadata": {},
   "source": [
    "# Example 6.17"
   ]
  },
  {
   "cell_type": "code",
   "execution_count": 89,
   "metadata": {
    "collapsed": false
   },
   "outputs": [
    {
     "name": "stdout",
     "output_type": "stream",
     "text": [
      "Velocity Ratio is  120.0\n",
      "Law of machine is P= 0.01 W + 70.0\n",
      "Efficiency for first case 25.0 %\n",
      "Efficiency for second case 46.875 %\n"
     ]
    }
   ],
   "source": [
    "d=200.0  #Diameter of the load drum \n",
    "R = 1200.0   # Length of lever arm  \n",
    "T1 = 10.0  #Number of teeth on pinion, \n",
    "T2 = 100.0   #Number of teeth on spur wheel\n",
    "VR=R*T2/(d*T1)*2.0       #Velocity Ratio\n",
    "print \"Velocity Ratio is \",VR\n",
    "W1 = 3000.0  #Load 1\n",
    "P1= 100.0    #Effort1\n",
    "\n",
    "W2 = 9000.0  #Load 2\n",
    "P2= 160.0    #Effort2\n",
    "\n",
    "#law of machine is given by P=mW+C\n",
    "m=(P2-P1)/(W2-W1)\n",
    "C=P2-m*W2\n",
    "print \"Law of machine is P=\",m,\"W\",\"+\",C\n",
    "MA=W1/P1         #Mechanical advantage\n",
    "Efficiency=MA/VR*100.0\n",
    "\n",
    "print \"Efficiency for first case\",Efficiency,\"%\"\n",
    "MA=W2/P2         #Mechanical advantage\n",
    "Efficiency=MA/VR*100.0\n",
    "\n",
    "print \"Efficiency for second case\",Efficiency,\"%\""
   ]
  },
  {
   "cell_type": "markdown",
   "metadata": {},
   "source": [
    "# Example 6.18"
   ]
  },
  {
   "cell_type": "code",
   "execution_count": 90,
   "metadata": {
    "collapsed": false
   },
   "outputs": [
    {
     "name": "stdout",
     "output_type": "stream",
     "text": [
      "Velocity Ratio is  32.0\n",
      "LOad 3200.0 N\n"
     ]
    }
   ],
   "source": [
    "d=150.0  #Diameter of the load drum \n",
    "R = 400.0   # Length of lever arm  \n",
    "T1 = 15.0  #Number of teeth on pinion, \n",
    "T3 = 20.0  #Number of teeth on pinion, \n",
    "T2 = 45.0   #Number of teeth on spur wheel\n",
    "T4 = 40.0   #Number of teeth on spur wheel\n",
    "P= 250.0    #Effort\n",
    "Efficiency=0.4\n",
    "VR=R*T2/(d*T1)*2.0*T4/T3       #Velocity Ratio\n",
    "print \"Velocity Ratio is \",VR\n",
    "\n",
    "W=VR*Efficiency*P       #Load \n",
    "\n",
    "print \"LOad\",W,\"N\""
   ]
  }
 ],
 "metadata": {
  "anaconda-cloud": {},
  "kernelspec": {
   "display_name": "Python [conda root]",
   "language": "python",
   "name": "conda-root-py"
  },
  "language_info": {
   "codemirror_mode": {
    "name": "ipython",
    "version": 2
   },
   "file_extension": ".py",
   "mimetype": "text/x-python",
   "name": "python",
   "nbconvert_exporter": "python",
   "pygments_lexer": "ipython2",
   "version": "2.7.13"
  }
 },
 "nbformat": 4,
 "nbformat_minor": 0
}
