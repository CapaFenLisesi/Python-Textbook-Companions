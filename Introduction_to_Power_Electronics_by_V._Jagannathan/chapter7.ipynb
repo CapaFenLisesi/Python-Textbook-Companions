{
 "cells": [
  {
   "cell_type": "markdown",
   "metadata": {},
   "source": [
    "# Chapter 7 - Power Controllers - Their Applications"
   ]
  },
  {
   "cell_type": "markdown",
   "metadata": {},
   "source": [
    "## Ex 7.1 page 260"
   ]
  },
  {
   "cell_type": "code",
   "execution_count": 1,
   "metadata": {
    "collapsed": false
   },
   "outputs": [
    {
     "name": "stdout",
     "output_type": "stream",
     "text": [
      "\n",
      " Speed of motor = 517 rpm\n"
     ]
    }
   ],
   "source": [
    "from __future__ import division\n",
    "from math import sqrt,cos,pi\n",
    "N1=1000    #  rpm\n",
    "Va1=200    #  V\n",
    "alfa=60    #  degree\n",
    "Va2=230    #  V\n",
    "\n",
    "N2=2*Va2*sqrt(2)*cos(alfa*pi/180)*N1/Va1/pi\n",
    "print '\\n Speed of motor = %d rpm'%(N2)\n",
    "# ans in the textbook is not accurate."
   ]
  },
  {
   "cell_type": "markdown",
   "metadata": {},
   "source": [
    "## Ex 7.2 page 260"
   ]
  },
  {
   "cell_type": "code",
   "execution_count": 2,
   "metadata": {
    "collapsed": false
   },
   "outputs": [
    {
     "name": "stdout",
     "output_type": "stream",
     "text": [
      "\n",
      " duty ratio = 0.82\n"
     ]
    }
   ],
   "source": [
    "from __future__ import division\n",
    "\n",
    "N1=1100    #  rpm\n",
    "Va1=220    #  V\n",
    "N2=900    #  rpm\n",
    "\n",
    "Va2=Va1*N2/N1    #  V\n",
    "delta=Va2/Va1    #  duty ratio\n",
    "print '\\n duty ratio = %.2f'%(delta)"
   ]
  },
  {
   "cell_type": "markdown",
   "metadata": {},
   "source": [
    "## Ex 7.3 page 261"
   ]
  },
  {
   "cell_type": "code",
   "execution_count": 3,
   "metadata": {
    "collapsed": false
   },
   "outputs": [
    {
     "name": "stdout",
     "output_type": "stream",
     "text": [
      "\n",
      " triggering angle = 57.9 degree\n"
     ]
    }
   ],
   "source": [
    "from __future__ import division\n",
    "from math import sqrt,cos,pi,acos\n",
    "\n",
    "N1=900    #  rpm\n",
    "Va1=198    #  V\n",
    "N2=500    #  rpm\n",
    "Vs=230    #  V\n",
    "\n",
    "Va2=Va1*N2/N1    #  V\n",
    "# 2*sqrt(2)*Vs*cos(alfa)/pi=Va2\n",
    "alfa=acos(Va2/(2*sqrt(2)*Vs)*pi)*180/pi    #  degree\n",
    "\n",
    "print '\\n triggering angle = %.1f degree'%(alfa)"
   ]
  },
  {
   "cell_type": "markdown",
   "metadata": {},
   "source": [
    "## Ex 7.4 page 261"
   ]
  },
  {
   "cell_type": "code",
   "execution_count": 4,
   "metadata": {
    "collapsed": false
   },
   "outputs": [
    {
     "name": "stdout",
     "output_type": "stream",
     "text": [
      "\n",
      " average armature current = 9.35 A\n",
      "\n",
      " torque = 4.674 Nm\n"
     ]
    }
   ],
   "source": [
    "from __future__ import division\n",
    "from math import pi\n",
    "Vs=230    #  V\n",
    "Ton=10    #  ms\n",
    "Toff=25    #  ms\n",
    "Ra=2    # ohm\n",
    "N=1400    #  rpm\n",
    "k=0.5    #  V/rad/s (back emf constant)\n",
    "kt=0.5    #  NM-A**-1 (torque constant)\n",
    "\n",
    "Eb=N*2*pi*k/60    #  V\n",
    "Va=Vs*Ton/(Toff)    #  V\n",
    "Ia=(Va-Eb)/Ra    #  A\n",
    "T=kt*Ia    #  Nm\n",
    "print '\\n average armature current = %.2f A'%( Ia)\n",
    "print '\\n torque = %.3f Nm'%( T)"
   ]
  }
 ],
 "metadata": {
  "kernelspec": {
   "display_name": "Python 2",
   "language": "python",
   "name": "python2"
  },
  "language_info": {
   "codemirror_mode": {
    "name": "ipython",
    "version": 2
   },
   "file_extension": ".py",
   "mimetype": "text/x-python",
   "name": "python",
   "nbconvert_exporter": "python",
   "pygments_lexer": "ipython2",
   "version": "2.7.9"
  }
 },
 "nbformat": 4,
 "nbformat_minor": 0
}
