{
 "cells": [
  {
   "cell_type": "markdown",
   "metadata": {},
   "source": [
    "# Chapter 5 - DC to DC Converters (Choppers)"
   ]
  },
  {
   "cell_type": "markdown",
   "metadata": {},
   "source": [
    "## Ex 5.1 page 184"
   ]
  },
  {
   "cell_type": "code",
   "execution_count": 1,
   "metadata": {
    "collapsed": false
   },
   "outputs": [
    {
     "name": "stdout",
     "output_type": "stream",
     "text": [
      "\n",
      " Average load current = 9.2 A\n",
      "\n",
      " Power delivered = 2116.00 W\n"
     ]
    }
   ],
   "source": [
    "from __future__ import division\n",
    "from math import sqrt\n",
    "R=10    #  ohm\n",
    "Vs=230    #  V\n",
    "f=1*1000    #  Hz\n",
    "Ton=0.4    #  ms\n",
    "k=0.4     #  duty cycle\n",
    "\n",
    "Vo=Vs*k    # V\n",
    "Ioav=Vo/R    #  A\n",
    "Vor=Vs*sqrt(k)    #  V\n",
    "Po=Vor**2/R    #  W\n",
    "print '\\n Average load current = %.1f A'%( Ioav)\n",
    "print '\\n Power delivered = %.2f W'%(Po)"
   ]
  },
  {
   "cell_type": "markdown",
   "metadata": {},
   "source": [
    "## Ex 5.2 page 185"
   ]
  },
  {
   "cell_type": "code",
   "execution_count": 2,
   "metadata": {
    "collapsed": false
   },
   "outputs": [
    {
     "name": "stdout",
     "output_type": "stream",
     "text": [
      "\n",
      " duty ratio = 0.667\n",
      "\n",
      " chopping frequency = 33.33 Hz\n",
      "\n",
      " Average load voltage = 200.00 V\n",
      "\n",
      " Average load current = 40.00 A\n"
     ]
    }
   ],
   "source": [
    "from __future__ import division\n",
    "from math import sqrt\n",
    "\n",
    "R=5    #  ohm\n",
    "Vs=300    #  V\n",
    "f=1*1000    #  Hz\n",
    "Ton=20    #  ms\n",
    "Toff=10    #  ms\n",
    "\n",
    "k= Ton/(Ton+Toff)    #  duty ratio\n",
    "f=1000/(Ton+Toff)    # Hz\n",
    "Voav=Vs*k    #  V\n",
    "Ioav=Voav/R    #  A\n",
    "print '\\n duty ratio = %.3f'%(k)\n",
    "print '\\n chopping frequency = %.2f Hz'%(f)\n",
    "print '\\n Average load voltage = %.2f V'%( Voav)\n",
    "print '\\n Average load current = %.2f A'%( Ioav)"
   ]
  },
  {
   "cell_type": "markdown",
   "metadata": {},
   "source": [
    "## Ex 5.3 page 185"
   ]
  },
  {
   "cell_type": "code",
   "execution_count": 3,
   "metadata": {
    "collapsed": false
   },
   "outputs": [
    {
     "name": "stdout",
     "output_type": "stream",
     "text": [
      "\n",
      " chopping frequency = 15 Hz\n"
     ]
    }
   ],
   "source": [
    "from __future__ import division\n",
    "from math import sqrt\n",
    "\n",
    "Vs=400    # V\n",
    "alfa=0.25    #  duty cycle\n",
    "delta_I=10    #  A\n",
    "L=0.5    #  H\n",
    "R=0    #  ohm\n",
    "\n",
    "Vo=alfa*Vs    # V\n",
    "#Vo+L*di/dt=Vs -- putting dt=Ton & di=delta_I\n",
    "Ton=delta_I/((Vs-Vo)/L)*1000    #  ms\n",
    "T=Ton/alfa    #  ms\n",
    "f=1/T*1000    # Hz\n",
    "print '\\n chopping frequency = %d Hz'%(f)"
   ]
  },
  {
   "cell_type": "markdown",
   "metadata": {},
   "source": [
    "## Ex 5.5 page 186"
   ]
  },
  {
   "cell_type": "code",
   "execution_count": 4,
   "metadata": {
    "collapsed": false
   },
   "outputs": [
    {
     "name": "stdout",
     "output_type": "stream",
     "text": [
      "Pulse width of output voltage, Ton = 200 us & T = 300 us\n",
      "\n",
      "New output voltage = 330 V\n"
     ]
    }
   ],
   "source": [
    "from __future__ import division\n",
    "from math import sqrt\n",
    "\n",
    "Vs=220    # V\n",
    "Vo=660    #  V\n",
    "Toff=100    #  us\n",
    "\n",
    "#Vo=Vs/(1-alfa)\n",
    "alfa=1-Vs/Vo    #  duty cycle\n",
    "#alfa=Ton/(Ton+Toff)\n",
    "Ton=alfa*Toff/(1-alfa)    #  us\n",
    "T=Ton+Toff    # us\n",
    "print 'Pulse width of output voltage, Ton = %d us & T = %d us'%(Ton,T)\n",
    "#(ii) reduce pulse width by 50%\n",
    "Ton=Ton/2    #  us\n",
    "Toff=T-Ton    #  us\n",
    "alfa=Ton/(Ton+Toff)    #  duty cycle\n",
    "Vo=Vs/(1-alfa)    #  V\n",
    "print '\\nNew output voltage = %d V'%(Vo)"
   ]
  }
 ],
 "metadata": {
  "kernelspec": {
   "display_name": "Python 2",
   "language": "python",
   "name": "python2"
  },
  "language_info": {
   "codemirror_mode": {
    "name": "ipython",
    "version": 2
   },
   "file_extension": ".py",
   "mimetype": "text/x-python",
   "name": "python",
   "nbconvert_exporter": "python",
   "pygments_lexer": "ipython2",
   "version": "2.7.9"
  }
 },
 "nbformat": 4,
 "nbformat_minor": 0
}
