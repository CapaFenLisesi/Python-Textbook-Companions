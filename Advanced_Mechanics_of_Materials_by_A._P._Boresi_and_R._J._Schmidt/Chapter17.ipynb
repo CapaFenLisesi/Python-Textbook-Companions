{
 "metadata": {
  "name": "",
  "signature": "sha256:44b42431856e8f5ac3b6e495a60812c8b90b3d859d9b10533d6e8f86b858176c"
 },
 "nbformat": 3,
 "nbformat_minor": 0,
 "worksheets": [
  {
   "cells": [
    {
     "cell_type": "heading",
     "level": 1,
     "metadata": {},
     "source": [
      "Chapter17-Contact Stress"
     ]
    },
    {
     "cell_type": "heading",
     "level": 2,
     "metadata": {},
     "source": [
      "Ex1-pg6077"
     ]
    },
    {
     "cell_type": "code",
     "collapsed": false,
     "input": [
      "#calculate the maximum principal stress ad maximum shear stress and maximum octahedral stress\n",
      "## initialization of variables\n",
      "import math\n",
      "E1=200. ##GPa\n",
      "E2=200. ##Gpa\n",
      "v1=0.29\n",
      "v2=0.29\n",
      "R1=60. ##mm\n",
      "R11=130. ##mm\n",
      "R2=80. ##mm\n",
      "R22=200. ##mm\n",
      "th=math.pi/3.\n",
      "P=4.5 ##kN\n",
      "P=P*10**3\n",
      "E=E1*10**3\n",
      "B=1./4.*(1./R1+1./R2+1./R11+1./R22)+1./4.*((1./R1+1./R2-1./R11-1./R22)**2. - 4.*(1./R1-1./R11)*(1./R2-1./R22)*(math.sin(th)**2.))**(1/2.)\n",
      "A=1./4.*(1./R1+1./R2+1./R11+1./R22)-1./4.*((1./R1+1./R2-1./R11-1./R22)**2. - 4.*(1./R1-1./R11)*(1./R2-1./R22)*(math.sin(th)**2.))**(1/2.)\n",
      "Del=2*(1-v1**2)/(E*(A+B))\n",
      "BAr=B/A\n",
      "Cb=0.77\n",
      "Cs=0.724\n",
      "Ct=0.24\n",
      "Cg=0.22\n",
      "Cz=0.53\n",
      "Cd=2.10\n",
      "b=Cb*(P*Del)**(1/3.)\n",
      "br=b/Del\n",
      "S_max=-Cs*br\n",
      "tau_max=Ct*br\n",
      "tau_oct=Cg*br\n",
      "Zs=Cz*b\n",
      "delta=Cd*P/math.pi*((A+B)/br)\n",
      "print'%s %.2f %s'%('Sigma_max = ',S_max,' MPa')\n",
      "print'%s %.2f %s'%('\\n tau_max = ',tau_max,' MPa')\n",
      "print'%s %.2f %s'%('\\n tau_oct_max = ',tau_oct,' MPa')\n",
      "print'%s %.2f %s'%('\\n Zs = ',Zs,' mm')\n",
      "print'%s %.2f %s'%('\\n delta = ',delta,' mm')\n",
      "## S_max doesn't match due to round off error\n",
      "\n",
      "\n"
     ],
     "language": "python",
     "metadata": {},
     "outputs": [
      {
       "output_type": "stream",
       "stream": "stdout",
       "text": [
        "Sigma_max =  -1596.76  MPa\n",
        "\n",
        " tau_max =  529.31  MPa\n",
        "\n",
        " tau_oct_max =  485.20  MPa\n",
        "\n",
        " Zs =  0.51  mm\n",
        "\n",
        " delta =  0.03  mm\n"
       ]
      }
     ],
     "prompt_number": 1
    },
    {
     "cell_type": "heading",
     "level": 2,
     "metadata": {},
     "source": [
      "Ex2-pg609"
     ]
    },
    {
     "cell_type": "code",
     "collapsed": false,
     "input": [
      "#calculate the maximum shear stressand tensile stress and compressive stress\n",
      "## initialization of variables\n",
      "import math\n",
      "E=200. ##GPa\n",
      "v=0.29\n",
      "Y=1600. ##MPa\n",
      "Po=4.2 ##kN\n",
      "Omega=3000. ##rpm\n",
      "th=math.pi/3.\n",
      "P=1.75 ##kN\n",
      "R1=4.76 ##mm\n",
      "R11=R1\n",
      "R2=-4.86 ##mm\n",
      "R22=18.24 ##mm\n",
      "##part (a)\n",
      "E=E*10**3.\n",
      "Po=Po*10**3.\n",
      "P=P*10**3.\n",
      "B=1/4.*(1./R1+1./R2+1./R11+1./R22)+1/4.*((1./R1+1./R2-1./R11-1./R22)**2 - 4.*(1/R1-1./R11)*(1/R2-1/R22)*(math.sin(th)**2.))**(1/2.)\n",
      "A=1/4.*(1./R1+1./R2+1./R11+1./R22)-1/4.*((1./R1+1./R2-1./R11-1./R22)**2 - 4.*(1/R1-1./R11)*(1/R2-1/R22)*(math.sin(th)**2.))**(1/2.)\n",
      "Del=2.*(1.-v**2)/(E*(A+B))\n",
      "BAr=B/A\n",
      "Cb=0.32\n",
      "k=0.075\n",
      "Cs=1.00\n",
      "Ct=0.3\n",
      "Cg=0.27\n",
      "Cz=0.78\n",
      "b=Cb*(P*Del)**(1/3.)\n",
      "a=b/k\n",
      "br=b/Del\n",
      "S_max=-Cs*br\n",
      "tau_max=Ct*br\n",
      "tau_oct=Cg*br\n",
      "Zs=Cz*b\n",
      "tauo=0.486*b/(2.*Del)\n",
      "Zo=0.41*b\n",
      "print'%s %.2f %s'%('b = ',b,' mm')\n",
      "print'%s %.2f %s'%('\\n a = ',a,' mm')\n",
      "print'%s %.2f %s'%('\\n b/Delta = ',br,' MPa')\n",
      "print'%s %.2f %s'%('\\n Sigma_max = ',S_max,' MPa')\n",
      "print'%s %.2f %s'%('\\n tau_max = ',tau_max,' MPa')\n",
      "print'%s %.2f %s'%('\\n tau_oct_max =',tau_oct,' MPa')\n",
      "print'%s %.2f %s'%('\\n Zs = ',Zs,' mm')\n",
      "print'%s %.2f %s'%('\\n Tau_0 = ',tauo,' MPa')\n",
      "print'%s %.2f %s'%('\\n Zo = ',Zo,' mm')\n",
      "\n",
      "## part (b)\n",
      "tau_oY=math.sqrt(2)*Y/3.\n",
      "Py = 1./Del*(tau_oY/(Cg*Cb)*Del)**3\n",
      "print('\\n part (b)')\n",
      "print'%s %.2f %s'%('\\n P_Y = ',Py,' N')\n",
      "SF=Py/P\n",
      "print'%s %.2f %s'%('\\n SF =  ',SF,'')\n",
      "\n",
      "\n",
      "\n"
     ],
     "language": "python",
     "metadata": {},
     "outputs": [
      {
       "output_type": "stream",
       "stream": "stdout",
       "text": [
        "b =  0.16  mm\n",
        "\n",
        " a =  2.10  mm\n",
        "\n",
        " b/Delta =  2313.81  MPa\n",
        "\n",
        " Sigma_max =  -2313.81  MPa\n",
        "\n",
        " tau_max =  694.14  MPa\n",
        "\n",
        " tau_oct_max = 624.73  MPa\n",
        "\n",
        " Zs =  0.12  mm\n",
        "\n",
        " Tau_0 =  562.26  MPa\n",
        "\n",
        " Zo =  0.06  mm\n",
        "\n",
        " part (b)\n",
        "\n",
        " P_Y =  3079.68  N\n",
        "\n",
        " SF =   1.76 \n"
       ]
      }
     ],
     "prompt_number": 2
    },
    {
     "cell_type": "heading",
     "level": 2,
     "metadata": {},
     "source": [
      "Ex3-pg621"
     ]
    },
    {
     "cell_type": "code",
     "collapsed": false,
     "input": [
      "#calculate the maximum stress and tesile stress and compressive stress\n",
      "## initialization of variables\n",
      "import math\n",
      "E=200. ##GPa\n",
      "v=0.29\n",
      "R=40. ##mm\n",
      "h=20. ##mm\n",
      "P=24.1 ##kN\n",
      "S_max=1445. ##MPa\n",
      "tau_max=433. ##MPa\n",
      "tau_octM=361. ##MPa\n",
      "##calculations\n",
      "E=E*10**3\n",
      "P=P*10**3\n",
      "Del=2.*R*(1.-v**2)/E\n",
      "b=math.sqrt(2*P*Del/(h*math.pi))\n",
      "br=b/Del\n",
      "S_maxT=2.*b/(9.*Del)\n",
      "S_maxC=-1.13*br\n",
      "tau_max=0.31*br\n",
      "tau_octM=0.255*br\n",
      "print'%s %.2f %s'%('Sigma_max (tension) = ',S_maxT,' MPa')\n",
      "print'%s %.2f %s'%('\\n Sigma_max (compression) = ',S_maxC,' MPa')\n",
      "print'%s %.2f %s'%('\\n tau_max = ',tau_max,' MPa')\n",
      "print'%s %.2f %s'%('\\n tau_oct_max = ',tau_octM,' MPa')\n"
     ],
     "language": "python",
     "metadata": {},
     "outputs": [
      {
       "output_type": "stream",
       "stream": "stdout",
       "text": [
        "Sigma_max (tension) =  321.56  MPa\n",
        "\n",
        " Sigma_max (compression) =  -1635.15  MPa\n",
        "\n",
        " tau_max =  448.58  MPa\n",
        "\n",
        " tau_oct_max =  368.99  MPa\n"
       ]
      }
     ],
     "prompt_number": 2
    }
   ],
   "metadata": {}
  }
 ]
}