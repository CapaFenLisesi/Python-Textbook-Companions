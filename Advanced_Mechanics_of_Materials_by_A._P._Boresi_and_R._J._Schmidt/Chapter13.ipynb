{
 "metadata": {
  "name": "",
  "signature": "sha256:0a543f137a09c005d044fa2d899472198efb99b9bf6aec7aa2f2dbb610847400"
 },
 "nbformat": 3,
 "nbformat_minor": 0,
 "worksheets": [
  {
   "cells": [
    {
     "cell_type": "heading",
     "level": 1,
     "metadata": {},
     "source": [
      "Chapter13-Flat Plates"
     ]
    },
    {
     "cell_type": "heading",
     "level": 2,
     "metadata": {},
     "source": [
      "Ex2-pg485"
     ]
    },
    {
     "cell_type": "code",
     "collapsed": false,
     "input": [
      "import math\n",
      "## initialization of variables\n",
      "#calculate the required thickness of the plate for the lower panels\n",
      "d=3.6 ##m\n",
      "w=2.7 ##m\n",
      "ha=3.0 ##m\n",
      "b=0.9 ##m\n",
      "a=1.2 ##m\n",
      "v=0.29\n",
      "E=200. ##GPa\n",
      "p=ha*9.8\n",
      "##part (a)\n",
      "S_w=124. ##MPa\n",
      "b_a=b/a\n",
      "M=0.04*p*b**2*10**3\n",
      "h=math.sqrt(6.*M/S_w)\n",
      "print('part (a)')\n",
      "print'%s %.2f %s'%('\\n h = ',h,' mm')\n",
      "## part (b)\n",
      "C=0.032/(1.+b_a**4)\n",
      "p=p*10**3\n",
      "E=E*10**9\n",
      "b=b*10**3\n",
      "w_max=C*(1.-v**2)*p*b**4/(E*h**3)\n",
      "print('\\n part (b)')\n",
      "print'%s %.2f %s'%('\\n w_max = ',w_max,' mm')\n",
      "\n"
     ],
     "language": "python",
     "metadata": {},
     "outputs": [
      {
       "output_type": "stream",
       "stream": "stdout",
       "text": [
        "part (a)\n",
        "\n",
        " h =  6.79  mm\n",
        "\n",
        " part (b)\n",
        "\n",
        " w_max =  6.86  mm\n"
       ]
      }
     ],
     "prompt_number": 1
    },
    {
     "cell_type": "heading",
     "level": 2,
     "metadata": {},
     "source": [
      "Ex3-pg499"
     ]
    },
    {
     "cell_type": "code",
     "collapsed": false,
     "input": [
      "import math\n",
      "## initialization of variables\n",
      "#calculate the  magnitude of the yeild pressure and deflection and cente of the plate and working pressure \n",
      "E=200. ##GPa\n",
      "v=0.29\n",
      "Y=315. ##MPa\n",
      "h=10. ##mm\n",
      "D=200. ##mm\n",
      "SF=2.0\n",
      "##part (a)\n",
      "a=D/2.\n",
      "E=E*10**3.\n",
      "Py=1. ## Since unknown\n",
      "S_maxk=3./4.*Py*a**2./h**2\n",
      "Py=Y/S_maxk\n",
      "w_max=3/16.*(1.-v**2.)*Py*a**4/(E*h**3)\n",
      "print'%s %.2f %s'%('Py = ',Py,' MPa')\n",
      "print'%s %.2f %s'%('\\n W_max = ',w_max,' mm')\n",
      "## part (b)\n",
      "Pw=Py/SF\n",
      "print('\\n part (b)')\n",
      "print'%s %.2f %s'%('\\n Pw = ',Pw,' MPa')\n"
     ],
     "language": "python",
     "metadata": {},
     "outputs": [
      {
       "output_type": "stream",
       "stream": "stdout",
       "text": [
        "Py =  4.20  MPa\n",
        "\n",
        " W_max =  0.36  mm\n",
        "\n",
        " part (b)\n",
        "\n",
        " Pw =  2.10  MPa\n"
       ]
      }
     ],
     "prompt_number": 2
    },
    {
     "cell_type": "heading",
     "level": 2,
     "metadata": {},
     "source": [
      "Ex4-pg499"
     ]
    },
    {
     "cell_type": "code",
     "collapsed": false,
     "input": [
      "import math\n",
      "## initialization of variables\n",
      "#calculate the  allowable magnitude of pressre and maximum deflection\n",
      "D=500. ##mm\n",
      "h=5. ##mm\n",
      "Sigma=288. ##MPa\n",
      "E=72. ##GPa\n",
      "SF=2.\n",
      "##part (a)\n",
      "a=D/2.\n",
      "E=E*10**3.\n",
      "f=Sigma*a**2./(E*h**2)\n",
      "## w_max/h has to be 2.4 since f=10\n",
      "Pr=50.\n",
      "p=Pr*E*h**4./a**4.\n",
      "p=p/2.\n",
      "print('part (a)')\n",
      "print'%s %.2f %s'%('\\n Allowable pressure = ',p*10**3,' kPa')\n",
      "## part (b)\n",
      "q=p*a**4/(E*h**4)\n",
      "## Corresponding w_max/h = 1.8\n",
      "w_max=1.8*h\n",
      "print('\\n part (b)')\n",
      "print'%s %.2f %s'%('\\n W_max = ',w_max,' mm')\n"
     ],
     "language": "python",
     "metadata": {},
     "outputs": [
      {
       "output_type": "stream",
       "stream": "stdout",
       "text": [
        "part (a)\n",
        "\n",
        " Allowable pressure =  288.00  kPa\n",
        "\n",
        " part (b)\n",
        "\n",
        " W_max =  9.00  mm\n"
       ]
      }
     ],
     "prompt_number": 3
    }
   ],
   "metadata": {}
  }
 ]
}