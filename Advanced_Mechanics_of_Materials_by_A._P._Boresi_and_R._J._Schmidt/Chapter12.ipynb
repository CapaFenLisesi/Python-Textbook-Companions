{
 "metadata": {
  "name": "",
  "signature": "sha256:94e8b91e9e08bd2d3eddf7b8bb920feb677de07a044f6b3273b5feb6c748ddbe"
 },
 "nbformat": 3,
 "nbformat_minor": 0,
 "worksheets": [
  {
   "cells": [
    {
     "cell_type": "heading",
     "level": 1,
     "metadata": {},
     "source": [
      "Chapter12-Elastic And Inelastic Stability Of Columns"
     ]
    },
    {
     "cell_type": "heading",
     "level": 2,
     "metadata": {},
     "source": [
      "Ex3-pg448"
     ]
    },
    {
     "cell_type": "code",
     "collapsed": false,
     "input": [
      "import math\n",
      "## initialization of variables\n",
      "#calculate the buckling load P\n",
      "b=25. ##mm\n",
      "L=250. ##mm\n",
      "E_T=31. ##GPa\n",
      "Sigma_T=262. ##MPa ## From the curve\n",
      "r=b/math.sqrt(12.)\n",
      "Q=math.pi**2.*E_T/((L/r)**2)\n",
      "## Since this is not close enough, increment E_T\n",
      "E_T=31.6 ##GPa\n",
      "Q=math.pi**2.*E_T/((L/r)**2)\n",
      "P_T=Q*b**2\n",
      "print'%s %.2f %s'%('Buckling load is ',P_T,' kN')\n"
     ],
     "language": "python",
     "metadata": {},
     "outputs": [
      {
       "output_type": "stream",
       "stream": "stdout",
       "text": [
        "Buckling load is  162.44  kN\n"
       ]
      }
     ],
     "prompt_number": 2
    },
    {
     "cell_type": "heading",
     "level": 2,
     "metadata": {},
     "source": [
      "Ex5-pg449"
     ]
    },
    {
     "cell_type": "code",
     "collapsed": false,
     "input": [
      "import math\n",
      "## initialization of variables\n",
      "#calculate the  design load for buckling column based on safety factor \n",
      "L=1. ##m\n",
      "b=40. ##mm\n",
      "h=75. ##mm\n",
      "SF=2.5\n",
      "K=1.\n",
      "L=L*10**3\n",
      "Iy=b*h**3/12.\n",
      "A=b*h\n",
      "ry=math.sqrt(Iy/A)\n",
      "K_y=K*L/ry\n",
      "rz=b/math.sqrt(12.)\n",
      "K=0.5\n",
      "K_z=K*L/rz\n",
      "S_cr=229. ##MPa\n",
      "P_cr=S_cr*A\n",
      "P=P_cr/SF\n",
      "print'%s %.2f %s'%('P =',P/10**3,' kN')\n"
     ],
     "language": "python",
     "metadata": {},
     "outputs": [
      {
       "output_type": "stream",
       "stream": "stdout",
       "text": [
        "P = 274.80  kN\n"
       ]
      }
     ],
     "prompt_number": 3
    }
   ],
   "metadata": {}
  }
 ]
}