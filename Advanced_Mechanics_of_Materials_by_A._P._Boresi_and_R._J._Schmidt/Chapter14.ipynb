{
 "metadata": {
  "name": "",
  "signature": "sha256:4552083c6ee610f8fa44c4bfead42869a799ab27618300c341595bf53e22b9bb"
 },
 "nbformat": 3,
 "nbformat_minor": 0,
 "worksheets": [
  {
   "cells": [
    {
     "cell_type": "heading",
     "level": 1,
     "metadata": {},
     "source": [
      "Chapter14-Stress Concentrations"
     ]
    },
    {
     "cell_type": "heading",
     "level": 2,
     "metadata": {},
     "source": [
      "Ex1-pg521"
     ]
    },
    {
     "cell_type": "code",
     "collapsed": false,
     "input": [
      "import math\n",
      "## initialization of variables\n",
      "#calculate the  orientain of the hole and value of this tensile stress\n",
      "## part (a)\n",
      "ab_r=100.\n",
      "Sigma_1=-20. ##MPa\n",
      "Sigma_2=-75. ##MPa\n",
      "alphao=0.01 ##rad\n",
      "##calculations\n",
      "A=(Sigma_1+Sigma_2)/(Sigma_1-Sigma_2)\n",
      "th=1/2.*math.acos((A*math.sinh(2*alphao)-1/2.*(math.sinh(2.*alphao)+math.cosh(2.*alphao)))/A)\n",
      "print('pat (a)')\n",
      "print'%s %.2f %s'%('\\n theta = ',th,' rad')\n",
      "##part (b)\n",
      "S_bb=-(Sigma_1-Sigma_2)**2./(2.*(Sigma_1+Sigma_2))*(1.+math.cosh(2.*alphao)/math.sinh(2.*alphao))\n",
      "print('\\n part (b)')\n",
      "print'%s %.2f %s'%('\\n Maximum tensile stress =',S_bb,' MPa')\n",
      "##part (c)\n",
      "Beta=math.exp(2*alphao)*math.cosh(2*alphao)-2*A**2*(math.sinh(2*alphao))**2\n",
      "Beta=1/2.*math.acos(Beta/(math.exp(2*alphao)))\n",
      "print('\\n part (c)')\n",
      "print'%s %.2f %s'%('\\n Beta = ',Beta,' rad')\n"
     ],
     "language": "python",
     "metadata": {},
     "outputs": [
      {
       "output_type": "stream",
       "stream": "stdout",
       "text": [
        "pat (a)\n",
        "\n",
        " theta =  0.62  rad\n",
        "\n",
        " part (b)\n",
        "\n",
        " Maximum tensile stress = 812.08  MPa\n",
        "\n",
        " part (c)\n",
        "\n",
        " Beta =  0.03  rad\n"
       ]
      }
     ],
     "prompt_number": 2
    },
    {
     "cell_type": "heading",
     "level": 2,
     "metadata": {},
     "source": [
      "Ex2-pg529"
     ]
    },
    {
     "cell_type": "code",
     "collapsed": false,
     "input": [
      "#calculate the  magnitude of the tension working load\n",
      "## initialization of variables\n",
      "import math\n",
      "S_u=420. ##MPa\n",
      "SF=4.00\n",
      "D=110. ##mm\n",
      "d=50.0 ##mm\n",
      "w=20. ##mm\n",
      "rho=10.0 ##mm\n",
      "SF=4.0\n",
      "##calculations\n",
      "t=(D-d)/2.\n",
      "tr=t/rho\n",
      "rd=rho/d\n",
      "S_cs=1+2.*math.sqrt(tr)\n",
      "A=w*d\n",
      "Pf=S_u*A/1.83\n",
      "P=Pf/SF\n",
      "print'%s %.2f %s'%('P = ',P/10**3,' kN')\n",
      "\n"
     ],
     "language": "python",
     "metadata": {},
     "outputs": [
      {
       "output_type": "stream",
       "stream": "stdout",
       "text": [
        "P =  57.38  kN\n"
       ]
      }
     ],
     "prompt_number": 3
    },
    {
     "cell_type": "heading",
     "level": 2,
     "metadata": {},
     "source": [
      "Ex3-pg529"
     ]
    },
    {
     "cell_type": "code",
     "collapsed": false,
     "input": [
      "#calculate the safety factor and maximum stress in the beam at the fillet\n",
      "## initialization of variables\n",
      "import math\n",
      "##part(a)\n",
      "H=200. ##mm\n",
      "h=100. ##mm\n",
      "rho=10. ##mm\n",
      "Sigma_u=250. ##MPa\n",
      "P=1.5 ##kN\n",
      "L=1.4 ##m\n",
      "b=40 ##mm\n",
      "P=P*10**3\n",
      "L=L*10**3\n",
      "Hr=H/h\n",
      "rh=rho/h\n",
      "S_cc=1.77\n",
      "c=h/2.\n",
      "I=b*h**3./12.\n",
      "S_max=S_cc*P*L*c/I\n",
      "print('part (a)')\n",
      "print'%s %.2f %s'%('\\n Flexural design stress = ',S_max,' MPa')\n",
      "##part (b)\n",
      "SF=Sigma_u*I/(S_cc*P*L*c)\n",
      "print('\\n part (b)')\n",
      "print'%s %.2f %s'%('\\n SF = ',SF,'')\n",
      "\n"
     ],
     "language": "python",
     "metadata": {},
     "outputs": [
      {
       "output_type": "stream",
       "stream": "stdout",
       "text": [
        "part (a)\n",
        "\n",
        " Flexural design stress =  55.75  MPa\n",
        "\n",
        " part (b)\n",
        "\n",
        " SF =  4.48 \n"
       ]
      }
     ],
     "prompt_number": 4
    }
   ],
   "metadata": {}
  }
 ]
}