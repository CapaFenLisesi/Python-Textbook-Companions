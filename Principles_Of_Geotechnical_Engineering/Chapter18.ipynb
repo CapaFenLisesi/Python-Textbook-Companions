{
 "metadata": {
  "name": "",
  "signature": "sha256:c0db9cffec0e49340dfb3b8ea72b7fe58131405a32fcba0dd38be68beb6719b2"
 },
 "nbformat": 3,
 "nbformat_minor": 0,
 "worksheets": [
  {
   "cells": [
    {
     "cell_type": "heading",
     "level": 1,
     "metadata": {},
     "source": [
      "Chapter18-Subsoil Exploration"
     ]
    },
    {
     "cell_type": "heading",
     "level": 2,
     "metadata": {},
     "source": [
      "Ex1-pg642"
     ]
    },
    {
     "cell_type": "code",
     "collapsed": false,
     "input": [
      "#Determine the correctedstandard penetration numbers, (N1)60, at various depths\n",
      "import math\n",
      "##solving for z=5 only\n",
      "To=0.275\n",
      "Cn=To**(-0.5)\n",
      "N60=8\n",
      "N160=Cn*N60\n",
      "print'%s %.1f %s'%('(N1)60 = ',N160,'')\n"
     ],
     "language": "python",
     "metadata": {},
     "outputs": [
      {
       "output_type": "stream",
       "stream": "stdout",
       "text": [
        "(N1)60 =  15.3 \n"
       ]
      }
     ],
     "prompt_number": 1
    },
    {
     "cell_type": "heading",
     "level": 2,
     "metadata": {},
     "source": [
      "Ex2-pg643"
     ]
    },
    {
     "cell_type": "code",
     "collapsed": false,
     "input": [
      "#estimate the average soil friction angle,f\u0003, from z\u00020 to z\u000225 ft\n",
      "#import math\n",
      "z=5.\n",
      "To=0.275\n",
      "Cn=2./(1.+To)\n",
      "N60=8.\n",
      "N160=Cn*N60\n",
      "print'%s %.1f %s'%('(N1)60 = ',N160,'')\n"
     ],
     "language": "python",
     "metadata": {},
     "outputs": [
      {
       "output_type": "stream",
       "stream": "stdout",
       "text": [
        "(N1)60 =  12.5 \n"
       ]
      }
     ],
     "prompt_number": 2
    },
    {
     "cell_type": "heading",
     "level": 2,
     "metadata": {},
     "source": [
      "Ex3-pg643"
     ]
    },
    {
     "cell_type": "code",
     "collapsed": false,
     "input": [
      "#estimate the average soil friction angle, f\u0003, from z\u00020 to z\u000225 ft\n",
      "import math\n",
      "pa=1. ## 14.7 lb/in**2 = 1ton/ft**2\n",
      "To=0.275 ## ton/ ft**2\n",
      "N60=8.\n",
      "c= math.atan((N60/12.2+20.3*(To/pa))*57.3)**0.34\n",
      "print'%s %.1f %s'%('The average soil friction angle = ',c,'')\n"
     ],
     "language": "python",
     "metadata": {},
     "outputs": [
      {
       "output_type": "stream",
       "stream": "stdout",
       "text": [
        "The average soil friction angle =  1.2 \n"
       ]
      }
     ],
     "prompt_number": 3
    }
   ],
   "metadata": {}
  }
 ]
}