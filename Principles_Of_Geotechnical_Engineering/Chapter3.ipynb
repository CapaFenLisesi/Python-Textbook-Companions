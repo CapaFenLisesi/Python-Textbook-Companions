{
 "metadata": {
  "name": "",
  "signature": "sha256:dd7ff85f7d52d3589a1d7be4767ada04770d7408bb98377fd79ee304b32478a3"
 },
 "nbformat": 3,
 "nbformat_minor": 0,
 "worksheets": [
  {
   "cells": [
    {
     "cell_type": "heading",
     "level": 1,
     "metadata": {},
     "source": [
      "Chapter3-Weight- volume relationships"
     ]
    },
    {
     "cell_type": "heading",
     "level": 2,
     "metadata": {},
     "source": [
      "Ex2-pg 60"
     ]
    },
    {
     "cell_type": "code",
     "collapsed": false,
     "input": [
      "import math\n",
      "#evaluvate moist and dry density and void ratio and porosity and degree of saturation and volume of water in soil sample\n",
      "##initialisation of variables\n",
      "V= 1.2 ##m**3\n",
      "M= 2350. ##Kg\n",
      "w= 0.086\n",
      "G= 2.71\n",
      "W= 1000. ##kg/m**3\n",
      "##calculations\n",
      "R= M/V\n",
      "D= M/((1.+w)*V)\n",
      "e= (G*W/D)-1.\n",
      "n= e/(e+1.)\n",
      "S= (w*G/e)*100.\n",
      "v= (M-(M/(1.+w)))/W\n",
      "##results\n",
      "print'%s %.1f %s'% ('moist density = ',R,' kg/m**3 ')\n",
      "print'%s %.1f %s'% ('dry density = ',D,' kg/m**3 ')\n",
      "print'%s %.3f %s'%  ('void ratio = ',e,' ')\n",
      "print'%s %.3f %s'%  ('porosity = ',n,'')\n",
      "print'%s %.3f %s'%  ('Degree of saturation = ',S,' ')\n",
      "print'%s %.3f %s'%  ('volume of water in soil sample = ',v,' m**3 ')\n"
     ],
     "language": "python",
     "metadata": {},
     "outputs": [
      {
       "output_type": "stream",
       "stream": "stdout",
       "text": [
        "moist density =  1958.3  kg/m**3 \n",
        "dry density =  1803.3  kg/m**3 \n",
        "void ratio =  0.503  \n",
        "porosity =  0.335 \n",
        "Degree of saturation =  46.349  \n",
        "volume of water in soil sample =  0.186  m**3 \n"
       ]
      }
     ],
     "prompt_number": 1
    },
    {
     "cell_type": "heading",
     "level": 2,
     "metadata": {},
     "source": [
      "Ex3-pg 63"
     ]
    },
    {
     "cell_type": "code",
     "collapsed": false,
     "input": [
      "import math\n",
      "#calcualte  mass of water to be added for full saturation\n",
      "##initialisation of variables\n",
      "n= 0.4\n",
      "G= 2.68\n",
      "w= 0.12\n",
      "R= 1000. ##kg/m**3\n",
      "V= 10. ##m**3\n",
      "##calculations\n",
      "d= G*R*(1.-n)*(1.+w)\n",
      "s= ((1.-n)*G+n)*R\n",
      "M= s-d\n",
      "m= M*V\n",
      "##results\n",
      "print'%s %.1f %s'%('mass of water to be added for full saturation = ',m,' kg ')"
     ],
     "language": "python",
     "metadata": {},
     "outputs": [
      {
       "output_type": "stream",
       "stream": "stdout",
       "text": [
        "mass of water to be added for full saturation =  2070.4  kg \n"
       ]
      }
     ],
     "prompt_number": 2
    },
    {
     "cell_type": "heading",
     "level": 2,
     "metadata": {},
     "source": [
      "Ex4-pg63"
     ]
    },
    {
     "cell_type": "code",
     "collapsed": false,
     "input": [
      "import math\n",
      "#calculatesatuarated unit weight and specific gravity and void ratio \n",
      "##initialisation of variables\n",
      "d= 16.19 ##kN/m**3\n",
      "w= 0.23\n",
      "W= 9.81 ##kN/m**3\n",
      "##calculations\n",
      "R= d*(1.+w)\n",
      "G= d/(W-d*w)\n",
      "e= w*G\n",
      "##results\n",
      "print'%s %.2f %s'%('satuarated unit weight = ',R,' kN/m**3 ')\n",
      "print '%s %.2f %s'%('specific gravity = ',G,' ')\n",
      "print'%s %.2f %s'% ('void ratio = ',e,' ')\n"
     ],
     "language": "python",
     "metadata": {},
     "outputs": [
      {
       "output_type": "stream",
       "stream": "stdout",
       "text": [
        "satuarated unit weight =  19.91  kN/m**3 \n",
        "specific gravity =  2.66  \n",
        "void ratio =  0.61  \n"
       ]
      }
     ],
     "prompt_number": 2
    },
    {
     "cell_type": "heading",
     "level": 2,
     "metadata": {},
     "source": [
      "Ex5-pg66"
     ]
    },
    {
     "cell_type": "code",
     "collapsed": false,
     "input": [
      "import math\n",
      "#calculate relative density of compaction in percentage\n",
      "##initialisation of variables\n",
      "G= 2.68\n",
      "w= 0.12\n",
      "d= 1794.4 ##kg/m**3\n",
      "W= 1000. ##kg/m**3\n",
      "emax= 0.75\n",
      "emin= 0.4\n",
      "##calculation\n",
      "e= (G*W*(1.+w)/d)-1.\n",
      "D= ((emax-e)/(emax-emin))*100.\n",
      "##results\n",
      "print'%s %.1f %s'% ('relative density of compaction in percentage = ',D,' ')\n"
     ],
     "language": "python",
     "metadata": {},
     "outputs": [
      {
       "output_type": "stream",
       "stream": "stdout",
       "text": [
        "relative density of compaction in percentage =  22.1  \n"
       ]
      }
     ],
     "prompt_number": 3
    }
   ],
   "metadata": {}
  }
 ]
}