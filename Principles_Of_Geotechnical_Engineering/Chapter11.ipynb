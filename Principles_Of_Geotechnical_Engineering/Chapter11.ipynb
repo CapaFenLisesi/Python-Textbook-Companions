{
 "metadata": {
  "name": "",
  "signature": "sha256:2a29c7b9c2c5d3914e37e2b72bd62a8b948e23c0720d69e0b40a353ece4dd036"
 },
 "nbformat": 3,
 "nbformat_minor": 0,
 "worksheets": [
  {
   "cells": [
    {
     "cell_type": "heading",
     "level": 1,
     "metadata": {},
     "source": [
      "Chapter11-Compressibility of Soil"
     ]
    },
    {
     "cell_type": "heading",
     "level": 2,
     "metadata": {},
     "source": [
      "Ex1-pg303"
     ]
    },
    {
     "cell_type": "code",
     "collapsed": false,
     "input": [
      "#evaluvate The elastic settlement at the centre of foundation\n",
      "Tz=150.\n",
      "b=1.\n",
      "l=2.\n",
      "z=5.*b\n",
      "Es= (10000*2 + 8000*1 +12000*2)/5\n",
      "a=4.\n",
      "H=z\n",
      "m=l/b\n",
      "n=2.*H/b\n",
      "F1=0.641 ##from tables 11.1 and 11.2\n",
      "F2=0.031\n",
      "u=0.3\n",
      "Is= F1 + ((2.-u)/(1.-u))*F2\n",
      "If=0.71 ##from  table 11.3\n",
      "Sef= Tz *a*b/l *(1-u**2)*Is*If/Es\n",
      "Ser=0.93*Sef\n",
      "print'%s %.3f %s'%('The elastic settlement at the centre of foundation =',Ser,'m')\n"
     ],
     "language": "python",
     "metadata": {},
     "outputs": [
      {
       "output_type": "stream",
       "stream": "stdout",
       "text": [
        "The elastic settlement at the centre of foundation = 0.012 m\n"
       ]
      }
     ],
     "prompt_number": 1
    },
    {
     "cell_type": "heading",
     "level": 2,
     "metadata": {},
     "source": [
      "Ex2-pg312"
     ]
    },
    {
     "cell_type": "code",
     "collapsed": false,
     "input": [
      "\n",
      "## one value of e is done \n",
      "Gs=2.75\n",
      "A=30.68\n",
      "Ms=128.\n",
      "p=1.\n",
      "Hs=Ms/(A*Gs*p)\n",
      "H=2.540\n",
      "Hv=H-Hs\n",
      "e=Hv/Hs\n",
      "print'%s %.3f %s'%('the value of e for give values =',e,'')\n"
     ],
     "language": "python",
     "metadata": {},
     "outputs": [
      {
       "output_type": "stream",
       "stream": "stdout",
       "text": [
        "the value of e for give values = 0.674 \n"
       ]
      }
     ],
     "prompt_number": 2
    },
    {
     "cell_type": "heading",
     "level": 2,
     "metadata": {},
     "source": [
      "Ex3-pg321"
     ]
    },
    {
     "cell_type": "code",
     "collapsed": false,
     "input": [
      "import math\n",
      "#calculate Compression index\n",
      "e11=0.9\n",
      "e21=0.8\n",
      "T2=4.\n",
      "T1=2.\n",
      "Cc= (e11-e21)/math.log10(T2/T1) ## from loading branch\n",
      "e1=0.67\n",
      "e2=0.655\n",
      "Cs=(e1-e2)/math.log10(T2/T1)\n",
      "k=Cs/Cc\n",
      "T3=12.\n",
      "e3=e11-Cc*math.log10(T3/T1)\n",
      "print'%s %.2f %s'%('Compression index Cc= ',Cc,'')\n",
      "print'%s %.2f %s'%(' Cs/Cc = ',k,'')\n",
      "print'%s %.2f %s'%(' e3 = ',e3,'')\n"
     ],
     "language": "python",
     "metadata": {},
     "outputs": [
      {
       "output_type": "stream",
       "stream": "stdout",
       "text": [
        "Compression index Cc=  0.33 \n",
        " Cs/Cc =  0.15 \n",
        " e3 =  0.64 \n"
       ]
      }
     ],
     "prompt_number": 3
    },
    {
     "cell_type": "heading",
     "level": 2,
     "metadata": {},
     "source": [
      "Ex4-pg323"
     ]
    },
    {
     "cell_type": "code",
     "collapsed": false,
     "input": [
      "import math\n",
      "#calculate Primary Consolidation Sc in three parts\n",
      "Gd=14.\n",
      "Gss=18.\n",
      "Gsc=19.\n",
      "Gw=9.81\n",
      "To= 2.*Gd+4.*(Gss-Gw)+2*(Gsc-Gw)\n",
      "LL=40.\n",
      "Cc=0.009*(LL-10)\n",
      "H=4.\n",
      "T=100.\n",
      "e=0.8\n",
      "Sc= Cc*H*math.log10((To+T)/To)/(1.+e)\n",
      "print'%s %.2f %s'%('a)Primary Consolidation Sc = ',Sc,' m')\n",
      "\n",
      "\n",
      "Tc=190\n",
      "Cs=Cc/6\n",
      "Sc= Cs*H*math.log10((To+T)/To)/(1+e)\n",
      "print'%s %.2f %s'%(' b)Primary Consolidation Sc =',Sc,'m')\n",
      "\n",
      "\n",
      "Tc=170\n",
      "Sc= Cc*H*math.log10((To+T)/Tc)/(1+e)+ Cs*H*math.log10(Tc/To)/(1+e)\n",
      "print'%s %.3f %s'%(' c)Primary Consolidation Sc =',Sc,' m')\n"
     ],
     "language": "python",
     "metadata": {},
     "outputs": [
      {
       "output_type": "stream",
       "stream": "stdout",
       "text": [
        "a)Primary Consolidation Sc =  0.21  m\n",
        " b)Primary Consolidation Sc = 0.04 m\n",
        " c)Primary Consolidation Sc = 0.047  m\n"
       ]
      }
     ],
     "prompt_number": 10
    },
    {
     "cell_type": "heading",
     "level": 2,
     "metadata": {},
     "source": [
      "Ex5-pg325"
     ]
    },
    {
     "cell_type": "code",
     "collapsed": false,
     "input": [
      "#calculate The settlement in the field Sc\n",
      "Gs=18.\n",
      "Gw=9.81\n",
      "H=10.\n",
      "eo=1.1\n",
      "To=5.*(Gs-Gw)\n",
      "T1=48.\n",
      "T=To+T1\n",
      "e1=1.045 ## void ratio corresponding to T \n",
      "e=eo-e1\n",
      "Sc=H*e/(1.+eo)\n",
      "print'%s %.2f %s'%('The settlement in the field Sc = ',Sc,' m')\n"
     ],
     "language": "python",
     "metadata": {},
     "outputs": [
      {
       "output_type": "stream",
       "stream": "stdout",
       "text": [
        "The settlement in the field Sc =  0.26  m\n"
       ]
      }
     ],
     "prompt_number": 11
    },
    {
     "cell_type": "heading",
     "level": 2,
     "metadata": {},
     "source": [
      "Ex6-pg329"
     ]
    },
    {
     "cell_type": "code",
     "collapsed": false,
     "input": [
      "import math\n",
      "#calculate Total consolidation settlement of the clay\n",
      "T=8.5\n",
      "eo=0.8\n",
      "Cc=0.28\n",
      "To=2650.\n",
      "T1=970.\n",
      "C1=0.02\n",
      "t2=5.\n",
      "t1=1.5\n",
      "H=8.5*12\n",
      "epr=Cc*math.log10((To+T1)/To)\n",
      "ep=eo-epr\n",
      "C2=C1/(1.+ep)\n",
      "Sc=epr*H/(1.+eo)\n",
      "Ss=C2*H*math.log10(t2/t1)\n",
      "TS=Sc+Ss\n",
      "print'%s %.1f %s'%('Total consolidation settlement of the clay =',TS,' in')\n"
     ],
     "language": "python",
     "metadata": {},
     "outputs": [
      {
       "output_type": "stream",
       "stream": "stdout",
       "text": [
        "Total consolidation settlement of the clay = 2.8  in\n"
       ]
      }
     ],
     "prompt_number": 12
    },
    {
     "cell_type": "heading",
     "level": 2,
     "metadata": {},
     "source": [
      "Ex7-pg336"
     ]
    },
    {
     "cell_type": "code",
     "collapsed": false,
     "input": [
      "import math\n",
      "#calculate t field\n",
      "##T50 = Cvtlab /H^2 lab = Cvtfield?H^2 fiels\n",
      "tl=140.\n",
      "Hf=3.\n",
      "Hd=0.025/2.\n",
      "tf=tl*Hf**2/Hd**2\n",
      "k=tf/(3600.*24.)\n",
      "print'%s %.1f %s'%('t field = ',k,' days')\n"
     ],
     "language": "python",
     "metadata": {},
     "outputs": [
      {
       "output_type": "stream",
       "stream": "stdout",
       "text": [
        "t field =  93.3  days\n"
       ]
      }
     ],
     "prompt_number": 13
    },
    {
     "cell_type": "heading",
     "level": 2,
     "metadata": {},
     "source": [
      "Ex8-pg336"
     ]
    },
    {
     "cell_type": "code",
     "collapsed": false,
     "input": [
      "import math\n",
      "##Tv is directly proportional to U^2\n",
      "t1=93.333\n",
      "U2=30.\n",
      "U1=50.\n",
      "t2=t1*U2**2./U1**2.\n",
      "print'%s %.2f %s'%('t2 =',t2,' days')\n"
     ],
     "language": "python",
     "metadata": {},
     "outputs": [
      {
       "output_type": "stream",
       "stream": "stdout",
       "text": [
        "t2 = 33.60  days\n"
       ]
      }
     ],
     "prompt_number": 14
    },
    {
     "cell_type": "heading",
     "level": 2,
     "metadata": {},
     "source": [
      "Ex9-pg337"
     ]
    },
    {
     "cell_type": "code",
     "collapsed": false,
     "input": [
      "import math\n",
      "#evaluvate Cv\n",
      "#intilization variable\n",
      "t90=75.*24.*60.*60. ## time in sec\n",
      "T90=0.848\n",
      "Hd=1.5*100. ##in cm\n",
      "Cv=T90*Hd**2/t90\n",
      "print'%s %.3f %s'%('Cv =',Cv,' cm^2/sec')\n"
     ],
     "language": "python",
     "metadata": {},
     "outputs": [
      {
       "output_type": "stream",
       "stream": "stdout",
       "text": [
        "Cv = 0.003  cm^2/sec\n"
       ]
      }
     ],
     "prompt_number": 15
    },
    {
     "cell_type": "heading",
     "level": 2,
     "metadata": {},
     "source": [
      "Ex10-pg337"
     ]
    },
    {
     "cell_type": "code",
     "collapsed": false,
     "input": [
      "import math\n",
      "#calculate K and t60\n",
      "To=3000. ## lb/ft^2\n",
      "eo=1.1\n",
      "e1=0.9\n",
      "e=eo-e1\n",
      "ea=(eo+e1)/2.\n",
      "T1=3000. ## lb/ft^2\n",
      "T=1. ## in\n",
      "t = 2. ## min\n",
      "m=(e/T1)/(1.+ea)\n",
      "U=50.\n",
      "Tv=0.197\n",
      "Gw=62.4 ##lb/ft^3\n",
      "Cv=Tv*(T/(2.*12.)**2)/t\n",
      "k=Cv*m*Gw *10**7\n",
      "print'%s %.3f %s'%('a)k = ',k,' x10^-7 ft/min')\n",
      "\n",
      "\n",
      "U=60\n",
      "Tv=0.286\n",
      "H=6\n",
      "t60=Tv*H**2/(Cv*60*24)\n",
      "print'%s %.1f %s'%(' b)t60 =',t60,' days')\n"
     ],
     "language": "python",
     "metadata": {},
     "outputs": [
      {
       "output_type": "stream",
       "stream": "stdout",
       "text": [
        "a)k =  3.557  x10^-7 ft/min\n",
        " b)t60 = 41.8  days\n"
       ]
      }
     ],
     "prompt_number": 5
    },
    {
     "cell_type": "heading",
     "level": 2,
     "metadata": {},
     "source": [
      "Ex11-pg344"
     ]
    },
    {
     "cell_type": "code",
     "collapsed": false,
     "input": [
      "import math\n",
      "#Cv\n",
      "t50=19\n",
      "Hd=2.24/2\n",
      "Cv=0.197*Hd**2/t50\n",
      "print'%s %.3f %s'%('Cv = ',Cv,' cm^2/min')\n"
     ],
     "language": "python",
     "metadata": {},
     "outputs": [
      {
       "output_type": "stream",
       "stream": "stdout",
       "text": [
        "Cv =  0.013  cm^2/min\n"
       ]
      }
     ],
     "prompt_number": 6
    },
    {
     "cell_type": "heading",
     "level": 2,
     "metadata": {},
     "source": [
      "Ex12-pg346"
     ]
    },
    {
     "cell_type": "code",
     "collapsed": false,
     "input": [
      "import math\n",
      "#calculate SC\n",
      "LL=40.\n",
      "Cc=0.009*(LL-10)\n",
      "H=10.*12.\n",
      "eo=1.0\n",
      "Gss=120.\n",
      "Gsc=110.\n",
      "Gd=100.\n",
      "To=10.*Gd +10.*(Gss-62.4)+10.*(Gsc-62.4)/2.\n",
      "\n",
      "Tt=0.408\n",
      "Tm=0.232\n",
      "Tb=0.019\n",
      "Tav= (Tt+4.*Tm+Tb)/6.\n",
      "Sc=Cc*H*math.log10((To+Tav*1000.)/To)/(1.+eo)\n",
      "print'%s %.3f %s'%('Sc =',Sc,' in')\n"
     ],
     "language": "python",
     "metadata": {},
     "outputs": [
      {
       "output_type": "stream",
       "stream": "stdout",
       "text": [
        "Sc = 0.826  in\n"
       ]
      }
     ],
     "prompt_number": 8
    },
    {
     "cell_type": "heading",
     "level": 2,
     "metadata": {},
     "source": [
      "Ex13-pg356"
     ]
    },
    {
     "cell_type": "code",
     "collapsed": false,
     "input": [
      "#intilization variable\n",
      "#Calculate total primary\n",
      "import math\n",
      "H = 6.\n",
      "Cc = 0.28\n",
      "eo = 0.9\n",
      "Cv = 0.36\n",
      "To=210.\n",
      "Tp=115.\n",
      "Sc= Cc*H*math.log10((To+Tp)/To)/(1+eo)\n",
      "t2=9.\n",
      "Hd=3.\n",
      "Tv=Cv*t2/Hd**2\n",
      "U=0.67\n",
      "Tf=0.677*Tp\n",
      "print'%s %.1f %s'%('Tf =',Tf,' kN/m^2')\n"
     ],
     "language": "python",
     "metadata": {},
     "outputs": [
      {
       "output_type": "stream",
       "stream": "stdout",
       "text": [
        "Tf = 77.9  kN/m^2\n"
       ]
      }
     ],
     "prompt_number": 7
    }
   ],
   "metadata": {}
  }
 ]
}