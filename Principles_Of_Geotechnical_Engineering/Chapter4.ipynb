{
 "metadata": {
  "name": "",
  "signature": "sha256:ec42a40195fbc1251bf05efd578442adffe962bc7bf4cd047dc1251517110ed5"
 },
 "nbformat": 3,
 "nbformat_minor": 0,
 "worksheets": [
  {
   "cells": [
    {
     "cell_type": "heading",
     "level": 1,
     "metadata": {},
     "source": [
      "Chapter4-Plasticity and Structure of soil"
     ]
    },
    {
     "cell_type": "heading",
     "level": 2,
     "metadata": {},
     "source": [
      "Ex1-pg83"
     ]
    },
    {
     "cell_type": "code",
     "collapsed": false,
     "input": [
      "#calculate shrinkage limit of the soil \n",
      "##initialisation of variables\n",
      "V1= 24.6 ##cm^3\n",
      "V2= 15.9 ##cm^3\n",
      "M1= 44 ##g\n",
      "M2= 30.1 ##g\n",
      "W= 1 ##g/cm^3\n",
      "##calculations\n",
      "SL= (((M1-M2)/M2)*100)-(((V1-V2)/M2)*W*100.)\n",
      "##results\n",
      "print'%s %.1f %s'%('shrinkage limit of the soil = ',SL,' ')\n",
      "\n"
     ],
     "language": "python",
     "metadata": {},
     "outputs": [
      {
       "output_type": "stream",
       "stream": "stdout",
       "text": [
        "shrinkage limit of the soil =  17.3  \n"
       ]
      }
     ],
     "prompt_number": 1
    }
   ],
   "metadata": {}
  }
 ]
}