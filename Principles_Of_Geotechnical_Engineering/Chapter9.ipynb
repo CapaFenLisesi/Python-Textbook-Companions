{
 "metadata": {
  "name": "",
  "signature": "sha256:b2df79b1bfe1bd5bb53b7bb0f72d193619dc333d1434a7c1a2462664a1d1323a"
 },
 "nbformat": 3,
 "nbformat_minor": 0,
 "worksheets": [
  {
   "cells": [
    {
     "cell_type": "heading",
     "level": 1,
     "metadata": {},
     "source": [
      "Chapter9-In situ stresses"
     ]
    },
    {
     "cell_type": "heading",
     "level": 2,
     "metadata": {},
     "source": [
      "Ex1-pg230"
     ]
    },
    {
     "cell_type": "code",
     "collapsed": false,
     "input": [
      "import math\n",
      "#calculate total pressure and pore water pressure and effective stress at point\n",
      "##initialisation of variables\n",
      "Ds= 16.5 ##kN/m**3\n",
      "S= 19.25 ##kN/m**3\n",
      "g= 9.8 ##kN/m**3\n",
      "h1= 6. ##m\n",
      "h2= 13. ##m\n",
      "##at point A\n",
      "Sa= 0.\n",
      "Ua= 0.\n",
      "Sa1= 0.\n",
      "##at point B\n",
      "Sb= h1*Ds\n",
      "Ub= 0.\n",
      "Sb1= Sb-Ub\n",
      "##at point C\n",
      "Sc= h1*Ds+h2*S\n",
      "Uc= h2*g\n",
      "Sc1= Sc-Uc\n",
      "##results\n",
      "print'%s %.2f %s'% ('total pressure at C= ',Sc,' kN/m**3 ')\n",
      "print'%s %.2f %s'% ('pore water pressure at C = ',Uc,' kN/m**3 ')\n",
      "print'%s %.2f %s'% ('effective stress at point C=',Sc1,' kN/m**3 ')\n",
      "\n"
     ],
     "language": "python",
     "metadata": {},
     "outputs": [
      {
       "output_type": "stream",
       "stream": "stdout",
       "text": [
        "total pressure at C=  349.25  kN/m**3 \n",
        "pore water pressure at C =  127.40  kN/m**3 \n",
        "effective stress at point C= 221.85  kN/m**3 \n"
       ]
      }
     ],
     "prompt_number": 7
    },
    {
     "cell_type": "heading",
     "level": 2,
     "metadata": {},
     "source": [
      "Ex2-pg233"
     ]
    },
    {
     "cell_type": "code",
     "collapsed": false,
     "input": [
      "#calculate maximu depth that can be made in clay\n",
      "##initialisation of variables\n",
      "h= 20. ##ft\n",
      "g= 120. ##kg/ft**3\n",
      "h1= 12. ##ft\n",
      "w= 62.4 ##kg/ft**3\n",
      "##calculations\n",
      "H= h-(h1*w/g)\n",
      "##results\n",
      "print'%s %.2f %s'% ('maximu depth that can be made in clay = ',H,' ft ')\n"
     ],
     "language": "python",
     "metadata": {},
     "outputs": [
      {
       "output_type": "stream",
       "stream": "stdout",
       "text": [
        "maximu depth that can be made in clay =  13.76  ft \n"
       ]
      }
     ],
     "prompt_number": 8
    },
    {
     "cell_type": "heading",
     "level": 2,
     "metadata": {},
     "source": [
      "Ex3-pg236"
     ]
    },
    {
     "cell_type": "code",
     "collapsed": false,
     "input": [
      "#calculate effective stress at point a and b and see page force per unit voume\n",
      "##initialisation of variables\n",
      "G= 2.68\n",
      "e= 0.52\n",
      "g= 9.81 ##kN/m^3\n",
      "h1= 0.7 ##m\n",
      "h2= 1 ##m\n",
      "h3= 1.5 ##m\n",
      "h4= 2 ##m\n",
      "##calculations\n",
      "##for soil A\n",
      "sa= (G+e)*g/(1.+e)\n",
      "##point a\n",
      "Sa= h1*g+h2*sa\n",
      "u= (h2+h1+h3/2.)*g\n",
      "Es= Sa-u\n",
      "##point b\n",
      "sb= h1*g+h4*sa\n",
      "ub= (h4+h1+h3)*g\n",
      "Eb= sb-ub\n",
      "i= h3/2.\n",
      "s= i*g\n",
      "##results\n",
      "print'%s %.2f %s'% ('effective stress at point a=',Es,' kN/m^2 ')\n",
      "print'%s %.2f %s'% ('effective stress at point b= ',Eb,'kN/m^2 ')\n",
      "print'%s %.2f %s'% ('seepage force per unit voume = ',s,' kN/m^3 ')\n"
     ],
     "language": "python",
     "metadata": {},
     "outputs": [
      {
       "output_type": "stream",
       "stream": "stdout",
       "text": [
        "effective stress at point a= 3.49  kN/m^2 \n",
        "effective stress at point b=  6.97 kN/m^2 \n",
        "seepage force per unit voume =  7.36  kN/m^3 \n"
       ]
      }
     ],
     "prompt_number": 9
    },
    {
     "cell_type": "heading",
     "level": 2,
     "metadata": {},
     "source": [
      "Ex4-pg239"
     ]
    },
    {
     "cell_type": "code",
     "collapsed": false,
     "input": [
      "#calculate safety factor\n",
      "##initialisation of variables\n",
      "C0= 0.357\n",
      "H1= 30.5 ##ft\n",
      "H2= 5. ##ft\n",
      "w= 62.4 ## lb/ft^3\n",
      "D= 20.\n",
      "g= 112. ## lb/ft^3\n",
      "##calculations\n",
      "G= g-w\n",
      "FS= D*G/(C0*w*(H1-H2))\n",
      "##results\n",
      "print'%s %.1f %s'% ('safety factor =',FS,' ')\n"
     ],
     "language": "python",
     "metadata": {},
     "outputs": [
      {
       "output_type": "stream",
       "stream": "stdout",
       "text": [
        "safety factor = 1.7  \n"
       ]
      }
     ],
     "prompt_number": 5
    }
   ],
   "metadata": {}
  }
 ]
}