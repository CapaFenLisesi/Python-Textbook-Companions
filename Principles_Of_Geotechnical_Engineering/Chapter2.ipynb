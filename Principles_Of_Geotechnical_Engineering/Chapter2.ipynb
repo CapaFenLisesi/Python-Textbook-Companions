{
 "metadata": {
  "name": "",
  "signature": "sha256:d218f94a8c632b085e71b27c7df143c1bf3edcfb5f6cf33f03429d4e281c4928"
 },
 "nbformat": 3,
 "nbformat_minor": 0,
 "worksheets": [
  {
   "cells": [
    {
     "cell_type": "heading",
     "level": 1,
     "metadata": {},
     "source": [
      "Chapter2-Origin of sail and Grain size"
     ]
    },
    {
     "cell_type": "heading",
     "level": 2,
     "metadata": {},
     "source": [
      "Ex2-pg45"
     ]
    },
    {
     "cell_type": "code",
     "collapsed": false,
     "input": [
      "#calculate uniformity coefficient and coefficient of gradation\n",
      "##initialisation of variables\n",
      "##from graph\n",
      "d= 0.15 ##mm\n",
      "w= 0.17 ##mm\n",
      "a= 0.27 ##mm\n",
      "##calculations\n",
      "C= a/d\n",
      "c= w**2/(a*d)\n",
      "##results\n",
      "print'%s %.1f %s'%('uniformity coefficient = ',C,\"\")\n",
      "print'%s %.2f %s'% ('coefficient of gradation = ',c,' ')\n"
     ],
     "language": "python",
     "metadata": {},
     "outputs": [
      {
       "output_type": "stream",
       "stream": "stdout",
       "text": [
        "uniformity coefficient =  1.8 \n",
        "coefficient of gradation =  0.71  \n"
       ]
      }
     ],
     "prompt_number": 1
    }
   ],
   "metadata": {}
  }
 ]
}