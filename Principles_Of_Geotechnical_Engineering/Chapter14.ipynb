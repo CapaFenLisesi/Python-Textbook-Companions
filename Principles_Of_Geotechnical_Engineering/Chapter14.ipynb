{
 "metadata": {
  "name": "",
  "signature": "sha256:2af8058b6581fea92b2edf9bd8732fbea78d002de843d3df7b927ba2074ae2e2"
 },
 "nbformat": 3,
 "nbformat_minor": 0,
 "worksheets": [
  {
   "cells": [
    {
     "cell_type": "heading",
     "level": 1,
     "metadata": {},
     "source": [
      "Chapter14-Lateral Earth Pressure: \n",
      "Curved Failure Surface"
     ]
    },
    {
     "cell_type": "heading",
     "level": 1,
     "metadata": {},
     "source": [
      "Ex1-497"
     ]
    },
    {
     "cell_type": "code",
     "collapsed": false,
     "input": [
      "import math\n",
      "#a.Coulomb\u2019s theory\n",
      "#b.Terzaghi and Peck\u2019s wedge theory\n",
      "#c. Shields and Tolunay\u2019s solution (method of slices)\n",
      "#d.Zhu and Qian\u2019s solution (method of triangular slices)\n",
      "G=15.7\n",
      "a=0.\n",
      "b=15.\n",
      "c=30.\n",
      "H=3.\n",
      "Kp=4.977 ## from table 13.9\n",
      "Pp=Kp*G*H**2./2.\n",
      "print'%s %.1f %s'%('a)the passive force = ',Pp,' kN/m')\n",
      "## for part b\n",
      "Kp=4.53\n",
      "Pp=Kp*G*H**2./2.\n",
      "print'%s %.1f %s'%(' b)the passive force = ',Pp,' kN/m')\n",
      "## for part c\n",
      "Kp=4.13\n",
      "Pp=Kp*G*H**2/2.\n",
      "print'%s %.1f %s'%(' c)the passive force =',Pp,' kN/m')\n",
      "##for part d\n",
      "Kp=4.56\n",
      "Pp=Kp*G*H**2/2.\n",
      "print'%s %.1f %s'%(' d)the passive force =',Pp,' kN/m')\n"
     ],
     "language": "python",
     "metadata": {},
     "outputs": [
      {
       "output_type": "stream",
       "stream": "stdout",
       "text": [
        "a)the passive force =  351.6  kN/m\n",
        " b)the passive force =  320.0  kN/m\n",
        " c)the passive force = 291.8  kN/m\n",
        " d)the passive force = 322.2  kN/m\n"
       ]
      }
     ],
     "prompt_number": 2
    },
    {
     "cell_type": "heading",
     "level": 2,
     "metadata": {},
     "source": [
      "Ex2-pg507"
     ]
    },
    {
     "cell_type": "code",
     "collapsed": false,
     "input": [
      "import math\n",
      "#calculate the design strut loads.\n",
      "G=16.\n",
      "H=7.\n",
      "c=30.\n",
      "Ta=0.65*G*H*(math.tan(30./57.3))**2\n",
      "A=Ta*3.*3./4.\n",
      "B1=Ta*3.-54.61\n",
      "C=Ta*4.*4./4.\n",
      "B2=Ta*4.-97.08\n",
      "s=2.\n",
      "As=A*s\n",
      "Bs=(B1+B2)*s\n",
      "Cs=C*s\n",
      "print'%s %.1f %s'%( 'The strut loads at level A = ',As,' kN')\n",
      "print'%s %.1f %s'%( ' The strut loads at level B = ',Bs,' kN')\n",
      "print'%s %.1f %s'%( ' The strut loads at level C =',Cs,' kN')\n"
     ],
     "language": "python",
     "metadata": {},
     "outputs": [
      {
       "output_type": "stream",
       "stream": "stdout",
       "text": [
        "The strut loads at level A =  109.2  kN\n",
        " The strut loads at level B =  36.3  kN\n",
        " The strut loads at level C = 194.1  kN\n"
       ]
      }
     ],
     "prompt_number": 3
    }
   ],
   "metadata": {}
  }
 ]
}