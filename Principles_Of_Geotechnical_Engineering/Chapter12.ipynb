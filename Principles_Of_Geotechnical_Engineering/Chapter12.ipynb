{
 "metadata": {
  "name": "",
  "signature": "sha256:cc62756cbf06ddef68226804d15a2efed303c30289a23f7a88b85756c1a62af7"
 },
 "nbformat": 3,
 "nbformat_minor": 0,
 "worksheets": [
  {
   "cells": [
    {
     "cell_type": "heading",
     "level": 1,
     "metadata": {},
     "source": [
      "Chapter12-Shear Strength of Soil"
     ]
    },
    {
     "cell_type": "heading",
     "level": 2,
     "metadata": {},
     "source": [
      "Ex1-pg378"
     ]
    },
    {
     "cell_type": "code",
     "collapsed": false,
     "input": [
      "import math\n",
      "#Determine the relationships for peak shear strength(tf) and residual shear strength(tr).\n",
      "D=50 ## in mm\n",
      "A= math.pi/4. *(D/1000.)**2\n",
      "## solving for test 1 \n",
      "N=150.\n",
      "Sp=157.5\n",
      "Sr=44.2\n",
      "Tf=Sp/A\n",
      "Tr=Sr/A\n",
      "## from graph\n",
      "k=math.tan(27/57.3)\n",
      "k1=math.tan(14.6/57.3)\n",
      "\n",
      "print'%s %.3f %s'%('Peak strength Tf = 40+ t*',k,'')\n",
      "print'%s %.3f %s'%(' Residual strength Tr = t*',k1,'')\n",
      "\n"
     ],
     "language": "python",
     "metadata": {},
     "outputs": [
      {
       "output_type": "stream",
       "stream": "stdout",
       "text": [
        "Peak strength Tf = 40+ t* 0.509 \n",
        " Residual strength Tr = t* 0.260 \n"
       ]
      }
     ],
     "prompt_number": 1
    },
    {
     "cell_type": "heading",
     "level": 2,
     "metadata": {},
     "source": [
      "Ex2-pg385"
     ]
    },
    {
     "cell_type": "code",
     "collapsed": false,
     "input": [
      "import math\n",
      "#Determine\n",
      "#a.Angle of friction,f\u0004\n",
      "#b.Angleuthat the failure plane makes with the major principal plane\n",
      "T3=16. ## lb/in^2\n",
      "Tf=25. ## lb/in^2\n",
      "T1=T3+Tf\n",
      "a= math.asin((T1-T3)/(T1+T3))*57.3 ## Mohr's circle\n",
      "print'%s %.2f %s'%('a)Angle of friction,a = ',a,'')\n",
      "b= 45.+ a/2.\n",
      "print'%s %.2f %s'%(' b)Angle b that the failure plane makes with the major principal plane = ',b,'')\n",
      "\n"
     ],
     "language": "python",
     "metadata": {},
     "outputs": [
      {
       "output_type": "stream",
       "stream": "stdout",
       "text": [
        "a)Angle of friction,a =  26.02 \n",
        " b)Angle b that the failure plane makes with the major principal plane =  58.01 \n"
       ]
      }
     ],
     "prompt_number": 9
    },
    {
     "cell_type": "heading",
     "level": 2,
     "metadata": {},
     "source": [
      "Ex3-pg386"
     ]
    },
    {
     "cell_type": "code",
     "collapsed": false,
     "input": [
      "import math\n",
      "#Find the normal stress s\u0004and the shear stress tfon the failure plane.\n",
      "#b.Determine the effective normal stress on the plane of maximum shear stress\n",
      "T1=41.\n",
      "T3=16.\n",
      "a=58.\n",
      "T=(T1+T3)/2. + (T1-T3)*math.cos(2.*a/57.3)/2.\n",
      "tf=(T1-T3)*math.sin(2.*a/57.3)/2\n",
      "print'%s %.2f %s'%('a)the normal stress T = ',T,' lb/in^2')\n",
      "print'%s %.2f %s'%('(b) and the shear stress tf = ',tf,' lb/in^2')\n"
     ],
     "language": "python",
     "metadata": {},
     "outputs": [
      {
       "output_type": "stream",
       "stream": "stdout",
       "text": [
        "a)the normal stress T =  23.02  lb/in^2\n",
        "(b) and the shear stress tf =  11.24  lb/in^2\n"
       ]
      }
     ],
     "prompt_number": 11
    },
    {
     "cell_type": "heading",
     "level": 2,
     "metadata": {},
     "source": [
      "Ex4-pg387"
     ]
    },
    {
     "cell_type": "code",
     "collapsed": false,
     "input": [
      "import math\n",
      "#The equation of the effective stress failure envelope for normally consolidated clayey soilistf \u0001s\u0004tan 30\u0005. A drained triaxial test was conducted with the same soil at a chamberconfining pressure of 10 lb/in.2Calculate the deviator stress at failure.\n",
      "##For normally consolidated clay, c' \u0004= 0.\n",
      "a=30.\n",
      "T3=10.\n",
      "T1=T3*(math.tan(60/57.3))**2\n",
      "Tf=T1-T3\n",
      "print'%s %.2f %s'%('The deviator stress at failure = ',Tf,' lb/in^2')\n"
     ],
     "language": "python",
     "metadata": {},
     "outputs": [
      {
       "output_type": "stream",
       "stream": "stdout",
       "text": [
        "The deviator stress at failure =  19.99  lb/in^2\n"
       ]
      }
     ],
     "prompt_number": 12
    },
    {
     "cell_type": "heading",
     "level": 2,
     "metadata": {},
     "source": [
      "Ex5-pg387"
     ]
    },
    {
     "cell_type": "code",
     "collapsed": false,
     "input": [
      "import math\n",
      "#Determine the shear strength parameters.\n",
      "T13=70.\n",
      "T1f=130.\n",
      "T11=T13+T1f\n",
      "\n",
      "T23=160.\n",
      "T2f=223.5\n",
      "T21=T23+T2f\n",
      "\n",
      "a= 2*(math.atan(((T11-T21)/(T13-T23))**0.5) *57.3-45)\n",
      "c= (T11-T13*((math.tan((45+a/2.)/57.3))**2)/(2*math.tan(45+a/2.)/57.3))\n",
      "d=c-267\n",
      "print('the shear strength parameter d = ',d,' kN/m^2')\n"
     ],
     "language": "python",
     "metadata": {},
     "outputs": [
      {
       "output_type": "stream",
       "stream": "stdout",
       "text": [
        "('the shear strength parameter d = ', 20.686836038348247, ' kN/m^2')\n"
       ]
      }
     ],
     "prompt_number": 5
    },
    {
     "cell_type": "heading",
     "level": 2,
     "metadata": {},
     "source": [
      "Ex6-pg394"
     ]
    },
    {
     "cell_type": "code",
     "collapsed": false,
     "input": [
      "import math\n",
      "#a.Consolidated-undrained angle of shearing resistance,f\n",
      "#b.Drained friction angle,f\u0004\n",
      "T3=12.\n",
      "Tf=9.1\n",
      "T1=T3+Tf\n",
      "u=6.8\n",
      "a=math.asin((T1-T3)/(T1+T3))\n",
      "\n",
      "a1= math.asin((T1-T3)/(T1+T3-2*u))\n",
      "\n",
      "print'%s %.1f %s'%('a)Consolidated-undrained angle of shearing resistance = ',a*57.3,' degrees')\n",
      "print'%s %.1f %s'%(' b)Drained friction angle =',a1*57.3,' degrees')\n"
     ],
     "language": "python",
     "metadata": {},
     "outputs": [
      {
       "output_type": "stream",
       "stream": "stdout",
       "text": [
        "a)Consolidated-undrained angle of shearing resistance =  16.0  degrees\n",
        " b)Drained friction angle = 27.8  degrees\n"
       ]
      }
     ],
     "prompt_number": 13
    },
    {
     "cell_type": "heading",
     "level": 2,
     "metadata": {},
     "source": [
      "Ex7-pg395"
     ]
    },
    {
     "cell_type": "code",
     "collapsed": false,
     "input": [
      "import math\n",
      "#What would be the deviatorstress at failure, (\u0010sd)f, if a drained test was conducted with the same chamber allaround pressure (that is, 12 lb/in.2)?\n",
      "T3=12.\n",
      "a=27.8\n",
      "T1=T3*(math.tan(59./57.3))**2\n",
      "Tf=T1-T3\n",
      "print'%s %.1f %s'%('the deviator stress at failure = ',Tf,' lb/in^2')\n"
     ],
     "language": "python",
     "metadata": {},
     "outputs": [
      {
       "output_type": "stream",
       "stream": "stdout",
       "text": [
        "the deviator stress at failure =  21.2  lb/in^2\n"
       ]
      }
     ],
     "prompt_number": 15
    },
    {
     "cell_type": "heading",
     "level": 2,
     "metadata": {},
     "source": [
      "Ex8-pg400"
     ]
    },
    {
     "cell_type": "code",
     "collapsed": false,
     "input": [
      "import math\n",
      "#Estimate the average undrained shear strength of the clay [that is,cu(VST)].\n",
      "PI=28.\n",
      "OCR=3.2\n",
      "To=160.\n",
      "Kn=0.11+0.0037*PI\n",
      "Ko=OCR**0.8 * Kn\n",
      "Cu=Ko*To\n",
      "print'%s %.1f %s'%('the average undrained shear strength of the clay =',Cu,' kN/m^2')\n"
     ],
     "language": "python",
     "metadata": {},
     "outputs": [
      {
       "output_type": "stream",
       "stream": "stdout",
       "text": [
        "the average undrained shear strength of the clay = 86.7  kN/m^2\n"
       ]
      }
     ],
     "prompt_number": 16
    }
   ],
   "metadata": {}
  }
 ]
}