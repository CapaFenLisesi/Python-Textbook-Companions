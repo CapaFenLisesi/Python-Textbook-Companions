{
 "metadata": {
  "name": "",
  "signature": "sha256:386718b63e6b6f21bd32a3120a143f6e224e0278ef555853cf557429a2d7f4f2"
 },
 "nbformat": 3,
 "nbformat_minor": 0,
 "worksheets": [
  {
   "cells": [
    {
     "cell_type": "heading",
     "level": 1,
     "metadata": {},
     "source": [
      "Chapter7- Permeability"
     ]
    },
    {
     "cell_type": "heading",
     "level": 2,
     "metadata": {},
     "source": [
      "Ex1-pg168"
     ]
    },
    {
     "cell_type": "code",
     "collapsed": false,
     "input": [
      "#Calculate the hydraulic conductivity in cm/sec.\n",
      "import math\n",
      "##initialisation of variables\n",
      "L= 30. ##cm\n",
      "A= 177. ##cm^2\n",
      "h= 50. ##cm\n",
      "Q= 350. ##cm^3\n",
      "t= 300. ##sec\n",
      "##claculations\n",
      "k=Q*L/(A*h*t)\n",
      "##results\n",
      "print'%s %.4f %s'% ('hydraulic conductivity = ',k,' cm/sec ')\n"
     ],
     "language": "python",
     "metadata": {},
     "outputs": [
      {
       "output_type": "stream",
       "stream": "stdout",
       "text": [
        "hydraulic conductivity =  0.0040  cm/sec \n"
       ]
      }
     ],
     "prompt_number": 1
    },
    {
     "cell_type": "heading",
     "level": 2,
     "metadata": {},
     "source": [
      "Ex2-pg169\n"
     ]
    },
    {
     "cell_type": "code",
     "collapsed": false,
     "input": [
      "#Determine the hydraulic conductivity of the soil in in./sec.\n",
      "import math\n",
      "##initialisation of variables\n",
      "L= 203. ##mm\n",
      "A= 10.3 ##cm^2\n",
      "a= 0.39 ##cm^2\n",
      "h0= 508. ##mm\n",
      "h180= 305. ##mm\n",
      "t= 180. ##sec\n",
      "##calculations\n",
      "k= 2.303*a*L*math.log10(h0/h180)/(A*t)\n",
      "##results\n",
      "print'%s %.2f %s'% ('hydraulic conductivity of sand = ',k,' in/sec ')\n"
     ],
     "language": "python",
     "metadata": {},
     "outputs": [
      {
       "output_type": "stream",
       "stream": "stdout",
       "text": [
        "hydraulic conductivity of sand =  0.02  in/sec \n"
       ]
      }
     ],
     "prompt_number": 2
    },
    {
     "cell_type": "heading",
     "level": 2,
     "metadata": {},
     "source": [
      "Ex3-pg169"
     ]
    },
    {
     "cell_type": "code",
     "collapsed": false,
     "input": [
      "#The hydraulic conductivity of a clayey soil is 3  107 cm/sec. The viscosity of water at 25\u00b0C is 0.0911  104 g # sec/cm2 \n",
      "#Calculate the absolute permeability of the soil.\n",
      "import math\n",
      "##initialisation of varilables\n",
      "k= 3e-7 ##cm/sec\n",
      "n= 0.0911e-4 ##g*sec/cm^2\n",
      "dw= 1. ##g/cc\n",
      "##calculations\n",
      "K= k*n/dw\n",
      "##results\n",
      "print'%s %.2e %s'% ('absolute premeability = ',K,' cm^2 ')\n"
     ],
     "language": "python",
     "metadata": {},
     "outputs": [
      {
       "output_type": "stream",
       "stream": "stdout",
       "text": [
        "absolute premeability =  2.73e-12  cm^2 \n"
       ]
      }
     ],
     "prompt_number": 3
    },
    {
     "cell_type": "heading",
     "level": 2,
     "metadata": {},
     "source": [
      "Ex4-pg170"
     ]
    },
    {
     "cell_type": "code",
     "collapsed": false,
     "input": [
      "#With k  5.3  105 m/sec for the permeable layer, calculate the rate of seepage through it in m3 /hr/m width if H  3 m and a  8\u00b0.\n",
      "\n",
      "import math\n",
      "##initialisation of variables\n",
      "k= 5.3e-5 ##m/sec\n",
      "H= 3 ##m\n",
      "a= 0.139 ##radians\n",
      "##calculations\n",
      "A= H*math.cos(a)\n",
      "i= math.sin(a)\n",
      "q= k*i*A*3600\n",
      "##results\n",
      "print'%s %.4f %s'% ('rate of seepage = ',q,' m^3/hr/m ')\n"
     ],
     "language": "python",
     "metadata": {},
     "outputs": [
      {
       "output_type": "stream",
       "stream": "stdout",
       "text": [
        "rate of seepage =  0.0785  m^3/hr/m \n"
       ]
      }
     ],
     "prompt_number": 5
    },
    {
     "cell_type": "heading",
     "level": 2,
     "metadata": {},
     "source": [
      "Ex5-pg171"
     ]
    },
    {
     "cell_type": "code",
     "collapsed": false,
     "input": [
      "import math\n",
      "#calculate flow rate\n",
      "##initialisation of variables\n",
      "L= 50. ##m\n",
      "k= 0.08e-2##m/sec\n",
      "h= 4. ##m\n",
      "H1= 3. ##m\n",
      "H= 8. ##m\n",
      "a= 0.139 ##radians\n",
      "##calculations\n",
      "i= h*math.cos(a)/L\n",
      "A= H1*math.cos(a)\n",
      "q= k*i*A\n",
      "##results\n",
      "print'%s %.5f %s'% ('flow rate = ',q,' m^3/sec/m ')\n"
     ],
     "language": "python",
     "metadata": {},
     "outputs": [
      {
       "output_type": "stream",
       "stream": "stdout",
       "text": [
        "flow rate =  0.00019  m^3/sec/m \n"
       ]
      }
     ],
     "prompt_number": 8
    },
    {
     "cell_type": "heading",
     "level": 2,
     "metadata": {},
     "source": [
      "Ex6-pg174"
     ]
    },
    {
     "cell_type": "code",
     "collapsed": false,
     "input": [
      "#calculate hydraulic conductivity at void ratio of 0.65\n",
      "##initialisation of variables\n",
      "k1= 0.02 ##cm/sec\n",
      "e1= 0.5 \n",
      "e2= 0.65\n",
      "##calculations\n",
      "k2= k1*(e2**3/(1.+e2))/(e1**3/(1.+e1))\n",
      "##results\n",
      "print'%s %.2f %s'% ('hydraulic conductivity at void ratio of 0.65 =',k2,'cm/sec ')\n"
     ],
     "language": "python",
     "metadata": {},
     "outputs": [
      {
       "output_type": "stream",
       "stream": "stdout",
       "text": [
        "hydraulic conductivity at void ratio of 0.65 = 0.04 cm/sec \n"
       ]
      }
     ],
     "prompt_number": 18
    },
    {
     "cell_type": "heading",
     "level": 2,
     "metadata": {},
     "source": [
      "Ex7-pg176"
     ]
    },
    {
     "cell_type": "code",
     "collapsed": false,
     "input": [
      "#calculate the value of grain size and plot the graph\n",
      "import math\n",
      "%matplotlib inline\n",
      "import warnings\n",
      "warnings.filterwarnings('ignore')\n",
      "from math import log\n",
      "import numpy\n",
      "from math import tan\n",
      "import matplotlib\n",
      "from matplotlib import pyplot\n",
      "#given\n",
      "e=numpy.array([100,96,84,50,0])\n",
      "p=numpy.array([0.06,0.0425,0.02,0.015,0.0075])\n",
      "\n",
      "#calculations\n",
      "\n",
      "\n",
      "#results\n",
      "\n",
      "pyplot.plot(p,e)\n",
      "pyplot.xlabel('Percent passing')\n",
      "pyplot.ylabel('grain size,mm')\n",
      "pyplot.title('Graph of percent passinge vs grain size')\n",
      "pyplot.show()\n",
      "print('look at the axis reverse in text book')\n"
     ],
     "language": "python",
     "metadata": {},
     "outputs": [
      {
       "metadata": {},
       "output_type": "display_data",
       "png": "[encoded data removed]",
       "text": [
        "<matplotlib.figure.Figure at 0x542d930>"
       ]
      },
      {
       "output_type": "stream",
       "stream": "stdout",
       "text": [
        "look at the axis reverse in text book\n"
       ]
      }
     ],
     "prompt_number": 2
    },
    {
     "cell_type": "heading",
     "level": 2,
     "metadata": {},
     "source": [
      "Ex8-pg177"
     ]
    },
    {
     "cell_type": "code",
     "collapsed": false,
     "input": [
      "#calculate hydraulic conductivity\n",
      "##initialisation of variables\n",
      "e= 0.6\n",
      "D10= 0.09 ##mm\n",
      "##calculations\n",
      "k= 2.4622*(D10**2*(e**3/(1+e)))**0.7825\n",
      "##results\n",
      "print'%s %.4f %s'% ('hydraulic conductivity = ',k,' cm/sec ')\n"
     ],
     "language": "python",
     "metadata": {},
     "outputs": [
      {
       "output_type": "stream",
       "stream": "stdout",
       "text": [
        "hydraulic conductivity =  0.0119  cm/sec \n"
       ]
      }
     ],
     "prompt_number": 17
    },
    {
     "cell_type": "heading",
     "level": 2,
     "metadata": {},
     "source": [
      "Ex9-pg177"
     ]
    },
    {
     "cell_type": "code",
     "collapsed": false,
     "input": [
      "#calculate hydraulic conductivity\n",
      "##initialisation of variables\n",
      "e= 0.6\n",
      "D10= 0.09 ##mm\n",
      "D60= 0.16 ##mm\n",
      "##calculations\n",
      "Cu=D60/D10\n",
      "k= 35*(e**3/(1+e))*(Cu**0.6)*(D10**2.32)\n",
      "##results\n",
      "print'%s %.3f %s'% ('hydraulic conductivity =',k,'cm/sec ')\n"
     ],
     "language": "python",
     "metadata": {},
     "outputs": [
      {
       "output_type": "stream",
       "stream": "stdout",
       "text": [
        "hydraulic conductivity = 0.025 cm/sec \n"
       ]
      }
     ],
     "prompt_number": 11
    },
    {
     "cell_type": "heading",
     "level": 2,
     "metadata": {},
     "source": [
      "Ex10-pg179"
     ]
    },
    {
     "cell_type": "code",
     "collapsed": false,
     "input": [
      "import math\n",
      "#calculate hydraulic conductivity\n",
      "##initialisation of variables\n",
      "k1= 0.302e-7 ##cm/sec\n",
      "k2= 0.12e-7 ##cm/sec\n",
      "e1= 1.1\n",
      "e2= 0.9\n",
      "e= 0.75\n",
      "##calcualtions\n",
      "n= (math.log10((k1/k2)*((1+e1)/(1+e2))))/math.log10(e1/e2)\n",
      "C= k1/(e1**n/(1+e1))\n",
      "k= C*(e**n/(1+e))\n",
      "##results\n",
      "print'%s %.e %s'% ('hydraulic conductivity =',k,'cm/sec')\n"
     ],
     "language": "python",
     "metadata": {},
     "outputs": [
      {
       "output_type": "stream",
       "stream": "stdout",
       "text": [
        "hydraulic conductivity = 5e-09 cm/sec\n"
       ]
      }
     ],
     "prompt_number": 16
    },
    {
     "cell_type": "heading",
     "level": 2,
     "metadata": {},
     "source": [
      "Ex11-pg185"
     ]
    },
    {
     "cell_type": "code",
     "collapsed": false,
     "input": [
      "#calculate ration of equivalent hydraulic conductivity\n",
      "##initialisation of variables\n",
      "H1= 2. ##m\n",
      "H2= 3. ##m\n",
      "H3= 4. ##m\n",
      "k1= 1e-4 ##cm/sec\n",
      "k2= 3.2e-2 ##cm/sec\n",
      "k3= 4.1e-5 ##cm/sec\n",
      "##calculations\n",
      "H= H1+H2+H3\n",
      "Kh= (1./H)*((k1*H1)+(k2*H2)+(k3*H3))\n",
      "Kv= H/((H1/k1)+(H2/k2)+(H3/k3))\n",
      "P= Kh/Kv\n",
      "##results\n",
      "print'%s %.2f %s'% ('ration of equivalent hydraulic conductivity =',P,' ')\n"
     ],
     "language": "python",
     "metadata": {},
     "outputs": [
      {
       "output_type": "stream",
       "stream": "stdout",
       "text": [
        "ration of equivalent hydraulic conductivity = 139.97  \n"
       ]
      }
     ],
     "prompt_number": 13
    },
    {
     "cell_type": "heading",
     "level": 2,
     "metadata": {},
     "source": [
      "Ex12-pg186"
     ]
    },
    {
     "cell_type": "code",
     "collapsed": false,
     "input": [
      "import math\n",
      "#calculate rate of water supply\n",
      "##initialisation of variables\n",
      "H= 450. ##mm\n",
      "h= 150. ##mm\n",
      "k1= 1e-2 ##cm/sec\n",
      "k2= 3e-3 ##cm/sec\n",
      "k3= 4.9e-4 ##cm/sec\n",
      "h1= 300. ##mm\n",
      "##calculations\n",
      "Kv= H/(h*(1./k1+1./k2+1./k3))\n",
      "i= h1/H\n",
      "q= Kv*i*100.*3600.\n",
      "##results\n",
      "print'%s %.2f %s'% ('rate of water supply =',q,' cm/hr ')\n"
     ],
     "language": "python",
     "metadata": {},
     "outputs": [
      {
       "output_type": "stream",
       "stream": "stdout",
       "text": [
        "rate of water supply = 291.01  cm/hr \n"
       ]
      }
     ],
     "prompt_number": 15
    }
   ],
   "metadata": {}
  }
 ]
}