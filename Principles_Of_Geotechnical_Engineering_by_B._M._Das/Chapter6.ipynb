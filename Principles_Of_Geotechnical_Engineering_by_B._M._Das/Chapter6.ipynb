{
 "metadata": {
  "name": "",
  "signature": "sha256:9e373112e48f07ee80b6b4af3f674669c699f5259766125b19738d8e5f5cd0b1"
 },
 "nbformat": 3,
 "nbformat_minor": 0,
 "worksheets": [
  {
   "cells": [
    {
     "cell_type": "heading",
     "level": 1,
     "metadata": {},
     "source": [
      "Chapter6-Soil Compaction"
     ]
    },
    {
     "cell_type": "heading",
     "level": 2,
     "metadata": {},
     "source": [
      "Ex2-pg127"
     ]
    },
    {
     "cell_type": "code",
     "collapsed": false,
     "input": [
      "import math\n",
      "#calculate maximum dry density and optimum moisture content\n",
      "##initialisation of variables\n",
      "G= 2.6\n",
      "LL= 20.\n",
      "P= 20.\n",
      "##calclations\n",
      "R= (4804574.*G-195.55*(LL)**2+156971*(P)**0.5-9527830)**0.5\n",
      "n= (1.195e-4)*((LL)**2)-1.964*G-(6.617e-5)*(P)+7.651\n",
      "w= math.e**n\n",
      "##results\n",
      "print'%s %.1f %s'% ('maximum dry density = ',R,' kg/m^3 ')\n",
      "print'%s %.2f %s'%('optimum moisture content = ',w,' ')\n",
      "\n"
     ],
     "language": "python",
     "metadata": {},
     "outputs": [
      {
       "output_type": "stream",
       "stream": "stdout",
       "text": [
        "maximum dry density =  1894.2  kg/m^3 \n",
        "optimum moisture content =  13.34  \n"
       ]
      }
     ],
     "prompt_number": 3
    },
    {
     "cell_type": "heading",
     "level": 2,
     "metadata": {},
     "source": [
      "Ex3-pg143"
     ]
    },
    {
     "cell_type": "code",
     "collapsed": false,
     "input": [
      "import math\n",
      "#calculate dry unit weight of compaction in the field and dry unit weight of compaction in the field\n",
      "##initialisation of variables\n",
      "do= 1570. ##kg/m^3\n",
      "mo= 0.545 ##kg\n",
      "M1= 7.59 ##kg\n",
      "M2= 4.78 ##kg\n",
      "M3= 3.007 ##kg\n",
      "w= 0.102 ##\n",
      "dmax= 19. ##KN/m^3\n",
      "##calculations\n",
      "Ms= M1-M2\n",
      "Mc= Ms-mo\n",
      "Vh= Mc/do\n",
      "Dc= M3/Vh\n",
      "Du= Dc*9.81/1000.\n",
      "f= Du/(1.+w)\n",
      "Rc= f*100./dmax\n",
      "##results\n",
      "print'%s %.2f %s'% ('dry unit weight of compaction in the field = ',f,' kN/m^3 ')\n",
      "print'%s %.1f %s'% ('relative compaction in the field = ',Rc,'')\n",
      "#calculate the value of gamma and plot the graph\n",
      "%matplotlib inline\n",
      "import warnings\n",
      "warnings.filterwarnings('ignore')\n",
      "import math\n",
      "from math import log\n",
      "import numpy\n",
      "from math import tan\n",
      "import matplotlib\n",
      "from matplotlib import pyplot\n",
      "#given\n",
      "p=numpy.array([6,8,9,11,12,14])\n",
      "e=numpy.array([14.80,17.45,18.52,18.9,18.5,16.9])\n",
      "\n",
      "#calculations\n",
      "\n",
      "\n",
      "#results\n",
      "\n",
      "pyplot.plot(p,e)\n",
      "pyplot.xlabel('gamma')\n",
      "pyplot.ylabel('weight ,w')\n",
      "pyplot.title('Graph of gamma vs w')\n",
      "pyplot.show()\n",
      "print('look at the axis reverse in text book')"
     ],
     "language": "python",
     "metadata": {},
     "outputs": [
      {
       "output_type": "stream",
       "stream": "stdout",
       "text": [
        "dry unit weight of compaction in the field =  18.55  kN/m^3 \n",
        "relative compaction in the field =  97.7 \n"
       ]
      },
      {
       "metadata": {},
       "output_type": "display_data",
       "png": "[encoded data removed]",
       "text": [
        "<matplotlib.figure.Figure at 0x566c2f0>"
       ]
      },
      {
       "output_type": "stream",
       "stream": "stdout",
       "text": [
        "look at the axis reverse in text book\n"
       ]
      }
     ],
     "prompt_number": 3
    },
    {
     "cell_type": "heading",
     "level": 2,
     "metadata": {},
     "source": [
      "Ex4-pg155"
     ]
    },
    {
     "cell_type": "code",
     "collapsed": false,
     "input": [
      "import math\n",
      "#calculate sustainabilty number\n",
      "##initialisation of variables\n",
      "D1= 0.36 ##mm\n",
      "D2= 0.52 ##mm\n",
      "D5= 1.42 ##mm\n",
      "##calculations\n",
      "Sn= 1.7*(math.sqrt((3./(D5)**2)+(1./(D2)**2)+(1./(D1)**2)))\n",
      "##results\n",
      "print'%s %.1f %s'% ('sustainabilty number = ',Sn,' ')\n"
     ],
     "language": "python",
     "metadata": {},
     "outputs": [
      {
       "output_type": "stream",
       "stream": "stdout",
       "text": [
        "sustainabilty number =  6.1  \n"
       ]
      }
     ],
     "prompt_number": 1
    }
   ],
   "metadata": {}
  }
 ]
}