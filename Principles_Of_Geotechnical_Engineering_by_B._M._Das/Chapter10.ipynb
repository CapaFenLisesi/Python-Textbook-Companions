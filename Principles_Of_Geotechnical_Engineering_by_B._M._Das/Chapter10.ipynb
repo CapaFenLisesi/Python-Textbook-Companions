{
 "metadata": {
  "name": "",
  "signature": "sha256:e88cf5fadb0380ed068b9242245f52a6fc3119add2d6c78c60f47b1c3197bfc1"
 },
 "nbformat": 3,
 "nbformat_minor": 0,
 "worksheets": [
  {
   "cells": [
    {
     "cell_type": "heading",
     "level": 1,
     "metadata": {},
     "source": [
      "Chapter10-Stresses in a Soil Mass"
     ]
    },
    {
     "cell_type": "heading",
     "level": 2,
     "metadata": {},
     "source": [
      "Ex1-pg257"
     ]
    },
    {
     "cell_type": "code",
     "collapsed": false,
     "input": [
      "import math\n",
      "#principal stress and normal stresses and shear stresses\n",
      "##initialisation of variables\n",
      "sx= 2000. ##lb/ft^3\n",
      "sy= 2500. ##lb/ft^3\n",
      "T= 800. ##lb/ft^3\n",
      "t= 0.348##radians\n",
      "##calculations\n",
      "s1= (sx+sy)/2.+math.sqrt(((sy-sx)/2.)**2+T**2)\n",
      "s2= (sx+sy)/2.-math.sqrt(((sy-sx)/2.)**2+T**2)\n",
      "sn= (sx+sy)/2.+(sy-sx)*math.cos(2.*t)/2.-T*math.sin(2*t)\n",
      "Tn= (sy-sx)*math.sin(2.*t)/2.+T*math.cos(2*t)\n",
      "##results\n",
      "print'%s %.2f %s'% ('principle stress s1 = ',s1,' lb/ft^3 ')\n",
      "print'%s %.2f %s'% ('principle stress s2 = ',s2,' lb/ft^3 ')\n",
      "print'%s %.2f %s'% ('normal stress = ',sn,' lb/ft^3 ')\n",
      "print'%s %.2f %s'% ('shear stress = ',Tn,' lb/ft^3 ')\n"
     ],
     "language": "python",
     "metadata": {},
     "outputs": [
      {
       "output_type": "stream",
       "stream": "stdout",
       "text": [
        "principle stress s1 =  3088.15  lb/ft^3 \n",
        "principle stress s2 =  1411.85  lb/ft^3 \n",
        "normal stress =  1928.93  lb/ft^3 \n",
        "shear stress =  774.22  lb/ft^3 \n"
       ]
      }
     ],
     "prompt_number": 1
    },
    {
     "cell_type": "heading",
     "level": 2,
     "metadata": {},
     "source": [
      "Ex3-pg262"
     ]
    },
    {
     "cell_type": "code",
     "collapsed": false,
     "input": [
      "import math\n",
      "#calculate vertical stress increase\n",
      "##initialisation of variables\n",
      "x= 3. ##m\n",
      "y= 4. ##m\n",
      "P= 5. ##kN\n",
      "z= 2. ##m\n",
      "##calculations\n",
      "r= math.sqrt(x**2+y**2)\n",
      "k= r/z\n",
      "I= 3./(2.*math.pi*((r/z)**2+1)**2.5)\n",
      "s= P*I/z**2\n",
      "##results\n",
      "print'%s %.4f %s'% ('verticle stress increase at 2m = ',s,' kN/m^3 ')\n"
     ],
     "language": "python",
     "metadata": {},
     "outputs": [
      {
       "output_type": "stream",
       "stream": "stdout",
       "text": [
        "verticle stress increase at 2m =  0.0042  kN/m^3 \n"
       ]
      }
     ],
     "prompt_number": 2
    },
    {
     "cell_type": "heading",
     "level": 2,
     "metadata": {},
     "source": [
      "Ex6-pg270"
     ]
    },
    {
     "cell_type": "code",
     "collapsed": false,
     "input": [
      "#calculate the value of pressure and plot the graph\n",
      "import math\n",
      "%matplotlib inline\n",
      "import warnings\n",
      "warnings.filterwarnings('ignore')\n",
      "from math import log\n",
      "import numpy\n",
      "from math import tan\n",
      "import matplotlib\n",
      "from matplotlib import pyplot\n",
      "#given\n",
      "p=numpy.array([-9,-6,-3, 0,3,6,9])\n",
      "e=numpy.array([0.017,0.084,0.480,0.818,0.480,0.084,0.017])\n",
      "\n",
      "#calculations\n",
      "\n",
      "\n",
      "#results\n",
      "\n",
      "pyplot.plot(p,e)\n",
      "pyplot.xlabel('Pressure (ton/ft^2)')\n",
      "pyplot.ylabel('void ratio ,e')\n",
      "pyplot.title('Graph of pressure vs void ratio')\n",
      "pyplot.show()\n"
     ],
     "language": "python",
     "metadata": {},
     "outputs": [
      {
       "metadata": {},
       "output_type": "display_data",
       "png": "[encoded data removed]",
       "text": [
        "<matplotlib.figure.Figure at 0x54c4510>"
       ]
      }
     ],
     "prompt_number": 2
    }
   ],
   "metadata": {}
  }
 ]
}