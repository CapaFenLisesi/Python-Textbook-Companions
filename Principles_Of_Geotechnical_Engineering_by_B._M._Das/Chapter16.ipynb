{
 "metadata": {
  "name": "",
  "signature": "sha256:f8ccaea2f8e2185eadf01a8580109480d61ddd5c9965256b8487bceaf5d3f50f"
 },
 "nbformat": 3,
 "nbformat_minor": 0,
 "worksheets": [
  {
   "cells": [
    {
     "cell_type": "heading",
     "level": 1,
     "metadata": {},
     "source": [
      "Chapter16-Soil-Bearing Capacity for Shallow Foundations"
     ]
    },
    {
     "cell_type": "heading",
     "level": 2,
     "metadata": {},
     "source": [
      "Ex1-pg587"
     ]
    },
    {
     "cell_type": "code",
     "collapsed": false,
     "input": [
      "#determine the gross allowable load per unit area (qall) that the foundation can carry.\n",
      "import math\n",
      "c=20.\n",
      "## from table 16.1\n",
      "Nc=17.69\n",
      "Nq=7.44\n",
      "Ng=3.64\n",
      "\n",
      "Df=3.\n",
      "G=110.\n",
      "q=G*Df\n",
      "\n",
      "C=200.\n",
      "B=4.\n",
      "\n",
      "Qu= C*Nc+q*Nq+G*B*Ng/2.\n",
      "\n",
      "Fs=3.\n",
      "Qall=Qu/Fs\n",
      "print'%s %.1f %s'%('Qa = ',Qall,' lb/ft^2')\n"
     ],
     "language": "python",
     "metadata": {},
     "outputs": [
      {
       "output_type": "stream",
       "stream": "stdout",
       "text": [
        "Qa =  2264.7  lb/ft^2\n"
       ]
      }
     ],
     "prompt_number": 6
    },
    {
     "cell_type": "heading",
     "level": 2,
     "metadata": {},
     "source": [
      "Ex2-pg588"
     ]
    },
    {
     "cell_type": "code",
     "collapsed": false,
     "input": [
      "import math\n",
      "#determine the size of the footing\u2014that is, the size of B.\n",
      "G=18.15\n",
      "qa=30000.*9.81/1000.\n",
      "\n",
      "Nc=57.75\n",
      "Nq=41.44\n",
      "Ng=45.41\n",
      "C=0.\n",
      "q=G*1.\n",
      "B=1.\n",
      "(1.3*C*Nc+q*Nq+0.4*G*B*Ng)*B**2/3. == qa\n",
      "B= math.sqrt(294.3/(250.7+109.9))\n",
      "print'%s %.1f %s'%(' B = ',B,' m')\n"
     ],
     "language": "python",
     "metadata": {},
     "outputs": [
      {
       "output_type": "stream",
       "stream": "stdout",
       "text": [
        " B =  0.9  m\n"
       ]
      }
     ],
     "prompt_number": 2
    },
    {
     "cell_type": "heading",
     "level": 2,
     "metadata": {},
     "source": [
      "Ex3-pg595"
     ]
    },
    {
     "cell_type": "code",
     "collapsed": false,
     "input": [
      "import math\n",
      "# Determine the safe gross load (factor of safety of 3) that the footing can carry\n",
      "B=1.2\n",
      "L=1.2\n",
      "c=32.\n",
      "C=0.\n",
      "Df=1.\n",
      "G=16.\n",
      "Nq=23.18\n",
      "Ng=22.02\n",
      "Nc=1.\n",
      "Lqs=1.+0.1*B*(math.tan(61./57.3)**2.)/L\n",
      "Lgs=Lqs\n",
      "Lqd=1.+0.1*Df*math.tan(61./57.3)/B\n",
      "Lgd=Lqd\n",
      "Lcs=1.\n",
      "Lcd=1.\n",
      "Gs=19.5\n",
      "q=0.5*G+0.5*(Gs-9.81)\n",
      "Qu= C*Lcs*Lcd*Nc+q*Lqs*Lqd*Nq+(Gs-9.81)*Lgs*Lgd*B*Ng/2.\n",
      "Qa=Qu/3.\n",
      "Q=Qa*B**2.\n",
      "print'%s %.1f %s'%('the gross load = ',Q,' kN')\n"
     ],
     "language": "python",
     "metadata": {},
     "outputs": [
      {
       "output_type": "stream",
       "stream": "stdout",
       "text": [
        "the gross load =  311.6  kN\n"
       ]
      }
     ],
     "prompt_number": 3
    },
    {
     "cell_type": "heading",
     "level": 2,
     "metadata": {},
     "source": [
      "Ex4-pg601"
     ]
    },
    {
     "cell_type": "code",
     "collapsed": false,
     "input": [
      "import math\n",
      "#Determine the magnitude of the gross ultimate load applied eccentrically for bearing capacity failure in soil.\n",
      "e=0.1\n",
      "B=1.\n",
      "X=B-2.*e\n",
      "Y=1.5\n",
      "B1=0.8\n",
      "L1=1.5\n",
      "c=30.\n",
      "Df=1.\n",
      "Nq=18.4\n",
      "Ng=15.668\n",
      "q=1.*18.\n",
      "G=18.\n",
      "Lqs=1.+e*(B1/L1)*math.tan(60./57.3)**2.\n",
      "Lgs=Lqs\n",
      "Lqd=1.+e*(Df/B1)*math.tan(60./57.3)\n",
      "Lgd=Lqd\n",
      "qu=q*Lqs*Lqd*Nq+Lgs*Lgd*G*B1*Ng/2.\n",
      "Qu=qu*B1*L1\n",
      "print'%s %.1f %s'%('The magnitude of the gross ultimate load =',Qu,' kN')\n"
     ],
     "language": "python",
     "metadata": {},
     "outputs": [
      {
       "output_type": "stream",
       "stream": "stdout",
       "text": [
        "The magnitude of the gross ultimate load = 751.8  kN\n"
       ]
      }
     ],
     "prompt_number": 4
    },
    {
     "cell_type": "heading",
     "level": 2,
     "metadata": {},
     "source": [
      "Ex5-pg601"
     ]
    },
    {
     "cell_type": "code",
     "collapsed": false,
     "input": [
      "#determine the gross ultimate load per unit length that the foundation can carry.\n",
      "import math\n",
      "B=1.5\n",
      "Df=0.75\n",
      "e=0.1*B\n",
      "G=17.5\n",
      "c=30.\n",
      "C=0.\n",
      "q=G*Df\n",
      "Nq=18.4\n",
      "Ng=15.668\n",
      "Lqd=1.+0.1*(Df/B)*math.tan(60./57.3)\n",
      "Lgd=Lqd\n",
      "Quc=q*Nq*Lqd+Lgd*B*Ng/2.\n",
      "k=0.8\n",
      "a=1.754\n",
      "Qua=Quc*(1.-a*(e/B)**k)\n",
      "print'%s %.1f %s'%('The gross ultimate load per unit length = ',Qua,' kN')\n"
     ],
     "language": "python",
     "metadata": {},
     "outputs": [
      {
       "output_type": "stream",
       "stream": "stdout",
       "text": [
        "The gross ultimate load per unit length =  198.7  kN\n"
       ]
      }
     ],
     "prompt_number": 5
    },
    {
     "cell_type": "heading",
     "level": 2,
     "metadata": {},
     "source": [
      "Ex6-pg606"
     ]
    },
    {
     "cell_type": "code",
     "collapsed": false,
     "input": [
      "import math\n",
      "#Estimate the ultimate bearing capacity of a circular footing with a diameter of 1.5 m. The soil is sandy.\n",
      "Qup=280.\n",
      "Bp=0.7 ## in m\n",
      "Bf=1.5\n",
      "Quf=Qup*Bf/Bp\n",
      "print'%s %.1f %s'%('The ultimate bearing capacity = ',Quf,' kN/m^2')\n"
     ],
     "language": "python",
     "metadata": {},
     "outputs": [
      {
       "output_type": "stream",
       "stream": "stdout",
       "text": [
        "The ultimate bearing capacity =  600.0  kN/m^2\n"
       ]
      }
     ],
     "prompt_number": 7
    },
    {
     "cell_type": "heading",
     "level": 2,
     "metadata": {},
     "source": [
      "Ex7-pg606"
     ]
    },
    {
     "cell_type": "code",
     "collapsed": false,
     "input": [
      "#calculate the value of Cv\n",
      "import math\n",
      "#Determine the size of a square column foundation that should carry a load of 2500 kN with a maximum settlement of 25 mm.\n",
      "a=2500.\n",
      "##doing for the first values only\n",
      "Bf=4.\n",
      "Bp=0.305\n",
      "q=a/Bf**2.\n",
      "Sep=4.\n",
      "Sef=Sep*(2.*Bf/(Bf+Bp))**2\n",
      "print'%s %.1f %s'%('Sef = ',Sef,' mm')\n",
      "import math\n",
      "%matplotlib inline\n",
      "import warnings\n",
      "warnings.filterwarnings('ignore')\n",
      "import numpy\n",
      "from math import tan\n",
      "import matplotlib\n",
      "from matplotlib import pyplot\n",
      "#given\n",
      "t=numpy.array([.02,.1,.25,.5,1,2.,4.,8.,16.,30.,60.,120.,240.,480.,960.,1440.])\n",
      "gauge=numpy.array([3975.,4082.,4102.,4128.,4166.,4224.,4298.,4420.,4572.,4737.,4923.,5080.,5207.,5283.,5334.,5364.])\n",
      "Hdr=2.24\n",
      "t50=19.\n",
      "#calculations\n",
      "Cv=.197*(Hdr/2)**2 /t50/60.\n",
      "leng=len(t)\n",
      "logt=numpy.zeros(leng)\n",
      "for i in range(0,leng):\n",
      "\tlogt[i]=math.log(t[i])\n",
      "\n",
      "#results\n",
      "print'%s %.4f %s'%('The value of Cv (cm^2/sec) = ',Cv,'')\n",
      "pyplot.plot(logt,gauge)\n",
      "pyplot.xlabel('Time(min) - log scale')\n",
      "pyplot.ylabel('Dial reading (cm)')\n",
      "pyplot.title('Graph of dial reading vs time')\n",
      "pyplot.show()\n"
     ],
     "language": "python",
     "metadata": {},
     "outputs": [
      {
       "output_type": "stream",
       "stream": "stdout",
       "text": [
        "Sef =  13.8  mm\n",
        "The value of Cv (cm^2/sec) =  0.0002 \n"
       ]
      },
      {
       "metadata": {},
       "output_type": "display_data",
       "png": "[encoded data removed]",
       "text": [
        "<matplotlib.figure.Figure at 0x54c9290>"
       ]
      }
     ],
     "prompt_number": 2
    }
   ],
   "metadata": {}
  }
 ]
}