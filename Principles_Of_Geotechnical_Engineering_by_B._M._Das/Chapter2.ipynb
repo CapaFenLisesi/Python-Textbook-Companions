{
 "metadata": {
  "name": "",
  "signature": "sha256:5e11f0622a3e8a49d45f7bf47ce2fb320225cef1a5e74b45071c152843296e82"
 },
 "nbformat": 3,
 "nbformat_minor": 0,
 "worksheets": [
  {
   "cells": [
    {
     "cell_type": "heading",
     "level": 1,
     "metadata": {},
     "source": [
      "Chapter2-Origin of Soil and Grain Size"
     ]
    },
    {
     "cell_type": "heading",
     "level": 2,
     "metadata": {},
     "source": [
      "Ex1-pg44"
     ]
    },
    {
     "cell_type": "code",
     "collapsed": false,
     "input": [
      "#calculate the values and plot the graph\n",
      "%matplotlib inline\n",
      "import warnings\n",
      "warnings.filterwarnings('ignore')\n",
      "import math\n",
      "\n",
      "from math import log\n",
      "import numpy\n",
      "from math import tan\n",
      "import matplotlib\n",
      "from matplotlib import pyplot\n",
      "#given\n",
      "e=numpy.array([100,94.5,86.3,74.1,54.9,38.1,9.3,1.7,0])\n",
      "p=numpy.array([4.75,2.00,0.850,0.425,0.250,0.180,0.150,0.075,0])\n",
      "\n",
      "#calculations\n",
      "\n",
      "\n",
      "#results\n",
      "\n",
      "pyplot.plot(p,e)\n",
      "pyplot.xlabel('Particle size ')\n",
      "pyplot.ylabel('percent finer ,e')\n",
      "pyplot.title('Graph of particle size vs percent finer')\n",
      "pyplot.show()\n",
      "print('look at the axis reverse in text book')"
     ],
     "language": "python",
     "metadata": {},
     "outputs": [
      {
       "metadata": {},
       "output_type": "display_data",
       "png": "[encoded data removed]",
       "text": [
        "<matplotlib.figure.Figure at 0x5464ab0>"
       ]
      },
      {
       "output_type": "stream",
       "stream": "stdout",
       "text": [
        "look at the axis reverse in text book\n"
       ]
      }
     ],
     "prompt_number": 2
    },
    {
     "cell_type": "heading",
     "level": 2,
     "metadata": {},
     "source": [
      "Ex2-pg45"
     ]
    },
    {
     "cell_type": "code",
     "collapsed": false,
     "input": [
      "#calculate uniformity coefficient and coefficient of gradation\n",
      "##initialisation of variables\n",
      "##from graph\n",
      "d= 0.15 ##mm\n",
      "w= 0.17 ##mm\n",
      "a= 0.27 ##mm\n",
      "##calculations\n",
      "C= a/d\n",
      "c= w**2/(a*d)\n",
      "##results\n",
      "print'%s %.1f %s'%('uniformity coefficient = ',C,\"\")\n",
      "print'%s %.2f %s'% ('coefficient of gradation = ',c,' ')\n"
     ],
     "language": "python",
     "metadata": {},
     "outputs": [
      {
       "output_type": "stream",
       "stream": "stdout",
       "text": [
        "uniformity coefficient =  1.8 \n",
        "coefficient of gradation =  0.71  \n"
       ]
      }
     ],
     "prompt_number": 1
    }
   ],
   "metadata": {}
  }
 ]
}