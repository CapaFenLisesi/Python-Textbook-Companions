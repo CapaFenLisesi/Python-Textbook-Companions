{
 "metadata": {
  "name": "",
  "signature": "sha256:0e1b8f59fb3a5d8de0f3a9b8d0a65d58dfc4a0a36944d60860dc12f3ce3b3032"
 },
 "nbformat": 3,
 "nbformat_minor": 0,
 "worksheets": [
  {
   "cells": [
    {
     "cell_type": "heading",
     "level": 1,
     "metadata": {},
     "source": [
      "Chapter13-Lateral Earth Pressure: At-Rest, Rankine, and Coulomb"
     ]
    },
    {
     "cell_type": "heading",
     "level": 2,
     "metadata": {},
     "source": [
      "Ex1-430"
     ]
    },
    {
     "cell_type": "code",
     "collapsed": false,
     "input": [
      "import math\n",
      "#Calculate the lateral force Poper unit length of the wall. Also, determine the location ofthe resultant force. Assume that for sand OCR\u00012\n",
      "OCR=2.\n",
      "a=30.\n",
      "Ko=(1.-math.sin(a/57.3))*(OCR)**math.sin(a/57.3)\n",
      "##at z=0\n",
      "To1=0.\n",
      "Th1=0.\n",
      "u1=0.\n",
      "##at z=10\n",
      "To2=10.*100.\n",
      "Th2=Ko*To2\n",
      "u2=0.\n",
      "##at z=15\n",
      "To3= 10.*100.+5.*(122.4-62.4)\n",
      "Th3=Ko*To3\n",
      "u3=5.*62.4\n",
      "##Lateral force Po =Area 1 +\u0007 Area 2+\u0007 Area3+\u0007 Area 4\n",
      "Po =(1./2.)*10.*707.+5.*707.+(1./2.)*5.*212.1+(1/2.)*5.*312.\n",
      "z=((3535.)*(5.+10./3.)+3535.*(5./2.)+530.3*(5./3.)+780.*(5./3.))/Po\n",
      "print'%s %.1f %s'%('z = ',z,' ft')\n"
     ],
     "language": "python",
     "metadata": {},
     "outputs": [
      {
       "output_type": "stream",
       "stream": "stdout",
       "text": [
        "z =  4.8  ft\n"
       ]
      }
     ],
     "prompt_number": 7
    },
    {
     "cell_type": "heading",
     "level": 2,
     "metadata": {},
     "source": [
      "Ex2-pg449"
     ]
    },
    {
     "cell_type": "code",
     "collapsed": false,
     "input": [
      "import math\n",
      "#a.Rankine active force per unit length of the wall and the location of theresultant\n",
      "#b.Rankine passive force per unit length of the wall and the location of the resultant\n",
      "##c=0\n",
      "a=36.\n",
      "G=16.\n",
      "Ka=(1.-math.sin(a/57.3))/(1.+math.sin(a/57.3))\n",
      "##at z=0 Tp=0\n",
      "z=6.\n",
      "To=G*z\n",
      "Ta=Ka*To\n",
      "Pa=z*Ta/2.\n",
      "\n",
      "print'%s %.1f %s'%('a)Rankine active force per unit length of the wall = ',Pa,' kN/m')\n",
      "print(' and the location of the resultant is z = 2m')\n",
      "\n",
      "\n",
      "p=36.\n",
      "G=16.\n",
      "Kp=(1+math.sin(a/57.3))/(1-math.sin(a/57.3))\n",
      "##at z=0 Tp=0\n",
      "z=6.\n",
      "To=G*z\n",
      "Tp=Kp*To\n",
      "Pp=z*Tp/2.\n",
      "\n",
      "print'%s %.1f %s'%(' b)Rankine passive force per unit length of the wall = ',Pp,' kN/m')\n",
      "print (' and the location of the resultant is z = 2m')\n",
      "\n"
     ],
     "language": "python",
     "metadata": {},
     "outputs": [
      {
       "output_type": "stream",
       "stream": "stdout",
       "text": [
        "a)Rankine active force per unit length of the wall =  74.8  kN/m\n",
        " and the location of the resultant is z = 2m\n",
        " b)Rankine passive force per unit length of the wall =  1109.2  kN/m\n",
        " and the location of the resultant is z = 2m\n"
       ]
      }
     ],
     "prompt_number": 8
    },
    {
     "cell_type": "heading",
     "level": 2,
     "metadata": {},
     "source": [
      "Ex3-pg450"
     ]
    },
    {
     "cell_type": "code",
     "collapsed": false,
     "input": [
      "import math\n",
      "#Determine the active force Paperunit length of the wall as well as the location and direction of the resultant.\n",
      "H=12.\n",
      "a=20.\n",
      "b=20.\n",
      "G=115.\n",
      "c=30.\n",
      "Oa= math.asin(math.sin(a/57.3)/math.sin(c/57.3))*57.3-a+2.*b\n",
      "Ka= (math.cos((a-b)/57.3)*math.sqrt(1.+(math.sin(c/57.3))**2.-2.*math.sin(c/57.3)*math.cos(Oa/57.3)))/((math.cos(b/57.3))**2.*(math.cos(a/57.3)+math.sqrt((math.sin(c/57.3))**2.-(math.sin(a/57.3))**2)))\n",
      "Pa=G*H**2.*Ka/2.\n",
      "B= math.atan((math.sin(c/57.3)*math.sin(Oa/57.3))/(1.-(math.sin(c/57.3)*math.cos(Oa/57.3))))*57.3\n",
      "print'%s %.1f %s'%('The active force Pa per unit length of the wall = ',Pa,' lb/ft')\n",
      "print'%s %.1f %s'%( ' The resultant will act a distance of 12/3 = 4 ft above the bottom of the wall with B = ',B,' degree')\n"
     ],
     "language": "python",
     "metadata": {},
     "outputs": [
      {
       "output_type": "stream",
       "stream": "stdout",
       "text": [
        "The active force Pa per unit length of the wall =  6423.5  lb/ft\n",
        " The resultant will act a distance of 12/3 = 4 ft above the bottom of the wall with B =  30.0  degree\n"
       ]
      }
     ],
     "prompt_number": 9
    },
    {
     "cell_type": "heading",
     "level": 2,
     "metadata": {},
     "source": [
      "Ex4-pg451"
     ]
    },
    {
     "cell_type": "code",
     "collapsed": false,
     "input": [
      "import math\n",
      "#determine the force per unit length of the wall for Rankine\u2019s active state. Also find the location of the resultant.\n",
      "a=30.\n",
      "Ka1=(1.-math.sin(a/57.3))/(1.+math.sin(a/57.3))\n",
      "a=35.\n",
      "Ka2=(1-math.sin(a/57.3))/(1+math.sin(a/57.3))\n",
      "##at z=0 so T0=0\n",
      "##atz=3\n",
      "To=3.*16.\n",
      "Ta1=Ka1*To\n",
      "Ta2=Ka2*To\n",
      "\n",
      "## At z=6\n",
      "To=3.*16.+3.*(18.-9.81)\n",
      "Ta2=Ka2*To\n",
      "\n",
      "Pa =(1/2.)*3.*16.+3.*13.0+ (1/2.)*3.*36.1\n",
      "z= (24 *(3.+3./3.)+39.0*(3/2.)+54.15*(3/3.))/Pa\n",
      "print'%s %.1f %s'%('The force per unit length of the wall = ',Pa,' kN/m')\n",
      "print'%s %.1f %s'% (' The location of the resultant = ',z,'m ')\n"
     ],
     "language": "python",
     "metadata": {},
     "outputs": [
      {
       "output_type": "stream",
       "stream": "stdout",
       "text": [
        "The force per unit length of the wall =  117.2  kN/m\n",
        " The location of the resultant =  1.8 m \n"
       ]
      }
     ],
     "prompt_number": 10
    },
    {
     "cell_type": "heading",
     "level": 2,
     "metadata": {},
     "source": [
      "Ex5-pg453"
     ]
    },
    {
     "cell_type": "code",
     "collapsed": false,
     "input": [
      "import math\n",
      "#a.Maximum depth of the tensile crack\n",
      "#b.Pabefore the tensile crack occurs\n",
      "#c. Pa after the tensile crack occurs\n",
      "Ka= (math.tan(1./57.3))**2.\n",
      "G=16.5\n",
      "cu=10.\n",
      "H=6.\n",
      "##at z=0\n",
      "z=0.\n",
      "Ta=G*z-2.*cu\n",
      "##zt z=6\n",
      "z=6.\n",
      "Ta=G*z-2.*cu\n",
      "\n",
      "zo=2.*cu/G\n",
      "## Before the tensile crack occurs\n",
      "Pa= G*H**2./2. - 2.*cu*H\n",
      "print'%s %.1f %s'%('Pa before the tensile crack occurs = ',Pa,' kN/m')\n",
      "##After the tensile crack occurs\n",
      "Pa=(H-zo)*Ta/2.\n",
      "print'%s %.1f %s'%(' Pa after the tensile crack occurs = ',Pa,' kN/m')\n"
     ],
     "language": "python",
     "metadata": {},
     "outputs": [
      {
       "output_type": "stream",
       "stream": "stdout",
       "text": [
        "Pa before the tensile crack occurs =  177.0  kN/m\n",
        " Pa after the tensile crack occurs =  189.1  kN/m\n"
       ]
      }
     ],
     "prompt_number": 11
    },
    {
     "cell_type": "heading",
     "level": 2,
     "metadata": {},
     "source": [
      "Ex6-pg457"
     ]
    },
    {
     "cell_type": "code",
     "collapsed": false,
     "input": [
      "import math\n",
      "#Determine the Rankine active force Paon the retaining wall after the tensile crack occurs.\n",
      "H=15.\n",
      "a=10.\n",
      "G=118.\n",
      "b=20.\n",
      "C=250\n",
      "Zo=2.*C*math.sqrt((1+math.sin(b/57.3))/(1.-math.sin(b/57.3)))/G\n",
      "##at z=0 Ta=0\n",
      "##at z=15 \n",
      "z=15.\n",
      "K=0.3\n",
      "Ta=G*z*K*math.cos(a/57.3)\n",
      "Pa=(H -Zo)*Ta/2.\n",
      "print'%s %.1f %s'%('The Rankine active force Pa on the retaining wall after the tensile crack occurs = ',Pa,' lb/ft')\n"
     ],
     "language": "python",
     "metadata": {},
     "outputs": [
      {
       "output_type": "stream",
       "stream": "stdout",
       "text": [
        "The Rankine active force Pa on the retaining wall after the tensile crack occurs =  2339.8  lb/ft\n"
       ]
      }
     ],
     "prompt_number": 13
    },
    {
     "cell_type": "heading",
     "level": 2,
     "metadata": {},
     "source": [
      "Ex7-pg459"
     ]
    },
    {
     "cell_type": "code",
     "collapsed": false,
     "input": [
      "#Estimate the active force,Pa , per unit length of the wall. Also, state the direction and location of the resultant force,Pa.\n",
      "import math\n",
      "c=30.\n",
      "b=15.\n",
      "a=10.\n",
      "Ka=0.3872 ## from table 13.8\n",
      "H=4.\n",
      "G=15.\n",
      "Pa=G*H**2.*Ka/2.\n",
      "print'%s %.1f %s'%('The active force per unit length Pa = ',Pa,' kN/m')\n",
      "print(' The resultant will act at a vertical distance equal to H/3 = 4/3 = 1.33 m above ' ' the bottom of the wall and will be inclined at an angle of 15\u0005to the back face of the wall.')\n"
     ],
     "language": "python",
     "metadata": {},
     "outputs": [
      {
       "output_type": "stream",
       "stream": "stdout",
       "text": [
        "The active force per unit length Pa =  46.5  kN/m\n",
        " The resultant will act at a vertical distance equal to H/3 = 4/3 = 1.33 m above  the bottom of the wall and will be inclined at an angle of 15\u0005to the back face of the wall.\n"
       ]
      }
     ],
     "prompt_number": 14
    },
    {
     "cell_type": "heading",
     "level": 2,
     "metadata": {},
     "source": [
      "Ex9-pg478"
     ]
    },
    {
     "cell_type": "code",
     "collapsed": false,
     "input": [
      "import math\n",
      "#Determine Pae.Also determine the location of the resultant line of action of Pae\u2014that is, .\n",
      "kh=0.2\n",
      "kv=0.\n",
      "H=4.\n",
      "a=0.\n",
      "b=0.\n",
      "c=15.\n",
      "d=30.\n",
      "G=15.5\n",
      "B= math.atan(kh/(1-kv)/57.3)\n",
      "b1=b+B\n",
      "a1=a+B\n",
      "Ka=0.452\n",
      "Pa=G*H**2.*Ka/2.\n",
      "Pae=Pa*(1.-kv)*((math.cos(b1/57.3))**2./((math.cos(b/57.3))**2.*(math.cos(B/57.3))**2.))\n",
      "Ka=0.3014\n",
      "Pa=G*H**2*Ka/2.\n",
      "P1=Pae-Pa\n",
      "z= ((Pa*H/3)+P1*0.6*H)/Pae\n",
      "print'%s %.1f %s'%('Pae = ',Pae,' kN/m')\n",
      "print'%s %.1f %s'%(' Z = ',z,' m')\n"
     ],
     "language": "python",
     "metadata": {},
     "outputs": [
      {
       "output_type": "stream",
       "stream": "stdout",
       "text": [
        "Pae =  56.0  kN/m\n",
        " Z =  1.7  m\n"
       ]
      }
     ],
     "prompt_number": 15
    },
    {
     "cell_type": "heading",
     "level": 2,
     "metadata": {},
     "source": [
      "Ex10-pg479"
     ]
    },
    {
     "cell_type": "code",
     "collapsed": false,
     "input": [
      "import math\n",
      "#Determine the magnitude of the active force,Pae.\n",
      "H=28.\n",
      "C=210.\n",
      "b=10.\n",
      "G=118.\n",
      "c=20.\n",
      "kh=0.1\n",
      "Ka=math.tan(35./57.3)\n",
      "zo=2.*C/(G*(Ka))\n",
      "n=zo/(H-zo)\n",
      "Nac=1.60\n",
      "Nav=0.375\n",
      "L=1.17\n",
      "Pae= G*(H-zo)**2*(L*Nav)-C*(H-zo)*Nac\n",
      "print'%s %.1f %s'%('The magnitude of the active force, Pae = ',Pae,' lb/ft')\n"
     ],
     "language": "python",
     "metadata": {},
     "outputs": [
      {
       "output_type": "stream",
       "stream": "stdout",
       "text": [
        "The magnitude of the active force, Pae =  19488.8  lb/ft\n"
       ]
      }
     ],
     "prompt_number": 16
    }
   ],
   "metadata": {}
  }
 ]
}