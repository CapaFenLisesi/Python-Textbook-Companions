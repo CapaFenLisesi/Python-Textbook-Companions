{
 "metadata": {
  "name": "",
  "signature": "sha256:4c2cef1cd7673363b2ef6cb15cb908c88921a9f728253dd7a799bca223f736c1"
 },
 "nbformat": 3,
 "nbformat_minor": 0,
 "worksheets": [
  {
   "cells": [
    {
     "cell_type": "heading",
     "level": 1,
     "metadata": {},
     "source": [
      "Chapter15-Slope Stability"
     ]
    },
    {
     "cell_type": "heading",
     "level": 2,
     "metadata": {},
     "source": [
      "Ex1-pg518"
     ]
    },
    {
     "cell_type": "code",
     "collapsed": false,
     "input": [
      "import math\n",
      "#a.The factor of safety against sliding along the soil-rock interface.\n",
      "#b.The height,H, that will give a factor of safety (Fs) of 2 against sliding alongthe soil-rock interface.\n",
      "Gs=17.8\n",
      "Gw=9.81\n",
      "C=10.\n",
      "c=20.\n",
      "b=15.\n",
      "H=6.\n",
      "G=Gs-Gw\n",
      "Fs= C/(Gs*H*math.cos(b/57.3)*math.cos(b/57.3)*math.tan(b/57.3))+G*math.tan(c/57.3)/(Gs*math.tan(b/57.3))\n",
      "print'%s %.2f %s'%('a)The factor of safety = ',Fs,' ')\n",
      "Fs=2.\n",
      "H=2.247/(Fs-0.61)\n",
      "print'%s %.2f %s'%(' b)H= ',H,' m')\n"
     ],
     "language": "python",
     "metadata": {},
     "outputs": [
      {
       "output_type": "stream",
       "stream": "stdout",
       "text": [
        "a)The factor of safety =  0.98  \n",
        " b)H=  1.62  m\n"
       ]
      }
     ],
     "prompt_number": 2
    },
    {
     "cell_type": "heading",
     "level": 2,
     "metadata": {},
     "source": [
      "Ex3-pg529"
     ]
    },
    {
     "cell_type": "code",
     "collapsed": false,
     "input": [
      "import math\n",
      "#a.Determine the maximum depth up to which the excavation can be carried out.\n",
      "#b.Find the radius,r, of the critical circle when the factor of safety is equal to 1(Part a).\n",
      "#c. Find the distance  . BC\n",
      "Cu=40.\n",
      "G=17.5\n",
      "b=60.\n",
      "a=35.\n",
      "c=72.5\n",
      "m=0.195\n",
      "Hc=Cu/(G*m)\n",
      "r=Hc/(2.*math.sin(a/57.3)*math.sin((c/2)/57.3))\n",
      "BC=Hc*((1./math.tan(a/57.3))-(1./math.tan(b/57.3)))\n",
      "print'%s %.1f %s'%('a)The maximum depth Hc = ',Hc,' m')\n",
      "print'%s %.2f %s'%(' b)The radius, r = ',r,' m')\n",
      "print'%s %.3f %s'%(' c)The distance BC.= ',BC,' m')\n"
     ],
     "language": "python",
     "metadata": {},
     "outputs": [
      {
       "output_type": "stream",
       "stream": "stdout",
       "text": [
        "a)The maximum depth Hc =  11.7  m\n",
        " b)The radius, r =  17.28  m\n",
        " c)The distance BC.=  9.973  m\n"
       ]
      }
     ],
     "prompt_number": 3
    },
    {
     "cell_type": "heading",
     "level": 2,
     "metadata": {},
     "source": [
      "Ex4-pg531"
     ]
    },
    {
     "cell_type": "code",
     "collapsed": false,
     "input": [
      "import math\n",
      "#a.Determine the undrained cohesion of the clay (Figure 15.13).\n",
      "#b.What was the nature of the critical circle?\n",
      "#c. With reference to the toe of the slope, at what distance did the surface of sliding intersect the bottom of the excavation?\n",
      "Gs=17.29\n",
      "d=9.15\n",
      "d1=6.1\n",
      "D=d/d1\n",
      "a=40.\n",
      "m=0.175\n",
      "b=40.\n",
      "H=6.1\n",
      "Cu=H*Gs*m\n",
      "print'%s %.1f %s'%('a)The undrained cohesion of the clay Cu = ',Cu,' kN/m^2')\n",
      "print(' b)The nature of the critical circle is midpointcircle')\n",
      "d=1.5\n",
      "b=40.\n",
      "n=0.9\n",
      "D1=n*H\n",
      "print'%s %.1f %s'%(' c)Distance = ',D1,' m')\n"
     ],
     "language": "python",
     "metadata": {},
     "outputs": [
      {
       "output_type": "stream",
       "stream": "stdout",
       "text": [
        "a)The undrained cohesion of the clay Cu =  18.5  kN/m^2\n",
        " b)The nature of the critical circle is midpointcircle\n",
        " c)Distance =  5.5  m\n"
       ]
      }
     ],
     "prompt_number": 1
    },
    {
     "cell_type": "heading",
     "level": 2,
     "metadata": {},
     "source": [
      "Ex5-pg534"
     ]
    },
    {
     "cell_type": "code",
     "collapsed": false,
     "input": [
      "import math\n",
      "#a.Determine the maximum depth up to which the cut could be made.\n",
      "#b.How deep should the cut be made if a factor of safety of 2 against sliding is required\n",
      "Fs=1.\n",
      "b=56.\n",
      "Kh=0.25\n",
      "M=3.66\n",
      "Cu=500.\n",
      "G=100.\n",
      "Hc=Cu*M/G\n",
      "print'%s %.1f %s'%('a)The maximum depth =',Hc,' ft')\n",
      "Fs=2.\n",
      "H=Cu*M/(G*Fs)\n",
      "print'%s %.1f %s'%(' b)H= ',H,' ft')\n"
     ],
     "language": "python",
     "metadata": {},
     "outputs": [
      {
       "output_type": "stream",
       "stream": "stdout",
       "text": [
        "a)The maximum depth = 18.3  ft\n",
        " b)H=  9.2  ft\n"
       ]
      }
     ],
     "prompt_number": 5
    },
    {
     "cell_type": "heading",
     "level": 2,
     "metadata": {},
     "source": [
      "Ex6-pg541"
     ]
    },
    {
     "cell_type": "code",
     "collapsed": false,
     "input": [
      "import math\n",
      "#a.Find the critical height of the slope.\n",
      "#b.If the height of the slope is 10 m, determine the factor of safety with respect to strength.\n",
      "b=45.\n",
      "c=20.\n",
      "C=24.\n",
      "G=18.9\n",
      "m=0.06\n",
      "Hc=C/(G*m)\n",
      "Cd=G*Hc*m\n",
      "Fc=C/Cd\n",
      "print'%s %.1f %s'%('a)Critical height of slope = ',Hc,'')\n",
      "#calculate the factor of safety using spencers solution\n",
      "import math\n",
      "%matplotlib inline\n",
      "import warnings\n",
      "warnings.filterwarnings('ignore')\n",
      "import numpy\n",
      "from math import tan\n",
      "import matplotlib\n",
      "from matplotlib import pyplot\n",
      "phid=numpy.array([20,15,10,5])*math.pi/180.\n",
      "mx=numpy.array([.06,.083,.105,.136])\n",
      "cdx=numpy.array([11.34,15.69,19.85,25.7])\n",
      "m=.06\n",
      "g=18.9\n",
      "cd=24.\n",
      "#calculations\n",
      "Hcr=cd/g/m\n",
      "leng=len(phid)\n",
      "Fcd=numpy.zeros(leng)\n",
      "Fphi=numpy.zeros(leng)\n",
      "tanphid=numpy.zeros(leng)\n",
      "for i in range(0,leng):\n",
      "\ttanphid[i]=math.tan(phid[i])\n",
      "\tFphi[i]= tan(phid[0])/tan(phid[i])\n",
      "\tFcd[i]=cd/cdx[i]\n",
      "\n",
      "\n",
      "#results\n",
      "print'%s %.2f %s'%('The value of Hcr (in m) = ',Hcr,'')\n",
      "print 'from graph, Fss=1.4'\n",
      "pyplot.plot(Fcd,Fphi)\n",
      "pyplot.xlabel('Fc assumed')\n",
      "pyplot.ylabel('Fc calculated')\n",
      "pyplot.title('Graph of Fc assumed vs Fc calculated')\n",
      "pyplot.show()\n"
     ],
     "language": "python",
     "metadata": {},
     "outputs": [
      {
       "output_type": "stream",
       "stream": "stdout",
       "text": [
        "a)Critical height of slope =  21.2 \n",
        "The value of Hcr (in m) =  21.16 \n",
        "from graph, Fss=1.4\n"
       ]
      },
      {
       "metadata": {},
       "output_type": "display_data",
       "png": "[encoded data removed]",
       "text": [
        "<matplotlib.figure.Figure at 0x2d2ff30>"
       ]
      }
     ],
     "prompt_number": 3
    },
    {
     "cell_type": "heading",
     "level": 2,
     "metadata": {},
     "source": [
      "Ex7-pg544"
     ]
    },
    {
     "cell_type": "code",
     "collapsed": false,
     "input": [
      "# using Michalowski\u2019s solution.\n",
      "import math\n",
      "FSs=1.\n",
      "c=20.\n",
      "G=18.9\n",
      "C=24.\n",
      "Hcr=C/(G*math.tan(c/57.3)*0.17)\n",
      "print'%s %.1f %s'%('a)Critical height Hc = ',Hcr,' m')\n",
      "H=10.\n",
      "k=C/(G*H*math.tan(c/57.3))\n",
      "Fs=4.*math.tan(c/57.3)\n",
      "print'%s %.1f %s'%(' b)Fs = ',Fs,'')\n"
     ],
     "language": "python",
     "metadata": {},
     "outputs": [
      {
       "output_type": "stream",
       "stream": "stdout",
       "text": [
        "a)Critical height Hc =  20.5  m\n",
        " b)Fs =  1.5 \n"
       ]
      }
     ],
     "prompt_number": 7
    },
    {
     "cell_type": "heading",
     "level": 2,
     "metadata": {},
     "source": [
      "Ex8-pg560"
     ]
    },
    {
     "cell_type": "code",
     "collapsed": false,
     "input": [
      "import math\n",
      "# Determine the factor ofsafety,Fs . Use Table 15.3.\n",
      "W=22.4\n",
      "C=20.\n",
      "a=70.\n",
      "s=math.sin(a/57.3)\n",
      "c=math.cos(a/57.3)\n",
      "l=2.924\n",
      "Wn=W*s\n",
      "Wn1=W*c\n",
      "##doing this to all values\n",
      "F1=30.501\n",
      "F2=776.75\n",
      "F3=1638.\n",
      "Fs=(F1*C+F3*math.tan(C/57.3))/F2\n",
      "print'%s %.2f %s'%('Fs = ',Fs,'')\n"
     ],
     "language": "python",
     "metadata": {},
     "outputs": [
      {
       "output_type": "stream",
       "stream": "stdout",
       "text": [
        "Fs =  1.55 \n"
       ]
      }
     ],
     "prompt_number": 8
    },
    {
     "cell_type": "heading",
     "level": 2,
     "metadata": {},
     "source": [
      "Ex9-pg560"
     ]
    },
    {
     "cell_type": "code",
     "collapsed": false,
     "input": [
      "import math\n",
      "#using Michalowski\u2019s solution\n",
      "C=20.\n",
      "G=18.5\n",
      "r=0.25\n",
      "H=21.62\n",
      "C=25.\n",
      "b= math.atan(0.5)\n",
      "##from table 15.3 \n",
      "m=1.624\n",
      "n=1.338\n",
      "Fs=m-n*r\n",
      "print'%s %.1f %s'%(' The value of Fs for D= 1 is',Fs,'')\n"
     ],
     "language": "python",
     "metadata": {},
     "outputs": [
      {
       "output_type": "stream",
       "stream": "stdout",
       "text": [
        " The value of Fs for D= 1 is 1.3 \n"
       ]
      }
     ],
     "prompt_number": 9
    },
    {
     "cell_type": "heading",
     "level": 2,
     "metadata": {},
     "source": [
      "Ex10-pg561"
     ]
    },
    {
     "cell_type": "code",
     "collapsed": false,
     "input": [
      "#calculate the factor of safety using spencers solution\n",
      "import math\n",
      "%matplotlib inline\n",
      "import warnings\n",
      "warnings.filterwarnings('ignore')\n",
      "import numpy\n",
      "from math import tan\n",
      "import matplotlib\n",
      "from matplotlib import pyplot\n",
      "beta=numpy.array([26.57,26.57,26.57,26.57])\n",
      "Fs=numpy.array([1.1,1.2,1.3,1.4])\n",
      "phid=25*math.pi/180. #degrees\n",
      "#calculations\n",
      "print 'From spencers graphs,'\n",
      "cd=numpy.array([0.0455,0.0417,0.0385,0.0357])\n",
      "phia=numpy.array([18.,19.,20.,21.])*math.pi/180.\n",
      "leng=len(phia)\n",
      "Fss=numpy.zeros(leng)\n",
      "for i in range(0,leng):\n",
      "\tFss[i]= tan(phid)/tan(phia[i])\n",
      "\n",
      "#results\n",
      "print 'From graph, a footing of dimensions Fs=1.3'\n",
      "pyplot.plot(Fs,Fss)\n",
      "pyplot.xlabel('Fs assumed')\n",
      "pyplot.ylabel('Fs calculated')\n",
      "pyplot.title('Graph of Fs assumed vs Fs calculated')\n",
      "pyplot.show()"
     ],
     "language": "python",
     "metadata": {},
     "outputs": [
      {
       "output_type": "stream",
       "stream": "stdout",
       "text": [
        "From spencers graphs,\n",
        "From graph, a footing of dimensions Fs=1.3\n"
       ]
      },
      {
       "metadata": {},
       "output_type": "display_data",
       "png": "[encoded data removed]",
       "text": [
        "<matplotlib.figure.Figure at 0x5567810>"
       ]
      }
     ],
     "prompt_number": 2
    },
    {
     "cell_type": "heading",
     "level": 2,
     "metadata": {},
     "source": [
      "Ex11-pg561"
     ]
    },
    {
     "cell_type": "code",
     "collapsed": false,
     "input": [
      "import math\n",
      "#using Michalowski\u2019s solution\n",
      "C=20.\n",
      "G=18.5\n",
      "H=21.62\n",
      "c=25.\n",
      "r=0.25\n",
      "Fs=3.1*math.tan(c/57.3)\n",
      "print'%s %.1f %s'%('Fs = ',Fs,'')\n"
     ],
     "language": "python",
     "metadata": {},
     "outputs": [
      {
       "output_type": "stream",
       "stream": "stdout",
       "text": [
        "Fs =  1.4 \n"
       ]
      }
     ],
     "prompt_number": 10
    }
   ],
   "metadata": {}
  }
 ]
}