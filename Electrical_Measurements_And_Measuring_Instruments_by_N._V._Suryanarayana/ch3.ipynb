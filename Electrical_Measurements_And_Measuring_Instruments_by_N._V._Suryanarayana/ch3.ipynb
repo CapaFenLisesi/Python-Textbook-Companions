{
 "metadata": {
  "name": "",
  "signature": ""
 },
 "nbformat": 3,
 "nbformat_minor": 0,
 "worksheets": [
  {
   "cells": [
    {
     "cell_type": "heading",
     "level": 1,
     "metadata": {},
     "source": [
      "Chapter3 - Principal of Electrical Measurement & Measuring Instruments"
     ]
    },
    {
     "cell_type": "heading",
     "level": 2,
     "metadata": {},
     "source": [
      "Exa 3.1 page 85"
     ]
    },
    {
     "cell_type": "code",
     "collapsed": false,
     "input": [
      "from __future__ import division\n",
      "from math import asin, pi\n",
      "print 'For spring controlled Tc is proportional to theta'\n",
      "theta=90*(3/5)**2 \n",
      "print \"Deflection for spring controlled instrument=%.2f degree\"%(theta)\n",
      "print 'For gravity controlled Tc is proportional to sin(theta)'\n",
      "theta=asin((3/5)**2)*180/pi \n",
      "print \"Deflection for gravity controlled instrument=%.2f degree\"%(theta)"
     ],
     "language": "python",
     "metadata": {},
     "outputs": [
      {
       "output_type": "stream",
       "stream": "stdout",
       "text": [
        "For spring controlled Tc is proportional to theta\n",
        "Deflection for spring controlled instrument=32.40 degree\n",
        "For gravity controlled Tc is proportional to sin(theta)\n",
        "Deflection for gravity controlled instrument=21.10 degree\n"
       ]
      }
     ],
     "prompt_number": 13
    },
    {
     "cell_type": "heading",
     "level": 2,
     "metadata": {},
     "source": [
      "Exa 3.2 page 85"
     ]
    },
    {
     "cell_type": "code",
     "collapsed": false,
     "input": [
      "I=1000 \n",
      "Ia=50*10**-3 \n",
      "Is=I-Ia \n",
      "Ra=10 \n",
      "Va=Ia*Ra \n",
      "Rs=10*Va/Is \n",
      "print \"The shunt resistance=%.2f ohm\"%(Rs)"
     ],
     "language": "python",
     "metadata": {},
     "outputs": [
      {
       "output_type": "stream",
       "stream": "stdout",
       "text": [
        "The shunt resistance=0.01 ohm\n"
       ]
      }
     ],
     "prompt_number": 14
    },
    {
     "cell_type": "heading",
     "level": 2,
     "metadata": {},
     "source": [
      "Exa 3.3 page 85"
     ]
    },
    {
     "cell_type": "code",
     "collapsed": false,
     "input": [
      "Is=150*10**-6 \n",
      "I=50*10**-6 \n",
      "R=4*10**3 \n",
      "Rt=R*I/Is \n",
      "print \"the value of total resistance=%.2f ohm\"%(Rt)"
     ],
     "language": "python",
     "metadata": {},
     "outputs": [
      {
       "output_type": "stream",
       "stream": "stdout",
       "text": [
        "the value of total resistance=1333.33 ohm\n"
       ]
      }
     ],
     "prompt_number": 15
    },
    {
     "cell_type": "heading",
     "level": 2,
     "metadata": {},
     "source": [
      "Exa 3.4 page 86"
     ]
    },
    {
     "cell_type": "code",
     "collapsed": false,
     "input": [
      "V=1 \n",
      "R=2*10**3 \n",
      "I=(V/R)*1000 \n",
      "print \"Actual current=%.2f mA\"%(I)\n",
      "Rm=1000 \n",
      "Rt=R+Rm \n",
      "I=(V/Rt)*1000 \n",
      "print \"Current when Rm is 1000 ohm =%.2f mA\"%(I)\n",
      "Rm=100 \n",
      "Rt=R+Rm \n",
      "I=(V/Rt)*1000 \n",
      "print \"Current when Rm is 100 ohm =%.2f mA\"%(I)"
     ],
     "language": "python",
     "metadata": {},
     "outputs": [
      {
       "output_type": "stream",
       "stream": "stdout",
       "text": [
        "Actual current=0.50 mA\n",
        "Current when Rm is 1000 ohm =0.33 mA\n",
        "Current when Rm is 100 ohm =0.48 mA\n"
       ]
      }
     ],
     "prompt_number": 16
    },
    {
     "cell_type": "heading",
     "level": 2,
     "metadata": {},
     "source": [
      "Exa 3.5 page 86"
     ]
    },
    {
     "cell_type": "code",
     "collapsed": false,
     "input": [
      "I=20 \n",
      "E_expected=2.5*I/100 \n",
      "print \"Expected error=+/-%.2f mA\"%(E_expected)\n",
      "print 'Actual reading for 5mA indication will be 4.5mA to 5.5mA'\n",
      "print 'Actual reading for 15mA indication will be 14.5mA to 15.5mA'\n",
      "E_5mA=(0.5/5)*100 \n",
      "print \"Error for 5mA reading=%.2f percent\"%(E_5mA)\n",
      "E_15mA=(0.5/15)*100 \n",
      "print \"Error for 15mA reading=%.2f percent\"%(E_15mA)"
     ],
     "language": "python",
     "metadata": {},
     "outputs": [
      {
       "output_type": "stream",
       "stream": "stdout",
       "text": [
        "Expected error=+/-0.50 mA\n",
        "Actual reading for 5mA indication will be 4.5mA to 5.5mA\n",
        "Actual reading for 15mA indication will be 14.5mA to 15.5mA\n",
        "Error for 5mA reading=10.00 percent\n",
        "Error for 15mA reading=3.33 percent\n"
       ]
      }
     ],
     "prompt_number": 17
    },
    {
     "cell_type": "heading",
     "level": 2,
     "metadata": {},
     "source": [
      "Exa 3.6 page 87"
     ]
    },
    {
     "cell_type": "code",
     "collapsed": false,
     "input": [
      "V=20 \n",
      "A=20*10**-6 \n",
      "Ra=25*10**3 \n",
      "Rx=((V/A)-Ra)*10**-3 \n",
      "print \"The resistance = %.0f Kohm\"%(Rx)\n",
      "E_voltmeter=(2/(100*20))*20*100 \n",
      "E_current=(2/(100*20))*50*100 \n",
      "E_total=E_voltmeter+E_current \n",
      "print \"Maximum possible error=%.1f percent\"%(E_total)"
     ],
     "language": "python",
     "metadata": {},
     "outputs": [
      {
       "output_type": "stream",
       "stream": "stdout",
       "text": [
        "The resistance = 975 Kohm\n",
        "Maximum possible error=7.0 percent\n"
       ]
      }
     ],
     "prompt_number": 18
    },
    {
     "cell_type": "heading",
     "level": 2,
     "metadata": {},
     "source": [
      "Exa 3.7 page 88"
     ]
    },
    {
     "cell_type": "code",
     "collapsed": false,
     "input": [
      "V=20 \n",
      "A=20*10**-3 \n",
      "Rv=10*10**3*20 \n",
      "Rx=(V/(A-(V/Rv)))/1000 \n",
      "print \"The resistance=%.2f Kohm\"%(Rx)\n",
      "E_total=2.5+2.5 \n",
      "print \"Maximum possible error=%.0f percent\"%(E_total)"
     ],
     "language": "python",
     "metadata": {},
     "outputs": [
      {
       "output_type": "stream",
       "stream": "stdout",
       "text": [
        "The resistance=1.01 Kohm\n",
        "Maximum possible error=5 percent\n"
       ]
      }
     ],
     "prompt_number": 19
    },
    {
     "cell_type": "heading",
     "level": 2,
     "metadata": {},
     "source": [
      "Exa 3.8 page 88"
     ]
    },
    {
     "cell_type": "code",
     "collapsed": false,
     "input": [
      "Sp_constant=10.5*10**-6*pi/180 \n",
      "deflection=83 \n",
      "Td=Sp_constant*deflection \n",
      "I1=10 \n",
      "K=0.078 \n",
      "I2=(Td/(K*I1))*10**6 \n",
      "print \"Current in the voltage coil=%.2f uA\"%(I2)"
     ],
     "language": "python",
     "metadata": {},
     "outputs": [
      {
       "output_type": "stream",
       "stream": "stdout",
       "text": [
        "Current in the voltage coil=19.50 uA\n"
       ]
      }
     ],
     "prompt_number": 20
    },
    {
     "cell_type": "heading",
     "level": 2,
     "metadata": {},
     "source": [
      "Exa 3.9 page 89"
     ]
    },
    {
     "cell_type": "code",
     "collapsed": false,
     "input": [
      "AH=5*1/2 \n",
      "print \"AH passed in 30 minuties = %.1f percent\"%(AH)\n",
      "V_assumed=0.51*1000/AH \n",
      "V_actual=200 \n",
      "Error=V_actual-V_assumed \n",
      "Correction=-Error \n",
      "Cor=Correction*100/V_actual \n",
      "print \"Correction required = %.1f percent\"%(Cor)"
     ],
     "language": "python",
     "metadata": {},
     "outputs": [
      {
       "output_type": "stream",
       "stream": "stdout",
       "text": [
        "AH passed in 30 minuties = 2.5 percent\n",
        "Correction required = 2.0 percent\n"
       ]
      }
     ],
     "prompt_number": 21
    },
    {
     "cell_type": "heading",
     "level": 2,
     "metadata": {},
     "source": [
      "Exa 3.10 page 89"
     ]
    },
    {
     "cell_type": "code",
     "collapsed": false,
     "input": [
      "E_unity_pf=230*6*4*1/1000 \n",
      "M_constant=2208/E_unity_pf \n",
      "print \"Meter constant=%.1f rev/kWh\"%(M_constant)\n",
      "E_consumed=1472/M_constant \n",
      "pf=(E_consumed/(230*5*4))*1000 \n",
      "print \"power factor=%.2f\"%(pf)"
     ],
     "language": "python",
     "metadata": {},
     "outputs": [
      {
       "output_type": "stream",
       "stream": "stdout",
       "text": [
        "Meter constant=400.0 rev/kWh\n",
        "power factor=0.80\n"
       ]
      }
     ],
     "prompt_number": 22
    },
    {
     "cell_type": "heading",
     "level": 2,
     "metadata": {},
     "source": [
      "Exa 3.11 page 90"
     ]
    },
    {
     "cell_type": "code",
     "collapsed": false,
     "input": [
      "from math import acos\n",
      "phi=acos(0.8)*180/pi \n",
      "alpha_actual=85-phi \n",
      "alpha_true=90-phi \n",
      "er=(alpha_true-alpha_actual)/(alpha_true)*100 \n",
      "print \"percentage error at full load = %.2f\"%(er)"
     ],
     "language": "python",
     "metadata": {},
     "outputs": [
      {
       "output_type": "stream",
       "stream": "stdout",
       "text": [
        "percentage error at full load = 9.41\n"
       ]
      }
     ],
     "prompt_number": 23
    }
   ],
   "metadata": {}
  }
 ]
}
