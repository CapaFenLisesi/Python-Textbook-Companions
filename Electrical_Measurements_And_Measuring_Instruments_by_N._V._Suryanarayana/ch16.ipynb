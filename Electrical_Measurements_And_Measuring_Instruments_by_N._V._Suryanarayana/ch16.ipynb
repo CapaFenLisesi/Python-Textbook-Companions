{
 "metadata": {
  "name": "",
  "signature": ""
 },
 "nbformat": 3,
 "nbformat_minor": 0,
 "worksheets": [
  {
   "cells": [
    {
     "cell_type": "heading",
     "level": 1,
     "metadata": {},
     "source": [
      "Chapter16 - Polyphase Systems"
     ]
    },
    {
     "cell_type": "heading",
     "level": 2,
     "metadata": {},
     "source": [
      "Exa 16.1 page 344"
     ]
    },
    {
     "cell_type": "code",
     "collapsed": false,
     "input": [
      "print 'For star connected load'\n",
      "Il=50000/((3**0.5)*440*0.85) \n",
      "print \"Line current=%.2f A\"%(Il)\n",
      "Iph=Il \n",
      "print \"Phase current=%.2f A\"%(Iph)\n",
      "print 'For Delta connected load'\n",
      "Il=50000/((3**0.5)*440*0.85) \n",
      "print \"Line current=%.2f A\"%(Il)\n",
      "Iph=Il/(3**0.5) \n",
      "print \"Phase current=%.2f A\"%(Iph)"
     ],
     "language": "python",
     "metadata": {},
     "outputs": [
      {
       "output_type": "stream",
       "stream": "stdout",
       "text": [
        "For star connected load\n",
        "Line current=77.19 A\n",
        "Phase current=77.19 A\n",
        "For Delta connected load\n",
        "Line current=77.19 A\n",
        "Phase current=44.56 A\n"
       ]
      }
     ],
     "prompt_number": 15
    },
    {
     "cell_type": "heading",
     "level": 2,
     "metadata": {},
     "source": [
      "Exa 16.2 page 345"
     ]
    },
    {
     "cell_type": "code",
     "collapsed": false,
     "input": [
      "print 'For star connection'\n",
      "Zph=(12**2+5**2)**0.5 \n",
      "Eph=440/(3**0.5) \n",
      "Iph=Eph/Zph \n",
      "Il=Iph \n",
      "print \"Line current=%.2f A\"%(Il)\n",
      "P_total=(3**0.5)*440*Il*12/(Zph*1000) \n",
      "print \"Total Power=%.2f kW\"%(P_total)\n",
      "\n",
      "print 'For Delta connection'\n",
      "Zph=(12**2+5**2)**0.5 \n",
      "Eph=440 \n",
      "Iph=Eph/Zph \n",
      "Il=Iph*(3**0.5) \n",
      "print \"Line current=%.2f A\"%(Il)\n",
      "P_total=(3**0.5)*440*Il*12/(Zph*1000) \n",
      "print \"Total Power=%.2f kW\"%(P_total)"
     ],
     "language": "python",
     "metadata": {},
     "outputs": [
      {
       "output_type": "stream",
       "stream": "stdout",
       "text": [
        "For star connection\n",
        "Line current=19.54 A\n",
        "Total Power=13.75 kW\n",
        "For Delta connection\n",
        "Line current=58.62 A\n",
        "Total Power=41.24 kW\n"
       ]
      }
     ],
     "prompt_number": 16
    },
    {
     "cell_type": "heading",
     "level": 2,
     "metadata": {},
     "source": [
      "Exa 16.3 page 346"
     ]
    },
    {
     "cell_type": "code",
     "collapsed": false,
     "input": [
      "pf=(1.8*1000)/(1100*(3**0.5)) \n",
      "Z=1100/100 \n",
      "R=Z*pf \n",
      "print \"Resistance of the load=%.2f ohm\"%(R)\n",
      "Xl=(121-108)**0.5 \n",
      "L=Xl/314 \n",
      "print \"Inductive reactance of the load=%.2f H\"%(L)"
     ],
     "language": "python",
     "metadata": {},
     "outputs": [
      {
       "output_type": "stream",
       "stream": "stdout",
       "text": [
        "Resistance of the load=10.39 ohm\n",
        "Inductive reactance of the load=0.01 H\n"
       ]
      }
     ],
     "prompt_number": 17
    },
    {
     "cell_type": "heading",
     "level": 2,
     "metadata": {},
     "source": [
      "Exa 16.4 page 346"
     ]
    },
    {
     "cell_type": "code",
     "collapsed": false,
     "input": [
      "from math import cos, pi\n",
      "Eph=400/(3**0.5) \n",
      "print \"\\nPhase voltage=%.2f V\"%(Eph)\n",
      "P_total=(3**0.5)*400*30*cos(30*pi/180)/1000 \n",
      "print \"Total power=%.2f kW\"%(P_total)"
     ],
     "language": "python",
     "metadata": {},
     "outputs": [
      {
       "output_type": "stream",
       "stream": "stdout",
       "text": [
        "\n",
        "Phase voltage=230.94 V\n",
        "Total power=18.00 kW\n"
       ]
      }
     ],
     "prompt_number": 18
    },
    {
     "cell_type": "heading",
     "level": 2,
     "metadata": {},
     "source": [
      "Exa 16.5 page 347"
     ]
    },
    {
     "cell_type": "code",
     "collapsed": false,
     "input": [
      "Out_motor=80*735.5 \n",
      "Input_motor=Out_motor/0.8 \n",
      "I_alternator_phase=120.64 \n",
      "I_motor_phase= I_alternator_phase/(3**0.5) \n",
      "print \"Current in each motor phase=%.2f A\"%(I_motor_phase)\n",
      "print \"Current in each generator phase=%.2f A\"%(I_alternator_phase)"
     ],
     "language": "python",
     "metadata": {},
     "outputs": [
      {
       "output_type": "stream",
       "stream": "stdout",
       "text": [
        "Current in each motor phase=69.65 A\n",
        "Current in each generator phase=120.64 A\n"
       ]
      }
     ],
     "prompt_number": 19
    },
    {
     "cell_type": "heading",
     "level": 2,
     "metadata": {},
     "source": [
      "Exa 16.6 page 348"
     ]
    },
    {
     "cell_type": "code",
     "collapsed": false,
     "input": [
      "El=400 \n",
      "Eph=El \n",
      "Impedance_per_phase= (10**2+15**2)**0.5 \n",
      "Iph= 400/Impedance_per_phase \n",
      "print \"Phase current=%.2f A\"%(Iph)\n",
      "Il=Iph*3**0.5 \n",
      "print \"Line current=%.2f A\"%(Il)\n",
      "pf=10/Impedance_per_phase \n",
      "print \"Power factor=%.2f \"%(pf)\n",
      "P_total=(3**0.5)*El*Il*pf/1000 \n",
      "print \"Total Power=%.2f kW\"%(P_total)\n",
      "VAR=(3**0.5)*El*Il*15/(Impedance_per_phase*1000) \n",
      "print \"Reactive volt ampers=%.2f KVAR\"%(VAR)\n",
      "VA=(3**0.5)*El*Il/1000 \n",
      "print \"Total Volt ampers=%.2f kVA\"%(VA)"
     ],
     "language": "python",
     "metadata": {},
     "outputs": [
      {
       "output_type": "stream",
       "stream": "stdout",
       "text": [
        "Phase current=22.19 A\n",
        "Line current=38.43 A\n",
        "Power factor=0.55 \n",
        "Total Power=14.77 kW\n",
        "Reactive volt ampers=22.15 KVAR\n",
        "Total Volt ampers=26.63 kVA\n"
       ]
      }
     ],
     "prompt_number": 20
    },
    {
     "cell_type": "heading",
     "level": 2,
     "metadata": {},
     "source": [
      "Exa 16.7 page 349"
     ]
    },
    {
     "cell_type": "code",
     "collapsed": false,
     "input": [
      "print 'Star connections'\n",
      "R=20 \n",
      "Iph=440/(3**0.5*R) \n",
      "P_total=3*Iph**2*R \n",
      "print 'when one of the resistor get disconnected'\n",
      "Iph=440/(2*20) \n",
      "P_total_new=2*Iph**2*R \n",
      "P_reduction=(P_total-P_total_new)*100/P_total \n",
      "print \"Reduction in Power=%.2f percent\"%(P_reduction)\n",
      "print 'Delta connections'\n",
      "R=20 \n",
      "Iph=440/(R) \n",
      "P_total=3*Iph**2*R \n",
      "print 'when one of the resistor get disconnected'\n",
      "Iph=440/(20) \n",
      "P_total_new=2*Iph**2*R \n",
      "P_reduction=(P_total-P_total_new)*100/P_total \n",
      "print \"Reduction in Power=%.2f percent\"%(P_reduction)"
     ],
     "language": "python",
     "metadata": {},
     "outputs": [
      {
       "output_type": "stream",
       "stream": "stdout",
       "text": [
        "Star connections\n",
        "when one of the resistor get disconnected\n",
        "Reduction in Power=50.00 percent\n",
        "Delta connections\n",
        "when one of the resistor get disconnected\n",
        "Reduction in Power=33.33 percent\n"
       ]
      }
     ],
     "prompt_number": 21
    },
    {
     "cell_type": "heading",
     "level": 2,
     "metadata": {},
     "source": [
      "Exa 16.8 page 350"
     ]
    },
    {
     "cell_type": "code",
     "collapsed": false,
     "input": [
      "from __future__ import division\n",
      "R=3 \n",
      "XL=4 \n",
      "Z=(R**2+XL**2)**0.5 \n",
      "Iph1=440/(3**0.5*Z) \n",
      "IL1=Iph1 \n",
      "print \"Line current=%.1f A\"%(IL1)\n",
      "P=3*Iph1**2*R \n",
      "print \"Power=%.0f W\"%(P)\n",
      "pf1=R/Z \n",
      "print \"power factor=%.2f (lag)\"%(pf1)\n",
      "IL2=IL1*(4/5) \n",
      "Iph2=IL2/3**0.5 \n",
      "XL2=440/Iph2 \n",
      "C2=1*10**6/(2*50*28.755) \n",
      "print \"Capacitance=%.1f uF\"%(C2)"
     ],
     "language": "python",
     "metadata": {},
     "outputs": [
      {
       "output_type": "stream",
       "stream": "stdout",
       "text": [
        "Line current=50.8 A\n",
        "Power=23232 W\n",
        "power factor=0.60 (lag)\n",
        "Capacitance=347.8 uF\n"
       ]
      }
     ],
     "prompt_number": 22
    },
    {
     "cell_type": "heading",
     "level": 2,
     "metadata": {},
     "source": [
      "Exa 16.9 page 350"
     ]
    },
    {
     "cell_type": "code",
     "collapsed": false,
     "input": [
      "IL=11000 \n",
      "Eph=IL/3**0.5 \n",
      "print \"\\nLine to neutral voltage=%.2f V\"%(Eph)\n",
      "E_Each_phase=Eph \n",
      "print \"\\nVoltage induced in Each phase winding=%.2f V\"%(E_Each_phase)\n",
      "T=(242/360)*(1/50)*1000 \n",
      "print \"\\nTime interval=%.2f ms\"%(T)\n",
      "IL_peak=(2**0.5)*IL \n",
      "print \"\\nPeak line voltage=%.2f V\"%(IL_peak)"
     ],
     "language": "python",
     "metadata": {},
     "outputs": [
      {
       "output_type": "stream",
       "stream": "stdout",
       "text": [
        "\n",
        "Line to neutral voltage=6350.85 V\n",
        "\n",
        "Voltage induced in Each phase winding=6350.85 V\n",
        "\n",
        "Time interval=13.44 ms\n",
        "\n",
        "Peak line voltage=15556.35 V\n"
       ]
      }
     ],
     "prompt_number": 23
    },
    {
     "cell_type": "heading",
     "level": 2,
     "metadata": {},
     "source": [
      "16.10 page 351"
     ]
    },
    {
     "cell_type": "code",
     "collapsed": false,
     "input": [
      "P_consumed=3000/3 \n",
      "E_per_phase=440/(3**0.5) \n",
      "IL=P_consumed/E_per_phase \n",
      "print \"\\nCurrent in each line=%.2f A\"%(IL)\n",
      "R=E_per_phase/IL \n",
      "print \"\\nResistance of resistor=%.2f ohm\"%(R)"
     ],
     "language": "python",
     "metadata": {},
     "outputs": [
      {
       "output_type": "stream",
       "stream": "stdout",
       "text": [
        "\n",
        "Current in each line=3.94 A\n",
        "\n",
        "Resistance of resistor=64.53 ohm\n"
       ]
      }
     ],
     "prompt_number": 24
    },
    {
     "cell_type": "heading",
     "level": 2,
     "metadata": {},
     "source": [
      "Exa 16.11 page 351"
     ]
    },
    {
     "cell_type": "code",
     "collapsed": false,
     "input": [
      "VL=1100 \n",
      "IL=100 \n",
      "pf=150*1000/(3**0.5*VL*IL) \n",
      "E_per_phase=VL/3**0.5 \n",
      "Zph=E_per_phase/100 \n",
      "Rph=pf*Zph \n",
      "Xc=(Zph**2-Rph**2)**0.5 \n",
      "C=10**6/(2*pi*50*Xc) \n",
      "print 'Circuit Constants are'\n",
      "print \"\\nR=%.2f ohm\"%(Rph)\n",
      "print \"\\nC=%.2f uF\"%(C)"
     ],
     "language": "python",
     "metadata": {},
     "outputs": [
      {
       "output_type": "stream",
       "stream": "stdout",
       "text": [
        "Circuit Constants are\n",
        "\n",
        "R=5.00 ohm\n",
        "\n",
        "C=812.89 uF\n"
       ]
      }
     ],
     "prompt_number": 25
    },
    {
     "cell_type": "heading",
     "level": 2,
     "metadata": {},
     "source": [
      "Exa 16.12 page 352"
     ]
    },
    {
     "cell_type": "code",
     "collapsed": false,
     "input": [
      "from math import degrees, acos, tan\n",
      "#P_input=W1+W2=15000........(i)\n",
      "pf=0.4\n",
      "phi=degrees(acos(0.4) )\n",
      "a=tan(phi*pi/180) \n",
      "#tand(phi)=(3**0.5)*(W1-W2)/(W1+W2)\n",
      "#on solving  W1-W2=3464.2 ..............(ii)\n",
      "#From (i) and (ii) we can calculate\n",
      "W1=9.232 \n",
      "W2=5.768 \n",
      "print \"\\nW1=%.2f kW\"%(W1)\n",
      "print \"\\nW2=%.2fkW \"%(W2)"
     ],
     "language": "python",
     "metadata": {},
     "outputs": [
      {
       "output_type": "stream",
       "stream": "stdout",
       "text": [
        "\n",
        "W1=9.23 kW\n",
        "\n",
        "W2=5.77kW \n"
       ]
      }
     ],
     "prompt_number": 26
    },
    {
     "cell_type": "heading",
     "level": 2,
     "metadata": {},
     "source": [
      "Exa 16.13 page 352"
     ]
    },
    {
     "cell_type": "code",
     "collapsed": false,
     "input": [
      "from math import atan\n",
      "W1=10 \n",
      "W2=-1.2 \n",
      "P_absorbed=W1+W2 \n",
      "print \"\\nPower=%.2f kW\"%(P_absorbed)\n",
      "phi=degrees(atan((3**0.5)*(W1-W2)/(W1+W2)) )\n",
      "pf=cos(phi*pi/180) \n",
      "print \"\\nPower Factor=%.2f \"%(pf)"
     ],
     "language": "python",
     "metadata": {},
     "outputs": [
      {
       "output_type": "stream",
       "stream": "stdout",
       "text": [
        "\n",
        "Power=8.80 kW\n",
        "\n",
        "Power Factor=0.41 \n"
       ]
      }
     ],
     "prompt_number": 27
    },
    {
     "cell_type": "heading",
     "level": 2,
     "metadata": {},
     "source": [
      "Exa 16.14 page 353"
     ]
    },
    {
     "cell_type": "code",
     "collapsed": false,
     "input": [
      "P_input=10*735.5/0.82 \n",
      "#P_input=W1+W2=8974........(i)\n",
      "pf=0.4\n",
      "phi=degrees(acos(0.83))\n",
      "a=tan(phi*pi/180) \n",
      "#tand(phi)=(3**0.5)*(W1-W2)/(W1+W2)\n",
      "#on solving  W1-W2=3482 ..............(ii)\n",
      "#From (i) and (ii) we can calculate\n",
      "W1=6.228 \n",
      "W2=2.746 \n",
      "print \"\\nW1=%.2f kW\"%(W1)\n",
      "print \"\\nW2=%.2fkW \"%(W2)"
     ],
     "language": "python",
     "metadata": {},
     "outputs": [
      {
       "output_type": "stream",
       "stream": "stdout",
       "text": [
        "\n",
        "W1=6.23 kW\n",
        "\n",
        "W2=2.75kW \n"
       ]
      }
     ],
     "prompt_number": 28
    }
   ],
   "metadata": {}
  }
 ]
}
