{
 "metadata": {
  "name": "",
  "signature": ""
 },
 "nbformat": 3,
 "nbformat_minor": 0,
 "worksheets": [
  {
   "cells": [
    {
     "cell_type": "heading",
     "level": 1,
     "metadata": {},
     "source": [
      "Chapter5 - Potentiometer"
     ]
    },
    {
     "cell_type": "heading",
     "level": 2,
     "metadata": {},
     "source": [
      "Exa 5.1 page 139"
     ]
    },
    {
     "cell_type": "code",
     "collapsed": false,
     "input": [
      "from __future__ import division\n",
      "Ipq=4/(3+4) \n",
      "Vpq=Ipq*3 \n",
      "Vpq_per_cm=Vpq/100 \n",
      "Dpx=1.0186/Vpq_per_cm \n",
      "print \"Distance PX = %.2f cm\"%(Dpx)"
     ],
     "language": "python",
     "metadata": {},
     "outputs": [
      {
       "output_type": "stream",
       "stream": "stdout",
       "text": [
        "Distance PX = 59.42 cm\n"
       ]
      }
     ],
     "prompt_number": 3
    },
    {
     "cell_type": "heading",
     "level": 2,
     "metadata": {},
     "source": [
      "Exa 5.2 page 139"
     ]
    },
    {
     "cell_type": "code",
     "collapsed": false,
     "input": [
      "V_per_cm=1.0186/60 \n",
      "#When S is replaced by a dry cell we get PK=85 cm for null deflection\n",
      "Dpk=85 \n",
      "V_dry_cell=Dpk*V_per_cm \n",
      "print \"Voltage of dry cell=%.2f V\"%(V_dry_cell)"
     ],
     "language": "python",
     "metadata": {},
     "outputs": [
      {
       "output_type": "stream",
       "stream": "stdout",
       "text": [
        "Voltage of dry cell=1.44 V\n"
       ]
      }
     ],
     "prompt_number": 4
    },
    {
     "cell_type": "heading",
     "level": 2,
     "metadata": {},
     "source": [
      "Exa 5.3 page 140"
     ]
    },
    {
     "cell_type": "code",
     "collapsed": false,
     "input": [
      "Vpq=(1.02*5/2500)*1000 \n",
      "Lpq=1.2*100/Vpq \n",
      "print \"Length of PQ=%.2f m\"%(Lpq)"
     ],
     "language": "python",
     "metadata": {},
     "outputs": [
      {
       "output_type": "stream",
       "stream": "stdout",
       "text": [
        "Length of PQ=58.82 m\n"
       ]
      }
     ],
     "prompt_number": 5
    },
    {
     "cell_type": "heading",
     "level": 2,
     "metadata": {},
     "source": [
      "Exa 5.4 page 140"
     ]
    },
    {
     "cell_type": "code",
     "collapsed": false,
     "input": [
      "l2=(10/3)*(1.5/1.5)*(9/15)**2 \n",
      "print \"Length of wire=%.2f m\"%(l2)\n",
      "a1=0.0004 \n",
      "a2=0.0003 \n",
      "R2=1 \n",
      "R1=1.5*R2 \n",
      "T=100 \n",
      "Rp=R1*(1+a1*T) \n",
      "Rq=R2*(1+a2*T) \n",
      "R=Rp/Rq \n",
      "print \"Ratio of resistances=%.2f\"%(R)"
     ],
     "language": "python",
     "metadata": {},
     "outputs": [
      {
       "output_type": "stream",
       "stream": "stdout",
       "text": [
        "Length of wire=1.20 m\n",
        "Ratio of resistances=1.51\n"
       ]
      }
     ],
     "prompt_number": 6
    },
    {
     "cell_type": "heading",
     "level": 2,
     "metadata": {},
     "source": [
      "Exa 5.5 page 141"
     ]
    },
    {
     "cell_type": "code",
     "collapsed": false,
     "input": [
      "emf_std_cell=1.0183 \n",
      "emf_cell=70/50*emf_std_cell \n",
      "print \"e.m.f. of the cell=%.2f V\"%(emf_cell)\n",
      "V_read=1.35 \n",
      "V_cal=1.32379 \n",
      "error_voltmeter_percent=((V_read-V_cal)/V_cal)*100 \n",
      "print \"Perentage error of the voltmeter = %.2f\"%(error_voltmeter_percent)"
     ],
     "language": "python",
     "metadata": {},
     "outputs": [
      {
       "output_type": "stream",
       "stream": "stdout",
       "text": [
        "e.m.f. of the cell=1.43 V\n",
        "Perentage error of the voltmeter = 1.98\n"
       ]
      }
     ],
     "prompt_number": 7
    }
   ],
   "metadata": {}
  }
 ]
}
