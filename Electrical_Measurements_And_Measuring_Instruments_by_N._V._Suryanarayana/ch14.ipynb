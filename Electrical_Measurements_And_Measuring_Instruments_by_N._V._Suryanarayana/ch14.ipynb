{
 "metadata": {
  "name": "",
  "signature": ""
 },
 "nbformat": 3,
 "nbformat_minor": 0,
 "worksheets": [
  {
   "cells": [
    {
     "cell_type": "heading",
     "level": 1,
     "metadata": {},
     "source": [
      "Chapter14 - Cathode Ray Oscilloscope"
     ]
    },
    {
     "cell_type": "heading",
     "level": 2,
     "metadata": {},
     "source": [
      "Exa 14.1 page 290"
     ]
    },
    {
     "cell_type": "code",
     "collapsed": false,
     "input": [
      "R=3 \n",
      "V_pp =10*6 \n",
      "Vrms=V_pp/(2*2**0.5) \n",
      "Irms=Vrms/R \n",
      "print \"R.M.S. value of current=%.2f A\"%(Irms)"
     ],
     "language": "python",
     "metadata": {},
     "outputs": [
      {
       "output_type": "stream",
       "stream": "stdout",
       "text": [
        "R.M.S. value of current=7.07 A\n"
       ]
      }
     ],
     "prompt_number": 1
    },
    {
     "cell_type": "heading",
     "level": 2,
     "metadata": {},
     "source": [
      "Exa 14.2 page 290"
     ]
    },
    {
     "cell_type": "code",
     "collapsed": false,
     "input": [
      "T=3*10**-3 \n",
      "f=1/T \n",
      "print \"frequency of the voltage applied=%.2f m\"%(f)"
     ],
     "language": "python",
     "metadata": {},
     "outputs": [
      {
       "output_type": "stream",
       "stream": "stdout",
       "text": [
        "frequency of the voltage applied=333.33 m\n"
       ]
      }
     ],
     "prompt_number": 2
    },
    {
     "cell_type": "heading",
     "level": 2,
     "metadata": {},
     "source": [
      "Exa 14.3 page 290"
     ]
    },
    {
     "cell_type": "code",
     "collapsed": false,
     "input": [
      "tc=2*2.5 \n",
      "print \"time constant=%.6f ms\"%(tc)\n",
      "R=5*10**3 \n",
      "C=(tc*10**-3/R)*10**6 \n",
      "print \"Capacitance=%.2f uF\"%(C)\n",
      "Tmax=10*R*C*10**-6 \n",
      "fmax=1/Tmax \n",
      "print \"Maximum frequency=%.2f m\"%(fmax)\n"
     ],
     "language": "python",
     "metadata": {},
     "outputs": [
      {
       "output_type": "stream",
       "stream": "stdout",
       "text": [
        "time constant=5.000000 ms\n",
        "Capacitance=1.00 uF\n",
        "Maximum frequency=20.00 m\n"
       ]
      }
     ],
     "prompt_number": 3
    }
   ],
   "metadata": {}
  }
 ]
}
