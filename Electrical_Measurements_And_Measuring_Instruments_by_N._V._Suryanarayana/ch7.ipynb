{
 "metadata": {
  "name": "",
  "signature": ""
 },
 "nbformat": 3,
 "nbformat_minor": 0,
 "worksheets": [
  {
   "cells": [
    {
     "cell_type": "heading",
     "level": 1,
     "metadata": {},
     "source": [
      "Chapter7 - Measurement of Capacitance & Inductance"
     ]
    },
    {
     "cell_type": "heading",
     "level": 2,
     "metadata": {},
     "source": [
      "Exa 7.1 page 174"
     ]
    },
    {
     "cell_type": "code",
     "collapsed": false,
     "input": [
      "#The coil has resistance of R ohm and inductance L2\n",
      "#ZKL=25+j(2*pi*f)*0.05 \n",
      "ZLM=100 \n",
      "#ZKN=(R+2)+j(2*pi*f)*L2 \n",
      "ZNM=100 \n",
      "#Now (ZKL/ZLM)=(ZKN/ZNM)\n",
      "#((25+j(2*pi*f)*0.05)/100)=((R+2)+j(2*pi*f)*L2/100)\n",
      "#Equating Real and imaginary parts\n",
      "#we have 25=R+2\n",
      "#2*pi*f)*0.05=2*pi*f)*L2\n",
      "R=23 \n",
      "L2=50 \n",
      "print \"Resistance=%.0f ohm\"%(R)\n",
      "print \"Inductance=%.0f mH\"%(L2)"
     ],
     "language": "python",
     "metadata": {},
     "outputs": [
      {
       "output_type": "stream",
       "stream": "stdout",
       "text": [
        "Resistance=23 ohm\n",
        "Inductance=50 mH\n"
       ]
      }
     ],
     "prompt_number": 1
    },
    {
     "cell_type": "heading",
     "level": 2,
     "metadata": {},
     "source": [
      "Exa 7.2 page 175"
     ]
    },
    {
     "cell_type": "code",
     "collapsed": false,
     "input": [
      "from __future__ import division\n",
      "from math import atan, degrees, pi\n",
      "C1=50*10**-12 \n",
      "r2=1500/pi \n",
      "r3=120 \n",
      "Cs=C1*r2/r3*10**12 \n",
      "print \"Cable capacitance=%.1f pF\"%(Cs)\n",
      "C2=0.95*10**-6 \n",
      "rs=C2*r3/(C1*10**6) \n",
      "print \"Parallel loss resistance=%.2f Mega-ohm\"%(rs)\n",
      "w=314 \n",
      "Loss_angle=degrees(atan(rs*w*Cs) )\n",
      "print \"Loss angle=%.1f degree\"%(Loss_angle)"
     ],
     "language": "python",
     "metadata": {},
     "outputs": [
      {
       "output_type": "stream",
       "stream": "stdout",
       "text": [
        "Cable capacitance=198.9 pF\n",
        "Parallel loss resistance=2.28 Mega-ohm\n",
        "Loss angle=90.0 degree\n"
       ]
      }
     ],
     "prompt_number": 2
    },
    {
     "cell_type": "heading",
     "level": 2,
     "metadata": {},
     "source": [
      "Exa 7.3 page 176"
     ]
    },
    {
     "cell_type": "code",
     "collapsed": false,
     "input": [
      "C3=106*10**-12 \n",
      "C1=0.35*10**-6 \n",
      "R1=318 \n",
      "R2=130 \n",
      "C2=C3*R1/R2 \n",
      "Rx=R2*C1/C3 \n",
      "print \"Series Resistance = %.2f ohm\"%(Rx)\n",
      "wr=314 \n",
      "pf=wr*Rx*C2 \n",
      "print \"Power factor = %.2f\"%(pf)"
     ],
     "language": "python",
     "metadata": {},
     "outputs": [
      {
       "output_type": "stream",
       "stream": "stdout",
       "text": [
        "Series Resistance = 429245.28 ohm\n",
        "Power factor = 0.03\n"
       ]
      }
     ],
     "prompt_number": 3
    },
    {
     "cell_type": "heading",
     "level": 2,
     "metadata": {},
     "source": [
      "Exa 7.4 page 176"
     ]
    },
    {
     "cell_type": "code",
     "collapsed": false,
     "input": [
      "Q=10 \n",
      "Cs=0.2 \n",
      "P=2 \n",
      "Cx=Q*Cs/P \n",
      "print \"Capacitance = %.1f uF\"%(Cx)\n",
      "S=5 \n",
      "rx=P*S/Q \n",
      "print \"Resistance = %.0f Kohm\"%(rx)"
     ],
     "language": "python",
     "metadata": {},
     "outputs": [
      {
       "output_type": "stream",
       "stream": "stdout",
       "text": [
        "Capacitance = 1.0 uF\n",
        "Resistance = 1 Kohm\n"
       ]
      }
     ],
     "prompt_number": 4
    },
    {
     "cell_type": "heading",
     "level": 2,
     "metadata": {},
     "source": [
      "Exa 7.5 page 177"
     ]
    },
    {
     "cell_type": "code",
     "collapsed": false,
     "input": [
      "S=900 \n",
      "P=1.5*10**3 \n",
      "Q=2*10**3 \n",
      "Cs=0.2*10**-6 \n",
      "rx=S*P/Q \n",
      "print \"Resistance=%.0f ohm\"%(rx)\n",
      "Lx=P*Cs*S \n",
      "print \"Inductance=%.2f H\"%(Lx)"
     ],
     "language": "python",
     "metadata": {},
     "outputs": [
      {
       "output_type": "stream",
       "stream": "stdout",
       "text": [
        "Resistance=675 ohm\n",
        "Inductance=0.27 H\n"
       ]
      }
     ],
     "prompt_number": 5
    },
    {
     "cell_type": "heading",
     "level": 2,
     "metadata": {},
     "source": [
      "Exa 7.6 page 178"
     ]
    },
    {
     "cell_type": "code",
     "collapsed": false,
     "input": [
      "R1=2 \n",
      "R2=1 \n",
      "R4=500 \n",
      "L4=0.1\n",
      "R3=R1*R4/R2 \n",
      "print \"Resistance=%.0f ohm\"%(R3)\n",
      "L3=R1*L4/R2 \n",
      "print \"Inductance=%.2f H\"%(L3)"
     ],
     "language": "python",
     "metadata": {},
     "outputs": [
      {
       "output_type": "stream",
       "stream": "stdout",
       "text": [
        "Resistance=1000 ohm\n",
        "Inductance=0.20 H\n"
       ]
      }
     ],
     "prompt_number": 6
    },
    {
     "cell_type": "heading",
     "level": 2,
     "metadata": {},
     "source": [
      "Exa 7.7 page 178"
     ]
    },
    {
     "cell_type": "code",
     "collapsed": false,
     "input": [
      "S=0.875 \n",
      "P=1.35*10**3 \n",
      "Q=1*10**3 \n",
      "Cs=0.1*10**-6 \n",
      "rx=S*P/Q \n",
      "print \"Resistance = %.2f ohm\"%(rx)\n",
      "Lx=P*Cs*S*10**3 \n",
      "print \"Inductance = %.3f mH\"%(Lx)"
     ],
     "language": "python",
     "metadata": {},
     "outputs": [
      {
       "output_type": "stream",
       "stream": "stdout",
       "text": [
        "Resistance = 1.18 ohm\n",
        "Inductance = 0.118 mH\n"
       ]
      }
     ],
     "prompt_number": 7
    },
    {
     "cell_type": "heading",
     "level": 2,
     "metadata": {},
     "source": [
      "Exa 7.8 page 179"
     ]
    },
    {
     "cell_type": "code",
     "collapsed": false,
     "input": [
      "r1=250 \n",
      "r4=1200 \n",
      "r2=10**6 \n",
      "C4=4*10**-5 \n",
      "r3=r1*r4/r2 \n",
      "print \"Resistance=%.2f ohm\"%(r3)\n",
      "C3=r2*C4/r1 \n",
      "print \"Capacitance=%.2f uF\"%(C3)"
     ],
     "language": "python",
     "metadata": {},
     "outputs": [
      {
       "output_type": "stream",
       "stream": "stdout",
       "text": [
        "Resistance=0.30 ohm\n",
        "Capacitance=0.16 uF\n"
       ]
      }
     ],
     "prompt_number": 8
    },
    {
     "cell_type": "heading",
     "level": 2,
     "metadata": {},
     "source": [
      "Exa 7.9 page 180"
     ]
    },
    {
     "cell_type": "code",
     "collapsed": false,
     "input": [
      "R2=1000 \n",
      "R4=833 \n",
      "f=50 \n",
      "w=2*pi*f \n",
      "C=0.38*10**-6 \n",
      "R3=16800 \n",
      "R1=(R2*R3*R4*w**2*C**2)/(1+w**2*R4**2*C**2) \n",
      "print \"Resistance = %.2f ohm\"%(R1)\n",
      "L=R2*R3*C/(1+w**2*R4**2*C**2) \n",
      "print \"Inductance = %.2f H\"%(L)"
     ],
     "language": "python",
     "metadata": {},
     "outputs": [
      {
       "output_type": "stream",
       "stream": "stdout",
       "text": [
        "Resistance = 197.49 ohm\n",
        "Inductance = 6.32 H\n"
       ]
      }
     ],
     "prompt_number": 9
    }
   ],
   "metadata": {}
  }
 ]
}
