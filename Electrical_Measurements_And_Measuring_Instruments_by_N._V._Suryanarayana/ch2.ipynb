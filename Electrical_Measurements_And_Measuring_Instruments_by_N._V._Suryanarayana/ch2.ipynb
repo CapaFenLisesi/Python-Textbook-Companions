{
 "metadata": {
  "name": "",
  "signature": ""
 },
 "nbformat": 3,
 "nbformat_minor": 0,
 "worksheets": [
  {
   "cells": [
    {
     "cell_type": "heading",
     "level": 1,
     "metadata": {},
     "source": [
      "Chapter2 - Calculation of Capacitance & Inductance"
     ]
    },
    {
     "cell_type": "heading",
     "level": 2,
     "metadata": {},
     "source": [
      "Exa 2.1 page 69"
     ]
    },
    {
     "cell_type": "code",
     "collapsed": false,
     "input": [
      "from __future__ import division\n",
      "from numpy import pi\n",
      "N=400 \n",
      "a=4*10**-4 \n",
      "MUo=4*pi*10**-7 \n",
      "MUr=800 \n",
      "l=0.3 \n",
      "L=(MUo*MUr*a*N**2)/l \n",
      "print \"Self inductance of the coil=%.3f H\"%(L)"
     ],
     "language": "python",
     "metadata": {},
     "outputs": [
      {
       "output_type": "stream",
       "stream": "stdout",
       "text": [
        "Self inductance of the coil=0.214 H\n"
       ]
      }
     ],
     "prompt_number": 1
    },
    {
     "cell_type": "heading",
     "level": 2,
     "metadata": {},
     "source": [
      "Exa 2.2 page 69"
     ]
    },
    {
     "cell_type": "code",
     "collapsed": false,
     "input": [
      "P0=8.854*10**-12 \n",
      "Pr1=5.5 \n",
      "d1=10**-3 \n",
      "b1=d1/Pr1 \n",
      "Pr2=2.2 \n",
      "d2=10**-3 \n",
      "b2=d2/Pr2 \n",
      "Pr3=1.5 \n",
      "d3=10**-3 \n",
      "b3=d3/Pr3 \n",
      "A=100*10**-4 \n",
      "C=P0*A/(b1+b2+b3) \n",
      "V=5000 \n",
      "Q=C*V*10**6 \n",
      "print \"stored charge in the capacitor=%.2f coulombs\"%(Q)\n",
      "D=Q/A \n",
      "D=146*10**-6 \n",
      "g1=D*10**-3/(P0*Pr1) \n",
      "print \"potential gradient g1=%.2f kV/m\"%(g1)\n",
      "g2=D*10**-3/(P0*Pr2) \n",
      "print \"potential gradient g2=%.2f kV/m\"%(g2)\n",
      "g3=D*10**-3/(P0*Pr3) \n",
      "print \"potential gradient g3=%.2f kV/m\"%(g3)"
     ],
     "language": "python",
     "metadata": {},
     "outputs": [
      {
       "output_type": "stream",
       "stream": "stdout",
       "text": [
        "stored charge in the capacitor=0.34 coulombs\n",
        "potential gradient g1=2998.13 kV/m\n",
        "potential gradient g2=7495.33 kV/m\n",
        "potential gradient g3=10993.15 kV/m\n"
       ]
      }
     ],
     "prompt_number": 2
    },
    {
     "cell_type": "heading",
     "level": 2,
     "metadata": {},
     "source": [
      "Exa 2.3 page 69"
     ]
    },
    {
     "cell_type": "code",
     "collapsed": false,
     "input": [
      "from math import log10\n",
      "a=0.5/2 \n",
      "b=0.25+0.4 \n",
      "Pr=4.5 \n",
      "C=(0.024*Pr)/(log10(b/a))\n",
      "C_total=300*C\n",
      "print \"capacitance of the cable=%.2f uF\"%(C_total)"
     ],
     "language": "python",
     "metadata": {},
     "outputs": [
      {
       "output_type": "stream",
       "stream": "stdout",
       "text": [
        "capacitance of the cable=78.08 uF\n"
       ]
      }
     ],
     "prompt_number": 3
    }
   ],
   "metadata": {}
  }
 ]
}
