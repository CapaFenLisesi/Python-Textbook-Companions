{
 "metadata": {
  "name": "",
  "signature": ""
 },
 "nbformat": 3,
 "nbformat_minor": 0,
 "worksheets": [
  {
   "cells": [
    {
     "cell_type": "heading",
     "level": 1,
     "metadata": {},
     "source": [
      "Chapter8 - Measurement of Power"
     ]
    },
    {
     "cell_type": "heading",
     "level": 2,
     "metadata": {},
     "source": [
      "Exa 8.1 page 189"
     ]
    },
    {
     "cell_type": "code",
     "collapsed": false,
     "input": [
      "ZL=220/2 \n",
      "print \"Load impedance=%.1f ohm\"%(ZL)\n",
      "Z_total=220/4 \n",
      "print \"Impedance of the combination=%.2f ohm\"%(Z_total)\n",
      "I1=2 \n",
      "I2=2.5 \n",
      "I3=4 \n",
      "P=(Z_total/2)*(I3**2-I1**2-I2**2) \n",
      "print \"Power absorbed by load=%.2f W\"%(P)\n",
      "pf=P/(220*2**2) \n",
      "print \"power factor of load=%.2f\"%(pf)"
     ],
     "language": "python",
     "metadata": {},
     "outputs": [
      {
       "output_type": "stream",
       "stream": "stdout",
       "text": [
        "Load impedance=110.0 ohm\n",
        "Impedance of the combination=55.00 ohm\n",
        "Power absorbed by load=155.25 W\n",
        "power factor of load=0.18\n"
       ]
      }
     ],
     "prompt_number": 1
    },
    {
     "cell_type": "heading",
     "level": 2,
     "metadata": {},
     "source": [
      "Exa 8.2 page 189"
     ]
    },
    {
     "cell_type": "code",
     "collapsed": false,
     "input": [
      "from __future__ import division\n",
      "I=125/10 \n",
      "ZL=50/I \n",
      "print \"Load impedance = %.1f ohm\"%(ZL)\n",
      "Z_total=150/I \n",
      "print \"Impedance of the combination = %.2f ohm\"%(Z_total)\n",
      "I1=125 \n",
      "I2=50 \n",
      "I3=150 \n",
      "P=(1/(2*10))*(I3**2-I1**2-I2**2) \n",
      "print \"Power absorbed by load = %.2f W\"%(P)\n",
      "Pr=I**2*10 \n",
      "print \"Power consumed by the resistor = %.2f W\"%(Pr)\n",
      "pf=P/(50*I) \n",
      "print \"power factor of load = %.2f\"%(pf)"
     ],
     "language": "python",
     "metadata": {},
     "outputs": [
      {
       "output_type": "stream",
       "stream": "stdout",
       "text": [
        "Load impedance = 4.0 ohm\n",
        "Impedance of the combination = 12.00 ohm\n",
        "Power absorbed by load = 218.75 W\n",
        "Power consumed by the resistor = 1562.50 W\n",
        "power factor of load = 0.35\n"
       ]
      }
     ],
     "prompt_number": 2
    }
   ],
   "metadata": {}
  }
 ]
}
