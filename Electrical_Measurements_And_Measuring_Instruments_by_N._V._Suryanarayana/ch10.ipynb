{
 "metadata": {
  "name": "",
  "signature": ""
 },
 "nbformat": 3,
 "nbformat_minor": 0,
 "worksheets": [
  {
   "cells": [
    {
     "cell_type": "heading",
     "level": 1,
     "metadata": {},
     "source": [
      "Chapter10 - Magnetic Measurements"
     ]
    },
    {
     "cell_type": "heading",
     "level": 2,
     "metadata": {},
     "source": [
      "Exa 10.1 page 229"
     ]
    },
    {
     "cell_type": "code",
     "collapsed": false,
     "input": [
      "from __future__ import division\n",
      "from math import pi\n",
      "K=0.1*10**-3 \n",
      "d=60 \n",
      "N2=200 \n",
      "phi2=K*d/(2*N2) \n",
      "a2=25*10**-6 \n",
      "B=phi2/a2 \n",
      "N=300 \n",
      "I=10 \n",
      "l=0.1 \n",
      "H=N*I/l \n",
      "Permability_absolute=4*pi*10**-7 \n",
      "Permability_relative=B/(Permability_absolute*H)\n",
      "print \"Relative permability of iron = %.2f\"%(Permability_relative)"
     ],
     "language": "python",
     "metadata": {},
     "outputs": [
      {
       "output_type": "stream",
       "stream": "stdout",
       "text": [
        "Relative permability of iron = 15.92\n"
       ]
      }
     ],
     "prompt_number": 1
    },
    {
     "cell_type": "heading",
     "level": 2,
     "metadata": {},
     "source": [
      "Exa 10.2 page 229"
     ]
    },
    {
     "cell_type": "code",
     "collapsed": false,
     "input": [
      "N1=2500 \n",
      "I1=2 \n",
      "l1=1 \n",
      "a2=3*10**-4 \n",
      "Permability_absolute=4*pi*10**-7 \n",
      "phi2=Permability_absolute*N1*I1*a2/(l1) \n",
      "N2=50 \n",
      "theta=1 \n",
      "l=10 \n",
      "K=2*N2*phi2/(theta*l) \n",
      "a=60*pi*10**-7 \n",
      "print \"Galvanometer Constant=%.6f Wb turns/division\"%(K)"
     ],
     "language": "python",
     "metadata": {},
     "outputs": [
      {
       "output_type": "stream",
       "stream": "stdout",
       "text": [
        "Galvanometer Constant=0.000019 Wb turns/division\n"
       ]
      }
     ],
     "prompt_number": 2
    }
   ],
   "metadata": {}
  }
 ]
}
