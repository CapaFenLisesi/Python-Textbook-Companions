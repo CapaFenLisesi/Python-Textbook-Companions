{
 "metadata": {
  "name": "",
  "signature": ""
 },
 "nbformat": 3,
 "nbformat_minor": 0,
 "worksheets": [
  {
   "cells": [
    {
     "cell_type": "heading",
     "level": 1,
     "metadata": {},
     "source": [
      "Chapter6 - Location of the Faults"
     ]
    },
    {
     "cell_type": "heading",
     "level": 2,
     "metadata": {},
     "source": [
      "Exa 6.1 page 155"
     ]
    },
    {
     "cell_type": "code",
     "collapsed": false,
     "input": [
      "from __future__ import division\n",
      "r=250 \n",
      "s=1000 \n",
      "l=1000 \n",
      "x=r*l/s \n",
      "print \"Position of the fault=%.1fm\"%(x)"
     ],
     "language": "python",
     "metadata": {},
     "outputs": [
      {
       "output_type": "stream",
       "stream": "stdout",
       "text": [
        "Position of the fault=250.0m\n"
       ]
      }
     ],
     "prompt_number": 7
    },
    {
     "cell_type": "heading",
     "level": 2,
     "metadata": {},
     "source": [
      "Exa 6.2 page 156"
     ]
    },
    {
     "cell_type": "code",
     "collapsed": false,
     "input": [
      "r=600 \n",
      "s=1000 \n",
      "El=500*30/50 \n",
      "l=450+El \n",
      "x=r*l/s \n",
      "print \"Position of the fault=%.1f m\"%(x)"
     ],
     "language": "python",
     "metadata": {},
     "outputs": [
      {
       "output_type": "stream",
       "stream": "stdout",
       "text": [
        "Position of the fault=450.0 m\n"
       ]
      }
     ],
     "prompt_number": 8
    },
    {
     "cell_type": "heading",
     "level": 2,
     "metadata": {},
     "source": [
      "Exa 6.3 page 156"
     ]
    },
    {
     "cell_type": "code",
     "collapsed": false,
     "input": [
      "R_armature=0.256/16 \n",
      "print \"Armature Resistance=%.2f ohm\"%(R_armature)\n",
      "R_armature_true=0.256/(16-(0.256/10)) \n",
      "Error=R_armature-R_armature_true \n",
      "Error_percentage=Error*100/R_armature_true \n",
      "print \"\\nPercentage Error=%.2f\"%(Error_percentage)"
     ],
     "language": "python",
     "metadata": {},
     "outputs": [
      {
       "output_type": "stream",
       "stream": "stdout",
       "text": [
        "Armature Resistance=0.02 ohm\n",
        "\n",
        "Percentage Error=-0.16\n"
       ]
      }
     ],
     "prompt_number": 9
    },
    {
     "cell_type": "heading",
     "level": 2,
     "metadata": {},
     "source": [
      "Exa 6.4 page 157"
     ]
    },
    {
     "cell_type": "code",
     "collapsed": false,
     "input": [
      "R1=45 \n",
      "R2=100-R1 \n",
      "l=500 \n",
      "x=2*l*R1/(R1+R2) \n",
      "print \"Position of the fault from the test end=%.1f m\"%(x)"
     ],
     "language": "python",
     "metadata": {},
     "outputs": [
      {
       "output_type": "stream",
       "stream": "stdout",
       "text": [
        "Position of the fault from the test end=450.0 m\n"
       ]
      }
     ],
     "prompt_number": 10
    },
    {
     "cell_type": "heading",
     "level": 2,
     "metadata": {},
     "source": [
      "Exa 6.5 page 157"
     ]
    },
    {
     "cell_type": "code",
     "collapsed": false,
     "input": [
      "r3=300 \n",
      "r2=1500 \n",
      "r1=15 \n",
      "R=(r3/r2)*r1 \n",
      "l=4000 \n",
      "r3=180 \n",
      "d=(2*l/R)*(R*r2-r3*r1)/(r1+r2) \n",
      "print \"Distance of the fault=%.2fm\"%(d)"
     ],
     "language": "python",
     "metadata": {},
     "outputs": [
      {
       "output_type": "stream",
       "stream": "stdout",
       "text": [
        "Distance of the fault=3168.32m\n"
       ]
      }
     ],
     "prompt_number": 11
    }
   ],
   "metadata": {}
  }
 ]
}
