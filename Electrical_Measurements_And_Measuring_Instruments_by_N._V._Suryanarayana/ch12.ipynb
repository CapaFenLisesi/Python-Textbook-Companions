{
 "metadata": {
  "name": "",
  "signature": ""
 },
 "nbformat": 3,
 "nbformat_minor": 0,
 "worksheets": [
  {
   "cells": [
    {
     "cell_type": "heading",
     "level": 1,
     "metadata": {},
     "source": [
      "Chapter12 - Basic Transducers"
     ]
    },
    {
     "cell_type": "heading",
     "level": 2,
     "metadata": {},
     "source": [
      "Exa 12.1 page 244"
     ]
    },
    {
     "cell_type": "code",
     "collapsed": false,
     "input": [
      "K=4 \n",
      "strain=1*10**-6 \n",
      "R=150 \n",
      "dR=K*strain*R*10**6 \n",
      "print \"Change in resistance = %.1f micro-ohm\"%(dR)"
     ],
     "language": "python",
     "metadata": {},
     "outputs": [
      {
       "output_type": "stream",
       "stream": "stdout",
       "text": [
        "Change in resistance = 600.0 micro-ohm\n"
       ]
      }
     ],
     "prompt_number": 1
    },
    {
     "cell_type": "heading",
     "level": 2,
     "metadata": {},
     "source": [
      "Exa 12.2 page 244"
     ]
    },
    {
     "cell_type": "code",
     "collapsed": false,
     "input": [
      "from math import pi\n",
      "d=0.03 \n",
      "a=pi*d**2/4 \n",
      "f=40000 \n",
      "l=0.5 \n",
      "E=3*10**10 \n",
      "dl=f*l/(E*a) \n",
      "print \"Change in length = %.6f m\"%(dl)"
     ],
     "language": "python",
     "metadata": {},
     "outputs": [
      {
       "output_type": "stream",
       "stream": "stdout",
       "text": [
        "Change in length = 0.000943 m\n"
       ]
      }
     ],
     "prompt_number": 2
    },
    {
     "cell_type": "heading",
     "level": 2,
     "metadata": {},
     "source": [
      "Exa 12.3 page 245"
     ]
    },
    {
     "cell_type": "code",
     "collapsed": false,
     "input": [
      "d=10**-4 \n",
      "A=6*10**-3 \n",
      "permitivity_absolute=8.854*10**-12 \n",
      "permitivity_relative=1\n",
      "C=permitivity_absolute*permitivity_relative*A*10**12/d \n",
      "print \"capacitance = %.2f pF\"%(C)"
     ],
     "language": "python",
     "metadata": {},
     "outputs": [
      {
       "output_type": "stream",
       "stream": "stdout",
       "text": [
        "capacitance = 531.24 pF\n"
       ]
      }
     ],
     "prompt_number": 3
    },
    {
     "cell_type": "heading",
     "level": 2,
     "metadata": {},
     "source": [
      "Exa 12.4 page 246"
     ]
    },
    {
     "cell_type": "code",
     "collapsed": false,
     "input": [
      "print '1.5 cm core displacement produces 6V so'\n",
      "d_15=6 \n",
      "d_18=1.8*d_15/1.5\n",
      "print \"1.8 cm core displacement produces = %.2f V\"%(d_18) \n",
      "d_08=(-0.8)*(-d_15)/(-1.5) \n",
      "print \"-0.8 cm core displacement produces = %.2f V\"%(d_08) \n",
      "d_06=(-0.6)*(-d_15)/(-1.5) \n",
      "print \"-0.6 cm core displacement produces = %.2f V\"%(d_06) "
     ],
     "language": "python",
     "metadata": {},
     "outputs": [
      {
       "output_type": "stream",
       "stream": "stdout",
       "text": [
        "1.5 cm core displacement produces 6V so\n",
        "1.8 cm core displacement produces = 7.20 V\n",
        "-0.8 cm core displacement produces = -3.20 V\n",
        "-0.6 cm core displacement produces = -2.40 V\n"
       ]
      }
     ],
     "prompt_number": 4
    },
    {
     "cell_type": "heading",
     "level": 2,
     "metadata": {},
     "source": [
      "Exa 12.5 page 247"
     ]
    },
    {
     "cell_type": "code",
     "collapsed": false,
     "input": [
      "k=4*10**3 \n",
      "dx=0.04 \n",
      "m=0.1 \n",
      "acc=k*dx/m \n",
      "accg=acc/9.8 \n",
      "print \"acceleration=%.2f g\"%(accg)\n",
      "fn=(1/2*pi)*(k/m)**0.5 \n",
      "print \"Natural Frequency = %.2f Hz\"%(fn)"
     ],
     "language": "python",
     "metadata": {},
     "outputs": [
      {
       "output_type": "stream",
       "stream": "stdout",
       "text": [
        "acceleration=163.27 g\n",
        "Natural Frequency = 0.00 Hz\n"
       ]
      }
     ],
     "prompt_number": 6
    }
   ],
   "metadata": {}
  }
 ]
}
