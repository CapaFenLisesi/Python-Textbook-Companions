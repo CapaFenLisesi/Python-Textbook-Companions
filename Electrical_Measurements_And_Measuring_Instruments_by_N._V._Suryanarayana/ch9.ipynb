{
 "metadata": {
  "name": "",
  "signature": ""
 },
 "nbformat": 3,
 "nbformat_minor": 0,
 "worksheets": [
  {
   "cells": [
    {
     "cell_type": "heading",
     "level": 1,
     "metadata": {},
     "source": [
      "Chapter9 - Instrument Transformers"
     ]
    },
    {
     "cell_type": "heading",
     "level": 2,
     "metadata": {},
     "source": [
      "Exa 9.1 page 203"
     ]
    },
    {
     "cell_type": "code",
     "collapsed": false,
     "input": [
      "from cmath import polar, sin\n",
      "from __future__ import division\n",
      "n=300/1 \n",
      "Z2=1.5+1J \n",
      "I2=5 \n",
      "E2=I2*Z2\n",
      "E1=E2/n \n",
      "from math import atan, degrees, sin, cos\n",
      "alpha=(atan(1/1.5))\n",
      "Io=(100+40*1J)\n",
      "delta=(atan(40/100) )\n",
      "sigma=-(Io*sin(alpha+delta))*100/(n*I2) \n",
      "print \"Ratio error=%.2f percent\"%abs(sigma)\n",
      "bet=(Io*cos(alpha+delta))/(n*I2) \n",
      "print \"Phase angle=%.2f degree\"%abs(bet)"
     ],
     "language": "python",
     "metadata": {},
     "outputs": [
      {
       "output_type": "stream",
       "stream": "stdout",
       "text": [
        "Ratio error=5.92 percent\n",
        "Phase angle=0.04 degree\n"
       ]
      }
     ],
     "prompt_number": 20
    },
    {
     "cell_type": "heading",
     "level": 2,
     "metadata": {},
     "source": [
      "Exa 9.2 page 203"
     ]
    },
    {
     "cell_type": "code",
     "collapsed": false,
     "input": [
      "I_ratio=500/5 \n",
      "n=1/100 \n",
      "I2=300/100 \n",
      "print \"Secondary current=%.2f A\"%(I2)\n",
      "V2=I2*1.5 \n",
      "print \"Secondary voltage=%.2f V\"%(V2)"
     ],
     "language": "python",
     "metadata": {},
     "outputs": [
      {
       "output_type": "stream",
       "stream": "stdout",
       "text": [
        "Secondary current=3.00 A\n",
        "Secondary voltage=4.50 V\n"
       ]
      }
     ],
     "prompt_number": 21
    },
    {
     "cell_type": "heading",
     "level": 2,
     "metadata": {},
     "source": [
      "Exa 9.3 page 204"
     ]
    },
    {
     "cell_type": "code",
     "collapsed": false,
     "input": [
      "V_line=200*33000/220 \n",
      "print \"Voltage on line=%.0f \"%V_line\n",
      "I_line=4*100/5 \n",
      "print \"Current in line=%.0f A\"%(I_line)"
     ],
     "language": "python",
     "metadata": {},
     "outputs": [
      {
       "output_type": "stream",
       "stream": "stdout",
       "text": [
        "Voltage on line=30000 \n",
        "Current in line=80 A\n"
       ]
      }
     ],
     "prompt_number": 22
    },
    {
     "cell_type": "heading",
     "level": 2,
     "metadata": {},
     "source": [
      "Exa 9.4 page 205"
     ]
    },
    {
     "cell_type": "code",
     "collapsed": false,
     "input": [
      "n=1000/5 \n",
      "Ie=0.7*1000/100 \n",
      "Tp=1 \n",
      "n=200 \n",
      "Ts=200 \n",
      "R_actual=Ts+(7/5) \n",
      "Error_ratio=(200-R_actual)*100/R_actual \n",
      "print \"Ratio error=%.2f percent\"%(Error_ratio)\n",
      "Ts=200-(0.5*200/100) \n",
      "n=199/1 \n",
      "R_actual=Ts+(7/5) \n",
      "Error_ratio=(200-R_actual)*100/R_actual \n",
      "print \"Ratio error=%.2f percent\"%(Error_ratio)"
     ],
     "language": "python",
     "metadata": {},
     "outputs": [
      {
       "output_type": "stream",
       "stream": "stdout",
       "text": [
        "Ratio error=-0.70 percent\n",
        "Ratio error=-0.20 percent\n"
       ]
      }
     ],
     "prompt_number": 23
    },
    {
     "cell_type": "heading",
     "level": 2,
     "metadata": {},
     "source": [
      "Exa 9.5 page 206"
     ]
    },
    {
     "cell_type": "code",
     "collapsed": false,
     "input": [
      "Vp=1000 \n",
      "Vs=100 \n",
      "n=Vp/Vs \n",
      "pf_no_load=0.4 \n",
      "sina=0.4 \n",
      "cosa= (1-sina**2)**0.5 \n",
      "tana=sina/cosa \n",
      "Im=0.02 \n",
      "Ie=Im*tana \n",
      "xp=66.2 \n",
      "rp=94.5 \n",
      "#At no load Is=0 so\n",
      "theta=((Ie*xp)-(Im*rp))/(n*Vs) \n",
      "print \"Phase angle error at no load=%.4f\"%(theta)"
     ],
     "language": "python",
     "metadata": {},
     "outputs": [
      {
       "output_type": "stream",
       "stream": "stdout",
       "text": [
        "Phase angle error at no load=-0.0013\n"
       ]
      }
     ],
     "prompt_number": 24
    },
    {
     "cell_type": "heading",
     "level": 2,
     "metadata": {},
     "source": [
      "Exa 9.6 page 207"
     ]
    },
    {
     "cell_type": "code",
     "collapsed": false,
     "input": [
      "E2=((1.8+5*0.16)**2+(2.4+5*0.195)**2)**0.5 \n",
      "pf2=2.6/E2 \n",
      "AT_sec=600 \n",
      "sina=3.375/E2 \n",
      "AT_pri=600+10.1*pf2+13.4*sina \n",
      "I1=AT_pri/40 \n",
      "Ratio_error=(15-I1)*100/I1 \n",
      "print \"Ratio error=%.2f percent\"%(Ratio_error)"
     ],
     "language": "python",
     "metadata": {},
     "outputs": [
      {
       "output_type": "stream",
       "stream": "stdout",
       "text": [
        "Ratio error=-2.72 percent\n"
       ]
      }
     ],
     "prompt_number": 25
    }
   ],
   "metadata": {}
  }
 ]
}
