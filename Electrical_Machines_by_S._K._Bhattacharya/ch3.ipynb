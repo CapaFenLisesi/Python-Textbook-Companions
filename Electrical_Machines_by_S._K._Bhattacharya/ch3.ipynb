{
 "metadata": {
  "name": "",
  "signature": "sha256:f7ea291c8e2293a8fc339d930ac29424b99d2f3c6350ea4ec55a2d06cfae4c2d"
 },
 "nbformat": 3,
 "nbformat_minor": 0,
 "worksheets": [
  {
   "cells": [
    {
     "cell_type": "heading",
     "level": 1,
     "metadata": {},
     "source": [
      "Chapter 3 : Transformers"
     ]
    },
    {
     "cell_type": "heading",
     "level": 2,
     "metadata": {},
     "source": [
      "Example 3.1  Page No : 196"
     ]
    },
    {
     "cell_type": "code",
     "collapsed": false,
     "input": [
      "\n",
      "# Given Data\n",
      "kVA = 500.;                #rating\n",
      "V1 = 11000.;                #primary voltage in volts\n",
      "V2 = 400.;                  #secondary voltage in volts\n",
      "N2 = 100.;                  #number of turns in secondary winding\n",
      "f = 50.;                    #frequency in hertz\n",
      "\n",
      "# Calculations and Results\n",
      "N1 = (V1*N2)/V2;            #number of turns in primary winding\n",
      "print \"number of turns in primary  winding, N1 = %dturns\"%(N1)\n",
      "I1 = (kVA*1000)/V1;\n",
      "I2 = (kVA*1000)/V2\n",
      "print \"primary current, I1 = %fA\"%(I1)\n",
      "print \"secondary current, I2 = %fA\"%(I2)\n",
      "E1 = V1;\n",
      "phi = E1/(4.44*f*N1)\n",
      "print \"maximium flux in the core = %fWb\"%(phi)"
     ],
     "language": "python",
     "metadata": {},
     "outputs": [
      {
       "output_type": "stream",
       "stream": "stdout",
       "text": [
        "number of turns in primary  winding, N1 = 2750turns\n",
        "primary current, I1 = 45.454545A\n",
        "secondary current, I2 = 1250.000000A\n",
        "maximium flux in the core = 0.018018Wb\n"
       ]
      }
     ],
     "prompt_number": 1
    },
    {
     "cell_type": "heading",
     "level": 2,
     "metadata": {},
     "source": [
      "Example 3.2  Page No : 196"
     ]
    },
    {
     "cell_type": "code",
     "collapsed": false,
     "input": [
      "\n",
      "# Given Data\n",
      "V1 = 6600.;                #primary voltage in volts\n",
      "V2 = 230.;                  #secondary voltage in volts\n",
      "f = 50.;                    #frequency in hertz\n",
      "Bm = 1.1;                    #flux density in Wb/m**2\n",
      "\n",
      "# Calculations and Results\n",
      "A = (25*25*10**(-4));         #area of the core in m**2\n",
      "phi = Bm*A\n",
      "print \"flux = %fWb\"%(phi)\n",
      "E1 = V1;\n",
      "E2 = V2;\n",
      "N1 = E1/(4.44*f*phi);\n",
      "N2 = E2/(4.44*f*phi);\n",
      "print \"number of turns in primary winding, N1 = %dturns\"%(N1)\n",
      "print \"number of turns in secondary winding, N2 = %dturns\"%(N2)"
     ],
     "language": "python",
     "metadata": {},
     "outputs": [
      {
       "output_type": "stream",
       "stream": "stdout",
       "text": [
        "flux = 0.068750Wb\n",
        "number of turns in primary winding, N1 = 432turns\n",
        "number of turns in secondary winding, N2 = 15turns\n"
       ]
      }
     ],
     "prompt_number": 2
    },
    {
     "cell_type": "heading",
     "level": 2,
     "metadata": {},
     "source": [
      "Example 3.3  Page No : 197"
     ]
    },
    {
     "cell_type": "code",
     "collapsed": false,
     "input": [
      "# Given Data\n",
      "V1 = 230.;                #primary voltage in volts\n",
      "f = 50.;                    #frequency in hertz\n",
      "N1 = 100.;                  #number of primary turns\n",
      "N2 = 400.;                  #number of secondary turns\n",
      "\n",
      "# Calculations and Results\n",
      "A = 250.*10**(-4);            #cross section area of core in m**2\n",
      "print (\"since at no-load E2 = V2\")\n",
      "E2 = (V1*N2)/N1;\n",
      "print \"induced secondary winding, E2 = %dV\"%(E2);\n",
      "phi = E2/(4.44*f*N2);\n",
      "Bm = phi/A;\n",
      "print \"Maximium flux density in the core = %fWb/m**2\"%(Bm)"
     ],
     "language": "python",
     "metadata": {},
     "outputs": [
      {
       "output_type": "stream",
       "stream": "stdout",
       "text": [
        "since at no-load E2 = V2\n",
        "induced secondary winding, E2 = 920V\n",
        "Maximium flux density in the core = 0.414414Wb/m**2\n"
       ]
      }
     ],
     "prompt_number": 3
    },
    {
     "cell_type": "heading",
     "level": 2,
     "metadata": {},
     "source": [
      "Example 3.4  Page No : 197"
     ]
    },
    {
     "cell_type": "code",
     "collapsed": false,
     "input": [
      "\n",
      "# Given Data\n",
      "kVA = 40.;                #rating of the transformer\n",
      "V1 = 2000.;                #primary side voltage in volts\n",
      "V2 = 250.;                 #secondary side voltage in volts\n",
      "R1 = 1.15;                #primary resistance in ohms\n",
      "R2 = 0.0155;              #secondary resistance in ohms\n",
      "\n",
      "# Calculations and Results\n",
      "R = R2+(((V2/V1)**2)*R1)\n",
      "print \"Total resistance of the transformer in terms of the secondary winding = %fohms\"%(R)\n",
      "I2 = (kVA*1000)/V2;\n",
      "print \"Full load secondary current = %dA\"%(I2)\n",
      "print \"Total resistance load on full load = %fVolts\"%(I2*R)\n",
      "print \"Total copper loss on full load = %fWatts\"%((I2)**2*R)\n"
     ],
     "language": "python",
     "metadata": {},
     "outputs": [
      {
       "output_type": "stream",
       "stream": "stdout",
       "text": [
        "Total resistance of the transformer in terms of the secondary winding = 0.033469ohms\n",
        "Full load secondary current = 160A\n",
        "Total resistance load on full load = 5.355000Volts\n",
        "Total copper loss on full load = 856.800000Watts\n"
       ]
      }
     ],
     "prompt_number": 4
    },
    {
     "cell_type": "heading",
     "level": 2,
     "metadata": {},
     "source": [
      "Example 3.5  Page No : 206"
     ]
    },
    {
     "cell_type": "code",
     "collapsed": false,
     "input": [
      "import math\n",
      "# Given Data\n",
      "I2 = 300.;                        #Secondary current in amperes\n",
      "N1 = 1200.;                        #number of primary turns\n",
      "N2 = 300.;                         #number of secondary turns\n",
      "I0 = 2.5;                         #load current in amperes\n",
      "\n",
      "# Calculations\n",
      "I1 = (I2*N2)/N1;\n",
      "phi0 = math.degrees(math.acos(0.2));\n",
      "phi2 = math.degrees(math.acos(0.8));\n",
      "I1c = (I1*math.cos(math.radians(phi2)))+(I0*math.cos(math.radians(phi0)));\n",
      "I1s = (I1*math.sin(math.radians(phi2)))+(I0*math.sin(math.radians(phi0)));\n",
      "I = math.sqrt(I1c**2+I1s**2);\n",
      "phi = math.radians(math.atan(I1s/I1c))\n",
      "\n",
      "# Results\n",
      "print \"primary power factor = %fdegrees\"%(math.cos(math.radians(phi)));"
     ],
     "language": "python",
     "metadata": {},
     "outputs": [
      {
       "output_type": "stream",
       "stream": "stdout",
       "text": [
        "primary power factor = 1.000000degrees\n"
       ]
      }
     ],
     "prompt_number": 6
    },
    {
     "cell_type": "heading",
     "level": 2,
     "metadata": {},
     "source": [
      "Example 3.6  Page No : 207"
     ]
    },
    {
     "cell_type": "code",
     "collapsed": false,
     "input": [
      "import math\n",
      "# Given Data\n",
      "I0 = 1.5;                #no-load current\n",
      "phi0 = math.degrees(math.acos(0.2))\n",
      "I2 = 40;                 #secondary current in amperes\n",
      "phi2 = math.degrees(math.acos(0.8))\n",
      "r = 3;                    #ratio of primary and secondary turns\n",
      "I1 = I2/r;            \n",
      "\n",
      "# Calculations\n",
      "I1c = (I1*math.cos(math.radians(phi2)))+(I0*math.cos(math.radians(phi0)));\n",
      "I1s = (I1*math.sin(math.radians(phi2)))+(I0*math.sin(math.radians(phi0)));\n",
      "I = math.sqrt(I1c**2+I1s**2);\n",
      "\n",
      "# Results\n",
      "print \"I1 = %fA\"%(I)\n",
      "\n"
     ],
     "language": "python",
     "metadata": {},
     "outputs": [
      {
       "output_type": "stream",
       "stream": "stdout",
       "text": [
        "I1 = 14.156879A\n"
       ]
      }
     ],
     "prompt_number": 7
    },
    {
     "cell_type": "heading",
     "level": 2,
     "metadata": {},
     "source": [
      "Example 3.7  Page No : 208"
     ]
    },
    {
     "cell_type": "code",
     "collapsed": false,
     "input": [
      "import math \n",
      "\n",
      "# Given Data\n",
      "V1 = 230.;                #voltage in volts\n",
      "f = 50.;                  #frequency of supply in hertz\n",
      "N1 = 250.;                #number of primary turns\n",
      "I0 = 4.5;                #no-load current in amperes\n",
      "\n",
      "# Calculations and Results\n",
      "phi0 = math.degrees(math.acos(0.25));\n",
      "Im = I0*math.sin(math.radians(phi0))\n",
      "print \"magnetimath.sing current, Im = %fA\"%(Im);\n",
      "\n",
      "Pc = V1*I0*math.cos(math.radians(phi0));\n",
      "print \"Core loss = %dW\"%(Pc)\n",
      "print (\"neglecting I**2R loss in primary winding at no-load\")\n",
      "E1 = V1;\n",
      "phi = E1/(4.44*f*N1);\n",
      "print \"Maximium value of flux in the core = %fWb\"%(phi)"
     ],
     "language": "python",
     "metadata": {},
     "outputs": [
      {
       "output_type": "stream",
       "stream": "stdout",
       "text": [
        "magnetimath.sing current, Im = 4.357106A\n",
        "Core loss = 258W\n",
        "neglecting I**2R loss in primary winding at no-load\n",
        "Maximium value of flux in the core = 0.004144Wb\n"
       ]
      }
     ],
     "prompt_number": 8
    },
    {
     "cell_type": "heading",
     "level": 2,
     "metadata": {},
     "source": [
      "Example 3.8  Page No : 209"
     ]
    },
    {
     "cell_type": "code",
     "collapsed": false,
     "input": [
      "import math \n",
      "\n",
      "# Given Data\n",
      "I2 = 30.;                        #Secondary current in amperes\n",
      "I0 = 2.;                         #load current in amperes\n",
      "V1 = 660.;                        #primary voltage in volts\n",
      "V2 = 220.;                        #secondary voltage in volts\n",
      "\n",
      "# Calculations\n",
      "I1 = (I2*V2)/V1;\n",
      "phi0 = math.degrees(math.acos(0.225));\n",
      "phi2 = math.degrees(math.acos(0.9));\n",
      "I1c = (I1*math.cos(math.radians(phi2)))+(I0*math.cos(math.radians(phi0)));\n",
      "I1s = (I1*math.sin(math.radians(phi2)))+(I0*math.sin(math.radians(phi0)));\n",
      "I = math.sqrt(I1c**2+I1s**2);\n",
      "phi = math.degrees(math.atan(I1s/I1c))\n",
      "\n",
      "# Results\n",
      "print \"I1 = %fA\"%(I)\n",
      "print \"primary power factor = %fdegrees\"%(math.cos(math.radians(phi)));\n"
     ],
     "language": "python",
     "metadata": {},
     "outputs": [
      {
       "output_type": "stream",
       "stream": "stdout",
       "text": [
        "I1 = 11.361713A\n",
        "primary power factor = 0.831741degrees\n"
       ]
      }
     ],
     "prompt_number": 9
    },
    {
     "cell_type": "heading",
     "level": 2,
     "metadata": {},
     "source": [
      "Example 3.9  Page No : 210"
     ]
    },
    {
     "cell_type": "code",
     "collapsed": false,
     "input": [
      "import math \n",
      "\n",
      "# Given Data\n",
      "phi_m = 7.5*10**(-3);                    #maximium flux\n",
      "f = 50.;                            #frequecy in hertz\n",
      "N1 = 144.;                         #number of primary turns\n",
      "N2 = 432.;                         #number of secondary turns\n",
      "kVA = 0.24;                        #rating of transformer\n",
      "\n",
      "# Calculations and Results\n",
      "E1 = (4.44*phi_m*f*N1)\n",
      "V1 = E1;\n",
      "print \"V1 = %dV\"%(V1)\n",
      "I0 = (kVA*1000)/V1;\n",
      "phi0 = math.degrees(math.acos(0.26));\n",
      "Im = I0*math.sin(math.radians(phi0));\n",
      "print \"Im = %fA\"%(Im);\n",
      "V2 = (E1*N2)/N1\n",
      "print \"V2 = %fV\"%(V2)\n",
      "print (\"At a load of 1.2kVA and power factor of 0.8 lagging\")\n",
      "kVA = 1.2;\n",
      "phi2 = math.degrees(math.acos(0.8));\n",
      "I2 = (kVA*1000)/V2;\n",
      "I = (I2*N2)/N1;\n",
      "I1c = (I*math.cos(math.radians(phi2)))+(I0*math.cos(math.radians(phi0)));\n",
      "I1s = (I*math.sin(math.radians(phi2)))+(I0*math.sin(math.radians(phi0)));\n",
      "I = math.sqrt(I1c**2+I1s**2);\n",
      "print \"I1 = %fA\"%(I);\n",
      "phi = math.degrees(math.acos(((I*math.cos(math.radians(phi2)))+(I0*math.cos(math.radians(phi0))))/I));\n",
      "print \"primary power factor = %flagging\"%(math.cos(math.radians(phi)))"
     ],
     "language": "python",
     "metadata": {},
     "outputs": [
      {
       "output_type": "stream",
       "stream": "stdout",
       "text": [
        "V1 = 239V\n",
        "Im = 0.966575A\n",
        "V2 = 719.280000V\n",
        "At a load of 1.2kVA and power factor of 0.8 lagging\n",
        "I1 = 5.825933A\n",
        "primary power factor = 0.844673lagging\n"
       ]
      }
     ],
     "prompt_number": 11
    },
    {
     "cell_type": "heading",
     "level": 2,
     "metadata": {},
     "source": [
      "Example 3.10  Page No : 211"
     ]
    },
    {
     "cell_type": "code",
     "collapsed": false,
     "input": [
      "import math\n",
      "# Given Data\n",
      "V1 = 6600.;                    #primary voltage in volts\n",
      "V2 = 240.;                     #secondary voltage in volts\n",
      "kW1 = 10.;                     #power\n",
      "phi1 = math.degrees(math.acos(0.8));\n",
      "I2 = 50.;                       #current in amperes\n",
      "kW3 = 5.;                       #power\n",
      "phi2 = math.degrees(math.acos(0.7))\n",
      "kVA = 8;                       #rating\n",
      "phi4 = math.degrees(math.acos(0.6))         \n",
      "\n",
      "# Calculations and Results\n",
      "I1 = (kW1*1000)/(math.cos(math.radians(phi1))*V2);\n",
      "I3 = (kW3*1000)/(1*V2);\n",
      "I4 = (kVA*1000)/V2;\n",
      "Ih = ((I1*math.cos(math.radians(phi1)))+(I2*math.cos(math.radians(phi2)))+I3+(I4*math.cos(math.radians(phi4))));\n",
      "Iv = ((I1*math.sin(math.radians(phi1)))+(I2*math.sin(math.radians(phi2)))-(I4*math.sin(math.radians(phi4))));\n",
      "I5 = math.sqrt((Ih**2)+(Iv**2))\n",
      "print \"I5 = %dA\"%(I5)\n",
      "Ip = (I5*V2)/V1;\n",
      "print \"The current drawn by the primary from 6600Vmains is equal to, Ip = %fA\"%(Ip);\n",
      "phi = math.degrees(math.atan(Iv/Ih));\n",
      "print \"power factor = %flagging\"%math.cos(math.radians(phi))\n",
      "\n"
     ],
     "language": "python",
     "metadata": {},
     "outputs": [
      {
       "output_type": "stream",
       "stream": "stdout",
       "text": [
        "I5 = 124A\n",
        "The current drawn by the primary from 6600Vmains is equal to, Ip = 4.516939A\n",
        "power factor = 0.945934lagging\n"
       ]
      }
     ],
     "prompt_number": 12
    },
    {
     "cell_type": "heading",
     "level": 2,
     "metadata": {},
     "source": [
      "Example 3.11  Page No : 212"
     ]
    },
    {
     "cell_type": "code",
     "collapsed": false,
     "input": [
      "# Given Data\n",
      "kVA = 100.;                #rating of the tronsfromer\n",
      "N1 = 400.;                   #number of primary turns\n",
      "N2 = 80.;                    #number of secondary turns\n",
      "R1 = 0.3;                    #primary resistance in ohms\n",
      "R2 = 0.01;                    #secondary resistance in ohms\n",
      "X1 = 1.1;                        #primary leakage reactance in ohs\n",
      "X2 = 0.035;                     #secondary leakage reactance in ohms\n",
      "\n",
      "# Calculations and Results\n",
      "Rr2 = (((N1/N2)**2)*R2)\n",
      "print \"R2 = %f ohms\"%(Rr2);\n",
      "Xx2 = (((N1/N2)**2)*X2);\n",
      "print \"X2 = %f ohms\"%(Xx2);\n",
      "Ze = math.sqrt((R1+Rr2)**2+(X1+Xx2)**2);\n",
      "print \"Equivqlent impedence = %f\"%(Ze);"
     ],
     "language": "python",
     "metadata": {},
     "outputs": [
      {
       "output_type": "stream",
       "stream": "stdout",
       "text": [
        "R2 = 0.250000 ohms\n",
        "X2 = 0.875000 ohms\n",
        "Equivqlent impedence = 2.050152\n"
       ]
      }
     ],
     "prompt_number": 13
    },
    {
     "cell_type": "heading",
     "level": 2,
     "metadata": {},
     "source": [
      "Example 3.12  Page No : 216"
     ]
    },
    {
     "cell_type": "code",
     "collapsed": false,
     "input": [
      "\n",
      "# Given Data\n",
      "f = 50.;                #frequency in hertz\n",
      "r = 6.;                #turns ratio\n",
      "R1 = 0.90;             #primary resistance in ohms\n",
      "R2 = 0.03;              #secondary resistance in ohms\n",
      "X1 = 5.;                 #primary reactance in ohms\n",
      "X2 = 0.13;              #secondary reactance in ohms\n",
      "I2 = 200.;                #full-load current\n",
      "\n",
      "# Calculations and Results\n",
      "Re = (R1+(R2*r**2));\n",
      "print \"equivalent resistance reffered to primary, Re = %fohms\"%(Re);\n",
      "Xe = (X1+(X2*r**2));\n",
      "print \"equivalent reactance reffered to primary, Xe = %fohms\"%(Xe);\n",
      "Ze = math.sqrt(Re**2+Xe**2);\n",
      "print \"equivalent impedance reffered to primary, Ze = %fohms\"%(Ze);\n",
      "Ii2 = r*I2;\n",
      "print \"secondary current reffered to primary side = %fA\"%(Ii2);\n",
      "print \"a)Voltage to be applied to the high voltage side = %dvolts\"%(Ii2*Ze);\n",
      "print \"b)Power factor = %f\"%(Re/Ze);\n"
     ],
     "language": "python",
     "metadata": {},
     "outputs": [
      {
       "output_type": "stream",
       "stream": "stdout",
       "text": [
        "equivalent resistance reffered to primary, Re = 1.980000ohms\n",
        "equivalent reactance reffered to primary, Xe = 9.680000ohms\n",
        "equivalent impedance reffered to primary, Ze = 9.880425ohms\n",
        "secondary current reffered to primary side = 1200.000000A\n",
        "a)Voltage to be applied to the high voltage side = 11856volts\n",
        "b)Power factor = 0.200396\n"
       ]
      }
     ],
     "prompt_number": 14
    },
    {
     "cell_type": "heading",
     "level": 2,
     "metadata": {},
     "source": [
      "Example 3.13  Page No : 216"
     ]
    },
    {
     "cell_type": "code",
     "collapsed": false,
     "input": [
      "\n",
      "# Given Data\n",
      "R1 = 0.21;                    #primary resistance in ohms\n",
      "X1 = 1.;                        #primary reactance in ohms\n",
      "R2 = 2.72*10**(-4);            #secondary resistance in ohms\n",
      "X2 = 1.3*10**(-3);              #secondary reactanced in ohms\n",
      "V1 = 6600.;                      #primary voltage in volts\n",
      "V2 = 250.;                        #secondary voltage in volts\n",
      "\n",
      "# Calculations and Results\n",
      "r = V1/V2;                         #turns ratio\n",
      "Re = R1+(r**2*R2);\n",
      "print \"Equivalent resistance referred to primary side = %fohms\"%(Re);\n",
      "Xe = X1+(r**2*X2);\n",
      "print \"Equivalent reactance referred to primary side = %fohms\"%(Xe);\n",
      "Ze = math.sqrt(Re**2+Xe**2);\n",
      "print \"equivalent impedance reffered to primary, Ze = %fohms\"%(Ze);\n",
      "V = 400.;                        #voltage in volts\n",
      "I1 = V/Ze;\n",
      "print \"I1 = %f\"%(I1);\n",
      "print \"Power input = %fW\"%(I1**2*Re);\n",
      "\n"
     ],
     "language": "python",
     "metadata": {},
     "outputs": [
      {
       "output_type": "stream",
       "stream": "stdout",
       "text": [
        "Equivalent resistance referred to primary side = 0.399573ohms\n",
        "Equivalent reactance referred to primary side = 1.906048ohms\n",
        "equivalent impedance reffered to primary, Ze = 1.947480ohms\n",
        "I1 = 205.393656\n",
        "Power input = 16856.612924W\n"
       ]
      }
     ],
     "prompt_number": 17
    },
    {
     "cell_type": "heading",
     "level": 2,
     "metadata": {},
     "source": [
      "Example 3.14  Page No : 217"
     ]
    },
    {
     "cell_type": "code",
     "collapsed": false,
     "input": [
      "\n",
      "# Given Data\n",
      "N1 = 90.;                #number of primary turns\n",
      "N2 = 180.;                #number of secondary turns\n",
      "R1 = 0.067;              #primary resistance in ohms\n",
      "R2 = 0.233;              #secondary resistance in ohms\n",
      "\n",
      "# Calculations and Results\n",
      "print \"Primary winding resistance referred to secondary side = %fohms\"%((R1*N2/N1)**2)\n",
      "print \"secondary winding resistance referred to primary side = %fohms\"%((R2*N1/N2)**2)\n",
      "print \"Total resistance of the transformer refferred to primary side = %fohms\"%((((R1*N2/N1)**2)+R2*N2/N1)**2)"
     ],
     "language": "python",
     "metadata": {},
     "outputs": [
      {
       "output_type": "stream",
       "stream": "stdout",
       "text": [
        "Primary winding resistance referred to secondary side = 0.017956ohms\n",
        "secondary winding resistance referred to primary side = 0.013572ohms\n",
        "Total resistance of the transformer refferred to primary side = 0.234213ohms\n"
       ]
      }
     ],
     "prompt_number": 18
    },
    {
     "cell_type": "heading",
     "level": 2,
     "metadata": {},
     "source": [
      "Example 3.15  Page No : 217"
     ]
    },
    {
     "cell_type": "code",
     "collapsed": false,
     "input": [
      "\n",
      "# Given Data\n",
      "kVA = 30.;                #rating of the transformer\n",
      "V1 = 6000.;                #primary voltage in volts\n",
      "V2 = 230.;                #secondary voltage in volts\n",
      "R1 = 10.;                #primary resistance in ohms\n",
      "R2 = 0.016;              #secondary resistance in ohms\n",
      "Xe = 23.;                    #total reactance reffered to the primary\n",
      "\n",
      "# Calculations and Results\n",
      "phi = math.degrees(math.acos(0.8));                #lagging\n",
      "Re = (R1+((V1/V2)**2*R2))\n",
      "print \"equivalent resistance, Re = %fohms\"%(Re)\n",
      "I2dash = (kVA*1000)/V1;\n",
      "V2dash = 5847;\n",
      "Reg = ((I2dash*((Re*math.cos(math.radians(phi)))+(Xe*math.sin(math.radians(phi)))))*100)/V2dash;\n",
      "print \"percentage regulation = %fpercent\"%(Reg)"
     ],
     "language": "python",
     "metadata": {},
     "outputs": [
      {
       "output_type": "stream",
       "stream": "stdout",
       "text": [
        "equivalent resistance, Re = 20.888469ohms\n",
        "percentage regulation = 2.609097percent\n"
       ]
      }
     ],
     "prompt_number": 19
    },
    {
     "cell_type": "heading",
     "level": 2,
     "metadata": {},
     "source": [
      "Example 3.16  Page No : 218"
     ]
    },
    {
     "cell_type": "code",
     "collapsed": false,
     "input": [
      "\n",
      "# Given Data\n",
      "kVA = 10.;                #rating of the transformer\n",
      "V1 = 2000.;                #primary voltage in volts\n",
      "V2 = 400.;                #secondary voltage in volts\n",
      "R1 = 5.5;                #primary voltage in ohms\n",
      "R2 = 0.2;                #secondary voltage in ohms\n",
      "X1 = 12.;                  #primary reactance in ohms\n",
      "X2 = 0.45;                #secondary reactance in ohms\n",
      "\n",
      "# Calculations and Results\n",
      "#assuming  (V1/V2) = (N1/N2)\n",
      "Re = R2+(R1*(V2/V1)**2);\n",
      "print \"equivalent resistance referred to the secondary = %fohms\"%(Re);\n",
      "Xe = X2+(X1*(V2/V1)**2);\n",
      "print \"equivalent reactance referred to the secondary = %fohms\"%(Xe);\n",
      "Ze = math.sqrt(Re**2+Xe**2);\n",
      "print \"equivalent impedance referred to the secondary = %fohms\"%(Ze);\n",
      "phi = math.degrees(math.acos(0.8));\n",
      "Vl = 374.5;\n",
      "print \"Voltage across the full load and 0.8 p.f lagging = %fV\"%(Vl);\n",
      "reg = ((V2-Vl)*100)/Vl;\n",
      "print \"percentage voltage regulation = %f percent\"%(reg);\n",
      "\n"
     ],
     "language": "python",
     "metadata": {},
     "outputs": [
      {
       "output_type": "stream",
       "stream": "stdout",
       "text": [
        "equivalent resistance referred to the secondary = 0.420000ohms\n",
        "equivalent reactance referred to the secondary = 0.930000ohms\n",
        "equivalent impedance referred to the secondary = 1.020441ohms\n",
        "Voltage across the full load and 0.8 p.f lagging = 374.500000V\n",
        "percentage voltage regulation = 6.809079 percent\n"
       ]
      }
     ],
     "prompt_number": 20
    },
    {
     "cell_type": "heading",
     "level": 2,
     "metadata": {},
     "source": [
      "Example 3.17  Page No : 219"
     ]
    },
    {
     "cell_type": "code",
     "collapsed": false,
     "input": [
      "\n",
      "# Given Data\n",
      "kVA = 80.;                #rating of the transformer\n",
      "V1 = 2000.;                #primary voltage in volts\n",
      "V2 = 200.;                 #secondary voltage in volts\n",
      "f = 50.;                    #frequency in hertz\n",
      "Id = 8.;                    #impedence drop\n",
      "Rd = 4.;                    #resistance drop\n",
      "\n",
      "# Calculations and Results\n",
      "phi = math.degrees(math.acos(0.8))\n",
      "I2Ze = (V2*Id)/100;\n",
      "I2Re = (V2*Rd)/100;\n",
      "I2Xe = math.sqrt(I2Ze**2-I2Re**2)\n",
      "reg = ((I2Re*math.cos(math.radians(phi)))+(I2Xe*math.sin(math.radians(phi))))*(100/V2)\n",
      "print \"percentage regulation = %fpercent\"%(reg)\n",
      "pf = I2Xe/math.sqrt(I2Re**2+I2Xe**2)\n",
      "print \"Power factor for zero regulation = %fleading)\"%(pf)\n"
     ],
     "language": "python",
     "metadata": {},
     "outputs": [
      {
       "output_type": "stream",
       "stream": "stdout",
       "text": [
        "percentage regulation = 7.356922percent\n",
        "Power factor for zero regulation = 0.866025leading)\n"
       ]
      }
     ],
     "prompt_number": 21
    },
    {
     "cell_type": "heading",
     "level": 2,
     "metadata": {},
     "source": [
      "Example 3.19  Page No : 225"
     ]
    },
    {
     "cell_type": "code",
     "collapsed": false,
     "input": [
      "\n",
      "# Given Data\n",
      "kVA = 50.;                        #rating of the transformer\n",
      "V1 = 3300.;                        #open circuit primary voltage\n",
      "Culoss = 540.;                    #copper loss from short circuit test\n",
      "coreloss = 460.;                  #core loss from open circuit test\n",
      "V1sc = 124.;                      #short circuit primary voltage in volts\n",
      "I1sc = 15.4;                      #short circuit primary current in amperes\n",
      "Psc = 540.                         #short circuit primary power in watts       \n",
      "\n",
      "# Calculations and Results\n",
      "phi = math.degrees(math.acos(0.8))\n",
      "effi = (kVA*1000*math.cos(math.radians(phi))*100)/((kVA*1000*math.cos(math.radians(phi)))+Culoss+coreloss)\n",
      "print \"From the open-circuit test, core-loss = %dW\"%(coreloss);\n",
      "print \"From short circuit test, copper loss = %dW\"%(Culoss);\n",
      "print \"The efficiency at full-load and 0.8 lagging power factor = %f\"%(effi);\n",
      "Ze = V1sc/I1sc;\n",
      "Re = Psc/I1sc**2;\n",
      "Xe = math.sqrt(Ze**2-Re**2);\n",
      "V2 = 3203;\n",
      "phi2 = math.degrees(math.acos(0.8));\n",
      "phie = math.degrees(math.acos(Culoss/(V1sc*I1sc)));\n",
      "reg = (V1sc*math.cos(math.radians(phie-phi2))*100)/V1;\n",
      "print \"Voltage regulation = %dpercent\"%(reg)"
     ],
     "language": "python",
     "metadata": {},
     "outputs": [
      {
       "output_type": "stream",
       "stream": "stdout",
       "text": [
        "From the open-circuit test, core-loss = 460W\n",
        "From short circuit test, copper loss = 540W\n",
        "The efficiency at full-load and 0.8 lagging power factor = 97.560976\n",
        "Voltage regulation = 3percent\n"
       ]
      }
     ],
     "prompt_number": 22
    },
    {
     "cell_type": "heading",
     "level": 2,
     "metadata": {},
     "source": [
      "Example 3.20  Page No : 226"
     ]
    },
    {
     "cell_type": "code",
     "collapsed": false,
     "input": [
      "import math \n",
      "\n",
      "# Given Data\n",
      "kVA = 100.;\n",
      "V1 = 6600.;                #primary voltage in volts\n",
      "V2 = 330.;                  #secondary voltage in volts\n",
      "f = 50.;                    #frequency in hertz\n",
      "V1sc = 100.;                      #short circuit primary voltage in volts\n",
      "I1sc = 10.;                      #short circuit primary current in amperes\n",
      "Psc = 436.;                         #short circuit primary power in watts       \n",
      "\n",
      "# Calculations and Results\n",
      "Ze = V1sc/I1sc;\n",
      "Re = Psc/I1sc**2;\n",
      "phi = math.degrees(math.acos(0.8));\n",
      "Xe = math.sqrt(Ze**2-Re**2);\n",
      "print \"Total resistance = %fohms\"%(Re);\n",
      "print \"Total impedence = %fohms\"%(Ze)\n",
      "Il = (kVA*1000)/V1;\n",
      "V1dash = (math.sqrt(((V1*math.cos(math.radians(phi)))+(Il*Re))**2+((V1*math.sin(math.radians(phi)))+(Il*Xe))**2));\n",
      "print \"full voltage current, V1 = %dV\"%(V1dash)"
     ],
     "language": "python",
     "metadata": {},
     "outputs": [
      {
       "output_type": "stream",
       "stream": "stdout",
       "text": [
        "Total resistance = 4.360000ohms\n",
        "Total impedence = 10.000000ohms\n",
        "full voltage current, V1 = 6735V\n"
       ]
      }
     ],
     "prompt_number": 23
    },
    {
     "cell_type": "heading",
     "level": 2,
     "metadata": {},
     "source": [
      "Example 3.21  Page No : 227"
     ]
    },
    {
     "cell_type": "code",
     "collapsed": false,
     "input": [
      "import math \n",
      "\n",
      "# Given Data\n",
      "V2 = 500.;                #secondary voltage in volts\n",
      "V1 = 250.;              #primary voltage in short circuit test in volts\n",
      "I0 = 1.;                #current in short circuit test in amperes\n",
      "P = 80.;                #core loss in watt\n",
      "Psc = 100.;                #power in short circuit test in watts\n",
      "Vsc = 20.;                 #short circuit voltage in volts   \n",
      "Isc = 12.;                 #short circuit current in amperes\n",
      "\n",
      "# Calculations and Results\n",
      "phi0 = math.degrees(math.acos(P/(V1*I0)));\n",
      "print \"From open circuit test , math.cos(phi0) = %f\"%(math.cos(phi0));\n",
      "Ic = I0*math.cos(math.radians(phi0));\n",
      "print \"Loss component of no-load current, Ic = %fA\"%(Ic)\n",
      "Im = math.sqrt(I0**2-Ic**2);\n",
      "print \"Magnetising current, Im = %fA\"%(Im);\n",
      "Rm = V1/Ic;\n",
      "Xm = V1/Im;\n",
      "Re = Psc/(Isc**2);\n",
      "Ze = Vsc/Isc;\n",
      "Xe = math.sqrt(Ze**2-Re**2);\n",
      "print \"Equvalent resistance referred to secondary = %fohms\"%(Re);\n",
      "print \"Equvalent reactance referred to secondary = %fohms\"%(Xe);\n",
      "print \"Equvalent impedance referred to secondary = %fohms\"%(Ze);\n",
      "K = V2/V1;                            #turns ratio\n",
      "print \"Equvalent resistance referred to primary = %fohms\"%(Re/K**2);\n",
      "print \"Equvalent reactance referred to primary = %fohms\"%(Xe/K**2);\n",
      "print \"Equvalent impedance referred to primary = %fohms\"%(Ze/K**2);\n",
      "V = 500;                        #output in volts\n",
      "I = 10;                         #output current in amperes\n",
      "phi = math.degrees(math.acos(0.80));\n",
      "effi = (V*I*math.cos(math.radians(phi))*100)/((V*I*math.cos(math.radians(phi)))+P+((I)**2*Re));\n",
      "print \"Effiency = %fpercent\"%(effi);"
     ],
     "language": "python",
     "metadata": {},
     "outputs": [
      {
       "output_type": "stream",
       "stream": "stdout",
       "text": [
        "From open circuit test , math.cos(phi0) = -0.606173\n",
        "Loss component of no-load current, Ic = 0.320000A\n",
        "Magnetising current, Im = 0.947418A\n",
        "Equvalent resistance referred to secondary = 0.694444ohms\n",
        "Equvalent reactance referred to secondary = 1.515099ohms\n",
        "Equvalent impedance referred to secondary = 1.666667ohms\n",
        "Equvalent resistance referred to primary = 0.173611ohms\n",
        "Equvalent reactance referred to primary = 0.378775ohms\n",
        "Equvalent impedance referred to primary = 0.416667ohms\n",
        "Effiency = 96.398447percent\n"
       ]
      }
     ],
     "prompt_number": 26
    },
    {
     "cell_type": "heading",
     "level": 2,
     "metadata": {},
     "source": [
      "Example 3.22  Page No : 231"
     ]
    },
    {
     "cell_type": "code",
     "collapsed": false,
     "input": [
      "import math \n",
      "\n",
      "# Given Data\n",
      "kVA = 200.;                #Rating of the transformer\n",
      "Pin = 3.4;                #power input to two transformer in watt\n",
      "Pin2 = 5.2;\n",
      "coreloss = Pin;           #core loss of two transformers\n",
      "\n",
      "# Calculations and Results\n",
      "phi = math.degrees(math.acos(0.8));\n",
      "print \"Core loss of two transformer = %fkW\"%(Pin)\n",
      "print \"Core loss of each transformer = %fkW\"%(Pin/2)\n",
      "print \"Full load copper loss of the two transformer = %fkW\"%(Pin2)\n",
      "print \"Therefore, full load copper loss of each transformer = %fkW\"%(Pin2/2);\n",
      "effi = (kVA*math.cos(math.radians(phi))*100)/((kVA*math.cos(math.radians(phi)))+(Pin/2)+(Pin2/2))\n",
      "print \"Full load efficiency at 0.8 p.f. lagging = %fpercent\"%(effi);"
     ],
     "language": "python",
     "metadata": {},
     "outputs": [
      {
       "output_type": "stream",
       "stream": "stdout",
       "text": [
        "Core loss of two transformer = 3.400000kW\n",
        "Core loss of each transformer = 1.700000kW\n",
        "Full load copper loss of the two transformer = 5.200000kW\n",
        "Therefore, full load copper loss of each transformer = 2.600000kW\n",
        "Full load efficiency at 0.8 p.f. lagging = 97.382836percent\n"
       ]
      }
     ],
     "prompt_number": 30
    },
    {
     "cell_type": "heading",
     "level": 2,
     "metadata": {},
     "source": [
      "Example 3.24  Page No : 233"
     ]
    },
    {
     "cell_type": "code",
     "collapsed": false,
     "input": [
      "\n",
      "# Given Data\n",
      "kVA = 50.;                          #rating of the transformer\n",
      "V1 = 6360.;                          #primary voltage rating\n",
      "V2 = 240.;                            #secondary voltage rating\n",
      "pf = 0.8\n",
      "coreloss = 2;                      #core loss in kilo watt from open circuit test\n",
      "Culoss = 2;                        #copper loss at secondary current of 175A\n",
      "I = 175.;                            #current in amperes\n",
      "\n",
      "# Calculations and Results\n",
      "I2 = (kVA*1000)/V2;\n",
      "print \"Full load secondary current, I2 = %fA\"%(I2);\n",
      "effi = (kVA*pf*100)/((kVA*pf)+coreloss+(Culoss*(I2/I)**2))\n",
      "print \"Efficiency = %fpercent\"%(effi)\n"
     ],
     "language": "python",
     "metadata": {},
     "outputs": [
      {
       "output_type": "stream",
       "stream": "stdout",
       "text": [
        "Full load secondary current, I2 = 208.333333A\n",
        "Efficiency = 89.217075percent\n"
       ]
      }
     ],
     "prompt_number": 31
    },
    {
     "cell_type": "heading",
     "level": 2,
     "metadata": {},
     "source": [
      "Example 3.25  Page No : 234"
     ]
    },
    {
     "cell_type": "code",
     "collapsed": false,
     "input": [
      "\n",
      "# Given Data\n",
      "kVA = 500.;                #rating of the transformer\n",
      "R1 = 0.4;                #resistance in primary winding inohms\n",
      "R2 = 0.001;              #resistance in secondary winding in ohms\n",
      "V1 = 6600.;                #primary voltahe in volts\n",
      "V2 = 400.;                 #secondary voltage in volts\n",
      "ironloss = 3.;              #iron loss in kilowatt\n",
      "pf = 0.8;                  #power factor lagging\n",
      "\n",
      "# Calculations and Results\n",
      "I1 = (kVA*1000)/V1;              \n",
      "print \"Primary winding current = %fA\"%(I1);\n",
      "I2 = (I1*V1)/V2;\n",
      "print \"Secondary winding current = %fA\"%(I2);\n",
      "Culoss = ((I1**2*R1)+(I2**2*R2));\n",
      "print \"Copper losses in the two winding = %fWatts\"%(Culoss);\n",
      "effi = (kVA*pf*100)/((kVA*pf)+ironloss+(Culoss/1000));\n",
      "print \"Efficiency at 0.8 p.f = %fpercent\"%(effi);\n"
     ],
     "language": "python",
     "metadata": {},
     "outputs": [
      {
       "output_type": "stream",
       "stream": "stdout",
       "text": [
        "Primary winding current = 75.757576A\n",
        "Secondary winding current = 1250.000000A\n",
        "Copper losses in the two winding = 3858.184114Watts\n",
        "Efficiency at 0.8 p.f = 98.314355percent\n"
       ]
      }
     ],
     "prompt_number": 32
    },
    {
     "cell_type": "heading",
     "level": 2,
     "metadata": {},
     "source": [
      "Example 3.26  Page No : 234"
     ]
    },
    {
     "cell_type": "code",
     "collapsed": false,
     "input": [
      "\n",
      "# Given Data\n",
      "kVA = 400.;                    #rating of the transformer\n",
      "ironloss = 2.;                #iron loss in kilowatt\n",
      "pf = 0.8;                     #power factor\n",
      "kW = 240.;                    #load in kilowatt\n",
      "\n",
      "# Calculations and Results\n",
      "kVA1 = kW/pf;\n",
      "print (\"Efficiency is maximium when,core-loss = copper-loss\")\n",
      "coreloss = ironloss;\n",
      "print (\"Maximium efficiency occurs at 240kw,0.8 power factor,i.e., at 300kVA load\")\n",
      "Cl300 = coreloss;\n",
      "Cl400 = (Cl300*(kVA/kVA1)**2);\n",
      "pf1 = 0.71;            #power factor for full load\n",
      "effi = (kVA*pf1*100)/((kVA*pf1)+coreloss+Cl400);\n",
      "print \"Efficiency at full-load and 071 power factor = %dpercent\"%(effi);\n",
      "pf2 = 1                    #maximium efficiency occurs at unity power factor\n",
      "MAXeffi = (kVA1*pf2*100)/((kVA1*pf2)+coreloss+Cl300)\n",
      "print \"Maximium efficiency at 300kVA and unity power factor = %fpercent\"%(MAXeffi);\n",
      "\n"
     ],
     "language": "python",
     "metadata": {},
     "outputs": [
      {
       "output_type": "stream",
       "stream": "stdout",
       "text": [
        "Efficiency is maximium when,core-loss = copper-loss\n",
        "Maximium efficiency occurs at 240kw,0.8 power factor,i.e., at 300kVA load\n",
        "Efficiency at full-load and 071 power factor = 98percent\n",
        "Maximium efficiency at 300kVA and unity power factor = 98.684211percent\n"
       ]
      }
     ],
     "prompt_number": 33
    },
    {
     "cell_type": "heading",
     "level": 2,
     "metadata": {},
     "source": [
      "Example 3.27  Page No : 235"
     ]
    },
    {
     "cell_type": "code",
     "collapsed": false,
     "input": [
      "\n",
      "# Given Data\n",
      "kVA = 40.;                    #rating of the transformer\n",
      "coreloss = 450.;               #core-loss in watts\n",
      "Culoss = 800.;                 #copper loss in watt\n",
      "pf = 0.8;                     #power factor of the load\n",
      "\n",
      "# Calculations and Results\n",
      "FLeffi = (kVA*pf*100)/((kVA*pf)+((coreloss+Culoss)/1000));\n",
      "print \"Full-load efficiency = %fpercent\"%(FLeffi);\n",
      "print (\"For maximium efficiency, Core loss = copper loss\")\n",
      "Culoss2 = coreloss;            #for maximium efficiency\n",
      "n = math.sqrt(Culoss2/Culoss);\n",
      "kVA2 = n*kVA;                  #load for maximium efficiency\n",
      "MAXeffi = (kVA2*pf*100)/((kVA2*pf)+((coreloss+Culoss2)/1000));\n",
      "print \"Value of maximium efficiency = %fpercent\"%(MAXeffi);\n",
      "\n"
     ],
     "language": "python",
     "metadata": {},
     "outputs": [
      {
       "output_type": "stream",
       "stream": "stdout",
       "text": [
        "Full-load efficiency = 96.240602percent\n",
        "For maximium efficiency, Core loss = copper loss\n",
        "Value of maximium efficiency = 96.385542percent\n"
       ]
      }
     ],
     "prompt_number": 34
    },
    {
     "cell_type": "heading",
     "level": 2,
     "metadata": {},
     "source": [
      "Example 3.28  Page No : 236"
     ]
    },
    {
     "cell_type": "code",
     "collapsed": false,
     "input": [
      "\n",
      "# Given Data\n",
      "kVA = 50.;                    #rating of the transformers\n",
      "I1 = 250.;                    #primary current in amperes\n",
      "Re = 0.006;                  #total resistance referred to the primary side\n",
      "ironloss = 200.;                #iron loss in watt\n",
      "\n",
      "# Calculations and Results\n",
      "Culoss = (I1**2*Re);           #copper loss in watt\n",
      "pf = 0.8;                      #power factor lagging\n",
      "print \"Full-load copper loss = %fW\"%(Culoss);\n",
      "TL1 = ((Culoss+ironloss)/1000);         \n",
      "print \"Total loss on full load = %fkW\"%(TL1);\n",
      "TL2 = ((((Culoss*(1/2)**2))+ironloss)/1000)\n",
      "print \"Total loss on half load = %fkW\"%(TL2);\n",
      "effi1 = (kVA*pf*100)/((kVA*pf)+TL1);\n",
      "print \"Efficiency at full load, 0.8 power factor lagging = %f percent\"%(effi1)\n",
      "effi2 = ((kVA/2)*pf*100)/(((kVA/2)*pf)+TL2);\n",
      "print \"Efficiency at half load, 0.8 power factor lagging = %f percent\"%(effi2)\n",
      "\n"
     ],
     "language": "python",
     "metadata": {},
     "outputs": [
      {
       "output_type": "stream",
       "stream": "stdout",
       "text": [
        "Full-load copper loss = 375.000000W\n",
        "Total loss on full load = 0.575000kW\n",
        "Total loss on half load = 0.200000kW\n",
        "Efficiency at full load, 0.8 power factor lagging = 98.582871 percent\n",
        "Efficiency at half load, 0.8 power factor lagging = 99.009901 percent\n"
       ]
      }
     ],
     "prompt_number": 35
    },
    {
     "cell_type": "heading",
     "level": 2,
     "metadata": {},
     "source": [
      "Example 3.29  Page No : 237"
     ]
    },
    {
     "cell_type": "code",
     "collapsed": false,
     "input": [
      "# Given Data\n",
      "kVA = 10.;                    #rating of the transformers\n",
      "V1 = 400.;                    #primary voltage in volts\n",
      "V2 = 200.;                    #secondary voltage in volts\n",
      "f = 50.;                      #frequency in hertz\n",
      "\n",
      "# Calculations and Results\n",
      "MAXeffi = 0.96;              #maximium efficiency\n",
      "output1 = (kVA*0.75);        #output at 75% of full load\n",
      "input1 = (output1/MAXeffi);\n",
      "print \"Input at 75percent of full load = %fkW\"%(input1);\n",
      "TL = input1-output1;\n",
      "print \"Total losses = %fkW\"%(TL);\n",
      "Pi = TL/2;\n",
      "Pc = TL/2;\n",
      "print (\"Maximiunm efficiency occurs at 3/4th of full load\")\n",
      "Pc = Pi/(3./4)**2;\n",
      "print \"Thus, total losses on full load = %fW\"%((Pc+Pi)*1000);\n",
      "pf = 0.8;               #power factor lagging\n",
      "effi = (kVA*pf*100)/((kVA*pf)+(Pc+Pi));\n",
      "print \"Efficiency on full load. 0.8 power factor lagging = %fpercent\"%(effi)\n"
     ],
     "language": "python",
     "metadata": {},
     "outputs": [
      {
       "output_type": "stream",
       "stream": "stdout",
       "text": [
        "Input at 75percent of full load = 7.812500kW\n",
        "Total losses = 0.312500kW\n",
        "Maximiunm efficiency occurs at 3/4th of full load\n",
        "Thus, total losses on full load = 434.027778W\n",
        "Efficiency on full load. 0.8 power factor lagging = 94.853849percent\n"
       ]
      }
     ],
     "prompt_number": 38
    },
    {
     "cell_type": "heading",
     "level": 2,
     "metadata": {},
     "source": [
      "Example 3.30  Page No : 237"
     ]
    },
    {
     "cell_type": "code",
     "collapsed": false,
     "input": [
      "# Given Data\n",
      "kVA = 500.;                    #rating of the transformers\n",
      "V1 = 3300.;                    #primary voltage in volts\n",
      "V2 = 500.;                    #secondary voltage in volts\n",
      "f = 50.;                      #frequency in hertz\n",
      "MAXeffi = 0.97;        \n",
      "x = 0.75;                    #fraction of full load for maximium efficiency\n",
      "pf1 = 1.;\n",
      "\n",
      "# Calculations and Results\n",
      "output1 = (kVA*x*pf1*1000);\n",
      "print \"Output at maximium efficiency = %dwatts\"%(output1);\n",
      "losses = ((1/MAXeffi)-1)*output1;\n",
      "print \"Thus, at maximium efficiency,  lossses = %fW\"%(losses)\n",
      "Culoss = losses/2;\n",
      "print \"Copper losses at 75percent of full load = %dW\"%(Culoss);\n",
      "CulossFL = Culoss/x**2;\n",
      "print \"Copper losses at full load = %dW\"%(CulossFL);\n",
      "Re = CulossFL/(kVA*1000);\n",
      "Ze = 0.1;                        #equivalent impedence per unit\n",
      "Xe = math.sqrt(Ze**2-Re**2);\n",
      "phi = math.degrees(math.acos(0.8));\n",
      "reg = ((Re*math.cos(math.radians(phi)))+(Xe*math.sin(math.radians(phi))))*100;\n",
      "print \"percentage regulation = %f percent\"%(reg);\n"
     ],
     "language": "python",
     "metadata": {},
     "outputs": [
      {
       "output_type": "stream",
       "stream": "stdout",
       "text": [
        "Output at maximium efficiency = 375000watts\n",
        "Thus, at maximium efficiency,  lossses = 11597.938144W\n",
        "Copper losses at 75percent of full load = 5798W\n",
        "Copper losses at full load = 10309W\n",
        "percentage regulation = 7.520562 percent\n"
       ]
      }
     ],
     "prompt_number": 39
    },
    {
     "cell_type": "heading",
     "level": 2,
     "metadata": {},
     "source": [
      "Example 3.32  Page No : 240"
     ]
    },
    {
     "cell_type": "code",
     "collapsed": false,
     "input": [
      "\n",
      "# Given Data\n",
      "V1 = 230.;                    #primary voltage of auto-transformer\n",
      "V2 = 75.;                     #secondary voltage of auto-transformer\n",
      "\n",
      "# Calculations\n",
      "r = (V1/V2);                  #ratio of primary to secondary turns\n",
      "I2 = 200.;                    #load current in amperes\n",
      "I1 = I2/r;\n",
      "\n",
      "# Results\n",
      "print \"Primary current, I1 = %fA\"%(I1);\n",
      "print \"Load current, I1 = %fA\"%(I2);\n",
      "print \"cirrent flowing through the common portion of winding = %fA\"%(I2-I1);\n",
      "print \"Economy in saving in copper in percentage = %fpercent\"%(100/r);"
     ],
     "language": "python",
     "metadata": {},
     "outputs": [
      {
       "output_type": "stream",
       "stream": "stdout",
       "text": [
        "Primary current, I1 = 65.217391A\n",
        "Load current, I1 = 200.000000A\n",
        "cirrent flowing through the common portion of winding = 134.782609A\n",
        "Economy in saving in copper in percentage = 32.608696percent\n"
       ]
      }
     ],
     "prompt_number": 40
    }
   ],
   "metadata": {}
  }
 ]
}