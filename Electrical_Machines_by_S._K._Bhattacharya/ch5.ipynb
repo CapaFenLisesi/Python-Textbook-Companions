{
 "metadata": {
  "name": "",
  "signature": "sha256:1c4ac592513e221d9ef582b6b080c90b8d233dba2c2d1c00437e9fe2319c3d83"
 },
 "nbformat": 3,
 "nbformat_minor": 0,
 "worksheets": [
  {
   "cells": [
    {
     "cell_type": "heading",
     "level": 1,
     "metadata": {},
     "source": [
      "Chapter 5 : Three Phase Synchronous Machines"
     ]
    },
    {
     "cell_type": "heading",
     "level": 2,
     "metadata": {},
     "source": [
      "Example 5.1  Page No : 424"
     ]
    },
    {
     "cell_type": "code",
     "collapsed": false,
     "input": [
      "import math \n",
      "\n",
      "# Given Data; \n",
      "slots = 18.;\n",
      "p = 2.;             #nmber of poles\n",
      "ph = 3.;            #three phase winding\n",
      "\n",
      "# Calculations and Results\n",
      "SA = (360/slots);  #slot angle\n",
      "m = slots/(p*ph);  #m = nmber of slots per pole per phase\n",
      "print \"number of slots per pole per phase, m = %d\"%(m);\n",
      "print \"emfs of the oils of each phase will have a time-phase difference of  %d degree mechanical \"%(SA);\n",
      "k_d = math.sin(math.radians((m*SA)/2))/(m*math.sin(math.radians(SA/2)));\n",
      "print \"distribution factor = %f\"%(k_d);\n"
     ],
     "language": "python",
     "metadata": {},
     "outputs": [
      {
       "output_type": "stream",
       "stream": "stdout",
       "text": [
        "number of slots per pole per phase, m = 3\n",
        "emfs of the oils of each phase will have a time-phase difference of  20 degree mechanical \n",
        "distribution factor = 0.959795\n"
       ]
      }
     ],
     "prompt_number": 1
    },
    {
     "cell_type": "heading",
     "level": 2,
     "metadata": {},
     "source": [
      "Example 5.2  Page No : 425"
     ]
    },
    {
     "cell_type": "code",
     "collapsed": false,
     "input": [
      "import math \n",
      "# Given Data\n",
      "slots = 36.;    #number of slots\n",
      "poles = 4.;     #number of poles\n",
      "ph = 3.;        #math.single layer three phase winding\n",
      "\n",
      "# Calculations and Results\n",
      "SP = slots/ph; #number of slots per phase\n",
      "print \"number of slots per phase =  %d\"%(SP);\n",
      "m = SP/poles;  #munber of slots per pole per phase\n",
      "print \"number of slots per pole per phase, m = %d\"%(m)\n",
      "SA_m = 360/slots;        #slot angle mechanical\n",
      "SA_e = (poles/2)*SA_m    #slot angle electrical \n",
      "print \"slot angle =  %d degree electrical\"%(SA_e)\n",
      "k_d = math.sin(math.radians((m*SA_e)/2))/(m*math.sin(math.radians(SA_e/2)));\n",
      "print \"distribution factor =  %f\"%(k_d)"
     ],
     "language": "python",
     "metadata": {},
     "outputs": [
      {
       "output_type": "stream",
       "stream": "stdout",
       "text": [
        "number of slots per phase =  12\n",
        "number of slots per pole per phase, m = 3\n",
        "slot angle =  20 degree electrical\n",
        "distribution factor =  0.959795\n"
       ]
      }
     ],
     "prompt_number": 2
    },
    {
     "cell_type": "heading",
     "level": 2,
     "metadata": {},
     "source": [
      "Example 5.3  Page No : 426"
     ]
    },
    {
     "cell_type": "code",
     "collapsed": false,
     "input": [
      "import math \n",
      "\n",
      "# Given Data;\n",
      "slots = 48.;      #number of slots\n",
      "poles = 4.;       #4-pole machine\n",
      "ph = 3.;          #3-phase machine\n",
      "\n",
      "# Calculations and Results\n",
      "SA = 360/slots;  #slot angle\n",
      "print \"total number of slots =  %d\"%(slots);\n",
      "print \"slot angle =  %f degree mechanical\"%(SA);\n",
      "#coil span is 11 slot pitches\n",
      "#12 slots subtend 180degress, short pitched by 1 slot \n",
      "Bta = 1*180./12;\n",
      "k_p = math.cos(math.radians(Bta/2));\n",
      "print \"pitch factor = %f\"%(k_p)\n"
     ],
     "language": "python",
     "metadata": {},
     "outputs": [
      {
       "output_type": "stream",
       "stream": "stdout",
       "text": [
        "total number of slots =  48\n",
        "slot angle =  7.500000 degree mechanical\n",
        "pitch factor = 0.991445\n"
       ]
      }
     ],
     "prompt_number": 3
    },
    {
     "cell_type": "heading",
     "level": 2,
     "metadata": {},
     "source": [
      "Example 5.4  Page No : 426"
     ]
    },
    {
     "cell_type": "code",
     "collapsed": false,
     "input": [
      "import math \n",
      "\n",
      "# Given Data;\n",
      "slots = 72.;    #number of slots\n",
      "P = 8.;         #number of poles\n",
      "ph = 3.;        #3-phase machine\n",
      "N = 750.;       #speed of machine in rpm\n",
      "\n",
      "#winding is made with 36 coils having 10 turns\n",
      "Fp = 0.15;     #flux per pole\n",
      "fre = (P*N)/120;\n",
      "NCp = 36./ph;   #nmber of coils per phase\n",
      "T = NCp*10;    #number of turns per phase\n",
      "k_p = 1;       #math.since full pitched pitch factor is 1\n",
      "\n",
      "# Calculations and Results\n",
      "print \"flux per pole = %fWb\"%(Fp)\n",
      "print \"number of turns per phase = %d\"%(T);\n",
      "print \"pitch factor = %f\"%(k_p);\n",
      "m = slots/(P*ph); #slots per pole per phase\n",
      "SA_m = 360/slots; #slot angle mechanical\n",
      "SA_e = (P/2)*SA_m;\n",
      "k_d = math.sin(math.radians((m*SA_e)/2))/(m*math.sin(math.radians(SA_e/2)));\n",
      "print \"distribution factor = %f\"%(k_d);\n",
      "E = 4.44*Fp*fre*T*k_d*k_p;\n",
      "print \"RMS vale of emf induced per phase = %fV\"%(E)"
     ],
     "language": "python",
     "metadata": {},
     "outputs": [
      {
       "output_type": "stream",
       "stream": "stdout",
       "text": [
        "flux per pole = 0.150000Wb\n",
        "number of turns per phase = 120\n",
        "pitch factor = 1.000000\n",
        "distribution factor = 0.959795\n",
        "RMS vale of emf induced per phase = 3835.341142V\n"
       ]
      }
     ],
     "prompt_number": 4
    },
    {
     "cell_type": "heading",
     "level": 2,
     "metadata": {},
     "source": [
      "Example 5.5  Page No : 427"
     ]
    },
    {
     "cell_type": "code",
     "collapsed": false,
     "input": [
      "import math \n",
      "# Given Data;\n",
      "print (\"E(line to line) =   440V\");\n",
      "E_l = 440.;    #line-to-line voltage\n",
      "E_p = E_l/(math.sqrt(3));\n",
      "N = 750.;      #speed in rpm\n",
      "fre = 50.;     #frequency\n",
      "\n",
      "# Calculations and Results\n",
      "P = (120*fre)/N;\n",
      "print \"P =   %d\"%(P);\n",
      "print \"Eper phase) =   %dV\"%(E_p);\n",
      "ph = 3;       #3-phase machine\n",
      "m = 2;        #number of slots per pole per phase\n",
      "slots = m*P*ph;       #total number of stator slots\n",
      "SA_m = 360/slots;     #slot angle mechanical\n",
      "SA_e = (P/2)*SA_m;    #slot angle electrical\n",
      "k_p = 1;              #assuming full pitch\n",
      "print \"slot angle =   %d degree electrical\"%(SA_e);\n",
      "print \"pitch factor = %f\"%(k_p);\n",
      "k_d = math.sin(math.radians((m*SA_e)/2))/(m*math.sin(math.radians(SA_e/2)));\n",
      "print \"distribution factor =   %f\"%(k_d);\n",
      "#2 slots per pole per phase\n",
      "NSp = 2*P;            #number of slots per phase\n",
      "NTc = 4;              #number of turns per coil\n",
      "T = 8*NTc;            #number of turns per phase\n",
      "Fp = E_p/(4.44*fre*T*k_d*k_p);\n",
      "print \"flux per pole =   %fWb\"%(Fp);"
     ],
     "language": "python",
     "metadata": {},
     "outputs": [
      {
       "output_type": "stream",
       "stream": "stdout",
       "text": [
        "E(line to line) =   440V\n",
        "P =   8\n",
        "Eper phase) =   254V\n",
        "slot angle =   30 degree electrical\n",
        "pitch factor = 1.000000\n",
        "distribution factor =   0.965926\n",
        "flux per pole =   0.037021Wb\n"
       ]
      }
     ],
     "prompt_number": 7
    },
    {
     "cell_type": "heading",
     "level": 2,
     "metadata": {},
     "source": [
      "Example 5.6  Page No : 428"
     ]
    },
    {
     "cell_type": "code",
     "collapsed": false,
     "input": [
      "import math \n",
      "#chapter 5\n",
      "#example 5.6\n",
      "#page 428\n",
      "\n",
      "# Given Data;\n",
      "slots = 144.;   #number of slots\n",
      "ph = 3.;        #3-phase machine\n",
      "P = 16.;        #number of poles\n",
      "Cp = 10.;       #number of conducters per slot\n",
      "Fp = 0.03;     #flux per pole\n",
      "Ns = 375.;      #synchronous speed\n",
      "\n",
      "# Calculations and Results\n",
      "fre = (Ns*P)/120;     #frequency\n",
      "print \"frequency = %d\"%(fre);\n",
      "m = slots/(P*ph);     #number of slots per pole per phase\n",
      "print \"number of slots per pole per phase, m =   %d\"%(m);\n",
      "SA_m = 360/slots;     #slot angle mechanical\n",
      "SA_e = (P/2)*SA_m;    #slot angle electrical\n",
      "k_p = 1               #no short pitching\n",
      "print \"short pitch =   %d\"%(k_p);\n",
      "k_d = math.sin(math.radians((m*SA_e)/2))/(m*math.sin(math.radians(SA_e/2)));\n",
      "print \"distribution factor =   %f\"%(k_d);\n",
      "T = (slots*10)/(2*ph);\n",
      "print \"number of turns per phase, T =   %d\"%(T);\n",
      "E = 4.44*Fp*fre*T*k_d*k_p;\n",
      "print \"RMS value of induced emf per phase, E =   %fV\"%(E);\n",
      "print \"induced emf across the linesis %fV \"%(math.sqrt(3)*E);"
     ],
     "language": "python",
     "metadata": {},
     "outputs": [
      {
       "output_type": "stream",
       "stream": "stdout",
       "text": [
        "frequency = 50\n",
        "number of slots per pole per phase, m =   3\n",
        "short pitch =   1\n",
        "distribution factor =   0.959795\n",
        "number of turns per phase, T =   240\n",
        "RMS value of induced emf per phase, E =   1534.136457V\n",
        "induced emf across the linesis 2657.202289V \n"
       ]
      }
     ],
     "prompt_number": 10
    },
    {
     "cell_type": "heading",
     "level": 2,
     "metadata": {},
     "source": [
      "Example 5.7  Page No : 428"
     ]
    },
    {
     "cell_type": "code",
     "collapsed": false,
     "input": [
      "import math \n",
      "\n",
      "# Given Data;\n",
      "slots = 90.;   #number of slots\n",
      "P = 10.;       #number of poles\n",
      "ph = 3.;       #3-phase machine\n",
      "fre = 50.;     #frequency\n",
      "Fp = 0.16;    #flux per pole\n",
      "E_l = 11000.;  #line voltage\n",
      "SA_m = 360/slots;  #machanical slot angle\n",
      "\n",
      "# Calculations and Results\n",
      "SA_e = (P/2)*SA_m; #electrical slot angle\n",
      "m = slots/(ph*P);\n",
      "print \"slot angle = %d degree elecrical\"%(SA_e)\n",
      "print \"number of slots per pole per phase, m = %d\"%(m);\n",
      "k_p = 1;           #assuming full pitch\n",
      "print \"pitch factor = %d\"%(k_p);\n",
      "k_d = math.sin(math.radians((m*SA_e)/2))/(m*math.sin(math.radians(SA_e/2)));\n",
      "print \"distribution factor = %f\"%(k_d);\n",
      "E_p = E_l/math.sqrt(3);\n",
      "T = E_p/(4.44*Fp*fre*k_p*k_d); \n",
      "print \"total number of armature conductors, Z =  %d\"%(2*T);\n"
     ],
     "language": "python",
     "metadata": {},
     "outputs": [
      {
       "output_type": "stream",
       "stream": "stdout",
       "text": [
        "slot angle = 20 degree elecrical\n",
        "number of slots per pole per phase, m = 3\n",
        "pitch factor = 1\n",
        "distribution factor = 0.959795\n",
        "total number of armature conductors, Z =  372\n"
       ]
      }
     ],
     "prompt_number": 11
    },
    {
     "cell_type": "heading",
     "level": 2,
     "metadata": {},
     "source": [
      "Example 5.8  Page No : 429"
     ]
    },
    {
     "cell_type": "code",
     "collapsed": false,
     "input": [
      "import math \n",
      "\n",
      "# Given Data;\n",
      "print (\"P = 6   , f = 50\");\n",
      "P = 6.;\n",
      "f = 50.;\n",
      "Sp = 12.;         #slots per pole\n",
      "Cs = 4.;         #conductors per slot\n",
      "Fp = 1.5; \n",
      "\n",
      "# Calculations and Results\n",
      "TS = Sp*P \n",
      "print \"total number of slots = %d\"%(TS);\n",
      "print \"total number of slots per phase =  %d\"%( TS/3);\n",
      "print \"total number of conductors per phase =  %d\"%(( TS*Cs)/3);\n",
      "T = ((TS*Cs)/3)/2;\n",
      "print \"total number of turns per phase = %d\"%(T)\n",
      "m = (TS/(P*3));\n",
      "print \"number of slots per pole per phase, m =  %d\"%(m);\n",
      "SA_m = 360/TS;             #slot angle mechanical\n",
      "SA_e = (P/2)*SA_m;\n",
      "k_d = math.sin(math.radians((m*SA_e)/2))/(m*math.sin(math.radians(SA_e/2)));\n",
      "print \"distribution factor = %f\"%(k_d);\n",
      "print (\"coil pitch is 5/6 of full-pitch\");\n",
      "bheta = 180-(5./6)*180;     #short pitch angle\n",
      "print \"short pitch angle =  %d degrees\"%(bheta)\n",
      "k_p = math.cos(math.radians(bheta/2));\n",
      "print \"pitch factor =  %f \"%(k_p);\n",
      "E = 4.44*Fp*f*T*k_d*k_p;\n",
      "print \"induced per phase =   %fV\"%(E)"
     ],
     "language": "python",
     "metadata": {},
     "outputs": [
      {
       "output_type": "stream",
       "stream": "stdout",
       "text": [
        "P = 6   , f = 50\n",
        "total number of slots = 72\n",
        "total number of slots per phase =  24\n",
        "total number of conductors per phase =  96\n",
        "total number of turns per phase = 48\n",
        "number of slots per pole per phase, m =  4\n",
        "distribution factor = 0.957662\n",
        "coil pitch is 5/6 of full-pitch\n",
        "short pitch angle =  30 degrees\n",
        "pitch factor =  0.965926 \n",
        "induced per phase =   14785.689892V\n"
       ]
      }
     ],
     "prompt_number": 14
    },
    {
     "cell_type": "heading",
     "level": 2,
     "metadata": {},
     "source": [
      "Example 5.9  Page No : 439"
     ]
    },
    {
     "cell_type": "code",
     "collapsed": false,
     "input": [
      "import math \n",
      "\n",
      "# Given Data;\n",
      "OP = 500000.;     #output power\n",
      "V_l = 3300.;      #line voltage\n",
      "\n",
      "# Calculations and Results\n",
      "I_l = OP/(math.sqrt(3)*V_l);      #line current\n",
      "print \"line current =   %fA\"%(I_l);\n",
      "#for star connected alternater, line current is equal to phase current\n",
      "I_a = I_l;\n",
      "pf = 0.8;        #power factor\n",
      "phi = math.degrees(math.acos(pf));\n",
      "R_a = 0.3;       #synchronous resistance\n",
      "X_s = 4;         #synchronous reactance\n",
      "V_p = V_l/math.sqrt(3);\n",
      "print \"phase voltage =   %fV\"%(V_p)\n",
      "E = math.sqrt((V_p*math.cos(math.radians(phi))+I_a*R_a)**2+(V_p*math.sin(math.radians(phi))+I_a*X_s)**2);\n",
      "print \"induced emf =   %f V/Phase\"%(E  )\n",
      "PR = ((E-V_p)*100)/V_p;\n",
      "print \"percentage regulation =   %f percent\"%(PR);"
     ],
     "language": "python",
     "metadata": {},
     "outputs": [
      {
       "output_type": "stream",
       "stream": "stdout",
       "text": [
        "line current =   87.477314A\n",
        "phase voltage =   1905.255888V\n",
        "induced emf =   2152.469556 V/Phase\n",
        "percentage regulation =   12.975353 percent\n"
       ]
      }
     ],
     "prompt_number": 15
    },
    {
     "cell_type": "heading",
     "level": 2,
     "metadata": {},
     "source": [
      "Example 5.10  Page No : 440"
     ]
    },
    {
     "cell_type": "code",
     "collapsed": false,
     "input": [
      "import math \n",
      "\n",
      "# Given Data\n",
      "V = 2000.;\n",
      "V_oc = 500.;         #open circuit voltage\n",
      "I_sc = 100.;         #short circuit current\n",
      "I_a = 100.;      \n",
      "R_s = 0.8;          #armature resistance\n",
      "\n",
      "# Calculations and Results\n",
      "Z_s = V_oc/I_sc;    #synchronous impedence\n",
      "print \"Z_s =  %d ohm\"%(Z_s);\n",
      "X_s = math.sqrt(Z_s**2-R_s**2);\n",
      "print \"X_s =  %f ohm\"%(X_s);\n",
      "pf = 1;\n",
      "phi = math.degrees(math.acos(pf));\n",
      "print (\"At unity power factor\");\n",
      "print \"\";\n",
      "E = math.sqrt((V*math.cos(math.radians(phi))+I_a*R_s)**2+(V*math.sin(math.radians(phi))+I_a*X_s)**2);\n",
      "print \"induced emf =  %fV\"%(E);\n",
      "R = ((E-V)*100)/V;\n",
      "print \"regulation =  %f percent\"%(R);\n",
      "pf = 0.71;\n",
      "phi = math.degrees(math.acos(pf));\n",
      "print (\"At 0.71 lagging power factor\");\n",
      "print \"\";\n",
      "E = math.sqrt((V*math.cos(math.radians(phi))+I_a*R_s)**2+(V*math.sin(math.radians(phi))+I_a*X_s)**2);\n",
      "print \"induced emf =  %fV\"%(E);\n",
      "R = ((E-V)*100)/V;\n",
      "print \"regulation =  %fpercent\"%(R);\n",
      "pf = 0.8;\n",
      "phi = math.degrees(math.acos(pf));\n",
      "print (\"At 0.8 leading power factor\");\n",
      "print \"\";\n",
      "E = math.sqrt((V*math.cos(math.radians(phi))+I_a*R_s)**2+(V*math.sin(math.radians(phi))-I_a*X_s)**2);\n",
      "print \"induced emf =  %fV\"%(E);\n",
      "R = ((E-V)*100)/V;\n",
      "print \"regulation =   %fpercent\"%(R);\n"
     ],
     "language": "python",
     "metadata": {},
     "outputs": [
      {
       "output_type": "stream",
       "stream": "stdout",
       "text": [
        "Z_s =  5 ohm\n",
        "X_s =  4.935585 ohm\n",
        "At unity power factor\n",
        "\n",
        "induced emf =  2137.755833V\n",
        "regulation =  6.887792 percent\n",
        "At 0.71 lagging power factor\n",
        "\n",
        "induced emf =  2422.283821V\n",
        "regulation =  21.114191percent\n",
        "At 0.8 leading power factor\n",
        "\n",
        "induced emf =  1822.487197V\n",
        "regulation =   -8.875640percent\n"
       ]
      }
     ],
     "prompt_number": 18
    },
    {
     "cell_type": "heading",
     "level": 2,
     "metadata": {},
     "source": [
      "Example 5.11  Page No : 441"
     ]
    },
    {
     "cell_type": "code",
     "collapsed": false,
     "input": [
      "\n",
      "# Given Data;\n",
      "print (\"field exitation current = 10A\");\n",
      "V_oc = 900.;      #induced emf on open circuit\n",
      "I_sc = 150.;      #short circuit current\n",
      "\n",
      "# Calculations and Results\n",
      "Z_s = V_oc/I_sc; #synchronous impedence\n",
      "print \"synchronous impedence, Z_s =  %d ohm\"%(Z_s);\n",
      "I_a = 60;\n",
      "print \"internal voltage drop when the load current is 60amp =   %d V\"%(I_a*Z_s);"
     ],
     "language": "python",
     "metadata": {},
     "outputs": [
      {
       "output_type": "stream",
       "stream": "stdout",
       "text": [
        "field exitation current = 10A\n",
        "synchronous impedence, Z_s =  6 ohm\n",
        "internal voltage drop when the load current is 60amp =   360 V\n"
       ]
      }
     ],
     "prompt_number": 19
    },
    {
     "cell_type": "heading",
     "level": 2,
     "metadata": {},
     "source": [
      "Example 5.12  Page No : 441"
     ]
    },
    {
     "cell_type": "code",
     "collapsed": false,
     "input": [
      "import math \n",
      "\n",
      "# Given Data;\n",
      "KVA = 2000.;\n",
      "V = 6600.;     #rating\n",
      "V_p = 6600./math.sqrt(3);\n",
      "I_a = (KVA*1000)/(math.sqrt(3)*V);\n",
      "R_a = 0.4;    #armature resistance\n",
      "X_s = 4.5     #synchronous reactance\n",
      "pf = 0.8;\n",
      "\n",
      "# Calculations and Results\n",
      "phi = math.degrees(math.acos(pf));\n",
      "print \"V/phase =  %dV \"%(V_p)\n",
      "E = math.sqrt((V_p*math.cos(math.radians(phi))+I_a*R_a)**2+(V_p*math.sin(math.radians(phi))+I_a*X_s)**2)\n",
      "print \"E =   %f V per phase\"%(E);\n",
      "R = ((E-V_p)*100)/V_p;\n",
      "print \"percentage change in terminal voltage =  %f percent\"%(R);"
     ],
     "language": "python",
     "metadata": {},
     "outputs": [
      {
       "output_type": "stream",
       "stream": "stdout",
       "text": [
        "V/phase =  3810V \n",
        "E =   4378.515597 V per phase\n",
        "percentage change in terminal voltage =  14.906234 percent\n"
       ]
      }
     ],
     "prompt_number": 20
    },
    {
     "cell_type": "heading",
     "level": 2,
     "metadata": {},
     "source": [
      "Example 5.13  Page No : 442"
     ]
    },
    {
     "cell_type": "code",
     "collapsed": false,
     "input": [
      "import math \n",
      "\n",
      "# Given Data;\n",
      "KVA = 1200.;       #output power\n",
      "print \"output power = %d\"%(KVA)\n",
      "V_l = 3300.;       #line voltage\n",
      "R_a = 0.25;       #armature resistance\n",
      "\n",
      "# Calculations and Results\n",
      "I_l = (KVA*1000)/(math.sqrt(3)*V_l);    #line current\n",
      "#for star connected I_l = I_a\n",
      "I_a = I_l;\n",
      "V_p = V_l/math.sqrt(3);\n",
      "print \"V per phase =  %dV\"%(V_p)\n",
      "#field current of 40A produces short circuit current of 200A and open circuit emf 1100\n",
      "v_l = 1100;\n",
      "i_s = 200;\n",
      "Z_s =  v_l/(math.sqrt(3)*i_s);     #synchronous impedence\n",
      "print \"Synchronous impedance, Zs = %f ohm\"%(Z_s)\n",
      "X_s = math.sqrt(Z_s**2-R_a**2);      #synchronous reactance\n",
      "print (\"(a)for 0.8 lagging power facor\");\n",
      "pf = 0.8;\n",
      "phi = math.degrees(math.acos(pf));\n",
      "E = math.sqrt((V_p*math.cos(math.radians(phi))+I_a*R_a)**2+(V_p*math.sin(math.radians(phi))+I_a*X_s)**2)\n",
      "print \"induced emf, E = %f V\"%(E);\n",
      "R = ((E-V_p)*100)/V_p;\n",
      "print \"regulation = %f percent\"%(R);\n",
      "pf = 0.8;\n",
      "phi = math.degrees(math.acos(pf));\n",
      "print (\"(b)For leading power factor load\")\n",
      "E = math.sqrt((V_p*math.cos(math.radians(phi))+I_a*R_a)**2+(V_p*math.sin(math.radians(phi))-I_a*X_s)**2)\n",
      "print \"induced emf, E =  %f V\"%(E);\n",
      "R = ((E-V_p)*100)/V_p;\n",
      "print \"regulation = %f percent\"%(R);"
     ],
     "language": "python",
     "metadata": {},
     "outputs": [
      {
       "output_type": "stream",
       "stream": "stdout",
       "text": [
        "output power = 1200\n",
        "V per phase =  1905V\n",
        "Synchronous impedance, Zs = 3.175426 ohm\n",
        "(a)for 0.8 lagging power facor\n",
        "induced emf, E = 2398.732590 V\n",
        "regulation = 25.900810 percent\n",
        "(b)For leading power factor load\n",
        "induced emf, E =  1647.716860 V\n",
        "regulation = -13.517293 percent\n"
       ]
      }
     ],
     "prompt_number": 21
    },
    {
     "cell_type": "heading",
     "level": 2,
     "metadata": {},
     "source": [
      "Example 5.14  Page No : 443"
     ]
    },
    {
     "cell_type": "code",
     "collapsed": false,
     "input": [
      "import math \n",
      "\n",
      "# Given Data;\n",
      "print (\"star connected alternator\")\n",
      "KVA = 1500.;         #rating\n",
      "ph = 3.;            #3-phase\n",
      "V_l = 6600.;       #voltage\n",
      "Ra = 0.4         #armature resistance\n",
      "Xs = 6.;         #reactance\n",
      "\n",
      "# Calculations and Results\n",
      "Ia = (KVA*1000)/(math.sqrt(3)*V_l);\n",
      "print \"Full-load current =  %d A\"%(Ia);\n",
      "V = V_l/math.sqrt(3);\n",
      "print \"Voltage per phase = %d V\"%(V);\n",
      "print (\"for 0.8 lagging power facor\");\n",
      "pf = 0.8;           #power factor\n",
      "phi = math.degrees(math.acos(pf));\n",
      "E = math.sqrt((V*math.cos(math.radians(phi))+Ia*Ra)**2+(V*math.sin(math.radians(phi))+Ia*Xs)**2)\n",
      "print \"induced emf = %f V\"%(E);\n",
      "print (\"then at 0.8 leading power factor\");\n",
      "Vt = 4743; #solved manually \n",
      "print \"termial Voltage, line-to-line = %d V\"%(math.sqrt(3)*Vt)"
     ],
     "language": "python",
     "metadata": {},
     "outputs": [
      {
       "output_type": "stream",
       "stream": "stdout",
       "text": [
        "star connected alternator\n",
        "Full-load current =  131 A\n",
        "Voltage per phase = 3810 V\n",
        "for 0.8 lagging power facor\n",
        "induced emf = 4366.072552 V\n",
        "then at 0.8 leading power factor\n",
        "termial Voltage, line-to-line = 8215 V\n"
       ]
      }
     ],
     "prompt_number": 23
    },
    {
     "cell_type": "heading",
     "level": 2,
     "metadata": {},
     "source": [
      "Example 5.15  Page No : 450"
     ]
    },
    {
     "cell_type": "code",
     "collapsed": false,
     "input": [
      "import math \n",
      "#chapter 5\n",
      "#example 5.15\n",
      "#page 450\n",
      "\n",
      "# Given Data;\n",
      "L = 8000.;     #load\n",
      "La = 5000.;\n",
      "pf = 0.8;\n",
      "\n",
      "# Calculations and Results\n",
      "phi = math.degrees(math.acos(pf));\n",
      "print \"math.tan phi =   %f\"%(math.degrees(math.atan(phi)));\n",
      "print (\"FOR ALTERNATOR A\");\n",
      "pf_a = 0.9;\n",
      "phi_a = math.degrees(math.acos(pf_a));\n",
      "print \"math.tan phi_a =   %f\"%(math.degrees(math.atan(phi_a)));\n",
      "print (\"reactive load = active load*math.tan phi\");\n",
      "print (\"Active load = 8000kW\");\n",
      "print \"reactive load =   %d KVAr\"%(8000*math.degrees(math.atan(phi_a)));\n",
      "print (\"Active Load A = 5000kW\");\n",
      "print \"Reactive load A =   %dkVAr\"%(5000*math.degrees(math.atan(phi_a)));\n",
      "print \"Active load of B =   %dkW\"%(L-La);\n",
      "a = ((8000*math.degrees(math.atan(phi)))-(5000*math.degrees(math.atan(phi_a))))\n",
      "print \"Reactive load of B =   %dkVAr\"%(a);\n",
      "B = a/(L-La);\n",
      "phi_b = math.degrees(math.atan(B));\n",
      "print \"phi_b =   %f\"%(phi_b)\n",
      "print \"Power Factor of B =   %f\"%(math.cos(math.radians(phi_b)));"
     ],
     "language": "python",
     "metadata": {},
     "outputs": [
      {
       "output_type": "stream",
       "stream": "stdout",
       "text": [
        "math.tan phi =   88.446382\n",
        "FOR ALTERNATOR A\n",
        "math.tan phi_a =   87.783943\n",
        "reactive load = active load*math.tan phi\n",
        "Active load = 8000kW\n",
        "reactive load =   702271 KVAr\n",
        "Active Load A = 5000kW\n",
        "Reactive load A =   438919kVAr\n",
        "Active load of B =   3000kW\n",
        "Reactive load of B =   268651kVAr\n",
        "phi_b =   89.360211\n",
        "Power Factor of B =   0.011166\n"
       ]
      }
     ],
     "prompt_number": 27
    },
    {
     "cell_type": "heading",
     "level": 2,
     "metadata": {},
     "source": [
      "Example 5.16  Page No : 451"
     ]
    },
    {
     "cell_type": "code",
     "collapsed": false,
     "input": [
      "import math \n",
      "\n",
      "# Given Data\n",
      "V = 6600.;\n",
      "ph = 3.;  #3-phase alternators \n",
      "power = 10000.; #total load\n",
      "\n",
      "# Calculations and Results\n",
      "print (\"Two alternators in parallel connection\");\n",
      "pf = 0.8;\n",
      "Ia = 438;       #armature current\n",
      "Il = (power*1000)/(math.sqrt(3)*V*pf);   #load current\n",
      "print \"load current =   %fA\"%(Il);\n",
      "phi = math.degrees(math.acos(pf));\n",
      "Ac = (Il*math.cos(math.radians(phi)));\n",
      "Rc = (Il*math.sin(math.radians(phi)));\n",
      "print \"Active component of current =   %fA\"%(Ac);\n",
      "print \"Reactive component of current =   %fA\"%(Rc);\n",
      "print \"Current supplied by each alternator = %fA\"%(Il/2);\n",
      "print \"Active component of current supplied by each alternator =   %fA\"%(Ac/2);\n",
      "print \"Reactive component of current supplied by each alternator =   %fA\"%(Rc/2);\n",
      "print (\"Since steam supply is same,the active component remain the same \");\n",
      "RIl = math.sqrt(Ia**2-(Ac/2)**2);\n",
      "print \"Reactive component of Il =  %dA\"%(RIl);\n",
      "RI2 = (Rc-RIl);\n",
      "print \"reactive component of I2 =   %fA\"%(RI2);\n",
      "I2 = math.sqrt((Ac/2)**2+(RI2)**2);\n",
      "print \" I2 =   %fA\"%(I2);\n",
      "phi_2 = math.degrees(math.atan(RI2/(Ac/2)));\n",
      "print \"phi 2 =   %f degrees\"%(phi_2);\n",
      "print \"math.cos phi 2 =  %f\"%(math.cos(math.radians(phi_2)));\n"
     ],
     "language": "python",
     "metadata": {},
     "outputs": [
      {
       "output_type": "stream",
       "stream": "stdout",
       "text": [
        "Two alternators in parallel connection\n",
        "load current =   1093.466419A\n",
        "Active component of current =   874.773135A\n",
        "Reactive component of current =   656.079851A\n",
        "Current supplied by each alternator = 546.733209A\n",
        "Active component of current supplied by each alternator =   437.386568A\n",
        "Reactive component of current supplied by each alternator =   328.039926A\n",
        "Since steam supply is same,the active component remain the same \n",
        "Reactive component of Il =  23A\n",
        "reactive component of I2 =   632.906796A\n",
        " I2 =   769.336091A\n",
        "phi 2 =   55.352588 degrees\n",
        "math.cos phi 2 =  0.568525\n"
       ]
      }
     ],
     "prompt_number": 28
    },
    {
     "cell_type": "heading",
     "level": 2,
     "metadata": {},
     "source": [
      "Example 5.17  Page No : 455"
     ]
    },
    {
     "cell_type": "code",
     "collapsed": false,
     "input": [
      "import math \n",
      "# Given Data;\n",
      "print (\"power factor of existing load is 0.8 lagging\");\n",
      "pf = 0.8; #power factor\n",
      "\n",
      "# Calculations and Results\n",
      "phi = math.degrees(math.acos(pf));\n",
      "print \"phi =  %d degree\"%(phi);\n",
      "L = 800.;   #load\n",
      "kVAr1 = (L*math.degrees(math.atan(phi)));\n",
      "print \"kVAr1 =  %d \"%(kVAr1);\n",
      "print (\"output for the synchronous motor is 200kW\");\n",
      "output = 200.;\n",
      "efficiency = 0.9;\n",
      "kW = (output/efficiency);\n",
      "print \"Input to the synchronous motor =  %fkW\"%(kW);\n",
      "TL = (L+kW); # total load\n",
      "print \"Total load on the system =  %fkW\"%(TL);\n",
      "print (\"overall power factor of the load is to be raised to 0.92 lagging\");\n",
      "pf = 0.92;\n",
      "phi = math.degrees(math.acos(pf));\n",
      "kVAr2 = (TL*math.degrees(math.atan(phi)))\n",
      "print \"kVAr2 = %f\"%(kVAr2);\n",
      "kVAr = kVAr1-kVAr2;\n",
      "print \"lagging kVAr of synchronous codenser =  %f\"%(kVAr);\n",
      "print \"leading kVAr supplied by the motor =  %f\"%(kVAr);\n",
      "phi = math.degrees(math.atan(kVAr/kW));\n",
      "print \"phi =  %d degree\"%(phi);\n",
      "print \"Power factor of the synchronos motor =  %f leading \"%(math.cos(math.radians(phi)));\n",
      "print \"KVA rating of the synchronous motor =  %f\"%(kW/math.cos(math.radians(phi)));\n",
      "\n"
     ],
     "language": "python",
     "metadata": {},
     "outputs": [
      {
       "output_type": "stream",
       "stream": "stdout",
       "text": [
        "power factor of existing load is 0.8 lagging\n",
        "phi =  36 degree\n",
        "kVAr1 =  70757 \n",
        "output for the synchronous motor is 200kW\n",
        "Input to the synchronous motor =  222.222222kW\n",
        "Total load on the system =  1022.222222kW\n",
        "overall power factor of the load is to be raised to 0.92 lagging\n",
        "kVAr2 = 89463.266068\n",
        "lagging kVAr of synchronous codenser =  -18706.160461\n",
        "leading kVAr supplied by the motor =  -18706.160461\n",
        "phi =  -89 degree\n",
        "Power factor of the synchronos motor =  0.011879 leading \n",
        "KVA rating of the synchronous motor =  18707.480373\n"
       ]
      }
     ],
     "prompt_number": 29
    }
   ],
   "metadata": {}
  }
 ]
}