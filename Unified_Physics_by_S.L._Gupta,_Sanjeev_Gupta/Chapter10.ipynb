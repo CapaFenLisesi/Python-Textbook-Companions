{
 "cells": [
  {
   "cell_type": "markdown",
   "metadata": {},
   "source": [
    "# 10: Nuclear Detectors"
   ]
  },
  {
   "cell_type": "markdown",
   "metadata": {},
   "source": [
    "## Example number 1, Page number 284"
   ]
  },
  {
   "cell_type": "code",
   "execution_count": 3,
   "metadata": {
    "collapsed": false
   },
   "outputs": [
    {
     "name": "stdout",
     "output_type": "stream",
     "text": [
      "average current is 1.33 *10**-10 amp\n"
     ]
    }
   ],
   "source": [
    "#importing modules\n",
    "import math\n",
    "from __future__ import division\n",
    "\n",
    "#Variable declaration    \n",
    "c=500;           #counting rate(counts/min)\n",
    "n=10**8;         #number of electrons per discharge\n",
    "e=1.6*10**-19;   #charge(coul)\n",
    "\n",
    "#Calculations\n",
    "tn=n*c*e;          #total number of electrons collected(coul/min)\n",
    "q=tn/60;           #average current(amp)\n",
    "\n",
    "#Result\n",
    "print \"average current is\",round(q*10**10,2),\"*10**-10 amp\""
   ]
  },
  {
   "cell_type": "markdown",
   "metadata": {},
   "source": [
    "## Example number 2, Page number 284"
   ]
  },
  {
   "cell_type": "code",
   "execution_count": 6,
   "metadata": {
    "collapsed": false
   },
   "outputs": [
    {
     "name": "stdout",
     "output_type": "stream",
     "text": [
      "counting rate per min is 500\n"
     ]
    }
   ],
   "source": [
    "#importing modules\n",
    "import math\n",
    "from __future__ import division\n",
    "\n",
    "#Variable declaration    \n",
    "q=1.333*10**-18;       #current(amp)\n",
    "e=1.6*10**-19;         #charge(coul)\n",
    "\n",
    "#Calculations\n",
    "n=q*60/e;              #counting rate per min\n",
    "\n",
    "#Result\n",
    "print \"counting rate per min is\",int(round(n))"
   ]
  },
  {
   "cell_type": "markdown",
   "metadata": {},
   "source": [
    "## Example number 3, Page number 284"
   ]
  },
  {
   "cell_type": "code",
   "execution_count": 8,
   "metadata": {
    "collapsed": false
   },
   "outputs": [
    {
     "name": "stdout",
     "output_type": "stream",
     "text": [
      "maximum permissible voltage fluctuations is 3.3 volt\n"
     ]
    }
   ],
   "source": [
    "#importing modules\n",
    "import math\n",
    "from __future__ import division\n",
    "\n",
    "#Variable declaration    \n",
    "cr=3;         #change in count rate(%)\n",
    "cv=100;       #change in working volt(V)\n",
    "crl=0.1;      #count rate limit(%)\n",
    "\n",
    "#Calculations\n",
    "V=crl*cv/cr;     #maximum permissible voltage fluctuations(volt)\n",
    "\n",
    "#Result\n",
    "print \"maximum permissible voltage fluctuations is\",round(V,1),\"volt\""
   ]
  },
  {
   "cell_type": "markdown",
   "metadata": {},
   "source": [
    "## Example number 4, Page number 285"
   ]
  },
  {
   "cell_type": "code",
   "execution_count": 8,
   "metadata": {
    "collapsed": false
   },
   "outputs": [
    {
     "name": "stdout",
     "output_type": "stream",
     "text": [
      "radial field at the centre is 9.45 *10**3 V/m\n",
      "answer for radial field given in the book is wrong\n",
      "counter will last for 3.7 years\n"
     ]
    }
   ],
   "source": [
    "#importing modules\n",
    "import math\n",
    "from __future__ import division\n",
    "\n",
    "#Variable declaration    \n",
    "V=1000;          #voltage(V)\n",
    "r=0.02;          #radius(m)\n",
    "b=2*10**-2;    \n",
    "a=10**-4; \n",
    "lt=10**9;        #life time(counts)\n",
    "x=2.7*10**8;     \n",
    "\n",
    "#Calculations\n",
    "Emax=V/(r*(2.3*math.log10(b/a)));     #radial field at the centre(V/m)\n",
    "N=lt/x;                               #counter will last for(years)\n",
    "\n",
    "#Result\n",
    "print \"radial field at the centre is\",round(Emax/10**3,2),\"*10**3 V/m\"\n",
    "print \"answer for radial field given in the book is wrong\"\n",
    "print \"counter will last for\",round(N,1),\"years\""
   ]
  }
 ],
 "metadata": {
  "kernelspec": {
   "display_name": "Python 2",
   "language": "python",
   "name": "python2"
  },
  "language_info": {
   "codemirror_mode": {
    "name": "ipython",
    "version": 2
   },
   "file_extension": ".py",
   "mimetype": "text/x-python",
   "name": "python",
   "nbconvert_exporter": "python",
   "pygments_lexer": "ipython2",
   "version": "2.7.11"
  }
 },
 "nbformat": 4,
 "nbformat_minor": 0
}
