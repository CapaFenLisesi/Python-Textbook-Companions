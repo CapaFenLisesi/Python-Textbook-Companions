{
 "cells": [
  {
   "cell_type": "markdown",
   "metadata": {},
   "source": [
    "# 9: Nuclear Reactions"
   ]
  },
  {
   "cell_type": "markdown",
   "metadata": {},
   "source": [
    "## Example number 1, Page number 272"
   ]
  },
  {
   "cell_type": "code",
   "execution_count": 8,
   "metadata": {
    "collapsed": false
   },
   "outputs": [
    {
     "name": "stdout",
     "output_type": "stream",
     "text": [
      "number of nuclei produced per second is 1.66 *10**5\n",
      "answer given in the book is wrong\n"
     ]
    }
   ],
   "source": [
    "#importing modules\n",
    "import math\n",
    "from __future__ import division\n",
    "\n",
    "#Variable declaration    \n",
    "rho=19.3*10**3;         #density(kg/m**3)\n",
    "N=6.02*10**23;          #avagadro number\n",
    "M=197;                  #molecular weight\n",
    "a=2*10**12;             #neutrons/m**2 sec\n",
    "A=5*10**-4;             #area(m**2)\n",
    "sigma=94*10**-28;               #reaction cross section(m**2)\n",
    "t=0.3*10**-3;                  #thickness(m)\n",
    "\n",
    "#Calculations\n",
    "n=rho*N/M;              #number of nuclei per unit volume(per m**3)\n",
    "N0=a*A;                 #number of neutrons hitting the target\n",
    "N0_N=N0*(1-math.exp(-n*sigma*t));       #number of nuclei produced per second\n",
    "\n",
    "#Result\n",
    "print \"number of nuclei produced per second is\",round(N0_N/10**5,2),\"*10**5\"\n",
    "print \"answer given in the book is wrong\""
   ]
  },
  {
   "cell_type": "markdown",
   "metadata": {},
   "source": [
    "## Example number 2, Page number 275"
   ]
  },
  {
   "cell_type": "code",
   "execution_count": 20,
   "metadata": {
    "collapsed": false
   },
   "outputs": [
    {
     "name": "stdout",
     "output_type": "stream",
     "text": [
      "energy of neutron is 19.768 MeV\n",
      "energy of Be is 5.007 MeV\n",
      "angle of recoil of Be atom is 44.855 or 45 degrees\n"
     ]
    }
   ],
   "source": [
    "#importing modules\n",
    "import math\n",
    "from __future__ import division\n",
    "\n",
    "#Variable declaration    \n",
    "M1=2.01472;       #molecular mass of H(amu)\n",
    "M0=7.01784;       #molecular mass of Li(amu)\n",
    "M2=8.00776;       #molecular mass of Be(amu)\n",
    "M3=1.00893;       #molecular mass of n(amu)\n",
    "Ek1=10;           #energy(MeV)\n",
    "\n",
    "#Calculations\n",
    "M1M0=M1+M0;       #mass of interacting particles(amu)\n",
    "M2M3=M2+M3;       #mass of product particles(amu)\n",
    "Q=(M1M0-M2M3)*931; #decrease in mass(MeV)\n",
    "Ek3=(Q+(Ek1*(1-(M1/M2))))/(1+(M3/M2));   #energy of neutron(MeV)\n",
    "Ek2=Q+Ek1-Ek3;        #energy of Be(MeV)\n",
    "phi=math.atan(math.sqrt(Ek3*M3/(Ek1*M1)));     #angle of recoil of Be atom(rad)\n",
    "phi=phi*180/math.pi;                   #angle of recoil of Be atom(degrees)\n",
    "\n",
    "#Result\n",
    "print \"energy of neutron is\",round(Ek3,3),\"MeV\" \n",
    "print \"energy of Be is\",round(Ek2,3),\"MeV\" \n",
    "print \"angle of recoil of Be atom is\",round(phi,3),\"or\",int(round(phi)),\"degrees\""
   ]
  },
  {
   "cell_type": "markdown",
   "metadata": {},
   "source": [
    "## Example number 3, Page number 277"
   ]
  },
  {
   "cell_type": "code",
   "execution_count": 22,
   "metadata": {
    "collapsed": false
   },
   "outputs": [
    {
     "name": "stdout",
     "output_type": "stream",
     "text": [
      "energy of emitted protons is 5.3 MeV\n"
     ]
    }
   ],
   "source": [
    "#importing modules\n",
    "import math\n",
    "from __future__ import division\n",
    "\n",
    "#Variable declaration    \n",
    "Q=-3.9;     #Q value of reaction(MeV)\n",
    "M1=1.0087;       #molecular mass of incident neutron(amu)\n",
    "M2=18.99;        #molecular mass of O nucleus(amu)\n",
    "M3=1.0078;       #molecular mass of proton(amu)\n",
    "Ek1=10;          #energy of incident neutron(MeV)\n",
    "\n",
    "#Calculations\n",
    "x=1-(M1/M2);\n",
    "y=1+(M3/M2);\n",
    "Ek3=(Q+Ek1*x)/y;   #energy of emitted protons(MeV)\n",
    "\n",
    "#Result\n",
    "print \"energy of emitted protons is\",round(Ek3,1),\"MeV\""
   ]
  }
 ],
 "metadata": {
  "kernelspec": {
   "display_name": "Python 2",
   "language": "python",
   "name": "python2"
  },
  "language_info": {
   "codemirror_mode": {
    "name": "ipython",
    "version": 2
   },
   "file_extension": ".py",
   "mimetype": "text/x-python",
   "name": "python",
   "nbconvert_exporter": "python",
   "pygments_lexer": "ipython2",
   "version": "2.7.11"
  }
 },
 "nbformat": 4,
 "nbformat_minor": 0
}
