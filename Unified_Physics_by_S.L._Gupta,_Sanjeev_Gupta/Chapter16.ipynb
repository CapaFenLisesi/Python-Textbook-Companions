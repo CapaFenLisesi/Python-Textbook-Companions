{
 "cells": [
  {
   "cell_type": "markdown",
   "metadata": {},
   "source": [
    "# 16: Superconductivity"
   ]
  },
  {
   "cell_type": "markdown",
   "metadata": {},
   "source": [
    "## Example number 1, Page number 384"
   ]
  },
  {
   "cell_type": "code",
   "execution_count": 4,
   "metadata": {
    "collapsed": false
   },
   "outputs": [
    {
     "name": "stdout",
     "output_type": "stream",
     "text": [
      "critical magnetic field is 6.37 *10**4 A/m\n"
     ]
    }
   ],
   "source": [
    "#importing modules\n",
    "import math\n",
    "from __future__ import division\n",
    "\n",
    "#Variable declaration    \n",
    "HcT=3.3*10**4;        #critical magnetic field(A/m)\n",
    "T=5;                  #temperature(K)\n",
    "Tc=7.2;               #critical temperature(K)\n",
    "\n",
    "#Calculations\n",
    "Hc0=HcT/(1-(T/Tc)**2);      #magnetic field(A/m)\n",
    "\n",
    "#Result\n",
    "print \"magnetic field is\",round(Hc0/10**4,2),\"*10**4 A/m\""
   ]
  },
  {
   "cell_type": "markdown",
   "metadata": {},
   "source": [
    "## Example number 2, Page number 384"
   ]
  },
  {
   "cell_type": "code",
   "execution_count": 9,
   "metadata": {
    "collapsed": false
   },
   "outputs": [
    {
     "name": "stdout",
     "output_type": "stream",
     "text": [
      "temperature is 7.08 K\n"
     ]
    }
   ],
   "source": [
    "#importing modules\n",
    "import math\n",
    "from __future__ import division\n",
    "\n",
    "#Variable declaration    \n",
    "HcT=4*10**4;        #critical magnetic field(A/m)\n",
    "Tc=7.26;            #critical temperature(K)\n",
    "Hc0=8*10**5;        #magnetic field(A/m)\n",
    "\n",
    "#Calculations\n",
    "T=Tc*math.sqrt(1-(HcT/Hc0));     #temperature(K)\n",
    "\n",
    "#Result\n",
    "print \"temperature is\",round(T,2),\"K\""
   ]
  },
  {
   "cell_type": "markdown",
   "metadata": {},
   "source": [
    "## Example number 3, Page number 384"
   ]
  },
  {
   "cell_type": "code",
   "execution_count": 10,
   "metadata": {
    "collapsed": false
   },
   "outputs": [
    {
     "name": "stdout",
     "output_type": "stream",
     "text": [
      "temperature is 6.83 K\n"
     ]
    }
   ],
   "source": [
    "#importing modules\n",
    "import math\n",
    "from __future__ import division\n",
    "\n",
    "#Variable declaration    \n",
    "Hc0=1;              #assume\n",
    "HcT=0.1*Hc0;        #critical magnetic field(A/m)\n",
    "Tc=7.2;            #critical temperature(K)\n",
    "\n",
    "#Calculations\n",
    "T=Tc*math.sqrt(1-(HcT/Hc0));     #temperature(K)\n",
    "\n",
    "#Result\n",
    "print \"temperature is\",round(T,2),\"K\""
   ]
  },
  {
   "cell_type": "markdown",
   "metadata": {},
   "source": [
    "## Example number 4, Page number 385"
   ]
  },
  {
   "cell_type": "code",
   "execution_count": 14,
   "metadata": {
    "collapsed": false
   },
   "outputs": [
    {
     "name": "stdout",
     "output_type": "stream",
     "text": [
      "critical magnetic field is 0.0217 tesla\n"
     ]
    }
   ],
   "source": [
    "#importing modules\n",
    "import math\n",
    "from __future__ import division\n",
    "\n",
    "#Variable declaration    \n",
    "Hc0=0.0306;            #magnetic field(Tesla)\n",
    "T=2;                  #temperature(K)\n",
    "Tc=3.7;               #critical temperature(K)\n",
    "\n",
    "#Calculations\n",
    "HcT=Hc0*(1-(T/Tc)**2);        #critical magnetic field(tesla)\n",
    "\n",
    "#Result\n",
    "print \"critical magnetic field is\",round(HcT,4),\"tesla\""
   ]
  },
  {
   "cell_type": "markdown",
   "metadata": {},
   "source": [
    "## Example number 5, Page number 385"
   ]
  },
  {
   "cell_type": "code",
   "execution_count": 24,
   "metadata": {
    "collapsed": false
   },
   "outputs": [
    {
     "name": "stdout",
     "output_type": "stream",
     "text": [
      "transition temperature is 8.21 K\n",
      "answer given in the book is wrong\n"
     ]
    }
   ],
   "source": [
    "#importing modules\n",
    "import math\n",
    "from __future__ import division\n",
    "\n",
    "#Variable declaration    \n",
    "HcT=1*10**4;        #critical magnetic field(A/m)\n",
    "T=8;                #temperature(K)\n",
    "Hc0=2*10**5;        #magnetic field(A/m)\n",
    "\n",
    "#Calculations\n",
    "Tc=T/math.sqrt(1-(HcT/Hc0));     #transition temperature(K)\n",
    "\n",
    "#Result\n",
    "print \"transition temperature is\",round(Tc,2),\"K\"\n",
    "print \"answer given in the book is wrong\""
   ]
  },
  {
   "cell_type": "markdown",
   "metadata": {},
   "source": [
    "## Example number 6, Page number 385"
   ]
  },
  {
   "cell_type": "code",
   "execution_count": 29,
   "metadata": {
    "collapsed": false
   },
   "outputs": [
    {
     "name": "stdout",
     "output_type": "stream",
     "text": [
      "transition temperature is 14.5 K\n",
      "critical field at 0K is 20.66 *10**5 A/m\n",
      "critical field at 4.2K is 18.9 *10**5 A/m\n"
     ]
    }
   ],
   "source": [
    "#importing modules\n",
    "import math\n",
    "from __future__ import division\n",
    "\n",
    "#Variable declaration    \n",
    "Hc1=1.4*10**5;        #critical magnetic field(A/m)\n",
    "Hc2=4.2*10**5;        #critical magnetic field(A/m)\n",
    "T1=14;                #temperature(K)\n",
    "T2=13;                #temperature(K)\n",
    "T3=4.2;               #temperature(K)\n",
    "\n",
    "#Calculations\n",
    "Tc=round(math.sqrt(((Hc1*T2**2)-(Hc2*T1**2))/(Hc1-Hc2)),1);        #transition temperature(K)\n",
    "H0=Hc1/(1-(T1/Tc)**2);                #critical field at 0K(A/m)\n",
    "Hc=H0*(1-(T3/Tc)**2);                 #critical field at 4.2K(A/m)\n",
    "\n",
    "#Result\n",
    "print \"transition temperature is\",Tc,\"K\"\n",
    "print \"critical field at 0K is\",round(H0/10**5,2),\"*10**5 A/m\"\n",
    "print \"critical field at 4.2K is\",round(Hc/10**5,1),\"*10**5 A/m\""
   ]
  },
  {
   "cell_type": "markdown",
   "metadata": {},
   "source": [
    "## Example number 7, Page number 390"
   ]
  },
  {
   "cell_type": "code",
   "execution_count": 31,
   "metadata": {
    "collapsed": false
   },
   "outputs": [
    {
     "name": "stdout",
     "output_type": "stream",
     "text": [
      "critical current is 24.819 amp\n"
     ]
    }
   ],
   "source": [
    "#importing modules\n",
    "import math\n",
    "from __future__ import division\n",
    "\n",
    "#Variable declaration    \n",
    "r=(10**-3)/2;       #radius(m)\n",
    "Hc=7.9*10**3;       #critical field(A/m)\n",
    "\n",
    "#Calculations\n",
    "Ic=2*math.pi*r*Hc;     #critical current(amp)\n",
    "\n",
    "#Result\n",
    "print \"critical current is\",round(Ic,3),\"amp\""
   ]
  },
  {
   "cell_type": "markdown",
   "metadata": {},
   "source": [
    "## Example number 8, Page number 390"
   ]
  },
  {
   "cell_type": "code",
   "execution_count": 37,
   "metadata": {
    "collapsed": false
   },
   "outputs": [
    {
     "name": "stdout",
     "output_type": "stream",
     "text": [
      "critical magnetic field is 4.276 *10**4 A/m\n",
      "critical current is 134.3 amp\n",
      "current density is 1.71 *10**8 A/m**2\n"
     ]
    }
   ],
   "source": [
    "#importing modules\n",
    "import math\n",
    "from __future__ import division\n",
    "\n",
    "#Variable declaration    \n",
    "Hc0=6.5*10**4;            #magnetic field(Tesla)\n",
    "T=4.2;                  #temperature(K)\n",
    "Tc=7.18;               #critical temperature(K)\n",
    "r=(10**-3)/2;       #radius(m)\n",
    "\n",
    "#Calculations\n",
    "HcT=Hc0*(1-(T/Tc)**2);        #critical magnetic field(tesla)\n",
    "Ic=2*math.pi*r*HcT;     #critical current(amp)\n",
    "A=math.pi*r**2;         #area(m**2)\n",
    "Jc=Ic/A;                #current density(A/m**2)\n",
    "\n",
    "#Result\n",
    "print \"critical magnetic field is\",round(HcT/10**4,3),\"*10**4 A/m\"\n",
    "print \"critical current is\",round(Ic,1),\"amp\"\n",
    "print \"current density is\",round(Jc/10**8,2),\"*10**8 A/m**2\""
   ]
  }
 ],
 "metadata": {
  "kernelspec": {
   "display_name": "Python 2",
   "language": "python",
   "name": "python2"
  },
  "language_info": {
   "codemirror_mode": {
    "name": "ipython",
    "version": 2
   },
   "file_extension": ".py",
   "mimetype": "text/x-python",
   "name": "python",
   "nbconvert_exporter": "python",
   "pygments_lexer": "ipython2",
   "version": "2.7.11"
  }
 },
 "nbformat": 4,
 "nbformat_minor": 0
}
