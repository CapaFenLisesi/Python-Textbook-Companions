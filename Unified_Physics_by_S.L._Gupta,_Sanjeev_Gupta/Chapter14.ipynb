{
 "cells": [
  {
   "cell_type": "markdown",
   "metadata": {},
   "source": [
    "# 14: Bonding In Crystals"
   ]
  },
  {
   "cell_type": "markdown",
   "metadata": {},
   "source": [
    "## Example number 1, Page number 361"
   ]
  },
  {
   "cell_type": "code",
   "execution_count": 1,
   "metadata": {
    "collapsed": false
   },
   "outputs": [
    {
     "name": "stdout",
     "output_type": "stream",
     "text": [
      "potential energy per ion pair is -3.981 eV\n",
      "answer in the book varies due to rounding off errors\n"
     ]
    }
   ],
   "source": [
    "#importing modules\n",
    "import math\n",
    "from __future__ import division\n",
    "\n",
    "#Variable declaration   \n",
    "e=1.6*10**-19;           #charge of electron(coulomb)\n",
    "r0=2.81*10**-10;             #distance between ions(m)\n",
    "A=1.748;      #constant\n",
    "x=9*10**9;         #let x=1/(4*math.pi*epsilon0)\n",
    "n=9;          \n",
    "\n",
    "#Calculations\n",
    "U0=-x*A*e**2*(1-(1/n))/(e*r0);       #potential energy per ion pair(eV)\n",
    "\n",
    "#Result\n",
    "print \"potential energy per ion pair is\",round(U0/2,3),\"eV\"\n",
    "print \"answer in the book varies due to rounding off errors\""
   ]
  }
 ],
 "metadata": {
  "kernelspec": {
   "display_name": "Python 2",
   "language": "python",
   "name": "python2"
  },
  "language_info": {
   "codemirror_mode": {
    "name": "ipython",
    "version": 2
   },
   "file_extension": ".py",
   "mimetype": "text/x-python",
   "name": "python",
   "nbconvert_exporter": "python",
   "pygments_lexer": "ipython2",
   "version": "2.7.11"
  }
 },
 "nbformat": 4,
 "nbformat_minor": 0
}
