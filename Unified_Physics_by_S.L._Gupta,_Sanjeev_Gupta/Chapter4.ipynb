{
 "cells": [
  {
   "cell_type": "markdown",
   "metadata": {},
   "source": [
    "# 4: Matter Waves"
   ]
  },
  {
   "cell_type": "markdown",
   "metadata": {},
   "source": [
    "## Example number 1, Page number 153"
   ]
  },
  {
   "cell_type": "code",
   "execution_count": 5,
   "metadata": {
    "collapsed": false
   },
   "outputs": [
    {
     "name": "stdout",
     "output_type": "stream",
     "text": [
      "de-Broglie wavelength in 1st case is 6.625e-34 m\n",
      "de-Broglie wavelength in 2nd case is 1.8 angstrom\n",
      "de-Broglie wavelength in 3rd case is 3.9 angstrom\n"
     ]
    }
   ],
   "source": [
    "#importing modules\n",
    "import math\n",
    "from __future__ import division\n",
    "\n",
    "#Variable declaration  \n",
    "e=1.602*10**-19;            #charge(coulomb)\n",
    "me=9.11*10**-31;            #mass(kg)\n",
    "h=6.625*10**-34;            #planks constant(Js)\n",
    "M=0.05;                     #mass(kg)\n",
    "v=20;                       #velocity(m/sec)\n",
    "vp=2200;                    #velocity of proton(m/sec)\n",
    "mp=1.67*10**-27;            #mass of proton(kg)\n",
    "E=10;                       #energy(eV)\n",
    "\n",
    "#Calculations\n",
    "lamda1=h/(M*v);     #de-Broglie wavelength in 1st case(m)\n",
    "lamda2=h/(mp*vp);     #de-Broglie wavelength in 2nd case(m)\n",
    "lamda3=h/math.sqrt(2*me*e*E);     #de-Broglie wavelength in 3rd case(m)\n",
    "\n",
    "#Result\n",
    "print \"de-Broglie wavelength in 1st case is\",lamda1,\"m\"\n",
    "print \"de-Broglie wavelength in 2nd case is\",round(lamda2*10**10,1),\"angstrom\"\n",
    "print \"de-Broglie wavelength in 3rd case is\",round(lamda3*10**10,1),\"angstrom\""
   ]
  },
  {
   "cell_type": "markdown",
   "metadata": {},
   "source": [
    "## Example number 2, Page number 154"
   ]
  },
  {
   "cell_type": "code",
   "execution_count": 12,
   "metadata": {
    "collapsed": false
   },
   "outputs": [
    {
     "name": "stdout",
     "output_type": "stream",
     "text": [
      "de-Broglie wavelength in 1st case is 1.225 angstrom\n",
      "de-Broglie wavelength in 2nd case is 0.1225 angstrom\n",
      "de-Broglie wavelength in 3rd case is 0.15313 angstrom\n",
      "answer given in the book is wrong\n",
      "de-Broglie wavelength in 4th case is 0.1225 angstrom\n",
      "de-Broglie wavelength in 5th case is 0.3963 angstrom\n"
     ]
    }
   ],
   "source": [
    "#importing modules\n",
    "import math\n",
    "from __future__ import division\n",
    "\n",
    "#Variable declaration  \n",
    "h=6.63*10**-34;            #planks constant(Js)\n",
    "vp=10**4;                  #velocity of proton(m/sec)\n",
    "mp=1.673*10**-27;          #mass of proton(kg)\n",
    "V1=100;                    #potential difference in 1st case(V)\n",
    "V2=10000;                  #potential difference in 2nd case(V)\n",
    "V3=6400;                  #potential difference in 3rd case(V)\n",
    "\n",
    "#Calculations\n",
    "lamda1=12.25/math.sqrt(V1);     #de-Broglie wavelength in 1st case(angstrom)\n",
    "lamda2=12.25/math.sqrt(V2);     #de-Broglie wavelength in 2nd case(angstrom)\n",
    "lamda3=12.25/math.sqrt(V3);     #de-Broglie wavelength in 3rd case(angstrom)\n",
    "lamda4=12.25/math.sqrt(V2);     #de-Broglie wavelength in 4th case(angstrom)\n",
    "lamda5=h*10**10/(mp*vp);        #de-Broglie wavelength in 5th case(angstrom)\n",
    "\n",
    "#Result\n",
    "print \"de-Broglie wavelength in 1st case is\",lamda1,\"angstrom\"\n",
    "print \"de-Broglie wavelength in 2nd case is\",lamda2,\"angstrom\"\n",
    "print \"de-Broglie wavelength in 3rd case is\",round(lamda3,5),\"angstrom\"\n",
    "print \"answer given in the book is wrong\"\n",
    "print \"de-Broglie wavelength in 4th case is\",lamda4,\"angstrom\"\n",
    "print \"de-Broglie wavelength in 5th case is\",round(lamda5,4),\"angstrom\""
   ]
  },
  {
   "cell_type": "markdown",
   "metadata": {},
   "source": [
    "## Example number 3, Page number 154"
   ]
  },
  {
   "cell_type": "code",
   "execution_count": 14,
   "metadata": {
    "collapsed": false
   },
   "outputs": [
    {
     "name": "stdout",
     "output_type": "stream",
     "text": [
      "de-Broglie wavelength of proton is 2.64 *10**-14 m\n"
     ]
    }
   ],
   "source": [
    "#importing modules\n",
    "import math\n",
    "from __future__ import division\n",
    "\n",
    "#Variable declaration  \n",
    "c=3*10**8;                  #velocity of light(m/sec)\n",
    "mp=1.67*10**-27;            #mass of proton(kg)\n",
    "h=6.62*10**-34;             #planks constant(Js)\n",
    "\n",
    "#Calculations\n",
    "v=c/20;             #velocity of proton(m/sec)\n",
    "lamda=h/(mp*v);     #de-Broglie wavelength of proton(m)\n",
    "\n",
    "#Result\n",
    "print \"de-Broglie wavelength of proton is\",round(lamda*10**14,2),\"*10**-14 m\""
   ]
  },
  {
   "cell_type": "markdown",
   "metadata": {},
   "source": [
    "## Example number 4, Page number 155"
   ]
  },
  {
   "cell_type": "code",
   "execution_count": 19,
   "metadata": {
    "collapsed": false
   },
   "outputs": [
    {
     "name": "stdout",
     "output_type": "stream",
     "text": [
      "energy of neutron is 8.13 *10**-2 eV\n"
     ]
    }
   ],
   "source": [
    "#importing modules\n",
    "import math\n",
    "from __future__ import division\n",
    "\n",
    "#Variable declaration  \n",
    "m=1.674*10**-27;           #mass of proton(kg)\n",
    "h=6.6*10**-34;             #planks constant(Js)\n",
    "lamda=10**-10;             #wavelength(m)\n",
    "e=1.6*10**-19;             #charge(coulomb)\n",
    "\n",
    "#Calculations\n",
    "E=h**2/(2*e*m*lamda**2);     #energy of neutron(eV)\n",
    "\n",
    "#Result\n",
    "print \"energy of neutron is\",round(E*10**2,2),\"*10**-2 eV\""
   ]
  },
  {
   "cell_type": "markdown",
   "metadata": {},
   "source": [
    "## Example number 5, Page number 155"
   ]
  },
  {
   "cell_type": "code",
   "execution_count": 24,
   "metadata": {
    "collapsed": false
   },
   "outputs": [
    {
     "name": "stdout",
     "output_type": "stream",
     "text": [
      "energy of neutron is 167217.6 eV\n",
      "answer given in the book is wrong\n"
     ]
    }
   ],
   "source": [
    "#importing modules\n",
    "import math\n",
    "from __future__ import division\n",
    "\n",
    "#Variable declaration  \n",
    "m=9.1*10**-31;           #mass of proton(kg)\n",
    "h=6.62*10**-34;             #planks constant(Js)\n",
    "lamda=3*10**-12;             #wavelength(m)\n",
    "e=1.6*10**-19;             #charge(coulomb)\n",
    "\n",
    "#Calculations\n",
    "E=h**2/(2*e*m*lamda**2);     #energy of neutron(eV)\n",
    "\n",
    "#Result\n",
    "print \"energy of neutron is\",round(E,1),\"eV\"\n",
    "print \"answer given in the book is wrong\""
   ]
  },
  {
   "cell_type": "markdown",
   "metadata": {},
   "source": [
    "## Example number 6, Page number 155"
   ]
  },
  {
   "cell_type": "code",
   "execution_count": 26,
   "metadata": {
    "collapsed": false
   },
   "outputs": [
    {
     "name": "stdout",
     "output_type": "stream",
     "text": [
      "voltage is 934.9 V\n",
      "answer given in the book is wrong\n"
     ]
    }
   ],
   "source": [
    "#importing modules\n",
    "import math\n",
    "from __future__ import division\n",
    "\n",
    "#Variable declaration  \n",
    "m=9.1*10**-31;           #mass of proton(kg)\n",
    "h=6.6*10**-34;           #planks constant(Js)\n",
    "lamda=0.4*10**-10;       #wavelength(m)\n",
    "e=1.6*10**-19;           #charge(coulomb)\n",
    "\n",
    "#Calculations\n",
    "V=h**2/(2*m*e*lamda**2);    #voltage(V)\n",
    "\n",
    "#Result\n",
    "print \"voltage is\",round(V,1),\"V\"\n",
    "print \"answer given in the book is wrong\""
   ]
  },
  {
   "cell_type": "markdown",
   "metadata": {},
   "source": [
    "## Example number 7, Page number 156"
   ]
  },
  {
   "cell_type": "code",
   "execution_count": 31,
   "metadata": {
    "collapsed": false
   },
   "outputs": [
    {
     "name": "stdout",
     "output_type": "stream",
     "text": [
      "velocity is 3.97 *10**3 m/sec\n",
      "kinetic energy of particle is 0.08225 eV\n",
      "answer in the book varies due to rounding off errors\n"
     ]
    }
   ],
   "source": [
    "#importing modules\n",
    "import math\n",
    "from __future__ import division\n",
    "\n",
    "#Variable declaration  \n",
    "m=1.67*10**-27;          #mass of proton(kg)\n",
    "h=6.63*10**-34;          #planks constant(Js)\n",
    "lamda=10**-10;           #wavelength(m)\n",
    "e=1.6*10**-19;           #charge(coulomb)\n",
    "\n",
    "#Calculations\n",
    "v=h/(m*lamda);           #velocity(m/sec)\n",
    "E=m*v**2/(2*e);          #kinetic energy of particle(eV)\n",
    "\n",
    "#Result\n",
    "print \"velocity is\",round(v/10**3,2),\"*10**3 m/sec\"\n",
    "print \"kinetic energy of particle is\",round(E,5),\"eV\"\n",
    "print \"answer in the book varies due to rounding off errors\""
   ]
  },
  {
   "cell_type": "markdown",
   "metadata": {},
   "source": [
    "## Example number 8, Page number 156"
   ]
  },
  {
   "cell_type": "code",
   "execution_count": 36,
   "metadata": {
    "collapsed": false
   },
   "outputs": [
    {
     "name": "stdout",
     "output_type": "stream",
     "text": [
      "wavelength of photon is 12.4 angstrom\n",
      "wavelength of electron is 0.39 angstrom\n"
     ]
    }
   ],
   "source": [
    "#importing modules\n",
    "import math\n",
    "from __future__ import division\n",
    "\n",
    "#Variable declaration \n",
    "c=3*10**8;              #velocity of light(m/sec)\n",
    "E=1000;                 #energy(eV)  \n",
    "m=9.1*10**-31;          #mass of proton(kg)\n",
    "h=6.6*10**-34;          #planks constant(Js)\n",
    "e=1.6*10**-19;          #charge(coulomb)\n",
    "\n",
    "#Calculations\n",
    "lamdap=h*c/(E*e);            #wavelength of photon(m)\n",
    "lamdae=h/math.sqrt(2*m*e*E);    #wavelength of electron(m)\n",
    "\n",
    "#Result\n",
    "print \"wavelength of photon is\",round(lamdap*10**10,1),\"angstrom\"\n",
    "print \"wavelength of electron is\",round(lamdae*10**10,2),\"angstrom\""
   ]
  },
  {
   "cell_type": "markdown",
   "metadata": {},
   "source": [
    "## Example number 9, Page number 157"
   ]
  },
  {
   "cell_type": "code",
   "execution_count": 39,
   "metadata": {
    "collapsed": false
   },
   "outputs": [
    {
     "name": "stdout",
     "output_type": "stream",
     "text": [
      "energy is 2.4 *10**-15 J\n",
      "wavelength of photo-electron is 0.1 angstrom\n"
     ]
    }
   ],
   "source": [
    "#importing modules\n",
    "import math\n",
    "from __future__ import division\n",
    "\n",
    "#Variable declaration \n",
    "c=3*10**8;              #velocity of light(m/sec)\n",
    "m=9.1*10**-31;          #mass of proton(kg)\n",
    "h=6.6*10**-34;          #planks constant(Js)\n",
    "lamda=0.82*10**-10;     #wavelength(m)\n",
    "\n",
    "#Calculations\n",
    "E=h*c/lamda;            #energy(J)\n",
    "lamda=h/math.sqrt(2*m*E);    #wavelength of photo-electron(m)\n",
    "\n",
    "#Result\n",
    "print \"energy is\",round(E*10**15,1),\"*10**-15 J\"\n",
    "print \"wavelength of photo-electron is\",round(lamda*10**10,1),\"angstrom\""
   ]
  },
  {
   "cell_type": "markdown",
   "metadata": {},
   "source": [
    "## Example number 10, Page number 157"
   ]
  },
  {
   "cell_type": "code",
   "execution_count": 47,
   "metadata": {
    "collapsed": false
   },
   "outputs": [
    {
     "name": "stdout",
     "output_type": "stream",
     "text": [
      "wavelength of quantum is 0.0242 angstrom\n",
      "answer in the book varies due to rounding off errors\n"
     ]
    }
   ],
   "source": [
    "#importing modules\n",
    "import math\n",
    "from __future__ import division\n",
    "\n",
    "#Variable declaration \n",
    "c=3*10**8;              #velocity of light(m/sec)\n",
    "m=9.1*10**-31;          #mass of proton(kg)\n",
    "h=6.6*10**-34;          #planks constant(Js)\n",
    "\n",
    "#Calculations\n",
    "lamda=h/(m*c);          #wavelength of quantum(m)\n",
    "\n",
    "#Result\n",
    "print \"wavelength of quantum is\",round(lamda*10**10,4),\"angstrom\"\n",
    "print \"answer in the book varies due to rounding off errors\""
   ]
  },
  {
   "cell_type": "markdown",
   "metadata": {},
   "source": [
    "## Example number 11, Page number 158"
   ]
  },
  {
   "cell_type": "code",
   "execution_count": 51,
   "metadata": {
    "collapsed": false
   },
   "outputs": [
    {
     "name": "stdout",
     "output_type": "stream",
     "text": [
      "de-broglie wavelength is 2.86 *10**-18 m\n"
     ]
    }
   ],
   "source": [
    "#importing modules\n",
    "import math\n",
    "from __future__ import division\n",
    "\n",
    "#Variable declaration \n",
    "E=10**14;               #kinetic energy(eV)\n",
    "e=1.6*10**-19;          #charge(coulomb)\n",
    "m=1.675*10**-27;        #mass of proton(kg)\n",
    "h=6.625*10**-34;        #planks constant(Js)\n",
    "\n",
    "#Calculations\n",
    "v=math.sqrt(2*e*E/m);   #velocity(m/sec)  \n",
    "lamda=h/(m*v);          #de-broglie wavelength(m)\n",
    "\n",
    "#Result\n",
    "print \"de-broglie wavelength is\",round(lamda*10**18,2),\"*10**-18 m\""
   ]
  },
  {
   "cell_type": "markdown",
   "metadata": {},
   "source": [
    "## Example number 12, Page number 158"
   ]
  },
  {
   "cell_type": "code",
   "execution_count": 56,
   "metadata": {
    "collapsed": false
   },
   "outputs": [
    {
     "name": "stdout",
     "output_type": "stream",
     "text": [
      "de-broglie wavelength is 7.998 *10**-15 m\n",
      "answer given in the book is wrong\n"
     ]
    }
   ],
   "source": [
    "#importing modules\n",
    "import math\n",
    "from __future__ import division\n",
    "\n",
    "#Variable declaration \n",
    "E=12.8*10**6;               #kinetic energy(eV)\n",
    "e=1.6*10**-19;          #charge(coulomb)\n",
    "m=1.675*10**-27;        #mass of proton(kg)\n",
    "h=6.625*10**-34;        #planks constant(Js)\n",
    "\n",
    "#Calculations\n",
    "v=math.sqrt(2*e*E/m);   #velocity(m/sec)  \n",
    "lamda=h/(m*v);          #de-broglie wavelength(m)\n",
    "\n",
    "#Result\n",
    "print \"de-broglie wavelength is\",round(lamda*10**15,3),\"*10**-15 m\"\n",
    "print \"answer given in the book is wrong\""
   ]
  },
  {
   "cell_type": "markdown",
   "metadata": {},
   "source": [
    "## Example number 13, Page number 158"
   ]
  },
  {
   "cell_type": "code",
   "execution_count": 64,
   "metadata": {
    "collapsed": false
   },
   "outputs": [
    {
     "name": "stdout",
     "output_type": "stream",
     "text": [
      "de-broglie wavelength is 0.0004 angstrom\n",
      "answer given in the book is wrong\n"
     ]
    }
   ],
   "source": [
    "#importing modules\n",
    "import math\n",
    "from __future__ import division\n",
    "\n",
    "#Variable declaration \n",
    "E=12.8*10**6;           #kinetic energy(eV)\n",
    "c=3*10**8;              #velocity of light(m/sec)\n",
    "m=9.1*10**-31;          #mass of electron(kg)\n",
    "mp=1836*m;              #mass of proton(kg) \n",
    "h=6.625*10**-34;        #planks constant(Js)\n",
    "e=1.6*10**-19;          #charge(coulomb)\n",
    "\n",
    "#Calculations\n",
    "E=m*c**2;               #energy(J)\n",
    "v=math.sqrt(2*E/mp);    #velocity(m/sec)  \n",
    "lamda=h/(mp*v);          #de-broglie wavelength(m)\n",
    "\n",
    "#Result\n",
    "print \"de-broglie wavelength is\",round(lamda*10**10,4),\"angstrom\"\n",
    "print \"answer given in the book is wrong\""
   ]
  },
  {
   "cell_type": "markdown",
   "metadata": {},
   "source": [
    "## Example number 14, Page number 159"
   ]
  },
  {
   "cell_type": "code",
   "execution_count": 70,
   "metadata": {
    "collapsed": false
   },
   "outputs": [
    {
     "name": "stdout",
     "output_type": "stream",
     "text": [
      "wavelength is 1.777 angstrom\n"
     ]
    }
   ],
   "source": [
    "#importing modules\n",
    "import math\n",
    "from __future__ import division\n",
    "\n",
    "#Variable declaration \n",
    "T=300;                #temperature(K)\n",
    "m=1.67*10**-27;       #mass of electron(kg)\n",
    "h=6.60*10**-34;       #planks constant(Js)\n",
    "k=8.6*10**-5;         #boltzmann constant(eV deg-1)\n",
    "e=1.6*10**-19;        #charge(coulomb)\n",
    "\n",
    "#Calculations\n",
    "lamda=h/math.sqrt(2*m*e*k*T);     #wavelength(m)\n",
    "\n",
    "#Result\n",
    "print \"wavelength is\",round(lamda*10**10,3),\"angstrom\""
   ]
  },
  {
   "cell_type": "markdown",
   "metadata": {},
   "source": [
    "## Example number 16, Page number 160"
   ]
  },
  {
   "cell_type": "code",
   "execution_count": 77,
   "metadata": {
    "collapsed": false
   },
   "outputs": [
    {
     "name": "stdout",
     "output_type": "stream",
     "text": [
      "de-broglie wavelength is 4.047 *10**11 angstrom\n",
      "answer given in the book is wrong\n"
     ]
    }
   ],
   "source": [
    "#importing modules\n",
    "import math\n",
    "from __future__ import division\n",
    "\n",
    "#Variable declaration \n",
    "E=0.512*10**6;          #kinetic energy(eV)\n",
    "e=1.6*10**-19;          #charge(coulomb)\n",
    "m=1.673*10**-27;        #mass of proton(kg)\n",
    "h=6.63*10**-34;         #planks constant(Js)\n",
    "\n",
    "#Calculations\n",
    "v=2*e*E/m;   #velocity(m/sec)  \n",
    "lamda=h*10**10/(m*v);          #de-broglie wavelength(angstrom)\n",
    "\n",
    "#Result\n",
    "print \"de-broglie wavelength is\",round(lamda*10**11,3),\"*10**11 angstrom\"\n",
    "print \"answer given in the book is wrong\""
   ]
  },
  {
   "cell_type": "markdown",
   "metadata": {},
   "source": [
    "## Example number 17, Page number 160"
   ]
  },
  {
   "cell_type": "code",
   "execution_count": 3,
   "metadata": {
    "collapsed": false
   },
   "outputs": [
    {
     "name": "stdout",
     "output_type": "stream",
     "text": [
      "de-broglie wavelength is 0.006348 angstrom\n"
     ]
    }
   ],
   "source": [
    "#importing modules\n",
    "import math\n",
    "from __future__ import division\n",
    "\n",
    "#Variable declaration \n",
    "E=0.512*10**6;          #rest mass energy(eV)\n",
    "e=1.6*10**-19;          #charge(coulomb)\n",
    "KE=1.512*10**6;         #kinetic energy(eV) \n",
    "c=3*10**8;              #velocity of light(m/sec)\n",
    "m0=9.1*10**-31;         #mass of proton(kg)\n",
    "h=6.63*10**-34;         #planks constant(Js)\n",
    "\n",
    "#Calculations\n",
    "E1=(E+KE)*e;                #energy(J)\n",
    "m=E1/c**2;                   #mass(kg)\n",
    "v=math.sqrt(c**2*(1-(m0/m)**2));      #velocity(m/sec)\n",
    "lamda=h*10**10/(m*v);          #de-broglie wavelength(angstrom)\n",
    "\n",
    "#Result\n",
    "print \"de-broglie wavelength is\",round(lamda,6),\"angstrom\""
   ]
  },
  {
   "cell_type": "markdown",
   "metadata": {},
   "source": [
    "## Example number 18, Page number 161"
   ]
  },
  {
   "cell_type": "code",
   "execution_count": 8,
   "metadata": {
    "collapsed": false
   },
   "outputs": [
    {
     "name": "stdout",
     "output_type": "stream",
     "text": [
      "de-broglie wavelength is 1.45 *10**-10 metre\n",
      "answer in the book varies due to rounding off errors\n"
     ]
    }
   ],
   "source": [
    "#importing modules\n",
    "import math\n",
    "from __future__ import division\n",
    "\n",
    "#Variable declaration \n",
    "k=1.38*10**-23;        #boltzmann constant\n",
    "T=300;                 #temperature(K)\n",
    "m0=1.67*10**-27;       #mass of proton(kg)\n",
    "h=6.6*10**-34;         #planks constant(Js)\n",
    "\n",
    "#Calculations\n",
    "lamda=h/math.sqrt(3*m0*k*T);          #de-broglie wavelength(metre)\n",
    "\n",
    "#Result\n",
    "print \"de-broglie wavelength is\",round(lamda*10**10,2),\"*10**-10 metre\"\n",
    "print \"answer in the book varies due to rounding off errors\""
   ]
  },
  {
   "cell_type": "markdown",
   "metadata": {},
   "source": [
    "## Example number 19, Page number 162"
   ]
  },
  {
   "cell_type": "code",
   "execution_count": 11,
   "metadata": {
    "collapsed": false
   },
   "outputs": [
    {
     "name": "stdout",
     "output_type": "stream",
     "text": [
      "interplanar spacing is 1.78 angstrom\n"
     ]
    }
   ],
   "source": [
    "#importing modules\n",
    "import math\n",
    "from __future__ import division\n",
    "\n",
    "#Variable declaration \n",
    "k=1.38*10**-23;        #boltzmann constant\n",
    "T=300;                 #temperature(K)\n",
    "mn=1.67*10**-27;       #mass of proton(kg)\n",
    "h=6.62*10**-34;        #planks constant(Js)\n",
    "\n",
    "#Calculations\n",
    "E=k*T;                 #energy(J)\n",
    "p=math.sqrt(2*mn*E);   \n",
    "d=h*10**10/p;                 #interplanar spacing(angstrom)\n",
    "\n",
    "#Result\n",
    "print \"interplanar spacing is\",round(d,2),\"angstrom\""
   ]
  },
  {
   "cell_type": "markdown",
   "metadata": {},
   "source": [
    "## Example number 20, Page number 162"
   ]
  },
  {
   "cell_type": "code",
   "execution_count": 15,
   "metadata": {
    "collapsed": false
   },
   "outputs": [
    {
     "name": "stdout",
     "output_type": "stream",
     "text": [
      "interplanar spacing is 0.4 angstrom\n",
      "answer given in the book is wrong\n"
     ]
    }
   ],
   "source": [
    "#importing modules\n",
    "import math\n",
    "from __future__ import division\n",
    "\n",
    "#Variable declaration \n",
    "m=9*10**-31;       #mass of proton(kg)\n",
    "e=1.6*10**-19;     #charge(coulomb)\n",
    "V=344;             #voltage(V)\n",
    "h=6.62*10**-34;    #planks constant(Js)\n",
    "theta=60*math.pi/180;     #angle(radian)\n",
    "\n",
    "#Calculations\n",
    "d=h*10**10/(2*math.sin(theta)*math.sqrt(2*m*e*V));     #spacing of crystal(angstrom)\n",
    "\n",
    "#Result\n",
    "print \"interplanar spacing is\",round(d,1),\"angstrom\"\n",
    "print \"answer given in the book is wrong\""
   ]
  }
 ],
 "metadata": {
  "kernelspec": {
   "display_name": "Python 2",
   "language": "python",
   "name": "python2"
  },
  "language_info": {
   "codemirror_mode": {
    "name": "ipython",
    "version": 2
   },
   "file_extension": ".py",
   "mimetype": "text/x-python",
   "name": "python",
   "nbconvert_exporter": "python",
   "pygments_lexer": "ipython2",
   "version": "2.7.11"
  }
 },
 "nbformat": 4,
 "nbformat_minor": 0
}
