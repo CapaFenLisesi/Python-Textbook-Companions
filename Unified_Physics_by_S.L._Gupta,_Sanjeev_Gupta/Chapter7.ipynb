{
 "cells": [
  {
   "cell_type": "markdown",
   "metadata": {},
   "source": [
    "# 7: Nuclear Structure"
   ]
  },
  {
   "cell_type": "markdown",
   "metadata": {},
   "source": [
    "## Example number 1, Page number 235"
   ]
  },
  {
   "cell_type": "code",
   "execution_count": 3,
   "metadata": {
    "collapsed": false
   },
   "outputs": [
    {
     "name": "stdout",
     "output_type": "stream",
     "text": [
      "total mass is 11.7167 *10**-27 kg\n"
     ]
    }
   ],
   "source": [
    "#importing modules\n",
    "import math\n",
    "from __future__ import division\n",
    "\n",
    "#Variable declaration  \n",
    "mp=1.6725*10**-27;         #mass of proton(kg)\n",
    "mn=1.6748*10**-27;         #mass of neutron(kg)\n",
    "\n",
    "#Calculations\n",
    "m=(3*mp)+(4*mn);           #total mass(kg)\n",
    "\n",
    "#Result\n",
    "print \"total mass is\",m*10**27,\"*10**-27 kg\""
   ]
  },
  {
   "cell_type": "markdown",
   "metadata": {},
   "source": [
    "## Example number 2, Page number 235"
   ]
  },
  {
   "cell_type": "code",
   "execution_count": 10,
   "metadata": {
    "collapsed": false
   },
   "outputs": [
    {
     "name": "stdout",
     "output_type": "stream",
     "text": [
      "number of electrons is 36 *10**23\n",
      "number of protons is 36 *10**23\n",
      "number of neutrons is 48 *10**23\n"
     ]
    }
   ],
   "source": [
    "#importing modules\n",
    "import math\n",
    "from __future__ import division\n",
    "\n",
    "#Variable declaration  \n",
    "N=6*10**23;         #avagadro number\n",
    "\n",
    "#Calculations\n",
    "e=6*N;              #number of electrons\n",
    "p=6*N;              #number of protons\n",
    "n=8*N;              #number of neutrons\n",
    "\n",
    "#Result\n",
    "print \"number of electrons is\",int(e/10**23),\"*10**23\"\n",
    "print \"number of protons is\",int(p/10**23),\"*10**23\"\n",
    "print \"number of neutrons is\",int(n/10**23),\"*10**23\""
   ]
  },
  {
   "cell_type": "markdown",
   "metadata": {},
   "source": [
    "## Example number 3, Page number 235"
   ]
  },
  {
   "cell_type": "code",
   "execution_count": 14,
   "metadata": {
    "collapsed": false
   },
   "outputs": [
    {
     "name": "stdout",
     "output_type": "stream",
     "text": [
      "mass number of nucleus is 9\n"
     ]
    }
   ],
   "source": [
    "#importing modules\n",
    "import math\n",
    "from __future__ import division\n",
    "\n",
    "#Variable declaration  \n",
    "r=2.71*10**-15;       #radius(m)\n",
    "r0=1.3*10**-15;       \n",
    "\n",
    "#Calculations\n",
    "A=(r/r0)**3;          #mass number of nucleus\n",
    "\n",
    "#Result\n",
    "print \"mass number of nucleus is\",int(A)"
   ]
  },
  {
   "cell_type": "markdown",
   "metadata": {},
   "source": [
    "## Example number 4, Page number 235"
   ]
  },
  {
   "cell_type": "code",
   "execution_count": 20,
   "metadata": {
    "collapsed": false
   },
   "outputs": [
    {
     "name": "stdout",
     "output_type": "stream",
     "text": [
      "radius of He is 2.2375 fermi\n"
     ]
    }
   ],
   "source": [
    "#importing modules\n",
    "import math\n",
    "from __future__ import division\n",
    "\n",
    "#Variable declaration  \n",
    "r1=7.731;       #radius(fermi)\n",
    "A1=165;         #mass number of Ho\n",
    "A2=4;           #mass number of He       \n",
    "\n",
    "#Calculations\n",
    "r2=r1*(A2/A1)**(1/3);       #radius of He(fermi)\n",
    "\n",
    "#Result\n",
    "print \"radius of He is\",round(r2,4),\"fermi\""
   ]
  },
  {
   "cell_type": "markdown",
   "metadata": {},
   "source": [
    "## Example number 5, Page number 236"
   ]
  },
  {
   "cell_type": "code",
   "execution_count": 23,
   "metadata": {
    "collapsed": false
   },
   "outputs": [
    {
     "name": "stdout",
     "output_type": "stream",
     "text": [
      "radius of nucleus is 4.8 fermi\n"
     ]
    }
   ],
   "source": [
    "#importing modules\n",
    "import math\n",
    "from __future__ import division\n",
    "\n",
    "#Variable declaration  \n",
    "r1=6;       #radius(fermi)\n",
    "A1=125;     #mass number of nucleus\n",
    "A2=64;      #mass number of nucleus   \n",
    "\n",
    "#Calculations\n",
    "r2=r1*(A2/A1)**(1/3);       #radius of nucleus(fermi)\n",
    "\n",
    "#Result\n",
    "print \"radius of nucleus is\",r2,\"fermi\""
   ]
  },
  {
   "cell_type": "markdown",
   "metadata": {},
   "source": [
    "## Example number 6, Page number 236"
   ]
  },
  {
   "cell_type": "code",
   "execution_count": 25,
   "metadata": {
    "collapsed": false
   },
   "outputs": [
    {
     "name": "stdout",
     "output_type": "stream",
     "text": [
      "density of nuclear matter is 1.8 *10**17 kg/m**3\n"
     ]
    }
   ],
   "source": [
    "#importing modules\n",
    "import math\n",
    "from __future__ import division\n",
    "\n",
    "#Variable declaration  \n",
    "A=1;     #assume\n",
    "r=1.3*A**(1/3)*10**-15;       #radius(m)   \n",
    "amu=1.66*10**-27;     #amu(kg)\n",
    "\n",
    "#Calculations\n",
    "V=4*math.pi*r**3/3;     #volume(m**3)\n",
    "M=A*amu;\n",
    "rho=M/V;                #density of nuclear matter(kg/m**3)\n",
    "\n",
    "#Result\n",
    "print \"density of nuclear matter is\",round(rho/10**17,1),\"*10**17 kg/m**3\""
   ]
  },
  {
   "cell_type": "markdown",
   "metadata": {},
   "source": [
    "## Example number 7, Page number 236"
   ]
  },
  {
   "cell_type": "code",
   "execution_count": 33,
   "metadata": {
    "collapsed": false
   },
   "outputs": [
    {
     "name": "stdout",
     "output_type": "stream",
     "text": [
      "electrostatic potential energy is 3.91 *10**-11 eV\n",
      "answer given in the book is wrong\n"
     ]
    }
   ],
   "source": [
    "#importing modules\n",
    "import math\n",
    "from __future__ import division\n",
    "\n",
    "#Variable declaration  \n",
    "A=235/2;     #mass number\n",
    "r=1.3*A**(1/3)*10**-15;       #radius(m)   \n",
    "Z=46;                         #atomic number\n",
    "e=1.6*10**-19;                #charge(coulomb)\n",
    "epsilon0=8.65*10**-12;       \n",
    "\n",
    "#Calculations\n",
    "U=(Z*e)**2/(4*math.pi*epsilon0*2*r);     #electrostatic potential energy(eV)\n",
    "\n",
    "#Result\n",
    "print \"electrostatic potential energy is\",round(U*10**11,2),\"*10**-11 eV\"\n",
    "print \"answer given in the book is wrong\""
   ]
  },
  {
   "cell_type": "markdown",
   "metadata": {},
   "source": [
    "## Example number 8, Page number 240"
   ]
  },
  {
   "cell_type": "code",
   "execution_count": 38,
   "metadata": {
    "collapsed": false
   },
   "outputs": [
    {
     "name": "stdout",
     "output_type": "stream",
     "text": [
      "binding energy of alpha particle is 28.5229 MeV\n",
      "binding energy per nucleon is 7.1307 MeV\n",
      "answer given in the book is wrong\n"
     ]
    }
   ],
   "source": [
    "#importing modules\n",
    "import math\n",
    "from __future__ import division\n",
    "\n",
    "#Variable declaration  \n",
    "mp=1.007277;         #mass of proton(amu)\n",
    "mhn=4.001265;        #mass of helium nucleus(amu)\n",
    "mn=1.008666;         #mass of neutron(amu)\n",
    "amu=931.4812;        #amu(MeV)\n",
    "\n",
    "#Calculations\n",
    "m=(2*mp)+(2*mn);           #total initial mass(amu)\n",
    "deltam=m-mhn;              #mass defect(amu)\n",
    "BEalpha=deltam*amu;        #binding energy of alpha particle(MeV)\n",
    "BEn=BEalpha/4;             #binding energy per nucleon(MeV)\n",
    "\n",
    "#Result\n",
    "print \"binding energy of alpha particle is\",round(BEalpha,4),\"MeV\"\n",
    "print \"binding energy per nucleon is\",round(BEn,4),\"MeV\"\n",
    "print \"answer given in the book is wrong\""
   ]
  },
  {
   "cell_type": "markdown",
   "metadata": {},
   "source": [
    "## Example number 9, Page number 240"
   ]
  },
  {
   "cell_type": "code",
   "execution_count": 45,
   "metadata": {
    "collapsed": false
   },
   "outputs": [
    {
     "name": "stdout",
     "output_type": "stream",
     "text": [
      "energy released is 63.0 *10**10  J\n",
      "electrical energy is 8.75 *10**3 kilowatt hour\n"
     ]
    }
   ],
   "source": [
    "#importing modules\n",
    "import math\n",
    "from __future__ import division\n",
    "\n",
    "#Variable declaration  \n",
    "mh=1*10**-3;         #mass of hydrogen(kg)\n",
    "mhe=0.993*10**-3;    #mass of helium(kg)\n",
    "e=5/100;             #efficiency\n",
    "c=3*10**8;           #velocity of light(m/sec)\n",
    "x=36*10**5;     \n",
    "\n",
    "#Calculations\n",
    "deltam=mh-mhe;              #mass defect(kg)\n",
    "E=deltam*c**2;                   #energy released(J)\n",
    "EE=e*E/x;                   #electrical energy(kilowatt hour)\n",
    "\n",
    "#Result\n",
    "print \"energy released is\",E/10**10,\"*10**10  J\"\n",
    "print \"electrical energy is\",round(EE/10**3,2),\"*10**3 kilowatt hour\""
   ]
  },
  {
   "cell_type": "markdown",
   "metadata": {},
   "source": [
    "## Example number 10, Page number 241"
   ]
  },
  {
   "cell_type": "code",
   "execution_count": 47,
   "metadata": {
    "collapsed": false
   },
   "outputs": [
    {
     "name": "stdout",
     "output_type": "stream",
     "text": [
      "energy released is 0.73 MeV\n"
     ]
    }
   ],
   "source": [
    "#importing modules\n",
    "import math\n",
    "from __future__ import division\n",
    "\n",
    "#Variable declaration  \n",
    "mp=1.6725*10**-27;         #mass of proton(kg)\n",
    "me=9*10**-31;              #mass of electron(kg)\n",
    "mn=1.6747*10**-27;         #mass of neutron(kg)\n",
    "c=3*10**8;                 #velocity of light(m/sec)\n",
    "e=1.6*10**-19;             #charge(coulomb)\n",
    "\n",
    "#Calculations\n",
    "deltam=mn-(mp+me);         #mass defect(kg)\n",
    "E=deltam*c**2/(e*10**6);             #energy released(MeV)\n",
    "\n",
    "#Result\n",
    "print \"energy released is\",round(E,2),\"MeV\""
   ]
  },
  {
   "cell_type": "markdown",
   "metadata": {},
   "source": [
    "## Example number 11, Page number 241"
   ]
  },
  {
   "cell_type": "code",
   "execution_count": 53,
   "metadata": {
    "collapsed": false
   },
   "outputs": [
    {
     "name": "stdout",
     "output_type": "stream",
     "text": [
      "atomic mass is 34.96908 amu\n"
     ]
    }
   ],
   "source": [
    "#importing modules\n",
    "import math\n",
    "from __future__ import division\n",
    "\n",
    "#Variable declaration  \n",
    "mp=1.007825;         #mass of proton(amu)\n",
    "mn=1.008665;         #mass of neutron(amu)\n",
    "BE=298;              #binding energy(MeV)\n",
    "amu=931.5;           #amu(MeV)\n",
    "\n",
    "#Calculations\n",
    "m=(17*mp)+(18*mn);           #total initial mass(amu)\n",
    "deltam=BE/amu;                 #mass defect(amu)\n",
    "Am=m-deltam;                 #atomic mass(amu)\n",
    "\n",
    "#Result\n",
    "print \"atomic mass is\",round(Am,5),\"amu\""
   ]
  }
 ],
 "metadata": {
  "kernelspec": {
   "display_name": "Python 2",
   "language": "python",
   "name": "python2"
  },
  "language_info": {
   "codemirror_mode": {
    "name": "ipython",
    "version": 2
   },
   "file_extension": ".py",
   "mimetype": "text/x-python",
   "name": "python",
   "nbconvert_exporter": "python",
   "pygments_lexer": "ipython2",
   "version": "2.7.11"
  }
 },
 "nbformat": 4,
 "nbformat_minor": 0
}
