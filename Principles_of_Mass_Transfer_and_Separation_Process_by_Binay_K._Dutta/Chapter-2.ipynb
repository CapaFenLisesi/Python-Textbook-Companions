{
 "cells": [
  {
   "cell_type": "markdown",
   "metadata": {},
   "source": [
    "# Chapter 2 : Molecular Diffusion"
   ]
  },
  {
   "cell_type": "markdown",
   "metadata": {},
   "source": [
    "## Example 2.1 pgno:10"
   ]
  },
  {
   "cell_type": "code",
   "execution_count": 1,
   "metadata": {
    "collapsed": false
   },
   "outputs": [
    {
     "name": "stdout",
     "output_type": "stream",
     "text": [
      "Molar average velocity of gas mixture is: 0.0303 m/s\n",
      "Mass average velocity of gas mixture is: 0.029 m/s\n"
     ]
    }
   ],
   "source": [
    "#Calculation of average velocities\n",
    "\n",
    "N2 = 0.05   #mole fraction of Nitrogen denoted as 1\n",
    "H2 = 0.15   #mole fraction of Hydrogen denoted as 2\n",
    "NH3 = 0.76  #mole fraction of Ammonia denoted as 3\n",
    "Ar = 0.04   #mole fraction of Argon denoted as 4\n",
    "u1 = 0.03\n",
    "u2 = 0.035\n",
    "u3 = 0.03\n",
    "u4 = 0.02\n",
    "#Calculating molar average velocity\n",
    "U = N2*u1 + H2*u2 + NH3*u3 + Ar*u4\n",
    "print 'Molar average velocity of gas mixture is: %.4f m/s'%U\n",
    "#Calculating of mass average velocity\n",
    "M1 = 28\n",
    "M2 = 2\n",
    "M3 = 17\n",
    "M4 = 40\n",
    "M = N2*M1 + H2*M2 + NH3*M3 + Ar*M4\n",
    "u = (1/M)*(N2*M1*u1 + H2*M2*u2 + NH3*M3*u3 + Ar*M4*u4)\n",
    "print 'Mass average velocity of gas mixture is: %.3f m/s'%u"
   ]
  },
  {
   "cell_type": "markdown",
   "metadata": {},
   "source": [
    "## Example 2.2 pgno:16"
   ]
  },
  {
   "cell_type": "code",
   "execution_count": 2,
   "metadata": {
    "collapsed": false,
    "scrolled": false
   },
   "outputs": [
    {
     "name": "stdout",
     "output_type": "stream",
     "text": [
      "(a) Time for complete evaporation is: 15.93 hours\n",
      "(b) Time for disappearance of water is: 8.87 hours\n"
     ]
    }
   ],
   "source": [
    "#Diffusion of A through non-diffusing B\n",
    "\n",
    "from math import log\n",
    "from math import exp\n",
    "import numpy as np\n",
    "\n",
    "#Calcualtion for (a) part\n",
    "#calculating vapor pressure of water at 301K\n",
    "pv = exp(13.8573 - (5160.2/301))   #in bar\n",
    "#wet-bulb temperature is 22.5 degree centigrade\n",
    "#calculating mean air-film temperature\n",
    "Tm = ((28+22.5)/2)+273  #in kelvin\n",
    "#calculating diffusion coefficient\n",
    "Dab = ((0.853*(30.48**2))*((298.2/273)**1.75))/(3600*10000)   #in m^2/s\n",
    "l = 2.5e-3     #in m\n",
    "P = 1.013      #in bar\n",
    "R = 0.08317    #Gas constant\n",
    "pAo = exp(13.8573 - (5160.2/295.2))    #vapor pressure of water at the wet-bulb temperature, 22.2C\n",
    "pAl = 0.6*round(pv,4)\n",
    "Na = (((round(Dab,7)*P)/(R*298.2*l))*log((P-pAl)/(P-round(pAo,3))))*18     #in kg/m^2s\n",
    "#amount of water per m^2 of floor area is\n",
    "thickness = 2e-3\n",
    "Amount = thickness*1    #in m^3 \n",
    "#density of water is 1000kg/m^3\n",
    "#therefore in kg it is\n",
    "amount = Amount*1000\n",
    "Time_for_completion = amount/Na   #in seconds\n",
    "Time_for_completion_hours = Time_for_completion/3600\n",
    "print '(a) Time for complete evaporation is: %.2f'%Time_for_completion_hours,'hours'\n",
    "\n",
    "#Calculation for (b) part\n",
    "water_loss = 0.1   #in kg/m^2.h\n",
    "water_loss_by_evaporation = Na*3600\n",
    "total_water_loss = water_loss + water_loss_by_evaporation\n",
    "time_for_disappearance = amount/total_water_loss\n",
    "print '(b) Time for disappearance of water is: %0.2f'%time_for_disappearance,'hours'\n",
    "#Answers may vary due to round off error"
   ]
  },
  {
   "cell_type": "markdown",
   "metadata": {},
   "source": [
    "## Example 2.3 pgno:17"
   ]
  },
  {
   "cell_type": "code",
   "execution_count": 4,
   "metadata": {
    "collapsed": false
   },
   "outputs": [
    {
     "name": "stdout",
     "output_type": "stream",
     "text": [
      "(a) The molar flux of Ammonia is:1.922E-05 gmol/cm^2.s\n",
      "(b) and (c)\n",
      "Velocity of A is 0.522 cm/s\n",
      "Velocity of B is 0.000 cm/s\n",
      "Mass average velocity of A is 0.439 cm/s\n",
      "Molar average velocity of A is 0.47 cm/s\n",
      "(d) Molar flux of NH3 is 3.062E-06 gmol/cm^2.s\n"
     ]
    },
    {
     "data": {
      "text/plain": [
       "<matplotlib.text.Text at 0x7fe6978>"
      ]
     },
     "execution_count": 4,
     "metadata": {},
     "output_type": "execute_result"
    },
    {
     "data": {
      "image/png": "[encoded data removed]",
      "text/plain": [
       "<matplotlib.figure.Figure at 0x6e11668>"
      ]
     },
     "metadata": {},
     "output_type": "display_data"
    }
   ],
   "source": [
    "#Calculation of flux and velocity\n",
    "\n",
    "%matplotlib inline\n",
    "from math import log\n",
    "from math import exp\n",
    "import numpy as np\n",
    "from matplotlib import pyplot as plt\n",
    "#calculation for (a) part\n",
    "l = 1         #thickness of air in cm\n",
    "pAo = 0.9     #in atm\n",
    "pAl = 0.1     #in atm\n",
    "Dab = 0.214   #in cm^2/s\n",
    "T = 298       #in K\n",
    "P = 1         #in atm\n",
    "R = 82.1      #in (cm^3)(atm)/(K)(gmol)\n",
    "#calculating molar flux of ammonia\n",
    "Na = ((Dab*P)/(R*T*l))*log((P-pAl)/(P-pAo))\n",
    "print '(a) The molar flux of Ammonia is:%0.3E'%Na,'gmol/cm^2.s'\n",
    "\n",
    "#calculation for (b) and (c) part\n",
    "Nb = 0        #air is non-diffusing\n",
    "U = (Na/(P/(R*T)))     #molar average velocity\n",
    "yA = pAo/P\n",
    "yB = pAl/P\n",
    "uA = U/yA           #\n",
    "uB = 0              #since Nb=0\n",
    "Ma = 17\n",
    "Mb = 29\n",
    "M = Ma*yA + Mb*yB\n",
    "u = uA*yA*Ma/M      #since u =(uA*phoA + uB*phoB)/pho\n",
    "print '(b) and (c)'\n",
    "print 'Velocity of A is %0.3f'%uA,'cm/s'\n",
    "print 'Velocity of B is %0.3f'%uB,'cm/s'\n",
    "print 'Mass average velocity of A is %0.3f'%u,'cm/s'\n",
    "print 'Molar average velocity of A is %0.2f'%U,'cm/s'\n",
    "\n",
    "#calculation for (d) part\n",
    "Ca = pAo/(R*T)\n",
    "Ia = Ca*(uA - u)      #molar flux of NH3 relative to an observer moving\n",
    "                      #with the mass average velocity \n",
    "print '(d) Molar flux of NH3 is %0.3E'%Ia,'gmol/cm^2.s'\n",
    "\n",
    "z = []\n",
    "pa =[]\n",
    "for i in np.arange(0,1,0.01):\n",
    "    z.append(i)\n",
    "    \n",
    "for i in range(0,len(z)):\n",
    "    pa.append(1-(0.1*exp(2.197*z[i])))\n",
    "    \n",
    "from matplotlib.pyplot import plot\n",
    "plot(z,pa);\n",
    "plt.xlabel('z(cm)');\n",
    "plt.ylabel('pA(atm)');\n",
    "plt.title('Partial pressure distribution of A for diffusion of A through non-diffusing B \\n',fontsize=14);\n",
    "#Answers may vary due to round off error"
   ]
  },
  {
   "cell_type": "markdown",
   "metadata": {
    "collapsed": true
   },
   "source": [
    "## Example 2.4 pgno:19"
   ]
  },
  {
   "cell_type": "code",
   "execution_count": 5,
   "metadata": {
    "collapsed": false
   },
   "outputs": [
    {
     "name": "stdout",
     "output_type": "stream",
     "text": [
      "(a) Rate of diffusion of oxygen 7.151E-10 kmol/s\n",
      "(b) The partial pressure gradient of oxygen at midway in diffusion path is: -4.25 bar/m\n",
      "(c)\n",
      "Molar average velocity and diffusion velocities at \"midway\"\n",
      "Molar average velocity in z-direction is 9.9E-05 m/s\n",
      "The diffusion velocity of oxygen 7.9E-04 m/s\n",
      "The diffusion velocity of Nitrogen -9.9E-05 m/s\n",
      "Molar average velocity and diffusion velocities at \"top of tube\"\n",
      "Molar average velocity in z-direction is 9.9E-05 m/s\n",
      "The diffusion velocity of oxygen 3.72E-04 m/s\n",
      "The diffusion velocity of Nitrogen -9.9E-05 m/s\n",
      "Molar average velocity and diffusion velocities at \"bottom of tube\"\n",
      "Molar average velocity in z-direction is 9.9E-05 m/s\n",
      "The diffusion velocity of oxygen is not infinity\n",
      "The diffusion velocity of Nitrogen -9.9E-05 m/s\n",
      "(d)\n",
      "New molar flux of (A) 4.95E-06 kmol/m^2.s\n",
      "New molar flux of (B) 7.19E-06 kmol/m^2.s\n"
     ]
    },
    {
     "data": {
      "image/png": "[encoded data removed]",
      "text/plain": [
       "<matplotlib.figure.Figure at 0x6f684e0>"
      ]
     },
     "metadata": {},
     "output_type": "display_data"
    }
   ],
   "source": [
    "#Flux, velocity and pressure gradient\n",
    "\n",
    "#calculation of (a) part\n",
    "#given data\n",
    "from math import log\n",
    "from math import pi\n",
    "from math import exp\n",
    "import numpy as np\n",
    "from matplotlib import pyplot as plt\n",
    "T = 298              #in kelvin\n",
    "P = 1.013            #in bar\n",
    "pAl = 0              #partial pressure of oxygen(A) at liquid surface\n",
    "pAo = 0.21*1.013     #partial pressure of oxygen at open mouth\n",
    "l = 0.05             #length of diffusion path in m\n",
    "Dab = 2.1e-5         #diffusivity in m^2/s\n",
    "R = 0.08317          #in m^3.bar.kmol.K\n",
    "Na = Dab*P*log((P-pAl)/(P-pAo))/(R*T*l)       #in kmol/m^2.s\n",
    "area = (pi/4)*(0.015)**2\n",
    "rate = area*Na\n",
    "print '(a) Rate of diffusion of oxygen %0.3E'%rate,'kmol/s'\n",
    "z = []\n",
    "pa =[]\n",
    "for i in np.arange(0,1,0.01):\n",
    "    z.append(i)\n",
    "    \n",
    "for i in range(0,len(z)):\n",
    "    pa.append(P-(P-pAo)*exp((R*T*Na*z[i])/(Dab*P)))\n",
    "    \n",
    "from matplotlib.pyplot import plot\n",
    "plt.plot(z,pa);\n",
    "plt.xlabel('z(cm)');\n",
    "plt.ylabel('pA(atm)');\n",
    "plt.title('Partial pressure distribution of A along the diffusion path \\n',fontsize=14);\n",
    "\n",
    "#calculation of (b) part\n",
    "z = 0.025           #diffusion path\n",
    "pA = 0.113          #in bar\n",
    "#we have to find partial pressure gradient of oxygen at mid way of diffusion path\n",
    "#let dpA/dz = ppd\n",
    "ppd = -(R*T*round(Na,8)*(P-pA))/(Dab*P)\n",
    "print '(b) The partial pressure gradient of oxygen at midway in diffusion path is: %0.2f'%ppd,'bar/m'\n",
    "\n",
    "#calculation of (c) part\n",
    "uA = Na*(R*T/pA)     #velocity of oxygen\n",
    "uB = 0               #since nitrogen is non-diffusing hence Nb = 0\n",
    "U = pA*uA/P          #since U=1/C*(uA*Ca + uB*Cb)\n",
    "vAd = uA - U         #diffusion velocity of oxygen\n",
    "vBd = uB - U         #diffusion velocity of nitrogen\n",
    "print '(c)'\n",
    "print 'Molar average velocity and diffusion velocities at \"midway\"'\n",
    "print 'Molar average velocity in z-direction is %0.1E'%U,'m/s'\n",
    "print 'The diffusion velocity of oxygen %0.1E'%vAd,'m/s'\n",
    "print 'The diffusion velocity of Nitrogen %0.1E'%vBd,'m/s'\n",
    "#at z=0(at top of tube)\n",
    "uA = Na*(R*T/pAo)\n",
    "uB = 0\n",
    "U = pAo*uA/P\n",
    "vAd = uA - U\n",
    "vBd = uB - U\n",
    "print 'Molar average velocity and diffusion velocities at \"top of tube\"'\n",
    "print 'Molar average velocity in z-direction is %0.1E'%U,'m/s'\n",
    "print 'The diffusion velocity of oxygen %0.2E'%vAd,'m/s'\n",
    "print 'The diffusion velocity of Nitrogen %0.1E'%vBd,'m/s'\n",
    "#at z=0.05(at bottom of tube)\n",
    "#uA = inf\n",
    "uB = 0\n",
    "U = pAo*uA/P\n",
    "vAd = uA - U\n",
    "vBd = uB - U\n",
    "print 'Molar average velocity and diffusion velocities at \"bottom of tube\"'\n",
    "print 'Molar average velocity in z-direction is %0.1E'%U,'m/s'\n",
    "print 'The diffusion velocity of oxygen is not infinity'\n",
    "print 'The diffusion velocity of Nitrogen %0.1E'%vBd,'m/s'\n",
    "\n",
    "#calculation of (d) part\n",
    "V = -2*U\n",
    "pA = 0.113\n",
    "Nad = round(Na,8) - V*(pA/(R*T))\n",
    "Nbd = 0 - (P - pA)*V/(R*T)\n",
    "print '(d)'\n",
    "print 'New molar flux of (A) %0.2E'%Nad,'kmol/m^2.s'\n",
    "print 'New molar flux of (B) %0.2E'%Nbd,'kmol/m^2.s'\n",
    "#Answers may vary due to round off errors"
   ]
  },
  {
   "cell_type": "markdown",
   "metadata": {},
   "source": [
    "## Example 2.5 pgno:21"
   ]
  },
  {
   "cell_type": "code",
   "execution_count": 5,
   "metadata": {
    "collapsed": false
   },
   "outputs": [
    {
     "name": "stdout",
     "output_type": "stream",
     "text": [
      "(a) The air-film thickness is :0.00193 m\n"
     ]
    }
   ],
   "source": [
    "#Diffusion with changing bulk concentration\n",
    "\n",
    "from math import log\n",
    "#given data\n",
    "area = 3*4           #in m^2\n",
    "mperarea = 3.0/12    #in kg/m^2\n",
    "#part (a)\n",
    "P = 1.013            #in bar\n",
    "Dab = 9.95e-6        #in m^2/s\n",
    "R = 0.08317          #in m^3.bar./K.kmol\n",
    "T = 273+27           #in K\n",
    "#let d=1\n",
    "d = 1                #in m\n",
    "pAo = 0.065          #partial pressure of alcohol on liquid surface\n",
    "pAd = 0              #partial pressure over d length of stagnant film of air\n",
    "Na = (Dab*P*log((P-pAd)/(P-pAo)))/(R*T*d)     #in kmol/m^2.s\n",
    "Na = Na*60           #in kg/m^2.s\n",
    "flux = mperarea/(5*60)   #since the liquid evaporates completely in 5 minutes\n",
    "#now we have to find the value of d\n",
    "d = Na/flux\n",
    "print '(a) The air-film thickness is :%0.5f'%d,'m'"
   ]
  },
  {
   "cell_type": "markdown",
   "metadata": {},
   "source": [
    "## Example 2.6 pgno:24"
   ]
  },
  {
   "cell_type": "code",
   "execution_count": 6,
   "metadata": {
    "collapsed": false
   },
   "outputs": [
    {
     "name": "stdout",
     "output_type": "stream",
     "text": [
      "(a)\n",
      "The steady-state flux is: 3.35E-06 kmol/m^2.s\n",
      "The rate of transport of N2 from vessel 1 to 2: 6.6E-09 kmol/s\n",
      "(b)\n",
      "The flux and the rate of transport of oxygen is: -3.35E-06 kmol/m^2.s\n",
      "(c)\n",
      "Partial pressure at a point 0.05m from vessel 1 is: 1.2 atm\n",
      "(d)\n",
      "Net or total mass flux: -1.340E-05 kmol/m^2.s\n"
     ]
    }
   ],
   "source": [
    "#Equimolar counterdiffusion\n",
    "\n",
    "from math import pi\n",
    "#given data\n",
    "#part (a)\n",
    "Dab = 0.23e-4*0.5*(293.0/316)**1.75     #in m^2/s\n",
    "pA1 = 2*0.8           #in atm\n",
    "pA2 = 2*0.2           #in atm\n",
    "l = 0.15              #in m\n",
    "R = 0.0821            #in m^3.atm./K.kmol\n",
    "T = 293               #in K\n",
    "Ma = 28\n",
    "Mb = 32\n",
    "Na = Dab*(pA1-pA2)/(R*T*l)   #in kmol/m^2.s\n",
    "area = pi/4*(0.05)**2     #in m^2\n",
    "rate = area*Na\n",
    "print '(a)'\n",
    "print 'The steady-state flux is: %0.2E'%Na,'kmol/m^2.s'\n",
    "print 'The rate of transport of N2 from vessel 1 to 2: %0.1E'%rate,'kmol/s'\n",
    "\n",
    "#part (b)\n",
    "Nb = -Na\n",
    "print '(b)'\n",
    "print 'The flux and the rate of transport of oxygen is: %0.2E'%Nb,'kmol/m^2.s'\n",
    "\n",
    "#part (c)\n",
    "#let dpA/dz = ppg\n",
    "dz = 0.05               #in m\n",
    "ppg = (pA2 - pA1)/l     #in atm/m\n",
    "pA = pA1 + (ppg)*dz     #in atm\n",
    "print '(c)'\n",
    "print 'Partial pressure at a point 0.05m from vessel 1 is: %0.1f'%pA,'atm'\n",
    "\n",
    "#part (d)\n",
    "nt = Ma*Na + Mb*Nb\n",
    "print '(d)'\n",
    "print 'Net or total mass flux: %0.3E'%nt,'kmol/m^2.s'\n",
    "#Answers may vary due to round off errors"
   ]
  },
  {
   "cell_type": "markdown",
   "metadata": {},
   "source": [
    "## Example 2.7 pgno:25"
   ]
  },
  {
   "cell_type": "code",
   "execution_count": 7,
   "metadata": {
    "collapsed": false
   },
   "outputs": [
    {
     "name": "stdout",
     "output_type": "stream",
     "text": [
      "Methanol flux: 4.64e-05 kmol/m^2.s\n",
      "Water flux: -4.06e-05 kmol/m^2.s\n"
     ]
    }
   ],
   "source": [
    "#Non-equimolar counterdiffusion in distillation of a binary mixture\n",
    "\n",
    "from math import log\n",
    "#given data\n",
    "Ha = 274.6*32     #molar latent heat of methanol(a)\n",
    "Hb = 557.7*18     #molar latent heat of water(b)\n",
    "yAl = 0.76        #mole fraction of methanol in the vapour\n",
    "yAo = 0.825       #mole fraction of methanol in the vapour at the liquid-vapour interface\n",
    "P = 1             #in atm\n",
    "l = 1e-3          #in m\n",
    "T =344.2          #in K\n",
    "R = 0.0821        #m^3.atm./K.kmol\n",
    "Dab = 1.816e-5    #in m^2/s\n",
    "Na = Dab*P*log((1-0.1247*yAl)/(1-0.1247*yAo))/(0.1247*R*T*l)\n",
    "print 'Methanol flux: %0.2e'%Na,'kmol/m^2.s'\n",
    "Nb = -(Ha/Hb)*Na\n",
    "print 'Water flux: %0.2e'%Nb,'kmol/m^2.s'\n",
    "#Answers may vary due to round off errors"
   ]
  },
  {
   "cell_type": "markdown",
   "metadata": {},
   "source": [
    "## Example 2.8 pgno:27"
   ]
  },
  {
   "cell_type": "code",
   "execution_count": 8,
   "metadata": {
    "collapsed": false
   },
   "outputs": [
    {
     "name": "stdout",
     "output_type": "stream",
     "text": [
      "Value of pA1 is 0.937 atm\n"
     ]
    }
   ],
   "source": [
    "#Equimolar counterdiffusion in an interconnected system\n",
    "\n",
    "#given values\n",
    "from math import exp\n",
    "V1 = 3000      #in cm^3\n",
    "V2 = 4000      #in cm^3\n",
    "Dab = 0.23     #in cm^2/s\n",
    "Dba = 0.23     #in cm^2/s\n",
    "l1 = 4         #in cm\n",
    "d1 = 0.5       #in cm\n",
    "l2 = 2         #in cm\n",
    "d2 = 0.3       #in cm\n",
    "pA3 = 1        #in atm\n",
    "#unknowns\n",
    "# pA1   and   pA2\n",
    "# dpA1bydt = (Dab/V1*l1)*((pA1)-(pA2))*((math.pi*(d1**2))/4)\n",
    "#on integrating using Laplace trandformation\n",
    "# initial conditions\n",
    "t=18000       #in seconds\n",
    "pA1 = 1-0.57*(exp((-1.005)*(10**(-6))*t)-exp((-7.615)*(10**(-6))*t))\n",
    "print 'Value of pA1 is %0.3f'%pA1,'atm'"
   ]
  },
  {
   "cell_type": "markdown",
   "metadata": {
    "collapsed": true
   },
   "source": [
    "## Example 2.10 pgno:34"
   ]
  },
  {
   "cell_type": "code",
   "execution_count": 9,
   "metadata": {
    "collapsed": false
   },
   "outputs": [
    {
     "name": "stdout",
     "output_type": "stream",
     "text": [
      "Value of flux of water vapour: 2.96E-05 kmol/m^2.s\n"
     ]
    }
   ],
   "source": [
    "#Diffusion of only one component in a three-component mixture\n",
    "\n",
    "#given values\n",
    "from math import log\n",
    "y1l = 0           #mol fraction of dry air\n",
    "y10 = (17.53/760) #mol fraction of water\n",
    "l = 1.5           #in mm\n",
    "C = 0.0409        #in kmol/m^3 : calculated by P/RT\n",
    "D12 = 0.923       #Diffusivity of hydrogen over water\n",
    "D13 = 0.267       #Diffusivity of oxygen over water\n",
    "y2 = 0.6          #mole fraction of hydrogen\n",
    "y3 = 0.4          #mole fraction of oxygen\n",
    "D1m = 1/((y2/D12)+(y3/D13))       #calculating mean diffusivity\n",
    "Ni = (D1m*C*1000/(l*10000))*log((1-y1l)/(1-y10))\n",
    "print 'Value of flux of water vapour: %0.2E'%Ni,'kmol/m^2.s'"
   ]
  },
  {
   "cell_type": "markdown",
   "metadata": {},
   "source": [
    "## Example 2.11 pgno:35"
   ]
  },
  {
   "cell_type": "code",
   "execution_count": 10,
   "metadata": {
    "collapsed": false
   },
   "outputs": [
    {
     "name": "stdout",
     "output_type": "stream",
     "text": [
      "Flux of ethane 4.804E-05 gmol/cm^2.s\n"
     ]
    }
   ],
   "source": [
    "#Multicomponent diffusion\n",
    "\n",
    "from math import log\n",
    "#given data\n",
    "y1 = 0.4          #mole fraction of ethane(1)\n",
    "y2 = 0.3          #mole fraction of ethylene(2)\n",
    "y3 = 0.3          #mole fraction of hydrogen(3)\n",
    "#calculating D13\n",
    "#The Lennard-Jones parameters are\n",
    "sigma1 = 4.443    #in angstrom\n",
    "sigma2 = 4.163    #in angstrom\n",
    "sigma3 = 2.827    #in angstrom\n",
    "e1byk = 215.7\n",
    "e2byk = 224.7\n",
    "e3byk = 59.7\n",
    "sigma13 = (sigma1 + sigma3)/2     #in angstrom\n",
    "e13byk = (e1byk*e3byk)**0.5\n",
    "kTbye13 = 993/113.5\n",
    "ohmD13 = 0.76      #from collision integral table\n",
    "D13 = ((0.001858)*(993**1.5)*((1.0/30)+(1.0/2))**0.5)/((2)*(sigma13**2)*(ohmD13))\n",
    "#calculating D23\n",
    "sigma23 = (sigma2+sigma3)/2\n",
    "kTbye23 = ((993/224.7)*(993/59.7))*0.5\n",
    "ohmD23 = 0.762\n",
    "D23 = (0.001858*(993**1.5)*((1.0/28)+(1.0/2))**0.5)/(2*(sigma23**2)*ohmD23)\n",
    "D = (D13+D23)/2   #in cm^2/s\n",
    "l = 0.15          #in cm\n",
    "#at z=0 (bulk gas)\n",
    "y10 = 0.6\n",
    "y20 = 0.2\n",
    "y30 = 0.2\n",
    "#at z=l (catalyst surface)\n",
    "y1l = 0.4\n",
    "y2l = 0.3\n",
    "y3l = 0.3\n",
    "C = 2.0/(82.1*993)   #calculated by P/RT\n",
    "N1 = (D*C/l)*log((y10+y20)/(y1l+y2l))\n",
    "print 'Flux of ethane %0.3E'%N1,'gmol/cm^2.s'"
   ]
  },
  {
   "cell_type": "markdown",
   "metadata": {},
   "source": [
    "## Example 2.12  pgno:43"
   ]
  },
  {
   "cell_type": "code",
   "execution_count": 11,
   "metadata": {
    "collapsed": false
   },
   "outputs": [
    {
     "name": "stdout",
     "output_type": "stream",
     "text": [
      "The liquid-film thickness is:  0.0004 m\n"
     ]
    }
   ],
   "source": [
    "#Liquid-phase diffusion\n",
    "\n",
    "#given data\n",
    "from math import pi\n",
    "rc = 5e-4        #in m\n",
    "D = 7e-10        #in m^2/s\n",
    "Cab = 1          #in kmol/m^3\n",
    "Na = 3.15e-6     #in kmol/m^2.s\n",
    "W = 4*pi*(rc**2)*Na    #the rate of reaction\n",
    "#let (rc+delta)/delta = 1\n",
    "w1 = 4*pi*D*Cab*rc*1   #flux of the reactant to the surface of the catalyst\n",
    "rcplusdelta = W/w1\n",
    "delta = rc/(rcplusdelta-1)      #stagnant liquid-film thickness \n",
    "print 'The liquid-film thickness is: ',delta,'m'"
   ]
  },
  {
   "cell_type": "markdown",
   "metadata": {},
   "source": [
    "## Example 2.13 pgno:46"
   ]
  },
  {
   "cell_type": "code",
   "execution_count": 12,
   "metadata": {
    "collapsed": false
   },
   "outputs": [
    {
     "name": "stdout",
     "output_type": "stream",
     "text": [
      "Tortuosity factor is:  2.5\n"
     ]
    }
   ],
   "source": [
    "#Diffusivity determination--diaphragm cell\n",
    "\n",
    "#given data\n",
    "from math import log\n",
    "from math import pi\n",
    "V1 = 60.2        #in cm^3; volume of compartment 1\n",
    "V2 = 59.3        #volume of compartment 2 in cm^3\n",
    "Ca1i = 0.3       #initial concentration of KCl in compartment 1\n",
    "Ca2i = 0         #initial concentration of KCl in compartment 2\n",
    "Ca1f = 0.215     #final concentration of KCl in compartment 1\n",
    "Ca2f = 0.0863    #final concentration of KCl in compartment 2\n",
    "D = 1.51e-5      #diffusivity of KCl in cm^2/s\n",
    "tf = 55.2*3600   #time of the experiment in s\n",
    "#calcutaling cell constant\n",
    "beta = (1/(D*tf))*log((Ca1i - Ca2i)/(Ca1f - Ca2f))\n",
    "#diffusion of propionic acid\n",
    "Cpa1i = 0.4      #initial concentration of propionic acid in compartment 1\n",
    "Cpa2i = 0        #initial concentration of propionic acid in compartment 2\n",
    "Cpa1f = 0.32     #final concentration of propionic acid in compartment 1\n",
    "Cpa2f = 0.0812   #final concentration of propionic acid in compartment 2 by mass balance\n",
    "tfp = 56.4*3600  #time for the experiment\n",
    "Dp = (1/(beta*tfp))*log((Cpa1i-Cpa2i)/(Cpa1f-Cpa2f))   #diffusivity of the propionic acid\n",
    "#calculating tortusity factor\n",
    "A= (pi/4)*(3.5**2)     #area of the diaphragm\n",
    "epsilon = 0.39    #average porosity of the diaphragm\n",
    "l = 0.18         #thickness of hte diaphragm\n",
    "tou = (A*epsilon/(beta*l))*(1/V1 + 1/V2)\n",
    "print 'Tortuosity factor is: ',round(tou,1)"
   ]
  }
 ],
 "metadata": {
  "kernelspec": {
   "display_name": "Python 2",
   "language": "python",
   "name": "python2"
  },
  "language_info": {
   "codemirror_mode": {
    "name": "ipython",
    "version": 2
   },
   "file_extension": ".py",
   "mimetype": "text/x-python",
   "name": "python",
   "nbconvert_exporter": "python",
   "pygments_lexer": "ipython2",
   "version": "2.7.11"
  }
 },
 "nbformat": 4,
 "nbformat_minor": 0
}
