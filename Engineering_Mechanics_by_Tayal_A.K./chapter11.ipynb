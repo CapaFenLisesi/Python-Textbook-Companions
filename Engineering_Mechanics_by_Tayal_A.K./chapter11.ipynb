{
 "metadata": {
  "name": "chapter11.ipynb"
 },
 "nbformat": 3,
 "nbformat_minor": 0,
 "worksheets": [
  {
   "cells": [
    {
     "cell_type": "heading",
     "level": 1,
     "metadata": {},
     "source": [
      "Chapter 11:Graphical Analysis:Coplanar Forces and Trusses"
     ]
    }
   ],
   "metadata": {}
  }
 ]
}