{
 "metadata": {
  "name": "",
  "signature": "sha256:a712c503532bf01630566d0248f8b9fe4ae07a136310d2bc72cf3a40e429d9f4"
 },
 "nbformat": 3,
 "nbformat_minor": 0,
 "worksheets": [
  {
   "cells": [
    {
     "cell_type": "heading",
     "level": 1,
     "metadata": {},
     "source": [
      "Chapter 6: Semiconductor Physics"
     ]
    },
    {
     "cell_type": "heading",
     "level": 2,
     "metadata": {},
     "source": [
      "Example 6.1,Page number 190"
     ]
    },
    {
     "cell_type": "code",
     "collapsed": false,
     "input": [
      "import math\n",
      "\n",
      "#Given Data\n",
      "S = [[1,2],[3,4],[5,6],[7,8]];      # Declare a 4X2 matrix\n",
      "# Enter material names\n",
      "S[0][0] = 'Si'; S[1][0] = 'GaAs'; S[2][0] = 'GaP'; S[3][0] = 'ZnS';\n",
      "# Enter energy band gap values\n",
      "S[0][1] = 1.11; S[1][1] = 1.42; S[2][1] = 2.26; S[3][1] = 3.60;\n",
      "h = 6.626*10**-34;   # Planck's constant, Js\n",
      "c = 3*10**8;         # Speed of light, m/s\n",
      "e = 1.6*10**-19;     # Energy equivalent of 1 eV, J/eV\n",
      "print\"______________________________________________________\";\n",
      "print\"Material      E_g (eV)    Critical Wavelength (micron)\";\n",
      "print\"______________________________________________________\";\n",
      "for i in range (0,4) :\n",
      "    lamda = h*c/(S[i][1]*e);\n",
      "    print\"\", S[i][0],\"        \", S[i][1],\"           \",round(lamda/10**-6,3);\n",
      "\n",
      "print\"______________________________________________________\";\n"
     ],
     "language": "python",
     "metadata": {},
     "outputs": [
      {
       "output_type": "stream",
       "stream": "stdout",
       "text": [
        "______________________________________________________\n",
        "Material      E_g (eV)    Critical Wavelength (micron)\n",
        "______________________________________________________\n",
        " Si          1.11             1.119\n",
        " GaAs          1.42             0.875\n",
        " GaP          2.26             0.55\n",
        " ZnS          3.6             0.345\n",
        "______________________________________________________\n"
       ]
      }
     ],
     "prompt_number": 9
    },
    {
     "cell_type": "heading",
     "level": 2,
     "metadata": {},
     "source": [
      "Example 6.2,Page number 192"
     ]
    },
    {
     "cell_type": "code",
     "collapsed": false,
     "input": [
      "import math\n",
      "\n",
      "#Given Data\n",
      "c = 3*10**8;      # Speed of light, m/s\n",
      "h = 6.626*10**-34;     # Planck's constant, Js\n",
      "e = 1.6*10**-19;   # Energy equivalent of 1 eV, J/eV\n",
      "omega = 2e+014;      # Wave vector involved in phonon energy, rad per sec\n",
      "f = omega/(2*pi);   # Frequency of the wave, Hz \n",
      "E = h*f/e;        # Phonon energy involved in Si to lift the electron, eV\n",
      "print\"The phonon energy involved in Si =\",round(E,4),\"eV which is insufficient to lift an electron.\";\n"
     ],
     "language": "python",
     "metadata": {},
     "outputs": [
      {
       "output_type": "stream",
       "stream": "stdout",
       "text": [
        "The phonon energy involved in Si = 0.1318 eV which is insufficient to lift an electron.\n"
       ]
      }
     ],
     "prompt_number": 1
    },
    {
     "cell_type": "heading",
     "level": 2,
     "metadata": {},
     "source": [
      "Example 6.3,Page number 192"
     ]
    },
    {
     "cell_type": "code",
     "collapsed": false,
     "input": [
      "import math\n",
      "\n",
      "#Given Data\n",
      "N_A = 6.023*10**23;   # Avogadro's number\n",
      "# For Si\n",
      "A = 28.1;   # Atomic weight of Si, g/mol\n",
      "a = 5.43*10**-8;   # Lattice constant for Si, cm\n",
      "n = 8.0/a**3;  # Number of atoms per unit volume, atoms/cc\n",
      "rho = n*A/N_A;  # Density of Si, g/cc\n",
      "print\"The density of Si =\",round(rho,3),\"atoms per cc\";\n",
      "# For GaAs\n",
      "A = 69.7+74.9;   # Atomic weight of GaAs, g/mol\n",
      "a = 5.65*10**-8;   # Lattice constant for Si, cm\n",
      "n = 4.0/a**3;  # Number of atoms per unit volume, atoms/cc\n",
      "rho = n*A/N_A;  # Density of GaAs, g/cc\n",
      "print\"The density of GaAs =\",round(rho,3),\"toms per cc\";\n"
     ],
     "language": "python",
     "metadata": {},
     "outputs": [
      {
       "output_type": "stream",
       "stream": "stdout",
       "text": [
        "The density of Si = 2.331 atoms per cc\n",
        "The density of GaAs = 5.324 toms per cc\n"
       ]
      }
     ],
     "prompt_number": 4
    },
    {
     "cell_type": "heading",
     "level": 2,
     "metadata": {},
     "source": [
      "Example 6.4,Page number 196"
     ]
    },
    {
     "cell_type": "code",
     "collapsed": false,
     "input": [
      "import math\n",
      "\n",
      "#Given Data\n",
      "m = 9.11*10**-31;  # Electron Rest Mass , kg\n",
      "k = 1.38*10**-23;  # Boltzmann constant, J/mol/K\n",
      "h = 6.626*10**-34; # Planck's constant, Js\n",
      "T = 300.0;        # Room temperature, K\n",
      "m_e = 0.068*m;    # Mass of electron, kg\n",
      "m_h = 0.56*m;   # Mass of hole, kg\n",
      "E_g = 1.42*1.6*10**-19;     # Energy band gap for GaAs, J\n",
      "n_i = 2*(2*pi*k*T/h**2)**(3.0/2)*(m_e*m_h)**(3.0/4)*exp(-E_g/(2*k*T));\n",
      "print\"The Intrinsic carrier concentration of GaAs at 300 K =\",\"{0:.3e}\".format(n_i),\"per metre cube\";\n"
     ],
     "language": "python",
     "metadata": {},
     "outputs": [
      {
       "output_type": "stream",
       "stream": "stdout",
       "text": [
        "The Intrinsic carrier concentration of GaAs at 300 K = 2.618e+12 per metre cube\n"
       ]
      }
     ],
     "prompt_number": 6
    },
    {
     "cell_type": "heading",
     "level": 2,
     "metadata": {},
     "source": [
      "Example 6.5,Page number 197"
     ]
    },
    {
     "cell_type": "code",
     "collapsed": false,
     "input": [
      "import math\n",
      "\n",
      "#Given Data\n",
      "m = 9.11*10**-31;  # Electron Rest Mass , kg\n",
      "e = 1.6*10**-19;   # Energy equivalent of 1 eV, J/eV\n",
      "k = 1.38*10**-23;  # Boltzmann constant, J/mol/K\n",
      "T = 300.0;        # Room temperature, K\n",
      "m_e = 1.1*m;    # Mass of electron, kg\n",
      "m_h = 0.56*m;   # Mass of hole, kg\n",
      "E_g = 1.1;     # Energy band gap for GaAs, J\n",
      "E_F = E_g/2+3.0/4*k*T/e*log(m_h/m_e);   # Position of Fermi level of Si at room temperature, eV\n",
      "print\"The position of Fermi level of Si at room temperature =\",round(E_F,3),\"eV\";\n",
      "print\"The fermi level in this case is shifted downward from the midpoint (0.55 eV) in the forbiddem gap.\";\n"
     ],
     "language": "python",
     "metadata": {},
     "outputs": [
      {
       "output_type": "stream",
       "stream": "stdout",
       "text": [
        "The position of Fermi level of Si at room temperature = 0.537 eV\n",
        "The fermi level in this case is shifted downward from the midpoint (0.55 eV) in the forbiddem gap.\n"
       ]
      }
     ],
     "prompt_number": 9
    },
    {
     "cell_type": "heading",
     "level": 2,
     "metadata": {},
     "source": [
      "Example 6.6,Page number 197"
     ]
    },
    {
     "cell_type": "code",
     "collapsed": false,
     "input": [
      "import math\n",
      "\n",
      "#Given Data\n",
      "e = 1.6*10**-19;   # Electronic charge, C\n",
      "n_i = 2.15*10**13;    # Carrier density of Ge at room temperature, per cc\n",
      "mu_e = 3900.0;    # Mobility of electron, cm-square/V-s\n",
      "mu_h = 1900.0;    # Mobility of hole, cm-square/V-s\n",
      "sigma_i = e*(mu_e+mu_h)*n_i;    # Intrinsic conductivity of Ge, mho per m\n",
      "rho_i = 1.0/sigma_i;  # Intrinsic resistivity of Ge at room temperature, ohm-m\n",
      "print\"The intrinsic resistivity of Ge at room temperature =\",round(rho_i,2),\"ohm-cm\";\n"
     ],
     "language": "python",
     "metadata": {},
     "outputs": [
      {
       "output_type": "stream",
       "stream": "stdout",
       "text": [
        "The intrinsic resistivity of Ge at room temperature = 50.12 ohm-cm\n"
       ]
      }
     ],
     "prompt_number": 11
    },
    {
     "cell_type": "heading",
     "level": 2,
     "metadata": {},
     "source": [
      "Example 6.7,Page number 197"
     ]
    },
    {
     "cell_type": "code",
     "collapsed": false,
     "input": [
      "import math\n",
      "\n",
      "#Given Data\n",
      "m = 9.1*10**-31;   # Mass of an electron, kg\n",
      "e = 1.6*10**-19;   # Electronic charge, C\n",
      "k = 1.38*10**-23;  # Boltzmann constant, J/mol/K\n",
      "T = 30.0;    # Given temperature, K\n",
      "n = 10**22;    # Carrier density of CdS, per metre cube\n",
      "mu = 10**-2;     # Mobility of electron, metre-square/V-s\n",
      "sigma = e*mu*n;    # Conductivity of CdS, mho per m\n",
      "print\"The conductivity of CdS sample =\",round(sigma,2),\"mho per m\";\n",
      "m_eff = 0.1*m;  # Effective mass of the charge carries, kg\n",
      "t = m_eff*sigma/(n*e**2);  # Average time between successive collisions, s\n",
      "print\"The average time between successive collisions =\",\"{0:.3e}\".format(t),\"sec\";\n",
      "# We have 1/2*m_eff*v**2 = 3/2*k*T, solving for v\n",
      "v = sqrt(3*k*T/m_eff);    # Velocity of charrge carriers, m/s\n",
      "l = v*t;    # Mean free distance travelled by the carrier, m\n",
      "print\"The mean free distance travelled by the carrier =\",\"{0:.3e}\".format(l),\"m\";\n"
     ],
     "language": "python",
     "metadata": {},
     "outputs": [
      {
       "output_type": "stream",
       "stream": "stdout",
       "text": [
        "The conductivity of CdS sample = 16.0 mho per m\n",
        "The average time between successive collisions = 5.688e-15 sec\n",
        "The mean free distance travelled by the carrier = 6.644e-10 m\n"
       ]
      }
     ],
     "prompt_number": 13
    },
    {
     "cell_type": "heading",
     "level": 2,
     "metadata": {},
     "source": [
      "Example 6.8,Page number 199"
     ]
    },
    {
     "cell_type": "code",
     "collapsed": false,
     "input": [
      "import math\n",
      "\n",
      "#Given Data\n",
      "k = 1.38*10**-23;  # Boltzmann constant, J/mol/K\n",
      "e = 1.6*10**-19;   # Energy equivalent of 1 eV, J/eV\n",
      "T = [385.0, 455.0, 556.0, 714.0];      # Temperatures of Ge, K\n",
      "rho = [0.028, 0.0061, 0.0013, 0.000274];   # Electrical resistivity, ohm-m\n",
      "Tinv = [0.0, 0.0, 0.0, 0.0];    # Create an empty row matrix for 1/T\n",
      "ln_sigma = [0.0, 0.0, 0.0, 0.0];  # Create the empty row matrix for log(sigma)\n",
      "for i in xrange(len(T)):\n",
      "    Tinv[i] = 1/T[i];\n",
      "    ln_sigma[i] = log(1.0/rho[i]);\n",
      "# Plot the graph\n",
      "plot(Tinv, ln_sigma);\n",
      "axis([0,0.003,0,9])\n",
      "title('Plot of ln (sigma) vs 1/T');\n",
      "xlabel('1/T');\n",
      "ylabel('ln (sigma)');\n",
      "show();\n",
      "\n",
      "\n",
      "# Calculate slope\n",
      "slope = (ln_sigma[2]-ln_sigma[1])/(Tinv[2]-Tinv[1]);\n",
      "E_g = abs(2*slope*k);        # Energy gap of Ge, J\n",
      "print\"The energy gap of Ge =\",E_g/e,\"eV\";\n",
      "\n",
      "# Result \n",
      "# The energy gap of Ge = 0.658 eV "
     ],
     "language": "python",
     "metadata": {},
     "outputs": [
      {
       "metadata": {},
       "output_type": "display_data",
       "png": "[encoded data removed]",
       "text": [
        "<matplotlib.figure.Figure at 0x7fe3a9ddb6d0>"
       ]
      },
      {
       "output_type": "stream",
       "stream": "stdout",
       "text": [
        "The energy gap of Ge = 0.667947295491 eV\n"
       ]
      }
     ],
     "prompt_number": 27
    },
    {
     "cell_type": "heading",
     "level": 2,
     "metadata": {},
     "source": [
      "Example 6.9,Page number 199"
     ]
    },
    {
     "cell_type": "code",
     "collapsed": false,
     "input": [
      "import math\n",
      "\n",
      "#Given Data\n",
      "h = 6.626*10**-34;  # Planck's constant, Js\n",
      "c = 3*10**8;      # Speed of light, m/s\n",
      "e = 1.6*10**-19;   # Energy equivalent of 1 eV, J/eV\n",
      "x = 0.07;   # Al concentration in host GaAs\n",
      "E_g = 1.424 + 1.266*x + 0.266*x**2;    # Band gap of GaAs as a function of x, eV\n",
      "# As E_g = h*c/lambda, solving for lambda\n",
      "lamda = h*c/(E_g*e);   # Emission wavelength of light, m\n",
      "print\"The energy band gap of Al doped GaAs =\",round(E_g,3),\"eV\";\n",
      "print\"The emission wavelength of light =\",round(lamda*10**6,3),\"micron\";\n",
      "print\"The Al atoms go as substitutional impurity in the host material.\";\n"
     ],
     "language": "python",
     "metadata": {},
     "outputs": [
      {
       "output_type": "stream",
       "stream": "stdout",
       "text": [
        "The energy band gap of Al doped GaAs = 1.514 eV\n",
        "The emission wavelength of light = 0.821 micron\n",
        "The Al atoms go as substitutional impurity in the host material.\n"
       ]
      }
     ],
     "prompt_number": 30
    },
    {
     "cell_type": "heading",
     "level": 2,
     "metadata": {},
     "source": [
      "Example 6.10,Page number 200"
     ]
    },
    {
     "cell_type": "code",
     "collapsed": false,
     "input": [
      "import math\n",
      "\n",
      "#Given Data\n",
      "x = 0.38;   # Al concentration in host GaAs\n",
      "E_g = 1.424 + 1.266*x + 0.266*x**2;    # Band gap of GaAs as a function of x, eV\n",
      "print\"The energy band gap of 38 percent Al doped in GaAs =\",round(E_g,3),\"eV\";\n"
     ],
     "language": "python",
     "metadata": {},
     "outputs": [
      {
       "output_type": "stream",
       "stream": "stdout",
       "text": [
        "The energy band gap of 38 percent Al doped in GaAs = 1.943 eV\n"
       ]
      }
     ],
     "prompt_number": 32
    },
    {
     "cell_type": "heading",
     "level": 2,
     "metadata": {},
     "source": [
      "Example 6.11,Page number 200"
     ]
    },
    {
     "cell_type": "code",
     "collapsed": false,
     "input": [
      "import math\n",
      "\n",
      "#Given Data\n",
      "k = 1.38*10**-23;  # Boltzmann constant, J/mol/K\n",
      "e = 1.6*10**-19;   # Energy equivalent of 1 eV, J/eV\n",
      "rho_40 = 0.2;   # Resistivity of Ge at 40 degree celsius, ohm-m\n",
      "T1 = 40+273;    # Temperature at which resistivity of Ge becomes 0.2 ohm-m, K\n",
      "T2 = 20+273;    # Temperature at which resistivity of Ge is to be calculated, K\n",
      "E_g = 0.7;  # Band gap of Ge, eV\n",
      "# As rho = exp(E_g/(2*k*T)), so for rho_20\n",
      "rho_20 = rho_40*exp(E_g/(2*k/e)*(1.0/T2-1.0/T1));  # Resistivity of Ge at 20 degree celsius, ohm-m\n",
      "print\"The resistivity of Ge at 20 degree celsius =\",round(rho_20,1),\"ohm-m\";\n"
     ],
     "language": "python",
     "metadata": {},
     "outputs": [
      {
       "output_type": "stream",
       "stream": "stdout",
       "text": [
        "The resistivity of Ge at 20 degree celsius = 0.5 ohm-m\n"
       ]
      }
     ],
     "prompt_number": 35
    },
    {
     "cell_type": "heading",
     "level": 2,
     "metadata": {},
     "source": [
      "Example 6.12,Page number 203"
     ]
    },
    {
     "cell_type": "code",
     "collapsed": false,
     "input": [
      "import math\n",
      "\n",
      "#Given Data\n",
      "k = 1.38*10**-23;  # Boltzmann constant, J/mol/K\n",
      "e = 1.6*10**-19;   # Energy equivalent of 1 eV, J/eV\n",
      "T = 300.0;        # Room temperature of the material, K\n",
      "K_Si = 11.7;    # Dielectric constant of Si\n",
      "K_Ge = 15.8;    # Dielectric constant of Ge\n",
      "m = 9.1*10**-31;   # Mass of an electron, kg\n",
      "m_eff = 0.2;    # Effective masses of the electron in both Si and Ge, kg\n",
      "E_ion_Si = 13.6*m_eff/K_Si**2;   # Donor ionization energy of Si, eV\n",
      "E_ion_Ge = 13.6*m_eff/K_Ge**2;   # Donor ionization energy of Ge, eV\n",
      "E = k*T/e;      # Energy available for electrons at 300 K, eV\n",
      "print\"The donor ionization energy of Si =\",round(E_ion_Si,4),\"eV\";\n",
      "print\"The donor ionization energy of Ge =\",round(E_ion_Ge,4),\"eV\";\n",
      "print\"The energy available for electrons at 300 K =\",round(E,4),\"eV\";\n"
     ],
     "language": "python",
     "metadata": {},
     "outputs": [
      {
       "output_type": "stream",
       "stream": "stdout",
       "text": [
        "The donor ionization energy of Si = 0.0199 eV\n",
        "The donor ionization energy of Ge = 0.0109 eV\n",
        "The energy available for electrons at 300 K = 0.0259 eV\n"
       ]
      }
     ],
     "prompt_number": 38
    },
    {
     "cell_type": "heading",
     "level": 2,
     "metadata": {},
     "source": [
      "Example 6.13,Page number 203"
     ]
    },
    {
     "cell_type": "code",
     "collapsed": false,
     "input": [
      "import math\n",
      "\n",
      "#Given Data\n",
      "e = 1.6*10**-19;   # Energy equivalent of 1 eV, J/eV\n",
      "epsilon = 15.8;  # Dielectric constant of Ge   \n",
      "m = 9.1*10**-31;   # Mass of an electron, kg\n",
      "m_e = 0.2*m;     # Effective masses of the electron in Ge, kg\n",
      "a_Ge = 5.65;    # Lattice parameter of Ge, angstrom\n",
      "A_d = 0.53*epsilon*(m/m_e);    # Radius of donor atom, angstrom\n",
      "print\"The radius of the orbits of fifth valence electron of acceptor impurity =\",ceil(A_d),\"angstrom\";\n",
      "print\"This radius is\",ceil(A_d/a_Ge),\"times the lattice constant of Ge\";\n"
     ],
     "language": "python",
     "metadata": {},
     "outputs": [
      {
       "output_type": "stream",
       "stream": "stdout",
       "text": [
        "The radius of the orbits of fifth valence electron of acceptor impurity = 42.0 angstrom\n",
        "This radius is 8.0 times the lattice constant of Ge\n"
       ]
      }
     ],
     "prompt_number": 43
    },
    {
     "cell_type": "heading",
     "level": 2,
     "metadata": {},
     "source": [
      "Example 6.14,Page number 203"
     ]
    },
    {
     "cell_type": "code",
     "collapsed": false,
     "input": [
      "import math\n",
      "\n",
      "#Given Data\n",
      "e = 1.6*10**-19;   # Energy equivalent of 1 eV, J/eV\n",
      "tau = 10**-12;   # Life time of electron in Ge, s\n",
      "m = 9.1*10**-31;   # Mass of an electron, kg\n",
      "m_e = 0.5*m;     # Effective masses of the electron in Ge, kg\n",
      "mu = e*tau/m_e;   # Mobility of electron in Ge, m-square/V-s\n",
      "n_i = 2.5*10**19;     # Intrinsic carrier concentration of Ge at room temperature, per metre cube\n",
      "n_Ge = 5*10**28;  # Concentration of Ge atoms, per metre cube\n",
      "n_e = n_Ge/10**6;    # Concentration of impurity atoms, per metre cube\n",
      "# From law of mass action, n_e*n_h = n_i**2, solving for n_h\n",
      "n_h = n_i**2/n_e;    # Concentration of holes, per metre cube\n",
      "\n",
      "print\"This mobility of electron in Ge =\",round(mu/10**-4,1),\"cm-square/V-s\";\n",
      "print\"This concentration of holes in Ge =\",\"{0:.3e}\".format(n_h),\"per metre cube\";\n"
     ],
     "language": "python",
     "metadata": {},
     "outputs": [
      {
       "output_type": "stream",
       "stream": "stdout",
       "text": [
        "This mobility of electron in Ge = 3516.5 cm-square/V-s\n",
        "This concentration of holes in Ge = 1.250e+16 per metre cube\n"
       ]
      }
     ],
     "prompt_number": 48
    },
    {
     "cell_type": "heading",
     "level": 2,
     "metadata": {},
     "source": [
      "Example 6.15,Page number 204"
     ]
    },
    {
     "cell_type": "code",
     "collapsed": false,
     "input": [
      "import math\n",
      "\n",
      "#Given Data\n",
      "n_i = 2.5*10**19;     # Intrinsic carrier concentration of Ge at room temperature, per metre cube\n",
      "n_Ge = 5*10**28;  # Concentration of Ge atoms, per metre cube\n",
      "delta_d = 10**6;    # Rate at which pentavalent impurity is doped in pure Ge, ppm\n",
      "n_e = n_Ge/delta_d;    # Concentration of impurity atoms, per metre cube\n",
      "# From law of mass action, n_e*n_h = n_i**2, solving for n_h\n",
      "n_h = n_i**2/n_e;    # Concentration of holes, per metre cube\n",
      "\n",
      "print\"This concentration of holes in Ge =\",\"{0:.3e}\".format(n_h),\"per metre cube\";\n"
     ],
     "language": "python",
     "metadata": {},
     "outputs": [
      {
       "output_type": "stream",
       "stream": "stdout",
       "text": [
        "This concentration of holes in Ge = 1.250e+16 per metre cube\n"
       ]
      }
     ],
     "prompt_number": 51
    },
    {
     "cell_type": "heading",
     "level": 2,
     "metadata": {},
     "source": [
      "Example 6.16,Page number 205"
     ]
    },
    {
     "cell_type": "code",
     "collapsed": false,
     "input": [
      "import math\n",
      "\n",
      "#Given Data\n",
      "e = 1.6*10**-19;   # Charge on an electron, C\n",
      "mu = 1400*10**-4;  # Mobility of electron, metre-square per volt per sec\n",
      "l = 300-6;    # Length of the n-type semiconductor, m\n",
      "w = 100-6;    # Width of the n-type semiconductor, m\n",
      "t = 20-6;     # Thickness of the n-type semiconductor, m\n",
      "N_D = 4.5*10**21; # Doping concentration of donor impurities, per metre-cube\n",
      "V = 10;     # Biasing voltage for semiconductor, V\n",
      "B_prep = 1; # Perpendicular magnetic field to which the semiconductor is subjected, tesla\n",
      "\n",
      "# Part (a)\n",
      "n = N_D;    # Electron concentration in semiconductor, per cc\n",
      "R_H = -1.0/(n*e); # Hall Co-efficient, per C per metre cube\n",
      "\n",
      "# Part (b)\n",
      "rho = 1.0/(n*e*mu);       # Resistivity of semiconductor, ohm-m\n",
      "R = rho*l/(w*t);    # Resistance of the semiconductor, ohm\n",
      "I = V/R;    # Current through the semiconductor, A\n",
      "V_H = R_H*I*B_prep/t;   # Hall voltage, V\n",
      "\n",
      "# Part (c)\n",
      "theta_H = math.degrees(math.atan(-mu*B_prep));    # Hall angle, degrees\n",
      "\n",
      "\n",
      "print\"Hall coefficient, R_H =\",\"{0:.3e}\".format(R_H),\"per C metre cube\";\n",
      "print\"Hall voltage, V_H = \",math.fabs(V_H),\"V\";\n",
      "print\"Hall angle, theta_H =\",round(theta_H,3),\"degree\";\n"
     ],
     "language": "python",
     "metadata": {},
     "outputs": [
      {
       "output_type": "stream",
       "stream": "stdout",
       "text": [
        "Hall coefficient, R_H = -1.389e-03 per C metre cube\n",
        "Hall voltage, V_H =  0.447619047619 V\n",
        "Hall angle, theta_H = -7.97 degree\n"
       ]
      }
     ],
     "prompt_number": 60
    },
    {
     "cell_type": "code",
     "collapsed": false,
     "input": [],
     "language": "python",
     "metadata": {},
     "outputs": []
    }
   ],
   "metadata": {}
  }
 ]
}