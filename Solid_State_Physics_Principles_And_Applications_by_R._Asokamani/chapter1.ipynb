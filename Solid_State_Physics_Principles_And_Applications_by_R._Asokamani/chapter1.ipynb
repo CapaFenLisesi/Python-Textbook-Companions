{
 "metadata": {
  "name": "",
  "signature": "sha256:09ec47f79034ef2298c5ba335d328b021b3f5f7d5d50c5362b4013942de55a1c"
 },
 "nbformat": 3,
 "nbformat_minor": 0,
 "worksheets": [
  {
   "cells": [
    {
     "cell_type": "heading",
     "level": 1,
     "metadata": {},
     "source": [
      "Chapter 1: Structure of Solids"
     ]
    },
    {
     "cell_type": "heading",
     "level": 2,
     "metadata": {},
     "source": [
      "Example 1.1,Page number 13"
     ]
    },
    {
     "cell_type": "code",
     "collapsed": false,
     "input": [
      "import math\n",
      "\n",
      "#Given Data\n",
      "r = 1.278*10**-10;     # Atomic radius of fcc structure, m\n",
      "a = 4*r/sqrt(2);    # Lattice parameter of fcc strucure, m\n",
      "V = a**3;    # Volume of fcc unit cell, metre, cube\n",
      "print\"The lattice parameter of fcc strucure =\",\"{0:.3e}\".format(a),\"m\";\n",
      "print\"The volume of fcc unit cell =\",\"{0:.3e}\".format(V),\"metre cube\";\n"
     ],
     "language": "python",
     "metadata": {},
     "outputs": [
      {
       "output_type": "stream",
       "stream": "stdout",
       "text": [
        "The lattice parameter of fcc strucure = 3.615e-10 m\n",
        "The volume of fcc unit cell = 4.723e-29 metre cube\n"
       ]
      }
     ],
     "prompt_number": 24
    },
    {
     "cell_type": "heading",
     "level": 2,
     "metadata": {},
     "source": [
      "Example 1.2,Page number 14"
     ]
    },
    {
     "cell_type": "code",
     "collapsed": false,
     "input": [
      "import math\n",
      "\n",
      "#Given Data\n",
      "r = 0.143*10**-9;  # Radius of Nb unit cell, m\n",
      "d = 8.57*10**3; # Density of Nb unit cell, kg/metre-cube\n",
      "M = 92.91*10**-3;        # Atomic weight of Nb, kg per mole\n",
      "N = 6.023*10**23;    # Avogadro's No.\n",
      "\n",
      "# For fcc\n",
      "a = 4*r/sqrt(2);    # Lattice parameter for fcc structure of Nb, m\n",
      "n = a**3*d*N/M; # Number of lattice points per unit cell\n",
      "if ((n%int(n))< 0.001) :\n",
      "    print\"The number of atoms associated with the cell is\",int(n),\", Nb should have fcc structure\";\n",
      "\n",
      "\n",
      "# For bcc\n",
      "a = 4*r/sqrt(3);    # Lattice parameter for bcc structure of Nb, m\n",
      "n = a**3*d*N/M; # Number of lattice points per unit cell\n",
      "if ((n%int(n)) < 0.001) :\n",
      "    print\"The number of atoms associated with the cell is\",int(n),\", Nb should have bcc structure\";\n",
      "    "
     ],
     "language": "python",
     "metadata": {},
     "outputs": [
      {
       "output_type": "stream",
       "stream": "stdout",
       "text": [
        "The number of atoms associated with the cell is 2 , Nb should have bcc structure\n"
       ]
      }
     ],
     "prompt_number": 27
    },
    {
     "cell_type": "heading",
     "level": 2,
     "metadata": {},
     "source": [
      "Example 1.3,Page number 17"
     ]
    },
    {
     "cell_type": "code",
     "collapsed": false,
     "input": [
      "import math\n",
      "\n",
      "#Given Data\n",
      "V = 10.58*10**-29;  # Volume of the unit cell, metre cube\n",
      "#3*sqrt(3)/2*1.58*a**3-V) =0;        # First lattice parameter, m\n",
      "a= (V/(3*sqrt(3)/2*1.58))**(1.0/3);    #Solving for a\n",
      "c = 1.58*a;     # Third lattice parameter, m\n",
      "print\"The lattice parameters of hcp structure of Ti are:\";\n",
      "print\"a =\",round(a/10**-10,3),\"angstorm, c =\",round(c/10**-10,3),\"angstorm\";\n",
      "\n",
      "# Result \n",
      "# The lattice parameters of hcp structure of Ti are:\n",
      "# a = 2.95 angstorm, c = 4.67 angstorm \n"
     ],
     "language": "python",
     "metadata": {},
     "outputs": [
      {
       "output_type": "stream",
       "stream": "stdout",
       "text": [
        "The lattice parameters of hcp structure of Ti are:\n",
        "a = 2.954 angstorm, c = 4.667 angstorm\n"
       ]
      }
     ],
     "prompt_number": 26
    },
    {
     "cell_type": "heading",
     "level": 2,
     "metadata": {},
     "source": [
      "Example 1.4,Page number 17"
     ]
    },
    {
     "cell_type": "code",
     "collapsed": false,
     "input": [
      "import math\n",
      "\n",
      "#Given Data\n",
      "c_by_a_ratio = 1.633;   # Ideal c/a ratio\n",
      "A = [[1,2,3,4],[5,6,7,8]]  # Declare a cell\n",
      "# Assign values to the elements of the cell from the table\n",
      "A[0][0] = 'Mg';\n",
      "A[1][0] = 'Cd';\n",
      "A[0][1] = 5.21;\n",
      "A[1][1] = 5.62;\n",
      "A[0][2] = 3.21;\n",
      "A[1][2]= 2.98;\n",
      "A[0][3] = A[0][1]/A[0][2];\n",
      "A[1][3] = A[1][1]/A[1][2];\n",
      "if (A[0][3] - c_by_a_ratio) < 0.01:\n",
      "    print\"\",A[0][0],\"satisfies ideal c/a ratio and\",A[1][0],\"has large deviation from this value.\";\n",
      "else:\n",
      "    if (A[0][3] - c_by_a_ratio) < 0.01:\n",
      "        print\"\",A[1][0],\"satisfies ideal c/a ratio and\",A[0][0],\"has large deviation from this value.\";       \n"
     ],
     "language": "python",
     "metadata": {},
     "outputs": [
      {
       "output_type": "stream",
       "stream": "stdout",
       "text": [
        " Mg satisfies ideal c/a ratio and Cd has large deviation from this value.\n"
       ]
      }
     ],
     "prompt_number": 15
    },
    {
     "cell_type": "heading",
     "level": 2,
     "metadata": {},
     "source": [
      "Example 1.5,Page number 18"
     ]
    },
    {
     "cell_type": "code",
     "collapsed": false,
     "input": [
      "import math\n",
      "\n",
      "#Given Data\n",
      "M_Na = 23;        # Atomic weight of Na, gram per mole\n",
      "M_Cl = 35.5;        # Atomic weight of Cl, gram per mole\n",
      "d = 2.18*10**6;    # Density of Nacl salt, g per metre cube\n",
      "n = 4;    # No. of atoms per unit cell for an fcc lattice of NaCl crystal\n",
      "N = 6.023*10**23;    # Avogadro's No.\n",
      "# Volume of the unit cell is given by\n",
      "# a**3 = M*n/(N*d)\n",
      "# Solving for a\n",
      "a = (n*(M_Na + M_Cl)/(d*N))**(1.0/3);    # Lattice constant of unit cell of NaCl\n",
      "print\"Lattice constant for the NaCl crystal =\",round(a/10**-10,3),\"angstorm\";\n"
     ],
     "language": "python",
     "metadata": {},
     "outputs": [
      {
       "output_type": "stream",
       "stream": "stdout",
       "text": [
        "Lattice constant for the NaCl crystal = 5.627 angstorm\n"
       ]
      }
     ],
     "prompt_number": 13
    },
    {
     "cell_type": "heading",
     "level": 2,
     "metadata": {},
     "source": [
      "Example 1.6,Page number 18"
     ]
    },
    {
     "cell_type": "code",
     "collapsed": false,
     "input": [
      "import math\n",
      "\n",
      "#Given Data\n",
      "r = 1.33;       # Ionic radii of K+ ion, angstrom\n",
      "R = 1.81;     # Ionic radii of Cl- ion, angstrom\n",
      "n = 4;    # No. of atoms per unit cell for an fcc lattice of NaCl crystal\n",
      "APF = (n*(4*pi*r**3/3)+n*(4*pi*R**3/3))/(2*r+2*R)**3;    # Atomic packing factor of fcc KCl\n",
      "print\"The ionic packing factor of fcc KCl =\",round(APF,3);\n"
     ],
     "language": "python",
     "metadata": {},
     "outputs": [
      {
       "output_type": "stream",
       "stream": "stdout",
       "text": [
        "The ionic packing factor of fcc KCl = 0.56\n"
       ]
      }
     ],
     "prompt_number": 10
    },
    {
     "cell_type": "heading",
     "level": 2,
     "metadata": {},
     "source": [
      "Example 1.7,Page number 20"
     ]
    },
    {
     "cell_type": "code",
     "collapsed": false,
     "input": [
      "import math\n",
      "\n",
      "#Given Data\n",
      "N = 6.023*10**23;  # Avogadro's number\n",
      "M = 12.01*10**-3;  # Atomic weight of diamond/graphite, kg\n",
      "\n",
      "# For diamond\n",
      "a = 3.568*10**-10;     # Lattice parameter of diamond, m\n",
      "rho = 3.518*10**3;    # Density of diamond, kg per metre cube\n",
      "n = a**3*rho*N/M;    # Number of atoms in the unit cell of diamond structure\n",
      "print\"The number of atoms in the unit cell of diamond structure =\",int(n);\n",
      "\n",
      "# For graphite\n",
      "a = 2.451*10**-10;     # First lattice parameter of graphite, m\n",
      "c = 6.701*10**-10;     # Third lattice parameter of graphite, m\n",
      "rho = 2.2589*10**3;    # Density of graphite, kg per metre cube\n",
      "V = 3*sqrt(3)*a**2*c/2;  # Volume of hexagonal unit cell of graphite, metre cube\n",
      "n = V*rho*N/M;    # Number of atoms in the unit cell of graphite structure\n",
      "print\"The number of atoms in the unit cell of graphite structure =\",round(n);\n",
      "\n",
      "# Result \n",
      "# The number of atoms in the unit cell of diamond structure = 8\n",
      "# The number of atoms in the unit cell of graphite structure = 12 \n",
      "\n"
     ],
     "language": "python",
     "metadata": {},
     "outputs": [
      {
       "output_type": "stream",
       "stream": "stdout",
       "text": [
        "The number of atoms in the unit cell of diamond structure = 8\n",
        "The number of atoms in the unit cell of graphite structure = 12.0\n"
       ]
      }
     ],
     "prompt_number": 8
    },
    {
     "cell_type": "heading",
     "level": 2,
     "metadata": {},
     "source": [
      "Example 1.8,Page number 21"
     ]
    },
    {
     "cell_type": "code",
     "collapsed": false,
     "input": [
      "import math\n",
      "\n",
      "#Given Data\n",
      "N = 6.023*10**23;  # Avogadro's number\n",
      "\n",
      "# For silicon crystallized into diamond structure\n",
      "a = 5.43*10**-8;   # Lattice parameter of Si, cm\n",
      "M = 28.1;   # Atomic mass of Si, g/mol\n",
      "n = 8/a**3;       # Number of atoms per unit volume, atoms per cm cube\n",
      "d = n*M/N;      # Density of Si crytal, g/cm\n",
      "print\"The density of crystallized Si =\",round(d,3),\"gram per cm cube\";\n",
      "\n",
      "# For GaAs crystallized into Zinc Blende structure\n",
      "a = 5.65*10**-8;   # Lattice parameter of GaAs, cm\n",
      "M_Ga = 69.7;    # Atomic weight of Ga, g/mol\n",
      "M_As = 74.9;    # Atomic weight of As, g/mol\n",
      "M = M_Ga + M_As;   # Atomic weight of GaAs, g/mol\n",
      "n = 4.0/a**3;       # Number of atoms per unit volume, atoms per cm cube\n",
      "d = n*M/N;      # Density of Si crytal, g/cm\n",
      "print\"The density of crystallized GaAs =\",round(d,3),\"gram per cm cube\";\n"
     ],
     "language": "python",
     "metadata": {},
     "outputs": [
      {
       "output_type": "stream",
       "stream": "stdout",
       "text": [
        "The density of crystallized Si = 2.331 gram per cm cube\n",
        "The density of crystallized GaAs = 5.324 gram per cm cube\n"
       ]
      }
     ],
     "prompt_number": 3
    },
    {
     "cell_type": "heading",
     "level": 2,
     "metadata": {},
     "source": [
      "Example 1.9,Page number 21"
     ]
    },
    {
     "cell_type": "code",
     "collapsed": false,
     "input": [
      "import math\n",
      "\n",
      "#Given Data\n",
      "N = 6.023*10**23;  # Avogadro's number\n",
      "\n",
      "r1 = 0.122*10**-9;     # Ionic radii of Ga, m\n",
      "r2 = 0.125*10**-9;     # Ionic radii of As, m\n",
      "r3 = 0.11*10**-9;     # Ionic radii of P, m\n",
      "\n",
      "# For GaP\n",
      "r = r1 + r3;        # Interatomic separation between Ga and P atoms, m\n",
      "a = 4*r/3**(1.0/2);    # Lattice parameter of GaP structure, m\n",
      "print\"The lattice parameter of GaP structure =\",round(a/10**-10,3),\"angstrom\";\n",
      "\n",
      "# For GaAs\n",
      "r = r1 + r2;        # Interatomic separation between Ga and As atoms, m\n",
      "a = 4*r/3**(1.0/2);    # Lattice parameter of GaP structure, m\n",
      "print\"The lattice parameter of GaAs structure =\",round(a/10**-10,3),\"angstrom\";\n"
     ],
     "language": "python",
     "metadata": {},
     "outputs": [
      {
       "output_type": "stream",
       "stream": "stdout",
       "text": [
        "The lattice parameter of GaP structure = 5.358 angstrom\n",
        "The lattice parameter of GaAs structure = 5.704 angstrom\n"
       ]
      }
     ],
     "prompt_number": 37
    },
    {
     "cell_type": "heading",
     "level": 2,
     "metadata": {},
     "source": [
      "Example 1.10,Page number 24"
     ]
    },
    {
     "cell_type": "code",
     "collapsed": false,
     "input": [
      "import math\n",
      "\n",
      "#Given Data\n",
      "def string(r_ratio):\n",
      "    if(r_ratio > 0.732):\n",
      "        st = 'Caesium Chloride';\n",
      "    else :\n",
      "        if(r_ratio < 0.732):\n",
      "            st = 'Rock Salt';\n",
      "        else :\n",
      "            if(r_ratio < 0.414):\n",
      "                st = 'Rutile';\n",
      "    return st\n",
      "\n",
      "crystal = [[1,2],[3,4],[5,6],[7,8],[9,10],[11,12]];   # Declare cells of 6 rows and 2 columns\n",
      "crystal[0][0] = 'I';\n",
      "crystal[0][1] = 2.19;        # Ionic radius of I, angstrom\n",
      "crystal[1][0] = 'Cl';\n",
      "crystal[1][1]= 1.81;        # Ionic radius of Cl, angstrom\n",
      "crystal[2][0] = 'Na';\n",
      "crystal[2][1] = 0.95;        # Ionic radius of Na, angstrom\n",
      "crystal[3][0] = 'Cs';\n",
      "crystal[3][1] = 1.69;        # Ionic radius of Cs, angstrom\n",
      "crystal[4][0] = 'Mg';\n",
      "crystal[4][1] = 0.99;        # Ionic radius of Mg2+, angstrom\n",
      "crystal[5][0] = 'O';\n",
      "crystal[5][1] = 1.40;        # Ionic radius of O2-, angstrom\n",
      "\n",
      "print\"The crystal structure of\",crystal[2][0],crystal[0][0],\"with radius ratio =\",round(crystal[2][1]/crystal[0][1],4),\"is\",string(crystal[2][1]/crystal[0][1]);\n",
      "\n",
      "print\"The crystal structure of\",crystal[2][0],crystal[1][0],\"with radius ratio =\",round(crystal[2][1]/crystal[1][1],4),\"is\",string(crystal[2][1]/crystal[1][1]);\n",
      "\n",
      "print\"The crystal structure of\",crystal[3][0],crystal[1][0],\"with radius ratio =\",round(crystal[3][1]/crystal[1][1],4),\"is\",string(crystal[3][1]/crystal[1][1]);\n",
      "\n",
      "print\"The crystal structure of\",crystal[3][0],crystal[0][0],\"with radius ratio =\",round(crystal[3][1]/crystal[0][1],4),\"is\",string(crystal[3][1]/crystal[0][1]);\n",
      "\n",
      "print\"The crystal structure of\",crystal[4][0],crystal[5][0],\"with radius ratio =\",round(crystal[4][1]/crystal[5][1],4),\"is\",string(crystal[4][1]/crystal[5][1]);\n"
     ],
     "language": "python",
     "metadata": {},
     "outputs": [
      {
       "output_type": "stream",
       "stream": "stdout",
       "text": [
        "The crystal structure of Na I with radius ratio = 0.4338 is Rock Salt\n",
        "The crystal structure of Na Cl with radius ratio = 0.5249 is Rock Salt\n",
        "The crystal structure of Cs Cl with radius ratio = 0.9337 is Caesium Chloride\n",
        "The crystal structure of Cs I with radius ratio = 0.7717 is Caesium Chloride\n",
        "The crystal structure of Mg O with radius ratio = 0.7071 is Rock Salt\n"
       ]
      }
     ],
     "prompt_number": 34
    },
    {
     "cell_type": "heading",
     "level": 2,
     "metadata": {},
     "source": [
      "Example 1.11,Page number 25"
     ]
    },
    {
     "cell_type": "code",
     "collapsed": false,
     "input": [
      "import math\n",
      "\n",
      "#Given Data\n",
      "R = 1;  # For simplicity we assume radius of atom to be unity, m\n",
      "# For bcc Structure,\n",
      "a = 4*R/sqrt(3);    # Lattice parameter of bcc crystal, m\n",
      "# We have R+r = a/2, solving for r\n",
      "r = a/2-R   # Relation between radius of the void and radius of the atom, m \n",
      "print\"The maxiumum radius of the sphere that can fit into void between two bcc unit cells =\",round(r,3),\"R\"; \n"
     ],
     "language": "python",
     "metadata": {},
     "outputs": [
      {
       "output_type": "stream",
       "stream": "stdout",
       "text": [
        "The maxiumum radius of the sphere that can fit into void between two bcc unit cells = 0.155 R\n"
       ]
      }
     ],
     "prompt_number": 17
    },
    {
     "cell_type": "heading",
     "level": 2,
     "metadata": {},
     "source": [
      "Example 1.12,Page number 25"
     ]
    },
    {
     "cell_type": "code",
     "collapsed": false,
     "input": [
      "import math\n",
      "\n",
      "#Given Data\n",
      "R = 1;  # For simplicity we assume radius of atom to be unity, m\n",
      "# For fcc Structure,\n",
      "a = 4*R/sqrt(2);    # Lattice parameter of fcc crystal, m\n",
      "# We have R+r = a/2, solving for r\n",
      "r = a/2-R   # Relation between radius of the void and radius of the atom, m \n",
      "print\"The maxiumum radius of the sphere that can fit into void between two fcc unit cells =\",round(r,3),\"R\"; \n"
     ],
     "language": "python",
     "metadata": {},
     "outputs": [
      {
       "output_type": "stream",
       "stream": "stdout",
       "text": [
        "The maxiumum radius of the sphere that can fit into void between two fcc unit cells = 0.414 R\n"
       ]
      }
     ],
     "prompt_number": 15
    },
    {
     "cell_type": "heading",
     "level": 2,
     "metadata": {},
     "source": [
      "Example 1.13,Page number 26"
     ]
    },
    {
     "cell_type": "code",
     "collapsed": false,
     "input": [
      "import math\n",
      "\n",
      "#Given Data\n",
      "R = 1;  # For simplicity we assume radius of atom to be unity, m\n",
      "# For bcc Structure,\n",
      "a = 4*R/sqrt(3);    # Lattice parameter of bcc crystal, m\n",
      "# We have (R+r)**2 = (a/2)**2+(a/4)**2, solving for r\n",
      "r = sqrt(5)*a/4-R   # Relation between radius of the void and radius of the atom, m \n",
      "print\"The radius of largest void in the bcc lattice =\",round(r,3),\"R\"; \n",
      "\n",
      "# For fcc Structure,\n",
      "a = 4*R/sqrt(2);    # Lattice parameter of fcc crystal, m\n",
      "# We have (R+r)**2 = (a/2)**2+(a/4)**2, solving for r\n",
      "r_fcc = a/2-R   # Relation between radius of the void and radius of the atom, m \n",
      "print\"The radius of largest void in the fcc lattice is\",round(r_fcc/r,3),\"times larger than that in the bcc lattice\";\n"
     ],
     "language": "python",
     "metadata": {},
     "outputs": [
      {
       "output_type": "stream",
       "stream": "stdout",
       "text": [
        "The radius of largest void in the bcc lattice = 0.291 R\n",
        "The radius of largest void in the fcc lattice is 1.423 times larger than that in the bcc lattice\n"
       ]
      }
     ],
     "prompt_number": 13
    },
    {
     "cell_type": "heading",
     "level": 2,
     "metadata": {},
     "source": [
      "Example 1.14,Page number 26"
     ]
    },
    {
     "cell_type": "code",
     "collapsed": false,
     "input": [
      "import math\n",
      "\n",
      "#Given Data\n",
      "R = 1;  # For simplicity we assume radius of atom to be unity, m\n",
      "\n",
      "# For bcc Structure,\n",
      "a = 4*R/sqrt(3);    # Lattice parameter of bcc crystal, m\n",
      "# We have (R+r)**2 = (a/2)**2+(a/4)**2, solving for r\n",
      "r = a/2-R   # Relation between radius of the void and radius of the atom, m \n",
      "print\"The radius of void for carbon atoms in iron =\",round(r,3),\"R\"; \n"
     ],
     "language": "python",
     "metadata": {},
     "outputs": [
      {
       "output_type": "stream",
       "stream": "stdout",
       "text": [
        "The radius of void for carbon atoms in iron = 0.155 R\n"
       ]
      }
     ],
     "prompt_number": 11
    },
    {
     "cell_type": "heading",
     "level": 2,
     "metadata": {},
     "source": [
      "Example 1.15,Page number 27"
     ]
    },
    {
     "cell_type": "code",
     "collapsed": false,
     "input": [
      "import math\n",
      "\n",
      "#Given Data\n",
      "R = 1;  # For simplicity we assume radius of atom to be unity, m\n",
      "# From the right triangle LMO, LM/LO = R/(R + r) = cosd(30), solving for r\n",
      "r =R/cos(radians(30))-R;\n",
      "print\"The radius of triangular void =\",round(r,3),\"R\"; \n"
     ],
     "language": "python",
     "metadata": {},
     "outputs": [
      {
       "output_type": "stream",
       "stream": "stdout",
       "text": [
        "The radius of triangular void = 0.155 R\n"
       ]
      }
     ],
     "prompt_number": 9
    },
    {
     "cell_type": "heading",
     "level": 2,
     "metadata": {},
     "source": [
      "Example 1.16,Page number 27"
     ]
    },
    {
     "cell_type": "code",
     "collapsed": false,
     "input": [
      "import math\n",
      "\n",
      "#Given Data\n",
      "R = 1;  # For simplicity we assume radius of atom to be unity, m\n",
      "# From the right triangle LMN similar to trinagle LPO, LM/LO = R/(R + r) = LP/LO = sqrt(2/3), solving for r\n",
      "r = R/sqrt(2./3)-R;\n",
      "print\"The radius ratio of tetragonal void =\",round(r/R,3); \n"
     ],
     "language": "python",
     "metadata": {},
     "outputs": [
      {
       "output_type": "stream",
       "stream": "stdout",
       "text": [
        "The radius ratio of tetragonal void = 0.225\n"
       ]
      }
     ],
     "prompt_number": 5
    },
    {
     "cell_type": "heading",
     "level": 2,
     "metadata": {},
     "source": [
      "Example 1.17,Page number 28"
     ]
    },
    {
     "cell_type": "code",
     "collapsed": false,
     "input": [
      "import math\n",
      "\n",
      "#Given Data\n",
      "R = 1;  # For simplicity we assume radius of atom to be unity, m\n",
      "# From the isosceles right triangle LMN, LM/LO = (R + r)/R = sqrt(2)/1, solving for r\n",
      "r =R*sqrt(2)-R;\n",
      "print\"The radius ratio of octahedral void =\",round(r/R,3); \n",
      "s"
     ],
     "language": "python",
     "metadata": {},
     "outputs": [
      {
       "output_type": "stream",
       "stream": "stdout",
       "text": [
        "The radius ratio of octahedral void = 0.414\n"
       ]
      }
     ],
     "prompt_number": 4
    },
    {
     "cell_type": "heading",
     "level": 2,
     "metadata": {},
     "source": [
      "Example 1.18,Page number 32"
     ]
    },
    {
     "cell_type": "code",
     "collapsed": false,
     "input": [
      "import math\n",
      "\n",
      "#Given Data\n",
      "p = 3; q = -3; r = 3.0/2; # Coefficients of intercepts along three axes\n",
      "h = 1.0/p;        # Reciprocate the first coefficient\n",
      "k = 1.0/q;        # Reciprocate the second coefficient\n",
      "l = 1.0/r;        # Reciprocate the third coefficient\n",
      "# Find l.c.m. of m,n and p is 3\n",
      "mul_fact = 3;\n",
      "h = h*mul_fact;    # Clear the first fraction\n",
      "k = k*mul_fact;    # Clear the second fraction\n",
      "l = l*mul_fact;    # Clear the third fraction\n",
      "print\"The required miller indices are : (\",int(h),int(k),int(l),\")\";\n"
     ],
     "language": "python",
     "metadata": {},
     "outputs": [
      {
       "output_type": "stream",
       "stream": "stdout",
       "text": [
        "The required miller indices are : ( 1 -1 2 )\n"
       ]
      }
     ],
     "prompt_number": 8
    },
    {
     "cell_type": "heading",
     "level": 2,
     "metadata": {},
     "source": [
      "Example 1.19,Page number 32"
     ]
    },
    {
     "cell_type": "code",
     "collapsed": false,
     "input": [
      "import math\n",
      "\n",
      "#Given Data\n",
      "p = 2; q = 3; r = 4; # Coefficients of intercepts along three axes\n",
      "h = 1.0/p;        # Reciprocate the first coefficient\n",
      "k = 1.0/q;        # Reciprocate the second coefficient\n",
      "l = 1.0/r;        # Reciprocate the third coefficient\n",
      "# Find l.c.m. of m,n and p\n",
      "# l.c.m. of 2 and 4 is 4 and l.c.m. of 4 and 3 is 12\n",
      "#hence l.c.m = 12\n",
      "mul_fact =12 ; \n",
      "h = h*mul_fact;    # Clear the first fraction\n",
      "k = k*mul_fact;    # Clear the second fraction\n",
      "l = l*mul_fact;    # Clear the third fraction\n",
      "print\"The required miller indices are : (\",int(h),int(k),int(l),\")\";\n"
     ],
     "language": "python",
     "metadata": {},
     "outputs": [
      {
       "output_type": "stream",
       "stream": "stdout",
       "text": [
        "The required miller indices are : ( 6 4 3 )\n"
       ]
      }
     ],
     "prompt_number": 3
    },
    {
     "cell_type": "heading",
     "level": 2,
     "metadata": {},
     "source": [
      "Example 1.20,Page number 32"
     ]
    },
    {
     "cell_type": "code",
     "collapsed": false,
     "input": [
      "import math\n",
      "\n",
      "#Given Data\n",
      "p = 4; q = 4; r = float('inf'); # Coefficients of intercepts along three axes\n",
      "h = 1.0/p;        # Reciprocate the first coefficient\n",
      "k = 1.0/q;        # Reciprocate the second coefficient\n",
      "l = 1.0/r;        # Reciprocate the third coefficient\n",
      "# Find l.c.m. of m,n and p \n",
      "#l.c.m of p and q is 4\n",
      "mul_fact =4;\n",
      "h = h*mul_fact;    # Clear the first fraction\n",
      "k = k*mul_fact;    # Clear the second fraction\n",
      "l = l*mul_fact;    # Clear the third fraction\n",
      "print\"The required miller indices are : (\",int(h),int(k),int(l),\")\";\n"
     ],
     "language": "python",
     "metadata": {},
     "outputs": [
      {
       "output_type": "stream",
       "stream": "stdout",
       "text": [
        "The required miller indices are : ( 1 1 0 )\n"
       ]
      }
     ],
     "prompt_number": 6
    },
    {
     "cell_type": "heading",
     "level": 2,
     "metadata": {},
     "source": [
      "Example 1.21,Page number 32"
     ]
    },
    {
     "cell_type": "code",
     "collapsed": false,
     "input": [
      "import math\n",
      "\n",
      "#Given Data\n",
      "a = 0.424; b = 2; c = 0.367;    # Intercepts on planes along three axes, m\n",
      "# Here pa = 0.424; qb = 2; rc = 0.183, solving for p, q and r, we have\n",
      "p = 0.424/a; q = 2/b; r = 0.183/c; # Coefficients of intercepts along three axes\n",
      "h = 1.0/p;        # Reciprocate the first coefficient\n",
      "k = 1.0/q;        # Reciprocate the second coefficient\n",
      "l = 1.0/r;        # Reciprocate the third coefficient\n",
      "print\"The required miller indices are :(\",int(h),int(k),int(l),\")\";\n"
     ],
     "language": "python",
     "metadata": {},
     "outputs": [
      {
       "output_type": "stream",
       "stream": "stdout",
       "text": [
        "The required miller indices are :( 1 1 2 )\n"
       ]
      }
     ],
     "prompt_number": 23
    },
    {
     "cell_type": "heading",
     "level": 2,
     "metadata": {},
     "source": [
      "Example 1.22,Page number 33"
     ]
    },
    {
     "cell_type": "code",
     "collapsed": false,
     "input": [
      "import math\n",
      "\n",
      "#Given Data\n",
      "r = 1.746*10**-10;     # Atomic radius of lead atom, angstrom\n",
      "a = 4*r/sqrt(2);    # Interatomic spacing, m\n",
      "h = 1; k = 0; l = 0; # Miller Indices for planes in a cubic crystal\n",
      "d_100 = a/(h**2+k**2+l**2)**(1.0/2);  # The interplanar spacing for cubic crystals, m\n",
      "print\"The interplanar spacing between consecutive (100) planes =\",round(d_100/1e-010,3),\"angstrom\";\n",
      "\n",
      "h = 1; k = 1; l = 0; # Miller Indices for planes in a cubic crystal\n",
      "d_110 = a/(h**2+k**2+l**2)**(1.0/2);  # The interplanar spacing for cubic crystals, m\n",
      "print\"The interplanar spacing between consecutive (110) planes =\",round(d_110/1e-010,3),\"angstrom\";\n",
      "\n",
      "h = 1; k = 1; l = 1; # Miller Indices for planes in a cubic crystal\n",
      "d_111 = a/(h**2+k**2+l**2)**(1.0/2);  # The interplanar spacing for cubic crystals, m\n",
      "print\"The interplanar spacing between consecutive (111) planes =\",round(d_111/1e-010,3),\"angstrom\";\n"
     ],
     "language": "python",
     "metadata": {},
     "outputs": [
      {
       "output_type": "stream",
       "stream": "stdout",
       "text": [
        "The interplanar spacing between consecutive (100) planes = 4.938 angstrom\n",
        "The interplanar spacing between consecutive (110) planes = 3.492 angstrom\n",
        "The interplanar spacing between consecutive (111) planes = 2.851 angstrom\n"
       ]
      }
     ],
     "prompt_number": 18
    },
    {
     "cell_type": "heading",
     "level": 2,
     "metadata": {},
     "source": [
      "Example 1.23,Page number 34"
     ]
    },
    {
     "cell_type": "code",
     "collapsed": false,
     "input": [
      "import math\n",
      "\n",
      "#Given Data\n",
      "e = 1.6*10**-19;   # Energy equivalent of 1 eV, J/eV\n",
      "h = 6.626*10**-34;     # Planck's constant, Js\n",
      "c = 3.0*10**8;    # Speed of light, m/s\n",
      "E_K = 13.6*29**2;    # Energy of electron in the K-shell\n",
      "E_L = 13.6*29**2/4;  # Energy of electron in the L-shell\n",
      "# As E_K - E_L = h*c/lambda, solving for lambda\n",
      "lamda = h*c/((E_K - E_L)*e);       # Wavelength of K_alpha radiation of tungsten, m\n",
      "print\"The wavelength of K_alpha radiation of Cu =\",round(lamda/1e-010,3),\"angstrom\";\n"
     ],
     "language": "python",
     "metadata": {},
     "outputs": [
      {
       "output_type": "stream",
       "stream": "stdout",
       "text": [
        "The wavelength of K_alpha radiation of Cu = 1.448 angstrom\n"
       ]
      }
     ],
     "prompt_number": 16
    },
    {
     "cell_type": "heading",
     "level": 2,
     "metadata": {},
     "source": [
      "Example 1.24,Page number 35"
     ]
    },
    {
     "cell_type": "code",
     "collapsed": false,
     "input": [
      "import math\n",
      "\n",
      "#Given Data\n",
      "e = 1.6*10**-19;   # Energy equivalent of 1 eV, J/eV\n",
      "h = 6.626*10**-34;     # Planck's constant, Js\n",
      "c = 3.0*10**8;    # Speed of light, m/s\n",
      "E_K = 13.6*74**2;    # Energy of electron in the K-shell\n",
      "E_L = 13.6*74**2/4;  # Energy of electron in the L-shell\n",
      "# As E_K - E_L = h*c/lambda, solving for lambda\n",
      "lamda = h*c/((E_K - E_L)*e);       # Wavelength of K_alpha radiation of tungsten, m\n",
      "print\"The wavelength of K_alpha radiation of tungsten =\",\"{0:.3e}\".format(lamda/1e-010),\"angstrom\";\n"
     ],
     "language": "python",
     "metadata": {},
     "outputs": [
      {
       "output_type": "stream",
       "stream": "stdout",
       "text": [
        "The wavelength of K_alpha radiation of tungsten = 2.224e-01 angstrom\n"
       ]
      }
     ],
     "prompt_number": 11
    },
    {
     "cell_type": "heading",
     "level": 2,
     "metadata": {},
     "source": [
      "Example 1.25,Page number 35"
     ]
    },
    {
     "cell_type": "code",
     "collapsed": false,
     "input": [
      "import math\n",
      "\n",
      "#Given Data\n",
      "a_Cu = 3.61;    # Lattice constant of Cu, angstrom\n",
      "a_Pd = 3.89;    # Lattice constant of Pd, angstrom\n",
      "\n",
      "# For x = 20% of Pd\n",
      "x = 0.20;   # Percentage of Pd in Cu-Pd alloy\n",
      "a_Cu_Pd = ((1-x)*a_Cu + x*a_Pd);\n",
      "print\"For\",x*100,\"percent of Pd in Cu-Pd alloy, a =\",a_Cu_Pd,\"angstrom\";\n",
      "\n",
      "# For x = 40% of Pd\n",
      "x = 0.40;   # Percentage of Pd in Cu-Pd alloy\n",
      "a_Cu_Pd = ((1-x)*a_Cu + x*a_Pd);\n",
      "print\"For\",x*100,\"percent of Pd in Cu-Pd alloy, a =\",a_Cu_Pd,\"angstrom\";\n",
      "\n",
      "# For x = 60% of Pd\n",
      "x = 0.60;   # Percentage of Pd in Cu-Pd alloy\n",
      "a_Cu_Pd = ((1-x)*a_Cu + x*a_Pd);\n",
      "print\"For\",x*100,\"percent of Pd in Cu-Pd alloy, a =\",a_Cu_Pd,\"angstrom\";\n",
      "\n",
      "# For x = 80% of Pd\n",
      "x = 0.80;   # Percentage of Pd in Cu-Pd alloy\n",
      "a_Cu_Pd = ((1-x)*a_Cu + x*a_Pd);\n",
      "print\"For\",x*100,\"percent of Pd in Cu-Pd alloy, a =\",a_Cu_Pd,\"angstrom\";\n"
     ],
     "language": "python",
     "metadata": {},
     "outputs": [
      {
       "output_type": "stream",
       "stream": "stdout",
       "text": [
        "For 20.0 percent of Pd in Cu-Pd alloy, a = 3.666 angstrom\n",
        "For 40.0 percent of Pd in Cu-Pd alloy, a = 3.722 angstrom\n",
        "For 60.0 percent of Pd in Cu-Pd alloy, a = 3.778 angstrom\n",
        "For 80.0 percent of Pd in Cu-Pd alloy, a = 3.834 angstrom\n"
       ]
      }
     ],
     "prompt_number": 9
    },
    {
     "cell_type": "heading",
     "level": 2,
     "metadata": {},
     "source": [
      "Example 1.26,Page number 36"
     ]
    },
    {
     "cell_type": "code",
     "collapsed": false,
     "input": [
      "import math\n",
      "\n",
      "#Given Data\n",
      "a_Rh = 3.80;    # Lattice constant of Rh, angstrom\n",
      "a_Pt = 3.92;    # Lattice constant of Pt, angstrom\n",
      "a_Pt_Rh = 3.78;    # Lattice constant of unit cell of Pt-Rh alloy, angstrom\n",
      "V = (a_Pt*1e-08)**3; # Volume of unit cell of Pt, metre cube\n",
      "V_90 = 0.9*V;   # 90 percent of the cell volume of Pt, metre cube\n",
      "\n",
      "# For x = 20% of Rh in Pt-Rh alloy, we have\n",
      "# a_Pt_Rh = ((1-x)*a_Pt + x*a_Rh), solving for x\n",
      "x = (a_Pt_Rh - a_Pt)/(a_Rh-a_Pt);      # Amount of required Rh in Pt to change the unit cell volume\n",
      "print\"The amount of Rh required in Pt to change the unit cell volume =\",round(x,2),\"percent\";\n"
     ],
     "language": "python",
     "metadata": {},
     "outputs": [
      {
       "output_type": "stream",
       "stream": "stdout",
       "text": [
        "The amount of Rh required in Pt to change the unit cell volume = 1.17 percent\n"
       ]
      }
     ],
     "prompt_number": 6
    },
    {
     "cell_type": "heading",
     "level": 2,
     "metadata": {},
     "source": [
      "Example 1.27,Page number 36"
     ]
    },
    {
     "cell_type": "code",
     "collapsed": false,
     "input": [
      "import math\n",
      "\n",
      "#Given Data\n",
      "r_bcc = 0.126;     # Atomic radius of the iron atoms in the bcc structure, nm\n",
      "r_fcc = 0.129;      # Atomic radius of the iron atoms in the fcc structure, nm\n",
      "a_bcc = 4*r_bcc/sqrt(3);\n",
      "a_fcc = 4*r_fcc/sqrt(2);\n",
      "V_bcc = 2*a_bcc**3;      # Volume of bcc unit cell, nm cube\n",
      "V_fcc = a_fcc**3;      # Volume of fcc unit cell, nm cube\n",
      "delta_V = V_fcc - V_bcc;    # Change in volume from bcc to fcc structure, nm cube\n",
      "V = V_bcc;\n",
      "V_frac = delta_V/V;     # Fractional change in volume from bcc to fcc structure\n",
      "\n",
      "print\"The percentage change in volume from bcc to fcc structure =\",round(V_frac*100,2),\"percent\";\n"
     ],
     "language": "python",
     "metadata": {},
     "outputs": [
      {
       "output_type": "stream",
       "stream": "stdout",
       "text": [
        "The percentage change in volume from bcc to fcc structure = -1.43 percent\n"
       ]
      }
     ],
     "prompt_number": 3
    },
    {
     "cell_type": "code",
     "collapsed": false,
     "input": [],
     "language": "python",
     "metadata": {},
     "outputs": []
    }
   ],
   "metadata": {}
  }
 ]
}