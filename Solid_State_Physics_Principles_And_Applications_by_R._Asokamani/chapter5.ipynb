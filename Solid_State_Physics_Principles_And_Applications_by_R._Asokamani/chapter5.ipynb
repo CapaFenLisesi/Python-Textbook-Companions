{
 "metadata": {
  "name": "",
  "signature": "sha256:5ddfc271fdce9ee0a4003a1cc58d7533d4c666ac6abbe00e85967c1976a0ff5f"
 },
 "nbformat": 3,
 "nbformat_minor": 0,
 "worksheets": [
  {
   "cells": [
    {
     "cell_type": "heading",
     "level": 1,
     "metadata": {},
     "source": [
      "Chapter 5: Band Theory of Solids"
     ]
    },
    {
     "cell_type": "heading",
     "level": 2,
     "metadata": {},
     "source": [
      "Example 5.1,Page number 176"
     ]
    },
    {
     "cell_type": "code",
     "collapsed": false,
     "input": [
      "import math\n",
      "\n",
      "#Given Data\n",
      "h = 6.626*10**-34;  # Planck's constant, Js\n",
      "h_bar = h/(2*pi);  # Reduced Planck's constant, Js\n",
      "e = 1.6*10**-19;   # Energy equivalent of 1 eV, J/eV\n",
      "m = 9.1*10**-31;   # Mass of an electron, kg\n",
      "\n",
      "# For Na\n",
      "n_Na = 2.65*10**28;    # electronic concentration of Na, per metre cube\n",
      "k_F = (3*pi**2*n_Na)**(1.0/3);    # Fermi wave vector, per cm\n",
      "E_F = h_bar**2*k_F**2/(2*m*e);  # Fermi energy of Na, eV\n",
      "print\"The fermi energy of Na = \",round(E_F,4),\"eV\";\n",
      "print\"The band structure value of Na = \",0.263*13.6,\"eV\";\n",
      "\n",
      "# For K\n",
      "n_K = 1.4e+28;  # electronic concentration of K, per metre cube\n",
      "k_F = (3*pi**2*n_K)**(1.0/3);    # Fermi wave vector, per cm\n",
      "E_F = h_bar**2*k_F**2/(2*m*e);  # Fermi energy of K, eV\n",
      "print\"The fermi energy of K = \",round(E_F,4),\"eV\";\n",
      "print\"The band structure value of K = \", 0.164*13.6,\"eV\";\n",
      "print\"The agreement between the free electron and band theoretical values are fairly good both for Na and K\";\n"
     ],
     "language": "python",
     "metadata": {},
     "outputs": [
      {
       "output_type": "stream",
       "stream": "stdout",
       "text": [
        "The fermi energy of Na =  3.2489 eV\n",
        "The band structure value of Na =  3.5768 eV\n",
        "The fermi energy of K =  2.1232 eV\n",
        "The band structure value of K =  2.2304 eV\n",
        "The agreement between the free electron and band theoretical values are fairly good both for Na and K\n"
       ]
      }
     ],
     "prompt_number": 4
    },
    {
     "cell_type": "heading",
     "level": 2,
     "metadata": {},
     "source": [
      "Example 5.3,Page number 177"
     ]
    },
    {
     "cell_type": "code",
     "collapsed": false,
     "input": [
      "import math\n",
      "\n",
      "#Given Data\n",
      "\n",
      "n_Na = 2.65*10**22;    # electronic concentration of Na, per cm cube\n",
      "k_F = (3*pi**2*n_Na)**(1.0/3);    # Fermi wave vector, per cm\n",
      "print\"The fermi momentum of Na =\",\"{0:.3e}\".format(k_F),\"per cm\";\n"
     ],
     "language": "python",
     "metadata": {},
     "outputs": [
      {
       "output_type": "stream",
       "stream": "stdout",
       "text": [
        "The fermi momentum of Na = 9.223e+07 per cm\n"
       ]
      }
     ],
     "prompt_number": 7
    },
    {
     "cell_type": "heading",
     "level": 2,
     "metadata": {},
     "source": [
      "Example 5.5,Page number 177"
     ]
    },
    {
     "cell_type": "code",
     "collapsed": false,
     "input": [
      "import math\n",
      "\n",
      "#Given Data\n",
      "\n",
      "h = 6.626*10**-34;  # Planck's constant, Js\n",
      "h_bar = h/(2*pi);  # Reduced Planck's constant, Js\n",
      "e = 1.6*10**-19;   # Energy equivalent of 1 eV, J/eV\n",
      "m = 9.1*10**-31;   # Mass of an electron, kg\n",
      "V = 1.0*10**-6; # Volume of unit cube of material, metre cube\n",
      "\n",
      "# For Mg\n",
      "E_F = 7.13*e;  # Fermi energy of Mg, J\n",
      "s = 2*pi**2/(e*V)*(h_bar**2/(2*m))**(3.0/2)*(E_F)**(-1.0/2);  # Energy separation between levels for Mg, eV\n",
      "print\"The energy separation between adjacent levels for Mg = \",\"{0:.3e}\".format(s),\"eV\";\n",
      "\n",
      "# For Cs\n",
      "E_F = 1.58*e;  # Fermi energy of Cs, J\n",
      "s = 2*pi**2/(e*V)*(h_bar**2/(2*m))**(3.0/2)*(E_F)**(-1.0/2);  # Energy separation between levels for Cs, eV\n",
      "print\"The energy separation between adjacent levels for Cs =\",\"{0:.3e}\".format(s),\"eV\";\n"
     ],
     "language": "python",
     "metadata": {},
     "outputs": [
      {
       "output_type": "stream",
       "stream": "stdout",
       "text": [
        "The energy separation between adjacent levels for Mg =  5.517e-23 eV\n",
        "The energy separation between adjacent levels for Cs = 1.172e-22 eV\n"
       ]
      }
     ],
     "prompt_number": 11
    },
    {
     "cell_type": "heading",
     "level": 2,
     "metadata": {},
     "source": [
      "Example 5.9,Page number 180"
     ]
    },
    {
     "cell_type": "code",
     "collapsed": false,
     "input": [
      "import math\n",
      "\n",
      "#Given Data\n",
      "\n",
      "gamma_expt = 7.0*10**-4;   # Experimental value of electronic specific heat, cal/mol/K-square\n",
      "gamma_theory = 3.6*10**-4;   # Theoretical value of electronic specific heat, cal/mol/K-square\n",
      "L = (gamma_expt - gamma_theory)/gamma_theory;\n",
      "print\"The electron-phonon coupling constant of superconductor = \",round(L,2);\n"
     ],
     "language": "python",
     "metadata": {},
     "outputs": [
      {
       "output_type": "stream",
       "stream": "stdout",
       "text": [
        "The electron-phonon coupling constant of superconductor =  0.94\n"
       ]
      }
     ],
     "prompt_number": 13
    },
    {
     "cell_type": "heading",
     "level": 2,
     "metadata": {},
     "source": [
      "Example 5.10,Page number 181"
     ]
    },
    {
     "cell_type": "code",
     "collapsed": false,
     "input": [
      "import math \n",
      "\n",
      "#Given Data\n",
      "\n",
      "N_Ef = 1.235;   # Density of states at fermi energy, electrons/atom-eV\n",
      "N = 6.023*10**23;  # Avogadro's number\n",
      "k = 1.38*10**-23;   # Boltzmann constant, J/mol/K\n",
      "e = 1.6*10**-19;   # Charge on an electron, C\n",
      "gama = pi**2*k**2/3*(N_Ef*N/e);   # Electronic specific heat coefficient, J/g-atom-kelvin square\n",
      "\n",
      "print\"The electronic specific heat coefficient of superconductor = \",round(gama*1000,4),\"mJ/g-atom-kelvin square\";\n"
     ],
     "language": "python",
     "metadata": {},
     "outputs": [
      {
       "output_type": "stream",
       "stream": "stdout",
       "text": [
        "The electronic specific heat coefficient of superconductor =  2.9127 mJ/g-atom-kelvin square\n"
       ]
      }
     ],
     "prompt_number": 7
    },
    {
     "cell_type": "heading",
     "level": 2,
     "metadata": {},
     "source": [
      "Example 5.11,Page number 181"
     ]
    },
    {
     "cell_type": "code",
     "collapsed": false,
     "input": [
      "import math\n",
      "\n",
      "#Given Data\n",
      "\n",
      "gamma_expt = 4.84;   # Experimental value of electronic specific heat of metal, mJ/g-atom/K-square\n",
      "gamma_theory = 2.991;   # Theoretical value of electronic specific heat of metal, mJ/g-atom/K-square\n",
      "L = (gamma_expt-gamma_theory)/gamma_theory;\n",
      "print\"The electron-phonon coupling constant for metal = \",round(L,4);\n"
     ],
     "language": "python",
     "metadata": {},
     "outputs": [
      {
       "output_type": "stream",
       "stream": "stdout",
       "text": [
        "The electron-phonon coupling constant for metal =  0.6182\n"
       ]
      }
     ],
     "prompt_number": 11
    },
    {
     "cell_type": "heading",
     "level": 2,
     "metadata": {},
     "source": [
      "Example 5.12,Page number 181"
     ]
    },
    {
     "cell_type": "code",
     "collapsed": false,
     "input": [
      "import math\n",
      "\n",
      "#Given data\n",
      "mu_B = 9.24*10**-27; # Bohr's magneton, J/T\n",
      "N_Ef = 0.826;   # Density of states at fermi energy, electrons/atom-eV\n",
      "N = 6.023*10**23;  # Avogadro's number\n",
      "e = 1.6*10**-19;   # Energy equivalent of 1 eV, J\n",
      "chi_Pauli = mu_B**2*N_Ef*N/e;\n",
      "print\"Pauli spin susceptibility of Mg = \",\"{0:.3e}\".format( chi_Pauli*1000),\"cgs units\";\n"
     ],
     "language": "python",
     "metadata": {},
     "outputs": [
      {
       "output_type": "stream",
       "stream": "stdout",
       "text": [
        "Pauli spin susceptibility of Mg =  2.655e-07 cgs units\n"
       ]
      }
     ],
     "prompt_number": 1
    },
    {
     "cell_type": "code",
     "collapsed": false,
     "input": [],
     "language": "python",
     "metadata": {},
     "outputs": []
    }
   ],
   "metadata": {}
  }
 ]
}