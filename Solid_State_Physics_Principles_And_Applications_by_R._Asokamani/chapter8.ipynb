{
 "metadata": {
  "name": "",
  "signature": "sha256:e91aa877d853d74b42c0663ae5d9a2e258f4239791004d61b638bb70dcb448fc"
 },
 "nbformat": 3,
 "nbformat_minor": 0,
 "worksheets": [
  {
   "cells": [
    {
     "cell_type": "heading",
     "level": 1,
     "metadata": {},
     "source": [
      "Chapter 8: Specific Heat of Solids"
     ]
    },
    {
     "cell_type": "heading",
     "level": 2,
     "metadata": {},
     "source": [
      "Example 8.1,Page number 241"
     ]
    },
    {
     "cell_type": "code",
     "collapsed": false,
     "input": [
      "import math\n",
      "\n",
      "#Given Data\n",
      "\n",
      "rho = 7.9*10**3;    # Density of iron, kg per cubic meter\n",
      "A = 56*10**-3;    # Atomic weight of iron, g/mol\n",
      "N_A = 6.02*10**23;    # Avogadro's number, atoms per mole\n",
      "mu_B = 9.3*10**-24;    # Bohr magneton;    # Ampere meter square\n",
      "n = rho*N_A/A;    # Total number of atoms per unit cell, per cubic meter\n",
      "M = 2.2*n*mu_B;    # Spontaneous magnetization of iron, Ampere per meter\n",
      "print\"Spontaneous magnetization of iron =\",\"{0:.3e}\".format(M),\"Ampere per meter\";\n"
     ],
     "language": "python",
     "metadata": {},
     "outputs": [
      {
       "output_type": "stream",
       "stream": "stdout",
       "text": [
        "Spontaneous magnetization of iron = 1.738e+06 Ampere per meter\n"
       ]
      }
     ],
     "prompt_number": 3
    },
    {
     "cell_type": "heading",
     "level": 2,
     "metadata": {},
     "source": [
      "Example 8.2,Page number 241"
     ]
    },
    {
     "cell_type": "code",
     "collapsed": false,
     "input": [
      "import math\n",
      "\n",
      "#Given Data\n",
      "n = 3*10**28;    # Spin density of electrons in a ferromagnetic material, per cubic meter\n",
      "mu = 3*10**-23;    # spin magnetic moment of a ferromagnetic material, Square Ampere \n",
      "M_s = n*mu;    # Saturation magnetization of a ferromagnetic material, Per Ampere\n",
      "print\"Saturation magnetization of a ferromagnetic material =\",\"{0:.3e}\".format(M_s),\"ampere per meter\";\n"
     ],
     "language": "python",
     "metadata": {},
     "outputs": [
      {
       "output_type": "stream",
       "stream": "stdout",
       "text": [
        "Saturation magnetization of a ferromagnetic material = 9.000e+05 ampere per meter\n"
       ]
      }
     ],
     "prompt_number": 5
    },
    {
     "cell_type": "heading",
     "level": 2,
     "metadata": {},
     "source": [
      "Example 8.3,Page number 241"
     ]
    },
    {
     "cell_type": "code",
     "collapsed": false,
     "input": [
      "import math\n",
      "\n",
      "#Given Data\n",
      "h_bar = 6.58*10**-16;     # Planck's constant, eV.s\n",
      "m = 0.511*10**6;       # Mass of an electron, eV\n",
      "e = 1.6*10**-12;       # Energy equivalent of 1 eV, erg/eV\n",
      "c = 3.0*10**10;       # Speed of light, cm/s\n",
      "N = 4.7*10**22;    # Free electron gas concentration of Lithium, per cubic cm\n",
      "mu_B = 9.27*10**-21;    # Bohr magneton, Ampere cm-square\n",
      "E_F = (h_bar*c)**2/(2*m)*(3*pi**2*N)**(2.0/3);    # Fermi energy, eV\n",
      "chi = 3*N*mu_B**2/(2*E_F*e);    # Magnetic susceptibility of Lithium, cgs units\n",
      "print\"Magnetic susceptibility of Lithium =\",\"{0:.3e}\".format(chi),\"cgs units\";\n"
     ],
     "language": "python",
     "metadata": {},
     "outputs": [
      {
       "output_type": "stream",
       "stream": "stdout",
       "text": [
        "Magnetic susceptibility of Lithium = 7.967e-07 cgs units\n"
       ]
      }
     ],
     "prompt_number": 7
    },
    {
     "cell_type": "heading",
     "level": 2,
     "metadata": {},
     "source": [
      "Example 8.4,Page number 241"
     ]
    },
    {
     "cell_type": "code",
     "collapsed": false,
     "input": [
      "import math\n",
      "\n",
      "#Given Data\n",
      "a_B = 0.53*10**-8;    # Bohr radius, cm\n",
      "N = 27*10**23;    # Atomic density of He gas, per cubic cm\n",
      "c = 3*10**10;    # Speed of light, cm/sec\n",
      "e = 1.6*10**-19;    # Charge of an electron, Coulomb\n",
      "m = 9.1*10**-28;    # Mass of an electron, g\n",
      "# As r_classic = e**2/(m*c**2), Classical radius of an electron\n",
      "r_classic = 2.8*10**-13;   # Classical radius of the electron, cm \n",
      "chi = -2*N*r_classic/6*a_B**2;    # Magnetic susceptibility of Helium, cgs units\n",
      "\n",
      "print\"Diamagnetic susceptibility of helium atom in ground state =\",\"{0:.3e}\".format(chi),\"emu\";\n"
     ],
     "language": "python",
     "metadata": {},
     "outputs": [
      {
       "output_type": "stream",
       "stream": "stdout",
       "text": [
        "Diamagnetic susceptibility of helium atom in ground state = -7.079e-06 emu\n"
       ]
      }
     ],
     "prompt_number": 9
    },
    {
     "cell_type": "heading",
     "level": 2,
     "metadata": {},
     "source": [
      "Example 8.5,Page number 242"
     ]
    },
    {
     "cell_type": "code",
     "collapsed": false,
     "input": [
      "import math\n",
      "\n",
      "#Given Data\n",
      "chiA_He = 1.9*10**-6;    # Atomic susceptibility of helium, cm cube per mole\n",
      "chiA_Cu = 18*10**-6;    # Atomic susceptibility of Copper, cm cube per mole\n",
      "Q_sp = 1.77*10**7;    # Specific charge of an electron, emu\n",
      "Ne = 9650.0;    # Charge of a gram ion, emu\n",
      "Z_He = 2.0;    # Atomic number of helium atom\n",
      "Z_Cu = 29.0;    # Atomic number of copper atom\n",
      "R_He = sqrt(abs(-6*chiA_He/(Ne*Z_He*Q_sp)));    # Magnetic susceptibility of helium atom, cgs units\n",
      "R_Cu = sqrt(abs(-6*chiA_Cu/(Ne*Z_Cu*Q_sp)));    # Magnetic susceptibility of copper atom, cgs units\n",
      "print\"Atomic radius of helium =\",\"{0:.3e}\".format(R_He),\"cm\";\n",
      "print\"Atomic radius of copper =\",\"{0:.3e}\".format(R_Cu),\"cm\";\n"
     ],
     "language": "python",
     "metadata": {},
     "outputs": [
      {
       "output_type": "stream",
       "stream": "stdout",
       "text": [
        "Atomic radius of helium = 5.777e-09 cm\n",
        "Atomic radius of copper = 4.669e-09 cm\n"
       ]
      }
     ],
     "prompt_number": 11
    },
    {
     "cell_type": "heading",
     "level": 2,
     "metadata": {},
     "source": [
      "Example 8.6,Page number 242"
     ]
    },
    {
     "cell_type": "code",
     "collapsed": false,
     "input": [
      "import math\n",
      "\n",
      "#Given Data\n",
      "N = 6.039*10**22;    # Atomic density of Neon gas, per cubic cm \n",
      "# As r_classic = e**2/(m*c**2), Classical radius of an electron\n",
      "r_classic = 2.8*10**-13;   # Classical radius of the electron, cm\n",
      "Z = 10.0;    # Atomic number of helium atom\n",
      "a0 = 0.53*10**-8;      # Bohr's radius, cm\n",
      "n1 = 2; n2 = 2; n3 = 6;     # Occupation numbers for 1s, 2s and 2p states of Ne\n",
      "r_sq_1s = 0.031;    # Expectation value for 1s state\n",
      "r_sq_2s = 0.905;    # Expectation value for 2s state\n",
      "r_sq_2p = 1.126;    # Expectation value for 2p state \n",
      "mean_r_sq = n1*r_sq_1s + n2*r_sq_2s + n3*r_sq_2p;   # Mean square radius, cm-square\n",
      "Chi_A = -1.0/6*N*Z*r_classic*mean_r_sq*a0**2;    # Magnetic susceptibility of helium atom, cgs units\n",
      "print\"Atomic susceptibility of Ne atom =\",\"{0:.3e}\".format(Chi_A),\"emu/mole\";\n"
     ],
     "language": "python",
     "metadata": {},
     "outputs": [
      {
       "output_type": "stream",
       "stream": "stdout",
       "text": [
        "Atomic susceptibility of Ne atom = -6.830e-06 emu/mole\n"
       ]
      }
     ],
     "prompt_number": 17
    },
    {
     "cell_type": "heading",
     "level": 2,
     "metadata": {},
     "source": [
      "Example 8.7,Page number 249"
     ]
    },
    {
     "cell_type": "code",
     "collapsed": false,
     "input": [
      "import math\n",
      "\n",
      "#Given Data\n",
      "e = 1.6*10**-19;   # Energy equivalent of 1 eV, J/eV\n",
      "h = 6.626*10**-34; # Planck's constant, Js\n",
      "h_cross = h/(2*pi);    # Reduced Planck's constant, Js\n",
      "m = 9.1*10**-31;   # Mass of an electron, kg\n",
      "mu = e*h_cross/(2*m);    # Bohr magneton, J/T\n",
      "mu_H = mu/e;    # Magnetic energy, eV\n",
      "kT = 0.025;    # Energy associated with two degrees of freedom, eV\n",
      "E_ratio = mu_H/kT;  # Exceptional terms in Langevin's function\n",
      "print\"The magnitude of mu*H/(k*T) =\",\"{0:.3e}\".format(E_ratio);\n"
     ],
     "language": "python",
     "metadata": {},
     "outputs": [
      {
       "output_type": "stream",
       "stream": "stdout",
       "text": [
        "The magnitude of mu*H/(k*T) = 2.318e-03\n"
       ]
      }
     ],
     "prompt_number": 20
    },
    {
     "cell_type": "heading",
     "level": 2,
     "metadata": {},
     "source": [
      "Example 8.8,Page number 249"
     ]
    },
    {
     "cell_type": "code",
     "collapsed": false,
     "input": [
      "import math\n",
      "\n",
      "#Given Data\n",
      "mu = 5.78*10**-5;    # Bohr magneton, eV/T\n",
      "NE_F = 0.826;    # Density of states at fermi level, electrons/atom-J\n",
      "chi_Pauli = mu**2*NE_F/10**-4;    # Pauli diamagnetism, cgs units\n",
      "chi_Core = -4.2*10**-6;    # Core diamagnetism, cgs units\n",
      "chi_Landau = -1.0/3*chi_Pauli;    # Landau diamagnetism, cgs units\n",
      "chi_Total = chi_Core+ chi_Pauli+chi_Landau;    # Paramagnetic susceptibility of Mg, cgs units\n",
      "\n",
      "print\"The paramagnetic susceptibility of Mg  =\",\"{0:.3e}\".format(chi_Total),\"cgs units\";\n"
     ],
     "language": "python",
     "metadata": {},
     "outputs": [
      {
       "output_type": "stream",
       "stream": "stdout",
       "text": [
        "The paramagnetic susceptibility of Mg  = 1.420e-05 cgs units\n"
       ]
      }
     ],
     "prompt_number": 22
    },
    {
     "cell_type": "heading",
     "level": 2,
     "metadata": {},
     "source": [
      "Example 8.9,Page number 250"
     ]
    },
    {
     "cell_type": "code",
     "collapsed": false,
     "input": [
      "import math\n",
      "\n",
      "#Given Data\n",
      "e = 1.6*10**-19;   # Energy equivalent of 1 eV, J/eV\n",
      "mu = 9.29*10**-24;    # Bohr magneton, J/T\n",
      "mu_0 = 1.26*10**-6;    # Permeability of free space, Sq. tesla cubic meter per joule\n",
      "E_F= 11.63*e;    # Fermi energy, J\n",
      "N = 6.02*10**28;    # Atomic concentration, atoms per cubic meter \n",
      "chi_Total = 2.2*10**-5;   # Paramagnetic susceptibility of Mg, S.I. units\n",
      "chi_Pauli = 3*N*mu**2*mu_0/(2*E_F);    # Pauli diamagnetism, S.I. units\n",
      "chi_dia = chi_Total - chi_Pauli;    # Diamagnetic contribution to magnetic susceptibility\n",
      "\n",
      "print\"The Pauli spin susceptibility of Al =\",\"{0:.3e}\".format(chi_Pauli),\"S.I. units\";\n",
      "print\"The diamagnetic contribution to magnetic susceptibility of Al =\",\"{0:.3e}\".format(chi_dia),\"S.I. units\";\n"
     ],
     "language": "python",
     "metadata": {},
     "outputs": [
      {
       "output_type": "stream",
       "stream": "stdout",
       "text": [
        "The Pauli spin susceptibility of Al = 5.277e-06 S.I. units\n",
        "The diamagnetic contribution to magnetic susceptibility of Al = 1.672e-05 S.I. units\n"
       ]
      }
     ],
     "prompt_number": 25
    },
    {
     "cell_type": "heading",
     "level": 2,
     "metadata": {},
     "source": [
      "Example 8.10,Page number 250"
     ]
    },
    {
     "cell_type": "code",
     "collapsed": false,
     "input": [
      "import math\n",
      "\n",
      "#Given Data\n",
      "a0 = 5.3;    # Bohr radius, nm\n",
      "rs_a0_ratio = 3.93;     # Ratio of solid radius to the lattice parameter \n",
      "chi_Pauli = 2.59/rs_a0_ratio;    # Pauli's spin susceptibility, cgs units\n",
      "\n",
      "print\"The Pauli spin susceptibility for Na in terms of free electron gas parameter =\",round(chi_Pauli,3);\n"
     ],
     "language": "python",
     "metadata": {},
     "outputs": [
      {
       "output_type": "stream",
       "stream": "stdout",
       "text": [
        "The Pauli spin susceptibility for Na in terms of free electron gas parameter = 0.659\n"
       ]
      }
     ],
     "prompt_number": 27
    },
    {
     "cell_type": "heading",
     "level": 2,
     "metadata": {},
     "source": [
      "Example 8.11,Page number 264"
     ]
    },
    {
     "cell_type": "code",
     "collapsed": false,
     "input": [
      "import math\n",
      "\n",
      "#Given Data\n",
      "S = 2;  # Spin quantum number\n",
      "J = 0;  # Total quantum number\n",
      "L = 2;  # Orbital quantum number\n",
      "g = 2;  # Lande splitting factor\n",
      "print\"The spectroscopic term value of Mn3+ ion =\",2*S+1,\"_D_\",J;\n",
      "# For J = L - S\n",
      "J = L - S;\n",
      "mu_N = g*sqrt(J*(J+1)); # Effective magneton number\n",
      "print\"The effective magneton number for J = L - S is\",mu_N;\n",
      "# For J = S, L = 0 so that\n",
      "L = 0;\n",
      "J = L+S;\n",
      "mu_N = g*sqrt(J*(J+1)); # Effective magneton number\n",
      "print\"The effective magneton number for J = S is\",round(mu_N,2),\"\\nIt is in agreement with the experimental value of 5.0.\";\n"
     ],
     "language": "python",
     "metadata": {},
     "outputs": [
      {
       "output_type": "stream",
       "stream": "stdout",
       "text": [
        "The spectroscopic term value of Mn3+ ion = 5 _D_ 0\n",
        "The effective magneton number for J = L - S is 0.0\n",
        "The effective magneton number for J = S is 4.9 \n",
        "It is in agreement with the experimental value of 5.0.\n"
       ]
      }
     ],
     "prompt_number": 29
    },
    {
     "cell_type": "heading",
     "level": 2,
     "metadata": {},
     "source": [
      "Example 8.12,Page number 264"
     ]
    },
    {
     "cell_type": "code",
     "collapsed": false,
     "input": [
      "import math\n",
      "\n",
      "#Given Data\n",
      "mu = 9.27*10**-24; # Bohr's magneton, J/T\n",
      "N_up = 5;   # Number of electrons with spin up as per Hunds Rule\n",
      "N_down = 1; # Number of electrons with spin down as per Hunds Rule\n",
      "M = mu*(N_up-N_down);     # Net magnetic moment associated with six electrons in the 3d shell, J/T\n",
      " \n",
      "print\"The magnetic moment of 3d electrons of Fe using Hunds rule =\",M/mu,\"Bohr magnetons\";\n"
     ],
     "language": "python",
     "metadata": {},
     "outputs": [
      {
       "output_type": "stream",
       "stream": "stdout",
       "text": [
        "The magnetic moment of 3d electrons of Fe using Hunds rule = 4.0 Bohr magnetons\n"
       ]
      }
     ],
     "prompt_number": 31
    },
    {
     "cell_type": "heading",
     "level": 2,
     "metadata": {},
     "source": [
      "Example 8.13,Page number 264"
     ]
    },
    {
     "cell_type": "code",
     "collapsed": false,
     "input": [
      "import math\n",
      "\n",
      "#Given Data\n",
      "C = [[1,2,3,4],[5,6,7,8],[9,10,11,12]];\n",
      "# Enter compound names\n",
      "C[0][0] = 'LaCrO3';\n",
      "C[1][0] = 'LaMnO3';\n",
      "C[2][0] = 'LaCoO3';\n",
      "# Enter Magnetic moments from Hunds rule\n",
      "C[0][1] = 3.0;\n",
      "C[1][1] = 4.0;\n",
      "C[2][1] = 5.0;\n",
      "# Enter Magnetic moments from Band theory\n",
      "C[0][2] = 2.82;\n",
      "C[1][2] = 3.74;\n",
      "C[2][2] = 4.16;\n",
      "# Enter Magnetic moments from the Experiment\n",
      "C[0][3] = 2.80;\n",
      "C[1][3] = 3.90;\n",
      "C[2][3] = 4.60;\n",
      "print\"__________________________________________________\";\n",
      "print\"Compound  Magnetic moment per formula unit (in BM)  \";\n",
      "print\"          ________________________________________\";\n",
      "print\"          Hunds Rule   Band Theory    Experiment\";\n",
      "print\"__________________________________________________\";\n",
      "for i in range (0,3) :\n",
      "    print\"\",C[i][0],\"    \",C[i][1],\"       \",C[i][2],\"          \",C[i][3]\n",
      "print\"__________________________________________________\";\n"
     ],
     "language": "python",
     "metadata": {},
     "outputs": [
      {
       "output_type": "stream",
       "stream": "stdout",
       "text": [
        "__________________________________________________\n",
        "Compound  Magnetic moment per formula unit (in BM)  \n",
        "          ________________________________________\n",
        "          Hunds Rule   Band Theory    Experiment\n",
        "__________________________________________________\n",
        " LaCrO3      3.0         2.82            2.8\n",
        " LaMnO3      4.0         3.74            3.9\n",
        " LaCoO3      5.0         4.16            4.6\n",
        "__________________________________________________\n"
       ]
      }
     ],
     "prompt_number": 7
    },
    {
     "cell_type": "heading",
     "level": 2,
     "metadata": {},
     "source": [
      "Example 8.14,Page number 268"
     ]
    },
    {
     "cell_type": "code",
     "collapsed": false,
     "input": [
      "import math\n",
      "\n",
      "#Given Data\n",
      "C = [[1,2,3,4],[5,6,7,8],[9,10,11,12],[13,14,15,16]];\n",
      "# Enter compound names\n",
      "C[0][0] = 'LaTiO3';\n",
      "C[1][0] = 'LaCrO3';\n",
      "C[2][0] = 'LaFeO3';\n",
      "C[3][0] = 'LaCoO3';\n",
      "# Enter total energy difference w.r.t. ground state for Paramagnetics, mRyd\n",
      "C[0][1] = 0.014;\n",
      "C[1][1] = 158.3;\n",
      "C[2][1] = 20.69;\n",
      "C[3][1] = 0.000;\n",
      "# Enter total energy difference w.r.t. ground state for Ferromagnetics, mRyd\n",
      "C[0][2] = 0.034;\n",
      "C[1][2] = 13.99;\n",
      "C[2][2] = 0.006;\n",
      "C[3][2] = 0.010;\n",
      "# Enter total energy difference w.r.t. ground state for Antiferromagnetics, mRyd\n",
      "C[0][3] = 0.000;\n",
      "C[1][3] = 0.000;\n",
      "C[2][3] = 0.000;\n",
      "C[3][3] = 0.003;\n",
      "print\"______________________________________________________________\";\n",
      "print\"Solid     Total energy difference (mRyd) (w.r.t. ground state)\";\n",
      "print\"          ____________________________________________________\";\n",
      "print\"            Paramagnetic    Ferromagnetic   Antiferromagnetic \";\n",
      "print\"______________________________________________________________\";\n",
      "for i in range (0,4) :\n",
      "    print\"\",C[i][0],\"      \",C[i][1],\"         \",C[i][2],\"          \",C[i][3]\n",
      "print\"______________________________________________________________\";\n",
      "print\"All the solids given above crystallize in the antiferromagnetic state except that of LaCoO3.\";\n"
     ],
     "language": "python",
     "metadata": {},
     "outputs": [
      {
       "output_type": "stream",
       "stream": "stdout",
       "text": [
        "______________________________________________________________\n",
        "Solid     Total energy difference (mRyd) (w.r.t. ground state)\n",
        "          ____________________________________________________\n",
        "            Paramagnetic    Ferromagnetic   Antiferromagnetic \n",
        "______________________________________________________________\n",
        " LaTiO3        0.014           0.034            0.0\n",
        " LaCrO3        158.3           13.99            0.0\n",
        " LaFeO3        20.69           0.006            0.0\n",
        " LaCoO3        0.0           0.01            0.003\n",
        "______________________________________________________________\n",
        "All the solids given above crystallize in the antiferromagnetic state except that of LaCoO3.\n"
       ]
      }
     ],
     "prompt_number": 4
    },
    {
     "cell_type": "code",
     "collapsed": false,
     "input": [],
     "language": "python",
     "metadata": {},
     "outputs": []
    }
   ],
   "metadata": {}
  }
 ]
}