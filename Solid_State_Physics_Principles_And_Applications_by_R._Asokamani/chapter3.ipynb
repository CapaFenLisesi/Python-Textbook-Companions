{
 "metadata": {
  "name": "",
  "signature": "sha256:ab6a8819ae55a050f752b7af592620b211f459f05ec8dc687c071a119643f8a0"
 },
 "nbformat": 3,
 "nbformat_minor": 0,
 "worksheets": [
  {
   "cells": [
    {
     "cell_type": "heading",
     "level": 1,
     "metadata": {},
     "source": [
      "Chapter 3: Specific Heat of Solids and\n",
      "Lattice Vibrations"
     ]
    },
    {
     "cell_type": "heading",
     "level": 2,
     "metadata": {},
     "source": [
      "Example 3.1,Page number 79"
     ]
    },
    {
     "cell_type": "code",
     "collapsed": false,
     "input": [
      "import math\n",
      "\n",
      "#Given Data\n",
      "V0 = 9.1*10**-5;   # Atomic volume of Pb, metre cube per kg\n",
      "K = 2.3*10**-11;   # Compressibility of Pb, metre square per newton\n",
      "alpha = 86*10**-6; # Coefficient of thermal expansion, per K\n",
      "Cv = 1.4*10**2;   # Specific heat at constant volume, J/kg\n",
      "gama = alpha*V0/(K*Cv);    # Grunesien parameter for Pb\n",
      "print\"The Grunesien parameter for Pb = \",round(gama,3);\n"
     ],
     "language": "python",
     "metadata": {},
     "outputs": [
      {
       "output_type": "stream",
       "stream": "stdout",
       "text": [
        "The Grunesien parameter for Pb =  2.43\n"
       ]
      }
     ],
     "prompt_number": 2
    },
    {
     "cell_type": "heading",
     "level": 2,
     "metadata": {},
     "source": [
      "Example 3.2,Page number 79"
     ]
    },
    {
     "cell_type": "code",
     "collapsed": false,
     "input": [
      "import math\n",
      "\n",
      "#Given Data\n",
      "V0 = 11*10**-5;   # Atomic volume of Cu, metre cube per kg\n",
      "K = 0.75*10**-11;   # Compressibility of Cu, metre square per newton\n",
      "alpha = 49*10**-6; # Coefficient of thermal expansion, per K\n",
      "gama = 1.9;     # The Grunesien parameter for Cu = 2.4 \n",
      "Cv = alpha*V0/(K*gama);   # Specific heat of Cu at constant volume, J/kg\n",
      "print\"The specific heat capacity of Cu = \",round(Cv,3),\"J/kg\";\n"
     ],
     "language": "python",
     "metadata": {},
     "outputs": [
      {
       "output_type": "stream",
       "stream": "stdout",
       "text": [
        "The specific heat capacity of Cu =  378.246 J/kg\n"
       ]
      }
     ],
     "prompt_number": 5
    },
    {
     "cell_type": "heading",
     "level": 2,
     "metadata": {},
     "source": [
      "Example 3.3,Page number 88"
     ]
    },
    {
     "cell_type": "code",
     "collapsed": false,
     "input": [
      "import math\n",
      "\n",
      "#Given Data\n",
      "\n",
      "N = 6.02*10**26;  # Avogadro's number, per kmole\n",
      "C_t = 6.32*10**3;     # Velocity of transverse wave, m/s\n",
      "C_l = 3.1*10**3;     # Velocity of longitudinal wave, m/s\n",
      "rho = 2.7*10**3;     # Density of Al, kg per metre cube\n",
      "M = 26.97;  # Atomic weight of Al, gram per mol\n",
      "V = M/rho;  # Atomic volume of Al, metre cube\n",
      "f_c = (9*N/(4*pi*V*(1.0/C_t**3+2.0/C_l**3)))**(1.0/3);\n",
      "print\"The Debye cut-off frequency of Al = \",\"{0:.3e}\".format(f_c),\"per sec\";\n"
     ],
     "language": "python",
     "metadata": {},
     "outputs": [
      {
       "output_type": "stream",
       "stream": "stdout",
       "text": [
        "The Debye cut-off frequency of Al =  8.468e+12 per sec\n"
       ]
      }
     ],
     "prompt_number": 10
    },
    {
     "cell_type": "heading",
     "level": 2,
     "metadata": {},
     "source": [
      "Example 3.4,Page number 89"
     ]
    },
    {
     "cell_type": "code",
     "collapsed": false,
     "input": [
      "import math\n",
      "\n",
      "#Given Data\n",
      "\n",
      "N = 6.02*10**23;  # Avogadro's number, per mole\n",
      "k = 1.38*10**-23;  # Boltzmann constant, J/K\n",
      "R = N*k;    # Molar gas constant, J/mol/K\n",
      "theta_D = 2230;        # Debye temperature for diamond, K\n",
      "T = 300.0;        # Room temperature, K\n",
      "C_v = 12.0/5*(pi**4*R)*(T/theta_D)**3; # Specific heat capacity per unit volume of diamond, J/mol-K\n",
      "print\"The heat capacity per unit volume of diamond = \",round(C_v,3),\"J/mol-K\";\n"
     ],
     "language": "python",
     "metadata": {},
     "outputs": [
      {
       "output_type": "stream",
       "stream": "stdout",
       "text": [
        "The heat capacity per unit volume of diamond =  4.729 J/mol-K\n"
       ]
      }
     ],
     "prompt_number": 13
    },
    {
     "cell_type": "heading",
     "level": 2,
     "metadata": {},
     "source": [
      "Example 3.5,Page number 89"
     ]
    },
    {
     "cell_type": "code",
     "collapsed": false,
     "input": [
      "import math\n",
      "\n",
      "#Given Data\n",
      "\n",
      "k = 1.38*10**-23;  # Boltzmann constant, J/K\n",
      "theta_D = 1440.0;        # Debye temperature for Be, K\n",
      "h = 6.626*10**-34;     # Planck's constant, Js\n",
      "f_D = k*theta_D/h;      # Debye cut off frequency of Be, Hz\n",
      "print\"The Debye cut off frequency of Be = \",\"{0:.3e}\".format(f_D),\"sec\";\n"
     ],
     "language": "python",
     "metadata": {},
     "outputs": [
      {
       "output_type": "stream",
       "stream": "stdout",
       "text": [
        "The Debye cut off frequency of Be =  2.999e+13 sec\n"
       ]
      }
     ],
     "prompt_number": 15
    },
    {
     "cell_type": "heading",
     "level": 2,
     "metadata": {},
     "source": [
      "Example 3.6,Page number 89"
     ]
    },
    {
     "cell_type": "code",
     "collapsed": false,
     "input": [
      "import math\n",
      "\n",
      "#Given Data\n",
      "N = 6.023*10**23; # Avogadro's number, per kmol\n",
      "e = 1.6*10**-19;   # Energy equivalent of 1 eV, J/eV\n",
      "k = 1.38*10**-23;  # Boltzmann constant, J/K\n",
      "R = N*k;    # Molar gas constant, J/kmol/K\n",
      "E_F = 7;    # Fermi energy of Cu, eV\n",
      "theta_D = 348.0;  # Debye temperature of Cu, K\n",
      "T = 300.0;    # Room temperature, K\n",
      "T_F = E_F/k;    # Fermi temperature of Cu, K\n",
      "C_e = pi**2/2*R*10**3*(T/(T_F*e));    # Electronic heat capacity of Cu, J/kmol/K\n",
      "C_l = 12.0/5*(pi**4*R)*(T/theta_D)**3;     # Lattice heat capacity of Cu, J/kmol/K\n",
      "print\"The electronic heat capacity of Cu = \",round(C_e,3),\"J/kmol/K\";\n",
      "print\"The lattice heat capacity of Cu = \",round(C_l,3),\"J/mol/K\";\n"
     ],
     "language": "python",
     "metadata": {},
     "outputs": [
      {
       "output_type": "stream",
       "stream": "stdout",
       "text": [
        "The electronic heat capacity of Cu =  151.616 J/kmol/K\n",
        "The lattice heat capacity of Cu =  1244.884 J/mol/K\n"
       ]
      }
     ],
     "prompt_number": 20
    },
    {
     "cell_type": "heading",
     "level": 2,
     "metadata": {},
     "source": [
      "Example 3.7,Page number 90"
     ]
    },
    {
     "cell_type": "code",
     "collapsed": false,
     "input": [
      "import math\n",
      "\n",
      "#Given Data\n",
      "N = 6.023*10**23; # Avogadro's number, per kmol\n",
      "e = 1.602*10**-19;   # Energy equivalent of 1 eV, J/eV\n",
      "k = 1.38*10**-23;  # Boltzmann constant, J/K\n",
      "R = N*k;    # Molar gas constant, J/kmol/K\n",
      "E_F = 7.0;    # Fermi energy of Cu, eV\n",
      "theta_D = 348.0;  # Debye temperature of Cu, K\n",
      "T = 0.01;    # Room temperature, K\n",
      "T_F = E_F/k;    # Fermi temperature of Cu, K\n",
      "C_e = pi**2/2*R*(T/(T_F*e));    # Electronic heat capacity of Cu, J/mol/K\n",
      "C_l = 12.0/5*(pi**4*R)*(T/theta_D)**3;     # Lattice heat capacity of Cu, J/kmol/K\n",
      "print\"The electronic heat capacity of Cu = \",\"{0:.3e}\".format(C_e),\"J/mol/K\";\n",
      "print\"The lattice heat capacity of Cu = \",\"{0:.3e}\".format(C_l),\"J/mol/K\";\n"
     ],
     "language": "python",
     "metadata": {},
     "outputs": [
      {
       "output_type": "stream",
       "stream": "stdout",
       "text": [
        "The electronic heat capacity of Cu =  5.048e-06 J/mol/K\n",
        "The lattice heat capacity of Cu =  4.611e-11 J/mol/K\n"
       ]
      }
     ],
     "prompt_number": 22
    },
    {
     "cell_type": "heading",
     "level": 2,
     "metadata": {},
     "source": [
      "Example 3.8,Page number 90"
     ]
    },
    {
     "cell_type": "code",
     "collapsed": false,
     "input": [
      "import math\n",
      "\n",
      "#Given Data\n",
      "N = 6.023*10**23; # Avogadro's number, per kmol\n",
      "e = 1.602*10**-19;   # Energy equivalent of 1 eV, J/eV\n",
      "k = 1.38*10**-23;  # Boltzmann constant, J/K\n",
      "R = N*k;    # Molar gas constant, J/kmol/K\n",
      "E_F = 3.2;    # Fermi energy of Cu, eV\n",
      "theta_D = 150.0;  # Debye temperature of Cu, K\n",
      "T = 20.0;    # Given temperature, K\n",
      "T_F = E_F/k;    # Fermi temperature of Cu, K\n",
      "C_e = pi**2/2*R*(T/(T_F*e));    # Electronic heat capacity of Cu, J/mol/K\n",
      "C_l = 12.0/5*(pi**4*R)*(T/theta_D)**3;     # Lattice heat capacity of Cu, J/kmol/K\n",
      "print\"The electronic heat capacity of Na = \",\"{0:.3e}\".format(C_e),\"J/mol/K\";\n",
      "print\"The lattice heat capacity of Na = \",round(C_l,4),\"J/mol/K\";\n"
     ],
     "language": "python",
     "metadata": {},
     "outputs": [
      {
       "output_type": "stream",
       "stream": "stdout",
       "text": [
        "The electronic heat capacity of Na =  2.208e-02 J/mol/K\n",
        "The lattice heat capacity of Na =  4.6059 J/mol/K\n"
       ]
      }
     ],
     "prompt_number": 26
    },
    {
     "cell_type": "heading",
     "level": 2,
     "metadata": {},
     "source": [
      "Example 3.9,Page number 91"
     ]
    },
    {
     "cell_type": "code",
     "collapsed": false,
     "input": [
      "import math\n",
      "\n",
      "#Given Data\n",
      "N = 6.023*10**23; # Avogadro's number, per kmol\n",
      "e = 1.602*10**-19;   # Energy equivalent of 1 eV, J/eV\n",
      "k = 1.38*10**-23;  # Boltzmann constant, J/K\n",
      "R = N*k;    # Molar gas constant, J/kmol/K\n",
      "E_F = 3.2;    # Fermi energy of Hf, eV\n",
      "theta_D = 242.0;  # Debye temperature of Hf, K\n",
      "T_F = E_F/k;    # Fermi temperature of Hf, K\n",
      "T = [300.0, 200.0, 100.0, 10.0, 5.0]; # Declare a vector of 5 temperature values, K\n",
      "print\"________________________\";\n",
      "print\"T(K)      C_l (J/kmol/K)\";\n",
      "print\"________________________\";\n",
      "for i in xrange(len(T)):\n",
      "    C_l = 12.0/5*(pi**4*R)*(T[i]/theta_D)**3;     # Lattice heat capacity of Hf, J/kmol/K    \n",
      "    print\"\",T[i],\"    \",round(C_l,3);\n",
      "print\"________________________\"\n"
     ],
     "language": "python",
     "metadata": {},
     "outputs": [
      {
       "output_type": "stream",
       "stream": "stdout",
       "text": [
        "________________________\n",
        "T(K)      C_l (J/kmol/K)\n",
        "________________________\n",
        " 300.0      3701.863\n",
        " 200.0      1096.848\n",
        " 100.0      137.106\n",
        " 10.0      0.137\n",
        " 5.0      0.017\n",
        "________________________\n"
       ]
      }
     ],
     "prompt_number": 12
    },
    {
     "cell_type": "heading",
     "level": 2,
     "metadata": {},
     "source": [
      "Example 3.10,Page number 91"
     ]
    },
    {
     "cell_type": "code",
     "collapsed": false,
     "input": [
      "import math\n",
      "\n",
      "#Given Data\n",
      "N = 6.023*10**23; # Avogadro's number, per kmol\n",
      "e = 1.602*10**-19;   # Energy equivalent of 1 eV, J/eV\n",
      "k = 1.38*10**-23;  # Boltzmann constant, J/K\n",
      "R = N*k;    # Molar gas constant, J/kmol/K\n",
      "E_F = 7.0;    # Fermi energy of Hf, eV\n",
      "theta_D = 343.0;  # Debye temperature of Hf, K\n",
      "T_F = E_F/k;    # Fermi temperature of Hf, K\n",
      "# As C_l = 12/5*(pi**4*R)*(T/theta_D)**3 and C_e = pi**2/2*R*(T/(T_F*e)) so that\n",
      "# For C_l = C_e, we have\n",
      "T = sqrt((pi**2/2*R*1/(T_F*e))/(12.0/5*pi**4*R)*theta_D**3); # Required temperature when C_l = C_e, K\n",
      "print\"The temperature at which lattice specific heat equals electronic specific heat for Cu =\",round(T,3),\"K\";\n"
     ],
     "language": "python",
     "metadata": {},
     "outputs": [
      {
       "output_type": "stream",
       "stream": "stdout",
       "text": [
        "The temperature at which lattice specific heat equals electronic specific heat for Cu = 3.238 K\n"
       ]
      }
     ],
     "prompt_number": 15
    },
    {
     "cell_type": "heading",
     "level": 2,
     "metadata": {},
     "source": [
      "Example 3.11,Page number 92"
     ]
    },
    {
     "cell_type": "code",
     "collapsed": false,
     "input": [
      "import math\n",
      "\n",
      "#Given Data\n",
      "C11 = 1.08*10**12; C12 = 0.62*10**12; C44 = 0.28*10**12;     # Elastic constants of Al, dynes/cm square\n",
      "a = 4.05*10**-8;   # Lattice constant for Al cubic structure, cm\n",
      "rho = 2.70;     # g/cm cube \n",
      "k = 1.38*10**-23;  # Boltzmann constant, J/K\n",
      "h = 6.626*10**-34; # Planck's constant, Js\n",
      "s = 4.0;  # Number of atoms in Al unit cell\n",
      "Va = a**3;   # Volume of unit cell, cm cube\n",
      "theta_D =(3.15/(8*pi)*(h/k)**3*s/(rho**(3.0/2)*Va)*(C11-C12)**(1.0/2)*(C11+C12+2*C44)**(1.0/2)*C44**(1.0/2))**(1.0/3);\n",
      "print\"The Debye temperature of Al =\",round(theta_D,3),\"K\";\n"
     ],
     "language": "python",
     "metadata": {},
     "outputs": [
      {
       "output_type": "stream",
       "stream": "stdout",
       "text": [
        "The Debye temperature of Al = 466.605 K\n"
       ]
      }
     ],
     "prompt_number": 20
    },
    {
     "cell_type": "heading",
     "level": 2,
     "metadata": {},
     "source": [
      "Example 3.12,Page number 93"
     ]
    },
    {
     "cell_type": "code",
     "collapsed": false,
     "input": [
      "import math\n",
      "\n",
      "#Given Data\n",
      "k = 1.38*10**-23;  # Boltzmann constant, J/K\n",
      "h = 6.626*10**-34; # Planck's constant, Js\n",
      "A =[[1,2,3,4,5,6,7,8],[9,10,11,12,13,14,15,16]];  # Declare a matrix of 2X8\n",
      "A[0][0] = 'Cu';\n",
      "A[0][1] = 1.684*10**12;\n",
      "A[0][2] = 1.214*10**12;\n",
      "A[0][3] = 0.754*10**12;\n",
      "A[0][4] = 4;\n",
      "A[0][5] = 3.61*10**-8;\n",
      "A[0][6] = 8.96;\n",
      "A[1][0] = 'Na';\n",
      "A[1][1] = 0.055*10**12;\n",
      "A[1][2] = 0.047*10**12;\n",
      "A[1][3] = 0.049*10**12;\n",
      "A[1][4] = 2;\n",
      "A[1][5] = 4.225*10**-8;\n",
      "A[1][6] = 0.971;\n",
      "\n",
      "# For Cu\n",
      "Va = A[0][5]**3;   # Volume of unit cell, cm cube\n",
      "A[0][7]  = (3.15/(8*pi)*(h/k)**3*A[0][4]/(A[0][6]**(3.0/2)*Va)*(A[0][1]-A[0][2])**(1.0/2)*(A[0][1]+A[0][2]+2*A[0][3])**(1.0/2)*A[0][3]**(1.0/2))**(1.0/3);\n",
      "\n",
      "# For Na\n",
      "Va =A[1][5]**3;   # Volume of unit cell, cm cube\n",
      "A[1][7] = (3.15/(8*pi)*(h/k)**3*A[1][4]/(A[1][6]**(3.0/2)*Va)*(A[1][1]-A[1][2])**(1.0/2)*(A[1][1]+A[1][2]+2*A[1][3])**(1.0/2)*A[1][3]**(1.0/2))**(1.0/3);\n",
      "\n",
      "print\"________________________________________\";\n",
      "print\"Metal     C11     C12     C44     thetaD\";\n",
      "print\"________________________________________\";\n",
      "for  i in range (0,2) :\n",
      "    print\"\",A[i][0],\"   \",A[i][1]/10**12,\"  \",A[i][2]/10**12,\"  \",A[i][3]/10**12,\"  \",round(A[i][7],2);\n",
      "print\"________________________________________\";\n"
     ],
     "language": "python",
     "metadata": {},
     "outputs": [
      {
       "output_type": "stream",
       "stream": "stdout",
       "text": [
        "________________________________________\n",
        "Metal     C11     C12     C44     thetaD\n",
        "________________________________________\n",
        " Cu     1.684    1.214    0.754    380.2\n",
        " Na     0.055    0.047    0.049    150.44\n",
        "________________________________________\n"
       ]
      }
     ],
     "prompt_number": 6
    },
    {
     "cell_type": "heading",
     "level": 2,
     "metadata": {},
     "source": [
      "Example 3.13,Page number 93"
     ]
    },
    {
     "cell_type": "code",
     "collapsed": false,
     "input": [
      "import math\n",
      "\n",
      "#Given Data\n",
      "k = 1.38*10**-23;  # Boltzmann constant, J/K\n",
      "h = 6.626*10**-34; # Planck's constant, Js\n",
      "A =[[1,2,3,4,5],[6,7,8,9,10],[11,12,13,14,15],[16,17,18,19,20]];  # Declare a matrix of 4X5\n",
      "A[0][0] = 300;\n",
      "A[0][1] = 0.878*10**10;\n",
      "A[0][2] = 0.483*10**10;\n",
      "A[0][3] = 0.448*10**10;\n",
      "A[1][0] = 200;\n",
      "A[1][1] = 0.968*10**10;\n",
      "A[1][2] = 0.508*10**10;\n",
      "A[1][3] = 0.512*10**10;\n",
      "A[2][0] = 100;\n",
      "A[2][1] = 1.050*10**10;\n",
      "A[2][2] = 0.540*10**10;\n",
      "A[2][3] = 0.579*10**10;\n",
      "A[3][0] = 20;\n",
      "A[3][1] = 1.101*10**10;\n",
      "A[3][2] = 0.551*10**10;\n",
      "A[3][3] = 0.624*10**10;\n",
      "s = 2;      # Number of atoms in a unit cell\n",
      "a = 4.225*10**-10;  # Lattice parameter of Na, m\n",
      "rho = 0.971*10**3;    # Density of Na, kg/metre-cube\n",
      "Va = a**3;   # Volume of unit cell, metre cube\n",
      "print\"________________________________________\";\n",
      "print\"T       C11     C12     C44     thetaD\"\n",
      "print\"________________________________________\";\n",
      "for i in range (0,4) :\n",
      "    A[i][4] = (3.15/(8*pi)*(h/k)**3*s/(rho**(3.0/2)*Va)*(A[i][1]-A[i][2])**(1.0/2)*(A[i][1]+A[i][2]+2*A[i][3])**(1.0/2)*A[i][3]**(1.0/2))**(1.0/3);\n",
      "    print\"\",A[i][0],\" \",A[i][1]/10**10,\" \",A[i][2]/10**10,\" \",A[i][3]/10**10,\" \",round(A[i][4],2);\n",
      "\n",
      "print\"________________________________________\";\n"
     ],
     "language": "python",
     "metadata": {},
     "outputs": [
      {
       "output_type": "stream",
       "stream": "stdout",
       "text": [
        "________________________________________\n",
        "T       C11     C12     C44     thetaD\n",
        "________________________________________\n",
        " 300   0.878   0.483   0.448   197.33\n",
        " 200   0.968   0.508   0.512   210.52\n",
        " 100   1.05   0.54   0.579   222.08\n",
        " 20   1.101   0.551   0.624   229.77\n",
        "________________________________________\n"
       ]
      }
     ],
     "prompt_number": 15
    },
    {
     "cell_type": "heading",
     "level": 2,
     "metadata": {},
     "source": [
      "Example 3.14,Page number 93"
     ]
    },
    {
     "cell_type": "code",
     "collapsed": false,
     "input": [
      "import math\n",
      "import scipy\n",
      "from scipy.integrate import quad\n",
      "\n",
      "#Given Data\n",
      "Lu =[[1,2,3,4,5],[6,7,8,9,10],[11,12,13,14,15],[16,17,18,19,20],[21,22,23,24,25],[26,27,28,29,30]];  # Declare a matrix of 6X5\n",
      "Lu[0][0] = 0;\n",
      "Lu[0][1] = 5.58;\n",
      "Lu[0][2] = 3.517;\n",
      "Lu[0][4] = 0.750;\n",
      "Lu[1][0] = 36;\n",
      "Lu[1][1] = 5.409;\n",
      "Lu[1][2] = 3.440;\n",
      "Lu[1][4] = 0.560;\n",
      "Lu[2][0] = 103;\n",
      "Lu[2][1] = 5.213;\n",
      "Lu[2][2] = 3.341;\n",
      "Lu[2][4] = 0.492;\n",
      "Lu[3][0] = 157;\n",
      "Lu[3][1] = 5.067;\n",
      "Lu[3][2] = 3.259;\n",
      "Lu[3][4] = 0.388;\n",
      "Lu[4][0] = 191;\n",
      "Lu[4][1] = 4.987;\n",
      "Lu[4][2] = 3.217;\n",
      "Lu[4][4] = 0.357;\n",
      "Lu[5][0] = 236;\n",
      "Lu[5][1] = 4.921;\n",
      "Lu[5][2] = 3.179;\n",
      "Lu[5][4] = 0.331;\n",
      "V0 = 3*sqrt(3)/2*Lu[0][2]**2*Lu[0][1];\n",
      "V = [0,0,0,0,0,0];   # Declare volume array\n",
      "print\"______________________________________________________________\";\n",
      "print\"P(kbar)    c(angstrom)     a(angstrom)     gamma_G        nu_G   \";\n",
      "print\"______________________________________________________________\";\n",
      "for i in range (0,6) :\n",
      "    V[i] = 3*sqrt(3)/2*Lu[i][2]**2*Lu[i][1];\n",
      "    Lu[i][3] = Lu[i][4]*V[i]/V0+2.0/3*(1-V[i]/V0)**(1.0/2);\n",
      "    print\"\",Lu[i][0],\"        \",Lu[i][1],\"         \",Lu[i][2],\"         \",round(Lu[i][3],3),\"       \",Lu[i][4];\n",
      "\n",
      "print\"______________________________________________________________\";\n",
      "\n",
      "cnt = 0;\n",
      "print\"________________________\";\n",
      "print\"P(kbar)       Theta_D(K)\";\n",
      "print\"________________________\";\n",
      "for i in range (0,6) :\n",
      "    def integrand(x, a, b):\n",
      "        return (-1*Lu[i][4]*(exp(x)/V0)-(2.0/3)*(1-exp(x)/V0)**(1.0/2))\n",
      "    a=1;\n",
      "    b=1;\n",
      "    I = quad(integrand,-0.8+cnt,log(V[i]/1000000), args=(a,b));\n",
      "    theta_D = exp(I);\n",
      "    cnt = cnt + 0.01;\n",
      "    print\"\",Lu[i][0],\"              \",round(theta_D[0],0);\n",
      "\n",
      "print\"________________________\";\n"
     ],
     "language": "python",
     "metadata": {},
     "outputs": [
      {
       "output_type": "stream",
       "stream": "stdout",
       "text": [
        "______________________________________________________________\n",
        "P(kbar)    c(angstrom)     a(angstrom)     gamma_G        nu_G   \n",
        "______________________________________________________________\n",
        " 0          5.58           3.517           0.75         0.75\n",
        " 36          5.409           3.44           0.699         0.56\n",
        " 103          5.213           3.341           0.679         0.492\n",
        " 157          5.067           3.259           0.615         0.388\n",
        " 191          4.987           3.217           0.602         0.357\n",
        " 236          4.921           3.179           0.591         0.331\n",
        "______________________________________________________________\n",
        "________________________\n",
        "P(kbar)       Theta_D(K)\n",
        "________________________\n",
        " 0                185.0\n",
        " 36                195.0\n",
        " 103                210.0\n",
        " 157                222.0\n",
        " 191                230.0\n",
        " 236                237.0\n",
        "________________________\n"
       ]
      }
     ],
     "prompt_number": 17
    },
    {
     "cell_type": "heading",
     "level": 2,
     "metadata": {},
     "source": [
      "Example 3.15,Page number 94"
     ]
    },
    {
     "cell_type": "code",
     "collapsed": false,
     "input": [
      "import math\n",
      "\n",
      "#GIven Data\n",
      "T_M = 1356.0;     # Melting temperature of Cu, K\n",
      "V = 7.114;      # Atomic volume of Cu, cm cube per g-atom\n",
      "M = 63.5;       # atomic weight of Cu, g/mole\n",
      "K = 138.5;      # Lindemann constant\n",
      "theta_M = K*(T_M/M)**(1.0/2)*(1/V)**(1.0/3); # Debye temperature by Lindemann method, K\n",
      "\n",
      "print\"The Debye temperature by Lindemann method =\",round(theta_M,3),\"K\";\n",
      "print\"The values obtained from other methods are:\";\n",
      "print\"theta_s = 342 K;      theta_R = 336 K;        theta_E = 345 K\";\n"
     ],
     "language": "python",
     "metadata": {},
     "outputs": [
      {
       "output_type": "stream",
       "stream": "stdout",
       "text": [
        "The Debye temperature by Lindemann method = 332.778 K\n",
        "The values obtained from other methods are:\n",
        "theta_s = 342 K;      theta_R = 336 K;        theta_E = 345 K\n"
       ]
      }
     ],
     "prompt_number": 27
    },
    {
     "cell_type": "heading",
     "level": 2,
     "metadata": {},
     "source": [
      "Example 3.16,Page number 100"
     ]
    },
    {
     "cell_type": "code",
     "collapsed": false,
     "input": [
      "import math\n",
      "\n",
      "#Given Data\n",
      "N_A = 6.023*10**23;       # Avogadro's number\n",
      "c = 3.0*10**8;    # Speed of light, m/s\n",
      "epsilon_0 = 15.0; # Dielectric constant of the medium\n",
      "m = 2.0*10**-22;       # Mass of ion, g\n",
      "e = 4.8*10**-10;   # Charge on the ion, C\n",
      "rho = 7.0;    # Average density of solid, g/cc\n",
      "A = 120.0;    # Average atomic weight of solid, g\n",
      "N = rho/A*N_A;  # Number of ions per cc, per cm cube\n",
      "f_P = 1/(2*pi)*sqrt(4*pi*N*e**2/(m*epsilon_0));      # Plasma frequency of vibrating ions in the crystal, Hz\n",
      "lamda_P = c/f_P;   # Plasma wavelength of vibrating ions in the crystal, cm\n",
      "print\"The plasma frequency of vibrating ions in InSb crystal = \",\"{0:.3e}\".format(f_P),\"Hz\";\n",
      "print\"The plasma wavelength of vibrating ions in InSb crystal =\",round(lamda_P/10**-6,3),\"micron\";\n",
      "print\"The calculated frequency lies in the infrared region.\";\n"
     ],
     "language": "python",
     "metadata": {},
     "outputs": [
      {
       "output_type": "stream",
       "stream": "stdout",
       "text": [
        "The plasma frequency of vibrating ions in InSb crystal =  9.268e+11 Hz\n",
        "The plasma wavelength of vibrating ions in InSb crystal = 323.706 micron\n",
        "The calculated frequency lies in the infrared region.\n"
       ]
      }
     ],
     "prompt_number": 25
    },
    {
     "cell_type": "heading",
     "level": 2,
     "metadata": {},
     "source": [
      "Example 3.17,Page number 103"
     ]
    },
    {
     "cell_type": "code",
     "collapsed": false,
     "input": [
      "import math\n",
      "\n",
      "#Given Data\n",
      "\n",
      "h = 6.624*10**-34;     # Planck's constant, Js\n",
      "k = 1.38*10**-23;  # Boltzmann constant, J/mol/K\n",
      "q = 1.486*10**11;     # Young's modulus of diamond, N/metre-square\n",
      "rho = 3500;     # Density of diamond, kg/metre-cube\n",
      "c = sqrt(q/rho);    # Speed of transverse wave through diamond, m/s\n",
      "m = 12*1.66*10**-27;      # Atomic weight of carbon, kg\n",
      "theta_D = (h/k)*c*(3*rho/(4*pi*m))**(1.0/3);    # Debye temperature for diamond, K\n",
      "print\"The Debye temperature for diamond =\",round(theta_D,3),\"K\";\n"
     ],
     "language": "python",
     "metadata": {},
     "outputs": [
      {
       "output_type": "stream",
       "stream": "stdout",
       "text": [
        "The Debye temperature for diamond = 1086.709 K\n"
       ]
      }
     ],
     "prompt_number": 22
    },
    {
     "cell_type": "code",
     "collapsed": false,
     "input": [],
     "language": "python",
     "metadata": {},
     "outputs": []
    }
   ],
   "metadata": {}
  }
 ]
}