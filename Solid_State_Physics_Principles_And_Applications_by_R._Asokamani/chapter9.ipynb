{
 "metadata": {
  "name": "",
  "signature": "sha256:b4117c20c65c9d0e0ed117019f9f9b853eec6f9bf1a68fc9915ad4bb5eef3755"
 },
 "nbformat": 3,
 "nbformat_minor": 0,
 "worksheets": [
  {
   "cells": [
    {
     "cell_type": "heading",
     "level": 1,
     "metadata": {},
     "source": [
      "Chapter 9: Superconductivity"
     ]
    },
    {
     "cell_type": "heading",
     "level": 2,
     "metadata": {},
     "source": [
      "Example 9.1,Page number 278"
     ]
    },
    {
     "cell_type": "code",
     "collapsed": false,
     "input": [
      "import math\n",
      "\n",
      "#Given Data\n",
      "\n",
      "H_c0 = 0.0803;    # Critical field at absolute zero, Tesla\n",
      "T_c = 7.19;    # Transition temperature of specimen  lead, Kelvin\n",
      "T = 5.0;         # Temperature at which destruction of superconductivity is to be found, Kelvin\n",
      "H_c = H_c0*(1.0-(T/T_c)**2);    # Critical field required to destroy superconductivity, Tesla\n",
      "print\"Critical field required to destroy superconductivity = \",round(H_c,4),\"T\";\n"
     ],
     "language": "python",
     "metadata": {},
     "outputs": [
      {
       "output_type": "stream",
       "stream": "stdout",
       "text": [
        "Critical field required to destroy superconductivity =  0.0415 T\n"
       ]
      }
     ],
     "prompt_number": 5
    },
    {
     "cell_type": "heading",
     "level": 2,
     "metadata": {},
     "source": [
      "Example 9.2,Page number 278"
     ]
    },
    {
     "cell_type": "code",
     "collapsed": false,
     "input": [
      "import math\n",
      "\n",
      "#Given Data\n",
      "H0 = 1970.0;    # Critical field at absolute zero, Oe\n",
      "T_c = 9.25;    # Transition temperature of specimen  Nb, Kelvin\n",
      "T = 4.0;    # Temperature at which destruction of superconductivity is to be found, Kelvin\n",
      "H_c = H0*(1.0-(T/T_c)**2);    # Limiting magnetic field, Oe\n",
      "print\"Limiting magnetic field of Nb to serve as superconductor = \",round(H_c),\"Oe\";\n"
     ],
     "language": "python",
     "metadata": {},
     "outputs": [
      {
       "output_type": "stream",
       "stream": "stdout",
       "text": [
        "Limiting magnetic field of Nb to serve as superconductor =  1602.0 Oe\n"
       ]
      }
     ],
     "prompt_number": 11
    },
    {
     "cell_type": "heading",
     "level": 2,
     "metadata": {},
     "source": [
      "Example 9.3,Page number 278"
     ]
    },
    {
     "cell_type": "code",
     "collapsed": false,
     "input": [
      "import math\n",
      "\n",
      "#Given Data\n",
      "\n",
      "T_1 = 14.0;    # Temperature, K\n",
      "T_2 = 13.0;    # Temperature, K\n",
      "H_c1 = 1.4*10**5;    # Critical field at T_1, K\n",
      "H_c2 = 4.2*10**5;    # Critical field at T_2, K#As H_c1/H_c2 = (T_c**2-T_1**2)/(T_c**2-T_2**2), solving for T_c\n",
      "T_c = sqrt((H_c2/H_c1*T_1**2 - T_2**2)/2);  # The superconducting transition temperature of a specimen, K\n",
      "print\"Transition temperature of a specimen = \",round(T_c,4),\"K\";\n"
     ],
     "language": "python",
     "metadata": {},
     "outputs": [
      {
       "output_type": "stream",
       "stream": "stdout",
       "text": [
        "Transition temperature of a specimen =  14.4741 K\n"
       ]
      }
     ],
     "prompt_number": 14
    },
    {
     "cell_type": "heading",
     "level": 2,
     "metadata": {},
     "source": [
      "Example 9.4,Page number 280"
     ]
    },
    {
     "cell_type": "code",
     "collapsed": false,
     "input": [
      "import math\n",
      "\n",
      "#Given Data\n",
      "e = 1.6*10**-19;   # Energy equivalent of 1 eV, J/eV\n",
      "E_g = 3.4*10**-4;    # Energy gap of aluminium, eV\n",
      "v_F = 2.02*10**8;    # Fermi velocity of aluminium, cm/sec\n",
      "h_bar = 1.05*10**-34;    # Planck's constant\n",
      "L = h_bar*v_F/(2*E_g*e);    # Coherence Length of aluminium, cm\n",
      "\n",
      "print\"The coherence length of aluminium = \",\"{0:.3e}\".format(L),\"cm\";\n"
     ],
     "language": "python",
     "metadata": {},
     "outputs": [
      {
       "output_type": "stream",
       "stream": "stdout",
       "text": [
        "The coherence length of aluminium =  1.949e-04 cm\n"
       ]
      }
     ],
     "prompt_number": 18
    },
    {
     "cell_type": "heading",
     "level": 2,
     "metadata": {},
     "source": [
      "Example 9.6,Page number 284"
     ]
    },
    {
     "cell_type": "code",
     "collapsed": false,
     "input": [
      "import math\n",
      "\n",
      "#Given Data\n",
      "h = 6.6*10**-34;     # Planck's constant, Js\n",
      "e = 1.6*10**-19;       # Energy eqivalent of 1 eV, eV/J\n",
      "k = 0.86*10**-4;  # Boltzmann constant, eV/K\n",
      "T_c = 0.56;     # Critical temperature for superconducting Zr, K\n",
      "E_g = 3.52*k*T_c;    # Energy gap of aluminium, J\n",
      "c = 3*10**8;      # Speed of light, m/s\n",
      "lamda = h*c/(E_g*e);       # Wavelength of photon required to break a Cooper pair, m\n",
      "\n",
      "print\"The wavelength of photon required to break a Cooper pair = \",\"{0:.3e}\".format(lamda),\"m\";\n"
     ],
     "language": "python",
     "metadata": {},
     "outputs": [
      {
       "output_type": "stream",
       "stream": "stdout",
       "text": [
        "The wavelength of photon required to break a Cooper pair =  7.300e-03 m\n"
       ]
      }
     ],
     "prompt_number": 22
    },
    {
     "cell_type": "heading",
     "level": 2,
     "metadata": {},
     "source": [
      "Example 9.7,Page number 285"
     ]
    },
    {
     "cell_type": "code",
     "collapsed": false,
     "input": [
      "import math\n",
      "\n",
      "#Given Data\n",
      "\n",
      "Lamda_0 = 390.0;    # Penetration depth at absolute zero, angstorm\n",
      "T_c = 7.0;    # Transition temperature of Pb, K\n",
      "T = 2.0;      # Givn temperature, K\n",
      "Lamda = Lamda_0*(1.0-(T/T_c)**2)**(-1.0/2);    # London penetration depth in Pb at 2K, angstorm \n",
      "print\"The London penetration depth in Pb at 2K = \",round(Lamda,4),\"angstorm\";\n",
      "print\"The London penetration depth at T = T_c becomes Inf\";\n"
     ],
     "language": "python",
     "metadata": {},
     "outputs": [
      {
       "output_type": "stream",
       "stream": "stdout",
       "text": [
        "The London penetration depth in Pb at 2K =  406.9644 angstorm\n",
        "The London penetration depth at T = T_c becomes Inf\n"
       ]
      }
     ],
     "prompt_number": 24
    },
    {
     "cell_type": "heading",
     "level": 2,
     "metadata": {},
     "source": [
      "Example 9.8,Page number 286"
     ]
    },
    {
     "cell_type": "code",
     "collapsed": false,
     "input": [
      "import math\n",
      "\n",
      "#Given data\n",
      "\n",
      "M = (199.5, 200.7, 202.0, 203.3);      # Isotopic mass of Hg, amu\n",
      "T_c = (4.185, 4.173, 4.159, 4.146);    # Critical temperature of Hg, kelvin\n",
      "alpha = 0.5;    # Trial value of Isotopic exponent\n",
      "# Accroding to isotopic effect, T_c = K*M**(-alpha), solving for K\n",
      "K = T_c[1]/M[1]**(-alpha);  # Isoptopic coefficent \n",
      "Tc = zeros(3);  \n",
      "for i in xrange(len(Tc)):\n",
      "    Tc[i] = K*M[i+1]**(-alpha)\n",
      "    print\"Tc[\",i,\"] = \",round(Tc[i],4);\n",
      "if T_c[1]-Tc[0]<0.001 and T_c[2]-Tc[1]<0.001 and T_c[3]-Tc[2]<0.001 :\n",
      "    print\"The isotopic exponent in Isotopic effect of Hg =\",alpha;\n"
     ],
     "language": "python",
     "metadata": {},
     "outputs": [
      {
       "output_type": "stream",
       "stream": "stdout",
       "text": [
        "Tc[ 0 ] =  4.173\n",
        "Tc[ 1 ] =  4.1596\n",
        "Tc[ 2 ] =  4.1462\n",
        "The isotopic exponent in Isotopic effect of Hg = 0.5\n"
       ]
      }
     ],
     "prompt_number": 78
    },
    {
     "cell_type": "heading",
     "level": 2,
     "metadata": {},
     "source": [
      "Example 9.9,Page number 286"
     ]
    },
    {
     "cell_type": "code",
     "collapsed": false,
     "input": [
      "import math\n",
      "\n",
      "#GIven Data\n",
      "M_1 = 202.0;    # Mass of first isotope of mercury, amu\n",
      "M_2 = 199.0;    # Mass of second isotope of mercury, amu\n",
      "T_c1 = 4.153;    # Transition temperature of first isotope of mercury, K \n",
      "#As T_c1/T_c2 = (M_2/M_1)**1/2, solving for T_c2\n",
      "T_c2 = sqrt(M_1/M_2)*T_c1; \n",
      "print\"The transition temperature of isotope of Hg whose mass number is \",M_2,\"=\",round(T_c2,4),\"K\";\n"
     ],
     "language": "python",
     "metadata": {},
     "outputs": [
      {
       "output_type": "stream",
       "stream": "stdout",
       "text": [
        "The transition temperature of isotope of Hg whose mass number is  199.0 = 4.1842 K\n"
       ]
      }
     ],
     "prompt_number": 46
    },
    {
     "cell_type": "heading",
     "level": 2,
     "metadata": {},
     "source": [
      "Example 9.10,Page number 287"
     ]
    },
    {
     "cell_type": "code",
     "collapsed": false,
     "input": [
      "import math\n",
      "\n",
      "#Given Data\n",
      "\n",
      "alpha = 0.5;    # Isotopic exponent of Osmium\n",
      "T_c = 0.655;    # Transition temperature of Osmium, K \n",
      "M = 190.2;    # Mass of Osmium, amu\n",
      "K = T_c*M**alpha;    # K is the constant of proportionality\n",
      "\n",
      "print\"The value of constant of proportionality =\",round(K,4);\n"
     ],
     "language": "python",
     "metadata": {},
     "outputs": [
      {
       "output_type": "stream",
       "stream": "stdout",
       "text": [
        "The value of constant of proportionality = 9.0333\n"
       ]
      }
     ],
     "prompt_number": 48
    },
    {
     "cell_type": "heading",
     "level": 2,
     "metadata": {},
     "source": [
      "Example 9.11,Page number 298"
     ]
    },
    {
     "cell_type": "code",
     "collapsed": false,
     "input": [
      "import math\n",
      "\n",
      "#Given Data\n",
      "k = 1.38*10**-23;   # Boltzmann constant, J/mol/K\n",
      "e = 1.6*10**-19;      # Energy equivalent of 1 eV, eV/J\n",
      "Theta_D = 96;    # Debye temperature, kelvin\n",
      "N0 = 0.3678;    # Density of states at Fermi energy\n",
      "V = 1.0;          # Volume of the material, metre cube\n",
      "T_c = 1.14*Theta_D*exp(-1.0/(N0*V));    # Critical temperature of the material, K\n",
      "Delta_0 = k*Theta_D/sinh(1.0/(N0*V)); # Energy gap at absolute zero, J\n",
      "print\"The transition temperature of a material = \",round(T_c,3),\"K\";\n",
      "print\"The energy gap of a material = \",\"{0:.3e}\".format(Delta_0/e),\"eV\";\n"
     ],
     "language": "python",
     "metadata": {},
     "outputs": [
      {
       "output_type": "stream",
       "stream": "stdout",
       "text": [
        "The transition temperature of a material =  7.217 K\n",
        "The energy gap of a material =  1.097e-03 eV\n"
       ]
      }
     ],
     "prompt_number": 52
    },
    {
     "cell_type": "heading",
     "level": 2,
     "metadata": {},
     "source": [
      "Example 9.12,Page number 298"
     ]
    },
    {
     "cell_type": "code",
     "collapsed": false,
     "input": [
      "import math\n",
      "\n",
      "#Given Data\n",
      "Theta_D = 350.0;    # Debye temperature, kelvin\n",
      "Lamda = 0.828;    # Electron-phonon coupling constant\n",
      "mu_prime = 0.1373;    # Reduced mass of a superconductor, amu\n",
      "T_c = Theta_D/1.45*exp(-1.04*(1+Lamda)/(Lamda-mu_prime*(1+0.62*Lamda)); #Transition temperature of superconductor using McMillan formula,K\n",
      "\n",
      "print\"The transition temperature of the superconductor using McMillan formula = \",round(T_c,3),\"K\";\n"
     ],
     "language": "python",
     "metadata": {},
     "outputs": [
      {
       "output_type": "stream",
       "stream": "stdout",
       "text": [
        "The transition temperature of the superconductor using McMillan formula =  11.258 K\n"
       ]
      }
     ],
     "prompt_number": 55
    },
    {
     "cell_type": "heading",
     "level": 2,
     "metadata": {},
     "source": [
      "Example 9.13,Page number 298"
     ]
    },
    {
     "cell_type": "code",
     "collapsed": false,
     "input": [
      "import math\n",
      "\n",
      "#Given Data\n",
      "Theta_D = 350;    # Debye temperature, kelvin\n",
      "Lamda = 0.641;    # Electron-phonon coupling constant\n",
      "mu_prime = 0.143;    # Reduced mass of a superconductor, amu\n",
      "T_c = Theta_D/1.45*exp(-1.04*(1+Lamda)/(Lamda-mu_prime*(1+0.62*Lamda)));#Transition temperature of superconductor using McMillan formula,K\n",
      "\n",
      "print\"The superconducting transition temperature of a superconductor using McMillan formula = \",round(T_c,4),\"K\";\n"
     ],
     "language": "python",
     "metadata": {},
     "outputs": [
      {
       "output_type": "stream",
       "stream": "stdout",
       "text": [
        "The superconducting transition temperature of a superconductor using McMillan formula =  5.0426 K\n"
       ]
      }
     ],
     "prompt_number": 58
    },
    {
     "cell_type": "heading",
     "level": 2,
     "metadata": {},
     "source": [
      "Example 9.15,Page number 314"
     ]
    },
    {
     "cell_type": "code",
     "collapsed": false,
     "input": [
      "import math\n",
      "\n",
      "#Given Data\n",
      "Theta_D = 490;    # Debye temperature, Kelvin\n",
      "Lamda = 0.8;    # wavelength of a superconductor, angstorm\n",
      "mu_prime = 0.13;    # Reduced mass of a superconductor, amu\n",
      "T_c = Theta_D/1.45*exp(-1.04*(1+Lamda)/(Lamda-mu_prime*(1+0.62*Lamda)));\n",
      "print\"The superconducting transition temperature of a borocarbide superconductor =\",round(T_c,4),\"K\";\n"
     ],
     "language": "python",
     "metadata": {},
     "outputs": [
      {
       "output_type": "stream",
       "stream": "stdout",
       "text": [
        "The superconducting transition temperature of a borocarbide superconductor = 15.3526 K\n"
       ]
      }
     ],
     "prompt_number": 60
    },
    {
     "cell_type": "heading",
     "level": 2,
     "metadata": {},
     "source": [
      "Example 9.16,Page number 314"
     ]
    },
    {
     "cell_type": "code",
     "collapsed": false,
     "input": [
      "import math\n",
      "\n",
      "#Given Data\n",
      "T_c = 16.5;    # Transition temperature of a superconductor, K\n",
      "Lamda = [0.7, 0.8, 0.9, 1.0]    # Electron-phonon coupling constants at different Tc values \n",
      "Theta_D = 503.0;    # Debye temperature, kelvin\n",
      "mu_prime = 0.13;    # Reduced mass of a superconductor, amu\n",
      "Tc = [0.0, 0.0, 0.0, 0.0];\n",
      "print\"_____________________\";\n",
      "print\"Lamda          Tc\";\n",
      "print\"_____________________\";\n",
      "for i in xrange(len(Lamda)):\n",
      "   Tc[i] = Theta_D/1.45*exp(-1.04*(1+Lamda[i])/(Lamda[i]-mu_prime*(1+0.62*Lamda[i]))); \n",
      "   if abs(Tc[i] - 16.5) < 1.0 :\n",
      "       best_Lvalue = Lamda[i];\n",
      "   print\"\",Lamda[i],\"       \",round(Tc[i],3),\"K\";\n",
      "print\"_____________________\";\n",
      "print\"The best electron-phonon coupling constant should be slightly above \", best_Lvalue;\n"
     ],
     "language": "python",
     "metadata": {},
     "outputs": [
      {
       "output_type": "stream",
       "stream": "stdout",
       "text": [
        "_____________________\n",
        "Lamda          Tc\n",
        "_____________________\n",
        " 0.7         11.095 K\n",
        " 0.8         15.76 K\n",
        " 0.9         20.407 K\n",
        " 1.0         24.881 K\n",
        "_____________________\n",
        "The best electron-phonon coupling constant should be slightly above  0.8\n"
       ]
      }
     ],
     "prompt_number": 81
    },
    {
     "cell_type": "heading",
     "level": 2,
     "metadata": {},
     "source": [
      "Example 9.17,Page number 317"
     ]
    },
    {
     "cell_type": "code",
     "collapsed": false,
     "input": [
      "import math\n",
      "\n",
      "#Given Data\n",
      "T_c = 39.4;    # Transition temperature of a superconductor, K\n",
      "Lamda = 1;    # Electron-phonon coupling constant for a superconductor\n",
      "mu_prime= 0.15;    # Reduced mass of a superconductor, amu\n",
      "# As T_c = Theta_D/1.45*exp(-1.04*(1+Lamda)/(Lamda-mu_prime*(1+0.62*Lamda))), solving for Theta_D\n",
      "Theta_D = T_c*1.45*exp(1.04*(1+Lamda)/(Lamda-mu_prime*(1+0.62*Lamda)));\n",
      "\n",
      "print\"The Debye temperature of a BCS superconductor = \",round(Theta_D,3),\"K\";\n"
     ],
     "language": "python",
     "metadata": {},
     "outputs": [
      {
       "output_type": "stream",
       "stream": "stdout",
       "text": [
        "The Debye temperature of a BCS superconductor =  891.6 K\n"
       ]
      }
     ],
     "prompt_number": 62
    }
   ],
   "metadata": {}
  }
 ]
}