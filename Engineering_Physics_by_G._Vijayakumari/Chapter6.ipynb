{
 "cells": [
  {
   "cell_type": "markdown",
   "metadata": {},
   "source": [
    "#6: Fiber Optics"
   ]
  },
  {
   "cell_type": "markdown",
   "metadata": {},
   "source": [
    "##Example number 6.1, Page number 146"
   ]
  },
  {
   "cell_type": "code",
   "execution_count": 14,
   "metadata": {
    "collapsed": false
   },
   "outputs": [
    {
     "name": "stdout",
     "output_type": "stream",
     "text": [
      "The critical angle is 75 degrees 23 minutes\n",
      "The acceptance angle is 22 degrees 56 minutes\n",
      "The numerical aperture is 0.3899\n",
      "answer varies due to rounding off errors\n"
     ]
    }
   ],
   "source": [
    "#importing modules\n",
    "import math\n",
    "from __future__ import division\n",
    "\n",
    "#Variable declaration\n",
    "n1=1.545;    #refractive index of optical fibre core\n",
    "n2=1.495;    #refractive index of cladding\n",
    "\n",
    "#Calculation\n",
    "CA=math.asin(n2/n1);    #critical angle(radian)\n",
    "CA=CA*180/math.pi;      #critical angle(degree)\n",
    "CAm=int(CA);\n",
    "CAs=int(60*(CA-CAm));\n",
    "AA=math.asin(math.sqrt(n1**2-n2**2));   #acceptance angle(radian)\n",
    "AAd=AA*180/math.pi;      #acceptance angle(degree) \n",
    "AAm=int(AAd);\n",
    "AAs=int(60*(AAd-AAm));\n",
    "NA=math.sin(AA);    #numerical aperture\n",
    "\n",
    "#Result\n",
    "print \"The critical angle is\",CAm,\"degrees\",CAs,\"minutes\"\n",
    "print \"The acceptance angle is\",AAm,\"degrees\",AAs,\"minutes\"\n",
    "print \"The numerical aperture is\",round(NA,4)\n",
    "print \"answer varies due to rounding off errors\""
   ]
  },
  {
   "cell_type": "markdown",
   "metadata": {},
   "source": [
    "##Example number 6.2, Page number 147"
   ]
  },
  {
   "cell_type": "code",
   "execution_count": 17,
   "metadata": {
    "collapsed": false
   },
   "outputs": [
    {
     "name": "stdout",
     "output_type": "stream",
     "text": [
      "The numerical aperture is 0.3487\n"
     ]
    }
   ],
   "source": [
    "#importing modules\n",
    "import math\n",
    "from __future__ import division\n",
    "\n",
    "#Variable declaration\n",
    "n1=1.54;    #refractive index of optical fibre core\n",
    "n2=1.5;     #refractive index of cladding\n",
    "\n",
    "#Calculation\n",
    "NA=math.sqrt(n1**2-n2**2);    #numerical aperture\n",
    "\n",
    "#Result\n",
    "print \"The numerical aperture is\",round(NA,4)"
   ]
  },
  {
   "cell_type": "markdown",
   "metadata": {},
   "source": [
    "##Example number 6.3, Page number 147"
   ]
  },
  {
   "cell_type": "code",
   "execution_count": 25,
   "metadata": {
    "collapsed": false
   },
   "outputs": [
    {
     "name": "stdout",
     "output_type": "stream",
     "text": [
      "The critical angle is 71 degrees 30 minutes\n",
      "The acceptance angle is 29 degrees 26 minutes\n",
      "The numerical aperture is 0.4915\n",
      "answer for acceptance angle and numerical aperture given in the book is wrong\n"
     ]
    }
   ],
   "source": [
    "#importing modules\n",
    "import math\n",
    "from __future__ import division\n",
    "\n",
    "#Variable declaration\n",
    "n1=1.55;    #refractive index of optical fibre core\n",
    "n2=1.47;    #refractive index of cladding\n",
    "\n",
    "#Calculation\n",
    "CA=math.asin(n2/n1);    #critical angle(radian)\n",
    "CA=CA*180/math.pi;      #critical angle(degree) \n",
    "CAm=int(CA);\n",
    "CAs=int(60*(CA-CAm));\n",
    "NA=math.sqrt(n1**2-n2**2);    #numerical aperture \n",
    "AA=math.asin(NA);   #acceptance angle(radian)\n",
    "AAd=AA*180/math.pi;      #acceptance angle(degree) \n",
    "AAm=int(AAd);\n",
    "AAs=int(60*(AAd-AAm));\n",
    "\n",
    "#Result\n",
    "print \"The critical angle is\",CAm,\"degrees\",CAs,\"minutes\"\n",
    "print \"The acceptance angle is\",AAm,\"degrees\",AAs,\"minutes\"\n",
    "print \"The numerical aperture is\",round(NA,4)\n",
    "print \"answer for acceptance angle and numerical aperture given in the book is wrong\""
   ]
  },
  {
   "cell_type": "markdown",
   "metadata": {},
   "source": [
    "##Example number 6.4, Page number 147"
   ]
  },
  {
   "cell_type": "code",
   "execution_count": 31,
   "metadata": {
    "collapsed": false
   },
   "outputs": [
    {
     "name": "stdout",
     "output_type": "stream",
     "text": [
      "The refractive index of optical fibre is 1.5628\n",
      "The numerical aperture when fibre is in water is 0.15\n",
      "The Acceptance angle for the fibre in water is 8 degrees 38 minutes\n",
      "answer for minutes varies due to rounding off errors\n"
     ]
    }
   ],
   "source": [
    "#importing modules\n",
    "import math\n",
    "from __future__ import division\n",
    "\n",
    "#Variable declaration\n",
    "n2=1.55;   #refractive index of cladding\n",
    "no=1.33;   #refractive index of water\n",
    "NA=0.20;   #numerical aperture of optical fibre\n",
    "\n",
    "#Calculation\n",
    "n1=math.sqrt(n2**2+NA**2);   #refractive index of optical fibre\n",
    "NAW=math.sqrt(n1**2-n2**2)/no;   #numerical aperture when fibre is in water\n",
    "AA=math.asin(NAW);    #Acceptance angle for the fibre in water(degrees)\n",
    "AAd=AA*180/math.pi;      #acceptance angle(degree) \n",
    "AAm=int(AAd);\n",
    "AAs=int(60*(AAd-AAm));\n",
    "\n",
    "#Result\n",
    "print \"The refractive index of optical fibre is\",round(n1,4)\n",
    "print \"The numerical aperture when fibre is in water is\",round(NAW,2)\n",
    "print \"The Acceptance angle for the fibre in water is\",AAm,\"degrees\",AAs,\"minutes\"\n",
    "print \"answer for minutes varies due to rounding off errors\""
   ]
  },
  {
   "cell_type": "markdown",
   "metadata": {},
   "source": [
    "##Example number 6.5, Page number 148"
   ]
  },
  {
   "cell_type": "code",
   "execution_count": 33,
   "metadata": {
    "collapsed": false
   },
   "outputs": [
    {
     "name": "stdout",
     "output_type": "stream",
     "text": [
      "The refractive index of the core of a fibre is 1.42\n",
      "The refractive index of the cladding is 1.403\n",
      "answer varies due to rounding off errors\n"
     ]
    }
   ],
   "source": [
    "#importing modules\n",
    "import math\n",
    "from __future__ import division\n",
    "\n",
    "#Variable declaration\n",
    "NA=0.22;   #numerical aperture of optical fibre\n",
    "no=0.012;  #refractive index difference\n",
    "\n",
    "#Calculation\n",
    "n1=NA/math.sqrt(2*no);    #The refractive index of the core of a fibre\n",
    "n2=n1*(1-no);     #The refractive index of the cladding\n",
    "\n",
    "#Result\n",
    "print \"The refractive index of the core of a fibre is\",round(n1,2)\n",
    "print \"The refractive index of the cladding is\",round(n2,3)\n",
    "print \"answer varies due to rounding off errors\""
   ]
  }
 ],
 "metadata": {
  "kernelspec": {
   "display_name": "Python 2",
   "language": "python",
   "name": "python2"
  },
  "language_info": {
   "codemirror_mode": {
    "name": "ipython",
    "version": 2
   },
   "file_extension": ".py",
   "mimetype": "text/x-python",
   "name": "python",
   "nbconvert_exporter": "python",
   "pygments_lexer": "ipython2",
   "version": "2.7.9"
  }
 },
 "nbformat": 4,
 "nbformat_minor": 0
}
