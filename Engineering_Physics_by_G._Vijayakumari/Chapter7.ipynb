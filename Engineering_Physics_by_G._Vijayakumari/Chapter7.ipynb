{
 "cells": [
  {
   "cell_type": "markdown",
   "metadata": {},
   "source": [
    "#7: Conducting Materials"
   ]
  },
  {
   "cell_type": "markdown",
   "metadata": {},
   "source": [
    "##Example number 7.1, Page number 178"
   ]
  },
  {
   "cell_type": "code",
   "execution_count": 4,
   "metadata": {
    "collapsed": false
   },
   "outputs": [
    {
     "name": "stdout",
     "output_type": "stream",
     "text": [
      "The current density in the conductor corresponds to a drift velocity is 5.9 *10**9 A m^-1\n",
      "Mobility of the charge carrires is 6.58898 *10**-3 m^2 V^-1 s^-1\n"
     ]
    }
   ],
   "source": [
    "#importing modules\n",
    "import math\n",
    "from __future__ import division\n",
    "\n",
    "#Variable declaration\n",
    "n=5.9*10**28;   #electron concentration of conductor(m^-3)\n",
    "v=0.625;    #drift velocity of a conductor(ms^-1)\n",
    "x=6.22*10**7;   #electrical conductivity(ohm^-1 m^-1)\n",
    "e=1.6*10**-19;   #charge of electron(c)\n",
    "\n",
    "#Calculation\n",
    "J=n*e*v;      #current density in the conductor corresponds to drift velocity(Am^-1)\n",
    "z=x/(n*e);    #mobility of the charge(m^2V^-1s^-1)\n",
    " \n",
    "#Result\n",
    "print \"The current density in the conductor corresponds to a drift velocity is\",J/10**9,\"*10**9 A m^-1\"\n",
    "print \"Mobility of the charge carrires is\",round(z*10**3,5),\"*10**-3 m^2 V^-1 s^-1\"\n"
   ]
  },
  {
   "cell_type": "markdown",
   "metadata": {},
   "source": [
    "##Example number 7.2, Page number 179"
   ]
  },
  {
   "cell_type": "code",
   "execution_count": 6,
   "metadata": {
    "collapsed": false
   },
   "outputs": [
    {
     "name": "stdout",
     "output_type": "stream",
     "text": [
      "The drift velocity of free electron in a copper wire is 7.0028 *10**-5 ms^-1\n"
     ]
    }
   ],
   "source": [
    "#importing modules\n",
    "import math\n",
    "from __future__ import division\n",
    "\n",
    "#Variable declaration\n",
    "n=8.5*10**28;   #density of free electrons in copper(m^-3)\n",
    "A=1.05*10**-6;   #sectional area of copper(m^2)\n",
    "e=1.6*10**-19;   #charge of electron(c)\n",
    "I=1;  #copper wire carries a current(A)\n",
    "\n",
    "#Calculation\n",
    "V=1/(A*n*e);    #drift velocity of free electrons in copper wire(ms^-1)\n",
    "\n",
    "#Result\n",
    "print \"The drift velocity of free electron in a copper wire is\",round(V*10**5,4),\"*10**-5 ms^-1\""
   ]
  },
  {
   "cell_type": "markdown",
   "metadata": {},
   "source": [
    "##Example number 7.3, Page number 179"
   ]
  },
  {
   "cell_type": "code",
   "execution_count": 3,
   "metadata": {
    "collapsed": false
   },
   "outputs": [
    {
     "name": "stdout",
     "output_type": "stream",
     "text": [
      "The drift velocity of free electrons in copper is 1.75 *10**-3 ms^-1\n"
     ]
    }
   ],
   "source": [
    "#importing modules\n",
    "import math\n",
    "from __future__ import division\n",
    "\n",
    "#Variable declaration\n",
    "X=3.5*10**-3;  #mobility of free electrons in copper(m^2 V^-1 s^-1)\n",
    "E=0.5;    #elactric field strength of copper(V m^-1)\n",
    "\n",
    "#Calculation\n",
    "V=X*E;   #drift velocity of free electrons in copper(m s^-1)\n",
    "\n",
    "#Result\n",
    "print \"The drift velocity of free electrons in copper is\",V*10**3,\"*10**-3 ms^-1\""
   ]
  },
  {
   "cell_type": "markdown",
   "metadata": {},
   "source": [
    "##Example number 7.4, Page number 179"
   ]
  },
  {
   "cell_type": "code",
   "execution_count": 5,
   "metadata": {
    "collapsed": false
   },
   "outputs": [
    {
     "name": "stdout",
     "output_type": "stream",
     "text": [
      "The relaxation time of conduction electrons is 3.815 *10**-14 s\n"
     ]
    }
   ],
   "source": [
    "#importing modules\n",
    "import math\n",
    "from __future__ import division\n",
    "\n",
    "#Variable declaration\n",
    "n=6.5*10**28;    #conduction electron(m^-3)\n",
    "r=1.435*10**-8;  #metal resistivity(ohm-metre)\n",
    "e=1.6*10**-19;   #charge of electron(c)\n",
    "m=9.11*10**-31;   #mass of a electron(kg)\n",
    "\n",
    "#Calculation\n",
    "T=m/(r*n*e**2);    #relaxation time of conduction electrons(s)\n",
    "\n",
    "#Result\n",
    "print \"The relaxation time of conduction electrons is\",round(T*10**14,3),\"*10**-14 s\""
   ]
  },
  {
   "cell_type": "markdown",
   "metadata": {},
   "source": [
    "##Example number 7.5, Page number 180"
   ]
  },
  {
   "cell_type": "code",
   "execution_count": 9,
   "metadata": {
    "collapsed": false
   },
   "outputs": [
    {
     "name": "stdout",
     "output_type": "stream",
     "text": [
      "The mean free path between collision of free electrons in copper is 2.8153 *10**-9 m\n",
      "answer varies due to rounding off errors\n"
     ]
    }
   ],
   "source": [
    "#importing modules\n",
    "import math\n",
    "from __future__ import division\n",
    "\n",
    "#Variable declaration\n",
    "r=1.72*10**-8;   #resistivity of copper(ohm metre)\n",
    "T=293;     #temperature of copper(K)\n",
    "n=8.48*10**28;   #density of free electron(m^-3)\n",
    "e=1.6*10**-19;   #charge of electron(c)\n",
    "m=9.11*10**-31;   #mass of a electron(kg)\n",
    "k=1.38*10**-23;   #boltzmann constant(m^2 Kg s^-2 k^-1)\n",
    "\n",
    "#Calculation\n",
    "t=m/(r*n*(e**2));   #relaxation time(s)\n",
    "v=math.sqrt(3*k*T/m);  #thermal velocity(ms^-1)\n",
    "Lamda=t*v;     #mean free path between collision of free electrons in copper(m)\n",
    "\n",
    "#Result\n",
    "print \"The mean free path between collision of free electrons in copper is\",round(Lamda*10**9,4),\"*10**-9 m\"\n",
    "print \"answer varies due to rounding off errors\""
   ]
  },
  {
   "cell_type": "markdown",
   "metadata": {},
   "source": [
    "##Example number 7.6, Page number 180"
   ]
  },
  {
   "cell_type": "code",
   "execution_count": 12,
   "metadata": {
    "collapsed": false
   },
   "outputs": [
    {
     "name": "stdout",
     "output_type": "stream",
     "text": [
      "The thermal velocity is 116.76 *10**3 m s^-1\n",
      "Drift velocity of electrons is 40.0 m s^-1\n",
      "Thus the terminal velocity is high compared to the drift velocity\n"
     ]
    }
   ],
   "source": [
    "#importing modules\n",
    "import math\n",
    "from __future__ import division\n",
    "\n",
    "#Variable declaration\n",
    "t=1*10**-3;   #thickness of metal(m)\n",
    "V=1;     #potential difference applied in volts(V)\n",
    "T=300;   #temperature(K)\n",
    "m=0.04;  #mobility(m^2 V^-1 s^-1)\n",
    "k=1.38*10**-23;   #boltzmann constant(m^2 Kg s^-2 k^-1)\n",
    "m1=9.11*10**-31;   #mass of a electron(kg)\n",
    "\n",
    "#Calculation\n",
    "v=math.sqrt(3*k*T/m1);  #thermal velocity(ms^-1)\n",
    "E=V/t;    #unit potenyial voltage gradient(V m^-1)\n",
    "vd=E*m;   #drift velocity of electrons(m s^-1)\n",
    "\n",
    "#Result\n",
    "print \"The thermal velocity is\",round(v/10**3,2),\"*10**3 m s^-1\"\n",
    "print \"Drift velocity of electrons is\",vd,\"m s^-1\"\n",
    "print \"Thus the terminal velocity is high compared to the drift velocity\""
   ]
  },
  {
   "cell_type": "markdown",
   "metadata": {},
   "source": [
    "##Example number 7.7, Page number 181"
   ]
  },
  {
   "cell_type": "code",
   "execution_count": 15,
   "metadata": {
    "collapsed": false
   },
   "outputs": [
    {
     "name": "stdout",
     "output_type": "stream",
     "text": [
      "The electrical conductivity of copper is 5.9 *10**7 S m^-1\n",
      "answer varies due to rounding off errors\n"
     ]
    }
   ],
   "source": [
    "#importing modules\n",
    "import math\n",
    "from __future__ import division\n",
    "\n",
    "#Variable declaration\n",
    "AW=63.5;   #atomic weight of copper\n",
    "D=8.93*10**3;   #density of copper(kg m^-3)\n",
    "t=2.48*10**-14;   #relaxation time of copper(s)\n",
    "AV=6.023*10**26;   #avagadro no(mole^-1)\n",
    "e=1.6*10**-19;     #charge of electron(c)\n",
    "m=9.11*10**-31;    #mass of a electron(kg)\n",
    "\n",
    "#Calculation\n",
    "n=AV*D/AW;    #density of electrons per unit volume(m^-3)\n",
    "sigma=n*e**2*t/m;   #electrical conductivity of copper(Sm^-1)\n",
    "\n",
    "#Result\n",
    "print \"The electrical conductivity of copper is\",round(sigma/10**7,1),\"*10**7 S m^-1\"\n",
    "print \"answer varies due to rounding off errors\""
   ]
  },
  {
   "cell_type": "markdown",
   "metadata": {},
   "source": [
    "##Example number 7.8, Page number 181"
   ]
  },
  {
   "cell_type": "code",
   "execution_count": 19,
   "metadata": {
    "collapsed": false
   },
   "outputs": [
    {
     "name": "stdout",
     "output_type": "stream",
     "text": [
      "The drift velocity in copper is 3.6657 *10**-6 ms^-1\n",
      "The current density in copper is 4.9736 *10**4 Am^-2\n",
      "answer varies due to rounding off errors\n"
     ]
    }
   ],
   "source": [
    "#importing modules\n",
    "import math\n",
    "from __future__ import division\n",
    "\n",
    "#Variable declaration\n",
    "I=10;    #current(A)\n",
    "r=0.8*10**-2;   #radius of wire(m)\n",
    "n=8.48*10**28;  #density of free electron(m^-3)\n",
    "e=1.6*10**-19;  #charge of electron(c)\n",
    "\n",
    "#Calculation\n",
    "J=I/(math.pi*r**2);  #current density of copper(Am^-2)\n",
    "v=J/(n*e);     #drift velocity of copper(ms^-1)\n",
    "\n",
    "#Result\n",
    "print \"The drift velocity in copper is\",round(v*10**6,4),\"*10**-6 ms^-1\"\n",
    "print \"The current density in copper is\",round(J/10**4,4),\"*10**4 Am^-2\"\n",
    "print \"answer varies due to rounding off errors\""
   ]
  },
  {
   "cell_type": "markdown",
   "metadata": {},
   "source": [
    "##Example number 7.9, Page number 182"
   ]
  },
  {
   "cell_type": "code",
   "execution_count": 22,
   "metadata": {
    "collapsed": false
   },
   "outputs": [
    {
     "name": "stdout",
     "output_type": "stream",
     "text": [
      "The mobility of charge is 6.997 *10**-3 m^2 V^-1 s^-1\n",
      "The drift velocity of electrons is 0.6997 m s^-1\n"
     ]
    }
   ],
   "source": [
    "#importing modules\n",
    "import math\n",
    "from __future__ import division\n",
    "\n",
    "#Variable declaration\n",
    "r=1.54*10**-8;   #resistivity of silver wire at room temperature(ohm metre)\n",
    "E=100;    #Electric field along the wire(V/m)\n",
    "n=5.8*10**28;   #n is assuming of conduction electrons(m^-3)\n",
    "e=1.6*10**-19;   #charge of electron(c)\n",
    "\n",
    "#Calculation\n",
    "mew=1/(r*n*e);    #mobility of charge(m^2 V^-1 s^-1)\n",
    "vd=mew*E;    #drift velocity of electrons(m s^-1)\n",
    "\n",
    "#Result\n",
    "print \"The mobility of charge is\",round(mew*10**3,3),\"*10**-3 m^2 V^-1 s^-1\"\n",
    "print \"The drift velocity of electrons is\",round(vd,4),\"m s^-1\""
   ]
  },
  {
   "cell_type": "markdown",
   "metadata": {},
   "source": [
    "##Example number 7.10, Page number 182"
   ]
  },
  {
   "cell_type": "code",
   "execution_count": 5,
   "metadata": {
    "collapsed": false
   },
   "outputs": [
    {
     "name": "stdout",
     "output_type": "stream",
     "text": [
      "The relaxation time collision of electrons in copper obeying classical laws is 2.43 *10**-14 s\n",
      "The mobility charge of copper obeying classical laws is 0.427 *10**-2 m^2 V^-1 s^-1\n"
     ]
    }
   ],
   "source": [
    "#importing modules\n",
    "import math\n",
    "from __future__ import division\n",
    "\n",
    "#Variable declaration\n",
    "D=8.92*10**3;    #density of copper(kg m^-3)\n",
    "AW=63.5;     #atomic weight of copper\n",
    "r=1.73*10**-8;    #resistivity of copper(ohm metre)\n",
    "AV=6.023*10**26;   #avagadro no(mole^-1)\n",
    "e=1.6*10**-19;     #charge of electron(c)\n",
    "m=9.11*10**-31;    #mass of a electron(kg)\n",
    "\n",
    "#Calculation\n",
    "n=AV*D/AW;    #density of electrons per unit volume(m^-3)\n",
    "tow=m/(r*n*e**2);     #average time collision of electrons in copper(s)\n",
    "mew=1/(r*n*e);      #mobility of charge(m^2 V^-1 s^-1)\n",
    "\n",
    "#Result\n",
    "print \"The relaxation time collision of electrons in copper obeying classical laws is\",round(tow*10**14,2),\"*10**-14 s\"\n",
    "print \"The mobility charge of copper obeying classical laws is\",round(mew*10**2,3),\"*10**-2 m^2 V^-1 s^-1\""
   ]
  },
  {
   "cell_type": "markdown",
   "metadata": {},
   "source": [
    "##Example number 7.11, Page number 183"
   ]
  },
  {
   "cell_type": "code",
   "execution_count": 6,
   "metadata": {
    "collapsed": false
   },
   "outputs": [
    {
     "name": "stdout",
     "output_type": "stream",
     "text": [
      "The electrical resistivity is 4.63 *10**-8 ohm metre\n",
      "answer varies due to rounding off errors\n"
     ]
    }
   ],
   "source": [
    "#importing modules\n",
    "import math\n",
    "from __future__ import division\n",
    "\n",
    "#Variable declaration\n",
    "r=1.85*10**-10;    #the radius of sodium atom(m)\n",
    "t=3*10**-14;     #the classic value of mean free time(sec)\n",
    "temp=0;      #temperature(centigrade)\n",
    "na=2;        #number of atoms in a unit cell\n",
    "ne=1;        #number of electrons per unit cell\n",
    "e=1.6*10**-19;    #charge of electron(c)\n",
    "m=9.11*10**-31;   #mass of a electron(kg)\n",
    "\n",
    "#Calculation \n",
    "a=4*r/math.sqrt(3);    #a is one side in bcc structure unit cell(m)\n",
    "v=a**3;   #volume of bcc structure unit cell(m^3)\n",
    "n=na*ne/v;    #density of electrons per unit volume(m^-3)\n",
    "rho=m/(n*e**2*t);    #The electrical resistivity(ohm metre)\n",
    "\n",
    "#Result\n",
    "print \"The electrical resistivity is\",round(rho*10**8,2),\"*10**-8 ohm metre\"\n",
    "print \"answer varies due to rounding off errors\""
   ]
  },
  {
   "cell_type": "markdown",
   "metadata": {},
   "source": [
    "##Example number 7.12, Page number 184"
   ]
  },
  {
   "cell_type": "code",
   "execution_count": 15,
   "metadata": {
    "collapsed": false
   },
   "outputs": [
    {
     "name": "stdout",
     "output_type": "stream",
     "text": [
      "Free electron concentration in aluminium is 0.18 V/m\n",
      "Mobility of the charge is 1.28 *10**-3 m^2 V^-1 S^-1\n",
      "The drift velocity of electrons is 2.304 *10**-4 m s^-1\n",
      "answer varies due to rounding off errors\n"
     ]
    }
   ],
   "source": [
    "#importing modules\n",
    "import math\n",
    "from __future__ import division\n",
    "\n",
    "#Variable declaration\n",
    "rho=2.7*10**-8;    #electrical resistivity of aluminium(ohm metre)\n",
    "AW=26.98;     #atomic weight of aluminium\n",
    "d=2.7*10**3;  #density of volume(Kg/m^3)\n",
    "R=60*10**-3;   #resistance(W)\n",
    "l=5;    #length of aluminium wire(m)\n",
    "i=15;     #aluminuim wire carries a current(A)\n",
    "fe=3;     #number of free electrons \n",
    "AV=6.023*10**26;    #avagadro no(mole^-1)\n",
    "e=1.6*10**-19;      #charge of electron(c)\n",
    "\n",
    "#Calculation\n",
    "n=AV*d*fe/AW;     #density of electrons per unit volume(electrons/m^-3)\n",
    "mew=1/(n*e*rho);   #mobility of the charge(m^2 V^-1 S^-1)\n",
    "E=i*R/l;     #free electron concentration(V/m)\n",
    "vd=mew*E;      #drift velocity(m s^-1)\n",
    "\n",
    "#Result\n",
    "print \"Free electron concentration in aluminium is\",E,\"V/m\"\n",
    "print \"Mobility of the charge is\",round(mew*10**3,2),\"*10**-3 m^2 V^-1 S^-1\"\n",
    "print \"The drift velocity of electrons is\",round(vd*10**4,3),\"*10**-4 m s^-1\"\n",
    "print \"answer varies due to rounding off errors\""
   ]
  },
  {
   "cell_type": "markdown",
   "metadata": {},
   "source": [
    "##Example number 7.13, Page number 184"
   ]
  },
  {
   "cell_type": "code",
   "execution_count": 21,
   "metadata": {
    "collapsed": false
   },
   "outputs": [
    {
     "name": "stdout",
     "output_type": "stream",
     "text": [
      "The resistance of an intrinsic Ge rod is 4310 ohm\n"
     ]
    }
   ],
   "source": [
    "#importing modules\n",
    "import math\n",
    "from __future__ import division\n",
    "\n",
    "#Variable declaration\n",
    "l=1*10**-2;    #length of intrinsic Ge rod(m)\n",
    "b=1*10**-3;    #breadth of intrinsic Ge rod(m)\n",
    "t=1*10**-3;    #thickness of intrinsic Ge rod(m)\n",
    "temp=300;    #temperature(K)\n",
    "d=2.5*10**19;   #intrinsic carrier density(Kg/m^3)\n",
    "z=0.39;     #mobility of electron(m^2 V^-1 S^-1)\n",
    "zh=0.19;   #mobility of hole(m^2 V^-1 S^-1) \n",
    "e=1.6*10**-19;   #charge of electron(c)\n",
    "\n",
    "#Calculation\n",
    "x=d*e*(z+zh);   #electrical conductivity(ohm^-1 m^-1)\n",
    "r=1/x;     #electrical resistivity(ohm metre)\n",
    "A=b*t;     #area(m^2)\n",
    "R=r*l/A;   #resistance of an intrinsic Ge rod(ohm)\n",
    "\n",
    "#Result\n",
    "print \"The resistance of an intrinsic Ge rod is\",int(R),\"ohm\""
   ]
  },
  {
   "cell_type": "markdown",
   "metadata": {},
   "source": [
    "##Example number 7.14, Page number 188"
   ]
  },
  {
   "cell_type": "code",
   "execution_count": 19,
   "metadata": {
    "collapsed": false
   },
   "outputs": [
    {
     "name": "stdout",
     "output_type": "stream",
     "text": [
      "The thermal conductivity of copper is 189.9299 W m^-1 K^-1\n"
     ]
    }
   ],
   "source": [
    "#importing modules\n",
    "import math\n",
    "from __future__ import division\n",
    "\n",
    "#Variable declaration\n",
    "d=8.48*10**28;    #free electron density of copper(m^-3)\n",
    "y=2.8138*10**-9;  #mean free path(m)\n",
    "v=1.1536*10**5;   #velocity of copper(m s^-1)\n",
    "t=20;    #temperature of copper(C)\n",
    "Kb=1.38*10**-23;    #Boltzmann's constant(m^2 Kg s^-2 k^-1)\n",
    "\n",
    "#Calculation\n",
    "K=1/2*(d*v*y*Kb);    #thermal conductivity of copper(W m^-1 K^-1)\n",
    "\n",
    "#Result\n",
    "print \"The thermal conductivity of copper is\",round(K,4),\"W m^-1 K^-1\""
   ]
  },
  {
   "cell_type": "markdown",
   "metadata": {},
   "source": [
    "##Example number 7.15, Page number 189"
   ]
  },
  {
   "cell_type": "code",
   "execution_count": 22,
   "metadata": {
    "collapsed": false
   },
   "outputs": [
    {
     "name": "stdout",
     "output_type": "stream",
     "text": [
      "The thermal conductivity of brass is 14.64 W m^-1 K^-1\n",
      "The thermal resistance of brass is 4.503 K W^-1\n",
      "answer varies due to rounding off errors\n"
     ]
    }
   ],
   "source": [
    "#importing modules\n",
    "import math\n",
    "from __future__ import division\n",
    "\n",
    "#Variable declaration\n",
    "er=50*10**-8;    #electrical resistivity(ohm metre)\n",
    "t=300;    #temperature(K)\n",
    "r=13*10**-3;   #radius of brass(m)\n",
    "th=35*10**-3;   #thickness of brass(m)\n",
    "L=2.44*10**-8;   #Lorentz number(W ohm K^-2)\n",
    "\n",
    "#Calculation\n",
    "K=L*t/er;    #thermal conductivity of brass(W m^-1 K^-1)\n",
    "A=math.pi*r**2;   #area of brass disk(m^2)\n",
    "Rt=th/(K*A);      #thermal resistance of brass(K W^-1)\n",
    "\n",
    "#Result\n",
    "print \"The thermal conductivity of brass is\",K,\"W m^-1 K^-1\"\n",
    "print \"The thermal resistance of brass is\",round(Rt,3),\"K W^-1\"\n",
    "print \"answer varies due to rounding off errors\""
   ]
  },
  {
   "cell_type": "markdown",
   "metadata": {},
   "source": [
    "##Example number 7.16, Page number 189"
   ]
  },
  {
   "cell_type": "code",
   "execution_count": 24,
   "metadata": {
    "collapsed": false
   },
   "outputs": [
    {
     "name": "stdout",
     "output_type": "stream",
     "text": [
      "Lorentz number is 2.2094 *10**-8 W ohm K^-2\n"
     ]
    }
   ],
   "source": [
    "#importing modules\n",
    "import math\n",
    "from __future__ import division\n",
    "\n",
    "#Variable declaration\n",
    "x=5.87*10**7;    #electrical conductivity(ohm^-1 m^-1)\n",
    "k=380;     #thermal conductivity of copper(W m-1 K^-1)\n",
    "t=293;     #temperature of copper(K)\n",
    "\n",
    "#Calculation\n",
    "L=k/(x*t);     #Lorentz number(W ohm K^-2)\n",
    "\n",
    "#Result\n",
    "print \"Lorentz number is\",round(L*10**8,4),\"*10**-8 W ohm K^-2\""
   ]
  },
  {
   "cell_type": "markdown",
   "metadata": {},
   "source": [
    "##Example number 7.17, Page number 189"
   ]
  },
  {
   "cell_type": "code",
   "execution_count": 25,
   "metadata": {
    "collapsed": false
   },
   "outputs": [
    {
     "name": "stdout",
     "output_type": "stream",
     "text": [
      "The thermal conductivity of copper is 468.48 W m^-1 K^-1\n"
     ]
    }
   ],
   "source": [
    "#importing modules\n",
    "import math\n",
    "from __future__ import division\n",
    "\n",
    "#Variable declaration\n",
    "x=6.40*10**7;   #electrical conductivity(mho m^-1)\n",
    "t=300;    #temperature of copper(K)\n",
    "L=2.44*10**-8;   #Lorentz number(W ohm K^-2)\n",
    "\n",
    "#Calculation\n",
    "K=x*t*L;      #thermal conductivity of copper(W m^-1 K^-1)\n",
    "\n",
    "#Result\n",
    "print \"The thermal conductivity of copper is\",K,\"W m^-1 K^-1\""
   ]
  }
 ],
 "metadata": {
  "kernelspec": {
   "display_name": "Python 2",
   "language": "python",
   "name": "python2"
  },
  "language_info": {
   "codemirror_mode": {
    "name": "ipython",
    "version": 2
   },
   "file_extension": ".py",
   "mimetype": "text/x-python",
   "name": "python",
   "nbconvert_exporter": "python",
   "pygments_lexer": "ipython2",
   "version": "2.7.9"
  }
 },
 "nbformat": 4,
 "nbformat_minor": 0
}
