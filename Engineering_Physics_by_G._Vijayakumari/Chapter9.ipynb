{
 "cells": [
  {
   "cell_type": "markdown",
   "metadata": {},
   "source": [
    "#9: Energy bands in solids"
   ]
  },
  {
   "cell_type": "markdown",
   "metadata": {},
   "source": [
    "##Example number 9.1, Page number 240"
   ]
  },
  {
   "cell_type": "code",
   "execution_count": 29,
   "metadata": {
    "collapsed": false
   },
   "outputs": [
    {
     "name": "stdout",
     "output_type": "stream",
     "text": [
      "The fermi function for an energy kt above fermi energy is 0.269\n"
     ]
    }
   ],
   "source": [
    "#importing modules\n",
    "import math\n",
    "from __future__ import division\n",
    "\n",
    "#Variable declaration\n",
    "#E-EF=KT\n",
    "#K=KB is the boltzmann constant in m^2 Kg s^-2 k^-1\n",
    "\n",
    "#Calculation\n",
    "f=1/(1+math.exp(1));    #The fermi function for an energy kt above fermi energy\n",
    "\n",
    "#Result\n",
    "print \"The fermi function for an energy kt above fermi energy is\",round(f,3)"
   ]
  },
  {
   "cell_type": "markdown",
   "metadata": {},
   "source": [
    "##Example number 9.2, Page number 240"
   ]
  },
  {
   "cell_type": "code",
   "execution_count": 32,
   "metadata": {
    "collapsed": false
   },
   "outputs": [
    {
     "name": "stdout",
     "output_type": "stream",
     "text": [
      "The fermi function is 0.358999\n",
      "answer given in the book is wrong\n"
     ]
    }
   ],
   "source": [
    "#importing modules\n",
    "import math\n",
    "from __future__ import division\n",
    "\n",
    "#Variable declaration\n",
    "X=0.01*1.6*10**-19;    #difference between energy and fermi energy(J)\n",
    "T=200;    #temperature(K)\n",
    "KB=1.38*10**-23;    #Boltzmann's Constant(J/K)\n",
    "\n",
    "#Calculation\n",
    "f=1/(1+math.exp(X/(KB*T)));     #The fermi function\n",
    "\n",
    "#Result\n",
    "print \"The fermi function is\",round(f,6)\n",
    "print \"answer given in the book is wrong\""
   ]
  },
  {
   "cell_type": "markdown",
   "metadata": {},
   "source": [
    "##Example number 9.3, Page number 241"
   ]
  },
  {
   "cell_type": "code",
   "execution_count": 37,
   "metadata": {
    "collapsed": false
   },
   "outputs": [
    {
     "name": "stdout",
     "output_type": "stream",
     "text": [
      "The fermi velocity fo conducting electron in aluminium is 2.02118 *10**6 ms^-1\n",
      "The mean free path for conducting electron of aluminium is 14.7546 nm\n"
     ]
    }
   ],
   "source": [
    "#importing modules\n",
    "import math\n",
    "from __future__ import division\n",
    "\n",
    "#Variable declaration\n",
    "EF=11.63*1.6*10**-19;    #fermi energy of conducting electron in aluminium(J)\n",
    "t=7.3*10**-15;       #relaxation time for electron(sec)\n",
    "m=9.11*10**-31;      #mass of electon(Kg)\n",
    "\n",
    "#Calculation\n",
    "Vf=math.sqrt(2*EF/m);     #The fermi velocity fo conducting electron in aluminium(ms^-1)\n",
    "x=t*Vf*10**9;     #mean free path for conducting electron of aluminium(nm)\n",
    "\n",
    "#Result\n",
    "print \"The fermi velocity fo conducting electron in aluminium is\",round(Vf/10**6,5),\"*10**6 ms^-1\"\n",
    "print \"The mean free path for conducting electron of aluminium is\",round(x,4),\"nm\""
   ]
  },
  {
   "cell_type": "markdown",
   "metadata": {},
   "source": [
    "##Example number 9.4, Page number 241"
   ]
  },
  {
   "cell_type": "code",
   "execution_count": 46,
   "metadata": {
    "collapsed": false
   },
   "outputs": [
    {
     "name": "stdout",
     "output_type": "stream",
     "text": [
      "The fermi energy in a metal is 3.36888 *10**-19 J or 2.1055 eV\n",
      "The fermi temperature in a metal is 24.41 *10**3 K\n"
     ]
    }
   ],
   "source": [
    "#importing modules\n",
    "import math\n",
    "from __future__ import division\n",
    "\n",
    "#Variable declaration\n",
    "Vf=0.86*10**6;    #The femi energy of electons in the metal(m/sec)\n",
    "m=9.11*10**-31;    #mass of electon(Kg)\n",
    "KB=1.38*10**-23;   #Boltzmann's Constant(m^2 Kg s^-2 k^-1)\n",
    "\n",
    "#Calculation\n",
    "Ef=(1/2)*m*Vf**2;   #The fermi energy in a metal(J)\n",
    "Tf=Ef/KB;    #The fermi temperature in a metal(K)\n",
    "\n",
    "#Result\n",
    "print \"The fermi energy in a metal is\",round(Ef/10**-19,5),\"*10**-19 J or\",round(Ef/(1.6*10**-19),4),\"eV\"\n",
    "print \"The fermi temperature in a metal is\",round(Tf/10**3,2),\"*10**3 K\""
   ]
  },
  {
   "cell_type": "markdown",
   "metadata": {},
   "source": [
    "##Example number 9.5, Page number 242"
   ]
  },
  {
   "cell_type": "code",
   "execution_count": 3,
   "metadata": {
    "collapsed": false
   },
   "outputs": [
    {
     "name": "stdout",
     "output_type": "stream",
     "text": [
      "The fermi temparature for sodium is 37.1 *10**3 K\n",
      "The fermi velocity fo conducting electron in aluminium is 1.0602 *10**6 ms^-1\n"
     ]
    }
   ],
   "source": [
    "#importing modules\n",
    "import math\n",
    "from __future__ import division\n",
    "\n",
    "#Variable declaration\n",
    "Ef=3.2*1.6*10**-19;    #The fermi energy in a metal(J)\n",
    "m=9.11*10**-31;   #mass of electon(Kg)\n",
    "KB=1.38*10**-23;    #Boltzmann's Constant(m^2 Kg s^-2 k^-1)\n",
    "\n",
    "#Calculation\n",
    "Tf=Ef/KB;     #The fermi temparature for sodium(K)\n",
    "Vf=math.sqrt(2*Ef/m);     #The fermi velocity fo conducting electron in aluminium(ms^-1)\n",
    "\n",
    "#Result\n",
    "print \"The fermi temparature for sodium is\",round(Tf/10**3,2),\"*10**3 K\"\n",
    "print \"The fermi velocity fo conducting electron in aluminium is\",round(Vf/10**6,4),\"*10**6 ms^-1\""
   ]
  },
  {
   "cell_type": "markdown",
   "metadata": {},
   "source": [
    "##Example number 9.6, Page number 242"
   ]
  },
  {
   "cell_type": "code",
   "execution_count": 7,
   "metadata": {
    "collapsed": false
   },
   "outputs": [
    {
     "name": "stdout",
     "output_type": "stream",
     "text": [
      "The temperature at which there is 1% probability that an electron in a solid is 1.26158 *10**3 K\n"
     ]
    }
   ],
   "source": [
    "#importing modules\n",
    "import math\n",
    "from __future__ import division\n",
    "\n",
    "#Variable declaration\n",
    "E=5.5*1.6*10**-19;     #energy level(J)\n",
    "Ef=5*1.6*10**-19;     #fermi energy level(J)\n",
    "x=0.5*1.6*10**-19;    #Difference between energy and fermi energy(J)\n",
    "f=0.01;   #fermi function at which there is 1% probability that an electron in a solid\n",
    "KB=1.38*10**-23;    #Boltzmann's Constant(m^2 Kg s^-2 k^-1)\n",
    "\n",
    "#Calculation\n",
    "T=x/(KB*(math.log(1-f)-math.log(f)));      #The temperature at which there is 1% probability that an electron in a solid(K)\n",
    "\n",
    "#Result\n",
    "print \"The temperature at which there is 1% probability that an electron in a solid is\",round(T/10**3,5),\"*10**3 K\""
   ]
  },
  {
   "cell_type": "markdown",
   "metadata": {},
   "source": [
    "##Example number 9.7, Page number 244"
   ]
  },
  {
   "cell_type": "code",
   "execution_count": 9,
   "metadata": {
    "collapsed": false
   },
   "outputs": [
    {
     "name": "stdout",
     "output_type": "stream",
     "text": [
      "The energy for probability of occupancy at 1st is 1.98 eV\n",
      "The energy for probability of occupancy at 2nd is 2.219 eV\n",
      "The energy for probability of occupancy at 3rd is 2.1 eV\n"
     ]
    }
   ],
   "source": [
    "#importing modules\n",
    "import math\n",
    "from __future__ import division\n",
    "\n",
    "#Variable declaration\n",
    "Ef=2.1*1.6*10**-19;    #fermi energy level in potassium(J)\n",
    "f1=0.99;    #fermi factor for 1st\n",
    "f2=0.01;    #fermi factor for 2nd\n",
    "f3=0.5;     #fermi factor for 3rd\n",
    "T=300;     #temperature(K)\n",
    "e=1.6*10**-19;    #charge of electron(C)\n",
    "KB=1.38*10**-23;     #Boltzmann's Constant(m^2 Kg s^-2 k^-1)\n",
    "\n",
    "#Calculation\n",
    "E1=(Ef+((KB*T)*(math.log(1-f1)-math.log(f1))))/e;    #The energy for probability of occupancy at 1st(eV)\n",
    "E2=(Ef+((KB*T)*(math.log(1-f2)-math.log(f2))))/e;    #The energy for 1st at which the probability of occupancy(eV)\n",
    "E3=(Ef+((KB*T)*(math.log(1-f3)-math.log(f3))))/e;    #The energy for 1st at which the probability of occupancy(eV)\n",
    "\n",
    "#Result\n",
    "print \"The energy for probability of occupancy at 1st is\",round(E1,2),\"eV\"\n",
    "print \"The energy for probability of occupancy at 2nd is\",round(E2,3),\"eV\"\n",
    "print \"The energy for probability of occupancy at 3rd is\",E3,\"eV\""
   ]
  },
  {
   "cell_type": "markdown",
   "metadata": {},
   "source": [
    "##Example number 9.8, Page number 245"
   ]
  },
  {
   "cell_type": "code",
   "execution_count": 11,
   "metadata": {
    "collapsed": false
   },
   "outputs": [
    {
     "name": "stdout",
     "output_type": "stream",
     "text": [
      "The probability of unoccupancy by an electron at room temperature is 0.97946\n"
     ]
    }
   ],
   "source": [
    "#importing modules\n",
    "import math\n",
    "from __future__ import division\n",
    "\n",
    "#Variable declaration\n",
    "X=0.1*1.6*10**-19;     #difference between energy and fermi energy(J)\n",
    "T=300;    #temperature(K)\n",
    "KB=1.38*10**-23;    #Boltzmann's Constant(m^2 Kg s^-2 k^-1)\n",
    "\n",
    "#Calculation\n",
    "f=1-1/(1+math.exp(X/(KB*T)));     #The probability of unoccupancy by an electron at room temperature \n",
    "\n",
    "#Result\n",
    "print \"The probability of unoccupancy by an electron at room temperature is\",round(f,5)"
   ]
  },
  {
   "cell_type": "markdown",
   "metadata": {},
   "source": [
    "##Example number 9.9, Page number 252"
   ]
  },
  {
   "cell_type": "code",
   "execution_count": 18,
   "metadata": {
    "collapsed": false
   },
   "outputs": [
    {
     "name": "stdout",
     "output_type": "stream",
     "text": [
      "The fermi energy for the metal is 11.66 eV\n",
      "The fermi factor is 0.0205\n"
     ]
    }
   ],
   "source": [
    "#importing modules\n",
    "import math\n",
    "from __future__ import division\n",
    "\n",
    "#Variable declaration\n",
    "n=4;     #number of atoms/unit cell in Al\n",
    "a=4.05*10**-10;    #lattice constant of Aluminium which is FCC crystal(m)\n",
    "nf=3;   #number of free electrons per atom in Al\n",
    "T=300;   #ambient temperature(K)\n",
    "x=0.1*1.6*10**-19;   #The same difference energy and fermi energy(J)\n",
    "m=9.11*10**-31;    #mass of electon(kg)\n",
    "h=6.625*10**-34;   #plank's constant(m^2 Kg/sec)\n",
    "KB=1.38*10**-23;   #Boltzmann's Constant(m^2 Kg s^-2 k^-1)\n",
    "\n",
    "#Calculation\n",
    "nc=n*nf/(a**3);   #number of electrons per unit volume\n",
    "Ef=h**2/(8*m)*((3*nc)/math.pi)**(2/3);   #The fermi energy for the metal(eV)\n",
    "f=1/(1+math.exp(x/(KB*T)));    #he fermi factor\n",
    "\n",
    "#Result\n",
    "print \"The fermi energy for the metal is\",round(Ef/(1.6*10**-19),2),\"eV\"\n",
    "print \"The fermi factor is\",round(f,4)"
   ]
  },
  {
   "cell_type": "markdown",
   "metadata": {},
   "source": [
    "##Example number 9.10, Page number 253"
   ]
  },
  {
   "cell_type": "code",
   "execution_count": 20,
   "metadata": {
    "collapsed": false
   },
   "outputs": [
    {
     "name": "stdout",
     "output_type": "stream",
     "text": [
      "The fermi energy for cesium is 1.537 eV\n"
     ]
    }
   ],
   "source": [
    "#importing modules\n",
    "import math\n",
    "from __future__ import division\n",
    "\n",
    "#Variable declaration\n",
    "n=2;   #number of atoms/unit cell in cesium which is Bcc\n",
    "a=6.14*10**-10;   #lattice constant of cesium which is BCC crystal(m)\n",
    "nf=1;   #number of free electrons per atom in cesium\n",
    "m=9.11*10**-31;   #mass of electon(kg)\n",
    "h=6.625*10**-34;    #plank's constant(m^2 Kg/sec)\n",
    "KB=1.38*10**-23;   #Boltzmann's Constant(m^2 Kg s^-2 k^-1)\n",
    "e=1.6*10**-19;    #charge of electron(C)\n",
    "\n",
    "#Calculation\n",
    "nc=n*nf/(a**3);   #number of electrons per unit volume\n",
    "Ef=(h**2/(8*m)*((3*nc)/math.pi)**(2/3))/e;    #The fermi energy for the metal(eV)\n",
    "\n",
    "#Result\n",
    "print \"The fermi energy for cesium is\",round(Ef,3),\"eV\""
   ]
  },
  {
   "cell_type": "markdown",
   "metadata": {},
   "source": [
    "##Example number 9.11, Page number 254"
   ]
  },
  {
   "cell_type": "code",
   "execution_count": 22,
   "metadata": {
    "collapsed": false
   },
   "outputs": [
    {
     "name": "stdout",
     "output_type": "stream",
     "text": [
      "The number of free electrons per unit volume in potassium is 1.38 *10**28 electrons/m^3\n"
     ]
    }
   ],
   "source": [
    "#importing modules\n",
    "import math\n",
    "from __future__ import division\n",
    "\n",
    "#Variable declaration\n",
    "Ef=2.1*1.6*10**-19;    #The fermi energy level in potassium at a particular temperature(J)\n",
    "m=9.11*10**-31;     #mass of electron(kg)\n",
    "h=6.625*10**-34;    #plank's constant(m^2 Kg/sec)\n",
    "\n",
    "#Calculation\n",
    "nc=(8*m/(h**2)*Ef)**(3/2)*(math.pi/3);   #ThE Number of free electrons per unit volume in potassium(electrons/m^3)\n",
    "\n",
    "#Result\n",
    "print \"The number of free electrons per unit volume in potassium is\",round(nc/10**28,2),\"*10**28 electrons/m^3\""
   ]
  },
  {
   "cell_type": "markdown",
   "metadata": {},
   "source": [
    "##Example number 9.12, Page number 254"
   ]
  },
  {
   "cell_type": "code",
   "execution_count": 24,
   "metadata": {
    "collapsed": false
   },
   "outputs": [
    {
     "name": "stdout",
     "output_type": "stream",
     "text": [
      "The fermi energy for the sodium is 3.155 eV\n"
     ]
    }
   ],
   "source": [
    "#importing modules\n",
    "import math\n",
    "from __future__ import division\n",
    "\n",
    "#Variable declaration\n",
    "AW=23;    #atomic weight of sodium(gm/mole)\n",
    "d=0.971*10**6;   #density of sodium(gm/m^3)\n",
    "m=9.11*10**-31;   #mass of electon(kg)\n",
    "h=6.625*10**-34;  #plank's constant(m^2 Kg/sec)\n",
    "AV=6.02*10**23;   #Avagadro number(mole^-1)\n",
    "e=1.6*10**-19;    #charge of electron(C)\n",
    "\n",
    "#Calculation\n",
    "nc=AV*d/AW;    #number of electrons per unit volume\n",
    "Ef=(h**2/(8*m)*((3*nc)/math.pi)**(2/3))/e;    #The fermi energy for the sodium(eV)\n",
    "\n",
    "#Result\n",
    "print \"The fermi energy for the sodium is\",round(Ef,3),\"eV\""
   ]
  },
  {
   "cell_type": "markdown",
   "metadata": {},
   "source": [
    "##Example number 9.13, Page number 255"
   ]
  },
  {
   "cell_type": "code",
   "execution_count": 26,
   "metadata": {
    "collapsed": false
   },
   "outputs": [
    {
     "name": "stdout",
     "output_type": "stream",
     "text": [
      "The fermi energy for the sodium is 7.046 eV\n",
      "answer varies due to rounding off errors\n"
     ]
    }
   ],
   "source": [
    "#importing modules\n",
    "import math\n",
    "from __future__ import division\n",
    "\n",
    "#Variable declaration\n",
    "AW=63.5;    #atomic weight of copper(u)\n",
    "M=63.5*1.66*10**-27;   #mass of one copper atom(kg)\n",
    "d=8.94*10**3;    #density of sodium(Kg/m^3)\n",
    "m=9.11*10**-31;  #mass of electon(Kg)\n",
    "h=6.625*10**-34;   #plank's constant(m^2 Kg/sec)\n",
    "e=1.6*10**-19;   #charge of electron(C)\n",
    "\n",
    "#Calculation\n",
    "nc=d/M;   #number of electrons per unit volume(electrons/m^3)\n",
    "Ef=h**2/(8*m)*((3*nc)/math.pi)**(2/3)/e;   #The fermi energy for the sodium(eV)\n",
    "\n",
    "#Result\n",
    "print \"The fermi energy for the sodium is\",round(Ef,3),\"eV\"\n",
    "print \"answer varies due to rounding off errors\""
   ]
  }
 ],
 "metadata": {
  "kernelspec": {
   "display_name": "Python 2",
   "language": "python",
   "name": "python2"
  },
  "language_info": {
   "codemirror_mode": {
    "name": "ipython",
    "version": 2
   },
   "file_extension": ".py",
   "mimetype": "text/x-python",
   "name": "python",
   "nbconvert_exporter": "python",
   "pygments_lexer": "ipython2",
   "version": "2.7.9"
  }
 },
 "nbformat": 4,
 "nbformat_minor": 0
}
