{
 "cells": [
  {
   "cell_type": "markdown",
   "metadata": {},
   "source": [
    "#12: Superconducting Materials"
   ]
  },
  {
   "cell_type": "markdown",
   "metadata": {},
   "source": [
    "##Example number 12.1, Page number 328"
   ]
  },
  {
   "cell_type": "code",
   "execution_count": 2,
   "metadata": {
    "collapsed": false
   },
   "outputs": [
    {
     "name": "stdout",
     "output_type": "stream",
     "text": [
      "The transition temperature for the isotope of mercury of mass number 200 is 4.2209 K\n"
     ]
    }
   ],
   "source": [
    "#importing modules\n",
    "import math\n",
    "from __future__ import division\n",
    "\n",
    "#Variable declaration\n",
    "M1=202;   #mass number of mercury\n",
    "a=0.50;   #coefficient of mass number\n",
    "T1=4.2;   #temperaturefor mass number 200(K)\n",
    "M2=200;   #mass number of mercury\n",
    "\n",
    "#Calculation\n",
    "T2=((M1/M2)**a)*T1;   #The transition temperature for the isotope of mercury of mass number 200(K)\n",
    "\n",
    "#Result\n",
    "print \"The transition temperature for the isotope of mercury of mass number 200 is\",round(T2,4),\"K\""
   ]
  },
  {
   "cell_type": "markdown",
   "metadata": {},
   "source": [
    "##Example number 12.2, Page number 328"
   ]
  },
  {
   "cell_type": "code",
   "execution_count": 4,
   "metadata": {
    "collapsed": false
   },
   "outputs": [
    {
     "name": "stdout",
     "output_type": "stream",
     "text": [
      "The critical field is 0.1117 T\n"
     ]
    }
   ],
   "source": [
    "#importing modules\n",
    "import math\n",
    "from __future__ import division\n",
    "\n",
    "#Variable declaration\n",
    "Tc=9.15;   #critical temperature of Nb(K)\n",
    "t=6;  #temperature of critical field(K)\n",
    "Ho=0.196;  #The critical field AT 0K(T)\n",
    "\n",
    "#Calculation\n",
    "Hc=(Ho*(1-(t/Tc)**2));     #The critical field at 6K(T)\n",
    "\n",
    "#Result\n",
    "print \"The critical field is\",round(Hc,4),\"T\""
   ]
  },
  {
   "cell_type": "markdown",
   "metadata": {},
   "source": [
    "##Example number 12.3, Page number 329"
   ]
  },
  {
   "cell_type": "code",
   "execution_count": 6,
   "metadata": {
    "collapsed": false
   },
   "outputs": [
    {
     "name": "stdout",
     "output_type": "stream",
     "text": [
      "The Isotopic mass if the critical temperature falls is 204.55\n"
     ]
    }
   ],
   "source": [
    "#importing modules\n",
    "import math\n",
    "from __future__ import division\n",
    "\n",
    "#Variable declaration\n",
    "M1=199.5;   #Isotopic mass of metal\n",
    "T1=4.185;   #Critical temperature for a metal with isotopic mass(K)\n",
    "T2=4.133;   #fall of critical temperature for a metal with isotopic mass(K)\n",
    "a=0.50;     #coefficient of mass\n",
    "\n",
    "#Calculation\n",
    "M2=(((M1)**a)*(T1/T2))**2;     #The Isotopic mass if the critical temperature falls to 4.133\n",
    "\n",
    "#Result\n",
    "print \"The Isotopic mass if the critical temperature falls is\",round(M2,2)"
   ]
  },
  {
   "cell_type": "markdown",
   "metadata": {},
   "source": [
    "##Example number 12.4, Page number 329"
   ]
  },
  {
   "cell_type": "code",
   "execution_count": 9,
   "metadata": {
    "collapsed": false
   },
   "outputs": [
    {
     "name": "stdout",
     "output_type": "stream",
     "text": [
      "The critical current through a long thin superconductor is 22.619 A\n",
      "answer varies due to rounding off errors\n"
     ]
    }
   ],
   "source": [
    "#importing modules\n",
    "import math\n",
    "from __future__ import division\n",
    "\n",
    "#Variable declaration\n",
    "Hc=7.2*10**3;    #The critical magnetic field(A/m)\n",
    "r=0.5*10**-3;    #radius of long thin superconducting wire(m)\n",
    "\n",
    "#Calculation\n",
    "Ic=(2*math.pi*Hc*r);     #The critical current through a long thin superconductor(A)\n",
    "\n",
    "#Result\n",
    "print \"The critical current through a long thin superconductor is\",round(Ic,3),\"A\"\n",
    "print \"answer varies due to rounding off errors\""
   ]
  },
  {
   "cell_type": "markdown",
   "metadata": {},
   "source": [
    "##Example number 12.5, Page number 329"
   ]
  },
  {
   "cell_type": "code",
   "execution_count": 11,
   "metadata": {
    "collapsed": false
   },
   "outputs": [
    {
     "name": "stdout",
     "output_type": "stream",
     "text": [
      "The critical field is 0.021659 tesla\n"
     ]
    }
   ],
   "source": [
    "#importing modules\n",
    "import math\n",
    "from __future__ import division\n",
    "\n",
    "#Variable declaration\n",
    "Tc=3.7;     #critical temperature of superconducting Sn(K)\n",
    "t=2;   #temperature of critical field(K)\n",
    "Ho=0.0306;   #The critical field at 0K(T)\n",
    "\n",
    "#Calculation\n",
    "Hc=(Ho*(1-(t/Tc)**2));    #The critical field at 6K(T)\n",
    "\n",
    "#Result\n",
    "print \"The critical field is\",round(Hc,6),\"tesla\""
   ]
  },
  {
   "cell_type": "markdown",
   "metadata": {},
   "source": [
    "##Example number 12.6, Page number 329"
   ]
  },
  {
   "cell_type": "code",
   "execution_count": 13,
   "metadata": {
    "collapsed": false
   },
   "outputs": [
    {
     "name": "stdout",
     "output_type": "stream",
     "text": [
      "The critical density for a superconducting wire of lead is 134.33 A\n",
      "answer varies due to rounding off errors\n"
     ]
    }
   ],
   "source": [
    "#importing modules\n",
    "import math\n",
    "from __future__ import division\n",
    "\n",
    "#Variable declaration\n",
    "Ho=6.5*10**4;   #The critical field at 0K(A/m)\n",
    "Tc=7.18;    #The temperature for lead(K)\n",
    "r=0.5*10**-3;   #radius of superconducting wire of lead(m)\n",
    "T=4.2;    #temperature of superconducting wire(K)\n",
    "\n",
    "#Calculation\n",
    "Hc=(Ho*(1-(T/Tc)**2));    #The critical field(KA/m)\n",
    "Ic=2*math.pi*Hc*r;    #The critical density for a superconducting wire of lead(A)\n",
    "\n",
    "#Result\n",
    "print \"The critical density for a superconducting wire of lead is\",round(Ic,2),\"A\"\n",
    "print \"answer varies due to rounding off errors\""
   ]
  },
  {
   "cell_type": "markdown",
   "metadata": {},
   "source": [
    "##Example number 12.7, Page number 330"
   ]
  },
  {
   "cell_type": "code",
   "execution_count": 16,
   "metadata": {
    "collapsed": false
   },
   "outputs": [
    {
     "name": "stdout",
     "output_type": "stream",
     "text": [
      "The critical temperature is 12.13395 K\n"
     ]
    }
   ],
   "source": [
    "#importing modules\n",
    "import math\n",
    "from __future__ import division\n",
    "\n",
    "#Variable declaration\n",
    "Hc=10**5;    #The critical field for vanadium(A/m)\n",
    "Ho=2*10**5;   #The critical field for vanadium at 0K(A/m)\n",
    "T=8.58;    #temperature for vanadium(K)\n",
    "\n",
    "#Calculation\n",
    "Tc=T/math.sqrt(1-(Hc/Ho));     #The critical temperature(K)\n",
    "\n",
    "#Result\n",
    "print \"The critical temperature is\",round(Tc,5),\"K\""
   ]
  },
  {
   "cell_type": "markdown",
   "metadata": {},
   "source": [
    "##Example number 12.8, Page number 338"
   ]
  },
  {
   "cell_type": "code",
   "execution_count": 18,
   "metadata": {
    "collapsed": false
   },
   "outputs": [
    {
     "name": "stdout",
     "output_type": "stream",
     "text": [
      "The frequency of the radiation emitted by the junction is 2.85196 *10**9 Hz\n"
     ]
    }
   ],
   "source": [
    "#importing modules\n",
    "import math\n",
    "from __future__ import division\n",
    "\n",
    "#Variable declaration\n",
    "V=5.9*10**-6;     #voltage applied across a Josephson junction(V)\n",
    "e=1.6*10**-19;     #charge of electron(c)\n",
    "h=6.62*10**-34;    #Planck's constant(J-sec)\n",
    "\n",
    "#Calculation\n",
    "v=(2*e*V)/h;     #The frequency of the radiation emitted by the junction(Hz)\n",
    "\n",
    "#Result\n",
    "print \"The frequency of the radiation emitted by the junction is\",round(v/10**9,5),\"*10**9 Hz\""
   ]
  }
 ],
 "metadata": {
  "kernelspec": {
   "display_name": "Python 2",
   "language": "python",
   "name": "python2"
  },
  "language_info": {
   "codemirror_mode": {
    "name": "ipython",
    "version": 2
   },
   "file_extension": ".py",
   "mimetype": "text/x-python",
   "name": "python",
   "nbconvert_exporter": "python",
   "pygments_lexer": "ipython2",
   "version": "2.7.9"
  }
 },
 "nbformat": 4,
 "nbformat_minor": 0
}
