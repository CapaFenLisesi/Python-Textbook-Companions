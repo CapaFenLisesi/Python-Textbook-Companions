{
 "metadata": {
  "name": ""
 },
 "nbformat": 3,
 "nbformat_minor": 0,
 "worksheets": [
  {
   "cells": [
    {
     "cell_type": "heading",
     "level": 1,
     "metadata": {},
     "source": [
      "Chapter 7 : Oscillators"
     ]
    },
    {
     "cell_type": "heading",
     "level": 2,
     "metadata": {},
     "source": [
      "Example : 7.1\n",
      " - Page No : 245"
     ]
    },
    {
     "cell_type": "code",
     "collapsed": false,
     "input": [
      "from __future__ import division\n",
      "from numpy import pi, sqrt\n",
      "#Given data\n",
      "L = 29.3 # in \u00b5H\n",
      "L = L * 10**-6 # in H\n",
      "C = 450 # in pF\n",
      "C = C * 10**-12 # in F\n",
      "f_o = 1/( 2*pi*(sqrt( L*C )) ) # in Hz\n",
      "f_o = f_o * 10**-6 # in MHz\n",
      "print \"The frequency of oscillation = %0.2f MHz \" %f_o"
     ],
     "language": "python",
     "metadata": {},
     "outputs": [
      {
       "output_type": "stream",
       "stream": "stdout",
       "text": [
        "The frequency of oscillation = 1.39 MHz \n"
       ]
      }
     ],
     "prompt_number": 4
    },
    {
     "cell_type": "heading",
     "level": 2,
     "metadata": {},
     "source": [
      "Example : 7.2\n",
      " - Page No : 245"
     ]
    },
    {
     "cell_type": "code",
     "collapsed": false,
     "input": [
      " #Given data\n",
      "f_o = 100 # in kHz\n",
      "f_o = f_o * 10**3 # in Hz\n",
      "L = 100 #in \u00b5H\n",
      "L = L * 10**-6 # in H\n",
      "#Formula  f_o = 1/( 2*pi*(sqrt(L*C)) ) \n",
      "C1 = 1/(4*(pi**2)*(f_o**2)*L) # in F\n",
      "C1 = C1 * 10**12 # in pF\n",
      "f_o = 1500 # in kHz\n",
      "f_o = f_o * 10**3 # in Hz\n",
      "C2 = 1/(4*(pi**2)*(f_o**2)*L) # in F\n",
      "C2 = C2 * 10**12 # in pF\n",
      "print \"The range of variable capacitor =\",round(C2,1),\"pF to -\",int(C1,),\"pF\""
     ],
     "language": "python",
     "metadata": {},
     "outputs": [
      {
       "output_type": "stream",
       "stream": "stdout",
       "text": [
        "The range of variable capacitor = 112.6 pF to - 25330 pF\n"
       ]
      }
     ],
     "prompt_number": 5
    },
    {
     "cell_type": "heading",
     "level": 2,
     "metadata": {},
     "source": [
      "Example : 7.3\n",
      " - Page No : 245"
     ]
    },
    {
     "cell_type": "code",
     "collapsed": false,
     "input": [
      " #Given data\n",
      "V_CC = 12 # in V\n",
      "Pout = 88 # in mW\n",
      "Plosses = 8 # in mW\n",
      "Pin = Pout+Plosses # in mW\n",
      "Pin = Pin * 10**-3 # in W\n",
      "I_C = Pin/V_CC # in A\n",
      "Gm = 10 # in mA/V\n",
      "Gm = Gm * 10**-3 # in A/V\n",
      "V_B = I_C/Gm # in V\n",
      "ratio = V_CC/V_B # Transformer winding turn ratio\n",
      "print \"The Transformer winding turn ratio = %0.f \" %ratio"
     ],
     "language": "python",
     "metadata": {},
     "outputs": [
      {
       "output_type": "stream",
       "stream": "stdout",
       "text": [
        "The Transformer winding turn ratio = 15 \n"
       ]
      }
     ],
     "prompt_number": 6
    },
    {
     "cell_type": "heading",
     "level": 2,
     "metadata": {},
     "source": [
      "Example : 7.4\n",
      " - Page No : 249"
     ]
    },
    {
     "cell_type": "code",
     "collapsed": false,
     "input": [
      " #Given data\n",
      "L = 100 # in \u00b5H\n",
      "L = L * 10**-6 # in H\n",
      "C1 = 0.001 # in \u00b5F\n",
      "C1 = C1 * 10**-6 # in F\n",
      "C2 = 0.01 # in \u00b5F\n",
      "C2 = C2 * 10**-6 # in F\n",
      "f = (1/(2*pi))*(sqrt( (1/(L*C1))+(1/(L*C2)) )) # in Hz\n",
      "f = f * 10**-3 # in kHz\n",
      "print \"The opertaing frequency = %0.f kHz \" %f\n",
      "Beta = C1/C2 # feedback fraction\n",
      "print \"The feed back fraction = %0.1f \" %Beta\n",
      "Amin = 1/Beta # minimum gain to sustain oscillations\n",
      "print \"The minimum gain to sustain oscillations = %0.f \" %Amin\n",
      "# A = R_C/R_E  \n",
      "R_C = 2.5 # in k ohm\n",
      "R_C = R_C * 10**3 # in ohm\n",
      "R_E = R_C/Amin # in ohm\n",
      "print \"The emitter resistance = %0.f ohm \" %R_E"
     ],
     "language": "python",
     "metadata": {},
     "outputs": [
      {
       "output_type": "stream",
       "stream": "stdout",
       "text": [
        "The opertaing frequency = 528 kHz \n",
        "The feed back fraction = 0.1 \n",
        "The minimum gain to sustain oscillations = 10 \n",
        "The emitter resistance = 250 ohm \n"
       ]
      }
     ],
     "prompt_number": 7
    },
    {
     "cell_type": "heading",
     "level": 2,
     "metadata": {},
     "source": [
      "Example : 7.5\n",
      " - Page No : 249"
     ]
    },
    {
     "cell_type": "code",
     "collapsed": false,
     "input": [
      " #Given data\n",
      "f_o = 950 # in kHz\n",
      "f_o = f_o  *10**3 # in Hz\n",
      "C1 = 100 # in pF\n",
      "C1 = C1 * 10**-12 # in F\n",
      "C2 = 7500 # in pF\n",
      "C2 = C2 * 10**-12 # in F\n",
      "#Formula  f_o = (1/(2*Pi))*(sqrt( (1/(L*C1))+(1/(L*C2)) )) \n",
      "L1 = (1/(4*(pi**2)*(f_o**2)))*( (1/C1) + (1/C2) ) # in H\n",
      "L1 = L1 * 10**3 # in mH\n",
      "f_o = 2050 # in kHz\n",
      "f_o = f_o * 10**3 # in Hz\n",
      "L2 = (1/(4*(pi**2)*(f_o**2)))*( (1/C1) + (1/C2) ) # in H\n",
      "L2 = L2 * 10**3 # in mH\n",
      "print \"The range of inductance values =\",round(L2,3),\"mH to\",round(L1,3),\"mH\""
     ],
     "language": "python",
     "metadata": {},
     "outputs": [
      {
       "output_type": "stream",
       "stream": "stdout",
       "text": [
        "The range of inductance values = 0.061 mH to 0.284 mH\n"
       ]
      }
     ],
     "prompt_number": 8
    },
    {
     "cell_type": "heading",
     "level": 2,
     "metadata": {},
     "source": [
      "Example : 7.6\n",
      " - Page No : 252"
     ]
    },
    {
     "cell_type": "code",
     "collapsed": false,
     "input": [
      " #Given data\n",
      "L1 = 30 # in mH\n",
      "L1 = L1 * 10**-3 # in H\n",
      "L2 = 1*10**-8 # in H\n",
      "M = 0 # in H\n",
      "L = L1+L2+(2*M) # in H\n",
      "C = 100 # in pF\n",
      "C = C * 10**-12 # in F\n",
      "f_o = 1/(2*pi*(sqrt( L*C ))) # in Hz \n",
      "f_o = f_o * 10**-3 # in kHz\n",
      "print \"The frequency of oscillation = %0.1f kHz \" %f_o"
     ],
     "language": "python",
     "metadata": {},
     "outputs": [
      {
       "output_type": "stream",
       "stream": "stdout",
       "text": [
        "The frequency of oscillation = 91.9 kHz \n"
       ]
      }
     ],
     "prompt_number": 9
    },
    {
     "cell_type": "heading",
     "level": 2,
     "metadata": {},
     "source": [
      "Example : 7.7\n",
      " - Page No : 252"
     ]
    },
    {
     "cell_type": "code",
     "collapsed": false,
     "input": [
      " #Given data\n",
      "L1 = 1 # in mH\n",
      "L1 = L1 * 10**-3 # in H\n",
      "L2 = 100 # in \u00b5H\n",
      "L2 = L2 * 10**-6 # in H\n",
      "M = 50 # in \u00b5H\n",
      "M = M * 10**-6 # in H\n",
      "C = 100 # in pF\n",
      "C = C * 10**-12 # in F\n",
      "L = L1+L2+(2*M) # in H\n",
      "f_o = 1/(2*pi*(sqrt( L*C ))) # in Hz\n",
      "f_o = f_o * 10**-3 # in kHz\n",
      "print \"The oscillation frequency = %0.f kHz \" %f_o"
     ],
     "language": "python",
     "metadata": {},
     "outputs": [
      {
       "output_type": "stream",
       "stream": "stdout",
       "text": [
        "The oscillation frequency = 459 kHz \n"
       ]
      }
     ],
     "prompt_number": 10
    },
    {
     "cell_type": "heading",
     "level": 2,
     "metadata": {},
     "source": [
      "Example : 7.8\n",
      " - Page No : 255"
     ]
    },
    {
     "cell_type": "code",
     "collapsed": false,
     "input": [
      " #Given data\n",
      "Rs = 5 # in k ohm\n",
      "Rs =Rs * 10**3 # in ohm\n",
      "Ls = 0.8 # in H\n",
      "Cs = 0.08 # in pF\n",
      "Cs = Cs * 10**-12 # in pF\n",
      "C_P = 1 # in pF\n",
      "C_P = C_P * 10**-12 # in F\n",
      "f_s = 1/(2*pi*(sqrt( Ls*Cs ))) # in Hz\n",
      "f_s = f_s * 10**-3 # in kHz\n",
      "print \"The series resonant frequency = %0.f kHz \" %f_s\n",
      "f_p = (1/(2*pi)) * (sqrt( (1+(Cs/C_P))/(Ls*Cs) )) # in Hz\n",
      "f_p = f_p * 10**-3 # in kHz\n",
      "print \"The parallel resonant frequency = %0.f kHz \" %f_p"
     ],
     "language": "python",
     "metadata": {},
     "outputs": [
      {
       "output_type": "stream",
       "stream": "stdout",
       "text": [
        "The series resonant frequency = 629 kHz \n",
        "The parallel resonant frequency = 654 kHz \n"
       ]
      }
     ],
     "prompt_number": 11
    },
    {
     "cell_type": "heading",
     "level": 2,
     "metadata": {},
     "source": [
      "Example : 7.9\n",
      " - Page No : 255"
     ]
    },
    {
     "cell_type": "code",
     "collapsed": false,
     "input": [
      " #Given data\n",
      "f_s = 1 # in MHz\n",
      "f_s = f_s * 10**6 # in Hz\n",
      "Cs = 0.1 # in pF\n",
      "Cs = Cs * 10**-12 # in pF\n",
      "# f_s = 1/(2*pi*(sqrt( Ls*Cs ))) \n",
      "Ls = 1/(4*(pi**2)*Cs*(f_s**2)) # in H\n",
      "print \"The value of inductance = %0.4f H \" %Ls"
     ],
     "language": "python",
     "metadata": {},
     "outputs": [
      {
       "output_type": "stream",
       "stream": "stdout",
       "text": [
        "The value of inductance = 0.2533 H \n"
       ]
      }
     ],
     "prompt_number": 12
    },
    {
     "cell_type": "heading",
     "level": 2,
     "metadata": {},
     "source": [
      "Example : 7.10\n",
      " - Page No : 255"
     ]
    },
    {
     "cell_type": "code",
     "collapsed": false,
     "input": [
      " #Given data\n",
      "C = 0.04 # in pF\n",
      "Cdesh = 2 # in pF\n",
      "Per1 = (1/2)*(C/Cdesh)*100 # in %\n",
      "Per2 = (sqrt(1+C/Cdesh)-1)*100 # in %\n",
      "print \"Parallel resonant frequency is greater than series resonant frequency by\",round(Per2,3),\"%\""
     ],
     "language": "python",
     "metadata": {},
     "outputs": [
      {
       "output_type": "stream",
       "stream": "stdout",
       "text": [
        "Parallel resonant frequency is greater than series resonant frequency by 0.995 %\n"
       ]
      }
     ],
     "prompt_number": 13
    },
    {
     "cell_type": "heading",
     "level": 2,
     "metadata": {},
     "source": [
      "Example : 7.11\n",
      " - Page No : 260"
     ]
    },
    {
     "cell_type": "code",
     "collapsed": false,
     "input": [
      " #Given data\n",
      "R1 = 800 # in k ohm\n",
      "R1 = R1 * 10**3 # in ohm\n",
      "R2 = R1 # in ohm\n",
      "R3 = R1 # in ohm\n",
      "R = R1 # in ohm\n",
      "C1 = 100 # in pF\n",
      "C1 = C1 * 10**-12 # in F\n",
      "C2 = C1 # in F\n",
      "C3 = C1 # in F\n",
      "C = C1 # in F\n",
      "f_o = 1/(2*pi*R*C*sqrt(6)) # in Hz\n",
      "print \"The frequency of oscillation = %0.f Hz \" %f_o"
     ],
     "language": "python",
     "metadata": {},
     "outputs": [
      {
       "output_type": "stream",
       "stream": "stdout",
       "text": [
        "The frequency of oscillation = 812 Hz \n"
       ]
      }
     ],
     "prompt_number": 14
    },
    {
     "cell_type": "heading",
     "level": 2,
     "metadata": {},
     "source": [
      "Example : 7.12\n",
      " - Page No : 260"
     ]
    },
    {
     "cell_type": "code",
     "collapsed": false,
     "input": [
      " #Given data\n",
      "C1 = 0.016 # in \u00b5F\n",
      "C1 = C1 * 10**-6 # in F\n",
      "C2 = C1 # in F\n",
      "C3 = C1 # in F\n",
      "C = C1 # in F\n",
      "#f_o = 1/(2*pi*R*C*sqrt(10)) \n",
      "f_o = 1 # in kHz\n",
      "f_o = f_o * 10**3 # in Hz\n",
      "R = 1/(2*pi*f_o*C*sqrt(10)) # in  ohm\n",
      "print \"The value of resiatnce = %0.f ohm \" %R\n",
      "print \"Standard value : 3.3 kohm\""
     ],
     "language": "python",
     "metadata": {},
     "outputs": [
      {
       "output_type": "stream",
       "stream": "stdout",
       "text": [
        "The value of resiatnce = 3146 ohm \n",
        "Standard value : 3.3 kohm\n"
       ]
      }
     ],
     "prompt_number": 15
    },
    {
     "cell_type": "heading",
     "level": 2,
     "metadata": {},
     "source": [
      "Example : 7.13\n",
      " - Page No : 263"
     ]
    },
    {
     "cell_type": "code",
     "collapsed": false,
     "input": [
      " #Given data\n",
      "f_o = 10 # in kHz\n",
      "f_o = f_o * 10**3 # in Hz\n",
      "R = 200 # in k ohm\n",
      "R = R * 10**3 # in ohm\n",
      "C = 1/(2*pi*f_o*R) # in F\n",
      "C=C*10**12 # in pF\n",
      "print \"The value of C = %0.1f pF \" %C\n",
      "R4 = R # in ohm\n",
      "R4= R4*10**-3 # in k ohm\n",
      "print \"The value of R4 = %0.f k ohm \" %R4\n",
      "R3 = R4*2 # in k ohm\n",
      "print \"The value of R3 = %0.f k ohm \" %R3"
     ],
     "language": "python",
     "metadata": {},
     "outputs": [
      {
       "output_type": "stream",
       "stream": "stdout",
       "text": [
        "The value of C = 79.6 pF \n",
        "The value of R4 = 200 k ohm \n",
        "The value of R3 = 400 k ohm \n"
       ]
      }
     ],
     "prompt_number": 16
    },
    {
     "cell_type": "heading",
     "level": 2,
     "metadata": {},
     "source": [
      "Example : 7.14\n",
      " - Page No : 263"
     ]
    },
    {
     "cell_type": "code",
     "collapsed": false,
     "input": [
      " #Given data\n",
      "f = 15 # in kHz\n",
      "f = f * 10**3 # in Hz\n",
      "R = 200 # in k ohm\n",
      "R = R * 10**3 # in ohm\n",
      "C = 1/(2*pi*f*R) # in F\n",
      "C= C*10**12 # in pF\n",
      "print \"The value of C = %0.f pF \" %C\n",
      "R4 = R # in ohm\n",
      "R4= R4*10**-3 # in k ohm\n",
      "print \"The value of R4 = %0.f k ohm \" %R4\n",
      "R3 = R4*2 # in k ohm\n",
      "print \"The value of R3 = %0.f k ohm \" %R3"
     ],
     "language": "python",
     "metadata": {},
     "outputs": [
      {
       "output_type": "stream",
       "stream": "stdout",
       "text": [
        "The value of C = 53 pF \n",
        "The value of R4 = 200 k ohm \n",
        "The value of R3 = 400 k ohm \n"
       ]
      }
     ],
     "prompt_number": 17
    },
    {
     "cell_type": "heading",
     "level": 2,
     "metadata": {},
     "source": [
      "Example : 7.15\n",
      " - Page No : 263"
     ]
    },
    {
     "cell_type": "code",
     "collapsed": false,
     "input": [
      " #Given data\n",
      "R1 = 20 # in k ohm\n",
      "R1 = R1 * 10**3 # in ohm\n",
      "R2 = R1 # in ohm\n",
      "R = R1 # in ohm\n",
      "C1 = 1000 # in pF\n",
      "C1 = C1 * 10**-12 # in F\n",
      "C2 = C1 # in F\n",
      "C = C1 # in F\n",
      "f = 1/(2*pi*R*C) # in Hz\n",
      "f= f*10**-3 # in kHz\n",
      "print \"The frequency of oscillations = %0.2f kHz \" %f"
     ],
     "language": "python",
     "metadata": {},
     "outputs": [
      {
       "output_type": "stream",
       "stream": "stdout",
       "text": [
        "The frequency of oscillations = 7.96 kHz \n"
       ]
      }
     ],
     "prompt_number": 18
    },
    {
     "cell_type": "heading",
     "level": 2,
     "metadata": {},
     "source": [
      "Example : 7.16\n",
      " - Page No : 265"
     ]
    },
    {
     "cell_type": "code",
     "collapsed": false,
     "input": [
      "from math import log10\n",
      "#Given data\n",
      "R_E = 60 # in k ohm\n",
      "R_E = R_E * 10**3 # in ohm\n",
      "C = 0.25 # in \u00b5F\n",
      "C = C * 10**-6 # in F\n",
      "Eta = 0.65 \n",
      "f = 1/(2.3*R_E*C*log10(1/(1-Eta))) # in Hz\n",
      "print \"The pulse repetition frequency = %0.1f Hz \" %f"
     ],
     "language": "python",
     "metadata": {},
     "outputs": [
      {
       "output_type": "stream",
       "stream": "stdout",
       "text": [
        "The pulse repetition frequency = 63.6 Hz \n"
       ]
      }
     ],
     "prompt_number": 19
    }
   ],
   "metadata": {}
  }
 ]
}