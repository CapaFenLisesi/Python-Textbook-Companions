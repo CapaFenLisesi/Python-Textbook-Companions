{
 "metadata": {
  "name": ""
 },
 "nbformat": 3,
 "nbformat_minor": 0,
 "worksheets": [
  {
   "cells": [
    {
     "cell_type": "heading",
     "level": 1,
     "metadata": {},
     "source": [
      "Chapter 3 : Magnetic Materials"
     ]
    },
    {
     "cell_type": "heading",
     "level": 2,
     "metadata": {},
     "source": [
      "Example : 3.1\n",
      " - Page No : 82"
     ]
    },
    {
     "cell_type": "code",
     "collapsed": false,
     "input": [
      "from __future__ import division\n",
      "#Given data\n",
      "x = 1000 # in AT/m assumed\n",
      "y = 0.2 # in T assumed\n",
      "a = 9.3 # area in cm**2 \n",
      "# Hysteresis loss/m**3/cycle\n",
      "H = a*x*y # in J/m**3/cycle\n",
      "print \"Hysteresis loss per cubic meter = %0.f per cycle in J/m**3/cycle \" %H\n",
      "f = 50 # in Hz\n",
      "# Hystersis loss per cubic meter at a frequency of 50Hz \n",
      "h = H*f # in W\n",
      "h = h * 10**-3 # in kW\n",
      "print \"Hystersis loss per cubic meter at a frequency of 50Hz = %0.f kW \" %h"
     ],
     "language": "python",
     "metadata": {},
     "outputs": [
      {
       "output_type": "stream",
       "stream": "stdout",
       "text": [
        "Hysteresis loss per cubic meter = 1860 per cycle in J/m**3/cycle \n",
        "Hystersis loss per cubic meter at a frequency of 50Hz = 93 kW \n"
       ]
      },
      {
       "output_type": "stream",
       "stream": "stdout",
       "text": [
        "Hysteresis loss per cubic meter = 1860 per cycle in J/m**3/cycle \n",
        "Hystersis loss per cubic meter at a frequency of 50Hz = 93 kW \n"
       ]
      }
     ],
     "prompt_number": 2
    },
    {
     "cell_type": "heading",
     "level": 2,
     "metadata": {},
     "source": [
      "Example : 3.2\n",
      " - Page No : 82"
     ]
    },
    {
     "cell_type": "code",
     "collapsed": false,
     "input": [
      " #Given data\n",
      "a = 93 # in cm**2\n",
      "x = 0.1 # in Wb/m**2\n",
      "y = 50 # in AT/m\n",
      "# Hysteresis loss/m**3/cycle \n",
      "H = a*x*y # in J/m**3/cycle\n",
      "f = 65 # in Hz\n",
      "V = 1500 # in cm**3\n",
      "V = V * 10**-6 # in m**3\n",
      "Ph = H*f*V # in W\n",
      "print \"The hysteresis loss = %0.2f W \" %Ph"
     ],
     "language": "python",
     "metadata": {},
     "outputs": [
      {
       "output_type": "stream",
       "stream": "stdout",
       "text": [
        "The hysteresis loss = 45.34 W \n"
       ]
      }
     ],
     "prompt_number": 3
    },
    {
     "cell_type": "heading",
     "level": 2,
     "metadata": {},
     "source": [
      "Example : 3.3\n",
      " - Page No : 82"
     ]
    },
    {
     "cell_type": "code",
     "collapsed": false,
     "input": [
      " #Given data\n",
      "Eta =628 # in J/m**3\n",
      "Bmax = 1.3 # in T\n",
      "f = 25 # in Hz\n",
      "m = 50 # in kg\n",
      "rho = 7.8*10**3 # in kg/m**3\n",
      "V = m/rho # in m**3\n",
      "H = round(Eta*(Bmax**1.6)*f*V) # Hystersis loss in J/s\n",
      "H = H * 60 *60 # Hystersis loss in J/hour\n",
      "print \"The Hystersis loss per hour = %0.f J \" %H\n",
      "h = Eta*(Bmax**1.6) # Hystersis loss/m**3/cycle\n",
      "# h = x*y*area of B_H loop\n",
      "x = 12.5 # in AT/m\n",
      "y = 0.1 # in T\n",
      "Area = h/(x*y) # in cm**2\n",
      "print \"The area of B-H loop = %0.f cm**2 \" %Area"
     ],
     "language": "python",
     "metadata": {},
     "outputs": [
      {
       "output_type": "stream",
       "stream": "stdout",
       "text": [
        "The Hystersis loss per hour = 550800 J \n",
        "The area of B-H loop = 764 cm**2 \n"
       ]
      }
     ],
     "prompt_number": 4
    },
    {
     "cell_type": "heading",
     "level": 2,
     "metadata": {},
     "source": [
      "Example : 3.4\n",
      " - Page No : 83"
     ]
    },
    {
     "cell_type": "code",
     "collapsed": false,
     "input": [
      " #Given data\n",
      "Pe1 = 1600 # in W\n",
      "Bmax1 = 1.2 # in T\n",
      "f1 = 50 # in Hz\n",
      "Bmax2 = 1.5 # in T\n",
      "f2 = 60 # in Hz\n",
      "Pe2 = Pe1*(Bmax2/Bmax1)**2*(f2/f1)**2 # in W\n",
      "print \"The eddy current loss = %0.f W \" %Pe2"
     ],
     "language": "python",
     "metadata": {},
     "outputs": [
      {
       "output_type": "stream",
       "stream": "stdout",
       "text": [
        "The eddy current loss = 3600 W \n"
       ]
      }
     ],
     "prompt_number": 5
    }
   ],
   "metadata": {}
  }
 ]
}