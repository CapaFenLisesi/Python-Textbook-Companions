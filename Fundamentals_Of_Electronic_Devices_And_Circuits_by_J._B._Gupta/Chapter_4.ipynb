{
 "metadata": {
  "name": ""
 },
 "nbformat": 3,
 "nbformat_minor": 0,
 "worksheets": [
  {
   "cells": [
    {
     "cell_type": "heading",
     "level": 1,
     "metadata": {},
     "source": [
      "Chapter 4 : Transistor Amplifiers"
     ]
    },
    {
     "cell_type": "heading",
     "level": 2,
     "metadata": {},
     "source": [
      "Example : 4.1\n",
      " - Page No : 105"
     ]
    },
    {
     "cell_type": "code",
     "collapsed": false,
     "input": [
      "%matplotlib inline\n",
      "import numpy as np\n",
      "import pylab as pl\n",
      "from __future__ import division \n",
      "#Given data\n",
      "V_CC = 20 # in V\n",
      "I_C= 2*10**-3 # in A\n",
      "I_CQ= I_C # in A\n",
      "I_E=I_C # in A\n",
      "R_C = 3 # in k ohm\n",
      "R_C = R_C * 10**3 # in ohm\n",
      "R_L = 12 # in k ohm\n",
      "R_L = R_L * 10**3 # in ohm\n",
      "R_E = 2 # in k ohm \n",
      "R_E = R_E * 10**3 # in ohm\n",
      "V_CE= np.arange(0,20,0.1) # in V\n",
      "I_C_sat= (V_CC-V_CE)/(R_C+R_E)*10**3 # in mA\n",
      "pl.plot(V_CE,I_C_sat) \n",
      "Rac= R_C*R_L/(R_C+R_L) # in ohm\n",
      "V_CEQ= V_CC-I_CQ*(R_C+R_E) # in V\n",
      "I_Csat= I_CQ+V_CEQ/Rac # in A\n",
      "I_Csat=I_Csat*10**3 # in mA\n",
      "V_CEoff= V_CEQ+I_CQ*Rac # in V\n",
      "pl.plot([V_CEoff,0],[0,I_Csat], 'r')\n",
      "pl.xlabel(\"V_CE in volts\")\n",
      "pl.ylabel(\"I_C in mA\")\n",
      "pl.title(\"DC and AC load line\")\n",
      "pl.plot([0,10],[2,2],'--')\n",
      "pl.plot([10,10],[0,2],'--')\n",
      "pl.show()\n",
      "# Maximum peak output signal\n",
      "POSmax= I_CQ*Rac # in V\n",
      "# Peak-to-peak value of output signal\n",
      "PP_out_sig= 2*POSmax # in V\n",
      "print \"Peak-to-peak value of output signal = %0.1f volts \" %PP_out_sig\n",
      "print \"DC and AC load line shown in figure.\""
     ],
     "language": "python",
     "metadata": {},
     "outputs": [
      {
       "metadata": {},
       "output_type": "display_data",
       "png": "[encoded data removed]",
       "text": [
        "<matplotlib.figure.Figure at 0x7f82e42e64d0>"
       ]
      },
      {
       "output_type": "stream",
       "stream": "stdout",
       "text": [
        "Peak-to-peak value of output signal = 9.6 volts \n",
        "DC and AC load line shown in figure.\n"
       ]
      }
     ],
     "prompt_number": 48
    },
    {
     "cell_type": "heading",
     "level": 2,
     "metadata": {},
     "source": [
      "Example : 4.2\n",
      " - Page No : 106"
     ]
    },
    {
     "cell_type": "code",
     "collapsed": false,
     "input": [
      " #Given data\n",
      "delV_BE = 0.02 # in V\n",
      "delI_B = 10 # in \u00b5A\n",
      "delI_B = delI_B * 10**-6 # in A\n",
      "delI_C = 1 # in mA\n",
      "delI_C = delI_C * 10**-3 # in A\n",
      "R_C = 5 # in k ohm\n",
      "R_C = R_C * 10**3 # in ohm\n",
      "R_L = 10 # in k ohm\n",
      "R_L = R_L * 10**3 # in ohm\n",
      "Zin = delV_BE/delI_B # in ohm\n",
      "Zin= Zin*10**-3 # in k ohm\n",
      "print \"The input impedance = %0.f k ohm \" %Zin\n",
      "Zin= Zin*10**3 # in ohm\n",
      "Beta = delI_C/delI_B # unit less\n",
      "print \"The current gain = %0.f \" %Beta \n",
      "Rac = (R_C*R_L)/(R_C+R_L) # in ohm\n",
      "Rac= Rac*10**-3 # in k ohm\n",
      "print \"The AC load resistance = %0.3f k ohm \" %Rac\n",
      "Rac= Rac*10**3 # in ohm\n",
      "Rin = 2 # in k ohm\n",
      "Rin = Rin * 10**3 # in ohm\n",
      "Av = Beta*(Rac/Rin) \n",
      "print \"The voltage gain = %0.1f \" %Av\n",
      "Ai = 100 # unit less\n",
      "Ap = Av*Ai # unit less\n",
      "print \"The power gain = %0.f \" %Ap"
     ],
     "language": "python",
     "metadata": {},
     "outputs": [
      {
       "output_type": "stream",
       "stream": "stdout",
       "text": [
        "The input impedance = 2 k ohm \n",
        "The current gain = 100 \n",
        "The AC load resistance = 3.333 k ohm \n",
        "The voltage gain = 166.7 \n",
        "The power gain = 16667 \n"
       ]
      }
     ],
     "prompt_number": 24
    },
    {
     "cell_type": "heading",
     "level": 2,
     "metadata": {},
     "source": [
      "Example : 4.3\n",
      " - Page No : 107"
     ]
    },
    {
     "cell_type": "code",
     "collapsed": false,
     "input": [
      " #Given data\n",
      "Alpha = 0.988 # unit less\n",
      "I_E = 1.2 # in mA\n",
      "I_E = I_E * 10**-3 # in A\n",
      "I_CO = 0 # in A\n",
      "I_C = Alpha*I_E + I_CO # in A\n",
      "I_B = I_E - I_C # in A\n",
      "I_B = I_B * 10**6 # in \u00b5A\n",
      "print \"The base current = %0.1f \u00b5A \" %I_B"
     ],
     "language": "python",
     "metadata": {},
     "outputs": [
      {
       "output_type": "stream",
       "stream": "stdout",
       "text": [
        "The base current = 14.4 \u00b5A \n"
       ]
      }
     ],
     "prompt_number": 25
    },
    {
     "cell_type": "heading",
     "level": 2,
     "metadata": {},
     "source": [
      "Example : 4.4\n",
      " - Page No : 107"
     ]
    },
    {
     "cell_type": "code",
     "collapsed": false,
     "input": [
      " #Given data\n",
      "I_B = 45 # in \u00b5A\n",
      "I_B = I_B * 10**-6 # in A\n",
      "I_C = 5.45 # in mA\n",
      "I_C = I_C * 10**-3 # in A\n",
      "I_E = I_B+I_C # in A\n",
      "I_E= I_E*10**3 # in mA\n",
      "print \"The value of I_E = %0.3f mA \" %I_E\n",
      "I_E= I_E*10**-3 # in A\n",
      "Alpha = I_C/I_E # unit less\n",
      "print \"The value of Alpha = %0.4f \" %Alpha\n",
      "Beta = I_C/I_B # unit less\n",
      "print \"The value of Beta = %0.f \" %Beta\n",
      "I_C = 10 # in mA\n",
      "I_C = I_C * 10**-3 # in A\n",
      "I_B = I_C/Beta # in A\n",
      "I_B = I_B * 10**6 # in \u00b5A\n",
      "print \"The required base current = %0.1f \u00b5A \" %I_B"
     ],
     "language": "python",
     "metadata": {},
     "outputs": [
      {
       "output_type": "stream",
       "stream": "stdout",
       "text": [
        "The value of I_E = 5.495 mA \n",
        "The value of Alpha = 0.9918 \n",
        "The value of Beta = 121 \n",
        "The required base current = 82.6 \u00b5A \n"
       ]
      }
     ],
     "prompt_number": 26
    },
    {
     "cell_type": "heading",
     "level": 2,
     "metadata": {},
     "source": [
      "Example : 4.5\n",
      " - Page No : 112"
     ]
    },
    {
     "cell_type": "code",
     "collapsed": false,
     "input": [
      " #Given data\n",
      "delV_EB = 200 # in mV\n",
      "delI_E = 5 # in mA\n",
      "# Dynamic input resistance for CB configuration,\n",
      "r_in = delV_EB/delI_E # in ohm\n",
      "print \"The dynamic input resistance of transistor = %0.f ohm \" %r_in"
     ],
     "language": "python",
     "metadata": {},
     "outputs": [
      {
       "output_type": "stream",
       "stream": "stdout",
       "text": [
        "The dynamic input resistance of transistor = 40 ohm \n"
       ]
      }
     ],
     "prompt_number": 27
    },
    {
     "cell_type": "heading",
     "level": 2,
     "metadata": {},
     "source": [
      "Example : 4.6\n",
      " - Page No : 112"
     ]
    },
    {
     "cell_type": "code",
     "collapsed": false,
     "input": [
      "from __future__ import division \n",
      "#Given data\n",
      "R_L = 4 # in k ohm\n",
      "R_L = R_L * 10**3 # in ohm\n",
      "V_across_RL = 3 # in V\n",
      "I_C = V_across_RL/R_L # in A\n",
      "I_C = I_C * 10**3 # in mA\n",
      "Alpha = 0.96 # unit less\n",
      "I_E = I_C/Alpha # in mA\n",
      "I_B = I_E - I_C # in mA\n",
      "print \"The base current = %0.2f mA \" %I_B"
     ],
     "language": "python",
     "metadata": {},
     "outputs": [
      {
       "output_type": "stream",
       "stream": "stdout",
       "text": [
        "The base current = 0.03 mA \n"
       ]
      }
     ],
     "prompt_number": 28
    },
    {
     "cell_type": "heading",
     "level": 2,
     "metadata": {},
     "source": [
      "Example : 4.7\n",
      " - Page No : 113"
     ]
    },
    {
     "cell_type": "code",
     "collapsed": false,
     "input": [
      " #Given data\n",
      "I_E = 3 # in mA\n",
      "I_CO = 10 # in \u00b5A\n",
      "I_CO = I_CO * 10**-3 # in mA\n",
      "Alpha = 0.98 # unit less\n",
      "I_C = (Alpha*I_E) + I_CO # in mA\n",
      "print \"The collector current = %0.2f mA \" %I_C\n",
      "I_B = I_E - I_C # in mA\n",
      "print \"The base current = %0.2f mA \" %I_B"
     ],
     "language": "python",
     "metadata": {},
     "outputs": [
      {
       "output_type": "stream",
       "stream": "stdout",
       "text": [
        "The collector current = 2.95 mA \n",
        "The base current = 0.05 mA \n"
       ]
      }
     ],
     "prompt_number": 29
    },
    {
     "cell_type": "heading",
     "level": 2,
     "metadata": {},
     "source": [
      "Example : 4.8\n",
      " - Page No : 113"
     ]
    },
    {
     "cell_type": "code",
     "collapsed": false,
     "input": [
      " #Given data\n",
      "I_E = 2 # in mA\n",
      "I_C = 1.97 # in mA\n",
      "I_B = I_E-I_C # in mA\n",
      "print \"The base current = %0.2f mA \" %I_B\n",
      "I_CO = 12.5 # in \u00b5A\n",
      "I_CO = I_CO * 10**-3 # in mA\n",
      "Alpha = (I_C-I_CO)/I_E # unit less\n",
      "print \"The current gain = %0.3f \" %Alpha"
     ],
     "language": "python",
     "metadata": {},
     "outputs": [
      {
       "output_type": "stream",
       "stream": "stdout",
       "text": [
        "The base current = 0.03 mA \n",
        "The current gain = 0.979 \n"
       ]
      }
     ],
     "prompt_number": 30
    },
    {
     "cell_type": "heading",
     "level": 2,
     "metadata": {},
     "source": [
      "Example : 4.9\n",
      " - Page No : 116"
     ]
    },
    {
     "cell_type": "code",
     "collapsed": false,
     "input": [
      " #Given data\n",
      "delV_BE = 250 # in mV\n",
      "delV_BE = delV_BE * 10**-3 # in V\n",
      "delI_B = 1 # in mA\n",
      "delI_B = delI_B * 10**-3 # in A\n",
      "r_in = delV_BE/delI_B # in ohm\n",
      "print \"The dynamic input resistance = %0.f ohm \" %r_in"
     ],
     "language": "python",
     "metadata": {},
     "outputs": [
      {
       "output_type": "stream",
       "stream": "stdout",
       "text": [
        "The dynamic input resistance = 250 ohm \n"
       ]
      }
     ],
     "prompt_number": 31
    },
    {
     "cell_type": "heading",
     "level": 2,
     "metadata": {},
     "source": [
      "Example : 4.10\n",
      " - Page No : 116"
     ]
    },
    {
     "cell_type": "code",
     "collapsed": false,
     "input": [
      " #Given data\n",
      "V1 = 10 # in V\n",
      "V2 = 5 # in V\n",
      "I1 = 5.8 # in mA\n",
      "I2 = 5 # in mA\n",
      "delV_C = V1-V2 # in V\n",
      "delI_C = I1-I2 # in mA\n",
      "r_out = delV_C/delI_C # in k ohm\n",
      "print \"The dynamic output resistance = %0.2f k ohm \" %r_out"
     ],
     "language": "python",
     "metadata": {},
     "outputs": [
      {
       "output_type": "stream",
       "stream": "stdout",
       "text": [
        "The dynamic output resistance = 6.25 k ohm \n"
       ]
      }
     ],
     "prompt_number": 32
    },
    {
     "cell_type": "heading",
     "level": 2,
     "metadata": {},
     "source": [
      "Example : 4.11\n",
      " - Page No : 117"
     ]
    },
    {
     "cell_type": "code",
     "collapsed": false,
     "input": [
      " #Given data\n",
      "V_CC = 8 # in V\n",
      "I_CR_C = 0.5 # in V\n",
      "R_C = 800 # in ohm\n",
      "V_CE = V_CC - I_CR_C # in V\n",
      "print \"The collector emitter voltage = %0.1f V \" %V_CE \n",
      "I_C = I_CR_C/R_C # in A\n",
      "Alpha = 0.96 # unit less\n",
      "Beta = Alpha/(1-Alpha) \n",
      "I_B = I_C/Beta # in A\n",
      "I_B = I_B * 10**6 # in \u00b5A\n",
      "print \"The Base current = %0.f \u00b5A \" %I_B"
     ],
     "language": "python",
     "metadata": {},
     "outputs": [
      {
       "output_type": "stream",
       "stream": "stdout",
       "text": [
        "The collector emitter voltage = 7.5 V \n",
        "The Base current = 26 \u00b5A \n"
       ]
      }
     ],
     "prompt_number": 33
    },
    {
     "cell_type": "heading",
     "level": 2,
     "metadata": {},
     "source": [
      "Example : 4.12\n",
      " - Page No : 117"
     ]
    },
    {
     "cell_type": "code",
     "collapsed": false,
     "input": [
      " #Given data\n",
      "I_E = 5 # in mA\n",
      "I_C = 4.95 # in mA\n",
      "I_CEO = 200 # in \u00b5A\n",
      "I_B = I_E-I_C # in mA\n",
      "Beta_dc = I_C/I_B # unit less\n",
      "print \"The value of base current = %0.f \u00b5A\" %(I_B*10**3)\n",
      "print \"The value of Beta_dc = %0.f \" %Beta_dc\n",
      "Alpha_dc = Beta_dc/(1+Beta_dc) # unit less\n",
      "I_CBO = I_CEO * (1-Alpha_dc) # in \u00b5A\n",
      "print \"The collector-to-base leakage cuurent = %0.f \u00b5A \" %I_CBO"
     ],
     "language": "python",
     "metadata": {},
     "outputs": [
      {
       "output_type": "stream",
       "stream": "stdout",
       "text": [
        "The value of base current = 50 \u00b5A\n",
        "The value of Beta_dc = 99 \n",
        "The collector-to-base leakage cuurent = 2 \u00b5A \n"
       ]
      }
     ],
     "prompt_number": 34
    },
    {
     "cell_type": "heading",
     "level": 2,
     "metadata": {},
     "source": [
      "Example : 4.13\n",
      " - Page No : 117"
     ]
    },
    {
     "cell_type": "code",
     "collapsed": false,
     "input": [
      " #Given data\n",
      "I_B = 25 # in \u00b5A\n",
      "I_B = I_B * 10**-6 # in A\n",
      "I_CBO = 100 # in nA\n",
      "I_CBO = I_CBO * 10**-9 # in A\n",
      "Beta = 100 # unit less\n",
      "I_C = (Beta*I_B) + ((Beta+1)*I_CBO) # in A\n",
      "I_C= I_C*10**3 # in mA\n",
      "print \"The value of I_C = %0.2f mA \" %I_C\n",
      "I_C= I_C*10**-3 # in A\n",
      "I_E = I_C + I_B # in A\n",
      "I_E= I_E*10**3 # in mA\n",
      "print \"The value of I_E = %0.3f mA \" %I_E\n",
      "I_E= I_E*10**-3 # in A\n",
      "Alpha = Beta/(1+Beta) # unit less\n",
      "print \"The value of Alpha = %0.2f \" %Alpha\n",
      "I_CEO = I_CBO/(1-Alpha) # in A\n",
      "I_CEO = round(I_CEO *10**6) # in \u00b5A\n",
      "print \"The value of I_CEO = %0.f \u00b5A \" %I_CEO"
     ],
     "language": "python",
     "metadata": {},
     "outputs": [
      {
       "output_type": "stream",
       "stream": "stdout",
       "text": [
        "The value of I_C = 2.51 mA \n",
        "The value of I_E = 2.535 mA \n",
        "The value of Alpha = 0.99 \n",
        "The value of I_CEO = 10 \u00b5A \n"
       ]
      }
     ],
     "prompt_number": 35
    },
    {
     "cell_type": "heading",
     "level": 2,
     "metadata": {},
     "source": [
      "Example : 4.14\n",
      " - Page No : 124"
     ]
    },
    {
     "cell_type": "code",
     "collapsed": false,
     "input": [
      " #Given data\n",
      "R1= 4 # in ohm\n",
      "R2= 8 # in ohm\n",
      "R3= 8 # in ohm\n",
      "i1= 1 # in A (assumed)\n",
      "h11= R1+R2*R3/(R2+R3) # in ohm\n",
      "print \"The value of h11 = %0.f ohm \" %h11\n",
      "i2= -1/2*i1 # in A\n",
      "h21= i2/i1 # unit less\n",
      "print \"The value of h21 = %0.1f \" %h21\n",
      "v2= 1 # in V (assumed)\n",
      "i2= v2/(R3+R2) # in A\n",
      "v1= v2/2 # in V\n",
      "h12= v1/v2 # unit less\n",
      "print \"The value of h12 = %0.1f \" %h12\n",
      "h22= i2/v2 # in s\n",
      "print \"The value of h22 = %0.4f s \" %h22"
     ],
     "language": "python",
     "metadata": {},
     "outputs": [
      {
       "output_type": "stream",
       "stream": "stdout",
       "text": [
        "The value of h11 = 8 ohm \n",
        "The value of h21 = -0.5 \n",
        "The value of h12 = 0.5 \n",
        "The value of h22 = 0.0625 s \n"
       ]
      }
     ],
     "prompt_number": 36
    },
    {
     "cell_type": "heading",
     "level": 2,
     "metadata": {},
     "source": [
      "Example : 4.15\n",
      " - Page No : 127"
     ]
    },
    {
     "cell_type": "code",
     "collapsed": false,
     "input": [
      " #Given data\n",
      "Ib = 20 # in \u00b5A\n",
      "Ib = Ib * 10**-6 # in A\n",
      "I_C = 1 # in mA\n",
      "I_C = I_C * 10**-3 # in A\n",
      "Vbe = 22 # in mV\n",
      "Vbe = Vbe * 10**-3 # in V\n",
      "Vce = 0 # in V\n",
      "h_ie = Vbe/Ib # in ohm\n",
      "h_ie = h_ie * 10**-3 # in k ohm\n",
      "print \"The value of h_ie = %0.1f k ohm \" %h_ie\n",
      "h_fe = I_C/Ib # unit less\n",
      "print \"The value of h_fe = %0.f \" %h_fe\n",
      "Ib = 0 \n",
      "Vbe = 0.25 # in mV\n",
      "Vbe = Vbe * 10**-3 # in V\n",
      "I_C = 30 # in \u00b5A\n",
      "I_C = I_C * 10**-6 # in A\n",
      "Vce = 1 # in V\n",
      "h_re = Vbe/Vce # unit less\n",
      "print \"The value of h_re = %0.1e \" %h_re\n",
      "h_oe = I_C/Vce # in S\n",
      "h_oe = h_oe * 10**6 # in \u00b5S\n",
      "print \"The value of h_oe = %0.f \u00b5S \" %h_oe"
     ],
     "language": "python",
     "metadata": {},
     "outputs": [
      {
       "output_type": "stream",
       "stream": "stdout",
       "text": [
        "The value of h_ie = 1.1 k ohm \n",
        "The value of h_fe = 50 \n",
        "The value of h_re = 2.5e-04 \n",
        "The value of h_oe = 30 \u00b5S \n"
       ]
      }
     ],
     "prompt_number": 37
    },
    {
     "cell_type": "heading",
     "level": 2,
     "metadata": {},
     "source": [
      "Example : 4.16\n",
      " - Page No : 133"
     ]
    },
    {
     "cell_type": "code",
     "collapsed": false,
     "input": [
      " #Given data\n",
      "h_fe = 50 # unit less\n",
      "h_ie = 0.83 # in k ohm\n",
      "h_ie = h_ie * 10**3 # in ohm\n",
      "h_fb = -h_fe/(1+h_fe) # unit less\n",
      "print \"The current gain = %0.2f \" %h_fb\n",
      "h_ib = h_ie/(1+h_fe) # in ohm\n",
      "print \"The input impedance = %0.2f ohm \" %h_ib"
     ],
     "language": "python",
     "metadata": {},
     "outputs": [
      {
       "output_type": "stream",
       "stream": "stdout",
       "text": [
        "The current gain = -0.98 \n",
        "The input impedance = 16.27 ohm \n"
       ]
      }
     ],
     "prompt_number": 38
    },
    {
     "cell_type": "heading",
     "level": 2,
     "metadata": {},
     "source": [
      "Example : 4.17\n",
      " - Page No : 133"
     ]
    },
    {
     "cell_type": "code",
     "collapsed": false,
     "input": [
      " #Given data\n",
      "h_ie = 2600 # in ohm\n",
      "h_fe = 100 \n",
      "h_re = 0.02*10**-2 \n",
      "h_oe = 5*10**-6 # in S\n",
      "h_ic = h_ie # in ohm\n",
      "print \"The value of h_ic = %0.f ohm \" %h_ic\n",
      "h_fc = -(1+h_fe) \n",
      "print \"The value of h_fc = %0.f \" %h_fc\n",
      "h_rc = 1 - h_re \n",
      "h_rc = 1 \n",
      "print \"The value of h_rc = %0.f \" %h_rc\n",
      "h_oc = h_oe # in S\n",
      "print \"The value of h_oc = %0.e S \" %h_oc"
     ],
     "language": "python",
     "metadata": {},
     "outputs": [
      {
       "output_type": "stream",
       "stream": "stdout",
       "text": [
        "The value of h_ic = 2600 ohm \n",
        "The value of h_fc = -101 \n",
        "The value of h_rc = 1 \n",
        "The value of h_oc = 5e-06 S \n"
       ]
      }
     ],
     "prompt_number": 39
    },
    {
     "cell_type": "heading",
     "level": 2,
     "metadata": {},
     "source": [
      "Example : 4.18\n",
      " - Page No : 137"
     ]
    },
    {
     "cell_type": "code",
     "collapsed": false,
     "input": [
      " #Given data\n",
      "h_ie = 1000 # in ohm\n",
      "h_fe = 50 # unit less\n",
      "h_re = 2.5*10**-4 # unit less\n",
      "h_oe = 25*10**-6 # in A/V\n",
      "R_L = 10 # in k ohm\n",
      "R_L = R_L * 10**3 # in ohm\n",
      "Rs = 100 # in ohm\n",
      "Ai = -h_fe/(1 + (h_oe*R_L)) # unit less\n",
      "print \"The current gain = %0.f \" %Ai\n",
      "Rin = h_ie - ( (h_re*h_fe)/(h_oe+(1/R_L)) ) # in ohm\n",
      "print \"The input resistance = %0.f ohm \" %Rin\n",
      "Av = Ai*(R_L/Rin) # unit less\n",
      "print \"The voltage gain = %0.2f \" %Av\n",
      "Ais = Ai * (Rs/(Rin+Rs)) # unit less\n",
      "Avs = Av*(Rin/(Rin+Rs)) # unit less\n",
      "Gout = h_oe - ( (h_fe*h_re)/(h_ie+Rs) ) # in S\n",
      "Rout = 1/Gout # in ohm\n",
      "Rout = Rout * 10**-3 # in k ohm\n",
      "print \"The output resistance = %0.1f k ohm \" %Rout\n",
      "Ap = Avs*Ais # unit less\n",
      "print \"The power gain = %0.f \" %Ap"
     ],
     "language": "python",
     "metadata": {},
     "outputs": [
      {
       "output_type": "stream",
       "stream": "stdout",
       "text": [
        "The current gain = -40 \n",
        "The input resistance = 900 ohm \n",
        "The voltage gain = -444.44 \n",
        "The output resistance = 73.3 k ohm \n",
        "The power gain = 1600 \n"
       ]
      }
     ],
     "prompt_number": 40
    },
    {
     "cell_type": "heading",
     "level": 2,
     "metadata": {},
     "source": [
      "Example : 4.19\n",
      " - Page No : 137"
     ]
    },
    {
     "cell_type": "code",
     "collapsed": false,
     "input": [
      " #Given data\n",
      "h_ie = 2 # in k ohm\n",
      "h_ie = h_ie * 10**3 # in ohm\n",
      "h_re = 2*10**-4 # unit less\n",
      "h_fe = 50 # unit less\n",
      "h_oe = 20*10**-6 # in A/V\n",
      "R_L = 4 # in k ohm\n",
      "R_L = R_L * 10**3 # in ohm\n",
      "Rs = 200 # in ohm\n",
      "Ai = -h_fe/( 1+(h_oe*R_L) ) # unit less\n",
      "print \"The value of Ai = %0.1f \" %Ai\n",
      "Ri = h_ie - ( (h_re*h_fe)/( h_oe+(1/R_L) ) ) # in ohm\n",
      "print \"The value of Ri = %0.f ohm \" %Ri\n",
      "#Av = -h_fe/( (h_oe + (1/R_L))*Rin ) = Ai*(R_L/Rin) \n",
      "Av = Ai*(R_L/Ri) # unit less\n",
      "print \"The value of Av = %0.2f \" %Av\n",
      "Gout = h_oe - ( (h_fe*h_re)/(h_ie+Rs) ) # in S\n",
      "Rout = 1/Gout # in ohm\n",
      "Rout = Rout * 10**-3 # in k ohm\n",
      "print \"The value of Rout = %0.1f k ohm\" %Rout\n",
      "Ais = Ai * (Rs/(Ri+Rs) ) # unit less\n",
      "Avs = Av * (Ri/(Ri+Rs)) # unit less\n",
      "Ap = Av*Ai # unit less\n",
      "print \"The value of Ap = %0.1f \" %Ap"
     ],
     "language": "python",
     "metadata": {},
     "outputs": [
      {
       "output_type": "stream",
       "stream": "stdout",
       "text": [
        "The value of Ai = -46.3 \n",
        "The value of Ri = 1963 ohm \n",
        "The value of Av = -94.34 \n",
        "The value of Rout = 64.7 k ohm\n",
        "The value of Ap = 4367.6 \n"
       ]
      }
     ],
     "prompt_number": 41
    },
    {
     "cell_type": "heading",
     "level": 2,
     "metadata": {},
     "source": [
      "Example : 4.20\n",
      " - Page No : 138"
     ]
    },
    {
     "cell_type": "code",
     "collapsed": false,
     "input": [
      " #Given data\n",
      "R_S = 200 # in ohm\n",
      "R_L = 1200 # in ohm\n",
      "h_ib = 24 # in ohm\n",
      "h_rb = 4*10**-4 # unit less\n",
      "h_fb = -0.98 # unit less\n",
      "h_ob = 0.6 # in \u00b5A/V\n",
      "h_ob = h_ob * 10**-6 # in A/V\n",
      "Ai = -h_fb/(1+(h_ob*R_L)) # unit less\n",
      "print \"The current gain = %0.3f \" %Ai\n",
      "Ri = h_ib + (h_rb*Ai*R_L) # in ohm\n",
      "print \"The input impedance = %0.2f ohm \" %Ri\n",
      "Av = round((Ai*R_L)/Ri) # unit less\n",
      "print \"The Voltage gain = %0.f \" %Av\n",
      "Ais = (Ai*R_S)/(Ri+R_S) # unit less\n",
      "print \"The overall current gain = %0.3f \" %Ais"
     ],
     "language": "python",
     "metadata": {},
     "outputs": [
      {
       "output_type": "stream",
       "stream": "stdout",
       "text": [
        "The current gain = 0.979 \n",
        "The input impedance = 24.47 ohm \n",
        "The Voltage gain = 48 \n",
        "The overall current gain = 0.873 \n"
       ]
      }
     ],
     "prompt_number": 42
    },
    {
     "cell_type": "heading",
     "level": 2,
     "metadata": {},
     "source": [
      "Example : 4.21\n",
      " - Page No : 144"
     ]
    },
    {
     "cell_type": "code",
     "collapsed": false,
     "input": [
      " #Given data\n",
      "g_m = 2500 # in \u00b5S\n",
      "g_m = g_m * 10**-6 # in S\n",
      "R_L = 12 # in k ohm\n",
      "R_L = R_L * 10**3 # in ohm\n",
      "#Av = -g_m*(r_d||R_D||R_L) \n",
      "Av = -g_m*R_L \n",
      "print \"The voltage gain = %0.f \" %Av"
     ],
     "language": "python",
     "metadata": {},
     "outputs": [
      {
       "output_type": "stream",
       "stream": "stdout",
       "text": [
        "The voltage gain = -30 \n"
       ]
      }
     ],
     "prompt_number": 43
    },
    {
     "cell_type": "heading",
     "level": 2,
     "metadata": {},
     "source": [
      "Example : 4.22\n",
      " - Page No : 144"
     ]
    },
    {
     "cell_type": "code",
     "collapsed": false,
     "input": [
      " #Given data\n",
      "R_D = 5 # in k ohm\n",
      "R_D = R_D * 10**3 # in ohm\n",
      "r_d = 35 # in k ohm\n",
      "r_d = r_d * 10**3 # in ohm\n",
      "miu = 50 # amplifier factor\n",
      "g_m = miu/r_d # in S\n",
      "Av = -g_m*( (r_d*R_D)/(r_d+R_D) ) \n",
      "print \"The voltage gain = %0.2f \" %Av\n",
      "Rout = (R_D*r_d)/(R_D+r_d) # in  ohm\n",
      "Rout= Rout*10**-3 # in k ohm\n",
      "print \"The output resistance = %0.3f k ohm \" %Rout"
     ],
     "language": "python",
     "metadata": {},
     "outputs": [
      {
       "output_type": "stream",
       "stream": "stdout",
       "text": [
        "The voltage gain = -6.25 \n",
        "The output resistance = 4.375 k ohm \n"
       ]
      }
     ],
     "prompt_number": 44
    },
    {
     "cell_type": "heading",
     "level": 2,
     "metadata": {},
     "source": [
      "Example : 4.23\n",
      " - Page No : 145"
     ]
    },
    {
     "cell_type": "code",
     "collapsed": false,
     "input": [
      " #Given data\n",
      "V_GS = -1.0 # in V\n",
      "V_DS = 4.0 # in V\n",
      "I_DS = 1 # in mA\n",
      "I_DS = I_DS * 10**-3 # in A\n",
      "I_G = 0 # in A\n",
      "R_G = 500 # in k ohm\n",
      "R_G = R_G * 10**3 # in ohm\n",
      "V_DD = 10 # in V\n",
      "V_DS = 4 # in V\n",
      "V_G = I_G*R_G # in V\n",
      "Vs = V_G-V_GS # in V\n",
      "R_S = Vs/I_DS # in ohm\n",
      "R_S= R_S*10**-3 # in k ohm\n",
      "print \"The value of R_S = %0.f k ohm \" %R_S\n",
      "R_S= R_S*10**3 # in ohm\n",
      "# V_DD = I_DD*R_D + V_DS+ I_DS*R_S = I_DS*(R_D+R_S) + V_DS\n",
      "R_D = ((V_DD-V_DS)/I_DS)-R_S # in ohm\n",
      "R_D = R_D * 10**-3 # in k ohm\n",
      "print \"The value of R_D = %0.f k ohm \" %R_D"
     ],
     "language": "python",
     "metadata": {},
     "outputs": [
      {
       "output_type": "stream",
       "stream": "stdout",
       "text": [
        "The value of R_S = 1 k ohm \n",
        "The value of R_D = 5 k ohm \n"
       ]
      }
     ],
     "prompt_number": 45
    },
    {
     "cell_type": "heading",
     "level": 2,
     "metadata": {},
     "source": [
      "Example : 4.24\n",
      " - Page No : 145"
     ]
    },
    {
     "cell_type": "code",
     "collapsed": false,
     "input": [
      " #Given data\n",
      "V_GS = -1 # in V\n",
      "V_DS = -4 # in V\n",
      "I_DS = 1 # in mA\n",
      "I_DS = I_DS * 10**-3 # in A\n",
      "g_m = 5*10**-3 # in mhos\n",
      "Rds = 20 # in k ohm\n",
      "Rds = Rds * 10**3 # in ohm\n",
      "R_S = 1 # in k ohm\n",
      "R_S = R_S * 10**3 # in ohm\n",
      "R_D = 5 # in  k ohm\n",
      "R_D = R_D * 10**3 # in ohm\n",
      "#Av = Vout/Vin  = -g_m*(r_d||R_D||R_L) = -g_m*((R_D*Rds)/(R_D+Rds)) \n",
      "Av = -g_m*((R_D*Rds)/(R_D+Rds)) \n",
      "print \"The voltage gain = %0.f \" %Av\n",
      "R_G = 500 # in k ohm\n",
      "R_G  = R_G * 10**3 # in ohm\n",
      "Rin = R_G # in ohm\n",
      "Rin= Rin*10**-3 # in k ohm\n",
      "print \"The value of Rin = %0.f k ohm \" %Rin\n",
      "Rin= Rin*10**3 # in ohm\n",
      "Rout = (R_D*Rds)/(R_D+Rds) # in ohm\n",
      "Rout= Rout*10**-3 # in k ohm\n",
      "print \"The value of Rout = %0.f k ohm \" %Rout"
     ],
     "language": "python",
     "metadata": {},
     "outputs": [
      {
       "output_type": "stream",
       "stream": "stdout",
       "text": [
        "The voltage gain = -20 \n",
        "The value of Rin = 500 k ohm \n",
        "The value of Rout = 4 k ohm \n"
       ]
      }
     ],
     "prompt_number": 46
    },
    {
     "cell_type": "heading",
     "level": 2,
     "metadata": {},
     "source": [
      "Example : 4.25\n",
      " - Page No : 147"
     ]
    },
    {
     "cell_type": "code",
     "collapsed": false,
     "input": [
      " #Given data\n",
      "R1 = 4 # in M ohm\n",
      "R2 = 2 # in Mohm\n",
      "R_G = (R1*R2)/(R1+R2) # in Mohm\n",
      "Zin = R_G # in Mohm\n",
      "print \"The input impedance = %0.2f Mohm \" %Zin\n",
      "R_S = 2.5 # in k ohm\n",
      "R_S = R_S * 10**3 # in ohm\n",
      "R_L = 25 # in k ohm\n",
      "R_L =  R_L * 10**3 # in ohm\n",
      "g_m = 2500 # in \u00b5S\n",
      "g_m = g_m * 10**-6 # in S\n",
      "Zout = (R_S*(1/g_m))/(R_S+(1/g_m)) # in ohm\n",
      "print \"The output impedance = %0.f ohm \" %Zout\n",
      "Av = g_m*((R_S*R_L)/(R_S+R_L))/( 1+g_m*((R_S*R_L)/(R_S+R_L)) ) # unite less\n",
      "print \"The voltage gain = %0.2f \" %Av"
     ],
     "language": "python",
     "metadata": {},
     "outputs": [
      {
       "output_type": "stream",
       "stream": "stdout",
       "text": [
        "The input impedance = 1.33 Mohm \n",
        "The output impedance = 345 ohm \n",
        "The voltage gain = 0.85 \n"
       ]
      }
     ],
     "prompt_number": 47
    }
   ],
   "metadata": {}
  }
 ]
}