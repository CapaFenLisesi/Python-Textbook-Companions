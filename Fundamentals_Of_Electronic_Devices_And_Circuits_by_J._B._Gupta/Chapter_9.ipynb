{
 "metadata": {
  "name": ""
 },
 "nbformat": 3,
 "nbformat_minor": 0,
 "worksheets": [
  {
   "cells": [
    {
     "cell_type": "heading",
     "level": 1,
     "metadata": {},
     "source": [
      "Chapter 9 : Tuned Amplifiers"
     ]
    },
    {
     "cell_type": "heading",
     "level": 2,
     "metadata": {},
     "source": [
      "Example : 9.1\n",
      " - Page No : 311"
     ]
    },
    {
     "cell_type": "code",
     "collapsed": false,
     "input": [
      "from __future__ import division\n",
      "from numpy import pi, sqrt\n",
      "#Given data\n",
      "R = 10 # in ohm\n",
      "L = 20 # in mH\n",
      "L = L * 10**-3 # in H\n",
      "C = 0.05 # in \u00b5F\n",
      "C = C * 10**-6 # in F\n",
      "f_r = (1/(2*pi))*sqrt( (1/(L*C)) - ((R**2)/(L**2)) ) # in Hz\n",
      "f_r = round(f_r * 10**-3) # in kHz\n",
      "print \"The resonant frequency = %0.f kHz \" %f_r\n",
      "Q = (2*pi*f_r*10**3*L)/R #Q factor of the tank circuit\n",
      "print \"The Q factor of the tank circuit = %0.1f \" %Q\n",
      "BW = (f_r*10**3)/Q # in Hz\n",
      "print \"The band width of the amplifier = %0.1f Hz \" %BW"
     ],
     "language": "python",
     "metadata": {},
     "outputs": [
      {
       "output_type": "stream",
       "stream": "stdout",
       "text": [
        "The resonant frequency = 5 kHz \n",
        "The Q factor of the tank circuit = 62.8 \n",
        "The band width of the amplifier = 79.6 Hz \n"
       ]
      }
     ],
     "prompt_number": 3
    }
   ],
   "metadata": {}
  }
 ]
}