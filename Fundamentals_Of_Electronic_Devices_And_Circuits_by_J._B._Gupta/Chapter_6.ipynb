{
 "metadata": {
  "name": ""
 },
 "nbformat": 3,
 "nbformat_minor": 0,
 "worksheets": [
  {
   "cells": [
    {
     "cell_type": "heading",
     "level": 1,
     "metadata": {},
     "source": [
      "Chapter 6 : Feedback Amplifiers"
     ]
    },
    {
     "cell_type": "heading",
     "level": 2,
     "metadata": {},
     "source": [
      "Example : 6.1\n",
      " - Page No : 204"
     ]
    },
    {
     "cell_type": "code",
     "collapsed": false,
     "input": [
      "from __future__ import division\n",
      "#Given data\n",
      "Rs = 10 # in k ohm\n",
      "Rs = Rs * 10**3 # in ohm\n",
      "Rin = 10 # in ohm\n",
      "Rout = 10 # in k ohm\n",
      "Rout = Rout * 10**3 # in ohm\n",
      "R_L = 10 # in ohm\n",
      "Ai = 1000 # unit less\n",
      "VinBY_Iin= Rin # in ohm\n",
      "VoutBY_Iin= Ai*Rout*R_L/(Rout+R_L) # in V\n",
      "Av= VoutBY_Iin/VinBY_Iin # unit less\n",
      "print \"The voltage gain = %0.f \" %Av\n",
      "Ai= (VoutBY_Iin/R_L)/((Rs+Rin)/Rs) # unit less\n",
      "Ap= Av*Ai # unit less\n",
      "print \"The power gain = %0.2e \" %Ap"
     ],
     "language": "python",
     "metadata": {},
     "outputs": [
      {
       "output_type": "stream",
       "stream": "stdout",
       "text": [
        "The voltage gain = 999 \n",
        "The power gain = 9.97e+05 \n"
       ]
      }
     ],
     "prompt_number": 2
    },
    {
     "cell_type": "heading",
     "level": 2,
     "metadata": {},
     "source": [
      "Example : 6.2\n",
      " - Page No : 208"
     ]
    },
    {
     "cell_type": "code",
     "collapsed": false,
     "input": [
      " #Given data\n",
      "Beta = 0.01 #feedback fraction\n",
      "# Voltage gain with negative feedback\n",
      "A = 3000 # unit less\n",
      "Af = A/(1+(Beta*A)) # unit less\n",
      "print \"The voltage gain of the amplifier = %0.3f \" %Af"
     ],
     "language": "python",
     "metadata": {},
     "outputs": [
      {
       "output_type": "stream",
       "stream": "stdout",
       "text": [
        "The voltage gain of the amplifier = 96.774 \n"
       ]
      }
     ],
     "prompt_number": 3
    },
    {
     "cell_type": "heading",
     "level": 2,
     "metadata": {},
     "source": [
      "Example : 6.3\n",
      " - Page No : 208"
     ]
    },
    {
     "cell_type": "code",
     "collapsed": false,
     "input": [
      " #Given data\n",
      "A = 75 # internal gain\n",
      "Beta = 1/15 #feedback fraction\n",
      "Af = A/(1+(Beta*A)) # voltage gain with negative feedback\n",
      "print \"The voltage gain with negative feedback = %0.1f \" %Af\n",
      "A_desh = 2*A # unit less\n",
      "A_desh_f = A_desh/(1+(Beta*A_desh)) # unit less\n",
      "print \"The new value of gain = %0.2f \" %A_desh_f"
     ],
     "language": "python",
     "metadata": {},
     "outputs": [
      {
       "output_type": "stream",
       "stream": "stdout",
       "text": [
        "The voltage gain with negative feedback = 12.5 \n",
        "The new value of gain = 13.64 \n"
       ]
      }
     ],
     "prompt_number": 4
    },
    {
     "cell_type": "heading",
     "level": 2,
     "metadata": {},
     "source": [
      "Example : 6.4\n",
      " - Page No : 209"
     ]
    },
    {
     "cell_type": "code",
     "collapsed": false,
     "input": [
      "from math import log10 \n",
      "#Given data\n",
      "A = 40 # open loop voltage gain\n",
      "Beta = 10/100 # feedback ratio\n",
      "Af = A/(1+(Beta*A)) # voltage gain with feedback\n",
      "print \"The voltage gain with feedback = %0.f \" %Af\n",
      "Amount = 20*log10(abs( 1/(1+(Beta*A)) )) # Amount of feedback in dB \n",
      "print \"Amount of feedback = %0.2f dB \" %Amount\n",
      "Loopgain = A*Beta # unit less\n",
      "print \"The Loop gain = %0.f \" %Loopgain"
     ],
     "language": "python",
     "metadata": {},
     "outputs": [
      {
       "output_type": "stream",
       "stream": "stdout",
       "text": [
        "The voltage gain with feedback = 8 \n",
        "Amount of feedback = -13.98 dB \n",
        "The Loop gain = 4 \n"
       ]
      }
     ],
     "prompt_number": 5
    },
    {
     "cell_type": "heading",
     "level": 2,
     "metadata": {},
     "source": [
      "Example : 6.5\n",
      " - Page No : 209"
     ]
    },
    {
     "cell_type": "code",
     "collapsed": false,
     "input": [
      " #Given data\n",
      "A = 60 # in dB\n",
      "A = 10**(A/20) # unit less\n",
      "Beta = 1/20 # feedback fraction\n",
      "Af = A/(1+(Beta*A)) # gain with feedback\n",
      "Af = 20*log10(Af) # in dB \n",
      "print \"The gain with feed back = %0.2f dB \" %Af"
     ],
     "language": "python",
     "metadata": {},
     "outputs": [
      {
       "output_type": "stream",
       "stream": "stdout",
       "text": [
        "The gain with feed back = 25.85 dB \n"
       ]
      }
     ],
     "prompt_number": 6
    },
    {
     "cell_type": "heading",
     "level": 2,
     "metadata": {},
     "source": [
      "Example : 6.6\n",
      " - Page No : 209"
     ]
    },
    {
     "cell_type": "code",
     "collapsed": false,
     "input": [
      " #Given data\n",
      "A = 2500 # open loop gain\n",
      "# Desensitivity of transfer gain\n",
      "trnsfr_gain_densitivity = 40 # in dB\n",
      "trnsfr_gain_densitivity = 10**(trnsfr_gain_densitivity/20) \n",
      "Af = A/trnsfr_gain_densitivity # unit less\n",
      "print \"The gain with feed back = %0.f \" %Af\n",
      "I = A/Af # assumed\n",
      "print \"The input for same output will become \",int(I),\" times the input without feedback.\""
     ],
     "language": "python",
     "metadata": {},
     "outputs": [
      {
       "output_type": "stream",
       "stream": "stdout",
       "text": [
        "The gain with feed back = 25 \n",
        "The input for same output will become  100  times the input without feedback.\n"
       ]
      }
     ],
     "prompt_number": 7
    },
    {
     "cell_type": "heading",
     "level": 2,
     "metadata": {},
     "source": [
      "Example : 6.7\n",
      " - Page No : 209"
     ]
    },
    {
     "cell_type": "code",
     "collapsed": false,
     "input": [
      " #Given data\n",
      "A = 60 # in dB\n",
      "A = 10**(A/20) # unit less\n",
      "Af = 40 # in dB\n",
      "Af = 10**(Af/20) # unit less\n",
      "# Af = A/(1+(A*Beta)) \n",
      "BetaIntoA = (A/Af)-1 # feedback factor\n",
      "print \"The feed back factor = %0.f \" %BetaIntoA"
     ],
     "language": "python",
     "metadata": {},
     "outputs": [
      {
       "output_type": "stream",
       "stream": "stdout",
       "text": [
        "The feed back factor = 9 \n"
       ]
      }
     ],
     "prompt_number": 8
    },
    {
     "cell_type": "heading",
     "level": 2,
     "metadata": {},
     "source": [
      "Example : 6.8\n",
      " - Page No : 209"
     ]
    },
    {
     "cell_type": "code",
     "collapsed": false,
     "input": [
      " #Given data\n",
      "A = 600 # unit less\n",
      "Af = 50 # unit less\n",
      "# Af = A/(1+(A*Beta)) \n",
      "Beta = ((A/Af)-1)/A # unit less\n",
      "#P = Vf/Vout = Beta*100 \n",
      "P = Beta*100 # percentage of output voltage in % \n",
      "print \"The percentage of output voltage = %0.3f %%\" %P"
     ],
     "language": "python",
     "metadata": {},
     "outputs": [
      {
       "output_type": "stream",
       "stream": "stdout",
       "text": [
        "The percentage of output voltage = 1.833 %\n"
       ]
      }
     ],
     "prompt_number": 9
    },
    {
     "cell_type": "heading",
     "level": 2,
     "metadata": {},
     "source": [
      "Example : 6.9\n",
      " - Page No : 210"
     ]
    },
    {
     "cell_type": "code",
     "collapsed": false,
     "input": [
      " #Given data\n",
      "Vout = 12.5 # in V\n",
      "Vin = 0.25 # in V\n",
      "Av = Vout/Vin # unit less\n",
      "print \"The voltage gain without feed back is = %0.f \" %Av\n",
      "Vin = 1.5 # in V\n",
      "Avf = round(Vout/Vin) # unit less\n",
      "# Avf = Av/(1+(Beta*Av)) \n",
      "Beta = ((Av/Avf)-1)/Av # unit less\n",
      "Beta = Beta*100 # in %\n",
      "print \"The value of \u00df = %0.1f %% \" %Beta"
     ],
     "language": "python",
     "metadata": {},
     "outputs": [
      {
       "output_type": "stream",
       "stream": "stdout",
       "text": [
        "The voltage gain without feed back is = 50 \n",
        "The value of \u00df = 10.5 % \n"
       ]
      }
     ],
     "prompt_number": 10
    },
    {
     "cell_type": "heading",
     "level": 2,
     "metadata": {},
     "source": [
      "Example : 6.10\n",
      " - Page No : 210"
     ]
    },
    {
     "cell_type": "code",
     "collapsed": false,
     "input": [
      "from fractions import Fraction \n",
      "#Given data\n",
      "Af = -100 # unit less\n",
      "Vin = 0.06 # in V\n",
      "Vout = Af*Vin # in V\n",
      "Vin = 50 # in mV\n",
      "Vin = Vin * 10**-3 # in V\n",
      "A = Vout/Vin # unit less\n",
      "#Af = A/(1+(A*Beta)) \n",
      "Beta = (abs(A)-abs(Af))/(Af*A) # unit less\n",
      "print \"The value of \u00df =\",Fraction(Beta).limit_denominator(1000)\n",
      "Amount = 20*log10(abs( 1/(1+(-Af*Beta)) )) # in dB\n",
      "print \"The Amount of feed back = %0.2f dB \" %Amount"
     ],
     "language": "python",
     "metadata": {},
     "outputs": [
      {
       "output_type": "stream",
       "stream": "stdout",
       "text": [
        "The value of \u00df = 1/600\n",
        "The Amount of feed back = -1.34 dB \n"
       ]
      }
     ],
     "prompt_number": 11
    },
    {
     "cell_type": "heading",
     "level": 2,
     "metadata": {},
     "source": [
      "Example : 6.11\n",
      " - Page No : 210"
     ]
    },
    {
     "cell_type": "code",
     "collapsed": false,
     "input": [
      " #Given data\n",
      "A = 1000 # unit less\n",
      "Beta = 0.002 # unit less\n",
      "Af = A/(1+(A*Beta)) # unit less\n",
      "# When open-loop gain is reduced by \n",
      "A_desh = (1-15/100)*A # unit less\n",
      "A_desh_f = A_desh/(1+(A_desh*Beta)) # unit less\n",
      "P = ((Af-A_desh_f)/Af)*100 # percentage change in overall gain in % \n",
      "print \"The change in overall gain = %0.1f %% \" %P"
     ],
     "language": "python",
     "metadata": {},
     "outputs": [
      {
       "output_type": "stream",
       "stream": "stdout",
       "text": [
        "The change in overall gain = 5.6 % \n"
       ]
      }
     ],
     "prompt_number": 12
    },
    {
     "cell_type": "heading",
     "level": 2,
     "metadata": {},
     "source": [
      "Example : 6.12\n",
      " - Page No : 211"
     ]
    },
    {
     "cell_type": "code",
     "collapsed": false,
     "input": [
      " #Given data\n",
      "R_C = 2.5 # in k ohm\n",
      "R_C = R_C * 10**3 # in ohm\n",
      "R_E = 1 # in k ohm\n",
      "R_E = R_E * 10**3 # in ohm\n",
      "h_ie = 1.1 # in k ohm\n",
      "h_ie = h_ie * 10**3 # in ohm\n",
      "h_fe = 200 # unit less\n",
      "Beta = 200 # unit less\n",
      "A = round((-h_fe/h_ie)*R_C) # unit less\n",
      "print \"The voltage gain without feed back = %0.f \" %A\n",
      "Af = -R_C/R_E # unit less\n",
      "print \"The voltage gain with feed back = %0.1f \" %Af\n",
      "# Af = A/(1+(A*Beta)) \n",
      "Beta = (abs(A)-abs(Af))/(A*Af) # unit less\n",
      "print \"The feed back ratio = %0.3f \" %Beta\n",
      "feedbackfactor = round(abs(A)*Beta) # unit less\n",
      "print \"The feed back factor = %0.f \" %feedbackfactor"
     ],
     "language": "python",
     "metadata": {},
     "outputs": [
      {
       "output_type": "stream",
       "stream": "stdout",
       "text": [
        "The voltage gain without feed back = -455 \n",
        "The voltage gain with feed back = -2.5 \n",
        "The feed back ratio = 0.398 \n",
        "The feed back factor = 181 \n"
       ]
      }
     ],
     "prompt_number": 13
    },
    {
     "cell_type": "heading",
     "level": 2,
     "metadata": {},
     "source": [
      "Example : 6.13\n",
      " - Page No : 213"
     ]
    },
    {
     "cell_type": "code",
     "collapsed": false,
     "input": [
      " #Given data\n",
      "dAvByAv = 20/100 # variation in open loop gain\n",
      "dAvf_by_Avf = 1/100 # variation in closed loop gain\n",
      "BetaAv = (dAvByAv/dAvf_by_Avf)-1 # feedback factor\n",
      "Avf = 100 #unit less\n",
      "Av = Avf*(1+BetaAv) # open loop voltage gain\n",
      "print \"The value of Av = %0.f \" %Av\n",
      "Beta = ((Av/Avf)-1)/Av # unit less\n",
      "print \"The value of \u00df = %0.4f \" %Beta"
     ],
     "language": "python",
     "metadata": {},
     "outputs": [
      {
       "output_type": "stream",
       "stream": "stdout",
       "text": [
        "The value of Av = 2000 \n",
        "The value of \u00df = 0.0095 \n"
       ]
      }
     ],
     "prompt_number": 14
    },
    {
     "cell_type": "heading",
     "level": 2,
     "metadata": {},
     "source": [
      "Example : 6.14\n",
      " - Page No : 214"
     ]
    },
    {
     "cell_type": "code",
     "collapsed": false,
     "input": [
      " #Given data\n",
      "Av =10000 # open loop gain\n",
      "Beta = 1/10 # feedback ratio \n",
      "Avf = Av/(1+(Av*Beta)) # closed loop gain\n",
      "dAvByAv = 50/100 # change in open loop gain\n",
      "dAvByAvf = 1/(1+(Beta*Av))*dAvByAv*100 # change in closed loop gain in %\n",
      "print \"The percentage change in closed loop gain = %0.5f %% \" %dAvByAvf"
     ],
     "language": "python",
     "metadata": {},
     "outputs": [
      {
       "output_type": "stream",
       "stream": "stdout",
       "text": [
        "The percentage change in closed loop gain = 0.04995 % \n"
       ]
      }
     ],
     "prompt_number": 15
    },
    {
     "cell_type": "heading",
     "level": 2,
     "metadata": {},
     "source": [
      "Example : 6.15\n",
      " - Page No : 214"
     ]
    },
    {
     "cell_type": "code",
     "collapsed": false,
     "input": [
      " #Given data\n",
      "BetaAvPlus1 = 10 # in dB\n",
      "BetaAvPlus1 = 10**(BetaAvPlus1/20) # unit less\n",
      "BetaAv = BetaAvPlus1 - 1 # unit less\n",
      "dAvByAv = 0.05 # unit less\n",
      "#Beta*Av = (dAvByAv/dAvfByAvf)-1 \n",
      "dAvfByAvf = dAvByAv/( BetaAv+1 ) # unit less\n",
      "dAvfByAvf = dAvfByAvf * 100 # in %\n",
      "print \"The percentage change in the closed loop gain = %0.2f %% \" %dAvfByAvf"
     ],
     "language": "python",
     "metadata": {},
     "outputs": [
      {
       "output_type": "stream",
       "stream": "stdout",
       "text": [
        "The percentage change in the closed loop gain = 1.58 % \n"
       ]
      }
     ],
     "prompt_number": 16
    },
    {
     "cell_type": "heading",
     "level": 2,
     "metadata": {},
     "source": [
      "Example : 6.16\n",
      " - Page No : 214"
     ]
    },
    {
     "cell_type": "code",
     "collapsed": false,
     "input": [
      " #Given data\n",
      "D = 10/100 # distortion without feedback\n",
      "Df = 1/100 # distortion with feedback\n",
      "Beta = 10/100 # feedback ratio\n",
      "# Df = D/(1+(Beta*A)) \n",
      "A = ((D/Df)-1)/Beta # open loop gain\n",
      "print \"The open loop gain = %0.f \" %A\n",
      "Af = A/(1+(Beta*A)) # closed loop gain\n",
      "print \"The closed loop gain = %0.f \" %Af"
     ],
     "language": "python",
     "metadata": {},
     "outputs": [
      {
       "output_type": "stream",
       "stream": "stdout",
       "text": [
        "The open loop gain = 90 \n",
        "The closed loop gain = 9 \n"
       ]
      }
     ],
     "prompt_number": 17
    },
    {
     "cell_type": "heading",
     "level": 2,
     "metadata": {},
     "source": [
      "Example : 6.17\n",
      " - Page No : 214"
     ]
    },
    {
     "cell_type": "code",
     "collapsed": false,
     "input": [
      " #Given data\n",
      "A = 150 # open loop voltage gain\n",
      "Beta = 10/100 # feedback ratio\n",
      "D = 5/100 # distortion without feedback\n",
      "Df = D/(1+(Beta*A)) # distortion with feedback\n",
      "Df = Df * 100 # in %\n",
      "print \"The distortion of the amplifier with feed back = %0.4f %% \" %Df"
     ],
     "language": "python",
     "metadata": {},
     "outputs": [
      {
       "output_type": "stream",
       "stream": "stdout",
       "text": [
        "The distortion of the amplifier with feed back = 0.3125 % \n"
       ]
      }
     ],
     "prompt_number": 18
    },
    {
     "cell_type": "heading",
     "level": 2,
     "metadata": {},
     "source": [
      "Example : 6.18\n",
      " - Page No : 215"
     ]
    },
    {
     "cell_type": "code",
     "collapsed": false,
     "input": [
      " #Given data\n",
      "D = 10/100 # distortion without feedback\n",
      "Df = 1/100 # distortion with feedback\n",
      "A = 200 # unit less\n",
      "# Df = D/(1+(Beta*A)) \n",
      "Beta = ((D/Df)-1)/A # unit less\n",
      "Af = A/(1+(Beta*A)) # unit less\n",
      "print \"The gain voltage with feed back = %0.f \" %Af\n",
      "Vs = 10 # in mV\n",
      "Vs = Vs * 10**-3 # in V\n",
      "Vout = Af*Vs # in V\n",
      "print \"The output voltage with feed back = %0.1f V \" %Vout"
     ],
     "language": "python",
     "metadata": {},
     "outputs": [
      {
       "output_type": "stream",
       "stream": "stdout",
       "text": [
        "The gain voltage with feed back = 20 \n",
        "The output voltage with feed back = 0.2 V \n"
       ]
      }
     ],
     "prompt_number": 19
    },
    {
     "cell_type": "heading",
     "level": 2,
     "metadata": {},
     "source": [
      "Example : 6.19\n",
      " - Page No : 215"
     ]
    },
    {
     "cell_type": "code",
     "collapsed": false,
     "input": [
      " #Given data\n",
      "A = 1000 # open loop gain\n",
      "D = 10/100 # distortion without feedback\n",
      "Vs = 10 # in mV\n",
      "Vs = Vs * 10**-3 # in V\n",
      "BetaA = 40 # in dB\n",
      "BetaA= 10**(BetaA/20) # unit less\n",
      "Vdesh_s = Vs*(1+BetaA) # in V\n",
      "print \"The required input signal = %0.2f V \" %Vdesh_s\n",
      "Df = (D/(1+BetaA))*100 # in % \n",
      "print \"The percentage second harmonic distortion = %0.1f %% \" %Df\n",
      "Af = A/(1+BetaA) # unit less\n",
      "print \"The closed loop voltage gain = %0.1f \" %Af"
     ],
     "language": "python",
     "metadata": {},
     "outputs": [
      {
       "output_type": "stream",
       "stream": "stdout",
       "text": [
        "The required input signal = 1.01 V \n",
        "The percentage second harmonic distortion = 0.1 % \n",
        "The closed loop voltage gain = 9.9 \n"
       ]
      }
     ],
     "prompt_number": 20
    },
    {
     "cell_type": "heading",
     "level": 2,
     "metadata": {},
     "source": [
      "Example : 6.20\n",
      " - Page No : 217"
     ]
    },
    {
     "cell_type": "code",
     "collapsed": false,
     "input": [
      " #Given data\n",
      "A = 300 # voltage gain\n",
      "Rin = 1.5 # in k ohm\n",
      "Rout = 50 # in k ohm\n",
      "Beta = 1/15 # unit less\n",
      "Af = A/(1+(Beta*A)) # unit less\n",
      "print \"The voltage gain = %0.1f \" %Af\n",
      "Rinf = (1+(Beta*A))*Rin # in k ohm\n",
      "print \"The input resistance = %0.1f k ohm \" %Rinf\n",
      "Routf = Rout/(1+(Beta*A)) # in k ohm\n",
      "print \"The output resistance = %0.2f k ohm \" %Routf"
     ],
     "language": "python",
     "metadata": {},
     "outputs": [
      {
       "output_type": "stream",
       "stream": "stdout",
       "text": [
        "The voltage gain = 14.3 \n",
        "The input resistance = 31.5 k ohm \n",
        "The output resistance = 2.38 k ohm \n"
       ]
      }
     ],
     "prompt_number": 21
    },
    {
     "cell_type": "heading",
     "level": 2,
     "metadata": {},
     "source": [
      "Example : 6.21\n",
      " - Page No : 218"
     ]
    },
    {
     "cell_type": "code",
     "collapsed": false,
     "input": [
      " #Given data\n",
      "dA_ByA = 0.1 # change in gain of internal amplifier\n",
      "A = 60 # in dB\n",
      "A = A * 16.666 # unit less\n",
      "Zo = 12 # in k ohm\n",
      "Zo = Zo * 10**3 # in ohm\n",
      "Zoutf = 600 # in ohm\n",
      "Beta = ((Zo/Zoutf)-1)/A # unit less\n",
      "print \"The value of feed back factor = %0.3f \" %Beta\n",
      "dAf_byAf = 1/(1+(A*Beta))*(dA_ByA)*100 # change in overall gain in %\n",
      "print \"The percentage change in overall gain = %0.1f %% \" %dAf_byAf"
     ],
     "language": "python",
     "metadata": {},
     "outputs": [
      {
       "output_type": "stream",
       "stream": "stdout",
       "text": [
        "The value of feed back factor = 0.019 \n",
        "The percentage change in overall gain = 0.5 % \n"
       ]
      }
     ],
     "prompt_number": 22
    },
    {
     "cell_type": "heading",
     "level": 2,
     "metadata": {},
     "source": [
      "Example : 6.22\n",
      " - Page No : 220"
     ]
    },
    {
     "cell_type": "code",
     "collapsed": false,
     "input": [
      " #Given data\n",
      "D = 5/100 # distortion without feedback\n",
      "A = 1000 # open loop voltage gain\n",
      "Beta = 0.01 # feedback ratio\n",
      "Af = A/(1+(Beta*A)) # unit less\n",
      "print \"The Amplifier voltage gain = %0.2f \" %Af\n",
      "f1 = 50 # in Hz\n",
      "fdas1 = f1/(1+(Beta*A)) # in Hz\n",
      "print \"The lower cutoff frequency with feedback = %0.2f Hz \" %fdas1\n",
      "f2 = 200 # in kHz\n",
      "f2 = f2 * 10**3 # in Hz\n",
      "fdas2 = f2*(1+(Beta*A)) # in Hz\n",
      "fdas2 = fdas2 * 10**-6 # in MHz\n",
      "print \"The upper cutoff frequency with feedback = %0.1f MHz \" %fdas2\n",
      "Df = (D/(1+(Beta*A)))*100 # in %\n",
      "print \"The distortion with feed back = %0.3f %% \" %Df"
     ],
     "language": "python",
     "metadata": {},
     "outputs": [
      {
       "output_type": "stream",
       "stream": "stdout",
       "text": [
        "The Amplifier voltage gain = 90.91 \n",
        "The lower cutoff frequency with feedback = 4.55 Hz \n",
        "The upper cutoff frequency with feedback = 2.2 MHz \n",
        "The distortion with feed back = 0.455 % \n"
       ]
      }
     ],
     "prompt_number": 23
    },
    {
     "cell_type": "heading",
     "level": 2,
     "metadata": {},
     "source": [
      "Example : 6.23\n",
      " - Page No : 220"
     ]
    },
    {
     "cell_type": "code",
     "collapsed": false,
     "input": [
      " #Given data\n",
      "Avm = 1500 # midband gain\n",
      "Avmf = 150 # midband gain with feedback\n",
      "# Avmf = Avm/(1+(Beta*Avm)) \n",
      "BetaAvm = (Avm/Avmf)-1 # feedback factor\n",
      "print \"The value of feed back factor = %0.f \" %BetaAvm\n",
      "bandwidth = 4 # in MHz\n",
      "BWf = (1+BetaAvm)*bandwidth # in MHz\n",
      "print \"The band width with feedback = %0.f MHz \" %BWf"
     ],
     "language": "python",
     "metadata": {},
     "outputs": [
      {
       "output_type": "stream",
       "stream": "stdout",
       "text": [
        "The value of feed back factor = 9 \n",
        "The band width with feedback = 40 MHz \n"
       ]
      }
     ],
     "prompt_number": 24
    },
    {
     "cell_type": "heading",
     "level": 2,
     "metadata": {},
     "source": [
      "Example : 6.24\n",
      " - Page No : 220"
     ]
    },
    {
     "cell_type": "code",
     "collapsed": false,
     "input": [
      " #Given data\n",
      "A = 100 #mid frequency gain\n",
      "BW = 200 # in kHz\n",
      "Beta = 5/100 # feedback ratio\n",
      "BWf = (1+(Beta*A))*BW # in kHz\n",
      "BWf = BWf * 10**-3 # in MHz\n",
      "print \"The bandwidth with feedback = %0.1f MHz \" %BWf\n",
      "Af = A/(1+(Beta*A)) # unit less\n",
      "print \"The gain with feedback = %0.2f \" %Af\n",
      "BWf = 1000 # in kHz\n",
      "Beta = ((BWf/BW)-1)/A*100 #feedback ratio in %\n",
      "print \"The amount of feedback = %0.f %% \" %Beta"
     ],
     "language": "python",
     "metadata": {},
     "outputs": [
      {
       "output_type": "stream",
       "stream": "stdout",
       "text": [
        "The bandwidth with feedback = 1.2 MHz \n",
        "The gain with feedback = 16.67 \n",
        "The amount of feedback = 4 % \n"
       ]
      }
     ],
     "prompt_number": 25
    },
    {
     "cell_type": "heading",
     "level": 2,
     "metadata": {},
     "source": [
      "Example : 6.25\n",
      " - Page No : 232"
     ]
    },
    {
     "cell_type": "code",
     "collapsed": false,
     "input": [
      " #Given data\n",
      "V_CC = 20 # in V\n",
      "R1 = 10 # in k ohm\n",
      "R1 = R1 * 10**3 # in ohm\n",
      "R2 = 10 # in k ohm\n",
      "R2 = R2 * 10**3 # in ohm\n",
      "R_E = 9.3 # in k ohm\n",
      "R_E = R_E * 10**3 # in ohm\n",
      "R_L = 18.6 # in k ohm\n",
      "R_L = R_L * 10**3 # in ohm\n",
      "V2 = (V_CC/(R1+R2))*R2 # in V\n",
      "V_BE = 0.7 # in V\n",
      "Ve = V2-V_BE # in V\n",
      "Ie = Ve/R_E # in A\n",
      "V_T = 25*10**-3 # in V\n",
      "rdase = V_T/Ie # in ohm\n",
      "RdasE = (R_E*R_L)/(R_E+R_L) # in ohm\n",
      "Beta = 100 # unit less\n",
      "Zinbase = Beta*(rdase+RdasE) # in ohm\n",
      "Zin =R1*R2*Zinbase/(R1*R2+R2*Zinbase+Zinbase*R1) # in ohm\n",
      "Zin= Zin*10**-3 # in k ohm\n",
      "print \"The input impedance = %0.2f k ohm \" %Zin"
     ],
     "language": "python",
     "metadata": {},
     "outputs": [
      {
       "output_type": "stream",
       "stream": "stdout",
       "text": [
        "The input impedance = 4.96 k ohm \n"
       ]
      }
     ],
     "prompt_number": 26
    }
   ],
   "metadata": {}
  }
 ]
}