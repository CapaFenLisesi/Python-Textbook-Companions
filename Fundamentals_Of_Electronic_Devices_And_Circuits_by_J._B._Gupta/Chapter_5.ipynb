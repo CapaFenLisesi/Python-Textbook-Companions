{
 "metadata": {
  "name": ""
 },
 "nbformat": 3,
 "nbformat_minor": 0,
 "worksheets": [
  {
   "cells": [
    {
     "cell_type": "heading",
     "level": 1,
     "metadata": {},
     "source": [
      "Chapter 5 : Amplifier Frequency Response"
     ]
    },
    {
     "cell_type": "heading",
     "level": 2,
     "metadata": {},
     "source": [
      "Example : 5.1\n",
      " - Page No : 160"
     ]
    },
    {
     "cell_type": "code",
     "collapsed": false,
     "input": [
      "from __future__ import division\n",
      "#Given data\n",
      "Alpha_o = 0.978 # unit less\n",
      "f_Alpha = 2.5 # in MHz\n",
      "f_Beta = (1-Alpha_o)*f_Alpha # in MHz\n",
      "print \"The value of f_Beta = %0.3f MHz \" %f_Beta\n",
      "Beta = (0.707*Alpha_o)/(1-Alpha_o) # unit less\n",
      "print \"The value of Beta = %0.2f \" %Beta"
     ],
     "language": "python",
     "metadata": {},
     "outputs": [
      {
       "output_type": "stream",
       "stream": "stdout",
       "text": [
        "The value of f_Beta = 0.055 MHz \n",
        "The value of Beta = 31.43 \n"
       ]
      },
      {
       "output_type": "stream",
       "stream": "stdout",
       "text": [
        "The value of f_Beta = 0.055 MHz \n",
        "The value of Beta = 31.43 \n"
       ]
      }
     ],
     "prompt_number": 3
    },
    {
     "cell_type": "heading",
     "level": 2,
     "metadata": {},
     "source": [
      "Example : 5.2\n",
      " - Page No : 164"
     ]
    },
    {
     "cell_type": "code",
     "collapsed": false,
     "input": [
      "from numpy import pi \n",
      "#Given data\n",
      "C =0.15 # in \u00b5F\n",
      "C = C * 10**-6 # in F\n",
      "R = 7.5 # in k ohm\n",
      "R = R * 10**3 # in ohm\n",
      "f1 = 1/(2*pi*R*C) # in Hz\n",
      "print \"The cutoff frequency = %0.1f Hz \" %f1"
     ],
     "language": "python",
     "metadata": {},
     "outputs": [
      {
       "output_type": "stream",
       "stream": "stdout",
       "text": [
        "The cutoff frequency = 141.5 Hz \n"
       ]
      }
     ],
     "prompt_number": 4
    },
    {
     "cell_type": "heading",
     "level": 2,
     "metadata": {},
     "source": [
      "Example : 5.3\n",
      " - Page No : 167"
     ]
    },
    {
     "cell_type": "code",
     "collapsed": false,
     "input": [
      " #Given data\n",
      "R_S = 1 # in k ohm\n",
      "R1 = 20 # in k ohm\n",
      "R2 = 10 # in  k ohm\n",
      "R_C = 2 # in k ohm\n",
      "R_E = 2 # in k ohm\n",
      "R_L = 2 # in k ohm\n",
      "V_BE = 0.7 # in V\n",
      "V_T = 26*10**-3 # in V \n",
      "Beta = 100 # unite less\n",
      "V_CC = 15 # in V\n",
      "Cin = 10 # in \u00b5F\n",
      "C_E = 20 # in \u00b5F\n",
      "Cout = 1 # in \u00b5F\n",
      "V_B = R2/(R1+R2) *V_CC # in V\n",
      "#I_E = V_E/R_E = (V_B-V_BE)/(R_E*10**3) # in A\n",
      "I_E = (V_B-V_BE)/(R_E*10**3) # in A\n",
      "r_e = V_T/I_E # in ohm\n",
      "r_e= r_e*10**-3 # in k ohm\n",
      "# Av = Vout/Vin = ( (-(R_C*R_L)/(R_C+R_L))/r_e ) \n",
      "Av = ( (-(R_C*R_L)/(R_C+R_L))/(r_e) ) \n",
      "Rin = (R1*R2*Beta*r_e)/((R1*R2)+(R2*Beta*r_e)+(Beta*r_e*R1)) # in  k ohm\n",
      "Zin = Rin # in k ohm\n",
      "# Vin = (Rin/(Rin+R_S))*V_S \n",
      "Vin_by_V_S = Rin/(Rin+R_S) \n",
      "Avi = Av*Vin_by_V_S # unite less\n",
      "print \"The voltage gain = %0.1f\" %Avi\n",
      "f_Li = 1/( 2*pi*(R_S+Rin)*10**3*Cin*10**-6 ) # in Hz\n",
      "print \"The lower cutoff frequency = %0.1f Hz \" %f_Li\n",
      "\n",
      "# Note: The wrong value is putted of Rin to evaluating the value of f_Li, So there is some difference between \n",
      "#       coding and the answer of the book."
     ],
     "language": "python",
     "metadata": {},
     "outputs": [
      {
       "output_type": "stream",
       "stream": "stdout",
       "text": [
        "The voltage gain = -41.8\n",
        "The lower cutoff frequency = 7.9 Hz \n"
       ]
      }
     ],
     "prompt_number": 5
    },
    {
     "cell_type": "heading",
     "level": 2,
     "metadata": {},
     "source": [
      "Example : 5.4\n",
      " - Page No : 169"
     ]
    },
    {
     "cell_type": "code",
     "collapsed": false,
     "input": [
      " #Given data\n",
      "Cin = 0.02*10**-6 # in F\n",
      "Cout = 0.47*10**-6 # in F\n",
      "Cs = 2.2*10**-6 # in F\n",
      "Rsignal = 12*10**3 # in ohm\n",
      "R_G = 2*10**6 # in ohm\n",
      "R_D = 1.5*10**3 # in ohm\n",
      "Rout = 1.5*10**3 # in ohm\n",
      "Rs = 2*10**3 # in ohm\n",
      "R_L = 2.7*10**3 # in ohm\n",
      "I_DSS = 15*10**-3 # in A\n",
      "V_P = -4 # in V\n",
      "V_GSQ = -2 # in V\n",
      "V_DD = 30 # in V\n",
      "g_mo = (-2*I_DSS)/V_P # in S\n",
      "g_m = g_mo * (1-(V_GSQ/V_P)) # in S\n",
      "fLi = 1/( 2*pi*(Rsignal+R_G)*Cin ) # in Hz\n",
      "fLo = 1/( 2*pi*(Rout+R_L)*Cout ) # in Hz\n",
      "Req = (Rs*(1/g_m))/(Rs+(1/g_m)) # in ohm\n",
      "fLs = 1/(2*pi*Req*Cs) # in Hz\n",
      "print \"The lower cutoff frequency = %0.1f Hz \" %fLs"
     ],
     "language": "python",
     "metadata": {},
     "outputs": [
      {
       "output_type": "stream",
       "stream": "stdout",
       "text": [
        "The lower cutoff frequency = 307.5 Hz \n"
       ]
      }
     ],
     "prompt_number": 6
    },
    {
     "cell_type": "heading",
     "level": 2,
     "metadata": {},
     "source": [
      "Example : 5.5\n",
      " - Page No : 171"
     ]
    },
    {
     "cell_type": "code",
     "collapsed": false,
     "input": [
      " #Given data\n",
      "Ccb = 5 # in pF\n",
      "Cbe = 12 # in pF\n",
      "h_fe = 100 # unite less\n",
      "h_ie = 1.5 # in k ohm\n",
      "R_C = 12 # in k ohm\n",
      "Av = (-h_fe/h_ie)*R_C \n",
      "Cin = Cbe + (1-Av)*Ccb # in pF\n",
      "print \"The input capacitance = %0.f pF \" %Cin"
     ],
     "language": "python",
     "metadata": {},
     "outputs": [
      {
       "output_type": "stream",
       "stream": "stdout",
       "text": [
        "The input capacitance = 4017 pF \n"
       ]
      }
     ],
     "prompt_number": 7
    },
    {
     "cell_type": "heading",
     "level": 2,
     "metadata": {},
     "source": [
      "Example : 5.6\n",
      " - Page No : 171"
     ]
    },
    {
     "cell_type": "code",
     "collapsed": false,
     "input": [
      " #Given data\n",
      "V_DD = 10 # in V\n",
      "Cds = 0.5*10**-12 # in F\n",
      "Cgs = 5*10**-12 # in F\n",
      "Cgd = 4*10**-12 # in F\n",
      "R_D = 2*10**3 # in ohm\n",
      "I_DSS = 10*10**-3 # in A\n",
      "V_P = -4 # in V\n",
      "V_GSQ = -2 # in V\n",
      "g_mo = (-2*I_DSS)/V_P # in S\n",
      "g_m = g_mo * (1-(V_GSQ/V_P)) # in S\n",
      "Av = -R_D*g_m # circuit mid-frequency gain\n",
      "# Miller capacitance\n",
      "C_M = (1-Av)*Cgd # in F\n",
      "C_M= C_M*10**12 # in pF\n",
      "print \"The miller capacitance = %0.f pF \" %C_M "
     ],
     "language": "python",
     "metadata": {},
     "outputs": [
      {
       "output_type": "stream",
       "stream": "stdout",
       "text": [
        "The miller capacitance = 24 pF \n"
       ]
      }
     ],
     "prompt_number": 8
    },
    {
     "cell_type": "heading",
     "level": 2,
     "metadata": {},
     "source": [
      "Example : 5.7\n",
      " - Page No : 177"
     ]
    },
    {
     "cell_type": "code",
     "collapsed": false,
     "input": [
      " #Given data\n",
      "I_C = 1 # in mA\n",
      "V_T = 26 # in mV\n",
      "g_m = I_C/V_T # in S\n",
      "print \"The value of g_m = %0.2f mS \" %(g_m*10**3)\n",
      "h_fe = 224 # unit less\n",
      "r_b_desh_e= h_fe/g_m # in ohm\n",
      "print \"The value of r_b'e = %0.3f k ohm \" %(r_b_desh_e*10**-3)\n",
      "h_ie = 6 # in k ohm\n",
      "h_ie = h_ie  *10**3 # in ohm\n",
      "r_b_desh_b= h_ie - r_b_desh_e # in ohm\n",
      "print \"The value r_b'b = %0.f ohm \" %r_b_desh_b\n",
      "fT = 80 # in MHz\n",
      "fT = fT * 10**6 # in Hz\n",
      "C_b_desh_c = 12 # in pF\n",
      "C_b_desh_c = C_b_desh_c* 10**-12 # in F\n",
      "C_b_desh_e= (g_m/(2*pi*fT)) - C_b_desh_c # in F\n",
      "C_b_desh_e=C_b_desh_e*10**12 # in pF\n",
      "print \"The value of C_b'e = %0.1f pF \" %C_b_desh_e"
     ],
     "language": "python",
     "metadata": {},
     "outputs": [
      {
       "output_type": "stream",
       "stream": "stdout",
       "text": [
        "The value of g_m = 38.46 mS \n",
        "The value of r_b'e = 5.824 k ohm \n",
        "The value r_b'b = 176 ohm \n",
        "The value of C_b'e = 64.5 pF \n"
       ]
      }
     ],
     "prompt_number": 9
    },
    {
     "cell_type": "heading",
     "level": 2,
     "metadata": {},
     "source": [
      "Example : 5.8\n",
      " - Page No : 178"
     ]
    },
    {
     "cell_type": "code",
     "collapsed": false,
     "input": [
      " #Given data\n",
      "I_C = 10 # in mA\n",
      "I_C = I_C * 10**-3 # in A\n",
      "V_CE = 10 # in V\n",
      "h_ie = 500 # in ohm\n",
      "h_oe = 4*10**-5 # in A/V\n",
      "h_fe = 100 # unit less\n",
      "h_re = 10**-4 # unit less\n",
      "V_T = 26 # in mV\n",
      "V_T = V_T * 10**-3 # in V\n",
      "g_m = I_C/V_T # in S\n",
      "g_m= g_m*10**3 # in mS\n",
      "print \"The value of g_m = %0.1f mS \" %g_m\n",
      "g_m= g_m*10**-3 # in S\n",
      "r_b_desh_e = h_fe/g_m # in ohm\n",
      "print \"The value of r_b'e = %0.f ohm \" %r_b_desh_e\n",
      "r_b_desh_b = h_ie - r_b_desh_e # in ohm\n",
      "print \"The value of r_b'b = %0.f ohm \" %r_b_desh_b\n",
      "r_b_desh_c = r_b_desh_e/h_re # in ohm\n",
      "r_b_desh_c= r_b_desh_c *10**-6 # in M ohm\n",
      "print \"The value of r_b'c = %0.1f Mohm \" %r_b_desh_c\n",
      "r_b_desh_c= r_b_desh_c *10**6 # in ohm\n",
      "g_b_desh_c = 1/r_b_desh_c # unit less\n",
      "g_ce = h_oe - (1+h_fe)*g_b_desh_c # in S\n",
      "print \"The value of g_ce = %0.2e S \" %g_ce\n",
      "Cob = 3 # in pF \n",
      "Cbdasc = Cob # in pF  \n",
      "print \"The value of C_b'c = %0.f pF \" %Cbdasc\n",
      "fT = 50 # in MHz\n",
      "fT = fT * 10**6 # in Hz\n",
      "Cbdase = (g_m/(2*pi*fT))-Cbdasc * 10**-12 # in F\n",
      "Cbdase= Cbdase *10**12 # in pF\n",
      "print \"The value of C_b'e = %0.f pF \" %Cbdase"
     ],
     "language": "python",
     "metadata": {},
     "outputs": [
      {
       "output_type": "stream",
       "stream": "stdout",
       "text": [
        "The value of g_m = 384.6 mS \n",
        "The value of r_b'e = 260 ohm \n",
        "The value of r_b'b = 240 ohm \n",
        "The value of r_b'c = 2.6 Mohm \n",
        "The value of g_ce = 1.15e-06 S \n",
        "The value of C_b'c = 3 pF \n",
        "The value of C_b'e = 1221 pF \n"
       ]
      }
     ],
     "prompt_number": 10
    },
    {
     "cell_type": "heading",
     "level": 2,
     "metadata": {},
     "source": [
      "Example : 5.9\n",
      " - Page No : 183"
     ]
    },
    {
     "cell_type": "code",
     "collapsed": false,
     "input": [
      "from math import log \n",
      "#Given data\n",
      "V_CC = 12 # in V\n",
      "V_EE = V_CC # in V\n",
      "I = 1 # in mA\n",
      "I = I * 10**-3 # in A\n",
      "R_B = 120 # in k ohm\n",
      "R_B = R_B * 10**3 # in ohm\n",
      "R_C = 10 # in  k ohm\n",
      "R_C = R_C * 10**3 # in ohm\n",
      "Rsig = 5 # in k ohm\n",
      "Rsig = Rsig * 10**3 # in ohm\n",
      "R_L = 5 # in k ohm\n",
      "R_L = R_L * 10**3 # in  ohm\n",
      "Beta = 125 # unit less\n",
      "V_A = 200 # in V\n",
      "Cmiu = 1 # in pF\n",
      "Cmiu = Cmiu * 10**-12 # in F\n",
      "fT = 1000 # in MHz\n",
      "fT = fT * 10**6 # in Hz\n",
      "r_x = 50 # in ohm\n",
      "V_T = 25 # in mV\n",
      "V_T = V_T * 10**-3 # in V\n",
      "g_m = I/V_T # in A/V\n",
      "r_pie = Beta/g_m # in ohm\n",
      "r_o = V_A/I # in ohm\n",
      "Cpie = (g_m/(2*pi*fT))-Cmiu # in F\n",
      "RdasL = (r_o*R_C*R_L)/( (r_o*R_C)+(R_C*R_L)+(R_L*r_o) ) # in ohm\n",
      "Gm = g_m*RdasL # unit less\n",
      "R = (R_B*Rsig)/(R_B+Rsig) # in ohm \n",
      "A_VM = (-R_B/(R_B+Rsig)) * (r_pie/(r_pie+r_x+R)) * Gm \n",
      "print \"The mid band gain = %0.2f \" %A_VM\n",
      "Avm = 20*log(abs(A_VM)) # in dB \n",
      "Cin = Cpie+Cmiu*(1+Gm) # in F\n",
      "Rdassig = (r_pie*(r_x+R))/(r_pie+(r_x+R)) # in ohm\n",
      "f2 = 1/( 2*pi*Cin*Rdassig) # in Hz\n",
      "f2 = f2 * 10**-3 # in kHz\n",
      "print \"The upper 3-dB frequency = %0.1f kHz \" %f2"
     ],
     "language": "python",
     "metadata": {},
     "outputs": [
      {
       "output_type": "stream",
       "stream": "stdout",
       "text": [
        "The mid band gain = -49.33 \n",
        "The upper 3-dB frequency = 609.0 kHz \n"
       ]
      }
     ],
     "prompt_number": 11
    },
    {
     "cell_type": "heading",
     "level": 2,
     "metadata": {},
     "source": [
      "Example : 5.10\n",
      " - Page No : 188"
     ]
    },
    {
     "cell_type": "code",
     "collapsed": false,
     "input": [
      " #Given data\n",
      "R_G = 3.9*10**6 # in ohm\n",
      "R_L = 18*10**3 # in ohm\n",
      "R_D = R_L # in ohm\n",
      "g_m = 2*10**-3 # in A/V\n",
      "r_o = 250*10**3 # in ohm\n",
      "Cgs = 1*10**-12 # in F\n",
      "Cgd = 0.25*10**-12 # in F\n",
      "Rsig = 50*10**3 # in ohm\n",
      "A_VM =-R_G/(R_G+Rsig)*g_m*r_o*R_D*R_L/(r_o*R_D+R_D*R_L+R_L*r_o) \n",
      "print \"The midband gain = %0.1f \" %A_VM\n",
      "RdasL = (r_o*R_D*R_L)/( (r_o*R_D) +(R_D*R_L)+(R_L*r_o) ) # in ohm\n",
      "Ceq = (1 + g_m*RdasL)*Cgd # in F\n",
      "Cin = Cgs+Ceq # in F\n",
      "f2 = 1/( 2*pi*Cin*( (Rsig*R_G)/(Rsig+R_G) ) ) # in Hz\n",
      "f2 = f2 * 10**-3 # in kHz\n",
      "print \"The upper 3dB frequency = %0.1f kHz \" %f2"
     ],
     "language": "python",
     "metadata": {},
     "outputs": [
      {
       "output_type": "stream",
       "stream": "stdout",
       "text": [
        "The midband gain = -17.2 \n",
        "The upper 3dB frequency = 576.4 kHz \n"
       ]
      }
     ],
     "prompt_number": 12
    }
   ],
   "metadata": {}
  }
 ]
}