{
 "metadata": {
  "name": ""
 },
 "nbformat": 3,
 "nbformat_minor": 0,
 "worksheets": [
  {
   "cells": [
    {
     "cell_type": "heading",
     "level": 1,
     "metadata": {},
     "source": [
      "Chapter 2 : Crystal Structure Of Materials"
     ]
    },
    {
     "cell_type": "heading",
     "level": 2,
     "metadata": {},
     "source": [
      "Example : 2.3\n",
      " - Page No : 56"
     ]
    },
    {
     "cell_type": "code",
     "collapsed": false,
     "input": [
      "from __future__ import division\n",
      "from math import sqrt\n",
      "#Given data\n",
      "r = 1.278 # in angstrum\n",
      "At = 63.5 # atomic weight\n",
      "N_A = 6.023*10**23 # Avagadro number\n",
      "a = (4*r)/sqrt(2) # in angstrum\n",
      "a = a * 10**-10 # in m\n",
      "m = At/N_A # in gm\n",
      "m = m * 10**-3 # in kg\n",
      "V = (a**3) # in m**3\n",
      "n = 4 # number of atoms present in one unit cell of Cu\n",
      "rho = (m*n)/V # in kg/m**3\n",
      "print \"The density of crystal = %0.f kg/m**3 \" %rho "
     ],
     "language": "python",
     "metadata": {},
     "outputs": [
      {
       "output_type": "stream",
       "stream": "stdout",
       "text": [
        "The density of crystal = 8929 kg/m**3 \n"
       ]
      },
      {
       "output_type": "stream",
       "stream": "stdout",
       "text": [
        "The density of crystal = 8929 kg/m**3 \n"
       ]
      }
     ],
     "prompt_number": 2
    },
    {
     "cell_type": "heading",
     "level": 2,
     "metadata": {},
     "source": [
      "Example : 2.4\n",
      " - Page No : 57"
     ]
    },
    {
     "cell_type": "code",
     "collapsed": false,
     "input": [
      "from math import sin, pi\n",
      "#Given data\n",
      "lembda = 1.539 # in angstrum\n",
      "theta = 22.5 # in degree\n",
      "n = 1  # first order\n",
      "# n*lembda = 2*d*sind(theta) \n",
      "d = lembda/(2*sin(theta*pi/180)) # in angstrum\n",
      "print \"The interplaner distance = %0.2f angstrum \" %d "
     ],
     "language": "python",
     "metadata": {},
     "outputs": [
      {
       "output_type": "stream",
       "stream": "stdout",
       "text": [
        "The interplaner distance = 2.01 angstrum \n"
       ]
      }
     ],
     "prompt_number": 3
    },
    {
     "cell_type": "heading",
     "level": 2,
     "metadata": {},
     "source": [
      "Example : 2.5\n",
      " - Page No : 57"
     ]
    },
    {
     "cell_type": "code",
     "collapsed": false,
     "input": [
      " #Given data\n",
      "n = 2 # second order\n",
      "d = 0.4 # in nm\n",
      "d = d * 10**-9 # in m\n",
      "theta = 16.8/2 # in degree\n",
      "# n*lembda = 2*d*sind(theta)  (using Bragg's equation)\n",
      "lembda = (2*d*sin(theta*pi/180))/n # in m\n",
      "lembda = lembda * 10**10 # in angstrum\n",
      "print \"The wavelength of x-rays = %0.3f angstrum \" %lembda"
     ],
     "language": "python",
     "metadata": {},
     "outputs": [
      {
       "output_type": "stream",
       "stream": "stdout",
       "text": [
        "The wavelength of x-rays = 0.584 angstrum \n"
       ]
      }
     ],
     "prompt_number": 4
    },
    {
     "cell_type": "heading",
     "level": 2,
     "metadata": {},
     "source": [
      "Example : 2.6 Page No : 58"
     ]
    },
    {
     "cell_type": "code",
     "collapsed": false,
     "input": [
      "# Given data\n",
      "a= 3.15 # in angstrum\n",
      "a= a*10**-10 # in m\n",
      "theta= 20.2 # in degree\n",
      "n= 1 # first order\n",
      "d= a/2**(1/2) # d110 for BCC crystal\n",
      "# n*lembda = 2*d*sind(theta)  (using Bragg's equation)\n",
      "lembda = (2*d*sin(theta*pi/180))/n # in m\n",
      "lembda = lembda * 10**10 # in angstrum\n",
      "print \"The wavelength of x-rays = %0.2f angstrum \" %lembda\n"
     ],
     "language": "python",
     "metadata": {},
     "outputs": [
      {
       "output_type": "stream",
       "stream": "stdout",
       "text": [
        "The wavelength of x-rays = 1.54 angstrum \n"
       ]
      }
     ],
     "prompt_number": 5
    }
   ],
   "metadata": {}
  }
 ]
}