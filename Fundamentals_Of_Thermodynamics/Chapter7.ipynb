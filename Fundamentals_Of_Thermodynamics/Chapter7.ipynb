{
 "metadata": {
  "name": "",
  "signature": "sha256:eaab49a206212133280afcf75d94d2c8dc077f30ee178c5c537c49bf39ade08a"
 },
 "nbformat": 3,
 "nbformat_minor": 0,
 "worksheets": [
  {
   "cells": [
    {
     "cell_type": "heading",
     "level": 1,
     "metadata": {},
     "source": [
      "Chapter7:THE SECOND LAW OF THERMODYNAMICS"
     ]
    },
    {
     "cell_type": "heading",
     "level": 2,
     "metadata": {},
     "source": [
      "Ex7.1:pg-241"
     ]
    },
    {
     "cell_type": "code",
     "collapsed": false,
     "input": [
      "#example 1\n",
      "#rate of fuel consumption\n",
      "\n",
      "W=136*0.7355 #output of automobile engine in kW\n",
      "neng=0.3 #thermal efficiency of automobile engine\n",
      "Qh=W/neng #energy output of fuel in kW\n",
      "Q1=Qh-W #total rate of energy rejected to the ambient\n",
      "qh=35000.0 #energy output of fuel in kJ/kg\n",
      "m=Qh/qh #rate of fuel consumption in kg/s\n",
      "print\"\\n hence,total rate of energy rejected is\",round(Q1),\"kW\" \n",
      "print\"\\n and rate of fuel consumption is\",round(m,4),\"kg/s\""
     ],
     "language": "python",
     "metadata": {},
     "outputs": [
      {
       "output_type": "stream",
       "stream": "stdout",
       "text": [
        "\n",
        " hence,total rate of energy rejected is 233.0 kW\n",
        "\n",
        " and rate of fuel consumption is 0.0095 kg/s\n"
       ]
      }
     ],
     "prompt_number": 12
    },
    {
     "cell_type": "heading",
     "level": 2,
     "metadata": {},
     "source": [
      "Ex7.2:pg-243"
     ]
    },
    {
     "cell_type": "code",
     "collapsed": false,
     "input": [
      "#example 2\n",
      "#coefficient of performance of refrigerator\n",
      "\n",
      "Qh=400 #heat rejected to kitchen air in W\n",
      "W=150.0 #electrical input power in W\n",
      "Q1=Qh-W #rate of energy taken out to cold space in W\n",
      "B=Ql/W #coefficicent of performnace of refrigerator\n",
      "print\"\\n hence,rate of energy taken out of the cold space is\",round(Q1),\"W\"\n",
      "print\"\\n and coefficient of performance of the refrigerator is\",round(B,2),"
     ],
     "language": "python",
     "metadata": {},
     "outputs": [
      {
       "output_type": "stream",
       "stream": "stdout",
       "text": [
        "\n",
        " hence,rate of energy taken out of the cold space is 250.0 W\n",
        "\n",
        " and coefficient of performance of the refrigerator is 1.67\n"
       ]
      }
     ],
     "prompt_number": 22
    },
    {
     "cell_type": "heading",
     "level": 2,
     "metadata": {},
     "source": [
      "Ex7.4:pg-260"
     ]
    },
    {
     "cell_type": "code",
     "collapsed": false,
     "input": [
      "#example 4\n",
      "#comparison of ideal carnot heat engine with actual heat engine\n",
      "\n",
      "Qh=1000.0 #rate of heat transfer to heat engine in kW\n",
      "W=450.0 #rate of production of work in kW\n",
      "Ql=Qh-W #rate of heat rejected by heat engine in kW\n",
      "nthermal=W/Qh #efficiency from the definition of efficiency\n",
      "Tl=300 #temperature of surroundings in K\n",
      "Th=550.0 #temperature of heat source in Celsius\n",
      "ncarnot=1-Tl/(Th+273.15) #efficiency if heat engine is considered to be ideal carnot heat engine\n",
      "W2=ncarnot*Qh #rate of work production if heat engine is assumed to be ideal carnot heat engine in kW\n",
      "Q12=Qh-W2 #rate of heat rejected by heat engine in kW if heat engine is assumed to be ideal carnot heat engine\n",
      "print\"\\n hence,energy discarded to the ambient surroundings iS\",round(Q12,4),\"kw\"\n",
      "print\"\\n and the engine efficiency is\",round(ncarnot,4),"
     ],
     "language": "python",
     "metadata": {},
     "outputs": [
      {
       "output_type": "stream",
       "stream": "stdout",
       "text": [
        "\n",
        " hence,energy discarded to the ambient surroundings iS 364.4536 kw\n",
        "\n",
        " and the engine efficiency is 0.6355\n"
       ]
      }
     ],
     "prompt_number": 53
    },
    {
     "cell_type": "heading",
     "level": 2,
     "metadata": {},
     "source": [
      "Ex7.5:pg-261"
     ]
    },
    {
     "cell_type": "code",
     "collapsed": false,
     "input": [
      "#example 5\n",
      "#calculating required work\n",
      "\n",
      "Tl=24+273.15 #room temperature in Kelvins\n",
      "Th=35+273.15 #atmospheric temperature in Kelvins\n",
      "Ql=4 #rate of heat rejection from room\n",
      "B=Tl/(Th-Tl) #coefficient of performance of air conditioner\n",
      "W=Ql/B #required work in kW\n",
      "print\"\\n hence,the magnitude of reqiured work is\",round(W,2),\"kw\""
     ],
     "language": "python",
     "metadata": {},
     "outputs": [
      {
       "output_type": "stream",
       "stream": "stdout",
       "text": [
        "\n",
        " hence,the magnitude of reqiured work is 0.15 kw\n"
       ]
      }
     ],
     "prompt_number": 40
    },
    {
     "cell_type": "code",
     "collapsed": false,
     "input": [],
     "language": "python",
     "metadata": {},
     "outputs": []
    }
   ],
   "metadata": {}
  }
 ]
}