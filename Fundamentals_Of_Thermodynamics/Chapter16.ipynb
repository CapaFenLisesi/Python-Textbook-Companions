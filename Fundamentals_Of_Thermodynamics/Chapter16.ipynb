{
 "metadata": {
  "name": "",
  "signature": "sha256:7c7e50fa2880e870c4aa1630bafd7d049a3cb3c4e646a0d88068a55be4a3d00f"
 },
 "nbformat": 3,
 "nbformat_minor": 0,
 "worksheets": [
  {
   "cells": [
    {
     "cell_type": "heading",
     "level": 1,
     "metadata": {},
     "source": [
      "Chapter 16:INTRODUCTION TO PHASE AND CHEMICAL EQUILIBRIUM"
     ]
    },
    {
     "cell_type": "heading",
     "level": 2,
     "metadata": {},
     "source": [
      "Ex16.2:PG-681"
     ]
    },
    {
     "cell_type": "code",
     "collapsed": false,
     "input": [
      "#ques2\n",
      "#to determine change in gibbs free energy\n",
      "\n",
      "#1-H2\n",
      "#2-O2\n",
      "#3-H2O\n",
      "\n",
      "#at T=298 K\n",
      "T1=298.0;#K\n",
      "Hf1=0;#Enthalpy of formation of H2 at 298 K\n",
      "Hf2=0;#Enthalpy of formation of O2 at 298 K\n",
      "Hf3=-241826;#enthalpy of formation of H2O at 298 K in kJ\n",
      "dH=2*Hf1+Hf2-2*Hf3;#Change in enthalpy in kJ\n",
      "Sf1=130.678;#Entropy of H2 at 298 K n kJ/K\n",
      "Sf2=205.148;#Entropy of O2 at 298 K in kJ/K\n",
      "Sf3=188.834;#entropy of H2O at 298 K in kJ/K\n",
      "dS=2*Sf1+Sf2-2*Sf3;#Change in entropy in kJ/K\n",
      "dG1=dH-T1*dS;#change n gibbs free energy in kJ\n",
      "print\" Change in gibbs free energy at\",T1,\"kelvin is\",round(dG1),\"kJ \"\n",
      "#at T=2000 K\n",
      "T2=2000.0;#K\n",
      "Hf1=52942-0;#Enthalpy of formation of H2 at 2000 K\n",
      "Hf2=59176-0;#Enthalpy of formation of O2 at 2000 K\n",
      "Hf3=-241826+72788;#enthalpy of formation of H2O at 2000 K in kJ\n",
      "dH=2*Hf1+Hf2-2*Hf3;#Change in enthalpy in kJ\n",
      "Sf1=188.419;#Entropy of H2 at 2000 K n kJ/K\n",
      "Sf2=268.748;#Entropy of O2 at 2000 K in kJ/K\n",
      "Sf3=264.769;#entropy of H2O at 2000 K in kJ/K\n",
      "dS=2*Sf1+Sf2-2*Sf3;#Change in entropy in kJ/K\n",
      "dG2=dH-(T2*dS);#change n gibbs free energy in kJ\n",
      "print\" Change in gibbs free energy at\",T2,\"kelvin is\",round(dG2),\" kJ \""
     ],
     "language": "python",
     "metadata": {},
     "outputs": [
      {
       "output_type": "stream",
       "stream": "stdout",
       "text": [
        " Change in gibbs free energy at 298.0 kelvin is 457179.0 kJ \n",
        " Change in gibbs free energy at 2000.0 kelvin is 271040.0  kJ \n"
       ]
      }
     ],
     "prompt_number": 21
    },
    {
     "cell_type": "heading",
     "level": 2,
     "metadata": {},
     "source": [
      "Ex16.3:PG-683"
     ]
    },
    {
     "cell_type": "code",
     "collapsed": false,
     "input": [
      "#ques3\n",
      "#calculating equilibrium constant \n",
      "\n",
      "dG1=-457.166;#change in gibbs free energy at temp 298 K from example2 in kJ\n",
      "dG2=-271.040;#change in gibbs free energy at temp 2000 K from example2 n kJ\n",
      "T1=298;#K\n",
      "T2=2000;#K\n",
      "R=8.3145;#gas constant\n",
      "K1=dG1*1000/(R*T1);\n",
      "K2=dG2*1000/(R*T2);\n",
      "print\" Equilibrium constant at \",T1,\"K = \",round(K1,2)\n",
      "print\" Equilibrium constant at \",T2,\"K = \",round(K2,3)"
     ],
     "language": "python",
     "metadata": {},
     "outputs": [
      {
       "output_type": "stream",
       "stream": "stdout",
       "text": [
        " Equilibrium constant at  298 K =  -184.51\n",
        " Equilibrium constant at  2000 K =  -16.299\n"
       ]
      }
     ],
     "prompt_number": 6
    },
    {
     "cell_type": "code",
     "collapsed": false,
     "input": [],
     "language": "python",
     "metadata": {},
     "outputs": []
    }
   ],
   "metadata": {}
  }
 ]
}