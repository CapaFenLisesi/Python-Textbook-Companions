{
 "metadata": {
  "name": "",
  "signature": "sha256:49d323999697626f705831867b32f6c520c5287d76ed00656f7259e6db65356e"
 },
 "nbformat": 3,
 "nbformat_minor": 0,
 "worksheets": [
  {
   "cells": [
    {
     "cell_type": "heading",
     "level": 1,
     "metadata": {},
     "source": [
      "Chapter15:CHEMICAL REACTIONS"
     ]
    },
    {
     "cell_type": "heading",
     "level": 2,
     "metadata": {},
     "source": [
      "Ex15.1:Pg-621"
     ]
    },
    {
     "cell_type": "code",
     "collapsed": false,
     "input": [
      "#ques1\n",
      "#theoratical air-fuel ratio for combustion of octane\n",
      "#combustion equation is\n",
      "#C8H18 + 12.5O2 + 12.5(3.76) N2 \u2192 8 CO2 + 9H2O + 47.0N2\n",
      "rm=(12.5+47.0)/1;#air fuel ratio on mole basis\n",
      "rma=rm*28.97/114.2;#air fuel ratio on mass basis;\n",
      "print \"Theoratical air fuel ratio on mass basis is\",round(rma),\"kg air/kg fuel\"\n",
      "\n"
     ],
     "language": "python",
     "metadata": {},
     "outputs": [
      {
       "output_type": "stream",
       "stream": "stdout",
       "text": [
        " Theoratical air fuel ratio on mass basis is 15.0 kg air/kg fuel\n"
       ]
      }
     ],
     "prompt_number": 3
    },
    {
     "cell_type": "heading",
     "level": 2,
     "metadata": {},
     "source": [
      "Ex15.6:Pg-629"
     ]
    },
    {
     "cell_type": "code",
     "collapsed": false,
     "input": [
      "#ques6\n",
      "#determining heat transfer per kilomole of fuel entering combustion chamber\n",
      "\n",
      "#1-CH4\n",
      "#2-CO2\n",
      "#3-H2O\n",
      "#hf-standard enthalpy of given substance\n",
      "hf1=-74.873;#kJ\n",
      "hf2=-393.522;#kJ\n",
      "hf3=-285.830;#kJ\n",
      "Qcv=hf2+2*hf3-hf1;#kJ\n",
      "print \"Heat transfer per kilomole of fuel entering combustion chamber is\",round(Qcv,3),\"kJ\"\n",
      "#the answers in the book is different as they have not printed the decimals in values"
     ],
     "language": "python",
     "metadata": {},
     "outputs": [
      {
       "output_type": "stream",
       "stream": "stdout",
       "text": [
        "Heat transfer per kilomole of fuel entering combustion chamber is -890.309 kJ\n"
       ]
      }
     ],
     "prompt_number": 5
    },
    {
     "cell_type": "heading",
     "level": 2,
     "metadata": {},
     "source": [
      "Ex15.7:Pg-631"
     ]
    },
    {
     "cell_type": "code",
     "collapsed": false,
     "input": [
      "#ques7\n",
      "#calculating enthalpy of water at given pressure and temperature\n",
      "\n",
      "#1.Assuming steam to be an ideal gas with value of Cp\n",
      "T1=298.15;#Initial temperature in K\n",
      "T2=573.15;#final temperature in K\n",
      "T=(T1+T2)/2;#average temperature in K\n",
      "Cp=1.79+0.107*T/1000+0.586*(T/1000)**2-.20*(T/1000)**3;#specific heat at constant pressure in kj/kg.K\n",
      "M=18.015;#mass in kg\n",
      "dh=M*Cp*(T2-T1);#enthalpy change in kJ/kmol\n",
      "ho=-241.826;#enthalpy at standard temperature and pressure in kJ/mol\n",
      "htp1=ho+dh/1000;#enthalpy at given temp and pressure in kJ/kmol\n",
      "print \" 1. Enthalpy of water at given pressure and temperature using value of Cp =\",round(htp1,3),\"kJ/kmol\"\n",
      "\n",
      "#2..Assuming steam to be an ideal gas with value for dh\n",
      "dh=9359;#enthalpy change from table A.9 in kJ/mol\n",
      "htp2=ho+dh/1000;#enthalpy at given temp and pressure in kJ/kmol\n",
      "print \" 2. Enthalpy of water at given pressure and temperature assuming value od dh =\",round(htp2,3),\"kJ/kmol \"\n",
      "\n",
      "#3. Using steam table\n",
      "dh=M*(2977.5-2547.2);#enthalpy change for gases in kJ/mol\n",
      "htp3g=dh/1000+ho;\n",
      "dh=M*(2977.5-104.9);#enthalpy change for liquid in kJ/mol\n",
      "hl=-285.830;#standard enthalpy for liquid in kJ/kmol\n",
      "htp31=hl+dh/1000.0;#enthalpy at given temp and pressure in kJ/kmol\n",
      "print \" 3.(i) enthalpy at given temp and pressure in kJ/kmol in terms of liquid =\",round(htp31,3),\"kJ/kmol \"\n",
      "print \" 3.(ii) enthalpy at given temp and pressure in kJ/kmol in terms of liquid =\",round(htp3g,3),\"kJ/kmol \"\n",
      "#4.using generalised charts\n",
      "#htp=ho-(h2*-h2)+(h2*-h1*)+(h1*-h1);\n",
      "#h2*-h2=Z*R*Tc,\n",
      "#h2*-h1*=9539 kJ/mol, from part 2\n",
      "#h1*-h1=0 ,as ideal gas \n",
      "Z=0.21;#from chart\n",
      "R=8.3145;#gas constant in SI units\n",
      "Tc=647.3;#critical temperature in K\n",
      "htp4=ho+9539/1000-Z*R*Tc/1000;#enthalpy at given temp and pressure in kJ/kmol\n",
      "print \" 4. enthalpy at given temp and pressure in kJ/kmol using compressibility chart = \",round(htp4,3),\"kJ/kmol\"\n",
      "#the answers in book are different as they have not printed the decimals in values"
     ],
     "language": "python",
     "metadata": {},
     "outputs": [
      {
       "output_type": "stream",
       "stream": "stdout",
       "text": [
        " 1. Enthalpy of water at given pressure and temperature using value of Cp = -232.258 kJ/kmol\n",
        " 2. Enthalpy of water at given pressure and temperature assuming value od dh = -232.826 kJ/kmol \n",
        " 3.(i) enthalpy at given temp and pressure in kJ/kmol in terms of liquid = -234.08 kJ/kmol \n",
        " 3.(ii) enthalpy at given temp and pressure in kJ/kmol in terms of liquid = -234.074 kJ/kmol \n",
        " 4. enthalpy at given temp and pressure in kJ/kmol using compressibility chart =  -233.956 kJ/kmol\n"
       ]
      }
     ],
     "prompt_number": 12
    },
    {
     "cell_type": "heading",
     "level": 2,
     "metadata": {},
     "source": [
      "Ex15.15:Pg-649"
     ]
    },
    {
     "cell_type": "code",
     "collapsed": false,
     "input": [
      "#ques15\n",
      "#calculatng reversible elecromotive force \n",
      "\n",
      "#1-H2O\n",
      "#2-H2\n",
      "#3-O2\n",
      "#hf-standard enthalpy \n",
      "#sf-standard entropy\n",
      "hf1=-285.830;#kJ\n",
      "hf2=0;#kJ\n",
      "hf3=0;#kJ\n",
      "sf1=69.950;#kJ/K\n",
      "sf2=130.678;#kJ/K\n",
      "sf3=205.148;#kJ/K\n",
      "dH=2*hf1-2*hf2-hf3;#change in enthalpy in kJ\n",
      "dS=2*sf1-2*sf2-sf3;#change in entropy in kJ/K\n",
      "T=298.15;#temperature in K\n",
      "dG=dH-T*dS/1000;#change in gibbs free energy in kJ\n",
      "E=-dG*1000/(96485*4);#emf in V\n",
      "print\" Reversible electromotive Force =\",round(E,3),\" V\""
     ],
     "language": "python",
     "metadata": {},
     "outputs": [
      {
       "output_type": "stream",
       "stream": "stdout",
       "text": [
        " Reversible electromotive Force = 1.229  V\n"
       ]
      }
     ],
     "prompt_number": 15
    },
    {
     "cell_type": "heading",
     "level": 2,
     "metadata": {},
     "source": [
      "Ex15.17:Pg-654"
     ]
    },
    {
     "cell_type": "code",
     "collapsed": false,
     "input": [
      "#ques17\n",
      "#efficiency of generator and plant\n",
      "\n",
      "q=325000*(3398.3-856.0);#heat transferred to H2O/kg fuel in kJ/kg\n",
      "qv=26700.0*33250;#higher heating value in kJ/kg\n",
      "nst=q/qv*100;#efficiency of steam generator\n",
      "w=81000.0*3600;#net work done in kJ/kg\n",
      "nth=w/qv*100.0;#thermal efficiency\n",
      "print\" Efficiency of generator =\",round(nst,1),\"percent\\n\"\n",
      "print\" Thermal Efficiency =\",round(nth,1),\" percent\"\n"
     ],
     "language": "python",
     "metadata": {},
     "outputs": [
      {
       "output_type": "stream",
       "stream": "stdout",
       "text": [
        " Efficiency of generator = 93.1 percent\n",
        "\n",
        " Thermal Efficiency = 32.8  percent\n"
       ]
      }
     ],
     "prompt_number": 20
    }
   ],
   "metadata": {}
  }
 ]
}