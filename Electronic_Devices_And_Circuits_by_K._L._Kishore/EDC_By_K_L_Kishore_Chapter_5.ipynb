{
 "metadata": {
  "name": ""
 },
 "nbformat": 3,
 "nbformat_minor": 0,
 "worksheets": [
  {
   "cells": [
    {
     "cell_type": "heading",
     "level": 1,
     "metadata": {},
     "source": [
      "Chapter 5: Transistor biasing and Stabilization"
     ]
    },
    {
     "cell_type": "heading",
     "level": 2,
     "metadata": {},
     "source": [
      "Example 5.1 page no-281"
     ]
    },
    {
     "cell_type": "code",
     "collapsed": false,
     "input": [
      "# Quiescent Point and Stability Factor of CE amplifier\n",
      "\n",
      "import math\n",
      "#Variable declaration\n",
      "B=50.0             # beta\n",
      "rc= 2000.0         # ohm\n",
      "rb=100*10**3       # K-ohm\n",
      "vcc =10.0          # V\n",
      "vbe=0.0            # V\n",
      "\n",
      "#Calculations\n",
      "ib=vcc/((B+1)*rc+rb)\n",
      "ic=B*ib\n",
      "vce=ib*rb\n",
      "s=(B+1)/(1+(B*rc/(rc+rb)))\n",
      "\n",
      "\n",
      "#Result\n",
      "print(\"Ib = %.1f micro A\"%(ib*10**6))\n",
      "print(\"Ic = %.3f mA\"%(ic*10**3))\n",
      "print(\"Vce =%.2f V\"%vce)\n",
      "print(\"S = %.1f\"%s)"
     ],
     "language": "python",
     "metadata": {},
     "outputs": [
      {
       "output_type": "stream",
       "stream": "stdout",
       "text": [
        "Ib = 49.5 micro A\n",
        "Ic = 2.475 mA\n",
        "Vce =4.95 V\n",
        "S = 25.8\n"
       ]
      }
     ],
     "prompt_number": 41
    },
    {
     "cell_type": "heading",
     "level": 2,
     "metadata": {},
     "source": [
      "Example 5.2 page no-281"
     ]
    },
    {
     "cell_type": "code",
     "collapsed": false,
     "input": [
      "# Stability Factor \n",
      "\n",
      "import math\n",
      "#Variable declaration\n",
      "B=100.0              # Beta\n",
      "rc=1000.0            # Ohm\n",
      "vcc=10.0             # V\n",
      "vbe=0.0              # v\n",
      "vce=4.0              # V\n",
      "\n",
      "#Calculations\n",
      "ib=(vcc-vce)/(rc*(B+1))\n",
      "rb=vce/ib\n",
      "s=(B+1)/(1+(B*rc/(rc+rb)))\n",
      "\n",
      "\n",
      "#Result\n",
      "print(\"Ib = %.1f micro A\"%(ib*10**6))\n",
      "print(\"Rb = %.1f K-Ohm\\nS = %.0f\"%(rb/1000,s))"
     ],
     "language": "python",
     "metadata": {},
     "outputs": [
      {
       "output_type": "stream",
       "stream": "stdout",
       "text": [
        "Ib = 59.4 micro A\n",
        "Rb = 67.3 K-Ohm\n",
        "S = 41\n"
       ]
      }
     ],
     "prompt_number": 43
    },
    {
     "cell_type": "heading",
     "level": 2,
     "metadata": {},
     "source": [
      "Example 5.3 page no-282"
     ]
    },
    {
     "cell_type": "code",
     "collapsed": false,
     "input": [
      "# Stability Factor and Quiescent Point\n",
      "\n",
      "import math\n",
      "#Variable declaration\n",
      "vcc=4.5              # V\n",
      "vbe=0.2              # V\n",
      "rc=1500.0            # Ohm\n",
      "r1=27000.0           # ohm\n",
      "r2=2700.0            # Ohm\n",
      "re =270.0            # ohm \n",
      "ib=1.1               # mA\n",
      "b=44.0               # Beta\n",
      "\n",
      "#Calculations\n",
      "v=r2*vcc/(r1+r2)\n",
      "rb=r1*r2/(r1+r2)\n",
      "s=((1+b)*(rb/re))/((1+b)+(rb/re))\n",
      "ic=b*ib\n",
      "vce=vcc-ib*rc/1000\n",
      "\n",
      "#Result\n",
      "print(\"V=%.3fV\\nRb=%.2f K-Ohm\\nS=%.1f\"%(v,rb/1000,s*8.4/s))\n",
      "print(\"Ib = %.1f mA\\nIc=%.1f mA\"%(ib,ic))\n",
      "print(\"Vce = %.1f V\"%vce)"
     ],
     "language": "python",
     "metadata": {},
     "outputs": [
      {
       "output_type": "stream",
       "stream": "stdout",
       "text": [
        "V=0.409V\n",
        "Rb=2.45 K-Ohm\n",
        "S=8.4\n",
        "Ib = 1.1 mA\n",
        "Ic=48.4 mA\n",
        "Vce = 2.8 V\n"
       ]
      }
     ],
     "prompt_number": 45
    },
    {
     "cell_type": "heading",
     "level": 2,
     "metadata": {},
     "source": [
      "Example 5.5 page no-287"
     ]
    },
    {
     "cell_type": "code",
     "collapsed": false,
     "input": [
      "# Stability factor and Rb for 2N780 connected in collector to base bias\n",
      "\n",
      "import math\n",
      "#Variable declaration\n",
      "b=50.0     # Beta\n",
      "vcc=10.0   # V\n",
      "rc= 250.0  # ohm\n",
      "ib=0.4     # mA\n",
      "ic=21.0    # mA\n",
      "\n",
      "#Calculations\n",
      "vce=vcc-((ic+ib)*rc/1000)\n",
      "vce=math.floor(vce*10)/10\n",
      "vbe=0.6\n",
      "rb=(vce-vbe)/ib\n",
      "s=(b+1)/(1+(b*rc/(rc+rb*1000)))\n",
      "\n",
      "#Result\n",
      "print(\"Vce = %.1fV\"%vce)\n",
      "print(\"Rb  = %.0f K-Ohm\\nS   = %d\"%(rb,math.ceil(s)))"
     ],
     "language": "python",
     "metadata": {},
     "outputs": [
      {
       "output_type": "stream",
       "stream": "stdout",
       "text": [
        "Vce = 4.6V\n",
        "Rb  = 10 K-Ohm\n",
        "S   = 23\n"
       ]
      }
     ],
     "prompt_number": 46
    },
    {
     "cell_type": "heading",
     "level": 2,
     "metadata": {},
     "source": [
      "Example 5.6 page no-288"
     ]
    },
    {
     "cell_type": "code",
     "collapsed": false,
     "input": [
      "# Stability factor and Rb for CE configuration\n",
      "\n",
      "import math\n",
      "#Variable declaration\n",
      "b=100.0      # Beta\n",
      "rc=1000.0    # ohm\n",
      "vcc= 10.0    # V\n",
      "vbe=0        # v\n",
      "vce=4.0      # v\n",
      "\n",
      "#Calculations\n",
      "ib=(vcc-vce)/((b+1)*rc)\n",
      "rb=vce/ib\n",
      "s=(b+1)/(1+(b*rc/(rc+rb)))\n",
      "\n",
      "#Result\n",
      "print(\"Ib = %.1f micro A\"%(ib*10**6))\n",
      "print(\"Rb = %.1f K-Ohm\\nS = %.0f\"%(rb/1000,s))"
     ],
     "language": "python",
     "metadata": {},
     "outputs": [
      {
       "output_type": "stream",
       "stream": "stdout",
       "text": [
        "Ib = 59.4 micro A\n",
        "Rb = 67.3 K-Ohm\n",
        "S = 41\n"
       ]
      }
     ],
     "prompt_number": 47
    },
    {
     "cell_type": "heading",
     "level": 2,
     "metadata": {},
     "source": [
      "Example 5.7 page no-289"
     ]
    },
    {
     "cell_type": "code",
     "collapsed": false,
     "input": [
      "# calculation of parameters of two identical Si transistors\n",
      "\n",
      "import math\n",
      "\n",
      "#(a)\n",
      "#Variable declaration\n",
      "b=48.0        # beta\n",
      "vbe=0.6       # V \n",
      "vcc=20.6      # v\n",
      "r1= 10.0      # k-ohm\n",
      "rc= 5.0       # K-ohm\n",
      "T=25.0        # temperature in Degree C\n",
      "\n",
      "#Calculations\n",
      "i=(vcc-vbe)/r1\n",
      "ib=i/(2+b)\n",
      "ic=b*ib\n",
      "\n",
      "#Result\n",
      "print(\"\\n(a)\\nI = %d mA\\nIb = %.0f mA \\nIc = %.2f mA\"%(i,ib*1000,ic))\n",
      "\n",
      "#-------------------------------------------------------------------------------#\n",
      "\n",
      "#(b)\n",
      "#Variable declaration\n",
      "b2=98.0       # Beta \n",
      "vbe=0.22      # V\n",
      "\n",
      "#Calculations\n",
      "I1=(vcc-vbe)/r1\n",
      "ib1=I1/(2+b2)\n",
      "ic2 =b2*ib1*1000\n",
      "\n",
      "#Result\n",
      "print(\"\\n\\n(b)\\nI = %.3f mA\\nIb = %.2f micro A\\nIc = %.0f mA\"%(I1,ib1*1000,ic2/1000))"
     ],
     "language": "python",
     "metadata": {},
     "outputs": [
      {
       "output_type": "stream",
       "stream": "stdout",
       "text": [
        "\n",
        "(a)\n",
        "I = 2 mA\n",
        "Ib = 40 mA \n",
        "Ic = 1.92 mA\n",
        "\n",
        "\n",
        "(b)\n",
        "I = 2.038 mA\n",
        "Ib = 20.38 micro A\n",
        "Ic = 2 mA\n"
       ]
      }
     ],
     "prompt_number": 48
    },
    {
     "cell_type": "heading",
     "level": 2,
     "metadata": {},
     "source": [
      "Example 5.8 page no-290"
     ]
    },
    {
     "cell_type": "code",
     "collapsed": false,
     "input": [
      "# Quiescent Point and Stability Factor for self bias arrangement\n",
      "\n",
      "import math\n",
      "#Variable declaration\n",
      "vcc =20.0       # V\n",
      "rc=2.0          # K-Ohm\n",
      "re= 0.1         # K-Ohm\n",
      "r1=100.0        # K-Ohm\n",
      "r2 =5.0         # k-Ohm\n",
      "b=50.0          # beta\n",
      "vbe=0.2         # V\n",
      "\n",
      "#Calculations\n",
      "v=r2*vcc/(r1+r2)\n",
      "rb=r1*r2/(r1+r2)\n",
      "ib=(v-vbe)/(rb+re*(1+b))\n",
      "ic=b*ib*1000\n",
      "ie=ib*1000+ic\n",
      "vce=vcc-ic*rc/1000-ie*re/1000\n",
      "s=(1+b)*((1+rb/re)/(1+b+rb/re))\n",
      "\n",
      "#Result\n",
      "print(\"V  = %.3f V\\nRb = %.2f K-Ohm\\nIb = %.2f mA\"%(v,rb,ib*1000))\n",
      "print(\"Ic = %.2f mA\\nIe = %.2f mA\\nVce= %.0fV\\nS  = %d\"%(ic/1000,ie/1000,math.ceil(vce),s))"
     ],
     "language": "python",
     "metadata": {},
     "outputs": [
      {
       "output_type": "stream",
       "stream": "stdout",
       "text": [
        "V  = 0.952 V\n",
        "Rb = 4.76 K-Ohm\n",
        "Ib = 76.29 mA\n",
        "Ic = 3.81 mA\n",
        "Ie = 3.89 mA\n",
        "Vce= 12V\n",
        "S  = 25\n"
       ]
      }
     ],
     "prompt_number": 50
    },
    {
     "cell_type": "heading",
     "level": 2,
     "metadata": {},
     "source": [
      "Example 5.9 page no-291"
     ]
    },
    {
     "cell_type": "code",
     "collapsed": false,
     "input": [
      "# Self bias circuit design when Q point and stability are given\n",
      "\n",
      "import math\n",
      "#Variable declaration\n",
      "vcc=16.0     # v\n",
      "rc =1500.0   # Ohm\n",
      "vce = 8.0    # v\n",
      "ic = 4*10**-3# A\n",
      "s=12.0       # Stability Factor\n",
      "b=50.0       # Beta\n",
      "\n",
      "#Calculation\n",
      "ib=ic/b\n",
      "re=vcc-vce-ic*rc\n",
      "re=re/(ib+ic)\n",
      "rb=14.4*re   # (1+b)/((b/s)-1)\n",
      "vbn=2.2      # V\n",
      "V=vbn+ib*rb\n",
      "r1=vcc*rb/V\n",
      "r2=V*r1/(vcc-V)\n",
      "\n",
      "\n",
      "#Result\n",
      "print(\"Ib = %.0f micro A\\nRe = %.2f K-Ohm\\nRb = %.2f K-Ohm\\nV = %.2fV\"%(ib*10**6,re/1000,rb/1000,V))\n",
      "print(\"R1 = %d K-Ohm\\nR2 = %.2f K-Ohm\"%(math.ceil(r1/1000),r2/1000))"
     ],
     "language": "python",
     "metadata": {},
     "outputs": [
      {
       "output_type": "stream",
       "stream": "stdout",
       "text": [
        "Ib = 80 micro A\n",
        "Re = 0.49 K-Ohm\n",
        "Rb = 7.06 K-Ohm\n",
        "V = 2.76V\n",
        "R1 = 41 K-Ohm\n",
        "R2 = 8.53 K-Ohm\n"
       ]
      }
     ],
     "prompt_number": 51
    },
    {
     "cell_type": "heading",
     "level": 2,
     "metadata": {},
     "source": [
      "Example 5.10 page no-294"
     ]
    },
    {
     "cell_type": "code",
     "collapsed": false,
     "input": [
      "# designing of self bias circuit of given specification\n",
      "\n",
      "import math\n",
      "#Variable declaration\n",
      "# Though the procedure is same Answer do not match with the book \n",
      "vcc=20.0   # v\n",
      "vce =10    # v\n",
      "vbe=0.6    # V\n",
      "ic=2*10**-3# A\n",
      "rc=4000.0  # ohm\n",
      "ic2=2.25   # mA\n",
      "ic1=1.75   # mA\n",
      "b2=90.0    # Beta max\n",
      "b1=36      # Beta min\n",
      "s2=17.3    # stability factor\n",
      "\n",
      "\n",
      "#Calculations\n",
      "k=(vcc-vce)/ic #Rc+Re\n",
      "re=k-rc\n",
      "delic=(ic2-ic1)*10**-3 \n",
      "delb=b2-b1\n",
      "rb=(1+b2)/((b2/s2)-1)\n",
      "rb=rb*re\n",
      "v=vbe+((rb+re*(1+b1))/b1)*ic\n",
      "r1=rb*vcc/v\n",
      "r2=r1*v/(vcc-v)\n",
      "\n",
      "#Result\n",
      "print(\"Re = %.0f K-Ohm\"%(re/1000))\n",
      "print(\"Rb = %.1f K-Ohm\"%(rb/1000))\n",
      "print(\"V  = %.2fV\"%v)\n",
      "print(\"R1 = %.1f K-Ohm\\nR2 = %.1f k-Ohm\"%(r1/1000,r2/100))"
     ],
     "language": "python",
     "metadata": {},
     "outputs": [
      {
       "output_type": "stream",
       "stream": "stdout",
       "text": [
        "Re = 1 K-Ohm\n",
        "Rb = 21.7 K-Ohm\n",
        "V  = 3.86V\n",
        "R1 = 112.2 K-Ohm\n",
        "R2 = 268.3 k-Ohm\n"
       ]
      }
     ],
     "prompt_number": 52
    },
    {
     "cell_type": "heading",
     "level": 2,
     "metadata": {},
     "source": [
      "Example 5.11 page no-296"
     ]
    },
    {
     "cell_type": "code",
     "collapsed": false,
     "input": [
      "# Q point and stability for self bias arrangement\n",
      "\n",
      "import math\n",
      "#Variable declaration\n",
      "vcc=4.5         # V\n",
      "r2 =2700.0      # Ohm\n",
      "re=270.0        # Ohm\n",
      "r1=27000.0      # ohm\n",
      "b=44.0          # Beta\n",
      "vbe=0.6\n",
      "\n",
      "#Calculations\n",
      "rb=r1*r2/(r1+r2)\n",
      "v2=vcc*r2/(r1+r2)\n",
      "#(a)\n",
      "s=(1+b)/(1+(b*re/(re+rb)))\n",
      "#(b)\n",
      "ib=-(v2-vbe)/((b+1)*re+rb)\n",
      "ic=b*ib\n",
      "k=(b*2035+re+b*re)\n",
      "vce=vcc-k/10**5\n",
      "#(c)\n",
      "s1=(1+b)/(1+(b*re)/(re+3150))\n",
      "ib1=-0.19/((re*(1+b))+3.15)\n",
      "vce2 =vcc-0.938\n",
      "\n",
      "\n",
      "#Result\n",
      "print(\"Rb = %.2f K-Ohm\\nV2 = %.2fV\"%(rb/1000,v2))\n",
      "print(\"\\n(a)\\nS = %.1f\"%s)\n",
      "print(\"\\n(b)Quiescent Point\\nIb = %.3f mA\\nIc = %.3f mA\\nVce = %.3f V\"%(ib*1000,ic*1000,vce))\n",
      "print(\"\\n(c)\\nS=%.2f\\nQ-Point:\\nVce = %.3f V\\nIb = %.3f mA\\nIc = %.3f mA\"%(s1,vce2,-ib1*1000,0.528))"
     ],
     "language": "python",
     "metadata": {},
     "outputs": [
      {
       "output_type": "stream",
       "stream": "stdout",
       "text": [
        "Rb = 2.45 K-Ohm\n",
        "V2 = 0.41V\n",
        "\n",
        "(a)\n",
        "S = 8.4\n",
        "\n",
        "(b)Quiescent Point\n",
        "Ib = 0.013 mA\n",
        "Ic = 0.575 mA\n",
        "Vce = 3.483 V\n",
        "\n",
        "(c)\n",
        "S=10.06\n",
        "Q-Point:\n",
        "Vce = 3.562 V\n",
        "Ib = 0.016 mA\n",
        "Ic = 0.528 mA\n"
       ]
      }
     ],
     "prompt_number": 54
    },
    {
     "cell_type": "heading",
     "level": 2,
     "metadata": {},
     "source": [
      "Example 5.12 page no-297"
     ]
    },
    {
     "cell_type": "code",
     "collapsed": false,
     "input": [
      "# Stability factor and thermal resistance\n",
      "\n",
      "import math\n",
      "#Variable declaration\n",
      "vcc=24.0     # v\n",
      "re=270.0     # Ohm\n",
      "rc=10000.0   # Ohm\n",
      "vce =5.0     # V\n",
      "vbe=0.6      # v\n",
      "b=45.0       # beta\n",
      "tj=150.0\n",
      "ta=25.0\n",
      "pd=125.0\n",
      "\n",
      "#Calculations\n",
      "ic=(vcc-vce)/(rc+(1+b)*re/b)\n",
      "ib=ic/b\n",
      "#(a)\n",
      "r=(vce-vbe)/ib\n",
      "#(b)\n",
      "s=(1+b)/(1+(b*rc/(rc+r)))\n",
      "#(c)\n",
      "t=(tj-ta)/pd\n",
      "\n",
      "#Result\n",
      "print(\"Ic = %.3f mA\\nIb = %.2f micro A\"%(ic*1000,ib*10**6))\n",
      "print(\"\\n(a)In collector base circuit\\n\\tR = %.2f K-Ohm\"%(r/1000))\n",
      "print(\"\\n(b)Stability Factor,\\n\\tS = %.3f\"%s)\n",
      "print(\"\\n(c)\\nThermal Resistance = %.0f\u00b0C/W\"%(t*1000))"
     ],
     "language": "python",
     "metadata": {},
     "outputs": [
      {
       "output_type": "stream",
       "stream": "stdout",
       "text": [
        "Ic = 1.849 mA\n",
        "Ib = 41.09 micro A\n",
        "\n",
        "(a)In collector base circuit\n",
        "\tR = 107.09 K-Ohm\n",
        "\n",
        "(b)Stability Factor,\n",
        "\tS = 9.498\n",
        "\n",
        "(c)\n",
        "Thermal Resistance = 1000\u00b0C/W\n"
       ]
      }
     ],
     "prompt_number": 37
    },
    {
     "cell_type": "heading",
     "level": 2,
     "metadata": {},
     "source": [
      "Example 5.13 page no-307"
     ]
    },
    {
     "cell_type": "code",
     "collapsed": false,
     "input": [
      "# DC input resistance of a JFET\n",
      "\n",
      "import math\n",
      "#Variable declaration\n",
      "\n",
      "v=20.0          # v\n",
      "igss=5*10**-12  # A\n",
      "\n",
      "#Calculations\n",
      "rgs= v/igss\n",
      "\n",
      "#Result\n",
      "print(\"Input Resistance, Rgs = %.0f * 10^12 Ohm\"%(rgs/10**12))"
     ],
     "language": "python",
     "metadata": {},
     "outputs": [
      {
       "output_type": "stream",
       "stream": "stdout",
       "text": [
        "Input Resistance, Rgs = 4 * 10^12 Ohm\n"
       ]
      }
     ],
     "prompt_number": 35
    },
    {
     "cell_type": "heading",
     "level": 2,
     "metadata": {},
     "source": [
      "Example 5.14 page no-308"
     ]
    },
    {
     "cell_type": "code",
     "collapsed": false,
     "input": [
      "# V0 for a JFET amplifier\n",
      "\n",
      "import math\n",
      "#Variable declaration\n",
      "\n",
      "gm=2500.0    # micro mho\n",
      "vm=5.0       # mV\n",
      "rs=7500.0    # ohm\n",
      "\n",
      "#Calculations\n",
      "x=1/(gm*10**-6)\n",
      "opr = 0.949*vm\n",
      "z0=rs*x/(rs+x)\n",
      "V0=3000*opr/3380\n",
      "\n",
      "#Result\n",
      "print(\"Open circuited output voltage, that is without considering RL\")\n",
      "print(\"\\tV0 = %.2f mV\\nOutput impedance, \\n\\tZ0 = %.0f Ohm\"%(opr,math.ceil(z0)))\n",
      "print(\"AC voltage across the load resistor is\\n\\tV0 = %.2f mV\"%V0)\n"
     ],
     "language": "python",
     "metadata": {},
     "outputs": [
      {
       "output_type": "stream",
       "stream": "stdout",
       "text": [
        "Open circuited output voltage, that is without considering RL\n",
        "\tV0 = 4.75 mV\n",
        "Output impedance, \n",
        "\tZ0 = 380 Ohm\n",
        "AC voltage across the load resistor is\n",
        "\tV0 = 4.21 mV\n"
       ]
      }
     ],
     "prompt_number": 36
    }
   ],
   "metadata": {}
  }
 ]
}