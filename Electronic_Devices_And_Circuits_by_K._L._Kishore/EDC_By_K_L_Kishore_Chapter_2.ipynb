{
 "metadata": {
  "name": ""
 },
 "nbformat": 3,
 "nbformat_minor": 0,
 "worksheets": [
  {
   "cells": [
    {
     "cell_type": "heading",
     "level": 1,
     "metadata": {},
     "source": [
      "Chapter 2 : Junction Diode Characteristics"
     ]
    },
    {
     "cell_type": "heading",
     "level": 2,
     "metadata": {},
     "source": [
      "Example 2.1 page no-45"
     ]
    },
    {
     "cell_type": "code",
     "collapsed": false,
     "input": [
      "# radius of the lowest state of Ground State\n",
      "\n",
      "import math\n",
      "#Variable declaration\n",
      "n=1\n",
      "h=6.626*10**-34 # planc's constantJ-sec\n",
      "eps=10**-9/(36*math.pi)\n",
      "m=9.1*10**-31      # electron mass in kg\n",
      "e=1.6*10**-19      #Electron charge\n",
      "\n",
      "#Calculations\n",
      "r=n**2*h**2*eps/(math.pi*m*e**2)\n",
      "\n",
      "#Result\n",
      "print(\"\\nradius of the lowest state of Ground State, r=%.2f A\u00b0\"%(r*10**10))"
     ],
     "language": "python",
     "metadata": {},
     "outputs": [
      {
       "output_type": "stream",
       "stream": "stdout",
       "text": [
        "\n",
        "radius of the lowest state of Ground State, r=0.53 A\u00b0\n"
       ]
      }
     ],
     "prompt_number": 1
    },
    {
     "cell_type": "heading",
     "level": 2,
     "metadata": {},
     "source": [
      "Example 2.2 page no-46"
     ]
    },
    {
     "cell_type": "code",
     "collapsed": false,
     "input": [
      "# no of photons emitted per second by lamp\n",
      "\n",
      "import math\n",
      "#Variable declaration\n",
      "l =2537.0         # wavelength in A\u00b0\n",
      "E_diff=12400.0/l\n",
      "e=1.6*10**-19\n",
      "energy=50.0/1000  # J/sec\n",
      "\n",
      "#Calculations\n",
      "e_j=energy/e      # eV/sec\n",
      "n=e_j/E_diff\n",
      "\n",
      "#Result\n",
      "print(\"The lamp emits %.1f * 10^16 photons/sec of wavelength, lambda=%dA\u00b0\"%(n/10**16,l))"
     ],
     "language": "python",
     "metadata": {},
     "outputs": [
      {
       "output_type": "stream",
       "stream": "stdout",
       "text": [
        "The lamp emits 6.4 * 10^16 photons/sec of wavelength, lambda=2537A\u00b0\n"
       ]
      }
     ],
     "prompt_number": 4
    },
    {
     "cell_type": "heading",
     "level": 2,
     "metadata": {},
     "source": [
      "Example 2.3 page no-47"
     ]
    },
    {
     "cell_type": "code",
     "collapsed": false,
     "input": [
      "# Speed of ejected electron\n",
      "\n",
      "import math\n",
      "#Variable declaration\n",
      "e_ar=11.6     # eV\n",
      "e_Na=5.12     # eV\n",
      "e=1.6*10**-19 # C\n",
      "m=9.1*10**-31 # kg\n",
      "\n",
      "#Calculations\n",
      "V=e_ar-e_Na\n",
      "v=math.sqrt(2*e*V/m)\n",
      "\n",
      "#Result\n",
      "print(\"Velocity, v = %.2f * 10^6 m/sec\"%(v/10**6))"
     ],
     "language": "python",
     "metadata": {},
     "outputs": [
      {
       "output_type": "stream",
       "stream": "stdout",
       "text": [
        "Velocity, v = 1.51 * 10^6 m/sec\n"
       ]
      }
     ],
     "prompt_number": 6
    },
    {
     "cell_type": "heading",
     "level": 2,
     "metadata": {},
     "source": [
      " Example 2.4 page no-48"
     ]
    },
    {
     "cell_type": "code",
     "collapsed": false,
     "input": [
      "# speed of electron in sodium vapour lamp\n",
      "\n",
      "import math\n",
      "#Variable declaration\n",
      "l=5893.0      # A\u00b0\n",
      "V=2.11        # Volts\n",
      "e=1.6*10**-19 #C\n",
      "m=9.1*10**-31 #kg\n",
      "\n",
      "#Calcualations\n",
      "v=math.sqrt(2*e*V/m)\n",
      "\n",
      "#Result\n",
      "print(\"Velocity, v = %.2f * 10^5 m/sec\"%(v/10**5))"
     ],
     "language": "python",
     "metadata": {},
     "outputs": [
      {
       "output_type": "stream",
       "stream": "stdout",
       "text": [
        "Velocity, v = 8.61 * 10^5 m/sec\n"
       ]
      }
     ],
     "prompt_number": 7
    },
    {
     "cell_type": "heading",
     "level": 2,
     "metadata": {},
     "source": [
      "Example 2.5 page no-48"
     ]
    },
    {
     "cell_type": "code",
     "collapsed": false,
     "input": [
      "# radio transmitter\n",
      "\n",
      "import math\n",
      "#Variable declaration\n",
      "f=10*10**6         # Hz\n",
      "h=6.626*10**-34    # Joules/sec\n",
      "e=1.6*10**-19      # C\n",
      "#(a)\n",
      "E=h*f/e\n",
      "print(\"\\n(a)Energy of each radiated quantum,\\n\\tE = %.3f*10^-27 Joules/Quantum\\n\\tE = %.2f*10^-8 eV/Quantum\"%(h*f*10**27,E*10**8))\n",
      " \n",
      "# (b)\n",
      "E=1000.0           # Joule/sec\n",
      "N=E/(h*f)\n",
      "print(\"\\n\\n(b)\\nTotal number of quanta per sec, N=%.2f*10^29\"%(N/10**29))\n",
      "\n",
      "#(c)\n",
      "o=10**-7\n",
      "print(\"\\n\\n(c)\\nNumber of quanta emitted per cycle = %.2f*10^22 per cycle\"%(o*N/10**22))"
     ],
     "language": "python",
     "metadata": {},
     "outputs": [
      {
       "output_type": "stream",
       "stream": "stdout",
       "text": [
        "\n",
        "(a)Energy of each radiated quantum,\n",
        "\tE = 6.626*10^-27 Joules/Quantum\n",
        "\tE = 4.14*10^-8 eV/Quantum\n",
        "\n",
        "\n",
        "(b)\n",
        "Total number of quanta per sec, N=1.51*10^29\n",
        "\n",
        "\n",
        "(c)\n",
        "Number of quanta emitted per cycle = 1.51*10^22 per cycle\n"
       ]
      }
     ],
     "prompt_number": 9
    },
    {
     "cell_type": "heading",
     "level": 2,
     "metadata": {},
     "source": [
      "Example 2.6 page no-48"
     ]
    },
    {
     "cell_type": "code",
     "collapsed": false,
     "input": [
      "# Neon Ionization\n",
      "\n",
      "import math\n",
      "#Variable declaration\n",
      "V=21.5           # Volts\n",
      "e=1.6*10**-19    # C\n",
      "m=9.1*10**-31    # kg\n",
      "l=12400.0/V      # A\u00b0\n",
      "c=3*10**8        #m/sec\n",
      "\n",
      "#calculations and Result\n",
      "#(a)\n",
      "v=math.sqrt(2*e*V/m)\n",
      "print(\"(a)\\nVelocity, v = %.2f*10^6 m/sec\\nWavelength of Radiation, Lambda = %.1f\"%(v/10**6,math.ceil(l)))\n",
      "# (b)\n",
      "f=c/(l*10**-10)\n",
      "print(\"\\n(b)\\nFrequency of Radiation, f = %.1f * 10^15 Hz\"%(f/10**15))"
     ],
     "language": "python",
     "metadata": {},
     "outputs": [
      {
       "output_type": "stream",
       "stream": "stdout",
       "text": [
        "(a)\n",
        "Velocity, v = 2.75*10^6 m/sec\n",
        "Wavelength of Radiation, Lambda = 577.0\n",
        "\n",
        "(b)\n",
        "Frequency of Radiation, f = 5.2 * 10^15 Hz\n"
       ]
      }
     ],
     "prompt_number": 16
    },
    {
     "cell_type": "heading",
     "level": 2,
     "metadata": {},
     "source": [
      "Example 2.8 page no-49"
     ]
    },
    {
     "cell_type": "code",
     "collapsed": false,
     "input": [
      "# wavelength of photon\n",
      "\n",
      "import math\n",
      "#Variable declaration\n",
      "L=1400.0\n",
      "del_E=2.15\n",
      "\n",
      "#Calculations\n",
      "E_diff=12400.0/L    # eV\n",
      "L2=12400.0/del_E\n",
      "\n",
      "#Result\n",
      "print(\"E2-E1 = %.2f eV\\n1850 A\u00b0 line is from 6.71 eV to 0 eV\"%(E_diff))\n",
      "print(\"Therefore, second photon must be from %.2f to 6.71 eV.\\nLambda=%d A\u00b0.\"%(E_diff,L2))"
     ],
     "language": "python",
     "metadata": {},
     "outputs": [
      {
       "output_type": "stream",
       "stream": "stdout",
       "text": [
        "E2-E1 = 8.86 eV\n",
        "1850 A\u00b0 line is from 6.71 eV to 0 eV\n",
        "Therefore, second photon must be from 8.86 to 6.71 eV.\n",
        "Lambda=5767 A\u00b0.\n"
       ]
      }
     ],
     "prompt_number": 19
    },
    {
     "cell_type": "heading",
     "level": 2,
     "metadata": {},
     "source": [
      "Example 2.9 page no-58"
     ]
    },
    {
     "cell_type": "code",
     "collapsed": false,
     "input": [
      "# High field emission\n",
      "\n",
      "import math\n",
      "#Variable declaration\n",
      "A=60.2*10**4   # A/m^2/\u00b0K^2\n",
      "B=52400.0      # \u00b0K\n",
      "T1=2400.0      # \u00b0K\n",
      "T2=2410.0      # \u00b0K\n",
      "\n",
      "#calcualtions\n",
      "js1=A*T1**2*(math.e**(-B/T1))\n",
      "js2=A*T2**2*(math.e**(-B/T2))\n",
      "js1=math.floor(js1)\n",
      "js2=math.floor(js2)\n",
      "p=(js2-js1)*100/js1\n",
      "\n",
      "\n",
      "#Result\n",
      "print(\"JS1 = %d A/m^2\\nJS2 = %d A/m^2\"%(js1,js2))\n",
      "print(\"\\nPercentage Increase = %.2f%%\"%p)"
     ],
     "language": "python",
     "metadata": {},
     "outputs": [
      {
       "output_type": "stream",
       "stream": "stdout",
       "text": [
        "JS1 = 1142 A/m^2\n",
        "JS2 = 1261 A/m^2\n",
        "\n",
        "Percentage Increase = 10.42%\n"
       ]
      }
     ],
     "prompt_number": 23
    },
    {
     "cell_type": "heading",
     "level": 2,
     "metadata": {},
     "source": [
      "Example 2.10 page no-58"
     ]
    },
    {
     "cell_type": "code",
     "collapsed": false,
     "input": [
      "# Work function and wavelength\n",
      "\n",
      "import math\n",
      "#Variable declaration\n",
      "h=6.63*10**-34      # Plank's Constant,  J sec.\n",
      "e=1.6*10**-19       # Charge of Electron, C\n",
      "c=3*10**8           # Velocity of Light, m/sec\n",
      "v=0.55              # volts\n",
      "l=5500.0*10**-10    # m\n",
      "\n",
      "#Calculations and Results\n",
      "#(a)\n",
      "fi=(h*c)/(l*e)\n",
      "fi=fi-v\n",
      "print(\"(a)\\nWork Function(WF), fi = %.2f Volts\"%fi)\n",
      "#(b)\n",
      "l0=12400.0/fi\n",
      "print(\"\\n\\n(b)\\nThreshold Wavelength = %d A\u00b0\"%l0)"
     ],
     "language": "python",
     "metadata": {},
     "outputs": [
      {
       "output_type": "stream",
       "stream": "stdout",
       "text": [
        "(a)\n",
        "Work Function(WF), fi = 1.71 Volts\n",
        "\n",
        "\n",
        "(b)\n",
        "Threshold Wavelength = 7250 A\u00b0\n"
       ]
      }
     ],
     "prompt_number": 3
    },
    {
     "cell_type": "heading",
     "level": 2,
     "metadata": {},
     "source": [
      "Example 2.11 page no-59"
     ]
    },
    {
     "cell_type": "code",
     "collapsed": false,
     "input": [
      "# effect of temperature on emission\n",
      "\n",
      "import math\n",
      "#Variable declaration\n",
      "dT=20.0\n",
      "T=2310.0    # \u00b0K\n",
      "Ew=4.52\n",
      "k=8.62*10**-5\n",
      "\n",
      "#Calculations\n",
      "x=(Ew/(k*T))\n",
      "x=(2+x)*dT/T\n",
      "\n",
      "#Result\n",
      "print(\"(a)\\ndIth/Ith = %.1f%%\\n\\n(b)\\nThis is solved by Trial and Error Method to get T = 2370\u00b0K\"%(x*100))"
     ],
     "language": "python",
     "metadata": {},
     "outputs": [
      {
       "output_type": "stream",
       "stream": "stdout",
       "text": [
        "(a)\n",
        "dIth/Ith = 21.4%\n",
        "\n",
        "(b)\n",
        "This is solved by Trial and Error Method to get T = 2370\u00b0K\n"
       ]
      }
     ],
     "prompt_number": 5
    },
    {
     "cell_type": "heading",
     "level": 2,
     "metadata": {},
     "source": [
      "Example 2.12 page no-60"
     ]
    },
    {
     "cell_type": "code",
     "collapsed": false,
     "input": [
      "# RF voltage frequency in cyclotron\n",
      "\n",
      "import math\n",
      "#Variable declaration\n",
      "B=1.0         # Tesla\n",
      "T=35.5*10**-6 # sec\n",
      "k=2*10**6\n",
      "g=40000.0\n",
      "\n",
      "#Calculations\n",
      "f=1/T\n",
      "v=49*g\n",
      "R=(3.37*10**-6)*math.sqrt(v)\n",
      "\n",
      "#Result\n",
      "print(\"(a)\\nThe frequency of the R.F voltage, f = %.2f*10^4 Hz\"%(f/10**4))\n",
      "print(\"\\n\\n(b)Number of passages required to gain 2*10^6 eV are ,N = %d\"%(k/g))\n",
      "print(\"\\n\\n(c)\\nDiameter of last semicircle, D = 2R = %.2f *10^-4 m\"%(2*R*10000))"
     ],
     "language": "python",
     "metadata": {},
     "outputs": [
      {
       "output_type": "stream",
       "stream": "stdout",
       "text": [
        "(a)\n",
        "The frequency of the R.F voltage, f = 2.82*10^4 Hz\n",
        "\n",
        "\n",
        "(b)Number of passages required to gain 2*10^6 eV are ,N = 50\n",
        "\n",
        "\n",
        "(c)\n",
        "Diameter of last semicircle, D = 2R = 94.36 *10^-4 m\n"
       ]
      }
     ],
     "prompt_number": 8
    },
    {
     "cell_type": "heading",
     "level": 2,
     "metadata": {},
     "source": [
      "Example 2.13 page no-60"
     ]
    },
    {
     "cell_type": "code",
     "collapsed": false,
     "input": [
      "# Emission current and cathode efficiency\n",
      "\n",
      "import math\n",
      "#Variable declaration\n",
      "Ew=1.0           # eV\n",
      "A0=100.0         # A/m2 I \u00b0K2\n",
      "S=1.8*10**-4     # cm2\n",
      "K =8.62*10**-5   # eV/oK\n",
      "T=1100.0\n",
      "pd=5.8*10**4     # W/m^2\n",
      "\n",
      "#Calculations\n",
      "ipd=1.1*pd\n",
      "tip=S*ipd\n",
      "Ith=S*A0*T**2*math.e**(-Ew/(K*T))\n",
      "\n",
      "#Result\n",
      "print(\"Ith = %.3f A\\nCathode Efficiency, eta = %.0f mA/\u00b0K\"%(Ith,math.ceil(Ith*1000/11.5)))"
     ],
     "language": "python",
     "metadata": {},
     "outputs": [
      {
       "output_type": "stream",
       "stream": "stdout",
       "text": [
        "Ith = 0.573 A\n",
        "Cathode Efficiency, eta = 50 mA/\u00b0K\n"
       ]
      }
     ],
     "prompt_number": 14
    },
    {
     "cell_type": "heading",
     "level": 2,
     "metadata": {},
     "source": [
      "Example 2.14 page no-71"
     ]
    },
    {
     "cell_type": "code",
     "collapsed": false,
     "input": [
      "# resistivity of doped material\n",
      "\n",
      "import math\n",
      "#Variable declaration\n",
      "n=4.4*10**22             # cm^3\n",
      "mu=3600.0                # cm62/volt-sec\n",
      "e=1.6*10**-19            # C\n",
      "\n",
      "#Calculations\n",
      "sigma=n*mu*e*10**-6\n",
      "\n",
      "#Result\n",
      "print(\"Resistivity, rho = %.3f Ohm-cm\"%(1/sigma))"
     ],
     "language": "python",
     "metadata": {},
     "outputs": [
      {
       "output_type": "stream",
       "stream": "stdout",
       "text": [
        "Resistivity, rho = 0.039 Ohm-cm\n"
       ]
      }
     ],
     "prompt_number": 16
    },
    {
     "cell_type": "heading",
     "level": 2,
     "metadata": {},
     "source": [
      "Example 2.15 page no-71"
     ]
    },
    {
     "cell_type": "code",
     "collapsed": false,
     "input": [
      "# conductivity and resistivity of pure silicon\n",
      "\n",
      "import math\n",
      "#Variable declaration\n",
      "mup=500.0\n",
      "mun=1500.0\n",
      "n=1.6*10**10\n",
      "e=1.6*10**-19 \n",
      "\n",
      "#Calculations\n",
      "sigma=(mun+mup)*e*n\n",
      "\n",
      "#Result\n",
      "print(\"Conductivity, sigma = %.2f *10^-6\\nResistivity, rho = %d Ohm-cm\"%(sigma*10**6,1/sigma))"
     ],
     "language": "python",
     "metadata": {},
     "outputs": [
      {
       "output_type": "stream",
       "stream": "stdout",
       "text": [
        "Conductivity, sigma = 5.12 *10^-6\n",
        "Resistivity, rho = 195312 Ohm-cm\n"
       ]
      }
     ],
     "prompt_number": 19
    },
    {
     "cell_type": "heading",
     "level": 2,
     "metadata": {},
     "source": [
      "Example 2.16 page no-71"
     ]
    },
    {
     "cell_type": "code",
     "collapsed": false,
     "input": [
      "# concentration of free electrons and holes\n",
      "\n",
      "import math\n",
      "#Variable declaration\n",
      "A = 9.64*10**14\n",
      "EG = 0.25              # eV\n",
      "n1 = 6.25*10**26       # cm^3\n",
      "na=3*10**14\n",
      "nd=2*10**14\n",
      "n=-(10**14)+(math.sqrt(10**28+4*6.25*10**26))\n",
      "n=n/2.0\n",
      "\n",
      "\n",
      "#Result\n",
      "print(\"n = %.1f * 10^12 electrons/cm^3\\np = %.2f * 10^14 holes/cm^3\"%(n/10**12,(n+10**14)/10**14))\n",
      "print(\"As p> n, this is p-type semiconductor.\")"
     ],
     "language": "python",
     "metadata": {},
     "outputs": [
      {
       "output_type": "stream",
       "stream": "stdout",
       "text": [
        "n = 5.9 * 10^12 electrons/cm^3\n",
        "p = 1.06 * 10^14 holes/cm^3\n",
        "As p> n, this is p-type semiconductor.\n"
       ]
      }
     ],
     "prompt_number": 20
    },
    {
     "cell_type": "heading",
     "level": 2,
     "metadata": {},
     "source": [
      "Example 2.17 page no-72"
     ]
    },
    {
     "cell_type": "code",
     "collapsed": false,
     "input": [
      "# concentration of free electrons and holes\n",
      "\n",
      "import math\n",
      "#Variable declaration\n",
      "sigma=100.0      # Ohm-cm\n",
      "e=1.6*10**-19    # c\n",
      "mup=1800.0       # cm^2/V-sec\n",
      "ni=2.5*10**13    # /cm^3\n",
      "\n",
      "#Result\n",
      "pp=sigma/(e*mup)\n",
      "n=ni**2/pp\n",
      "\n",
      "#Result\n",
      "print(\"In p-type semiconductor, p>>n.\")\n",
      "print(\"\\nPp = %.2f * 10^17 holes/cm^3\\nn  = %.1f * 10^9 electrons/cm^3\"%(pp/10**17,n/10**9))"
     ],
     "language": "python",
     "metadata": {},
     "outputs": [
      {
       "output_type": "stream",
       "stream": "stdout",
       "text": [
        "In p-type semiconductor, p>>n.\n",
        "\n",
        "Pp = 3.47 * 10^17 holes/cm^3\n",
        "n  = 1.8 * 10^9 electrons/cm^3\n"
       ]
      }
     ],
     "prompt_number": 23
    },
    {
     "cell_type": "heading",
     "level": 2,
     "metadata": {},
     "source": [
      "Example 2.18 page no-72"
     ]
    },
    {
     "cell_type": "code",
     "collapsed": false,
     "input": [
      "# concentration of free electrons and holes in p type Ge and n type Si\n",
      "\n",
      "import math\n",
      "#Variable declaration\n",
      "# (a)\n",
      "sigma=100.0      # Ohm-cm\n",
      "e=1.6*10**-19    # c\n",
      "mup=1800.0       # cm^2/V-sec\n",
      "ni=2.5*10**13    # /cm^3\n",
      "#(b)\n",
      "mun=1300.0\n",
      "sig=0.1\n",
      "n1=1.5*10**10\n",
      "\n",
      "#Calculations\n",
      "pp=sigma/(e*mup)\n",
      "n=ni**2/pp\n",
      "n2=sig/(mun*e)\n",
      "p1=(n1**2)/n2\n",
      "\n",
      "#Result\n",
      "print(\"(a)\\nAs it is p-type semiconductor, p>>n.\")\n",
      "print(\"\\nPp = %.2f*10^17 holes/cm^3\\nn = %.1f*10^9 electrons/cm^3\"%(pp/10**17,n/10**9))\n",
      "print(\"\\n\\n(b)\\nn = %.2f*10^14 elecrons/cm^3\\np = %.2f*10^5 holes/cm^3\"%(n2/10**14,p1/10**5))"
     ],
     "language": "python",
     "metadata": {},
     "outputs": [
      {
       "output_type": "stream",
       "stream": "stdout",
       "text": [
        "(a)\n",
        "As it is p-type semiconductor, p>>n.\n",
        "\n",
        "Pp = 3.47*10^17 holes/cm^3\n",
        "n = 1.8*10^9 electrons/cm^3\n",
        "\n",
        "\n",
        "(b)\n",
        "n = 4.81*10^14 elecrons/cm^3\n",
        "p = 4.68*10^5 holes/cm^3\n"
       ]
      }
     ],
     "prompt_number": 25
    },
    {
     "cell_type": "heading",
     "level": 2,
     "metadata": {},
     "source": [
      "Example 2.19 page no-73"
     ]
    },
    {
     "cell_type": "code",
     "collapsed": false,
     "input": [
      "# conduction current density\n",
      "\n",
      "import math\n",
      "#Variable declaration\n",
      "sig=1.0/60        # v/cm\n",
      "mup=1800.0        # cm^2/V-sec\n",
      "mun=3800.0        # cm^2/V-sec\n",
      "e=1.6*10**-19     # C\n",
      "na=7*10**13       # cm^3\n",
      "nd=10**14         # /cm^3\n",
      "p=0.88*10**13\n",
      "n=3.88*10**13\n",
      "eps=2.0\n",
      "\n",
      "#Calculations\n",
      "ni=sig/(e*(mun+mup))\n",
      "k=na-nd           # p-n\n",
      "J=(n*mun+p*mup)*(e*eps)\n",
      "\n",
      "#Result\n",
      "print(\"J = %.1f mA/cm^3\"%(J*1000))"
     ],
     "language": "python",
     "metadata": {},
     "outputs": [
      {
       "output_type": "stream",
       "stream": "stdout",
       "text": [
        "J = 52.2 mA/cm^3\n"
       ]
      }
     ],
     "prompt_number": 28
    },
    {
     "cell_type": "heading",
     "level": 2,
     "metadata": {},
     "source": [
      "Example 2.20 page no-74"
     ]
    },
    {
     "cell_type": "code",
     "collapsed": false,
     "input": [
      "# concentration of free electrons and holes in Ge\n",
      "\n",
      "import math\n",
      "#Variable declaration\n",
      "na=3*10**14   # /cm^3\n",
      "nd= 2*10**14  # /cm^3\n",
      "ni= 2.5*10**13# /cm^3\n",
      "\n",
      "#Calculations\n",
      "k=na-nd\n",
      "n=(-k+math.sqrt(k**2+4*ni**2))/2\n",
      "\n",
      "#Result\n",
      "print(\"n = %.1f * 10^18 electrons/m^3\\np = %.2f * 10^19 holes/m^3\"%(n/10**12,ni**2/n*10**-13))\n",
      "print(\"as p > n, it is p-type semiconductor.\")"
     ],
     "language": "python",
     "metadata": {},
     "outputs": [
      {
       "output_type": "stream",
       "stream": "stdout",
       "text": [
        "n = 5.9 * 10^18 electrons/m^3\n",
        "p = 10.59 * 10^19 holes/m^3\n",
        "as p > n, it is p-type semiconductor.\n"
       ]
      }
     ],
     "prompt_number": 30
    },
    {
     "cell_type": "heading",
     "level": 2,
     "metadata": {},
     "source": [
      "Example 2.21 page no-75"
     ]
    },
    {
     "cell_type": "code",
     "collapsed": false,
     "input": [
      "# intrinic concentration and conductivity of Germanium\n",
      "\n",
      "import math\n",
      "#Variable declaration\n",
      "A=9.64*10**21\n",
      "T=320.0\n",
      "e=1.6*10**-19\n",
      "Eg=0.75\n",
      "k=1.37*10**-23\n",
      "mup=0.36\n",
      "mun=0.17\n",
      "\n",
      "#Calculations\n",
      "ni=A*T**(3.0/2)*math.e**(-(e*Eg)/(2*k*T))\n",
      "sig=e*ni*(mup+mun)\n",
      "\n",
      "\n",
      "#Result\n",
      "print(\"ni = %.2f *10^19 electrons(holes)/m^3\"%(ni/10**19))\n",
      "print(\"\\nConductivity, Sigma = %.3f Mho/m\"%sig)"
     ],
     "language": "python",
     "metadata": {},
     "outputs": [
      {
       "output_type": "stream",
       "stream": "stdout",
       "text": [
        "ni = 6.28 *10^19 electrons(holes)/m^3\n",
        "\n",
        "Conductivity, Sigma = 5.326 Mho/m\n"
       ]
      }
     ],
     "prompt_number": 31
    },
    {
     "cell_type": "heading",
     "level": 2,
     "metadata": {},
     "source": [
      "Example 2.22 page no-75"
     ]
    },
    {
     "cell_type": "code",
     "collapsed": false,
     "input": [
      "# resistivity of intrinsic Germanium at room temperature\n",
      "\n",
      "import math\n",
      "#Variable declaration\n",
      "e=1.6*10**-19     # C\n",
      "ni=2.5*10**19\n",
      "mun=0.36          # m^2/V-sec\n",
      "mup=0.17          # m^2/V-sec\n",
      "\n",
      "\n",
      "#Calculations\n",
      "sig=e*ni*(mup+mun)\n",
      "rho=1/sig\n",
      "\n",
      "#Result\n",
      "print(\"Resistivity, rho = %.2f Ohm-m\"%rho)"
     ],
     "language": "python",
     "metadata": {},
     "outputs": [
      {
       "output_type": "stream",
       "stream": "stdout",
       "text": [
        "Resistivity, rho = 0.47 Ohm-m\n"
       ]
      }
     ],
     "prompt_number": 33
    },
    {
     "cell_type": "heading",
     "level": 2,
     "metadata": {},
     "source": [
      "Example 2.23 page no-80"
     ]
    },
    {
     "cell_type": "code",
     "collapsed": false,
     "input": [
      "# Fermi level of p type Ge\n",
      "\n",
      "import math\n",
      "#Variable declaration\n",
      "mup=0.4\n",
      "T=300.0\n",
      "Nv=4.82*10**15\n",
      "\n",
      "#Calculations\n",
      "Na=Nv*mup**(3.0/2)*T**(3.0/2)\n",
      "\n",
      "#Result\n",
      "print(\"Doping concentration, NA = %.2f*10^18 atoms/cm^3\"%(Na/10**18))"
     ],
     "language": "python",
     "metadata": {},
     "outputs": [
      {
       "output_type": "stream",
       "stream": "stdout",
       "text": [
        "Doping concentration, NA = 6.34*10^18 atoms/cm^3\n"
       ]
      }
     ],
     "prompt_number": 36
    },
    {
     "cell_type": "heading",
     "level": 2,
     "metadata": {},
     "source": [
      "Example 2.24 page no-80"
     ]
    },
    {
     "cell_type": "code",
     "collapsed": false,
     "input": [
      "# Distance of Fermi level from centre of forbidden bond\n",
      "\n",
      "import math\n",
      "#Variable declaration\n",
      "Vt=0.026\n",
      "\n",
      "#Calculations\n",
      "Nv=(3.0/4)*Vt*math.log(2)\n",
      "\n",
      "#Result\n",
      "print(\"For Intrinsic Semiconductor,EF will be at the centre of the forbidden band.\")\n",
      "print(\"But if mp and mn are unequal,EF will be away\")\n",
      "print(\"from the centre of the forbidden band by\\n\\nNv = %.1f * 10^-3 eV\"%(Nv*10**3))"
     ],
     "language": "python",
     "metadata": {},
     "outputs": [
      {
       "output_type": "stream",
       "stream": "stdout",
       "text": [
        "For Intrinsic Semiconductor,EF will be at the centre of the forbidden band.\n",
        "But if mp and mn are unequal,EF will be away\n",
        "from the centre of the forbidden band by\n",
        "\n",
        "Nv = 13.5 * 10^-3 eV\n"
       ]
      }
     ],
     "prompt_number": 38
    },
    {
     "cell_type": "heading",
     "level": 2,
     "metadata": {},
     "source": [
      "Example 2.25 page no-83"
     ]
    },
    {
     "cell_type": "code",
     "collapsed": false,
     "input": [
      "# Temperature for which conduction band and fermi level coincides\n",
      "\n",
      "import math\n",
      "#Variable declaration\n",
      "si=5*10**22    # atom/cm^3\n",
      "d=2*10**8 \n",
      "Nd=si/d\n",
      "m=9.1*10**-31  # kg\n",
      "k=1.38*10**-23\n",
      "h=6.626*10**-34\n",
      "\n",
      "#Calculations\n",
      "Nc=2*(2*math.pi*m*k/h**2)**(3.0/2)\n",
      "T=(Nd/Nc)**(2.0/3)\n",
      "\n",
      "#Result\n",
      "print(\"T = %.2f\u00b0K\"%(T*10**4))"
     ],
     "language": "python",
     "metadata": {},
     "outputs": [
      {
       "output_type": "stream",
       "stream": "stdout",
       "text": [
        "T = 0.14\u00b0K\n"
       ]
      }
     ],
     "prompt_number": 39
    },
    {
     "cell_type": "heading",
     "level": 2,
     "metadata": {},
     "source": [
      "Example 2.26 page no-83"
     ]
    },
    {
     "cell_type": "code",
     "collapsed": false,
     "input": [
      "# distance between valence band and Fermi level\n",
      "\n",
      "import math\n",
      "#Variable declaration\n",
      "m=9.1*10**-31\n",
      "k=1.38*10**-23\n",
      "h=6.626*10**-34\n",
      "T=300.0\n",
      "mp=0.6\n",
      "si=5*10**22\n",
      "at=10**8\n",
      "Kt=0.026\n",
      "\n",
      "#Calculations\n",
      "Nc=si/at\n",
      "Nv=2*(2*math.pi*m*k*T*mp/h**2)**(3.0/2)\n",
      "Ediff=Kt*math.log(1.17*10**19/(5*10**14))\n",
      "\n",
      "#Result\n",
      "print(\"Nv = %.2f * 10^19 /cm^3\"%(Nv/10**25))\n",
      "print(\"Ef-Ev = %.2f eV\\nTherefore, EF is above Ev\"%Ediff)"
     ],
     "language": "python",
     "metadata": {},
     "outputs": [
      {
       "output_type": "stream",
       "stream": "stdout",
       "text": [
        "Nv = 1.16 * 10^19 /cm^3\n",
        "Ef-Ev = 0.26 eV\n",
        "Therefore, EF is above Ev\n"
       ]
      }
     ],
     "prompt_number": 42
    },
    {
     "cell_type": "heading",
     "level": 2,
     "metadata": {},
     "source": [
      "Example 2.27 page no-86"
     ]
    },
    {
     "cell_type": "code",
     "collapsed": false,
     "input": [
      "# doping concentration for given fermi level\n",
      "\n",
      "import math\n",
      "#Variable declaration\n",
      "mp=0.4\n",
      "T=300.0\n",
      "k=4.82*10**15\n",
      "\n",
      "#Calculations\n",
      "Nv=k*(mp*T)**(3.0/2)\n",
      "\n",
      "#Result\n",
      "print(\"Doping concentration, NA = ND = %.2f*10^18 atoms/cm^3\"%(Nv/10**18))"
     ],
     "language": "python",
     "metadata": {},
     "outputs": [
      {
       "output_type": "stream",
       "stream": "stdout",
       "text": [
        "Doping concentration, NA = ND = 6.34*10^18 atoms/cm^3\n"
       ]
      }
     ],
     "prompt_number": 43
    },
    {
     "cell_type": "heading",
     "level": 2,
     "metadata": {},
     "source": [
      "Example 2.28 page no-86"
     ]
    },
    {
     "cell_type": "code",
     "collapsed": false,
     "input": [
      "# Distance of Fermi level from centre of forbidden bond\n",
      "\n",
      "import math\n",
      "#Variable declaration\n",
      "Vt=0.026\n",
      "\n",
      "#Calculations\n",
      "Nv=(3.0/4)*Vt*math.log(3)\n",
      "\n",
      "#Result\n",
      "print(\"For Intrinsic Semiconductor,EF will be at the centre of the forbidden band.\")\n",
      "print(\"But if mp and mn are unequal, EF will be away\")\n",
      "print(\"from the centre of the forbidden band by\\n\\nNv = %.1f*10^-3 eV\"%(Nv*10**3))"
     ],
     "language": "python",
     "metadata": {},
     "outputs": [
      {
       "output_type": "stream",
       "stream": "stdout",
       "text": [
        "For Intrinsic Semiconductor,EF will be at the centre of the forbidden band.\n",
        "But if mp and mn are unequal, EF will be away\n",
        "from the centre of the forbidden band by\n",
        "\n",
        "Nv = 21.4*10^-3 eV\n"
       ]
      }
     ],
     "prompt_number": 48
    },
    {
     "cell_type": "heading",
     "level": 2,
     "metadata": {},
     "source": [
      "Example 2.29 page no-90"
     ]
    },
    {
     "cell_type": "code",
     "collapsed": false,
     "input": [
      "# Einstein relationship\n",
      "\n",
      "import math\n",
      "#Variable declaration\n",
      "mung=3800.0\n",
      "mupg=1800.0\n",
      "muns=1300.0\n",
      "mups=500.0\n",
      "Vt=0.026\n",
      "\n",
      "#Result\n",
      "print(\"For Germanium at room temperature,\\nDp = %d cm^2/sec\"%(math.ceil(mupg*Vt)))\n",
      "print(\"Dn = %d cm^2/sec\"%(math.ceil(mung*Vt)))\n",
      "print(\"\\nFor Silicon,\\nDp = %d cm^2/sec\\nDn = %d cm^2/sec\"%(math.ceil(mups*Vt),math.ceil(muns*Vt)))\n"
     ],
     "language": "python",
     "metadata": {},
     "outputs": [
      {
       "output_type": "stream",
       "stream": "stdout",
       "text": [
        "For Germanium at room temperature,\n",
        "Dp = 47 cm^2/sec\n",
        "Dn = 99 cm^2/sec\n",
        "\n",
        "For Silicon,\n",
        "Dp = 13 cm^2/sec\n",
        "Dn = 34 cm^2/sec\n"
       ]
      }
     ],
     "prompt_number": 51
    },
    {
     "cell_type": "heading",
     "level": 2,
     "metadata": {},
     "source": [
      "Example 2.30 page no-95"
     ]
    },
    {
     "cell_type": "code",
     "collapsed": false,
     "input": [
      "# Hall Effect\n",
      "\n",
      "import math\n",
      "#Variable declaration\n",
      "B=0.1       # Wb/m^2\n",
      "Vh=50.0     # mV\n",
      "I=10.0      # mA\n",
      "rho=2*10**5 # Ohm-cm\n",
      "w=3*10**-3  # m\n",
      "\n",
      "#Calculations\n",
      "x=B*I*10**-3/(Vh*10**-2*w)\n",
      "y=1/(rho*10**-2)\n",
      "\n",
      "#Result\n",
      "print(\"1/RH = %.3f\"%x)\n",
      "print(\"\\nConductivity = %.4f mhos/meter\\nmu = %.0f cm^2/V-sec\"%(y,(y/x)*10**6))"
     ],
     "language": "python",
     "metadata": {},
     "outputs": [
      {
       "output_type": "stream",
       "stream": "stdout",
       "text": [
        "1/RH = 0.667\n",
        "\n",
        "Conductivity = 0.0005 mhos/meter\n",
        "mu = 750 cm^2/V-sec\n"
       ]
      }
     ],
     "prompt_number": 54
    },
    {
     "cell_type": "heading",
     "level": 2,
     "metadata": {},
     "source": [
      "Example 2.31 page no-116"
     ]
    },
    {
     "cell_type": "code",
     "collapsed": false,
     "input": [
      "# Reverse saturation current in diode\n",
      "\n",
      "import math\n",
      "#Variable declaration\n",
      "#(a)\n",
      "Vt=300.0/11600\n",
      "#(b)\n",
      "v1=0.2\n",
      "v2=0.3\n",
      "\n",
      "#Calculations\n",
      "v=Vt*math.log(1.9)\n",
      "i1=10*(math.e**(v1/Vt)-1)\n",
      "i2=10*(math.e**(v2/Vt)-1)\n",
      "\n",
      "#Result\n",
      "print(\"(a)\\nV = %.3f V\"%v)\n",
      "print(\"\\n(b)\\nFor V = 0.2, I = %.2f mA\"%(i1/1000))\n",
      "print(\"For V = 0.3, I = %.2f A\"%(i2/1000000))"
     ],
     "language": "python",
     "metadata": {},
     "outputs": [
      {
       "output_type": "stream",
       "stream": "stdout",
       "text": [
        "(a)\n",
        "V = 0.017 V\n",
        "\n",
        "(b)\n",
        "For V = 0.2, I = 22.82 mA\n",
        "For V = 0.3, I = 1.09 A\n"
       ]
      }
     ],
     "prompt_number": 57
    },
    {
     "cell_type": "heading",
     "level": 2,
     "metadata": {},
     "source": [
      " Example 2.32 page no-116"
     ]
    },
    {
     "cell_type": "code",
     "collapsed": false,
     "input": [
      "# AC and DC resistance of Ge diode\n",
      "\n",
      "import math\n",
      "#Variable declaration\n",
      "Vt=301.6/11600\n",
      "i0=20*10**-6\n",
      "v=0.1\n",
      "\n",
      "#Calculations\n",
      "I=i0*(math.e**(v/Vt)-1)\n",
      "r_DC=v/I\n",
      "r_AC=i0*(math.e**(v/Vt))/Vt\n",
      "\n",
      "#Result\n",
      "print(\"I = %.3f mA\"%(I*1000))\n",
      "print(\"r_DC = %.1f Ohm\"%r_DC)\n",
      "print(\"r_AC = %.1f Ohm\"%(1/r_AC))"
     ],
     "language": "python",
     "metadata": {},
     "outputs": [
      {
       "output_type": "stream",
       "stream": "stdout",
       "text": [
        "I = 0.916 mA\n",
        "r_DC = 109.1 Ohm\n",
        "r_AC = 27.8 Ohm\n"
       ]
      }
     ],
     "prompt_number": 62
    },
    {
     "cell_type": "heading",
     "level": 2,
     "metadata": {},
     "source": [
      "Example 2.33 page no-117"
     ]
    },
    {
     "cell_type": "code",
     "collapsed": false,
     "input": [
      "# width of the depletion layer\n",
      "\n",
      "import math\n",
      "#Variable declaration\n",
      "A = 0.001       # cm2\n",
      "sig1n= 1.0      # mhos/cm,\n",
      "sig1p=100.0     # mhos/cm\n",
      "mun=3800.0      # cm2/sec\n",
      "mup = 1800.0    # cm2/sec.\n",
      "e=1.6*10**-19   # C\n",
      "eps=16*8.85*10**-14\n",
      "ni=6.25*10**26\n",
      "T=300.0\n",
      "\n",
      "#Calculations\n",
      "Vt=T/11600.0\n",
      "Nd=sig1n/(e*mun)\n",
      "Na=sig1p/(e*mup)\n",
      "V0=Vt*math.log(Na*Nd/ni)\n",
      "w=math.sqrt(2*eps*(V0+1)/(e*Na))\n",
      "\n",
      "#Result\n",
      "print(\"ND = %.2f * 10^15 /cm^3\\nNA = %.1f * 10^17 /cm^3\"%(Nd*10**-15,Na*10**-17))\n",
      "print(\"V0 = %.3f V\\nw = %.3f * 10^-4 cm\"%(V0,w*10**4))\n"
     ],
     "language": "python",
     "metadata": {},
     "outputs": [
      {
       "output_type": "stream",
       "stream": "stdout",
       "text": [
        "ND = 1.64 * 10^15 /cm^3\n",
        "NA = 3.5 * 10^17 /cm^3\n",
        "V0 = 0.355 V\n",
        "w = 0.083 * 10^-4 cm\n"
       ]
      }
     ],
     "prompt_number": 64
    },
    {
     "cell_type": "heading",
     "level": 2,
     "metadata": {},
     "source": [
      "Example 2.34 page no-118"
     ]
    },
    {
     "cell_type": "code",
     "collapsed": false,
     "input": [
      "# dynamic forward and reverse resistance of a p-n junction diode\n",
      "\n",
      "import math\n",
      "#Variable declaration\n",
      "I0=10**-6   # A\n",
      "T = 301.6   # K\n",
      "Vf =0.25    # V\n",
      "Vr= 0.25    # V\n",
      "#Dynamic Forward Resistance\n",
      "Vt=T/11600.0\n",
      "x=(I0*math.e**(Vf/Vt))/Vt\n",
      "rf=1/x\n",
      "print(\"Dynamic Forward Resistance, rf = %.3f Ohm\"%rf)\n",
      "#Dynamic Reverse Resistance\n",
      "x1=(I0*math.e**(-Vf/Vt))/Vt\n",
      "rr=1/x1\n",
      "print(\"Dynamic Reverse Resistance, rr = %.1f * 10^6 Ohm\"%(rr/10**6))"
     ],
     "language": "python",
     "metadata": {},
     "outputs": [
      {
       "output_type": "stream",
       "stream": "stdout",
       "text": [
        "Dynamic Forward Resistance, rf = 1.734 Ohm\n",
        "Dynamic Reverse Resistance, rr = 389.8 * 10^6 Ohm\n"
       ]
      }
     ],
     "prompt_number": 65
    },
    {
     "cell_type": "heading",
     "level": 2,
     "metadata": {},
     "source": [
      "Example 2.35 page no-125"
     ]
    },
    {
     "cell_type": "code",
     "collapsed": false,
     "input": [
      "# zener breakdown voltage\n",
      "\n",
      "import math\n",
      "#Variable declaration\n",
      "eps=16/(36*math.pi*10**9) # F/m\n",
      "mup=1800.0\n",
      "E=4.0*10**14\n",
      "\n",
      "#Calculations\n",
      "V=(eps*mup*E*10**-6)/2\n",
      "sige=1.0/45\n",
      "Vz=math.ceil(V)/sige\n",
      "\n",
      "#Result\n",
      "print(\"V = %d V\"%Vz)"
     ],
     "language": "python",
     "metadata": {},
     "outputs": [
      {
       "output_type": "stream",
       "stream": "stdout",
       "text": [
        "V = 2295 V\n"
       ]
      }
     ],
     "prompt_number": 66
    },
    {
     "cell_type": "heading",
     "level": 2,
     "metadata": {},
     "source": [
      "Example 2.36 page no-125"
     ]
    },
    {
     "cell_type": "code",
     "collapsed": false,
     "input": [
      "# Effect of bias on capacitance of a diode\n",
      "\n",
      "import math\n",
      "#Variable declaration\n",
      "Ct=20.0    # pF\n",
      "v1=5.0     # v\n",
      "v2=6.0     # v\n",
      "\n",
      "#Calculations\n",
      "Ct2=Ct*math.sqrt(v1/v2)\n",
      "print(\"Therefore, decrease in the value of capacitance is\\nCt1-Ct2 = %.2f pF\"%(Ct-Ct2))"
     ],
     "language": "python",
     "metadata": {},
     "outputs": [
      {
       "output_type": "stream",
       "stream": "stdout",
       "text": [
        "Therefore, decrease in the value of capacitance is\n",
        "Ct1-Ct2 = 1.74 pF\n"
       ]
      }
     ],
     "prompt_number": 67
    },
    {
     "cell_type": "heading",
     "level": 2,
     "metadata": {},
     "source": [
      "Example 2.37 page no-126"
     ]
    },
    {
     "cell_type": "code",
     "collapsed": false,
     "input": [
      "# Zener As voltage regulator\n",
      "\n",
      "import math\n",
      "#Variable declaration\n",
      "V1=200.0    # V\n",
      "Vd=50.0     # V\n",
      "I=40*10**-3 # A\n",
      "\n",
      "#Calculations\n",
      "#If Il=0,\n",
      "R=(V1-Vd)/I\n",
      "I0=5        # mA\n",
      "#for Vmin\n",
      "Il=25.0\n",
      "Vmin=Vd+(Il+I0)*0.001*R\n",
      "#for Vmax\n",
      "Vmax=Vd+(Il+I*1000)*0.001*R\n",
      "\n",
      "#Result\n",
      "print(\"(a)\\nR = %d Ohm\\nImax occurs when I0 = %d mA\\nTherefore, Imax = %d mA\"%(R,I0,I*1----I0))\n",
      "print(\"\\n(b)\\nFor Vmin\\nVmin = %.1fV\\n\\nFor Vmax\\nVmax = %.1fV\"%(Vmin,Vmax))"
     ],
     "language": "python",
     "metadata": {},
     "outputs": [
      {
       "output_type": "stream",
       "stream": "stdout",
       "text": [
        "(a)\n",
        "R = 3750 Ohm\n",
        "Imax occurs when I0 = 5 mA\n",
        "Therefore, Imax = 5 mA\n",
        "\n",
        "(b)\n",
        "For Vmin\n",
        "Vmin = 162.5V\n",
        "\n",
        "For Vmax\n",
        "Vmax = 293.8V\n"
       ]
      }
     ],
     "prompt_number": 71
    },
    {
     "cell_type": "heading",
     "level": 2,
     "metadata": {},
     "source": [
      "Example 2.39 page no-127"
     ]
    },
    {
     "cell_type": "code",
     "collapsed": false,
     "input": [
      "# Zener As voltage regulator\n",
      "\n",
      "import math\n",
      "#Variable declaration\n",
      "x=99.5 *10**3  # Ohm (R1+R2)\n",
      "rm=0.56 *10**3 # Ohm\n",
      "v1=20.0        # V\n",
      "\n",
      "#Calculations\n",
      "i=v1/x\n",
      "i=0.0002       # aproxximated to\n",
      "k=16.0/i\n",
      "R1=k-rm\n",
      "R2=x-R1\n",
      "\n",
      "#Result\n",
      "print(\"R1 = %.1f K-ohm\\nR2 = %.1f K-ohm\"%(R1/1000,R2/1000))"
     ],
     "language": "python",
     "metadata": {},
     "outputs": [
      {
       "output_type": "stream",
       "stream": "stdout",
       "text": [
        "R1 = 79.4 K-ohm\n",
        "R2 = 20.1 K-ohm\n"
       ]
      }
     ],
     "prompt_number": 70
    },
    {
     "cell_type": "heading",
     "level": 2,
     "metadata": {},
     "source": [
      "Example 2.40 page no-127"
     ]
    },
    {
     "cell_type": "code",
     "collapsed": false,
     "input": [
      "# forward snd reverse current ratios\n",
      "\n",
      "import math\n",
      "#Variable declaration\n",
      "T=301.6\n",
      "vt=T*1000.0/11600\n",
      "vf=50.0           # mV\n",
      "vr=-50.0          # mV\n",
      "\n",
      "#Calculations\n",
      "k=(math.e**(vf/vt)-1)/(math.e**(vr/vt)-1)\n",
      "\n",
      "#Result\n",
      "print(\"ratio = %.2f\"%k)\n",
      "print(\"Negative sign is because, the direction of current is opposite when the diode is reverse biased\")"
     ],
     "language": "python",
     "metadata": {},
     "outputs": [
      {
       "output_type": "stream",
       "stream": "stdout",
       "text": [
        "ratio = -6.84\n",
        "Negative sign is because, the direction of current is opposite when the diode is reverse biased\n"
       ]
      }
     ],
     "prompt_number": 72
    },
    {
     "cell_type": "heading",
     "level": 2,
     "metadata": {},
     "source": [
      "Example 2.41 page no-128"
     ]
    },
    {
     "cell_type": "code",
     "collapsed": false,
     "input": [
      "# PN junction diode as Resistance\n",
      "\n",
      "import math\n",
      "#Variable declaration\n",
      "V=10.0         # v\n",
      "I0=0.07/0.11   #(0.07/0.11)*I\n",
      "i1=5.0         # mA\n",
      "\n",
      "#Calculations\n",
      "Ir=1-I0\n",
      "i=Ir/I0\n",
      "Ir=i*i1\n",
      "R=V/Ir\n",
      "\n",
      "#Result\n",
      "print(\"R = %.1f K-Ohm\"%R)"
     ],
     "language": "python",
     "metadata": {},
     "outputs": [
      {
       "output_type": "stream",
       "stream": "stdout",
       "text": [
        "R = 3.5 K-Ohm\n"
       ]
      }
     ],
     "prompt_number": 75
    },
    {
     "cell_type": "heading",
     "level": 2,
     "metadata": {},
     "source": [
      "Example 2.42 page no-128"
     ]
    },
    {
     "cell_type": "code",
     "collapsed": false,
     "input": [
      "# Zener As voltage regulator\n",
      "\n",
      "import math\n",
      "#Variable declaration\n",
      "V=30.0      # V\n",
      "R=2000.0    # Ohm\n",
      "Iz=0.025    # A\n",
      "Rs=200.0\n",
      "\n",
      "#Calculations\n",
      "I=V/R\n",
      "It=Iz+I\n",
      "Vmax=V+Rs*It\n",
      "\n",
      "#Result\n",
      "print(\"Vrmax = %d V\"%Vmax)"
     ],
     "language": "python",
     "metadata": {},
     "outputs": [
      {
       "output_type": "stream",
       "stream": "stdout",
       "text": [
        "Vrmax = 38 V\n"
       ]
      }
     ],
     "prompt_number": 76
    }
   ],
   "metadata": {}
  }
 ]
}