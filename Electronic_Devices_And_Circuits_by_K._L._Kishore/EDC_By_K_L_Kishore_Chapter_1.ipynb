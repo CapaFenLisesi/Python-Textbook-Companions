{
 "metadata": {
  "name": ""
 },
 "nbformat": 3,
 "nbformat_minor": 0,
 "worksheets": [
  {
   "cells": [
    {
     "cell_type": "heading",
     "level": 1,
     "metadata": {},
     "source": [
      "Chapter 1 : Electron Dynamics and CRO"
     ]
    },
    {
     "cell_type": "heading",
     "level": 2,
     "metadata": {},
     "source": [
      "Example 1.1 page no-4"
     ]
    },
    {
     "cell_type": "code",
     "collapsed": false,
     "input": [
      "# speed of electon in electric field\n",
      "\n",
      "import math\n",
      "#Variable declaration\n",
      "V=10.0\n",
      "d=5*10**-2\n",
      "t=50*10**-9\n",
      "T=10**-7\n",
      "x=1.76*10**11\n",
      "\n",
      "#Calculations and Results\n",
      "#(1)\n",
      "eps=V/(d*T)\n",
      "a=x*eps\n",
      "v=a*t**2/2\n",
      "print(\"(1)\\nVelocity, v = %.1f*10^5 m/s\\n\"%(v/100000))\n",
      "\n",
      "#(2)\n",
      "x1=(a/6)*(t**3)\n",
      "print(\"\\n(2)\\ndistance, x=%.3f cm\\n\"%(x1*100))\n",
      "\n",
      "#(3)\n",
      "x2=0.05\n",
      "t1=(x2/(a/6))**(1.0/3)\n",
      "v1=(a/2)*t1**2\n",
      "print(\"\\n(3)\\nspeed with which the electron strikes the positive plate,\\nv = %.2f*10^6 m/sec\"%(v1/10**6))"
     ],
     "language": "python",
     "metadata": {},
     "outputs": [
      {
       "output_type": "stream",
       "stream": "stdout",
       "text": [
        "(1)\n",
        "Velocity, v = 4.4*10^5 m/s\n",
        "\n",
        "\n",
        "(2)\n",
        "distance, x=0.733 cm\n",
        "\n",
        "\n",
        "(3)\n",
        "speed with which the electron strikes the positive plate,\n",
        "v = 1.58*10^6 m/sec\n"
       ]
      }
     ],
     "prompt_number": 5
    },
    {
     "cell_type": "heading",
     "level": 2,
     "metadata": {},
     "source": [
      "Example 1.2 page no-9"
     ]
    },
    {
     "cell_type": "code",
     "collapsed": false,
     "input": [
      "# speed of electron and position of applied AC voltage point\n",
      "\n",
      "import math\n",
      "#Variable declaration\n",
      "e=1.6*10**-19             # C\n",
      "m=9.1*10**-31             # kg\n",
      "Vmax=1.5                  # v\n",
      "d=8*10**-3                # m\n",
      "\n",
      "#Calculations\n",
      "w=2*math.pi*60*10**6      # rad/sec\n",
      "Max_Vel=2*e*Vmax/(m*d*w)\n",
      "Max_Vel=math.ceil(Max_Vel*10**-3)\n",
      "\n",
      "#Result\n",
      "print(\"The Maximum value of Velocity is, \\ndx/dt=%.2f*10^5 m/sec\"%(Max_Vel/100))"
     ],
     "language": "python",
     "metadata": {},
     "outputs": [
      {
       "output_type": "stream",
       "stream": "stdout",
       "text": [
        "The Maximum value of Velocity is, \n",
        "dx/dt=1.75*10^5 m/sec\n"
       ]
      }
     ],
     "prompt_number": 8
    },
    {
     "cell_type": "heading",
     "level": 2,
     "metadata": {},
     "source": [
      "Example 1.3 page no-10"
     ]
    },
    {
     "cell_type": "code",
     "collapsed": false,
     "input": [
      "# effect of electric field on electron\n",
      "\n",
      "import math\n",
      "#Variable declaration\n",
      "eps=(2000.0)/3       # V/cm\n",
      "e=1.6*10**-19        # C\n",
      "m=9.1*10**-31        # kg\n",
      "v= 10**7             # dy/dt=v m/sec\n",
      "\n",
      "\n",
      "#Calculations and Result\n",
      "#(1)\n",
      "t=v*m/(e*eps*100)\n",
      "t=math.floor(t*10**11)\n",
      "t=t/10\n",
      "print(\"\\n(1)\\nTime ,t = %.1f*10^-10 sec\\n\"%t)\n",
      "t=t*10**-10\n",
      "\n",
      "#(2)\n",
      "y=(e*eps*100*t**2)/(2*m)\n",
      "print(\"\\n(2)\\nDistance travelled by electron , y = %.5f m\\n\"%y)\n",
      "\n",
      "#(3)\n",
      "pd=eps*100*y\n",
      "print(\"\\n(3)\\nPotential Drop = %.1f Volts\"%pd)"
     ],
     "language": "python",
     "metadata": {},
     "outputs": [
      {
       "output_type": "stream",
       "stream": "stdout",
       "text": [
        "\n",
        "(1)\n",
        "Time ,t = 8.5*10^-10 sec\n",
        "\n",
        "\n",
        "(2)\n",
        "Distance travelled by electron , y = 0.00423 m\n",
        "\n",
        "\n",
        "(3)\n",
        "Potential Drop = 282.3 Volts\n"
       ]
      }
     ],
     "prompt_number": 11
    },
    {
     "cell_type": "heading",
     "level": 2,
     "metadata": {},
     "source": [
      "Example 1.4 page no-13"
     ]
    },
    {
     "cell_type": "code",
     "collapsed": false,
     "input": [
      "# calculation of potential\n",
      "\n",
      "import math\n",
      "#Variable declaration\n",
      "V0=10.0               # volts siince energy is 10ev\n",
      "xm=2.0 \n",
      "\n",
      "#Calculations\n",
      "theta=math.pi/4\n",
      "V=(2*V0*math.sin(2*theta))/xm\n",
      "\n",
      "#Result\n",
      "print(\"V = %.0fd Volts\"%V)\n"
     ],
     "language": "python",
     "metadata": {},
     "outputs": [
      {
       "output_type": "stream",
       "stream": "stdout",
       "text": [
        "V = 10d Volts\n"
       ]
      }
     ],
     "prompt_number": 14
    },
    {
     "cell_type": "heading",
     "level": 2,
     "metadata": {},
     "source": [
      "Example 1.5 page no-19"
     ]
    },
    {
     "cell_type": "code",
     "collapsed": false,
     "input": [
      "# Application of magnetic field on electron\n",
      "\n",
      "import math\n",
      "#Variable declaration\n",
      "B=0.03          # wb/m^2\n",
      "m=9.1*10**-31   # kg\n",
      "V=2*10**5\n",
      "e=1.6*10**-19   # C\n",
      "\n",
      "#Calculations\n",
      "R=(2*m*V/e)**(0.5)\n",
      "R=math.floor(R*100/B)\n",
      "#OAC is a right angled triangle\n",
      "oa=R\n",
      "oc=3.0\n",
      "ac=math.sqrt((oa)**2-(oc)**2)\n",
      "\n",
      "#Result\n",
      "print(\"Radius of the circle, R=%.0f cm\"%R)\n",
      "print(\"AD=%d cm\"%(oa-ac))"
     ],
     "language": "python",
     "metadata": {},
     "outputs": [
      {
       "output_type": "stream",
       "stream": "stdout",
       "text": [
        "Radius of the circle, R=5 cm\n",
        "AD=1 cm\n"
       ]
      }
     ],
     "prompt_number": 15
    },
    {
     "cell_type": "heading",
     "level": 2,
     "metadata": {},
     "source": [
      "Example 1.6 page no-20"
     ]
    },
    {
     "cell_type": "code",
     "collapsed": false,
     "input": [
      "# calculation of transit time\n",
      "\n",
      "import math\n",
      "#Variable declaration\n",
      "m=9.1*10**-31    # kg\n",
      "V=100.0\n",
      "e=1.6*10**-19    # C\n",
      "d=5*10**-2       # m\n",
      "t=10**-8         # sec\n",
      "t1=0.01*10**-6   # sec\n",
      "\n",
      "#Calculations\n",
      "d1=(e*V*t**2)/(m*d*2)\n",
      "d2=(5-d1*100)\n",
      "v1=e*V*t1/(m*d)\n",
      "v1=math.ceil(v1/10**4)\n",
      "t2=(d2*10**-2)/(v1*10**4)\n",
      "\n",
      "#Result\n",
      "print(\"d1 = %.3f*10^-2m\\nd2 = %.2f*10^-2m\"%(d1*100,d2))\n",
      "print(\"\\nVelocity of Electron,v = %.2f*10^6m/s\"%(v1/100))\n",
      "print(\"\\nt2 = %.1f*10^-8 sec\"%(t2*10**8))\n",
      "print(\"\\nTotal transit time = t1 + t2 = %.1f*10^-8 sec\"%((t1/10**-8)+t2*10**8))"
     ],
     "language": "python",
     "metadata": {},
     "outputs": [
      {
       "output_type": "stream",
       "stream": "stdout",
       "text": [
        "d1 = 1.758*10^-2m\n",
        "d2 = 3.24*10^-2m\n",
        "\n",
        "Velocity of Electron,v = 3.52*10^6m/s\n",
        "\n",
        "t2 = 0.9*10^-8 sec\n",
        "\n",
        "Total transit time = t1 + t2 = 1.9*10^-8 sec\n"
       ]
      }
     ],
     "prompt_number": 22
    },
    {
     "cell_type": "heading",
     "level": 2,
     "metadata": {},
     "source": [
      "Example 1.7 page no-20"
     ]
    },
    {
     "cell_type": "code",
     "collapsed": false,
     "input": [
      "# time of flight under electric field\n",
      "\n",
      "import math\n",
      "#Variable declaration\n",
      "\n",
      "V=1000.0      # volt\n",
      "d=0.01        # m\n",
      "e=1.6*10**-19 # C\n",
      "m=9.1*10**-31 # kg\n",
      "\n",
      "#Calculations\n",
      "eps=V/d\n",
      "t=math.sqrt((2*m*d)/(e*eps))\n",
      "\n",
      "#Result\n",
      "print(\"t = %.2f * 10^-9 sec\"%(t*10**10))"
     ],
     "language": "python",
     "metadata": {},
     "outputs": [
      {
       "output_type": "stream",
       "stream": "stdout",
       "text": [
        "t = 10.67 * 10^-9 sec\n"
       ]
      }
     ],
     "prompt_number": 25
    },
    {
     "cell_type": "heading",
     "level": 2,
     "metadata": {},
     "source": [
      "Example 1.8 page no-21"
     ]
    },
    {
     "cell_type": "code",
     "collapsed": false,
     "input": [
      "# velocity of electron\n",
      "\n",
      "import math\n",
      "#Variable declaration\n",
      "V=1000.0         # volt\n",
      "e=1.6*10**-19    # C\n",
      "m=9.1*10**-31    # kg\n",
      "\n",
      "#Calculations\n",
      "Vf=math.sqrt((2*e*V)/m)\n",
      "\n",
      "#Result\n",
      "print(\"V_final = %.2f * 10^6 m/sec\"%(Vf/10**6))"
     ],
     "language": "python",
     "metadata": {},
     "outputs": [
      {
       "output_type": "stream",
       "stream": "stdout",
       "text": [
        "V_final = 18.75 * 10^6 m/sec\n"
       ]
      }
     ],
     "prompt_number": 27
    },
    {
     "cell_type": "heading",
     "level": 2,
     "metadata": {},
     "source": [
      " Example 1.9 page no-24"
     ]
    },
    {
     "cell_type": "code",
     "collapsed": false,
     "input": [
      "# application of electric and magnetic field\n",
      "\n",
      "import math\n",
      "#Variable declaration\n",
      "k=1.76*10**11       # e/m in C/kg\n",
      "eps=10**4\n",
      "B=0.01\n",
      "\n",
      "#Calculations\n",
      "Xmax=2*eps*math.pi/((B**2)*k)\n",
      "\n",
      "#Result\n",
      "print(\"Xmax = %.3f cm\"%(Xmax*100))"
     ],
     "language": "python",
     "metadata": {},
     "outputs": [
      {
       "output_type": "stream",
       "stream": "stdout",
       "text": [
        "Xmax = 0.357 cm\n"
       ]
      }
     ],
     "prompt_number": 29
    },
    {
     "cell_type": "heading",
     "level": 2,
     "metadata": {},
     "source": [
      "Example 1.10 page no-25"
     ]
    },
    {
     "cell_type": "code",
     "collapsed": false,
     "input": [
      "# distance travelled in helical path\n",
      "\n",
      "import math\n",
      "#Variable declaration\n",
      "\n",
      "Energy=50.0     # eV\n",
      "V0=Energy       # Volts\n",
      "e=1.6*10**-19   # c\n",
      "m=9.1*10**-31   # kg\n",
      "\n",
      "#Calculations\n",
      "v0=math.sqrt(2*e*V0/m)\n",
      "v0=math.ceil(v0/10**5)\n",
      "v0=(v0/10)*10**6\n",
      "t=(35.5*10**-12)/(2*10**-3)\n",
      "#Components of velocities are\n",
      "v1=v0*math.cos(10*math.pi/180)\n",
      "v2=v0*math.cos(20*math.pi/180)\n",
      "x=v1-v2\n",
      "d=x*t\n",
      "\n",
      "#Result\n",
      "print(\"Velocity, v0 = %.0f m/s\"%v0)\n",
      "print(\"\\nDistance, d = %.4f cm\"%(d*100))"
     ],
     "language": "python",
     "metadata": {},
     "outputs": [
      {
       "output_type": "stream",
       "stream": "stdout",
       "text": [
        "Velocity, v0 = 4200000 m/s\n",
        "\n",
        "Distance, d = 0.3363 cm\n"
       ]
      }
     ],
     "prompt_number": 33
    },
    {
     "cell_type": "heading",
     "level": 2,
     "metadata": {},
     "source": [
      "Example 1.11 page no-33"
     ]
    },
    {
     "cell_type": "code",
     "collapsed": false,
     "input": [
      "# Deflection sensitivity\n",
      "\n",
      "import math\n",
      "#Variable declaration\n",
      "\n",
      "l=2.0       # cm\n",
      "D=18.0      # cm\n",
      "s=0.5       # cm\n",
      "va1=500.0         # volts\n",
      "va2=1000          # Volts\n",
      "va3=1500.0           # Volts\n",
      "\n",
      "#(a)\n",
      "ds1=l*D/(2*s*va1) # Deflection Sensitivity\n",
      "#(b)\n",
      "ds2=l*D/(2*s*va2)\n",
      "# (c)\n",
      "ds3=l*D/(2*s*va3)\n",
      "\n",
      "#Result\n",
      "print(\"(a)Va=%dV\\nDeflection Sensitivity S_E=%.3f cm/V \"%(va1,ds1))\n",
      "print(\"\\n\\n(b)Va=%dV\\nDeflection Sensitivity S_E=%.3f cm/V\"%(va2,ds2))\n",
      "print(\"\\n(c)Va=%dV\\nDeflection Sensitivity S_E=%.3f cm/V\"%(va3,ds3))"
     ],
     "language": "python",
     "metadata": {},
     "outputs": [
      {
       "output_type": "stream",
       "stream": "stdout",
       "text": [
        "(a)Va=500V\n",
        "Deflection Sensitivity S_E=0.072 cm/V \n",
        "\n",
        "\n",
        "(b)Va=1000V\n",
        "Deflection Sensitivity S_E=0.036 cm/V\n",
        "\n",
        "(c)Va=1500V\n",
        "Deflection Sensitivity S_E=0.024 cm/V\n"
       ]
      }
     ],
     "prompt_number": 36
    },
    {
     "cell_type": "heading",
     "level": 2,
     "metadata": {},
     "source": [
      "Example 1.12 page no-34"
     ]
    },
    {
     "cell_type": "code",
     "collapsed": false,
     "input": [
      "# displacement angle and velocity of electron in CRT\n",
      "\n",
      "import math\n",
      "#Variable declaration\n",
      "l=2.0      # cm\n",
      "D=24.0     # cm\n",
      "s=0.5      # cm\n",
      "Vd=30.0    # Volts\n",
      "Va=1000.0  # Volts\n",
      "e=1.6*10**-19 # C\n",
      "m=9.1*10**-31  # kg\n",
      "\n",
      "#Calculations and Results\n",
      "#(a)\n",
      "d=Vd*l*D/(2*s*Va)\n",
      "print(\"\\n(a)\\nDeflection Produce, d=%.2f cm\\n\"%d)\n",
      "\n",
      "#(b)\n",
      "theta=(math.atan(d/D))*(180/math.pi)\n",
      "print(\"\\n(b)\\nTheta=%.2f\u00b0\"%theta)\n",
      "\n",
      "#(c)\n",
      "v=math.sqrt(2*e*Va/m)\n",
      "vr=v/math.cos(theta*math.pi/180)\n",
      "print(\"\\n\\n(c)\\nResultant Velocity, Vr = %.2f *10^6 m/sec\"%(vr/10**6))"
     ],
     "language": "python",
     "metadata": {},
     "outputs": [
      {
       "output_type": "stream",
       "stream": "stdout",
       "text": [
        "\n",
        "(a)\n",
        "Deflection Produce, d=1.44 cm\n",
        "\n",
        "\n",
        "(b)\n",
        "Theta=3.43\u00b0\n",
        "\n",
        "\n",
        "(c)\n",
        "Resultant Velocity, Vr = 18.79 *10^6 m/sec\n"
       ]
      }
     ],
     "prompt_number": 38
    },
    {
     "cell_type": "heading",
     "level": 2,
     "metadata": {},
     "source": [
      "Example 1.13 page no-34"
     ]
    },
    {
     "cell_type": "code",
     "collapsed": false,
     "input": [
      "# Calculation of transverse magnetic field \n",
      "\n",
      "import math\n",
      "#Variable declaration \n",
      "\n",
      "l=1.27            # cm\n",
      "D=19.4            # cm\n",
      "s=0.475           # cm\n",
      "Va=400.0          # volts\n",
      "v=30.0            # volt\n",
      "e=1.6*10**-19     # C\n",
      "m=9.1*10**-31     # kg\n",
      "\n",
      "\n",
      "#Calculations\n",
      "Se=l*D*10**-2/(2*s*Va)\n",
      "Se=math.ceil(Se*10**5)\n",
      "x=math.sqrt(m/e)\n",
      "B=(x*0.65*30*math.sqrt(2*Va))/(l*D)\n",
      "\n",
      "#Result\n",
      "print(\"S_E = %.2f mm/v\"%(Se/100))\n",
      "print(\"\\nB = %.2f*10^-5 wb/m^2\"%(B*10**5))#answer not matches with given answer"
     ],
     "language": "python",
     "metadata": {},
     "outputs": [
      {
       "output_type": "stream",
       "stream": "stdout",
       "text": [
        "S_E = 0.65 mm/v\n",
        "\n",
        "B = 5.34*10^-5 wb/m^2\n"
       ]
      }
     ],
     "prompt_number": 41
    },
    {
     "cell_type": "heading",
     "level": 2,
     "metadata": {},
     "source": [
      "Example 1.14 page no-35"
     ]
    },
    {
     "cell_type": "code",
     "collapsed": false,
     "input": [
      "# effect of earths magnetic filed on deflection in CRT\n",
      "\n",
      "import math\n",
      "#Variable declaration\n",
      "v0=1.19*10**7       # m/sec\n",
      "B=0.6*10**-4        # wb/m^2\n",
      "v=400.0\n",
      "\n",
      "#Calculations\n",
      "#Radius of the circle described by the electron due to earth magnetic field\n",
      "R=3.37*10**-6*math.sqrt(v)/B\n",
      "y=math.sqrt((112)**2-20**2)\n",
      "y=112-y\n",
      "\n",
      "#Result\n",
      "print(\"Radius of Circle, R = %.2fm\"%R)\n",
      "print(\"\\ndeflection of the electron on the screen, y = %.1f cm\"%y)"
     ],
     "language": "python",
     "metadata": {},
     "outputs": [
      {
       "output_type": "stream",
       "stream": "stdout",
       "text": [
        "Radius of Circle, R = 1.12m\n",
        "\n",
        "deflection of the electron on the screen, y = 1.8 cm\n"
       ]
      }
     ],
     "prompt_number": 44
    }
   ],
   "metadata": {}
  }
 ]
}