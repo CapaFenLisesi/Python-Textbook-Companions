{
 "cells": [
  {
   "cell_type": "markdown",
   "metadata": {},
   "source": [
    "# Ch-6 : Preparation of Optical Fibers and Cables"
   ]
  },
  {
   "cell_type": "markdown",
   "metadata": {},
   "source": [
    "## Ex:6.1 Pg: 287"
   ]
  },
  {
   "cell_type": "code",
   "execution_count": 1,
   "metadata": {
    "collapsed": false
   },
   "outputs": [
    {
     "name": "stdout",
     "output_type": "stream",
     "text": [
      "The percentage of strain =0.16 %\n",
      "\n",
      " If this condition is maintained the fiber will maintain without any break\n"
     ]
    }
   ],
   "source": [
    "from __future__ import division\n",
    "r=125*10**-6## cladding radius in meter\n",
    "R=8*10**-2## curve of radius in meter\n",
    "s=((R+2*r)/(R+r))-1#\n",
    "s_p=s*100## percentage of strain\n",
    "print \"The percentage of strain =%0.2f %%\"%( s_p)#\n",
    "print \"\\n If this condition is maintained the fiber will maintain without any break\""
   ]
  },
  {
   "cell_type": "markdown",
   "metadata": {},
   "source": [
    "## Ex:6.2 Pg: 287"
   ]
  },
  {
   "cell_type": "code",
   "execution_count": 3,
   "metadata": {
    "collapsed": false
   },
   "outputs": [
    {
     "name": "stdout",
     "output_type": "stream",
     "text": [
      "The puttling tension at the exit of an optical cable =49.17 kg\n"
     ]
    }
   ],
   "source": [
    "from math import asinh,sinh\n",
    "from __future__ import division\n",
    "w=40*10**-3## cable weighing in kg/m\n",
    "R=20*10**-2## radius of curvature in meter\n",
    "n=0.19## co-efficient of friction\n",
    "x=(3.14/4)## angle in rad\n",
    "si=42.36## pulling tension at the entrance in kg\n",
    "X=(si/(w*R))##\n",
    "Y=asinh(si/(w*R))#\n",
    "Z=w*R*sinh(n*x+Y)##puttling tension at the exit of an optical cable\n",
    "print \"The puttling tension at the exit of an optical cable =%0.2f kg\"%( Z)"
   ]
  }
 ],
 "metadata": {
  "kernelspec": {
   "display_name": "Python 2",
   "language": "python",
   "name": "python2"
  },
  "language_info": {
   "codemirror_mode": {
    "name": "ipython",
    "version": 2
   },
   "file_extension": ".py",
   "mimetype": "text/x-python",
   "name": "python",
   "nbconvert_exporter": "python",
   "pygments_lexer": "ipython2",
   "version": "2.7.9"
  }
 },
 "nbformat": 4,
 "nbformat_minor": 0
}
