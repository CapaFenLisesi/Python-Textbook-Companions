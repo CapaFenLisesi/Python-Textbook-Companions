{
 "metadata": {
  "name": "",
  "signature": "sha256:1c099612373c83d96585e30f362b0f5d48107f5099d65d556d32340ac8900c86"
 },
 "nbformat": 3,
 "nbformat_minor": 0,
 "worksheets": [
  {
   "cells": [
    {
     "cell_type": "heading",
     "level": 1,
     "metadata": {},
     "source": [
      "Ch-8 : Microwave Solid State Control Device"
     ]
    },
    {
     "cell_type": "heading",
     "level": 2,
     "metadata": {},
     "source": [
      "Page Number: 389 Example 8.1"
     ]
    },
    {
     "cell_type": "code",
     "collapsed": false,
     "input": [
      "from __future__ import division \n",
      "from math import pi, sqrt, log10\n",
      "#Given\n",
      "Rf=0.5  #ohm\n",
      "Rr=1  #ohm\n",
      "Ls=0.3e-9  #H\n",
      "Cj=0.1e-12  #F\n",
      "f=3.18e9  #Hz\n",
      "Z0=50  #ohm\n",
      "\n",
      "Zf=Rf+(1J*round(2*pi*f*Ls)) \n",
      "Zr=Rr+(1J*(round(2*pi*f*Ls)-(1/(2*pi*f*Cj)))) \n",
      "\n",
      "#Series Configuration\n",
      "print 'Series Configuration' \n",
      "\n",
      "#Insertion Loss\n",
      "x=(2*Z0)/((2*Z0)+Zf) \n",
      "x1=sqrt(((x.real))**2+((x.imag))**2) \n",
      "IN=-20*log10(x1) \n",
      "print 'Insertion Loss: %0.3f'%IN,'dB'\n",
      "\n",
      "#Isolation Loss\n",
      "y=(2*Z0)/((2*Z0)+Zr) \n",
      "y1=sqrt(((y.real))**2+((y.imag))**2) \n",
      "IS=-20*log10(y1) \n",
      "print 'Isolation Loss: %0.3f'%IS,'dB'\n",
      "\n",
      "#Shunt Configuration\n",
      "print 'Shunt Configuration' \n",
      "\n",
      "#Insertion Loss\n",
      "a=(2*Zr)/((2*Zr)+Z0) \n",
      "a1=sqrt(((a.real))**2+((a.imag))**2) \n",
      "INs=-20*log10(a1) \n",
      "print 'Insertion Loss: %0.3f'%INs,'dB'\n",
      "\n",
      "#Isolation Loss\n",
      "b=(2*Zf)/((2*Zf)+Z0) \n",
      "b1=sqrt(((b.real))**2+((b.imag))**2) \n",
      "ISs=-20*log10(b1) \n",
      "print 'Isolation Loss: %0.3f'%ISs,'dB'\n",
      "\n",
      "#Answer for Series configuration insertion loss is 0.058 but is given as 0.58db"
     ],
     "language": "python",
     "metadata": {},
     "outputs": [
      {
       "output_type": "stream",
       "stream": "stdout",
       "text": [
        "Series Configuration\n",
        "Insertion Loss: 0.059 dB\n",
        "Isolation Loss: 14.061 dB\n",
        "Shunt Configuration\n",
        "Insertion Loss: 0.012 dB\n",
        "Isolation Loss: 12.772 dB\n"
       ]
      }
     ],
     "prompt_number": 1
    },
    {
     "cell_type": "heading",
     "level": 2,
     "metadata": {},
     "source": [
      "Page Number: 390 Example 8.2"
     ]
    },
    {
     "cell_type": "code",
     "collapsed": false,
     "input": [
      " \n",
      "#Given\n",
      "Rf=1  #ohm\n",
      "Rr=4  #ohm\n",
      "Ls=0.3e-9  #H\n",
      "Cj=0.1e-12  #F\n",
      "f=3.18e9  #Hz\n",
      "Z0=50  #ohm\n",
      "\n",
      "Zf=Rf+(1J*round(2*pi*f*Ls)) \n",
      "Zr=Rr+(1J*(round(2*pi*f*Ls)-(1/(2*pi*f*Cj)))) \n",
      "\n",
      "#Series Configuration\n",
      "print 'Series Configuration' \n",
      "\n",
      "#Insertion Loss\n",
      "x=(2*Z0)/((2*Z0)+Zf) \n",
      "x1=sqrt(((x.real))**2+((x.imag))**2) \n",
      "IN=-20*log10(x1) \n",
      "print 'Insertion Loss: %0.3f'%IN,'dB'\n",
      "\n",
      "#Isolation Loss\n",
      "y=(2*Z0)/((2*Z0)+Zr) \n",
      "y1=sqrt(((y.real))**2+((y.imag))**2) \n",
      "IS=-20*log10(y1) \n",
      "print 'Isolation Loss: %0.3f'%IS,'dB'\n",
      "\n",
      "#Shunt Configuration\n",
      "print 'Shunt Configuration' \n",
      "\n",
      "#Insertion Loss\n",
      "a=(2*Zr)/((2*Zr)+Z0) \n",
      "a1=sqrt(((a.real))**2+((a.imag))**2) \n",
      "INs=-20*log10(a1) \n",
      "print 'Insertion Loss: %0.3f'%INs,'dB'\n",
      "\n",
      "#Isolation Loss\n",
      "b=(2*Zf)/((2*Zf)+Z0) \n",
      "b1=sqrt(((b.real))**2+((b.imag))**2) \n",
      "ISs=-20*log10(b1) \n",
      "print 'Isolation Loss: %0.3f'%ISs,'dB'"
     ],
     "language": "python",
     "metadata": {},
     "outputs": [
      {
       "output_type": "stream",
       "stream": "stdout",
       "text": [
        "Series Configuration\n",
        "Insertion Loss: 0.102 dB\n",
        "Isolation Loss: 14.071 dB\n",
        "Shunt Configuration\n",
        "Insertion Loss: 0.015 dB\n",
        "Isolation Loss: 12.843 dB\n"
       ]
      }
     ],
     "prompt_number": 2
    },
    {
     "cell_type": "heading",
     "level": 2,
     "metadata": {},
     "source": [
      "Page Number: 392 Example 8.3"
     ]
    },
    {
     "cell_type": "code",
     "collapsed": false,
     "input": [
      " \n",
      "#Given\n",
      "Vbd=1000  #V\n",
      "f=30e9  #Hz\n",
      "E=3e5  #V/cm\n",
      "Cj=0.3e-12  #F\n",
      "er=11.8 \n",
      "e0=8.854e-12 \n",
      "\n",
      "W=Vbd/E \n",
      "Wpi=W/100  #mu\n",
      "\n",
      "#Total series resistance\n",
      "R=1/(2*pi*f*Cj) \n",
      "print 'Total series resistance: %0.3f'%R, 'ohms'\n",
      "\n",
      "#Junction Area\n",
      "A=(Cj*Wpi)/(e0*er) \n",
      "print 'Junction Area: %0.3f'%(A*10000), 'cm2'"
     ],
     "language": "python",
     "metadata": {},
     "outputs": [
      {
       "output_type": "stream",
       "stream": "stdout",
       "text": [
        "Total series resistance: 17.684 ohms\n",
        "Junction Area: 0.001 cm2\n"
       ]
      }
     ],
     "prompt_number": 3
    },
    {
     "cell_type": "heading",
     "level": 2,
     "metadata": {},
     "source": [
      "Page Number: 428 Example 8.6"
     ]
    },
    {
     "cell_type": "code",
     "collapsed": false,
     "input": [
      " \n",
      "#Given\n",
      "MQ=10 \n",
      "M=0.4 \n",
      "r=20 \n",
      "Td=300  #K\n",
      "T=290  #K\n",
      "\n",
      "x=(MQ*MQ)/r \n",
      "#Power Gain\n",
      "Ap=(r*x)/((1+sqrt(1+x))**2) \n",
      "Apdb=10*log10(Ap) \n",
      "print 'Power gain: %0.3f'%Apdb,'dB'\n",
      "\n",
      "#Noise figure\n",
      "z=(Td/T)/sqrt(1+((MQ*MQ)/r)) \n",
      "F=1+z \n",
      "Fdb=10*log10(F) \n",
      "print 'Nosie figure: %0.3f'%F,'dB'\n",
      "\n",
      "#Bandwidth\n",
      "BW=2*M*sqrt(r) \n",
      "print 'Bandwidth: %0.3f'%BW"
     ],
     "language": "python",
     "metadata": {},
     "outputs": [
      {
       "output_type": "stream",
       "stream": "stdout",
       "text": [
        "Power gain: 9.245 dB\n",
        "Nosie figure: 1.422 dB\n",
        "Bandwidth: 3.578\n"
       ]
      }
     ],
     "prompt_number": 4
    },
    {
     "cell_type": "heading",
     "level": 2,
     "metadata": {},
     "source": [
      "Page Number: 428 Example 8.7"
     ]
    },
    {
     "cell_type": "code",
     "collapsed": false,
     "input": [
      " \n",
      "#Given\n",
      "MQ=10 \n",
      "r=10 \n",
      "\n",
      "x=(MQ*MQ)/r \n",
      "\n",
      "#Gain\n",
      "Ap=(r*x)/((1+sqrt(1+x))**2) \n",
      "Apdb=10*log10(Ap) \n",
      "print 'Gain: %0.3f'%Apdb,'dB'"
     ],
     "language": "python",
     "metadata": {},
     "outputs": [
      {
       "output_type": "stream",
       "stream": "stdout",
       "text": [
        "Gain: 7.297 dB\n"
       ]
      }
     ],
     "prompt_number": 5
    },
    {
     "cell_type": "heading",
     "level": 2,
     "metadata": {},
     "source": [
      "Page Number: 429 Example 8.8"
     ]
    },
    {
     "cell_type": "code",
     "collapsed": false,
     "input": [
      " \n",
      "#Given\n",
      "Rs=1  #ohm\n",
      "ws=5e9  #Hz\n",
      "M=0.25 \n",
      "C0=2e-12  #F\n",
      "\n",
      "#(i) Effective Q\n",
      "Q=1/(Rs*ws*C0*(1-(M*M))) \n",
      "print 'Effective Q: %0.3f'%Q"
     ],
     "language": "python",
     "metadata": {},
     "outputs": [
      {
       "output_type": "stream",
       "stream": "stdout",
       "text": [
        "Effective Q: 106.667\n"
       ]
      }
     ],
     "prompt_number": 6
    },
    {
     "cell_type": "heading",
     "level": 2,
     "metadata": {},
     "source": [
      "Page Number: 434 Example 8.9"
     ]
    },
    {
     "cell_type": "code",
     "collapsed": false,
     "input": [
      " \n",
      "#Given\n",
      "e=0.0001 \n",
      "s=330 \n",
      "\n",
      "#Charge transfer effciency\n",
      "n=1-e \n",
      "\n",
      "#Final charge pulse\n",
      "#x=P/P0\n",
      "x=(1-(e*s)) \n",
      "print 'Final charge pulse:' ,x"
     ],
     "language": "python",
     "metadata": {},
     "outputs": [
      {
       "output_type": "stream",
       "stream": "stdout",
       "text": [
        "Final charge pulse: 0.967\n"
       ]
      }
     ],
     "prompt_number": 7
    },
    {
     "cell_type": "heading",
     "level": 2,
     "metadata": {},
     "source": [
      "Page Number: 434 Example 8.10"
     ]
    },
    {
     "cell_type": "code",
     "collapsed": false,
     "input": [
      " \n",
      "#Given\n",
      "Qmax=0.05e-12  #C\n",
      "f=10e6  #Hz\n",
      "V=10  #V\n",
      "n=3 \n",
      "\n",
      "#Power disspated per bit\n",
      "P=n*f*V*Qmax \n",
      "print 'Power disspated per bit:',P*10**6, 'muW'"
     ],
     "language": "python",
     "metadata": {},
     "outputs": [
      {
       "output_type": "stream",
       "stream": "stdout",
       "text": [
        "Power disspated per bit: 15.0 muW\n"
       ]
      }
     ],
     "prompt_number": 8
    },
    {
     "cell_type": "heading",
     "level": 2,
     "metadata": {},
     "source": [
      "Page Number: 434 Example 8.11"
     ]
    },
    {
     "cell_type": "code",
     "collapsed": false,
     "input": [
      " \n",
      "#Given\n",
      "e0=8.854e-12 \n",
      "er=3.9 \n",
      "d=0.15e-6  #m\n",
      "e=1.6e-19  #J\n",
      "Nmax=2.2e16  #m-2\n",
      "A=0.6e-8  #m\n",
      "P=0.67e-3  #W\n",
      "n=3 \n",
      "\n",
      "#(i) Junction capacitance\n",
      "Ci=(e0*er)/d \n",
      "\n",
      "#Gate voltage\n",
      "V=(Nmax*e)/Ci \n",
      "print 'Gate voltage: %0.3f'%V,'V'\n",
      "\n",
      "#(ii) Charge stored\n",
      "Qmax=Nmax*e*A \n",
      "\n",
      "#Clock frequency\n",
      "f=P/(n*V*Qmax) \n",
      "print 'Clock frequency: %0.3f'%(f/10**6),'MHz'"
     ],
     "language": "python",
     "metadata": {},
     "outputs": [
      {
       "output_type": "stream",
       "stream": "stdout",
       "text": [
        "Gate voltage: 15.291 V\n",
        "Clock frequency: 0.692 MHz\n"
       ]
      }
     ],
     "prompt_number": 7
    },
    {
     "cell_type": "heading",
     "level": 2,
     "metadata": {},
     "source": [
      "Page Number: 435 Example 8.12"
     ]
    },
    {
     "cell_type": "code",
     "collapsed": false,
     "input": [
      " \n",
      "#Given\n",
      "Qmax=0.06e-12  #C\n",
      "f=20e6  #Hz\n",
      "V=10  #V\n",
      "n=3 \n",
      "\n",
      "#Power disspated per bit\n",
      "P=n*f*V*Qmax \n",
      "print 'Power disspated per bit:',P*10**6, 'muW'"
     ],
     "language": "python",
     "metadata": {},
     "outputs": [
      {
       "output_type": "stream",
       "stream": "stdout",
       "text": [
        "Power disspated per bit: 36.0 muW\n"
       ]
      }
     ],
     "prompt_number": 10
    },
    {
     "cell_type": "heading",
     "level": 2,
     "metadata": {},
     "source": [
      "Page Number: 435 Example 8.13"
     ]
    },
    {
     "cell_type": "code",
     "collapsed": false,
     "input": [
      " \n",
      "#Given\n",
      "e0=8.854e-12 \n",
      "er=4 \n",
      "d=0.1e-6  #m\n",
      "si=0.85 \n",
      "e=1.6e-19  #J\n",
      "Na=1e20 \n",
      "\n",
      "Ci=(e0*er)/d \n",
      "print 'Junction capacitance: %0.5f'%Ci, 'F/m'\n",
      "\n",
      "W=sqrt((2*e0*er*si)/(e*Na)) \n",
      "print 'Depletion layer width: %0.3e'%W,'m'"
     ],
     "language": "python",
     "metadata": {},
     "outputs": [
      {
       "output_type": "stream",
       "stream": "stdout",
       "text": [
        "Junction capacitance: 0.00035 F/m\n",
        "Depletion layer width: 1.940e-06 m\n"
       ]
      }
     ],
     "prompt_number": 12
    }
   ],
   "metadata": {}
  }
 ]
}
