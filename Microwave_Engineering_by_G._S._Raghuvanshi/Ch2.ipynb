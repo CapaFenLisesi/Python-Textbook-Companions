{
 "metadata": {
  "name": "",
  "signature": "sha256:e6553dcd70d4d8b28a08356b9f55414eb14b3817d8217dcdd5394858fb7e9bf3"
 },
 "nbformat": 3,
 "nbformat_minor": 0,
 "worksheets": [
  {
   "cells": [
    {
     "cell_type": "heading",
     "level": 1,
     "metadata": {},
     "source": [
      "Ch-2 : Waveguides"
     ]
    },
    {
     "cell_type": "heading",
     "level": 2,
     "metadata": {},
     "source": [
      "Page Number:91 Example 2.1"
     ]
    },
    {
     "cell_type": "code",
     "collapsed": false,
     "input": [
      "from __future__ import division\n",
      "from math import sqrt\n",
      "\n",
      "#Given,\n",
      "\n",
      "a=6 #cm\n",
      "b=4 #cm\n",
      "d=4.47 #cm\n",
      "c=3e8  #m/s\n",
      "lamc=2*a \n",
      "lamg=2*d \n",
      "\n",
      "#Signal wavelength\n",
      "lam=lamg*lamc/(sqrt(lamg**2+lamc**2)) \n",
      "lam=lam/100  #m\n",
      "f=c/lam \n",
      "print 'Signal frequency of dominant mode: %0.3f'%(f/1e9), 'Ghz'"
     ],
     "language": "python",
     "metadata": {},
     "outputs": [
      {
       "output_type": "stream",
       "stream": "stdout",
       "text": [
        "Signal frequency of dominant mode: 4.185 Ghz\n"
       ]
      }
     ],
     "prompt_number": 58
    },
    {
     "cell_type": "heading",
     "level": 2,
     "metadata": {},
     "source": [
      "Page Number: 92 Example 2.2"
     ]
    },
    {
     "cell_type": "code",
     "collapsed": false,
     "input": [
      "from math import pi \n",
      "#Given,\n",
      "c=3e8  #m/s\n",
      "a=2.5  #cm\n",
      "b=5  #cm\n",
      "lam=4.5  #cm\n",
      "\n",
      "lamc=2*b \n",
      "\n",
      "#Guide wavelength\n",
      "lamg=lam/(sqrt(1-((lam/lamc)**2))) \n",
      "print 'Guide wavelength: %0.3f'%lamg,'cm'\n",
      "\n",
      "#Phase constant\n",
      "bet=(2*pi)/lamg \n",
      "bet=bet*100  #rad/m\n",
      "print 'Phase constant: %0.3f'%bet,'rad/m'\n",
      "\n",
      "#Phase velocity\n",
      "w=(2*pi*c)/lam \n",
      "vp=w/bet \n",
      "print 'Phase velocity: %0.3f'%vp,'m/s'"
     ],
     "language": "python",
     "metadata": {},
     "outputs": [
      {
       "output_type": "stream",
       "stream": "stdout",
       "text": [
        "Guide wavelength: 5.039 cm\n",
        "Phase constant: 124.690 rad/m\n",
        "Phase velocity: 3359355.066 m/s\n"
       ]
      }
     ],
     "prompt_number": 59
    },
    {
     "cell_type": "heading",
     "level": 2,
     "metadata": {},
     "source": [
      "Page Number: 92 Example 2.3"
     ]
    },
    {
     "cell_type": "code",
     "collapsed": false,
     "input": [
      " \n",
      "#Given,\n",
      "\n",
      "c=3e8  #m/s\n",
      "a=4  #cm\n",
      "b=2  #cm\n",
      "f=10e9  #Hz\n",
      "m=1  \n",
      "n=1 \n",
      "\n",
      "\n",
      "#Cutoff wavelength\n",
      "lamc=2/sqrt((m/a)**2+(n/b)**2) \n",
      "print 'Cut-off wavelength: %0.3f'%lamc,'cm'\n",
      "\n",
      "#Wave impedance\n",
      "lam=c/f #m\n",
      "lam=lam*100 #cm\n",
      "eeta=120*pi \n",
      "z0=eeta*sqrt(1-(lam/lamc)**2) \n",
      "print 'Wave impedance: %0.3f'%z0,'ohm'"
     ],
     "language": "python",
     "metadata": {},
     "outputs": [
      {
       "output_type": "stream",
       "stream": "stdout",
       "text": [
        "Cut-off wavelength: 3.578 cm\n",
        "Wave impedance: 205.408 ohm\n"
       ]
      }
     ],
     "prompt_number": 62
    },
    {
     "cell_type": "heading",
     "level": 2,
     "metadata": {},
     "source": [
      "Page Number: 93 Example 2.4"
     ]
    },
    {
     "cell_type": "code",
     "collapsed": false,
     "input": [
      " \n",
      "#Given,\n",
      "c=3e8  #m/s\n",
      "f=10e9  #Hz\n",
      "zte=410  #ohm\n",
      "\n",
      "#Wider dimension\n",
      "lam=c/f #m\n",
      "lam=lam*100 #cm\n",
      "a=3/(2*(sqrt(1-(120*pi/zte)**2))) \n",
      "print 'Wider dimension: %0.3f'%a, 'cm'"
     ],
     "language": "python",
     "metadata": {},
     "outputs": [
      {
       "output_type": "stream",
       "stream": "stdout",
       "text": [
        "Wider dimension: 3.816 cm\n"
       ]
      }
     ],
     "prompt_number": 64
    },
    {
     "cell_type": "heading",
     "level": 2,
     "metadata": {},
     "source": [
      "Page Number: 93 Example 2.5"
     ]
    },
    {
     "cell_type": "code",
     "collapsed": false,
     "input": [
      " \n",
      "#Given,\n",
      "c=3e8  #m/s\n",
      "a=3.0  #cm\n",
      "b=1.5  #cm\n",
      "mur=1 \n",
      "er=2.25 \n",
      "x=mur*er \n",
      "\n",
      "#(i) Cutoff wavelength and frequencuy\n",
      "print 'TE10 mode' \n",
      "m1=1 \n",
      "n1=0 \n",
      "lamc10=2/sqrt((m1/a)**2+(n1/b)**2) \n",
      "print 'Cut-off wavelength:',lamc10, 'cm'\n",
      "lamc10=lamc10/100 \n",
      "f10=c/(lamc10*sqrt(x)) \n",
      "print 'Cutoff frequency:%0.3f'%(f10/1e9),'Ghz'\n",
      "\n",
      "print 'TE20 mode' \n",
      "m2=2 \n",
      "n2=0 \n",
      "lamc20=2/sqrt((m2/a)**2+(n2/b)**2) \n",
      "print 'Cut-off wavelength:',lamc20, 'cm'\n",
      "lamc20=lamc20/100 \n",
      "f20=c/(lamc20*sqrt(x)) \n",
      "print 'Cutoff frequency: %0.3f'%(f20/1e9),'Ghz'\n",
      "\n",
      "print 'TE11 mode' \n",
      "m3=1 \n",
      "n3=1 \n",
      "lamc11=2/sqrt((m3/a)**2+(n3/b)**2) \n",
      "print 'Cut-off wavelength: %0.3f'%lamc11,'cm'\n",
      "lamc11=lamc11/100 \n",
      "f11=c/(lamc11*sqrt(x)) \n",
      "print 'Cutoff frequency: %0.3f'%(f11/1e9), 'Ghz'\n",
      "\n",
      "#(ii) lambg and Z0\n",
      "f=4e9  #Hz\n",
      "lam=c/f \n",
      "lamg=lam/(sqrt(x-((lam/lamc10)**2))) \n",
      "print 'Guide wavelength: %0.3f'%(lamg*100),'cm'\n",
      "\n",
      "fc=3.33e9  #Hz\n",
      "Z0=(120*pi*(1/sqrt(x))*(b/a))/sqrt(1-((fc/f)**2)) \n",
      "print 'Impedance: %0.3f'%round(Z0), 'ohm'"
     ],
     "language": "python",
     "metadata": {},
     "outputs": [
      {
       "output_type": "stream",
       "stream": "stdout",
       "text": [
        "TE10 mode\n",
        "Cut-off wavelength: 6.0 cm\n",
        "Cutoff frequency:3.333 Ghz\n",
        "TE20 mode\n",
        "Cut-off wavelength: 3.0 cm\n",
        "Cutoff frequency: 6.667 Ghz\n",
        "TE11 mode\n",
        "Cut-off wavelength: 2.683 cm\n",
        "Cutoff frequency: 7.454 Ghz\n",
        "Guide wavelength: 9.045 cm\n",
        "Impedance: 227.000 ohm\n"
       ]
      }
     ],
     "prompt_number": 65
    },
    {
     "cell_type": "heading",
     "level": 2,
     "metadata": {},
     "source": [
      "Page Number: 95 Example 2.5"
     ]
    },
    {
     "cell_type": "code",
     "collapsed": false,
     "input": [
      "#Given,\n",
      "c=3e8  #m/s\n",
      "a=4  #cm\n",
      "b=2  #cm\n",
      "\n",
      "#(i) Mode\n",
      "lamc=2*a  #cm\n",
      "lamcm=lamc/100  #m\n",
      "fc=c/lamcm \n",
      "#20% above fc\n",
      "f=1.2*fc  #Hz\n",
      "\n",
      "#Operating wavelength\n",
      "lam1=c/f  #cm\n",
      "\n",
      "#For TE10 mode\n",
      "lamc10=2*b #cm\n",
      "lamcm10=lamc10/100 #m\n",
      "fc10=c/lamcm10 \n",
      "print 'Hence mode of operation is TE10','Since guide is operating at' ,fc/1e6,'MHz'\n",
      "\n",
      "#(ii)Guide wavelength\n",
      "lamm1=lam1*100 #cm\n",
      "lamg=lamm1/(sqrt(1-(lamm1/lamc)**2)) \n",
      "print 'Guide wavelength:%0.3f'%lamg,'cm'\n",
      "\n",
      "#(iii) Phase velocity\n",
      "vp=f*lamg \n",
      "print 'Phase velocity: %0.3f'%(vp/100),'m/s'\n",
      "\n",
      "#(iii) Group velocity\n",
      "vg=c**2/vp \n",
      "print 'Group velocity: %0.3f'%vg, 'm/s'"
     ],
     "language": "python",
     "metadata": {},
     "outputs": [
      {
       "output_type": "stream",
       "stream": "stdout",
       "text": [
        "Hence mode of operation is TE10 Since guide is operating at 3750.0 MHz\n",
        "Guide wavelength:12.060 cm\n",
        "Phase velocity: 542720420.240 m/s\n",
        "Group velocity: 1658312.395 m/s\n"
       ]
      }
     ],
     "prompt_number": 68
    },
    {
     "cell_type": "heading",
     "level": 2,
     "metadata": {},
     "source": [
      "Page Number: 96 Example 2.8"
     ]
    },
    {
     "cell_type": "code",
     "collapsed": false,
     "input": [
      "#Given,\n",
      "c=3e8  #m/s\n",
      "a=7  #cm\n",
      "b=3.5  #cm\n",
      "f=3e9  #Hz\n",
      "h0=10  #amp/m\n",
      "\n",
      "#Wave impedance\n",
      "lamc=2*a \n",
      "lam=c/f #m\n",
      "lam=lam*100 #cm\n",
      "lamg=lam/sqrt(1-(lam/lamc)**2)  #cm\n",
      "z0=377*lamg/h0  #ohm\n",
      "\n",
      "a1=a/100 #m\n",
      "b1=b/100 #m\n",
      "#Average power transmitted\n",
      "p=(z0*h0*h0*a1*b1)/4 \n",
      "print 'Average power transmitted: %0.3f'%p, 'W'\n",
      "\n",
      "#Peak electric field\n",
      "e0=z0*h0 \n",
      "print 'Peak electric field: %0.3f'%(e0/1000),'kV/m'\n",
      "\n",
      "#Answer for p is given as 28.3 W but it should be 32.99W"
     ],
     "language": "python",
     "metadata": {},
     "outputs": [
      {
       "output_type": "stream",
       "stream": "stdout",
       "text": [
        "Average power transmitted: 32.994 W\n",
        "Peak electric field: 5.387 kV/m\n"
       ]
      }
     ],
     "prompt_number": 70
    },
    {
     "cell_type": "heading",
     "level": 2,
     "metadata": {},
     "source": [
      "Page Number: 96 Example 2.9"
     ]
    },
    {
     "cell_type": "code",
     "collapsed": false,
     "input": [
      " #Given,\n",
      "c=3e8  #m/s\n",
      "fc=3e9  #Hz\n",
      "\n",
      "#Cutoff wavelength\n",
      "lamc=c/fc  \n",
      "a=lamc/2 #m\n",
      "a=a*100 #cm\n",
      "print 'Dimensions:' \n",
      "print 'a:' ,a,'cm'\n",
      "b=a/2  #cm\n",
      "print 'b:' ,b,'cm'"
     ],
     "language": "python",
     "metadata": {},
     "outputs": [
      {
       "output_type": "stream",
       "stream": "stdout",
       "text": [
        "Dimensions:\n",
        "a: 5.0 cm\n",
        "b: 2.5 cm\n"
       ]
      }
     ],
     "prompt_number": 35
    },
    {
     "cell_type": "heading",
     "level": 2,
     "metadata": {},
     "source": [
      "Page Number:  Example 2.10"
     ]
    },
    {
     "cell_type": "code",
     "collapsed": false,
     "input": [
      " \n",
      "#Given,\n",
      "\n",
      "c=3e8  #m/s\n",
      "a=3  #cm\n",
      "a1=a/100  #m\n",
      "b=2  #cm\n",
      "b1=b/100  #m\n",
      "f=7.5e9  #HZ\n",
      "p=5e3  #W\n",
      "\n",
      "mu=pi*4e-7 \n",
      "w=2*pi*f \n",
      "bet=sqrt(((w/c)**2)-((pi/a1)**2)) \n",
      "#Charecteristic impedance\n",
      "z0=w*mu*2*b/(bet*a) \n",
      "print 'Charecteristic impedance : %0.3f'%z0,'ohm'\n",
      "\n",
      "#Peak electric field\n",
      "e0=4*w*mu*p/(bet*a*b) \n",
      "print 'Peak electric field: %0.3f'%e0,'V/m'\n",
      "\n",
      "#Maximum voltage\n",
      "v0=e0*b1 \n",
      "print 'Maximum voltage: %0.3f'%(v0/1000),'kV'\n",
      "\n",
      "#Answer for v0 is given as 3.172 kV it should be 33.71 kV"
     ],
     "language": "python",
     "metadata": {},
     "outputs": [
      {
       "output_type": "stream",
       "stream": "stdout",
       "text": [
        "Charecteristic impedance : 674.382 ohm\n",
        "Peak electric field: 1685955.535 V/m\n",
        "Maximum voltage: 33.719 kV\n"
       ]
      }
     ],
     "prompt_number": 73
    },
    {
     "cell_type": "heading",
     "level": 2,
     "metadata": {},
     "source": [
      "Page Number: 99 Example 2.14"
     ]
    },
    {
     "cell_type": "code",
     "collapsed": false,
     "input": [
      "#Given,\n",
      "c=3e8  #m/s\n",
      "a=1.5 #cm\n",
      "a1=a/100 #m\n",
      "b=0.8 #cm\n",
      "b1=b/100 #m\n",
      "mu=1/c*c \n",
      "e=4 \n",
      "w=pi*1e11 \n",
      "n=377 \n",
      "\n",
      "#(i) Frequency of operation\n",
      "f=w/(2*pi) \n",
      "f1=f/1e9 #ghz\n",
      "print 'Frequency of operation:' ,f1,'Ghz'\n",
      "\n",
      "#(ii) Cutt off frequency\n",
      "fc=(c*sqrt((1/a1)**2+(3/b1)**2))/(2*sqrt(e)) \n",
      "fc1=fc/1e9 #ghz\n",
      "print 'Cut off frequency: %0.3f'%fc1,'Ghz'\n",
      "\n",
      "#(iii) Phase constant\n",
      "bet=(w*sqrt(e)*sqrt(1-(fc/f)**2))/(c) \n",
      "print 'Phase constant: %0.3f'%bet,'rad/m'\n",
      "\n",
      "#(iv) Propogation constant\n",
      "gam=1J*bet \n",
      "print 'Propogation constant: {:.3}'.format(gam),'rad/s'\n",
      "\n",
      "#(v) Intrensic wave impedance\n",
      "zte=(n/sqrt(e))/sqrt(1-(fc/f)**2) \n",
      "ztm=(n/sqrt(e))*sqrt(1-(fc/f)**2) \n",
      "print 'Intrinsic wave impedance:\\n' ,'ZTM13 :%0.3f'%ztm,'Ohm','ZTE13 : %0.3f'%zte,'Ohm'"
     ],
     "language": "python",
     "metadata": {},
     "outputs": [
      {
       "output_type": "stream",
       "stream": "stdout",
       "text": [
        "Frequency of operation: 50.0 Ghz\n",
        "Cut off frequency: 28.566 Ghz\n",
        "Phase constant: 1718.928 rad/m\n",
        "Propogation constant: 1.72e+03j rad/s\n",
        "Intrinsic wave impedance:\n",
        "ZTM13 :154.707 Ohm ZTE13 : 229.674 Ohm\n"
       ]
      }
     ],
     "prompt_number": 81
    },
    {
     "cell_type": "heading",
     "level": 2,
     "metadata": {},
     "source": [
      "Page Number: 103 Example 2.17"
     ]
    },
    {
     "cell_type": "code",
     "collapsed": false,
     "input": [
      "#Given\n",
      "a=2  #cm\n",
      "a1=1/100  #m\n",
      "b=1  #cm\n",
      "b1=b/100  #m\n",
      "p=10e-3  #W\n",
      "c=3e8  #m/s\n",
      "f0=10e9  #Hz\n",
      "\n",
      "#Peak value of electric field\n",
      "fc=c/(2*a) \n",
      "E02=(4*p*377)/(a1*b1*sqrt(1-(fc/f0)**2)) \n",
      "E0=sqrt(E02) \n",
      "print 'Peak value of electric field: %0.3f'%E0, 'V/m'\n",
      "\n",
      "#Maximum power transmitted\n",
      "Ed=3e6  #V/m\n",
      "Pt=2.6e13*(Ed/f0)**2 \n",
      "print 'Maximum power transmitted: %0.3f'%(Pt/1000), 'kW'\n",
      "\n",
      "#Answer is given as 2300kW but it is 2340kW"
     ],
     "language": "python",
     "metadata": {},
     "outputs": [
      {
       "output_type": "stream",
       "stream": "stdout",
       "text": [
        "Peak value of electric field: 388.335 V/m\n",
        "Maximum power transmitted: 2340.000 kW\n"
       ]
      }
     ],
     "prompt_number": 83
    },
    {
     "cell_type": "heading",
     "level": 2,
     "metadata": {},
     "source": [
      "Page Number: 104 Example 2.18"
     ]
    },
    {
     "cell_type": "code",
     "collapsed": false,
     "input": [
      "from __future__ import division \n",
      "import cmath\n",
      "#Given\n",
      "f=5e9  #Hz\n",
      "c=3e8  #m/s\n",
      "a=7.5  #cm\n",
      "a1=a/100  #m\n",
      "b=3.5  #cm\n",
      "b1=b/100  #m\n",
      "lam=c/f \n",
      "lamm=lam*100  #m\n",
      "\n",
      "print 'TE10 mode' \n",
      "lamc10=2*a \n",
      "bet10=(2*pi*sqrt(((lamc10/lamm)**2)-1))/lamc10 \n",
      "print 'Propogation constant: %0.3f'%bet10,'rad/cm'\n",
      "vp10=(2*pi*f)/bet10 \n",
      "print 'Phase velocity: %0.3f'%(vp10/100),'m/s'\n",
      "\n",
      "print 'TE01 mode' \n",
      "lamc01=2*b \n",
      "bet01=(2*pi*sqrt(((lamc01/lamm)**2)-1))/lamc01 \n",
      "print 'Propogation constant: %0.3f'%bet01, 'rad/cm'\n",
      "vp01=(2*pi*f)/bet01 \n",
      "print 'Phase velocity: %0.3f'%(vp01/100), 'm/s'\n",
      "\n",
      "print 'TE11 mode' \n",
      "lamc11=(2*a*b)/sqrt((a*a)+(b*b)) \n",
      "bet11=(2*pi*sqrt(((lamc11/lamm)**2)-1))/lamc11 \n",
      "print 'Propogation constant: %0.3f'%bet11,'rad/cm'\n",
      "vp11=(2*pi*f)/bet11 \n",
      "print 'Phase velocity: %0.3f'%(vp11/100), 'm/s'\n",
      "\n",
      "print 'TE02 mode' \n",
      "lamc02=b \n",
      "bet02=(2*pi*cmath.sqrt(((lamc02/lamm)**2)-1))/lamc02 \n",
      "print 'Propogation constant: {:.3f}'.format(bet02), 'rad/cm'\n",
      "print 'As beta is imaginary, mode gets attenuated' \n",
      "alp=(2*pi*sqrt(1-((lamc02/lamm)**2)))/lamc02 \n",
      "print 'Propogation constant alpha: %0.3f'%alp, 'Np/m'"
     ],
     "language": "python",
     "metadata": {},
     "outputs": [
      {
       "output_type": "stream",
       "stream": "stdout",
       "text": [
        "TE10 mode\n",
        "Propogation constant: 0.960 rad/cm\n",
        "Phase velocity: 327326835.354 m/s\n",
        "TE01 mode\n",
        "Propogation constant: 0.539 rad/cm\n",
        "Phase velocity: 582435206.036 m/s\n",
        "TE11 mode\n",
        "Propogation constant: 0.340 rad/cm\n",
        "Phase velocity: 924473451.642 m/s\n",
        "TE02 mode\n",
        "Propogation constant: 0.000+1.458j rad/cm\n",
        "As beta is imaginary, mode gets attenuated\n",
        "Propogation constant alpha: 1.458 Np/m\n"
       ]
      }
     ],
     "prompt_number": 93
    },
    {
     "cell_type": "heading",
     "level": 2,
     "metadata": {},
     "source": [
      "Page Number: 105 Example 2.19"
     ]
    },
    {
     "cell_type": "code",
     "collapsed": false,
     "input": [
      "from math import log10 , exp\n",
      "#Given\n",
      "c=3e8  #m/s\n",
      "a=2.29  #cm\n",
      "b=1.02  #cm\n",
      "a1=a/100  #m\n",
      "b1=b/100  #m\n",
      "f=6e9  #Hz\n",
      "e=1 \n",
      "mu=1/(c**2) \n",
      "\n",
      "#Cut off frequency\n",
      "lamc=2*a1 \n",
      "fc=c/lamc \n",
      "w=2*pi*fc \n",
      "\n",
      "#Attenuation constant\n",
      "a=(w*sqrt(1-((f/fc)**2)))/c  \n",
      "adb=-20*log10(exp(-a)) \n",
      "print 'Attenuation constant: %0.3f'%adb,'dB/m'"
     ],
     "language": "python",
     "metadata": {},
     "outputs": [
      {
       "output_type": "stream",
       "stream": "stdout",
       "text": [
        "Attenuation constant: 478.042 dB/m\n"
       ]
      }
     ],
     "prompt_number": 94
    },
    {
     "cell_type": "heading",
     "level": 2,
     "metadata": {},
     "source": [
      "Page Number: 105 Example 2.20"
     ]
    },
    {
     "cell_type": "code",
     "collapsed": false,
     "input": [
      " \n",
      "#Given,\n",
      "a1=1.84 \n",
      "a2=pi \n",
      "\n",
      "r=2*pi*(a1/a2)**2 \n",
      "print 'Cross section ratio: %0.3f'% r"
     ],
     "language": "python",
     "metadata": {},
     "outputs": [
      {
       "output_type": "stream",
       "stream": "stdout",
       "text": [
        "Cross section ratio: 2.155\n"
       ]
      }
     ],
     "prompt_number": 95
    },
    {
     "cell_type": "heading",
     "level": 2,
     "metadata": {},
     "source": [
      "Page Number: 106 Example 2.21"
     ]
    },
    {
     "cell_type": "code",
     "collapsed": false,
     "input": [
      " \n",
      "#Given\n",
      "c=3e8  #m/s\n",
      "f=15e9  #hz\n",
      "a=1.07  #cm\n",
      "a1=a/100  #m\n",
      "b=0.43  #cm\n",
      "b1=b/100  #m\n",
      "er=2.08 \n",
      "tandel=0.0004 \n",
      "lam=c/f \n",
      "\n",
      "\n",
      "#(i) Cut off frequency\n",
      "m1=1 \n",
      "n1=0 \n",
      "fc10=(c/(2*pi*sqrt(er))*sqrt((m1*pi/a1)**2+(n1*pi/b1)**2)) \n",
      "print 'Cut off frequency for mode TE10: %0.3f'%(fc10/10**9), 'GHz'\n",
      "\n",
      "m2=2 \n",
      "n2=0 \n",
      "fc20=(c/(2*pi*sqrt(er))*sqrt((m2*pi/a1)**2+(n2*pi/b1)**2)) \n",
      "print 'Cut off frequency at mode TE20: %0.3f'%(fc20/10**9), 'Ghz'\n",
      "\n",
      "m3=0 \n",
      "n3=1 \n",
      "fc01=(c/(2*pi*sqrt(er))*sqrt((m3*pi/a1)**2+(n3*pi/b1)**2)) \n",
      "print 'Cut off frequency at mode TE01: %0.3f'%(fc01/10**9),'Ghz'\n",
      "\n",
      "#Dielectric attenuation constant\n",
      "ad=(pi*tandel)/(lam*sqrt(1-(fc10/f)**2)) \n",
      "adb=-20*log10(exp(-ad)) \n",
      "print 'Attenuation constant: %0.3f'%adb,'dB/m'"
     ],
     "language": "python",
     "metadata": {},
     "outputs": [
      {
       "output_type": "stream",
       "stream": "stdout",
       "text": [
        "Cut off frequency for mode TE10: 9.720 GHz\n",
        "Cut off frequency at mode TE20: 19.440 Ghz\n",
        "Cut off frequency at mode TE01: 24.188 Ghz\n",
        "Attenuation constant: 0.717 dB/m\n"
       ]
      }
     ],
     "prompt_number": 98
    },
    {
     "cell_type": "heading",
     "level": 2,
     "metadata": {},
     "source": [
      "Page Number: 106 Example 2.22"
     ]
    },
    {
     "cell_type": "code",
     "collapsed": false,
     "input": [
      " \n",
      "#Given\n",
      "c=3e8  #m/s\n",
      "a=2.286  #cm\n",
      "a1=a/100  #m\n",
      "b=1.016  #cm\n",
      "b1=b/100  #m\n",
      "sig=5.8e7  #s/m\n",
      "f=9.6e9  #Hz\n",
      "\n",
      "w=2*pi*f \n",
      "mu=pi*4e-7 \n",
      "et=377 \n",
      "\n",
      "lam=c/f \n",
      "lamc=2*a1 \n",
      "r=lam/lamc \n",
      "\n",
      "Rs=sqrt((w*mu)/(2*sig)) \n",
      "ac=(Rs*(1+(2*(b1/a1)*r*r)))/(et*b1*sqrt(1-(r**2))) \n",
      "adb=-20*log10(exp(-ac)) \n",
      "print 'Conductor attenuation constant: %0.3f'%adb, 'dB/m'"
     ],
     "language": "python",
     "metadata": {},
     "outputs": [
      {
       "output_type": "stream",
       "stream": "stdout",
       "text": [
        "Conductor attenuation constant: 0.112 dB/m\n"
       ]
      }
     ],
     "prompt_number": 99
    },
    {
     "cell_type": "heading",
     "level": 2,
     "metadata": {},
     "source": [
      "Page Number: 107 Example 2.23"
     ]
    },
    {
     "cell_type": "code",
     "collapsed": false,
     "input": [
      " \n",
      "#Given\n",
      "c=3e8  #m/s\n",
      "f=9e9  #hz\n",
      "a=5  #cm\n",
      "a1=a/100  #m\n",
      "e=1 \n",
      "mu=1/(c*c) \n",
      "p11=1.841 \n",
      "\n",
      "fc=(p11*c)/(2*pi*a1) \n",
      "#Maximum power transmitted\n",
      "pmax=1790*(a1*a1)*sqrt(1-((fc/f)**2))  \n",
      "print 'Maximum power transmitted:%0.3f'%pmax,'kW'"
     ],
     "language": "python",
     "metadata": {},
     "outputs": [
      {
       "output_type": "stream",
       "stream": "stdout",
       "text": [
        "Maximum power transmitted:4.389 kW\n"
       ]
      }
     ],
     "prompt_number": 100
    },
    {
     "cell_type": "heading",
     "level": 2,
     "metadata": {},
     "source": [
      "Page Number: 108 Example 2.26"
     ]
    },
    {
     "cell_type": "code",
     "collapsed": false,
     "input": [
      " \n",
      "#Given\n",
      "c=3e8  #m/s\n",
      "a=5  #cm\n",
      "a1=a/100  #m\n",
      "f=3e9  #hz\n",
      "p11=1.841 \n",
      "e=1 \n",
      "w=2*pi*f \n",
      "\n",
      "#(i) Cut off frequency\n",
      "fc=(p11*c)/(2*pi*a1) \n",
      "print 'Cut off frequency: %0.3f'%(fc/10**9),'Ghz'\n",
      "\n",
      "#(ii) Guide wavelength\n",
      "bet=sqrt(((w*w)/(c*c))-((p11/a1)**2)) \n",
      "lamg=(2*pi)/bet  \n",
      "lamg1=lamg*100  #cm\n",
      "print 'Guide wavelength: %0.3f'%lamg1, 'cm'\n",
      "\n",
      "#(iii) Wave impedance\n",
      "zte=(w*pi*4e-7)/bet \n",
      "print 'Wave impedance:' ,round(zte),'ohm'"
     ],
     "language": "python",
     "metadata": {},
     "outputs": [
      {
       "output_type": "stream",
       "stream": "stdout",
       "text": [
        "Cut off frequency: 1.758 Ghz\n",
        "Guide wavelength: 12.341 cm\n",
        "Wave impedance: 465.0 ohm\n"
       ]
      }
     ],
     "prompt_number": 101
    },
    {
     "cell_type": "heading",
     "level": 2,
     "metadata": {},
     "source": [
      "Page Number:108  Example 2.25"
     ]
    },
    {
     "cell_type": "code",
     "collapsed": false,
     "input": [
      " \n",
      "#Given\n",
      "c=3e8  #m/s\n",
      "p01=2.405 \n",
      "a=1/100   #cm\n",
      "p11=1.841 \n",
      "\n",
      "fc01=((c*p01)/(2*pi*a)) \n",
      "fc11=((c*p11)/(2*pi*a)) \n",
      "bw=fc01-fc11 \n",
      "print 'Bandwidth: %0.3f'%(bw/10**9), 'Ghz'"
     ],
     "language": "python",
     "metadata": {},
     "outputs": [
      {
       "output_type": "stream",
       "stream": "stdout",
       "text": [
        "Bandwidth: 2.693 Ghz\n"
       ]
      }
     ],
     "prompt_number": 102
    },
    {
     "cell_type": "heading",
     "level": 2,
     "metadata": {},
     "source": [
      "Page Number: 109 Example 2.26"
     ]
    },
    {
     "cell_type": "code",
     "collapsed": false,
     "input": [
      " \n",
      "#Given\n",
      "c=3e8  #m/s\n",
      "a=2.286  #cm\n",
      "f=5e9  #Hz\n",
      "er=2.25  \n",
      "tandel=1e-3 \n",
      "w=2*pi*f \n",
      "mu=4e-7 \n",
      "sig=5.8e7  #s/m\n",
      "\n",
      "lamc=2*a \n",
      "lamm=c/f #m\n",
      "lam=lamm*100 #cm\n",
      "\n",
      "ermax=(lam/a)**2 \n",
      "print 'Maximum value of dielectric constant: %0.3f'%ermax\n",
      "ermin=(lam/(2*a))**2 \n",
      "print 'Minimum value of dielectric constant: %0.3f'%ermin\n",
      "\n",
      "#Guide wavelength\n",
      "lam1=lam/sqrt(er) #cm\n",
      "lamg=lam1/sqrt(1-(lam1/lamc)**2) \n",
      "print 'Guide wavelength: %0.3f'%lamg, 'cm'\n",
      "\n",
      "lamm1=lam1/100 \n",
      "ad=(pi/lamm1)*(tandel/sqrt(1-(lam1/lamc)**2)) \n",
      "print 'ad: %0.3f'%ad,'Np/m'\n",
      "bet=2*pi/lamg \n",
      "print 'Beta: %0.3f'%bet, 'rad/cm'\n",
      "vp=w/(bet*100) \n",
      "print 'Phase velocity: %0.3f'%vp, 'm/s'"
     ],
     "language": "python",
     "metadata": {},
     "outputs": [
      {
       "output_type": "stream",
       "stream": "stdout",
       "text": [
        "Maximum value of dielectric constant: 6.889\n",
        "Minimum value of dielectric constant: 1.722\n",
        "Guide wavelength: 8.259 cm\n",
        "ad: 0.162 Np/m\n",
        "Beta: 0.761 rad/cm\n",
        "Phase velocity: 412949668.492 m/s\n"
       ]
      }
     ],
     "prompt_number": 107
    },
    {
     "cell_type": "heading",
     "level": 2,
     "metadata": {},
     "source": [
      "Page Number: 110 Example 2.27"
     ]
    },
    {
     "cell_type": "code",
     "collapsed": false,
     "input": [
      " \n",
      "#Given\n",
      "c=3e8  #m/s\n",
      "a=0.5  #cm\n",
      "a1=a/100  #m\n",
      "f=14e9  #Hz\n",
      "er=2.08 \n",
      "p11=1.841 \n",
      "p01=2.405 \n",
      "tandel=4e-4 \n",
      "w=2*pi*f \n",
      "u=pi*4e-7 \n",
      "sig=4.1e7 \n",
      "et=377 \n",
      "\n",
      "#(i) Cut off frequencies\n",
      "fcte11=p11*c/(2*pi*a1*sqrt(er)) \n",
      "fctm01=p01*c/(2*pi*a1*sqrt(er)) \n",
      "print 'Cut off frequencies for TE11 mode: %0.3f'%(fcte11/10**9),'Ghz'\n",
      "print 'Cut off frequencies for TM01 mode:%0.3f'%(fctm01/10**9), 'Ghz'\n",
      "\n",
      "#(ii) Overall noise\n",
      "#Dielectric attenuation\n",
      "ad=(pi*sqrt(er)*tandel*f)/(c*sqrt(1-((fcte11/f)**2))) \n",
      "print 'Dielectric attenuation: %0.3f'%(ad*8.686), 'dB/m'\n",
      "\n",
      "#Conductor attenuation\n",
      "k=(2*pi*f*sqrt(er))/c \n",
      "bet=sqrt((k*k)-((p11/a1)**2)) \n",
      "#Surface resistance\n",
      "rs=sqrt((w*u)/(2*sig)) \n",
      "kc2=(p11/a1)**2 \n",
      "\n",
      "ac=(rs*(kc2-((k**2)/((p11**2)-1))))/(a1*k*et*bet) \n",
      "print 'Conductor attenuation: %0.3f'%(ac*8.686), 'dB/m'\n",
      "\n",
      "#Total attenuation\n",
      "a=(ac+ad)*8.686 \n",
      "print 'Total attenuation: %0.3f'%a,'dB/m'\n",
      "ta=a*0.3 \n",
      "print 'Total attenuation in 30 cm line: %0.3f'%ta,'dB'\n",
      "\n",
      "#Answer for condcutor attenuation is wrong in book, hence answer for total loss is different"
     ],
     "language": "python",
     "metadata": {},
     "outputs": [
      {
       "output_type": "stream",
       "stream": "stdout",
       "text": [
        "Cut off frequencies for TE11 mode: 12.190 Ghz\n",
        "Cut off frequencies for TM01 mode:15.924 Ghz\n",
        "Dielectric attenuation: 1.494 dB/m\n",
        "Conductor attenuation: 0.117 dB/m\n",
        "Total attenuation: 1.610 dB/m\n",
        "Total attenuation in 30 cm line: 0.483 dB\n"
       ]
      }
     ],
     "prompt_number": 111
    },
    {
     "cell_type": "heading",
     "level": 2,
     "metadata": {},
     "source": [
      "Page Number: 112 Example 2.28"
     ]
    },
    {
     "cell_type": "code",
     "collapsed": false,
     "input": [
      " \n",
      "#Given\n",
      "c=3e8  #m/s\n",
      "er=9 \n",
      "a=7  #cm\n",
      "a1=a/100  #m\n",
      "b=3.5  #cm\n",
      "b1=b/100  #m\n",
      "ur=1 \n",
      "f1=2e9  #Hz\n",
      "\n",
      "#(i) Cut off frequency\n",
      "lamc=2*a1 \n",
      "fc=c/(lamc*sqrt(ur*er)) \n",
      "print 'Cut off frequency:%0.3f'%(fc/10**9), 'Ghz'\n",
      "\n",
      "#(ii) Phase velocity\n",
      "lam=c/f1 #m\n",
      "lam1=lam*100 #cm\n",
      "lamc1=lamc*100 #cm\n",
      "lamg=lam1/(sqrt((ur*er)-((lamc1/lam1)**2)))  #cm\n",
      "lamg1=lamg/100 #m\n",
      "vp=f1*lamg1 \n",
      "print 'Phase velocity:%0.3f'%vp, 'm/s'\n",
      "\n",
      "#/(iii)Guide wavelength\n",
      "print 'Guide wavelength: %0.3f'%lamg, 'cm'"
     ],
     "language": "python",
     "metadata": {},
     "outputs": [
      {
       "output_type": "stream",
       "stream": "stdout",
       "text": [
        "Cut off frequency:0.714 Ghz\n",
        "Phase velocity:105221784.048 m/s\n",
        "Guide wavelength: 5.261 cm\n"
       ]
      }
     ],
     "prompt_number": 114
    },
    {
     "cell_type": "heading",
     "level": 2,
     "metadata": {},
     "source": [
      "Page Number: 112 Example 2.29"
     ]
    },
    {
     "cell_type": "code",
     "collapsed": false,
     "input": [
      " \n",
      "#Given\n",
      "c=3e8  #m/s\n",
      "fc=9e9  #Hz\n",
      "er=1  \n",
      "er1=4 \n",
      "p11=1.841 \n",
      "\n",
      "#(i) air filled\n",
      "a=(p11*c)/(2*pi*fc*sqrt(er)) \n",
      "print 'Inside diameter if air filled: %0.3f'%(a*100),'cm'\n",
      "#(ii) dielectric field\n",
      "a1=(p11*c)/(2*pi*fc*sqrt(er1)) \n",
      "print 'Inside diameter if dielectric filled: %0.3f'%(a1*100),'cm'\n",
      "\n",
      "#Answers are calculated wrong in book"
     ],
     "language": "python",
     "metadata": {},
     "outputs": [
      {
       "output_type": "stream",
       "stream": "stdout",
       "text": [
        "Inside diameter if air filled: 0.977 cm\n",
        "Inside diameter if dielectric filled: 0.488 cm\n"
       ]
      }
     ],
     "prompt_number": 116
    },
    {
     "cell_type": "heading",
     "level": 2,
     "metadata": {},
     "source": [
      "Page Number: 113 Example 2.30"
     ]
    },
    {
     "cell_type": "code",
     "collapsed": false,
     "input": [
      " \n",
      "#Given\n",
      "c=3e8  #m/s\n",
      "er=2.55 \n",
      "d=1  #mm\n",
      "d1=d/1000 #m\n",
      "\n",
      "#Cut off frequencies\n",
      "fctm0=0 \n",
      "print 'Cut off frequency for mode TM0:',fctm0, 'Ghz'\n",
      "\n",
      "fcte1=c/(4*d1*sqrt(er-1)) \n",
      "print 'Cut off frequency at mode TE1: %0.3f'%(fcte1/10**9),'Ghz'\n",
      "\n",
      "fctm1=c/(2*d1*sqrt(er-1)) \n",
      "print 'Cut off frequency at mode TM1: %0.3f'%(fctm1/10**9),'Ghz'\n",
      "\n",
      "\n",
      "#Answers are calculated wrong in book"
     ],
     "language": "python",
     "metadata": {},
     "outputs": [
      {
       "output_type": "stream",
       "stream": "stdout",
       "text": [
        "Cut off frequency for mode TM0: 0 Ghz\n",
        "Cut off frequency at mode TE1: 60.241 Ghz\n",
        "Cut off frequency at mode TM1: 120.483 Ghz\n"
       ]
      }
     ],
     "prompt_number": 117
    },
    {
     "cell_type": "heading",
     "level": 2,
     "metadata": {},
     "source": [
      "Page Number: 113 Example 2.31"
     ]
    },
    {
     "cell_type": "code",
     "collapsed": false,
     "input": [
      " \n",
      "#Given,\n",
      "c=3e8  #m/s\n",
      "f=15e9  #hz\n",
      "d=5  #mm\n",
      "d1=d/1000  #m\n",
      "\n",
      "#Cut off frequency\n",
      "fc=0.8*f \n",
      "#Dielctric constant\n",
      "er=(c/(2*d1*fc))**2+1 \n",
      "print 'Dielectric constant:' ,er"
     ],
     "language": "python",
     "metadata": {},
     "outputs": [
      {
       "output_type": "stream",
       "stream": "stdout",
       "text": [
        "Dielectric constant: 7.25\n"
       ]
      }
     ],
     "prompt_number": 118
    }
   ],
   "metadata": {}
  }
 ]
}