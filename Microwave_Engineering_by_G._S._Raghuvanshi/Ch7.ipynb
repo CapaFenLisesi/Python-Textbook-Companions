{
 "metadata": {
  "name": "",
  "signature": "sha256:371baee58886405b4aa7513c033038892ef3ab34ea90022bb1b212fed658f276"
 },
 "nbformat": 3,
 "nbformat_minor": 0,
 "worksheets": [
  {
   "cells": [
    {
     "cell_type": "heading",
     "level": 1,
     "metadata": {},
     "source": [
      "Ch-7 : Cross Field Microwave tube M Type"
     ]
    },
    {
     "cell_type": "heading",
     "level": 2,
     "metadata": {},
     "source": [
      "Page Number: 369 Example 7.1"
     ]
    },
    {
     "cell_type": "code",
     "collapsed": false,
     "input": [
      "from __future__ import division \n",
      "from math import pi\n",
      "#Given\n",
      "f=10e9  #Hz\n",
      "C=2.5e-12  #F\n",
      "Gr=2e-4  #mho\n",
      "Ge=0.025e-3  #mho\n",
      "Ploss=18.5e3  #W\n",
      "V0=5.5e3  #V\n",
      "I0=4.5  #A\n",
      "\n",
      "w=2*pi*f \n",
      "\n",
      "#(i) Unloaded Q\n",
      "Qun=(w*C)/Gr \n",
      "print 'Unloaded quality factor: %0.3f'%Qun\n",
      "\n",
      "#External Q\n",
      "Qe=(w*C)/Ge \n",
      "print 'External quality factor: %0.3f'%Qe\n",
      "\n",
      "#(ii) Circuit effciency\n",
      "n=1/(1+(Qe/Qun)) \n",
      "print 'Circuit effciency: %0.3f'%(n*100), '%'\n",
      "\n",
      "#Electronic effciency\n",
      "ne=1-(Ploss/(V0*I0)) \n",
      "print 'Electronic effciency: %0.3f'%(ne*100), '%'\n",
      "\n",
      "#Answer for Qe is given as 6285.6 but it should be 6283.1 "
     ],
     "language": "python",
     "metadata": {},
     "outputs": [
      {
       "output_type": "stream",
       "stream": "stdout",
       "text": [
        "Unloaded quality factor: 785.398\n",
        "External quality factor: 6283.185\n",
        "Circuit effciency: 11.111 %\n",
        "Electronic effciency: 25.253 %\n"
       ]
      }
     ],
     "prompt_number": 4
    },
    {
     "cell_type": "heading",
     "level": 2,
     "metadata": {},
     "source": [
      "Page Number: 370 Example 7.2"
     ]
    },
    {
     "cell_type": "code",
     "collapsed": false,
     "input": [
      "from math import sqrt \n",
      "#Given\n",
      "V0=25e3  #V\n",
      "ebym=1.76e11 \n",
      "B0=0.0336  #T\n",
      "a=5e-2  #m\n",
      "b=10e-2  #m\n",
      "\n",
      "#(i) Cut off voltage\n",
      "x=(b/((b*b)-(a*a)))**2 \n",
      "V=(ebym*B0*B0)/(8*x) \n",
      "print 'Cut off voltage: %0.3f'%(V/1000),'KV'\n",
      "\n",
      "#(ii) Cut off magnetic field\n",
      "y=((8*V0*x)/ebym) \n",
      "B=sqrt(y) \n",
      "print 'Cut off magnetic field: %0.3f'%(B*1000),'mT'"
     ],
     "language": "python",
     "metadata": {},
     "outputs": [
      {
       "output_type": "stream",
       "stream": "stdout",
       "text": [
        "Cut off voltage: 139.709 KV\n",
        "Cut off magnetic field: 14.213 mT\n"
       ]
      }
     ],
     "prompt_number": 6
    },
    {
     "cell_type": "heading",
     "level": 2,
     "metadata": {},
     "source": [
      "Page Number: 371 Example 7.3"
     ]
    },
    {
     "cell_type": "code",
     "collapsed": false,
     "input": [
      " \n",
      "#Given\n",
      "Pout=250e3  #W\n",
      "V0=25e3  #V\n",
      "I0=25  #A\n",
      "ebym=1.76e11 \n",
      "B0=0.035  #T\n",
      "a=4e-2  #m\n",
      "b=8e-2  #m\n",
      "\n",
      "\n",
      "#(i) Efficiency\n",
      "n=Pout/(V0*I0) \n",
      "print 'Efficiency:' ,n*100,'%'\n",
      "\n",
      "#(ii) Cyclotron frequency\n",
      "f=(ebym*B0)/(2*pi) \n",
      "print 'Cyclotron frequency: %0.3f'%(f/10**9),'Ghz'\n",
      "\n",
      "#(iii) Cut off magnetic field\n",
      "x=(b/((b*b)-(a*a)))**2 \n",
      "y=((8*V0*x)/ebym) \n",
      "B=sqrt(y) \n",
      "print 'Cut off magnetic field: %0.3f'%(B*1000),'mT'\n",
      "\n",
      "#(iv) Cut off voltage\n",
      "V=(ebym*B0*B0)/(8*x) \n",
      "print 'Cut off voltage:' ,round(V/1000),'KV'\n",
      "\n",
      "#Answer for Cyclotron frequency is is given as 9.8GHz but it should be 0.98 GHz as value of B0=0.035 not 0.35 as taken in part 2"
     ],
     "language": "python",
     "metadata": {},
     "outputs": [
      {
       "output_type": "stream",
       "stream": "stdout",
       "text": [
        "Efficiency: 40.0 %\n",
        "Cyclotron frequency: 0.980 Ghz\n",
        "Cut off magnetic field: 17.767 mT\n",
        "Cut off voltage: 97.0 KV\n"
       ]
      }
     ],
     "prompt_number": 8
    },
    {
     "cell_type": "heading",
     "level": 2,
     "metadata": {},
     "source": [
      "Page Number: 372 Example 7.4"
     ]
    },
    {
     "cell_type": "code",
     "collapsed": false,
     "input": [
      " \n",
      "#Given\n",
      "Gr=3e-4  #mho\n",
      "Ge=3e-5  #mho\n",
      "Ploss=200e3  #W\n",
      "V0=22e3  #V\n",
      "I0=28  #A\n",
      "\n",
      "#(i) Circuit effciency\n",
      "n=1/(1+(Gr/Ge)) \n",
      "print 'Circuit effciency: %0.3f'%(n*100), '%'\n",
      "\n",
      "#(ii) Electronic effciency\n",
      "ne=1-(Ploss/(V0*I0)) \n",
      "print 'Electronic effciency: %0.3f'%(ne*100),'%'"
     ],
     "language": "python",
     "metadata": {},
     "outputs": [
      {
       "output_type": "stream",
       "stream": "stdout",
       "text": [
        "Circuit effciency: 9.091 %\n",
        "Electronic effciency: 67.532 %\n"
       ]
      }
     ],
     "prompt_number": 9
    },
    {
     "cell_type": "heading",
     "level": 2,
     "metadata": {},
     "source": [
      "Page Number: 372 Example 7.5"
     ]
    },
    {
     "cell_type": "code",
     "collapsed": false,
     "input": [
      " \n",
      "#Given\n",
      "f=9e9  #Hz\n",
      "C=2.5e-12  #F\n",
      "Gr=2e-4  #mho\n",
      "Ge=2.5e-5  #mho\n",
      "Ploss=18.5e3  #W\n",
      "V0=5.5e3  #V\n",
      "I0=4.5  #A\n",
      "\n",
      "#(i) Angular resonant frequency\n",
      "w=2*pi*f \n",
      "print 'Angular resonant frequency: %0.3f'%w, 'rad/s'\n",
      "\n",
      "#(ii) Unloaded Q\n",
      "Qun=round((w*C)/Gr) \n",
      "print 'Unloaded quality factor:' ,Qun\n",
      "\n",
      "#(iii) Loaded Q\n",
      "Ql=round((w*C)/(Gr+Ge)) \n",
      "print 'Loaded quality factor:' ,Ql\n",
      "\n",
      "#(iv) External Q\n",
      "Qe=(w*C)/Ge \n",
      "print 'External quality factor: %0.3f'%Qe\n",
      "\n",
      "#(v) Circuit effciency\n",
      "n=1/(1+(Qe/Qun)) \n",
      "print 'Circuit effciency: %0.3f'%(n*100),'%'\n",
      "\n",
      "#(vi) Electronic effciency\n",
      "ne=1-(Ploss/(V0*I0)) \n",
      "print 'Electronic effciency: %0.3f'%(ne*100), '%'\n",
      "\n",
      "#Answer for external Q is given as 56.57 but it should be 5654.8"
     ],
     "language": "python",
     "metadata": {},
     "outputs": [
      {
       "output_type": "stream",
       "stream": "stdout",
       "text": [
        "Angular resonant frequency: 56548667764.616 rad/s\n",
        "Unloaded quality factor: 707.0\n",
        "Loaded quality factor: 628.0\n",
        "External quality factor: 5654.867\n",
        "Circuit effciency: 11.113 %\n",
        "Electronic effciency: 25.253 %\n"
       ]
      }
     ],
     "prompt_number": 11
    },
    {
     "cell_type": "heading",
     "level": 2,
     "metadata": {},
     "source": [
      "Page Number: 373 Example 7.6"
     ]
    },
    {
     "cell_type": "code",
     "collapsed": false,
     "input": [
      " \n",
      "#Given\n",
      "f=4e9  #Hz\n",
      "V0=25e3  #V\n",
      "I0=3  #A\n",
      "B0=0.3  #T\n",
      "D=0.8 \n",
      "Z0=50  #ohm\n",
      "ebym=1.76e11 \n",
      "\n",
      "#(i) Electron beam phase constant\n",
      "be=(2*pi*f)/sqrt(2*ebym*V0) \n",
      "print 'Electron beam phase constant: %0.3f'%be,'rad/s'\n",
      "\n",
      "#(ii) Gain Parameter\n",
      "C=((I0*Z0)/(4*V0))**(1/3) \n",
      "print 'Gain Parameter: %0.3f'%C\n",
      "\n",
      "#(iii) Length for oscillation condition\n",
      "N=1.25/D \n",
      "l=(2*pi*N)/be \n",
      "print 'Length for oscillation condition: %0.3f'%l,'m'"
     ],
     "language": "python",
     "metadata": {},
     "outputs": [
      {
       "output_type": "stream",
       "stream": "stdout",
       "text": [
        "Electron beam phase constant: 267.916 rad/s\n",
        "Gain Parameter: 0.114\n",
        "Length for oscillation condition: 0.037 m\n"
       ]
      }
     ],
     "prompt_number": 14
    },
    {
     "cell_type": "heading",
     "level": 2,
     "metadata": {},
     "source": [
      "Page Number: 374 Example 7.7"
     ]
    },
    {
     "cell_type": "code",
     "collapsed": false,
     "input": [
      " \n",
      "#Given\n",
      "N=20 \n",
      "t=0.2e-6  #s\n",
      "DC=0.001  #Duty cycle\n",
      "\n",
      "#(i) Agile excursion\n",
      "A=N/t \n",
      "print 'Agile excursion:' ,A/10**6,'MHz'\n",
      "\n",
      "#(ii) Signal frequency\n",
      "f=DC/t \n",
      "print 'Signal frequency:',f/1000, 'Khz'\n",
      "\n",
      "#(iii) Agile rate\n",
      "R=f/(2*N) \n",
      "print 'Agile Rate:',R, 'Hz'"
     ],
     "language": "python",
     "metadata": {},
     "outputs": [
      {
       "output_type": "stream",
       "stream": "stdout",
       "text": [
        "Agile excursion: 100.0 MHz\n",
        "Signal frequency: 5.0 Khz\n",
        "Agile Rate: 125.0 Hz\n"
       ]
      }
     ],
     "prompt_number": 15
    },
    {
     "cell_type": "heading",
     "level": 2,
     "metadata": {},
     "source": [
      "Page Number: 375 Example 7.8"
     ]
    },
    {
     "cell_type": "code",
     "collapsed": false,
     "input": [
      "from math import log10 \n",
      "#Given\n",
      "V0=1.8e3  #V\n",
      "I0=1.3  #A\n",
      "Pin=70  #W\n",
      "n=0.22 \n",
      "\n",
      "#(i) Power generated\n",
      "Pgen=n*I0*V0 \n",
      "print 'Power generated:' ,Pgen,'W'\n",
      "\n",
      "#(ii) Total RF power generated\n",
      "Pt=Pin+Pgen \n",
      "print 'Total RF power generated:' ,Pt,'W'\n",
      "\n",
      "#(iii) Power gain\n",
      "G=Pt/Pin \n",
      "Gdb=10*log10(G) \n",
      "print 'Power Gain: %0.3f'%Gdb,'dB'"
     ],
     "language": "python",
     "metadata": {},
     "outputs": [
      {
       "output_type": "stream",
       "stream": "stdout",
       "text": [
        "Power generated: 514.8 W\n",
        "Total RF power generated: 584.8 W\n",
        "Power Gain: 9.219 dB\n"
       ]
      }
     ],
     "prompt_number": 16
    },
    {
     "cell_type": "heading",
     "level": 2,
     "metadata": {},
     "source": [
      "Page Number: 375 Example 7.9"
     ]
    },
    {
     "cell_type": "code",
     "collapsed": false,
     "input": [
      " \n",
      "#Given\n",
      "V0=10e3  #V\n",
      "I0=2  #A\n",
      "b=4e-2  #m\n",
      "a=3e-2  #m\n",
      "B0=0.01  #Wb/m2\n",
      "ebym=1.759e11 \n",
      "\n",
      "#Cut off voltage\n",
      "x=1-((b*b)/(a*a)) \n",
      "V=(ebym*(B0**2)*(a**2)*(x**2))/8 \n",
      "KV=V/1000  #Kilovolts\n",
      "print 'Cut off voltage: %0.3f'%KV, 'KV'\n",
      "\n",
      "#Magnetic flux density\n",
      "y=-sqrt((8*V0)/ebym) \n",
      "B=y/(a*x) \n",
      "print 'Magnetic flux density: %0.3f'%B, 'T'"
     ],
     "language": "python",
     "metadata": {},
     "outputs": [
      {
       "output_type": "stream",
       "stream": "stdout",
       "text": [
        "Cut off voltage: 1.197 KV\n",
        "Magnetic flux density: 0.029 T\n"
       ]
      }
     ],
     "prompt_number": 18
    },
    {
     "cell_type": "heading",
     "level": 2,
     "metadata": {},
     "source": [
      "Page Number: 376 Example 7.10"
     ]
    },
    {
     "cell_type": "code",
     "collapsed": false,
     "input": [
      " \n",
      "#Given\n",
      "V0=10e3  #V\n",
      "I0=2  #A\n",
      "b=4e-2  #m\n",
      "a=3e-2  #m\n",
      "B0=0.01  #Wb/m2\n",
      "ebym=1.759e11 \n",
      "\n",
      "#Cut off voltage\n",
      "x=1-((b*b)/(a*a)) \n",
      "V=(ebym*(B0**2)*(a**2)*(x**2))/8 \n",
      "print 'Cut off voltage: %0.3f'%(V/1000), 'KV'\n",
      "\n",
      "#Magnetic flux density\n",
      "y=-sqrt((8*V0)/ebym) \n",
      "B=y/(a*x) \n",
      "print 'Magnetic flux density: %0.3f'%B, 'T'"
     ],
     "language": "python",
     "metadata": {},
     "outputs": [
      {
       "output_type": "stream",
       "stream": "stdout",
       "text": [
        "Cut off voltage: 1.197 KV\n",
        "Magnetic flux density: 0.029 T\n"
       ]
      }
     ],
     "prompt_number": 20
    },
    {
     "cell_type": "heading",
     "level": 2,
     "metadata": {},
     "source": [
      "Page Number: 376 Example 7.11"
     ]
    },
    {
     "cell_type": "code",
     "collapsed": false,
     "input": [
      " \n",
      "#Given\n",
      "e=1.6e-19  #J\n",
      "B0=0.01  #Wb/m2\n",
      "d=6e-2  #m\n",
      "V0=20e3  #V\n",
      "ebym=1.759e11 \n",
      "\n",
      "#(i) Hull cut off voltage\n",
      "Voc=(B0*B0*d*d*ebym)/2 \n",
      "print 'Hull cut off voltage:' ,Voc/1000,'KV'\n",
      "\n",
      "#(ii) Hull magnetic field\n",
      "Boc=sqrt((2*V0)/ebym)/d \n",
      "print 'Hull magnetic field: %0.3f'%(Boc*1000),'mT'"
     ],
     "language": "python",
     "metadata": {},
     "outputs": [
      {
       "output_type": "stream",
       "stream": "stdout",
       "text": [
        "Hull cut off voltage: 31.662 KV\n",
        "Hull magnetic field: 7.948 mT\n"
       ]
      }
     ],
     "prompt_number": 21
    },
    {
     "cell_type": "heading",
     "level": 2,
     "metadata": {},
     "source": [
      "Page Number: 377 Example 7.12"
     ]
    },
    {
     "cell_type": "code",
     "collapsed": false,
     "input": [
      " \n",
      "#Given\n",
      "V0=10e3  #V\n",
      "V01=5e3  #V\n",
      "I0=2  #A\n",
      "b=3e-2  #m\n",
      "a=2e-2  #m\n",
      "B0=0.01  #Wb/m2\n",
      "ebym=1.759e11 \n",
      "\n",
      "#Cut off voltage\n",
      "x=1-((b*b)/(a*a)) \n",
      "V=(ebym*(B0**2)*(a**2)*(x**2))/8 \n",
      "KV=V/1000  #Kilovolts\n",
      "print 'Cut off voltage: %0.3f'%KV,'KV'\n",
      "\n",
      "#Magnetic flux density\n",
      "y=-sqrt((8*V01)/ebym) \n",
      "B=y/(a*x) \n",
      "print 'Magnetic flux density: %0.3f'%B, 'Wb/m2'\n",
      "\n",
      "#Answer in book is wrong for Magnetic flux density as a*a ,where a=2, is taken as 5, which should be 4"
     ],
     "language": "python",
     "metadata": {},
     "outputs": [
      {
       "output_type": "stream",
       "stream": "stdout",
       "text": [
        "Cut off voltage: 1.374 KV\n",
        "Magnetic flux density: 0.019 Wb/m2\n"
       ]
      }
     ],
     "prompt_number": 23
    },
    {
     "cell_type": "heading",
     "level": 2,
     "metadata": {},
     "source": [
      "Page Number: 377 Example 7.13"
     ]
    },
    {
     "cell_type": "code",
     "collapsed": false,
     "input": [
      "#Given\n",
      "N=15 \n",
      "t=0.3e-6  #s\n",
      "DC=0.0011  #Duty cycle\n",
      "\n",
      "#(i) Agile excursion\n",
      "A=N/t \n",
      "print 'Agile excursion:',A/10**6, 'MHz'\n",
      "\n",
      "#(ii) Pulse to pulse frequency seperation\n",
      "fp=1/t \n",
      "print 'Pulse to pulse frequency seperation: %0.3f'%(fp/10**6),'Mhz'\n",
      "\n",
      "#(iii) Signal frequency\n",
      "f=DC/t \n",
      "print 'Signal frequency: %0.3f'%(f/1000), 'Khz'\n",
      "\n",
      "#(iv) Agile rate\n",
      "Tp=N/f \n",
      "R=1/(2*Tp) \n",
      "print 'Agile Rate: %0.3f'%R,'ps'"
     ],
     "language": "python",
     "metadata": {},
     "outputs": [
      {
       "output_type": "stream",
       "stream": "stdout",
       "text": [
        "Agile excursion: 50.0 MHz\n",
        "Pulse to pulse frequency seperation: 3.333 Mhz\n",
        "Signal frequency: 3.667 Khz\n",
        "Agile Rate: 122.222 ps\n"
       ]
      }
     ],
     "prompt_number": 26
    }
   ],
   "metadata": {}
  }
 ]
}
