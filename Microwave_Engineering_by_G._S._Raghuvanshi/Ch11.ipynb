{
 "metadata": {
  "name": "",
  "signature": "sha256:dcd1524aea83bc52fd041431920005679ad317fcac49d15da415d1adac59bbe9"
 },
 "nbformat": 3,
 "nbformat_minor": 0,
 "worksheets": [
  {
   "cells": [
    {
     "cell_type": "heading",
     "level": 1,
     "metadata": {},
     "source": [
      "Ch-11 : Microwave Integrated Circuits"
     ]
    },
    {
     "cell_type": "heading",
     "level": 2,
     "metadata": {},
     "source": [
      "Page Number: 595 Example 11.1"
     ]
    },
    {
     "cell_type": "code",
     "collapsed": false,
     "input": [
      "from __future__ import division \n",
      "#Given\n",
      "fabc=10000  #Rs/waffer\n",
      "c=100 \n",
      "y=40/100  \n",
      "coc=fabc/(y*c) \n",
      "#Cost of one chip\n",
      "print 'Cost of one chip:' ,coc,'Rs'\n",
      "\n",
      "#Market Cost\n",
      "mc=2*coc \n",
      "print 'Market costof one chip:' ,mc,'Rs'"
     ],
     "language": "python",
     "metadata": {},
     "outputs": [
      {
       "output_type": "stream",
       "stream": "stdout",
       "text": [
        "Cost of one chip: 250.0 Rs\n",
        "Market costof one chip: 500.0 Rs\n"
       ]
      }
     ],
     "prompt_number": 1
    },
    {
     "cell_type": "heading",
     "level": 2,
     "metadata": {},
     "source": [
      "Page Number: 595 Example 11.2"
     ]
    },
    {
     "cell_type": "code",
     "collapsed": false,
     "input": [
      "from math import sqrt, floor\n",
      "#Given\n",
      "c=5000  #Rs\n",
      "S=0.6  #cm\n",
      "#Sides\n",
      "x=3  #cm\n",
      "y=2.54  #cm \n",
      "#break even cost\n",
      "bec=250 \n",
      "#hence, chips/waffers needed\n",
      "cpw=c/bec \n",
      "D=x*y \n",
      "#For given Area, atleast 40 chips are required\n",
      "n=2*cpw \n",
      "\n",
      "#Diameter\n",
      "N=D/(sqrt(2)*S) \n",
      "#Lower round off\n",
      "NN=floor(N) \n",
      "#Chips possible\n",
      "cp=NN**2 \n",
      "\n",
      "#Yield\n",
      "Y=(n/cp)*100  #Percent\n",
      "print 'Yield:',Y, '%'"
     ],
     "language": "python",
     "metadata": {},
     "outputs": [
      {
       "output_type": "stream",
       "stream": "stdout",
       "text": [
        "Yield: 62.5 %\n"
       ]
      }
     ],
     "prompt_number": 2
    }
   ],
   "metadata": {}
  }
 ]
}
