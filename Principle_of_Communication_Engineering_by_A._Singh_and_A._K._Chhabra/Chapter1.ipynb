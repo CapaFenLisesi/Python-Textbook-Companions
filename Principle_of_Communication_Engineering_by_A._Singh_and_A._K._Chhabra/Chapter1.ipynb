{
 "cells": [
  {
   "cell_type": "markdown",
   "metadata": {},
   "source": [
    "# Chapter 1 : Signals"
   ]
  },
  {
   "cell_type": "markdown",
   "metadata": {},
   "source": [
    "## Example1,page no12"
   ]
  },
  {
   "cell_type": "code",
   "execution_count": 22,
   "metadata": {
    "collapsed": false
   },
   "outputs": [
    {
     "name": "stdout",
     "output_type": "stream",
     "text": [
      "The value of the above integral is:C=0\n",
      " Since C=0, the two functions: \n",
      "  f(t)=sin(n*wo*t)\n",
      "  g(t)=cos(n*wo*t) are Orthogonal\n"
     ]
    }
   ],
   "source": [
    "from numpy.random import randint\n",
    "from numpy import pi, arange\n",
    "from sympy.mpmath import quad, sin, cos\n",
    "#Given:\n",
    "n=round(randint(1000))#any integers\n",
    "m=round(randint(1000))#any integers\n",
    "wo=2*(n+m)*pi#Angular Freq\n",
    "t=arange(0,2*pi/wo,0.01)\n",
    "to=0;t1=2*pi/wo\n",
    "C= quad(lambda t:sin(n*wo*t)*cos(m*wo*t),[to,t1])# integrating sin(n*wo*t)*cos(m*wo*t) function\n",
    "print \"The value of the above integral is:C=%d\\n Since C=%d, the two functions: \\n  f(t)=sin(n*wo*t)\\n  g(t)=cos(n*wo*t) are Orthogonal\"%(C,C)"
   ]
  },
  {
   "cell_type": "markdown",
   "metadata": {},
   "source": [
    "## Example2,page no 12"
   ]
  },
  {
   "cell_type": "code",
   "execution_count": 23,
   "metadata": {
    "collapsed": false
   },
   "outputs": [
    {
     "name": "stdout",
     "output_type": "stream",
     "text": [
      "The optimum value of C to minimise the mean square error is:\n",
      " C= 1.273240\n"
     ]
    }
   ],
   "source": [
    "from numpy import arange,pi\n",
    "from sympy.mpmath import quad, sin, cos\n",
    "#Given:\n",
    "# Curve on page no 9....fig 1.6\n",
    "t=arange(0,2*pi,0.1)\n",
    "t0=0\n",
    "t1=2*pi\n",
    "C=((quad(lambda t: sin(t),[t0,t1/2])-quad(lambda t: sin(t),[t1/2,t1]))/quad(lambda t :(sin(t))**2,[t0,t1]))\n",
    "\n",
    "print \"The optimum value of C to minimise the mean square error is:\\n C= %f\"%(C)"
   ]
  },
  {
   "cell_type": "markdown",
   "metadata": {},
   "source": [
    "## Example4,page no12"
   ]
  },
  {
   "cell_type": "code",
   "execution_count": 5,
   "metadata": {
    "collapsed": false
   },
   "outputs": [
    {
     "name": "stdout",
     "output_type": "stream",
     "text": [
      "P0 = 1\n",
      "P1 = t\n",
      "P2 = 1.5*t**2 - 0.5\n",
      "P3 = 2.5*t**2 - 1.5\n",
      "\n",
      "The Constant coeff (Cn) values are :\n",
      "C0 = 0.0\n",
      "C1 = -1.5\n",
      "C2 = 0.0\n",
      "C3 = 0.875\n",
      "\n",
      "f(t)= 0*P0 + -1.500000*P1 + 0*P2 + 0.875000*P3\n"
     ]
    }
   ],
   "source": [
    "from sympy import symbols,solve\n",
    "from sympy.mpmath import quad\n",
    "from numpy import arange\n",
    "#Given:\n",
    "t=arange(-1,1.01,0.01)\n",
    "t0=-1\n",
    "t1=1\n",
    "# Legendre Polynomial\n",
    "t=symbols(\"t\")\n",
    "P0=1\n",
    "P1=t\n",
    "P2=-0.5+1.5*t**2\n",
    "P3=-1.5+2.5*t**2\n",
    "print \"P0 =\",P0\n",
    "print \"P1 =\",P1\n",
    "print \"P2 =\",P2\n",
    "print \"P3 =\",P3\n",
    "#The Constant coeff (Cn)\n",
    "C0=0.5*(quad(lambda t:1,[-1,0])+quad(lambda t:-1,[0,1]))\n",
    "C1=1.5*(quad(lambda t:t,[-1,0])+quad(lambda t:-t,[0,1]))\n",
    "C2=2.5*(quad(lambda t:(1.5*t**2)-0.5,[-1,0])+quad(lambda t:-(1.5*t**2)+0.5,[0,1]))\n",
    "C3=3.5*(quad(lambda t:(2.5*t**3)-(1.5*t),[-1,0])+quad(lambda t:-(2.5*t**3)+(1.5*t),[0,1]))\n",
    "print \"\\nThe Constant coeff (Cn) values are :\"\n",
    "print \"C0 =\",C0\n",
    "print \"C1 =\",C1\n",
    "print \"C2 =\",C2\n",
    "print \"C3 =\",C3\n",
    "print \"\\nf(t)= %d*%s + %f*%s + %d*%s + %f*%s\"%(C0,\"P0\",C1,\"P1\",C2,\"P2\",C3,\"P3\")"
   ]
  },
  {
   "cell_type": "markdown",
   "metadata": {},
   "source": [
    "## Example 5, page no 19"
   ]
  },
  {
   "cell_type": "code",
   "execution_count": 10,
   "metadata": {
    "collapsed": false
   },
   "outputs": [
    {
     "name": "stdout",
     "output_type": "stream",
     "text": [
      "The value of a0 is: 0.500000\n",
      "\n",
      "The values of a(n):   (upto n=10)\n",
      "0\n",
      "0\n",
      "0\n",
      "0\n",
      "0\n",
      "0\n",
      "0\n",
      "0\n",
      "0\n",
      "0\n",
      "The values of b(n):    (upto n=10)\n",
      "-0.318308838986\n",
      "-0.159152848691\n",
      "-0.106100153783\n",
      "-0.0795732827116\n",
      "-0.0636567411629\n",
      "-0.0530453643632\n",
      "-0.0454655102642\n",
      "-0.0397803578398\n",
      "-0.0353583398512\n",
      "-0.0318205159538\n",
      "The trigonometric Fourier series for given function\n",
      " can be written as:\n",
      "\n",
      "f(t)=-0.318309-0.159153sin(2*pi*t)-0.106100sin(4*pi*t)\n",
      "-0.079573sin(6*pi*t)-0.063657sin(8*pi*t)-0.053045sin(10*pi*t)\n",
      "-0.045466sin(12*pi*t)-0.039780sin(14*pi*t).......\n"
     ]
    }
   ],
   "source": [
    "from math import pi,cos,sin\n",
    "from numpy import arange,trapz\n",
    "#given\n",
    "T=1\n",
    "t0=0\n",
    "wo=2*pi\n",
    "P=1\n",
    "t=arange(0,1.001,0.001)\n",
    "f=P*t\n",
    "#The trigonometric Fourier series coeff for given function\n",
    "a0=(1/T)*trapz(t,f)\n",
    "a=[]\n",
    "a.append(0)\n",
    "for n in range(1,11):\n",
    "    f1=[]\n",
    "    for tt in t:\n",
    "        f1.append((P*tt)*cos(wo*n*tt))\n",
    "    a.append((2/T)*trapz(t,f1))\n",
    "    \n",
    "    if a[(n)]<2.01:\n",
    "        a[(n)]=0\n",
    "    \n",
    "b=[]\n",
    "b.append(0)\n",
    "for n in range(1,11):\n",
    "    f2=[]\n",
    "    for tt in t:\n",
    "        f2.append((P*tt)*sin(2*pi*(1/T)*n*tt))\n",
    "    b.append(-(2/T)*trapz(t,f2))\n",
    "\n",
    "# Displaying trigonometric Fourier series coeff\n",
    "print \"The value of a0 is: %f\\n\"%(a0)\n",
    "print \"The values of a(n):   (upto n=10)\"\n",
    "for n in range(1,11):\n",
    "    print a[(n)]\n",
    "\n",
    "print \"The values of b(n):    (upto n=10)\"\n",
    "for n in range(1,11):\n",
    "    print b[(n)]\n",
    "\n",
    "print \"The trigonometric Fourier series for given function\\n can be written as:\\n\"\n",
    "print \"f(t)=%f%fsin(2*pi*t)%fsin(4*pi*t)\\n%fsin(6*pi*t)%fsin(8*pi*t)%fsin(10*pi*t)\\n%fsin(12*pi*t)%fsin(14*pi*t).......\"%(b[1],b[2],b[3],b[4],b[5],b[6],b[7],b[8])"
   ]
  }
 ],
 "metadata": {
  "kernelspec": {
   "display_name": "Python 2",
   "language": "python",
   "name": "python2"
  },
  "language_info": {
   "codemirror_mode": {
    "name": "ipython",
    "version": 2
   },
   "file_extension": ".py",
   "mimetype": "text/x-python",
   "name": "python",
   "nbconvert_exporter": "python",
   "pygments_lexer": "ipython2",
   "version": "2.7.9"
  }
 },
 "nbformat": 4,
 "nbformat_minor": 0
}
