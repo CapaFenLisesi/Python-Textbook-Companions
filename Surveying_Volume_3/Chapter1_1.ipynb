{
 "metadata": {
  "name": "S3-C1"
 },
 "nbformat": 3,
 "nbformat_minor": 0,
 "worksheets": [
  {
   "cells": [
    {
     "cell_type": "heading",
     "level": 1,
     "metadata": {},
     "source": "Electronic Distance Measurement"
    },
    {
     "cell_type": "heading",
     "level": 2,
     "metadata": {},
     "source": "Example 1.1,Page 22"
    },
    {
     "cell_type": "code",
     "collapsed": false,
     "input": "#initialisation of variable\nT=273+25.0#temperature \np=752.0;#pressure mm Hg\nNo=294.0e-6;\nns=1.000284;\nD1=1438.254;#recorded distance in m\nh=263.42-243.25;#height difference in m\nR=6370e3;#radius of earth in m\n\n#calculation\nn=1+No*(273/T)*(p/760);\nD=D1*ns/n;\ncg=-h**2/2/D;\nHm=263.42/2+243.25/2;\nD=D+cg;\nch=-D*Hm/R\nEL=D+ch;\n\n#result\nprint \"equivalent length in m\",round(EL,3)",
     "language": "python",
     "metadata": {},
     "outputs": [
      {
       "output_type": "stream",
       "stream": "stdout",
       "text": "equivalent length in m 1438.081\n"
      }
     ],
     "prompt_number": 2
    },
    {
     "cell_type": "heading",
     "level": 2,
     "metadata": {},
     "source": "Example 1.2,Page 22"
    },
    {
     "cell_type": "code",
     "collapsed": false,
     "input": "#initialisation of variable\nT=273+18.8;#temperature\np=713;\ne=3;\nc=299792.5e3;#speed of light in km/s\nf=11e6;#frequency in Hz\n\n#calculation\nn=1+(103.49/T*(p-e)+86.26/T*(1+5748.0/T)*e)/1e6;\nV=c/n;\nl=V/f;\n\n#result\nprint \"wavelenght of light in m\",round(l,3)",
     "language": "python",
     "metadata": {},
     "outputs": [
      {
       "output_type": "stream",
       "stream": "stdout",
       "text": "27.247 wavelenght of light in m\n"
      }
     ],
     "prompt_number": 4
    },
    {
     "cell_type": "heading",
     "level": 2,
     "metadata": {},
     "source": "Example 1.3,Page 23"
    },
    {
     "cell_type": "code",
     "collapsed": false,
     "input": "#initialisation of variable\nT=273.0+30.0;#temperature\nl=0.85;#wavelength in m\np=752.4;\nc=299792.5e3;#speed of light in km/s\nf=24e6;#frequency in Hz\n\n#calculation\nno=1+(287.604+4.8864/l**2+0.068/l**4)/1e6;\nns=1+(no-1)*273/T*p/760;\nV=c/ns;\nl=V/f;\n\n#result\nprint \"wavelength of light in m\",round(l,3)",
     "language": "python",
     "metadata": {},
     "outputs": [
      {
       "output_type": "stream",
       "stream": "stdout",
       "text": "wavelenght of light in m 12.488\n"
      }
     ],
     "prompt_number": 1
    }
   ],
   "metadata": {}
  }
 ]
}