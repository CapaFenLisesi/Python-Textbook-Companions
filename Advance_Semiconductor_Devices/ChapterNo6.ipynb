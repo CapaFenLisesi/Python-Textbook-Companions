{
 "metadata": {
  "name": ""
 },
 "nbformat": 3,
 "nbformat_minor": 0,
 "worksheets": [
  {
   "cells": [
    {
     "cell_type": "markdown",
     "metadata": {},
     "source": [
      "<h1> Chpater No 6: Microwave Diodes <h1>"
     ]
    },
    {
     "cell_type": "heading",
     "level": 2,
     "metadata": {},
     "source": [
      "Example 6.1, Page No 254"
     ]
    },
    {
     "cell_type": "code",
     "collapsed": false,
     "input": [
      "import math\n",
      "\n",
      "#initialisation of variables\n",
      "C1_min= 5.0     #in pF\n",
      "C1_max= 50.0  #in pF\n",
      "C2_min= 5.0  #in pF\n",
      "C2_max= 50.0  #in pF\n",
      "\n",
      "#CALCULATIONS\n",
      "C1_min=C1_min*10**-12   #in F\n",
      "C2_min=C2_min*10**-12   #in F\n",
      "C1_max=C1_max*10**-12   #in F\n",
      "C2_max=C2_max*10**-12    #in F\n",
      "L = 10.0                #in mH\n",
      "L = L * 10**-3          #in H\n",
      "C_T_min = (C1_min*C2_min)/(C2_min+C2_min)     #in F\n",
      "f_o_max = 1/( 2*math.pi*(math.sqrt(L*C_T_min)) )      #in Hz \n",
      "f_o_max = f_o_max * 10**-6      #in MHz\n",
      "C_T_max = (C1_max*C2_max)/(C2_max+C2_max)     #in F\n",
      "f_o_min = 1/( 2*math.pi*(math.sqrt(L*C_T_max)) )      #in Hz \n",
      "f_o_min = f_o_min * 10**-3                      #in kHz\n",
      "\n",
      "#RESULTS\n",
      "print('The tuning range for circuit will be =%.2f  kHz' %f_o_min)\n",
      "print(' To %.3f MHz' %f_o_max)\n",
      "\n",
      "\n",
      "#print(\"The tuning range for circuit will be : \"+string(round(f_o_min))+\" kHz to \"+string(round(f_o_max))+\" MHz\")\n"
     ],
     "language": "python",
     "metadata": {},
     "outputs": [
      {
       "output_type": "stream",
       "stream": "stdout",
       "text": [
        "The tuning range for circuit will be =318.31  kHz\n",
        " To 1.007 MHz\n"
       ]
      }
     ],
     "prompt_number": 1
    }
   ],
   "metadata": {}
  }
 ]
}