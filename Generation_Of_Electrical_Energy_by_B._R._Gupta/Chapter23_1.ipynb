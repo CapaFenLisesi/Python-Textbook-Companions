{
 "cells": [
  {
   "cell_type": "markdown",
   "metadata": {},
   "source": [
    "# Ch-23, Captive Power Generation"
   ]
  },
  {
   "cell_type": "markdown",
   "metadata": {},
   "source": [
    "## example:23.1 Page:500"
   ]
  },
  {
   "cell_type": "code",
   "execution_count": 1,
   "metadata": {
    "collapsed": false
   },
   "outputs": [
    {
     "name": "stdout",
     "output_type": "stream",
     "text": [
      "capitel cost is 27272.0/kW\n",
      "CRF=0.171\n",
      "annual fixed cost is Rs4663.98/kW\n",
      "heat rate is 2457.142857cal/kWh\n",
      "number of kWh generated per liter of fuel is 4.11kWh/litre\n",
      "fuel cost per unit Rs1.702970per kWh\n",
      "annual operation cost Rs.545.4400/kW\n",
      "annual fixed, operation and maintence cost Rs.5209.42/kW\n",
      "energygenerated per year is 7008kWh\n",
      "annual fixed operation and maintenence cost per kWh of energy 0.7434/kWh\n",
      "generated cost is Rs2.4463/kWh\n"
     ]
    }
   ],
   "source": [
    "sp=11*10**3;pc=300*10**6 ; ir=0.15 ;lp=15 ;fc=7 ;eff=0.35; cv=10100; mc=0.02; lf=0.8 ;er=860  #let the given variable be --sp=size of plant ,pc=project cost,ir=interest rate,lp=life of the plant,fc=fuel cost,eff=efficiency,cv=calorific value,er=860,mc=maintenance cost,lf=load factor,\n",
    "cac=pc/sp #let the variable cac be captel cost\n",
    "print \"capitel cost is %.1f/kW\"%(cac)\n",
    "crfd1=(1+ir)**(-lp)\n",
    "crfd=1-crfd1\n",
    "crf=ir/crfd #crf=capitel cost recovery factor\n",
    "print \"CRF=%.3f\"%(crf)\n",
    "anfc=cac*crf #anual fixed cost is prodect of capitel cost and capitel recovery factor\n",
    "print \"annual fixed cost is Rs%.2f/kW\"%(anfc)\n",
    "hr=er/eff #heat rate is energy ratedivided by efficiency\n",
    "print \"heat rate is %fcal/kWh\"%(hr) \n",
    "gpf=cv/hr #kW generated per liter is division of calorific value to hr\n",
    "print \"number of kWh generated per liter of fuel is %.2fkWh/litre\"%(gpf)\n",
    "fcp=fc/gpf #fuel cost per unit is fuel cost divided by generated per liter\n",
    "print \"fuel cost per unit Rs%fper kWh\"%(fcp)\n",
    "aomc=cac*mc #annual operation and maintenence cost\n",
    "print \"annual operation cost Rs.%.4f/kW\"%(aomc)\n",
    "afom=anfc+aomc \n",
    "print \"annual fixed, operation and maintence cost Rs.%.2f/kW\"%(afom)\n",
    "egpy=8760*lf #energy generated is 24*12*60\n",
    "print \"energygenerated per year is %dkWh\"%(egpy)\n",
    "afomc=afom/egpy\n",
    "print \"annual fixed operation and maintenence cost per kWh of energy %.4f/kWh\"%(afomc)\n",
    "gco=fcp+afomc #generated cost is sum of fuel cost and maintenence cost\n",
    "print \"generated cost is Rs%.4f/kWh\"%(gco)"
   ]
  },
  {
   "cell_type": "markdown",
   "metadata": {},
   "source": [
    "## example:23.2 page:501"
   ]
  },
  {
   "cell_type": "code",
   "execution_count": 2,
   "metadata": {
    "collapsed": false
   },
   "outputs": [
    {
     "name": "stdout",
     "output_type": "stream",
     "text": [
      "net capital cost Rs560*10**6 \n",
      "net capital cost per KW Rs22400.000000/kW \n",
      "crf 0.117460 \n",
      "annual fixed cost Rs2631 per kW \n",
      "annual operation and maintenance cost Rs1120per kW \n",
      "Total annual cost Rs3751per kW \n",
      "Annual energy generated per kW of plant capacity 5256.0kWh \n",
      "generation cost Rs0.714kWh\n"
     ]
    }
   ],
   "source": [
    "sp=25*10**3 #size of the plant\n",
    "cc=800*10**6  #capital cost\n",
    "ir=0.1    #interest rate\n",
    "lp=20    #life of the plant\n",
    "mc=0.05  #maintence cost\n",
    "lf=0.6   #load factor \n",
    "sub=0.3  #subsidy\n",
    "nc=cc*(1-sub)\n",
    "nck=nc/sp \n",
    "crf=ir/(1-(1+ir)**(-lp))\n",
    "afc=nck*crf\n",
    "aomc=nck*mc\n",
    "tac=afc+aomc\n",
    "aeg=8760*lf\n",
    "gc=tac/aeg\n",
    "print \"net capital cost Rs%d*10**6 \\nnet capital cost per KW Rs%f/kW \\ncrf %f \\nannual fixed cost Rs%d per kW \\nannual operation and maintenance cost Rs%dper kW \\nTotal annual cost Rs%dper kW \\nAnnual energy generated per kW of plant capacity %.1fkWh \\ngeneration cost Rs%.3fkWh\"%(nc/(10**6),nck,crf,afc,aomc,tac,aeg,gc)"
   ]
  },
  {
   "cell_type": "markdown",
   "metadata": {},
   "source": [
    "## Problem:23.11.2 Page:505"
   ]
  },
  {
   "cell_type": "code",
   "execution_count": 3,
   "metadata": {
    "collapsed": false
   },
   "outputs": [
    {
     "name": "stdout",
     "output_type": "stream",
     "text": [
      "rate of depreciation is 2.833percent \n",
      "total annual cost is Rs.6.80167 lakhs/year \n",
      "energy received per year 1.282500e+07kWh/year \n",
      "wheeling charges Rs0.053034\n"
     ]
    }
   ],
   "source": [
    "pp=11 #power capacity\n",
    "cost=35 #cost of the system\n",
    "In=0.14 #interest\n",
    "lis=30 #life of system\n",
    "sv=0.15 #salvage value\n",
    "es=13.5*10**6 #energy sent\n",
    "los=0.05 #losses\n",
    "omc=0.02 #O&M charges\n",
    "gr=0.006 #general revenue\n",
    "rd=(1-sv)*100/lis\n",
    "rdd=rd/100\n",
    "tac=cost*(In+omc+rdd+gr)\n",
    "ery=es*(1-los)\n",
    "wc=(tac/ery)*10**5\n",
    "print \"rate of depreciation is %.3fpercent \\ntotal annual cost is Rs.%.5f lakhs/year \\nenergy received per year %ekWh/year \\nwheeling charges Rs%f\"%(rd,tac,ery,wc)"
   ]
  }
 ],
 "metadata": {
  "kernelspec": {
   "display_name": "Python 2",
   "language": "python",
   "name": "python2"
  },
  "language_info": {
   "codemirror_mode": {
    "name": "ipython",
    "version": 2
   },
   "file_extension": ".py",
   "mimetype": "text/x-python",
   "name": "python",
   "nbconvert_exporter": "python",
   "pygments_lexer": "ipython2",
   "version": "2.7.9"
  }
 },
 "nbformat": 4,
 "nbformat_minor": 0
}
