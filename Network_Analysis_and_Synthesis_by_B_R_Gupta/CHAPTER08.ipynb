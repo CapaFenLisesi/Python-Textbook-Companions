{
 "metadata": {
  "name": "",
  "signature": "sha256:63a89845b409f13e415075f0c3a73b8dc85acb8b807dc2f7f965b56c45c3cbbb"
 },
 "nbformat": 3,
 "nbformat_minor": 0,
 "worksheets": [
  {
   "cells": [
    {
     "cell_type": "heading",
     "level": 1,
     "metadata": {},
     "source": [
      "CHAPTER08:FILTER"
     ]
    },
    {
     "cell_type": "heading",
     "level": 2,
     "metadata": {},
     "source": [
      "Example E01 : Pg 510"
     ]
    },
    {
     "cell_type": "code",
     "collapsed": false,
     "input": [
      "                # EXAMPLE  8-1      PG N0-510\n",
      "import math,cmath\n",
      "L=0.02;                # INDUCTANCE\n",
      "C=4.*10.** -6.;             # CAPACITOR\n",
      "Z=200.;\n",
      "Fc=1./(math.pi*(L*C)** 0.5);\n",
      "Z0=(L/C)** 0.5;\n",
      "Z1=(1j*2)*math.pi*Z*L;\n",
      "Z2=1./(1j*2*math.pi*Z*C);\n",
      "Z0=(4*Z1*Z2*Z2)/(Z1+4*Z2)**0.5\n",
      "F1=2000.;\n",
      "Z11=1j*math.pi*F1*L;\n",
      "Z22=1./(1j*math.pi*F1*C);\n",
      "Z01=(4.*Z11*Z22*Z22)/(Z1+4.*Z22)** 0.5;\n",
      "print 'i) POWER (Pmax) is    =  ',Z1,'  W '\n",
      "print 'ii) POWER (Pmax) is    =  ',Z2,'  W '\n",
      "print 'iii) POWER (Pmax) is    =  ',Z0,'  W'\n",
      "print 'iii) POWER (Pmax) is    =  ',Z11,'  W '\n",
      "print 'iv) POWER (Pmax) is    =  ',Z22,'  W '\n",
      "print 'v) POWER (Pmax) is    =  ',Z01,'  W '"
     ],
     "language": "python",
     "metadata": {},
     "outputs": [
      {
       "output_type": "stream",
       "stream": "stdout",
       "text": [
        "i) POWER (Pmax) is    =   25.1327412287j   W \n",
        "ii) POWER (Pmax) is    =   -198.943678865j   W \n",
        "iii) POWER (Pmax) is    =   (101348.847063-101348.847063j)   W\n",
        "iii) POWER (Pmax) is    =   125.663706144j   W \n",
        "iv) POWER (Pmax) is    =   -39.788735773j   W \n",
        "v) POWER (Pmax) is    =   (48605.6509501-48605.6509501j)   W \n"
       ]
      }
     ],
     "prompt_number": 1
    },
    {
     "cell_type": "heading",
     "level": 2,
     "metadata": {},
     "source": [
      "Example E02 : Pg 511"
     ]
    },
    {
     "cell_type": "code",
     "collapsed": false,
     "input": [
      "          # example 8-2   pg no -511\n",
      "import math\n",
      "Ro=600.;\n",
      "Fc=940.;\n",
      "L=Ro/(math.pi*Fc);\n",
      "C=1./(math.pi*Ro*Fc);\n",
      "print '%s %.2f %s' %('i) INDUCTANCE (L) is    =  ',L,'  H ')\n",
      "print '%s %.2e %s' %('ii) CAPACITOR (C) is    =  ',C,'  F ')"
     ],
     "language": "python",
     "metadata": {},
     "outputs": [
      {
       "output_type": "stream",
       "stream": "stdout",
       "text": [
        "i) INDUCTANCE (L) is    =   0.20   H \n",
        "ii) CAPACITOR (C) is    =   5.64e-07   F \n"
       ]
      }
     ],
     "prompt_number": 2
    },
    {
     "cell_type": "heading",
     "level": 2,
     "metadata": {},
     "source": [
      "Example E03 : Pg 511"
     ]
    },
    {
     "cell_type": "code",
     "collapsed": false,
     "input": [
      "import math \n",
      "L=0.015;                # INDUCTANCE\n",
      "C=0.5*10.** -6.;             # CAPACITOR\n",
      "Z=200.;\n",
      "Fc=1./(4.*math.pi*(L*C)** 0.5);\n",
      "Z0=(L/C)** 0.5;\n",
      "Z2=(1j*2)*math.pi*Z*L;\n",
      "Z1=1./(1j*2.*math.pi*Z*C);\n",
      "F1=2000.;\n",
      "Z01=(Z1*Z2)/(1.+(Z1/(4.*Z2)))** 0.5;\n",
      "A=8.147;\n",
      "print 'ii) Impedance (ZO) is    =  ',Z0,'  W '\n",
      "print 'ii) FREQUENCY is    =  ',Fc,'  HZ '\n",
      "print 'ii) Impedance(Z1) is    = ',Z1, '  W '\n",
      "print 'ii) Impedance(Z2) is    = ',Z2,'  W '\n",
      "print 'ii) Impedance(Z01) is    = ',Z01,'  W '\n",
      "print 'ii) ALPHA is    =  ',A"
     ],
     "language": "python",
     "metadata": {},
     "outputs": [
      {
       "output_type": "stream",
       "stream": "stdout",
       "text": [
        "ii) Impedance (ZO) is    =   173.205080757   W \n",
        "ii) FREQUENCY is    =   918.88149237   HZ \n",
        "ii) Impedance(Z1) is    =  -1591.54943092j   W \n",
        "ii) Impedance(Z2) is    =  18.8495559215j   W \n",
        "ii) Impedance(Z01) is    =  (4.09648538668e-13-6690.06833567j)   W \n",
        "ii) ALPHA is    =   8.147\n"
       ]
      }
     ],
     "prompt_number": 3
    },
    {
     "cell_type": "heading",
     "level": 2,
     "metadata": {},
     "source": [
      "Example E04 : Pg 514"
     ]
    },
    {
     "cell_type": "code",
     "collapsed": false,
     "input": [
      "                # EXAMPLE -8-4   PG NO-514-515\n",
      "import math \n",
      "Ro=3000.;\n",
      "Fc=2000.;\n",
      "L=Ro/(4.*math.pi*Fc);\n",
      "C=1./(4.*math.pi*Fc*Ro);\n",
      "print '%s %.2f %s' %('i) INDUCTANCE (L) is    =  ',L,'  H ')\n",
      "print '%s %.2e %s' %('ii) CAPACITOR (C) is    =  ',C,'F ')"
     ],
     "language": "python",
     "metadata": {},
     "outputs": [
      {
       "output_type": "stream",
       "stream": "stdout",
       "text": [
        "i) INDUCTANCE (L) is    =   0.12   H \n",
        "ii) CAPACITOR (C) is    =   1.33e-08 F \n"
       ]
      }
     ],
     "prompt_number": 4
    },
    {
     "cell_type": "heading",
     "level": 2,
     "metadata": {},
     "source": [
      "Example E05 : Pg 517"
     ]
    },
    {
     "cell_type": "code",
     "collapsed": false,
     "input": [
      "                 # EXAMPLE 8-5   PG NO-517\n",
      "C1=1.;\n",
      "C2=50.;\n",
      "X=1000.;              # X=1/(2*math.pi*(L1*C1)**0.5)\n",
      "Y=X*2.*(C1/C2)**0.5;            # Y=(Fc2-Fc1)\n",
      "print '%s %.2f %s' %('ii) Frequency (Fc2-Fc1) is    =  ',Y,'  Hz ')"
     ],
     "language": "python",
     "metadata": {},
     "outputs": [
      {
       "output_type": "stream",
       "stream": "stdout",
       "text": [
        "ii) Frequency (Fc2-Fc1) is    =   282.84   Hz \n"
       ]
      }
     ],
     "prompt_number": 5
    },
    {
     "cell_type": "heading",
     "level": 2,
     "metadata": {},
     "source": [
      "Example E06 : Pg 519"
     ]
    },
    {
     "cell_type": "code",
     "collapsed": false,
     "input": [
      "                       # EXAMPLE 8-7  PG NO-519\n",
      "import math \n",
      "Ro=100.;\n",
      "Fc2=5000.;\n",
      "Fc1=500.;\n",
      "L1=Ro/(2.*math.pi*(Fc2-Fc1));\n",
      "print '%s %.2e %s' %('ii) INDUCTANCE (L1/2) is    =  ',L1/2.,'  H ')\n",
      "C1=(Fc2-Fc1)/(2.*math.pi*Ro*Fc1*Fc2)\n",
      "print '%s %.2e %s' %('ii) CAPACITOR (2*C1) is    =  ',2.*C1,'  F ')\n",
      "L2=(Ro*(Fc2-Fc1))/(4.*math.pi*Fc1*Fc2);\n",
      "print '%s %.2f %s' %('ii) INDUCTANCE (L2) is    =  ',L2,'  H ')\n",
      "C2=1./(math.pi*(Fc2-Fc1));\n",
      "print '%s %.2e %s' %('ii) CAPACITOR (C2) is    =  ',C2,'  F ')"
     ],
     "language": "python",
     "metadata": {},
     "outputs": [
      {
       "output_type": "stream",
       "stream": "stdout",
       "text": [
        "ii) INDUCTANCE (L1/2) is    =   1.77e-03   H \n",
        "ii) CAPACITOR (2*C1) is    =   5.73e-06   F \n",
        "ii) INDUCTANCE (L2) is    =   0.01   H \n",
        "ii) CAPACITOR (C2) is    =   7.07e-05   F \n"
       ]
      }
     ],
     "prompt_number": 6
    },
    {
     "cell_type": "heading",
     "level": 2,
     "metadata": {},
     "source": [
      "Example E07 : Pg 519"
     ]
    },
    {
     "cell_type": "code",
     "collapsed": false,
     "input": [
      "              # EXAMPLE 8-7   PG NO-519\n",
      "import math \n",
      "Fc1=1000.;\n",
      "Fc2=3000.;\n",
      "Ro=100.;\n",
      "L1=((Ro*(Fc2-Fc1))/(2.*math.pi*Fc2*Fc1))\n",
      "print '%s %.2f %s' %('i) INDUCTANCE (L1/2) is    =  ',L1,'  H ')\n",
      "C1=1./(2.*math.pi*(Fc2-Fc1));\n",
      "print '%s %.2e %s' %('ii) CAPACITOR (C1) is    =  ',C1,'  F ')\n",
      "L2=Ro/(4.*math.pi*(Fc2-Fc1));\n",
      "print '%s %.2e %s' %('iii) INDUCTANCE (L2) is    =  ',L2,'  H ')\n",
      "C2=(Fc2-Fc1)/(math.pi*Ro*Fc1*Fc2)\n",
      "print '%s %.2e %s' %('ii) CAPACITOR (C2) is    =  ',C2,'  F ')"
     ],
     "language": "python",
     "metadata": {},
     "outputs": [
      {
       "output_type": "stream",
       "stream": "stdout",
       "text": [
        "i) INDUCTANCE (L1/2) is    =   0.01   H \n",
        "ii) CAPACITOR (C1) is    =   7.96e-05   F \n",
        "iii) INDUCTANCE (L2) is    =   3.98e-03   H \n",
        "ii) CAPACITOR (C2) is    =   2.12e-06   F \n"
       ]
      }
     ],
     "prompt_number": 7
    },
    {
     "cell_type": "heading",
     "level": 2,
     "metadata": {},
     "source": [
      "Example E08 : Pg 523"
     ]
    },
    {
     "cell_type": "code",
     "collapsed": false,
     "input": [
      "              #  EXAMPLE 8-8   PG NO-523\n",
      "import math \n",
      "Ro=600.;\n",
      "Fc=2500.;\n",
      "L=Ro/(math.pi*Fc);\n",
      "C=1./(math.pi*Ro*Fc);\n",
      "print '%s %.2f %s' %('i) INDUCTANCE (L) is    =  ',L,'  H ')\n",
      "print '%s %.2e %s' %('ii) CAPACITOR (C) is    =  ',C,'  F ')\n",
      "Fo=2600.;\n",
      "m=math.sqrt(1.-(Fc/Fo)**2.)\n",
      "print '%s %.2f' %('iii)  (m) is    =  ',m)\n",
      "L1=((1.-m*m)/4.*m)*L;\n",
      "print '%s %.2e %s' %('iv) INDUCTANCE (L1) is    =  ',L1,'  H ')\n",
      "L2=0.5*m*L;\n",
      "print '%s %.2f %s' %('ii) INDUCTANCE (L2) is    =  ',L2,'  H ')\n",
      "C1=m*C;\n",
      "print '%s %.2e %s' %('ii) CAPACITOR (C1) is    =  ',C1,'  F ')"
     ],
     "language": "python",
     "metadata": {},
     "outputs": [
      {
       "output_type": "stream",
       "stream": "stdout",
       "text": [
        "i) INDUCTANCE (L) is    =   0.08   H \n",
        "ii) CAPACITOR (C) is    =   2.12e-07   F \n",
        "iii)  (m) is    =   0.27\n",
        "iv) INDUCTANCE (L1) is    =   4.85e-03   H \n",
        "ii) INDUCTANCE (L2) is    =   0.01   H \n",
        "ii) CAPACITOR (C1) is    =   5.83e-08   F \n"
       ]
      }
     ],
     "prompt_number": 8
    },
    {
     "cell_type": "heading",
     "level": 2,
     "metadata": {},
     "source": [
      "Example E09 : Pg 525"
     ]
    },
    {
     "cell_type": "code",
     "collapsed": false,
     "input": [
      "                 # EXAMPLE 8-9       PG NO-525\n",
      "import math \n",
      "Ro=600.;\n",
      "Fc=3000.;\n",
      "L=Ro/(4.*math.pi*Fc);\n",
      "print '%s %.2f %s' %('i) INDUCTANCE (L) is    =  ',L,'  H ')\n",
      "C=1./(4.*math.pi*Fc*Ro);\n",
      "print '%s %.2e %s' %('ii) CAPACITOR (C) is    =  ',C,'  F ')\n",
      "Fo=2700.;\n",
      "m=math.sqrt(1.-(Fo/Fc)**2.);\n",
      "print '%s %.2f %s' %('iii)  (m) is    =  ',m,'   ');\n",
      "X=(2.*C)/m;\n",
      "print '%s %.2e %s' %('iv) X (X) is    =  ',X,' F  ');\n",
      "Y=L/m;\n",
      "print '%s %.2f %s' %('v) Y    is    =  ',Y,' H  ');\n",
      "Z=(4.*m*C)/(1-m**2);                               # Z=4mC/1-m**2\n",
      "print '%s %.2e %s' %('vi) Z   (Z) is    =  ',Z,'  F ');\n",
      "Z1=(4.*m*L)/(1-m**2);                   # Z1=4mL/1-m**2\n",
      "print '%s %.2f %s' %('vii)  (Z1) is    =  ',Z1,' H  ')\n",
      "X1=(2.*L)/m;\n",
      "print '%s %.2f %s' %('viii)  X1    (X1) is    =  ',X1,' H  ')\n",
      "Y1=C/m;\n",
      "print '%s %.2e %s' %('ix) Y1  is    =  ',Y1,' F  ')"
     ],
     "language": "python",
     "metadata": {},
     "outputs": [
      {
       "output_type": "stream",
       "stream": "stdout",
       "text": [
        "i) INDUCTANCE (L) is    =   0.02   H \n",
        "ii) CAPACITOR (C) is    =   4.42e-08   F \n",
        "iii)  (m) is    =   0.44    \n",
        "iv) X (X) is    =   2.03e-07  F  \n",
        "v) Y    is    =   0.04  H  \n",
        "vi) Z   (Z) is    =   9.52e-08   F \n",
        "vii)  (Z1) is    =   0.03  H  \n",
        "viii)  X1    (X1) is    =   0.07  H  \n",
        "ix) Y1  is    =   1.01e-07  F  \n"
       ]
      }
     ],
     "prompt_number": 9
    },
    {
     "cell_type": "heading",
     "level": 2,
     "metadata": {},
     "source": [
      "Example E10 : Pg 529"
     ]
    },
    {
     "cell_type": "code",
     "collapsed": false,
     "input": [
      "    # EXAMPLE  8-10               PG NO- 529\n",
      "import math\n",
      "Ro=100.;\n",
      "Fc=1000.;\n",
      "L=Ro/Fc*math.pi;\n",
      "print '%s %.2f %s' %('i) INDUCTANCE (L) is    =  ',L,'  H ')\n",
      "C=1./(math.pi*Ro*Fc)\n",
      "print '%s %.2f %s' %('ii) CAPACITOR (C) is    =  ',C,'  F ')"
     ],
     "language": "python",
     "metadata": {},
     "outputs": [
      {
       "output_type": "stream",
       "stream": "stdout",
       "text": [
        "i) INDUCTANCE (L) is    =   0.31   H \n",
        "ii) CAPACITOR (C) is    =   0.00   F \n"
       ]
      }
     ],
     "prompt_number": 10
    },
    {
     "cell_type": "heading",
     "level": 2,
     "metadata": {},
     "source": [
      "Example E11 : Pg 529"
     ]
    },
    {
     "cell_type": "code",
     "collapsed": false,
     "input": [
      "            # EXAMPLE  8-11     PG NO-529-530\n",
      "import math \n",
      "Ro=500.;\n",
      "Fc=1000.;\n",
      "L=Ro/(math.pi*Fc);\n",
      "print '%s %.2f %s' %('ii) INDUCTANCE (L) is    =  ',L,'  H ')\n",
      "C=1/(math.pi*Ro*Fc);\n",
      "print '%s %.2e %s' %('ii) CAPACITOR (C) is    =  ',C,'  F ')"
     ],
     "language": "python",
     "metadata": {},
     "outputs": [
      {
       "output_type": "stream",
       "stream": "stdout",
       "text": [
        "ii) INDUCTANCE (L) is    =   0.16   H \n",
        "ii) CAPACITOR (C) is    =   6.37e-07   F \n"
       ]
      }
     ],
     "prompt_number": 11
    },
    {
     "cell_type": "heading",
     "level": 2,
     "metadata": {},
     "source": [
      "Example E12 : Pg 530"
     ]
    },
    {
     "cell_type": "code",
     "collapsed": false,
     "input": [
      "# EXAMPLE 8-12   PG NO-530\n",
      "import math \n",
      "Fc=1000.;\n",
      "C=0.05*10.** -6.;\n",
      "L=1/(math.pi*math.pi*Fc*Fc*C)\n",
      "print '%s %.2f %s' %('i) INDUCTANCE (L) is =',L,'  H ')"
     ],
     "language": "python",
     "metadata": {},
     "outputs": [
      {
       "output_type": "stream",
       "stream": "stdout",
       "text": [
        "i) INDUCTANCE (L) is = 2.03   H \n"
       ]
      }
     ],
     "prompt_number": 12
    },
    {
     "cell_type": "heading",
     "level": 2,
     "metadata": {},
     "source": [
      "Example E13 : Pg 530"
     ]
    },
    {
     "cell_type": "code",
     "collapsed": false,
     "input": [
      "              # EXAMPLE 8-13      PG NO-530\n",
      "import math\n",
      "Fc=2000.;\n",
      "L=0.05;\n",
      "C=1./(16.*math.pi*math.pi*Fc*Fc*L)\n",
      "print '%s %.2e %s' %('i) CAPACITOR (C) is    =  ',C,'  F ')"
     ],
     "language": "python",
     "metadata": {},
     "outputs": [
      {
       "output_type": "stream",
       "stream": "stdout",
       "text": [
        "i) CAPACITOR (C) is    =   3.17e-08   F \n"
       ]
      }
     ],
     "prompt_number": 13
    },
    {
     "cell_type": "heading",
     "level": 2,
     "metadata": {},
     "source": [
      "Example E14 : Pg 530"
     ]
    },
    {
     "cell_type": "code",
     "collapsed": false,
     "input": [
      "         # EXAMPLE 8-14   PG NO-530\n",
      "import math \n",
      "Ro=600.;\n",
      "Fc=20000.;\n",
      "L=Ro/(4.*math.pi*Fc);\n",
      "C=1./(4.*math.pi*Ro*Fc);\n",
      "print '%s %.2e %s' %('i) INDUCTANCE (L) is    =  ',L,'  H ')\n",
      "print '%s %.2e %s' %('ii) CAPACITOR (C) is    =  ',C,'  F ')"
     ],
     "language": "python",
     "metadata": {},
     "outputs": [
      {
       "output_type": "stream",
       "stream": "stdout",
       "text": [
        "i) INDUCTANCE (L) is    =   2.39e-03   H \n",
        "ii) CAPACITOR (C) is    =   6.63e-09   F \n"
       ]
      }
     ],
     "prompt_number": 14
    },
    {
     "cell_type": "heading",
     "level": 2,
     "metadata": {},
     "source": [
      "Example E15 : Pg 531"
     ]
    },
    {
     "cell_type": "code",
     "collapsed": false,
     "input": [
      "                # EXAMPLE 8-15   PG NO-531\n",
      "import math\n",
      "L=50.*10.** -3.;\n",
      "C=0.2*10.** -6.;\n",
      "Ro=(L/C)** 0.5;\n",
      "Fc=1./math.pi*(L*C)** 0.5;\n",
      "print '%s %.2f %s' %('i) RESISTANCE (Ro) is    =  ',Ro,'  ohm ')\n",
      "print '%s %.2e %s' %('ii) FREQUENCY (Fc) is    =  ',Fc,'  Hz ')"
     ],
     "language": "python",
     "metadata": {},
     "outputs": [
      {
       "output_type": "stream",
       "stream": "stdout",
       "text": [
        "i) RESISTANCE (Ro) is    =   500.00   ohm \n",
        "ii) FREQUENCY (Fc) is    =   3.18e-05   Hz \n"
       ]
      }
     ],
     "prompt_number": 15
    },
    {
     "cell_type": "heading",
     "level": 2,
     "metadata": {},
     "source": [
      "Example E16 : Pg 531"
     ]
    },
    {
     "cell_type": "code",
     "collapsed": false,
     "input": [
      "                   # EXAMPLE 8-16   PG NO-531\n",
      "import math\n",
      "C=0.2*10.** -6.;\n",
      "L=50.*10.** -3.;\n",
      "Ro=(L/C)** 0.5;\n",
      "Fc=1./4.*math.pi*(L*C);\n",
      "print '%s %.2f %s' %('Hi) RESISTANCE (Ro) is    =  ',Ro,'  ohm ')\n",
      "print '%s %.2e %s' %('Hi) FREQUENCY (Fc) is    =  ',Fc,'  Hz ')"
     ],
     "language": "python",
     "metadata": {},
     "outputs": [
      {
       "output_type": "stream",
       "stream": "stdout",
       "text": [
        "Hi) RESISTANCE (Ro) is    =   500.00   ohm \n",
        "Hi) FREQUENCY (Fc) is    =   7.85e-09   Hz \n"
       ]
      }
     ],
     "prompt_number": 16
    },
    {
     "cell_type": "heading",
     "level": 2,
     "metadata": {},
     "source": [
      "Example E17 : Pg 533"
     ]
    },
    {
     "cell_type": "code",
     "collapsed": false,
     "input": [
      "                                  # EXAMPLE 8-18         PG NO-533-534 \n",
      "Z1=1j*413.05;                      # Impedance\n",
      "Z2=1j*334.45;                      # Impedance\n",
      "Zoc=(Z1/2)-Z2;\n",
      "print 'i)   Impedance(Zoc) is    =  ',Zoc,' ohm  '\n",
      "Zsc=(Z1/2)+((Z1*-Z2)/2)/(-Z2+(Z1/2));\n",
      "print 'ii)  Impedance (Zsc) is    =  ',Zsc,' ohm  '\n",
      "Zo=(Zoc*Zsc)** 0.5;\n",
      "print 'ii)  Impedance (Zo) is    =  ',Zo,' ohm  '"
     ],
     "language": "python",
     "metadata": {},
     "outputs": [
      {
       "output_type": "stream",
       "stream": "stdout",
       "text": [
        "i)   Impedance(Zoc) is    =   -127.925j  ohm  \n",
        "ii)  Impedance (Zsc) is    =   746.468609537j  ohm  \n",
        "ii)  Impedance (Zo) is    =   (309.017793784+0j)  ohm  \n"
       ]
      }
     ],
     "prompt_number": 17
    },
    {
     "cell_type": "heading",
     "level": 2,
     "metadata": {},
     "source": [
      "Example E18 : Pg 533"
     ]
    },
    {
     "cell_type": "code",
     "collapsed": false,
     "input": [
      "              # EXAMPLE 8-18   PG NO-533\n",
      "import math\n",
      "Ro=600.;\n",
      "Fc=1000.;\n",
      "L1=Ro/(math.pi*Fc);\n",
      "C2=1./(math.pi*Ro*Fc);\n",
      "Fo=1050.;\n",
      "m=1.-(Fc/Fo)** 0.5;\n",
      "X=(0.5*m*L1);\n",
      "Y=(1.-m*m)/4.*m*L1;\n",
      "Z=m*C2;\n",
      "A=(m*L1)/2.;\n",
      "B=(1-m*m)/(2.*m)*L1;\n",
      "C=(m*C2)/2.;\n",
      "print '%s %.2e %s' %('i) INDUCTAR (L1) is    =  ',L1,'  H ')\n",
      "print '%s %.2e %s' %('ii) CAPACITOR (C2) is    =  ',C2,'  F ')\n",
      "print '%s %.2e %s' %('iii) CONSTANT (m) is    =  ',m,'   ')\n",
      "print '%s %.2e %s' %('iv)   (X) is    =  ',X,'  H ')\n",
      "print '%s %.2e %s' %('v)    (y) is    =  ',Y,'  H ')\n",
      "print '%s %.2e %s' %('vi)   (Z) is    =  ',Z,'  F ')\n",
      "print '%s %.2e %s' %('vii)  (A) is    =  ',A,'  H ')\n",
      "print '%s %.2f %s' %('viii) (B) is    =  ',B,'  H ')\n",
      "print '%s %.2e %s' %('x)    (C) is    =  ',C,'  F ')"
     ],
     "language": "python",
     "metadata": {},
     "outputs": [
      {
       "output_type": "stream",
       "stream": "stdout",
       "text": [
        "i) INDUCTAR (L1) is    =   1.91e-01   H \n",
        "ii) CAPACITOR (C2) is    =   5.31e-07   F \n",
        "iii) CONSTANT (m) is    =   2.41e-02    \n",
        "iv)   (X) is    =   2.30e-03   H \n",
        "v)    (y) is    =   1.15e-03   H \n",
        "vi)   (Z) is    =   1.28e-08   F \n",
        "vii)  (A) is    =   2.30e-03   H \n",
        "viii) (B) is    =   3.96   H \n",
        "x)    (C) is    =   6.39e-09   F \n"
       ]
      }
     ],
     "prompt_number": 18
    },
    {
     "cell_type": "heading",
     "level": 2,
     "metadata": {},
     "source": [
      "Example E19 : Pg 534"
     ]
    },
    {
     "cell_type": "code",
     "collapsed": false,
     "input": [
      "                           # EXAMPLE 8-19            PG NO-534-535\n",
      "import math\n",
      "Ro=600.;                        # characteristics Impedance\n",
      "Fc=1000.;                       # cutt   of   frequency\n",
      "L=Ro/(4.*math.pi*Fc);\n",
      "print '%s %.2f %s' %('i) Inductance is    =  ',L,'  H ');\n",
      "C=1./4.*math.pi*Fc*Ro;\n",
      "print '%s %.2f %s' %('ii) Capacitance is    =  ',C,'  F ');\n",
      "m=0.2;\n",
      "X=(2.*C)/m;                      # X=2C/m;\n",
      "print '%s %.2f %s' %('iii) X is    =  ',X,'  F ');\n",
      "Y=L/m;                        Y=L/m;\n",
      "print '%s %.2f %s' %('iv)  Y is    =  ',Y,'  H ');\n",
      "Z=(4*m*C)/1-m** 2;\n",
      "print '%s %.2f %s' %('v) Z   is    =  ',Z,'  F ');\n",
      "m1=0.6;\n",
      "X1=(2*C)/m1;                      # X=2C/m;\n",
      "print '%s %.2f %s' %('iii) X is    =  ',X1,'  F ');\n",
      "Y1=(2*L)/m1;                        Y1=L/m1;\n",
      "print '%s %.2f %s' %('iv)  Y is    =  ',Y1,'  H ');\n",
      "Z1=(2*m1*C)/1-m1** 2;\n",
      "print '%s %.2f %s' %('v) Z   is    =  ',Z1,'  F ');"
     ],
     "language": "python",
     "metadata": {},
     "outputs": [
      {
       "output_type": "stream",
       "stream": "stdout",
       "text": [
        "i) Inductance is    =   0.05   H \n",
        "ii) Capacitance is    =   471238.90   F \n",
        "iii) X is    =   4712388.98   F \n",
        "iv)  Y is    =   0.24   H \n",
        "v) Z   is    =   376991.08   F \n",
        "iii) X is    =   1570796.33   F \n",
        "iv)  Y is    =   0.08   H \n",
        "v) Z   is    =   565486.32   F \n"
       ]
      }
     ],
     "prompt_number": 19
    },
    {
     "cell_type": "heading",
     "level": 2,
     "metadata": {},
     "source": [
      "Example E20 : Pg 535"
     ]
    },
    {
     "cell_type": "code",
     "collapsed": false,
     "input": [
      "                 # EXAMPLE 8-20   PG NO-535\n",
      "import math \n",
      "Ro=450.;\n",
      "Fc=20000.;\n",
      "L=Ro/(4.*math.pi*Fc);\n",
      "C=1/(4.*math.pi*Fc*Ro);\n",
      "Z1=Ro/(2.*math.pi*Fc);\n",
      "print '%s %.2e' %('i) IMPEDANCE (Z1) is   =  ',Z1);"
     ],
     "language": "python",
     "metadata": {},
     "outputs": [
      {
       "output_type": "stream",
       "stream": "stdout",
       "text": [
        "i) IMPEDANCE (Z1) is   =   3.58e-03\n"
       ]
      }
     ],
     "prompt_number": 20
    },
    {
     "cell_type": "heading",
     "level": 2,
     "metadata": {},
     "source": [
      "Example E21 : Pg 536"
     ]
    },
    {
     "cell_type": "code",
     "collapsed": false,
     "input": [
      "                 # EXAMPLE 8-21   PG NO-536-537\n",
      "import math \n",
      "Ro=600.;                      # RESISTANCE\n",
      "Fc=10000.;                    # FREQUENCY\n",
      "F=25000.;\n",
      "L=Ro/(4.*math.pi*Fc);\n",
      "C=1./(4.*math.pi*Fc*Ro);\n",
      "Z=Ro*1.-((Fc/F)** 2.)** 0.5;\n",
      "Zo=Ro/1.-((Fc/F)** 2.)** 0.5;\n",
      "print '%s %.2e %s' %('i) INDUCTAR (L) is    =  ',L,'  H ')\n",
      "print '%s %.2e %s' %('ii) CAPACITOR (C) is    =  ',C,'  F ')\n",
      "print '%s %.2f %s' %('i) IMPEDANCE (Z) is    =  ',Z,'  ohm ')\n",
      "print '%s %.2f %s' %('ii) IMPEDANCE (Zo) is    =  ',Zo,'  ohm ')"
     ],
     "language": "python",
     "metadata": {},
     "outputs": [
      {
       "output_type": "stream",
       "stream": "stdout",
       "text": [
        "i) INDUCTAR (L) is    =   4.77e-03   H \n",
        "ii) CAPACITOR (C) is    =   1.33e-08   F \n",
        "i) IMPEDANCE (Z) is    =   599.60   ohm \n",
        "ii) IMPEDANCE (Zo) is    =   599.60   ohm \n"
       ]
      }
     ],
     "prompt_number": 21
    },
    {
     "cell_type": "heading",
     "level": 2,
     "metadata": {},
     "source": [
      "Example E22 : Pg 537"
     ]
    },
    {
     "cell_type": "code",
     "collapsed": false,
     "input": [
      "             # EXAMPLE 8-22        PG NO-537-538\n",
      "import math \n",
      "L=60.*10.** -3.;\n",
      "C=150.*10.** -9.;\n",
      "Fo=1./(2.*math.pi*(L*C)** 0.5);\n",
      "print '%s %.2f %s' %('ii) FREQUENCY (Fo) is    =  ',Fo,'  Hz ')\n",
      "R=670.;\n",
      "BW=R/L;\n",
      "print '%s %.2f %s' %('ii) BAND WIDTH (B.W) is    =  ',BW,'  rad/sec ')\n",
      "FL=Fo-(1777.22/2.);\n",
      "print '%s %.2f %s' %('ii) Lower Cut of Frequency (FL) is    =  ',FL,'  Hz ')\n",
      "Fu=Fo+(1777.22/2.);\n",
      "print '%s %.2f %s' %('ii) Upper Cut of Frequency (Fu) is    =  ',Fu,'  Hz ')"
     ],
     "language": "python",
     "metadata": {},
     "outputs": [
      {
       "output_type": "stream",
       "stream": "stdout",
       "text": [
        "ii) FREQUENCY (Fo) is    =   1677.64   Hz \n",
        "ii) BAND WIDTH (B.W) is    =   11166.67   rad/sec \n",
        "ii) Lower Cut of Frequency (FL) is    =   789.03   Hz \n",
        "ii) Upper Cut of Frequency (Fu) is    =   2566.25   Hz \n"
       ]
      }
     ],
     "prompt_number": 22
    },
    {
     "cell_type": "heading",
     "level": 2,
     "metadata": {},
     "source": [
      "Example E23 : Pg 538"
     ]
    },
    {
     "cell_type": "code",
     "collapsed": false,
     "input": [
      "                  # EXAMPLE 8-23     PG NO-538\n",
      "import math\n",
      "L=160.*10.** -3.;\n",
      "C=0.022*10.** -6.;\n",
      "Fc=1./math.pi*(L*C)** 0.5;\n",
      "Zo=(L/C)** 0.5;\n",
      "print '%s %.2f %s' %('ii) Cut of Frequency (Fc) is    =  ',Fc,'  Hz ')\n",
      "print '%s %.2f %s' %('ii) IMPEDANCE (Zo) is    =  ',Zo,'  ohm ')"
     ],
     "language": "python",
     "metadata": {},
     "outputs": [
      {
       "output_type": "stream",
       "stream": "stdout",
       "text": [
        "ii) Cut of Frequency (Fc) is    =   0.00   Hz \n",
        "ii) IMPEDANCE (Zo) is    =   2696.80   ohm \n"
       ]
      }
     ],
     "prompt_number": 23
    },
    {
     "cell_type": "heading",
     "level": 2,
     "metadata": {},
     "source": [
      "Example E24 : Pg 541"
     ]
    },
    {
     "cell_type": "code",
     "collapsed": false,
     "input": [
      "                     # EXAMPLE 8-24    PG NO-541-542\n",
      "import math \n",
      "Avf=1.56\n",
      "Vo=2.262*10.** -3.;\n",
      "R=15.*10.**3.;\n",
      "F=0.707;\n",
      "C=0.002*10.** -6.;\n",
      "Fc=1./(2.*math.pi*R*C);\n",
      "print '%s %.2f %s' %('ii) Cut of Frequency (Fc) is    =  ',Fc,'  Hz ')\n",
      "Vo1=F*Vo;\n",
      "A=20.*math.log(1.56);\n",
      "print '%s %.2e %s' %('ii) Out Put Voltage (Vo1) is    =  ',Vo1,'  V ')"
     ],
     "language": "python",
     "metadata": {},
     "outputs": [
      {
       "output_type": "stream",
       "stream": "stdout",
       "text": [
        "ii) Cut of Frequency (Fc) is    =   5305.16   Hz \n",
        "ii) Out Put Voltage (Vo1) is    =   1.60e-03   V \n"
       ]
      }
     ],
     "prompt_number": 24
    },
    {
     "cell_type": "heading",
     "level": 2,
     "metadata": {},
     "source": [
      "Example E25 : Pg 542"
     ]
    },
    {
     "cell_type": "code",
     "collapsed": false,
     "input": [
      "                  # EXAMPLE 8-25     PG NO-542\n",
      "import math \n",
      "Fc=4000.;\n",
      "R=10.*10.** 3.;\n",
      "C=1./2.*math.pi*Fc*R;\n",
      "print '%s %.2f %s' %('i) CAPACITOR (C) is    =  ',C,'  F ')\n",
      "Avf=1.586;\n",
      "R1=15000.\n",
      "R2=Avf-1*R1;\n",
      "print '%s %.2f %s' %('ii) RESISTANCE (R2) is    =  ',R2,'  ohm ')"
     ],
     "language": "python",
     "metadata": {},
     "outputs": [
      {
       "output_type": "stream",
       "stream": "stdout",
       "text": [
        "i) CAPACITOR (C) is    =   62831853.07   F \n",
        "ii) RESISTANCE (R2) is    =   -14998.41   ohm \n"
       ]
      }
     ],
     "prompt_number": 25
    },
    {
     "cell_type": "heading",
     "level": 2,
     "metadata": {},
     "source": [
      "Example E26 : Pg 543"
     ]
    },
    {
     "cell_type": "code",
     "collapsed": false,
     "input": [
      "          # EXAMPLE-8-26    PG NO-543\n",
      "import math \n",
      "R=15.86;\n",
      "R1=10.;\n",
      "MA=R/R1; \n",
      "print '%s %.2f' %('i) mid band gain  = ',MA);"
     ],
     "language": "python",
     "metadata": {},
     "outputs": [
      {
       "output_type": "stream",
       "stream": "stdout",
       "text": [
        "i) mid band gain  =  1.59\n"
       ]
      }
     ],
     "prompt_number": 26
    },
    {
     "cell_type": "heading",
     "level": 2,
     "metadata": {},
     "source": [
      "Example E27 : Pg 545"
     ]
    },
    {
     "cell_type": "code",
     "collapsed": false,
     "input": [
      "                  # EXAMPLE 8-27  PG NO-545\n",
      "import math \n",
      "R2=0.586;\n",
      "MG=1.+0.586;           # MID BAND GAIN\n",
      "R=10.** 3.;\n",
      "C=0.02*10.** -6.;\n",
      "Fc=1/(2*math.pi*R*C);                   # Cut OFF Frequency\n",
      "GFc=0.707*MG;\n",
      "MBO=MG*1.4;\n",
      "print '%s %.2f %s' %('ii) Cut  off Frequency (Fc) is    =  ',Fc,'   ')\n",
      "print '%s %.2f %s' %('ii) Gain at cutt of frequency (G.Fc) is    =  ',GFc,'   ')\n",
      "print '%s %.2f %s' %('ii) Mid band out Put (M.B.O) is    =  ',MBO,'  mV ')"
     ],
     "language": "python",
     "metadata": {},
     "outputs": [
      {
       "output_type": "stream",
       "stream": "stdout",
       "text": [
        "ii) Cut  off Frequency (Fc) is    =   7957.75    \n",
        "ii) Gain at cutt of frequency (G.Fc) is    =   1.12    \n",
        "ii) Mid band out Put (M.B.O) is    =   2.22   mV \n"
       ]
      }
     ],
     "prompt_number": 27
    },
    {
     "cell_type": "heading",
     "level": 2,
     "metadata": {},
     "source": [
      "Example E28 : Pg 545"
     ]
    },
    {
     "cell_type": "code",
     "collapsed": false,
     "input": [
      "                       # EXAMPLE-8-28       PG NO-545-546\n",
      "import math \n",
      "Avf=1.586;\n",
      "R1=10.;\n",
      "R2=Avf-1*R1;\n",
      "Fc=5000.;\n",
      "R=2000.;\n",
      "C=1./2.*math.pi*R*Fc\n",
      "print '%s %.2f %s' %('ii) Resistance (R2) is    =  ',R2,'  Kohm ')\n",
      "print '%s %.2f %s' %('ii) CAPACITOR (C) is    =  ',C,'  F ')"
     ],
     "language": "python",
     "metadata": {},
     "outputs": [
      {
       "output_type": "stream",
       "stream": "stdout",
       "text": [
        "ii) Resistance (R2) is    =   -8.41   Kohm \n",
        "ii) CAPACITOR (C) is    =   15707963.27   F \n"
       ]
      }
     ],
     "prompt_number": 28
    },
    {
     "cell_type": "heading",
     "level": 2,
     "metadata": {},
     "source": [
      "Example E29 : Pg 547"
     ]
    },
    {
     "cell_type": "code",
     "collapsed": false,
     "input": [
      "               # EXAMPLE 8-29     PG NO-547-548\n",
      "import math \n",
      "R1=10000.;\n",
      "Fc1=8000.;\n",
      "C1=1./2.*math.pi*R1*Fc1;\n",
      "R4=15.;\n",
      "R3=8.79;\n",
      "Fc2=4000.;\n",
      "R2=20000.;\n",
      "C2=1./2.*math.pi*R2*Fc2;\n",
      "print '%s %.2f %s' %('ii) CAPACITOR (C1) is    =  ',C1,'  F ')\n",
      "print '%s %.2f %s' %('ii) CAPACITOR (C2) is    =  ',C2,'  F ')"
     ],
     "language": "python",
     "metadata": {},
     "outputs": [
      {
       "output_type": "stream",
       "stream": "stdout",
       "text": [
        "ii) CAPACITOR (C1) is    =   125663706.14   F \n",
        "ii) CAPACITOR (C2) is    =   125663706.14   F \n"
       ]
      }
     ],
     "prompt_number": 29
    },
    {
     "cell_type": "heading",
     "level": 2,
     "metadata": {},
     "source": [
      "Example E30 : Pg 548"
     ]
    },
    {
     "cell_type": "code",
     "collapsed": false,
     "input": [
      "                       # EXAMPLE 8-30    PG NO-548\n",
      "import math \n",
      "R1=10000.;\n",
      "Fc1=40000 ;\n",
      "C1=1./R1*Fc1*2*math.pi;\n",
      "print '%s %.2f %s' %('ii) CAPACITOR (C1) is    =  ',C1,'  F ');\n",
      "Fc2=8000.;\n",
      "R2=5000.;\n",
      "C2=1./R2*Fc2*2.*math.pi;\n",
      "print '%s %.2e %s' %('ii) CAPACITOR (C2) is    =  ',C2,'  F ');"
     ],
     "language": "python",
     "metadata": {},
     "outputs": [
      {
       "output_type": "stream",
       "stream": "stdout",
       "text": [
        "ii) CAPACITOR (C1) is    =   25.13   F \n",
        "ii) CAPACITOR (C2) is    =   1.01e+01   F \n"
       ]
      }
     ],
     "prompt_number": 30
    },
    {
     "cell_type": "heading",
     "level": 2,
     "metadata": {},
     "source": [
      "Example E31 : Pg 550"
     ]
    },
    {
     "cell_type": "code",
     "collapsed": false,
     "input": [
      "                # EXAMPLE 8-31     PG NO-550\n",
      "import math \n",
      "N=100.;\n",
      "Ro=450.;\n",
      "R1=Ro*(N-1)/(N+1);\n",
      "R2=Ro*(2*N/(N** 2-1));\n",
      "print '%s %.2f %s' %('ii) Resistance (R1) is    =  ',R1,'  ohm ');\n",
      "print '%s %.2f %s' %('ii) Resistance(r2) is    =  ',R2,'  ohm ');"
     ],
     "language": "python",
     "metadata": {},
     "outputs": [
      {
       "output_type": "stream",
       "stream": "stdout",
       "text": [
        "ii) Resistance (R1) is    =   441.09   ohm \n",
        "ii) Resistance(r2) is    =   9.00   ohm \n"
       ]
      }
     ],
     "prompt_number": 31
    },
    {
     "cell_type": "heading",
     "level": 2,
     "metadata": {},
     "source": [
      "Example E32 : Pg 550"
     ]
    },
    {
     "cell_type": "code",
     "collapsed": false,
     "input": [
      "                      # EXAMPLE 8-32      PG NO-550\n",
      "import math \n",
      "Zoc=200.;\n",
      "Zsc=187.5;\n",
      "Zo=Zoc*Zsc** 0.5;\n",
      "R1=50.;\n",
      "R2=150.;\n",
      "R3=193.65;\n",
      "N=(R1+R2+R3)/R1;\n",
      "D=20.*math.log10(N)\n",
      "print '%s %.2f %s' %('ii) IMPEDANCE (Zo) is    =  ',Zo,'  ohm ');\n",
      "print '%s %.2f' %('ii)  (N) is    =  ',N);\n",
      "print '%s %.2f %s' %('ii)  (D) is    =  ',D,'  dB ');"
     ],
     "language": "python",
     "metadata": {},
     "outputs": [
      {
       "output_type": "stream",
       "stream": "stdout",
       "text": [
        "ii) IMPEDANCE (Zo) is    =   2738.61   ohm \n",
        "ii)  (N) is    =   7.87\n",
        "ii)  (D) is    =   17.92   dB \n"
       ]
      }
     ],
     "prompt_number": 32
    },
    {
     "cell_type": "heading",
     "level": 2,
     "metadata": {},
     "source": [
      "Example E33 : Pg 551"
     ]
    },
    {
     "cell_type": "code",
     "collapsed": false,
     "input": [
      "                # EXAMPLE 8-33       PG NO-551\n",
      "import math \n",
      "N=2.985;\n",
      "Ro=175.;\n",
      "R1=Ro*(N-1)/(N+1);\n",
      "R2=Ro*(2.*N)/(N** 2-1);\n",
      "print '%s %.2f %s' %('ii) Resistance (R1) is    =  ',R1,'  ohm ');\n",
      "print '%s %.2f %s' %('ii) Resistance (R2) is    =  ',R2,'  ohm ');"
     ],
     "language": "python",
     "metadata": {},
     "outputs": [
      {
       "output_type": "stream",
       "stream": "stdout",
       "text": [
        "ii) Resistance (R1) is    =   87.17   ohm \n",
        "ii) Resistance (R2) is    =   132.08   ohm \n"
       ]
      }
     ],
     "prompt_number": 33
    },
    {
     "cell_type": "heading",
     "level": 2,
     "metadata": {},
     "source": [
      "Example E34 : Pg 551"
     ]
    },
    {
     "cell_type": "code",
     "collapsed": false,
     "input": [
      "                # EXAMPLE 8-33       PG NO-551\n",
      "import math \n",
      "N=2.985;\n",
      "Ro=175.;\n",
      "R1=Ro*(N-1)/(N+1);\n",
      "R2=Ro*(2.*N)/(N** 2-1);\n",
      "print '%s %.2f %s' %('ii) Resistance (R1) is    =  ',R1,'  ohm ');\n",
      "print '%s %.2f %s' %('ii) Resistance (R2) is    =  ',R2,'  ohm ');"
     ],
     "language": "python",
     "metadata": {},
     "outputs": [
      {
       "output_type": "stream",
       "stream": "stdout",
       "text": [
        "ii) Resistance (R1) is    =   87.17   ohm \n",
        "ii) Resistance (R2) is    =   132.08   ohm \n"
       ]
      }
     ],
     "prompt_number": 34
    },
    {
     "cell_type": "heading",
     "level": 2,
     "metadata": {},
     "source": [
      "Example E35 : Pg 552"
     ]
    },
    {
     "cell_type": "code",
     "collapsed": false,
     "input": [
      "                 # EXAMPLE 8-35    PG NO-552\n",
      "import math\n",
      "R1=200.;\n",
      "R2=200.;\n",
      "R3=100.;\n",
      "Zoc=(R1*(R2+R3)/(R1+R2+R3));\n",
      "print '%s %.2f %s' %('i) IMPEDANCE (Zoc) is    =  ',Zoc,'  ohm ');\n",
      "Zsc=(R1*R3)/(R1+R3);\n",
      "print '%s %.2f %s' %('ii) IMPEDANCE (Zsc) is    =  ',Zsc,'  ohm ');\n",
      "Zo=Zoc*Zsc** 0.5;\n",
      "print '%s %.2f %s' %('iii) IMPEDANCE (Zo) is    =  ',Zo,'  ohm ');\n",
      "N=2.618;\n",
      "D=20.*math.log10(N)\n",
      "print '%s %.2f %s' %('ii) (D) is    =  ',D,'  dB ');"
     ],
     "language": "python",
     "metadata": {},
     "outputs": [
      {
       "output_type": "stream",
       "stream": "stdout",
       "text": [
        "i) IMPEDANCE (Zoc) is    =   120.00   ohm \n",
        "ii) IMPEDANCE (Zsc) is    =   66.67   ohm \n",
        "iii) IMPEDANCE (Zo) is    =   979.80   ohm \n",
        "ii) (D) is    =   8.36   dB \n"
       ]
      }
     ],
     "prompt_number": 35
    },
    {
     "cell_type": "heading",
     "level": 2,
     "metadata": {},
     "source": [
      "Example E36 : Pg 552"
     ]
    },
    {
     "cell_type": "code",
     "collapsed": false,
     "input": [
      "                 # EXAMPLE 8-36   PG NO-552-553\n",
      "N=31.622;\n",
      "Ro=700.;\n",
      "R1=Ro*((N** 2-1)/(2*N));\n",
      "R2=Ro*((N+1)/(N-1));\n",
      "print '%s %.2f %s' %('i) RESISTANCE (R1) is    =  ',R1,'  ohm ');\n",
      "print '%s %.2f %s' %('ii) RESISTANCE (R2) is    =  ',R2,'  ohms ');"
     ],
     "language": "python",
     "metadata": {},
     "outputs": [
      {
       "output_type": "stream",
       "stream": "stdout",
       "text": [
        "i) RESISTANCE (R1) is    =   11056.63   ohm \n",
        "ii) RESISTANCE (R2) is    =   745.72   ohms \n"
       ]
      }
     ],
     "prompt_number": 36
    },
    {
     "cell_type": "heading",
     "level": 2,
     "metadata": {},
     "source": [
      "Example E37 : Pg 553"
     ]
    },
    {
     "cell_type": "code",
     "collapsed": false,
     "input": [
      "                 # EXAMPLE 8-37      PG NO-553\n",
      "R1=657.08;\n",
      "R2=44.316;\n",
      "Zoc=R1+R2;\n",
      "Zsc=R1+((R1*R2)/(R1+R2));\n",
      "Zo=(Zoc*Zsc)** 0.5;\n",
      "N=(R2+R1+Zo)/R2;\n",
      "print '%s %.2f %s' %('i)    impedance (Zoc) is    =  ',Zoc,'  ohm ');\n",
      "print '%s %.2f %s' %('ii) impedance (Zsc) is    =  ',Zsc,'  ohm ');\n",
      "print '%s %.2f %s' %('iii)impedance (Zo) is    =  ',Zo,'  ohm ');\n",
      "print '%s %.2f' %('iv) (N) is    =  ',N);"
     ],
     "language": "python",
     "metadata": {},
     "outputs": [
      {
       "output_type": "stream",
       "stream": "stdout",
       "text": [
        "i)    impedance (Zoc) is    =   701.40   ohm \n",
        "ii) impedance (Zsc) is    =   698.60   ohm \n",
        "iii)impedance (Zo) is    =   699.99   ohm \n",
        "iv) (N) is    =   31.62\n"
       ]
      }
     ],
     "prompt_number": 37
    },
    {
     "cell_type": "heading",
     "level": 2,
     "metadata": {},
     "source": [
      "Example E38 : Pg 554"
     ]
    },
    {
     "cell_type": "code",
     "collapsed": false,
     "input": [
      "             # EXAMPLE 8-38    PG NO-554\n",
      "N=5.6234;\n",
      "Ro=450.;\n",
      "R1=Ro*((N** 2-1)/(2*N));\n",
      "R2=Ro*((N+1)/(N-1));\n",
      "print '%s %.2f %s' %('i) RESISTANCE (R1) is    =  ',R1,'  ohm ');\n",
      "print '%s %.2f %s' %('ii) RESISTANCE (R2) is    =  ',R2,'  ohm ');"
     ],
     "language": "python",
     "metadata": {},
     "outputs": [
      {
       "output_type": "stream",
       "stream": "stdout",
       "text": [
        "i) RESISTANCE (R1) is    =   1225.25   ohm \n",
        "ii) RESISTANCE (R2) is    =   644.66   ohm \n"
       ]
      }
     ],
     "prompt_number": 38
    },
    {
     "cell_type": "heading",
     "level": 2,
     "metadata": {},
     "source": [
      "Example E39 : Pg 554"
     ]
    },
    {
     "cell_type": "code",
     "collapsed": false,
     "input": [
      "                   # EXAMPLE 8-39       PG NO-554\n",
      "R1=250.;\n",
      "R2=750.;\n",
      "Zoc=(R1*(R1+R2))/(R1+R2+R1);\n",
      "Zsc=((R1*R2)/(R1+R2));\n",
      "Zo=(Zoc*Zsc)**0.5;\n",
      "print '%s %.2f %s' %('i)    impedance (Zoc) is    = ',Zoc, 'ohm ');\n",
      "print '%s %.2f %s' %('ii) impedance (Zsc) is    =  ',Zsc,'  ohm ');\n",
      "print '%s %.2f %s' %('iii)impedance (Zo) is    =  ',Zo,'  ohm ');"
     ],
     "language": "python",
     "metadata": {},
     "outputs": [
      {
       "output_type": "stream",
       "stream": "stdout",
       "text": [
        "i)    impedance (Zoc) is    =  200.00 ohm \n",
        "ii) impedance (Zsc) is    =   187.50   ohm \n",
        "iii)impedance (Zo) is    =   193.65   ohm \n"
       ]
      }
     ],
     "prompt_number": 39
    },
    {
     "cell_type": "heading",
     "level": 2,
     "metadata": {},
     "source": [
      "Example E40 : Pg 554"
     ]
    },
    {
     "cell_type": "code",
     "collapsed": false,
     "input": [
      "                   # EXAMPLE 8-40  PG NO-554-555\n",
      "R1=459.089;\n",
      "R2=22500.;\n",
      "Zoc=(R1*(R1+R2))/(R1+R2+R1);\n",
      "Zsc=((R1*R2)/(R1+R2));\n",
      "Zo=(Zoc*Zsc)**0.5;\n",
      "print '%s %.2f %s' %('i)    impedance (Zoc) is    =  ',Zoc,'  ohm ');\n",
      "print '%s %.2f %s' %('ii) impedance (Zsc) is    =  ',Zsc,'  ohm ');\n",
      "print '%s %.2f %s' %('iii)impedance (Zo) is    =  ',Zo,'  ohm ');"
     ],
     "language": "python",
     "metadata": {},
     "outputs": [
      {
       "output_type": "stream",
       "stream": "stdout",
       "text": [
        "i)    impedance (Zoc) is    =   450.09   ohm \n",
        "ii) impedance (Zsc) is    =   449.91   ohm \n",
        "iii)impedance (Zo) is    =   450.00   ohm \n"
       ]
      }
     ],
     "prompt_number": 40
    },
    {
     "cell_type": "heading",
     "level": 2,
     "metadata": {},
     "source": [
      "Example E41 : Pg 557"
     ]
    },
    {
     "cell_type": "code",
     "collapsed": false,
     "input": [
      "              # EXAMPLE 8-41   PG NO-557\n",
      "N=7.943;\n",
      "Z=300.;          # IMPEDANCE\n",
      "R1=((N-1.)/N)*Z;\n",
      "R2=Z/(N-1.);\n",
      "print '%s %.2f %s' %('i)   RESISTANCE (R1) is    =  ',R1,'  ohm ');\n",
      "print '%s %.2f %s' %('ii)   RESISTANCE (R2) is    =  ',R2,'  ohm ');"
     ],
     "language": "python",
     "metadata": {},
     "outputs": [
      {
       "output_type": "stream",
       "stream": "stdout",
       "text": [
        "i)   RESISTANCE (R1) is    =   262.23   ohm \n",
        "ii)   RESISTANCE (R2) is    =   43.21   ohm \n"
       ]
      }
     ],
     "prompt_number": 41
    },
    {
     "cell_type": "heading",
     "level": 2,
     "metadata": {},
     "source": [
      "Example E42 : Pg 557"
     ]
    },
    {
     "cell_type": "code",
     "collapsed": false,
     "input": [
      "                   # EXAMPLE 8-43   PG NO-557\n",
      "Z1=450.;\n",
      "Z2=300.;\n",
      "R1=(Z1*(Z1-Z2))**0.5;\n",
      "R2=((Z1*Z2*Z2)/(Z1-Z2))**0.5;\n",
      "print '%s %.2f %s' %('ii)   RESISTANCE (R1) is    =  ',R1,'  ohm ');\n",
      "print '%s %.2f %s' %('ii)   RESISTANCE (R2) is    =  ',R2,'  ohm ');"
     ],
     "language": "python",
     "metadata": {},
     "outputs": [
      {
       "output_type": "stream",
       "stream": "stdout",
       "text": [
        "ii)   RESISTANCE (R1) is    =   259.81   ohm \n",
        "ii)   RESISTANCE (R2) is    =   519.62   ohm \n"
       ]
      }
     ],
     "prompt_number": 42
    },
    {
     "cell_type": "heading",
     "level": 2,
     "metadata": {},
     "source": [
      "Example E43 : Pg 557"
     ]
    },
    {
     "cell_type": "code",
     "collapsed": false,
     "input": [
      "                   # EXAMPLE 8-43   PG NO-557\n",
      "Z1=450.;\n",
      "Z2=300.;\n",
      "R1=(Z1*(Z1-Z2))**0.5;\n",
      "R2=((Z1*Z2*Z2)/(Z1-Z2))**0.5;\n",
      "print '%s %.2f %s' %('ii)   RESISTANCE (R1) is    =  ',R1,'  ohm ');\n",
      "print '%s %.2f %s' %('ii)   RESISTANCE (R2) is    =  ',R2,'  ohm ');"
     ],
     "language": "python",
     "metadata": {},
     "outputs": [
      {
       "output_type": "stream",
       "stream": "stdout",
       "text": [
        "ii)   RESISTANCE (R1) is    =   259.81   ohm \n",
        "ii)   RESISTANCE (R2) is    =   519.62   ohm \n"
       ]
      }
     ],
     "prompt_number": 43
    },
    {
     "cell_type": "heading",
     "level": 2,
     "metadata": {},
     "source": [
      "Example E45 : Pg 559"
     ]
    },
    {
     "cell_type": "code",
     "collapsed": false,
     "input": [
      "                # EXAMPLE 8-45 PG NO-559-560\n",
      "N=5.6234;\n",
      "R1=500.;\n",
      "R2=R1/(N-1.);\n",
      "R3=R1*(N-1.);\n",
      "print '%s %.2f %s' %('i)   RESISTANCE (R2) is    =  ',R2,'  ohm ');\n",
      "print '%s %.2f %s' %('ii)   RESISTANCE (R3) is    =  ',R3,'  ohm ');"
     ],
     "language": "python",
     "metadata": {},
     "outputs": [
      {
       "output_type": "stream",
       "stream": "stdout",
       "text": [
        "i)   RESISTANCE (R2) is    =   108.15   ohm \n",
        "ii)   RESISTANCE (R3) is    =   2311.70   ohm \n"
       ]
      }
     ],
     "prompt_number": 44
    },
    {
     "cell_type": "heading",
     "level": 2,
     "metadata": {},
     "source": [
      "Example E46 : Pg 560"
     ]
    },
    {
     "cell_type": "code",
     "collapsed": false,
     "input": [
      "                   # EXAMPLE 8-46     PG NO-560-561\n",
      "N=7.0795;\n",
      "Z1=450.;\n",
      "R1=Z1*((N-1.)/(N+1.));\n",
      "R2=Z1*((N+1.)/(N-1.));\n",
      "print '%s %.2f %s' %('ii)   RESISTANCE (R1) is    =  ',R1,'  ohm ');\n",
      "print '%s %.2f %s' %('ii)   RESISTANCE (R2) is    =  ',R2,'  ohm ');"
     ],
     "language": "python",
     "metadata": {},
     "outputs": [
      {
       "output_type": "stream",
       "stream": "stdout",
       "text": [
        "ii)   RESISTANCE (R1) is    =   338.61   ohm \n",
        "ii)   RESISTANCE (R2) is    =   598.04   ohm \n"
       ]
      }
     ],
     "prompt_number": 45
    },
    {
     "cell_type": "heading",
     "level": 2,
     "metadata": {},
     "source": [
      "Example E47 : Pg 561"
     ]
    },
    {
     "cell_type": "code",
     "collapsed": false,
     "input": [
      "              # EXAMPLE 8-47    PG  NO-561\n",
      "import math \n",
      "R1=175.;\n",
      "R2=350.;\n",
      "Zoc=R1+R2;\n",
      "Zsc=R1+((R1*R2)/(R1+R2));\n",
      "Zo=(Zoc*Zsc)**0.5;\n",
      "N=(R1+R2+Zo)/R2;\n",
      "AT=20.*math.log10(2.618);\n",
      "print '%s %.2f %s' %('i)    impedance (Zoc) is    =  ',Zoc,'  ohm ');\n",
      "print '%s %.2f %s' %('ii) impedance (Zsc) is    =  ',Zsc,'  ohm ');\n",
      "print '%s %.2f %s' %('iii)impedance (Zo) is    =  ',Zo,'  ohm ');\n",
      "print '%s %.2f' %('iv)   (N) is    =  '         ,N)\n",
      "print '%s %.2f %s' %('v)attenuation (AT) is    =  ',AT,'  dB ')"
     ],
     "language": "python",
     "metadata": {},
     "outputs": [
      {
       "output_type": "stream",
       "stream": "stdout",
       "text": [
        "i)    impedance (Zoc) is    =   525.00   ohm \n",
        "ii) impedance (Zsc) is    =   291.67   ohm \n",
        "iii)impedance (Zo) is    =   391.31   ohm \n",
        "iv)   (N) is    =   2.62\n",
        "v)attenuation (AT) is    =   8.36   dB \n"
       ]
      }
     ],
     "prompt_number": 46
    },
    {
     "cell_type": "heading",
     "level": 2,
     "metadata": {},
     "source": [
      "Example E48 : Pg 561"
     ]
    },
    {
     "cell_type": "code",
     "collapsed": false,
     "input": [
      "                         # EXAMPLE  8-48   PG NO-561\n",
      "R=300.;\n",
      "N=31.62;\n",
      "R1=((N-1.)/N)*R;\n",
      "R2=R/(N-1.);\n",
      "print '%s %.2f %s' %('i)   RESISTANCE (R1) is    =  ',R1,'  ohm ');\n",
      "print '%s %.2f %s' %('ii)   RESISTANCE (R2) is    =  ',R2,'  ohm ');"
     ],
     "language": "python",
     "metadata": {},
     "outputs": [
      {
       "output_type": "stream",
       "stream": "stdout",
       "text": [
        "i)   RESISTANCE (R1) is    =   290.51   ohm \n",
        "ii)   RESISTANCE (R2) is    =   9.80   ohm \n"
       ]
      }
     ],
     "prompt_number": 47
    },
    {
     "cell_type": "heading",
     "level": 2,
     "metadata": {},
     "source": [
      "Example E49 : Pg 562"
     ]
    },
    {
     "cell_type": "code",
     "collapsed": false,
     "input": [
      "                # EXAMPLE 8-49   PG NO-562\n",
      "Ro=500.;\n",
      "N=10.;\n",
      "RA=Ro*((N-1.)/(N+1.));\n",
      "RB=Ro*((N+1.)/(N-1.));\n",
      "R1=Ro*((N-1.)/(N+1.));\n",
      "R2=Ro*((2.*N)/(N**2.-1.));\n",
      "print '%s %.2f %s' %('ii)   RESISTANCE (RA) is    =  ',RA,'  ohm ');\n",
      "print '%s %.2f %s' %('ii)   RESISTANCE (RB) is    =  ',RB,'  ohm ');\n",
      "print '%s %.2f %s' %('ii)   RESISTANCE (R1) is    =  ',R1,'  ohm ');\n",
      "print '%s %.2f %s' %('ii)   RESISTANCE (R2) is    =  ',R2,'  ohm ');"
     ],
     "language": "python",
     "metadata": {},
     "outputs": [
      {
       "output_type": "stream",
       "stream": "stdout",
       "text": [
        "ii)   RESISTANCE (RA) is    =   409.09   ohm \n",
        "ii)   RESISTANCE (RB) is    =   611.11   ohm \n",
        "ii)   RESISTANCE (R1) is    =   409.09   ohm \n",
        "ii)   RESISTANCE (R2) is    =   101.01   ohm \n"
       ]
      }
     ],
     "prompt_number": 48
    }
   ],
   "metadata": {}
  }
 ]
}