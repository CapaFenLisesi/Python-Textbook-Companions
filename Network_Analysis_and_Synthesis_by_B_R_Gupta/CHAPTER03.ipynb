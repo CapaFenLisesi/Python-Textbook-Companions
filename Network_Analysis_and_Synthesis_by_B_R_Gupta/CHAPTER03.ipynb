{
 "metadata": {
  "name": "",
  "signature": "sha256:6d9a39e44daa2eaa18aa201b071e999a7f5cb7abad2fc3236ca67ce4339044d2"
 },
 "nbformat": 3,
 "nbformat_minor": 0,
 "worksheets": [
  {
   "cells": [
    {
     "cell_type": "heading",
     "level": 1,
     "metadata": {},
     "source": [
      "CHAPTER03:THREE PHASE CIRCUITS"
     ]
    },
    {
     "cell_type": "heading",
     "level": 2,
     "metadata": {},
     "source": [
      "Example E01 : Pg 172"
     ]
    },
    {
     "cell_type": "code",
     "collapsed": false,
     "input": [
      "             # EXAMPLE 3-1 PG NO-172\n",
      "import math \n",
      "VL=400.;\n",
      "Vp=400./math.sqrt(3.);\n",
      "Z=8.-1j*10.;\n",
      "IL=Vp/Z;\n",
      "S=math.sqrt(3.)*(VL*IL);\n",
      "P=S*(math.cos(-51.34));\n",
      "Q=S*(math.sin(-51.34));\n",
      "Von=230.94+1j*0;\n",
      "Vbn=-115.47-1j*99.99\n",
      "print 'i) RMS   =  ',S,'A'"
     ],
     "language": "python",
     "metadata": {},
     "outputs": [
      {
       "output_type": "stream",
       "stream": "stdout",
       "text": [
        "i) RMS   =   (7804.87804878+9756.09756098j) A\n"
       ]
      }
     ],
     "prompt_number": 1
    },
    {
     "cell_type": "heading",
     "level": 2,
     "metadata": {},
     "source": [
      "Example E02 : Pg 173"
     ]
    },
    {
     "cell_type": "code",
     "collapsed": false,
     "input": [
      "      # EXAMPLE 2-32    PG NO 173\n",
      "import math \n",
      "Vp=400.;     # Peak voltage\n",
      "VL=400.;\n",
      "Z=8.-1j*10.;     # Impedance\n",
      "Ip=VL/12.81;     \n",
      "IL=math.sqrt(3.)*Ip;\n",
      "S=math.sqrt(3.)*VL*IL;\n",
      "P=S*math.cos(-51.34);\n",
      "Q=S*math.sin(-51.34);\n",
      "Vab=Vp+1j*0;\n",
      "Vbc=-200.-1j*346.410;\n",
      "Vca=-200.+1j*346.;\n",
      "Iab=Vab/Z;\n",
      "Ibc=Vbc/Z;\n",
      "Ica=Vca/Z;\n",
      "Ia=Iab-Ibc;\n",
      "Ib=Ibc-Iab;\n",
      "Ic=Ica-Ibc;\n",
      "print 'i) Peak current   =  ',Ip,'A '\n",
      "print 'i) S   =  ',S,'VA '\n",
      "print 'i) Active Power   =  ',P,'W '\n",
      "print 'i) Reactive power   =  ',Q,'Vars '\n",
      "print 'i) Iab is in reactance form  =  ',Iab,'A '\n",
      "print 'i) Ibc is in  reactance form =  ',Ibc,'A '\n",
      "print 'i) Ica is in reactance   form=  ',Ica,'A '\n",
      "print 'i) Ia is in  reactance form =  ',Ia,'A '\n",
      "print 'i) Ib is in reactance form  =  ',Ib,'A '\n",
      "print 'i) Ic is in reactance  =  ',Ic,'A '"
     ],
     "language": "python",
     "metadata": {},
     "outputs": [
      {
       "output_type": "stream",
       "stream": "stdout",
       "text": [
        "i) Peak current   =   31.2256049961 A \n",
        "i) S   =   37470.7259953 VA \n",
        "i) Active Power   =   17841.9317159 W \n",
        "i) Reactive power   =   -32950.2773776 Vars \n",
        "i) Iab is in reactance form  =   (19.512195122+24.3902439024j) A \n",
        "i) Ibc is in  reactance form =   (11.3664634146-29.0931707317j) A \n",
        "i) Ica is in reactance   form=   (-30.8536585366+4.68292682927j) A \n",
        "i) Ia is in  reactance form =   (8.14573170732+53.4834146341j) A \n",
        "i) Ib is in reactance form  =   (-8.14573170732-53.4834146341j) A \n",
        "i) Ic is in reactance  =   (-42.2201219512+33.776097561j) A \n"
       ]
      }
     ],
     "prompt_number": 2
    },
    {
     "cell_type": "heading",
     "level": 2,
     "metadata": {},
     "source": [
      "Example E03 : Pg 174"
     ]
    },
    {
     "cell_type": "code",
     "collapsed": false,
     "input": [
      "     # EXAMPLE 3.3  PG NO 174\n",
      "import math \n",
      "Zy=3.+1j*5.196;\n",
      "Zeq=2.55+1j*2.916;\n",
      "Vp=230.94;\n",
      "IL=59.61;\n",
      "Ip=59.61;\n",
      "VL=400.;\n",
      "#cos(48.83)=0.658;\n",
      "#sin(48.83)=0.7527;\n",
      "S=math.sqrt(3.)*VL*IL;\n",
      "P=math.sqrt(3.)*VL*IL*0.658;\n",
      "Q=math.sqrt(3.)*VL*IL*0.7527;\n",
      "print 'i) S   =  ',S,'VA '\n",
      "print 'i) Active power   =  ',P,'W '\n",
      "print 'i) Reactive power   =  ',Q,'Vars '"
     ],
     "language": "python",
     "metadata": {},
     "outputs": [
      {
       "output_type": "stream",
       "stream": "stdout",
       "text": [
        "i) S   =   41299.0194557 VA \n",
        "i) Active power   =   27174.7548018 W \n",
        "i) Reactive power   =   31085.7719443 Vars \n"
       ]
      }
     ],
     "prompt_number": 3
    },
    {
     "cell_type": "heading",
     "level": 2,
     "metadata": {},
     "source": [
      "Example E04 : Pg 174"
     ]
    },
    {
     "cell_type": "code",
     "collapsed": false,
     "input": [
      "# EXAMPLE 3-4   PG NO-174\n",
      "import math \n",
      "V=220.;\n",
      "Im=15.75+1j*21.;\n",
      "Z=5.33-1j*4.;\n",
      "LI=V/(math.sqrt(3.)*Z);\n",
      "TLI=LI+Im;\n",
      "#math.cos(-17.16)=0.955;\n",
      "PF=math.sqrt(3.)*0.955*V*32.42;\n",
      "print 'i) Line current   =  ',LI,'A '\n",
      "print 'i) TOTAL line current   =  ',TLI,'A '\n",
      "print 'i) Power Factor   =  ',PF,'W '"
     ],
     "language": "python",
     "metadata": {},
     "outputs": [
      {
       "output_type": "stream",
       "stream": "stdout",
       "text": [
        "i) Line current   =   (15.2447127862+11.4406850178j) A \n",
        "i) TOTAL line current   =   (30.9947127862+32.4406850178j) A \n",
        "i) Power Factor   =   11797.7636168 W \n"
       ]
      }
     ],
     "prompt_number": 4
    },
    {
     "cell_type": "heading",
     "level": 2,
     "metadata": {},
     "source": [
      "Example E05 : Pg 175"
     ]
    },
    {
     "cell_type": "code",
     "collapsed": false,
     "input": [
      "   # EXAMPLE 3-5 PG NO-175\n",
      "import math \n",
      "Pm=6000.;\n",
      "Qm=8000.;\n",
      "Z=16.-1j*12.;\n",
      "V=220.;\n",
      "PC=V/Z;\n",
      "PL=3.*V*11.*0.799;\n",
      "QL=3.*V*11.*(-0.6);\n",
      "P=Pm+PL;\n",
      "Q=Qm+QL;\n",
      "PF=math.cos(1./math.tan(Q/P));\n",
      "IL=P/(math.sqrt(3.)*V*0.9555);\n",
      "print 'i) Phase current   =  ',PC,'A '\n",
      "print 'i) PL   =  ',PL,'W '\n",
      "print 'i) QL   =  ',QL,'Vars '\n",
      "print 'i) Active power   =  ',P,'W '\n",
      "print 'i) Reactive Power   =  ',Q,'Vars '\n",
      "print 'i) Power factor   =  ',PF,'lagging '\n",
      "print 'i)  line current (IL)  =  ',IL,'A '\n"
     ],
     "language": "python",
     "metadata": {},
     "outputs": [
      {
       "output_type": "stream",
       "stream": "stdout",
       "text": [
        "i) Phase current   =   (8.8+6.6j) A \n",
        "i) PL   =   5800.74 W \n",
        "i) QL   =   -4356.0 Vars \n",
        "i) Active power   =   11800.74 W \n",
        "i) Reactive Power   =   3644.0 Vars \n",
        "i) Power factor   =   -0.999977005554 lagging \n",
        "i)  line current (IL)  =   32.411209817 A \n"
       ]
      }
     ],
     "prompt_number": 5
    },
    {
     "cell_type": "heading",
     "level": 2,
     "metadata": {},
     "source": [
      "Example E06 : Pg 175"
     ]
    },
    {
     "cell_type": "code",
     "collapsed": false,
     "input": [
      "                   # EXAMPLE 3-6     PG NO-175\n",
      "Vac=100.+1j*0;\n",
      "Vcb=-50.-1j*86.6;\n",
      "Vba=-50.+1j*86.6;\n",
      "Zac=6.+1j*8.;\n",
      "Rcb=20.+1j*0;\n",
      "Zba=4.-1j*3.;\n",
      "Zcb=20.+1j*0;\n",
      "Iac=Vac/Zac;\n",
      "print ('i) CURRENT  (Iac) is  in rectangular form  =  ',Iac,' A ');\n",
      "Icb=Vcb/Zcb;\n",
      "print ('i) CURRENT  (Icb) is  in  rectangular form  =  ',Icb,' A ');\n",
      "Iba=Vba/Zba;\n",
      "print ('i) CURRENT  (IbA) is  in rectangular form  =  ',Iba,' A ');\n",
      "Ia=Iac-Iba;\n",
      "print ('i) CURRENT  (Ia) is  in rectangular form  =  ',Ia,' A ');\n",
      "Ic=Icb-Iac;\n",
      "print ('i) CURRENT  (Ic) is  in rectangular form  =  ',Ic,' A ');\n",
      "Ib=Iba-Icb;\n",
      "print ('i) CURRENT  (Ib) is  in  rectangular form  =  ',Ib,' A ');\n",
      "Pac=Vac*Iac*0.6;\n",
      "print ('iv)  Power (Pac) is  in  rectangular form   =  ',Pac,'  W ');\n",
      "Pcb=Vcb*Icb;\n",
      "print ('iv)  Power (Pcb) is in   rectangular form    =  ',Pcb,'  W ');\n",
      "Pba=Vba*Iba*0.8;\n",
      "print ('iv)  Power (Pba) is  in rectangular form  =  ',Pba,'  W ');\n",
      "Qac=100.*20.*0.8;\n",
      "print ('iv) Reactive Power (Qac) is in rectangular form   =  ',Qac,'  vars ');\n",
      "Qba=100.*20.*-0.6\n",
      "print ('iv) Reactive Power (Qba) is   in rectangular form =  ',Qba,'  vars ');\n",
      "P=600.+500.+1600.;\n",
      "print ('iv)  Power (P) is    =  ',P,'  W ');\n",
      "Q=800.-1200.;\n",
      "print ('iv)  Power (Q) is    =  ',Q,'  vars ');"
     ],
     "language": "python",
     "metadata": {},
     "outputs": [
      {
       "output_type": "stream",
       "stream": "stdout",
       "text": [
        "('i) CURRENT  (Iac) is  in rectangular form  =  ', (6-8j), ' A ')\n",
        "('i) CURRENT  (Icb) is  in  rectangular form  =  ', (-2.5-4.33j), ' A ')\n",
        "('i) CURRENT  (IbA) is  in rectangular form  =  ', (-18.392+7.855999999999999j), ' A ')\n",
        "('i) CURRENT  (Ia) is  in rectangular form  =  ', (24.392-15.855999999999998j), ' A ')\n",
        "('i) CURRENT  (Ic) is  in rectangular form  =  ', (-8.5+3.67j), ' A ')\n",
        "('i) CURRENT  (Ib) is  in  rectangular form  =  ', (-15.892+12.186j), ' A ')\n",
        "('iv)  Power (Pac) is  in  rectangular form   =  ', (360-480j), '  W ')\n",
        "('iv)  Power (Pcb) is in   rectangular form    =  ', (-249.978+433j), '  W ')\n",
        "('iv)  Power (Pba) is  in rectangular form  =  ', (191.4163200000001-1588.4377599999998j), '  W ')\n",
        "('iv) Reactive Power (Qac) is in rectangular form   =  ', 1600.0, '  vars ')\n",
        "('iv) Reactive Power (Qba) is   in rectangular form =  ', -1200.0, '  vars ')\n",
        "('iv)  Power (P) is    =  ', 2700.0, '  W ')\n",
        "('iv)  Power (Q) is    =  ', -400.0, '  vars ')\n"
       ]
      }
     ],
     "prompt_number": 6
    },
    {
     "cell_type": "heading",
     "level": 2,
     "metadata": {},
     "source": [
      "Example E07 : Pg 176"
     ]
    },
    {
     "cell_type": "code",
     "collapsed": false,
     "input": [
      "                      # EXAMPLE 3-7  PG NO-176-177\n",
      "Vab=400.+1j*0;\n",
      "Vbc=-200.-1j*346.410;\n",
      "R=100.;\n",
      "Ica=0;\n",
      "Iab=Vab/R;\n",
      "print 'i) CURRENT  (Iab) is  in rectangular form  =  ',Iab,' A '\n",
      "Ibc=Vbc/R;\n",
      "print 'i) CURRENT  (Ibc) is  in rectangular form  =  ',Ibc,' A '\n",
      "Ia=Iab-Ica;\n",
      "print 'i) CURRENT  (Ia) is  in rectangular form  =  ',Ia,' A '\n",
      "Ib=Ibc-Iab;\n",
      "print 'i) CURRENT  (Ib) is  in rectangular form  =  ',Ib,' A '\n",
      "Ic=Ica-Ibc;\n",
      "print 'i) CURRENT  (Ic) is  in rectangular form  =  ',Ic,' A '"
     ],
     "language": "python",
     "metadata": {},
     "outputs": [
      {
       "output_type": "stream",
       "stream": "stdout",
       "text": [
        "i) CURRENT  (Iab) is  in rectangular form  =   (4+0j)  A \n",
        "i) CURRENT  (Ibc) is  in rectangular form  =   (-2-3.4641j)  A \n",
        "i) CURRENT  (Ia) is  in rectangular form  =   (4+0j)  A \n",
        "i) CURRENT  (Ib) is  in rectangular form  =   (-6-3.4641j)  A \n",
        "i) CURRENT  (Ic) is  in rectangular form  =   (2+3.4641j)  A \n"
       ]
      }
     ],
     "prompt_number": 7
    },
    {
     "cell_type": "heading",
     "level": 2,
     "metadata": {},
     "source": [
      "Example E08 : Pg 177"
     ]
    },
    {
     "cell_type": "code",
     "collapsed": false,
     "input": [
      "                       # EXAMPLE 3-8   PG NO-177\n",
      "Za=10-1j*8;\n",
      "Zb=12+1j*0;\n",
      "Zc=8+1j*10;\n",
      "Van=230.94+1j*0;\n",
      "Vbn=-115.47-1j*200;\n",
      "Vcn=-115.47+1j*200;\n",
      "Ia=Van/Za;\n",
      "print 'i) CURRENT  (Ia) is  in rectangular form  =  ',Ia,' A '\n",
      "Ib=Vbn/Zb;\n",
      "print 'ii) CURRENT  (Ib) is  in rectangular form  =  ',Ib,' A '\n",
      "Ic=Vcn/Zc;\n",
      "print 'iii) CURRENT  (Ic) is  in rectangular form  =  ',Ic,' A '\n",
      "In=Ia+Ib+Ic;\n",
      "print 'iv) CURRENT  (In) is  in rectangular form  =  ',In,' A '\n",
      "\n",
      "P=(230.94*18.028*0.78)+(230.94*19.245)+(230.94*18.028*0.62)\n",
      "\n",
      "print 'v) POWER  (P) is  in rectangular form  =  ',P,' W '"
     ],
     "language": "python",
     "metadata": {},
     "outputs": [
      {
       "output_type": "stream",
       "stream": "stdout",
       "text": [
        "i) CURRENT  (Ia) is  in rectangular form  =   (14.0817073171+11.2653658537j)  A \n",
        "ii) CURRENT  (Ib) is  in rectangular form  =   (-9.6225-16.6666666667j)  A \n",
        "iii) CURRENT  (Ic) is  in rectangular form  =   (6.56243902439+16.7969512195j)  A \n",
        "iv) CURRENT  (In) is  in rectangular form  =   (11.0216463415+11.3956504065j)  A \n",
        "v) POWER  (P) is  in rectangular form  =   10273.181148  W \n"
       ]
      }
     ],
     "prompt_number": 8
    },
    {
     "cell_type": "heading",
     "level": 2,
     "metadata": {},
     "source": [
      "Example E09 : Pg 178"
     ]
    },
    {
     "cell_type": "code",
     "collapsed": false,
     "input": [
      "                                   # EXAMPLE 3-9     PG NO-178-179\n",
      "Z1=10.+1j*0;\n",
      "Z2=13.+1j*7.5;\n",
      "Z3=-13.+1j*7.5;\n",
      "Z4=8.66-1j*5.;\n",
      "#X=[Z1+Z2 Z3;Z3 Z2+Z4];\n",
      "Z5=-104.+1j*180.13;\n",
      "Z6=280.+1j*0;\n",
      "#Y=[Z5 Z3;Z6 Z2+Z4];\n",
      "I1=-2.26 + 8.65j;#det(Y/X);\n",
      "print 'i)   Current (I1) is    =  ',I1,' A  '"
     ],
     "language": "python",
     "metadata": {},
     "outputs": [
      {
       "output_type": "stream",
       "stream": "stdout",
       "text": [
        "i)   Current (I1) is    =   (-2.26+8.65j)  A  \n"
       ]
      }
     ],
     "prompt_number": 9
    },
    {
     "cell_type": "heading",
     "level": 2,
     "metadata": {},
     "source": [
      "Example E10 : Pg 180"
     ]
    },
    {
     "cell_type": "code",
     "collapsed": false,
     "input": [
      "                     # EXAMPLE 3-10          PG NO-180\n",
      "Za=6.+1j*0;\n",
      "Zb=5.26+1j*3;\n",
      "Zc=3.535+1j*3.535;\n",
      "Van=230.94+1j*0;\n",
      "Vcn=-115.47-1j*200;\n",
      "Vbn=-115.47+1j*200;\n",
      "Ya=1./Za;\n",
      "print 'i) admittance  (Ya) is  in rectangular form  =  ',Ya,' siemens '\n",
      "Yb=1./Zb;\n",
      "print 'i) admittance  (Yb) is  in  rectangular form  =  ',Yb,' siemens '\n",
      "Yc=1./Zc;\n",
      "print 'i) admittance  (Yc) is  in rectangular form  =  ',Yc,' siemens '\n",
      "Von=((Van*Ya)+(Vbn*Yb)+(Vcn*Yc))/(Ya+Yb+Yc);\n",
      "print 'i) Voltage  (Von) is  in rectangular form  =  ',Von,' V'\n",
      "Vao=Van-Von;\n",
      "print 'i) Voltage  (Vao) is  in rectangular form  =  ',Vao,' V'\n",
      "Vbo=Vbn-Von;\n",
      "print 'i) Voltage  (Vbo) is  in rectangular form  =  ',Vbo,' V'\n",
      "Vco=Vcn-Von;\n",
      "print 'i) Voltage  (Vco) is  in rectangular form  =  ',Vco,' V'\n",
      "Ia=Vao*Ya;\n",
      "print 'i) CURRENT  (Ia) is  in rectangular form  =  ',Ia,' A '\n",
      "Ib=Vbo*Yc;\n",
      "print 'i) CURRENT  (Ib) is  in rectangular form  =  ',Ib,' A '\n",
      "Ic=Vco*Yc;\n",
      "print 'i) CURRENT  (Ic) is  in rectangular form  =  ',Ic,' A '"
     ],
     "language": "python",
     "metadata": {},
     "outputs": [
      {
       "output_type": "stream",
       "stream": "stdout",
       "text": [
        "i) admittance  (Ya) is  in rectangular form  =   (0.166666666667+0j)  siemens \n",
        "i) admittance  (Yb) is  in  rectangular form  =   (0.143450893977-0.0818160992266j)  siemens \n",
        "i) admittance  (Yc) is  in rectangular form  =   (0.1414427157-0.1414427157j)  siemens \n",
        "i) Voltage  (Von) is  in rectangular form  =   (-34.3032387626+41.0196191983j)  V\n",
        "i) Voltage  (Vao) is  in rectangular form  =   (265.243238763-41.0196191983j)  V\n",
        "i) Voltage  (Vbo) is  in rectangular form  =   (-81.1667612374+158.980380802j)  V\n",
        "i) Voltage  (Vco) is  in rectangular form  =   (-81.1667612374-241.019619198j)  V\n",
        "i) CURRENT  (Ia) is  in rectangular form  =   (44.2072064604-6.83660319972j)  A \n",
        "i) CURRENT  (Ib) is  in rectangular form  =   (11.0061696696+33.9670639376j)  A \n",
        "i) CURRENT  (Ic) is  in rectangular form  =   (-45.5709166104-22.6100223424j)  A \n"
       ]
      }
     ],
     "prompt_number": 10
    },
    {
     "cell_type": "heading",
     "level": 2,
     "metadata": {},
     "source": [
      "Example E11 : Pg 181"
     ]
    },
    {
     "cell_type": "code",
     "collapsed": false,
     "input": [
      "                       # EXAMPLE 3-11   PG NO-181\n",
      "                      \n",
      "Vrn=230.94+1j*0;\n",
      "Vyn=-115.47-1j*200.;\n",
      "Vbn=-115.47+1j*200.;\n",
      "Yr=-1j*0.05;\n",
      "Yy=1j*0.05;\n",
      "Yb=0.05;\n",
      "Von=((Vrn*Yr)+(Vyn*Yy)+(Vbn*Yb))/(Yr+Yy+Yb);\n",
      "print 'i) Voltage  (Von) is  in rectangular form  =  ',Von,' V'\n",
      "Vyo=Vyn-Von;\n",
      "print 'i) Voltage  (Vyo) is  in rectangular form  =  ',Vyo,' V'\n",
      "Iy=Vyo*Yy;\n",
      "print 'iii) CURRENT  (Iy) is  in rectangular form  =  ',Iy, ' A '"
     ],
     "language": "python",
     "metadata": {},
     "outputs": [
      {
       "output_type": "stream",
       "stream": "stdout",
       "text": [
        "i) Voltage  (Von) is  in rectangular form  =   (84.53-146.41j)  V\n",
        "i) Voltage  (Vyo) is  in rectangular form  =   (-200-53.59j)  V\n",
        "iii) CURRENT  (Iy) is  in rectangular form  =   (2.6795-10j)  A \n"
       ]
      }
     ],
     "prompt_number": 11
    },
    {
     "cell_type": "heading",
     "level": 2,
     "metadata": {},
     "source": [
      "Example E12 : Pg 181"
     ]
    },
    {
     "cell_type": "code",
     "collapsed": false,
     "input": [
      "              # EXAMPLE 3-12       PG NO-181-182\n",
      "import math \n",
      "Vp=400.;\n",
      "Zp=10+1j*24;\n",
      "Zpy=6-1j*8;\n",
      "Ip=Vp/Zp;\n",
      "print 'i) CURRENT  (Ip) is  in rectangular form  =  ',Ip,' A '\n",
      "Ipy=(Vp/math.sqrt(3.))/Zpy;\n",
      "print 'ii) CURRENT  (Ipy) is  in rectangular form  =  ',Ipy,' A '\n",
      "Rp=10.;\n",
      "Rpy=6.;\n",
      "Xp=24.;\n",
      "Xpy=-8.;\n",
      "P1=3*Ip*Ip*Rp;\n",
      "print 'iii)  Power (P1) is    =  ',P1,'  W '\n",
      "P2=Ipy*Ipy*3*Rpy;\n",
      "print 'iv)  Power (P2) is    =  ',P2,'  W '\n",
      "Q1=3*Ip*Ip*Xp;\n",
      "print 'v)  Power (Q1) is    =  ',Q1,'  W '\n",
      "Qy=3*Ipy*Ipy*Xpy;\n",
      "print 'vi)  Power (Qy) is    =  ',Qy,'  W '\n",
      "P=P1+P2;\n",
      "print 'vii)  Power (P) is    =  ',P,'  W '\n",
      "Q=Q1+Qy;\n",
      "print 'viii)  Power (Q) is    =  ',Q,'  W '\n",
      "S=P+1j*Q;\n",
      "print 'ix)  Power (S) is    =  ',S,'  W '\n",
      "LI=S/(math.sqrt(3.)*Vp);\n",
      "print 'x) CURRENT  (LI) is  in rectangular form  =  ',LI,' A '"
     ],
     "language": "python",
     "metadata": {},
     "outputs": [
      {
       "output_type": "stream",
       "stream": "stdout",
       "text": [
        "i) CURRENT  (Ip) is  in rectangular form  =   (5.91715976331-14.201183432j)  A \n",
        "ii) CURRENT  (Ipy) is  in rectangular form  =   (13.8564064606+18.4752086141j)  A \n",
        "iii)  Power (P1) is    =   (-4999.8249361-5041.8402717j)   W \n",
        "iv)  Power (P2) is    =   (-2688+9216j)   W \n",
        "v)  Power (Q1) is    =   (-11999.5798466-12100.4166521j)   W \n",
        "vi)  Power (Qy) is    =   (3584-12288j)   W \n",
        "vii)  Power (P) is    =   (-7687.8249361+4174.1597283j)   W \n",
        "viii)  Power (Q) is    =   (-8415.57984664-24388.4166521j)   W \n",
        "ix)  Power (S) is    =   (16700.591716-4241.42011834j)   W \n",
        "x) CURRENT  (LI) is  in rectangular form  =   (24.1052278071-6.12196261768j)  A \n"
       ]
      }
     ],
     "prompt_number": 12
    },
    {
     "cell_type": "heading",
     "level": 2,
     "metadata": {},
     "source": [
      "Example E13 : Pg 182"
     ]
    },
    {
     "cell_type": "code",
     "collapsed": false,
     "input": [
      "                                     # EXAMPLE 3-13    PG NO 182\n",
      "VRY=375.877+1j*136.80;\n",
      "print 'i)   LINE VOLTAGE (VRY) is in rectangular form   =  ',VRY,' V  '\n",
      "VYB=-69.45-1j*393.923;\n",
      "print 'ii)   LINE VOLTAGE (VYB) is in rectangular form   =  ',VYB,' V  '\n",
      "VBR=-306.41+1j*257.11;\n",
      "print 'iii)   LINE VOLTAGE (VBR) is in rectangular form   =  ',VBR,' V  '\n",
      "VYR=-VRY;\n",
      "print 'i)   LINE VOLTAGE (VYR) is in rectangular form   =  ',VYR,' V  '\n",
      "VRB=69.45+1j*393.923;\n",
      "print 'i)   LINE VOLTAGE (VRB) is in rectangular form   =  ',VRB,' V  '\n",
      "VBY=306.41-1j*257.11;\n",
      "print 'i)   LINE VOLTAGE (VBY) is in rectangular form   =  ',VBY,' V  '"
     ],
     "language": "python",
     "metadata": {},
     "outputs": [
      {
       "output_type": "stream",
       "stream": "stdout",
       "text": [
        "i)   LINE VOLTAGE (VRY) is in rectangular form   =   (375.877+136.8j)  V  \n",
        "ii)   LINE VOLTAGE (VYB) is in rectangular form   =   (-69.45-393.923j)  V  \n",
        "iii)   LINE VOLTAGE (VBR) is in rectangular form   =   (-306.41+257.11j)  V  \n",
        "i)   LINE VOLTAGE (VYR) is in rectangular form   =   (-375.877-136.8j)  V  \n",
        "i)   LINE VOLTAGE (VRB) is in rectangular form   =   (69.45+393.923j)  V  \n",
        "i)   LINE VOLTAGE (VBY) is in rectangular form   =   (306.41-257.11j)  V  \n"
       ]
      }
     ],
     "prompt_number": 13
    },
    {
     "cell_type": "heading",
     "level": 2,
     "metadata": {},
     "source": [
      "Example E14 : Pg 182"
     ]
    },
    {
     "cell_type": "code",
     "collapsed": false,
     "input": [
      "                     # EXAMPLE 3-14   PG NO 182-183\n",
      "X=[[400+1j*0, -6+1j*0],[-200-1j*346.410,  6-1j*0]];\n",
      "Y=[[12+1j*0, -6+1j*0],[-6+1j*0, 6-1j*8]];\n",
      "I1=52.31-1j*7.120;\n",
      "I2=37.957-1j*14.23;\n",
      "Ia=I1;\n",
      "print 'i) CURRENT  (Ia) is  in rectangular form  =  ',Ia,' A '\n",
      "Ib=I2-I1;\n",
      "print 'i) CURRENT  (Ib) is  in  rectangular form  =  ',Ib,' A '\n",
      "IC=-I2;\n",
      "print 'i) CURRENT  (Ic) is  in rectangular form  =  ',IC,' A '\n",
      "Z1=6+1j*0;\n",
      "Vao=Ia*Z1;\n",
      "print 'i) VOLTAGE  (Vao) is  in rectangular form  =  ',Vao,' V '\n",
      "Vbo=Ib*Z1;\n",
      "print 'i) VOLTAGE  (Vbo) is  in rectangular form  =  ',Vbo,' V '\n",
      "Vco=IC*(-1j*8);\n",
      "print 'i) VOLTAGE  (Vco) is  in rectangular form  =  ',Vco,' V '"
     ],
     "language": "python",
     "metadata": {},
     "outputs": [
      {
       "output_type": "stream",
       "stream": "stdout",
       "text": [
        "i) CURRENT  (Ia) is  in rectangular form  =   (52.31-7.12j)  A \n",
        "i) CURRENT  (Ib) is  in  rectangular form  =   (-14.353-7.11j)  A \n",
        "i) CURRENT  (Ic) is  in rectangular form  =   (-37.957+14.23j)  A \n",
        "i) VOLTAGE  (Vao) is  in rectangular form  =   (313.86-42.72j)  V \n",
        "i) VOLTAGE  (Vbo) is  in rectangular form  =   (-86.118-42.66j)  V \n",
        "i) VOLTAGE  (Vco) is  in rectangular form  =   (113.84+303.656j)  V \n"
       ]
      }
     ],
     "prompt_number": 14
    },
    {
     "cell_type": "heading",
     "level": 2,
     "metadata": {},
     "source": [
      "Example E15 : Pg 185"
     ]
    },
    {
     "cell_type": "code",
     "collapsed": false,
     "input": [
      "                       # EXAMPLE 3-15  PG NO-185-186\n",
      "Van=230.94+1j*0;\n",
      "Vbn=-115.47-1j*200.;\n",
      "Vcn=-115.47+1j*200.;\n",
      "V1=10.*10.**3.;\n",
      "Ia=V1/Van;\n",
      "print 'i) CURRENT  (Ia) is  in rectangular form  =  ',Ia,' A '\n",
      "V2=4.*10.**3.;\n",
      "Ic=V2/Van;\n",
      "print 'i) CURRENT  (Ic) is  in rectangular form  =  ',Ic,' A '\n",
      "V3=6.*10.**3.;\n",
      "Ib=V3/Van;\n",
      "print 'i) CURRENT  (Ib) is  in rectangular form  =  ',Ib,' A '\n",
      "In=(Ia+Ib+Ic);\n",
      "print 'i) CURRENT  (In) is  in rectangular form  =  ',In,' A '\n",
      "W1=(V1+V2+V3)/2.;\n",
      "print 'iv)  Power (W1) is in rectangular form    =  ',W1,'  W '"
     ],
     "language": "python",
     "metadata": {},
     "outputs": [
      {
       "output_type": "stream",
       "stream": "stdout",
       "text": [
        "i) CURRENT  (Ia) is  in rectangular form  =   (43.3012903785+0j)  A \n",
        "i) CURRENT  (Ic) is  in rectangular form  =   (17.3205161514+0j)  A \n",
        "i) CURRENT  (Ib) is  in rectangular form  =   (25.9807742271+0j)  A \n",
        "i) CURRENT  (In) is  in rectangular form  =   (86.6025807569+0j)  A \n",
        "iv)  Power (W1) is in rectangular form    =   10000.0   W \n"
       ]
      }
     ],
     "prompt_number": 15
    },
    {
     "cell_type": "heading",
     "level": 2,
     "metadata": {},
     "source": [
      "Example E16 : Pg 186"
     ]
    },
    {
     "cell_type": "code",
     "collapsed": false,
     "input": [
      "        # example-3.16   pg no-186\n",
      "W1=5920.;\n",
      "W2=2610.;\n",
      "P=8530.;\n",
      "tanQ=(1.732*(W2-W1))/(W1+W2);\n",
      "cosQ=0.83;\n",
      "PF=cosQ;\n",
      "print 'i) tanQ  = ',tanQ\n",
      "print 'ii) POWER FACTOR  = ',PF"
     ],
     "language": "python",
     "metadata": {},
     "outputs": [
      {
       "output_type": "stream",
       "stream": "stdout",
       "text": [
        "i) tanQ  =  -0.672089097304\n",
        "ii) POWER FACTOR  =  0.83\n"
       ]
      }
     ],
     "prompt_number": 16
    },
    {
     "cell_type": "heading",
     "level": 2,
     "metadata": {},
     "source": [
      "Example E18 : Pg 186"
     ]
    },
    {
     "cell_type": "code",
     "collapsed": false,
     "input": [
      "  # Example 3.18      pg no-186-187\n",
      "cosQ=0.8;\n",
      "sinQ=0.6;\n",
      "VL=10000.;\n",
      "V=5000.*10.**3.;               # VOLTAGE\n",
      "PF=0.9;                 # POWER FACTOR\n",
      "IL=V/(1.732*VL*cosQ) ;\n",
      "I1=IL*cosQ;    # ACTIVE  COMPONENT\n",
      "I2=IL*sinQ;    # REACTIVE  COMPONENT\n",
      "P=1.732*(VL*IL*PF)\n",
      "print 'i) IL = ',IL,' A'\n",
      "print 'i) ACTIVE COMPONENT = ',I1,' A'\n",
      "print 'i)  REACTIVE COMPONENT = ',I2,' A'\n",
      "print 'i)  P  = ',P,' KW'"
     ],
     "language": "python",
     "metadata": {},
     "outputs": [
      {
       "output_type": "stream",
       "stream": "stdout",
       "text": [
        "i) IL =  360.854503464  A\n",
        "i) ACTIVE COMPONENT =  288.683602771  A\n",
        "i)  REACTIVE COMPONENT =  216.512702079  A\n",
        "i)  P  =  5625000.0  KW\n"
       ]
      }
     ],
     "prompt_number": 17
    },
    {
     "cell_type": "heading",
     "level": 2,
     "metadata": {},
     "source": [
      "Example E19 : Pg 187"
     ]
    },
    {
     "cell_type": "code",
     "collapsed": false,
     "input": [
      " # EXAMPLE 3.19     PG NO-187\n",
      "VL=230.;\n",
      "VP=VL/1.732;\n",
      "IL=13.279;\n",
      "COSQ=0.8;\n",
      "SINQ=0.6;\n",
      "P=(1.732*VL*IL*COSQ)\n",
      "RP=(1.732*VL*IL*SINQ)      \n",
      "VA=(1.732*VL*VP)\n",
      "print 'i) POWER FACTOR = ',P,' W'\n",
      "print 'i) POWER FACTOR = ',RP,' var'\n",
      "print 'i)TOTAL VA = ',VA,' VA'"
     ],
     "language": "python",
     "metadata": {},
     "outputs": [
      {
       "output_type": "stream",
       "stream": "stdout",
       "text": [
        "i) POWER FACTOR =  4231.857952  W\n",
        "i) POWER FACTOR =  3173.893464  var\n",
        "i)TOTAL VA =  52900.0  VA\n"
       ]
      }
     ],
     "prompt_number": 18
    },
    {
     "cell_type": "heading",
     "level": 2,
     "metadata": {},
     "source": [
      "Example E20 : Pg 187"
     ]
    },
    {
     "cell_type": "code",
     "collapsed": false,
     "input": [
      "# Example 3.20   pg no-187\n",
      "import math \n",
      "Ip=100.;   # LINE CURRENT\n",
      "COSQ=0.787;\n",
      "SINQ=0.617;\n",
      "pi=3.14;\n",
      "Vp=1100./1.732;\n",
      "W=(2.*math.pi*50.)\n",
      "Z=Vp/Ip;\n",
      "R=Z*COSQ;\n",
      "Xc=Z*SINQ\n",
      "C=1./(W*Xc)\n",
      "print 'i) Z = ',Z,' ohm'\n",
      "print 'ii) R = ',R,' ohm'\n",
      "print 'iii)  Xc = ',Xc,' ohm'\n",
      "print 'iiii)capacitance (C) = ',C,' F'"
     ],
     "language": "python",
     "metadata": {},
     "outputs": [
      {
       "output_type": "stream",
       "stream": "stdout",
       "text": [
        "i) Z =  6.35103926097  ohm\n",
        "ii) R =  4.99826789838  ohm\n",
        "iii)  Xc =  3.91859122402  ohm\n",
        "iiii)capacitance (C) =  0.000812306943967  F\n"
       ]
      }
     ],
     "prompt_number": 19
    },
    {
     "cell_type": "heading",
     "level": 2,
     "metadata": {},
     "source": [
      "Example E21 : Pg 187"
     ]
    },
    {
     "cell_type": "code",
     "collapsed": false,
     "input": [
      "    #  EXAMPLE 3.21  PG NO-187\n",
      "Ip=20.;\n",
      "IL=(1.732*Ip);\n",
      "VL=400.;\n",
      "cos40=0.766;\n",
      "sin40=0.642;\n",
      "VA=(1.732*VL*IL);\n",
      "p=(VA*cos40);\n",
      "q=(VA*sin40);\n",
      "print 'i) VA = ',VA,' VA'\n",
      "print 'ii) P = ',p,' W'\n",
      "print 'iii) Q = ',q,' vars'\n"
     ],
     "language": "python",
     "metadata": {},
     "outputs": [
      {
       "output_type": "stream",
       "stream": "stdout",
       "text": [
        "i) VA =  23998.592  VA\n",
        "ii) P =  18382.921472  W\n",
        "iii) Q =  15407.096064  vars\n"
       ]
      }
     ],
     "prompt_number": 20
    },
    {
     "cell_type": "heading",
     "level": 2,
     "metadata": {},
     "source": [
      "Example E22 : Pg 188"
     ]
    },
    {
     "cell_type": "code",
     "collapsed": false,
     "input": [
      "                    # EXAMPLE 3.22  PG NO-188\n",
      "Vp=230.;\n",
      "VL=230.;\n",
      "Z=8.+1j*6.;   \n",
      "Ip=Vp/Z;\n",
      "print 'i) CURRENT  (Ip) is  in rectangular form  =  ',Ip,' A'"
     ],
     "language": "python",
     "metadata": {},
     "outputs": [
      {
       "output_type": "stream",
       "stream": "stdout",
       "text": [
        "i) CURRENT  (Ip) is  in rectangular form  =   (18.4-13.8j)  A\n"
       ]
      }
     ],
     "prompt_number": 22
    },
    {
     "cell_type": "heading",
     "level": 2,
     "metadata": {},
     "source": [
      "Example E23 : Pg 188"
     ]
    },
    {
     "cell_type": "code",
     "collapsed": false,
     "input": [
      "                        # EXAMPLE 3-23     PG NO-188\n",
      "Za=8.66+1j*5.;\n",
      "Zc=8.48+1j*8.48;\n",
      "Zb=11.50+1j*9.642;\n",
      "VRn=254.+1j*0;\n",
      "VYn=-127.02-1j*220.;\n",
      "Vbn=-127.02+1j*220.;\n",
      "Yr=1./Za;\n",
      "print 'i) admittance  (Ya) is  in rectangular form  =  ',Yr,' siemens '\n",
      "Yb=1./Zb;\n",
      "print 'i) admittance  (Yb) is  in rectangular form  =  ',Yb,' siemens '\n",
      "Yy=1./Zc;\n",
      "print 'i) admittance  (Yc) is  in rectangular form  =  ',Yy,' siemens '\n",
      "\n",
      "Von=((VRn*Yr)+(Vbn*Yb)+(VYn*Yy))/(Yr+Yb+Yy);\n",
      "\n",
      "print 'i) Voltage  (Von) is  in rectangular form  =  ',Von,' V'"
     ],
     "language": "python",
     "metadata": {},
     "outputs": [
      {
       "output_type": "stream",
       "stream": "stdout",
       "text": [
        "i) admittance  (Ya) is  in rectangular form  =   (0.0866038105677-0.0500022000968j)  siemens \n",
        "i) admittance  (Yb) is  in rectangular form  =   (0.0510616008751-0.0428118222294j)  siemens \n",
        "i) admittance  (Yc) is  in rectangular form  =   (0.0589622641509-0.0589622641509j)  siemens \n",
        "i) Voltage  (Von) is  in rectangular form  =   (17.9603354367+6.1771198768j)  V\n"
       ]
      }
     ],
     "prompt_number": 23
    },
    {
     "cell_type": "heading",
     "level": 2,
     "metadata": {},
     "source": [
      "Example E24 : Pg 189"
     ]
    },
    {
     "cell_type": "code",
     "collapsed": false,
     "input": [
      "                    # EXAMPLE  3-24  PG NO-189\n",
      "import math \n",
      "W1=-1200.;\n",
      "W2=3400.;\n",
      "P=W1+W2;\n",
      "print 'iv)  Power (P) is     =  ',P,'W '\n",
      "X=math.sqrt(3.)*(W2-W1)/P;\n",
      "print 'iv)   (tan (Q)) is     =  ',X"
     ],
     "language": "python",
     "metadata": {},
     "outputs": [
      {
       "output_type": "stream",
       "stream": "stdout",
       "text": [
        "iv)  Power (P) is     =   2200.0 W \n",
        "iv)   (tan (Q)) is     =   3.62156077946\n"
       ]
      }
     ],
     "prompt_number": 24
    },
    {
     "cell_type": "heading",
     "level": 2,
     "metadata": {},
     "source": [
      "Example E25 : Pg 189"
     ]
    },
    {
     "cell_type": "code",
     "collapsed": false,
     "input": [
      "                    # EXAMPLE 3-25           PG NO-189\n",
      "Vac=240.+1j*0;\n",
      "Vcb=-120.-1j*207.84;\n",
      "Vba=-120.+1j*207.84;\n",
      "Zac=20.+1j*0;\n",
      "Zcb=12.99+1j*7.5;\n",
      "Zba=0+1j*25.;\n",
      "Iac=Vac/Zac;\n",
      "print 'i) CURRENT  (Iac) is  in rectangular form  =  ',Iac,' A '\n",
      "Icb=Vcb/Zcb;\n",
      "print 'i) CURRENT  (Icb) is  in rectangular form  =  ',Icb,' A '\n",
      "Iba=Vba/Zba;\n",
      "print 'i) CURRENT  (Iba) is  in rectangular form  =  ',Iba,' A '\n",
      "Ia=Iac-Iba;\n",
      "print 'i) CURRENT  (Ia) is  in rectangular form  =  ',Ia,' A '\n",
      "Ib=Iba-Icb;\n",
      "print 'i) CURRENT  (Ib) is  in rectangular form  =  ',Ib,' A '\n",
      "Ic=Icb-Iac;\n",
      "print 'i) CURRENT  (Ic) is  in rectangular form  =  ',Ic,' A '\n",
      "P=(240*12)+(240*16*0.866)+(240*9.6*0);\n",
      "print 'iv)  Power (P) is     =  ',P,'  W '"
     ],
     "language": "python",
     "metadata": {},
     "outputs": [
      {
       "output_type": "stream",
       "stream": "stdout",
       "text": [
        "i) CURRENT  (Iac) is  in rectangular form  =   (12+0j)  A \n",
        "i) CURRENT  (Icb) is  in rectangular form  =   (-13.8566096908-7.99964798451j)  A \n",
        "i) CURRENT  (Iba) is  in rectangular form  =   (8.3136+4.8j)  A \n",
        "i) CURRENT  (Ia) is  in rectangular form  =   (3.6864-4.8j)  A \n",
        "i) CURRENT  (Ib) is  in rectangular form  =   (22.1702096908+12.7996479845j)  A \n",
        "i) CURRENT  (Ic) is  in rectangular form  =   (-25.8566096908-7.99964798451j)  A \n",
        "iv)  Power (P) is     =   6205.44   W \n"
       ]
      }
     ],
     "prompt_number": 25
    },
    {
     "cell_type": "heading",
     "level": 2,
     "metadata": {},
     "source": [
      "Example E26 : Pg 190"
     ]
    },
    {
     "cell_type": "code",
     "collapsed": false,
     "input": [
      "Vab=200.+1j*0;\n",
      "Vbc=-100.-1j*173.20;\n",
      "Vca=-100.+1j*173.20;\n",
      "Zac=31.+1j*59.;\n",
      "Zcb=30.-1j*40.;\n",
      "Zba=80.+1j*60.;\n",
      "Iab=Vab/Zac;\n",
      "print 'i) CURRENT  (Iac) is  in rectangular form  =  ',Iab,' A '\n",
      "Ibc=Vbc/Zcb;\n",
      "print 'i) CURRENT  (Icb) is  in rectangular form  =  ',Ibc,' A '\n",
      "Ica=Vca/Zba;\n",
      "print 'i) CURRENT  (Iba) is  in rectangular form  =  ', Ica,' A '\n",
      "Ia=Iab-Ica;\n",
      "print 'i) CURRENT  (Ia) is  in rectangular form  =  ',Ia,' A '\n",
      "Ib=Ibc-Iab;\n",
      "print 'i) CURRENT  (Ib) is  in rectangular form  =  ',Ib,' A '\n",
      "Ic=Ica-Ibc;\n",
      "print 'i) CURRENT  (Ic) is  in rectangular form  =  ',Ic,' A '\n",
      "P=(200.*3.*0.46)+(200.*4.*0.6)+(200.*2.*0.8);\n",
      "print 'iv)  Power (P) is     =  ',P,'  W '"
     ],
     "language": "python",
     "metadata": {},
     "outputs": [
      {
       "output_type": "stream",
       "stream": "stdout",
       "text": [
        "i) CURRENT  (Iac) is  in rectangular form  =   (1.39576767222-2.65646105358j)  A \n",
        "i) CURRENT  (Icb) is  in rectangular form  =   (1.5712-3.6784j)  A \n",
        "i) CURRENT  (Iba) is  in rectangular form  =   (0.2392+1.9856j)  A \n",
        "i) CURRENT  (Ia) is  in rectangular form  =   (1.15656767222-4.64206105358j)  A \n",
        "i) CURRENT  (Ib) is  in rectangular form  =   (0.17543232778-1.02193894642j)  A \n",
        "i) CURRENT  (Ic) is  in rectangular form  =   (-1.332+5.664j)  A \n",
        "iv)  Power (P) is     =   1076.0   W \n"
       ]
      }
     ],
     "prompt_number": 26
    },
    {
     "cell_type": "heading",
     "level": 2,
     "metadata": {},
     "source": [
      "Example E27 : Pg 190"
     ]
    },
    {
     "cell_type": "code",
     "collapsed": false,
     "input": [
      "   # EXAMPLE-3.27   PG NO-190-191\n",
      "Zr=4.;\n",
      "Zy=5.;\n",
      "VL=400.;\n",
      "IL=103.1;\n",
      "Q=36.6   # Q=TETA\n",
      "COSQ=0.8028;\n",
      "P=(1.732*VL*IL*COSQ)\n",
      "print 'i) P = ',P,' W'"
     ],
     "language": "python",
     "metadata": {},
     "outputs": [
      {
       "output_type": "stream",
       "stream": "stdout",
       "text": [
        "i) P =  57342.141504  W\n"
       ]
      }
     ],
     "prompt_number": 27
    },
    {
     "cell_type": "heading",
     "level": 2,
     "metadata": {},
     "source": [
      "Example E28 : Pg 191"
     ]
    },
    {
     "cell_type": "code",
     "collapsed": false,
     "input": [
      "                          # EXAMPLE 3-28   PG NO-191\n",
      "Van=230.94+1j*0;\n",
      "Vbn=-115.47-1j*200.;\n",
      "Vcn=-115.47+1j*200.;\n",
      "Za=12.-1j*16.;\n",
      "Zb=12+1j*0;\n",
      "Zc=8.+1j*6.;\n",
      "Ia=Van/Za;\n",
      "print 'i) CURRENT  (Ia) is  in rectangular form  =  ',Ia,' A '\n",
      "Ib=Vbn/Zb;\n",
      "print 'i) CURRENT  (Ib) is  in rectangular form  =  ',Ib,' A '\n",
      "Ic=Vcn/Zc;\n",
      "print 'i) CURRENT  (Ic) is  in rectangular form  =  ',Ic,' A '\n",
      "NI=-(Ia+Ib+Ic);\n",
      "print 'i)NEUTRAL CURRENT  (NI) is  in rectangular form  =  ',NI,' A '\n",
      "P=(230.95*11.55*0.6)+(230.95*19.25*1)+(230.95*23.095*0.8);\n",
      "print 'iv)  Power (P) is     =  ',P,'  W '"
     ],
     "language": "python",
     "metadata": {},
     "outputs": [
      {
       "output_type": "stream",
       "stream": "stdout",
       "text": [
        "i) CURRENT  (Ia) is  in rectangular form  =   (6.9282+9.2376j)  A \n",
        "i) CURRENT  (Ib) is  in rectangular form  =   (-9.6225-16.6666666667j)  A \n",
        "i) CURRENT  (Ic) is  in rectangular form  =   (2.7624+22.9282j)  A \n",
        "i)NEUTRAL CURRENT  (NI) is  in rectangular form  =   (-0.0681-15.4991333333j)  A \n",
        "iv)  Power (P) is     =   10313.3032   W \n"
       ]
      }
     ],
     "prompt_number": 28
    },
    {
     "cell_type": "heading",
     "level": 2,
     "metadata": {},
     "source": [
      "Example E29 : Pg 191"
     ]
    },
    {
     "cell_type": "code",
     "collapsed": false,
     "input": [
      "    # Example-3.29    PG NO-191-192\n",
      "IL=12.55;\n",
      "V=460.;\n",
      "Z=V/(1.732*IL)\n",
      "print '%s %.2f %s' %('i) Z = ',Z,' ohm');"
     ],
     "language": "python",
     "metadata": {},
     "outputs": [
      {
       "output_type": "stream",
       "stream": "stdout",
       "text": [
        "i) Z =  21.16  ohm\n"
       ]
      }
     ],
     "prompt_number": 29
    },
    {
     "cell_type": "heading",
     "level": 2,
     "metadata": {},
     "source": [
      "Example E30 : Pg 192"
     ]
    },
    {
     "cell_type": "code",
     "collapsed": false,
     "input": [
      "                     # EXAMPLE 3-30       PG NO-192\n",
      "R=8*0.866;                      # cos30=0.866\n",
      "print 'i)   Resistance (R) is   =  ',R,' ohm  '\n",
      "X=8*0.5;\n",
      "print 'ii)  X (X) is    =  ',X,' ohm  '"
     ],
     "language": "python",
     "metadata": {},
     "outputs": [
      {
       "output_type": "stream",
       "stream": "stdout",
       "text": [
        "i)   Resistance (R) is   =   6.928  ohm  \n",
        "ii)  X (X) is    =   4.0  ohm  \n"
       ]
      }
     ],
     "prompt_number": 30
    },
    {
     "cell_type": "heading",
     "level": 2,
     "metadata": {},
     "source": [
      "Example E31 : Pg 193"
     ]
    },
    {
     "cell_type": "code",
     "collapsed": false,
     "input": [
      "   # EXAMPLE -3.31   PG NO -193\n",
      "Zr=3333.33;\n",
      "Vry=200.;\n",
      "X=16666.66;\n",
      "Y=346.40;    # Y=(300-j173.2)   \n",
      "I=Y/X;\n",
      "RV=I*Zr;\n",
      "print 'i) I = ',I,'<-29.99 A'\n",
      "print 'ii) READING OF VOLTMETER = ',RV,' <-30 degree V'"
     ],
     "language": "python",
     "metadata": {},
     "outputs": [
      {
       "output_type": "stream",
       "stream": "stdout",
       "text": [
        "i) I =  0.0207840083136 <-29.99 A\n",
        "ii) READING OF VOLTMETER =  69.279958432  <-30 degree V\n"
       ]
      }
     ],
     "prompt_number": 32
    },
    {
     "cell_type": "heading",
     "level": 2,
     "metadata": {},
     "source": [
      "Example E32 : Pg 193"
     ]
    },
    {
     "cell_type": "code",
     "collapsed": false,
     "input": [
      "                 # EXAMPLE 3-32          PG NO-193\n",
      "Vry=400.+1j*0;\n",
      "Vyb=-200.-1j*346.41;\n",
      "Vbr=-200.+1j*346.410;\n",
      "I1=14.74-1j*7.3;\n",
      "I2=2.105-1j*10.94;\n",
      "Ir=I1;\n",
      "print 'i) CURRENT  (Ir) is  in rectangular form  =  ',Ir,' A '\n",
      "Iy=I2-I1;\n",
      "print 'i) CURRENT  (Iy) is  in rectangular form  =  ',Iy,' A '\n",
      "Ib=-I2;\n",
      "print 'i) CURRENT  (Ib) is  in rectangular form  =  ',Ib,' A '\n",
      "Pr=16.45*16.45*10;\n",
      "print 'i) Power  (Pr) is    =  ',Pr,' W '\n",
      "Py=Iy*Iy*20.;\n",
      "print 'i) Power  (Py) is  in  rectangular form  =  ',Py,' W '\n",
      "Pb=11.24*11.24*25;\n",
      "print 'i) Power  (Pb) is in rectangular form   =  ',Pb,' W '\n",
      "Vro=-(Ir*10);\n",
      "print 'i) VOLTAGE  (Vro) is  in rectangular  form  =  ',Vro,' V '\n",
      "Vrn=200-1j*115.475;\n",
      "print 'i) VOLTAGE  (Vrn) is  in rectangular  form  =  ',Vrn,' V '\n",
      "Von=Vro+Vrn;\n",
      "print 'i) VOLTAGE  (Von) is  in rectangular  form  =  ',Von,' V '"
     ],
     "language": "python",
     "metadata": {},
     "outputs": [
      {
       "output_type": "stream",
       "stream": "stdout",
       "text": [
        "i) CURRENT  (Ir) is  in rectangular form  =   (14.74-7.3j)  A \n",
        "i) CURRENT  (Iy) is  in rectangular form  =   (-12.635-3.64j)  A \n",
        "i) CURRENT  (Ib) is  in rectangular form  =   (-2.105+10.94j)  A \n",
        "i) Power  (Pr) is    =   2706.025  W \n",
        "i) Power  (Py) is  in  rectangular form  =   (2927.8725+1839.656j)  W \n",
        "i) Power  (Pb) is in rectangular form   =   3158.44  W \n",
        "i) VOLTAGE  (Vro) is  in rectangular  form  =   (-147.4+73j)  V \n",
        "i) VOLTAGE  (Vrn) is  in rectangular  form  =   (200-115.475j)  V \n",
        "i) VOLTAGE  (Von) is  in rectangular  form  =   (52.6-42.475j)  V \n"
       ]
      }
     ],
     "prompt_number": 33
    },
    {
     "cell_type": "heading",
     "level": 2,
     "metadata": {},
     "source": [
      "Example E33 : Pg 194"
     ]
    },
    {
     "cell_type": "code",
     "collapsed": false,
     "input": [
      "                      # EXAMPLE 3-33      PG NO-194\n",
      "Z1=8.-1j*6;\n",
      "Z2=3.6-1j*4.8;\n",
      "In=-(Z1+Z2);\n",
      "print 'i) CURRENT  (In) is  in rectangular form  =  ',In,' A '"
     ],
     "language": "python",
     "metadata": {},
     "outputs": [
      {
       "output_type": "stream",
       "stream": "stdout",
       "text": [
        "i) CURRENT  (In) is  in rectangular form  =   (-11.6+10.8j)  A \n"
       ]
      }
     ],
     "prompt_number": 34
    },
    {
     "cell_type": "heading",
     "level": 2,
     "metadata": {},
     "source": [
      "Example E34 : Pg 194"
     ]
    },
    {
     "cell_type": "code",
     "collapsed": false,
     "input": [
      "                       # EXAMPLE 3-34       PG NO-194\n",
      "import math \n",
      "Vp=230.94;\n",
      "Van=230.94+1j*0;\n",
      "Vbn=-115.47-1j*200;\n",
      "Vcn=-115.47+1j*200;\n",
      "Z=8.-1j*10;\n",
      "Ia=Van/Z;\n",
      "print 'i) CURRENT  (Ia) is  in rectangular form  =  ',Ia,' A '\n",
      "Ib=Vbn/Z;\n",
      "print 'ii) CURRENT  (Ib) is  in rectangular form  =  ',Ib,' A '\n",
      "Ic=Vcn/Z;\n",
      "print 'iii) CURRENT  (Ic) is  in rectangular form  =  ',Ic,' A '\n",
      "S=math.sqrt(3.)*400.*18.03;\n",
      "print 'iv)  APPARENT POWER (S) is    =  ',S,'  VA '\n",
      "P=S*0.62;\n",
      "print 'v)  Power (P) is    =  ',P,'  W '\n",
      "Q=S*-0.8;\n",
      "print 'vi)  Power (Q) is    =  ',Q,'  vars '"
     ],
     "language": "python",
     "metadata": {},
     "outputs": [
      {
       "output_type": "stream",
       "stream": "stdout",
       "text": [
        "i) CURRENT  (Ia) is  in rectangular form  =   (11.2653658537+14.0817073171j)  A \n",
        "ii) CURRENT  (Ib) is  in rectangular form  =   (6.56243902439-16.7969512195j)  A \n",
        "iii) CURRENT  (Ic) is  in rectangular form  =   (-17.827804878+2.71524390244j)  A \n",
        "iv)  APPARENT POWER (S) is    =   12491.5504242   VA \n",
        "v)  Power (P) is    =   7744.761263   W \n",
        "vi)  Power (Q) is    =   -9993.24033935   vars \n"
       ]
      }
     ],
     "prompt_number": 35
    },
    {
     "cell_type": "heading",
     "level": 2,
     "metadata": {},
     "source": [
      "Example E36 : Pg 195"
     ]
    },
    {
     "cell_type": "code",
     "collapsed": false,
     "input": [
      " # EXAMPLE-3.36     PG NO -195\n",
      "import math \n",
      "Vp=400./(3.)**0.5;\n",
      "Rp=162.58*10.**3.;\n",
      "Ipc=Rp/(3.*Vp);\n",
      "IL=365.82;\n",
      "Xc=Vp/Ipc;\n",
      "pi=3.14;\n",
      "C=1./(2.*math.pi*50.*Xc)\n",
      "print 'i) Ipc = ',Ipc,' A'      \n",
      "print 'ii) Xc = ',Xc,' ohm'\n",
      "print 'i) CAPACITANCE = ',C,' F'"
     ],
     "language": "python",
     "metadata": {},
     "outputs": [
      {
       "output_type": "stream",
       "stream": "stdout",
       "text": [
        "i) Ipc =  234.664016912  A\n",
        "ii) Xc =  0.984130889408  ohm\n",
        "i) CAPACITANCE =  0.00323442633099  F\n"
       ]
      }
     ],
     "prompt_number": 36
    },
    {
     "cell_type": "heading",
     "level": 2,
     "metadata": {},
     "source": [
      "Example E37 : Pg 196"
     ]
    },
    {
     "cell_type": "code",
     "collapsed": false,
     "input": [
      "                               # EXAMPLE 3-37      PG NO-196-197\n",
      "Vry=450.+1j*0;\n",
      "Vyb=-225.-1j*389.711;\n",
      "Vbr=-225.+1j*389.711;\n",
      "Vrn=225.-1j*130;\n",
      "Vyn=-225.-1j*130;\n",
      "Vbn=0+1j*259.8;\n",
      "Z1=10.60+1j*10.60;\n",
      "Z2=5.+1j*8.66;\n",
      "Z3=2.6+1j*1.5;\n",
      "Z4=12.21+1j*4.44;\n",
      "Iry=Vry/Z1;\n",
      "print 'i) CURRENT  (Iry) is  in rectangular form  =  ',Iry,' A '\n",
      "Iyb=Vyb/Z2;\n",
      "print 'i) CURRENT  (Iyb) is  in rectangular form  =  ',Iyb,' A '\n",
      "Ibr=Vbr/Z3;\n",
      "print 'i) CURRENT  (Ibr) is  in rectangular form  =  ',Ibr,' A '\n",
      "I1=Iry-Ibr;\n",
      "print 'i) CURRENT  (I1) is  in rectangular form  =  ',I1,' A '\n",
      "I2=Iyb-Iry;\n",
      "print 'i) CURRENT  (I2) is  in rectangular form  =  ',I2,' A '\n",
      "I3=Ibr-Iyb;\n",
      "print 'i) CURRENT  (I3) is  in rectangular form  =  ',I3,' A '\n",
      "I4=Vrn/Z4;\n",
      "print 'i) CURRENT  (I4) is  in rectangular form  =  ',I4,' A '\n",
      "I5=Vyn/Z4;\n",
      "print 'i) CURRENT  (I5) is  in rectangular form  =  ',I5,' A '\n",
      "I6=Vbn/Z4;\n",
      "print 'i) CURRENT  (I6) is  in rectangular form  =  ',I6,' A '\n",
      "I7=Vbn/(3+1j*4);\n",
      "print 'i) CURRENT  (I7) is  in rectangular form  =  ',I7,' A '\n",
      "IR=I1+I4;\n",
      "print 'i) CURRENT  (IR) is  in rectangular form  =  ',IR,' A '\n",
      "IY=I1+I4;\n",
      "print 'i) CURRENT  (IY) is  in rectangular form  =  ',IY,' A '\n",
      "IB=I3+I6+I7;\n",
      "print 'i) CURRENT  (IB) is  in rectangular form  =  ',IB,' A '\n",
      "IN=-(I7);\n",
      "print 'i) CURRENT  (IN) is  in rectangular form  =  ',IN,' A '"
     ],
     "language": "python",
     "metadata": {},
     "outputs": [
      {
       "output_type": "stream",
       "stream": "stdout",
       "text": [
        "i) CURRENT  (Iry) is  in rectangular form  =   (21.2264150943-21.2264150943j)  A \n",
        "i) CURRENT  (Iyb) is  in rectangular form  =   (-45.0009526419-0.000550024201065j)  A \n",
        "i) CURRENT  (Ibr) is  in rectangular form  =   (-0.0481132075472+149.916603774j)  A \n",
        "i) CURRENT  (I1) is  in rectangular form  =   (21.2745283019-171.143018868j)  A \n",
        "i) CURRENT  (I2) is  in rectangular form  =   (-66.2273677363+21.2258650701j)  A \n",
        "i) CURRENT  (I3) is  in rectangular form  =   (44.9528394344+149.917153798j)  A \n",
        "i) CURRENT  (I4) is  in rectangular form  =   (12.855921615-15.3218912343j)  A \n",
        "i) CURRENT  (I5) is  in rectangular form  =   (-19.6948773591-3.48523706188j)  A \n",
        "i) CURRENT  (I6) is  in rectangular form  =   (6.83369500888+18.7926612744j)  A \n",
        "i) CURRENT  (I7) is  in rectangular form  =   (41.568+31.176j)  A \n",
        "i) CURRENT  (IR) is  in rectangular form  =   (34.1304499169-186.464910102j)  A \n",
        "i) CURRENT  (IY) is  in rectangular form  =   (34.1304499169-186.464910102j)  A \n",
        "i) CURRENT  (IB) is  in rectangular form  =   (93.3545344432+199.885815072j)  A \n",
        "i) CURRENT  (IN) is  in rectangular form  =   (-41.568-31.176j)  A \n"
       ]
      }
     ],
     "prompt_number": 37
    },
    {
     "cell_type": "heading",
     "level": 2,
     "metadata": {},
     "source": [
      "Example E39 : Pg 196"
     ]
    },
    {
     "cell_type": "code",
     "collapsed": false,
     "input": [
      "VAB=400.+1j*0;\n",
      "VBC=-200.-1j*346.41;\n",
      "VCA=400.+1j*0;\n",
      "Z1=300.-1j*398.;\n",
      "IAB=VAB/Z1;\n",
      "print 'i) CURRENT  (IAB) is  in rectangular form  =  ',IAB,' A '\n",
      "VAD=IAB*300.;\n",
      "print 'ii) VOLTAGE  (VAD) is  in rectangular form  =  ',VAD,' V '\n",
      "VDA=-VAD;\n",
      "print 'iii) VOLTAGE  (VDA) is  in rectangular form  =  ',VDA,' V '\n",
      "VDC=VDA-VCA;\n",
      "print 'iv) VOLTAGE  (VDC) is  in rectangular form  =  ',VDC,' VA '\n",
      "VAC=400.+1j*0;\n",
      "VCB=-200.-1j*346.41;\n",
      "VBA=-200.+1j*346.410;\n",
      "IAB1=-(VAC)/Z1;\n",
      "print 'v) CURRENT  (IAB1) is  in rectangular form  =  ',IAB1,' A '\n",
      "VAD1=IAB1*300;\n",
      "print 'vi) VOLTAGE  (VAD1) is  in rectangular form  =  ',VAD1,' V '\n",
      "VDA=-VAD;\n",
      "print 'vii) VOLTAGE  (VAAD) is  in rectangular form  =  ',VDA,' V '\n",
      "VDC=VDA+VAC;\n",
      "print 'viii) VOLTAGE  (VDC) is  in rectangular form  =  ',VDC,' V '"
     ],
     "language": "python",
     "metadata": {},
     "outputs": [
      {
       "output_type": "stream",
       "stream": "stdout",
       "text": [
        "i) CURRENT  (IAB) is  in rectangular form  =   (0.483084008309+0.640891451023j)  A \n",
        "ii) VOLTAGE  (VAD) is  in rectangular form  =   (144.925202493+192.267435307j)  V \n",
        "iii) VOLTAGE  (VDA) is  in rectangular form  =   (-144.925202493-192.267435307j)  V \n",
        "iv) VOLTAGE  (VDC) is  in rectangular form  =   (-544.925202493-192.267435307j)  VA \n",
        "v) CURRENT  (IAB1) is  in rectangular form  =   (-0.483084008309-0.640891451023j)  A \n",
        "vi) VOLTAGE  (VAD1) is  in rectangular form  =   (-144.925202493-192.267435307j)  V \n",
        "vii) VOLTAGE  (VAAD) is  in rectangular form  =   (-144.925202493-192.267435307j)  V \n",
        "viii) VOLTAGE  (VDC) is  in rectangular form  =   (255.074797507-192.267435307j)  V \n"
       ]
      }
     ],
     "prompt_number": 38
    },
    {
     "cell_type": "heading",
     "level": 2,
     "metadata": {},
     "source": [
      "Example E40 : Pg 199"
     ]
    },
    {
     "cell_type": "code",
     "collapsed": false,
     "input": [
      "     # EXAMPLE-3.40    PG NO-199\n",
      "Vry=200.;\n",
      "Vbr=200.;\n",
      "Vbn=115.47;\n",
      "I1=10.;   # 10-j12\n",
      "W1=200.*I1;\n",
      "X1=173.2;\n",
      "X2=26.66;\n",
      "W2=X1*X2;\n",
      "print 'i)WATTMETERS (W2)   =  ',W2,' W'"
     ],
     "language": "python",
     "metadata": {},
     "outputs": [
      {
       "output_type": "stream",
       "stream": "stdout",
       "text": [
        "i)WATTMETERS (W2)   =   4617.512  W\n"
       ]
      }
     ],
     "prompt_number": 39
    },
    {
     "cell_type": "heading",
     "level": 2,
     "metadata": {},
     "source": [
      "Example E41 : Pg 200"
     ]
    },
    {
     "cell_type": "code",
     "collapsed": false,
     "input": [
      "       #    CHAPTER -3 EXAMPLE NO 3.41   PG NO-200 \n",
      "Vp=230.94;\n",
      "Xa=100.+1j*155;\n",
      "Ia=Vp/Xa;\n",
      "COSQ=0.542;\n",
      "P=COSQ;\n",
      "print 'i) (Ia)   =  ',Ia,' A'"
     ],
     "language": "python",
     "metadata": {},
     "outputs": [
      {
       "output_type": "stream",
       "stream": "stdout",
       "text": [
        "i) (Ia)   =   (0.678736223365-1.05204114622j)  A\n"
       ]
      }
     ],
     "prompt_number": 40
    },
    {
     "cell_type": "heading",
     "level": 2,
     "metadata": {},
     "source": [
      "Example E42 : Pg 200"
     ]
    },
    {
     "cell_type": "code",
     "collapsed": false,
     "input": [
      "Van=254.+1j*0;\n",
      "Vbn=-127.02-1j*220.;\n",
      "Vcn=-127.02+1j*220.;\n",
      "Ib=0-1j*10.;\n",
      "Ic=0+1j*20.;\n",
      "Ia=-(Ib+Ic);\n",
      "print 'i) CURRENT  (Ia) is  in rectangular form  =  ',Ia,' A '\n",
      "Von=-173.20+1j*100.;\n",
      "Vao=Van-Von;\n",
      "print 'i) VOLTAGE  (Vao) is  in rectangular form  =  ',Vao,' V '\n",
      "Vbo=Vbn-Von;\n",
      "print 'i) VOLTAGE  (Vbo) is  in rectangular form  =  ',Vbo,' V '\n",
      "Vco=Vcn-Von;\n",
      "print 'i) VOLTAGE  (Vco) is  in rectangular form  =  ',Vco,' V '\n",
      "Za=Vao/Ia;\n",
      "print 'i) IMPEDANCE  (Za) is  in rectangular form  =  ',Za,' ohm '\n",
      "Zb=Vbo/Ib;\n",
      "print 'i) IMPEDANCE  (Zb) is  in rectangular form  =  ',Zb,' ohm '\n",
      "Zc=Vco/Ic;\n",
      "print 'i) IMPEDANCE  (Zc) is  in rectangular form  =  ',Zc,' ohm '"
     ],
     "language": "python",
     "metadata": {},
     "outputs": [
      {
       "output_type": "stream",
       "stream": "stdout",
       "text": [
        "i) CURRENT  (Ia) is  in rectangular form  =   (-0-10j)  A \n",
        "i) VOLTAGE  (Vao) is  in rectangular form  =   (427.2-100j)  V \n",
        "i) VOLTAGE  (Vbo) is  in rectangular form  =   (46.18-320j)  V \n",
        "i) VOLTAGE  (Vco) is  in rectangular form  =   (46.18+120j)  V \n",
        "i) IMPEDANCE  (Za) is  in rectangular form  =   (10+42.72j)  ohm \n",
        "i) IMPEDANCE  (Zb) is  in rectangular form  =   (32+4.618j)  ohm \n",
        "i) IMPEDANCE  (Zc) is  in rectangular form  =   (6-2.309j)  ohm \n"
       ]
      }
     ],
     "prompt_number": 41
    },
    {
     "cell_type": "heading",
     "level": 2,
     "metadata": {},
     "source": [
      "Example E43 : Pg 200"
     ]
    },
    {
     "cell_type": "code",
     "collapsed": false,
     "input": [
      "   # example-3.43   pg no-200-201\n",
      "Ip=11<36.87;\n",
      "PL=5808.;\n",
      "QL=4356.;\n",
      "Pm=6000.;\n",
      "Qm=8000.;\n",
      "P=PL+Pm;\n",
      "Q=Qm-QL;\n",
      "S=((P*P)+(Q*Q))**0.5;\n",
      "X=P/S;    # POWER FACTOR\n",
      "print 'i)ACTIVE POWER (P)   =  ',P,' W'\n",
      "print 'i)REACTIVE POWER (Q)   =  ',Q,' vars(inductive)'\n",
      "print 'i)APPARENT POWER (S)   =  ',S,' A'\n",
      "print 'i)power factor (X)   =  ',X,' lagging'"
     ],
     "language": "python",
     "metadata": {},
     "outputs": [
      {
       "output_type": "stream",
       "stream": "stdout",
       "text": [
        "i)ACTIVE POWER (P)   =   11808.0  W\n",
        "i)REACTIVE POWER (Q)   =   3644.0  vars(inductive)\n",
        "i)APPARENT POWER (S)   =   12357.4916549  A\n",
        "i)power factor (X)   =   0.95553372236  lagging\n"
       ]
      }
     ],
     "prompt_number": 42
    },
    {
     "cell_type": "heading",
     "level": 2,
     "metadata": {},
     "source": [
      "Example E44 : Pg 201"
     ]
    },
    {
     "cell_type": "code",
     "collapsed": false,
     "input": [
      " # EXAMPLE 3.44 PG NO-201\n",
      "W1=800.;\n",
      "W2=-400.;\n",
      "P=W1+W2;           \n",
      "x=(1.723*(W2-W1))/(W1+W2)   # tanQ=x\n",
      "Q=-79.10;\n",
      "y=0.189;\n",
      "P=y    # POWER  FACTOR\n",
      "print 'i)tanQ (x)   =  ',x\n",
      "print 'i) POWER factor (P)   =  ',P"
     ],
     "language": "python",
     "metadata": {},
     "outputs": [
      {
       "output_type": "stream",
       "stream": "stdout",
       "text": [
        "i)tanQ (x)   =   -5.169\n",
        "i) POWER factor (P)   =   0.189\n"
       ]
      }
     ],
     "prompt_number": 43
    },
    {
     "cell_type": "heading",
     "level": 2,
     "metadata": {},
     "source": [
      "Example E45 : Pg 201"
     ]
    },
    {
     "cell_type": "code",
     "collapsed": false,
     "input": [
      "                     # EXAMPLE 3-45   PG NO-201-202\n",
      "Vab=0+1j*212.;\n",
      "Vbc=-183.6-1j*106.;\n",
      "Vca=183.6-1j*106.;\n",
      "Za=10.+1j*0;\n",
      "Zb=10.+1j*10.;\n",
      "Zc=0-1j*20.;\n",
      "Zab=((Za*Zb)+(Zb*Zc)+(Za*Zc))/Zc;\n",
      "print 'i) IMPEDANCE  (Zab) is  in rectangular form  =  ',Zab,' ohm '\n",
      "Zbc=((Za*Zb)+(Zb*Zc)+(Za*Zc))/Za;\n",
      "print 'i) IMPEDANCE  (Zbc) is  in rectangular form  =  ',Zbc,' ohm '\n",
      "Zca=((Za*Zb)+(Zb*Zc)+(Za*Zc))/Zb;\n",
      "print 'i) IMPEDANCE  (Zca) is  in rectangular form  =  ',Zca,' ohm '\n",
      "Iab=Vab/Zab;\n",
      "print 'i) CURRENT  (Iab) is  in rectangular form  =  ',Iab,' A '\n",
      "Ibc=Vbc/Zbc;\n",
      "print 'i) CURRENT  (Ibc) is  in rectangular form  =  ',Ibc,' A '\n",
      "Ica=Vca/Zca;\n",
      "print 'i) CURRENT  (Ica) is  in rectangular form  =  ',Ica,' A '\n",
      "Ia=Iab-Ica;\n",
      "print 'i) CURRENT  (Ia) is  in rectangular form  =  ',Ia,' A '\n",
      "Ib=Ibc-Iab;\n",
      "print 'i) CURRENT  (Ib) is  in rectangular form  =  ',Ib,' A '\n",
      "Ic=Ica-Ibc;\n",
      "print 'i) CURRENT  (Ic) is  in rectangular form  =  ',Ic,' A '"
     ],
     "language": "python",
     "metadata": {},
     "outputs": [
      {
       "output_type": "stream",
       "stream": "stdout",
       "text": [
        "i) IMPEDANCE  (Zab) is  in rectangular form  =   (15+15j)  ohm \n",
        "i) IMPEDANCE  (Zbc) is  in rectangular form  =   (30-30j)  ohm \n",
        "i) IMPEDANCE  (Zca) is  in rectangular form  =   -30j  ohm \n",
        "i) CURRENT  (Iab) is  in rectangular form  =   (7.06666666667+7.06666666667j)  A \n",
        "i) CURRENT  (Ibc) is  in rectangular form  =   (-1.29333333333-4.82666666667j)  A \n",
        "i) CURRENT  (Ica) is  in rectangular form  =   (3.53333333333+6.12j)  A \n",
        "i) CURRENT  (Ia) is  in rectangular form  =   (3.53333333333+0.946666666667j)  A \n",
        "i) CURRENT  (Ib) is  in rectangular form  =   (-8.36-11.8933333333j)  A \n",
        "i) CURRENT  (Ic) is  in rectangular form  =   (4.82666666667+10.9466666667j)  A \n"
       ]
      }
     ],
     "prompt_number": 44
    },
    {
     "cell_type": "heading",
     "level": 2,
     "metadata": {},
     "source": [
      "Example E47 : Pg 202"
     ]
    },
    {
     "cell_type": "code",
     "collapsed": false,
     "input": [
      "                        # EXAMPLE 3-47   PG NO-202-203\n",
      "Vab=212.;\n",
      "Vbc=212.;\n",
      "Vca=212.;\n",
      "Iab=10.;\n",
      "Ibc=5.;\n",
      "Ica=7.07;\n",
      "P=((Vab*Iab*0.707)+(Vbc*Ibc*0.707)+(212*7.07*0));\n",
      "print 'i) ACTIVE POWER  (P) is   =  ',P,' W '\n",
      "Q=((Vab*Iab*0.707)+(Vbc*Ibc*-0.707)+(212*7.07*-1))\n",
      "print 'ii)REACTIVE POWER  (Q) is   =  ',Q,' vars '\n",
      "S=(P**2.+(Q**2.))**0.5;\n",
      "print 'i)  APPARENT POWER  (S) is   =  ',S,' VA'"
     ],
     "language": "python",
     "metadata": {},
     "outputs": [
      {
       "output_type": "stream",
       "stream": "stdout",
       "text": [
        "i) ACTIVE POWER  (P) is   =   2248.26  W \n",
        "ii)REACTIVE POWER  (Q) is   =   -749.42  vars \n",
        "i)  APPARENT POWER  (S) is   =   2369.87412408  VA\n"
       ]
      }
     ],
     "prompt_number": 45
    },
    {
     "cell_type": "heading",
     "level": 2,
     "metadata": {},
     "source": [
      "Example E48 : Pg 203"
     ]
    },
    {
     "cell_type": "code",
     "collapsed": false,
     "input": [
      "                   # EXAMPLE 3-48   PG NO-202-203\n",
      "Vao=186.7-1j*87.06;\n",
      "Vco=-38.5+1j*292.48;\n",
      "Vbo=-(Vao+Vco);\n",
      "print 'i) VOLTAGE  (Vbo) is  in rectangular form  =  ',Vbo,' V '\n",
      "Vab=Vao-Vbo;\n",
      "print 'i) VOLTAGE  (Vab) is  in rectangular form  =  ',Vab,' V '\n",
      "Van=201.-1j*37.51;\n",
      "Von=Van-Vao;\n",
      "print 'i) VOLTAGE  (Von) is  in rectangular form  =  ',Von,' V '"
     ],
     "language": "python",
     "metadata": {},
     "outputs": [
      {
       "output_type": "stream",
       "stream": "stdout",
       "text": [
        "i) VOLTAGE  (Vbo) is  in rectangular form  =   (-148.2-205.42j)  V \n",
        "i) VOLTAGE  (Vab) is  in rectangular form  =   (334.9+118.36j)  V \n",
        "i) VOLTAGE  (Von) is  in rectangular form  =   (14.3+49.55j)  V \n"
       ]
      }
     ],
     "prompt_number": 46
    },
    {
     "cell_type": "heading",
     "level": 2,
     "metadata": {},
     "source": [
      "Example E49 : Pg 203"
     ]
    },
    {
     "cell_type": "code",
     "collapsed": false,
     "input": [
      "                       # EXAMPLE 3-49 PG NO-203-204\n",
      "Vab=400.+1j*0;\n",
      "Vbc=-200.-1j*346.41;\n",
      "Vca=-200.+1j*346.410;\n",
      "Z1=1j*10.;\n",
      "Z2=-1j*20.;\n",
      "Z3=10.;\n",
      "Iab=Vab/Z1;\n",
      "print 'i) CURRENT  (Iab) is  in rectangular form  =  ',Iab,' A '\n",
      "Ibc=Vbc/Z2;\n",
      "print 'ii) CURRENT  (Ibc) is  in rectangular form  =  ',Ibc,' A '\n",
      "Ica=Vca/Z3;\n",
      "print 'iii) CURRENT  (Ica) is  in rectangular form  =  ',Ica,' A '\n",
      "Ia=Iab-Ica;\n",
      "print 'iv) CURRENT  (Ia) is  in rectangular form  =  ',Ia,' A '\n",
      "Ib=Ibc-Iab;\n",
      "print 'v) CURRENT  (Ib) is  in rectangular form  =  ',Ib,' A '\n",
      "Ic=Ica-Ibc;\n",
      "print 'vi) CURRENT  (Ic) is  in rectangular form  =  ',Ic,' A '\n",
      "P=Ica*Z3;\n",
      "print 'vii)ACTIVE POWER  (P) is  in rectangular form  =  ',P,' W '\n",
      "Q=(Iab**2*Z3)-(Ibc**2*20);\n",
      "print 'viii) REACTIVE POWER  (Q) is  in rectangular form  =  ',Q,' vars '\n",
      "S=(P**2+Q**2)**0.5;\n",
      "print 'i)APPARENT POWER  (S) is  in rectangular form  =  ',S,' VA '"
     ],
     "language": "python",
     "metadata": {},
     "outputs": [
      {
       "output_type": "stream",
       "stream": "stdout",
       "text": [
        "i) CURRENT  (Iab) is  in rectangular form  =   -40j  A \n",
        "ii) CURRENT  (Ibc) is  in rectangular form  =   (17.3205-10j)  A \n",
        "iii) CURRENT  (Ica) is  in rectangular form  =   (-20+34.641j)  A \n",
        "iv) CURRENT  (Ia) is  in rectangular form  =   (20-74.641j)  A \n",
        "v) CURRENT  (Ib) is  in rectangular form  =   (17.3205+30j)  A \n",
        "vi) CURRENT  (Ic) is  in rectangular form  =   (-37.3205+44.641j)  A \n",
        "vii)ACTIVE POWER  (P) is  in rectangular form  =   (-200+346.41j)  W \n",
        "viii) REACTIVE POWER  (Q) is  in rectangular form  =   (-19999.994405+6928.2j)  vars \n",
        "i)APPARENT POWER  (S) is  in rectangular form  =   (19999.2804579-6931.91155193j)  VA \n"
       ]
      }
     ],
     "prompt_number": 47
    },
    {
     "cell_type": "heading",
     "level": 2,
     "metadata": {},
     "source": [
      "Example E50 : Pg 204"
     ]
    },
    {
     "cell_type": "code",
     "collapsed": false,
     "input": [
      "                      # EXAMPLE 3-50      PG NO-204\n",
      "I1=13.12-1j*9.15;\n",
      "I2=-6.80-1j*19.55;\n",
      "IaA=I1;\n",
      "print 'i) CURRENT  (IaA) is  in rectangular form  =  ',IaA,' A '\n",
      "IbB=I2-I1;\n",
      "print 'i) CURRENT  (IbB) is  in rectangular form  =  ',IbB,' A '\n",
      "IcC=-I2;\n",
      "print 'i) CURRENT  (IcC) is  in rectangular form  =  ',IcC,' A '"
     ],
     "language": "python",
     "metadata": {},
     "outputs": [
      {
       "output_type": "stream",
       "stream": "stdout",
       "text": [
        "i) CURRENT  (IaA) is  in rectangular form  =   (13.12-9.15j)  A \n",
        "i) CURRENT  (IbB) is  in rectangular form  =   (-19.92-10.4j)  A \n",
        "i) CURRENT  (IcC) is  in rectangular form  =   (6.8+19.55j)  A \n"
       ]
      }
     ],
     "prompt_number": 49
    },
    {
     "cell_type": "heading",
     "level": 2,
     "metadata": {},
     "source": [
      "Example E51 : Pg 205"
     ]
    },
    {
     "cell_type": "code",
     "collapsed": false,
     "input": [
      "                          # EXAMPLE 3-51     PG NO -205\n",
      "import math \n",
      "R1=1.5;\n",
      "X=2.396;\n",
      "X1=math.sqrt(X**2.-R1**2.);\n",
      "print 'i) X1   is   =  ',X1,'ohm '\n",
      "IL=100.;\n",
      "Ip=IL/1.732;\n",
      "print 'ii) Peak Current  =  ',Ip,' A '\n",
      "R2=4.5;\n",
      "Z=7.1878;\n",
      "X2=math.sqrt(Z**2.-R2**2.)\n",
      "print 'iii) X2   is   =  ',X2,'ohm '\n",
      "PF=R2/(Z);\n",
      "print 'vi) Power Factor   is   =  ',PF"
     ],
     "language": "python",
     "metadata": {},
     "outputs": [
      {
       "output_type": "stream",
       "stream": "stdout",
       "text": [
        "i) X1   is   =   1.86837255386 ohm \n",
        "ii) Peak Current  =   57.7367205543  A \n",
        "iii) X2   is   =   5.60486117937 ohm \n",
        "vi) Power Factor   is   =   0.626060825287\n"
       ]
      }
     ],
     "prompt_number": 50
    },
    {
     "cell_type": "heading",
     "level": 2,
     "metadata": {},
     "source": [
      "Example E52 : Pg 205"
     ]
    },
    {
     "cell_type": "code",
     "collapsed": false,
     "input": [
      "                      # EXAMPLE 3-52   PG NO-205-206\n",
      "import math \n",
      "Vp=230.94;\n",
      "R=20.+1j*30.;\n",
      "V=400.;\n",
      "IL=Vp/R;\n",
      "print 'i) CURRENT  (IL) is  in rectangular form  =  ',IL,' A '\n",
      "PF=0.555;\n",
      "P=math.sqrt(3.)*V*IL*PF;\n",
      "print 'ii)ACTIVE POWER  (P) is  in rectangular form  =  ',P,' W '\n",
      "Q=math.sqrt(3.)*V*IL*56.289;\n",
      "print 'iii) REACTIVE POWER  (Q) is  in rectangular form  =  ',Q,' vars '\n",
      "S=math.sqrt(3.)*V*IL;\n",
      "print 'iv)APPARENT POWER  (S) is  in rectangular form  =  ',S,' VA '\n",
      "Ip=3.698;\n",
      "Z=V/Ip;\n",
      "print 'i) IMPEDANCE  (Z) is  in rectangular form  =  ',Z,' ohm '\n",
      "R1=Z*0.555;\n",
      "print 'i) RESISTANCE  (R1) is  in rectangular form  =  ',R1,' ohm '\n",
      "Xc=Z*0.83;\n",
      "print 'i) INDUCTANCE  (Xc) is  in rectangular form  =  ',Xc,' ohm '\n",
      "C=Xc/(2.*math.pi*50.);\n",
      "print 'i) CAPACITOR  (C) is  in rectangular form  =  ',C,' F '"
     ],
     "language": "python",
     "metadata": {},
     "outputs": [
      {
       "output_type": "stream",
       "stream": "stdout",
       "text": [
        "i) CURRENT  (IL) is  in rectangular form  =   (3.55292307692-5.32938461538j)  A \n",
        "ii)ACTIVE POWER  (P) is  in rectangular form  =   (1366.15320918-2049.22981378j)  W \n",
        "iii) REACTIVE POWER  (Q) is  in rectangular form  =   (138557.473859-207836.210789j)  vars \n",
        "iv)APPARENT POWER  (S) is  in rectangular form  =   (2461.53731385-3692.30597077j)  VA \n",
        "i) IMPEDANCE  (Z) is  in rectangular form  =   108.166576528  ohm \n",
        "i) RESISTANCE  (R1) is  in rectangular form  =   60.032449973  ohm \n",
        "i) INDUCTANCE  (Xc) is  in rectangular form  =   89.7782585181  ohm \n",
        "i) CAPACITOR  (C) is  in rectangular form  =   0.285773072507  F \n"
       ]
      }
     ],
     "prompt_number": 51
    },
    {
     "cell_type": "heading",
     "level": 2,
     "metadata": {},
     "source": [
      "Example E53 : Pg 206"
     ]
    },
    {
     "cell_type": "code",
     "collapsed": false,
     "input": [
      "                  # EXAMPLE 3-53      PG NO-206-207\n",
      "import math \n",
      "HP=2000.;\n",
      "Vp=2200.;\n",
      "E=0.93;\n",
      "MI=(HP*735.5)/E;\n",
      "print 'i) MOTOR INPUT  (MI) is  in rectangular form  =  ',MI,' W '\n",
      "Ip=MI/(3.*Vp*0.85);\n",
      "print 'i) CURRENT  (Ip) is  in rectangular form  =  ',Ip,' A '\n",
      "AC=Ip*0.85;\n",
      "print 'i) ACTIVE CURRENT  (AC) is  in rectangular form  =  ',AC,' A '\n",
      "RC=(Ip**2-AC**2)**0.5;\n",
      "print 'i) REACTIVE CURRENT  (RC) is  in rectangular form  =  ',RC,' A '\n",
      "LC=math.sqrt(3)*Ip;\n",
      "print 'i) LINE CURRENT  (LC) is  in rectangular form  =  ',LC,' A '\n",
      "ALC=LC*0.85;\n",
      "print 'i)ACTIVE LINE CURRENT  (ALC) is  in rectangular form  =  ',ALC,' A '\n",
      "RLC=(LC**2-ALC**2)**0.5;\n",
      "print 'i) REACTIVE LINE CURRENT  (RLC) is  in rectangular form  =  ',RLC,' A '"
     ],
     "language": "python",
     "metadata": {},
     "outputs": [
      {
       "output_type": "stream",
       "stream": "stdout",
       "text": [
        "i) MOTOR INPUT  (MI) is  in rectangular form  =   1581720.43011  W \n",
        "i) CURRENT  (Ip) is  in rectangular form  =   281.946600732  A \n",
        "i) ACTIVE CURRENT  (AC) is  in rectangular form  =   239.654610622  A \n",
        "i) REACTIVE CURRENT  (RC) is  in rectangular form  =   148.524588105  A \n",
        "i) LINE CURRENT  (LC) is  in rectangular form  =   488.345837489  A \n",
        "i)ACTIVE LINE CURRENT  (ALC) is  in rectangular form  =   415.093961866  A \n",
        "i) REACTIVE LINE CURRENT  (RLC) is  in rectangular form  =   257.252132772  A \n"
       ]
      }
     ],
     "prompt_number": 52
    },
    {
     "cell_type": "heading",
     "level": 2,
     "metadata": {},
     "source": [
      "Example E54 : Pg 207"
     ]
    },
    {
     "cell_type": "code",
     "collapsed": false,
     "input": [
      "                            # EXAMPLE 3-54  PG NO-207-208\n",
      "Van=161.66+1j*0;\n",
      "Vbn=-80.83-1j*140;\n",
      "Vcn=-80.83+1j*140;\n",
      "Z1=10+1j*0;\n",
      "Z2=8.66+1j*5;\n",
      "Z3=8.66-1j*5;\n",
      "YA=1/Z1;\n",
      "print ('i) ADMITTANCE  (YA) is  in rectangular form  =  ',YA,' siemens ');\n",
      "YB=1/Z2;\n",
      "print ('ii) ADMITTANCE  (YB) is  in rectangular form  =  ',YB,' siemens ');\n",
      "YC=1/Z3;\n",
      "print ('iii) ADMITTANCE  (YC) is  in rectangular form  =  ',YC,' siemens ');\n",
      "Von=-((Van*YA)+(Vbn*YB)+(Vcn*YC))/(YA+YB+YC);\n",
      "print ('iv) VOLTAGE  (Von) is  in rectangular form  =  ',Von,' V ');\n",
      "Vao=Van-Von;\n",
      "print ('v) VOLTAGE  (Vao) is  in rectangular form  =  ',Vao,' V ');\n",
      "Vbo=Vbn-Von;\n",
      "print ('vi) VOLTAGE  (Vbo) is  in  rectangular form  =  ',Vbo,' V ');\n",
      "Vco=Vcn-Von;\n",
      "print ('vii) VOLTAGE  (Vco) is  in rectangular form  =  ',Vco,' V ');"
     ],
     "language": "python",
     "metadata": {},
     "outputs": [
      {
       "output_type": "stream",
       "stream": "stdout",
       "text": [
        "('i) ADMITTANCE  (YA) is  in rectangular form  =  ', (0.1+0j), ' siemens ')\n",
        "('ii) ADMITTANCE  (YB) is  in rectangular form  =  ', (0.08660381056766497-0.050002200096804256j), ' siemens ')\n",
        "('iii) ADMITTANCE  (YC) is  in rectangular form  =  ', (0.08660381056766497+0.050002200096804256j), ' siemens ')\n",
        "('iv) VOLTAGE  (Von) is  in rectangular form  =  ', (43.31865997841839-0j), ' V ')\n",
        "('v) VOLTAGE  (Vao) is  in rectangular form  =  ', (118.3413400215816+0j), ' V ')\n",
        "('vi) VOLTAGE  (Vbo) is  in  rectangular form  =  ', (-124.14865997841838-140j), ' V ')\n",
        "('vii) VOLTAGE  (Vco) is  in rectangular form  =  ', (-124.14865997841838+140j), ' V ')\n"
       ]
      }
     ],
     "prompt_number": 53
    },
    {
     "cell_type": "heading",
     "level": 2,
     "metadata": {},
     "source": [
      "Example E55 : Pg 208"
     ]
    },
    {
     "cell_type": "code",
     "collapsed": false,
     "input": [
      "                             # EXAMPLE 3-55         PG NO-208-209  \n",
      "Vab=400.+1j*0;\n",
      "Vbc=-220.-1j*381.05;\n",
      "Vca=-220.+1j*381.05;\n",
      "Z1=0+1j*25.;\n",
      "Z2=13.+1j*7.5;\n",
      "Z3=20.+1j*0;\n",
      "IAB=Vab/Z1;\n",
      "print ('i) CURRENT  (IAB) is  in rectangular  form  =  ',IAB,' A ');\n",
      "IBC=Vbc/Z2;\n",
      "print ('i) CURRENT  (IBC) is  in  rectangular form  =  ',IBC,' A ');\n",
      "ICA=Vca/Z3;\n",
      "print ('i) CURRENT  (ICA) is  in rectangular form  =  ',ICA,' A ');\n",
      "IA=IAB-ICA;\n",
      "print ('i) CURRENT  (IA) is  in rectangular form  =  ',IA,' A ');\n",
      "IB=IBC-IAB;\n",
      "print ('i) CURRENT  (IB) is  in rectangular form  =  ',IB,' A ');\n",
      "IC=ICA-IBC;\n",
      "print ('i) CURRENT  (IC) is  in rectangular form  =  ',IC,' A ');"
     ],
     "language": "python",
     "metadata": {},
     "outputs": [
      {
       "output_type": "stream",
       "stream": "stdout",
       "text": [
        "('i) CURRENT  (IAB) is  in rectangular  form  =  ', -16j, ' A ')\n",
        "('i) CURRENT  (IBC) is  in  rectangular form  =  ', (-25.38457269700333-14.666592674805774j), ' A ')\n",
        "('i) CURRENT  (ICA) is  in rectangular form  =  ', (-11+19.052500000000002j), ' A ')\n",
        "('i) CURRENT  (IA) is  in rectangular form  =  ', (11-35.0525j), ' A ')\n",
        "('i) CURRENT  (IB) is  in rectangular form  =  ', (-25.38457269700333+1.3334073251942264j), ' A ')\n",
        "('i) CURRENT  (IC) is  in rectangular form  =  ', (14.384572697003328+33.71909267480578j), ' A ')\n"
       ]
      }
     ],
     "prompt_number": 54
    },
    {
     "cell_type": "heading",
     "level": 2,
     "metadata": {},
     "source": [
      "Example E59 : Pg 209"
     ]
    },
    {
     "cell_type": "code",
     "collapsed": false,
     "input": [
      "       # EXAMPLE 3-59 PG NO 267\n",
      "V2=240-1j*14.35;\n",
      "V1=240+1j*0;\n",
      "VL=233.73-1j*8.938;\n",
      "R1=0.6+1j*0.8;\n",
      "R2=0.5+1j*0.866;\n",
      "I1=(V1-VL)/R1;\n",
      "I2=(V2-VL)/R2;\n",
      "R3=16+1j*12;\n",
      "I3=(VL/R3);\n",
      "print ('i) current(I1) is in polar form  =  ',I1,'A ');\n",
      "print ('i) current(I2) is in polar form  =  ',I2,'A ');\n",
      "print ('i) current(I3) is in polar form  =  ',I3,'A ');"
     ],
     "language": "python",
     "metadata": {},
     "outputs": [
      {
       "output_type": "stream",
       "stream": "stdout",
       "text": [
        "('i) current(I1) is in polar form  =  ', (10.912400000000005+0.3467999999999911j), 'A ')\n",
        "('i) current(I2) is in polar form  =  ', (-1.5518602818523957-8.13617799183165j), 'A ')\n",
        "('i) current(I3) is in polar form  =  ', (9.08106-7.369419999999999j), 'A ')\n"
       ]
      }
     ],
     "prompt_number": 55
    }
   ],
   "metadata": {}
  }
 ]
}