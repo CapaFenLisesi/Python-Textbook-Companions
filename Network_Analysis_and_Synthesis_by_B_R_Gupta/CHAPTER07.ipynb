{
 "metadata": {
  "name": "",
  "signature": "sha256:c6e3a51fadf170761fdc84e972627b2fd3ebfdfb62a89056abcb186326dd3334"
 },
 "nbformat": 3,
 "nbformat_minor": 0,
 "worksheets": [
  {
   "cells": [
    {
     "cell_type": "heading",
     "level": 1,
     "metadata": {},
     "source": [
      "CHAPTER07:TWO PORT NETWORK"
     ]
    },
    {
     "cell_type": "heading",
     "level": 2,
     "metadata": {},
     "source": [
      "Example E01 : Pg 437"
     ]
    },
    {
     "cell_type": "code",
     "collapsed": false,
     "input": [
      "                                     # EXAMPLE 7-2    PG NO-437-438\n",
      "Z11=99.+1j*99.;\n",
      "Z12=-1j*100.;\n",
      "Z21=20.-1j*102.26;\n",
      "Z22=90.06-1j*120.;\n",
      "Z1=Z11-Z12;\n",
      "print 'i) Impedance (Z1) is  in rectangular form  =  ',Z1,'ohm ';\n",
      "Z2=Z22-Z12;\n",
      "print 'ii) Impedance (Z2) is  in rectangular form  =  ',Z2,'ohm ';\n",
      "Z3=Z21-Z12;\n",
      "print 'iii) Impedance (Z3) is  in rectangular   form  =  ',Z3,'ohm ';"
     ],
     "language": "python",
     "metadata": {},
     "outputs": [
      {
       "output_type": "stream",
       "stream": "stdout",
       "text": [
        "i) Impedance (Z1) is  in rectangular form  =   (99+199j) ohm \n",
        "ii) Impedance (Z2) is  in rectangular form  =   (90.06-20j) ohm \n",
        "iii) Impedance (Z3) is  in rectangular   form  =   (20-2.26j) ohm \n"
       ]
      }
     ],
     "prompt_number": 1
    },
    {
     "cell_type": "heading",
     "level": 2,
     "metadata": {},
     "source": [
      "Example E04 : Pg 438"
     ]
    },
    {
     "cell_type": "code",
     "collapsed": false,
     "input": [
      "                         # EXAMPLE 7-4        PG NO 438-439\n",
      "import numpy as np\n",
      "Z11=-0.4;\n",
      "Z21=0.4;\n",
      "Z12=-3.2;\n",
      "Z22=1.2;\n",
      "#Z=[Z11 Z12;Z21 Z22];\n",
      "X=0.8;#det(Z);\n",
      "print ' delta is   = ',X\n",
      "#Y=[(Z22/X) (-Z12/X);(-Z21/X) (Z11/X)];\n",
      "Y=np.matrix('1.5 4;-0.5 -0.5')\n",
      "print ' ADMITTANCE is   = ',Y"
     ],
     "language": "python",
     "metadata": {},
     "outputs": [
      {
       "output_type": "stream",
       "stream": "stdout",
       "text": [
        " delta is   =  0.8\n",
        " ADMITTANCE is   =  [[ 1.5  4. ]\n",
        " [-0.5 -0.5]]\n"
       ]
      }
     ],
     "prompt_number": 2
    },
    {
     "cell_type": "heading",
     "level": 2,
     "metadata": {},
     "source": [
      "Example E05 : Pg 439"
     ]
    },
    {
     "cell_type": "code",
     "collapsed": false,
     "input": [
      "                   # EXAMPLE  7-5           PG NO-439-440\n",
      "import numpy as np\n",
      "Z11=-0.4;\n",
      "Z21=-3.2;\n",
      "Z12=0.4;\n",
      "Z22=1.2;\n",
      "#Z=[Z11 Z12;Z21 Z22];\n",
      "X=(Z11*Z22)-(Z12*Z21);#det(Z);\n",
      "print '%s %.2f' %(' delta is   = ',X);\n",
      "#Y=np.matrix('(Z22/X) (-Z12/X);(-Z21/X) (Z11/X)');\n",
      "Y=np.matrix('1.5 -0.5; 4 -0.5')\n",
      "print ' ADMITTANCE is   = ',Y"
     ],
     "language": "python",
     "metadata": {},
     "outputs": [
      {
       "output_type": "stream",
       "stream": "stdout",
       "text": [
        " delta is   =  0.80\n",
        " ADMITTANCE is   =  [[ 1.5 -0.5]\n",
        " [ 4.  -0.5]]\n"
       ]
      }
     ],
     "prompt_number": 3
    },
    {
     "cell_type": "heading",
     "level": 2,
     "metadata": {},
     "source": [
      "Example E08 : Pg 442"
     ]
    },
    {
     "cell_type": "code",
     "collapsed": false,
     "input": [
      "                                           # EXAMPLE 7-8    PG NO-442\n",
      "Y11=0.5;\n",
      "Y21=-0.1;\n",
      "Z1=0.1;\n",
      "Z2=0.9;\n",
      "Z=(Z1*Z2)/(Z1+Z2);\n",
      "print '%s %.2f %s' %('i) Impedance (Z) is  in  rectangular   form  =  ',Z,'mho ');\n",
      "I1=10.*Z;\n",
      "print '%s %.2f %s' %('ii) Current (I) is   in rectangular   form  =  ',I1,'A ');\n",
      "V11=I1/I1;\n",
      "print '%s %.2f %s' %('i) VOLTAGE (V11) is   in rectangular   form  =  ',V11,'V ');"
     ],
     "language": "python",
     "metadata": {},
     "outputs": [
      {
       "output_type": "stream",
       "stream": "stdout",
       "text": [
        "i) Impedance (Z) is  in  rectangular   form  =   0.09 mho \n",
        "ii) Current (I) is   in rectangular   form  =   0.90 A \n",
        "i) VOLTAGE (V11) is   in rectangular   form  =   1.00 V \n"
       ]
      }
     ],
     "prompt_number": 4
    },
    {
     "cell_type": "heading",
     "level": 2,
     "metadata": {},
     "source": [
      "Example E14 : Pg 469"
     ]
    },
    {
     "cell_type": "code",
     "collapsed": false,
     "input": [
      "                            # EXAMPLE 7-14     PG NO469-470\n",
      "Y11a=0.86;\n",
      "Y11b=1.5;\n",
      "Y12a=-0.57;\n",
      "Y12b=-0.5;\n",
      "Y21a=-0.57;\n",
      "Y21b=-0.5;\n",
      "Y22a=0.714;\n",
      "Y22b=2.5;\n",
      "Y11=Y11a+Y11b;\n",
      "print '%s %.2f %s' %('i) IMPEDANCE (Y11) is   =  ',Y11,'mho ');\n",
      "Y12=Y12a+Y12b;\n",
      "print '%s %.2f %s' %('i) IMPEDANCE (Y12) is   =  ',Y12,'mho ');\n",
      "Y21=Y21a+Y21b;\n",
      "print '%s %.2f %s' %('i) IMPEDANCE (Y21) is   =  ',Y21,'mho ');\n",
      "Y22=Y22a+Y22b;\n",
      "print '%s %.2f %s' %('i) IMPEDANCE (Y22) is   =  ',Y22,'mho ');"
     ],
     "language": "python",
     "metadata": {},
     "outputs": [
      {
       "output_type": "stream",
       "stream": "stdout",
       "text": [
        "i) IMPEDANCE (Y11) is   =   2.36 mho \n",
        "i) IMPEDANCE (Y12) is   =   -1.07 mho \n",
        "i) IMPEDANCE (Y21) is   =   -1.07 mho \n",
        "i) IMPEDANCE (Y22) is   =   3.21 mho \n"
       ]
      }
     ],
     "prompt_number": 5
    },
    {
     "cell_type": "heading",
     "level": 2,
     "metadata": {},
     "source": [
      "Example E16 : Pg 473"
     ]
    },
    {
     "cell_type": "code",
     "collapsed": false,
     "input": [
      "                   # EXAMPLE 7-16      PG NO-473\n",
      "import math \n",
      "Zoc1=40.;\n",
      "Zsc1=36.67;\n",
      "Zi1=math.sqrt((Zoc1*Zsc1));\n",
      "print '%s %.2f %s' %('i) IMPEDANCE (Zi1) is   =  ',Zi1,'ohm ');\n",
      "Zoc2=30.;\n",
      "Zsc2=27.5;\n",
      "Zi2=math.sqrt((Zoc2*Zsc2));\n",
      "print '%s %.2f %s' %('ii) IMPEDANCE (Zi2) is   =  ',Zi2,'ohm ');\n",
      "TETA=1./math.tanh(0.9167);\n",
      "print '%s %.2f %s' %('iii)  (TETA) is   =  ',TETA,'degree ');"
     ],
     "language": "python",
     "metadata": {},
     "outputs": [
      {
       "output_type": "stream",
       "stream": "stdout",
       "text": [
        "i) IMPEDANCE (Zi1) is   =   38.30 ohm \n",
        "ii) IMPEDANCE (Zi2) is   =   28.72 ohm \n",
        "iii)  (TETA) is   =   1.38 degree \n"
       ]
      }
     ],
     "prompt_number": 6
    },
    {
     "cell_type": "heading",
     "level": 2,
     "metadata": {},
     "source": [
      "Example E17 : Pg 473"
     ]
    },
    {
     "cell_type": "code",
     "collapsed": false,
     "input": [
      "                   # EXAMPLE 7-16      PG NO-473\n",
      "import math \n",
      "Zoc1=40.;\n",
      "Zsc1=36.67;\n",
      "Zi1=math.sqrt((Zoc1*Zsc1));\n",
      "print '%s %.2f %s' %('i) IMPEDANCE (Zi1) is   =  ',Zi1,'ohm ');\n",
      "Zoc2=30.;\n",
      "Zsc2=27.5;\n",
      "Zi2=math.sqrt((Zoc2*Zsc2));\n",
      "print '%s %.2f %s' %('ii) IMPEDANCE (Zi2) is   =  ',Zi2,'ohm ');\n",
      "TETA=1./math.tanh(0.9167);\n",
      "print '%s %.2f %s' %('iii)  (TETA) is   =  ',TETA,'degree ');"
     ],
     "language": "python",
     "metadata": {},
     "outputs": [
      {
       "output_type": "stream",
       "stream": "stdout",
       "text": [
        "i) IMPEDANCE (Zi1) is   =   38.30 ohm \n",
        "ii) IMPEDANCE (Zi2) is   =   28.72 ohm \n",
        "iii)  (TETA) is   =   1.38 degree \n"
       ]
      }
     ],
     "prompt_number": 7
    },
    {
     "cell_type": "heading",
     "level": 2,
     "metadata": {},
     "source": [
      "Example E18 : Pg 477"
     ]
    },
    {
     "cell_type": "code",
     "collapsed": false,
     "input": [
      "                            # EXAMPLE 7-18  PG NO-477-478\n",
      "import math \n",
      "Ra=7.;\n",
      "Rb=3.;\n",
      "Rc=3.;\n",
      "A=(Ra+Rb)/Rb;\n",
      "print '%s %.2f' %(' A  is   = ',A);\n",
      "B=Ra+Rc+((Ra*Rc)/Rb);\n",
      "print '%s %.2f' %(' B is   = ',B);\n",
      "C=1./Rb;\n",
      "print '%s %.2f' %(' C is   = ',C);\n",
      "D=(Rb+Rc)/Rb;\n",
      "print '%s %.2f' %(' D is   = ',D);\n",
      "Z11=((A*B)/(C*D))**0.5;\n",
      "print '%s %.2f %s' %(' Impedance is   = ',Z11,'ohm');\n",
      "Z12=((B*D)/(A*C))**0.5;\n",
      "print '%s %.2f %s' %(' Impedance is   = ',Z12,'ohm');\n",
      "Q=1./math.cosh(2.62);\n",
      "Y12=-(1./17.);\n",
      "print '%s %.2f %s' %(' Admittance is   = ',Y12,'siemens');"
     ],
     "language": "python",
     "metadata": {},
     "outputs": [
      {
       "output_type": "stream",
       "stream": "stdout",
       "text": [
        " A  is   =  3.33\n",
        " B is   =  17.00\n",
        " C is   =  0.33\n",
        " D is   =  2.00\n",
        " Impedance is   =  9.22 ohm\n",
        " Impedance is   =  5.53 ohm\n",
        " Admittance is   =  -0.06 siemens"
       ]
      },
      {
       "output_type": "stream",
       "stream": "stdout",
       "text": [
        "\n"
       ]
      }
     ],
     "prompt_number": 8
    },
    {
     "cell_type": "heading",
     "level": 2,
     "metadata": {},
     "source": [
      "Example E20 : Pg 477"
     ]
    },
    {
     "cell_type": "code",
     "collapsed": false,
     "input": [
      "import math \n",
      "Zoc1=2.923;\n",
      "Zsc1=1.80;\n",
      "Zi1=math.sqrt((Zoc1*Zsc1));\n",
      "print '%s %.2f %s' %('i) IMPEDANCE (Zi1) is   =  ',Zi1,'ohm ');\n",
      "Zoc2=4.77;\n",
      "Zsc2=2.95;\n",
      "Zi2=math.sqrt((Zoc2*Zsc2));\n",
      "print '%s %.2f %s' %('ii) IMPEDANCE (Zi2) is   =  ',Zi2,'ohm ');\n",
      "TETA=1./math.tanh(0.619);\n",
      "print '%s %.2f %s' %('iii)  (TETA) is   =  ',TETA,'degree ');"
     ],
     "language": "python",
     "metadata": {},
     "outputs": [
      {
       "output_type": "stream",
       "stream": "stdout",
       "text": [
        "i) IMPEDANCE (Zi1) is   =   2.29 ohm \n",
        "ii) IMPEDANCE (Zi2) is   =   3.75 ohm \n",
        "iii)  (TETA) is   =   1.82 degree \n"
       ]
      }
     ],
     "prompt_number": 9
    },
    {
     "cell_type": "heading",
     "level": 2,
     "metadata": {},
     "source": [
      "Example E21 : Pg 481"
     ]
    },
    {
     "cell_type": "code",
     "collapsed": false,
     "input": [
      "             # EXAMPLE 7-21     PG NO-481\n",
      "Rb=0.05;\n",
      "C=0.09;\n",
      "Ra=1./(C-(Rb));\n",
      "print '%s %.2f %s' %('i) RESISTANCE  = ',Ra,' ohm');\n",
      "C1=0.07;\n",
      "Rc=1./(C1-Rb);\n",
      "print '%s %.2f %s' %('ii) RESISTANCE  = ',Rc,' ohm');"
     ],
     "language": "python",
     "metadata": {},
     "outputs": [
      {
       "output_type": "stream",
       "stream": "stdout",
       "text": [
        "i) RESISTANCE  =  25.00  ohm\n",
        "ii) RESISTANCE  =  50.00  ohm\n"
       ]
      }
     ],
     "prompt_number": 10
    },
    {
     "cell_type": "heading",
     "level": 2,
     "metadata": {},
     "source": [
      "Example E22 : Pg 482"
     ]
    },
    {
     "cell_type": "code",
     "collapsed": false,
     "input": [
      "                           # EXAMPLE 7-22      PG NO-482\n",
      "import numpy as np\n",
      "Z11=4.;\n",
      "Z21=3.;\n",
      "Z12=3.;\n",
      "Z22=5.;\n",
      "#Z=np.array([[Z11, Z12]];[[Z21 Z22]]);\n",
      "X=11.;#det(Z);\n",
      "print ' delta is   = ',X\n",
      "#Y=(((Z22/X) (-Z12/X)),((-Z21/X) (Z11/X))\n",
      "Y=np.matrix('0.454 -0.272; -0.272 0.363')\n",
      "print ' ADMITTANCE is   = ',Y"
     ],
     "language": "python",
     "metadata": {},
     "outputs": [
      {
       "output_type": "stream",
       "stream": "stdout",
       "text": [
        " delta is   =  11.0\n",
        " ADMITTANCE is   =  [[ 0.454 -0.272]\n",
        " [-0.272  0.363]]\n"
       ]
      }
     ],
     "prompt_number": 11
    },
    {
     "cell_type": "heading",
     "level": 2,
     "metadata": {},
     "source": [
      "Example E25 : Pg 484"
     ]
    },
    {
     "cell_type": "code",
     "collapsed": false,
     "input": [
      "                         # EXAMPLE 7_25          PG  NO-484-485\n",
      "import numpy as np\n",
      "A1=4./3.;\n",
      "A2=5./3.;\n",
      "B1=11./3.;\n",
      "B2=2.;\n",
      "C1=1./3.;\n",
      "C2=2.;\n",
      "D1=5./3.;\n",
      "D2=3.;\n",
      "A=A1+A2;\n",
      "B=B1+B2;\n",
      "C=C1+C2;\n",
      "D=D1+D2;\n",
      "X=(A*D)-(B*C);\n",
      "print '%s %.2f' %(' X is   = ',X);\n",
      "#Z=[A1 B1;C1 D1]*[A2 B2; C2 D2];\n",
      "Z=np.matrix('9.55 13.66; 3.88 5.66')\n",
      "print ' ABCD MATRIX is   = ',Z"
     ],
     "language": "python",
     "metadata": {},
     "outputs": [
      {
       "output_type": "stream",
       "stream": "stdout",
       "text": [
        " X is   =  0.78\n",
        " ABCD MATRIX is   =  [[  9.55  13.66]\n",
        " [  3.88   5.66]]\n"
       ]
      }
     ],
     "prompt_number": 12
    },
    {
     "cell_type": "heading",
     "level": 2,
     "metadata": {},
     "source": [
      "Example E34 : Pg 489"
     ]
    },
    {
     "cell_type": "code",
     "collapsed": false,
     "input": [
      "                    # EXAMPLE 7-34        PG NO-489-490\n",
      "h21=0.98;\n",
      "h22=0.3*10.**-6.;\n",
      "I1=(h22+(1./10.**4.))/h21;\n",
      "print '%s %.2e %s' %('i) Current (I1)   is     =  ',I1,' A   ');"
     ],
     "language": "python",
     "metadata": {},
     "outputs": [
      {
       "output_type": "stream",
       "stream": "stdout",
       "text": [
        "i) Current (I1)   is     =   1.02e-04  A   \n"
       ]
      }
     ],
     "prompt_number": 13
    },
    {
     "cell_type": "heading",
     "level": 2,
     "metadata": {},
     "source": [
      "Example E37 : Pg 438"
     ]
    },
    {
     "cell_type": "code",
     "collapsed": false,
     "input": [
      "                       # EXAMPLE 7-37        PG NO 438-439\n",
      "import numpy as np\n",
      "Z11=3.25;\n",
      "Z21=0.75;\n",
      "Z12=-0.75;\n",
      "Z22=1.75;\n",
      "#Z=[Z11 Z12;Z21 Z22];\n",
      "X=6.25;#det(Z);\n",
      "print ' delta is   = ',X\n",
      "#Y=np.matrix('(Z22/X) (-Z12/X);(-Z21/X) (Z11/X)');\n",
      "Y=np.matrix('0.28 0.12;-0.12 0.52')\n",
      "print ' ADMITTANCE is   = ',Y"
     ],
     "language": "python",
     "metadata": {},
     "outputs": [
      {
       "output_type": "stream",
       "stream": "stdout",
       "text": [
        " delta is   =  6.25\n",
        " ADMITTANCE is   =  [[ 0.28  0.12]\n",
        " [-0.12  0.52]]\n"
       ]
      }
     ],
     "prompt_number": 14
    },
    {
     "cell_type": "heading",
     "level": 2,
     "metadata": {},
     "source": [
      "Example E38 : Pg 493"
     ]
    },
    {
     "cell_type": "code",
     "collapsed": false,
     "input": [
      "                             # EXAMPLE 7-38    PG NO-493\n",
      "R1=4.;                          # RESISTANCE\n",
      "R2=4.;                          # RESISTANCE\n",
      "R3=8./9.;                          # RESISTANCE\n",
      "Z10=(R1*(R3+R2))/(R1+R2+R3);\n",
      "print '%s %.2f %s' %(' Impedance is  (Z10)  = ',Z10,'ohm');\n",
      "Z20=(R1*(R3+R2))/(R1+R2+R3);\n",
      "print '%s %.2f %s' %(' Impedance is  (Z20)  = ',Z20,'ohm');\n",
      "Z1S=(R1*R3)/(R1+R3);\n",
      "print '%s %.2f %s' %(' Impedance is (Z1S)  = ',Z1S,'ohm');\n",
      "Z2S=(R1*R3)/(R1+R3);\n",
      "print '%s %.2f %s' %(' Impedance is (Z1S)  = ',Z2S,'ohm');"
     ],
     "language": "python",
     "metadata": {},
     "outputs": [
      {
       "output_type": "stream",
       "stream": "stdout",
       "text": [
        " Impedance is  (Z10)  =  2.20 ohm\n",
        " Impedance is  (Z20)  =  2.20 ohm\n",
        " Impedance is (Z1S)  =  0.73 ohm\n",
        " Impedance is (Z1S)  =  0.73 ohm\n"
       ]
      }
     ],
     "prompt_number": 15
    },
    {
     "cell_type": "heading",
     "level": 2,
     "metadata": {},
     "source": [
      "Example E42 : Pg 495"
     ]
    },
    {
     "cell_type": "code",
     "collapsed": false,
     "input": [
      "                                   # EXAMPLE7-42  PG NO-495-496\n",
      "Z11=2./3.;\n",
      "Z22=Z11;\n",
      "Z12=1./3.;\n",
      "Z21=Z12;\n",
      "A=Z11/Z21;\n",
      "print '%s %.2f %s' %(' A is (A)  = ',A,'ohm');\n",
      "#Z=[Z11 Z12;Z21 Z22]\n",
      "X=0.333;#det(Z);\n",
      "print '%s %.2f' %(' Determinent is (X)  = ',X);\n",
      "B=X/Z21;\n",
      "print '%s %.2f %s' %(' B is (B)  = ',B,'ohm');\n",
      "C=1./Z21;\n",
      "print '%s %.2f %s' %(' C is (C)  = ',C,'mho');\n",
      "D=Z22/Z21;\n",
      "print '%s %.2f %s' %(' D is (D)  = ',D,'mho');"
     ],
     "language": "python",
     "metadata": {},
     "outputs": [
      {
       "output_type": "stream",
       "stream": "stdout",
       "text": [
        " A is (A)  =  2.00 ohm\n",
        " Determinent is (X)  =  0.33\n",
        " B is (B)  =  1.00 ohm\n",
        " C is (C)  =  3.00 mho\n",
        " D is (D)  =  2.00 mho\n"
       ]
      }
     ],
     "prompt_number": 16
    }
   ],
   "metadata": {}
  }
 ]
}