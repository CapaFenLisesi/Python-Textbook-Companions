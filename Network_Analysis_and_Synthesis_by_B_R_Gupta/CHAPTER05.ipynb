{
 "metadata": {
  "name": "",
  "signature": "sha256:ced4e22e95a83e4d83cfea1ff0a8d8841eaf1e5ab1dcc8d1a83092d74d745f6c"
 },
 "nbformat": 3,
 "nbformat_minor": 0,
 "worksheets": [
  {
   "cells": [
    {
     "cell_type": "heading",
     "level": 1,
     "metadata": {},
     "source": [
      "CHAPTER05:ONE PORT NETWORK"
     ]
    },
    {
     "cell_type": "heading",
     "level": 2,
     "metadata": {},
     "source": [
      "Example E01 : Pg 294"
     ]
    },
    {
     "cell_type": "code",
     "collapsed": false,
     "input": [
      "    # EXAMPLE 5-1  PG NO-294\n",
      "TR1=32.;\n",
      "R1=20.;\n",
      "R2=30.;\n",
      "R3=20.;\n",
      "V=32.;\n",
      "Ir11=V/TR1;\n",
      "Ir12=Ir11*(R1/(R1+R2));\n",
      "Ir13=Ir11*(R2/(R1+R3));\n",
      "TR2=40.;\n",
      "Ir2=R3/TR2;\n",
      "Ir1=(R3/TR2)*Ir2;\n",
      "Ir3=(R3/TR2)*Ir1;\n",
      "Ir3=Ir13+Ir3;\n",
      "Ir1=Ir11-Ir1;\n",
      "Ir2=Ir12-Ir2;\n",
      "print '%s %.2f %s' %('i) current(Ir3) is   =  ',Ir3,'A ');\n",
      "Ir3=Ir13+Ir3;\n",
      "print '%s %.2f %s' %('i) current(Ir1) is  =  ',Ir1,'A ');\n",
      "Ir1=Ir11-Ir1;\n",
      "print '%s %.2f %s' %('i) current(Ir2) is   =  ',Ir2,'A ');\n",
      "Ir2=0.5-0.4;"
     ],
     "language": "python",
     "metadata": {},
     "outputs": [
      {
       "output_type": "stream",
       "stream": "stdout",
       "text": [
        "i) current(Ir3) is   =   0.88 A \n",
        "i) current(Ir1) is  =   0.75 A \n",
        "i) current(Ir2) is   =   -0.10 A \n"
       ]
      }
     ],
     "prompt_number": 1
    },
    {
     "cell_type": "heading",
     "level": 2,
     "metadata": {},
     "source": [
      "Example E02 : Pg 295"
     ]
    },
    {
     "cell_type": "code",
     "collapsed": false,
     "input": [
      "    # EXAMPLE 5-2 PG NO-295\n",
      "Vab1=7.059;\n",
      "Vab2=2.353;\n",
      "Vab=Vab1+Vab2;\n",
      "print '%s %.2f %s' %('i) Votage(Vab) is   =  ',Vab,'V ');"
     ],
     "language": "python",
     "metadata": {},
     "outputs": [
      {
       "output_type": "stream",
       "stream": "stdout",
       "text": [
        "i) Votage(Vab) is   =   9.41 V \n"
       ]
      }
     ],
     "prompt_number": 2
    },
    {
     "cell_type": "heading",
     "level": 2,
     "metadata": {},
     "source": [
      "Example E03 : Pg 296"
     ]
    },
    {
     "cell_type": "code",
     "collapsed": false,
     "input": [
      "     # EXAMPLE 5-3 PG NO-296\n",
      "TR1=(90./14.);                      # TOTAL RESISTANCE\n",
      "R1=8.;\n",
      "R2=6.;\n",
      "R3=3.;\n",
      "E1=10.;                            # VOLTS\n",
      "IR11=E1*(1./TR1);                             # Current in resistance one\n",
      "IR12=IR11*(R1/(R1+R2));           # Current in resistance Two\n",
      "IR13=IR11*(R2/(R1+R2));          # Current in resistance one\n",
      "IR14=0;\n",
      "TR2=10.;                      # TOTAL RESISTANCE\n",
      "IR23=TR2/E1;\n",
      "IR21=IR23*(R2/(R2+R3));\n",
      "IR22=IR23*(R3/(R2+R3));\n",
      "IR24=0;\n",
      "IR34=(10./12.);\n",
      "IR32=TR2/(R2+(R3*R1/11.));\n",
      "IR31=IR32*(R1/(R1+R3));\n",
      "IR33=IR32*(R3/(R1+R3));\n",
      "IR1=(14.-6.-8.)/9.;\n",
      "IR2=(8.+3.-11.)/9.;\n",
      "IR3=(6.+3.)/9.-1.;\n",
      "IR4=IR34+0+0;\n",
      "print'i) CURRENT IN RESISTANCE ONE is   =  ',IR11,'V ';\n",
      "print'i) CURRENT IN RESISTANCE ONE is   =  ',IR12,'V '\n",
      "print'i) CURRENT IN RESISTANCE ONE is   =  ',IR13,'V '\n",
      "print'i) CURRENT IN RESISTANCE ONE is   =  ',IR14,'V '\n",
      "print'i) CURRENT IN RESISTANCE ONE is   =  ',IR21,'V '\n",
      "print'i) CURRENT IN RESISTANCE ONE is   =  ',IR22,'V '\n",
      "print'i) CURRENT IN RESISTANCE ONE is   =  ',IR23,'V '\n",
      "print'i) CURRENT IN RESISTANCE ONE is   =  ',IR24,'V '\n",
      "print'i) CURRENT IN RESISTANCE ONE is   =  ',IR31,'V '\n",
      "print'i) CURRENT IN RESISTANCE ONE is   =  ',IR32,'V '\n",
      "print'i) CURRENT IN RESISTANCE ONE is   =  ',IR33,'V '\n",
      "print'i) CURRENT IN RESISTANCE ONE is   =  ',IR34,'V '\n",
      "print'i) CURRENT IN RESISTANCE ONE is   =  ',IR1,'V '\n",
      "print'i) CURRENT IN RESISTANCE TWO is   =  ',IR2,'V '\n",
      "print'i)CURRENT IN RESISTANCE THREE  is   =  ',IR3,'V '\n",
      "print'i) CURRENT IN RESISTANCE FOUR is   =  ',IR4"
     ],
     "language": "python",
     "metadata": {},
     "outputs": [
      {
       "output_type": "stream",
       "stream": "stdout",
       "text": [
        "i) CURRENT IN RESISTANCE ONE is   =   1.55555555556 V \n",
        "i) CURRENT IN RESISTANCE ONE is   =   0.888888888889 V \n",
        "i) CURRENT IN RESISTANCE ONE is   =   0.666666666667 V \n",
        "i) CURRENT IN RESISTANCE ONE is   =   0 V \n",
        "i) CURRENT IN RESISTANCE ONE is   =   0.666666666667 V \n",
        "i) CURRENT IN RESISTANCE ONE is   =   0.333333333333 V \n",
        "i) CURRENT IN RESISTANCE ONE is   =   1.0 V \n",
        "i) CURRENT IN RESISTANCE ONE is   =   0 V \n",
        "i) CURRENT IN RESISTANCE ONE is   =   0.888888888889 V \n",
        "i) CURRENT IN RESISTANCE ONE is   =   1.22222222222 V \n",
        "i) CURRENT IN RESISTANCE ONE is   =   0.333333333333 V \n",
        "i) CURRENT IN RESISTANCE ONE is   =   0.833333333333 V \n",
        "i) CURRENT IN RESISTANCE ONE is   =   0.0 V \n",
        "i) CURRENT IN RESISTANCE TWO is   =   0.0 V \n",
        "i)CURRENT IN RESISTANCE THREE  is   =   0.0 V \n",
        "i) CURRENT IN RESISTANCE FOUR is   =   0.833333333333\n"
       ]
      }
     ],
     "prompt_number": 3
    },
    {
     "cell_type": "heading",
     "level": 2,
     "metadata": {},
     "source": [
      "Example E04 : Pg 296"
     ]
    },
    {
     "cell_type": "code",
     "collapsed": false,
     "input": [
      "\n",
      "E1=100.+1j*0;\n",
      "E2=43.30+1j*25\n",
      "Z1=1.+1j*3.;\n",
      "Z2=1.-1j*3.;\n",
      "Z3=2.+1j*4.;\n",
      "Z4=3.-1j*3.;\n",
      "Z5=1.+1j*5.;\n",
      "Z6=2.-1j*8.;\n",
      "Iab1=E1/((Z1+Z2)+((Z3*Z4)/(Z3+Z4)));\n",
      "I2=E2/((Z5-Z6)+((Z3*Z1+Z2)/(Z3+Z1+Z2)));\n",
      "Iab2=(I2*Z3)/(Z3+Z1+Z2)\n",
      "print 'i) CURRENT (Iab1) is   =  ',Iab1,'A '\n",
      "print 'i) CURRENT (I2) is   =  ',I2,'A '\n",
      "print 'i) CURRENT (Iab2) is   =  ',Iab2,'A '"
     ],
     "language": "python",
     "metadata": {},
     "outputs": [
      {
       "output_type": "stream",
       "stream": "stdout",
       "text": [
        "i) CURRENT (Iab1) is   =   (17.4528301887-1.41509433962j) A \n",
        "i) CURRENT (I2) is   =   (1.41627586207-3.00468965517j) A \n",
        "i) CURRENT (Iab2) is   =   (1.81337931034-1.89944827586j) A \n"
       ]
      }
     ],
     "prompt_number": 4
    },
    {
     "cell_type": "heading",
     "level": 2,
     "metadata": {},
     "source": [
      "Example E06 : Pg 299"
     ]
    },
    {
     "cell_type": "code",
     "collapsed": false,
     "input": [
      "                  # EXAMPLE   5-6    PG NO=299-300\n",
      "TZ1=54.90+1j*85.;\n",
      "Z1=40.+1j*0;\n",
      "Z2=250.-1j*132.625;\n",
      "Z3=0-1j*132.625;\n",
      "IR1=(Z1/TZ1)*(Z3/Z2);\n",
      "print ' CURRENT is  in polar form = ',IR1,'A'\n",
      "TZ2=173.64+1j*48.84;\n",
      "Z4=20.+1j*0;\n",
      "Z5=250.+1j*377.;\n",
      "Z6=0+1j*377.;\n",
      "IR2=(Z4/TZ2)*(Z6/Z5);\n",
      "print ' CURRENT is  in polar form = ',IR2,'A'\n",
      "IR=(IR1**2+IR2**2)**0.5;\n",
      "print ' CURRENT is  in polar form = ',IR,'A'"
     ],
     "language": "python",
     "metadata": {},
     "outputs": [
      {
       "output_type": "stream",
       "stream": "stdout",
       "text": [
        " CURRENT is  in polar form =  (-0.0903679127818-0.161718560602j) A\n",
        " CURRENT is  in polar form =  (0.0879636927026+0.0283094119919j) A\n",
        " CURRENT is  in polar form =  (0.111577094136+0.153296421001j) A\n"
       ]
      }
     ],
     "prompt_number": 5
    },
    {
     "cell_type": "heading",
     "level": 2,
     "metadata": {},
     "source": [
      "Example E07 : Pg 300"
     ]
    },
    {
     "cell_type": "code",
     "collapsed": false,
     "input": [
      "     # EXAMPLE 5-7   PG NO-300\n",
      "IR1=0.185;            # current \n",
      "IR2=0.0924;          # current\n",
      "R=250.;              # Resistance\n",
      "P1=IR1*IR1*R;      # POWER\n",
      "P2=IR2*IR2*R;    # POWER\n",
      "P=P1+P2;        # POWER\n",
      "print '%s %.2f %s' %('i) POWER (P1) is   =  ',P1,'W ');\n",
      "print '%s %.2f %s' %('i) POWER (P2) is   =  ',P2,'W ');\n",
      "print '%s %.2f %s' %('i) POWER (P) is   =  ',P,'W ');"
     ],
     "language": "python",
     "metadata": {},
     "outputs": [
      {
       "output_type": "stream",
       "stream": "stdout",
       "text": [
        "i) POWER (P1) is   =   8.56 W \n",
        "i) POWER (P2) is   =   2.13 W \n",
        "i) POWER (P) is   =   10.69 W \n"
       ]
      }
     ],
     "prompt_number": 6
    },
    {
     "cell_type": "heading",
     "level": 2,
     "metadata": {},
     "source": [
      "Example E08 : Pg 301"
     ]
    },
    {
     "cell_type": "code",
     "collapsed": false,
     "input": [
      "                    # EXAMPLE 5-8   PG NO-301\n",
      "Vcb=40./7.;\n",
      "Vth=-6.2857;\n",
      "RTH=9.4286;\n",
      "R=10.;\n",
      "I=-Vth/(R+RTH);\n",
      "print '%s %.2f %s' %(' CURRENT is  in polar form = ',I,'A');"
     ],
     "language": "python",
     "metadata": {},
     "outputs": [
      {
       "output_type": "stream",
       "stream": "stdout",
       "text": [
        " CURRENT is  in polar form =  0.32 A\n"
       ]
      }
     ],
     "prompt_number": 7
    },
    {
     "cell_type": "heading",
     "level": 2,
     "metadata": {},
     "source": [
      "Example E09 : Pg 302"
     ]
    },
    {
     "cell_type": "code",
     "collapsed": false,
     "input": [
      "        # EXAMPLE 5-9  PG NO-302\n",
      "V=10.;   # Voltage\n",
      "S=0.5*10.**-5.;\n",
      "R1=2500.;\n",
      "R2=1050.;\n",
      "R3=200.;\n",
      "R4=500.;\n",
      "Van=(V/(R1+R4))*R4;\n",
      "Vbn=(V/(R2+R3))*R3;\n",
      "VTH=Van-Vbn;\n",
      "RTH=((R1*R4)/(R1+R4))+((R2*R3)/(R2+R3));\n",
      "I=VTH/(RTH+100.);\n",
      "GD=I/S;                        # Galvonater Deflection\n",
      "print '%s %.2f %s' %('i) voltage (Van) is   =  ',Van,'V ');\n",
      "print '%s %.2f %s' %('i) Voltage (Vbn) is   =  ',Vbn,'V ');\n",
      "print '%s %.2f %s' %('i) Voltage (VTH) is   =  ',VTH,'V ');  \n",
      "print '%s %.2f %s' %('i) Resistance (RTH) is   =  ',RTH,'ohms ');\n",
      "print '%s %.2e %s' %('i) CURRENT (I) is   =  ',I,'A ');\n",
      "print '%s %.2f %s' %('i) Galvoneter Deflection (GD) is   =  ',GD,'mm ');"
     ],
     "language": "python",
     "metadata": {},
     "outputs": [
      {
       "output_type": "stream",
       "stream": "stdout",
       "text": [
        "i) voltage (Van) is   =   1.67 V \n",
        "i) Voltage (Vbn) is   =   1.60 V \n",
        "i) Voltage (VTH) is   =   0.07 V \n",
        "i) Resistance (RTH) is   =   584.67 ohms \n",
        "i) CURRENT (I) is   =   9.74e-05 A \n",
        "i) Galvoneter Deflection (GD) is   =   19.47 mm \n"
       ]
      }
     ],
     "prompt_number": 8
    },
    {
     "cell_type": "heading",
     "level": 2,
     "metadata": {},
     "source": [
      "Example E10 : Pg 303"
     ]
    },
    {
     "cell_type": "code",
     "collapsed": false,
     "input": [
      "        # EXAMPLE  5-10 PG NO-303\n",
      "I1=(58./21.);\n",
      "R1=2.;\n",
      "R2=5.;\n",
      "R3=15.;\n",
      "VTH=R1+I1;                  # Thevenins Voltage\n",
      "RTH=(1.*(R2+R3))/(1.+(R2+R3));      # Thevenins   resistance\n",
      "I=VTH/(10.+RTH);             # CURRENT\n",
      "P=I*I*10.;                  # POWER\n",
      "print '%s %.2f %s' %('i)Thevenins  voltage  (VTH) is   =  ',VTH,'V ');\n",
      "print '%s %.2f %s' %('i) Thevenins   resistance (RTH) is   =  ',RTH,'ohm ');\n",
      "print '%s %.2f %s' %('i) current (I) is   =  ',I,'A ');\n",
      "print '%s %.2f %s' %('i) power (P) is   =  ',P,'W ');"
     ],
     "language": "python",
     "metadata": {},
     "outputs": [
      {
       "output_type": "stream",
       "stream": "stdout",
       "text": [
        "i)Thevenins  voltage  (VTH) is   =   4.76 V \n",
        "i) Thevenins   resistance (RTH) is   =   0.95 ohm \n",
        "i) current (I) is   =   0.43 A \n",
        "i) power (P) is   =   1.89 W \n"
       ]
      }
     ],
     "prompt_number": 9
    },
    {
     "cell_type": "heading",
     "level": 2,
     "metadata": {},
     "source": [
      "Example E11 : Pg 303"
     ]
    },
    {
     "cell_type": "code",
     "collapsed": false,
     "input": [
      "                             # EXAMPLE 5-11        PG NO-303\n",
      "X=8.+1j*8.;                             # X=I1/V1;\n",
      "X1=0+1j*30./25.+1j*80.;                  # X1=Va/V1;\n",
      "V1=(20.*(25.+1j*80.))/(0+1j*30.);\n",
      "print ' VOLTAGE is  in polar form = ',V1,'V'"
     ],
     "language": "python",
     "metadata": {},
     "outputs": [
      {
       "output_type": "stream",
       "stream": "stdout",
       "text": [
        " VOLTAGE is  in polar form =  (53.3333333333-16.6666666667j) V\n"
       ]
      }
     ],
     "prompt_number": 10
    },
    {
     "cell_type": "heading",
     "level": 2,
     "metadata": {},
     "source": [
      "Example E12 : Pg 304"
     ]
    },
    {
     "cell_type": "code",
     "collapsed": false,
     "input": [
      "           # EXAMPLE 5-12   PG NO304-305\n",
      "I2=0.411+1j*0;\n",
      "VTH=5+1j*0-(I2*5.);\n",
      "ZTH=1./(1.+(1./2.)+(1./5.));\n",
      "Iab=VTH/(ZTH+(2.+1j*2.));\n",
      "print 'i) VOLTAGE (VTH) is in polar form   =  ',VTH,'V '\n",
      "print 'i) IMPEDANCE (ZTH) is    in polar form =  ',ZTH,'ohms '\n",
      "print 'i) Current (Iab) is   in polar form =  ',Iab,'A '"
     ],
     "language": "python",
     "metadata": {},
     "outputs": [
      {
       "output_type": "stream",
       "stream": "stdout",
       "text": [
        "i) VOLTAGE (VTH) is in polar form   =   (2.945+0j) V \n",
        "i) IMPEDANCE (ZTH) is    in polar form =   0.588235294118 ohms \n",
        "i) Current (Iab) is   in polar form =   (0.7124385511-0.550520698577j) A \n"
       ]
      }
     ],
     "prompt_number": 11
    },
    {
     "cell_type": "heading",
     "level": 2,
     "metadata": {},
     "source": [
      "Example E14 : Pg 306"
     ]
    },
    {
     "cell_type": "code",
     "collapsed": false,
     "input": [
      "        # EXAMPLE 5-14  PG NO-306\n",
      "V1=120.;\n",
      "V2=65.;\n",
      "R1=40.;\n",
      "R2=60.;\n",
      "IN=(V1/R1)+(V2/R2);\n",
      "RN=(R1*R2)/(R1+R2);\n",
      "IRL=IN*(RN/(RN+11.));\n",
      "print '%s %.2f %s' %('i) Current (IN) is   =  ',IN,'A ');\n",
      "print '%s %.2f %s' %('i) Current (RN) is   =  ',RN,'ohms ');\n",
      "print '%s %.2f %s' %('i) Current (IRL) is   =  ',IRL,'A ');"
     ],
     "language": "python",
     "metadata": {},
     "outputs": [
      {
       "output_type": "stream",
       "stream": "stdout",
       "text": [
        "i) Current (IN) is   =   4.08 A \n",
        "i) Current (RN) is   =   24.00 ohms \n",
        "i) Current (IRL) is   =   2.80 A \n"
       ]
      }
     ],
     "prompt_number": 12
    },
    {
     "cell_type": "heading",
     "level": 2,
     "metadata": {},
     "source": [
      "Example E15 : Pg 306"
     ]
    },
    {
     "cell_type": "code",
     "collapsed": false,
     "input": [
      "         # EXAMPLE 5-15   PG NO-306\n",
      "I2=-0.67;\n",
      "R1=8.;\n",
      "R2=2.;\n",
      "R3=5.;\n",
      "RN=R1+((R2*R3)/(R2+R3));\n",
      "I=-I2*(RN/(10.+RN));\n",
      "print '%s %.2f %s' %('i) Resistance (RN) is   =  ',RN,'ohm ');\n",
      "print '%s %.2f %s' %('i) Current3 (I) is   =  ',I,'A ');"
     ],
     "language": "python",
     "metadata": {},
     "outputs": [
      {
       "output_type": "stream",
       "stream": "stdout",
       "text": [
        "i) Resistance (RN) is   =   9.43 ohm \n",
        "i) Current3 (I) is   =   0.33 A \n"
       ]
      }
     ],
     "prompt_number": 13
    },
    {
     "cell_type": "heading",
     "level": 2,
     "metadata": {},
     "source": [
      "Example E16 : Pg 307"
     ]
    },
    {
     "cell_type": "code",
     "collapsed": false,
     "input": [
      "      # EXAMPLE 5-16  PG NO-307\n",
      "Z1=2.828+1j*2.828;\n",
      "Z2=0+1j*2.5;\n",
      "R=10.;\n",
      "Z3=3.+1j*4.;\n",
      "IN=Z1+Z2;\n",
      "ZN=(R*Z3)/(R+Z3);\n",
      "print 'i) current (IN) is   =  ',IN,'A '\n",
      "print 'i) impedance (ZN) is   =  ',ZN,'ohms '"
     ],
     "language": "python",
     "metadata": {},
     "outputs": [
      {
       "output_type": "stream",
       "stream": "stdout",
       "text": [
        "i) current (IN) is   =   (2.828+5.328j) A \n",
        "i) impedance (ZN) is   =   (2.97297297297+2.16216216216j) ohms \n"
       ]
      }
     ],
     "prompt_number": 14
    },
    {
     "cell_type": "heading",
     "level": 2,
     "metadata": {},
     "source": [
      "Example E17 : Pg 307"
     ]
    },
    {
     "cell_type": "code",
     "collapsed": false,
     "input": [
      "                       # EXAMPLE 5-17 PG NO-307-308\n",
      "Z1=60.+1j*0;\n",
      "Z2=15.6-1j*9.;\n",
      "Z3=10.42-1j*6.;\n",
      "Z4=25.98-1j*15.;\n",
      "Z5=11.92-1j*1.4;\n",
      "I=2.5*10.**-3.;\n",
      "Vab=((Z1*Z2)/(Z3+Z2));\n",
      "ZTH=(Z3*Z2)/(Z3+Z2);\n",
      "Vax=I*Z3*10.**3.;\n",
      "Vxy=Vab-Z4;\n",
      "Zxy=ZTH+Z3;\n",
      "IN=Z5/(Zxy*10.**3.);\n",
      "ZN=Zxy;\n",
      "print 'i) Voltage (Vab) is   =  ',Vab,'V'\n",
      "print 'i) Impedance (ZTH) is   =  ',ZTH,'K ohms '\n",
      "print 'i) Voltage (Vax) is   =  ',Vax\n",
      "print 'i) Voltage (Vxy) is   =  ',Vxy,'V'\n",
      "print 'i) Impedance (Zxy) is   =  ',Zxy,'K ohms '\n",
      "print 'i) Current (IN) is   =  ',IN,'A'\n",
      "print 'i) Impedance (ZN) is   =  ',ZN,'K ohms '"
     ],
     "language": "python",
     "metadata": {},
     "outputs": [
      {
       "output_type": "stream",
       "stream": "stdout",
       "text": [
        "i) Voltage (Vab) is   =   (35.9792310854-0.0119728562047j) V\n",
        "i) Impedance (ZTH) is   =   (6.24719584622-3.60000239457j) K ohms \n",
        "i) Voltage (Vax) is   =   (26.05-15j)\n",
        "i) Voltage (Vxy) is   =   (9.99923108544+14.9880271438j) V\n",
        "i) Impedance (Zxy) is   =   (16.6671958462-9.60000239457j) K ohms \n",
        "i) Current (IN) is   =   (0.000573347331913+0.000246240327236j) A\n",
        "i) Impedance (ZN) is   =   (16.6671958462-9.60000239457j) K ohms \n"
       ]
      }
     ],
     "prompt_number": 15
    },
    {
     "cell_type": "heading",
     "level": 2,
     "metadata": {},
     "source": [
      "Example E18 : Pg 308"
     ]
    },
    {
     "cell_type": "code",
     "collapsed": false,
     "input": [
      "       # example  5-18  pg no-308-309\n",
      "V=120.;\n",
      "R1=1200.;\n",
      "R2=400.;\n",
      "Vab=(V*R1)/(R1+R2);\n",
      "Rab=(R1*R2)/(R1+R2);\n",
      "IN=40./450.;\n",
      "RN=450.;\n",
      "print '%s %.2f %s' %('i) Voltage  (Vab) is   =  ',Vab,'V ');\n",
      "print '%s %.2f %s' %('i) Resistance (Rab) is   =  ',Rab,'  ohms ');\n",
      "print '%s %.2f %s' %('i) Current (IN) is   =  ',IN,'  mA');\n",
      "print '%s %.2f %s' %('i) Resistance (RN) is   =  ',RN,'   ohms ');"
     ],
     "language": "python",
     "metadata": {},
     "outputs": [
      {
       "output_type": "stream",
       "stream": "stdout",
       "text": [
        "i) Voltage  (Vab) is   =   90.00 V \n",
        "i) Resistance (Rab) is   =   300.00   ohms \n",
        "i) Current (IN) is   =   0.09   mA\n",
        "i) Resistance (RN) is   =   450.00    ohms \n"
       ]
      }
     ],
     "prompt_number": 16
    },
    {
     "cell_type": "heading",
     "level": 2,
     "metadata": {},
     "source": [
      "Example E19 : Pg 312"
     ]
    },
    {
     "cell_type": "code",
     "collapsed": false,
     "input": [
      "       # EXAMPLE -19 PG NO-312\n",
      "V=360.;\n",
      "R1=150.;\n",
      "R2=30.;\n",
      "Pm=900.;\n",
      "RL=25.;\n",
      "VTH=(V*R1)/(R1+R2);\n",
      "RTH=(R1*R2)/(R1+R2);\n",
      "TR=30.+((R1*RL)/(R1+RL));         # total resistance\n",
      "I=V/TR;                          # Current supplied by battery\n",
      "P=V*7.;                        # Power  supplied by battery\n",
      "PL=Pm*100./P                       # Percentage of power delivered to load\n",
      "print '%s %.2f %s' %('i) Voltage (VTH) is   =  ',VTH,'V ');\n",
      "print '%s %2f %s' %('i) Resistance (RTH) is   =  ',RTH,'  ohms ');\n",
      "print '%s %.2f %s' %('i) Total resistance (TR) is   =  ',TR,' ohms');\n",
      "print '%s %.2f %s' %('i) Current (I) is   =  ',I,' A ');\n",
      "print '%s %.2f %s' %('i) power (P) is   =  ',P,' W ');\n",
      "print '%s %.2f %s' %('i) Percentage of power (PL) is   =  ',PL,' % ');"
     ],
     "language": "python",
     "metadata": {},
     "outputs": [
      {
       "output_type": "stream",
       "stream": "stdout",
       "text": [
        "i) Voltage (VTH) is   =   300.00 V \n",
        "i) Resistance (RTH) is   =   25.000000   ohms \n",
        "i) Total resistance (TR) is   =   51.43  ohms\n",
        "i) Current (I) is   =   7.00  A \n",
        "i) power (P) is   =   2520.00  W \n",
        "i) Percentage of power (PL) is   =   35.71  % \n"
       ]
      }
     ],
     "prompt_number": 17
    },
    {
     "cell_type": "heading",
     "level": 2,
     "metadata": {},
     "source": [
      "Example E20 : Pg 313"
     ]
    },
    {
     "cell_type": "code",
     "collapsed": false,
     "input": [
      "       # EXAMPLE 5-20 PG NO -313\n",
      "Z1=5.+1j*0;\n",
      "Z2=4.-1j*3.;\n",
      "Z3=3.+1j*3.;\n",
      "Z4=1j*3.;\n",
      "VTH=((Z1)/(3.+(((Z4*Z2)/(Z3-Z4)))))*(Z4/(Z3-Z4))*(-Z4);\n",
      "print 'i) Voltage (VTH) is   =  ',VTH,'V '"
     ],
     "language": "python",
     "metadata": {},
     "outputs": [
      {
       "output_type": "stream",
       "stream": "stdout",
       "text": [
        "i) Voltage (VTH) is   =   (1.73076923077-1.15384615385j) V \n"
       ]
      }
     ],
     "prompt_number": 18
    },
    {
     "cell_type": "heading",
     "level": 2,
     "metadata": {},
     "source": [
      "Example E21 : Pg 313"
     ]
    },
    {
     "cell_type": "code",
     "collapsed": false,
     "input": [
      "       # EXAMPLE 5-21 PG NO -313-314\n",
      "Z1=8.66+1j*5.;\n",
      "Z2=1j*1.;\n",
      "VTH=Z1-(Z1-1.)*0.9;\n",
      "ZTH=Z2+((9.*1.)/(9.+1.));\n",
      "I=VTH/((0.9+1j*1.)+(0.9-1j*1.));\n",
      "P=1.02**2.*0.9;\n",
      "print 'i) Voltage (VTH) is   =  ',VTH,' V '\n",
      "print 'i) Impedance(ZTH) is   =  ',ZTH\n",
      "print 'i) Current (I) is   =  ',I,'A '\n",
      "print 'i) Power (VTH) is   =  ',P,' W '"
     ],
     "language": "python",
     "metadata": {},
     "outputs": [
      {
       "output_type": "stream",
       "stream": "stdout",
       "text": [
        "i) Voltage (VTH) is   =   (1.766+0.5j)  V \n",
        "i) Impedance(ZTH) is   =   (0.9+1j)\n",
        "i) Current (I) is   =   (0.981111111111+0.277777777778j) A \n",
        "i) Power (VTH) is   =   0.93636  W \n"
       ]
      }
     ],
     "prompt_number": 19
    },
    {
     "cell_type": "heading",
     "level": 2,
     "metadata": {},
     "source": [
      "Example E22 : Pg 315"
     ]
    },
    {
     "cell_type": "code",
     "collapsed": false,
     "input": [
      "         # EXAMPLE 5-22       PG NO-315-316\n",
      "I1=100.;\n",
      "I2=80.;\n",
      "I3=5.;\n",
      "R1=100.;\n",
      "R2=50.;\n",
      "R3=200.;\n",
      "IN=I1+I2-I3;\n",
      "X=1./R1+1./R2+1./R3;                  \n",
      "#1/RN=X\n",
      "RN=X;\n",
      "VTH=IN*RN;\n",
      "RTH=RN,\n",
      "print 'i) Voltage (VTH) is   =  ',IN,'V'\n",
      "print 'i) Voltage (VTH) is   =  ',1/RN,'V'\n",
      "print 'i) Voltage (VTH) is   =  ',VTH,'V'\n",
      "print 'i) Voltage (VTH) is   =  ',RTH,'V'"
     ],
     "language": "python",
     "metadata": {},
     "outputs": [
      {
       "output_type": "stream",
       "stream": "stdout",
       "text": [
        "i) Voltage (VTH) is   =   175.0 V\n",
        "i) Voltage (VTH) is   =   28.5714285714 V\n",
        "i) Voltage (VTH) is   =   6.125 V\n",
        "i) Voltage (VTH) is   =   (0.034999999999999996,) V\n"
       ]
      }
     ],
     "prompt_number": 20
    },
    {
     "cell_type": "heading",
     "level": 2,
     "metadata": {},
     "source": [
      "Example E23 : Pg 316"
     ]
    },
    {
     "cell_type": "code",
     "collapsed": false,
     "input": [
      "      # EXAMPLE 5-23    PG -NO 316-317\n",
      "V11=-5.;\n",
      "V12=5.;\n",
      "V13=0;\n",
      "G1=1./2200.;\n",
      "G2=1./3300.;\n",
      "G3=1./1500.;\n",
      "VO1=((V11*G1)+(V12*G2)+(V13*G3))/(G1+G2+G3);\n",
      "V21=-5.;\n",
      "V22=10.;\n",
      "V23=0;\n",
      "VO2=((V21*G1)+(V22*G2)+(V23*G3))/(G1+G2+G3);\n",
      "print '%s %.2f %s' %('i) Voltage (VO1) is   =  ',VO1,'V ');\n",
      "print '%s %.2f %s' %('i) Voltage (VO2) is   =  ',VO2,'V ');"
     ],
     "language": "python",
     "metadata": {},
     "outputs": [
      {
       "output_type": "stream",
       "stream": "stdout",
       "text": [
        "i) Voltage (VO1) is   =   -0.53 V \n",
        "i) Voltage (VO2) is   =   0.53 V \n"
       ]
      }
     ],
     "prompt_number": 21
    },
    {
     "cell_type": "heading",
     "level": 2,
     "metadata": {},
     "source": [
      "Example E24 : Pg 317"
     ]
    },
    {
     "cell_type": "code",
     "collapsed": false,
     "input": [
      "Z1=10+1j*0;\n",
      "Z2=99.33-1j*49.09222;\n",
      "Z3=20+1j*0;\n",
      "Z4=10+1j*20;\n",
      "Z5=20.03+1j*30.03;\n",
      "Z6=15+1j*20;\n",
      "Z7=89.32-1j*49.105;\n",
      "IN=Z1+Z2-Z3;\n",
      "ZN=1/((1/Z4)+(1/Z5)+(1/Z6));\n",
      "VTH=(Z7/1000)*ZN;\n",
      "ZTH=ZN\n",
      "print'i) Current (IN) is   in rectangular form   =  ',IN,'V '\n",
      "print'i) Impedance (1/ZN) is  in rectangular form   =  ',1/ZN,'V '\n",
      "print'i) Voltage (VTH) is in rectangular form      =  ',VTH,'V '\n",
      "print'i) Impedance (ZTH) is  in  rectangular form   =  ',ZTH,'ohm '"
     ],
     "language": "python",
     "metadata": {},
     "outputs": [
      {
       "output_type": "stream",
       "stream": "stdout",
       "text": [
        "i) Current (IN) is   in rectangular form   =   (89.33-49.09222j) V \n",
        "i) Impedance (1/ZN) is  in rectangular form   =   (0.059372196723-0.0950467832048j) V \n",
        "i) Voltage (VTH) is in rectangular form      =   (0.793887856855+0.443835473063j) V \n",
        "i) Impedance (ZTH) is  in  rectangular form   =   (4.72748141155+7.56805248295j) ohm \n"
       ]
      }
     ],
     "prompt_number": 22
    },
    {
     "cell_type": "heading",
     "level": 2,
     "metadata": {},
     "source": [
      "Example E25 : Pg 318"
     ]
    },
    {
     "cell_type": "code",
     "collapsed": false,
     "input": [
      "                            # EXAMPLE 5-25           PG NO-318-319\n",
      "I1=4.4-1j*1.012;                              # Current\n",
      "I2=I1*((1j*5.)/(3.+1j*9.));\n",
      "Z1=1.;\n",
      "I11=(I2/(10.*1j*5.))*(1j*5./10.+1j*5.);\n",
      "print' Current is  in polar form = ',I1,'A'\n",
      "print' Current is  in polar form = ',I2,'A'\n",
      "print' Current is  in polar form = ',I11,'A'\n",
      "I12=I1-I11;\n",
      "print' Current is  in polar form = ',I12,'A'"
     ],
     "language": "python",
     "metadata": {},
     "outputs": [
      {
       "output_type": "stream",
       "stream": "stdout",
       "text": [
        " Current is  in polar form =  (4.4-1.012j) A\n",
        " Current is  in polar form =  (2.36866666667+0.227333333333j) A\n",
        " Current is  in polar form =  (0.260553333333+0.0250066666667j) A\n",
        " Current is  in polar form =  (4.13944666667-1.03700666667j) A\n"
       ]
      }
     ],
     "prompt_number": 23
    },
    {
     "cell_type": "heading",
     "level": 2,
     "metadata": {},
     "source": [
      "Example E26 : Pg 319"
     ]
    },
    {
     "cell_type": "code",
     "collapsed": false,
     "input": [
      "                # EXAMPLE   5-26   PG NO-319-320\n",
      "import numpy as np\n",
      "Z1=70.71+1j*70.71;\n",
      "Z2=10.+1j*5.;\n",
      "Z3=-1j*5.;\n",
      "Z4=1j*5.;\n",
      "Z5=5.-1j*5.;\n",
      "X1=9.;#np.matrix('Z2 Z3 Z1;Z3 10 0;0 Z4 0');\n",
      "X2=9.;#np.matrix('Z2 Z3 0;Z3 10 Z4;0 Z4 Z5');\n",
      "X3=9.;#np.matrix('0 Z3 0;0 10 Z4;Z1 Z4 Z5');\n",
      "X4=9.;#np.matrix('Z2 Z3 0;Z3 10 Z4;0 Z4 Z5');\n",
      "I3=X1/X2;\n",
      "I1=X3/X4;\n",
      "print'i) Current (I3) is   in polar  =  ',I3,' A '\n",
      "print'i) Current (I1) is   in polar  =  ',I1,' A '"
     ],
     "language": "python",
     "metadata": {},
     "outputs": [
      {
       "output_type": "stream",
       "stream": "stdout",
       "text": [
        "i) Current (I3) is   in polar  =   1.0  A \n",
        "i) Current (I1) is   in polar  =   1.0  A \n"
       ]
      }
     ],
     "prompt_number": 24
    },
    {
     "cell_type": "heading",
     "level": 2,
     "metadata": {},
     "source": [
      "Example E27 : Pg 321"
     ]
    },
    {
     "cell_type": "code",
     "collapsed": false,
     "input": [
      "     # EXAMPLE 5-27  PG NO-321\n",
      "Z1=(6.-1j*2.41);       # Impedance\n",
      "Z2=(0-1j*9.64);       # Impedance\n",
      "Z3=4.+1j*0;            # Impedance\n",
      "Z4=2.+1j*0;           # Impedance\n",
      "Z5=0-1j*2.41;          # Impedance\n",
      "Za=Z2/Z1;              # Impedance\n",
      "Zb=(Z3*Z4)/Z1;          # Impedance\n",
      "Zc=(Z4*Z5)/Z1;          # Impedance\n",
      "print'i) Impedance (Za) is   in polar  =  ',Za,'  ohms '\n",
      "print'ii) Impedance (Zb) is   in polar  =  ',Zb,'  ohms '\n",
      "print'iii) Impedance (Zc) is   in polar  =  ',Zc,'  ohms '"
     ],
     "language": "python",
     "metadata": {},
     "outputs": [
      {
       "output_type": "stream",
       "stream": "stdout",
       "text": [
        "i) Impedance (Za) is   in polar  =   (0.555691361243-1.3834639699j)   ohms \n",
        "ii) Impedance (Zb) is   in polar  =   (1.14810287959+0.461154656634j)   ohms \n",
        "iii) Impedance (Zc) is   in polar  =   (0.277845680622-0.69173198495j)   ohms \n"
       ]
      }
     ],
     "prompt_number": 25
    },
    {
     "cell_type": "heading",
     "level": 2,
     "metadata": {},
     "source": [
      "Example E28 : Pg 322"
     ]
    },
    {
     "cell_type": "code",
     "collapsed": false,
     "input": [
      "       # EXAMPLE 5-28   PG NO-322\n",
      "Z1=0.6-1j*1.2;\n",
      "Z2=0.6-1j*1.2;\n",
      "Z3=1.2+1j*0.6;\n",
      "Z=Z1+(((Z2+3.)*(Z3+1j*3.))/(Z2+3.+Z3+1j*3.));\n",
      "print'i) Impedance (Z) is   in polar  =  ',Z,'  ohms'"
     ],
     "language": "python",
     "metadata": {},
     "outputs": [
      {
       "output_type": "stream",
       "stream": "stdout",
       "text": [
        "i) Impedance (Z) is   in polar  =   (3+2.22044604925e-16j)   ohms\n"
       ]
      }
     ],
     "prompt_number": 26
    },
    {
     "cell_type": "heading",
     "level": 2,
     "metadata": {},
     "source": [
      "Example E29 : Pg 323"
     ]
    },
    {
     "cell_type": "code",
     "collapsed": false,
     "input": [
      "    # EXAMPLE 5-29    PG NO 323\n",
      "V1=5.;                     # Voltage\n",
      "V2=0.05;                  # Voltage\n",
      "R1=100.;                    # Resistance\n",
      "R2=1000.;                  # Resistance\n",
      "R3=85.;\n",
      "R4=880.;\n",
      "I1=0.00266;              # Current\n",
      "I2=0.02676;              # Current\n",
      "Va=V1-R1*I2;\n",
      "Vb=V1-R2*I1;\n",
      "VTH=Va-Vb;\n",
      "RTH=((R1*R3)/(R1+R3))+(R2*R4)/(R2+R4)\n",
      "I=(0.016)/(RTH+20.);\n",
      "print'i) Voltage (Va) is   in polar  =  ',Va,'  V '\n",
      "print'i) Voltage (Vb) is   in polar  =  ',Vb,'  V '\n",
      "print'i) Voltage (VTH) is   in polar  =  ',VTH,'  V '\n",
      "print'i) Resistance (RTH) is   in polar  =  ',RTH,'  ohms'\n",
      "print'i) Current (I) is     =  ',I,'  A ',"
     ],
     "language": "python",
     "metadata": {},
     "outputs": [
      {
       "output_type": "stream",
       "stream": "stdout",
       "text": [
        "i) Voltage (Va) is   in polar  =   2.324   V \n",
        "i) Voltage (Vb) is   in polar  =   2.34   V \n",
        "i) Voltage (VTH) is   in polar  =   -0.016   V \n",
        "i) Resistance (RTH) is   in polar  =   514.031052329   ohms\n",
        "i) Current (I) is     =   2.99608045828e-05   A \n"
       ]
      }
     ],
     "prompt_number": 27
    },
    {
     "cell_type": "heading",
     "level": 2,
     "metadata": {},
     "source": [
      "Example E30 : Pg 324"
     ]
    },
    {
     "cell_type": "code",
     "collapsed": false,
     "input": [
      "             # EXAMPLE 5-30    PG NO 324-325\n",
      "V=25.;                        # Voltage \n",
      "R1=50.;                      # RESISTANCE\n",
      "R2=35.;                     # RESISTANCE\n",
      "R3=60.;                    # RESISTANCE\n",
      "R4=10.;\n",
      "VTH=V-(R1*(R2/R3));      # THEVENINS VOLTAGE\n",
      "RTH=(R1*R4)/R3;\n",
      "I40=-(VTH/(40.+RTH));\n",
      "V40=40.*I40;\n",
      "print '%s %.2f %s' %('i) Impedance (VTH) is     =  ',VTH,'  V ');\n",
      "print '%s %.2f %s' %('i) Impedance (RTH) is     =  ',RTH,'  ohm ');\n",
      "print '%s %.2f %s' %('i) Impedance (I40) is     =  ',I40,'  A ');\n",
      "print '%s %.2f %s' %('i) Impedance (V40) is     =  ',V40,'  V ');"
     ],
     "language": "python",
     "metadata": {},
     "outputs": [
      {
       "output_type": "stream",
       "stream": "stdout",
       "text": [
        "i) Impedance (VTH) is     =   -4.17   V \n",
        "i) Impedance (RTH) is     =   8.33   ohm \n",
        "i) Impedance (I40) is     =   0.09   A \n",
        "i) Impedance (V40) is     =   3.45   V \n"
       ]
      }
     ],
     "prompt_number": 28
    },
    {
     "cell_type": "heading",
     "level": 2,
     "metadata": {},
     "source": [
      "Example E31 : Pg 326"
     ]
    },
    {
     "cell_type": "code",
     "collapsed": false,
     "input": [
      "             # EXAMPLE 5-31   PG NO-326;\n",
      "V=25.;\n",
      "R1=50.;\n",
      "R2=40.;\n",
      "R3=10.;\n",
      "I=(V/(R1+((R2*R3)/(R2+R3))))*(R3/(R2+R3));\n",
      "print '%s %.2f %s' %('i) Current (I) is    =  ',I,'  A ');"
     ],
     "language": "python",
     "metadata": {},
     "outputs": [
      {
       "output_type": "stream",
       "stream": "stdout",
       "text": [
        "i) Current (I) is    =   0.09   A \n"
       ]
      }
     ],
     "prompt_number": 29
    },
    {
     "cell_type": "heading",
     "level": 2,
     "metadata": {},
     "source": [
      "Example E32 : Pg 326"
     ]
    },
    {
     "cell_type": "code",
     "collapsed": false,
     "input": [
      "              # EXAMPLE 5-32     PG NO=326\n",
      "V1=60.;             # VOLTAGE\n",
      "V2=50.;             # VOLTAGE\n",
      "V3=100.;            # VOLTAGE\n",
      "R1=60.;           # RESISTANCE\n",
      "R2=30.;          # RESISTANCE\n",
      "R3=40.;         # RESISTANCE\n",
      "VTH=V2+(R2*(2./3.))-(R1*1.);\n",
      "RTH=((R1*R2)/(R1+R2))+((R1*R3)/(R1+R3));\n",
      "RL=RTH;\n",
      "I=VTH/(RTH+RTH);                # CURRENT\n",
      "P=(I*I)*RL;                     # POWER\n",
      "print '%s %.2f %s' %('i) Voltage (VTH) is    =  ',VTH,'  V ');\n",
      "print '%s %.2f %s' %('i) Resistance (RTH) is    =  ',RTH,'   ');\n",
      "print '%s %.2f %s' %('i) Load Resistance (RL) is    =  ',RL,'  ohm ');\n",
      "print '%s %.2f %s' %('i) Current (I) is    =  ',I,'  A ');\n",
      "print '%s %.2f %s' %('i) Power (P) is    =  ',I,'  W ');"
     ],
     "language": "python",
     "metadata": {},
     "outputs": [
      {
       "output_type": "stream",
       "stream": "stdout",
       "text": [
        "i) Voltage (VTH) is    =   10.00   V \n",
        "i) Resistance (RTH) is    =   44.00    \n",
        "i) Load Resistance (RL) is    =   44.00   ohm \n",
        "i) Current (I) is    =   0.11   A \n",
        "i) Power (P) is    =   0.11   W \n"
       ]
      }
     ],
     "prompt_number": 30
    },
    {
     "cell_type": "heading",
     "level": 2,
     "metadata": {},
     "source": [
      "Example E33 : Pg 327"
     ]
    },
    {
     "cell_type": "code",
     "collapsed": false,
     "input": [
      "       # EXAMPLE 5-33   PG NO=327\n",
      "R1=15.;   # RESISTANCE\n",
      "R2=8.;    # RESISTANCE\n",
      "R3=12.;    # RESISTANCE\n",
      "R4=10.;\n",
      "R5=5.14;\n",
      "R6=7.429;\n",
      "R7=32.74;\n",
      "V=60.;\n",
      "Ra=(R1*R2)/ (R1+R2+R3);\n",
      "Rb=(R3*R2)/(R1+R2+R3);\n",
      "Rc=(R1*R3)/(R1+R2+R3);\n",
      "TR=R4+R5+((R6*R7)/(R6+R7));      # TOTAL  RESISTANCE\n",
      "I=V/TR\n",
      "print '%s %.2f %s' %('i) Resistance (Ra) is    =  ',Ra,'  ohms  ');\n",
      "print '%s %.2f %s' %('i) Resistance (Rb) is    =  ',Rb,'   ohms ');\n",
      "print '%s %.2f %s' %('i) Resistance (Rc) is    =  ',Rc,'  ohms  ');\n",
      "print '%s %.2f %s' %('i) Total Resistance (TR) is    =  ',TR,' ohms  ');\n",
      "print '%s %.2f %s' %('i) Current (I) is    =  ',I,'  A ');"
     ],
     "language": "python",
     "metadata": {},
     "outputs": [
      {
       "output_type": "stream",
       "stream": "stdout",
       "text": [
        "i) Resistance (Ra) is    =   3.43   ohms  \n",
        "i) Resistance (Rb) is    =   2.74    ohms \n",
        "i) Resistance (Rc) is    =   5.14   ohms  \n",
        "i) Total Resistance (TR) is    =   21.20  ohms  \n",
        "i) Current (I) is    =   2.83   A \n"
       ]
      }
     ],
     "prompt_number": 31
    },
    {
     "cell_type": "heading",
     "level": 2,
     "metadata": {},
     "source": [
      "Example E34 : Pg 327"
     ]
    },
    {
     "cell_type": "code",
     "collapsed": false,
     "input": [
      "        # EXAMPLE 5-34  PG NO-327-328\n",
      "V=10.;\n",
      "R1=1.;\n",
      "R2=2.;\n",
      "R3=8.5;\n",
      "VTH=V*(R1/R2);                      # Thevenins Voltage\n",
      "RTH=R2+((R1*R1)/(R1+R1))+R2;       # Thevenins Resistance\n",
      "Pmax=(5./9.)**2.*RTH;\n",
      "TR=R1+((R1*R3)/(R1+R3));         # Total Resistance\n",
      "TP=V*(V/TR);                    # Total Power\n",
      "print '%s %.2f %s' %('i) Voltage (VTH) is    =  ',VTH,'  V ');\n",
      "print '%s %.2f %s' %('i) Resistance (RTH) is    =  ',RTH,'  ohms ');\n",
      "print '%s %.2f %s' %('i) Power (Pmax) is    =  ',Pmax,'  W ');\n",
      "print '%s %.2f %s' %('i) Total resistance (TR) is    =  ',TR,'  ohms ');\n",
      "print '%s %.2f %s' %('i) Total Power (TP) is    =  ',TP,'  W ');"
     ],
     "language": "python",
     "metadata": {},
     "outputs": [
      {
       "output_type": "stream",
       "stream": "stdout",
       "text": [
        "i) Voltage (VTH) is    =   5.00   V \n",
        "i) Resistance (RTH) is    =   4.50   ohms \n",
        "i) Power (Pmax) is    =   1.39   W \n",
        "i) Total resistance (TR) is    =   1.89   ohms \n",
        "i) Total Power (TP) is    =   52.78   W \n"
       ]
      }
     ],
     "prompt_number": 32
    },
    {
     "cell_type": "heading",
     "level": 2,
     "metadata": {},
     "source": [
      "Example E35 : Pg 328"
     ]
    },
    {
     "cell_type": "code",
     "collapsed": false,
     "input": [
      "           # EXAMPLE 5-35   PG NO-328-329\n",
      "Va=6.;           # VOLTAGE  at PONT A\n",
      "Vb=-3.;           # VOLTAGE   at POINT B\n",
      "VTH=Va-Vb;\n",
      "R1=1.;\n",
      "R2=2.;\n",
      "R3=3.;\n",
      "RTH=((R2*R3)/(R2+R3))+((R1*R3)/(R1+R3));\n",
      "print '%s %.2f %s' %('i) Voltage (VTH) is    =  ',VTH,'  V ');\n",
      "print '%s %.2f %s' %('i) Resistance (RTH) is    =  ',RTH,'  ohm ');"
     ],
     "language": "python",
     "metadata": {},
     "outputs": [
      {
       "output_type": "stream",
       "stream": "stdout",
       "text": [
        "i) Voltage (VTH) is    =   9.00   V \n",
        "i) Resistance (RTH) is    =   1.95   ohm \n"
       ]
      }
     ],
     "prompt_number": 33
    },
    {
     "cell_type": "heading",
     "level": 2,
     "metadata": {},
     "source": [
      "Example E36 : Pg 329"
     ]
    },
    {
     "cell_type": "code",
     "collapsed": false,
     "input": [
      "                                # EXAMPLE 5-36            PG NO=329\n",
      "I1=-10.;                              # CURRENT\n",
      "Vpc=15.;\n",
      "I2=7.5;\n",
      "Vqc=I2*1.;\n",
      "print '%s %.2f %s' %(' Voltage is   = ',Vqc,'V');\n",
      "Vpq=Vpc-Vqc;\n",
      "print '%s %.2f %s' %(' Voltage is   = ',Vpq,'V');\n",
      "RTH=1.406;\n",
      "Pmax=(I2/(2.*RTH))**2.*RTH;\n",
      "print '%s %.2f %s' %(' Power is   = ',Pmax,'W');"
     ],
     "language": "python",
     "metadata": {},
     "outputs": [
      {
       "output_type": "stream",
       "stream": "stdout",
       "text": [
        " Voltage is   =  7.50 V\n",
        " Voltage is   =  7.50 V\n",
        " Power is   =  10.00 W\n"
       ]
      }
     ],
     "prompt_number": 34
    },
    {
     "cell_type": "heading",
     "level": 2,
     "metadata": {},
     "source": [
      "Example E37 : Pg 330"
     ]
    },
    {
     "cell_type": "code",
     "collapsed": false,
     "input": [
      "                                    # EXAMPLE 5-37          PG NO-330-331\n",
      "R=8.;\n",
      "R1=12.67;\n",
      "R2=4.;\n",
      "R3=10.;\n",
      "R4=3.077;\n",
      "R5=13.077;\n",
      "R50=9.9;                      # RESISTANCE AT 50 V BATTERY\n",
      "V=50.;                        # VOLTAGE\n",
      "I1=V/R50;                    # CURRENT\n",
      "I=I1*(R/(R+R1));\n",
      "print '%s %.2f %s' %(' Current is (I1)  = ',I1,'A');\n",
      "print '%s %.2f %s' %(' Current is (I)  = ',I,'A');\n",
      "R100=R+((R2*(R3+R4))/(R2+R3+R4));\n",
      "print '%s %.2f %s' %(' Resistance at 100 (R100) is   = ',R100,'ohm');\n",
      "I2=100./R100;\n",
      "print '%s %.2f %s' %(' Current is   (I2)  = ',I2,'A');\n",
      "I3=((I2*R2)/(R2+R5));\n",
      "print '%s %.2f %s' %(' Current is   (I3)  = ',I3,'A');\n",
      "I10=I3-I;\n",
      "print '%s %.2f %s' %(' Current is    (I10) = ',I10,'A');"
     ],
     "language": "python",
     "metadata": {},
     "outputs": [
      {
       "output_type": "stream",
       "stream": "stdout",
       "text": [
        " Current is (I1)  =  5.05 A\n",
        " Current is (I)  =  1.95 A\n",
        " Resistance at 100 (R100) is   =  11.06 ohm\n",
        " Current is   (I2)  =  9.04 A\n",
        " Current is   (I3)  =  2.12 A\n",
        " Current is    (I10) =  0.16 A\n"
       ]
      }
     ],
     "prompt_number": 35
    },
    {
     "cell_type": "heading",
     "level": 2,
     "metadata": {},
     "source": [
      "Example E38 : Pg 331"
     ]
    },
    {
     "cell_type": "code",
     "collapsed": false,
     "input": [
      "       # EXAMPLE   5-38  PG  NO-331\n",
      "R1=100.;\n",
      "R2=4.;\n",
      "R3=8.;\n",
      "R4=50.;\n",
      "R5=5.;\n",
      "VTH=(R1*((R2)/(R2+R3)))-((R3*R4)/(R3+R5));\n",
      "RTH=((R3*R5)/(R3+R5))+((R2*R3)/(R2+R3));\n",
      "I=VTH/(10.+RTH);\n",
      "print '%s %.2f %s' %('i) Voltage (VTH) is    =  ',VTH,'  V ');\n",
      "print '%s %.2f %s' %('i) Resistance (RTH) is    =  ',RTH,' ohm ');\n",
      "print '%s %.2f %s' %('i) Current (I) is    =  ',I,'  A ');"
     ],
     "language": "python",
     "metadata": {},
     "outputs": [
      {
       "output_type": "stream",
       "stream": "stdout",
       "text": [
        "i) Voltage (VTH) is    =   2.56   V \n",
        "i) Resistance (RTH) is    =   5.74  ohm \n",
        "i) Current (I) is    =   0.16   A \n"
       ]
      }
     ],
     "prompt_number": 36
    },
    {
     "cell_type": "heading",
     "level": 2,
     "metadata": {},
     "source": [
      "Example E39 : Pg 331"
     ]
    },
    {
     "cell_type": "code",
     "collapsed": false,
     "input": [
      "    # EXAMPLE 5-39   PG NO-331\n",
      "V=36.;\n",
      "R1=5.;\n",
      "R2=11.;\n",
      "R3=6.;\n",
      "VTH=V*(R1/R2);\n",
      "RTH=(R1*R3)/(R1+R3);\n",
      "R=RTH;\n",
      "Pmax=(VTH/(2.*RTH))**2.*(RTH);\n",
      "print '%s %.2f %s' %('i) Voltage (VTH) is    =  ',VTH,'  V ');\n",
      "print '%s %.2f %s' %('i) Resistance (RTH) is    =  ',RTH,'  ohm ');\n",
      "print '%s %.2f %s' %('i) Maximum Power (Pmax) is    =  ',Pmax,'  W ');"
     ],
     "language": "python",
     "metadata": {},
     "outputs": [
      {
       "output_type": "stream",
       "stream": "stdout",
       "text": [
        "i) Voltage (VTH) is    =   16.36   V \n",
        "i) Resistance (RTH) is    =   2.73   ohm \n",
        "i) Maximum Power (Pmax) is    =   24.55   W \n"
       ]
      }
     ],
     "prompt_number": 37
    },
    {
     "cell_type": "heading",
     "level": 2,
     "metadata": {},
     "source": [
      "Example E40 : Pg 331"
     ]
    },
    {
     "cell_type": "code",
     "collapsed": false,
     "input": [
      "      # EXAMPLE 5-40  PG NO-331-332\n",
      "R1=3.;\n",
      "R2=2.;\n",
      "R3=12.;\n",
      "R4=4.;\n",
      "R5=8.;\n",
      "V=10.;\n",
      "R=R3/(R1/R2);\n",
      "TR=R4+((R2*R5)/(R2+R5))+((R1*R3)/(R1+R3));\n",
      "I=V/TR;\n",
      "Ir=I*(R2/(R5+R2));\n",
      "print 'i) Resistance (R) is    =  ',R,'  ohm '\n",
      "print 'i) Total Resistance (TR) is    =  ',TR,'  ohm '\n",
      "print 'i) Current (I) is    =  ',I,'  A '\n",
      "print 'i) Current (Ir) is    =  ',Ir,'  A '"
     ],
     "language": "python",
     "metadata": {},
     "outputs": [
      {
       "output_type": "stream",
       "stream": "stdout",
       "text": [
        "i) Resistance (R) is    =   8.0   ohm \n",
        "i) Total Resistance (TR) is    =   8.0   ohm \n",
        "i) Current (I) is    =   1.25   A \n",
        "i) Current (Ir) is    =   0.25   A \n"
       ]
      }
     ],
     "prompt_number": 38
    },
    {
     "cell_type": "heading",
     "level": 2,
     "metadata": {},
     "source": [
      "Example E41 : Pg 332"
     ]
    },
    {
     "cell_type": "code",
     "collapsed": false,
     "input": [
      "       # EXAMPLE 5-41  PG NO-332-333\n",
      "VTH=10.;\n",
      "V=10.;\n",
      "R1=10.;\n",
      "R2=10.;\n",
      "R3=16.67;\n",
      "R4=50.;\n",
      "R5=5.56;\n",
      "R6=3.33;\n",
      "RTH=V+R5+(((R1+R3)*(R4+R6))/(R1+R3+R4+R6));\n",
      "I=(V/RTH)-0.4;\n",
      "print '%s %.2f %s' %('i) Resistance (RTH) is    =  ',RTH,'  ohm ');\n",
      "print '%s %.2f %s' %('i) Currrent (I) is    =  ',I,'  A ');"
     ],
     "language": "python",
     "metadata": {},
     "outputs": [
      {
       "output_type": "stream",
       "stream": "stdout",
       "text": [
        "i) Resistance (RTH) is    =   33.34   ohm \n",
        "i) Currrent (I) is    =   -0.10   A \n"
       ]
      }
     ],
     "prompt_number": 39
    },
    {
     "cell_type": "heading",
     "level": 2,
     "metadata": {},
     "source": [
      "Example E42 : Pg 333"
     ]
    },
    {
     "cell_type": "code",
     "collapsed": false,
     "input": [
      "    # EXAMPLE 5-42   PG NO-333\n",
      "V=100.;           # Voltage\n",
      "RTH=0;           # Resistance\n",
      "Iab=V/20.;        # Current\n",
      "print '%s %.2f %s' %('i) Current (Iab) is    =  ',Iab,'  A ');\n",
      "Iab=V/20.;"
     ],
     "language": "python",
     "metadata": {},
     "outputs": [
      {
       "output_type": "stream",
       "stream": "stdout",
       "text": [
        "i) Current (Iab) is    =   5.00   A \n"
       ]
      }
     ],
     "prompt_number": 40
    },
    {
     "cell_type": "heading",
     "level": 2,
     "metadata": {},
     "source": [
      "Example E43 : Pg 333"
     ]
    },
    {
     "cell_type": "code",
     "collapsed": false,
     "input": [
      "      # EXAMPLE 5-43 PG NO-333\n",
      "Vab=38.;       # Voltage\n",
      "R1=12.;\n",
      "R2=6.;\n",
      "RTH=(R1*R2)/(R1+R2);\n",
      "Iab=Vab/(RTH+3.);\n",
      "print '%s %.2f %s' %('i) Resistance (RTH) is    =  ',RTH,'  ohm ');\n",
      "print '%s %.2f %s' %('i) Current (Iab) is    =  ',Iab,'  A ');"
     ],
     "language": "python",
     "metadata": {},
     "outputs": [
      {
       "output_type": "stream",
       "stream": "stdout",
       "text": [
        "i) Resistance (RTH) is    =   4.00   ohm \n",
        "i) Current (Iab) is    =   5.43   A \n"
       ]
      }
     ],
     "prompt_number": 41
    },
    {
     "cell_type": "heading",
     "level": 2,
     "metadata": {},
     "source": [
      "Example E44 : Pg 333"
     ]
    },
    {
     "cell_type": "code",
     "collapsed": false,
     "input": [
      "    # EXAMPLE 5-44 PG NO-333-334\n",
      "I1=1.6;\n",
      "I2=0.8;\n",
      "VTH=6.*I2;                              #  ((R1*R2)/(R1+R2))\n",
      "R1=3.;\n",
      "R2=9.;                                           \n",
      "R3=6.;\n",
      "R4=3.;\n",
      "RTH=((((R1*R2)/(R1+R2))+R1)*R3)/(((R1*R2)/(R1+R2))+R1+R2);\n",
      "IN=VTH/RTH;\n",
      "RN=RTH;\n",
      "print '%s %.2f %s' %('i) Voltage (VTH) is    =  ',VTH,'  V ');\n",
      "print '%s %.2f %s' %('i) Resistance (RTH) is    =  ',RTH,'  ohm ');\n",
      "print '%s %.2f %s' %('i) Current (IN) is    =  ',IN,'  A ');\n",
      "print '%s %.2f %s' %('i) Resistance (RN) is    =  ',RN,'  ohm ');"
     ],
     "language": "python",
     "metadata": {},
     "outputs": [
      {
       "output_type": "stream",
       "stream": "stdout",
       "text": [
        "i) Voltage (VTH) is    =   4.80   V \n",
        "i) Resistance (RTH) is    =   2.21   ohm \n",
        "i) Current (IN) is    =   2.17   A \n",
        "i) Resistance (RN) is    =   2.21   ohm \n"
       ]
      }
     ],
     "prompt_number": 42
    },
    {
     "cell_type": "heading",
     "level": 2,
     "metadata": {},
     "source": [
      "Example E45 : Pg 334"
     ]
    },
    {
     "cell_type": "code",
     "collapsed": false,
     "input": [
      "        # EXAMPLE5-45  PG NO-334-335\n",
      "R1=10.;\n",
      "R2=5.;\n",
      "V=15.;\n",
      "Vb=9.;\n",
      "Va=(V*R2)/(R1+R2);\n",
      "Vba=Vb-Va;\n",
      "RTH=(R1*R2)/(R1+R2);\n",
      "VTH=Vba;\n",
      "Iba=VTH/(RTH+Vba);\n",
      "print '%s %.2f %s' %('i) Voltage (Va) is    =  ',Va,'  V ');\n",
      "print '%s %.2f %s' %('i) Voltage (Vba) is    =  ',Vba,'  V ');\n",
      "print '%s %.2f %s' %('i) Voltage (VTH) is    =  ',VTH,'  V ');\n",
      "print '%s %.2f %s' %('i) REsistance (RTH) is    =  ',RTH,'  ohms ');\n",
      "print '%s %.2f %s' %('i) Current (Iba) is    =  ',Iba,'  A ');"
     ],
     "language": "python",
     "metadata": {},
     "outputs": [
      {
       "output_type": "stream",
       "stream": "stdout",
       "text": [
        "i) Voltage (Va) is    =   5.00   V \n",
        "i) Voltage (Vba) is    =   4.00   V \n",
        "i) Voltage (VTH) is    =   4.00   V \n",
        "i) REsistance (RTH) is    =   3.33   ohms \n",
        "i) Current (Iba) is    =   0.55   A \n"
       ]
      }
     ],
     "prompt_number": 43
    },
    {
     "cell_type": "heading",
     "level": 2,
     "metadata": {},
     "source": [
      "Example E46 : Pg 335"
     ]
    },
    {
     "cell_type": "code",
     "collapsed": false,
     "input": [
      "       # EXAMPLE 5-46   PG NO-335\n",
      "R1=1.;\n",
      "R2=1.;\n",
      "R3=3.;\n",
      "RTH=R1+((R2*R3)/(R2+R3));\n",
      "RL=R3/(RTH+RTH);\n",
      "P=RL**2.*RTH;\n",
      "print '%s %.2f %s' %('i) Resistance (RTH) is    =  ',RTH,'  ohms ');\n",
      "print '%s %.2f %s' %('i) Resistance (RL) is    =  ',RL,'  A ');\n",
      "print '%s %.2f %s' %('i) Power (P) is    =  ',P,'  W ');"
     ],
     "language": "python",
     "metadata": {},
     "outputs": [
      {
       "output_type": "stream",
       "stream": "stdout",
       "text": [
        "i) Resistance (RTH) is    =   1.75   ohms \n",
        "i) Resistance (RL) is    =   0.86   A \n",
        "i) Power (P) is    =   1.29   W \n"
       ]
      }
     ],
     "prompt_number": 44
    },
    {
     "cell_type": "heading",
     "level": 2,
     "metadata": {},
     "source": [
      "Example E47 : Pg 336"
     ]
    },
    {
     "cell_type": "code",
     "collapsed": false,
     "input": [
      "         # EXAMPLE 5-47   PG NO-336\n",
      "V=5.;          # VOLTAGE\n",
      "R1=2.;\n",
      "R2=1.;\n",
      "VTH=R1+((V-R1)/3.);\n",
      "RTH=R2+((R1*R2)/(R1+R2));\n",
      "IN=((V*0.5)/(R1+0.5))+((R1/RTH)*(R1/VTH))\n",
      "print '%s %.2f %s' %('i) Voltage (VTH) is    =  ',VTH,'  V ');\n",
      "print '%s %.2f %s' %('i) Resistance (RTH) is    =  ',RTH,'  ohm ');\n",
      "print '%s %.2f %s' %('i) Current (IN) is    =  ',IN,'  A ');"
     ],
     "language": "python",
     "metadata": {},
     "outputs": [
      {
       "output_type": "stream",
       "stream": "stdout",
       "text": [
        "i) Voltage (VTH) is    =   3.00   V \n",
        "i) Resistance (RTH) is    =   1.67   ohm \n",
        "i) Current (IN) is    =   1.80   A \n"
       ]
      }
     ],
     "prompt_number": 45
    },
    {
     "cell_type": "heading",
     "level": 2,
     "metadata": {},
     "source": [
      "Example E48 : Pg 336"
     ]
    },
    {
     "cell_type": "code",
     "collapsed": false,
     "input": [
      "    # EXAMPLE 5-48        PG NO-336-337\n",
      "V=24.;\n",
      "R1=4.;\n",
      "R2=4.;\n",
      "Iab=V/(R1+R2);\n",
      "Idb=6.;\n",
      "Iba=(Idb/(R1+R2))*R1;\n",
      "Ibc=Iab+Iba;\n",
      "IDB=Ibc;\n",
      "print '%s %.2f %s' %('i) CURRENT (Iab) is    =  ',Iab,'  A ');\n",
      "print '%s %.2f %s' %('i) CURRENT (Iba) is    =  ',Iba,'  A ');\n",
      "print '%s %.2f %s' %('i) CURRENT (Ibc) is    =  ',Ibc,'  A ');\n",
      "print '%s %.2f %s' %('i) CURRENT (IDB) is    =  ',IDB,'  A ');"
     ],
     "language": "python",
     "metadata": {},
     "outputs": [
      {
       "output_type": "stream",
       "stream": "stdout",
       "text": [
        "i) CURRENT (Iab) is    =   3.00   A \n",
        "i) CURRENT (Iba) is    =   3.00   A \n",
        "i) CURRENT (Ibc) is    =   6.00   A \n",
        "i) CURRENT (IDB) is    =   6.00   A \n"
       ]
      }
     ],
     "prompt_number": 46
    },
    {
     "cell_type": "heading",
     "level": 2,
     "metadata": {},
     "source": [
      "Example E49 : Pg 337"
     ]
    },
    {
     "cell_type": "code",
     "collapsed": false,
     "input": [
      "                    # EXAMPE 5-49     PG NO-337-338\n",
      "V1=120.;\n",
      "V2=65.;\n",
      "R1=20.;\n",
      "R2=30.;\n",
      "VTH=V1-((V1-V2)/(R1+R2))*R1;\n",
      "RTH=(R1*R2)/(R1+R2);\n",
      "print '%s %.2f %s' %('i) Voltage (VTH) is    =  ',VTH,'  V ');\n",
      "print '%s %.2f %s' %('i) Resistance (RTH) is    =  ',RTH,'  ohms ');"
     ],
     "language": "python",
     "metadata": {},
     "outputs": [
      {
       "output_type": "stream",
       "stream": "stdout",
       "text": [
        "i) Voltage (VTH) is    =   98.00   V \n",
        "i) Resistance (RTH) is    =   12.00   ohms \n"
       ]
      }
     ],
     "prompt_number": 47
    },
    {
     "cell_type": "heading",
     "level": 2,
     "metadata": {},
     "source": [
      "Example E50 : Pg 338"
     ]
    },
    {
     "cell_type": "code",
     "collapsed": false,
     "input": [
      "                    # EXAMPE 5-49     PG NO-337-338\n",
      "V1=120.;\n",
      "V2=65.;\n",
      "R1=20.;\n",
      "R2=30.;\n",
      "VTH=V1-((V1-V2)/(R1+R2))*R1;\n",
      "RTH=(R1*R2)/(R1+R2);\n",
      "print '%s %.2f %s' %('i) Voltage (VTH) is    =  ',VTH,'  V ');\n",
      "print '%s %.2f %s' %('i) Resistance (RTH) is    =  ',RTH,'  ohms ');"
     ],
     "language": "python",
     "metadata": {},
     "outputs": [
      {
       "output_type": "stream",
       "stream": "stdout",
       "text": [
        "i) Voltage (VTH) is    =   98.00   V \n",
        "i) Resistance (RTH) is    =   12.00   ohms \n"
       ]
      }
     ],
     "prompt_number": 48
    },
    {
     "cell_type": "heading",
     "level": 2,
     "metadata": {},
     "source": [
      "Example E51 : Pg 338"
     ]
    },
    {
     "cell_type": "code",
     "collapsed": false,
     "input": [
      "                  # EXAMPLE 5-51    PG NO-338\n",
      "I=10.;           # CURRENT\n",
      "R1=1.;\n",
      "R2=1.;\n",
      "R3=1.;\n",
      "VTH=(I*R1)/(R1+R2+R3);\n",
      "RTH=(R1*(R1+R2))/(R1+R2+R3);\n",
      "P=(VTH/(RTH+RTH))**2*(RTH);\n",
      "print '%s %.2f %s' %('i) Voltage (VTH) is    =  ',VTH,'  V ');\n",
      "print '%s %.2f %s' %('i) Resistance (RTH) is    =  ',RTH,'  ohms ');    \n",
      "print '%s %.2f %s' %('i) Power (P) is    =  ',P,'  W ');"
     ],
     "language": "python",
     "metadata": {},
     "outputs": [
      {
       "output_type": "stream",
       "stream": "stdout",
       "text": [
        "i) Voltage (VTH) is    =   3.33   V \n",
        "i) Resistance (RTH) is    =   0.67   ohms \n",
        "i) Power (P) is    =   4.17   W \n"
       ]
      }
     ],
     "prompt_number": 49
    },
    {
     "cell_type": "heading",
     "level": 2,
     "metadata": {},
     "source": [
      "Example E52 : Pg 339"
     ]
    },
    {
     "cell_type": "code",
     "collapsed": false,
     "input": [
      "          # EXAMPLE  5-52   PG NO-339\n",
      "R1=2.;\n",
      "R2=4.;\n",
      "R3=2.;\n",
      "V=0.389;            # VOLTAGE\n",
      "I1=3.89;           # CURRENT\n",
      "TR=((R1*R2)/(R1+R2))+R2;     # TOTAL RESISTANCE\n",
      "I=V/TR;                 # CURRENT\n",
      "TI=I1+I;                 # TOTAL   CURRENT\n",
      "print '%s %.2f %s' %('i) Total resistance (TR) is    =  ',TR,'  ohms ');\n",
      "print '%s %.2f %s' %('i) Current (I) is    =  ',I,'  A ');\n",
      "print '%s %.2f %s' %('i) Total current (TI) is    =  ',TI,'  A ');"
     ],
     "language": "python",
     "metadata": {},
     "outputs": [
      {
       "output_type": "stream",
       "stream": "stdout",
       "text": [
        "i) Total resistance (TR) is    =   5.33   ohms \n",
        "i) Current (I) is    =   0.07   A \n",
        "i) Total current (TI) is    =   3.96   A \n"
       ]
      }
     ],
     "prompt_number": 50
    },
    {
     "cell_type": "heading",
     "level": 2,
     "metadata": {},
     "source": [
      "Example E53 : Pg 339"
     ]
    },
    {
     "cell_type": "code",
     "collapsed": false,
     "input": [
      "              # EXAMPLE 5-53   PG NO-339\n",
      "R1=16.;\n",
      "R2=8.;\n",
      "R3=12.;\n",
      "Rd=(R1*R2)/(R1+R2+R1);\n",
      "Rb=Rd;\n",
      "Rc=(R1*R1)/(R1+R1+R2);\n",
      "V=180.;\n",
      "VTH=(180./(R1+Rd+Rc))*Rc;\n",
      "RTH=R3+(((Rc*(R1+Rd)))/(R1+Rc+Rd))+Rd;\n",
      "print '%s %.2f %s' %('i) Resistance (Rd) is    =  ',Rd,'  ohms ');\n",
      "print '%s %.2f %s' %('i) Resistance (RC) is    =  ',Rc,'  ohms ');\n",
      "print '%s %.2f %s' %('i) Voltage (VTH) is    =  ',VTH,'  V ');\n",
      "print '%s %.2f %s' %('i) Resistance (RTH) is    =  ',RTH,'  ohms ');"
     ],
     "language": "python",
     "metadata": {},
     "outputs": [
      {
       "output_type": "stream",
       "stream": "stdout",
       "text": [
        "i) Resistance (Rd) is    =   3.20   ohms \n",
        "i) Resistance (RC) is    =   6.40   ohms \n",
        "i) Voltage (VTH) is    =   45.00   V \n",
        "i) Resistance (RTH) is    =   20.00   ohms \n"
       ]
      }
     ],
     "prompt_number": 51
    },
    {
     "cell_type": "heading",
     "level": 2,
     "metadata": {},
     "source": [
      "Example E54 : Pg 340"
     ]
    },
    {
     "cell_type": "code",
     "collapsed": false,
     "input": [
      "                       # EXAMPLE 5-54   PG NO-340\n",
      "V1=48.;                                # VOLTAGE\n",
      "V2=16.;                                # VOLTAGE\n",
      "R1=12.;\n",
      "R2=4.;\n",
      "R3=4.;\n",
      "I=(V1-V2)/(R1+R2+R3);\n",
      "print '%s %.2f %s' %('i) Current (I) is    =  ',I,'  A ');"
     ],
     "language": "python",
     "metadata": {},
     "outputs": [
      {
       "output_type": "stream",
       "stream": "stdout",
       "text": [
        "i) Current (I) is    =   1.60   A \n"
       ]
      }
     ],
     "prompt_number": 52
    },
    {
     "cell_type": "heading",
     "level": 2,
     "metadata": {},
     "source": [
      "Example E55 : Pg 340"
     ]
    },
    {
     "cell_type": "code",
     "collapsed": false,
     "input": [
      "                           # EXAMPLE 5-55    PG NO-340-341\n",
      "I1=1.2;                       # Current\n",
      "I2=0.3;                      # Current\n",
      "I=I1+I2;\n",
      "print '%s %.2f %s' %(' Current is   = ',I,'A');"
     ],
     "language": "python",
     "metadata": {},
     "outputs": [
      {
       "output_type": "stream",
       "stream": "stdout",
       "text": [
        " Current is   =  1.50 A\n"
       ]
      }
     ],
     "prompt_number": 53
    },
    {
     "cell_type": "heading",
     "level": 2,
     "metadata": {},
     "source": [
      "Example E56 : Pg 341"
     ]
    },
    {
     "cell_type": "code",
     "collapsed": false,
     "input": [
      "                   # EXAMPLE 5-56         PG NO-341\n",
      "VTH=15.;                         # THEVENINS VOLTAGE\n",
      "R1=4.;\n",
      "R2=6.;\n",
      "I4=VTH/(R1+R2);                    # CURRENT  THROUGH   4 ohms   Resistance\n",
      "print '%s %.2f %s' %('i) CURRENT (I4) is    =  ',I4,'  A ');"
     ],
     "language": "python",
     "metadata": {},
     "outputs": [
      {
       "output_type": "stream",
       "stream": "stdout",
       "text": [
        "i) CURRENT (I4) is    =   1.50   A \n"
       ]
      }
     ],
     "prompt_number": 54
    },
    {
     "cell_type": "heading",
     "level": 2,
     "metadata": {},
     "source": [
      "Example E57 : Pg 341"
     ]
    },
    {
     "cell_type": "code",
     "collapsed": false,
     "input": [
      "                   # EXAMPLE 5-57      PG NO-341-342\n",
      "R1=22.;\n",
      "R2=33.;\n",
      "R3=10.;\n",
      "R4=15.;\n",
      "V=24.;\n",
      "TR=((R1+R2)*(R3+R4))/(R1+R2+R3+R4);\n",
      "I=V/TR;\n",
      "print '%s %.2f %s' %('i) Total Resistance (TR) is    =  ',TR,'  Kohms ');\n",
      "print '%s %.2f %s' %('ii) CURRENT (I) is    =  ',I,'  A ');"
     ],
     "language": "python",
     "metadata": {},
     "outputs": [
      {
       "output_type": "stream",
       "stream": "stdout",
       "text": [
        "i) Total Resistance (TR) is    =   17.19   Kohms \n",
        "ii) CURRENT (I) is    =   1.40   A \n"
       ]
      }
     ],
     "prompt_number": 55
    },
    {
     "cell_type": "heading",
     "level": 2,
     "metadata": {},
     "source": [
      "Example E58 : Pg 342"
     ]
    },
    {
     "cell_type": "code",
     "collapsed": false,
     "input": [
      "                   # EXAMPLE 5-58      PG NO-342-343\n",
      "R1=44.;\n",
      "R2=33.;\n",
      "R3=10.;\n",
      "R4=15.;\n",
      "V=24.;\n",
      "TR=((R1+R2)*(R3+R4))/(R1+R2+R3+R4);\n",
      "I=V/TR;\n",
      "print '%s %.2f %s' %('i) Total Resistance (TR) is    =  ',TR,'  Kohms ');\n",
      "print '%s %.2f %s' %('ii) CURRENT (I) is    =  ',I,'  A ');"
     ],
     "language": "python",
     "metadata": {},
     "outputs": [
      {
       "output_type": "stream",
       "stream": "stdout",
       "text": [
        "i) Total Resistance (TR) is    =   18.87   Kohms \n",
        "ii) CURRENT (I) is    =   1.27   A \n"
       ]
      }
     ],
     "prompt_number": 56
    },
    {
     "cell_type": "heading",
     "level": 2,
     "metadata": {},
     "source": [
      "Example E60 : Pg 343"
     ]
    },
    {
     "cell_type": "code",
     "collapsed": false,
     "input": [
      "                   # EXAMPLE 5-60  PG NO-343\n",
      "V=60.;                # VOLTAGE\n",
      "R1=3.;\n",
      "R2=4.;\n",
      "R3=1.5;\n",
      "R4=2.5;\n",
      "IAB=12.;\n",
      "IBC=6.;\n",
      "ICD=6.;\n",
      "IBD=6.;\n",
      "VAB=36.;\n",
      "VBC=9.;\n",
      "VCD=15.;\n",
      "VBD=24.;\n",
      "VkIk=VAB*IAB+VBC*IBC+VCD*ICD+VBD*IBD-V*IAB\n",
      "print '%s %f' %('ii) SUBMISSION OF VkIk (VkIk) is    =  ',VkIk);"
     ],
     "language": "python",
     "metadata": {},
     "outputs": [
      {
       "output_type": "stream",
       "stream": "stdout",
       "text": [
        "ii) SUBMISSION OF VkIk (VkIk) is    =   0.000000\n"
       ]
      }
     ],
     "prompt_number": 57
    },
    {
     "cell_type": "heading",
     "level": 2,
     "metadata": {},
     "source": [
      "Example E62 : Pg 344"
     ]
    },
    {
     "cell_type": "code",
     "collapsed": false,
     "input": [
      "                  # EXAMPLE 5-62         PG NO-344-345\n",
      "Z1=16.+1j*0;\n",
      "Z2=2.+1j*1;\n",
      "Z3=3.-1j*1;\n",
      "R=4.;\n",
      "I=Z1/(Z2+((R*Z3)/(R+Z3)));\n",
      "print' Current is   = ',I,'A'\n",
      "IN=(I*Z3)/(R+Z3);\n",
      "print ' Current is   = ',IN,'A'\n",
      "ZN=((Z3*Z2)/5)+R;\n",
      "print ' Impedance is   = ',ZN,'A'"
     ],
     "language": "python",
     "metadata": {},
     "outputs": [
      {
       "output_type": "stream",
       "stream": "stdout",
       "text": [
        " Current is   =  (4.12054794521-0.745205479452j) A\n",
        " Current is   =  (1.75342465753-0.657534246575j) A\n",
        " Impedance is   =  (5.4+0.2j) A\n"
       ]
      }
     ],
     "prompt_number": 58
    },
    {
     "cell_type": "heading",
     "level": 2,
     "metadata": {},
     "source": [
      "Example E63 : Pg 345"
     ]
    },
    {
     "cell_type": "code",
     "collapsed": false,
     "input": [
      "                    # EXAMPLE 5-63  PG NO-345\n",
      "IN=1.638-1j*0.614;\n",
      "Z1=15.+1j*0;\n",
      "Z2=3.-1j*1.;\n",
      "Z3=2.+1j*1.;\n",
      "VTH=(Z1*Z2)/(Z3+Z2);\n",
      "ZN=5.4+1j*0.21;\n",
      "VTH1=IN*ZN\n",
      "print'i) Voltage (VTH) is    =  ',VTH,'  V '\n",
      "print'ii) Voltage (VTH) is    =  ',VTH,'  V '"
     ],
     "language": "python",
     "metadata": {},
     "outputs": [
      {
       "output_type": "stream",
       "stream": "stdout",
       "text": [
        "i) Voltage (VTH) is    =   (9-3j)   V \n",
        "ii) Voltage (VTH) is    =   (9-3j)   V \n"
       ]
      }
     ],
     "prompt_number": 59
    },
    {
     "cell_type": "heading",
     "level": 2,
     "metadata": {},
     "source": [
      "Example E64 : Pg 345"
     ]
    },
    {
     "cell_type": "code",
     "collapsed": false,
     "input": [
      "             # EXAMPLE 5-64   PG  NO-345-346\n",
      "import math \n",
      "Z1=4.+1j*6.;\n",
      "R1=1.;\n",
      "V=100.;\n",
      "ZTH=(Z1*R1)/(Z1+R1);\n",
      "Pmax=(100./(ZTH+ZTH))**2.*(0.93*math.cos(-6.11))\n",
      "print'i) IMPEDANCE (ZTH) is    =  ',ZTH,'  ohms '\n",
      "print'ii) POWER (Pmax) is    =  ',Pmax,'  W '"
     ],
     "language": "python",
     "metadata": {},
     "outputs": [
      {
       "output_type": "stream",
       "stream": "stdout",
       "text": [
        "i) IMPEDANCE (ZTH) is    =   (0.918032786885+0.0983606557377j)   ohms \n",
        "ii) POWER (Pmax) is    =   (2625.6220678-569.167106311j)   W \n"
       ]
      }
     ],
     "prompt_number": 60
    },
    {
     "cell_type": "heading",
     "level": 2,
     "metadata": {},
     "source": [
      "Example E65 : Pg 346"
     ]
    },
    {
     "cell_type": "code",
     "collapsed": false,
     "input": [
      "          # EXAMPLE 5-65       PG NO-346\n",
      "V1=5.;\n",
      "G1=1.;\n",
      "V2=5.;\n",
      "G2=(1./2.);\n",
      "V3=10.;\n",
      "G3=(1./4.);\n",
      "EV=(V1*G1+V2*G2+V3*G3)/(G1+G2+G3);               # EQUIVALENT VOLTAGE\n",
      "ER=1./(G1+G2+G3);\n",
      "I=(EV*ER)/(EV+ER);\n",
      "print'i) Euivalent Resistance (EV) is    =  ',EV,'  V '\n",
      "print'ii) Equivalent  Resistance (ER) is    =  ',ER,'  ohms '\n",
      "print'ii) CURRENT (I) is    =  ',I,'  A '"
     ],
     "language": "python",
     "metadata": {},
     "outputs": [
      {
       "output_type": "stream",
       "stream": "stdout",
       "text": [
        "i) Euivalent Resistance (EV) is    =   5.71428571429   V \n",
        "ii) Equivalent  Resistance (ER) is    =   0.571428571429   ohms \n",
        "ii) CURRENT (I) is    =   0.519480519481   A \n"
       ]
      }
     ],
     "prompt_number": 61
    },
    {
     "cell_type": "heading",
     "level": 2,
     "metadata": {},
     "source": [
      "Example E66 : Pg 346"
     ]
    },
    {
     "cell_type": "code",
     "collapsed": false,
     "input": [
      "Z1=12.99+1j*7.5;\n",
      "Z2=4.-1j*3.;\n",
      "Z3=6.+1j*8.;\n",
      "I1=Z1/Z2;\n",
      "Z=Z3-Z2\n",
      "I=(I1*Z)/Z3;\n",
      "print'ii) CURRENT (I1) is  in polar form  =  ',I1,'  A '\n",
      "print'i) IMPEDANCE (Z) is  in polar form  =  ',Z,'  V '\n",
      "print'ii) CURRENT (I) is  in polar form  =  ',I,'  A '"
     ],
     "language": "python",
     "metadata": {},
     "outputs": [
      {
       "output_type": "stream",
       "stream": "stdout",
       "text": [
        "ii) CURRENT (I1) is  in polar form  =   (1.1784+2.7588j)   A \n",
        "i) IMPEDANCE (Z) is  in polar form  =   (2+11j)   V \n",
        "ii) CURRENT (I) is  in polar form  =   (-0.201+3.348j)   A \n"
       ]
      }
     ],
     "prompt_number": 62
    },
    {
     "cell_type": "heading",
     "level": 2,
     "metadata": {},
     "source": [
      "Example E67 : Pg 347"
     ]
    },
    {
     "cell_type": "code",
     "collapsed": false,
     "input": [
      "             # EXAMPLE 5-67 PG NO-347-348\n",
      "V=10.;           # VOLTAGE\n",
      "R1=3.;  \n",
      "R2=4.91;        # RESISTANCE\n",
      "I1=V/R1;       # CURRENT\n",
      "Isc1=1.11;\n",
      "I2=V/R2;\n",
      "Isc2=1.11;\n",
      "print'ii) CURRENT (I1) is    =  ',I1,'  A '\n",
      "print'ii) CURRENT (I2) is    =  ',I2,'  A '"
     ],
     "language": "python",
     "metadata": {},
     "outputs": [
      {
       "output_type": "stream",
       "stream": "stdout",
       "text": [
        "ii) CURRENT (I1) is    =   3.33333333333   A \n",
        "ii) CURRENT (I2) is    =   2.0366598778   A \n"
       ]
      }
     ],
     "prompt_number": 63
    },
    {
     "cell_type": "heading",
     "level": 2,
     "metadata": {},
     "source": [
      "Example E68 : Pg 348"
     ]
    },
    {
     "cell_type": "code",
     "collapsed": false,
     "input": [
      "                    # EXAMPLE 5-68         PG NO-348\n",
      "V1=3.;\n",
      "V2=0.75;\n",
      "R1=1.;\n",
      "R2=0.75;\n",
      "V=V1+V2;\n",
      "R=R1+R2;\n",
      "print '%s %.2f %s' %('ii) Voltage (V) is    =  ',V,'  V ');\n",
      "print '%s %.2f %s' %('ii)Resistance (R) is    =  ',R,'  ohms ');"
     ],
     "language": "python",
     "metadata": {},
     "outputs": [
      {
       "output_type": "stream",
       "stream": "stdout",
       "text": [
        "ii) Voltage (V) is    =   3.75   V \n",
        "ii)Resistance (R) is    =   1.75   ohms \n"
       ]
      }
     ],
     "prompt_number": 64
    },
    {
     "cell_type": "heading",
     "level": 2,
     "metadata": {},
     "source": [
      "Example E69 : Pg 349"
     ]
    },
    {
     "cell_type": "code",
     "collapsed": false,
     "input": [
      "                 # EXAMPLE 5-69    PG NO-349\n",
      "V=24.;                         # VOLTAGE\n",
      "R1=0.1;\n",
      "R2=6.;\n",
      "R3=5.;\n",
      "I=V/(R1+(R3*R2)/(R3+R2));\n",
      "I1=I*(R3/(R2+R3));\n",
      "I2=I*(R2/(R2+R3));\n",
      "VTH=-(I1*2.)-(-2.*I2);\n",
      "RTH=2.533;\n",
      "IAB=VTH/(RTH+1.);\n",
      "print '%s %.2f %s' %('ii) CURRENT (I) is    =  ',I,'  A ');\n",
      "print '%s %.2f %s' %('ii) CURRENT (I1) is    =  ',I1,'  A ');\n",
      "print '%s %.2f %s' %('ii) CURRENT (I2) is    =  ',I2,'  A ');\n",
      "print '%s %.2f %s' %('ii) Voltage (VTH) is    =  ',VTH,'  V ');\n",
      "print '%s %.2f %s' %('ii) CURRENT (IAB) is    =  ',IAB,'  A ');"
     ],
     "language": "python",
     "metadata": {},
     "outputs": [
      {
       "output_type": "stream",
       "stream": "stdout",
       "text": [
        "ii) CURRENT (I) is    =   8.49   A \n",
        "ii) CURRENT (I1) is    =   3.86   A \n",
        "ii) CURRENT (I2) is    =   4.63   A \n",
        "ii) Voltage (VTH) is    =   1.54   V \n",
        "ii) CURRENT (IAB) is    =   0.44   A \n"
       ]
      }
     ],
     "prompt_number": 65
    },
    {
     "cell_type": "heading",
     "level": 2,
     "metadata": {},
     "source": [
      "Example E70 : Pg 350"
     ]
    },
    {
     "cell_type": "code",
     "collapsed": false,
     "input": [
      "             # EXAMPLE 5-70      PG NO-350\n",
      "R1=2.;\n",
      "R2=3.;\n",
      "R3=6.;\n",
      "I4=R2*(R1/R3);                # CURRENT THROUGH   4 OHMS RESISTANCE\n",
      "TI=I4+I4;                     # TOTAL CURRENT\n",
      "print '%s %.2f %s' %('ii) CURRENT (I4) is    =  ',I4,'  A ');\n",
      "print '%s %.2f %s' %('ii) CURRENT (TI) is    =  ',TI,'  A ');"
     ],
     "language": "python",
     "metadata": {},
     "outputs": [
      {
       "output_type": "stream",
       "stream": "stdout",
       "text": [
        "ii) CURRENT (I4) is    =   1.00   A \n",
        "ii) CURRENT (TI) is    =   2.00   A \n"
       ]
      }
     ],
     "prompt_number": 66
    },
    {
     "cell_type": "heading",
     "level": 2,
     "metadata": {},
     "source": [
      "Example E71 : Pg 350"
     ]
    },
    {
     "cell_type": "code",
     "collapsed": false,
     "input": [
      "               # EXAMPLE 5-71    PG NO=350-351\n",
      "R1=5.;\n",
      "R2=4.;\n",
      "R3=10.;\n",
      "R=R1*R2/(R1+R2);\n",
      "I=(R*R3)/(R+R3);\n",
      "print '%s %.2f %s' %('ii) Resitance (R) is    =  ',R,'  ohms ');\n",
      "print '%s %.2f %s' %('ii) CURRENT (I) is    =  ',I,'  A ');"
     ],
     "language": "python",
     "metadata": {},
     "outputs": [
      {
       "output_type": "stream",
       "stream": "stdout",
       "text": [
        "ii) Resitance (R) is    =   2.22   ohms \n",
        "ii) CURRENT (I) is    =   1.82   A \n"
       ]
      }
     ],
     "prompt_number": 67
    },
    {
     "cell_type": "heading",
     "level": 2,
     "metadata": {},
     "source": [
      "Example E73 : Pg 351"
     ]
    },
    {
     "cell_type": "code",
     "collapsed": false,
     "input": [
      "X=('4 2 ;2  4');\n",
      "B1=20.;\n",
      "B2=10.;\n",
      "X1=B1\n",
      "X2=B2\n",
      "print ' Current is   = ',X1,'A'\n",
      "print ' Current is   = ',X2,'A'"
     ],
     "language": "python",
     "metadata": {},
     "outputs": [
      {
       "output_type": "stream",
       "stream": "stdout",
       "text": [
        " Current is   =  20.0 A\n",
        " Current is   =  10.0 A\n"
       ]
      }
     ],
     "prompt_number": 68
    },
    {
     "cell_type": "heading",
     "level": 2,
     "metadata": {},
     "source": [
      "Example E74 : Pg 353"
     ]
    },
    {
     "cell_type": "code",
     "collapsed": false,
     "input": [
      "R1=15.;\n",
      "V=20.;               # RESISTANCE\n",
      "I1=V/R1;\n",
      "I2=I1*(1./2.);\n",
      "R2=15.;\n",
      "I1=V/R2;\n",
      "I2=I1*(1./2.);\n",
      "print '%s %.2f %s' %('ii) CURRENT (I1) is    =  ',I1,'  A ');\n",
      "print '%s %.2f %s' %('ii) CURRENT (I2) is    =  ',I2,'  A ');\n",
      "print '%s %.2f %s' %('ii) CURRENT (I1) is    =  ',I1,'  A ');\n",
      "print '%s %.2f %s' %('ii) CURRENT (I2) is    =  ',I2,'  A ');"
     ],
     "language": "python",
     "metadata": {},
     "outputs": [
      {
       "output_type": "stream",
       "stream": "stdout",
       "text": [
        "ii) CURRENT (I1) is    =   1.33   A \n",
        "ii) CURRENT (I2) is    =   0.67   A \n",
        "ii) CURRENT (I1) is    =   1.33   A \n",
        "ii) CURRENT (I2) is    =   0.67   A \n"
       ]
      }
     ],
     "prompt_number": 69
    }
   ],
   "metadata": {}
  }
 ]
}