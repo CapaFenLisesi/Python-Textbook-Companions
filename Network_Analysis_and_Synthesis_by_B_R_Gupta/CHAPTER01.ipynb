{
 "metadata": {
  "name": "",
  "signature": "sha256:9246b5e44d0fb964b8837c20d80c5b16228283687f98fb2c5c9f9c7892939efd"
 },
 "nbformat": 3,
 "nbformat_minor": 0,
 "worksheets": [
  {
   "cells": [
    {
     "cell_type": "heading",
     "level": 1,
     "metadata": {},
     "source": [
      "CHAPTER01:INTRODUCTION TO ELECTRONIC CIRCUITS"
     ]
    },
    {
     "cell_type": "heading",
     "level": 2,
     "metadata": {},
     "source": [
      "Example E01 : Pg 17"
     ]
    },
    {
     "cell_type": "code",
     "collapsed": false,
     "input": [
      "  # CHAPTER1  EX 1-1   PG NO 17          \n",
      "L=5.*10.**-3.;   # length\n",
      "B=2.*10.**-2.;  # breath\n",
      "A=(5.*10.**-3.)*(2.*10.**-2.);   # area\n",
      "P=1.72*10.**-5. ;  # resistivity of copper\n",
      "R=P*L/A;   # resistance of copper\n",
      "print'i) resistance = ',round (R,5),'ohm'\n",
      "R=P*L/A;              # resistance in ohm"
     ],
     "language": "python",
     "metadata": {},
     "outputs": [
      {
       "output_type": "stream",
       "stream": "stdout",
       "text": [
        "i) resistance =  0.00086 ohm\n"
       ]
      }
     ],
     "prompt_number": 1
    },
    {
     "cell_type": "heading",
     "level": 2,
     "metadata": {},
     "source": [
      "Example E02 : Pg 18"
     ]
    },
    {
     "cell_type": "code",
     "collapsed": false,
     "input": [
      "                      # EXAMPLE 1-2   PG NO 18\n",
      "from math import pi\n",
      "R=0.69;               # RESISTANCE\n",
      "P=2.83*10**-8;              # PRO\n",
      "L=60.;             # LENGTH OF CABLE\n",
      "a=(P*L)/R;\n",
      "print'i) a = ',round (a,6),'m**2'\n",
      "D=((4.*a)/pi)**0.5;               # DIAMETER\n",
      "print'i) DIAMETER = ',round (D,5),'mm'"
     ],
     "language": "python",
     "metadata": {},
     "outputs": [
      {
       "output_type": "stream",
       "stream": "stdout",
       "text": [
        "i) a =  2e-06 m**2\n",
        "i) DIAMETER =  0.00177 mm\n"
       ]
      }
     ],
     "prompt_number": 2
    },
    {
     "cell_type": "heading",
     "level": 2,
     "metadata": {},
     "source": [
      "Example E03 : Pg 18"
     ]
    },
    {
     "cell_type": "code",
     "collapsed": false,
     "input": [
      "# EXAMPLE 1-3   PG NO-18\n",
      "A20=0.00393;  # ALPHA 20\n",
      "R30=1.3;  # RESITANCE 30\n",
      "A30=A20/(1.+A20*(30.-20.));  # ALPHA 30\n",
      "print'i)Alpha30 (A30)                  = ',round (A30,7)\n",
      "T=(((1.6/1.3)-1.)/0.00378);   #  THE RISE IN TEMPERATURE TO BE FIND    where T=t-30\n",
      "print'ii)Resistance Temperature (t-30) = ',round (T,2),'degree celcious'"
     ],
     "language": "python",
     "metadata": {},
     "outputs": [
      {
       "output_type": "stream",
       "stream": "stdout",
       "text": [
        "i)Alpha30 (A30)                  =  0.0037814\n",
        "ii)Resistance Temperature (t-30) =  61.05 degree celcious\n"
       ]
      }
     ],
     "prompt_number": 3
    },
    {
     "cell_type": "heading",
     "level": 2,
     "metadata": {},
     "source": [
      "Example E04 : Pg 18"
     ]
    },
    {
     "cell_type": "code",
     "collapsed": false,
     "input": [
      "                                   # EXAMPLE 1-4       PG NO 18-19\n",
      "R1=2.22;                       # RESISTANCE\n",
      "R2=0.6;                        # RESISTANCE\n",
      "R3=3.;                          # Resistance\n",
      "R4=4.;\n",
      "R5=5.;\n",
      "R6=6.;\n",
      "R7=2.;\n",
      "R=R1+R2+R3;\n",
      "print'i) Resistance (R) is    =  ',round(R,2),'ohm'\n",
      "V=12.;                              # VOLTAGE\n",
      "I=V/R;                              # Current\n",
      "print'ii) CURRENT (I) is      =  ',round(I,2),'A'\n",
      "I3=I;                                                 # CURRENT THROUGH 3 ohm RESISTANCE\n",
      "print'iii) CURRENT (I3) is    =  ',round(I3,2),'A'\n",
      "I5=(I3*R4)/(R4+R5);                                      # CURRENT THROUGH 5 ohm RESISTANCE\n",
      "print'iv) CURRENT (I5)  is    =  ',round(I5,2),'A'\n",
      "I4=(I3*R5)/(R4+R5);                                  # CURRENT THROUGH 4 ohm RESISTANCE\n",
      "print'v) CURRENT (I4)  is     =  ',round(I4,2),'A'\n",
      "V1=1.236;                                    # VOLTAGE ACROSS THREE PARALLEL RESISTANCE \n",
      "I2=V1/R7;                                         # current\n",
      "print'vi) CURRENT (I2)  is    =  ',round(I2,2),'A'\n",
      "I1=V1;                                               # CURRENT THROUGH 1 ohm RESISTANCE\n",
      "print'iv) CURRENT (I1)  is    =  ',round(I1,2),'A'\n",
      "I6=V1/R6;                                            # CURRENT THROUGH 6 ohm RESISTANCE\n",
      "print'vii) CURRENT (I6)  is   =  ',round(I6,2),'A'"
     ],
     "language": "python",
     "metadata": {},
     "outputs": [
      {
       "output_type": "stream",
       "stream": "stdout",
       "text": [
        "i) Resistance (R) is    =   5.82 ohm\n",
        "ii) CURRENT (I) is      =   2.06 A\n",
        "iii) CURRENT (I3) is    =   2.06 A\n",
        "iv) CURRENT (I5)  is    =   0.92 A\n",
        "v) CURRENT (I4)  is     =   1.15 A\n",
        "vi) CURRENT (I2)  is    =   0.62 A\n",
        "iv) CURRENT (I1)  is    =   1.24 A\n",
        "vii) CURRENT (I6)  is   =   0.21 A\n"
       ]
      }
     ],
     "prompt_number": 4
    },
    {
     "cell_type": "heading",
     "level": 2,
     "metadata": {},
     "source": [
      "Example E05 : Pg 19"
     ]
    },
    {
     "cell_type": "code",
     "collapsed": false,
     "input": [
      "                    # EXAMPLE 1-5  PG NO-19\n",
      "V1=230.;  # VOLTAGE  ONE\n",
      "P1=1000.;   # POWER\n",
      "R=V1*V1/P1;   # RESISTANCE OF HEATER\n",
      "V2=210.;  # VOLTAGE  TWO\n",
      "P2=V2*V2/R;      # POWER OF HEATER WHEN VOLTAGE IS 210\n",
      "R=(V1*V1)/P1                # Resistance\n",
      "print'i)RESISTANCE = ',round(R,2),'ohm'\n",
      "P2=(V2*V2)/R;# Power\n",
      "print'ii)POWER = ',round(P2,2),'ohm'"
     ],
     "language": "python",
     "metadata": {},
     "outputs": [
      {
       "output_type": "stream",
       "stream": "stdout",
       "text": [
        "i)RESISTANCE =  52.9 ohm\n",
        "ii)POWER =  833.65 ohm\n"
       ]
      }
     ],
     "prompt_number": 5
    },
    {
     "cell_type": "heading",
     "level": 2,
     "metadata": {},
     "source": [
      "Example E06 : Pg 19"
     ]
    },
    {
     "cell_type": "code",
     "collapsed": false,
     "input": [
      "      # EXAMPLE 1-6   PG NO-19-20\n",
      "I=12.;  # CURRENT\n",
      "V=230.;  # VOLTAGE\n",
      "P=1000.;  # POWER\n",
      "T=3.;  # TIME\n",
      "S=3600.;\n",
      "E=(I*V/P)*T;  # ENERGY USED\n",
      "Q=I*T*S;  # QUANTITY OF ELECTRICITY USED\n",
      "IC=6.24*10.**18.; \n",
      "NC=IC*Q;  # NUMBER OF ELECTRON\n",
      "R=I*V;  # RATE OF ENERGY\n",
      "print'i) ENERGY               = ',round(E,2),' KWh'\n",
      "print'ii) QUANTITY            = ',round(Q,2),' C'\n",
      "print'iiI) NUMBER OF ELECTRON = ',round(NC,2)\n",
      "print'iiII) RATE OF ENERGY    = ',round(R,2),' W'"
     ],
     "language": "python",
     "metadata": {},
     "outputs": [
      {
       "output_type": "stream",
       "stream": "stdout",
       "text": [
        "i) ENERGY               =  8.28  KWh\n",
        "ii) QUANTITY            =  129600.0  C\n",
        "iiI) NUMBER OF ELECTRON =  8.08704e+23\n",
        "iiII) RATE OF ENERGY    =  2760.0  W\n"
       ]
      }
     ],
     "prompt_number": 6
    },
    {
     "cell_type": "heading",
     "level": 3,
     "metadata": {},
     "source": [
      "Example E07 : Pg 20"
     ]
    },
    {
     "cell_type": "code",
     "collapsed": false,
     "input": [
      "                     # Example 1_7  PG NO-20\n",
      "I1=3.;        # current\n",
      "I2=1.;        # current\n",
      "R=4.;        # Resistor\n",
      "I=I1-I2;   # current through resistance\n",
      "print'i)Current Through resistance (I)        = ',round(I,2),' A'\n",
      "P=I*I*R;\n",
      "print'ii)Power dissipated in resistor (P)     = ',(P,2),' W'\n",
      "V=I*R;\n",
      "print'iii)voltage (V)                         = ',round(V,2),' V'\n",
      "P1=V*I1;         # power dissipated with 3A source\n",
      "print'iv)power dissipated with 3A source (P1) = ',round(P1,2),' W'"
     ],
     "language": "python",
     "metadata": {},
     "outputs": [
      {
       "output_type": "stream",
       "stream": "stdout",
       "text": [
        "i)Current Through resistance (I)        =  2.0  A\n",
        "ii)Power dissipated in resistor (P)     =  (16.0, 2)  W\n",
        "iii)voltage (V)                         =  8.0  V\n",
        "iv)power dissipated with 3A source (P1) =  24.0  W\n"
       ]
      }
     ],
     "prompt_number": 7
    },
    {
     "cell_type": "heading",
     "level": 2,
     "metadata": {},
     "source": [
      "Example E11 : Pg 21"
     ]
    },
    {
     "cell_type": "code",
     "collapsed": false,
     "input": [
      "                          # EXAMPLE 1-11             PG NO-21\n",
      "R55=58.;                    # resistance\n",
      "R15=50.;                    # Resistance\n",
      "T1=55.;                  # Temperature \n",
      "T2=15.;                    # Temperature\n",
      "A15=((R55/R15)-1.)/(T1-T2);           # alpha 15\n",
      "print'i) ALPHA (A15)   =  ',round (A15,5)\n",
      "T3=0;\n",
      "A2=A15/(1.+A15*(T3-T2));               # Alpha 2\n",
      "print'ii)  ALPHA (A2)   =  ',round (A2,5)"
     ],
     "language": "python",
     "metadata": {},
     "outputs": [
      {
       "output_type": "stream",
       "stream": "stdout",
       "text": [
        "i) ALPHA (A15)   =   0.004\n",
        "ii)  ALPHA (A2)   =   0.00426\n"
       ]
      }
     ],
     "prompt_number": 8
    },
    {
     "cell_type": "heading",
     "level": 2,
     "metadata": {},
     "source": [
      "Example E13 : Pg 21"
     ]
    },
    {
     "cell_type": "code",
     "collapsed": false,
     "input": [
      "                 # EXAMPLE 1-13  PG NO 21-22\n",
      "R=10.;  # RESISTANCE\n",
      "V=230.; # VOLTAGE\n",
      "P=(V*V)/R;                      # POWER\n",
      "print'i) POWER = ',round (P,2),'W'"
     ],
     "language": "python",
     "metadata": {},
     "outputs": [
      {
       "output_type": "stream",
       "stream": "stdout",
       "text": [
        "i) POWER =  5290.0 W\n"
       ]
      }
     ],
     "prompt_number": 9
    },
    {
     "cell_type": "heading",
     "level": 2,
     "metadata": {},
     "source": [
      "Example E14 : Pg 22"
     ]
    },
    {
     "cell_type": "code",
     "collapsed": false,
     "input": [
      "# EXAMPLE 1-14         PG NO-22\n",
      "R1=4.;                      # Resistance\n",
      "R2=2.;                      # Resistance\n",
      "R3=8.;                          # Resistance\n",
      "RS=R1+R2;                                         # resistance  When Point A&B is short circuit\n",
      "print'i)resistance  When Point A&B is short circuit  = ',round (RS,2),'ohm'\n",
      "RO=R1+R2+R3;                                       # resistance  When Point A&B is   open circuit\n",
      "print'i)resistance  When Point A&B is open circuit   = ',round (RO,2),'ohm'"
     ],
     "language": "python",
     "metadata": {},
     "outputs": [
      {
       "output_type": "stream",
       "stream": "stdout",
       "text": [
        "i)resistance  When Point A&B is short circuit  =  6.0 ohm\n",
        "i)resistance  When Point A&B is open circuit   =  14.0 ohm\n"
       ]
      }
     ],
     "prompt_number": 10
    },
    {
     "cell_type": "heading",
     "level": 2,
     "metadata": {},
     "source": [
      "Example E15 : Pg 22"
     ]
    },
    {
     "cell_type": "code",
     "collapsed": false,
     "input": [
      "                           # EXAMPLE 1-15          PG NO-22\n",
      "I1=0.04;               # CURRENT\n",
      "I2=0.01;                  # CURRENT\n",
      "V1=200;                   # VOLTAGE\n",
      "R=V1/I1;                  # Resistance\n",
      "print'i)resistance (R)   = ',round (R,2),'ohm'\n",
      "V2=10.;                      # VOLTAGE\n",
      "I3=50.;                       # CURRENT\n",
      "A=0.1;                # AMMETER RESISTANCE\n",
      "R1=(V2/I3)-0.1;\n",
      "print'i)Resistance (R1)  = ',round (R1,2),'ohm'\n",
      "V3=5000.;\n",
      "V4=250.;\n",
      "I=I3/V3;\n",
      "print'i)Current (I)      = ',round (I,2),'A'\n",
      "R2=(V4-I3)/I;\n",
      "print'i)resistance (R2)  = ',round (R2,2),'ohm'"
     ],
     "language": "python",
     "metadata": {},
     "outputs": [
      {
       "output_type": "stream",
       "stream": "stdout",
       "text": [
        "i)resistance (R)   =  5000.0 ohm\n",
        "i)Resistance (R1)  =  0.1 ohm\n",
        "i)Current (I)      =  0.01 A\n",
        "i)resistance (R2)  =  20000.0 ohm\n"
       ]
      }
     ],
     "prompt_number": 11
    },
    {
     "cell_type": "heading",
     "level": 2,
     "metadata": {},
     "source": [
      "Example E16 : Pg 23"
     ]
    },
    {
     "cell_type": "code",
     "collapsed": false,
     "input": [
      "                             # EXAMPLE 1-16            PG NO-23\n",
      "V=1.;                    # ASSUMING\n",
      "t=1.;                                 # ASSUMING\n",
      "R1=30.;                       # RESISTANCE\n",
      "R2=20.;\n",
      "R3=10.;\n",
      "E30=(V/R1)*t;                            # ENERGY AT 30 ohm RESISTANCE\n",
      "print'i)   ENERGY       = ',round (E30,2)\n",
      "E20=(V/R2)*t;                         # ENERGY AT 20 ohm RESISTANCE\n",
      "print'ii)  ENERGY       = ',round (E20,2)\n",
      "E10=(V/R3)*t;                          # ENERGY AT 10 ohm RESISTANCE\n",
      "print'iii) ENERGY       = ',round (E10,2)\n",
      "TE=E30+E20+E10;                   # TOTAL ENERGY\n",
      "print'iv)  TOTAL ENERGY = ',round (TE,2)\n",
      "PTE=(E30/TE)*100.;                   # PERCENTAGE OF TOTAL ENERGY\n",
      "print'ii)  PERCENTAGE OF TOTAL ENERGY = ',round (PTE,2),'%' "
     ],
     "language": "python",
     "metadata": {},
     "outputs": [
      {
       "output_type": "stream",
       "stream": "stdout",
       "text": [
        "i)   ENERGY       =  0.03\n",
        "ii)  ENERGY       =  0.05\n",
        "iii) ENERGY       =  0.1\n",
        "iv)  TOTAL ENERGY =  0.18\n",
        "ii)  PERCENTAGE OF TOTAL ENERGY =  18.18 %\n"
       ]
      }
     ],
     "prompt_number": 12
    },
    {
     "cell_type": "heading",
     "level": 2,
     "metadata": {},
     "source": [
      "Example E17 : Pg 23"
     ]
    },
    {
     "cell_type": "code",
     "collapsed": false,
     "input": [
      "# EXAMPLE 1-17           PG NO-23\n",
      "from math import pi\n",
      "N=10.**3.;               # Number of Turns\n",
      "a=6.25*10.**-4.;                 # Diameter\n",
      "l=0.25; \n",
      "L=(N*N*4.*pi*10.**-7.*a)/(pi*l);             # INDUCTANCE\n",
      "print'i)inductance = ',round (L,5),'H'\n",
      "e=L*100.;                            # EMF\n",
      "print'ii)EMF = ',round (e,2),'V'"
     ],
     "language": "python",
     "metadata": {},
     "outputs": [
      {
       "output_type": "stream",
       "stream": "stdout",
       "text": [
        "i)inductance =  0.001 H\n",
        "ii)EMF =  0.1 V\n"
       ]
      }
     ],
     "prompt_number": 13
    },
    {
     "cell_type": "heading",
     "level": 2,
     "metadata": {},
     "source": [
      "Example E18 : Pg 23"
     ]
    },
    {
     "cell_type": "code",
     "collapsed": false,
     "input": [
      "                               # EXAMPLE 1-18           PG NO-23\n",
      "E=0.05;                    # ENERGY \n",
      "i=0.1;                       # CURRENT\n",
      "L=2*E/i**2                    # INDUCTANCE OF COIL\n",
      "print'i)inductance = ',round (L,2),' H'"
     ],
     "language": "python",
     "metadata": {},
     "outputs": [
      {
       "output_type": "stream",
       "stream": "stdout",
       "text": [
        "i)inductance =  10.0  H\n"
       ]
      }
     ],
     "prompt_number": 14
    },
    {
     "cell_type": "heading",
     "level": 2,
     "metadata": {},
     "source": [
      "Example E19 : Pg 23"
     ]
    },
    {
     "cell_type": "code",
     "collapsed": false,
     "input": [
      "                         # EXAMPLE 1-19      PG NO 23\n",
      "i=0.184                 # derivative     of I\n",
      "e=0.16;\n",
      "L=e/i;                # Inductance\n",
      "print'i)Inductance = ',round (L,2),'H'"
     ],
     "language": "python",
     "metadata": {},
     "outputs": [
      {
       "output_type": "stream",
       "stream": "stdout",
       "text": [
        "i)Inductance =  0.87 H\n"
       ]
      }
     ],
     "prompt_number": 15
    },
    {
     "cell_type": "heading",
     "level": 2,
     "metadata": {},
     "source": [
      "Example E20 : Pg 24"
     ]
    },
    {
     "cell_type": "code",
     "collapsed": false,
     "input": [
      "                       # EXAMPLE 1-20   PG NO-24\n",
      "A=20.*10.**-6.;\n",
      "L=30.;\n",
      "P20=1.72*10**-8;\n",
      "R20=P20*L/A;\n",
      "X0=0.00426;\n",
      "I=5.;\n",
      "X20=X0/(1.+(X0*20));\n",
      "R55=R20*(1.+X20*(55-20));\n",
      "P=I*I*R55;\n",
      "print'i)RESISTANCE = ',round (R20,2),' ohm'\n",
      "print'i) ALPHA 20(X20)= ',round(X20,2),' ohm'\n",
      "print'i)RESISTANCE = ',round (R55,2),' ohm'\n",
      "print'i)POWER = ',round (P,2),'w'"
     ],
     "language": "python",
     "metadata": {},
     "outputs": [
      {
       "output_type": "stream",
       "stream": "stdout",
       "text": [
        "i)RESISTANCE =  0.03  ohm\n",
        "i) ALPHA 20(X20)=  0.0  ohm\n",
        "i)RESISTANCE =  0.03  ohm\n",
        "i)POWER =  0.73 w\n"
       ]
      }
     ],
     "prompt_number": 16
    },
    {
     "cell_type": "heading",
     "level": 2,
     "metadata": {},
     "source": [
      "Example E21 : Pg 24"
     ]
    },
    {
     "cell_type": "code",
     "collapsed": false,
     "input": [
      "                 # EXAMPLE 1-21              PG NO-24\n",
      "L=200.*10.**-3.;                      # INDUCTAR\n",
      "t1=1.;                  # di/dt=(-2e**-t+4e**-2t)=-1.9*10**-7;\n",
      "V=L*(-1.94*10.**-7.);                   # VOLTAGE AT TIME 1\n",
      "print'i)  Voltage  = ',round (V,2),'V'\n",
      "t2=0.1;                                  # di/dt=(-2e**-t+4e**-2t)**2=0.216;\n",
      "V1=L*0.5*(0.216);                   # VOLTAGE AT TIME O.1\n",
      "print'ii)  Voltage  = ',round (V1,2),'V'"
     ],
     "language": "python",
     "metadata": {},
     "outputs": [
      {
       "output_type": "stream",
       "stream": "stdout",
       "text": [
        "i)  Voltage  =  -0.0 V\n",
        "ii)  Voltage  =  0.02 V\n"
       ]
      }
     ],
     "prompt_number": 18
    },
    {
     "cell_type": "heading",
     "level": 2,
     "metadata": {},
     "source": [
      "Example E26 : Pg 27"
     ]
    },
    {
     "cell_type": "code",
     "collapsed": false,
     "input": [
      "                       # EXAMPLE 1-26       PG NO 27\n",
      "L1=(1.1-0.8)/0.75;                  # Inductance\n",
      "print'i)Inductance = ',round (L1,2),'H'\n",
      "L2=3*L1;                   # Inductance\n",
      "print'ii)Inductance = ',round (L2,2),'H'"
     ],
     "language": "python",
     "metadata": {},
     "outputs": [
      {
       "output_type": "stream",
       "stream": "stdout",
       "text": [
        "i)Inductance =  0.4 H\n",
        "ii)Inductance =  1.2 H\n"
       ]
      }
     ],
     "prompt_number": 17
    },
    {
     "cell_type": "heading",
     "level": 2,
     "metadata": {},
     "source": [
      "Example E27 : Pg 27"
     ]
    },
    {
     "cell_type": "code",
     "collapsed": false,
     "input": [
      "                  # EXAMPLE 1-27     PG NO27\n",
      "L1=50.*10.**-3.;              #  Inductar\n",
      "L2=100.*10.**-3.;              # Inductar\n",
      "X=(L1/L2);\n",
      "print'i)   (L1/L2)   = ',round (X,2)\n",
      "#Q11+Q22=600.;                 \n",
      "Q11=200.;         # flux\n",
      "Q22=400.;         # flux\n",
      "print'ii)  Flux  Q11 = ',round (Q11),'mWb'\n",
      "print'iii) Flux  Q22 = ',round (Q22),' mWb'"
     ],
     "language": "python",
     "metadata": {},
     "outputs": [
      {
       "output_type": "stream",
       "stream": "stdout",
       "text": [
        "i)   (L1/L2)   =  0.5\n",
        "ii)  Flux  Q11 =  200.0 mWb\n",
        "iii) Flux  Q22 =  400.0  mWb\n"
       ]
      }
     ],
     "prompt_number": 19
    },
    {
     "cell_type": "heading",
     "level": 2,
     "metadata": {},
     "source": [
      "Example E28 : Pg 27"
     ]
    },
    {
     "cell_type": "code",
     "collapsed": false,
     "input": [
      "                       # EXAMPLE 1-28      PG NO-27\n",
      "C1=60.;                  # TWO CAPACITOR CONNECTED IN SERIES\n",
      "EC=(C1*C1)/(C1+C1);                      # EQUIVALENT CAPACITOR\n",
      "print'i)  Equivalent Cpacitor (EC) is    =  ',round (EC,2),'microF'"
     ],
     "language": "python",
     "metadata": {},
     "outputs": [
      {
       "output_type": "stream",
       "stream": "stdout",
       "text": [
        "i)  Equivalent Cpacitor (EC) is    =   30.0 microF\n"
       ]
      }
     ],
     "prompt_number": 20
    },
    {
     "cell_type": "heading",
     "level": 2,
     "metadata": {},
     "source": [
      "Example E29 : Pg 27"
     ]
    },
    {
     "cell_type": "code",
     "collapsed": false,
     "input": [
      "                      # EXAMPLE 1-29      PG NO-27-28\n",
      "C1=12.;                  # CAPACITOR\n",
      "C2=4.;                    # CAPACITOR\n",
      "C3=8.;\n",
      "C4=7.;\n",
      "C1=(C1*C2)/(C1+C2);                      # CAPACITOR IN SEREIS\n",
      "print'i)    Capacitor = ',round (C1,2),' muF'\n",
      "C2=(C3*C4)/(C3+C4);                      # CAPACITOR IN PARALLEL\n",
      "print'i)    Capacitor = ',round (C2,2),' muF'"
     ],
     "language": "python",
     "metadata": {},
     "outputs": [
      {
       "output_type": "stream",
       "stream": "stdout",
       "text": [
        "i)    Capacitor =  3.0  muF\n",
        "i)    Capacitor =  3.73  muF\n"
       ]
      }
     ],
     "prompt_number": 21
    },
    {
     "cell_type": "heading",
     "level": 2,
     "metadata": {},
     "source": [
      "Example E30 : Pg 28"
     ]
    },
    {
     "cell_type": "code",
     "collapsed": false,
     "input": [
      "                    # EXAMPLE 1-30            PG NO-28\n",
      "Q=80.*10.**-4.;   # COULUMB CHARGR\n",
      "C=150.*10.**-6.;\n",
      "C1=100.*10.**-6.;  # CAPACITANCE\n",
      "C2=50.*10.**-6.;\n",
      "Va=Q/C1;\n",
      "Vb=Q/C2;\n",
      "E1=(0.5*C1*Va*Va)+(0.5*C2*Vb*Vb);    # ENERGY\n",
      "E2=0.5*C*(Va+Vb)*(Va+Vb);\n",
      "print'i)variable = ',round (Va,2),'ohm'\n",
      "print'i)variable = ',round (Vb,2),'ohm'\n",
      "print'i)energy = ',round (E1,2),'J'\n",
      "print'i)energy = ',round (E2,2),'J'"
     ],
     "language": "python",
     "metadata": {},
     "outputs": [
      {
       "output_type": "stream",
       "stream": "stdout",
       "text": [
        "i)variable =  80.0 ohm\n",
        "i)variable =  160.0 ohm\n",
        "i)energy =  0.96 J\n",
        "i)energy =  4.32 J\n"
       ]
      }
     ],
     "prompt_number": 22
    },
    {
     "cell_type": "heading",
     "level": 2,
     "metadata": {},
     "source": [
      "Example E32 : Pg 29"
     ]
    },
    {
     "cell_type": "code",
     "collapsed": false,
     "input": [
      "   # EXAMPLE 1-32  PG NO-29\n",
      "V=10.;              # VOLTAGE\n",
      "R1=2.;\n",
      "R2=8.;            # RESISTANCE\n",
      "I1=V/(R1+R2);   # CURRENT\n",
      "I2=1.25;        # CURRENT THROUGH SECOND BRANCH\n",
      "R=V/I2-5.;\n",
      "print'i)CURRENT = ',round (I1,2),' A'\n",
      "print'ii)RESISTANCE = ',round (R,2),' ohm'"
     ],
     "language": "python",
     "metadata": {},
     "outputs": [
      {
       "output_type": "stream",
       "stream": "stdout",
       "text": [
        "i)CURRENT =  1.0  A\n",
        "ii)RESISTANCE =  3.0  ohm\n"
       ]
      }
     ],
     "prompt_number": 23
    },
    {
     "cell_type": "heading",
     "level": 2,
     "metadata": {},
     "source": [
      "Example E33 : Pg 29"
     ]
    },
    {
     "cell_type": "code",
     "collapsed": false,
     "input": [
      "                  # EXAMPLE 1-33       PG NO-29-30\n",
      "R1=29980;   # RESISTANCE\n",
      "I1=9.99;            # current\n",
      "R2=20;\n",
      "I2=0.01;     # current\n",
      "r=20*0.01/9.99;           # resistance\n",
      "print'i)resistance = ',round (r,2),'ohm'"
     ],
     "language": "python",
     "metadata": {},
     "outputs": [
      {
       "output_type": "stream",
       "stream": "stdout",
       "text": [
        "i)resistance =  0.02 ohm\n"
       ]
      }
     ],
     "prompt_number": 24
    },
    {
     "cell_type": "heading",
     "level": 2,
     "metadata": {},
     "source": [
      "Example E34 : Pg 30"
     ]
    },
    {
     "cell_type": "code",
     "collapsed": false,
     "input": [
      "                   # Example   1-34            PG  NO-30\n",
      "V=20.;                # VOLTAGE\n",
      "R1=5.;                # Resistance\n",
      "X=7.5;\n",
      "P=(20./(R1+X))**2.*(X);                # Power\n",
      "print'i)  Power (P) is    =  ',round(P,2),'W'"
     ],
     "language": "python",
     "metadata": {},
     "outputs": [
      {
       "output_type": "stream",
       "stream": "stdout",
       "text": [
        "i)  Power (P) is    =   19.2 W\n"
       ]
      }
     ],
     "prompt_number": 25
    },
    {
     "cell_type": "heading",
     "level": 2,
     "metadata": {},
     "source": [
      "Example E35 : Pg 30  "
     ]
    },
    {
     "cell_type": "code",
     "collapsed": false,
     "input": [
      "                             # EXAMPLE 1-35        PG NO 30-31\n",
      "I1=4.;                    # Current\n",
      "I2=6.;                      # Current\n",
      "V=110.;                        # Voltage\n",
      "Vab1=V-(6.+4.)*2.;\n",
      "VB=80.;\n",
      "VC=50.;\n",
      "R11=(Vab1-VB)/I1;\n",
      "R12=(Vab1-VC)/I2;                     \n",
      "Vab2=V-(-2.+20.)*2.;                    # Voltage\n",
      "R21=(VB-Vab2)/2.;                  # Resistance\n",
      "R22=(Vab2-VC)/20.;               # Resistance\n",
      "I=(V-VB)/2.;                 # Current\n",
      "R=(VB-VC)/I;            # Resistance\n",
      "print'i)variable      = ',round(Vab1,2),'ohm'\n",
      "print'ii)resistance   = ',round(R11,2),'ohm'\n",
      "print'iii)resistance  = ',round(R12,2),'ohm'\n",
      "print'iv)variable     = ',round(Vab2,2),'ohm'\n",
      "print'v)resistance    = ',round(R21,2),'ohm'\n",
      "print'vi)resistance   = ',round(R22,2),'ohm'\n",
      "print'vii)resistance  = ',round(R,2),'ohm'\n",
      "print'viii)Current    = ',round(I,2),'A'"
     ],
     "language": "python",
     "metadata": {},
     "outputs": [
      {
       "output_type": "stream",
       "stream": "stdout",
       "text": [
        "i)variable      =  90.0 ohm\n",
        "ii)resistance   =  2.5 ohm\n",
        "iii)resistance  =  6.67 ohm\n",
        "iv)variable     =  74.0 ohm\n",
        "v)resistance    =  3.0 ohm\n",
        "vi)resistance   =  1.2 ohm\n",
        "vii)resistance  =  2.0 ohm\n",
        "viii)Current    =  15.0 A\n"
       ]
      }
     ],
     "prompt_number": 26
    },
    {
     "cell_type": "heading",
     "level": 2,
     "metadata": {},
     "source": [
      "Example E36 : Pg 31"
     ]
    },
    {
     "cell_type": "code",
     "collapsed": false,
     "input": [
      "                       # EXAMPLE 1-36    PG NO-31\n",
      "T=0.99425;    # TIME\n",
      "print'i)Time = ',round(T,2),'seconds'\n",
      "X=0.37;      # DERAVATIVES OF 'I'  W.R.T\n",
      "print'ii)(di\\dt) = ',round(X,2),'A\\sec'\n",
      "LI=0.63;     # CURRENT\n",
      "dli=0.37;    #  deravatives of 'SI' w.r.t\n",
      "print'iii)(dsi\\dt) = ',round(dli,2),' Wb-turns\\sec'\n",
      "VL=dli;\n",
      "print'iv)(VL) = ',round(VL,2),'V'\n",
      "Ri=0.63;\n",
      "VR=Ri;\n",
      "print'v)VR = ',round(VR,2),'V'\n",
      "E=0.5*LI*LI;    # ENERGY\n",
      "print'vi)ENERGY stored in magnetic field = ',round(E,2),'J'\n",
      "E1=LI*VL;   # ENERGY STORED IN MAGNETIC FIELD\n",
      "H=Ri*Ri;     # HEAT\n",
      "print'vii) Rate of Energy stored in magnetic field = ',round(E1,2),'W'\n",
      "print'viii)Rate of dissipation of heat in resistor = ',round(H,2),' W'\n",
      "print'ix)Rate of supply of battery energy = ',round(Ri,2),'W'"
     ],
     "language": "python",
     "metadata": {},
     "outputs": [
      {
       "output_type": "stream",
       "stream": "stdout",
       "text": [
        "i)Time =  0.99 seconds\n",
        "ii)(di\\dt) =  0.37 A\\sec\n",
        "iii)(dsi\\dt) =  0.37  Wb-turns\\sec\n",
        "iv)(VL) =  0.37 V\n",
        "v)VR =  0.63 V\n",
        "vi)ENERGY stored in magnetic field =  0.2 J\n",
        "vii) Rate of Energy stored in magnetic field =  0.23 W\n",
        "viii)Rate of dissipation of heat in resistor =  0.4  W\n",
        "ix)Rate of supply of battery energy =  0.63 W\n"
       ]
      }
     ],
     "prompt_number": 27
    },
    {
     "cell_type": "heading",
     "level": 2,
     "metadata": {},
     "source": [
      "Example E37 : Pg 32"
     ]
    },
    {
     "cell_type": "code",
     "collapsed": false,
     "input": [
      "T=2000.;    # TEMPERATURE\n",
      "T1=15.;    # ROOM TEMPERATURE\n",
      "V=220.;  # VOLTAGE\n",
      "P=40.;  # POWER\n",
      "A15=0.005;\n",
      "R=V*V/P;   # RESISTANCE\n",
      "R15=R/(1.+A15*(T-T1));   # RESISTANCE AT TIME OF SWITICHING\n",
      "I=V/R15;      # CURRENT\n",
      "print'i)resistance   = ',round(R,2),'ohm'\n",
      "print'ii)resistance  = ',round(R15,2),'ohm'\n",
      "print'iii)current    =  ',round(I,2),'A'"
     ],
     "language": "python",
     "metadata": {},
     "outputs": [
      {
       "output_type": "stream",
       "stream": "stdout",
       "text": [
        "i)resistance   =  1210.0 ohm\n",
        "ii)resistance  =  110.76 ohm\n",
        "iii)current    =   1.99 A\n"
       ]
      }
     ],
     "prompt_number": 28
    },
    {
     "cell_type": "heading",
     "level": 2,
     "metadata": {},
     "source": [
      "Example E38 : Pg 32"
     ]
    },
    {
     "cell_type": "code",
     "collapsed": false,
     "input": [
      "                    # EXAMPLE  1-38       PG NO-32\n",
      "from math import pi\n",
      "F=50.;                     # Frequency\n",
      "W=2.*pi*F;\n",
      "print'i)W  = ',round(W,2),'rad/sec'\n",
      "t=0.0025;                 # time\n",
      "Vm=10.;\n",
      "A1=0.01;\n",
      "A2=0.005;\n",
      "i=((A2*Vm**2.)/2.)+0.0707;\n",
      "print'ii)Current = ',round(i,2),'A'"
     ],
     "language": "python",
     "metadata": {},
     "outputs": [
      {
       "output_type": "stream",
       "stream": "stdout",
       "text": [
        "i)W  =  314.16 rad/sec\n",
        "ii)Current =  0.32 A\n"
       ]
      }
     ],
     "prompt_number": 29
    },
    {
     "cell_type": "heading",
     "level": 2,
     "metadata": {},
     "source": [
      "Example E39 : Pg 32"
     ]
    },
    {
     "cell_type": "code",
     "collapsed": false,
     "input": [
      "                   # EXAMPLE 1-39    PG NO-32-33\n",
      "V=440.;               # voltage\n",
      "V1=5.;                  # voltage\n",
      "R=40.;            # resistance\n",
      "V2=220.;\n",
      "V3=100.;\n",
      "Rv=(V3*R)/(V2-V3);            # insulation resistance\n",
      "print'i)Resistance (Rv) = ',round(Rv,2),'Kohm'\n",
      "Ri=(Rv*(V-V1))/V1;            # insulation resistance\n",
      "print'iii)Resistance(Ri) = ',round(Ri,2),'Kohm'"
     ],
     "language": "python",
     "metadata": {},
     "outputs": [
      {
       "output_type": "stream",
       "stream": "stdout",
       "text": [
        "i)Resistance (Rv) =  33.33 Kohm\n",
        "iii)Resistance(Ri) =  2900.0 Kohm\n"
       ]
      }
     ],
     "prompt_number": 30
    },
    {
     "cell_type": "heading",
     "level": 2,
     "metadata": {},
     "source": [
      "Example E40 : Pg 33"
     ]
    },
    {
     "cell_type": "code",
     "collapsed": false,
     "input": [
      "                             # EXAMPLE 1-40       PG NO-33\n",
      "from math import pi \n",
      "P=1.72*10.**-8.;                   # PRO\n",
      "t=0.03;                        # distance\n",
      "R=((4.*P)/(pi*0.03))*0.47;              # Resistance\n",
      "print'i)Resistance = ',round(R,7),'ohm'"
     ],
     "language": "python",
     "metadata": {},
     "outputs": [
      {
       "output_type": "stream",
       "stream": "stdout",
       "text": [
        "i)Resistance =  3e-07 ohm\n"
       ]
      }
     ],
     "prompt_number": 31
    },
    {
     "cell_type": "heading",
     "level": 2,
     "metadata": {},
     "source": [
      "Example E41 : Pg 33"
     ]
    },
    {
     "cell_type": "code",
     "collapsed": false,
     "input": [
      "                            # EXAMPLE 1-41       PG NO-33\n",
      "from math import pi\n",
      "P=1.72*10**-8;                   # PRO\n",
      "t=0.03;\n",
      "R=((P*pi)/(4.*0.03*0.47));\n",
      "print'i)Resistance = ',round(R,7),'ohm'"
     ],
     "language": "python",
     "metadata": {},
     "outputs": [
      {
       "output_type": "stream",
       "stream": "stdout",
       "text": [
        "i)Resistance =  1e-06 ohm\n"
       ]
      }
     ],
     "prompt_number": 32
    },
    {
     "cell_type": "heading",
     "level": 2,
     "metadata": {},
     "source": [
      "Example E44 : Pg 34"
     ]
    },
    {
     "cell_type": "code",
     "collapsed": false,
     "input": [
      "                # EXAMPLE 1-42         PG NO-34\n",
      "import math \n",
      "P=100.;              # pro\n",
      "L=0.5;              # inductance\n",
      "r1=0.15;             # radius\n",
      "r2=0.075;            # radius\n",
      "R=(100./(2.*math.pi*L))*(0.731);          # resistance\n",
      "print'i)Resistance = ',round(R,2),'ohm'"
     ],
     "language": "python",
     "metadata": {},
     "outputs": [
      {
       "output_type": "stream",
       "stream": "stdout",
       "text": [
        "i)Resistance =  23.27 ohm\n"
       ]
      }
     ],
     "prompt_number": 33
    },
    {
     "cell_type": "heading",
     "level": 2,
     "metadata": {},
     "source": [
      "Example E44 : Pg 36"
     ]
    },
    {
     "cell_type": "code",
     "collapsed": false,
     "input": [
      "                 # EXAMPLE 1-44  PG NO-36\n",
      "R1=12.;               # Resistance\n",
      "R2=0.2;                # Resistance\n",
      "R3=15.; \n",
      "V1=(-(R2*R3)+R1)/3.;              # voltage drop \n",
      "print'i) VOLTAGE  = ',round(V1,2),'V'"
     ],
     "language": "python",
     "metadata": {},
     "outputs": [
      {
       "output_type": "stream",
       "stream": "stdout",
       "text": [
        "i) VOLTAGE  =  3.0 V\n"
       ]
      }
     ],
     "prompt_number": 34
    },
    {
     "cell_type": "heading",
     "level": 2,
     "metadata": {},
     "source": [
      "Example E46 : Pg 37"
     ]
    },
    {
     "cell_type": "code",
     "collapsed": false,
     "input": [
      "             # EXAMPLE 1-46     PG NO37\n",
      "import numpy\n",
      "A=([85, -25],[-25, 135]);         #  Finding current\n",
      "B=([60],[100]);\n",
      "X=numpy.divide(A,B);#current\n",
      "print'i)CURRENT = ',X,'A'\n",
      "I1=0.977;\n",
      "I2=0.922;        # WE HAVE FOUNDED  I1 and I2\n",
      "I3=I1-I2;\n",
      "print'ii)CURRENT = ',I3,'A'"
     ],
     "language": "python",
     "metadata": {},
     "outputs": [
      {
       "output_type": "stream",
       "stream": "stdout",
       "text": [
        "i)CURRENT =  [[ 1 -1]\n",
        " [-1  1]] A\n",
        "ii)CURRENT =  0.055 A\n"
       ]
      }
     ],
     "prompt_number": 35
    },
    {
     "cell_type": "heading",
     "level": 2,
     "metadata": {},
     "source": [
      "Example E47 : Pg 39"
     ]
    },
    {
     "cell_type": "code",
     "collapsed": false,
     "input": [
      "            # EXAMPLE 1-48 PG NO-39-40\n",
      "R1=4.;                      # Resistance\n",
      "R2=4.;                     # Resistance\n",
      "R3=8.;                       # Resistance\n",
      "RA=(R1*R2)/(R1+R2+R3);\n",
      "print'i)RESISTANCE = ',round(RA,2),'ohm'\n",
      "RB=(R1*R3)/(R1+R2+R3);\n",
      "print'ii)RESISTANCE = ',round(RB,2),'ohm'\n",
      "RC=(R2*R3)/(R1+R2+R3);\n",
      "print'iii)RESISTANCE = ',round(RC,2),'ohm'"
     ],
     "language": "python",
     "metadata": {},
     "outputs": [
      {
       "output_type": "stream",
       "stream": "stdout",
       "text": [
        "i)RESISTANCE =  1.0 ohm\n",
        "ii)RESISTANCE =  2.0 ohm\n",
        "iii)RESISTANCE =  2.0 ohm\n"
       ]
      }
     ],
     "prompt_number": 36
    },
    {
     "cell_type": "heading",
     "level": 2,
     "metadata": {},
     "source": [
      "Example E48 : Pg 39"
     ]
    },
    {
     "cell_type": "code",
     "collapsed": false,
     "input": [
      "              # EXAMPLE 1-48 PG NO-39-40\n",
      "R1=6.8;                 # Resistance\n",
      "R2=15.;\n",
      "R3=10.;\n",
      "RA=(R1*R2)/(R1+R2+R3);\n",
      "print'i)RESISTANCE = ',round(RA,2),'ohm'\n",
      "RB=(R1*R3)/(R1+R2+R3);\n",
      "print'ii)RESISTANCE = ',round(RB,2),'ohm'\n",
      "RC=(R2*R3)/(R1+R2+R3);\n",
      "print'iii)RESISTANCE = ',round(RC,2),'ohm'"
     ],
     "language": "python",
     "metadata": {},
     "outputs": [
      {
       "output_type": "stream",
       "stream": "stdout",
       "text": [
        "i)RESISTANCE =  3.21 ohm\n",
        "ii)RESISTANCE =  2.14 ohm\n",
        "iii)RESISTANCE =  4.72 ohm\n"
       ]
      }
     ],
     "prompt_number": 37
    },
    {
     "cell_type": "heading",
     "level": 2,
     "metadata": {},
     "source": [
      "Example E50 : Pg 45"
     ]
    },
    {
     "cell_type": "code",
     "collapsed": false,
     "input": [
      "              # EXAMPLE 1-50      PG NO-45\n",
      "TR=17./6.;                  # TOTAL RESISTANCE\n",
      "V=40.;                     # VOLTAGE\n",
      "I=5.;                       # CURRENT\n",
      "Vs=(TR*I)-V;\n",
      "print'i)VOLTAGE = ',round(Vs,2),'V'"
     ],
     "language": "python",
     "metadata": {},
     "outputs": [
      {
       "output_type": "stream",
       "stream": "stdout",
       "text": [
        "i)VOLTAGE =  -25.83 V\n"
       ]
      }
     ],
     "prompt_number": 38
    },
    {
     "cell_type": "heading",
     "level": 2,
     "metadata": {},
     "source": [
      "Example E51 : Pg 45"
     ]
    },
    {
     "cell_type": "code",
     "collapsed": false,
     "input": [
      "                 # EXAMPLE 1-51      PG NO-45-46\n",
      "TR=2.05;             # TOTAL  RESISTANCE\n",
      "V=2.;                 # VOLTAGE \n",
      "P=V**2./TR;                          # ower\n",
      "print'i)POWER = ',round(P,2),'W'"
     ],
     "language": "python",
     "metadata": {},
     "outputs": [
      {
       "output_type": "stream",
       "stream": "stdout",
       "text": [
        "i)POWER =  1.95 W\n"
       ]
      }
     ],
     "prompt_number": 39
    },
    {
     "cell_type": "heading",
     "level": 2,
     "metadata": {},
     "source": [
      "Example E52 : Pg 46"
     ]
    },
    {
     "cell_type": "code",
     "collapsed": false,
     "input": [
      "                  # EXAMPLE  1-52    PG NO-46\n",
      "L1=1.;\n",
      "L2=1.;\n",
      "L3=1.;                # INDUCTANCE\n",
      "DL1=((L1*L2)+(L2*L3)+(L3*L1))/(L1*L2*L3);\n",
      "print'i)DELTA INDUCTANCE = ',round(DL1,2),'H'\n",
      "L4=1.5;\n",
      "L5=1.5;                   # Inductance\n",
      "L6=1.5;\n",
      "L=(L4*(L5+L6))/(L4+L5+L6);\n",
      "print'ii)INDUCTANCE = ',round(L,2),'H'"
     ],
     "language": "python",
     "metadata": {},
     "outputs": [
      {
       "output_type": "stream",
       "stream": "stdout",
       "text": [
        "i)DELTA INDUCTANCE =  3.0 H\n",
        "ii)INDUCTANCE =  1.0 H\n"
       ]
      }
     ],
     "prompt_number": 40
    },
    {
     "cell_type": "heading",
     "level": 2,
     "metadata": {},
     "source": [
      "Example E53 : Pg 46"
     ]
    },
    {
     "cell_type": "code",
     "collapsed": false,
     "input": [
      "               # EXAMPLE 1-53         PG NO-46-47\n",
      "R1=200.;                # RESISTANCE\n",
      "R2=50.;\n",
      "R3=30.;\n",
      "R4=20.;\n",
      "Rab=(R1*(R2+R3+R4))/(R1+R2+R3+R4);                # equvalent    resistance\n",
      "print'i)RESISTANCE = ',round(Rab,2),'ohm'"
     ],
     "language": "python",
     "metadata": {},
     "outputs": [
      {
       "output_type": "stream",
       "stream": "stdout",
       "text": [
        "i)RESISTANCE =  66.67 ohm\n"
       ]
      }
     ],
     "prompt_number": 41
    }
   ],
   "metadata": {}
  }
 ]
}