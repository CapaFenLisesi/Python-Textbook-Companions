{
 "metadata": {
  "name": "",
  "signature": "sha256:ea2c88828cfd7962d0151c1e4c0260079332f1e23732eddfffa7f8816f08a92b"
 },
 "nbformat": 3,
 "nbformat_minor": 0,
 "worksheets": [
  {
   "cells": [
    {
     "cell_type": "heading",
     "level": 1,
     "metadata": {},
     "source": [
      "CHAPTER02:SINGLE PHASE AC CIRCUITS"
     ]
    },
    {
     "cell_type": "heading",
     "level": 2,
     "metadata": {},
     "source": [
      "Example E01 : Pg 59"
     ]
    },
    {
     "cell_type": "code",
     "collapsed": false,
     "input": [
      "                # EXAMPLE-2-1              EXAMPLE-59\n",
      "t=0.5; \n",
      "x=115.; \n",
      "z=310.6                  # time\n",
      "AV=0.2*x;  # average value\n",
      "RMS=(1./10.)*z;                         # rms value\n",
      "F=RMS/AV;                          # form factor\n",
      "PF=60./RMS;                     # peak  factor\n",
      "S=60./(2.)**0.5;                      # rms value of  sine wave\n",
      "print '%s %.2f %s' %('i)R.M.S =',RMS,' V')\n",
      "print '%s %.2f %s' %('i) average value = ',AV,' V')\n",
      "print '%s %.2f' %('i)orm factor = ',F)\n",
      "print '%s %.2f' %('i peak factor =',PF)\n",
      "print '%s %.2f %s' %('i)sine wave  =',S,' V')"
     ],
     "language": "python",
     "metadata": {},
     "outputs": [
      {
       "output_type": "stream",
       "stream": "stdout",
       "text": [
        "i)R.M.S = 31.06  V\n",
        "i) average value =  23.00  V\n",
        "i)orm factor =  1.35\n",
        "i peak factor = 1.93\n",
        "i)sine wave  = 42.43  V\n"
       ]
      }
     ],
     "prompt_number": 1
    },
    {
     "cell_type": "heading",
     "level": 2,
     "metadata": {},
     "source": [
      "Example E03 : Pg 59"
     ]
    },
    {
     "cell_type": "code",
     "collapsed": false,
     "input": [
      "     # EXAMPLE 2-3  PG NO-59-60\n",
      "Vm=1.;\n",
      "AV1=0.318*Vm;                # avegare value\n",
      "RMS1=0.5*Vm;                  # RMS value\n",
      "FF1=RMS1/AV1;                     # Form Factor\n",
      "PF1=Vm/RMS1;                       # Peak Factor\n",
      "AV2=0.637*Vm;                  # Average    value\n",
      "RMS2=0.707*Vm;                  # RMS  value\n",
      "FF2=RMS2/AV2;                    # Form Factor\n",
      "PF2=Vm/RMS2;                      # Peak Factor\n",
      "print'i)Form Factor   =  ',round(FF1,2)\n",
      "print'i)peak Factor   =  ',round(PF1,2)\n",
      "print'i)Form Factor   =  ',round(FF2,2)\n",
      "print'i)PEAK Factor   =  ',round(PF2,2)"
     ],
     "language": "python",
     "metadata": {},
     "outputs": [
      {
       "output_type": "stream",
       "stream": "stdout",
       "text": [
        "i)Form Factor   =   1.57\n",
        "i)peak Factor   =   2.0\n",
        "i)Form Factor   =   1.11\n",
        "i)PEAK Factor   =   1.41\n"
       ]
      }
     ],
     "prompt_number": 2
    },
    {
     "cell_type": "heading",
     "level": 2,
     "metadata": {},
     "source": [
      "Example E07 : Pg 64"
     ]
    },
    {
     "cell_type": "code",
     "collapsed": false,
     "input": [
      "                     # EXAMPLE  2-7       PG NO 64-65\n",
      "V1=24.15+1j*6.47;                 # VOLTAGE\n",
      "V2=7.5+1j*12.99;                    # VOLTAGE\n",
      "X=V1+V2;                        # ADITION fo v1&v2\n",
      "print'i)ADITION  is in rectangular  form =  ',X,' V'\n",
      "X1=V1-V2;                      # subsraction     of v1&v2\n",
      "print'i)substraction  is in rectangular  form =  ',X1,' V'"
     ],
     "language": "python",
     "metadata": {},
     "outputs": [
      {
       "output_type": "stream",
       "stream": "stdout",
       "text": [
        "i)ADITION  is in rectangular  form =   (31.65+19.46j)  V\n",
        "i)substraction  is in rectangular  form =   (16.65-6.52j)  V\n"
       ]
      }
     ],
     "prompt_number": 3
    },
    {
     "cell_type": "heading",
     "level": 2,
     "metadata": {},
     "source": [
      "Example E08 : Pg 65"
     ]
    },
    {
     "cell_type": "code",
     "collapsed": false,
     "input": [
      "                           # EXAMPLE 2-8        PG NO-65\n",
      "A=3.+1j*1;\n",
      "B=4.+1j*3;\n",
      "X=A+B;                   # ADDITION\n",
      "Y=A-B;                     # SUBSTRACTION\n",
      "Z=A*B;                     # MULTIPLICATION\n",
      "U=A/B;                     # DIVISION\n",
      "V=A**4.;                         \n",
      "P=B**(1./3.);\n",
      "print'ii)   ADDITION (A+B) is  in polar form  =  ',X,'ohm'\n",
      "print'ii)   SUBSTRACTION (A-B) is in polar form   =  ',Y,'ohm'\n",
      "print'ii)   MULTIPLICATION (A*B) is  in polar form  =  ',Z,'ohm'\n",
      "print'ii)   DIVISION (A/B) is  is in polar form  =  ',U,'ohm'\n",
      "print'ii)   SQUARE  OF A(A**4) is  in polar form  =  ',V,'ohm'\n",
      "print'ii)   CUBE ROOT OF B (B**(1/3)) is  in polar form  =  ',P,'ohm'"
     ],
     "language": "python",
     "metadata": {},
     "outputs": [
      {
       "output_type": "stream",
       "stream": "stdout",
       "text": [
        "ii)   ADDITION (A+B) is  in polar form  =   (7+4j) ohm\n",
        "ii)   SUBSTRACTION (A-B) is in polar form   =   (-1-2j) ohm\n",
        "ii)   MULTIPLICATION (A*B) is  in polar form  =   (9+13j) ohm\n",
        "ii)   DIVISION (A/B) is  is in polar form  =   (0.6-0.2j) ohm\n",
        "ii)   SQUARE  OF A(A**4) is  in polar form  =   (28+96j) ohm\n",
        "ii)   CUBE ROOT OF B (B**(1/3)) is  in polar form  =   (1.67078820069+0.363984239564j) ohm\n"
       ]
      }
     ],
     "prompt_number": 4
    },
    {
     "cell_type": "heading",
     "level": 2,
     "metadata": {},
     "source": [
      "Example E09 : Pg 65"
     ]
    },
    {
     "cell_type": "code",
     "collapsed": false,
     "input": [
      "# EXAMPLE 2-9           PG NO-65\n",
      "from math import cos \n",
      "t1=0.0025;                              # time\n",
      "t2=0.005;                               # time\n",
      "t3=0.01;                                # time\n",
      "i1=10.*314.16*cos(314.16*t1);                     # i1 is derivatives of i wrt t;\n",
      "print'i)  Current  = ',round(i1,2),'A'\n",
      "i2=10*314.16*cos(314.16*t2);\n",
      "print'ii)  Current  = ',round(i2,2),'A'\n",
      "i3=10*314.16*cos(314.16*t3);\n",
      "print'iii)  Current  = ',round(i3,2),'A'"
     ],
     "language": "python",
     "metadata": {},
     "outputs": [
      {
       "output_type": "stream",
       "stream": "stdout",
       "text": [
        "i)  Current  =  2221.44 A\n",
        "ii)  Current  =  -0.01 A\n",
        "iii)  Current  =  -3141.6 A\n"
       ]
      }
     ],
     "prompt_number": 5
    },
    {
     "cell_type": "heading",
     "level": 2,
     "metadata": {},
     "source": [
      "Example E10 : Pg 66"
     ]
    },
    {
     "cell_type": "code",
     "collapsed": false,
     "input": [
      "          # EXAMPLE 2-10  PG NO-66\n",
      "I1=5;                  # current\n",
      "I2=7.071;                # current\n",
      "RMS=(I1*I1+I2*I2)**0.5;          # resultant       rms value\n",
      "print '%s %.2f %s' %('i) RMS   =  ',RMS,'A ')"
     ],
     "language": "python",
     "metadata": {},
     "outputs": [
      {
       "output_type": "stream",
       "stream": "stdout",
       "text": [
        "i) RMS   =   8.66 A \n"
       ]
      }
     ],
     "prompt_number": 6
    },
    {
     "cell_type": "heading",
     "level": 2,
     "metadata": {},
     "source": [
      "Example E11 : Pg 66"
     ]
    },
    {
     "cell_type": "code",
     "collapsed": false,
     "input": [
      "             # EXAMPLE 2-11     PG NO-66\n",
      "import math \n",
      "W=314.16;\n",
      "PV=14.14;                  # PEAK VALUE\n",
      "t=0.0025;                  # TIME\n",
      "i=PV*math.sin(W*t);            # CURRENT\n",
      "T=0.0175;              # TOTAL TIME\n",
      "I=PV*math.sin(W*T);\n",
      "print '%s %.2f' %('ii)   CURRNT (i) is    =  ',i);\n",
      "print '%s %.2f' %('ii)   CURRNT (I) is    =  ',I);"
     ],
     "language": "python",
     "metadata": {},
     "outputs": [
      {
       "output_type": "stream",
       "stream": "stdout",
       "text": [
        "ii)   CURRNT (i) is    =   10.00\n",
        "ii)   CURRNT (I) is    =   -10.00\n"
       ]
      }
     ],
     "prompt_number": 7
    },
    {
     "cell_type": "heading",
     "level": 2,
     "metadata": {},
     "source": [
      "Example E12 : Pg 66"
     ]
    },
    {
     "cell_type": "code",
     "collapsed": false,
     "input": [
      "                 # EXAMPLE 2-12         PG NO-66-67\n",
      "import math \n",
      "W1=80*math.pi;              # womega\n",
      "W2=100*math.pi;\n",
      "PV=14.14;            # peak value\n",
      "t1=0.025;             # time\n",
      "t2=0.05;\n",
      "t3=0.075;\n",
      "I1=PV*(math.cos(80.*math.pi*t1)+math.cos(100.*math.pi*t1));                  # current\n",
      "I2=PV*(math.cos(80.*math.pi*t2)+math.cos(100.*math.pi*t2));                   # current\n",
      "I3=PV*(math.cos(80.*math.pi*t3)+math.cos(100.*math.pi*t3));                   # current\n",
      "print '%s %.2f %s' %('ii)   CURRNT (I) is    =  ',I1,'  A');\n",
      "print '%s %.2f %s' %('ii)   CURRNT (I) is    =  ',I2,' A  ');\n",
      "print '%s %.2f %s' %('ii)   CURRNT (I) is    =  ',I3,'  A ');"
     ],
     "language": "python",
     "metadata": {},
     "outputs": [
      {
       "output_type": "stream",
       "stream": "stdout",
       "text": [
        "ii)   CURRNT (I) is    =   14.14   A\n",
        "ii)   CURRNT (I) is    =   0.00  A  \n",
        "ii)   CURRNT (I) is    =   14.14   A \n"
       ]
      }
     ],
     "prompt_number": 8
    },
    {
     "cell_type": "heading",
     "level": 2,
     "metadata": {},
     "source": [
      "Example E13 : Pg 67"
     ]
    },
    {
     "cell_type": "code",
     "collapsed": false,
     "input": [
      "                   # EXAMPLE 2-13        PG NO-67\n",
      "T=20.*10.**-3.;                 # TIME PERIOD\n",
      "Ta=300.*10.**-3.;              # TOTAL AREA\n",
      "A=(Ta)/T;                  # AVERAGE VALUE\n",
      "print '%s %.2f %s' %('ii)   AVERAGE VALUE (A) is    =  ',A,'  V ');"
     ],
     "language": "python",
     "metadata": {},
     "outputs": [
      {
       "output_type": "stream",
       "stream": "stdout",
       "text": [
        "ii)   AVERAGE VALUE (A) is    =   15.00   V \n"
       ]
      }
     ],
     "prompt_number": 9
    },
    {
     "cell_type": "heading",
     "level": 2,
     "metadata": {},
     "source": [
      "Example E14 : Pg 67"
     ]
    },
    {
     "cell_type": "code",
     "collapsed": false,
     "input": [
      "               # EXAMPLE 2-14       PG NO-67\n",
      "Ta=5.;                       # TOTAL  AREA\n",
      "T=20.*10.**-3.;                # TIME\n",
      "Av=Ta/T;                  # AVERAGE  VALUE\n",
      "Ev=(Av)**0.5;              # EFFECTIVE VALUE\n",
      "FF=Ev/15.;                  # FORM FACTOR\n",
      "print '%s %.2f' %('ii)   AVERAGE VALUE (Av) is    =  ',Av);\n",
      "print '%s %.2f %s' %('ii)   EFFECTIVE VALUE (Ev) is    =  ',Ev,'V');\n",
      "print '%s %.2f' %('ii)   FORM FACTOR (FF) is    =  ',FF);"
     ],
     "language": "python",
     "metadata": {},
     "outputs": [
      {
       "output_type": "stream",
       "stream": "stdout",
       "text": [
        "ii)   AVERAGE VALUE (Av) is    =   250.00\n",
        "ii)   EFFECTIVE VALUE (Ev) is    =   15.81 V\n",
        "ii)   FORM FACTOR (FF) is    =   1.05\n"
       ]
      }
     ],
     "prompt_number": 10
    },
    {
     "cell_type": "heading",
     "level": 2,
     "metadata": {},
     "source": [
      "Example E15 : Pg 68"
     ]
    },
    {
     "cell_type": "code",
     "collapsed": false,
     "input": [
      "import math \n",
      "Eav=50.;                    # in volts\n",
      "T=2;                     # time\n",
      "E=((1./T)*2500.*2.66)**0.5;                # energy           # integrate('0','t',2)=2.66                                           \n",
      "print '%s %.2f %s' %('i) Energy  = ',E,'V ');\n",
      "FF=E/Eav;                                   # form factor\n",
      "print '%s %.2f' %('i) Form Factor  = ',FF);"
     ],
     "language": "python",
     "metadata": {},
     "outputs": [
      {
       "output_type": "stream",
       "stream": "stdout",
       "text": [
        "i) Energy  =  57.66 V \n",
        "i) Form Factor  =  1.15\n"
       ]
      }
     ],
     "prompt_number": 11
    },
    {
     "cell_type": "heading",
     "level": 2,
     "metadata": {},
     "source": [
      "Example E16 : Pg 68"
     ]
    },
    {
     "cell_type": "code",
     "collapsed": false,
     "input": [
      "                          # EXAMPLE 2-16          PG NO 68\n",
      "import math \n",
      "Eav=2.5;                  # AVERAGE ENERGY\n",
      "E=8.333;\n",
      "print '%s %.2f %s' %('i)   ENERGY (E) is    =  ',math.sqrt(E),' V  ');\n",
      "FF=math.sqrt(E)/Eav;\n",
      "print '%s %.2f' %('ii)   Form  Factor (FF) is    =  ',FF);"
     ],
     "language": "python",
     "metadata": {},
     "outputs": [
      {
       "output_type": "stream",
       "stream": "stdout",
       "text": [
        "i)   ENERGY (E) is    =   2.89  V  \n",
        "ii)   Form  Factor (FF) is    =   1.15\n"
       ]
      }
     ],
     "prompt_number": 12
    },
    {
     "cell_type": "heading",
     "level": 2,
     "metadata": {},
     "source": [
      "Example E17 : Pg 69"
     ]
    },
    {
     "cell_type": "code",
     "collapsed": false,
     "input": [
      "                  # EXAMPLE 2-17       PG NO-69\n",
      "I1=10.;                     # CURRENT\n",
      "I2=-4.;\n",
      "I3=2.;\n",
      "I4=0;\n",
      "T=8.;                   # TIME\n",
      "Irms=(((I1*I1*2)+(I2*I2*2)+(I3*I3*2)+(I4*I4*2))/T)**0.5;          # RMS\n",
      "print '%s %.2f %s' %('ii)   CURRENT R.M.S (Irms) is    =  ',Irms,'  A ');"
     ],
     "language": "python",
     "metadata": {},
     "outputs": [
      {
       "output_type": "stream",
       "stream": "stdout",
       "text": [
        "ii)   CURRENT R.M.S (Irms) is    =   5.48   A \n"
       ]
      }
     ],
     "prompt_number": 13
    },
    {
     "cell_type": "heading",
     "level": 2,
     "metadata": {},
     "source": [
      "Example E20 : Pg 70"
     ]
    },
    {
     "cell_type": "code",
     "collapsed": false,
     "input": [
      "                          # EXAMPLE 2-20                PG NO-70\n",
      "import math \n",
      "T=0.03;                    # TIME\n",
      " #  (1000*integrate('0','t',0.01,0.01))**2=-0.333\n",
      " # 100*integrate('0.01','t',0.02,0.02)=-1\n",
      " # integrate('0.02', '',0.03,0.03)]=0\n",
      "V=(-0.33-1.)/T;\n",
      "print '%s %.2f %s' %('i) Voltage  (V) is   =  ',V,' V ');\n",
      "print '%s %.2f %s' %('i) Square Root of Voltage  (V) is   =  ',math.sqrt(-V),' seconds ');"
     ],
     "language": "python",
     "metadata": {},
     "outputs": [
      {
       "output_type": "stream",
       "stream": "stdout",
       "text": [
        "i) Voltage  (V) is   =   -44.33  V \n",
        "i) Square Root of Voltage  (V) is   =   6.66  seconds \n"
       ]
      }
     ],
     "prompt_number": 14
    },
    {
     "cell_type": "heading",
     "level": 2,
     "metadata": {},
     "source": [
      "Example E21 : Pg 70"
     ]
    },
    {
     "cell_type": "code",
     "collapsed": false,
     "input": [
      "                       # EXAMPLE 2-21                PG NO-70\n",
      "import math \n",
      "T=0.05;                    # TIME\n",
      " #  (400*integrate('0','t',0.025,))**2=--0.8333\n",
      " # 100*integrate('0.01','t',0.02,0.02)=-1.738\n",
      "V=(-0.833-1.738*10**-86)/T;\n",
      "print '%s %.2f %s' %('i) Voltage  (V) is   =  ',V,' V ');\n",
      "print '%s %.2f %s' %('i) Square Root of Voltage  (V) is   =  ',math.sqrt(-V),' seconds ');"
     ],
     "language": "python",
     "metadata": {},
     "outputs": [
      {
       "output_type": "stream",
       "stream": "stdout",
       "text": [
        "i) Voltage  (V) is   =   -16.66  V \n",
        "i) Square Root of Voltage  (V) is   =   4.08  seconds \n"
       ]
      }
     ],
     "prompt_number": 15
    },
    {
     "cell_type": "heading",
     "level": 2,
     "metadata": {},
     "source": [
      "Example E22 : Pg 70"
     ]
    },
    {
     "cell_type": "code",
     "collapsed": false,
     "input": [
      "# EXAMPLE 2-22     PG NO-70-71\n",
      "import math \n",
      "A=math.pi/2.;\n",
      "                         # integrate(wt)=math.pi/6\n",
      "Eavg=1./A*(math.pi+math.pi)/6.;\n",
      "print '%s %.2f %s' %('i) Average Energy  (Eavg) is =',Eavg,' Em ');"
     ],
     "language": "python",
     "metadata": {},
     "outputs": [
      {
       "output_type": "stream",
       "stream": "stdout",
       "text": [
        "i) Average Energy  (Eavg) is = 0.67  Em \n"
       ]
      }
     ],
     "prompt_number": 16
    },
    {
     "cell_type": "heading",
     "level": 2,
     "metadata": {},
     "source": [
      "Example E23 : Pg 71"
     ]
    },
    {
     "cell_type": "code",
     "collapsed": false,
     "input": [
      "          # EXAMPLE 2-23     PG NO-71\n",
      "import math \n",
      "A=math.pi/2;\n",
      "                         # [integrate('0',wt,'math.pi/3')]**2=math.pi/9\n",
      "                         # integrate('math.pi/3',wt,'math.pi/2')=math.pi/6;\n",
      "E=1./A*((math.pi/9.)+(math.pi/6.));\n",
      "print '%s %.2f %s' %('i)  Energy  (E) is   =  ',E,'  ');\n",
      "print '%s %.2f' %('ii) Square Energy  (E) is   =  ',math.sqrt(E));\n",
      "FF=(math.sqrt(E)*3.)/2.;\n",
      "print '%s %.2f' %('iii)  FORM FACTOR  (FF) is   =  ',FF);"
     ],
     "language": "python",
     "metadata": {},
     "outputs": [
      {
       "output_type": "stream",
       "stream": "stdout",
       "text": [
        "i)  Energy  (E) is   =   0.56   \n",
        "ii) Square Energy  (E) is   =   0.75\n",
        "iii)  FORM FACTOR  (FF) is   =   1.12\n"
       ]
      }
     ],
     "prompt_number": 17
    },
    {
     "cell_type": "heading",
     "level": 2,
     "metadata": {},
     "source": [
      "Example E24 : Pg 71"
     ]
    },
    {
     "cell_type": "code",
     "collapsed": false,
     "input": [
      "                # EXAMPLE 2-24   PG NO 71\n",
      "# integration of   is=1008sinQ**2=0.5\n",
      "import math \n",
      "I=150.;                    # CURRENT\n",
      "print '%s %.2f %s' %('i)  CURRENT  (I**2) is   =  ',I,' A ');\n",
      "print '%s %.2f %s' %('ii)  CURRENT  (I) is   =  ',math.sqrt(I),' A ');"
     ],
     "language": "python",
     "metadata": {},
     "outputs": [
      {
       "output_type": "stream",
       "stream": "stdout",
       "text": [
        "i)  CURRENT  (I**2) is   =   150.00  A \n",
        "ii)  CURRENT  (I) is   =   12.25  A \n"
       ]
      }
     ],
     "prompt_number": 18
    },
    {
     "cell_type": "heading",
     "level": 2,
     "metadata": {},
     "source": [
      "Example E25 : Pg 72"
     ]
    },
    {
     "cell_type": "code",
     "collapsed": false,
     "input": [
      "                  # EXAMPLE 2-25  PG NO-72\n",
      "V1=50.+1j*0;\n",
      "V2=37.5-1j*64.95;\n",
      "X=V1+V2;              # ADDITION  OF V1&V2\n",
      "print 'ii)   ADDITION (X) is  in polar form  =  ',X,'  V '"
     ],
     "language": "python",
     "metadata": {},
     "outputs": [
      {
       "output_type": "stream",
       "stream": "stdout",
       "text": [
        "ii)   ADDITION (X) is  in polar form  =   (87.5-64.95j)   V \n"
       ]
      }
     ],
     "prompt_number": 19
    },
    {
     "cell_type": "heading",
     "level": 2,
     "metadata": {},
     "source": [
      "Example E26 : Pg 72"
     ]
    },
    {
     "cell_type": "code",
     "collapsed": false,
     "input": [
      "                       # EXAMPLE 2-26       PG NO-72\n",
      "import math \n",
      "V=200.;\n",
      "R=100.;\n",
      "R1=500.;\n",
      "R2=0.9009;                      # resistance\n",
      "RMS1=V/(R+R);                      # RMS\n",
      "print '%s %.2f %s' %('ii)   CURRENT R.M.S  in forward (R.M.S.1) is    =  ',RMS1,'  A ');\n",
      "RMS2=-V/(R+R1);\n",
      "print '%s %.2f %s' %('ii)   CURRENT R.M.S  in Backward (R.M.S.2) is    =  ',RMS2,'  A ');\n",
      "I1=RMS1*R2;                            # Current\n",
      "print '%s %.2f %s' %('ii)  Average CURRENT   in forward (I1) is    =  ',I1,'  A ');\n",
      "I2=RMS2*R2;\n",
      "print '%s %.2f %s' %('ii) Average  CURRENT   in Backward (I2) is    =  ',I2,'  A ');\n",
      "A=(I1+I2)/2;                         # Ammeter\n",
      "print '%s %.2f %s' %('ii)   Reading of moving coil ammeter (A) is    =  ',A,'  A ');\n",
      "HA=(0.5*(RMS1+(RMS2)**2))**0.5;                   # HOT AMMETER\n",
      "print '%s %.2f %s' %('ii)   Reading of hot wire ammeter (H.A) is    =  ',HA,'  A ');\n",
      "P=0.5*((RMS1*V)+(RMS2*RMS2*600));                      # POWER\n",
      "print '%s %.2f %s' %('ii)   TOTAL AVERAGE POWER (P) is    =  ',P,'  W ');\n",
      "P1=0.5*((RMS1*R)+(RMS2*RMS2*R1));\n",
      "print '%s %.2f %s' %('ii)   TOTAL  POWER  dissipated in rectifier (P) is    =  ',P1,'  W ');"
     ],
     "language": "python",
     "metadata": {},
     "outputs": [
      {
       "output_type": "stream",
       "stream": "stdout",
       "text": [
        "ii)   CURRENT R.M.S  in forward (R.M.S.1) is    =   1.00   A \n",
        "ii)   CURRENT R.M.S  in Backward (R.M.S.2) is    =   -0.33   A \n",
        "ii)  Average CURRENT   in forward (I1) is    =   0.90   A \n",
        "ii) Average  CURRENT   in Backward (I2) is    =   -0.30   A \n",
        "ii)   Reading of moving coil ammeter (A) is    =   0.30   A \n",
        "ii)   Reading of hot wire ammeter (H.A) is    =   0.75   A \n",
        "ii)   TOTAL AVERAGE POWER (P) is    =   133.33   W \n",
        "ii)   TOTAL  POWER  dissipated in rectifier (P) is    =   77.78   W \n"
       ]
      }
     ],
     "prompt_number": 20
    },
    {
     "cell_type": "heading",
     "level": 2,
     "metadata": {},
     "source": [
      "Example E27 : Pg 74"
     ]
    },
    {
     "cell_type": "code",
     "collapsed": false,
     "input": [
      "       # EXAMPLE 2-27  PG NO 74\n",
      "import math \n",
      "F=50.\n",
      "V=230.;           # voltage\n",
      "R=20.;            # resisance\n",
      "I=V/R;           # current\n",
      "P=V*I;           # power\n",
      "Im=I*1.414;         # Maximum current\n",
      "W=2.*math.pi*F;\n",
      "print '%s %.2f %s' %(' current  is    = ',I,' A');\n",
      "print '%s %.2f %s' %(' POWER  is    = ',P,' W');\n",
      "print '%s %.2f %s' %(' MAXIMUM CURENT is    = ',Im,' A');\n",
      "print '%s %.2f %s' %(' W  is    = ',W,' ');"
     ],
     "language": "python",
     "metadata": {},
     "outputs": [
      {
       "output_type": "stream",
       "stream": "stdout",
       "text": [
        " current  is    =  11.50  A\n",
        " POWER  is    =  2645.00  W\n",
        " MAXIMUM CURENT is    =  16.26  A\n",
        " W  is    =  314.16  \n"
       ]
      }
     ],
     "prompt_number": 21
    },
    {
     "cell_type": "heading",
     "level": 2,
     "metadata": {},
     "source": [
      "Example E28 : Pg 76"
     ]
    },
    {
     "cell_type": "code",
     "collapsed": false,
     "input": [
      "    # EXAMPLE 2-28  PG NO-76\n",
      "import math \n",
      "F=50.;   # Frequency\n",
      "L=0.2;  # inductance\n",
      "XL1=500.;\n",
      "XL=(2*math.pi*F*L);          \n",
      "f=XL1/(2.*math.pi*L);                 # FREQUENCY\n",
      "print '%s %.2f %s' %(' XL  is    = ',XL,' ohms');\n",
      "print '%s %.2f %s' %(' frequency  is    = ',f,' Hz');"
     ],
     "language": "python",
     "metadata": {},
     "outputs": [
      {
       "output_type": "stream",
       "stream": "stdout",
       "text": [
        " XL  is    =  62.83  ohms\n",
        " frequency  is    =  397.89  Hz\n"
       ]
      }
     ],
     "prompt_number": 22
    },
    {
     "cell_type": "heading",
     "level": 2,
     "metadata": {},
     "source": [
      "Example E29 : Pg 77"
     ]
    },
    {
     "cell_type": "code",
     "collapsed": false,
     "input": [
      "      # EXAMPLE 2-29  PG NO=77-78\n",
      "import math \n",
      "V=230.;\n",
      "F=50.;       # Frequency\n",
      "C=10.*10.**-6.;    # Capacitor\n",
      "Xc=1./(math.pi*2.*F*C);\n",
      "Bc=1./Xc;\n",
      "I=V/Xc;                       # susceptance  current\n",
      "print '%s %.2f %s'%(' Xc  is    = ',Xc,' ohms');\n",
      "print '%s %.2e %s'%(' Bc  is    = ',Bc,' siemens');\n",
      "print '%s %.2f %s'%(' Current  is    = ',I,' A');"
     ],
     "language": "python",
     "metadata": {},
     "outputs": [
      {
       "output_type": "stream",
       "stream": "stdout",
       "text": [
        " Xc  is    =  318.31  ohms\n",
        " Bc  is    =  3.14e-03  siemens\n",
        " Current  is    =  0.72  A\n"
       ]
      }
     ],
     "prompt_number": 23
    },
    {
     "cell_type": "heading",
     "level": 2,
     "metadata": {},
     "source": [
      "Example E30 : Pg 81"
     ]
    },
    {
     "cell_type": "code",
     "collapsed": false,
     "input": [
      "                         # EXAMPLE 2-30     PG NO-81-82\n",
      "from math import pi,cos,sin\n",
      "V=230.+1j*0;\n",
      "F=50.;\n",
      "L=0.03;\n",
      "R=20.;\n",
      "XL=2.*pi*F*L;\n",
      "print'i)   INDUCTANCE (XL) is  in polar form  =  ',XL,'  ohm '\n",
      "Z=R+1j*XL;\n",
      "print'ii)   IMPEDANCE (Z) is  in polar form  =  ',Z,'  ohm '\n",
      "Y=1/Z;\n",
      "print'iii)  ADMITTANCE (Y) is  in polar form  =  ',Y,'  siemens '\n",
      "I=V/Z;\n",
      "print'iv)   CURRENT (I) is in polar form   =  ',I,'A '\n",
      "Vr=I*R;\n",
      "print'v)   VOLTAGE (Vr) is  in polar form  =  ',Vr,'  V '\n",
      "VL=1j*XL*I\n",
      "print'vi)   VOLTAGE (VL) is  in polar form  =  ',VL,'  V '\n",
      "Q=25.23;                     # TETA\n",
      "PF=cos(Q);\n",
      "print'vi)   POWER FACTOR (PF) is    =  ',PF,' lagging '\n",
      "P=V*I*cos(Q);       # ACTIVE POWER\n",
      "print'vi)   ACTIVE POWER (P) is  in polar form  =  ',P,'  W '\n",
      "q=V*I*sin(Q)\n",
      "print'vi)   REACTIVE POWER (q) is  in polar form  =  ',q,'  W '\n",
      "S=230*10.4;\n",
      "print'vi)   APPARENT POWER (S) is  in polar form  =  ',S,'  VA '"
     ],
     "language": "python",
     "metadata": {},
     "outputs": [
      {
       "output_type": "stream",
       "stream": "stdout",
       "text": [
        "i)   INDUCTANCE (XL) is  in polar form  =   9.42477796077   ohm \n",
        "ii)   IMPEDANCE (Z) is  in polar form  =   (20+9.42477796077j)   ohm \n",
        "iii)  ADMITTANCE (Y) is  in polar form  =   (0.0409143171878-0.0192804177456j)   siemens \n",
        "iv)   CURRENT (I) is in polar form   =   (9.4102929532-4.43449608149j) A \n",
        "v)   VOLTAGE (Vr) is  in polar form  =   (188.205859064-88.6899216297j)   V \n",
        "vi)   VOLTAGE (VL) is  in polar form  =   (41.7941409359+88.6899216297j)   V \n",
        "vi)   POWER FACTOR (PF) is    =   0.995274092769  lagging \n",
        "vi)   ACTIVE POWER (P) is  in polar form  =   (2154.13877979-1015.11398481j)   W \n",
        "vi)   REACTIVE POWER (q) is  in polar form  =   (210.172000308-99.0412218237j)   W \n",
        "vi)   APPARENT POWER (S) is  in polar form  =   2392.0   VA \n"
       ]
      }
     ],
     "prompt_number": 24
    },
    {
     "cell_type": "heading",
     "level": 2,
     "metadata": {},
     "source": [
      "Example E31 : Pg 82"
     ]
    },
    {
     "cell_type": "code",
     "collapsed": false,
     "input": [
      "           # EXAMPLE 2-31  PG NO=82\n",
      "Z1=20.15+1j*15.18;\n",
      "Z2=6.99+1j*17.29;\n",
      "Z=Z1+Z2;                  # impedance\n",
      "V=230+1j*0;\n",
      "I=V/Z;                     # Current\n",
      "PF=0.64;                        # Power   Factotr\n",
      "S=V*I;                            # Apparent Power\n",
      "P=S*PF;                             # Active Power\n",
      "print' Impedanceis in rectangular form   = ',Z,' ohm'\n",
      "print' current  is in rectangular form   = ',I,' A'\n",
      "print' S  is in rectangular form         = ',S,'VA'\n",
      "print' POWER  is in rectangular form     = ',P,'W'"
     ],
     "language": "python",
     "metadata": {},
     "outputs": [
      {
       "output_type": "stream",
       "stream": "stdout",
       "text": [
        " Impedanceis in rectangular form   =  (27.14+32.47j)  ohm\n",
        " current  is in rectangular form   =  (3.4855480307-4.17007164911j)  A\n",
        " S  is in rectangular form         =  (801.676047062-959.116479296j) VA\n",
        " POWER  is in rectangular form     =  (513.07267012-613.834546749j) W\n"
       ]
      }
     ],
     "prompt_number": 25
    },
    {
     "cell_type": "heading",
     "level": 2,
     "metadata": {},
     "source": [
      "Example E32 : Pg 83"
     ]
    },
    {
     "cell_type": "code",
     "collapsed": false,
     "input": [
      "  # EXAMPLE 2-32    PG NO-83\n",
      "cos30=0.866;\n",
      "sin30=0.5;\n",
      "E1=141.42+1j*0;\n",
      "E2=144.566+1j*11.976;\n",
      "V=E1+141.42*(cos30 * sin30 );\n",
      "print'1) Voltage  is in rectangular form   = ',V,'W'\n",
      "Z=8+1j*6;          # IMPEDANCE\n",
      "I=V/Z;\n",
      "print'1) Current is in rectangular form    = ',I,'A'\n",
      "P=I*V*0.743;\n",
      "print' POWER  is in rectangular form       = ',P,'W'"
     ],
     "language": "python",
     "metadata": {},
     "outputs": [
      {
       "output_type": "stream",
       "stream": "stdout",
       "text": [
        "1) Voltage  is in rectangular form   =  (202.65486+0j) W\n",
        "1) Current is in rectangular form    =  (16.2123888-12.1592916j) A\n",
        " POWER  is in rectangular form       =  (2441.14090122-1830.85567591j) W\n"
       ]
      }
     ],
     "prompt_number": 26
    },
    {
     "cell_type": "heading",
     "level": 2,
     "metadata": {},
     "source": [
      "Example E33 : Pg 84"
     ]
    },
    {
     "cell_type": "code",
     "collapsed": false,
     "input": [
      "                      # EXAMPLE 2-33     PG NO-84-85\n",
      "from math import pi\n",
      "V=230.+1j*0;                  # Voltage\n",
      "F=50.;                     # Frequency\n",
      "C=10.**-4.;                   # Capacitor\n",
      "R=10.;                   # Resistance\n",
      "XC=1./(2.*pi*F*C);               # Capacitor\n",
      "print'i)   CAPACITOR (XC) is  in polar form  =  ',XC,'ohm '\n",
      "Z=R-1j*XC;                          # Impedance\n",
      "print'ii)   IMPEDANCE (Z) is  in polar form  =  ',Z,'  ohm '\n",
      "Y=1/Z;                           # Admittance\n",
      "print'iii)  ADMITTANCE (Y) is  in polar form  =  ',Y,'  siemens '\n",
      "I=V/Z;                            # current\n",
      "print'iv)   CURRENT (I) is in polar form   =  ',I,'  A '\n",
      "Vr=I*R;                         #  Voltage\n",
      "print'v)   VOLTAGE (Vr) is  in polar form  =  ',Vr,'  V '\n",
      "VC=1j*XC*I              # Voltage\n",
      "print'vi)   VOLTAGE (VL) is  in polar form  =  ',VC,'V'"
     ],
     "language": "python",
     "metadata": {},
     "outputs": [
      {
       "output_type": "stream",
       "stream": "stdout",
       "text": [
        "i)   CAPACITOR (XC) is  in polar form  =   31.8309886184 ohm \n",
        "ii)   IMPEDANCE (Z) is  in polar form  =   (10-31.8309886184j)   ohm \n",
        "iii)  ADMITTANCE (Y) is  in polar form  =   (0.00898301623537+0.0285938287547j)   siemens \n",
        "iv)   CURRENT (I) is in polar form   =   (2.06609373414+6.57658061358j)   A \n",
        "v)   VOLTAGE (Vr) is  in polar form  =   (20.6609373414+65.7658061358j)   V \n",
        "vi)   VOLTAGE (VL) is  in polar form  =   (-209.339062659+65.7658061358j) V\n"
       ]
      }
     ],
     "prompt_number": 27
    },
    {
     "cell_type": "heading",
     "level": 2,
     "metadata": {},
     "source": [
      "Example E34 : Pg 85"
     ]
    },
    {
     "cell_type": "code",
     "collapsed": false,
     "input": [
      "                       # EXAMPLE 2-34          PG NO-85\n",
      "V=80.+1j*60;                  # voltage\n",
      "I=-4.+1j*10;              # current\n",
      "Z=V/I;               # Impedance\n",
      "PF=0.26;                    # power factor\n",
      "P=V*I*PF;           # Power\n",
      "print' IMPEDANCE   is in rectangular form = ',Z,'ohm'\n",
      "print' POWER  is in rectangular form      = ',P,' W'"
     ],
     "language": "python",
     "metadata": {},
     "outputs": [
      {
       "output_type": "stream",
       "stream": "stdout",
       "text": [
        " IMPEDANCE   is in rectangular form =  (2.41379310345-8.96551724138j) ohm\n",
        " POWER  is in rectangular form      =  (-239.2+145.6j)  W\n"
       ]
      }
     ],
     "prompt_number": 28
    },
    {
     "cell_type": "heading",
     "level": 2,
     "metadata": {},
     "source": [
      "Example E : Pg 86"
     ]
    },
    {
     "cell_type": "code",
     "collapsed": false,
     "input": [
      "                        # EXAMPLE-2-35          PG NO-86\n",
      "from math import pi,sqrt\n",
      "Vr=100.;                  # VOLTAGE\n",
      "P=300.;                 # POWER\n",
      "I=P/Vr;                # CURRENT\n",
      "V=240.;                 # voltage\n",
      "F=50.;                 # frequency\n",
      "Z=V/I;                   # IMPEDANCE\n",
      "R=Vr/I;\n",
      "Xc=(Z**2.-R**2.)**0.5;\n",
      "C=1./(2.*F*pi*Xc);         # CAPACITOR\n",
      "Vc=((V*V)-(Vr*Vr))**0.5;\n",
      "Vm=sqrt(2.)*Vc;\n",
      "Qm=(sqrt(2.)*Vc)*(C);                 # CHARGE\n",
      "Em=0.5*(Xc*Vm*Vm);         # MAXIMUM ENERGY\n",
      "print'i)   CURRENT (I) is         =  ',round(I,2),'A'\n",
      "print'ii)  IMPEDANCE (Z) is       =  ',round(Z,2),'ohm'\n",
      "print'iii)   RESISTANCE (R) is    =  ',round(R,2),'ohm'\n",
      "print'i)   CAPACITOR (Xc) is      =  ',round(Xc,2),'ohm'\n",
      "print'i)  CAPACITOR (C) is        =  ',round(C,2),'F'\n",
      "print'i)   VOLTAGE (Vc) is        =  ',round(Vc,2),'V'\n",
      "print'i)  MAXIMUM VOLTAGE (Vm) is =  ',round(Vm),'V'\n",
      "print'i)  MAXIMUM CHARGE (Qm) is  =  ',round(Qm,2),'C'\n",
      "print'i)  MAXIMUM ENERGY (Em) is  =  ',round(Em,2),'J'"
     ],
     "language": "python",
     "metadata": {},
     "outputs": [
      {
       "output_type": "stream",
       "stream": "stdout",
       "text": [
        "i)   CURRENT (I) is         =   3.0 A\n",
        "ii)  IMPEDANCE (Z) is       =   80.0 ohm\n",
        "iii)   RESISTANCE (R) is    =   33.33 ohm\n",
        "i)   CAPACITOR (Xc) is      =   72.72 ohm\n",
        "i)  CAPACITOR (C) is        =   0.0 F\n",
        "i)   VOLTAGE (Vc) is        =   218.17 V\n",
        "i)  MAXIMUM VOLTAGE (Vm) is =   309.0 V\n",
        "i)  MAXIMUM CHARGE (Qm) is  =   0.01 C\n",
        "i)  MAXIMUM ENERGY (Em) is  =   3461697.98 J\n"
       ]
      }
     ],
     "prompt_number": 29
    },
    {
     "cell_type": "heading",
     "level": 2,
     "metadata": {},
     "source": [
      "Example E36 : Pg 87"
     ]
    },
    {
     "cell_type": "code",
     "collapsed": false,
     "input": [
      "                   # EXAMPLE 2-36    PG NO-87\n",
      "from math import pi\n",
      "F=50.;             # FREQUENCY\n",
      "L=0.2;            # INDUCTANCE\n",
      "C=150.*10.**-6.;       # CAPACITOR\n",
      "R=20.;\n",
      "V=230.;\n",
      "XL=2.*pi*L*F;\n",
      "print'i)   INDUCTANCE (XL) is    =  ',XL,'  ohm '\n",
      "XC=1./(2.*pi*F*C)\n",
      "print'i)   CAPACITOR (Xc) is    =  ',XC,'  ohm '\n",
      "Z=R+1j*(XL-XC)\n",
      "print'i)   IMPEDANCE (Z) is    in  polar form =  ',Z,'  ohm '\n",
      "I=V/Z;                       # CURRENT\n",
      "print'i)   CURRENT (I) is in polar form   =  ',I,'  ohm '\n",
      "AP=V*I;               # APPARENT POWER\n",
      "print'i)   Apparent Power (AP) is  in polar form  =  ',AP,'  VA '\n",
      "P=V*I*0.433;                   # active power\n",
      "print'i)   ACTIVE POWER (P) is  in  polar form  =  ',P,'  W '\n",
      "Q=V*I*0.9013;                  # Reactive Power\n",
      "print'i)   Reactive Power (Q) is in polar form   =  ',Q,'  vars '"
     ],
     "language": "python",
     "metadata": {},
     "outputs": [
      {
       "output_type": "stream",
       "stream": "stdout",
       "text": [
        "i)   INDUCTANCE (XL) is    =   62.8318530718   ohm \n",
        "i)   CAPACITOR (Xc) is    =   21.2206590789   ohm \n",
        "i)   IMPEDANCE (Z) is    in  polar form =   (20+41.6111939929j)   ohm \n",
        "i)   CURRENT (I) is in polar form   =   (2.15811326221-4.49008348061j)   ohm \n",
        "i)   Apparent Power (AP) is  in polar form  =   (496.366050307-1032.71920054j)   VA \n",
        "i)   ACTIVE POWER (P) is  in  polar form  =   (214.926499783-447.167413834j)   W \n",
        "i)   Reactive Power (Q) is in polar form   =   (447.374721142-930.789815447j)   vars \n"
       ]
      }
     ],
     "prompt_number": 30
    },
    {
     "cell_type": "heading",
     "level": 2,
     "metadata": {},
     "source": [
      "Example E37 : Pg 88"
     ]
    },
    {
     "cell_type": "code",
     "collapsed": false,
     "input": [
      "    # EXAMPLE  2-37    PG  NO-88\n",
      "Xc=4.;\n",
      "XL=6.;\n",
      "R=2.;                      # RESISTANCE\n",
      "v=8.48+1j*30.;\n",
      "Z=R+1j*(XL-Xc);             # IMPEDANCE\n",
      "V=v;\n",
      "I=V/Z;                  # CURRENT\n",
      "VL=1j*I*XL;\n",
      "Vc=-1j*I*Xc;\n",
      "P=V*I*0.707;                # ACTIVE POWER\n",
      "print'i) Active Power   = ',P,'  W'\n",
      "print'ii) Impedance     = ',Z,' ohm'\n",
      "print'iii) Current is   = ',I,' A'\n",
      "print'iv) VL is         = ',VL,' V'\n",
      "print'v)Vc   is         = ',Vc,' V'"
     ],
     "language": "python",
     "metadata": {},
     "outputs": [
      {
       "output_type": "stream",
       "stream": "stdout",
       "text": [
        "i) Active Power   =  (-56.4344368+236.2952368j)   W\n",
        "ii) Impedance     =  (2+2j)  ohm\n",
        "iii) Current is   =  (9.62+5.38j)  A\n",
        "iv) VL is         =  (-32.28+57.72j)  V\n",
        "v)Vc   is         =  (21.52-38.48j)  V\n"
       ]
      }
     ],
     "prompt_number": 31
    },
    {
     "cell_type": "heading",
     "level": 2,
     "metadata": {},
     "source": [
      "Example E38 : Pg 88"
     ]
    },
    {
     "cell_type": "code",
     "collapsed": false,
     "input": [
      "                 # EXAMPLE 2-38      PG N0-88-89\n",
      "Z=12.-1j*5;\n",
      "V=100.;            # VOLTAGE\n",
      "I=V/Z;            # CURRENT\n",
      "print'i)   CURRENT (I) is in polar form   =  ',I,'A'\n",
      "Z1=4.+1j*3;\n",
      "Z2=6.-1j*8;                         # impedance\n",
      "V1=I*Z1;\n",
      "print'i)   voltage (V1) is in polar form   =  ',V1,'  V '\n",
      "V2=I*Z2;                               # voltage\n",
      "print'i)   voltage (V2) is in polar form   =  ',V2,'  V '\n",
      "V3=2.*I;                             # voltage\n",
      "print'i)   voltage (V3) is in polar form   =  ',V3,'  V '\n",
      "P=V*I*0.9230;                         # ACTIVE POWER\n",
      "print'i)   Active Power (P) is in polar form   =  ',P,'  W '"
     ],
     "language": "python",
     "metadata": {},
     "outputs": [
      {
       "output_type": "stream",
       "stream": "stdout",
       "text": [
        "i)   CURRENT (I) is in polar form   =   (7.10059171598+2.95857988166j) A\n",
        "i)   voltage (V1) is in polar form   =   (19.5266272189+33.1360946746j)   V \n",
        "i)   voltage (V2) is in polar form   =   (66.2721893491-39.0532544379j)   V \n",
        "i)   voltage (V3) is in polar form   =   (14.201183432+5.91715976331j)   V \n",
        "i)   Active Power (P) is in polar form   =   (655.384615385+273.076923077j)   W \n"
       ]
      }
     ],
     "prompt_number": 32
    },
    {
     "cell_type": "heading",
     "level": 2,
     "metadata": {},
     "source": [
      "Example E39 : Pg 89"
     ]
    },
    {
     "cell_type": "code",
     "collapsed": false,
     "input": [
      "      # EXAMPLE-2-39    PG NO-89\n",
      "V=7.07;\n",
      "I=4.24;\n",
      "W=500;\n",
      "S=V*I;\n",
      "cosQ=0.6428;\n",
      "sinQ=0.766;\n",
      "P=S*cosQ;                   # ACTIVE POWER\n",
      "Q=S*sinQ;                  # REACTIVE POWER\n",
      "Z=V/I;                    # IMPEDANCE\n",
      "R=Z*cosQ;                # RESISTANCE\n",
      "Xc=Z*sinQ;              # Xc\n",
      "C=1/(W*Xc);            # CAPACITOR\n",
      "P2 =S*(cosQ-1);     # NEGATIVE PEAK  POWER\n",
      "P3 =S*(cosQ+1);   # POSITIVE PEAK POWER\n",
      "P1=(P3 +P2)/2;     #  POWER\n",
      "S1=(P3-P1);                  # apparent power\n",
      "print' S is              = ',round(S,2),' VA'\n",
      "print' ACTIVE POWER  is  = ',round(P,2),' W'\n",
      "print' REACTIVE POWER is = ',round(Q,2),' VAr'\n",
      "print' IMPEDANCE is      = ',round(Z,2),' ohm'\n",
      "print' RESISTANCE is     = ',round(R,2),'ohm '\n",
      "print' Xc is             = ',round(Xc,2),' ohm'\n",
      "print' CAPACITOR is      = ',round(C,2),' F'\n",
      "print' POWER CURVE is    = ',round(P2,2),' W'\n",
      "print' POWER CURVE is    = ',round(P3,2),' W'\n",
      "print' POWER  is         = ',round(P1,2),' W'\n",
      "print' S is              = ',round(S1,2),' VA'"
     ],
     "language": "python",
     "metadata": {},
     "outputs": [
      {
       "output_type": "stream",
       "stream": "stdout",
       "text": [
        " S is              =  29.98  VA\n",
        " ACTIVE POWER  is  =  19.27  W\n",
        " REACTIVE POWER is =  22.96  VAr\n",
        " IMPEDANCE is      =  1.67  ohm\n",
        " RESISTANCE is     =  1.07 ohm \n",
        " Xc is             =  1.28  ohm\n",
        " CAPACITOR is      =  0.0  F\n",
        " POWER CURVE is    =  -10.71  W\n",
        " POWER CURVE is    =  49.25  W\n",
        " POWER  is         =  19.27  W\n",
        " S is              =  29.98  VA\n"
       ]
      }
     ],
     "prompt_number": 33
    },
    {
     "cell_type": "heading",
     "level": 2,
     "metadata": {},
     "source": [
      "Example E40 : Pg 89"
     ]
    },
    {
     "cell_type": "code",
     "collapsed": false,
     "input": [
      "                       # EXAMPLE 2-40      PG NO-89-90\n",
      "V1=52.33-1j*34.15878;\n",
      "Z1=7.5-1j*9.999;        # IMPEDANCE\n",
      "Z2=3.488+1j*12;        # IMPEDANCE\n",
      "Z3=11.99+1j*5;\n",
      "V2=(Z2/Z1)*V1;\n",
      "print'i)   voltage (V2) is in polar form   =  ',V2,'  V '\n",
      "V3=(Z3/Z1)*V1;                         # voltage\n",
      "print'ii)   voltage (V3) is in polar form   =  ',V3,'  V '\n",
      "V=V1+V2+V3;                        # total voltage\n",
      "print'i)   voltage (V) is in polar form   =  ',V,'  V '\n",
      "Z=Z1+Z2+Z3;                   # Total  Impedance\n",
      "print'i)   IMPEDANCE (Z) is in polar form   =  ',Z,'  V '\n",
      "Y=1./Z;                               # Admittance\n",
      "print'i)   Y (Y) is in polar form   =  ',Y,'  ohm '"
     ],
     "language": "python",
     "metadata": {},
     "outputs": [
      {
       "output_type": "stream",
       "stream": "stdout",
       "text": [
        "i)   voltage (V2) is in polar form   =   (-4.12462353773+62.3429419475j)   V \n",
        "ii)   voltage (V3) is in polar form   =   (47.786719967+43.9874187666j)   V \n",
        "i)   voltage (V) is in polar form   =   (95.9920964292+72.1715807141j)   V \n",
        "i)   IMPEDANCE (Z) is in polar form   =   (22.978+7.001j)   V \n",
        "i)   Y (Y) is in polar form   =   (0.0398230520619-0.0121333966179j)   ohm \n"
       ]
      }
     ],
     "prompt_number": 34
    },
    {
     "cell_type": "heading",
     "level": 2,
     "metadata": {},
     "source": [
      "Example E41 : Pg 90"
     ]
    },
    {
     "cell_type": "code",
     "collapsed": false,
     "input": [
      "      # EXAMPLE 2-41   PG NO-90\n",
      "import math \n",
      "F1=50.;                        # frequency\n",
      "W=(2.*math.pi*F1);\n",
      "L=1.;                          # inductar\n",
      "C=10.**-6.;                        # capacitor\n",
      "XL1=W*L;\n",
      "Xc1=1./(W*C);\n",
      "Z1=XL1-Xc1;\n",
      "F2=1000.;\n",
      "XL2=(2.*math.pi*F2*L);\n",
      "Xc2=1./(2.*math.pi*F2*C);\n",
      "Z2=(XL2-Xc2);               # impedance\n",
      "print' IMPEDANCE(Z1) is = ',round(Z1,2),'ohm'\n",
      "print' IMPEDANCE(Z2) is = ',round(Z2,2),'ohm'\n",
      "print' XL1 is = ',round(XL1,2),'ohm'\n",
      "print' Xc1 is = ',round(Xc1,2),'ohm'\n",
      "print' XL2 is = ',round(XL2,2),'ohm'\n",
      "print' Xc2 is = ',round(Xc2,2),'ohm'"
     ],
     "language": "python",
     "metadata": {},
     "outputs": [
      {
       "output_type": "stream",
       "stream": "stdout",
       "text": [
        " IMPEDANCE(Z1) is =  -2868.94 ohm\n",
        " IMPEDANCE(Z2) is =  6124.03 ohm\n",
        " XL1 is =  314.16 ohm\n",
        " Xc1 is =  3183.1 ohm\n",
        " XL2 is =  6283.19 ohm\n",
        " Xc2 is =  159.15 ohm\n"
       ]
      }
     ],
     "prompt_number": 35
    },
    {
     "cell_type": "heading",
     "level": 2,
     "metadata": {},
     "source": [
      "Example E42 : Pg 90"
     ]
    },
    {
     "cell_type": "code",
     "collapsed": false,
     "input": [
      "  # EXAMPLE 2-42    PG NO-90\n",
      "import math \n",
      "F=50.;                     # frequency\n",
      "C=100.*10.**-6.;                # capacitor\n",
      "W=(2.*math.pi*F);\n",
      "Xc=1./(W*C);\n",
      "R=19.1;               # resistance\n",
      "XL=25.46;\n",
      "L=XL/(2.*math.pi*F);                 # inductance\n",
      "print' Xc is         = ',round(Xc,2),'ohms'\n",
      "print' INDUCTANCE is = ',round(L,2),'H'"
     ],
     "language": "python",
     "metadata": {},
     "outputs": [
      {
       "output_type": "stream",
       "stream": "stdout",
       "text": [
        " Xc is         =  31.83 ohms\n",
        " INDUCTANCE is =  0.08 H\n"
       ]
      }
     ],
     "prompt_number": 36
    },
    {
     "cell_type": "heading",
     "level": 2,
     "metadata": {},
     "source": [
      "Example E43 : Pg 91"
     ]
    },
    {
     "cell_type": "code",
     "collapsed": false,
     "input": [
      "                         # EXAMPLE 2-43        PG NO-91\n",
      "R1=6.;           # RESISTANCE\n",
      "R2=3.;           # RESISTANCE\n",
      "R3=8.;           # RESISTANCE\n",
      "Z1=7.;             # IMPEDANCE\n",
      "Z2=5.;             # IMPEDANCE\n",
      "Z3=10.;            # IMPEDANCE\n",
      "V=7.;\n",
      "I=1.;\n",
      "PF1=R1/Z1;        # POWER FACTOR\n",
      "print'i)   Power Factor (PF1) is       =  ',round(PF1,2)\n",
      "PD1=V*I*0.857;      # POWER dissipated\n",
      "print'i)   Power Dissipated (PD1) is   =  ',round(PD1,2),'W'\n",
      "PF2=R2/Z2;\n",
      "print'iii)   Power Factor (PF2) is     =  ',round(PF2,2),'W'\n",
      "PD2=Z2*PF2;\n",
      "print'i)   Power Dissipated (PD2) is   =  ',round(PD2,2),'W'\n",
      "PF3=R3/Z3;\n",
      "print'iii)   Power Factor (PF3) is     =  ',round(PF3,2),'W'\n",
      "PD3=Z3*PF3;\n",
      "print'i)   Power Dissipated (PD3) is   =  ',round(PD3,2),'  W '\n",
      "A=(Z1**2-R1**2)**0.5;\n",
      "print'i)   REACTANCE OF COIL (A) is    =  ',round(A,2),'  ohm '\n",
      "B=(Z2**2-R2**2)**0.5;\n",
      "print'i)   REACTANCE OF COIL (B) is    =  ',round(B,2),'  ohm '\n",
      "C=(Z3**2-R3**2)**0.5;\n",
      "print'i)   REACTANCE OF COIL (C) is    =  ',round(C,2),'  ohm '\n",
      "TR=R1+R2+R3;                                              # TOTAL  RESISTANCE\n",
      "print'i)   TOTAL RESISTANCE (TR) is    =  ',round(TR,2),'  ohm '\n",
      "TRC=A+B+C;                                               # TOTAL RACTANCE\n",
      "print'i)   TOTAL REACTANCE (TRC) is    =  ',round(TRC,2),'  ohm '\n",
      "TI=(TR**2+TRC**2)**0.5;                                    # TOTAL  IMPEADNCE\n",
      "print'i)   TOTAL IMPEDANCE (TI) is     =  ',round(TI,2),'ohm'     \n",
      "PF=TR/TI;# POWER FACTOR \n",
      "print'i)   POWER FACTOR (PF) is        =  ',round(PF,2),'lagging'"
     ],
     "language": "python",
     "metadata": {},
     "outputs": [
      {
       "output_type": "stream",
       "stream": "stdout",
       "text": [
        "i)   Power Factor (PF1) is       =   0.86\n",
        "i)   Power Dissipated (PD1) is   =   6.0 W\n",
        "iii)   Power Factor (PF2) is     =   0.6 W\n",
        "i)   Power Dissipated (PD2) is   =   3.0 W\n",
        "iii)   Power Factor (PF3) is     =   0.8 W\n",
        "i)   Power Dissipated (PD3) is   =   8.0   W \n",
        "i)   REACTANCE OF COIL (A) is    =   3.61   ohm \n",
        "i)   REACTANCE OF COIL (B) is    =   4.0   ohm \n",
        "i)   REACTANCE OF COIL (C) is    =   6.0   ohm \n",
        "i)   TOTAL RESISTANCE (TR) is    =   17.0   ohm \n",
        "i)   TOTAL REACTANCE (TRC) is    =   13.61   ohm \n",
        "i)   TOTAL IMPEDANCE (TI) is     =   21.77 ohm\n",
        "i)   POWER FACTOR (PF) is        =   0.78 lagging\n"
       ]
      }
     ],
     "prompt_number": 37
    },
    {
     "cell_type": "heading",
     "level": 2,
     "metadata": {},
     "source": [
      "Example E44 : Pg 91"
     ]
    },
    {
     "cell_type": "code",
     "collapsed": false,
     "input": [
      "                        # EXAMPLE    2-44       PG NO 91-92\n",
      "import math \n",
      "R=20.;                       # Resistance\n",
      "V=125.;                      # VOLTAGE\n",
      "I=2.2;                       # CURRENT\n",
      "Z=V/I;                       # IMPEDANCE\n",
      "print'i) Impedance is  = ',round(Z,2)\n",
      "F=50.;            # FREQUENCY\n",
      "XC=53.18\n",
      "C=1./(2.*math.pi*F*XC);                      # CAPACITANCE\n",
      "print'ii) Capacitor is = ',round(C,2),'F'"
     ],
     "language": "python",
     "metadata": {},
     "outputs": [
      {
       "output_type": "stream",
       "stream": "stdout",
       "text": [
        "i) Impedance is  =  56.82\n",
        "ii) Capacitor is =  0.0 F\n"
       ]
      }
     ],
     "prompt_number": 38
    },
    {
     "cell_type": "heading",
     "level": 2,
     "metadata": {},
     "source": [
      "Example E45 : Pg 92"
     ]
    },
    {
     "cell_type": "code",
     "collapsed": false,
     "input": [
      "    # EXAMPLE 2-45  PG NO-92\n",
      "import math \n",
      "I=10.;                    # CURRENT \n",
      "R=5.;                    # RESISTANCE\n",
      "P=I*I*R;               # POWER\n",
      "IL=250.;                # IRON LOSS\n",
      "Z=20.;\n",
      "r=5.;\n",
      "F=50.;\n",
      "W=2.*math.pi*F;\n",
      "p1=750.;\n",
      "v=200.;                       # voltage\n",
      "L=(Z*Z-r*r)**0.5/W;             # iductance\n",
      "cosQ=p1/(v*I);\n",
      "print' power is      = ',round(P,2),'W'\n",
      "print' inductance is = ',round(L,2),'H'\n",
      "print' cos Q is      = ',round(cosQ,2),'lagging'"
     ],
     "language": "python",
     "metadata": {},
     "outputs": [
      {
       "output_type": "stream",
       "stream": "stdout",
       "text": [
        " power is      =  500.0 W\n",
        " inductance is =  0.06 H\n",
        " cos Q is      =  0.38 lagging\n"
       ]
      }
     ],
     "prompt_number": 39
    },
    {
     "cell_type": "heading",
     "level": 2,
     "metadata": {},
     "source": [
      "Example E46 : Pg 92"
     ]
    },
    {
     "cell_type": "code",
     "collapsed": false,
     "input": [
      "                # Example  2-46    PG NO-92\n",
      "from math import sin,pi,sqrt \n",
      "Z=50.+1j*49.95;                # IMPEDANCE\n",
      "V=283.;                      # VOLTAGE    \n",
      "T=1.;              # ASSUMING\n",
      "i=(V/70.675)*(sin(100.*pi-44.97));\n",
      "print'i)   Current (i) is  in polar form  = ',i,'A'\n",
      "P=(V/sqrt(2))*(4/sqrt(2.))*(0.707);\n",
      "print'ii)   POWER (P) is                  =  ',P,'W'"
     ],
     "language": "python",
     "metadata": {},
     "outputs": [
      {
       "output_type": "stream",
       "stream": "stdout",
       "text": [
        "i)   Current (i) is  in polar form  =  -3.3425967922 A\n",
        "ii)   POWER (P) is                  =   400.162 W\n"
       ]
      }
     ],
     "prompt_number": 40
    },
    {
     "cell_type": "heading",
     "level": 2,
     "metadata": {},
     "source": [
      "Example E47 : Pg 92"
     ]
    },
    {
     "cell_type": "code",
     "collapsed": false,
     "input": [
      "                        # EXAMPLE 2-47   PG NO 92\n",
      "import math \n",
      "V=100./math.sqrt(2.);                # VOLTAGE\n",
      "F=100.;                      # FREQUENCY\n",
      "L=0.018;                    # INDUCTANCE\n",
      "XL=2.*math.pi*F*L;\n",
      "print'i)   INDUCTANCE (XL) is  in polar form  =  ',XL,'ohm'\n",
      "I=V/((11.3+1j*11.3));# current\n",
      "print'ii)   CURRENT (I) is  in polar form  =  ',I,'A'\n",
      "VR=I*10.;                                   # voltage\n",
      "print'i)   Voltage Across Resister (VR) is    =  ',VR,'V'"
     ],
     "language": "python",
     "metadata": {},
     "outputs": [
      {
       "output_type": "stream",
       "stream": "stdout",
       "text": [
        "i)   INDUCTANCE (XL) is  in polar form  =   11.3097335529 ohm\n",
        "ii)   CURRENT (I) is  in polar form  =   (3.1287910672-3.1287910672j) A\n",
        "i)   Voltage Across Resister (VR) is    =   (31.287910672-31.287910672j) V\n"
       ]
      }
     ],
     "prompt_number": 41
    },
    {
     "cell_type": "heading",
     "level": 2,
     "metadata": {},
     "source": [
      "Example E49 : Pg 93"
     ]
    },
    {
     "cell_type": "code",
     "collapsed": false,
     "input": [
      "     # EXAMPLE 2-49   PG NO-93\n",
      "import math \n",
      "K=0.35;     # CONSTANT\n",
      "L1=0.1;       # INDUCTANCE\n",
      "L2=0.2;     # INDUCTANCE\n",
      "M=K*(L1*L2)**0.5;\n",
      "V=125.;        # VOLTAGE\n",
      "F=50.;        # FREQUENCY\n",
      "L=0.2;     #   TOTAL INDUCTANCE\n",
      "I=V/(2.*math.pi*F*L);      # CURRENT\n",
      "print' M is       = ',round(M,2),'H'\n",
      "print' current is = ',round(I,2),'A'"
     ],
     "language": "python",
     "metadata": {},
     "outputs": [
      {
       "output_type": "stream",
       "stream": "stdout",
       "text": [
        " M is       =  0.05 H\n",
        " current is =  1.99 A\n"
       ]
      }
     ],
     "prompt_number": 42
    },
    {
     "cell_type": "heading",
     "level": 2,
     "metadata": {},
     "source": [
      "Example E51 : Pg 94"
     ]
    },
    {
     "cell_type": "code",
     "collapsed": false,
     "input": [
      "                # example 2-51        pg no-94\n",
      "import math \n",
      "V=230.+1j*0;                  # VOLTAGE\n",
      "F=50.;                       # FREQUENCY\n",
      "C=10.**-4.;                   # CAPACITOR\n",
      "R=10.;                      # RESISTANCE\n",
      "#cos(72.56)=0.299;\n",
      "XC=1./(2.*math.pi*F*C);\n",
      "print'i)   INDUCTANCE (XC) is                             =  ',XC,'ohm'\n",
      "Z=R-1j*XC;                       # impedance\n",
      "print'i)   IMPEDANCE (Z) is  in rectangular form          =  ',Z,'ohm'\n",
      "Y=1/Z;                        # admittance\n",
      "print'i)   ADMITTANCE (Y) is  in rectangular form         =  ',Y,'ohm'\n",
      "I=V/Z;                      # CURRENT\n",
      "print'i)    CURRENT (I) is  in rectangular form           =  ',I,'A'\n",
      "PF=0.299;         # POWER FACTOR\n",
      "print'i)   POWER FACTOR (PF) is                           =  ',PF,'leading'\n",
      "S=V*I;             # APPARENT  POWER\n",
      "print'i)   APPARENT POWER (S) is  IN rectangular FORM     =  ',S,'VA'\n",
      "P=V*I*0.3;               # ACTIVE    POWER\n",
      "print'i)   ACTIVE POWER (P) is in   rectangular form      =  ',P,'W'\n",
      "Q=V*I*-0.1315;          # REACTIVE POWER\n",
      "print'i)   REACTIVE POWER (Q) is    in rectangular form   =  ',Q,'vars'\n",
      "Vr=I*R;\n",
      "print'i)   VOLTAGE (Vr) is  in rectangular form           =  ',Vr,'V'\n",
      "Vc=-1j*I*XC;\n",
      "print'i)   VOLTAGE (Vc) is                                =  ',Vc,'V'"
     ],
     "language": "python",
     "metadata": {},
     "outputs": [
      {
       "output_type": "stream",
       "stream": "stdout",
       "text": [
        "i)   INDUCTANCE (XC) is                             =   31.8309886184 ohm\n",
        "i)   IMPEDANCE (Z) is  in rectangular form          =   (10-31.8309886184j) ohm\n",
        "i)   ADMITTANCE (Y) is  in rectangular form         =   (0.00898301623537+0.0285938287547j) ohm\n",
        "i)    CURRENT (I) is  in rectangular form           =   (2.06609373414+6.57658061358j) A\n",
        "i)   POWER FACTOR (PF) is                           =   0.299 leading\n",
        "i)   APPARENT POWER (S) is  IN rectangular FORM     =   (475.201558851+1512.61354112j) VA\n",
        "i)   ACTIVE POWER (P) is in   rectangular form      =   (142.560467655+453.784062337j) W\n",
        "i)   REACTIVE POWER (Q) is    in rectangular form   =   (-62.4890049889-198.908680658j) vars\n",
        "i)   VOLTAGE (Vr) is  in rectangular form           =   (20.6609373414+65.7658061358j) V\n",
        "i)   VOLTAGE (Vc) is                                =   (209.339062659-65.7658061358j) V\n"
       ]
      }
     ],
     "prompt_number": 43
    },
    {
     "cell_type": "heading",
     "level": 2,
     "metadata": {},
     "source": [
      "Example E52 : Pg 96"
     ]
    },
    {
     "cell_type": "code",
     "collapsed": false,
     "input": [
      "#    EXAMPLE 2-52    PG  NO-96\n",
      "W=1000.;\n",
      "L=0.02;\n",
      "XL=W*L;\n",
      "Z=4.85;\n",
      "V=(100./1.414);\n",
      "I=(20.62/1.414);\n",
      "#cos(14.06)=0.97;   #  \n",
      "P=V*I*0.97;\n",
      "z=1.18;\n",
      "Leq=z/W;\n",
      "print' XL is    = ',round(XL,2),'ohms'\n",
      "print' POWER is = ',round(P,2),'W'   \n",
      "print' Leq is   = ',round(Leq,2),'H'"
     ],
     "language": "python",
     "metadata": {},
     "outputs": [
      {
       "output_type": "stream",
       "stream": "stdout",
       "text": [
        " XL is    =  20.0 ohms\n",
        " POWER is =  1000.37 W\n",
        " Leq is   =  0.0 H\n"
       ]
      }
     ],
     "prompt_number": 44
    },
    {
     "cell_type": "heading",
     "level": 2,
     "metadata": {},
     "source": [
      "Example E53 : Pg 97"
     ]
    },
    {
     "cell_type": "code",
     "collapsed": false,
     "input": [
      "               # EXAMPLE 2-53   PG NO=97\n",
      "import math \n",
      "R=15.;               # RESISTANCE\n",
      "V=240+1j*0;         # VOLTAGE\n",
      "I=22.1;\n",
      "Ir=V/R;             # CURENT\n",
      "print'i)  CURRENT (Ir) is    =  ',Ir,'A'\n",
      "IL=(I**2.-Ir**2.)**0.5;\n",
      "print'i)  CURRENT (IL) is    =  ',IL,'A'\n",
      "XL=V/IL;\n",
      "print'i)   INDUCTANCE (XL) is    =  ',XL,'ohm'\n",
      "L=XL/(2.*math.pi*50.);\n",
      "print'i)   INDUCTANCE (L) is    =  ',L,'H'\n",
      "IL1=(34.**2.-Ir**2.)**0.5;\n",
      "print'i)   INDUCTANCE (IL1) is    =  ',IL1,'A'\n",
      "F=8./(2.*math.pi*0.05);\n",
      "print'i)   FREQUENCY (F) is    =  ',F,'Hz'"
     ],
     "language": "python",
     "metadata": {},
     "outputs": [
      {
       "output_type": "stream",
       "stream": "stdout",
       "text": [
        "i)  CURRENT (Ir) is    =   (16+0j) A\n",
        "i)  CURRENT (IL) is    =   (15.2449991801+0j) A\n",
        "i)   INDUCTANCE (XL) is    =   (15.7428673603+0j) ohm\n",
        "i)   INDUCTANCE (L) is    =   (0.0501111031767+0j) H\n",
        "i)   INDUCTANCE (IL1) is    =   (30+0j) A\n",
        "i)   FREQUENCY (F) is    =   25.4647908947 Hz\n"
       ]
      }
     ],
     "prompt_number": 45
    },
    {
     "cell_type": "heading",
     "level": 2,
     "metadata": {},
     "source": [
      "Example E54 : Pg 98"
     ]
    },
    {
     "cell_type": "code",
     "collapsed": false,
     "input": [
      "    # EXAMPLE 2-54  PG NO-98\n",
      "from math import pi\n",
      "C=159.*10.**-6.;     # capacitor\n",
      "F=50.;           # frequency\n",
      "Xc=1./(2.*pi*F*C);\n",
      "Z=8.94;               # impedance\n",
      "V=100.;               # voltage\n",
      "I=V/Z;             # Current\n",
      "PF=0.894           # power factor\n",
      "S=V*I;    \n",
      "P=V*I*PF;\n",
      "Q=V*I*(-0.447);\n",
      "print' CURRENT is = ',round(P,2),'A'\n",
      "print' APPARENT POWER is = ',round(S,2),'VA'\n",
      "print' active power is = ',round(P,2),'W'\n",
      "print' reactive power is = ',round(Q,2),'vars'"
     ],
     "language": "python",
     "metadata": {},
     "outputs": [
      {
       "output_type": "stream",
       "stream": "stdout",
       "text": [
        " CURRENT is =  1000.0 A\n",
        " APPARENT POWER is =  1118.57 VA\n",
        " active power is =  1000.0 W\n",
        " reactive power is =  -500.0 vars\n"
       ]
      }
     ],
     "prompt_number": 46
    },
    {
     "cell_type": "heading",
     "level": 2,
     "metadata": {},
     "source": [
      "Example E55 : Pg 99"
     ]
    },
    {
     "cell_type": "code",
     "collapsed": false,
     "input": [
      "                 # EXAMPLE 2-55    PG NO-99\n",
      "\n",
      "Q=72.4;\n",
      "tanQ=3.1524;\n",
      "W=3000.;\n",
      "C=35.*10.**-6.;\n",
      "Xc=1./(W*C);\n",
      "R=3.1524*Xc\n",
      "print'i)   CAPACITOR (XC) is    =  ',round(Xc,2),'ohm'\n",
      "print'i)   RESISTANCE (R) is    =  ',round(R,2),'ohm'"
     ],
     "language": "python",
     "metadata": {},
     "outputs": [
      {
       "output_type": "stream",
       "stream": "stdout",
       "text": [
        "i)   CAPACITOR (XC) is    =   9.52 ohm\n",
        "i)   RESISTANCE (R) is    =   30.02 ohm\n"
       ]
      }
     ],
     "prompt_number": 47
    },
    {
     "cell_type": "heading",
     "level": 2,
     "metadata": {},
     "source": [
      "Example E56 : Pg 100"
     ]
    },
    {
     "cell_type": "code",
     "collapsed": false,
     "input": [
      "                  # EXAMPLE 2-56      PG NO-99-100\n",
      "import math \n",
      "V=230.+1j*0;\n",
      "R=15.+1j*0;\n",
      "L=1j*7.5;\n",
      "Ir=V/R;\n",
      "Z1=-1j*12.\n",
      "print'i)   CURRENT (Ir) is    =  ',Ir,' A'\n",
      "IL=V/L;\n",
      "print'i)   INDUCTANCE CURRENT (IL) is    =  ',IL,'A'\n",
      "Ic=V/Z1;\n",
      "print'i)   CAPACITOR CURRENT (Ic) is    =  ',Ic,'A'\n",
      "I=Ir+IL+Ic;\n",
      "print'i)    CURRENT (I) is    =  ',I,'A'\n",
      "Z=V/I;\n",
      "print'i)   IMPEDANCE (Z) is    =  ',Z,'A'\n",
      "PF=0.8;\n",
      "Leq=7.2/(2.*math.pi*50.);\n",
      "print'i)   EQUIVALENT CURRENT (Ieq) is    =  ',Leq,'H'"
     ],
     "language": "python",
     "metadata": {},
     "outputs": [
      {
       "output_type": "stream",
       "stream": "stdout",
       "text": [
        "i)   CURRENT (Ir) is    =   (15.3333333333+0j)  A\n",
        "i)   INDUCTANCE CURRENT (IL) is    =   -30.6666666667j A\n",
        "i)   CAPACITOR CURRENT (Ic) is    =   (-0+19.1666666667j) A\n",
        "i)    CURRENT (I) is    =   (15.3333333333-11.5j) A\n",
        "i)   IMPEDANCE (Z) is    =   (9.6+7.2j) A\n",
        "i)   EQUIVALENT CURRENT (Ieq) is    =   0.0229183118052 H\n"
       ]
      }
     ],
     "prompt_number": 48
    },
    {
     "cell_type": "heading",
     "level": 2,
     "metadata": {},
     "source": [
      "Example E57 : Pg 100"
     ]
    },
    {
     "cell_type": "code",
     "collapsed": false,
     "input": [
      "                  # EXAMPLE 2-57   PG N0-100-101\n",
      "V=240.+1j*0;\n",
      "R=400.+1j*0;\n",
      "Z1=1j*50.;\n",
      "Z2=-1j*40.;\n",
      "IR=V/R;\n",
      "print'i)   CURRENT (IR) is    =  ',IR,'A'\n",
      "IL=V/Z1;\n",
      "print'i)   CURRENT (IL) is    =  ',IL,'A'\n",
      "IC=V/Z2;\n",
      "print'i)   CURRENT (IC) is    =  ',IC,'A'\n",
      "I=IR+IL+IC;\n",
      "print'i)   CURRENT (I) is    =  ',I,'A'\n",
      "Z=V/I;\n",
      "print'i)  IMPEDANCE (Z) is    =  ',Z,'ohms'\n",
      "Y=1/Z;\n",
      "print'i)  ADMITTANCE (Y) is    =  ',Y,'ohm'\n",
      "S=V*I;\n",
      "print'i)  APPARENT POWER (S) is    =  ',S,'VA'\n",
      "P=V*I*0.448;\n",
      "print'i)  ACTIVE POWER (P) is    =  ',P,'W'\n",
      "Q=V*I*-0.94;\n",
      "print'i)  REACTIVE POWER (Q) is    =  ',Q,'vars'"
     ],
     "language": "python",
     "metadata": {},
     "outputs": [
      {
       "output_type": "stream",
       "stream": "stdout",
       "text": [
        "i)   CURRENT (IR) is    =   (0.6+0j) A\n",
        "i)   CURRENT (IL) is    =   -4.8j A\n",
        "i)   CURRENT (IC) is    =   (-0+6j) A\n",
        "i)   CURRENT (I) is    =   (0.6+1.2j) A\n",
        "i)  IMPEDANCE (Z) is    =   (80-160j) ohms\n",
        "i)  ADMITTANCE (Y) is    =   (0.0025+0.005j) ohm\n",
        "i)  APPARENT POWER (S) is    =   (144+288j) VA\n",
        "i)  ACTIVE POWER (P) is    =   (64.512+129.024j) W\n",
        "i)  REACTIVE POWER (Q) is    =   (-135.36-270.72j) vars\n"
       ]
      }
     ],
     "prompt_number": 49
    },
    {
     "cell_type": "heading",
     "level": 2,
     "metadata": {},
     "source": [
      "Example E58 : Pg 101"
     ]
    },
    {
     "cell_type": "code",
     "collapsed": false,
     "input": [
      "                     # EXAMPLE 2-58      PG NO-101-102\n",
      "Z1=2.+1j*3;\n",
      "Z2=1.-1j*5;\n",
      "Z3=4.+1j*2;\n",
      "Zeq=(Z2*Z3)/(Z2+Z3);\n",
      "print'i)  IMPEDANCE EQUVALENT (Zeq) is    =  ',Zeq,'ohms '\n",
      "Z=Z1+Zeq;\n",
      "print'i)  TOTAL IMPEDANCE (Z) is    =  ',Z,'ohm '\n",
      "V=10.;\n",
      "R=5.65+1j*1.588;\n",
      "I=V/R;\n",
      "print'i)  CURRENT (I) is    =  ',I,'A'\n",
      "VBC=I*Zeq;\n",
      "print'i)  VOLTAGE (VBC) is    =  ',VBC,'V'\n",
      "I2=VBC/Z2;\n",
      "print'i)   CURRENT    (I2) is    =  ',I2,'A'\n",
      "I3=VBC/Z3;\n",
      "print'i)   CURRENT    (I3) is  in polar form  =  ',I3,'A'\n",
      "S=V*I;\n",
      "print'i)  APPARENT POWER (S) is  in polar form  =  ',S,'VA'\n",
      "P=V*I*0.963;\n",
      "print'i)  ACTIVE POWER (P) is  in polar form  =  ',P,'W'\n",
      "Q=V*I*-0.27;\n",
      "print'i)  REACTIVE POWER (Q) is  in polar form  =  ',Q,'vars'"
     ],
     "language": "python",
     "metadata": {},
     "outputs": [
      {
       "output_type": "stream",
       "stream": "stdout",
       "text": [
        "i)  IMPEDANCE EQUVALENT (Zeq) is    =   (3.64705882353-1.41176470588j) ohms \n",
        "i)  TOTAL IMPEDANCE (Z) is    =   (5.64705882353+1.58823529412j) ohm \n",
        "i)  CURRENT (I) is    =   (1.64033212632-0.46103494099j) A\n",
        "i)  VOLTAGE (VBC) is    =   (5.33151489694-3.99718455136j) V\n",
        "i)   CURRENT    (I2) is    =   (0.973747602067+0.871553458976j) A\n",
        "i)   CURRENT    (I3) is  in polar form  =   (0.666584524253-1.33258839997j) A\n",
        "i)  APPARENT POWER (S) is  in polar form  =   (16.4033212632-4.6103494099j) VA\n",
        "i)  ACTIVE POWER (P) is  in polar form  =   (15.7963983765-4.43976648174j) W\n",
        "i)  REACTIVE POWER (Q) is  in polar form  =   (-4.42889674106+1.24479434067j) vars\n"
       ]
      }
     ],
     "prompt_number": 50
    },
    {
     "cell_type": "heading",
     "level": 2,
     "metadata": {},
     "source": [
      "Example E59 : Pg 103"
     ]
    },
    {
     "cell_type": "code",
     "collapsed": false,
     "input": [
      "    # EXAMPLE 2-59   PG NO-103\n",
      "import math \n",
      "C1=15.5*10**3;\n",
      "L=1000.;\n",
      "V=230.;\n",
      "PL1=10.;            # active load power\n",
      "PL2=6.;            # active load power\n",
      "QL1=7.5;        # reactive load power\n",
      "QL2=8.;     # reactiveload power\n",
      "P=PL1+PL2;     # total active power\n",
      "Q=QL1+QL2;      # total reactive power\n",
      "AP=(P*P+Q*Q)**0.5;      # total apparent power\n",
      "I=(AP*L)/V;          # TOTAL CURRENT\n",
      "Ic=(C1/V);\n",
      "Xc=V/Ic;\n",
      "K=16.;\n",
      "C=1./(2.*math.pi*50.*Xc);\n",
      "I1=(L*K)/V;\n",
      "print' total active power is = ',round(P,2),'KW'\n",
      "print' total reactive power is = ',round(Q,2),'K var'\n",
      "print' total apparent power is = ',round(AP,2),'KVA'\n",
      "print' total current(I) is = ',round(P,2),'A'\n",
      "print' Ic is = ',round(P,2),'A'\n",
      "print' Xc is = ',round(Xc,2),'ohm'\n",
      "print' capacitor is = ',round(C,2),'F'\n",
      "print' current(I1) is = ',round(I1,2),'A'"
     ],
     "language": "python",
     "metadata": {},
     "outputs": [
      {
       "output_type": "stream",
       "stream": "stdout",
       "text": [
        " total active power is =  16.0 KW\n",
        " total reactive power is =  15.5 K var\n",
        " total apparent power is =  22.28 KVA\n",
        " total current(I) is =  16.0 A\n",
        " Ic is =  16.0 A\n",
        " Xc is =  3.41 ohm\n",
        " capacitor is =  0.0 F\n",
        " current(I1) is =  69.57 A\n"
       ]
      }
     ],
     "prompt_number": 51
    },
    {
     "cell_type": "heading",
     "level": 2,
     "metadata": {},
     "source": [
      "Example E60 : Pg 103"
     ]
    },
    {
     "cell_type": "code",
     "collapsed": false,
     "input": [
      "                   # EXAMPLE 2-60     PG NO-103-104\n",
      "Z1=6.+1j*8;\n",
      "V=230.;                    #  VOLTAGE\n",
      "Y1=1./Z1;\n",
      "print'i)  ADMITTANCE (Y1) is    =  ',Y1,'  siemens '\n",
      "G1=0.06;\n",
      "B1=-0.08;\n",
      "Z2=4.-1j*3;\n",
      "Y2=1./Z2;\n",
      "print'ii)  ADMITTANCE (Y2) is    =  ',Y2,'  siemens '\n",
      "G2=0.16;\n",
      "B2=0.12;\n",
      "TL=G1+G2;                    # TOTAL CONDUCTANCE\n",
      "print'iii) TOTAL CONDUCTANCE (TL) is    =  ',TL,' siemens'\n",
      "TS=B1+B2;                      # TOTAL SUSCEPTANCE\n",
      "print'iv)  TOTAL SUSCEPTANCE (TS) is    =  ',TS,'  siemens '\n",
      "I1=V*Y1;                    #    CURRENT\n",
      "print'v)  CURRENT (I1) is    =  ',I1,' A '\n",
      "I2=V*Y2;\n",
      "print'vi)  CURRENT (I2) is    =  ',I2,' A '\n",
      "TI=I1+I2;                # TOTAL CURRENT\n",
      "print'vii)  TOTAL CURRENT (TI) is    =  ',TI,' A '\n",
      "PF=0.983;#cos(degree(10.3));\n",
      "print'i)  POWER FACTOR (PF) is    =  ',PF,' leading '"
     ],
     "language": "python",
     "metadata": {},
     "outputs": [
      {
       "output_type": "stream",
       "stream": "stdout",
       "text": [
        "i)  ADMITTANCE (Y1) is    =   (0.06-0.08j)   siemens \n",
        "ii)  ADMITTANCE (Y2) is    =   (0.16+0.12j)   siemens \n",
        "iii) TOTAL CONDUCTANCE (TL) is    =   0.22  siemens\n",
        "iv)  TOTAL SUSCEPTANCE (TS) is    =   0.04   siemens \n",
        "v)  CURRENT (I1) is    =   (13.8-18.4j)  A \n",
        "vi)  CURRENT (I2) is    =   (36.8+27.6j)  A \n",
        "vii)  TOTAL CURRENT (TI) is    =   (50.6+9.2j)  A \n",
        "i)  POWER FACTOR (PF) is    =   0.983  leading \n"
       ]
      }
     ],
     "prompt_number": 52
    },
    {
     "cell_type": "heading",
     "level": 2,
     "metadata": {},
     "source": [
      "Example E61 : Pg 104"
     ]
    },
    {
     "cell_type": "code",
     "collapsed": false,
     "input": [
      "                 # EXAMPLE 2-61          PG NO-104-105\n",
      "V=100.+1j*0;\n",
      "Zab=1.6+1j*7.2;\n",
      "Yab=1./Zab;\n",
      "print'i)  ADMITTANCE (Yab) is  in polar form  =  ',Yab,' siemens'\n",
      "Zcd=4.+1j*3;\n",
      "Ycd=1./Zcd;\n",
      "print'i)  ADMITTANCE (Ycd) is  in polar form   =  ',Ycd,'  siemens '\n",
      "Zef=6.-1j*8;\n",
      "Yef=1./Zef;\n",
      "print'i)  ADMITTANCE (Yef) is in polar form    =  ',Yef,'  siemens '\n",
      "Ybg=Yef+Ycd;\n",
      "print'i)  ADMITTANCE (Ybg) is  in polar form   =  ',Ybg,'  siemens '\n",
      "Zbg=1./Ybg;\n",
      "print'i)  IMPEDANCE (Zbg) is  in polar form   =  ',Zbg,'  ohms '\n",
      "TZ=1.6+1j*7.2+4.4+1j*0.8;\n",
      "print'i) TOTAL IMPEDANCE (TZ) is  in polar form   =  ',TZ,'  ohms '\n",
      "TI=V/TZ;\n",
      "print'i)  TOTAL CURRENT (TI) is  in polar form   =  ',TI,'  A '\n",
      "Icd=TI*(Zef/(Zcd+Zef))\n",
      "print'i)  CURRENT (Icd) is  in polar form   =  ',Icd,'  A '\n",
      "Ief=TI*(Zcd/(Zcd+Zef));\n",
      "print'i)  CURRENT (Ief) is  in polar form   =  ',Ief,'  A '\n",
      "Pab=TI*TI*1.6;\n",
      "print'i)  POWER (Pab) is  in polar form   =  ',Pab,'  W '\n",
      "Pcd=Icd*Icd*4;\n",
      "print'i)  POWER (Pcd) is  in polar form   =  ',Pcd,'  W '\n",
      "Pef=Ief*Ief*6;\n",
      "print'i)  POWER (Pef) is  in polar form   =  ',Pef,'  W '\n",
      "TP=Pab+Pcd+Pef;\n",
      "print'i) TOTAL POWER (TP) is  in polar form   =  ',TP,'  W '"
     ],
     "language": "python",
     "metadata": {},
     "outputs": [
      {
       "output_type": "stream",
       "stream": "stdout",
       "text": [
        "i)  ADMITTANCE (Yab) is  in polar form  =   (0.0294117647059-0.132352941176j)  siemens\n",
        "i)  ADMITTANCE (Ycd) is  in polar form   =   (0.16-0.12j)   siemens \n",
        "i)  ADMITTANCE (Yef) is in polar form    =   (0.06+0.08j)   siemens \n",
        "i)  ADMITTANCE (Ybg) is  in polar form   =   (0.22-0.04j)   siemens \n",
        "i)  IMPEDANCE (Zbg) is  in polar form   =   (4.4+0.8j)   ohms \n",
        "i) TOTAL IMPEDANCE (TZ) is  in polar form   =   (6+8j)   ohms \n",
        "i)  TOTAL CURRENT (TI) is  in polar form   =   (6-8j)   A \n",
        "i)  CURRENT (Icd) is  in polar form   =   (1.6-8.8j)   A \n",
        "i)  CURRENT (Ief) is  in polar form   =   (4.4+0.8j)   A \n",
        "i)  POWER (Pab) is  in polar form   =   (-44.8-153.6j)   W \n",
        "i)  POWER (Pcd) is  in polar form   =   (-299.52-112.64j)   W \n",
        "i)  POWER (Pef) is  in polar form   =   (112.32+42.24j)   W \n",
        "i) TOTAL POWER (TP) is  in polar form   =   (-232-224j)   W \n"
       ]
      }
     ],
     "prompt_number": 53
    },
    {
     "cell_type": "heading",
     "level": 2,
     "metadata": {},
     "source": [
      "Example E62 : Pg 105"
     ]
    },
    {
     "cell_type": "code",
     "collapsed": false,
     "input": [
      "                   # EXAMPLE 2-62        PG NO-105-106\n",
      "Z1=24.+1j*18;\n",
      "Z2=24.-1j*10;\n",
      "Z3=2.-1j*0.148;\n",
      "R1=24.;\n",
      "R2=24.;\n",
      "R3=32.;\n",
      "R4=16.;\n",
      "V=2.;\n",
      "v1=128.3;\n",
      "I=2.;\n",
      "I3=32.+1j*24;\n",
      "I4=16.-1j*30;\n",
      "Z=Z1+Z2;\n",
      "print'i)  IMPEDANCE (Z) is  in polar form   =  ',Z,'  ohms '\n",
      "I1=(Z2/(Z1+Z2))*Z3;\n",
      "print'i)  CURRENT (I1) is  in polar form   =  ',I1,'  ohms '\n",
      "I2=(Z1/(Z1+Z2))*Z3;\n",
      "print'i)  CURRENT (I2) is  in polar form   =  ',I2,'  ohms '\n",
      "P1=I1*I1*R1;\n",
      "print'i)  POWER (P1) is  in polar form   =  ',P1,'  W '\n",
      "P2=I2*I2*R2;\n",
      "print'i)  POWER (P2) is  in polar form   =  ',P2,'  W '\n",
      "P3=V*V*R3;\n",
      "print'i)  POWER (P3) is  in polar form   =  ',P3,'  W '\n",
      "P4=V*V*R4;\n",
      "print'i)  POWER (P4) is  in polar form   =  ',P4,'  W '\n",
      "P=P1+P2+P3+P4;\n",
      "print'i)  TOTAL POWER (P) is  in polar form   =  ',P,'  W '\n",
      "V1=I1*Z1;\n",
      "print'i)  VOLTAGE (V1) is  in polar form   =  ',V1,'  V '\n",
      "V2=V1;\n",
      "print'i)  VOLTAGE (V2) is  in polar form   =  ',V2,'  V '\n",
      "V3=I3*Z3;\n",
      "print'i)  VOLTAGE (V3) is  in polar form   =  ',V3,'  V '\n",
      "V4=I4*Z3;\n",
      "print'i)  VOLTAGE (V4) is  in polar form   =  ',V4,'  V '\n",
      "V=V1+V4+V3;\n",
      "print'i%)  VOLTAGE (V) is  in polar form   =  ',V,'  V '\n",
      "S=v1*I;\n",
      "print'i)  Apparent Power (S) is     =  ',S,'  VA '\n",
      "Q=S*0.0726;\n",
      "print'i) Reactive Power (Q) is     =  ',Q,'  Var '"
     ],
     "language": "python",
     "metadata": {},
     "outputs": [
      {
       "output_type": "stream",
       "stream": "stdout",
       "text": [
        "i)  IMPEDANCE (Z) is  in polar form   =   (48+8j)   ohms \n",
        "i)  CURRENT (I1) is  in polar form   =   (0.863405405405-0.634567567568j)   ohms \n",
        "i)  CURRENT (I2) is  in polar form   =   (1.13659459459+0.486567567568j)   ohms \n",
        "i)  POWER (P1) is  in polar form   =   (8.22702951059-26.2986752608j)   W \n",
        "i)  POWER (P2) is  in polar form   =   (25.3223825917+26.5454432257j)   W \n",
        "i)  POWER (P3) is  in polar form   =   128.0   W \n",
        "i)  POWER (P4) is  in polar form   =   64.0   W \n",
        "i)  TOTAL POWER (P) is  in polar form   =   (225.549412102+0.246767964938j)   W \n",
        "i)  VOLTAGE (V1) is  in polar form   =   (32.1439459459+0.311675675676j)   V \n",
        "i)  VOLTAGE (V2) is  in polar form   =   (32.1439459459+0.311675675676j)   V \n",
        "i)  VOLTAGE (V3) is  in polar form   =   (67.552+43.264j)   V \n",
        "i)  VOLTAGE (V4) is  in polar form   =   (27.56-62.368j)   V \n",
        "i%)  VOLTAGE (V) is  in polar form   =   (127.255945946-18.7923243243j)   V \n",
        "i)  Apparent Power (S) is     =   256.6   VA \n",
        "i) Reactive Power (Q) is     =   18.62916   Var \n"
       ]
      }
     ],
     "prompt_number": 54
    },
    {
     "cell_type": "heading",
     "level": 2,
     "metadata": {},
     "source": [
      "Example E63 : Pg 106"
     ]
    },
    {
     "cell_type": "code",
     "collapsed": false,
     "input": [
      "                       # EXAMPLE 2-63   PG NO-106-107\n",
      "Z1=14.+1j*48;\n",
      "Z2=30.+1j*40;\n",
      "Z3=24.+1j*70;\n",
      "V=230.+1j*0;\n",
      "Y1=1./Z1;\n",
      "print'i)  ADMITTANCE (Y1) is  in polar form  =  ',Y1,' siemens'\n",
      "Y2=1./Z2;\n",
      "print'ii)  ADMITTANCE (Y2) is  in polar form  =  ',Y2,' siemens'\n",
      "Y3=1./Z3;\n",
      "print'iii)  ADMITTANCE (Y3) is  in polar form  =  ',Y3,' siemens'\n",
      "Y=Y1+Y2+Y3;\n",
      "print'i)  ADMITTANCE (Y) is  in polar form  =  ',Y,' siemens'\n",
      "Z13=29.763+1j*21.62;\n",
      "Z14=10.-1j*24;\n",
      "X=Z13+Z14;\n",
      "Y=18.+1j*80;\n",
      "A=8.-1j*6;\n",
      "print'i)  IMPEDANCE (X) is  in polar form  =  ',X,' ohm'\n",
      "Z=((X*Y)/(X+Y))+A;\n",
      "print'i)  IMPEDANCE (Z) is  in polar form  =  ',Z,' ohm'\n",
      "I=V/Z;\n",
      "print'vi)  CURRENT (I) is    =  ',I,' A '\n",
      "S=V*I;\n",
      "print'i)  Apparent Power (S) is     =  ',S,'  VA '\n",
      "P=V*I*0.989;\n",
      "print'i) Active Power (P) is     =  ',P,'  W '\n",
      "Q=V*I*0.146;\n",
      "print'i) Reactive Power (Q) is     =  ',Q,'  Var '"
     ],
     "language": "python",
     "metadata": {},
     "outputs": [
      {
       "output_type": "stream",
       "stream": "stdout",
       "text": [
        "i)  ADMITTANCE (Y1) is  in polar form  =   (0.0056-0.0192j)  siemens\n",
        "ii)  ADMITTANCE (Y2) is  in polar form  =   (0.012-0.016j)  siemens\n",
        "iii)  ADMITTANCE (Y3) is  in polar form  =   (0.00438276113952-0.0127830533236j)  siemens\n",
        "i)  ADMITTANCE (Y) is  in polar form  =   (0.0219827611395-0.0479830533236j)  siemens\n",
        "i)  IMPEDANCE (X) is  in polar form  =   (39.763-2.38j)  ohm\n",
        "i)  IMPEDANCE (Z) is  in polar form  =   (39.6114255491+5.85051241937j)  ohm\n",
        "vi)  CURRENT (I) is    =   (5.68244535894-0.839283532063j)  A \n",
        "i)  Apparent Power (S) is     =   (1306.96243256-193.035212374j)   VA \n",
        "i) Active Power (P) is     =   (1292.5858458-190.911825038j)   W \n",
        "i) Reactive Power (Q) is     =   (190.816515153-28.1831410067j)   Var \n"
       ]
      }
     ],
     "prompt_number": 55
    },
    {
     "cell_type": "heading",
     "level": 2,
     "metadata": {},
     "source": [
      "Example E64 : Pg 107"
     ]
    },
    {
     "cell_type": "code",
     "collapsed": false,
     "input": [
      "ZA=15.+1j*15.708;\n",
      "ZB=20.+1j*0;\n",
      "V=200.+1j*0;\n",
      "IA=V/ZA;\n",
      "print'i)  CURRENT (IA) is =',IA,' A '\n",
      "IB=V/ZB;\n",
      "print'ii)  CURRENT (IB) is =',IB,' A '\n",
      "I=IA+IB;\n",
      "print'vi) TOTAL CURRENT (I) is =',I,' A '"
     ],
     "language": "python",
     "metadata": {},
     "outputs": [
      {
       "output_type": "stream",
       "stream": "stdout",
       "text": [
        "i)  CURRENT (IA) is = (6.35941824245-6.6595827835j)  A \n",
        "ii)  CURRENT (IB) is = (10+0j)  A \n",
        "vi) TOTAL CURRENT (I) is = (16.3594182425-6.6595827835j)  A \n"
       ]
      }
     ],
     "prompt_number": 56
    },
    {
     "cell_type": "heading",
     "level": 2,
     "metadata": {},
     "source": [
      "Example E66 : Pg 108"
     ]
    },
    {
     "cell_type": "code",
     "collapsed": false,
     "input": [
      "                           # EXAMPLE 2-66      PG NO-108\n",
      "I=15.;\n",
      "Z1=10.+1j*15\n",
      "Z2=6.-1j*8;\n",
      "I1=(I*Z2)/(Z1+Z2);\n",
      "print'ii)  CURRENT (I1) is  in polar form  =  ',I1,' A '\n",
      "I2=(I*Z1)/(Z1+Z2);\n",
      "print'ii)  CURRENT (I2) is  in polar form  =  ',I2,' A '\n",
      "P1=8.59**2*10;\n",
      "print'ii)  Power (P1) is  in  polar form  =  ',P1,' W '\n",
      "P2=15.49**2*6;\n",
      "print'ii)  Power (P2) is  in polar form  =  ',P2,' W '"
     ],
     "language": "python",
     "metadata": {},
     "outputs": [
      {
       "output_type": "stream",
       "stream": "stdout",
       "text": [
        "ii)  CURRENT (I1) is  in polar form  =   (1.96721311475-8.3606557377j)  A \n",
        "ii)  CURRENT (I2) is  in polar form  =   (13.0327868852+8.3606557377j)  A \n",
        "ii)  Power (P1) is  in  polar form  =   737.881  W \n",
        "ii)  Power (P2) is  in polar form  =   1439.6406  W \n"
       ]
      }
     ],
     "prompt_number": 57
    },
    {
     "cell_type": "heading",
     "level": 2,
     "metadata": {},
     "source": [
      "Example E67 : Pg 108"
     ]
    },
    {
     "cell_type": "code",
     "collapsed": false,
     "input": [
      "                          # EXAMPLE 2-67      PG NO-108-109\n",
      "Z1=5.;\n",
      "V=100.+1j*200;\n",
      "I1=16.;                      # CURRENT\n",
      "P1=I1*I1*Z1;\n",
      "print'i)  POWER (P1) is    =  ',P1,' W '\n",
      "P2=5000.-P1;\n",
      "print'ii)  POWER (P2) is    =  ',P2,' W '\n",
      "Q1=-69.02;\n",
      "#cos(-69.02)=0.35;\n",
      "Z2=Z1/0.358;\n",
      "print'iii)  IMPEDANCE (Z2) is  in polar form   =  ',Z2,'  ohms '\n",
      "X1=Z2*-0.933;\n",
      "print'i)   (X1) is  in polar form   =  ',X1,'  ohms '\n",
      "Z3=5-1j*13.04;\n",
      "I1=V/Z3;\n",
      "print'ii)  CURRENT (I1) is  in polar form  =  ',I1,' A '\n",
      "P3=3720;\n",
      "I2=P3/(223.6*0.8);\n",
      "print'ii)  CURRENT (I2) is  in polar form  =  ',I2,' A '\n",
      "z2=8.6+1j*6.45;\n",
      "I3=V/z2;\n",
      "print'ii)  CURRENT (I3) is  in polar form  =  ',I3,' A'\n",
      "I=I1+I3;\n",
      "print'ii)  CURRENT (I) is  in polar form  =  ',I,' A '\n",
      "Z=V/I;\n",
      "print'iii)  IMPEDANCE (Z) is  in polar form   =  ',Z,'ohms '"
     ],
     "language": "python",
     "metadata": {},
     "outputs": [
      {
       "output_type": "stream",
       "stream": "stdout",
       "text": [
        "i)  POWER (P1) is    =   1280.0  W \n",
        "ii)  POWER (P2) is    =   3720.0  W \n",
        "iii)  IMPEDANCE (Z2) is  in polar form   =   13.9664804469   ohms \n",
        "i)   (X1) is  in polar form   =   -13.030726257   ohms \n",
        "ii)  CURRENT (I1) is  in polar form  =   (-10.8079507141+11.8128645376j)  A \n",
        "ii)  CURRENT (I2) is  in polar form  =   20.7960644007  A \n",
        "ii)  CURRENT (I3) is  in polar form  =   (18.6046511628+9.3023255814j)  A\n",
        "ii)  CURRENT (I) is  in polar form  =   (7.79670044869+21.115190119j)  A \n",
        "iii)  IMPEDANCE (Z) is  in polar form   =   (9.87428968497-1.08988463059j) ohms \n"
       ]
      }
     ],
     "prompt_number": 58
    },
    {
     "cell_type": "heading",
     "level": 2,
     "metadata": {},
     "source": [
      "Example E68 : Pg 109"
     ]
    },
    {
     "cell_type": "code",
     "collapsed": false,
     "input": [
      "                                 # EXAMPLE 2-68     PG NO-109-110\n",
      "V=100.;\n",
      "Y1=0.16+1j*0.12;\n",
      "Y2=-1j*0.15;\n",
      "I1=V*Y1;\n",
      "print'i)  CURRENT (I1) is  in polar form  =  ',I1,' A '\n",
      "I2=V*Y2;\n",
      "print'ii)  CURRENT (I2) is  in polar form  =  ',I2,' A '\n",
      "P=(V*I1*0.8)+(V*I2*0);\n",
      "print'iii)  Power (P) is  in polar form  =  ',P,' W '\n",
      "I=I1+I2;\n",
      "print'ii)  CURRENT (I) is  in polar form  =  ',I,' A '"
     ],
     "language": "python",
     "metadata": {},
     "outputs": [
      {
       "output_type": "stream",
       "stream": "stdout",
       "text": [
        "i)  CURRENT (I1) is  in polar form  =   (16+12j)  A \n",
        "ii)  CURRENT (I2) is  in polar form  =   -15j  A \n",
        "iii)  Power (P) is  in polar form  =   (1280+960j)  W \n",
        "ii)  CURRENT (I) is  in polar form  =   (16-3j)  A \n"
       ]
      }
     ],
     "prompt_number": 59
    },
    {
     "cell_type": "heading",
     "level": 2,
     "metadata": {},
     "source": [
      "Example E69 : Pg 110"
     ]
    },
    {
     "cell_type": "code",
     "collapsed": false,
     "input": [
      "                   # EXAMPLE 2-69   PG NO-110\n",
      "import math \n",
      "F=50.;\n",
      "L=0.6;\n",
      "R=100.;\n",
      "XL=(math.pi*2.*F*L)\n",
      "print'i)  INDUCTANCE (XL) is    =  ',XL,' ohm '\n",
      "V=230.+1j*0;\n",
      "IR=V/R;\n",
      "print'ii)  CURRENT (IR) is  in polar form  =  ',IR,' A '\n",
      "IL=V/(0+1j*XL);\n",
      "print'iii)  CURRENT (IL) is  in polar form  =  ',IL,' A '\n",
      "I=IR+IL;\n",
      "print'iv)  CURRENT (I) is  in polar form  =  ',I,' A '\n",
      "#cos(degree(27.9))=0.8837;\n",
      "P=V*I*0.8837;\n",
      "print'v)  POWER (P) is  in polar form  =  ',P,' W '\n",
      "Z=V/I;\n",
      "print'vi)  IMPEDANCE (Z) is    =  ',Z,' ohm '\n",
      "LEQ=41.39/(2.*math.pi*F);\n",
      "print'ii)  INDUCTANCE (LEQ) is    =  ',LEQ,' H '"
     ],
     "language": "python",
     "metadata": {},
     "outputs": [
      {
       "output_type": "stream",
       "stream": "stdout",
       "text": [
        "i)  INDUCTANCE (XL) is    =   188.495559215  ohm \n",
        "ii)  CURRENT (IR) is  in polar form  =   (2.3+0j)  A \n",
        "iii)  CURRENT (IL) is  in polar form  =   -1.22018789704j  A \n",
        "iv)  CURRENT (I) is  in polar form  =   (2.3-1.22018789704j)  A \n",
        "v)  POWER (P) is  in polar form  =   (467.4773-248.004410261j)  W \n",
        "vi)  IMPEDANCE (Z) is    =   (78.0367372592+41.3997749252j)  ohm \n",
        "ii)  INDUCTANCE (LEQ) is    =   0.131748461891  H \n"
       ]
      }
     ],
     "prompt_number": 60
    },
    {
     "cell_type": "heading",
     "level": 2,
     "metadata": {},
     "source": [
      "Example E70 : Pg 110"
     ]
    },
    {
     "cell_type": "code",
     "collapsed": false,
     "input": [
      "            # EXAMPLE 2-70      PG NO-110-111\n",
      "ZA=-1j*227.36;               # IMPEDANCE\n",
      "ZB=-1j*795.77;                        # IMPEDANCE\n",
      "ZC=500.;                         # IMPEDANCE\n",
      "V=230.+1j*0;                    # VOLTAGE\n",
      "IA=V/ZA;                          # CURRENT\n",
      "print 'i)  CURRENT (IA) is  in polar form  =  ',IA,' A '\n",
      "IB=V/ZB;\n",
      "print 'i)  CURRENT (IB) is  in polar form  =  ',IB,' A '\n",
      "IC=V/ZC;\n",
      "print 'i)  CURRENT (IC) is  in polar form  =  ',IC,' A '\n",
      "I=IA+IB+IC;\n",
      "print 'i)  CURRENT (I) is  in polar form  =  ',I,' A '\n",
      "P=V*I*0.334;\n",
      "print 'i)  POWER (P) is  in polar form  =  ',P,' W '\n",
      "Z=V/I;\n",
      "print 'vi)  IMPEDANCE (Z) is    =  ',Z,' ohm '"
     ],
     "language": "python",
     "metadata": {},
     "outputs": [
      {
       "output_type": "stream",
       "stream": "stdout",
       "text": [
        "i)  CURRENT (IA) is  in polar form  =   (-0+1.01161154117j)  A \n",
        "i)  CURRENT (IB) is  in polar form  =   (-0+0.289028236802j)  A \n",
        "i)  CURRENT (IC) is  in polar form  =   (0.46+0j)  A \n",
        "i)  CURRENT (I) is  in polar form  =   (0.46+1.30063977797j)  A \n",
        "i)  POWER (P) is  in polar form  =   (35.3372+99.9151477437j)  W \n",
        "vi)  IMPEDANCE (Z) is    =   (55.5887198711-157.175870154j)  ohm \n"
       ]
      }
     ],
     "prompt_number": 61
    },
    {
     "cell_type": "heading",
     "level": 2,
     "metadata": {},
     "source": [
      "Example E71 : Pg 111"
     ]
    },
    {
     "cell_type": "code",
     "collapsed": false,
     "input": [
      "                 # EXAMPLE 2-71  PG NO-111\n",
      "V=240.;\n",
      "#cos (degree(62.74))=0.458;\n",
      "Pm=V*2*0.458;\n",
      "print 'i)  POWER (Pm) is  in rectangular form  =  ',Pm,' W '\n",
      "I=(2.*0.458+1.5)-1j*(2*0.89);\n",
      "print 'i)  CURRENT (I) is  in rectangular form  =  ',I,' A '\n",
      "P=V*3*0.805\n",
      "print 'i)  Power (P) is  in  rectangular form  =  ',P,' W '"
     ],
     "language": "python",
     "metadata": {},
     "outputs": [
      {
       "output_type": "stream",
       "stream": "stdout",
       "text": [
        "i)  POWER (Pm) is  in rectangular form  =   219.84  W \n",
        "i)  CURRENT (I) is  in rectangular form  =   (2.416-1.78j)  A \n",
        "i)  Power (P) is  in  rectangular form  =   579.6  W \n"
       ]
      }
     ],
     "prompt_number": 62
    },
    {
     "cell_type": "heading",
     "level": 2,
     "metadata": {},
     "source": [
      "Example E72 : Pg 111"
     ]
    },
    {
     "cell_type": "code",
     "collapsed": false,
     "input": [
      "  # EXAMPLE 2-72   PG NO 111\n",
      "PF=0.5;\n",
      "cosQ=0.5;\n",
      "sinQ=0.866;\n",
      "V=552.;\n",
      "I=2.3;\n",
      "v=240;\n",
      "PF1=0.89;\n",
      "P=v*I*PF1;\n",
      "Q=(V*V-P*P)**0.5;\n",
      "print '%s %.2f %s' %(' ACTIVE POWER is = ',P,' W');\n",
      "print '%s %.2f %s' %(' REACTIVE POWER is = ',Q,' vars');"
     ],
     "language": "python",
     "metadata": {},
     "outputs": [
      {
       "output_type": "stream",
       "stream": "stdout",
       "text": [
        " ACTIVE POWER is =  491.28  W\n",
        " REACTIVE POWER is =  251.69  vars\n"
       ]
      }
     ],
     "prompt_number": 63
    },
    {
     "cell_type": "heading",
     "level": 2,
     "metadata": {},
     "source": [
      "Example E73 : Pg 112"
     ]
    },
    {
     "cell_type": "code",
     "collapsed": false,
     "input": [
      "     # EXAMPLE 2-73   PG NO-112\n",
      "import math \n",
      "R=44.074;\n",
      "V=230.;\n",
      "I=3.05;\n",
      "Z=V/I;\n",
      "Y=2.475;\n",
      "X=(Z*Z-R*R)**0.5;\n",
      "L=X/(2.*math.pi*50.)     \n",
      "Xc=V/Y;\n",
      "C=1./(2.*50.*Xc*math.pi);\n",
      "print '%s %.2f %s' %(' impedance is = ',Z,' ohm');       \n",
      "print '%s %.2f %s' %(' X is = ',X,' W');    \n",
      "print '%s %.2f %s' %('inductance  is = ',L,'H ');  \n",
      "print '%s %.2f %s' %(' Xc is = ',Xc,' ohm');\n",
      "print '%s %.2e %s' %(' Capacitor is = ',C,' F');    "
     ],
     "language": "python",
     "metadata": {},
     "outputs": [
      {
       "output_type": "stream",
       "stream": "stdout",
       "text": [
        " impedance is =  75.41  ohm\n",
        " X is =  61.19  W\n",
        "inductance  is =  0.19 H \n",
        " Xc is =  92.93  ohm\n",
        " Capacitor is =  3.43e-05  F\n"
       ]
      }
     ],
     "prompt_number": 64
    },
    {
     "cell_type": "heading",
     "level": 2,
     "metadata": {},
     "source": [
      "Example E74 : Pg 112"
     ]
    },
    {
     "cell_type": "code",
     "collapsed": false,
     "input": [
      "                 # EXAMPLE 2-74  PG NO-112\n",
      "ZA=10.+1j*7.226;               # IMPEDANCE\n",
      "ZB=5.+1j*10.99;               # IMPEDANCE\n",
      "V=200.+1j*0;                    # VOLTAGE\n",
      "IA=V/ZA;                          # CURRENT\n",
      "print'i)  CURRENT (IA) is  in polar form  =  ',IA,' A '\n",
      "IB=V/ZB;\n",
      "print'ii)  CURRENT (IB) is  in polar form  =  ',IB,' A '\n",
      "I=IA+IB;\n",
      "print'iii)  CURRENT (I) is  in polar form  =  ',I,' A '\n",
      "S=V*I;\n",
      "print'i)  Apparent Power (S) is     =  ',S,'  VA '\n",
      "P=V*I*0.63;\n",
      "print'i) Active Power (P) is     =  ',P,'  W '\n",
      "Q=V*I*0.775;\n",
      "print'i) Reactive Power (Q) is     =  ',Q,'  Var '"
     ],
     "language": "python",
     "metadata": {},
     "outputs": [
      {
       "output_type": "stream",
       "stream": "stdout",
       "text": [
        "i)  CURRENT (IA) is  in polar form  =   (13.1393029689-9.49446032534j)  A \n",
        "ii)  CURRENT (IB) is  in polar form  =   (6.85964682422-15.0775037196j)  A \n",
        "iii)  CURRENT (I) is  in polar form  =   (19.9989497931-24.571964045j)  A \n",
        "i)  Apparent Power (S) is     =   (3999.78995863-4914.392809j)   VA \n",
        "i) Active Power (P) is     =   (2519.86767394-3096.06746967j)   W \n",
        "i) Reactive Power (Q) is     =   (3099.83721794-3808.65442697j)   Var \n"
       ]
      }
     ],
     "prompt_number": 65
    },
    {
     "cell_type": "heading",
     "level": 2,
     "metadata": {},
     "source": [
      "Example E75 : Pg 113"
     ]
    },
    {
     "cell_type": "code",
     "collapsed": false,
     "input": [
      "                  # EXAMPLE 2-75   PG NO-113\n",
      "V=100.+1j*0;\n",
      "R=3.+1j*2.;\n",
      "I=V/R;\n",
      "print'i)  CURRENT (I) is  in polar form  =  ',I,' A '\n",
      "ZA=10.+1j*8.;\n",
      "ZB=9.-1j*6.;\n",
      "ZC=3.+1j*2.;\n",
      "IB=I*(ZA/(ZA+ZB));\n",
      "print'i)  CURRENT (IB) is  in polar form  =  ',IB,' A '\n",
      "IA=I*(ZB/(ZA+ZB));\n",
      "print'i)  CURRENT (IA) is  in polar form  =  ',IA,' A '\n",
      "Z=((ZA*ZB)/(ZA+ZB))+ZC;\n",
      "print'vi)  IMPEDANCE (Z) is    =  ',Z,' ohm '\n",
      "V1=I*Z;\n",
      "print'vi)VOLTAGE  (V1) is    =  ',V1,' V '\n",
      "S=V1*I;\n",
      "print'i)  Apparent Power (S) is     =  ',S,'  VA '\n",
      "P=V1*I*0.984;\n",
      "print'i) Active Power (P) is     =  ',P,'  W '\n",
      "Q=(S**2-P**2)**0.5;\n",
      "print'i) Reactive Power (Q) is     =  ',Q,'  Var '"
     ],
     "language": "python",
     "metadata": {},
     "outputs": [
      {
       "output_type": "stream",
       "stream": "stdout",
       "text": [
        "i)  CURRENT (I) is  in polar form  =   (23.0769230769-15.3846153846j)  A \n",
        "i)  CURRENT (IB) is  in polar form  =   (18.5879873551-0.337197049526j)  A \n",
        "i)  CURRENT (IA) is  in polar form  =   (4.48893572181-15.0474183351j)  A \n",
        "vi)  IMPEDANCE (Z) is    =   (10.2493150685+1.86849315068j)  ohm \n",
        "vi)VOLTAGE  (V1) is    =   (265.268703899-114.562697576j)  V \n",
        "i)  Apparent Power (S) is     =   (4359.08243495-6724.81154251j)   VA \n",
        "i) Active Power (P) is     =   (4289.33711599-6617.21455783j)   W \n",
        "i) Reactive Power (Q) is     =   (776.651002751-1198.1493137j)   Var \n"
       ]
      }
     ],
     "prompt_number": 66
    },
    {
     "cell_type": "heading",
     "level": 2,
     "metadata": {},
     "source": [
      "Example E76 : Pg 113"
     ]
    },
    {
     "cell_type": "code",
     "collapsed": false,
     "input": [
      "Z1=8.+1j*10.;\n",
      "Z2=7.+1j*9.;\n",
      "Z3=5.-1j*2.;\n",
      "Z=(Z1*Z2)/(Z1+Z2);\n",
      "print'vi)  IMPEDANCE (Z) is    in polar form  =  ',Z,' ohm '\n",
      "TZ=Z+Z3;\n",
      "print'vi) TOTAL  IMPEDANCE (TZ) is    =  ',TZ,' ohm '"
     ],
     "language": "python",
     "metadata": {},
     "outputs": [
      {
       "output_type": "stream",
       "stream": "stdout",
       "text": [
        "vi)  IMPEDANCE (Z) is    in polar form  =   (3.7337883959+4.73720136519j)  ohm \n",
        "vi) TOTAL  IMPEDANCE (TZ) is    =   (8.7337883959+2.73720136519j)  ohm \n"
       ]
      }
     ],
     "prompt_number": 67
    },
    {
     "cell_type": "heading",
     "level": 2,
     "metadata": {},
     "source": [
      "Example E77 : Pg 114"
     ]
    },
    {
     "cell_type": "code",
     "collapsed": false,
     "input": [
      "                          # EXAMPLE 2-77    PG NO-114\n",
      "import math \n",
      "R=math.sqrt(2.5**2-1.724**2)-0.69;\n",
      "print '%s %.2f %s' %('i)   Resistance (R) is    =  ',R,'  ohm ');\n",
      "R1=math.sqrt(2.5**2-1.92**2)-0.384;\n",
      "print '%s %.2f %s' %('ii)   Resistance (R1) is    =  ',R1,'  ohm ');\n",
      "r=5;\n",
      "PF=(0.69+R)/2.5;\n",
      "print '%s %.2f %s' %('iii)   Power Factor (PF) is    =  ',PF,'  lagging ');\n",
      "r1=10;\n",
      "PF1=(0.384+R1)/2.5;\n",
      "print '%s %.2f %s' %('iv)   Power Factor (PF1) is    =  ',PF1,'  lagging ');"
     ],
     "language": "python",
     "metadata": {},
     "outputs": [
      {
       "output_type": "stream",
       "stream": "stdout",
       "text": [
        "i)   Resistance (R) is    =   1.12   ohm \n",
        "ii)   Resistance (R1) is    =   1.22   ohm \n",
        "iii)   Power Factor (PF) is    =   0.72   lagging \n",
        "iv)   Power Factor (PF1) is    =   0.64   lagging \n"
       ]
      }
     ],
     "prompt_number": 68
    },
    {
     "cell_type": "heading",
     "level": 2,
     "metadata": {},
     "source": [
      "Example E78 : Pg 114"
     ]
    },
    {
     "cell_type": "code",
     "collapsed": false,
     "input": [
      "                     # EXAMPLE  2-78  PG NO-114-115\n",
      "import math \n",
      "I=10.;\n",
      "L1=0.0318;                    # INDUCTANCE\n",
      "L2=0.0191;\n",
      "F=50.;                         # FREQUENCY\n",
      "C=398.*10.**-6.;                  # CAPACITOR\n",
      "XL1=(2.*math.pi*F*L1);\n",
      "print 'i)   INDUCYANCE (XL1) is    =  ',XL1,' ohm '\n",
      "XL2=(2.*math.pi*F*L2);\n",
      "print 'ii)   INDUCYANCE (XL2) is    =  ',XL2,' ohm '\n",
      "XC=1./(2.*math.pi*F*C);\n",
      "print 'iii) CAPACITOR (XC) is    =  ',XC,' ohm '\n",
      "Z1=5.+1j*6.;\n",
      "Z2=7.-1j*8.;\n",
      "Z3=8.+1j*9.99;\n",
      "Z=((Z1*Z2)/(Z1+Z2))+Z3;\n",
      "print 'iv)   IMPEDANCE (Z) is  in polar form  =  ',Z,' ohm '\n",
      "VAB=I*Z;\n",
      "print 'i) VOLTAGE  (VAB) is  in polar form  =  ',VAB,' V '"
     ],
     "language": "python",
     "metadata": {},
     "outputs": [
      {
       "output_type": "stream",
       "stream": "stdout",
       "text": [
        "i)   INDUCYANCE (XL1) is    =   9.99026463842  ohm \n",
        "ii)   INDUCYANCE (XL2) is    =   6.00044196836  ohm \n",
        "iii) CAPACITOR (XC) is    =   7.99773583376  ohm \n",
        "iv)   IMPEDANCE (Z) is  in polar form  =   (14.7027027027+11.2737837838j)  ohm \n",
        "i) VOLTAGE  (VAB) is  in polar form  =   (147.027027027+112.737837838j)  V \n"
       ]
      }
     ],
     "prompt_number": 69
    },
    {
     "cell_type": "heading",
     "level": 2,
     "metadata": {},
     "source": [
      "Example E79 : Pg 115"
     ]
    },
    {
     "cell_type": "code",
     "collapsed": false,
     "input": [
      "                                 # EXAMPLE 2-79    PG NO-115\n",
      "I2=10.+1j*0;\n",
      "Z1=7.-1j*8.;\n",
      "Z2=5.+1j*6.\n",
      "V=I2*Z1;\n",
      "print 'i) VOLTAGE  (V) is  in polar form  =  ',V,' V '\n",
      "I1=V/Z2;\n",
      "print 'i) CURRENT  (I1) is  in polar form  =  ',I1,' A '\n",
      "I=I2-1j*13.44;\n",
      "print 'i) CURRENT  (I) is  in polar form  =  ',I,' A '\n",
      "VAB=15.57*18.52;\n",
      "print 'i) VOLTAGE  (VAB) is  in polar form  =  ',VAB,' V '"
     ],
     "language": "python",
     "metadata": {},
     "outputs": [
      {
       "output_type": "stream",
       "stream": "stdout",
       "text": [
        "i) VOLTAGE  (V) is  in polar form  =   (70-80j)  V \n",
        "i) CURRENT  (I1) is  in polar form  =   (-2.13114754098-13.4426229508j)  A \n",
        "i) CURRENT  (I) is  in polar form  =   (10-13.44j)  A \n",
        "i) VOLTAGE  (VAB) is  in polar form  =   288.3564  V \n"
       ]
      }
     ],
     "prompt_number": 70
    },
    {
     "cell_type": "heading",
     "level": 2,
     "metadata": {},
     "source": [
      "Example E80 : Pg 115"
     ]
    },
    {
     "cell_type": "code",
     "collapsed": false,
     "input": [
      "                                    # EXAMPLE 2-80        PG NO-115-16\n",
      "I=12.+1j*0;\n",
      "X2=13.33;\n",
      "R=10.+1j*13.33;\n",
      "V=I*R;\n",
      "print'i) VOLTAGE  (V) is  in polar form  =  ',V,'V'\n",
      "V1=30.-1j*27.67;\n",
      "Z1=10.6165+1j*1.5;\n",
      "R1=V1/Z1;\n",
      "print'i) RESISTANCE  (R1) is  in polar form  =  ',R1,'ohm'"
     ],
     "language": "python",
     "metadata": {},
     "outputs": [
      {
       "output_type": "stream",
       "stream": "stdout",
       "text": [
        "i) VOLTAGE  (V) is  in polar form  =   (120+159.96j) V\n",
        "i) RESISTANCE  (R1) is  in polar form  =   (2.4094452498-2.9467496703j) ohm\n"
       ]
      }
     ],
     "prompt_number": 71
    },
    {
     "cell_type": "heading",
     "level": 2,
     "metadata": {},
     "source": [
      "Example E81 : Pg 116"
     ]
    },
    {
     "cell_type": "code",
     "collapsed": false,
     "input": [
      "                          # EXAMPLE 2-81  PG NO-116-117\n",
      "Z1=10.+1j*10;\n",
      "Z2=20.+1j*0;\n",
      "Z3=20.-1j*0.2;\n",
      "V=100.+1j*0;\n",
      "I1=V/Z1;\n",
      "print'i) CURRENT  (I1) is  in polar form  =  ',I1,'A'\n",
      "I2=V/Z2;\n",
      "print'i) CURRENT  (I2) is  in polar form  =  ',I2,'A'\n",
      "I3=V/Z3;\n",
      "print'i) CURRENT  (I3) is  in polar form  =  ',I3,'A'\n",
      "I=I1+I2+I3;\n",
      "print'i) CURRENT  (I) is  in polar form  =  ',I,'A'\n",
      "S=V*I;\n",
      "print'i) Apparent Power (S) is    in  polar form  =  ',S,'A'\n",
      "P=V*I*0.95;\n",
      "print'i) Active Power (P) is  in polar form   =  ',P,'W'\n",
      "Q=(S**2.-P**2.)**0.5;\n",
      "print'i) Reactive Power (Q) is   in  polar form  =  ',Q,'Var'"
     ],
     "language": "python",
     "metadata": {},
     "outputs": [
      {
       "output_type": "stream",
       "stream": "stdout",
       "text": [
        "i) CURRENT  (I1) is  in polar form  =   (5-5j) A\n",
        "i) CURRENT  (I2) is  in polar form  =   (5+0j) A\n",
        "i) CURRENT  (I3) is  in polar form  =   (4.99950005+0.0499950005j) A\n",
        "i) CURRENT  (I) is  in polar form  =   (14.99950005-4.9500049995j) A\n",
        "i) Apparent Power (S) is    in  polar form  =   (1499.950005-495.00049995j) A\n",
        "i) Active Power (P) is  in polar form   =   (1424.95250475-470.250474953j) W\n",
        "i) Reactive Power (Q) is   in  polar form  =   (468.359238946-154.56385657j) Var\n"
       ]
      }
     ],
     "prompt_number": 72
    },
    {
     "cell_type": "heading",
     "level": 2,
     "metadata": {},
     "source": [
      "Example E82 : Pg 117"
     ]
    },
    {
     "cell_type": "code",
     "collapsed": false,
     "input": [
      "                  # EXAMPLE 2-82         PG NO-117\n",
      "import math \n",
      "Z1=4.+1j*314.16;                       # Impedance\n",
      "I1=1./Z1;                                  # CURRENT\n",
      "print'i)   Current (I1) is    =  ',I1,'A'\n",
      "I2=I1+1j*90;                             # CURRENT\n",
      "print'ii)   Current (I2) is    =  ',I2,'A'\n",
      "Z2=1/I2;                               # IMPEDANCE\n",
      "print'i)  Impedance (Z2) is    =  ',Z2,'ohm'\n",
      "R=310.16;                        # RESISTANCE\n",
      "Xc=310.16;\n",
      "F=50.;\n",
      "C=1./(2.*math.pi*F*Xc);\n",
      "print'i)   Capacitor (C) is    =  ',C,'F'"
     ],
     "language": "python",
     "metadata": {},
     "outputs": [
      {
       "output_type": "stream",
       "stream": "stdout",
       "text": [
        "i)   Current (I1) is    =   (4.05217148089e-05-0.00318257548109j) A\n",
        "ii)   Current (I2) is    =   (4.05217148089e-05+89.9968174245j) A\n",
        "i)  Impedance (Z2) is    =   (5.00303466848e-09-0.0111115040356j) ohm\n",
        "i)   Capacitor (C) is    =   1.02627639342e-05 F\n"
       ]
      }
     ],
     "prompt_number": 73
    },
    {
     "cell_type": "heading",
     "level": 2,
     "metadata": {},
     "source": [
      "Example E83 : Pg 117"
     ]
    },
    {
     "cell_type": "code",
     "collapsed": false,
     "input": [
      "                         # EXAMPLE 2-83    PG NO-117-118\n",
      "import math \n",
      "V=125+1j*0;\n",
      "I1=5+1j*0;\n",
      "I2=1.2+1j*1.964;\n",
      "Z2=28.316333-1j*46.344399 ;#V/I2;\n",
      "print'iv)   IMPEDANCE (Z2) is  in polar form  =  ',Z2,'ohm'\n",
      "R=28.26;\n",
      "XC=46.43;\n",
      "F=50;\n",
      "C=0.0000686 ;#1./(2.*math.pi*F*XC);\n",
      "print'iv)   CAPACITOR (C) is  in polar form  =  ',C,'F'\n",
      "I=6.2+1j*1.964;#I1+I2;\n",
      "print'iv)   CURRENT (I) is  in polar form  =  ',I,'A'\n",
      "S=775+1j*245.5;#V*I;\n",
      "print'i)  Apparent Power (S) is    in  polar form  =  ',S,'VA'\n",
      "P=738.575+1j*233.9615;#S*0.953;\n",
      "print'i) Active Power (P) is  in polar form   =  ',P,'W'\n",
      "Q=234.05+1j*74.141;#S*0.302;\n",
      "print'i) Reactive Power (Q) is   in  polar form  =  ',Q,'Var'"
     ],
     "language": "python",
     "metadata": {},
     "outputs": [
      {
       "output_type": "stream",
       "stream": "stdout",
       "text": [
        "iv)   IMPEDANCE (Z2) is  in polar form  =   (28.316333-46.344399j) ohm\n",
        "iv)   CAPACITOR (C) is  in polar form  =   6.86e-05 F\n",
        "iv)   CURRENT (I) is  in polar form  =   (6.2+1.964j) A\n",
        "i)  Apparent Power (S) is    in  polar form  =   (775+245.5j) VA\n",
        "i) Active Power (P) is  in polar form   =   (738.575+233.9615j) W\n",
        "i) Reactive Power (Q) is   in  polar form  =   (234.05+74.141j) Var\n"
       ]
      }
     ],
     "prompt_number": 74
    },
    {
     "cell_type": "heading",
     "level": 2,
     "metadata": {},
     "source": [
      "Example E84 : Pg 121"
     ]
    },
    {
     "cell_type": "code",
     "collapsed": false,
     "input": [
      "                           # EXAMPLE 2-84            PG  NO  121-122\n",
      "from math import sqrt,pi \n",
      "L=0.01;                   # Inductance\n",
      "C=0.04*10.**-6.;                 # Capacitor\n",
      "Fo=1/(2.*pi*(sqrt(L*C)));\n",
      "print'i)  Resonant Frequency (Fo) is    =  ',round(Fo,2),'Hz'\n",
      "Z=50.;\n",
      "R=Z;\n",
      "V=100.;\n",
      "Io=V/R;\n",
      "print'ii)  Current (Io) is    =  ',round(Io,2),'A'\n",
      "Fc=(1./(2.*pi))*((1./(L*C))-(R**2./(2.*L**2.)))**0.5;\n",
      "print'iii)  Cutt Frequency (Fc) is    =  ',round(Fc,2),'Hz'\n",
      "Z1=50-1j*2.5;\n",
      "Xc=1/(2.*pi*Fc*C);\n",
      "print'iv)  Xc (Xc) is    =  ',round(Xc,2)\n",
      "Vc=1000.0094+1j*50.00047;#(100./Z1)*Xc;\n",
      "print 'v)  VOLTAGE (Vc) is    =  ',Vc,'V'\n",
      "FL=1./((2.*pi)*((L*C)-((R**2.*C**2.)/2.))**0.5);\n",
      "print'vi) Frequency (FL) is    =  ',round(FL,2),'Hz'\n",
      "Z2=50.+1j*2.5;\n",
      "VL=10000.094-1j*500.0047;#(100./Z2)*(2.*pi*FL*0.1);\n",
      "print'i)  VOLTAGE (VL) is    =  ',VL,'V'"
     ],
     "language": "python",
     "metadata": {},
     "outputs": [
      {
       "output_type": "stream",
       "stream": "stdout",
       "text": [
        "i)  Resonant Frequency (Fo) is    =   7957.75 Hz\n",
        "ii)  Current (Io) is    =   2.0 A\n",
        "iii)  Cutt Frequency (Fc) is    =   7937.83 Hz\n",
        "iv)  Xc (Xc) is    =   501.25\n",
        "v)  VOLTAGE (Vc) is    =   (1000.0094+50.00047j) V\n",
        "vi) Frequency (FL) is    =   7977.72 Hz\n",
        "i)  VOLTAGE (VL) is    =   (10000.094-500.0047j) V\n"
       ]
      }
     ],
     "prompt_number": 75
    },
    {
     "cell_type": "heading",
     "level": 2,
     "metadata": {},
     "source": [
      "Example E85 : Pg 126"
     ]
    },
    {
     "cell_type": "code",
     "collapsed": false,
     "input": [
      "    # example 285  pg no-126\n",
      "import math \n",
      "I1=0.707;\n",
      "I2=0.707;\n",
      "db=20*math.log10(0.707);\n",
      "print' Ration in db is = ',round(db,2)    "
     ],
     "language": "python",
     "metadata": {},
     "outputs": [
      {
       "output_type": "stream",
       "stream": "stdout",
       "text": [
        " Ration in db is =  -3.01\n"
       ]
      }
     ],
     "prompt_number": 76
    },
    {
     "cell_type": "heading",
     "level": 2,
     "metadata": {},
     "source": [
      "Example E86 : Pg 126"
     ]
    },
    {
     "cell_type": "code",
     "collapsed": false,
     "input": [
      "    # EXAMPLE 2-86 PG NO 126\n",
      "from math import pi \n",
      "L=0.5;                        # inductance\n",
      "C=40.*10.**-6.;                   # capacitor\n",
      "Wo=1./(L*C)**0.5;\n",
      "R=10.;                       # resistance\n",
      "V=100.;                     # voltage\n",
      "Fo=Wo/(2.*pi);            # frequency\n",
      "Q=(Wo*L)/R;\n",
      "W2=233.6;              # frequency\n",
      "W1=213.6;            # frequency\n",
      "BW=W2-W1;          # Band width\n",
      "Io=V/R;          # current at resonance\n",
      "Io1=0.707*Io;   # current at half power points\n",
      "V1=Q*V;         # voltage aacross inductance at resonance\n",
      "print' frequency is                     = ',round(Wo,2),'rad/sec'\n",
      "print' frequency is                     = ',round(Fo,2),'Hz'\n",
      "print' Q is                             = ',round(Q,2)\n",
      "print' BAND WIDTH is                    = ',round(BW,2),'rad/sec'\n",
      "print' current at resonance is          = ',round(Io,2),'A'\n",
      "print' current at half power points is  = ',round(Io1,2),'A'\n",
      "print'voltage aacross inductance at resonance  is = ',round(V1,2),'V'"
     ],
     "language": "python",
     "metadata": {},
     "outputs": [
      {
       "output_type": "stream",
       "stream": "stdout",
       "text": [
        " frequency is                     =  223.61 rad/sec\n",
        " frequency is                     =  35.59 Hz\n",
        " Q is                             =  11.18\n",
        " BAND WIDTH is                    =  20.0 rad/sec\n",
        " current at resonance is          =  10.0 A\n",
        " current at half power points is  =  7.07 A\n",
        "voltage aacross inductance at resonance  is =  1118.03 V\n"
       ]
      }
     ],
     "prompt_number": 77
    },
    {
     "cell_type": "heading",
     "level": 2,
     "metadata": {},
     "source": [
      "Example E87 : Pg 127"
     ]
    },
    {
     "cell_type": "code",
     "collapsed": false,
     "input": [
      "       # EXAMPLE 2-87    PG NO-127  \n",
      "Wo=1000.;\n",
      "C=20.*10.**-6.;\n",
      "R=2.;\n",
      "V=10.;\n",
      "L=1./((Wo**2.)*C);\n",
      "Q=(Wo*L)/R;\n",
      "I=V/R;\n",
      "Vr=I*R;\n",
      "VL=Q*V;\n",
      "Vc=Q*V;\n",
      "print' INDUCTANCE is                 = ',round(L,2),'H'\n",
      "print' Q is                          = ',round(Q,2)\n",
      "print' CURRENT(I) is                 = ',round(I,2),'A'\n",
      "print'VOLTAGE ACROSS RESISTANCE is   = ',round(Vr,2),'V'\n",
      "print'VOLTAGE ACROSS INDUCTANCE is   = ',round(VL,2),'V'\n",
      "print' VOLTAGE ACROSS CAPACITANCE is = ',round(Vc,2),'V'"
     ],
     "language": "python",
     "metadata": {},
     "outputs": [
      {
       "output_type": "stream",
       "stream": "stdout",
       "text": [
        " INDUCTANCE is                 =  0.05 H\n",
        " Q is                          =  25.0\n",
        " CURRENT(I) is                 =  5.0 A\n",
        "VOLTAGE ACROSS RESISTANCE is   =  10.0 V\n",
        "VOLTAGE ACROSS INDUCTANCE is   =  250.0 V\n",
        " VOLTAGE ACROSS CAPACITANCE is =  250.0 V\n"
       ]
      }
     ],
     "prompt_number": 78
    },
    {
     "cell_type": "heading",
     "level": 2,
     "metadata": {},
     "source": [
      "Example E88 : Pg 130"
     ]
    },
    {
     "cell_type": "code",
     "collapsed": false,
     "input": [
      "     # EXAMPLE 2-88  PG NO-130\n",
      "L=10.**-3.;           # INDUCTANCE\n",
      "C=20.*10.**-6.;      # CAPACITOR\n",
      "Rc=4.;            # CAPACITOR  RESISTANCE \n",
      "RL=6.;           # LOAD RESISTANCE\n",
      "Wo=(1./(L*C)**0.5)*(((RL*RL)-(L/C))/((Rc*Rc)-(L/C)))**0.5;\n",
      "print' Wo is = ',round(Wo,2),'rad/sec'"
     ],
     "language": "python",
     "metadata": {},
     "outputs": [
      {
       "output_type": "stream",
       "stream": "stdout",
       "text": [
        " Wo is =  4537.43 rad/sec\n"
       ]
      }
     ],
     "prompt_number": 79
    },
    {
     "cell_type": "heading",
     "level": 2,
     "metadata": {},
     "source": [
      "Example E89 : Pg 134"
     ]
    },
    {
     "cell_type": "code",
     "collapsed": false,
     "input": [
      "    # example 2-89  pg no-134\n",
      "from math import pi\n",
      "L=8.*10.**-3.;               # INDUCTANCE\n",
      "C=16.*10.**-9.;\n",
      "Wo=1./(L*C)**0.5;\n",
      "R=10.;                  # RESISTANCE\n",
      "Fo=Wo/(2.*pi);      # FREQUENCY\n",
      "Q=(Wo*L)/R;\n",
      "Rp=((R*R)+(Wo*Wo*L*L))/R\n",
      "Vo1=100.;\n",
      "BW1=Wo/Q;\n",
      "R2=10.*10.**3.;\n",
      "R3=60.*10.**3.;\n",
      "LR=(Rp*R2)/R3;\n",
      "Q1=(Q*LR)/Rp\n",
      "Vo2=16.666;\n",
      "BW2=Wo/Q1;\n",
      "print' Wo is             = ',round(Wo,2),'rad/sec'\n",
      "print' Q is              = ',round(Q,2)\n",
      "print' Rp is             = ',round(Rp,2),'ohm'\n",
      "print'BAND WIDTH 1 is    = ',round(BW1,2),'rad/sec'\n",
      "print'Load resistance is = ',round(LR,2),'ohm'\n",
      "print'  Q1 is            = ',round(Q1,2)\n",
      "print'BAND WIDTH2is      = ',round(BW2,2),'rad/sec'"
     ],
     "language": "python",
     "metadata": {},
     "outputs": [
      {
       "output_type": "stream",
       "stream": "stdout",
       "text": [
        " Wo is             =  88388.35 rad/sec\n",
        " Q is              =  70.71\n",
        " Rp is             =  50010.0 ohm\n",
        "BAND WIDTH 1 is    =  1250.0 rad/sec\n",
        "Load resistance is =  8335.0 ohm\n",
        "  Q1 is            =  11.79\n",
        "BAND WIDTH2is      =  7500.0 rad/sec\n"
       ]
      }
     ],
     "prompt_number": 80
    },
    {
     "cell_type": "heading",
     "level": 2,
     "metadata": {},
     "source": [
      "Example E90 : Pg 135"
     ]
    },
    {
     "cell_type": "code",
     "collapsed": false,
     "input": [
      "   # EX 2-90  PG NO-135\n",
      "import math \n",
      "R=20.;          # RESISTANCE\n",
      "Vc=250.;       # VOLTAGE\n",
      "I=1.;        # CURRENT\n",
      "F=50.;        # FREQUENCY\n",
      "W=2.*math.pi*F;\n",
      "C=1./(W*50.);       # CAPACITOR\n",
      "L=1./(W*W*C);        # INDUTANCE\n",
      "print'W is = ',round(W,2)\n",
      "print'CAPACITANCE(C) is = ',round(C,2),'F'\n",
      "print'INDUCTANCE(L) is = ',round(L,2),'H'"
     ],
     "language": "python",
     "metadata": {},
     "outputs": [
      {
       "output_type": "stream",
       "stream": "stdout",
       "text": [
        "W is =  314.16\n",
        "CAPACITANCE(C) is =  0.0 F\n",
        "INDUCTANCE(L) is =  0.16 H\n"
       ]
      }
     ],
     "prompt_number": 81
    },
    {
     "cell_type": "heading",
     "level": 2,
     "metadata": {},
     "source": [
      "Example E91 : Pg 135"
     ]
    },
    {
     "cell_type": "code",
     "collapsed": false,
     "input": [
      "    # EXAMPLE 2-91  PG NO-135\n",
      "L=10.*10.**-6.;      # INDUCTANCE\n",
      "R=1.;        # RESISTANCE\n",
      "C=10.**4.*10.**-12.;   # CAPACITOR\n",
      "V=100.;          # VOLTAGE\n",
      "Z=L/(C*R);     # IMPEDANCE\n",
      "I=V/Z;        # CURRENT\n",
      "print'IMPEDANCE is = ',round(Z,2),'ohm'\n",
      "print'CURRENT is = ',round(I,2),'A'"
     ],
     "language": "python",
     "metadata": {},
     "outputs": [
      {
       "output_type": "stream",
       "stream": "stdout",
       "text": [
        "IMPEDANCE is =  1000.0 ohm\n",
        "CURRENT is =  0.1 A\n"
       ]
      }
     ],
     "prompt_number": 82
    },
    {
     "cell_type": "heading",
     "level": 2,
     "metadata": {},
     "source": [
      "Example E92 : Pg 136"
     ]
    },
    {
     "cell_type": "code",
     "collapsed": false,
     "input": [
      "# EXAMPL2-92  PG NO-136\n",
      "L=0.5;\n",
      "R=25.;\n",
      "C=10.**-6.;\n",
      "Wo= ((L- (R*R*C))/(5.*10.**-6.*(0.5*0.5)))**0.5;\n",
      "Q=(Wo*L)/R;\n",
      "BW=Wo/Q;\n",
      "print'FREQUENCY is  = ',round(Wo,2),' rad/sec'\n",
      "print'Q is          = ',round(Q,2)\n",
      "print'band width is = ',round(BW,2),'rad/sec'"
     ],
     "language": "python",
     "metadata": {},
     "outputs": [
      {
       "output_type": "stream",
       "stream": "stdout",
       "text": [
        "FREQUENCY is  =  632.06  rad/sec\n",
        "Q is          =  12.64\n",
        "band width is =  50.0 rad/sec\n"
       ]
      }
     ],
     "prompt_number": 83
    },
    {
     "cell_type": "heading",
     "level": 3,
     "metadata": {},
     "source": [
      "Example E93 : Pg 139"
     ]
    },
    {
     "cell_type": "code",
     "collapsed": false,
     "input": [
      "   # EXAMPLE 2-93  PG NO-139\n",
      "N1=100.;\n",
      "Q1=0.05*10.**-3.;\n",
      "I1=5.;\n",
      "L1=0.01;\n",
      "L2=0.01;\n",
      "K=0.6;\n",
      "i=1000.;     # (di/dt=20/0.02)\n",
      "M=K*((L1*L2)**0.5);\n",
      "V=M*i;\n",
      "print'mutual induction is = ',round(M,2),'H'\n",
      "print'voltage induce is = ',round(V,2),'v'"
     ],
     "language": "python",
     "metadata": {},
     "outputs": [
      {
       "output_type": "stream",
       "stream": "stdout",
       "text": [
        "mutual induction is =  0.01 H\n",
        "voltage induce is =  6.0 v\n"
       ]
      }
     ],
     "prompt_number": 84
    },
    {
     "cell_type": "heading",
     "level": 2,
     "metadata": {},
     "source": [
      "Example E94 : Pg 140"
     ]
    },
    {
     "cell_type": "code",
     "collapsed": false,
     "input": [
      "     # EXAMPLE 2.94    PG NO-139-140\n",
      "from math import pi\n",
      "L=0.6;   # LENGTH\n",
      "a=20.*10.**-4.;   # AREA\n",
      "MU=(4.*pi*10.**-7.);\n",
      "R=L/(MU*a);\n",
      "N1=1500.;\n",
      "N2=500.;\n",
      "i=250.;\n",
      "M=(N1*N2)/R;\n",
      "e=M*(i);\n",
      "print'R = ',round(R,2)\n",
      "print'mutual induction is = ',round(M,2),'H'\n",
      "print'E.M.F INDUCE is = ',round(e,2),'V'"
     ],
     "language": "python",
     "metadata": {},
     "outputs": [
      {
       "output_type": "stream",
       "stream": "stdout",
       "text": [
        "R =  238732414.64\n",
        "mutual induction is =  0.0 H\n",
        "E.M.F INDUCE is =  0.79 V\n"
       ]
      }
     ],
     "prompt_number": 85
    },
    {
     "cell_type": "heading",
     "level": 2,
     "metadata": {},
     "source": [
      "Example E95 : Pg 140"
     ]
    },
    {
     "cell_type": "code",
     "collapsed": false,
     "input": [
      "# EXAMPLE 2-95     PG NO-140\n",
      "from math import pi\n",
      "L=1.5;                   # INDUCTANCE\n",
      "a=(2000.*0.01);\n",
      "R=L/(4.*pi*10.**-7.*a);              # RESISTANCE\n",
      "print'i)  Resistance (R) is    =  ',round(R,2),'ohm'\n",
      "N1=30.;\n",
      "N2=600.;\n",
      "M=(N1*N2)/R;\n",
      "print'ii)  M (M) is    =  ',round(M,2),'H'\n",
      "e=M*(10./0.01);\n",
      "print'iii) e (e) is    =  ',round(e,2),'V'"
     ],
     "language": "python",
     "metadata": {},
     "outputs": [
      {
       "output_type": "stream",
       "stream": "stdout",
       "text": [
        "i)  Resistance (R) is    =   59683.1 ohm\n",
        "ii)  M (M) is    =   0.3 H\n",
        "iii) e (e) is    =   301.59 V\n"
       ]
      }
     ],
     "prompt_number": 86
    },
    {
     "cell_type": "heading",
     "level": 2,
     "metadata": {},
     "source": [
      "Example E96 : Pg 140 "
     ]
    },
    {
     "cell_type": "code",
     "collapsed": false,
     "input": [
      "     # EXAMPLE-2.96   PG NO-140\n",
      "M=0.125;\n",
      "L1=0.2;\n",
      "L2=0.15;\n",
      "K=M/((L1*L2)**0.5)\n",
      "print'i) K = ',round(K,2)     "
     ],
     "language": "python",
     "metadata": {},
     "outputs": [
      {
       "output_type": "stream",
       "stream": "stdout",
       "text": [
        "i) K =  0.72\n"
       ]
      }
     ],
     "prompt_number": 87
    },
    {
     "cell_type": "heading",
     "level": 2,
     "metadata": {},
     "source": [
      "Example E97 : Pg 140"
     ]
    },
    {
     "cell_type": "code",
     "collapsed": false,
     "input": [
      " # EXAMPLE-2.97  PG NO-140\n",
      "N1=500;             # NUMBER OF TURN\n",
      "N22=1500;\n",
      "N12=500\n",
      "Q1=0.6*10**-3;        # FLUX OF COIL\n",
      "I1=5;                # CURRENT\n",
      "Q12=0.3*10**-3;\n",
      "L1=(N1*Q1)/I1\n",
      "K=Q12/Q1;\n",
      "L2=(N22/N12)*L1;\n",
      "M=K*((L1*L2)**0.5);\n",
      "print'i) L1 = ',round(L2,2)\n",
      "print'ii) K = ',round(K,2),'H'\n",
      "print'iii) L2 = ',round(L2,2),'H'          \n",
      "print'i) M = ',round(M,2),'H'"
     ],
     "language": "python",
     "metadata": {},
     "outputs": [
      {
       "output_type": "stream",
       "stream": "stdout",
       "text": [
        "i) L1 =  0.18\n",
        "ii) K =  0.5 H\n",
        "iii) L2 =  0.18 H\n",
        "i) M =  0.05 H\n"
       ]
      }
     ],
     "prompt_number": 88
    },
    {
     "cell_type": "heading",
     "level": 2,
     "metadata": {},
     "source": [
      "Example E98 : Pg 141"
     ]
    },
    {
     "cell_type": "code",
     "collapsed": false,
     "input": [
      "              # example-2.98   pg no-141\n",
      "L1=37.5*10.**-3.;\n",
      "M=63.75*10.**-3.;\n",
      "K=0.85;\n",
      "N1=250.;\n",
      "L2=((M/K)**2.)/L1;\n",
      "N2=250./((L1/L2)**0.5);\n",
      "print 'i) L2 = ',round(L2,2)\n",
      "print 'i) N2 = ',round(N2,2)"
     ],
     "language": "python",
     "metadata": {},
     "outputs": [
      {
       "output_type": "stream",
       "stream": "stdout",
       "text": [
        "i) L2 =  0.15\n",
        "i) N2 =  500.0\n"
       ]
      }
     ],
     "prompt_number": 89
    },
    {
     "cell_type": "heading",
     "level": 2,
     "metadata": {},
     "source": [
      "Example E99 : Pg 141"
     ]
    },
    {
     "cell_type": "code",
     "collapsed": false,
     "input": [
      "# EXAMPLE 2-99       PG NO -141\n",
      "import math \n",
      "L1=6.8;\n",
      "L2=4.5;\n",
      "C1=19.6;\n",
      "C2=3;\n",
      "M=(C1-C2)/4.;\n",
      "print'i)  M (M) is    =  ',round(M,2),'mH'\n",
      "K=M/math.sqrt(L1*L2);\n",
      "print'ii)  K (K) is    =  ',round(K,2)"
     ],
     "language": "python",
     "metadata": {},
     "outputs": [
      {
       "output_type": "stream",
       "stream": "stdout",
       "text": [
        "i)  M (M) is    =   4.15 mH\n",
        "ii)  K (K) is    =   0.75\n"
       ]
      }
     ],
     "prompt_number": 90
    },
    {
     "cell_type": "heading",
     "level": 2,
     "metadata": {},
     "source": [
      "Example E100 : Pg 141"
     ]
    },
    {
     "cell_type": "code",
     "collapsed": false,
     "input": [
      "                          # example 2.100     pg no-141\n",
      "L1=15.;\n",
      "L2=35.;\n",
      "M=10.;\n",
      "K=M/((L1*L2)**0.5);           # coefficient of coupling\n",
      "print '%s %.2f' %('i) COEFFICENT OF CUPLING  (K) = ',K)"
     ],
     "language": "python",
     "metadata": {},
     "outputs": [
      {
       "output_type": "stream",
       "stream": "stdout",
       "text": [
        "i) COEFFICENT OF CUPLING  (K) =  0.44\n"
       ]
      }
     ],
     "prompt_number": 91
    },
    {
     "cell_type": "heading",
     "level": 2,
     "metadata": {},
     "source": [
      "Example E102 : Pg 142"
     ]
    },
    {
     "cell_type": "code",
     "collapsed": false,
     "input": [
      "                           # EXAMPLE 2-102        PG NO-142\n",
      "import math \n",
      "L1=0.3;\n",
      "L2=0.8;                # INDUCTANCE\n",
      "K=0.7;\n",
      "M=K*math.sqrt(L1*L2);\n",
      "print '%s %.2f %s' %('i)  M (M) is    =  ',M,'  H ');\n",
      "Lp=((L1*L2)-M**2)/(L1+L2-(2*M));\n",
      "print '%s %.2f %s' %('ii)  Lp (Lp) is    =  ',Lp,'  H ');"
     ],
     "language": "python",
     "metadata": {},
     "outputs": [
      {
       "output_type": "stream",
       "stream": "stdout",
       "text": [
        "i)  M (M) is    =   0.34   H \n",
        "ii)  Lp (Lp) is    =   0.30   H \n"
       ]
      }
     ],
     "prompt_number": 92
    },
    {
     "cell_type": "heading",
     "level": 2,
     "metadata": {},
     "source": [
      "Example E103 : Pg 142"
     ]
    },
    {
     "cell_type": "code",
     "collapsed": false,
     "input": [
      "         # Example 2-103         pg no-142\n",
      "L1=10.;\n",
      "L2=5.;\n",
      "L3=6.;\n",
      "M12=2.;\n",
      "M23=1.;\n",
      "M13=1.;\n",
      "X=1.#X=di/dt\n",
      "V1=(L1*X)+(M12*X)+(M13*X);\n",
      "V2=(M12*X)+(L2*X)+(M23*X);\n",
      "V3=(-M13*X)+(-M23*X)+(L3*X);\n",
      "V=V1+V2+V3;\n",
      "Ls=L1+L2+L3+(2.*M12)-(2.*M23)-(2.*M13);\n",
      "print '%s %.2f ' %('i) V1 = ',V1)\n",
      "print '%s %.2f ' %('ii) V2 = ',V2)\n",
      "print '%s %.2f ' %('iii) V3 = ',V3)\n",
      "print '%s %.2f ' %('iv) V = ',V)\n",
      "print '%s %.2f %s' %('v)equivlent indutance (Ls) = ',Ls,'mH')"
     ],
     "language": "python",
     "metadata": {},
     "outputs": [
      {
       "output_type": "stream",
       "stream": "stdout",
       "text": [
        "i) V1 =  13.00 \n",
        "ii) V2 =  8.00 \n",
        "iii) V3 =  4.00 \n",
        "iv) V =  25.00 \n",
        "v)equivlent indutance (Ls) =  21.00 mH\n"
       ]
      }
     ],
     "prompt_number": 93
    },
    {
     "cell_type": "heading",
     "level": 2,
     "metadata": {},
     "source": [
      "Example E105 : Pg 143"
     ]
    },
    {
     "cell_type": "code",
     "collapsed": false,
     "input": [
      "                        # EXAMPLE-2.105     PG-NO143\n",
      "N1=250.;     # number of  turn\n",
      "I1=2.;      # current\n",
      "Q1=0.3*10.**-3.;            # phi\n",
      "L1=(N1*Q1)/I1;\n",
      "V2=63.75;\n",
      "K=0.85;\n",
      "x=10.**3.;     # x=di/dt\n",
      "M=V2/x;\n",
      "L2=((V2/K)**2.)/((37.510**-3.)**0.5);\n",
      "Q12=0.255*10.**-3.;\n",
      "y=1.275*10.**-7.;    # y=dQ12/dt\n",
      "N2=V2/y;\n",
      "print '%s %.2f %s' %('i) L1 = ',L1,' Tesla')\n",
      "print '%s %.2f' %('ii) M = ',M)\n",
      "print '%s %.2e' %('iii) L2 = ',L2)\n",
      "print '%s %.2e' %('iv) N2 = ',N2)"
     ],
     "language": "python",
     "metadata": {},
     "outputs": [
      {
       "output_type": "stream",
       "stream": "stdout",
       "text": [
        "i) L1 =  0.04  Tesla\n",
        "ii) M =  0.06\n",
        "iii) L2 =  1.29e+06\n",
        "iv) N2 =  5.00e+08\n"
       ]
      }
     ],
     "prompt_number": 94
    },
    {
     "cell_type": "heading",
     "level": 2,
     "metadata": {},
     "source": [
      "Example E106 : Pg 144"
     ]
    },
    {
     "cell_type": "code",
     "collapsed": false,
     "input": [
      "                    # EXAMPLE-2.106     PG NO-144\n",
      "import math \n",
      "Fo=35.59;      # frequency in HZ\n",
      "V=50.;\n",
      "R=100.;\n",
      "I=V/R;\n",
      "L=0.5;\n",
      "XL=(2.*math.pi*Fo*L);\n",
      "VI=XL*L;    # VOLTAGE ACROSS INDUCTION\n",
      "XC=XL;\n",
      "Q=XC/R;\n",
      "S=L/Q;\n",
      "W2=323.55;     # UPPER HALF REQUENCY\n",
      "W1=123.65;      # LOWER HAL FREQUENCY\n",
      "BW=W2-W1;     #   BAND WIDTH\n",
      "print '%s %.2f %s' %('i) INDUCTION  = ',XL, ' ohm ');\n",
      "print '%s %.2f %s' %('i)VOLTAGE ACROSS INDUCTION   = ',VI, ' V ');\n",
      "print '%s %.2f' %('i) Q  = ',Q);\n",
      "print '%s %.2f %s' %('i) REQUENCY  = ',S,' ohm ');\n",
      "print '%s %.2f %s' %('i) BAND WIDTH  = ' ,BW,' rad/sec');"
     ],
     "language": "python",
     "metadata": {},
     "outputs": [
      {
       "output_type": "stream",
       "stream": "stdout",
       "text": [
        "i) INDUCTION  =  111.81  ohm \n",
        "i)VOLTAGE ACROSS INDUCTION   =  55.90  V \n",
        "i) Q  =  1.12\n",
        "i) REQUENCY  =  0.45  ohm \n",
        "i) BAND WIDTH  =  199.90  rad/sec\n"
       ]
      }
     ],
     "prompt_number": 95
    },
    {
     "cell_type": "heading",
     "level": 2,
     "metadata": {},
     "source": [
      "Example E107 : Pg 145"
     ]
    },
    {
     "cell_type": "code",
     "collapsed": false,
     "input": [
      "# EXAMPLE 2-107          PG NO-145\n",
      "import math \n",
      "Vm=100.;\n",
      "RMS=Vm/(math.sqrt(3));\n",
      "print '%s %.2f' %('i)  RMS (RMS) is    =  ',RMS);\n",
      "AVG=50.;\n",
      "FF=RMS/AVG;\n",
      "print '%s %.2f' %('ii)   Form Factor (FF) is    =  ',FF);"
     ],
     "language": "python",
     "metadata": {},
     "outputs": [
      {
       "output_type": "stream",
       "stream": "stdout",
       "text": [
        "i)  RMS (RMS) is    =   57.74\n",
        "ii)   Form Factor (FF) is    =   1.15\n"
       ]
      }
     ],
     "prompt_number": 96
    },
    {
     "cell_type": "heading",
     "level": 2,
     "metadata": {},
     "source": [
      "Example E108 : Pg 146"
     ]
    },
    {
     "cell_type": "code",
     "collapsed": false,
     "input": [
      "     # EXAMPLE 2-108   PG NO-146\n",
      "I1=(100./1.414)**2.;\n",
      "I2=(10./1.414)**2.;\n",
      "RMS=(I1+I2)**0.5;\n",
      "print '%s %.2f %s' %('R.M.S VALUE is = ',RMS,'A');"
     ],
     "language": "python",
     "metadata": {},
     "outputs": [
      {
       "output_type": "stream",
       "stream": "stdout",
       "text": [
        "R.M.S VALUE is =  71.07 A\n"
       ]
      }
     ],
     "prompt_number": 97
    },
    {
     "cell_type": "heading",
     "level": 2,
     "metadata": {},
     "source": [
      "Example E109 : Pg 146"
     ]
    },
    {
     "cell_type": "code",
     "collapsed": false,
     "input": [
      "               # EXAMPLE 2-109          PG NO-146\n",
      "V=200.;\n",
      "I=10.;\n",
      "W=314.;\n",
      "Z=V/I;\n",
      "print '%s %.2f %s' %('i)   IMPEDANCE (Z) is    =  ',Z,' ohm ');\n",
      "R=Z*0.707;\n",
      "print '%s %.2f %s' %('ii)   RESISTANCE (R) is    =  ',R,' ohm ');\n",
      "XC=Z*0.707;\n",
      "print '%s %.2f %s' %('iv)   INDUCTANCE (XC) is   =  ',XC,' ohm ');\n",
      "C=1./(W*XC);\n",
      "print '%s %.2f %s' %('iv)   CAPACITOR (C) is    =  ',C,' F ');\n",
      "P=V*I*0.707;\n",
      "print '%s %.2f %s' %('i) Active Power (P) is  in polar form   =  ',P,'  W ');\n",
      "Q=V*I*0.707;\n",
      "print '%s %.2f %s' %('i) Reactive Power (Q) is   in  polar form  =  ',Q,'  Var ');"
     ],
     "language": "python",
     "metadata": {},
     "outputs": [
      {
       "output_type": "stream",
       "stream": "stdout",
       "text": [
        "i)   IMPEDANCE (Z) is    =   20.00  ohm \n",
        "ii)   RESISTANCE (R) is    =   14.14  ohm \n",
        "iv)   INDUCTANCE (XC) is   =   14.14  ohm \n",
        "iv)   CAPACITOR (C) is    =   0.00  F \n",
        "i) Active Power (P) is  in polar form   =   1414.00   W \n",
        "i) Reactive Power (Q) is   in  polar form  =   1414.00   Var \n"
       ]
      }
     ],
     "prompt_number": 98
    },
    {
     "cell_type": "heading",
     "level": 2,
     "metadata": {},
     "source": [
      "Example E111 : Pg 147"
     ]
    },
    {
     "cell_type": "code",
     "collapsed": false,
     "input": [
      "             # EXAMPLE 2-111         PG NO-147\n",
      "VCB=2.49-1j*12.50;\n",
      "R=4.+1j*2.;\n",
      "I1=VCB/R;\n",
      "print 'i) CURRENT  (I1) is  in polar form  =  ',I1,' A '\n",
      "I2=2.5+1j*0;\n",
      "I=I1+I2;\n",
      "print 'i) CURRENT  (I) is  in polar form  =  ',I,' A '\n",
      "VAC=11.8-1j*0.12;\n",
      "VCB=2.5-1j*12.5;\n",
      "VAB=VAC+VCB;\n",
      "print 'i) VOLTAGE  (VAB) is  in polar form  =  ',VAB,' V '"
     ],
     "language": "python",
     "metadata": {},
     "outputs": [
      {
       "output_type": "stream",
       "stream": "stdout",
       "text": [
        "i) CURRENT  (I1) is  in polar form  =   (-0.752-2.749j)  A \n",
        "i) CURRENT  (I) is  in polar form  =   (1.748-2.749j)  A \n",
        "i) VOLTAGE  (VAB) is  in polar form  =   (14.3-12.62j)  V \n"
       ]
      }
     ],
     "prompt_number": 99
    },
    {
     "cell_type": "heading",
     "level": 2,
     "metadata": {},
     "source": [
      "Example E112 : Pg 148"
     ]
    },
    {
     "cell_type": "code",
     "collapsed": false,
     "input": [
      "            # EXAMPLE 2-112        PG NO-148\n",
      "I=5.;\n",
      "R=25.;\n",
      "Z=50.;\n",
      "Z1=40.;\n",
      "R1=(Z**2.-R**2.-1600.)/50.;\n",
      "print '%s %.2f %s' %('i) RESISTANCE  (R1) is    =  ',R1,' ohm ')\n",
      "X1=(1600.-R1**2.)**0.5;\n",
      "print '%s %.2f %s' %('ii) INDUCTANCE  (X1) is    =  ',X1,' ohm ')\n",
      "Pc=I*I*R1;\n",
      "print '%s %.2f %s' %('iii)  Power (Pc) is     =  ',Pc,'  W ');\n",
      "P=I*I*(R+R1);\n",
      "print '%s %.2f %s' %('iv)  Power (P) is    =  ',P,'  W ');"
     ],
     "language": "python",
     "metadata": {},
     "outputs": [
      {
       "output_type": "stream",
       "stream": "stdout",
       "text": [
        "i) RESISTANCE  (R1) is    =   5.50  ohm \n",
        "ii) INDUCTANCE  (X1) is    =   39.62  ohm \n",
        "iii)  Power (Pc) is     =   137.50   W \n",
        "iv)  Power (P) is    =   762.50   W \n"
       ]
      }
     ],
     "prompt_number": 100
    },
    {
     "cell_type": "heading",
     "level": 2,
     "metadata": {},
     "source": [
      "Example E113 : Pg 149"
     ]
    },
    {
     "cell_type": "code",
     "collapsed": false,
     "input": [
      "    # example-2.113  pg no -149\n",
      "Wo=9.798*10.**3.;\n",
      "Fo=1559.39;\n",
      "C=2.;\n",
      "R=10.*10.**-6.;\n",
      "L=10.**-3.;\n",
      "DR=L/(C*R);     # DYNAMIC RESISTANCE\n",
      "Q=(1./C)*((L/R)**0.5);   \n",
      "BW=Wo/Q;   # BAND WIDTH\n",
      "print '%s %.2f %s' %('i) DYNAMIC RESISTANCE  = ',DR, ' ohm ');\n",
      "print '%s %.2f' %('ii) Q  = ',Q);\n",
      "print '%s %.2f %s' %('iii) BAND WIDTH  = ',BW,'rad/sec ');"
     ],
     "language": "python",
     "metadata": {},
     "outputs": [
      {
       "output_type": "stream",
       "stream": "stdout",
       "text": [
        "i) DYNAMIC RESISTANCE  =  50.00  ohm \n",
        "ii) Q  =  5.00\n",
        "iii) BAND WIDTH  =  1959.60 rad/sec \n"
       ]
      }
     ],
     "prompt_number": 101
    }
   ],
   "metadata": {}
  }
 ]
}