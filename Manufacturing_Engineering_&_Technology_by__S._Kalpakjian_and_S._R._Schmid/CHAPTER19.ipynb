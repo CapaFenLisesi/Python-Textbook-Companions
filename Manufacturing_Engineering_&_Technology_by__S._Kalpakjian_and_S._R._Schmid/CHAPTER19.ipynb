{
 "metadata": {
  "name": "",
  "signature": "sha256:32180713c5030f9ff63ca3f349b1cd742b958bddcaf20423c7b905fcae74408e"
 },
 "nbformat": 3,
 "nbformat_minor": 0,
 "worksheets": [
  {
   "cells": [
    {
     "cell_type": "heading",
     "level": 1,
     "metadata": {},
     "source": [
      "CHAPTER 19 - Plastics and Composite Materials: Forming\n",
      "and Shaping"
     ]
    },
    {
     "cell_type": "heading",
     "level": 2,
     "metadata": {},
     "source": [
      "EXAMPLE 19.1 - PG NO. 491"
     ]
    },
    {
     "cell_type": "code",
     "collapsed": false,
     "input": [
      "#example 19.1\n",
      "#page no. 491\n",
      "# Given that\n",
      "W=400#in mm Lateral(width) Dimension of a plastic shopping bag \n",
      "\n",
      "# Sample Problem on page no. 484\n",
      "\n",
      "print(\"\\n # Blown Film # \\n\")\n",
      "\n",
      "#part(a)\n",
      "\n",
      "P=2.*W#in mm Perimeter of bag\n",
      "D=P/3.14#in mm blown diameter calculated from Permeter=3.14*diameter\n",
      "#Given in this process, a tube is expanded to form 1.5 to 2.5 in times the extrusion die diameter, so take maximum value 2.5\n",
      "Dd=D/2.5#Extrusion die diameter\n",
      "print'%s %d %s' %(\"\\n\\n Extrusion Die Diameter =\",Dd,\"mm\")\n",
      "\n",
      "#Answer varies due to approximations\n",
      "\n",
      "#part(b) is theoritical\n"
     ],
     "language": "python",
     "metadata": {},
     "outputs": [
      {
       "output_type": "stream",
       "stream": "stdout",
       "text": [
        "\n",
        " # Blown Film # \n",
        "\n",
        "\n",
        "\n",
        " Extrusion Die Diameter = 101 mm\n"
       ]
      }
     ],
     "prompt_number": 1
    },
    {
     "cell_type": "heading",
     "level": 2,
     "metadata": {},
     "source": [
      "EXAMPLE 19.2 - PG NO. 498"
     ]
    },
    {
     "cell_type": "code",
     "collapsed": false,
     "input": [
      "#example 19.2\n",
      "#page no. 498\n",
      "# Given that\n",
      "W=250.#in ton Weight of injection moulding machine\n",
      "d=110.#in inch diameter of spur gear\n",
      "t=0.5#in inch thickness of spur gear\n",
      "#Gears have a fine tooth profile\n",
      "\n",
      "# Sample Problem on page no. 488\n",
      "\n",
      "print(\"\\n # Injection Molding of Parts # \\n\")\n",
      "\n",
      "#because of fine tooth profile pressure required in the mould cavity is assumed to be of the order 100MPa or 15Ksi\n",
      "\n",
      "A=(3.14*(d**2.))/4.#in inch^2 area of the gear\n",
      "\n",
      "print'%s %.2f %s' %(\"\\n\\n Force required is = \",round(A+1)/10000,\"MN\" )\n",
      "\n",
      "# Second part of this question is theoritical\n"
     ],
     "language": "python",
     "metadata": {},
     "outputs": [
      {
       "output_type": "stream",
       "stream": "stdout",
       "text": [
        "\n",
        " # Injection Molding of Parts # \n",
        "\n",
        "\n",
        "\n",
        " Force required is =  0.95 MN\n"
       ]
      }
     ],
     "prompt_number": 2
    }
   ],
   "metadata": {}
  }
 ]
}