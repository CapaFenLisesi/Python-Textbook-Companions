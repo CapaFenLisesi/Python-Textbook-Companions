{
 "metadata": {
  "name": "",
  "signature": "sha256:c5adc1aab2163bdfaad00a9f18852cb6fb30a3af1418e251d196ede7718844fa"
 },
 "nbformat": 3,
 "nbformat_minor": 0,
 "worksheets": [
  {
   "cells": [
    {
     "cell_type": "heading",
     "level": 1,
     "metadata": {},
     "source": [
      "7.OPERATORS AND EXPRESSION"
     ]
    },
    {
     "cell_type": "heading",
     "level": 2,
     "metadata": {},
     "source": [
      "7.4.1,page number:145"
     ]
    },
    {
     "cell_type": "code",
     "collapsed": false,
     "input": [
      "number = 19+9\n",
      "print \"The month of Februry has\",number,\"days\""
     ],
     "language": "python",
     "metadata": {},
     "outputs": [
      {
       "output_type": "stream",
       "stream": "stdout",
       "text": [
        "The month of Februry has 28 days\n"
       ]
      }
     ],
     "prompt_number": 1
    },
    {
     "cell_type": "heading",
     "level": 2,
     "metadata": {},
     "source": [
      "7.8.1,page number:150"
     ]
    },
    {
     "cell_type": "code",
     "collapsed": false,
     "input": [
      "m = 2\n",
      "n = 12.34\n",
      "result=m*n\n",
      "print m,\"*\",n,\"=\",result\n",
      "print result,\"in scientific notation is\",\"{:.2E}\".format(result)\n",
      "print m,\"*\",n,\"=\",round(result)"
     ],
     "language": "python",
     "metadata": {},
     "outputs": [
      {
       "output_type": "stream",
       "stream": "stdout",
       "text": [
        "2 * 12.34 = 24.68\n",
        "24.68 in scientific notation is 2.47E+01\n",
        "2 * 12.34 = 25.0\n"
       ]
      }
     ],
     "prompt_number": 2
    }
   ],
   "metadata": {}
  }
 ]
}