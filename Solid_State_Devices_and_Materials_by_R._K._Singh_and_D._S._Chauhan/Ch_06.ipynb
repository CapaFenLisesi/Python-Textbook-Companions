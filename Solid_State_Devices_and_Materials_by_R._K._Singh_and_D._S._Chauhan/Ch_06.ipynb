{
 "metadata": {
  "name": "",
  "signature": "sha256:55cfed32f74b83d05c38be2d30916fbaaa6602ae80ffb1417e3687d7b1936b7f"
 },
 "nbformat": 3,
 "nbformat_minor": 0,
 "worksheets": [
  {
   "cells": [
    {
     "cell_type": "heading",
     "level": 1,
     "metadata": {},
     "source": [
      "Chapter - 6 : Bipolar Junction Transistor, FETS And MOSFET"
     ]
    },
    {
     "cell_type": "heading",
     "level": 2,
     "metadata": {},
     "source": [
      "Example -  6.1 : Page No - 246"
     ]
    },
    {
     "cell_type": "code",
     "collapsed": false,
     "input": [
      "%matplotlib inline\n",
      "import matplotlib.pyplot as plt\n",
      "from numpy import arange\n",
      "#Given data\n",
      "I_DSS= 10 # in mA\n",
      "V_P= -4 # in V\n",
      "V_GS=arange(-4,0,0.1) \n",
      "#V_GS= -3 \n",
      "I_D= I_DSS*(1-V_GS/V_P)**2\n",
      "plt.plot(V_GS,I_D) \n",
      "plt.xlabel('V_GS in volts')  \n",
      "plt.ylabel('I_D in mA')\n",
      "plt.title('The transfer curve')\n",
      "plt.axis([-6, 0, 0, 12])\n",
      "plt.show()\n",
      "print \"Curve is shown in figure\" "
     ],
     "language": "python",
     "metadata": {},
     "outputs": [
      {
       "metadata": {},
       "output_type": "display_data",
       "png": "[encoded data removed]",
       "text": [
        "<matplotlib.figure.Figure at 0x7efc0c14b510>"
       ]
      },
      {
       "output_type": "stream",
       "stream": "stdout",
       "text": [
        "Curve is shown in figure\n"
       ]
      }
     ],
     "prompt_number": 13
    },
    {
     "cell_type": "heading",
     "level": 2,
     "metadata": {},
     "source": [
      "Example -  6.2 : Page No - 247"
     ]
    },
    {
     "cell_type": "code",
     "collapsed": false,
     "input": [
      "%matplotlib inline\n",
      "import matplotlib.pyplot as plt\n",
      "from numpy import arange\n",
      "#Given data\n",
      "I_DSS= 4 # in mA\n",
      "V_P= 3 # in V\n",
      "V_GS= arange(0,3,0.1) \n",
      "#V_GS= -3 \n",
      "I_D= I_DSS*(1-V_GS/V_P)**2\n",
      "plt.plot(V_GS,I_D) \n",
      "plt.xlabel('V_GS in volts')  \n",
      "plt.ylabel('I_D in mA')\n",
      "plt.title('Characteristic curve')\n",
      "plt.axis([0,4, 0, 5])\n",
      "plt.show()\n",
      "print \"Curve is shown in figure\" "
     ],
     "language": "python",
     "metadata": {},
     "outputs": [
      {
       "metadata": {},
       "output_type": "display_data",
       "png": "[encoded data removed]",
       "text": [
        "<matplotlib.figure.Figure at 0x7efbfcadf490>"
       ]
      },
      {
       "output_type": "stream",
       "stream": "stdout",
       "text": [
        "Curve is shown in figure\n"
       ]
      }
     ],
     "prompt_number": 14
    },
    {
     "cell_type": "heading",
     "level": 2,
     "metadata": {},
     "source": [
      "Example -  6.3 : Page No - 249"
     ]
    },
    {
     "cell_type": "code",
     "collapsed": false,
     "input": [
      "from math import sqrt\n",
      "#Given data\n",
      "I_DSS= 1.65 # in mA\n",
      "I_DSS=I_DSS*10**-3 # in A\n",
      "V_P= -2 # in V\n",
      "I_D= 0.8 # in mA\n",
      "I_D=I_D*10**-3 # in A\n",
      "V_BB= 24 # in V\n",
      "# Part (a)\n",
      "V_GS= V_P*(1-sqrt(I_D/I_DSS)) # in V\n",
      "print \"(a) : The value of V_GS = %0.4f volts\" %V_GS\n",
      "\n",
      "# Part (b)\n",
      "gmo= -2*I_DSS/V_P*10**3 # in ms\n",
      "gm= gmo*(1-(V_GS)/V_P) # in ms\n",
      "print \"(b) : The value of gm = %0.2f\" %gm"
     ],
     "language": "python",
     "metadata": {},
     "outputs": [
      {
       "output_type": "stream",
       "stream": "stdout",
       "text": [
        "(a) : The value of V_GS = -0.6074 volts\n",
        "(b) : The value of gm = 1.15\n"
       ]
      }
     ],
     "prompt_number": 12
    },
    {
     "cell_type": "heading",
     "level": 2,
     "metadata": {},
     "source": [
      "Example -  6.4 : Page No - 249"
     ]
    },
    {
     "cell_type": "code",
     "collapsed": false,
     "input": [
      "#Given data\n",
      "I_DSS= -40 # in mA\n",
      "I_DSS=I_DSS*10**-3 # in A\n",
      "V_P= 5 # in V\n",
      "I_D= -15 # in mA\n",
      "I_D=I_D*10**-3 # in A\n",
      "# Formula I_D= I_DSS*(1+V_GS/V_P)\n",
      "V_GS= (sqrt(I_D/I_DSS)-1)*V_P # in volt\n",
      "print \" The value of V_GS = %0.2f volts\" %V_GS"
     ],
     "language": "python",
     "metadata": {},
     "outputs": [
      {
       "output_type": "stream",
       "stream": "stdout",
       "text": [
        " The value of V_GS = -1.94 volts\n"
       ]
      }
     ],
     "prompt_number": 14
    },
    {
     "cell_type": "heading",
     "level": 2,
     "metadata": {},
     "source": [
      "Example -  6.5 : Page No - 250"
     ]
    },
    {
     "cell_type": "code",
     "collapsed": false,
     "input": [
      "#Given data\n",
      "delta_I_D= 1.9-1.0 # in mA\n",
      "delta_V_GS= 3.3-3.0 # in V\n",
      "gm= delta_I_D/delta_V_GS #in mA/V\n",
      "print \"The value of transconductance =\",int(gm),\"mA/V or\",int(gm*10**3),\"HmV10s\" "
     ],
     "language": "python",
     "metadata": {},
     "outputs": [
      {
       "output_type": "stream",
       "stream": "stdout",
       "text": [
        "The value of transconductance = 3 mA/V or 3000 HmV10s\n"
       ]
      }
     ],
     "prompt_number": 18
    },
    {
     "cell_type": "heading",
     "level": 2,
     "metadata": {},
     "source": [
      "Example -  6.6 : Page No - 251"
     ]
    },
    {
     "cell_type": "code",
     "collapsed": false,
     "input": [
      "#Given data\n",
      "I_DSS= 5.6*10**-3 # in A\n",
      "V_P= 4 # in volt\n",
      "Vi= 10 # in V\n",
      "R1= 4.7 # in k\u03a9\n",
      "R1= R1*10**3 # in \u03a9\n",
      "Rs= 10 # in k\u03a9\n",
      "Rs= Rs*10**3 # in \u03a9\n",
      "V1=-24 # in V\n",
      "Vs= 12 # in V\n",
      "# Appling KVL to the gate source loop, we get,  Vs= I_D*Rs-V_GS\n",
      "# V_GS= I_D*Rs-Vs          (i)\n",
      "# I_D= I_DSS*(1-V_GS/V_P)**2 = I_DSS*(1-(I_D*Rs-Vs)/V_P)**2 \n",
      "I_D= 1.49 # in mA\n",
      "I_D= I_D*10**-3 # in A\n",
      "V_GS= I_D*Rs-Vs \n",
      "Vo= Vs-I_D*Rs # in volt\n",
      "print \"The value of V_GS = %0.1f volts\" %V_GS\n",
      "print \"The value of Vo   = %0.1f volts\" %Vo"
     ],
     "language": "python",
     "metadata": {},
     "outputs": [
      {
       "output_type": "stream",
       "stream": "stdout",
       "text": [
        "The value of V_GS = 2.9 volts\n",
        "The value of Vo   = -2.9 volts\n"
       ]
      }
     ],
     "prompt_number": 19
    },
    {
     "cell_type": "heading",
     "level": 2,
     "metadata": {},
     "source": [
      "Example -  6.7 : Page No - 252"
     ]
    },
    {
     "cell_type": "code",
     "collapsed": false,
     "input": [
      "#Given data\n",
      "I_D= 5 # in mA\n",
      "I_D=I_D*10**-3 # in A\n",
      "V_DD= 10 # in V\n",
      "R_D= 1 # in k\u03a9\n",
      "R_D= R_D*10**3 # in \u03a9\n",
      "Rs= 500 # in \u03a9\n",
      "Vs= I_D*Rs # in volt\n",
      "V_D= V_DD-I_D*R_D # in V\n",
      "V_DS= V_D-Vs # in V\n",
      "V_GS= -Vs # in V\n",
      "print \" The value of drain-to-source voltage = %0.1f volts\" %V_DS\n",
      "print \" The value of gate-to-sourcce voltage = %0.1f volts\" %V_GS"
     ],
     "language": "python",
     "metadata": {},
     "outputs": [
      {
       "output_type": "stream",
       "stream": "stdout",
       "text": [
        " The value of drain-to-source voltage = 2.5 volts\n",
        " The value of gate-to-sourcce voltage = -2.5 volts\n"
       ]
      }
     ],
     "prompt_number": 20
    },
    {
     "cell_type": "heading",
     "level": 2,
     "metadata": {},
     "source": [
      "Example -  6.8 : Page No - 252"
     ]
    },
    {
     "cell_type": "code",
     "collapsed": false,
     "input": [
      "#Given data\n",
      "I_DSS= 20 # in mA\n",
      "I_DSS=I_DSS*10**-3 # in A\n",
      "gmo= 9.4 # in ms\n",
      "gmo=gmo*10**-3 # in s\n",
      "# Formula gmo= -2*I_DSS/V_P\n",
      "V_P= -2*I_DSS/gmo # in volts\n",
      "print \" Pinch off voltage = %0.3f volts\" %V_P"
     ],
     "language": "python",
     "metadata": {},
     "outputs": [
      {
       "output_type": "stream",
       "stream": "stdout",
       "text": [
        " Pinch off voltage = -4.255 volts\n"
       ]
      }
     ],
     "prompt_number": 21
    },
    {
     "cell_type": "heading",
     "level": 2,
     "metadata": {},
     "source": [
      "Example -  6.9 : Page No - 253"
     ]
    },
    {
     "cell_type": "code",
     "collapsed": false,
     "input": [
      "from math import sqrt\n",
      "#Given data\n",
      "I_DSS= 10 # in mA\n",
      "I_DSS= I_DSS*10**-3 # in A\n",
      "I_DS= 2.5 # in mA\n",
      "I_DS= I_DS*10**-3 # in A\n",
      "V_P= 4.5 # in V\n",
      "# Formula I_DS= I_DSS*(1-V_GS/V_P)**2\n",
      "V_GS= V_P*(1-sqrt(I_DS/I_DSS)) # in volts\n",
      "gm= 2*I_DSS/V_P*(1-V_GS/V_P) # in A/V\n",
      "print \" Transconductance = %0.2f mA/V\" %(gm*10**3)"
     ],
     "language": "python",
     "metadata": {},
     "outputs": [
      {
       "output_type": "stream",
       "stream": "stdout",
       "text": [
        " Transconductance = 2.22 mA/V\n"
       ]
      }
     ],
     "prompt_number": 23
    },
    {
     "cell_type": "heading",
     "level": 2,
     "metadata": {},
     "source": [
      "Example -  6.10 : Page No - 253"
     ]
    },
    {
     "cell_type": "code",
     "collapsed": false,
     "input": [
      "#Given data\n",
      "I_DSS= 10 # in mA\n",
      "I_DSS= I_DSS*10**-3 # in A\n",
      "gm= 10 # in ms\n",
      "gm=gm*10**-3 # in s\n",
      "# V_GSoff = V_GS = Vp  so , gm = gmo = -2*I_DSS/V_GSSoff\n",
      "V_GSoff= -2*I_DSS/gm # in volt\n",
      "print \" The value of V_GS(off) = %0.f volts\" %V_GSoff"
     ],
     "language": "python",
     "metadata": {},
     "outputs": [
      {
       "output_type": "stream",
       "stream": "stdout",
       "text": [
        " The value of V_GS(off) = -2 volts\n"
       ]
      }
     ],
     "prompt_number": 24
    },
    {
     "cell_type": "heading",
     "level": 2,
     "metadata": {},
     "source": [
      "Example -  6.11 : Page No - 253"
     ]
    },
    {
     "cell_type": "code",
     "collapsed": false,
     "input": [
      "from __future__ import division\n",
      "#Given data\n",
      "I_DSS= 10 # in mA\n",
      "I_DSS= I_DSS*10**-3 # in A\n",
      "V_P= -4 # in V\n",
      "V_GS= -2 # in V\n",
      "I_DS= I_DSS*(1-V_GS/V_P)**2 # in A\n",
      "V_DS= V_P # in V\n",
      "V_DSmin= V_P # in volt\n",
      "print \" The value of I_DS = %0.1f mA\" %(I_DS*10**3)\n",
      "print \" The minimum value of V_DS = %0.f volts\" %V_DSmin"
     ],
     "language": "python",
     "metadata": {},
     "outputs": [
      {
       "output_type": "stream",
       "stream": "stdout",
       "text": [
        " The value of I_DS = 2.5 mA\n",
        " The minimum value of V_DS = -4 volts\n"
       ]
      }
     ],
     "prompt_number": 26
    },
    {
     "cell_type": "heading",
     "level": 2,
     "metadata": {},
     "source": [
      "Example -  6.12 : Page No - 254"
     ]
    },
    {
     "cell_type": "code",
     "collapsed": false,
     "input": [
      "#Given data\n",
      "R_G= 1 # in M\u03a9\n",
      "R_G= R_G*10**6 # in \u03a9\n",
      "V_DD= 24 # in V\n",
      "R_D= 56 # in k\u03a9\n",
      "R_D=R_D*10**3 # in \u03a9\n",
      "Rs= 4 # k\u03a9\n",
      "Rs= Rs*10**3 # in \u03a9\n",
      "# Part (a)\n",
      "I_DSS= 1 # in mA\n",
      "I_DSS= I_DSS*10**-3 # in A\n",
      "V_P= -1 # in V\n",
      "V_D= 10 # in V\n",
      "I_D= (V_DD-V_D)/R_D # in A\n",
      "# I_D= I_DSS*(1-V_GS/V_P)**2 # in A\n",
      "V_GS= V_P*(1-sqrt(I_D/I_DSS)) # in V\n",
      "R1= abs(V_GS)/I_D # in \u03a9\n",
      "print \" The value of R1 = %0.f k\u03a9\" %(R1*10**-3)\n",
      "\n",
      "# Part (b)\n",
      "gmo= -2*I_DSS/V_P # A/V\n",
      "gm= gmo*(1-(V_GS)/V_P) # A/V \n",
      "Ri= R_G/(1-gm*Rs/(1+gm*Rs)*Rs/(Rs+R1)) # in \u03a9\n",
      "print \" The effective input impedence = %0.2f M\u03a9\" %(Ri*10**-6)"
     ],
     "language": "python",
     "metadata": {},
     "outputs": [
      {
       "output_type": "stream",
       "stream": "stdout",
       "text": [
        " The value of R1 = 2 k\u03a9\n",
        " The effective input impedence = 2.14 M\u03a9\n"
       ]
      }
     ],
     "prompt_number": 27
    },
    {
     "cell_type": "heading",
     "level": 2,
     "metadata": {},
     "source": [
      "Example -  6.13 : Page No - 255"
     ]
    },
    {
     "cell_type": "code",
     "collapsed": false,
     "input": [
      "from sympy import symbols, solve, N\n",
      "I_D= symbols('I_D')\n",
      "#Given data\n",
      "I_DSS= -4 # in mA\n",
      "V_P= 4 # in V\n",
      "R1= 1.3*10**6 # in \u03a9\n",
      "R2= 200*10**3 # in \u03a9\n",
      "V_DD= -60 # in V\n",
      "R_D= 18 # in k\u03a9\n",
      "R_D= R_D*10**3 # in \u03a9\n",
      "Rs= 4 # in k\u03a9\n",
      "Rs= Rs*10**3 # in \u03a9\n",
      "V_GG= V_DD*R2/(R1+R2) # in V\n",
      "R_G= R1*R2/(R1+R2) # in \u03a9\n",
      "# V_GS= V_GG-V_P*I_D\n",
      "#  I_D= I_DSS*(1-(V_GG-V_P*I_D)/V_P)**2 # in mA or\n",
      "# I_D**2*I_DSS + I_D*(2*(1-V_GG/V_P)*I_DSS-1) +((1-V_GG/V_P)**2*I_DSS) = 0\n",
      "expr= I_D**2*I_DSS + I_D*(2*(1-V_GG/V_P)*I_DSS-1) +((1-V_GG/V_P)**2*I_DSS)\n",
      "I_D= solve(expr, I_D)\n",
      "\n",
      "I_D=I_D[1] # in mA\n",
      "I_D=I_D*10**-3 # in A\n",
      "V_GS= V_GG-Rs*I_D # in V\n",
      "V_DS= V_DD-I_D*(R_D+Rs) # in V\n",
      "print \" The value of I_D  = %0.2f mA\" % (I_D*10**3)\n",
      "print \" The value of V_GS = %0.f volts\" %V_GS\n",
      "print \" The value of V_DS = %0.1f volts\" %V_DS\n"
     ],
     "language": "python",
     "metadata": {},
     "outputs": [
      {
       "output_type": "stream",
       "stream": "stdout",
       "text": [
        " The value of I_D  = -2.25 mA\n",
        " The value of V_GS = 1 volts\n",
        " The value of V_DS = -10.5 volts\n"
       ]
      }
     ],
     "prompt_number": 30
    },
    {
     "cell_type": "heading",
     "level": 2,
     "metadata": {},
     "source": [
      "Example -  6.14 : Page No - 256"
     ]
    },
    {
     "cell_type": "code",
     "collapsed": false,
     "input": [
      "#Given data\n",
      "I_DSS= 4 # in mA\n",
      "I_DSS= I_DSS*10**-3 # in A\n",
      "V_P= -2 # in V\n",
      "V_DD= 10 # in V\n",
      "V_SS= V_DD # in V\n",
      "V_GS2=0 # in V\n",
      "I_D= I_DSS*(1-V_GS2/V_P)**2 # in A\n",
      "# since I_D= I_DSS\n",
      "V_GS= 0 # in volt\n",
      "# Formula V_SS= V_DS-V_GS\n",
      "V_DS= V_SS-V_GS # in volt\n",
      "print \" The value of I_D = %0.f mA\" %(I_D*10**3)\n",
      "print \" The value of V_GS = %0.f volt\" %V_GS\n",
      "print \" The value of V_DS = %0.f volts\" %V_DS\n",
      "\n",
      "if V_DS > V_GS-V_P :\n",
      "    print \" The active region operation of the upper JFET is confirmed \" "
     ],
     "language": "python",
     "metadata": {},
     "outputs": [
      {
       "output_type": "stream",
       "stream": "stdout",
       "text": [
        " The value of I_D = 4 mA\n",
        " The value of V_GS = 0 volt\n",
        " The value of V_DS = 10 volts\n",
        " The active region operation of the upper JFET is confirmed \n"
       ]
      }
     ],
     "prompt_number": 33
    },
    {
     "cell_type": "heading",
     "level": 2,
     "metadata": {},
     "source": [
      "Example -  6.15 : Page No - 257"
     ]
    },
    {
     "cell_type": "code",
     "collapsed": false,
     "input": [
      "V_GS= symbols('V_GS')\n",
      "#Given data\n",
      "I_DSS= 16 # in mA\n",
      "I_DSS= I_DSS*10**-3 # in A\n",
      "V_P= -4 # in V\n",
      "V_DD= 18 # in V\n",
      "V_GG= 0 # in V\n",
      "R_D= 500 # in \u03a9\n",
      "Rs= R_D # in \u03a9\n",
      "# V_GS= V_GG-V_P*I_D or = I_D= -V_GS/Rs  (as V_GSS= 0)     (i)\n",
      "# I_D= I_DSS*(1-V_GS/V_P)**2            (ii)\n",
      "# From (i) and (ii)\n",
      "# V_GS**2*(1/V_P**2) + V_GS*(1/(I_DSS*Rs)-2/V_P) +1 =0\n",
      "expr = V_GS**2*(1/V_P**2) + V_GS*(1/(I_DSS*Rs)-2/V_P) +1\n",
      "V_GS= solve(expr,V_GS)\n",
      "V_GS= V_GS[1]  # since 0>= V_GS >=-4\n",
      "I_D= I_DSS*(1-V_GS/V_P)**2 # in A\n",
      "V_DS= V_DD-I_D*(R_D+Rs) # in V\n",
      "print \"(a) : The value of I_D = %0.f mA\" %(I_D*10**3)\n",
      "print \"(b) : The value of V_GS = %0.f volts\" %V_GS\n",
      "print \"(c) : Since the value of V_DS is greater than the difference of V_GS and V_P,\"\n",
      "print \"      So the saturation region operation is confirmed \"  "
     ],
     "language": "python",
     "metadata": {},
     "outputs": [
      {
       "output_type": "stream",
       "stream": "stdout",
       "text": [
        "(a) : The value of I_D = 4 mA\n",
        "(b) : The value of V_GS = -2 volts\n",
        "(c) : Since the value of V_DS is greater than the difference of V_GS and V_P,\n",
        "      So the saturation region operation is confirmed \n"
       ]
      }
     ],
     "prompt_number": 38
    },
    {
     "cell_type": "heading",
     "level": 2,
     "metadata": {},
     "source": [
      "Example -  6.16 : Page No - 258"
     ]
    },
    {
     "cell_type": "code",
     "collapsed": false,
     "input": [
      "#Given data\n",
      "\n",
      "I_DSS= 10 # in mA\n",
      "I_DSS= I_DSS*10**-3 # in A\n",
      "V_P= -4 # in V\n",
      "V_DD= 12 # in V\n",
      "V_GG= 0 # in V\n",
      "# Part (a) when\n",
      "V_GS= -2 # in V\n",
      "I_D= I_DSS*(1-V_GS/V_P)**2 # in A\n",
      "print \" When V_GS= -2 then, the value of I_D = %0.1f mA \" %(I_D*10**3)\n",
      "# Part (b) when\n",
      "I_D= 9*10**-3 # in A\n",
      "V_GS= V_P*(1-(sqrt(I_D/I_DSS))) # in V\n",
      "print \" When I_D = 9 mA, then the value of V_GS = %0.3f volts\" %V_GS"
     ],
     "language": "python",
     "metadata": {},
     "outputs": [
      {
       "output_type": "stream",
       "stream": "stdout",
       "text": [
        " When V_GS= -2 then, the value of I_D = 2.5 mA \n",
        " When I_D = 9 mA, then the value of V_GS = -0.205 volts\n"
       ]
      }
     ],
     "prompt_number": 39
    },
    {
     "cell_type": "heading",
     "level": 2,
     "metadata": {},
     "source": [
      "Example -  6.17 : Page No - 258"
     ]
    },
    {
     "cell_type": "code",
     "collapsed": false,
     "input": [
      "#Given data\n",
      "I_DSS= 8.7 # in mA\n",
      "I_DSS= I_DSS*10**-3 # in A\n",
      "V_P= -3 # in V\n",
      "V_GS= -1 # in V\n",
      "I_DS= I_DSS*(1-V_GS/V_P)**2 # in A\n",
      "print \" The value of I_DS = %0.2f mA\" %(I_DS*10**3)\n",
      "gmo= -2*I_DSS/V_P*1000 # ms\n",
      "gm= gmo*(1-V_GS/V_P)  # in ms\n",
      "print \" The value of gmo  = %0.1f ms\" %gmo\n",
      "print \" The value of gm   = %0.2f ms\" %gm"
     ],
     "language": "python",
     "metadata": {},
     "outputs": [
      {
       "output_type": "stream",
       "stream": "stdout",
       "text": [
        " The value of I_DS = 3.87 mA\n",
        " The value of gmo  = 5.8 ms\n",
        " The value of gm   = 3.87 ms\n"
       ]
      }
     ],
     "prompt_number": 41
    },
    {
     "cell_type": "heading",
     "level": 2,
     "metadata": {},
     "source": [
      "Example -  6.20 : Page No - 260"
     ]
    },
    {
     "cell_type": "code",
     "collapsed": false,
     "input": [
      "#Given data\n",
      "I_DSS= 6 # in mA\n",
      "I_DSS= I_DSS*10**-3 # in A\n",
      "V_P= -4.5 # in V\n",
      "# Part (i)\n",
      "# At V_GS= -2V\n",
      "V_GS= -2 # in V\n",
      "I_DS= I_DSS*(1-V_GS/V_P)**2 # in A\n",
      "print \"Part (i) :- \\n At V_GS= -2V, the value of I_DS = %0.1f mA\" %(I_DS*10**3)\n",
      "# At V_GS= -3.6V\n",
      "V_GS= -3.6 # in V\n",
      "I_DS= I_DSS*(1-V_GS/V_P)**2 # in A\n",
      "print \" At V_GS= -3.6V, the value of I_DS = %0.2f mA\" %(I_DS*10**3)\n",
      "\n",
      "# Part (ii)\n",
      "# At I_DS= 3mA\n",
      "I_DS= 3*10**-3 # in A\n",
      "V_GS= V_P*(1-sqrt(I_DS/I_DSS)) \n",
      "print \"\\nPart (ii) :- \\n At I_DS= 3mA, the value of V_GS = %0.2f volts\" %V_GS\n",
      "# At I_DS= 5.5mA\n",
      "I_DS= 5.5*10**-3 # in A\n",
      "V_GS= V_P*(1-sqrt(I_DS/I_DSS)) \n",
      "print \" At I_DS= 5.5mA, the value of V_GS = %0.4f volts\" %V_GS\n",
      "\n",
      "# Note: There is  calculation error in the second part to find the value of V_GS in both the condition . \n",
      "#      So the answer in the book is wrong"
     ],
     "language": "python",
     "metadata": {},
     "outputs": [
      {
       "output_type": "stream",
       "stream": "stdout",
       "text": [
        "Part (i) :- \n",
        " At V_GS= -2V, the value of I_DS = 1.9 mA\n",
        " At V_GS= -3.6V, the value of I_DS = 0.24 mA\n",
        "\n",
        "Part (ii) :- \n",
        " At I_DS= 3mA, the value of V_GS = -1.32 volts\n",
        " At I_DS= 5.5mA, the value of V_GS = -0.1916 volts\n"
       ]
      }
     ],
     "prompt_number": 44
    },
    {
     "cell_type": "heading",
     "level": 2,
     "metadata": {},
     "source": [
      "Example -  6.21 : Page No - 260"
     ]
    },
    {
     "cell_type": "code",
     "collapsed": false,
     "input": [
      "#Given data\n",
      "I_DSS= 10 # in mA\n",
      "I_DSS= I_DSS*10**-3 # in A\n",
      "V_P= -2 # in V\n",
      "# Part (i)\n",
      "# At V_GS= 0V\n",
      "V_GS= 0 # in V\n",
      "r_DS= V_P**2/(2*I_DSS*(V_GS-V_P)) # in \u03a9\n",
      "print \" At V_GS=0 , the drain source resistance = %0.f \u03a9\" %r_DS\n",
      "# Part (ii)\n",
      "# At V_GS= -0.5V\n",
      "V_GS= -0.5 # in V\n",
      "r_DS= V_P**2/(2*I_DSS*(V_GS-V_P)) # in \u03a9\n",
      "print \" At V_GS=-0.5 , the drain source resistance = %0.2f \u03a9\" %r_DS"
     ],
     "language": "python",
     "metadata": {},
     "outputs": [
      {
       "output_type": "stream",
       "stream": "stdout",
       "text": [
        " At V_GS=0 , the drain source resistance = 100 \u03a9\n",
        " At V_GS=-0.5 , the drain source resistance = 133.33 \u03a9\n"
       ]
      }
     ],
     "prompt_number": 1
    },
    {
     "cell_type": "heading",
     "level": 2,
     "metadata": {},
     "source": [
      "Example -  6.22\n",
      " : Page No - 261"
     ]
    },
    {
     "cell_type": "code",
     "collapsed": false,
     "input": [
      "from __future__ import division\n",
      "#Given data\n",
      "I_DSS= 12 # in mA\n",
      "I_DSS= I_DSS*10**-3 # in A\n",
      "V_P= -4 # in V\n",
      "R_D= 3 # in k\u03a9\n",
      "R_D= R_D*10**3 # in \u03a9\n",
      "Rs= 0 # in \u03a9\n",
      "V_DD= 15 # in V\n",
      "V_GS= -2 # in V\n",
      "I_D= I_DSS*(1-V_GS/V_P)**2 # in A\n",
      "print \"The value of I_D = %0.f mA\" %(I_D*10**3)\n",
      "V_DS= -I_D*R_D+V_DD # in V\n",
      "print \"The value of V_DS = %0.f volts\" %V_DS\n",
      "if V_DS>V_GS-V_P :\n",
      "    print \"The device is operating in the saturation region\" "
     ],
     "language": "python",
     "metadata": {},
     "outputs": [
      {
       "output_type": "stream",
       "stream": "stdout",
       "text": [
        "The value of I_D = 3 mA\n",
        "The value of V_DS = 6 volts\n",
        "The device is operating in the saturation region\n"
       ]
      }
     ],
     "prompt_number": 6
    },
    {
     "cell_type": "heading",
     "level": 2,
     "metadata": {},
     "source": [
      "Example -  6.23 : Page No - 261"
     ]
    },
    {
     "cell_type": "code",
     "collapsed": false,
     "input": [
      "#Given data\n",
      "I_DSS= 12 # in mA\n",
      "I_DSS= I_DSS*10**-3 # in A\n",
      "V_P= -4 # in V\n",
      "Rs= 0 # in \u03a9\n",
      "V_DD= 15 # in V\n",
      "V_DS= 0.1 # in V\n",
      "V_GS= 0 # in V\n",
      "if V_DS<V_GS-V_P :\n",
      "    print \"The ohmic region is confirmed.\" \n",
      "    I_D= I_DSS*(2*(1-V_GS/V_P)*V_DS/(-V_P)-(V_DS/V_P)**2) # in A\n",
      "    R_D= (V_DD-V_DS)/I_D # in \u03a9\n",
      "    print \"The value of I_D = %0.1f \u00b5A\" %(I_D*10**6)\n",
      "    print \"The value of R_D = %0.2f k\u03a9\" %(R_D*10**-3)\n"
     ],
     "language": "python",
     "metadata": {},
     "outputs": [
      {
       "output_type": "stream",
       "stream": "stdout",
       "text": [
        "The ohmic region is confirmed.\n",
        "The value of I_D = 592.5 \u00b5A\n",
        "The value of R_D = 25.15 k\u03a9\n"
       ]
      }
     ],
     "prompt_number": 7
    },
    {
     "cell_type": "heading",
     "level": 2,
     "metadata": {},
     "source": [
      "Example -  6.24 : Page No - 262"
     ]
    },
    {
     "cell_type": "code",
     "collapsed": false,
     "input": [
      "#Given data\n",
      "ro=9 # in k\u03a9\n",
      "ro= ro*10**3 # in \u03a9\n",
      "V_P= -6 # in V\n",
      "V_GS = -3 # in V\n",
      "r= ro/(1-V_GS/V_P)**2 # in \u03a9\n",
      "print \"The value of chanel resistance = %0.f k\u03a9\" %(r*10**-3)\n",
      "\n",
      "# Note : The unit of chanel resistance i.e. unit of resistance in the book is wrong . It will be in k\u03a9 not in \u03a9"
     ],
     "language": "python",
     "metadata": {},
     "outputs": [
      {
       "output_type": "stream",
       "stream": "stdout",
       "text": [
        "The value of chanel resistance = 36 k\u03a9\n"
       ]
      }
     ],
     "prompt_number": 8
    },
    {
     "cell_type": "heading",
     "level": 2,
     "metadata": {},
     "source": [
      "Example -  6.25 : Page No - 262"
     ]
    },
    {
     "cell_type": "code",
     "collapsed": false,
     "input": [
      "from math import sqrt\n",
      "#Given data\n",
      "ro=10 # in k\u03a9\n",
      "ro= ro*10**3 # in \u03a9\n",
      "r=90 # in k\u03a9\n",
      "r= r*10**3 # in \u03a9\n",
      "V_P= 5 # in V\n",
      "# r= ro/(1-V_GS/V_P)**2 # in \u03a9\n",
      "V_GS= V_P*(1-sqrt(ro/r)) # in V\n",
      "print \"The value of V_GS = %0.2f volts\" %V_GS"
     ],
     "language": "python",
     "metadata": {},
     "outputs": [
      {
       "output_type": "stream",
       "stream": "stdout",
       "text": [
        "The value of V_GS = 3.33 volts\n"
       ]
      }
     ],
     "prompt_number": 10
    },
    {
     "cell_type": "heading",
     "level": 2,
     "metadata": {},
     "source": [
      "Example -  6.26 : Page No - 262"
     ]
    },
    {
     "cell_type": "code",
     "collapsed": false,
     "input": [
      "#Given data\n",
      "V_P= -5 # in V\n",
      "I_D= 4 # in mA\n",
      "V_GS= -2 # in V\n",
      "# Formula I_D= I_DSS*(1-V_GS/V_P)**2\n",
      "I_DSS= I_D/(1-V_GS/V_P)**2 # in mA\n",
      "print \"The value of I_DSS = %0.1f mA\" %I_DSS"
     ],
     "language": "python",
     "metadata": {},
     "outputs": [
      {
       "output_type": "stream",
       "stream": "stdout",
       "text": [
        "The value of I_DSS = 11.1 mA\n"
       ]
      }
     ],
     "prompt_number": 11
    },
    {
     "cell_type": "heading",
     "level": 2,
     "metadata": {},
     "source": [
      "Example -  6.27 : Page No - 263"
     ]
    },
    {
     "cell_type": "code",
     "collapsed": false,
     "input": [
      "#Given data\n",
      "I_DSS= 8 # in mA\n",
      "V_P= -5 # in V\n",
      "V_GS= -2 # in V\n",
      "# Formula V_GS+ V_DSmin = V_P\n",
      "V_DSmin= abs(V_P-V_GS) # in V\n",
      "print \"The minimum value of V_DS = %0.f volts\" %V_DSmin\n",
      "I_DS= I_DSS*(1-V_GS/V_P)**2 # in mA\n",
      "print \"The value of I_DS = %0.2f mA\" %I_DS"
     ],
     "language": "python",
     "metadata": {},
     "outputs": [
      {
       "output_type": "stream",
       "stream": "stdout",
       "text": [
        "The minimum value of V_DS = 3 volts\n",
        "The value of I_DS = 2.88 mA\n"
       ]
      }
     ],
     "prompt_number": 12
    }
   ],
   "metadata": {}
  }
 ]
}