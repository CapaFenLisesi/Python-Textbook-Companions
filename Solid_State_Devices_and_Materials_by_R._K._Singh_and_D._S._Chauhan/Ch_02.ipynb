{
 "metadata": {
  "name": "",
  "signature": "sha256:9b0730144e4b94ec5125f2f9d4bd3c8bb8340e3500769f49d5e5a26bb6587910"
 },
 "nbformat": 3,
 "nbformat_minor": 0,
 "worksheets": [
  {
   "cells": [
    {
     "cell_type": "heading",
     "level": 1,
     "metadata": {},
     "source": [
      "Chapter - 2 : Physics Of Semiconductor"
     ]
    },
    {
     "cell_type": "heading",
     "level": 2,
     "metadata": {},
     "source": [
      "Example -  2.1 : Page No - 54"
     ]
    },
    {
     "cell_type": "code",
     "collapsed": false,
     "input": [
      "#Given data\n",
      "miu= 0.3 # in m**2/vs\n",
      "V= 50 # in mV\n",
      "V=V*10**-3 # in V\n",
      "d=0.4 # in mm\n",
      "d=d*10**-3 # in m\n",
      "# Part (a)\n",
      "# miu= vd/E and vd= miu*E, so\n",
      "vd= miu*V/d # in m/s\n",
      "print \"(a) : Drift velocity = %0.1f m/s\" %vd\n",
      "\n",
      "# Part (b)\n",
      "T= d/vd # in sec\n",
      "print \"(b) : Time required for an electron to move = %0.2f \u00b5s\" %(T*10**6)"
     ],
     "language": "python",
     "metadata": {},
     "outputs": [
      {
       "output_type": "stream",
       "stream": "stdout",
       "text": [
        "(a) : Drift velocity = 37.5 m/s\n",
        "(b) : Time required for an electron to move = 10.67 \u00b5s\n"
       ]
      }
     ],
     "prompt_number": 1
    },
    {
     "cell_type": "heading",
     "level": 2,
     "metadata": {},
     "source": [
      "Example -  2.2 : Page No - 55"
     ]
    },
    {
     "cell_type": "code",
     "collapsed": false,
     "input": [
      "#Given data\n",
      "miu_n= 0.36 # in m**2/vs\n",
      "miu_p= 0.17 # in m**2/vs\n",
      "ni= 2.9*10**19 # in /m**3\n",
      "q=1.6*10**-19 # in C\n",
      "sigma_i= q*ni*(miu_n+miu_p) # in (\u03a9m)**-1\n",
      "print \"Intrinsic conductivity of Ge = %0.2f (\u03a9m)**-1\" %sigma_i"
     ],
     "language": "python",
     "metadata": {},
     "outputs": [
      {
       "output_type": "stream",
       "stream": "stdout",
       "text": [
        "Intrinsic conductivity of Ge = 2.46 (\u03a9m)**-1\n"
       ]
      }
     ],
     "prompt_number": 2
    },
    {
     "cell_type": "heading",
     "level": 2,
     "metadata": {},
     "source": [
      "Example -  2.3 : Page No - 55"
     ]
    },
    {
     "cell_type": "code",
     "collapsed": false,
     "input": [
      "from __future__ import division\n",
      "#Given data\n",
      "rho= 0.60 # in \u03a9m\n",
      "q=1.6*10**-19 # in C\n",
      "miu_n= 0.38 # in m**2/vs\n",
      "miu_p= 0.18 # in m**2/vs\n",
      "sigma= 1/rho # in (\u03a9m)**-1\n",
      "ni= sigma/(q*(miu_n+miu_p)) # in /m**3\n",
      "print \" The intrinsic carrier concentration = %0.3e per meter cube\" %ni"
     ],
     "language": "python",
     "metadata": {},
     "outputs": [
      {
       "output_type": "stream",
       "stream": "stdout",
       "text": [
        " The intrinsic carrier concentration = 1.860e+19 per meter cube\n"
       ]
      }
     ],
     "prompt_number": 4
    },
    {
     "cell_type": "heading",
     "level": 2,
     "metadata": {},
     "source": [
      "Example -  2.4 : Page No - 56"
     ]
    },
    {
     "cell_type": "code",
     "collapsed": false,
     "input": [
      "#Given data\n",
      "N_D= 10**21 # in /m**3\n",
      "N_A= 2*10**20 # in /m**3\n",
      "miu_n= 0.15 # in m**2/vs\n",
      "N_DeshD= N_D-N_A # in /m**3\n",
      "n=N_DeshD # in /m**3\n",
      "q=1.6*10**-19 # in C\n",
      "sigma= q*n*miu_n # in (\u03a9m)**-1\n",
      "print \" Conductivity of silicon = %0.1f (\u03a9m)**-1\" %sigma"
     ],
     "language": "python",
     "metadata": {},
     "outputs": [
      {
       "output_type": "stream",
       "stream": "stdout",
       "text": [
        " Conductivity of silicon = 19.2 (\u03a9m)**-1\n"
       ]
      }
     ],
     "prompt_number": 5
    },
    {
     "cell_type": "heading",
     "level": 2,
     "metadata": {},
     "source": [
      "Example -  2.5 : Page No - 56"
     ]
    },
    {
     "cell_type": "code",
     "collapsed": false,
     "input": [
      "#Given data\n",
      "n=6.023*10**23*7.4/63.54 \n",
      "miu= 32.6 # in cm**2/Vs\n",
      "q=1.6*10**-19 # in C\n",
      "sigma= n*q*miu # in (\u03a9cm)**-1\n",
      "print \"Conductivity of copper = %0.2e (\u03a9cm)**-1\" %sigma"
     ],
     "language": "python",
     "metadata": {},
     "outputs": [
      {
       "output_type": "stream",
       "stream": "stdout",
       "text": [
        "Conductivity of copper = 3.66e+05 (\u03a9cm)**-1\n"
       ]
      }
     ],
     "prompt_number": 7
    },
    {
     "cell_type": "heading",
     "level": 2,
     "metadata": {},
     "source": [
      "Example -  2.6 : Page No - 56"
     ]
    },
    {
     "cell_type": "code",
     "collapsed": false,
     "input": [
      "#Given data\n",
      "# For silicon\n",
      "q=1.6*10**-19 # in C\n",
      "ni= 2.5*10**12 # in /cm**3\n",
      "miu_n= 1700 # in cm**2/Vs\n",
      "miu_p= 600 # in cm**2/Vs\n",
      "sigma= 0.2 # in (\u03a9m)**-1\n",
      "# Formula sigma= q*n*miu_n\n",
      "n= sigma/(q*miu_n) # in /cm**3\n",
      "p= ni**2/n # in /cm**3\n",
      "print \"For silicon : \" \n",
      "print \" Concentration of electron = %0.2e /cm**3\" %n\n",
      "print \" Concentration of holes = %0.1e /cm**3\" %p\n",
      "# For germanium\n",
      "ni= 3.4*10**15 # in /cm**3\n",
      "miu_n= 3600 # in cm**2/Vs\n",
      "miu_p= 1600 # in cm**2/Vs\n",
      "sigma= 150 # in (\u03a9m)**-1\n",
      "p= sigma/(q*miu_p) # in /cm**3\n",
      "n= ni**2/p # in /cm**3\n",
      "print \"For germanium :\" \n",
      "print \" Concentration of electron = %0.2e /cm**3\" %n\n",
      "print \" Concentration of holes = %0.2e /cm**3\" %p"
     ],
     "language": "python",
     "metadata": {},
     "outputs": [
      {
       "output_type": "stream",
       "stream": "stdout",
       "text": [
        "For silicon : \n",
        " Concentration of electron = 7.35e+14 /cm**3\n",
        " Concentration of holes = 8.5e+09 /cm**3\n",
        "For germanium :\n",
        " Concentration of electron = 1.97e+13 /cm**3\n",
        " Concentration of holes = 5.86e+17 /cm**3\n"
       ]
      }
     ],
     "prompt_number": 9
    },
    {
     "cell_type": "heading",
     "level": 2,
     "metadata": {},
     "source": [
      "Example -  2.7 : Page No - 57"
     ]
    },
    {
     "cell_type": "code",
     "collapsed": false,
     "input": [
      "#Given data\n",
      "miu_n= 3900 # in cm**2/Vs\n",
      "miu_p= 1900 # in cm**2/Vs\n",
      "ni= 2.5*10**10 # in /cm**3\n",
      "Nge= 4.41*10**22 # in /cm**3\n",
      "q=1.6*10**-19 # in C\n",
      "N_D= Nge/10**8 # in /cm**3\n",
      "n=N_D # approx\n",
      "p= ni**2/N_D # in /cm**2\n",
      "sigma= q*n*miu_n # in (\u03a9cm)**-1\n",
      "rho= 1/sigma # in \u03a9cm\n",
      "print \" Resistivity of the doped germanium = %0.2f \u03a9cm\" %rho"
     ],
     "language": "python",
     "metadata": {},
     "outputs": [
      {
       "output_type": "stream",
       "stream": "stdout",
       "text": [
        " Resistivity of the doped germanium = 3.63 \u03a9cm\n"
       ]
      }
     ],
     "prompt_number": 10
    },
    {
     "cell_type": "heading",
     "level": 2,
     "metadata": {},
     "source": [
      "Example -  2.8 : Page No - 58"
     ]
    },
    {
     "cell_type": "code",
     "collapsed": false,
     "input": [
      "#Given data\n",
      "Nsi = 4.9*10**22 # in /cm**3\n",
      "ni= 2.5*10**12 # in /cm**3\n",
      "q=1.6*10**-19 # in C\n",
      "miu_n= 1600 # in cm**2/Vs\n",
      "miu_p= 400 # in cm**2/Vs\n",
      "N_D= Nsi/(100*10**6) \n",
      "sigma= q*ni*(miu_n+miu_p) # in (\u03a9cm)**-1\n",
      "rho= 1/sigma # in \u03a9cm\n",
      "print \" Resistivity of silicon = %0.f \u03a9cm\" %rho\n",
      "n=N_D # approx\n",
      "p= ni**2/n # in /cm**3\n",
      "sigma= q*n*miu_n # in (\u03a9cm)-1\n",
      "rho= 1/sigma # in \u03a9cm\n",
      "print \" Resistivity of doped silicon = %0.2f \u03a9cm\" %rho"
     ],
     "language": "python",
     "metadata": {},
     "outputs": [
      {
       "output_type": "stream",
       "stream": "stdout",
       "text": [
        " Resistivity of silicon = 1250 \u03a9cm\n",
        " Resistivity of doped silicon = 7.97 \u03a9cm\n"
       ]
      }
     ],
     "prompt_number": 11
    },
    {
     "cell_type": "heading",
     "level": 2,
     "metadata": {},
     "source": [
      "Example -  2.9 : Page No - 59"
     ]
    },
    {
     "cell_type": "code",
     "collapsed": false,
     "input": [
      "#Given data\n",
      "N_D= 5*10**28/(20*10**6) # in /m**3\n",
      "# For the Fermi level\n",
      "# E_F= E_C if N_C= N_D,\n",
      "# N_D= 4.82*10**21 * T**(3/2)  /m**3\n",
      "T= (N_D/( 4.82*10**21 ))**(2/3) # in K\n",
      "print \" Temperature = %0.3f K\" %T"
     ],
     "language": "python",
     "metadata": {},
     "outputs": [
      {
       "output_type": "stream",
       "stream": "stdout",
       "text": [
        " Temperature = 0.646 K\n"
       ]
      }
     ],
     "prompt_number": 12
    },
    {
     "cell_type": "heading",
     "level": 2,
     "metadata": {},
     "source": [
      "Example -  2.10 : Page No - 59"
     ]
    },
    {
     "cell_type": "code",
     "collapsed": false,
     "input": [
      "from math import log\n",
      "#Given data\n",
      "ni= 1.8*10**15 # in /m**3\n",
      "rho= 2*10**5 # in \u03a9m\n",
      "q=1.6*10**-19 # in C\n",
      "dopingConcentration= 10**25 # in /m**3\n",
      "n=dopingConcentration \n",
      "MCC= ni**2/dopingConcentration  # Minority carrier concentration per cube meter\n",
      "miu_n= 1/(2*rho*q*ni) # in m**3/Vs\n",
      "print \"(a) : The value of \u00b5n = %0.1e m**3/Vs\" %miu_n\n",
      "\n",
      "# Part (b)\n",
      "sigma= q*n*miu_n #in (\u03a9m)**-1\n",
      "rho= 1/sigma # in \u03a9m\n",
      "print \"(b) : Resistivity     = %0.2e \u03a9m\" %rho\n",
      "\n",
      "# Part(c)\n",
      "kT= 26*10**-3 #in V\n",
      "no= n # in /m**3\n",
      "Shift_inFermiLevel= kT*log(no/ni) # in eV\n",
      "print \"(c) : Shift in Fermi level due to doping = %0.3f eV\" %Shift_inFermiLevel \n",
      "print \"      Hence, E_F lies \",round(Shift_inFermiLevel,3),\" eV above Fermi level Ei\" \n",
      "\n",
      "# Part (d)\n",
      "MCC= ni**2/dopingConcentration  # Minority carrier concentration per cube meter\n",
      "print \"(d) : Minority carrier concentration = %0.2e per cube meter\" %MCC"
     ],
     "language": "python",
     "metadata": {},
     "outputs": [
      {
       "output_type": "stream",
       "stream": "stdout",
       "text": [
        "(a) : The value of \u00b5n = 8.7e-03 m**3/Vs\n",
        "(b) : Resistivity     = 7.20e-05 \u03a9m\n",
        "(c) : Shift in Fermi level due to doping = 0.583 eV\n",
        "      Hence, E_F lies  0.583  eV above Fermi level Ei\n",
        "(d) : Minority carrier concentration = 3.24e+05 per cube meter\n"
       ]
      }
     ],
     "prompt_number": 18
    },
    {
     "cell_type": "heading",
     "level": 2,
     "metadata": {},
     "source": [
      "Example -  2.11 : Page No - 60"
     ]
    },
    {
     "cell_type": "code",
     "collapsed": false,
     "input": [
      "#Given data\n",
      "miu_n= 1700 #in cm**2/Vs\n",
      "miu_p= 560 #in cm**2/Vs\n",
      "ni= 2.5*10**10 # in /cm**3\n",
      "q=1.6*10**-19 # in C\n",
      "sigma= q*ni*(miu_n+miu_p) #in (\u03a9cm)**-1\n",
      "rho= 1/sigma # in \u03a9cm\n",
      "print \"Conductivity of intrinsic sample = %0.2e (\u03a9cm)**-1\" %sigma\n",
      "print \"Resistivity of intrinsic sample = %0.3e \u03a9cm\" %rho"
     ],
     "language": "python",
     "metadata": {},
     "outputs": [
      {
       "output_type": "stream",
       "stream": "stdout",
       "text": [
        "Conductivity of intrinsic sample = 9.04e-06 (\u03a9cm)**-1\n",
        "Resistivity of intrinsic sample = 1.106e+05 \u03a9cm\n"
       ]
      }
     ],
     "prompt_number": 19
    },
    {
     "cell_type": "heading",
     "level": 2,
     "metadata": {},
     "source": [
      "Example -  2.12 : Page No - 61"
     ]
    },
    {
     "cell_type": "code",
     "collapsed": false,
     "input": [
      "#Given data\n",
      "ni= 1.45*10**10 # in /cm**3\n",
      "q=1.6*10**-19 # in C\n",
      "miu_n= 1300 # in cm**2/Vs\n",
      "density= 5*10**26 # density of silicon atom in /cm**3\n",
      "N_D= density/10**12 \n",
      "n=N_D \n",
      "# n*p= ni**2\n",
      "p= ni**2/n #in /cm**3\n",
      "sigma= q*n*miu_n # in (\u03a9cm)**-1\n",
      "rho= 1/sigma # in \u03a9cm\n",
      "print \" Resistivity of silicon = %0.2f \u03a9cm\" %rho"
     ],
     "language": "python",
     "metadata": {},
     "outputs": [
      {
       "output_type": "stream",
       "stream": "stdout",
       "text": [
        " Resistivity of silicon = 9.62 \u03a9cm\n"
       ]
      }
     ],
     "prompt_number": 23
    },
    {
     "cell_type": "heading",
     "level": 2,
     "metadata": {},
     "source": [
      "Example -  2.13 : Page No - 62"
     ]
    },
    {
     "cell_type": "code",
     "collapsed": false,
     "input": [
      "from sympy import symbols, solve, N\n",
      "p= symbols('p')\n",
      "#Given data\n",
      "q=1.6*10**-19 # in C\n",
      "rho=75 #in \u03a9cm\n",
      "N_D= 10**13 # in /cm**3\n",
      "N_A= 5*10**12 #in /cm**3\n",
      "E=3 # in V/cm\n",
      "ni= 2.7*10**12 # in /cm**3\n",
      "sigma= 1/rho # in (\u03a9cm)**-1\n",
      "# miu_p/miu_n= 1/3 or miu_n=3*miu_p\n",
      "# sigma= q*ni*(miu_n+miu_p) = q*ni*(3*miu_p+miu_p) = q*ni*(4*miu_p)\n",
      "miu_p= sigma/(q*ni*4) \n",
      "miu_n= 3*miu_p \n",
      "# n+N_A= p+N_D  or  n= p+N_D-N_A\n",
      "# n*p= ni**2  or  (p+N_D-N_A)*p= ni**2\n",
      "# p**2 + (N_D-N_A)*p-ni**2 =0\n",
      "expr= p**2 + (N_D-N_A)*p-ni**2\n",
      "root = solve(expr, p)\n",
      "p= root[1] #discarding -ve value\n",
      "n=p+N_D-N_A \n",
      "I= q*(n*miu_n+p*miu_p)*E# in A/m**2\n",
      "print \"The total conduction current = %0.4f A/m**2\" %I\n",
      "# Note: There is some difference between book answer and coding. The reson behind this is that\n",
      "#          The value of P is evaluated 1.8*10**12 while accurate value is 1.179674*10**12"
     ],
     "language": "python",
     "metadata": {},
     "outputs": [
      {
       "output_type": "stream",
       "stream": "stdout",
       "text": [
        "The total conduction current = 0.0730 A/m**2\n"
       ]
      }
     ],
     "prompt_number": 28
    },
    {
     "cell_type": "heading",
     "level": 2,
     "metadata": {},
     "source": [
      "Example -  2.14 : Page No - 63"
     ]
    },
    {
     "cell_type": "code",
     "collapsed": false,
     "input": [
      "#Given data\n",
      "N_D= 10**20 # in /cm**3\n",
      "ni= 2.5*10**12 # in /cm**3\n",
      "kT=26 # in meV\n",
      "kT=kT*10**-3 # in eV\n",
      "n= N_D # as N_D>>ni\n",
      "p= ni**2/n #in /cm**3\n",
      "print \"(a) : The minority carrier concentration = %0.1e per cm**3\" %p\n",
      "\n",
      "# Part (b)\n",
      "LocationOfFermiLevel= kT*log(N_D/ni) # in eV\n",
      "print \"(b) : The Fermi Level will be \",round(LocationOfFermiLevel,3),\" eV above Fermi level\" \n",
      "\n",
      "#Note: The value of Minority carrier concentration of part(a) is calculated wrong because \n",
      "#      the value of (2.5*10**12)**2/(10**20) will be 62500 not 2.5*10**4"
     ],
     "language": "python",
     "metadata": {},
     "outputs": [
      {
       "output_type": "stream",
       "stream": "stdout",
       "text": [
        "(a) : The minority carrier concentration = 6.2e+04 per cm**3\n",
        "(b) : The Fermi Level will be  0.455  eV above Fermi level\n"
       ]
      }
     ],
     "prompt_number": 30
    },
    {
     "cell_type": "heading",
     "level": 2,
     "metadata": {},
     "source": [
      "Example -  2.15 : Page No - 63"
     ]
    },
    {
     "cell_type": "code",
     "collapsed": false,
     "input": [
      "#Given data\n",
      "miu_n= 1300 # in cm**2/Vs\n",
      "q=1.6*10**-19 # in C\n",
      "ni= 4.3*10**-6 # in /cm**3\n",
      "V= 1 # in volt\n",
      "L=8 # in cm\n",
      "A=0.8*0.8 # in cm**2\n",
      "I=4*10**-3 # in A\n",
      "# R= rho*L/A = V/I\n",
      "R= V/I # in \u03a9\n",
      "sigma= L/(R*A) # in (\u03a9cm)**-1\n",
      "# sigma= q*n*miu_n\n",
      "n= sigma/(q*miu_n) \n",
      "N_D= n \n",
      "print \"(a) : The value of N_D = %0.3e\" %N_D \n",
      "# Part (b)\n",
      "d=L \n",
      "E= V/d \n",
      "vd=miu_n*E # in cm/s\n",
      "print \"(b) : Drift velocity = %0.1f cm/s\" %vd"
     ],
     "language": "python",
     "metadata": {},
     "outputs": [
      {
       "output_type": "stream",
       "stream": "stdout",
       "text": [
        "(a) : The value of N_D = 2.404e+14\n",
        "(b) : Drift velocity = 162.5 cm/s\n"
       ]
      }
     ],
     "prompt_number": 31
    },
    {
     "cell_type": "heading",
     "level": 2,
     "metadata": {},
     "source": [
      "Example -  2.16 : Page No - 64"
     ]
    },
    {
     "cell_type": "code",
     "collapsed": false,
     "input": [
      "#Given data\n",
      "E= 1 #in v/m\n",
      "miu= 32*10**-4 # in m**2/Vs\n",
      "m= 9.1*10**-28 # in gram\n",
      "m=m*10**-3 # in kg\n",
      "q=1.6*10**-19 # in C\n",
      "toh_r= 2*miu*m/q # in sec\n",
      "Vd= miu*E # in m/sec\n",
      "print \"The relaxation time = %0.2e sec\" %toh_r\n",
      "print \"Drift velocity      = %0.2f cm/sec\" %(Vd*10**2)"
     ],
     "language": "python",
     "metadata": {},
     "outputs": [
      {
       "output_type": "stream",
       "stream": "stdout",
       "text": [
        "The relaxation time = 3.64e-14 sec\n",
        "Drift velocity      = 0.32 cm/sec\n"
       ]
      }
     ],
     "prompt_number": 32
    },
    {
     "cell_type": "heading",
     "level": 2,
     "metadata": {},
     "source": [
      "Example -  2.17 : Page No - 64"
     ]
    },
    {
     "cell_type": "code",
     "collapsed": false,
     "input": [
      "#Given data\n",
      "miu_n= 0.145 # in m**2/Vs\n",
      "miu_p= 0.05 # in m**2/Vs\n",
      "q=1.6*10**-19 # in C\n",
      "n=10**15 # per m**3\n",
      "p=10**2 # per m**3\n",
      "rho= 1/(q*(n*miu_n+p*miu_p)) # in \u03a9m\n",
      "print \"The resistivity = %0.2e \u03a9m\" %rho"
     ],
     "language": "python",
     "metadata": {},
     "outputs": [
      {
       "output_type": "stream",
       "stream": "stdout",
       "text": [
        "The resistivity = 4.31e+04 \u03a9m\n"
       ]
      }
     ],
     "prompt_number": 33
    },
    {
     "cell_type": "heading",
     "level": 2,
     "metadata": {},
     "source": [
      "Example -  2.18 : Page No - 65"
     ]
    },
    {
     "cell_type": "code",
     "collapsed": false,
     "input": [
      "#Given data\n",
      "miu_n= 0.13 # in m**2/Vs\n",
      "miu_p= 0.05 # in m**2/Vs\n",
      "q=1.6*10**-19 # in C\n",
      "ni=1.5*10**16 # per m**3\n",
      "sigma_intrinsic= q*ni*(miu_n+miu_p) # in (\u03a9m)**-1\n",
      "print \"(a) : The conductivity of silicon in Intrinsic condition = %0.2e (\u03a9m)**-1\" %sigma_intrinsic\n",
      "\n",
      "# Part (b)\n",
      "n= 5*10**28/10**9 \n",
      "sigma= q*n*miu_n # in (\u03a9m)**-1\n",
      "print \"(b) : The conductivity with donar impurity               = %0.2f (\u03a9m)**-1\" %sigma\n",
      "\n",
      "# Part (c)\n",
      "p= 5*10**28/10**8 \n",
      "sigma= q*p*miu_p # in (\u03a9m)**-1\n",
      "print \"(c) : The conductivity with acceptor impurity            = %0.f (\u03a9m)**-1\" %sigma\n",
      "\n",
      "# Part (d)\n",
      "p_desh= p-n # in /m**3\n",
      "sigma= q*p_desh*miu_p # in (\u03a9m)**-1\n",
      "print \"(d) : The conductivity with donar and acceptor impurity  = %0.1f (\u03a9m)**-1\" %sigma\n",
      "\n",
      "# Note : Answer in the book of part (a) may be miss printed or wrong"
     ],
     "language": "python",
     "metadata": {},
     "outputs": [
      {
       "output_type": "stream",
       "stream": "stdout",
       "text": [
        "(a) : The conductivity of silicon in Intrinsic condition = 4.32e-04 (\u03a9m)**-1\n",
        "(b) : The conductivity with donar impurity               = 1.04 (\u03a9m)**-1\n",
        "(c) : The conductivity with acceptor impurity            = 4 (\u03a9m)**-1\n",
        "(d) : The conductivity with donar and acceptor impurity  = 3.6 (\u03a9m)**-1\n"
       ]
      }
     ],
     "prompt_number": 35
    },
    {
     "cell_type": "heading",
     "level": 2,
     "metadata": {},
     "source": [
      "Example -  2.19 : Page No - 66"
     ]
    },
    {
     "cell_type": "code",
     "collapsed": false,
     "input": [
      "#Given data\n",
      "rho= 1.2 # in \u03a9m\n",
      "miu_n= 0.14 # in m**2/Vs\n",
      "q=1.6*10**-19 # in C\n",
      "ni= 1.8*10**16 # per m**3\n",
      "# sigma = 1/rho = q*n*miu_n\n",
      "n= 1/(rho*q*miu_n) # per m**3\n",
      "p= ni**2/n # per m**3\n",
      "print \" The value of n = %0.2e per m**3\" %n\n",
      "print \" The value of p = %0.1e per m**3\" %p"
     ],
     "language": "python",
     "metadata": {},
     "outputs": [
      {
       "output_type": "stream",
       "stream": "stdout",
       "text": [
        " The value of n = 3.72e+19 per m**3\n",
        " The value of p = 8.7e+12 per m**3\n"
       ]
      }
     ],
     "prompt_number": 36
    },
    {
     "cell_type": "heading",
     "level": 2,
     "metadata": {},
     "source": [
      "Example -  2.20 : Page No - 66"
     ]
    },
    {
     "cell_type": "code",
     "collapsed": false,
     "input": [
      "#Given data\n",
      "N_D= 5*10**22/10**8 \n",
      "q=1.6*10**-19 # in C\n",
      "ni= 1.45*10**10 # per m**3\n",
      "miu_n= 1300 # in m**2/Vs\n",
      "# n*p= ni**2 or N_D*p = ni**2\n",
      "p= ni**2/N_D # in /cm**3\n",
      "sigma= q*miu_n*N_D # in (\u03a9cm)**-1\n",
      "rho= 1/sigma #in \u03a9cm\n",
      "print \" Resistivity = %0.2f \u03a9cm\" %rho"
     ],
     "language": "python",
     "metadata": {},
     "outputs": [
      {
       "output_type": "stream",
       "stream": "stdout",
       "text": [
        " Resistivity = 9.62 \u03a9cm\n"
       ]
      }
     ],
     "prompt_number": 37
    },
    {
     "cell_type": "heading",
     "level": 2,
     "metadata": {},
     "source": [
      "Example -  2.21 : Page No - 67"
     ]
    },
    {
     "cell_type": "code",
     "collapsed": false,
     "input": [
      "#Given data\n",
      "q=1.6*10**-19 # in C\n",
      "n=8.4*10**28 \n",
      "rho= 6.51 # in \u03a9/1000ft\n",
      "rho= rho/(3.05*10**4) # in \u03a9/cm\n",
      "sigma= 1/rho # in mho/cm\n",
      "sigma=sigma*10**2 # in mho/m\n",
      "# sigma= n*q*miu\n",
      "miu= sigma/(n*q) # in m**2/v-s\n",
      "print \" Conductivity = %0.2e mho/m\" %sigma\n",
      "print \" Mobility     = %0.2e m**2/v-s\" %miu"
     ],
     "language": "python",
     "metadata": {},
     "outputs": [
      {
       "output_type": "stream",
       "stream": "stdout",
       "text": [
        " Conductivity = 4.69e+05 mho/m\n",
        " Mobility     = 3.49e-05 m**2/v-s\n"
       ]
      }
     ],
     "prompt_number": 38
    },
    {
     "cell_type": "heading",
     "level": 2,
     "metadata": {},
     "source": [
      "Example -  2.22 : Page No - 67"
     ]
    },
    {
     "cell_type": "code",
     "collapsed": false,
     "input": [
      "#Given data\n",
      "miu_n= 1350 # in cm**2/v-sec\n",
      "miu_p= 480 # in cm**2/v-sec\n",
      "ni=1.52*10**10 # in /cm**3\n",
      "q=1.6*10**-19 # in C\n",
      "sigma= q*ni*(miu_n+miu_p) # in (\u03a9cm)**-1\n",
      "rho= 1/sigma # in \u03a9cm\n",
      "print \" Conductivity = %0.3e (\u03a9cm)**-1\" %sigma\n",
      "print \" Resistivity  = %0.2e \u03a9cm\" %rho"
     ],
     "language": "python",
     "metadata": {},
     "outputs": [
      {
       "output_type": "stream",
       "stream": "stdout",
       "text": [
        " Conductivity = 4.451e-06 (\u03a9cm)**-1\n",
        " Resistivity  = 2.25e+05 \u03a9cm\n"
       ]
      }
     ],
     "prompt_number": 39
    },
    {
     "cell_type": "heading",
     "level": 2,
     "metadata": {},
     "source": [
      "Example -  2.23 : Page No - 67"
     ]
    },
    {
     "cell_type": "code",
     "collapsed": false,
     "input": [
      "#Given data\n",
      "ni=2.5*10**19 # in /m**3\n",
      "miu_n= 0.38 # in m**2/v-sec\n",
      "miu_p= 0.18 # in m**2/v-sec\n",
      "q=1.6*10**-19 # in C\n",
      "sigma= q*ni*(miu_n+miu_p) # in (\u03a9m)**-1\n",
      "print \" Conductivity = %0.2f (\u03a9m)**-1\" %sigma"
     ],
     "language": "python",
     "metadata": {},
     "outputs": [
      {
       "output_type": "stream",
       "stream": "stdout",
       "text": [
        " Conductivity = 2.24 (\u03a9m)**-1\n"
       ]
      }
     ],
     "prompt_number": 40
    },
    {
     "cell_type": "heading",
     "level": 2,
     "metadata": {},
     "source": [
      "Example -  2.24 : Page No - 68"
     ]
    },
    {
     "cell_type": "code",
     "collapsed": false,
     "input": [
      "#Given data\n",
      "rho= 0.5 # in \n",
      "miu_n= 0.39 # in m**2/v-sec\n",
      "miu_p= 0.19 # in m**2/v-sec\n",
      "q=1.6*10**-19 # in C\n",
      "sigma= 1/rho # in (\u03a9m)**-1\n",
      "# Formula sigma= q*ni*(miu_n+miu_p)\n",
      "ni= sigma/(q*(miu_n+miu_p)) # in /m**3\n",
      "print \" The intrinsic carrier concentration of germanium = %0.3e /m**3\" %ni"
     ],
     "language": "python",
     "metadata": {},
     "outputs": [
      {
       "output_type": "stream",
       "stream": "stdout",
       "text": [
        " The intrinsic carrier concentration of germanium = 2.155e+19 /m**3\n"
       ]
      }
     ],
     "prompt_number": 41
    },
    {
     "cell_type": "heading",
     "level": 2,
     "metadata": {},
     "source": [
      "Example -  2.25 : Page No - 68"
     ]
    },
    {
     "cell_type": "code",
     "collapsed": false,
     "input": [
      "#Given data\n",
      "q=1.6*10**-19 # in C\n",
      "miu_n= 0.18 # in m**2/v-s\n",
      "N_D= 10**21 # per m**3\n",
      "N_A= 5*10**20 # per m**3\n",
      "N_deshD= N_D-N_A # per m**3\n",
      "n=N_deshD # per m**3\n",
      "sigma= q*n*miu_n # in (\u03a9m)**-1\n",
      "print \" Conductivity of the silicon sample = %0.1f (\u03a9m)**-1\" %sigma"
     ],
     "language": "python",
     "metadata": {},
     "outputs": [
      {
       "output_type": "stream",
       "stream": "stdout",
       "text": [
        " Conductivity of the silicon sample = 14.4 (\u03a9m)**-1\n"
       ]
      }
     ],
     "prompt_number": 42
    },
    {
     "cell_type": "heading",
     "level": 2,
     "metadata": {},
     "source": [
      "Example -  2.26 : Page No - 69"
     ]
    },
    {
     "cell_type": "code",
     "collapsed": false,
     "input": [
      "#Given data\n",
      "q=1.6*10**-19 # in C\n",
      "miu_n= 0.36 # in m**2/v-s\n",
      "miu_p= 0.17 # in m**2/v-s\n",
      "ni= 2.5*10**19 # per m**3\n",
      "sigma= q*ni*(miu_n+miu_p) # in s/m\n",
      "rho= 1/sigma # in \u03a9m\n",
      "print \" Conductivity of Ge = %0.2f s/m\" %sigma\n",
      "print \" Resistivity        = %0.2f \u03a9m\" %rho"
     ],
     "language": "python",
     "metadata": {},
     "outputs": [
      {
       "output_type": "stream",
       "stream": "stdout",
       "text": [
        " Conductivity of Ge = 2.12 s/m\n",
        " Resistivity        = 0.47 \u03a9m\n"
       ]
      }
     ],
     "prompt_number": 43
    },
    {
     "cell_type": "heading",
     "level": 2,
     "metadata": {},
     "source": [
      "Example -  2.27 : Page No - 69"
     ]
    },
    {
     "cell_type": "code",
     "collapsed": false,
     "input": [
      "#Given data\n",
      "e=1.6*10**-19 # in C\n",
      "miu_n= 0.13 # in m**2/v-s\n",
      "miu_p= 0.05 # in m**2/v-s\n",
      "N_D= 5*10**28/(2*10**8) # per m**3\n",
      "n=N_D # per m**3\n",
      "ni= 1.5*10**16 # per m**3\n",
      "p= ni**2/N_D # per m**3\n",
      "sigma= e*(n*miu_n+p*miu_p) # in s/m\n",
      "print \" Conductivity of the intrinsic semiconductor = %0.1f s/m is \" %sigma"
     ],
     "language": "python",
     "metadata": {},
     "outputs": [
      {
       "output_type": "stream",
       "stream": "stdout",
       "text": [
        " Conductivity of the intrinsic semiconductor = 5.2 s/m is \n"
       ]
      }
     ],
     "prompt_number": 44
    },
    {
     "cell_type": "heading",
     "level": 2,
     "metadata": {},
     "source": [
      "Example -  2.28 : Page No - 69"
     ]
    },
    {
     "cell_type": "code",
     "collapsed": false,
     "input": [
      "from math import exp\n",
      "#Given data\n",
      "Eg= 0.72 # in eV\n",
      "Ef= Eg/2 #in eV\n",
      "K= 8.61*10**-5 # in eV/K\n",
      "T=300 #in K\n",
      "nc= 1 \n",
      "n= 1+exp(((Eg-Ef)/(K*T)) )\n",
      "ncBYn= nc/n \n",
      "print \" The fraction of the total number or electrons = %0.2e\" %ncBYn"
     ],
     "language": "python",
     "metadata": {},
     "outputs": [
      {
       "output_type": "stream",
       "stream": "stdout",
       "text": [
        " The fraction of the total number or electrons = 8.85e-07\n"
       ]
      }
     ],
     "prompt_number": 48
    },
    {
     "cell_type": "heading",
     "level": 2,
     "metadata": {},
     "source": [
      "Example -  2.29 : Page No - 70"
     ]
    },
    {
     "cell_type": "code",
     "collapsed": false,
     "input": [
      "#Given data\n",
      "N_D= 1.4*10**24 # per m**3\n",
      "ni= 1.4*10**18 # per m**3\n",
      "n=N_D #per m**3\n",
      "p=ni**2/n # per m**3\n",
      "R= n/p # ratio of electron to holes concentration\n",
      "print \" Ratio of electron to holes concentraiton = %0.1e\" %R"
     ],
     "language": "python",
     "metadata": {},
     "outputs": [
      {
       "output_type": "stream",
       "stream": "stdout",
       "text": [
        " Ratio of electron to holes concentraiton = 1.0e+12\n"
       ]
      }
     ],
     "prompt_number": 50
    },
    {
     "cell_type": "heading",
     "level": 2,
     "metadata": {},
     "source": [
      "Example -  2.30 : Page No - 70"
     ]
    },
    {
     "cell_type": "code",
     "collapsed": false,
     "input": [
      "from numpy import pi\n",
      "#Given data\n",
      "e=1.6*10**-19 # in C\n",
      "miu_e= 0.0032 # in m**2/v-s\n",
      "sigma= 5.8*10**7 # in s/m\n",
      "E= 20*10**-3 # in V/m\n",
      "d=0.002 # in m\n",
      "Area= pi*d**2/4 # in m**2\n",
      "\n",
      "# Part (a)\n",
      "n= sigma/(e*miu_e) # per m**3\n",
      "print \"(a) : The charge density          = %0.3e per meter cube\" %n\n",
      "\n",
      "# Part (b)\n",
      "J= sigma*E # in A/m**2\n",
      "print \"(b) : Current density             = %0.2e A/m**2\" %J\n",
      "\n",
      "# Part (c)\n",
      "I= J*Area # in A\n",
      "print \"(c) : Current flowing in the wire = %0.3f ampere\" %I\n",
      "\n",
      "# Part (d)\n",
      "v=miu_e*E # in m/sec\n",
      "print \"(d) : Electron drift velocity     = %0.1e m/sec\" %v"
     ],
     "language": "python",
     "metadata": {},
     "outputs": [
      {
       "output_type": "stream",
       "stream": "stdout",
       "text": [
        "(a) : The charge density          = 1.133e+29 per meter cube\n",
        "(b) : Current density             = 1.16e+06 A/m**2\n",
        "(c) : Current flowing in the wire = 3.644 ampere\n",
        "(d) : Electron drift velocity     = 6.4e-05 m/sec\n"
       ]
      }
     ],
     "prompt_number": 52
    },
    {
     "cell_type": "heading",
     "level": 2,
     "metadata": {},
     "source": [
      "Example -  2.31 : Page No - 71"
     ]
    },
    {
     "cell_type": "code",
     "collapsed": false,
     "input": [
      "#Given data\n",
      "rho= 0.5 # in \u03a9-m\n",
      "miu_c= 0.4 # in m**2/v-sec\n",
      "J=100 #in A/m**2\n",
      "distance=10 # \u00b5m\n",
      "distance=distance*10**-6 #in sec\n",
      "# V= miu_c*E = miu_c*J/sigma = miu_c*J*rho \n",
      "V=  miu_c*J*rho  # in m/sec\n",
      "print \" Drift velocity = %0.f m/sec\" %V\n",
      "T= distance/V # in second\n",
      "print \" The time taken by the electron to travel 10 micro meter in the crystal = %0.1e second\" %T"
     ],
     "language": "python",
     "metadata": {},
     "outputs": [
      {
       "output_type": "stream",
       "stream": "stdout",
       "text": [
        " Drift velocity = 20 m/sec\n",
        " The time taken by the electron to travel 10 micro meter in the crystal = 5.0e-07 second\n"
       ]
      }
     ],
     "prompt_number": 53
    },
    {
     "cell_type": "heading",
     "level": 2,
     "metadata": {},
     "source": [
      "Example -  2.32 : Page No - 71"
     ]
    },
    {
     "cell_type": "code",
     "collapsed": false,
     "input": [
      "#Given data\n",
      "e=1.6*10**-19 # in C\n",
      "miu_e= 3800 # in cm v-s\n",
      "miu_p= 1800 # in cm v-s\n",
      "ni= 2.5*10**13 # per cm**3\n",
      "N_D= 4.4*10**22*10**-7 # per cm**3\n",
      "n=N_D # per cm**3\n",
      "p= ni**2/N_D # holes/cm**3\n",
      "sigma_i= ni*e*(miu_e+miu_p) # in (\u03a9cm)**-1\n",
      "sigma_n= e*N_D*miu_e # in (\u03a9cm)**-1\n",
      "print \" Intrinsic conductivity                      = %0.4f (\u03a9cm)**-1\" %sigma_i\n",
      "print \" Concentration of electrons                  = %0.1e per cm**3\" %n\n",
      "print \" Concentration of holes                      = %0.2e per cm**3\" %p\n",
      "print \" The conductivity in n-type Ge semiconductor = %0.2f (\u03a9cm)**-1\" %sigma_n"
     ],
     "language": "python",
     "metadata": {},
     "outputs": [
      {
       "output_type": "stream",
       "stream": "stdout",
       "text": [
        " Intrinsic conductivity                      = 0.0224 (\u03a9cm)**-1\n",
        " Concentration of electrons                  = 4.4e+15 per cm**3\n",
        " Concentration of holes                      = 1.42e+11 per cm**3\n",
        " The conductivity in n-type Ge semiconductor = 2.68 (\u03a9cm)**-1\n"
       ]
      }
     ],
     "prompt_number": 54
    },
    {
     "cell_type": "heading",
     "level": 2,
     "metadata": {},
     "source": [
      "Example -  2.33 : Page No - 72"
     ]
    },
    {
     "cell_type": "code",
     "collapsed": false,
     "input": [
      "#Given data\n",
      "e=1.6*10**-19 # in C\n",
      "a= 0.004*0.0015 # in m**2\n",
      "ni= 2.5*10**19 # per m**3\n",
      "miu_e= 0.38 # in m**2/ v-s\n",
      "miu_p= 0.18 # in m**2/v-s\n",
      "V=10 # in V\n",
      "i= 25 # in mm\n",
      "i=i*10**-3 # in m\n",
      "E= V/i # in V/m\n",
      "# Part (a)\n",
      "ve= miu_e*E # in m/sec\n",
      "print \"(a) : Electric drift velocity              = %0.f m/sec\" %ve\n",
      "vp= miu_p*E # in m/sec\n",
      "print \"      Hole drift velocity                  = %0.f m/sec\" %vp\n",
      "\n",
      "# Part (b)\n",
      "sigma_i= ni*e*(miu_e+miu_p) # in (\u03a9cm)**-1\n",
      "print \"(b) : Intrinsic carrier conductivity of Ge = %0.2f (\u03a9cm)**-1\" %sigma_i\n",
      "\n",
      "# Part (c)\n",
      "I= sigma_i*E*a # in A\n",
      "I=I*10**3 # in mA\n",
      "print \"(c) : Total current                        = %0.3f mA\" %I"
     ],
     "language": "python",
     "metadata": {},
     "outputs": [
      {
       "output_type": "stream",
       "stream": "stdout",
       "text": [
        "(a) : Electric drift velocity              = 152 m/sec\n",
        "      Hole drift velocity                  = 72 m/sec\n",
        "(b) : Intrinsic carrier conductivity of Ge = 2.24 (\u03a9cm)**-1\n",
        "(c) : Total current                        = 5.376 mA\n"
       ]
      }
     ],
     "prompt_number": 56
    },
    {
     "cell_type": "heading",
     "level": 2,
     "metadata": {},
     "source": [
      "Example -  2.34 : Page No - 73"
     ]
    },
    {
     "cell_type": "code",
     "collapsed": false,
     "input": [
      "from math import exp\n",
      "#Given data\n",
      "miu_e= 0.14 # in m**2/ v-s\n",
      "miu_p= 0.05 # in m**2/v-s\n",
      "e=1.6*10**-19 # in C\n",
      "N=3*10**25 # per m**3\n",
      "Eg= 1.1 # in eV\n",
      "Eg= Eg*1.602*10**-19 # in J\n",
      "k= 1.38*10**-23 # in J/K\n",
      "T=300 # in K\n",
      "ni= N*exp((-Eg/(2*k*T))) # in /m**3\n",
      "sigma= ni*e*(miu_e+miu_p) # in s/m\n",
      "print \" The intrinsic carrier concentration = %0.3e /m**3\" %ni\n",
      "print \" Conductivity of Si = %0.2e s/m\" %sigma"
     ],
     "language": "python",
     "metadata": {},
     "outputs": [
      {
       "output_type": "stream",
       "stream": "stdout",
       "text": [
        " The intrinsic carrier concentration = 1.715e+16 /m**3\n",
        " Conductivity of Si = 5.21e-04 s/m\n"
       ]
      }
     ],
     "prompt_number": 60
    },
    {
     "cell_type": "heading",
     "level": 2,
     "metadata": {},
     "source": [
      "Example -  2.35 : Page No - 73"
     ]
    },
    {
     "cell_type": "code",
     "collapsed": false,
     "input": [
      "#Given data\n",
      "N_A= 4.4*10**22/10**8 # in /m**3\n",
      "N_D= 10**3*N_A # in /m**3\n",
      "ni= 2.5*10**13 # /cm**3\n",
      "Vt= 26 # in mV\n",
      "Vt= Vt*10**-3 # in V\n",
      "Vj= Vt*log(N_A*N_D/ni**2) # in V\n",
      "print \" The junction potential = %0.4f volts\" %Vj\n",
      "\n",
      "# Note : There is miss print in the book answer"
     ],
     "language": "python",
     "metadata": {},
     "outputs": [
      {
       "output_type": "stream",
       "stream": "stdout",
       "text": [
        " The junction potential = 0.3287 volts\n"
       ]
      }
     ],
     "prompt_number": 62
    },
    {
     "cell_type": "heading",
     "level": 2,
     "metadata": {},
     "source": [
      "Example -  2.36 : Page No - 74"
     ]
    },
    {
     "cell_type": "code",
     "collapsed": false,
     "input": [
      "#Given data\n",
      "I_o= 0.3 # in \u00b5A\n",
      "I_o= I_o*10**-6 # in A\n",
      "V_F= 0.15 # in V\n",
      "I= I_o*exp(40*V_F) # in A\n",
      "print \" Current flowing in the diode = %0.2f \u00b5A\" %(I*10**6)"
     ],
     "language": "python",
     "metadata": {},
     "outputs": [
      {
       "output_type": "stream",
       "stream": "stdout",
       "text": [
        " Current flowing in the diode = 121.03 \u00b5A\n"
       ]
      }
     ],
     "prompt_number": 64
    },
    {
     "cell_type": "heading",
     "level": 2,
     "metadata": {},
     "source": [
      "Example -  2.37 : Page No - 74"
     ]
    },
    {
     "cell_type": "code",
     "collapsed": false,
     "input": [
      "#Given data\n",
      "Io= 1 # in nA\n",
      "Io= Io*10**-9 # in A\n",
      "T= 27+273 #in K\n",
      "V_T= T/11600 # in V\n",
      "V_F= 0.3 # in V\n",
      "n=1 \n",
      "I_F= Io*(exp(V_F/(n*V_T))-1) # in A\n",
      "print \" The forward current of diode = %0.3e ampere\" %I_F"
     ],
     "language": "python",
     "metadata": {},
     "outputs": [
      {
       "output_type": "stream",
       "stream": "stdout",
       "text": [
        " The forward current of diode = 1.091e-04 ampere\n"
       ]
      }
     ],
     "prompt_number": 67
    },
    {
     "cell_type": "heading",
     "level": 2,
     "metadata": {},
     "source": [
      "Example -  2.38 : Page No - 75"
     ]
    },
    {
     "cell_type": "code",
     "collapsed": false,
     "input": [
      "#Given data\n",
      "I_F= 2 # in mA\n",
      "I_F= I_F*10**-3 # in A\n",
      "V_T= 25 # in mV\n",
      "V_T=V_T*10**-3 # in V\n",
      "n=1 \n",
      "r_F= n*V_T/I_F # in \u03a9\n",
      "print \" The dynamic resistance of a Ge p-n junction diode = %0.1f \u03a9\" %r_F"
     ],
     "language": "python",
     "metadata": {},
     "outputs": [
      {
       "output_type": "stream",
       "stream": "stdout",
       "text": [
        " The dynamic resistance of a Ge p-n junction diode = 12.5 \u03a9\n"
       ]
      }
     ],
     "prompt_number": 68
    },
    {
     "cell_type": "heading",
     "level": 2,
     "metadata": {},
     "source": [
      "Example -  2.39 : Page No - 75"
     ]
    },
    {
     "cell_type": "code",
     "collapsed": false,
     "input": [
      "#Given data\n",
      "T=300 # in K\n",
      "n=1 \n",
      "V_T= 26 # in mV\n",
      "V_T=V_T*10**-3 # in V\n",
      "V_F= 200 # in mV\n",
      "V_F=V_F*10**-3 # in V\n",
      "Io= 1 # in \u00b5A\n",
      "Io= Io*10**-6 # in A\n",
      "r_F= n*V_T/(Io*exp(V_F/(n*V_T))) # in \u03a9\n",
      "print \" The ac resistance of a semiconductor diode = %0.2f \u03a9\" %r_F"
     ],
     "language": "python",
     "metadata": {},
     "outputs": [
      {
       "output_type": "stream",
       "stream": "stdout",
       "text": [
        " The ac resistance of a semiconductor diode = 11.86 \u03a9\n"
       ]
      }
     ],
     "prompt_number": 69
    },
    {
     "cell_type": "heading",
     "level": 2,
     "metadata": {},
     "source": [
      "Example - 2.40 : Page No - 75"
     ]
    },
    {
     "cell_type": "code",
     "collapsed": false,
     "input": [
      "n=2 \n",
      "V_T= 26 # in mV\n",
      "V_T=V_T*10**-3 # in V\n",
      "I= 1 # in mA\n",
      "I= I*10**-3 # in A\n",
      "r= n*V_T/I # in \u03a9\n",
      "print \" The magnitude of r = %0.f \u03a9\" %r"
     ],
     "language": "python",
     "metadata": {},
     "outputs": [
      {
       "output_type": "stream",
       "stream": "stdout",
       "text": [
        " The magnitude of r = 52 \u03a9\n"
       ]
      }
     ],
     "prompt_number": 70
    }
   ],
   "metadata": {}
  }
 ]
}