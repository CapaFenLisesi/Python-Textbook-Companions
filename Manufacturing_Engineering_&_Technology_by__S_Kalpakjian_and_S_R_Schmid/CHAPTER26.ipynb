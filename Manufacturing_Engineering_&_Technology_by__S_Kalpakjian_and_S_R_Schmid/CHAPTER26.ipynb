{
 "metadata": {
  "name": "",
  "signature": "sha256:e9213f9705672cf03fbb8b94f9cc941cd38decf82ffd7c1d08bada408017a966"
 },
 "nbformat": 3,
 "nbformat_minor": 0,
 "worksheets": [
  {
   "cells": [
    {
     "cell_type": "heading",
     "level": 1,
     "metadata": {},
     "source": [
      "CHAPTER 26 - Abrasive Machining and Finishing\n",
      "Operations"
     ]
    },
    {
     "cell_type": "heading",
     "level": 2,
     "metadata": {},
     "source": [
      "EXAMPLE 26.1 - PG NO. 729"
     ]
    },
    {
     "cell_type": "code",
     "collapsed": false,
     "input": [
      "#example 26.1\n",
      "#page no. 729\n",
      "# Given that\n",
      "D=10.#in inch Grinding Wheel diameter\n",
      "N=4000.#in rpm \n",
      "w=1.#in inch \n",
      "d=0.002#in inch depth of cut\n",
      "v=60.#inch/min feed rate of the workpiece\n",
      "\n",
      "# Sample Problem on page no. 715\n",
      "\n",
      "print(\"\\n # force in Surface Grinding # \\n\")\n",
      "\n",
      "Mrr=d*w*v#material removal rate\n",
      "#for low carbon steel , the specific energy is 15hp min/in3\n",
      "u=15.#in hp min/in3\n",
      "P=u*Mrr*396000.#in lb/min\n",
      "Fc = P/(2*3.14*N*(D/2.))\n",
      "\n",
      "print'%s %d %s' %(\"\\n\\n Cutting Force =\",Fc*4.448-1,\"N\")\n",
      "\n",
      "\n",
      "Fn = Fc+(30./100.)*Fc\n",
      "\n",
      "print'%s %d %s' %(\"\\n\\n Thrust Force =\",Fn*4.448-1,\"N\")\n",
      "\n",
      "\n",
      "\n",
      "\n",
      "\n",
      "\n",
      "\n"
     ],
     "language": "python",
     "metadata": {},
     "outputs": [
      {
       "output_type": "stream",
       "stream": "stdout",
       "text": [
        "\n",
        " # force in Surface Grinding # \n",
        "\n",
        "\n",
        "\n",
        " Cutting Force = 24 N\n",
        "\n",
        "\n",
        " Thrust Force = 31 N\n"
       ]
      }
     ],
     "prompt_number": 1
    }
   ],
   "metadata": {}
  }
 ]
}