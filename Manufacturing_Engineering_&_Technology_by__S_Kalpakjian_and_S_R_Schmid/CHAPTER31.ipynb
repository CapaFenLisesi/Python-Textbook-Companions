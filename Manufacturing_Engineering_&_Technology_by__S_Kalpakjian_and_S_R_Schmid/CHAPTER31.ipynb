{
 "metadata": {
  "name": "",
  "signature": "sha256:ec85f4c403202cb4ac0221a470b0c5efb3a6270c5f79fb263930dd8f5155e74f"
 },
 "nbformat": 3,
 "nbformat_minor": 0,
 "worksheets": [
  {
   "cells": [
    {
     "cell_type": "heading",
     "level": 1,
     "metadata": {},
     "source": [
      "CHAPTER 31 - Solid-State Welding Processes"
     ]
    },
    {
     "cell_type": "heading",
     "level": 2,
     "metadata": {},
     "source": [
      "EXAMPLE 31.2 - PG NO. 908"
     ]
    },
    {
     "cell_type": "code",
     "collapsed": false,
     "input": [
      "#example 31.2\n",
      "#page no. 908\n",
      "\n",
      "# Given that\n",
      "t=1.#in mm thickness of chip\n",
      "I=5000.#in Ampere current\n",
      "T=0.1#in sec\n",
      "d=5.#in mm diameter of electrode\n",
      "\n",
      "\n",
      "# Sample Problem on page no. 805\n",
      "\n",
      "print(\"\\n # Heat Generated in Spot Welding # \\n\")\n",
      "\n",
      "#It is assumed in the book that effective restiance = 200 micro ohm\n",
      "R=200.*(10.**-6.)\n",
      "H=(I**2.)*R*T\n",
      "\n",
      "print'%s %d %s' %(\"\\n\\n Heat Generated =\",H,\"J\")\n",
      "\n",
      "# It is assumed in the book that \n",
      "V=30.#in mm3 volume\n",
      "D=0.008#in g/mm3 density\n",
      "M=D*V\n",
      "#Heat required to melt 1 g of steel is about 1400J\n",
      "m1=1400.*M\n",
      "print'%s %d %s' %(\"\\n\\n Heat Required to melt weld nugget =\",m1,\" J\")\n",
      "\n",
      "m2=H-m1\n",
      "print'%s %d %s' %(\"\\n\\n Heat Dissipitated into the metal surrounding the nugget =\",m2,\" J\")\n",
      "\n",
      "\n",
      "\n",
      "\n",
      "\n",
      "\n"
     ],
     "language": "python",
     "metadata": {},
     "outputs": [
      {
       "output_type": "stream",
       "stream": "stdout",
       "text": [
        "\n",
        " # Heat Generated in Spot Welding # \n",
        "\n",
        "\n",
        "\n",
        " Heat Generated = 500 J\n",
        "\n",
        "\n",
        " Heat Required to melt weld nugget = 336  J\n",
        "\n",
        "\n",
        " Heat Dissipitated into the metal surrounding the nugget = 164  J\n"
       ]
      }
     ],
     "prompt_number": 1
    }
   ],
   "metadata": {}
  }
 ]
}