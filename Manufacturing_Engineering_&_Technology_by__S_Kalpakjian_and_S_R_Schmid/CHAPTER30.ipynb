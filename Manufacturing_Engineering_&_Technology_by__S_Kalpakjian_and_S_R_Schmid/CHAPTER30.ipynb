{
 "metadata": {
  "name": "",
  "signature": "sha256:4259b979d1cbddbfe211888983d021ed25e902a2e6d8c4cc5d880bdb74a915a0"
 },
 "nbformat": 3,
 "nbformat_minor": 0,
 "worksheets": [
  {
   "cells": [
    {
     "cell_type": "heading",
     "level": 1,
     "metadata": {},
     "source": [
      "CHAPTER 30 - Fusion-Welding Processes"
     ]
    },
    {
     "cell_type": "heading",
     "level": 2,
     "metadata": {},
     "source": [
      "EXAMPLE 30.1 - PG NO. 871"
     ]
    },
    {
     "cell_type": "code",
     "collapsed": false,
     "input": [
      "#example 30.1\n",
      "#page no. 871\n",
      "#Welding Speed for Different Materials\n",
      "V=20.\n",
      "I=200.\n",
      "A=30.\n",
      "\n",
      "#part a\n",
      "u=2.9\n",
      "v=0.75*(V*I)/(u*A)\n",
      "print'%s %.1f %s' %(\"Welding Speed for aluminum =\",v,\"mm/s \\n\")\n",
      "\n",
      "#part b\n",
      "u1=9.7\n",
      "v1=0.75*(V*I)/(u1*A)\n",
      "print'%s %.1f %s' %(\"Welding Speed for carbon & steel =\",v1,\"mm/s \\n\")\n",
      "\n",
      "#part c\n",
      "u2=14.3\n",
      "v2=0.75*(V*I)/(u2*A)\n",
      "print'%s %.1f %s' %(\"Welding Speed for titanium =\",v2,\"mm/s \\n\")"
     ],
     "language": "python",
     "metadata": {},
     "outputs": [
      {
       "output_type": "stream",
       "stream": "stdout",
       "text": [
        "Welding Speed for aluminum = 34.5 mm/s \n",
        "\n",
        "Welding Speed for carbon & steel = 10.3 mm/s \n",
        "\n",
        "Welding Speed for titanium = 7.0 mm/s \n",
        "\n"
       ]
      }
     ],
     "prompt_number": 1
    }
   ],
   "metadata": {}
  }
 ]
}