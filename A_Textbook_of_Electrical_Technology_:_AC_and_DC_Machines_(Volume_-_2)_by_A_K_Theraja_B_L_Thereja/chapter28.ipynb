{
 "metadata": {
  "name": "",
  "signature": "sha256:6743417a1c79c6197a7cd49755318e10828c09b3cb248c5af8d5364367840700"
 },
 "nbformat": 3,
 "nbformat_minor": 0,
 "worksheets": [
  {
   "cells": [
    {
     "cell_type": "heading",
     "level": 1,
     "metadata": {},
     "source": [
      "Chapter 28: Generator Characteristics"
     ]
    },
    {
     "cell_type": "heading",
     "level": 2,
     "metadata": {},
     "source": [
      "Example Number 28.13, Page Number:984"
     ]
    },
    {
     "cell_type": "code",
     "collapsed": false,
     "input": [
      "#variable declaration\n",
      "v=220#V\n",
      "#emf increases by 1 V for every increase of 6 A\n",
      "ra=0.02#ohm\n",
      "i=96#A\n",
      "\n",
      "#calculations\n",
      "voltageincrease=i/6\n",
      "vd=i*ra\n",
      "voltage_rise=voltageincrease-vd\n",
      "vconsumer=v+voltage_rise\n",
      "power_supplied=voltage_rise*i\n",
      "\n",
      "#result\n",
      "print \"voltage supplied ot consumer= \",vconsumer,\" V\"\n",
      "print \"power supplied by the booster itself= \",power_supplied/1000,\" kW\" "
     ],
     "language": "python",
     "metadata": {},
     "outputs": [
      {
       "output_type": "stream",
       "stream": "stdout",
       "text": [
        "voltage supplied ot consumer=  234.08  V\n",
        "power supplied by the booster itself=  1.35168  kW\n"
       ]
      }
     ],
     "prompt_number": 3
    },
    {
     "cell_type": "heading",
     "level": 2,
     "metadata": {},
     "source": [
      "Example Number 28.14, Page Number:985"
     ]
    },
    {
     "cell_type": "code",
     "collapsed": false,
     "input": [
      "#variable declaration\n",
      "v=50.0#V\n",
      "i=200.0#A\n",
      "r=0.3#ohm\n",
      "i1=200.0#A\n",
      "i2=50.0#A\n",
      "\n",
      "#calculations\n",
      "vd=i*r\n",
      "voltage_decrease=v-vd\n",
      "feeder_drop=v*r\n",
      "booster_voltage=v*v/i1\n",
      "voltage_net=feeder_drop-booster_voltage\n",
      "\n",
      "#result\n",
      "print \"Net decrease in voltage= \",voltage_net,\" V\""
     ],
     "language": "python",
     "metadata": {},
     "outputs": [
      {
       "output_type": "stream",
       "stream": "stdout",
       "text": [
        "Net decrease in voltage=  2.5  V\n"
       ]
      }
     ],
     "prompt_number": 6
    },
    {
     "cell_type": "heading",
     "level": 2,
     "metadata": {},
     "source": [
      "Example Number 28.15, Page Number:986"
     ]
    },
    {
     "cell_type": "code",
     "collapsed": false,
     "input": [
      "#variable declaration\n",
      "inl=5.0#A\n",
      "v=440.0#V\n",
      "il=6.0#A\n",
      "i_full=200.0#A(full load)\n",
      "turns=1600\n",
      "\n",
      "#calcuations\n",
      "shunt_turns1=turns*inl\n",
      "shunt_turns2=turns*il\n",
      "increase=shunt_turns2-shunt_turns1\n",
      "n=increase/i_full#number of series turns required\n",
      "\n",
      "#result\n",
      "print \"Number of series turns required= \",n,\" tunrs/pole\""
     ],
     "language": "python",
     "metadata": {},
     "outputs": [
      {
       "output_type": "stream",
       "stream": "stdout",
       "text": [
        "Number of series turns required=  8.0  tunrs/pole\n"
       ]
      }
     ],
     "prompt_number": 7
    },
    {
     "cell_type": "heading",
     "level": 2,
     "metadata": {},
     "source": [
      "Example Number 28.16, Page Number:987"
     ]
    },
    {
     "cell_type": "code",
     "collapsed": false,
     "input": [
      "#variable declaration\n",
      "n=1000#turns/pole\n",
      "series_winding=4#turns/pole\n",
      "r=0.05#ohm\n",
      "increase_i=0.2#A\n",
      "ia=80#A\n",
      "\n",
      "#calculations\n",
      "additional_at=n*increase_i\n",
      "current_required=additional_at/series_winding\n",
      "R=(current_required*r)/(ia-current_required)\n",
      "\n",
      "#result\n",
      "print \"Divertor resistance= \",R,\" ohm\""
     ],
     "language": "python",
     "metadata": {},
     "outputs": [
      {
       "output_type": "stream",
       "stream": "stdout",
       "text": [
        "Divertor resistance=  0.0833333333333  ohm\n"
       ]
      }
     ],
     "prompt_number": 8
    },
    {
     "cell_type": "heading",
     "level": 2,
     "metadata": {},
     "source": [
      "Example Number 28.17, Page Number:987"
     ]
    },
    {
     "cell_type": "code",
     "collapsed": false,
     "input": [
      "#variable declaration\n",
      "v=220.0#V\n",
      "i=100.0#A\n",
      "ra=0.1#ohm\n",
      "rsh=50.0#ohm\n",
      "rse=0.06#ohm\n",
      "divertor=0.14#ohm\n",
      "\n",
      "#calculations\n",
      "#short shunt\n",
      "vd=i*rse\n",
      "ish=v/rsh\n",
      "ia=i+ish\n",
      "armature_drop=ia*ra\n",
      "E=v+vd+armature_drop\n",
      "#long shunt\n",
      "vd=ia*(ra+rse)\n",
      "print vd\n",
      "E2=v+vd\n",
      "current_divertor=(ia*divertor)/(divertor+rse)\n",
      "change=(current_divertor/ia)*100\n",
      "\n",
      "#result\n",
      "print \"a)emf induced using short shunt= \",E\n",
      "print \"b)emf induced using long shunt= \",E2\n",
      "print \"c)series amp-turns are reduced to \",change,\" %\""
     ],
     "language": "python",
     "metadata": {},
     "outputs": [
      {
       "output_type": "stream",
       "stream": "stdout",
       "text": [
        "16.704\n",
        "a)emf induced using short shunt=  236.44\n",
        "b)emf induced using long shunt=  236.704\n",
        "c)series amp-turns are reduced to  70.0  %\n"
       ]
      }
     ],
     "prompt_number": 11
    },
    {
     "cell_type": "heading",
     "level": 2,
     "metadata": {},
     "source": [
      "Example Number 28.18, Page Number:988"
     ]
    },
    {
     "cell_type": "code",
     "collapsed": false,
     "input": [
      "#variable declaration\n",
      "p=250*1000#W\n",
      "v=240#V\n",
      "v2=220#V\n",
      "i=7#A\n",
      "inl=12#A\n",
      "shunt=650#turns/pole\n",
      "series=4#turns/pole\n",
      "rse=0.006#ohm\n",
      "\n",
      "#calculations\n",
      "i_fulload=p/v\n",
      "shunt_increase=shunt*(inl-i)\n",
      "ise=shunt_increase/series\n",
      "i_d=i_fulload-ise\n",
      "Rd=(ise*rse)/i_d\n",
      "\n",
      "#results\n",
      "print \"resistance of the series amp-turns at no-load\",Rd,\"ohm\"\n"
     ],
     "language": "python",
     "metadata": {},
     "outputs": [
      {
       "output_type": "stream",
       "stream": "stdout",
       "text": [
        "resistance of the series amp-turns at no-load 0.0212751091703 ohm\n"
       ]
      }
     ],
     "prompt_number": 14
    },
    {
     "cell_type": "heading",
     "level": 2,
     "metadata": {},
     "source": [
      "Example Number 28.19, Page Number:988"
     ]
    },
    {
     "cell_type": "code",
     "collapsed": false,
     "input": [
      "p=60.0*1000#W\n",
      "n=1600.0#turns/pole\n",
      "inl=1.25#A\n",
      "vnl=125#V\n",
      "il=1.75#A\n",
      "vl=150.0#V\n",
      "\n",
      "#calculations\n",
      "extra_excitation=n*(il-inl)\n",
      "ise=p/vl\n",
      "series=extra_excitation/ise\n",
      "ise2=extra_excitation/3\n",
      "i_d=ise-ise2\n",
      "rd=(ise2*0.02)/i_d\n",
      "reg=(vnl-vl)*100/vl\n",
      "\n",
      "#result\n",
      "print \"i)minimum number of series turns/pole= \",series\n",
      "print \"ii)divertor resistance= \",rd\n",
      "print \"iii)voltage regulation= \",reg,\"%\""
     ],
     "language": "python",
     "metadata": {},
     "outputs": [
      {
       "output_type": "stream",
       "stream": "stdout",
       "text": [
        "i)minimum number of series turns/pole=  2.0\n",
        "ii)divertor resistance=  0.04\n",
        "iii)voltage regulation=  -16.6666666667 %\n"
       ]
      }
     ],
     "prompt_number": 26
    },
    {
     "cell_type": "heading",
     "level": 2,
     "metadata": {},
     "source": [
      "Example Number 28.20, Page Number:989"
     ]
    },
    {
     "cell_type": "code",
     "collapsed": false,
     "input": [
      "#variable declaration\n",
      "v=50.0#v\n",
      "i=200.0#A\n",
      "r=0.3#ohm\n",
      "i1=160.0#A\n",
      "i2=50.0#A\n",
      "\n",
      "#calculations\n",
      "#160 A\n",
      "vd=i1*(r-(v/i))\n",
      "#50 A\n",
      "vd2=i2*(r-(v/i))\n",
      "\n",
      "#result\n",
      "print \"voltage drop at 160 A=\",vd,\"V\"\n",
      "print \"voltage drop at 50 A=\",vd2,\"V\""
     ],
     "language": "python",
     "metadata": {},
     "outputs": [
      {
       "output_type": "stream",
       "stream": "stdout",
       "text": [
        "voltage drop at 160 A= 8.0 V\n",
        "voltage drop at 50 A= 2.5 V\n"
       ]
      }
     ],
     "prompt_number": 33
    },
    {
     "cell_type": "code",
     "collapsed": false,
     "input": [],
     "language": "python",
     "metadata": {},
     "outputs": []
    }
   ],
   "metadata": {}
  }
 ]
}