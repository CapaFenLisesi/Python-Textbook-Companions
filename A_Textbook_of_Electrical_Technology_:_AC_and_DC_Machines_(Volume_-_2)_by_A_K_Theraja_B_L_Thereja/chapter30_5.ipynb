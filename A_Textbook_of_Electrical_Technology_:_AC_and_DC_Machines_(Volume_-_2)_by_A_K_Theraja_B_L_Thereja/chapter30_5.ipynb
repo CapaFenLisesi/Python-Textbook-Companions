{
 "metadata": {
  "name": "",
  "signature": "sha256:072a977ff7e7f41108f647b699866e16f58bf91b148a03cefc5a07bc1eeda05b"
 },
 "nbformat": 3,
 "nbformat_minor": 0,
 "worksheets": [
  {
   "cells": [
    {
     "cell_type": "heading",
     "level": 1,
     "metadata": {},
     "source": [
      "Chapter 30:Speed Control of D.C. Motors"
     ]
    },
    {
     "cell_type": "heading",
     "level": 2,
     "metadata": {},
     "source": [
      "Example Number 30.1, Page Number:1032"
     ]
    },
    {
     "cell_type": "code",
     "collapsed": false,
     "input": [
      "#variable declaration\n",
      "v=500#V\n",
      "n=250#rpm\n",
      "ia=200#A\n",
      "ra=0.12#ohm\n",
      "ratio=0.80\n",
      "ia2=100#A\n",
      "\n",
      "#calculations\n",
      "eb1=v-ia*ra\n",
      "eb2=v-ia2*ra\n",
      "n2=eb2*n/(eb1*ratio)\n",
      "\n",
      "#result\n",
      "print \"speed=\",round(n2),\"rpm\"\n"
     ],
     "language": "python",
     "metadata": {},
     "outputs": [
      {
       "output_type": "stream",
       "stream": "stdout",
       "text": [
        "speed= 320.0 rpm\n"
       ]
      }
     ],
     "prompt_number": 3
    },
    {
     "cell_type": "heading",
     "level": 2,
     "metadata": {},
     "source": [
      "Example Number 30.2, Page Number:1032"
     ]
    },
    {
     "cell_type": "code",
     "collapsed": false,
     "input": [
      "#variable declaration\n",
      "v=250#V\n",
      "ra=0.25#ohm\n",
      "ia=50#A\n",
      "n=750#rpm\n",
      "ratio=1-0.10\n",
      "\n",
      "#calculation\n",
      "ia2=ia/ratio\n",
      "eb1=v-ia*ra\n",
      "eb2=v-ia2*ra\n",
      "n2=eb2*n/(eb1*ratio)\n",
      "\n",
      "#result\n",
      "print \"speed=\",round(n2),\"rpm\"\n"
     ],
     "language": "python",
     "metadata": {},
     "outputs": [
      {
       "output_type": "stream",
       "stream": "stdout",
       "text": [
        "speed= 828.0 rpm\n"
       ]
      }
     ],
     "prompt_number": 8
    },
    {
     "cell_type": "heading",
     "level": 2,
     "metadata": {},
     "source": [
      "Example Number 30.3, Page Number:1032"
     ]
    },
    {
     "cell_type": "code",
     "collapsed": false,
     "input": [
      "#variable declaration\n",
      "v=230.0#V\n",
      "n=800#rpm\n",
      "ia=50.0#A\n",
      "n2=1000#rpm\n",
      "ia2=80.0#A\n",
      "ra=0.15#ohm\n",
      "rf=250.0#ohm\n",
      "\n",
      "#calculation\n",
      "eb1=v-ia*ra\n",
      "eb2=v-ia2*ra\n",
      "ish1=v/rf\n",
      "r1=(n2*eb1*v)/(n*eb2*ish1)\n",
      "r=r1-rf\n",
      "ish2=v/r1\n",
      "torque_ratio=ish2*ia2/(ish1*ia)\n",
      "\n",
      "#result\n",
      "print \"resistance to be added=\",r,\"ohm\"\n",
      "print \"ratio of torque=\",torque_ratio"
     ],
     "language": "python",
     "metadata": {},
     "outputs": [
      {
       "output_type": "stream",
       "stream": "stdout",
       "text": [
        "resistance to be added= 68.9506880734 ohm\n",
        "ratio of torque= 1.25411235955\n"
       ]
      }
     ],
     "prompt_number": 19
    },
    {
     "cell_type": "heading",
     "level": 2,
     "metadata": {},
     "source": [
      "Example Number 30.3, Page Number:1033"
     ]
    },
    {
     "cell_type": "code",
     "collapsed": false,
     "input": [
      "#variable declaration\n",
      "v=250.0#V\n",
      "rf=250.0#ohm\n",
      "ra=0.25#ohm\n",
      "n=1500#rpm\n",
      "ia=20.0#A\n",
      "r=250.0#ohm\n",
      "\n",
      "#calculations\n",
      "ish=v/rf\n",
      "ish2=v/(rf+r)\n",
      "ia2=ia*1/ish2\n",
      "eb2=v-ia2*ra\n",
      "eb1=v-ia*ra\n",
      "n2=eb2*n/(eb1*ish2)\n",
      "\n",
      "#result\n",
      "print \"new speed=\",round(n2),\"rpm\"\n",
      "print \"new armature current=\",ia2,\"A\""
     ],
     "language": "python",
     "metadata": {},
     "outputs": [
      {
       "output_type": "stream",
       "stream": "stdout",
       "text": [
        "new speed= 2939.0 rpm\n",
        "new armature current= 40.0 A\n"
       ]
      }
     ],
     "prompt_number": 23
    },
    {
     "cell_type": "heading",
     "level": 2,
     "metadata": {},
     "source": [
      "Example Number 30.5, Page Number:1033"
     ]
    },
    {
     "cell_type": "code",
     "collapsed": false,
     "input": [
      "import math\n",
      "from sympy.solvers import solve\n",
      "from sympy import Symbol\n",
      "#variable declaration\n",
      "rt=Symbol('rt')\n",
      "v=250.0#V\n",
      "ra=0.5#ohm\n",
      "rf=250.0#ohm\n",
      "n=600.0#rpm\n",
      "ia=20.0#A\n",
      "n2=800.0#rpm\n",
      "\n",
      "#calculation\n",
      "ish1=v/rf\n",
      "eb1=v-ia*ra\n",
      "rt=solve(((n2*eb1*(v/rt))/(n*(v-(ia*ra/(v/rt)))))-1,rt)\n",
      "r=rt[0]-rf\n",
      "\n",
      "#result\n",
      "print \"resistance to be inserted=\",r,\"ohm\""
     ],
     "language": "python",
     "metadata": {},
     "outputs": [
      {
       "output_type": "stream",
       "stream": "stdout",
       "text": [
        "resistance to be inserted= 88.3128987990058 ohm\n"
       ]
      }
     ],
     "prompt_number": 37
    },
    {
     "cell_type": "heading",
     "level": 2,
     "metadata": {},
     "source": [
      "Example Number 30.6, Page Number:1034"
     ]
    },
    {
     "cell_type": "code",
     "collapsed": false,
     "input": [
      "import math\n",
      "from sympy.solvers import solve\n",
      "from sympy import Symbol\n",
      "#variable declaration\n",
      "x=Symbol('x')\n",
      "v=220#V\n",
      "ra=0.5#ohm\n",
      "ia=40#A\n",
      "ratio=1+0.50\n",
      "\n",
      "#calculation\n",
      "eb1=v-ia*ra\n",
      "x=solve((ratio*eb1/((v-ia*ra*x)*x))-1,x)\n",
      "per=1-1/x[0]\n",
      "\n",
      "#result\n",
      "print\"main flux has to be reduced by=\",per*100,\"%\""
     ],
     "language": "python",
     "metadata": {},
     "outputs": [
      {
       "output_type": "stream",
       "stream": "stdout",
       "text": [
        "main flux has to be reduced by= 37.2991677469778 %\n"
       ]
      }
     ],
     "prompt_number": 38
    },
    {
     "cell_type": "heading",
     "level": 2,
     "metadata": {},
     "source": [
      "Example Number 30.7, Page Number:1034"
     ]
    },
    {
     "cell_type": "code",
     "collapsed": false,
     "input": [
      "#variable declaration\n",
      "v=220#V\n",
      "load=10#kW\n",
      "i=41#A\n",
      "ra=0.2#ohm\n",
      "rw=0.05#ohm\n",
      "ri=0.1#ohm\n",
      "rf=110#ohm\n",
      "ratio=1-0.25\n",
      "r=1#ohm\n",
      "ratio1=1-0.50\n",
      "n=2500\n",
      "#calculation\n",
      "ish=v/rf\n",
      "ia1=i-ish\n",
      "ia2=ratio1*ia1/ratio\n",
      "eb1=v-ia1*(ra+ri+rw)\n",
      "eb2=v-ia2*(r+ra+ri+rw)\n",
      "n2=eb2*n/(eb1*ratio)\n",
      "\n",
      "#result\n",
      "print \"armature current=\",ia2,\"A\"\n",
      "print \"motor speed=\",round(n2),\"rpm\""
     ],
     "language": "python",
     "metadata": {},
     "outputs": [
      {
       "output_type": "stream",
       "stream": "stdout",
       "text": [
        "armature current= 26.0 A\n",
        "motor speed= 2987.0 rpm\n"
       ]
      }
     ],
     "prompt_number": 40
    },
    {
     "cell_type": "heading",
     "level": 2,
     "metadata": {},
     "source": [
      "Example Number 30.8, Page Number:1035"
     ]
    },
    {
     "cell_type": "code",
     "collapsed": false,
     "input": [
      "#variable declaration\n",
      "v=220#V\n",
      "load=15#kW\n",
      "n=850#rpm\n",
      "ia=72.2#A\n",
      "ra=0.25#ohm\n",
      "rf=100#ohm\n",
      "n2=1650#rpm\n",
      "ia2=40#A\n",
      "\n",
      "#calculation\n",
      "ish=v/rf\n",
      "ia1=ia-ish\n",
      "eb1=v-ia1*ra\n",
      "eb2=v-ia2*ra\n",
      "ratio=(n*eb2)/(n2*eb1)\n",
      "per=1-ratio\n",
      "#result\n",
      "print \"percentage reduction=\",per*100,\"%\""
     ],
     "language": "python",
     "metadata": {},
     "outputs": [
      {
       "output_type": "stream",
       "stream": "stdout",
       "text": [
        "percentage reduction= 46.5636857585 %\n"
       ]
      }
     ],
     "prompt_number": 46
    },
    {
     "cell_type": "heading",
     "level": 2,
     "metadata": {},
     "source": [
      "Example Number 30.9, Page Number:1035"
     ]
    },
    {
     "cell_type": "code",
     "collapsed": false,
     "input": [
      "import math\n",
      "from sympy.solvers import solve\n",
      "from sympy import Symbol\n",
      "#variable declaration\n",
      "ia2=Symbol('ia2')\n",
      "v=220#V\n",
      "ra=0.5#ohm\n",
      "ia=40#A\n",
      "ratio=0.50+1\n",
      "\n",
      "#calculation\n",
      "eb1=v-ia*ra\n",
      "ia2=solve((((v-ra*ia2)*ia2)/(eb1*ratio*ia))-1,ia2)\n",
      "per=ia/ia2[0]\n",
      "\n",
      "#result\n",
      "print \"mail flux should be reduced by=\",round(per,4)*100,\"%\""
     ],
     "language": "python",
     "metadata": {},
     "outputs": [
      {
       "output_type": "stream",
       "stream": "stdout",
       "text": [
        "mail flux should be reduced by= 62.7 %\n"
       ]
      }
     ],
     "prompt_number": 49
    },
    {
     "cell_type": "heading",
     "level": 2,
     "metadata": {},
     "source": [
      "Example Number 30.10, Page Number:1035"
     ]
    },
    {
     "cell_type": "code",
     "collapsed": false,
     "input": [
      "#variable declaration\n",
      "ia=20.0#A\n",
      "v=220.0#V\n",
      "ra=0.5#ohm\n",
      "ratio=0.50\n",
      "\n",
      "#calculation\n",
      "eb1=v-ia*ra\n",
      "eb2=ratio*(v-ia*ra)\n",
      "r=(v-eb2)/ia-ra\n",
      "\n",
      "#result\n",
      "print \"resistance required in the series=\",r,\"ohm\""
     ],
     "language": "python",
     "metadata": {},
     "outputs": [
      {
       "output_type": "stream",
       "stream": "stdout",
       "text": [
        "resistance required in the series= 5.25 ohm\n"
       ]
      }
     ],
     "prompt_number": 53
    },
    {
     "cell_type": "heading",
     "level": 2,
     "metadata": {},
     "source": [
      "Example Number 30.11, Page Number:1036"
     ]
    },
    {
     "cell_type": "code",
     "collapsed": false,
     "input": [
      "#variable declaration\n",
      "v=250#V\n",
      "n=1000#rpm\n",
      "ia=8#A\n",
      "i_f=1#A\n",
      "ra=0.2#ohm\n",
      "rf=250#ohm\n",
      "i=50#A\n",
      "\n",
      "#calculations\n",
      "eb0=v-(ia-i_f)*ra\n",
      "kpsi=eb0/1000\n",
      "ia=i-i_f\n",
      "eb1=v-ia*ra\n",
      "n1=eb1/kpsi\n",
      "\n",
      "#result\n",
      "print \"speed=\",round(n1,1),\"rpm\"\n"
     ],
     "language": "python",
     "metadata": {},
     "outputs": [
      {
       "output_type": "stream",
       "stream": "stdout",
       "text": [
        "speed= 966.2 rpm\n"
       ]
      }
     ],
     "prompt_number": 55
    },
    {
     "cell_type": "heading",
     "level": 2,
     "metadata": {},
     "source": [
      "Example Number 30.12, Page Number:1037"
     ]
    },
    {
     "cell_type": "code",
     "collapsed": false,
     "input": [
      "#variable declaration\n",
      "v=240#V\n",
      "ra=0.25#ohm\n",
      "n=1000#rpm\n",
      "ia=40#A\n",
      "n2=800#rpm\n",
      "i2=20#A\n",
      "#calculation\n",
      "eb=v-ia*ra\n",
      "eb2=n2*eb/n\n",
      "r=(v-eb2)/(ia)-ra\n",
      "eb3=v-i2*(r+ra)\n",
      "n3=eb3*n/eb\n",
      "\n",
      "#result\n",
      "print \"additional resistance=\",r,\"ohm\"\n",
      "print \"speed=\",round(n3),\"rpm\"\n"
     ],
     "language": "python",
     "metadata": {},
     "outputs": [
      {
       "output_type": "stream",
       "stream": "stdout",
       "text": [
        "additional resistance= 1.15 ohm\n",
        "speed= 922.0 rpm\n"
       ]
      }
     ],
     "prompt_number": 61
    },
    {
     "cell_type": "heading",
     "level": 2,
     "metadata": {},
     "source": [
      "Example Number 30.13, Page Number:1037"
     ]
    },
    {
     "cell_type": "code",
     "collapsed": false,
     "input": [
      "#variable declaration\n",
      "load=7.48#kW\n",
      "v=220#V\n",
      "n=990#rpm\n",
      "efficiency=0.88\n",
      "ra=0.08#ohm\n",
      "ish=2#A\n",
      "n2=450#rpm\n",
      "\n",
      "#calculation\n",
      "input_p=load*1000/efficiency\n",
      "losses=input_p-load*1000\n",
      "i=input_p/v\n",
      "ia=i-ish\n",
      "loss=v*ish\n",
      "cu_loss=ia**2*ra\n",
      "loss_nl=losses-cu_loss-loss\n",
      "eb1=v-20-(ia*ra)\n",
      "eb2=n2*eb1/n\n",
      "r=(eb1-eb2)/ia\n",
      "total_loss=ia**2*(r+ra)+loss+loss_nl\n",
      "output=input_p-total_loss\n",
      "efficiency=output/(input_p)\n",
      "\n",
      "#result\n",
      "print \"motor input=\",input_p/1000,\"kW\"\n",
      "print \"armature current=\",ia,\"A\"\n",
      "print \"external resistance=\",r,\"ohm\"\n",
      "print \"efficiency=\",efficiency*100,\"%\"\n"
     ],
     "language": "python",
     "metadata": {},
     "outputs": [
      {
       "output_type": "stream",
       "stream": "stdout",
       "text": [
        "motor input= 8.5 kW\n",
        "armature current= 36.6363636364 A\n",
        "external resistance= 2.93403113016 ohm\n",
        "efficiency= 41.6691237902 %\n"
       ]
      }
     ],
     "prompt_number": 81
    },
    {
     "cell_type": "heading",
     "level": 2,
     "metadata": {},
     "source": [
      "Example Number 30.14, Page Number:1038"
     ]
    },
    {
     "cell_type": "code",
     "collapsed": false,
     "input": [
      "#variable declaration\n",
      "eb1=230.0#V\n",
      "n=990.0#rpm\n",
      "n2=500.0#rpm\n",
      "ia=25.0#A\n",
      "\n",
      "#calculation\n",
      "eb2=eb1*n2/n\n",
      "r=(eb1-eb2)/ia\n",
      "\n",
      "#result\n",
      "print \"resistance required in series=\",r,\"ohm\""
     ],
     "language": "python",
     "metadata": {},
     "outputs": [
      {
       "output_type": "stream",
       "stream": "stdout",
       "text": [
        "resistance required in series= 4.55353535354 ohm\n"
       ]
      }
     ],
     "prompt_number": 83
    },
    {
     "cell_type": "heading",
     "level": 2,
     "metadata": {},
     "source": [
      "Example Number 30.15, Page Number:1038"
     ]
    },
    {
     "cell_type": "code",
     "collapsed": false,
     "input": [
      "#variable declaration\n",
      "v=220.0#V\n",
      "ra=0.4#ohm\n",
      "rf=200.0#ohm\n",
      "ia=20.0#A\n",
      "n=600.0#rpm\n",
      "n2=900.0#rpm\n",
      "\n",
      "#calculation\n",
      "if1=v/rf\n",
      "eb1=v-ia*ra\n",
      "k2=eb1/(if1*n)\n",
      "if2=n*if1/n2\n",
      "rf1=v/if1\n",
      "rf2=v/if2\n",
      "r=rf2-rf1\n",
      "\n",
      "#result\n",
      "print \"resistance to be added=\",r,\"ohm\""
     ],
     "language": "python",
     "metadata": {},
     "outputs": [
      {
       "output_type": "stream",
       "stream": "stdout",
       "text": [
        "resistance to be added= 100.0 ohm\n"
       ]
      }
     ],
     "prompt_number": 90
    },
    {
     "cell_type": "heading",
     "level": 2,
     "metadata": {},
     "source": [
      "Example Number 30.16, Page Number:1039"
     ]
    },
    {
     "cell_type": "code",
     "collapsed": false,
     "input": [
      "import math\n",
      "from sympy.solvers import solve\n",
      "from sympy import Symbol\n",
      "#variable declaration\n",
      "ia2=Symbol('ia2')\n",
      "v=220.0#V\n",
      "ra=0.4#ohm\n",
      "rf=200.0#ohm\n",
      "ia=22.0#A\n",
      "n=600.0#rpm\n",
      "n2=900.0#rpm\n",
      "\n",
      "#calculation\n",
      "if1=v/rf\n",
      "eb1=v-ia*ra\n",
      "k1=eb1/(if1*n)\n",
      "if2=n*if1/n2\n",
      "if2=n2*ia/n\n",
      "ia2=solve(v-ra*ia2-(k1*ia*if1*n2)/ia2,ia2)\n",
      "if2=ia*if1/ia2[0]\n",
      "r=v/if2\n",
      "\n",
      "#result\n",
      "print \"new field resistance to be added=\",r,\"ohm\""
     ],
     "language": "python",
     "metadata": {},
     "outputs": [
      {
       "output_type": "stream",
       "stream": "stdout",
       "text": [
        "new field resistance to be added= 306.828780053869 ohm\n"
       ]
      }
     ],
     "prompt_number": 103
    },
    {
     "cell_type": "heading",
     "level": 2,
     "metadata": {},
     "source": [
      "Example Number 30.17, Page Number:1040"
     ]
    },
    {
     "cell_type": "code",
     "collapsed": false,
     "input": [
      "#variable declaration\n",
      "v=250#V\n",
      "output=25#kW\n",
      "efficiency=0.85\n",
      "n=1000#rpm\n",
      "ra=0.1#ohm\n",
      "rf=125#ohm\n",
      "ratio=1.50\n",
      "\n",
      "#calculation\n",
      "input_p=output*1000/efficiency\n",
      "i=input_p/v\n",
      "if1=v/rf\n",
      "ia=i-if1\n",
      "il=ratio*ia\n",
      "r=v/il\n",
      "r_ext=r-ra\n",
      "\n",
      "#result\n",
      "print \"starting resistance=\",round(r_ext,3),\"ohm\""
     ],
     "language": "python",
     "metadata": {},
     "outputs": [
      {
       "output_type": "stream",
       "stream": "stdout",
       "text": [
        "starting resistance= 1.341 ohm\n"
       ]
      }
     ],
     "prompt_number": 105
    },
    {
     "cell_type": "heading",
     "level": 2,
     "metadata": {},
     "source": [
      "Example Number 30.18, Page Number:1042"
     ]
    },
    {
     "cell_type": "code",
     "collapsed": false,
     "input": [
      "#variable declaration\n",
      "v=200.0#V\n",
      "n=1000.0#rpm\n",
      "ia=17.5#A\n",
      "n2=600.0#rpm\n",
      "ra=0.4#ohm\n",
      "\n",
      "#calculation\n",
      "eb1=v-ia*ra\n",
      "rt=(v-(n2*eb1/n))/ia\n",
      "r=rt-ra\n",
      "#result\n",
      "print \"resistance to be inserted=\",round(r,1),\"ohm\""
     ],
     "language": "python",
     "metadata": {},
     "outputs": [
      {
       "output_type": "stream",
       "stream": "stdout",
       "text": [
        "resistance to be inserted= 4.4 ohm\n"
       ]
      }
     ],
     "prompt_number": 111
    },
    {
     "cell_type": "heading",
     "level": 2,
     "metadata": {},
     "source": [
      "Example Number 30.19, Page Number:1042"
     ]
    },
    {
     "cell_type": "code",
     "collapsed": false,
     "input": [
      "#variable declaration\n",
      "v=500#V\n",
      "ra=1.2#ohm\n",
      "rf=500#ohm\n",
      "ia=4#A\n",
      "n=1000#rpm\n",
      "i=26#A\n",
      "r=2.3#ohm\n",
      "ratio=0.15\n",
      "\n",
      "#calculation\n",
      "ish=v/rf\n",
      "ia1=ia-ish\n",
      "eb1=v-ia1*ra\n",
      "ia2=i-ish\n",
      "eb2=v-ia2*ra\n",
      "n2=n*eb2/eb1\n",
      "eb2=v-ia2*(r+ra)\n",
      "n2_=n*eb2/eb1\n",
      "n2__=n*eb2/(eb1*(1-ratio))\n",
      "\n",
      "#result\n",
      "print \"speed when resistance 2.3 ohm is connected=\",round(n2_),\"rpm\"\n",
      "print \"speed when shunt field is reduced by 15%=\",round(n2__),\"rpm\""
     ],
     "language": "python",
     "metadata": {},
     "outputs": [
      {
       "output_type": "stream",
       "stream": "stdout",
       "text": [
        "speed when resistance 2.3 ohm is connected= 831.0 rpm\n",
        "speed when shunt field is reduced by 15%= 978.0 rpm\n"
       ]
      }
     ],
     "prompt_number": 113
    },
    {
     "cell_type": "heading",
     "level": 2,
     "metadata": {},
     "source": [
      "Example Number 30.20, Page Number:1043"
     ]
    },
    {
     "cell_type": "code",
     "collapsed": false,
     "input": [
      "#variable declaration\n",
      "v=250.0#V\n",
      "ia1=ia2=20.0#A\n",
      "n=1000.0#rpm\n",
      "ra=0.5#ohm\n",
      "n2=500.0#ohm\n",
      "\n",
      "#calculation\n",
      "eb1=v-ia1*ra\n",
      "rt=(v-((n2/n)*eb1))/ia2\n",
      "r=rt-ra\n",
      "ia3=ia2/2\n",
      "n3=n*(v-ia3*rt)/eb1\n",
      "#result\n",
      "print \"speed=\",round(n3),\"rpm\""
     ],
     "language": "python",
     "metadata": {},
     "outputs": [
      {
       "output_type": "stream",
       "stream": "stdout",
       "text": [
        "speed= 771.0 rpm\n"
       ]
      }
     ],
     "prompt_number": 117
    },
    {
     "cell_type": "heading",
     "level": 2,
     "metadata": {},
     "source": [
      "Example Number 30.21, Page Number:1043"
     ]
    },
    {
     "cell_type": "code",
     "collapsed": false,
     "input": [
      "#variable declaration\n",
      "v=250.0#V\n",
      "ra1=0.5#ohm\n",
      "n=600.0#rpm\n",
      "ia2=ia1=20#A\n",
      "r=1.0#ohm\n",
      "\n",
      "#calculations\n",
      "eb1=v-ia1*ra1\n",
      "ra2=r+ra1\n",
      "eb2=v-ia2*ra2\n",
      "n2=eb2*n/eb1\n",
      "#torque is half the full-load torque\n",
      "ia2=1.0/2.0*ia1\n",
      "eb22=v-ia2*ra2\n",
      "n2_=eb22*n/eb1\n",
      "#result\n",
      "print \"speed at full load torque=\",round(n2),\"rpm\"\n",
      "print \"speed at half full-load torque=\",round(n2_),\"rpm\""
     ],
     "language": "python",
     "metadata": {},
     "outputs": [
      {
       "output_type": "stream",
       "stream": "stdout",
       "text": [
        "speed at full load torque= 550.0 rpm\n",
        "speed at half full-load torque= 588.0 rpm\n"
       ]
      }
     ],
     "prompt_number": 137
    },
    {
     "cell_type": "heading",
     "level": 2,
     "metadata": {},
     "source": [
      "Example Number 30.22, Page Number:1044"
     ]
    },
    {
     "cell_type": "code",
     "collapsed": false,
     "input": [
      "#variable declaration\n",
      "v=220.0#V\n",
      "ra1=0.5#ohm\n",
      "n=500.0#rpm\n",
      "ia2=ia1=30.0#A\n",
      "r=1.0#ohm\n",
      "\n",
      "#calculations\n",
      "eb1=v-ia1*ra1\n",
      "ra2=r+ra1\n",
      "eb2=v-ia2*ra2\n",
      "n2=eb2*n/eb1\n",
      "\n",
      "#torque is half the full-load torque\n",
      "ia2=2.0*ia1\n",
      "eb22=v-ia2*ra2\n",
      "n2_=eb22*n/eb1\n",
      "#result\n",
      "print \"speed at full load torque=\",round(n2),\"rpm\"\n",
      "print \"speed at double full-load torque=\",round(n2_),\"rpm\"\n"
     ],
     "language": "python",
     "metadata": {},
     "outputs": [
      {
       "output_type": "stream",
       "stream": "stdout",
       "text": [
        "speed at full load torque= 427.0 rpm\n",
        "speed at double full-load torque= 317.0 rpm\n"
       ]
      }
     ],
     "prompt_number": 142
    },
    {
     "cell_type": "heading",
     "level": 2,
     "metadata": {},
     "source": [
      "Example Number 30.23, Page Number:1044"
     ]
    },
    {
     "cell_type": "code",
     "collapsed": false,
     "input": [
      "#variable declaration\n",
      "load=37.3*1000#W\n",
      "v=500.0#V\n",
      "n=750.0#rpm\n",
      "efficiency=0.90\n",
      "t2=250.0#N-m\n",
      "r=5.0#ohm\n",
      "ra=0.5#ohm\n",
      "\n",
      "#calculation\n",
      "t1=load/(2*3.14*(n/60))\n",
      "ia1=load/(efficiency*v)\n",
      "ia2=ia1*math.sqrt(t2/t1)\n",
      "eb1=v-ia1*ra\n",
      "eb2=v-ia2*(r+ra)\n",
      "n2=eb2*ia1*n/(eb1*ia2)\n",
      "\n",
      "#result\n",
      "print \"speed at which machine will run=\",round(n2),\"rpm\""
     ],
     "language": "python",
     "metadata": {},
     "outputs": [
      {
       "output_type": "stream",
       "stream": "stdout",
       "text": [
        "speed at which machine will run= 381.789716486 rpm\n"
       ]
      }
     ],
     "prompt_number": 157
    },
    {
     "cell_type": "heading",
     "level": 2,
     "metadata": {},
     "source": [
      "Example Number 30.24, Page Number:1044"
     ]
    },
    {
     "cell_type": "code",
     "collapsed": false,
     "input": [
      "#variable declaration\n",
      "output=7.46*1000#W\n",
      "v=220.0#V\n",
      "n=900.0#rpm\n",
      "efficiency=0.88\n",
      "ra=0.08#ohm\n",
      "ish=2.0#A\n",
      "n2=450.0#rpm\n",
      "#calculation\n",
      "i=output/(efficiency*v)\n",
      "ia2=ia1=i-ish\n",
      "eb1=v-ia2*ra\n",
      "rt=(v-20-((n2/n)*eb1))/ia2\n",
      "r=rt-ra\n",
      "input_m=(v)*(ia2+ish)\n",
      "total_loss=input_m-output\n",
      "cu_loss=ia2**2*ra\n",
      "cu_loss_f=v*ish\n",
      "total_cu_loss=cu_loss+cu_loss_f\n",
      "stray_loss=total_loss-total_cu_loss\n",
      "stray_loss2=stray_loss*n2/n\n",
      "cu_loss_a=ia1**2*rt\n",
      "total_loss2=stray_loss2+cu_loss_f+cu_loss_a\n",
      "output2=input_m-total_loss2\n",
      "efficiency=output2*100/input_m\n",
      "\n",
      "#result\n",
      "print \"motor output=\",output2,\"W\"\n",
      "print \"armature current=\",ia2,\"A\"\n",
      "print \"external resistance=\",r,\"ohm\"\n",
      "print \"overall efficiency=\",efficiency,\"%\"\n"
     ],
     "language": "python",
     "metadata": {},
     "outputs": [
      {
       "output_type": "stream",
       "stream": "stdout",
       "text": [
        "motor output= 4460.66115702 W\n",
        "armature current= 36.5330578512 A\n",
        "external resistance= 2.42352222599 ohm\n",
        "overall efficiency= 52.619059225 %\n"
       ]
      }
     ],
     "prompt_number": 175
    },
    {
     "cell_type": "heading",
     "level": 2,
     "metadata": {},
     "source": [
      "Example Number 30.25, Page Number:1044"
     ]
    },
    {
     "cell_type": "code",
     "collapsed": false,
     "input": [
      "#variable declaration\n",
      "v=240.0#V\n",
      "ia=15.0#A\n",
      "n=800.0#rpm\n",
      "ra=0.6#ohm\n",
      "n2=400.0#rpm\n",
      "\n",
      "#calculation\n",
      "eb1=v-ia*ra\n",
      "r=((v-(n2*eb1/n))/ia)-ra\n",
      "ia3=ia/2\n",
      "eb3=v-ia3*(r+ra)\n",
      "n3=eb3*n/eb1\n",
      "\n",
      "#result\n",
      "print \"speed=\",n3,\"rpm\""
     ],
     "language": "python",
     "metadata": {},
     "outputs": [
      {
       "output_type": "stream",
       "stream": "stdout",
       "text": [
        "speed= 615.584415584 rpm\n"
       ]
      }
     ],
     "prompt_number": 187
    },
    {
     "cell_type": "heading",
     "level": 2,
     "metadata": {},
     "source": [
      "Example Number 30.26, Page Number:1045"
     ]
    },
    {
     "cell_type": "code",
     "collapsed": false,
     "input": [
      "import math\n",
      "from sympy.solvers import solve\n",
      "from sympy import Symbol\n",
      "#variable declaration\n",
      "r=Symbol('r')\n",
      "v=400.0#V\n",
      "inl=3.5#A\n",
      "il=59.5#A\n",
      "rf=267.0#ohm\n",
      "ra=0.2#ohm\n",
      "vd=2.0#V\n",
      "ratio=0.02\n",
      "speed_ratio=0.50\n",
      "\n",
      "#calculations\n",
      "ish=v/rf\n",
      "ia1=inl-ish\n",
      "eb1=v-ia1*ra-vd\n",
      "ia2=il-ish\n",
      "eb2=v-ia2*ra-vd\n",
      "n1_by_n2=eb1*(1-ratio)/eb2\n",
      "per_change=(1-1/n1_by_n2)*100\n",
      "r=solve(eb2*speed_ratio/(eb2-ia2*r)-1,r)\n",
      "#result\n",
      "print \"change in speed=\",per_change,\"%\"\n",
      "print \"resistance to be added=\",r[0],\"ohm\"\n"
     ],
     "language": "python",
     "metadata": {},
     "outputs": [
      {
       "output_type": "stream",
       "stream": "stdout",
       "text": [
        "change in speed= 0.83357557339 %\n",
        "resistance to be added= 3.33092370774547 ohm\n"
       ]
      }
     ],
     "prompt_number": 14
    },
    {
     "cell_type": "heading",
     "level": 2,
     "metadata": {},
     "source": [
      "Example Number 30.27, Page Number:1046"
     ]
    },
    {
     "cell_type": "code",
     "collapsed": false,
     "input": [
      "#variable declaraion\n",
      "v=200.0#V\n",
      "i=50.0#A\n",
      "n=1000.0#rpm\n",
      "n2=800.0#rpm\n",
      "ra=0.1#ohm\n",
      "rf=100.0#ohm\n",
      "\n",
      "#calculations\n",
      "ish=v/rf\n",
      "ia1=i-ish\n",
      "ia2=ia1*(n2/n)**2\n",
      "eb1=v-ia1*ra\n",
      "eb2=v-ia2*ra\n",
      "rt=(v-(n2*eb1/n))/ia2\n",
      "r=rt-ra\n",
      "#result\n",
      "print \"resustance that must be added=\",r,\"ohm\""
     ],
     "language": "python",
     "metadata": {},
     "outputs": [
      {
       "output_type": "stream",
       "stream": "stdout",
       "text": [
        "resustance that must be added= 1.32708333333 ohm\n"
       ]
      }
     ],
     "prompt_number": 16
    },
    {
     "cell_type": "heading",
     "level": 2,
     "metadata": {},
     "source": [
      "Example Number 30.28, Page Number:1047"
     ]
    },
    {
     "cell_type": "code",
     "collapsed": false,
     "input": [
      "#variable declaration\n",
      "v=250#V\n",
      "load=37.3#kW\n",
      "efficiency=0.90\n",
      "n=1000#rpm\n",
      "ra=0.1#ohm\n",
      "rf=115#ohm\n",
      "ratio=1.5\n",
      "\n",
      "#calculation\n",
      "tsh=9.55*load*1000/n\n",
      "i=load*1000/(v*efficiency)\n",
      "ish=v/rf\n",
      "ia=i-ish\n",
      "eb=v-ia*ra\n",
      "ta=9.55*eb*ia/n\n",
      "i_permissible=i*ratio\n",
      "ia_per=i_permissible-ish\n",
      "ra_total=v/ia_per\n",
      "r_required=ra_total-ra\n",
      "torque=ratio*ta\n",
      "#result\n",
      "print \"net torque=\",ta,\"N-m\"\n",
      "print \"starting resistance=\",r_required,\"ohm\"\n",
      "print \"torque developed at starting=\",torque,\"N-m\""
     ],
     "language": "python",
     "metadata": {},
     "outputs": [
      {
       "output_type": "stream",
       "stream": "stdout",
       "text": [
        "net torque= 365.403326173 N-m\n",
        "starting resistance= 0.913513513514 ohm\n",
        "torque developed at starting= 548.104989259 N-m\n"
       ]
      }
     ],
     "prompt_number": 22
    },
    {
     "cell_type": "heading",
     "level": 2,
     "metadata": {},
     "source": [
      "Example Number 30.29, Page Number:1047"
     ]
    },
    {
     "cell_type": "code",
     "collapsed": false,
     "input": [
      "import math\n",
      "from sympy.solvers import solve\n",
      "from sympy import Symbol\n",
      "#variable declaration\n",
      "I=Symbol('I')\n",
      "v=200.0#V\n",
      "rf=40.0#ohm\n",
      "ra=0.02#ohm\n",
      "i=55.0#A\n",
      "n=595.0#rpm\n",
      "r=0.58#ohm\n",
      "n2=630.0#rpm\n",
      "ia_=15.0#A\n",
      "rd=5.0#ohm\n",
      "ia2=50.0#A\n",
      "\n",
      "#calculation\n",
      "ish=v/rf\n",
      "ia1=i-ish\n",
      "ra1=r+ra\n",
      "eb1=v-ra1*ia1\n",
      "ia2=ia1\n",
      "eb2=eb1*(n2/n)\n",
      "r=(v-eb2)/ia1\n",
      "eb2_=v-ia_*ra1\n",
      "n2=eb2_*n/eb1\n",
      "eb3=eb1\n",
      "IR=v-eb3-ia2*ra\n",
      "pd=v-IR\n",
      "i_d=pd/rd\n",
      "i=ia2+i_d\n",
      "R=IR/i\n",
      "I=solve(rd*(I-ia_)-v+R*I,I)\n",
      "eb4=v-R*I[0]-ia_*ra\n",
      "n4=n*(eb4/eb1)\n",
      "\n",
      "#result\n",
      "print \"armature circuit resistance should be reduced by=\",ra1-r,\"ohm\"\n",
      "print \"speed when Ia=\",n2,\"rpm\"\n",
      "print \"value of series resistance=\",R,\"ohm\"\n",
      "print \"speed when motor current falls to 15A=\",n4,\"rpm\""
     ],
     "language": "python",
     "metadata": {},
     "outputs": [
      {
       "output_type": "stream",
       "stream": "stdout",
       "text": [
        "armature circuit resistance should be reduced by= 0.2 ohm\n",
        "speed when Ia= 668.5 rpm\n",
        "value of series resistance= 0.344418052257 ohm\n",
        "speed when motor current falls to 15A= 636.922222222222 rpm\n"
       ]
      }
     ],
     "prompt_number": 36
    },
    {
     "cell_type": "heading",
     "level": 2,
     "metadata": {},
     "source": [
      "Example Number 30.31, Page Number:1051"
     ]
    },
    {
     "cell_type": "code",
     "collapsed": false,
     "input": [
      "import math\n",
      "#variable declaration\n",
      "i=15#A\n",
      "n=600#rpm\n",
      "\n",
      "#calculation\n",
      "ia2=math.sqrt(2*2**0.5*i**2)\n",
      "n2=n*2*i/ia2\n",
      "\n",
      "#result\n",
      "print \"speed=\",n2,\"rpm\"\n",
      "print \"current=\",ia2,\"A\""
     ],
     "language": "python",
     "metadata": {},
     "outputs": [
      {
       "output_type": "stream",
       "stream": "stdout",
       "text": [
        "speed= 713.524269002 rpm\n",
        "current= 25.2268924576 A\n"
       ]
      }
     ],
     "prompt_number": 37
    },
    {
     "cell_type": "heading",
     "level": 2,
     "metadata": {},
     "source": [
      "Example Number 30.32, Page Number:1052"
     ]
    },
    {
     "cell_type": "code",
     "collapsed": false,
     "input": [
      "#variable declaration\n",
      "n=707#rpm\n",
      "ia1=100#A\n",
      "v=85#V\n",
      "rf=0.03#ohm\n",
      "ra=0.04#ohm\n",
      "\n",
      "#calculation\n",
      "ra_total=ra+(2*rf)\n",
      "eb1=v-ia1*ra_total\n",
      "ia2=ia1*2**0.5\n",
      "rf=rf/2\n",
      "eb2=v-ia2*(ra+rf)\n",
      "n2=n*(eb2/eb1)*(2*ia1/ia2)\n",
      "rt=(v-((n/n2)*eb2))/ia2\n",
      "r=rt-ra-rf\n",
      "\n",
      "#result\n",
      "print \"speed=\",n2,\"rpm\"\n",
      "print \"additional resistance=\",r,\"ohm\""
     ],
     "language": "python",
     "metadata": {},
     "outputs": [
      {
       "output_type": "stream",
       "stream": "stdout",
       "text": [
        "speed= 1029.46885374 rpm\n",
        "additional resistance= 0.171040764009 ohm\n"
       ]
      }
     ],
     "prompt_number": 44
    },
    {
     "cell_type": "heading",
     "level": 2,
     "metadata": {},
     "source": [
      "Example Number 30.33, Page Number:1052"
     ]
    },
    {
     "cell_type": "code",
     "collapsed": false,
     "input": [
      "#varable declaration\n",
      "v=240.0#V\n",
      "ia=40.0#A\n",
      "ra=0.3#ohm\n",
      "n=1500.0#rpm\n",
      "n2=1000.0#rpm\n",
      "#calculation\n",
      "R=v/ia-ra\n",
      "eb1=v-ia*ra\n",
      "r=(v-((n2/n)*eb1))/ia-ra\n",
      "\n",
      "#result\n",
      "print \"resistance to be added at starting=\",R,\"ohm\"\n",
      "print \"resistance to be added at 1000 rpm\",r,\"ohm\""
     ],
     "language": "python",
     "metadata": {},
     "outputs": [
      {
       "output_type": "stream",
       "stream": "stdout",
       "text": [
        "resistance to be added at starting= 5.7 ohm\n",
        "resistance to be added at 1000 rpm 1.9 ohm\n"
       ]
      }
     ],
     "prompt_number": 49
    },
    {
     "cell_type": "heading",
     "level": 2,
     "metadata": {},
     "source": [
      "Example Number 30.34, Page Number:1053"
     ]
    },
    {
     "cell_type": "code",
     "collapsed": false,
     "input": [
      "#variable declaration\n",
      "n=600.0#rpm\n",
      "v=250.0#V\n",
      "ia1=20.0#A\n",
      "ratio=2.0\n",
      "\n",
      "#calculations\n",
      "ia2=ia1*2**(3.0/4.0)\n",
      "n2=n*ratio*ia1/ia2\n",
      "\n",
      "#result\n",
      "print \"current=\",ia2,\"A\"\n",
      "print \"speed=\",n2,\"rpm\"\n"
     ],
     "language": "python",
     "metadata": {},
     "outputs": [
      {
       "output_type": "stream",
       "stream": "stdout",
       "text": [
        "current= 33.6358566101 A\n",
        "speed= 713.524269002 rpm\n"
       ]
      }
     ],
     "prompt_number": 50
    },
    {
     "cell_type": "heading",
     "level": 2,
     "metadata": {},
     "source": [
      "Example Number 30.35, Page Number:1053"
     ]
    },
    {
     "cell_type": "code",
     "collapsed": false,
     "input": [
      "import math\n",
      "from sympy.solvers import solve\n",
      "from sympy import Symbol\n",
      "#variable declaration\n",
      "V=Symbol('V')\n",
      "ra=1.0#ohm\n",
      "v=220.0#V\n",
      "n=350.0#rpm\n",
      "ia=25.0#A\n",
      "n2=500.0#rpm\n",
      "\n",
      "#calculation\n",
      "ia2=ia*(n2/n)\n",
      "eb1=v-ia*ra\n",
      "V=solve((n2*eb1*ia2/(n*ia))+ia2-V,V)\n",
      "\n",
      "#result\n",
      "print \" current=\",ia2,\"A\"\n",
      "print \"voltage=\",V[0],\"V\""
     ],
     "language": "python",
     "metadata": {},
     "outputs": [
      {
       "output_type": "stream",
       "stream": "stdout",
       "text": [
        " current= 35.7142857143 A\n",
        "voltage= 433.673469387755 V\n"
       ]
      }
     ],
     "prompt_number": 58
    },
    {
     "cell_type": "heading",
     "level": 2,
     "metadata": {},
     "source": [
      "Example Number 30.36, Page Number:1053"
     ]
    },
    {
     "cell_type": "code",
     "collapsed": false,
     "input": [
      "#variable declaration\n",
      "n=1000.0#rpm\n",
      "ia=20.0#A\n",
      "v=200.0#V\n",
      "ra=0.5#ohm\n",
      "rf=0.2#ohm\n",
      "i=20.0#A\n",
      "rd=0.2#ohm\n",
      "i_f=10.0#A\n",
      "ratio=0.70\n",
      "\n",
      "#calculation\n",
      "eb1=v-(ra+rf)*ia\n",
      "r_total=ra+rf/2\n",
      "eb2=v-r_total*ia\n",
      "n2=(eb2*n/(eb1*ratio))\n",
      "    \n",
      "#result\n",
      "print \"speed=\",round(n2),\"rpm\""
     ],
     "language": "python",
     "metadata": {},
     "outputs": [
      {
       "output_type": "stream",
       "stream": "stdout",
       "text": [
        "speed= 1444.0 rpm\n"
       ]
      }
     ],
     "prompt_number": 61
    },
    {
     "cell_type": "heading",
     "level": 2,
     "metadata": {},
     "source": [
      "Example Number 30.37, Page Number:1054"
     ]
    },
    {
     "cell_type": "code",
     "collapsed": false,
     "input": [
      "#variable declaration\n",
      "v=200.0#V\n",
      "ia=40.0#A\n",
      "n=700.0#rpm\n",
      "ratio=0.50+1\n",
      "ra=0.15#ohm\n",
      "rf=0.1#ohm\n",
      "\n",
      "#calculations\n",
      "ia2=(ratio*2*ia**2)**0.5\n",
      "eb1=v-ia*(ra+rf)\n",
      "eb2=v-ia2*(ra+rf)\n",
      "n2=(eb2/eb1)*(ia*2/ia2)*n\n",
      "\n",
      "#result\n",
      "print \"speed=\",n2,\"rpm\"\n",
      "print \"speed=\",ia2,\"A\""
     ],
     "language": "python",
     "metadata": {},
     "outputs": [
      {
       "output_type": "stream",
       "stream": "stdout",
       "text": [
        "speed= 777.147765122 rpm\n",
        "speed= 69.2820323028 A\n"
       ]
      }
     ],
     "prompt_number": 63
    },
    {
     "cell_type": "heading",
     "level": 2,
     "metadata": {},
     "source": [
      "Example Number 30.38, Page Number:1055"
     ]
    },
    {
     "cell_type": "code",
     "collapsed": false,
     "input": [
      "#variable declaration\n",
      "v=250#V\n",
      "ia=20#A\n",
      "n=900#rpm\n",
      "r=0.025#ohm\n",
      "ra=0.1#ohm\n",
      "rd=0.2#ohm\n",
      "\n",
      "#calculation\n",
      "#when divertor is added\n",
      "eb1=v-ia*(ra+4*r)\n",
      "ia2=(ia**2*(ra+rd)/rd)**0.5\n",
      "ra_=rd*ra/(ra+rd)\n",
      "eb2=v-ia2*ra_\n",
      "n2=(eb2/eb1)*(ia*3/(2*ia2))*n\n",
      "\n",
      "#rearranged field coils in two series and parallel group\n",
      "ia2=(ia**2*2)**0.5\n",
      "r=ra+r\n",
      "eb2=v-ia2*r\n",
      "n2_=(eb2/eb1)*(ia*2/(ia2))*n\n",
      "\n",
      "#result\n",
      "print \"speed when divertor was added=\",n2,\"rpm\"\n",
      "print \"speed when field coils are rearranged=\",n2_,\"rpm\""
     ],
     "language": "python",
     "metadata": {},
     "outputs": [
      {
       "output_type": "stream",
       "stream": "stdout",
       "text": [
        "speed when divertor was added= 1112.87640676 rpm\n",
        "speed when field coils are rearranged= 1275.19533144 rpm\n"
       ]
      }
     ],
     "prompt_number": 74
    },
    {
     "cell_type": "heading",
     "level": 2,
     "metadata": {},
     "source": [
      "Example Number 30.39, Page Number:1055"
     ]
    },
    {
     "cell_type": "code",
     "collapsed": false,
     "input": [
      "#variable declaration\n",
      "v=230.0#V\n",
      "n=1000.0#rpm\n",
      "i=12.0#A\n",
      "rf=0.8#ohm\n",
      "ra=1.0#ohm\n",
      "il=20#A\n",
      "ratio=0.15\n",
      "\n",
      "#calculation\n",
      "eb1=v-i*(ra+rf)\n",
      "eb2=v-il*(ra+rf/4)\n",
      "n2=(eb2/eb1)*(1/(1-ratio))*n\n",
      "\n",
      "#result\n",
      "print \"speed=\",n2,\"rpm\""
     ],
     "language": "python",
     "metadata": {},
     "outputs": [
      {
       "output_type": "stream",
       "stream": "stdout",
       "text": [
        "speed= 1162.92198261 rpm\n"
       ]
      }
     ],
     "prompt_number": 75
    },
    {
     "cell_type": "heading",
     "level": 2,
     "metadata": {},
     "source": [
      "Example Number 30.40, Page Number:1056"
     ]
    },
    {
     "cell_type": "code",
     "collapsed": false,
     "input": [
      "import math\n",
      "from sympy.solvers import solve\n",
      "from sympy import Symbol\n",
      "#variable declaration\n",
      "i2=Symbol('i2')\n",
      "v=200.0#v\n",
      "n=500.0#rpm\n",
      "i=25.0#A\n",
      "ra=0.2#ohm\n",
      "rf=0.6#ohm\n",
      "rd=10.0#ohm\n",
      "\n",
      "#calculation\n",
      "r=ra+rf\n",
      "eb1=v-i*r\n",
      "i2=solve(((rd+rf)*i2**2)-(v*i2)-(i**2*rd),i2)\n",
      "pd=v-i2[1]*rf\n",
      "ia2=((rd+rf)*i2[1]-v)/rd\n",
      "eb2=pd-ia2*ra\n",
      "n2=(eb2/eb1)*(i/i2[1])*n\n",
      "#result\n",
      "print \"speed=\",n2,\"rpm\""
     ],
     "language": "python",
     "metadata": {},
     "outputs": [
      {
       "output_type": "stream",
       "stream": "stdout",
       "text": [
        "speed= 342.848235418389 rpm\n"
       ]
      }
     ],
     "prompt_number": 97
    },
    {
     "cell_type": "heading",
     "level": 2,
     "metadata": {},
     "source": [
      "Example Number 30.41, Page Number:1056"
     ]
    },
    {
     "cell_type": "code",
     "collapsed": false,
     "input": [
      "#variable declaration\n",
      "v=440#V\n",
      "ra=0.3#ohm\n",
      "i=20#A\n",
      "n=1200#rpm\n",
      "r=3#ohm\n",
      "i2=15#A\n",
      "ratio=0.80\n",
      "\n",
      "#calculation\n",
      "eb1=v-i*ra\n",
      "eb2=v-(r+ra)*i2\n",
      "n2=n*(eb2/eb1)/ratio\n",
      "power_ratio=(n*i)/(n2*i2*ratio)\n",
      "\n",
      "#result\n",
      "print \"new speed=\",n2,\"rpm\"\n",
      "print \"ratio of power outputs=\",power_ratio"
     ],
     "language": "python",
     "metadata": {},
     "outputs": [
      {
       "output_type": "stream",
       "stream": "stdout",
       "text": [
        "new speed= 1349.65437788 rpm\n",
        "ratio of power outputs= 1.48186086214\n"
       ]
      }
     ],
     "prompt_number": 99
    },
    {
     "cell_type": "heading",
     "level": 2,
     "metadata": {},
     "source": [
      "Example Number 30.42, Page Number:1057"
     ]
    },
    {
     "cell_type": "code",
     "collapsed": false,
     "input": [
      "#variable declaration\n",
      "i=50#A\n",
      "v=460#V\n",
      "ratio=1-0.25\n",
      "\n",
      "#calculation\n",
      "I=(i**2*ratio**3)**0.5\n",
      "eb2=I*ratio*v/i\n",
      "R=(v-eb2)/I\n",
      "pa=v*i/1000\n",
      "power_n=pa*ratio**4\n",
      "pa=eb2*I\n",
      "\n",
      "#result\n",
      "print \"Resistance required=\",R,\"ohm\""
     ],
     "language": "python",
     "metadata": {},
     "outputs": [
      {
       "output_type": "stream",
       "stream": "stdout",
       "text": [
        "Resistance required= 7.26432660412 ohm\n"
       ]
      }
     ],
     "prompt_number": 103
    },
    {
     "cell_type": "heading",
     "level": 2,
     "metadata": {},
     "source": [
      "Example Number 30.44, Page Number:1060"
     ]
    },
    {
     "cell_type": "code",
     "collapsed": false,
     "input": [
      "#variable declaration\n",
      "n=500#rpm\n",
      "n2=550#rpm\n",
      "i=50#A\n",
      "v=500#V\n",
      "r=0.5#ohm\n",
      "\n",
      "#calculation\n",
      "eb1=v-i*r\n",
      "kphi1=eb1/n\n",
      "eb2=v-i*r\n",
      "kphi2=eb2/n2\n",
      "eb_=v-i*2*r\n",
      "n=eb_/((eb1/n2)+(eb2/n))\n",
      "#result\n",
      "print \"speed=\",n,\"rpm\"\n",
      "\n",
      "\n"
     ],
     "language": "python",
     "metadata": {},
     "outputs": [
      {
       "output_type": "stream",
       "stream": "stdout",
       "text": [
        "speed= 248.120300752 rpm\n"
       ]
      }
     ],
     "prompt_number": 109
    },
    {
     "cell_type": "heading",
     "level": 2,
     "metadata": {},
     "source": [
      "Example Number 30.45, Page Number:1061"
     ]
    },
    {
     "cell_type": "code",
     "collapsed": false,
     "input": [
      "#variable declaration\n",
      "load=14.92#kW\n",
      "v=250#V\n",
      "n=1000#rpm\n",
      "ratio1=5.0\n",
      "ratio2=4.0\n",
      "t=882#N-m\n",
      "\n",
      "#calculation\n",
      "i=load*1000/v\n",
      "k=v/(n*i/60)\n",
      "I=(t/((ratio1+ratio2)*0.159*k))**0.5\n",
      "nsh=v/((ratio1+ratio2)*k*I)\n",
      "eb1=ratio1*k*I*nsh\n",
      "eb2=ratio2*k*I*nsh\n",
      "\n",
      "#result\n",
      "print \"current=\",I,\"A\"\n",
      "print \"speed of shaft=\",round(nsh*60),\"rpm\"\n",
      "print \"voltage across the motors=\",round(eb1),\"V,\",round(eb2),\"V\""
     ],
     "language": "python",
     "metadata": {},
     "outputs": [
      {
       "output_type": "stream",
       "stream": "stdout",
       "text": [
        "current= 49.5202984449 A\n",
        "speed of shaft= 134.0 rpm\n",
        "voltage across the motors= 139.0 V, 111.0 V\n"
       ]
      }
     ],
     "prompt_number": 117
    },
    {
     "cell_type": "heading",
     "level": 2,
     "metadata": {},
     "source": [
      "Example Number 30.46, Page Number:1063"
     ]
    },
    {
     "cell_type": "code",
     "collapsed": false,
     "input": [
      "#variable declaration\n",
      "v=220#V\n",
      "t=700#N-m\n",
      "n=1200#rpm\n",
      "ra=0.008#ohm\n",
      "rf=55#ohm\n",
      "efficiency=0.90\n",
      "t2=375#N-m\n",
      "n2=1050#rpm\n",
      "\n",
      "#calculation\n",
      "output=2*3.14*n*t/60\n",
      "power_m=output/efficiency\n",
      "im=power_m/v\n",
      "ish=v/rf\n",
      "ia1=im-ish\n",
      "eb1=v-ia1*ra\n",
      "ia2=ia1*t2/t\n",
      "eb2=eb1*n2/n\n",
      "r=eb2/ia2-ra\n",
      "\n",
      "#result\n",
      "print \"dynamic break resistance=\",r,\"ohm\""
     ],
     "language": "python",
     "metadata": {},
     "outputs": [
      {
       "output_type": "stream",
       "stream": "stdout",
       "text": [
        "dynamic break resistance= 0.795525014538 ohm\n"
       ]
      }
     ],
     "prompt_number": 118
    },
    {
     "cell_type": "heading",
     "level": 2,
     "metadata": {},
     "source": [
      "Example Number 30.47, Page Number:1064"
     ]
    },
    {
     "cell_type": "code",
     "collapsed": false,
     "input": [
      "#variable declaration\n",
      "v=400.0#V\n",
      "load=18.65#kW\n",
      "n=450.0#rpm\n",
      "efficiency=0.746\n",
      "ra=0.2#ohm\n",
      "\n",
      "#calculations\n",
      "I=load*1000/(efficiency*v)\n",
      "eb=v-I*ra\n",
      "vt=v+eb\n",
      "i_max=2*I\n",
      "r=vt/i_max\n",
      "R=r-ra\n",
      "N=n/60\n",
      "phizp_by_a=eb/N\n",
      "k4=phizp_by_a*v/(2*3.14*r)\n",
      "k3=phizp_by_a**2/(2*3.14*r)\n",
      "tb=k4+k3*N\n",
      "tb0=k4\n",
      "#result\n",
      "print \"breaking resistance=\",R,\"ohm\"\n",
      "print \"maximum breaking torque=\",tb,\"N-m\"\n",
      "print \"maximum breaking torque when N=0 =\",tb0,\"N-m\""
     ],
     "language": "python",
     "metadata": {},
     "outputs": [
      {
       "output_type": "stream",
       "stream": "stdout",
       "text": [
        "breaking resistance= 6.1 ohm\n",
        "maximum breaking torque= 1028.3970276 N-m\n",
        "maximum breaking torque when N=0 = 522.360394972 N-m\n"
       ]
      }
     ],
     "prompt_number": 122
    },
    {
     "cell_type": "heading",
     "level": 2,
     "metadata": {},
     "source": [
      "Example Number 30.48, Page Number:1069"
     ]
    },
    {
     "cell_type": "code",
     "collapsed": false,
     "input": [
      "#variable declaration\n",
      "v=120#V\n",
      "ra=0.5#ohm\n",
      "l=20*0.001#H\n",
      "ka=0.05#V/rpm motor constant\n",
      "ia=20#A\n",
      "\n",
      "#calculations\n",
      "vt=ia*ra\n",
      "alpha=vt/v\n",
      "#when alpha=1\n",
      "eb=v-ia*ra\n",
      "N=eb/ka\n",
      "\n",
      "#result\n",
      "print \"range of speed control=\",0,\"to\",N,\"rpm\"\n",
      "print \"range of duty cycle=\",(alpha),\"to\",1"
     ],
     "language": "python",
     "metadata": {},
     "outputs": [
      {
       "output_type": "stream",
       "stream": "stdout",
       "text": [
        " range of speed control= 0 to 2200.0 rpm\n",
        "range of duty cycle= 0.0833333333333 to 1\n"
       ]
      }
     ],
     "prompt_number": 124
    },
    {
     "cell_type": "heading",
     "level": 2,
     "metadata": {},
     "source": [
      "Example Number 30.49, Page Number:1080"
     ]
    },
    {
     "cell_type": "code",
     "collapsed": false,
     "input": [
      "#variable declaration\n",
      "load=7.46#kW\n",
      "v=200#V\n",
      "efficiency=0.85\n",
      "ra=0.25#ohm\n",
      "ratio=1.5\n",
      "\n",
      "#calculation\n",
      "i=load*1000/(v*efficiency)\n",
      "i1=ratio*i\n",
      "r1=v/i1\n",
      "r_start=r1-ra\n",
      "eb1=v-i*r1\n",
      "\n",
      "#result\n",
      "print \"starting resistance=\",r_start,\"ohm\"\n",
      "print \"back emf=\",eb1,\"V\""
     ],
     "language": "python",
     "metadata": {},
     "outputs": [
      {
       "output_type": "stream",
       "stream": "stdout",
       "text": [
        "starting resistance= 2.78842716711 ohm\n",
        "back emf= 66.6666666667 V\n"
       ]
      }
     ],
     "prompt_number": 125
    },
    {
     "cell_type": "heading",
     "level": 2,
     "metadata": {},
     "source": [
      "Example Number 30.50, Page Number:1080"
     ]
    },
    {
     "cell_type": "code",
     "collapsed": false,
     "input": [
      "#variable declaration\n",
      "v=220.0#V\n",
      "ra=0.5#ohm\n",
      "ia=40.0#A\n",
      "n=7\n",
      "\n",
      "#calculations\n",
      "r1=v/ia\n",
      "k=(r1/ra)**(1.0/(n-1))\n",
      "r2=r1/k\n",
      "r3=r2/k\n",
      "r4=r3/k\n",
      "r5=r4/k\n",
      "r6=r5/k\n",
      "p1=r1-r2\n",
      "p2=r2-r3\n",
      "p3=r3-r4\n",
      "p4=r4-r5\n",
      "p5=r5-r6\n",
      "p6=r6-ra\n",
      "\n",
      "#result\n",
      "print \"resistance of 1st section=\",round(p1,3),\"ohm\"\n",
      "print \"resistance of 2nd section=\",round(p2,3),\"ohm\"\n",
      "print \"resistance of 3rd section=\",round(p3,3),\"ohm\"\n",
      "print \"resistance of 4th section=\",round(p4,3),\"ohm\"\n",
      "print \"resistance of 5th section=\",round(p5,3),\"ohm\"\n",
      "print \"resistance of 6th section=\",round(p6,3),\"ohm\""
     ],
     "language": "python",
     "metadata": {},
     "outputs": [
      {
       "output_type": "stream",
       "stream": "stdout",
       "text": [
        "resistance of 1st section= 1.812 ohm\n",
        "resistance of 2nd section= 1.215 ohm\n",
        "resistance of 3rd section= 0.815 ohm\n",
        "resistance of 4th section= 0.546 ohm\n",
        "resistance of 5th section= 0.366 ohm\n",
        "resistance of 6th section= 0.246 ohm\n"
       ]
      }
     ],
     "prompt_number": 132
    },
    {
     "cell_type": "heading",
     "level": 2,
     "metadata": {},
     "source": [
      "Example Number 30.51, Page Number:1081"
     ]
    },
    {
     "cell_type": "code",
     "collapsed": false,
     "input": [
      "#variable declaration\n",
      "n=6\n",
      "load=3.73#kW\n",
      "v=200#V\n",
      "ratio=0.50\n",
      "i1=0.6#A\n",
      "efficiency=0.88\n",
      "\n",
      "#calculation\n",
      "output=load/efficiency\n",
      "total_loss=output-load\n",
      "cu_loss=total_loss*ratio\n",
      "i=output*1000/v\n",
      "ia=i-i1\n",
      "ra=cu_loss*1000/ia**2\n",
      "i_per=i*2\n",
      "ia_per=i_per-i1\n",
      "r1=v/ia_per\n",
      "k=(r1/ra)**(1.0/(n-1))\n",
      "r2=r1/k\n",
      "r3=r2/k\n",
      "r4=r3/k\n",
      "r5=r4/k\n",
      "p1=r1-r2\n",
      "p2=r2-r3\n",
      "p3=r3-r4\n",
      "p4=r4-r5\n",
      "p5=r5-ra\n",
      "\n",
      "\n",
      "#result\n",
      "print \"resistance of 1st section=\",round(p1,3),\"ohm\"\n",
      "print \"resistance of 2nd section=\",round(p2,3),\"ohm\"\n",
      "print \"resistance of 3rd section=\",round(p3,3),\"ohm\"\n",
      "print \"resistance of 4th section=\",round(p4,3),\"ohm\"\n",
      "print \"resistance of 5th section=\",round(p5,3),\"ohm\"\n"
     ],
     "language": "python",
     "metadata": {},
     "outputs": [
      {
       "output_type": "stream",
       "stream": "stdout",
       "text": [
        "resistance of 1st section= 1.627 ohm\n",
        "resistance of 2nd section= 1.074 ohm\n",
        "resistance of 3rd section= 0.709 ohm\n",
        "resistance of 4th section= 0.468 ohm\n",
        "resistance of 5th section= 0.309 ohm\n"
       ]
      }
     ],
     "prompt_number": 146
    },
    {
     "cell_type": "heading",
     "level": 2,
     "metadata": {},
     "source": [
      "Example Number 30.52, Page Number:1081"
     ]
    },
    {
     "cell_type": "code",
     "collapsed": false,
     "input": [
      "#variable declaration\n",
      "n=7\n",
      "load=36.775#kW\n",
      "v=400#V\n",
      "ratio=0.05\n",
      "rsh=200#ohm\n",
      "efficiency=0.92\n",
      "\n",
      "#calculation\n",
      "input_m=load*1000/efficiency\n",
      "cu_loss=input_m*ratio\n",
      "cu_loss_sh=v**2/rsh\n",
      "cu_loss_a=cu_loss-cu_loss_sh\n",
      "i=input_m/v\n",
      "ish=v/rsh\n",
      "ia=i-ish\n",
      "ra=cu_loss_a/ia**2\n",
      "k=(v/(ia*ra))**(1.0/(n))\n",
      "i1=k*ia\n",
      "r1=v/i1\n",
      "r2=r1/k\n",
      "r3=r2/k\n",
      "r4=r3/k\n",
      "r5=r4/k\n",
      "r6=r5/k\n",
      "r7=r5/k\n",
      "p1=r1-r2\n",
      "p2=r2-r3\n",
      "p3=r3-r4\n",
      "p4=r4-r5\n",
      "p5=r5-r6\n",
      "p6=r6-r7\n",
      "p7=r7-ra\n",
      "\n",
      "#result\n",
      "print \"resistance of 1st section=\",round(p1,3),\"ohm\"\n",
      "print \"resistance of 2nd section=\",round(p2,3),\"ohm\"\n",
      "print \"resistance of 3rd section=\",round(p3,3),\"ohm\"\n",
      "print \"resistance of 4th section=\",round(p4,3),\"ohm\"\n",
      "print \"resistance of 5th section=\",round(p5,3),\"ohm\"\n",
      "print \"resistance of 6th section=\",round(p6,3),\"ohm\"\n",
      "print \"resistance of 7th section=\",round(p7,3),\"ohm\""
     ],
     "language": "python",
     "metadata": {},
     "outputs": [
      {
       "output_type": "stream",
       "stream": "stdout",
       "text": [
        "resistance of 1st section= 0.974 ohm\n",
        "resistance of 2nd section= 0.592 ohm\n",
        "resistance of 3rd section= 0.36 ohm\n",
        "resistance of 4th section= 0.219 ohm\n",
        "resistance of 5th section= 0.133 ohm\n",
        "resistance of 6th section= 0.0 ohm\n",
        "resistance of 7th section= 0.081 ohm\n"
       ]
      }
     ],
     "prompt_number": 157
    },
    {
     "cell_type": "heading",
     "level": 2,
     "metadata": {},
     "source": [
      "Example Number 30.53, Page Number:1082"
     ]
    },
    {
     "cell_type": "code",
     "collapsed": false,
     "input": [
      "import math\n",
      "from sympy.solvers import solve\n",
      "from sympy import Symbol\n",
      "#variable declaration\n",
      "n=Symbol('n')\n",
      "v=250.0#V\n",
      "ra=0.125#ohm\n",
      "i2=150.0#A\n",
      "i1=200.0#A\n",
      "\n",
      "#calculation\n",
      "r1=v/i1\n",
      "n=solve((i1/i2)**(n-1)-(r1/ra),n)\n",
      "k=i1/i2\n",
      "r2=r1/k\n",
      "r3=r2/k\n",
      "r4=r3/k\n",
      "r5=r4/k\n",
      "r6=r5/k\n",
      "r7=r6/k\n",
      "r8=r7/k\n",
      "p1=r1-r2\n",
      "p2=r2-r3\n",
      "p3=r3-r4\n",
      "p4=r4-r5\n",
      "p5=r5-r6\n",
      "p6=r6-r7\n",
      "p7=r7-r8\n",
      "p8=r8-ra\n",
      "#result\n",
      "print \"resistance of 1st section=\",round(p1,3),\"ohm\"\n",
      "print \"resistance of 2nd section=\",round(p2,3),\"ohm\"\n",
      "print \"resistance of 3rd section=\",round(p3,3),\"ohm\"\n",
      "print \"resistance of 4th section=\",round(p4,3),\"ohm\"\n",
      "print \"resistance of 5th section=\",round(p5,3),\"ohm\"\n",
      "print \"resistance of 6th section=\",round(p6,3),\"ohm\"\n",
      "print \"resistance of 7th section=\",round(p7,3),\"ohm\"\n",
      "print \"resistance of 8th section=\",round(p8,3),\"ohm\""
     ],
     "language": "python",
     "metadata": {},
     "outputs": [
      {
       "output_type": "stream",
       "stream": "stdout",
       "text": [
        "resistance of 1st section= 0.313 ohm\n",
        "resistance of 2nd section= 0.234 ohm\n",
        "resistance of 3rd section= 0.176 ohm\n",
        "resistance of 4th section= 0.132 ohm\n",
        "resistance of 5th section= 0.099 ohm\n",
        "resistance of 6th section= 0.074 ohm\n",
        "resistance of 7th section= 0.056 ohm\n",
        "resistance of 8th section= 0.042 ohm\n"
       ]
      }
     ],
     "prompt_number": 163
    },
    {
     "cell_type": "heading",
     "level": 2,
     "metadata": {},
     "source": [
      "Example Number 30.54, Page Number:1083"
     ]
    },
    {
     "cell_type": "code",
     "collapsed": false,
     "input": [
      "import math\n",
      "from sympy.solvers import solve\n",
      "from sympy import Symbol\n",
      "#variable declaration\n",
      "n=Symbol('n')\n",
      "v=500#V\n",
      "z=20\n",
      "ra=1.31#ohm\n",
      "t=218#N-m\n",
      "ratio=1.5\n",
      "slot=60\n",
      "phi=23*0.001#Wb\n",
      "\n",
      "#calculation\n",
      "ia=t/(0.159*phi*slot*z)\n",
      "i1=ia*ratio\n",
      "i2=ia\n",
      "k=i1/i2\n",
      "r1=v/i1\n",
      "n=solve(k**(n-1)-(r1/ra),n)\n",
      "r2=r1/k\n",
      "r3=r2/k\n",
      "r4=r3/k\n",
      "p1=r1-r2\n",
      "p2=r2-r3\n",
      "p3=r3-r4\n",
      "p4=r4-ra\n",
      "\n",
      "#result\n",
      "print \"resistance of 1st section=\",round(p1,3),\"ohm\"\n",
      "print \"resistance of 2nd section=\",round(p2,3),\"ohm\"\n",
      "print \"resistance of 3rd section=\",round(p3,3),\"ohm\"\n",
      "print \"resistance of 4th section=\",round(p4,3),\"ohm\"\n",
      "\n"
     ],
     "language": "python",
     "metadata": {},
     "outputs": [
      {
       "output_type": "stream",
       "stream": "stdout",
       "text": [
        "resistance of 1st section= 2.237 ohm\n",
        "resistance of 2nd section= 1.491 ohm\n",
        "resistance of 3rd section= 0.994 ohm\n",
        "resistance of 4th section= 0.678 ohm\n"
       ]
      }
     ],
     "prompt_number": 164
    },
    {
     "cell_type": "heading",
     "level": 2,
     "metadata": {},
     "source": [
      "Example Number 30.55, Page Number:1084"
     ]
    },
    {
     "cell_type": "code",
     "collapsed": false,
     "input": [
      "#variable declaration\n",
      "load=37.3#kW\n",
      "v=440#V\n",
      "drop=0.02\n",
      "efficiency=0.95\n",
      "i_per=1.30\n",
      "\n",
      "#calculation\n",
      "il=load*1000/(v*efficiency)\n",
      "i1=i_per*il\n",
      "vd=drop*v\n",
      "rm=vd/il\n",
      "r1=v/i1\n",
      "r=(r1-rm)/6\n",
      "\n",
      "#result\n",
      "print \"resistance of each rheostat=\",r,\"ohm\""
     ],
     "language": "python",
     "metadata": {},
     "outputs": [
      {
       "output_type": "stream",
       "stream": "stdout",
       "text": [
        "resistance of each rheostat= 0.615721729566 ohm\n"
       ]
      }
     ],
     "prompt_number": 165
    },
    {
     "cell_type": "heading",
     "level": 2,
     "metadata": {},
     "source": [
      "Example Number 30.56, Page Number:1085"
     ]
    },
    {
     "cell_type": "code",
     "collapsed": false,
     "input": [
      "#variable declaration\n",
      "load=55.95#kW\n",
      "v=650.0#V\n",
      "r=0.51#ohm\n",
      "i1=140.0#A\n",
      "i2=100.0#A\n",
      "per=0.20\n",
      "\n",
      "#calculation\n",
      "ratio=i1/i2\n",
      "r1=v/i1\n",
      "r2=((per+1)/ratio-per)*r1\n",
      "r3=(per+1)*r2/ratio-per*r1\n",
      "r4=((per+1)*r3/ratio)-per*r1\n",
      "\n",
      "p1=r1-r2\n",
      "p2=r2-r3\n",
      "p3=r3-r4\n",
      "\n",
      "#result\n",
      "print \"number of steps=\",3\n",
      "print \"resistance of 1st section=\",round(p1,3),\"ohm\"\n",
      "print \"resistance of 2nd section=\",round(p2,3),\"ohm\"\n",
      "print \"resistance of 3rd section=\",round(p3,3),\"ohm\"\n"
     ],
     "language": "python",
     "metadata": {},
     "outputs": [
      {
       "output_type": "stream",
       "stream": "stdout",
       "text": [
        "number of steps= 3\n",
        "resistance of 1st section= 1.592 ohm\n",
        "resistance of 2nd section= 1.364 ohm\n",
        "resistance of 3rd section= 1.17 ohm\n"
       ]
      }
     ],
     "prompt_number": 170
    },
    {
     "cell_type": "code",
     "collapsed": false,
     "input": [],
     "language": "python",
     "metadata": {},
     "outputs": []
    }
   ],
   "metadata": {}
  }
 ]
}