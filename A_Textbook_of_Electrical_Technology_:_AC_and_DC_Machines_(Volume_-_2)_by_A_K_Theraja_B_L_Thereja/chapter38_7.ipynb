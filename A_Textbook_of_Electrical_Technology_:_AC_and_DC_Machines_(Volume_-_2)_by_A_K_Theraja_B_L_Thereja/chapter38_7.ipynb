{
 "metadata": {
  "name": "",
  "signature": "sha256:a6bbecd88376ba06b11df7bbad39447a579ab954844d7c4715263117b7255967"
 },
 "nbformat": 3,
 "nbformat_minor": 0,
 "worksheets": [
  {
   "cells": [
    {
     "cell_type": "heading",
     "level": 1,
     "metadata": {},
     "source": [
      "Chapter 38: Synchronous Motor"
     ]
    },
    {
     "cell_type": "heading",
     "level": 2,
     "metadata": {},
     "source": [
      "Example Number 38.1, Page Number:1495"
     ]
    },
    {
     "cell_type": "code",
     "collapsed": false,
     "input": [
      "import math\n",
      "#variable declaration\n",
      "p=75#kW\n",
      "f=50#Hz\n",
      "v=440#V\n",
      "pf=0.8\n",
      "loss=0.95\n",
      "xs=2.5#ohm\n",
      "\n",
      "#calculations\n",
      "ns=120*f/4\n",
      "pm=p*1000/loss\n",
      "ia=pm/(math.sqrt(3)*v*pf)\n",
      "vol_phase=v/math.sqrt(3)\n",
      "\n",
      "#calculations\n",
      "print \"mechanical power=\",pm,\"W\"\n",
      "print \"armature current=\",ia,\"A\"\n"
     ],
     "language": "python",
     "metadata": {},
     "outputs": [
      {
       "output_type": "stream",
       "stream": "stdout",
       "text": [
        "mechanical power= 78947.3684211 W\n",
        "armature current= 129.489444346 A\n"
       ]
      }
     ],
     "prompt_number": 1
    },
    {
     "cell_type": "heading",
     "level": 2,
     "metadata": {},
     "source": [
      "Example Number 38.2, Page Number:1498"
     ]
    },
    {
     "cell_type": "code",
     "collapsed": false,
     "input": [
      "import cmath\n",
      "#variable declaration\n",
      "p=20\n",
      "vl=693#V\n",
      "r=10#ohm\n",
      "lag=0.5#degrees\n",
      "\n",
      "#calculations\n",
      "#lag=0.5\n",
      "alpha=p*lag/2\n",
      "eb=vp=vl/math.sqrt(3)\n",
      "er=complex(vp-eb*math.cos(math.radians(alpha)),eb*math.sin(math.radians(alpha)))\n",
      "zs=complex(0,10)\n",
      "ia=er/zs\n",
      "power_input=3*vp*abs(ia)*math.cos(math.radians(cmath.phase(ia)))\n",
      "print \"displacement:0.5%\"\n",
      "print \"alpha=\",alpha,\"degrees\"\n",
      "print \"armature emf/phase=\",eb,\"V\"\n",
      "print \"armature current/phase=\",ia,\"A\"\n",
      "print \"power drawn=\",power_input,\"W\"\n",
      "print \"\"\n",
      "\n",
      "#lag=5\n",
      "lag=5\n",
      "alpha=p*lag/2\n",
      "eb=vp=vl/math.sqrt(3)\n",
      "er=complex(vp-eb*math.cos(math.radians(alpha)),eb*math.sin(math.radians(alpha)))\n",
      "zs=complex(0,10)\n",
      "ia=er/zs\n",
      "power_input=3*vp*abs(ia)*math.cos(math.radians(cmath.phase(ia)))\n",
      "\n",
      "print \"displacement:5%\"\n",
      "print \"alpha=\",alpha,\"degrees\"\n",
      "print \"armature emf/phase=\",eb,\"V\"\n",
      "print \"armature current/phase=\",ia,\"A\"\n",
      "print \"power drawn=\",power_input,\"W\""
     ],
     "language": "python",
     "metadata": {},
     "outputs": [
      {
       "output_type": "stream",
       "stream": "stdout",
       "text": [
        "displacement:0.5%\n",
        "alpha= 5.0 degrees\n",
        "armature emf/phase= 400.103736548 V\n",
        "armature current/phase= (3.4871338335-0.152251551219j) A\n",
        "power drawn= 4189.63221768 W\n",
        "\n",
        "displacement:5%\n",
        "alpha= 50 degrees\n",
        "armature emf/phase= 400.103736548 V\n",
        "armature current/phase= (30.6497244054-14.2922012106j) A\n",
        "power drawn= 40591.222447 W\n"
       ]
      }
     ],
     "prompt_number": 13
    },
    {
     "cell_type": "heading",
     "level": 2,
     "metadata": {},
     "source": [
      "Example Number 38.3, Page Number:1499"
     ]
    },
    {
     "cell_type": "code",
     "collapsed": false,
     "input": [
      "import math\n",
      "#variable declaration\n",
      "v=400.0#V/ph\n",
      "i=32.0#A/ph\n",
      "xs=10.0#ohm\n",
      "\n",
      "#calculations\n",
      "e=math.sqrt(v**2+(i*xs)**2)\n",
      "delta=math.atan((i*xs)/v)\n",
      "power=3*v*i\n",
      "power_other=3*(v*e/10)*math.sin(delta)*0.001\n",
      "\n",
      "#result\n",
      "print \"E=\",e,\"V\"\n",
      "print \"delta=\",math.degrees(delta),\"degrees\"\n",
      "\n",
      "\n"
     ],
     "language": "python",
     "metadata": {},
     "outputs": [
      {
       "output_type": "stream",
       "stream": "stdout",
       "text": [
        "E= 512.249938995 V\n",
        "delta= 38.6598082541 degrees\n"
       ]
      }
     ],
     "prompt_number": 15
    },
    {
     "cell_type": "heading",
     "level": 2,
     "metadata": {},
     "source": [
      "Example Number 38.4, Page Number:1506"
     ]
    },
    {
     "cell_type": "code",
     "collapsed": false,
     "input": [
      "import math\n",
      "#variable declaration\n",
      "w=150#kW\n",
      "f=50#Hz\n",
      "v=2300#V\n",
      "n=1000#rpm\n",
      "xd=32#ohm\n",
      "xq=20#ohm\n",
      "alpha=16#degrees\n",
      "\n",
      "#calculations\n",
      "vp=v/math.sqrt(3)\n",
      "eb=2*vp\n",
      "ex_power=eb*vp*math.sin(math.radians(alpha))/xd\n",
      "rel_power=(vp**2*(xd-xq)*math.sin(math.radians(2*alpha)))/(2*xd*xq)\n",
      "pm=3*(ex_power+rel_power)\n",
      "tg=9.55*pm/1000\n",
      "\n",
      "#result\n",
      "print \"torque=\",tg,\"N-m\"\n",
      "\n"
     ],
     "language": "python",
     "metadata": {},
     "outputs": [
      {
       "output_type": "stream",
       "stream": "stdout",
       "text": [
        "torque= 1121.29686485 N-m\n"
       ]
      }
     ],
     "prompt_number": 27
    },
    {
     "cell_type": "heading",
     "level": 2,
     "metadata": {},
     "source": [
      "Example Number 38.6, Page Number:1506"
     ]
    },
    {
     "cell_type": "code",
     "collapsed": false,
     "input": [
      "import math\n",
      "#variable declaration\n",
      "v=11000#V\n",
      "ia=60#A\n",
      "r=1#ohm\n",
      "x=30#ohm\n",
      "pf=0.8\n",
      "\n",
      "#calculations\n",
      "p2=math.sqrt(3)*v*ia*pf\n",
      "cu_loss=ia**2*3\n",
      "pm=p2-cu_loss\n",
      "vp=v/math.sqrt(3)\n",
      "phi=math.acos(pf)\n",
      "theta=math.atan(x/r)\n",
      "zs=x\n",
      "z_drop=ia*zs\n",
      "eb=math.sqrt((vp**2+z_drop**2-(2*vp*z_drop*math.cos(theta+phi))))*math.sqrt(3)\n",
      "\n",
      "#result\n",
      "print \"power supplied=\",p2/1000,\"kW\"\n",
      "print \"mechanical power=\",pm/1000,\"KW\"\n",
      "print \"induced emf=\",eb,\"V\"\n",
      "\n",
      "    "
     ],
     "language": "python",
     "metadata": {},
     "outputs": [
      {
       "output_type": "stream",
       "stream": "stdout",
       "text": [
        "power supplied= 914.522826396 kW\n",
        "mechanical power= 903.722826396 KW\n",
        "induced emf= 13039.2734763 V\n"
       ]
      }
     ],
     "prompt_number": 1
    },
    {
     "cell_type": "heading",
     "level": 2,
     "metadata": {},
     "source": [
      "Example Number 38.7, Page Number:1507"
     ]
    },
    {
     "cell_type": "code",
     "collapsed": false,
     "input": [
      "import math\n",
      "#variable declaration\n",
      "v=400#V\n",
      "i=32#A\n",
      "pf=1\n",
      "xd=10#ohm\n",
      "xq=6.5#ohm\n",
      "\n",
      "#calculations\n",
      "e=math.sqrt(v**2+(i*xq)**2)+((xd-xq)*14.8)\n",
      "delta=math.atan((i*xq)/v)\n",
      "power=3*v*i\n",
      "power_other=3*(v*e/10)*math.sin(delta)*0.001\n",
      "\n",
      "#result\n",
      "print \"E=\",e,\"V\"\n",
      "print \"delta=\",math.degrees(delta),\"degrees\"\n"
     ],
     "language": "python",
     "metadata": {},
     "outputs": [
      {
       "output_type": "stream",
       "stream": "stdout",
       "text": [
        "E= 502.648089715 V\n",
        "delta= 27.4744316263 degrees\n"
       ]
      }
     ],
     "prompt_number": 60
    },
    {
     "cell_type": "heading",
     "level": 2,
     "metadata": {},
     "source": [
      "Example Number 38.8, Page Number:1508"
     ]
    },
    {
     "cell_type": "code",
     "collapsed": false,
     "input": [
      "import math\n",
      "#variable declaration\n",
      "v=500#V\n",
      "output=7.46#kW\n",
      "pf=0.9\n",
      "r=0.8#ohm\n",
      "loss=500#W\n",
      "ex_loss=800#W\n",
      "\n",
      "#calculations\n",
      "pm=output*1000+loss+ex_loss\n",
      "ia=(v*pf-math.sqrt(v**2*pf**2-4*r*pm))/(2*r)\n",
      "m_input=loss*ia*pf\n",
      "efficiency=output*1000/m_input\n",
      "\n",
      "#result\n",
      "print \"commercial efficiency=\",efficiency*100,\"%\""
     ],
     "language": "python",
     "metadata": {},
     "outputs": [
      {
       "output_type": "stream",
       "stream": "stdout",
       "text": [
        "commercial efficiency= 82.1029269497 %\n"
       ]
      }
     ],
     "prompt_number": 3
    },
    {
     "cell_type": "heading",
     "level": 2,
     "metadata": {},
     "source": [
      "Example Number 38.9, Page Number:1509"
     ]
    },
    {
     "cell_type": "code",
     "collapsed": false,
     "input": [
      "import math\n",
      "#variable declaration\n",
      "v=2300#V\n",
      "r=0.2#ohm\n",
      "x=2.2#ohm\n",
      "pf=0.5\n",
      "il=200#A\n",
      "\n",
      "#calculations\n",
      "phi=math.acos(pf)\n",
      "theta=math.atan(x//r)\n",
      "v=v/math.sqrt(3)\n",
      "zs=math.sqrt(r**2+x**2)\n",
      "eb=math.sqrt(v**2+(il*zs)**2-(2*v*il*zs*math.cos(phi+theta)))\n",
      "\n",
      "#result\n",
      "print \"Eb=\",eb,\"volt/phase\""
     ],
     "language": "python",
     "metadata": {},
     "outputs": [
      {
       "output_type": "stream",
       "stream": "stdout",
       "text": [
        "Eb= 1708.04482042 volt/phase\n"
       ]
      }
     ],
     "prompt_number": 12
    },
    {
     "cell_type": "heading",
     "level": 2,
     "metadata": {},
     "source": [
      "Example Number 38.10, Page Number:1509"
     ]
    },
    {
     "cell_type": "code",
     "collapsed": false,
     "input": [
      "import math\n",
      "#variable declaration\n",
      "vl=6600#V\n",
      "f=50#Hz\n",
      "il=50#A\n",
      "r=1#ohm\n",
      "x=20#ohm\n",
      "pf=0.8\n",
      "\n",
      "#calculations\n",
      "#0.8 lagging\n",
      "power_i=math.sqrt(3)*v*f*pf\n",
      "v=vl/math.sqrt(3)\n",
      "phi=math.acos(pf)\n",
      "theta=math.atan(x/r)\n",
      "zs=math.sqrt(x**2+r**2)\n",
      "eb=math.sqrt(v**2+(il*zs)**2-(2*v*il*zs*math.cos(phi-theta)))*math.sqrt(3)\n",
      "\n",
      "print \"0.8 lag: Eb=\",eb\n",
      "\n",
      "#0.8 leading\n",
      "power_i=math.sqrt(3)*v*f*pf\n",
      "v=vl/math.sqrt(3)\n",
      "phi=math.acos(pf)\n",
      "theta=math.atan(x/r)\n",
      "zs=math.sqrt(x**2+r**2)\n",
      "eb=math.sqrt(v**2+(il*zs)**2-(2*v*il*zs*math.cos(phi+theta)))*math.sqrt(3)\n",
      "\n",
      "print \"0.8 leading:Eb=\",eb"
     ],
     "language": "python",
     "metadata": {},
     "outputs": [
      {
       "output_type": "stream",
       "stream": "stdout",
       "text": [
        "0.8 lag: Eb= 5651.1180113\n",
        "0.8 leading:Eb= 7705.24623679\n"
       ]
      }
     ],
     "prompt_number": 18
    },
    {
     "cell_type": "heading",
     "level": 2,
     "metadata": {},
     "source": [
      "Example Number 38.11, Page Number:1510"
     ]
    },
    {
     "cell_type": "code",
     "collapsed": false,
     "input": [
      "import math\n",
      "#variable declaration\n",
      "x=0.4\n",
      "pf=0.8\n",
      "v=100#V\n",
      "phi=math.acos(pf)\n",
      "#calculations\n",
      "#pf=1\n",
      "eb=math.sqrt(v**2+(x*v)**2)\n",
      "#pf=0.8 lag\n",
      "eb2=math.sqrt(v**2+(x*v)**2-(2*v*x*v*math.cos(math.radians(90)-phi)))\n",
      "#pf=0.8 lead\n",
      "eb3=math.sqrt(v**2+(x*v)**2-(2*v*x*v*math.cos(math.radians(90)+phi)))\n",
      "#result\n",
      "print \"pf=1: Eb=\",eb,\"V\"\n",
      "print \"pf=0.8 lag:Eb=\",eb2,\"V\"\n",
      "print \"pf=0.8 lead:Eb=\",eb3,\"V\""
     ],
     "language": "python",
     "metadata": {},
     "outputs": [
      {
       "output_type": "stream",
       "stream": "stdout",
       "text": [
        "pf=1: Eb= 107.703296143 V\n",
        "pf=0.8 lag:Eb= 82.4621125124 V\n",
        "pf=0.8 lead:Eb= 128.062484749 V\n"
       ]
      }
     ],
     "prompt_number": 25
    },
    {
     "cell_type": "heading",
     "level": 2,
     "metadata": {},
     "source": [
      "Example Number 38.12, Page Number:1510"
     ]
    },
    {
     "cell_type": "code",
     "collapsed": false,
     "input": [
      "import math\n",
      "#variable declaraion\n",
      "load=1000#kVA\n",
      "v=11000#V\n",
      "r=3.5#ohm\n",
      "x=40#ohm\n",
      "pf=0.8\n",
      "\n",
      "#calculations\n",
      "ia=load*1000/(math.sqrt(3)*v)\n",
      "vp=v/math.sqrt(3)\n",
      "phi=math.acos(pf)\n",
      "ra=ia*r\n",
      "xa=ia*x\n",
      "za=math.sqrt(ra**2+xa**2)\n",
      "theta=math.atan(x/r)\n",
      "\n",
      "#pf=1\n",
      "eb1=math.sqrt(vp**2+za**2-(2*vp*za*math.cos(theta)))\n",
      "alpha1=math.asin(xa*math.sin(theta)/eb1)\n",
      "\n",
      "#pf=0.8 lag\n",
      "eb2=math.sqrt(vp**2+xa**2-(2*vp*xa*math.cos(theta-phi)))*math.sqrt(3)\n",
      "alpha2=math.asin(xa*math.sin(theta-phi)/eb2)\n",
      "#pf=1\n",
      "eb3=math.sqrt(vp**2+xa**2-(2*vp*xa*math.cos(theta+phi)))*math.sqrt(3)\n",
      "alpha3=math.asin(xa*math.sin(theta+phi)/eb3)\n",
      "\n",
      "#result\n",
      "print \"at pf=1\"\n",
      "print \"Eb=\",eb1*math.sqrt(3),\"V\"\n",
      "print \"alpha=\",math.degrees(alpha1),\"degrees\"\n",
      "print \"at pf=0.8 lagging\"\n",
      "print \"Eb=\",eb2,\"V\"\n",
      "print \"alpha=\",math.degrees(alpha2),\"degrees\"\n",
      "print \"at pf=0.8 leading\"\n",
      "print \"Eb=\",eb3,\"V\"\n",
      "print \"alpha=\",math.degrees(alpha3),\"degrees\""
     ],
     "language": "python",
     "metadata": {},
     "outputs": [
      {
       "output_type": "stream",
       "stream": "stdout",
       "text": [
        "at pf=1\n",
        "Eb= 11283.8105339 V\n",
        "alpha= 18.7256601694 degrees\n",
        "at pf=0.8 lagging\n",
        "Eb= 8990.39249633 V\n",
        "alpha= 10.0142654731 degrees\n",
        "at pf=0.8 leading\n",
        "Eb= 13283.8907748 V\n",
        "alpha= 7.71356041367 degrees\n"
       ]
      }
     ],
     "prompt_number": 56
    },
    {
     "cell_type": "heading",
     "level": 2,
     "metadata": {},
     "source": [
      "Example Number 38.14, Page Number:1513"
     ]
    },
    {
     "cell_type": "code",
     "collapsed": false,
     "input": [
      "import math\n",
      "#variable declaration\n",
      "z=complex(0.5,0.866)\n",
      "v=200#V\n",
      "output=6000#W\n",
      "loss=500#W\n",
      "i=50#A\n",
      "\n",
      "#calculations\n",
      "cu_loss=i**2*z.real\n",
      "motor_intake=output+loss+cu_loss\n",
      "phi=math.acos(motor_intake/(v*i))\n",
      "theta=math.atan(z.imag/z.real)\n",
      "zs=abs(z)*i\n",
      "eb1=math.sqrt(v**2+zs**2-(2*v*zs*math.cos(math.radians(60)-phi)))\n",
      "eb2=math.sqrt(v**2+zs**2-(2*v*zs*math.cos(math.radians(60)+phi)))\n",
      "#result\n",
      "print \"lag:eb=\",eb1,\"V\"\n",
      "print \"lag:eb=\",eb2,\"V\""
     ],
     "language": "python",
     "metadata": {},
     "outputs": [
      {
       "output_type": "stream",
       "stream": "stdout",
       "text": [
        "lag:eb= 154.286783862 V\n",
        "lag:eb= 213.765547573 V\n"
       ]
      }
     ],
     "prompt_number": 65
    },
    {
     "cell_type": "heading",
     "level": 2,
     "metadata": {},
     "source": [
      "Example Number 38.15, Page Number:1513"
     ]
    },
    {
     "cell_type": "code",
     "collapsed": false,
     "input": [
      "import math\n",
      "#variable declaration\n",
      "v=2200#V\n",
      "f=50#Hz\n",
      "z=complex(0.4,6)\n",
      "lag=3#degrees\n",
      "\n",
      "#calculations\n",
      "eb=v/math.sqrt(3)\n",
      "alpha=lag*8/2\n",
      "er=math.sqrt(eb**2+eb**2-(2*eb*eb*(math.cos(math.radians(alpha)))))\n",
      "zs=abs(z)\n",
      "ia=er/zs\n",
      "theta=math.atan(z.imag/z.real)\n",
      "phi=theta-(math.asin(eb*math.sin(math.radians(alpha))/er))\n",
      "pf=math.cos(phi)\n",
      "total_input=3*eb*ia*pf\n",
      "cu_loss=3*ia**2*z.real\n",
      "pm=total_input-cu_loss\n",
      "pm_max=(eb*eb/zs)-(eb**2*z.real/(zs**2))\n",
      "#result\n",
      "print \"armature current=\",ia,\"A\"\n",
      "print \"power factor=\",pf\n",
      "print \"power of the motor=\",pm/1000,\"kW\"\n",
      "print \"max power of motor=\",pm_max/1000,\"kW\""
     ],
     "language": "python",
     "metadata": {},
     "outputs": [
      {
       "output_type": "stream",
       "stream": "stdout",
       "text": [
        "armature current= 44.1583059199 A\n",
        "power factor= 0.99927231631\n",
        "power of the motor= 165.803353329 kW\n",
        "max power of motor= 250.446734776 kW\n"
       ]
      }
     ],
     "prompt_number": 72
    },
    {
     "cell_type": "heading",
     "level": 2,
     "metadata": {},
     "source": [
      "Example Number 38.16, Page Number:1514"
     ]
    },
    {
     "cell_type": "code",
     "collapsed": false,
     "input": [
      "import math\n",
      "#variable declaration\n",
      "eb=250#V\n",
      "lead=150#degrees\n",
      "v=200#V\n",
      "x=2.5#times resistance\n",
      "alpha=lead/3\n",
      "#calculations\n",
      "er=math.sqrt(v**2+eb**2-(2*v*eb*math.cos(math.radians(alpha))))\n",
      "theta=math.atan(x)\n",
      "phi=math.radians(90)-theta\n",
      "pf=math.cos(phi)\n",
      "\n",
      "#results\n",
      "print \"pf at which the motor is operating=\",pf"
     ],
     "language": "python",
     "metadata": {},
     "outputs": [
      {
       "output_type": "stream",
       "stream": "stdout",
       "text": [
        "pf at which the motor is operating= 0.928476690885\n"
       ]
      }
     ],
     "prompt_number": 73
    },
    {
     "cell_type": "heading",
     "level": 2,
     "metadata": {},
     "source": [
      "Example Number 38.17, Page Number:1514"
     ]
    },
    {
     "cell_type": "code",
     "collapsed": false,
     "input": [
      "import math\n",
      "#variable declaration\n",
      "v=6600#V\n",
      "r=10#ohm\n",
      "inpt=900#kW\n",
      "e=8900#V\n",
      "\n",
      "#calculations\n",
      "vp=v/math.sqrt(3)\n",
      "eb=e/math.sqrt(3)\n",
      "icos=inpt*1000/(math.sqrt(3)*v)\n",
      "bc=r*icos\n",
      "ac=math.sqrt(eb**2-bc**2)\n",
      "oc=ac-vp\n",
      "phi=math.atan(oc/bc)\n",
      "i=icos/math.cos(phi)\n",
      "\n",
      "#result\n",
      "print \"Line current=\",i,\"A\""
     ],
     "language": "python",
     "metadata": {},
     "outputs": [
      {
       "output_type": "stream",
       "stream": "stdout",
       "text": [
        "Line current= 149.188331836 A\n"
       ]
      }
     ],
     "prompt_number": 82
    },
    {
     "cell_type": "heading",
     "level": 2,
     "metadata": {},
     "source": [
      "Example Number 38.18, Page Number:1515"
     ]
    },
    {
     "cell_type": "code",
     "collapsed": false,
     "input": [
      "import math\n",
      "#variable declaration\n",
      "v=6600#V\n",
      "x=20#ohm\n",
      "inpt=1000#kW\n",
      "pf=0.8\n",
      "inpt2=1500#kW\n",
      "\n",
      "#variable declaration\n",
      "va=v/math.sqrt(3)\n",
      "ia1=inpt*1000/(math.sqrt(3)*v*pf)\n",
      "zs=x\n",
      "phi=math.acos(pf)\n",
      "ia1zs=ia1*zs\n",
      "eb=math.sqrt(va**2+ia1zs**2-(2*va*ia1zs*math.cos(math.radians(90)+phi)))\n",
      "ia2cosphi2=inpt2*1000/(math.sqrt(3)*v)\n",
      "cosphi2=x*ia2cosphi2\n",
      "ac=math.sqrt(eb**2-cosphi2*2)\n",
      "phi2=math.atan(ac/cosphi2)\n",
      "pf=math.cos(phi2)\n",
      "alpha2=math.atan(cosphi2/ac)\n",
      "\n",
      "#results\n",
      "print \"new power angle=\",math.degrees(alpha2),\"degrees\"\n",
      "print \"new power factor=\",pf"
     ],
     "language": "python",
     "metadata": {},
     "outputs": [
      {
       "output_type": "stream",
       "stream": "stdout",
       "text": [
        "new power angle= 25.8661450552 degrees\n",
        "new power factor= 0.436270181217\n"
       ]
      }
     ],
     "prompt_number": 97
    },
    {
     "cell_type": "heading",
     "level": 2,
     "metadata": {},
     "source": [
      "Example Number 38.19, Page Number:1515"
     ]
    },
    {
     "cell_type": "code",
     "collapsed": false,
     "input": [
      "import math\n",
      "#variable declaration\n",
      "v=400#V\n",
      "inpt=5472#W\n",
      "x=10#ohm\n",
      "\n",
      "#calculations\n",
      "va=v/math.sqrt(3)\n",
      "iacosphi=inpt/(math.sqrt(3)*v)\n",
      "zs=x\n",
      "iazs=iacosphi*zs\n",
      "ac=math.sqrt(va**2-iazs**2)\n",
      "oc=va-ac\n",
      "bc=iazs\n",
      "phi=math.atan(oc/iazs)\n",
      "pf=math.cos(phi)\n",
      "ia=iacosphi/pf\n",
      "alpha=math.atan(bc/ac)\n",
      "#result\n",
      "print \"load angle=\",math.degrees(alpha),\"degrees\"\n",
      "print \"power factor=\",pf\n",
      "print \"armature current=\",ia,\"A\""
     ],
     "language": "python",
     "metadata": {},
     "outputs": [
      {
       "output_type": "stream",
       "stream": "stdout",
       "text": [
        "load angle= 19.9987718079 degrees\n",
        "power factor= 0.984809614116\n",
        "armature current= 8.01997824686 A\n"
       ]
      }
     ],
     "prompt_number": 2
    },
    {
     "cell_type": "heading",
     "level": 2,
     "metadata": {},
     "source": [
      "Example Number 38.20, Page Number:1515"
     ]
    },
    {
     "cell_type": "code",
     "collapsed": false,
     "input": [
      "import math\n",
      "import scipy\n",
      "from sympy.solvers import solve\n",
      "from sympy import Symbol\n",
      "#variable declaration\n",
      "i2=Symbol('i2')\n",
      "v=2000.0#V\n",
      "r=0.2#ohm\n",
      "xs=2.2#ohm\n",
      "inpt=800.0#kW\n",
      "e=2500.0#V\n",
      "\n",
      "#calculations\n",
      "i1=inpt*1000/(math.sqrt(3)*v)\n",
      "vp=v/math.sqrt(3)\n",
      "ep=e/math.sqrt(3)\n",
      "theta=math.atan(xs/r)\n",
      "i2=solve(((i1*xs+r*i2)**2+(vp+i1*r-xs*i2)**2)-ep**2,i2)\n",
      "i=math.sqrt(i1**2+i2[0]**2)\n",
      "pf=i1/i\n",
      "\n",
      "#result\n",
      "print \"line currrent=\",i,\"A\"\n",
      "print \"power factor=\",pf"
     ],
     "language": "python",
     "metadata": {},
     "outputs": [
      {
       "output_type": "stream",
       "stream": "stdout",
       "text": [
        "line currrent= 241.492937915 A\n",
        "power factor= 0.956301702525\n"
       ]
      }
     ],
     "prompt_number": 152
    },
    {
     "cell_type": "heading",
     "level": 2,
     "metadata": {},
     "source": [
      "Example Number 38.21, Page Number:1516"
     ]
    },
    {
     "cell_type": "code",
     "collapsed": false,
     "input": [
      "import math\n",
      "#variable declaration\n",
      "v=440#V\n",
      "f=50#Hz\n",
      "inpt=7.46#kW\n",
      "r=0.5#ohm\n",
      "pf=0.75\n",
      "loss=500#W\n",
      "ex_loss=650#W\n",
      "\n",
      "#calculations\n",
      "ia=inpt*1000/(math.sqrt(3)*v*pf)\n",
      "cu_loss=3*ia**2*r\n",
      "power=inpt*1000+ex_loss\n",
      "output=inpt*1000-cu_loss-loss\n",
      "efficiency=output/power\n",
      "\n",
      "#result\n",
      "print \"armature current=\",ia,\"A\"\n",
      "print \"power=\",power,\"W\"\n",
      "print \"efficiency=\",efficiency*100,\"%\""
     ],
     "language": "python",
     "metadata": {},
     "outputs": [
      {
       "output_type": "stream",
       "stream": "stdout",
       "text": [
        "armature current= 13.0516151762 A\n",
        "power= 8110.0 W\n",
        "efficiency= 82.6693343026 %\n"
       ]
      }
     ],
     "prompt_number": 156
    },
    {
     "cell_type": "heading",
     "level": 2,
     "metadata": {},
     "source": [
      "Example Number 38.22, Page Number:1517"
     ]
    },
    {
     "cell_type": "code",
     "collapsed": false,
     "input": [
      "import math\n",
      "v=3300#V\n",
      "x=18#ohm\n",
      "pf=0.707\n",
      "inpt=800#kW\n",
      "\n",
      "#calculations\n",
      "ia=inpt*1000/(math.sqrt(3)*v*pf)\n",
      "ip=ia/math.sqrt(3)\n",
      "zs=x\n",
      "iazs=ip*zs\n",
      "phi=math.acos(pf)\n",
      "theta=math.radians(90)\n",
      "eb=math.sqrt(v**2+iazs**2-(2*v*iazs*(-1)*pf))\n",
      "alpha=math.asin(iazs*math.sin(theta+phi)/eb)\n",
      "\n",
      "#result\n",
      "print \"excitation emf=\",eb,\"V\"\n",
      "print \"rotor angle=\",math.degrees(alpha),\"degrees\"\n"
     ],
     "language": "python",
     "metadata": {},
     "outputs": [
      {
       "output_type": "stream",
       "stream": "stdout",
       "text": [
        "excitation emf= 4972.19098879 V\n",
        "rotor angle= 17.0098509277 degrees\n"
       ]
      }
     ],
     "prompt_number": 157
    },
    {
     "cell_type": "heading",
     "level": 2,
     "metadata": {},
     "source": [
      "Example Number 38.23, Page Number:1517"
     ]
    },
    {
     "cell_type": "code",
     "collapsed": false,
     "input": [
      "import math\n",
      "#variable declaration\n",
      "inpt=75#kW\n",
      "v=400#V\n",
      "r=0.04#ohm\n",
      "x=0.4#ohm\n",
      "pf=0.8\n",
      "efficiency=0.925\n",
      "\n",
      "#calculations\n",
      "input_m=inpt*1000/efficiency\n",
      "ia=input_m/(math.sqrt(3)*v)\n",
      "zs=math.sqrt(r**2+x**2)\n",
      "iazs=ia*zs\n",
      "phi=math.atan(x/r)\n",
      "theta=math.radians(90)-phi\n",
      "vp=v/math.sqrt(3)\n",
      "eb=math.sqrt(vp**2+iazs**2-(2*vp*iazs*math.cos(theta+phi)))\n",
      "cu_loss=3*ia**2*r\n",
      "ns=120*50/40\n",
      "pm=input_m-cu_loss\n",
      "tg=9.55*pm/ns\n",
      "\n",
      "#result\n",
      "print \"emf=\",eb,\"eb\"\n",
      "print \"mechanical power=\",pm,\"W\"\n"
     ],
     "language": "python",
     "metadata": {},
     "outputs": [
      {
       "output_type": "stream",
       "stream": "stdout",
       "text": [
        "emf= 235.683320812 eb\n",
        "mechanical power= 79437.5456538 W\n"
       ]
      }
     ],
     "prompt_number": 158
    },
    {
     "cell_type": "heading",
     "level": 2,
     "metadata": {},
     "source": [
      "Example Number 38.24, Page Number:1517"
     ]
    },
    {
     "cell_type": "code",
     "collapsed": false,
     "input": [
      "import math\n",
      "#variable declaration\n",
      "v=400#V\n",
      "f=50#Hz\n",
      "r=0.5#ohm\n",
      "zs=x=4#ohm\n",
      "i=15#A\n",
      "i2=60#A\n",
      "\n",
      "#calculations\n",
      "vp=v/math.sqrt(3)\n",
      "iazs=i*zs\n",
      "xs=math.sqrt(x**2-r**2)\n",
      "theta=math.atan(xs/r)\n",
      "eb=math.sqrt(vp**2+iazs**2-(2*vp*iazs*math.cos(theta)))\n",
      "iazs2=i2*zs\n",
      "phi=theta-math.acos(vp**2-vp**2+iazs2**2/(2*vp*iazs2))\n",
      "pf=math.cos(phi)\n",
      "input_m=math.sqrt(3)*v*i2*pf\n",
      "cu_loss=3*i2**2*r\n",
      "pm=input_m-cu_loss\n",
      "ns=120*50/6\n",
      "tg=9.55*pm/ns\n",
      "\n",
      "#result\n",
      "print \"gross torque developed=\",tg,\"N-m\"\n",
      "print \"new power factor=\",pf"
     ],
     "language": "python",
     "metadata": {},
     "outputs": [
      {
       "output_type": "stream",
       "stream": "stdout",
       "text": [
        "gross torque developed= 310.739709828 N-m\n",
        "new power factor= 0.912650996943\n"
       ]
      }
     ],
     "prompt_number": 161
    },
    {
     "cell_type": "heading",
     "level": 2,
     "metadata": {},
     "source": [
      "Example Number 38.25, Page Number:1518"
     ]
    },
    {
     "cell_type": "code",
     "collapsed": false,
     "input": [
      "import math\n",
      "#variable declaration\n",
      "v=400#V\n",
      "inpt=7.46#kW\n",
      "xs=10#W/phase\n",
      "efficiency=0.85\n",
      "\n",
      "#calculations\n",
      "input_m=inpt*1000/efficiency\n",
      "il=input_m/(math.sqrt(3)*v)\n",
      "zs=il*xs\n",
      "vp=v/math.sqrt(3)\n",
      "eb=math.sqrt(vp**2+zs**2)\n",
      "\n",
      "#result\n",
      "print \"minimum current=\",il,\"A\"\n",
      "print \"inducedemf=\",eb,\"V\""
     ],
     "language": "python",
     "metadata": {},
     "outputs": [
      {
       "output_type": "stream",
       "stream": "stdout",
       "text": [
        "minimum current= 12.6677441416 A\n",
        "inducedemf= 263.401798584 V\n"
       ]
      }
     ],
     "prompt_number": 164
    },
    {
     "cell_type": "heading",
     "level": 2,
     "metadata": {},
     "source": [
      "Example Number 38.26, Page Number:1518"
     ]
    },
    {
     "cell_type": "code",
     "collapsed": false,
     "input": [
      "import math\n",
      "#variable declaration\n",
      "v=400#V\n",
      "f=50#Hz\n",
      "inpt=37.5#kW\n",
      "efficiency=0.88\n",
      "zs=complex(0.2,1.6)\n",
      "pf=0.9\n",
      "\n",
      "#calculations\n",
      "input_m=inpt/efficiency\n",
      "ia=input_m*1000/(math.sqrt(3)*v*pf)\n",
      "vp=v/math.sqrt(3)\n",
      "er=ia*abs(zs)\n",
      "phi=math.acos(pf)\n",
      "theta=math.atan(zs.imag/zs.real)\n",
      "eb=math.sqrt(vp**2+er**2-(2*vp*er*math.cos(theta+phi)))\n",
      "alpha=math.asin(math.sin(theta+phi)*er/eb)\n",
      "pm=3*eb*vp*math.sin(alpha)/abs(zs)\n",
      "#result\n",
      "print \"excitation emf=\",eb*math.sqrt(3),\"V\"\n",
      "print \"total mechanical power developed=\",pm,\"W\"\n"
     ],
     "language": "python",
     "metadata": {},
     "outputs": [
      {
       "output_type": "stream",
       "stream": "stdout",
       "text": [
        "excitation emf= 495.407915636 V\n",
        "total mechanical power developed= 44844.4875189 W\n"
       ]
      }
     ],
     "prompt_number": 206
    },
    {
     "cell_type": "heading",
     "level": 2,
     "metadata": {},
     "source": [
      "Example Number 38.27, Page Number:1519"
     ]
    },
    {
     "cell_type": "code",
     "collapsed": false,
     "input": [
      "import math\n",
      "import scipy\n",
      "from sympy.solvers import solve\n",
      "from sympy import Symbol\n",
      "#variable declaration\n",
      "v=6600.0#V\n",
      "xs=20.0#ohm\n",
      "inpt=1000.0#kW\n",
      "pf=0.8\n",
      "inpt2=1500.0#kW\n",
      "phi2=Symbol('phi2')\n",
      "#calculations\n",
      "vp=v/math.sqrt(3)\n",
      "ia=inpt*1000/(math.sqrt(3)*v*pf)\n",
      "theta=math.radians(90)\n",
      "er=ia*xs\n",
      "zs=xs\n",
      "phi=math.acos(pf)\n",
      "eb=math.sqrt(vp**2+er**2-(2*vp*er*math.cos(theta+phi)))\n",
      "alpha=math.asin(inpt2*1000*zs/(3*eb*vp))\n",
      "#vp/eb=cos(alpha+phi2)/cos(phi2)\n",
      "#solving we get\n",
      "phi2=math.radians(19.39)\n",
      "pf=math.cos(phi2)\n",
      "#result\n",
      "print \"new power factor=\",pf\n"
     ],
     "language": "python",
     "metadata": {},
     "outputs": [
      {
       "output_type": "stream",
       "stream": "stdout",
       "text": [
        "new power factor= 0.943280616635\n"
       ]
      }
     ],
     "prompt_number": 228
    },
    {
     "cell_type": "heading",
     "level": 2,
     "metadata": {},
     "source": [
      "Example Number 38.28, Page Number:1519"
     ]
    },
    {
     "cell_type": "code",
     "collapsed": false,
     "input": [
      "import math\n",
      "#variable declaration\n",
      "v=400#V\n",
      "x=4#ohms/phase\n",
      "r=0.5#ohms/phase\n",
      "ia=60#A\n",
      "pf=0.866\n",
      "loss=2#kW\n",
      "\n",
      "#calculations\n",
      "vp=v/math.sqrt(3)\n",
      "zs=abs(complex(r,x))\n",
      "phi=math.acos(pf)\n",
      "iazs=ia*zs\n",
      "theta=math.atan(x/r)\n",
      "eb=math.sqrt(vp**2+iazs**2-(2*vp*iazs*math.cos(theta+phi)))\n",
      "pm_max=(eb*vp/zs)-(eb**2*r/zs**2)\n",
      "pm=3*pm_max\n",
      "output=pm-loss*1000\n",
      "\n",
      "#result\n",
      "print \"maximum power output=\",output/1000,\"kW\""
     ],
     "language": "python",
     "metadata": {},
     "outputs": [
      {
       "output_type": "stream",
       "stream": "stdout",
       "text": [
        "maximum power output= 51.3898913442 kW\n"
       ]
      }
     ],
     "prompt_number": 229
    },
    {
     "cell_type": "heading",
     "level": 2,
     "metadata": {},
     "source": [
      "Example Number 38.29, Page Number:1519"
     ]
    },
    {
     "cell_type": "code",
     "collapsed": false,
     "input": [
      "import math\n",
      "#variable declaration\n",
      "z=10#ohm\n",
      "x=0.5#ohm\n",
      "v=2000#V\n",
      "f=25#Hz\n",
      "eb=1600#V\n",
      "\n",
      "#calculations\n",
      "pf=x/z\n",
      "pm_max=(eb*v/z)-(eb**2*pf/zs)\n",
      "ns=120*f/6\n",
      "tg_max=9.55*pm_max/ns\n",
      "\n",
      "#result\n",
      "print \"maximum total torque=\",tg_max,\"N-m\""
     ],
     "language": "python",
     "metadata": {},
     "outputs": [
      {
       "output_type": "stream",
       "stream": "stdout",
       "text": [
        "maximum total torque= 5505.51976175 N-m\n"
       ]
      }
     ],
     "prompt_number": 231
    },
    {
     "cell_type": "heading",
     "level": 2,
     "metadata": {},
     "source": [
      "Example Number 38.30, Page Number:1520"
     ]
    },
    {
     "cell_type": "code",
     "collapsed": false,
     "input": [
      "import math\n",
      "#variabke declaration\n",
      "v=2000#V\n",
      "n=1500#rpm\n",
      "x=3#ohm/phase\n",
      "ia=200#A\n",
      "\n",
      "#calculations\n",
      "eb=vp=v/math.sqrt(3)\n",
      "zs=ia*x\n",
      "sinphi=(eb**2-vp**2-zs**2)/(2*zs*vp)\n",
      "phi=math.asin(sinphi)\n",
      "pf=math.cos(phi)\n",
      "pi=math.sqrt(3)*v*ia*pf/1000\n",
      "tg=9.55*pi*1000/n\n",
      "\n",
      "#result\n",
      "print \"power input=\",pi,\"kW\"\n",
      "print \"power factor=\",pf\n",
      "print \"torque=\",tg,\"N-m\""
     ],
     "language": "python",
     "metadata": {},
     "outputs": [
      {
       "output_type": "stream",
       "stream": "stdout",
       "text": [
        "power input= 669.029147347 kW\n",
        "power factor= 0.965660395791\n",
        "torque= 4259.48557144 N-m\n"
       ]
      }
     ],
     "prompt_number": 234
    },
    {
     "cell_type": "heading",
     "level": 2,
     "metadata": {},
     "source": [
      "Example Number 38.31, Page Number:1520"
     ]
    },
    {
     "cell_type": "code",
     "collapsed": false,
     "input": [
      "import math\n",
      "#variable declaration\n",
      "v=3300#V\n",
      "r=2#ohm\n",
      "x=18#ohm\n",
      "e=3800#V\n",
      "\n",
      "#calculations\n",
      "theta=math.atan(x/r)\n",
      "vp=v/math.sqrt(3)\n",
      "eb=e/math.sqrt(3)\n",
      "alpha=theta\n",
      "er=math.sqrt(vp**2+eb**2-(2*vp*eb*math.cos(theta)))\n",
      "zs=math.sqrt(r**2+x**2)\n",
      "ia=er/zs\n",
      "pm_max=((eb*vp/zs)-(eb**2*r/zs**2))*3\n",
      "cu_loss=3*ia**2*r\n",
      "input_m=pm_max+cu_loss\n",
      "pf=input_m/(math.sqrt(3)*v*ia)\n",
      "\n",
      "#result\n",
      "print \"maximum total mechanical power=\",pm_max,\"W\"\n",
      "print \"current=\",ia,\"A\"\n",
      "print \"pf=\",pf\n"
     ],
     "language": "python",
     "metadata": {},
     "outputs": [
      {
       "output_type": "stream",
       "stream": "stdout",
       "text": [
        "maximum total mechanical power= 604356.888001 W\n",
        "current= 151.417346198 A\n",
        "pf= 0.857248980398\n"
       ]
      }
     ],
     "prompt_number": 235
    },
    {
     "cell_type": "heading",
     "level": 2,
     "metadata": {},
     "source": [
      "Example Number 38.32, Page Number:1521"
     ]
    },
    {
     "cell_type": "code",
     "collapsed": false,
     "input": [
      "import math\n",
      "#variable declaration\n",
      "v=415#V\n",
      "e=520#V\n",
      "z=complex(0.5,4)\n",
      "loss=1000#W\n",
      "\n",
      "#calculations\n",
      "theta=math.atan(z.imag/z.real)\n",
      "er=math.sqrt(v**2+e**2-(2*v*e*math.cos(theta)))\n",
      "zs=abs(z)\n",
      "i=er/zs\n",
      "il=math.sqrt(3)*i\n",
      "pm_max=((e*v/zs)-(e**2*z.real/zs**2))*3\n",
      "output=pm_max-loss\n",
      "cu_loss=3*i**2*z.real\n",
      "input_m=pm_max+cu_loss\n",
      "pf=input_m/(math.sqrt(3)*il*v)\n",
      "efficiency=output/input_m\n",
      "\n",
      "#result\n",
      "print \"power output=\",output/1000,\"kW\"\n",
      "print \"line current=\",il,\"A\"\n",
      "print \"power factor=\",pf\n",
      "print \"efficiency=\",efficiency*100,\"%\""
     ],
     "language": "python",
     "metadata": {},
     "outputs": [
      {
       "output_type": "stream",
       "stream": "stdout",
       "text": [
        "power output= 134.640174346 kW\n",
        "line current= 268.015478962 A\n",
        "power factor= 0.890508620247\n",
        "efficiency= 78.4816159071 %\n"
       ]
      }
     ],
     "prompt_number": 240
    },
    {
     "cell_type": "heading",
     "level": 2,
     "metadata": {},
     "source": [
      "Example Number 38.33, Page Number:1524"
     ]
    },
    {
     "cell_type": "code",
     "collapsed": false,
     "input": [
      "import math\n",
      "#variable declaration\n",
      "v=400#V\n",
      "inpt=37.3#kW\n",
      "efficiency=0.88\n",
      "z=complex(0.2,1.6)\n",
      "pf=0.9\n",
      "\n",
      "#calculations\n",
      "vp=v/math.sqrt(3)\n",
      "zs=abs(z)\n",
      "il=inpt*1000/(math.sqrt(3)*v*efficiency*pf)\n",
      "izs=zs*il\n",
      "theta=math.atan(z.imag/z.real)\n",
      "phi=math.acos(pf)\n",
      "eb=math.sqrt(vp**2+izs**2-(2*vp*izs*math.cos(theta+phi)))\n",
      "input_m=inpt*1000/efficiency\n",
      "cu_loss=3*il**2*z.real\n",
      "pm=input_m-cu_loss\n",
      "\n",
      "#result\n",
      "print \"induced emf=\",eb*math.sqrt(3),\"V\"\n",
      "print \"total mechanical power=\",pm/1000,\"kW\""
     ],
     "language": "python",
     "metadata": {},
     "outputs": [
      {
       "output_type": "stream",
       "stream": "stdout",
       "text": [
        "induced emf= 494.75258624 V\n",
        "total mechanical power= 39.6138268735 kW\n"
       ]
      }
     ],
     "prompt_number": 243
    },
    {
     "cell_type": "heading",
     "level": 2,
     "metadata": {},
     "source": [
      "Example Number 38.34, Page Number:1525"
     ]
    },
    {
     "cell_type": "code",
     "collapsed": false,
     "input": [
      "import math\n",
      "#variable declaration\n",
      "inpt=48#kW\n",
      "v=693#V\n",
      "pf=0.8\n",
      "ratio=0.3\n",
      "x=2#W/phase\n",
      "\n",
      "#calculations\n",
      "il=inpt*1000/(math.sqrt(3)*v*pf)\n",
      "vp=v/math.sqrt(3)\n",
      "zs=x\n",
      "izs=zs*il\n",
      "theta=math.atan(float(\"inf\"))\n",
      "phi=math.acos(pf)\n",
      "eb=math.sqrt(vp**2+izs**2-(2*vp*izs*math.cos(theta-phi)))\n",
      "i_cosphi=pf*il\n",
      "bc=i_cosphi*x\n",
      "eb=eb+(ratio*eb)\n",
      "ac=math.sqrt(eb**2-bc**2)\n",
      "oc=ac-vp\n",
      "phi2=math.atan(oc/bc)\n",
      "pf=math.cos(phi2)\n",
      "i2=i_cosphi/pf\n",
      "\n",
      "#result\n",
      "print \"current=\",i2,\"A\"\n",
      "print \"pf=\",pf"
     ],
     "language": "python",
     "metadata": {},
     "outputs": [
      {
       "output_type": "stream",
       "stream": "stdout",
       "text": [
        "current= 46.3871111945 A\n",
        "pf= 0.862084919821\n"
       ]
      }
     ],
     "prompt_number": 251
    },
    {
     "cell_type": "heading",
     "level": 2,
     "metadata": {},
     "source": [
      "Example Number 38.35, Page Number:1526"
     ]
    },
    {
     "cell_type": "code",
     "collapsed": false,
     "input": [
      "import math\n",
      "#variable declaration\n",
      "load=60.0#kW\n",
      "inpt=240.0#kW\n",
      "pf=0.8\n",
      "pf2=0.9\n",
      "\n",
      "#calculations\n",
      "total_load=inpt+load\n",
      "phi=math.acos(pf2)\n",
      "kVAR=total_load*math.tan(phi)\n",
      "#factory load\n",
      "phil=math.acos(pf)\n",
      "kVAR=inpt*math.tan(phil)\n",
      "kVA=inpt/pf\n",
      "kVAR1=total_load*math.sin(phil)\n",
      "lead_kVAR=kVAR1-kVAR\n",
      "#synchronous motor\n",
      "phim=math.atan(lead_kVAR/load)\n",
      "motorpf=math.cos(phim)\n",
      "motorkVA=math.sqrt(load**2+lead_kVAR**2)\n",
      "\n",
      "#result\n",
      "print \"leading kVAR supplied by the motor=\",motorkVA\n",
      "print \"pf=\",pf"
     ],
     "language": "python",
     "metadata": {},
     "outputs": [
      {
       "output_type": "stream",
       "stream": "stdout",
       "text": [
        "leading kVAR supplied by the motor= 60.0\n",
        "pf= 0.8\n"
       ]
      }
     ],
     "prompt_number": 253
    },
    {
     "cell_type": "code",
     "collapsed": false,
     "input": [],
     "language": "python",
     "metadata": {},
     "outputs": []
    }
   ],
   "metadata": {}
  }
 ]
}