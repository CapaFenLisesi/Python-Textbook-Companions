{
 "metadata": {
  "name": "",
  "signature": "sha256:02fdabadd118404eca71c942f203b8c36bfc89b9baf1e3f2f8e7065ab9807edb"
 },
 "nbformat": 3,
 "nbformat_minor": 0,
 "worksheets": [
  {
   "cells": [
    {
     "cell_type": "heading",
     "level": 1,
     "metadata": {},
     "source": [
      "Chapter 31: Testing of DC Machines"
     ]
    },
    {
     "cell_type": "heading",
     "level": 2,
     "metadata": {},
     "source": [
      "Example Number 31.1, Page Number:1092"
     ]
    },
    {
     "cell_type": "code",
     "collapsed": false,
     "input": [
      "#variable declaration\n",
      "l=38.1#kg\n",
      "d=63.53*0.01#cm\n",
      "v=12#rps\n",
      "i=49#A\n",
      "V=220#V\n",
      "\n",
      "#calculations\n",
      "r=d/2\n",
      "torque=l*r*9.81\n",
      "power=torque*2*3.14*v\n",
      "motor_input=i*V\n",
      "efficiency=power*100/motor_input\n",
      "\n",
      "#result\n",
      "print \"Output power=\",round(power),\"W\"\n",
      "print \"Efficiency=\",round(efficiency),\"%\""
     ],
     "language": "python",
     "metadata": {},
     "outputs": [
      {
       "output_type": "stream",
       "stream": "stdout",
       "text": [
        "Output power= 8947.0 W\n",
        "Efficiency= 83.0 %\n"
       ]
      }
     ],
     "prompt_number": 1
    },
    {
     "cell_type": "heading",
     "level": 2,
     "metadata": {},
     "source": [
      "Example Number 31.2(a), Page Number:1093"
     ]
    },
    {
     "cell_type": "code",
     "collapsed": false,
     "input": [
      "#variable declaration\n",
      "spring_b1=10.0#kg\n",
      "spring_b2=35.0#kg\n",
      "d=40*0.01#m\n",
      "v=950.0#rpm\n",
      "V=200.0#V\n",
      "i=30.0#A\n",
      "\n",
      "#calculations\n",
      "F=(spring_b2-spring_b1)*9.81\n",
      "N=v/60\n",
      "R=d/2\n",
      "tsh=F*R\n",
      "omega=2*3.14*N\n",
      "output=tsh*omega\n",
      "motor_input=V*i\n",
      "efficiency=output/motor_input\n",
      "\n",
      "#result\n",
      "print \"output power=\",output,\"W\"\n",
      "print \"efficiency=\",efficiency*100,\"%\""
     ],
     "language": "python",
     "metadata": {},
     "outputs": [
      {
       "output_type": "stream",
       "stream": "stdout",
       "text": [
        "output power= 4877.205 W\n",
        "efficiency= 81.28675 %\n"
       ]
      }
     ],
     "prompt_number": 9
    },
    {
     "cell_type": "heading",
     "level": 2,
     "metadata": {},
     "source": [
      "Example Number 31.2(b), Page Number:1093"
     ]
    },
    {
     "cell_type": "code",
     "collapsed": false,
     "input": [
      "#variable declaration\n",
      "t1=2.9#kg\n",
      "t2=0.17#kg\n",
      "r=7*0.01#m\n",
      "i=2.0#A\n",
      "V=230.0#V\n",
      "n=1500.0#rpm\n",
      "\n",
      "#calculations\n",
      "force=(t1-t2)*9.81\n",
      "torque=force*r\n",
      "output=torque*2*3.14*n/60\n",
      "efficiency=output/(V*i)\n",
      "\n",
      "#result\n",
      "print \"torque=\",torque,\"N-m\"\n",
      "print \"output\",output,\"W\"\n",
      "print \"efficiency\",efficiency*100,\"%\""
     ],
     "language": "python",
     "metadata": {},
     "outputs": [
      {
       "output_type": "stream",
       "stream": "stdout",
       "text": [
        "torque= 1.874691 N-m\n",
        "output 294.326487 W\n",
        "efficiency 63.984018913 %\n"
       ]
      }
     ],
     "prompt_number": 15
    },
    {
     "cell_type": "heading",
     "level": 2,
     "metadata": {},
     "source": [
      "Example Number 31.3, Page Number:1095"
     ]
    },
    {
     "cell_type": "code",
     "collapsed": false,
     "input": [
      "#variable declaration\n",
      "V=220.0#V\n",
      "i=2.5#A\n",
      "ra=0.8#ohm\n",
      "rsh=200.0#ohm\n",
      "I=20.0#A\n",
      "\n",
      "#calculations\n",
      "input_noload=V*i\n",
      "ish=V/rsh\n",
      "ia0=i-ish\n",
      "culoss=ia0**2*ra\n",
      "constant_loss=input_noload-culoss\n",
      "ia=32-ish\n",
      "cu_lossa=ia**2*ra\n",
      "total_loss=cu_lossa+constant_loss\n",
      "input_=V*I\n",
      "output=input_-total_loss\n",
      "efficiency=(output/input_)*100\n",
      "\n",
      "#result\n",
      "print \"Efficiency=\",efficiency,\"%\""
     ],
     "language": "python",
     "metadata": {},
     "outputs": [
      {
       "output_type": "stream",
       "stream": "stdout",
       "text": [
        "Efficiency= 70.1754545455 %\n"
       ]
      }
     ],
     "prompt_number": 22
    },
    {
     "cell_type": "heading",
     "level": 2,
     "metadata": {},
     "source": [
      "Example Number 31.4, Page Number:1096"
     ]
    },
    {
     "cell_type": "code",
     "collapsed": false,
     "input": [
      "import math\n",
      "#variable declaration\n",
      "V=400.0#V\n",
      "i=5.0#A\n",
      "ra=0.5#ohm\n",
      "r=200.0#ohm\n",
      "I=50.0#A\n",
      "\n",
      "#calculations\n",
      "input_nl=V*i\n",
      "ish=V/r\n",
      "ia=i-ish\n",
      "cu_loss=ia**2*ra\n",
      "constant_loss=input_nl-cu_loss\n",
      "Ia=I-ish\n",
      "cu_lossa=Ia**2*ra\n",
      "total_loss=constant_loss+cu_lossa\n",
      "input_nl1=V*I\n",
      "output=input_nl1-total_loss\n",
      "efficiency=output/input_nl\n",
      "Eb1=V-(ia*ra)\n",
      "Eb2=V-(Ia*ra)\n",
      "change=math.fabs((Eb1-Eb2)/Eb1)\n",
      "\n",
      "#result\n",
      "print \"output=\",output,\"W\"\n",
      "print \"efficiency=\",efficiency*10,\"%\"\n",
      "print \"percentage change in speed=\",change*100,\"%\"\n"
     ],
     "language": "python",
     "metadata": {},
     "outputs": [
      {
       "output_type": "stream",
       "stream": "stdout",
       "text": [
        "output= 16852.5 W\n",
        "efficiency= 84.2625 %\n",
        "percentage change in speed= 5.64617314931 %\n"
       ]
      }
     ],
     "prompt_number": 38
    },
    {
     "cell_type": "heading",
     "level": 2,
     "metadata": {},
     "source": [
      "Example Number 31.8, Page Number:1098"
     ]
    },
    {
     "cell_type": "code",
     "collapsed": false,
     "input": [
      "#variable declaration\n",
      "p=200*1000.0#W\n",
      "v=250.0#V\n",
      "i1=36.0#A\n",
      "I1=12.0#A\n",
      "v1=250.0#V\n",
      "pd=6.0#V\n",
      "i2=400.0#A\n",
      "\n",
      "#calculations\n",
      "#no load\n",
      "ia=i1-I1\n",
      "ra=pd/i2\n",
      "cu_loss=ia**2*ra\n",
      "input_nl=v*i1\n",
      "constant_loss=input_nl-cu_loss\n",
      "\n",
      "#full load\n",
      "output_i=p/v\n",
      "ia=output_i+I1\n",
      "cu_lossa=ia**2*ra\n",
      "total_loss=cu_lossa+constant_loss\n",
      "efficiency=p/(p+total_loss)\n",
      "#result\n",
      "print \"efficiency at full load=\",efficiency*100,\"%\"\n",
      "\n",
      "#half load\n",
      "output_i=p/(2*v)\n",
      "ia=output_i+I1\n",
      "cu_lossa=ia**2*ra\n",
      "total_loss=cu_lossa+constant_loss\n",
      "efficiency=p/((p/2+total_loss)*2)\n",
      "\n",
      "#result\n",
      "print \"efficiency at half load=\",efficiency*100,\"%\""
     ],
     "language": "python",
     "metadata": {},
     "outputs": [
      {
       "output_type": "stream",
       "stream": "stdout",
       "text": [
        "efficiency at full load= 91.3736344667 %\n",
        "efficiency at half load= 89.6559292335 %\n"
       ]
      }
     ],
     "prompt_number": 42
    },
    {
     "cell_type": "heading",
     "level": 2,
     "metadata": {},
     "source": [
      "Example Number 31.9, Page Number:1098"
     ]
    },
    {
     "cell_type": "code",
     "collapsed": false,
     "input": [
      "#variable declaration\n",
      "v=250.0#V\n",
      "p=14.92*1000#W\n",
      "e=0.88\n",
      "n=700.0#rpn\n",
      "rsh=100.0#ohm\n",
      "i=78.0#A\n",
      "\n",
      "#calculations\n",
      "input_=0.8*p/e\n",
      "total_loss=input_-0.8*p\n",
      "input_i=input_/v\n",
      "ish=v/rsh\n",
      "ia=input_i-ish\n",
      "ra=total_loss/(2*(ia**2))\n",
      "Ia=i-ish\n",
      "total_loss2=Ia**2*ra+total_loss/2\n",
      "input__=v*i\n",
      "efficiency=(input__-total_loss2)*100/input__\n",
      "Eb1=v-(ia*ra)\n",
      "Eb2=v-(Ia*ra)\n",
      "n2=(n*Eb2)/Eb1\n",
      "\n",
      "#result\n",
      "print \"efficiency=\",efficiency,\"%\"\n",
      "print \"speed=\",n2,\"r.p.m\""
     ],
     "language": "python",
     "metadata": {},
     "outputs": [
      {
       "output_type": "stream",
       "stream": "stdout",
       "text": [
        "efficiency= 86.9450046554 %\n",
        "speed= 678.443304738 r.p.m\n"
       ]
      }
     ],
     "prompt_number": 48
    },
    {
     "cell_type": "heading",
     "level": 2,
     "metadata": {},
     "source": [
      "Example Number 31.10(a), Page Number:1101"
     ]
    },
    {
     "cell_type": "code",
     "collapsed": false,
     "input": [
      "import math\n",
      "#variable declaration\n",
      "v=220.0#V\n",
      "p=100*1000.0#W\n",
      "i2=90.0#A\n",
      "\n",
      "#calculations\n",
      "i1=p/v\n",
      "efficiency=math.sqrt(i1/(i1+i2))*100\n",
      "\n",
      "#result\n",
      "print \"efficiency=\",round(efficiency,1),\"%\""
     ],
     "language": "python",
     "metadata": {},
     "outputs": [
      {
       "output_type": "stream",
       "stream": "stdout",
       "text": [
        "efficiency= 91.4 %\n"
       ]
      }
     ],
     "prompt_number": 2
    },
    {
     "cell_type": "heading",
     "level": 2,
     "metadata": {},
     "source": [
      "Example Number 31.11, Page Number:1102"
     ]
    },
    {
     "cell_type": "code",
     "collapsed": false,
     "input": [
      "#variable declaration\n",
      "i=15#A\n",
      "v=200#V\n",
      "motor_i=100#A\n",
      "shunt_i1=3#A\n",
      "shunt_i2=2.5#A\n",
      "ra=0.05#ohm\n",
      "cu_loss=500#W\n",
      "cu_lossa=361#W\n",
      "ia=85#A\n",
      "#calculations\n",
      "mech_core_stray_loss=0.5*((v*i)-(motor_i**2*ra)-(ia**2*ra))\n",
      "cu_motor=v*shunt_i1\n",
      "generator_motor=v*shunt_i2\n",
      "total_loss=mech_core_stray_loss+cu_motor+generator_motor\n",
      "input_=v*i+cu_motor\n",
      "output=v*ia*10**(-3)\n",
      "loss=cu_loss*10**(-3)+1.07+0.36\n",
      "efficiency=output*100/(output+loss)\n",
      "\n",
      "#result\n",
      "print \"eficiency=\",efficiency,\"%\""
     ],
     "language": "python",
     "metadata": {},
     "outputs": [
      {
       "output_type": "stream",
       "stream": "stdout",
       "text": [
        "eficiency= 89.8045430534 %\n"
       ]
      }
     ],
     "prompt_number": 52
    },
    {
     "cell_type": "heading",
     "level": 2,
     "metadata": {},
     "source": [
      "Example Number 31.12, Page Number:1103"
     ]
    },
    {
     "cell_type": "code",
     "collapsed": false,
     "input": [
      "#variable declaration\n",
      "v=110#V\n",
      "i=48#A\n",
      "i1=3#a\n",
      "i2=3.5#A\n",
      "motor_i=230#A\n",
      "ra=0.035#ohm\n",
      "\n",
      "#calculations\n",
      "#motor\n",
      "cu_loss=motor_i**2*ra\n",
      "brush_loss=motor_i*2\n",
      "totalarm_culoss=cu_loss+brush_loss\n",
      "shunt_cu=v*i1\n",
      "total_cu_lossm=totalarm_culoss+shunt_cu\n",
      "#generator\n",
      "arm_i=233-i+i2\n",
      "cu_loss=arm_i**2*ra\n",
      "brush_loss=arm_i*2\n",
      "totalarm_culoss=cu_loss+brush_loss\n",
      "shunt_cu=v*i2\n",
      "total_cu_lossg=totalarm_culoss+shunt_cu\n",
      "#set\n",
      "totalcu_loss=total_cu_lossm+total_cu_lossg\n",
      "total_input=v*i\n",
      "stray_loss=total_input-totalcu_loss\n",
      "strayloss_per=stray_loss/2\n",
      "#motor efficiency\n",
      "input_=233*v\n",
      "output=input_-(total_cu_lossm+strayloss_per)\n",
      "e=output/input_*100\n",
      "print \"motor efficiency=\",e,\"%\"\n",
      "#generator efficiency\n",
      "input_=110*185\n",
      "output=input_-(total_cu_lossg+strayloss_per)\n",
      "e=output/input_*100\n",
      "100\n",
      "print \"generator efficiency=\",e,\"%\""
     ],
     "language": "python",
     "metadata": {},
     "outputs": [
      {
       "output_type": "stream",
       "stream": "stdout",
       "text": [
        "motor efficiency= 88.4590884705 %\n",
        "generator efficiency= 88.5893642506 %\n"
       ]
      }
     ],
     "prompt_number": 56
    },
    {
     "cell_type": "heading",
     "level": 2,
     "metadata": {},
     "source": [
      "Example Number 31.13, Page Number:1103"
     ]
    },
    {
     "cell_type": "code",
     "collapsed": false,
     "input": [
      "#variable series\n",
      "v=500.0#A\n",
      "p=100*1000.0#w\n",
      "auxiliary_i=30.0#A\n",
      "output_i=200.0#A\n",
      "i1=3.5#A\n",
      "i2=1.8#A\n",
      "ra=0.075#ohm\n",
      "vdb=2.0#V\n",
      "\n",
      "#calculations\n",
      "motor_arm=output_i+auxiliary_i\n",
      "motorarm_culoss=(motor_arm**2*ra)+(motor_arm*2)\n",
      "motorfield_culoss=v*i2\n",
      "generatorarm_culoss=(output_i**2*ra)+(output_i*2)\n",
      "generatoefield_culoss=v*i1\n",
      "total_culoss=motorarm_culoss+motorfield_culoss+generatorarm_culoss+generatoefield_culoss\n",
      "power=v*auxiliary_i\n",
      "stray_loss=power-total_culoss\n",
      "permachine=stray_loss/2\n",
      "total_loss=generatorarm_culoss+generatoefield_culoss+permachine\n",
      "output=v*output_i\n",
      "e=output/(output+total_loss)\n",
      "\n",
      "#result\n",
      "print \"efficiency=\",e*100,\"%\""
     ],
     "language": "python",
     "metadata": {},
     "outputs": [
      {
       "output_type": "stream",
       "stream": "stdout",
       "text": [
        "efficiency= 93.1001175389 %\n"
       ]
      }
     ],
     "prompt_number": 58
    },
    {
     "cell_type": "heading",
     "level": 2,
     "metadata": {},
     "source": [
      "Example Number 31.14, Page Number:1104"
     ]
    },
    {
     "cell_type": "code",
     "collapsed": false,
     "input": [
      "#variable declaration\n",
      "v=250.0#V\n",
      "i=50.0#A\n",
      "motor_i=400.0#A\n",
      "i1=6.0#A\n",
      "i2=5.0#A\n",
      "ra=0.015#ohm\n",
      "\n",
      "#calculations\n",
      "motora_culoss=motor_i**2*ra\n",
      "generatora_culoss=(motor_i-i)**2*ra\n",
      "power=v*i\n",
      "stray_loss=power-(motora_culoss+generatora_culoss)\n",
      "permachine=stray_loss/2\n",
      "#motor\n",
      "total_motor_loss=motora_culoss+(v*i2)+permachine\n",
      "motor_input=(v*motor_i)+v*i2\n",
      "motor_e=(motor_input-total_motor_loss)/motor_input\n",
      "\n",
      "#generator\n",
      "total_gen_loss=generatora_culoss+(v*i1)+permachine\n",
      "gen_output=v*(motor_i-i)\n",
      "gen_e=(gen_output-total_gen_loss)/gen_output\n",
      "\n",
      "#result\n",
      "print \"motor efficiency=\",motor_e*100,\"%\"\n",
      "print \"generator efficiency\",gen_e*100,\"%\""
     ],
     "language": "python",
     "metadata": {},
     "outputs": [
      {
       "output_type": "stream",
       "stream": "stdout",
       "text": [
        "motor efficiency= 92.3148148148 %\n",
        "generator efficiency 91.4642857143 %\n"
       ]
      }
     ],
     "prompt_number": 77
    },
    {
     "cell_type": "heading",
     "level": 2,
     "metadata": {},
     "source": [
      "Example Number 31.15, Page Number:1105"
     ]
    },
    {
     "cell_type": "code",
     "collapsed": false,
     "input": [
      "#variable declaration\n",
      "v=250.0#V\n",
      "i=50.0#A\n",
      "ia=380.0#A\n",
      "i1=5.0#A\n",
      "i2=4.2#A\n",
      "ra=0.2#ohm\n",
      "\n",
      "#calculations\n",
      "motora_culoss=ia**2*ra\n",
      "generatora_culoss=(ia-i)**2*ra\n",
      "power=v*i\n",
      "stray_loss=power-(motora_culoss+generatora_culoss)\n",
      "permachine=stray_loss/2\n",
      "#motor\n",
      "total_motor_loss=motora_culoss+(v*i2)+permachine\n",
      "motor_input=(v*ia)+v*i2\n",
      "motor_e=(motor_input-total_motor_loss)/motor_input\n",
      "\n",
      "#generator\n",
      "total_gen_loss=generatora_culoss+(v*i1)+permachine\n",
      "gen_output=v*(ia-i)\n",
      "gen_e=(gen_output-total_gen_loss)/gen_output\n",
      "\n",
      "#result\n",
      "print \"motor efficiency=\",motor_e*100,\"%\"\n",
      "print \"generator efficiency\",gen_e*100,\"%\""
     ],
     "language": "python",
     "metadata": {},
     "outputs": [
      {
       "output_type": "stream",
       "stream": "stdout",
       "text": [
        "motor efficiency= 88.7038001041 %\n",
        "generator efficiency 95.2121212121 %\n"
       ]
      }
     ],
     "prompt_number": 81
    },
    {
     "cell_type": "heading",
     "level": 2,
     "metadata": {},
     "source": [
      "Example Number 31.16, Page Number:1107"
     ]
    },
    {
     "cell_type": "code",
     "collapsed": false,
     "input": [
      "#variable declaration\n",
      "v=220.0#V\n",
      "v2=190.0#V\n",
      "t=30#sec\n",
      "t2=20#sec\n",
      "i=20.0#A\n",
      "\n",
      "#calculations\n",
      "avg_v=(v+v2)/2\n",
      "avg_i=i/2\n",
      "power=avg_v*avg_i\n",
      "W=power*(t2/(t-t2))\n",
      "\n",
      "#result\n",
      "print \"Stray loss=\",W,\"W\""
     ],
     "language": "python",
     "metadata": {},
     "outputs": [
      {
       "output_type": "stream",
       "stream": "stdout",
       "text": [
        "Stray loss= 4100.0 W\n"
       ]
      }
     ],
     "prompt_number": 85
    },
    {
     "cell_type": "heading",
     "level": 2,
     "metadata": {},
     "source": [
      "Example Number 31.17, Page Number:1107"
     ]
    },
    {
     "cell_type": "code",
     "collapsed": false,
     "input": [
      "#variabledeclaration\n",
      "n1=1525.0#rpm\n",
      "n2=1475.0#ohm\n",
      "dt=25.0#sec\n",
      "p=1000.0#W\n",
      "t2=20.0#sec\n",
      "\n",
      "#calculations\n",
      "N=(n1+n2)/2\n",
      "w=p*(t2/(dt-t2))\n",
      "dN=n1-n2\n",
      "I=(w*dt)/((2*3.14/60)**2*N*dN)\n",
      "\n",
      "#result\n",
      "print \"Moment of Inertia=\",I,\"kg-m2\"\n"
     ],
     "language": "python",
     "metadata": {},
     "outputs": [
      {
       "output_type": "stream",
       "stream": "stdout",
       "text": [
        "Moment of Inertia= 121.708791432 kg-m2\n"
       ]
      }
     ],
     "prompt_number": 3
    },
    {
     "cell_type": "heading",
     "level": 2,
     "metadata": {},
     "source": [
      "Example Number 31.18, Page Number:1108"
     ]
    },
    {
     "cell_type": "code",
     "collapsed": false,
     "input": [
      "#variable declaration\n",
      "v=240.0#V\n",
      "v2=225.0#V\n",
      "dt=25.0#sec\n",
      "t2=6.0#ohm\n",
      "iavg=10.0#A\n",
      "i2=25.0#A\n",
      "v3=250.0#V\n",
      "ra=0.4#ohm\n",
      "r=250.0#ohm\n",
      "\n",
      "#calculations\n",
      "avg_v=(v+v2)/2\n",
      "w_=avg_v*iavg\n",
      "W=w_*(t2/(dt-t2))\n",
      "ish=v3/r\n",
      "ia=i2-ish\n",
      "cu_loss=ia**2*ra\n",
      "cu_shunt=v3*ia\n",
      "total_loss=W+cu_loss+v3\n",
      "e=((v*i2)-total_loss)/(v*i2)\n",
      "\n",
      "#result\n",
      "print \"efficiency=\",e*100,\"%\""
     ],
     "language": "python",
     "metadata": {},
     "outputs": [
      {
       "output_type": "stream",
       "stream": "stdout",
       "text": [
        "734.210526316\n",
        "efficiency= 79.7564912281 %\n"
       ]
      }
     ],
     "prompt_number": 97
    },
    {
     "cell_type": "heading",
     "level": 2,
     "metadata": {},
     "source": [
      "Example Number 31.19, Page Number:1108"
     ]
    },
    {
     "cell_type": "code",
     "collapsed": false,
     "input": [
      "#variable declaration\n",
      "n=1000#rpm\n",
      "n1=1030#rpm\n",
      "n2=970#rpm\n",
      "t1=36#sec\n",
      "t2=15#sec\n",
      "t3=9#sec\n",
      "i=10#A\n",
      "v=219#V\n",
      "\n",
      "#calculations\n",
      "W=v*i*(t2/(dt-t2))\n",
      "dN=n1-n2\n",
      "I=(W*t2)/((2*3.14/60)**2*n*dN)\n",
      "Wm=W*t2/t1\n",
      "iron_loss=W-Wm\n",
      "\n",
      "#result\n",
      "print \"i)moment of inertia=\",I,\"kg.m2\"\n",
      "print \"ii)iron loss=\",iron_loss,\"W\"\n",
      "print \"iii)mechanical losses=\",Wm,\"W\""
     ],
     "language": "python",
     "metadata": {},
     "outputs": [
      {
       "output_type": "stream",
       "stream": "stdout",
       "text": [
        "i)moment of inertia= 74.9650087225 kg.m2\n",
        "ii)iron loss= 1916.25 W\n",
        "iii)mechanical losses= 1368.75 W\n"
       ]
      }
     ],
     "prompt_number": 99
    },
    {
     "cell_type": "heading",
     "level": 2,
     "metadata": {},
     "source": [
      "Example Number 31.20, Page Number:1110"
     ]
    },
    {
     "cell_type": "code",
     "collapsed": false,
     "input": [
      "#variable declaration\n",
      "iam=56.0#A\n",
      "vam=590.0#V\n",
      "vdm=40.0#V\n",
      "iag=44.0#A\n",
      "vag=400.0#V\n",
      "vdg=40.0#V\n",
      "r=0.3#ohm\n",
      "\n",
      "#calculations\n",
      "input_total=(vdm+vam)*iam\n",
      "output=vag*iag\n",
      "total_loss=input_total-output\n",
      "rse=vdg/iam\n",
      "cu_loss=((r+2*rse)*iam**2)+(iag**2*r)\n",
      "strayloss=total_loss-cu_loss\n",
      "permachine=strayloss/2\n",
      "#motor\n",
      "inputm=vam*iam\n",
      "culossm=(r+rse)*iam**2\n",
      "totallossm=culossm+permachine\n",
      "output=inputm-totallossm\n",
      "em=output*100/inputm\n",
      "#generator\n",
      "inputg=vag*iag\n",
      "culossg=(r)*iag**2\n",
      "totalloss=culossg+permachine+(vdm*iam)\n",
      "output=vag*iag\n",
      "eg=output*100/(output+totalloss)\n",
      "\n",
      "print \n",
      "#result\n",
      "print \"motor efficiency=\",em,\"%\"\n",
      "print \"generator efficiency=\",eg,\"%\"\n"
     ],
     "language": "python",
     "metadata": {},
     "outputs": [
      {
       "output_type": "stream",
       "stream": "stdout",
       "text": [
        "\n",
        "motor efficiency= 72.6997578692 %\n",
        "generator efficiency= 67.0220868241 %\n"
       ]
      }
     ],
     "prompt_number": 115
    }
   ],
   "metadata": {}
  }
 ]
}