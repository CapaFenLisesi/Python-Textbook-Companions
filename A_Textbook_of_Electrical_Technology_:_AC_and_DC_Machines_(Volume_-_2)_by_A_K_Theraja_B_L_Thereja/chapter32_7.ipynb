{
 "metadata": {
  "name": "",
  "signature": "sha256:69b299b5398cdb7b833f53d6a7d05a19c0a433537449ffb871db80e61817fe5c"
 },
 "nbformat": 3,
 "nbformat_minor": 0,
 "worksheets": [
  {
   "cells": [
    {
     "cell_type": "heading",
     "level": 1,
     "metadata": {},
     "source": [
      "Chapter 32: Transformer"
     ]
    },
    {
     "cell_type": "heading",
     "level": 2,
     "metadata": {},
     "source": [
      "Example Number 32.1, Page Number:1123"
     ]
    },
    {
     "cell_type": "code",
     "collapsed": false,
     "input": [
      "#variable declaration\n",
      "v1=250.0#V\n",
      "v2=3000.0#V\n",
      "f=50.0#Hz\n",
      "phi=1.2#Wb-m2\n",
      "e=8.0#V\n",
      "\n",
      "#calculations\n",
      "n1=v1/e\n",
      "n2=v2/e\n",
      "a=v2/(4.44*f*n2*phi)\n",
      "\n",
      "#result\n",
      "print \"primary turns=\",n1\n",
      "print \"secondary turns=\",n2\n",
      "print \"area of core=\",round(a,2),\"m2\""
     ],
     "language": "python",
     "metadata": {},
     "outputs": [
      {
       "output_type": "stream",
       "stream": "stdout",
       "text": [
        "primary turns= 31.25\n",
        "secondary turns= 375.0\n",
        "area of core= 0.03 m2\n"
       ]
      }
     ],
     "prompt_number": 1
    },
    {
     "cell_type": "heading",
     "level": 2,
     "metadata": {},
     "source": [
      "Example Number 32.2, Page Number:1123"
     ]
    },
    {
     "cell_type": "code",
     "collapsed": false,
     "input": [
      "#variable declaration\n",
      "load=100#KVA\n",
      "v1=11000#V\n",
      "v2=550#V\n",
      "f=50#Hz\n",
      "bm=1.3#Tesla\n",
      "sf=0.9\n",
      "per=10#%\n",
      "a=20*20*sf/10000#m2\n",
      "\n",
      "#calculation\n",
      "n1=v1/(4.44*f*bm*a)\n",
      "n2=v2/(4.44*f*bm*a)\n",
      "e_per_turn=v1/n1\n",
      "\n",
      "#result\n",
      "print \"HV TURNS=\",round(n1)\n",
      "print \"LV TURNS=\",round(n2)\n",
      "print \"EMF per turns=\",round(e_per_turn,1),\"V\""
     ],
     "language": "python",
     "metadata": {},
     "outputs": [
      {
       "output_type": "stream",
       "stream": "stdout",
       "text": [
        "HV TURNS= 1059.0\n",
        "LV TURNS= 53.0\n",
        "EMF per turns= 10.4 V\n"
       ]
      }
     ],
     "prompt_number": 4
    },
    {
     "cell_type": "heading",
     "level": 2,
     "metadata": {},
     "source": [
      "Example Number 32.3, Page Number:1123"
     ]
    },
    {
     "cell_type": "code",
     "collapsed": false,
     "input": [
      "#variable declaration\n",
      "n1=400.0\n",
      "n2=1000.0\n",
      "a=60.0/10000.0#cm2\n",
      "f=50.0#Hz\n",
      "e1=520.0#V\n",
      "\n",
      "#calculations\n",
      "k=n2/n1\n",
      "e2=k*e1\n",
      "bm=e1/(4.44*f*n1*a)\n",
      "\n",
      "#result\n",
      "print \"peak value of flux density=\",bm,\"WB/m2\"\n",
      "print \"voltage induced in the secondary winding=\",e2,\"V\""
     ],
     "language": "python",
     "metadata": {},
     "outputs": [
      {
       "output_type": "stream",
       "stream": "stdout",
       "text": [
        "peak value of flux density= 0.975975975976 WB/m2\n",
        "voltage induced in the secondary winding= 1300.0 V\n"
       ]
      }
     ],
     "prompt_number": 7
    },
    {
     "cell_type": "heading",
     "level": 2,
     "metadata": {},
     "source": [
      "Example Number 32.4, Page Number:1124"
     ]
    },
    {
     "cell_type": "code",
     "collapsed": false,
     "input": [
      "#variable declaration\n",
      "load=25.0#kVA\n",
      "n1=500.0\n",
      "n2=50.0\n",
      "v=3000.0#V\n",
      "f=50.0#Hz\n",
      "\n",
      "#calculations\n",
      "k=n2/n1\n",
      "i1=load*1000/v\n",
      "i2=i1/k\n",
      "e1=v/n1\n",
      "e2=e1*n2\n",
      "phim=v/(4.44*f*n1)\n",
      "\n",
      "#result\n",
      "print \"primary and secondary currents=\",i1,\"A\", i2,\"A\"\n",
      "print \"secondary emf=\",e2,\"V\"\n",
      "print \"flux=\",phim*1000,\"mWB\""
     ],
     "language": "python",
     "metadata": {},
     "outputs": [
      {
       "output_type": "stream",
       "stream": "stdout",
       "text": [
        "primary and secondary currents= 8.33333333333 A 83.3333333333 A\n",
        "secondary emf= 300.0 V\n",
        "flux= 27.027027027 mWB\n"
       ]
      }
     ],
     "prompt_number": 11
    },
    {
     "cell_type": "heading",
     "level": 2,
     "metadata": {},
     "source": [
      "Example Number 32.5, Page Number:1123"
     ]
    },
    {
     "cell_type": "code",
     "collapsed": false,
     "input": [
      "#variable declaration\n",
      "f=50#Hz\n",
      "v1=11000#V\n",
      "v2=550#V\n",
      "load=300#kVA\n",
      "phim=0.05#Wb\n",
      "\n",
      "#calculation\n",
      "e=4.44*f*phim\n",
      "e2=v2/1.732\n",
      "t1=v1/e\n",
      "t2=e2/e\n",
      "output=load/3\n",
      "HV=100*1000/v1\n",
      "LV=100*1000/e2\n",
      "\n",
      "#result\n",
      "print \"HV turns=\",t1\n",
      "print \"LV turns=\",t2\n",
      "print \"emf per turn=\",e2\n",
      "print \"full load HV=\",HV\n",
      "print \"full load LV=\",LV"
     ],
     "language": "python",
     "metadata": {},
     "outputs": [
      {
       "output_type": "stream",
       "stream": "stdout",
       "text": [
        "HV turns= 990.990990991\n",
        "LV turns= 28.6082849593\n",
        "emf per turn= 317.551963048\n",
        "full load HV= 9\n",
        "full load LV= 314.909090909\n"
       ]
      }
     ],
     "prompt_number": 12
    },
    {
     "cell_type": "heading",
     "level": 2,
     "metadata": {},
     "source": [
      "Example Number 32.6, Page Number:1124"
     ]
    },
    {
     "cell_type": "code",
     "collapsed": false,
     "input": [
      "#variable declaration\n",
      "n1=500.0\n",
      "n2=1200.0\n",
      "a=80.0/10000.0#m2\n",
      "f=50.0#Hz\n",
      "v=500.0#V\n",
      "\n",
      "#calculation\n",
      "phim=n1/(4.44*f*n1)\n",
      "bm=phim/a\n",
      "v2=n2*v/n1\n",
      "\n",
      "#result\n",
      "print \"peak flux-density=\",bm,\"Wb\"\n",
      "print \"voltage induced in the secondary=\",v2,\"V\""
     ],
     "language": "python",
     "metadata": {},
     "outputs": [
      {
       "output_type": "stream",
       "stream": "stdout",
       "text": [
        "peak flux-density= 0.563063063063 Wb\n",
        "voltage induced in the secondary= 1200.0 V\n"
       ]
      }
     ],
     "prompt_number": 15
    },
    {
     "cell_type": "heading",
     "level": 2,
     "metadata": {},
     "source": [
      "Example Number 32.7, Page Number:1125"
     ]
    },
    {
     "cell_type": "code",
     "collapsed": false,
     "input": [
      "#varible declaration\n",
      "load=25.0#kVA\n",
      "n1=250.0\n",
      "n2=40.0\n",
      "v=1500.0#V\n",
      "f=50.0#Hz\n",
      "\n",
      "#calculation\n",
      "v2=n2*v/n1\n",
      "i1=load*1000/v\n",
      "i2=load*1000/v2\n",
      "phim=v/(4.44*f*n1)\n",
      "\n",
      "#result\n",
      "print \"i)primary current an secondary current=\",i1,\"A\",i2,\"A\"\n",
      "print \"ii)seconary emf=\",v2,\"V\"\n",
      "print \"iii)maximum flux=\",phim*1000,\"mWb\""
     ],
     "language": "python",
     "metadata": {},
     "outputs": [
      {
       "output_type": "stream",
       "stream": "stdout",
       "text": [
        "i)primary current an secondary current= 16.6666666667 A 104.166666667 A\n",
        "ii)seconary emf= 240.0 V\n",
        "iii)maximum flux= 27.027027027 mWb\n"
       ]
      }
     ],
     "prompt_number": 18
    },
    {
     "cell_type": "heading",
     "level": 2,
     "metadata": {},
     "source": [
      "Example Number 32.8, Page Number:1125"
     ]
    },
    {
     "cell_type": "code",
     "collapsed": false,
     "input": [
      "#variable declaration\n",
      "f=50.0#Hz\n",
      "a=20.0*20.0/10000#m2\n",
      "phim=1.0#Wbm2\n",
      "v1=3000.0#V\n",
      "v2=220.0#V\n",
      "\n",
      "#calculation\n",
      "t2=v2/(4.44*f*phim*a)\n",
      "t1=t2*v1/v2\n",
      "n1=t1/2\n",
      "n2=t2/2\n",
      "\n",
      "#result\n",
      "print \"HV turns=\",n1\n",
      "print \"LV turns=\",n2"
     ],
     "language": "python",
     "metadata": {},
     "outputs": [
      {
       "output_type": "stream",
       "stream": "stdout",
       "text": [
        "HV turns= 168.918918919\n",
        "LV turns= 12.3873873874\n"
       ]
      }
     ],
     "prompt_number": 22
    },
    {
     "cell_type": "heading",
     "level": 2,
     "metadata": {},
     "source": [
      "Example Number 32.9, Page Number:1126"
     ]
    },
    {
     "cell_type": "code",
     "collapsed": false,
     "input": [
      "#variable declaration\n",
      "v1=2200.0#V\n",
      "v2=200.0#V\n",
      "i1=0.6#A\n",
      "p=400.0#W\n",
      "v3=250.0#V\n",
      "i0=0.5#A\n",
      "pf=0.3\n",
      "\n",
      "#calculation\n",
      "il=p/v1\n",
      "imu=(i1**2-il**2)**0.5\n",
      "iw=i0*pf\n",
      "imu2=(i0**2-iw**2)**0.5\n",
      "\n",
      "#result\n",
      "print \"magnetising currents=\",imu,\"A\"\n",
      "print \"iron loss current=\",il,\"A\"\n",
      "print \"magnetising components of no load primary current=\",imu2,\"A\"\n",
      "print \"working components of no-load primary current=\",iw,\"A\""
     ],
     "language": "python",
     "metadata": {},
     "outputs": [
      {
       "output_type": "stream",
       "stream": "stdout",
       "text": [
        "magnetising currents= 0.571788552492 A\n",
        "iron loss current= 0.181818181818 A\n",
        "magnetising components of no load primary current= 0.476969600708 A\n",
        "working components of no-load primary current= 0.15 A\n"
       ]
      }
     ],
     "prompt_number": 24
    },
    {
     "cell_type": "heading",
     "level": 2,
     "metadata": {},
     "source": [
      "Example Number 32.10, Page Number:1127"
     ]
    },
    {
     "cell_type": "code",
     "collapsed": false,
     "input": [
      "#variable declaration\n",
      "n1=500.0\n",
      "n2=40.0\n",
      "l=150.0#cm\n",
      "airgap=0.1#mm\n",
      "e1=3000.0#V\n",
      "phim=1.2#Wb/m2\n",
      "f=50.0#Hz\n",
      "d=7.8#grma/cm3\n",
      "loss=2.0#watt/kg\n",
      "\n",
      "#calculation\n",
      "a=e1/(4.44*f*n1*phim)\n",
      "k=n2/n1\n",
      "v2=k*e1\n",
      "iron=l*5\n",
      "air=phim*airgap/(1000*4*3.14*10**(-7))\n",
      "bmax=iron+air\n",
      "imu=bmax/(n1*2**0.5)\n",
      "volume=l*a\n",
      "im=volume*d*10\n",
      "total_i=im*2\n",
      "iw=total_i/(e1)\n",
      "i0=(imu**2+iw**2)**0.5\n",
      "pf=iw/i0\n",
      "\n",
      "#result\n",
      "print \"a)cross sectional area=\",a*10000,\"cm2\"\n",
      "print \"b)no load secondary voltage=\",v2,\"V\"\n",
      "print \"c)no load current=\",imu,\"A\"\n",
      "print \"d)power factor=\",pf"
     ],
     "language": "python",
     "metadata": {},
     "outputs": [
      {
       "output_type": "stream",
       "stream": "stdout",
       "text": [
        "a)cross sectional area= 225.225225225 cm2\n",
        "b)no load secondary voltage= 240.0 V\n",
        "c)no load current= 1.19577611723 A\n",
        "d)power factor= 0.145353269536\n"
       ]
      }
     ],
     "prompt_number": 42
    },
    {
     "cell_type": "heading",
     "level": 2,
     "metadata": {},
     "source": [
      "Example Number 32.11, Page Number:1127"
     ]
    },
    {
     "cell_type": "code",
     "collapsed": false,
     "input": [
      "import math\n",
      "#variable declaration\n",
      "n1=1000\n",
      "n2=200\n",
      "i=3#A\n",
      "pf=0.2\n",
      "i2=280#A\n",
      "pf2=0.8\n",
      "\n",
      "#calculations\n",
      "phi1=math.acos(pf2)\n",
      "i2_=i2/5\n",
      "phi2=math.acos(pf)\n",
      "sinphi=math.sin(phi2)\n",
      "sinphi2=math.sin(math.acos(phi1))\n",
      "i1=i*complex(pf,-sinphi)+i2_*complex(pf2,-sinphi2)\n",
      "\n",
      "#result\n",
      "print \"primary current=\",abs(i1),\"/_\",math.degrees(phi1),\"degrees\"\n",
      "\n",
      "\n",
      "\n"
     ],
     "language": "python",
     "metadata": {},
     "outputs": [
      {
       "output_type": "stream",
       "stream": "stdout",
       "text": [
        "primary current= 64.4918252531 /_ 36.8698976458 degrees\n"
       ]
      }
     ],
     "prompt_number": 51
    },
    {
     "cell_type": "heading",
     "level": 2,
     "metadata": {},
     "source": [
      "Example Number 32.12, Page Number:1130"
     ]
    },
    {
     "cell_type": "code",
     "collapsed": false,
     "input": [
      "#variable declaration\n",
      "v1=440.0#v\n",
      "v2=110.0#V\n",
      "i0=5.0#A\n",
      "pf=0.2\n",
      "i2=120.0#A\n",
      "pf2=0.8\n",
      "\n",
      "#calculation\n",
      "phi2=math.acos(pf2)\n",
      "phi0=math.acos(pf)\n",
      "k=v2/v1\n",
      "i2_=k*i2\n",
      "angle=phi2-phi0\n",
      "i1=(i0**2+i2_**2+(2*i0*i2_*math.cos(angle)))**0.5\n",
      "\n",
      "#result\n",
      "print \"current taken by the primary=\",i1,\"A\""
     ],
     "language": "python",
     "metadata": {},
     "outputs": [
      {
       "output_type": "stream",
       "stream": "stdout",
       "text": [
        "current taken by the primary= 33.9022604184 A\n"
       ]
      }
     ],
     "prompt_number": 53
    },
    {
     "cell_type": "heading",
     "level": 2,
     "metadata": {},
     "source": [
      "Example Number 32.13, Page Number:1130"
     ]
    },
    {
     "cell_type": "code",
     "collapsed": false,
     "input": [
      "#variable declaration\n",
      "n1=800.0\n",
      "n2=200.0\n",
      "pf=0.8\n",
      "i1=25.0#A\n",
      "pf2=0.707\n",
      "i2=80.0#A\n",
      "#calculations\n",
      "k=n2/n1\n",
      "i2_=i2*k\n",
      "phi2=math.acos(pf)\n",
      "phi1=math.acos(pf2)\n",
      "i0pf2=i1*pf2-i2_*pf\n",
      "i0sinphi=i1*pf2-i2_*math.sin(math.acos(pf))\n",
      "phi0=math.atan(i0sinphi/i0pf2)\n",
      "i0=i0sinphi/math.sin(phi0)\n",
      "\n",
      "#result\n",
      "print \"no load current=\",i0,\"A\""
     ],
     "language": "python",
     "metadata": {},
     "outputs": [
      {
       "output_type": "stream",
       "stream": "stdout",
       "text": [
        "no load current= 5.91703050525 A\n"
       ]
      }
     ],
     "prompt_number": 59
    },
    {
     "cell_type": "heading",
     "level": 2,
     "metadata": {},
     "source": [
      "Example Number 32.14, Page Number:1131"
     ]
    },
    {
     "cell_type": "code",
     "collapsed": false,
     "input": [
      "#variable declaration\n",
      "i=10#A\n",
      "pf=0.2\n",
      "ratio=4\n",
      "i2=200#A\n",
      "pf=0.85\n",
      "\n",
      "#calculations\n",
      "phi0=math.acos(pf)\n",
      "phil=math.acos(pf)\n",
      "i0=complex(2,-9.8)\n",
      "i2_=complex(42.5,-26.35)\n",
      "i1=i0+i2_\n",
      "phi=math.acos(i1.real/57.333)\n",
      "\n",
      "#result\n",
      "print \"primary current=\",i1,\"A\"\n",
      "print \"power factor=\",math.degrees(phi),\"degrees\""
     ],
     "language": "python",
     "metadata": {},
     "outputs": [
      {
       "output_type": "stream",
       "stream": "stdout",
       "text": [
        "primary current= (44.5-36.15j) A\n",
        "power factor= 39.0890154959 degrees\n"
       ]
      }
     ],
     "prompt_number": 60
    },
    {
     "cell_type": "heading",
     "level": 2,
     "metadata": {},
     "source": [
      "Example Number 32.15, Page Number:1136"
     ]
    },
    {
     "cell_type": "code",
     "collapsed": false,
     "input": [
      "#variable decaration\n",
      "load=30.0#KVA\n",
      "v1=2400.0#V\n",
      "v2=120.0#V\n",
      "f=50.0#Hz\n",
      "r1=0.1#ohm\n",
      "x1=0.22#ohm\n",
      "r2=0.034#ohm\n",
      "x2=0.012#ohm\n",
      "\n",
      "#calculations\n",
      "k=v2/v1\n",
      "r01=r1+r2/k**2\n",
      "x01=x1+x2/k**2\n",
      "z01=(r01**2+x01**2)**0.5\n",
      "r02=r2+r1*k**2\n",
      "x02=x2+x1*k**2\n",
      "z02=(r02**2+x02**2)**0.5\n",
      "\n",
      "#result\n",
      "print \"high voltage side:\"\n",
      "print \"equivalent winding resistance=\",r01,\"ohm\"\n",
      "print \"reactance=\",x01,\"ohm\"\n",
      "print \"impedence=\",z01,\"ohm\"\n",
      "print \"low voltage side:\"\n",
      "print \"equivalent winding resistance=\",r02,\"ohm\"\n",
      "print \"reactance=\",x02,\"ohm\"\n",
      "print \"impedence=\",z02,\"ohm\""
     ],
     "language": "python",
     "metadata": {},
     "outputs": [
      {
       "output_type": "stream",
       "stream": "stdout",
       "text": [
        "high voltage side:\n",
        "equivalent winding resistance= 13.7 ohm\n",
        "reactance= 5.02 ohm\n",
        "impedence= 14.5907642021 ohm\n",
        "low voltage side:\n",
        "equivalent winding resistance= 0.03425 ohm\n",
        "reactance= 0.01255 ohm\n",
        "impedence= 0.0364769105051 ohm\n"
       ]
      }
     ],
     "prompt_number": 64
    },
    {
     "cell_type": "heading",
     "level": 2,
     "metadata": {},
     "source": [
      "Example Number 32.16, Page Number:1136"
     ]
    },
    {
     "cell_type": "code",
     "collapsed": false,
     "input": [
      "#variable declaration\n",
      "load=50.0#KVA\n",
      "v1=4400.0#V\n",
      "v2=220.0#V\n",
      "r1=3.45#ohm\n",
      "r2=0.009#ohm\n",
      "x1=5.2#ohm\n",
      "x2=0.015#ohm\n",
      "\n",
      "#calculations\n",
      "i1=load*1000/v1\n",
      "i2=load*1000/v2\n",
      "k=v2/v1\n",
      "r01=r1+r2/k**2\n",
      "r02=r2+k**2*r1\n",
      "x01=x1+x2/k**2\n",
      "x02=x2+x1*k**2\n",
      "z01=(r01**2+x01**2)**0.5\n",
      "z02=(r02**2+x02**2)**0.5\n",
      "cu_loss=i1**2*r01\n",
      "\n",
      "#result\n",
      "print \"i)resistance=\"\n",
      "print \"primary=\",r01,\"ohm\"\n",
      "print \"secondary=\",r02,\"ohm\"\n",
      "print \"iii)reactance=\"\n",
      "print \"primary=\",x01,\"ohm\"\n",
      "print \"secondary=\",x02,\"ohm\"\n",
      "print \"iv)impedence=\"\n",
      "print \"primary=\",z01,\"ohm\"\n",
      "print \"secondary=\",z02,\"ohm\"\n",
      "print \"v)copper loss=\",cu_loss,\"W\""
     ],
     "language": "python",
     "metadata": {},
     "outputs": [
      {
       "output_type": "stream",
       "stream": "stdout",
       "text": [
        "resistance=\n",
        "primary= 7.05 ohm\n",
        "secondary= 0.017625 ohm\n",
        "reactance=\n",
        "primary= 11.2 ohm\n",
        "secondary= 0.028 ohm\n",
        "impedence=\n",
        "primary= 13.2341414531 ohm\n",
        "secondary= 0.0330853536327 ohm\n",
        "copper loss= 910.382231405 W\n"
       ]
      }
     ],
     "prompt_number": 68
    },
    {
     "cell_type": "heading",
     "level": 2,
     "metadata": {},
     "source": [
      "Example Number 32.17, Page Number:1137"
     ]
    },
    {
     "cell_type": "code",
     "collapsed": false,
     "input": [
      "#variable declaration\n",
      "ratio=10.0\n",
      "load=50.0#KVA\n",
      "v1=2400.0#V\n",
      "v2=240.0#V\n",
      "f=50.0#Hz\n",
      "v=240.0#V\n",
      "\n",
      "#calculation\n",
      "i2=load*1000/v\n",
      "z2=v/(i2)\n",
      "k=v2/v1\n",
      "z2_=z2/k**2\n",
      "i2_=k*i2\n",
      "\n",
      "#result\n",
      "print \"a)load impedence=\",z2,\"ohm\"\n",
      "print \"b)impedence referred to high tension side=\",z2_,\"ohm\"\n",
      "print \"c)the value of current referred to the high tension side=\",i2_,\"A\""
     ],
     "language": "python",
     "metadata": {},
     "outputs": [
      {
       "output_type": "stream",
       "stream": "stdout",
       "text": [
        "a)load impedence= 1.152 ohm\n",
        "b)impedence referred to high tension side= 115.2 ohm\n",
        "c)the value of current referred to the high tension side= 20.8333333333 A\n"
       ]
      }
     ],
     "prompt_number": 70
    },
    {
     "cell_type": "heading",
     "level": 2,
     "metadata": {},
     "source": [
      "Example Number 32.18, Page Number:1137"
     ]
    },
    {
     "cell_type": "code",
     "collapsed": false,
     "input": [
      "#variable declaration\n",
      "load=100.0#kVA\n",
      "v1=11000.0#V\n",
      "v2=317.0#V\n",
      "load2=0.62#kW\n",
      "lvload=0.48#kW\n",
      "\n",
      "#calculations\n",
      "k=v1/v2\n",
      "i1=load*1000/v1\n",
      "i2=load*1000/v2\n",
      "r1=load2*1000/i**2\n",
      "r2=lvload*1000/i2**2\n",
      "r2_=r2*k**2\n",
      "x01=4*v1/(i1*100)\n",
      "x2_=x01*r2_/(r1+r2_)\n",
      "x1=x01-x2_\n",
      "x2=x2_*10/k**2\n",
      "\n",
      "#result\n",
      "print \"i)r1=\",r1,\"ohm\"\n",
      "print \"r2=\",r2,\"ohm\"\n",
      "print \"r2_=\",r2_,\"ohm\"\n",
      "print \"ii)reactance=\",x01,\"ohm\"\n",
      "print \"x1=\",x1,\"ohm\"\n",
      "print \"x2=\",x2,\"ohm\"\n",
      "print \"x2_=\",x2_,\"ohm\""
     ],
     "language": "python",
     "metadata": {},
     "outputs": [
      {
       "output_type": "stream",
       "stream": "stdout",
       "text": [
        "i)r1= 7.502 ohm\n",
        "r2= 0.004823472 ohm\n",
        "r2_= 5.808 ohm\n",
        "ii)reactance= 48.4 ohm\n",
        "x1= 27.28 ohm\n",
        "x2= 0.175398981818 ohm\n",
        "x2_= 21.12 ohm\n"
       ]
      }
     ],
     "prompt_number": 76
    },
    {
     "cell_type": "heading",
     "level": 2,
     "metadata": {},
     "source": [
      "Example Number 32.19, Page Number:1137"
     ]
    },
    {
     "cell_type": "code",
     "collapsed": false,
     "input": [
      "#variable declarations\n",
      "k=19.5\n",
      "r1=25.0#ohm\n",
      "x1=100.0#ohm\n",
      "r2=0.06#ohm\n",
      "x2=0.25#ohm\n",
      "i=1.25#A\n",
      "angle=30#degrees\n",
      "i2=200#A\n",
      "v=50#V\n",
      "pf2=0.8\n",
      "\n",
      "#calculations\n",
      "v2=complex(500,0)\n",
      "i2=i2*complex(0.8,-0.6)\n",
      "z2=complex(r2,x2)\n",
      "e2=v2+i2*z2\n",
      "beta=math.atan(e2.imag/e2.real)\n",
      "e1=e2*k\n",
      "i2_=i2/k\n",
      "angle=beta+math.radians(90)+math.radians(angle)\n",
      "i0=i*complex(math.cos(angle),math.sin(angle))\n",
      "i1=-i2_+i0\n",
      "v2=-e1+i1*complex(r1,x1)\n",
      "phi=math.atan(v2.imag/v2.real)-math.atan(i1.imag/i1.real)\n",
      "pf=math.cos(phi)\n",
      "power=abs(v2)*i*math.cos(math.radians(60))\n",
      "r02=r2+r1/k**2\n",
      "cu_loss=abs(i2)**2*r02\n",
      "output=500*abs(i2)*pf2\n",
      "loss=cu_loss+power\n",
      "inpt=output+loss\n",
      "efficiency=output*100/inpt\n",
      "\n",
      "#result\n",
      "print \"primary applied voltage=\",v2,\"V\"\n",
      "print \"primary pf=\",pf\n",
      "print \"efficiency=\",efficiency,\"%\""
     ],
     "language": "python",
     "metadata": {},
     "outputs": [
      {
       "output_type": "stream",
       "stream": "stdout",
       "text": [
        "primary applied voltage= (-11464.2126901-1349.15424294j) V\n",
        "primary pf= 0.698572087114\n",
        "efficiency= 86.7261056254 %\n"
       ]
      }
     ],
     "prompt_number": 94
    },
    {
     "cell_type": "heading",
     "level": 2,
     "metadata": {},
     "source": [
      "Example Number 32.20, Page Number:1138"
     ]
    },
    {
     "cell_type": "code",
     "collapsed": false,
     "input": [
      "#variable description\n",
      "load=100#KVA\n",
      "v1=1100#V\n",
      "v2=220#V\n",
      "f=50#Hz\n",
      "zh=complex(0.1,0.4)\n",
      "zl=complex(0.006,0.015)\n",
      "\n",
      "#calculations\n",
      "k=v1/v2\n",
      "#HV \n",
      "r1=zh.real+zl.real*k**2\n",
      "x1=zh.imag+zl.imag*k**2\n",
      "z1=(r1**2+x1**2)**0.5\n",
      "#LV\n",
      "r2=r1/k**2\n",
      "x2=x1/k**2\n",
      "z2=z1/k**2\n",
      "\n",
      "#result\n",
      "print \"HV:\"\n",
      "print \"resistance=\",r1,\"ohm\"\n",
      "print \"reactance=\",x1,\"ohm\"\n",
      "print \"impedence=\",z1,\"ohm\"\n",
      "print \"LV:\"\n",
      "print \"resistance=\",r2,\"ohm\"\n",
      "print \"reactance=\",x2,\"ohm\"\n",
      "print \"impedence=\",z2,\"ohm\""
     ],
     "language": "python",
     "metadata": {},
     "outputs": [
      {
       "output_type": "stream",
       "stream": "stdout",
       "text": [
        "HV:\n",
        "resistance= 0.25 ohm\n",
        "reactance= 0.775 ohm\n",
        "impedence= 0.814324873745 ohm\n",
        "LV:\n",
        "resistance= 0.01 ohm\n",
        "reactance= 0.031 ohm\n",
        "impedence= 0.0325729949498 ohm\n"
       ]
      }
     ],
     "prompt_number": 96
    },
    {
     "cell_type": "heading",
     "level": 2,
     "metadata": {},
     "source": [
      "Example Number 32.21, Page Number:1141"
     ]
    },
    {
     "cell_type": "code",
     "collapsed": false,
     "input": [
      "#variable declaration\n",
      "v1=230#V\n",
      "v2=460#V\n",
      "r1=0.2#ohm\n",
      "x1=0.5#ohm\n",
      "r2=0.75#ohm\n",
      "x2=1.8#ohm\n",
      "i=10#A\n",
      "pf=0.8\n",
      "\n",
      "#calculation\n",
      "k=v2/v1\n",
      "r02=r2+k**2*r1\n",
      "x02=x2+k**2*x1\n",
      "vd=i*(r02*pf+x02*math.sin(math.acos(pf)))\n",
      "vt2=v2-vd\n",
      "\n",
      "#result\n",
      "print \"secondary terminal voltage=\",vt2,\"V\"\n"
     ],
     "language": "python",
     "metadata": {},
     "outputs": [
      {
       "output_type": "stream",
       "stream": "stdout",
       "text": [
        "secondary terminal voltage= 424.8 V\n"
       ]
      }
     ],
     "prompt_number": 97
    },
    {
     "cell_type": "heading",
     "level": 2,
     "metadata": {},
     "source": [
      "Example Number 32.22, Page Number:1141"
     ]
    },
    {
     "cell_type": "code",
     "collapsed": false,
     "input": [
      "#variable declaration\n",
      "r=1.0#%\n",
      "x=5.0#%\n",
      "pf=0.8\n",
      "\n",
      "#calculation\n",
      "mu=r*pf+x*math.sin(math.acos(pf))\n",
      "mu2=r**2+x*0\n",
      "mu3=r*pf-x*math.sin(math.acos(pf))\n",
      "\n",
      "#result\n",
      "print \"regulation at pf=0.8 lag:\",mu,\"%\"\n",
      "print \"regulation at pf=1:\",mu2,\"%\"\n",
      "print \"regulation at pf=0.8 lead:\",mu3,\"%\""
     ],
     "language": "python",
     "metadata": {},
     "outputs": [
      {
       "output_type": "stream",
       "stream": "stdout",
       "text": [
        "regulation at pf=0.8 lag: 3.8 %\n",
        "regulation at pf=1: 1.0 %\n",
        "regulation at pf=0.8 lead: -2.2 %\n"
       ]
      }
     ],
     "prompt_number": 98
    },
    {
     "cell_type": "heading",
     "level": 2,
     "metadata": {},
     "source": [
      "Example Number 32.23, Page Number:1141"
     ]
    },
    {
     "cell_type": "code",
     "collapsed": false,
     "input": [
      "#variable declaration\n",
      "x=5#%\n",
      "r=2.5#%\n",
      "\n",
      "#calculation\n",
      "phi=math.atan(x/r)\n",
      "cosphi=math.cos(phi)\n",
      "sinphi=math.sin(phi)\n",
      "regn=r*cosphi+x*sinphi\n",
      "\n",
      "#result\n",
      "print \"regulation=\",regn,\"%\"\n",
      "print \"pf=\",cosphi"
     ],
     "language": "python",
     "metadata": {},
     "outputs": [
      {
       "output_type": "stream",
       "stream": "stdout",
       "text": [
        "regulation= 5.59016994375 %\n",
        "pf= 0.4472135955\n"
       ]
      }
     ],
     "prompt_number": 100
    },
    {
     "cell_type": "heading",
     "level": 2,
     "metadata": {},
     "source": [
      "Example Number 32.24, Page Number:1142"
     ]
    },
    {
     "cell_type": "code",
     "collapsed": false,
     "input": [
      "#variable declaration\n",
      "r=2.5#%\n",
      "x=5#%\n",
      "load1=500#KVA\n",
      "load2=400#KVA\n",
      "pf=0.8\n",
      "\n",
      "#calculations\n",
      "kw=load2*pf\n",
      "kvar=load2*math.sin(math.acos(pf))\n",
      "drop=(r*kw/load1)+(x*kvar/load1)\n",
      "\n",
      "#result\n",
      "print \"percentage voltage drop=\",drop,\"%\""
     ],
     "language": "python",
     "metadata": {},
     "outputs": [
      {
       "output_type": "stream",
       "stream": "stdout",
       "text": [
        "percentage voltage drop= 4.0 %\n"
       ]
      }
     ],
     "prompt_number": 102
    },
    {
     "cell_type": "heading",
     "level": 2,
     "metadata": {},
     "source": [
      "Example Number 32.26, Page Number:1145"
     ]
    },
    {
     "cell_type": "code",
     "collapsed": false,
     "input": [
      "import math\n",
      "#variable declaration\n",
      "v1=600#V\n",
      "v2=1080#V\n",
      "v=720#V\n",
      "load=8#W\n",
      "load2=10#kVA\n",
      "\n",
      "#calculation\n",
      "ir2=load*1000/v2\n",
      "il2=load*1000/v\n",
      "ir2_=ir2*v2/v1\n",
      "il2_=il2*v/v1\n",
      "ir2=math.sqrt(ir2_**2+il2_**2)\n",
      "s=complex(load,load2)\n",
      "s=abs(s)\n",
      "pf=load/s\n",
      "i=s*load2*100/v1\n",
      "\n",
      "#result\n",
      "print \"primary current=\",i,\"A\"\n",
      "print \"power factor=\",pf"
     ],
     "language": "python",
     "metadata": {},
     "outputs": [
      {
       "output_type": "stream",
       "stream": "stdout",
       "text": [
        "primary current= 21.3437474581 A\n",
        "power factor= 0.624695047554\n"
       ]
      }
     ],
     "prompt_number": 103
    },
    {
     "cell_type": "heading",
     "level": 2,
     "metadata": {},
     "source": [
      "Example Number 32.27, Page Number:1046"
     ]
    },
    {
     "cell_type": "code",
     "collapsed": false,
     "input": [
      "import math\n",
      "#variable declaration\n",
      "v=220#V\n",
      "v1=110#V\n",
      "i=0.5#A\n",
      "p=30#W\n",
      "r=0.6#ohm\n",
      "\n",
      "#calculation\n",
      "ratio=v/v1\n",
      "pf=p/(i*v)\n",
      "sinphi=math.sqrt(1-pf**2)\n",
      "ip=i*sinphi\n",
      "iw=i*pf\n",
      "cu_loss=i**2*r\n",
      "iron_loss=p-cu_loss\n",
      "\n",
      "#result\n",
      "print \"i)turns ratio=\",ratio\n",
      "print \"ii)magnetising component of no-load current=\",ip,\"A\"\n",
      "print \"iii)working component of no-load current=\",iw,\"A\"\n",
      "print \"iv)the iron loss=\",iron_loss,\"W\""
     ],
     "language": "python",
     "metadata": {},
     "outputs": [
      {
       "output_type": "stream",
       "stream": "stdout",
       "text": [
        "i)turns ratio= 2\n",
        "ii)magnetising component of no-load current= 0.481045692921 A\n",
        "iii)working component of no-load current= 0.136363636364 A\n",
        "iv)the iron loss= 29.85 W\n"
       ]
      }
     ],
     "prompt_number": 104
    },
    {
     "cell_type": "heading",
     "level": 2,
     "metadata": {},
     "source": [
      "Example Number 32.28, Page Number:1047"
     ]
    },
    {
     "cell_type": "code",
     "collapsed": false,
     "input": [
      "#variable declaration\n",
      "load=5.0#kVA\n",
      "v1=200.0#V\n",
      "v2=1000.0#V\n",
      "f=50.0#Hz\n",
      "vo=2000.0#V\n",
      "io=1.2#A\n",
      "po=90.0#W\n",
      "vs=50.0#V\n",
      "i_s=5.0#A\n",
      "ps=110.0#W\n",
      "p=3.0#kW\n",
      "pf=0.8\n",
      "v=200.0#V\n",
      "\n",
      "#calculation\n",
      "r0=v**2/po\n",
      "ia0=v/r0\n",
      "ip=math.sqrt(io**2-ia0**2)\n",
      "xm=v/ip\n",
      "z=vs/i_s\n",
      "r=ps/25\n",
      "x=math.sqrt(z**2-r**2)\n",
      "r1=r*(v1/v2)**2\n",
      "x1=x*(v1/v2)**2\n",
      "i_lv1=load*1000/v\n",
      "i_lv=(p*1000/pf)/v\n",
      "sinphi=math.sin(math.acos(pf))\n",
      "reg=i_lv*(r1*pf+x1*sinphi)/v\n",
      "vt=v2-reg*1000/v\n",
      "\n",
      "#result\n",
      "print \"LV crrent at rated load=\",i_lv1,\"A\"\n",
      "print \"LV current at 3kW at 0.8 lagging pf\",i_lv,\"A\"\n",
      "print \"output secondary voltage=\",vt,\"V\"\n",
      "print \"percentage regulation=\",reg*100,\"%\"\n",
      "\n",
      "\n"
     ],
     "language": "python",
     "metadata": {},
     "outputs": [
      {
       "output_type": "stream",
       "stream": "stdout",
       "text": [
        "LV crrent at rated load= 25.0 A\n",
        "LV current at 3kW at 0.8 lagging pf 18.75 A\n",
        "output secondary voltage= 999.832975251 V\n",
        "percentage regulation= 3.34049498886 %\n"
       ]
      }
     ],
     "prompt_number": 105
    },
    {
     "cell_type": "heading",
     "level": 2,
     "metadata": {},
     "source": [
      "Example Number 32.29, Page Number:1048"
     ]
    },
    {
     "cell_type": "code",
     "collapsed": false,
     "input": [
      "import math\n",
      "from sympy.solvers import solve\n",
      "from sympy import Symbol\n",
      "#variable declaration\n",
      "A=Symbol('A')\n",
      "B=Symbol('B')\n",
      "loss1=52.0#W\n",
      "f1=40.0#Hz\n",
      "loss2=90.0#W\n",
      "f2=60.0#Hz\n",
      "f=50.0#Hz\n",
      "\n",
      "#calculation\n",
      "ans=solve([(loss1/f1)-(A+f1*B),(loss2/f2)-(A+f2*B)],[A,B])\n",
      "wh=ans[A]*f\n",
      "we=ans[B]*f**2\n",
      "\n",
      "#result\n",
      "print \"hysteresis=\",round(wh),\"W\"\n",
      "print \"eddy current=\",round(we),\"W\""
     ],
     "language": "python",
     "metadata": {},
     "outputs": [
      {
       "output_type": "stream",
       "stream": "stdout",
       "text": [
        "hysteresis= 45.0 W\n",
        "eddy current= 25.0 W\n"
       ]
      }
     ],
     "prompt_number": 107
    },
    {
     "cell_type": "heading",
     "level": 2,
     "metadata": {},
     "source": [
      "Example Number 32.30, Page Number:1048"
     ]
    },
    {
     "cell_type": "code",
     "collapsed": false,
     "input": [
      "%pylab\n",
      "import math\n",
      "from sympy.solvers import solve\n",
      "from sympy import Symbol\n",
      "#variable declaration\n",
      "A=Symbol('A')\n",
      "B=Symbol('B')\n",
      "m=10#kg\n",
      "f=50.0#Hz\n",
      "f1=25.0\n",
      "f2=40.0\n",
      "f3=50.0\n",
      "f4=60.0\n",
      "f5=80.0\n",
      "l1=18.5/f1\n",
      "l2=36.0/f2\n",
      "l3=50.0/f3\n",
      "l4=66.0/f4\n",
      "l5=104.0/f5\n",
      "#calculation\n",
      "ans=solve([l1/f1-(A+f1*B),l2/f2-(A+f2*B)],[A,B])\n",
      "eddy_loss_per_kg=ans[B]*f**2/m\n",
      "\n",
      "#result\n",
      "print\"eddy current loss per kg at 50 Hz=\",eddy_loss_per_kg,\"W\"\n",
      "\n",
      "#plot\n",
      "F=[f1,f2,f3,f4,f5]\n",
      "L=[l1,l2,l3,l4,l5]\n",
      "a=plot(F,L)\n",
      "xlabel(\"f -->\") \n",
      "ylabel(\"Wi/f\") \n",
      "plt.xlim((0,100))\n",
      "plt.ylim((0.74,2))\n",
      "show(a)\n"
     ],
     "language": "python",
     "metadata": {},
     "outputs": [
      {
       "output_type": "stream",
       "stream": "stdout",
       "text": [
        "Using matplotlib backend: TkAgg\n",
        "Populating the interactive namespace from numpy and matplotlib\n",
        "eddy current loss per kg at 50 Hz="
       ]
      },
      {
       "output_type": "stream",
       "stream": "stdout",
       "text": [
        " -0.118333333333333 W\n"
       ]
      }
     ],
     "prompt_number": 1
    },
    {
     "cell_type": "heading",
     "level": 2,
     "metadata": {},
     "source": [
      "Example Number 32.31, Page Number:1148"
     ]
    },
    {
     "cell_type": "code",
     "collapsed": false,
     "input": [
      "import math\n",
      "from sympy.solvers import solve\n",
      "from sympy import Symbol\n",
      "#variable declaration\n",
      "A=Symbol('A')\n",
      "B=Symbol('B')\n",
      "v1=440#V\n",
      "f1=50#Hz\n",
      "p1=2500#W\n",
      "v2=220#V\n",
      "f2=25#Hz\n",
      "p2=850#z\n",
      "\n",
      "#calculation\n",
      "ans=solve([(p1/f1)-(A+f1*B),(p2/f2)-(A+f2*B)],[A,B])\n",
      "wh=ans[A]*f\n",
      "we=ans[B]*f**2\n",
      "\n",
      "#result\n",
      "print \"hysteresis=\",round(wh),\"W\"\n",
      "print \"eddy current=\",round(we),\"W\""
     ],
     "language": "python",
     "metadata": {},
     "outputs": [
      {
       "output_type": "stream",
       "stream": "stdout",
       "text": [
        "hysteresis= 900.0 W\n",
        "eddy current= 1600.0 W\n"
       ]
      }
     ],
     "prompt_number": 109
    },
    {
     "cell_type": "heading",
     "level": 2,
     "metadata": {},
     "source": [
      "Example Number 32.32, Page Number:1149"
     ]
    },
    {
     "cell_type": "code",
     "collapsed": false,
     "input": [
      "#variable declaration\n",
      "v1=1000.0#V\n",
      "f1=50.0#Hz\n",
      "core=1000.0#W\n",
      "wh=650.0#W\n",
      "we=350.0#W\n",
      "v2=2000.0#V\n",
      "f2=100.0#Hz\n",
      "\n",
      "#calculation\n",
      "a=wh/f1\n",
      "b=we/f1**2\n",
      "wh=a*f2\n",
      "we=b*f2**2\n",
      "new_core=wh+we\n",
      "\n",
      "#result\n",
      "print \"new core loss=\",new_core,\"W\""
     ],
     "language": "python",
     "metadata": {},
     "outputs": [
      {
       "output_type": "stream",
       "stream": "stdout",
       "text": [
        " new core loss= 2700.0 W\n"
       ]
      }
     ],
     "prompt_number": 111
    },
    {
     "cell_type": "heading",
     "level": 2,
     "metadata": {},
     "source": [
      "Example Number 32.33, Page Number:1149"
     ]
    },
    {
     "cell_type": "code",
     "collapsed": false,
     "input": [
      "#variable declaration\n",
      "phi=1.4#Wb/m2\n",
      "we=1000.0#W\n",
      "wh=3000.0#W\n",
      "per=10.0#%\n",
      "\n",
      "#calculation\n",
      "wh1=wh*1.1**1.6\n",
      "we1=we*1.1**2\n",
      "wh2=wh*0.9**(-0.6)\n",
      "wh3=wh*1.1**1.6*1.1**(-0.6)\n",
      "#result\n",
      "print \"a)wh and we when applied voltage is increased by 10%=\",wh1,\"W\",\"and\",we1,\"W\"\n",
      "print \"b)wh when frequency is reduced by 10%=\",wh2,\"W\"\n",
      "print \"c)wh and we when both voltage and frequency are increased y 10%=\",wh3,\"W\",\"and\",we1,\"W\""
     ],
     "language": "python",
     "metadata": {},
     "outputs": [
      {
       "output_type": "stream",
       "stream": "stdout",
       "text": [
        "a)wh and we when applied voltage is increased by 10%= 3494.21441464 W and 1210.0 W\n",
        "b)wh when frequency is reduced by 10%= 3195.77171838 W\n",
        "c)wh and we when both voltage and frequency are increased y 10%= 3300.0 W and 1210.0 W\n"
       ]
      }
     ],
     "prompt_number": 119
    },
    {
     "cell_type": "heading",
     "level": 2,
     "metadata": {},
     "source": [
      "Example Number 32.34, Page Number:1150"
     ]
    },
    {
     "cell_type": "code",
     "collapsed": false,
     "input": [
      "#variable declaration\n",
      "v=2200.0#V\n",
      "f=40.0#Hz\n",
      "loss=800.0#W\n",
      "wh=600.0#W\n",
      "we=loss-wh\n",
      "v2=3300.0#V\n",
      "f2=60.0#Hz\n",
      "\n",
      "#calculations\n",
      "a=wh/f\n",
      "b=we/f**2\n",
      "core_loss=a*f2+b*f2**2\n",
      "\n",
      "#result\n",
      "print \"core loss at 60 Hz=\",core_loss,\"W\""
     ],
     "language": "python",
     "metadata": {},
     "outputs": [
      {
       "output_type": "stream",
       "stream": "stdout",
       "text": [
        "core loss at 60 Hz= 1350.0 W\n"
       ]
      }
     ],
     "prompt_number": 122
    },
    {
     "cell_type": "heading",
     "level": 2,
     "metadata": {},
     "source": [
      "Example Number 32.35, Page Number:1151"
     ]
    },
    {
     "cell_type": "code",
     "collapsed": false,
     "input": [
      "#variable declaration\n",
      "load=30.0#KvA\n",
      "v1=6000.0#V\n",
      "v2=230.0#V\n",
      "r1=10.0#ohm\n",
      "r2=0.016#ohm\n",
      "x01=34.0#ohm\n",
      "\n",
      "#calculations\n",
      "k=v2/v1\n",
      "r01=r1+r2/k**2\n",
      "z01=(r01**2+x01**2)**0.5\n",
      "i1=load*1000/v1\n",
      "vsc=i1*z01\n",
      "pf=r01/z01\n",
      "\n",
      "#result\n",
      "print \"primary voltage=\",vsc,\"V\"\n",
      "print \"pf=\",pf"
     ],
     "language": "python",
     "metadata": {},
     "outputs": [
      {
       "output_type": "stream",
       "stream": "stdout",
       "text": [
        "primary voltage= 199.519931911 V\n",
        "pf= 0.523468222173\n"
       ]
      }
     ],
     "prompt_number": 124
    },
    {
     "cell_type": "heading",
     "level": 2,
     "metadata": {},
     "source": [
      "Example Number 32.36, Page Number:1152"
     ]
    },
    {
     "cell_type": "code",
     "collapsed": false,
     "input": [
      "#variable declaration\n",
      "v1=200.0#V\n",
      "v2=400.0#V\n",
      "f=50.0#Hz\n",
      "vo=200.0#V\n",
      "io=0.7#A\n",
      "po=70.0#W\n",
      "vs=15.0#v\n",
      "i_s=10.0#A\n",
      "ps=85.0#W\n",
      "load=5.0#kW\n",
      "pf=0.8\n",
      "\n",
      "#calculations\n",
      "cosphi0=po/(vo*io)\n",
      "sinphi0=math.sin(math.acos(cosphi0))\n",
      "iw=io*cosphi0\n",
      "imu=io*sinphi0\n",
      "r0=v1/iw\n",
      "x0=v1/imu\n",
      "z02=vs/i_s\n",
      "k=v2/v1\n",
      "z01=z02/k**2\n",
      "r02=ps/i_s**2\n",
      "r01=r02/k**2\n",
      "x01=(z01**2-r01**2)**0.5\n",
      "output=load/pf\n",
      "i2=output*1000/v2\n",
      "x02=(z02**2-r02**2)**0.5\n",
      "drop=i2*(r02*pf+x02*math.sin(math.acos(pf)))\n",
      "v2=v2-drop\n",
      "print z02\n",
      "#result\n",
      "print \"secondary voltage=\",v2,\"V\""
     ],
     "language": "python",
     "metadata": {},
     "outputs": [
      {
       "output_type": "stream",
       "stream": "stdout",
       "text": [
        "1.5\n",
        "secondary voltage= 377.788243349 V\n"
       ]
      }
     ],
     "prompt_number": 130
    },
    {
     "cell_type": "heading",
     "level": 2,
     "metadata": {},
     "source": [
      "Example Number 32.37, Page Number:1152"
     ]
    },
    {
     "cell_type": "code",
     "collapsed": false,
     "input": [
      "#variable declaration\n",
      "k=1.0/6\n",
      "r1=0.9#ohm\n",
      "x1=5.0#ohm\n",
      "r2=0.03#ohm\n",
      "x2=0.13#ohm\n",
      "vsc=330.0#V\n",
      "f=50.0#Hz\n",
      "\n",
      "#calculations\n",
      "r01=r1+r2/k**2\n",
      "x01=x1+x2/k**2\n",
      "z01=(r01**2+x01**2)**0.5\n",
      "i1=vsc/z01\n",
      "i2=i1/k\n",
      "cosphisc=i1**2*r01/(vsc*i1)\n",
      "\n",
      "#result\n",
      "print \"current in low voltage winding=\",i2,\"A\"\n",
      "print \"pf=\",round(cosphisc,1)"
     ],
     "language": "python",
     "metadata": {},
     "outputs": [
      {
       "output_type": "stream",
       "stream": "stdout",
       "text": [
        "current in low voltage winding= 200.396236149 A\n",
        "pf= 0.2\n"
       ]
      }
     ],
     "prompt_number": 132
    },
    {
     "cell_type": "heading",
     "level": 2,
     "metadata": {},
     "source": [
      "Example Number 32.38, Page Number:1153"
     ]
    },
    {
     "cell_type": "code",
     "collapsed": false,
     "input": [
      "#variable declaration\n",
      "load=10.0#kVA\n",
      "v1=500.0#V\n",
      "v2=250.0#V\n",
      "f=50.0#Hz\n",
      "r1=0.2#ohm\n",
      "x1=0.4#ohm\n",
      "r2=0.5#ohm\n",
      "x2=0.1#ohm\n",
      "r0=1500.0#ohm\n",
      "x0=750.0#ohm\n",
      "\n",
      "#calculation\n",
      "k=v2/v1\n",
      "imu=v1/x0\n",
      "iw=v1/r0\n",
      "i0=(iw**2+imu**2)**0.5\n",
      "pi=v1*iw\n",
      "r01=r1+r2/k**2\n",
      "x01=x1+x2/k**2\n",
      "z01=(r01**2+x01**2)**0.5\n",
      "i1=load*1000/v1\n",
      "vsc=i1*z01\n",
      "power=i1**2*r01\n",
      "\n",
      "#result\n",
      "print \"reading of instruments=\",vsc,\"V,\",i1,\"A,\",power,\"W\""
     ],
     "language": "python",
     "metadata": {},
     "outputs": [
      {
       "output_type": "stream",
       "stream": "stdout",
       "text": [
        "reading of instruments= 46.8187996429 V, 20.0 A, 880.0 W\n"
       ]
      }
     ],
     "prompt_number": 140
    },
    {
     "cell_type": "heading",
     "level": 2,
     "metadata": {},
     "source": [
      "Example Number 32.39, Page Number:1153"
     ]
    },
    {
     "cell_type": "code",
     "collapsed": false,
     "input": [
      "import math\n",
      "from sympy.solvers import solve\n",
      "from sympy import Symbol\n",
      "#variable declaration\n",
      "x=Symbol('x')\n",
      "y=Symbol('y')\n",
      "load=1000#kVA\n",
      "v1=110#V\n",
      "v2=220#V\n",
      "f=50#Hz\n",
      "per1=98.5#%\n",
      "pf=0.8\n",
      "per2=98.8#%\n",
      "\n",
      "#calculaions\n",
      "output=load*1\n",
      "inpt=output*100/per2\n",
      "loss=inpt-output\n",
      "inpt_half=(load/2)*pf*100/per1\n",
      "loss2=inpt_half-400\n",
      "ans=solve([x+y-loss,(x/4)+y-loss2],[x,y])\n",
      "kva=load*(ans[y]/ans[x])*0.5\n",
      "output=kva*1\n",
      "cu_loss=ans[y]\n",
      "total_loss=2*cu_loss\n",
      "efficiency=output/(output+total_loss)\n",
      "#result\n",
      "print \"full load copper loss=\",cu_loss,\"kW\"\n",
      "print \"maximum efficiency=\",efficiency,\"%\""
     ],
     "language": "python",
     "metadata": {},
     "outputs": [
      {
       "output_type": "stream",
       "stream": "stdout",
       "text": [
        "full load copper loss= 4.07324441521606 kW\n",
        "maximum efficiency= 0.968720013059872 %\n"
       ]
      }
     ],
     "prompt_number": 148
    },
    {
     "cell_type": "heading",
     "level": 2,
     "metadata": {},
     "source": [
      "Example Number 32.40, Page Number:1154"
     ]
    },
    {
     "cell_type": "code",
     "collapsed": false,
     "input": [
      "#variable declaration\n",
      "v1=200.0#v\n",
      "v2=400.0#V\n",
      "r01=0.15#ohm\n",
      "x01=0.37#ohm\n",
      "r0=600.0#ohm\n",
      "x0=300.0#ohm\n",
      "i2=10.0#A\n",
      "pf=0.8\n",
      "\n",
      "#calculations\n",
      "imu=v1/x0\n",
      "iw=v1/r0\n",
      "i0=(imu**2+iw**2)**0.5\n",
      "tantheta=iw/imu\n",
      "theta=math.atan(tantheta)\n",
      "theta0=math.radians(90)-theta\n",
      "angle=theta0-math.acos(pf)\n",
      "k=v2/v1\n",
      "i2_=i2*k\n",
      "i1=(i0**2+i2_**2+2*i0*i2_*math.cos(angle))**0.5\n",
      "r02=k**2*r01\n",
      "x02=x01*k**2\n",
      "vd=i2*(r02*pf+x02*math.sin(math.acos(pf)))\n",
      "v2=v2-vd\n",
      "\n",
      "#result\n",
      "print \"i)primary current=\",i1,\"A\"\n",
      "print \"ii)secondary terminal voltage=\",v2,\"V\""
     ],
     "language": "python",
     "metadata": {},
     "outputs": [
      {
       "output_type": "stream",
       "stream": "stdout",
       "text": [
        "i)primary current= 20.6693546639 A\n",
        "ii)secondary terminal voltage= 386.32 V\n"
       ]
      }
     ],
     "prompt_number": 149
    },
    {
     "cell_type": "heading",
     "level": 2,
     "metadata": {},
     "source": [
      "Example Number 32.43, Page Number:1158"
     ]
    },
    {
     "cell_type": "code",
     "collapsed": false,
     "input": [
      "#variable declaration\n",
      "load=100.0#kVA\n",
      "n1=400.0\n",
      "n2=80.0\n",
      "r1=0.3#ohm\n",
      "r2=0.01#ohm\n",
      "x1=1.1#ohm\n",
      "x2=0.035#ohm\n",
      "v1=2200.0#V\n",
      "pf=0.8\n",
      "\n",
      "#calculations\n",
      "k=n2/n1\n",
      "r01=r1+r2/k**2\n",
      "x01=x1+x2/k**2\n",
      "z01=complex(r01,x01)\n",
      "z02=k**2*z01\n",
      "v2=k*v1\n",
      "i2=load*1000/v2\n",
      "vd=i2*(z02.real*pf-z02.imag*math.sin(math.acos(pf)))\n",
      "regn=vd*100/v2\n",
      "v2=v2-vd\n",
      "\n",
      "#result\n",
      "print \"i)equivalent impedence=\",z02,\"ohm\"\n",
      "print \"ii)voltage regulation=\",regn,\"%\"\n",
      "print \"secondary terminal voltage=\",v2,\"V\""
     ],
     "language": "python",
     "metadata": {},
     "outputs": [
      {
       "output_type": "stream",
       "stream": "stdout",
       "text": [
        "i)equivalent impedence= (0.022+0.079j) ohm\n",
        "ii)voltage regulation= -1.53925619835 %\n",
        "secondary terminal voltage= 446.772727273 V\n"
       ]
      }
     ],
     "prompt_number": 158
    },
    {
     "cell_type": "heading",
     "level": 2,
     "metadata": {},
     "source": [
      "Example Number 32.44, Page Number:1158"
     ]
    },
    {
     "cell_type": "code",
     "collapsed": false,
     "input": [
      "#variable declaration\n",
      "load=10.0#kVA\n",
      "va=450.0#V\n",
      "vb=120.0#V\n",
      "v1=120.0#V\n",
      "i1=4.2#A\n",
      "w1=80.0#W\n",
      "v2=9.65#V\n",
      "i2=22.2#A\n",
      "w2=120.0#W\n",
      "pf=0.8\n",
      "\n",
      "#calculations\n",
      "k=vb/va\n",
      "i0=i1*k\n",
      "cosphi0=w1/(va*i0)\n",
      "phi0=math.acos(cosphi0)\n",
      "sinphi0=math.sin(phi0)\n",
      "iw=i0*cosphi0\n",
      "imu=i0*sinphi0\n",
      "r0=va/iw\n",
      "x0=va/imu\n",
      "z01=v2/i2\n",
      "r01=vb/i2**2\n",
      "x01=(z01**2-r01**2)**0.5\n",
      "i1=load*1000/va\n",
      "drop=i1*(r01*pf+x01*math.sin(math.acos(pf)))\n",
      "regn=drop*100/va\n",
      "loss=w1+w2\n",
      "output=load*1000*pf\n",
      "efficiency=output/(output+loss)\n",
      "iron_loss=w1\n",
      "cu_loss=(0.5**2)*w2\n",
      "total_loss=iron_loss+cu_loss\n",
      "output=load*1000*pf/2\n",
      "efficiency2=output/(output+total_loss)\n",
      "\n",
      "#result\n",
      "print \"i)equivalent circuit constants=\"\n",
      "print \"z01=\",z01,\"ohm\"\n",
      "print \"x01=\",x01,\"ohm\"\n",
      "print \"r01=\",r01,\"ohm\"\n",
      "print \"ii)efficiency and voltage regulation at pf=0.8=\",efficiency*100,\"%\",regn,\"%\"\n",
      "print \"iii)efficiency at half load and pf=0.8=\",efficiency2*100,\"%\""
     ],
     "language": "python",
     "metadata": {},
     "outputs": [
      {
       "output_type": "stream",
       "stream": "stdout",
       "text": [
        "i)equivalent circuit constants=\n",
        "z01= 0.434684684685 ohm\n",
        "x01= 0.360090249002 ohm\n",
        "r01= 0.243486729973 ohm\n",
        "ii)efficiency and voltage regulation at pf=0.8= 97.5609756098 % 2.02885695496 %\n",
        "iii)efficiency at half load and pf=0.8= 97.3236009732 %\n"
       ]
      }
     ],
     "prompt_number": 162
    },
    {
     "cell_type": "heading",
     "level": 2,
     "metadata": {},
     "source": [
      "Example Number 32.45, Page Number:1159"
     ]
    },
    {
     "cell_type": "code",
     "collapsed": false,
     "input": [
      "#variable declaration\n",
      "load=20.0#kVA\n",
      "va=2200.0#V\n",
      "vb=220.0#V\n",
      "f=50.0#Hz\n",
      "v1=220.0#V\n",
      "i1=4.2#A\n",
      "w1=148.0#W\n",
      "v2=86.0#V\n",
      "i2=10.5#A\n",
      "w2=360.0#W\n",
      "pf=0.8\n",
      "\n",
      "#calculations\n",
      "z01=v2/i2\n",
      "r01=w2/i2**2\n",
      "x01=(z01**2-r01**2)**0.5\n",
      "i1=load*1000/va\n",
      "drop=i1*(r01*pf+x01*math.sin(math.acos(pf)))\n",
      "regn=drop*100/va\n",
      "pf=r01/z01\n",
      "\n",
      "#result\n",
      "print \"regulation=\",regn,\"%\"\n",
      "print \"pf=\",round(pf,1),\"lag\""
     ],
     "language": "python",
     "metadata": {},
     "outputs": [
      {
       "output_type": "stream",
       "stream": "stdout",
       "text": [
        "regulation= 2.94177963326 %\n",
        "pf= 0.4 lag\n"
       ]
      }
     ],
     "prompt_number": 172
    },
    {
     "cell_type": "heading",
     "level": 2,
     "metadata": {},
     "source": [
      "Example Number 32.46, Page Number:1159"
     ]
    },
    {
     "cell_type": "code",
     "collapsed": false,
     "input": [
      "#variable declaration\n",
      "load=10.0#kVA\n",
      "v1=2000.0#V\n",
      "v2=400.0#V\n",
      "v=60.0#V\n",
      "i=4.0#A\n",
      "w=100.0#W\n",
      "pf=0.8\n",
      "v_=400.0#V\n",
      "\n",
      "#calculations\n",
      "z01=v/i\n",
      "r01=w/i**2\n",
      "x01=(z01**2-r01**2)**0.5\n",
      "i1=load*1000/v1\n",
      "vd=i1*(r01*pf+x01*math.sin(math.acos(pf)))\n",
      "\n",
      "#result\n",
      "print \"voltage applied to hv side=\",v1+vd,\"V\""
     ],
     "language": "python",
     "metadata": {},
     "outputs": [
      {
       "output_type": "stream",
       "stream": "stdout",
       "text": [
        "voltage applied to hv side= 2065.90767043 V\n"
       ]
      }
     ],
     "prompt_number": 182
    },
    {
     "cell_type": "heading",
     "level": 2,
     "metadata": {},
     "source": [
      "Example Number 32.47, Page Number:1159"
     ]
    },
    {
     "cell_type": "code",
     "collapsed": false,
     "input": [
      "#variable declaration\n",
      "v1=250.0#V\n",
      "v2=500.0#V\n",
      "vs=20.0#V\n",
      "i_s=12.0#A\n",
      "ws=100.0#W\n",
      "vo=250.0#V\n",
      "io=1.0#A\n",
      "wo=80.0#W\n",
      "i2=10#A\n",
      "v2=500#V\n",
      "pg=0.8\n",
      "\n",
      "#calculation\n",
      "cosphi0=wo/(vo*io)\n",
      "iw=io*cosphi0\n",
      "imu=(1-iw**2)**0.5\n",
      "r0=v1/iw\n",
      "x0=v1/imu\n",
      "r02=ws/i_s**2\n",
      "z02=vs/i_s\n",
      "x02=(z02**2-r02**2)**0.5\n",
      "k=v2/v1\n",
      "r01=r02/k**2\n",
      "x01=x02/k**2\n",
      "z01=z02/k**2\n",
      "cu_loss=i2**2*r02\n",
      "iron_loss=wo\n",
      "total_loss=iron_loss+cu_loss\n",
      "efficiency=i2*v2*pf/(i2*v2*pf+total_loss)\n",
      "v1_=((vo*pf+x01)**2+(vo*math.sin(math.acos(pf))+i1*x01)**2)**0.5\n",
      "\n",
      "#result\n",
      "print \"applied voltage=\",v1_,\"V\"\n",
      "print \"efficiency=\",efficiency*100,\"%\""
     ],
     "language": "python",
     "metadata": {},
     "outputs": [
      {
       "output_type": "stream",
       "stream": "stdout",
       "text": [
        "applied voltage= 251.442641983 V\n",
        "efficiency= 96.3984469139 %\n"
       ]
      }
     ],
     "prompt_number": 190
    },
    {
     "cell_type": "heading",
     "level": 2,
     "metadata": {},
     "source": [
      "Example Number 32.48, Page Number:1160"
     ]
    },
    {
     "cell_type": "code",
     "collapsed": false,
     "input": [
      "#variable declaration\n",
      "v1=230.0#V\n",
      "v2=230.0#V\n",
      "load=3.0#kVA\n",
      "vo=230.0#V\n",
      "io=2.0#A\n",
      "wo=100.0#W\n",
      "vs=15.0#V\n",
      "i_s=13.0#A\n",
      "ws=120.0#W\n",
      "pf=0.8\n",
      "\n",
      "#calculations\n",
      "i=load*1000/v1\n",
      "cu_loss=ws\n",
      "core_loss=wo\n",
      "output=load*1000*pf\n",
      "efficiency=output*100/(output+cu_loss+core_loss)\n",
      "z=vs/i_s\n",
      "r=ws/(vs**2)\n",
      "x=(z**2-r**2)**0.5\n",
      "regn=i*(r*pf+x*math.sin(math.acos(pf)))*100/v1\n",
      "\n",
      "#result\n",
      "print \"regulation=\",regn,\"%\"\n",
      "print \"efficiency=\",efficiency,\"%\""
     ],
     "language": "python",
     "metadata": {},
     "outputs": [
      {
       "output_type": "stream",
       "stream": "stdout",
       "text": [
        "regulation= 5.90121149256 %\n",
        "efficiency= 91.6030534351 %\n"
       ]
      }
     ],
     "prompt_number": 194
    },
    {
     "cell_type": "heading",
     "level": 2,
     "metadata": {},
     "source": [
      "Example Number 32.49, Page Number:1161"
     ]
    },
    {
     "cell_type": "code",
     "collapsed": false,
     "input": [
      "#variable declaration\n",
      "load=10.0#kVA\n",
      "v1=500.0#V\n",
      "v2=250.0#V\n",
      "efficiency=0.94\n",
      "per=0.90\n",
      "pf=0.8\n",
      "\n",
      "#calculation\n",
      "output=per*load*1000\n",
      "inpt=output/efficiency\n",
      "loss=inpt-output\n",
      "core_loss=loss/2\n",
      "pc=core_loss/per**2\n",
      "output=load*1000*pf\n",
      "cu_loss=pc\n",
      "efficiency=output/(output+cu_loss+core_loss)\n",
      "\n",
      "#result\n",
      "print \"efficiency=\",efficiency*100,\"%\""
     ],
     "language": "python",
     "metadata": {},
     "outputs": [
      {
       "output_type": "stream",
       "stream": "stdout",
       "text": [
        "efficiency= 92.5728354534 %\n"
       ]
      }
     ],
     "prompt_number": 196
    },
    {
     "cell_type": "heading",
     "level": 2,
     "metadata": {},
     "source": [
      "Example Number 32.50, Page Number:1161"
     ]
    },
    {
     "cell_type": "code",
     "collapsed": false,
     "input": [
      "#variable declaration\n",
      "load=10.0#kVA\n",
      "f=50.0#Hz\n",
      "v1=2300.0#V\n",
      "v2=230.0#V\n",
      "r1=3.96#ohm\n",
      "r2=0.0396#ohm\n",
      "x1=15.8#ohm\n",
      "x2=0.158#ohm\n",
      "pf=0.8\n",
      "v=230.0#V\n",
      "\n",
      "#calculations\n",
      "i=load*1000/v\n",
      "r=r2+r1*(v2/v1)**2\n",
      "x=x1*(v2/v1)**2+x2\n",
      "v1_=v2+i*(r*pf+x*math.sin(math.acos(pf)))\n",
      "v1=v1_*(v1/v2)\n",
      "phi=math.atan(r/x)\n",
      "pf=math.cos(phi)\n",
      "#result\n",
      "print \"a)HV side voltage necessary=\",v1,\"V\"\n",
      "print \"b)pf=\",round(pf,2)"
     ],
     "language": "python",
     "metadata": {},
     "outputs": [
      {
       "output_type": "stream",
       "stream": "stdout",
       "text": [
        "a)HV side voltage necessary= 2409.9826087 V\n",
        "b)pf= 0.97\n"
       ]
      }
     ],
     "prompt_number": 199
    },
    {
     "cell_type": "heading",
     "level": 2,
     "metadata": {},
     "source": [
      "Example Number 32.51, Page Number:1162"
     ]
    },
    {
     "cell_type": "code",
     "collapsed": false,
     "input": [
      "#variable declaration\n",
      "load=5.0#kVA\n",
      "v1=2200.0#V\n",
      "v2=220.0#v\n",
      "r1=3.4#ohm\n",
      "x1=7.2#ohm\n",
      "r2=0.028#ohm\n",
      "x2=0.060#ohm\n",
      "pf=0.8\n",
      "\n",
      "#calculations\n",
      "i=load*1000/v2\n",
      "r=r1*(v2/v1)**2+r2\n",
      "x=x1*(v2/v1)**2+x2\n",
      "ad=i*r*pf\n",
      "dc=i*x*math.sin(math.acos(pf))\n",
      "oc=v2+ad+dc\n",
      "bd=i*r*math.sin(math.acos(pf))\n",
      "b_f=x*pf\n",
      "cf=b_f-bd\n",
      "v1_=(oc**2+cf**2)**0.5\n",
      "v1=v1_*(v1/v2)\n",
      "\n",
      "#result\n",
      "print \"terminal voltage on hv side=\",v1,\"V\""
     ],
     "language": "python",
     "metadata": {},
     "outputs": [
      {
       "output_type": "stream",
       "stream": "stdout",
       "text": [
        "terminal voltage on hv side= 2229.28500444 V\n"
       ]
      }
     ],
     "prompt_number": 200
    },
    {
     "cell_type": "heading",
     "level": 2,
     "metadata": {},
     "source": [
      "Example Number 32.52, Page Number:1163"
     ]
    },
    {
     "cell_type": "code",
     "collapsed": false,
     "input": [
      "#variable declaration\n",
      "load=4.0#kVA\n",
      "v1=200.0#V\n",
      "v2=400.0#V\n",
      "i1=0.7#A\n",
      "w1=65.0#W\n",
      "v=15.0#V\n",
      "i2=10.0#A\n",
      "w2=75.0#W\n",
      "pf=0.80\n",
      "#calculation\n",
      "il=load*1000/v1\n",
      "ih=load*1000/v2\n",
      "cu_loss=w2\n",
      "constant_loss=w1\n",
      "z=v/i2\n",
      "r=w2/i2**2\n",
      "x=(z**2-r**2)**0.5\n",
      "efficiency=load*100000/(load*1000+cu_loss+constant_loss)\n",
      "regn=i2*(r*pf+x*math.sin(math.acos(pf)))\n",
      "\n",
      "#result\n",
      "print \"full load efficiency=\",efficiency,\"%\"\n",
      "print \"full load regulation=\",regn,\"V\""
     ],
     "language": "python",
     "metadata": {},
     "outputs": [
      {
       "output_type": "stream",
       "stream": "stdout",
       "text": [
        "full load efficiency= 96.6183574879 %\n",
        "full load regulation= 13.7942286341 V\n"
       ]
      }
     ],
     "prompt_number": 209
    },
    {
     "cell_type": "heading",
     "level": 2,
     "metadata": {},
     "source": [
      "Example Number 32.53, Page Number:1164"
     ]
    },
    {
     "cell_type": "code",
     "collapsed": false,
     "input": [
      "#variable declaration\n",
      "v1=3300.0#V\n",
      "v2=230.0#V\n",
      "load=50.0#kVA\n",
      "z=4\n",
      "cu_loss=1.8\n",
      "\n",
      "#calculations\n",
      "x=(z**2-cu_loss**2)**0.5\n",
      "i1=load*1000/v1\n",
      "r01=cu_loss*v1/(100*i1)\n",
      "x01=x*v1/(100*i1)\n",
      "z01=z*v1/(100*i1)\n",
      "isc=i1*100/z\n",
      "print \n",
      "#result\n",
      "print \"%x=\",x,\"%\"\n",
      "print \"resistance=\",r01,\"ohm\"\n",
      "print \"reactance=\",x01,\"ohm\"\n",
      "print \"impedence=\",z01,\"ohm\"\n",
      "print \"primary sc current=\",isc,\"A\""
     ],
     "language": "python",
     "metadata": {},
     "outputs": [
      {
       "output_type": "stream",
       "stream": "stdout",
       "text": [
        "\n",
        "%x= 3.5721142199 %\n",
        "resistance= 3.9204 ohm\n",
        "reactance= 7.78006477094 ohm\n",
        "impedence= 8.712 ohm\n",
        "primary sc current= 378.787878788 A\n"
       ]
      }
     ],
     "prompt_number": 214
    },
    {
     "cell_type": "heading",
     "level": 2,
     "metadata": {},
     "source": [
      "Example Number 32.54, Page Number:1164"
     ]
    },
    {
     "cell_type": "code",
     "collapsed": false,
     "input": [
      "#variable declaration\n",
      "load=20.0#kVA\n",
      "v1=2200.0#V\n",
      "v2=220.0#V\n",
      "f=50.0#Hz\n",
      "vo=220.0#V\n",
      "i_o=4.2#A\n",
      "wo=148.0#W\n",
      "vs=86.0#V\n",
      "i_s=10.5#A\n",
      "ws=360.0#W\n",
      "pf=0.8\n",
      "\n",
      "#calculations\n",
      "k=v2/v1\n",
      "r01=ws/i_s**2\n",
      "r02=k**2*r01\n",
      "z10=vs/i_s\n",
      "x01=(z10**2-r01**2)**0.5\n",
      "x02=k**2*x01\n",
      "i1=load*1000/v1\n",
      "v1_=((v1*pf+i1*r01)**2+(v1*math.sin(math.acos(pf))+i1*x01)**2)**0.5\n",
      "regn1=(v1_-v1)/v1\n",
      "i2=i1/k\n",
      "core_loss=wo\n",
      "cu_loss=i1**2*r01\n",
      "cu_loss_half=(i1/2)**2*r01\n",
      "efficiency=load*1000*pf*100/(load*1000*pf+core_loss+cu_loss)\n",
      "efficiency_half=(load/2)*1000*pf*100/((load/2)*1000*pf+core_loss+cu_loss)\n",
      "print v1_                                  \n",
      "#result\n",
      "print \"a)core loss=\",wo,\"W\"\n",
      "print \"b)equivalent resistance primary=\",r01,\"ohm\"\n",
      "print \"c)equivalent resistance secondary=\",r02,\"ohm\"\n",
      "print \"d)equivalent reactance primary=\",x01,\"ohm\"\n",
      "print \"e)equivalent reactance secondary=\",x02,\"ohm\"\n",
      "print \"f)regulation=\",regn1*100,\"%\"\n",
      "print \"g)efficiency at full load=\",efficiency,\"%\"\n",
      "print \"h)efficiency at half load=\",efficiency_half,\"%\""
     ],
     "language": "python",
     "metadata": {},
     "outputs": [
      {
       "output_type": "stream",
       "stream": "stdout",
       "text": [
        "2265.01840886\n",
        "a)core loss= 148.0 W\n",
        "b)equivalent resistance primary= 3.26530612245 ohm\n",
        "c)equivalent resistance secondary= 0.0326530612245 ohm\n",
        "d)equivalent reactance primary= 7.51143635755 ohm\n",
        "e)equivalent reactance secondary= 0.0751143635755 ohm\n",
        "f)regulation= 2.95538222101 %\n",
        "g)efficiency at full load= 97.4548448466 %\n",
        "h)efficiency at half load= 95.0360304208 %\n"
       ]
      }
     ],
     "prompt_number": 222
    },
    {
     "cell_type": "heading",
     "level": 2,
     "metadata": {},
     "source": [
      "Example Number 32.55, Page Number:1165"
     ]
    },
    {
     "cell_type": "code",
     "collapsed": false,
     "input": [
      "#variable declaration\n",
      "er=1.0/100\n",
      "ex=5.0/100\n",
      "pf=0.8\n",
      "\n",
      "#calculation\n",
      "regn=er*pf+ex*math.sin(math.acos(pf))\n",
      "regn2=er*1\n",
      "regn3=er*pf-ex*math.sin(math.acos(pf))\n",
      "\n",
      "#result\n",
      "print \"i)regulation with pf=0.8 lag=\",regn*100,\"%\"\n",
      "print \"ii)regulation with pf=1=\",regn2*100,\"%\"\n",
      "print \"iii)regulation with pf=0.8 lead=\",regn3*100,\"%\""
     ],
     "language": "python",
     "metadata": {},
     "outputs": [
      {
       "output_type": "stream",
       "stream": "stdout",
       "text": [
        "i)regulation with pf=0.8 lag= 3.8 %\n",
        "ii)regulation with pf=1= 1.0 %\n",
        "iii)regulation with pf=0.8 lead= -2.2 %\n"
       ]
      }
     ],
     "prompt_number": 223
    },
    {
     "cell_type": "heading",
     "level": 2,
     "metadata": {},
     "source": [
      "Example Number 32.56, Page Number:1165"
     ]
    },
    {
     "cell_type": "code",
     "collapsed": false,
     "input": [
      "#variable declaration\n",
      "load=500#kVA\n",
      "v1=3300#V\n",
      "v2=500#V\n",
      "f=50#Hz\n",
      "per=0.97\n",
      "ratio=3.0/4\n",
      "zper=0.10\n",
      "pf=0.8\n",
      "\n",
      "#calculation\n",
      "output=load*ratio*1\n",
      "x=0.75\n",
      "pi=0.5*(output*(1/per-1))\n",
      "pc=pi/x**2\n",
      "i1=load*1000/v1\n",
      "r=pc*1000/i1**2\n",
      "er=i1*r/v1\n",
      "ez=zper\n",
      "ex=(ez**2-er**2)**0.5\n",
      "regn=er*pf+ex*math.sin(math.acos(pf))\n",
      "\n",
      "#result\n",
      "print \"regulation=\",regn*100,\"%\"\n"
     ],
     "language": "python",
     "metadata": {},
     "outputs": [
      {
       "output_type": "stream",
       "stream": "stdout",
       "text": [
        "regulation= 7.52529846012 %\n"
       ]
      }
     ],
     "prompt_number": 225
    },
    {
     "cell_type": "heading",
     "level": 2,
     "metadata": {},
     "source": [
      "Example Number 32.57, Page Number:1166"
     ]
    },
    {
     "cell_type": "code",
     "collapsed": false,
     "input": [
      "#variable declaration\n",
      "cu_loss=1.5#%\n",
      "xdrop=3.5#%\n",
      "pf=0.8\n",
      "\n",
      "#calculation\n",
      "pur=cu_loss/100\n",
      "pux=xdrop/100\n",
      "regn2=pur*pf+pux*math.sin(math.acos(pf))\n",
      "regn1=pur*1\n",
      "regn3=pur*pf-pux*math.sin(math.acos(pf))\n",
      "\n",
      "#result\n",
      "print \"i)regulation at unity pf=\",regn1*100,\"%\"\n",
      "print \"ii)regulation at 0.8 lag=\",regn2*100,\"%\"\n",
      "print \"iii)regulation at 0.8 lead=\",regn3*100,\"%\""
     ],
     "language": "python",
     "metadata": {},
     "outputs": [
      {
       "output_type": "stream",
       "stream": "stdout",
       "text": [
        "i)regulation at unity pf= 1.5 %\n",
        "ii)regulation at 0.8 lag= 3.3 %\n",
        "iii)regulation at 0.8 lead= -0.9 %\n"
       ]
      }
     ],
     "prompt_number": 226
    },
    {
     "cell_type": "heading",
     "level": 2,
     "metadata": {},
     "source": [
      "Example Number 32.58, Page Number:1168"
     ]
    },
    {
     "cell_type": "code",
     "collapsed": false,
     "input": [
      "#variable declaration\n",
      "load=250#KVA\n",
      "w1=5.0#kW\n",
      "w2=7.5#kW\n",
      "efficiency=0.75\n",
      "pf=0.8\n",
      "\n",
      "#calculation\n",
      "total_loss=w1+w2\n",
      "loss=total_loss/2\n",
      "cu_loss=efficiency**2*w2/2\n",
      "output=load*efficiency*pf\n",
      "efficiency=output*100/(output+cu_loss+2.5)\n",
      "\n",
      "#result\n",
      "print \"efficiency=\",efficiency,\"%\""
     ],
     "language": "python",
     "metadata": {},
     "outputs": [
      {
       "output_type": "stream",
       "stream": "stdout",
       "text": [
        "efficiency= 97.0186963113 %\n"
       ]
      }
     ],
     "prompt_number": 229
    },
    {
     "cell_type": "heading",
     "level": 2,
     "metadata": {},
     "source": [
      "Example Number 32.59, Page Number:1170"
     ]
    },
    {
     "cell_type": "code",
     "collapsed": false,
     "input": [
      "#variable declaration\n",
      "load=25.0#kVA\n",
      "v1=2000.0#V\n",
      "v2=200.0#V\n",
      "w1=350.0#W\n",
      "w2=400.0#W\n",
      "\n",
      "#calculation\n",
      "total_loss=w1+w2\n",
      "output=load*1000*1\n",
      "efficiency=output/(output+total_loss)\n",
      "cu_loss=w2*(0.5)**2\n",
      "total_loss=cu_loss+w1\n",
      "efficiency2=(load*1000/2)/((load*1000/2)+total_loss)\n",
      "\n",
      "#result\n",
      "print \"i)efficiency at full load=\",efficiency*100,\"%\"\n",
      "print \"ii)efficiency at half load=\",efficiency2*100,\"%\""
     ],
     "language": "python",
     "metadata": {},
     "outputs": [
      {
       "output_type": "stream",
       "stream": "stdout",
       "text": [
        "i)efficiency at full load= 97.0873786408 %\n",
        "ii)efficiency at half load= 96.5250965251 %\n"
       ]
      }
     ],
     "prompt_number": 232
    },
    {
     "cell_type": "heading",
     "level": 2,
     "metadata": {},
     "source": [
      "Example Number 32.60, Page Number:1170"
     ]
    },
    {
     "cell_type": "code",
     "collapsed": false,
     "input": [
      "#variable declaration\n",
      "efficiency=0.75\n",
      "\n",
      "#calculation\n",
      "ratio=efficiency**2\n",
      "\n",
      "#result\n",
      "print \"ratio of P1 and P2=\",ratio"
     ],
     "language": "python",
     "metadata": {},
     "outputs": [
      {
       "output_type": "stream",
       "stream": "stdout",
       "text": [
        "ratio of P1 and P2= 0.5625\n"
       ]
      }
     ],
     "prompt_number": 233
    },
    {
     "cell_type": "heading",
     "level": 2,
     "metadata": {},
     "source": [
      "Example Number 32.61, Page Number:1170"
     ]
    },
    {
     "cell_type": "code",
     "collapsed": false,
     "input": [
      "#variable declaration\n",
      "v1=11000.0#V\n",
      "v2=230.0#V\n",
      "load1=150.0#KVA\n",
      "f=50.0#Hz\n",
      "loss=1.4#kW\n",
      "cu_loss=1.6#kW\n",
      "pf=0.8\n",
      "\n",
      "#calculation\n",
      "load=load1*(cu_loss/loss)**0.5\n",
      "total_loss=loss*2\n",
      "output=load*1\n",
      "efficiency=output/(output+total_loss)\n",
      "cu_loss=cu_loss*(0.5)**2\n",
      "total_loss=total_loss+cu_loss\n",
      "output2=(load/2)*pf\n",
      "efficiency2=output2/(output2+total_loss)\n",
      "\n",
      "#result\n",
      "print \"i)kVA load for max efficiency=\",load1,\"kVA\"\n",
      "print \"max efficiency=\",efficiency*100,\"%\"\n",
      "print \"ii)efficiency at half load=\",efficiency2*100,\"%\""
     ],
     "language": "python",
     "metadata": {},
     "outputs": [
      {
       "output_type": "stream",
       "stream": "stdout",
       "text": [
        "i)kVA load for max efficiency= 150.0 kVA\n",
        "max efficiency= 98.283858876 %\n",
        "ii)efficiency at half load= 95.2481856352 %\n"
       ]
      }
     ],
     "prompt_number": 237
    },
    {
     "cell_type": "heading",
     "level": 2,
     "metadata": {},
     "source": [
      "Example Number 32.62, Page Number:1171"
     ]
    },
    {
     "cell_type": "code",
     "collapsed": false,
     "input": [
      "%pylab\n",
      "#variable declaration\n",
      "load=5#kVA\n",
      "v1=2300#V\n",
      "v2=230#V\n",
      "f=50#Hz\n",
      "iron_loss=40#W\n",
      "cu_loss=112#W\n",
      "pf=0.8\n",
      "#calculations\n",
      "def e(k):\n",
      "    e=k*pf*1000*100/(k*pf*1000+(cu_loss*(k/5)**2+40))\n",
      "    return(e)\n",
      "\n",
      "e1=e(1.25)\n",
      "e2=e(2.5)\n",
      "e3=e(3.75)\n",
      "e4=e(5.0)\n",
      "e5=e(6.25)\n",
      "e6=e(7.5)\n",
      "\n",
      "K=[1.25,2.5,3.75,5.0,6.25,7.5]\n",
      "E=[e1,e2,e3,e4,e5,e6]\n",
      "a=plot(K,E)\n",
      "xlabel(\"load,kVA\") \n",
      "ylabel(\"Efficiency\") \n",
      "plt.xlim((0,8))\n",
      "plt.ylim((92,98))\n",
      "show(a)\n"
     ],
     "language": "python",
     "metadata": {},
     "outputs": []
    },
    {
     "cell_type": "heading",
     "level": 2,
     "metadata": {},
     "source": [
      "Example Number 32.63, Page Number:1171"
     ]
    },
    {
     "cell_type": "code",
     "collapsed": false,
     "input": [
      "#variable declaration\n",
      "load=200.0#kVA\n",
      "efficiency=0.98\n",
      "pf=0.8\n",
      "\n",
      "#calculations\n",
      "output=load*pf\n",
      "inpt=output/efficiency\n",
      "loss=inpt-output\n",
      "x=loss*1000/(1+9.0/16)\n",
      "y=(9.0/16)*x\n",
      "cu_loss=x*(1.0/2)**2\n",
      "total_loss=cu_loss+y\n",
      "output=load*pf*0.5\n",
      "efficiency=output/(output+total_loss/1000)\n",
      "\n",
      "#result\n",
      "print \"efficiency at hald load=\",efficiency*100,\"%\""
     ],
     "language": "python",
     "metadata": {},
     "outputs": [
      {
       "output_type": "stream",
       "stream": "stdout",
       "text": [
        "efficiency at hald load= 97.9216626699 %\n"
       ]
      }
     ],
     "prompt_number": 3
    },
    {
     "cell_type": "heading",
     "level": 2,
     "metadata": {},
     "source": [
      "Example Number 32.64, Page Number:1172"
     ]
    },
    {
     "cell_type": "code",
     "collapsed": false,
     "input": [
      "#variable declaration\n",
      "load=25.0#kVA\n",
      "v1=2200.0#V\n",
      "v2=220.0#V\n",
      "r1=1.0#ohm\n",
      "r2=0.01#ohm\n",
      "pf=0.8\n",
      "loss=0.80\n",
      "\n",
      "#calculations\n",
      "k=v2/v1\n",
      "r02=r2+k**2*r1\n",
      "i2=load*1000/v2\n",
      "cu_loss=i2**2*r02\n",
      "iron_loss=loss*cu_loss\n",
      "total_loss=cu_loss+iron_loss\n",
      "output=load*pf*1000\n",
      "efficiency=output/(output+total_loss)\n",
      "\n",
      "#result\n",
      "print \"secondary resistance=\",r02,\"ohm\"\n",
      "print \"efficiency=\",efficiency*100,\"%\""
     ],
     "language": "python",
     "metadata": {},
     "outputs": [
      {
       "output_type": "stream",
       "stream": "stdout",
       "text": [
        "secondary resistance= 0.02 ohm\n",
        "efficiency= 97.7284199899 %\n"
       ]
      }
     ],
     "prompt_number": 5
    },
    {
     "cell_type": "heading",
     "level": 2,
     "metadata": {},
     "source": [
      "Example Number 32.65, Page Number:1172"
     ]
    },
    {
     "cell_type": "code",
     "collapsed": false,
     "input": [
      "#variable declaration\n",
      "load=4.0#kVA\n",
      "v1=200.0#V\n",
      "v2=400.0#V\n",
      "r01=0.5#ohm\n",
      "x01=1.5#ohm\n",
      "ratio=3.0/4\n",
      "pf=0.8\n",
      "v=220.0#V\n",
      "loss=100.0#W\n",
      "\n",
      "#calculations\n",
      "k=v2/v1\n",
      "r02=k**2*r01\n",
      "x02=k**2*x01\n",
      "i2=1000*load*ratio/v2\n",
      "drop=i2*(r02*pf+x02*math.sin(math.acos(pf)))\n",
      "v2=v2-drop\n",
      "cu_loss=i2**2*r02\n",
      "total_loss=loss+cu_loss\n",
      "output=load*ratio*pf\n",
      "inpt=output*1000+total_loss\n",
      "efficiency=output*1000/(inpt)\n",
      "#result\n",
      "print \"output=\",output,\"w\"\n",
      "print \"efficiency=\",efficiency*100,\"%\""
     ],
     "language": "python",
     "metadata": {},
     "outputs": [
      {
       "output_type": "stream",
       "stream": "stdout",
       "text": [
        "output= 2.4 w\n",
        "efficiency= 91.8660287081 %\n"
       ]
      }
     ],
     "prompt_number": 14
    },
    {
     "cell_type": "heading",
     "level": 2,
     "metadata": {},
     "source": [
      "Example Number 32.66, Page Number:1172"
     ]
    },
    {
     "cell_type": "code",
     "collapsed": false,
     "input": [
      "#variable declaration\n",
      "load=20.0#KVA\n",
      "v1=440.0#V\n",
      "v2=220.0#V\n",
      "f=50.0#Hz\n",
      "loss=324.0#W\n",
      "cu_loss=100.0#W\n",
      "pf=0.8\n",
      "#calculations\n",
      "cu_loss=4*cu_loss\n",
      "efficiency=load*pf/(load*pf+cu_loss/1000+loss/1000)\n",
      "per=(loss/cu_loss)**0.5\n",
      "\n",
      "#result\n",
      "print \"i)efficiency=\",efficiency*100,\"%\"\n",
      "print \"ii)percent of full-load=\",per*100,\"%\""
     ],
     "language": "python",
     "metadata": {},
     "outputs": [
      {
       "output_type": "stream",
       "stream": "stdout",
       "text": [
        "i)efficiency= 95.6708921311 %\n",
        "ii)percent of full-load= 90.0 %\n"
       ]
      }
     ],
     "prompt_number": 3
    },
    {
     "cell_type": "heading",
     "level": 2,
     "metadata": {},
     "source": [
      "Example Number 32.67, Page Number:1173"
     ]
    },
    {
     "cell_type": "code",
     "collapsed": false,
     "input": [
      "import math\n",
      "#variable declaration\n",
      "load=4.0#kVA\n",
      "v1=200.0#V\n",
      "v2=400.0#V\n",
      "pf=0.8\n",
      "vo=200.0#V\n",
      "io=0.8#A\n",
      "wo=70.0#W\n",
      "vs=20.0#V\n",
      "i_s=10.0#A\n",
      "ws=60.0#W\n",
      "\n",
      "#calculation\n",
      "i2=load*1000/v2\n",
      "loss=ws+wo\n",
      "output=load*pf\n",
      "efficiency=output/(output+loss/1000)\n",
      "z02=vs/i_s\n",
      "r02=ws/i2**2\n",
      "x02=(z02**2-r02**2)**0.5\n",
      "drop=i2*(r02*pf+x02*math.sin(math.acos(pf)))\n",
      "v2=v2-drop\n",
      "i1=load*1000/v1\n",
      "load=load*(wo/ws)**0.5\n",
      "load=load*1\n",
      "\n",
      "#result\n",
      "print \"efficiency=\",efficiency*100,\"%\"\n",
      "print \"secondary voltage=\",v2,\"V\"\n",
      "print \"current=\",i1,\"A\"\n",
      "print \"load at unity pf=\",load,\"kW\""
     ],
     "language": "python",
     "metadata": {},
     "outputs": [
      {
       "output_type": "stream",
       "stream": "stdout",
       "text": [
        "efficiency= 96.0960960961 %\n",
        "secondary voltage= 383.752729583 V\n",
        "current= 20.0 A\n",
        "load at unity pf= 4.32049379894 kW\n"
       ]
      }
     ],
     "prompt_number": 9
    },
    {
     "cell_type": "heading",
     "level": 2,
     "metadata": {},
     "source": [
      "Example Number 32.69, Page Number:1174"
     ]
    },
    {
     "cell_type": "code",
     "collapsed": false,
     "input": [
      "import math\n",
      "from sympy.solvers import solve\n",
      "from sympy import Symbol\n",
      "#variable declaration\n",
      "x=Symbol('x')\n",
      "y=Symbol('y')\n",
      "load=600.0#KVA\n",
      "efficiency=0.92\n",
      "per=0.60\n",
      "\n",
      "#calculation\n",
      "inpt=load/efficiency\n",
      "loss1=inpt-load\n",
      "inpt2=load/(2*efficiency)\n",
      "loss2=inpt2-load/2\n",
      "ans=solve([x+y-loss1,x+y/4-loss2],[x,y])\n",
      "cu_loss=ans[y]*0.36\n",
      "loss=cu_loss+ans[x]\n",
      "output=load*per\n",
      "efficiency=output/(output+loss)\n",
      "\n",
      "#result\n",
      "print \"efficiency=\",efficiency*100,\"%\""
     ],
     "language": "python",
     "metadata": {},
     "outputs": [
      {
       "output_type": "stream",
       "stream": "stdout",
       "text": [
        "389.913043478261\n",
        "efficiency= 92.3282783229260 %\n"
       ]
      }
     ],
     "prompt_number": 21
    },
    {
     "cell_type": "heading",
     "level": 2,
     "metadata": {},
     "source": [
      "Example Number 32.70, Page Number:1174"
     ]
    },
    {
     "cell_type": "code",
     "collapsed": false,
     "input": [
      "#variable declaration\n",
      "load=100#kVA\n",
      "e1=0.98\n",
      "e2=0.80\n",
      "pf=8\n",
      "z=0.05\n",
      "pf1=0.8\n",
      "\n",
      "#calculations\n",
      "output=load*pf1*e2\n",
      "inpt=output/e1\n",
      "loss=-output+inpt\n",
      "cu_loss=loss/2\n",
      "cu_loss_full=cu_loss/pf1**2\n",
      "r=round(cu_loss_full*100/load)\n",
      "sin=math.sin(math.acos(pf1))\n",
      "regn=(r*pf1+5*sin)+(1.0/200)*(5*pf1-r*sin)**2\n",
      "#result\n",
      "print \"voltage regulation=\",regn,\"%\""
     ],
     "language": "python",
     "metadata": {},
     "outputs": [
      {
       "output_type": "stream",
       "stream": "stdout",
       "text": [
        "voltage regulation= 3.8578 %\n"
       ]
      }
     ],
     "prompt_number": 37
    },
    {
     "cell_type": "heading",
     "level": 2,
     "metadata": {},
     "source": [
      "Example Number 32.71, Page Number:1174"
     ]
    },
    {
     "cell_type": "code",
     "collapsed": false,
     "input": [
      "#variable declaration\n",
      "load=10.0#KVA\n",
      "v1=5000.0#V\n",
      "v2=440.0#V\n",
      "f=25.0#Hz\n",
      "cu_loss=1.5\n",
      "we=0.5\n",
      "wh=0.6\n",
      "v2=10000.0\n",
      "#calculations\n",
      "cu_loss1=cu_loss*load/100\n",
      "we1=we*load/100\n",
      "wh1=wh*load/100\n",
      "cu_loss2=cu_loss1\n",
      "we2=(we1*(50.0/25.0)**2)\n",
      "wh2=(wh1*(50.0/25))\n",
      "e1=load*100/(load+cu_loss1+we1+wh1)\n",
      "e2=load*2*100/(load*2+cu_loss2+we2+wh2)\n",
      "\n",
      "#result\n",
      "print \"full load efficiency in first case=\",e1,\"%\"\n",
      "print \"full load efficiency in second case=\",e2,\"%\"\n"
     ],
     "language": "python",
     "metadata": {},
     "outputs": [
      {
       "output_type": "stream",
       "stream": "stdout",
       "text": [
        "20.47 0.06 0.05\n",
        "full load efficiency in first case= 97.4658869396 %\n",
        "full load efficiency in second case= 97.7039570103 %\n"
       ]
      }
     ],
     "prompt_number": 47
    },
    {
     "cell_type": "heading",
     "level": 2,
     "metadata": {},
     "source": [
      "Example Number 32.72, Page Number:1175"
     ]
    },
    {
     "cell_type": "code",
     "collapsed": false,
     "input": [
      "#variable declaration\n",
      "load=300#KVA\n",
      "r=1.5#%\n",
      "load1=173.2#kVA\n",
      "pf=0.8\n",
      "\n",
      "#calculations\n",
      "cu_loss=r*load*1000/100\n",
      "iron_loss=(load1/load)**2*cu_loss\n",
      "total_loss=cu_loss+iron_loss\n",
      "efficiency=(load*pf)*100/((load*pf)+(total_loss/1000))\n",
      "\n",
      "#result\n",
      "print \"efficiency=\",efficiency,\"%\""
     ],
     "language": "python",
     "metadata": {},
     "outputs": [
      {
       "output_type": "stream",
       "stream": "stdout",
       "text": [
        "efficiency= 97.5610105096 %\n"
       ]
      }
     ],
     "prompt_number": 53
    },
    {
     "cell_type": "heading",
     "level": 2,
     "metadata": {},
     "source": [
      "Example Number 32.73, Page Number:1175"
     ]
    },
    {
     "cell_type": "code",
     "collapsed": false,
     "input": [
      "#variable declaration\n",
      "load=100#kVA\n",
      "v1=2300#V\n",
      "v2=230.0#V\n",
      "f=50#Hz\n",
      "phim=1.2#Wb/m2\n",
      "a=0.04#m2\n",
      "l=2.5#m\n",
      "bm=1200\n",
      "inpt=1200#W\n",
      "pi=400#W\n",
      "efficiency=0.75\n",
      "pf=0.8\n",
      "f2=100#Hz\n",
      "\n",
      "#calculation\n",
      "n1=v1/(4.44*f*phim*a)\n",
      "k=v2/v1\n",
      "n2=k*n1\n",
      "i=1989/n1\n",
      "cu_loss=efficiency**2*inpt\n",
      "total_loss=pi+cu_loss\n",
      "output=load*efficiency*pf\n",
      "efficiency=output*100/(output+total_loss/1000)\n",
      "\n",
      "#result\n",
      "print \"a)n1=\",round(n1)\n",
      "print \"  n2=\",round(n2)\n",
      "print \"b)magnetising current=\",i,\"A\"\n",
      "print \"c)efficiency=\",efficiency,\"%\"\n"
     ],
     "language": "python",
     "metadata": {},
     "outputs": [
      {
       "output_type": "stream",
       "stream": "stdout",
       "text": [
        "0.00643416423287\n",
        "a)n1= 216.0\n",
        "  n2= 22.0\n",
        "b)magnetising current= 9.21512347826 A\n",
        "c)efficiency= 98.2398690135 %\n"
       ]
      }
     ],
     "prompt_number": 58
    },
    {
     "cell_type": "heading",
     "level": 2,
     "metadata": {},
     "source": [
      "Example Number 32.74, Page Number:1176"
     ]
    },
    {
     "cell_type": "code",
     "collapsed": false,
     "input": [
      "#variable declaration\n",
      "r=1.8\n",
      "x=5.4\n",
      "\n",
      "#calculation\n",
      "pf=r/x\n",
      "phi=math.atan(pf)\n",
      "phi2=math.atan(x/r)\n",
      "regn=r*math.cos(phi2)+x*math.sin(phi2)\n",
      "efficiency=100/(100+r*2)\n",
      "\n",
      "#result\n",
      "print \"a)i)phi=\",math.degrees(phi),\"degrees\"\n",
      "print \"  ii)regulation=\",regn,\"%\"\n",
      "print \"b)efficiency=\",efficiency*100,\"%\""
     ],
     "language": "python",
     "metadata": {},
     "outputs": [
      {
       "output_type": "stream",
       "stream": "stdout",
       "text": [
        "a)i)phi= 18.4349488229 degrees\n",
        "  ii)regulation= 5.6920997883 %\n",
        "b)efficiency= 96.5250965251 %\n"
       ]
      }
     ],
     "prompt_number": 60
    },
    {
     "cell_type": "heading",
     "level": 2,
     "metadata": {},
     "source": [
      "Example Number 32.75, Page Number:1176"
     ]
    },
    {
     "cell_type": "code",
     "collapsed": false,
     "input": [
      "#variable declaration\n",
      "load=10.0#kVA\n",
      "f=50.0#Hz\n",
      "v1=500.0#V\n",
      "v2=250.0#V\n",
      "vo=250.0#V\n",
      "io=3.0#A\n",
      "wo=200.0#W\n",
      "vsc=15.0#V\n",
      "isc=30.0#A\n",
      "wsc=300.0#W\n",
      "pf=0.8\n",
      "\n",
      "#calculations\n",
      "i=load*1000/v2\n",
      "cu_loss=(i/isc)**2*wsc\n",
      "output=load*1000*pf\n",
      "efficiency=output*100/(output+cu_loss+wo)\n",
      "z=vsc/isc\n",
      "r=wsc/isc**2\n",
      "x=(z**2-r**2)**0.5\n",
      "regn=(i/v2)*(r*pf-x*math.sin(math.acos(pf)))*v2\n",
      "\n",
      "#result\n",
      "print \"efficiency=\",efficiency,\"%\"\n",
      "print \"regulation=\",regn,\"%\""
     ],
     "language": "python",
     "metadata": {},
     "outputs": [
      {
       "output_type": "stream",
       "stream": "stdout",
       "text": [
        "efficiency= 91.6030534351 %\n",
        "regulation= 1.72239475667 %\n"
       ]
      }
     ],
     "prompt_number": 64
    },
    {
     "cell_type": "heading",
     "level": 2,
     "metadata": {},
     "source": [
      "Example Number 32.76, Page Number:1177"
     ]
    },
    {
     "cell_type": "code",
     "collapsed": false,
     "input": [
      "#variable declaration\n",
      "load=40.0#kVA\n",
      "loss=400.0#W\n",
      "cu_loss=800.0#W\n",
      "\n",
      "#calculation\n",
      "x=(loss/cu_loss)**0.5\n",
      "output=load*x*1\n",
      "efficiency=output/(output+load*2/100)\n",
      "\n",
      "#result\n",
      "print \"efficiency=\",efficiency*100,\"%\""
     ],
     "language": "python",
     "metadata": {},
     "outputs": [
      {
       "output_type": "stream",
       "stream": "stdout",
       "text": [
        "efficiency= 97.2493723732 %\n"
       ]
      }
     ],
     "prompt_number": 71
    },
    {
     "cell_type": "heading",
     "level": 2,
     "metadata": {},
     "source": [
      "Example Number 32.77, Page Number:1178"
     ]
    },
    {
     "cell_type": "code",
     "collapsed": false,
     "input": [
      "#variable declaration\n",
      "load=10#kVA\n",
      "v1=500#V\n",
      "v2=250#V\n",
      "vsc=60#V\n",
      "isc=20#A\n",
      "wsc=150#W\n",
      "per=1.2\n",
      "pf=0.8\n",
      "\n",
      "#calculation\n",
      "i=load*1000/v1\n",
      "cu_loss=per**2*wsc\n",
      "output=per*load*1.0\n",
      "efficiency=output*100/(output+cu_loss*2/1000)\n",
      "output=load*1000*pf\n",
      "e2=output*100/(output+cu_loss+wsc)\n",
      "\n",
      "#result\n",
      "print \"maximum efficiency=\",efficiency,\"%\"\n",
      "print \"full-load efficiency=\",e2,\"%\""
     ],
     "language": "python",
     "metadata": {},
     "outputs": [
      {
       "output_type": "stream",
       "stream": "stdout",
       "text": [
        "maximum efficiency= 96.5250965251 %\n",
        "full-load efficiency= 95.6251494143 %\n"
       ]
      }
     ],
     "prompt_number": 75
    },
    {
     "cell_type": "heading",
     "level": 2,
     "metadata": {},
     "source": [
      "Example Number 32.78, Page Number:1181"
     ]
    },
    {
     "cell_type": "code",
     "collapsed": false,
     "input": [
      "#variable declaration\n",
      "load=500.0#kVA\n",
      "cu_loss=4.5#kW\n",
      "iron_loss=3.5#kW\n",
      "t1=6.0#hrs\n",
      "t2=10.0#hrs\n",
      "t3=4.0#hrs\n",
      "t4=4.0#hrs\n",
      "load1_=400.0#kW\n",
      "load2_=300.0#kW\n",
      "load3_=100.0#kW\n",
      "pf1=0.8\n",
      "pf2=0.75\n",
      "pf3=0.8\n",
      "\n",
      "#calculations\n",
      "load1=load1_/pf1\n",
      "load2=load2_/pf2\n",
      "load3=load3_/pf3\n",
      "wc1=cu_loss\n",
      "wc2=cu_loss*(load2/load1)**2\n",
      "wc3=cu_loss*(load3/load1)**2\n",
      "twc=(t1*wc1)+(t2*wc2)+(t3*wc3)+(t4*0)\n",
      "iron_loss=24*iron_loss\n",
      "total_loss=twc+iron_loss\n",
      "output=(t1*load1_)+(t2*load2_)+(t3*load3_)\n",
      "efficiency=output*100/(output+total_loss)\n",
      "\n",
      "#result\n",
      "print \"efficiency=\",round(efficiency,1),\"%\""
     ],
     "language": "python",
     "metadata": {},
     "outputs": [
      {
       "output_type": "stream",
       "stream": "stdout",
       "text": [
        "efficiency= 97.6 %\n"
       ]
      }
     ],
     "prompt_number": 86
    },
    {
     "cell_type": "heading",
     "level": 2,
     "metadata": {},
     "source": [
      "Example Number 32.79, Page Number:1182"
     ]
    },
    {
     "cell_type": "code",
     "collapsed": false,
     "input": [
      "#variable declaration\n",
      "load=100.0#kVA\n",
      "loss=3.0#kW\n",
      "tf=3.0#hrs\n",
      "th=4.0#hrs\n",
      "\n",
      "#calculation\n",
      "iron_loss=loss*24/2\n",
      "wcf=loss*tf/2\n",
      "wch=loss/8\n",
      "wch=wch*4\n",
      "total_loss=iron_loss+wch+wcf\n",
      "output=load*tf+load*th/2\n",
      "efficiency=output*100/(output+total_loss)\n",
      "\n",
      "#result\n",
      "print \"efficiency=\",efficiency,\"%\""
     ],
     "language": "python",
     "metadata": {},
     "outputs": [
      {
       "output_type": "stream",
       "stream": "stdout",
       "text": [
        "efficiency= 92.2509225092 %\n"
       ]
      }
     ],
     "prompt_number": 89
    },
    {
     "cell_type": "heading",
     "level": 2,
     "metadata": {},
     "source": [
      "Example Number 32.80, Page Number:1182"
     ]
    },
    {
     "cell_type": "code",
     "collapsed": false,
     "input": [
      "#variable declaration\n",
      "load=100.0#KW\n",
      "efficiency=0.98\n",
      "tf=4.0#hrs\n",
      "th=6.0#hrs\n",
      "t10=14.0#hrs\n",
      "\n",
      "#calculations\n",
      "#1st transformer\n",
      "inpt=load/efficiency\n",
      "tloss=inpt-load\n",
      "y=tloss/2\n",
      "x=y\n",
      "iron_loss=x*24\n",
      "cu_loss=x*tf+th*(x/2**2)+t10*(x/10**2)\n",
      "loss=iron_loss+cu_loss\n",
      "output=tf*load+th*load/2+t10*10\n",
      "e1=output/(output+loss)\n",
      "#2nd transformer\n",
      "y=tloss/(1+1.0/4)\n",
      "x=(tloss-y)\n",
      "iron_loss=x*24\n",
      "wc=tf*y+th*(y/2**2)+t10*(y/10**2)\n",
      "loss=iron_loss+wc\n",
      "e2=output/(output+loss)\n",
      "\n",
      "#result\n",
      "print \"efficiency of forst transformer=\",e1*100,\"%\"\n",
      "print \"efficiency ofsecond transformer=\",e2*100,\"%\""
     ],
     "language": "python",
     "metadata": {},
     "outputs": [
      {
       "output_type": "stream",
       "stream": "stdout",
       "text": [
        "0.408163265306 1.63265306122\n",
        "efficiency of forst transformer= 96.5245532574 %\n",
        "efficiency ofsecond transformer= 97.7876610788 %\n"
       ]
      }
     ],
     "prompt_number": 96
    },
    {
     "cell_type": "heading",
     "level": 2,
     "metadata": {},
     "source": [
      "Example Number 32.81, Page Number:1183"
     ]
    },
    {
     "cell_type": "code",
     "collapsed": false,
     "input": [
      "#variable declaration\n",
      "load=5.0#kVA\n",
      "efficiency=0.95\n",
      "nl=10.0#hrs\n",
      "ql=7.0#hrs\n",
      "hl=5.0#hrs\n",
      "fl=2.0#hrs\n",
      "\n",
      "#calculations\n",
      "inpt=load/efficiency\n",
      "loss=inpt-load\n",
      "wc_fl=loss/2\n",
      "iron_loss=loss/2\n",
      "wc_fl_4=(1.0/4)**2*wc_fl\n",
      "wc_fl_2=(1.0/2)**2*wc_fl\n",
      "wc_ql=ql*wc_fl_4\n",
      "wc_hl=hl*wc_fl_2\n",
      "wc_fl_2=fl*wc_fl\n",
      "wc=wc_ql+wc_hl+wc_fl_2\n",
      "wh=wc\n",
      "loss=wh+24*iron_loss\n",
      "output=load*1\n",
      "half_output=(output/2)\n",
      "q_load=(load/4)\n",
      "output=ql*q_load+hl*half_output+fl*output\n",
      "e=output*100/(output+loss)\n",
      "\n",
      "#result\n",
      "print \"efficiency=\",e,\"%\""
     ],
     "language": "python",
     "metadata": {},
     "outputs": [
      {
       "output_type": "stream",
       "stream": "stdout",
       "text": [
        "efficiency= 89.5592740985 %\n"
       ]
      }
     ],
     "prompt_number": 115
    },
    {
     "cell_type": "heading",
     "level": 2,
     "metadata": {},
     "source": [
      "Example Number 32.82, Page Number:1183"
     ]
    },
    {
     "cell_type": "code",
     "collapsed": false,
     "input": [
      "#variable declaration\n",
      "efficiency=0.98\n",
      "load=15#kVA\n",
      "t1=12.0#hrs\n",
      "t2=6.0#hrs\n",
      "t3=6.0#hrs\n",
      "pf1=0.5\n",
      "pf2=0.8\n",
      "k1=2#kW\n",
      "k2=12#kW\n",
      "\n",
      "#calculations\n",
      "output=load*1\n",
      "inpt=output/efficiency\n",
      "loss=inpt-output\n",
      "wc=loss/2\n",
      "wi=loss/2\n",
      "w1=k1/pf1\n",
      "w2=k2/pf2\n",
      "wc1=wc*(4/load)\n",
      "wc2=wc\n",
      "wc12=t1*wc1\n",
      "wc6=t2*wc2\n",
      "wc=(wc12+wc6)\n",
      "wi=24*wi\n",
      "output=(k1*t1)+(t2*k2)\n",
      "inpt=output+wc+wi\n",
      "e=output*100/inpt\n",
      "\n",
      "#result\n",
      "print \"efficiency=\",e,\"%\""
     ],
     "language": "python",
     "metadata": {},
     "outputs": [
      {
       "output_type": "stream",
       "stream": "stdout",
       "text": [
        "0.918367346939 3.67346938776\n",
        "efficiency= 95.4351795496 %\n"
       ]
      }
     ],
     "prompt_number": 120
    },
    {
     "cell_type": "heading",
     "level": 2,
     "metadata": {},
     "source": [
      "Example Number 32.83, Page Number:1184"
     ]
    },
    {
     "cell_type": "code",
     "collapsed": false,
     "input": [
      "#variable declaration\n",
      "load=150.0#KVA\n",
      "l1_=100.0#kVA\n",
      "t=3.0#hrs\n",
      "loss=1.0#KW\n",
      "\n",
      "#calculations\n",
      "l1=l1_/2\n",
      "l2=l1_\n",
      "output=load*1\n",
      "loss=loss*2\n",
      "e1=output/(output+loss)\n",
      "wc1=t*(1.0/3)**2*1\n",
      "wc2=8*(2.0/3)**2*1\n",
      "wc=wc1+wc2\n",
      "wi=24*1\n",
      "loss=wc+wi\n",
      "output=3*(l1*1)+8*(l2*1)\n",
      "e2=(output*100)/(output+loss)\n",
      "\n",
      "#result\n",
      "print \"ordinary efficiency=\",e1*100,\"%\"\n",
      "print \"all day efficiency=\",e2,\"%\""
     ],
     "language": "python",
     "metadata": {},
     "outputs": [
      {
       "output_type": "stream",
       "stream": "stdout",
       "text": [
        "ordinary efficiency= 98.6842105263 %\n",
        "all day efficiency= 97.1480513578 %\n"
       ]
      }
     ],
     "prompt_number": 127
    },
    {
     "cell_type": "heading",
     "level": 2,
     "metadata": {},
     "source": [
      "Example Number 32.84, Page Number:1184"
     ]
    },
    {
     "cell_type": "code",
     "collapsed": false,
     "input": [
      "#variable declaration\n",
      "load=50#KVA\n",
      "efficiency=0.94#%\n",
      "nl=10\n",
      "hl=5.0\n",
      "ql=6.0\n",
      "fl=3.0\n",
      "\n",
      "#calculations\n",
      "pi=0.5*(load*1000)*(1-efficiency)/efficiency\n",
      "wch=(0.5)**2*pi\n",
      "eh=wch*hl/1000\n",
      "wcq=(0.25)**2*pi\n",
      "eq=ql*wcq/1000\n",
      "e3=pi*3/1000\n",
      "e2=pi*24/1000\n",
      "e=25*hl+12.5*ql+50*fl\n",
      "efficiency=e/(e+e2+eh+eq+e3)\n",
      "\n",
      "#result\n",
      "print \"efficiency=\",efficiency*100,\"%\""
     ],
     "language": "python",
     "metadata": {},
     "outputs": [
      {
       "output_type": "stream",
       "stream": "stdout",
       "text": [
        "efficiency= 88.4557217274 %\n"
       ]
      }
     ],
     "prompt_number": 129
    },
    {
     "cell_type": "heading",
     "level": 2,
     "metadata": {},
     "source": [
      "Example Number 32.85, Page Number:1185"
     ]
    },
    {
     "cell_type": "code",
     "collapsed": false,
     "input": [
      "#variable declaration\n",
      "load=10.0#kVA\n",
      "t1=7.0#hrs\n",
      "t2=4.0#hrs\n",
      "t3=8.0#hrs\n",
      "t4=5.0#hrs\n",
      "k1=3.0#kW\n",
      "k2=8.0#kW\n",
      "pf1=0.6\n",
      "pf2=0.8\n",
      "\n",
      "#calculations\n",
      "x1=k1/(pf1*load)\n",
      "x2=k2/(pf2*load)\n",
      "x3=load/(1*load)\n",
      "pc1=(0.5)**2*0.1\n",
      "pc2=pc3=0.10\n",
      "o1=k1*t1\n",
      "o2=k2*t2\n",
      "o3=k2*load\n",
      "output=o1+o2+o3\n",
      "wc1=pc1*t1\n",
      "wc2=pc2*t2\n",
      "wc3=pc3*t3\n",
      "cu_loss=wc1+wc2+wc3\n",
      "loss=400.0*24/10000\n",
      "efficiency=output/(output+loss+cu_loss)\n",
      "\n",
      "#result\n",
      "print \"efficency=\",efficiency*100,\"%\""
     ],
     "language": "python",
     "metadata": {},
     "outputs": [
      {
       "output_type": "stream",
       "stream": "stdout",
       "text": [
        "efficency= 98.27465179 %\n"
       ]
      }
     ],
     "prompt_number": 142
    },
    {
     "cell_type": "heading",
     "level": 2,
     "metadata": {},
     "source": [
      "Example Number 32.86, Page Number:1185"
     ]
    },
    {
     "cell_type": "code",
     "collapsed": false,
     "input": [
      "#variable declaration\n",
      "efficiency=.98\n",
      "load=15.0#kVA\n",
      "t1=12.0\n",
      "t2=6.0\n",
      "t3=6.0\n",
      "pf1=0.8\n",
      "pf2=0.8\n",
      "pf3=0.9\n",
      "k1=2.0\n",
      "k2=12.0\n",
      "k3=18.0\n",
      "#calculations\n",
      "output=load*1000\n",
      "inpt=output/efficiency\n",
      "loss=inpt-output\n",
      "cu_loss=loss/2\n",
      "x1=k1/(0.5*load)\n",
      "x2=k2/(pf2*load)\n",
      "x3=k3/(pf3*load)\n",
      "wc1=0.131\n",
      "wc2=0.918\n",
      "wc3=1.632\n",
      "o1=t1*k1\n",
      "o2=t2*k2\n",
      "o3=t3*k3\n",
      "output=o1+o2+o3\n",
      "loss=wc1+wc2+wc3+0.153*24\n",
      "efficiency=(output*100)/(output+loss)\n",
      "\n",
      "#result\n",
      "print \"efficiency=\",efficiency,\"%\""
     ],
     "language": "python",
     "metadata": {},
     "outputs": [
      {
       "output_type": "stream",
       "stream": "stdout",
       "text": [
        "efficiency= 96.9798386522 %\n"
       ]
      }
     ],
     "prompt_number": 143
    },
    {
     "cell_type": "heading",
     "level": 2,
     "metadata": {},
     "source": [
      "Example Number 32.87, Page Number:1188"
     ]
    },
    {
     "cell_type": "code",
     "collapsed": false,
     "input": [
      "#variable declaration\n",
      "load=3.0#kW\n",
      "v1=115.0#V\n",
      "v2=230.0#V\n",
      "\n",
      "#calculation\n",
      "k=v1/v2\n",
      "power=load*(1-k)\n",
      "power2=k*load\n",
      "\n",
      "#result\n",
      "print \"a)power transferred inductively=\",power,\"kW\"\n",
      "print \"b)power transferred conductively=\",power2,\"kW\""
     ],
     "language": "python",
     "metadata": {},
     "outputs": [
      {
       "output_type": "stream",
       "stream": "stdout",
       "text": [
        "a)power transferred inductively= 1.5 kW\n",
        "b)power transferred conductively= 1.5 kW\n"
       ]
      }
     ],
     "prompt_number": 145
    },
    {
     "cell_type": "heading",
     "level": 2,
     "metadata": {},
     "source": [
      "Example Number 32.88, Page Number:1188"
     ]
    },
    {
     "cell_type": "code",
     "collapsed": false,
     "input": [
      "#variable declaration\n",
      "v1=500.0#V\n",
      "v2=400.0#V\n",
      "i=100.0#A\n",
      "\n",
      "#calculations\n",
      "k=v2/v1\n",
      "i1=k*i\n",
      "saving=k*100\n",
      "\n",
      "#result\n",
      "print \"economy of cu=\",saving"
     ],
     "language": "python",
     "metadata": {},
     "outputs": [
      {
       "output_type": "stream",
       "stream": "stdout",
       "text": [
        "economy of cu= 80.0\n"
       ]
      }
     ],
     "prompt_number": 147
    },
    {
     "cell_type": "heading",
     "level": 2,
     "metadata": {},
     "source": [
      "Example Number 32.89, Page Number:1188"
     ]
    },
    {
     "cell_type": "code",
     "collapsed": false,
     "input": [
      "#variable declaration\n",
      "load=500.0#KVA\n",
      "f=50.0#Hz\n",
      "v1=6600.0#V\n",
      "v2=5000.0#V\n",
      "e=8.0#V\n",
      "phim1=1.3#Wb/m2\n",
      "\n",
      "#calculations\n",
      "phim=e/(4.44*f)\n",
      "area=phim/phim1\n",
      "n1=v1/e\n",
      "n2=v2/e\n",
      "\n",
      "#result\n",
      "print \"core area=\",area*10000,\"m2\"\n",
      "print \"number of turns on the hv side=\",n1\n",
      "print \"number of turns on the lv side=\",n2"
     ],
     "language": "python",
     "metadata": {},
     "outputs": [
      {
       "output_type": "stream",
       "stream": "stdout",
       "text": [
        "core area= 277.2002772 m2\n",
        "number of turns on the hv side= 825.0\n",
        "number of turns on the lv side= 625.0\n"
       ]
      }
     ],
     "prompt_number": 150
    },
    {
     "cell_type": "heading",
     "level": 2,
     "metadata": {},
     "source": [
      "Example Number 32.90, Page Number:1189"
     ]
    },
    {
     "cell_type": "code",
     "collapsed": false,
     "input": [
      "#variable declaration\n",
      "load=20.0#KVA\n",
      "v1=2400.0#V\n",
      "v2=240.0#V\n",
      "\n",
      "#calculation\n",
      "i1=round(load*1000/v1,1)\n",
      "k=v2/v1\n",
      "i2=i1/k\n",
      "kva=2640*i2*0.001\n",
      "kva_per=kva*100/load\n",
      "i1_=kva*1000/v1\n",
      "ic=i1_-i2\n",
      "over=ic*100/i1\n",
      "\n",
      "#result\n",
      "print \"i)i1=\",i1,\"A\"\n",
      "print \"ii)i2=\",i2,\"A\"\n",
      "print \"iii)kVA rating=\",kva,\"kVA\"\n",
      "print \"iv)per cent increase in kVA=\",kva_per,\"%\"\n",
      "print \"v)I1=\",i1_,\"A\"\n",
      "print \"  Ic=\",ic,\"A\"\n",
      "print \"vi)per cent overload=\",over,\"%\"\n"
     ],
     "language": "python",
     "metadata": {},
     "outputs": [
      {
       "output_type": "stream",
       "stream": "stdout",
       "text": [
        "i)i1= 8.3 A\n",
        "ii)i2= 83.0 A\n",
        "iii)kVA rating= 219.12 kVA\n",
        "iv)per cent increase in kVA= 1095.6 %\n",
        "v)I1= 91.3 A\n",
        "  Ic= 8.3 A\n",
        "vi)per cent overload= 100.0 %\n"
       ]
      }
     ],
     "prompt_number": 159
    },
    {
     "cell_type": "heading",
     "level": 2,
     "metadata": {},
     "source": [
      "Example Number 32.91, Page Number:1190"
     ]
    },
    {
     "cell_type": "code",
     "collapsed": false,
     "input": [
      "#variable declaration\n",
      "load=20.0#KVA\n",
      "v1=2400.0#V\n",
      "v2=240.0#V\n",
      "\n",
      "#calculation\n",
      "i1=round(load*1000/v1,1)\n",
      "k=v2/v1\n",
      "i2=i1/k\n",
      "kva=2160*i2*0.001\n",
      "kva_per=kva*100/load\n",
      "i1_=kva*1000/v1\n",
      "ic=i2-i1_\n",
      "over=ic*100/i1\n",
      "\n",
      "#result\n",
      "print \"i)i1=\",i1,\"A\"\n",
      "print \"ii)i2=\",i2,\"A\"\n",
      "print \"iii)kVA rating=\",kva,\"kVA\"\n",
      "print \"iv)per cent increase in kVA=\",kva_per,\"%\"\n",
      "print \"v)I1=\",i1_,\"A\"\n",
      "print \"  Ic=\",ic,\"A\"\n",
      "print \"vi)per cent overload=\",over,\"%\"\n"
     ],
     "language": "python",
     "metadata": {},
     "outputs": [
      {
       "output_type": "stream",
       "stream": "stdout",
       "text": [
        "i)i1= 8.3 A\n",
        "ii)i2= 83.0 A\n",
        "iii)kVA rating= 179.28 kVA\n",
        "iv)per cent increase in kVA= 896.4 %\n",
        "v)I1= 74.7 A\n",
        "  Ic= 8.3 A\n",
        "vi)per cent overload= 100.0 %\n"
       ]
      }
     ],
     "prompt_number": 160
    },
    {
     "cell_type": "heading",
     "level": 2,
     "metadata": {},
     "source": [
      "Example Number 32.92, Page Number:1190"
     ]
    },
    {
     "cell_type": "code",
     "collapsed": false,
     "input": [
      "#variable declaration\n",
      "load=5.0#kVA\n",
      "v1=110.0#V\n",
      "v2=110.0#V\n",
      "f=50.0#Hz\n",
      "efficiency=0.95\n",
      "iron_loss=50.0#W\n",
      "v=220.0#V\n",
      "\n",
      "#calculations\n",
      "cu_loss=load*1000/efficiency-load*1000-iron_loss\n",
      "efficiency=load*1000/(load*1000+cu_loss/4+iron_loss)\n",
      "i2=(load*1000+cu_loss/4+iron_loss)/v\n",
      "\n",
      "#result\n",
      "print \"efficiency=\",efficiency*100,\"%\"\n",
      "print \"current drawn on hv side=\",i2,\"A\""
     ],
     "language": "python",
     "metadata": {},
     "outputs": [
      {
       "output_type": "stream",
       "stream": "stdout",
       "text": [
        "efficiency= 97.9760216579 %\n",
        "current drawn on hv side= 23.1967703349 A\n"
       ]
      }
     ],
     "prompt_number": 163
    },
    {
     "cell_type": "heading",
     "level": 2,
     "metadata": {},
     "source": [
      "Example Number 32.93, Page Number:1191"
     ]
    },
    {
     "cell_type": "code",
     "collapsed": false,
     "input": [
      "#variable declaration\n",
      "v1=11500#V\n",
      "v2=2300#V\n",
      "\n",
      "#calculations\n",
      "kva=(v1+v2)*50*0.001\n",
      "\n",
      "#result\n",
      "print \"voltage output=\",v1+v2,\"V\"\n",
      "print \"kVA rating of auto transformer=\",kva,\"kVA\""
     ],
     "language": "python",
     "metadata": {},
     "outputs": [
      {
       "output_type": "stream",
       "stream": "stdout",
       "text": [
        "voltage output= 13800 V\n",
        "kVA rating of auto transformer= 690.0 kVA\n"
       ]
      }
     ],
     "prompt_number": 164
    },
    {
     "cell_type": "heading",
     "level": 2,
     "metadata": {},
     "source": [
      "Example Number 32.94, Page Number:1191"
     ]
    },
    {
     "cell_type": "code",
     "collapsed": false,
     "input": [
      "#variable declaration\n",
      "v1=11500.0#V\n",
      "v2=2300.0#V\n",
      "load=100.0#KVA\n",
      "\n",
      "#calculations\n",
      "i1=load*100/v1\n",
      "i2=load*100/v2\n",
      "kva1=(v1+v2)*i1/(100)\n",
      "kva2=(v1+v2)*i2/(100)\n",
      "#result\n",
      "print \"voltage ratios=\",(v1+v2)/v1,\"or\",(v1+v2)/v2\n",
      "print \"kVA rating in first case=\",kva1\n",
      "print \"kVA rating in second case=\",kva2"
     ],
     "language": "python",
     "metadata": {},
     "outputs": [
      {
       "output_type": "stream",
       "stream": "stdout",
       "text": [
        "voltage ratios= 1.2 or 6.0\n",
        "kVA rating in first case= 120.0\n",
        "kVA rating in second case= 600.0\n"
       ]
      }
     ],
     "prompt_number": 167
    },
    {
     "cell_type": "heading",
     "level": 2,
     "metadata": {},
     "source": [
      "Example Number 32.95, Page Number:1192"
     ]
    },
    {
     "cell_type": "code",
     "collapsed": false,
     "input": [
      "#variable declaration\n",
      "v1=2400.0#v\n",
      "v2=240.0#V\n",
      "load=50.0#kVA\n",
      "\n",
      "#calculations\n",
      "i1=load*1000/v1\n",
      "i2=load*1000/v2\n",
      "output=2640*i2\n",
      "i=i2*2640/v1\n",
      "k=2640/v1\n",
      "poweri=v1*i1*0.001\n",
      "power=output/1000-poweri\n",
      "\n",
      "#result\n",
      "print \"rating of the auto-transformer=\",output/1000,\"kVA\"\n",
      "print \"inductively transferred powers=\",poweri,\"kW\"\n",
      "print \"conductively transferred powers=\",power,\"kW\""
     ],
     "language": "python",
     "metadata": {},
     "outputs": [
      {
       "output_type": "stream",
       "stream": "stdout",
       "text": [
        "rating of the auto-transformer= 550.0 kVA\n",
        "inductively transferred powers= 50.0 kW\n",
        "conductively transferred powers= 500.0 kW\n"
       ]
      }
     ],
     "prompt_number": 169
    },
    {
     "cell_type": "heading",
     "level": 2,
     "metadata": {},
     "source": [
      "Example Number 32.96, Page Number:1196"
     ]
    },
    {
     "cell_type": "code",
     "collapsed": false,
     "input": [
      "#variable declaration\n",
      "za=complex(0.5,3)\n",
      "zb=complex(0.,10)\n",
      "load=100#KW\n",
      "pf=0.8\n",
      "\n",
      "#calculations\n",
      "s=load/pf*complex(pf,math.sin(math.acos(pf)))\n",
      "sa=s*zb/(za+zb)\n",
      "sb=s*za/(za+zb)\n",
      "\n",
      "#result\n",
      "print \"SA=\",abs(sa)*math.cos(math.atan(sa.imag/sa.real)),\"kW\"\n",
      "print \"SB=\",abs(sb)*math.cos(math.atan(sb.imag/sb.real)),\"kW\""
     ],
     "language": "python",
     "metadata": {},
     "outputs": [
      {
       "output_type": "stream",
       "stream": "stdout",
       "text": [
        "96.082805253\n",
        "SA= 74.5937961595 kW\n",
        "SB= 25.4062038405 kW\n"
       ]
      }
     ],
     "prompt_number": 174
    },
    {
     "cell_type": "heading",
     "level": 2,
     "metadata": {},
     "source": [
      "Example Number 32.97, Page Number:1197"
     ]
    },
    {
     "cell_type": "code",
     "collapsed": false,
     "input": [
      "#variable declaration\n",
      "r1=0.005#ohm\n",
      "r2=0.01#ohm\n",
      "x1=0.05#ohm\n",
      "x2=0.04#ohm\n",
      "pf=0.8\n",
      "\n",
      "#calculation\n",
      "za=complex(r1,x1)\n",
      "zb=complex(r2,x2)\n",
      "pf=math.cos(math.degrees((-1)*math.acos(pf))*math.degrees(math.atan((za/zb).imag/(za/zb).real)))\n",
      "\n",
      "#result\n",
      "print \"load of B=\",abs(za/zb)\n",
      "print \"pf of B=\",pf"
     ],
     "language": "python",
     "metadata": {},
     "outputs": [
      {
       "output_type": "stream",
       "stream": "stdout",
       "text": [
        "load of B= 1.21872643265\n",
        "pf of B= 0.613584256393\n"
       ]
      }
     ],
     "prompt_number": 202
    },
    {
     "cell_type": "heading",
     "level": 2,
     "metadata": {},
     "source": [
      "Example Number 32.98, Page Number:1197"
     ]
    },
    {
     "cell_type": "code",
     "collapsed": false,
     "input": [
      "#variable declaration\n",
      "load=250#kVA\n",
      "za=complex(1,6)\n",
      "zb=complex(1.2,4.8)\n",
      "load1=500#kVA\n",
      "pf=0.8\n",
      "\n",
      "#calculations\n",
      "s=load1*complex(-pf,math.sin(math.acos(pf)))\n",
      "sa=s*zb/(za+zb)\n",
      "sb=s*za/(za+zb)\n",
      "\n",
      "#result\n",
      "print \"SA=\",abs(sa),math.degrees(math.atan(sa.imag/sa.real)),\"degrees\"\n",
      "print \"SB=\",abs(sb),math.degrees(math.atan(sb.imag/sb.real)),\"degrees\""
     ],
     "language": "python",
     "metadata": {},
     "outputs": [
      {
       "output_type": "stream",
       "stream": "stdout",
       "text": [
        "SA= 224.451917244 -39.3923099293\n",
        "SB= 275.942423833 -34.8183886694\n"
       ]
      }
     ],
     "prompt_number": 205
    },
    {
     "cell_type": "heading",
     "level": 2,
     "metadata": {},
     "source": [
      "Example Number 32.99, Page Number:1197"
     ]
    },
    {
     "cell_type": "code",
     "collapsed": false,
     "input": [
      "#variabledeclaration\n",
      "load=100.0#KW\n",
      "r1=0.5\n",
      "x1=8.0\n",
      "r2=0.75\n",
      "x2=4.0\n",
      "load1=180.0#kW\n",
      "pf=0.9\n",
      "\n",
      "#calculations\n",
      "load=load1/pf\n",
      "s=load*complex(pf,-math.sin(math.acos(pf)))\n",
      "z1=complex(r1,x1)\n",
      "z2=complex(r2,x2)\n",
      "s1=s*z2/(z1+z2)\n",
      "s2=s*z1/(z1+z2)\n",
      "kw1=abs(s1)*math.cos(math.atan(s1.imag/s1.real))\n",
      "kw2=abs(s2)*math.cos(math.atan(s2.imag/s2.real))\n",
      "\n",
      "#result\n",
      "print \"kW1=\",kw1,\"kW\"\n",
      "print \"kW2=\",kw2,\"kW\""
     ],
     "language": "python",
     "metadata": {},
     "outputs": [
      {
       "output_type": "stream",
       "stream": "stdout",
       "text": [
        "(1.25+12j)\n",
        "kW1= 58.119626171 kW\n",
        "kW2= 121.880373829 kW\n"
       ]
      }
     ],
     "prompt_number": 214
    },
    {
     "cell_type": "heading",
     "level": 2,
     "metadata": {},
     "source": [
      "Example Number 32.100, Page Number:1197"
     ]
    },
    {
     "cell_type": "code",
     "collapsed": false,
     "input": [
      "#variable declaration\n",
      "load=200.0#kW\n",
      "pf=0.85\n",
      "za=complex(1,5)\n",
      "zb=complex(2,6)\n",
      "\n",
      "#calculations\n",
      "s=load/pf*complex(0.85,-0.527)\n",
      "sa=s*zb/(za+zb)\n",
      "sb=s*za/(za+zb)\n",
      "\n",
      "#result\n",
      "print \"kVA for A=\",abs(sa),math.cos(math.atan(sa.imag/sa.real)),\"lag\"\n",
      "print \"kVA for B=\",abs(sb),math.cos(math.atan(sb.imag/sb.real)),\"lag\""
     ],
     "language": "python",
     "metadata": {},
     "outputs": [
      {
       "output_type": "stream",
       "stream": "stdout",
       "text": [
        "kVA for A= 130.53263665 0.819364787986 lag\n",
        "kVA for B= 105.238776124 0.884143252833 lag\n"
       ]
      }
     ],
     "prompt_number": 216
    },
    {
     "cell_type": "heading",
     "level": 2,
     "metadata": {},
     "source": [
      "Example Number 32.101, Page Number:1198"
     ]
    },
    {
     "cell_type": "code",
     "collapsed": false,
     "input": [
      "#variable declaration\n",
      "v1=2200.0#V\n",
      "v2=110.0#V\n",
      "load=125.0#kVA\n",
      "pf=0.8\n",
      "za=complex(0.9,10)\n",
      "zb=(100/50)*complex(1.0,5)\n",
      "\n",
      "#calculation\n",
      "s=load*complex(pf,-math.sin(math.acos(pf)))\n",
      "sa=s*zb/(za+zb)\n",
      "sb=s*za/(za+zb)\n",
      "\n",
      "#result\n",
      "print \"SA=\",abs(sa),math.degrees(math.atan(sa.imag/sa.real)),\"degrees\"\n",
      "print \"SB=\",abs(sb),math.degrees(math.atan(sb.imag/sb.real)),\"degrees\"\n",
      "\n"
     ],
     "language": "python",
     "metadata": {},
     "outputs": [
      {
       "output_type": "stream",
       "stream": "stdout",
       "text": [
        "SA= 63.0780848499 -39.929442891 degrees\n",
        "SB= 62.1031510961 -33.7622749748 degrees\n"
       ]
      }
     ],
     "prompt_number": 218
    },
    {
     "cell_type": "heading",
     "level": 2,
     "metadata": {},
     "source": [
      "Example Number 32.102, Page Number:1199"
     ]
    },
    {
     "cell_type": "code",
     "collapsed": false,
     "input": [
      "#variable declaration\n",
      "load1=500#kVA\n",
      "za=complex(1,5)\n",
      "load2=250#kVA\n",
      "zb=complex(1.5,4)\n",
      "v2=400#V\n",
      "load=750#kVA\n",
      "pf=0.8\n",
      "\n",
      "#calculation\n",
      "zb=(500/load2)*zb\n",
      "s=load*complex(pf,-math.sin(math.acos(pf)))\n",
      "sa=s*zb/(za+zb)\n",
      "sb=s*za/(za+zb)\n",
      "\n",
      "#result\n",
      "print \"SA=\",abs(sa),math.degrees(math.atan(sa.imag/sa.real)),\"degrees\"\n",
      "print \"SB=\",abs(sb),math.degrees(math.atan(sb.imag/sb.real)),\"degrees\""
     ],
     "language": "python",
     "metadata": {},
     "outputs": [
      {
       "output_type": "stream",
       "stream": "stdout",
       "text": [
        "SA= 471.125736359 -40.3232138964 degrees\n",
        "SB= 281.165527855 -31.0771011508 degrees\n"
       ]
      }
     ],
     "prompt_number": 219
    },
    {
     "cell_type": "heading",
     "level": 2,
     "metadata": {},
     "source": [
      "Example Number 32.103, Page Number:1199"
     ]
    },
    {
     "cell_type": "code",
     "collapsed": false,
     "input": [
      "#variable declaration\n",
      "i=1000#A\n",
      "pf=0.8\n",
      "za=complex(2,3)\n",
      "zb=complex(2.5,5)\n",
      "\n",
      "#calculations\n",
      "i=i*complex(pf,-math.sin(math.acos(pf)))\n",
      "ratio=zb/za\n",
      "ib=i/(1+ratio)\n",
      "ia=i-ib\n",
      "ratio=ia.real/ib.real\n",
      "\n",
      "#result\n",
      "print \"IA=\",ia\n",
      "print \"IB=\",ib\n",
      "print \"ratio of output=\",ratio"
     ],
     "language": "python",
     "metadata": {},
     "outputs": [
      {
       "output_type": "stream",
       "stream": "stdout",
       "text": [
        "IA= (504.451038576-341.246290801j)\n",
        "IB= (295.548961424-258.753709199j)\n",
        "ratio of output= 1.70682730924\n"
       ]
      }
     ],
     "prompt_number": 220
    },
    {
     "cell_type": "heading",
     "level": 2,
     "metadata": {},
     "source": [
      "Example Number 32.104, Page Number:1200"
     ]
    },
    {
     "cell_type": "code",
     "collapsed": false,
     "input": [
      "#variable declaration\n",
      "v1=1000.0#V\n",
      "v2=500.0#V\n",
      "load=100.0#kVA\n",
      "za=complex(1.0,5.0)\n",
      "zb=complex(2.0,2.0)\n",
      "load1=300.0#kVA\n",
      "pf=0.8\n",
      "\n",
      "#calculations\n",
      "zb=(100.0/250)*zb\n",
      "s=load1*complex(pf,-math.sin(math.acos(pf)))\n",
      "sa=s*zb/(za+zb)\n",
      "sb=s*za/(za+zb)\n",
      "zab=za*zb/(za+zb)\n",
      "drop=zab.real*240/100+zab.imag*180/100\n",
      "v2=v2-v2*drop/100\n",
      "\n",
      "#result\n",
      "print \"SA=\",abs(sa),math.degrees(math.atan(sa.imag/sa.real)),\"degrees\"\n",
      "print \"SB=\",abs(sb),math.degrees(math.atan(sb.imag/sb.real)),\"degrees\"\n",
      "print \"secondary voltage=\",v2,\"V\"\n"
     ],
     "language": "python",
     "metadata": {},
     "outputs": [
      {
       "output_type": "stream",
       "stream": "stdout",
       "text": [
        "SA= 55.8895719399 -64.6284382469 degrees\n",
        "SB= 251.890896741 -30.9383707209 degrees\n",
        "secondary voltage= 486.177874187 V\n"
       ]
      }
     ],
     "prompt_number": 223
    },
    {
     "cell_type": "heading",
     "level": 2,
     "metadata": {},
     "source": [
      "Example Number 32.105, Page Number:1200"
     ]
    },
    {
     "cell_type": "code",
     "collapsed": false,
     "input": [
      "#variable declaration\n",
      "n11=5000.0\n",
      "n12=440.0\n",
      "load1=200#kVA\n",
      "n21=5000.0\n",
      "n22=480.0\n",
      "load2=350#kVA\n",
      "x=3.5\n",
      "\n",
      "#calculation\n",
      "i1=load1*1000/n12\n",
      "i2=load2*1000/n22\n",
      "x1=x*n12/(100*i1)\n",
      "x2=x*n22/(100*i2)\n",
      "ic=(n22-n12)/0.057\n",
      "\n",
      "#result\n",
      "print \"no-load circulation current=\",ic/i1,\"times the normal current of 200 kVA unit\""
     ],
     "language": "python",
     "metadata": {},
     "outputs": [
      {
       "output_type": "stream",
       "stream": "stdout",
       "text": [
        "no-load circulation current= 1.54385964912 times the normal current of 200 kVA unit\n"
       ]
      }
     ],
     "prompt_number": 225
    },
    {
     "cell_type": "heading",
     "level": 2,
     "metadata": {},
     "source": [
      "Example Number 32.106, Page Number:1203"
     ]
    },
    {
     "cell_type": "code",
     "collapsed": false,
     "input": [
      "#variabe declaration\n",
      "ea=6600#V\n",
      "eb=6400#V\n",
      "za=complex(0.3,3)\n",
      "zb=complex(0.2,1)\n",
      "zl=complex(8.0,6.0)\n",
      "ia=(ea*zb+(ea-eb)*zl)/(za*zb+zl*(za+zb))\n",
      "ib=(eb*za-(ea-eb)*zl)/(za*zb+zl*(za+zb))\n",
      "\n",
      "#result\n",
      "print \"IA=\",abs(ia),\"A\"\n",
      "print \"IB=\",abs(ib),\"A\""
     ],
     "language": "python",
     "metadata": {},
     "outputs": [
      {
       "output_type": "stream",
       "stream": "stdout",
       "text": [
        "IA= 195.492387533 A\n",
        "IB= 422.567795916 A\n"
       ]
      }
     ],
     "prompt_number": 227
    },
    {
     "cell_type": "heading",
     "level": 2,
     "metadata": {},
     "source": [
      "Example Number 32.107, Page Number:1204"
     ]
    },
    {
     "cell_type": "code",
     "collapsed": false,
     "input": [
      "#variable declaration\n",
      "load1=100.0#kVA\n",
      "load2=50.0#kVA\n",
      "v1=1000.0#V\n",
      "v2=950.0#V\n",
      "r1=2.0\n",
      "r2=2.5\n",
      "x1=8.0\n",
      "x2=6.0\n",
      "\n",
      "#calculations\n",
      "ia=load1*1000/v1\n",
      "ra=v1*r1/(100*ia)\n",
      "xa=v1*x1/(100*ia)\n",
      "ib=load2*1000/v2\n",
      "rb=v2*r2/(100*ib)\n",
      "xb=v2*x2/(100*ib)\n",
      "z=((ra+rb)**2+(xa+xb)**2)**0.5\n",
      "ic=(v1-v2)/z\n",
      "alpha=math.atan((xa+xb)/(ra+rb))\n",
      "\n",
      "#result\n",
      "print \"no load circulating current=\",ic,\"A\""
     ],
     "language": "python",
     "metadata": {},
     "outputs": [
      {
       "output_type": "stream",
       "stream": "stdout",
       "text": [
        "no load circulating current= 25.0948635944 A\n"
       ]
      }
     ],
     "prompt_number": 231
    },
    {
     "cell_type": "heading",
     "level": 1,
     "metadata": {},
     "source": [
      "Example Number 32.108, Page Number:1204"
     ]
    },
    {
     "cell_type": "code",
     "collapsed": false,
     "input": [
      "#variable declaration\n",
      "load1=1000.0#KVA\n",
      "load2=500.0#kVA\n",
      "v1=500.0#V\n",
      "v2=510.0#V\n",
      "z1=3.0\n",
      "z2=5.0\n",
      "r=0.4\n",
      "\n",
      "#calculation\n",
      "ia=load1*1000/480\n",
      "ib=load2*1000/480\n",
      "za=z1*v1/(100*ia)\n",
      "zb=z2*v2/(100*ib)\n",
      "ic=(v2-v1)/(za+zb)\n",
      "\n",
      "#result\n",
      "print \"cross current=\",ic,\"A\""
     ],
     "language": "python",
     "metadata": {},
     "outputs": [
      {
       "output_type": "stream",
       "stream": "stdout",
       "text": [
        "cross current= 315.656565657 A\n"
       ]
      }
     ],
     "prompt_number": 233
    },
    {
     "cell_type": "heading",
     "level": 2,
     "metadata": {},
     "source": [
      "Example Number 32.109, Page Number:1204"
     ]
    },
    {
     "cell_type": "code",
     "collapsed": false,
     "input": [
      "#variable declaration\n",
      "loada=500.0#KVA\n",
      "loadb=250.0#kVA\n",
      "load=750.0#KVA\n",
      "pf=0.8\n",
      "v1=405.0#V\n",
      "v2=415.0#V\n",
      "ra=1.0\n",
      "rb=1.5\n",
      "xa=5.0\n",
      "xb=4.0\n",
      "\n",
      "#calculations\n",
      "ia=loada*1000/400\n",
      "ra=400/(100*ia)\n",
      "xa=xa*400/(100*ia)\n",
      "ib=loadb*1000/400\n",
      "rb=rb*400/(100*ib)\n",
      "xb=xb*400/(100*ib)\n",
      "za=complex(ra,xa)\n",
      "zb=complex(rb,xb)\n",
      "zl=400**2*0.001/load*complex(pf,math.sin(math.acos(pf)))\n",
      "ic=(v1-v2)/(za+zb)\n",
      "ia=(v1*zb+(v1-v2)*zl)/(za*zb+zl*(za+zb))\n",
      "ib=(v2*za-(v1-v2)*zl)/(za*zb+zl*(za+zb))\n",
      "sa=400*ia/1000\n",
      "sb=400*ib/1000\n",
      "pf1=math.cos(math.atan(sa.imag/sa.real))\n",
      "pf2=math.cos(math.atan(sb.imag/sb.real))\n",
      "\n",
      "#result\n",
      "print \"a)cross current=\",-abs(ic),math.degrees(math.atan(ic.imag/ic.real))\n",
      "print \"b)SA=\",abs(sa),pf1,\"lag\"\n",
      "print \"  SB=\",abs(sb),pf2,\"lag\""
     ],
     "language": "python",
     "metadata": {},
     "outputs": [
      {
       "output_type": "stream",
       "stream": "stdout",
       "text": [
        "a)cross current= -229.754569404 -72.8972710309\n",
        "b)SA= 387.844943528 0.820048560714 lag\n",
        "  SB= 351.964386212 0.738709225528 lag\n"
       ]
      }
     ],
     "prompt_number": 243
    },
    {
     "cell_type": "heading",
     "level": 2,
     "metadata": {},
     "source": [
      "Example Number 32.110, Page Number:1205"
     ]
    },
    {
     "cell_type": "code",
     "collapsed": false,
     "input": [
      "#variable declaration\n",
      "zl=complex(2.0,1.5)\n",
      "za=complex(0.15,0.5)\n",
      "zb=complex(0.1,0.6)\n",
      "ea=207#V\n",
      "eb=205#V\n",
      "\n",
      "#calculations\n",
      "ia=(ea*zb+(ea-eb)*zl)/(za*zb+zl*(za+zb))\n",
      "ib=(eb*za-(ea-eb)*zl)/(za*zb+zl*(za+zb))\n",
      "v2_=(ia+ib)*zl\n",
      "angle=math.atan(v2_.imag/v2_.real)-math.atan(ia.imag/ia.real)\n",
      "pfa=math.cos(angle)\n",
      "angle=math.atan(v2_.imag/v2_.real)-math.atan(ib.imag/ib.real)\n",
      "pfb=math.cos(angle)\n",
      "pa=abs(v2_)*abs(ia)*pfa\n",
      "pb=abs(v2_)*abs(ib)*pfb\n",
      "\n",
      "#result\n",
      "print \"power output:\"\n",
      "print \" A:\",pa,\"W\"\n",
      "print \" B:\",pb,\"W\"\n",
      "print \"power factor:\"\n",
      "print \" A:\",pfa\n",
      "print \" B:\",pfb\n"
     ],
     "language": "python",
     "metadata": {},
     "outputs": [
      {
       "output_type": "stream",
       "stream": "stdout",
       "text": [
        "power output:\n",
        " A: 6535.37583042 W\n",
        " B: 4925.36941503 W\n",
        "power factor:\n",
        " A: 0.818428780129\n",
        " B: 0.775705655277\n"
       ]
      }
     ],
     "prompt_number": 248
    },
    {
     "cell_type": "heading",
     "level": 2,
     "metadata": {},
     "source": [
      "Example Number 32.111, Page Number:1206"
     ]
    },
    {
     "cell_type": "code",
     "collapsed": false,
     "input": [
      "#variable declaration\n",
      "ia=200.0#A\n",
      "ib=600.0#A\n",
      "ra=0.02#ohm\n",
      "rb=0.025#ohm\n",
      "xa=0.05#ohm\n",
      "xb=0.06#ohm\n",
      "ea=245.0#V\n",
      "eb=240.0#V\n",
      "zl=complex(0.25,0.1)\n",
      "\n",
      "#calculation\n",
      "za=(ea/ia)*complex(ra,xa)\n",
      "zb=(eb/ib)*complex(rb,xb)\n",
      "i=(ea*zb+eb*za)/(za*zb+zl*(za+zb))\n",
      "v2=i*zl\n",
      "\n",
      "#result\n",
      "print \"terminal voltage=\",round(abs(v2)),round(math.degrees(math.atan(v2.imag/v2.real))),\"degrees\"\n"
     ],
     "language": "python",
     "metadata": {},
     "outputs": [
      {
       "output_type": "stream",
       "stream": "stdout",
       "text": [
        "terminal voltage= 230.0 -3.0 degrees\n"
       ]
      }
     ],
     "prompt_number": 251
    },
    {
     "cell_type": "code",
     "collapsed": false,
     "input": [],
     "language": "python",
     "metadata": {},
     "outputs": []
    }
   ],
   "metadata": {}
  }
 ]
}