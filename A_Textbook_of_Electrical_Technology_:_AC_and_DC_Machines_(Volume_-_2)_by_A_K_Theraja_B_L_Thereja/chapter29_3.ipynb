{
 "metadata": {
  "name": "",
  "signature": "sha256:f1e5688d45c7bb285838d2aad7b4c0c08dc93f4afbba4c253d97655938545a41"
 },
 "nbformat": 3,
 "nbformat_minor": 0,
 "worksheets": [
  {
   "cells": [
    {
     "cell_type": "heading",
     "level": 1,
     "metadata": {},
     "source": [
      "Chapter 29: D.C. Motor"
     ]
    },
    {
     "cell_type": "heading",
     "level": 2,
     "metadata": {},
     "source": [
      "Example Number 29.1, Page Number:999"
     ]
    },
    {
     "cell_type": "code",
     "collapsed": false,
     "input": [
      "#variable declaration\n",
      "v=220#V\n",
      "r=0.5#ohm\n",
      "i=20#A\n",
      "\n",
      "#calculation\n",
      "#as generator \n",
      "eg=v+i*r\n",
      "#as motor\n",
      "eb=v-i*r\n",
      "\n",
      "#result\n",
      "print \"as generator:eg=\",eg,\"V\"\n",
      "print \"as motor:eb=\",eb,\"V\""
     ],
     "language": "python",
     "metadata": {},
     "outputs": [
      {
       "output_type": "stream",
       "stream": "stdout",
       "text": [
        "as generator:eg= 230.0 V\n",
        "as motor:eb= 210.0 V\n"
       ]
      }
     ],
     "prompt_number": 3
    },
    {
     "cell_type": "heading",
     "level": 2,
     "metadata": {},
     "source": [
      "Example Number 29.2, Page Number:999"
     ]
    },
    {
     "cell_type": "code",
     "collapsed": false,
     "input": [
      "import math\n",
      "from sympy.solvers import solve\n",
      "from sympy import Symbol\n",
      "#variable declaration\n",
      "ia=Symbol('ia')\n",
      "r=0.1#ohm\n",
      "brush_drop=2#V\n",
      "n=1000#rpm\n",
      "i=100#A\n",
      "v=250#V\n",
      "n2=700#rpm\n",
      "\n",
      "#calculations\n",
      "rl=v/i\n",
      "eg1=v+i*r+brush_drop\n",
      "eg2=eg1*n2/n\n",
      "ia=solve(eg2-2-ia*r-2.5*ia,ia)\n",
      "\n",
      "#result\n",
      "print \"current delivered to the load=\",ia[0],\"A\""
     ],
     "language": "python",
     "metadata": {},
     "outputs": [
      {
       "output_type": "stream",
       "stream": "stdout",
       "text": [
        "current delivered to the load= 69.7692307692308 A\n"
       ]
      }
     ],
     "prompt_number": 1
    },
    {
     "cell_type": "heading",
     "level": 2,
     "metadata": {},
     "source": [
      "Example Number 29.3, Page Number:999"
     ]
    },
    {
     "cell_type": "code",
     "collapsed": false,
     "input": [
      "#variable declaration\n",
      "v=440#V\n",
      "ra=0.8#ohm\n",
      "rf=200#ohm\n",
      "output=7.46#kW\n",
      "efficiency=0.85\n",
      "\n",
      "#calculations\n",
      "input_m=output*1000/efficiency\n",
      "im=output*1000/(efficiency*v)\n",
      "ish=v/rf\n",
      "ia=im-ish\n",
      "eb=v-ia*ra\n",
      "\n",
      "#results\n",
      "print \"back emf=\",eb,\"V\""
     ],
     "language": "python",
     "metadata": {},
     "outputs": [
      {
       "output_type": "stream",
       "stream": "stdout",
       "text": [
        "back emf= 425.642780749 V\n"
       ]
      }
     ],
     "prompt_number": 10
    },
    {
     "cell_type": "heading",
     "level": 2,
     "metadata": {},
     "source": [
      "Example Number 29.4, Page Number:1000"
     ]
    },
    {
     "cell_type": "code",
     "collapsed": false,
     "input": [
      "#variable declaration\n",
      "load=25#kW\n",
      "v=250#V\n",
      "ra=0.06#ohm\n",
      "rf=100#ohm\n",
      "\n",
      "#calculations\n",
      "#as generator\n",
      "i=load*1000/v\n",
      "ish=v/rf\n",
      "ia=i+ish\n",
      "eb=v+ia*ra\n",
      "power=eb*ia/1000\n",
      "\n",
      "print \"As generator: power=\",power,\"kW\"\n",
      "\n",
      "#as motor\n",
      "i=load*1000/v\n",
      "ish=v/rf\n",
      "ia=i-ish\n",
      "eb=v-ia*ra\n",
      "power=eb*ia/1000\n",
      "\n",
      "print \"As generator: power=\",power,\"kW\""
     ],
     "language": "python",
     "metadata": {},
     "outputs": [
      {
       "output_type": "stream",
       "stream": "stdout",
       "text": [
        "As generator: power= 26.12424 kW\n",
        "As generator: power= 23.92376 kW\n"
       ]
      }
     ],
     "prompt_number": 11
    },
    {
     "cell_type": "heading",
     "level": 2,
     "metadata": {},
     "source": [
      "Example Number 29.5, Page Number:1000"
     ]
    },
    {
     "cell_type": "code",
     "collapsed": false,
     "input": [
      "import math\n",
      "#variable declaration\n",
      "p=a=4\n",
      "z=32\n",
      "v=200.0#V\n",
      "i=12.0#A\n",
      "ra=2.0#ohm\n",
      "rf=200.0#ohm\n",
      "n=1000.0#rpm\n",
      "i2=5.0#A\n",
      "#calculations\n",
      "ia=i+v/rf\n",
      "eg=v+ia*ra\n",
      "phi=eg*a*60/(z*n*p)\n",
      "#as motor\n",
      "ia=i2-v/rf\n",
      "eb=v-ia*ra\n",
      "n=60*eb/(phi*z)\n",
      "\n",
      "#result\n",
      "print \"flux per pole=\",phi,\"wb\"\n",
      "print \"speed of the machine=\",math.ceil(n),\"rpm\""
     ],
     "language": "python",
     "metadata": {},
     "outputs": [
      {
       "output_type": "stream",
       "stream": "stdout",
       "text": [
        "flux per pole= 0.42375 wb\n",
        "speed of the machine= 850.0 rpm\n"
       ]
      }
     ],
     "prompt_number": 14
    },
    {
     "cell_type": "heading",
     "level": 2,
     "metadata": {},
     "source": [
      "Example Number 29.6, Page Number:1002"
     ]
    },
    {
     "cell_type": "code",
     "collapsed": false,
     "input": [
      "#variable declaration\n",
      "ia=110#A\n",
      "v=480#V\n",
      "ra=0.2#ohm\n",
      "z=864\n",
      "p=a=6\n",
      "phi=0.05#Wb\n",
      "\n",
      "#calculations\n",
      "eb=v-ia*ra\n",
      "n=60*eb/(phi*z)\n",
      "ta=0.159*phi*z*ia*p/a\n",
      "\n",
      "#result\n",
      "print \"the speed=\",math.floor(n),\"rpm\"\n",
      "print \"the gross torque=\",ta,\"N-m\""
     ],
     "language": "python",
     "metadata": {},
     "outputs": [
      {
       "output_type": "stream",
       "stream": "stdout",
       "text": [
        "the speed= 636.0 rpm\n",
        "the gross torque= 755.568 N-m\n"
       ]
      }
     ],
     "prompt_number": 18
    },
    {
     "cell_type": "heading",
     "level": 2,
     "metadata": {},
     "source": [
      "Example Number 29.7, Page Number:1003"
     ]
    },
    {
     "cell_type": "code",
     "collapsed": false,
     "input": [
      "#variable declaration\n",
      "v=250#V\n",
      "z=782\n",
      "ra=rf=0.5#ohm\n",
      "ia=40#A\n",
      "phi=25*0.001#Wb\n",
      "p=4\n",
      "a=2\n",
      "#calculation\n",
      "eb=v-ia*ra\n",
      "n=60*eb/(phi*z)\n",
      "ta=0.159*phi*z*ia*p/a\n",
      "\n",
      "print \"the speed=\",math.floor(n),\"rpm\"\n",
      "print \"the gross torque=\",ta,\"N-m\""
     ],
     "language": "python",
     "metadata": {},
     "outputs": [
      {
       "output_type": "stream",
       "stream": "stdout",
       "text": [
        "the speed= 705.0 rpm\n",
        "the gross torque= 248.676 N-m\n"
       ]
      }
     ],
     "prompt_number": 21
    },
    {
     "cell_type": "heading",
     "level": 2,
     "metadata": {},
     "source": [
      "Example Number 29.8, Page Number:1003"
     ]
    },
    {
     "cell_type": "code",
     "collapsed": false,
     "input": [
      "#variable declaration\n",
      "eb=250.0#V\n",
      "n=1500.0#rpm\n",
      "ia=50.0#A\n",
      "\n",
      "#calculations\n",
      "pm=eb*ia\n",
      "ta=9.55*eb*ia/n\n",
      "\n",
      "#result\n",
      "print \"torque=\",ta,\"N-m\"\n",
      "print \"machanical power=\",pm,\"W\""
     ],
     "language": "python",
     "metadata": {},
     "outputs": [
      {
       "output_type": "stream",
       "stream": "stdout",
       "text": [
        "torque= 79.5833333333 N-m\n",
        "machanical power= 12500.0 W\n"
       ]
      }
     ],
     "prompt_number": 24
    },
    {
     "cell_type": "heading",
     "level": 2,
     "metadata": {},
     "source": [
      "Example Number 29.9, Page Number:1003"
     ]
    },
    {
     "cell_type": "code",
     "collapsed": false,
     "input": [
      "#variable declaration\n",
      "v=220#V\n",
      "p=4\n",
      "z=800\n",
      "load=8.2#kW\n",
      "ia=45#A\n",
      "phi=25*0.001#Wb\n",
      "ra=0.6#ohm\n",
      "a=p/2\n",
      "\n",
      "#calculation\n",
      "ta=0.159*phi*z*ia*p/a\n",
      "eb=v-ia*ra\n",
      "n=eb*a/(phi*z*p)\n",
      "tsh=load*1000/(2*3.14*n)\n",
      "\n",
      "#result\n",
      "print \"developed torque=\",ta,\"N-m\"\n",
      "print \"shaft torque=\",tsh,\"N-m\""
     ],
     "language": "python",
     "metadata": {},
     "outputs": [
      {
       "output_type": "stream",
       "stream": "stdout",
       "text": [
        "developed torque= 286.2 N-m\n",
        "shaft torque= 270.618131415 N-m\n"
       ]
      }
     ],
     "prompt_number": 32
    },
    {
     "cell_type": "heading",
     "level": 2,
     "metadata": {},
     "source": [
      "Example Number 29.10, Page Number:1003"
     ]
    },
    {
     "cell_type": "code",
     "collapsed": false,
     "input": [
      "#variable declaration\n",
      "v=220.0#V\n",
      "n=500.0#rpm\n",
      "i=50.0#A\n",
      "ra=0.2#ohm\n",
      "\n",
      "#calculation\n",
      "ia2=2*i\n",
      "fb1=v-(i*ra)\n",
      "eb2=v-(ia2*ra)\n",
      "n2=eb2*n/fb1\n",
      "#result\n",
      "print \"speed when torque is doubled=\",n2,\"N-m\""
     ],
     "language": "python",
     "metadata": {},
     "outputs": [
      {
       "output_type": "stream",
       "stream": "stdout",
       "text": [
        "speed when torque is doubled= 476.19047619 N-m\n"
       ]
      }
     ],
     "prompt_number": 38
    },
    {
     "cell_type": "heading",
     "level": 2,
     "metadata": {},
     "source": [
      "Example Number 29.11, Page Number:1003"
     ]
    },
    {
     "cell_type": "code",
     "collapsed": false,
     "input": [
      "import math\n",
      "from sympy.solvers import solve\n",
      "from sympy import Symbol\n",
      "#variable declaration\n",
      "r=Symbol('r')\n",
      "v=500#V\n",
      "load=37.3#kW\n",
      "n=1000#rpm\n",
      "efficiency=0.90\n",
      "ra=0.24#ohm\n",
      "vd=2#v\n",
      "i=1.8#A\n",
      "ratio=1.5\n",
      "\n",
      "#calculation\n",
      "input_m=load*1000/efficiency\n",
      "il=input_m/v\n",
      "tsh=9.55*load*1000/n\n",
      "il=ratio*il\n",
      "ia=il-i\n",
      "r=solve(ia*(r+ra)+vd-v,r)\n",
      "\n",
      "#result\n",
      "print \"full-load line current=\",il,\"A\"\n",
      "print \"full-load shaft torque\",tsh,\"N-m\"\n",
      "print \"total resistance=\",r[0],\"ohm\""
     ],
     "language": "python",
     "metadata": {},
     "outputs": [
      {
       "output_type": "stream",
       "stream": "stdout",
       "text": [
        "full-load line current= 124.333333333 A\n",
        "full-load shaft torque 356.215 N-m\n",
        "total resistance= 3.82420021762787 ohm\n"
       ]
      }
     ],
     "prompt_number": 40
    },
    {
     "cell_type": "heading",
     "level": 2,
     "metadata": {},
     "source": [
      "Example Number 29.12, Page Number:1004"
     ]
    },
    {
     "cell_type": "code",
     "collapsed": false,
     "input": [
      "#variable declaration\n",
      "p=a=4\n",
      "v=220#V\n",
      "z=540\n",
      "i=32#A\n",
      "output=5.595#kW\n",
      "ra=0.09#ohm\n",
      "i_f=1#A\n",
      "phi=30*0.001#Wb\n",
      "\n",
      "#calculation\n",
      "ia=i-i_f\n",
      "eb=v-ia*ra\n",
      "n=eb*a*60/(phi*z*p)\n",
      "tsh=9.55*output/n\n",
      "\n",
      "#result\n",
      "print \"speed=\",n,\"rpm\"\n",
      "print \"torque developed=\",tsh*1000,\"N-m\""
     ],
     "language": "python",
     "metadata": {},
     "outputs": [
      {
       "output_type": "stream",
       "stream": "stdout",
       "text": [
        "speed= 804.481481481 rpm\n",
        "torque developed= 66.4182473183 N-m\n"
       ]
      }
     ],
     "prompt_number": 43
    },
    {
     "cell_type": "heading",
     "level": 2,
     "metadata": {},
     "source": [
      "Example Number 29.13(a), Page Number:1004"
     ]
    },
    {
     "cell_type": "code",
     "collapsed": false,
     "input": [
      "#variable declaration\n",
      "v=220.0#V\n",
      "load=20.0#kW\n",
      "i=5.0#A\n",
      "ra=0.04#ohm\n",
      "phi=0.04#Wb\n",
      "z=160\n",
      "il=95.0#A\n",
      "inl=9.0#A\n",
      "p=4\n",
      "a=2\n",
      "#calculation\n",
      "#no load\n",
      "ea0=v-(inl-i)*ra\n",
      "n0=ea0*a*60/(phi*z*p)\n",
      "#load\n",
      "ea=v-(il-i)*ra\n",
      "n=ea*n0/ea0\n",
      "\n",
      "#result\n",
      "print \"no-load speed=\",n0,\"rpm\"\n",
      "print \"load speed=\",n,\"rpm\""
     ],
     "language": "python",
     "metadata": {},
     "outputs": [
      {
       "output_type": "stream",
       "stream": "stdout",
       "text": [
        "no-load speed= 1030.5 rpm\n",
        "load speed= 1014.375 rpm\n"
       ]
      }
     ],
     "prompt_number": 58
    },
    {
     "cell_type": "heading",
     "level": 2,
     "metadata": {},
     "source": [
      "Example Number 29.13(b), Page Number:1004"
     ]
    },
    {
     "cell_type": "code",
     "collapsed": false,
     "input": [
      "#variable declaration\n",
      "p=a=6\n",
      "i=400#A\n",
      "n=350#rpm\n",
      "phi=80*0.001#Wb\n",
      "z=600*2\n",
      "loss=0.03#percentage\n",
      "\n",
      "#calculation\n",
      "e=phi*z*n*p/(60*a)\n",
      "pa=e*i\n",
      "t=pa/(2*3.14*n/60)\n",
      "t_net=0.97*t\n",
      "bhp=t_net*36.67*0.001/0.746\n",
      "#result\n",
      "print \"brake-horse-power\",bhp,\"HP\""
     ],
     "language": "python",
     "metadata": {},
     "outputs": [
      {
       "output_type": "stream",
       "stream": "stdout",
       "text": [
        "brake-horse-power 291.551578696 HP\n"
       ]
      }
     ],
     "prompt_number": 66
    },
    {
     "cell_type": "heading",
     "level": 2,
     "metadata": {},
     "source": [
      "Example Number 29.13(c), Page Number:1004"
     ]
    },
    {
     "cell_type": "code",
     "collapsed": false,
     "input": [
      "#variable declaration\n",
      "p=4\n",
      "z=774\n",
      "phi=24*0.001#Wb\n",
      "ia=50#A\n",
      "a=2\n",
      "#calculations\n",
      "t=0.159*phi*z*ia*p/a\n",
      "\n",
      "#result\n",
      "print \"torque=\",t,\"N-m\""
     ],
     "language": "python",
     "metadata": {},
     "outputs": [
      {
       "output_type": "stream",
       "stream": "stdout",
       "text": [
        "torque= 295.3584 N-m\n"
       ]
      }
     ],
     "prompt_number": 67
    },
    {
     "cell_type": "heading",
     "level": 2,
     "metadata": {},
     "source": [
      "Example Number 29.13(d), Page Number:1005"
     ]
    },
    {
     "cell_type": "code",
     "collapsed": false,
     "input": [
      "#variable declaration\n",
      "v=500.0#V\n",
      "i=5.0#A\n",
      "ra=0.15#ohm\n",
      "rf=200.0#ohm\n",
      "il=40.0#A\n",
      "\n",
      "#calculations\n",
      "ih=v/rf\n",
      "pi=v*i\n",
      "cu_loss_f=cu_loss=v*ih\n",
      "output=v*il\n",
      "cu_loss_a=(il+ih)**2*ra\n",
      "total_loss=cu_loss+cu_loss_a+cu_loss_f\n",
      "efficiency=output/(output+total_loss)\n",
      "#result\n",
      "print \"efficiency=\",efficiency*100,\"%\""
     ],
     "language": "python",
     "metadata": {},
     "outputs": [
      {
       "output_type": "stream",
       "stream": "stdout",
       "text": [
        "efficiency= 87.8312542029 %\n"
       ]
      }
     ],
     "prompt_number": 81
    },
    {
     "cell_type": "heading",
     "level": 2,
     "metadata": {},
     "source": [
      "Example Number 29.13(e), Page Number:1006"
     ]
    },
    {
     "cell_type": "code",
     "collapsed": false,
     "input": [
      "#variable delcration\n",
      "ia=40#A\n",
      "v=220#V\n",
      "n=800#rpm\n",
      "ra=0.2#ohm\n",
      "rf=0.1#ohm\n",
      "loss=0.5#kW\n",
      "\n",
      "#calculations\n",
      "eb=v-ia*(ra+rf)\n",
      "ta=9.55*eb*ia/n\n",
      "cu_loss=ia**2*(ra+rf)\n",
      "total_loss=cu_loss+loss*1000\n",
      "input_m=v*ia\n",
      "output=input_m-total_loss\n",
      "\n",
      "#result\n",
      "print \"output of the motor=\",output/1000,\"kW\""
     ],
     "language": "python",
     "metadata": {},
     "outputs": [
      {
       "output_type": "stream",
       "stream": "stdout",
       "text": [
        "output of the motor= 7.82 kW\n"
       ]
      }
     ],
     "prompt_number": 88
    },
    {
     "cell_type": "heading",
     "level": 2,
     "metadata": {},
     "source": [
      "Example Number 29.14, Page Number:1006"
     ]
    },
    {
     "cell_type": "code",
     "collapsed": false,
     "input": [
      "#variable declaration\n",
      "f=400.0#N\n",
      "d=10.0#cm\n",
      "n=840#rpm\n",
      "v=220.0#V\n",
      "n1=1800#rpm\n",
      "efficiency=.80\n",
      "d2=24.0#cm\n",
      "\n",
      "#calculations\n",
      "tsh=f*d*0.01/2\n",
      "output=tsh*2*3.14*n/60\n",
      "input_m=output/efficiency\n",
      "i=input_m/v\n",
      "d1=n*d2/n1\n",
      "\n",
      "#calculation\n",
      "print \"current taken by the motor=\",round(i),\"A\"\n",
      "print \"size of motor pulley=\",d1,\"cm\"\n"
     ],
     "language": "python",
     "metadata": {},
     "outputs": [
      {
       "output_type": "stream",
       "stream": "stdout",
       "text": [
        "current taken by the motor= 10.0 A\n",
        "size of motor pulley= 11.2 cm\n"
       ]
      }
     ],
     "prompt_number": 2
    },
    {
     "cell_type": "heading",
     "level": 2,
     "metadata": {},
     "source": [
      "Example Number 29.15, Page Number:1006"
     ]
    },
    {
     "cell_type": "code",
     "collapsed": false,
     "input": [
      "#variable declaration\n",
      "v=200.0#V\n",
      "p=4\n",
      "z=280\n",
      "ia=45.0#A\n",
      "phi=18*0.001#Wb\n",
      "ra=0.5+0.3#ohm\n",
      "loss=800.0#W\n",
      "d=0.41\n",
      "a=4\n",
      "#calculation\n",
      "eb=v-ia*ra\n",
      "n=eb*60*a/(phi*z*p*4)\n",
      "inpt=v*ia\n",
      "cu_loss=ia**2*ra\n",
      "total_loss=loss+cu_loss\n",
      "output=inpt-total_loss\n",
      "tsh=9.55*output/n\n",
      "f=tsh*2/d\n",
      "\n",
      "#result\n",
      "print \"pull at the rim of the pulley=\",f,\"N-m\"\n"
     ],
     "language": "python",
     "metadata": {},
     "outputs": [
      {
       "output_type": "stream",
       "stream": "stdout",
       "text": [
        "pull at the rim of the pulley= 628.016180845 N-m\n"
       ]
      }
     ],
     "prompt_number": 102
    },
    {
     "cell_type": "heading",
     "level": 2,
     "metadata": {},
     "source": [
      "Example Number 29.16, Page Number:1007"
     ]
    },
    {
     "cell_type": "code",
     "collapsed": false,
     "input": [
      "#variable declaration\n",
      "p=4\n",
      "v=240#V\n",
      "output=11.19#kW\n",
      "n=1000#rpm\n",
      "ia=50#A\n",
      "i=1#A\n",
      "z=540\n",
      "ra=0.1#ohm\n",
      "vd=1#V\n",
      "a=2\n",
      "#calculation\n",
      "eb=v-ia*ra\n",
      "ta=9.55*eb*ia/n\n",
      "tsh=9.55*output*1000/n\n",
      "phi=eb*60*a*1000/(z*n*p)\n",
      "input_a=v*ia\n",
      "cu_loss=ia**2*ra\n",
      "brush_loss=ia*2\n",
      "power=input_a-(cu_loss+brush_loss)\n",
      "rotational_loss=power-output*1000\n",
      "input_m=v*(ia+i)\n",
      "efficiency=output*1000/input_m\n",
      "\n",
      "#result\n",
      "print \"total torque=\",ta,\"N-m\"\n",
      "print \"useful torque=\",tsh,\"N-m\"\n",
      "print \"flux/pole=\",phi,\"mWb\"\n",
      "print \"rotational losses=\",rotational_loss,\"W\"\n",
      "print \"efficiency=\",efficiency*100,\"%\""
     ],
     "language": "python",
     "metadata": {},
     "outputs": [
      {
       "output_type": "stream",
       "stream": "stdout",
       "text": [
        "total torque= 112.2125 N-m\n",
        "useful torque= 106.8645 N-m\n",
        "flux/pole= 13.0555555556 mWb\n",
        "rotational losses= 460.0 W\n",
        "efficiency= 91.4215686275 %\n"
       ]
      }
     ],
     "prompt_number": 106
    },
    {
     "cell_type": "heading",
     "level": 2,
     "metadata": {},
     "source": [
      "Example Number 29.17, Page Number:1007"
     ]
    },
    {
     "cell_type": "code",
     "collapsed": false,
     "input": [
      "#variable declaration\n",
      "v=460.0#v\n",
      "n=500.0#rpm\n",
      "i=40.0#A\n",
      "i2=30.0#A\n",
      "ra=0.8#ohm\n",
      "\n",
      "#calculation\n",
      "t2_by_t1=i2**2/i**2\n",
      "change=(1-t2_by_t1)*100#percentage\n",
      "eb1=v-i*ra\n",
      "eb2=v-i2*ra\n",
      "n2=eb2*i*n/(eb1*i2)\n",
      "#result\n",
      "print \"speed=\",n2,\"rpm\"\n",
      "print \"percentage change in torque=\",change,\"%\""
     ],
     "language": "python",
     "metadata": {},
     "outputs": [
      {
       "output_type": "stream",
       "stream": "stdout",
       "text": [
        "speed= 679.127725857 rpm\n",
        "percentage change in torque= 43.75 %\n"
       ]
      }
     ],
     "prompt_number": 111
    },
    {
     "cell_type": "heading",
     "level": 2,
     "metadata": {},
     "source": [
      "Example Number 29.18, Page Number:1008"
     ]
    },
    {
     "cell_type": "code",
     "collapsed": false,
     "input": [
      "#variable declaration\n",
      "v=460.0#V\n",
      "output=55.95#kW\n",
      "n=750#rpm\n",
      "I=252.8#kg-m2\n",
      "ia1=1.4\n",
      "ia2=1.8\n",
      "\n",
      "#calculations\n",
      "ia=(ia1+ia2)/2\n",
      "n=n/60.0\n",
      "tsh=output*1000/(2*3.14*n)\n",
      "torque_avg=(ia-1)*tsh\n",
      "dt=(I*2*3.14*n)/torque_avg\n",
      "\n",
      "#result\n",
      "print \"approximate time to attain full speed=\",dt,\"s\""
     ],
     "language": "python",
     "metadata": {},
     "outputs": [
      {
       "output_type": "stream",
       "stream": "stdout",
       "text": [
        "approximate time to attain full speed= 46.4050282991 s\n"
       ]
      }
     ],
     "prompt_number": 129
    },
    {
     "cell_type": "heading",
     "level": 2,
     "metadata": {},
     "source": [
      "Example Number 29.19, Page Number:1008"
     ]
    },
    {
     "cell_type": "code",
     "collapsed": false,
     "input": [
      "#variable declaration\n",
      "output=14.92#kW\n",
      "v=400.0#V\n",
      "n=400.0#rpm\n",
      "i=40.0#A\n",
      "I=7.5#kg-m2\n",
      "ratio=1.2\n",
      "\n",
      "#calculations\n",
      "n=n/60\n",
      "t=output*1000/(2*3.14*n)\n",
      "torque=(ratio-1)*t\n",
      "dt=(I*2*3.14*n)/torque\n",
      "\n",
      "print \"time to attain full speed=\",dt,\"s\""
     ],
     "language": "python",
     "metadata": {},
     "outputs": [
      {
       "output_type": "stream",
       "stream": "stdout",
       "text": [
        "time to attain full speed= 4.4055406613 s\n"
       ]
      }
     ],
     "prompt_number": 138
    },
    {
     "cell_type": "heading",
     "level": 2,
     "metadata": {},
     "source": [
      "Example Number 29.20, Page Number:1009"
     ]
    },
    {
     "cell_type": "code",
     "collapsed": false,
     "input": [
      "#variable declaration\n",
      "p=4\n",
      "z=944\n",
      "phi=34.6*0.001#Wb\n",
      "ta=209.0#N-m\n",
      "v=500.0#V\n",
      "ra=3.0#ohm\n",
      "a=2\n",
      "#calculation\n",
      "ia=ta/(0.159*phi*z*(p/a))\n",
      "ea=v-ia*ra\n",
      "n=ea/(phi*z*(p/a))\n",
      "\n",
      "#result\n",
      "print \"line current=\",ia,\"A\"\n",
      "print \"speed=\",n*60,\"rpm\""
     ],
     "language": "python",
     "metadata": {},
     "outputs": [
      {
       "output_type": "stream",
       "stream": "stdout",
       "text": [
        "line current= 20.1219966813 A\n",
        "speed= 403.798260345 rpm\n"
       ]
      }
     ],
     "prompt_number": 143
    },
    {
     "cell_type": "heading",
     "level": 2,
     "metadata": {},
     "source": [
      "Example Number 29.21, Page Number:1010"
     ]
    },
    {
     "cell_type": "code",
     "collapsed": false,
     "input": [
      "#variable declaration\n",
      "v=250#v\n",
      "n=1000#rpm\n",
      "ia=8#A\n",
      "ra=0.2#ohm\n",
      "rf=250#ohm\n",
      "i2=50#A\n",
      "\n",
      "#calculation\n",
      "ish=v/rf\n",
      "eb0=v-(ia-ish)*ra\n",
      "eb=v-(i2-ish)*ra\n",
      "n=eb*n/eb0\n",
      "\n",
      "#result\n",
      "print \"speed when loaded=\",n,\"rpm\""
     ],
     "language": "python",
     "metadata": {},
     "outputs": [
      {
       "output_type": "stream",
       "stream": "stdout",
       "text": [
        "speed when loaded= 966.21078037 rpm\n"
       ]
      }
     ],
     "prompt_number": 144
    },
    {
     "cell_type": "heading",
     "level": 2,
     "metadata": {},
     "source": [
      "Example Number 29.22, Page Number:1010"
     ]
    },
    {
     "cell_type": "code",
     "collapsed": false,
     "input": [
      "#variable declaration\n",
      "n=800#rpm\n",
      "ia=100#A\n",
      "v=230#V\n",
      "ra=0.15#ohm\n",
      "rf=0.1#ohm\n",
      "ia2=25#A\n",
      "ratio=0.45\n",
      "\n",
      "#calculation\n",
      "eb1=v-(ra+rf)*ia\n",
      "eb2=v-ia2*(ra+rf)\n",
      "n2=eb2*n/(eb1*ratio)\n",
      "\n",
      "#result\n",
      "print \"speed at which motor runs=\",n2,\"rpm\""
     ],
     "language": "python",
     "metadata": {},
     "outputs": [
      {
       "output_type": "stream",
       "stream": "stdout",
       "text": [
        "speed at which motor runs= 1940.37940379 rpm\n"
       ]
      }
     ],
     "prompt_number": 148
    },
    {
     "cell_type": "heading",
     "level": 2,
     "metadata": {},
     "source": [
      "Example Number 29.23, Page Number:1010"
     ]
    },
    {
     "cell_type": "code",
     "collapsed": false,
     "input": [
      "import math\n",
      "from sympy.solvers import solve\n",
      "from sympy import Symbol\n",
      "#variable declaration\n",
      "ia2=Symbol('ia2')\n",
      "#variable declaration\n",
      "v=230.0#V\n",
      "ra=0.5#ohm\n",
      "rf=115.0#ohm\n",
      "n1=1200#rpm\n",
      "ia=2.5#A\n",
      "n2=1120#rpm\n",
      "\n",
      "#calculation\n",
      "eb1=v-ra*ia\n",
      "x=n2*eb1/n1\n",
      "ia2=solve((v-ra*ia2)-x,ia2)\n",
      "ia=ia2[0]+(v/rf)\n",
      "input_m=v*ia\n",
      "\n",
      "#result\n",
      "print \"line current=\",round(ia,1),\"A\"\n",
      "print \"power input=\",round(input_m,1),\"W\""
     ],
     "language": "python",
     "metadata": {},
     "outputs": [
      {
       "output_type": "stream",
       "stream": "stdout",
       "text": [
        "line current= 35.0 A\n",
        "power input= 8050.0 W\n"
       ]
      }
     ],
     "prompt_number": 158
    },
    {
     "cell_type": "heading",
     "level": 2,
     "metadata": {},
     "source": [
      "Example Number 29.24, Page Number:1010"
     ]
    },
    {
     "cell_type": "code",
     "collapsed": false,
     "input": [
      "#variable declaration\n",
      "power=100.0#kW\n",
      "n1=300#rpm\n",
      "v=220.0#V\n",
      "load=10.0#kW\n",
      "ra=0.025#ohm\n",
      "rf=60.0#ohm\n",
      "vd=1.0#V\n",
      "\n",
      "#calculation\n",
      "i=power*1000/v\n",
      "ish=v/rf\n",
      "ia=i+ish\n",
      "eb=v+ia*ra+2*vd\n",
      "i=load*1000/v\n",
      "ia2=i-ish\n",
      "eb2=v-ia2*ra-2*vd\n",
      "n2=eb2*n1/eb\n",
      "\n",
      "#result\n",
      "print \"speed=\",n2,\"rpm\""
     ],
     "language": "python",
     "metadata": {},
     "outputs": [
      {
       "output_type": "stream",
       "stream": "stdout",
       "text": [
        "speed= 278.796797778 rpm\n"
       ]
      }
     ],
     "prompt_number": 174
    },
    {
     "cell_type": "heading",
     "level": 2,
     "metadata": {},
     "source": [
      "Example Number 29.25, Page Number:1011"
     ]
    },
    {
     "cell_type": "code",
     "collapsed": false,
     "input": [
      "import math\n",
      "#variable declaration\n",
      "v=250.0#V\n",
      "n=1000.0#rpm\n",
      "ra=0.5#ohm\n",
      "rf=250.0#ohm\n",
      "ia=4.0#A\n",
      "i=40.0#A\n",
      "ratio=0.04#percentage by whih armature reaction weakens field\n",
      "\n",
      "#calculations\n",
      "ish=v/rf\n",
      "ia2=ia-ish\n",
      "eb0=v-ia2*ra\n",
      "n0=n*eb0/v\n",
      "ia=i-ish\n",
      "eb=v-ia*ra\n",
      "n=eb*n0/(eb0*(1-ratio))\n",
      "\n",
      "#result\n",
      "print \"speed of machine=\",math.floor(n),\"rpm\""
     ],
     "language": "python",
     "metadata": {},
     "outputs": [
      {
       "output_type": "stream",
       "stream": "stdout",
       "text": [
        "speed of machine= 960.0 rpm\n"
       ]
      }
     ],
     "prompt_number": 190
    },
    {
     "cell_type": "heading",
     "level": 2,
     "metadata": {},
     "source": [
      "Example Number 29.26, Page Number:1011"
     ]
    },
    {
     "cell_type": "code",
     "collapsed": false,
     "input": [
      "#variable declaration\n",
      "v=250#V\n",
      "ooutput=14.92#kW\n",
      "n=1000#rpm\n",
      "i=75#A\n",
      "ra=0.25#ohm\n",
      "ratio=0.20\n",
      "\n",
      "#calculation\n",
      "eb1=v-i*ra\n",
      "eb_inst=eb1*(1-ratio)\n",
      "ia_inst=(v-eb_inst)/ra\n",
      "t_inst=9.55*eb_inst*ia_inst/n\n",
      "ia2=i/(1-ratio)\n",
      "eb2=v-ia2*ra\n",
      "n2=eb2*n/(eb1*(1-ratio))\n",
      "\n",
      "#result\n",
      "print \"armature current=\",ia2,\"A\"\n",
      "print \"speed=\",n2,\"rpm\""
     ],
     "language": "python",
     "metadata": {},
     "outputs": [
      {
       "output_type": "stream",
       "stream": "stdout",
       "text": [
        "armature current= 93.75 A\n",
        "speed= 1224.66216216 rpm\n"
       ]
      }
     ],
     "prompt_number": 191
    },
    {
     "cell_type": "heading",
     "level": 2,
     "metadata": {},
     "source": [
      "Example Number 29.27, Page Number:1012"
     ]
    },
    {
     "cell_type": "code",
     "collapsed": false,
     "input": [
      "#variable declaration\n",
      "v=200.0#V\n",
      "i=4.0#A\n",
      "n=700.0#rpm\n",
      "rf=100.0#A\n",
      "v2=6.0#V\n",
      "i2=10.0#A\n",
      "input_m=8.0#kW\n",
      "\n",
      "#calculation\n",
      "ish=v/rf\n",
      "il=input_m*1000/v\n",
      "ia=il-ish\n",
      "ra=v2/i2\n",
      "eb0=v-ish*ra\n",
      "eb=v-ia*ra\n",
      "n=eb*n/eb0\n",
      "ta=9.55*eb*ia/n\n",
      "inpt=v*i\n",
      "cu_loss=ish**2*ra\n",
      "constant_loss=inpt-cu_loss\n",
      "cu_loss_arm=ia**2*ra\n",
      "total_loss=constant_loss+cu_loss_arm\n",
      "output=input_m*1000-total_loss\n",
      "efficiency=output/(input_m*1000)\n",
      "print \n",
      "#result\n",
      "print \"speed on load=\",n,\"rpm\"\n",
      "print \"torque=\",ta,\"N-m\"\n",
      "print \"efficiency=\",efficiency*100,\"%\"\n",
      "\n"
     ],
     "language": "python",
     "metadata": {},
     "outputs": [
      {
       "output_type": "stream",
       "stream": "stdout",
       "text": [
        "\n",
        "speed on load= 623.943661972 rpm\n",
        "torque= 103.0636 N-m\n",
        "efficiency= 79.2 %\n"
       ]
      }
     ],
     "prompt_number": 197
    },
    {
     "cell_type": "heading",
     "level": 2,
     "metadata": {},
     "source": [
      "Example Number 29.28, Page Number:1012"
     ]
    },
    {
     "cell_type": "code",
     "collapsed": false,
     "input": [
      "#variabe declaration\n",
      "v=220#V\n",
      "load=11#kW\n",
      "inl=5#A\n",
      "n_nl=1150#rpm\n",
      "ra=0.5#ohm\n",
      "rsh=110#ohm\n",
      "\n",
      "#calculations\n",
      "input_nl=v*inl\n",
      "ish=v/rsh\n",
      "ia0=inl-ish\n",
      "cu_loss_nl=ia1**2*ra\n",
      "constant_loss=input_nl-cu_loss_nl\n",
      "i=load*1000/v\n",
      "ia=i-ish\n",
      "cu_loss_a=ia**2*ra\n",
      "total_loss=cu_loss_a+constant_loss\n",
      "output=load*1000-total_loss\n",
      "efficiency=output*100/(load*1000)\n",
      "eb_nl=v-(ia0*ra)\n",
      "eb=v-ia*ra\n",
      "n=n_nl*eb/eb_nl\n",
      "ta=9.55*eb*ia/n\n",
      "\n",
      "#result\n",
      "print \"torque developed=\",ta,\"N-m\"\n",
      "print \"efficiency=\",efficiency,\"%\"\n",
      "print \"the speed=\",n,\"rpm\""
     ],
     "language": "python",
     "metadata": {},
     "outputs": [
      {
       "output_type": "stream",
       "stream": "stdout",
       "text": [
        "torque developed= 87.096 N-m\n",
        "efficiency= 79.5361818182 %\n",
        "the speed= 1031.57894737 rpm\n"
       ]
      }
     ],
     "prompt_number": 200
    },
    {
     "cell_type": "heading",
     "level": 2,
     "metadata": {},
     "source": [
      "Example Number 29.29, Page Number:1013"
     ]
    },
    {
     "cell_type": "code",
     "collapsed": false,
     "input": [
      "#variable declaration\n",
      "load=18.65#kW\n",
      "v=250.0#V\n",
      "ra=0.1#ohm\n",
      "vb=3#V\n",
      "rf=0.05#ohm\n",
      "ia=80.0#A\n",
      "n=600.0#rpm\n",
      "i2=100.0#A\n",
      "\n",
      "#calculation\n",
      "eb1=v-ia*(ra+rf)\n",
      "eb2=v-i2*(ra+rf)\n",
      "n2=eb2*ia*n/(eb1*i2)\n",
      "\n",
      "#result\n",
      "print \"speed when current is 100 A=\",n2,\"rpm\""
     ],
     "language": "python",
     "metadata": {},
     "outputs": [
      {
       "output_type": "stream",
       "stream": "stdout",
       "text": [
        "speed when current is 100 A= 473.949579832 rpm\n"
       ]
      }
     ],
     "prompt_number": 1
    },
    {
     "cell_type": "heading",
     "level": 2,
     "metadata": {},
     "source": [
      "Example Number 29.30, Page Number:1013"
     ]
    },
    {
     "cell_type": "code",
     "collapsed": false,
     "input": [
      "import math\n",
      "#variable declaration\n",
      "v=220.0#V\n",
      "n=800.0#rpm\n",
      "i=100.0#A\n",
      "ra=0.1\n",
      "ratio=1.0/2.0\n",
      "#calculation\n",
      "ia1=i*math.sqrt(ratio)\n",
      "eb1=v-i*ra\n",
      "eb2=v-ia1*ra\n",
      "n2=eb2*i*n/(eb1*ia1)\n",
      "#result\n",
      "print \"speed when motor will run when developing half the torque=\",round(n2,0),\"rpm\""
     ],
     "language": "python",
     "metadata": {},
     "outputs": [
      {
       "output_type": "stream",
       "stream": "stdout",
       "text": [
        "speed when motor will run when developing half the torque= 1147.0 rpm\n"
       ]
      }
     ],
     "prompt_number": 2
    },
    {
     "cell_type": "heading",
     "level": 2,
     "metadata": {},
     "source": [
      "Example Number 29.31, Page Number:1013"
     ]
    },
    {
     "cell_type": "code",
     "collapsed": false,
     "input": [
      "import math\n",
      "#variable declaration\n",
      "p=a=4\n",
      "n=600#rpm\n",
      "ia=25#A\n",
      "v=450#V\n",
      "z=500\n",
      "phi=1.7*0.01*math.pow(ia,0.5)\n",
      "\n",
      "#calculation\n",
      "eb=n*phi*z*p/(60*a)\n",
      "iara=v-eb\n",
      "ra=iara/ia\n",
      "i=math.pow((phi*ia*math.sqrt(ia)/(phi*2)),2.0/3.0)\n",
      "eb2=v/2-i*ra\n",
      "phi2=1.7*0.01*math.pow(i,0.5)\n",
      "n2=eb2*phi*n/(eb*phi2)\n",
      "\n",
      "#result\n",
      "print \"speed at which motor will run=\",round(n2,0),\"rpm\""
     ],
     "language": "python",
     "metadata": {},
     "outputs": [
      {
       "output_type": "stream",
       "stream": "stdout",
       "text": [
        "speed at which motor will run= 372.0 rpm\n"
       ]
      }
     ],
     "prompt_number": 224
    },
    {
     "cell_type": "heading",
     "level": 2,
     "metadata": {},
     "source": [
      "Example Number 29.32, Page Number:1017"
     ]
    },
    {
     "cell_type": "code",
     "collapsed": false,
     "input": [
      "%pylab\n",
      "import math\n",
      "#variable declaration\n",
      "v=460.0#V\n",
      "ra=0.5#ohm\n",
      "\n",
      "def f(ia,t):\n",
      "    n=(v*ia-ia**2*ra)*60/(2*3.14*t)\n",
      "    return(n)\n",
      "\n",
      "n1=f(20.0,128.8)\n",
      "n2=f(30.0,230.5)\n",
      "n3=f(40.0,349.8)\n",
      "n4=f(50.0,469.2)\n",
      "T=[128.8,230.5,349.8,469.2]\n",
      "N=[n1,n2,n3,n4]\n",
      "a=plot(T,N)\n",
      "xlabel(\"Torque(NM.m)\") \n",
      "ylabel(\"Speed(rpm)\") \n",
      "plt.xlim((0,500))\n",
      "plt.ylim((0,800))\n",
      "show(a)\n"
     ],
     "language": "python",
     "metadata": {},
     "outputs": [
      {
       "output_type": "stream",
       "stream": "stdout",
       "text": [
        "Using matplotlib backend: TkAgg\n",
        "Populating the interactive namespace from numpy and matplotlib\n"
       ]
      }
     ],
     "prompt_number": 1
    },
    {
     "cell_type": "heading",
     "level": 2,
     "metadata": {},
     "source": [
      "Example Number 29.33, Page Number:1017"
     ]
    },
    {
     "cell_type": "code",
     "collapsed": false,
     "input": [
      "%pylab\n",
      "import math\n",
      "#variable declaration\n",
      "output=5.968#kW\n",
      "n=700#rpm\n",
      "v1=500#V\n",
      "n2=600#rpm\n",
      "ra=3.5#ohm\n",
      "loss=450#W\n",
      "\n",
      "#calculation\n",
      "\n",
      "def fp(i,v):\n",
      "    p=5.968*((n2*(v1-i*ra)/(v*n))**2)\n",
      "    return(p)\n",
      "\n",
      "def fm(i,v):\n",
      "    m=((v1-i*ra)*i-loss)/1000\n",
      "    return(m)\n",
      "\n",
      "p1=fp(7.0,347.0)\n",
      "p2=fp(10.5,393.0)\n",
      "p3=fp(14.0,434.0)\n",
      "p4=fp(27.5,468.0)\n",
      "\n",
      "m1=fm(7.0,347.8)\n",
      "m2=fm(10.5,393.0)\n",
      "m3=fm(14.0,434.0)\n",
      "m4=fm(27.5,468.0)\n",
      "\n",
      "#plot\n",
      "I=[7,10.5,14,27.5]\n",
      "P=[p1,p2,p3,p4]\n",
      "M=[m1,m2,m3,m4]\n",
      "a=plot(I,P)\n",
      "a=plot(I,M)\n",
      "xlabel(\"Current\") \n",
      "ylabel(\"Power(kW)\") \n",
      "plt.xlim((0,30))\n",
      "plt.ylim((0,12))\n",
      "show(a)\n"
     ],
     "language": "python",
     "metadata": {},
     "outputs": []
    },
    {
     "cell_type": "heading",
     "level": 2,
     "metadata": {},
     "source": [
      "Example Number 29.34, Page Number:1022"
     ]
    },
    {
     "cell_type": "code",
     "collapsed": false,
     "input": [
      "#variable declaration\n",
      "v=500#V\n",
      "i=3#A\n",
      "ia=3.5#A\n",
      "ib=4.5#A\n",
      "\n",
      "#calculation\n",
      "loss=v*i\n",
      "#B unexcited\n",
      "loss1=v*(ia-i)\n",
      "#B excited\n",
      "loss2=v*(ib-i)\n",
      "loss=loss2-loss1\n",
      "\n",
      "#result\n",
      "print \"iron losses of B=\",loss,\"W\""
     ],
     "language": "python",
     "metadata": {},
     "outputs": [
      {
       "output_type": "stream",
       "stream": "stdout",
       "text": [
        "iron losses of B= 500.0 W\n"
       ]
      }
     ],
     "prompt_number": 3
    },
    {
     "cell_type": "heading",
     "level": 2,
     "metadata": {},
     "source": [
      "Example Number 29.35, Page Number:1023"
     ]
    },
    {
     "cell_type": "code",
     "collapsed": false,
     "input": [
      "#variable declaration\n",
      "v=220.0#V\n",
      "ra=0.2#ohm\n",
      "rf=110.0#ohm\n",
      "ia=5.0#A\n",
      "n=1500#rpm\n",
      "i2=52.0#A\n",
      "\n",
      "#calculation\n",
      "ish=v/rf\n",
      "ia1=ia-ish\n",
      "ia2=i2-ish\n",
      "eb1=v-ia1*ra\n",
      "eb2=v-ia2*ra\n",
      "n2=round(eb2*n/eb1,0)\n",
      "input_nl=v*ia\n",
      "cu_loss_nl=ia1**2*ra\n",
      "constant_loss=input_nl-cu_loss_nl\n",
      "cu_loss_l=ia2**2*ra\n",
      "total_loss=constant_loss+cu_loss_l\n",
      "input_l=v*i2\n",
      "output=input_l-total_loss\n",
      "tsh=9.55*output/n2\n",
      "\n",
      "#result\n",
      "print \"speed=\",n2,\"rpm\"\n",
      "print \"shaft torque=\",tsh,\"N-m\""
     ],
     "language": "python",
     "metadata": {},
     "outputs": []
    },
    {
     "cell_type": "heading",
     "level": 2,
     "metadata": {},
     "source": [
      "Example Number 29.36, Page Number:1023"
     ]
    },
    {
     "cell_type": "code",
     "collapsed": false,
     "input": [
      "#variable declaration\n",
      "v=250#V\n",
      "n=1000#rpm\n",
      "ia=5#A\n",
      "ra=0.2#ohm\n",
      "rf=250#ohm\n",
      "i=50#A\n",
      "ratio=0.03#percentage by which armature reaction weakens field\n",
      "\n",
      "#calculations\n",
      "ish=v/rf\n",
      "ia1=ia-ish\n",
      "ia2=i-ish\n",
      "eb1=v-ia1*ra\n",
      "eb2=v-ia2*ra\n",
      "n2=eb2*n/(eb1*(1-ratio))\n",
      "\n",
      "#result\n",
      "print \"speed=\",round(n2,0),\"rpm\""
     ],
     "language": "python",
     "metadata": {},
     "outputs": [
      {
       "output_type": "stream",
       "stream": "stdout",
       "text": [
        "speed= 994.0 rpm\n"
       ]
      }
     ],
     "prompt_number": 241
    },
    {
     "cell_type": "heading",
     "level": 2,
     "metadata": {},
     "source": [
      "Example Number 29.37, Page Number:1023"
     ]
    },
    {
     "cell_type": "code",
     "collapsed": false,
     "input": [
      "#variable declaration\n",
      "v=500#V\n",
      "ia=5#A\n",
      "ra=0.22#A\n",
      "rf=250#ohm\n",
      "i=100#A\n",
      "\n",
      "#calculations\n",
      "ish=v/rf\n",
      "ia0=ia-ish\n",
      "eb0=v-ia0*ra\n",
      "cu_loss=ia0**2*ra\n",
      "input_m=v*ia\n",
      "constant_loss=input_m-cu_loss\n",
      "ia=i-ish\n",
      "eb=v-ia*ra\n",
      "cu_loss=ia**2*ra\n",
      "total_loss=cu_loss+constant_loss\n",
      "input_m=v*i\n",
      "output=input_m-total_loss\n",
      "efficiency=output*100/input_m\n",
      "per=(eb-eb0)*100/eb0\n",
      "\n",
      "#result\n",
      "print \"efficiency=\",round(efficiency,1),\"%\"\n",
      "print \"percentage change in speed=\",round(per,2),\"%\""
     ],
     "language": "python",
     "metadata": {},
     "outputs": [
      {
       "output_type": "stream",
       "stream": "stdout",
       "text": [
        "efficiency= 90.8 %\n",
        "percentage change in speed= -4.19 %\n"
       ]
      }
     ],
     "prompt_number": 244
    },
    {
     "cell_type": "heading",
     "level": 2,
     "metadata": {},
     "source": [
      "Example Number 29.38, Page Number:1024"
     ]
    },
    {
     "cell_type": "code",
     "collapsed": false,
     "input": [
      "#variable declaration\n",
      "v=250#V\n",
      "n=1000#rpm\n",
      "i=25#A\n",
      "i2=50#A\n",
      "ratio=0.03#percentage by which the armature reaction weakens field\n",
      "ra=0.2#ohm\n",
      "rf=250#ohm\n",
      "vd=1\n",
      "#calculation\n",
      "ish=v/rf\n",
      "ia1=i-ish\n",
      "ebh=v-ia1*ra-2*vd\n",
      "ia2=i2-ish\n",
      "eb2=v-ia2*ra-2*vd\n",
      "n2=eb2*n/(ebh*(1-ratio))\n",
      "ta1=9.55*eb1*ia1/n\n",
      "ta2=9.55*eb2*ia2/n2\n",
      "\n",
      "#result\n",
      "print \"speed=\",round(n2,0),\"rpm\"\n",
      "print \"torque in first case=\",ta1,\"N-m\"\n",
      "print \"torque in second case=\",ta2,\"N-m\"\n"
     ],
     "language": "python",
     "metadata": {},
     "outputs": [
      {
       "output_type": "stream",
       "stream": "stdout",
       "text": [
        "speed= 1010.0 rpm\n",
        "torque in first case= 57.11664 N-m\n",
        "torque in second case= 110.3912768 N-m\n"
       ]
      }
     ],
     "prompt_number": 247
    },
    {
     "cell_type": "heading",
     "level": 2,
     "metadata": {},
     "source": [
      "Example Number 29.39, Page Number:1024"
     ]
    },
    {
     "cell_type": "code",
     "collapsed": false,
     "input": [
      "#variable declaration\n",
      "v=250.0#V\n",
      "n1=1000.0#rpm\n",
      "ra=0.5#ohm\n",
      "rf=250.0#ohm\n",
      "ia=4.0#A\n",
      "i=40.0#A\n",
      "ratio=0.04#percentage by which the armature reaction weakens field\n",
      "eb1=250.0#V\n",
      "\n",
      "#calculation\n",
      "ish=v/rf\n",
      "eb2=v-(i-ish)*ra\n",
      "n2=eb2*n/(eb1*(1-ratio))\n",
      "cu_loss=(ia-ish)**2*ra\n",
      "input_m=v*ia\n",
      "constant_loss=input_m-cu_loss\n",
      "cu_loss_a=(i-ish)**2*ra\n",
      "total_loss=constant_loss+cu_loss_a\n",
      "inpt=v*i\n",
      "output=inpt-total_loss\n",
      "efficiency=output*100/inpt\n",
      "\n",
      "#result\n",
      "print \"speed=\",round(n2,0),\"rpm\"\n",
      "print \"efficiency=\",efficiency,\"%\""
     ],
     "language": "python",
     "metadata": {},
     "outputs": [
      {
       "output_type": "stream",
       "stream": "stdout",
       "text": [
        "speed= 960.0 rpm\n",
        "efficiency= 82.44 %\n"
       ]
      }
     ],
     "prompt_number": 254
    },
    {
     "cell_type": "heading",
     "level": 2,
     "metadata": {},
     "source": [
      "Example Number 29.40, Page Number:1025"
     ]
    },
    {
     "cell_type": "code",
     "collapsed": false,
     "input": [
      "#variable declaration\n",
      "p=4\n",
      "v=250#V\n",
      "z=120*8\n",
      "a=4\n",
      "phi=20*0.001#Wb\n",
      "i=25#A\n",
      "ra=0.1#ohm\n",
      "rf=125#ohm\n",
      "loss=810#W\n",
      "\n",
      "#calculations\n",
      "ish=v/rf\n",
      "ia=i-ish\n",
      "eb=v-ia*ra\n",
      "n=eb*a*60/(p*z*phi)\n",
      "ta=9.55*eb*ia/n\n",
      "cu_loss=ia**2*ra\n",
      "cu_loss_shunt=v*ish\n",
      "total_loss=loss+cu_loss+cu_loss_shunt\n",
      "input_m=v*i\n",
      "output=input_m-total_loss\n",
      "tsh=9.55*output/n\n",
      "efficiency=output*100/input_m\n",
      "\n",
      "#result\n",
      "print \"gross torque=\",ta,\"N-m\"\n",
      "print \"useful torque=\",tsh,\"N-m\"\n",
      "print \"efficiency=\",efficiency,\"%\"\n"
     ],
     "language": "python",
     "metadata": {},
     "outputs": [
      {
       "output_type": "stream",
       "stream": "stdout",
       "text": [
        "gross torque= 70.288 N-m\n",
        "useful torque= 60.2946209124 N-m\n",
        "efficiency= 78.1936 %\n"
       ]
      }
     ],
     "prompt_number": 256
    },
    {
     "cell_type": "heading",
     "level": 2,
     "metadata": {},
     "source": [
      "Example Number 29.41, Page Number:1025"
     ]
    },
    {
     "cell_type": "code",
     "collapsed": false,
     "input": [
      "#variable declaration\n",
      "output=14.92#kW\n",
      "n=1150#rpm\n",
      "p=4\n",
      "a=2\n",
      "z=620\n",
      "ra=0.2#ohm\n",
      "i=74.8#A\n",
      "i2=3#A\n",
      "v=230#V\n",
      "#calculation\n",
      "ia=i-i2\n",
      "eb=v-ia*ra\n",
      "phi=eb*a*60/(p*z*n)\n",
      "ta=9.55*eb*ia/n\n",
      "power=eb*ia\n",
      "loss_rot=power-output*1000\n",
      "input_m=v*i\n",
      "total_loss=input_m-output*1000\n",
      "per=total_loss*100/input_m\n",
      "\n",
      "#result\n",
      "print \"flux per pole=\",phi*1000,\"mWb\"\n",
      "print \"torque developed=\",ta,\"N-m\"\n",
      "print \"rotational losses=\",loss_rot,\"W\"\n",
      "print \"total losses expressed as a percentage of power=\",per,\"%\""
     ],
     "language": "python",
     "metadata": {},
     "outputs": [
      {
       "output_type": "stream",
       "stream": "stdout",
       "text": [
        "flux per pole= 9.07321178121 mWb\n",
        "torque developed= 128.575818783 N-m\n",
        "rotational losses= 562.952 W\n",
        "total losses expressed as a percentage of power= 13.2759823297 %\n"
       ]
      }
     ],
     "prompt_number": 263
    },
    {
     "cell_type": "heading",
     "level": 2,
     "metadata": {},
     "source": [
      "Example Number 29.42, Page Number:1025"
     ]
    },
    {
     "cell_type": "code",
     "collapsed": false,
     "input": [
      "import math\n",
      "from sympy.solvers import solve\n",
      "from sympy import Symbol\n",
      "#variable declaration\n",
      "ia1=Symbol('ia1')\n",
      "output=7.46#kW\n",
      "v=250#V\n",
      "i=5#A\n",
      "ra=0.5#ohm\n",
      "rf=250#ohm\n",
      "\n",
      "#calculation\n",
      "input_m=v*i\n",
      "ish=v/rf\n",
      "ia=i-ish\n",
      "cu_loss=v*ish\n",
      "cu_loss_a=ra*ia**2\n",
      "loss=input_m-cu_loss\n",
      "ia1=solve(ra*ia1**2-v*ia1+output*1000+loss,ia1)\n",
      "i2=ia1[0]+ish\n",
      "input_m1=v*i2\n",
      "efficiency=output*100000/input_m1\n",
      "ia=math.sqrt((input_m-cu_loss_a)/ra)\n",
      "input_a=v*ia\n",
      "cu_loss=ia**2*ra\n",
      "output_a=input_a-(cu_loss+loss)\n",
      "\n",
      "#result\n",
      "print \"efficiency=\",efficiency,\"%\"\n",
      "print \"output power at which efficiency is maximum=\",output_a/1000,\"kW\""
     ],
     "language": "python",
     "metadata": {},
     "outputs": [
      {
       "output_type": "stream",
       "stream": "stdout",
       "text": [
        "efficiency= 79.5621535016683 %\n",
        "output power at which efficiency is maximum= 10.2179357944 kW\n"
       ]
      }
     ],
     "prompt_number": 271
    },
    {
     "cell_type": "heading",
     "level": 2,
     "metadata": {},
     "source": [
      "Example Number 29.43, Page Number:1026"
     ]
    },
    {
     "cell_type": "code",
     "collapsed": false,
     "input": [
      "#variable declaration\n",
      "n2_by_n1=1.0/2.0\n",
      "ia2_by_ia1=phi1_by_phi2=1.0/2.0\n",
      "v2_by_v1=n2_by_n1*phi1_by_phi2\n",
      "reduction_v=(1-v2_by_v1)*100\n",
      "reduction_i=(1-ia2_by_ia1)*100\n",
      "\n",
      "#result\n",
      "print \"percentage reduction in the motor terminal voltage=\",reduction_v,\"%\"\n",
      "print \"percentage fall in the motor current=\",reduction_i,\"%\""
     ],
     "language": "python",
     "metadata": {},
     "outputs": [
      {
       "output_type": "stream",
       "stream": "stdout",
       "text": [
        "percentage reduction in the motor terminal voltage= 75.0 %\n",
        "percentage fall in the motor current= 50.0 %\n"
       ]
      }
     ],
     "prompt_number": 272
    },
    {
     "cell_type": "heading",
     "level": 2,
     "metadata": {},
     "source": [
      "Example Number 29.44, Page Number:1026"
     ]
    },
    {
     "cell_type": "code",
     "collapsed": false,
     "input": [
      "#variable declaration\n",
      "p=6\n",
      "v=500#V\n",
      "z=1200\n",
      "phi=20*0.001#Wb\n",
      "ra=0.5#ohm\n",
      "rf=250#ohm\n",
      "i=20#A\n",
      "loss=900#W\n",
      "a=2\n",
      "#calculation\n",
      "ish=v/rf\n",
      "ia=i-ish\n",
      "eb=v-ia*ra\n",
      "n=eb*a*60/(p*z*phi)\n",
      "ta=9.55*eb*ia/n\n",
      "cu_loss=ia**2*ra\n",
      "cu_loss_f=v*ish\n",
      "total_loss=cu_loss+cu_loss_f+loss\n",
      "input_m=v*i\n",
      "output=input_m-total_loss\n",
      "tsh=9.55*output/n\n",
      "efficiency=output*100/input_m\n",
      "\n",
      "#result\n",
      "print \"useful torque=\",ta,\"N-m\"\n",
      "print \"output=\",output/1000,\"Kw\"\n",
      "print \"efficiency==\",efficiency,\"%\""
     ],
     "language": "python",
     "metadata": {},
     "outputs": [
      {
       "output_type": "stream",
       "stream": "stdout",
       "text": [
        "useful torque= 206.28 N-m\n",
        "output= 7.938 Kw\n",
        "efficiency== 79.38 %\n"
       ]
      }
     ],
     "prompt_number": 275
    },
    {
     "cell_type": "heading",
     "level": 2,
     "metadata": {},
     "source": [
      "Example Number 29.45, Page Number:1027"
     ]
    },
    {
     "cell_type": "code",
     "collapsed": false,
     "input": [
      "import math\n",
      "from sympy.solvers import solve\n",
      "from sympy import Symbol\n",
      "#variable declaration\n",
      "ia1=Symbol('ia1')\n",
      "output=37.3*1000#W\n",
      "v=460#V\n",
      "i=4#A\n",
      "n=660#rpm\n",
      "ra=0.3#ohm\n",
      "rf=270#ohm\n",
      "\n",
      "#calculations\n",
      "ish=v/rf\n",
      "cu_loss=v*ish\n",
      "ia=i-ish\n",
      "cu_loss_a=ia**2*ra\n",
      "input_a=loss=v*ia\n",
      "ia1=solve(ra*ia1**2-v*ia1+output+loss,ia1)\n",
      "i=ia1[0]+ish\n",
      "eb1=v-(ia*ra)\n",
      "eb2=v-(ia1[0]*ra)\n",
      "n2=n*eb2/eb1\n",
      "ia=math.sqrt((cu_loss+input_a)/ra)\n",
      "\n",
      "#result\n",
      "print \"the current input=\",i,\"A\"\n",
      "print \"speed=\",round(n2,0),\"rpm\"\n",
      "print \"armature current at which efficiency is maximum=\",ia,\"A\""
     ],
     "language": "python",
     "metadata": {},
     "outputs": [
      {
       "output_type": "stream",
       "stream": "stdout",
       "text": [
        "the current input= 90.2860908863713 A\n",
        "speed= 623.0 rpm\n",
        "armature current at which efficiency is maximum= 78.3156008298 A\n"
       ]
      }
     ],
     "prompt_number": 280
    },
    {
     "cell_type": "code",
     "collapsed": false,
     "input": [],
     "language": "python",
     "metadata": {},
     "outputs": []
    }
   ],
   "metadata": {}
  }
 ]
}