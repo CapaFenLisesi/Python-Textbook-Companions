{
 "metadata": {
  "name": "",
  "signature": "sha256:0f43ef5b4c05930620c5e3871d199970ead64e15a20629e8e926abd11e2e9167"
 },
 "nbformat": 3,
 "nbformat_minor": 0,
 "worksheets": [
  {
   "cells": [
    {
     "cell_type": "heading",
     "level": 1,
     "metadata": {},
     "source": [
      "Chapter 34:Induction Motors"
     ]
    },
    {
     "cell_type": "heading",
     "level": 2,
     "metadata": {},
     "source": [
      "Example Number 34.1, Page Number:1255"
     ]
    },
    {
     "cell_type": "code",
     "collapsed": false,
     "input": [
      "#variable declaration\n",
      "n=290.0#rpm\n",
      "f=50.0#Hz\n",
      "Ns=300.0#rpm(considered)\n",
      "#calculation\n",
      "P=120*f/Ns\n",
      "s=(Ns-n)/Ns\n",
      "\n",
      "#result\n",
      "print \"no. of poles=\",P\n",
      "print \"slip=\",s*100,\"%\""
     ],
     "language": "python",
     "metadata": {},
     "outputs": [
      {
       "output_type": "stream",
       "stream": "stdout",
       "text": [
        "no. of poles= 20.0\n",
        "slip= 3.33333333333 %\n"
       ]
      }
     ],
     "prompt_number": 3
    },
    {
     "cell_type": "heading",
     "level": 2,
     "metadata": {},
     "source": [
      "Example Number 34.2, Page Number:1255"
     ]
    },
    {
     "cell_type": "code",
     "collapsed": false,
     "input": [
      "#variable declaration\n",
      "n=3\n",
      "slot=3\n",
      "f=50#Hz\n",
      "\n",
      "#calculation\n",
      "P=2*n\n",
      "slots_total=slot*P*n\n",
      "Ns=120*f/P\n",
      "\n",
      "#result\n",
      "print \"No. of stator poles=\",P\n",
      "print \"Total number of slots=\",slots_total\n",
      "print \"Speed=\",Ns,\"rpm\""
     ],
     "language": "python",
     "metadata": {},
     "outputs": [
      {
       "output_type": "stream",
       "stream": "stdout",
       "text": [
        " No. of stator poles= 6\n",
        "Total number of slots= 54\n",
        "Speed= 1000 rpm\n"
       ]
      }
     ],
     "prompt_number": 5
    },
    {
     "cell_type": "heading",
     "level": 2,
     "metadata": {},
     "source": [
      "Example Number 34.3, Page Number:1255"
     ]
    },
    {
     "cell_type": "code",
     "collapsed": false,
     "input": [
      "#variable declaration\n",
      "p=4\n",
      "n=3\n",
      "f=50#Hz\n",
      "slip1=0.04\n",
      "slip2=0.03\n",
      "\n",
      "#calculation\n",
      "Ns=120*f/p\n",
      "N=Ns*(1-slip1)\n",
      "f1=slip2*f*60\n",
      "#at standstill s=1\n",
      "f2=1*f\n",
      "\n",
      "#calculation\n",
      "print \"speed at which magnetic field of the stator is rotating=\",Ns,\"rpm\"\n",
      "print \"speed of the rotor when the slip is 0.04=\",N\n",
      "print \"frequency of rotor current=\",f1,\"rpm\"\n",
      "print \"frequency of the rotor current at standstill=\",f2,\"Hz\""
     ],
     "language": "python",
     "metadata": {},
     "outputs": [
      {
       "output_type": "stream",
       "stream": "stdout",
       "text": [
        "speed at which magnetic field of the stator is rotating= 1500 rpm\n",
        "speed of the rotor when the slip is 0.04= 1440.0\n",
        "frequency of rotor current= 90.0 rpm\n",
        "frequency of the rotor current at standstill= 50 Hz\n"
       ]
      }
     ],
     "prompt_number": 7
    },
    {
     "cell_type": "heading",
     "level": 2,
     "metadata": {},
     "source": [
      "Example Number 34.4, Page Number:1255"
     ]
    },
    {
     "cell_type": "code",
     "collapsed": false,
     "input": [
      "#variable declaration\n",
      "n=3.0\n",
      "p=4.0\n",
      "f=50.0#Hz\n",
      "slip=0.04\n",
      "n=600.0#rpm\n",
      "\n",
      "#calculations\n",
      "Ns=120*f/p\n",
      "N=Ns*(1-slip)\n",
      "s=(Ns-n)/Ns\n",
      "f1=s*f\n",
      "\n",
      "#result\n",
      "print \"the synchronous speed=\",Ns,\"rpm\"\n",
      "print \"the rotor speed=\",N,\"rpm\"\n",
      "print \"the rotor frequency when n=600 rpm=\",f1,\"Hz\""
     ],
     "language": "python",
     "metadata": {},
     "outputs": [
      {
       "output_type": "stream",
       "stream": "stdout",
       "text": [
        "the synchronous speed= 1500.0 rpm\n",
        "the rotor speed= 1440.0 rpm\n",
        "the rotor frequency when n=600 rpm= 30.0 Hz\n"
       ]
      }
     ],
     "prompt_number": 12
    },
    {
     "cell_type": "heading",
     "level": 2,
     "metadata": {},
     "source": [
      "Example Number 34.5, Page Number:1256"
     ]
    },
    {
     "cell_type": "code",
     "collapsed": false,
     "input": [
      "#variable declaration\n",
      "p=12\n",
      "n=3\n",
      "N=500#rpm\n",
      "p2=8\n",
      "slip=0.03\n",
      "\n",
      "#calculation\n",
      "f=p*N/120\n",
      "Ns=120*f/p2\n",
      "N=Ns-slip*Ns\n",
      "\n",
      "#result\n",
      "print \"full load speed of the motor=\",N,\"rpm\""
     ],
     "language": "python",
     "metadata": {},
     "outputs": [
      {
       "output_type": "stream",
       "stream": "stdout",
       "text": [
        "full load speed of the motor= 727.5 rpm\n"
       ]
      }
     ],
     "prompt_number": 20
    },
    {
     "cell_type": "heading",
     "level": 2,
     "metadata": {},
     "source": [
      "Example Number 34.6, Page Number:1258"
     ]
    },
    {
     "cell_type": "code",
     "collapsed": false,
     "input": [
      "#variable declaration\n",
      "e=80#V\n",
      "r=1#ohm\n",
      "x=4#ohm\n",
      "rheo=3#ohm\n",
      "\n",
      "#calculation\n",
      "E=e/(3)**0.5\n",
      "z=(r**2+x**2)**0.5\n",
      "i=E/z\n",
      "pf=r/z\n",
      "R=rheo+r\n",
      "z2=(R**2+x**2)**0.5\n",
      "i2=E/z2\n",
      "\n",
      "pf2=R/z2\n",
      "\n",
      "#result\n",
      "print \"slip rings are short circuited:\"\n",
      "print \"current/phase\",i,\"A\"\n",
      "print \"pf=\",pf\n",
      "print \"slip rings are onnected to a star-connected rheostat of 3  ohm\",\n",
      "print \"current/phase\",i2,\"A\"\n",
      "print \"pf=\",pf2"
     ],
     "language": "python",
     "metadata": {},
     "outputs": [
      {
       "output_type": "stream",
       "stream": "stdout",
       "text": [
        "slip rings are short circuited:\n",
        "current/phase 11.2022406722 A\n",
        "pf= 0.242535625036\n",
        "slip rings are onnected to a star-connected rheostat of 3  ohm current/phase 8.16496580928 A\n",
        "pf= 0.707106781187\n"
       ]
      }
     ],
     "prompt_number": 25
    },
    {
     "cell_type": "heading",
     "level": 2,
     "metadata": {},
     "source": [
      "Example Number 34.7, Page Number:1258"
     ]
    },
    {
     "cell_type": "code",
     "collapsed": false,
     "input": [
      "#variable declaration\n",
      "n=3\n",
      "v=400#V\n",
      "ratio=6.5\n",
      "r=0.05#ohm\n",
      "x=0.25#ohm\n",
      "\n",
      "#calculations\n",
      "k=1/ratio\n",
      "e2=v*k/(3**0.5)\n",
      "R=x-r\n",
      "r2=x\n",
      "z=(x**2+r2**2)**0.5\n",
      "i2=e2/z\n",
      "\n",
      "#result\n",
      "print \"external resistance=\",R,\"ohm\"\n",
      "print \"starting current=\",i2,\"A\""
     ],
     "language": "python",
     "metadata": {},
     "outputs": [
      {
       "output_type": "stream",
       "stream": "stdout",
       "text": [
        "external resistance= 0.2 ohm\n",
        "starting current= 100.491886883 A\n"
       ]
      }
     ],
     "prompt_number": 26
    },
    {
     "cell_type": "heading",
     "level": 2,
     "metadata": {},
     "source": [
      "Example Number 34.8, Page Number:1259"
     ]
    },
    {
     "cell_type": "code",
     "collapsed": false,
     "input": [
      "#variable declaration\n",
      "v=1100#V\n",
      "f=50#Hz\n",
      "ratio=3.8\n",
      "r=0.012#ohm\n",
      "x=0.25#ohm\n",
      "s=0.04\n",
      "#calculation\n",
      "e=v/ratio\n",
      "z=(r**2+x**2)**0.5\n",
      "i=e/z\n",
      "pf=r/z\n",
      "xr=s*x\n",
      "zr=(r**2+xr**2)**0.5\n",
      "er=s*e\n",
      "i2=er/zr\n",
      "pf2=r/zr\n",
      "i2=100*ratio\n",
      "z2=e/i2\n",
      "r2=(z2**2-x**2)**0.5\n",
      "R=r2-r\n",
      "\n",
      "#result\n",
      "print \"current with slip rings shorted=\",i,\"A\"\n",
      "print \"pf with slip rings shorted=\",pf\n",
      "print \"current with slip=4% and slip rings shorted=\",i2\n",
      "print \"pf withslip=4% and slip rings shorted=\",pf2\n",
      "print \"external resistance=\",R,\"ohm\""
     ],
     "language": "python",
     "metadata": {},
     "outputs": [
      {
       "output_type": "stream",
       "stream": "stdout",
       "text": [
        "current with slip rings shorted= 1156.56314266 A\n",
        "pf with slip rings shorted= 0.0479447993684\n",
        "current with slip=4% and slip rings shorted= 380.0\n",
        "pf withslip=4% and slip rings shorted= 0.768221279597\n",
        "external resistance= 0.70758173952 ohm\n"
       ]
      }
     ],
     "prompt_number": 41
    },
    {
     "cell_type": "heading",
     "level": 2,
     "metadata": {},
     "source": [
      "Example Number 34.9, Page Number:1259"
     ]
    },
    {
     "cell_type": "code",
     "collapsed": false,
     "input": [
      "#variable declaration\n",
      "load=15#kW\n",
      "v=3000#V\n",
      "f=50#Hz\n",
      "p=6\n",
      "ratio=3.6\n",
      "r=0.13#ohm\n",
      "l=3.61*0.001#H\n",
      "\n",
      "#calculation\n",
      "v=v/3**0.5\n",
      "x2=2*3.14*l*f\n",
      "k=1/ratio\n",
      "r2_=0.1/k**2\n",
      "x2_=ratio**2*x2\n",
      "is1=v/((r**2+x2_**2)**0.5)\n",
      "ns=120*f/p\n",
      "ts=(3*3/(2*3.14*f))*((v**2)*r2_)/(r2_**2+x2_**2)\n",
      "\n",
      "#result\n",
      "print \"starting current=\",is1,\"A\"\n",
      "print \"ts=\",ts,\"N-m\""
     ],
     "language": "python",
     "metadata": {},
     "outputs": [
      {
       "output_type": "stream",
       "stream": "stdout",
       "text": [
        "starting current= 117.896733436 A\n",
        "ts= 512.375725888 N-m\n"
       ]
      }
     ],
     "prompt_number": 49
    },
    {
     "cell_type": "heading",
     "level": 2,
     "metadata": {},
     "source": [
      "Example Number 34.10, Page Number:1261"
     ]
    },
    {
     "cell_type": "code",
     "collapsed": false,
     "input": [
      "#variable declaration\n",
      "zs=complex(0.4,4)\n",
      "zr=complex(6,2)\n",
      "v=80#V\n",
      "s=0.03\n",
      "\n",
      "#calculation\n",
      "e2=v/3**0.5\n",
      "i=e2/abs(zr+zs)\n",
      "er=s*e2\n",
      "xr=s*zs.imag\n",
      "ir=er/abs(complex(zs.real,xr))\n",
      "\n",
      "#result\n",
      "print \"rotor current at standstill=\",i,\"A\"\n",
      "print \"rotor current when slip-rings are short-circuited=\",ir,\"A\"\n",
      "\n"
     ],
     "language": "python",
     "metadata": {},
     "outputs": [
      {
       "output_type": "stream",
       "stream": "stdout",
       "text": [
        "rotor current at standstill= 5.26498126493 A\n",
        "rotor current when slip-rings are short-circuited= 3.31800758166 A\n"
       ]
      }
     ],
     "prompt_number": 51
    },
    {
     "cell_type": "heading",
     "level": 2,
     "metadata": {},
     "source": [
      "Example Number 34.11, Page Number:1261"
     ]
    },
    {
     "cell_type": "code",
     "collapsed": false,
     "input": [
      "#variable declaration\n",
      "n=3\n",
      "e=120#V\n",
      "r2=0.3#ohm\n",
      "x2=1.5#ohm\n",
      "s=0.04\n",
      "\n",
      "#calculations\n",
      "e2=e/3**0.5\n",
      "er=s*e2\n",
      "xr=s*x2\n",
      "zr=(r2**2+xr**2)**0.5\n",
      "i=er/zr\n",
      "s=r2/x2\n",
      "xr=s*x2\n",
      "zr=(xr**2+r2**2)**0.5\n",
      "er=s*e2\n",
      "i2=er/zr\n",
      "\n",
      "#result\n",
      "print \"rotor when running short-circuited=\",i,\"A\"\n",
      "print \"slip=\",s\n",
      "print \"current when torque is maximum=\",i2,\"A\""
     ],
     "language": "python",
     "metadata": {},
     "outputs": [
      {
       "output_type": "stream",
       "stream": "stdout",
       "text": [
        "rotor when running short-circuited= 9.05821627316 A\n",
        "slip= 0.2\n",
        "current when torque is maximum= 32.6598632371 A\n"
       ]
      }
     ],
     "prompt_number": 54
    },
    {
     "cell_type": "heading",
     "level": 2,
     "metadata": {},
     "source": [
      "Example Number 34.12, Page Number:1264"
     ]
    },
    {
     "cell_type": "code",
     "collapsed": false,
     "input": [
      "#variable declaration\n",
      "p=8\n",
      "f=50.0#Hz\n",
      "s=0.04\n",
      "tb=150.0#kg-m\n",
      "n=660.0#rpm\n",
      "r=0.5#ohm\n",
      "\n",
      "#calculation\n",
      "ns=120*f/p\n",
      "sb=(ns-n)/ns\n",
      "x2=r/sb\n",
      "t=tb*(2/((sb/s)+s/sb))\n",
      "\n",
      "#result\n",
      "print \"torque=\",t,\"kg-m\""
     ],
     "language": "python",
     "metadata": {},
     "outputs": [
      {
       "output_type": "stream",
       "stream": "stdout",
       "text": [
        "torque= 90.0 kg-m\n"
       ]
      }
     ],
     "prompt_number": 3
    },
    {
     "cell_type": "heading",
     "level": 2,
     "metadata": {},
     "source": [
      "Example Number 34.13(a), Page Number:1266"
     ]
    },
    {
     "cell_type": "code",
     "collapsed": false,
     "input": [
      "#variablde declaration\n",
      "n=3\n",
      "vd=0.90\n",
      "\n",
      "#calculation\n",
      "ratio_s=(1/vd)**2\n",
      "ratio_i=ratio_s*vd\n",
      "cu_loss_increase=ratio_i**2\n",
      "\n",
      "#result\n",
      "print \"increase in motor copper losses=\",cu_loss_increase"
     ],
     "language": "python",
     "metadata": {},
     "outputs": [
      {
       "output_type": "stream",
       "stream": "stdout",
       "text": [
        "increase in motor copper losses= 1.23456790123\n"
       ]
      }
     ],
     "prompt_number": 4
    },
    {
     "cell_type": "heading",
     "level": 2,
     "metadata": {},
     "source": [
      "Example Number 34.13(b), Page Number:1264"
     ]
    },
    {
     "cell_type": "code",
     "collapsed": false,
     "input": [
      "#variable declaration\n",
      "v=230.0#V\n",
      "p=6\n",
      "f=50.0#Hz\n",
      "p1=15.0#kW\n",
      "n=980.0#rpm\n",
      "efficiency=0.93\n",
      "vd=0.10\n",
      "fd=0.05\n",
      "\n",
      "#calculation\n",
      "v2=(1-vd)*v\n",
      "f2=(1-fd)*f\n",
      "n1=120*f/p\n",
      "n2=120*f2/p\n",
      "s1=(n1-n)/n1\n",
      "ratio_f=s1*(v*(1-vd)/v)**2*f2/f\n",
      "n2=n2*(1-ratio_f)\n",
      "p2=p1*n2/n1\n",
      "#result\n",
      "print \"the new operating speed=\",n2,\"rpm\"\n",
      "print \"the new output power=\",p2,\"kW\""
     ],
     "language": "python",
     "metadata": {},
     "outputs": [
      {
       "output_type": "stream",
       "stream": "stdout",
       "text": [
        "the new operating speed= 935.3795 rpm\n",
        "the new output power= 14.0306925 kW\n"
       ]
      }
     ],
     "prompt_number": 10
    },
    {
     "cell_type": "heading",
     "level": 2,
     "metadata": {},
     "source": [
      "Example Number 34.14(a), Page Number:1267"
     ]
    },
    {
     "cell_type": "code",
     "collapsed": false,
     "input": [
      "#variable declaration\n",
      "p=3\n",
      "v1=400#V\n",
      "v2=200#V\n",
      "r=0.06#ohm\n",
      "x=0.3#ohm\n",
      "a=1\n",
      "#calculations\n",
      "r=x-r\n",
      "\n",
      "#result\n",
      "print \"additional resistance=\",r,\"ohm\""
     ],
     "language": "python",
     "metadata": {},
     "outputs": [
      {
       "output_type": "stream",
       "stream": "stdout",
       "text": [
        "additional resistance= 0.24 ohm\n"
       ]
      }
     ],
     "prompt_number": 11
    },
    {
     "cell_type": "heading",
     "level": 2,
     "metadata": {},
     "source": [
      "Example Number 34.14(b), Page Number:1267"
     ]
    },
    {
     "cell_type": "code",
     "collapsed": false,
     "input": [
      "#variable declaration\n",
      "n=3\n",
      "f=50#Hz\n",
      "p=8\n",
      "s=0.02\n",
      "r=0.001#ohm\n",
      "x=0.005#ohm\n",
      "\n",
      "#calculation\n",
      "ns=120*f/p\n",
      "a=r/x\n",
      "n2=(1-s)*ns\n",
      "ratio=2*s**2*a/(a**2+s**2)\n",
      "\n",
      "#result\n",
      "print \"ratio of the maximum to full-load torque=\",ratio*1000,\"10^-3\""
     ],
     "language": "python",
     "metadata": {},
     "outputs": [
      {
       "output_type": "stream",
       "stream": "stdout",
       "text": [
        "ratio of the maximum to full-load torque= 3.9603960396 10^-3\n"
       ]
      }
     ],
     "prompt_number": 13
    },
    {
     "cell_type": "heading",
     "level": 2,
     "metadata": {},
     "source": [
      "Example Number 34.14(c), Page Number:1267"
     ]
    },
    {
     "cell_type": "code",
     "collapsed": false,
     "input": [
      "#variable declaration\n",
      "p=12\n",
      "v=600#V\n",
      "f=50#Hz\n",
      "r=0.03#ohm\n",
      "x=0.5#ohm\n",
      "n=495#rpm\n",
      "s=0.01\n",
      "#calculation\n",
      "Ns=120*f/p\n",
      "a=r/x\n",
      "n=Ns*(1-a)\n",
      "ratio=2*a*s/(a**2+s**2)\n",
      "\n",
      "#result\n",
      "print \"speed of max torque=\",n,\"rpm\"\n",
      "print \"ratio of torques=\",ratio"
     ],
     "language": "python",
     "metadata": {},
     "outputs": [
      {
       "output_type": "stream",
       "stream": "stdout",
       "text": [
        "speed of max torque= 470.0 rpm\n",
        "ratio of torques= 0.324324324324\n"
       ]
      }
     ],
     "prompt_number": 15
    },
    {
     "cell_type": "heading",
     "level": 2,
     "metadata": {},
     "source": [
      "Example Number 34.15, Page Number:1267"
     ]
    },
    {
     "cell_type": "code",
     "collapsed": false,
     "input": [
      "#variable declaration\n",
      "load=746.0#kW\n",
      "f=50.0#Hz\n",
      "p=16\n",
      "zr=complex(0.02,0.15)\n",
      "n=360.0#rpm\n",
      "\n",
      "#calculation\n",
      "ns=120*f/p\n",
      "s=(ns-n)/ns\n",
      "a=zr.real/zr.imag\n",
      "ratio=2*a*s/(a**2+s**2)\n",
      "N=ns*(1-a)\n",
      "R=zr.imag-zr.real\n",
      "\n",
      "#result\n",
      "print \"ratio of torques=\",ratio\n",
      "print \"speed at maximum torque=\",N,\"rpm\"\n",
      "print \"rotor resistance=\",R,\"ohm\""
     ],
     "language": "python",
     "metadata": {},
     "outputs": [
      {
       "output_type": "stream",
       "stream": "stdout",
       "text": [
        "ratio of torques= 0.550458715596\n",
        "speed at maximum torque= 325.0 rpm\n",
        "rotor resistance= 0.13 ohm\n"
       ]
      }
     ],
     "prompt_number": 19
    },
    {
     "cell_type": "heading",
     "level": 2,
     "metadata": {},
     "source": [
      "Example Number 34.16, Page Number:1268"
     ]
    },
    {
     "cell_type": "code",
     "collapsed": false,
     "input": [
      "import math\n",
      "from sympy.solvers import solve\n",
      "from sympy import Symbol\n",
      "#variable declaration\n",
      "a=Symbol('a')\n",
      "p=4\n",
      "f=50.0#Hz\n",
      "r=0.025#ohm\n",
      "x=0.12#ohm\n",
      "ratio=3.0/4.0\n",
      "\n",
      "#calculations\n",
      "s=r/x\n",
      "ns=120*f/p\n",
      "n=ns*(1-s)\n",
      "a=solve(ratio-(2*a/(1+a**2)),a)\n",
      "r=a[0]*x-r\n",
      "\n",
      "#result\n",
      "print \"speed at maximum torque=\",n,\"rpm\"\n",
      "print \"additional resistance=\",r,\"ohm\""
     ],
     "language": "python",
     "metadata": {},
     "outputs": [
      {
       "output_type": "stream",
       "stream": "stdout",
       "text": [
        "speed at maximum torque= 1187.5 rpm\n",
        "additional resistance= 0.0291699475574164 ohm\n"
       ]
      }
     ],
     "prompt_number": 24
    },
    {
     "cell_type": "heading",
     "level": 2,
     "metadata": {},
     "source": [
      "Example Number 34.17, Page Number:1268"
     ]
    },
    {
     "cell_type": "code",
     "collapsed": false,
     "input": [
      "#variable declaration\n",
      "f=50#Hz\n",
      "s=0.04\n",
      "r=0.01#ohm\n",
      "x=0.1#ohm\n",
      "p=8\n",
      "#calculation\n",
      "a=r/x\n",
      "t_ratio=2*a*s/(a**2+s**2)\n",
      "ns=120*f/p\n",
      "n=(1-a)*ns\n",
      "\n",
      "#result\n",
      "print \"ratio of torques=\",1/t_ratio\n",
      "print \"speed=\",n,\"rpm\""
     ],
     "language": "python",
     "metadata": {},
     "outputs": [
      {
       "output_type": "stream",
       "stream": "stdout",
       "text": [
        "ratio of torques= 1.45\n",
        "speed= 675.0 rpm\n"
       ]
      }
     ],
     "prompt_number": 26
    },
    {
     "cell_type": "heading",
     "level": 2,
     "metadata": {},
     "source": [
      "Example Number 34.18, Page Number:1268"
     ]
    },
    {
     "cell_type": "code",
     "collapsed": false,
     "input": [
      "import math\n",
      "from sympy.solvers import solve\n",
      "from sympy import Symbol\n",
      "#variable declaration\n",
      "a=Symbol('a')\n",
      "a2=Symbol('a2')\n",
      "p=3\n",
      "t_ratio=2.5\n",
      "t_ratio2=1.5\n",
      "s=0.03\n",
      "\n",
      "#calculation\n",
      "t_ratio3=t_ratio2/t_ratio\n",
      "a=solve(t_ratio3-(2*a/(1+a**2)),a)\n",
      "a2=solve(a2**2-0.15*a2+0.0009,a2)\n",
      "r_red=(a[0]-a2[1])/a[0]\n",
      "#result\n",
      "print \"percentage reduction in rotor circuit resistance=\",r_red*100,\"%\""
     ],
     "language": "python",
     "metadata": {},
     "outputs": [
      {
       "output_type": "stream",
       "stream": "stdout",
       "text": [
        "percentage reduction in rotor circuit resistance= 56.8784093726987 %\n"
       ]
      }
     ],
     "prompt_number": 46
    },
    {
     "cell_type": "heading",
     "level": 2,
     "metadata": {},
     "source": [
      "Example Number 34.19, Page Number:1269"
     ]
    },
    {
     "cell_type": "code",
     "collapsed": false,
     "input": [
      "#variable declaration\n",
      "p=8\n",
      "f=50#Hz\n",
      "r=0.08#ohm\n",
      "n=650.0#rpm\n",
      "\n",
      "#calculation\n",
      "ns=120*f/p\n",
      "sb=(ns-n)/ns\n",
      "x2=r/sb\n",
      "a=1\n",
      "r=a*x2-r\n",
      "#result\n",
      "print \"extra resistance=\",r,\"ohm\""
     ],
     "language": "python",
     "metadata": {},
     "outputs": [
      {
       "output_type": "stream",
       "stream": "stdout",
       "text": [
        "extra resistance= 0.52 ohm\n"
       ]
      }
     ],
     "prompt_number": 51
    },
    {
     "cell_type": "heading",
     "level": 2,
     "metadata": {},
     "source": [
      "Example Number 34.20, Page Number:1269"
     ]
    },
    {
     "cell_type": "code",
     "collapsed": false,
     "input": [
      "import math\n",
      "from sympy.solvers import solve\n",
      "from sympy import Symbol\n",
      "#variable declaration\n",
      "R=Symbol('R')\n",
      "p=4\n",
      "f=50.0#Hz\n",
      "t=162.8#N-m\n",
      "n=1365.0#rpm\n",
      "r=0.2#ohm\n",
      "\n",
      "#calculations\n",
      "ns=120*f/p\n",
      "sb=(ns-n)/ns\n",
      "x2=r/sb\n",
      "R=solve(1.0/(4*x2)-((r+R)/((r+R)**2+x2**2)),R)\n",
      "\n",
      "#result\n",
      "print \"resistance to be added=\",round(R[0],1),\"ohm\""
     ],
     "language": "python",
     "metadata": {},
     "outputs": [
      {
       "output_type": "stream",
       "stream": "stdout",
       "text": [
        "resistance to be added= 0.4 ohm\n"
       ]
      }
     ],
     "prompt_number": 56
    },
    {
     "cell_type": "heading",
     "level": 2,
     "metadata": {},
     "source": [
      "Example Number 34.21, Page Number:1270"
     ]
    },
    {
     "cell_type": "code",
     "collapsed": false,
     "input": [
      "#variable declaration\n",
      "p=4.0\n",
      "f=50.0#Hz\n",
      "load=7.46#kW\n",
      "t_ratios=1.60\n",
      "t_ratiom=2.0\n",
      "\n",
      "#calcualtion\n",
      "t_ratio=t_ratios/t_ratiom\n",
      "#0.8a2-2*a+0.8 a=0.04\n",
      "#0.5=2*a*sf/a2+sf2 sf=0.01\n",
      "a=0.04\n",
      "sf=0.01\n",
      "ns=120*f/p\n",
      "n=ns-sf*ns\n",
      "N=ns-a*ns\n",
      "\n",
      "#result\n",
      "print \"full-load speed=\",n,\"rpm\"\n",
      "print \"speed at maximum torque=\",N,\"rpm\""
     ],
     "language": "python",
     "metadata": {},
     "outputs": [
      {
       "output_type": "stream",
       "stream": "stdout",
       "text": [
        "full-load speed= 1485.0 rpm\n",
        "speed at maximum torque= 1440.0 rpm\n"
       ]
      }
     ],
     "prompt_number": 15
    },
    {
     "cell_type": "heading",
     "level": 2,
     "metadata": {},
     "source": [
      "Example Number 34.22, Page Number:1270"
     ]
    },
    {
     "cell_type": "code",
     "collapsed": false,
     "input": [
      "#variable declaration\n",
      "p=6\n",
      "v=240#V\n",
      "f=50#Hz\n",
      "r=0.12#ohm\n",
      "x=0.85#ohm\n",
      "ratio=1.8\n",
      "s=0.04\n",
      "\n",
      "#calculations\n",
      "k=1/ratio\n",
      "e2=k*(v/3**0.5)\n",
      "ns=120*f/p\n",
      "tf=(3/(2*3.14*f/3))*(s*e2*e2*r/(r**2+(s*x)**2))\n",
      "s=r/x\n",
      "tmax=(3/(2*3.14*f/3))*(s*e2*e2*r/(r**2+(s*x)**2))\n",
      "n=ns*(1-s)\n",
      "\n",
      "#result\n",
      "print \"developed torque=\",tf,\"N-m\"\n",
      "print \"maximum torque=\",tmax,\"N-m\"\n",
      "print \"speed at maximum torque=\",n,\"rpm\""
     ],
     "language": "python",
     "metadata": {},
     "outputs": [
      {
       "output_type": "stream",
       "stream": "stdout",
       "text": [
        "developed torque= 52.4097855621 N-m\n",
        "maximum torque= 99.9125764956 N-m\n",
        "speed at maximum torque= 858.823529412 rpm\n"
       ]
      }
     ],
     "prompt_number": 16
    },
    {
     "cell_type": "heading",
     "level": 2,
     "metadata": {},
     "source": [
      "Example Number 34.23, Page Number:1270"
     ]
    },
    {
     "cell_type": "code",
     "collapsed": false,
     "input": [
      "import math\n",
      "#variable declaration\n",
      "r=0.015#ohm\n",
      "x=0.09#ohm\n",
      "s=0.03\n",
      "\n",
      "#calculation\n",
      "ns=100#rpm considered\n",
      "n=(1-s)*ns\n",
      "n2=n/2\n",
      "s2=(ns-n2)/ns\n",
      "ratio=((s2/s)*(r**2+(s*x)**2)/(r**2+(s2*x)**2))**0.5\n",
      "per=1-1/ratio\n",
      "phi=math.atan(s2*x/r)\n",
      "pf=math.cos(phi)\n",
      "\n",
      "#result\n",
      "print \"percentage reduction=\",per*100,\"%\"\n",
      "print \"pf=\",pf\n"
     ],
     "language": "python",
     "metadata": {},
     "outputs": [
      {
       "output_type": "stream",
       "stream": "stdout",
       "text": [
        "percentage reduction= 22.8528060715 %\n",
        "pf= 0.307902262948\n"
       ]
      }
     ],
     "prompt_number": 17
    },
    {
     "cell_type": "heading",
     "level": 2,
     "metadata": {},
     "source": [
      "Example Number 34.26, Page Number:1272"
     ]
    },
    {
     "cell_type": "code",
     "collapsed": false,
     "input": [
      "#variable declaration\n",
      "v=440#V\n",
      "f=50#Hz\n",
      "p=4\n",
      "t=100#N-m\n",
      "n=1200#rpm\n",
      "\n",
      "#calculation\n",
      "e2=v/2\n",
      "ns=120*f/p\n",
      "n=ns-n\n",
      "n2=n+ns/2\n",
      "\n",
      "#result\n",
      "print \"stator supply voltage=\",e2,\"V\"\n",
      "print \"new speed=\",n2,\"rpm\""
     ],
     "language": "python",
     "metadata": {},
     "outputs": [
      {
       "output_type": "stream",
       "stream": "stdout",
       "text": [
        "stator supply voltage= 220 V\n",
        "new speed= 1050 rpm\n"
       ]
      }
     ],
     "prompt_number": 18
    },
    {
     "cell_type": "heading",
     "level": 2,
     "metadata": {},
     "source": [
      "Example Number 34.24, Page Number:1274"
     ]
    },
    {
     "cell_type": "code",
     "collapsed": false,
     "input": [
      "#variable delclaration\n",
      "v=400.0#V\n",
      "f=60.0#Hz\n",
      "p=8.0\n",
      "n=1140.0#rpm\n",
      "e=440.0#V\n",
      "e2=550.0#V\n",
      "\n",
      "#calculations\n",
      "ns=120*f/p\n",
      "s1=(ns-n)/ns\n",
      "s2=s1*(e/e2)**2\n",
      "n2=ns*(1-s2)\n",
      "\n",
      "#result\n",
      "print \"speed=\",n2,\"rpm\""
     ],
     "language": "python",
     "metadata": {},
     "outputs": [
      {
       "output_type": "stream",
       "stream": "stdout",
       "text": [
        "speed= 1053.6 rpm\n"
       ]
      }
     ],
     "prompt_number": 21
    },
    {
     "cell_type": "heading",
     "level": 2,
     "metadata": {},
     "source": [
      "Example Number 34.25, Page Number:1274"
     ]
    },
    {
     "cell_type": "code",
     "collapsed": false,
     "input": [
      "#variable declaration\n",
      "v=450.0#V\n",
      "f=60.0#Hz\n",
      "p=8.0\n",
      "n=873.0#rpm\n",
      "t=23.0#degrees\n",
      "n2=864.0#rpm\n",
      "alpha=1.0/234.0#per degrees centrigrade\n",
      "\n",
      "#calculation\n",
      "s1=(900-n)/900\n",
      "s2=(900-n2)/900\n",
      "ratio=s2/s1-1\n",
      "t2=(s2/s1-1)/alpha+23  \n",
      "\n",
      "#result\n",
      "print \"increase in rotor resistance=\",ratio*100,\"%\"\n",
      "print \"approx temperature=\",t2,\"degrees centigrade\""
     ],
     "language": "python",
     "metadata": {},
     "outputs": [
      {
       "output_type": "stream",
       "stream": "stdout",
       "text": [
        "increase in rotor resistance= 33.3333333333 %\n",
        "approx temperature= 101.0 degrees centigrade\n"
       ]
      }
     ],
     "prompt_number": 24
    },
    {
     "cell_type": "heading",
     "level": 2,
     "metadata": {},
     "source": [
      "Example Number 34.27, Page Number:1283"
     ]
    },
    {
     "cell_type": "code",
     "collapsed": false,
     "input": [
      "#variable declaration\n",
      "v=440.0#V\n",
      "f=500.0#Hz\n",
      "p=6.0\n",
      "load=80.0#kW\n",
      "alt=100.0\n",
      "ns=120.0*f/60.0\n",
      "#calculation\n",
      "s=alt/(60.0*f)\n",
      "n=(1-s)*ns\n",
      "cu_loss=(1.0/3.0)*load*1000/3.0\n",
      "\n",
      "#result\n",
      "print \"slip=\",s*1000,\"%\"\n",
      "print \"rotor speed=\",n,\"rpm\"\n",
      "print \"rotor copper loss=\",cu_loss/10000,\"kW\"\n"
     ],
     "language": "python",
     "metadata": {},
     "outputs": [
      {
       "output_type": "stream",
       "stream": "stdout",
       "text": [
        "slip= 3.33333333333 %\n",
        "rotor speed= 996.666666667 rpm\n",
        "rotor copper loss= 0.888888888889 kW\n"
       ]
      }
     ],
     "prompt_number": 36
    },
    {
     "cell_type": "heading",
     "level": 2,
     "metadata": {},
     "source": [
      "Example Number 34.28, Page Number:1283"
     ]
    },
    {
     "cell_type": "code",
     "collapsed": false,
     "input": [
      "#variable declaration\n",
      "v=440.0#V\n",
      "f=50.0#Hz\n",
      "p=4.0\n",
      "n=1425.0#rpm\n",
      "z=complex(0.4,4)\n",
      "ratio=0.8\n",
      "loss=500.0#W\n",
      "\n",
      "#calculation\n",
      "ns=120*f/p\n",
      "s=75/ns\n",
      "e1=v/3**0.5\n",
      "tf=(3*2/(2*3.14*f))*(((e1*ratio)**2)*z.real*s)/(z.real**2+(s*z.imag)**2)\n",
      "ir=s*ratio*e1/(z.real**2+(s*z.imag)**2)**0.5\n",
      "cu_loss=3*ir**2*z.real\n",
      "pm=2*3.4*(n/60)*tf\n",
      "pout=pm-loss\n",
      "s=z.real/z.imag\n",
      "tmax=(3*2/(2*3.14*f))*(((e1*ratio)**2)*z.real*s)/(z.real**2+(s*z.imag)**2)\n",
      "nmax=ns-s*ns\n",
      "i=ratio*e1/abs(z)\n",
      "tst=(3*2/(2*3.14*f))*(((e1*ratio)**2)*z.real)/(z.real**2+(z.imag)**2)\n",
      "\n",
      "#result\n",
      "print \" full load torque=\",tf,\"N-m\"\n",
      "print \"rotor current=\",ir,\"A\"\n",
      "print \"cu_loss=\",cu_loss,\"W\"\n",
      "print \"power output=\",pout,\"W\"\n",
      "print \"max torque=\",tmax,\"N-m\"\n",
      "print \"speed at max torque=\",nmax,\"rpm\"\n",
      "print \"starting current=\",i,\"A\"\n",
      "print \"starting torque=\",tst,\"N-m\""
     ],
     "language": "python",
     "metadata": {},
     "outputs": [
      {
       "output_type": "stream",
       "stream": "stdout",
       "text": [
        " full load torque= 78.9197452229 N-m\n",
        "rotor current= 22.7215022978 A\n",
        "cu_loss= 619.52 W\n",
        "power output= 12245.5388535 W\n",
        "max torque= 98.6496815287 N-m\n",
        "speed at max torque= 1350.0 rpm\n",
        "starting current= 50.5546790867 A\n",
        "starting torque= 19.5345904017 N-m\n"
       ]
      }
     ],
     "prompt_number": 47
    },
    {
     "cell_type": "heading",
     "level": 2,
     "metadata": {},
     "source": [
      "Example Number 34.30, Page Number:1286"
     ]
    },
    {
     "cell_type": "code",
     "collapsed": false,
     "input": [
      "#variable declaration\n",
      "load=60#kW\n",
      "loss=1#kW\n",
      "s=0.03\n",
      "\n",
      "#calculations\n",
      "p2=load-loss\n",
      "pm=(1-s)*p2\n",
      "cu_loss=s*p2\n",
      "rotor_loss=cu_loss*1000/3\n",
      "\n",
      "#result\n",
      "print \"mechanical power developed=\",pm,\"kW\"\n",
      "print \"rotor copper loss=\",rotor_loss,\"W\""
     ],
     "language": "python",
     "metadata": {},
     "outputs": [
      {
       "output_type": "stream",
       "stream": "stdout",
       "text": [
        "mechanical power developed= 57.23 kW\n",
        "rotor copper loss= 590.0 W\n"
       ]
      }
     ],
     "prompt_number": 52
    },
    {
     "cell_type": "heading",
     "level": 2,
     "metadata": {},
     "source": [
      "Example Number 34.31, Page Number:1287"
     ]
    },
    {
     "cell_type": "code",
     "collapsed": false,
     "input": [
      "#variable declaration\n",
      "v=400#V\n",
      "f=50#Hz\n",
      "p=6\n",
      "load=20#KW\n",
      "s=0.03\n",
      "i=60#A\n",
      "\n",
      "#calculation\n",
      "fr=s*f\n",
      "ns=120*f/p\n",
      "n=ns*(1-s)\n",
      "cu_loss=s*load*1000\n",
      "r2=cu_loss/(3*i**2)\n",
      "\n",
      "#result\n",
      "print \"frequency of rotor current=\",fr,\"Hz\"\n",
      "print \"rotor copper loss=\",cu_loss,\"W\"\n",
      "print \"rotor resistance=\",r2,\"ohm\""
     ],
     "language": "python",
     "metadata": {},
     "outputs": [
      {
       "output_type": "stream",
       "stream": "stdout",
       "text": [
        "frequency of rotor current= 1.5 Hz\n",
        "rotor copper loss= 600.0 W\n",
        "rotor resistance= 0.0555555555556 ohm\n"
       ]
      }
     ],
     "prompt_number": 54
    },
    {
     "cell_type": "heading",
     "level": 2,
     "metadata": {},
     "source": [
      "Example Number 34.32, Page Number:1287"
     ]
    },
    {
     "cell_type": "code",
     "collapsed": false,
     "input": [
      "#variable declaration\n",
      "p=6\n",
      "f=50#Hz\n",
      "load=3.73#KW\n",
      "n=960#rpm\n",
      "loss=280#W\n",
      "\n",
      "#calculation\n",
      "ns=120*f/p\n",
      "input_r=load*1000*ns/n\n",
      "input_s=input_r+loss\n",
      "\n",
      "#result\n",
      "print \"stator input=\",input_s,\"W\""
     ],
     "language": "python",
     "metadata": {},
     "outputs": [
      {
       "output_type": "stream",
       "stream": "stdout",
       "text": [
        "stator input= 4165.41666667 W\n"
       ]
      }
     ],
     "prompt_number": 55
    },
    {
     "cell_type": "heading",
     "level": 2,
     "metadata": {},
     "source": [
      "Example Number 34.33, Page Number:1287"
     ]
    },
    {
     "cell_type": "code",
     "collapsed": false,
     "input": [
      "#variable declaration\n",
      "v=400.0#V\n",
      "f=50.0#Hz\n",
      "p=6.0\n",
      "p2=75.0#KW\n",
      "alt=100.0\n",
      "\n",
      "#calculations\n",
      "f1=alt/60\n",
      "s=f1/f\n",
      "ns=120*f/p\n",
      "n=ns*(1-s)\n",
      "cu_loss_r_per_phase=s*p2/3\n",
      "pm=(1-s)*p2\n",
      "\n",
      "#result\n",
      "print \"slip=\",s*100,\"%\"\n",
      "print \"rotor speed=\",n,\"rpm\"\n",
      "print \"rotor copper loss per phase=\",cu_loss_r_per_phase,\"kW\"\n",
      "print \"mechancal power=\",pm,\"kW\""
     ],
     "language": "python",
     "metadata": {},
     "outputs": [
      {
       "output_type": "stream",
       "stream": "stdout",
       "text": [
        "slip= 3.33333333333 %\n",
        "rotor speed= 966.666666667 rpm\n",
        "rotor copper loss per phase= 0.833333333333 kW\n",
        "mechancal power= 72.5 kW\n"
       ]
      }
     ],
     "prompt_number": 57
    },
    {
     "cell_type": "heading",
     "level": 2,
     "metadata": {},
     "source": [
      "Example Number 34.34, Page Number:1287"
     ]
    },
    {
     "cell_type": "code",
     "collapsed": false,
     "input": [
      "#variable declaration\n",
      "v=500.0#V\n",
      "f=50.0#Hz\n",
      "p=6.0\n",
      "n=975.0#rpm\n",
      "p1=40.0#KW\n",
      "loss_s=1.0#kW\n",
      "loss=2.0#KW\n",
      "\n",
      "#calculation\n",
      "ns=120*f/p\n",
      "s=(ns-n)/ns\n",
      "p2=p1-loss_s\n",
      "cu_loss=s*p2\n",
      "pm=p2-cu_loss\n",
      "pout=pm-loss\n",
      "efficiency=pout/p1\n",
      "\n",
      "#result\n",
      "print \"slip=\",s*100,\"%\"\n",
      "print \"rotor copper loss=\",cu_loss,\"kW\"\n",
      "print \"shaft power=\",pout,\"kW\"\n",
      "print \"efficiency=\",efficiency*100,\"%\""
     ],
     "language": "python",
     "metadata": {},
     "outputs": [
      {
       "output_type": "stream",
       "stream": "stdout",
       "text": [
        "slip= 2.5 %\n",
        "rotor copper loss= 0.975 kW\n",
        "shaft power= 36.025 kW\n",
        "efficiency= 90.0625 %\n"
       ]
      }
     ],
     "prompt_number": 59
    },
    {
     "cell_type": "heading",
     "level": 2,
     "metadata": {},
     "source": [
      "Example Number 34.35, Page Number:1287"
     ]
    },
    {
     "cell_type": "code",
     "collapsed": false,
     "input": [
      "#variable declaration\n",
      "output=100#KW\n",
      "v=3300#V\n",
      "f=50#Hz\n",
      "n=500#rpm\n",
      "s=0.018\n",
      "pf=0.85\n",
      "cu_loss=2440#W\n",
      "iron_loss=3500#W\n",
      "rotational_loss=1200#W\n",
      "\n",
      "#calculations\n",
      "pm=output+rotational_loss/1000\n",
      "cu_loss_r=(s/(1-s))*pm\n",
      "p2=pm+cu_loss_r\n",
      "input_s=p2+cu_loss/1000+iron_loss/1000\n",
      "il=input_s*1000/(3**0.5*v*pf)\n",
      "efficiency=output/input_s\n",
      "\n",
      "#result\n",
      "print \"rotor copper loss=\",cu_loss_r,\"kW\"\n",
      "print \"line current=\",il,\"A\"\n",
      "print \"efficiency=\",efficiency*100,\"%\""
     ],
     "language": "python",
     "metadata": {},
     "outputs": [
      {
       "output_type": "stream",
       "stream": "stdout",
       "text": [
        "rotor copper loss= 1.85132382892 kW\n",
        "line current= 22.1989272175 A\n",
        "efficiency= 92.7202341611 %\n"
       ]
      }
     ],
     "prompt_number": 62
    },
    {
     "cell_type": "heading",
     "level": 2,
     "metadata": {},
     "source": [
      "Example Number 34.36, Page Number:1288"
     ]
    },
    {
     "cell_type": "code",
     "collapsed": false,
     "input": [
      "#variable declaration\n",
      "v=440.0#V\n",
      "f=50.0#Hz\n",
      "p=6.0\n",
      "p2=100.0#W\n",
      "c=120.0\n",
      "\n",
      "#calculations\n",
      "s=c/(f*60)\n",
      "ns=120*f/p\n",
      "n=ns*(1-s)\n",
      "pm=(1-s)*p2\n",
      "cu_loss=s*p2/3\n",
      "n2=ns-n\n",
      "\n",
      "#result\n",
      "print \"slip=\",s*100,\"%\"\n",
      "print \"rotor speed=\",n,\"rpm\"\n",
      "print \"mechanical power=\",pm,\"kW\"\n",
      "print \"copper loss=\",cu_loss,\"kW\"\n",
      "print \"speed of stator field with respect to rotor=\",n2,\"rpm\""
     ],
     "language": "python",
     "metadata": {},
     "outputs": [
      {
       "output_type": "stream",
       "stream": "stdout",
       "text": [
        "slip= 4.0 %\n",
        "rotor speed= 960.0 rpm\n",
        "mechanical power= 96.0 kW\n",
        "copper loss= 1.33333333333 kW\n",
        "speed of stator field with respect to rotor= 40.0 rpm\n"
       ]
      }
     ],
     "prompt_number": 69
    },
    {
     "cell_type": "heading",
     "level": 2,
     "metadata": {},
     "source": [
      "Example Number 34.37, Page Number:1288"
     ]
    },
    {
     "cell_type": "code",
     "collapsed": false,
     "input": [
      "#variable declaration\n",
      "efficiency=0.9\n",
      "output=37#kW\n",
      "ratio=1.0/3.0\n",
      "\n",
      "#calculation\n",
      "input_m=output*1000/efficiency\n",
      "total_loss=input_m-output*1000\n",
      "x=total_loss/(3+0.5)\n",
      "input_r=output*1000+x/2+x\n",
      "s=x/input_r\n",
      "\n",
      "#result\n",
      "print \"slip=\",s*100,\"%\""
     ],
     "language": "python",
     "metadata": {},
     "outputs": [
      {
       "output_type": "stream",
       "stream": "stdout",
       "text": [
        "slip= 3.0303030303 %\n"
       ]
      }
     ],
     "prompt_number": 74
    },
    {
     "cell_type": "heading",
     "level": 2,
     "metadata": {},
     "source": [
      "Example Number 34.38, Page Number:1289"
     ]
    },
    {
     "cell_type": "code",
     "collapsed": false,
     "input": [
      "#variable declaration\n",
      "v=400#V\n",
      "f=50#Hz\n",
      "p=6\n",
      "load=45#KW\n",
      "i=75#A\n",
      "s=0.03\n",
      "iron_loss=1200#kW\n",
      "loss=900#kW\n",
      "r=0.12#ohm\n",
      "\n",
      "#calculations\n",
      "pf=load*1000/(3**0.5*v*i)\n",
      "r=r*3/2\n",
      "cu_loss=3*(i/3**0.5)**2*r\n",
      "cu_loss_r=s*42788\n",
      "pm=42788-cu_loss_r\n",
      "output_s=pm-loss\n",
      "efficiency=output_s/(load*1000)\n",
      "t=(output_s*60)/(2*3.14*970)\n",
      "\n",
      "#result\n",
      "print \"pf=\",pf\n",
      "print \"rotor cu loss=\",cu_loss_r,\"W\"\n",
      "print \"p out=\",output_s,\"W\"\n",
      "print \"efficiency=\",efficiency*100,\"%\"\n",
      "print \"torque=\",t,\"N-m\""
     ],
     "language": "python",
     "metadata": {},
     "outputs": [
      {
       "output_type": "stream",
       "stream": "stdout",
       "text": [
        "pf= 0.866025403784\n",
        "rotor cu loss= 1283.64 W\n",
        "p out= 40604.36 W\n",
        "efficiency= 90.2319111111 %\n",
        "torque= 399.937881673 N-m\n"
       ]
      }
     ],
     "prompt_number": 78
    },
    {
     "cell_type": "heading",
     "level": 2,
     "metadata": {},
     "source": [
      "Example Number 34.39(a), Page Number:1287"
     ]
    },
    {
     "cell_type": "code",
     "collapsed": false,
     "input": [
      "#variable declaration\n",
      "p=4.0\n",
      "v=220.0#V\n",
      "f=50.0#Hz\n",
      "r=0.1#ohm\n",
      "x=0.9#ohm\n",
      "ratio=1.75\n",
      "s=0.05\n",
      "\n",
      "#calculations\n",
      "k=1/ratio\n",
      "e1=v/3**0.5\n",
      "e2=k*e1\n",
      "z=(r**2+(s*x)**2)**0.5\n",
      "i2=s*e2/z\n",
      "pcr=3*i2**2*r\n",
      "pm=pcr*(1-s)/s\n",
      "ns=120*f/p\n",
      "n=ns*(1-s)\n",
      "tg=9.55*pm/n\n",
      "sm=r/x\n",
      "n=ns*(1-sm)\n",
      "e3=sm*e2\n",
      "\n",
      "#result\n",
      "print \"load torque=\",tg/9.81,\"kg-m\"\n",
      "print \"speed at maximum torque=\",n,\"rpm\"\n",
      "print \"rotor emf at max torque=\",e3,\"V\""
     ],
     "language": "python",
     "metadata": {},
     "outputs": [
      {
       "output_type": "stream",
       "stream": "stdout",
       "text": [
        "load torque= 4.26478644041 kg-m\n",
        "speed at maximum torque= 1333.33333333 rpm\n",
        "rotor emf at max torque= 8.06457518868 V\n"
       ]
      }
     ],
     "prompt_number": 88
    },
    {
     "cell_type": "heading",
     "level": 2,
     "metadata": {},
     "source": [
      "Example Number 34.39(b), Page Number:1290"
     ]
    },
    {
     "cell_type": "code",
     "collapsed": false,
     "input": [
      "#variable declaration\n",
      "v=400#V\n",
      "f=50#Hz\n",
      "p=4\n",
      "i=10#A\n",
      "pf=0.86\n",
      "loss=0.05\n",
      "cu_r=0.04\n",
      "m_loss=0.03\n",
      "\n",
      "#calculation\n",
      "input_m=3**0.5*v*i*pf\n",
      "loss_s=loss*input_m\n",
      "input_r=input_m-loss_s\n",
      "cu_lossr=cu_r*input_r\n",
      "mec_loss=m_loss*input_r\n",
      "output_shaft=input_r-cu_lossr-mec_loss\n",
      "s=cu_lossr/input_r\n",
      "ns=120*f/p\n",
      "n=ns*(1-s)\n",
      "wr=2*3.14*n/60\n",
      "output_r=input_r-cu_lossr\n",
      "tr=output_r/wr\n",
      "tin=output_shaft/wr\n",
      "\n",
      "#result\n",
      "print \"slip=\",s*100,\"%\"\n",
      "print \"rotor speed=\",n,\"rpm\"\n",
      "print \"torque developed in the rotor=\",tr,\"Nw-m\"\n",
      "print \"shaft torque=\",tin,\"Nw-m\""
     ],
     "language": "python",
     "metadata": {},
     "outputs": [
      {
       "output_type": "stream",
       "stream": "stdout",
       "text": [
        "slip= 4.0 %\n",
        "rotor speed= 1440.0 rpm\n",
        "torque developed in the rotor= 36.0531340072 Nw-m\n",
        "shaft torque= 34.9264735695 Nw-m\n"
       ]
      }
     ],
     "prompt_number": 91
    },
    {
     "cell_type": "heading",
     "level": 2,
     "metadata": {},
     "source": [
      "Example Number 34.40, Page Number:1291"
     ]
    },
    {
     "cell_type": "code",
     "collapsed": false,
     "input": [
      "#variable declaration\n",
      "v=440.0#V\n",
      "p=40.0\n",
      "f=50.0#Hz\n",
      "r=0.1#ohm\n",
      "x=0.9#ohm\n",
      "ratio=3.5\n",
      "s=0.05\n",
      "\n",
      "#calculation\n",
      "e1=v/3**0.5\n",
      "k=1/ratio\n",
      "e2=k*e1\n",
      "er=s*e2\n",
      "z=(r**2+(s*x)**2)**0.5\n",
      "i2=er/z\n",
      "cu_loss=3*i2**2*r\n",
      "output=cu_loss*(1-s)/s\n",
      "sm=r/x\n",
      "er=sm*e2\n",
      "zr=(r**2+(x*sm)**2)**0.5\n",
      "i2=er/zr\n",
      "cu_loss=3*i2**2*r\n",
      "input_r=cu_loss/sm\n",
      "\n",
      "#result\n",
      "print \"gross output at 5% slip=\",output,\"W\"\n",
      "print \"maximum torque=\",input_r,\"W\""
     ],
     "language": "python",
     "metadata": {},
     "outputs": [
      {
       "output_type": "stream",
       "stream": "stdout",
       "text": [
        "gross output at 5% slip= 6242.77652849 W\n",
        "maximum torque= 8780.04535147 W\n"
       ]
      }
     ],
     "prompt_number": 107
    },
    {
     "cell_type": "heading",
     "level": 2,
     "metadata": {},
     "source": [
      "Example Number 34.41, Page Number:1291"
     ]
    },
    {
     "cell_type": "code",
     "collapsed": false,
     "input": [
      "#variable declaration\n",
      "pout=18.65#kW\n",
      "p=4.0\n",
      "f=50.0#Hz\n",
      "loss=0.025\n",
      "s=0.04\n",
      "\n",
      "#calculations\n",
      "pw=loss*pout*1000\n",
      "pm=pout*1000+pw\n",
      "cu_loss=s*pm/(1-s)\n",
      "p2=cu_loss/s\n",
      "ns=120*f/p\n",
      "n=ns*(1-s)\n",
      "tsh=9.55*pout*1000/n\n",
      "tg=9.55*pm/n\n",
      "\n",
      "#result\n",
      "print \"rotor cu loss=\",cu_loss,\"W\"\n",
      "print \"rotor input=\",p2,\"W\"\n",
      "print \"shaft torque=\",tsh,\"N-m\"\n",
      "print \"gross electromagnetic torque=\",tg,\"N-m\"\n"
     ],
     "language": "python",
     "metadata": {},
     "outputs": [
      {
       "output_type": "stream",
       "stream": "stdout",
       "text": [
        "rotor cu loss= 796.510416667 W\n",
        "rotor input= 19912.7604167 W\n",
        "shaft torque= 123.685763889 N-m\n",
        "gross electromagnetic torque= 126.777907986 N-m\n"
       ]
      }
     ],
     "prompt_number": 109
    },
    {
     "cell_type": "heading",
     "level": 2,
     "metadata": {},
     "source": [
      "Example Number 34.42, Page Number:1291"
     ]
    },
    {
     "cell_type": "code",
     "collapsed": false,
     "input": [
      "#variable declaration\n",
      "p=8\n",
      "f=50.0#Hz\n",
      "n=710#rpm\n",
      "load=35#kW\n",
      "loss=1200#W\n",
      "loss_r=600#W\n",
      "\n",
      "#calculation\n",
      "p2=load*1000-loss\n",
      "ns=120*f/p\n",
      "s=(ns-n)/ns\n",
      "cu_loss=s*p2\n",
      "pm=p2-cu_loss\n",
      "tg=9.55*pm/n\n",
      "pout=pm-loss_r\n",
      "tsh=9.55*pout/n\n",
      "\n",
      "#result\n",
      "print \"rotor copper loss=\",cu_loss/1000,\"kW\"\n",
      "print \"gross torque=\",tg,\"N-m\"\n",
      "print \"mechanical power=\",pm,\"W\"\n",
      "print \"net torque=\",tsh,\"N-m\"\n",
      "print \"mechanical power output=\",pout,\"W\""
     ],
     "language": "python",
     "metadata": {},
     "outputs": [
      {
       "output_type": "stream",
       "stream": "stdout",
       "text": [
        "rotor copper loss= 1.80266666667 kW\n",
        "gross torque= 430.386666667 N-m\n",
        "mechanical power= 31997.3333333 W\n",
        "net torque= 422.316244131 N-m\n",
        "mechanical power output= 31397.3333333 W\n"
       ]
      }
     ],
     "prompt_number": 113
    },
    {
     "cell_type": "heading",
     "level": 2,
     "metadata": {},
     "source": [
      "Example Number 34.43, Page Number:1292"
     ]
    },
    {
     "cell_type": "code",
     "collapsed": false,
     "input": [
      "#variable declaration\n",
      "p=6\n",
      "f=50.0#Hz\n",
      "s=0.04\n",
      "tsh=149.3#N-m\n",
      "loss=200#W\n",
      "cu_loss=1620#W\n",
      "\n",
      "#calculations\n",
      "ns=120*f/p\n",
      "n=ns*(1-s)\n",
      "pout=tsh*2*3.14*(n/60)\n",
      "output=pout+loss\n",
      "p2=output*ns/n\n",
      "cu_lossr=p2-output\n",
      "p1=p2+cu_loss\n",
      "efficiency=pout*100/p1\n",
      "\n",
      "#result\n",
      "print \"output power=\",pout/1000,\"kW\"\n",
      "print \"rotor cu loss=\",cu_lossr,\"W\"\n",
      "print \"the efficiency=\",efficiency,\"%\""
     ],
     "language": "python",
     "metadata": {},
     "outputs": [
      {
       "output_type": "stream",
       "stream": "stdout",
       "text": [
        "output power= 15.001664 kW\n",
        "rotor cu loss= 633.402666667 W\n",
        "the efficiency= 85.9444669361 %\n"
       ]
      }
     ],
     "prompt_number": 116
    },
    {
     "cell_type": "heading",
     "level": 2,
     "metadata": {},
     "source": [
      "Example Number 34.44, Page Number:1291"
     ]
    },
    {
     "cell_type": "code",
     "collapsed": false,
     "input": [
      "#variable declaration\n",
      "pout=18.65#kW\n",
      "p=6\n",
      "f=50.0#Hz\n",
      "n=960#rpm\n",
      "i2=35#A\n",
      "loss=1#kW\n",
      "\n",
      "#calculation\n",
      "pm=pout+loss\n",
      "ns=120*f/p\n",
      "s=(ns-n)/ns\n",
      "cu_lossr=pm*s*1000/(1-s)\n",
      "r2=cu_lossr/(3*i2**2)\n",
      "\n",
      "#result\n",
      "print \"resistane per phase=\",r2,\"ohm/phase\""
     ],
     "language": "python",
     "metadata": {},
     "outputs": [
      {
       "output_type": "stream",
       "stream": "stdout",
       "text": [
        "resistane per phase= 0.222789115646 ohm/phase\n"
       ]
      }
     ],
     "prompt_number": 120
    },
    {
     "cell_type": "heading",
     "level": 2,
     "metadata": {},
     "source": [
      "Example Number 34.45, Page Number:1291"
     ]
    },
    {
     "cell_type": "code",
     "collapsed": false,
     "input": [
      "import math\n",
      "from sympy.solvers import solve\n",
      "from sympy import Symbol\n",
      "#variable declaration\n",
      "sf=Symbol('sf')\n",
      "v=400#V\n",
      "p=4\n",
      "f=50#Hz\n",
      "r=0.01#ohm\n",
      "x=0.1#ohm\n",
      "ratio=4\n",
      "\n",
      "#calculation\n",
      "e1=v/3**0.5\n",
      "e2=e1/ratio\n",
      "sm=r/x\n",
      "ns=120*f/p\n",
      "tmax=(3/(2*3.14*25))*(e2**2/(2*x))\n",
      "a=r/x\n",
      "sf=solve(0.5*(a**2+sf**2)-2*a*sf,sf)\n",
      "n=ns*(1-sf[0])\n",
      "tf=tmax/2\n",
      "output=2*3.14*n*tf/60\n",
      "\n",
      "#result\n",
      "print \"maximum torque=\",tmax,\"N-m\"\n",
      "print \"full load slip=\",sf[0]\n",
      "print \"power output=\",output,\"W\""
     ],
     "language": "python",
     "metadata": {},
     "outputs": [
      {
       "output_type": "stream",
       "stream": "stdout",
       "text": [
        "maximum torque= 318.47133758 N-m\n",
        "full load slip= 0.0267949192431123\n",
        "power output= 24330.1270189222 W\n"
       ]
      }
     ],
     "prompt_number": 129
    },
    {
     "cell_type": "heading",
     "level": 2,
     "metadata": {},
     "source": [
      "Example Number 34.46, Page Number:1291"
     ]
    },
    {
     "cell_type": "code",
     "collapsed": false,
     "input": [
      "#variable declaration\n",
      "p=4\n",
      "f=50.0#Hz\n",
      "v=200.0#V\n",
      "r=0.1#ohm\n",
      "x=0.9#ohm\n",
      "k=0.67\n",
      "s=0.04\n",
      "#calculations\n",
      "e1=v/3**0.5\n",
      "e2=e1*k\n",
      "z=(r**2+(s*x)**2)**0.5\n",
      "i2=s*e2/z\n",
      "cu_loss=3*i2**2*r\n",
      "pm=cu_loss*(1-s)/s\n",
      "ns=120*f/p\n",
      "n=ns*(1-s)\n",
      "tg=9.55*pm/n\n",
      "sm=r/x\n",
      "er=sm*e2\n",
      "zr=(r**2+(sm*x)**2)**0.5\n",
      "i2=er/zr\n",
      "cu_lossr=3*i2**2*r\n",
      "output=cu_lossr*(1-sm)/sm\n",
      "n=(1-sm)*ns\n",
      "tmax=9.55*output/n\n",
      "\n",
      "#result\n",
      "print \"torque=\",tg,\"N-m\"\n",
      "print \"maximum torque=\",tmax,\"N-m\"\n",
      "print \"speed at max torque=\",n,\"rpm\""
     ],
     "language": "python",
     "metadata": {},
     "outputs": [
      {
       "output_type": "stream",
       "stream": "stdout",
       "text": [
        "torque= 40.4815391879 N-m\n",
        "maximum torque= 63.511037037 N-m\n",
        "speed at max torque= 1333.33333333 rpm\n"
       ]
      }
     ],
     "prompt_number": 143
    },
    {
     "cell_type": "heading",
     "level": 2,
     "metadata": {},
     "source": [
      "Example Number 34.47, Page Number:1293"
     ]
    },
    {
     "cell_type": "code",
     "collapsed": false,
     "input": [
      "#variable declaration\n",
      "r=0.015#ohm\n",
      "x=0.09#ohm\n",
      "f=50#Hz\n",
      "s=0.04\n",
      "p=4\n",
      "e2=110#V\n",
      "\n",
      "#calculations\n",
      "z=(r**2+x**2)**0.5\n",
      "pf=r/z\n",
      "xr=s*x\n",
      "zr=(r**2+xr**2)**0.5\n",
      "pf2=r/zr\n",
      "ns=120*f/p\n",
      "n=ns*(1-s)\n",
      "er=s*e2\n",
      "i2=er/zr\n",
      "cu_loss=3*i2**2*r\n",
      "pm=cu_loss*(1-s)/s\n",
      "tg=9.55*pm/n\n",
      "\n",
      "#result\n",
      "print \"pf of motor at start=\",pf\n",
      "print \"pf of motor at s=4%\",pf2\n",
      "print \"full load torque=\",tg,\"N-m\""
     ],
     "language": "python",
     "metadata": {},
     "outputs": [
      {
       "output_type": "stream",
       "stream": "stdout",
       "text": [
        "pf of motor at start= 0.164398987305\n",
        "pf of motor at s=4% 0.972387301981\n",
        "full load torque= 582.728189612 N-m\n"
       ]
      }
     ],
     "prompt_number": 144
    },
    {
     "cell_type": "heading",
     "level": 2,
     "metadata": {},
     "source": [
      "Example Number 34.48, Page Number:1294"
     ]
    },
    {
     "cell_type": "code",
     "collapsed": false,
     "input": [
      "#variable declaration\n",
      "p=6.0\n",
      "f=50.0#Hz\n",
      "tsh=162.84#N-m\n",
      "c=90.0\n",
      "t=20.36#N-m\n",
      "loss=830.0#W\n",
      "\n",
      "#calculation\n",
      "ns=120*f/p\n",
      "fr=c/60\n",
      "s=fr/f\n",
      "n=ns*(1-s)\n",
      "output=2*3.14*n*tsh/60\n",
      "tg=tsh+t\n",
      "p2=tg*ns/9.55\n",
      "cu_lossr=s*p2\n",
      "p1=p2+cu_lossr\n",
      "efficiency=output*100/p1\n",
      "\n",
      "#result\n",
      "print \"motor output=\",output,\"W\"\n",
      "print \"cu loss=\",cu_lossr,\"W\"\n",
      "print \"motor input\",p1,\"W\"\n",
      "print \"efficiency=\",efficiency,\"%\""
     ],
     "language": "python",
     "metadata": {},
     "outputs": [
      {
       "output_type": "stream",
       "stream": "stdout",
       "text": [
        "motor output= 16532.6024 W\n",
        "cu loss= 575.497382199 W\n",
        "motor input 19758.7434555 W\n",
        "efficiency= 83.6723369441 %\n"
       ]
      }
     ],
     "prompt_number": 146
    },
    {
     "cell_type": "heading",
     "level": 2,
     "metadata": {},
     "source": [
      "Example Number 34.49, Page Number:1294"
     ]
    },
    {
     "cell_type": "code",
     "collapsed": false,
     "input": [
      "#variable declaration\n",
      "load=18.65#kW\n",
      "v=420.0#V\n",
      "p=6\n",
      "f=50.0#Hz\n",
      "r=1.0#ohm\n",
      "z=complex(0.25,0.75)\n",
      "zr=complex(0.173,0.52)\n",
      "v1=420.0#V\n",
      "v2=350.0#V\n",
      "\n",
      "#calculations\n",
      "k=v2/v1\n",
      "r02=zr.real+k**2*z.real\n",
      "x02=zr.imag+k**2*z.imag\n",
      "z02=((r+r02)**2+x02**2)**0.5\n",
      "i2=v2/(3**0.5*z02)\n",
      "cu_loss=i2**2*(r+zr.real)\n",
      "p2=cu_loss*3\n",
      "ns=120*f/p\n",
      "tst=9.55*p2/(ns*9.81)\n",
      "#result\n",
      "print \"torque=\",tst,\"kg-m\"\n"
     ],
     "language": "python",
     "metadata": {},
     "outputs": [
      {
       "output_type": "stream",
       "stream": "stdout",
       "text": [
        "torque= 48.2909354778 kg-m\n"
       ]
      }
     ],
     "prompt_number": 157
    },
    {
     "cell_type": "heading",
     "level": 2,
     "metadata": {},
     "source": [
      "Example Number 34.50, Page Number:1295"
     ]
    },
    {
     "cell_type": "code",
     "collapsed": false,
     "input": [
      "#variable declaration\n",
      "p=8\n",
      "load=37.3#ohm\n",
      "v=280#V\n",
      "f=50.0#Hz\n",
      "i=200#A\n",
      "pf=0.25\n",
      "r=0.15#ohm\n",
      "k=1.0/3\n",
      "#calculation\n",
      "wsc=2*v*i*pf\n",
      "power_phase=v*i*pf\n",
      "R=power_phase/i**2\n",
      "r2_=R-r\n",
      "r2=k**2*r2_\n",
      "p2=3*i**2*r2_\n",
      "ns=120*f/p\n",
      "t=9.55*p2/ns\n",
      "\n",
      "#result\n",
      "print \"resistance perphaseof therotor winding=\",r2,\"ohm\"\n",
      "print \"startingtorque=\",t,\"N-m\"\n"
     ],
     "language": "python",
     "metadata": {},
     "outputs": [
      {
       "output_type": "stream",
       "stream": "stdout",
       "text": [
        "resistance perphaseof therotor winding= 0.0222222222222 ohm\n",
        "startingtorque= 305.6 N-m\n"
       ]
      }
     ],
     "prompt_number": 158
    },
    {
     "cell_type": "heading",
     "level": 2,
     "metadata": {},
     "source": [
      "Example Number 34.51, Page Number:1295"
     ]
    },
    {
     "cell_type": "code",
     "collapsed": false,
     "input": [
      "#variable declaration\n",
      "ratios=1.6\n",
      "ratiom=2.0\n",
      "sf=0.01\n",
      "sb=0.04\n",
      "#calculation\n",
      "i=(ratios/sf)**0.5\n",
      "\n",
      "#result\n",
      "print \"slip at full load=\",sf\n",
      "print \"slip at maximum torque=\",sb\n",
      "print \"rotor current=\",i"
     ],
     "language": "python",
     "metadata": {},
     "outputs": [
      {
       "output_type": "stream",
       "stream": "stdout",
       "text": [
        "slip at full load= 0.01\n",
        "slip at maximum torque= 0.04\n",
        "rotor current= 12.6491106407\n"
       ]
      }
     ],
     "prompt_number": 159
    },
    {
     "cell_type": "heading",
     "level": 2,
     "metadata": {},
     "source": [
      "Example Number 34.52, Page Number:1297"
     ]
    },
    {
     "cell_type": "code",
     "collapsed": false,
     "input": [
      "#variable declaration\n",
      "v=200#km/h\n",
      "f=100#Hz\n",
      "\n",
      "#calculation\n",
      "w=v*5.0/18/(2*f)\n",
      "\n",
      "#result\n",
      "print \"pole pitch=\",w*1000,\"mm\""
     ],
     "language": "python",
     "metadata": {},
     "outputs": [
      {
       "output_type": "stream",
       "stream": "stdout",
       "text": [
        "pole pitch= 277.777777778 mm\n"
       ]
      }
     ],
     "prompt_number": 162
    },
    {
     "cell_type": "heading",
     "level": 2,
     "metadata": {},
     "source": [
      "Example Number 34.53, Page Number:1297"
     ]
    },
    {
     "cell_type": "code",
     "collapsed": false,
     "input": [
      "#variable declaration\n",
      "p=4\n",
      "w=6#mm\n",
      "f=25#Hz\n",
      "p=6#kW\n",
      "loss=1.2#kW\n",
      "v=2.4#m/s\n",
      "\n",
      "#calculation\n",
      "vs=2*f*w/100\n",
      "s=(vs-v)/vs\n",
      "p2=p-loss\n",
      "pcr=s*p2\n",
      "pm=p2-pcr\n",
      "f=p2*1000/vs\n",
      "\n",
      "#result\n",
      "print \"synchronous speed=\",vs,\"m/s\"\n",
      "print \"slip=\",s\n",
      "print \"cu loss=\",pcr,\"kW\"\n",
      "print \"mechanical power=\",pm,\"kW\"\n",
      "print \"thrust=\",f/1000,\"kN\""
     ],
     "language": "python",
     "metadata": {},
     "outputs": [
      {
       "output_type": "stream",
       "stream": "stdout",
       "text": [
        "synchronous speed= 3 m/s\n",
        "slip= 0.2\n",
        "cu loss= 0.96 kW\n",
        "mechanical power= 3.84 kW\n",
        "thrust= 1.6 kN\n"
       ]
      }
     ],
     "prompt_number": 163
    },
    {
     "cell_type": "heading",
     "level": 2,
     "metadata": {},
     "source": [
      "Example Number 34.54, Page Number:1304"
     ]
    },
    {
     "cell_type": "code",
     "collapsed": false,
     "input": [
      "#variable declaration\n",
      "s=0.12\n",
      "r=0.08#ohm/phase\n",
      "pg=9000.0#W\n",
      "\n",
      "#calculations\n",
      "rl=r*(1/s-1)\n",
      "v=(pg*rl/3)**0.5\n",
      "il=v/rl\n",
      "\n",
      "#result\n",
      "print \"load resistance=\",rl,\"ohm\"\n",
      "print \"load voltage=\",v,\"V\"\n",
      "print \"load current=\",il,\"A\""
     ],
     "language": "python",
     "metadata": {},
     "outputs": [
      {
       "output_type": "stream",
       "stream": "stdout",
       "text": [
        "load resistance= 0.586666666667 ohm\n",
        "load voltage= 41.9523539268 V\n",
        "load current= 71.5096941934 A\n"
       ]
      }
     ],
     "prompt_number": 166
    },
    {
     "cell_type": "heading",
     "level": 2,
     "metadata": {},
     "source": [
      "Example Number 34.55, Page Number:1305"
     ]
    },
    {
     "cell_type": "code",
     "collapsed": false,
     "input": [
      "#variable declaration\n",
      "v=400.0#V\n",
      "f=50.0#Hz\n",
      "p=4\n",
      "r1=0.15#ohm\n",
      "x1=0.45#ohm\n",
      "r2_=0.12#ohm\n",
      "x2_=0.45#ohm\n",
      "xm=complex(0,28.5)#ohm\n",
      "s=0.04\n",
      "#calculations\n",
      "rl_=r2_*(1/s-1)\n",
      "i2_=(v/3**0.5)/complex(r1+rl_,x1)\n",
      "i0=(v/3**0.5)/xm\n",
      "i1=i0+i2_\n",
      "pf=math.cos(math.atan(i1.imag/i1.real))\n",
      "\n",
      "#result\n",
      "print \"stator current=\",i1,\"A\"\n",
      "print \"power factor=\",pf"
     ],
     "language": "python",
     "metadata": {},
     "outputs": [
      {
       "output_type": "stream",
       "stream": "stdout",
       "text": [
        "stator current= (74.5730253701-19.1783634605j) A\n",
        "power factor= 0.968485280755\n"
       ]
      }
     ],
     "prompt_number": 177
    },
    {
     "cell_type": "heading",
     "level": 2,
     "metadata": {},
     "source": [
      "Example Number 34.56, Page Number:1305"
     ]
    },
    {
     "cell_type": "code",
     "collapsed": false,
     "input": [
      "import math\n",
      "#variable declaration\n",
      "v=220#V\n",
      "p=4\n",
      "f=50#Hz\n",
      "power=3.73#kW\n",
      "r1=0.45#ohm\n",
      "x1=0.8#ohm\n",
      "r2_=0.4#ohm\n",
      "x2_=0.8#ohm\n",
      "b0=-1.0/30\n",
      "loss=50#W\n",
      "lossr=150#W\n",
      "s=0.04\n",
      "\n",
      "#calculations\n",
      "zab=complex(30*complex(r2_/s,x2_))/complex(r2_/s,x2_-1/b0)\n",
      "z01=complex(r1,x1)+zab\n",
      "vph=v/3**0.5\n",
      "i1=v1/z01\n",
      "pf=math.cos(math.atan(i1.imag/i1.real))\n",
      "p2=3*i1.real**2*zab.real\n",
      "pm=(1-s)*p2\n",
      "ns=120*f/p\n",
      "n=ns*(1-s)\n",
      "tg=9.55*pm/n\n",
      "power_o=pm-lossr\n",
      "cu_loss=3*i1.real**2*r1\n",
      "cu_lossr=s*p2\n",
      "total_loss=loss+cu_loss+cu_lossr+lossr\n",
      "efficiency=power_o/(power_o+total_loss)\n",
      "\n",
      "#result\n",
      "print \"input current=\",i1,\"A\"\n",
      "print \"pf=\",pf\n",
      "print \"air gap power=\",p2,\"W\"\n",
      "print \"mechanical power=\",pm,\"W\"\n",
      "print \"electro magnetic torque=\",tg,\"N-m\"\n",
      "print \"output power=\",power_o,\"W\"\n",
      "print \"efficiency=\",efficiency*100,\"%\"\n"
     ],
     "language": "python",
     "metadata": {},
     "outputs": [
      {
       "output_type": "stream",
       "stream": "stdout",
       "text": [
        "input current= (21.9914486234+42.6194245913j) A\n",
        "pf= 0.45854949826\n",
        "air gap power= 5173.46132109 W\n",
        "mechanical power= 4966.52286825 W\n",
        "electro magnetic torque= 32.9377037443 N-m\n",
        "output power= 4816.52286825 W\n",
        "efficiency= 81.9644851937 %\n"
       ]
      }
     ],
     "prompt_number": 184
    },
    {
     "cell_type": "heading",
     "level": 2,
     "metadata": {},
     "source": [
      "Example Number 34.57, Page Number:1306"
     ]
    },
    {
     "cell_type": "code",
     "collapsed": false,
     "input": [
      "#variable declaration\n",
      "v=440#V\n",
      "f=50#Hz\n",
      "load=37.3#kW\n",
      "r1=0.1#ohm\n",
      "x1=0.4#ohm\n",
      "r2_=0.15#ohm\n",
      "x2_=0.44#ohm\n",
      "loss=1250#W\n",
      "lossr=1000#W\n",
      "i=20#A\n",
      "pf=0.09\n",
      "s=0.03\n",
      "\n",
      "#calculation\n",
      "v1=v/3**0.5\n",
      "i2_=v1/complex(r1+r2_/s,x1+x2_)\n",
      "i1=i2_+complex(1.78,19.9)\n",
      "pf=math.cos(math.atan(i1.imag/i1.real))\n",
      "p2=3*i2_.real**2*r2_/s\n",
      "ns=120*f/p\n",
      "tg=9.55*p2/ns\n",
      "pm=p2*(1-s)\n",
      "pout=pm-1000\n",
      "cu_losss=3*i1.real**2*r1\n",
      "cu_lossr=s*p2\n",
      "total_loss=loss+cu_losss+cu_lossr+lossr\n",
      "efficiency=pout/(pout+total_loss)\n",
      "\n",
      "#result\n",
      "print \"line current=\",i1,\"A\"\n",
      "print \"pf=\",pf\n",
      "print \"electromagnetic torque=\",tg,\"N-m\"\n",
      "print \"output=\",pout,\"W\"\n",
      "print \"efficiency=\",efficiency*100,\"%\""
     ],
     "language": "python",
     "metadata": {},
     "outputs": [
      {
       "output_type": "stream",
       "stream": "stdout",
       "text": [
        "line current= (50.2750367599+11.9125821807j) A\n",
        "pf= 0.973057118792\n",
        "electromagnetic torque= 224.593900377 N-m\n",
        "output= 33218.2329894 W\n",
        "efficiency= 89.0932246577 %\n"
       ]
      }
     ],
     "prompt_number": 186
    },
    {
     "cell_type": "heading",
     "level": 2,
     "metadata": {},
     "source": [
      "Example Number 34.58, Page Number:1306"
     ]
    },
    {
     "cell_type": "code",
     "collapsed": false,
     "input": [
      "#variable declaration\n",
      "v=400#V\n",
      "z=complex(0.06,0.2)\n",
      "zr=complex(0.06,0.22)\n",
      "\n",
      "#calculation\n",
      "r01=z.real+zr.real\n",
      "x01=z.imag+zr.imag\n",
      "z01=(r01**2+x01**2)**0.5\n",
      "s=z.real/(z.real+z01)\n",
      "v1=v/3**0.5\n",
      "pmax=3*v1**2/(2*(r01+z01))\n",
      "\n",
      "#result\n",
      "print \"maximum gross power=\",pmax,\"W\"\n",
      "print \"slip=\",s"
     ],
     "language": "python",
     "metadata": {},
     "outputs": [
      {
       "output_type": "stream",
       "stream": "stdout",
       "text": [
        "maximum gross power= 143676.459572 W\n",
        "slip= 0.120771344025\n"
       ]
      }
     ],
     "prompt_number": 188
    },
    {
     "cell_type": "heading",
     "level": 2,
     "metadata": {},
     "source": [
      "Example Number 34.59, Page Number:1307"
     ]
    },
    {
     "cell_type": "code",
     "collapsed": false,
     "input": [
      "import math\n",
      "#variable declaration\n",
      "v1=115#V\n",
      "f=60.0#Hz\n",
      "p=6\n",
      "z=complex(0.07,0.3)\n",
      "zr=complex(0.08,0.3)\n",
      "gd=0.022#mho\n",
      "bo=0.158#mho\n",
      "s=0.02\n",
      "\n",
      "#calculation\n",
      "rl_=1/bo*(1/s-1)\n",
      "z=complex(z.real+zr.real+rl_,0.6)\n",
      "v=v1/3**0.5\n",
      "i2=complex(16,-2.36)\n",
      "io=v*complex(gd,-bo)\n",
      "i1=io+i2\n",
      "pf=math.cos(math.atan(i1.imag/i1.real))\n",
      "pg=3*abs(i2)**2*rl_/100\n",
      "ns=120*f/p\n",
      "n=(1-s)*ns\n",
      "tg=9.55*pg/n\n",
      "p2=3**0.5*v1*abs(i1)*pf\n",
      "efficiency=pg*100/p2\n",
      "\n",
      "#result\n",
      "print \"secondary current=\",i2,\"A\"\n",
      "print \"primary current=\",i1,\"A\"\n",
      "print \"pf=\",pf\n",
      "print \"power output=\",pg,\"W\"\n",
      "print \"torque=\",tg,\"N-m\"\n",
      "print \"input=\",p2,\"W\"\n",
      "print \"efficiency=\",efficiency,\"%\""
     ],
     "language": "python",
     "metadata": {},
     "outputs": [
      {
       "output_type": "stream",
       "stream": "stdout",
       "text": [
        "secondary current= (16-2.36j) A\n",
        "primary current= (17.460696181-12.8504543912j) A\n",
        "pf= 0.805393212665\n",
        "power output= 2433.59058228 W\n",
        "torque= 19.7625765823 N-m\n",
        "input= 3477.92348593 W\n",
        "efficiency= 69.9725164204 %\n"
       ]
      }
     ],
     "prompt_number": 3
    },
    {
     "cell_type": "heading",
     "level": 2,
     "metadata": {},
     "source": [
      "Example Number 34.60, Page Number:1308"
     ]
    },
    {
     "cell_type": "code",
     "collapsed": false,
     "input": [
      "#variable declaration\n",
      "v=400#V\n",
      "z=complex(0.4,1)\n",
      "zr=complex(0.6,1)\n",
      "zm=complex(10,50)\n",
      "s=0.05\n",
      "\n",
      "#calculation\n",
      "sm=zr.real/(z.real**2+(z.imag+zr.imag)**2)**0.5\n",
      "v1=v/3**0.5\n",
      "i2=v1/((z.real+zr.real)**2+(zr.imag+z.imag)**2)**0.5\n",
      "tgmax=3*i2**2*z.real*60/(sm*2*3.14*1500)\n",
      "#result\n",
      "print \"maximum torque=\",tgmax,\"N-m\""
     ],
     "language": "python",
     "metadata": {},
     "outputs": [
      {
       "output_type": "stream",
       "stream": "stdout",
       "text": [
        "maximum torque= 277.144160399 N-m\n"
       ]
      }
     ],
     "prompt_number": 208
    },
    {
     "cell_type": "code",
     "collapsed": false,
     "input": [],
     "language": "python",
     "metadata": {},
     "outputs": []
    }
   ],
   "metadata": {}
  }
 ]
}