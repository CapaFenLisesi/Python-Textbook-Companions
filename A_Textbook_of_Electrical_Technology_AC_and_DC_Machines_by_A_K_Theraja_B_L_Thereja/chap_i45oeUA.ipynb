{
 "metadata": {
  "name": "",
  "signature": "sha256:62e227cc38186a0706017dd159987c82bd21be1d7e8602e20c55cf079ab30efe"
 },
 "nbformat": 3,
 "nbformat_minor": 0,
 "worksheets": [
  {
   "cells": [
    {
     "cell_type": "heading",
     "level": 1,
     "metadata": {},
     "source": [
      "Chapter 33: Transformer:Three Phase"
     ]
    },
    {
     "cell_type": "heading",
     "level": 2,
     "metadata": {},
     "source": [
      "Example Number 33.1, Page Number:1216"
     ]
    },
    {
     "cell_type": "code",
     "collapsed": false,
     "input": [
      "import math\n",
      "#variable declaration\n",
      "p=3\n",
      "f=50.0#Hz\n",
      "vd=22000.0#V\n",
      "vs=400.0#V\n",
      "phi=0.8\n",
      "i=5.0#A\n",
      "\n",
      "#calcuations\n",
      "v_phase_secondary=vs/math.sqrt(3)\n",
      "K=(vs/vd)/math.sqrt(3)\n",
      "i_primary=i/math.sqrt(3)\n",
      "i_secondary=i_primary/K\n",
      "il=i_secondary\n",
      "output=math.sqrt(3)*il*vs*phi\n",
      "\n",
      "#result\n",
      "print \"Output=\",output/10000,\"kW\""
     ],
     "language": "python",
     "metadata": {},
     "outputs": [
      {
       "output_type": "stream",
       "stream": "stdout",
       "text": [
        "Output= 15.2420471066 kW\n"
       ]
      }
     ],
     "prompt_number": 14
    },
    {
     "cell_type": "heading",
     "level": 2,
     "metadata": {},
     "source": [
      "Example Number 33.2, Page Number:1217"
     ]
    },
    {
     "cell_type": "code",
     "collapsed": false,
     "input": [
      "import math\n",
      "#variable declaration\n",
      "w=500.0#kVA\n",
      "f=50.0#Hz\n",
      "vls=11.0#kV\n",
      "vld=33.0#kV\n",
      "rh=35.0#ohm\n",
      "rl=0.876#ohm\n",
      "iron_loss=3050.0#W\n",
      "phi1=1.0\n",
      "phi2=0.8\n",
      "\n",
      "#calculations\n",
      "\n",
      "K=(vls*1000)/(math.sqrt(3)*vld*1000)\n",
      "r02=rl+K**2*rh\n",
      "i_Secondary=(w*1000)/(math.sqrt(3)*vls*1000)\n",
      "#full load\n",
      "fl_culoss=3*((w/(vls*math.sqrt(3)))**2)*r02\n",
      "fl_totalloss=fl_culoss+iron_loss\n",
      "fl_efficiency1=w*1000/(w*1000+fl_totalloss)\n",
      "fl_efficiency2=(phi2*w*1000)/(w*phi2*1000+fl_totalloss)\n",
      "#half load\n",
      "cu_loss=.5**2*fl_culoss\n",
      "totalloss=cu_loss+iron_loss\n",
      "efficiency1=(w*1000/2)/((w*1000/2)+totalloss)\n",
      "efficiency2=(w*1000*phi2/2)/((phi2*w*1000/2)+totalloss)\n",
      "#result\n",
      "print \"full load efficiency at p.f. 1=\",fl_efficiency1*100,\"%\"\n",
      "print \"full load efficiency at p.f. 0.8=\",fl_efficiency2*100,\"%\"\n",
      "print \"half load efficiency at p.f. 1=\",efficiency1*100,\"%\"\n",
      "print \"half load efficiency at p.f. 0.8=\",round(efficiency2*100),\"%\""
     ],
     "language": "python",
     "metadata": {},
     "outputs": [
      {
       "output_type": "stream",
       "stream": "stdout",
       "text": [
        "full load efficiency at p.f. 1= 98.5147491838 %\n",
        "full load efficiency at p.f. 0.8= 98.1503046336 %\n",
        "half load efficiency at p.f. 1= 98.3585709725 %\n",
        "half load efficiency at p.f. 0.8= 98.0 %\n"
       ]
      }
     ],
     "prompt_number": 1
    },
    {
     "cell_type": "heading",
     "level": 2,
     "metadata": {},
     "source": [
      "Example Number 33.3, Page Number:1218"
     ]
    },
    {
     "cell_type": "code",
     "collapsed": false,
     "input": [
      "#variable declaration\n",
      "r=0.02\n",
      "va=2000\n",
      "reactance=0.1\n",
      "pf=0.8\n",
      "phi=math.acos(pf)\n",
      "#calculation\n",
      "cu_loss=r*100*va/100\n",
      "regn=r*100*math.cos(phi)+reactance*100*math.sin(phi)\n",
      "\n",
      "#result\n",
      "print \"Cu loss=\",cu_loss,\"kW\"\n",
      "print \"Regulation=\",regn,\"%\""
     ],
     "language": "python",
     "metadata": {},
     "outputs": [
      {
       "output_type": "stream",
       "stream": "stdout",
       "text": [
        "Cu loss= 40.0 kW\n",
        "Regulation= 7.6 %\n"
       ]
      }
     ],
     "prompt_number": 39
    },
    {
     "cell_type": "heading",
     "level": 2,
     "metadata": {},
     "source": [
      "Example Number 33.4, Page Number:1218"
     ]
    },
    {
     "cell_type": "code",
     "collapsed": false,
     "input": [
      "#variable declaration\n",
      "w=120.0#kVA\n",
      "v1=6000.0\n",
      "v2=400.0\n",
      "f=50.0#Hz\n",
      "iron_loss=1600.0#W\n",
      "pf=0.8\n",
      "\n",
      "#calculations\n",
      "cu_loss_fl=iron_loss*((4/3)**2)\n",
      "fl_output=w*pf*1000\n",
      "total_loss=iron_loss+cu_loss_fl\n",
      "efficiency1=fl_output/(fl_output+total_loss)\n",
      "cu_loss_hl=0.5**2*cu_loss_fl\n",
      "total_loss2=cu_loss_hl+iron_loss\n",
      "efficiency2=(w*1000/2)/((w*1000/2)+total_loss2)\n",
      "total_loss3=2*iron_loss\n",
      "output=(3.0/4)*w*1000\n",
      "inpt=output+total_loss3\n",
      "efficiency=output/inpt\n",
      "\n",
      "\n",
      "#result\n",
      "print \"full load efficiency=\",efficiency1*100,\"%\"\n",
      "print \"half load efficiency=\",efficiency2*100,\"%\"\n",
      "print \"3/4 load efficiency=\",efficiency*100,\"%\""
     ],
     "language": "python",
     "metadata": {},
     "outputs": [
      {
       "output_type": "stream",
       "stream": "stdout",
       "text": [
        "full load efficiency= 96.7741935484 %\n",
        "half load efficiency= 96.7741935484 %\n",
        "3/4 load efficiency= 96.5665236052 %\n"
       ]
      }
     ],
     "prompt_number": 46
    },
    {
     "cell_type": "heading",
     "level": 2,
     "metadata": {},
     "source": [
      "Example Number 33.5, Page Number:1218"
     ]
    },
    {
     "cell_type": "code",
     "collapsed": false,
     "input": [
      "import math\n",
      "#variable declaration\n",
      "rp=8.0#ohm\n",
      "rs=0.08#ohm\n",
      "z=0.07\n",
      "pf=0.75\n",
      "v1=33.0\n",
      "v2=6.6\n",
      "w=2*10.0**6\n",
      "phi=math.acos(pf)\n",
      "#calculations\n",
      "fl_i=w/(math.sqrt(3)*v2*10**3)\n",
      "K=v2/(math.sqrt(3)*v1)\n",
      "r02=rs+(rp*(K*K))\n",
      "z_drop=z*v2*1000/math.sqrt(3)\n",
      "z02=z_drop/fl_i\n",
      "x02=math.sqrt((z02*z02)-(r02*r02))\n",
      "drop=fl_i*(r02*math.cos(phi)+x02*math.sin(phi))\n",
      "secondary_v=v2*1000/math.sqrt(3)\n",
      "V2=secondary_v-drop\n",
      "line_v=V2*math.sqrt(3)\n",
      "regn=drop*100/secondary_v\n",
      "\n",
      "#result\n",
      "print \"secondary voltage\",line_v,\"V\"\n",
      "print \"regulation=\",regn,\"%\"\n",
      "\n"
     ],
     "language": "python",
     "metadata": {},
     "outputs": [
      {
       "output_type": "stream",
       "stream": "stdout",
       "text": [
        "secondary voltage 6254.29059005 V\n",
        "regulation= 5.23802136291 %\n"
       ]
      }
     ],
     "prompt_number": 59
    },
    {
     "cell_type": "heading",
     "level": 2,
     "metadata": {},
     "source": [
      "Example Number 33.6, Page Number:1219"
     ]
    },
    {
     "cell_type": "code",
     "collapsed": false,
     "input": [
      "import math\n",
      "#variable declaration\n",
      "w=100.0#kWA\n",
      "f=50.0#Hz\n",
      "v1=3300.0#V\n",
      "v2=400.0#V\n",
      "rh=3.5#ohm\n",
      "rl=0.02#ohm\n",
      "pf=0.8\n",
      "efficiency=0.958\n",
      "\n",
      "#calculations\n",
      "output=0.8*100\n",
      "inpt=output/efficiency\n",
      "total_loss=(inpt-output)*1000\n",
      "K=v2/(math.sqrt(3)*v1)\n",
      "r02=rl+K**2*rh\n",
      "i2=((w*1000)/math.sqrt(3))/v2\n",
      "cu_loss=3*i2**2*r02\n",
      "iron_loss=total_loss-cu_loss\n",
      "#result\n",
      "print \"ironloss=\",iron_loss,\"W\"\n"
     ],
     "language": "python",
     "metadata": {},
     "outputs": [
      {
       "output_type": "stream",
       "stream": "stdout",
       "text": [
        "0.0371411080502\n",
        "2321.31925314\n",
        "ironloss= 1185.98763622 W\n"
       ]
      }
     ],
     "prompt_number": 75
    },
    {
     "cell_type": "heading",
     "level": 2,
     "metadata": {},
     "source": [
      "Example Number 33.7, Page Number:1219"
     ]
    },
    {
     "cell_type": "code",
     "collapsed": false,
     "input": [
      "import math\n",
      "#variable declaration\n",
      "w=5000.0#kVA\n",
      "v1=6.6#kV\n",
      "v2=33.0#kV\n",
      "nl=15.0#kW\n",
      "fl=50.0#kW\n",
      "drop=0.07\n",
      "load=3200.0#kw\n",
      "pf=0.8\n",
      "phi=math.acos(pf)\n",
      "#calculations\n",
      "i2=w*1000/(math.sqrt(3)*v2*1000)\n",
      "impedence_drop=drop*(v2/math.sqrt(3))*1000\n",
      "z02=impedence_drop/i2\n",
      "cu_loss=fl-nl\n",
      "r02=cu_loss*1000/(3*i2**2)\n",
      "x02=math.sqrt(z02**2-r02**2)\n",
      "print \"full-load x02:\",x02\n",
      "\n",
      "#when load=3200#kW\n",
      "i2=load/(math.sqrt(3)*v2*0.8)\n",
      "drop_=drop*1000*(r02*math.cos(phi)+z02*math.sin(phi))\n",
      "regn=(drop_*100)/(v2*1000/math.sqrt(3))\n",
      "vp=v1+regn/100*v1\n",
      "print \"Primary voltage=\",vp*1000,\"V\""
     ],
     "language": "python",
     "metadata": {},
     "outputs": [
      {
       "output_type": "stream",
       "stream": "stdout",
       "text": [
        "full-load x02: 15.1695784661\n",
        "Primary voltage= 6851.39317975 V\n"
       ]
      }
     ],
     "prompt_number": 95
    },
    {
     "cell_type": "heading",
     "level": 2,
     "metadata": {},
     "source": [
      "Example Number 33.8, Page Number:1219"
     ]
    },
    {
     "cell_type": "code",
     "collapsed": false,
     "input": [
      "import math\n",
      "#variable declaration\n",
      "r=1\n",
      "x=6\n",
      "v=6600#V\n",
      "v2=4800#V\n",
      "pf=0.8\n",
      "phi=math.acos(pf)\n",
      "#calculations\n",
      "regn=(r*math.cos(phi)+z*math.sin(phi))\n",
      "secondary_v=v2+regn/100*v2\n",
      "secondary_vp=secondary_v/math.sqrt(3)\n",
      "K=secondary_vp/v\n",
      "\n",
      "#result\n",
      "print \"Transformation Ratio=\",K"
     ],
     "language": "python",
     "metadata": {},
     "outputs": [
      {
       "output_type": "stream",
       "stream": "stdout",
       "text": [
        "Transformation Ratio= 0.423426587968\n"
       ]
      }
     ],
     "prompt_number": 96
    },
    {
     "cell_type": "heading",
     "level": 2,
     "metadata": {},
     "source": [
      "Example Number 33.9, Page Number:1220"
     ]
    },
    {
     "cell_type": "code",
     "collapsed": false,
     "input": [
      "import math\n",
      "#variable declaration\n",
      "w=2000#kVA\n",
      "v1=6600#V\n",
      "v2=400#V\n",
      "pf=0.8\n",
      "scv=400#V\n",
      "sci=175#A\n",
      "scw=17#kW\n",
      "ocv=400#V\n",
      "oci=150#A\n",
      "ocw=15#kW\n",
      "phi=math.acos(pf)\n",
      "#calculations\n",
      "i1=sci/math.sqrt(3)\n",
      "z01=scv/i1\n",
      "r01=scw*1000/(3*i1*i1)\n",
      "x01=math.sqrt(z01**2-r01**2)\n",
      "r=i1*r01*100/v1\n",
      "x=i1*x01*100/v1\n",
      "regn=(r*math.cos(phi)-x*math.sin(phi))\n",
      "I1=w*1000/(math.sqrt(3)*v1)\n",
      "total_loss=scw+ocw\n",
      "fl_output=w*pf\n",
      "efficiency=fl_output/(fl_output+total_loss)\n",
      "\n",
      "#result\n",
      "print \"% resistance=\",r,\"%\"\n",
      "print \"% reactance=\",x,\"%\"\n",
      "print \"% efficiency=\",efficiency*100,\"%\"\n",
      "print \"%regulation=\",regn,\"%\""
     ],
     "language": "python",
     "metadata": {},
     "outputs": [
      {
       "output_type": "stream",
       "stream": "stdout",
       "text": [
        "% resistance= 0.849779616989 %\n",
        "% reactance= 6.00073499035 %\n",
        "% efficiency= 98.0392156863 %\n",
        "%regulation= -2.92061730062 %\n"
       ]
      }
     ],
     "prompt_number": 109
    },
    {
     "cell_type": "heading",
     "level": 2,
     "metadata": {},
     "source": [
      "Example Number 33.10, Page Number:1220"
     ]
    },
    {
     "cell_type": "code",
     "collapsed": false,
     "input": [
      "import math\n",
      "#variable declaration\n",
      "v1=11000.0#V\n",
      "v2=440.0#V\n",
      "i=5.0#A\n",
      "pf=0.8\n",
      "\n",
      "#calculations\n",
      "secondary_rating=v2/math.sqrt(3)\n",
      "primary_i=i/math.sqrt(3)\n",
      "voltsamps=v1*5/math.sqrt(3)\n",
      "i2=voltsamps/secondary_rating\n",
      "output=pf*voltsamps/1000\n",
      "\n",
      "#result\n",
      "print \"Each coil current=\",i2,\"A\"\n",
      "print \"Total output=\",output,\"kW\""
     ],
     "language": "python",
     "metadata": {},
     "outputs": [
      {
       "output_type": "stream",
       "stream": "stdout",
       "text": [
        "Each coil current= 125.0 A\n",
        "Total output= 25.4034118443 kW\n"
       ]
      }
     ],
     "prompt_number": 116
    },
    {
     "cell_type": "heading",
     "level": 2,
     "metadata": {},
     "source": [
      "Example Number 33.12, Page Number:1224"
     ]
    },
    {
     "cell_type": "code",
     "collapsed": false,
     "input": [
      "#variable declaration\n",
      "load=40#kVA\n",
      "\n",
      "#calculations\n",
      "kVA_per_transformer=load/2*1.15\n",
      "delta_delta_rating=kVA_per_transformer*3\n",
      "increase=(delta_delta_rating-load)*100/load\n",
      "\n",
      "#result\n",
      "print \"increase=\",increase,\"%\""
     ],
     "language": "python",
     "metadata": {},
     "outputs": [
      {
       "output_type": "stream",
       "stream": "stdout",
       "text": [
        "increase= 72.5 %\n"
       ]
      }
     ],
     "prompt_number": 126
    },
    {
     "cell_type": "heading",
     "level": 2,
     "metadata": {},
     "source": [
      "Example Number 33.13, Page Number:1224"
     ]
    },
    {
     "cell_type": "code",
     "collapsed": false,
     "input": [
      "import math\n",
      "#variable declaration\n",
      "w=20#kVA\n",
      "v1=2300#v\n",
      "v2=230#V\n",
      "load=40#kVA\n",
      "\n",
      "#calculations\n",
      "kva_load=load/math.sqrt(3)\n",
      "percent_rated=kva_load*100/w\n",
      "kvarating_vv=2*w*0.866\n",
      "vv_delta=kvarating_vv*100/60\n",
      "percentage_increase=kva_load/(load/3)\n",
      "\n",
      "#result\n",
      "print \"i)kVA load of each transformer=\",kva_load,\"kVA\"\n",
      "print \"ii)per cent of rated load carried by each transformer=\",percent_rated,\"%\"\n",
      "print \"iii)total kVA rating of the V-V bank\",kvarating_vv,\"kVA\"\n",
      "print \"iv)ratio of the v-v bank to delta-delta bank\",vv_delta,\"%\"\n",
      "print \"v)percent increase in load=\",percentage_increase*100,\"%\""
     ],
     "language": "python",
     "metadata": {},
     "outputs": [
      {
       "output_type": "stream",
       "stream": "stdout",
       "text": [
        "i)kVA load of each transformer= 23.0940107676 kVA\n",
        "ii)per cent of rated load carried by each transformer= 115.470053838 %\n",
        "iii)total kVA rating of the V-V bank 34.64 kVA\n",
        "iv)ratio of the v-v bank to delta-delta bank 57.7333333333 %\n",
        "v)percent increase in load= 177.646236674 %\n"
       ]
      }
     ],
     "prompt_number": 130
    },
    {
     "cell_type": "heading",
     "level": 2,
     "metadata": {},
     "source": [
      "Example Number 33.14, Page Number:1225"
     ]
    },
    {
     "cell_type": "code",
     "collapsed": false,
     "input": [
      "import math\n",
      "#variable declaration\n",
      "load=150.0#kW\n",
      "v1=1000.0#V\n",
      "pf=0.866\n",
      "v=2000.0#V\n",
      "\n",
      "#calculations\n",
      "il=load*1000/(pf*math.sqrt(3)*1000)\n",
      "ip=il/math.sqrt(3)\n",
      "ratio=v1/v\n",
      "ip=ip*ratio\n",
      "I=il\n",
      "Ip=I*ratio\n",
      "pf=86.6/100*pf\n",
      "\n",
      "#result\n",
      "print \"delta-delta:current in the windings=\",ip,\"A\"\n",
      "print \"v-v:current in the windings=\",Ip,\"A\"\n",
      "print \"Power factor\",pf"
     ],
     "language": "python",
     "metadata": {},
     "outputs": [
      {
       "output_type": "stream",
       "stream": "stdout",
       "text": [
        "delta-delta:current in the windings= 28.8683602771 A\n",
        "v-v:current in the windings= 50.0014667312 A\n",
        "Power factor 0.749956\n"
       ]
      }
     ],
     "prompt_number": 133
    },
    {
     "cell_type": "heading",
     "level": 2,
     "metadata": {},
     "source": [
      "Example Number 33.15, Page Number:1225"
     ]
    },
    {
     "cell_type": "code",
     "collapsed": false,
     "input": [
      "import math\n",
      "#variable declaration\n",
      "load=3000#kW\n",
      "v=11#kV\n",
      "pf=0.8\n",
      "\n",
      "#calculations\n",
      "I=load*1000/(math.sqrt(3)*v*1000*pf)\n",
      "transformer_pf=86.6/100*pf\n",
      "additional_load=72.5/100*load\n",
      "total_load=additional_load+load\n",
      "il=total_load*1000/(math.sqrt(3)*v*1000*pf)\n",
      "\n",
      "#result\n",
      "print \"Il=\",il,\"A\"\n",
      "print \"phase current=\",il/math.sqrt(3),\"A\""
     ],
     "language": "python",
     "metadata": {},
     "outputs": [
      {
       "output_type": "stream",
       "stream": "stdout",
       "text": [
        "Il= 339.521323075 A\n",
        "phase current= 196.022727273 A\n"
       ]
      }
     ],
     "prompt_number": 134
    },
    {
     "cell_type": "heading",
     "level": 2,
     "metadata": {},
     "source": [
      "Example Number 33.16, Page Number:1225"
     ]
    },
    {
     "cell_type": "code",
     "collapsed": false,
     "input": [
      "import math\n",
      "#variable declaration\n",
      "load=400#kVA\n",
      "pf=0.866\n",
      "v=440#V\n",
      "\n",
      "#calculations\n",
      "kVA_each=(load/2)/pf\n",
      "phi=math.acos(pf)\n",
      "p1=kVA_each*math.cos(math.radians(30-phi))\n",
      "p2=kVA_each*math.cos(math.radians(30+phi))\n",
      "p=p1+p2\n",
      "\n",
      "#result\n",
      "print \"kVA supplied by each transformer=\",kVA_each,\"kVA\"\n",
      "print \"kW supplied by each transformer=\",p,\"kW\"\n",
      "\n"
     ],
     "language": "python",
     "metadata": {},
     "outputs": [
      {
       "output_type": "stream",
       "stream": "stdout",
       "text": [
        "kVA supplied by each transformer= 230.946882217 kVA\n",
        "kW supplied by each transformer= 399.995027715 kW\n"
       ]
      }
     ],
     "prompt_number": 136
    },
    {
     "cell_type": "heading",
     "level": 2,
     "metadata": {},
     "source": [
      "Example Number 33.17, Page Number:1228"
     ]
    },
    {
     "cell_type": "code",
     "collapsed": false,
     "input": [
      "import math\n",
      "#variable declaration\n",
      "v=400.0#V\n",
      "load=33.0#kVA\n",
      "v2=3300.0#V\n",
      "\n",
      "#calculations\n",
      "vl=0.866*v2\n",
      "ilp=load*1000/(math.sqrt(3)*v2)\n",
      "ils=ilp/(440/v2)\n",
      "main_kva=v2*ilp*0.001\n",
      "teaser_kva=0.866*main_kva\n",
      "\n",
      "#result\n",
      "print \"voltage rating of each coil=\",vl\n",
      "print \"current rating of each coil=\",ils\n",
      "print \"main kVA=\",main_kva,\"kVA\"\n",
      "print \"teaser kVA=\",teaser_kva,\"kVA\""
     ],
     "language": "python",
     "metadata": {},
     "outputs": [
      {
       "output_type": "stream",
       "stream": "stdout",
       "text": [
        "voltage rating of each coil= 2857.8\n",
        "current rating of each coil= 43.3012701892\n",
        "main kVA= 19.0525588833 kVA\n",
        "teaser kVA= 16.4995159929 kVA\n"
       ]
      }
     ],
     "prompt_number": 139
    },
    {
     "cell_type": "heading",
     "level": 2,
     "metadata": {},
     "source": [
      "Example Number 33.18, Page Number:1231"
     ]
    },
    {
     "cell_type": "code",
     "collapsed": false,
     "input": [
      "#variable declaration\n",
      "v=440.0#V\n",
      "v2=200.0#V\n",
      "output=150.0#kVA\n",
      "\n",
      "#calculations\n",
      "ratio=v2/v\n",
      "i2=output*1000/(2*v2)\n",
      "i1=i2*ratio\n",
      "primary_volts=(math.sqrt(3)*v)/2\n",
      "ratio=v2/primary_volts\n",
      "\n",
      "#result\n",
      "print \"primary current=\",i1,\"A\"\n",
      "print \"turns ratio\",ratio"
     ],
     "language": "python",
     "metadata": {},
     "outputs": [
      {
       "output_type": "stream",
       "stream": "stdout",
       "text": [
        "primary current= 170.454545455 A\n",
        "turns ratio 0.524863881081\n"
       ]
      }
     ],
     "prompt_number": 2
    },
    {
     "cell_type": "heading",
     "level": 2,
     "metadata": {},
     "source": [
      "Example Number 33.19, Page Number:1231"
     ]
    },
    {
     "cell_type": "code",
     "collapsed": false,
     "input": [
      "#variable declaration\n",
      "v=100.0#V\n",
      "v2=3300.0#V\n",
      "p=400.0#kW\n",
      "pf=0.8\n",
      "\n",
      "#calculations\n",
      "K=v/v2\n",
      "i2=p*1000/(pf*v)\n",
      "ip=1.15*K*i2\n",
      "I2m=K*i2\n",
      "i2=ip/2\n",
      "i1m=math.sqrt(I2m**2+i2**2)\n",
      "\n",
      "#reslult\n",
      "print \"Current=\",i1m,\"A\""
     ],
     "language": "python",
     "metadata": {},
     "outputs": [
      {
       "output_type": "stream",
       "stream": "stdout",
       "text": [
        "Current= 174.77684841 A\n"
       ]
      }
     ],
     "prompt_number": 150
    },
    {
     "cell_type": "heading",
     "level": 2,
     "metadata": {},
     "source": [
      "Example Number 33.20, Page Number:1232"
     ]
    },
    {
     "cell_type": "code",
     "collapsed": false,
     "input": [
      "#variable declaration\n",
      "w1=300#kW\n",
      "w2=450#kW\n",
      "v1=100#V\n",
      "pf=0.707\n",
      "v2=3300#V\n",
      "\n",
      "#calculations\n",
      "K=v/v2\n",
      "i2t=(w2*1000)/(100*pf)\n",
      "i1t=1.15*K*i2t\n",
      "I2m=(K*w1*1000)/(100*pf)\n",
      "i2=i1t/2\n",
      "i1m=math.sqrt(I2m**2+i2**2)\n",
      "\n",
      "#result\n",
      "print \"Current=\",i1m,\"A\"\n"
     ],
     "language": "python",
     "metadata": {},
     "outputs": [
      {
       "output_type": "stream",
       "stream": "stdout",
       "text": [
        "Current= 169.804606659 A\n"
       ]
      }
     ],
     "prompt_number": 163
    },
    {
     "cell_type": "heading",
     "level": 2,
     "metadata": {},
     "source": [
      "Example Number 33.21, Page Number:1233"
     ]
    },
    {
     "cell_type": "code",
     "collapsed": false,
     "input": [
      "import math\n",
      "#variable declaration\n",
      "v1=80.0#V\n",
      "v2=11000.0#V\n",
      "w1=500.0#kW\n",
      "w2=800.0#kW\n",
      "pf=0.5\n",
      "\n",
      "#calculations\n",
      "K=v1/v2\n",
      "#unity pf\n",
      "i2t=w1*1000/v1\n",
      "i1t=1.15*K*i2t\n",
      "i2m=K*w2*1000/v1\n",
      "i1t_half=i1t/2\n",
      "ip=math.sqrt(i2m**2+i1t_half**2)\n",
      "\n",
      "print \"unity pf\"\n",
      "print \"one 3 phase line carries\",i1t,\"A whereas the other 2 carry\",ip,\"A each\"\n",
      "#0.5 pf\n",
      "i2t=w1*1000/(v1*pf)\n",
      "i1t=1.15*K*i2t\n",
      "i2m=K*w2*1000/(v1*pf)\n",
      "i1t_half=i1t/2\n",
      "ip=math.sqrt(i2m**2+i1t_half**2)\n",
      "print \"0.5 pf\"\n",
      "print \"one 3 phase line carries\",i1t,\"A whereas the other 2 carry\",ip,\"A each\"\n"
     ],
     "language": "python",
     "metadata": {},
     "outputs": [
      {
       "output_type": "stream",
       "stream": "stdout",
       "text": [
        "unity pf\n",
        "one 3 phase line carries 52.2727272727 A whereas the other 2 carry 77.281082436 A each\n",
        "0.5 pf\n",
        "one 3 phase line carries 104.545454545 A whereas the other 2 carry 154.562164872 A each\n"
       ]
      }
     ],
     "prompt_number": 171
    },
    {
     "cell_type": "heading",
     "level": 2,
     "metadata": {},
     "source": [
      "Example Number 33.22, Page Number:1234"
     ]
    },
    {
     "cell_type": "code",
     "collapsed": false,
     "input": [
      "import math\n",
      "#variable declaration\n",
      "v1=50#V\n",
      "v2=4.6*1000#V\n",
      "load=350#kW\n",
      "w=200#kW\n",
      "pf=0.8\n",
      "\n",
      "#calculation\n",
      "K=v1/v2\n",
      "i2t=w*1000/(v1*pf)\n",
      "i1t=1.15*K*i2t\n",
      "i2m=load*1000/(v1*pf)\n",
      "Ki2m=K*i2m\n",
      "i1t_half=i1t/2\n",
      "i1m=math.sqrt(Ki2m**2+i1t_half**2)\n",
      "\n",
      "#result\n",
      "print \"current in line A=\",i1t\n",
      "print \"current in line B=\",i1m\n",
      "print \"current in line C=\",i1m"
     ],
     "language": "python",
     "metadata": {},
     "outputs": [
      {
       "output_type": "stream",
       "stream": "stdout",
       "text": [
        "current in line A= 62.5\n",
        "current in line B= 100.11107076\n",
        "current in line C= 100.11107076\n"
       ]
      }
     ],
     "prompt_number": 173
    },
    {
     "cell_type": "heading",
     "level": 2,
     "metadata": {},
     "source": [
      "Example Number 33.23, Page Number:1234"
     ]
    },
    {
     "cell_type": "code",
     "collapsed": false,
     "input": [
      "import math\n",
      "#variable declaration\n",
      "v=231#V\n",
      "v2=6600#v\n",
      "volt_induced=8#v\n",
      "\n",
      "#calculations\n",
      "hv=v2/volt_induced\n",
      "vl=v*math.sqrt(3)\n",
      "n_lv1=vl/volt_induced\n",
      "n_lv2=math.sqrt(3)*n_lv1/2\n",
      "n=2*n_lv2/3\n",
      "\n",
      "#result\n",
      "print \"neutral point is located on the\",math.ceil(n),\"th turn from A downwards\""
     ],
     "language": "python",
     "metadata": {},
     "outputs": [
      {
       "output_type": "stream",
       "stream": "stdout",
       "text": [
        "neutral point is located on the 29.0 th turn from A downwards\n"
       ]
      }
     ],
     "prompt_number": 176
    },
    {
     "cell_type": "heading",
     "level": 2,
     "metadata": {},
     "source": [
      "Example Number 33.24, Page Number:1235"
     ]
    },
    {
     "cell_type": "code",
     "collapsed": false,
     "input": [
      "import math\n",
      "#variable declaration\n",
      "v=6000.0#V\n",
      "v2=440.0#V\n",
      "f=50.0#Hz\n",
      "area=300.0#cm2\n",
      "flux=1.2#Wb/m2\n",
      "\n",
      "#calculations\n",
      "n1=v/(4.44*f*flux*area*0.0001*0.9)\n",
      "K=v2/v\n",
      "n2=n1*K\n",
      "n_lv=math.sqrt(3)*n2/2\n",
      "turns=n_lv*2/3\n",
      "\n",
      "#result\n",
      "print \"NUmber of turns in AN=\",math.floor(turns)"
     ],
     "language": "python",
     "metadata": {},
     "outputs": [
      {
       "output_type": "stream",
       "stream": "stdout",
       "text": [
        " NUmber of turns in AN= 35.0\n"
       ]
      }
     ],
     "prompt_number": 183
    },
    {
     "cell_type": "heading",
     "level": 2,
     "metadata": {},
     "source": [
      "Example Number 33.25, Page Number:1235"
     ]
    },
    {
     "cell_type": "code",
     "collapsed": false,
     "input": [
      "import math\n",
      "#variable declaration\n",
      "v=250.0#V\n",
      "load=30.0#kVA\n",
      "v2=250.0#V\n",
      "\n",
      "#calculations\n",
      "il=load*1000/(math.sqrt(3)*v2)\n",
      "vl=0.866*v2\n",
      "kva=il*vl*(0.001)\n",
      "\n",
      "#result\n",
      "print \"Voltage=\",vl,\"V\"\n",
      "print \"kVA rating\",kva,\"kVA\""
     ],
     "language": "python",
     "metadata": {},
     "outputs": [
      {
       "output_type": "stream",
       "stream": "stdout",
       "text": [
        "Voltage= 216.5 V\n",
        "kVA rating 14.9995599935 kVA\n"
       ]
      }
     ],
     "prompt_number": 185
    },
    {
     "cell_type": "heading",
     "level": 2,
     "metadata": {},
     "source": [
      "Example Number 33.26, Page Number:1237"
     ]
    },
    {
     "cell_type": "code",
     "collapsed": false,
     "input": [
      "import cmath\n",
      "#vaiable declaration\n",
      "load=500#kVA\n",
      "pf=0.8\n",
      "za=complex(2,6)\n",
      "zb=complex(2,5)\n",
      "phi=math.acos(pf)\n",
      "#calculations\n",
      "s=load*complex(math.cos(phi),math.sin(phi))\n",
      "z1=za/zb\n",
      "z2=zb/za\n",
      "sa=s/(1+z1)\n",
      "sb=s/(1+z2)\n",
      "pfa=cmath.phase(sa)\n",
      "pfb=cmath.phase(sb)\n",
      "#result\n",
      "print \"sa=\",abs(sa)\n",
      "print \"sb=\",abs(sb)\n",
      "print \"cos phi_a=\",pfa\n",
      "print \"cos phi_b=\",pfb"
     ],
     "language": "python",
     "metadata": {},
     "outputs": [
      {
       "output_type": "stream",
       "stream": "stdout",
       "text": [
        "sa= 230.042839552\n",
        "sb= 270.171613479\n",
        "cos phi_a= 0.611765735265\n",
        "cos phi_b= 0.670521557981\n"
       ]
      }
     ],
     "prompt_number": 5
    },
    {
     "cell_type": "heading",
     "level": 2,
     "metadata": {},
     "source": [
      "Example Number 33.27, Page Number:1237"
     ]
    },
    {
     "cell_type": "code",
     "collapsed": false,
     "input": [
      "import cmath\n",
      "#variable declaration\n",
      "w=2000#kVA\n",
      "w1=4000#kVA\n",
      "w2=5000#kVA\n",
      "pf=0.8\n",
      "za=complex(2,8)\n",
      "zb=complex(1.6,3)\n",
      "\n",
      "#calculations\n",
      "za_per=(w1/w)*za\n",
      "zb_per=zb\n",
      "z=za_per+zb_per\n",
      "s=complex(w1,w-w2)\n",
      "sb=s*(za/z)\n",
      "sa=s-sb\n",
      "\n",
      "#result\n",
      "print \"sa=\",sa\n",
      "print \"sb=\",sb"
     ],
     "language": "python",
     "metadata": {},
     "outputs": [
      {
       "output_type": "stream",
       "stream": "stdout",
       "text": [
        "sa= (2284.2287695-1821.49046794j)\n",
        "sb= (1715.7712305-1178.50953206j)\n"
       ]
      }
     ],
     "prompt_number": 211
    },
    {
     "cell_type": "heading",
     "level": 2,
     "metadata": {},
     "source": [
      "Example Number 33.28, Page Number:1237"
     ]
    },
    {
     "cell_type": "code",
     "collapsed": false,
     "input": [
      "import cmath\n",
      "#variable declaration\n",
      "load=1400#kVA\n",
      "pf=0.866\n",
      "w1=1000#kVA\n",
      "w2=500#kVA\n",
      "v1=6600\n",
      "v2=400\n",
      "za=complex(0.001,0.003)\n",
      "zb=complex(0.0028,0.005)\n",
      "phi=math.acos(pf)\n",
      "#calculations\n",
      "zb=(w1/w2)*zb\n",
      "z=za/(za+zb)\n",
      "x=math.cos(-phi)\n",
      "y=math.sin(-phi)*1j\n",
      "s=load*(x+y)\n",
      "sb=s*z\n",
      "sa=s-sb\n",
      "\n",
      "#result\n",
      "print \"sa=\",sa\n",
      "print \"sb=\",sb"
     ],
     "language": "python",
     "metadata": {},
     "outputs": [
      {
       "output_type": "stream",
       "stream": "stdout",
       "text": [
        "sa= (929.911014012-588.664867724j)\n",
        "sb= (282.488985988-111.396729565j)\n"
       ]
      }
     ],
     "prompt_number": 240
    },
    {
     "cell_type": "heading",
     "level": 2,
     "metadata": {},
     "source": [
      "Example Number 33.29, Page Number:1238"
     ]
    },
    {
     "cell_type": "code",
     "collapsed": false,
     "input": [
      "import cmath\n",
      "#variable declaration\n",
      "load=750#kVA\n",
      "pf=0.707\n",
      "w1=500#kVA\n",
      "w2=250#kVA\n",
      "v1=3300\n",
      "v2=400\n",
      "za=complex(2,3)\n",
      "zb=complex(1.5,4)\n",
      "phi=math.acos(pf)\n",
      "#calculations\n",
      "zb=(w1/w2)*zb\n",
      "z=za/(za+zb)\n",
      "x=math.cos(-phi)\n",
      "y=math.sin(-phi)*1j\n",
      "s=load*(x+y)\n",
      "sb=s*z\n",
      "sa=s-sb\n",
      "per_r=za.real*(sa.real)/w1\n",
      "per_x=(za.imag)*(sa.imag)/w1\n",
      "total_per=per_r+per_x\n",
      "vl=v2-(total_per*4)\n",
      "#result\n",
      "print \"sa=\",sa\n",
      "print \"sb=\",sb"
     ],
     "language": "python",
     "metadata": {},
     "outputs": [
      {
       "output_type": "stream",
       "stream": "stdout",
       "text": [
        "sa= (399.511103547-348.770523615j)\n",
        "sb= (130.738896453-181.639636072j)\n"
       ]
      }
     ],
     "prompt_number": 242
    },
    {
     "cell_type": "heading",
     "level": 2,
     "metadata": {},
     "source": [
      "Example Number 33.30, Page Number:1240"
     ]
    },
    {
     "cell_type": "code",
     "collapsed": false,
     "input": [
      "#variable declaration\n",
      "ratio=100/5\n",
      "i=5#A\n",
      "i1=3.5#A\n",
      "\n",
      "#calculations\n",
      "il=i1*ratio\n",
      "\n",
      "#result\n",
      "print \"Line current=\",il,\"A\""
     ],
     "language": "python",
     "metadata": {},
     "outputs": [
      {
       "output_type": "stream",
       "stream": "stdout",
       "text": [
        "Line current= 70.0 A\n"
       ]
      }
     ],
     "prompt_number": 214
    },
    {
     "cell_type": "heading",
     "level": 2,
     "metadata": {},
     "source": [
      "Example Number 33.31, Page Number:1240"
     ]
    },
    {
     "cell_type": "code",
     "collapsed": false,
     "input": [
      "#variable declaration\n",
      "i1=2000#A\n",
      "i2=2500#A\n",
      "i=5#A\n",
      "\n",
      "#calculations\n",
      "ratio1=i1/i\n",
      "ratio2=i2/i\n",
      "\n",
      "#result\n",
      "print \"ratio in first case=\",ratio1\n",
      "print \"ratio in second case=\",ratio2"
     ],
     "language": "python",
     "metadata": {},
     "outputs": [
      {
       "output_type": "stream",
       "stream": "stdout",
       "text": [
        "ratio in first case= 400\n",
        "ratio in second case= 500\n"
       ]
      }
     ],
     "prompt_number": 216
    },
    {
     "cell_type": "code",
     "collapsed": false,
     "input": [],
     "language": "python",
     "metadata": {},
     "outputs": []
    }
   ],
   "metadata": {}
  }
 ]
}