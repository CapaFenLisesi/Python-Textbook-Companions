{
 "metadata": {
  "name": "",
  "signature": "sha256:3a9b903871f8bdf2f971bf001fa7cff3dbf47aad5e657d5bfcea016f9756d9ac"
 },
 "nbformat": 3,
 "nbformat_minor": 0,
 "worksheets": [
  {
   "cells": [
    {
     "cell_type": "heading",
     "level": 1,
     "metadata": {},
     "source": [
      "Chapter 37: Alternators"
     ]
    },
    {
     "cell_type": "heading",
     "level": 2,
     "metadata": {},
     "source": [
      "Example Number 37.1, Page Number:1412"
     ]
    },
    {
     "cell_type": "code",
     "collapsed": false,
     "input": [
      "import math\n",
      "#variable declaration\n",
      "s1=36.0\n",
      "p1=4.0\n",
      "span1=8.0\n",
      "s2=72.0\n",
      "p2=6.0\n",
      "span2=10.0\n",
      "s3=96.0\n",
      "p3=6.0\n",
      "span3=12.0\n",
      "\n",
      "#calculations\n",
      "alpha1=2*p1*180/s1\n",
      "alpha2=3*p2*180/s2\n",
      "alpha3=5*p3*180/s3\n",
      "kc1=math.cos(math.radians(alpha1/2))\n",
      "kc2=math.cos(math.radians(alpha2/2))\n",
      "kc3=math.cos(math.radians(alpha3/2))\n",
      "\n",
      "#result\n",
      "print \"a)kc=\",kc1\n",
      "print \"b)kc=\",kc2\n",
      "print \"c)kc=\",kc3"
     ],
     "language": "python",
     "metadata": {},
     "outputs": [
      {
       "output_type": "stream",
       "stream": "stdout",
       "text": [
        "a)kc= 0.939692620786\n",
        "b)kc= 0.923879532511\n",
        "c)kc= 0.881921264348\n"
       ]
      }
     ],
     "prompt_number": 4
    },
    {
     "cell_type": "heading",
     "level": 2,
     "metadata": {},
     "source": [
      "Example Number 37.2, Page Number:1414"
     ]
    },
    {
     "cell_type": "code",
     "collapsed": false,
     "input": [
      "#variable declaration\n",
      "s=36.0\n",
      "p=4.0\n",
      "\n",
      "#calculations\n",
      "n=s/p\n",
      "beta=180/n\n",
      "m=s/(p*3)\n",
      "kd=math.sin(m*math.radians(beta/2))/(m*math.sin(math.radians(beta/2)))\n",
      "\n",
      "#result\n",
      "print \"distribution factor=\",kd"
     ],
     "language": "python",
     "metadata": {},
     "outputs": [
      {
       "output_type": "stream",
       "stream": "stdout",
       "text": [
        "distribution factor= 0.959795080524\n"
       ]
      }
     ],
     "prompt_number": 10
    },
    {
     "cell_type": "heading",
     "level": 2,
     "metadata": {},
     "source": [
      "Example Number 37.3, Page Number:1414"
     ]
    },
    {
     "cell_type": "code",
     "collapsed": false,
     "input": [
      "#variable declaration\n",
      "v=10.0#V\n",
      "beta=30.0#degrees\n",
      "m=6.0\n",
      "\n",
      "#calculations\n",
      "kd=math.sin(m*math.radians(beta/2))/(m*math.sin(math.radians(beta/2)))\n",
      "arith_sum=6*v\n",
      "vector_sum=kd*arith_sum\n",
      "\n",
      "#calculation\n",
      "print \"emf of six coils in series=\",vector_sum,\"V\""
     ],
     "language": "python",
     "metadata": {},
     "outputs": [
      {
       "output_type": "stream",
       "stream": "stdout",
       "text": [
        "emf of six coils in series= 38.6370330516 V\n"
       ]
      }
     ],
     "prompt_number": 11
    },
    {
     "cell_type": "heading",
     "level": 2,
     "metadata": {},
     "source": [
      "Example Number 37.4, Page Number:1414"
     ]
    },
    {
     "cell_type": "code",
     "collapsed": false,
     "input": [
      "#variable declaration\n",
      "beta=180/9\n",
      "ratio=2.0/3.0\n",
      "m1=9\n",
      "m2=6\n",
      "m3=3\n",
      "\n",
      "#calculation\n",
      "kd1=math.sin(m1*math.radians(beta/2))/(m1*math.sin(math.radians(beta/2)))\n",
      "kd2=math.sin(m2*math.radians(beta/2))/(m2*math.sin(math.radians(beta/2)))\n",
      "kd3=math.sin(m3*math.radians(beta/2))/(m3*math.sin(math.radians(beta/2)))\n",
      "\n",
      "#result\n",
      "print \"i) kd=\",kd1\n",
      "print \"ii)kd=\",kd2\n",
      "print \"iii)kd=\",kd3"
     ],
     "language": "python",
     "metadata": {},
     "outputs": [
      {
       "output_type": "stream",
       "stream": "stdout",
       "text": [
        "i) kd= 0.639863387016\n",
        "ii)kd= 0.831206922161\n",
        "iii)kd= 0.959795080524\n"
       ]
      }
     ],
     "prompt_number": 12
    },
    {
     "cell_type": "heading",
     "level": 2,
     "metadata": {},
     "source": [
      "Example Number 37.5, Page Number:1416"
     ]
    },
    {
     "cell_type": "code",
     "collapsed": false,
     "input": [
      "#variable declaration\n",
      "slot=18.0\n",
      "s=16.0\n",
      "m1=3.0\n",
      "m2=5.0\n",
      "m3=7.0\n",
      "\n",
      "#calculations\n",
      "span=(s-1)\n",
      "alpha=180*3/slot\n",
      "kc1=math.cos(math.radians(alpha/2))\n",
      "kc3=math.cos(math.radians(m1*alpha/2))\n",
      "kc5=math.cos(math.radians(m2*alpha/2))\n",
      "kc7=math.cos(math.radians(m3*alpha/2))\n",
      "\n",
      "#result\n",
      "print \"kc1=\",kc1\n",
      "print \"kc3=\",kc3\n",
      "print \"kc5=\",kc5\n",
      "print \"kc7=\",kc7"
     ],
     "language": "python",
     "metadata": {},
     "outputs": [
      {
       "output_type": "stream",
       "stream": "stdout",
       "text": [
        "kc1= 0.965925826289\n",
        "kc3= 0.707106781187\n",
        "kc5= 0.258819045103\n",
        "kc7= -0.258819045103\n"
       ]
      }
     ],
     "prompt_number": 25
    },
    {
     "cell_type": "heading",
     "level": 2,
     "metadata": {},
     "source": [
      "Example Number 37.6, Page Number:1416"
     ]
    },
    {
     "cell_type": "code",
     "collapsed": false,
     "input": [
      "#variable declaration\n",
      "p=16.0\n",
      "s=144.0\n",
      "z=10.0\n",
      "phi=0.03#Wb\n",
      "n=375.0#rpm\n",
      "\n",
      "#calculation\n",
      "f=p*n/120\n",
      "n=s/p\n",
      "beta=180/9\n",
      "m=s/(p*3)\n",
      "kd=math.sin(m*math.radians(beta/2))/(m*math.sin(math.radians(beta/2)))\n",
      "t=s*z/(3*2)\n",
      "eph=4.44*1*0.96*f*phi*t\n",
      "el=3**0.5*eph\n",
      "#result\n",
      "print \"frequency=\",f,\"Hz\"\n",
      "print \"phase emf=\",eph,\"V\"\n",
      "print \"line emf=\",el,\"V\""
     ],
     "language": "python",
     "metadata": {},
     "outputs": [
      {
       "output_type": "stream",
       "stream": "stdout",
       "text": [
        "frequency= 50.0 Hz\n",
        "phase emf= 1534.464 V\n",
        "line emf= 2657.76961039 V\n"
       ]
      }
     ],
     "prompt_number": 19
    },
    {
     "cell_type": "heading",
     "level": 2,
     "metadata": {},
     "source": [
      "Example Number 37.7, Page Number:1416"
     ]
    },
    {
     "cell_type": "code",
     "collapsed": false,
     "input": [
      "#variable declaration\n",
      "p=6\n",
      "s=54\n",
      "phi=0.1#Wb\n",
      "n=1200#rpm\n",
      "t=8\n",
      "#calculations\n",
      "beta=180/9\n",
      "kc=math.cos(beta/2)\n",
      "f=p*n/120\n",
      "n=s/p\n",
      "m=s/(p*3)\n",
      "kd=math.sin(m*math.radians(beta/2))/(m*math.sin(math.radians(beta/2)))\n",
      "z=s*8/3\n",
      "t=z/2\n",
      "eph=4.44*0.98*0.96*f*phi*t\n",
      "el=3**0.*eph\n",
      "\n",
      "#result\n",
      "print \"eph=\",eph,\"V\""
     ],
     "language": "python",
     "metadata": {},
     "outputs": [
      {
       "output_type": "stream",
       "stream": "stdout",
       "text": [
        "eph= 1804.529664 V\n"
       ]
      }
     ],
     "prompt_number": 20
    },
    {
     "cell_type": "heading",
     "level": 2,
     "metadata": {},
     "source": [
      "Example Number 37.8, Page Number:1416"
     ]
    },
    {
     "cell_type": "code",
     "collapsed": false,
     "input": [
      "#variable declaration\n",
      "p=16.0\n",
      "slots=144.0\n",
      "z=4.0\n",
      "n=375.0\n",
      "airgap=5*0.01\n",
      "theta=150.0\n",
      "\n",
      "#calculation\n",
      "kf=1.11\n",
      "alpha=(180-theta)\n",
      "kc=math.cos(math.radians(alpha/2))\n",
      "beta=180/9\n",
      "m=slots/(p*3)\n",
      "kd=math.sin(m*math.radians(beta/2))/(m*math.sin(math.radians(beta/2)))\n",
      "f=p*n/120\n",
      "s=slots/3\n",
      "eph=4*kf*kc*kd*f*airgap*s*4/2\n",
      "\n",
      "#result\n",
      "print \"emf per phase=\",eph,\"V\""
     ],
     "language": "python",
     "metadata": {},
     "outputs": [
      {
       "output_type": "stream",
       "stream": "stdout",
       "text": [
        "emf per phase= 987.908016392 V\n"
       ]
      }
     ],
     "prompt_number": 31
    },
    {
     "cell_type": "heading",
     "level": 2,
     "metadata": {},
     "source": [
      "Example Number 37.9, Page Number:1417"
     ]
    },
    {
     "cell_type": "code",
     "collapsed": false,
     "input": [
      "#variable declaration\n",
      "p=10\n",
      "f=50#Hz\n",
      "n=600#rpm\n",
      "slots=180\n",
      "s=15\n",
      "d=1.2#m\n",
      "l=0.4#m\n",
      "m=6\n",
      "beta=180/18\n",
      "#calculations\n",
      "area=(1.2*3.14/p)*l\n",
      "phi1=area*0.637\n",
      "vr=1.1*2*f*phi1\n",
      "vp=2**0.5*vr\n",
      "v3=0.4*vp\n",
      "v5=0.2*vp\n",
      "vf=6*vp*0.966\n",
      "vf3=6*v3*0.707\n",
      "vf5=6*v5*0.259\n",
      "kd1=math.sin(m*math.radians(beta/2))/(m*math.sin(math.radians(beta/2)))\n",
      "kd2=math.sin(math.radians(3*m*beta/2))/(6*math.sin(3*math.radians(beta/2)))\n",
      "kd3=math.sin(math.radians(5*m*beta/2))/(6*math.sin(5*math.radians(beta/2)))\n",
      "vph=vf*2**0.5*60*kd1\n",
      "vph3=vf3*2**0.5*60*kd2\n",
      "vph5=vf5*2**0.5*60*kd3\n",
      "rmsv=(vph**2+vph3**2+vph5**2)**0.5\n",
      "rmsvl=3**0.5*(vph**2+vph5**2)**0.5\n",
      "\n",
      "#result\n",
      "print \"i)e=\",vp,\"sin theta+\",v3,\"sin 3theta+\",v5,\"sin 5theta\"\n",
      "print \"ii)e=\",vf,\"sin theta+\",vf3,\"sin 3theta+\",vf5,\"sin 5theta\"\n",
      "print \"iii)rms value of phase voltage=\",rmsv,\"V\""
     ],
     "language": "python",
     "metadata": {},
     "outputs": [
      {
       "output_type": "stream",
       "stream": "stdout",
       "text": [
        "i)e= 14.9354392872 sin theta+ 5.97417571489 sin 3theta+ 2.98708785745 sin 5theta\n",
        "ii)e= 86.5658061088 sin theta+ 25.3424533826 sin 3theta+ 4.64193453047 sin 5theta\n",
        "iii)rms value of phase voltage= 7158.83679423 V\n"
       ]
      }
     ],
     "prompt_number": 33
    },
    {
     "cell_type": "heading",
     "level": 2,
     "metadata": {},
     "source": [
      "Example Number 37.10, Page Number:1418"
     ]
    },
    {
     "cell_type": "code",
     "collapsed": false,
     "input": [
      "import math\n",
      "#variable declaration\n",
      "p=4\n",
      "f=50.0#Hz\n",
      "slot=60.0\n",
      "z=4.0\n",
      "s=3.0\n",
      "theta=60.0\n",
      "phi=0.943#Wb\n",
      "\n",
      "#calculation\n",
      "m=slot/(p*s)\n",
      "beta=slot/5\n",
      "kd=math.sin(m*math.radians(beta/2))/(m*math.sin(math.radians(beta/2)))\n",
      "alpha=(s/15)*180\n",
      "kc=math.cos(math.radians(alpha/2))\n",
      "z=slot*z/s\n",
      "t=z/2\n",
      "kf=1.11\n",
      "eph=z*kf*kc*kd*f*phi*t/2\n",
      "el=3**0.5*eph*0.1\n",
      "\n",
      "#result\n",
      "print \"line voltage=\",el,\"V\""
     ],
     "language": "python",
     "metadata": {},
     "outputs": [
      {
       "output_type": "stream",
       "stream": "stdout",
       "text": [
        "line voltage= 13196.4478482 V\n"
       ]
      }
     ],
     "prompt_number": 2
    },
    {
     "cell_type": "heading",
     "level": 2,
     "metadata": {},
     "source": [
      "Example Number 37.11, Page Number:1418"
     ]
    },
    {
     "cell_type": "code",
     "collapsed": false,
     "input": [
      "#variable declaration\n",
      "p=4.0\n",
      "f=50.0#Hz\n",
      "slot=15.0\n",
      "z=10.0\n",
      "kd=0.95\n",
      "e=1825#v\n",
      "kc=1\n",
      "kf=1.11\n",
      "#calculations\n",
      "slots=p*slot\n",
      "slotsp=slots/3\n",
      "turnp=20*z/2\n",
      "phi=e/(3**0.5*p*kc*kf*kd*f*turnp)\n",
      "z=slots*z\n",
      "n=120*f/p\n",
      "eg=(phi*0.001*z*n)/slots\n",
      "\n",
      "#result\n",
      "print \"emf=\",eg*1000,\"V\"\n"
     ],
     "language": "python",
     "metadata": {},
     "outputs": [
      {
       "output_type": "stream",
       "stream": "stdout",
       "text": [
        "emf= 749.405577006 V\n"
       ]
      }
     ],
     "prompt_number": 47
    },
    {
     "cell_type": "heading",
     "level": 2,
     "metadata": {},
     "source": [
      "Example Number 37.12, Page Number:1419"
     ]
    },
    {
     "cell_type": "code",
     "collapsed": false,
     "input": [
      "#variable declaration\n",
      "v=360#V\n",
      "f=60.0#Hz\n",
      "i=3.6#A\n",
      "f2=40#Hz\n",
      "i2=2.4#A\n",
      "\n",
      "#calculations\n",
      "e2=v*i2*f2/(f*i)\n",
      "\n",
      "#result\n",
      "print \"e2=\",e2,\"V\""
     ],
     "language": "python",
     "metadata": {},
     "outputs": [
      {
       "output_type": "stream",
       "stream": "stdout",
       "text": [
        "e2= 160.0 V\n"
       ]
      }
     ],
     "prompt_number": 49
    },
    {
     "cell_type": "heading",
     "level": 2,
     "metadata": {},
     "source": [
      "Example Number 37.13, Page Number:1418"
     ]
    },
    {
     "cell_type": "code",
     "collapsed": false,
     "input": [
      "#variable declaration\n",
      "p=0\n",
      "f=50.0#Hz\n",
      "slot=2\n",
      "z=4\n",
      "theta=150#degrees\n",
      "phi=0.12#Wb\n",
      "per=20#%\n",
      "\n",
      "#calculations\n",
      "alpha=180-theta\n",
      "slotp=6\n",
      "m=2\n",
      "beta=180/slotp\n",
      "kd1=math.sin(m*math.radians(beta/2))/(m*math.sin(math.radians(beta/2)))\n",
      "z=10*slot*z\n",
      "t=z/2\n",
      "e1=4.44*kd1*kd1*f*0.12*t\n",
      "kc3=math.cos(3*math.radians(alpha/2))\n",
      "f2=f*3\n",
      "phi3=(1.0/3)*per*0.12\n",
      "e3=4.44*kd3*kd3*theta*0.008*40\n",
      "e=(e1**2+e3**2)**0.5\n",
      "\n",
      "#result\n",
      "print \"e=\",e,\"V\""
     ],
     "language": "python",
     "metadata": {},
     "outputs": [
      {
       "output_type": "stream",
       "stream": "stdout",
       "text": [
        "e= 994.25286629 V\n"
       ]
      }
     ],
     "prompt_number": 50
    },
    {
     "cell_type": "heading",
     "level": 2,
     "metadata": {},
     "source": [
      "Example Number 37.14, Page Number:1419"
     ]
    },
    {
     "cell_type": "code",
     "collapsed": false,
     "input": [
      "#variable declaration\n",
      "v=230.0#V\n",
      "per=10.0#%\n",
      "per2=6.0#%\n",
      "f=50.0#Hz\n",
      "r=10.0#ohm\n",
      "\n",
      "#calculation\n",
      "#star connection\n",
      "e5=per*v/100\n",
      "e=(v**2+e5**2)**0.5\n",
      "eph=3**0.5*e\n",
      "\n",
      "#delta\n",
      "e3=10*v/100\n",
      "f3=10*3\n",
      "i=e3/f3\n",
      "\n",
      "#result\n",
      "print \"line voltage for star=\",eph,\"V\"\n",
      "print \"line voltage for delta=\",e3,\"V\"\n",
      "print \"current=\",i,\"A\""
     ],
     "language": "python",
     "metadata": {},
     "outputs": [
      {
       "output_type": "stream",
       "stream": "stdout",
       "text": [
        "line voltage for star= 400.358589267 V\n",
        "line voltage for delta= 23.0 V\n",
        "current= 0.766666666667 A\n"
       ]
      }
     ],
     "prompt_number": 55
    },
    {
     "cell_type": "heading",
     "level": 2,
     "metadata": {},
     "source": [
      "Example Number 37.15(a), Page Number:1420"
     ]
    },
    {
     "cell_type": "code",
     "collapsed": false,
     "input": [
      "#variable declaration\n",
      "p=10.0\n",
      "p1=24.0\n",
      "f=25#Hz\n",
      "p3=6.0\n",
      "s=0.05\n",
      "\n",
      "#calculation\n",
      "n=120*f/p\n",
      "f1=p1*n/120\n",
      "n2=120*f1/6\n",
      "n3=(1-s)*n2\n",
      "f2=s*f1p\n",
      "\n",
      "\n",
      "#result\n",
      "print \"frequency=\",f1,\"Hz\"\n",
      "print \"speed=\",n3,\"rpm\""
     ],
     "language": "python",
     "metadata": {},
     "outputs": [
      {
       "output_type": "stream",
       "stream": "stdout",
       "text": [
        "frequency= 60.0 Hz\n",
        "speed= 1140.0 rpm\n"
       ]
      }
     ],
     "prompt_number": 56
    },
    {
     "cell_type": "heading",
     "level": 2,
     "metadata": {},
     "source": [
      "Example Number 37.15(b), Page Number:1420"
     ]
    },
    {
     "cell_type": "code",
     "collapsed": false,
     "input": [
      "#variable declaration\n",
      "p=4\n",
      "phi=0.12#Wb\n",
      "slotsp=4\n",
      "cp=4\n",
      "theta=150#degrees\n",
      "\n",
      "#calculation\n",
      "slots=slotsp*3*p\n",
      "c=cp*slots\n",
      "turns=32\n",
      "kb=math.sin(math.radians(60/2))/(p*math.sin(math.radians(7.5)))\n",
      "kp=math.cos(math.radians(15))\n",
      "eph=4.44*50*0.12*kb*0.966*turns\n",
      "el=eph*3**0.5\n",
      "\n",
      "#result\n",
      "print \"line voltage\",el,\"V\""
     ],
     "language": "python",
     "metadata": {},
     "outputs": [
      {
       "output_type": "stream",
       "stream": "stdout",
       "text": [
        "line voltage 1365.94840977 V\n"
       ]
      }
     ],
     "prompt_number": 62
    },
    {
     "cell_type": "heading",
     "level": 2,
     "metadata": {},
     "source": [
      "Example Number 37.16, Page Number:1426"
     ]
    },
    {
     "cell_type": "code",
     "collapsed": false,
     "input": [
      "#variable declaration\n",
      "load=10#MW\n",
      "pf=0.85\n",
      "v=11#kV\n",
      "r=0.1#ohm\n",
      "x=0.66#ohm\n",
      "\n",
      "#calculation\n",
      "i=load*10**6/(3**0.5*v*1000*pf)\n",
      "iradrop=i*r\n",
      "ixsdrop=i*x\n",
      "vp=v*1000/3**0.5\n",
      "phi=math.acos(pf)\n",
      "sinphi=math.sin(phi)\n",
      "e0=((vp*pf+i*r)**2+(vp*sinphi+i*x)**2)**0.5\n",
      "el=3**0.5*e0\n",
      "\n",
      "#result\n",
      "print \"linevalue of emf=\",el,\"V\""
     ],
     "language": "python",
     "metadata": {},
     "outputs": [
      {
       "output_type": "stream",
       "stream": "stdout",
       "text": [
        "linevalue of emf= 11475.6408913 V\n"
       ]
      }
     ],
     "prompt_number": 69
    },
    {
     "cell_type": "heading",
     "level": 2,
     "metadata": {},
     "source": [
      "Example Number 37.17(a), Page Number:1428"
     ]
    },
    {
     "cell_type": "code",
     "collapsed": false,
     "input": [
      "#variable declaration\n",
      "v=2200.0#V\n",
      "f=50.0#Hz\n",
      "load=440.0#KVA\n",
      "r=0.5#ohm\n",
      "i=40.0#A\n",
      "il=200.0#A\n",
      "vf=1160.0#V\n",
      "\n",
      "#calculations\n",
      "zs=vf/200\n",
      "xs=(zs**2-r**2)**0.5\n",
      "\n",
      "#result\n",
      "print \"synchronous impedence=\",zs,\"ohm\"\n",
      "print \"synchronous reactance=\",xs,\"ohm\""
     ],
     "language": "python",
     "metadata": {},
     "outputs": [
      {
       "output_type": "stream",
       "stream": "stdout",
       "text": [
        "synchronous impedence= 5.8 ohm\n",
        "synchronous reactance= 5.77840808528 ohm\n"
       ]
      }
     ],
     "prompt_number": 71
    },
    {
     "cell_type": "heading",
     "level": 2,
     "metadata": {},
     "source": [
      "Example Number 37.17(b), Page Number:1428"
     ]
    },
    {
     "cell_type": "code",
     "collapsed": false,
     "input": [
      "#variable declaration\n",
      "load=60.0#kVA\n",
      "v=220.0#V\n",
      "f=50.0#Hz\n",
      "r=0.016#ohm\n",
      "x=0.07#ohm\n",
      "pf=0.7\n",
      "\n",
      "#calculations\n",
      "i=load*1000/v\n",
      "ira=i*r\n",
      "ixl=i*x\n",
      "#unity pf\n",
      "e=((v+ira)**2+(ixl)**2)**0.5\n",
      "#pf of 0.7 lag\n",
      "e2=((v*pf+ira)**2+(v*pf+ixl)**2)**0.5\n",
      "#pf of 0.7 lead\n",
      "e3=((v*pf+ira)**2+(v*pf-ixl)**2)**0.5\n",
      "\n",
      "#result\n",
      "print \"voltage with pf=1\",e,\"V\"\n",
      "print \"voltage with pf=0.7 lag\",e2,\"V\"\n",
      "print \"voltage with pf=0.7 lead\",e3,\"V\""
     ],
     "language": "python",
     "metadata": {},
     "outputs": [
      {
       "output_type": "stream",
       "stream": "stdout",
       "text": [
        "voltage with pf=1 225.174386048 V\n",
        "voltage with pf=0.7 lag 234.604995966 V\n",
        "voltage with pf=0.7 lead 208.03726621 V\n"
       ]
      }
     ],
     "prompt_number": 75
    },
    {
     "cell_type": "heading",
     "level": 2,
     "metadata": {},
     "source": [
      "Example Number 37.18(a), Page Number:1429"
     ]
    },
    {
     "cell_type": "code",
     "collapsed": false,
     "input": [
      "#variable declaration\n",
      "load=50.0#KVA\n",
      "v1=440.0#V\n",
      "f=50.0#Hz\n",
      "r=0.25#ohm\n",
      "x=3.2#ohm\n",
      "xl=0.5#ohm\n",
      "\n",
      "#calculation\n",
      "v=v1/3**0.5\n",
      "i=load*1000/(3**0.5*v1)\n",
      "rd=i*r\n",
      "ixl=i*xl\n",
      "ea=((v+rd)**2+(ixl)**2)**0.5\n",
      "el=3**0.5*ea\n",
      "e0=((v+rd)**2+(i*x)**2)**0.5\n",
      "e0l=e0*3**0.5\n",
      "per=(e0-v)/v\n",
      "xa=x-xl\n",
      "#result\n",
      "print \"internal emf Ea=\",el,\"V\"\n",
      "print \"no load emf=\",e0l,\"V\"\n",
      "print \"percentage regulation=\",per*100,\"%\"\n",
      "print \"valueof synchronous reactance=\",xa,\"ohm\""
     ],
     "language": "python",
     "metadata": {},
     "outputs": [
      {
       "output_type": "stream",
       "stream": "stdout",
       "text": [
        "internal emf Ea= 471.842539659 V\n",
        "no load emf= 592.991130967 V\n",
        "percentage regulation= 34.7707115833 %\n",
        "valueof synchronous reactance= 2.7 ohm\n"
       ]
      }
     ],
     "prompt_number": 87
    },
    {
     "cell_type": "heading",
     "level": 2,
     "metadata": {},
     "source": [
      "Example Number 37.19, Page Number:1432"
     ]
    },
    {
     "cell_type": "code",
     "collapsed": false,
     "input": [
      "#variable declaration\n",
      "i=200.0#A\n",
      "v=50.0#V\n",
      "r=0.1#ohm\n",
      "il=100.0#A\n",
      "pf=0.8\n",
      "vt=200.0#V\n",
      "\n",
      "#calculation\n",
      "zs=v/vt\n",
      "xs=(zs**2-r**2)**0.5\n",
      "ira=il*r\n",
      "ixs=il*xs\n",
      "sinphi=math.sin(math.acos(pf))\n",
      "e0=((vt*pf+ira)**2+(vt*sinphi+ixs)**2)**0.5\n",
      "\n",
      "#result\n",
      "print \"induced voltage=\",e0,\"V\""
     ],
     "language": "python",
     "metadata": {},
     "outputs": [
      {
       "output_type": "stream",
       "stream": "stdout",
       "text": [
        "induced voltage= 222.090276316 V\n"
       ]
      }
     ],
     "prompt_number": 90
    },
    {
     "cell_type": "heading",
     "level": 2,
     "metadata": {},
     "source": [
      "Example Number 37.20, Page Number:1433"
     ]
    },
    {
     "cell_type": "code",
     "collapsed": false,
     "input": [
      "#variable declaration\n",
      "v=2000.0#V\n",
      "i=100.0#A\n",
      "pf=0.8\n",
      "pf2=0.71\n",
      "i2=2.5#A\n",
      "v2=500.0#V\n",
      "r=0.8#ohm\n",
      "\n",
      "#calculations\n",
      "sinphi1=math.sin(math.acos(pf))\n",
      "sinphi2=math.sin(math.acos(pf2))\n",
      "zs=v2/i\n",
      "xs=(zs**2-r**2)**.5\n",
      "#unity pf\n",
      "e01=((v+r*i)**2+(i*xs)**2)**0.5\n",
      "reg1=(e01-v)*100/v\n",
      "#at pf=0.8\n",
      "e02=((v*pf+r*i)**2+(v*sinphi1-i*xs)**2)**0.5\n",
      "reg2=(e02-v)*100/v\n",
      "#at pf=0.71\n",
      "e03=((v*pf2+r*i)**2+(v*sinphi2+i*xs)**2)**0.5\n",
      "reg3=(e03-v)*100/v\n",
      "\n",
      "#result\n",
      "print \"voltage regulation unity pf=\",reg1,\"%\"\n",
      "print \"voltage regulation 0.8 lag pf=\",reg2,\"%\"\n",
      "print \"voltage regulation 0.71 lead pf=\",reg3,\"%\""
     ],
     "language": "python",
     "metadata": {},
     "outputs": [
      {
       "output_type": "stream",
       "stream": "stdout",
       "text": [
        "0.6\n",
        "voltage regulation unity pf= 6.88779163216 %\n",
        "voltage regulation 0.8 lag pf= -8.875640156 %\n",
        "voltage regulation 0.71 lead pf= 21.1141910671 %\n"
       ]
      }
     ],
     "prompt_number": 100
    },
    {
     "cell_type": "heading",
     "level": 2,
     "metadata": {},
     "source": [
      "Example Number 37.21, Page Number:1433"
     ]
    },
    {
     "cell_type": "code",
     "collapsed": false,
     "input": [
      "#variable declaration\n",
      "v=3000.0#V\n",
      "load=100.0#kVA\n",
      "f=50.0#Hz\n",
      "r=0.2\n",
      "i1=40.0#A\n",
      "i2=200.0#A\n",
      "v2=1040.0#V\n",
      "pf=0.8\n",
      "v1=v/3**0.5\n",
      "#calculations\n",
      "sinphi1=math.sin(math.acos(pf))\n",
      "zs=v2/(3**0.5*i2)\n",
      "xs=(zs**2-r**2)**.5\n",
      "i=load*1000/(3**0.5*v)\n",
      "\n",
      "\n",
      "#at pf=0.8 lag\n",
      "e01=((v1*pf+r*i)**2+(v1*sinphi1+i*xs)**2)**0.5\n",
      "reg1=(e01-v1)*100/v1\n",
      "#at pf=0.8 lead\n",
      "e02=((v1*pf+r*i)**2+(v1*sinphi1-i*xs)**2)**0.5\n",
      "reg2=(e02-v1)*100/v1\n",
      "\n",
      "#result\n",
      "print \"voltage regulation 0.8 lag pf=\",reg1,\"%\"\n",
      "print \"voltage regulation 0.8 lag pf=\",reg2,\"%\"\n"
     ],
     "language": "python",
     "metadata": {},
     "outputs": [
      {
       "output_type": "stream",
       "stream": "stdout",
       "text": [
        "voltage regulation 0.8 lag pf= 2.20611574348 %\n",
        "voltage regulation 0.8 lag pf= -1.77945143824 %\n"
       ]
      }
     ],
     "prompt_number": 112
    },
    {
     "cell_type": "heading",
     "level": 2,
     "metadata": {},
     "source": [
      "Example Number 37.22, Page Number:1434"
     ]
    },
    {
     "cell_type": "code",
     "collapsed": false,
     "input": [
      "#variable declaration\n",
      "load=1600.0#kVA\n",
      "v=13500.0#V\n",
      "r=1.5#ohm\n",
      "x=30.0#ohm\n",
      "load1=1280.0#kW\n",
      "pf=0.8\n",
      "\n",
      "#calculation\n",
      "sinphi1=math.sin(math.acos(pf))\n",
      "i=load1*1000/(3**0.5*v*pf)\n",
      "ira=i*r\n",
      "ixs=i*x\n",
      "vp=v/3**0.5\n",
      "e0=((vp*pf+ira)**2+(vp*sinphi1-ixs)**2)**0.5\n",
      "regn=(e0-vp)*100/vp\n",
      "\n",
      "#result\n",
      "print \"percentage regulation=\",regn,\"%\""
     ],
     "language": "python",
     "metadata": {},
     "outputs": [
      {
       "output_type": "stream",
       "stream": "stdout",
       "text": [
        "percentage regulation= -11.9909032489 %\n"
       ]
      }
     ],
     "prompt_number": 122
    },
    {
     "cell_type": "heading",
     "level": 2,
     "metadata": {},
     "source": [
      "Example Number 37.23, Page Number:1435"
     ]
    },
    {
     "cell_type": "code",
     "collapsed": false,
     "input": [
      "#variable declaration\n",
      "load=10.0#kVA\n",
      "v=400.0#V\n",
      "f=50.0#Hz\n",
      "pf=0.8\n",
      "r=0.5#ohm\n",
      "x=10.0#ohm\n",
      "\n",
      "#calculations\n",
      "i=load*1000/(3**0.5*v)\n",
      "ira=i*r\n",
      "ixs=i*x\n",
      "vp=v/3**0.5\n",
      "sinphi=math.sin(math.acos(pf))\n",
      "e0=((vp*pf+ira)**2+(vp*sinphi+ixs)**2)**0.5\n",
      "regn=(e0-vp)/vp\n",
      "thetadel=math.atan((vp*sinphi+ixs)/(vp*pf+ira))\n",
      "delta=math.degrees(thetadel)-math.degrees(math.acos(pf))\n",
      "\n",
      "#result\n",
      "print \"voltage regulation=\",regn*100,\"%\"\n",
      "print \"power angle=\",delta,\"degrees\""
     ],
     "language": "python",
     "metadata": {},
     "outputs": [
      {
       "output_type": "stream",
       "stream": "stdout",
       "text": [
        "voltage regulation= 48.0405877623 %\n",
        "power angle= 18.9704078085 degrees\n"
       ]
      }
     ],
     "prompt_number": 127
    },
    {
     "cell_type": "heading",
     "level": 2,
     "metadata": {},
     "source": [
      "Example Number 37.24, Page Number:1435"
     ]
    },
    {
     "cell_type": "code",
     "collapsed": false,
     "input": [
      "#variable declaration\n",
      "load=6000.0#KVA\n",
      "v=6600.0#V\n",
      "p=2.0\n",
      "f=50.0#Hz\n",
      "i2=125.0#A\n",
      "v1=8000.0#V\n",
      "i3=800.0#A\n",
      "d=0.03\n",
      "pf=0.8\n",
      "\n",
      "#calculations\n",
      "sinphi=math.sin(math.acos(pf))\n",
      "zs=v1/(3**0.5*i3)\n",
      "vp=v/3**0.5\n",
      "rd=d*vp\n",
      "il=load*1000/(3**0.5*v)\n",
      "ira=rd\n",
      "ra=ira/il\n",
      "xs=(zs**2-ra**2)**0.5\n",
      "e0=((vp*pf+ira)**2+(vp*sinphi+il*xs)**2)**0.5\n",
      "reg=(e0-vp)/vp\n",
      "\n",
      "#result\n",
      "print \"percentage regulation=\",reg*100,\"%\"\n"
     ],
     "language": "python",
     "metadata": {},
     "outputs": [
      {
       "output_type": "stream",
       "stream": "stdout",
       "text": [
        "percentage regulation= 62.2972136768 %\n"
       ]
      }
     ],
     "prompt_number": 133
    },
    {
     "cell_type": "heading",
     "level": 2,
     "metadata": {},
     "source": [
      "Example Number 37.25, Page Number:1435"
     ]
    },
    {
     "cell_type": "code",
     "collapsed": false,
     "input": [
      "#variable declaration\n",
      "f=50.0#Hz\n",
      "load=2000#KVA\n",
      "v=2300#V\n",
      "i=600#A\n",
      "v2=900#V\n",
      "r=0.12#ohm\n",
      "pf=0.8\n",
      "\n",
      "#calculation\n",
      "sinphi=math.sin(math.acos(pf))\n",
      "zs=v2/(3**0.5*i)\n",
      "rp=r/2\n",
      "re=rp*1.5\n",
      "xs=(zs**2-re**2)**0.5\n",
      "il=load*1000/(3**0.5*v)\n",
      "ira=il*rp\n",
      "ixs=il*xs\n",
      "vp=v/3**0.5\n",
      "e0=((vp+ira)**2+(ixs)**2)**0.5\n",
      "reg1=(e0-vp)/vp\n",
      "e0=((vp*pf+ira)**2+(vp*sinphi+ixs)**2)**0.5\n",
      "reg2=(e0-vp)/vp\n",
      "#result\n",
      "print \"regulation at pf=1\",reg1*100,\"%\"\n",
      "print \"regulation at pf=0.8\",reg2*100,\"%\""
     ],
     "language": "python",
     "metadata": {},
     "outputs": [
      {
       "output_type": "stream",
       "stream": "stdout",
       "text": [
        "regulation at pf=1 7.32796146323 %\n",
        "regulation at pf=0.8 23.8398862235 %\n"
       ]
      }
     ],
     "prompt_number": 134
    },
    {
     "cell_type": "heading",
     "level": 2,
     "metadata": {},
     "source": [
      "Example Number 37.26, Page Number:1436"
     ]
    },
    {
     "cell_type": "code",
     "collapsed": false,
     "input": [
      "import math\n",
      "from sympy.solvers import solve\n",
      "from sympy import Symbol\n",
      "#variable declaration\n",
      "v=Symbol('v')\n",
      "load=2000#KVA\n",
      "load1=11#KV\n",
      "r=0.3#ohm\n",
      "x=5#ohm\n",
      "pf=0.8\n",
      "\n",
      "#calculation\n",
      "sinphi=math.sin(math.acos(pf))\n",
      "i=load*1000/(3**0.5*load1*1000)\n",
      "vt=load1*1000/3**0.5\n",
      "ira=i*r\n",
      "ixs=i*x\n",
      "e0=((vt*pf+ira)**2+(vt*sinphi+ixs)**2)**0.5\n",
      "v=solve(((pf*v+ira)**2+(sinphi*v-ixs)**2)**0.5-e0,v)\n",
      "\n",
      "#result\n",
      "print \"terminal voltage=\",v[1],\"V\""
     ],
     "language": "python",
     "metadata": {},
     "outputs": [
      {
       "output_type": "stream",
       "stream": "stdout",
       "text": [
        "terminal voltage= 6978.31767618569 V\n"
       ]
      }
     ],
     "prompt_number": 150
    },
    {
     "cell_type": "heading",
     "level": 2,
     "metadata": {},
     "source": [
      "Example Number 37.27, Page Number:1436"
     ]
    },
    {
     "cell_type": "code",
     "collapsed": false,
     "input": [
      "#variable declaration\n",
      "load=1200#KVA\n",
      "load1=3.3#KV\n",
      "f=50#Hz\n",
      "r=0.25#ohm\n",
      "i=35#A\n",
      "i2=200#A\n",
      "v=1.1#kV\n",
      "pf=0.8\n",
      "\n",
      "#calculation\n",
      "zs=v*1000/(3**0.5*i2)\n",
      "xs=(zs**2-r**2)**0.5\n",
      "v=load1*1000/3**0.5\n",
      "theta=math.atan(xs/r)\n",
      "ia=load*1000/(3**0.5*load1*1000)\n",
      "e=v+ia*zs\n",
      "change=(e-v)/v\n",
      "\n",
      "#result\n",
      "print \"per unit change=\",change"
     ],
     "language": "python",
     "metadata": {},
     "outputs": [
      {
       "output_type": "stream",
       "stream": "stdout",
       "text": [
        "per unit change= 0.349909254054\n"
       ]
      }
     ],
     "prompt_number": 151
    },
    {
     "cell_type": "heading",
     "level": 2,
     "metadata": {},
     "source": [
      "Example Number 37.28, Page Number:1437"
     ]
    },
    {
     "cell_type": "code",
     "collapsed": false,
     "input": [
      "#variable declaration\n",
      "f=50#Hz\n",
      "v1=11#kV\n",
      "load=3#MVA\n",
      "i=100#A\n",
      "v2=12370#V\n",
      "vt=11000#V\n",
      "pf=0.8\n",
      "r=0.4#ohm\n",
      "\n",
      "#calculation\n",
      "E0=v1*1000/3**0.5\n",
      "v=v2/3**0.5\n",
      "pf=0\n",
      "sinphi=1\n",
      "xs=(v-(E0**2-(i*r)**2)**0.5)/i\n",
      "il=load*10**6/(3**0.5*v1*1000)\n",
      "ira=il*r\n",
      "ixs=il*xs\n",
      "e0=((E0*pf+ira)**2+(E0*sinphi+ixs)**2)**0.5\n",
      "regn=(e0-E0)*100/E0\n",
      "#result\n",
      "print \"regulation=\",regn,\"%\""
     ],
     "language": "python",
     "metadata": {},
     "outputs": [
      {
       "output_type": "stream",
       "stream": "stdout",
       "text": [
        "regulation= 19.6180576177 %\n"
       ]
      }
     ],
     "prompt_number": 175
    },
    {
     "cell_type": "heading",
     "level": 2,
     "metadata": {},
     "source": [
      "Example Number 37.29, Page Number:1437"
     ]
    },
    {
     "cell_type": "code",
     "collapsed": false,
     "input": [
      "#variable declaration\n",
      "pf=0.8\n",
      "vt=3500#v\n",
      "load=2280#KW\n",
      "v1=3300#V\n",
      "r=8#ohm\n",
      "x=6#ohm\n",
      "\n",
      "#calculation\n",
      "vl=vt/3**0.5\n",
      "vp=v1/3**0.5\n",
      "il=load*1000/(3**0.5*v1*pf)\n",
      "drop=vl-vp\n",
      "z=(r**2+x**2)**0.5\n",
      "x=vl/(z+drop/il)\n",
      "vtp=vl-x*drop/il\n",
      "vtpl=vtp*3**0.5\n",
      "\n",
      "#result\n",
      "print \"terminal voltage=\",vtpl,\"V\"\n"
     ],
     "language": "python",
     "metadata": {},
     "outputs": [
      {
       "output_type": "stream",
       "stream": "stdout",
       "text": [
        "terminal voltage= 3420.781893 V\n"
       ]
      }
     ],
     "prompt_number": 176
    },
    {
     "cell_type": "heading",
     "level": 2,
     "metadata": {},
     "source": [
      "Example Number 37.30, Page Number:1441"
     ]
    },
    {
     "cell_type": "code",
     "collapsed": false,
     "input": [
      "import math\n",
      "#variable declaration\n",
      "load=3.5#MVA\n",
      "v=4160#V\n",
      "f=50#Hz\n",
      "i=200#A\n",
      "pf=0.8\n",
      "\n",
      "#calculation\n",
      "il=load*10**6/(3**0.5*v)\n",
      "zs=4750/(3**0.5*il)\n",
      "ra=0\n",
      "ixs=il*zs\n",
      "vp=v/3**0.5\n",
      "sinphi=math.sin(math.acos(pf))\n",
      "e0=((vp*pf)**2+(vp*sinphi+ixs)**2)**0.5\n",
      "regn=(e0-vp)*100/vp\n",
      "#result\n",
      "print \"regulation=\",round(regn,1),\"%\""
     ],
     "language": "python",
     "metadata": {},
     "outputs": [
      {
       "output_type": "stream",
       "stream": "stdout",
       "text": [
        "regulation= 91.7 %\n"
       ]
      }
     ],
     "prompt_number": 2
    },
    {
     "cell_type": "heading",
     "level": 2,
     "metadata": {},
     "source": [
      "Example Number 37.31, Page Number:1441"
     ]
    },
    {
     "cell_type": "code",
     "collapsed": false,
     "input": [
      "import math\n",
      "#variable declaration\n",
      "i_f1=20#A\n",
      "i_f=37.5#A\n",
      "pf=0.8\n",
      "v=6600#V\n",
      "eo=7600#V\n",
      "\n",
      "#calculations\n",
      "ob=math.sqrt(i_f**2+i*math.cos(math.radians(53.8)))\n",
      "reg=(eo-v)*100/v\n",
      "i=100*i_f/i_f1\n",
      "zs=100*100/i\n",
      "Eo=math.sqrt((100+zs*0.6)**2+(zs*pf)**2)\n",
      "reg2=(Eo-100)*100/100\n",
      "\n",
      "#result\n",
      "print \"regulation:\"\n",
      "print \"by ampere turn method=\",reg,\"%\"\n",
      "print \"by synchronous impedence method=\",reg2,\"%\"\n",
      "\n"
     ],
     "language": "python",
     "metadata": {},
     "outputs": [
      {
       "output_type": "stream",
       "stream": "stdout",
       "text": [
        "regulation:\n",
        "by ampere turn method= 15 %\n",
        "by synchronous impedence method= 38.7243469779 %\n"
       ]
      }
     ],
     "prompt_number": 7
    },
    {
     "cell_type": "heading",
     "level": 2,
     "metadata": {},
     "source": [
      "Example Number 37.32, Page Number:1442"
     ]
    },
    {
     "cell_type": "code",
     "collapsed": false,
     "input": [
      "import math\n",
      "#variable declaration\n",
      "r=0.2#ohm\n",
      "p=1000000#VA\n",
      "v=2000#V\n",
      "pf=0.8\n",
      "\n",
      "#calculation\n",
      "vp=v*math.sqrt(3)\n",
      "i=p/(math.sqrt(3)*v)\n",
      "V=v/math.sqrt(3)+(i*r**pf)\n",
      "reg=(1555-(v/math.sqrt(3)))*100/(v/math.sqrt(3))\n",
      "reg2=(1080-(v/math.sqrt(3)))*100/(v/math.sqrt(3))\n",
      "\n",
      "#result\n",
      "print \"regulation when pf=0.8 lagging:\",round(reg,1),\"%\"\n",
      "print \"regulation when pf=0.8 leading:\",round(reg2,1),\"%\""
     ],
     "language": "python",
     "metadata": {},
     "outputs": [
      {
       "output_type": "stream",
       "stream": "stdout",
       "text": [
        "regulation when pf=0.8 lagging: 34.7 %\n",
        "regulation when pf=0.8 leading: -6.5 %\n"
       ]
      }
     ],
     "prompt_number": 11
    },
    {
     "cell_type": "heading",
     "level": 2,
     "metadata": {},
     "source": [
      "Example Number 37.33, Page Number:1443"
     ]
    },
    {
     "cell_type": "code",
     "collapsed": false,
     "input": [
      "import math\n",
      "#variable declaration\n",
      "x_drop=0.1\n",
      "r_drop=0.02\n",
      "pf=0.8\n",
      "v=3300#V\n",
      "p=800000#VA\n",
      "\n",
      "#calculations\n",
      "vp=v/math.sqrt(3)\n",
      "ir_drop=r_drop*vp\n",
      "leakage=x_drop*vp\n",
      "E=math.sqrt((vp*pf+ir_drop)**2+(vp*0.6+leakage)**2)\n",
      "i=p/(math.sqrt(3)*v)\n",
      "\n",
      "#result\n",
      "print \"I=\",round(i),\"A\""
     ],
     "language": "python",
     "metadata": {},
     "outputs": [
      {
       "output_type": "stream",
       "stream": "stdout",
       "text": [
        "I= 140.0 A\n"
       ]
      }
     ],
     "prompt_number": 14
    },
    {
     "cell_type": "heading",
     "level": 2,
     "metadata": {},
     "source": [
      "Example Number 37.34, Page Number:1444"
     ]
    },
    {
     "cell_type": "code",
     "collapsed": false,
     "input": [
      "import math\n",
      "#variable declaration\n",
      "i_f1=17#A\n",
      "p=2000000.0#VA\n",
      "i_f2=42.5#A\n",
      "v=6000.0/math.sqrt(3)#V\n",
      "pf=0.8\n",
      "\n",
      "#calculations\n",
      "e=math.sqrt((v*pf)**2+(v*0.6+450)**2)\n",
      "#corresponding i=26.5 A\n",
      "#field amperes required for balancing armature reaction=14.5A\n",
      "i_f=math.sqrt(26.5**2+14.5**2+2*26.5*14.4*math.cos(math.radians(53.8)))\n",
      "\n",
      "#result\n",
      "print \"resulting field current=\",round(i_f,1),\"A\""
     ],
     "language": "python",
     "metadata": {},
     "outputs": [
      {
       "output_type": "stream",
       "stream": "stdout",
       "text": [
        "resulting field current= 36.9 A\n"
       ]
      }
     ],
     "prompt_number": 6
    },
    {
     "cell_type": "heading",
     "level": 2,
     "metadata": {},
     "source": [
      "Example Number 37.35, Page Number:1446"
     ]
    },
    {
     "cell_type": "code",
     "collapsed": false,
     "input": [
      "import math\n",
      "#variable declaration\n",
      "v=11000#V\n",
      "p=1000000#VA\n",
      "r=2#ohm\n",
      "pf=0.8\n",
      "\n",
      "#calculations\n",
      "i=p/(math.sqrt(3)*v)\n",
      "vp=v/math.sqrt(3)\n",
      "e=math.sqrt((vp*pf+i*2)**2+(vp*0.6+p/1000)**2)\n",
      "i1=math.sqrt(108**2+30**2+2*108*30*math.cos(math.radians(53.8)))\n",
      "#corresponding emf=7700V\n",
      "reg=(7700-vp)*100/vp\n",
      "\n",
      "#result\n",
      "print \"Voltage regulation=\",round(reg,1),\"%\""
     ],
     "language": "python",
     "metadata": {},
     "outputs": [
      {
       "output_type": "stream",
       "stream": "stdout",
       "text": [
        "Voltage regulation= 21.2 %\n"
       ]
      }
     ],
     "prompt_number": 8
    },
    {
     "cell_type": "heading",
     "level": 2,
     "metadata": {},
     "source": [
      "Example Number 37.36, Page Number:1448"
     ]
    },
    {
     "cell_type": "code",
     "collapsed": false,
     "input": [
      "import math\n",
      "#variable declarations\n",
      "p=275000.0#W\n",
      "v=6600.0#V\n",
      "stator_i=35.0#A\n",
      "exciting_i=50.0#A\n",
      "x=0.08\n",
      "pf=0.8\n",
      "\n",
      "#calculations\n",
      "x_drop=v*x/math.sqrt(3)\n",
      "vp=v/math.sqrt(3)\n",
      "i=p/(math.sqrt(3)*v*pf)\n",
      "ia=i*exciting_i/stator_i\n",
      "ob=math.sqrt(vp**2+x_drop**2)\n",
      "oc=59.8#field current corresponding tothe voltage\n",
      "i_fl=p/(math.sqrt(3)*v)\n",
      "ia2=exciting_i*i_fl/stator_i\n",
      "ei=math.sqrt(ia2**2+oc**2)\n",
      "\n",
      "#result\n",
      "print \"Exciting current=\",round(ei),\"A\""
     ],
     "language": "python",
     "metadata": {},
     "outputs": [
      {
       "output_type": "stream",
       "stream": "stdout",
       "text": [
        "Exciting current= 69.0 A\n"
       ]
      }
     ],
     "prompt_number": 13
    },
    {
     "cell_type": "heading",
     "level": 2,
     "metadata": {},
     "source": [
      "Example Number 37.37, Page Number:1449"
     ]
    },
    {
     "cell_type": "code",
     "collapsed": false,
     "input": [
      "import math\n",
      "#variable declaration\n",
      "p=600000.0#VA\n",
      "v=3300.0#V\n",
      "pf=0.8\n",
      "l_drop=7\n",
      "\n",
      "#calculations\n",
      "i=p/(math.sqrt(3)*v)\n",
      "amp_turns=1.06*i*200.0/8\n",
      "vp=v/math.sqrt(3)\n",
      "x_drop=vp*l_drop/100\n",
      "oa=1910.0#V\n",
      "reg=(2242.0-oa)*100/oa\n",
      "\n",
      "#result\n",
      "print \"regulation=\",round(reg,1),\"%\"\n"
     ],
     "language": "python",
     "metadata": {},
     "outputs": [
      {
       "output_type": "stream",
       "stream": "stdout",
       "text": [
        "regulation= 17.4 %\n"
       ]
      }
     ],
     "prompt_number": 19
    },
    {
     "cell_type": "heading",
     "level": 2,
     "metadata": {},
     "source": [
      "Example Number 37.38, Page Number:1450"
     ]
    },
    {
     "cell_type": "code",
     "collapsed": false,
     "input": [
      "import math\n",
      "#variable declaration\n",
      "p=15000000#VA\n",
      "v=11000#V\n",
      "pf=0.8\n",
      "v1=8400\n",
      "\n",
      "#calculations\n",
      "i=p/(math.sqrt(3)*v)\n",
      "xl=640/i\n",
      "zs=(v1/math.sqrt(3))/i\n",
      "vp=v/math.sqrt(3)\n",
      "eo=7540\n",
      "reg=(eo-vp)*100/vp\n",
      "\n",
      "#result\n",
      "print \"regulation=\",round(reg,1),\"%\""
     ],
     "language": "python",
     "metadata": {},
     "outputs": [
      {
       "output_type": "stream",
       "stream": "stdout",
       "text": [
        "regulation= 18.7 %\n"
       ]
      }
     ],
     "prompt_number": 22
    },
    {
     "cell_type": "heading",
     "level": 2,
     "metadata": {},
     "source": [
      "Example Number 37.39, Page Number:1455"
     ]
    },
    {
     "cell_type": "code",
     "collapsed": false,
     "input": [
      "#variable declaration\n",
      "xd=0.7\n",
      "xq=0.4\n",
      "pf=0.8\n",
      "\n",
      "#calculations\n",
      "v=1\n",
      "sinphi=math.sin(math.acos(pf))\n",
      "ia=1\n",
      "tandelta=ia*xq*pf/(v+xq*sinphi)\n",
      "delta=math.atan(tandelta)\n",
      "i_d=ia*math.sin(math.radians(36.9)+delta)\n",
      "e0=v*math.cos(delta)+i_d*xd\n",
      "\n",
      "#result\n",
      "print \"load angle=\",math.degrees(delta),\"degrees\"\n",
      "print \"no load voltage=\",e0,\"V\""
     ],
     "language": "python",
     "metadata": {},
     "outputs": [
      {
       "output_type": "stream",
       "stream": "stdout",
       "text": [
        "load angle= 14.4702941001 degrees\n",
        "no load voltage= 1.51511515874 V\n"
       ]
      }
     ],
     "prompt_number": 185
    },
    {
     "cell_type": "heading",
     "level": 2,
     "metadata": {},
     "source": [
      "Example Number 37.40, Page Number:1455"
     ]
    },
    {
     "cell_type": "code",
     "collapsed": false,
     "input": [
      "#variable declaration\n",
      "f=50.0#Hz\n",
      "xd=0.6\n",
      "xq=0.45\n",
      "ra=0.015\n",
      "pf=0.8\n",
      "ia=1\n",
      "v=1\n",
      "sinphi=math.sin(math.acos(pf))\n",
      "#calculation\n",
      "tanpsi=(v*sinphi+ia*xq)/(v*pf+ia*ra)\n",
      "psi=math.atan(tanpsi)\n",
      "delta=psi-math.acos(pf)\n",
      "i_d=ia*math.sin(psi)\n",
      "iq=ia*math.cos(psi)\n",
      "e0=v*math.cos(delta)+iq*ra+i_d*xd\n",
      "regn=(e0-v)*100/v\n",
      "\n",
      "#result\n",
      "print \"open circuit voltage=\",e0,\"V\"\n",
      "print \"regulation=\",regn,\"%\""
     ],
     "language": "python",
     "metadata": {},
     "outputs": [
      {
       "output_type": "stream",
       "stream": "stdout",
       "text": [
        "open circuit voltage= 1.44767600311 V\n",
        "regulation= 44.7676003107 %\n"
       ]
      }
     ],
     "prompt_number": 187
    },
    {
     "cell_type": "heading",
     "level": 2,
     "metadata": {},
     "source": [
      "Example Number 37.41, Page Number:1455"
     ]
    },
    {
     "cell_type": "code",
     "collapsed": false,
     "input": [
      "#variable declaration\n",
      "ia=10#A\n",
      "phi=math.radians(20)\n",
      "v=400#V\n",
      "xd=10#ohm\n",
      "xq=6.5#ohm\n",
      "\n",
      "#calculations\n",
      "pf=math.cos(phi)\n",
      "sinphi=math.sin(phi)\n",
      "tandelta=ia*xq*pf/(v+ia*xq*sinphi)\n",
      "delta=math.atan(tandelta)\n",
      "i_d=ia*math.sin(phi+delta)\n",
      "iq=ia*math.cos(phi+delta)\n",
      "e0=v*math.cos(delta)+i_d*xd\n",
      "regn=(e0-v)/v\n",
      "\n",
      "#result\n",
      "print \"load angle=\",math.degrees(delta),\"degrees\"\n",
      "print \"id=\",i_d,\"A\"\n",
      "print \"iq=\",iq,\"A\""
     ],
     "language": "python",
     "metadata": {},
     "outputs": [
      {
       "output_type": "stream",
       "stream": "stdout",
       "text": [
        "load angle= 8.23131209115 degrees\n",
        "id= 4.7303232581 A\n",
        "iq= 8.81045071911 A\n"
       ]
      }
     ],
     "prompt_number": 189
    },
    {
     "cell_type": "heading",
     "level": 2,
     "metadata": {},
     "source": [
      "Example Number 37.42, Page Number:1459"
     ]
    },
    {
     "cell_type": "code",
     "collapsed": false,
     "input": [
      "#variable declaration\n",
      "e1=220#V\n",
      "f1=60#Hz\n",
      "e2=222#V\n",
      "f2=59#Hz\n",
      "\n",
      "#calculation\n",
      "emax=(e1+e2)/2\n",
      "emin=(e2-e1)/2\n",
      "f=(f1-f2)\n",
      "epeak=emax/0.707\n",
      "pulse=(f1-f2)*60\n",
      "\n",
      "#result\n",
      "print \"max voltage=\",emax,\"V\"\n",
      "print \"min voltage=\",emin,\"V\"\n",
      "print \"frequency=\",f,\"Hz\"\n",
      "print \"peak value of voltage=\",epeak,\"V\"\n",
      "print \"number of maximum light pulsations/minute=\",pulse"
     ],
     "language": "python",
     "metadata": {},
     "outputs": [
      {
       "output_type": "stream",
       "stream": "stdout",
       "text": [
        "max voltage= 221 V\n",
        "min voltage= 1 V\n",
        "frequency= 1 Hz\n",
        "peak value of voltage= 312.588401697 V\n",
        "number of maximum light pulsations/minute= 60\n"
       ]
      }
     ],
     "prompt_number": 190
    },
    {
     "cell_type": "heading",
     "level": 2,
     "metadata": {},
     "source": [
      "Example Number 37.43, Page Number:1462"
     ]
    },
    {
     "cell_type": "code",
     "collapsed": false,
     "input": [
      "#variable declaration\n",
      "power=1500#kVA\n",
      "v=6.6#kV\n",
      "r=0.4#ohm\n",
      "x=6#ohm\n",
      "pf=0.8\n",
      "\n",
      "#calculations\n",
      "i=power*1000/(3**0.5*v*1000)\n",
      "ira=i*r\n",
      "ixs=i*x\n",
      "vp=v*1000/3**0.5\n",
      "phi=math.acos(pf)\n",
      "tanphialpha=(vp*math.sin(phi)+ixs)/(vp*pf+ira)\n",
      "phialpha=math.atan(tanphialpha)\n",
      "alpha=phialpha-phi\n",
      "\n",
      "#result\n",
      "print \"power angle=\",math.degrees(alpha)"
     ],
     "language": "python",
     "metadata": {},
     "outputs": [
      {
       "output_type": "stream",
       "stream": "stdout",
       "text": [
        "power angle= 7.87684146241\n"
       ]
      }
     ],
     "prompt_number": 198
    },
    {
     "cell_type": "heading",
     "level": 2,
     "metadata": {},
     "source": [
      "Example Number 37.44, Page Number:1464"
     ]
    },
    {
     "cell_type": "code",
     "collapsed": false,
     "input": [
      "#variable declaration\n",
      "load=3000#KVA\n",
      "p=6\n",
      "n=1000#rpm\n",
      "v=3300#v\n",
      "x=0.25\n",
      "\n",
      "#calculation\n",
      "vp=v/3**0.5\n",
      "i=load*1000/(3**0.5*v)\n",
      "ixs=x*vp\n",
      "xs=x*vp/i\n",
      "alpha=1*p/2\n",
      "psy=3*3.14*vp**2/(60*xs*n)\n",
      "tsy=9.55*psy/n\n",
      "\n",
      "#result\n",
      "print \"synchronizing power=\",psy,\"kW\"\n",
      "print \"torque=\",tsy*1000,\"N-m\""
     ],
     "language": "python",
     "metadata": {},
     "outputs": [
      {
       "output_type": "stream",
       "stream": "stdout",
       "text": [
        "synchronizing power= 628.0 kW\n",
        "torque= 5997.4 N-m\n"
       ]
      }
     ],
     "prompt_number": 202
    },
    {
     "cell_type": "heading",
     "level": 2,
     "metadata": {},
     "source": [
      "Example Number 37.45, Page Number:1465"
     ]
    },
    {
     "cell_type": "code",
     "collapsed": false,
     "input": [
      "#variable declaration\n",
      "load=3#MVA\n",
      "n=1000#rpm\n",
      "v1=3.3#kV\n",
      "r=0.25\n",
      "pf=0.8\n",
      "\n",
      "#calculations\n",
      "vp=v1*1000/3**0.5\n",
      "i=load*1000000/(3**0.5*v1*1000)\n",
      "ixs=complex(0,r*vp)\n",
      "xs=ixs/i\n",
      "v=vp*complex(pf,math.sin(math.acos(pf)))\n",
      "e0=v+ixs\n",
      "alpha=math.atan(e0.imag/e0.real)-math.acos(pf)\n",
      "p=6/2\n",
      "psy=abs(e0)*vp*math.cos(alpha)*math.sin(math.radians(3))/xs\n",
      "tsy=9.55*3*psy*100/n\n",
      "\n",
      "#result\n",
      "print \"synchronous power=\",-psy*3/1000,\"kW\"\n",
      "print \"toque=\",-tsy/100,\"N-m\""
     ],
     "language": "python",
     "metadata": {},
     "outputs": [
      {
       "output_type": "stream",
       "stream": "stdout",
       "text": [
        "synchronous power= 722.236196153j kW\n",
        "toque= 6897.35567326j N-m\n"
       ]
      }
     ],
     "prompt_number": 221
    },
    {
     "cell_type": "heading",
     "level": 2,
     "metadata": {},
     "source": [
      "Example Number 37.46, Page Number:1465"
     ]
    },
    {
     "cell_type": "code",
     "collapsed": false,
     "input": [
      "#variable declaration\n",
      "load=750#KVA\n",
      "v=11#kV\n",
      "p=4\n",
      "r=1#%\n",
      "x=15#%\n",
      "pf=0.8\n",
      "#calculation\n",
      "i=load*1000/(3**0.5*v*1000)\n",
      "vph=v*1000/3**0.5\n",
      "ira=r*vph/1000\n",
      "ra=ira/i\n",
      "xs=x*vph/(100*i)\n",
      "zs=(ra**2+xs**2)**0.5\n",
      "#no load\n",
      "alpha=p/2\n",
      "psy=math.radians(alpha)*vph**2/xs\n",
      "#fl 0.8 pf\n",
      "e=((vph*pf+i*ra)**2+(vph*math.sin(math.acos(pf)+i*xs))**2)**0.5\n",
      "psy2=math.radians(alpha)*e*vph/xs\n",
      "\n",
      "#result\n",
      "print \"Synchronous power at:\"\n",
      "print \"no load=\",psy,\"W\"\n",
      "print \"at pf of 0.8=\",psy2,\"w\""
     ],
     "language": "python",
     "metadata": {},
     "outputs": [
      {
       "output_type": "stream",
       "stream": "stdout",
       "text": [
        "Synchronous power at:\n",
        "no load= 58177.6417331 W\n",
        "at pf of 0.8= 73621.2350169 w\n"
       ]
      }
     ],
     "prompt_number": 225
    },
    {
     "cell_type": "heading",
     "level": 2,
     "metadata": {},
     "source": [
      "Example Number 37.47, Page Number:1466"
     ]
    },
    {
     "cell_type": "code",
     "collapsed": false,
     "input": [
      "#variable declaration\n",
      "load=2000#KVA\n",
      "p=8\n",
      "n=750#rpm\n",
      "v1=6000#V\n",
      "pf=0.8\n",
      "r=6#ohm\n",
      "\n",
      "#calculations\n",
      "alpha=math.radians(4)\n",
      "v=v1/3**0.5\n",
      "i=load*1000/(3**0.5*v1)\n",
      "e0=((v*pf)**2+(v*math.sin(math.acos(pf))+i*r)**2)**0.5\n",
      "psy=alpha*e0*v*3/r\n",
      "tsy=9.55*psy/n\n",
      "\n",
      "#result\n",
      "print \"synchronous power=\",psy,\"W\"\n",
      "print \"synchronous torque=\",tsy,\"N-m\""
     ],
     "language": "python",
     "metadata": {},
     "outputs": [
      {
       "output_type": "stream",
       "stream": "stdout",
       "text": [
        "synchronous power= 514916.500204 W\n",
        "synchronous torque= 6556.60343593 N-m\n"
       ]
      }
     ],
     "prompt_number": 226
    },
    {
     "cell_type": "heading",
     "level": 2,
     "metadata": {},
     "source": [
      "Example Number 37.48, Page Number:1467"
     ]
    },
    {
     "cell_type": "code",
     "collapsed": false,
     "input": [
      "#variable declaration\n",
      "load=5000#KVA\n",
      "v=10000#V\n",
      "n=1500#rpm\n",
      "f=50#Hz\n",
      "r=20#%\n",
      "pf=0.8\n",
      "phi=0.5\n",
      "\n",
      "#calculations\n",
      "vp=v/3**0.5\n",
      "i=load*1000/(3**0.5*v)\n",
      "xs=r*vp/(1000*i)\n",
      "p=120*f/n\n",
      "alpha=math.radians(2)\n",
      "#no load\n",
      "psy=3*alpha*vp**2/(p*1000)\n",
      "tsy=9.55*psy*1000/(n*2)\n",
      "#pf=0.8\n",
      "v2=vp*complex(pf,math.sin(math.acos(pf)))\n",
      "ixs=complex(0,i*4)\n",
      "e0=v+ixs\n",
      "psy2=abs(e0)*vp*math.cos(math.radians(8.1))*math.sin(math.radians(2))*3/4\n",
      "tsy2=9.55*psy2/(n*20)\n",
      "\n",
      "#result\n",
      "print \"synchronous power:\"\n",
      "print \"atno load=\",psy,\"w\"\n",
      "print \"at 0.8 pf=\",psy2,\"w\"\n",
      "print \"torque:\"\n",
      "print \"at no load=\",tsy,\"N-m\"\n",
      "print \"at pf=0.8=\",tsy2,\"N-m\""
     ],
     "language": "python",
     "metadata": {},
     "outputs": [
      {
       "output_type": "stream",
       "stream": "stdout",
       "text": [
        "synchronous power:\n",
        "atno load= 872.664625997 w\n",
        "at 0.8 pf= 1506057.44405 w\n",
        "torque:\n",
        "at no load= 2777.98239276 N-m\n",
        "at pf=0.8= 479.428286357 N-m\n"
       ]
      }
     ],
     "prompt_number": 229
    },
    {
     "cell_type": "heading",
     "level": 2,
     "metadata": {},
     "source": [
      "Example Number 37.49, Page Number:1468"
     ]
    },
    {
     "cell_type": "code",
     "collapsed": false,
     "input": [
      "#variable declaration\n",
      "load=6.6#kW\n",
      "load1=3000#kW\n",
      "pf=0.8\n",
      "xa=complex(0.5,10)\n",
      "xb=complex(0.4,12)\n",
      "i0=150#A\n",
      "\n",
      "#calculation\n",
      "v=complex(load*1000/3**0.5,0)\n",
      "cosphi1=1500*1000/(load*1000*i0*3**0.5)\n",
      "phi1=math.acos(cosphi1)\n",
      "sinphi1=math.sin(phi1)\n",
      "i=328*complex(pf,-math.sin(math.acos(pf)))\n",
      "i1=i0*complex(cosphi1,-sinphi1)\n",
      "i2=i-i1\n",
      "coshi2=i2.real/181\n",
      "ea=v+i1*xa\n",
      "eal=3**0.5*abs(ea)\n",
      "eb=v+i2*xb\n",
      "ebl=3**0.5*abs(eb)\n",
      "alpha1=(ea.imag/ea.real)\n",
      "alpha2=(eb.imag/eb.real)\n",
      "#result\n",
      "print \"Ea=\",ea,\"V\"\n",
      "print \"Eb=\",eb,\"V\"\n",
      "print \"alpha1=\",math.degrees(alpha1),\"degrees\"\n",
      "print \"alpha2=\",math.degrees(alpha2),\"degrees\""
     ],
     "language": "python",
     "metadata": {},
     "outputs": [
      {
       "output_type": "stream",
       "stream": "stdout",
       "text": [
        "Ea= (4602.91884998+1275.81974829j) V\n",
        "Eb= (5352.42648271+1524.56032028j) V\n",
        "alpha1= 15.8810288383 degrees\n",
        "alpha2= 16.3198639435 degrees\n"
       ]
      }
     ],
     "prompt_number": 245
    },
    {
     "cell_type": "heading",
     "level": 2,
     "metadata": {},
     "source": [
      "Example Number 37.50, Page Number:1468"
     ]
    },
    {
     "cell_type": "code",
     "collapsed": false,
     "input": [
      "#variable declration\n",
      "e1=complex(230,0)\n",
      "e2=230*complex(0.985,0.174)\n",
      "z1=complex(0,2)\n",
      "z2=complex(0,3)\n",
      "z=6\n",
      "i1=((e1-e2)*z+e1*z2)/(z*(z1+z2)+z1*z2)\n",
      "i2=((e2-e1)*z+e2*z1)/(z*(z1+z2)+z1*z2)\n",
      "i=i1+i2\n",
      "v=i*z\n",
      "p1=abs(v)*abs(i1)*math.cos(math.atan(i1.imag/i1.real))\n",
      "p2=abs(v)*abs(i2)*math.cos(math.atan(i2.imag/i2.real))\n",
      "\n",
      "#result\n",
      "print \"terminal voltage=\",v,\"V\"\n",
      "print \"current\",i,\"A\"\n",
      "print \"power 1=\",p1,\"W\"\n",
      "print \"power 2=\",p2,\"W\""
     ],
     "language": "python",
     "metadata": {},
     "outputs": [
      {
       "output_type": "stream",
       "stream": "stdout",
       "text": [
        "terminal voltage= (222.905384615-28.5730769231j) V\n",
        "current (37.1508974359-4.76217948718j) A\n",
        "power 1= 3210.60292765 W\n",
        "power 2= 5138.29001053 W\n"
       ]
      }
     ],
     "prompt_number": 249
    },
    {
     "cell_type": "heading",
     "level": 2,
     "metadata": {},
     "source": [
      "Example Number 37.51, Page Number:1471"
     ]
    },
    {
     "cell_type": "code",
     "collapsed": false,
     "input": [
      "#variable declaration\n",
      "load=1500#kW\n",
      "v=11#KV\n",
      "pf=0.867\n",
      "x=50#ohm\n",
      "r=4#ohm\n",
      "i=50#A\n",
      "\n",
      "#calculations\n",
      "il=load*1000/(3**0.5*v*1000*pf)\n",
      "phi=math.acos(pf)\n",
      "sinphi=math.sin(phi)\n",
      "iwatt=il*pf\n",
      "iwattless=il*sinphi\n",
      "i1=il/2\n",
      "i2=iwatt/2\n",
      "iw1=(i**2-i1**2)**0.5\n",
      "iw2=i2-iw1\n",
      "ia=(i2**2+iw2**2)**0.5\n",
      "vt=v*1000/3**0.5\n",
      "ir=i*r\n",
      "ix=x*i\n",
      "cosphi=i2/i\n",
      "sinphi=math.sin(math.acos(cosphi))\n",
      "e=((vt*cosphi+ir)**2+(vt*sinphi+ix)**2)**0.5\n",
      "el=3**0.5*e\n",
      "\n",
      "#result\n",
      "print \"armature current=\",ia,\"A\"\n",
      "print \"line voltage=\",el,\"V\""
     ],
     "language": "python",
     "metadata": {},
     "outputs": [
      {
       "output_type": "stream",
       "stream": "stdout",
       "text": [
        "armature current= 43.4628778514 A\n",
        "line voltage= 14304.0798593 V\n"
       ]
      }
     ],
     "prompt_number": 251
    },
    {
     "cell_type": "heading",
     "level": 2,
     "metadata": {},
     "source": [
      "Example Number 37.52, Page Number:1472"
     ]
    },
    {
     "cell_type": "code",
     "collapsed": false,
     "input": [
      "#variable declaration\n",
      "load=10#MW\n",
      "pf=0.8\n",
      "output=6000#kW\n",
      "pfa=0.92\n",
      "\n",
      "#calculations\n",
      "phi=math.acos(pf)\n",
      "phia=math.acos(pfa)\n",
      "tanphi=math.tan(phi)\n",
      "tanphia=math.tan(phia)\n",
      "loadkvar=load*1000*tanphi\n",
      "akvar=output*tanphia\n",
      "kwb=(load*1000-output)\n",
      "kvarb=loadkvar-akvar\n",
      "kvab=complex(kwb,kvarb)\n",
      "pfb=math.cos(math.atan(kvab.imag/kvab.real))\n",
      "kvarb=kwb*pfb\n",
      "kvara=-loadkvar-kvarb\n",
      "kvaa=complex(output,kvara)\n",
      "pfa=math.cos(math.atan(kvaa.imag/kvaa.real))\n",
      "\n",
      "#result\n",
      "print \"new pfb=\",pfb\n",
      "print \"new pfa=\",pfa"
     ],
     "language": "python",
     "metadata": {},
     "outputs": [
      {
       "output_type": "stream",
       "stream": "stdout",
       "text": [
        "new pfb= 0.628980253433\n",
        "new pfa= 0.513894032194\n"
       ]
      }
     ],
     "prompt_number": 253
    },
    {
     "cell_type": "heading",
     "level": 2,
     "metadata": {},
     "source": [
      "Example Number 37.54, Page Number:1473"
     ]
    },
    {
     "cell_type": "code",
     "collapsed": false,
     "input": [
      "#variable declaration\n",
      "v=6600#V\n",
      "load=1000#KVA\n",
      "x=20#%\n",
      "pf=0.8\n",
      "\n",
      "#calculation\n",
      "i=87.5\n",
      "x=8.7\n",
      "vp=3810\n",
      "e0=4311\n",
      "ir=70\n",
      "ix=52.5\n",
      "IX=762\n",
      "vb1=(e0**2-vp**2)**0.5\n",
      "i1x=vb1\n",
      "i1=i1x/x\n",
      "output=3**0.5*v*i1/1000\n",
      "b2v=(vp**2+e0**2)**0.5\n",
      "i2z=b2v\n",
      "i2=b2v/x\n",
      "i2rx=e0\n",
      "i2r=i2rx/x\n",
      "i2x=vp/x\n",
      "tanphi2=i2x/i2r\n",
      "phi2=math.atan(tanphi2)\n",
      "cosphi2=math.cos(phi2)\n",
      "output1=3**0.5*v*i2*cosphi2/1000\n",
      "\n",
      "#result\n",
      "print \"power output at unity pf=\",output,\"kW\"\n",
      "print \"max power output=\",output1,\"kW\""
     ],
     "language": "python",
     "metadata": {},
     "outputs": [
      {
       "output_type": "stream",
       "stream": "stdout",
       "text": [
        " power output at unity pf= 2650.38477722 kW\n",
        "max power output= 5664.52285143 kW\n"
       ]
      }
     ],
     "prompt_number": 255
    },
    {
     "cell_type": "heading",
     "level": 2,
     "metadata": {},
     "source": [
      "Example Number 37.55, Page Number:1474"
     ]
    },
    {
     "cell_type": "code",
     "collapsed": false,
     "input": [
      "#variable declaration\n",
      "x=10.0#ohm\n",
      "i=220.0#A\n",
      "load=11.0#kV\n",
      "per=25.0#%\n",
      "\n",
      "#calculations\n",
      "oa1=load*1000/3**0.5\n",
      "a1c1=i*x\n",
      "e0=(oa1**2+a1c1**2)**0.5\n",
      "emf=(1+per/100)*e0\n",
      "a1a2=(emf**2-a1c1**2)**0.5-oa1\n",
      "ix=a1a2/x\n",
      "i1=(i**2+ix**2)**0.5\n",
      "pf=i/i1\n",
      "bv=(oa1**2+emf**2)**0.5\n",
      "imax=bv/x\n",
      "ir=emf/x\n",
      "ix=oa1/x\n",
      "pfmax=ir/imax\n",
      "output=3**0.5*load*1000*imax*pfmax*0.001\n",
      "#result\n",
      "print \"new current=\",i1,\"A\"\n",
      "print \"new power factor=\",pf\n",
      "print \"max power output=\",output,\"kW\"\n"
     ],
     "language": "python",
     "metadata": {},
     "outputs": [
      {
       "output_type": "stream",
       "stream": "stdout",
       "text": [
        "new current= 281.573453399 A\n",
        "new power factor= 0.781323655849\n",
        "max power output= 16006.7954319 kW\n"
       ]
      }
     ],
     "prompt_number": 258
    },
    {
     "cell_type": "heading",
     "level": 2,
     "metadata": {},
     "source": [
      "Example Number 37.56, Page Number:1475"
     ]
    },
    {
     "cell_type": "code",
     "collapsed": false,
     "input": [
      "#variable declaration\n",
      "load=20.0#MVA\n",
      "load1=35.0#MVA\n",
      "pf=0.8\n",
      "output=25.0#MVA\n",
      "cosphi1=0.9\n",
      "\n",
      "#calculations\n",
      "loadmw=load1*pf\n",
      "loadmvar=load1*0.6\n",
      "sinphi=math.sin(math.acos(cosphi))\n",
      "mva1=25\n",
      "mw1=mva1*cosphi1\n",
      "mvar1=25*sinphi1\n",
      "mw2=loadmw-mw1\n",
      "mvar2=loadmvar-mvar1\n",
      "mva2=(mw2**2+mvar2**2)**0.5\n",
      "cosphi2=mw2/mva2\n",
      "\n",
      "#result\n",
      "print \"output=\",mva2\n",
      "print \"pf=\",cosphi2"
     ],
     "language": "python",
     "metadata": {},
     "outputs": [
      {
       "output_type": "stream",
       "stream": "stdout",
       "text": [
        "output= 10.4509862952\n",
        "pf= 0.52626611926\n"
       ]
      }
     ],
     "prompt_number": 260
    },
    {
     "cell_type": "heading",
     "level": 2,
     "metadata": {},
     "source": [
      "Example Number 37.57, Page Number:1475"
     ]
    },
    {
     "cell_type": "code",
     "collapsed": false,
     "input": [
      "#variable declarations\n",
      "load=600#KW\n",
      "loadm=707#kW\n",
      "pf=0.707\n",
      "output=900#kW\n",
      "pf1=0.9\n",
      "\n",
      "#calculation\n",
      "kva=1000\n",
      "kvar=kva*(1-pf1**2)**0.5\n",
      "active_p=1307-output\n",
      "reactive_p=loadm-kvar\n",
      "\n",
      "#result\n",
      "print \"active power shared by second machine=\",active_p,\"kW\"\n",
      "print \"reactive power shared by second machine=\",reactive_p,\"kVAR\""
     ],
     "language": "python",
     "metadata": {},
     "outputs": [
      {
       "output_type": "stream",
       "stream": "stdout",
       "text": [
        "active power shared by second machine= 407 kW\n",
        "reactive power shared by second machine= 271.110105646 kVAR\n"
       ]
      }
     ],
     "prompt_number": 3
    },
    {
     "cell_type": "heading",
     "level": 2,
     "metadata": {},
     "source": [
      "Example Number 37.58, Page Number:1476"
     ]
    },
    {
     "cell_type": "code",
     "collapsed": false,
     "input": [
      "#variable declaration\n",
      "l1=500#kW\n",
      "l2=1000#kW\n",
      "pf1=0.9\n",
      "l3=800#kW\n",
      "pf2=0.8\n",
      "l4=500#kW\n",
      "pf3=0.9\n",
      "output=1500#kW\n",
      "pf=0.95\n",
      "\n",
      "#calculation\n",
      "kw1=l1\n",
      "kw2=l2\n",
      "kw3=l3\n",
      "kw4=500\n",
      "kvar2=kw2*0.436/pf1\n",
      "kvar3=kw3*0.6/pf2\n",
      "kvar4=kw4*0.436/pf3\n",
      "kvar=output/pf\n",
      "kw=kw1+kw2+kw3+kw4-output\n",
      "kvar=kvar2+kvar3+kvar4-kvar\n",
      "cosphi=math.cos(math.atan(kvar/kw))\n",
      "\n",
      "#result\n",
      "print \"kW output=\",kw\n",
      "print \"pf=\",cosphi"
     ],
     "language": "python",
     "metadata": {},
     "outputs": [
      {
       "output_type": "stream",
       "stream": "stdout",
       "text": [
        "kW output= 1300\n",
        "pf= 0.981685651341\n"
       ]
      }
     ],
     "prompt_number": 264
    },
    {
     "cell_type": "heading",
     "level": 2,
     "metadata": {},
     "source": [
      "Example Number 37.59, Page Number:1476"
     ]
    },
    {
     "cell_type": "code",
     "collapsed": false,
     "input": [
      "#variable declaration\n",
      "z=complex(0.2,2)\n",
      "ze=complex(3,4)\n",
      "emf1=complex(2000,0)\n",
      "emf2=complex(22000,100)\n",
      "\n",
      "#calculations\n",
      "i1=complex(68.2,-102.5)\n",
      "i2=complex(127,-196.4)\n",
      "i=i1+i2\n",
      "v=i*ze\n",
      "pva1=v*i1\n",
      "kw1=pva1.real*3\n",
      "a11=math.atan(-i1.imag/i1.real)\n",
      "a12=math.atan(-v.imag/v.real)\n",
      "pf1=math.cos(a11-a12)\n",
      "pva2=v*i2\n",
      "kw2=pva2.real*3\n",
      "a21=math.atan(-i2.imag/i2.real)\n",
      "a22=math.atan(-v.imag/v.real)\n",
      "pf2=math.cos(a21-a22)\n",
      "\n",
      "#result\n",
      "print \"kw output 1=\",kw1/1000\n",
      "print \"pf 1=\",pf1\n",
      "print \"kw output 2=\",kw2/1000\n",
      "print \"pf 2=\",pf2"
     ],
     "language": "python",
     "metadata": {},
     "outputs": [
      {
       "output_type": "stream",
       "stream": "stdout",
       "text": [
        "kw output 1= 328.79427\n",
        "pf 1= 0.606839673468\n",
        "kw output 2= 610.34892\n",
        "pf 2= 0.596381892841\n"
       ]
      }
     ],
     "prompt_number": 273
    },
    {
     "cell_type": "heading",
     "level": 2,
     "metadata": {},
     "source": [
      "Example Number 37.63, Page Number:1481"
     ]
    },
    {
     "cell_type": "code",
     "collapsed": false,
     "input": [
      "#variable declaration\n",
      "load=5000#KVA\n",
      "v=10000#V\n",
      "f=50#Hz\n",
      "ns=1500#rpm\n",
      "j=1.5*10**4#khm2\n",
      "ratio=5\n",
      "\n",
      "#calculation\n",
      "t=0.0083*ns*(j/(load*ratio*f))**0.5\n",
      "\n",
      "#result\n",
      "print \"natural time period of oscillation=\",round(t,3),\"s\""
     ],
     "language": "python",
     "metadata": {},
     "outputs": [
      {
       "output_type": "stream",
       "stream": "stdout",
       "text": [
        "natural time period of oscillation= 1.364 s\n"
       ]
      }
     ],
     "prompt_number": 275
    },
    {
     "cell_type": "heading",
     "level": 2,
     "metadata": {},
     "source": [
      "Example Number 37.64, Page Number:1481"
     ]
    },
    {
     "cell_type": "code",
     "collapsed": false,
     "input": [
      "#variable declaration\n",
      "load=10000#KVA\n",
      "p=4\n",
      "v=6600#V\n",
      "f=50#Hz\n",
      "xs=25#%\n",
      "pf=1.5\n",
      "\n",
      "#calculations\n",
      "ratio=100/xs\n",
      "ns=120*f/p\n",
      "j=(pf/(0.0083*ns))**2*load*ratio*f\n",
      "\n",
      "#result\n",
      "print \"moment of inertia=\",j/1000,\"x10^4 kg-m2\""
     ],
     "language": "python",
     "metadata": {},
     "outputs": [
      {
       "output_type": "stream",
       "stream": "stdout",
       "text": [
        "moment of inertia= 29.0317898098 x10^4 kg-m2\n"
       ]
      }
     ],
     "prompt_number": 277
    },
    {
     "cell_type": "heading",
     "level": 2,
     "metadata": {},
     "source": [
      "Example Number 37.65, Page Number:1481"
     ]
    },
    {
     "cell_type": "code",
     "collapsed": false,
     "input": [
      "#variable declaration\n",
      "load=10.0#MVA\n",
      "v=10.0#kV\n",
      "f=50.0#Hz\n",
      "ns=1500.0#rpm\n",
      "j=2.0*10**5#kgm2\n",
      "x=40.0\n",
      "\n",
      "#calculation\n",
      "ratio=100.0/x\n",
      "t=0.0083*ns*(j/(load*1000*ratio*f))**0.5\n",
      "\n",
      "#result\n",
      "print \"frequency of oscillation of the rotor=\",round(1/t,1),\"Hz\""
     ],
     "language": "python",
     "metadata": {},
     "outputs": [
      {
       "output_type": "stream",
       "stream": "stdout",
       "text": [
        "frequency of oscillation of the rotor= 0.2 Hz\n"
       ]
      }
     ],
     "prompt_number": 283
    },
    {
     "cell_type": "heading",
     "level": 2,
     "metadata": {},
     "source": [
      "Example Number 37.66, Page Number:1483"
     ]
    },
    {
     "cell_type": "code",
     "collapsed": false,
     "input": [
      "#variable declaration\n",
      "v=11#kV\n",
      "z=complex(1,10)\n",
      "emf=14#kV\n",
      "\n",
      "#calculations\n",
      "e=emf*1000/3**0.5\n",
      "v=v*1000/3**0.5\n",
      "costheta=z.real/abs(z)\n",
      "pmax=e*v*3/(z.imag*1000)\n",
      "pmax_per_phase=(v/abs(z))*(e-(v/abs(z)))*3\n",
      "\n",
      "#result\n",
      "print \"max output =\",pmax_per_phase/1000,\"kW\"\n",
      "\n"
     ],
     "language": "python",
     "metadata": {},
     "outputs": [
      {
       "output_type": "stream",
       "stream": "stdout",
       "text": [
        "max output = 14125.5529273 kW\n"
       ]
      }
     ],
     "prompt_number": 285
    },
    {
     "cell_type": "heading",
     "level": 2,
     "metadata": {},
     "source": [
      "Example Number 37.67, Page Number:1484"
     ]
    },
    {
     "cell_type": "code",
     "collapsed": false,
     "input": [
      "#variable declaration\n",
      "load=11#kVA\n",
      "load1=10#MW\n",
      "z=complex(0.8,8.0)\n",
      "v=14#kV\n",
      "\n",
      "#calculations\n",
      "pmax=(load*1000/3**0.5)*(v*1000/3**0.5)*3/z.imag\n",
      "imax=((v*1000/3**0.5)**2+(load*1000/3**0.5)**2)**0.5/z.imag\n",
      "pf=(v/3**0.5)*1000/((v*1000/3**0.5)**2+(load*1000/3**0.5)**2)**0.5\n",
      "\n",
      "#result\n",
      "print \"maximum output=\",pmax/1000000,\"MW\"\n",
      "print \"current=\",imax,\"A\"\n",
      "print \"pf=\",pf"
     ],
     "language": "python",
     "metadata": {},
     "outputs": [
      {
       "output_type": "stream",
       "stream": "stdout",
       "text": [
        "maximum output= 19.25 MW\n",
        "current= 1284.92866209 A\n",
        "pf= 0.786318338822\n"
       ]
      }
     ],
     "prompt_number": 289
    },
    {
     "cell_type": "code",
     "collapsed": false,
     "input": [],
     "language": "python",
     "metadata": {},
     "outputs": []
    }
   ],
   "metadata": {}
  }
 ]
}