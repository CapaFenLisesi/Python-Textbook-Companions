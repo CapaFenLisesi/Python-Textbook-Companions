{
 "cells": [
  {
   "cell_type": "markdown",
   "metadata": {},
   "source": [
    "# Chapter 12 : Fundamentals of Thermal Radiation"
   ]
  },
  {
   "cell_type": "markdown",
   "metadata": {},
   "source": [
    "### Example 12.1"
   ]
  },
  {
   "cell_type": "code",
   "execution_count": 1,
   "metadata": {
    "collapsed": false
   },
   "outputs": [
    {
     "name": "stdout",
     "output_type": "stream",
     "text": [
      "The ball emits 23.22432 kJ of energy in the form of energy in the form of electromagnetic radiation per second per m**2\n",
      "The total Surface area of the ball is 0.125663706144 m**2\n",
      "The total amount of radiation energy emitted from the entire ball is 875.536237159 kJ\n",
      "The spectral blackbody emissive power 3846.0 W/m**2.micrometer\n"
     ]
    }
   ],
   "source": [
    "\n",
    "import math \n",
    "# Radiation Emission from a Black Ball\n",
    "\n",
    "# Variables\n",
    "T = 800     \t\t    \t#Temperature of suspended ball[K]\n",
    "D = 0.2\t\t            \t#Diameter[m]\n",
    "C1 = 3.74177*10**8\t\t\t#[(micrometer**4)/m**2]\n",
    "C2 = 1.43878*10**4\t\t\t#[micrometer.K]\n",
    "lambda_ = 3\t\t        \t#[micrometer]\n",
    "\n",
    "# Calculations and Results\n",
    "Eb = (5.67*10**(-8))*(T**4)\t\t\t#[W/m**2]\n",
    "print \"The ball emits\",Eb/1000,\"kJ\",\"of energy in the form of energy in the form of electromagnetic radiation per second per m**2\"\n",
    "\n",
    "As = math.pi*(D**2)\t\t\t#[m**2]\n",
    "print \"The total Surface area of the ball is\",As,\"m**2\"\n",
    "\n",
    "del_t = 5*60.    \t\t\t#[seconds]\n",
    "Q_rad = Eb*As*del_t\t\t\t#[J]\n",
    "print \"The total amount of radiation energy emitted from the entire ball is\",Q_rad/1000,\"kJ\"\n",
    "\n",
    "#Solution (c)\n",
    "Eb_lambda = C1/((lambda_**5)*((math.exp(C2/(lambda_*T)))-1))\t\t\t#[W/m**2.micrometer]\n",
    "print \"The spectral blackbody emissive power\",round(Eb_lambda),\"W/m**2.micrometer\"\n"
   ]
  },
  {
   "cell_type": "markdown",
   "metadata": {},
   "source": [
    "### Example 12.2"
   ]
  },
  {
   "cell_type": "code",
   "execution_count": 2,
   "metadata": {
    "collapsed": false
   },
   "outputs": [
    {
     "name": "stdout",
     "output_type": "stream",
     "text": [
      "Fraction of radiation emitted between the two given wavelengths is 0.052714\n",
      "The wavelength at which the emission of radiation from the filament peaks is 1.15912 micron\n"
     ]
    }
   ],
   "source": [
    "\n",
    "import math \n",
    "# Emission of Radiation from a Lightbulb\n",
    "\n",
    "# Variables\n",
    "T = 2500    \t\t\t#Temp of the filament[K]\n",
    "lambda1 = 0.4\n",
    "lambda2 = 0.76\t\t\t#Visible ranfe[micrometer]\n",
    "f1 = 0.000321\n",
    "f2 = 0.053035\t\t\t#The black body radiation functions corresponding to lamda1*T and lambda2*T\n",
    "\n",
    "# Calculations and Results\n",
    "f3 = f2-f1;\n",
    "print \"Fraction of radiation emitted between the two given wavelengths is\",f3\n",
    "lambda_max = 2897.8/T\t\t\t#[micrometer]\n",
    "print \"The wavelength at which the emission of radiation from the filament peaks is\",lambda_max,\"micron\"\n"
   ]
  },
  {
   "cell_type": "markdown",
   "metadata": {},
   "source": [
    "### Example 12.3"
   ]
  },
  {
   "cell_type": "code",
   "execution_count": 5,
   "metadata": {
    "collapsed": false
   },
   "outputs": [
    {
     "name": "stdout",
     "output_type": "stream",
     "text": [
      "The solid angle subtended by a2 when viewed from A1 is 0.000680928393884 sr\n",
      "The Intensity of radiation emitted by A1 is 2339.04290284 W/m**2.sr\n",
      "The rate of radiation energy emitted by A1 in the direction of 0.959931088597 radians through the solid angle 0.000680928393884 Steradian is  0.913647447646 W\n"
     ]
    }
   ],
   "source": [
    "\n",
    "import math \n",
    "# Radiation Incident on a small surface\n",
    "\n",
    "# Variables\n",
    "A1 = 3**10.**(-4)\t\t\t#[m**2]\n",
    "T1 = 600.\t\t\t        #[k]\n",
    "A2 = 5*10.**(-4)\t\t\t#[m**2]\n",
    "theta1 = math.pi*55./180\n",
    "theta2 = math.pi*40./180\t\t\t#[Radian]\n",
    "r = 0.75\t\t\t        #[m]\n",
    "\n",
    "# Calculations and Results\n",
    "w_2_1 = (A2*math.cos(theta2))/(r**2)\t\t\t#[Steradian]\n",
    "print \"The solid angle subtended by a2 when viewed from A1 is\",w_2_1,\"sr\"\n",
    "\n",
    "I1 = (5.67*10**(-8))*(T1**4)/(math.pi)\t\t\t#[W/m**2.sr]\n",
    "print \"The Intensity of radiation emitted by A1 is\",I1,\"W/m**2.sr\"\n",
    "\n",
    "Q1_2 = I1*(A1*math.cos(theta1))*w_2_1\t\t\t#[W]\n",
    "print \"The rate of radiation energy emitted by A1 in the direction of\"\\\n",
    ",theta1,\"radians\",\"through the solid angle\",w_2_1,\"Steradian\",\"is \",Q1_2,\"W\"\n"
   ]
  },
  {
   "cell_type": "markdown",
   "metadata": {},
   "source": [
    "### Example 12.4"
   ]
  },
  {
   "cell_type": "code",
   "execution_count": 6,
   "metadata": {
    "collapsed": false
   },
   "outputs": [
    {
     "name": "stdout",
     "output_type": "stream",
     "text": [
      "Average emissivity of the surface is 0.5206042\n",
      "The Emissive Power of the surface is 12090.6785341 W/m**2\n"
     ]
    }
   ],
   "source": [
    "\n",
    "import math \n",
    "# Emissivity of a surface and emissive Power\n",
    "\n",
    "# Variables\n",
    "e1 = 0.3\t\t\t#For 0< =  lambda < =  3micron \n",
    "e2 = 0.8\t\t\t#3micron< = lambda< = 7micron\n",
    "e3 = 0.1\t\t\t#7micron< = lamda<infinity\n",
    "lambda1 = 3\n",
    "lambda2 = 7\t\t\t#[micron]\n",
    "T = 800 \t\t\t#[K]\n",
    "\n",
    "# Calculations and Results\n",
    "p = lambda1*T\t\t\t#[micron.K]\n",
    "q = lambda2*T\t\t\t#[micron.K]\n",
    "#Hence blackbody radiation functions are\n",
    "f1 = 0.140256;\n",
    "f2 = 0.701046;\n",
    "f0_1 = f1-0;\n",
    "f2_inf = 1-f2;\n",
    "e_T = e1*f1+e2*(f2-f1)+e3*(1-f2);\n",
    "print \"Average emissivity of the surface is\",e_T\n",
    "\n",
    "E = e_T*(5.67*10**(-8))*(T**4)\t\t\t#[W/m**2]\n",
    "print \"The Emissive Power of the surface is\",E,\"W/m**2\"\n"
   ]
  },
  {
   "cell_type": "markdown",
   "metadata": {},
   "source": [
    "### Example 12.5"
   ]
  },
  {
   "cell_type": "code",
   "execution_count": 11,
   "metadata": {
    "collapsed": false
   },
   "outputs": [
    {
     "name": "stdout",
     "output_type": "stream",
     "text": [
      "(a) The net radiation heat transfer is 306.0 W/m**2\n",
      "The net radiation heat transfer is 34.0 W/m**2\n",
      "The net radiation heat transfer is 575.0 W/m**2\n",
      "The net radiation heat transfer is -234.0 W/m**2\n"
     ]
    }
   ],
   "source": [
    "\n",
    "import math \n",
    "# Selective Absorber and Reflective Surfaces\n",
    "\n",
    "# Variables\n",
    "G_D = 400\n",
    "G_d = 300\t\t\t#Direct and diffuse components of solar radiation[W/m**2]\n",
    "Ts = 320\n",
    "T_sky = 260\t\t\t#[K]\n",
    "theta = 20*math.pi/180\n",
    "\n",
    "# Calculations and Results\n",
    "G_solar = (G_D*math.cos(theta))+G_d\n",
    "#(a)\n",
    "ab_a = 0.9\n",
    "e_a = 0.9\t\t\t#Grey absorber surface\n",
    "q_net_rad_a = ab_a*G_solar+e_a*(5.67*10**(-8))*((T_sky**4)-(Ts**4))\t\t\t#[W/m**2]\n",
    "print \"(a) The net radiation heat transfer is\",round(q_net_rad_a),\"W/m**2\"\n",
    "\n",
    "#(b)\n",
    "ab_b = 0.1\n",
    "e_b = 0.1\t\t\t#Grey reflector surface\n",
    "q_net_rad_b = ab_b*G_solar+e_b*(5.67*10**(-8))*((T_sky**4)-(Ts**4))\t\t\t#[W/m**2]\n",
    "print \"The net radiation heat transfer is\",round(q_net_rad_b),\"W/m**2\"\n",
    "\n",
    "#(c)\n",
    "ab_c = 0.9\n",
    "e_c = 0.1\t\t\t#Selective Absorber surface\n",
    "q_net_rad_c = ab_c*G_solar+e_c*(5.67*10**(-8))*((T_sky**4)-(Ts**4))\t\t\t#[W/m**2]\n",
    "print \"The net radiation heat transfer is\",round(q_net_rad_c),\"W/m**2\"\n",
    "\n",
    "#(d)\n",
    "ab_d = 0.1\n",
    "e_d = 0.9\t\t\t#Selective reflector surface\n",
    "q_net_rad_d = ab_d*G_solar+e_d*(5.67*10**(-8))*((T_sky**4)-(Ts**4))\t\t\t#[W/m**2]\n",
    "print \"The net radiation heat transfer is\",round(q_net_rad_d),\"W/m**2\"\n"
   ]
  },
  {
   "cell_type": "markdown",
   "metadata": {},
   "source": [
    "### Example 12.6"
   ]
  },
  {
   "cell_type": "code",
   "execution_count": 12,
   "metadata": {
    "collapsed": false
   },
   "outputs": [
    {
     "name": "stdout",
     "output_type": "stream",
     "text": [
      "The decrease in the annual cooling load is 10365.428 kWh/year\n",
      "The increase in annual heating load is 11073.842 kWh/year\n",
      "The corresponding decrease in cooling math.costs and the increase in heating math.costs are $ 331.693696 and $ 236.136173661 per year\n",
      "The net annual math.cost savings due to the reflective film is $ 95.5575223391 per year\n",
      "The implementation Cost of installing films is $ 800\n",
      "Payback Period is 8.3719207072 years\n"
     ]
    }
   ],
   "source": [
    "\n",
    "import math \n",
    "# Installing Reflective Films on Windows\n",
    "\n",
    "# Variables\n",
    "A_glazing = 40\t\t\t#[m**2]\n",
    "SHGC_wof = 0.766\n",
    "SHGC_wf = 0.261\t\t\t#[kWh/year]\n",
    "unit_c_e = 0.08\t\t\t#[$/kWh]\n",
    "unit_c_f = 0.5\t\t\t#[$/therm]\n",
    "COP = 2.5\n",
    "neta = 0.80;\n",
    "\n",
    "# Calculations and Results\n",
    "#For the months of June,July,August and Sepetember\n",
    "Q_summer = 5.31*30+4.31*31+3.93*31+3.28*30\t\t\t#[kWh/year]\n",
    "#For the months oct,Nov,Dec,Jan,Feb,Mar,Apr\n",
    "Q_winter = 2.80*31+1.84*30+1.54*31+1.86*31+2.66*28+3.43*31+4.00*30\t\t\t#[kWh/year]\n",
    "c_l_d = Q_summer*A_glazing*(SHGC_wof-SHGC_wf)\t\t\t#[kWh/year]\n",
    "print \"The decrease in the annual cooling load is\",c_l_d,\"kWh/year\"\n",
    "\n",
    "h_l_i = Q_winter*A_glazing*(SHGC_wof-SHGC_wf)\t\t\t#[kWh/year]\n",
    "print \"The increase in annual heating load is\",h_l_i,\"kWh/year\"\n",
    "\n",
    "d_c_c = c_l_d*(unit_c_e)/COP\t\t\t#[$/year]\n",
    "i_h_c = h_l_i*(unit_c_f/29.31)/neta\t\t\t#[$/year]\n",
    "print \"The corresponding decrease in cooling math.costs and the increase in heating math.costs are $\"\\\n",
    ",d_c_c,\"and $\",i_h_c,\"per year\"\n",
    "\n",
    "Cost_s = d_c_c-i_h_c\t\t\t#[$/year]\n",
    "print \"The net annual math.cost savings due to the reflective film is $\",Cost_s,\"per year\"\n",
    "\n",
    "I_cost = 20*A_glazing\t\t\t#[$]\n",
    "print \"The implementation Cost of installing films is $\",I_cost\n",
    "\n",
    "pp = I_cost/Cost_s\t\t\t#[years]\n",
    "print \"Payback Period is\",pp,\"years\"\n"
   ]
  }
 ],
 "metadata": {
  "kernelspec": {
   "display_name": "Python 2",
   "language": "python",
   "name": "python2"
  },
  "language_info": {
   "codemirror_mode": {
    "name": "ipython",
    "version": 2
   },
   "file_extension": ".py",
   "mimetype": "text/x-python",
   "name": "python",
   "nbconvert_exporter": "python",
   "pygments_lexer": "ipython2",
   "version": "2.7.6"
  }
 },
 "nbformat": 4,
 "nbformat_minor": 0
}
