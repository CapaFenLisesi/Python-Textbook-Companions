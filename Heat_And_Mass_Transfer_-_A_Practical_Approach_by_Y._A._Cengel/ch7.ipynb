{
 "cells": [
  {
   "cell_type": "markdown",
   "metadata": {},
   "source": [
    "# Chapter 7 : External Forced Convection"
   ]
  },
  {
   "cell_type": "markdown",
   "metadata": {},
   "source": [
    "### Example 7.1"
   ]
  },
  {
   "cell_type": "code",
   "execution_count": 1,
   "metadata": {
    "collapsed": false
   },
   "outputs": [
    {
     "name": "stdout",
     "output_type": "stream",
     "text": [
      "We have laminar flow over the entire plate\n",
      "(0.006630019984886925, 'The average friction coefficient is')\n",
      "The drag force acting on the plate per unit width is 58.0789750676 N\n",
      "Nusselt Number is 133.200201811\n",
      "Convective heat transfer coefficient is 3.84682182831 W/m**.degree Celcius\n",
      "Heat flow rate is 769.0 W\n"
     ]
    }
   ],
   "source": [
    "\n",
    "import math \n",
    "# Flow of hot oil over a Flat Plate\n",
    "\n",
    "# Variables\n",
    "T_oil = 60\t\t\t#Temp of engine oil[degree Celcius]\n",
    "T_plate = 20\t\t\t#Temp of flat plate[degree Celcius]\n",
    "Rec = 5*10**5\t\t\t#Critical reynolds number for laminar flow\n",
    "Tf = (T_oil+T_plate)/2\t\t\t#Film temperature[degree Celcius]\n",
    "v = 2\t\t\t#[m/s]\n",
    "#Properties of engine oil at film temperature\n",
    "rho = 876\t\t\t#[kg/m**3]\n",
    "Pr = 2962\t\t\t#Prandtl number\n",
    "k = 0.1444\t\t\t#[W/m.degree Celcius]\n",
    "nu = 2.485*10**(-4)\t\t\t#dynamic vismath.cosity[m**2/s]\n",
    "L = 5\t\t\t#Length of plate[m]\n",
    "\n",
    "# Calculations and Results\n",
    "ReL = (v*L)/nu;\n",
    "if(ReL<Rec):\n",
    "    print (\"We have laminar flow over the entire plate\")\n",
    "    Cf = 1.33*(ReL**(-0.5));\n",
    "    print (Cf,\"The average friction coefficient is\")\n",
    "    #Pressure Drag is zero and thus Cd = Cf for parallel floe over a flat plate\n",
    "    Fd = Cf*5*1*rho*(v**2)/2\t\t\t#[N]\n",
    "    print \"The drag force acting on the plate per unit width is\",Fd,\"N\"\n",
    "else:\n",
    "    print (\"flow is turbulent\")\n",
    "\n",
    "Nu = 0.664*(ReL**(0.5))*(Pr**(1/3))\t\t\t#Nusselt Number\n",
    "print \"Nusselt Number is\",(Nu)\n",
    "\n",
    "h = k*Nu/L\t\t\t#[W/m**2.degree Celcius]\n",
    "print \"Convective heat transfer coefficient is\",h,\"W/m**.degree Celcius\"\n",
    "\n",
    "Q = h*(5*1)*(T_oil-T_plate)\t\t\t#[W]\n",
    "print \"Heat flow rate is\",round(Q),\"W\"\n"
   ]
  },
  {
   "cell_type": "markdown",
   "metadata": {},
   "source": [
    "### Example 7.2"
   ]
  },
  {
   "cell_type": "code",
   "execution_count": 2,
   "metadata": {
    "collapsed": false
   },
   "outputs": [
    {
     "name": "stdout",
     "output_type": "stream",
     "text": [
      "Flow is not laminar\n",
      "Nusselt Number is 3003.67997076\n",
      "Heat Flow Rate is 15965.7605166 W\n",
      "Flow is laminar\n",
      "Nusselt Number is 455.679409429\n",
      "The heat transfer rate is 9688.47333151 W\n"
     ]
    }
   ],
   "source": [
    "\n",
    "import math \n",
    "# Cooling of a Hot Block by Forced Air at High Elevation\n",
    "\n",
    "# Variables\n",
    "ReC = 5*10**5\t\t\t#critical Reynolds number\n",
    "v = 8\t\t\t#Velocity of air[m/s]\n",
    "T_air = 20\t\t\t#Initial Temperature of air[degree Celcius]\n",
    "T_plate = 140\t\t\t#Temperature of flat plate[degree Celcius]\n",
    "T_film = (T_air+T_plate)/2\t\t\t#Film Temperature of air[degree Celcius]\n",
    "\n",
    "#Properties of air at film temperature[degree Celcius]\n",
    "k = 0.02953\t\t\t#[W/m.degree Celcius]\n",
    "Pr = 0.7154\t\t\t#Prandtl Number\n",
    "nu = 2.097*10**(-5)\t\t\t#Kinematic Vismath.cosity at 1 atm Pressure [m**2/s]\n",
    "nu_ac = nu/0.823\t\t\t#Kinematic vismath.cosity at pressure 0.823 atm[m**2/s]\n",
    "\n",
    "#Solution(a)\n",
    "L1 = 6\t\t\t#Characteristic length of plate along the flow of air[m]\n",
    "w1 = 1.5\t\t\t#width[m]\n",
    "ReL1 = (v*L1)/nu_ac\t\t\t#Reynolds number\n",
    "if(ReL1>ReC):\n",
    "    print (\"Flow is not laminar\")\n",
    "    #We have average Nusselt Number\n",
    "    Nu1 = ((0.037*(ReL1**(0.8)))-871)*(Pr**(1/3));\n",
    "    print \"Nusselt Number is\",Nu1\n",
    "    h1 = k*Nu1/L1\t\t\t#[W/m**2.degree Celcius]\n",
    "    As1 = w1*L1\t\t\t    #Flow Area of plate[m**2]\n",
    "    Q1 = h1*As1*(T_plate-T_air);\n",
    "    print \"Heat Flow Rate is\",Q1,\"W\"\n",
    "else:\n",
    "    print (\"Flow is laminar\")\n",
    "\n",
    "#Solution(b)\n",
    "L2 = 1.5\t        \t\t#Characteristic length of plate along flow of air[m]\n",
    "ReL2 = v*L2/nu_ac\t\t\t#Reynolds Number\n",
    "if(ReL2<Rec):\n",
    "    print (\"Flow is laminar\")\n",
    "    Nu2 = 0.664*(ReL2**(0.5))*(Pr**(1/3));\n",
    "    print \"Nusselt Number is\",Nu2\n",
    "    h2 = k*Nu2/L2\t\t\t#[W/m**2.degree Celcius]\n",
    "    Q2 = h2*As1*(T_plate-T_air);\n",
    "    print \"The heat transfer rate is\",Q2,\"W\"\n",
    "else:\n",
    "    print (\"Flow is turbulent\")\n"
   ]
  },
  {
   "cell_type": "markdown",
   "metadata": {},
   "source": [
    "### Example 7.3"
   ]
  },
  {
   "cell_type": "code",
   "execution_count": 3,
   "metadata": {
    "collapsed": false
   },
   "outputs": [
    {
     "name": "stdout",
     "output_type": "stream",
     "text": [
      "(a) Flow is laminar\n",
      "The nusselt number is 289.3344611\n",
      "The covection heat flow rate is 682.458980085 W\n",
      "Radiation heat transfer rate is 768.157319003 W\n",
      "The rate of cooling of the plastic sheet by combined convection and radiation is 1450.61629909 W\n",
      "(b) The temperature of the plastic sheet as it leaves the cooling section is 91.0495198827 degree Celcius\n"
     ]
    }
   ],
   "source": [
    "\n",
    "import math \n",
    "# Cooling of Plastic Sheets by Forced Air\n",
    "\n",
    "# Variables\n",
    "T_p = 95.\t\t\t#Temp of plastic Sheet[degree Celcius]\n",
    "T_air = 25.\t\t\t#Temp of air[degree Celcius]\n",
    "v = 3.  \t\t\t#Velocity of flowing air[m/s]\n",
    "L = 0.6\t    \t\t#Length of plastic sheet[m]\n",
    "w = 1.2\t\t    \t#width[m]\n",
    "k = 0.02808\t\t\t#[W/m.degree Celcius]\n",
    "Pr = 0.7202\t\t\t#Prandtl Number\n",
    "nu = 1.896*10**(-5)\t\t\t#[m**2/s]\n",
    "rho = 1200.\t\t\t#[kg/m**3]\n",
    "Cp = 1700.\t\t\t#[J/kg.degree Celcius]\n",
    "vp = (9./60)\t\t#Velocity of moving plastic[m/s]\n",
    "tp = 0.001\t\t\t#Thickness of plastic[m]\n",
    "ReC = 5.*10**5\t\t\t#Crictical Reynolds Number\n",
    "e = 0.9 \t\t\t#emissivity\n",
    "\n",
    "# Calculations and Results\n",
    "L1 = 2*L\t\t\t#Considering both sides of plastic sheet[m]\n",
    "ReL1 = v*L1/nu\t\t\t#Reynolds number\n",
    "if(ReL1<ReC):\n",
    "    print (\"(a) Flow is laminar\")\n",
    "    Nu1 = 0.664*(ReL1**0.5)*(Pr**(1/3));\n",
    "    print \"The nusselt number is\",Nu1\n",
    "    h = k*Nu1/L1\t\t\t#[W/m**2.degree Celcius]\n",
    "    As = L1*w\t\t\t    #[m**2]\n",
    "    Q_conv = h*As*(T_p-T_air)\t\t\t#[W]\n",
    "    print \"The covection heat flow rate is\",Q_conv,\"W\"\n",
    "    Q_rad = e*(5.67*10**(-8))*As*(((T_p+273)**4)-((T_air+273)**4))\t\t\t#[W]\n",
    "    print \"Radiation heat transfer rate is\",(Q_rad),\"W\"\n",
    "    Q_total = Q_conv+Q_rad\t\t\t#[W]\n",
    "    print \"The rate of cooling of the plastic sheet by combined convection and radiation is\",(Q_total),\"W\"\n",
    "else:\n",
    "    print (\"(a) The Flow is turbulent\")\n",
    "\n",
    "#Solution(b)\n",
    "At = w*tp\t            \t    \t#[m**2]\n",
    "m = rho*At*vp\t    \t    \t    #ass of th plastic rolling out per unit time[kg/s]\n",
    "T2 = T_p+(-Q_total/(m*Cp))\t\t\t#[degree Celcius]\n",
    "print \"(b) The temperature of the plastic sheet as it leaves the cooling section is\",T2,\"degree Celcius\"\n"
   ]
  },
  {
   "cell_type": "markdown",
   "metadata": {},
   "source": [
    "### Example 7.4"
   ]
  },
  {
   "cell_type": "code",
   "execution_count": 4,
   "metadata": {
    "collapsed": false
   },
   "outputs": [
    {
     "name": "stdout",
     "output_type": "stream",
     "text": [
      "The drag force acting on the pipe is 5.275248 kN\n"
     ]
    }
   ],
   "source": [
    "\n",
    "import math \n",
    "# Drag Force Acting on a Pipe in a River\n",
    "\n",
    "# Variables\n",
    "T_water = 15.\t\t\t#[degree Celcius]\n",
    "vw = 4.     \t\t\t#Velocity of water[m/s]\n",
    "od = 0.022  \t\t\t#Outer diameter of pipe[m]\n",
    "w = 30.\t        \t\t#width of river[m]\n",
    "#At 15 degree C properties of water\n",
    "rho = 999.1\t\t\t#[kg/m**3]\n",
    "\n",
    "# Calculations\n",
    "mu = 1.138*10**(-3)\t\t\t#vismath.cosity[kg/m.s]\n",
    "Re = (rho*vw*od)/mu\t\t\t#Reynolds number\n",
    "Cd = 1.0    \t    \t\t#Dreag coefficient\n",
    "A = w*od\t    \t    \t#Frontal area for flow past a cylinder[m**2]\n",
    "Fd = Cd*A*rho*(vw**2)/2\t\t\t#[N]\n",
    "\n",
    "# Results\n",
    "print \"The drag force acting on the pipe is\",Fd/1000,\"kN\"\n"
   ]
  },
  {
   "cell_type": "markdown",
   "metadata": {},
   "source": [
    "### Example 7.5"
   ]
  },
  {
   "cell_type": "code",
   "execution_count": 8,
   "metadata": {
    "collapsed": false
   },
   "outputs": [
    {
     "name": "stdout",
     "output_type": "stream",
     "text": [
      " The nusselt number is 124.0\n",
      "The rate of heat loss from the pipe per unit of its length is 1098.0 W\n"
     ]
    }
   ],
   "source": [
    "\n",
    "import math \n",
    "# Heat Loss from a Steam Pipe in Windy Air\n",
    "\n",
    "# Variables\n",
    "d = 0.1             #diameter of pipe[m]\n",
    "Ts = 110\t\t\t#Temp of ecternal surface of pipe[degree Celcius]\n",
    "Ta = 10\t    \t\t#Temp of air[degree Celcius]\n",
    "va = 8\t\t    \t#Velocity of air[m/s]\n",
    "Tf = (Ts+Ta)/2\t\t\t#Film temperature[degree Celcius]\n",
    "k = 0.02808\t\t\t#[W/m.degree Celcius]\n",
    "Pr = 0.7202\t\t\t#Prandtl Number\n",
    "nu = 1.896*10**(-5)\t\t\t#Kinematic vismath.cosity[m**2/s]\n",
    "\n",
    "# Calculations and Results\n",
    "Re = (va*d)/nu\t\t\t#Reynolds Number\n",
    "Nu = 0.3+((0.62*(Re**(0.5))*(Pr**(1./3)))/((1+((0.4/Pr)**(2./3)))**(1./4))*((1+((Re/282000.)**(5./8)))**(4./5)));\n",
    "print \"The nusselt number is\",round(Nu)\n",
    "\n",
    "h = k*Nu/d\t\t\t#[W/m**2.degree Celcius]\n",
    "As = math.pi*d*1\t\t\t#Area of pipe per unit length[m**2]\n",
    "Q = h*As*(Ts-Ta)\t\t\t#[W]\n",
    "print \"The rate of heat loss from the pipe per unit of its length is\",math.ceil(Q),\"W\"\n"
   ]
  },
  {
   "cell_type": "markdown",
   "metadata": {},
   "source": [
    "### Example 7.6"
   ]
  },
  {
   "cell_type": "code",
   "execution_count": 10,
   "metadata": {
    "collapsed": false
   },
   "outputs": [
    {
     "name": "stdout",
     "output_type": "stream",
     "text": [
      "The Nusselt number is 134.427397138\n",
      "The average rate of heat transfer from Newtons Law of cooling is 605.997242164 W\n",
      "The total heat transferred from the ball is 3163191.10308 J\n",
      "The time of cooling is 1.44994751488 hour\n"
     ]
    }
   ],
   "source": [
    "\n",
    "import math \n",
    "# Cooling of a Steel Ball by Forced Air\n",
    "\n",
    "# Variables\n",
    "rho = 8055.\t\t\t#[kg/m**3]\n",
    "Cp = 480.\t\t\t#[J/kg.degree Celcius]\n",
    "To = 300.\t\t\t#Temp of oven[degree Celcius]\n",
    "Ta = 25.\t\t\t#Temp of air[degree Celcius]\n",
    "va = 3.\t    \t\t#Velocity of air[m/s]\n",
    "Ts = 200.\t\t\t#Dropped temp of surface of ball[degree Celcius]\n",
    "Ts_avg = (Ts+To)/2\t\t\t#[degree Celcius]\n",
    "d = 0.25\t\t\t#[m]\n",
    "mu_s = 2.76*10**(-5)\t\t\t#Dynamic Vismath.cosity at average surface temperature[kg/m.s]\n",
    "#Properties of air at 25 degree Celcius\n",
    "k = 0.02551\t\t\t#[W/m.degree Celcius]\n",
    "nu = 1.562*10**(-5)\t\t\t#kinematic vismath.cosity[m**2/s]\n",
    "mu = 1.849*10**(-5)\t\t\t#Dynamic vismath.cosity of air at 25 degree C[kg/m.s]\n",
    "\n",
    "# Calculations and Results\n",
    "Re = va*d/nu\t\t\t#[Reynolds Number]\n",
    "Nu = 2+((0.4*(Re**(1./2)))+(0.06*(Re**(2./3))))*(Pr**(0.4))*((mu/mu_s)**(1/4.));\n",
    "print \"The Nusselt number is\",Nu\n",
    "\n",
    "h = k*Nu/d\t\t\t#[W/m**2.degree Celcius]\n",
    "As = math.pi*(d**2)\t\t\t#[m**2]\n",
    "Q_avg = h*As*(Ts_avg-Ta)\t\t\t#[W]\n",
    "print \"The average rate of heat transfer from Newtons Law of cooling is\",(Q_avg),\"W\"\n",
    "\n",
    "m = rho*math.pi*(d**3)/6\t\t\t#[kg]\n",
    "Q_total = m*Cp*(To-Ts)\t\t\t#[J]\n",
    "print \"The total heat transferred from the ball is\",Q_total,\"J\"\n",
    "\n",
    "delta_t = Q_total/Q_avg\t\t\t#[s]\n",
    "print \"The time of cooling is\",delta_t/3600,\"hour\"\n"
   ]
  },
  {
   "cell_type": "markdown",
   "metadata": {},
   "source": [
    "### Example 7.7"
   ]
  },
  {
   "cell_type": "code",
   "execution_count": 11,
   "metadata": {
    "collapsed": false
   },
   "outputs": [
    {
     "name": "stdout",
     "output_type": "stream",
     "text": [
      "Reynolds number is 5085.55065452\n",
      "The nusselt number is 52.11973288\n",
      "Mass flow rate of air is 2.709 kg/s\n",
      "Fluid exit temperature is 29.113969148 degree Celcius\n",
      "Log mean temperature difference is 95.3704459553 degree Celcius\n",
      "Rate of heat transfer is 24862.570619 W\n",
      "The pressure drop across the tube bank is 21.0071020408 Pa\n"
     ]
    }
   ],
   "source": [
    "\n",
    "import math \n",
    "# Preheating Air by Geothermal Water in a Tube Bank\n",
    "\n",
    "# Variables\n",
    "Ta_in = 20.\t\t\t#Temp of air whileentering the duct[degree Celcius]\n",
    "v = 4.5\t\t    \t#mean velocity[m/s]\n",
    "T_tw = 120.\t\t\t#Temp of geothermal water[degree Celcius]\n",
    "od = 0.015\t\t\t#Outer Diameter of tubes[m]\n",
    "SL = 0.05\n",
    "ST = 0.05\t\t\t#Longitudinal and transverse pitches[m]\n",
    "#Properties of air at mean temp\n",
    "k = 0.02808\t\t\t#[W/m.K]\n",
    "rho = 1.059\t\t\t#[kg/m**3]\n",
    "Cp = 1007\t\t\t#[J/kg.K]\n",
    "Pr = 0.7202\t\t\t#Prandtl no\n",
    "Pr_s = 0.7073\t\t\t#Prandtl no at temp  =  120 degree C\n",
    "mu = 2.008*10**(-5)\t\t\t#Vismath.cosity[kg/m.s]\n",
    "rho_in = 1.204\t\t\t#density of air at inlet conditions[kg/m**3]\n",
    "\n",
    "# Calculations and Results\n",
    "v_max = (ST*v)/(ST-od)\t\t\t#maximu velocity[m/s]\n",
    "Re = rho*v_max*od/mu\t\t\t#Reynolds Number\n",
    "print \"Reynolds number is\",Re\n",
    "\n",
    "Nu = 0.27*(Re**(0.63))*(Pr**(0.36))*((Pr/Pr_s)**0.25);\n",
    "print \"The nusselt number is\",Nu\n",
    "\n",
    "Nl = 6\t\t\t#No of rows of tubes\n",
    "Nt = 10\t\t\t#No of tubes in each row\n",
    "F = 0.945\t\t\t#For Nl = 6, correction factor \n",
    "Nu_Nl = F*Nu;\n",
    "h = Nu_Nl*k/od\t\t\t#[W/m**2.degree Celcius]\n",
    "N = Nl*Nt\t\t\t#Total no of tubes\n",
    "\n",
    "#For unit tube length\n",
    "As = N*math.pi*od*1\t\t\t#[m**2]\n",
    "m = rho_in*v*(Nt*ST*1)\t\t\t#[kg/s]\n",
    "print \"Mass flow rate of air is\",m,\"kg/s\"\n",
    "\n",
    "Te = T_tw-((T_tw-Ta_in)*math.exp((-As*h)/(m*Cp)))\t\t\t#[degree Celcius]\n",
    "print \"Fluid exit temperature is\",Te,\"degree Celcius\"\n",
    "\n",
    "T_ln = (((T_tw-Te)-(T_tw-Ta_in))/(math.log((T_tw-Te)/(T_tw-Ta_in))))\t\t\t#[degree Celcius]\n",
    "print \"Log mean temperature difference is\",T_ln,\"degree Celcius\"\n",
    "\n",
    "Q = h*As*T_ln\t\t\t#[W]\n",
    "print \"Rate of heat transfer is\",Q,\"W\"\n",
    "\n",
    "#For given Re and SL/od ratio friction coefficient is\n",
    "f = 0.16;\n",
    "delta_P = Nl*f*rho*(v_max**2)/2\t\t\t#[Pa]\n",
    "print \"The pressure drop across the tube bank is\",delta_P,\"Pa\"\n"
   ]
  },
  {
   "cell_type": "markdown",
   "metadata": {},
   "source": [
    "### Example 7.8"
   ]
  },
  {
   "cell_type": "code",
   "execution_count": 13,
   "metadata": {
    "collapsed": false
   },
   "outputs": [],
   "source": [
    "\n",
    "import math \n",
    "# Effect of insulation on Surface Temperature\n",
    "\n",
    "# Variables\n",
    "Ti = 120\t\t\t#Initial temp of hot water[degree Celcius]\n",
    "k_pipe = 15\t\t\t#W/m.degree Celcius \n",
    "ri = 0.008\n",
    "ro = 0.01\t\t\t#Inner and outer radii[m]\n",
    "t = 0.002\t\t\t#Thickness of pipe[m]\n",
    "To = 25\t\t\t#Ambient temperature[degree Celcius]\n",
    "Ts = 40\t\t\t#Maximum Temp of outer surface of insulation[degree Celcius]\n",
    "hi = 70\n",
    "ho = 20\t\t\t#Heat transfer coefficients inside and outside of the pipe[W/m**2.degree Celcius]\n",
    "k_insu = 0.038\t\t\t#[W/m.degree Celcius]\n",
    "L = 1\t\t\t#section of pipe[m]\n",
    "\n",
    "# Calculations\n",
    "#Areas of surfaces math.exposed to convection\n",
    "A1 = 2*math.pi*ri*L\t\t\t#[m**2]\n",
    "#Individual Thermal Resismath.tances\n",
    "R_conv1 = 1/(hi*A1)\t\t\t#[degree Celcius/W]\n",
    "R_pipe = (math.log(ro/ri))/(2*math.pi*k_pipe*L)\t\t\t#[degree Celcius/W]\n",
    "#R_insu = (math.log(r3/ri))/(2*math.pi*k_insu*L)\n",
    "#R_conv2 = 1/(ho*2*math.pi*r3*L)\n",
    "#R_total = R_conv1+R_conv2+R_pipe+R_insu\n",
    "#Q = (Ti-To)/R_total;\n",
    "#Q = (Ts-To)/R_conv2;\n",
    "#Equating both Q we get\n",
    "def radius(r3):\n",
    "    r[0] = 1884*r3[0]*(0.284+0.0024+4.188*math.log((r3[0])/0.01)+(1/(125.6*r3[0])))-95;\n",
    "\n",
    "\n",
    "# Results\n",
    "#print \"The outer radius of the insulation is\",xs,\"m\"\n",
    "#t = xs-ro\t\t\t#[m]\n",
    "#print \"The minimum thickness of fibreglass insulation required is\",100*t,\"cm\"\n",
    "\n",
    "#/Correct output will be print layed after executing the codes once and then re-executin them\n",
    "    \n"
   ]
  },
  {
   "cell_type": "markdown",
   "metadata": {},
   "source": [
    "### Example 7.9"
   ]
  },
  {
   "cell_type": "code",
   "execution_count": 15,
   "metadata": {
    "collapsed": false
   },
   "outputs": [
    {
     "name": "stdout",
     "output_type": "stream",
     "text": [
      "402.123859659\n",
      "The total amount of heat loss from the surrounding is 11034.5601958 Therms\n",
      "The annual fuel math.cost of the oven before insulation is $ 8275.92014682 per year\n",
      "Total energy consumption by oven on being insulated 823.391262875 therms\n",
      "The sum of insulation math.cost and heat loss math.costs is $ 1703.27786824\n"
     ]
    }
   ],
   "source": [
    "\n",
    "import math \n",
    "# Optimum Thickness of insulation\n",
    "\n",
    "# Variables\n",
    "k_insu = 0.024\t\t\t#[Btu/h.ft**2.degree Farenhiet]\n",
    "Ts = 180    \t\t\t#temp of math.exposed surface of oven[degree F]\n",
    "Ta = 75\t        \t\t#temp of ambient air[degree F]\n",
    "L = 12\t        \t\t#length[ft]\n",
    "d = 8\t\t    \t    #Diameter[m]\n",
    "time = 5840\t\t    \t#[h/year]\n",
    "ho = 3.58\t\t\t    #Heat transfer coefficient on the outer surface[tu/h.ft**2.degree F]\n",
    "unit_c1 = 0.75\t\t\t#[$/therm]\n",
    "unit_c2 = 2.70\t\t\t#Unit math.cost of insulation[4/ft**2]\n",
    "neta = 0.8\t\t\t    #Efficiency\n",
    "\n",
    "# Calculations and Results\n",
    "As = (2*math.pi*((d/2)**2))+(2*math.pi*L*d/2)\t\t\t#math.exposed surface area[ft**2]\n",
    "print (As)\n",
    "Q = ho*As*(Ts-Ta)               \t\t\t#[Btu/h]\n",
    "Q_total = (1./neta)*Q*time/(100000)\t\t\t#[therms]\n",
    "print \"The total amount of heat loss from the surrounding is\",Q_total,\"Therms\"\n",
    "\n",
    "annual_c1 = Q_total*unit_c1\t\t\t#[$/year]\n",
    "print \"The annual fuel math.cost of the oven before insulation is $\",annual_c1,\"per year\"\n",
    "\n",
    "R_conv = 1./(ho*math.ceil(As));\n",
    "R_insu = (1./12)/(k_insu*math.ceil(As))\t\t\t#Thickness id 1inch or 1/12 ft\n",
    "Q_insu = (Ts-Ta)/(R_conv+R_insu)\t\t\t#[Btu/hr]\n",
    "Q_insu_total = (1./neta)*Q_insu*time*(1./100000)\t\t\t#[therms]\n",
    "print \"Total energy consumption by oven on being insulated\",Q_insu_total,\"therms\"\n",
    "\n",
    "annual_c2 = Q_insu_total*unit_c1\t\t\t#[$/yr]\n",
    "insu_cost = (unit_c2*As)\t\t\t#Insulation math.cost[$]\n",
    "Total_c = annual_c2+insu_cost\t\t\t#[$]\n",
    "print \"The sum of insulation math.cost and heat loss math.costs is $\",Total_c\n"
   ]
  }
 ],
 "metadata": {
  "kernelspec": {
   "display_name": "Python 2",
   "language": "python",
   "name": "python2"
  },
  "language_info": {
   "codemirror_mode": {
    "name": "ipython",
    "version": 2
   },
   "file_extension": ".py",
   "mimetype": "text/x-python",
   "name": "python",
   "nbconvert_exporter": "python",
   "pygments_lexer": "ipython2",
   "version": "2.7.6"
  }
 },
 "nbformat": 4,
 "nbformat_minor": 0
}
