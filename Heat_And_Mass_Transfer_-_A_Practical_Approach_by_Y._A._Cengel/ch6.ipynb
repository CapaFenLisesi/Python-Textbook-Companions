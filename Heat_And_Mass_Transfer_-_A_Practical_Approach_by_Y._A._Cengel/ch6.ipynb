{
 "cells": [
  {
   "cell_type": "markdown",
   "metadata": {},
   "source": [
    "# Chapter 6 : Fundamentals of Convection"
   ]
  },
  {
   "cell_type": "markdown",
   "metadata": {},
   "source": [
    "### Example 6.1"
   ]
  },
  {
   "cell_type": "code",
   "execution_count": 1,
   "metadata": {
    "collapsed": false
   },
   "outputs": [
    {
     "name": "stdout",
     "output_type": "stream",
     "text": [
      "T(y) = T0+(mu*(v**2)/(2*k))[(y/L)-((y/L)**2)]\n",
      "Maximum temperature occurs at mid plane and its value is 20.0 degree Celcius\n",
      "Heat fluxes at the two plates are equal in magnitude but opposite in sign and the value of magnitude is 30.1464 kW/m**2\n"
     ]
    }
   ],
   "source": [
    "\n",
    "import math \n",
    "# Temperature Rise of Oil is a Journal Bearing\n",
    "\n",
    "# Variables\n",
    "k = 0.145\t\t\t#[W/m.K]\n",
    "mu = 0.8374\t\t\t#[kg/m.s]or[N.s/m**2]\n",
    "T1 = 20\t\t\t#Temperature of both the plates[degree Celcius]\n",
    "t = 0.002\t\t\t#Thickness of oil film between the plates[m]\n",
    "v = 12\t\t\t#Velocity with which plates move[m/s]\n",
    "\n",
    "# Calculations and Results\n",
    "#Relation between velocity and temperature variation\n",
    "print (\"T(y) = T0+(mu*(v**2)/(2*k))[(y/L)-((y/L)**2)]\")\n",
    "#The location of maximum temperature is determined by setting dT/dy = 0 and solving for y\n",
    "#(mu*(v**2)/(2*k*L))*(1-(2*y/L)) = 0\n",
    "L = 1\t\t\t#Random initialisation of variable L, where L is length of plates\n",
    "y = L/2.;\n",
    "#T_max = T(L/2)\n",
    "T_max = T1+((mu*(v**2)/(2*k))*(((L/2)/L)-(((L/2)**2)/(L**2))));\n",
    "print \"Maximum temperature occurs at mid plane and its value is\",T_max,\"degree Celcius\"\n",
    "\n",
    "#heat flux q0 = -kdt/dy|y = 0; = -kmu*v**2/(2*k*L)\n",
    "q0 = -(mu*k*(v**2)/(2*k*t))/1000\t\t\t#Heat flux from one plate [kW/m**2]\n",
    "qL = -((k*mu*(v**2))*(1-2)/(2*k*t*1000))\t\t\t#Heat flux from another plate[kW/m**2]\n",
    "print \"Heat fluxes at the two plates are equal in magnitude but opposite in sign and \\\n",
    "the value of magnitude is\",qL,\"kW/m**2\"\n"
   ]
  },
  {
   "cell_type": "markdown",
   "metadata": {},
   "source": [
    "### Example 6.2"
   ]
  },
  {
   "cell_type": "code",
   "execution_count": 3,
   "metadata": {
    "collapsed": false
   },
   "outputs": [
    {
     "name": "stdout",
     "output_type": "stream",
     "text": [
      "Friction Factor and average heat transfer coefficient are 0.00242954324587 and 12.7060334544 W/m**2.degree Celcius respectively\n"
     ]
    }
   ],
   "source": [
    "\n",
    "import math \n",
    "# Finding Convection Coefficient from Drag Measurement\n",
    "\n",
    "# Variables\n",
    "#Properties of air\n",
    "rho = 1.204\t\t\t#[kg/m**3]\n",
    "Cp = 1007\t\t\t#[J/kg.K]\n",
    "Pr = 0.7309\t\t\t#Prandtl number\n",
    "w = 2\t\t\t#Width of plate[m]\n",
    "L = 3\t\t\t#Characteristic length of plate[m]\n",
    "v = 7\t\t\t#velocity of air[m/s]\n",
    "Fd = 0.86\t\t\t#Total grag force[N]\n",
    "\n",
    "# Calculations\n",
    "As = 2*w*L\t\t\t#Since both sides of plate are math.exposed to air flow[m**2]\n",
    "#For flat plates drag force is equivalent to friction coefficient Cf\n",
    "Cf = Fd/(rho*As*(v**2)/2);\n",
    "h = (Cf*rho*v*Cp)/(2*(Pr**(2./3)))\t\t\t#[W/m**2.degree Celcius]\n",
    "\n",
    "# Results\n",
    "print \"Friction Factor and average heat transfer coefficient are\",Cf,\"and\",h,\"W/m**2.degree Celcius\",\"respectively\"\n"
   ]
  }
 ],
 "metadata": {
  "kernelspec": {
   "display_name": "Python 2",
   "language": "python",
   "name": "python2"
  },
  "language_info": {
   "codemirror_mode": {
    "name": "ipython",
    "version": 2
   },
   "file_extension": ".py",
   "mimetype": "text/x-python",
   "name": "python",
   "nbconvert_exporter": "python",
   "pygments_lexer": "ipython2",
   "version": "2.7.6"
  }
 },
 "nbformat": 4,
 "nbformat_minor": 0
}
