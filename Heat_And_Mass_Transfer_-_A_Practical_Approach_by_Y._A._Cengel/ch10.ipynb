{
 "cells": [
  {
   "cell_type": "markdown",
   "metadata": {},
   "source": [
    "# Chapter 10 : Boiling and Condensation"
   ]
  },
  {
   "cell_type": "markdown",
   "metadata": {},
   "source": [
    "### Example 10.1"
   ]
  },
  {
   "cell_type": "code",
   "execution_count": 2,
   "metadata": {
    "collapsed": false
   },
   "outputs": [
    {
     "name": "stdout",
     "output_type": "stream",
     "text": [
      "(a) The rate of heat transfer during nucleate boiling becomes  5095.13655169 W\n",
      "The rate of Evaporation of water is 0.00225748185719 kg/s\n"
     ]
    }
   ],
   "source": [
    "\n",
    "import math \n",
    "# Nucleate Boiling of Water in a Pan\n",
    "Ts = 108.\t\t\t#Temp of surface of bottom of pan[degree Celcius]\n",
    "Tsat = 100.\t\t\t#Saturation temp of water[degree Celcius]\n",
    "D = 0.3 \t\t\t#Diameter[m]\n",
    "#Properties of water at the saturation temp\n",
    "rho_l = 957.9\t\t\t#Density of liquid[kg/m**3]\n",
    "rho_v = 0.6\t\t\t#Density of vapour[kg/m**3]\n",
    "Pr_l = 1.75\t\t\t#Prandtl no of liquid\n",
    "mu_l = 0.282*10**(-3)\t\t\t#Vismath.cosity of liquid[kg/m.s]\n",
    "Cp_l = 4217\t\t\t#Specific Heat of liquid[J/kg.degree Celcius]\n",
    "h_fg = 2257*10**3\t\t\t#[J/kg]\n",
    "sigma = 0.0589\t\t\t#[N/m]\n",
    "g = 9.81\t\t\t#Acc due to gravity[m/s**2]\n",
    "Csf = 0.0130\n",
    "n = 1.0;\n",
    "\n",
    "# Calculations and Results\n",
    "q_nuc = mu_l*h_fg*((g*(rho_l-rho_v)/sigma)**(1./2))*((Cp_l*(Ts-Tsat)/(Csf*h_fg*(Pr_l**n)))**3)\t\t\t#[W/m**2]\n",
    "A = math.pi*(D**2)/4\t\t\t#Surface Area of bottom of the pan[m**2]\n",
    "Q_boiling = A*q_nuc \t\t\t#[W]\n",
    "print \"(a) The rate of heat transfer during nucleate boiling becomes \",Q_boiling,\"W\"\n",
    "#Solution(b):-\n",
    "m = Q_boiling/h_fg\t\t\t#[kg/s]\n",
    "print \"The rate of Evaporation of water is\",m,\"kg/s\"\n"
   ]
  },
  {
   "cell_type": "markdown",
   "metadata": {},
   "source": [
    "### Example 10.2"
   ]
  },
  {
   "cell_type": "code",
   "execution_count": 4,
   "metadata": {
    "collapsed": false
   },
   "outputs": [
    {
     "name": "stdout",
     "output_type": "stream",
     "text": [
      "The maximum or critical heat flux is 1017411.21501 W/m**2\n",
      "The surface temperature is 119.0 degree Celcius\n"
     ]
    }
   ],
   "source": [
    "\n",
    "import math \n",
    "# Peak Heat Flux in Nucleate Boiling\n",
    "\n",
    "# Variables\n",
    "D = 0.01\t\t\t#[m]\n",
    "Tsat = 100\t\t\t#Saturation Temperature[degree Celcius]\n",
    "sigma = 0.0589\t\t\t#[N/m]\n",
    "#Properties of water at saturation temperature\n",
    "rho_l = 957.9\t\t\t#[kg/m**3]\n",
    "rho_v = 0.6\t\t\t#[kg/m**3]\n",
    "h_fg = 2257*10**3\t\t\t#[J/kg]\n",
    "mu_l = 0.282*10**(-3)\t\t\t#[kg/m.s]\n",
    "Pr_l = 1.75\t\t\t#Prandtl number\n",
    "Cp_l = 4217\t\t\t#[J/kg.degree Celcius]\n",
    "Csf = 0.0130\n",
    "n = 1.0;\n",
    "g = 9.81\t\t\t#[m/s**2]\n",
    "\n",
    "# Calculations and Results\n",
    "L_ = (D/2)*((g*(rho_l-rho_v)/sigma)**(1./2))\t\t\t#dimensionless Parameter\n",
    "#For this value of L_ we have \n",
    "C_cr = 0.12\t\t\t#Constant\n",
    "q_max = C_cr*h_fg*((sigma*g*(rho_v**2)*(rho_l-rho_v))**(1./4))\t\t\t#[W/m**2]\n",
    "print \"The maximum or critical heat flux is\",q_max,\"W/m**2\"\n",
    "\n",
    "Ts = (((q_max/(mu_l*h_fg*((g*(rho_l-rho_v)/sigma)**(1./2))))**(1./3))*(Csf*h_fg*Pr_l**n)/Cp_l)+Tsat\t\t\t#[degree Celcius]\n",
    "print \"The surface temperature is\",round(Ts),\"degree Celcius\"\n"
   ]
  },
  {
   "cell_type": "markdown",
   "metadata": {},
   "source": [
    "### Example 10.3"
   ]
  },
  {
   "cell_type": "code",
   "execution_count": 1,
   "metadata": {
    "collapsed": false
   },
   "outputs": [
    {
     "name": "stdout",
     "output_type": "stream",
     "text": [
      "The film boiling heat flux is 63008.0039829 W/m**2)\n",
      "The radiation heat flux is 372.19933107 W/m**2\n",
      "The total heat flux is 63287.1534812 W/m**2\n",
      "The rate of heat transfer from the heating element to the water is 994.112282215 W\n"
     ]
    }
   ],
   "source": [
    "\n",
    "import math \n",
    "# Film Boiling of Water on a Heating Element\n",
    "\n",
    "# Variables\n",
    "D = 0.005\t\t\t#[m]\n",
    "e = 0.05\t\t\t#Emissivity\n",
    "Ts = 350\t\t\t#Surface temperature[degree Celcius]\n",
    "Tsat = 100\t\t\t#[degree Celcius]\n",
    "Tf = (Ts+Tsat)/2\t\t\t#[degree Celcius]\n",
    "g = 9.81\t\t\t#[m/s**2]\n",
    "#Properties of water at Tsat\n",
    "rho_l = 957.9\t\t\t#[kg/m**3]\n",
    "h_fg = 2257*10**3\t\t\t#[J/kg]\n",
    "#Properties of vapor at film temp\n",
    "rho_v = 0.444\t\t\t#[kg/m**3]\n",
    "Cp_v = 1951\t\t\t#[J/kg.degree Celcius]\n",
    "mu_v = 1.75*10**(-5)\t\t\t#[kg/m.s]\n",
    "k_v = 0.0388\t\t\t#[W/m.degree Celcius]\n",
    "\n",
    "# Calculations and Results\n",
    "q_film = 0.62*(((g*(k_v**3)*rho_v*(rho_l-rho_v)*(h_fg+(0.4*Cp_v*(Ts-Tsat))))/(mu_v*D*(Ts-Tsat)))**(1./4))*(Ts-Tsat)\t\t\t#[W/m**2]\n",
    "print \"The film boiling heat flux is\",q_film,\"W/m**2)\"\n",
    "\n",
    "q_rad = e*(5.67*10**(-8))*(((Ts+273)**4)-((Tsat+273)**4))\t\t\t#[W/m**2]\n",
    "print \"The radiation heat flux is\",q_rad,\"W/m**2\"\n",
    "\n",
    "q_total = q_film+(3./4)*q_rad\t\t\t#[W/m**2]\n",
    "print \"The total heat flux is\",q_total,\"W/m**2\"\n",
    "\n",
    "Q_total = (math.pi*D*1)*q_total\t\t\t#[W]\n",
    "print \"The rate of heat transfer from the heating element to the water is\",Q_total,\"W\"\n"
   ]
  },
  {
   "cell_type": "markdown",
   "metadata": {},
   "source": [
    "### Example 10.4"
   ]
  },
  {
   "cell_type": "code",
   "execution_count": 7,
   "metadata": {
    "collapsed": false
   },
   "outputs": [
    {
     "name": "stdout",
     "output_type": "stream",
     "text": [
      "The modified latent heat of vapourization is 2314201.6 J/kg\n",
      "For wavy laminar flow Reynolds number is 1287.24272174\n",
      "The conensation heat transfer coefficient is 5850.17651749 W/m**2.degree Celcius\n",
      "The rate of heat transfer during condensation process is 702021.182099 W\n",
      "The rate of condensation of steam is 0.303353511682 kg/s\n"
     ]
    }
   ],
   "source": [
    "\n",
    "import math \n",
    "# Condensation of steam on a Vertical Plate\n",
    "\n",
    "# Variables\n",
    "Tsat = 100\n",
    "Ts = 80\t\t\t#[degree Celcius]\n",
    "Tf = (Ts+Tsat)/2\t\t\t#[degree Celcius]\n",
    "L = 2\n",
    "w = 3\t\t\t#Dimensions of Plate[m]\n",
    "g = 9.81\t\t\t#[m/s**2]\n",
    "#Properties of water at Tsat\n",
    "h_fg = 2257*10**3\t\t\t#[J/kg]\n",
    "rho_v = 0.60\t\t\t#[kg/m**3]\n",
    "#Properties of liquid water at Tf\n",
    "rho_l = 965.3\t\t\t#[kg/m**3]\n",
    "mu_l = 0.315*10**(-3)\t\t\t#[kg/m.s\n",
    "Cp_l = 4206\t\t\t#[J/kg.degree Celcius]\n",
    "k_l = 0.675\t\t\t#[W/m.degree Celcius]\n",
    "nu_l = 0.326*10**(-6)\t\t\t#[m**2/s]\n",
    "\n",
    "# Calculations and Results\n",
    "h_fg_m = h_fg+0.68*Cp_l*(Tsat-Ts)\t\t\t#[J/kg]\n",
    "print \"The modified latent heat of vapourization is\",h_fg_m,\"J/kg\"\n",
    "\n",
    "Re = ((4.81+((3.70*L*k_l*(Tsat-Ts)*((g/nu_l**2)**(1./3)))/(mu_l*h_fg_m)))**(0.820));\n",
    "print \"For wavy laminar flow Reynolds number is\",Re\n",
    "\n",
    "h = (Re*k_l*((g/nu_l**2)**(1./3)))/((1.08*(Re**(1.22)))-5.2)\t\t\t#[W/m**2.degree Celcius]\n",
    "print \"The conensation heat transfer coefficient is\",h,\"W/m**2.degree Celcius\"\n",
    "\n",
    "As = w*L\t\t\t        #[m**2]\n",
    "Q = h*As*(Tsat-Ts)\t\t\t#[W]\n",
    "print \"The rate of heat transfer during condensation process is\",Q,\"W\"\n",
    "\n",
    "#Solution (b)\n",
    "m = Q/h_fg_m\t\t\t#[kg/s]\n",
    "print \"The rate of condensation of steam is\",m,\"kg/s\"\n"
   ]
  },
  {
   "cell_type": "markdown",
   "metadata": {},
   "source": [
    "### Example 10.5"
   ]
  },
  {
   "cell_type": "code",
   "execution_count": 8,
   "metadata": {
    "collapsed": false
   },
   "outputs": [
    {
     "name": "stdout",
     "output_type": "stream",
     "text": [
      "The modified latent heat of vapourization is 2314201.6 J/kg\n",
      "For wavy laminar flow Reynolds number is 1287.24272174\n",
      "The conensation heat transfer coefficient is 5643.54026792 W/m**2.degree Celcius\n",
      "The rate of heat transfer during condensation process is 677224.83215 W\n",
      "The rate of condensation of steam is 0.292638650043 kg/s\n"
     ]
    }
   ],
   "source": [
    "\n",
    "import math \n",
    "# Condensation of steam on a Vertical Tilted Plate\n",
    "\n",
    "# Variables\n",
    "Tsat = 100\n",
    "Ts = 80\t\t\t#[degree Celcius]\n",
    "Tf = (Ts+Tsat)/2\t\t\t#[degree Celcius]\n",
    "L = 2\n",
    "w = 3\t\t\t#Dimensions of Plate[m]\n",
    "g = 9.81\t\t\t#[m/s**2]\n",
    "#Properties of water at Tsat\n",
    "h_fg = 2257*10**3\t\t\t#[J/kg]\n",
    "rho_v = 0.60\t\t\t#[kg/m**3]\n",
    "#Properties of liquid water at Tf\n",
    "rho_l = 965.3\t\t\t#[kg/m**3]\n",
    "mu_l = 0.315*10**(-3)\t\t\t#[kg/m.s\n",
    "Cp_l = 4206\t\t\t#[J/kg.degree Celcius]\n",
    "k_l = 0.675\t\t\t#[W/m.degree Celcius]\n",
    "nu_l = 0.326*10**(-6)\t\t\t#[m**2/s]\n",
    "theta = (math.pi/6)\t\t\t#Angle at which plate is tilted[radians]\n",
    "\n",
    "# Calculations and Results\n",
    "h_fg_m = h_fg+0.68*Cp_l*(Tsat-Ts)\t\t\t#[J/kg]\n",
    "print \"The modified latent heat of vapourization is\",h_fg_m,\"J/kg\"\n",
    "\n",
    "Re = ((4.81+((3.70*L*k_l*(Tsat-Ts)*((g/nu_l**2)**(1./3)))/(mu_l*h_fg_m)))**(0.820));\n",
    "print \"For wavy laminar flow Reynolds number is\",Re\n",
    "\n",
    "h = ((Re*k_l*((g/nu_l**2)**(1./3)))/((1.08*(Re**(1.22)))-5.2))*((math.cos(theta))**(1./4))\t\t\t#[W/m**2.degree Celcius]\n",
    "print \"The conensation heat transfer coefficient is\",h,\"W/m**2.degree Celcius\"\n",
    "\n",
    "As = w*L\t\t\t        #[m**2]\n",
    "Q = h*As*(Tsat-Ts)\t\t\t#[W]\n",
    "print \"The rate of heat transfer during condensation process is\",Q,\"W\"\n",
    "\n",
    "#Solution (b)\n",
    "m = Q/h_fg_m\t\t\t#[kg/s]\n",
    "print \"The rate of condensation of steam is\",m,\"kg/s\"\n"
   ]
  },
  {
   "cell_type": "markdown",
   "metadata": {},
   "source": [
    "### Example 10.6"
   ]
  },
  {
   "cell_type": "code",
   "execution_count": 9,
   "metadata": {
    "collapsed": false
   },
   "outputs": [
    {
     "name": "stdout",
     "output_type": "stream",
     "text": [
      "(a) The modified latent heat of vapourisation is 2435410.4 J/kg\n",
      "The heat transfer coefficient for condensation on a single horizontal tube is 9294.6621572 W/m**2.degree Celcius\n",
      "The rate of heat transfer during condensation Process is 8760.0127052 W\n",
      "(b) The rate of condensation of steam is 0.00359693491709 kg/s\n"
     ]
    }
   ],
   "source": [
    "\n",
    "import math \n",
    "# Condensation of Steam on horizontal Tubes\n",
    "\n",
    "# Variables\n",
    "Tsat = 40   \t\t    \t#[degree Celcius]\n",
    "D = 0.03\t    \t\t    #[m]\n",
    "Ts = 30 \t\t        \t#Outer Surface temperature of tube[degree Celcius]\n",
    "Tf = (Ts+Tsat)/2\t\t\t#Film Temperature[degree Celcius]\n",
    "g = 9.81\t\t\t        #[m/s**2]\n",
    "#Properties of water at the saturation temp\n",
    "h_fg = 2407*10**3\t\t\t#[J/kg]\n",
    "rho_v = 0.05\t    \t\t#[kg/m**3]\n",
    "#Properties of liquid water at the film temperature\n",
    "rho_l = 994 \t    \t\t#[kg/m**3]\n",
    "Cp_l = 4178\t    \t    \t#[J/kg.degree Celcius]\n",
    "mu_l = 0.720*10**(-3)\t\t#[kg/m.s]\n",
    "k_l = 0.623\t\t\t        #[W/m.degree Celcius]\n",
    "\n",
    "# Calculations and Results\n",
    "h_fg_m = h_fg+0.68*Cp_l*(Tsat-Ts)\t\t\t#[J/kg]\n",
    "print \"(a) The modified latent heat of vapourisation is\",h_fg_m,\"J/kg\"\n",
    "\n",
    "h_hori = 0.729*(((g*(rho_l**2)*h_fg_m*(k_l**3))/(mu_l*D*(Tsat-Ts)))**(1./4))\t\t\t#[W/m**2.degree Celcius]\n",
    "print \"The heat transfer coefficient for condensation on a single horizontal tube is\",h_hori,\"W/m**2.degree Celcius\"\n",
    "\n",
    "As = math.pi*D*1\t\t\t#[m**2]\n",
    "Q = h_hori*As*(Tsat-Ts)\t\t\t#[W]\n",
    "print \"The rate of heat transfer during condensation Process is\",Q,\"W\"\n",
    "\n",
    "#Solution (b)\n",
    "m = Q/h_fg_m\t\t\t#[kg/s]\n",
    "print \"(b) The rate of condensation of steam is\",m,\"kg/s\"\n"
   ]
  },
  {
   "cell_type": "markdown",
   "metadata": {},
   "source": [
    "### Example 10.7"
   ]
  },
  {
   "cell_type": "code",
   "execution_count": 10,
   "metadata": {
    "collapsed": false
   },
   "outputs": [
    {
     "name": "stdout",
     "output_type": "stream",
     "text": [
      "(a) The modified latent heat of vapourisation is 2435410.4 J/kg\n",
      "The heat transfer coefficient for condensation 12 horizontal tube is 7062.41599312 W/m**2.degree Celcius\n",
      "The rate of heat transfer during condensation Process is 79874.0431221 W\n",
      "(b) The rate of condensation of steam is 0.0327969541076 kg/s\n"
     ]
    }
   ],
   "source": [
    "\n",
    "import math \n",
    "# Condensation of Steam on horizontal Tube Banks\n",
    "\n",
    "# Variables\n",
    "Tsat = 40\t    \t\t#[degree Celcius]\n",
    "D = 0.03\t\t    \t#[m]\n",
    "Ts = 30\t\t\t        #Outer Surface temperature of tube[degree Celcius]\n",
    "Tf = (Ts+Tsat)/2\t\t\t#Film Temperature[degree Celcius]\n",
    "g = 9.81\t\t    \t#[m/s**2]\n",
    "N = 3\t\t\t        #No of tubes in a vertical tier\n",
    "N_total = 12\t\t\t#Total number of tubes\n",
    "#Properties of water at the saturation temp\n",
    "h_fg = 2407*10**3\t\t\t#[J/kg]\n",
    "rho_v = 0.05\t\t\t#[kg/m**3]\n",
    "#Properties of liquid water at the film temperature\n",
    "rho_l = 994\t\t\t#[kg/m**3]\n",
    "Cp_l = 4178\t\t\t#[J/kg.degree Celcius]\n",
    "mu_l = 0.720*10**(-3)\t\t\t#[kg/m.s]\n",
    "k_l = 0.623\t\t\t#[W/m.degree Celcius]\n",
    "\n",
    "# Calculations and Results\n",
    "h_fg_m = h_fg+0.68*Cp_l*(Tsat-Ts)\t\t\t#[J/kg]\n",
    "print \"(a) The modified latent heat of vapourisation is\",h_fg_m,\"J/kg\"\n",
    "\n",
    "h_hori_N = (0.729*(((g*(rho_l**2)*h_fg_m*(k_l**3))/(mu_l*D*(Tsat-Ts)))**(1./4)))*(1/(N**(1./4)))\t\t\t#[W/m**2.degree Celcius]\n",
    "print \"The heat transfer coefficient for condensation 12 horizontal tube is\",h_hori_N,\"W/m**2.degree Celcius\"\n",
    "\n",
    "As = math.pi*D*1*N_total\t\t\t#[m**2]\n",
    "Q = h_hori_N*As*(Tsat-Ts)\t\t\t#[W]\n",
    "print \"The rate of heat transfer during condensation Process is\",Q,\"W\"\n",
    "\n",
    "#Solution (b)\n",
    "m = Q/h_fg_m\t\t\t#[kg/s]\n",
    "print \"(b) The rate of condensation of steam is\",m,\"kg/s\"\n"
   ]
  },
  {
   "cell_type": "markdown",
   "metadata": {},
   "source": [
    "### Example 10.8"
   ]
  },
  {
   "cell_type": "code",
   "execution_count": 11,
   "metadata": {
    "collapsed": false
   },
   "outputs": [
    {
     "name": "stdout",
     "output_type": "stream",
     "text": [
      "The diameter of the copper pipe is 23.9066721377 cm\n",
      "Mass of the copper rod is 120.0 kg\n"
     ]
    }
   ],
   "source": [
    "\n",
    "import math \n",
    "# Replacing a Heat Pipe by a Copper Rod\n",
    "\n",
    "# Variables\n",
    "L = 0.3\t\t\t#[m]\n",
    "D = 0.006\t\t\t#[m]\n",
    "Q = 180.\t\t\t#[W]\n",
    "del_T = 3.\t\t\t#Temperature Difference [degree Celcius]\n",
    "#Properties of copper at room temperature\n",
    "rho = 8933.\t\t\t#[kg/m**3]\n",
    "k = 401.\t\t\t#[W/m.degree Celcius]\n",
    "\n",
    "# Calculations and Results\n",
    "A = Q*L/(k*del_T)\t\t\t#[m**2]\n",
    "d = math.sqrt(4*A/math.pi)\t\t\t#[m]\n",
    "print \"The diameter of the copper pipe is\",100*d,\"cm\"\n",
    "m = rho*A*L\t\t\t#[kg]\n",
    "print \"Mass of the copper rod is\",round(m),\"kg\"\n"
   ]
  }
 ],
 "metadata": {
  "kernelspec": {
   "display_name": "Python 2",
   "language": "python",
   "name": "python2"
  },
  "language_info": {
   "codemirror_mode": {
    "name": "ipython",
    "version": 2
   },
   "file_extension": ".py",
   "mimetype": "text/x-python",
   "name": "python",
   "nbconvert_exporter": "python",
   "pygments_lexer": "ipython2",
   "version": "2.7.6"
  }
 },
 "nbformat": 4,
 "nbformat_minor": 0
}
