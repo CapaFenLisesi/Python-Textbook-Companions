{
 "cells": [
  {
   "cell_type": "markdown",
   "metadata": {},
   "source": [
    "# Chapter 14 : Mass Transfer"
   ]
  },
  {
   "cell_type": "markdown",
   "metadata": {},
   "source": [
    "### Example 14.1"
   ]
  },
  {
   "cell_type": "code",
   "execution_count": 1,
   "metadata": {
    "collapsed": false
   },
   "outputs": [
    {
     "name": "stdout",
     "output_type": "stream",
     "text": [
      "The molar mass of air is 28.955 kg/kmol\n",
      "The mass fractions of N2, O2 and Ar in dry standard atmosphere are 75.5240891038 percent , 23.0979105509 percent and 1.37800034536 percent respectively\n"
     ]
    }
   ],
   "source": [
    "\n",
    "import math \n",
    "# Determining Mass Fractions from Mole Fractions\n",
    "\n",
    "# Variables\n",
    "yN2 = 0.781\n",
    "yO2 = 0.209\n",
    "yAr = 0.01\t\t\t#Mole fractions\n",
    "M_N2 = 28\n",
    "M_O2 = 32\n",
    "M_Ar = 39.9\t\t\t#Molar Masses \n",
    "\n",
    "# Calculations and Results\n",
    "M_air = yN2*M_N2+yO2*M_O2+yAr*M_Ar\t\t\t#[kg/kmol]\n",
    "print \"The molar mass of air is\",M_air,\"kg/kmol\"\n",
    "\n",
    "w_N2 = yN2*M_N2/M_air;\n",
    "w_O2 = yO2*M_O2/M_air;\n",
    "w_Ar = yAr*M_Ar/M_air;\n",
    "print \"The mass fractions of N2, O2 and Ar in dry standard atmosphere are\" \\\n",
    ",100*w_N2,\"percent\",\",\",100*w_O2,\"percent\",\"and\",100*w_Ar,\"percent\",\"respectively\"\n"
   ]
  },
  {
   "cell_type": "markdown",
   "metadata": {},
   "source": [
    "### Example 14.2"
   ]
  },
  {
   "cell_type": "code",
   "execution_count": 2,
   "metadata": {
    "collapsed": false
   },
   "outputs": [
    {
     "name": "stdout",
     "output_type": "stream",
     "text": [
      "The mole fraction of water vapor in the air at the surface of lake is 0.0185326086957\n",
      "Mole fraction of liquid water in lake 0.981467391304\n"
     ]
    }
   ],
   "source": [
    "\n",
    "import math \n",
    "# Mole Fraction of Water Vapor at the surface of a Lake\n",
    "\n",
    "# Variables\n",
    "P_vapor = 1.705\t\t\t#Partial Pressure of water vapor in the air at the lake surface is saturation pressure of watre at 15 degree Celcius[kPa]\n",
    "T_lake = 15.\t\t\t#[degree Celcius]\n",
    "P = 92. \t\t    \t#Atmospheric pressure at lake level [kPa]\n",
    "\n",
    "# Calculations and Results\n",
    "y_vapor = P_vapor/P;\n",
    "print \"The mole fraction of water vapor in the air at the surface of lake is\",y_vapor\n",
    "\n",
    "y_water = 1-y_vapor\t\t\t#Since water contains dissolved air\n",
    "print \"Mole fraction of liquid water in lake\",y_water\n"
   ]
  },
  {
   "cell_type": "markdown",
   "metadata": {},
   "source": [
    "### Example 14.3"
   ]
  },
  {
   "cell_type": "code",
   "execution_count": 3,
   "metadata": {
    "collapsed": false
   },
   "outputs": [
    {
     "name": "stdout",
     "output_type": "stream",
     "text": [
      "The partial pressure of dry air is 0.9004 bar\n",
      "The mole fraction of air in the water is 1.45225806452e-05\n"
     ]
    }
   ],
   "source": [
    "\n",
    "import math \n",
    "# Mole Fraction of Dissolved Air in Water\n",
    "\n",
    "# Variables\n",
    "P_vapor = 1.96\t\t\t#The partial presure of water vapor in the air at the lake surface is the saturation pressure of water at 17 degree Celcius\n",
    "H = 62000.  \t\t\t#Henry's consmath.tant for air dissolved in water at 290K[bar]\n",
    "P = 92.  \t    \t\t#Atmospheric Pressure at lake level[kPa]\n",
    "\n",
    "# Calculations and Results\n",
    "P_dryair = P-P_vapor\t\t\t#[kPa]\n",
    "print \"The partial pressure of dry air is\",P_dryair/100,\"bar\"\n",
    "\n",
    "y_dryair = (P_dryair/100)/H;\n",
    "print \"The mole fraction of air in the water is\",y_dryair\n"
   ]
  },
  {
   "cell_type": "markdown",
   "metadata": {},
   "source": [
    "### Example 14.4"
   ]
  },
  {
   "cell_type": "code",
   "execution_count": 4,
   "metadata": {
    "collapsed": false
   },
   "outputs": [
    {
     "name": "stdout",
     "output_type": "stream",
     "text": [
      "The molar density of hydrogen in the nickel at the interface is 0.02703 kmol/m**3\n",
      "Mass Density of hydrogen is 0.05406 kg/m**3\n"
     ]
    }
   ],
   "source": [
    "\n",
    "import math \n",
    "# Diffusion of Hydrogen Gas into a Nickel Plate\n",
    "\n",
    "# Variables\n",
    "s = 0.00901\t\t    \t#Solubility of hydrogen in nickel at 358K[kmol/m**3.bar]\n",
    "P_H2 = 300./100\t\t\t#[bar]\n",
    "M_H2 = 2\t\t\t    #Molar Mass of hydrogen[kg/kmol]\n",
    "\n",
    "# Calculations and Results\n",
    "C_H2 = s*P_H2\t\t\t#[kmol/m**3]\n",
    "print \"The molar density of hydrogen in the nickel at the interface is\",C_H2,\"kmol/m**3\"\n",
    "\n",
    "rho_H2 = C_H2*M_H2\t\t\t#[kg/m**3]\n",
    "print \"Mass Density of hydrogen is\",rho_H2,\"kg/m**3\"\n"
   ]
  },
  {
   "cell_type": "markdown",
   "metadata": {},
   "source": [
    "### Example 14.5"
   ]
  },
  {
   "cell_type": "code",
   "execution_count": 5,
   "metadata": {
    "collapsed": false
   },
   "outputs": [
    {
     "name": "stdout",
     "output_type": "stream",
     "text": [
      "The molar flow rate of hydrogen through the shell by diffusion is 1.22796563024e-10 kmol/s\n",
      "The mass flow rate of hydrogen is 2.45593126048e-10 kg/s\n"
     ]
    }
   ],
   "source": [
    "\n",
    "import math \n",
    "# Diffusion of Hydrogen through a Spherical Container\n",
    "\n",
    "# Variables\n",
    "CA1 = 0.087\n",
    "CA2 = 0 \t\t\t#Molar concentration of hydrogen in the nickel at inner and outer surfaces[kmol/m**3]\n",
    "r2 = 4.8/2\t\t\t#Outer radius[m]\n",
    "t = 0.06\t\t\t#Thickness of shell[m]\n",
    "D_AB = 1.2*(10**(-12))\t\t\t#Diffusion coefficient for hydrogen in the nickel at the specified temperature is[m**2/s]\n",
    "M_H2 = 2\t\t\t#Molar Mass of H2[kg/kmol]\n",
    "\n",
    "# Calculations and Results\n",
    "r1 = ((2*r2)-(2*t))/2\t\t\t#Inner radius[m]\n",
    "N_diff = 4*math.pi*r1*r2*D_AB*(CA1-CA2)/(r2-r1);\n",
    "print \"The molar flow rate of hydrogen through the shell by diffusion is\",N_diff,\"kmol/s\"\n",
    "\n",
    "m_diff = M_H2*N_diff;\n",
    "print \"The mass flow rate of hydrogen is\",m_diff,\"kg/s\"\n"
   ]
  },
  {
   "cell_type": "markdown",
   "metadata": {},
   "source": [
    "### Example 14.6"
   ]
  },
  {
   "cell_type": "code",
   "execution_count": 6,
   "metadata": {
    "collapsed": false
   },
   "outputs": [
    {
     "name": "stdout",
     "output_type": "stream",
     "text": [
      "The rate of heat transfer through unit area of wall is 11.8032786885 W\n",
      "The temperature of outer sheathing interface is -11.2786885246 degree Celcius\n",
      "The vapor pressure at the indoor and the outdoor is 1404.0 Pa and 106.0 Pa\n",
      "The rate of moisture flow through the interior and exterior parts of the wall is 94354.8387097 ng/s and 3911.58536585 ng/s\n",
      "The moisture is freezing in the insulation at the rate of 90443.2533438 ng/s\n"
     ]
    }
   ],
   "source": [
    "\n",
    "import math \n",
    "# Condensation and Freezing of Moisture in Walls\n",
    "\n",
    "Ti = 20\n",
    "To = -16\t\t\t#Indoor and outdoor temperatures[degree Celcius]\n",
    "R_wall = 3.05\t\t\t#Total thermal resismath.tance of the wall[m**2.degree Celcius/W]\n",
    "A = 1\t\t\t#Heat transfer area[m**2]\n",
    "R_ext = 0.40\t\t\t#The thermal resismath.tance of the exterior part of the wall beyond the insulation[m**2.degree Celcius/W]\n",
    "Rv_int = 0.012+0.0004\n",
    "Rv_ext = 0.0138+0.019\t\t\t#Indoor and outdoor vapor resismath.tances[Pa.m**2.s/ng]\n",
    "phi1 = 0.6\n",
    "phi2 = 0.7\t\t\t#Indoor and outdoor Relative Humidity \n",
    "Psat1 = 2340\n",
    "Psat2 = 151\t\t\t#Indoor and outdoor saturation pressures[Pa]\n",
    "\n",
    "# Calculations and Results\n",
    "Q_wall = A*(Ti-To)/R_wall\t\t\t#[W]\n",
    "print \"The rate of heat transfer through unit area of wall is\",Q_wall,\"W\"\n",
    "\n",
    "T_I = To+(Q_wall*R_ext);\n",
    "print \"The temperature of outer sheathing interface is\",T_I,\"degree Celcius\"\n",
    "\n",
    "P = 234\t\t\t#The saturation pressure of water at temp T_I[Pa]\n",
    "Pv1 = phi1*Psat1;\n",
    "Pv2 = phi2*Psat2;\n",
    "print \"The vapor pressure at the indoor and the outdoor is\" \\\n",
    ",Pv1,\"Pa\",\"and\",round(Pv2),\"Pa\"\n",
    "\n",
    "mv_int = A*(Pv1-P)/Rv_int;\n",
    "mv_ext = A*(P-Pv2)/Rv_ext;\n",
    "print \"The rate of moisture flow through the interior and exterior parts of the wall is\" \\\n",
    ",mv_int,\"ng/s\",\"and\",mv_ext,\"ng/s\"\n",
    "\n",
    "mv_freezing = mv_int-mv_ext;\n",
    "print \"The moisture is freezing in the insulation at the rate of\",mv_freezing,\"ng/s\"\n"
   ]
  },
  {
   "cell_type": "markdown",
   "metadata": {},
   "source": [
    "### Example 14.7"
   ]
  },
  {
   "cell_type": "code",
   "execution_count": 7,
   "metadata": {
    "collapsed": false
   },
   "outputs": [
    {
     "name": "stdout",
     "output_type": "stream",
     "text": [
      "Time taken to reach desired level of hardening is 4505.0 seconds\n"
     ]
    }
   ],
   "source": [
    "\n",
    "import math \n",
    "# Hardening of Steel by the diffusion of carbon\n",
    "\n",
    "# Variables\n",
    "D_AB = 4.8*10**(-10)\t\t\t#Diffusion coefficient of carbon in steel at the furnace temperature [m**2/s]\n",
    "wA_i = 0.0015\t\t        \t#Initial carbon concentration\n",
    "wA_e = 0.012\t\t        \t#Equilibrium concentration of carbon\n",
    "wA_t = 0.01 \t    \t    \t#Concentration of carbon after desired time\n",
    "x = 0.0005      \t\t\t    #Diffusion dismath.tance[m]\n",
    "\n",
    "# Calculations\n",
    "a = (wA_t-wA_i)/(wA_e-wA_i);\n",
    "#Tthe argument whose complimentary error function is a = 0.81 is 0.17\n",
    "t = (x**2)/(4*D_AB*(0.17**2))\t\t\t#[seconds]\n",
    "\n",
    "# Results\n",
    "print \"Time taken to reach desired level of hardening is\",round(t),\"seconds\"\n"
   ]
  },
  {
   "cell_type": "markdown",
   "metadata": {},
   "source": [
    "### Example 14.8"
   ]
  },
  {
   "cell_type": "code",
   "execution_count": 10,
   "metadata": {
    "collapsed": false
   },
   "outputs": [
    {
     "name": "stdout",
     "output_type": "stream",
     "text": [
      "The molar flow rate of Helium is 3.85349046335e-12 kmol/s\n",
      "Mass flow rate of helium is 1.54139618534e-11 kg/s\n",
      "The flow rate of air into the pipeline is -1.11751223437e-10 kg/s\n",
      "Mass fraction of air in the helium pipeline is 1.16 which is negligible\n",
      "The average flow velocity at the bottom of the tube is -2.99695101963e-05 m/s\n"
     ]
    }
   ],
   "source": [
    "\n",
    "import math \n",
    "# Venting of Helium into the Atmosphere by Diffusion\n",
    "\n",
    "# Variables\n",
    "D_AB = 7.2*10**(-5)\t\t\t#Diffusion coefficient of air in helium[m**2/s]\n",
    "M_He = 4\n",
    "M_air = 29\t\t\t#Molar masses of helium and air[kg/kmol]\n",
    "D = 0.005       \t\t\t#Internal diameter of tube[m]\n",
    "L = 15\t\t            \t#Length of tube[m]\n",
    "R1 = 8.314  \t    \t\t#Universal Gas Consmath.tant[kPa.m**3/kmol.K]\n",
    "R2 = 2.0769\t\t    \t    #Universal Gas Consmath.tant[kPa.m**3/kg.K]\n",
    "T = 298\t\t\t            #/Ambient temperature[K]\n",
    "\n",
    "# Calculations and Results\n",
    "A = math.pi*(D**2)/4\t\t\t#Flow area[m**2]\n",
    "P_He0 = 1\n",
    "P_HeL = 0\t\t\t#Pressure of helium at x = 0 i.e. bottom of tube and at x = L i.e. at the top of the tube [atm]\n",
    "N_He = D_AB*A*(P_He0-P_HeL)*(101.3)/(R1*T*L);\n",
    "print \"The molar flow rate of Helium is\",N_He,\"kmol/s\"\n",
    "\n",
    "m_He = N_He*M_He;\n",
    "print \"Mass flow rate of helium is\",m_He,\"kg/s\"\n",
    "\n",
    "N_air = -N_He\t\t\t#Equimolar counter diffusion process\n",
    "m_air = N_air*M_air;\n",
    "print \"The flow rate of air into the pipeline is\",m_air,\"kg/s\"\n",
    "\n",
    "w_air = m_air/(m_air+m_He);\n",
    "print \"Mass fraction of air in the helium pipeline is\",w_air,\"which is negligible\"\n",
    "\n",
    "m_net = m_He+m_air\t\t\t#[kg/s]\n",
    "#Taking density of mixture at x = 0 to be the density of helium as the \n",
    "# mass fraction of air at the bottom is very small\n",
    "rho = P_He0*101.325/(R2*T)\t\t\t#[kg/m**3]\n",
    "V = m_net/(rho*A)\t\t\t#[m/s]\n",
    "print \"The average flow velocity at the bottom of the tube is\",V,\"m/s\"\n"
   ]
  },
  {
   "cell_type": "markdown",
   "metadata": {},
   "source": [
    "### Example 14.9"
   ]
  },
  {
   "cell_type": "code",
   "execution_count": 11,
   "metadata": {
    "collapsed": false
   },
   "outputs": [
    {
     "name": "stdout",
     "output_type": "stream",
     "text": [
      "The mole fraction of water vapor (species A) at the Interface is 0.0280239520958\n",
      "The cross sectional area of tube 0.000706858347058 m**2\n",
      "The molar flow rate of vapor is 5.27263374486e-11 kmol/s\n",
      "Binary diffusion coefficient of water vapor in air at 20 degree Celcius and 83.5kPa 3.0623821858e-05 m**2/s\n"
     ]
    }
   ],
   "source": [
    "\n",
    "import math \n",
    "# Measuring Diffusion Coefficient by the Stefan tube\n",
    "\n",
    "# Variables\n",
    "D = 0.03\t\t\t#Diameter of tube[m]\n",
    "P = 83.5\t\t\t#Atmospheric Pressure at an elevation of 1600m[kPa]\n",
    "T = 20+273\t\t\t#Ambient temperature[K]\n",
    "R = 8.314\t\t\t#Universal Gas Consmath.tant[kPa.m**3/kmol.K]\n",
    "P_vapor0 = 2.34\t\t\t#The saturation pressure of water at 20 degree Celcius[kPa]\n",
    "M_vapor = 18\t\t\t#Molar mass of water vapor[kg/kmol]\n",
    "x = 0.4\t\t\t#Dismath.tance from water surface to the open end of the tube[m]\n",
    "\n",
    "# Calculations and Results\n",
    "#water vapor is species A\n",
    "yA0 = P_vapor0/P;\n",
    "print \"The mole fraction of water vapor (species A) at the Interface is\",yA0\n",
    "yAL = 0 \t\t\t#mole fraction of water vapor on the top of the tube\n",
    "C = P/(R*T)\t\t\t#[kmol/m**3]\n",
    "A = math.pi*(D**2)/4\t\t\t#[m**2]\n",
    "print \"The cross sectional area of tube\",A,\"m**2\"\n",
    "\n",
    "m_vapor = (1.23*10**(-3))/(15*24*3600)\t\t\t#Rate of evaporation [kg/s]\n",
    "N_vapor = m_vapor/M_vapor;\n",
    "print \"The molar flow rate of vapor is\",N_vapor,\"kmol/s\"\n",
    "\n",
    "D_AB = (N_vapor/A)*(x/C)/math.log((1-yAL)/(1-yA0));\n",
    "print \"Binary diffusion coefficient of water vapor in air at 20 degree Celcius and 83.5kPa\" \\\n",
    ",D_AB,\"m**2/s\"\n"
   ]
  },
  {
   "cell_type": "markdown",
   "metadata": {},
   "source": [
    "### Example 14.10"
   ]
  },
  {
   "cell_type": "code",
   "execution_count": 12,
   "metadata": {
    "collapsed": false
   },
   "outputs": [
    {
     "name": "stdout",
     "output_type": "stream",
     "text": [
      "The mass diffusivity of water vapor in air at 300K is 2.53767993801e-05 m**2/s\n",
      "The Reynolds number for internal flow is 1139.0\n",
      "laminar Flow\n",
      "The mass transfer coefficient is 0.00619193904874 m/s\n"
     ]
    }
   ],
   "source": [
    "\n",
    "import math \n",
    "# Mass Convection inside a Circular Pipe\n",
    "\n",
    "# Variables\n",
    "D = 0.015\t\t\t#Inner Diameter[m]\n",
    "T = 300\t\t\t#Temp of air[K]\n",
    "P = 1\t\t\t#Pressure of air[atm]\n",
    "v = 1.2\t\t\t#Average velocity of air[m/s]\n",
    "nu = 1.58*10**(-5)\t\t\t#Vismath.cosity[m**2/s]\n",
    "\n",
    "# Calculations and Results\n",
    "#Water is Species Aand air is species B\n",
    "D_AB = (1.87*10**(-10))*(T**2.072)/P\t\t\t#[m**2/s]\n",
    "print \"The mass diffusivity of water vapor in air at 300K is\",D_AB,\"m**2/s\"\n",
    "Re = v*D/nu;\n",
    "print \"The Reynolds number for internal flow is\",round(Re)\n",
    "if(Re<2300):\n",
    "    print (\"laminar Flow\")\n",
    "    Sh = 3.66\t\t\t#Sherwood number equals to Nusselt number\n",
    "    h_mass = Sh*D_AB/D\t\t\t#[m/s]\n",
    "    print \"The mass transfer coefficient is\",h_mass,\"m/s\"\n",
    "else:\n",
    "    print (\"Flow is not laminar\")\n"
   ]
  },
  {
   "cell_type": "markdown",
   "metadata": {},
   "source": [
    "### Example 14.11"
   ]
  },
  {
   "cell_type": "code",
   "execution_count": 14,
   "metadata": {
    "collapsed": false
   },
   "outputs": [
    {
     "name": "stdout",
     "output_type": "stream",
     "text": [
      "Mass fraction at the surface is 0.000479916962318\n",
      "The rate of evaporation of napthalene is 1.33333333333e-05 kg/s\n",
      "The mass convection coefficient is 0.0782167343205 m/s\n",
      "The average heat transfer coefficient is 93.0 W/m**2.degree Celcius\n"
     ]
    }
   ],
   "source": [
    "\n",
    "import math \n",
    "# Anamath.logy between Heat and Mass Transfer\n",
    "\n",
    "# Variables\n",
    "#Napthalene is species A and air is species B\n",
    "M_A = 128.2\t\t\t#Molar Mass of A[kg/kmol]\n",
    "M_air = 29.\t\t\t#Molar mass of B[kg/kmol]\n",
    "P = 101325.\t\t\t#Pressure of Air[Pa]\n",
    "T = 298.\t\t\t#Temperature[K]\n",
    "D_AB = 0.61*10**(-5)\t\t\t#[m**2/s]\n",
    "v = 2.\t\t\t#Stream velocity[m/s]\n",
    "rho = 1.184\t\t\t#Density of air[kg/m**3]\n",
    "Cp = 1007.\t\t\t#Specific Heat[J/kg.K]\n",
    "a = 2.141*10**(-5)\t\t\t#Absorptivity[m**2/s]\n",
    "w_inf = 0.\t\t\t#Mass fraction of napthalene at free stream conditions \n",
    "P_As = 11.\t\t\t#Vapor Pressure of Napthalene at surface[Pa]\n",
    "mA = 12*10.**(-3)\t\t\t#Mass of napthalene sublimated[kg]\n",
    "delta_t = 15.*60\t\t\t#time of sublimation[s]\n",
    "As = 0.3\t\t\t#surface area of the body[m**2]\n",
    "\n",
    "# Calculations and Results\n",
    "w_As = (P_As/P)*(M_A/M_air);\n",
    "print \"Mass fraction at the surface is\",w_As\n",
    "\n",
    "m_evap = mA/delta_t\t\t\t#[kg/s]\n",
    "print \"The rate of evaporation of napthalene is\",m_evap,\"kg/s\"\n",
    "\n",
    "h_mass = m_evap/(rho*As*(w_As-w_inf));\n",
    "print \"The mass convection coefficient is\",h_mass,\"m/s\"\n",
    "\n",
    "#Using anamath.logy between heat and mass transfer\n",
    "h_heat = rho*Cp*h_mass*((a/D_AB)**(2/3))\t\t\t#[W/m**2.degree Celcius]\n",
    "print \"The average heat transfer coefficient is\",round(h_heat),\"W/m**2.degree Celcius\"\n"
   ]
  },
  {
   "cell_type": "markdown",
   "metadata": {},
   "source": [
    "### Example 14.12"
   ]
  },
  {
   "cell_type": "code",
   "execution_count": 15,
   "metadata": {
    "collapsed": false
   },
   "outputs": [
    {
     "name": "stdout",
     "output_type": "stream",
     "text": [
      "The Lewis Number is 0.8564\n",
      "The vapor pressure of air away from the surface is 1.7 kPa\n",
      "The temperature of the drink can be lowered to 20.4460501647 degree Celcius\n"
     ]
    }
   ],
   "source": [
    "\n",
    "import math \n",
    "# Evaporative Cooling of a Canned Drink\n",
    "\n",
    "# Variables\n",
    "#Water is species A and air is species B\n",
    "M_A = 18\n",
    "M_B = 29;\t\t\t#Molar Masses of water and air[kg/kmol]\n",
    "D_AB = 2.5*10**(-5)\t\t\t#Diffusivity of water vapor in air[m**2/s]\n",
    "T_inf = 30\t\t\t#Ambient Temperature[degree Celcius]\n",
    "T_avg = (20+T_inf)/2\t\t\t#Average temperature\n",
    "P = 101.325\t\t\t#Atmospheric Pressure[kPa]\n",
    "#Properties of A at 20 degree Celcius\n",
    "h_fg = 2454\t\t\t#[kJ/kg]\n",
    "Pv1 = 2.34\t\t\t#Saturation vapor pressure[kPa]\n",
    "Pv2 = 4.25\t\t\t#Vapor Pressure at 30 degree Celcius[kPa]\n",
    "#Properties of air at average temperature and 1 atm\n",
    "Cp = 1.007\t\t\t#[kJ/kg]\n",
    "a = 2.141*10**(-5)\t\t\t#[m**2/s]\n",
    "phi = 0.4\t\t\t#Relative Humidity\n",
    "\n",
    "# Calculations and Results\n",
    "Le = a/D_AB;\n",
    "print \"The Lewis Number is\",Le\n",
    "\n",
    "Pv_inf = phi*Pv2\t\t\t#[kPa]\n",
    "print \"The vapor pressure of air away from the surface is\",Pv_inf,\"kPa\"\n",
    "\n",
    "Ts = T_inf-(h_fg*M_A*(Pv1-Pv_inf)/(Cp*(Le**(2/3))*M_B*P));\n",
    "print \"The temperature of the drink can be lowered to\",Ts,\"degree Celcius\"\n"
   ]
  },
  {
   "cell_type": "markdown",
   "metadata": {},
   "source": [
    "### Example 14.13"
   ]
  },
  {
   "cell_type": "code",
   "execution_count": 16,
   "metadata": {
    "collapsed": false
   },
   "outputs": [
    {
     "name": "stdout",
     "output_type": "stream",
     "text": [
      "The radiation heat loss from the water to the surrounding surface is 663.0 W\n",
      "Density of water vapor at the surface is 0.082850041425 kg/m**3\n",
      "Density of air at the surface is 0.859214032211 kg/m**3\n",
      "Density of mixture at the surface is 0.942064073636 kg/m**3\n",
      "Density of vapor away from the surface is 0.0119860100199 kg/m**3\n",
      "Density of air away from the surface is 1.05642260833 kg/m**3\n",
      "The density of mixture away from the surface is 1.06840861835 kg/m**3\n",
      "The characteristic length is 0.388888888889 m\n",
      "The Grashof number is 212109490.96\n",
      "The Nusselt number is 0.15\n",
      "The convection heat transfer coefficient is 0.0101982857143 W/m**2.degree Celcius\n",
      "The natural convection heat transfer rate is 0.89235 W\n",
      "The mass diffusivity of water vapor in air at the average temperature is 2.99138162238e-05 m**2/s\n",
      "The Schmidt Number is 0.618109032351\n",
      "The Sherwood Number is 0.15\n",
      "The mass transfer coefficient is 1.15381862577e-05 m/s\n",
      "The evaporation rate is 2.86174837664e-06 kg/s\n",
      "The rate of heat transfer by evaporation is 0.00681954638154 kW\n",
      "The total rate of heat transfer from the water to the surrounding air and surfaces is 670.289804281 W\n"
     ]
    }
   ],
   "source": [
    "\n",
    "import math \n",
    "# Heat Loss from Uncovered Hot Water Baths\n",
    "\n",
    "# Variables\n",
    "Ts = 50+273\t\t\t#Uniform temperature of water[K]\n",
    "T_surr = 20+273\t\t\t#Average temperature of surrounding surfaces[K]\n",
    "T_inf = 25+273\t\t\t#Ambient temperature[K]\n",
    "As = 3.5*1\t\t\t#Surface area of water bath[m**2]\n",
    "p = 2*(3.5+1)\t\t\t#Perimeter of top surface of water bath[m]\n",
    "e = 0.95\t\t\t#Emissivity of liquid water\n",
    "phi = 0.52\t\t\t#Relative Humidity\n",
    "Rv = 0.4615\t\t\t#Universal Gas Consmath.tant[kPa.m**3/kg.K]\n",
    "Ra = 0.287\t\t\t#Universal Gas Consmath.tant[kPa.m**3/kg.K]\n",
    "g = 9.81\t\t\t#[m**2/s]\n",
    "\n",
    "# Calculations and Results\n",
    "#(a)\n",
    "Q_rad = e*As*(5.67*10**(-8))*((Ts**4)-(T_surr**4));\n",
    "print \"The radiation heat loss from the water to the surrounding surface is\",round(Q_rad),\"W\"\n",
    "\n",
    "#(b)\n",
    "Tavg = (Ts+T_inf)/2\t\t\t#Average temperature[degree Celcius]\n",
    "P = 92\t\t\t#Atmospheric pressure[kPa]\n",
    "#At average temperature Tavg and Pressure P,Properties of dry air:-\n",
    "k = 0.02644\t\t\t#[W/m.degree Celcius]\n",
    "Pr = 0.7262\t\t\t#Prandtl  number, independent of pressure\n",
    "a = (2.312*10**(-5))/P\t\t\t#Absorptivity[m**2/s]\n",
    "nu = (1.849*10**(-5))\t\t\t#Kinematic vismath.cosity[m**2/s]\n",
    "#At T_surr properties of water are:-\n",
    "h_fg = 2383\t\t\t#[kJ/kg]\n",
    "Pvs = 12.35\t\t\t#[kPa]\n",
    "Psat = 3.17\t\t\t#Saturation Pressure of water at surface temp[kPa]\n",
    "#The air at surface is saturated therefore vapor pressure at surface is simple the saturation pressure of water at the surface temperature\n",
    "Pv_inf = phi*Psat\t\t\t#[kPa]\n",
    "#At the surface\n",
    "rho_vs = Pvs/(Rv*Ts);\n",
    "print \"Density of water vapor at the surface is\",rho_vs,\"kg/m**3\"\n",
    "\n",
    "rho_as = (P-Pvs)/(Ra*Ts);\n",
    "print \"Density of air at the surface is\",rho_as,\"kg/m**3\"\n",
    "\n",
    "rho_s = rho_vs+rho_as;\n",
    "print \"Density of mixture at the surface is\",rho_s,\"kg/m**3\"\n",
    "\n",
    "#Away from the surface\n",
    "rho_vinf = Pv_inf/(Rv*T_inf);\n",
    "print \"Density of vapor away from the surface is\",rho_vinf,\"kg/m**3\"\n",
    "\n",
    "rho_ainf = (P-Pv_inf)/(Ra*T_inf);\n",
    "print \"Density of air away from the surface is\",rho_ainf,\"kg/m**3\"\n",
    "\n",
    "rho_inf = rho_ainf+rho_vinf;\n",
    "print \"The density of mixture away from the surface is\",rho_inf,\"kg/m**3\"\n",
    "\n",
    "Lc = As/p;\n",
    "print \"The characteristic length is\",Lc,\"m\"\n",
    "\n",
    "Gr = g*(rho_inf-rho_s)*(Lc**3)/(((rho_inf+rho_s)/2)*(nu**2));\n",
    "print \"The Grashof number is\",Gr\n",
    "\n",
    "Nu = 0.15*((Gr*Pr)**(1/3));\n",
    "print \"The Nusselt number is\",Nu\n",
    "\n",
    "h_conv = Nu*k/Lc;\n",
    "print \"The convection heat transfer coefficient is\" \\\n",
    ",h_conv,\"W/m**2.degree Celcius\"\n",
    "\n",
    "Q_conv = h_conv*As*(Ts-T_inf);\n",
    "print \"The natural convection heat transfer rate is\" \\\n",
    ",Q_conv,\"W\"\n",
    "\n",
    "#(c)\n",
    "D_AB = (1.87*10**(-10))*(Tavg**2.072)/(P/101.325);\n",
    "print \"The mass diffusivity of water vapor in air at the average temperature is\" \\\n",
    ",D_AB,\"m**2/s\"\n",
    "\n",
    "Sc = nu/D_AB;\n",
    "print \"The Schmidt Number is\",Sc\n",
    "\n",
    "Sh = 0.15*((Gr*Sc)**(1/3));\n",
    "print \"The Sherwood Number is\",Sh\n",
    "\n",
    "h_mass = Sh*D_AB/Lc;\n",
    "print \"The mass transfer coefficient is\",h_mass,\"m/s\"\n",
    "\n",
    "mv = h_mass*As*(rho_vs-rho_vinf);\n",
    "print \"The evaporation rate is\",mv,\"kg/s\"\n",
    "\n",
    "Q_evap = mv*h_fg;\n",
    "print \"The rate of heat transfer by evaporation is\",Q_evap,\"kW\"\n",
    "\n",
    "Q_total = Q_rad+Q_conv+1000*Q_evap;\n",
    "print \"The total rate of heat transfer from the water to the surrounding air and surfaces is\" \\\n",
    ",Q_total,\"W\"\n"
   ]
  }
 ],
 "metadata": {
  "kernelspec": {
   "display_name": "Python 2",
   "language": "python",
   "name": "python2"
  },
  "language_info": {
   "codemirror_mode": {
    "name": "ipython",
    "version": 2
   },
   "file_extension": ".py",
   "mimetype": "text/x-python",
   "name": "python",
   "nbconvert_exporter": "python",
   "pygments_lexer": "ipython2",
   "version": "2.7.6"
  }
 },
 "nbformat": 4,
 "nbformat_minor": 0
}
