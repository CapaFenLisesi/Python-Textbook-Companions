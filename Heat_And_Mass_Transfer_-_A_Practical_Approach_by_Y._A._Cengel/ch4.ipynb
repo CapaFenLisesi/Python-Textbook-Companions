{
 "cells": [
  {
   "cell_type": "markdown",
   "metadata": {},
   "source": [
    "# Chapter 4 : Transient Heat Conduction"
   ]
  },
  {
   "cell_type": "markdown",
   "metadata": {},
   "source": [
    "### Example 4.1"
   ]
  },
  {
   "cell_type": "code",
   "execution_count": 1,
   "metadata": {
    "collapsed": false
   },
   "outputs": [
    {
     "name": "stdout",
     "output_type": "stream",
     "text": [
      "Since Bi =  0.001\n",
      "is less than 0.1 hence lumped system is applicable and the error involved     in this approximation is negligible\n",
      "Time constant for given lumped heat capacity system 0.463235294118 s**(-1)\n",
      "Required time is 10.0 seconds\n"
     ]
    }
   ],
   "source": [
    "\n",
    "import math \n",
    "# Temperature Measurement by Thermocouples\n",
    "\n",
    "# Variables\n",
    "#Temperature of a gas stream is to be measured by a thermocouple whose junction can be approximated as a sphere\n",
    "D = 0.001\t\t\t#Diameter of junction sphere[m]\n",
    "#Properties of the junction\n",
    "k = 35.\t\t    \t#Thermal conductivity[W/m.degree Celcius]\n",
    "rho = 8500.\t\t\t#desity[kg/m**3]\n",
    "Cp = 320.\t\t\t#Specific heat[J/kg.degree Celcius] \n",
    "h = 210.    \t\t#Convection heat transfer coefficient between junction and the gas[W/m**2.degree Celcius]\n",
    "\n",
    "# Calculations and Results\n",
    "Lc = (((math.pi/6)*(D**3))/(math.pi*(D**2)))\t\t\t#The characteristic length of the junction[m]\n",
    "Bi = h*Lc/k\t\t\t#Biot Number\n",
    "if(Bi<0.1):\n",
    "    print \"Since Bi = \",Bi\n",
    "    print (\"is less than 0.1 hence lumped system is applicable and the error involved\\\n",
    "     in this approximation is negligible\")\n",
    "\n",
    "b = h/(rho*Cp*Lc)\t\t\t#math.exponent time consmath.tant[s**(-1)]\n",
    "print \"Time constant for given lumped heat capacity system\",b,\"s**(-1)\"\n",
    "\n",
    "#In order to read 99% of intial temperature difference between the junction and the gas we must have ((T(t)-T_end)/(Ti-T_end)) = 0.01\n",
    "t = -1*(math.log(0.01))/b;\n",
    "print \"Required time is\",round(t),\"seconds\"\n"
   ]
  },
  {
   "cell_type": "markdown",
   "metadata": {},
   "source": [
    "### Example 4.2"
   ]
  },
  {
   "cell_type": "code",
   "execution_count": 2,
   "metadata": {
    "collapsed": false
   },
   "outputs": [
    {
     "name": "stdout",
     "output_type": "stream",
     "text": [
      "lumped system analysis is not applicable, but we can still use it     to get a rough estimate of time of death\n",
      "As a rough estimate the person dies about 10.9400219974 hour\n",
      "before the body was found\n"
     ]
    }
   ],
   "source": [
    "\n",
    "import math \n",
    "# Predicting the time of Death\n",
    "\n",
    "# Variables\n",
    "T_room = 20\t\t\t#Temperature of room[degree Celcius]\n",
    "T_body_f = 25\t\t\t#Temperature of dead body after some time[degree Celcius]\n",
    "T_body_i = 37\t\t\t#Temperature of dead body just after death[degree Celcius]\n",
    "h = 8\t\t\t#Heat transfer Coefficient[W/m**2.degree Celcius]\n",
    "L = 1.7\t\t\t#Length of body which is assumed to be cylindrical in shape[m]\n",
    "r = 0.15\t\t\t#Radius of cylindrical body\n",
    "#Average human body is 72% water by mass, thus we assumne body to have properties of water\n",
    "rho = 996\t\t\t#Density[kg/m**3]\n",
    "k = 0.617\t\t\t#Thermal conductivity[W/m.degree Celcius]\n",
    "Cp = 4178\t\t\t#Specific Heat[J/kg.degree Celcius]\n",
    "\n",
    "# Calculations\n",
    "Lc = (math.pi*(r**2)*L)/((2*math.pi*r*L)+(2*math.pi*(r**2)))\t\t\t#Characteristic length of body[m]\n",
    "Bi = (h*Lc)/k\t\t\t#Biot no\n",
    "if(Bi>0.1):\n",
    "    print (\"lumped system analysis is not applicable, but we can still use it\\\n",
    "     to get a rough estimate of time of death\")\n",
    "b = h/(rho*Cp*Lc)\t\t\t#[s**(-1)]\n",
    "x = (T_body_i-T_room)/(T_body_f-T_room);\n",
    "#math.exp(-b*t) = x;\n",
    "t = (1./b)*math.log(x)\t\t\t#time elapsed[seconds]\n",
    "\n",
    "# Results\n",
    "print \"As a rough estimate the person dies about\",t/3600,\"hour\"\n",
    "print (\"before the body was found\")\n"
   ]
  },
  {
   "cell_type": "markdown",
   "metadata": {},
   "source": [
    "### Example 4.3"
   ]
  },
  {
   "cell_type": "code",
   "execution_count": 1,
   "metadata": {
    "collapsed": false
   },
   "outputs": [
    {
     "name": "stdout",
     "output_type": "stream",
     "text": [
      "the lumped system analysis is not applicable\n",
      "Fourier no is 0.208501920689\n",
      "The time taken for center of egg to reach 70 degree Celcius temperature 14.3834106435 minutes\n"
     ]
    }
   ],
   "source": [
    "\n",
    "import math \n",
    "# Boiling Eggs\n",
    "\n",
    "# Variables\n",
    "T1 = 5.\t    \t\t#Initial temperature of egg[degree Celcius]\n",
    "T2 = 95.\t\t\t#Temperature of Boiling Water[degree Celcius]\n",
    "h = 1200.\t\t\t#Convection heat transfer coefficient of egg[W/m**2.degree Celcius]\n",
    "r = 0.025\t\t\t#Radius of egg[m]\n",
    "T3 = 70\t\t    \t#Final temperature attained by centre of egg[degree Celcius]\n",
    "k = 0.627\t\t\t#Thermal conductivity[W/m.degree Celcius]\n",
    "a = 0.151*(10**(-6))\t\t\t#Thermal diffusivity[m**2/s]\n",
    "\n",
    "# Calculations\n",
    "Bi = (h*r)/k\t\t\t#Biot Number\n",
    "if(Bi>0.1):\n",
    "    print (\"the lumped system analysis is not applicable\")\n",
    "    #Findinf coefficient for a sphere corresponding to this bi are,\n",
    "    lambda1 = 3.0754\n",
    "    A1 = 1.9959;\n",
    "    x = (T3-T2)/(T1-T2);\n",
    "    tau = (-1/(lambda1**2))*math.log(x/A1);\n",
    "    print \"Fourier no is\",tau\n",
    "    #Since fourier no is greater than 0.2, cooking time is determined from the definition of fourier no to be\n",
    "    t = (tau*(r**2))/a\t\t\t#[seconds]\n",
    "    print \"The time taken for center of egg to reach 70 degree Celcius temperature\",(t/60),\"minutes\"\n",
    "else:\n",
    "        print (\"the lumped system is not applicable\")\n"
   ]
  },
  {
   "cell_type": "markdown",
   "metadata": {},
   "source": [
    "### Example 4.4"
   ]
  },
  {
   "cell_type": "code",
   "execution_count": 5,
   "metadata": {
    "collapsed": false
   },
   "outputs": [
    {
     "name": "stdout",
     "output_type": "stream",
     "text": [
      "The surface temperature of the plates when they leave the oven will be 281.408 degree Celcius\n"
     ]
    }
   ],
   "source": [
    "\n",
    "import math \n",
    "\n",
    "# Variables\n",
    "# Heating of Brass Plates in an Oven\n",
    "T_in = 20.\t\t\t#Initial uniform temperature of brass plate[degree Celcius]\n",
    "T_f = 500.\t\t\t#Temperature of the oven[degree Celcius]\n",
    "t = 7*60.\t\t\t#[seconds]\n",
    "h = 120.\t\t\t#combined convection and radiation heat transfer coefficient[W/m**2.degree Celcius]\n",
    "L = 0.04/2\t\t\t#Thickness of plate 2L = 0.004[m]\n",
    "#Properties of brass at room temperature are:-\n",
    "k = 110.\t\t\t#Thermal conductivity[W/m.degree Celcius]\n",
    "rho = 8530.\t\t\t#density[kg/m**3]\n",
    "Cp = 380.\t\t\t#Specific Heat Capacity[J.kg.degree Celcius]\n",
    "a = 33.9*(10**(-6))\t\t\t#Thermal Diffusivity[m**2/s]\n",
    "\n",
    "# Calculations\n",
    "Bi1 = 1/(k/(h*L));\n",
    "tau1 = (a*t)/(L**2);\n",
    "#For above values of biot no and fourier no we have\n",
    "p = 0.46\t\t\t# p = (T0-T_f)/(T_in-T_f),where T0 is temperature of inner surface of plate at time t\n",
    "x = L;\n",
    "Bi2 = Bi1;\n",
    "#For above condition of x/L ratio and Biot number we have\n",
    "q = 0.99\t\t\t#q = (T-T_f)/(T_in-T_f), where T is temperature of outer surface of plate after time t\n",
    "T = T_f+((p*q)*(T_in-T_f))\t\t\t#[degree Celcius]\n",
    "\n",
    "# Results\n",
    "print \"The surface temperature of the plates when they leave the oven will be\",T,\"degree Celcius\"\n"
   ]
  },
  {
   "cell_type": "markdown",
   "metadata": {},
   "source": [
    "### Example 4.5"
   ]
  },
  {
   "cell_type": "code",
   "execution_count": 8,
   "metadata": {
    "collapsed": false
   },
   "outputs": [
    {
     "name": "stdout",
     "output_type": "stream",
     "text": [
      "The center temperature of the shaft after 45 minutes is 360.0 degree Celcius\n",
      "The total heat transfer from the shaft during 45 minutes of cooling is 29359.0 kJ\n"
     ]
    }
   ],
   "source": [
    "\n",
    "import math \n",
    "# Cooling of a long Stainless Steel Cylindrical Shaft\n",
    "\n",
    "# Variables\n",
    "Ti = 600.\t\t\t#Temperature of cylinder just after taking it out of the oven[degree Celcius]\n",
    "h = 80.  \t\t\t#average heat transfer coefficient[W/m**2.degree Celcius] \n",
    "t = 45.*60\t\t\t#Time for cooling[seconds]\n",
    "r = 0.1\t    \t\t#Radius of cylinder[m]\n",
    "l = 1.\t\t    \t#Length of cylinder[m]\n",
    "#Properties of stainless steel cylinder\n",
    "k = 14.9\t\t\t#Thermal conductivity[W/m.degree Celcius]\n",
    "rho = 7900.\t\t\t#Density[kg/m**3]\n",
    "Cp = 477.\t\t\t#Specific Heat Capacity[J/kg.degree Celcius]\n",
    "a = 3.95*(10**(-6))\t\t\t#Thermal diffusivity[m**2/s]\n",
    "T_f = 200.\t\t\t#Ambient temperature[degree Celcius]\n",
    "\n",
    "# Calculations and Results\n",
    "Bi1 = (h*r)/k;\n",
    "tau1 = (a*t)/(r**2);\n",
    "#For biot no = Bi1 and fourier no = tau1,we have\n",
    "p = 0.40\t\t\t#p = (T(0)-T_f)/(Ti-T_f) \n",
    "T_0 = T_f+(p*(Ti-T_f))\t\t\t#[degree Celcius]\n",
    "print \"The center temperature of the shaft after 45 minutes is\",T_0,\"degree Celcius\"\n",
    "\n",
    "#Determining actual heat transfer\n",
    "m = rho*math.pi*(r**2)*l\t\t\t    #[kg]\n",
    "Q_max = m*Cp*(Ti-T_f)*(1./1000)\t\t\t#[kJ]\n",
    "x = (Bi1**2)*tau1;\n",
    "#For biot no =  Bi1 and (h**2)at/(k**2) = x, we have\n",
    "y = 0.62\t\t\t#y = Q/Q_max \n",
    "Q = y*Q_max\t\t\t#[kJ]\n",
    "print \"The total heat transfer from the shaft during 45 minutes of cooling is\",round(Q),\"kJ\"\n"
   ]
  },
  {
   "cell_type": "markdown",
   "metadata": {},
   "source": [
    "### Example 4.6"
   ]
  },
  {
   "cell_type": "code",
   "execution_count": 9,
   "metadata": {
    "collapsed": false
   },
   "outputs": [
    {
     "name": "stdout",
     "output_type": "stream",
     "text": [
      "Water pipes must be burried to a depth of at least  0.7776 m\n",
      "so as to avoid freezing under the specified harsh winter conditions\n"
     ]
    }
   ],
   "source": [
    "\n",
    "import math \n",
    "# Minimum Burial Depth of Water Pipes to avoid Freezing\n",
    "\n",
    "# Variables\n",
    "#Soil properties:-\n",
    "k = 0.4\t\t\t#Thermal conductivity[W/m.degree Celcius]\n",
    "a = 0.15*(10**(-6))\t\t\t#Thermal diffusivity[m**2/s]\n",
    "T_in = 15\t\t\t#Initial uniform temperature of ground[degree Celcius]\n",
    "T_x = 0\t\t\t#Temperature after 3 months[degree Celcius]\n",
    "Ts = -10\t\t\t#Temperature of surface[degree Celcius]\n",
    "\n",
    "# Calculations\n",
    "#The temperature of the soil surrounding the pipes wil be 0 degree Celcius after three months in the case of minimum burial depth, therefore we have\n",
    "x = (h/k)*(math.sqrt(a*t));\n",
    "#Since h tends to infinty\n",
    "#x = %inf;\n",
    "y = (T_x-T_in)/(Ts-T_in);\n",
    "#For values of x and y we have\n",
    "neta = 0.36;\n",
    "t = 90*24*60*60\t\t\t#[seconds]\n",
    "x = 2*neta*math.sqrt(a*t)\t\t\t#[m]\n",
    "\n",
    "# Results\n",
    "print \"Water pipes must be burried to a depth of at least \",x,\"m\"\n",
    "print (\"so as to avoid freezing under the specified harsh winter conditions\")\n"
   ]
  },
  {
   "cell_type": "markdown",
   "metadata": {},
   "source": [
    "### Example 4.7"
   ]
  },
  {
   "cell_type": "code",
   "execution_count": 10,
   "metadata": {
    "collapsed": false
   },
   "outputs": [
    {
     "name": "stdout",
     "output_type": "stream",
     "text": [
      "The surface temperature fro both the wood and aluminium blocks are  148.612000286 and 22.0 degree Celcius respectively\n"
     ]
    }
   ],
   "source": [
    "\n",
    "import math \n",
    "# Surface Temperature Rise of Heated Blocks\n",
    "\n",
    "# Variables\n",
    "flux = 1250.\t\t\t#Consmath.tant solar heat flux[W/m**2]\n",
    "T = 20\t\t        \t#Temperature of black painted wood block[degree Celcius]\n",
    "k_wood = 1.26\t\t\t#Thermal conductivity of wood at room temperature[W/m.K]\n",
    "a_wood = 1.1*(10**(-5))\t\t\t#Diffusivity of wood at room temperature[m**2/s]\n",
    "k_aluminium = 237\t\t\t#Thermal conductivity of aluminium at room temperature[W/m.K]\n",
    "a_aluminium = 9.71*(10**(-5))\t\t\t#Diffusivity of aluminium at room temperature[m**2/s]\n",
    "t = 20*60\t\t\t#[seconds]\n",
    "\n",
    "# Calculations\n",
    "Ts_wood = T+((flux/k_wood)*(math.sqrt((4*a_wood*t)/math.pi)))\t\t\t#[degree Celcius]\n",
    "Ts_aluminium = T+((flux/k_aluminium)*(math.sqrt((4*a_aluminium*t)/math.pi)))\t\t\t#[degree Celcius]\n",
    "\n",
    "# Results\n",
    "print \"The surface temperature fro both the wood and aluminium blocks are \" \\\n",
    ",(Ts_wood),\"and\",round(Ts_aluminium),\"degree Celcius\",\"respectively\"\n"
   ]
  },
  {
   "cell_type": "markdown",
   "metadata": {},
   "source": [
    "### Example 4.8"
   ]
  },
  {
   "cell_type": "code",
   "execution_count": 11,
   "metadata": {
    "collapsed": false
   },
   "outputs": [
    {
     "name": "stdout",
     "output_type": "stream",
     "text": [
      "At the center of the plane wall\n",
      "Fourier no and Biot no are 8.475 and 0.0327272727273 respectively\n",
      "At the center of the cylinder\n",
      "Fourier no and Biot no are 12.204 and 0.0272727272727 respectively\n",
      "The temperature at the center of the short cylinder is 63.0 degree Celcius\n",
      "The temperature at the top surface of the cylinder 62.0 degree Celcius\n"
     ]
    }
   ],
   "source": [
    "\n",
    "import math \n",
    "# Cooling of a Short Brass Cylinder\n",
    "\n",
    "# Variables\n",
    "Ti = 120\t\t\t#Initial Temperature[degree Celcius]\n",
    "T_ambient = 25\t\t\t#Temperature of atmospheric air[degree Celcius]\n",
    "h = 60\t\t\t#convetcion heat transfer coefficient[W/m**2.degree Celcius]\n",
    "r = 0.05\t\t\t#radius of cylinder[m]\n",
    "L = 0.06\t\t\t#thickness[m]\n",
    "a = 3.39*(10**(-5))\t\t\t#Diffusivity of brass[m**2/s]\n",
    "k = 110\t\t\t#Thermal conductivity of brass[W/m.degree Celcius]\n",
    "t = 900\t\t\t#[seconds]\n",
    "\n",
    "# Calculations and Results\n",
    "print (\"At the center of the plane wall\")\n",
    "tau1 = (a*t)/(L**2);\n",
    "Bi1 = (h*L)/k;\n",
    "print \"Fourier no and Biot no are\",tau1,\"and\",Bi1,\"respectively\"\n",
    "print (\"At the center of the cylinder\")\n",
    "\n",
    "tau2 = (a*t)/(r**2);\n",
    "Bi2 = (h*r)/k;\n",
    "print \"Fourier no and Biot no are\",tau2,\"and\",Bi2,\"respectively\"\n",
    "\n",
    "theta_wall_c = 0.8\t\t\t#(T(0,t)-T_ambient)/(Ti-T_ambient)\n",
    "theta_cyl_c = 0.5\t\t\t#(T(0,t)-T_ambient)/(Ti-T_ambient)\n",
    "T_center = T_ambient+((theta_wall_c*theta_cyl_c)*(Ti-T_ambient))\t\t\t#[degree Celcius]\n",
    "print \"The temperature at the center of the short cylinder is\",round(T_center),\"degree Celcius\"\n",
    "\n",
    "#Solution (b):-\n",
    "#The centre of the top surface of the cylinder is still at the center of the lonf cylinder(r = 0),but at the outer surface of the plane wall(x = L).\n",
    "x = L\t\t\t#[m]\n",
    "y = x/L;\n",
    "#For Bi = Bi1 and x = 1\n",
    "theta_wall_L = 0.98*theta_wall_c\t\t\t#(T(L,t)-T_ambient)/(Ti-T_ambient)\n",
    "T_surface = T_ambient+((theta_wall_L*theta_cyl_c)*(Ti-T_ambient))\t\t\t#[degree Celcius]\n",
    "print \"The temperature at the top surface of the cylinder\",round(T_surface),\"degree Celcius\"\n"
   ]
  },
  {
   "cell_type": "markdown",
   "metadata": {},
   "source": [
    "### Example 4.9"
   ]
  },
  {
   "cell_type": "code",
   "execution_count": 12,
   "metadata": {
    "collapsed": false
   },
   "outputs": [
    {
     "name": "stdout",
     "output_type": "stream",
     "text": [
      "At the center of the plane wall\n",
      "At the center of the cylinder\n",
      "The total heat transfer from the cylinder during the first 15 minutes of cooling is 171.781226985 kJ\n"
     ]
    }
   ],
   "source": [
    "\n",
    "import math \n",
    "# Heat transfer from a Short Cylinder\n",
    "\n",
    "# Variables\n",
    "Ti = 120.\t\t\t#Initial Temperature[degree Celcius]\n",
    "T_ambient = 25.\t\t#Temperature of atmospheric air[degree Celcius]\n",
    "rho = 8530.\t\t\t#density of brass cyliner[kg/m**3]\n",
    "Cp = 0.380\t\t\t#Specific heat of brass cylinder[kJ/kg.degree Celcius]\n",
    "r = 0.05\t\t\t#radius[m]\n",
    "H = 0.12\t\t\t#Height of cylinder[m]\n",
    "h = 60. \t\t\t#convetcion heat transfer coefficient[W/m**2.degree Celcius]\n",
    "a = 3.39*(10**(-5))\t\t\t#Diffusivity of brass [m**2/s]\n",
    "k = 110.    \t\t#Thermal conductivity of brass[W/m.degree Celcius]\n",
    "L = 0.06\t\t\t#[m]\n",
    "t = 900\t\t    \t#[seconds]\n",
    "\n",
    "# Calculations\n",
    "m = rho*(math.pi*(r**2)*H)\t\t\t#mass of cylinder[kg]\n",
    "Q_max = m*Cp*(Ti-T_ambient)\t\t\t#[kJ]\n",
    "print (\"At the center of the plane wall\")\n",
    "tau1 = (a*t)/(L**2);\n",
    "Bi1 = (h*L)/k;\n",
    "x = (Bi1**2)*tau1;\n",
    "\n",
    "#For given x and Bi1\n",
    "p = 0.23\t\t\t#(Q/Qmax) for plane wall\n",
    "print (\"At the center of the cylinder\")\n",
    "tau2 = (a*t)/(r**2);\n",
    "Bi2 = (h*r)/k;\n",
    "y = (Bi2**2)*tau2;\n",
    "\n",
    "#For given y and Bi2\n",
    "q = 0.47\t\t\t#(Q/Qmax) for infinite cylinder\n",
    "Q = Q_max*(p+(q*(1-p)))\t\t\t#[kJ]\n",
    "print \"The total heat transfer from the cylinder during the first 15 minutes of cooling is\",Q,\"kJ\"\n"
   ]
  },
  {
   "cell_type": "markdown",
   "metadata": {},
   "source": [
    "### Example 4.10"
   ]
  },
  {
   "cell_type": "code",
   "execution_count": 17,
   "metadata": {
    "collapsed": false
   },
   "outputs": [
    {
     "name": "stdout",
     "output_type": "stream",
     "text": [
      "the temperature at the center of the cylinder 15cm from the exposed bottom surface 150.618494515 degree Celcius\n"
     ]
    }
   ],
   "source": [
    "\n",
    "import math \n",
    "\n",
    "# Cooling of a Long Cylinder by Water\n",
    "\n",
    "# Variables\n",
    "Ti = 200.   \t\t#Initial Temperature of aluminium cylinder[degree Celcius]\n",
    "Tf = 15.\t\t\t#Temperature of water in which cylinder is kept[degree Celcius]\n",
    "h = 120.\t\t\t#Heat transfer Coefficent[W/m**2.degree Celcius]\n",
    "t = 5*60.\t\t\t#[seconds]\n",
    "#Properties of aluminium at room temperature\n",
    "k = 237\t\t\t#Thermal conductivity[W/m.degree Celcius]\n",
    "a = 9.71*(10**(-5))\t\t\t#Thermal diffusivity[m**/s]\n",
    "r = 0.1\t\t\t#Radius of cylinder[m]\n",
    "x = 0.15\t\t\t#[m]\n",
    "\n",
    "# Calculations\n",
    "Bi = (h*r)/k\t\t\t#Biot number\n",
    "#Corresponding to this biot no coefficients for a cylinder\n",
    "lambda_ = 0.3126\n",
    "A = 1.0124;\n",
    "tau = (a*t)/(r**2);\n",
    "#Umath.sing one term approximation\n",
    "theta0 = A*math.exp(-(lambda_**2)*tau);\n",
    "neta = x/(2*math.sqrt(a*t));\n",
    "u = (h*math.sqrt(a*t))/k;\n",
    "v = (h*x)/k;\n",
    "w = (u**2);\n",
    "theta_semiinfinite = 1-math.erfc(neta)+(math.exp(v+w)*math.erfc(neta+u));\n",
    "theta = theta_semiinfinite*theta0;\n",
    "T_x_t = Tf+(theta*(Ti-Tf))\t\t\t#[degree Celcius]\n",
    "\n",
    "# Results\n",
    "print \"the temperature at the center of the cylinder 15cm from the exposed bottom surface\",(T_x_t),\"degree Celcius\"\n"
   ]
  },
  {
   "cell_type": "markdown",
   "metadata": {},
   "source": [
    "### Example 4.11"
   ]
  },
  {
   "cell_type": "code",
   "execution_count": 19,
   "metadata": {
    "collapsed": false
   },
   "outputs": [
    {
     "name": "stdout",
     "output_type": "stream",
     "text": [
      "The convection heat transfer coefficient should be kept below the value 20.0 W/m**2.degree Celcius\n",
      "to satisfy the constraints on the temperature of the steak during refrigeration\n"
     ]
    }
   ],
   "source": [
    "\n",
    "import math \n",
    "# Refrigerating Steaks while Avoiding Frostbite\n",
    "\n",
    "# Variables\n",
    "Ti = 25 \t\t\t#Initial temperature of steaks[degree Celcius]\n",
    "Tf = -15\t\t\t#Temperature of refrigerator[degree Celcius]\n",
    "L = 0.015\t\t\t#Thickness of steaks[m]\n",
    "#Properties of steaks\n",
    "k = 0.45\t\t\t#[W/m.degree Celcius]\n",
    "rho = 1200\t\t\t#density[kg/m**3]\n",
    "a = 9.03*(10**(-8))\t\t\t#Thermal diffusivity[m**2/s]\n",
    "Cp = 4.10\t\t\t#Specific Heat [kJ/kg]\n",
    "T_L = 2\n",
    "T_0 = 8\t\t\t#[degree Celcius]\n",
    "\n",
    "# Calculations\n",
    "#In the limiting case the surface temperature at x = L from the centre will be 2 degree C,while midplane temperature is 8 degree C in an environment at -15 degree C we have\n",
    "x = L;\n",
    "p = (T_L-Tf)/(T_0-Tf);\n",
    "#For this value of p we have\n",
    "Bi = 1/1.5\t\t\t#Biot number\n",
    "h = (Bi*k)/L\t\t\t#[W/m**2.degree Celcius]\n",
    "\n",
    "# Results\n",
    "print \"The convection heat transfer coefficient should be kept below the value\",h,\"W/m**2.degree Celcius\"\n",
    "print (\"to satisfy the constraints on the temperature of the steak during refrigeration\")\n"
   ]
  }
 ],
 "metadata": {
  "kernelspec": {
   "display_name": "Python 2",
   "language": "python",
   "name": "python2"
  },
  "language_info": {
   "codemirror_mode": {
    "name": "ipython",
    "version": 2
   },
   "file_extension": ".py",
   "mimetype": "text/x-python",
   "name": "python",
   "nbconvert_exporter": "python",
   "pygments_lexer": "ipython2",
   "version": "2.7.6"
  }
 },
 "nbformat": 4,
 "nbformat_minor": 0
}
