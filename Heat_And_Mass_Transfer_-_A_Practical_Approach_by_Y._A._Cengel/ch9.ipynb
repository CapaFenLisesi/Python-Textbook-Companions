{
 "cells": [
  {
   "cell_type": "markdown",
   "metadata": {},
   "source": [
    "# Chapter 9 : Natural Convection"
   ]
  },
  {
   "cell_type": "markdown",
   "metadata": {},
   "source": [
    "### Example 9.1"
   ]
  },
  {
   "cell_type": "code",
   "execution_count": 1,
   "metadata": {
    "collapsed": false
   },
   "outputs": [
    {
     "name": "stdout",
     "output_type": "stream",
     "text": [
      "The Rayleigh number is 0.0\n",
      " The natural convection Nusselt number is 0.36\n",
      "The pipe loses heat to the air in the room at a rate of 9.0 W by natural convection\n",
      "The radiation heat transfer is 562.083528514 W\n"
     ]
    }
   ],
   "source": [
    "\n",
    "import math \n",
    "# Heat Loss from Hot Water Pipes\n",
    "\n",
    "# Variables\n",
    "l = 6\t    \t\t#Length[m]\n",
    "d = 0.08\t\t\t#diameter[m]\n",
    "T_room = 20\t\t\t#[degree Celcius]\n",
    "Ts = 70\t\t    \t#Surface temperature of pipe[degree Celcius]\n",
    "Tf = (Ts+T_room)/2\t\t\t#Film temperature[degree Celcius]\n",
    "#Properties of air at Tf\n",
    "k = 0.02699\t\t\t#[W/m.degree Celcius]\n",
    "Pr = 0.7241\t\t\t#Prandtl number\n",
    "nu = 1.750*10**(-5)\t\t\t#[m**2/s]\n",
    "b = (1/(Tf+273))\t\t\t#[K**-1]\n",
    "g = 9.81\t\t    \t#Acc dur to gravity[m/s**2]\n",
    "e = 1\t\t    \t#Emissivity\n",
    "\n",
    "# Calculations and Results\n",
    "Lc = d\t\t\t#Characteristic length[m]\n",
    "Ra_d = g*b*(Ts-T_room)*(d**3)*Pr/(nu**2);\n",
    "print \"The Rayleigh number is\",Ra_d\n",
    "\n",
    "Nu = ((0.6+((0.387*(Ra_d**(1./6)))/((1+((0.559/Pr)**(9./16)))**(8./27))))**2);\n",
    "print \" The natural convection Nusselt number is\",Nu\n",
    "\n",
    "h = k*Nu/d\t\t\t#[W/m**2.degree Celcius]\n",
    "As = math.pi*d*l\t\t\t#[m**2]\n",
    "Q = h*As*(Ts-T_room)\t\t\t#[W]\n",
    "print \"The pipe loses heat to the air in the room at a rate of\",round(Q),\"W\",\"by natural convection\"\n",
    "\n",
    "Q_rad = e*As*(5.76*10**(-8))*(((Ts+273)**4)-((T_room+273)**4))\t\t\t#[W]\n",
    "print \"The radiation heat transfer is\",Q_rad,\"W\"\n",
    "\n",
    "\n"
   ]
  },
  {
   "cell_type": "markdown",
   "metadata": {},
   "source": [
    "### Example 9.2"
   ]
  },
  {
   "cell_type": "code",
   "execution_count": 3,
   "metadata": {
    "collapsed": false
   },
   "outputs": [
    {
     "name": "stdout",
     "output_type": "stream",
     "text": [
      "(a) The Rayleigh no is 764902757.268\n",
      "The natural convection Nusselt number is 113.344693409\n",
      "Heat loss to the surrounding is 114.577883674 W\n",
      "(b) The Rayleigh number is 11951605.5823\n",
      "The natural convection Nusselt number is 0.54\n",
      "Heat Loss is 2.0 W\n",
      "(c) Natural convection Nusselt number 0.27\n",
      "Heat Loss is 1.0917504 W\n",
      "Radiation heat loss is 182.0 W\n"
     ]
    }
   ],
   "source": [
    "\n",
    "import math \n",
    "# Cooling of a Plate in different orientaions\n",
    "\n",
    "# Variables\n",
    "L = 0.6\t\t\t#side of square plate[m]\n",
    "T_surr = 30.\t\t\t#[degree Celcius]\n",
    "Tp = 90.\t\t\t#Temp of plate[degree Celcius]\n",
    "Tf = (Tp+T_surr)/2\t\t\t#Film temperature[degree Celcius]\n",
    "#Properties of air at Tf\n",
    "k = 0.02808\t\t\t#[W/m.degree Celcius]\n",
    "Pr = 0.7202\t\t\t#Prandtl number\n",
    "nu = 1.896*10**(-5)\t\t\t#Kinematic vismath.cosity[m**2/s]\n",
    "b = 1./(Tf+273)\t\t\t#[K**-1]\n",
    "g = 9.81\t\t\t#Acc due to gravity[m/s**2]\n",
    "\n",
    "\n",
    "# Calculations and Results\n",
    "Lc_a = L\t\t\t#Characteristic length\n",
    "Ra_1 = g*b*(Tp-T_surr)*(L**3)*Pr/(nu**2);\n",
    "print \"(a) The Rayleigh no is\",Ra_1\n",
    "\n",
    "Nu_a = ((0.825+(0.387*(Ra_1**(1./6)))/((1+((0.492/Pr)**(9./16)))**(8./27)))**2);\n",
    "print \"The natural convection Nusselt number is\",Nu_a\n",
    "\n",
    "h_a = k*Nu_a/L\t\t\t#[W/m**2.degree Celcius]\n",
    "As = L**2\t\t\t    #[m**2]\n",
    "Q_a = h_a*As*(Tp-T_surr)\t\t\t#[W]\n",
    "print \"Heat loss to the surrounding is\",Q_a,\"W\"\n",
    "\n",
    "#Solution (b)\n",
    "Lc_b = As/(4*L)\t\t\t#[m]\n",
    "Ra_2 = g*b*(Tp-T_surr)*(Lc_b**3)*Pr/(nu**2);\n",
    "print \"(b) The Rayleigh number is\",Ra_2\n",
    "\n",
    "Nu_b = 0.54*(Ra_2**(1/4));\n",
    "print \"The natural convection Nusselt number is\",Nu_b\n",
    "\n",
    "h_b = k*Nu_b/Lc_b\t\t\t        #[W/m**2.degree Celcius]\n",
    "Q_b = h_b*As*(Tp-T_surr)\t\t\t#[W]\n",
    "print \"Heat Loss is\",round(Q_b),\"W\"\n",
    "\n",
    "#Solution (c)\n",
    "Lc_c = Lc_b\n",
    "Nu_c = (0.27*Ra_2**(1/4));\n",
    "print \"(c) Natural convection Nusselt number\",Nu_c\n",
    "\n",
    "h_c = k*Nu_c/Lc_c\t\t\t        #[W/m**2.degree Celcius]\n",
    "Q_c = h_c*As*(Tp-T_surr)\t\t\t#[W]\n",
    "print \"Heat Loss is\",Q_c,\"W\"\n",
    "\n",
    "Q_rad = e*(5.67*10**(-8))*As*(((Tp+273)**4)-((T_surr+273)**4))\t\t\t#[W]\n",
    "print \"Radiation heat loss is\",round(Q_rad),\"W\"\n"
   ]
  },
  {
   "cell_type": "markdown",
   "metadata": {},
   "source": [
    "### Example 9.3"
   ]
  },
  {
   "cell_type": "code",
   "execution_count": 5,
   "metadata": {
    "collapsed": false
   },
   "outputs": [
    {
     "name": "stdout",
     "output_type": "stream",
     "text": [
      "The Rayleigh number is 18445278.9656\n",
      "The optimum spacing is 0.745437165061 mm\n",
      "The no of for this optimum fin spacing are 14.0\n",
      "The rate of natural convection heat transfer 29.3947353567 W\n"
     ]
    }
   ],
   "source": [
    "\n",
    "import math \n",
    "# Optimum Fin Spacing of a Heat Sink\n",
    "\n",
    "# Variables\n",
    "w = 0.12\t\t\t#width[m]\n",
    "l = 0.18\t\t\t#length[m]\n",
    "t = 0.001\t\t\t#thickness[m]\n",
    "H = 0.024\t\t\t#height[m]\n",
    "Ts = 80.\t    \t\t#Bast temperature[degree Celcius]\n",
    "T_surr = 30.\t\t#[degree Celcius]\n",
    "Tf = (Ts+T_surr)/2\t\t\t#[degree Celcius]\n",
    "#Properties of air at film temperature\n",
    "k = 0.02772\t\t\t#[W/m.degree Celcius]\n",
    "Pr = 0.7215\t\t\t#Prandtl number\n",
    "nu = 1.847*10**(-5)\t\t\t#[m**2/s]\n",
    "b = 1/(Tf+273)\t\t\t#[K**-1]\n",
    "g = 9.81\t\t\t#[m/s**2]\n",
    "\n",
    "# Calculations and Results\n",
    "Ra_l = g*b*(Ts-T_surr)*(l**3)*Pr/(nu**2);\n",
    "print \"The Rayleigh number is\",Ra_l\n",
    "\n",
    "S_opt = 2.714*l/(Ra_l**(0.25))\t\t\t#[m]\n",
    "print \"The optimum spacing is\",S_opt*100,\"mm\"\n",
    "\n",
    "n = w/(S_opt+t);\n",
    "print \"The no of for this optimum fin spacing are\",round(n)\n",
    "\n",
    "Nu_opt = 1.307      \t\t    \t#Optimum Nusselt number\n",
    "h = Nu_opt*k/S_opt\t        \t\t#[W/m**2.degree Celcius]\n",
    "Q = h*2*round(n)*l*H*(Ts-T_surr)\t\t\t#[W]\n",
    "print \"The rate of natural convection heat transfer\",Q,\"W\"\n"
   ]
  },
  {
   "cell_type": "markdown",
   "metadata": {},
   "source": [
    "### Example 9.4"
   ]
  },
  {
   "cell_type": "code",
   "execution_count": 7,
   "metadata": {
    "collapsed": false
   },
   "outputs": [
    {
     "name": "stdout",
     "output_type": "stream",
     "text": [
      "The Rayleigh Number is 10502.1341108\n",
      "The Nusselt Number is 1.40068950621\n",
      "Rate at which Heat is Lost through the window is 27.0725267761 W\n"
     ]
    }
   ],
   "source": [
    "\n",
    "import math \n",
    "# Heat Loss through a Double Pane Window\n",
    "\n",
    "# Variables\n",
    "H = 0.8 \t\t\t#Height[m]\n",
    "L = 0.02\t\t\t#Air gap[m]\n",
    "w = 2.\t    \t\t#Width[m]\n",
    "T1 = 12.\n",
    "T2 = 2.\t\t    \t#Glass Surface temperatures across the air gap\n",
    "Tavg = (T1+T2)/2\t#[degree Celcius]\n",
    "k = 0.02416\t\t\t#[W/m.degree Celcius]\n",
    "Pr = 0.7344\t\t\t#Prandtl Number\n",
    "nu = 1.4*10**(-5)\t#Kinematic Vismath.cosity[m**2/s]\n",
    "g = 9.81\t\t\t#[m/s**2]\n",
    "\n",
    "# Calculations and Results\n",
    "Lc = L\t\t\t#Characteristic length\n",
    "b = 1/(Tavg+273)\t\t\t#[K**-1]\n",
    "Ra_L = g*b*(T1-T2)*Pr*(Lc**3)/(nu**2);\n",
    "print \"The Rayleigh Number is\",Ra_L\n",
    "\n",
    "Nu = 0.42*(Ra_L**(1./4))*(Pr**(0.012))*((H/L)**(-0.3));\n",
    "print \"The Nusselt Number is\",Nu\n",
    "\n",
    "As = H*w\t\t\t#[m**2]\n",
    "h = k*Nu/L\t\t\t#[W/m**2.degree Celcius]\n",
    "Q = h*As*(T1-T2);\n",
    "print \"Rate at which Heat is Lost through the window is\",Q,\"W\"\n"
   ]
  },
  {
   "cell_type": "markdown",
   "metadata": {},
   "source": [
    "### Example 9.5"
   ]
  },
  {
   "cell_type": "code",
   "execution_count": 8,
   "metadata": {
    "collapsed": false
   },
   "outputs": [
    {
     "name": "stdout",
     "output_type": "stream",
     "text": [
      "The Rayleigh Number is 477453.533088\n",
      "(0.0052291424278198, 0.11044889324463623)\n",
      "The rate of heat transfer between the spheres is 16.6553007175 W\n"
     ]
    }
   ],
   "source": [
    "\n",
    "import math \n",
    "# Heat Transfer through a Spherical Enclosure\n",
    "\n",
    "# Variables\n",
    "Di = 0.2\t\t\t#Inner Diameter[m]\n",
    "Do = 0.3\t\t\t#Outer Diameter[m]\n",
    "Ti = 320\n",
    "To = 280\t\t\t#The surface temperatures of two spheres enclomath.sing the air[K]\n",
    "Tavg = (Ti+To)/2.\t\t\t#[K]\n",
    "#Properties at Tavg\n",
    "k = 0.02566\t\t\t#[W/m.K]\n",
    "Pr = 0.7290\t\t\t#Prandtl Number\n",
    "nu = 1.58*10**(-5)\t\t\t#[m**2/s]\n",
    "b = (1/Tavg);\n",
    "g = 9.81\t\t\t#[m/s**2]\n",
    "\n",
    "# Calculations and Results\n",
    "Lc = (Do-Di)/2\t\t\t#Characteristic length[m]\n",
    "Ra_L = g*b*(Ti-To)*(Lc**3)*Pr/(nu**2);\n",
    "print \"The Rayleigh Number is\",Ra_L\n",
    "\n",
    "Fsph = Lc/(((Di*Do)**4)*((((Di**(-7./5))+(Do**(-7./5))))**5));\n",
    "keff = 0.74*k*((Pr/(0.861+Pr))**(1./4))*((Fsph*Ra_L)**(1./4))\t\t\t#[W/m.K]\n",
    "print (Fsph,keff)\n",
    "\n",
    "Q = keff*(math.pi*Di*Do/Lc)*(Ti-To)\t\t\t#[W]\n",
    "print \"The rate of heat transfer between the spheres is\",Q,\"W\"\n"
   ]
  },
  {
   "cell_type": "markdown",
   "metadata": {},
   "source": [
    "### Example 9.6"
   ]
  },
  {
   "cell_type": "code",
   "execution_count": 9,
   "metadata": {
    "collapsed": false
   },
   "outputs": [
    {
     "name": "stdout",
     "output_type": "stream",
     "text": [
      "The Rayleigh Number is 1823622.57723\n",
      "The Nusselt number is 0.974169\n",
      "The rate of natural convection heat transfer from the glass cover to the ambient air is 1.58408486914 W\n",
      "The Rayleigh number on assuming higher temperatures 62581.6484932\n",
      "The rate of heat transfer between the cylinders is 35.7293537245 W\n",
      "Therefore tube will reach an equilibrium temperature of 82 degree Celcius when the pump fails\n"
     ]
    }
   ],
   "source": [
    "# Heating Water in a Tube by Solar Enegy\n",
    "import math \n",
    "\n",
    "# Variables\n",
    "Ts = 40.        \t\t#Glass Temp[degree Celcius]\n",
    "T_surr = 20.\t\t\t#Surrounding temperature[degree Celcius]\n",
    "Tavg = (Ts+T_surr)/2\t\t\t#[degree Celcius]\n",
    "Do = 0.1\t\t    \t#[m]\n",
    "Di = 0.05\t\t\t    #[m]\n",
    "L = 1\t\t\t        #[m]\n",
    "#Properties of glass at Tavg\n",
    "k = 0.02588 \t\t\t#[W/m.degree Celcius]\n",
    "Pr = 0.7282\t    \t\t#Prandtl Number\n",
    "nu = 1.608*10**(-5)\t\t\t#[m**2/s]\n",
    "b = 1/(Tavg+273)\t\t\t#[K**-1]\n",
    "\n",
    "Q = 30\t\t\t#Rate pof absorpto\\ion of solar radiation[W]\n",
    "g = 9.81\t\t\t#[m/s**2]\n",
    "\n",
    "# Calculations and Results\n",
    "Ao = math.pi*Do*L\t\t\t#Heat transfer surface area of the glass cover[m**2]\n",
    "Ra_D = g*b*(Ts-T_surr)*(Do**3)*Pr/(nu**2);\n",
    "print \"The Rayleigh Number is\",Ra_D\n",
    "\n",
    "Nu = ((0.6+((0.387*(Ra_D**(1/6)))/((1+((0.550/Pr)**(9/16)))**(8/27))))**2);\n",
    "print \"The Nusselt number is\",Nu\n",
    "\n",
    "ho = k*Nu/Do\t\t\t#[W/m**2.degree Celcius]\n",
    "Qo = ho*Ao*(Ts-T_surr)\t\t\t#[W]\n",
    "print \"The rate of natural convection heat transfer from the glass cover to the ambient air is\",Qo,\"W\"\n",
    "\n",
    "#Value of Qo is less than 30W so assuming a higher temp of glass cover\n",
    "T_surr1 = 41    \t    \t\t#[degree Celcius]\n",
    "Ts1 = 90    \t    \t    \t#[degree Celcius]\n",
    "Tavg1 = (T_surr1+Ts1)/2\t\t\t#[degree Celcius]\n",
    "b1 = 1./(Tavg1+273)\t\t\t#[K**-1]\n",
    "Lc = (Do-Di)/2\t\t\t#Characteristic length [m]\n",
    "Ra_L1 = g*b1*(Ts1-T_surr1)*(Lc**3)*Pr/(nu**2);\n",
    "print \"The Rayleigh number on assuming higher temperatures\",Ra_L1\n",
    "\n",
    "Fcyl = ((math.log(Do/Di))**4)/((Lc**3)*(((Di**(-3./5))+(Do**(-3./5)))**5));\n",
    "keff = 0.386*k*((Pr/(0.861+Pr))**(1./4))*((Fcyl*Ra_L1)**(1./4))\t\t\t#[W/m.degree Celcius]\n",
    "Q1 = 2*math.pi*keff*(Ts1-T_surr1)/(math.log(Do/Di))         \t\t\t#[W]\n",
    "print \"The rate of heat transfer between the cylinders is\",Q1,\"W\"\n",
    "\n",
    "#Obtained value of Q1 is more than 30 W, so umath.sing hit and trial aand suuming more values we get the tube temperature to be 82 degree Celcius,\n",
    "print (\"Therefore tube will reach an equilibrium temperature of 82 degree Celcius when the pump fails\")\n"
   ]
  },
  {
   "cell_type": "markdown",
   "metadata": {},
   "source": [
    "### Example 9.7"
   ]
  },
  {
   "cell_type": "code",
   "execution_count": 10,
   "metadata": {
    "collapsed": false
   },
   "outputs": [
    {
     "name": "stdout",
     "output_type": "stream",
     "text": [
      "The center of glass U-factor value is 3.46107089988 W/m**2.degree Celcius\n"
     ]
    }
   ],
   "source": [
    "\n",
    "import math \n",
    "# U factor for Center of glass Section of Windows\n",
    "\n",
    "# Variables\n",
    "e = 0.84\t\t\t#Emissivity\n",
    "#For winter season\n",
    "hi = 8.29\t\t\t#[W/m**2.degree Celcius]\n",
    "ho = 34.0\t\t\t#[W/m**2.degree Celcius]\n",
    "\n",
    "# Calculations\n",
    "e_eff = 1./((1/e)+(1/e)-1)\t\t\t#Effective emissivity of air space\n",
    "#the effective emissivity and an average air space temperature of 0 degree Celcius read \n",
    "h_space = 7.2           \t\t\t#[W/m**2.degree Celcius]\n",
    "U_center = 1/((1/hi)+(1/ho)+(1/h_space))\t\t\t#[W/m**s.degree Celcius]\n",
    "\n",
    "# Results\n",
    "print \"The center of glass U-factor value is\",U_center,\"W/m**2.degree Celcius\"\n"
   ]
  },
  {
   "cell_type": "markdown",
   "metadata": {},
   "source": [
    "### Example 9.8"
   ]
  },
  {
   "cell_type": "code",
   "execution_count": 11,
   "metadata": {
    "collapsed": false
   },
   "outputs": [
    {
     "name": "stdout",
     "output_type": "stream",
     "text": [
      "(a) The Inner surface temperature of the window glass is -3.56144578313 degree Celcius\n",
      "(b) The Inner surface temperature of the window glass is 8.46746987952 degree Celcius\n",
      "(c) The Inner surface temperature of the window glass is 14.5975903614 degree Celcius\n"
     ]
    }
   ],
   "source": [
    "\n",
    "import math \n",
    "# Heat Loss through Aluminium Framed Windows\n",
    "\n",
    "# Variables\n",
    "H = 1.2\t\t\t#Height[m]\n",
    "w = 1.8\t\t\t#Width[m]\n",
    "Ti = 22\t\t\t#Inside temp[degree Celcius]\n",
    "To = -10\t\t#Outside temp[degree Celcius]\n",
    "U_a = 6.63\n",
    "U_b = 3.51\n",
    "U_c = 1.92\n",
    "hi = 8.3\t\t#[W/m**.degree Celcius]\n",
    "\n",
    "# Calculations and Results\n",
    "A_win = h*w\t\t\t                #[m**2]\n",
    "Q_win_a = U_a*A_win*(Ti-To)\t\t\t#[W]\n",
    "T_glass_a = Ti-(Q_win_a/(hi*A_win))\t\t\t#[degree Celcius]\n",
    "print \"(a) The Inner surface temperature of the window glass is\",T_glass_a,\"degree Celcius\"\n",
    "\n",
    "Q_win_b = U_b*A_win*(Ti-To)\t\t\t#[W]\n",
    "T_glass_b = Ti-(Q_win_b/(hi*A_win))\t\t\t#[degree Celcius\n",
    "print \"(b) The Inner surface temperature of the window glass is\",T_glass_b,\"degree Celcius\"\n",
    "\n",
    "Q_win_c = U_c*A_win*(Ti-To)\t\t\t#[W]\n",
    "T_glass_c = Ti-(Q_win_c/(hi*A_win))\t\t\t#[degree Celcius]\n",
    "print \"(c) The Inner surface temperature of the window glass is\",T_glass_c,\"degree Celcius\"\n"
   ]
  },
  {
   "cell_type": "markdown",
   "metadata": {},
   "source": [
    "### Example 9.9"
   ]
  },
  {
   "cell_type": "code",
   "execution_count": 13,
   "metadata": {
    "collapsed": false
   },
   "outputs": [
    {
     "name": "stdout",
     "output_type": "stream",
     "text": [
      "The overall U factor of the entire window is 3.28109722222 W/m**2.degree Celcius\n"
     ]
    }
   ],
   "source": [
    "\n",
    "import math \n",
    "# U-Factor of a Double-Door Window\n",
    "\n",
    "# Variables\n",
    "A_win = 1.8*2.0\t\t\t        #[m**2]\n",
    "A_glazing = 2*1.72*0.94\t\t\t#[m**2]\n",
    "U_c = 3.24\n",
    "U_e = 3.71\n",
    "U_f = 2.8\t\t\t#U factors for the center edge and frame sections respectively [W/m**2.degree Celcius]\n",
    "\n",
    "# Calculations\n",
    "A_frame = A_win-A_glazing\t\t            \t#[m**2]\n",
    "A_center = 2*(1.72-0.13)*(0.94-0.13)\t\t\t#[m**2]\n",
    "A_edge = A_glazing-A_center\t\t\t            #[m**2]\n",
    "U_win = ((U_c*A_center)+(U_e*A_edge)+(U_f*A_frame))/A_win\t\t\t#[W/m**2.degree Celcius]\n",
    "\n",
    "# Results\n",
    "print \"The overall U factor of the entire window is\",U_win,\"W/m**2.degree Celcius\"\n"
   ]
  }
 ],
 "metadata": {
  "kernelspec": {
   "display_name": "Python 2",
   "language": "python",
   "name": "python2"
  },
  "language_info": {
   "codemirror_mode": {
    "name": "ipython",
    "version": 2
   },
   "file_extension": ".py",
   "mimetype": "text/x-python",
   "name": "python",
   "nbconvert_exporter": "python",
   "pygments_lexer": "ipython2",
   "version": "2.7.6"
  }
 },
 "nbformat": 4,
 "nbformat_minor": 0
}
