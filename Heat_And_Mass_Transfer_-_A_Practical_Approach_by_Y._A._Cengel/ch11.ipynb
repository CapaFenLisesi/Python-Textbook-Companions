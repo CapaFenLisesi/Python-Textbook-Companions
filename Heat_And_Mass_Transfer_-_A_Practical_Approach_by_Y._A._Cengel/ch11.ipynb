{
 "cells": [
  {
   "cell_type": "markdown",
   "metadata": {},
   "source": [
    "# Chapter 11 : Heat Exchangers"
   ]
  },
  {
   "cell_type": "markdown",
   "metadata": {},
   "source": [
    "### Example 11.1"
   ]
  },
  {
   "cell_type": "code",
   "execution_count": 1,
   "metadata": {
    "collapsed": false
   },
   "outputs": [
    {
     "name": "stdout",
     "output_type": "stream",
     "text": [
      "The average velocity of water in the tube is 1.60746331776 m/s\n",
      "The Reynolds number for flow of water in the tube is 53404.0969357\n",
      "The nusselt no for turbulent water flow 240.247125093\n",
      "The average velocity for flow of oil is 2.39106017791 m/s\n",
      "The Reynolds number for flow of oil is 630.221449106\n",
      "The overall heat transfer Coefficient for the given heat exchanger is 74.4779584764 W/m**2.degree Celcius\n"
     ]
    }
   ],
   "source": [
    "\n",
    "import math \n",
    "# Overall Heat Transfer Coefficient of a Heat Exchanger\n",
    "\n",
    "# Variables\n",
    "D_in = 0.02 \t\t\t#Diameter of inner tubes[m]\n",
    "Di_out = 0.03\t\t\t#Inner Diameter of Outer tubes[m]\n",
    "mw = 0.5\t    \t\t#Mass Flow Rate of water[kg/s]\n",
    "mo = 0.8\t\t    \t#Mass Flow rate of oil[kg/s]\n",
    "Tw = 45\t    \t\t    #Average Temp of water[degree Celcius]\n",
    "To = 80\t\t        \t#Average Temp of oil [degree Celcius]\n",
    "#Properties of water at Tw\n",
    "rho_w = 990.1\t\t\t#[kg/m**3]\n",
    "Pr_w = 3.91\t\t\t#Prandtl Number\n",
    "k_w = 0.637\t\t\t#[W/m.degree Celcius]\n",
    "nu_w = 0.602*10**(-6)\t\t\t#[m**2/s]\n",
    "#Properties of oil at To\n",
    "rho_o = 852\t\t\t#[kg/m**3]\n",
    "Pr_o = 499.3\t\t\t#Prandtl Number\n",
    "k_o = 0.138\t\t\t#[W/m.degree Celcius]\n",
    "nu_o = 3.794*10**(-5)\t\t\t#[m**2/s]\n",
    "\n",
    "# Calculations and Results\n",
    "Vw = mw/(rho_w*(math.pi*(D_in**2)/4))\t\t\t#[m/s]\n",
    "print \"The average velocity of water in the tube is\",Vw,\"m/s\"\n",
    "\n",
    "Re_w = Vw*D_in/nu_w;\n",
    "print \"The Reynolds number for flow of water in the tube is\",Re_w\n",
    "\n",
    "Nu_w = 0.023*(Re_w**(0.8))*(Pr_w**(0.4));\n",
    "print \"The nusselt no for turbulent water flow\",Nu_w\n",
    "\n",
    "hi = k_w*Nu_w/D_in\t\t\t#[W/m**2.degree Celcius]\n",
    "#For oil flow\n",
    "Dh = Di_out-D_in\t\t\t#Hydraulic Diameter for the annular space[m]\n",
    "Vo = mo/(rho_o*(math.pi*((Di_out**2)-(D_in**2))/4))\t\t\t#[m/s]\n",
    "print \"The average velocity for flow of oil is\",Vo,\"m/s\"\n",
    "\n",
    "Re_o = Vo*Dh/nu_o;\n",
    "print \"The Reynolds number for flow of oil is\",Re_o\n",
    "\n",
    "Nu_o = 5.45\t            \t\t#Nusselt number for flow of oil usign the table 11.3 and interpolating for value corresponding to Di_out/D_in\n",
    "ho = Nu_o*k_o/Dh\t\t    \t#[W/m**2.degree Celcius]\n",
    "U = (1/((1/hi)+(1/ho)))\t\t\t#[W/m**2.degree Celcius]\n",
    "print \"The overall heat transfer Coefficient for the given heat exchanger is\",U,\"W/m**2.degree Celcius\"\n"
   ]
  },
  {
   "cell_type": "markdown",
   "metadata": {},
   "source": [
    "### Example 11.2"
   ]
  },
  {
   "cell_type": "code",
   "execution_count": 12,
   "metadata": {
    "collapsed": false
   },
   "outputs": [
    {
     "name": "stdout",
     "output_type": "stream",
     "text": [
      "The thermal Resistance for an unfinned shell and tube heat exchanger with fouling on both heat transfer surfaces is 0.0531419150758 m**2.degree Celcius/W\n",
      "The overall Heat transfer Coefficients based on the inner and outer surfaces of the tube are 399.320556074 and 315.253070585 W/m**2.degree Celcius respectively\n"
     ]
    }
   ],
   "source": [
    "\n",
    "import math \n",
    "# Effect of Fouling on the Overall Heat Transfer Coefficient\n",
    "\n",
    "# Variables\n",
    "k = 15.1\t\t\t#[W/m**2.degree Celcius]\n",
    "Di = 0.015\t\t\t#Inner Diameter[m]\n",
    "Do = 0.019\t\t\t#Outer Diameter[m]\n",
    "Di_s = 0.032\t\t\t#Inner diameter of outer shell[m]\n",
    "L = 1\t\t\t#[m]\n",
    "hi = 800\t\t\t#W/m**2.degree Celcius\n",
    "ho = 1200\t\t\t#[W/m**2.degree Celcius]\n",
    "Rfi = 0.0004\t\t\t#[m**2.degree Celcius/W]\n",
    "Rfo = 0.0001\t\t\t#[m**2.degree Celcius/W]\n",
    "\n",
    "# Calculations and Results\n",
    "Ai = math.pi*Di*L\t\t\t#[m**2]\n",
    "Ao = math.pi*Do*L\t\t\t#[m**2]\n",
    "Ra = (1/(hi*Ai))+(Rfi/Ai)+((math.log(Do/Di))/(2*math.pi*k*L))+(Rfo/Ao)+(1/(ho*Ao))\t\t\t#[m**2.degree Celcius/W]\n",
    "print \"The thermal Resistance for an unfinned shell and tube heat exchanger with\\\n",
    " fouling on both heat transfer surfaces is\",Ra,\"m**2.degree Celcius/W\"\n",
    " \n",
    "#Solution (b):-\n",
    "Ui = 1/(Ra*Ai)\t\t\t#[W/m**2.degree Celcius]\n",
    "Uo = 1/(Ra*Ao)\t\t\t#[W/m**2.degree Celcius]\n",
    "print \"The overall Heat transfer Coefficients based on the inner and outer surfaces of the tube are\" \\\n",
    ",Ui,\"and\",Uo,\"W/m**2.degree Celcius\",\"respectively\"\n"
   ]
  },
  {
   "cell_type": "markdown",
   "metadata": {},
   "source": [
    "### Example 11.3"
   ]
  },
  {
   "cell_type": "code",
   "execution_count": 2,
   "metadata": {
    "collapsed": false
   },
   "outputs": [
    {
     "name": "stdout",
     "output_type": "stream",
     "text": [
      "The logrithmic Mean temperature difference is 11.5415603271 degree Celcius\n",
      "The heat transfer rate in the condenser is 1090677.45091 W\n",
      "The mass flow rate of the cooling water is 32.5847708805 kg/s\n",
      "The rate of condensation of steam is 0.448653825961 kg/s\n"
     ]
    }
   ],
   "source": [
    "\n",
    "import math \n",
    "# The Condensation of Steam in a Condenser\n",
    "\n",
    "# Variables\n",
    "Th_in = 30.\n",
    "Th_out = 30.\n",
    "Tc_in = 14.\n",
    "Tc_out = 22.\t\t\t#Inlet and Outlet temperatures of hot and cold liquids [degree Celcius]\n",
    "A = 45.\t\t\t    #[m**2]\n",
    "U = 2100.\t\t\t#[W/m**2.degree Celcius]\n",
    "h_fg = 2431.\t\t\t#Heat of vapourisation of water at Th_i[kJ/kg]\n",
    "Cp = 4184.\t\t\t#Specific heat of cold water [J/kg]\n",
    "\n",
    "# Calculations and Results\n",
    "del_T1 = Th_in-Tc_out\t\t\t#[degree Celcius]\n",
    "del_T2 = Th_out-Tc_in\t\t\t#[degree Celcius]\n",
    "del_T_lm = (del_T1-del_T2)/(math.log(del_T1/del_T2))\t\t\t#[degree Celcius]\n",
    "print \"The logrithmic Mean temperature difference is\",del_T_lm,\"degree Celcius\"\n",
    "\n",
    "Q = U*A*del_T_lm\t\t\t#[W]\n",
    "print \"The heat transfer rate in the condenser is\",Q,\"W\"\n",
    "\n",
    "mw = Q/(Cp*(Tc_out-Tc_in))\t\t\t#[kg/s]\n",
    "print \"The mass flow rate of the cooling water is\",mw,\"kg/s\"\n",
    "\n",
    "ms = (Q/(1000*h_fg))\t\t\t#[kg/s]\n",
    "print \"The rate of condensation of steam is\",ms,\"kg/s\"\n"
   ]
  },
  {
   "cell_type": "markdown",
   "metadata": {},
   "source": [
    "### Example 11.4"
   ]
  },
  {
   "cell_type": "code",
   "execution_count": 5,
   "metadata": {
    "collapsed": false
   },
   "outputs": [
    {
     "name": "stdout",
     "output_type": "stream",
     "text": [
      "The rate of heat transfer in the heat exchanger is 300.96 kW\n",
      "The outlet temp of geothermal fluid is 125.081206497 degree Celcius\n",
      "The logrithmic Mean temperature difference is 91.9713238312 degree Celcius\n",
      "The surface area of the heat exchanger is 5.11368631448 m**2\n",
      "The length of the tube is 109.0 m\n"
     ]
    }
   ],
   "source": [
    "\n",
    "import math \n",
    "# Heating Water in a Counter Flow Heat Exchanger\n",
    "\n",
    "# Variables\n",
    "mw = 1.2\n",
    "mgw = 2\t\t\t#Mass Flow rate of water and geothermal fluid[kg/s]\n",
    "U = 640\t\t\t#Overall Heat transfer Coefficient[W/m**2.degree Celcius]\n",
    "Di = 0.015\t\t\t#[m]\n",
    "Tw_out = 80\n",
    "Tw_in = 20\t\t\t#Outlet and Inlet temp of water[degree Celcius]\n",
    "Tgw_in = 160\t\t\t#Inlet temp of geothermal fluid[degree Celcius]\n",
    "Cp_w = 4.18\n",
    "Cp_gw = 4.31\t\t\t#Specific Heats of water and geothermal fluid[kJ/kg.degree Celcius]\n",
    "\n",
    "# Calculations and Results\n",
    "Q = mw*Cp_w*(Tw_out-Tw_in)\t\t\t#[kW]\n",
    "print \"The rate of heat transfer in the heat exchanger is\",Q,\"kW\"\n",
    "\n",
    "Tgw_out = (Tgw_in-(math.ceil(Q)/(mgw*Cp_gw)))\t\t\t#[degree Celcius]\n",
    "print \"The outlet temp of geothermal fluid is\",Tgw_out,\"degree Celcius\"\n",
    "\n",
    "del_T1 = Tgw_in-Tw_out\t\t\t#[degree Celcius]\n",
    "del_T2 = Tgw_out-Tw_in\t\t\t#[degree Celcius]\n",
    "del_T_lm = (del_T1-del_T2)/(math.log(del_T1/del_T2))\t\t\t#[degree Celcius]\n",
    "print \"The logrithmic Mean temperature difference is\",del_T_lm,\"degree Celcius\"\n",
    "\n",
    "As = 1000*math.ceil(Q)/(U*del_T_lm)\t\t\t#[m**2]\n",
    "print \"The surface area of the heat exchanger is\",As,\"m**2\"\n",
    "\n",
    "L = As/(math.pi*Di)\t\t\t#[m]\n",
    "print \"The length of the tube is\",round(L),\"m\"\n"
   ]
  },
  {
   "cell_type": "markdown",
   "metadata": {},
   "source": [
    "### Example 11.5"
   ]
  },
  {
   "cell_type": "code",
   "execution_count": 6,
   "metadata": {
    "collapsed": false
   },
   "outputs": [
    {
     "name": "stdout",
     "output_type": "stream",
     "text": [
      "The log mean temperature difference for the counter flow arrangement is 24.6630346238 degree Celcius\n",
      "In case of no fouling, the over all heat transfer coefficient is 21.6216216216 W/m**2.degree Celcius\n",
      "And the rate of heat transfer is 1829.39415267 W\n",
      "When there is fouling on one of the surfaces, the overall heat transfer coefficient is 21.3447171825 W/m**2.degree Celcius\n",
      "And the rate of heat transfer is 1806.0 W\n"
     ]
    }
   ],
   "source": [
    "\n",
    "import math \n",
    "# Heating of Glycerine in a Multipass Heat Exchanger\n",
    "\n",
    "# Variables\n",
    "#A 2,4 shell and tube heat exchanger\n",
    "D = 0.02\t    \t\t#Diameter[m]\n",
    "L = 60.\t\t        \t#Length of tube[m]\n",
    "Th_in = 80.\n",
    "Th_out = 40.\n",
    "Tc_in = 20.\n",
    "Tc_out = 50.\t\t\t#Inlet and Outlet temperatures water and glycerine[degree Celcius]\n",
    "hi = 160.\n",
    "ho = 25. \t\t\t#Convective Heat transfer coefficients on both side of tube[W/m**2.degree Celcius]\n",
    "Rf = 0.0006\t\t\t#Fouling Resismath.tance[m**2.degree Celcius/W]\n",
    "\n",
    "# Calculations and Results\n",
    "As = math.pi*D*L    \t\t\t#[m**2]\n",
    "del_T1 = Th_in-Tc_out\t\t\t#[degree Celcius]\n",
    "del_T2 = Th_out-Tc_in\t\t\t#[degree Celcius]\n",
    "del_T_lm = (del_T1-del_T2)/math.log(del_T1/del_T2)\t\t\t#[degree Celcius]\n",
    "print \"The log mean temperature difference for the counter flow arrangement is\",del_T_lm,\"degree Celcius\"\n",
    "F = 0.91\t\t\t#Correction Factor\n",
    "#(a)\n",
    "Ua = 1/((1/hi)+(1/ho))\t\t\t#[W/m**2.degree Celcius]\n",
    "print \"In case of no fouling, the over all heat transfer coefficient is\",Ua,\"W/m**2.degree Celcius\"\n",
    "\n",
    "Qa = Ua*As*F*del_T_lm\t\t\t#[W]\n",
    "print \"And the rate of heat transfer is\",Qa,\"W\"\n",
    "\n",
    "#(b)\n",
    "Ub = 1/((1/hi)+(1/ho)+(Rf))\t\t\t#[W/m**2.degree Celcius\n",
    "print \"When there is fouling on one of the surfaces, the overall heat transfer coefficient is\",Ub,\"W/m**2.degree Celcius\"\n",
    "\n",
    "Qb = Ub*As*F*del_T_lm   \t\t\t#[W]\n",
    "print \"And the rate of heat transfer is\",round(Qb),\"W\"\n"
   ]
  },
  {
   "cell_type": "markdown",
   "metadata": {},
   "source": [
    "### Example 11.6"
   ]
  },
  {
   "cell_type": "code",
   "execution_count": 8,
   "metadata": {
    "collapsed": false
   },
   "outputs": [
    {
     "name": "stdout",
     "output_type": "stream",
     "text": [
      "The rate of heat transfer in the radiator from the hot water to the air is 62925.0 W\n",
      "The log mean temperature difference for the counter flow arrangement is 47.4561079051 degree Celcius\n",
      "the overall heat transfer coefficient is 3347.0 W/m**2.degree Celcius\n"
     ]
    }
   ],
   "source": [
    "\n",
    "import math \n",
    "# Cooling of Water in an Automotive Radiator\n",
    "\n",
    "# Variables\n",
    "m = 0.6\t\t\t#Mass Flow rate of water[kg/s]\n",
    "Th_in = 90.\n",
    "Th_out = 65.\n",
    "Tc_in = 20.\n",
    "Tc_out = 40.\t\t\t#[degree Celcius]\n",
    "Di = 0.005\t\t\t#[m]\n",
    "L = 0.65\t\t\t#[m]\n",
    "n = 40.\t    \t\t#No of tubes\n",
    "Cp = 4195.\t\t\t#[J/kg.degree Celcius]\n",
    "\n",
    "# Calculations and Results\n",
    "Q = m*Cp*(Th_in-Th_out)\t\t\t#[W]\n",
    "print \"The rate of heat transfer in the radiator from the hot water to the air is\",Q,\"W\"\n",
    "\n",
    "Ai = n*math.pi*Di*L\t\t    \t#[m**2]\n",
    "del_T1 = Th_in-Tc_out\t\t\t#[degree Celcius]\n",
    "del_T2 = Th_out-Tc_in\t\t\t#[degree Celcius]\n",
    "del_T_lm = (del_T1-del_T2)/math.log(del_T1/del_T2)\t\t\t#[degree Celcius]\n",
    "print \"The log mean temperature difference for the counter flow arrangement is\",del_T_lm,\"degree Celcius\"\n",
    "\n",
    "F = 0.97\t            \t\t#Correction Factor for this situation\n",
    "Ui = Q/(Ai*F*del_T_lm)\t\t\t#[W/m**2.degree Celcius]\n",
    "print \"the overall heat transfer coefficient is\",round(Ui),\"W/m**2.degree Celcius\"\n"
   ]
  },
  {
   "cell_type": "markdown",
   "metadata": {},
   "source": [
    "### Example 11.8"
   ]
  },
  {
   "cell_type": "code",
   "execution_count": 9,
   "metadata": {
    "collapsed": false
   },
   "outputs": [
    {
     "name": "stdout",
     "output_type": "stream",
     "text": [
      "The maximum heat transfer rate is 702.24 kW\n",
      "The effectiveness of the heat exchanger is 0.428571428571\n",
      "The NTU of this counter flow heat exchanger is 0.652362199516\n",
      "The heat transfer surface area is 5.11288873871 m**2\n",
      "The length of the tube is 108.0 m\n"
     ]
    }
   ],
   "source": [
    "\n",
    "import math \n",
    "# Using the Effectiveness- NTU Method\n",
    "\n",
    "# Variables\n",
    "mc = 1.2\n",
    "mh = 2  \t    \t\t#Mass Flow rate of water and geothermal fluid[kg/s]\n",
    "U = 640\t    \t    \t#Overall Heat transfer Coefficient[W/m**2.degree Celcius]\n",
    "Di = 0.015\t\t\t    #[m]\n",
    "Tc_out = 80\n",
    "Tc_in = 20\t    \t\t#Outlet and Inlet temp of water[degree Celcius]\n",
    "Th_in = 160\t\t    \t#Inlet temp of geothermal fluid[degree Celcius]\n",
    "Cp_c = 4.18\n",
    "Cp_h = 4.31\t\t\t    #Specific Heats of water and geothermal fluid[kJ/kg.degree Celcius]\n",
    "\n",
    "# Calculations and Results\n",
    "Ch = mh*Cp_h\t\t\t#[kW/degree Celcius]\n",
    "Cc = mc*Cp_c\t\t\t#[kW/degree Celcius]\n",
    "if(Ch>Cc):\n",
    "    Cmin = Cc;\n",
    "    c = Cmin/Ch;\n",
    "else:\n",
    "    Cmin = Ch;\n",
    "    c = Cmin/Cc;\n",
    "\n",
    "Q_max = Cmin*(Th_in-Tc_in)\t\t\t#[kW]\n",
    "print \"The maximum heat transfer rate is\",Q_max,\"kW\"\n",
    "\n",
    "Q_ac = mc*Cp_c*(Tc_out-Tc_in)\t\t\t#[kW]\n",
    "e = Q_ac/Q_max;\n",
    "print \"The effectiveness of the heat exchanger is\",e\n",
    "\n",
    "NTU = (1/(c-1))*math.log((e-1)/(e*c-1));\n",
    "print \"The NTU of this counter flow heat exchanger is\",NTU\n",
    "\n",
    "As = NTU*Cmin*1000/U\t\t\t#[m**2]\n",
    "print \"The heat transfer surface area is\",As,\"m**2\"\n",
    "\n",
    "L = As/(math.pi*Di)\t\t\t#[m]\n",
    "print \"The length of the tube is\",round(L),\"m\"\n"
   ]
  },
  {
   "cell_type": "markdown",
   "metadata": {},
   "source": [
    "### Example 11.9"
   ]
  },
  {
   "cell_type": "code",
   "execution_count": 10,
   "metadata": {
    "collapsed": false
   },
   "outputs": [
    {
     "name": "stdout",
     "output_type": "stream",
     "text": [
      "The maximum heat transfer rate is 83.07 kW\n",
      "Heat transfer Surface Area is 1.75929188601 m**2\n",
      "The NTU of this heat exchanger is 853.490586327\n",
      "The temperature of cooling water will rise fromdegree Celcius 20 degree Celcius to 66.7020334928\n",
      "as it cools the hot oil from 150 degree Celcius to 88.9 degree Celcius\n"
     ]
    }
   ],
   "source": [
    "\n",
    "import math \n",
    "# Cooling Hot Oil by Water in Multipass Heat Exchanger\n",
    "\n",
    "# Variables\n",
    "Cp_c = 4.18\n",
    "Cp_h = 2.13\t\t\t#Specific Heats of water and oil[kJ/kg]\n",
    "mc = 0.2\n",
    "mh = 0.3\t\t\t#Mass Flow rate of oil and water [kg/s]\n",
    "Th_in = 150\n",
    "Tc_in = 20\t\t\t#[degree Celcius]\n",
    "n = 8   \t\t\t#No of tubes\n",
    "D = 0.014\t\t\t#[m]\n",
    "L = 5\t    \t\t#[m]\n",
    "U = 310\t\t    \t#Overall Heat transfer Coefficient[W/m**2.degree Celcius]\n",
    "\n",
    "# Calculations and Results\n",
    "Ch = mh*Cp_h\t\t\t#[kW/degree Celcius]\n",
    "Cc = mc*Cp_c\t\t\t#[kW/degree Celcius]\n",
    "if(Ch>Cc):\n",
    "    Cmin = Cc;\n",
    "    c = Cmin/Ch;\n",
    "else:\n",
    "    Cmin = Ch;\n",
    "    c = Cmin/Cc;\n",
    "\n",
    "Q_max = Cmin*(Th_in-Tc_in)\t\t\t#[kW]\n",
    "print \"The maximum heat transfer rate is\",Q_max,\"kW\"\n",
    "\n",
    "As = n*math.pi*D*L\t\t\t#[m**2]\n",
    "print \"Heat transfer Surface Area is\",As,\"m**2\"\n",
    "\n",
    "NTU = U*As/Cmin;\n",
    "print \"The NTU of this heat exchanger is\",NTU\n",
    "\n",
    "e = 0.47\t\t\t#Determined from fig 11.26(c)umath.sing value of NTU and c\n",
    "Q = e*Q_max\t\t\t#[kW]\n",
    "Tc_out = Tc_in+(Q/Cc)\t\t\t#[degree Celcius]\n",
    "Th_out = Th_in-(Q/Ch)\t\t\t#[degree Celcius]\n",
    "print \"The temperature of cooling water will rise from\"\"degree Celcius\",Tc_in,\"degree Celcius\",\"to\",Tc_out\n",
    "print \"as it cools the hot oil from\",Th_in,\"degree Celcius\",\"to\",Th_out,\"degree Celcius\"\n"
   ]
  },
  {
   "cell_type": "markdown",
   "metadata": {},
   "source": [
    "### Example 11.10"
   ]
  },
  {
   "cell_type": "code",
   "execution_count": 11,
   "metadata": {
    "collapsed": false
   },
   "outputs": [
    {
     "name": "stdout",
     "output_type": "stream",
     "text": [
      "Maximun Heat recover is 67.925 kJ/kg.degree Celcius\n",
      "The energy saved during an entire year will be 1606562100.0 kJ/year\n",
      "Fuel savings will be 19035.0959716 therms/year\n",
      "The amount of money saved is $ 20938.6055687 per year\n"
     ]
    }
   ],
   "source": [
    "\n",
    "import math \n",
    "# Installing a Heat Exchanger to Save Energy and Money\n",
    "\n",
    "# Variables\n",
    "Cp = 4.18\t    \t\t#[kJ/kg.degree Celcius]\n",
    "Th_in = 80\n",
    "Tc_in = 15\t\t    \t#Inlet temperatures of hot and cold water[degree Celcius]\n",
    "m = 15./60\t\t\t    #[kg/s]\n",
    "e = 0.75\t\t\t    #Effectiveness\n",
    "t = 24. * 365\t\t\t#Operating Hours[hours/year]\n",
    "neta = 0.8\t    \t\t#Eficiency\n",
    "cost = 1.10     \t\t#[$/therm]\n",
    "\n",
    "# Calculations and Results\n",
    "Q_max = m*Cp*(Th_in-Tc_in)\t\t\t#[kJ/kg.degree Celcius]\n",
    "print \"Maximun Heat recover is\",Q_max,\"kJ/kg.degree Celcius\"\n",
    "\n",
    "Q = e*Q_max\t\t\t        #[kJ/s]\n",
    "E_saved = Q*t*3600\t\t\t#[kJ/year]\n",
    "print \"The energy saved during an entire year will be\",E_saved,\"kJ/year\"\n",
    "\n",
    "F_saved = (E_saved/neta)*(1./105500)\t\t\t#[therms]\n",
    "print \"Fuel savings will be\",F_saved,\"therms/year\"\n",
    "\n",
    "M_saved = F_saved*cost\t\t\t#[$/year]\n",
    "print \"The amount of money saved is $\",M_saved,\"per year\"\n"
   ]
  }
 ],
 "metadata": {
  "kernelspec": {
   "display_name": "Python 2",
   "language": "python",
   "name": "python2"
  },
  "language_info": {
   "codemirror_mode": {
    "name": "ipython",
    "version": 2
   },
   "file_extension": ".py",
   "mimetype": "text/x-python",
   "name": "python",
   "nbconvert_exporter": "python",
   "pygments_lexer": "ipython2",
   "version": "2.7.6"
  }
 },
 "nbformat": 4,
 "nbformat_minor": 0
}
