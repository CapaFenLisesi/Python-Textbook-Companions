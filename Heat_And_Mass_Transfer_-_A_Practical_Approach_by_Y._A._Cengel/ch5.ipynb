{
 "cells": [
  {
   "cell_type": "markdown",
   "metadata": {},
   "source": [
    "# Chapter 5 : Numerical Methods in Heat Conduction"
   ]
  },
  {
   "cell_type": "markdown",
   "metadata": {},
   "source": [
    "### Example 5.1"
   ]
  },
  {
   "cell_type": "code",
   "execution_count": 1,
   "metadata": {
    "collapsed": false
   },
   "outputs": [],
   "source": [
    "\n",
    "from scipy.optimize import fsolve \n",
    "import math \n",
    "\n",
    "# Steady Heat Conduction in a Large Uranium Plate\n",
    "\n",
    "# Variables\n",
    "L = 0.04\t\t\t#Thickness of plate[m]\n",
    "k = 28\t\t\t#Thermal conductivity[W/m.degree Celcius]\n",
    "e_gen = 5*(10**6)\t\t\t#Rate of heat generation per unit volume[W/m**3]\n",
    "h = 45\t\t\t#Heat transfer coefficient[W/m**2]\n",
    "T_ambient = 30\t\t\t#Ambient temperature[degree Celcius]\n",
    "\n",
    "# Calculations\n",
    "M = 3\t\t\t#No of nodes\n",
    "#These nodes are chosen to be at the two surfaces of the plate and the mid point\n",
    "del_x = L/(M-1)\t\t\t#Nodal Spacing[m]\n",
    "#Let the nodes be 0,1 and 2. and temperatures at these nodes are\n",
    "T0 = 0\t\t\t#Temperature at node 0[degree Celcius]\n",
    "#Finding temperatures at other two nodes umath.sing finite difference method\n",
    "c1 = e_gen*(del_x**2)/k;\n",
    "c2 = (-h*del_x*T_ambient/k)-(c1/2);\n",
    "def f1(T):\n",
    "    temp = [0,0]\n",
    "    temp[0] = 2*T[0]-T[1]-c1;\n",
    "    temp[1] = T[0]-1.032*T[1]-c2;\n",
    "#To find the solution assume an initial value x0 = [a,b]\n",
    "#then equate [xs,fxs,m] = fsolve(f1,x0')\n",
    " \n"
   ]
  },
  {
   "cell_type": "markdown",
   "metadata": {},
   "source": [
    "### Example 5.2"
   ]
  },
  {
   "cell_type": "code",
   "execution_count": 2,
   "metadata": {
    "collapsed": false
   },
   "outputs": [
    {
     "name": "stdout",
     "output_type": "stream",
     "text": [
      "((5.5-m)T_(m-1))-((10.008-2m)Tm)+((4.5-m)T_m+1) = -0.29\n"
     ]
    }
   ],
   "source": [
    "\n",
    "import math \n",
    "# Heat transfer from triangular fins\n",
    "\n",
    "# Variables\n",
    "k = 180 \t\t\t#Thermal conductivity of aluminium alloy[W/m.degree Celcius]\n",
    "L = 0.05\t\t\t#length of fin[m]\n",
    "b = 0.01\t\t\t#Base thickness of fin[m]\n",
    "T_surr = 25\t\t\t#Temperature of surrounding[degree Celcius\n",
    "h = 15\t\t\t#heat transfer coefficient[W/m**2.degree Celcius]\n",
    "M = 6\t\t\t#No of equally spaced nodes along the fin\n",
    "\n",
    "# Calculations and Results\n",
    "del_x = L/(M-1)\t\t\t#Nodal Spacing[m]\n",
    "T0 = 200\t\t\t#Temperature at node 0[degree Celcius]\n",
    "theta = math.tan(b/2*L);\n",
    "#sigmaQ_all_sides = kA_left((T_(m-1)-T_m)/del_X)+((T_(m+1)-T_m)/del_x)+(hA_conv(T_surr-T_m)) = 0\n",
    "#Simplifying above equation we get\n",
    "print (\"((5.5-m)T_(m-1))-((10.008-2m)Tm)+((4.5-m)T_m+1) = -0.29\")\n",
    "#Putting m = 1,2,3,4 we get five equations in five unknowns \n",
    "#Solving these five equations we get temperatures at node 1,2,3,4 and 5 respectively\n",
    "def f5(T):\n",
    "    node1 = -8.008*T[0]+3.5*T[1]+0*T[2]+0*T[3]+0*T[4]+900.209;\n",
    "    node2 = 3.5*T[0]-6.008*T[1]+2.5*T[2]+0*T[3]+0*T[4]+0.209;\n",
    "    node3 = 0*T[0]+2.5*T[1]-4.008*T[2]+1.5*T[3]+0*T[4]+0.209;\n",
    "    node4 = 0*T[0]+0*T[1]+1.5*T[2]-2.008*T[3]+0.5*T[4]+0.209;\n",
    "    node5 = 0*T[0]+0*T[1]+0*T[2]+1*T[3]-1.008*T[4]+0.209;\n",
    "    return node1\n",
    "    #Solution(b)\n",
    " #T1 = T[0],T2 = T[1],T3 = T[2],T4 = T[3],T5 = T[4];\n",
    " #   w = 1\t\t\t#width[m]\n",
    " #   Q_fin = (h*w*del_x/math.cos(theta))*[(T0+2*(T1+T2+T3+T4)+T5-10*T_surr)]\t\t\t#[W]\n",
    " #   print \"The total rate of heat transfer from the fin is\",Q_fin,\"W\"\n",
    "    #Solution(c)\n",
    "#    Q_max = (h*2*w*L/math.cos(theta)*(T0-T_surr))\t\t\t#[W]\n",
    "#neta = Q_fin/Q_max;\n",
    "#print \"Efficiency of the fin is\",neta\n"
   ]
  },
  {
   "cell_type": "markdown",
   "metadata": {},
   "source": [
    "### Example 5.3"
   ]
  },
  {
   "cell_type": "code",
   "execution_count": 5,
   "metadata": {
    "collapsed": false
   },
   "outputs": [],
   "source": [
    "\n",
    "import math \n",
    "# SteadLy Two-Dimensional Heat Conduction in L-Bars\n",
    "\n",
    "# Variables\n",
    "e_gen = 2*(10**6)\t\t\t#Heat generated per unit volume[W/m**3]\n",
    "k = 15\t\t\t#Thermal heat conductivity[W/m.degree Celcius]\n",
    "T_ambient = 25\t\t\t#Temperature of ambient air[degree Celcius]\n",
    "T_surface = 90\t\t\t#Temperature of the bottom surface[degree Celcius]\n",
    "h = 80#convection coefficient[W/m**2]\n",
    "q_R = 5000\t\t\t#Heat flux to which right surface is subjected[W/m**2]\n",
    "del_x = 0.012\n",
    "del_y = 0.012\t\t\t#Dismath.tance between equally spaced nodes[m]\n",
    "\n",
    "# Calculations\n",
    "#After substituing values in equations of all nodal points finally we have nine equation and nine unknowns\n",
    "def f9(T):\n",
    "    temp[0] = -2.064*T[0]+1*T[1]+0*T[2]+1*T[3]+0*T[4]+0*T[5]+0*T[6]+0*T[7]+0*T[8]+11.2;\n",
    "    temp[1] = 1*T[0]-4.128*T[1]+1*T[2]+0*T[3]+2*T[4]+0*T[5]+0*T[6]+0*T[7]+0*T[8]+22.4;\n",
    "    temp[2] = 0*T[0]+1*T[1]-2.128*T[2]+0*T[3]+0*T[4]+1*T[5]+0*T[6]+0*T[7]+0*T[8]+12.8;\n",
    "    temp[3] = 1*T[0]+0*T[1]+0*T[2]-4*T[3]+2*T[4]+109.2;\n",
    "    temp[4] = 0*T[0]+1*T[1]+0*T[2]+1*T[3]-4*T[4]+1*T[5]+0*T[6]+0*T[7]+0*T[8]+109.2;\n",
    "    temp[5] = 0*T[0]+0*T[1]+1*T[2]+0*T[3]+2*T[4]-6.128*T[5]+1*T[6]+0*T[7]+0*T[8]+212.0;\n",
    "    temp[6] = 0*T[0]+0*T[1]+0*T[2]+0*T[3]+0*T[4]+1*T[5]-4.128*T[6]+1*T[7]+0*T[8]+202.4;\n",
    "    temp[7] = 0*T[0]+0*T[1]+0*T[2]+0*T[3]+0*T[4]+0*T[5]+1*T[6]-4.128*T[7]+T[8]+202.4;\n",
    "    temp[8] = 0*T[0]+0*T[1]+0*T[2]+0*T[3]+0*T[4]+0*T[5]+0*T[6]+1*T[7]-2.064*T[8]+105.2;\n"
   ]
  },
  {
   "cell_type": "markdown",
   "metadata": {},
   "source": [
    "### Example 5.4"
   ]
  },
  {
   "cell_type": "code",
   "execution_count": 7,
   "metadata": {
    "collapsed": false
   },
   "outputs": [],
   "source": [
    "\n",
    "import math \n",
    "from numpy import zeros\n",
    "\n",
    "#  Heat Loss through Chimneys\n",
    "\n",
    "# Variablesa\n",
    "k = 1.4\t\t\t#Thermal conductivity of concrete[W/m.degree Celcius]\n",
    "A = 0.2*0.2\t\t\t#Area of flow section[m**2]\n",
    "t = 0.2\t\t\t#Thickness of the wall[m]\n",
    "Ti = 300+273\t\t\t#Average temperature of gases[K]\n",
    "hi = 70\t\t\t#Convection heat transfer coefficient inside the chimney[W/m**2]\n",
    "ho = 21\t\t\t#Convection heat transfer coefficient outside the chimney[W/m**2]\n",
    "To = 20+273\t\t\t#Temperature od outer air[Kelvin]\n",
    "e = 0.9\t\t\t#Emissivity\n",
    "delx = 0.1\n",
    "dely = 0.1\t\t\t#Nodal spacing [m]\n",
    "\n",
    "# Calculations\n",
    "#Substituing values in all nodal equations and and solving these equations we get temperature at all nodes\n",
    "def fu9(T):\n",
    "    temp = zeros(8)\n",
    "    temp[0] = 7*T[0]-T[1]-T[2]-2865;\n",
    "    temp[1] = -T[0]+8*T[1]-2*T[3]-2865;\n",
    "    temp[2] = -T[0]+4*T[2]-2*T[3]-T[5];\n",
    "    temp[3] = -T[1]-T[2]+4*T[3]-T[4]-T[6];\n",
    "    temp[4] = -2*T[3]+4*T[4]-2*T[7];\n",
    "    temp[5] = -T[1]-T[2]+3.5*T[5]+(0.3645*(10**(-9))*(T[5]**4))-456.2;\n",
    "    temp[6] = -2*T[3]-T[5]+7*T[6]+(0.729*(10**(-9))*(T[6]**4))-T[7]-912.4;\n",
    "    temp[7] = -2*T[4]-T[6]+7*T[7]+(0.729*(10**(-9))*(T[7]**4))-912.4;\n",
    "    temp[8] = -T[7]+2.5*T[8]+(0.3645*(10**(-9))*(T[8]**4))-456.2;\n",
    "#T1 = T[0],T2 = T[1],T3 = T[2],T4 = T[3],T5 = T[4],T6 = T[5],T7 = T[6],T8 = T[7],T9 = T[8];\n",
    "#T_wall = (0.5*T6+T7+T8+0.5*T9)/(0.5+1+1+0.5);\n",
    "\n",
    "# Results\n",
    "#print \"The average temperature at the outer surface of the chimney weighed by the surface area is\",T_wall,\"Kelvin\"\n",
    "#Q_chimney = (ho*4*0.6*1*(T_wall-To))+(e*5.67*(10**-8)*0.6*1*((T_wall**4)-((260**4))))\t\t\t#[W]\n",
    "#print \"The heat transfer is\",Q_chimney,\"W\"\n"
   ]
  },
  {
   "cell_type": "markdown",
   "metadata": {},
   "source": [
    "### Example 5.5"
   ]
  },
  {
   "cell_type": "code",
   "execution_count": 10,
   "metadata": {
    "collapsed": false
   },
   "outputs": [
    {
     "name": "stdout",
     "output_type": "stream",
     "text": [
      "Temperatures at node 1 and 2 are respectively 139.732 228.3592 and 149.258625 172.775823867 degree Celcius\n"
     ]
    }
   ],
   "source": [
    "\n",
    "import math \n",
    "# Transient Heat Conduction in a Large Uranium Plate\n",
    "\n",
    "# Variables\n",
    "k = 28\t\t\t#[W/m.degree Celcius]\n",
    "a = 12.5*10**(-6)\t\t\t#Thermal diffusivity[m**2/s]\n",
    "T1_0 = 200\n",
    "T2_0 = 200\t\t\t#Initial Temperature[degree Celcius]\n",
    "e_gen = 5*10**6\t\t\t#Heat generated per unit volume[W/m**3]\n",
    "h = 45\t\t\t#heat transfer coefficient[W/m**2.degree Celcius]\n",
    "T0 = 0\t\t\t#Temperature at node 0[degree Celcius]\n",
    "L = 0.04\t\t\t#[m]\n",
    "M = 3\t\t\t#No of nodes\n",
    "t = 15\t\t\t#[seconds]\n",
    "\n",
    "# Calculations\n",
    "delx = L/(M-1)\t\t\t#[m]\n",
    "#The nodes are 0,1 and 2\n",
    "tau = (a*t)/(delx**2)\t\t\t#Fourier no\n",
    "#Substituing this value of tau in nodal equations\n",
    "#The nodal temperatures T1_1 and T2_1 at t = 15sec\n",
    "T1_1 = 0.0625*T1_0+0.46875*T2_0+33.482\t\t\t#[degree Celcius]\n",
    "T2_1 = 0.9375*T1_0+0.032366*T2_0+34.386\t\t\t#[degree Celcius]\n",
    "#Similarly the nodal themperatures T1_2,T2_2 at t1 = 2*t = 30sec are\n",
    "T1_2 = 0.0625*T1_1+0.46875*T2_1+33.482\t\t\t#[degree Celcius]\n",
    "T2_2 = 0.9375*T1_1+0.032366*T2_1+34.386\t\t\t#[degree Celcius]\n",
    "\n",
    "# Results\n",
    "print \"Temperatures at node 1 and 2 are respectively\",T1_1,T2_1,\"and\",T1_2,T2_2,\"degree Celcius\"\n"
   ]
  },
  {
   "cell_type": "markdown",
   "metadata": {},
   "source": [
    "### Example 5.6"
   ]
  },
  {
   "cell_type": "code",
   "execution_count": 12,
   "metadata": {
    "collapsed": false
   },
   "outputs": [
    {
     "name": "stdout",
     "output_type": "stream",
     "text": [
      "No of nodes are 6.0\n",
      "The maximum allowable value of the time step is 2167.94334441 s\n",
      "The mesh Fourier number is 0.111\n",
      "Nodal temperatures at 7:15am are\n",
      "Node0: 20.01876 degree Celcius\n",
      "Node1: 16.6 degree Celcius\n",
      "Node2: 12.2 degree Celcius\n",
      "Node3: 7.8 degree Celcius\n",
      "Node4: 3.4 degree Celcius\n",
      "Node5: 5.45576 degree Celcius\n",
      "The amount of heat transfer during the first time step or during the first 15 min period is -1012500.0 J\n"
     ]
    }
   ],
   "source": [
    "\n",
    "import math \n",
    "# Solar Energy Storage in Trombe Walls\n",
    "\n",
    "# Variables\n",
    "hin = 10\t\t\t#[W/m**2]\n",
    "A = 3*75\t\t\t#[m**2]\n",
    "Tin = 21\t\t\t#[degree Celcius]\n",
    "k = 0.69\t\t\t#[W/m.degree Celcius]\n",
    "a = 4.44*10**(-7)\t\t\t#diffusivity[m**2/s]\n",
    "kappa = 0.77;\n",
    "delx = 0.06\t\t\t#The nodal spacing[m]\n",
    "L = 0.3\t\t\t#Length of wall[m]\n",
    "Tout = 0.6\n",
    "q_solar = 360\t\t\t#Ambient temperature in degree Celcius and Solar Radiation between 7am to 10 am\n",
    "\n",
    "# Calculations and Results\n",
    "M = (L/delx)+1;\n",
    "print \"No of nodes are\",M\n",
    "\n",
    "#Stability Criterion\n",
    "del_t = (delx**2)/(3.74*a)\t\t\t#[seconds]\n",
    "print \"The maximum allowable value of the time step is\",del_t,\"s\"\n",
    "\n",
    "#Therefore any step less than del_t can be used to solve this problem,for convinience let's choose \n",
    "delt = 900\t\t\t#[seconds]\n",
    "tao = a*delt/(delx**2);\n",
    "print \"The mesh Fourier number is\",tao\n",
    "\n",
    "#Initially at 7am or t = 0,the temperature of the wall is said to vary linearly between 21 degree Celcius at node 0 and -1 at node 5\n",
    "#Temp between two neighbouring nodes is\n",
    "temp = (21-(-1))/5.\t\t\t#[degree Celcius]\n",
    "T0_0 = Tin;\n",
    "T1_0 = T0_0-temp;\n",
    "T2_0 = T1_0-temp;\n",
    "T3_0 = T2_0-temp;\n",
    "T4_0 = T3_0-temp;\n",
    "T5_0 = T4_0-temp;\n",
    "T0_1 = ((1-3.74*tao)*T0_0)+(tao*(2*T1_0+36.5));\n",
    "T1_1 = (tao*(T0_0+T2_0))+(T1_0*(1-(2*tao)));\n",
    "T2_1 = (tao*(T1_0+T3_0))+(T2_0*(1-(2*tao)));\n",
    "T3_1 = (tao*(T2_0+T4_0))+(T3_0*(1-(2*tao)));\n",
    "T4_1 = (tao*(T3_0+T5_0))+(T4_0*(1-(2*tao)));\n",
    "T5_1 = (T5_0*(1-(2.70*tao)))+(tao*((2*T4_0)+(0.70*Tout)+(0.134*q_solar)));\n",
    "\n",
    "print (\"Nodal temperatures at 7:15am are\")\n",
    "print \"Node0:\",T0_1,\"degree Celcius\"\n",
    "print \"Node1:\",T1_1,\"degree Celcius\"\n",
    "print \"Node2:\",T2_1,\"degree Celcius\"\n",
    "print \"Node3:\",T3_1,\"degree Celcius\"\n",
    "print \"Node4:\",T4_1,\"degree Celcius\"\n",
    "print \"Node5:\",T5_1,\"degree Celcius\"\n",
    "\n",
    "Q_wall = hin*A*delt*(((round(T0_1)+T0_0)/2)-Tin)\t\t\t#[J]\n",
    "print \"The amount of heat transfer during the first time step or during the first 15 min period is\",Q_wall,\"J\"\n",
    "\n",
    "#Similarly using values from the table given we can find temperature at various nodes after required time interval\n"
   ]
  }
 ],
 "metadata": {
  "kernelspec": {
   "display_name": "Python 2",
   "language": "python",
   "name": "python2"
  },
  "language_info": {
   "codemirror_mode": {
    "name": "ipython",
    "version": 2
   },
   "file_extension": ".py",
   "mimetype": "text/x-python",
   "name": "python",
   "nbconvert_exporter": "python",
   "pygments_lexer": "ipython2",
   "version": "2.7.6"
  }
 },
 "nbformat": 4,
 "nbformat_minor": 0
}
