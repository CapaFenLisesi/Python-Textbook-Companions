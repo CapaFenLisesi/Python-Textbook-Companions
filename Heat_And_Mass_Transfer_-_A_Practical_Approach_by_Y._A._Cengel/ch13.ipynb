{
 "cells": [
  {
   "cell_type": "markdown",
   "metadata": {},
   "source": [
    "# Chapter 13 : Radiation Heat Transfer"
   ]
  },
  {
   "cell_type": "markdown",
   "metadata": {},
   "source": [
    "### Example 13.1"
   ]
  },
  {
   "cell_type": "code",
   "execution_count": 1,
   "metadata": {
    "collapsed": false
   },
   "outputs": [
    {
     "name": "stdout",
     "output_type": "stream",
     "text": [
      "This enclosure involves  4 View Factors\n",
      "W need to determine only 1.0 view factor directly\n",
      "The Two view Factors\n",
      "Since no radiation leaving surface 1 strikes itself..... F11 =  0\n",
      "Since all radiation leaving surface 1 strikes surface 2    F12 =  1\n",
      "F12 =  ((r1/r2)**2)\n",
      "F22 =  1-((r1/r2)**2)\n",
      "where r1 and r2 are radius of surface 1 and surface 2\n"
     ]
    }
   ],
   "source": [
    "\n",
    "import math \n",
    "# View Factors Associated with two Concentric Spheres\n",
    "\n",
    "# Calculations and Results\n",
    "#The outer surface of the smaller sphere and inner surface of the larger sphere form a two surface enclosure\n",
    "N = 2;\n",
    "print \"This enclosure involves \",N**2,\"View Factors\"\n",
    "x = (1./2)*N*(N-1)\n",
    "print \"W need to determine only\",x,\"view factor directly\"\n",
    "F11 = 0\n",
    "F12 = 1\n",
    "print (\"The Two view Factors\")\n",
    "print \"Since no radiation leaving surface 1 strikes itself..... F11 = \",F11\n",
    "print \"Since all radiation leaving surface 1 strikes surface 2    F12 = \",F12\n",
    "print (\"F12 =  ((r1/r2)**2)\")\n",
    "print (\"F22 =  1-((r1/r2)**2)\")\n",
    "print (\"where r1 and r2 are radius of surface 1 and surface 2\")\n"
   ]
  },
  {
   "cell_type": "markdown",
   "metadata": {},
   "source": [
    "### Example 13.2"
   ]
  },
  {
   "cell_type": "code",
   "execution_count": 2,
   "metadata": {
    "collapsed": false
   },
   "outputs": [
    {
     "name": "stdout",
     "output_type": "stream",
     "text": [
      "The fraction of the radiation leaving the base cyllinder enclosure that escapes through coaxial ring opening at its top surface is 0.17\n"
     ]
    }
   ],
   "source": [
    "\n",
    "import math \n",
    "# Fraction of Radiation Leaving through an Opening\n",
    "\n",
    "# Variables\n",
    "r1 = 0.1\t\t\t#Radius of enclosure[m]\n",
    "L = 0.1 \t\t\t#Length of Enclosure[m]\n",
    "r2 = 0.05\n",
    "r3 = 0.08\t\t\t#Inner and outer radii of the ring[m]\n",
    "\n",
    "# Calculations\n",
    "#Using Chart in Fig 13.7\n",
    "F12 = 0.11;\n",
    "F13 = 0.28;\n",
    "F1_ring = F13-F12;\n",
    "\n",
    "# Results\n",
    "print \"The fraction of the radiation leaving the base cyllinder enclosure that escapes \\\n",
    "through coaxial ring opening at its top surface is\",F1_ring\n"
   ]
  },
  {
   "cell_type": "markdown",
   "metadata": {},
   "source": [
    "### Example 13.3"
   ]
  },
  {
   "cell_type": "code",
   "execution_count": 4,
   "metadata": {
    "collapsed": false
   },
   "outputs": [
    {
     "name": "stdout",
     "output_type": "stream",
     "text": [
      "Each side pf the four surfaces of the pyramid recieves 0.25 of total radiation\n"
     ]
    }
   ],
   "source": [
    "\n",
    "import math \n",
    "# View Factors Associated with a Tetragon\n",
    "\n",
    "# Variables\n",
    "#A pyramid with square base and it's sides being isoceles triangle\n",
    "F11 = 0\t\t\t#Since base is a flat surface\n",
    "\n",
    "# Calculations\n",
    "#F12 = F13 = F14 = F15 = x\n",
    "x = (1-F11)/4.;\n",
    "\n",
    "# Results\n",
    "print \"Each side pf the four surfaces of the pyramid recieves\",x,\"of total radiation\"\n"
   ]
  },
  {
   "cell_type": "markdown",
   "metadata": {},
   "source": [
    "### Example 13.5"
   ]
  },
  {
   "cell_type": "code",
   "execution_count": 5,
   "metadata": {
    "collapsed": false
   },
   "outputs": [
    {
     "name": "stdout",
     "output_type": "stream",
     "text": [
      "F13 =  0.190983005625 F14 =  1.20957475555 Therefore from two different methods F12_1 = F12_2 =  0.250296378484\n"
     ]
    }
   ],
   "source": [
    "\n",
    "import math \n",
    "\n",
    "# Variables\n",
    "# The Crossed-Strings Method for View Factors\n",
    "a = 12.\n",
    "b = 5.\t\t\t#With od long parallel plates[cm]\n",
    "c = 6.\t\t\t#Distance between the plates\n",
    "L1 = a\n",
    "L2 = b\n",
    "L3 = c;\n",
    "\n",
    "# Calculations\n",
    "L4 = math.sqrt((7**2)+(6**2));\n",
    "L5 = math.sqrt((5**2)+(6**2));\n",
    "L6 = math.sqrt((12**2)+(6**2));\n",
    "F12_1 = ((L5+L6)-(L3+L4))/(2*L1);\n",
    "F13 = (L1+L3-L6)/(2*L1);\n",
    "F14 = (L1+L4+L5)/(2*L1);\n",
    "F12_2 = 1-F13-F14;\n",
    "\n",
    "# Results\n",
    "print \"F13 = \",F13,\"F14 = \",F14,\"Therefore from two different methods F12_1 = F12_2 = \",F12_1,\n"
   ]
  },
  {
   "cell_type": "markdown",
   "metadata": {},
   "source": [
    "### Example 13.6"
   ]
  },
  {
   "cell_type": "code",
   "execution_count": 6,
   "metadata": {
    "collapsed": false
   },
   "outputs": [
    {
     "name": "stdout",
     "output_type": "stream",
     "text": [
      "The net rate of heat transfer from surface1 to surface3 is 394.0 kW\n",
      "The net rate of radiation heat transfer from siurface1 to surface2 is -1319.0 kW\n",
      "Rhe net radiation heat transfer from the base surface is -925.0 kW\n"
     ]
    }
   ],
   "source": [
    "\n",
    "import math \n",
    "# Radiation Heat Transfer in a Black Furnace\n",
    "\n",
    "# Variables\n",
    "F12 = 0.2;\n",
    "A = 5.*5\t\t\t#Area of 1 surface of cube[m**2]\n",
    "Tb = 800\n",
    "Tt = 1500\n",
    "Ts = 500\t\t\t#Temperature of base top and the side surfaces of the furbace[K]\n",
    "\n",
    "# Calculations and Results\n",
    "F11 = 0;\n",
    "Q11 = 0;\n",
    "F13 = 1-F11-F12;\n",
    "Q13 = A*F13*(5.67*10**(-8))*((Tb**4)-(Ts**4))\t\t\t#[kW]\n",
    "print \"The net rate of heat transfer from surface1 to surface3 is\",round(Q13/1000),\"kW\"\n",
    "\n",
    "Q12 = A*F12*(5.67*10**(-8))*((Tb**4)-(Tt**4))\t\t\t#[kW]\n",
    "print \"The net rate of radiation heat transfer from siurface1 to surface2 is\",round(Q12/1000),\"kW\"\n",
    "\n",
    "Q1 = Q11+Q12+Q13\t\t\t#[kW]\n",
    "print \"Rhe net radiation heat transfer from the base surface is\",round(Q1/1000),\"kW\"\n"
   ]
  },
  {
   "cell_type": "markdown",
   "metadata": {},
   "source": [
    "### Example 13.7"
   ]
  },
  {
   "cell_type": "code",
   "execution_count": 8,
   "metadata": {
    "collapsed": false
   },
   "outputs": [
    {
     "name": "stdout",
     "output_type": "stream",
     "text": [
      "The net heat at the rate of 3625.0 W is transferred from plate 1 to plate 2 by radiation per unit surface area of either plate\n"
     ]
    }
   ],
   "source": [
    "\n",
    "import math \n",
    "# Radiation Heat Transfer between Parallel Plates\n",
    "\n",
    "# Variables\n",
    "T1 = 800\n",
    "T2 = 500\t\t\t#Temp of parallel plates[K]\n",
    "e1 = 0.2\n",
    "e2 = 0.7\t\t\t#Emissivities\n",
    "\n",
    "# Calculations\n",
    "q12 = (5.67*10**(-8))*((T1**4)-(T2**4))/((1/e1)+(1/e2)-1);\n",
    "\n",
    "# Results\n",
    "print \"The net heat at the rate of\" \\\n",
    ",round(q12),\"W\",\"is transferred from plate 1 to plate 2 by radiation per unit surface area of either plate\"\n"
   ]
  },
  {
   "cell_type": "markdown",
   "metadata": {},
   "source": [
    "### Example 13.8"
   ]
  },
  {
   "cell_type": "code",
   "execution_count": 1,
   "metadata": {
    "collapsed": false
   },
   "outputs": [],
   "source": [
    "\n",
    "import math \n",
    "# Radiation Heat Transfer in Cylindrical Furnace\n",
    "\n",
    "# Variablesa\n",
    "ro = 1\n",
    "H = 1\t\t\t#Radius amd height of cylinder[m]\n",
    "e1 = 0.8\n",
    "e2 = 0.4\t\t\t#Emissivities\n",
    "T1 = 700\n",
    "T2 = 500\t\t\t#Top and base temperatures of furnace[K]\n",
    "T3 = 400\t\t\t#Side durface temperature[K]\n",
    "F11 = 0\n",
    "F12 = 0.38;\n",
    "\n",
    "# Calculations and Results\n",
    "A1 = math.pi*(ro**2)\t\t\t#[m**2]\n",
    "A2 = A1\t\t\t#[m**2]\n",
    "A3 = 2*math.pi*ro*H\t\t\t#[m**2]\n",
    "F13 = 1-F11-F12;\n",
    "F21 = F12\t\t\t#Top and Bottom are symmetric\n",
    "F31 = F13*(A1/A3);\n",
    "F23 = F13;\n",
    "F32 = F31;\n",
    "def rad(J):\n",
    "    i = [0,0,0]\n",
    "    i[0] = J[0]+(((1-e1)/e1)*((F12*(J[0]-(J[1])))+(F13*((J[0])-(J[2])))))-((T1**4)*(5.67*10**(-8)));\n",
    "    i[1] = J[1]+(((1-e2)/e2)*((F21*(J[1]-J[0]))+(F23*(J[1]-J[2]))))-((T2**4)*(5.67*10**(-8)));\n",
    "    i[2] = J[2]-((T3**4)*(5.67*10**(-8)));\n",
    "#print (J[2],J[1],J[0])\n",
    "#Q1 = A1*((F12*(J[0]-J[1]))+(F13*(J[0]-J[2])))\t\t\t#[kW]\n",
    "#Q2 = A2*((F21*(J[1]-J[0]))+(F13*(J[1]-J[2])))\t\t\t#[kW]\n",
    "#Q3 = A3*((F31*(J[2]-J[0]))+(F32*(J[2]-J[1])))\t\t\t#[kW]\n",
    "#print \"The net rates of radiation heat transfer at the three surfaces are\", \\\n",
    "#Q1/1000,Q2/1000,Q3/1000,\"kW\"\n",
    "    \n"
   ]
  },
  {
   "cell_type": "markdown",
   "metadata": {},
   "source": [
    "### Example 13.9"
   ]
  },
  {
   "cell_type": "code",
   "execution_count": 11,
   "metadata": {
    "collapsed": false
   },
   "outputs": [
    {
     "name": "stdout",
     "output_type": "stream",
     "text": [
      "Heat at the rate of 28.0 kW\n",
      "must be supplied to the heated surface per unit lemgth of the duct  to maintain steady operation in the furnace\n"
     ]
    }
   ],
   "source": [
    "\n",
    "import math \n",
    "# Radiation Heat Transfer in a Triangular Furnace\n",
    "\n",
    "# Variables\n",
    "A1 = 1.\n",
    "A2 = 1.\n",
    "A3 = 1.\t\t\t#Area of each side[m**2]\n",
    "T1 = 600.\n",
    "T2 = 1000.\t\t\t#[K]\n",
    "e = 0.7;\n",
    "F12 = 0.5\n",
    "F13 = 0.5\n",
    "F23 = 0.5\t\t\t#Symmetry\n",
    "\n",
    "# Calculations\n",
    "Eb1 = 5.67*10**(-8)*(T1**4)\t\t\t#[W/m**2]\n",
    "Eb2 = 5.67*10**(-8)*(T2**4)\t\t\t#[W/m**2]\n",
    "Q = (Eb2-Eb1)/(((1-e)/(A1*e))+((((A1*F12)+(1/((1/(A1*F13))+(1/(A2*F23))))))**(-1)))\t\t\t#[kW]\n",
    "\n",
    "# Results\n",
    "print \"Heat at the rate of\",round(Q/1000),\"kW\"\n",
    "print \"must be supplied to the heated surface per unit lemgth of the duct \\\n",
    " to maintain steady operation in the furnace\"\n"
   ]
  },
  {
   "cell_type": "markdown",
   "metadata": {},
   "source": [
    "### Example 13.10"
   ]
  },
  {
   "cell_type": "code",
   "execution_count": 13,
   "metadata": {
    "collapsed": false
   },
   "outputs": [
    {
     "name": "stdout",
     "output_type": "stream",
     "text": [
      "(0.3141592653589793, 303)\n",
      "The Rayleigh number is 2692193.4403\n",
      "The nusselt number is 19.3316907216\n",
      "The total rate of heat loss from the glass cover  67.1513072128 W\n",
      "The Rayleigh number in this case is 57262.3626799\n",
      "The effective thermal conductivity is 0.0786342130794 W/m.degree Celcius\n",
      "The rate of heat transfer between the cylinders by convection is 19.9583200961 W\n",
      "The radiation rate of heat transfer is 27.6572415779 W\n",
      "The total rate of heat loss from the glass cover is 47.6155616741 W\n"
     ]
    }
   ],
   "source": [
    "\n",
    "import math \n",
    "# Heat Transfer through a Tubular Solar Collector\n",
    "\n",
    "# Variables\n",
    "k = 0.02588\t    \t\t#[W/m.degree Celcius]\n",
    "Pr1 = 0.7282\n",
    "Pr2 = 0.7255\t\t\t#Prandtl no\n",
    "nu1 = 1.608*(10**(-5))\n",
    "nu2 = 1.702*10**(-5)\t\t\t#[m**2/s]\n",
    "T1 = 20\n",
    "T2 = 40     \t\t\t#[degree Celcius]\n",
    "Tavg = ((T1+T2)/2)+273\t\t\t#[K]\n",
    "Do = 0.1\n",
    "L = 1\t\t\t    #Dimensions of glass tube[m]\n",
    "Di = 0.05\t\t\t#Inner diameter of tube[m]\n",
    "Q_glass = 30\t\t#Rate of heat transfer from the outer surface of the glass cover[W]\n",
    "g = 9.81\t\t\t#[m**2/s]\n",
    "eo = 0.9\n",
    "ei = 0.95\t\t\t#Emissivity\n",
    "\n",
    "# Calculations and Results\n",
    "Ao = math.pi*Do*L\t\t\t#Heat transfer surface area of the glass cover[m**2]\n",
    "print (Ao,Tavg)\n",
    "\n",
    "Ra_Do = g*Tavg*(T2-T1)*(Do**3)*Pr1/(nu1);\n",
    "print \"The Rayleigh number is\",Ra_Do\n",
    "\n",
    "Nu = ((0.6+((0.387*(Ra_Do**(1./6)))/((1+((0.559/Pr1)**(9./16)))**(8./27))))**2);\n",
    "print \"The nusselt number is\",Nu\n",
    "\n",
    "ho = k*Nu/Do\t\t\t#[W/m**2.degree Celcius]\n",
    "Qo_conv = ho*Ao*(T2-T1)\t\t\t#[W]\n",
    "Qo_rad = eo*5.67*10**(-8)*Ao*(((T2+273)**4)-((T1+273)**4))\t\t\t#[W]\n",
    "Qo_total = Qo_conv+Qo_rad\t\t\t#[W]\n",
    "print \"The total rate of heat loss from the glass cover \",Qo_total,\"W\"\n",
    "\n",
    "Lc = (Do-Di)/2\t\t\t#The characteristic length\n",
    "Ai = math.pi*Di*L\t\t\t#[m**2]\n",
    "#Assuming \n",
    "T_tube = 54\n",
    "T_cover = 26\t\t\t#Temperature of tube and glass cover[degree Celcius]\n",
    "T_avg = ((T_tube+T_cover)/2)+273\t\t\t#[K]\n",
    "Ra_L = g*T_avg*(T_tube-T_cover)*(Lc**3)*Pr2/(nu2);\n",
    "print \"The Rayleigh number in this case is\",Ra_L\n",
    "\n",
    "F_cyl = ((math.log(Do/Di))**4)/((Lc**3)*(((Di**(-3./5))+(Do**(-3./5)))**5));\n",
    "k_eff = 0.386*k*((Pr2/(0.861+Pr2))**(1./4))*((F_cyl*Ra_L)**(1./4));\n",
    "print \"The effective thermal conductivity is\",k_eff,\"W/m.degree Celcius\"\n",
    "\n",
    "QL_conv = 2*math.pi*k_eff*(T_tube-T_cover)/(math.log(Do/Di));\n",
    "print \"The rate of heat transfer between the cylinders by convection is\",QL_conv,\"W\"\n",
    "\n",
    "QL_rad = ((5.67*10**(-8))*Ai*(((T_tube+273)**4)-((T_cover+273)**4)))/((1/ei)+(((1-eo)/eo)*(Di/Do)));\n",
    "print \"The radiation rate of heat transfer is\",QL_rad,\"W\"\n",
    "\n",
    "QL_total = QL_conv+QL_rad\t\t\t#[W]\n",
    "print \"The total rate of heat loss from the glass cover is\",QL_total,\"W\"\n"
   ]
  },
  {
   "cell_type": "markdown",
   "metadata": {},
   "source": [
    "### Example 13.11"
   ]
  },
  {
   "cell_type": "code",
   "execution_count": 14,
   "metadata": {
    "collapsed": false
   },
   "outputs": [
    {
     "name": "stdout",
     "output_type": "stream",
     "text": [
      "Radiation Heat Transfer 806.0 W/m**2\n"
     ]
    }
   ],
   "source": [
    "\n",
    "import math \n",
    "# Radiation Shields\n",
    "\n",
    "# Variables\n",
    "e = 0.1\t\t\t#Emissivity of aluminium sheet\n",
    "T1 = 800\n",
    "T2 = 500\t\t\t#Temperatures of two parallel plates[K]\n",
    "e1 = 0.2\n",
    "e2 = 0.7\t\t\t#Emissivities of plates\n",
    "\n",
    "# Calculations\n",
    "q12 = ((5.67*10**(-8))*((T1**4)-(T2**4)))/((1/e1)+(1/e2)-1+(1/e)+(1/e)-1)\t\t\t#[W/m**2]\n",
    "\n",
    "# Results\n",
    "print \"Radiation Heat Transfer\",round(q12),\"W/m**2\"\n"
   ]
  },
  {
   "cell_type": "markdown",
   "metadata": {},
   "source": [
    "### Example 13.12"
   ]
  },
  {
   "cell_type": "code",
   "execution_count": 15,
   "metadata": {
    "collapsed": false
   },
   "outputs": [
    {
     "name": "stdout",
     "output_type": "stream",
     "text": [
      "The temperature of actual air is 715.0 K\n"
     ]
    }
   ],
   "source": [
    "\n",
    "import math \n",
    "# Radiation Effect on Temperature Measurements\n",
    "\n",
    "# Variables\n",
    "Tw = 400\n",
    "Tth = 650\t\t\t#Temperature of duct wall and hota air flowing in it[K]\n",
    "e = 0.6\t\t\t#emissivity\n",
    "h = 80\t\t\t#Heat transfer coefficient[W/m**2.K]\n",
    "\n",
    "# Calculations\n",
    "Tf = Tth+((e*5.67*10**(-8)*((Tth**4)-(Tw**4)))/h)\t\t\t#[K]\n",
    "\n",
    "# Results\n",
    "print \"The temperature of actual air is\",round(Tf),\"K\"\n"
   ]
  },
  {
   "cell_type": "markdown",
   "metadata": {},
   "source": [
    "### Example 13.13"
   ]
  },
  {
   "cell_type": "code",
   "execution_count": 18,
   "metadata": {
    "collapsed": false
   },
   "outputs": [
    {
     "name": "stdout",
     "output_type": "stream",
     "text": [
      "The partial pressures of CO2 and H2O are 0.1 atm and 0.16 atm\n",
      "The effectivity of the combustion gases is 0.45\n"
     ]
    }
   ],
   "source": [
    "\n",
    "import math \n",
    "# Effective Emissivity of Combustion Gases\n",
    "d = 5\n",
    "H = 5   \t\t\t#Diameter and height of cylindrical furnace[m]\n",
    "T = 1200\t\t\t#Temp of gases[K]\n",
    "P = 2\t    \t\t#Pressure[atm]\n",
    "yN2 = 0.8\n",
    "yH2O = 0.08\n",
    "yO2 = 0.07\n",
    "yCO2 = 0.05\t\t\t#Volumetric Composition\n",
    "\n",
    "# Calculations and Results\n",
    "Pc = yCO2*P\t\t\t#[atm]\n",
    "Pw = yH2O*P\t\t\t#[atm]\n",
    "print \"The partial pressures of CO2 and H2O are\",Pc,\"atm\",\"and\",Pw,\"atm\"\n",
    "\n",
    "L = 0.6*d\t\t\t#[m]\n",
    "x = Pc*L\n",
    "y = Pw*L\t\t\t#[m.atm]\n",
    "ec_1 = 0.16\n",
    "ew_1 = 0.23\t\t\t#Emissivity of CO2 and H2O at 1 atm pressure\n",
    "Cc = 1.1\n",
    "Cw = 1.4\t\t\t#Pressure Correction Factors are\n",
    "del_e = 0.048\t\t\t#Emissivity correction factor at T = 1200K\n",
    "e_g = Cc*ec_1+Cw*ew_1-del_e;\n",
    "print \"The effectivity of the combustion gases is\",e_g\n"
   ]
  },
  {
   "cell_type": "markdown",
   "metadata": {},
   "source": [
    "### Example 13.14"
   ]
  },
  {
   "cell_type": "code",
   "execution_count": 19,
   "metadata": {
    "collapsed": false
   },
   "outputs": [
    {
     "name": "stdout",
     "output_type": "stream",
     "text": [
      "The absorptivities of CO2 and H2O are 0.189869351691 and 0.478114089864\n",
      "The absorptivity of the combustion gases is 0.640983441555\n",
      "the surface area of the cylindrical surface is 118.0 m**2\n",
      "The net rate of radiation heat transfer from the combustion gases to walls of the furnace is 5687334.8017 W\n"
     ]
    }
   ],
   "source": [
    "\n",
    "import math \n",
    "# Radiation Heat Transfer in a Cylindrical Furnace\n",
    "\n",
    "# Variables\n",
    "Ts = 600    \t\t\t#Wall Temperature[K]\n",
    "d = 5\n",
    "H = 5\t    \t\t#Diameter and Height of cylindrical furnace\n",
    "Tg = 1200\n",
    "eg = 0.45\t\t\t#Average gas temperature and average emissivity of the combustion gases\n",
    "Pc = 0.10\n",
    "L = 3\n",
    "Pw = 0.16\t\t\t#From Previous s\n",
    "\n",
    "# Calculations and Results\n",
    "x = Pc*L*Ts/Tg\t\t\t#[m.atm]\n",
    "y = Pw*L*Ts/Tg\t\t\t#[m.atm]\n",
    "ec_1 = 0.11\n",
    "ew_1 = 0.25\t\t\t#Emissivities of CO2 and H2O corresponding to 600K and 1atm \n",
    "Cc = 1.1\n",
    "Cw = 1.4\t\t\t#Correction Factors\n",
    "a_c = Cc*((Tg/Ts)**(0.65))*(ec_1);\n",
    "a_w = Cw*((Tg/Ts)**(0.45))*ew_1;\n",
    "print \"The absorptivities of CO2 and H2O are\",a_c,\"and\",a_w\n",
    "\n",
    "del_a = 0.027;\n",
    "a_g = a_c+a_w-del_a;\n",
    "print \"The absorptivity of the combustion gases is\",a_g\n",
    "\n",
    "As = (math.pi*d*H)+(math.pi*(d**2)/2)\t\t\t#[m**2]\n",
    "print \"the surface area of the cylindrical surface is\",round(As),\"m**2\"\n",
    "\n",
    "Q_net = round(As)*(5.67*10**(-8))*((eg*(Tg**4))-(a_g*(Ts**4)));\n",
    "print \"The net rate of radiation heat transfer from the combustion gases to walls of the furnace is\", \\\n",
    "Q_net,\"W\"\n"
   ]
  },
  {
   "cell_type": "markdown",
   "metadata": {},
   "source": [
    "### Example 13.15"
   ]
  },
  {
   "cell_type": "code",
   "execution_count": 20,
   "metadata": {
    "collapsed": false
   },
   "outputs": [
    {
     "name": "stdout",
     "output_type": "stream",
     "text": [
      "The sensible heat loss from this person when clothed is 95.2186169919 W\n",
      "The ambient temperature now is 26.9196285446 degree Celcius\n"
     ]
    }
   ],
   "source": [
    "\n",
    "import math \n",
    "# Effect of Clothing on Thermal Comfort\n",
    "\n",
    "# Variables\n",
    "h_rad = 4.7\n",
    "h_conv = 4.0\t\t\t#The radiation and convection heat transfer coefficient[W/m**2.degree Celcius]\n",
    "R_clo = 0.6*0.155\t\t\t#Thermal resismath.tance of clothing[m**2.degree Celcius/W]\n",
    "T_skin = 33\n",
    "T_amb = 22\t\t\t#Skin and Ambient temperature[degree Celcius]\n",
    "As = 1.8\t\t\t#Surface area of an average man \n",
    "\n",
    "# Calculations and Results\n",
    "h_comb = h_conv+h_rad\t\t\t#combined heat transfer coefficient[W/m**2.degree Celcius]\n",
    "Q_sen_clo = As*(T_skin-T_amb)/(R_clo+(1/h_comb))\t\t\t#[W]\n",
    "print \"The sensible heat loss from this person when clothed is\",Q_sen_clo,\"W\"\n",
    "\n",
    "#On removing the clothes\n",
    "#R_clo = 0 Clothing resismath.tance on removing clothes\n",
    "#Setting both heat transfer rates equal to determine new ambient air temperature\n",
    "T_amb_new = T_skin-(Q_sen_clo*(1/h_comb)/As)    #[degree Celcius]\n",
    "print \"The ambient temperature now is\",T_amb_new,\"degree Celcius\"\n"
   ]
  }
 ],
 "metadata": {
  "kernelspec": {
   "display_name": "Python 2",
   "language": "python",
   "name": "python2"
  },
  "language_info": {
   "codemirror_mode": {
    "name": "ipython",
    "version": 2
   },
   "file_extension": ".py",
   "mimetype": "text/x-python",
   "name": "python",
   "nbconvert_exporter": "python",
   "pygments_lexer": "ipython2",
   "version": "2.7.6"
  }
 },
 "nbformat": 4,
 "nbformat_minor": 0
}
