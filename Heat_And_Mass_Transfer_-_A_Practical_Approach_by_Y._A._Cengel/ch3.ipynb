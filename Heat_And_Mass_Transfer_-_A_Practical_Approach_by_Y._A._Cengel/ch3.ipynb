{
 "cells": [
  {
   "cell_type": "markdown",
   "metadata": {},
   "source": [
    "# Chapter 3 : Steady Heat Conduction"
   ]
  },
  {
   "cell_type": "markdown",
   "metadata": {},
   "source": [
    "### Example 3.1"
   ]
  },
  {
   "cell_type": "code",
   "execution_count": 1,
   "metadata": {
    "collapsed": false
   },
   "outputs": [
    {
     "name": "stdout",
     "output_type": "stream",
     "text": [
      "The thermal conductivity is given to be 0.9 W/m.K\n",
      "The area of the wall is 15 m**2\n",
      "Thermal Resistnace offered by the wall is 0.0222222222222 degree Celicus/W\n",
      "The steady rate of heat transfer through the wall is  630.0 W\n"
     ]
    }
   ],
   "source": [
    "# Heat Loss through a Wall\n",
    "import math \n",
    "\n",
    "#assumptions:- \n",
    "#1)Heat transfer through the wall is steady \n",
    "#2)Heat transfer is one-imensional\n",
    "\n",
    "# Variables\n",
    "k = 0.9\t\t\t#[W/m.K]\n",
    "print \"The thermal conductivity is given to be\",k,\"W/m.K\"\n",
    "\n",
    "# Calculations and Results\n",
    "#Heat transfer through the wall is by conduction \n",
    "A = (3*5)\t\t\t#[m**2]\n",
    "print \"The area of the wall is\",A,\"m**2\"\n",
    "T1 = 16\t     \t    \t#temperature of inner wall[degree Celcius]\n",
    "T2 = 2\t\t        \t#Temperature of Outer wall[degree Celcius]\n",
    "delta_T = T1-T2\t\t\t#Temperature Gradient[degree Celcius]\n",
    "L = 0.3\t\t\t        #Length of wall along which heat is being transferred[m]\n",
    "R_wall = L/(k*A)\t\t#[degree Celcius/W]\n",
    "\n",
    "print \"Thermal Resistnace offered by the wall is\",R_wall,\"degree Celicus/W\"\n",
    "Q_ = (delta_T/R_wall)\t\t\t#[W]\n",
    "print \"The steady rate of heat transfer through the wall is \",Q_,\"W\"\n"
   ]
  },
  {
   "cell_type": "markdown",
   "metadata": {},
   "source": [
    "### Example 3.2"
   ]
  },
  {
   "cell_type": "code",
   "execution_count": 2,
   "metadata": {
    "collapsed": false
   },
   "outputs": [
    {
     "name": "stdout",
     "output_type": "stream",
     "text": [
      "The thermal conductivity is given to be 0.78 W/m.K\n",
      "The total Resismath.tance offered by glass window 0.112713675214 degree Celcius/W\n",
      "Steady rate of Heat Transfer through the window is 266.161137441 W\n",
      "Inner Surface Temperature of the window glass -2.18009478673 degree Celcius\n"
     ]
    }
   ],
   "source": [
    "\n",
    "import math \n",
    "# Heat Loss through a Single Pane Window\n",
    "\n",
    "#Assumptions :-\n",
    "#1)Heat transfer through the window is steady\n",
    "#2)Heat transfer through the wall is one dimensional\n",
    "\n",
    "# Variables\n",
    "k = 0.78\t\t\t#[W/m.K]\n",
    "print \"The thermal conductivity is given to be\",k,\"W/m.K\"\n",
    "L = 0.008\t\t\t#Thickness of glass window[m]\n",
    "A = (0.8*1.5)\t\t#Area of the window[m**2]\n",
    "T_1 = 20\t\t\t#Temeprature of inner surface of glass window[dgree Celcius]\n",
    "T_2 = -10\t\t\t#Temeprature of outer surface of glass window[dgree Celcius]\n",
    "h_in = 10\t\t\t#Heat transfer coefficient on the inner surface of the window[W/m**2]\n",
    "h_out = 40\t\t\t#Heat transfer coefficient on the outer surface of the window[W/m**2]\n",
    "\n",
    "# Calculations and Results\n",
    "#Convection Resistance\n",
    "R_conv1 = 1/(h_in*A)\t\t\t#[degree Celcius/W]\n",
    "R_conv2 = 1/(h_out*A)\t\t\t#[degree Celcius/W]\n",
    "#Conduction Resismath.tance\n",
    "R_cond = L/(k*A)\t\t\t#[degree Celcius/W]\n",
    "#Net Resismath.tance are in series\n",
    "R_total = R_conv1+R_conv2+R_cond\t\t\t#[degree Celcius/W]\n",
    "print \"The total Resismath.tance offered by glass window\",R_total,\"degree Celcius/W\"\n",
    "Q_ = (T_1-T_2)/R_total\t\t\t#[W]\n",
    "print \"Steady rate of Heat Transfer through the window is\",Q_,\"W\"\n",
    "#Knowing the rate of Heat Transfer \n",
    "T1 = T_1-(Q_*R_conv1)\t\t\t#[degree Celciusthe inner surface temperature of the window glass can be determined from]\n",
    "print \"Inner Surface Temperature of the window glass\",T1,\"degree Celcius\"\n"
   ]
  },
  {
   "cell_type": "markdown",
   "metadata": {},
   "source": [
    "### Example 3.3"
   ]
  },
  {
   "cell_type": "code",
   "execution_count": 3,
   "metadata": {
    "collapsed": false
   },
   "outputs": [
    {
     "name": "stdout",
     "output_type": "stream",
     "text": [
      "The net resismath.tance offered is 0.433226495726 degree Celcius/W\n",
      "The steady rate of Heat transfer through the window is 69.2478421702 W\n",
      "Inner Surface Temperature of the window is 14.2293464858 degree Celcius\n"
     ]
    }
   ],
   "source": [
    "\n",
    "import math \n",
    "# Heat Loss through double pane windows\n",
    "\n",
    "# Variables\n",
    "k_g = 0.78\t\t\t#Thermal conductitvity of glass [W/m.K]\n",
    "k_a = 0.026\t\t\t#Thermal conductivity of air space[W/m.K]\n",
    "L_g = .004\t\t\t#Thickness of glass layer[m]\n",
    "L_a = 0.01\t\t\t#Thickness of air space[m]\n",
    "h_in = 10\t\t\t#ConvectionHeat transfer coefficient on the inner surface of the window[W/m**2]\n",
    "h_out = 40\t\t\t#ConvectionHeat transfer coefficient on the outer surface of the window[W/m**2]\n",
    "T_1 = 20\t\t\t#Outer wall Temperature [degree Celcius]\n",
    "T_2 = -10\t\t\t#Inner wall Temperature [degree Celcius]\n",
    "\n",
    "# Calculations\n",
    "A = (0.8*1.5)\t\t\t#Area of glass window[m**2]\n",
    "#Convection Resistances\n",
    "R_conv1 = 1/(h_in*A)\t\t\t#Due to convection heat transfer between inner atmosphere and glass[degree Celcius/W]\n",
    "R_conv2 = 1/(h_out*A)\t\t\t#Due to convection heat transfer between outer atmosphere and glass[degree Celcius/W]\n",
    "#Conduction Resistances\n",
    "R_cond1 = L_g/(k_g*A)\t\t\t#Due to conduction heat transfer through the glass[degree Celcius/W]\n",
    "R_cond2 = R_cond1\t\t\t#Glass Medium is seperated by air spac hence two glass mediums are created[degree Celcius/W]\n",
    "R_cond3 = L_a/(k_a*A)\t\t\t#Due to conduction heat transfer through the air space[degree Celcius/W]\n",
    "#Net Resistance offered by window is the sum of all the individual resistances written in the oreder of their occurence\n",
    "R_total = R_conv1+R_cond1+R_cond2+R_cond3+R_conv2\t\t\t#[degree Celcius/W]\n",
    "\n",
    "# Results\n",
    "print \"The net resismath.tance offered is\",R_total,\"degree Celcius/W\"\n",
    "Q_ = (T_1-T_2)/R_total\t\t\t#[W]\n",
    "print \"The steady rate of Heat transfer through the window is\",Q_,\"W\"\n",
    "#Inner surface temperature of the window is given by\n",
    "T1 = T_1-(Q_*R_conv1)\t\t\t#[degree Celcius]\n",
    "print \"Inner Surface Temperature of the window is\",T1,\"degree Celcius\"\n"
   ]
  },
  {
   "cell_type": "markdown",
   "metadata": {},
   "source": [
    "### Example 3.4"
   ]
  },
  {
   "cell_type": "code",
   "execution_count": 2,
   "metadata": {
    "collapsed": false
   },
   "outputs": [
    {
     "name": "stdout",
     "output_type": "stream",
     "text": [
      "Since thermal contact resismath.tance is the inverse of thermal contact conductance\n",
      "Hence Therml contact Resistance is 9.09090909091e-05 m**2.K/W\n",
      "Equivalent thickness is 2.15454545455 cm\n"
     ]
    }
   ],
   "source": [
    "\n",
    "import math \n",
    "# Equivalent Thickness for Contact Resistance\n",
    "\n",
    "# Variables\n",
    "k = 237 \t\t\t#Thermal conductivity of aluminium[W/m.K]\n",
    "L = 0.01\t\t\t#Thickness of aluminium plate[m]\n",
    "hc = 11000\t\t\t#Thermal contact conducmath.tance[W/m**2.K]\n",
    "\n",
    "# Calculations and Results\n",
    "Rc = 1./hc\t\t\t#[m**2.K/W]\n",
    "print (\"Since thermal contact resismath.tance is the inverse of thermal contact conductance\")\n",
    "print \"Hence Therml contact Resistance is\",Rc,\"m**2.K/W\"\n",
    "#For a unit surface area, the thermal resismath.tance of a flat plate is defined as\n",
    "R = L/k;\n",
    "#Equivalent thickness for R = Rc\n",
    "L = k*Rc\t\t\t#[m]\n",
    "print \"Equivalent thickness is\",(100*L),\"cm\"\n"
   ]
  },
  {
   "cell_type": "markdown",
   "metadata": {},
   "source": [
    "### Example 3.5"
   ]
  },
  {
   "cell_type": "code",
   "execution_count": 6,
   "metadata": {
    "collapsed": false
   },
   "outputs": [
    {
     "name": "stdout",
     "output_type": "stream",
     "text": [
      "The total thermal Tesistance is 4.03235257834 degree Cecius/W\n",
      "The rate of heat transferred is 12.3997093579 W\n",
      "The temperature jump at the interface is given by 0.369038968985 degree Celcius\n"
     ]
    }
   ],
   "source": [
    "\n",
    "import math \n",
    "# Contact Reismath.tance of Transistors\n",
    "\n",
    "# Variables\n",
    "k = 386 \t\t\t#Thermal Conductivity of Copper[W/m.K]\n",
    "hc = 42000\t\t\t#Contact Conducmath.tance coreesponding to copper-aluminium interface for the case of 1.17-1.4 micron roughness and 5MPa[pressure, which is close to given to what we have[W/m**2.K]\n",
    "Ac = .0008\t\t\t#Contact area b/w the case and the plate[m**2]\n",
    "A = 0.01\t\t\t#Plate area for each resistor[m**2]\n",
    "L = 0.01\t\t\t#Thickness of plate[m]\n",
    "ho = 25\t    \t\t#Heat tranfer coefficient for back surface\n",
    "T_1 = 20\t\t\t#Ambient Temperature[degree Celcius]\n",
    "T_2 = 70\t\t\t#Maximum temperature of case[degree Celcius]\n",
    "\n",
    "# Calculations\n",
    "#Resistances Offered\n",
    "R_interface = 1./(hc*Ac)\t\t\t#Resismath.tance offered at the copper aluminium interface[degree Cecius/W]\n",
    "R_plate = L/(k*A)\t\t\t#conduction resismath.tance offered by coppr plate[degree Cecius/W]\n",
    "R_conv = 1./(ho*A)\t\t\t#Convection resismath.tance offerd by back surface of camath.sing[degree Cecius/W]\n",
    "R_total = R_interface+R_plate+R_conv\t\t\t#[degree Cecius/W]\n",
    "\n",
    "# Results\n",
    "print \"The total thermal Tesistance is\",R_total,\"degree Cecius/W\"\n",
    "Q_ = (T_2-T_1)/R_total\t\t\t#[W]\n",
    "print \"The rate of heat transferred is\",Q_,\"W\"\n",
    "delta_T = Q_*R_interface\t\t\t#[degree Celcius]\n",
    "print \"The temperature jump at the interface is given by\",delta_T,\"degree Celcius\"\n"
   ]
  },
  {
   "cell_type": "markdown",
   "metadata": {},
   "source": [
    "### Example 3.6"
   ]
  },
  {
   "cell_type": "code",
   "execution_count": 7,
   "metadata": {
    "collapsed": false
   },
   "outputs": [
    {
     "name": "stdout",
     "output_type": "stream",
     "text": [
      "Net Resismath.tance offered is 6.87235431235 degree Celcius/W\n",
      "The steady rate of heat transfer through the wall is 4.36531625648 W\n",
      "Heat Transfer per unit area is 17.4612650259 W/m**2\n",
      "Thr rate of heat transfer through the entire wall 261.918975389 W\n"
     ]
    }
   ],
   "source": [
    "\n",
    "import math \n",
    "# Heat Loss through a Composite Wall\n",
    "\n",
    "# Variables\n",
    "#We consider a 1m deep and 0.25 m high portion of the wall math.since it is representative of the entire wall\n",
    "#Assuming any cross-section of the wall normal to the x-direction to be isothermal\n",
    "k_b = 0.72\t\t\t#thermal conductivity of bricks[W/m.K]\n",
    "k_p = 0.22\t\t\t#thermal conductivity of plaster layers[W/m.K]\n",
    "k_f = 0.026\t\t\t#thermal conductivity of foam layers[W/m.K]\n",
    "T_in = 20\t\t\t#Indoor Temperature[dgeree Celcius]\n",
    "T_out = -10\t\t\t#Outdoor Temperature[dgeree Celcius]\n",
    "h_in = 10\t\t\t#Inner heat transfer coefficient[W/m**2.K]\n",
    "h_out = 25\t\t\t#Outer heat transfer coefficient[W/m**2.K]\n",
    "L_f = 0.03\t\t\t#Thickness of foam layer[m]\n",
    "L_p = 0.02\t\t\t#Thickness of plaster[m]\n",
    "L_b = 0.16\t\t\t#Thickness of brick wall[m]\n",
    "L_c = 0.16\t\t\t#Thickness of central plaster layer[m]\n",
    "A1 = (0.25*1)\t\t\t#[m**2]\n",
    "A2 = (0.015*1)\t\t\t#[m**2]\n",
    "A3 = (0.22*1)\t\t\t#[m**2]\n",
    "\n",
    "# Calculations\n",
    "#Resistances offered:-\n",
    "R_in = 1/(h_in*A1)\t\t\t#Resismath.tance to conevction heat transfer from inner surface[degree Celcius/W]\n",
    "R1 = L_f/(k_f*A1)\t\t\t#Conduction Resismath.tance offered by outer foam layer[degree Celcius/W]\n",
    "R2 = L_p/(k_p*A1)\t\t\t#Conduction Resismath.tance offered by Outer side Plaster Wall[degree Celcius/W]\n",
    "R6 = R2\t\t\t#Conduction Resismath.tance offered by Inner side Plaster Wall[degree Celcius/W]\n",
    "R3 = L_c/(k_p*A2)\t\t\t#Conduction Resismath.tance offered by one side central Plaster wall[degree Celcius/W]\n",
    "R5 = R3\t\t\t#Conduction Resismath.tance offered by other side central Plaster wall[degree Celcius/W]\n",
    "R4 = L_b/(k_b*A3)\t\t\t#Conduction Resismath.tance offered by Brick Wall[degree Celcius/W]\n",
    "R_out = 1/(h_out*A1)\t\t\t#Convection Resismath.tance from outer surface[degree Celcius/W]\n",
    "#R_in,R1,R2,R6,R_out are connected in series\n",
    "#R3,R4,R5 are connected in parallel\n",
    "R_mid = 1/((1/R3)+(1/R4)+(1/R5))\t\t\t#Effective Parrallel Resismath.tance\n",
    "R_total = (R_in+R1+R2+R_mid+R6+R_out)\t\t\t#[degree Celcius/W]\n",
    "\n",
    "# Results\n",
    "print \"Net Resismath.tance offered is\",R_total,\"degree Celcius/W\"\n",
    "Q_ = (T_in-T_out)/R_total\t\t\t#[W]\n",
    "print \"The steady rate of heat transfer through the wall is\",Q_,\"W\"\n",
    "Q_p = Q_/A1\t\t\t                #[W/m**2]\n",
    "print \"Heat Transfer per unit area is\",Q_p,\"W/m**2\"\n",
    "A_total = 3*5\t            \t\t#Total Area of wall[m**2]\n",
    "Q_total = Q_p*A_total\t\t    \t#[W]\n",
    "print \"Thr rate of heat transfer through the entire wall\",Q_total,\"W\"\n"
   ]
  },
  {
   "cell_type": "markdown",
   "metadata": {},
   "source": [
    "### Example 3.7"
   ]
  },
  {
   "cell_type": "code",
   "execution_count": 9,
   "metadata": {
    "collapsed": false
   },
   "outputs": [
    {
     "name": "stdout",
     "output_type": "stream",
     "text": [
      "The radiation heat transfer coefficient is given by \n",
      "h_rad = e*sigma*((T2**2)+(T_tank**2))*(T2+T_tank)\n",
      "But we dont know the outer surface temperature T2 of the math.tank. hence we assume a T2 value\n",
      "since heat transfer inside the math.tank is larger \n",
      "Therefore taking T2  =  278 K\n",
      "The radiation heat transfer coefficient is determined to be 5.3382515319 W/m**2.degree Celcius\n",
      "The steady rate of heat transfer to the iced water is 7978.31498334 W\n",
      "We determine outer surface temperature to check the validity of assumption\n",
      "277.08411431 K\n",
      "which is sufficiently close to 278 K\n",
      "The total amount of heat transfer during a 24 hour period is 574438.678801 kJ\n",
      "The amount of ice that will melt during 24h period is 1721.42247168 kg\n"
     ]
    }
   ],
   "source": [
    "\n",
    "import math \n",
    "# Heat Transfer to a Spherical Container\n",
    "#Radiation effect is being considered. For the black math.tank emissivity = 1\n",
    "\n",
    "# Variables\n",
    "k = 15      \t\t\t#thermal conductivity of stainless steel[W/m.degree Celcius]\n",
    "T_ice = 0+273\t\t\t#temeperature of iced water[K]\n",
    "T_tank = 22+273\t\t\t#temperature of math.tank stored at room temperature[K]\n",
    "h_in = 80\t        \t\t#Heat Transfer Coefficient at the inner surface of the math.tank[W/m**2.degree Celcius]\n",
    "h_out = 10\t\t\t    #Heat Transfer Coefficient at the outer surface of the math.tank[W/m**2.degree Celcius]\n",
    "heat_f = 333.7\t\t\t#Heat of fusion of water at atmospheric pressure[kJ/kg]\n",
    "e = 1\t\t\t        #emissivity of math.tank\n",
    "sigma = 5.67*(10**(-8))\t\t\t#Stefan's [W/m**2.K**4]\n",
    "D1 = 3\t\t\t        #inner diameter[m]\n",
    "D2 = 3.04\t\t\t    #Outer diameter[m]\n",
    "\n",
    "# Calculations and Results\n",
    "#a)\n",
    "A1 = (math.pi)*(D1**2)\t\t\t#Inner Surface area of the math.tank[m**2]\n",
    "A2 = (math.pi)*(D2**2)\t\t\t#outer Surface area of the math.tank[m**2]\n",
    "print (\"The radiation heat transfer coefficient is given by \")\n",
    "print (\"h_rad = e*sigma*((T2**2)+(T_tank**2))*(T2+T_tank)\")\n",
    "print (\"But we dont know the outer surface temperature T2 of the math.tank. hence we assume a T2 value\")\n",
    "print (\"since heat transfer inside the math.tank is larger \")\n",
    "T2 = 5+273\t\t\t#[K]\n",
    "print \"Therefore taking T2  = \",T2,\"K\"\n",
    "\n",
    "h_rad = e*sigma*((T2**2)+(T_tank**2))*(T2+T_tank)\t\t\t#[W/m**2.K]\n",
    "print \"The radiation heat transfer coefficient is determined to be\",h_rad,\"W/m**2.degree Celcius\"\n",
    "\n",
    "#Individual Thermal Resistances Offered\n",
    "R_in = 1/(h_in*A1)\t\t\t#Resistance to convetion from inner side of math.tank[degree Celcius/W]\n",
    "R_sphere = ((D2-D1)/2)/(4*math.pi*k*(D1/2)*(D2/2))\t\t\t#Resismath.tance to conduction due to ice sphere[degree Celcius/W]\n",
    "R_out = 1/(h_out*A2)\t\t\t#Resistance to convection from outer side of math.tank[degree Celcius/W]\n",
    "R_rad = 1/(h_rad*A2)\t\t\t#Resistance to radiation heat transfer[degree Celcius/W]\n",
    "\n",
    "#R_out and R_rad are in parallel connection,\n",
    "R_eq = (1/((1/R_out)+(1/R_rad)))\t\t\t#[degree Celcius/W]\n",
    "#R_in,R_sphere and R_eq are connected in series\n",
    "R_total = R_in+R_sphere+R_eq\t\t\t#[degree Celcius/W]\n",
    "Q_ = (T_tank-T_ice)/R_total\t\t\t#[W]\n",
    "print \"The steady rate of heat transfer to the iced water is\",Q_,\"W\"\n",
    "print (\"We determine outer surface temperature to check the validity of assumption\")\n",
    "T2 = T_tank-(Q_*R_eq)\t\t\t#[K]\n",
    "print T2,\"K\"\n",
    "print (\"which is sufficiently close to 278 K\")\n",
    "\n",
    "#b)\n",
    "delta_t = 24\t\t\t#Time duration[h]\n",
    "Q = Q_*delta_t*(3600/1000)\t\t\t#[kJ]\n",
    "print \"The total amount of heat transfer during a 24 hour period is\",Q,\"kJ\"\n",
    "\n",
    "#It takes 333.7 kJ of energy to melt 1kg of ice at 0 degree Celcius\n",
    "m_ice = Q/heat_f\t\t\t#[kg]\n",
    "print \"The amount of ice that will melt during 24h period is\",m_ice,\"kg\"\n"
   ]
  },
  {
   "cell_type": "markdown",
   "metadata": {},
   "source": [
    "### Example 3.8"
   ]
  },
  {
   "cell_type": "code",
   "execution_count": 10,
   "metadata": {
    "collapsed": false
   },
   "outputs": [
    {
     "name": "stdout",
     "output_type": "stream",
     "text": [
      "The Steady rate of heat loss from the steam per m length of pipe is 120.786091657 W\n",
      "The temperature drop across the pipe and the insulation is respectively 0.022902683016 and 283.587668342 degree Celcius\n"
     ]
    }
   ],
   "source": [
    "\n",
    "import math \n",
    "# Heat Loss through an Insulated Steam Pipe\n",
    "\n",
    "# Variables\n",
    "T_steam = 320.\t\t\t#[degree Celcius]\n",
    "T_surr = 5.\t\t    \t#[degree Celcius]\n",
    "k_iron = 80.    \t\t#Thermal conductivity of cast iron[W/m.degree Celcius]\n",
    "k_insu = 0.05\t   \t\t#Thermal conductivity of glass wool insulation[W/m.degree Celcius]\n",
    "h_out = 18.\t    \t\t#Covection heat transfer coefficient outside the pipe[w/m**2.degree Celcius]\n",
    "h_in = 60.\t\t    \t#Covection heat transfer coefficient insideside the pipe[w/m**2.degree Celcius]\n",
    "D_in = 0.05\t\t\t    #Inner diameter of pipe[m]\n",
    "D_out = 0.055\t\t\t#Outer diameter of pipe[m]\n",
    "t = 0.03\t\t    \t#Thickness of insulation[m]\n",
    "r = (D_out/2)+t\t\t\t#Effective outer radius[m]\n",
    "L = 1.      \t\t\t#Length of pipe[m]\n",
    "\n",
    "# Calculations\n",
    "#Areas of surfaces math.exposed to convection\n",
    "A1 = 2*math.pi*(D_in/2)*L\t\t\t#Inner Area of pipe[m**2]\n",
    "A2 = 2*math.pi*(r)*L\t\t\t#Outer Area of pipe[m**2\n",
    "#Individual Thermal Resismath.tances\n",
    "R_conv_in = 1/(h_in*A1)\t\t\t#Resismath.tance to convetion from inner surface of pipe[degree Celcius/W]\n",
    "R_pipe = (math.log(D_out/D_in))/(2*math.pi*k_iron*L)\t\t\t#Resimath.tance to conduction through iron pipe[degree Celcius/W]\n",
    "R_insu = (math.log(r/(D_out/2)))/(2*math.pi*k_insu*L)\t\t\t#Resismath.tance to conduction through insulation[degree Celcius/W]\n",
    "R_conv_out = 1/(h_out*A2)\t\t\t#Resismath.tance to convetion from outer surface of insulation on pipe[degree Celcius/W]\n",
    "#All resismath.tances are in series\n",
    "R_total = R_conv_in+R_pipe+R_insu+R_conv_out\t\t\t#Total Resismath.tance[degree Celcius]\n",
    "Q_ = (T_steam-T_surr)/R_total\t\t\t#[W]\n",
    "\n",
    "# Results\n",
    "print \"The Steady rate of heat loss from the steam per m length of pipe is\",Q_,\"W\"\n",
    "delta_T_pipe = Q_*R_pipe\t\t\t#[degree Celcius]\n",
    "delta_T_insu = Q_*R_insu\t\t\t#[degree Celcius]\n",
    "print \"The temperature drop across the pipe and the insulation is respectively\" \\\n",
    ",delta_T_pipe,\"and\",delta_T_insu,\"degree Celcius\"\n"
   ]
  },
  {
   "cell_type": "markdown",
   "metadata": {},
   "source": [
    "### Example 3.9"
   ]
  },
  {
   "cell_type": "code",
   "execution_count": 11,
   "metadata": {
    "collapsed": false
   },
   "outputs": [
    {
     "name": "stdout",
     "output_type": "stream",
     "text": [
      "Heat generated in the wire is 80 W\n",
      "The interface temperature is 105.014629738 degree Celcius\n",
      "The critical radius of insulation of the plastic cover is 12.5 mm\n"
     ]
    }
   ],
   "source": [
    "\n",
    "import math \n",
    "# Heat Loss from an Insulated Electric Wire\n",
    "\n",
    "# Variables\n",
    "k_insu = 0.15\t\t\t#[W/m.degree Celcius]\n",
    "V = 8\t\t\t#Voltage drop across wire[Volts]\n",
    "I = 10\t\t\t#Current flowimg through the wire[Amperes]\n",
    "T_atm = 30\t\t\t#Temperature of atmosphere to which wire is math.exposed[degree Celcius]\n",
    "h = 12\t\t\t#heat transfer coefficient[W/m**2.degree Celcius]\n",
    "L = 5\t\t\t#length of wire[m]\n",
    "D = 0.003\t\t\t#diameter of wire[m]\n",
    "t = 0.002\t\t\t#thickness of insulation[m]\n",
    "r = (D/2)+t\t\t\t#Effective radius[m]\n",
    "\n",
    "# Calculations and Results\n",
    "#Rate of heat generated in the wire becomes equal to the rate of heat transfer\n",
    "Q_ = V*I\t\t\t#[W]\n",
    "print \"Heat generated in the wire is\",Q_,\"W\"\n",
    "A2 = 2*math.pi*r*L\t\t\t#Outer surface area[m**2]\n",
    "\n",
    "#Resistances offered\n",
    "R_conv = 1/(h*A2)\t\t\t#Convection resismath.tance for the outer sueface of insulation[degree Celcius/W]\n",
    "R_insu = (math.log(r/(D/2)))/(2*math.pi*k_insu*L)\t\t\t#Conduction resimath.tance for the plastic insulation[degree Celcius/W]\n",
    "#Effective Resistance\n",
    "R_total = R_conv+R_insu\t\t\t#[degree Celcius/W]\n",
    "#Interface Temperature can be determined from\n",
    "T1 = T_atm+(Q_*R_total)\t\t\t#[degree Celcius]\n",
    "print \"The interface temperature is\",T1,\"degree Celcius\"\n",
    "\n",
    "#Critical radius \n",
    "r_cr = k_insu/h\t\t\t#[m]\n",
    "print \"The critical radius of insulation of the plastic cover is\",r_cr*1000,\"mm\"\n",
    "#Larger value of critical radius ensures that increamathsing the thickness \n",
    "# of insulation upto critical radius will increase the rate of heat transfer\n"
   ]
  },
  {
   "cell_type": "markdown",
   "metadata": {},
   "source": [
    "### Example 3.10"
   ]
  },
  {
   "cell_type": "code",
   "execution_count": 12,
   "metadata": {
    "collapsed": false
   },
   "outputs": [
    {
     "name": "stdout",
     "output_type": "stream",
     "text": [
      "The given power transistor should not be operated at power levels above 3.0 W\n",
      "if is its case temperature is not to exceed 85 degree Celcius\n"
     ]
    }
   ],
   "source": [
    "\n",
    "import math \n",
    "# Maximum Power dissipation of a Transistor\n",
    "\n",
    "# Variables\n",
    "T_ambient = 25.\t\t    \t#Ambient temperature[degree Celcius]\n",
    "T_case = 85.\t\t\t    #Maximum temperature of the case[degree Celcius]\n",
    "R_case_ambient = 20.\t\t#Resismath.tance for convection b/w case and ambient [degree Celcius/W]\n",
    "\n",
    "# Calculations\n",
    "Q_ = (T_case-T_ambient)/R_case_ambient\t\t\t#[W]\n",
    "\n",
    "# Results\n",
    "print \"The given power transistor should not be operated at power levels above\",Q_,\"W\"\n",
    "print (\"if is its case temperature is not to exceed 85 degree Celcius\")\n"
   ]
  },
  {
   "cell_type": "markdown",
   "metadata": {},
   "source": [
    "### Example 3.11"
   ]
  },
  {
   "cell_type": "code",
   "execution_count": 13,
   "metadata": {
    "collapsed": false
   },
   "outputs": [
    {
     "name": "stdout",
     "output_type": "stream",
     "text": [
      "The thermal resistance b/w the transistor attached to the heat sink and the ambient air for the specified temperature difference is  1.0 degree Celcius/W\n"
     ]
    }
   ],
   "source": [
    "\n",
    "import math \n",
    "# Selecting a Heat Sink for a Transistor\n",
    "\n",
    "# Variables\n",
    "Q_ = 60.    \t\t\t#Rate of heat transfer from given transistor at at full power[W]\n",
    "T_ambient = 30.\t\t\t#Temperature of ambient air[degree Celcius]\n",
    "T_case = 90\t\t\t#Maximum temperature of case[degree Celcius]\n",
    "\n",
    "# Calculations\n",
    "R_math_sink = (T_case-T_ambient)/Q_\t\t\t#[degree Celcius/W]\n",
    "\n",
    "# Results\n",
    "print \"The thermal resistance b/w the transistor attached to the heat sink\\\n",
    " and the ambient air for the specified temperature difference is \",R_math_sink,\"degree Celcius/W\"\n"
   ]
  },
  {
   "cell_type": "markdown",
   "metadata": {},
   "source": [
    "### Example 3.12"
   ]
  },
  {
   "cell_type": "code",
   "execution_count": 14,
   "metadata": {
    "collapsed": false
   },
   "outputs": [
    {
     "name": "stdout",
     "output_type": "stream",
     "text": [
      "In case of no fins\n",
      "Rate of heat transfer when no finis attached 537.212343764 W\n",
      "0.206559111798\n",
      "Heat transfer due to the finned tube 25.3048502407 W\n",
      "Heat transfer from the unfinned portion of the tube is 1.61163703129 W\n",
      "The total Heat transfer from the finned tube is 5383.29745439 W\n",
      "The increase in heat transfer from the tube per meter of length as a result of the addition of fins is 4846.08511062 W\n",
      "The rate of heat transfer from the steam tube increases by a factor of 10.0208 as a result of adding fins\n"
     ]
    }
   ],
   "source": [
    "\n",
    "import math \n",
    "# Effect of fins on Heat transfer from steam pipes\n",
    "\n",
    "# Variables\n",
    "k_fin = 180\t\t\t#thermal conductivity of aluminium alloy fins[W/m.degree Celcius]\n",
    "D_tout = 0.03\t\t\t#Outer diameter of tube[m]\n",
    "D_fout = 0.06\t\t\t#Outer diameter of circular fins[m]\n",
    "t = 0.002\t\t\t#thickness of fin[m]\n",
    "s = 0.003\t\t\t#dismath.tance between fins attached to the tube[m]\n",
    "n = 200\t\t\t#number of fins per meter of tube\n",
    "L = 1\t\t\t#length of tube[m]\n",
    "T_surr = 25\t\t\t#Surrounding temperature[degree Celcius]\n",
    "T_wall = 120\t\t\t#Temperature of wall of the tube[degree Celcius]\n",
    "h = 60\t\t\t#Combined heat transfer coefficient[W/m**2.degree Celcius]\n",
    "\n",
    "# Calculations and Results\n",
    "print (\"In case of no fins\")\n",
    "A_nf = math.pi*D_tout*L\t\t\t#Area of tube with no fins attached[m**2]\n",
    "\n",
    "#Using Newton's Law of cooling\n",
    "Q_nf = h*A_nf*(T_wall-T_surr)\t\t\t#[W]\n",
    "print \"Rate of heat transfer when no finis attached\",Q_nf,\"W\"\n",
    "\n",
    "#The efficiency of the circular fins attached to a circular tube is plotted in Fig 3.43\n",
    "L_fin = (D_fout-D_tout)/2\t\t\t#[m]\n",
    "#In this case we have following corrected parameters\n",
    "r2c = (D_fout+t)/2\t\t\t#[m]\n",
    "Lc = L_fin+(t/2)\t\t\t#[m]\n",
    "Ap = Lc*t\t\t\t#[m**2]\n",
    "r = r2c/(D_tout/2);\n",
    "alpha = (Lc*math.sqrt(Lc))*math.sqrt(h/(k_fin*Ap))\t\t\t#efficiency\n",
    "print (alpha)\n",
    "\n",
    "#for above value of alpha efficiency is found out from the plot in fig 3.43\n",
    "neta = 0.96;\n",
    "A_f = 2*math.pi*((r2c**2)-((D_tout/2)**2))\t\t\t#Area of tube with fins attached to it[m**2]\n",
    "Q_f_max = h*A_f*(T_wall-T_surr)\t\t\t#maximum rate of heat transfer[W]\n",
    "Q_f = neta*Q_f_max\t\t\t#Heat transfer through tube with fins is efficiency times the maximum rate of heat transfer[W]\n",
    "print \"Heat transfer due to the finned tube\",Q_f,\"W\"\n",
    "\n",
    "#From unfinned portion\n",
    "A_uf = math.pi*D_tout*s\t\t\t        # Unfinned area between two consecutive fins[m**2]\n",
    "Q_uf = h*A_uf*(T_wall-T_surr)\t\t\t# [W]\n",
    "print \"Heat transfer from the unfinned portion of the tube is\",Q_uf,\"W\"\n",
    "\n",
    "#Since there are 200 fins per meter of the tube hence 200 interfin spacing \n",
    "Q_tf = n*(Q_f+Q_uf)\t\t\t            #[W]\n",
    "print \"The total Heat transfer from the finned tube is\",Q_tf,\"W\"\n",
    "Q_increase = Q_tf-Q_nf\t\t\t        #[W]\n",
    "print \"The increase in heat transfer from the tube per meter of\\\n",
    " length as a result of the addition of fins is\",Q_increase,\"W\"\n",
    "eff = Q_tf/Q_nf\t\t\t                #Effectiveness\n",
    "print \"The rate of heat transfer from the steam tube increases by a factor of\",eff,\n",
    "print (\"as a result of adding fins\")\n"
   ]
  },
  {
   "cell_type": "markdown",
   "metadata": {},
   "source": [
    "### Example 3.13"
   ]
  },
  {
   "cell_type": "code",
   "execution_count": 15,
   "metadata": {
    "collapsed": false
   },
   "outputs": [
    {
     "name": "stdout",
     "output_type": "stream",
     "text": [
      "Shape factor is 62.9213634607\n",
      "The steady rate of heat transfer from the pipe is 3964.04589803 W\n"
     ]
    }
   ],
   "source": [
    "\n",
    "import math \n",
    "# Heat Loss from Buried Steam Pipes\n",
    "\n",
    "# Variables\n",
    "T_esurf = 10\t\t\t#Surface temperatur of earth[degree Celcius]\n",
    "T_psurf = 80\t\t\t#Outer surface temperature of pipe[degree Celcius]\n",
    "k_soil = 0.9            #Thermal Conductivity of soil[W/m.degree Celcius]\n",
    "L = 30\t\t    \t    #Length of pipe[m]\n",
    "D = 0.1\t    \t    \t#Diameter of pipe[m]\n",
    "z = 0.5\t\t\t        #Depth at which pipe is kept[m]\n",
    "\n",
    "# Calculations and Results\n",
    "#Calculating shape factor\n",
    "if(z>(1.5*D)):\n",
    "    S = (2*math.pi*L)/(math.log((4*z)/D))     #[m]\n",
    "\n",
    "print \"Shape factor is\",S\n",
    "Q_ = S*k_soil*(T_psurf-T_esurf)\t\t\t#[W]\n",
    "print \"The steady rate of heat transfer from the pipe is\",Q_,\"W\"\n"
   ]
  },
  {
   "cell_type": "markdown",
   "metadata": {},
   "source": [
    "### Example 3.14"
   ]
  },
  {
   "cell_type": "code",
   "execution_count": 17,
   "metadata": {
    "collapsed": false
   },
   "outputs": [
    {
     "name": "stdout",
     "output_type": "stream",
     "text": [
      "Shave factor for given configuration is 9.18907197502e-30 m\n",
      "The steady rate of heat transfer between the pipes becomes 3.79049218969e-28 W\n"
     ]
    }
   ],
   "source": [
    "\n",
    "import math \n",
    "# Heat Transfer between Hot and Cold Water pipes\n",
    "\n",
    "# Variables\n",
    "T_hot = 70.\t\t\t#Surface Temperature of hot pipe[degree Celcius]\n",
    "T_cold = 15.\t\t#Surface Temperature of cold pipe[degree Celcius]\n",
    "L = 5\t\t    \t#Length of both pipes[m]\n",
    "D = 0.05\t\t\t#Diameter of both the pipes[m]\n",
    "z = 0.3\t    \t\t#Dismath.tance between centreline of both the pipes[m]\n",
    "k = 0.75\t\t\t#Thermal Conductivity of the concerte[W/m.degree Celcius]\n",
    "\n",
    "# Calculations and Results\n",
    "#Calculating Shape Factor\n",
    "S = (2*math.pi*L)/(math.cosh(((4*(z**2))-(D**2)-(D**2))/(2*D*D)))\t\t\t#[m]\n",
    "print \"Shave factor for given configuration is\",S,\"m\"\n",
    "Q_ = S*k*(T_hot-T_cold)\t\t\t#[W]\n",
    "print \"The steady rate of heat transfer between the pipes becomes\",Q_,\"W\"\n"
   ]
  },
  {
   "cell_type": "markdown",
   "metadata": {},
   "source": [
    "### Example 3.15"
   ]
  },
  {
   "cell_type": "code",
   "execution_count": 18,
   "metadata": {
    "collapsed": false
   },
   "outputs": [
    {
     "name": "stdout",
     "output_type": "stream",
     "text": [
      "The steady rate of heat transfer through the walls of the house is 925.699540089 W\n",
      "The total amount of heat lost through the walss during a 24 hour period  22.2167889621 kWh/day\n",
      "Cost of heat consumption is $ 1.66625917216 per day\n"
     ]
    }
   ],
   "source": [
    "\n",
    "import math \n",
    "# Cost of Heat Loss through walls in winter\n",
    "\n",
    "# Variables\n",
    "R_va_insu = 2.3\t\t\t#thickness to thermal conductivity ratio[m**2.degreeCelcius/W]\n",
    "L1 = 12.    \t\t\t#length of first wall of house[m]\n",
    "L2 = 12.\t    \t\t#length of second wall of house[m]\n",
    "L3 = 9.\t       \t    \t#length of third wall of house[m]\n",
    "L4 = 9.\t\t        \t#length of fourth wall of house[m]\n",
    "H = 3.\t\t\t        #height of all the walls[m]\n",
    "T_in = 25.\t\t\t    #Temperature inside house[degree Celcius]\n",
    "T_out = 7.;\t\t\t    #average temperature of outdoors on a certain day[degree Celcius]\n",
    "ucost = 0.075   \t\t#Unit Cost of elctricity[$/kWh]\n",
    "h_in = 8.29\n",
    "h_out = 34.0\t\t\t#Heat transfer coefficients for inner and outer surface of the walls respectively[W/m**2.degree Celcius]\n",
    "v = 24*(3600./1000)\t\t\t#velocity of wind[m/s]\n",
    "\n",
    "# Calculations and Results\n",
    "#Heat transfer Area of walls = (Perimeter*Height)\n",
    "A = (L1+L2+L3+L4)*H\t\t\t#[m**2]\n",
    "#Individual Resismath.tances\n",
    "R_conv_in = 1/(h_in*A)\t\t\t#Convection Resismath.tance on inner surface of wall[degree Celcius/W]\n",
    "R_conv_out = 1/(h_out*A)\t\t\t#Convection Resismath.tance on outer surface of wall[degree Celcius/W]\n",
    "R_wall = R_va_insu/A\t\t\t#Conduction resismath.tance to wall[degree Celcius/W]\n",
    "\n",
    "#All resistances are in series\n",
    "R_total = R_conv_in+R_wall+R_conv_out\t\t\t#[degree Celcius/W]\n",
    "Q_ = (T_in-T_out)/R_total\t\t\t#[W]\n",
    "print \"The steady rate of heat transfer through the walls of the house is\",Q_,\"W\"\n",
    "delta_t = 24\t\t\t        #Time period[h]\n",
    "Q = (Q_/1000)*delta_t\t\t\t#[kWh/day]\n",
    "print \"The total amount of heat lost through the walss during a 24 hour period \",Q,\"kWh/day\"\n",
    "cost = Q*ucost      \t\t\t#[$/day]\n",
    "print \"Cost of heat consumption is $\",cost,\"per day\"\n"
   ]
  },
  {
   "cell_type": "markdown",
   "metadata": {},
   "source": [
    "### Example 3.16"
   ]
  },
  {
   "cell_type": "code",
   "execution_count": 19,
   "metadata": {
    "collapsed": false
   },
   "outputs": [
    {
     "name": "stdout",
     "output_type": "stream",
     "text": [
      "Overall U factor is 0.553401639344 W/m**\n",
      "Overall unit thermal Resistance is 1.80700585055 degree Celcius.m**2/W\n",
      "The rate of heat loss through the walls under design conditions is 1328.16393443 W\n"
     ]
    }
   ],
   "source": [
    "\n",
    "import math \n",
    "# The R-value of a Wood Frame Wall\n",
    "\n",
    "# Variables\n",
    "f_area_insu = 0.75\t\t\t#area fraction for the insulation section\n",
    "f_area_stud = 0.25\t\t\t#area fraction for the stud\n",
    "R_bstud = 3.05\t\t\t#Total unit thermal resismath.tance of section between studs[m**.degree Celcius/W]\n",
    "R_atstud = 1.23\t\t\t#Total unit thermal resismath.tance of section at studs[m**.degree Celcius/W]\n",
    "P = 50\t\t\t#Perimeter of the building[m]\n",
    "H = 2.5\t\t\t#height of the walls[m]\n",
    "T_in = 22\t\t\t#Temperature inside the walls[degree Celcius]\n",
    "T_out = -2\t\t\t#Temperature outside the walls[degree Celcius]\n",
    "\n",
    "# Calculations and Results\n",
    "U_bstud = 1/R_bstud\t\t\t#[W/m**2.degree Celcius]\n",
    "U_atstud = 1/R_atstud\t\t\t#[W/m**2.degree Celcius]\n",
    "Total_U = (f_area_insu*U_bstud)+(f_area_stud*R_atstud)\t\t\t#[W/m**2.degree Celcius]\n",
    "print \"Overall U factor is\",Total_U,\"W/m**\"\n",
    "print \"Overall unit thermal Resistance is\",(1/Total_U),\"degree Celcius.m**2/W\"\n",
    "\n",
    "#/Since glazing constitutes 20% of the walls,\n",
    "A_wall = (0.80)*P*H\t\t\t#[m**2]\n",
    "Q_ = Total_U*A_wall*(T_in-T_out)\t\t\t#[W]\n",
    "print \"The rate of heat loss through the walls under design conditions is\",Q_,\"W\"\n",
    "#Answer is slighthly different from book because of no of digits after decimal pont used here is quite large\n"
   ]
  },
  {
   "cell_type": "markdown",
   "metadata": {},
   "source": [
    "### Example 3.17"
   ]
  },
  {
   "cell_type": "code",
   "execution_count": 20,
   "metadata": {
    "collapsed": false
   },
   "outputs": [
    {
     "name": "stdout",
     "output_type": "stream",
     "text": [
      "Old R value is 2.23 m**2.degree Celcius/W\n",
      "New R value is 2.98 m**2.degree Celcius/W\n",
      "Percent increase in R-value 33.6322869955\n"
     ]
    }
   ],
   "source": [
    "\n",
    "import math \n",
    "# The R value of a Wall with Rigid Foam\n",
    "\n",
    "# Variables\n",
    "#using values from previous  \n",
    "R_old = 2.23\t\t\t#AS written in book[m**2.degree Celcius/W]\n",
    "#R value of of the fibreboard and the foam insulation, respectively\n",
    "R_removed = 0.23\t\t\t#[m**2.degree Celcius/W]\n",
    "R_added = 0.98\t\t\t#[m**2.degree Celcius/W]\n",
    "\n",
    "# Calculations\n",
    "R_new = R_old-R_removed+R_added\t\t\t#[m**2.degree Celcius/W]\n",
    "increase = ((R_new-R_old)/R_old)*100;\n",
    "\n",
    "# Results\n",
    "print \"Old R value is\",R_old,\"m**2.degree Celcius/W\"\n",
    "print \"New R value is\",R_new,\"m**2.degree Celcius/W\"\n",
    "print \"Percent increase in R-value\",increase\n"
   ]
  }
 ],
 "metadata": {
  "kernelspec": {
   "display_name": "Python 2",
   "language": "python",
   "name": "python2"
  },
  "language_info": {
   "codemirror_mode": {
    "name": "ipython",
    "version": 2
   },
   "file_extension": ".py",
   "mimetype": "text/x-python",
   "name": "python",
   "nbconvert_exporter": "python",
   "pygments_lexer": "ipython2",
   "version": "2.7.6"
  }
 },
 "nbformat": 4,
 "nbformat_minor": 0
}
