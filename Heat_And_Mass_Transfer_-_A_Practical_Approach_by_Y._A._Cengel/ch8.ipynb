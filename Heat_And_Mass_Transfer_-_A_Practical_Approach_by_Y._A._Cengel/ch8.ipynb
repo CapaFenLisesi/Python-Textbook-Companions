{
 "cells": [
  {
   "cell_type": "markdown",
   "metadata": {},
   "source": [
    "# Chapter 8 : Internal Forced Convection"
   ]
  },
  {
   "cell_type": "markdown",
   "metadata": {},
   "source": [
    "### Example 8.1"
   ]
  },
  {
   "cell_type": "code",
   "execution_count": 2,
   "metadata": {
    "collapsed": false
   },
   "outputs": [
    {
     "name": "stdout",
     "output_type": "stream",
     "text": [
      "The rate of heat transfer is 125.61 kW\n",
      "Logrithmic Mean temperature difference is 32.8458738753 degree Celcius\n",
      "Heat Transfer surface area is 4.78028079253 m**2\n",
      "Required tube length is 61.0 m\n"
     ]
    }
   ],
   "source": [
    "\n",
    "import math \n",
    "# Heating of water in a tube by Steam\n",
    "\n",
    "# Variables\n",
    "id_ = 0.025 \t\t\t#Internal diameter[m]\n",
    "Tin = 15.\t    \t\t#Initial temp[degree Celcius]\n",
    "m_ = 0.3\t\t    \t#Flow rate[kg/s]\n",
    "h = 800./1000\t\t\t#avg heat transfer coefficient[W/m**2.degree Celcius]\n",
    "Tf = 115.\t\t\t#Final temp of water[degree Celcius]\n",
    "Ts = 120.\t\t\t#[degree Celcius]\n",
    "Hs = 2203.\t\t\t#Heat of condensation of steam at 120 degree Celcius[kJ/kg]\n",
    "Tavg = (Tin+Tf)/2\t\t\t#[degree Celcius]\n",
    "Cp = 4187.\t\t\t#Sp Heat of water at Tavg[J/kg.degree Celcius]\n",
    "\n",
    "# Calculations and Results\n",
    "Q_ = m_*Cp*(Tf-Tin)/1000\t\t\t#[kW]\n",
    "print \"The rate of heat transfer is\",Q_,\"kW\"\n",
    "\n",
    "del_Tf = Ts-Tf\t\t\t    #[degree Celcius]\n",
    "del_Tin = Ts-Tin\t\t\t#[degree Celcius]\n",
    "ln_del_T = (del_Tf-del_Tin)/(math.log(del_Tf/del_Tin))\t\t\t#[degree Celcius]\n",
    "print \"Logrithmic Mean temperature difference is\",ln_del_T,\"degree Celcius\"\n",
    "\n",
    "A = Q_/(h*ln_del_T)\t\t\t#[m**2]\n",
    "print \"Heat Transfer surface area is\",A,\"m**2\"\n",
    "\n",
    "l = A/(math.pi*id_)\t\t\t#[m]\n",
    "print \"Required tube length is\",round(l),\"m\"\n"
   ]
  },
  {
   "cell_type": "markdown",
   "metadata": {},
   "source": [
    "### Example 8.2"
   ]
  },
  {
   "cell_type": "code",
   "execution_count": 4,
   "metadata": {
    "collapsed": false
   },
   "outputs": [
    {
     "name": "stdout",
     "output_type": "stream",
     "text": [
      "The reynolds number is  1777.3074391\n",
      "Friction factor is 0.0359955005624\n",
      "The Pressure drop is  48.5890663667 kPa\n",
      "Volumetric flow rate is 6.36172512352e-06 m**3/s\n",
      "Mechanical Power Input of 0.309110284233 W\n",
      "is needed to overcome the frictional losses in the flow due to viscosity\n"
     ]
    }
   ],
   "source": [
    "\n",
    "import math \n",
    "# Pressure Drop in a tube\n",
    "\n",
    "# Variables\n",
    "Tw = 5\t\t\t#Temperature of water[degree Celcius]\n",
    "#Properties of water at Tw\n",
    "rho = 999.9\t\t\t#[kg/m**3]\n",
    "mu = 1.519*10**(-3)\t\t\t#Vismath.cosity[kg/m.s]\n",
    "d = 0.003\t\t\t#diameter[m]\n",
    "l = 10\t\t\t#length[m]\n",
    "v_avg = 0.9\t\t\t#Average flow velocity[m/s]\n",
    "\n",
    "# Calculations and Results\n",
    "Re = (rho*v_avg*d)/mu;\n",
    "print \"The reynolds number is \",Re\n",
    "\n",
    "f = 64/math.ceil(Re);\n",
    "print \"Friction factor is\",f\n",
    "\n",
    "del_P = f*l*rho*(v_avg**2)/(2*d)\t\t\t#[N/m**2]\n",
    "print \"The Pressure drop is \",del_P/1000,\"kPa\"\n",
    "\n",
    "V = v_avg*(math.pi*(d**2))/4\t\t\t#[m**3/s]\n",
    "print \"Volumetric flow rate is\",V,\"m**3/s\"\n",
    "\n",
    "W_pump = V*del_P\t\t\t#[W]\n",
    "print \"Mechanical Power Input of\",W_pump,\"W\"\n",
    "print (\"is needed to overcome the frictional losses in the flow due to viscosity\")\n"
   ]
  },
  {
   "cell_type": "markdown",
   "metadata": {},
   "source": [
    "### Example 8.3"
   ]
  },
  {
   "cell_type": "code",
   "execution_count": 5,
   "metadata": {
    "collapsed": false
   },
   "outputs": [
    {
     "name": "stdout",
     "output_type": "stream",
     "text": [
      "The Reynolds number is 636.334712059\n",
      "The thermal entry length is 103687.559656 m\n",
      "Exit temperature of oil is 19.7139328074 degree Celcius\n",
      "The logrithmic mean temperature difference is -19.856622966 degree Celcius\n",
      "The rate of heat loss from the oil are -67522.7559473 W\n",
      "1184133.33333\n",
      "We need a  167.402906139 pump just to overcome the friction in the pipe as the oil flows\n"
     ]
    }
   ],
   "source": [
    "\n",
    "import math \n",
    "# Flow of Oil in a Pipeline through a Lake\n",
    "\n",
    "# Variables\n",
    "Ts = 0\t\t\t#Temp of lake[degree Celcius]\n",
    "Ti = 20\t\t\t#Temp of oil[degree Celcius]\n",
    "d = 0.3\t\t\t#Diameter[m]\n",
    "l = 200\t\t\t#length of pipe[m]\n",
    "\n",
    "#At 20 degree Celcius\n",
    "rho = 888.1\t\t\t#[kg/m**3]\n",
    "nu = 9.429*10**(-4)\t\t\t#Kinematic vismath.cosity[m**2/s]\n",
    "k = 0.145\t\t\t#[W/m.degree Celcius]\n",
    "Cp = 1880\t\t\t#[J/kg.degree Celcius]\n",
    "Pr = 10863\t\t\t#Prandtl Number\n",
    "v_avg = 2\t\t\t#[m/s]\n",
    "\n",
    "# Calculations and Results\n",
    "Re = v_avg*d/nu;\n",
    "print \"The Reynolds number is\",Re\n",
    "\n",
    "Lt = 0.05*Re*Pr*d\t\t\t#[m]\n",
    "print \"The thermal entry length is\",Lt,\"m\"\n",
    "\n",
    "Nu = 3.66+((0.065*(d/l)*Re*Pr)/(1+(0.04*(((d/l)*Re*Pr)**(2./3)))));\n",
    "h = (k*Nu)/d            \t        \t\t#[W/m**2.degree Celcius]\n",
    "As = math.pi*d*l\t\t                  \t#[m**2]\n",
    "m_ = rho*math.pi*((d/2)**2)*v_avg\t\t\t#[kg/s]\n",
    "Te = Ts-((Ts-Ti)*math.exp((-h*As)/(m_*Cp)))\t\t\t#[degree Celcius]\n",
    "print \"Exit temperature of oil is\",Te,\"degree Celcius\"\n",
    "\n",
    "#Solution(b):-\n",
    "ln_del_T = (Ti-Te)/(math.log((Ts-Te)/(Ts-Ti)))\t\t\t#[degree Celcius]\n",
    "print \"The logrithmic mean temperature difference is\",ln_del_T,\"degree Celcius\"\n",
    "\n",
    "Q = h*As*ln_del_T\t\t\t#[W]\n",
    "print \"The rate of heat loss from the oil are\",Q,\"W\"\n",
    "\n",
    "#Solution(c)\n",
    "f = 64/Re\t\t\t                    #Friction factor is\n",
    "del_P = l*rho*(v_avg**2)/(2*d)\t\t\t#[N/m**2]\n",
    "print (del_P);\n",
    "\n",
    "W_pump = m_*del_P/rho\t\t\t#[kW]\n",
    "print \"We need a \",W_pump/1000,\"pump just to overcome the friction in the pipe as the oil flows\"\n"
   ]
  },
  {
   "cell_type": "markdown",
   "metadata": {},
   "source": [
    "### Example 8.4"
   ]
  },
  {
   "cell_type": "code",
   "execution_count": 7,
   "metadata": {
    "collapsed": false
   },
   "outputs": [
    {
     "name": "stdout",
     "output_type": "stream",
     "text": [
      " Reynolds Number is 122961.598599\n",
      "The required poer input tp overcome the frictional losses in the tube is 6512.73333333 W\n"
     ]
    }
   ],
   "source": [
    "\n",
    "import math \n",
    "# Pressure Drop in a Water tube\n",
    "\n",
    "# Variables\n",
    "Tw = 15\t\t\t#temp of water while entering[degree Celcius]\n",
    "rho = 999.1\t\t\t#[kg/m**3]\n",
    "mu = 1.138*10**(-3)\t\t\t#Vismath.cosity[kg/m.s]\n",
    "id_ = 0.05\t\t\t#Internal diameter[m]\n",
    "V = 5.5*10**(-3)\t\t\t#Flow rate[m**3/s]\n",
    "l = 60\t\t\t#length of tube[m]\n",
    "e = 0.002*10**(-3)\t\t\t#[m]\n",
    "#Solution:-\n",
    "v = V/(math.pi*(id_**2)*(1./4))\t\t\t#Mean Velocity[m/s]\n",
    "Re = rho*v*id_/mu;\n",
    "print \"Reynolds Number is\",Re\n",
    "\n",
    "#Flow is turbulent\n",
    "r = e/id_\t\t\t#Relative roughness of the tube\n",
    "def fric(fac):\n",
    "    Func[0] = (1/(fac[0]**(1./2)))+(2*math.log((0.00004/3.7)+(2.51/(122900*fac[0]**(1./2)))));\n",
    "  \n",
    "    \n",
    "#print \"Friction Factor is\",xs\n",
    "#del_P = xs*l*rho*(v**2)/(2*id_)\t\t\t#[kPa]\n",
    "#print \"The pressure drop is\",del_P,\"Pa\"\n",
    "W_pump = V*del_P\t\t\t            #[W]\n",
    "print \"The required poer input tp overcome the frictional losses in the tube is\",W_pump,\"W\"\n"
   ]
  },
  {
   "cell_type": "markdown",
   "metadata": {},
   "source": [
    "### Example 8.5"
   ]
  },
  {
   "cell_type": "code",
   "execution_count": 8,
   "metadata": {
    "collapsed": false
   },
   "outputs": [
    {
     "name": "stdout",
     "output_type": "stream",
     "text": [
      "The power rating of the heater is 34.475475 kW\n",
      "Heat flux is 73.1592301559 kW/m**2\n",
      "The nussel number is 69.3506779058\n",
      "The surface temperature of the pipe at the exit becomes 115.0 degree Celcius\n"
     ]
    }
   ],
   "source": [
    "\n",
    "import math \n",
    "# Heating of water by Resismath.tance Heaters in a tube\n",
    "\n",
    "# Variables\n",
    "Ti = 15 \t\t        \t#Initial Temp[degree Celcius]\n",
    "Tf = 65\t        \t\t    #Final Temp[degree Celcius]\n",
    "d = 0.03\t     \t    \t#Internal diameter[m]\n",
    "l = 5   \t\t        \t#length[m]\n",
    "V = 10.*10**(-3)\t\t\t#flow rate of water[m**3/s]\n",
    "Tavg = (Ti+Tf)/2\t\t\t#[degree Celcius]\n",
    "#Properties of water at Tavg\n",
    "rho = 992.1\t\t        \t#[kg/m**3]\n",
    "Cp = 4170\t        \t\t#[J/kg.degree Celcius]\n",
    "k = 0.631       \t\t\t#[W/m.degree Celcius]\n",
    "nu = 0.658*10**(-6)\t\t\t#[m**2/s]\n",
    "Pr = 4.32       \t\t\t#Prandtl Number\n",
    "\n",
    "# Calculations and Results\n",
    "Ac = math.pi*(d**2)*(1./4)\t\t#[m**2]\n",
    "As = math.pi*d*l\t\t    \t#[m**2]\n",
    "m_ = rho*V*(1./60)\t    \t\t#[kg/s]\n",
    "Q_ = m_*Cp*(Tf-Ti)/1000\t\t\t#[kW]\n",
    "print \"The power rating of the heater is\",Q_,\"kW\"\n",
    "\n",
    "qs = Q_/As      \t\t\t#[kW/m**2]\n",
    "print \"Heat flux is\",qs,\"kW/m**2\"\n",
    "\n",
    "v_avg = V/(Ac*60)\t\t\t#[m/s]\n",
    "Re = v_avg*d/nu\t\t    \t#[Reynolds Number]\n",
    "Lt = 10*d\t\t    \t    #Entry length [m]\n",
    "Nu = 0.023*(Re**(0.8))*(Pr**(0.4));\n",
    "print \"The nussel number is\",Nu\n",
    "\n",
    "h = k*Nu/d\t        \t\t#[W/m**2]\n",
    "Ts = Tf+(qs*1000/h)\t\t\t#[degree Celcius]\n",
    "print \"The surface temperature of the pipe at the exit becomes\",round(Ts),\"degree Celcius\"\n"
   ]
  },
  {
   "cell_type": "markdown",
   "metadata": {},
   "source": [
    "### Example 8.6"
   ]
  },
  {
   "cell_type": "code",
   "execution_count": 9,
   "metadata": {
    "collapsed": false
   },
   "outputs": [
    {
     "name": "stdout",
     "output_type": "stream",
     "text": [
      "Reynolds number is 35765.379113\n",
      "The exit temperature of air is 71.2940188449 degree Celcius\n",
      "The math.logrithmic mean temperature difference and the rate of heat loss from the air are -15.2346559432 degree Celcius and -1316.0 W respectively\n"
     ]
    }
   ],
   "source": [
    "\n",
    "import math \n",
    "#  Heat Loss from the ducts of a Heating System\n",
    "\n",
    "# Variables\n",
    "Ti = 80\t\t\t#Inlet temp[degree Celcius]\n",
    "A = 0.2*0.2\t\t\t#Area of cross section[m**2]\n",
    "l = 8\t\t\t#Length of tube[m]\n",
    "V = 0.15\t\t\t#[m**3/s]\n",
    "Td = 60\t\t\t#Temperature of duct[degree Celcius]\n",
    "#Properties of air at inlet conditions\n",
    "rho = 0.9994\t\t\t#[kg/m**3]\n",
    "Cp = 1008\t\t\t#[J/kg.degree Celcius]\n",
    "k = 0.02953\t\t\t#[W/m.degree Celcius]\n",
    "nu = 2.097*10**(-5)\t\t\t#[m**2/s]\n",
    "Pr = 0.7154\t\t\t#Prandtl number\n",
    "\n",
    "# Calculations and Results\n",
    "Dh = 4*A/(4*0.2)\t\t\t#Hydraulic Diameter[m]\n",
    "v_avg = V/A\t\t\t#[m/s]\n",
    "Re = v_avg*Dh/nu;\n",
    "print \"Reynolds number is\",Re\n",
    "\n",
    "Lt = 10*Dh\t\t\t#Entry length\n",
    "Nu = 0.023*(Re**(0.8))*(Pr**(0.3));\n",
    "h = Nu*k/Dh\t\t\t#[W/m**2.degree Celcius]\n",
    "As = 4*0.2*l\t\t\t#[m**2]\n",
    "m_ = rho*V\t\t\t#[kg/s]\n",
    "Te = Td-((Td-Ti)*math.exp((-h*As)/(m_*Cp)))\t\t\t#[degree Celcius]\n",
    "print \"The exit temperature of air is\",Te,\"degree Celcius\"\n",
    "\n",
    "ln_delT = (Ti-Te)/(math.log((Td-Te)/(Td-Ti)))\t\t\t#[degree Celcius]\n",
    "Q = h*As*ln_delT\t\t\t#[W]\n",
    "print \"The math.logrithmic mean temperature difference and the rate of heat loss from the air are\" \\\n",
    ",ln_delT,\"degree Celcius\",\"and\",round(Q),\"W\",\"respectively\"\n"
   ]
  },
  {
   "cell_type": "markdown",
   "metadata": {},
   "source": [
    "### Example 8.7"
   ]
  },
  {
   "cell_type": "code",
   "execution_count": 10,
   "metadata": {
    "collapsed": false
   },
   "outputs": [
    {
     "name": "stdout",
     "output_type": "stream",
     "text": [
      "Reynolds number is 7652.65549153\n",
      "For bell mouth inlet friction coefficient is 0.00978680626691\n",
      "For square edged inlet case coefficient of friction is 0.00818459567862\n"
     ]
    }
   ],
   "source": [
    "\n",
    "import math \n",
    "# Non-isothermal fully developed Friction in the Transition Region\n",
    "\n",
    "# Variables\n",
    "q = 8\t\t\t#Wall heat flux[kW/m**2]\n",
    "xm = 0.34\t\t\t#Mass fraction\n",
    "d = 0.0158\t\t\t#Inside diameter[m]\n",
    "V = 1.32*10**(-4)\t\t\t#Flow rate[m**3/s]\n",
    "Pr = 11.6\t\t\t#Prandtl Number\n",
    "nu = 1.39*10**(-6)\t\t\t#[m**2/s]\n",
    "p = 1.14\t\t\t#(mu_b/mu_s)i.e. ratio of vismath.cosities of two subsmath.tances\n",
    "Gr = 60800\t\t\t#Grashof number\n",
    "\n",
    "# Calculations and Results\n",
    "Ac = math.pi*(d**2)*(1./4)\t\t\t#[m**2]\n",
    "Re = (V/Ac)*d/nu;\n",
    "print \"Reynolds number is\",Re\n",
    "\n",
    "#For bell mouth inlet shape\n",
    "Cf1 = ((1+((round(Re)/5340)**(-0.099)))**(-6.32))*(p**(-2.58-0.42*(60.800**(-0.41))*(11.6**0.265)));\n",
    "print \"For bell mouth inlet friction coefficient is\",Cf1\n",
    "\n",
    "#For square edged inlet Case\n",
    "Cf2 = (0.0791/(Re**(0.25)))*(p**(-0.25));\n",
    "print \"For square edged inlet case coefficient of friction is\",Cf2\n"
   ]
  },
  {
   "cell_type": "markdown",
   "metadata": {},
   "source": [
    "### Example 8.8"
   ]
  },
  {
   "cell_type": "code",
   "execution_count": 11,
   "metadata": {
    "collapsed": false
   },
   "outputs": [
    {
     "name": "stdout",
     "output_type": "stream",
     "text": [
      "Reynolds Number is 6715.3984427\n",
      "(a) Nusselt number for re-entrant inlet is 88.259512708\n",
      "(b) Nusselt number for square edged inlet is 85.3094482545\n",
      "(c) Nusselt number for bell mouth inlet is 21.3233283966\n"
     ]
    }
   ],
   "source": [
    "\n",
    "import math \n",
    "# Heat transfer in the Transition Region\n",
    "\n",
    "# Variables\n",
    "xm = 0.6\t\t\t#mass fraction of glycol\n",
    "V = 2.6*10**(-4)\t\t\t#Flow rate[m**3/s]\n",
    "d = 0.0158\t\t\t#inside diameter[m]\n",
    "Gr = 51770\t\t\t#grashof number\n",
    "Pr = 29.2\t\t\t#Prandtl number\n",
    "nu = 3.12*10**(-6)\t\t\t#[m**2/s]\n",
    "p = 1.77\t\t\t#mu_t/mu_s\n",
    "q = 90\t\t\t#A particular loctaion x with x/d = q\n",
    "\n",
    "# Calculations and Results\n",
    "Ac = math.pi*(d**2)/4;\n",
    "Re = (V/Ac)*d/nu;\n",
    "print \"Reynolds Number is\",Re\n",
    "\n",
    "#Value of Re lies in transition Region\n",
    "Nu_lam = 1.24*(((Re*Pr/q)+(0.025*((Gr*Pr)**(0.75))))**(1./3))*(p**(0.14));\n",
    "Nu_tur = 0.023*(Re**(0.8))*(Pr**0.385)*(q**(-0.0054))*(p**(0.14));\n",
    "#(a)\n",
    "Nu_tran_a = Nu_lam+((math.exp((1766-Re)/276)+(Nu_tur**(-0.955)))**(-0.955));\n",
    "print \"(a) Nusselt number for re-entrant inlet is\",Nu_tran_a\n",
    "\n",
    "Nu_tran_b = Nu_lam+((math.exp((2617-Re)/207)+(Nu_tur**(-0.950)))**(-0.950));\n",
    "print \"(b) Nusselt number for square edged inlet is\",Nu_tran_b\n",
    "\n",
    "Nu_tran_c = Nu_lam+((math.exp((6628-Re)/237)+(Nu_tur**(-0.980)))**(-0.980));\n",
    "print \"(c) Nusselt number for bell mouth inlet is\",Nu_tran_c\n"
   ]
  }
 ],
 "metadata": {
  "kernelspec": {
   "display_name": "Python 2",
   "language": "python",
   "name": "python2"
  },
  "language_info": {
   "codemirror_mode": {
    "name": "ipython",
    "version": 2
   },
   "file_extension": ".py",
   "mimetype": "text/x-python",
   "name": "python",
   "nbconvert_exporter": "python",
   "pygments_lexer": "ipython2",
   "version": "2.7.6"
  }
 },
 "nbformat": 4,
 "nbformat_minor": 0
}
