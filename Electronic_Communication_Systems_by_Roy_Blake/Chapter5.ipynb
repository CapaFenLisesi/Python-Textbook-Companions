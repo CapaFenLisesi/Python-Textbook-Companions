{
 "cells": [
  {
   "cell_type": "markdown",
   "metadata": {},
   "source": [
    "# Chapter 5 : Transmitters"
   ]
  },
  {
   "cell_type": "markdown",
   "metadata": {},
   "source": [
    "## Example 2 : pg 179"
   ]
  },
  {
   "cell_type": "code",
   "execution_count": 1,
   "metadata": {
    "collapsed": false
   },
   "outputs": [
    {
     "name": "stdout",
     "output_type": "stream",
     "text": [
      "The value of dc power input is 14.29 W\n",
      "The value of audio power is 7.14 W\n"
     ]
    }
   ],
   "source": [
    " \n",
    "#page no 179\n",
    "#prob no. 5.2\n",
    "#calculate the power in both cases\n",
    "#A transmitter  with carrier power o/p 10W at efficiency 70% at 100% modulatn\n",
    "#given\n",
    "Po=10.;eta=0.7;\n",
    "#calculations\n",
    "#Determination of dc power o/p\n",
    "Ps=Po/eta;\n",
    "Pa=0.5*Ps;\n",
    "#results\n",
    "print 'The value of dc power input is',round(Ps,2),'W'\n",
    "#Determination of audio power \n",
    "print 'The value of audio power is',round(Pa,2),'W'"
   ]
  },
  {
   "cell_type": "markdown",
   "metadata": {},
   "source": [
    "## Example 3 : pg 181"
   ]
  },
  {
   "cell_type": "code",
   "execution_count": 2,
   "metadata": {
    "collapsed": false
   },
   "outputs": [
    {
     "name": "stdout",
     "output_type": "stream",
     "text": [
      "The impedance of transformer secondary is 6.0 ohm\n",
      "The impedance of transformer primary is 96.0 ohm\n"
     ]
    }
   ],
   "source": [
    " \n",
    "#page no 181\n",
    "#prob no. 5.3\n",
    "#calculate the impedance of both transformers\n",
    "#given\n",
    "#A transmitter operates at 12V, with collector current 2A.Modulatn transformer has turn ratio 4:1\n",
    "#Determination of impedance at transformer secondary  \n",
    "Vcc=12.;Ic=2.;N1=4.;N2=1.;\n",
    "#calculations\n",
    "Za=Vcc/Ic;\n",
    "Zp=Za*(N1/N2)**2;\n",
    "#results\n",
    "print 'The impedance of transformer secondary is',Za,'ohm'\n",
    "#Determination of impedance of transformer primary \n",
    "print 'The impedance of transformer primary is',Zp,'ohm'"
   ]
  },
  {
   "cell_type": "markdown",
   "metadata": {},
   "source": [
    "## Example 4 : pg 182"
   ]
  },
  {
   "cell_type": "code",
   "execution_count": 3,
   "metadata": {
    "collapsed": false
   },
   "outputs": [
    {
     "name": "stdout",
     "output_type": "stream",
     "text": [
      "The o/p power with 100% modulation is 150.0 W\n",
      "The value of supply power is 214.286 W\n",
      "Power dissipated is 64.286 W\n"
     ]
    }
   ],
   "source": [
    " \n",
    "#page no 182\n",
    "#prob no. 5.4\n",
    "#calculate the o/p power, supply power and dissipated power\n",
    "#Class C amplifier with carrier o/p power of 100W with efficiency of 70% & with 100% modulation\n",
    "#given\n",
    "Pc=100;eta=0.7;\n",
    "#calculations and results\n",
    "#Determination of o/p power\n",
    "Po=1.5*Pc;\n",
    "print 'The o/p power with 100% modulation is',Po,'W'\n",
    "#Determination of supply power\n",
    "Ps=Po/eta;\n",
    "print 'The value of supply power is',round(Ps,3),'W'\n",
    "#Determination of power dissipated Pd\n",
    "Pd=Ps-Po;\n",
    "print 'Power dissipated is',round(Pd,3),'W'"
   ]
  },
  {
   "cell_type": "markdown",
   "metadata": {},
   "source": [
    "## Example 5 : pg 184"
   ]
  },
  {
   "cell_type": "code",
   "execution_count": 4,
   "metadata": {
    "collapsed": false
   },
   "outputs": [
    {
     "name": "stdout",
     "output_type": "stream",
     "text": [
      "The load impedance is 11.25 ohm\n"
     ]
    }
   ],
   "source": [
    " \n",
    "#page no 184\n",
    "#prob no. 5.5\n",
    "#calculate the load impedance\n",
    "#given\n",
    "#An FM transmitter produce 10W of carrier power operating at 15V\n",
    "Vcc=15.;Pc=10.;\n",
    "#calculations\n",
    "#Determination of load impedance  seen from collector\n",
    "Rl=((Vcc)**2)/(2*Pc);\n",
    "#results\n",
    "print 'The load impedance is',Rl,'ohm'"
   ]
  },
  {
   "cell_type": "markdown",
   "metadata": {},
   "source": [
    "## Example 6 : pg 193"
   ]
  },
  {
   "cell_type": "code",
   "execution_count": 5,
   "metadata": {
    "collapsed": false
   },
   "outputs": [
    {
     "name": "stdout",
     "output_type": "stream",
     "text": [
      "a)The USB will be passed\n",
      "b)The carrier freq should be moved to the high end of filter at 5.0015 MHz\n"
     ]
    }
   ],
   "source": [
    " \n",
    "#page no 193\n",
    "#prob no. 5.6\n",
    "#Refer fig. 5.13\n",
    "#calculate the frequency required\n",
    "#given\n",
    "#Filter method SSB generator \n",
    "fc=5.*10**6;#filter centre freq.\n",
    "BW=3.*10**3;#Filter bandwidth\n",
    "#calculations\n",
    "foc=4.9985*10**6;#carrier oscillator freq.\n",
    "foc2 = foc + BW\n",
    "#results\n",
    "print 'a)The USB will be passed'#Since carrier freq is at low end of passband\n",
    "print 'b)The carrier freq should be moved to the high end of filter at',foc2/10**6,'MHz'#To generate the LSB"
   ]
  },
  {
   "cell_type": "markdown",
   "metadata": {},
   "source": [
    "## Example 7 : pg 196"
   ]
  },
  {
   "cell_type": "code",
   "execution_count": 7,
   "metadata": {
    "collapsed": false
   },
   "outputs": [
    {
     "name": "stdout",
     "output_type": "stream",
     "text": [
      "The freq of local oscillator 12.5015 MHz\n"
     ]
    }
   ],
   "source": [
    " \n",
    "#page no 196\n",
    "#prob no. 5.7\n",
    "#calculate the freq of local oscillator\n",
    "#SSB transmitter refering fig.5.17 to transmit USB signal at carrier freq 21.5MHz\n",
    "#given\n",
    "fo=21.5;#carrier freq in MHz\n",
    "foc=8.9985;#carrier oscillator freq. in MHz\n",
    "#calculations\n",
    "#Determination of freq of local oscillator\n",
    "flo=fo-foc;\n",
    "#results\n",
    "print 'The freq of local oscillator',flo,'MHz'"
   ]
  },
  {
   "cell_type": "markdown",
   "metadata": {},
   "source": [
    "## Example 8 : pg 199"
   ]
  },
  {
   "cell_type": "code",
   "execution_count": 8,
   "metadata": {
    "collapsed": false
   },
   "outputs": [
    {
     "name": "stdout",
     "output_type": "stream",
     "text": [
      "The o/p carrier freq 21.503 MHz\n"
     ]
    }
   ],
   "source": [
    " \n",
    "#page no 199\n",
    "#prob no. 5.8\n",
    "#given\n",
    "#LSB transmitter refering fig.5.14 with new carrier freq 9.0015 MHz & local oscillator freq 12.5015MHz\n",
    "fco=9.0015;#carrier oscillator freq\n",
    "flo=12.5015;#local oscillator freq\n",
    "#calculations\n",
    "#Determination of new o/p freq\n",
    "fo=fco+flo;\n",
    "#results\n",
    "print 'The o/p carrier freq',fo,'MHz'"
   ]
  },
  {
   "cell_type": "markdown",
   "metadata": {},
   "source": [
    "## Example 9 : pg 204"
   ]
  },
  {
   "cell_type": "code",
   "execution_count": 9,
   "metadata": {
    "collapsed": false
   },
   "outputs": [
    {
     "name": "stdout",
     "output_type": "stream",
     "text": [
      "a)See fig.5.23 for this block diagram\n",
      "b)Transmitter is capable of 5kHz deviation\n",
      "c)The oscillator freq is 8.333 MHz\n",
      "The audio RMS voltage is 97.934 mV\n"
     ]
    }
   ],
   "source": [
    " \n",
    "#page no 204\n",
    "#prob no. 5.9\n",
    "#A direct FM transmitter with kf=2kHz/V & max deviatn of 300Hz.\n",
    "#calculate the freq, rms voltage\n",
    "from math import sqrt\n",
    "#given\n",
    "kf=2.*10**3;tx_dev=300.;\n",
    "print 'a)See fig.5.23 for this block diagram'\n",
    "f_mul=3*2*3;#3 stage freq multiplier with tripler doubler and tripler\n",
    "#b)Determination of max dev at oscillator \n",
    "dev_o=5*10**3;#Deviation at o/p\n",
    "dev_osc=dev_o/f_mul;\n",
    "if  dev_osc < tx_dev:\n",
    "    print 'b)Transmitter is capable of 5kHz deviation'\n",
    "else:\n",
    "    print 'b)Transmitter is not capable of 5kHz deviation'\n",
    "#c)Determination of oscillator freq\n",
    "fo=150.;#carrier freq in MHz\n",
    "fosc=fo/f_mul;\n",
    "print 'c)The oscillator freq is',round(fosc,3),'MHz'\n",
    "#d)Determination of audio voltage for full deviation\n",
    "Vi_peak=dev_osc/kf;#dev at oscillator of 278Hz causes full 5kHz deviation\n",
    "#converting peak voltage to rms voltage\n",
    "Vi_RMS=Vi_peak/sqrt(2);\n",
    "print 'The audio RMS voltage is',round(Vi_RMS*10**3,3),'mV'"
   ]
  },
  {
   "cell_type": "markdown",
   "metadata": {},
   "source": [
    "## Example 10 : pg 206"
   ]
  },
  {
   "cell_type": "code",
   "execution_count": 10,
   "metadata": {
    "collapsed": false
   },
   "outputs": [
    {
     "name": "stdout",
     "output_type": "stream",
     "text": [
      "Freq deviation of oscillator is 231.481 Hz\n"
     ]
    }
   ],
   "source": [
    " \n",
    "#page no 206\n",
    "#prob no. 5.10\n",
    "#Refer fig.5.24\n",
    "#calculate the freq deviation\n",
    "#given\n",
    "#Till the antenna there are 2 doubler and 4 tripler\n",
    "f_mul=18.*18;\n",
    "dev_o=75*10**3;#o/p freq deviation is 75kHz\n",
    "#calculations\n",
    "#Determiantion of reqd freq deviation of oscillator\n",
    "dev_osc=dev_o/f_mul;\n",
    "#results\n",
    "print 'Freq deviation of oscillator is',round(dev_osc,3),'Hz'"
   ]
  },
  {
   "cell_type": "markdown",
   "metadata": {},
   "source": [
    "## Example 11 : pg 207"
   ]
  },
  {
   "cell_type": "code",
   "execution_count": 11,
   "metadata": {
    "collapsed": false
   },
   "outputs": [
    {
     "name": "stdout",
     "output_type": "stream",
     "text": [
      "The carrier freq of o/p signal 20.0 MHz\n",
      "The RMS voltage for needed deviation is  141.42 mV\n"
     ]
    }
   ],
   "source": [
    " \n",
    "#page no 207\n",
    "#prob no. 5.11\n",
    "#calculate the carrier freq and rms voltage\n",
    "#given\n",
    "from math import sqrt\n",
    "#A PLL FM generator refering fig.5.25 with\n",
    "f_ref=100.*10**3;N=200.;kf=50.*10**3;#in Hz/V\n",
    "#calculations and results\n",
    "#a)Determination of carrier freq of o/p signal\n",
    "fc=N*f_ref;\n",
    "print 'The carrier freq of o/p signal',fc/10**6,'MHz'\n",
    "#b)Determination of RMS modulating voltage for 10kHz deviation\n",
    "dev=10.*10**3;\n",
    "Vp=dev/kf;\n",
    "#Converting peak voltage to RMS voltage\n",
    "V_RMS=Vp/sqrt(2);\n",
    "print 'The RMS voltage for needed deviation is ',round(V_RMS*1000,2),'mV'"
   ]
  }
 ],
 "metadata": {
  "kernelspec": {
   "display_name": "Python 2",
   "language": "python",
   "name": "python2"
  },
  "language_info": {
   "codemirror_mode": {
    "name": "ipython",
    "version": 2
   },
   "file_extension": ".py",
   "mimetype": "text/x-python",
   "name": "python",
   "nbconvert_exporter": "python",
   "pygments_lexer": "ipython2",
   "version": "2.7.11"
  }
 },
 "nbformat": 4,
 "nbformat_minor": 0
}
