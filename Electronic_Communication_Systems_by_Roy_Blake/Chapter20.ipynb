{
 "cells": [
  {
   "cell_type": "markdown",
   "metadata": {},
   "source": [
    "# Chapter 20 : Satellite Communication"
   ]
  },
  {
   "cell_type": "markdown",
   "metadata": {},
   "source": [
    "## Example 1 : pg 754"
   ]
  },
  {
   "cell_type": "code",
   "execution_count": 1,
   "metadata": {
    "collapsed": false
   },
   "outputs": [
    {
     "name": "stdout",
     "output_type": "stream",
     "text": [
      "A) The velocity of a satellite is 7613.87 m/s\n",
      "The orbital period of satellite is 5694.08 sec\n",
      "B) The velocity of a satellite is 3071.48 m/s\n",
      "The orbital period of satellite is 86735.85 sec\n"
     ]
    }
   ],
   "source": [
    " \n",
    "# page no 754\n",
    "# prob no 20.1\n",
    "# part A)\n",
    "from math import pi, sqrt\n",
    "#calculate the velocity and orbital period of satellite in both cases\n",
    "#given\n",
    "d=500.;\n",
    "#calculations and results\n",
    "#By using the equation for velocity of a satellite\n",
    "v=sqrt(4*10**11/(d+6400));\n",
    "print 'A) The velocity of a satellite is',round(v,2),'m/s'\n",
    "# The radius of orbit is \n",
    "r=(6400+d)*10**3#in m\n",
    "#The orbital period of satellite is\n",
    "T=(2*pi*r)/v;\n",
    "print 'The orbital period of satellite is',round(T,2),'sec'\n",
    "#part B)\n",
    "d=36000.;\n",
    "#By using the equation for velocity of a satellite\n",
    "v=sqrt(4*10**11/(d+6400));\n",
    "print 'B) The velocity of a satellite is',round(v,2),'m/s'\n",
    "#The radius of orbit is \n",
    "r=(6400+d)*10**3#in m\n",
    "#The orbital period of satellite is\n",
    "T=(2*pi*r)/v;\n",
    "print 'The orbital period of satellite is',round(T,2),'sec'"
   ]
  },
  {
   "cell_type": "markdown",
   "metadata": {},
   "source": [
    "## Example 2 : pg 757"
   ]
  },
  {
   "cell_type": "code",
   "execution_count": 2,
   "metadata": {
    "collapsed": false
   },
   "outputs": [
    {
     "name": "stdout",
     "output_type": "stream",
     "text": [
      "required angle is  6.8137529672 degrees\n"
     ]
    }
   ],
   "source": [
    " \n",
    "# page no 757\n",
    "# prob no 20.2\n",
    "#calculate the required angle\n",
    "#given\n",
    "from math import atan, cos, sin, pi\n",
    "R = 6400.#Radius of earth\n",
    "L = 45.#earth station lattitude\n",
    "H = 36000.#Height of satellite above the earth;\n",
    "#calculations\n",
    "ang = atan((6400. * sin(L * pi / 180.)) / (36000 + (6400 * (1 - cos(L * pi / 180.))))) * 180 / pi\n",
    "#results\n",
    "print \"required angle is \",ang, \"degrees\""
   ]
  },
  {
   "cell_type": "markdown",
   "metadata": {},
   "source": [
    "## Example 3 : pg 758"
   ]
  },
  {
   "cell_type": "code",
   "execution_count": 3,
   "metadata": {
    "collapsed": false
   },
   "outputs": [
    {
     "name": "stdout",
     "output_type": "stream",
     "text": [
      "The length of the path is 38836.175 km\n"
     ]
    }
   ],
   "source": [
    " \n",
    "# page no 758\n",
    "# prob no 20.3\n",
    "#calculate the length of the path\n",
    "#given\n",
    "from math import sqrt, sin, cos, pi\n",
    "#Determination of lenght of geostationary satellite with angle of elavation=30\n",
    "#degree\n",
    "r = 64. * 10 ** 5#Radius of earth\n",
    "h = 36. * 10 ** 6#height of satellite\n",
    "theta = 30 * pi / 180.#angle of elevation\n",
    "#calculations\n",
    "d = sqrt(((r + h) ** 2) - ((r * cos(theta)) ** 2)) - (r * sin(theta))\n",
    "#results\n",
    "print 'The length of the path is',round(d / 1000,3),'km'"
   ]
  },
  {
   "cell_type": "markdown",
   "metadata": {},
   "source": [
    "## Example 4 : pg 759"
   ]
  },
  {
   "cell_type": "code",
   "execution_count": 4,
   "metadata": {
    "collapsed": false
   },
   "outputs": [
    {
     "name": "stdout",
     "output_type": "stream",
     "text": [
      "The value of signal strength at receiver -88.071 dBm\n"
     ]
    }
   ],
   "source": [
    " \n",
    "# page no 759\n",
    "# prob no 20.4\n",
    "#calculate the value of signal strength\n",
    "#given\n",
    "from math import log10\n",
    "#A satellite transmitter operates at 4GHz with 7W & antenna gain 40dBi\n",
    "#Receiver antenna gain 30dBi & path length is 4*10**7\n",
    "Gt_dBi = 40.\n",
    "Gr_dBi = 30.\n",
    "Pt = 7\n",
    "d = 40000.#in km\n",
    "f = 4000.#in MHz\n",
    "#calculations\n",
    "Pr_Pt_dB = Gt_dBi + Gr_dBi - (32.44 + (20 * log10(d)) + (20 * log10(f)))\n",
    "#Signal strength at transmitter\n",
    "Pt_dBm = 10 * log10(Pt / 10 ** -3)\n",
    "Pr_dBm = (Pt_dBm) + (Pr_Pt_dB)\n",
    "#results\n",
    "print 'The value of signal strength at receiver',round(Pr_dBm,3),'dBm'"
   ]
  },
  {
   "cell_type": "markdown",
   "metadata": {},
   "source": [
    "## Example 5 : pg 760"
   ]
  },
  {
   "cell_type": "code",
   "execution_count": 5,
   "metadata": {
    "collapsed": false
   },
   "outputs": [
    {
     "name": "stdout",
     "output_type": "stream",
     "text": [
      "The receiver noise temperature is 21.013 dB\n"
     ]
    }
   ],
   "source": [
    " \n",
    "# page no 760\n",
    "# prob no 20.5\n",
    "#calculate the receiver\n",
    "#given\n",
    "from math import log10\n",
    "# In the given problem\n",
    "G = 40# receiving antenna gain\n",
    "T_sky = 15.# noise temp\n",
    "L = 0.4#loss between antenna and LNA input\n",
    "T_eq = 40.# noise temperature f LNA\n",
    "#calculations\n",
    "# Fir-st we have to find G in dB\n",
    "G_dB = G - L\n",
    "# For the calculation of T, we have to convert the feedhorn loss into a ratio\n",
    "# as follows\n",
    "L = 10 ** (0.4 / 10)\n",
    "Ta = ((L - 1) * 290. + T_sky) / L\n",
    "# The receiver noise temperature is given wrt the chosen reference\n",
    "# point,theefore\n",
    "Ratio = G - 10 * log10(Ta + T_eq)\n",
    "#results\n",
    "print 'The receiver noise temperature is',round(Ratio,3),'dB'"
   ]
  },
  {
   "cell_type": "markdown",
   "metadata": {},
   "source": [
    "## Example 6 : pg 761"
   ]
  },
  {
   "cell_type": "code",
   "execution_count": 6,
   "metadata": {
    "collapsed": false
   },
   "outputs": [
    {
     "name": "stdout",
     "output_type": "stream",
     "text": [
      "Equivalent noise temperature is 119.64 K\n"
     ]
    }
   ],
   "source": [
    " \n",
    "# page no 761\n",
    "# prob no 20.6\n",
    "#calculate the equivalent noise temperature\n",
    "#given\n",
    "NF_dB=1.5;# noise fig of a receiver\n",
    "#calculations\n",
    "NF=10**(NF_dB/10);\n",
    "# Equivalent noise temperature is giveb as\n",
    "T_eq=290*(NF-1);\n",
    "#results\n",
    "print 'Equivalent noise temperature is',round(T_eq,2),'K'"
   ]
  },
  {
   "cell_type": "markdown",
   "metadata": {},
   "source": [
    "## Example 7 : pg 761"
   ]
  },
  {
   "cell_type": "code",
   "execution_count": 7,
   "metadata": {
    "collapsed": false
   },
   "outputs": [
    {
     "name": "stdout",
     "output_type": "stream",
     "text": [
      "The carrier to noise ratio at the receiver is 30.97 dB\n"
     ]
    }
   ],
   "source": [
    " \n",
    "# page no 761\n",
    "# prob no 20.7\n",
    "#calculate the carrier to noise ratio\n",
    "#given\n",
    "from math import log10\n",
    "# refer prob no 20.5\n",
    "d=38000.;#distance of satellite from the Earth surface\n",
    "P=50.;#transmitter power\n",
    "G=30.;#antenna gain\n",
    "f=12000.;#frequency in MHz\n",
    "B=10**6;# Bandwidth in MHz\n",
    "#from problem no 2.5\n",
    "G_T=21;\n",
    "L_misc=0;\n",
    "k_dBW=-228.6;#Boltzmann's constant in dBW\n",
    "#calculations\n",
    "# There are no miscellaneous loss\n",
    "#The stellite transmitting power in dBW is \n",
    "Pt_dBW = 10*log10(P);\n",
    "# The EIPR in dBW \n",
    "EIRP_dBW=Pt_dBW + G;\n",
    "#FSL in dB\n",
    "FSL_dB= 32.44 + (20*log10(d)) + (20*log10(f));\n",
    "# The carrier to noise ratio is\n",
    "ratio=EIRP_dBW - FSL_dB - L_misc + G_T - k_dBW - 10*log10(B);\n",
    "#results\n",
    "print 'The carrier to noise ratio at the receiver is',round(ratio,2),'dB'"
   ]
  },
  {
   "cell_type": "markdown",
   "metadata": {},
   "source": [
    "## Example 8 : pg 762"
   ]
  },
  {
   "cell_type": "code",
   "execution_count": 8,
   "metadata": {
    "collapsed": false
   },
   "outputs": [
    {
     "name": "stdout",
     "output_type": "stream",
     "text": [
      "The total time delay is  0.000533 sec\n"
     ]
    }
   ],
   "source": [
    " \n",
    "# page no 762\n",
    "# prob no 20.8\n",
    "#calculate the total time delay\n",
    "#given\n",
    "D=40000.;# distance of satellite from the earth station\n",
    "v=3*10**8;# velo of light\n",
    "d=80000.;# distance between two earth stations\n",
    "#calculations\n",
    "# time delay is given as\n",
    "t=d/v;\n",
    "# total time delay will be twice that of calculated above\n",
    "T=2*t;\n",
    "#results\n",
    "print 'The total time delay is ',round(T,6),'sec'"
   ]
  },
  {
   "cell_type": "markdown",
   "metadata": {},
   "source": [
    "## Example 9 : pg 769"
   ]
  },
  {
   "cell_type": "code",
   "execution_count": 9,
   "metadata": {
    "collapsed": false
   },
   "outputs": [
    {
     "name": "stdout",
     "output_type": "stream",
     "text": [
      "The gain of TVRO is  39.39 dB\n",
      "The beamwidth is 1.75 degree\n"
     ]
    }
   ],
   "source": [
    " \n",
    "# page no 769\n",
    "# prob no 20.9\n",
    "#calculate the gain and beamwidth\n",
    "#given\n",
    "from math import pi, log10\n",
    "f_down = 4*10**9;# downlink freq\n",
    "D=3.;#diameter\n",
    "n=0.55;#efficiency\n",
    "c=3.*10**8;#velo of light\n",
    "#calculations\n",
    "# The gain of a parabolic antenna is given as G=(n*%pi**2*D**2)/wl**2. Therefore wavelength is given as\n",
    "wl=c/f_down\n",
    "G=(n*pi**2*D**2)/wl**2;\n",
    "G_dB = 10*log10(G);\n",
    "# The beamwidth is given as\n",
    "bw= (70*wl)/D;\n",
    "#results\n",
    "print 'The gain of TVRO is ',round(G_dB,2),'dB'\n",
    "print 'The beamwidth is',round(bw,2),'degree'"
   ]
  }
 ],
 "metadata": {
  "kernelspec": {
   "display_name": "Python 2",
   "language": "python",
   "name": "python2"
  },
  "language_info": {
   "codemirror_mode": {
    "name": "ipython",
    "version": 2
   },
   "file_extension": ".py",
   "mimetype": "text/x-python",
   "name": "python",
   "nbconvert_exporter": "python",
   "pygments_lexer": "ipython2",
   "version": "2.7.11"
  }
 },
 "nbformat": 4,
 "nbformat_minor": 0
}
