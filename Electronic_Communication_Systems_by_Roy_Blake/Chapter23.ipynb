{
 "cells": [
  {
   "cell_type": "markdown",
   "metadata": {},
   "source": [
    "# Chapter 23 : Paging and Wireless Data Networking"
   ]
  },
  {
   "cell_type": "markdown",
   "metadata": {},
   "source": [
    "## Example 1 : pg 863"
   ]
  },
  {
   "cell_type": "code",
   "execution_count": 1,
   "metadata": {
    "collapsed": false
   },
   "outputs": [
    {
     "name": "stdout",
     "output_type": "stream",
     "text": [
      "The no of pages transmitted in one min are 887.0\n"
     ]
    }
   ],
   "source": [
    " \n",
    "# page no 863\n",
    "# prob no 23.1\n",
    "#calculate the no of pages transmitted\n",
    "#given\n",
    "bit_rate = 512.;#ib bps\n",
    "t=60.;#in sec\n",
    "# preamble uses 576 bits\n",
    "preamble=576.;\n",
    "#calculations\n",
    "bits_total = bit_rate * t;\n",
    "usable_bits = bits_total - preamble;\n",
    "# each batch has one 32-bits synchronizing codeword and sixteen 32-bit address codewords for a total of 17*32=544bits. Therefore\n",
    "bits_per_batch= 17.*32;\n",
    "batches_per_min = usable_bits / bits_per_batch;\n",
    "addr=16;\n",
    "addr_per_min = batches_per_min*addr;\n",
    "#results\n",
    "print 'The no of pages transmitted in one min are',round(addr_per_min)"
   ]
  },
  {
   "cell_type": "markdown",
   "metadata": {},
   "source": [
    "## Example 2 : pg 864"
   ]
  },
  {
   "cell_type": "code",
   "execution_count": 2,
   "metadata": {
    "collapsed": false
   },
   "outputs": [
    {
     "name": "stdout",
     "output_type": "stream",
     "text": [
      "The efficiency is 0.256 b/s/Hz\n"
     ]
    }
   ],
   "source": [
    " \n",
    "# page no 864\n",
    "# prob no 23.2\n",
    "#given\n",
    "#calculate the efficiency\n",
    "# For the given FLEX system \n",
    "Wc=25*10**3;\n",
    "bit_rate = 6400.;#in bps\n",
    "#calculations\n",
    "efficiency = bit_rate/Wc;\n",
    "#results\n",
    "print 'The efficiency is',efficiency,'b/s/Hz'"
   ]
  },
  {
   "cell_type": "markdown",
   "metadata": {},
   "source": [
    "## Example 3 : pg 871"
   ]
  },
  {
   "cell_type": "code",
   "execution_count": 3,
   "metadata": {
    "collapsed": false
   },
   "outputs": [
    {
     "name": "stdout",
     "output_type": "stream",
     "text": [
      "The minimum hopping rate is 320.0 Hz\n",
      "The maximum hopping rate is  1600.0 Hz\n"
     ]
    }
   ],
   "source": [
    " \n",
    "# page no 871\n",
    "# prob no 23.3\n",
    "#calculate the min and max hopping rate\n",
    "#given\n",
    "# for the Bluetooth system\n",
    "fh_max=1/(625*10**-6);\n",
    "fh_min=1/(5*625*10**-6);\n",
    "#results\n",
    "print 'The minimum hopping rate is',fh_min,'Hz'\n",
    "print 'The maximum hopping rate is ',fh_max,'Hz'"
   ]
  }
 ],
 "metadata": {
  "kernelspec": {
   "display_name": "Python 2",
   "language": "python",
   "name": "python2"
  },
  "language_info": {
   "codemirror_mode": {
    "name": "ipython",
    "version": 2
   },
   "file_extension": ".py",
   "mimetype": "text/x-python",
   "name": "python",
   "nbconvert_exporter": "python",
   "pygments_lexer": "ipython2",
   "version": "2.7.11"
  }
 },
 "nbformat": 4,
 "nbformat_minor": 0
}
