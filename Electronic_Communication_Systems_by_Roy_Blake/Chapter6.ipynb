{
 "cells": [
  {
   "cell_type": "markdown",
   "metadata": {},
   "source": [
    "# Chapter 6 : Receivers"
   ]
  },
  {
   "cell_type": "markdown",
   "metadata": {},
   "source": [
    "## Example 1 : pg 227"
   ]
  },
  {
   "cell_type": "code",
   "execution_count": 1,
   "metadata": {
    "collapsed": false
   },
   "outputs": [
    {
     "name": "stdout",
     "output_type": "stream",
     "text": [
      "The Bandwidth at 1700kHz is  17.743 kHz\n"
     ]
    }
   ],
   "source": [
    " \n",
    "#page no 227\n",
    "#prob no. 6.1\n",
    "#calculate the bandwidth\n",
    "#given\n",
    "from math import sqrt\n",
    "#A tuned ckt with broadast band (540 to 1700 kHz).Bw=10kHz at 540 kHz\n",
    "BW1=10.*10**3;f1=540.*10**3;f2=1700.*10**3;#all in Hz\n",
    "#calculations\n",
    "#Determination of BW at 1700kHz\n",
    "BW2=BW1*sqrt(f2/f1);\n",
    "#results\n",
    "print 'The Bandwidth at 1700kHz is ',round(BW2/1000,3),'kHz'"
   ]
  },
  {
   "cell_type": "markdown",
   "metadata": {},
   "source": [
    "## Example 4 : pg 236"
   ]
  },
  {
   "cell_type": "code",
   "execution_count": 2,
   "metadata": {
    "collapsed": false
   },
   "outputs": [
    {
     "name": "stdout",
     "output_type": "stream",
     "text": [
      "The voltage value of signal is 1.581 mV\n"
     ]
    }
   ],
   "source": [
    " \n",
    "#page no 236\n",
    "#prob no. 6.4\n",
    "#calculate the voltage value of the signal\n",
    "#given\n",
    "#A receiver with sensitivity 0.5uV & blocking dynamic range 70dB.\n",
    "#Determination of vpltage signal V1 \n",
    "P1_P2=70.;V2=0.5*10**-6;#let\n",
    "#calculations\n",
    "V1=V2*10**(P1_P2/20);\n",
    "#results\n",
    "print 'The voltage value of signal is',round(V1*1000,3),'mV'"
   ]
  },
  {
   "cell_type": "markdown",
   "metadata": {},
   "source": [
    "## Example 5 : pg 238"
   ]
  },
  {
   "cell_type": "code",
   "execution_count": 3,
   "metadata": {
    "collapsed": false
   },
   "outputs": [
    {
     "name": "stdout",
     "output_type": "stream",
     "text": [
      "a)The image freq is 1500.0 kHz\n",
      "b)The image rejection is 38.687 dB\n"
     ]
    }
   ],
   "source": [
    " \n",
    "#page no 238\n",
    "#prob no. 6.5\n",
    "#calculate the image freq and rejection\n",
    "#Refer the fig 6.5\n",
    "from math import sqrt, log10\n",
    "#A receiver tuned to station at 590kHz \n",
    "#given\n",
    "f_if=455.*10**3;#Intermediate freq\n",
    "f_sig=590.*10**3;\n",
    "#calculations and results\n",
    "#a)Determintion of image freq\n",
    "f_image=f_sig+2*f_if;\n",
    "print 'a)The image freq is',f_image/1000,'kHz'\n",
    "Q=40.;#Q_factor\n",
    "#b)Determination of image rejection \n",
    "x=(f_image/f_sig)-(f_sig/f_image);\n",
    "Asig_Aimage=sqrt(1+(Q*x)**2);#image rejection\n",
    "#converting in dB\n",
    "IR_dB=20*log10(Asig_Aimage);\n",
    "print 'b)The image rejection is',round(IR_dB,3),'dB'"
   ]
  },
  {
   "cell_type": "markdown",
   "metadata": {},
   "source": [
    "## Example 6 : pg 239"
   ]
  },
  {
   "cell_type": "code",
   "execution_count": 4,
   "metadata": {
    "collapsed": false
   },
   "outputs": [
    {
     "name": "stdout",
     "output_type": "stream",
     "text": [
      "All freqs are in MHz. The different freqs are [ 10.   -0.9  21.8   0. ] [ 10.   -0.9  21.8   0. ]\n"
     ]
    }
   ],
   "source": [
    " \n",
    "#page no 239\n",
    "#prob no. 6.6\n",
    "#calculate the frequencies in all cases\n",
    "#given\n",
    "import numpy\n",
    "#An AM high-freq receiver with IF=1.8MHz tuned at freq 10MHz\n",
    "f_sig = 10\n",
    "f_if = 1.8#All freq in MHz\n",
    "#calculations\n",
    "#Determination of local oscillator freq f_lo\n",
    "f_lo = f_sig + f_if\n",
    "#determination of freq.  that cause IF response\n",
    "m = ([1, 1, 2, 2])#values of m that are integer\n",
    "n = ([1, 2, 1, 2])#values of n that are integer\n",
    "fs1 = fs2 = numpy.zeros(4);\n",
    "for i in range(0,3):\n",
    "    fs1[i] = ((m[i] / n[i]) * (f_lo)) + ((f_if) / n[i])\n",
    "\n",
    "for i in range(0,3):\n",
    "    fs2[i] = ((m[i] / n[i]) * (f_lo)) - ((f_if) / n[i])\n",
    "\n",
    "print 'All freqs are in MHz.','The different freqs are',fs1,fs2"
   ]
  },
  {
   "cell_type": "markdown",
   "metadata": {},
   "source": [
    "## Example 7 : pg 245"
   ]
  },
  {
   "cell_type": "code",
   "execution_count": 5,
   "metadata": {
    "collapsed": false
   },
   "outputs": [
    {
     "name": "stdout",
     "output_type": "stream",
     "text": [
      "the sensitivity of detector is 60.0 uV/Hz\n"
     ]
    }
   ],
   "source": [
    " \n",
    "#page no 245\n",
    "#prob no. 6.7\n",
    "#calculate the sensitivity of detector\n",
    "#An FM detector produce Vpp=1.2V with dev=10kHz\n",
    "#given\n",
    "Vpp=1.2;dev=10.*10**3;\n",
    "#calculations\n",
    "#Determination of detector sensitivity\n",
    "Vp=Vpp/2;#Peak voltage\n",
    "kd=Vp/dev;\n",
    "#results\n",
    "print 'the sensitivity of detector is',kd*10**6,'uV/Hz'"
   ]
  },
  {
   "cell_type": "markdown",
   "metadata": {},
   "source": [
    "## Example 8 : pg 249"
   ]
  },
  {
   "cell_type": "code",
   "execution_count": 6,
   "metadata": {
    "collapsed": false
   },
   "outputs": [
    {
     "name": "stdout",
     "output_type": "stream",
     "text": [
      "The RMS voltage is 0.53 V\n"
     ]
    }
   ],
   "source": [
    " \n",
    "#page no 249\n",
    "#prob no. 6.8\n",
    "#calculate the rms voltage\n",
    "from math import sqrt\n",
    "#given\n",
    "#A PLL FM detector with kf=100kHz/V & dev=75kHz\n",
    "kf=100.*10**3;dev=75.*10**3;\n",
    "#calculations\n",
    "#Determination of RMS voltage\n",
    "Vp_op=dev/kf;\n",
    "#Converting peak voltage in RMS voltage\n",
    "V_RMS=Vp_op/sqrt(2);\n",
    "#results\n",
    "print 'The RMS voltage is',round(V_RMS,3),'V'"
   ]
  },
  {
   "cell_type": "markdown",
   "metadata": {},
   "source": [
    "## Example 9 : pg 258"
   ]
  },
  {
   "cell_type": "code",
   "execution_count": 9,
   "metadata": {
    "collapsed": false
   },
   "outputs": [
    {
     "name": "stdout",
     "output_type": "stream",
     "text": [
      "a)The critical coupling factor is 0.029\n",
      "b)The optimum coupling factor is 0.043\n",
      "c)The BW using optimum coupling factor is 19.702 kHz\n"
     ]
    }
   ],
   "source": [
    " \n",
    "#page no 258\n",
    "#prob no. 6.9\n",
    "#calculate the critical and optimum coupling factor, BW\n",
    "from math import sqrt\n",
    "#given\n",
    "#An IF transformer at 455kHz & primary ckt has Qp=40 & secondary Q=30\n",
    "fo=455.*10**3;Qp=40.;Qs=30.;\n",
    "#calculations and results\n",
    "#a)Determination of critical coupling factor\n",
    "kc=1/sqrt(Qp*Qs);\n",
    "print 'a)The critical coupling factor is',round(kc,3)\n",
    "#b)Determination of optimum coupling factor\n",
    "Kopt=1.5*kc;\n",
    "print 'b)The optimum coupling factor is',round(Kopt,3)\n",
    "#c)Determination of optimum coupling factor\n",
    "B=Kopt*fo;\n",
    "print 'c)The BW using optimum coupling factor is',round(B/1000,3),'kHz'"
   ]
  },
  {
   "cell_type": "markdown",
   "metadata": {},
   "source": [
    "## Example 10 : pg 261"
   ]
  },
  {
   "cell_type": "code",
   "execution_count": 10,
   "metadata": {
    "collapsed": false
   },
   "outputs": [
    {
     "name": "stdout",
     "output_type": "stream",
     "text": [
      "The first IF is 4.5 MHz\n",
      "The second IF is 500.0 kHz\n"
     ]
    }
   ],
   "source": [
    " \n",
    "#page no 261\n",
    "#prob no. 6.10\n",
    "#calculate the first and second IF\n",
    "#given\n",
    "#Receiver refering in fig.6.28\n",
    "f_sig=25*10**6;#signal i/p freq\n",
    "f_lo1=29.5*10**6;#Ist local oscillator freq\n",
    "#calculations and results\n",
    "#determination of Ist IF which uses high side injection\n",
    "f_IF1=f_lo1-f_sig;#high side injection\n",
    "print 'The first IF is',f_IF1/10**6,'MHz'\n",
    "#Determination of IInd IF which uses low side injection\n",
    "f_lo2=4*10**6;#IInd local oscillator freq\n",
    "f_IF2=f_IF1-f_lo2;\n",
    "print 'The second IF is',f_IF2/10**3,'kHz'"
   ]
  },
  {
   "cell_type": "markdown",
   "metadata": {},
   "source": [
    "## Example 11 : pg 265"
   ]
  },
  {
   "cell_type": "code",
   "execution_count": 11,
   "metadata": {
    "collapsed": false
   },
   "outputs": [
    {
     "name": "stdout",
     "output_type": "stream",
     "text": [
      "Signal strength at receiver i/p is 6.295 uV\n"
     ]
    }
   ],
   "source": [
    " \n",
    "#page no 265\n",
    "#prob no. 6.11\n",
    "#calculate the signal strength at receiver i/p\n",
    "#An S-meter is given\n",
    "#given\n",
    "V1=50*10**-6;#signal strength at transmitter in V\n",
    "P=18.;#18 dB power\n",
    "#calculations\n",
    "V2=V1/(10**(P/20.));\n",
    "#results\n",
    "print 'Signal strength at receiver i/p is' ,round(V2*10**6,3),'uV'"
   ]
  }
 ],
 "metadata": {
  "kernelspec": {
   "display_name": "Python 2",
   "language": "python",
   "name": "python2"
  },
  "language_info": {
   "codemirror_mode": {
    "name": "ipython",
    "version": 2
   },
   "file_extension": ".py",
   "mimetype": "text/x-python",
   "name": "python",
   "nbconvert_exporter": "python",
   "pygments_lexer": "ipython2",
   "version": "2.7.11"
  }
 },
 "nbformat": 4,
 "nbformat_minor": 0
}
