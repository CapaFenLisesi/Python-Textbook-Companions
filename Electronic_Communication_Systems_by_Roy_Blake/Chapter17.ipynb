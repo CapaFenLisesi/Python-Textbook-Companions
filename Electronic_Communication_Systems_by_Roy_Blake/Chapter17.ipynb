{
 "cells": [
  {
   "cell_type": "markdown",
   "metadata": {},
   "source": [
    "# Chapter 17 : MicroWave Devices"
   ]
  },
  {
   "cell_type": "markdown",
   "metadata": {},
   "source": [
    "## Example 1 : pg 621"
   ]
  },
  {
   "cell_type": "code",
   "execution_count": 1,
   "metadata": {
    "collapsed": false
   },
   "outputs": [
    {
     "name": "stdout",
     "output_type": "stream",
     "text": [
      "The max usable freq is 7500000000.0 Hz\n"
     ]
    }
   ],
   "source": [
    "#calculate the max usable freq\n",
    "#page no 621\n",
    "#prob no. 17.1\n",
    "#given\n",
    "#TE10 mode in air dielectric mode with inside cross sectn=2cm*4cm\n",
    "#Determination of cut-off freq \n",
    "a=4.*10**-2;#largest dimn is used for calculation \n",
    "c=3.*10**8;#Speed of light in m/s\n",
    "#calculations\n",
    "fc=c/(2*a);\n",
    "#Determination of dominant mode of propagation over 2:1\n",
    "MUF=2*fc;\n",
    "#results\n",
    "print 'The max usable freq is',MUF,'Hz'"
   ]
  },
  {
   "cell_type": "markdown",
   "metadata": {},
   "source": [
    "## Example 2 : pg 624"
   ]
  },
  {
   "cell_type": "code",
   "execution_count": 2,
   "metadata": {
    "collapsed": false
   },
   "outputs": [
    {
     "name": "stdout",
     "output_type": "stream",
     "text": [
      "The group velocity is 198431348.33 m/s\n"
     ]
    }
   ],
   "source": [
    "#calculate the group velocity \n",
    "#page no 624\n",
    "#prob no. 17.2\n",
    "#Determination of group velocity for waveguide in example 7.1\n",
    "from math import sqrt\n",
    "#given\n",
    "f=5*10**9;#freq.in Hz\n",
    "fc=3.75*10**9;#cut-off freq from eg.7.1\n",
    "c=3.*10**8;#speed of light in m/s\n",
    "#calculations\n",
    "vg=c*sqrt(1-(fc/f)**2);\n",
    "#results\n",
    "print 'The group velocity is',vg,'m/s'"
   ]
  },
  {
   "cell_type": "markdown",
   "metadata": {},
   "source": [
    "## Example 3 : pg 624"
   ]
  },
  {
   "cell_type": "code",
   "execution_count": 3,
   "metadata": {
    "collapsed": false
   },
   "outputs": [
    {
     "name": "stdout",
     "output_type": "stream",
     "text": [
      "The group velocity for 12GHz signal is 165831239.518 m/s\n",
      "The group velocity for 17GHz signal is 242606948.556 m/s\n",
      "The diffn in the travel times for 2 signals is 9.5416670466e-08 sec\n"
     ]
    }
   ],
   "source": [
    "#calculate the froup velocity \n",
    "#page no 624\n",
    "#prob no. 17.3\n",
    "#A waveguide with fc=10GHz.2 signal with frequency 12 & 17GHz propogate down=50m\n",
    "from math import sqrt\n",
    "#given\n",
    "fc=10*10**9;c=3.*10**8;f1=12.*10**9;f2=17.*10**9;d=50.;\n",
    "#calculations and results\n",
    "#Determination of group velocity for 12GHz\n",
    "vg1=c*sqrt(1-(fc/f1)**2);\n",
    "print 'The group velocity for 12GHz signal is',vg1,'m/s'\n",
    "#Determination of group velo for 17GHz\n",
    "vg2=c*sqrt(1-(fc/f2)**2);\n",
    "print 'The group velocity for 17GHz signal is',vg2,'m/s'\n",
    "#Determination of time taken for 50m dist by f1\n",
    "t1=d/vg1;\n",
    "#Determination of time taken for 50m dist by f2\n",
    "t2=d/vg2;\n",
    "#Determination of diffn in the travel times for 2 signals \n",
    "dela=t1-t2;\n",
    "print 'The diffn in the travel times for 2 signals is',dela,'sec'"
   ]
  },
  {
   "cell_type": "markdown",
   "metadata": {},
   "source": [
    "## Example 4 : pg 627"
   ]
  },
  {
   "cell_type": "code",
   "execution_count": 4,
   "metadata": {
    "collapsed": false
   },
   "outputs": [
    {
     "name": "stdout",
     "output_type": "stream",
     "text": [
      "The phase velocity is 453557367.611 m/s\n"
     ]
    }
   ],
   "source": [
    "#calculate the phase velocity \n",
    "#page no 627\n",
    "#prob no. 17.4\n",
    "#Determination of phase velo.with given 5GHz freq\n",
    "from math import sqrt\n",
    "#given\n",
    "f=5.*10**9;c=3.*10**8;fc=3.75*10**9;#Cut-off freq refering eg.17.1\n",
    "#calculations\n",
    "vp=c/sqrt(1-(fc/f)**2);#Calculation of phase velo.\n",
    "#results\n",
    "print 'The phase velocity is',vp,'m/s'"
   ]
  },
  {
   "cell_type": "markdown",
   "metadata": {},
   "source": [
    "## Example 5 : pg 628"
   ]
  },
  {
   "cell_type": "code",
   "execution_count": 5,
   "metadata": {
    "collapsed": false
   },
   "outputs": [
    {
     "name": "stdout",
     "output_type": "stream",
     "text": [
      "The characteristic impedance of waveguide is 569.97 ohm\n"
     ]
    }
   ],
   "source": [
    "#calculate the characteristic impedanccec of waveguide\n",
    "#page no 628\n",
    "#prob no. 17.5\n",
    "from math import sqrt\n",
    "#given\n",
    "#determination of characteristic impedance of waveguide with given 5GHz freq\n",
    "f=5*10**9;fc=3.75*10**9;#Refering in eg. 17.4\n",
    "#calculations\n",
    "Zo=377/sqrt(1-(fc/f)**2);\n",
    "#results\n",
    "print 'The characteristic impedance of waveguide is',round(Zo,3),'ohm'"
   ]
  },
  {
   "cell_type": "markdown",
   "metadata": {},
   "source": [
    "## Example 7 : pg 631"
   ]
  },
  {
   "cell_type": "code",
   "execution_count": 6,
   "metadata": {
    "collapsed": false
   },
   "outputs": [
    {
     "name": "stdout",
     "output_type": "stream",
     "text": [
      "The signal level in main guide is  19.0 dBm\n",
      "The signal level in secondary guide is 0.0 dBm\n",
      "The signal level from sec guide when reversed guide is -40.0 dBm\n"
     ]
    }
   ],
   "source": [
    "#page no 631\n",
    "#prob no. 17.7\n",
    "#calculate the signal level in all cases\n",
    "#A signal with level of 20dBm & insertion loss=1dB & coupling =20dB,directivity=40dB\n",
    "#given\n",
    "sig_in=20.;loss=1.;couple=20.;direct=40.;\n",
    "#calculations and results\n",
    "#Determination of signal level in main guide\n",
    "sig_level_main=sig_in-loss;\n",
    "print 'The signal level in main guide is ',sig_level_main,'dBm'\n",
    "#Determination of signal level in secondary guide\n",
    "sig_level_sec=sig_in-couple;\n",
    "print 'The signal level in secondary guide is',sig_level_sec,'dBm'\n",
    "#If signal dirn in main guide were reveresed,the signal level in sec gide would reduced by 40dB to\n",
    "sig_sec_rev=(sig_level_sec)-(direct);\n",
    "print 'The signal level from sec guide when reversed guide is',sig_sec_rev,'dBm'"
   ]
  },
  {
   "cell_type": "markdown",
   "metadata": {},
   "source": [
    "## Example 8 : pg 642"
   ]
  },
  {
   "cell_type": "code",
   "execution_count": 7,
   "metadata": {
    "collapsed": false
   },
   "outputs": [
    {
     "name": "stdout",
     "output_type": "stream",
     "text": [
      "The frequency of oscillation is 14285714285.7 Hz\n"
     ]
    }
   ],
   "source": [
    " \n",
    "#page no 642\n",
    "#prob no. 17.8\n",
    "#calculate the frequency of oscillation\n",
    "#given\n",
    "#A Gunn device with thickness=7um\n",
    "d=7*10**-6;v=10**5;#Basic velocity of e\n",
    "#calculations\n",
    "t=d/v;#Basic velocity relation\n",
    "#Determination of freq of oscillation\n",
    "f=1/t;#Inverse of period is freq\n",
    "#results\n",
    "print 'The frequency of oscillation is',f,'Hz'"
   ]
  },
  {
   "cell_type": "markdown",
   "metadata": {},
   "source": [
    "## Example 9 : pg 648"
   ]
  },
  {
   "cell_type": "code",
   "execution_count": 8,
   "metadata": {
    "collapsed": false
   },
   "outputs": [
    {
     "name": "stdout",
     "output_type": "stream",
     "text": [
      "The duty cycle is 0.065\n",
      "The length of pulse is 0.00065 sec\n"
     ]
    }
   ],
   "source": [
    " \n",
    "#page no 648\n",
    "#prob no. 17.9\n",
    "#calculate the duty cycle and length of pulse\n",
    "#given\n",
    "#A pulse magnetron with avg power=1.2kW & peak power=18.5kW & 1 pulse is generated every 10ms\n",
    "Pavg=1.2*10**3;Pp=18.5*10**3;Tt=10.*10**-3;\n",
    "#calculations\n",
    "#Determination of duty cycle\n",
    "D=Pavg/Pp;\n",
    "#Determination of length of pulse\n",
    "Ton=D*Tt;\n",
    "#results\n",
    "print 'The duty cycle is',round(D,3)\n",
    "print 'The length of pulse is',round(Ton,5),'sec'"
   ]
  },
  {
   "cell_type": "markdown",
   "metadata": {},
   "source": [
    "## Example 10 : pg 652"
   ]
  },
  {
   "cell_type": "code",
   "execution_count": 9,
   "metadata": {
    "collapsed": false
   },
   "outputs": [
    {
     "name": "stdout",
     "output_type": "stream",
     "text": [
      "a)The gain is 15.763 dBi\n",
      "b)The beamwidth in H-plane is 26.923 degree\n",
      "c)The beamwidth in H-plane is 28.966 degree\n"
     ]
    }
   ],
   "source": [
    " \n",
    "#page no 652\n",
    "#prob no. 17.10\n",
    "#calculate the gain and beam width in all cases\n",
    "import math\n",
    "#A pyramidal horn has aperture=58mm in E-plane & 78mm in H-plane & operates at 10GHz\n",
    "#given\n",
    "f=10*10**9;c=3.*10**8;dH=78.*10**-3;dE=58.*10**-3;\n",
    "#calculations and results\n",
    "#a)Determination of gain in dB\n",
    "wl=c/f;#calculation of wavelength\n",
    "G=(7.5*dE*dH)/(wl**2);\n",
    "G_dBi=10*math.log10(G);#Converting to dBi\n",
    "print 'a)The gain is',round(G_dBi,3),'dBi'\n",
    "#b)Determination of beamwidth in H-palne\n",
    "theta_H=(70*wl)/dH;\n",
    "print 'b)The beamwidth in H-plane is',round(theta_H,3),'degree'\n",
    "#c)Determination of beamwidth in E-plane\n",
    "theta_E=(56*wl)/dE;\n",
    "print 'c)The beamwidth in H-plane is',round(theta_E,3),'degree'"
   ]
  },
  {
   "cell_type": "markdown",
   "metadata": {},
   "source": [
    "## Example 11 : pg 654"
   ]
  },
  {
   "cell_type": "code",
   "execution_count": 10,
   "metadata": {
    "collapsed": false
   },
   "outputs": [
    {
     "name": "stdout",
     "output_type": "stream",
     "text": [
      "The antenna width =  53.03 m  and  The antenna length =  53.03 m\n"
     ]
    }
   ],
   "source": [
    " \n",
    "#page no 654\n",
    "# problem no 17.11\n",
    "#calculate the width and length of the antenna\n",
    "#given\n",
    "from math import sqrt\n",
    "#for a square patch antenna\n",
    "f=2*10**6;# freq of operation in Hz\n",
    "Er=2;# relative permittivity\n",
    "c=3*10**8;# velo of light\n",
    "#calculations\n",
    "#wavelength is given as\n",
    "wl=c/(f*sqrt(Er));\n",
    "#The antenna width and length are each approximately half of this.\n",
    "w=wl/2;\n",
    "l=wl/2;\n",
    "#results\n",
    "print 'The antenna width = ',round(w,2),'m ','and ','The antenna length = ',round(l,2),'m'"
   ]
  },
  {
   "cell_type": "markdown",
   "metadata": {},
   "source": [
    "## Example 12 : pg 657"
   ]
  },
  {
   "cell_type": "code",
   "execution_count": 11,
   "metadata": {
    "collapsed": false
   },
   "outputs": [
    {
     "name": "stdout",
     "output_type": "stream",
     "text": [
      "The received power is 1.01251354638e-14 W\n"
     ]
    }
   ],
   "source": [
    " \n",
    "#page no 657\n",
    "#prob no. 17.12\n",
    "#calculate the received power\n",
    "import math\n",
    "#A radar Tx has power=10kW at freq=9.5GHz & target at 15km with cross sectn=10.2 m2 with gain of antenna is 20dBi\n",
    "f=9.5*10**9;Pt=10.*10**3;c=3.*10**8;G_dBi=20.;a=10.2;r=15.*10**3;\n",
    "#calculations\n",
    "#Determination of received power\n",
    "wl=c/f;#calculating wavelength\n",
    "G=10**(G_dBi/10.);#Converting to power ratio\n",
    "Pr=((wl**2)*Pt*(G**2)*a)/(((4*math.pi)**3)*(r**4));\n",
    "#results\n",
    "print 'The received power is',Pr,'W'"
   ]
  },
  {
   "cell_type": "markdown",
   "metadata": {},
   "source": [
    "## Example 13 : pg 659"
   ]
  },
  {
   "cell_type": "code",
   "execution_count": 12,
   "metadata": {
    "collapsed": false
   },
   "outputs": [
    {
     "name": "stdout",
     "output_type": "stream",
     "text": [
      "The distance of target is 2250.0 m\n",
      "The maximum range is  150000.0 m\n",
      "The minimum range is  150.0 m\n"
     ]
    }
   ],
   "source": [
    " \n",
    "#page no 659\n",
    "#prob no. 17.13a\n",
    "#calculate the distance of target\n",
    "#a pulse sent,returns after 15us\n",
    "#given\n",
    "t=15*10**-6;c=3.*10**8;\n",
    "tp=10**-6;#pulse duration of pulse radar\n",
    "f=10**3;#operating freq in Hz\n",
    "#calculations\n",
    "#Determination of distance of target\n",
    "R=(c*t)/2;\n",
    "#The maximum unambiguous range is \n",
    "Rmax=c/(2*f);\n",
    "#The minimum unambiguous range is \n",
    "Rmin=c*tp/2;\n",
    "#results\n",
    "print 'The distance of target is',R,'m'\n",
    "print 'The maximum range is ',Rmax,'m'\n",
    "print 'The minimum range is ',Rmin,'m'"
   ]
  },
  {
   "cell_type": "markdown",
   "metadata": {},
   "source": [
    "## Example 14 : pg 662"
   ]
  },
  {
   "cell_type": "code",
   "execution_count": 13,
   "metadata": {
    "collapsed": false
   },
   "outputs": [
    {
     "name": "stdout",
     "output_type": "stream",
     "text": [
      "The Doppler shift is  1777.78 Hz\n"
     ]
    }
   ],
   "source": [
    " \n",
    "#page no 662\n",
    "#prob no. 17.14\n",
    "#calculate the doppler shift\n",
    "#given\n",
    "v=60.;#speed of vehicle moving towards radar in mph\n",
    "c=3*10**8;#velo of light in m/s\n",
    "f=10.**10;# operating frequency in Hz\n",
    "#calculations\n",
    "# conversion of speed from mph to km/hr\n",
    "v1=60*1.6;\n",
    "# conversion of speed from km/hr to m/s\n",
    "v2=v1*10**3/3600.;\n",
    "# Now the Doppler shift is found as\n",
    "fd=2*v2*f/c;\n",
    "#results\n",
    "print 'The Doppler shift is ',round(fd,2),'Hz'"
   ]
  }
 ],
 "metadata": {
  "kernelspec": {
   "display_name": "Python 2",
   "language": "python",
   "name": "python2"
  },
  "language_info": {
   "codemirror_mode": {
    "name": "ipython",
    "version": 2
   },
   "file_extension": ".py",
   "mimetype": "text/x-python",
   "name": "python",
   "nbconvert_exporter": "python",
   "pygments_lexer": "ipython2",
   "version": "2.7.11"
  }
 },
 "nbformat": 4,
 "nbformat_minor": 0
}
