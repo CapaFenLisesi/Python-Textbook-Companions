{
 "cells": [
  {
   "cell_type": "markdown",
   "metadata": {},
   "source": [
    "# Chapter 22 : Personal Communication Systems"
   ]
  },
  {
   "cell_type": "markdown",
   "metadata": {},
   "source": [
    "## Example 1 : pg 842"
   ]
  },
  {
   "cell_type": "code",
   "execution_count": 1,
   "metadata": {
    "collapsed": false
   },
   "outputs": [
    {
     "name": "stdout",
     "output_type": "stream",
     "text": [
      "The mobile transmitted power in dBm is 24 dBm\n",
      "Case 2 : The mobile transmitted power is 100 mW\n"
     ]
    }
   ],
   "source": [
    " \n",
    "# page no 842\n",
    "# prob no 22.1\n",
    "#calculate the mobile transmitted power\n",
    "#given\n",
    "PR = -100;#In dBm\n",
    "#calculations and results\n",
    "# The mobile transmitted power is\n",
    "PT_dBm =-76-PR;#this is in dBm\n",
    "print 'The mobile transmitted power in dBm is',PT_dBm,'dBm'\n",
    "PT_mW =10**(PT_dBm/10);\n",
    "print 'Case 2 : The mobile transmitted power is',PT_mW,'mW'"
   ]
  }
 ],
 "metadata": {
  "kernelspec": {
   "display_name": "Python 2",
   "language": "python",
   "name": "python2"
  },
  "language_info": {
   "codemirror_mode": {
    "name": "ipython",
    "version": 2
   },
   "file_extension": ".py",
   "mimetype": "text/x-python",
   "name": "python",
   "nbconvert_exporter": "python",
   "pygments_lexer": "ipython2",
   "version": "2.7.11"
  }
 },
 "nbformat": 4,
 "nbformat_minor": 0
}
