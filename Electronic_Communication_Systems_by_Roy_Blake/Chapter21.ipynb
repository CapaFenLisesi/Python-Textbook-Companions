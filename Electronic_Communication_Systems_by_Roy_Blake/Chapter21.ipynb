{
 "cells": [
  {
   "cell_type": "markdown",
   "metadata": {},
   "source": [
    "# Chapter 21 : Cellular Radio"
   ]
  },
  {
   "cell_type": "markdown",
   "metadata": {},
   "source": [
    "## Example 1 : pg 795"
   ]
  },
  {
   "cell_type": "code",
   "execution_count": 1,
   "metadata": {
    "collapsed": false
   },
   "outputs": [
    {
     "name": "stdout",
     "output_type": "stream",
     "text": [
      "Handoff time is 720.0 sec\n",
      "Handoff time is 36.0 sec\n"
     ]
    }
   ],
   "source": [
    " \n",
    "# page no 795\n",
    "# prob no 21.1\n",
    "#calculate the hand off time\n",
    "#given\n",
    "v=100.;#in km/hr\n",
    "# first convert speed into m/sec\n",
    "v1=(100.*10**3)/3600;#in km/sec\n",
    "#calculations and results\n",
    "#part a)\n",
    "r=10.**4;#in m\n",
    "t=(2*r)/v1;\n",
    "print 'Handoff time is',t,'sec'\n",
    "#part b)\n",
    "r=500;#in m\n",
    "t=(2*r)/v1;\n",
    "print 'Handoff time is',t,'sec'"
   ]
  },
  {
   "cell_type": "markdown",
   "metadata": {},
   "source": [
    "## Example 2 : pg 807"
   ]
  },
  {
   "cell_type": "code",
   "execution_count": 2,
   "metadata": {
    "collapsed": false
   },
   "outputs": [
    {
     "name": "stdout",
     "output_type": "stream",
     "text": [
      "a) The average traffic is 416.667 E\n",
      "The peak traffic is 3333.333 E\n",
      "b) The average traffic per cell is 3.472 E\n",
      "The peak traffic per cell is 27.778 E\n"
     ]
    }
   ],
   "source": [
    " \n",
    "# page no 807\n",
    "# prob no 21.2\n",
    "#calculate the average and peak traffic\n",
    "#given\n",
    "N = 12\n",
    "m = 120.\n",
    "a = 20000.\n",
    "th = 30.#in min/day this means\n",
    "H = 0.5\n",
    "tp = 10.\n",
    "#calculations and results\n",
    "#part a)Calculation of the average and peak traffic in erlangs for the whole\n",
    "#system\n",
    "# The average traffic is\n",
    "T = a * H / 24\n",
    "print 'a) The average traffic is',round(T,3),'E'\n",
    "# The peak traffic is\n",
    "T1 = (a * tp) / 60\n",
    "print 'The peak traffic is',round(T1,3),'E'\n",
    "#part b)Calculation of the average and peak traffic in erlangs for one cell\n",
    "# The average traffic per cell is\n",
    "t = T / m\n",
    "print 'b) The average traffic per cell is',round(t,3),'E'\n",
    "# The peak traffic per cell is\n",
    "t = T1 / m\n",
    "print 'The peak traffic per cell is',round(t,3),'E'\n",
    "# part c)\n",
    "# For average traffic at 3.47E, the blocking probability is much less than 1%,\n",
    "# since the average no of call is much less than the no of channels. \n",
    "#However, the blocking probability increases to just over 5%"
   ]
  },
  {
   "cell_type": "markdown",
   "metadata": {},
   "source": [
    "## Example 3 : pg 816"
   ]
  },
  {
   "cell_type": "code",
   "execution_count": 3,
   "metadata": {
    "collapsed": false
   },
   "outputs": [
    {
     "name": "stdout",
     "output_type": "stream",
     "text": [
      "The maximum distance between base and mobile is 36900.0 m\n"
     ]
    }
   ],
   "source": [
    " \n",
    "# page no 816\n",
    "# prob no 21.3\n",
    "#calculate the max distance\n",
    "#given\n",
    "tg=123.*10**-6;\n",
    "c=3.*10**8;\n",
    "#calculations\n",
    "#The maximum distance between base and mobile is\n",
    "d=c*tg;\n",
    "#results\n",
    "print 'The maximum distance between base and mobile is',d,'m'"
   ]
  }
 ],
 "metadata": {
  "kernelspec": {
   "display_name": "Python 2",
   "language": "python",
   "name": "python2"
  },
  "language_info": {
   "codemirror_mode": {
    "name": "ipython",
    "version": 2
   },
   "file_extension": ".py",
   "mimetype": "text/x-python",
   "name": "python",
   "nbconvert_exporter": "python",
   "pygments_lexer": "ipython2",
   "version": "2.7.11"
  }
 },
 "nbformat": 4,
 "nbformat_minor": 0
}
