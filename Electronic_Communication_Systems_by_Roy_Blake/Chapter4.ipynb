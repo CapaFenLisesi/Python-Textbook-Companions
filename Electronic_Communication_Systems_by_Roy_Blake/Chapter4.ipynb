{
 "cells": [
  {
   "cell_type": "markdown",
   "metadata": {},
   "source": [
    "# Chapter 4 : Angle Modulation"
   ]
  },
  {
   "cell_type": "markdown",
   "metadata": {},
   "source": [
    "## Example 1 : pg 139"
   ]
  },
  {
   "cell_type": "code",
   "execution_count": 1,
   "metadata": {
    "collapsed": false
   },
   "outputs": [
    {
     "name": "stdout",
     "output_type": "stream",
     "text": [
      "a)The value of o/p freq is  175.0045 MHz\n",
      "b)The value of o/p freq is  174.94 MHz\n"
     ]
    }
   ],
   "source": [
    "#page no 139\n",
    "#prob no. 4.1\n",
    "#Calculate the o/p frequency\n",
    "#An FM modulator is given with kf=30kHz/V operate at carrier freq 175MHz\n",
    "#given\n",
    "fc=175.*10**6;kf=30.*10**3;\n",
    "#a)Determination of o/p freq for modulating signal value em1=150mV \n",
    "em1=150*10**-3;\n",
    "#calculations and results\n",
    "fsig1=fc+(kf*em1);\n",
    "print 'a)The value of o/p freq is ',fsig1/(10**6),'MHz'\n",
    "#b)Determination of o/p freq for modulating signal value em2=-2V \n",
    "em2=-2;\n",
    "fsig2=fc+(kf*em2);\n",
    "print 'b)The value of o/p freq is ',fsig2/(10**6),'MHz'"
   ]
  },
  {
   "cell_type": "markdown",
   "metadata": {},
   "source": [
    "## Example 2 : pg 140"
   ]
  },
  {
   "cell_type": "code",
   "execution_count": 2,
   "metadata": {
    "collapsed": false
   },
   "outputs": [
    {
     "name": "stdout",
     "output_type": "stream",
     "text": [
      "The value of deviation is  127.279 kHz\n"
     ]
    }
   ],
   "source": [
    "#page no 140\n",
    "#prob no. 4.2\n",
    "#calculate the value of deviation\n",
    "from math import sqrt\n",
    "#An FM modulator is given which is modulated by sine wave 3V\n",
    "#given\n",
    "v=3.;\n",
    "kf=30.*10**3;\n",
    "#calculations\n",
    "#Determination of peak value \n",
    "Em=v*sqrt(2);\n",
    "#Determination of deviation delta\n",
    "delta=kf*Em;\n",
    "#results\n",
    "print 'The value of deviation is ',round(delta/1000.,3),'kHz'"
   ]
  },
  {
   "cell_type": "markdown",
   "metadata": {},
   "source": [
    "## Example 3 : pg 140"
   ]
  },
  {
   "cell_type": "code",
   "execution_count": 3,
   "metadata": {
    "collapsed": false
   },
   "outputs": [
    {
     "name": "stdout",
     "output_type": "stream",
     "text": [
      "a)The value of modulation index for fm=15kHz is  5.0\n",
      "b)The value of modulation index for fm=50Hz is  1500.0\n"
     ]
    }
   ],
   "source": [
    "#page no 140\n",
    "#prob no. 4.3\n",
    "#calculate the value of modulation index in both cases\n",
    "#An FM broadcaster transmitter operate at max deviatn of 75kHz\n",
    "#given\n",
    "delta=75.*10**3;\n",
    "#a)Determination of modulation index with modulating freq of signal =15kHz\n",
    "fm1=15.*10**3;\n",
    "#calculations and results\n",
    "mf1=delta/fm1;\n",
    "print 'a)The value of modulation index for fm=15kHz is ',mf1\n",
    "#b)Determination of modulation index with modulating freq of signal =50Hz\n",
    "fm2=50;\n",
    "mf2=delta/fm2;\n",
    "print 'b)The value of modulation index for fm=50Hz is ',mf2"
   ]
  },
  {
   "cell_type": "markdown",
   "metadata": {},
   "source": [
    "## Example 4 : pg 141"
   ]
  },
  {
   "cell_type": "code",
   "execution_count": 4,
   "metadata": {
    "collapsed": false
   },
   "outputs": [
    {
     "name": "stdout",
     "output_type": "stream",
     "text": [
      "The rms voltage that cause deviation is  0.37 V\n"
     ]
    }
   ],
   "source": [
    " \n",
    "#page no 141\n",
    "#prob no. 4.4\n",
    "from math import pi, sqrt\n",
    "#calculate the rms voltage\n",
    "#A phase modulator is given with kp=2rad/V \n",
    "#given\n",
    "kp=2;\n",
    "#Peak phase deviation of 60 degree\n",
    "#calculations\n",
    "#Converting degree in radian \n",
    "phi=(2*pi*60)/360;\n",
    "#Determination of peak voltage that cause that deviation \n",
    "Vp=phi/kp;\n",
    "#Determination of rms voltage\n",
    "Vrms=Vp/(sqrt(2));\n",
    "#results\n",
    "print 'The rms voltage that cause deviation is ',round(Vrms,2),'V'"
   ]
  },
  {
   "cell_type": "markdown",
   "metadata": {},
   "source": [
    "## Example 6 : pg 145"
   ]
  },
  {
   "cell_type": "code",
   "execution_count": 5,
   "metadata": {
    "collapsed": false
   },
   "outputs": [
    {
     "name": "stdout",
     "output_type": "stream",
     "text": [
      "The freq deviation produce is 6.0 kHz\n"
     ]
    }
   ],
   "source": [
    " \n",
    "#page no 145\n",
    "#prob no. 4.6\n",
    "#calculate the freq deviation \n",
    "#given\n",
    "#Phase modulator with sensitivity kp=3rad/V & sine wave i/p 2 V peak at 1kHz\n",
    "kp=3.;Vp=2.;f=1*10**3;\n",
    "#calculations\n",
    "#As max value of sine functn is 1, hence max value of phi is kp*Vp\n",
    "phi_max=kp*Vp;\n",
    "#phi_max is nothing but mp\n",
    "mp=phi_max;\n",
    "#value of mf is same as mp if signal is considered as freq modulation\n",
    "#Determination of freq deviation\n",
    "dev=mp*f;\n",
    "#results\n",
    "print 'The freq deviation produce is',dev/1000,'kHz'"
   ]
  },
  {
   "cell_type": "markdown",
   "metadata": {},
   "source": [
    "## Example 7 : pg 149"
   ]
  },
  {
   "cell_type": "code",
   "execution_count": 9,
   "metadata": {
    "collapsed": false
   },
   "outputs": [
    {
     "name": "stdout",
     "output_type": "stream",
     "text": [
      "a)The rms signal voltage is 15.8113883008 V\n",
      "b)The rms voltage of side bands are\n",
      "Vc= 4.11\n",
      "V1= 5.38\n",
      "V2= 7.75\n",
      "V3= 0.0\n",
      "c)The 3 side bands at different freq. are \n",
      "f_usb1= 160.0\n",
      "f_usb2= 160.0\n",
      "f_usb3= 0.0\n",
      "f_lsb1= 160.0\n",
      "f_lsb2= 160.0\n",
      "f_lsb3= 0.0\n",
      "d)The power of each side band is\n",
      "Pc= 0.34\n",
      "P1= 0.58\n",
      "P2= 1.2\n",
      "P3= 0.0\n",
      "e)Percentage total power which is uncounted is 28.3697047497 % f)Power of each side bands in dBm is\n",
      "Pc(dBm)= 25.29\n",
      "P1(dBm)= 27.62\n",
      "P2(dBm)= 30.79\n",
      "P3(dBm)= 0.0\n"
     ]
    },
    {
     "data": {
      "image/png": "[encoded data removed]",
      "text/plain": [
       "<matplotlib.figure.Figure at 0x3715da0>"
      ]
     },
     "metadata": {},
     "output_type": "display_data"
    }
   ],
   "source": [
    " \n",
    "#page no 149\n",
    "#prob no. 4.7\n",
    "#calculate the rms voltage in all cases \n",
    "%matplotlib inline\n",
    "from math import sqrt, log10\n",
    "import numpy\n",
    "import matplotlib\n",
    "from matplotlib import pyplot\n",
    "#given\n",
    "#An FM signal has deviation 3kHz & modulating freq 1kHz with total power Pt=5W\n",
    "#developed across 50 ohm with fc=160 MHz\n",
    "dev = 3. * 10 ** 3\n",
    "fm = 10 ** 3\n",
    "Pt = 5.\n",
    "Rl = 50.\n",
    "fc = 160. * 10 ** 6\n",
    "#calculations and results\n",
    "#a)Determination of RMS signal voltage\n",
    "Vt = sqrt(Pt * Rl)\n",
    "print 'a)The rms signal voltage is',Vt,'V'\n",
    "######/b)Determination of rms voltage at carrier freq\n",
    "#for that modulation index needs to be found out\n",
    "mf = dev / fm\n",
    "#From bessel function table, the coeff for the carrier first 3 side bands\n",
    "J = ([0.26,0.34,0.49,0.31])\n",
    "V = numpy.zeros(4)\n",
    "print 'b)The rms voltage of side bands are'\n",
    "for i in range(0,3):\n",
    "    V[i] = J[i] * Vt\n",
    "\n",
    "print 'Vc=',round(V[0],2)\n",
    "print 'V1=',round(V[1],2)\n",
    "print 'V2=',round(V[2],2)\n",
    "print 'V3=',round(V[3],2)\n",
    "#####/c)Determination of freq of each side bands########\n",
    "print 'c)The 3 side bands at different freq. are '\n",
    "f_usb = numpy.zeros(3)\n",
    "for j in range(0,2):\n",
    "    f_usb[j] = fc / 10 ** 6 + (fm * j / 10 ** 6)\n",
    "\n",
    "print 'f_usb1=',round(f_usb[0],2)\n",
    "print 'f_usb2=',round(f_usb[1],2)\n",
    "print 'f_usb3=',round(f_usb[2],2)\n",
    "\n",
    "f_lsb = numpy.zeros(3)\n",
    "for j in range(0,2):\n",
    "    f_lsb[j] = fc / 10 ** 6 - (fm * j / 10 ** 6)\n",
    "\n",
    "print 'f_lsb1=',round(f_lsb[0],2)\n",
    "print 'f_lsb2=',round(f_lsb[1],2)\n",
    "print 'f_lsb3=',round(f_lsb[2],2)\n",
    "\n",
    "P = numpy.zeros(4)\n",
    "a = numpy.zeros(4)\n",
    "######d)Determination of power of each side band########/\n",
    "for i in range(0,3):\n",
    "    P[i] = ((V[i]) ** 2) / Rl\n",
    "    a[i] = (P[i]) / (10 ** -3)\n",
    "\n",
    "print 'd)The power of each side band is'\n",
    "print 'Pc=',round(P[0],2)\n",
    "print 'P1=',round(P[1],2)\n",
    "print 'P2=',round(P[2],2)\n",
    "print 'P3=',round(P[3],2)\n",
    "\n",
    "#####e)Determination of power that is uncounted\n",
    "P = P[0] + 2 * (P[2] + P[3] + P[1])\n",
    "#As total power is 5 W\n",
    "P_x = Pt - P\n",
    "#Percentage of total power uncounted\n",
    "Px = (P_x / P) * 100\n",
    "print 'e)Percentage total power which is uncounted is',Px,'%',\n",
    "#####f)Ploting the signal in freq domain##########/\n",
    "#Converting power in dBm\n",
    "P_dBm = numpy.zeros(4)\n",
    "for i in range(0,3):\n",
    "    #a(k)=(P(k))/(10**-3);\n",
    "   P_dBm[i] = 10 * log10(a[i]) \n",
    "\n",
    "print 'f)Power of each side bands in dBm is'\n",
    "print 'Pc(dBm)=',round(P_dBm[0],2)\n",
    "print 'P1(dBm)=',round(P_dBm[1],2)\n",
    "print 'P2(dBm)=',round(P_dBm[2],2)\n",
    "print 'P3(dBm)=',round(P_dBm[3],2)\n",
    "\n",
    "x = ([159.997,159.998,159.999,160.0,160.001,160.002,160.003])\n",
    "y = ([26.8,30.8,27.6,25.3,27.6,30.8,26.8])\n",
    "pyplot.plot(x,y);\n",
    "pyplot.show();\n"
   ]
  },
  {
   "cell_type": "markdown",
   "metadata": {},
   "source": [
    "## Example 9 : pg 157"
   ]
  },
  {
   "cell_type": "code",
   "execution_count": 10,
   "metadata": {
    "collapsed": false
   },
   "outputs": [
    {
     "name": "stdout",
     "output_type": "stream",
     "text": [
      "The SNR at detector o/p is 33.979 dB\n"
     ]
    }
   ],
   "source": [
    " \n",
    "#page no 157\n",
    "#prob no. 4.9\n",
    "#calculate the SNR at detector o/p\n",
    "from math import log10\n",
    "#given\n",
    "#An FM signal has freq deviation of 5kHz modulating freq fm=1kHz with SNR at i/p is 20 dB\n",
    "#Converting dB in voltage ratio\n",
    "fm=1.*10**3;dev_s=5.*10**3;snr=20.;\n",
    "#calculations\n",
    "Es_En=10**(snr/20);\n",
    "#Since Es>>En then \n",
    "phi=1/(Es_En);\n",
    "m_fn=phi;#modulation index equal to phi_n\n",
    "dev_n=(m_fn)*fm;#Equivalent freq deviation due to noise\n",
    "#SNR as a voltage ratio is given as\n",
    "SNR=(dev_s)/(dev_n);\n",
    "#Converting this voltage ration in dB\n",
    "SNR_dB=20*(log10(SNR));\n",
    "#results\n",
    "print 'The SNR at detector o/p is',round(SNR_dB,3),'dB'"
   ]
  },
  {
   "cell_type": "markdown",
   "metadata": {},
   "source": [
    "## Example 10 : pg 163"
   ]
  },
  {
   "cell_type": "code",
   "execution_count": 12,
   "metadata": {
    "collapsed": false
   },
   "outputs": [
    {
     "name": "stdout",
     "output_type": "stream",
     "text": [
      "The freq is with in the acceptable range 2.083 kHz\n"
     ]
    }
   ],
   "source": [
    " \n",
    "#page no 163\n",
    "#prob no. 4.10\n",
    "#calculate whether the freq is with in the acceptable range\n",
    "#Refer the fig. 4.19\n",
    "#given\n",
    "# We know this transmitter is designed for voice frequencies,so we have to use trial \n",
    "#and error method to produce a carrier null for a deviation of 5kHz\n",
    "mf=2.4;# starting with the first null for mf=2.4\n",
    "dev=5;#in kHz\n",
    "#calculations and results\n",
    "fm=dev/mf;\n",
    "if (0.3 <= fm and 3>=fm):\n",
    "    print 'The freq is with in the acceptable range',round(fm,3),'kHz'\n",
    "else:\n",
    "    mf=5.5;\n",
    "    fm=dev/mf;\n",
    "    print 'The freq is with in the acceptable range',round(fm,3),'kHz'\n",
    "# for this calculated fm, set the function generator to the value of fm so that the deviation is 5kHz"
   ]
  }
 ],
 "metadata": {
  "kernelspec": {
   "display_name": "Python 2",
   "language": "python",
   "name": "python2"
  },
  "language_info": {
   "codemirror_mode": {
    "name": "ipython",
    "version": 2
   },
   "file_extension": ".py",
   "mimetype": "text/x-python",
   "name": "python",
   "nbconvert_exporter": "python",
   "pygments_lexer": "ipython2",
   "version": "2.7.11"
  }
 },
 "nbformat": 4,
 "nbformat_minor": 0
}
