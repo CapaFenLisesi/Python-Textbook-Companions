{
 "cells": [
  {
   "cell_type": "markdown",
   "metadata": {},
   "source": [
    "# Chapter 16 : Antennas"
   ]
  },
  {
   "cell_type": "markdown",
   "metadata": {},
   "source": [
    "## Example 1 : pg 564"
   ]
  },
  {
   "cell_type": "code",
   "execution_count": 1,
   "metadata": {
    "collapsed": false
   },
   "outputs": [
    {
     "name": "stdout",
     "output_type": "stream",
     "text": [
      "The length of half-wave dipole is 7.125 m\n"
     ]
    }
   ],
   "source": [
    "#calculate the length of half wave dipole\n",
    "#page no 564\n",
    "#given\n",
    "#prob no. 16.1\n",
    "#Determination of length of half-wave dipole\n",
    "#given\n",
    "f=20.;#Operating freq in MHz\n",
    "#calculations\n",
    "L=142.5/f;\n",
    "#results\n",
    "print 'The length of half-wave dipole is',L,'m'"
   ]
  },
  {
   "cell_type": "markdown",
   "metadata": {},
   "source": [
    "## Example 2 : pg 566"
   ]
  },
  {
   "cell_type": "code",
   "execution_count": 7,
   "metadata": {
    "collapsed": false
   },
   "outputs": [
    {
     "name": "stdout",
     "output_type": "stream",
     "text": [
      "The efficiency of dipole antenna is 93.1 %\n"
     ]
    }
   ],
   "source": [
    "#calculate the efficiency of dipole antenna \n",
    "#page no 566\n",
    "#prob no. 16.2\n",
    "#given\n",
    "#A dipole antenna with radiatn resistance=67ohm & loss resistance 5ohm\n",
    "Rr=67.;Rl=5;\n",
    "#calculations\n",
    "#Determination of efficiency \n",
    "eta=Rr/(Rr+Rl);\n",
    "#results\n",
    "print 'The efficiency of dipole antenna is',round(eta*100,1),'%'"
   ]
  },
  {
   "cell_type": "markdown",
   "metadata": {},
   "source": [
    "## Example 3 : pg 571"
   ]
  },
  {
   "cell_type": "code",
   "execution_count": 6,
   "metadata": {
    "collapsed": false
   },
   "outputs": [
    {
     "name": "stdout",
     "output_type": "stream",
     "text": [
      "Second antenna with gain=4.5dBd has higher gain\n"
     ]
    }
   ],
   "source": [
    "#calculate whether the first or second antenna has higher gain \n",
    "#page no 569\n",
    "#prob no. 16.3\n",
    "#given\n",
    "#Two antennas with gain 5.3dBi & 4.5dBd\n",
    "#Converting unit dBd in dBi for comparison\n",
    "G1_dBi=5.3;G2_dBd=4.5;\n",
    "G2_dBi=2.14+G2_dBd;\n",
    "#calculations and results\n",
    "if G2_dBi > G1_dBi:\n",
    "    print 'Second antenna with gain=4.5dBd has higher gain'\n",
    "else:\n",
    "    print 'First antenna with gain=5.3dBi has higher gain '"
   ]
  },
  {
   "cell_type": "markdown",
   "metadata": {},
   "source": [
    "## Example 4 : pg 571"
   ]
  },
  {
   "cell_type": "code",
   "execution_count": 4,
   "metadata": {
    "collapsed": false
   },
   "outputs": [
    {
     "name": "stdout",
     "output_type": "stream",
     "text": [
      "The gain is 1.434 dBi\n"
     ]
    }
   ],
   "source": [
    "#calculate the gain\n",
    "#page no 571\n",
    "#prob no. 16.4\n",
    "#given\n",
    "from math import log10\n",
    "#A dipole antenna with efficency=85% given\n",
    "n=0.85;D_dBi=2.14;#Directivity in dBi\n",
    "#calculations\n",
    "#Determination of gain in dB\n",
    "D=10**(D_dBi/10);\n",
    "G=D*n;#Determination of gain\n",
    "G_dBi=10*log10(G);#Converting to dBi\n",
    "#results\n",
    "print 'The gain is',round(G_dBi,3),'dBi'"
   ]
  },
  {
   "cell_type": "markdown",
   "metadata": {},
   "source": [
    "## Example 6 : pg 573"
   ]
  },
  {
   "cell_type": "code",
   "execution_count": 8,
   "metadata": {
    "collapsed": false
   },
   "outputs": [
    {
     "name": "stdout",
     "output_type": "stream",
     "text": [
      "EIRP in dBm is expressed as 44.444 dBm\n"
     ]
    }
   ],
   "source": [
    "#calculate the EIRP in dBm \n",
    "#page no 573\n",
    "#prob no. 16.6\n",
    "#given\n",
    "from math import log10\n",
    "#ERP of Tx statn=17W\n",
    "ERP=17.;\n",
    "#calculations\n",
    "#Determnation of EIRP\n",
    "ERP_dBm=10*log10(ERP/10**-3);#Converting ERP in dBm\n",
    "EIRP_dBm=ERP_dBm+2.14;#Converting ERP in EIRP\n",
    "#results\n",
    "print 'EIRP in dBm is expressed as',round(EIRP_dBm,3),'dBm'"
   ]
  },
  {
   "cell_type": "markdown",
   "metadata": {},
   "source": [
    "## Example 7 : pg 582"
   ]
  },
  {
   "cell_type": "code",
   "execution_count": 9,
   "metadata": {
    "collapsed": false
   },
   "outputs": [
    {
     "name": "stdout",
     "output_type": "stream",
     "text": [
      "a)1.The optimum diameter for antenna is 0.0795774715459 m\n",
      "a)2.The spacing for the antenna 0.0625 m\n",
      "a)3.The total length of an antenna is 0.5 m\n",
      "b)The antenna gain is 14.7712125472 dBi\n",
      "The beamwidth is 36.7695526217 degree\n"
     ]
    }
   ],
   "source": [
    "#calculate the beam width, optimum diameter, spacing, total length \n",
    "#page no 582\n",
    "#prob no. 16.7\n",
    "#given\n",
    "from math import pi, log10, sqrt\n",
    "#a helial antenna with 8 turns with freq=1.2GHz given\n",
    "N=8.;f=1.2*10**9;c=3*10**8;#Speed of light in m/s\n",
    "#calculations and results\n",
    "#a)Determination of optimum diameter of antenna\n",
    "wav=c/f;\n",
    "D=wav/pi;\n",
    "print 'a)1.The optimum diameter for antenna is',D,'m'\n",
    "S=wav/4;#Determination of spacing for the antenna\n",
    "print 'a)2.The spacing for the antenna',S,'m'\n",
    "L=N*S;#Determination of total length of an antenna\\\n",
    "print 'a)3.The total length of an antenna is',L,'m'\n",
    "#b)Determination of antenna gain in dBi\n",
    "G=(15*N*S*(pi*D)**2)/(wav**3);\n",
    "G_dBi=10*log10(G);#Converting in dBi\n",
    "print 'b)The antenna gain is',G_dBi,'dBi'\n",
    "#c)determination of beamwidth\n",
    "theta=((52*wav)/(pi*D))*sqrt(wav/(N*S));\n",
    "print 'The beamwidth is',theta,'degree'"
   ]
  },
  {
   "cell_type": "markdown",
   "metadata": {},
   "source": [
    "## Example 8 : pg 590"
   ]
  },
  {
   "cell_type": "code",
   "execution_count": 10,
   "metadata": {
    "collapsed": false
   },
   "outputs": [
    {
     "name": "stdout",
     "output_type": "stream",
     "text": [
      "The length of elements are\n",
      "L5= 1.85469596002 m  L4= 1.29828717201 m  L3= 0.908801020408 m  L2= 0.636160714286 m  L1= 0.4453125 m \n",
      "The spacing between elements are\n",
      "D5= 3.46090977769 m D4= 2.42263684438 m  D3= 1.69584579107 m  D2= 1.18709205375 m  D1= 0.830964437623 m \n"
     ]
    }
   ],
   "source": [
    "#calculate the length and spacing \n",
    "#page no 590\n",
    "#prob no. 16.8\n",
    "from math import pi,tan\n",
    "#Design of log periodic antenna to cover freq 100-300MHz & t=0.7,a=30 degree\n",
    "t=0.7;a=30;\n",
    "#For good performance converting range to 90MHz to 320MHz\n",
    "f2=90.;f1=320.;\n",
    "#Determination of lengths of elements\n",
    "L1=142.5/f1;#For freq of 320MHz\n",
    "L2=L1/t;L3=L2/t;L4=L3/t;L5=L4/t;\n",
    "print 'The length of elements are'\n",
    "print 'L5=',L5,'m ','L4=',L4,'m ','L3=',L3,'m ','L2=',L2,'m ','L1=',L1,'m '\n",
    "#Determination of spacing betn elements\n",
    "D1=L1/(2*tan(a*pi/180./2.));\n",
    "D2=D1/t;D3=D2/t;D4=D3/t;D5=D4/t;\n",
    "print 'The spacing between elements are'\n",
    "print 'D5=',D5,'m','D4=',D4,'m ','D3=',D3,'m ','D2=',D2,'m ','D1=',D1,'m '"
   ]
  },
  {
   "cell_type": "markdown",
   "metadata": {},
   "source": [
    "## Example 9 : pg 598"
   ]
  },
  {
   "cell_type": "code",
   "execution_count": 11,
   "metadata": {
    "collapsed": false
   },
   "outputs": [
    {
     "name": "stdout",
     "output_type": "stream",
     "text": [
      "The beamwidth is 1.75 degree\n",
      "The gain is 39.766 dBi\n"
     ]
    }
   ],
   "source": [
    "#calculate the gain and beamwidth\n",
    "#page no 598\n",
    "#prob no. 16.9\n",
    "from math import pi, log10\n",
    "#given\n",
    "#A parabolic antenna with diameter=3m & efficiency=60% operate at 4GHz\n",
    "D=3.;n=0.6;f=4.*10**9;c=3.*10**8;#Spped of light\n",
    "#Determination of gain & beamwidth\n",
    "#calculations and results\n",
    "wav=c/f;#Determination of free space wavelength\n",
    "theta=(70.*wav)/D;#Calculaing beamwidth\n",
    "print 'The beamwidth is',theta,'degree'\n",
    "G=(n*(pi**2)*(D**2))/wav**2;#Calculating gain\n",
    "#Converting gain in dBi\n",
    "G_dBi=10*log10(G);\n",
    "print 'The gain is',round(G_dBi,3),'dBi'"
   ]
  }
 ],
 "metadata": {
  "kernelspec": {
   "display_name": "Python 2",
   "language": "python",
   "name": "python2"
  },
  "language_info": {
   "codemirror_mode": {
    "name": "ipython",
    "version": 2
   },
   "file_extension": ".py",
   "mimetype": "text/x-python",
   "name": "python",
   "nbconvert_exporter": "python",
   "pygments_lexer": "ipython2",
   "version": "2.7.11"
  }
 },
 "nbformat": 4,
 "nbformat_minor": 0
}
