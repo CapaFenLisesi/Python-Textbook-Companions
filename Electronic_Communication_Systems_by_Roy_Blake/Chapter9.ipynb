{
 "cells": [
  {
   "cell_type": "markdown",
   "metadata": {},
   "source": [
    "# Chapter 9 : Data Transmission"
   ]
  },
  {
   "cell_type": "markdown",
   "metadata": {},
   "source": [
    "## Example 2 : pg 349"
   ]
  },
  {
   "cell_type": "code",
   "execution_count": 1,
   "metadata": {
    "collapsed": false
   },
   "outputs": [
    {
     "name": "stdout",
     "output_type": "stream",
     "text": [
      "The efficiency is 70.0 %\n"
     ]
    }
   ],
   "source": [
    " \n",
    "# page no 349\n",
    "# prob no 9.2\n",
    "#calculate the efficiency\n",
    "#given\n",
    "Nd=7; N_start=1; N_stop=1.; N_parity=1;\n",
    "#calculations\n",
    "Nt= Nd + N_start+ N_stop + N_parity;\n",
    "efficiency=Nd/Nt *100;\n",
    "#results\n",
    "print 'The efficiency is',efficiency,'%'"
   ]
  },
  {
   "cell_type": "markdown",
   "metadata": {},
   "source": [
    "## Example 6 : pg 358"
   ]
  },
  {
   "cell_type": "code",
   "execution_count": 2,
   "metadata": {
    "collapsed": false
   },
   "outputs": [
    {
     "name": "stdout",
     "output_type": "stream",
     "text": [
      "5 hammming bits are required\n"
     ]
    }
   ],
   "source": [
    " \n",
    "# page no 358\n",
    "# prob no 9.6\n",
    "#calculate the no. of hamming bits\n",
    "#given\n",
    "m=21.;\n",
    "#calculations and results\n",
    "# The correct number of check bits is the smallest number that satisfy the equation 2**n  >= m+n+1;\n",
    "for n in range (1,10): # we choose range of 1 to 10\n",
    "    a=m+n+1;\n",
    "    b=2**n;\n",
    "    if(b>=a):\n",
    "        print n,'hammming bits are required'\n",
    "        break;\n",
    "    "
   ]
  }
 ],
 "metadata": {
  "kernelspec": {
   "display_name": "Python 2",
   "language": "python",
   "name": "python2"
  },
  "language_info": {
   "codemirror_mode": {
    "name": "ipython",
    "version": 2
   },
   "file_extension": ".py",
   "mimetype": "text/x-python",
   "name": "python",
   "nbconvert_exporter": "python",
   "pygments_lexer": "ipython2",
   "version": "2.7.11"
  }
 },
 "nbformat": 4,
 "nbformat_minor": 0
}
