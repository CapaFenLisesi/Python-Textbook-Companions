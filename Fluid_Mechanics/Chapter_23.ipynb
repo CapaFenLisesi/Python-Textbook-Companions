{
 "metadata": {
  "name": "",
  "signature": "sha256:109f899855f47f57b7b8d73d8df4dd5290683ba03d6e02690f896cfaa5c8d9e2"
 },
 "nbformat": 3,
 "nbformat_minor": 0,
 "worksheets": [
  {
   "cells": [
    {
     "cell_type": "heading",
     "level": 1,
     "metadata": {},
     "source": [
      "Chapter 23: Performance of Rotodynamic Machines"
     ]
    },
    {
     "cell_type": "heading",
     "level": 2,
     "metadata": {},
     "source": [
      "Example 23.1, Page 814"
     ]
    },
    {
     "cell_type": "code",
     "collapsed": false,
     "input": [
      "from __future__ import division\n",
      "import math\n",
      "from pylab import *\n",
      "%pylab inline\n",
      "\n",
      " #Initializing  the  variables\n",
      "Q  =  []\n",
      "for c in range(9):\n",
      "    Q.append(7*c)\n",
      "H  =  [40, 40.6, 40.4, 39.3, 38, 33.6, 25.6, 14.5, 0];\n",
      "n  =  [0, 41, 60, 74, 83, 83, 74, 51, 0];\n",
      "N1  =  750;\n",
      "N2  =  1450;\n",
      "D1  =  0.5;\n",
      "D2  =  0.35;\n",
      "\n",
      " #Calculations\n",
      "Q2=[]\n",
      "H2=[]\n",
      "for c in range(9):\n",
      "    Q2.append(Q[c]*(N2/N1)*(D2/D1)**3);\n",
      "    H2.append(H[c]*(N2/N1)**2*(D2/D1)**2);\n",
      "   \n",
      "plot(Q,H,label='H1')\n",
      "plot(Q,n,label='n1')\n",
      "plot(Q2,H2,'--',label='H2')\n",
      "plot(Q2,n,'--',label='n2')\n",
      "legend( loc='upper right', numpoints = 1 )\n",
      "xlabel(\"Q  (m3/s)\");\n",
      "ylabel(\"H (m of water) and n(percent)\")\n",
      "grid(True)\n",
      "show()"
     ],
     "language": "python",
     "metadata": {},
     "outputs": [
      {
       "output_type": "stream",
       "stream": "stdout",
       "text": [
        "Populating the interactive namespace from numpy and matplotlib\n"
       ]
      },
      {
       "output_type": "stream",
       "stream": "stderr",
       "text": [
        "WARNING: pylab import has clobbered these variables: ['linalg', 'draw_if_interactive', 'random', 'power', 'info', 'fft']\n",
        "`%pylab --no-import-all` prevents importing * from pylab and numpy\n"
       ]
      },
      {
       "metadata": {},
       "output_type": "display_data",
       "png": "[encoded data removed]",
       "text": [
        "<matplotlib.figure.Figure at 0x2dc9f90>"
       ]
      }
     ],
     "prompt_number": 2
    },
    {
     "cell_type": "heading",
     "level": 2,
     "metadata": {},
     "source": [
      "Example 23.2, Page 831"
     ]
    },
    {
     "cell_type": "code",
     "collapsed": false,
     "input": [
      "from __future__ import division\n",
      "import math\n",
      "\n",
      "\n",
      " #Initializing  the  variables\n",
      "n  =  0.9;\n",
      "g  =  9.81;\n",
      "D  =  1.45;\n",
      "N  =  375/60;\n",
      "H  =  200;                                                                #  Real  height\n",
      "x  =  165;                                                                #  Theta\n",
      "P  =  3750*10**3;\n",
      "rho  =  1000;\n",
      "\n",
      " #Calculations\n",
      "h  =  n*H;                                                                #Effective  Head\n",
      "v1  =  (2*g*h)**0.5;\n",
      "u  =  math.pi*D*N;\n",
      "\n",
      "n_a  =  (2*u/v1**2)*(v1-u)*(1-n*math.cos(math.radians(x)));\n",
      "\n",
      "P_b  =  P/n_a;\n",
      "ppj  =  P_b/2;                                                        #  Power  per  jet\n",
      "d  =  (8*ppj/(rho*math.pi*v1**3))**0.5  ;\n",
      "print \"the efficiency of runner :\",round(n_a,3)\n",
      "print \"Diameter of Jet (m)      :\",round(d,3)"
     ],
     "language": "python",
     "metadata": {},
     "outputs": [
      {
       "output_type": "stream",
       "stream": "stdout",
       "text": [
        "the efficiency of runner : 0.933\n",
        "Diameter of Jet (m)      : 0.156\n"
       ]
      }
     ],
     "prompt_number": 2
    },
    {
     "cell_type": "heading",
     "level": 2,
     "metadata": {},
     "source": [
      "Example 23.3, Page 834"
     ]
    },
    {
     "cell_type": "code",
     "collapsed": false,
     "input": [
      "from __future__ import division\n",
      "import math\n",
      "                                     #Example  23.3  \n",
      "\n",
      " #Initializing  the  variables\n",
      "g  =  9.81;\n",
      "H  =  12;\n",
      "n  =  0.8;\n",
      "w  =  300*2*math.pi/60;\n",
      "Q  =  0.28;\n",
      "\n",
      " #Calculations\n",
      "V_f1  =  0.15*(2*g*H)**0.5;\n",
      "V_f2  =V_f1;\n",
      "V_w1  =  (n*g*H)**0.5;\n",
      "u1  =  V_w1;\n",
      "theta  =  math.atan(V_f1/u1);\n",
      "u2  =0.5*u1;\n",
      "B2  =  math.atan(V_f2/u2);\n",
      "r1  =  u1/w;\n",
      "b1  =  Q/(V_f2*0.9*2*math.pi*r1);                          #  vanes  occupy  10  per  cent  of  the  circumference  hence  0.9\n",
      "b2  =  2*b1;\n",
      "\n",
      "print \"Guide vane angle    (degree)  :\",round(theta*180/math.pi,2)\n",
      "print \"Vane angle at exit  (degree)  :\",round(B2*180/math.pi,2)\n",
      "print \"Width of runner at inlet (mm) :\",round(b1*1000,1) \n",
      "print \"Width of runner at exit  (mm) :\",round(b2*1000,1)"
     ],
     "language": "python",
     "metadata": {},
     "outputs": [
      {
       "output_type": "stream",
       "stream": "stdout",
       "text": [
        "Guide vane angle    (degree)  : 13.34\n",
        "Vane angle at exit  (degree)  : 25.38\n",
        "Width of runner at inlet (mm) : 69.6\n",
        "Width of runner at exit  (mm) : 139.3\n"
       ]
      }
     ],
     "prompt_number": 3
    },
    {
     "cell_type": "heading",
     "level": 2,
     "metadata": {},
     "source": [
      "Example 23.4, Page 838"
     ]
    },
    {
     "cell_type": "code",
     "collapsed": false,
     "input": [
      "from __future__ import division\n",
      "import math\n",
      "import sympy\n",
      "from sympy import solve,symbols\n",
      "\n",
      " #Initializing  the  variables\n",
      "H  =  35;\n",
      "g  =  9.81;\n",
      "D  =  2;\n",
      "N  =  145/60;\n",
      "z  =  30*math.pi/180;                          #  angle  between  vanes  and  direction  of  runner  rotation\n",
      "y  =  28*math.pi/180;                          #  angle  between  runner  blades  at  the  outlet.\n",
      "\n",
      " #Calculations\n",
      "H_net  =  0.93*H  ;                            #  since  7%  head  is  lost\n",
      "v1  =  (2*g*H_net)**0.5;\n",
      "u  =  math.pi*N*D;\n",
      "\n",
      " # from inlet velocity triangle\n",
      "V_r1=14.3\n",
      "## ash = cos(beta1+z)\n",
      "ash = (V_r1**2+v1**2-u**2)/(2*V_r1*v1)\n",
      "beta1=(z+math.acos(ash))*180/math.pi  # in degrees\n",
      "\n",
      "V_r2=(1-8/100)*V_r1         #8 % loss due to friction\n",
      "V_w1= u + V_r1*math.cos(math.radians(beta1))\n",
      "V_w2= u - V_r2*math.cos(y)\n",
      "\n",
      "E  =  (u/g)*(V_w1  -  V_w2);\n",
      "n  =  E/H;\n",
      "print \"Blade angle at inlet :\",round(beta1,1)\n",
      "print \"Efficiency    (%)    :\",round(n*100)"
     ],
     "language": "python",
     "metadata": {},
     "outputs": [
      {
       "output_type": "stream",
       "stream": "stdout",
       "text": [
        "Blade angle at inlet : 62.1\n",
        "Efficiency    (%)    : 81.0\n"
       ]
      }
     ],
     "prompt_number": 3
    },
    {
     "cell_type": "heading",
     "level": 2,
     "metadata": {},
     "source": [
      "Example 23.5, Page 844"
     ]
    },
    {
     "cell_type": "code",
     "collapsed": false,
     "input": [
      "from __future__ import division\n",
      "import math\n",
      "\n",
      "\n",
      " #Initializing  the  variables\n",
      "s  =  0.03;\n",
      "P  =  185*10**3;\n",
      "rho  =  0.86*10**3;\n",
      "A  =  2.8*10**-2;\n",
      "N  =  2250/60;\n",
      "D  =  0.46;\n",
      "\n",
      " #Calculations\n",
      "R0  =  0.46/2;\n",
      "Ws_Wp  =  1-s;\n",
      "n  =  Ws_Wp;\n",
      "Pf  =  s*P;\n",
      "Q  =  (2*Pf*A**2/(3.5*rho))**(1/3);\n",
      "Wp  =  2*math.pi*N;  \n",
      "Ri  =  ((1/Ws_Wp)*(R0**2  -P/(rho*Q*Wp**2)))**0.5;#  Modified  equation  for  power  transmission.\n",
      "Di  =  2*Ri;\n",
      "T  =  P/(rho*Wp**3  *D**5);\n",
      "   \n",
      "print \"Mean diameter (mm) :\",round(Di*1000)\n",
      "print \"Torque Coefficient :\",round(T,4)"
     ],
     "language": "python",
     "metadata": {},
     "outputs": [
      {
       "output_type": "stream",
       "stream": "stdout",
       "text": [
        "Mean diameter (mm) : 326.0\n",
        "Torque Coefficient : 0.0008\n"
       ]
      }
     ],
     "prompt_number": 5
    }
   ],
   "metadata": {}
  }
 ]
}