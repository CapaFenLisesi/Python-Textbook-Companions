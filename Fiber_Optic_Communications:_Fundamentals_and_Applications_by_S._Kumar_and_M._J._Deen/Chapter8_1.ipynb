{
 "cells": [
  {
   "cell_type": "markdown",
   "metadata": {},
   "source": [
    "# Chapter 08:Performance Analysis"
   ]
  },
  {
   "cell_type": "markdown",
   "metadata": {},
   "source": [
    "## Ex8.1:pg-354"
   ]
  },
  {
   "cell_type": "code",
   "execution_count": 1,
   "metadata": {
    "collapsed": false
   },
   "outputs": [
    {
     "name": "stdout",
     "output_type": "stream",
     "text": [
      "\n",
      " For a balanced homodyne receiver with PSK signal =  4.91  X 10**-9 \n",
      "\n",
      " For a balanced homodyne receiver with PSK signal If the signal is OOK, =  2.07  X 10**-3\n",
      "\n",
      " For a balanced heterodyne receiver with PSK signal =  4.952  X 10**-9\n",
      "\n",
      " For a balanced heterodyne receiver with PSK signal If the signal is OOK,=  2.08  X 10**-3\n"
     ]
    }
   ],
   "source": [
    "# Example 8.1 \n",
    "# Compuatation of error probability if the receiver is (a) a balanced homodyne or (b) a balanced heterodyne\n",
    "# Page no. 354\n",
    "\n",
    "import math\n",
    "\n",
    "# Given data\n",
    "Po=5.0;                  # Lunch peak power\n",
    "fl=50.0;                 # Fiber loss\n",
    "G=30.0;                  # Preamplifier Gain \n",
    "f=10*10.0**9;\n",
    "n=1.5;\n",
    "h=6.63*10**-34;         # Planck constant\n",
    "c=3*10**8.0;              # Velocity of light\n",
    "lambdaa=1550.0*10**-9;\n",
    "q=1.6*10**-19;           # Electron charge\n",
    "R=0.9;\n",
    "\n",
    "# Signal calculation\n",
    "Pr=Po-fl+G;\n",
    "Pr=10**(Pr/10)*10**-3;\n",
    "\n",
    "Tb=1/(f);\n",
    "E=Pr*Tb;\n",
    "f1=c/lambdaa;\n",
    "G=10**(G/10);\n",
    "r=n*h*f1*(G-1);\n",
    "#rs=q*I;\n",
    "N=r+(q/(2*R));\n",
    "Nh=r/2+(q/(2*R));\n",
    "\n",
    "# Error probability\n",
    "# (a) For a balanced homodyne receiver with PSK signal\n",
    "Ps=1/2.0*math.erfc(math.sqrt(E/N));\n",
    "E1=E/2;\n",
    "# If the signal is OOK\n",
    "Pso=1/2.0*math.erfc(math.sqrt(E1/(2*N)));\n",
    "\n",
    "#(b) For a balanced heterodyne receiver with PSK signal\n",
    "Pb=1/2.0*math.erfc(math.sqrt(E/(2*Nh)));\n",
    "#E1=E/2;\n",
    "# If the signal is OOK\n",
    "Pbo=1/2.0*math.erfc(math.sqrt(E1/(4*Nh)));\n",
    "\n",
    "#Displaying the result in command window\n",
    "print \"\\n For a balanced homodyne receiver with PSK signal = \",round(Ps*10**9,2),\" X 10**-9 \"\n",
    "\n",
    "print \"\\n For a balanced homodyne receiver with PSK signal If the signal is OOK, = \",round(Pso*10**3,2),\" X 10**-3\"\n",
    "print \"\\n For a balanced heterodyne receiver with PSK signal = \",round(Pb*10**9,3),\" X 10**-9\"\n",
    "print \"\\n For a balanced heterodyne receiver with PSK signal If the signal is OOK,= \",round(Pbo*10**3,2),\" X 10**-3\"\n",
    "\n",
    "# The answer vary due to round off error\n",
    "\n",
    "\n"
   ]
  },
  {
   "cell_type": "markdown",
   "metadata": {},
   "source": [
    "## Ex8.3:pg-394"
   ]
  },
  {
   "cell_type": "code",
   "execution_count": 2,
   "metadata": {
    "collapsed": false
   },
   "outputs": [
    {
     "name": "stdout",
     "output_type": "stream",
     "text": [
      "\n",
      " The maximum transmission distance =  37050.07  km\n"
     ]
    }
   ],
   "source": [
    "# Example 8.3\n",
    "# Calculation of the maximum transmission distance.\n",
    "# Page no 394\n",
    "\n",
    "\n",
    "import math\n",
    "\n",
    "#Given data\n",
    "p=3.0;                                  # Peak power\n",
    "tb=40.0*10**9;                           # Bit rate\n",
    "c=3.0*10**8;                            # Velocity of light\n",
    "lambdaa=1550.0*10**-9;                   # Operating frequency\n",
    "l=0.2;                               # Loss\n",
    "d=80;                                # Distance\n",
    "G=16                                # Gain\n",
    "h=6.626*10**-34                      # Planck constant\n",
    "n=1.0;\n",
    "pb=10.0**-5;                           # Error probability\n",
    "l1=80*10**3;                         # N spans\n",
    "\n",
    "\n",
    "# The maximum transmission distance\n",
    "\n",
    "p=p+10*math.log10(1/2.0);\n",
    "p=10**(p/10.0)*10**-3;\n",
    "t=1/(tb);\n",
    "E=p*t;\n",
    "f=c/lambdaa;\n",
    "fl=l*d;\n",
    "G=10**(G/10.0);\n",
    "r=n*h*f*(G-1);   # Calculation is wrong in book.\n",
    "#pb=1/2*(exp(-(E/r)));\n",
    "N=-(E/(math.log(2*pb)*r));\n",
    "\n",
    "L=N*l1;\n",
    "\n",
    "# Displaying results in the command window            \n",
    "print \"\\n The maximum transmission distance = \",round(L*10**-3,2),\" km\"\n",
    "\n",
    "# In the book PSD per amplifier calcualation is wrong, therefore final answer is wrong.\n"
   ]
  },
  {
   "cell_type": "markdown",
   "metadata": {},
   "source": [
    "## Ex8.6:pg-384"
   ]
  },
  {
   "cell_type": "code",
   "execution_count": 22,
   "metadata": {
    "collapsed": false
   },
   "outputs": [
    {
     "name": "stdout",
     "output_type": "stream",
     "text": [
      "\n",
      " For a balanced homodyne receiver with PSK signal = 18.0\n",
      "\n",
      " For a balanced heterodyne receiver with PSK signal =  36.0\n"
     ]
    }
   ],
   "source": [
    "# Example 8.6\n",
    "# To find the mean number of signal photons required in a shot noise-limited coherent communication system based on OOK for the following cases: (i) balanced homodyne receiver; (ii)balanced heterodyne receiver (a) a balanced homodyne or (b) a balanced heterodyne\n",
    "# Page no. 384\n",
    "\n",
    "import math\n",
    "from scipy.special import erfinv\n",
    "\n",
    "# Given data\n",
    "Pb=1*10**-9;                                         #Error probability\n",
    "neta=1;                                          #quantum efficiency\n",
    "\n",
    "#a)for balanced homodyne receiver\n",
    "Ns=(erfinv(1-(2*neta*Pb)))**2;\n",
    "\n",
    "#(b)for balanced heterodyne receiver\n",
    "Ns1=(erfinv(1-(2*neta*Pb))*math.sqrt(2))**2;\n",
    "\n",
    "#Displaying the result in command window\n",
    "print \"\\n For a balanced homodyne receiver with PSK signal =\",round(Ns)\n",
    "print \"\\n For a balanced heterodyne receiver with PSK signal = \",round(Ns1)\n"
   ]
  }
 ],
 "metadata": {
  "kernelspec": {
   "display_name": "Python 2",
   "language": "python",
   "name": "python2"
  },
  "language_info": {
   "codemirror_mode": {
    "name": "ipython",
    "version": 2
   },
   "file_extension": ".py",
   "mimetype": "text/x-python",
   "name": "python",
   "nbconvert_exporter": "python",
   "pygments_lexer": "ipython2",
   "version": "2.7.11"
  }
 },
 "nbformat": 4,
 "nbformat_minor": 0
}
