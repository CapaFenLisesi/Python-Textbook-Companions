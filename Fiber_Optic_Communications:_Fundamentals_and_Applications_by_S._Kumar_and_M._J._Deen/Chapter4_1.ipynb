{
 "cells": [
  {
   "cell_type": "markdown",
   "metadata": {},
   "source": [
    "# Chapter 04:Optical Modulators and Modulation Schemes"
   ]
  },
  {
   "cell_type": "markdown",
   "metadata": {},
   "source": [
    "## Ex4.2:pg-152"
   ]
  },
  {
   "cell_type": "code",
   "execution_count": 1,
   "metadata": {
    "collapsed": false
   },
   "outputs": [
    {
     "name": "stdout",
     "output_type": "stream",
     "text": [
      "\n",
      " The voltage required to introduce a phase shift of pi/2 =  0.48  V\n"
     ]
    }
   ],
   "source": [
    "# Example no.4.2\n",
    "# To calculate the voltage required to introduce a phase shift of pi/2.\n",
    "# Page no.152\n",
    "\n",
    "import math\n",
    "\n",
    "\n",
    "# Given data\n",
    "lambda0=1530*10**-9;                                  # An electro-optic modulator operating wavelength\n",
    "d=10*10**-6;                                          # Thickness\n",
    "L=5*10**-2;                                           # Length\n",
    "n0=2.2;                                              # Refractive index\n",
    "r33=30*10**-12;                                       # Pockel coefficient in m/V\n",
    "deltaphi=math.pi/2;                                      # Phase shift\n",
    "V=(deltaphi*lambda0*d)/(math.pi*L*n0**3*r33);             # The voltage required to introduce a phase shift of pi/2\n",
    "\n",
    "#Displaying the result in command window\n",
    "print \"\\n The voltage required to introduce a phase shift of pi/2 = \",round(V,2),\" V\"\n"
   ]
  }
 ],
 "metadata": {
  "kernelspec": {
   "display_name": "Python 2",
   "language": "python",
   "name": "python2"
  },
  "language_info": {
   "codemirror_mode": {
    "name": "ipython",
    "version": 2
   },
   "file_extension": ".py",
   "mimetype": "text/x-python",
   "name": "python",
   "nbconvert_exporter": "python",
   "pygments_lexer": "ipython2",
   "version": "2.7.11"
  }
 },
 "nbformat": 4,
 "nbformat_minor": 0
}
