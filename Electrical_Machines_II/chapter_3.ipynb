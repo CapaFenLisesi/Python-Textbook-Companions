{
 "metadata": {
  "name": "",
  "signature": "sha256:d44762913f69b2b88f8f79d544b4c89ac298c3f68155a24b93b531ef54634cd3"
 },
 "nbformat": 3,
 "nbformat_minor": 0,
 "worksheets": [
  {
   "cells": [
    {
     "cell_type": "heading",
     "level": 1,
     "metadata": {},
     "source": [
      "Chapter 3: Fractional K.W. \n",
      "(FKW) Motors"
     ]
    },
    {
     "cell_type": "heading",
     "level": 2,
     "metadata": {},
     "source": [
      "Example 3.1, Page 242"
     ]
    },
    {
     "cell_type": "code",
     "collapsed": false,
     "input": [
      "from math import *\n",
      "from cmath import *\n",
      "\n",
      "#Given data :\n",
      "Za=complex(3,3);#in ohm\n",
      "Zm=complex(6,3);#in ohm\n",
      "\n",
      "#Calculations\n",
      "#Phase difference 90 degree : so angle between Im and  V is 90-45 degree\n",
      "theta=90-45;#in degree\n",
      "f=50;#in Hz\n",
      "#Formula : tand(theta)=(Xc-Xl)/R\n",
      "Xl=3;#in ohm and Xc=1/(2*%pi*C)\n",
      "R=6;#in ohm\n",
      "C=1./(2*pi*f*(tan(theta*pi/180)*R+Xl));\n",
      "\n",
      "#Result\n",
      "print \"Capacitance(in micro Farad) :\",(C*10**6);"
     ],
     "language": "python",
     "metadata": {},
     "outputs": [
      {
       "output_type": "stream",
       "stream": "stdout",
       "text": [
        "Capacitance(in micro Farad) : (353.677651315+0j)\n"
       ]
      }
     ],
     "prompt_number": 7
    }
   ],
   "metadata": {}
  }
 ]
}