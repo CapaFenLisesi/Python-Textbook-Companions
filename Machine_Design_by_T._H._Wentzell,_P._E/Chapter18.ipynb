{
 "metadata": {
  "name": "",
  "signature": "sha256:8dde649649bb6a0c533ebc9f59be7287570620e70df87a9ce06f703968655982"
 },
 "nbformat": 3,
 "nbformat_minor": 0,
 "worksheets": [
  {
   "cells": [
    {
     "cell_type": "heading",
     "level": 1,
     "metadata": {},
     "source": [
      "Chapter18-Power Screws and Ball Screws "
     ]
    },
    {
     "cell_type": "heading",
     "level": 2,
     "metadata": {},
     "source": [
      "Ex1-pg399"
     ]
    },
    {
     "cell_type": "code",
     "collapsed": false,
     "input": [
      "import math\n",
      "\n",
      "print('MACHINE DESIGN \\n Timothy H. Wentzell, P.E. \\n EXAMPLE-18.1 Page No.399\\n');\n",
      "\n",
      "##Torque\n",
      "Dp=(1.5+1.208)/2.;\n",
      "F=5800.;\n",
      "L=1/3.;\n",
      "f=0.15;\n",
      "\n",
      "Tup=(F*Dp/4.)*(L+math.pi*f*Dp)/(math.pi*Dp-f*L);\n",
      "\n",
      "print'%s %.2f %s '%('\\n Torque up = ',Tup,' in-lb.');\n"
     ],
     "language": "python",
     "metadata": {},
     "outputs": [
      {
       "output_type": "stream",
       "stream": "stdout",
       "text": [
        "MACHINE DESIGN \n",
        " Timothy H. Wentzell, P.E. \n",
        " EXAMPLE-18.1 Page No.399\n",
        "\n",
        "\n",
        " Torque up =  453.68  in-lb. \n"
       ]
      }
     ],
     "prompt_number": 1
    },
    {
     "cell_type": "heading",
     "level": 2,
     "metadata": {},
     "source": [
      "Ex2-pg400"
     ]
    },
    {
     "cell_type": "code",
     "collapsed": false,
     "input": [
      "import math\n",
      " \n",
      "print('MACHINE DESIGN \\n Timothy H. Wentzell, P.E. \\n EXAMPLE-18.2 Page No.400\\n');\n",
      "\n",
      "##Lead angle\n",
      "L=1/3.;\n",
      "Dp=1.354;\n",
      "LA=math.atan(L/(math.pi*Dp));\n",
      "\n",
      "print'%s %.2f %s '%('\\n Lead angle = ',LA*180/math.pi,'deg');\n",
      "\n",
      "##Efficiency\n",
      "f=0.15;\n",
      "e=math.tan(LA)*(1-f*math.tan(LA))/(math.tan(LA)+f);\n",
      "\n",
      "print'%s %.2f %s '%('\\n Efficiency = ',e*100,'');\n",
      "\n",
      "##Power\n",
      "n=175.;\n",
      "T=454.;\n",
      "P=T*n/63000.;\n",
      "Pt=P*2.;\n",
      "\n",
      "print'%s %.2f %s '%('\\n Power = ',P,' hp per lead screw.');\n",
      "\n",
      "if f>math.tan(LA):\n",
      "    print('\\n It is self-locking');\n",
      "\n"
     ],
     "language": "python",
     "metadata": {},
     "outputs": [
      {
       "output_type": "stream",
       "stream": "stdout",
       "text": [
        "MACHINE DESIGN \n",
        " Timothy H. Wentzell, P.E. \n",
        " EXAMPLE-18.2 Page No.400\n",
        "\n",
        "\n",
        " Lead angle =  4.48 deg \n",
        "\n",
        " Efficiency =  33.91  \n",
        "\n",
        " Power =  1.26  hp per lead screw. \n",
        "\n",
        " It is self-locking\n"
       ]
      }
     ],
     "prompt_number": 2
    },
    {
     "cell_type": "heading",
     "level": 2,
     "metadata": {},
     "source": [
      "Ex3-pg402"
     ]
    },
    {
     "cell_type": "code",
     "collapsed": false,
     "input": [
      "import math\n",
      "\n",
      "print('MACHINE DESIGN \\n Timothy H. Wentzell, P.E. \\n EXAMPLE-18.3 Page No.402\\n');\n",
      "L=1/4.;\n",
      "\n",
      "Dp=1.375;\n",
      "LA=math.atan(L/(math.pi*Dp));\n",
      "\n",
      "print'%s %.2f %s '%('\\n Lead angle =  .',LA*180./math.pi,'deg');\n",
      "\n",
      "##Torque\n",
      "phi=14.5*math.pi/180.;\n",
      "f=0.15;\n",
      "F=5800.;\n",
      "Tup=(F*Dp/4.)*(math.cos(phi)*math.tan(LA)+f)/(math.cos(phi)-f*math.tan(LA));\n",
      "\n",
      "print'%s %.2f %s '%('\\n Torque = ',Tup,' in-lb.');\n",
      "\n",
      "##Power\n",
      "n=175.*4./3.;\n",
      "P=Tup*n/63000.;\n",
      "\n",
      "print'%s %.2f %s '%('\\n Power = ',P,' hp per lead screw.')\n"
     ],
     "language": "python",
     "metadata": {},
     "outputs": [
      {
       "output_type": "stream",
       "stream": "stdout",
       "text": [
        "MACHINE DESIGN \n",
        " Timothy H. Wentzell, P.E. \n",
        " EXAMPLE-18.3 Page No.402\n",
        "\n",
        "\n",
        " Lead angle =  . 3.31 deg \n",
        "\n",
        " Torque =  428.13  in-lb. \n",
        "\n",
        " Power =  1.59  hp per lead screw. \n"
       ]
      }
     ],
     "prompt_number": 3
    },
    {
     "cell_type": "heading",
     "level": 2,
     "metadata": {},
     "source": [
      "Ex4-pg405"
     ]
    },
    {
     "cell_type": "code",
     "collapsed": false,
     "input": [
      "import math\n",
      " \n",
      "print('MACHINE DESIGN \\n Timothy H. Wentzell, P.E. \\n EXAMPLE-18.4 Page No.405\\n');\n",
      "\n",
      "##Torque\n",
      "L=0.5;\n",
      "F=5800./2.;\n",
      "T=0.177*F*L;\n",
      "\n",
      "print'%s %.2f %s '%('\\n Torque = ',T,' in-lb.');\n",
      "\n",
      "##Power\n",
      "n=175.*2./3.;\n",
      "P=T*n/63000.;\n",
      "\n",
      "print'%s %.2f %s '%('\\n Power = ',P,' hp.');\n"
     ],
     "language": "python",
     "metadata": {},
     "outputs": [
      {
       "output_type": "stream",
       "stream": "stdout",
       "text": [
        "MACHINE DESIGN \n",
        " Timothy H. Wentzell, P.E. \n",
        " EXAMPLE-18.4 Page No.405\n",
        "\n",
        "\n",
        " Torque =  256.65  in-lb. \n",
        "\n",
        " Power =  0.48  hp. \n"
       ]
      }
     ],
     "prompt_number": 4
    }
   ],
   "metadata": {}
  }
 ]
}