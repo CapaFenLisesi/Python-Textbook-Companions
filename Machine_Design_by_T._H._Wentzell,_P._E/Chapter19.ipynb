{
 "metadata": {
  "name": "",
  "signature": "sha256:dff10b5eef3c8a9f5e306bcbad24a13a48880bc8597ec40606c4f5e39becb7ba"
 },
 "nbformat": 3,
 "nbformat_minor": 0,
 "worksheets": [
  {
   "cells": [
    {
     "cell_type": "heading",
     "level": 1,
     "metadata": {},
     "source": [
      "Chapter19-Plain Surface Bearings"
     ]
    },
    {
     "cell_type": "heading",
     "level": 2,
     "metadata": {},
     "source": [
      "Ex1-pg417"
     ]
    },
    {
     "cell_type": "code",
     "collapsed": false,
     "input": [
      "import math\n",
      "\n",
      "print('MACHINE DESIGN \\n Timothy H. Wentzell, P.E. \\n EXAMPLE-19.1 Page No.417\\n');\n",
      "\n",
      "##Length\n",
      "F=20.;\n",
      "n=500.;\n",
      "PV=3000.;\n",
      "L1=math.pi*F*n/(12.*PV);\n",
      "\n",
      "##Use 7/8-inch or longer bearing\n",
      "\n",
      "L=7./8.;\n",
      "\n",
      "print'%s %.2f %s '%('\\n Length of bearing = ',L,' in.');\n",
      "\n",
      "##Maximum pressure\n",
      "A=(3./4.)*(7./8.);\n",
      "P=F/A;\n",
      "\n",
      "print'%s %.2f %s '%('\\n Maximum pressure = ',P,' lb/in^2.');\n",
      "\n",
      "##Maximum velocity\n",
      "D=3/4.;\n",
      "V=math.pi*D*n/12.;\n",
      "\n",
      "print'%s %.2f %s '%('\\n Maximum velocity = ',V,' ft/min.');\n"
     ],
     "language": "python",
     "metadata": {},
     "outputs": [
      {
       "output_type": "stream",
       "stream": "stdout",
       "text": [
        "MACHINE DESIGN \n",
        " Timothy H. Wentzell, P.E. \n",
        " EXAMPLE-19.1 Page No.417\n",
        "\n",
        "\n",
        " Length of bearing =  0.88  in. \n",
        "\n",
        " Maximum pressure =  30.48  lb/in^2. \n",
        "\n",
        " Maximum velocity =  98.17  ft/min. \n"
       ]
      }
     ],
     "prompt_number": 1
    },
    {
     "cell_type": "heading",
     "level": 2,
     "metadata": {},
     "source": [
      "Ex2-pg421"
     ]
    },
    {
     "cell_type": "code",
     "collapsed": false,
     "input": [
      "import math\n",
      "\n",
      "print('MACHINE DESIGN \\n Timothy H. Wentzell, P.E. \\n EXAMPLE-19.2 Page No.421\\n');\n",
      "\n",
      "##Life in hours of operation\n",
      "t=0.01;\n",
      "K=12*10**-10;\n",
      "P=30.5;\n",
      "V=98.;\n",
      "T=t/(K*P*V);\n",
      "\n",
      "print'%s %.2f %s '%('\\n Life = ',T,' hours.');\n",
      "\n",
      "##Note-There is an error in the answer given in textbook\n"
     ],
     "language": "python",
     "metadata": {},
     "outputs": [
      {
       "output_type": "stream",
       "stream": "stdout",
       "text": [
        "MACHINE DESIGN \n",
        " Timothy H. Wentzell, P.E. \n",
        " EXAMPLE-19.2 Page No.421\n",
        "\n",
        "\n",
        " Life =  2788.00  hours. \n"
       ]
      }
     ],
     "prompt_number": 2
    }
   ],
   "metadata": {}
  }
 ]
}