{
 "metadata": {
  "name": "",
  "signature": "sha256:9f59c6e7288ebefbd1514a29eca292526957ac452562d5554e64076a8e1d7c3c"
 },
 "nbformat": 3,
 "nbformat_minor": 0,
 "worksheets": [
  {
   "cells": [
    {
     "cell_type": "heading",
     "level": 1,
     "metadata": {},
     "source": [
      "Chapter10-Pneumatic and Hydraulic Drives"
     ]
    },
    {
     "cell_type": "heading",
     "level": 2,
     "metadata": {},
     "source": [
      "Ex1-pg195"
     ]
    },
    {
     "cell_type": "code",
     "collapsed": false,
     "input": [
      "import math\n",
      "\n",
      "print('MACHINE DESIGN \\n Timothy H. Wentzell, P.E. \\n EXAMPLE-10.1 Page No.195\\n');\n",
      "\n",
      "P=100.;                ##[lb/in^2] Hydraulic pressure\n",
      "F=450.;                ##[lb] Extension force\n",
      "Fr=400.;               ##[lb] Retraction force\n",
      "\n",
      "A=F/P;                ##[in^2] Cross section area\n",
      "D=math.sqrt(4.*A/math.pi);      ##[in] Bore of cylinder\n",
      "\n",
      "print'%s %.2f %s '%('\\n The bore of cylinder is ',D,' in.');\n",
      "\n",
      "##Use 2.5in bore cylinder\n",
      "\n",
      "Dm=2.5;               ##[in] Bore of cylinder\n",
      "Dr=1.;                 ##[in] Diameter of rod\n",
      "A2=math.pi*Dm**2/4.-math.pi*Dr**2/4.; ##[in^2]\n",
      "F2=P*A2;              ##[lb] Force\n",
      "\n",
      "if F2>=Fr:\n",
      "    print'%s %.2f %s '%('\\n The diameter of rod is ',Dr,' in.');\n",
      "else: \n",
      "    print'%s %.2f %s '%('\\n This would not meet requirement');\n",
      "\n",
      "\n",
      "##This would meet requirement\n",
      "\n",
      "Ab=math.pi*Dm**2/4.;        ##[in^2] Cross section area\n",
      "##Note-In the book V=180.7 is used instead of V=180.64158 \n",
      "d=20.;                ##[in] stroke\n",
      "V=Ab*d+A2*d;         ##[in^3] Volume per cycle\n",
      "t=2.;                 ##[s] Cycle time\n",
      "FR=V/t;              ##[in^3/s] Flowrate\n",
      "\n",
      "FR=FR*7.48*60/1728.;  ##[gal/min] Flowrate\n",
      "\n",
      "print'%s %.2f %s '%('\\n Flow rate required is ',FR,' gal/min.');\n"
     ],
     "language": "python",
     "metadata": {},
     "outputs": [
      {
       "output_type": "stream",
       "stream": "stdout",
       "text": [
        "MACHINE DESIGN \n",
        " Timothy H. Wentzell, P.E. \n",
        " EXAMPLE-10.1 Page No.195\n",
        "\n",
        "\n",
        " The bore of cylinder is  2.39  in. \n",
        "\n",
        " The diameter of rod is  1.00  in. \n",
        "\n",
        " Flow rate required is  23.46  gal/min. \n"
       ]
      }
     ],
     "prompt_number": 1
    },
    {
     "cell_type": "heading",
     "level": 2,
     "metadata": {},
     "source": [
      "Ex2-pg198"
     ]
    },
    {
     "cell_type": "code",
     "collapsed": false,
     "input": [
      "import math\n",
      "\n",
      "print('MACHINE DESIGN \\n Timothy H. Wentzell, P.E. \\n EXAMPLE-10.2 Page No.198\\n');\n",
      "\n",
      "Pa=100.;              ##[lb/in^2] Air pressure\n",
      "Da=4.;                ##[in] Diameter\n",
      "Aa=math.pi*Da**2/4.;       ##[in^2] Cross section area\n",
      "\n",
      "F1=Pa*Aa;            ##[lb] \n",
      "Do=1.;                ##[in] \n",
      "Ao=math.pi*Do**2/4.;       ##[in] \n",
      "Po=F1/Ao;            ##[lb/in^2]\n",
      "\n",
      "print'%s %.2f %s '%('\\n The oil pressure is ',Po,' lb/in^2.');\n",
      "\n",
      "D2o=3.;               ##[in]\n",
      "A2o=math.pi*D2o**2/4.;     ##[in^2]\n",
      "F2=Po*A2o;\n",
      "\n",
      "print'%s %.2f %s '%('\\n Force F on piston rod is ',F2,' lb.');\n",
      "\n",
      "D=1.;                 ##[in]\n",
      "d=4.;                 ##[in] \n",
      "A=math.pi*D**2/4.;         ##[in^2]\n",
      "\n",
      "V=A*d;               ##[in^3]\n",
      "\n",
      "print'%s %.2f %s '%('\\n The volume in 1-inch cylinder for the 4-inch travel is ',V,' in^3.');\n",
      "\n",
      "A3=math.pi*3**2/4.;        ##[in^2]\n",
      "l3=V/A3;             ##[in]\n",
      "\n",
      "print'%s %.2f %s '%('\\n Travel for 3-inch cylinder is ',l3,' in.');\n",
      "\n",
      "\n"
     ],
     "language": "python",
     "metadata": {},
     "outputs": [
      {
       "output_type": "stream",
       "stream": "stdout",
       "text": [
        "MACHINE DESIGN \n",
        " Timothy H. Wentzell, P.E. \n",
        " EXAMPLE-10.2 Page No.198\n",
        "\n",
        "\n",
        " The oil pressure is  1600.00  lb/in^2. \n",
        "\n",
        " Force F on piston rod is  11309.73  lb. \n",
        "\n",
        " The volume in 1-inch cylinder for the 4-inch travel is  3.14  in^3. \n",
        "\n",
        " Travel for 3-inch cylinder is  0.44  in. \n"
       ]
      }
     ],
     "prompt_number": 2
    }
   ],
   "metadata": {}
  }
 ]
}