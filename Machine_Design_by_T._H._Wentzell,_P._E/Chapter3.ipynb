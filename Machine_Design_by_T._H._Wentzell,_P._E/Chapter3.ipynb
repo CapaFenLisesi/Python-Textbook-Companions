{
 "metadata": {
  "name": "",
  "signature": "sha256:f403d0e3f3fed4dfd33d6fa27b6de2c70e4d2ced3f9a8c482cdf313e279df8a5"
 },
 "nbformat": 3,
 "nbformat_minor": 0,
 "worksheets": [
  {
   "cells": [
    {
     "cell_type": "heading",
     "level": 1,
     "metadata": {},
     "source": [
      "Chapter3-Stress and Deformation "
     ]
    },
    {
     "cell_type": "heading",
     "level": 2,
     "metadata": {},
     "source": [
      "Ex1-pg41"
     ]
    },
    {
     "cell_type": "code",
     "collapsed": false,
     "input": [
      "import math\n",
      "\n",
      "print('MACHINE DESIGN \\n Timothy H. Wentzell, P.E. \\n EXAMPLE-3.1   Page No-41 \\n');\n",
      "\n",
      "F=20000.;               ##[lb] Load applied to steel bar\n",
      "L=6.;                   ##[in] Length of steel bar\n",
      "d=1.;                   ##[in] Diameter of steel bar\n",
      "A=math.pi*(d**2)/4.;         ##[in^2] Area of cross section of steel bar\n",
      "E=30.*10**6;             ##[lb/in^2] Modulus of elasticity for AISI 1020 hot-rolled steel\n",
      "Sy=30000.;              ##[lb/in^2] Yield limit\n",
      "\n",
      "S=F/A;                 ##[lb/in^2] Stress in bar\n",
      "print'%s %.2f %s '%('\\na. Stress in bar=',S,' lb/in^2.');\n",
      "\n",
      "delta=F*L/(A*E);       ##[in] Change in length of bar\n",
      "print'%s %.2f %s '%('\\nb. bar shorten by ',delta,' in.');\n",
      "\n",
      "if Sy>S:\n",
      "    print'%s %.2f %s %.2f %s  '%('\\nc. The stress of ',S,' psi is less than Sy of ',Sy,' psi, so it will'and '\\n   return to its original size because the yield limit was not exceeded.');\n",
      "else: \n",
      "    print('The bar will not return to its original length')\n",
      "\n",
      "\n",
      "##Note: The deviation of answer from the answer given in the book is due to round off error.(In the book values are rounded while in scilab actual values are taken)\n"
     ],
     "language": "python",
     "metadata": {},
     "outputs": [
      {
       "output_type": "stream",
       "stream": "stdout",
       "text": [
        "MACHINE DESIGN \n",
        " Timothy H. Wentzell, P.E. \n",
        " EXAMPLE-3.1   Page No-41 \n",
        "\n",
        "\n",
        "a. Stress in bar= 25464.79  lb/in^2. \n",
        "\n",
        "b. bar shorten by  0.01  in. \n",
        "\n",
        "c. The stress of  25464.79  psi is less than Sy of  30000.00 \n",
        "   return to its original size because the yield limit was not exceeded.  \n"
       ]
      }
     ],
     "prompt_number": 1
    },
    {
     "cell_type": "heading",
     "level": 2,
     "metadata": {},
     "source": [
      "Ex2-pg43"
     ]
    },
    {
     "cell_type": "code",
     "collapsed": false,
     "input": [
      "import math\n",
      "\n",
      "print('MACHINE DESIGN \\n Timothy H. Wentzell, P.E. \\n EXAMPLE-3.2 Page No.43\\n');\n",
      "\n",
      "b=2.;                      ##[in] Width of beam\n",
      "h=2.;                      ##[in] Height of beam\n",
      "I=(b*h**3)/12.;             ##[in^4] Moment of inertia\n",
      "F=3000.;                   ##[lb] Load applied to beam\n",
      "L=36.;                     ##[in] Length of beam\n",
      "c=1.;                      ##[in] Distance of outer most fiber from neutral axis\n",
      "E=30*10**6;                ##[lb/in^2] Modulus of elasticity\n",
      "Sy=30000.;                 ##[lb/in^2] Yield strength\n",
      "Su=55000.;                 ##[lb/in^2] Ultimate strength\n",
      "SF=2.;                     ##[] Safety factor based on ultimate stress\n",
      "\n",
      "M=F*L/4.;                  ##[lb*in] Bending moment\n",
      "S=(M/I)*c;                ##[lb/in^2] Bending stress\n",
      "\n",
      "##Note-In the book I=1.33 in^4 is used instead of I=1.3333333 in^2\n",
      "\n",
      "print'%s %.2f %s '%('\\na. The maximum stress in beam is ',S,' lb/in^2');\n",
      "\n",
      "delta=-F*L**3/(48.*E*I);     ##[in] Maximum deflection in this beam\n",
      "\n",
      "print'%s %.2f %s '%('\\nb. The maximum deflection in this beam is ',delta,' in.');\n",
      "\n",
      "if Sy>S:\n",
      "    print'%s %.2f %s %.2f %s  '%('\\nc. Yes, the stress of ',S,' lb/in^2'and ' is less than the yield of Sy=',Sy,' lb/in^2.');\n",
      "else:\n",
      "    print'%s %.2f %s  %.2f %s '%('\\nc. No, the stress of ',S,' lb/in^2'and ' is greater than the yield of Sy=',Sy,' lb/in^2');\n",
      "\n",
      "Sall=Su/SF;                ##[lb/in^2] Allowable stress\n",
      "\n",
      "if Sall>S:\n",
      "    print'%s %.2f %s '%('\\nd. It is acceptable because allowable stress is greater than the acttual stress of ',S,' lb/in^2.');\n",
      "else:\n",
      "    print'%s %.2f %s '%('\\nd. Design is not acceptable because allowable stress is less than the actual stress of ',S,' lb/in^2.')\n",
      "\n",
      "##Note: The deviation of answer from the answer given in the book is due to round off error.(In the book values are rounded while in scilab actual values are taken)\n",
      "\n",
      "\n",
      "\n",
      "\n"
     ],
     "language": "python",
     "metadata": {},
     "outputs": [
      {
       "output_type": "stream",
       "stream": "stdout",
       "text": [
        "MACHINE DESIGN \n",
        " Timothy H. Wentzell, P.E. \n",
        " EXAMPLE-3.2 Page No.43\n",
        "\n",
        "\n",
        "a. The maximum stress in beam is  20250.00  lb/in^2 \n",
        "\n",
        "b. The maximum deflection in this beam is  -0.07  in. \n",
        "\n",
        "c. Yes, the stress of  20250.00  is less than the yield of Sy= 30000.00  lb/in^2.  \n",
        "\n",
        "d. It is acceptable because allowable stress is greater than the acttual stress of  20250.00  lb/in^2. \n"
       ]
      }
     ],
     "prompt_number": 2
    },
    {
     "cell_type": "heading",
     "level": 2,
     "metadata": {},
     "source": [
      "Ex3-pg45"
     ]
    },
    {
     "cell_type": "code",
     "collapsed": false,
     "input": [
      "import math\n",
      " \n",
      "print('MACHINE DESIGN \\n Timothy H. Wentzell, P.E. \\n EXAMPLE-3.3 Page No.45\\n');\n",
      "\n",
      "Su=80.*10**3;          ##[lb/in^2] Ultimate strength\n",
      "d=0.5;               ##[in] Diameter of pin\n",
      "As=math.pi*d**2./4.;        ##[in^2] Area of cross section of pin\n",
      "F=20*10**3;           ##[lb] Load acting\n",
      "\n",
      "Ss=F/(2.*As);         ##[lb/in^2] Shear stress\n",
      "\n",
      "if 0.5*Su>=Ss:\n",
      "   print('Pin would not fail');\n",
      "else:\n",
      "\tif 0.6*Su>=Ss:\n",
      "\t\tprint('Pin would not fail');\n",
      "\telse:\n",
      "\t\tprint('\\n Actual stress is too high and the pin would fail.');\n",
      "\n"
     ],
     "language": "python",
     "metadata": {},
     "outputs": [
      {
       "output_type": "stream",
       "stream": "stdout",
       "text": [
        "MACHINE DESIGN \n",
        " Timothy H. Wentzell, P.E. \n",
        " EXAMPLE-3.3 Page No.45\n",
        "\n",
        "\n",
        " Actual stress is too high and the pin would fail.\n"
       ]
      }
     ],
     "prompt_number": 3
    },
    {
     "cell_type": "heading",
     "level": 2,
     "metadata": {},
     "source": [
      "Ex4-pg46"
     ]
    },
    {
     "cell_type": "code",
     "collapsed": false,
     "input": [
      "import math\n",
      "\n",
      "print('MACHINE DESIGN \\n Timothy H. Wentzell, P.E. \\n EXAMPLE-3.4 Page No.46\\n');\n",
      "\n",
      "hp=10.;             ##[hp] Power transmitted\n",
      "rpm=1750.;          ##[rpm] Turning speed\n",
      "d=0.5;             ##[in] Diameter of shaft\n",
      "L=12.;              ##[in] Length of shaft\n",
      "G=11.5*10**6        ##[lb/in^2] shear modulus of elasticity\n",
      "Su=62000.;          ##[lb/in^2] \n",
      "\n",
      "T=63000.*hp/rpm;    ##[in*lb] Torque transmitted\n",
      "Z=math.pi*d**3/16.;      ##[in^3] Polar section modulus\n",
      "Ss=T/Z;            ##[lb/in^2] Torsional shear stress\n",
      "\n",
      "##Note- In the book Z=0.025 in^3 is used instead of Z=0.0245437 in^3\n",
      "\n",
      "print'%s %.2f %s '%('\\na. Stress in the shaft is ',Ss,' lb/in^2.')\n",
      "\n",
      "J=math.pi*d**4/32.;      ##[in^4] Polar moment of inertia\n",
      "theta=T*L/(J*G);   ##[radians] \n",
      "\n",
      "##Note- In the book J=0.0061 in^4 is used instead of J=0.0061359 in^4\n",
      "\n",
      "print'%s %.2f %s '%('\\nb. The angular deflection of shaft would be ',theta,' radians');\n",
      "\n",
      "SF=3;               ##[] Safety factor based on ultimate strength\n",
      "\n",
      "Zd=T/(0.5*Su/SF);   ##[in^3] Polar section modulus required for SF=3\n",
      "Dd=(16.*Zd/math.pi)**(1/3.); ##[in] Diameter of shaft required Z=%pi*d^3/16\n",
      "\n",
      "print'%s %.2f %s '%('\\nc. Diameter of shaft required is ',Dd,' in.');\n"
     ],
     "language": "python",
     "metadata": {},
     "outputs": [
      {
       "output_type": "stream",
       "stream": "stdout",
       "text": [
        "MACHINE DESIGN \n",
        " Timothy H. Wentzell, P.E. \n",
        " EXAMPLE-3.4 Page No.46\n",
        "\n",
        "\n",
        "a. Stress in the shaft is  14667.72  lb/in^2. \n",
        "\n",
        "b. The angular deflection of shaft would be  0.06  radians \n",
        "\n",
        "c. Diameter of shaft required is  0.56  in. \n"
       ]
      }
     ],
     "prompt_number": 4
    },
    {
     "cell_type": "heading",
     "level": 2,
     "metadata": {},
     "source": [
      "Ex5-pg53"
     ]
    },
    {
     "cell_type": "code",
     "collapsed": false,
     "input": [
      "import math\n",
      "\n",
      "print('MACHINE DESIGN \\n Timothy H. Wentzell, P.E. \\n EXAMPLE-3.5 Page No.53\\n');\n",
      "\n",
      "L=30.;                      ##[in] Length of link\n",
      "d=5/8.;                     ##[in] Diameter of link\n",
      "I=math.pi*d**4/64.;              ##[in^4] Moment of inertia\n",
      "A=math.pi*d**2/4.;               ##[in^2] Area of cross section\n",
      "E=30*10**6;                 ##[lb/in^2] Modulus of elasticity\n",
      "\n",
      "r=math.sqrt(I/A);               ##[in] Radius of gyration\n",
      "\n",
      "print'%s %.2f %s '%('\\n The radius of gyration ',r,' in.');\n",
      "\n",
      "K=1;                       ##[] End support condition factor\n",
      "\n",
      "Le=K*L;                    ##[in] Effective length\n",
      "\n",
      "print'%s %.2f %s '%('\\n Effective length is ',Le,' in');\n",
      "\n",
      "SR=Le/r;                   ##[] Slenderness ratio\n",
      "\n",
      "print'%s %.2f %s '%('\\n Slenderness ratio is ',SR,'.')\n",
      "\n",
      "Sy=42000.;                 ##[lb/in^2] Yield strength\n",
      "\n",
      "Cc=math.sqrt(2*math.pi**2*E/Sy);    ##[] Column constant\n",
      "\n",
      "print'%s %.2f %s '%('The column constant is',Cc,'');\n",
      "\n",
      "if SR>Cc:\n",
      "    print('\\n Slenderness ratio is greater than column constant, so use the euler formula')\n",
      "\n",
      "\n",
      "I=math.pi*d**4/64.;             ##[in^4] Moment of inertia\n",
      "\n",
      "print'%s %.2f %s '%('\\n The moment of inertia is ',I,' in^4');\n",
      "\n",
      "Pc=math.pi**2*E*I/Le**2;        ##[lb] Critical force\n",
      "\n",
      "##Note- In the book I=0.0075 in^4 is used instead of I=0.0074901 in^4\n",
      "\n",
      "print'%s %.2f %s '%('\\n The critical force is ',Pc,' lb.');\n"
     ],
     "language": "python",
     "metadata": {},
     "outputs": [
      {
       "output_type": "stream",
       "stream": "stdout",
       "text": [
        "MACHINE DESIGN \n",
        " Timothy H. Wentzell, P.E. \n",
        " EXAMPLE-3.5 Page No.53\n",
        "\n",
        "\n",
        " The radius of gyration  0.16  in. \n",
        "\n",
        " Effective length is  30.00  in \n",
        "\n",
        " Slenderness ratio is  192.00 . \n",
        "The column constant is 118.74  \n",
        "\n",
        " Slenderness ratio is greater than column constant, so use the euler formula\n",
        "\n",
        " The moment of inertia is  0.01  in^4 \n",
        "\n",
        " The critical force is  2464.16  lb. \n"
       ]
      }
     ],
     "prompt_number": 5
    },
    {
     "cell_type": "heading",
     "level": 2,
     "metadata": {},
     "source": [
      "Ex6-pg55"
     ]
    },
    {
     "cell_type": "code",
     "collapsed": false,
     "input": [
      "import math\n",
      "\n",
      "print('MACHINE DESIGN \\n Timothy H. Wentzell, P.E. \\n EXAMPLE-3.6 Page No.55\\n');\n",
      "\n",
      "L=60.;                    ##[in] Length of column\n",
      "Sy=36000.;                ##[lb/in^2] Yield strength\n",
      "SF=2.;                    ##[]Safty factor\n",
      "E=30*10**6;               ##[lb/in^2] Modulus of elasticity\n",
      "\n",
      "A=2.26;                  ##[in^2] Area of cross section (Appendix 5.4)\n",
      "I=0.764;                 ##[in^4] Moment of inertia (Appendix 5.4)\n",
      "\n",
      "r=math.sqrt(I/A);             ##[in] Radius of gyration\n",
      "\n",
      "K=0.65;                  ##[] End support condition factor from Figure 3.8\n",
      "Le=K*L;                  ##[in] Effective length\n",
      "\n",
      "print'%s %.2f %s '%('\\n The effective length is ',Le,' in.');\n",
      "\n",
      "SR=Le/r;                 ##[] Slenderness ratio\n",
      "\n",
      "print'%s %.2f %s '%('\\n The slenderness ratio is ',SR,'');\n",
      "\n",
      "Cc=math.sqrt(2*math.pi**2*E/Sy);   ##[] Column constant\n",
      "\n",
      "print'%s %.2f %s '%('\\n The column constant is ',Cc,'');\n",
      "\n",
      "if Cc>SR :\n",
      "    print('\\n The column constant is greater than slenderness ratio, so use the Johnson formula.');\n",
      "\n",
      "\n",
      "F=(A*Sy/SF)*(1.-Sy*SR**2/(4.*math.pi**2*E));\n",
      "\n",
      "print'%s %.2f %s '%('\\n The acceptable load for a safty factor of 2 is ',F,' lb.');\n"
     ],
     "language": "python",
     "metadata": {},
     "outputs": [
      {
       "output_type": "stream",
       "stream": "stdout",
       "text": [
        "MACHINE DESIGN \n",
        " Timothy H. Wentzell, P.E. \n",
        " EXAMPLE-3.6 Page No.55\n",
        "\n",
        "\n",
        " The effective length is  39.00  in. \n",
        "\n",
        " The slenderness ratio is  67.08  \n",
        "\n",
        " The column constant is  128.25  \n",
        "\n",
        " The column constant is greater than slenderness ratio, so use the Johnson formula.\n",
        "\n",
        " The acceptable load for a safty factor of 2 is  35116.52  lb. \n"
       ]
      }
     ],
     "prompt_number": 6
    }
   ],
   "metadata": {}
  }
 ]
}