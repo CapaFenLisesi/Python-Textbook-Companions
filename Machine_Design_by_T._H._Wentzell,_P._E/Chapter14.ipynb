{
 "metadata": {
  "name": "",
  "signature": "sha256:ec639859a82da3b8a2106b72ddcd094decef6e3a8922eacdb7b999d703520f1d"
 },
 "nbformat": 3,
 "nbformat_minor": 0,
 "worksheets": [
  {
   "cells": [
    {
     "cell_type": "heading",
     "level": 1,
     "metadata": {},
     "source": [
      "Chapter14-Belt and Chain Drives"
     ]
    },
    {
     "cell_type": "heading",
     "level": 2,
     "metadata": {},
     "source": [
      "Ex1-pg306"
     ]
    },
    {
     "cell_type": "code",
     "collapsed": false,
     "input": [
      "import math\n",
      "\n",
      "print('MACHINE DESIGN \\n Timothy H. Wentzell, P.E. \\n EXAMPLE-14.1 Page No.306\\n');\n",
      "\n",
      "##Torque on small pulley\n",
      "hp=2.;\n",
      "n=2450.;\n",
      "T=63000.*hp/n;\n",
      "\n",
      "print'%s %.2f %s '%('\\n Torque on small pulley = ',T,' in-lb.');\n",
      "r=6/2.;\n",
      "Fd=T/r;\n",
      "\n",
      "##Front force\n",
      "Fb=10.;\n",
      "Ff=Fd+Fb;\n",
      "\n",
      "print'%s %.2f %s '%('\\n Front force = ',Ff,' lb.');\n",
      "\n",
      "##Force pulling the shafts\n",
      "Ft=Ff+Fb\n",
      "\n",
      "print'%s %.2f %s '%('\\n Force pulling the shafts = ',Ft,' lb.');\n",
      "\n",
      "##Surface speed\n",
      "D=2.*r;\n",
      "Vm=math.pi*D*n/12.;\n",
      "\n",
      "print'%s %.2f %s '%('\\n Surface speed = ',Vm,' ft/min.');\n",
      "\n",
      "##Ratio\n",
      "D2=10.;\n",
      "Mw=D2/D;\n",
      "\n",
      "print'%s %.2f %s '%('\\n Ratio = ',Mw,'');\n",
      "\n",
      "##Output speed\n",
      "no=n/Mw;\n",
      "\n",
      "print'%s %.2f %s '%('\\n Output speed = ',no,' rpm.');\n",
      "\n",
      "##Note-There is an error in the answer given in textbook\n"
     ],
     "language": "python",
     "metadata": {},
     "outputs": [
      {
       "output_type": "stream",
       "stream": "stdout",
       "text": [
        "MACHINE DESIGN \n",
        " Timothy H. Wentzell, P.E. \n",
        " EXAMPLE-14.1 Page No.306\n",
        "\n",
        "\n",
        " Torque on small pulley =  51.43  in-lb. \n",
        "\n",
        " Front force =  27.14  lb. \n",
        "\n",
        " Force pulling the shafts =  37.14  lb. \n",
        "\n",
        " Surface speed =  3848.45  ft/min. \n",
        "\n",
        " Ratio =  1.67  \n",
        "\n",
        " Output speed =  1470.00  rpm. \n"
       ]
      }
     ],
     "prompt_number": 1
    },
    {
     "cell_type": "heading",
     "level": 2,
     "metadata": {},
     "source": [
      "Ex2-pg310"
     ]
    },
    {
     "cell_type": "code",
     "collapsed": false,
     "input": [
      "import math\n",
      "\n",
      "print('MACHINE DESIGN \\n Timothy H. Wentzell, P.E. \\n EXAMPLE-14.2 Page No.310\\n');\n",
      "\n",
      "##Length of belt\n",
      "C=19.;\n",
      "D1=4.;\n",
      "D2=6.;\n",
      "\n",
      "L1=2.*C+1.57*(D1+D2)+(D2-D1)**2./(4.*C);\n",
      "\n",
      "##Assuming a 54-inch belt is available\n",
      "L=54.;\n",
      "\n",
      "print'%s %.2f %s '%('\\n Length of belt = ',L,' in.');\n",
      "\n",
      "##Centerline distance\n",
      "B=4.*L-6.28*(D2+D1);\n",
      "\n",
      "C=(B+math.sqrt(B**2.-32.*(D2-D1)**2))/16.;\n",
      "\n",
      "print'%s %.2f %s '%('\\n Centerline distance = ',C,' in.');\n",
      "\n",
      "##Ratio\n",
      "Mw=D2/D1;\n",
      "\n",
      "print'%s %.2f %s '%('\\n Ratio = ',Mw,'');\n",
      "\n",
      "##Surface speed\n",
      "n=1800.;\n",
      "Vm=math.pi*D1*n/12.;\n",
      "\n",
      "print'%s %.2f %s '%('\\n Surface speed =',Vm,' ft/min.');\n",
      "\n",
      "##Angle of contact\n",
      "\n",
      "theta=180.-2*(180./math.pi)*math.asin((D2-D1)/(2.*C));\n",
      "\n",
      "print'%s %.2f %s '%('\\n Angle of contact = ',theta,' deg.');\n"
     ],
     "language": "python",
     "metadata": {},
     "outputs": [
      {
       "output_type": "stream",
       "stream": "stdout",
       "text": [
        "MACHINE DESIGN \n",
        " Timothy H. Wentzell, P.E. \n",
        " EXAMPLE-14.2 Page No.310\n",
        "\n",
        "\n",
        " Length of belt =  54.00  in. \n",
        "\n",
        " Centerline distance =  19.12  in. \n",
        "\n",
        " Ratio =  1.50  \n",
        "\n",
        " Surface speed = 1884.96  ft/min. \n",
        "\n",
        " Angle of contact =  174.01  deg. \n"
       ]
      }
     ],
     "prompt_number": 2
    },
    {
     "cell_type": "heading",
     "level": 2,
     "metadata": {},
     "source": [
      "Ex3-pg315"
     ]
    },
    {
     "cell_type": "code",
     "collapsed": false,
     "input": [
      "import math\n",
      "\n",
      "print('MACHINE DESIGN \\n Timothy H. Wentzell, P.E. \\n EXAMPLE-14.3 Page No.315\\n');\n",
      "\n",
      "##Power rating of belt\n",
      "P1=27.+2.98;\n",
      "SF=1.5;\n",
      "P=P1/SF;\n",
      "P=round(P);\n",
      "\n",
      "print'%s %.2f %s '%('\\n Power rating = ',P,' hp.');\n",
      "\n",
      "##Length of belt\n",
      "C=20.;\n",
      "D1=8.;\n",
      "D2=16.;\n",
      "L1=2.*C+1.57*(D1+D2)+(D2-D1)**2/(4.*C);\n",
      "\n",
      "##Use an 80-inch belt\n",
      "L=80.;\n",
      "\n",
      "print'%s %.2f %s '%('\\n Length of belt = ',L,' in.');\n"
     ],
     "language": "python",
     "metadata": {},
     "outputs": [
      {
       "output_type": "stream",
       "stream": "stdout",
       "text": [
        "MACHINE DESIGN \n",
        " Timothy H. Wentzell, P.E. \n",
        " EXAMPLE-14.3 Page No.315\n",
        "\n",
        "\n",
        " Power rating =  20.00  hp. \n",
        "\n",
        " Length of belt =  80.00  in. \n"
       ]
      }
     ],
     "prompt_number": 3
    },
    {
     "cell_type": "heading",
     "level": 2,
     "metadata": {},
     "source": [
      "Ex4-pg321"
     ]
    },
    {
     "cell_type": "code",
     "collapsed": false,
     "input": [
      "import math\n",
      "\n",
      "print('MACHINE DESIGN \\n Timothy H. Wentzell, P.E. \\n EXAMPLE-14.4 Page No.321\\n');\n",
      "\n",
      "P=5.31;\n",
      "\n",
      "print'%s %.2f %s '%('\\n Horsepower rating = ',P,' hp.');\n",
      "\n",
      "Nti=12.;\n",
      "N1=1800.;\n",
      "N2=900.;\n",
      "\n",
      "##Output sprocket\n",
      "Nto=(N1/N2)*Nti;\n",
      "\n",
      "print'%s %.2f %s '%('\\n Number of tooth on output sprocket = ',Nto,'');\n",
      "\n",
      "##Surface speed\n",
      "Pc=0.5;\n",
      "D1=Pc*Nti/math.pi;\n",
      "n=1800.;\n",
      "Vm=math.pi*D1*n/12.;\n",
      "\n",
      "print'%s %.2f %s '%('\\n Surface speed = ',Vm,' ft/min.');\n",
      "\n",
      "print('\\n Type of lubrication - Bath or disc lubrication');\n",
      "\n",
      "##Length of chain\n",
      "C=10.;\n",
      "D2=Pc*Nto/math.pi;\n",
      "\n",
      "L1=2*C+1.57*(D1+D2)+(D2-D1)**2/(4.*C);\n",
      "\n",
      "##Use 29 or 30 inch chain\n",
      "\n",
      "L=30.;\n",
      "\n",
      "print'%s %.2f %s '%('\\n Length of chain = ',L,' in.');\n",
      "\n",
      "hp=5.31;\n",
      "\n",
      "T=63000.*hp/n;\n",
      "\n",
      "F=2.*T/D1;\n",
      "\n",
      "print'%s %.2f %s '%('\\n Force in chain = ',F,' lb.');\n",
      "\n",
      "##Comparism with ultimate strength 3700 lb - not a valid comparison because of speed etc.\n"
     ],
     "language": "python",
     "metadata": {},
     "outputs": [
      {
       "output_type": "stream",
       "stream": "stdout",
       "text": [
        "MACHINE DESIGN \n",
        " Timothy H. Wentzell, P.E. \n",
        " EXAMPLE-14.4 Page No.321\n",
        "\n",
        "\n",
        " Horsepower rating =  5.31  hp. \n",
        "\n",
        " Number of tooth on output sprocket =  24.00  \n",
        "\n",
        " Surface speed =  900.00  ft/min. \n",
        "\n",
        " Type of lubrication - Bath or disc lubrication\n",
        "\n",
        " Length of chain =  30.00  in. \n",
        "\n",
        " Force in chain =  194.62  lb. \n"
       ]
      }
     ],
     "prompt_number": 4
    }
   ],
   "metadata": {}
  }
 ]
}