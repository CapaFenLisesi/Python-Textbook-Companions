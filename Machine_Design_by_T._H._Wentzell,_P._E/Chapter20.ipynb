{
 "metadata": {
  "name": "",
  "signature": "sha256:d68aa72f3d535ee572be0511bcf196976b3a1d760ed33d6a9eb435db965967aa"
 },
 "nbformat": 3,
 "nbformat_minor": 0,
 "worksheets": [
  {
   "cells": [
    {
     "cell_type": "heading",
     "level": 1,
     "metadata": {},
     "source": [
      "Chapter20-Ball and Roller Bearings"
     ]
    },
    {
     "cell_type": "heading",
     "level": 2,
     "metadata": {},
     "source": [
      "Ex1-pg431"
     ]
    },
    {
     "cell_type": "code",
     "collapsed": false,
     "input": [
      "import math\n",
      "\n",
      "print('MACHINE DESIGN \\n Timothy H. Wentzell, P.E. \\n EXAMPLE-20.1 Page No.431\\n');\n",
      "\n",
      "##L10 design life\n",
      "Cd=5050.;\n",
      "Pd=2400.;\n",
      "k=3.;\n",
      "Ld1=(Cd/Pd)**k*10**6;\n",
      "Ld=Ld1/(1750.*60.);\n",
      "\n",
      "print'%s %.2f %s '%('\\n L10 design life = ',Ld,' hr.');\n"
     ],
     "language": "python",
     "metadata": {},
     "outputs": [
      {
       "output_type": "stream",
       "stream": "stdout",
       "text": [
        "MACHINE DESIGN \n",
        " Timothy H. Wentzell, P.E. \n",
        " EXAMPLE-20.1 Page No.431\n",
        "\n",
        "\n",
        " L10 design life =  88.73  hr. \n"
       ]
      }
     ],
     "prompt_number": 1
    },
    {
     "cell_type": "heading",
     "level": 2,
     "metadata": {},
     "source": [
      "Ex2-pg432"
     ]
    },
    {
     "cell_type": "code",
     "collapsed": false,
     "input": [
      "import math\n",
      "\n",
      "print('MACHINE DESIGN \\n Timothy H. Wentzell, P.E. \\n EXAMPLE-20.2 Page No.432\\n');\n",
      "\n",
      "##Dynamic load capacity\n",
      "T=200.;\n",
      "n=1750.;\n",
      "L=T*n*60./10**6;\n",
      "Pd=2400.;\n",
      "Ld=21.;\n",
      "Lc=1.;\n",
      "k=1/3.;\n",
      "\n",
      "Cd=Pd*(Ld/Lc)**k\n",
      "\n",
      "print'%s %.2f %s '%('\\n Dynamic load capacity required = ',Cd,' lb.');\n",
      "\n",
      "print('\\n Bearing 6211 meets this criterion.');\n"
     ],
     "language": "python",
     "metadata": {},
     "outputs": [
      {
       "output_type": "stream",
       "stream": "stdout",
       "text": [
        "MACHINE DESIGN \n",
        " Timothy H. Wentzell, P.E. \n",
        " EXAMPLE-20.2 Page No.432\n",
        "\n",
        "\n",
        " Dynamic load capacity required =  6621.42  lb. \n",
        "\n",
        " Bearing 6211 meets this criterion.\n"
       ]
      }
     ],
     "prompt_number": 2
    },
    {
     "cell_type": "heading",
     "level": 2,
     "metadata": {},
     "source": [
      "Ex3-pg434"
     ]
    },
    {
     "cell_type": "code",
     "collapsed": false,
     "input": [
      "import math\n",
      "\n",
      "print('MACHINE DESIGN \\n Timothy H. Wentzell, P.E. \\n EXAMPLE-20.3 Page No.434\\n');\n",
      "\n",
      "R=1200.;\n",
      "Ft=500.;\n",
      "n=1500.;\n",
      "L10=5000.;\n",
      "\n",
      "##Assume thrust factor=1.6\n",
      "\n",
      "Y=1.6;\n",
      "\n",
      "Pd=0.56*R+Y*Ft;\n",
      "\n",
      "Ld=n*L10*60./10**6;\n",
      "Lc=1.;\n",
      "k=3.;\n",
      "Cd=Pd*(Ld/Lc)**(1./k);\n",
      "\n",
      "##For bearing number 6215\n",
      "\n",
      "Cd1=11400.;\n",
      "Cs1=9700.;\n",
      "\n",
      "##Verify the assumption for Y\n",
      "Ft_Cs1=Ft/Cs1;\n",
      "\n",
      "Y=(0.056-Ft_Cs1)*(1.99-1.71)/(0.056-0.028)+1.71;\n",
      "\n",
      "Pd=0.56*R+Y*Ft;\n",
      "\n",
      "Cd=Pd*(Ld/Lc)**(1./k);\n",
      "\n",
      "if Cd>Cd1:\n",
      "    print('\\n Since Cd of bearing < Cd required, So bearing number 6215 is not acceptable.');    \n",
      "\n",
      "##For bearing number 6216\n",
      "Cd2=12600.;\n",
      "Cs2=10500.;\n",
      "\n",
      "Ft_Cs2=Ft/Cs2;\n",
      "Y=(0.056-Ft_Cs2)*(1.99-1.71)/(0.056-0.028)+1.71;\n",
      "\n",
      "Pd=0.56*R+Y*Ft;\n",
      "\n",
      "Cd=Pd*(Ld/Lc)**(1/k);\n",
      "\n",
      "if Cd<Cd2:\n",
      "    print('\\n Since Cd of bearing > Cd required, So bearing number 6215 meets the design criteria.');\n",
      "\n"
     ],
     "language": "python",
     "metadata": {},
     "outputs": [
      {
       "output_type": "stream",
       "stream": "stdout",
       "text": [
        "MACHINE DESIGN \n",
        " Timothy H. Wentzell, P.E. \n",
        " EXAMPLE-20.3 Page No.434\n",
        "\n",
        "\n",
        " Since Cd of bearing < Cd required, So bearing number 6215 is not acceptable.\n",
        "\n",
        " Since Cd of bearing > Cd required, So bearing number 6215 meets the design criteria.\n"
       ]
      }
     ],
     "prompt_number": 3
    },
    {
     "cell_type": "heading",
     "level": 2,
     "metadata": {},
     "source": [
      "Ex4-pg436"
     ]
    },
    {
     "cell_type": "code",
     "collapsed": false,
     "input": [
      "import math\n",
      "\n",
      "print('MACHINE DESIGN \\n Timothy H. Wentzell, P.E. \\n EXAMPLE-20.4 Page No.436\\n');\n",
      "\n",
      "##Thrust factor\n",
      "Ft=300.;\n",
      "Cs=2320.;\n",
      "Ft_Cs=Ft/Cs;\n",
      "\n",
      "Y=(0.17-Ft_Cs)*(1.45-1.31)/(0.17-0.11)+1.31;\n",
      "\n",
      "print'%s %.2f %s '%('\\n Thrust factor =  ',Y,'');\n",
      "\n",
      "V=1.2;\n",
      "X=0.56;\n",
      "R=1000.;\n",
      "\n",
      "P=V*X*R+Y*Ft;\n",
      "\n",
      "Cd=3350.;\n",
      "Pd=1095.;\n",
      "k=3.;\n",
      "\n",
      "Ld=(Cd/Pd)**k*10**6;\n",
      "\n",
      "print'%s %.2f %s '%('\\n Life = ',Ld,' revolutions.');\n"
     ],
     "language": "python",
     "metadata": {},
     "outputs": [
      {
       "output_type": "stream",
       "stream": "stdout",
       "text": [
        "MACHINE DESIGN \n",
        " Timothy H. Wentzell, P.E. \n",
        " EXAMPLE-20.4 Page No.436\n",
        "\n",
        "\n",
        " Thrust factor =   1.40  \n",
        "\n",
        " Life =  28634662.16  revolutions. \n"
       ]
      }
     ],
     "prompt_number": 4
    }
   ],
   "metadata": {}
  }
 ]
}