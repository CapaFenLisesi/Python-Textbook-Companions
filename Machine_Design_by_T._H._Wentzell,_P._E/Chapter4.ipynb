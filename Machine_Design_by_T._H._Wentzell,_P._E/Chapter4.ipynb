{
 "metadata": {
  "name": "",
  "signature": "sha256:2a6b45b6c7166d942ef611d182078312aa93230cc9974f88e551a1cb2d2c7e18"
 },
 "nbformat": 3,
 "nbformat_minor": 0,
 "worksheets": [
  {
   "cells": [
    {
     "cell_type": "heading",
     "level": 1,
     "metadata": {},
     "source": [
      "Chapter4-Combined Stress and Failure Theories"
     ]
    },
    {
     "cell_type": "heading",
     "level": 2,
     "metadata": {},
     "source": [
      "Ex1-pg66"
     ]
    },
    {
     "cell_type": "code",
     "collapsed": false,
     "input": [
      "import math\n",
      "\n",
      "print('MACHINE DESIGN \\n Timothy H. Wentzell, P.E. \\n EXAMPLE-4.1   Page 66 ')\n",
      " \n",
      "D=2.;               ##[in] Dia. of short column\n",
      "F=10000.;          ##[lb] Load applied\n",
      "L=15.;              ##[in] Length of column\n",
      "e=2.;               ##[in] Offset of load\n",
      "\n",
      "A=(math.pi*D**2)/4.;      ##[in^2] Area of cross section of column\n",
      "SA=F/A;             ##[lb/in^2] Axial Stress\n",
      "\n",
      "Z=(math.pi*D**3)/32.;     ##[in^4] Section modulus for bending\n",
      "M=F*e;              ##[lb*in] Bending moment\n",
      "SB=M/Z;             ##[lb/in^2] Bemding stress\n",
      "\n",
      "S=-SA-SB;           ##S=(+-)SA+(+-)SB Max. stress\n",
      "\n",
      "##The bending stress and axial stress are added on inner side of column \n",
      "\n",
      "print'%s %.2f %s '%('\\n\\n Maximum stress in column is ',S,' lb/in^2.\\n')\n"
     ],
     "language": "python",
     "metadata": {},
     "outputs": [
      {
       "output_type": "stream",
       "stream": "stdout",
       "text": [
        "MACHINE DESIGN \n",
        " Timothy H. Wentzell, P.E. \n",
        " EXAMPLE-4.1   Page 66 \n",
        "\n",
        "\n",
        " Maximum stress in column is  -28647.89  lb/in^2.\n",
        " \n"
       ]
      }
     ],
     "prompt_number": 1
    },
    {
     "cell_type": "heading",
     "level": 2,
     "metadata": {},
     "source": [
      "Ex2-pg67"
     ]
    },
    {
     "cell_type": "code",
     "collapsed": false,
     "input": [
      "import math\n",
      "\n",
      "print('MACHINE DESIGN \\n Timothy H. Wentzell, P.E. \\n EXAMPLE-4.2   Page 67 ')\n",
      "\n",
      "F1=800.;             ##[lb] Vertical force\n",
      "F2=600.;             ##[lb] Horizontal force\n",
      "D=0.5;              ##[in] Pin diameter\n",
      "A=(math.pi*D**2)/4.;     ##[in^2] Area of cross section of pin\n",
      "\n",
      "F=math.sqrt(F1**2+F2**2);   ##[lb] Resultant force on pin\n",
      "S=F/A;               ##[lb/in^2] Shear stress in pin\n",
      "\n",
      "##If forces were not perpendicular, they would be added vectorially.\n",
      "print'%s %.2f %s '%('\\n\\n Shear stress in pin is ',S,' lb/in^2.');\n"
     ],
     "language": "python",
     "metadata": {},
     "outputs": [
      {
       "output_type": "stream",
       "stream": "stdout",
       "text": [
        "MACHINE DESIGN \n",
        " Timothy H. Wentzell, P.E. \n",
        " EXAMPLE-4.2   Page 67 \n",
        "\n",
        "\n",
        " Shear stress in pin is  5092.96  lb/in^2. \n"
       ]
      }
     ],
     "prompt_number": 2
    },
    {
     "cell_type": "heading",
     "level": 2,
     "metadata": {},
     "source": [
      "Ex3-pg68"
     ]
    },
    {
     "cell_type": "code",
     "collapsed": false,
     "input": [
      "import math\n",
      " \n",
      "print('MACHINE DESIGN\\n Timothy H. Wentzell, P.E.\\n Example 4.3   Page no 68');\n",
      "\n",
      "P=50.;            ##[hp] Power transmitted\n",
      "N=300.;           ##[rpm] Speed\n",
      "D=10.;            ##[in] Effective pitch diameter of sprocket\n",
      "d=1.;             ##[in] Diameter of shaft from figure 4.3\n",
      "Z=(math.pi*d**3)/16.;  ##[in^3] Section modulus of shaft\n",
      "A=(math.pi*d**2)/4.;   ##[in^2] Area of cross section\n",
      "\n",
      "T=(63000./N)*P;  ##[lb*in] Torque required to transmit power\n",
      "F=T/(D/2.);       ##[lb] Driving force in chain\n",
      "\n",
      "Ss=F/A;          ##[lb/in^2] Shear stress in shaft\n",
      "\n",
      "St=T/Z;          ##[lb/in^2] Torsional stress in shaft\n",
      "\n",
      "S=Ss+St;         ##[lb/in^2] Resultant stress\n",
      "\n",
      "##Note-There is mistake in addition of Ss and St.\n",
      "\n",
      "##This value would be compared to shear stress allowable for shaft material\n",
      "\n",
      "print'%s %.2f %s '%('\\n\\n The combined stress in 1 inch diameter shaft is ',S,' lb/in^2.');\n"
     ],
     "language": "python",
     "metadata": {},
     "outputs": [
      {
       "output_type": "stream",
       "stream": "stdout",
       "text": [
        "MACHINE DESIGN\n",
        " Timothy H. Wentzell, P.E.\n",
        " Example 4.3   Page no 68\n",
        "\n",
        "\n",
        " The combined stress in 1 inch diameter shaft is  56149.86  lb/in^2. \n"
       ]
      }
     ],
     "prompt_number": 3
    },
    {
     "cell_type": "heading",
     "level": 2,
     "metadata": {},
     "source": [
      "Ex4-pg71"
     ]
    },
    {
     "cell_type": "code",
     "collapsed": false,
     "input": [
      "import math\n",
      "\n",
      "print('MACHINE DESIGN\\n Timothy H. Wentzell, P.E.\\n Example 4.4  Page no 71')\n",
      "\n",
      "P=20.;             ##[hp] Power transmitted by chain drive\n",
      "n=500.;            ##[rpm] speed\n",
      "d=8.;              ##[in] Pitch diameter of sprocket\n",
      "fos=2.;\n",
      "D=1.25;           ##[in] Diameter of shaft\n",
      "L=12.;             ##[in] Distance between two supporting bearings\n",
      "Z1=math.pi*D**3/16.;    ##[in^3] Section modulus for torsion\n",
      "Z2=math.pi*D**3/32.;    ##[in^3] Section modulus for bending\n",
      "\n",
      "T=63000.*P/n;      ##[in*lb] Torque on shaft\n",
      "\n",
      "F=T/(d/2.);        ##[lb] Force in chain\n",
      "\n",
      "M=F*L/4.;          ##[in*lb] Bending moment in shaft\n",
      "\n",
      "Ss=T/Z1;          ##[lb/in^2] Torsional shear stress\n",
      "\n",
      "Sb=M/Z2;          ##[lb/in^2] Bending normal stress\n",
      "\n",
      "##Note- In the book Sb=9860 lb/in^2 is used instead of Sb=9856.7075 lb/in^2\n",
      "\n",
      "S=(Sb/2.)+math.sqrt(Ss**2.+(Sb/2.)**2);  ##[lb/in^2] Combined max. stress\n",
      "\n",
      "Sy=30000.;         ##[lb/in^2]From APPENDIX 4 Page no-470 for AISI 1020 and Hot-rolled steel\n",
      "FOS=(Sy/2.)/S;     ##[]Actual factor of safty\n",
      "\n",
      "if S < Sy/2.: ##Strength is greater than combined stress so design is safe\n",
      "    print'%s %.2f %s '%('\\n\\n Design is acceptable and Combined stress is ',S,' lb/in^2');\n",
      "else:\n",
      "    print('\\n\\n Design is not acceptable');\n",
      "\n"
     ],
     "language": "python",
     "metadata": {},
     "outputs": [
      {
       "output_type": "stream",
       "stream": "stdout",
       "text": [
        "MACHINE DESIGN\n",
        " Timothy H. Wentzell, P.E.\n",
        " Example 4.4  Page no 71\n",
        "\n",
        "\n",
        " Design is acceptable and Combined stress is  13142.28  lb/in^2 \n"
       ]
      }
     ],
     "prompt_number": 4
    }
   ],
   "metadata": {}
  }
 ]
}