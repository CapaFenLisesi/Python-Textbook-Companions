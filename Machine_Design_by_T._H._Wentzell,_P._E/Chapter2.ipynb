{
 "metadata": {
  "name": "",
  "signature": "sha256:e843b59962198e932c75c0393d6620b260b3f31a23a639540cadf7fe87f37855"
 },
 "nbformat": 3,
 "nbformat_minor": 0,
 "worksheets": [
  {
   "cells": [
    {
     "cell_type": "heading",
     "level": 1,
     "metadata": {},
     "source": [
      "Chapter2-Force Work and Power "
     ]
    },
    {
     "cell_type": "heading",
     "level": 2,
     "metadata": {},
     "source": [
      "Ex1-pg26"
     ]
    },
    {
     "cell_type": "code",
     "collapsed": false,
     "input": [
      "import math\n",
      "\n",
      "print('MACHINE DESIGN \\n Timothy H. Wentzell, P.E. \\n EXAMPLE-2.1   Page 26 ')    \n",
      "##Example 2.1\n",
      "\n",
      "T=1080.*12.;                  ##[in*lb] Torque in axle\n",
      "d=30.;                       ##[in] Diameter of tire\n",
      "F=T/(d/2.);                  ##[lb] Force exerted on the road surface\n",
      "\n",
      "print'%s %.2f %s '%('\\n\\n The tire exerts ',F,'lb force on the road surface');\n"
     ],
     "language": "python",
     "metadata": {},
     "outputs": [
      {
       "output_type": "stream",
       "stream": "stdout",
       "text": [
        "MACHINE DESIGN \n",
        " Timothy H. Wentzell, P.E. \n",
        " EXAMPLE-2.1   Page 26 \n",
        "\n",
        "\n",
        " The tire exerts  864.00 lb force on the road surface \n"
       ]
      }
     ],
     "prompt_number": 3
    },
    {
     "cell_type": "heading",
     "level": 2,
     "metadata": {},
     "source": [
      "Ex2-pg28"
     ]
    },
    {
     "cell_type": "code",
     "collapsed": false,
     "input": [
      "import math\n",
      "\n",
      "print('MACHINE DESIGN \\n Timothy H. Wentzell, P.E. \\n EXAMPLE-2.2   Page 28 ')    \n",
      "##Example 2.2\n",
      "\n",
      "G=3.6;                           ##Diffential ratio\n",
      "N=3500./G;                        ##[rpm] Axle rotational speed\n",
      "d=30.;                            ##[in] Diameter of tire\n",
      "dist=N/(60.)*(math.pi*d)              ##[in] Distance traveled in 1 sec\n",
      "dist=dist/12.;                    ##[ft] Distance traveled in 1 sec\n",
      "t=1.;                             ##[sec] Time period\n",
      "F=864.;                           ##[lb] Force exerted by tire on road surface\n",
      "\n",
      "W=F*dist;                        ##[ft*lb] Workdone in 1 sec\n",
      "P=F*dist/t;                      ##[ft*lb/sec] Power\n",
      "hp=P/550.;                        ##[hp] Power in horse power 1hp=550 ft*lb/sec\n",
      "\n",
      "print'%s %.2f %s '%('\\n\\n Power to do work ',hp,' hp');\n",
      "\n",
      "##Comparing it to motor output:\n",
      "\n",
      "Tm=300.*12.;                        ##[in*lb] Engine torque\n",
      "Nm=3500.;                          ##[rpm] Engine speed\n",
      "Pm=Tm*Nm/63000.; \n",
      "\n",
      "print'%s %.2f %s '%('\\n Motor output ',Pm,' hp');\n",
      "print('\\n The power output equaled the power at tire/road surface.');\n",
      "\n",
      "##Note: The deviation of answer from the answer given in the book is due to round off error.(In the book values are rounded while in scilab actual values are taken)\n"
     ],
     "language": "python",
     "metadata": {},
     "outputs": [
      {
       "output_type": "stream",
       "stream": "stdout",
       "text": [
        "MACHINE DESIGN \n",
        " Timothy H. Wentzell, P.E. \n",
        " EXAMPLE-2.2   Page 28 \n",
        "\n",
        "\n",
        " Power to do work  199.92  hp \n",
        "\n",
        " Motor output  200.00  hp \n",
        "\n",
        " The power output equaled the power at tire/road surface.\n"
       ]
      }
     ],
     "prompt_number": 2
    },
    {
     "cell_type": "heading",
     "level": 2,
     "metadata": {},
     "source": [
      "Ex3-pg29"
     ]
    },
    {
     "cell_type": "code",
     "collapsed": false,
     "input": [
      "import math\n",
      "\n",
      "print('MACHINE DESIGN \\n Timothy H. Wentzell, P.E. \\n EXAMPLE-2.3   Page 29 ') \n",
      "##Example 2.3\n",
      "\n",
      "T=300.*12.;               ##[in*lb] Engine torque \n",
      "d=8.;                    ##[in] Crankshaft effective diameter\n",
      "\n",
      "F=T/(d/2.);              ##[lb] Force exerted by piston\n",
      "\n",
      "A=math.pi*(2**2.)/4.;          ##[in^2] Area of cross section of piston\n",
      "P=F/A;                  ##[lb/in^2] Pressure in cylinder\n",
      "\n",
      "print'%s %.2f %s '%('\\n\\n Pressure inside cylinder ',P,' lb/in^2');\n"
     ],
     "language": "python",
     "metadata": {},
     "outputs": [
      {
       "output_type": "stream",
       "stream": "stdout",
       "text": [
        "MACHINE DESIGN \n",
        " Timothy H. Wentzell, P.E. \n",
        " EXAMPLE-2.3   Page 29 \n",
        "\n",
        "\n",
        " Pressure inside cylinder  286.48  lb/in^2 \n"
       ]
      }
     ],
     "prompt_number": 1
    }
   ],
   "metadata": {}
  }
 ]
}