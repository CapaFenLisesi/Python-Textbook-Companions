{
 "metadata": {
  "name": "",
  "signature": "sha256:eb606f39fc3092e1440a5967b207e786d25c095ec5ea9cf333a332f93df00b1f"
 },
 "nbformat": 3,
 "nbformat_minor": 0,
 "worksheets": [
  {
   "cells": [
    {
     "cell_type": "heading",
     "level": 1,
     "metadata": {},
     "source": [
      "Chapter16-Clutches and Brakes"
     ]
    },
    {
     "cell_type": "heading",
     "level": 2,
     "metadata": {},
     "source": [
      "Ex1-pg358"
     ]
    },
    {
     "cell_type": "code",
     "collapsed": false,
     "input": [
      "import math\n",
      "\n",
      "print('MACHINE DESIGN \\n Timothy H. Wentzell, P.E. \\n EXAMPLE-16.1 Page No.358\\n');\n",
      "\n",
      "##Torque capacity\n",
      "f=0.3;\n",
      "N=120.;\n",
      "ro=12.;\n",
      "ri=9.;\n",
      "Tf=f*N*(ro+ri)/2.;\n",
      "\n",
      "print'%s %.2f %s '%('\\n Torque capacity = ',Tf,' in-lb.');\n",
      "n=2000.;\n",
      "##Power\n",
      "\n",
      "Pf=Tf*n/63000.;\n",
      "\n",
      "print'%s %.2f %s '%('\\n Power = ',Pf,' hp.');\n"
     ],
     "language": "python",
     "metadata": {},
     "outputs": [
      {
       "output_type": "stream",
       "stream": "stdout",
       "text": [
        "MACHINE DESIGN \n",
        " Timothy H. Wentzell, P.E. \n",
        " EXAMPLE-16.1 Page No.358\n",
        "\n",
        "\n",
        " Torque capacity =  378.00  in-lb. \n",
        "\n",
        " Power =  12.00  hp. \n"
       ]
      }
     ],
     "prompt_number": 1
    },
    {
     "cell_type": "heading",
     "level": 2,
     "metadata": {},
     "source": [
      "Ex2-pg359"
     ]
    },
    {
     "cell_type": "code",
     "collapsed": false,
     "input": [
      "import math\n",
      "\n",
      "print('MACHINE DESIGN \\n Timothy H. Wentzell, P.E. \\n EXAMPLE-16.2 Page No.359\\n');\n",
      "\n",
      "##Normal force\n",
      "W=100.;\n",
      "L=20.;\n",
      "a=4.;\n",
      "N=(W*L)/a;\n",
      "\n",
      "print'%s %.2f %s '%('\\n Normal force = ',N,' lb.');\n",
      "\n",
      "##Torque friction\n",
      "f=0.4;\n",
      "D=12.;\n",
      "Tf=f*N*D/2.;\n",
      "\n",
      "print'%s %.2f %s '%('\\n Torque friction = ',Tf,' in-lb.');\n"
     ],
     "language": "python",
     "metadata": {},
     "outputs": [
      {
       "output_type": "stream",
       "stream": "stdout",
       "text": [
        "MACHINE DESIGN \n",
        " Timothy H. Wentzell, P.E. \n",
        " EXAMPLE-16.2 Page No.359\n",
        "\n",
        "\n",
        " Normal force =  500.00  lb. \n",
        "\n",
        " Torque friction =  1200.00  in-lb. \n"
       ]
      }
     ],
     "prompt_number": 2
    },
    {
     "cell_type": "heading",
     "level": 2,
     "metadata": {},
     "source": [
      "Ex3-pg360"
     ]
    },
    {
     "cell_type": "code",
     "collapsed": false,
     "input": [
      "import math\n",
      "\n",
      "print('MACHINE DESIGN \\n Timothy H. Wentzell, P.E. \\n EXAMPLE-16.3 Page No.360\\n');\n",
      "\n",
      "##For alpha=20 deg.\n",
      "alpha=20.*(math.pi/180.);\n",
      "f=0.35;\n",
      "rm=12./2.;\n",
      "Fa=75.;\n",
      "Tf=(f*rm*Fa)/(math.sin(alpha)+f*math.cos(alpha));\n",
      "\n",
      "print'%s %.2f %s '%('\\n Torque capacity (alpha=20 deg.) = ',Tf,' in-lb.');\n",
      "\n",
      "##For alpha=10 deg.\n",
      "alpha=10.*(math.pi/180.);\n",
      "Tf=(f*rm*Fa)/(math.sin(alpha)+f*math.cos(alpha));\n",
      "\n",
      "print'%s %.2f %s '%('\\n Torque capacity (alpha=10 deg.) = ',Tf,' in-lb.');\n"
     ],
     "language": "python",
     "metadata": {},
     "outputs": [
      {
       "output_type": "stream",
       "stream": "stdout",
       "text": [
        "MACHINE DESIGN \n",
        " Timothy H. Wentzell, P.E. \n",
        " EXAMPLE-16.3 Page No.360\n",
        "\n",
        "\n",
        " Torque capacity (alpha=20 deg.) =  234.75  in-lb. \n",
        "\n",
        " Torque capacity (alpha=10 deg.) =  303.86  in-lb. \n"
       ]
      }
     ],
     "prompt_number": 3
    },
    {
     "cell_type": "heading",
     "level": 2,
     "metadata": {},
     "source": [
      "Ex4-pg361"
     ]
    },
    {
     "cell_type": "code",
     "collapsed": false,
     "input": [
      "import math\n",
      "\n",
      "print('MACHINE DESIGN \\n Timothy H. Wentzell, P.E. \\n EXAMPLE-16.4 Page No.361\\n');\n",
      "\n",
      "##Stopping rate\n",
      "V=60.*5280./3600.;\n",
      "Va=0.5*V;\n",
      "D=400.;\n",
      "t=D/Va;\n",
      "a=V/t;\n",
      "\n",
      "print'%s %.2f %s '%('\\n Stopping rate = ',a,' ft/sec^2.');\n",
      "\n",
      "##Stopping force\n",
      "W=40000.;\n",
      "g=32.2;\n",
      "F=W*a/g;\n",
      "\n",
      "##Torque\n",
      "r=36./2.;\n",
      "T=F*r;\n",
      "\n",
      "print'%s %.2f %s '%('\\n Torque = ',T,' in-lb.');\n",
      "\n",
      "##For each wheel\n",
      "T=T/10.;\n",
      "\n",
      "##Braking normal force\n",
      "rm=10.;\n",
      "f=0.4;\n",
      "N=T/(f*rm);\n",
      "\n",
      "print'%s %.2f %s '%('\\n Braking normal force = ',N,' lb.');\n",
      "\n",
      "##Note-There is an error in the answer given in textbook\n"
     ],
     "language": "python",
     "metadata": {},
     "outputs": [
      {
       "output_type": "stream",
       "stream": "stdout",
       "text": [
        "MACHINE DESIGN \n",
        " Timothy H. Wentzell, P.E. \n",
        " EXAMPLE-16.4 Page No.361\n",
        "\n",
        "\n",
        " Stopping rate =  9.68  ft/sec^2. \n",
        "\n",
        " Torque =  216447.20  in-lb. \n",
        "\n",
        " Braking normal force =  5411.18  lb. \n"
       ]
      }
     ],
     "prompt_number": 4
    },
    {
     "cell_type": "heading",
     "level": 2,
     "metadata": {},
     "source": [
      "Ex5-pg365"
     ]
    },
    {
     "cell_type": "code",
     "collapsed": false,
     "input": [
      "import math\n",
      " \n",
      "print('MACHINE DESIGN \\n Timothy H. Wentzell, P.E. \\n EXAMPLE-16.5 Page No.365\\n');\n",
      "W=3500.;\n",
      "V=73.;\n",
      "g=32.2;\n",
      "V=50.*5280./3600.;\n",
      "V=round(V);\n",
      "\n",
      "##Kinetic energy to be absorbed\n",
      "KE=W*V**2/(2.*g);\n",
      "\n",
      "print'%s %.2f %s '%('\\n Kinetic energy to be absorbed = ',KE,' ft-lb.');\n",
      "\n",
      "##Temperature rise\n",
      "Uf=KE;\n",
      "Wb=40.;\n",
      "c=93.;\n",
      "deltaT=Uf/(Wb*c);\n",
      "\n",
      "print'%s %.2f %s '%('\\n Temperature rise = ',deltaT,' deg.');\n",
      "\n",
      "##Stopping time\n",
      "a=20.;\n",
      "t=V/a;\n",
      "\n",
      "print'%s %.2f %s '%('\\n Stopping time = ',t,' sec.');\n",
      "\n",
      "##Frictional power\n",
      "t=round(t*10.)/10.;\n",
      "fhp=Uf/(550.*t);\n",
      "\n",
      "print'%s %.2f %s '%('\\n Frictional power = ',fhp,' hp.')\n"
     ],
     "language": "python",
     "metadata": {},
     "outputs": [
      {
       "output_type": "stream",
       "stream": "stdout",
       "text": [
        "MACHINE DESIGN \n",
        " Timothy H. Wentzell, P.E. \n",
        " EXAMPLE-16.5 Page No.365\n",
        "\n",
        "\n",
        " Kinetic energy to be absorbed =  289619.57  ft-lb. \n",
        "\n",
        " Temperature rise =  77.85  deg. \n",
        "\n",
        " Stopping time =  3.65  sec. \n",
        "\n",
        " Frictional power =  142.32  hp. \n"
       ]
      }
     ],
     "prompt_number": 5
    }
   ],
   "metadata": {}
  }
 ]
}