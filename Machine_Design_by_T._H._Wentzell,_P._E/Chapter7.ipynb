{
 "metadata": {
  "name": "",
  "signature": "sha256:b7f52fd241ce8535a82335bfa31e1c6f3b490261728359c13ad5732a698aa8c6"
 },
 "nbformat": 3,
 "nbformat_minor": 0,
 "worksheets": [
  {
   "cells": [
    {
     "cell_type": "heading",
     "level": 1,
     "metadata": {},
     "source": [
      "Chapter7-Impact and Energy Analysis "
     ]
    },
    {
     "cell_type": "heading",
     "level": 2,
     "metadata": {},
     "source": [
      "Ex1-pg137"
     ]
    },
    {
     "cell_type": "code",
     "collapsed": false,
     "input": [
      "import math\n",
      "\n",
      "print('MACHINE DESIGN \\n Timothy H. Wentzell, P.E. \\n EXAMPLE-7.1 Page No.137\\n');\n",
      "\n",
      "D=2.;                  ##[in] Diameter of bar\n",
      "W=500.;                ##[lb] Weight\n",
      "h=1.;                  ##[in] Height from which the weight falls\n",
      "A=math.pi*D**2/4.;          ##[in^2] Area of cross section of bar\n",
      "L=10.;                 ##[in] Length of bar\n",
      "E=30*10**6;            ##[lb/in^2] Modulus of elasticity\n",
      "\n",
      "S=(W/A)+(W/A)*(1.+(2.*h*E*A/(L*W)))**(0.5);  ##[lb/in^2] Stress in the bar\n",
      "\n",
      "print'%s %.2f %s '%('\\n Stress in the bar is ',S,' lb/in^2.');\n",
      "\n",
      "Delta=S*L/E;          ##[in] Deflection\n",
      "\n",
      "print'%s %.2f %s '%('\\n Deflecton in the bar is ',Delta,' in.');\n"
     ],
     "language": "python",
     "metadata": {},
     "outputs": [
      {
       "output_type": "stream",
       "stream": "stdout",
       "text": [
        "MACHINE DESIGN \n",
        " Timothy H. Wentzell, P.E. \n",
        " EXAMPLE-7.1 Page No.137\n",
        "\n",
        "\n",
        " Stress in the bar is  31061.50  lb/in^2. \n",
        "\n",
        " Deflecton in the bar is  0.01  in. \n"
       ]
      }
     ],
     "prompt_number": 1
    },
    {
     "cell_type": "heading",
     "level": 2,
     "metadata": {},
     "source": [
      "Ex2-pg139"
     ]
    },
    {
     "cell_type": "code",
     "collapsed": false,
     "input": [
      "import math\n",
      "\n",
      "print('MACHINE DESIGN \\n Timothy H. Wentzell, P.E. \\n EXAMPLE-7.2 Page No.139\\n');\n",
      "\n",
      "W=2000.;             ##[lb] Weight of automobile\n",
      "L=36.;               ##[in] Length of stop\n",
      "D=2.;                ##[in] Diameter of steel bar\n",
      "V=5.*5280.*12./3600.;   ##[in/s] Velocity of automobile\n",
      "\n",
      "A=math.pi*D**2/4.;        ##[in^2] Area of cross section of bar\n",
      "E=30.*10**6;          ##[lb/in^2] Modulus of elasticity\n",
      "\n",
      "k=A*E/L;            ##[lb/in] Stiffness of the bar\n",
      "g=386.;              ##[in/s^2] Acceleration due to gravity\n",
      "\n",
      "Delta=math.sqrt(2./k*W*(V**2./(2.*g)+0.));  ##[in] Deflection\n",
      "\n",
      "print'%s %.2f %s '%('\\n The deflection in the bar is ',Delta,' in.');\n",
      "\n",
      "S=Delta*E/L;        ##[in] Stress in the bar\n",
      "\n",
      "##Note-In the book Delta=0.124 is used instead of Delta=0.123800\n",
      "\n",
      "print'%s %.2f %s '%('\\n The stress in the bar is ',S,' lb/in^2.');\n"
     ],
     "language": "python",
     "metadata": {},
     "outputs": [
      {
       "output_type": "stream",
       "stream": "stdout",
       "text": [
        "MACHINE DESIGN \n",
        " Timothy H. Wentzell, P.E. \n",
        " EXAMPLE-7.2 Page No.139\n",
        "\n",
        "\n",
        " The deflection in the bar is  0.12  in. \n",
        "\n",
        " The stress in the bar is  103166.44  lb/in^2. \n"
       ]
      }
     ],
     "prompt_number": 2
    },
    {
     "cell_type": "heading",
     "level": 2,
     "metadata": {},
     "source": [
      "Ex3-pg141"
     ]
    },
    {
     "cell_type": "code",
     "collapsed": false,
     "input": [
      "import math\n",
      "\n",
      "print('MACHINE DESIGN \\n Timothy H. Wentzell, P.E. \\n EXAMPLE-7.3 Page No.141\\n');\n",
      "\n",
      "W=3000.;                ##[lb] Weight of automobile\n",
      "L=40*12;               ##[in] Length of the beam\n",
      "I=64.2;                ##[in^4] Moment of inertia of the beam\n",
      "Sy=48000.;              ##[lb/in^2] Yield strength of the beam\n",
      "c=8/2.;                 ##[in] Distance from the outermost fiber to neutral axis\n",
      "E=30.*10**6;             ##[lb/in^2] Modulus of elasticity\n",
      "g=32.2;                ##[ft/s^2] Acceleration due to gravity\n",
      "\n",
      "M=I*Sy/c;              ##[lb*in] Moment at which beam will yield\n",
      "F=4.*M/L;               ##[lb] Force at which beam will yield\n",
      "\n",
      "Delta=F*L**3/(48.*E*I);  ##[in] Deflection\n",
      "KE=F*Delta/2.;          ##[lb*in] Kinetic energy\n",
      "\n",
      "V=math.sqrt(2.*g*KE/W);      ##[in/s] Velocity\n",
      "V=V/5280.*3600.;         ##[miles/hr] Velocity\n",
      "\n",
      "print'%s %.2f %s '%('\\n At ',V,' miles/hr velocity the beam will yield.');\n"
     ],
     "language": "python",
     "metadata": {},
     "outputs": [
      {
       "output_type": "stream",
       "stream": "stdout",
       "text": [
        "MACHINE DESIGN \n",
        " Timothy H. Wentzell, P.E. \n",
        " EXAMPLE-7.3 Page No.141\n",
        "\n",
        "\n",
        " At  15.68  miles/hr velocity the beam will yield. \n"
       ]
      }
     ],
     "prompt_number": 3
    },
    {
     "cell_type": "heading",
     "level": 2,
     "metadata": {},
     "source": [
      "Ex4-pg143"
     ]
    },
    {
     "cell_type": "code",
     "collapsed": false,
     "input": [
      "import math\n",
      "import numpy\n",
      "\n",
      "print('MACHINE DESIGN \\n Timothy H. Wentzell, P.E. \\n EXAMPLE-7.4 Page No.143\\n');\n",
      "\n",
      "D=3/4.;                ##[in] Diameter of the bolt\n",
      "At=0.334;             ##[in^2] Area of thread\n",
      "As=math.pi*D**2/4.;         ##[in^2] Area of shank\n",
      "\n",
      "##Note-In the book As=0.442 in^2 is used instead of As=0.4417865 in.\n",
      "\n",
      "E=30*10**6;            ##[lb/in^2] Modulus of elasticity\n",
      "Lt=2.;                 ##[in] Length of the thread\n",
      "Ls=6.;                 ##[in] Length of the shank\n",
      "h=0.03;               ##[in] Height from which the weight falls\n",
      "W=500.;                ##[lb] Falling load\n",
      "\n",
      "Kt=At*E/Lt;           ##[lb/in] Stiffness of threaded portion\n",
      "Ks=As*E/Ls;           ##[lb/in] Stiffness of shank\n",
      "\n",
      "K=Kt*Ks/(Kt+Ks);      ##[lb/in] Overall stiffness\n",
      "\n",
      "Delta=(W/K)+(W/K)*math.sqrt(1.+2.*h*K/W); ##[in] Deflection\n",
      "\n",
      "A=numpy.matrix([[Ls/E, Lt/E], [0.442, -0.334]]);\n",
      "b=numpy.matrix([[Delta] ,[0]]);\n",
      "S=A/b\n",
      "\n",
      "\n",
      "Ln=8.;               ##[in] Length when shank has same area as threads\n",
      "Kn=At*E/Ln;         ##[lb/in] Stiffness\n",
      "Deltan=(W/Kn)+(W/Kn)*math.sqrt(1.+2.*h*Kn/W);  ##[in] Deflection\n",
      "S=Deltan*E/Ln;      ##[ln/in^2] Stress\n",
      "\n",
      "print'%s %.2f %s %.2f %s '%('\\n If shank has the same area as threads then stress is ',S,' lb/in^2 and deflection is ',Deltan,' in.');\n",
      "\n",
      "\n",
      "\n",
      "\n",
      "\n",
      "\n"
     ],
     "language": "python",
     "metadata": {},
     "outputs": [
      {
       "output_type": "stream",
       "stream": "stdout",
       "text": [
        "MACHINE DESIGN \n",
        " Timothy H. Wentzell, P.E. \n",
        " EXAMPLE-7.4 Page No.143\n",
        "\n",
        "\n",
        " If shank has the same area as threads then stress is  19910.79  lb/in^2 and deflection is  0.01  in. \n"
       ]
      }
     ],
     "prompt_number": 9
    }
   ],
   "metadata": {}
  }
 ]
}