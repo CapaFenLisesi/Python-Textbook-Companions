{
 "metadata": {
  "name": "",
  "signature": "sha256:a8a63cc2515e1525ed77022e1ebce23141b45875572a749acb7cb29ba73ced4d"
 },
 "nbformat": 3,
 "nbformat_minor": 0,
 "worksheets": [
  {
   "cells": [
    {
     "cell_type": "heading",
     "level": 1,
     "metadata": {},
     "source": [
      "Chapter5-Repeated Loading"
     ]
    },
    {
     "cell_type": "heading",
     "level": 2,
     "metadata": {},
     "source": [
      "Ex1-pg93"
     ]
    },
    {
     "cell_type": "code",
     "collapsed": false,
     "input": [
      "import math\n",
      "\n",
      "print('MACHINE DESIGN \\n Timothy H. Wentzell, P.E. \\n EXAMPLE-5.1 Page No.93\\n');\n",
      "\n",
      "SF=2.;                     ##[] Safety factor\n",
      "F=500.;                    ##[lb] Load\n",
      "L=40.;                     ##[in] Length of shaft\n",
      "Su=95000.;                 ##[lb/in^2] Ultimate strength (Appendix 4)\n",
      "Sy=60000.;                 ##[lb/in^2] Yield strength (Appendix 4)\n",
      "\n",
      "Mmax=F*L/4.;               ##[lb*in] Maximum bending moment\n",
      "Mmin=-F*L/4.;              ##[lb/in^2] Minimum bending moment\n",
      "\n",
      "Csurface=1;               ##[] As surface is polished\n",
      "Csize=0.85;               ##[] Assuming 0.5<D<2\n",
      "Ctype=1;                  ##[] Bending stress\n",
      "\n",
      "Sn=Csize*Csurface*Ctype*(0.5*Su); ##[lb/in^2] Endurance limit\n",
      "\n",
      "if Mmax==abs(Mmin):\n",
      "    Sm=0;                ##[lb/in^2] Mean stress\n",
      "\n",
      "\n",
      "Sa=Sn/SF;                ##[lb/in^2] As (1/SF)=(Sm/Sy)+(Sa/Sn) from soderberg equation\n",
      "\n",
      "Sa_Z=(Mmax-Mmin)/2.;      ##[lb*in^2] Product of altenating stress and section modulus\n",
      "\n",
      "Z=Sa_Z/Sa;               ##[in^4] Section modulus\n",
      "\n",
      "D=(32.*Z/math.pi)**(1./3.);      ##[in] Diameter of shaft\n",
      "\n",
      "D1=1.375;                ##[in] Next higher available is 1.375 in. so use D1\n",
      "\n",
      "print'%s %.2f %s '%('\\n The required diameter of rotating shaft is ',D1,' in.');\n"
     ],
     "language": "python",
     "metadata": {},
     "outputs": [
      {
       "output_type": "stream",
       "stream": "stdout",
       "text": [
        "MACHINE DESIGN \n",
        " Timothy H. Wentzell, P.E. \n",
        " EXAMPLE-5.1 Page No.93\n",
        "\n",
        "\n",
        " The required diameter of rotating shaft is  1.38  in. \n"
       ]
      }
     ],
     "prompt_number": 1
    },
    {
     "cell_type": "heading",
     "level": 2,
     "metadata": {},
     "source": [
      "Ex2-pg95"
     ]
    },
    {
     "cell_type": "code",
     "collapsed": false,
     "input": [
      "import math\n",
      " \n",
      "print('MACHINE DESIGN \\n Timothy H. Wentzell, P.E. \\n EXAMPLE-5.2 Page No.95\\n');\n",
      "\n",
      "Su=90000.;                  ##[lb/in^2] Ultimate strength (Appendix 8)\n",
      "Sy=37000.;                  ##[lb/in^2] Yield strength (Appendix 8)\n",
      "Sni=34000.;                 ##[lb/in^2] Endurance limit (Appendix 8)\n",
      "SF=1.6;                    ##[] Safety factor\n",
      "\n",
      "F=1000.;                    ##[lb] Load\n",
      "L=12.;                      ##[in] Length of cantilever beam\n",
      "\n",
      "Mmax=F*L;                  ##[lb*in] Maximum bending moment\n",
      "Mmin=0.;                    ##[lb*in] Minimum bending moment\n",
      "\n",
      "Csize=0.85                 ##[] Assuming 0.5<D<2 in\n",
      "Ctype=1.;                   ##[] Bending stress\n",
      "Csurface=1.;                ##[] As surface is polished\n",
      "\n",
      "Malt=(Mmax-Mmin)/2.;        ##[lb*in] Alternating bending moment\n",
      "\n",
      "Mmean=(Mmax+Mmin)/2.;       ##[lb*in] Mean bending moment\n",
      "\n",
      "Sn=Csize*Csurface*Ctype*Sni; ##[lb/in^2] Modified endurance limit\n",
      "\n",
      "Z=((Mmean/Sy)+(Malt/Sn))*SF; ##[in^3] Section modulus\n",
      "\n",
      "D=(32.*(Z)/math.pi)**(1./3.);        ##[in] Diameter of bar\n",
      "\n",
      "print'%s %.2f %s '%('\\n The required diameter of bar using the soderberg method is ',D,' in.');\n"
     ],
     "language": "python",
     "metadata": {},
     "outputs": [
      {
       "output_type": "stream",
       "stream": "stdout",
       "text": [
        "MACHINE DESIGN \n",
        " Timothy H. Wentzell, P.E. \n",
        " EXAMPLE-5.2 Page No.95\n",
        "\n",
        "\n",
        " The required diameter of bar using the soderberg method is  1.82  in. \n"
       ]
      }
     ],
     "prompt_number": 2
    },
    {
     "cell_type": "heading",
     "level": 2,
     "metadata": {},
     "source": [
      "Ex3-pg97"
     ]
    },
    {
     "cell_type": "code",
     "collapsed": false,
     "input": [
      "import math\n",
      "\n",
      "print('MACHINE DESIGN \\n Timothy H. Wentzell, P.E. \\n EXAMPLE-5.3 Page No.97\\n');\n",
      "\n",
      "Su=90000.;                  ##[lb/in^2] Ultimate strength (Appendix 8)\n",
      "Sy=37000.;                  ##[lb/in^2] Yield strength (Appendix 8)\n",
      "Sni=34000.;                 ##[lb/in^2] Endurance limit (Appendix 8)\n",
      "SF=1.6;                    ##[] Safety factor\n",
      "\n",
      "F=1000.;                    ##[lb] Load\n",
      "L=12.;                      ##[in] Length of cantilever beam\n",
      "\n",
      "Mmax=F*L;                  ##[lb*in] Maximum bending moment\n",
      "Mmin=0.;                    ##[lb*in] Minimum bending moment\n",
      "\n",
      "Csize=0.85                 ##[] Assuming 0.5<D<2 in\n",
      "Ctype=1.;                   ##[] Bending stress\n",
      "Csurface=1.;                ##[] As surface is polished\n",
      "\n",
      "Malt=(Mmax-Mmin)/2.;        ##[lb*in] Alternating bending moment\n",
      "\n",
      "Mmean=(Mmax+Mmin)/2.;       ##[lb*in] Mean bending moment\n",
      "\n",
      "Sn=Csize*Csurface*Ctype*Sni; ##[lb/in^2] Modified endurance limit\n",
      "\n",
      "Z=((Mmean/Su)+(Malt/Sn))*SF; ##[in^3] Section modulus\n",
      "\n",
      "D=(32.*(Z)/math.pi)**(1/3.);        ##[in] Diameter of bar\n",
      "\n",
      "print'%s %.2f %s '%('\\n The required diameter of bar using the soderberg method is ',D,' in.');\n",
      "\n",
      "##Note that the modified Goodman results in a less conservative size as would be expected from figure 5.10\n"
     ],
     "language": "python",
     "metadata": {},
     "outputs": [
      {
       "output_type": "stream",
       "stream": "stdout",
       "text": [
        "MACHINE DESIGN \n",
        " Timothy H. Wentzell, P.E. \n",
        " EXAMPLE-5.3 Page No.97\n",
        "\n",
        "\n",
        " The required diameter of bar using the soderberg method is  1.65  in. \n"
       ]
      }
     ],
     "prompt_number": 3
    },
    {
     "cell_type": "heading",
     "level": 2,
     "metadata": {},
     "source": [
      "Ex4-pg98"
     ]
    },
    {
     "cell_type": "code",
     "collapsed": false,
     "input": [
      "import math\n",
      "\n",
      "print('MACHINE DESIGN \\n Timothy H. Wentzell, P.E. \\n EXAMPLE-5.4 Page No.98\\n');\n",
      "\n",
      "Su=95000.;              ##[lb/in^2] Ultimate strength\n",
      "Sy=60000.;              ##[lb/in^2] Yield strength\n",
      "SF=1.5;                ##[] Safety factor\n",
      "\n",
      "Fmax=1000.;            ##[lb] Maximum load\n",
      "Fmin=-6000.;           ##[lb] Minimum load\n",
      "\n",
      "Fmean=(Fmax+Fmin)/2.;   ##[lb] Mean load\n",
      "Fmean=abs(Fmean);      ##[lb] Considering absolute value\n",
      "Falt=(Fmax-Fmin)/2.;    ##[lb] Alternating load\n",
      "\n",
      "Csize=1.                ##[] Assuming b<0.5 in\n",
      "Ctype=0.8              ##[] Axial stress\n",
      "Csurface=0.86          ##[] Machined surface Figure 5.7b\n",
      "\n",
      "Sn=Csize*Csurface*Ctype*(0.5*Su); ##[lb/in^2] Modified endurance limit\n",
      "\n",
      "A=((Fmean/Sy)+(Falt/Sn))*SF;      ##[in^2] Area of cross section of rod\n",
      "\n",
      "b=math.sqrt(A);                        ##[in] Side of square cross section\n",
      "\n",
      "print'%s %.2f %s '%('\\n The required square size in the center section is ',b,' in.');\n"
     ],
     "language": "python",
     "metadata": {},
     "outputs": [
      {
       "output_type": "stream",
       "stream": "stdout",
       "text": [
        "MACHINE DESIGN \n",
        " Timothy H. Wentzell, P.E. \n",
        " EXAMPLE-5.4 Page No.98\n",
        "\n",
        "\n",
        " The required square size in the center section is  0.47  in. \n"
       ]
      }
     ],
     "prompt_number": 4
    },
    {
     "cell_type": "heading",
     "level": 2,
     "metadata": {},
     "source": [
      "Ex5-pg100"
     ]
    },
    {
     "cell_type": "code",
     "collapsed": false,
     "input": [
      "import math\n",
      " \n",
      "print('MACHINE DESIGN \\n Timothy H. Wentzell, P.E. \\n EXAMPLE-5.5 Page No.100\\n');\n",
      "\n",
      "Su=80000.;                 ##[lb/in^2] Ultimate strength\n",
      "Sy=71000.;                 ##[lb/in^2] Yield strength\n",
      "\n",
      "D=0.6;                    ##[in] Diameter of shaft\n",
      "d=0.5;                    ##[in] Diameter of shaft at notch\n",
      "r=0.05;                   ##[in] Radius of notch\n",
      "Z=math.pi*d**3/16.;             ##[in^3] Polar section modulus\n",
      "Tmax=200.;                 ##[lb*in] Maximum load\n",
      "Tmin=0.;                   ##[lb*in] Minimum load\n",
      "\n",
      "Smax=Tmax/Z;              ##[lb/in^2] Maximum stress\n",
      "Smin=Tmin/Z;              ##[lb/in^2] Minimum stress\n",
      "\n",
      "Smean=(Smax+Smin)/2.;      ##[lb/in^2] Mean stress\n",
      "Salt=(Smax-Smin)/2.;       ##[lb/in^2] Alternating stress\n",
      "\n",
      "Csize=0.85;               ##[] Assume 0.5<D<2 in\n",
      "Csurface=0.88;            ##[] Machined surface Figure 5.7b\n",
      "Ctype=0.6;                ##[] Torsional stress\n",
      "\n",
      "Sn=Csize*Csurface*Ctype*(0.5*Su);  ##[lb/in^2] Modified endurance limit\n",
      "\n",
      "Kt=1.32;                  ##[] (D/d)=1.2, (r/d)=0.1 from Appendix 6c\n",
      "\n",
      "N=1/(Smean/(0.5*Sy)+Kt*Salt/Sn);  ##[] Safety factor\n",
      "\n",
      "print'%s %.2f %s '%('\\n The factor of safety for this design is ',N,'');\n"
     ],
     "language": "python",
     "metadata": {},
     "outputs": [
      {
       "output_type": "stream",
       "stream": "stdout",
       "text": [
        "MACHINE DESIGN \n",
        " Timothy H. Wentzell, P.E. \n",
        " EXAMPLE-5.5 Page No.100\n",
        "\n",
        "\n",
        " The factor of safety for this design is  2.41  \n"
       ]
      }
     ],
     "prompt_number": 5
    },
    {
     "cell_type": "heading",
     "level": 2,
     "metadata": {},
     "source": [
      "Ex6-pg102"
     ]
    },
    {
     "cell_type": "code",
     "collapsed": false,
     "input": [
      "import math\n",
      "\n",
      "print('MACHINE DESIGN \\n Timothy H. Wentzell, P.E. \\n EXAMPLE-5.6 Page No.102\\n');\n",
      "\n",
      "##From Example Problem 5.5\n",
      "Sy=71000.;                 ##[lb/in^2] Yield strength\n",
      "Smax=8148.7331 ;          ##[lb/in^2] Maximum stress\n",
      "Smin=0.;                   ##[lb/in^2] Minimum stress\n",
      "Smean=(Smax+Smin)/2.;      ##[lb/in^2] Mean stress\n",
      "Salt=(Smax-Smin)/2.;       ##[lb/in^2] Alternating stress\n",
      "Sn=18000.;                 ##[lb/in^2] Modified endurance strength\n",
      "Kt=1.32                   ##[] Stress concentration factor\n",
      "\n",
      "Nd=100000.;                ##[cycles] Desired life\n",
      "\n",
      "Snn=Sn*(10**6/Nd)**0.09;          ##[lb/in^2]\n",
      "\n",
      "N=1/(Smean/(0.5*Sy)+Kt*Salt/Snn);  ##[] Factor of safety\n",
      "\n",
      "print'%s %.2f %s '%('\\n The new factor of safety for this condition is .',N,'');\n"
     ],
     "language": "python",
     "metadata": {},
     "outputs": [
      {
       "output_type": "stream",
       "stream": "stdout",
       "text": [
        "MACHINE DESIGN \n",
        " Timothy H. Wentzell, P.E. \n",
        " EXAMPLE-5.6 Page No.102\n",
        "\n",
        "\n",
        " The new factor of safety for this condition is . 2.80  \n"
       ]
      }
     ],
     "prompt_number": 6
    }
   ],
   "metadata": {}
  }
 ]
}