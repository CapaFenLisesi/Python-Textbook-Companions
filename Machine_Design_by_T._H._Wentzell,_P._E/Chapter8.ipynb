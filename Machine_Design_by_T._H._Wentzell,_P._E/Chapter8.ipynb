{
 "metadata": {
  "name": "",
  "signature": "sha256:5037d07eaadd647bb4bcc84b30ee35be55f0aa68af7fbc420af7f2ee7fee0915"
 },
 "nbformat": 3,
 "nbformat_minor": 0,
 "worksheets": [
  {
   "cells": [
    {
     "cell_type": "heading",
     "level": 1,
     "metadata": {},
     "source": [
      "Chapter8-Spring Design"
     ]
    },
    {
     "cell_type": "heading",
     "level": 2,
     "metadata": {},
     "source": [
      "Ex1-pg160"
     ]
    },
    {
     "cell_type": "code",
     "collapsed": false,
     "input": [
      "import math\n",
      "\n",
      "print('MACHINE DESIGN \\n Timothy H. Wentzell, P.E. \\n EXAMPLE-8.1 Page No.160\\n');\n",
      "\n",
      "Dm=0.625;            ##[in] Mean diameter of spring\n",
      "F=35.;              ##[lb] Load\n",
      "\n",
      "\n",
      "K=1.25;           ##[] Wahl factor for Dm/Dw=6.25 (figure 8.8)\n",
      "Q=190000.;         ##[lb/in^2] Expected ultimate strength \n",
      "\n",
      "LF=0.263;         ##[] Loading factor\n",
      "\n",
      "Dw=(K*8.*F*Dm/(LF*math.pi*Q))**(1/2.846); ##[in] Wire diameter\n",
      "\n",
      "print'%s %.2f %s '%('\\n The wire diameter of spring is ',Dw,' in.');\n",
      "\n",
      "##Use U.S Steel 12-gage wire: Dw=0.105 in.\n"
     ],
     "language": "python",
     "metadata": {},
     "outputs": [
      {
       "output_type": "stream",
       "stream": "stdout",
       "text": [
        "MACHINE DESIGN \n",
        " Timothy H. Wentzell, P.E. \n",
        " EXAMPLE-8.1 Page No.160\n",
        "\n",
        "\n",
        " The wire diameter of spring is  0.10  in. \n"
       ]
      }
     ],
     "prompt_number": 1
    },
    {
     "cell_type": "heading",
     "level": 2,
     "metadata": {},
     "source": [
      "Ex2-pg163"
     ]
    },
    {
     "cell_type": "code",
     "collapsed": false,
     "input": [
      "import math\n",
      "\n",
      "print('MACHINE DESIGN \\n Timothy H. Wentzell, P.E. \\n EXAMPLE-8.2 Page No.163\\n');\n",
      "\n",
      "Dw=0.105;          ##[in] Wire diameter\n",
      "Dm=0.620;          ##[in] Mean diameter of spring\n",
      "F=35.;              ##[lb] Load\n",
      "G=11.85*10**6;      ##[lb/in^2] Shear modulus of elasticity\n",
      "Delta=0.5;         ##[in] Deflection\n",
      "\n",
      "Na=Delta*G*Dw**4./(8.*F*Dm**3); ##[] Number of active coils\n",
      "\n",
      "Nat=Na+2.;          ##[] Total number of coils\n",
      "\n",
      "Lf=2.;              ##[in] Free length of spring\n",
      "\n",
      "P=(Lf-2.*Dw)/Nat;   ##[in] Pitch (Table 8.1)\n",
      "\n",
      "print'%s %.2f %s '%('\\n Pitch is ',P,' in.');\n",
      "\n",
      "k=G*Dw**4./(8.*Dm**3*Na); ##[lb/in] Spring rate\n",
      "\n",
      "print'%s %.2f %s '%('\\n Spring rate is ',k,' lb/in.');\n",
      "\n",
      "print'%s %.2f %s '%('\\n The total number of coils necessary to meet design criteria are .',Nat,'');\n",
      "\n",
      "##Note: The deviation of answer from the answer given in the book is due to round off error.(In the book values are rounded while in scilab actual values are taken)\n",
      "\n",
      "##Note: The deviation of answer from the answer given in the book is due to round off error.(In the book values are rounded while in scilab actual values are taken)\n"
     ],
     "language": "python",
     "metadata": {},
     "outputs": [
      {
       "output_type": "stream",
       "stream": "stdout",
       "text": [
        "MACHINE DESIGN \n",
        " Timothy H. Wentzell, P.E. \n",
        " EXAMPLE-8.2 Page No.163\n",
        "\n",
        "\n",
        " Pitch is  0.14  in. \n",
        "\n",
        " Spring rate is  70.00  lb/in. \n",
        "\n",
        " The total number of coils necessary to meet design criteria are . 12.79  \n"
       ]
      }
     ],
     "prompt_number": 2
    },
    {
     "cell_type": "heading",
     "level": 2,
     "metadata": {},
     "source": [
      "Ex3-pg165"
     ]
    },
    {
     "cell_type": "code",
     "collapsed": false,
     "input": [
      "import math\n",
      "\n",
      "print('MACHINE DESIGN \\n Timothy H. Wentzell, P.E. \\n EXAMPLE-8.3 Page No.165\\n');\n",
      "Lf=2.;            ##[in] Free length of spring\n",
      "Dm=0.620;        ##[in] Mean diameter of spring\n",
      "\n",
      "R=Lf/Dm;         ##[] Free lengtth to mean diameter ratio\n",
      "\n",
      "print'%s %.2f %s '%('\\n The ratio of the free length of spring to mean diameter of spring is .',R,'');\n",
      "print(' From Figure 8.9 for squared and ground ends, this is a stable spring.');\n"
     ],
     "language": "python",
     "metadata": {},
     "outputs": [
      {
       "output_type": "stream",
       "stream": "stdout",
       "text": [
        "MACHINE DESIGN \n",
        " Timothy H. Wentzell, P.E. \n",
        " EXAMPLE-8.3 Page No.165\n",
        "\n",
        "\n",
        " The ratio of the free length of spring to mean diameter of spring is . 3.23  \n",
        " From Figure 8.9 for squared and ground ends, this is a stable spring.\n"
       ]
      }
     ],
     "prompt_number": 3
    },
    {
     "cell_type": "heading",
     "level": 2,
     "metadata": {},
     "source": [
      "Ex4-pg165"
     ]
    },
    {
     "cell_type": "code",
     "collapsed": false,
     "input": [
      "import math\n",
      "\n",
      "print('MACHINE DESIGN \\n Timothy H. Wentzell, P.E. \\n EXAMPLE-8.4 Page No.165\\n');\n",
      "\n",
      "F=35.;              ##[lb] Load\n",
      "k=73.3;            ##[lb/in] Spring rate\n",
      "\n",
      "x=F/k;             ##[in] Deflection \n",
      "\n",
      "print'%s %.2f %s '%('\\n The deflection in the spring would be ',x,' in.');\n"
     ],
     "language": "python",
     "metadata": {},
     "outputs": [
      {
       "output_type": "stream",
       "stream": "stdout",
       "text": [
        "MACHINE DESIGN \n",
        " Timothy H. Wentzell, P.E. \n",
        " EXAMPLE-8.4 Page No.165\n",
        "\n",
        "\n",
        " The deflection in the spring would be  0.48  in. \n"
       ]
      }
     ],
     "prompt_number": 4
    },
    {
     "cell_type": "heading",
     "level": 2,
     "metadata": {},
     "source": [
      "Ex5-pg166"
     ]
    },
    {
     "cell_type": "code",
     "collapsed": false,
     "input": [
      "import math\n",
      "\n",
      "print('MACHINE DESIGN \\n Timothy H. Wentzell, P.E. \\n EXAMPLE-8.5 Page No.166\\n');\n",
      "\n",
      "b=12.;                  ##[in] Width of plate\n",
      "h=1.;                   ##[in] Thickness of plate\n",
      "L=72.;                  ##[in] Length of plate\n",
      "I=b*h**3/12.;            ##[in^4] Moment of inertia\n",
      "\n",
      "Delta=4.;               ##[in] Deflection\n",
      "E=10*10**6;             ##[lb/in^2] Modulus of elasticity\n",
      "\n",
      "F=3.*Delta*E*I/L**3;     ##[lb] Force\n",
      "\n",
      "print'%s %.2f %s '%('\\n The force at this point is ',F,' lb.');\n",
      "\n",
      "k=F/Delta;             ##[lb/in] Stiffness\n",
      "\n",
      "print'%s %.2f %s '%('\\n stiffness is ',k,' lb/in.');\n",
      "\n",
      "##Note: The deviation of answer from the answer given in the book is due to round off error.(In the book values are rounded while in scilab actual values are taken)\n",
      "\n",
      "##Note: The deviation of answer from the answer given in the book is due to round off error.(In the book values are rounded while in scilab actual values are taken)\n"
     ],
     "language": "python",
     "metadata": {},
     "outputs": [
      {
       "output_type": "stream",
       "stream": "stdout",
       "text": [
        "MACHINE DESIGN \n",
        " Timothy H. Wentzell, P.E. \n",
        " EXAMPLE-8.5 Page No.166\n",
        "\n",
        "\n",
        " The force at this point is  321.50  lb. \n",
        "\n",
        " stiffness is  80.38  lb/in. \n"
       ]
      }
     ],
     "prompt_number": 5
    },
    {
     "cell_type": "heading",
     "level": 2,
     "metadata": {},
     "source": [
      "Ex6-pg167"
     ]
    },
    {
     "cell_type": "code",
     "collapsed": false,
     "input": [
      "import math\n",
      "\n",
      "print('MACHINE DESIGN \\n Timothy H. Wentzell, P.E. \\n EXAMPLE-8.6 Page No.167\\n');\n",
      "\n",
      "F=322.;             ##[lb] Force\n",
      "Delta=4.;           ##[in] Deflection\n",
      "\n",
      "U=F*Delta/2.;       ##[in*lb] Energy\n",
      "\n",
      "print'%s %.2f %s '%('\\n The energy from the 4-inch deflection was ',U,' lb*in.');\n"
     ],
     "language": "python",
     "metadata": {},
     "outputs": [
      {
       "output_type": "stream",
       "stream": "stdout",
       "text": [
        "MACHINE DESIGN \n",
        " Timothy H. Wentzell, P.E. \n",
        " EXAMPLE-8.6 Page No.167\n",
        "\n",
        "\n",
        " The energy from the 4-inch deflection was  644.00  lb*in. \n"
       ]
      }
     ],
     "prompt_number": 6
    }
   ],
   "metadata": {}
  }
 ]
}