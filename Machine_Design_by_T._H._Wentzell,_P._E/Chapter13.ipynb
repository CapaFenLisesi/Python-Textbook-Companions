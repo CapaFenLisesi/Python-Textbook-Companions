{
 "metadata": {
  "name": "",
  "signature": "sha256:20d03d91cc0494015d6c83c5241f9bec242e7bdca78f00cdb56a9459ce967c2b"
 },
 "nbformat": 3,
 "nbformat_minor": 0,
 "worksheets": [
  {
   "cells": [
    {
     "cell_type": "heading",
     "level": 1,
     "metadata": {},
     "source": [
      "Chapter13-Helical Bevel and Worm Gears"
     ]
    },
    {
     "cell_type": "heading",
     "level": 2,
     "metadata": {},
     "source": [
      "Ex1-pg280"
     ]
    },
    {
     "cell_type": "code",
     "collapsed": false,
     "input": [
      "import math\n",
      "\n",
      "print('MACHINE DESIGN \\n Timothy H. Wentzell, P.E. \\n EXAMPLE-13.1 Page No.280\\n');\n",
      "\n",
      "##Pitch-line velocity\n",
      "Nt=24.;\n",
      "Pd=12.;\n",
      "Dp=Nt/Pd;\n",
      "n=1750.;\n",
      "Vm=math.pi*Dp*n/12.;\n",
      "\n",
      "print'%s %.2f %s '%('\\n Pitch-line velocity = ',Vm,' ft/min.');\n",
      "\n",
      "##Transmitted force\n",
      "hp=5.;\n",
      "Ft=33000.*hp/Vm;\n",
      "\n",
      "print'%s %.2f %s '%('\\n Transmitted force = ',Ft,' lb.');\n",
      "\n",
      "##Axial force\n",
      "psi=15.*math.pi/180.;\n",
      "Fa=Ft*math.tan(psi);\n",
      "\n",
      "print'%s %.2f %s '%('\\n Axial force = ',Fa,' lb.');\n",
      "\n",
      "##Separating force\n",
      "theta=20.*math.pi/180.;\n",
      "psit=math.atan(math.tan(theta)/math.cos(psi));\n",
      "Fn=Ft*math.tan(psit);\n",
      "\n",
      "print'%s %.2f %s '%('\\n Separating force = ',Fn,' lb.');\n"
     ],
     "language": "python",
     "metadata": {},
     "outputs": [
      {
       "output_type": "stream",
       "stream": "stdout",
       "text": [
        "MACHINE DESIGN \n",
        " Timothy H. Wentzell, P.E. \n",
        " EXAMPLE-13.1 Page No.280\n",
        "\n",
        "\n",
        " Pitch-line velocity =  916.30  ft/min. \n",
        "\n",
        " Transmitted force =  180.07  lb. \n",
        "\n",
        " Axial force =  48.25  lb. \n",
        "\n",
        " Separating force =  67.85  lb. \n"
       ]
      }
     ],
     "prompt_number": 1
    },
    {
     "cell_type": "heading",
     "level": 2,
     "metadata": {},
     "source": [
      "Ex2-pg282"
     ]
    },
    {
     "cell_type": "code",
     "collapsed": false,
     "input": [
      "import math\n",
      "\n",
      "print('MACHINE DESIGN \\n Timothy H. Wentzell, P.E. \\n EXAMPLE-13.2 Page No.282\\n');\n",
      "\n",
      "##Normal plane pitch\n",
      "Pd=16.;\n",
      "psi=45.*math.pi/180;\n",
      "Pdn=Pd/math.cos(psi);\n",
      "\n",
      "print'%s %.2f %s '%('\\n Normal plane pitch =',Pdn,' in.');\n",
      "\n",
      "N=24.;\n",
      "S=30000.;\n",
      "b=0.5;\n",
      "Ne=N/math.cos(psi)**3;\n",
      "Y=0.427;\n",
      "Fs=S*b*Y/Pdn;\n",
      "\n",
      "print'%s %.2f %s '%('\\n Allowable force = ',Fs,' lb.');\n",
      "\n",
      "Dp=24./16.;\n",
      "n=600.;\n",
      "Vm=math.pi*Dp*n/12.;\n",
      "\n",
      "print'%s %.2f %s '%('\\n Surface speed = ',Vm,' ft/min.');\n",
      "\n",
      "Ft=Fs/((600.+Vm)/600.);\n",
      "\n",
      "print'%s %.2f %s '%('\\n Force transmitted = ',Ft,' lb.');\n",
      "\n",
      "P=Ft*Vm/33000.;\n",
      "\n",
      "print'%s %.2f %s '%('\\n Power rating = ',P,' hp.');\n",
      "\n",
      "##Note-There is an error in the answer given in textbook\n"
     ],
     "language": "python",
     "metadata": {},
     "outputs": [
      {
       "output_type": "stream",
       "stream": "stdout",
       "text": [
        "MACHINE DESIGN \n",
        " Timothy H. Wentzell, P.E. \n",
        " EXAMPLE-13.2 Page No.282\n",
        "\n",
        "\n",
        " Normal plane pitch = 22.63  in. \n",
        "\n",
        " Allowable force =  283.06  lb. \n",
        "\n",
        " Surface speed =  235.62  ft/min. \n",
        "\n",
        " Force transmitted =  203.25  lb. \n",
        "\n",
        " Power rating =  1.45  hp. \n"
       ]
      }
     ],
     "prompt_number": 2
    },
    {
     "cell_type": "heading",
     "level": 2,
     "metadata": {},
     "source": [
      "Ex3-pg286"
     ]
    },
    {
     "cell_type": "code",
     "collapsed": false,
     "input": [
      "import math\n",
      "\n",
      "print('MACHINE DESIGN \\n Timothy H. Wentzell, P.E. \\n EXAMPLE-13.3 Page No.286\\n');\n",
      "\n",
      "Np=24.;\n",
      "Ng=36.;\n",
      "Pd=8.;\n",
      "Yp=33.7*math.pi/180.;\n",
      "Yg=56.3*math.pi/180.;\n",
      "theta=14.5*math.pi/180.;\n",
      "\n",
      "##Pitch diameter\n",
      "Dp=Np/Pd;\n",
      "\n",
      "print'%s %.2f %s '%('\\n Pitch diameter = ',Dp,' in.');\n",
      "\n",
      "##Transmitted force\n",
      "n=2200.;\n",
      "P=8.;\n",
      "T=63000.*P/n;\n",
      "\n",
      "Ft=2.*T/Dp;\n",
      "\n",
      "print'%s %.2f %s '%('\\n Transmitted force = ',Ft,' lb.');\n",
      "\n",
      "##Separating force - Pinion\n",
      "Fnp=Ft*math.tan(theta)*math.cos(Yp);\n",
      "\n",
      "print'%s %.2f %s '%('\\n Separating force-Pinion = ',Fnp,' lb.');\n",
      "\n",
      "##Separating force-Gear\n",
      "Fng=Ft*math.tan(theta)*math.cos(Yg);\n",
      "\n",
      "print'%s %.2f %s '%('\\n Separating force = ',Fng,' lb.');\n",
      "\n",
      "##Axial force-Pinion\n",
      "Fap=Ft*math.tan(theta)*math.sin(Yp);\n",
      "\n",
      "print'%s %.2f %s '%('\\n Axial force-Pinion= ',Fap,' lb.');\n",
      "\n",
      "##Axial force-Gear\n",
      "Fag=Ft*math.tan(theta)*math.sin(Yg);\n",
      "\n",
      "print'%s %.2f %s '%('\\n Axial force-Gear = ',Fag,' lb.');\n"
     ],
     "language": "python",
     "metadata": {},
     "outputs": [
      {
       "output_type": "stream",
       "stream": "stdout",
       "text": [
        "MACHINE DESIGN \n",
        " Timothy H. Wentzell, P.E. \n",
        " EXAMPLE-13.3 Page No.286\n",
        "\n",
        "\n",
        " Pitch diameter =  3.00  in. \n",
        "\n",
        " Transmitted force =  152.73  lb. \n",
        "\n",
        " Separating force-Pinion =  32.86  lb. \n",
        "\n",
        " Separating force =  21.92  lb. \n",
        "\n",
        " Axial force-Pinion=  21.92  lb. \n",
        "\n",
        " Axial force-Gear =  32.86  lb. \n"
       ]
      }
     ],
     "prompt_number": 3
    },
    {
     "cell_type": "heading",
     "level": 2,
     "metadata": {},
     "source": [
      "Ex4-pg288"
     ]
    },
    {
     "cell_type": "code",
     "collapsed": false,
     "input": [
      "import math\n",
      "\n",
      "print('MACHINE DESIGN \\n Timothy H. Wentzell, P.E. \\n EXAMPLE-13.4 Page No.288\\n');\n",
      "\n",
      "##Pitch diameter\n",
      "Ng=60.;\n",
      "Pd=6.;\n",
      "Dp=Ng/Pd;\n",
      "\n",
      "print'%s %.2f %s '%('\\n Pitch diameter = ',Dp,' in.');\n",
      "\n",
      "##Circular pitch\n",
      "Pc=math.pi*Dp/Ng;\n",
      "\n",
      "print'%s %.2f %s '%('\\n Circular pitch = ',Pc,' in.');\n",
      "\n",
      "L=Pc;\n",
      "\n",
      "##Lead angle\n",
      "D=2.;\n",
      "LA=math.atan(L/(math.pi*D));\n",
      "LA=LA*180./math.pi;\n",
      "\n",
      "print'%s %.2f %s '%('\\n Lead angle = ',LA,' deg.');\n",
      "\n",
      "##Centerline distance\n",
      "CC=(D+Dp)/2.;\n",
      "\n",
      "print'%s %.2f %s '%('\\n Centerline distance = ',CC,' in.');\n",
      "\n",
      "##Velocity ratio\n",
      "Ntgear=60.;\n",
      "Nstarts_worm=1.;\n",
      "Vr=Ntgear/Nstarts_worm;\n",
      "\n",
      "print'%s %.2f %s '%('\\n Velocity ratio = ',Vr,'');\n",
      "\n",
      "##Output speed\n",
      "nin=1750.;\n",
      "nout=nin/Vr;\n",
      "\n",
      "print'%s %.2f %s '%('\\n Output speed = ',nout,' rpm.');\n"
     ],
     "language": "python",
     "metadata": {},
     "outputs": [
      {
       "output_type": "stream",
       "stream": "stdout",
       "text": [
        "MACHINE DESIGN \n",
        " Timothy H. Wentzell, P.E. \n",
        " EXAMPLE-13.4 Page No.288\n",
        "\n",
        "\n",
        " Pitch diameter =  10.00  in. \n",
        "\n",
        " Circular pitch =  0.52  in. \n",
        "\n",
        " Lead angle =  4.76  deg. \n",
        "\n",
        " Centerline distance =  6.00  in. \n",
        "\n",
        " Velocity ratio =  60.00  \n",
        "\n",
        " Output speed =  29.17  rpm. \n"
       ]
      }
     ],
     "prompt_number": 4
    },
    {
     "cell_type": "heading",
     "level": 2,
     "metadata": {},
     "source": [
      "Ex5-pg292"
     ]
    },
    {
     "cell_type": "code",
     "collapsed": false,
     "input": [
      "import math\n",
      "\n",
      "print('MACHINE DESIGN \\n Timothy H. Wentzell, P.E. \\n EXAMPLE-13.5 Page No.292\\n');\n",
      "\n",
      "##Normal circular pitch\n",
      "Pc=0.524;\n",
      "LA=4.77*math.pi/180.;\n",
      "Pcn=Pc*math.cos(LA);\n",
      "\n",
      "print'%s %.2f %s '%('\\n Normal circular pitch = ',Pcn,'in.');\n",
      "\n",
      "##Force transmitted\n",
      "hp=5.;\n",
      "n=29.2;\n",
      "T=63000.*hp/n;\n",
      "Dp=10.;\n",
      "Ft=2.*T/Dp;\n",
      "\n",
      "print'%s %.2f %s '%('\\n Force transmitted = ',Ft,' lb.');\n",
      "\n",
      "Vm=math.pi*Dp*n/12.;\n",
      "\n",
      "##Dynamic load\n",
      "Fd=(1200.+Vm)*Ft/1200.;\n",
      "\n",
      "print'%s %.2f %s '%('\\n Dynamic load = ',Fd,' lb.');\n",
      "\n",
      "##Force allowable\n",
      "Su=95.*10**3;\n",
      "Y=0.392;\n",
      "b=1.;\n",
      "Sn=0.5*Su;\n",
      "Fs=Sn*Y*b*Pcn/math.pi;\n",
      "\n",
      "print'%s %.2f %s '%('\\n Force allowable = ',Fs,' lb.');\n",
      "\n",
      "##Safty factor\n",
      "Nsf=Fs/Fd;\n",
      "\n",
      "print'%s %.2f %s '%('\\n Safty factor = ',Nsf,'');\n",
      "\n",
      "##Note-There is an error in the answer given in textbook\n"
     ],
     "language": "python",
     "metadata": {},
     "outputs": [
      {
       "output_type": "stream",
       "stream": "stdout",
       "text": [
        "MACHINE DESIGN \n",
        " Timothy H. Wentzell, P.E. \n",
        " EXAMPLE-13.5 Page No.292\n",
        "\n",
        "\n",
        " Normal circular pitch =  0.52 in. \n",
        "\n",
        " Force transmitted =  2157.53  lb. \n",
        "\n",
        " Dynamic load =  2294.98  lb. \n",
        "\n",
        " Force allowable =  3094.95  lb. \n",
        "\n",
        " Safty factor =  1.35  \n"
       ]
      }
     ],
     "prompt_number": 5
    },
    {
     "cell_type": "heading",
     "level": 2,
     "metadata": {},
     "source": [
      "Ex6-pg294"
     ]
    },
    {
     "cell_type": "code",
     "collapsed": false,
     "input": [
      "import math\n",
      "\n",
      "print('MACHINE DESIGN \\n Timothy H. Wentzell, P.E. \\n EXAMPLE-13.6 Page No.294\\n');\n",
      "\n",
      "##Efficiency\n",
      "LA=4.77*math.pi/180.;\n",
      "f=0.03;\n",
      "e=math.tan(LA)*(1-f*math.tan(LA))/(f+math.tan(LA));\n",
      "\n",
      "print'%s %.2f %s '%('\\n Efficiency =  ',e,'');\n",
      "\n",
      "##Torque input\n",
      "hp=5.;\n",
      "n=1750.;\n",
      "T=63000.*hp/n;\n",
      "\n",
      "print'%s %.2f %s '%('\\n Torque input = ',T,' in-lb.');\n",
      "\n",
      "Vr=60.;\n",
      "Tout=0.73*Vr*T;\n",
      "\n",
      "print'%s %.2f %s '%('\\n Output torque = ',Tout,' in-lb.');\n"
     ],
     "language": "python",
     "metadata": {},
     "outputs": [
      {
       "output_type": "stream",
       "stream": "stdout",
       "text": [
        "MACHINE DESIGN \n",
        " Timothy H. Wentzell, P.E. \n",
        " EXAMPLE-13.6 Page No.294\n",
        "\n",
        "\n",
        " Efficiency =   0.73  \n",
        "\n",
        " Torque input =  180.00  in-lb. \n",
        "\n",
        " Output torque =  7884.00  in-lb. \n"
       ]
      }
     ],
     "prompt_number": 6
    },
    {
     "cell_type": "heading",
     "level": 2,
     "metadata": {},
     "source": [
      "Ex7-pg296"
     ]
    },
    {
     "cell_type": "code",
     "collapsed": false,
     "input": [
      "import math\n",
      "\n",
      "print('MACHINE DESIGN \\n Timothy H. Wentzell, P.E. \\n EXAMPLE-13.7 Page No.296\\n');\n",
      "\n",
      "hpin=5.\n",
      "e=0.73;\n",
      "Q=(1.-e)*hpin*2544.;\n",
      "\n",
      "print'%s %.2f %s '%('\\n Heat generated by system = ',Q,' Btu/hr.');\n",
      "\n",
      "##Note-There is an error in the answer given in textbook\n"
     ],
     "language": "python",
     "metadata": {},
     "outputs": [
      {
       "output_type": "stream",
       "stream": "stdout",
       "text": [
        "MACHINE DESIGN \n",
        " Timothy H. Wentzell, P.E. \n",
        " EXAMPLE-13.7 Page No.296\n",
        "\n",
        "\n",
        " Heat generated by system =  3434.40  Btu/hr. \n"
       ]
      }
     ],
     "prompt_number": 7
    }
   ],
   "metadata": {}
  }
 ]
}