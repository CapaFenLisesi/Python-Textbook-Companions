{
 "metadata": {
  "name": "",
  "signature": "sha256:892138834d98f748fc0090c17011f9f0ff6dd205fe66852833b31f2564ecc8cc"
 },
 "nbformat": 3,
 "nbformat_minor": 0,
 "worksheets": [
  {
   "cells": [
    {
     "cell_type": "heading",
     "level": 1,
     "metadata": {},
     "source": [
      "Chapter12-Spur Gear Design and Selection"
     ]
    },
    {
     "cell_type": "heading",
     "level": 2,
     "metadata": {},
     "source": [
      "Ex1-pg245"
     ]
    },
    {
     "cell_type": "code",
     "collapsed": false,
     "input": [
      "import math\n",
      "\n",
      "print('MACHINE DESIGN \\n Timothy H. Wentzell, P.E. \\n EXAMPLE-12.1 Page No.254\\n');\n",
      "\n",
      "P=5.;\n",
      "n=1725.;\n",
      "T=63000.*P/n;\n",
      "\n",
      "##Pitch circle diameter\n",
      "Np=20.;\n",
      "Pd=8.;\n",
      "Dp=Np/Pd;\n",
      "\n",
      "print'%s %.2f %s '%('\\n Pitch circle diameter = ',Dp,' in.');\n",
      "\n",
      "##Transmitted force\n",
      "Ft=2.*T/Dp;\n",
      "\n",
      "print'%s %.2f %s '%('\\n Transmitted force = ',Ft,' lb.');\n",
      "\n",
      "##Separating force\n",
      "theta=20.*math.pi/180.;\n",
      "Fn=Ft*math.tan(theta);\n",
      "\n",
      "print'%s %.2f %s '%('\\n Separating force = ',Fn,' lb.');\n",
      "\n",
      "##Maximum force\n",
      "Fr=Ft/math.cos(theta);\n",
      "\n",
      "print'%s %.2f %s '%('\\n Maximum force = ',Fr,' lb.');\n"
     ],
     "language": "python",
     "metadata": {},
     "outputs": [
      {
       "output_type": "stream",
       "stream": "stdout",
       "text": [
        "MACHINE DESIGN \n",
        " Timothy H. Wentzell, P.E. \n",
        " EXAMPLE-12.1 Page No.254\n",
        "\n",
        "\n",
        " Pitch circle diameter =  2.50  in. \n",
        "\n",
        " Transmitted force =  146.09  lb. \n",
        "\n",
        " Separating force =  53.17  lb. "
       ]
      },
      {
       "output_type": "stream",
       "stream": "stdout",
       "text": [
        "\n",
        "\n",
        " Maximum force =  155.46  lb. \n"
       ]
      }
     ],
     "prompt_number": 1
    },
    {
     "cell_type": "heading",
     "level": 2,
     "metadata": {},
     "source": [
      "Ex2-pg256"
     ]
    },
    {
     "cell_type": "code",
     "collapsed": false,
     "input": [
      "import math\n",
      "\n",
      "print('MACHINE DESIGN \\n Timothy H. Wentzell, P.E. \\n EXAMPLE-12.2 Page No.256\\n');\n",
      "\n",
      "##Surface speed\n",
      "Dp=2.5;\n",
      "n=1725.;\n",
      "Vm=math.pi*Dp*n/12.;\n",
      "\n",
      "print'%s %.2f %s '%('\\n Surface speed = ',Vm,' ft/min.');\n"
     ],
     "language": "python",
     "metadata": {},
     "outputs": [
      {
       "output_type": "stream",
       "stream": "stdout",
       "text": [
        "MACHINE DESIGN \n",
        " Timothy H. Wentzell, P.E. \n",
        " EXAMPLE-12.2 Page No.256\n",
        "\n",
        "\n",
        " Surface speed =  1129.01  ft/min. \n"
       ]
      }
     ],
     "prompt_number": 2
    },
    {
     "cell_type": "heading",
     "level": 2,
     "metadata": {},
     "source": [
      "Ex3-pg258"
     ]
    },
    {
     "cell_type": "code",
     "collapsed": false,
     "input": [
      "import math\n",
      "\n",
      "print('MACHINE DESIGN \\n Timothy H. Wentzell, P.E. \\n EXAMPLE-12.3 Page No.258\\n');\n",
      "##Pinion\n",
      "Su=95.*10**3;\n",
      "Sn=0.5*Su;\n",
      "Y=0.320;\n",
      "b=1.;\n",
      "Pd=8.;\n",
      "\n",
      "Fsp=Sn*b*Y/Pd;\n",
      "\n",
      "print'%s %.2f %s '%('\\n Force allowable for pinion = ',Fsp,' lb.');\n",
      "\n",
      "##Gear\n",
      "Sn=0.5*88.*10**3;\n",
      "Y=0.421;\n",
      "Fsg=Sn*b*Y/Pd;\n",
      "\n",
      "print'%s %.2f %s '%('\\n Force allowable for gear = ',Fsg,' lb.');\n"
     ],
     "language": "python",
     "metadata": {},
     "outputs": [
      {
       "output_type": "stream",
       "stream": "stdout",
       "text": [
        "MACHINE DESIGN \n",
        " Timothy H. Wentzell, P.E. \n",
        " EXAMPLE-12.3 Page No.258\n",
        "\n",
        "\n",
        " Force allowable for pinion =  1900.00  lb. \n",
        "\n",
        " Force allowable for gear =  2315.50  lb. \n"
       ]
      }
     ],
     "prompt_number": 3
    },
    {
     "cell_type": "heading",
     "level": 2,
     "metadata": {},
     "source": [
      "Ex4-pg262"
     ]
    },
    {
     "cell_type": "code",
     "collapsed": false,
     "input": [
      "import math\n",
      "\n",
      "print('MACHINE DESIGN \\n Timothy H. Wentzell, P.E. \\n EXAMPLE-12.4 Page No.262\\n');\n",
      "\n",
      "##Dynamic load\n",
      "Vm=1129.;\n",
      "Ft=146.;\n",
      "Fd=(600.+Vm)*Ft/600.;\n",
      "\n",
      "print'%s %.2f %s '%('\\n Dynamic load = ',Fd,' lb.');\n",
      "\n",
      "Fs=1900.;\n",
      "Nsf=2.;\n",
      "\n",
      "##Comparing to the allowable stress\n",
      "\n",
      "if (Fs/Nsf)>Fd:\n",
      "    print('\\n This is an acceptable design.');\n",
      "\n"
     ],
     "language": "python",
     "metadata": {},
     "outputs": [
      {
       "output_type": "stream",
       "stream": "stdout",
       "text": [
        "MACHINE DESIGN \n",
        " Timothy H. Wentzell, P.E. \n",
        " EXAMPLE-12.4 Page No.262\n",
        "\n",
        "\n",
        " Dynamic load =  420.72  lb. \n",
        "\n",
        " This is an acceptable design.\n"
       ]
      }
     ],
     "prompt_number": 4
    },
    {
     "cell_type": "heading",
     "level": 2,
     "metadata": {},
     "source": [
      "Ex5-pg263"
     ]
    },
    {
     "cell_type": "code",
     "collapsed": false,
     "input": [
      "import math\n",
      "\n",
      "print('MACHINE DESIGN \\n Timothy H. Wentzell, P.E. \\n EXAMPLE-12.5 Page No.263\\n');\n",
      "\n",
      "Su=55.*10**3;\n",
      "Sn=0.5*Su;\n",
      "\n",
      "Np=24.;\n",
      "Pd=12.;\n",
      "Dp=Np/Pd;\n",
      "\n",
      "print'%s %.2f %s '%('\\n Pitch circle diameter = ',Dp,' in.');\n",
      "\n",
      "n=1800.;\n",
      "Vm=math.pi*Dp*n/12.;\n",
      "\n",
      "print'%s %.2f %s '%('\\n Surface speed = ',Vm,' ft/min.');\n",
      "\n",
      "b=3./4.;\n",
      "Y=0.302;\n",
      "Fs=Sn*b*Y/Pd;\n",
      "\n",
      "print'%s %.2f %s '%('\\n Allowable stress = ',Fs,' lb.');\n",
      "\n",
      "Fd=Fs;\n",
      "Ft=600.*Fd/(600.+Vm);\n",
      "\n",
      "print'%s %.2f %s '%('\\n Force transmitted = ',Ft,' lb.');\n",
      "\n",
      "T=Ft*Dp/2.;\n",
      "\n",
      "P=T*n/63000.;\n",
      "\n",
      "print'%s %.2f %s '%('\\n Power transmitted = ',P,' hp.');\n",
      "\n",
      "##Compared to catalog\n",
      "hp_catalog=4.14;\n",
      "\n",
      "Nsf=P/hp_catalog;\n",
      "\n",
      "print'%s %.2f %s '%('\\n Safety factor =  .',Nsf,'');\n"
     ],
     "language": "python",
     "metadata": {},
     "outputs": [
      {
       "output_type": "stream",
       "stream": "stdout",
       "text": [
        "MACHINE DESIGN \n",
        " Timothy H. Wentzell, P.E. \n",
        " EXAMPLE-12.5 Page No.263\n",
        "\n",
        "\n",
        " Pitch circle diameter =  2.00  in. \n",
        "\n",
        " Surface speed =  942.48  ft/min. \n",
        "\n",
        " Allowable stress =  519.06  lb. \n",
        "\n",
        " Force transmitted =  201.91  lb. \n",
        "\n",
        " Power transmitted =  5.77  hp. \n",
        "\n",
        " Safety factor =  . 1.39  \n"
       ]
      }
     ],
     "prompt_number": 5
    },
    {
     "cell_type": "heading",
     "level": 2,
     "metadata": {},
     "source": [
      "Ex6-pg266"
     ]
    },
    {
     "cell_type": "code",
     "collapsed": false,
     "input": [
      "import math\n",
      "\n",
      "print('MACHINE DESIGN \\n Timothy H. Wentzell, P.E. \\n EXAMPLE-12.6 Page No.266\\n');\n",
      "\n",
      "##Miscellaneous properties\n",
      "Np=48.;\n",
      "Pd=12.;\n",
      "Dp=Np/Pd;\n",
      "Vr=3.;\n",
      "Ng=Np*Vr;\n",
      "\n",
      "##Surface speed\n",
      "n=900.;\n",
      "Vm=math.pi*Dp*n/12.;\n",
      "\n",
      "print'%s %.2f %s '%('\\n Surface speed = ',Vm,' ft/min.');\n",
      "\n",
      "##Force on teeth\n",
      "hp=2.;\n",
      "Ft=33000.*hp/Vm;\n",
      "\n",
      "print'%s %.2f %s '%('\\n Force on teeth = ',Ft,' lb.');\n",
      "\n",
      "##Dynamic force\n",
      "Fd=(600.+Vm)*Ft/600.;\n",
      "\n",
      "print'%s %.2f %s '%('\\n Dynamic force = ',Fd,' lb.');\n",
      "\n",
      "##Width\n",
      "Su=30.*10**3;\n",
      "Sn=0.4*Su;\n",
      "Y=0.344;\n",
      "Nsf=2.;\n",
      "b=Fd*Nsf*Pd/(Sn*Y);\n",
      "b=round(b);\n",
      "\n",
      "print'%s %.2f %s '%('\\n Width = ',b,' in.');\n",
      "\n",
      "if (8/Pd)<b:\n",
      "\tif b<(12.5/Pd):\n",
      "\t\tprint('\\n This is an acceptable design.');\n",
      "\n"
     ],
     "language": "python",
     "metadata": {},
     "outputs": [
      {
       "output_type": "stream",
       "stream": "stdout",
       "text": [
        "MACHINE DESIGN \n",
        " Timothy H. Wentzell, P.E. \n",
        " EXAMPLE-12.6 Page No.266\n",
        "\n",
        "\n",
        " Surface speed =  942.48  ft/min. \n",
        "\n",
        " Force on teeth =  70.03  lb. \n",
        "\n",
        " Dynamic force =  180.03  lb. \n",
        "\n",
        " Width =  1.00  in. \n",
        "\n",
        " This is an acceptable design.\n"
       ]
      }
     ],
     "prompt_number": 6
    },
    {
     "cell_type": "heading",
     "level": 2,
     "metadata": {},
     "source": [
      "Ex7-pg270"
     ]
    },
    {
     "cell_type": "code",
     "collapsed": false,
     "input": [
      "import math\n",
      "\n",
      "print('MACHINE DESIGN \\n Timothy H. Wentzell, P.E. \\n EXAMPLE-12.7 Page No.270\\n');\n",
      "\n",
      "Su=95.*10**3;\n",
      "Sn=0.5*Su;\n",
      "Np=24.;\n",
      "Pd=16.;\n",
      "Dp=Np/Pd;\n",
      "\n",
      "##Torque\n",
      "n=3450.;\n",
      "P=3.;\n",
      "T=P*63000./n;\n",
      "\n",
      "print'%s %.2f %s '%('\\n Torque = ',T,' in-lb.');\n",
      "\n",
      "##Force transmitted\n",
      "Ft=2.*T/Dp;\n",
      "\n",
      "print'%s %.2f %s '%('\\n Force transmitted = ',Ft,' lb.');\n",
      "\n",
      "##Surface speed\n",
      "Vm=math.pi*Dp*n/12.;\n",
      "\n",
      "print'%s %.2f %s '%('\\n Surface speed = ',Vm,' ft/min.');\n",
      "\n",
      "##Force allowable\n",
      "Y=0.337;\n",
      "b=1.;\n",
      "Fs=Sn*b*Y/Pd;\n",
      "\n",
      "print'%s %.2f %s '%('\\n Force allowable = ',Fs,' lb.');\n",
      "\n",
      "##Dynamic load using Buckingham's equation\n",
      "C=830.;\n",
      "Fd=Ft+0.05*Vm*(b*C+Ft)/(0.05*Vm+(b*C+Ft)**0.5);\n",
      "\n",
      "Nsf=1.4;\n",
      "if (Fs/Nsf)>Fd:\n",
      "    print('\\n This is a suitable design');\n",
      "\n"
     ],
     "language": "python",
     "metadata": {},
     "outputs": [
      {
       "output_type": "stream",
       "stream": "stdout",
       "text": [
        "MACHINE DESIGN \n",
        " Timothy H. Wentzell, P.E. \n",
        " EXAMPLE-12.7 Page No.270\n",
        "\n",
        "\n",
        " Torque =  54.78  in-lb. \n",
        "\n",
        " Force transmitted =  73.04  lb. \n",
        "\n",
        " Surface speed =  1354.81  ft/min. \n",
        "\n",
        " Force allowable =  1000.47  lb. \n",
        "\n",
        " This is a suitable design\n"
       ]
      }
     ],
     "prompt_number": 7
    },
    {
     "cell_type": "heading",
     "level": 2,
     "metadata": {},
     "source": [
      "Ex8-pg272"
     ]
    },
    {
     "cell_type": "code",
     "collapsed": false,
     "input": [
      "import math\n",
      "\n",
      "print('MACHINE DESIGN \\n Timothy H. Wentzell, P.E. \\n EXAMPLE-12.8 Page No.272\\n');\n",
      "\n",
      "Ng=42.;\n",
      "Np=24.;\n",
      "Q=2.*Ng/(Ng+Np);\n",
      "\n",
      "Kg=270.;\n",
      "Dp=1.5;\n",
      "b=1.;\n",
      "\n",
      "Fw=Dp*b*Q*Kg;\n",
      "Fd=699.;\n",
      "Nsf=1.2;\n",
      "\n",
      "if (Fw/Nsf)<Fd:\n",
      "\tprint('\\n (Fw/Nsf)<Fd So this would not be suitable design');\n",
      "\n",
      "\n",
      "##If the surfaces each had a BHN = 450\n",
      "\n",
      "Kg=470.;\n",
      "Fw=Dp*b*Q*Kg;\n",
      "\n",
      "if(Fw/Nsf)>Fd:\n",
      "    print('\\n\\n If the surfaces each had a BHN = 450');\n",
      "    print('\\n (Fw/Nsf)>Fd So this would be suitable design.');\n",
      "\n"
     ],
     "language": "python",
     "metadata": {},
     "outputs": [
      {
       "output_type": "stream",
       "stream": "stdout",
       "text": [
        "MACHINE DESIGN \n",
        " Timothy H. Wentzell, P.E. \n",
        " EXAMPLE-12.8 Page No.272\n",
        "\n",
        "\n",
        " (Fw/Nsf)<Fd So this would not be suitable design\n",
        "\n",
        "\n",
        " If the surfaces each had a BHN = 450\n",
        "\n",
        " (Fw/Nsf)>Fd So this would be suitable design.\n"
       ]
      }
     ],
     "prompt_number": 8
    }
   ],
   "metadata": {}
  }
 ]
}