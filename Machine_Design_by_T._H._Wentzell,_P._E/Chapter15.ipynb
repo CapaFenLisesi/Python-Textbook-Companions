{
 "metadata": {
  "name": "",
  "signature": "sha256:0149cd235a3b23c9794fbb9de15a07192b350deac4309221cd011faa92bed1d4"
 },
 "nbformat": 3,
 "nbformat_minor": 0,
 "worksheets": [
  {
   "cells": [
    {
     "cell_type": "heading",
     "level": 1,
     "metadata": {},
     "source": [
      "Chapter15-Keys and Couplings "
     ]
    },
    {
     "cell_type": "heading",
     "level": 2,
     "metadata": {},
     "source": [
      "Ex1-pg332"
     ]
    },
    {
     "cell_type": "code",
     "collapsed": false,
     "input": [
      "import math\n",
      "\n",
      "print('MACHINE DESIGN \\n Timothy H. Wentzell, P.E. \\n EXAMPLE-15.1 Page No.332\\n');\n",
      "\n",
      "##Torque\n",
      "P=5.;\n",
      "n=1750.;\n",
      "T=63000.*P/n;\n",
      "\n",
      "print'%s %.2f %s '%('\\n Torque = ',T,' in-lb.');\n",
      "\n",
      "##Length of key for shear\n",
      "Su=61000.;\n",
      "Ss=0.5*Su;\n",
      "b=0.125;\n",
      "D=0.5;\n",
      "Ls1=2*T/(Ss*b*D);\n",
      "SF=2.5;\n",
      "\n",
      "Ls=SF*Ls1;\n",
      "\n",
      "print'%s %.2f %s '%('\\n Length of key for shear = ',Ls,' in.');\n",
      "\n",
      "##Length of key for compression\n",
      "Sc=51000.;\n",
      "t=0.125;\n",
      "Lc1=4.*T/(Sc*t*D);\n",
      "\n",
      "Lc=SF*Lc1;\n",
      "\n",
      "print'%s %.2f %s '%('\\n Length of key for compression = ',Lc,' in.');\n"
     ],
     "language": "python",
     "metadata": {},
     "outputs": [
      {
       "output_type": "stream",
       "stream": "stdout",
       "text": [
        "MACHINE DESIGN \n",
        " Timothy H. Wentzell, P.E. \n",
        " EXAMPLE-15.1 Page No.332\n",
        "\n",
        "\n",
        " Torque =  180.00  in-lb. \n",
        "\n",
        " Length of key for shear =  0.47  in. \n",
        "\n",
        " Length of key for compression =  0.56  in. \n"
       ]
      }
     ],
     "prompt_number": 1
    },
    {
     "cell_type": "heading",
     "level": 2,
     "metadata": {},
     "source": [
      "Ex2-pg335"
     ]
    },
    {
     "cell_type": "code",
     "collapsed": false,
     "input": [
      "import math\n",
      "\n",
      "print('MACHINE DESIGN \\n Timothy H. Wentzell, P.E. \\n EXAMPLE-15.2 Page No.335\\n');\n",
      "\n",
      "##Torque capacity\n",
      "Ss=30500.;\n",
      "D=1.;\n",
      "L=2.;\n",
      "T1=Ss*math.pi*D**2*L/16.;\n",
      "\n",
      "SF=2.;\n",
      "\n",
      "T=T1/SF;\n",
      "\n",
      "print'%s %.2f %s '%('\\n Torque capacity 1 = ',T,' in-lb.');\n",
      "n=6.;\n",
      "d=0.81;\n",
      "A=(D-d)*L*n/2.;\n",
      "\n",
      "S=1000.;\n",
      "rm=(1.+0.810)/4.;\n",
      "\n",
      "T2=S*A*rm;\n",
      "\n",
      "print'%s %.2f %s '%('\\n Torque capacity 2 = ',T2,' in-lb.');\n"
     ],
     "language": "python",
     "metadata": {},
     "outputs": [
      {
       "output_type": "stream",
       "stream": "stdout",
       "text": [
        "MACHINE DESIGN \n",
        " Timothy H. Wentzell, P.E. \n",
        " EXAMPLE-15.2 Page No.335\n",
        "\n",
        "\n",
        " Torque capacity 1 =  5988.66  in-lb. \n",
        "\n",
        " Torque capacity 2 =  515.85  in-lb. \n"
       ]
      }
     ],
     "prompt_number": 2
    }
   ],
   "metadata": {}
  }
 ]
}