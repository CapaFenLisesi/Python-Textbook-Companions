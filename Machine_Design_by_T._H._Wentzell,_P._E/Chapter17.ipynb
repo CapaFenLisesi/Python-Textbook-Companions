{
 "metadata": {
  "name": "",
  "signature": "sha256:79381078ada8815aebb06f3ebe9acf08c8724da775377e36d59d0e4ce701a07f"
 },
 "nbformat": 3,
 "nbformat_minor": 0,
 "worksheets": [
  {
   "cells": [
    {
     "cell_type": "heading",
     "level": 1,
     "metadata": {},
     "source": [
      "Chapter17-Shaft Design"
     ]
    },
    {
     "cell_type": "heading",
     "level": 2,
     "metadata": {},
     "source": [
      "Ex1-pg379"
     ]
    },
    {
     "cell_type": "code",
     "collapsed": false,
     "input": [
      "import math\n",
      "\n",
      "print('MACHINE DESIGN \\n Timothy H. Wentzell, P.E. \\n EXAMPLE-17.1 Page No.379\\n');\n",
      "\n",
      "hp=5.;\n",
      "n=1750.;\n",
      "T=63000.*hp/n;\n",
      "\n",
      "##Torsional stress in the shaft\n",
      "D=0.75;\n",
      "Z1=math.pi*D**3/16.;\n",
      "\n",
      "Ss=T/Z1;\n",
      "\n",
      "print'%s %.2f %s '%('\\n Torsional stress in the shaft = ',Ss,' lb/in^2.');\n",
      "\n",
      "##Load at the gear pitch circle\n",
      "Nt=40.;\n",
      "Pd=10.;\n",
      "Dp=Nt/Pd;\n",
      "\n",
      "Ft=2.*T/Dp;\n",
      "\n",
      "print'%s %.2f %s '%('\\n Load at gear pitch circle = ',Ft,' lb.');\n",
      "\n",
      "##Resultant force on the shaft\n",
      "theta=20.*math.pi/180.;\n",
      "Fr=Ft/math.cos(theta);\n",
      "\n",
      "print'%s %.2f %s '%('\\n Resultant force = ',Fr,' lb.');\n",
      "\n",
      "##Maximum moment\n",
      "L=15.;\n",
      "Mm=Fr*L/4.;\n",
      "\n",
      "print'%s %.2f %s '%('\\n Maximum moment = ',Mm,' in-lb.');\n",
      "\n",
      "##Stress\n",
      "D2=0.75;\n",
      "Z2=math.pi*D2**3/32.;\n",
      "Z2=round(Z2*1000.)*10**-3;\n",
      "\n",
      "S=Mm/Z2;\n",
      "\n",
      "print'%s %.2f %s '%('\\n Stress = ',S,' lb/in^2.');\n",
      "\n",
      "##Note-There is an error in the answer given in textbook\n"
     ],
     "language": "python",
     "metadata": {},
     "outputs": [
      {
       "output_type": "stream",
       "stream": "stdout",
       "text": [
        "MACHINE DESIGN \n",
        " Timothy H. Wentzell, P.E. \n",
        " EXAMPLE-17.1 Page No.379\n",
        "\n",
        "\n",
        " Torsional stress in the shaft =  2173.00  lb/in^2. \n",
        "\n",
        " Load at gear pitch circle =  90.00  lb. \n",
        "\n",
        " Resultant force =  95.78  lb. \n",
        "\n",
        " Maximum moment =  359.16  in-lb. \n",
        "\n",
        " Stress =  8760.00  lb/in^2. \n"
       ]
      }
     ],
     "prompt_number": 1
    },
    {
     "cell_type": "heading",
     "level": 2,
     "metadata": {},
     "source": [
      "Ex2-pg383"
     ]
    },
    {
     "cell_type": "code",
     "collapsed": false,
     "input": [
      "import math\n",
      "\n",
      "print('MACHINE DESIGN \\n Timothy H. Wentzell, P.E. \\n EXAMPLE-17.2 Page No.383\\n');\n",
      "\n",
      "##Combined stress using the maximum shear stress theorem\n",
      "\n",
      "Ss=2170.;\n",
      "S=8780.;\n",
      "Sr=math.sqrt(Ss**2+(S/2.)**2);\n",
      "\n",
      "print'%s %.2f %s '%('\\n Combined stress = ',Sr,' lb/in^2.');\n"
     ],
     "language": "python",
     "metadata": {},
     "outputs": [
      {
       "output_type": "stream",
       "stream": "stdout",
       "text": [
        "MACHINE DESIGN \n",
        " Timothy H. Wentzell, P.E. \n",
        " EXAMPLE-17.2 Page No.383\n",
        "\n",
        "\n",
        " Combined stress =  4897.04  lb/in^2. \n"
       ]
      }
     ],
     "prompt_number": 2
    },
    {
     "cell_type": "heading",
     "level": 2,
     "metadata": {},
     "source": [
      "Ex3-pg383"
     ]
    },
    {
     "cell_type": "code",
     "collapsed": false,
     "input": [
      "import math\n",
      "\n",
      "print('MACHINE DESIGN \\n Timothy H. Wentzell, P.E. \\n EXAMPLE-17.3 Page No.383\\n');\n",
      "\n",
      "##Combined stress using the maximum normal stress theory\n",
      "Ss=2170.;\n",
      "S=8780.;\n",
      "Sr=S/2.+math.sqrt(Ss**2+(S/2.)**2);\n",
      "\n",
      "print'%s %.2f %s '%('\\n Combined stress = ',Sr,' lb/in^2.');\n",
      "\n",
      "##Note-There is an error in the answer given in textbook\n"
     ],
     "language": "python",
     "metadata": {},
     "outputs": [
      {
       "output_type": "stream",
       "stream": "stdout",
       "text": [
        "MACHINE DESIGN \n",
        " Timothy H. Wentzell, P.E. \n",
        " EXAMPLE-17.3 Page No.383\n",
        "\n",
        "\n",
        " Combined stress =  9287.04  lb/in^2. \n"
       ]
      }
     ],
     "prompt_number": 3
    },
    {
     "cell_type": "heading",
     "level": 2,
     "metadata": {},
     "source": [
      "Ex4-pg385"
     ]
    },
    {
     "cell_type": "code",
     "collapsed": false,
     "input": [
      "import math\n",
      "\n",
      "print('MACHINE DESIGN \\n Timothy H. Wentzell, P.E. \\n EXAMPLE-17.4 Page No.385\\n');\n",
      "\n",
      "##Modifying factors for Sn\n",
      "Su=88000.;\n",
      "Csize=0.85;\n",
      "Csurface=0.88;\n",
      "Ctype=1.;\n",
      "\n",
      "Sn=Csize*Csurface*Ctype*(0.5*Su);\n",
      "Kt=2.3;\n",
      "S=9300.;\n",
      "\n",
      "N=Sn/(Kt*S);\n",
      "\n",
      "if N>2:\n",
      "    print('\\n It would be an acceptable design.');\n",
      "else:\n",
      "    print('\\n N<2,So this is not a suitable design for long term use.');\n",
      "\n"
     ],
     "language": "python",
     "metadata": {},
     "outputs": [
      {
       "output_type": "stream",
       "stream": "stdout",
       "text": [
        "MACHINE DESIGN \n",
        " Timothy H. Wentzell, P.E. \n",
        " EXAMPLE-17.4 Page No.385\n",
        "\n",
        "\n",
        " N<2,So this is not a suitable design for long term use.\n"
       ]
      }
     ],
     "prompt_number": 4
    },
    {
     "cell_type": "heading",
     "level": 2,
     "metadata": {},
     "source": [
      "Ex5-pg388"
     ]
    },
    {
     "cell_type": "code",
     "collapsed": false,
     "input": [
      "import math\n",
      "\n",
      "print('MACHINE DESIGN \\n Timothy H. Wentzell, P.E. \\n EXAMPLE-17.5 Page No.388\\n');\n",
      "import numpy\n",
      "##Deflection\n",
      "D=0.75;\n",
      "E=30.*10**6;\n",
      "L=15.;\n",
      "F=96.;\n",
      "I=math.pi*D**4/64.;\n",
      "\n",
      "delta=F*L**4/(48.*E*I);\n",
      "delta=numpy.floor(100.*delta)*10**-2;\n",
      "Nc=188./math.sqrt(delta);\n",
      "\n",
      "print'%s %.2f %s '%('\\n Critical speed = ',Nc,' rpm.');\n"
     ],
     "language": "python",
     "metadata": {},
     "outputs": [
      {
       "output_type": "stream",
       "stream": "stdout",
       "text": [
        "MACHINE DESIGN \n",
        " Timothy H. Wentzell, P.E. \n",
        " EXAMPLE-17.5 Page No.388\n",
        "\n",
        "\n",
        " Critical speed =  410.25  rpm. "
       ]
      },
      {
       "output_type": "stream",
       "stream": "stdout",
       "text": [
        "\n"
       ]
      }
     ],
     "prompt_number": 5
    }
   ],
   "metadata": {}
  }
 ]
}