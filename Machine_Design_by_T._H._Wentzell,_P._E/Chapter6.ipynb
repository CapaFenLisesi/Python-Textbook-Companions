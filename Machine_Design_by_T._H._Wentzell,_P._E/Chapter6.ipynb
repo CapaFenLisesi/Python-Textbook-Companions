{
 "metadata": {
  "name": "",
  "signature": "sha256:083ec34311017f44e1e671cc0c2306a30b9ade82eac3a36003dab32d9ffbdd8a"
 },
 "nbformat": 3,
 "nbformat_minor": 0,
 "worksheets": [
  {
   "cells": [
    {
     "cell_type": "heading",
     "level": 1,
     "metadata": {},
     "source": [
      "Chapter6-Fasteners and Fastening Methods"
     ]
    },
    {
     "cell_type": "heading",
     "level": 2,
     "metadata": {},
     "source": [
      "Ex1-pg120"
     ]
    },
    {
     "cell_type": "code",
     "collapsed": false,
     "input": [
      "import math\n",
      "\n",
      "print('MACHINE DESIGN \\n Timothy H. Wentzell, P.E. \\n EXAMPLE-6.1 Page No.120\\n');\n",
      "\n",
      "As=0.334;              ##[in^2] Tensile stress area (Table 6.1)\n",
      "Sp=85000.;              ##[lb/in^2] Proof strength (Table 6.3)\n",
      "D=3/4.;                 ##[in] Nominal diameter of thread\n",
      "\n",
      "Fi=0.85*As*Sp;         ##[lb] Desired intial preload\n",
      "C=0.2;                 ##[] Torque coefficient\n",
      "\n",
      "T=C*D*Fi;              ##[in*lb] Torque\n",
      "\n",
      "print'%s %.2f %s '%('\\n The required torque is ',T,' lb*in.');\n"
     ],
     "language": "python",
     "metadata": {},
     "outputs": [
      {
       "output_type": "stream",
       "stream": "stdout",
       "text": [
        "MACHINE DESIGN \n",
        " Timothy H. Wentzell, P.E. \n",
        " EXAMPLE-6.1 Page No.120\n",
        "\n",
        "\n",
        " The required torque is  3619.73  lb*in. \n"
       ]
      }
     ],
     "prompt_number": 1
    },
    {
     "cell_type": "heading",
     "level": 2,
     "metadata": {},
     "source": [
      "Ex2-pg121"
     ]
    },
    {
     "cell_type": "code",
     "collapsed": false,
     "input": [
      "import math\n",
      "\n",
      "print('MACHINE DESIGN \\n Timothy H. Wentzell, P.E. \\n EXAMPLE-6.2 Page No.121\\n');\n",
      "\n",
      "L=5.;                   ##[in] Length of engagement\n",
      "E=30*10**6;             ##[lb/in^2] Modulus of elasticity\n",
      "As=0.334;              ##[in^2] Tensile stress area (Table 6.1)\n",
      "Sp=85000.;              ##[lb/in^2] Proof strength (Table 6.3)\n",
      "Fi=0.85*As*Sp;         ##[lb] Desired intial preload\n",
      "\n",
      "Delta=Fi*L/(As*E)      ##[in] Elongation\n",
      "\n",
      "pitch=0.1;             ##[in] Pitch for 3/4 UNC\n",
      "TA=Delta*360./pitch;    ##[Degree] Torque angle\n",
      "\n",
      "print'%s %.2f %s '%('\\n The angle of rotation needed is ',TA,' degree.');\n"
     ],
     "language": "python",
     "metadata": {},
     "outputs": [
      {
       "output_type": "stream",
       "stream": "stdout",
       "text": [
        "MACHINE DESIGN \n",
        " Timothy H. Wentzell, P.E. \n",
        " EXAMPLE-6.2 Page No.121\n",
        "\n",
        "\n",
        " The angle of rotation needed is  43.35  degree. \n"
       ]
      }
     ],
     "prompt_number": 2
    },
    {
     "cell_type": "heading",
     "level": 2,
     "metadata": {},
     "source": [
      "Ex3-pg122"
     ]
    },
    {
     "cell_type": "code",
     "collapsed": false,
     "input": [
      "import math\n",
      "\n",
      "print('MACHINE DESIGN \\n Timothy H. Wentzell, P.E. \\n EXAMPLE-6.3 Page No.122\\n');\n",
      "\n",
      "Alpha=6.5*10**-6;       ##[in/(in*F)] Thermal expansion coefficient (Appendix 8)\n",
      "L=5.;                   ##[in] Length of engagement\n",
      "\n",
      "Delta=0.01204;       ##[Degree] Elongation\n",
      "\n",
      "DT=Delta/(Alpha*L);    ##[F] The temperature we would need to heat this bolt above the sevice temperature\n",
      "\n",
      "print'%s %.2f %s '%('\\n The temperature we would need to heat this bolt above the sevice temperature is ',DT,' F.');\n"
     ],
     "language": "python",
     "metadata": {},
     "outputs": [
      {
       "output_type": "stream",
       "stream": "stdout",
       "text": [
        "MACHINE DESIGN \n",
        " Timothy H. Wentzell, P.E. \n",
        " EXAMPLE-6.3 Page No.122\n",
        "\n",
        "\n",
        " The temperature we would need to heat this bolt above the sevice temperature is  370.46  F. \n"
       ]
      }
     ],
     "prompt_number": 3
    },
    {
     "cell_type": "heading",
     "level": 2,
     "metadata": {},
     "source": [
      "Ex4-pg124"
     ]
    },
    {
     "cell_type": "code",
     "collapsed": false,
     "input": [
      "import math\n",
      "\n",
      "print('MACHINE DESIGN \\n Timothy H. Wentzell, P.E. \\n EXAMPLE-6.4 Page No.124\\n');\n",
      "\n",
      "Dp=20.;                 ##[in] Pressure vessel head diameter\n",
      "Ds=1.25;               ##[in] Stud diameter\n",
      "Ls=6.;                  ##[in] Stud length\n",
      "Af=50.;                 ##[in^2] Clamped area of flanges\n",
      "\n",
      "E=30*10**6;             ##[lb/in^2] Modulus of elasticity\n",
      "C=0.15;                ##[] Torque coefficient\n",
      "Si=120000.;             ##[lb/in^2] Proof strength (Table 6.3)\n",
      "A=1.073;               ##[in^2] Tensile stress area (Table 6.1)\n",
      "\n",
      "Fi=0.9*Si*A;           ##[lb] Desired intial load\n",
      "\n",
      "T=C*Ds*Fi;             ##[lb*in] Torque\n",
      "\n",
      "print'%s %.2f %s '%('\\n1. The required torque is ',T,' lb*in.');\n",
      "\n",
      "Pp=500.;                 ##[lb/in^2] Pressure inside the pressure vessel\n",
      "Ap=math.pi*Dp**2/4.;          ##[in^2] Pressure vessel head cross section area\n",
      "\n",
      "Kb=A*E/Ls;              ##[lb/in] Stiffness per stud\n",
      "Kf=Af*E/Ls;             ##[lb/in] Stiffness per flange\n",
      "Fe=Pp*Ap;               ##[lb] Force on pressure vessel head\n",
      "\n",
      "Ft=10*Fi+(10*Kb/(10*Kb+Kf))*Fe;  ##[lb] Total load on the bolt\n",
      "\n",
      "print'%s %.2f %s '%('\\n2. The total load on the bolt is ',Ft,' lb.');\n"
     ],
     "language": "python",
     "metadata": {},
     "outputs": [
      {
       "output_type": "stream",
       "stream": "stdout",
       "text": [
        "MACHINE DESIGN \n",
        " Timothy H. Wentzell, P.E. \n",
        " EXAMPLE-6.4 Page No.124\n",
        "\n",
        "\n",
        "1. The required torque is  21728.25  lb*in. \n",
        "\n",
        "2. The total load on the bolt is  1186593.41  lb. \n"
       ]
      }
     ],
     "prompt_number": 5
    }
   ],
   "metadata": {}
  }
 ]
}