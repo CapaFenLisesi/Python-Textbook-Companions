{
 "metadata": {
  "name": "",
  "signature": "sha256:77d51e561aaa21526a511d7143ff39b4181a0cfc44e0eaa5fd44138712eb9cd6"
 },
 "nbformat": 3,
 "nbformat_minor": 0,
 "worksheets": [
  {
   "cells": [
    {
     "cell_type": "heading",
     "level": 1,
     "metadata": {},
     "source": [
      "Chapter11-Gear Design"
     ]
    },
    {
     "cell_type": "heading",
     "level": 2,
     "metadata": {},
     "source": [
      "Ex1-pg217"
     ]
    },
    {
     "cell_type": "code",
     "collapsed": false,
     "input": [
      "import math\n",
      "\n",
      "print('MACHINE DESIGN \\n Timothy H. Wentzell, P.E. \\n EXAMPLE-11.1 Page No.217\\n');\n",
      "\n",
      "N2=60.;\n",
      "N1=20.;\n",
      "N3=20.;\n",
      "N4=60.;\n",
      "\n",
      "Vr=(N2/N1)*(N4/N3);\n",
      "\n",
      "##Output speed\n",
      "n1=3600.;\n",
      "n4=n1/Vr;\n",
      "\n",
      "print'%s %.2f %s '%('\\n The output speed is ',n4,' rpm.');\n",
      "\n",
      "##Output torque\n",
      "T1=200.;\n",
      "T4=T1*Vr;\n",
      "\n",
      "print'%s %.2f %s '%('\\n The output torque is ',T4,' lb*in.');\n",
      "\n",
      "##Input horsepower\n",
      "hpi=T1*n1/63000.;\n",
      "\n",
      "print'%s %.2f %s '%('\\n The input horsepower is ',hpi,' hp.');\n",
      "\n",
      "##Output horsepower\n",
      "hpo=T4*n4/63000.;\n",
      "\n",
      "print'%s %.2f %s '%('\\n The output horsepower is ',hpo,' hp.');\n"
     ],
     "language": "python",
     "metadata": {},
     "outputs": [
      {
       "output_type": "stream",
       "stream": "stdout",
       "text": [
        "MACHINE DESIGN \n",
        " Timothy H. Wentzell, P.E. \n",
        " EXAMPLE-11.1 Page No.217\n",
        "\n",
        "\n",
        " The output speed is  400.00  rpm. \n",
        "\n",
        " The output torque is  1800.00  lb*in. \n",
        "\n",
        " The input horsepower is  11.43  hp. \n",
        "\n",
        " The output horsepower is  11.43  hp. \n"
       ]
      }
     ],
     "prompt_number": 1
    },
    {
     "cell_type": "heading",
     "level": 2,
     "metadata": {},
     "source": [
      "Ex2-pg219"
     ]
    },
    {
     "cell_type": "code",
     "collapsed": false,
     "input": [
      "import math\n",
      "\n",
      "print('MACHINE DESIGN \\n Timothy H. Wentzell, P.E. \\n EXAMPLE-11.2 Page No.219\\n');\n",
      "\n",
      "Na=20.;\n",
      "Nb=65.;\n",
      "Nc=20.;\n",
      "Nd=22.;\n",
      "Ne=60.;\n",
      "\n",
      "##train value\n",
      "Vr=(Nb/Na)*(Nd/Nc)*(Ne/Nd);\n",
      "\n",
      "print'%s %.2f %s '%('\\n Train value =  ',Vr,'');\n",
      "\n",
      "##Output speed\n",
      "na=3000.;\n",
      "ne=na/Vr;\n",
      "\n",
      "print'%s %.2f %s '%('\\n \\Output speed = ',ne,' rpm.');\n",
      "\n",
      "##Output torque\n",
      "Ta=10.;\n",
      "Te=Ta*Vr;\n",
      "\n",
      "print'%s %.2f %s '%('\\n Output torque = ',Te,' lb*in.');\n",
      "\n",
      "##Direction\n",
      "\n",
      "print('\\n Direction\\n   If Gear A is clockwise,\\n   Gear B is counterclockwise.\\n   Gear C is counterclockwise.\\n   Gear D is clockwise. \\n   Gear E is counterclockwise.');\n",
      "\n",
      "##Output power\n",
      "P=Te*ne;\n",
      "P=P*math.pi/60;\n",
      "print'%s %.2f %s '%('\\n Output power = ',P,' W.');\n"
     ],
     "language": "python",
     "metadata": {},
     "outputs": [
      {
       "output_type": "stream",
       "stream": "stdout",
       "text": [
        "MACHINE DESIGN \n",
        " Timothy H. Wentzell, P.E. \n",
        " EXAMPLE-11.2 Page No.219\n",
        "\n",
        "\n",
        " Train value =   9.75  \n",
        "\n",
        " \\Output speed =  307.69  rpm. \n",
        "\n",
        " Output torque =  97.50  lb*in. \n",
        "\n",
        " Direction\n",
        "   If Gear A is clockwise,\n",
        "   Gear B is counterclockwise.\n",
        "   Gear C is counterclockwise.\n",
        "   Gear D is clockwise. \n",
        "   Gear E is counterclockwise.\n",
        "\n",
        " Output power =  1570.80  W. \n"
       ]
      }
     ],
     "prompt_number": 2
    },
    {
     "cell_type": "heading",
     "level": 2,
     "metadata": {},
     "source": [
      "Ex3-pg231"
     ]
    },
    {
     "cell_type": "code",
     "collapsed": false,
     "input": [
      "import math\n",
      " \n",
      "print('MACHINE DESIGN \\n Timothy H. Wentzell, P.E. \\n EXAMPLE-11.3 Page No.231\\n');\n",
      "\n",
      "Np=16.;\n",
      "Ng=32.;\n",
      "Pd=8.;\n",
      "\n",
      "##Pitch diameter\n",
      "Dp=Np/Pd;\n",
      "\n",
      "print'%s %.2f %s '%('\\n Pinion pitch diameter is ',Dp,' in.');\n",
      "\n",
      "Dg=Ng/Pd;\n",
      "\n",
      "print'%s %.2f %s '%('\\n Gear pitch diameter is ',Dg,' in.');\n",
      "\n",
      "##Circular pitch\n",
      "Pc=math.pi*Dp/Np;\n",
      "\n",
      "print'%s %.2f %s '%('\\n Circular pitch is ',Pc,' in.');\n",
      "\n",
      "##Centerline distance\n",
      "CC=(Dp+Dg)/2.;\n",
      "\n",
      "print'%s %.2f %s '%('\\n Centerline distance is ',CC,' in.');\n"
     ],
     "language": "python",
     "metadata": {},
     "outputs": [
      {
       "output_type": "stream",
       "stream": "stdout",
       "text": [
        "MACHINE DESIGN \n",
        " Timothy H. Wentzell, P.E. \n",
        " EXAMPLE-11.3 Page No.231\n",
        "\n",
        "\n",
        " Pinion pitch diameter is  2.00  in. \n",
        "\n",
        " Gear pitch diameter is  4.00  in. \n",
        "\n",
        " Circular pitch is  0.39  in. \n",
        "\n",
        " Centerline distance is  3.00  in. \n"
       ]
      }
     ],
     "prompt_number": 3
    },
    {
     "cell_type": "heading",
     "level": 2,
     "metadata": {},
     "source": [
      "Ex4-pg236"
     ]
    },
    {
     "cell_type": "code",
     "collapsed": false,
     "input": [
      "import math\n",
      "\n",
      "print('MACHINE DESIGN \\n Timothy H. Wentzell, P.E. \\n EXAMPLE-11.4 Page No.236\\n');\n",
      "\n",
      "##Torque in input shaft\n",
      "hp=1.5;\n",
      "n=3450.;\n",
      "T=63000.*hp/n;\n",
      "\n",
      "print'%s %.2f %s '%('\\n Torque in input shaft is ',T,' lb*in.');\n",
      "\n",
      "##Note-In the book T=27.4 in-lb is used instead of T=27.391304\n",
      "\n",
      "##Output torque\n",
      "Ng=24.;\n",
      "Np=10.;\n",
      "Tout=(Ng/Np)*T;\n",
      "\n",
      "print'%s %.2f %s '%('\\n Output torque is ',Tout,' lb*in.');\n",
      "\n",
      "##Output speed\n",
      "nout=(Np/Ng)*n;\n",
      "\n",
      "print'%s %.2f %s '%('\\n Output speed is ',nout,' rpm.');\n",
      "\n"
     ],
     "language": "python",
     "metadata": {},
     "outputs": [
      {
       "output_type": "stream",
       "stream": "stdout",
       "text": [
        "MACHINE DESIGN \n",
        " Timothy H. Wentzell, P.E. \n",
        " EXAMPLE-11.4 Page No.236\n",
        "\n",
        "\n",
        " Torque in input shaft is  27.39  lb*in. \n",
        "\n",
        " Output torque is  65.74  lb*in. \n",
        "\n",
        " Output speed is  1437.50  rpm. \n"
       ]
      }
     ],
     "prompt_number": 4
    },
    {
     "cell_type": "heading",
     "level": 2,
     "metadata": {},
     "source": [
      "Ex5-pg241"
     ]
    },
    {
     "cell_type": "code",
     "collapsed": false,
     "input": [
      "import math\n",
      "\n",
      "print('MACHINE DESIGN \\n Timothy H. Wentzell, P.E. \\n EXAMPLE-11.5 Page No.241\\n');\n",
      "\n",
      "##Gear train value\n",
      "Na=12.;\n",
      "Nb=36.;\n",
      "Nc=16.;\n",
      "Nd=64.;\n",
      "Vr=(Nb/Na)*(Nd/Nc);\n",
      "\n",
      "print'%s %.2f %s '%('\\n Gear train value is  ',Vr,'');\n",
      "\n",
      "##Motor torque\n",
      "hp=1.5;\n",
      "n=1750.;\n",
      "T=63000.*hp/n;\n",
      "\n",
      "print'%s %.2f %s '%('\\n Motor torque is ',T,' in-lb.');\n",
      "\n",
      "##Output torque\n",
      "Tout=T*Vr;\n",
      "\n",
      "print'%s %.2f %s '%('\\n Output torque is ',Tout,' in-lb.');\n",
      "\n",
      "##Output speed\n",
      "nout=n/Vr;\n",
      "\n",
      "print'%s %.2f %s '%('\\n Output speed is ',nout,' rpm.');\n",
      "\n",
      "##Directions\n",
      "print('\\n Directions\\n  Gear A is clockwise.\\n  Gear B is counterclockwise.\\n  Gear C is counterclockwise.\\n  Gear D is clockwise.');\n",
      "\n",
      "##Output power\n",
      "hp=T*n/63000.;\n",
      "\n",
      "print'%s %.2f %s '%('\\n Output power is ',hp,' hp.');\n"
     ],
     "language": "python",
     "metadata": {},
     "outputs": [
      {
       "output_type": "stream",
       "stream": "stdout",
       "text": [
        "MACHINE DESIGN \n",
        " Timothy H. Wentzell, P.E. \n",
        " EXAMPLE-11.5 Page No.241\n",
        "\n",
        "\n",
        " Gear train value is   12.00  \n",
        "\n",
        " Motor torque is  54.00  in-lb. \n",
        "\n",
        " Output torque is  648.00  in-lb. \n",
        "\n",
        " Output speed is  145.83  rpm. \n",
        "\n",
        " Directions\n",
        "  Gear A is clockwise.\n",
        "  Gear B is counterclockwise.\n",
        "  Gear C is counterclockwise.\n",
        "  Gear D is clockwise.\n",
        "\n",
        " Output power is  1.50  hp. \n"
       ]
      }
     ],
     "prompt_number": 5
    },
    {
     "cell_type": "heading",
     "level": 2,
     "metadata": {},
     "source": [
      "Ex6-pg243"
     ]
    },
    {
     "cell_type": "code",
     "collapsed": false,
     "input": [
      "import math\n",
      "\n",
      "print('MACHINE DESIGN \\n Timothy H. Wentzell, P.E. \\n EXAMPLE-11.6 Page No.243\\n');\n",
      "\n",
      "##Velocity ratio\n",
      "N2=2400.;\n",
      "N1=20.;\n",
      "Vr=N2/N1;\n",
      "\n",
      "print'%s %.2f %s '%('\\n Velocity ratio =  ',Vr,'');\n",
      "\n",
      "print('\\n Possible Solution: \\n Three sets of gears \\n   -20 tooth and 80 tooth\\n   -20 tooth and 100 tooth\\n   -20 tooth and 120 tooth.');\n"
     ],
     "language": "python",
     "metadata": {},
     "outputs": [
      {
       "output_type": "stream",
       "stream": "stdout",
       "text": [
        "MACHINE DESIGN \n",
        " Timothy H. Wentzell, P.E. \n",
        " EXAMPLE-11.6 Page No.243\n",
        "\n",
        "\n",
        " Velocity ratio =   120.00  \n",
        "\n",
        " Possible Solution: \n",
        " Three sets of gears \n",
        "   -20 tooth and 80 tooth\n",
        "   -20 tooth and 100 tooth\n",
        "   -20 tooth and 120 tooth.\n"
       ]
      }
     ],
     "prompt_number": 6
    }
   ],
   "metadata": {}
  }
 ]
}