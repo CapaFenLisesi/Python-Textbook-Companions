{
 "metadata": {
  "name": ""
 },
 "nbformat": 3,
 "nbformat_minor": 0,
 "worksheets": [
  {
   "cells": [
    {
     "cell_type": "markdown",
     "metadata": {},
     "source": [
      "<h1>Chapter 15: Additional in 'C'<h1>"
     ]
    },
    {
     "cell_type": "markdown",
     "metadata": {},
     "source": [
      "<h3>Example 15.1, Page number: 505<h3>"
     ]
    },
    {
     "cell_type": "code",
     "collapsed": false,
     "input": [
      "#Allocate memory to pointer variable. \n",
      "\n",
      "import sys\n",
      "\n",
      "#Variable initialization\n",
      "j = 0\n",
      "k = int(raw_input(\"How many number : \"))\n",
      "p = [0 for i in range(0,k)]\n",
      "\n",
      "#in python, all variables are allocated using dynamic memory allocation technique and no\n",
      "#malloc function and pointer concept is available in python.\n",
      "\n",
      "#Read the numbers\n",
      "while j != k:\n",
      "    p[j] = int(raw_input(\"Number %d = \"%(j+1)))\n",
      "    j += 1\n",
      "    \n",
      "j = 0\n",
      "\n",
      "#Result\n",
      "sys.stdout.write(\"The numbers are : \")\n",
      "while j != k:\n",
      "    sys.stdout.write(\"%d\\t\"%(p[j]))\n",
      "    j += 1\n",
      "    \n"
     ],
     "language": "python",
     "metadata": {},
     "outputs": [
      {
       "name": "stdout",
       "output_type": "stream",
       "stream": "stdout",
       "text": [
        "How many number : 4\n"
       ]
      },
      {
       "output_type": "stream",
       "stream": "stdout",
       "text": [
        "4\n"
       ]
      },
      {
       "name": "stdout",
       "output_type": "stream",
       "stream": "stdout",
       "text": [
        "Number 1 = 1\n"
       ]
      },
      {
       "name": "stdout",
       "output_type": "stream",
       "stream": "stdout",
       "text": [
        "Number 2 = 2\n"
       ]
      },
      {
       "name": "stdout",
       "output_type": "stream",
       "stream": "stdout",
       "text": [
        "Number 3 = 3\n"
       ]
      },
      {
       "name": "stdout",
       "output_type": "stream",
       "stream": "stdout",
       "text": [
        "Number 4 = 4\n"
       ]
      },
      {
       "output_type": "stream",
       "stream": "stdout",
       "text": [
        "The numbers are : 1\t2\t3\t4\t"
       ]
      }
     ],
     "prompt_number": 2
    },
    {
     "cell_type": "markdown",
     "metadata": {},
     "source": [
      "<h3>Example 15.2, Page number: 506<h3>"
     ]
    },
    {
     "cell_type": "code",
     "collapsed": false,
     "input": [
      "#Memory allocation to pointer variable. \n",
      "\n",
      "import sys\n",
      "\n",
      "#Variable initialization\n",
      "j = 0\n",
      "k = int(raw_input(\"How many Number : \"))\n",
      "p = [0 for i in range(0,k)]\n",
      "\n",
      "#in python, all variables are allocated using dynamic memory allocation technique and no\n",
      "#calloc function and pointer concept is available in python.\n",
      "\n",
      "#Read the numbers\n",
      "while j != k:\n",
      "    p[j] = int(raw_input(\"Number %d = \"%(j+1)))\n",
      "    j += 1\n",
      "    \n",
      "j = 0\n",
      "\n",
      "#Result\n",
      "sys.stdout.write(\"The numbers are : \")\n",
      "while j != k:\n",
      "    sys.stdout.write(\"%d\\t\"%(p[j]))\n",
      "    j += 1\n",
      "    "
     ],
     "language": "python",
     "metadata": {},
     "outputs": [
      {
       "name": "stdout",
       "output_type": "stream",
       "stream": "stdout",
       "text": [
        "How many Number : 3\n"
       ]
      },
      {
       "name": "stdout",
       "output_type": "stream",
       "stream": "stdout",
       "text": [
        "Number 1 = 45\n"
       ]
      },
      {
       "name": "stdout",
       "output_type": "stream",
       "stream": "stdout",
       "text": [
        "Number 2 = 58\n"
       ]
      },
      {
       "name": "stdout",
       "output_type": "stream",
       "stream": "stdout",
       "text": [
        "Number 3 = 98\n"
       ]
      },
      {
       "output_type": "stream",
       "stream": "stdout",
       "text": [
        "The numbers are : 45\t58\t98\t"
       ]
      }
     ],
     "prompt_number": 3
    },
    {
     "cell_type": "markdown",
     "metadata": {},
     "source": [
      "<h3>Example 15.3, Page number: 507<h3>"
     ]
    },
    {
     "cell_type": "code",
     "collapsed": false,
     "input": [
      "#Reallocate memory \n",
      "\n",
      "import sys\n",
      "\n",
      "#Variable Initialization\n",
      "str1 = \"India\"\n",
      "\n",
      "#in python, value tagged method is used for data storage instead of memory tagging.\n",
      "#no realloc function is in python\n",
      "\n",
      "#Result\n",
      "sys.stdout.write(\"str = %s\"%(str1))\n",
      "str1 = \"Hindustan\"\n",
      "sys.stdout.write(\"\\nNow str = %s\"%(str1))\n"
     ],
     "language": "python",
     "metadata": {},
     "outputs": [
      {
       "output_type": "stream",
       "stream": "stdout",
       "text": [
        "str = India\n",
        "Now str = Hindustan"
       ]
      }
     ],
     "prompt_number": 6
    },
    {
     "cell_type": "markdown",
     "metadata": {},
     "source": [
      "<h3>Example 15.4, Page number: 508<h3>"
     ]
    },
    {
     "cell_type": "code",
     "collapsed": false,
     "input": [
      "#Display unused memory \n",
      "\n",
      "import psutil\n",
      "\n",
      "psutil.phymem_usage()\n",
      "\n",
      "#There is no coreleft() function in python. phymem_usage function in the module psutil gives the \n",
      "#status and usage of physical memory in python."
     ],
     "language": "python",
     "metadata": {},
     "outputs": [
      {
       "metadata": {},
       "output_type": "pyout",
       "prompt_number": 6,
       "text": [
        "usage(total=3165270016L, used=987840512L, free=2177429504L, percent=31.2)"
       ]
      }
     ],
     "prompt_number": 6
    },
    {
     "cell_type": "markdown",
     "metadata": {},
     "source": [
      "<h3>Example 15.5, Page number: 510<h3>"
     ]
    },
    {
     "cell_type": "code",
     "collapsed": false,
     "input": [
      "#Linked list\n",
      "\n",
      "import sys\n",
      "\n",
      "#Variable Initialziation\n",
      "ch = 'y'\n",
      "p = 0\n",
      "q = []\n",
      "\n",
      "#Function Definitions\n",
      "def gen_rate(m):\n",
      "    q.append(m)\n",
      "    \n",
      "def show():\n",
      "    print q\n",
      "    \n",
      "def addatstart(m):\n",
      "    q.insert(0,m)\n",
      "    \n",
      "def append(m,po):\n",
      "    q.insert(po,m)\n",
      "\n",
      "def erase(d):\n",
      "    q.remove(d)\n",
      "    \n",
      "def count():\n",
      "    print len(q)\n",
      "    \n",
      "def descending():\n",
      "    q.sort(reverse=True)\n",
      "    \n",
      "#Get choice\n",
      "while ch == 'y':\n",
      "    n = int(raw_input(\"1. Generate\\n2. Add at starting\\n3. Append\\n4. Delete\\n5. Show\\n6.Count\\n7.Descending\\nEnter your choice: \"));\n",
      "    #There is no switch statement in python\n",
      "    if n == 1:\n",
      "        i = int(raw_input(\"How many node you want : \"))\n",
      "        for j in range(0,i):\n",
      "            m = int(raw_input(\"Enter the element : \"))\n",
      "            gen_rate(m)\n",
      "        show()\n",
      "    else:\n",
      "        if n == 2:\n",
      "            m = int(raw_input(\"Enter the element : \"))\n",
      "            addatstart(m)\n",
      "            show()\n",
      "        else:\n",
      "            if n == 3:\n",
      "                m = int(raw_input(\"Enter the element and position \"))\n",
      "                po = int(raw_input(\"Enter the element and position\"))\n",
      "                append(m,po)\n",
      "                show()\n",
      "            else:\n",
      "                if n == 4:\n",
      "                    d = int(raw_input(\"Enter the number for deletion : \"))\n",
      "                    erase(d)\n",
      "                    show()\n",
      "                else:\n",
      "                    if n == 5:\n",
      "                        show()\n",
      "                    else:\n",
      "                        if n == 6:\n",
      "                            count()\n",
      "                        else:\n",
      "                            if n == 7:\n",
      "                                descending()\n",
      "                                show()\n",
      "                            else:\n",
      "                                sys.stdout.write(\"Enter value between 1 to 7\")\n",
      "                \n",
      "    ch = raw_input(\"Do u wnat to continue (y/n)\")\n",
      "    "
     ],
     "language": "python",
     "metadata": {},
     "outputs": [
      {
       "name": "stdout",
       "output_type": "stream",
       "stream": "stdout",
       "text": [
        "1. Generate\n",
        "2. Add at starting\n",
        "3. Append\n",
        "4. Delete\n",
        "5. Show\n",
        "6.Count\n",
        "7.Descending\n",
        "Enter your choice: 1\n"
       ]
      },
      {
       "name": "stdout",
       "output_type": "stream",
       "stream": "stdout",
       "text": [
        "How many node you want : 4\n"
       ]
      },
      {
       "name": "stdout",
       "output_type": "stream",
       "stream": "stdout",
       "text": [
        "Enter the element : 1\n"
       ]
      },
      {
       "name": "stdout",
       "output_type": "stream",
       "stream": "stdout",
       "text": [
        "Enter the element : 5\n"
       ]
      },
      {
       "name": "stdout",
       "output_type": "stream",
       "stream": "stdout",
       "text": [
        "Enter the element : 4\n"
       ]
      },
      {
       "name": "stdout",
       "output_type": "stream",
       "stream": "stdout",
       "text": [
        "Enter the element : 7\n"
       ]
      },
      {
       "output_type": "stream",
       "stream": "stdout",
       "text": [
        "[1, 5, 4, 7]\n"
       ]
      },
      {
       "name": "stdout",
       "output_type": "stream",
       "stream": "stdout",
       "text": [
        "Do u wnat to continue (y/n)n\n"
       ]
      }
     ],
     "prompt_number": 1
    },
    {
     "cell_type": "markdown",
     "metadata": {},
     "source": [
      "<h3>Example 15.6, Page number: 518<h3>"
     ]
    },
    {
     "cell_type": "code",
     "collapsed": false,
     "input": [
      "#Draw circle, line and arc using graphics function\n",
      "\n",
      "%pylab inline\n",
      "import pylab\n",
      "import matplotlib.pyplot as plt\n",
      "\n",
      "#Tkinter package is used for graphics\n",
      "#Give proportionate sizes to draw\n",
      "#draw circle\n",
      "circle2=plt.Circle((.5,.5),.2,color='b')\n",
      "fig = plt.gcf()\n",
      "fig.gca().add_artist(circle2)\n",
      "\n",
      "\n",
      "#draw line\n",
      "figure()\n",
      "pylab.plot([210,110],[150,150])\n",
      "\n",
      "#Draw ellipse\n",
      "figure()\n",
      "from matplotlib.patches import Ellipse\n",
      "e = Ellipse(xy=(35, -50), width=10, height=5, linewidth=2.0, color='g')\n",
      "fig = plt.gcf()\n",
      "fig.gca().add_artist(e)\n",
      "e.set_clip_box(ax.bbox)\n",
      "e.set_alpha(0.7)\n",
      "pylab.xlim([20, 50])\n",
      "pylab.ylim([-65, -35])"
     ],
     "language": "python",
     "metadata": {},
     "outputs": [
      {
       "output_type": "stream",
       "stream": "stdout",
       "text": [
        "Populating the interactive namespace from numpy and matplotlib\n"
       ]
      },
      {
       "output_type": "stream",
       "stream": "stderr",
       "text": [
        "WARNING: pylab import has clobbered these variables: ['pylab', 'e']\n",
        "`%pylab --no-import-all` prevents importing * from pylab and numpy\n"
       ]
      },
      {
       "metadata": {},
       "output_type": "pyout",
       "prompt_number": 61,
       "text": [
        "(-65, -35)"
       ]
      },
      {
       "metadata": {},
       "output_type": "display_data",
       "png": "[encoded data removed]",
       "text": [
        "<matplotlib.figure.Figure at 0x707a9f0>"
       ]
      },
      {
       "metadata": {},
       "output_type": "display_data",
       "png": "[encoded data removed]",
       "text": [
        "<matplotlib.figure.Figure at 0x7349d10>"
       ]
      },
      {
       "metadata": {},
       "output_type": "display_data",
       "png": "[encoded data removed]",
       "text": [
        "<matplotlib.figure.Figure at 0x78994d0>"
       ]
      }
     ],
     "prompt_number": 61
    },
    {
     "cell_type": "markdown",
     "metadata": {},
     "source": [
      "<h3>Example 15.7, Page number: 519<h3>"
     ]
    },
    {
     "cell_type": "code",
     "collapsed": false,
     "input": [
      "#Draw boxes and fill with different designs.\n",
      "\n",
      "%pylab\n",
      "#Tkinter package is used for graphics\n",
      "from matplotlib.patches import Rectangle\n",
      "from matplotlib.collections import PatchCollection\n",
      "\n",
      "e = Rectangle(xy=(35, -50), width=10, height=5, linewidth=2.0, color='b')\n",
      "fig = plt.gcf()\n",
      "fig.gca().add_artist(e)\n",
      "e.set_clip_box(ax.bbox)\n",
      "e.set_alpha(0.7)\n",
      "pylab.xlim([20, 50])\n",
      "pylab.ylim([-65, -35])\n",
      "\n",
      "#There are no different automatic fill styles. user should create the styles."
     ],
     "language": "python",
     "metadata": {},
     "outputs": [
      {
       "metadata": {},
       "output_type": "display_data",
       "png": "[encoded data removed]",
       "text": [
        "<matplotlib.figure.Figure at 0x7373590>"
       ]
      }
     ],
     "prompt_number": 72
    },
    {
     "cell_type": "markdown",
     "metadata": {},
     "source": [
      "<h3>Example 15.8, Page number: 520<h3>"
     ]
    },
    {
     "cell_type": "code",
     "collapsed": false,
     "input": [
      "#Display text in different size, font, vertically and horizontally \n",
      "\n",
      "%pylab\n",
      "\n",
      "from pylab import *\n",
      "\n",
      "#Tkinter package is used for graphics\n",
      "# set limits so that it no longer looks on screen to be 45 degrees\n",
      "xlim([-5,5])\n",
      "\n",
      "# Locations to plot text\n",
      "l1 = array((1,1))\n",
      "l2 = array((5,5))\n",
      "\n",
      "# Rotate angle\n",
      "angle = 90\n",
      "trans_angle = gca().transData.transform_angles(array((45,)),\n",
      "                                               l2.reshape((1,2)))[0]\n",
      "\n",
      "# Plot text\n",
      "th2 = text(l2[0],l2[1],'Hello(Horizontal Text with fontsize 25)\\n\\n',fontsize=25,\n",
      "           rotation=0)\n",
      "th2 = text(l2[0],l2[1],'Hello(Horizontal Text with fontsize 16)',fontsize=16,\n",
      "           rotation=0)\n",
      "th1 = text(l1[0],l1[1],'Hello(Vertical Text)',fontsize=16,\n",
      "           rotation=angle)\n",
      "show()"
     ],
     "language": "python",
     "metadata": {},
     "outputs": [
      {
       "output_type": "stream",
       "stream": "stdout",
       "text": [
        "Using matplotlib backend: module://IPython.kernel.zmq.pylab.backend_inline\n",
        "Populating the interactive namespace from numpy and matplotlib\n"
       ]
      },
      {
       "output_type": "stream",
       "stream": "stderr",
       "text": [
        "WARNING: pylab import has clobbered these variables: ['power', 'draw_if_interactive', 'random', 'fft', 'angle', 'linalg', 'info']\n",
        "`%pylab --no-import-all` prevents importing * from pylab and numpy\n"
       ]
      },
      {
       "metadata": {},
       "output_type": "display_data",
       "png": "[encoded data removed]",
       "text": [
        "<matplotlib.figure.Figure at 0x792e430>"
       ]
      }
     ],
     "prompt_number": 95
    },
    {
     "cell_type": "markdown",
     "metadata": {},
     "source": [
      "<h3>Example 15.9, Page number: 521<h3>"
     ]
    },
    {
     "cell_type": "code",
     "collapsed": false,
     "input": [
      "#Display status of mouse button pressed \n",
      "\n",
      "from Tkinter import *\n",
      "from tkFileDialog import askopenfilename\n",
      "import Image, ImageTk\n",
      "\n",
      "if __name__ == \"__main__\":\n",
      "    root = Tk()\n",
      "\n",
      "    #setting up a tkinter canvas with scrollbars\n",
      "    frame = Frame(root, bd=2, relief=SUNKEN)\n",
      "    frame.grid_rowconfigure(0, weight=1)\n",
      "    frame.grid_columnconfigure(0, weight=1)\n",
      "    xscroll = Scrollbar(frame, orient=HORIZONTAL)\n",
      "    xscroll.grid(row=1, column=0, sticky=E+W)\n",
      "    yscroll = Scrollbar(frame)\n",
      "    yscroll.grid(row=0, column=1, sticky=N+S)\n",
      "    canvas = Canvas(frame, bd=0, xscrollcommand=xscroll.set, yscrollcommand=yscroll.set)\n",
      "    canvas.grid(row=0, column=0, sticky=N+S+E+W)\n",
      "    xscroll.config(command=canvas.xview)\n",
      "    yscroll.config(command=canvas.yview)\n",
      "    frame.pack(fill=BOTH,expand=1)\n",
      "\n",
      "    \n",
      "\n",
      "    #function to be called when mouse is clicked\n",
      "    def printcoords(event):\n",
      "        #outputting x and y coords to console\n",
      "        print \"Mouse Button pressed\"\n",
      "        print (event.x,event.y)\n",
      "    #mouseclick event\n",
      "    canvas.bind(\"<Button 1>\",printcoords)\n",
      "\n",
      "    root.mainloop()\n",
      "    \n",
      "import win32api, win32con\n",
      "\n",
      "print \"Current cursor position at \" \n",
      "print win32api.GetCursorPos()"
     ],
     "language": "python",
     "metadata": {},
     "outputs": [
      {
       "output_type": "stream",
       "stream": "stdout",
       "text": [
        "Mouse Button pressed\n",
        "(207, 115)\n",
        "Current cursor position at "
       ]
      },
      {
       "output_type": "stream",
       "stream": "stdout",
       "text": [
        "\n",
        "(502, 188)\n"
       ]
      }
     ],
     "prompt_number": 108
    },
    {
     "cell_type": "markdown",
     "metadata": {},
     "source": [
      "<h3>Example 15.10, Page number: 523<h3>"
     ]
    },
    {
     "cell_type": "code",
     "collapsed": false,
     "input": [
      "#Change mouse cursor.\n",
      "\n",
      "#Placing the cursor on top of the circle button will change the pointer to circle\n",
      "# and plus button to plus symbol\n",
      "\n",
      "from Tkinter import *\n",
      "import Tkinter\n",
      "\n",
      "top = Tkinter.Tk()\n",
      "\n",
      "B1 = Tkinter.Button(top, text =\"circle\", relief=RAISED,\\\n",
      "                         cursor=\"circle\")\n",
      "B2 = Tkinter.Button(top, text =\"plus\", relief=RAISED,\\\n",
      "                         cursor=\"plus\")\n",
      "B1.pack()\n",
      "B2.pack()\n",
      "top.mainloop()"
     ],
     "language": "python",
     "metadata": {},
     "outputs": [],
     "prompt_number": 110
    },
    {
     "cell_type": "code",
     "collapsed": false,
     "input": [],
     "language": "python",
     "metadata": {},
     "outputs": []
    }
   ],
   "metadata": {}
  }
 ]
}