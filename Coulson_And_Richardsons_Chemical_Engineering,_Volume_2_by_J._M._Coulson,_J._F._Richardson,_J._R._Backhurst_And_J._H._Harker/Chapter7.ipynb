{
 "cells": [
  {
   "cell_type": "markdown",
   "metadata": {},
   "source": [
    "# Chapter 7 - LIQUID FILTRATION"
   ]
  },
  {
   "cell_type": "markdown",
   "metadata": {},
   "source": [
    "## Page 394 Example 7.1"
   ]
  },
  {
   "cell_type": "code",
   "execution_count": 5,
   "metadata": {
    "collapsed": false
   },
   "outputs": [
    {
     "name": "stdout",
     "output_type": "stream",
     "text": [
      "\n",
      " L/υ=3.500000*10**(-3)   and rμυ = 7.130  *10**(11)\n",
      "\n",
      " the value of V1 = 0.018  m**3\n",
      "\n",
      " The value of V = 0.066 m**3\n",
      "\n",
      " The final rate of filtration is 3.79*10**(-5) m**3/sec\n",
      "\n",
      " Rate of washing at 400 kN/m2 = 9.5*10**(-6) m**3/sec\n",
      "\n",
      " Rate of washing at 275 kN/m**2 = 6.5*10**(-6) m**3/sec\n",
      "\n",
      " Thus the amount of wash-water passing in 600s = 0.004 m**3\n"
     ]
    }
   ],
   "source": [
    "from __future__ import division\n",
    "from numpy import mat\n",
    "from sympy import symbols,solve\n",
    "#In the leaf filter filtration is at const pressure from the start\n",
    "#V**2 + 2ALV/v = 2(-deltaP)A**2t/(ruv)\n",
    "\n",
    "#In the filter press,a volume V1 of filtrate is obtained under const rate conditions in time t1,and filtration is then carried out at constant pressure.\n",
    "#V1**2 + 2ALV1/v = 2(-deltaP)A**2t1/(ruv) \n",
    "#and (V**2 − V1**2 ) + 2AL/υ(V − V1) = 2(−P)A**2/rμυ(t − t1)\n",
    "\n",
    "#for the leaf filter\n",
    "t2 = 300#          #t2 is in secs\n",
    "V2 = 2.5*10**(-4)#   #V2 is in m**3\n",
    "t3 = 600#           #t3 is in secs\n",
    "V3 = 4*10**(-4)#     #V3 is in m**3\n",
    "A = 0.05#           #A is in m**2\n",
    "deltaP = -7.13*10**(4)# #it is in N/m**2\n",
    "#putting these values in above eq\n",
    "\n",
    "a = [[2*7.13*10**(4)*0.05**(2)*300,-2*0.05*2.5*10**(-4)],[2*7.13*10**(4)*0.05**(2)*600,-2*0.05*4*10**(-4)]]\n",
    "b = [[(2.5*10**(-4))**2],[(4*10**(-4))**2]]\n",
    "a=mat(a)\n",
    "b=mat(b)\n",
    "x=(a**-1*b)\n",
    "y = [1/x[0],x[1]]\n",
    "print\"\\n L/υ=%f*10**(-3)   and rμυ = %.3f  *10**(11)\"%(y[1]*10**3,y[0]*10**(-11))#\n",
    "\n",
    "#for the filter press\n",
    "V1 = symbols('V1')\n",
    "s = solve(V1**2 + (2.16*y[1]*V1)-(4*10**(5)*2.16**2)/y[0]*180)\n",
    "print\"\\n the value of V1 = %.3f  m**3\"%(s[1])\n",
    "\n",
    "#For a constant pressure period (t - t1)=900secs\n",
    "#Calculting the total volume of filtrate\n",
    "V = symbols('V')\n",
    "d = solve((V**2-3.33*10**(-4))+(1.512*10**(-2)*(V-1.825*10**(-2))-5.235*10**(-6)*900))#\n",
    "print\"\\n The value of V = %.3f m**3\"%(d[1])\n",
    "\n",
    "f = (4*10**(5)*(2.16)**2)/(7.13*10**(11)*(6.15*10**(-2) + 2.16*3.5*10**(-3)))#\n",
    "print\"\\n The final rate of filtration is %.2f*10**(-5) m**3/sec\"%(f*10**(5))#\n",
    "\n",
    "# Assuming  viscosity of the filtrate is the same as that of the wash-water\n",
    "rw_400 = (0.25)*f#\n",
    "print\"\\n Rate of washing at 400 kN/m2 = %.1f*10**(-6) m**3/sec\"%(rw_400*10**(6))#\n",
    "\n",
    "rw_275 = rw_400*(275/400)#\n",
    "print\"\\n Rate of washing at 275 kN/m**2 = %.1f*10**(-6) m**3/sec\"%(rw_275*10**6)#\n",
    "print\"\\n Thus the amount of wash-water passing in 600s = %.3f m**3\"%(600*rw_275)#"
   ]
  },
  {
   "cell_type": "markdown",
   "metadata": {},
   "source": [
    "## Page 398 Example 7.2"
   ]
  },
  {
   "cell_type": "code",
   "execution_count": 7,
   "metadata": {
    "collapsed": false
   },
   "outputs": [
    {
     "name": "stdout",
     "output_type": "stream",
     "text": [
      "\n",
      " Volume of 100 kg whiting = 0.033   m**3\n",
      "\n",
      " Volume of cake = 0.056   m**3\n",
      "\n",
      " Volume of liquid in cake = 0.022   m**3\n",
      "\n",
      " Volume of filtrate = 0.978 m**3\n",
      "\n",
      " volume of cake/volume of filtrate v = 0.057  \n",
      "\n",
      " r = 8.25*10**(13)/m**2\n",
      "\n",
      " optimum frame thickness = 69.7 mm\n",
      "\n",
      " Frame thickness = -59.26 mm\n"
     ]
    }
   ],
   "source": [
    "from sympy import symbols,solve\n",
    "#The slurry contains 100kg whiting/m**3 of water\n",
    "print\"\\n Volume of 100 kg whiting = %.3f   m**3\"%(100/3000)#\n",
    "print\"\\n Volume of cake = %.3f   m**3\"%(0.0333/0.6)#\n",
    "print\"\\n Volume of liquid in cake = %.3f   m**3\"%(0.05556*0.4)#\n",
    "print\"\\n Volume of filtrate = %.3f m**3\"%((1-0.0222))#\n",
    "print\"\\n volume of cake/volume of filtrate v = %.3f  \"%(0.0556/0.978)#\n",
    "A = 10**(-4)#                 #area in sq meters\n",
    "deltaP = -1.65*10**(5)#       #P is in pascals\n",
    "l = 0.01#                    #length is in meters\n",
    "vol_flow_rate = 2*10**(-8)#           #Volume flow rate is in m**3/sec\n",
    "u = 10**(-3)#                 #vicosity is in Ns/m**2\n",
    "\n",
    "r = symbols('r')\n",
    "r1 = solve((10**4)*(2*10**(-8)*r)-1.65*10**(5)/(10**(-5)))[0]\n",
    "print\"\\n r = %.2f*10**(13)/m**2\"%(r1*10**(-13))#\n",
    "\n",
    "def optimum():\n",
    "    Lopt = 1.161*10**(-3)*(900)**(0.5)#  #t = 900 secs\n",
    "    return Lopt\n",
    "print\"\\n optimum frame thickness = %.1f mm\"%(2*optimum()*1000)#\n",
    "\n",
    "#total cycle time = 1.015L**2 + 900\n",
    "#rate of cake production R = L/(1.015L**2 + 900)\n",
    " \n",
    "L = symbols('L')\n",
    "L1 = solve(1.025*10**(6)*L**2 + 900 - 2.050*10**(6)*L**2)\n",
    "print\"\\n Frame thickness = %.2f mm\"%(2*L1[0]*10**3)#"
   ]
  },
  {
   "cell_type": "markdown",
   "metadata": {},
   "source": [
    "## Page 404 Example 7.3"
   ]
  },
  {
   "cell_type": "code",
   "execution_count": 11,
   "metadata": {
    "collapsed": false
   },
   "outputs": [
    {
     "name": "stdout",
     "output_type": "stream",
     "text": [
      "\n",
      " LA/v =0.015130       A**2/rμv = 0.046  *10**(-7)\n",
      "\n",
      " For the full size plant:\n",
      "\n",
      " LA/v = 0.151         A**2/rμv=0.462543*10**(-7)\n",
      "\n",
      " t = 856 secs\n",
      "\n",
      " deltaP = 2902 kN/m**2\n"
     ]
    }
   ],
   "source": [
    "from sympy import symbols,solve\n",
    "from numpy import mat\n",
    "from sympy.mpmath import quad\n",
    "V = 0.094#         #volume in m**3\n",
    "deltaP = -3530#    #P is in kN/m**2\n",
    "\n",
    "#At t = 1105 secs\n",
    "V1 = 0.166#       #V is in m**3\n",
    "deltaP1 = -5890#   #P is in kN/m**2\n",
    "\n",
    "a = [[2.21*10**(6), -0.094],[6.51*10**(6),-0.166]]\n",
    "b = [[0.0088],[0.0276]]\n",
    "a=mat(a)\n",
    "b=mat(b)\n",
    "x = (a**-1)*b\n",
    "y = [x[1],x[0]]\n",
    "print\"\\n LA/v =%f       A**2/rμv = %.3f  *10**(-7)\"%(y[0],y[1]*10**7)#\n",
    "print\"\\n For the full size plant:\"\n",
    "print\"\\n LA/v = %.3f         A**2/rμv=%f*10**(-7)\"%(10*y[0],y[1]*10**8)#\n",
    "\n",
    "\n",
    "#Solving LHS of the integral\n",
    "LHS = quad(lambda b:b+0.154+2.31,[0,1])#\n",
    "#Equating LHS = RHS\n",
    "t = LHS/(3.46*10**(-3))#\n",
    "print\"\\n t = %d secs\"%(t)#\n",
    "print\"\\n deltaP = %d kN/m**2\"%((1+0.154)/(4.64*10**(-7)*857))#\n",
    "\n"
   ]
  },
  {
   "cell_type": "markdown",
   "metadata": {},
   "source": [
    "## Page 423 Example 7.4"
   ]
  },
  {
   "cell_type": "code",
   "execution_count": 13,
   "metadata": {
    "collapsed": false
   },
   "outputs": [
    {
     "name": "stdout",
     "output_type": "stream",
     "text": [
      "\n",
      " L/v = 0.002           ruv = 3.503  *10**(10)\n",
      "\n",
      " Area of filtering surface = 12.566   m**2\n",
      "\n",
      " Bulk volume of cake deposited =0.063 m**3/revolution\n",
      "\n",
      " V = 0.143 m**3\n",
      "\n",
      " t = 26.793   secs\n",
      "\n",
      " time for 1 revolution =67.0 secs\n",
      "\n",
      " speed = 0.015Hz\n",
      "\n",
      " rate of filtrate production w = 2.12 kg/sec\n",
      "\n",
      " mass of slurry S =3.5 kg/sec\n"
     ]
    }
   ],
   "source": [
    "from sympy import symbols,solve\n",
    "from numpy import mat,sqrt,pi\n",
    "\n",
    "\n",
    "a = [[2*84300*0.02**(2)*60,-2*0.02*0.0003],[2*84300*0.02**(2)*120,-2*0.02*0.00044]]\n",
    "b = [[0.0003**2],[0.00044**2]]\n",
    "a=mat(a)\n",
    "b=mat(b)\n",
    "x = (a**-1)*b\n",
    "y = [x[1],1/x[0]]#\n",
    "print\"\\n L/v = %.3f           ruv = %.3f  *10**(10)\"%(y[0],y[1]*10**(-10))#\n",
    "print\"\\n Area of filtering surface = %.3f   m**2\"%(4*(pi))#\n",
    "print\"\\n Bulk volume of cake deposited =%.3f m**3/revolution\"%(4*(pi)*0.005)#\n",
    "\n",
    "V = sqrt(1*10**(-6)*143**2)#\n",
    "print\"\\n V = %.3f m**3\"%(V)#\n",
    "\n",
    "t =symbols('t')\n",
    "t1 = solve(0.141**2 +2*2.19*10**(-3)*0.141-2*84300*(4*(pi))**(2)*t/(3.48*10**10))[0]\n",
    "print\"\\n t = %.3f   secs\"%(t1)#\n",
    "print\"\\n time for 1 revolution =%.1f secs\"%(t1/0.4)#\n",
    "print\"\\n speed = %.3fHz\"%(0.4/t1)#\n",
    "print\"\\n rate of filtrate production w = %.2f kg/sec\"%(143/67.3)\n",
    "print\"\\n mass of slurry S =%.1f kg/sec\"%(1.66*2.11)#"
   ]
  },
  {
   "cell_type": "markdown",
   "metadata": {},
   "source": [
    "## Page 424 Example 7.5"
   ]
  },
  {
   "cell_type": "code",
   "execution_count": 38,
   "metadata": {
    "collapsed": false
   },
   "outputs": [
    {
     "name": "stdout",
     "output_type": "stream",
     "text": [
      "\n",
      "rμv = -46728971962\n",
      "\n",
      "\n",
      " rμl = 5362394614\n",
      "\n",
      " B1= -11688.555      B2= 5901.821  \n",
      "\n",
      " the filtration time for maximum throughput is:\n",
      "\n",
      " t = 23041.859   secs\n",
      "\n",
      " V= 1.359   m**3\n",
      "\n",
      "Mean rate of filtration is: 30.94 *10**-6 m**3/s\n"
     ]
    }
   ],
   "source": [
    "from sympy import symbols,solve\n",
    "from numpy import mat,pi\n",
    "from scipy import sqrt\n",
    "V1 = 0.00025#               #V is in m**3\n",
    "t = 300#                    #t is in secs\n",
    "a = mat([[7.14*10**(-6),2.86*10**(-4)],[11.42*10**(-6),2.86*10**(-4)]])\n",
    "b = mat([[1.2*10**(6)],[1*10**(6)]])\n",
    "x = (a**-1)*b#\n",
    "\n",
    "#for the plate and frame filter\n",
    "B1 = x[0]/(2*2.2**2*413*10**3)#\n",
    "B2 = x[1]/(2.2*413*1000)#\n",
    "\n",
    "print\"\\nrμv = %d\\n\"%(x[0])#\n",
    "print\"\\n rμl = %d\"%(x[1])#\n",
    "print\"\\n B1= %.3f      B2= %.3f  \"%(B1,B2)#\n",
    "print\"\\n the filtration time for maximum throughput is:\"\n",
    "\n",
    "t1 = 21.6*10**3#\n",
    "t0= t1 +B2*sqrt(t1/B1)[0]\n",
    "\n",
    "print\"\\n t = %.3f   secs\"%abs(t0)#\n",
    "V = sqrt(t1/B1)[0]\n",
    "print\"\\n V= %.3f   m**3\"%abs(V)#\n",
    "fr=((V/(t1+t0))/10**-6)[0,0]\n",
    "print\"\\nMean rate of filtration is: %.2f *10**-6 m**3/s\"%abs(fr)"
   ]
  },
  {
   "cell_type": "markdown",
   "metadata": {},
   "source": [
    "## Page 426 Example 7.6"
   ]
  },
  {
   "cell_type": "code",
   "execution_count": 48,
   "metadata": {
    "collapsed": false
   },
   "outputs": [
    {
     "name": "stdout",
     "output_type": "stream",
     "text": [
      "\n",
      "Thickness of cake produced is : 5.7 mm\n",
      "\n",
      " The value of K is 3.38*10**(-10)\n",
      "\n",
      " The thickness is -0.0182 m\n",
      "\n",
      " The minimum number of plates required is 6\n",
      "\n",
      " The sizes of frames which will give exactly the required rate of filtration when six are used are 46.716   mm\n",
      "\n",
      "\n",
      "\n",
      "  Thus any frame thickness between 47 and 99 mm will be satisfactory. In practice,50 mm (2 in) frames would probably be used.\n"
     ]
    }
   ],
   "source": [
    "from math import pi, sqrt,ceil\n",
    "from sympy import symbols,solve\n",
    "\n",
    "A=0.6*0.6*pi#       #in m**2\n",
    "rate=1.25*10**-4#     # in m**3/s\n",
    "\n",
    "v_w=0.2/(3*10**3)#\n",
    "v_f=10**-3-v_w#\n",
    "\n",
    "v=v_w/v_f#\n",
    "v_rate=rate*v#\n",
    "w=360*0.2#\n",
    "\n",
    "t=v_rate*w/A#\n",
    "print\"\\nThickness of cake produced is : %.1f mm\"%(t/10**-4)#\n",
    "K = symbols('K')\n",
    "K1 = solve((1.25*10**(-4)*360)**2-K*(6.5*10**(4)*(0.36*(pi))**(2)*72))[0]\n",
    "print\"\\n The value of K is %.2f*10**(-10)\"%(K1*10**(10))#\n",
    "\n",
    "#Filter press\n",
    "#Using a filter press with n frames of thickness b m the total time, for one complete cycle of the press =(tf+120n+240),where tf is the time during which filtration is occurring\n",
    "#overall rate of filtration = Vf/(tf + 120n + 240)\n",
    "\n",
    "# Vf = 0.3**(2)*n*b/0.143\n",
    "#tf = 2.064*10**5 b**2\n",
    "\n",
    "b = symbols('b')\n",
    "b1 = solve(b**2 - 0.0458*b - 0.001162)#\n",
    "print\"\\n The thickness is %.4f m\"%(b1[0])#\n",
    "\n",
    "def number_of_plates():\n",
    "    \n",
    "    n = (0.030 + 25.8*b1[1]**2)/(0.629*b1[1]-0.015)#\n",
    "    return n\n",
    "n = number_of_plates()#\n",
    "print\"\\n The minimum number of plates required is %d\"%(ceil(n))#\n",
    "\n",
    "d = symbols('d')\n",
    "d1 = solve(ceil(n)*(0.629*d-0.015)-0.030-25.8*d**2)[0]\n",
    "print\"\\n The sizes of frames which will give exactly the required rate of filtration when six are used are %.3f   mm\"%(d1*10**3)#\n",
    "print\"\\n\\n\\n  Thus any frame thickness between 47 and 99 mm will be satisfactory. In practice,50 mm (2 in) frames would probably be used.\""
   ]
  },
  {
   "cell_type": "markdown",
   "metadata": {},
   "source": [
    "## Page 430 Example 7.7"
   ]
  },
  {
   "cell_type": "code",
   "execution_count": 50,
   "metadata": {
    "collapsed": false
   },
   "outputs": [
    {
     "name": "stdout",
     "output_type": "stream",
     "text": [
      "\n",
      " t1 = 825secs\n",
      "\n",
      " t -t1 = 2178 secs\n",
      "\n",
      " cycle time = 4083 secs\n",
      "\n",
      " Increase in filtration rate is 9.2 per cent\n"
     ]
    }
   ],
   "source": [
    "from __future__ import division\n",
    "t1 = 600/(1/4)*(11/32)#\n",
    "print\"\\n t1 = %dsecs\"%(t1)#\n",
    "#Substituting gives \n",
    "deltaT = (19200/3)*(784-121+34)/2048#\n",
    "print\"\\n t -t1 = %d secs\"%(deltaT)# \n",
    "Cycle_time = 180+900+t1+deltaT#\n",
    "print\"\\n cycle time = %d secs\"%(Cycle_time)#\n",
    "Increase = (0.000214 - 0.000196)/(0.000196)*100#\n",
    "print\"\\n Increase in filtration rate is %.1f per cent\"%(Increase)#\n",
    " "
   ]
  }
 ],
 "metadata": {
  "kernelspec": {
   "display_name": "Python 2",
   "language": "python",
   "name": "python2"
  },
  "language_info": {
   "codemirror_mode": {
    "name": "ipython",
    "version": 2
   },
   "file_extension": ".py",
   "mimetype": "text/x-python",
   "name": "python",
   "nbconvert_exporter": "python",
   "pygments_lexer": "ipython2",
   "version": "2.7.9"
  }
 },
 "nbformat": 4,
 "nbformat_minor": 0
}
