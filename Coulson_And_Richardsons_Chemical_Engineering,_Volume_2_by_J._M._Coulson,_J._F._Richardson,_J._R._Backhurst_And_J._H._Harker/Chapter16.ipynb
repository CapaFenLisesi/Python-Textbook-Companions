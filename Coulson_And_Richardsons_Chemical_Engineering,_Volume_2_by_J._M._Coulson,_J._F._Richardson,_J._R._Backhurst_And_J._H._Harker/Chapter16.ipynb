{
 "cells": [
  {
   "cell_type": "markdown",
   "metadata": {},
   "source": [
    "# Chapter 16 - Drying"
   ]
  },
  {
   "cell_type": "markdown",
   "metadata": {},
   "source": [
    "## Page 909 Example 16.1"
   ]
  },
  {
   "cell_type": "code",
   "execution_count": 5,
   "metadata": {
    "collapsed": false
   },
   "outputs": [
    {
     "name": "stdout",
     "output_type": "stream",
     "text": [
      "\n",
      "     mA = 0.113 kg/sec\n",
      "\n",
      " The total drying time is then 24.0 ksec or 6.65 hr \n"
     ]
    }
   ],
   "source": [
    "from math import log\n",
    "from __future__ import division\n",
    "#For the first drying operation\n",
    "w1 = 0.25#                 #in kg/kg\n",
    "w = 0.10#                  #in kg/kg\n",
    "wc = 0.15#                 #in kg/kg\n",
    "we = 0.05#                 #in kg/kg\n",
    "f1 = w1-we#                #in kg/kg\n",
    "fc = wc - we#              #in kg/kg\n",
    "f = w - we#                #in kg/kg\n",
    "\n",
    "#x = mA\n",
    "def TotalDryingTime(t):\n",
    "    x = (1/t)*((f1-fc)/fc + log(fc/f))\n",
    "    return x\n",
    "\n",
    "print\"\\n     mA = %.3f kg/sec\"%(TotalDryingTime(15))\n",
    "\n",
    "#For the second drying operation\n",
    "w12 = 0.30#                  #in kg/kg\n",
    "w2 = 0.08#                   #in kg/kg\n",
    "wc2 = 0.15#                  #in kg/kg\n",
    "we2 = 0.05#                  #in kg/kg\n",
    "f12 = w12 - we2#             #in kg/kg\n",
    "fc2 = wc2 - we2#             #in kg/kg\n",
    "f2 = w2 - we2#               #in kg/kg\n",
    "\n",
    "t1=(1/TotalDryingTime(15))*((0.25-0.10)/0.10 + log(0.10/0.03))\n",
    "print\"\\n The total drying time is then %.1f ksec or %.2f hr \"%(t1,t1*1000/3600)"
   ]
  },
  {
   "cell_type": "markdown",
   "metadata": {},
   "source": [
    "## Page 909 Example 16.2"
   ]
  },
  {
   "cell_type": "code",
   "execution_count": 6,
   "metadata": {
    "collapsed": false
   },
   "outputs": [
    {
     "data": {
      "image/png": "[encoded data removed]",
      "text/plain": [
       "<matplotlib.figure.Figure at 0x7f0dd8102610>"
      ]
     },
     "metadata": {},
     "output_type": "display_data"
    },
    {
     "name": "stdout",
     "output_type": "stream",
     "text": [
      "\n",
      " k = 0.520000\n",
      "\n",
      " t1 = 1090 ksecs or 12.6 days\n"
     ]
    }
   ],
   "source": [
    "%matplotlib inline\n",
    "from matplotlib.pyplot import plot,title,show,xlabel,ylabel\n",
    "from sympy import symbols,solve\n",
    "\n",
    "E = [1, 0.64 ,0.49, 0.38, 0.295, 0.22, 0.14]\n",
    "J = [0, 0.1, 0.2, 0.3, 0.5, 0.6 ,0.7]\n",
    "plot(J,E)\n",
    "title(\"Plot for drying data\")\n",
    "xlabel(\"J = kt/L**2\")\n",
    "ylabel(\"E\")\n",
    "show()\n",
    "\n",
    "#For the 10 mm strips\n",
    "mi = (0.28 - 0.07)#        #Initial free moisture content in kg/kg\n",
    "mf = (0.13-0.07)#          #Final free moisture content in kg/kg\n",
    "#at\n",
    "t = 25#                    #time is in ksecs\n",
    "E = (0.06/0.21)\n",
    "#at E = 0.286 ,J = 0.52 from the plot of given data and J = kt/L**2\n",
    "k = symbols('k')\n",
    "k1 = solve(0.52 - (k*t)/(10/2)**2)[0]\n",
    "print\"\\n k = %f\"%(k1)\n",
    "\n",
    "#for the 60 mm planks\n",
    "m1i = (0.22 - 0.07)#       #Initial free moisture content in kg/kg\n",
    "m1f = (0.13 - 0.07)#       #Final free moisture content in kg/kg\n",
    "E = (m1f/m1i)\n",
    "#at E = 0.20 from yhe plot of the given data J = 0.63 and J = kt/L**2\n",
    "t1 = 0.63*(60/2)**(2)/k1\n",
    "print\"\\n t1 = %d ksecs or %.1f days\"%(t1,(t1*1000/(3600*24)))"
   ]
  },
  {
   "cell_type": "markdown",
   "metadata": {},
   "source": [
    "## Page 911 Example 16.3"
   ]
  },
  {
   "cell_type": "code",
   "execution_count": 8,
   "metadata": {
    "collapsed": false
   },
   "outputs": [
    {
     "name": "stdout",
     "output_type": "stream",
     "text": [
      "\n",
      " The heat content of this stream = 6.05 kW\n",
      "\n",
      " Heat in the water vapour = 119.3 kW\n",
      "\n",
      " The dried solids contain 0.0036 kg/s water and hence heat content of this stream is: 0.07 kW\n",
      "\n",
      " G = 2.07 kg/secs\n",
      "\n",
      " Water in the outlet stream 0.0588 kg/secs\n",
      "\n",
      " The humidity H = 0.0284 kg/kg dry air\n"
     ]
    }
   ],
   "source": [
    "from sympy import symbols,solve\n",
    "\n",
    "#(a) Air\n",
    "#G kg/s dry air enter with 0.006G kg/s water vapour and hence the heat content of this stream= \n",
    "#[(1.00G) + (0.006G × 2.01)](385 − 273) = 113.35G kW\n",
    "\n",
    "#(b) Wet solid\n",
    "#0.125 kg/s enter containing 0.40 kg water/kg wet solid, assuming the moisture is expressed on a wet basis.\n",
    "flowWater = (0.125*0.40)#               #in kg/sec\n",
    "flowDrySolid = (0.125-0.050)#           #in kg/sec\n",
    "#Hence heat content of this stream\n",
    "q = ((0.050*4.18)+(0.075*0.88))*(295-273)\n",
    "print\"\\n The heat content of this stream = %.2f kW\"%(q)\n",
    "\n",
    "#Heat out \n",
    "#(a) Air\n",
    "#Heat in exit air = [(1.00 G) + (0.006 G × 2.01)](310 − 273) = 37.45G kW.\n",
    "fd = 0.075#               #mass flow rate of dry solids in kg/sec\n",
    "w = 0.05*0.075/(1+0.05)#  #water in the dried solids leaving in kg/secs\n",
    "we = (0.050 - w)#         #The water evaporated into gas stream in kg/secs\n",
    "\n",
    "#Assuming evaporation takes place at 295 K,then:\n",
    "qout = 0.0464*(2.01*(310-295)+2449+4.18*(295-273))\n",
    "print\"\\n Heat in the water vapour = %.1f kW\"%(qout)\n",
    "\n",
    "#the total heat in this stream = (119.30 + 37.45G) kW.\n",
    "#(b) Dried solids\n",
    "\n",
    "\n",
    "#The dried solids contain 0.0036 kg/s water and hence heat conten     t of this stream is:\n",
    "q1 = ((0.075*0.88)+(0.0036*4.18)/(305-273))\n",
    "print\"\\n The dried solids contain 0.0036 kg/s water and hence heat content of this stream is: %.2f kW\"%(q1)\n",
    "   \n",
    "   \n",
    "#(c) Losses\n",
    "#These amount to 20 kJ/kg dry air or 20m kW.\n",
    "#Heat Balance\n",
    "G = symbols('G')\n",
    "G1 = solve(113.35*G + 6.05 - 119.30 - 37.45*G - 2.59 - 20*G)[0]\n",
    "print\"\\n G = %.2f kg/secs\"%(G1)\n",
    "print\"\\n Water in the outlet stream %.4f kg/secs\"%(0.006*2.07+0.0464)\n",
    "print\"\\n The humidity H = %.4f kg/kg dry air\"%(0.0588/2.07)"
   ]
  },
  {
   "cell_type": "markdown",
   "metadata": {},
   "source": [
    "## Page 922 Example 16.4"
   ]
  },
  {
   "cell_type": "code",
   "execution_count": 9,
   "metadata": {
    "collapsed": false
   },
   "outputs": [
    {
     "name": "stdout",
     "output_type": "stream",
     "text": [
      "\n",
      " water in the product ,b = 12.8 kg\n",
      "\n",
      " As the final moisture content is above the critical value, all the drying is at this constant rate and the time of drying is: 11700 ksecs or 3.25 hr\n"
     ]
    }
   ],
   "source": [
    "from sympy import symbols,solve\n",
    "\n",
    "#In 100 kg of feed\n",
    "\n",
    "#mass of water = \n",
    "mw = 100*30/100#                  #mass of water in kg\n",
    "#mass of dry solids = \n",
    "md = 100-30#                      #mass of dry solids\n",
    "   \n",
    "#and:\n",
    "#For b kg water in the dried solids: 100b/(b + 70) = 15.5\n",
    "b = symbols('b')\n",
    "b1 = solve(100*b - 15.5*(b+70))[0]\n",
    "print\"\\n water in the product ,b = %.1f kg\"%(b1)\n",
    "\n",
    "#Initial water content \n",
    "w1 = 30/70#            #Intial moisture content in kg/kg dry solids\n",
    "#Final moisture content\n",
    "w2 = (12.8/70)#        #Final moisture content in kg/kg dry solids\n",
    "#water to be removed\n",
    "w3 = (30-12.8)#        #water to be removed in kg\n",
    "\n",
    "#Surface of drying\n",
    "S = (0.03*70)#            #Surface for drying in m**2\n",
    "rate = (0.0007*2.1)#      #Rate of drying in kg/sec\n",
    "\n",
    "#As the final moisture content is above the critical value, all the drying is at this constant rate and the time of drying is:\n",
    "t = 17.2/0.00147\n",
    "print\"\\n As the final moisture content is above the critical value, all the drying is at this constant rate and the time of drying is: %d ksecs or %.2f hr\"%(t,t/3600)"
   ]
  },
  {
   "cell_type": "markdown",
   "metadata": {},
   "source": [
    "## Page 930 Example 16.5"
   ]
  },
  {
   "cell_type": "code",
   "execution_count": 11,
   "metadata": {
    "collapsed": false
   },
   "outputs": [
    {
     "name": "stdout",
     "output_type": "stream",
     "text": [
      "\n",
      " For adiabatic drying the outlet air temperature = 331.6 K\n",
      "\n",
      " Total heat = 419.5 kJ/kg or 146 kW\n",
      "\n",
      " Mass flow rate of inlet air = 2.05 kg/secs\n",
      "\n",
      " Mass flow rate of dry air ,Ga = 2.03 kg/secs\n",
      "\n",
      " the humidity of the outlet air H2 = 0.0348 kg/kg\n",
      "\n",
      " The cross sectional area of the dryer is 2.18 m**2\n",
      "\n",
      " The equivalent diameter of the dryer = 1.67 m\n",
      "\n",
      " Logarithmic mean temperature difference = 45.5 deg K\n",
      "\n",
      " The length of the dryer = 10.1 m\n",
      "\n",
      " Length/diameter ratio = 6 \n"
     ]
    }
   ],
   "source": [
    "from sympy import symbols,solve\n",
    "from math import exp,log,pi\n",
    "\n",
    "#Inlet air temperature\n",
    "Tair = 400#            #Inlet air temperature in kelvins\n",
    "H = 0.01#              #Humidity is in kg/kg dry air\n",
    "#*therefore wet bulb temperature = \n",
    "Twetbulb = 312#        #Inlet wet-bulb temperature\n",
    "NTU = 1.5#              #Number of transfer units\n",
    "\n",
    "#Then for adiabatic drying the outlet air temperature,To is given by\n",
    "To = symbols('To')\n",
    "To1 = solve(exp(1.5)*(To-312)-(400-312))[0]\n",
    "print\"\\n For adiabatic drying the outlet air temperature = %.1f K\"%(To1)\n",
    "\n",
    "#Solids outlet temperature will be taken to be maximum allowable,325K\n",
    "#From the steam tables in the Appendix, the latent heat of vaporisation of water at 312 K is2410 kJ/kg. Again from steam tables, the specific heat capacity of water vapour = 1.88 kJ/kg K and that of the solids will be taken as 2.18 kJ/kg K.\n",
    "\n",
    "#For a mass flow of solids of 0.35 kg/s and inlet and outlet moisture contents of 0.15 and 0.005 kg/kg dry solids respectively, the mass of water evaporated = 0.35(0.15 − 0.005) = 0.0508 kg/s.\n",
    "\n",
    "#For unit mass of solids ,the heat duty includes:\n",
    "       #Heat to the solids\n",
    "qsolids = 2.18*(325-300)#       #heat to solids in kJ/kg\n",
    "#Heat to raise the moisture to the dew point\n",
    "qdew = (0.15*4.187*(312-300))#  #in kJ/kg\n",
    "#Heat of vaporisation\n",
    "qvap = 2410*(0.15-0.005)#       #in kJ/kg\n",
    "#Heat to raise remaining moisture to solids outlet temperature\n",
    "qremaining = (0.05*4.187)*(325-312)\n",
    "#Heat to raise evaporated moisture to the air outlet temp.\n",
    "qevapo = (0.15-0.005)*1.88*(331.5-312)\n",
    "qtotal = qsolids + qdew + qvap + qremaining + qevapo\n",
    "print\"\\n Total heat = %.1f kJ/kg or %d kW\"%(qtotal,qtotal*0.35)\n",
    "\n",
    "#The humid heat of entering air is 1.03 kJ/kg K\n",
    "#G1 (1 +H1) = Q/Cp1(T1 − T2)\n",
    "#where: G1 (kg/s) is the mass flowrate of inlet air,\n",
    "#H1 (kg/kg) is the humidity of inlet air,\n",
    "#Q (kW) is the heat duty,\n",
    "#Cp1 (kJ/kg K) is the humid heat of inlet air\n",
    "#and: T1 and T2 (K) are the inlet and outlet air temperatures         respectively.\n",
    "G1 = symbols('G1')\n",
    "G = solve(G1*(1+0.01)-146/(1.03*(400-331.5)))[0]\n",
    "print\"\\n Mass flow rate of inlet air = %.2f kg/secs\"%(G)\n",
    "print\"\\n Mass flow rate of dry air ,Ga = %.2f kg/secs\"%(G/1.01)\n",
    "print\"\\n the humidity of the outlet air H2 = %.4f kg/kg\"%(0.01+0.0508/2.05)\n",
    "\n",
    "#At a dry bulb temperature of 331.5 K, with a humidity of 0.0347 kg/kg, the wet-bulb temperatureof the outlet air, from Figure 13.4 in Volume 1, is 312 K, the same as the inlet, which is the case for adiabatic drying.\n",
    "\n",
    "#The dryer diameter is then found from the allowable mass velocity of the air and the entering air flow and for a mass velocity of 0.95 kg/m**2.secs, the cross sectional area of the dryer is\n",
    "print\"\\n The cross sectional area of the dryer is %.2f m**2\"%(2.07/0.95)\n",
    "print\"\\n The equivalent diameter of the dryer = %.2f m\"%(((4*2.18)/pi)**0.5)\n",
    "\n",
    "#With a constant drying temperature of 312 K:\n",
    "#at the inlet\n",
    "deltaT1 = 400-312#           #inlet temperature is in deg K\n",
    "#at the outlet\n",
    "deltaT2 = 331.5-312#         #outlet temperature is in deg K\n",
    "Tlogmean = (deltaT1 - deltaT2)/log(deltaT1/deltaT2)\n",
    "print\"\\n Logarithmic mean temperature difference = %.1f deg K\"%(Tlogmean)\n",
    "#The length of the dryer, L is then: L = Q/(0.0625πDG**(0.67)*\u001bTm)\n",
    "#where D (m) is the diameter\n",
    "#and G(kg/m**2.secs) is the air mass velocity.\n",
    "L = 146/(0.0625*(pi)*1.67*(0.95)**(0.67)*45.5)\n",
    "print\"\\n The length of the dryer = %.1f m\"%(L)\n",
    "print\"\\n Length/diameter ratio = %d \"%(10.1/1.67)"
   ]
  },
  {
   "cell_type": "markdown",
   "metadata": {},
   "source": [
    "## Page 950 Example 16.6"
   ]
  },
  {
   "cell_type": "code",
   "execution_count": 12,
   "metadata": {
    "collapsed": false
   },
   "outputs": [
    {
     "data": {
      "image/png": "[encoded data removed]",
      "text/plain": [
       "<matplotlib.figure.Figure at 0x7f0dc1cf0f90>"
      ]
     },
     "metadata": {},
     "output_type": "display_data"
    },
    {
     "name": "stdout",
     "output_type": "stream",
     "text": [
      "\n",
      " D = 4.54 m\n"
     ]
    }
   ],
   "source": [
    "from math import sqrt\n",
    "%matplotlib inline\n",
    "from matplotlib.pyplot import plot,title,show,xlabel,ylabel\n",
    "\n",
    "H = 0.036#               #Humidity is in kg/kg at 811 K\n",
    "#Taking R as 90 per cent and P as 101.3 kN/m2, then, for assumed values of Tb of 321, 333 and 344 K\n",
    "#Pw = 13,20 and 32 kN/m2, respectively\n",
    "#G = 27.8, 12.9 and 6.02 kg/s, respectively.\n",
    "     \n",
    "#for Tb = 321, 333 and 344 K,\n",
    "#G = 7.16, 7.8 and 7.54 kg/s respectively.\n",
    "Tb = [321, 333, 344]\n",
    "G1 = [27.8 ,12.9, 6.02]#           #Temperature is in kelvins\n",
    "G = [7.16 ,7.8, 7.54]#             #flow rate in kg/secs\n",
    "plot(Tb,G)\n",
    "plot(Tb,G1)\n",
    "title(\"Temperature vs Flow rate\")\n",
    "xlabel(\"Temperature Tb(K)\")\n",
    "ylabel(\"Flow rate G(kg/secs)\")\n",
    "show()\n",
    "\n",
    "\n",
    "#Plotting G against Tb for each equation on the same axis, then\n",
    "Go = 8.3#                         #Gas flow rate is in kg/secs\n",
    "Tb = 340#                         #temperature is in Kelvins\n",
    "uf = 0.61#                        #velocity is in m/secs\n",
    "\n",
    "D = sqrt(340*(8.3+(1.58*1.26))/(278*0.61))\n",
    "print\"\\n D = %.2f m\"%(D)"
   ]
  }
 ],
 "metadata": {
  "kernelspec": {
   "display_name": "Python 2",
   "language": "python",
   "name": "python2"
  },
  "language_info": {
   "codemirror_mode": {
    "name": "ipython",
    "version": 2
   },
   "file_extension": ".py",
   "mimetype": "text/x-python",
   "name": "python",
   "nbconvert_exporter": "python",
   "pygments_lexer": "ipython2",
   "version": "2.7.9"
  }
 },
 "nbformat": 4,
 "nbformat_minor": 0
}
