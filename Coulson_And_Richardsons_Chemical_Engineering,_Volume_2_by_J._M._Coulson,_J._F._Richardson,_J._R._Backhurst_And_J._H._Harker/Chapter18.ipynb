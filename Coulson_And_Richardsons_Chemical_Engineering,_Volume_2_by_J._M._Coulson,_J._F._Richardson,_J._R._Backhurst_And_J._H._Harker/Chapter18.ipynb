{
 "cells": [
  {
   "cell_type": "markdown",
   "metadata": {},
   "source": [
    "# Chapter 18 - Ion Exchange"
   ]
  },
  {
   "cell_type": "markdown",
   "metadata": {},
   "source": [
    "## Page 1062 Example 18.1"
   ]
  },
  {
   "cell_type": "code",
   "execution_count": 23,
   "metadata": {
    "collapsed": false
   },
   "outputs": [
    {
     "data": {
      "image/png": "[encoded data removed]",
      "text/plain": [
       "<matplotlib.figure.Figure at 0x7f64d57eabd0>"
      ]
     },
     "metadata": {},
     "output_type": "display_data"
    },
    {
     "name": "stdout",
     "output_type": "stream",
     "text": [
      "\n",
      " Slope = -0.011\n",
      "\n",
      " t(min)               Cs(kg/kg)       \n",
      "\n",
      "                       equation(i)         equation(ii)  \n",
      "\n",
      " 4.000                  0.048                      0.026        \n",
      "\n",
      " 20.000                  0.033                      0.056        \n",
      "\n",
      " 60.000                  -0.021                      0.089        \n"
     ]
    }
   ],
   "source": [
    "%matplotlib inline\n",
    "from matplotlib.pyplot import plot,title,xlabel,ylabel,show\n",
    "from math import pi,exp\n",
    "\n",
    "Cse=0.132#        #in kg/kg\n",
    "Cs = [0.091, 0.097 ,0.105 ,0.113 ,0.125 ,0.128, 0.132]\n",
    "C=[];C1=[];C2=[]\n",
    "for cc in Cs:\n",
    "    C.append(cc/Cse)\n",
    "for cc in C:C1.append(1-cc)\n",
    "for cc in C:C2.append(1-cc**2)\n",
    "t = [2, 4 ,10 ,20 ,40 ,60 ,120]\n",
    "\n",
    "\n",
    "plot(t,C1,t,C2)\n",
    "title('1-(Cs/Cs* vs t(min)')\n",
    "xlabel(\"1-(Cs/Cs*)\")\n",
    "ylabel('t(min)')\n",
    "show()\n",
    "#From the plot π**2Dr/ri**2 = 0.043\n",
    "#For a pellet of twice the radius, that is r = 2ri\n",
    "Slope = -0.043/4\n",
    "print\"\\n Slope = %.3f\"%(Slope)\n",
    "\n",
    "\n",
    "\n",
    "#Thus, when the radius = 2ri\n",
    "def equation1(t):\n",
    "    x = 1-(6/(pi)**2)*exp(-Slope*t)\n",
    "    return x\n",
    "\n",
    "#CS/CS*=[1 − exp(−κDR/tri**2)]**0.5\n",
    "#κDR/ri**2 = 0.04\n",
    "#For a pellet twice the size\n",
    "\n",
    "def equation2(t):\n",
    "    \n",
    "    x1 = (1-exp(-0.01*t))**0.5\n",
    "    return x1\n",
    "\n",
    "print\"\\n t(min)               Cs(kg/kg)       \"\n",
    "print\"\\n                       equation(i)         equation(ii)  \"\n",
    "t = [4 ,20, 60]#               #t is in min\n",
    "i=0\n",
    "while i<=2:\n",
    "    print\"\\n %.3f                  %.3f                      %.3f        \"%(t[(i)],Cse*equation1(t[(i)]),Cse*equation2(t[(i)]))\n",
    "    i=i+1\n",
    "    \n",
    "    \n",
    "    "
   ]
  },
  {
   "cell_type": "markdown",
   "metadata": {},
   "source": [
    "## Page 1072 Example 18.2"
   ]
  },
  {
   "cell_type": "code",
   "execution_count": 8,
   "metadata": {
    "collapsed": false
   },
   "outputs": [
    {
     "name": "stdout",
     "output_type": "stream",
     "text": [
      "\n",
      " Concentration of NaNO3 is 0.024 kg/m**3\n",
      "\n",
      " p = 20 percent\n"
     ]
    }
   ],
   "source": [
    "from sympy import symbols,solve\n",
    "\n",
    "c_NaNO3 = 2.0#               #per cent by mass\n",
    "print\"\\n Concentration of NaNO3 is %.3f kg/m**3\"%((c_NaNO3/85)*(103/100))\n",
    " \n",
    "#HNO3 (Molecular weight = 63 kg/kmol)\n",
    "#Concentration = p per cent\n",
    "#Concentration = (10p/63)(1030/1000)= 0.163p kg/m3\n",
    "#In the solution: xNa+ = 0.242/(0.242 + 0.163p)\n",
    "#For univalent ion exchange\n",
    "#yNa+/(1 − yNa+ ) = KNa+H + [xNa+ /(1 − xNa+)]\n",
    "\n",
    "yNa = 0.1\n",
    "K_NaH = 2/1.3\n",
    "p = symbols('p')\n",
    "p1 = solve((0.1/0.9)*(0.163*p*(0.242+0.163*p))-1.5*(0.242*(0.242+0.163*p)))\n",
    "print\"\\n p = %d percent\"%(p1[1])"
   ]
  }
 ],
 "metadata": {
  "kernelspec": {
   "display_name": "Python 2",
   "language": "python",
   "name": "python2"
  },
  "language_info": {
   "codemirror_mode": {
    "name": "ipython",
    "version": 2
   },
   "file_extension": ".py",
   "mimetype": "text/x-python",
   "name": "python",
   "nbconvert_exporter": "python",
   "pygments_lexer": "ipython2",
   "version": "2.7.9"
  }
 },
 "nbformat": 4,
 "nbformat_minor": 0
}
