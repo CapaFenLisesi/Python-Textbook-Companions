{
 "cells": [
  {
   "cell_type": "markdown",
   "metadata": {},
   "source": [
    "# Chapter 13 - Liquid–Liquid Extraction"
   ]
  },
  {
   "cell_type": "markdown",
   "metadata": {},
   "source": [
    "## Page 732 Example 13.1"
   ]
  },
  {
   "cell_type": "code",
   "execution_count": 1,
   "metadata": {
    "collapsed": false
   },
   "outputs": [
    {
     "name": "stdout",
     "output_type": "stream",
     "text": [
      "\n",
      "    (a) Countercurrent operation\n",
      "\n",
      " Concentration of the solution is 3.39*10**(-5) m**3/sec\n",
      "\n",
      " mass flow rate of A = 0.041 kg/sec\n",
      "\n",
      " mass flow rate of B =0.407 kg/sec\n",
      "\n",
      " Ratio of A/B in the feed, Xf = 0.112 kg/kg\n",
      "\n",
      " Slope of the equilibrium line is 2.86\n",
      "\n",
      " The composition of final raffinate is 0.057kg A/kg B\n",
      "\n",
      "\n",
      "\n",
      "      (b)Multiple contact\n",
      "\n",
      " Stage 1\n",
      "\n",
      " In this case 0.0427 kg/sec\n",
      "\n",
      " Thus raffinate from stage 1 contains 0.0333 kg/sec Aand 0.366 kg/sec B\n",
      "\n",
      " X1 = 0.091 kg/kg\n",
      "\n",
      " Stage 2\n",
      "\n",
      " The extract contains 0.0060 kg/sec A\n",
      "\n",
      " X2 = 0.075 kg/kg\n",
      "\n",
      " Stage 3\n",
      "\n",
      " The extract contains 0.0049 kg/sec A/kg S\n",
      "\n",
      " Thus the raffinate contains 0.0224 kg/sec A and 0.366 kg/sec B\n",
      "\n",
      " The composition of final raffinate = 0.061202 kg A/kg B\n"
     ]
    },
    {
     "data": {
      "image/png": "[encoded data removed]",
      "text/plain": [
       "<matplotlib.figure.Figure at 0x7fbdf3bdff50>"
      ]
     },
     "metadata": {},
     "output_type": "display_data"
    }
   ],
   "source": [
    "from sympy import symbols,solve\n",
    "%matplotlib inline\n",
    "from matplotlib.pyplot import plot,title,xlabel,ylabel,show\n",
    "\n",
    "print\"\\n    (a) Countercurrent operation\"\n",
    "#(a) Countercurrent operation\n",
    "S = 1.6*10**(-4)#               #Solvent flow rate in m**3/sec\n",
    "mass_flowrate = (S*800)#       #mass flow rate is in kg/sec\n",
    "\n",
    "#Considering the solution, 400cm3/s = 4 × 10−4 m**3/sec containing, say, a m**3/sec A and (5 × 10−4 − a) m3/sec B.\n",
    "#Thus mass flow rate of A = 1200a kg/sec\n",
    "#and mass flow rate of B = (4*10**(-4)-a)*1000 = (0.4-1000a)kg/sec\n",
    "#a total of:                    (0.4+200a) kg/sec\n",
    "C = symbols('C')#\n",
    "C1 = solve(0.1*(0.4+200*C)-1200*C)[0]\n",
    "print\"\\n Concentration of the solution is %.2f*10**(-5) m**3/sec\"%(C1*10**5)\n",
    "print\"\\n mass flow rate of A = %.3f kg/sec\"%(1200*C1)\n",
    "print\"\\n mass flow rate of B =%.3f kg/sec\"%(0.4+200*C1)\n",
    "print\"\\n Ratio of A/B in the feed, Xf = %.3f kg/kg\"%(0.041/0.366)\n",
    "\n",
    "X = [0.05, 0.10, 0.15]\n",
    "Y = [0.069 ,0.159, 0.258]\n",
    "plot(X,Y)\n",
    "title(\"Equilibrium curve\")\n",
    "xlabel(\"kg A/kg B\")\n",
    "ylabel(\"kg A/kg S\")\n",
    "show()\n",
    "#From The curve:\n",
    "slope = 0.366/0.128#\n",
    "print\"\\n Slope of the equilibrium line is %.2f\"%(slope)#\n",
    "\n",
    "#Since pure solvent is added, Yn+1 = Y4 = 0 and a line of slope 2.86 is drawn in such that stepping off from Xf = 0.112 kg/kg to Y4 = 0 gives exactly three stages. When Y4 = 0, Xn = X3 = 0.057 kg/kg\n",
    "print\"\\n The composition of final raffinate is 0.057kg A/kg B\"\n",
    "\n",
    "print\"\\n\\n\\n      (b)Multiple contact\"\n",
    "print\"\\n Stage 1\"\n",
    "print\"\\n In this case %.4f kg/sec\"%(0.128/3)#\n",
    "#and from the equilibrium curve, the extract contains 0.18 A/kg S and (0.18 × 0.0427) = 0.0077 kg/s A.\n",
    "print\"\\n Thus raffinate from stage 1 contains %.4f kg/sec Aand %.3f kg/sec B\"%((0.041-0.0077),0.366)\n",
    "X1 = 0.0333/0.366#\n",
    "print\"\\n X1 = %.3f kg/kg\"%(0.0333/0.366)\n",
    "\n",
    "print\"\\n Stage 2\"\n",
    "#the extract contains 0.14 kg A/kg S\n",
    "print\"\\n The extract contains %.4f kg/sec A\"%(0.14*0.0427)\n",
    "#Thus: the raffinate from stage 2 contains (0.0333 − 0.0060) = 0.0273 kg/s A and 0.366 kg/s B\n",
    "X2 = (0.0273/0.366)\n",
    "print\"\\n X2 = %.3f kg/kg\"%(X2)\n",
    "\n",
    "print\"\\n Stage 3\"\n",
    "#the extract contains 0.114 kg A/kg S\n",
    "print\"\\n The extract contains %.4f kg/sec A/kg S\"%(0.114*0.0427)\n",
    "print\"\\n Thus the raffinate contains %.4f kg/sec A and %.3f kg/sec B\"%((0.0273-0.0049),0.366)\n",
    "print\"\\n The composition of final raffinate = %3f kg A/kg B\"%(0.0224/0.366)"
   ]
  },
  {
   "cell_type": "markdown",
   "metadata": {},
   "source": [
    "## Page 736 Example 13.3"
   ]
  },
  {
   "cell_type": "code",
   "execution_count": 4,
   "metadata": {
    "collapsed": false
   },
   "outputs": [
    {
     "name": "stdout",
     "output_type": "stream",
     "text": [
      "\n",
      " CB1* = 0.0169 kmol/m**3\n",
      "\n",
      " CB2* = 0.0170 kmol/m**3\n",
      "\n",
      " deltaC1 =0.0129 kmol/m**3\n",
      "\n",
      " deltaC2 = 0.0055 kmol/m**3\n",
      "\n",
      " log mean driving force is given by deltaClm = 0.0087 kmol/m**3\n",
      "\n",
      " KBa = 7.5*10**(-4) kmol/sec m**3(kmol/m**3)\n",
      "\n",
      " HoB = 1.68 meters\n"
     ]
    }
   ],
   "source": [
    "from math import log\n",
    "\n",
    "#From the equilibrium relationship\n",
    "CB1 = (0.0247*0.685)#\n",
    "print\"\\n CB1* = %.4f kmol/m**3\"%(CB1)#\n",
    "CB2 = (0.0247*0.690)#\n",
    "print\"\\n CB2* = %.4f kmol/m**3\"%(CB2)#\n",
    "\n",
    "#Thus the driving force at the bottom:\n",
    "deltaC1 = (0.0169-0.0040)#\n",
    "print\"\\n deltaC1 =%.4f kmol/m**3\"%(deltaC1)#\n",
    "#Driving force at the top \n",
    "deltaC2 = (0.0170-0.0115)#\n",
    "print\"\\n deltaC2 = %.4f kmol/m**3\"%(deltaC2)#\n",
    "def log_mean_driving_force():\n",
    "    x = (deltaC1 - deltaC2)/log((deltaC1)/deltaC2)#\n",
    "    return x\n",
    "print\"\\n log mean driving force is given by deltaClm = %.4f kmol/m**3\"%(log_mean_driving_force())#\n",
    "KBa = (4.125*10**(-8))/(log_mean_driving_force()*0.0063)#\n",
    "print\"\\n KBa = %.1f*10**(-4) kmol/sec m**3(kmol/m**3)\"%(KBa*10**4)#\n",
    "HoB = (1.27*10**(-3))/KBa#\n",
    "print\"\\n HoB = %.2f meters\"%(HoB)#"
   ]
  },
  {
   "cell_type": "markdown",
   "metadata": {},
   "source": [
    "## Page 754 Example 13.4"
   ]
  },
  {
   "cell_type": "code",
   "execution_count": 6,
   "metadata": {
    "collapsed": false
   },
   "outputs": [
    {
     "name": "stdout",
     "output_type": "stream",
     "text": [
      "\n",
      " Mean droplet size = 4.00 mm\n"
     ]
    }
   ],
   "source": [
    "diameter = [2, 3 ,4 ,5, 6]#\n",
    "number = [30, 120, 200, 80, 20]#\n",
    "\n",
    "def Sum_d1cube():\n",
    "    sum = 0#\n",
    "    i = 0#\n",
    "    while (i <= 4):\n",
    "        sum = sum + number[i]*(diameter[i])**3#\n",
    "        i = i+1\n",
    "    \n",
    "    x = sum\n",
    "    return x\n",
    "\n",
    "def sum_d1square():\n",
    "    sum1 = 0\n",
    "    j=0\n",
    "    while(j<=4):\n",
    "        sum1 = sum1 + number[j]*(diameter[j])**2\n",
    "        j= j+1\n",
    "    \n",
    "    y = sum1\n",
    "    return y\n",
    "\n",
    "def ds():\n",
    "    z = Sum_d1cube()/sum_d1square()\n",
    "    return z\n",
    "print\"\\n Mean droplet size = %.2f mm\"%(ds())"
   ]
  },
  {
   "cell_type": "markdown",
   "metadata": {},
   "source": [
    "## Page 758 Example 13.5"
   ]
  },
  {
   "cell_type": "code",
   "execution_count": 7,
   "metadata": {
    "collapsed": false
   },
   "outputs": [
    {
     "name": "stdout",
     "output_type": "stream",
     "text": [
      "\n",
      " mass of acid transferred to the ether 0.0005 kg/m**2.sec or 0.000022 kg/sec\n",
      "\n",
      " Acid in the aqueous feed = 0.01 kg/m**3.sec\n",
      "\n",
      " Acid in the raffinate = 0.005 kg/m**2.sec\n",
      "\n",
      " Concentration of acid in the raffinate = 0.02 kg/kg\n",
      "\n",
      " At the top of the column\n",
      "\n",
      " deltaC2 = 0.002 kg/kg\n",
      "\n",
      "\n",
      " At the bottom of the column\n",
      "\n",
      " deltaC1 = 0.006 kg/kg\n",
      "\n",
      " Logarithmic driving force is : 0.0036 kg/kg\n",
      "\n",
      " KRa = 0.453 kg/m**3.sec(kg/kg)\n",
      "\n",
      " Height of an overall transfer unit = 0.55 m\n",
      "\n",
      " The number of overall transfer units = 5.56 \n"
     ]
    }
   ],
   "source": [
    "from math import pi\n",
    "\n",
    "CSA = (pi/4)*(0.075)**2#             #cross sectional area is in m**2\n",
    "V = (0.0044*3)#                      #volume of packing is in m**3\n",
    "C = 0.01#                            #concentration is in kg/kg\n",
    "print\"\\n mass of acid transferred to the ether %.4f kg/m**2.sec or %f kg/sec\"%(0.05*(0.01-0),0.005*0.0044)#\n",
    "print\"\\n Acid in the aqueous feed = %.2f kg/m**3.sec\"%(0.25*0.04)#\n",
    "print\"\\n Acid in the raffinate = %.3f kg/m**2.sec\"%(0.01-0.005)#\n",
    "print\"\\n Concentration of acid in the raffinate = %.2f kg/kg\"%(0.005/0.25)#\n",
    "print\"\\n At the top of the column\"\n",
    "CR2 = 0.040#               #Concentration is in kg/kg\n",
    "CR22 = 0.040*0.3#          #Concentration is in kg/kg\n",
    "deltaC2 = (0.012-0.010)#\n",
    "print\"\\n deltaC2 = %.3f kg/kg\"%(deltaC2)#\n",
    "print\"\\n\\n At the bottom of the column\"\n",
    "CR1 = 0.20#               #Concentration is in kg/kg\n",
    "CR11 = 0.020*0.3          #Concentration is in kg/kg\n",
    "deltaC1 = 0.006 -0#       #Concentration is in kg/kg\n",
    "print\"\\n deltaC1 = %.3f kg/kg\"%(deltaC1)#\n",
    "deltaCRlm = (0.006-0.002)/log(0.006/0.002)#\n",
    "print\"\\n Logarithmic driving force is : %.4f kg/kg\"%(deltaCRlm)#\n",
    "KRa = 0.000022/(0.01333*deltaCRlm)#\n",
    "print\"\\n KRa = %.3f kg/m**3.sec(kg/kg)\"%(KRa)#\n",
    "print\"\\n Height of an overall transfer unit = %.2f m\"%(0.25/KRa)#\n",
    "print\"\\n The number of overall transfer units = %.2f \"%(3/0.54)#"
   ]
  }
 ],
 "metadata": {
  "kernelspec": {
   "display_name": "Python 2",
   "language": "python",
   "name": "python2"
  },
  "language_info": {
   "codemirror_mode": {
    "name": "ipython",
    "version": 2
   },
   "file_extension": ".py",
   "mimetype": "text/x-python",
   "name": "python",
   "nbconvert_exporter": "python",
   "pygments_lexer": "ipython2",
   "version": "2.7.9"
  }
 },
 "nbformat": 4,
 "nbformat_minor": 0
}
