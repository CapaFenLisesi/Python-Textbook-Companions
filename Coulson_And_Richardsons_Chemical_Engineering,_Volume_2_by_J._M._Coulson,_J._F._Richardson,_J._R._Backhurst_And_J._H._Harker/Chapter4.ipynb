{
 "cells": [
  {
   "cell_type": "markdown",
   "metadata": {},
   "source": [
    "# Chapter 4 - Flow of Fluids through Granular Beds and Packed Columns"
   ]
  },
  {
   "cell_type": "markdown",
   "metadata": {},
   "source": [
    "## Page 231 Example 4.1"
   ]
  },
  {
   "cell_type": "code",
   "execution_count": 1,
   "metadata": {
    "collapsed": false
   },
   "outputs": [
    {
     "name": "stdout",
     "output_type": "stream",
     "text": [
      "\n",
      " The modified reynolds no. is 127\n",
      "\n",
      " The value of R1/(pu1**2) is 0.323  \n",
      "\n",
      " The value of Pc is -7797N/m**2\n"
     ]
    }
   ],
   "source": [
    "from __future__ import division\n",
    "from math import pi\n",
    "from sympy import symbols,solve\n",
    "#Calculating modified reynold's no.\n",
    "a = 800#                #it is in m**2/m**3\n",
    "Product_rate = 0.5#     #it is in g/sec\n",
    "Reflux_ratio = 8#       \n",
    "Vapour_rate  = 4.5#     #it is in g/sec\n",
    "G = (4.5*10**(-3))/((pi/4)*(0.1**2))## units are in kg/m**2.sec\n",
    "meu = 0.02*10**(-3)#               #units are in Ns/m**2\n",
    "e = 0.72# \n",
    "\n",
    "Re1 = G/(800*0.28*0.02*10**(-3))#\n",
    "print\"\\n The modified reynolds no. is %d\"%(Re1)#\n",
    "\n",
    "x = 4.17/Re1 + 0.29# #x = R1/(pu1**2)\n",
    "print\"\\n The value of R1/(pu1**2) is %.3f  \"%(x)#\n",
    "\n",
    "l = 16*0.15#         #in meters\n",
    "#Solving the integral integral of(pdP)from Pc toPs =(R1/pu**2)*S*(1-e)*G**2*l/e**3\n",
    "\n",
    "Pc = symbols('Pc')\n",
    "y = solve(151.3-(4.73*10**(-5)*(8000**2-Pc**2)))\n",
    "print\"\\n The value of Pc is %dN/m**2\"%(y[0])#"
   ]
  }
 ],
 "metadata": {
  "kernelspec": {
   "display_name": "Python 2",
   "language": "python",
   "name": "python2"
  },
  "language_info": {
   "codemirror_mode": {
    "name": "ipython",
    "version": 2
   },
   "file_extension": ".py",
   "mimetype": "text/x-python",
   "name": "python",
   "nbconvert_exporter": "python",
   "pygments_lexer": "ipython2",
   "version": "2.7.9"
  }
 },
 "nbformat": 4,
 "nbformat_minor": 0
}
