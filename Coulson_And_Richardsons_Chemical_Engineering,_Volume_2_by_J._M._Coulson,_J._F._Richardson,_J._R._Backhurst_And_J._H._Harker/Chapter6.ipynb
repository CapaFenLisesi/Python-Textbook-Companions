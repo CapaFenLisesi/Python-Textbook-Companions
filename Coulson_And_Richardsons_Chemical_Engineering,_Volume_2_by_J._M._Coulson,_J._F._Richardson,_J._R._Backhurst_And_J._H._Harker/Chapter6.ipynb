{
 "cells": [
  {
   "cell_type": "markdown",
   "metadata": {},
   "source": [
    "# Chapter 6 - FLUIDISATION"
   ]
  },
  {
   "cell_type": "markdown",
   "metadata": {},
   "source": [
    "## Page 298 Example 6.1"
   ]
  },
  {
   "cell_type": "code",
   "execution_count": 2,
   "metadata": {
    "collapsed": false
   },
   "outputs": [
    {
     "name": "stdout",
     "output_type": "stream",
     "text": [
      "\n",
      "Galileo number = 1.004  *10**5\n",
      "\n",
      "Value of Remf is 40\n",
      "\n",
      "minimum fluidisation velocity is 36.4 mm/sec\n"
     ]
    }
   ],
   "source": [
    "from math import sqrt\n",
    "#Calculating minimum fluidisation velocity\n",
    "\n",
    "#Calculating Galileo number\n",
    "def Galileo_number():\n",
    "    d = 3*10**(-3)#  #particle size is in meters\n",
    "    p = 1100#       #density of liquid is in kg/m**3\n",
    "    ps = 4200#      #density of spherical particles is in kg/m**3\n",
    "    g = 9.81#       #acceleration due to gravity is in m/sec**2\n",
    "    u = 3*10**(-3)#  #viscosity is in Ns/m**2\n",
    "    Ga = d**3*p*(ps-p)*g/u**2#\n",
    "    return Ga\n",
    "Ga = Galileo_number()#\n",
    "print\"\\nGalileo number = %.3f  *10**5\"%(Ga*10**(-5))\n",
    "\n",
    "#Calculating Re mf\n",
    "Remf = 25.7*(sqrt(1+5.53*10**(-5)*(1.003*10**5))-1)#\n",
    "print\"\\nValue of Remf is %d\"%(Remf)#\n",
    "\n",
    "umf = Remf*(3*10**(-3))/(3*10**(-3)*1100)#\n",
    "print\"\\nminimum fluidisation velocity is %.1f mm/sec\"%(umf*1000)#"
   ]
  },
  {
   "cell_type": "markdown",
   "metadata": {},
   "source": [
    "## Page 299 Example 6.2"
   ]
  },
  {
   "cell_type": "code",
   "execution_count": 4,
   "metadata": {
    "collapsed": false
   },
   "outputs": [
    {
     "name": "stdout",
     "output_type": "stream",
     "text": [
      "\n",
      " (a)\n",
      "\n",
      "voidage = 0.48\n",
      "\n",
      "minimum fluidisation velocity is 0.057 kg/m**2sec\n",
      "\n",
      " (b)\n",
      "\n",
      "terminal velocity is 0.0031m/sec\n",
      "\n",
      "Reynlds no =0.093\n",
      "\n",
      "The required mass flow rate is 2.78 kg/m**2sec\n"
     ]
    }
   ],
   "source": [
    "from math import sqrt,pi\n",
    "#Calculating voidage by considering eight closely packed spheres of diameter d in a cube of size 2d\n",
    "print\"\\n (a)\"\n",
    "def voidage():\n",
    "    d = 1*10**(-4)#    #diameter is in meters\n",
    "    meu = 3*10**(-3)#  #viscosity is in Ns/m**2\n",
    "    ps = 2600#        #density is in kg/m**3\n",
    "    p = 900#         #density is in kg/m**3\n",
    "    e = (8*d**(3)-8*(pi/6)*d**(3))/(8*d**(3))#\n",
    "    return e\n",
    "e = voidage()#\n",
    "print\"\\nvoidage = %.2f\"%(e)#\n",
    "\n",
    "#Calculating minimum fluidisation mass flow rate\n",
    "\n",
    "def min_fluidis_vel():\n",
    "    e = voidage()#\n",
    "    d = 1*10**(-4)#    #diameter is in meters\n",
    "    meu = 3*10**(-3)#  #viscosity is in Ns/m**2\n",
    "    ps = 2600#        #density is in kg/m**3\n",
    "    p = 900#         #density is in kg/m**3  \n",
    "    g = 9.81#         #acceleration due to gravity is in m/sec**2\n",
    "    Gmf = 0.0055*(e)**(3)/(1-e)*(d**2)*p*(ps-p)*g/meu#\n",
    "    return Gmf\n",
    "Gmf = min_fluidis_vel()#\n",
    "print\"\\nminimum fluidisation velocity is %.3f kg/m**2sec\"%(Gmf)#\n",
    "\n",
    "\n",
    "print\"\\n (b)\"\n",
    "def terminal_velocity():\n",
    "    e = voidage()#\n",
    "    d = 1*10**(-4)#    #diameter is in meters\n",
    "    meu = 3*10**(-3)#  #viscosity is in Ns/m**2\n",
    "    ps = 2600#        #density is in kg/m**3\n",
    "    p = 900#         #density is in kg/m**3  \n",
    "    g = 9.81#         #acceleration due to gravity is in m/sec**2\n",
    "    u = d**(2)*g*(ps-p)/(18*meu)#\n",
    "    return u\n",
    "print\"\\nterminal velocity is %.4fm/sec\"%(terminal_velocity())#\n",
    "\n",
    "#Reynolds no for this Terminal velocity is\n",
    "Re = (10**(-4)*0.0031*900)/(3*10**(-3))#\n",
    "print\"\\nReynlds no =%.3f\"%(Re)#\n",
    "print\"\\nThe required mass flow rate is %.2f kg/m**2sec\"%(terminal_velocity()*900)#\n",
    "\n",
    "    "
   ]
  },
  {
   "cell_type": "markdown",
   "metadata": {},
   "source": [
    "# Page 305 Example 6.3"
   ]
  },
  {
   "cell_type": "code",
   "execution_count": 5,
   "metadata": {
    "collapsed": false
   },
   "outputs": [
    {
     "name": "stdout",
     "output_type": "stream",
     "text": [
      "\n",
      "Galileo number = 9.42*10**5\n",
      "\n",
      " The Reynolds no is 1798\n",
      "\n",
      "velocity = 0.45 m/sec\n",
      "\n",
      "value of n is 2.42\n",
      "\n",
      "Voidage is 0.784\n"
     ]
    }
   ],
   "source": [
    "from sympy import symbols,solve\n",
    "# to calculate voidage of the bed\n",
    "\n",
    "def Galileo_number():\n",
    "    d = 4*10**(-3)#  #particle size is in meters\n",
    "    p = 1000#       #density of water is in kg/m**3\n",
    "    ps = 2500#      #density of glass is in kg/m**3\n",
    "    g = 9.81#       #acceleration due to gravity is in m/sec**2\n",
    "    u = 1*10**(-3)#  #viscosity is in Ns/m**2\n",
    "    Ga = d**3*p*(ps-p)*g/u**2#\n",
    "    return Ga\n",
    "\n",
    "print\"\\nGalileo number = %.2f*10**5\"%(Galileo_number()*10**(-5))#\n",
    "\n",
    "def Reynolds_no():\n",
    "    Ga = Galileo_number()#\n",
    "    Re = (2.33*Ga**(0.018)-1.53*Ga**(-0.016))**(13.3)#\n",
    "    return Re\n",
    "print\"\\n The Reynolds no is %d\"%(Reynolds_no())#\n",
    "v = Reynolds_no()*(1*10**(-3))/(0.004*1000)#\n",
    "print\"\\nvelocity = %.2f m/sec\"%(v)#\n",
    "\n",
    "n = symbols('n')\n",
    "z = solve((4.8-n)-0.043*(Galileo_number())**(0.57)*(n-2.4))[0]\n",
    "print\"\\nvalue of n is %.2f\"%(z)#\n",
    "\n",
    "#voidage at a velocity is 0.25m/sec\n",
    "e=0.1#\n",
    "while 1:\n",
    "    enew = e -((0.25/0.45)-e**(2.42))/(-2.42*e**1.42)#\n",
    "    if (enew == e):\n",
    "        print\"\\nVoidage is %.3f\"%(e)#\n",
    "        break#\n",
    "    \n",
    "    e=enew#"
   ]
  },
  {
   "cell_type": "markdown",
   "metadata": {},
   "source": [
    "## Page 345 Example 6.4"
   ]
  },
  {
   "cell_type": "code",
   "execution_count": 9,
   "metadata": {
    "collapsed": false
   },
   "outputs": [
    {
     "data": {
      "image/png": "[encoded data removed]",
      "text/plain": [
       "<matplotlib.figure.Figure at 0x7f2ca037f9d0>"
      ]
     },
     "metadata": {},
     "output_type": "display_data"
    },
    {
     "name": "stdout",
     "output_type": "stream",
     "text": [
      "\n",
      "From the graph the value of slope is -0.002  \n",
      "\n",
      " b = 0.0873 kmol/kg\n"
     ]
    }
   ],
   "source": [
    "from numpy import arange,log\n",
    "from sympy import symbols,solve\n",
    "%matplotlib inline\n",
    "from matplotlib.pyplot import plot,xlabel,ylabel,title,show\n",
    "t = arange(250,2001,250) # #time is in secs\n",
    "y = [0.00223, 0.00601, 0.00857, 0.0106, 0.0121, 0.0129, 0.0134 ,0.0137]\n",
    "\n",
    "i =0#\n",
    "yo = 0.01442#\n",
    "z=[];\n",
    "\n",
    "x=[]\n",
    "while i<8:\n",
    "    z.append(y[(i)]/yo)\n",
    "    \n",
    "    x.append(log(y[(i)]))\n",
    "    i=i+1#\n",
    "\n",
    "title(\"slope of adsorption isotherm\")\n",
    "xlabel(\"Time(sec)\")\n",
    "ylabel(\"log(1-(y/yo))\")\n",
    "plot(t,x)\n",
    "show()\n",
    "print\"\\nFrom the graph the value of slope is %.3f  \"%(-0.00167)#\n",
    "Gm = 0.679*10**(-6)#  #units are in kmol/sec\n",
    "W = 4.66#            #units are in gram\n",
    "b = symbols('b')\n",
    "s = solve(-0.00167*4.66*b+0.679*10**(-6))[0]\n",
    "print\"\\n b = %.4f kmol/kg\"%(s*10**3)#0"
   ]
  },
  {
   "cell_type": "markdown",
   "metadata": {},
   "source": [
    "## Page 349 Example 6.5"
   ]
  },
  {
   "cell_type": "code",
   "execution_count": 14,
   "metadata": {
    "collapsed": false
   },
   "outputs": [
    {
     "data": {
      "image/png": "[encoded data removed]",
      "text/plain": [
       "<matplotlib.figure.Figure at 0x7f2ca03fb090>"
      ]
     },
     "metadata": {},
     "output_type": "display_data"
    },
    {
     "name": "stdout",
     "output_type": "stream",
     "text": [
      "\n",
      " heat transferred = 1.28 kw/m**2 of bed cross sectional area\n",
      "\n",
      " Volume of particles is 0.43 m**3\n",
      "\n",
      " Volume of 1 particle is 8.18*10**(-12) m**3\n",
      "\n",
      " number of particles is 5.26*10**(10)\n",
      "\n",
      " heat transfer coefficient = 12.1 W/m**2\n",
      "\n",
      " h = 61.6 W/m**2 K\n"
     ]
    }
   ],
   "source": [
    "from numpy import arange,log,pi\n",
    "from sympy import symbols,solve\n",
    "%matplotlib inline\n",
    "from matplotlib.pyplot import plot,xlabel,ylabel,title,show\n",
    "\n",
    "gas_flow_rate =0.2#       #units are in kg/m**2\n",
    "c = 0.88#                 #specific heat capacity of air is kj/kg K\n",
    "viscosity = 0.015*10**(-3)##viscosity is in Ns/m**2\n",
    "d = 0.25*10**(-3)#         #particle size is in meters\n",
    "k = 0.03#                 #thermal conductivity is in W/m K\n",
    "e = 0.57#                 #e is voidage\n",
    "\n",
    "T = [339.5, 337.7, 335.0, 333.6, 333.3, 333.2]# #temperature is in kelvins\n",
    "deltaT=[]\n",
    "for t in T:\n",
    "    deltaT.append(t - 333.2)\n",
    "h = [0, 0.64, 1.27, 1.91, 2.54, 3.81]#\n",
    "title(\"temperature rise as a function of bed height\")\n",
    "xlabel(\"height above bed support(mm))\")\n",
    "ylabel(\"deltaT(K)\")\n",
    "plot(h,deltaT)\n",
    "show()\n",
    "\n",
    "#Area under the curve gives the value of  the heat teansfer integral =8.82mm K\n",
    "\n",
    "q = 0.2*0.88*(339.5-332.2)#\n",
    "print\"\\n heat transferred = %.2f kw/m**2 of bed cross sectional area\"%(q)#\n",
    "\n",
    "#Assuming 1m**3 volume\n",
    "Vp = (1-0.57)#       #Volume of particles is in m**3\n",
    "print\"\\n Volume of particles is %.2f m**3\"%(Vp)\n",
    "v1 = (pi/6)*d**3#    #Volume of 1 particle in m**3\n",
    "print\"\\n Volume of 1 particle is %.2f*10**(-12) m**3\"%(v1*10**(12))#\n",
    "print\"\\n number of particles is %.2f*10**(10)\"%(Vp/v1*10**(-10))#\n",
    "\n",
    "x =symbols('x')#\n",
    "h = solve(1100 - x*(1.03*10**4)*(8.82*10**(-3)))[0]\n",
    "print\"\\n heat transfer coefficient = %.1f W/m**2\"%(h)#\n",
    "\n",
    "#Nu = 0.11Re**(1.28)\n",
    "Re = (0.2*0.25*10**(-3))/(0.015*10**(-3))#\n",
    "h1 = 0.11*(Re)**(1.28)*k/d#\n",
    "print\"\\n h = %.1f W/m**2 K\"%(h1)#"
   ]
  },
  {
   "cell_type": "markdown",
   "metadata": {},
   "source": [
    "## Page 350 Example 6.6"
   ]
  },
  {
   "cell_type": "code",
   "execution_count": 4,
   "metadata": {
    "collapsed": false
   },
   "outputs": [
    {
     "data": {
      "image/png": "[encoded data removed]",
      "text/plain": [
       "<matplotlib.figure.Figure at 0x7f0dedb77e50>"
      ]
     },
     "metadata": {},
     "output_type": "display_data"
    },
    {
     "name": "stdout",
     "output_type": "stream",
     "text": [
      " \n",
      " Coefficient for heat transfer between the gas and the particles= 14.1W/m**2 K\n",
      "\n",
      " Let the evaporation rate be 0.1 kg/sec at a temp difference = 50 degK\n",
      "\n",
      " The heat flow = 2.6*10**5 W\n",
      "\n",
      " the effective area of the bed A = 368 m**2\n",
      "\n",
      " The surface area of the bed = 1200 m**2\n",
      "\n",
      " hence the fraction of the bed = 0.31\n"
     ]
    }
   ],
   "source": [
    "from __future__ import division\n",
    "from sympy import symbols,solve\n",
    "%matplotlib inline\n",
    "from matplotlib.pyplot import plot,xlabel,ylabel,title,show\n",
    "\n",
    "cp = 0.85#                              #specific heat capacity of the air\n",
    "h = [0, 0.625, 1.25, 1.875, 2.5, 3.75]#                       #height in mm  \n",
    "T=[339.5, 337.7, 335.0 ,333.6 ,333.3, 333.2]##temperature in K\n",
    "\n",
    "deltaT=[]\n",
    "for t in T:\n",
    "    deltaT.append(t - 333.2)\n",
    "                     #temperature difference in kelvins\n",
    "plot(h,deltaT)\n",
    "title(\"deltaT as a function of bed height\")\n",
    "xlabel(\"Height above bed support z(mm)\")\n",
    "ylabel(\"Temperature difference deltaT (K)\")\n",
    "show()\n",
    "#From the plot area under the curve is 6.31 K mm \n",
    "sp = (6/(0.25*10**(-3)))*(0.5)#  #sp is surface area per unit volume in m**2/m**3\n",
    "G = 0.2#                        #in kg/m**2sec\n",
    "Cp = 850#                       #Cp is in J/kg K\n",
    "h1 = symbols('h1')\n",
    "s = solve(0.2*850*6.3-h1*1.2*10**(4)*6.31*10**(-3))[0]\n",
    "print\" \\n Coefficient for heat transfer between the gas and the particles= %.1fW/m**2 K\"%(s)#\n",
    "\n",
    "print\"\\n Let the evaporation rate be 0.1 kg/sec at a temp difference = 50 degK\"\n",
    "mdot = 0.1#         #evaporation rate is 0.1 kg/sec\n",
    "Latent_heat = 2.6*10**(6)#\n",
    "print\"\\n The heat flow = %.1f*10**5 W\"%(mdot*Latent_heat*10**(-5))#\n",
    "A=(2.6*10**5)/(14.1*50)#\n",
    "print\"\\n the effective area of the bed A = %d m**2\"%(A)#\n",
    "print\"\\n The surface area of the bed = %d m**2\"%(0.1*1.2*10**4)#\n",
    "print\"\\n hence the fraction of the bed = %.2f\"%(369/1200)#\n"
   ]
  }
 ],
 "metadata": {
  "kernelspec": {
   "display_name": "Python 2",
   "language": "python",
   "name": "python2"
  },
  "language_info": {
   "codemirror_mode": {
    "name": "ipython",
    "version": 2
   },
   "file_extension": ".py",
   "mimetype": "text/x-python",
   "name": "python",
   "nbconvert_exporter": "python",
   "pygments_lexer": "ipython2",
   "version": "2.7.9"
  }
 },
 "nbformat": 4,
 "nbformat_minor": 0
}
