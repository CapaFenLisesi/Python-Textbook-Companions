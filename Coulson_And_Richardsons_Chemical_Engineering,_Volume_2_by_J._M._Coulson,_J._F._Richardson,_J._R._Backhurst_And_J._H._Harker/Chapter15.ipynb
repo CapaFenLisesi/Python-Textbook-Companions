{
 "cells": [
  {
   "cell_type": "markdown",
   "metadata": {},
   "source": [
    "# Chapter 15 - Crystallisation"
   ]
  },
  {
   "cell_type": "markdown",
   "metadata": {},
   "source": [
    "## Page 836 Example 15.1"
   ]
  },
  {
   "cell_type": "code",
   "execution_count": 1,
   "metadata": {
    "collapsed": false
   },
   "outputs": [
    {
     "name": "stdout",
     "output_type": "stream",
     "text": [
      "\n",
      " For concentrations in kg sucrose/kg water:\n",
      "\n",
      " c = 2.45 kg/kg\n",
      "\n",
      " c1 = 2.04 kg/kg\n",
      "\n",
      " S = 1.20\n",
      "\n",
      "\n",
      " For concentrations in kg sucrose/kg water:\n",
      "\n",
      " co = 0.710 kg/kg solution\n",
      "\n",
      " co1 = 0.671 kg/kg solution\n",
      "\n",
      " S = 1.06 \n"
     ]
    }
   ],
   "source": [
    "print\"\\n For concentrations in kg sucrose/kg water:\"\n",
    "c = 2.45#                #concentration is in kg/kg\n",
    "print\"\\n c = %.2f kg/kg\"%(c)\n",
    "c1= 2.04#                #concentration is in kg/kg\n",
    "print\"\\n c1 = %.2f kg/kg\"%(c1)\n",
    "S = c/c1\n",
    "print\"\\n S = %.2f\"%(S)\n",
    "\n",
    "print\"\\n\\n For concentrations in kg sucrose/kg water:\"\n",
    "co = c/(c+1)#            #concentration is in kg/kg solution\n",
    "print\"\\n co = %.3f kg/kg solution\"%(co)\n",
    "co1 = c1/(c1 + 1)#       #concentration is in kg/kg solution\n",
    "print\"\\n co1 = %.3f kg/kg solution\"%(co1)\n",
    "S = co/co1\n",
    "print\"\\n S = %.2f \"%(S)"
   ]
  },
  {
   "cell_type": "markdown",
   "metadata": {},
   "source": [
    "## Page 839 Example 15.2"
   ]
  },
  {
   "cell_type": "code",
   "execution_count": 2,
   "metadata": {
    "collapsed": false
   },
   "outputs": [
    {
     "name": "stdout",
     "output_type": "stream",
     "text": [
      "\n",
      " For barium sulphate\n",
      "\n",
      " Increase in solubility for barium sulphate fpr particle size 1.000000 um = 0.544842 per cent\n",
      "\n",
      " Increase in solubility for barium sulphate fpr particle size 0.100000 um = 5.583968 per cent\n",
      "\n",
      " Increase in solubility for barium sulphate fpr particle size 0.010000 um = 72.178839 per cent\n",
      "\n",
      " For Sucrose\n",
      "\n",
      " Increase in solubility for barium sulphate fpr particle size 1.000000 um = 0.347870 per cent\n",
      "\n",
      " Increase in solubility for barium sulphate fpr particle size 0.100000 um = 3.533664 per cent\n",
      "\n",
      " Increase in solubility for barium sulphate fpr particle size 0.010000 um = 41.519360 per cent\n"
     ]
    }
   ],
   "source": [
    "from math import exp\n",
    "\n",
    "print\"\\n For barium sulphate\"\n",
    "\n",
    "def increase_barium(d):\n",
    "    y = exp((2*233*0.13)/(2*8314*298*4500*d))\n",
    "    x = y-1\n",
    "    return x\n",
    "\n",
    "i=0\n",
    "d = [0.5, 0.05, 0.005]\n",
    "while(i<=2):\n",
    "    print\"\\n Increase in solubility for barium sulphate fpr particle size %f um = %f per cent\"%(d[i]*2,(increase_barium(d[i]*10**(-6))*100))\n",
    "    i = i+1\n",
    "\n",
    "\n",
    "print\"\\n For Sucrose\"\n",
    "def increase_sucrose(d1):\n",
    "    b = exp((2*342*0.01)/(1*8314*298*1590*d1))\n",
    "    a = b-1\n",
    "    return a\n",
    "j=0\n",
    "while(j<=2):\n",
    "    print\"\\n Increase in solubility for barium sulphate fpr particle size %f um = %f per cent\"%(d[j]*2,(increase_sucrose(d[j]*10**(-6))*100))\n",
    "    j = j+1"
   ]
  },
  {
   "cell_type": "markdown",
   "metadata": {},
   "source": [
    "## Page 851 Example 15.3"
   ]
  },
  {
   "cell_type": "code",
   "execution_count": 4,
   "metadata": {
    "collapsed": false
   },
   "outputs": [
    {
     "name": "stdout",
     "output_type": "stream",
     "text": [
      "\n",
      " The initial concentration c1 = 0.2 kg Na2SO4/kg water\n",
      "\n",
      " The solubility c2 = 0.09 Kg Na2SO4/kg water\n",
      "\n",
      " Initial mass of water,w1 = 5000 kg and the water lost by evaporation E = 0.020000 kg/kg\n",
      "\n",
      " yield y = 1432 kg Na2SO4.10H2O\n"
     ]
    }
   ],
   "source": [
    "from __future__ import division\n",
    "\n",
    "R = 322/142\n",
    "#The initial concentration \n",
    "c1 = 1000/5000#               #Concentration is in kg Na2SO4/kg water\n",
    "print\"\\n The initial concentration c1 = %.1f kg Na2SO4/kg water\"%(c1)\n",
    "#The solubility\n",
    "c2 = 9/100#                   #solubility is in Kg Na2SO4/kg water\n",
    "print\"\\n The solubility c2 = %.2f Kg Na2SO4/kg water\"%(c2)\n",
    "print\"\\n Initial mass of water,w1 = 5000 kg and the water lost by evaporation E = %f kg/kg\"%(2/100)\n",
    "print\"\\n yield y = %d kg Na2SO4.10H2O\"%((5000*2.27)*(0.2-0.09*(1-0.02))/(1-0.09*(2.27-1)))"
   ]
  },
  {
   "cell_type": "markdown",
   "metadata": {},
   "source": [
    "## Page 851 Example 15.4"
   ]
  },
  {
   "cell_type": "code",
   "execution_count": 6,
   "metadata": {
    "collapsed": false
   },
   "outputs": [
    {
     "name": "stdout",
     "output_type": "stream",
     "text": [
      "\n",
      " Equilibrium liquor temperature is302.2 K\n",
      "\n",
      " Initial concentration c1 =  0.667 kg/kg water\n",
      "\n",
      " Final concentration,c2 = 0.539 kg/kg water\n",
      "\n",
      " Ratio of molecular masses,R = 1.66\n",
      "\n",
      "\n",
      "\n",
      " E = 30.728 kg/kg water originally present\n",
      "\n",
      " yeild y = 0.182 kg/sec\n"
     ]
    }
   ],
   "source": [
    "#Given data:\n",
    "#Heat of crystallisation, q = 144 kJ/kg trihydrate\n",
    "#Heat capacity of the solution, Cp = 3.5 kJ/kg deg K\n",
    "#Latent heat of water at 1.33 kN/m2, λ = 2.46 MJ/kg\n",
    "#Boiling point of water at 1.33 kN/m2 = 290.7 K\n",
    "#Solubility of sodium acetate at 290.7 K, c2 = 0.539 kg/kg water\n",
    "\n",
    "#Equilibrium liquor temperature\n",
    "T = 290.7+11.5\n",
    "print\"\\n Equilibrium liquor temperature is%.1f K\"%(T)\n",
    "\n",
    "#Initial concentration\n",
    "c1 = 40/(100-40)\n",
    "print\"\\n Initial concentration c1 = % .3f kg/kg water\"%(c1)\n",
    "\n",
    "#Final concentration\n",
    "c2 = 0.539\n",
    "print\"\\n Final concentration,c2 = %.3f kg/kg water\"%(c2)\n",
    "\n",
    "#Ratio of molecular masses\n",
    "print\"\\n Ratio of molecular masses,R = %.2f\"%(136/82)\n",
    "\n",
    "E = (144*1.66*(0.667-0.539)+3.5*(353-302.2)*(1+0.667)*(1-0.539*(1.66-1))/(2460*(1-0.539*(1.66-1))-(144*1.66*0.539)))\n",
    "print\"\\n\\n\\n E = %.3f kg/kg water originally present\"%(E)\n",
    "print\"\\n yeild y = %.3f kg/sec\"%((0.56*(100-40)/100)*1.66*(0.667-0.539*(1-0.153))/(1-0.539*(1.66-1)))"
   ]
  },
  {
   "cell_type": "markdown",
   "metadata": {},
   "source": [
    "## Page 855 Example 15.5"
   ]
  },
  {
   "cell_type": "code",
   "execution_count": 10,
   "metadata": {
    "collapsed": false
   },
   "outputs": [
    {
     "name": "stdout",
     "output_type": "stream",
     "text": [
      "\n",
      " The molecular mass of hydrate/molecular mass of anhydrate,R = 2.32\n",
      "\n",
      " The initial concentration, c1 = 0.23 kg/kg solution or 0.30 kg/kg water\n",
      "\n",
      " The final concentration, c2 = 15.5 kg/kg water or 0.155 kg/kg water\n",
      "\n",
      " In 1 kg of the initial feed solution, there is 0.23 kg salt and 0.77 kg water and hence w1 = 0.77 kg\n",
      "\n",
      " yeild y = 0.33 kg\n",
      "\n",
      " In order to produce 0.063 kg/s of crystals, the required feed is: 0.191 kg/sec\n",
      "\n",
      " The heat required to cool the solution 9.3 kW\n",
      "\n",
      " Heat of crystallisation = 9.2 kW\n",
      "\n",
      " total heat loss = 18.5 kW\n",
      "\n",
      " Assuming counter current flow\n",
      "\n",
      " deltaT1 = 20 deg K\n",
      "\n",
      " deltaT2 = 10 deg K\n",
      "\n",
      " The logarithmic mean temperature is 14.4 deg K\n",
      "\n",
      " The heat transfer area required, A= Q/UdeltaTm = 9.2 m**2\n",
      "\n",
      " Length of heat exchanger required = 9.2\n",
      "\n",
      "\n",
      "\n",
      "\n",
      " In practice 3 lengths, each of 3 m length would be specified.\n"
     ]
    }
   ],
   "source": [
    "from math import log\n",
    "from __future__ import division\n",
    "#The molecular mass of hydrate/molecular mass of anhydrate\n",
    "R = 380/164\n",
    "print\"\\n The molecular mass of hydrate/molecular mass of anhydrate,R = %.2f\"%(R)\n",
    "#It will be assumed that the evaporation is negligible and that E = 0.\n",
    "c1 = 0.23\n",
    "print\"\\n The initial concentration, c1 = %.2f kg/kg solution or %.2f kg/kg water\"%(c1,c1/(1-c1))\n",
    "c2 = 15.5\n",
    "print\"\\n The final concentration, c2 = %.1f kg/kg water or 0.155 kg/kg water\"%(c2)\n",
    "w1 = 0.77\n",
    "print\"\\n In 1 kg of the initial feed solution, there is 0.23 kg salt and 0.77 kg water and hence w1 = %.2f kg\"%(w1)\n",
    "y = 2.32*0.77*(0.30-0.155*(1-0))/(1-0.155*(2.32-1))\n",
    "print\"\\n yeild y = %.2f kg\"%(y)\n",
    "print\"\\n In order to produce 0.063 kg/s of crystals, the required feed is: %.3f kg/sec\"%(1*0.063/0.33)\n",
    "q = 0.193*3.2*(313-298)\n",
    "print\"\\n The heat required to cool the solution %.1f kW\"%(q)\n",
    "q1 = 0.063*146.5\n",
    "print\"\\n Heat of crystallisation = %.1f kW\"%(q1)\n",
    "print\"\\n total heat loss = %.1f kW\"%(q+q1)\n",
    "print\"\\n Assuming counter current flow\"\n",
    "deltaT1 = (313-293)\n",
    "print\"\\n deltaT1 = %d deg K\"%(deltaT1)\n",
    "deltaT2 = 298 - 288\n",
    "print\"\\n deltaT2 = %d deg K\"%(deltaT2)\n",
    "deltaTlm = (deltaT1-deltaT2)/log(deltaT1/deltaT2)\n",
    "print\"\\n The logarithmic mean temperature is %.1f deg K\"%(deltaTlm)\n",
    "\n",
    "A = (q+q1)/(0.14*14.4)\n",
    "print\"\\n The heat transfer area required, A= Q/UdeltaTm = %.1f m**2\"%(A)\n",
    "print\"\\n Length of heat exchanger required = %.1f\"%(A)\n",
    "\n",
    "print\"\\n\\n\\n\\n In practice 3 lengths, each of 3 m length would be specified.\""
   ]
  },
  {
   "cell_type": "markdown",
   "metadata": {},
   "source": [
    "## Page 865 Example 15.6"
   ]
  },
  {
   "cell_type": "code",
   "execution_count": 13,
   "metadata": {
    "collapsed": false
   },
   "outputs": [
    {
     "name": "stdout",
     "output_type": "stream",
     "text": [
      "\n",
      " Draw down time = 23529 secs\n",
      "\n",
      "\n",
      "\n",
      "              (a)\n",
      "\n",
      " from a mass balance the total mass of solids is :\n",
      "\n",
      " cs = 293 kg/m**3\n",
      "\n",
      "\n",
      "\n",
      "               (b)\n",
      "\n",
      " The production rate = 0.050 kg/sec\n",
      "\n",
      " The crystal population decreases exponentially with size \n",
      "65 percent\n",
      "\n",
      " Thus 34 percent have been discharged by the time they reach 100 um\n",
      "\n",
      "\n",
      "\n",
      "               (c)\n",
      "\n",
      " tr = 4342 secs\n",
      "\n",
      " Qf = 0.000751 m**3/sec\n"
     ]
    }
   ],
   "source": [
    "from sympy import symbols,solve\n",
    "from math import exp,log\n",
    "\n",
    "down_time  = (4/0.00017)\n",
    "print\"\\n Draw down time = %d secs\"%(down_time)\n",
    "print\"\\n\\n\\n              (a)\"\n",
    "print\"\\n from a mass balance the total mass of solids is :\"\n",
    "cs = (6*0.6*2660*10**13)*(10**(-8)*23530)**4\n",
    "print\"\\n cs = %d kg/m**3\"%(cs)\n",
    "print\"\\n\\n\\n               (b)\"\n",
    "print\"\\n The production rate = %.3f kg/sec\"%(cs*0.00017)\n",
    "\n",
    "print\"\\n The crystal population decreases exponentially with size \"\n",
    "x = exp((-100*10**(-6))/(10**(-8)*23530))\n",
    "print\"%d percent\"%(x*100)\n",
    "print\"\\n Thus 34 percent have been discharged by the time they reach 100 um\"\n",
    "print\"\\n\\n\\n               (c)\"\n",
    "#If (100 − 90) = 10 per cent of the nuclei remain and grow to >100 μm, then\n",
    "t = symbols('t')\n",
    "t1 = solve(t - 10**(4)/log(1/0.10))[0]\n",
    "print\"\\n tr = %d secs\"%(t1)\n",
    "Q = symbols('Q')\n",
    "Q1 = solve(Q + (4/4343-0.00017))[0]\n",
    "print\"\\n Qf = %f m**3/sec\"%(-Q1)"
   ]
  },
  {
   "cell_type": "markdown",
   "metadata": {},
   "source": [
    "## Page 877 Example 15.7"
   ]
  },
  {
   "cell_type": "code",
   "execution_count": 14,
   "metadata": {
    "collapsed": false
   },
   "outputs": [
    {
     "name": "stdout",
     "output_type": "stream",
     "text": [
      "\n",
      " λv = 70319681 kj/kmol\n",
      "\n",
      "   P = 30 kN/m**2\n"
     ]
    }
   ],
   "source": [
    "from sympy import symbols,solve\n",
    "from math import exp,log\n",
    "\n",
    "\n",
    "l = symbols('l')\n",
    "l1 = solve(log(780/220)-(l*(463-433))/(8314*463*433))[0]\n",
    "print\"\\n λv = %d kj/kmol\"%(l1)\n",
    "P = symbols('P')\n",
    "P1 = solve(P-220/exp(70340*(433-393)/(8.314*433*393)))[0]\n",
    "print\"\\n   P = %d kN/m**2\"%(P1)#"
   ]
  },
  {
   "cell_type": "markdown",
   "metadata": {},
   "source": [
    "## Page 883 Example 15.8"
   ]
  },
  {
   "cell_type": "code",
   "execution_count": 15,
   "metadata": {
    "collapsed": false
   },
   "outputs": [
    {
     "name": "stdout",
     "output_type": "stream",
     "text": [
      "\n",
      " Vaporisation stage :\n",
      "\n",
      " Sv = 0.038 kg/sec\n",
      "\n",
      "\n",
      " COndensation stage: \n",
      "\n",
      " S = 0.000061 kg/sec\n"
     ]
    }
   ],
   "source": [
    "print\"\\n Vaporisation stage :\"\n",
    "Pt = 101.5\n",
    "Ps = 1.44\n",
    "Sv = 0.56*(138/29)*(1.44/(101.5-1.44))\n",
    "print\"\\n Sv = %.3f kg/sec\"%(Sv)\n",
    "\n",
    "print\"\\n\\n COndensation stage: \"\n",
    "Ptc = 100\n",
    "Psc = 0.0023\n",
    "S = 0.56*(138/29)*(0.0023/(100-0.0023))\n",
    "print\"\\n S = %f kg/sec\"%(S)"
   ]
  }
 ],
 "metadata": {
  "kernelspec": {
   "display_name": "Python 2",
   "language": "python",
   "name": "python2"
  },
  "language_info": {
   "codemirror_mode": {
    "name": "ipython",
    "version": 2
   },
   "file_extension": ".py",
   "mimetype": "text/x-python",
   "name": "python",
   "nbconvert_exporter": "python",
   "pygments_lexer": "ipython2",
   "version": "2.7.9"
  }
 },
 "nbformat": 4,
 "nbformat_minor": 0
}
