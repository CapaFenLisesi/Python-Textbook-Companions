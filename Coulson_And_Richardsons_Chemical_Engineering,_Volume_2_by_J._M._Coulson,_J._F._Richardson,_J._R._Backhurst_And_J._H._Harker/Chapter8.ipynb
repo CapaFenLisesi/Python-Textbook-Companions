{
 "cells": [
  {
   "cell_type": "markdown",
   "metadata": {},
   "source": [
    "# Chapter 8 - Membrane Separation Processes"
   ]
  },
  {
   "cell_type": "markdown",
   "metadata": {},
   "source": [
    "## Page 460 Example 8.2"
   ]
  },
  {
   "cell_type": "code",
   "execution_count": 1,
   "metadata": {
    "collapsed": false
   },
   "outputs": [
    {
     "data": {
      "image/png": "[encoded data removed]",
      "text/plain": [
       "<matplotlib.figure.Figure at 0x7f2751936d50>"
      ]
     },
     "metadata": {},
     "output_type": "display_data"
    },
    {
     "name": "stdout",
     "output_type": "stream",
     "text": [
      "\n",
      " Jo = 0.099 m/h\n",
      "\n",
      " Jf = 0.000   m/h\n",
      "\n",
      " Jav = 0.025   m/h\n",
      "\n",
      " Area = 79.650  m**2\n"
     ]
    }
   ],
   "source": [
    "%matplotlib inline\n",
    "from matplotlib.pyplot import plot,title,xlabel,ylabel,show\n",
    "from math import log\n",
    "\n",
    "#From the gel polarisation model:\n",
    "         #J = (1/A)(dV/dt) = hD ln(Cg/Cf)\n",
    "         #Cf = Co(Vo/V)\n",
    "#where Co and Vo are the initial concentration and volume,respectively and Cf and V are the values at subsequent times\n",
    "#Combining these eq gives\n",
    "        #dV/dt = A(hDln(Cg/Co)-hDln(Vo/V))\n",
    "V = [10, 5 ,3 ,2, 1]#\n",
    "y = [9.90, 13.64, 18.92, 27.30, 112.40]\n",
    "plot(V,y)\n",
    "title(\"Area under the curve is 184.4\")\n",
    "xlabel(\"Volume(m**3)\")\n",
    "ylabel(\"(J - hDln(Vo/V))**(-1)\")\n",
    "show()\n",
    "\n",
    "#(b)\n",
    "Jo = 0.04*log(250/20)#\n",
    "print\"\\n Jo = %.3f m/h\"%(Jo)#\n",
    "Jf = 0.04*log(250/200)#\n",
    "print\"\\n Jf = %.3f   m/h\"%(Jf)#\n",
    "Jav = Jf + 0.27*(0.101-0.008)#\n",
    "print\"\\n Jav = %.3f   m/h\"%(Jav)#\n",
    "#For the removal of 9m**3 filtrate in 4 hours\n",
    "Area = (9/4)/Jav#\n",
    "print\"\\n Area = %.3f  m**2\"%(Area)#"
   ]
  },
  {
   "cell_type": "markdown",
   "metadata": {},
   "source": [
    "## Page 462 Example 8.3"
   ]
  },
  {
   "cell_type": "code",
   "execution_count": 5,
   "metadata": {
    "collapsed": false
   },
   "outputs": [
    {
     "name": "stdout",
     "output_type": "stream",
     "text": [
      "\n",
      " Cl = 4 kg/m**3\n",
      "\n",
      " below this concentration the membrane flux is 0.04 m/h\n",
      "\n",
      " A = 300 m**2\n",
      "\n",
      " the no of required modules are 10 \n",
      "\n",
      " The procedure is to use trial and error to estimate the value of C1 that gives the optimum values of A1 and A2\n",
      "\n",
      " If C1 = 5kg/m**3 then A1 = 62 m**2 and A2 = 23 m**2\n",
      "\n",
      " an arrangement of 3 modules −1 module is required.\n",
      "\n",
      "\n",
      "\n",
      "  If C1 = 4 kg/m**3 then A1 = 54m**2 and A2 = 30m**2\n",
      "\n",
      " an arrangement of 2 modules −1 module is almost sufficient.\n",
      "\n",
      "\n",
      "\n",
      "   If C1 = 4.5 kg/m**3 then A1 = 58m**2 and A2 = 26 m**2\n",
      "\n",
      " an arrangement of 2 modules −1 module which meets the requirement\n",
      "\n",
      "\n",
      " This arrangement requires the minimum number of modules.\n"
     ]
    }
   ],
   "source": [
    "from __future__ import division\n",
    "from math import log\n",
    "#It is assumed that Q0 is the volumetric flowrate of feed\n",
    "# Q2 the volumetric flowrate of concentrate\n",
    "#C0 the solute concentration in the feed\n",
    "# C2 the solute concentration in the concentrate\n",
    "# F the volumetric flowrate of membrane permeate\n",
    "# A the required membrane area.\n",
    "# It is also assumed that there is no loss of solute through the membrane.\n",
    "Cl = 3#\n",
    "while 1:\n",
    "    Clnew = Cl -(0.04-0.02*log(30/Cl))/(Cl**(-1)/50)#\n",
    "    if Clnew == Cl:\n",
    "        break#\n",
    "    \n",
    "    Cl = Clnew#\n",
    "\n",
    "print\"\\n Cl = %d kg/m**3\"%(Cl)#\n",
    "print\"\\n below this concentration the membrane flux is 0.04 m/h\"\n",
    "\n",
    "#This does not pose a constraint for the single stage as the concentration of solute C2 will be that of the final concentrate, 20 kg/m3.\n",
    "#Conservation of solute gives:QoCo = Q2C2\n",
    "#A fluid balance gives : Qo = F + Q2\n",
    "#Combining these eq and substituting Known values:\n",
    "A = (2.438/0.02)/log(30/20)#\n",
    "print\"\\n A = %d m**2\"%(A)#\n",
    "#The tubular membranes to be used are available as 30 m**2modules.\n",
    "print\"\\n the no of required modules are %d \"%(A/30)#\n",
    "\n",
    "#Part(b)\n",
    "\n",
    "#Conservation of solute gives = QoCo = Q1C1 = Q2C2\n",
    "#A fluid balance on stage 2 gives Q1 = Q2 + F2\n",
    "#A fluid balance on stage 2 gives Q1 = Q2 +F2\n",
    "#Substituting given values in above eqns\n",
    "#2.5 = 1.25/C1 + 0.02A1ln(30/C1)\n",
    "def a(C1):\n",
    "    A1 = (2.5-1.25/C1)/(0.02*log(30/C1))#\n",
    "    return A1\n",
    "def b(C1):\n",
    "    A2 = (1.25/C1 - 0.0625)/0.00811\n",
    "    return A2\n",
    "\n",
    "print\"\\n The procedure is to use trial and error to estimate the value of C1 that gives the optimum values of A1 and A2\"\n",
    "print\"\\n If C1 = 5kg/m**3 then A1 = %d m**2 and A2 = %d m**2\"%(a(5),b(5))#\n",
    "print\"\\n an arrangement of 3 modules −1 module is required.\"\n",
    "print\"\\n\\n\\n  If C1 = 4 kg/m**3 then A1 = %dm**2 and A2 = %dm**2\"%(a(4),b(4))#\n",
    "print\"\\n an arrangement of 2 modules −1 module is almost sufficient.\"\n",
    "print\"\\n\\n\\n   If C1 = 4.5 kg/m**3 then A1 = %dm**2 and A2 = %d m**2\"%(a(4.5),b(4.5))#\n",
    "print\"\\n an arrangement of 2 modules −1 module which meets the requirement\"\n",
    "print\"\\n\\n This arrangement requires the minimum number of modules.\""
   ]
  }
 ],
 "metadata": {
  "kernelspec": {
   "display_name": "Python 2",
   "language": "python",
   "name": "python2"
  },
  "language_info": {
   "codemirror_mode": {
    "name": "ipython",
    "version": 2
   },
   "file_extension": ".py",
   "mimetype": "text/x-python",
   "name": "python",
   "nbconvert_exporter": "python",
   "pygments_lexer": "ipython2",
   "version": "2.7.9"
  }
 },
 "nbformat": 4,
 "nbformat_minor": 0
}
