{
 "cells": [
  {
   "cell_type": "markdown",
   "metadata": {},
   "source": [
    "# Chapter 11 - Distillation"
   ]
  },
  {
   "cell_type": "markdown",
   "metadata": {},
   "source": [
    "## Page 548 Example 11.1"
   ]
  },
  {
   "cell_type": "code",
   "execution_count": 1,
   "metadata": {
    "collapsed": false
   },
   "outputs": [
    {
     "name": "stdout",
     "output_type": "stream",
     "text": [
      "\n",
      "Mole fraction in liquid phase is : 0.854\n",
      "\n",
      "Mole fraction in vapour phase is : 0.894\n",
      "\n"
     ]
    }
   ],
   "source": [
    "p0_A=106#  #Vapour pressure of n-heptane  in kN/m**2\n",
    "p0_B=73.7#  #Vapour pressure of toluene  in kN/m**2\n",
    "P=101.3#  #Total pressure in kN/m**2\n",
    "\n",
    "xA=(P-p0_B)/(p0_A-p0_B)\n",
    "\n",
    "yA=p0_A*xA/P\n",
    "\n",
    "print\"\\nMole fraction in liquid phase is : %.3f\"%(xA)\n",
    "print\"\\nMole fraction in vapour phase is : %.3f\\n\"%(yA)"
   ]
  },
  {
   "cell_type": "markdown",
   "metadata": {},
   "source": [
    "## Page 549 Example 11.2"
   ]
  },
  {
   "cell_type": "code",
   "execution_count": 2,
   "metadata": {
    "collapsed": false
   },
   "outputs": [
    {
     "name": "stdout",
     "output_type": "stream",
     "text": [
      "\n",
      "Tr1 = 0.648   \n",
      "Pr1 = 0.021  \n",
      "\n",
      "\n",
      "c5 = 2.2687 \n",
      "c2 = 7.2970 \n",
      "c1 = -0.2966\n",
      "\n",
      "\n",
      "k9 = 10.380 \n",
      "k10 = 10.677 \n",
      "k11 = -5.1589\n",
      "\n",
      "k12 = 0.29657\n",
      "\n",
      "\n",
      "Pr = 0.043   \n",
      "\n",
      "P0 = 203.75 kN/m**2\n",
      "\n"
     ]
    }
   ],
   "source": [
    "from math import log,exp\n",
    "\n",
    "Pc=4700#  #Critical pressure in kN/m**2\n",
    "Tc=508.1#  #critical temperature in K\n",
    "p1=100.666#  #in kN/m**2\n",
    "T1=329.026#  #in K\n",
    "T=350.874#  #in K\n",
    "\n",
    "Tr1=T1/Tc\n",
    "Pr1=p1/Pc\n",
    "print\"\\nTr1 = %.3f   \\nPr1 = %.3f  \\n\"%(Tr1,Pr1)\n",
    "\n",
    "c5=-35+(36/Tr1)+(42*log(Tr1))-(Tr1**6)\n",
    "c2=((0.315*c5)-log(Pr1))/((0.0838*c5)-log(Tr1))\n",
    "c1=0.0838*(3.758-c2)\n",
    "print\"\\nc5 = %.4f \\nc2 = %.4f \\nc1 = %.4f\\n\"%(c5,c2,c1)\n",
    "\n",
    "k9=-35*c1\n",
    "k10=-36*c1\n",
    "k11=(42*c1)+c2\n",
    "k12=-c1\n",
    "\n",
    "print\"\\nk9 = %.3f \\nk10 = %.3f \\nk11 = %.4f\"%(k9,k10,k11)\n",
    "print\"\\nk12 = %.5f\\n\"%(k12)\n",
    "\n",
    "Tr=T/Tc\n",
    "Pr=exp(k9-(k10/Tr)+(k11*log(Tr))+(k12*Tr**6))\n",
    "p0=Pc*Pr\n",
    "print\"\\nPr = %.3f   \\n\\nP0 = %.2f kN/m**2\\n\"%(Pr,p0)"
   ]
  },
  {
   "cell_type": "markdown",
   "metadata": {},
   "source": [
    "## Page 549 Exaple  11.3"
   ]
  },
  {
   "cell_type": "code",
   "execution_count": 4,
   "metadata": {
    "collapsed": false
   },
   "outputs": [
    {
     "name": "stdout",
     "output_type": "stream",
     "text": [
      "\n",
      "P0_B = 62.1 kN/m**2\n",
      "P0_T = 22.5 kN/m**2\n",
      "\n",
      "\n",
      "pB = 31.05 kN/m**2 \n",
      "pT = 11.254\n",
      "\n",
      "\n",
      "yB = 0.734 \n",
      "yT = 0.266\n",
      "\n"
     ]
    }
   ],
   "source": [
    "k1_B=6.90565\n",
    "k2_B=1211.033\n",
    "k3_B=220.79\n",
    "\n",
    "k1_T=6.95334\n",
    "k2_T=1343.943\n",
    "k3_T=219.377\n",
    "\n",
    "t=338-273#  #in Degree celsius\n",
    "P=101.3#  #in kN/m**2\n",
    "xB=0.5\n",
    "xT=0.5\n",
    "\n",
    "def antoine(k1,k2,k3,T):\n",
    "    p0=10**(k1-(k2/(T+k3)))\n",
    "    return p0\n",
    "\n",
    "p0_B=antoine(k1_B,k2_B,k3_B,t)*101.325/760\n",
    "p0_T=antoine(k1_T,k2_T,k3_T,t)*101.325/760\n",
    "\n",
    "print\"\\nP0_B = %.1f kN/m**2\\nP0_T = %.1f kN/m**2\\n\"%(p0_B,p0_T)\n",
    "\n",
    "pB=xB*p0_B\n",
    "pT=xT*p0_T\n",
    "print\"\\npB = %.2f kN/m**2 \\npT = %.3f\\n\"%(pB,pT)\n",
    "\n",
    "p=pB+pT\n",
    "yB=pB/p\n",
    "yT=pT/p\n",
    "print\"\\nyB = %.3f \\nyT = %.3f\\n\"%(yB,yT)"
   ]
  },
  {
   "cell_type": "markdown",
   "metadata": {},
   "source": [
    "## Page 550 Example 11.4"
   ]
  },
  {
   "cell_type": "code",
   "execution_count": 16,
   "metadata": {
    "collapsed": false
   },
   "outputs": [
    {
     "name": "stdout",
     "output_type": "stream",
     "text": [
      "\n",
      "\tT(K)\n",
      "373 \t353 \t363 \t365 \t365.1 \t\n",
      "\n",
      "\t\n",
      "p0 B:\n",
      "180.051\t101.013\t136.121\t144.159\t144.570\t\n",
      "\t\n",
      "p0 T:\n",
      "\n",
      "74.170\t38.825\t54.227\t57.825\t58.010\t\n",
      "\n",
      "\t\n",
      "pB:\n",
      "\n",
      "90.025\t50.507\t68.060\t72.079\t72.285\t\n",
      "\t\n",
      "pT:\n",
      "\n",
      "37.085\t19.412\t27.113\t28.912\t29.005\t\n",
      "\t\n",
      "pB+pT:\n",
      "\n",
      "127.110\t69.919\t95.174\t100.992\t101.290\t\n",
      "\n",
      "Boiling temperature is 365.100   K\n"
     ]
    }
   ],
   "source": [
    "def antoine(k1,k2,k3,T):\n",
    "    p0=10**(k1-(k2/(T+k3-273)))\n",
    "    return p0\n",
    "\n",
    "\n",
    "k1_B=6.90565\n",
    "k2_B=1211.033\n",
    "k3_B=220.79\n",
    "\n",
    "k1_T=6.95334\n",
    "k2_T=1343.943\n",
    "k3_T=219.377\n",
    "\n",
    "xB=0.5\n",
    "xT=0.5\n",
    "\n",
    "print\"\\n\\tT(K)\"\n",
    "T=[373, 353, 363, 365, 365.1]\n",
    "for t in T:\n",
    "    print t,'\\t',\n",
    "\n",
    "print\n",
    "i=0\n",
    "\n",
    "p0_B=[];p0_T=[];pB=[];pT=[];p=[]\n",
    "while i<5:\n",
    "    p0_B.append(antoine(k1_B,k2_B,k3_B,T[(i)])*101.325/760)\n",
    "    p0_T.append(antoine(k1_T,k2_T,k3_T,T[(i)])*101.325/760)\n",
    "    pB.append(xB*p0_B[(i)])\n",
    "    pT.append(xT*p0_T[(i)])\n",
    "    p.append(pB[(i)]+pT[(i)])\n",
    "    i=i+1\n",
    "\n",
    "print\"\\n\\t\\np0 B:\"\n",
    "for pp in p0_B:\n",
    "    print \"%0.3f\\t\"%pp,\n",
    "print\"\\n\\t\\np0 T:\"\n",
    "print \n",
    "for pp in p0_T:\n",
    "    print \"%0.3f\\t\"%pp,\n",
    "print\n",
    "print\"\\n\\t\\npB:\"\n",
    "print \n",
    "for pp in pB:\n",
    "    print \"%0.3f\\t\"%pp,\n",
    "\n",
    "print\"\\n\\t\\npT:\"\n",
    "print \n",
    "for pp in pT:\n",
    "    print \"%0.3f\\t\"%pp,\n",
    "\n",
    "print\"\\n\\t\\npB+pT:\"\n",
    "print \n",
    "for pp in p:\n",
    "    print \"%0.3f\\t\"%pp,\n",
    "\n",
    "print \n",
    "#since total pressure at 365.1 K is nearly same as 101.3 kPa\n",
    "print\"\\nBoiling temperature is %.3f   K\"%(T[4])"
   ]
  },
  {
   "cell_type": "markdown",
   "metadata": {},
   "source": [
    "## Page 551 Example 11.5"
   ]
  },
  {
   "cell_type": "code",
   "execution_count": 3,
   "metadata": {
    "collapsed": false
   },
   "outputs": [
    {
     "name": "stdout",
     "output_type": "stream",
     "text": [
      "\n",
      "T(K) : \n",
      "373.2 \t371.2 \t371.7 \t371.9 \t372 \t\n",
      "p0 B:\n",
      "181.028525362 \t171.432167447 \t173.793590263 \t174.745148387 \t175.222430638 \t\n",
      "\n",
      "p0 T:\n",
      "74.6211877248 \t70.2066082135 \t71.2902696145 \t71.7274367157 \t71.9468173127 \t\n",
      "\n",
      "xB:\n",
      "0.279790159583 \t0.2954521357 \t0.291437675713 \t0.289850679504 \t0.289061165375 \t\n",
      "\n",
      "xT:\n",
      "0.678761643232 \t0.721442059214 \t0.71047564098 \t0.706145407102 \t0.703992224977 \t\n",
      "\n",
      "x = xB+xT:\n",
      "0.958551802815 \t1.01689419491 \t1.00191331669 \t0.995996086606 \t0.993053390352 \t\n",
      "\n",
      "Dew point can be taken as 372.000   K\n"
     ]
    }
   ],
   "source": [
    "def antoine(k1,k2,k3,T):\n",
    "    p0=10**(k1-(k2/(T+k3-273)))\n",
    "    return p0\n",
    "\n",
    "k1_B=6.90565\n",
    "k2_B=1211.033\n",
    "k3_B=220.79\n",
    "\n",
    "k1_T=6.95334\n",
    "k2_T=1343.943\n",
    "k3_T=219.377\n",
    "\n",
    "#Since total pressure is 101.3 kPa, pB=pT\n",
    "pB=50.65\n",
    "pT=50.65\n",
    "\n",
    "print\"\\nT(K) : \"\n",
    "T=[373.2 ,371.2 ,371.7 ,371.9, 372]\n",
    "for t in T:print t,'\\t',\n",
    "\n",
    "\n",
    "i=0\n",
    "\n",
    "p0_B=[];p0_T=[];xB=[];xT=[];x=[]\n",
    "while i<5:\n",
    "    p0_B.append(antoine(k1_B,k2_B,k3_B,T[(i)])*101.325/760)\n",
    "    p0_T.append(antoine(k1_T,k2_T,k3_T,T[(i)])*101.325/760)\n",
    "    xB.append(pB/p0_B[(i)])\n",
    "    xT.append(pT/p0_T[(i)])\n",
    "    x.append(xB[(i)]+xT[(i)])\n",
    "    i=i+1\n",
    "\n",
    "\n",
    "print\"\\np0 B:\"\n",
    "for p in p0_B: print p,'\\t',\n",
    "print    \n",
    "print\"\\np0 T:\"\n",
    "for p in p0_T:print p,'\\t',\n",
    "print    \n",
    "print\"\\nxB:\"\n",
    "for xx in xB:print xx,'\\t',\n",
    "print\n",
    "print\"\\nxT:\"\n",
    "for xx in xT:print xx,'\\t',\n",
    "print\n",
    "print\"\\nx = xB+xT:\"\n",
    "for xx in x:print xx,'\\t',\n",
    "print \n",
    "#Since last value is closer to 1, 372 K is the required dew point\n",
    "print\"\\nDew point can be taken as %.3f   K\"%(T[4])"
   ]
  },
  {
   "cell_type": "markdown",
   "metadata": {},
   "source": [
    "## Page 557 Example 11.6"
   ]
  },
  {
   "cell_type": "code",
   "execution_count": 4,
   "metadata": {
    "collapsed": false
   },
   "outputs": [
    {
     "name": "stdout",
     "output_type": "stream",
     "text": [
      "\n",
      "For slope = -3\n",
      "\n",
      "x=0.42 \t y=0.63\n",
      "\n",
      "\n",
      "for x=0.42 \t T=366.5\n"
     ]
    }
   ],
   "source": [
    "#Fractional vapourisation   f=V/F\n",
    "f=0.25\n",
    "\n",
    "slope=(1-f)/-f\n",
    "\n",
    "#from fig 11.9, a construction is made\n",
    "print\"\\nFor slope = %d\"%(slope)\n",
    "print\"\\nx=0.42 \\t y=0.63\\n\"\n",
    "\n",
    "#from fig. 11.10,temperature corresponding to x=0.42 is noted\n",
    "print\"\\nfor x=0.42 \\t T=366.5\""
   ]
  },
  {
   "cell_type": "markdown",
   "metadata": {},
   "source": [
    "## Page 564 Example 11.7"
   ]
  },
  {
   "cell_type": "code",
   "execution_count": 10,
   "metadata": {
    "collapsed": false
   },
   "outputs": [
    {
     "data": {
      "image/png": "[encoded data removed]",
      "text/plain": [
       "<matplotlib.figure.Figure at 0x7f42ec286550>"
      ]
     },
     "metadata": {},
     "output_type": "display_data"
    },
    {
     "name": "stdout",
     "output_type": "stream",
     "text": [
      "\n",
      "\n",
      " As the least point on equilibrium Line xt-7 correspond to reboiler, and there will be seven plates\n"
     ]
    }
   ],
   "source": [
    "from scipy.optimize import fsolve\n",
    "%matplotlib inline\n",
    "from matplotlib.pyplot import plot,title,xlabel,ylabel,show\n",
    "from numpy import arange\n",
    "\n",
    "\n",
    "# Find Number of theoretical plates needed and the position of entry for the feed\n",
    "\n",
    "F = 100#                #Feed [kmol]\n",
    "\n",
    "def Feed(x):\n",
    "    f=[]\n",
    "    f.append(x[0]+x[1]-100)                    #Overall mass Balance\n",
    "    f.append(0.9*x[0]+.1*x[1]-(100*.4))#        #A balance on MVC,benzene\n",
    "    return f\n",
    "x = [50, 50]\n",
    "product = fsolve(Feed,x)\n",
    "\n",
    "#Using notation of figure 11.13\n",
    "Ln = 3*product[0]\n",
    "Vn = Ln + product[0]\n",
    "\n",
    "#Reflux to the plate\n",
    "Lm = Ln + F\n",
    "Vm = Lm - product[1]\n",
    "\n",
    "#Equilibrium Composition\n",
    "xt = .79\n",
    "yt = .9\n",
    "#From Top eqm line\n",
    "yt1 = (Ln/Vn)*xt + (product[0]/Vn)\n",
    "xt1=.644#        #Thus from Eqm curve for yt1\n",
    "#From Top eqm line\n",
    "yt2 = (Ln/Vn)*xt1 + (product[0]/Vn)\n",
    "xt2=.492#        #Thus from Eqm curve for yt2\n",
    "#From Top eqm line\n",
    "yt3 = (Ln/Vn)*xt2 + (product[0]/Vn)\n",
    "xt3=.382#        #Thus from Eqm curve for yt3\n",
    "#From II Eqm Line\n",
    "yt4 = (Lm/Vm)*xt3 - (product[1]/Vm)*.1\n",
    "xt4=.2982#        #Thus from Eqm curve for yt4\n",
    "#From II Eqm Line\n",
    "yt5 = (Lm/Vm)*xt4 - (product[1]/Vm)*.1\n",
    "xt5=.208#        #Thus from Eqm curve for yt5\n",
    "#From II Eqm Line\n",
    "yt6 = (Lm/Vm)*xt5 - (product[1]/Vm)*.1\n",
    "xt6=.120#        #Thus from Eqm curve for yt6\n",
    "#From II Eqm Line\n",
    "yt7 = (Lm/Vm)*xt6 - (product[1]/Vm)*.1\n",
    "xt7=.048#        #Thus from Eqm curve for yt7\n",
    "\n",
    "#Equilibrium Data\n",
    "y=[0, yt7 ,yt6 ,yt5 ,yt4 ,yt3 ,yt2 ,yt1 ,yt]\n",
    "x=[0, xt7 ,xt6 ,xt5 ,xt4 ,xt3 ,xt2 ,xt1, xt]\n",
    "#Top Equilibrium Line equation 11.35\n",
    "x1 = arange(0,.79,100)\n",
    "y1 = (Ln/Vn)*x1 + (product[0]/Vn)\n",
    "#Equilibrium Line equation 11.37\n",
    "x2 = arange(0.048,.44,100)\n",
    "y2 = (Lm/Vm)*x2 - (product[1]/Vm)*.1\n",
    "\n",
    "plot(x,y,x1,y1,x2,y2)\n",
    "title(\"Lewis-Sorel Method\")\n",
    "xlabel( \"Mole fraction of C6H6 in Liquid (x)\")\n",
    "ylabel( \"Mole Fraction C6H6 in Vapor (y)\")\n",
    "show()\n",
    "print\"\\n\\n As the least point on equilibrium Line xt-7 correspond to reboiler, and there will be seven plates\""
   ]
  },
  {
   "cell_type": "markdown",
   "metadata": {},
   "source": [
    "## Page 567 Example 11.8"
   ]
  },
  {
   "cell_type": "code",
   "execution_count": 16,
   "metadata": {
    "collapsed": false
   },
   "outputs": [
    {
     "data": {
      "image/png": "[encoded data removed]",
      "text/plain": [
       "<matplotlib.figure.Figure at 0x7f42ec32b4d0>"
      ]
     },
     "metadata": {},
     "output_type": "display_data"
    },
    {
     "data": {
      "image/png": "[encoded data removed]",
      "text/plain": [
       "<matplotlib.figure.Figure at 0x7f42ccf88a90>"
      ]
     },
     "metadata": {},
     "output_type": "display_data"
    },
    {
     "name": "stdout",
     "output_type": "stream",
     "text": [
      "\n",
      "\n",
      " The Number of stages are then counted highlighted points that is number of plates required as 7\n"
     ]
    }
   ],
   "source": [
    "from scipy.optimize import fsolve\n",
    "%matplotlib inline\n",
    "from matplotlib.pyplot import plot,title,xlabel,ylabel,show\n",
    "from numpy import arange\n",
    "\n",
    "\n",
    "# Find Number of theoretical plates needed and the position of entry for the feed by mccabe thiele method\n",
    "\n",
    "F = 100#                #Feed [kmol]\n",
    "\n",
    "def Feed(x):\n",
    "    f=[]\n",
    "    f.append(x[0]+x[1]-100)#                    #Overall mass Balance\n",
    "    f.append(0.9*x[0]+.1*x[1]-(100*.4))        #A balance on MVC,benzene\n",
    "    return f\n",
    "x = [50, 50]\n",
    "product = fsolve(Feed,x)\n",
    "\n",
    "#Using notation of figure 11.13\n",
    "Ln = 3*product[0]\n",
    "Vn = Ln + product[0]\n",
    "\n",
    "#Reflux to the plate\n",
    "Lm = Ln + F\n",
    "Vm = Lm - product[1]\n",
    "\n",
    "#Equilibrium Data\n",
    "y=[0, .127, .252 ,.379 ,.498, .594, .708, .818, .9, 1]\n",
    "x=[0 ,.048, .12, .208, .298, .382 ,.492, .644, .79, 1]\n",
    "#Diagnol Line\n",
    "y3 = [0, 1]\n",
    "x3 = [0 ,1]\n",
    "#Top Equilibrium Line equation 11.35\n",
    "x1 = arange(0,.985,100)\n",
    "y1 = (Ln/Vn)*x1 + (product[0]/Vn)\n",
    "#Equilibrium Line equation 11.37\n",
    "x2 = arange(0.048,.44,100)\n",
    "y2 = (Lm/Vm)*x2 - (product[1]/Vm)*.1\n",
    "\n",
    "#Setting initial point A x =  .985 at top eqm line\n",
    "xm = [.985, .965, .965, .92 ,.92 ,.825 ,.825 ,.655 ,.655 ,.44 ,.44 ,.255 ,.255 ,.125 ,.125 ,.048]\n",
    "ym = [.985 ,.985, .965, .965, .92 ,.92 ,.825 ,.825 ,.655 ,.655 ,.44 ,.44 ,.255, .255, .125, .125]\n",
    "xp = [.985 ,.965 ,.92 ,.825, .655, .44 ,.255 ,.125 ,.048]\n",
    "yp = [.985, .965 ,.92 ,.825 ,.655 ,.44, .255, .125, .048]\n",
    "plot(x,y,x3,y3,x1,y1,x2,y2,xm,ym)\n",
    "title(\"Mccabe Thiele Method\")\n",
    "xlabel( \"Mole fraction of C6H6 in Liwuid (x)\")\n",
    "ylabel( \"Mole Fraction C6H6 in Vapor (y)\")\n",
    "show()\n",
    "#for i in range(1:8):\n",
    "plot(xp[1:8],yp[1:8])\n",
    "title(\"Equilibrium plot\")\n",
    "xlabel(\"mole fraction C6H6 in liquid(x)\")\n",
    "ylabel(\"mole fractionC6H6 in vapour(y)\")\n",
    "show()\n",
    "\n",
    "print\"\\n\\n The Number of stages are then counted highlighted points that is number of plates required as 7\""
   ]
  },
  {
   "cell_type": "markdown",
   "metadata": {},
   "source": [
    "## Page 574 Example 11.9"
   ]
  },
  {
   "cell_type": "code",
   "execution_count": 17,
   "metadata": {
    "collapsed": false
   },
   "outputs": [
    {
     "name": "stdout",
     "output_type": "stream",
     "text": [
      "\n",
      "No. of theoretical plates in column is : 4\n",
      "\n",
      "Minimum reflux ratio is 1.32\n",
      "\n",
      "\n",
      "Using Graphical construction with yf=0.61\n",
      "\n",
      "Minimum reflux ratio is 1.38\n",
      "\n"
     ]
    }
   ],
   "source": [
    "from math import log\n",
    "\n",
    "xA_d=0.9\n",
    "xA_s=0.1\n",
    "xB_d=1-xA_d\n",
    "xB_s=1-xA_s\n",
    "\n",
    "a=2.4\n",
    "xd=0.9\n",
    "xf=0.4\n",
    "xw=0.1\n",
    "\n",
    "n=(log(xA_d*xB_s/(xB_d*xA_s))/log(a))-1\n",
    "print\"\\nNo. of theoretical plates in column is : %d\"%(n)\n",
    "\n",
    "Rm=((xd/xf)-(a*((1-xd)/(1-xf))))/(a-1)\n",
    "print\"\\nMinimum reflux ratio is %.2f\\n\"%(Rm)\n",
    "\n",
    "yf=0.61\n",
    "print\"\\nUsing Graphical construction with yf=0.61\\n\"\n",
    "Rmin=(xd-yf)/(yf-xf)\n",
    "print\"Minimum reflux ratio is %.2f\\n\"%(Rmin)\n"
   ]
  },
  {
   "cell_type": "markdown",
   "metadata": {},
   "source": [
    "## Page 587 Example 11.10"
   ]
  },
  {
   "cell_type": "code",
   "execution_count": 23,
   "metadata": {
    "collapsed": false
   },
   "outputs": [
    {
     "name": "stdout",
     "output_type": "stream",
     "text": [
      "\n",
      " Rm = 0.323\n",
      "\n",
      " Since the actual reflux is 8 pre cent above the minimum NA = 1.08*NmA = 437.400\n",
      "\n",
      " Number of plates to be  required are 8.333\n",
      "\n",
      " Heat input to the boiler per unit mass of bottom product is 791.000\n",
      "\n",
      " Heat input to the boiler = 616.980 kW\n",
      "\n",
      " Condenser duty = 371 kW\n"
     ]
    }
   ],
   "source": [
    "from __future__ import division\n",
    "#From material balance\n",
    "    #  D+W=1\n",
    "    #  0.995D+0.1W=1*3\n",
    "\n",
    "A=[[1, 1],[0.995, 0.1]]\n",
    "B=[[1],[3]]\n",
    "Rm = (1952-1547)/(1547-295)\n",
    "print\"\\n Rm = %.3f\"%(Rm)\n",
    "NA = 1.08*405\n",
    "print\"\\n Since the actual reflux is 8 pre cent above the minimum NA = 1.08*NmA = %.3f\"%(NA)\n",
    "N = 5/0.6\n",
    "print\"\\n Number of plates to be  required are %.3f\"%(5/0.6)\n",
    "\n",
    "Qb_W = 582 - (-209)\n",
    "print\"\\n Heat input to the boiler per unit mass of bottom product is %.3f\"%(Qb_W)\n",
    "print\"\\n Heat input to the boiler = %.3f kW\"%(791*0.78)\n",
    "print\"\\n Condenser duty = %d kW\"%((1984-296)*0.22)"
   ]
  },
  {
   "cell_type": "markdown",
   "metadata": {},
   "source": [
    "## Page 590 Example 11.11"
   ]
  },
  {
   "cell_type": "code",
   "execution_count": 1,
   "metadata": {
    "collapsed": false
   },
   "outputs": [
    {
     "name": "stdout",
     "output_type": "stream",
     "text": [
      "\n",
      "D = 41.7    W = 48.3\n",
      "\n",
      "From the enthalpy data and the reflux ratio, the upper pole point M is located as shown in Figure.\n",
      "Points F and S are located,such that FS/FF = 10.\n",
      "MF is Joined and extended to cut NS**A at O, the immediate pole point.\n",
      "The number of stages required is then obtained from the figure and\n",
      "13 theoretical stages are required\n"
     ]
    }
   ],
   "source": [
    "from numpy import mat\n",
    "\n",
    "#    F is feed\n",
    "#    D is distillate\n",
    "#    W is waste\n",
    "#    S is sidestream\n",
    "\n",
    "F=100\n",
    "S=10\n",
    "\n",
    "#Mass fractions of CCl4 in various streams\n",
    "xf=0.5\n",
    "xd=0.95\n",
    "xw=0.05\n",
    "xs=0.8\n",
    "\n",
    "#    D + W = 100-10\n",
    "#    0.95D + 0.00W = 50-8\n",
    "A=mat([[1,1],[0.95,0.05]])\n",
    "B=mat([[90],[42]])\n",
    "x=(A**-1)*B\n",
    "print\"\\nD = %.1f    W = %.1f\\n\"%(x[0],x[1])\n",
    "\n",
    "print \"From the enthalpy data and the reflux ratio, the upper pole point M is located as shown in Figure.\"\n",
    "\n",
    "print \"Points F and S are located,such that FS/FF = 10.\"\n",
    "\n",
    "print \"MF is Joined and extended to cut NS**A at O, the immediate pole point.\"\n",
    "print \"The number of stages required is then obtained from the figure and\"\n",
    "print\"13 theoretical stages are required\""
   ]
  },
  {
   "cell_type": "markdown",
   "metadata": {},
   "source": [
    "## Page 595 Example 11.12"
   ]
  },
  {
   "cell_type": "code",
   "execution_count": 4,
   "metadata": {
    "collapsed": false
   },
   "outputs": [
    {
     "name": "stdout",
     "output_type": "stream",
     "text": [
      "\n",
      "   R          Fi            xs       Db   \n",
      "\n",
      " 0.85        0.405         0.55       0.0\n",
      "\n",
      " 1.00        0.375         0.50       20.0\n",
      "\n",
      " 1.50        0.300         0.37       47.4\n",
      "\n",
      " 2.00        0.250         0.20       63.6\n",
      "\n",
      " 3.00        0.188         0.07       70.4\n",
      "\n",
      " 4.00        0.150         0.05       71.4\n"
     ]
    },
    {
     "data": {
      "image/png": "[encoded data removed]",
      "text/plain": [
       "<matplotlib.figure.Figure at 0x7f949a715a90>"
      ]
     },
     "metadata": {},
     "output_type": "display_data"
    },
    {
     "name": "stdout",
     "output_type": "stream",
     "text": [
      "\n",
      " The area under the Db vs R curve is given by 96 kmol\n",
      "\n",
      " Heat to be supplied to provide the reflux,Qr is approximately 384.0 MJ\n",
      "\n",
      " Heat to be supplied to provide the reflux per kmol of product is then 5.32 MJ\n",
      "\n",
      " Total heat = 9.32 MJ/kmol product\n"
     ]
    }
   ],
   "source": [
    "%matplotlib inline\n",
    "from matplotlib.pyplot import plot,title,xlabel,ylabel,show\n",
    "\n",
    "R = [0.85, 1.0, 1.5, 2.0, 3.0 ,4.0]#    #Reflux ratio\n",
    "xd = 0.75#                         #top concentration of alcohol\n",
    "xs = [0.55 ,0.50, 0.37 ,0.20 ,0.075 ,0.05]##From the graph fig.11.35 page-596\n",
    "Db = [0]\n",
    "\n",
    "print\"\\n   R          Fi            xs       Db   \"\n",
    "i=0;Fi=[]\n",
    "while i<=5:\n",
    "    Fi.append(xd/(R[i] + 1))\n",
    "    if i>0:\n",
    "        Db.append(100*(xs[0]-xs[i])/(xd-xs[i]))\n",
    "    \n",
    "    print\"\\n %.2f        %.3f         %.2f       %.1f\"%(R[(i)],Fi[(i)],xs[(i)],Db[(i)])\n",
    "    i=i+1\n",
    "\n",
    "plot(R,Db)\n",
    "xlabel(\"Reflux ratio(R)\")\n",
    "ylabel(\"Product Db (kmol)\")\n",
    "show()\n",
    "print\"\\n The area under the Db vs R curve is given by 96 kmol\"\n",
    "Hav = 4000#            #average latent heat in kJ/kmol\n",
    "Qr = 96*Hav/1000\n",
    "print\"\\n Heat to be supplied to provide the reflux,Qr is approximately %.1f MJ\"%(Qr)\n",
    "print\"\\n Heat to be supplied to provide the reflux per kmol of product is then %.2f MJ\"%(380/71.4)\n",
    "print\"\\n Total heat = %.2f MJ/kmol product\"%(5.32+4.0)"
   ]
  },
  {
   "cell_type": "markdown",
   "metadata": {},
   "source": [
    "## Page 596 Example 11.13"
   ]
  },
  {
   "cell_type": "code",
   "execution_count": 7,
   "metadata": {
    "collapsed": false
   },
   "outputs": [
    {
     "name": "stdout",
     "output_type": "stream",
     "text": [
      "\n",
      " xs      xd   (xd-xs)   1/(xd-xs)\n",
      "\n",
      "0.55 \t0.78 \t0.23 \t4.348\n",
      "0.5 \t0.775 \t0.275 \t3.636\n",
      "0.425 \t0.77 \t0.345 \t2.899\n",
      "0.31 \t0.76 \t0.45 \t2.222\n",
      "0.225 \t0.75 \t0.525 \t1.905\n",
      "0.105 \t0.74 \t0.635 \t1.575\n"
     ]
    },
    {
     "data": {
      "image/png": "[encoded data removed]",
      "text/plain": [
       "<matplotlib.figure.Figure at 0x7f07c5ec1e50>"
      ]
     },
     "metadata": {},
     "output_type": "display_data"
    },
    {
     "name": "stdout",
     "output_type": "stream",
     "text": [
      "\n",
      "Average composition is 0.77 kmol\n",
      "\n",
      "Heat required to produce reflux per kmol : 8400 kJ\n",
      "\n"
     ]
    }
   ],
   "source": [
    "from numpy import nditer,exp\n",
    "%matplotlib inline\n",
    "from matplotlib.pyplot import plot,title,xlabel,ylabel,show\n",
    "\n",
    "xs=[0.55,0.5,0.425,0.31,0.225,0.105]\n",
    "xd=[0.78,0.775,0.77,0.76,0.75,0.74]\n",
    "differ=[]\n",
    "for m,n in nditer([xd,xs]):\n",
    "    differ.append(m-n)\n",
    "reci=[]\n",
    "for i in range(0,6):\n",
    "    reci.append(1/(xd[(i)]-xs[(i)]))\n",
    "\n",
    "\n",
    "m=[xs, xd, differ, reci]\n",
    "print\"\\n xs      xd   (xd-xs)   1/(xd-xs)\\n\"\n",
    "for a,b,c,d in nditer([xs,xd,differ,reci]):\n",
    "    print a,'\\t',b,'\\t',c,'\\t%0.3f'%d,\n",
    "    print \n",
    "\n",
    "plot(xs,reci)\n",
    "title('Graphical integration')\n",
    "xlabel('xs')\n",
    "ylabel('1/xd-xs)')\n",
    "show()\n",
    "#Area under the curve is calculated and is found to be 1.1\n",
    "\n",
    "#logdiv = S1/S2 = area under the curve\n",
    "logdiv=1.1\n",
    "S1=100#           #Assume\n",
    "div=exp(logdiv)\n",
    "S2=S1/div\n",
    "Db=S1-S2#        #Product obtained\n",
    "amt=xs[0]*S1-(xs[5]*S2)\n",
    "avg=amt/Db\n",
    "\n",
    "print\"\\nAverage composition is %.2f kmol\\n\"%(avg)\n",
    "\n",
    "L=4000#         #latent heat\n",
    "R=2.1\n",
    "\n",
    "h=R*L\n",
    "print\"Heat required to produce reflux per kmol : %d kJ\\n\"%(h)    \n",
    "        "
   ]
  },
  {
   "cell_type": "markdown",
   "metadata": {},
   "source": [
    "## Page 601 Example 11.14"
   ]
  },
  {
   "cell_type": "code",
   "execution_count": 36,
   "metadata": {
    "collapsed": false
   },
   "outputs": [
    {
     "name": "stdout",
     "output_type": "stream",
     "text": [
      "\n",
      " D = 55.56 kmol & W = 44.44 kmol\n",
      "\n",
      " Let us assume that the distillate contains 0.6 mole per cent meta and 1.4 mole per cent para\n",
      "\n",
      " Component            Feed                       Distillate                 Bottoms         \n",
      "\n",
      "               (kmol)   (mole per cent)     (kmol)  (mole per cent)   (kmol)    (mole per cent)  \n",
      "\n",
      " Ortho        60.000      60.00                 54.44        98.00            5.56          12.50         \n",
      "\n",
      " Meta          4.000      4.00                  0.33        0.60            3.69          8.30         \n",
      "\n",
      " Para         36.000      36.00                 0.78        1.40            35.20          79.20        \n",
      "\n",
      "          plate compositions below the feed plate:\n",
      "\n",
      " Component           xs            axs           ys          x1              ax1          y1           x2\n",
      "\n",
      "     o              0.125           0.212          0.193       0.185         0.315        0.272        0.255\n",
      "\n",
      "     m              0.083           0.096          0.087       0.170         0.198        0.171        0.244\n",
      "\n",
      "     p              0.792           0.792          0.719       0.645         0.645        0.557        0.501\n",
      "\n",
      "                    1.000           1.101          1.000       1.000         1.157        1.000        1.000\n",
      "\n",
      " Component       ax2            y2               x3              ax3              y3              x4            ax4\n",
      "\n",
      "     o           0.433           0.356          0.185       0.315         0.272        0.185        0.315\n",
      "\n",
      "     m           0.083           0.096          0.087       0.170         0.198        0.171        0.244\n",
      "\n",
      "     p           0.792           0.792          0.719       0.645         0.645        0.557        0.501\n",
      "\n",
      " Component      y4                x5          ax5          y5          x6          ax6            y6\n",
      "\n",
      "     o           0.272           0.185          0.315       0.272         0.185        0.315        0.272\n",
      "\n",
      "     m           0.171           0.170          0.198       0.171         0.170        0.198        0.171\n",
      "\n",
      "     p           0.557           0.645          0.645       0.557         0.645        0.645        0.557\n",
      "\n",
      " Component      x7                ax7          y7        x8           ax8         y8            x9\n",
      "\n",
      "     o           0.185           0.315          0.272       0.252         0.428        0.272        0.252\n",
      "\n",
      "     m           0.170           0.198          0.171       0.232         0.269        0.171        0.232\n",
      "\n",
      "     p           0.645           0.645          0.557       0.877         0.877        0.557        0.877\n",
      "\n",
      " Component         x7            ax7           y7           x8          ax8           y8         x9\n",
      "\n",
      "     o             0.272           0.185          0.315       0.272         0.185        0.315        0.272\n",
      "\n",
      "     m             0.171           0.170          0.198       0.171         0.170        0.198        0.171\n",
      "\n",
      "     p             0.557           0.645          0.645       0.557         0.645        0.645        0.557\n"
     ]
    }
   ],
   "source": [
    "from scipy.optimize import fsolve\n",
    "from sympy import symbols,solve\n",
    "\n",
    "xdo = 0.98#               #per cent of ortho top product\n",
    "xwo = 0.125#              #per cent of ortho bottom product\n",
    "\n",
    "def product(x):\n",
    "    f=[]\n",
    "    f.append(100 - x[0] - x[1])#      #x(1) is D and x(2) is W\n",
    "    f.append(60 - x[0]*xdo - x[1]*xwo)\n",
    "    return f\n",
    "x = [0,0]\n",
    "y = fsolve(product,x)\n",
    "print\"\\n D = %.2f kmol & W = %.2f kmol\"%(y[0],y[1])\n",
    "\n",
    "print\"\\n Let us assume that the distillate contains 0.6 mole per cent meta and 1.4 mole per cent para\"\n",
    "print\"\\n Component            Feed                       Distillate                 Bottoms         \"\n",
    "print\"\\n               (kmol)   (mole per cent)     (kmol)  (mole per cent)   (kmol)    (mole per cent)  \"\n",
    "print\"\\n Ortho        %.3f      %.2f                 %.2f        %.2f            %.2f          %.2f         \"%(60,60,y[0]*0.98,98,y[1]*0.125,12.5)\n",
    "print\"\\n Meta          %.3f      %.2f                  %.2f        %0.2f            %.2f          %.2f         \"%(4,4,y[0]*0.006,0.6,y[1]*0.083,8.3)\n",
    "print\"\\n Para         %.3f      %.2f                 %.2f        %.2f            %.2f          %.2f        \"%(36,36,y[0]*0.014,1.4,y[1]*0.792,79.2)\n",
    "\n",
    "ao = 1.7#             #relative volatility of ortho relative to para\n",
    "am = 1.16#            #relative volatility of meta relative to para\n",
    "ap =1#                #relative volatility of para w.r.t. to itself\n",
    "xso = 0.125\n",
    "xsm = 0.083\n",
    "xsp = 0.792\n",
    "xwo = 0.125\n",
    "xwp = 0.083\n",
    "xwm = 0.792\n",
    "yso = ao*xso/(ao*xso+ap*xsp+am*xsm)\n",
    "ysm = am*xsm/(ao*xso+ap*xsp+am*xsm)\n",
    "ysp = ap*xsp/(ao*xso+ap*xsp+am*xsm)\n",
    "#Equations of operating lines\n",
    "#Above the feed point\n",
    "Ln = 5*y[0]#          #Liquid downflow\n",
    "Vn = 6*y[0]#          #Vapour up\n",
    "#Assuming the feed is liquid at its boiling point\n",
    "F = 100#           #feed\n",
    "Lm = Ln+F#         #liquid downflow\n",
    "Vm = Lm-y[1]#      #Vapour up\n",
    "x1o = symbols('x1o')\n",
    "x11 = solve(yso - (Lm/Vm)*x1o + (y[1]/Vm)*xwo)[0]\n",
    "x1p = symbols('x1p')\n",
    "x12 = solve(ysp - (Lm/Vm)*x1p + (y[1]/Vm)*xwp)[0]\n",
    "x1m = symbols('x1m')\n",
    "x13 = solve(ysm - (Lm/Vm)*x1m + (y[1]/Vm)*xwm)[0]\n",
    "x1 = [x11, x13, x12]\n",
    "ax1 = [ao*x11, am*x13, ap*x12]\n",
    "y1 = [ax1[0]/(ax1[0]+ax1[1]+ax1[2]), ax1[1]/(ax1[0]+ax1[1]+ax1[2]), ax1[2]/(ax1[0]+ax1[1]+ax1[2])]\n",
    "x2o = symbols('x2o')\n",
    "x21 = solve(y1[0] - (Lm/Vm)*x2o + (y[1]/Vm)*xwo)[0]\n",
    "x2p = symbols('x2p')\n",
    "x22 = solve(y1[2] - (Lm/Vm)*x2p + (y[1]/Vm)*xwp)[0]\n",
    "x2m = symbols('x2m')\n",
    "x23 = solve(y1[1] - (Lm/Vm)*x2m + (y[1]/Vm)*xwm)[0]\n",
    "x2 = [x21, x23, x22]\n",
    "print\"\\n          plate compositions below the feed plate:\"\n",
    "print\"\\n Component           xs            axs           ys          x1              ax1          y1           x2\"\n",
    "print\"\\n     o              %.3f           %.3f          %.3f       %.3f         %.3f        %.3f        %.3f\"%(xso,ao*xso,yso,x1[0],ax1[0],y1[0],x2[0])\n",
    "print\"\\n     m              %.3f           %.3f          %.3f       %.3f         %.3f        %.3f        %.3f\"%(xsm,am*xsm,ysm,x1[1],ax1[1],y1[1],x2[1])\n",
    "print\"\\n     p              %.3f           %.3f          %.3f       %.3f         %.3f        %.3f        %.3f\"%(xsp,ap*xsp,ysp,x1[2],ax1[2],y1[2],x2[2])\n",
    "print\"\\n                    %.3f           %.3f          %.3f       %.3f         %.3f        %.3f        %.3f\"%(xso+xsm+xsp,ao*xso+am*xsm+ap*xsp,yso+ysm+ysp,x1[0]+x1[1]+x1[2],ax1[0]+ax1[1]+ax1[2],y1[0]+y1[1]+y1[2],x2[0]+x2[1]+x2[2])\n",
    "\n",
    "\n",
    "\n",
    "ax2 = [ao*x2[0], am*x2[1], ap*x2[2]]\n",
    "y2 = [ax2[0]/(ax2[0]+ax2[1]+ax2[2]) ,ax2[1]/(ax2[0]+ax2[1]+ax2[2]), ax2[2]/(ax2[0]+ax2[1]+ax2[2])]\n",
    "x3o = symbols('x3o')\n",
    "x31 = solve(yso - (Lm/Vm)*x3o + (y[1]/Vm)*xwo)[0]\n",
    "x3p = symbols('x3p')\n",
    "x32 = solve(ysp - (Lm/Vm)*x3p + (y[1]/Vm)*xwp)[0]\n",
    "x3m = symbols('x3m')\n",
    "x33 = solve(ysm - (Lm/Vm)*x3m + (y[1]/Vm)*xwm)[0]\n",
    "x3 = [x31, x33, x32]\n",
    "\n",
    "ax3 = [ao*x3[0], am*x3[1], ap*x3[2]]\n",
    "y3 = [ax3[0]/(ax3[0]+ax3[1]+ax3[2]), ax3[1]/(ax3[0]+ax3[1]+ax3[2]), ax3[2]/(ax3[0]+ax3[1]+ax3[2])]\n",
    "x4o = symbols('x4o')\n",
    "x41 = solve(yso - (Lm/Vm)*x4o + (y[1]/Vm)*xwo)[0]\n",
    "x4p = symbols('x4p')\n",
    "x42 = solve(ysp - (Lm/Vm)*x4p + (y[1]/Vm)*xwp)[0]\n",
    "x4m = symbols('x4m')\n",
    "x43 = solve(ysm - (Lm/Vm)*x4m + (y[1]/Vm)*xwm)[0]\n",
    "x4 = [x41, x43, x42]\n",
    "\n",
    "ax4 = [ao*x4[0], am*x4[1], ap*x4[2]]\n",
    "y4 = [ax4[0]/(ax4[0]+ax4[1]+ax4[2]), ax4[1]/(ax4[0]+ax4[1]+ax4[2]), ax4[2]/(ax4[0]+ax4[1]+ax4[2])]\n",
    "x5o = symbols('x5o')\n",
    "x51 = solve(yso - (Lm/Vm)*x5o + (y[1]/Vm)*xwo)[0]\n",
    "x5p = symbols('x5p')\n",
    "x52 = solve(ysp - (Lm/Vm)*x5p + (y[1]/Vm)*xwp)[0]\n",
    "x5m = symbols('x5m')\n",
    "x53 = solve(ysm - (Lm/Vm)*x5m + (y[1]/Vm)*xwm)[0]\n",
    "x5 = [x51 ,x53, x52]\n",
    "\n",
    "ax5 = [ao*x5[0] ,am*x5[1] ,ap*x5[2]]\n",
    "y5 = [ax5[0]/(ax5[0]+ax5[1]+ax5[2]), ax5[1]/(ax5[0]+ax5[1]+ax5[2]), ax5[2]/(ax5[0]+ax5[1]+ax5[2])]\n",
    "x6o = symbols('x6o')\n",
    "x61 = solve(yso - (Lm/Vm)*x6o + (y[1]/Vm)*xwo)[0]\n",
    "x6p = symbols('x6p')\n",
    "x62 = solve(ysp - (Lm/Vm)*x6p + (y[1]/Vm)*xwp)[0]\n",
    "x6m = symbols('x6m')\n",
    "x63 = solve(ysm - (Lm/Vm)*x6m + (y[1]/Vm)*xwm)[0]\n",
    "x6 = [x61, x63, x62]\n",
    "\n",
    "\n",
    "\n",
    "\n",
    "\n",
    "\n",
    "\n",
    "\n",
    "\n",
    "ax6 = [ao*x6[0], am*x6[1] ,ap*x6[2]]\n",
    "y6 = [ax6[0]/(ax6[0]+ax6[1]+ax6[2]) ,ax6[1]/(ax6[0]+ax6[1]+ax6[2]) ,ax6[2]/(ax6[0]+ax6[1]+ax6[2])]\n",
    "x7o = symbols('x7o')\n",
    "x71 = solve(yso - (Lm/Vm)*x7o + (y[1]/Vm)*xwo)[0]\n",
    "x7p = symbols('x7p')\n",
    "x72 = solve(ysp - (Lm/Vm)*x7p + (y[1]/Vm)*xwp)[0]\n",
    "x7m = symbols('x7m')\n",
    "x73 = solve(ysm - (Lm/Vm)*x7m + (y[1]/Vm)*xwm)[0]\n",
    "x7 = [x71, x73, x72]\n",
    "print\"\\n Component       ax2            y2               x3              ax3              y3              x4            ax4\"\n",
    "print\"\\n     o           %.3f           %.3f          %.3f       %.3f         %.3f        %.3f        %.3f\"%(ax2[0],y2[0],x3[0],ax3[0],y3[0],x4[0],ax4[0])\n",
    "print\"\\n     m           %.3f           %.3f          %.3f       %.3f         %.3f        %.3f        %.3f\"%(xsm,am*xsm,ysm,x1[1],ax1[1],y1[1],x2[1])\n",
    "print\"\\n     p           %.3f           %.3f          %.3f       %.3f         %.3f        %.3f        %.3f\"%(xsp,ap*xsp,ysp,x1[2],ax1[2],y1[2],x2[2])\n",
    "\n",
    "print\"\\n Component      y4                x5          ax5          y5          x6          ax6            y6\"\n",
    "print\"\\n     o           %.3f           %.3f          %.3f       %.3f         %.3f        %.3f        %.3f\"%(y4[0],x5[0],ax5[0],y5[0],x6[0],ax6[0],y6[0])\n",
    "print\"\\n     m           %.3f           %.3f          %.3f       %.3f         %.3f        %.3f        %.3f\"%(y4[1],x5[1],ax5[1],y5[1],x6[1],ax6[1],y6[1])\n",
    "print\"\\n     p           %.3f           %.3f          %.3f       %.3f         %.3f        %.3f        %.3f\"%(y4[2],x5[2],ax5[2],y5[2],x6[2],ax6[2],y6[2])\n",
    "\n",
    "\n",
    "ax7 = [ao*x7[0] ,am*x7[1] ,ap*x7[2]]\n",
    "y7 = [ax7[0]/(ax7[0]+ax7[1]+ax7[2]), ax7[1]/(ax7[0]+ax7[1]+ax7[2]) ,ax7[2]/(ax7[0]+ax7[1]+ax7[2])]\n",
    "x8o = symbols('x8o')\n",
    "x81 = solve(yso - (Ln/Vn)*x8o + (y[1]/Vn)*xwo)[0]\n",
    "x8p = symbols('x8p')\n",
    "x82 = solve(ysp - (Ln/Vn)*x8p + (y[1]/Vn)*xwp)[0]\n",
    "x8m = symbols('x8m')\n",
    "x83 = solve(ysm - (Ln/Vn)*x8m + (y[1]/Vn)*xwm)[0]\n",
    "x8 = [x81, x83, x82]\n",
    "\n",
    "ax8 = [ao*x8[0] ,am*x8[1] ,ap*x8[2]]\n",
    "y8 = [ax8[0]/(ax8[0]+ax8[1]+ax8[2]), ax8[1]/(ax8[0]+ax8[1]+ax8[2]) ,ax8[2]/(ax8[0]+ax8[1]+ax8[2])]\n",
    "x9o = symbols('x9o')\n",
    "x91 = solve(yso - (Ln/Vn)*x9o + (y[1]/Vn)*xwo)[0]\n",
    "x9p = symbols('x9p')\n",
    "x92 = solve(ysp - (Ln/Vn)*x9p + (y[1]/Vn)*xwp)[0]\n",
    "x9m = symbols('x9m')\n",
    "x93 = solve(ysm - (Ln/Vn)*x9m + (y[1]/Vn)*xwm)[0]\n",
    "x9 = [x91, x93, x92]\n",
    "\n",
    "print\"\\n Component      x7                ax7          y7        x8           ax8         y8            x9\"\n",
    "print\"\\n     o           %.3f           %.3f          %.3f       %.3f         %.3f        %.3f        %.3f\"%(x7[0],ax7[0],y7[0],x8[0],ax8[0],y8[0],x9[0])\n",
    "print\"\\n     m           %.3f           %.3f          %.3f       %.3f         %.3f        %.3f        %.3f\"%(x7[1],ax7[1],y7[1],x8[1],ax8[1],y8[1],x9[1])\n",
    "print\"\\n     p           %.3f           %.3f          %.3f       %.3f         %.3f        %.3f        %.3f\"%(x7[2],ax7[2],y7[2],x8[2],ax8[2],y8[2],x9[2])\n",
    "\n",
    "print\"\\n Component         x7            ax7           y7           x8          ax8           y8         x9\"\n",
    "print\"\\n     o             %.3f           %.3f          %.3f       %.3f         %.3f        %.3f        %.3f\"%(y4[0],x5[0],ax5[0],y5[0],x6[0],ax6[0],y6[0])\n",
    "print\"\\n     m             %.3f           %.3f          %.3f       %.3f         %.3f        %.3f        %.3f\"%(y4[1],x5[1],ax5[1],y5[1],x6[1],ax6[1],y6[1])\n",
    "print\"\\n     p             %.3f           %.3f          %.3f       %.3f         %.3f        %.3f        %.3f\"%(y4[2],x5[2],ax5[2],y5[2],x6[2],ax6[2],y6[2])\n",
    "\n",
    "\n",
    "\n",
    "\n",
    "\n",
    "\n",
    "\n",
    "\n",
    "\n"
   ]
  },
  {
   "cell_type": "markdown",
   "metadata": {},
   "source": [
    "## Page 608 Example 11.15"
   ]
  },
  {
   "cell_type": "code",
   "execution_count": 39,
   "metadata": {
    "collapsed": false
   },
   "outputs": [
    {
     "name": "stdout",
     "output_type": "stream",
     "text": [
      "\n",
      " Dew point calculation\n",
      "\n",
      " Component      xd               Td = 344 K\n",
      "\n",
      "                                 K       xd/K \n",
      "\n",
      " n-C4           0.975            1.05      0.929\n",
      "\n",
      " C5             0.025            0.41      0.061\n",
      "\n",
      "                1.0                      0.990\n",
      "\n",
      "   Td = 343 K\n",
      "\n",
      "    K     xd/K\n",
      "\n",
      "   1.040   1.575\n",
      "\n",
      "   0.405   -1.575\n",
      "\n",
      "   -0.000\n",
      "\n",
      " At 343 K       K1 = 1.04      K2 = 0.405   from fig.11.39\n",
      "\n",
      "\n",
      "\n",
      " Estimation of still temperature Ts\n",
      "\n",
      " At Ts = 416 K equillibrium constants are from fig.11.39\n",
      "\n",
      " n-C4           C5        C6          C7\n",
      "\n",
      "  3.05          1.60      0.87       0.49\n",
      "\n",
      "\n",
      "   at Ts = 416 K\n",
      "\n",
      " n-C4           C5        C6          C7\n",
      "\n",
      "  0.052          0.587       0.246      0.163\n",
      "\n",
      " Sum of Kxw = 1\n",
      "\n",
      " Hence the still temperature Ts = 416 K\n",
      "\n",
      "\n",
      "\n",
      " Calculation of feed condition\n",
      "\n",
      " Component     xf         Tb = 377K         Tb = 376 K\n",
      "\n",
      "                         K       Kxf        K     Kxf \n",
      "\n",
      " n-C4         0.40     1.80     0.720      1.78   0.712\n",
      "\n",
      " C5           0.23     0.81     0.186      0.79   0.182\n",
      "\n",
      " C6           0.17     0.39     0.066      0.38   0.065\n",
      "\n",
      " C7           0.20     0.19     0.038      0.18   0.037\n",
      "\n",
      "                                1.011             0.995\n",
      "\n",
      "\n",
      "\n",
      " The upper pinch temperature,Tn = 367 K\n",
      "\n",
      " The lower pinch temperature,Tm = 391 K\n",
      "\n",
      "\n",
      "\n",
      "\n",
      "\n",
      " Component      Tn = 367 K      Tm = 391 K    xfh   axfh\n",
      "\n",
      "                   a                a                   \n",
      "\n",
      " n-C4              2.38             2.00                \n",
      "\n",
      " C5                1.00             1.00                \n",
      "\n",
      " C6                0.455             0.464      0.17    0.077\n",
      "\n",
      " C7                0.220             0.254      0.20    0.044\n",
      "\n",
      "                                                      0.121\n",
      "\n",
      " rf = 1.739\n",
      "\n",
      " xn4 = 0.566\n",
      "\n",
      " xn5 = 0.326\n",
      "\n",
      " Rm = 1.07\n",
      "\n",
      " Ln = 44.8 kmol\n",
      "\n",
      " Vn = 84.8 kmol\n",
      "\n",
      " Lm = 144.8 kmol\n",
      "\n",
      " Vn = 84.4 kmol\n",
      "\n",
      " Lm/W = 2.38\n",
      "\n",
      " For n-C4......xn = 0.659\n",
      "\n",
      " For n-C5...xn = 0.341\n",
      "\n",
      " Temperature check for upper pinch gives sum of K*xn = \n",
      "1.300\n"
     ]
    }
   ],
   "source": [
    "from sympy import symbols,solve\n",
    "\n",
    "print\"\\n Dew point calculation\"\n",
    "xd1 = 0.975#             #n-C4 light distillate\n",
    "xd2 = 0.025#            #C5 heavy key distillate\n",
    "Td = 344#               #temperature in kelvins\n",
    "K1 = 1.05#             #Eqillibrium constant calculation for n-C4 at 344 K\n",
    "K2 = 0.41#             #Equillibrium constant calculation for C5 at 344K\n",
    "#By a dew point calculation\n",
    "#sum(xd)=sum(xd/K)\n",
    "print\"\\n Component      xd               Td = 344 K\"\n",
    "print\"\\n                                 K       xd/K \"\n",
    "print\"\\n n-C4           %.3f            %.2f      %.3f\"%(xd1,K1,xd1/K1)\n",
    "print\"\\n C5             %.3f            %.2f      %.3f\"%(xd2,K2,xd2/K2)\n",
    "print\"\\n                %.1f                      %.3f\"%(xd1+xd2,(xd1/K1)+(xd2/K2))\n",
    "\n",
    "K11 = 1.04\n",
    "K21 = 0.405\n",
    "#Calculation for xd at 343 K\n",
    "x = symbols('x')\n",
    "x1 = solve(x/K11 + (1-x)/K21)[0]\n",
    "print\"\\n   Td = 343 K\"\n",
    "print\"\\n    K     xd/K\"\n",
    "print\"\\n   %.3f   %.3f\"%(K11,x1/K11)\n",
    "print\"\\n   %.3f   %.3f\"%(K21,(1-x1)/K21)\n",
    "print\"\\n   %.3f\"%(x1/K11+(1-x1)/K21)\n",
    "print\"\\n At 343 K       K1 = 1.04      K2 = 0.405   from fig.11.39\"\n",
    "\n",
    "print\"\\n\\n\\n Estimation of still temperature Ts\"\n",
    "#sum(xw) = sum(K*xw)\n",
    "K31 = 3.05#            #equillibrium const at 419 K\n",
    "K32 = 1.6#             #equillibrium const at 419 K\n",
    "K33 = 0.87#            #equillibrium const at 419 K\n",
    "K34 = 0.49#            #equillibrium const at 419 K\n",
    "xw1 = 0.017#           #mass fraction of n-C4\n",
    "xw2 = 0.367#           #mass fraction of C5\n",
    "xw3 = 0.283#           #mass fraction of C6\n",
    "xw4 = 0.333#           #mass fraction of C7\n",
    "\n",
    "print\"\\n At Ts = 416 K equillibrium constants are from fig.11.39\"\n",
    "print\"\\n n-C4           C5        C6          C7\"\n",
    "print\"\\n  %.2f          %.2f      %.2f       %.2f\"%(K31,K32,K33,K34)\n",
    "print\"\\n\\n   at Ts = 416 K\"\n",
    "print\"\\n n-C4           C5        C6          C7\"\n",
    "print\"\\n  %.3f          %.3f       %.3f      %.3f\"%(xw1*K31,xw2*K32,xw3*K33,xw4*K34)\n",
    "print\"\\n Sum of Kxw = %d\"%(xw1*K31+xw2*K32+xw3*K33+xw4*K34)\n",
    "print\"\\n Hence the still temperature Ts = 416 K\"\n",
    "print\"\\n\\n\\n Calculation of feed condition\"\n",
    "print\"\\n Component     xf         Tb = 377K         Tb = 376 K\"\n",
    "print\"\\n                         K       Kxf        K     Kxf \"\n",
    "xf1 = 0.40\n",
    "xf2 = 0.23\n",
    "xf3 = 0.17\n",
    "xf4 = 0.20\n",
    "Kb1 = 1.80#             #equillibrium constants at 377 K for n-C4\n",
    "Kb2 = 0.81#             #equillibrium constants at 377 K for C5\n",
    "Kb3 = 0.39#             #equillibrium constants at 377 K for C6\n",
    "Kb4 = 0.19#             #equillibrium constants at 377 K for C7\n",
    "Kb11 = 1.78#            #equillibrium constants at 377 K for n-C4\n",
    "Kb21 = 0.79#            #equillibrium constants at 377 K for C5\n",
    "Kb31 = 0.38#            #equillibrium constants at 377 K for C6\n",
    "Kb41 = 0.185#           #equillibrium constants at 377 K for C7\n",
    "print\"\\n n-C4         %.2f     %.2f     %.3f      %.2f   %.3f\"%(xf1,Kb1,xf1*Kb1,Kb11,xf1*Kb11)\n",
    "print\"\\n C5           %.2f     %.2f     %.3f      %.2f   %.3f\"%(xf2,Kb2,xf2*Kb2,Kb21,xf2*Kb21)\n",
    "print\"\\n C6           %.2f     %.2f     %.3f      %.2f   %.3f\"%(xf3,Kb3,xf3*Kb3,Kb31,xf3*Kb31)\n",
    "print\"\\n C7           %.2f     %.2f     %.3f      %.2f   %.3f\"%(xf4,Kb4,xf4*Kb4,Kb41,xf4*Kb41)\n",
    "print\"\\n                                %.3f             %.3f\"%(xf1*Kb1+xf2*Kb2+xf3*Kb3+xf4*Kb4,xf1*Kb11+xf2*Kb21+xf3*Kb31+xf4*Kb41)\n",
    "\n",
    "#Calculation of pinch temperatures\n",
    "print\"\\n\\n\\n The upper pinch temperature,Tn = %d K\"%(343+0.33*(416-343))\n",
    "print\"\\n The lower pinch temperature,Tm = %d K\"%(343+0.67*(416-343))\n",
    "\n",
    "#Calculation of approximate minimum reflux ratio.\n",
    "print\"\\n\\n\\n\"\n",
    "print\"\\n Component      Tn = 367 K      Tm = 391 K    xfh   axfh\"\n",
    "print\"\\n                   a                a                   \"\n",
    "print\"\\n n-C4              %.2f             %.2f                \"%(2.38,2.00)\n",
    "print\"\\n C5                %.2f             %.2f                \"%(1.00,1.00)\n",
    "print\"\\n C6                %.3f             %.3f      %.2f    %.3f\"%(0.455,0.464,0.17,0.077)\n",
    "print\"\\n C7                %.3f             %.3f      %.2f    %.3f\"%(0.220,0.254,0.20,0.044)\n",
    "print\"\\n                                                      %.3f\"%(0.077+0.044)\n",
    "rf = xf1/xf2\n",
    "print\"\\n rf = %.3f\"%(rf)\n",
    "xn4 = rf/((1+rf)*(1+0.121))\n",
    "print\"\\n xn4 = %.3f\"%(xn4)\n",
    "xn5 = xn4/rf\n",
    "print\"\\n xn5 = %.3f\"%(xn5)\n",
    "Rm = (1/(2.38-1))*(0.975/0.563)-2.38*(0.025/0.325)\n",
    "print\"\\n Rm = %.2f\"%(Rm)\n",
    "\n",
    "#The streams in the column\n",
    "D = 40\n",
    "Ln = D*Rm\n",
    "Vn = Ln+D\n",
    "F = 100\n",
    "Lm = Ln + F\n",
    "W = 60\n",
    "Vm = Lm - W\n",
    "Ratio = Lm/W\n",
    "print\"\\n Ln = %.1f kmol\"%(44.8)\n",
    "print\"\\n Vn = %.1f kmol\"%(84.8)\n",
    "print\"\\n Lm = %.1f kmol\"%(144.8)\n",
    "print\"\\n Vn = %.1f kmol\"%(84.4)\n",
    "print\"\\n Lm/W = %.2f\"%(Ratio)\n",
    "#Check on minimum reflux ratio\n",
    "#xn = xd/(a-1)Rm\n",
    "xn = xd1/((2.38-1)*Rm)\n",
    "print\"\\n For n-C4......xn = %.3f\"%(xn)\n",
    "xn1 = 1-xn\n",
    "print\"\\n For n-C5...xn = %.3f\"%(xn1)\n",
    "print\"\\n Temperature check for upper pinch gives sum of K*xn = \"\n",
    "sumKxn = 1.62*xn +0.68*xn1\n",
    "print\"%.3f\"%(sumKxn)\n"
   ]
  },
  {
   "cell_type": "markdown",
   "metadata": {},
   "source": [
    "## Page 612 Example 11.16"
   ]
  },
  {
   "cell_type": "code",
   "execution_count": 40,
   "metadata": {
    "collapsed": false
   },
   "outputs": [
    {
     "name": "stdout",
     "output_type": "stream",
     "text": [
      "\n",
      "From Underwoods 1st eq\n",
      "\n",
      "The value of 1-q at theta = 1.15 and 1.17 are\n",
      "[1.4229424178474521, 0]\n",
      "\n",
      "Minimum Reflux ratio is 0.900\n",
      "\n"
     ]
    }
   ],
   "source": [
    "#Mole fractions\n",
    "xf=[0.40, 0.35 ,0.25]\n",
    "xd=[0.534, 0.453, 0.013]\n",
    "xw=[0 ,0.04 ,0.96]\n",
    "\n",
    "#Amount of feed, product, bottom in kmol\n",
    "F=[40, 35, 25]\n",
    "D=[40, 34, 1]\n",
    "W=[0 ,1, 24]\n",
    "\n",
    "#roots of equation\n",
    "theta=[1.15, 1.17]\n",
    "\n",
    "#relative volatility\n",
    "alpha=[2.7 ,2.22, 1]\n",
    "\n",
    "#Underwoods 1st equation for q=1\n",
    "sums=[0 ,0]\n",
    "for i in range(0,1):\n",
    "    for j in range(0,2):\n",
    "        sums[i]=sums[i]+(alpha[j]*xf[(j)]/(alpha[(j)]-theta[(i)]))\n",
    "    \n",
    "\n",
    "print\"\\nFrom Underwoods 1st eq\\n\"\n",
    "print\"The value of 1-q at theta = 1.15 and 1.17 are\"\n",
    "print sums\n",
    "\n",
    "#Underwoods 2nd equation for minimum reflux ratio\n",
    "sum2=0\n",
    "for l in range(0,2):\n",
    "    sum2=sum2+(alpha[(l)]*xd[(l)]/(alpha[(l)]-theta[1]))\n",
    "\n",
    "\n",
    "Rm=sum2-1\n",
    "print\"\\nMinimum Reflux ratio is %.3f\\n\"%(Rm)"
   ]
  },
  {
   "cell_type": "markdown",
   "metadata": {},
   "source": [
    "## Page 613 Example 11.17"
   ]
  },
  {
   "cell_type": "code",
   "execution_count": 41,
   "metadata": {
    "collapsed": false
   },
   "outputs": [
    {
     "name": "stdout",
     "output_type": "stream",
     "text": [
      "\n",
      "Minimum no. of plates are 7.438   or 7\n",
      "\n"
     ]
    }
   ],
   "source": [
    "from math import log\n",
    "#From previous question data\n",
    "xA_d=0.453\n",
    "xB_d=0.013\n",
    "\n",
    "xA_s=0.04\n",
    "xB_s=0.96\n",
    "\n",
    "alpha_av=2.22\n",
    "\n",
    "#By Fenske Equation for no. of plates\n",
    "\n",
    "n=((log(xA_d*xB_s/(xA_s*xB_d)))/log(alpha_av))-1\n",
    "\n",
    "print\"\\nMinimum no. of plates are %.3f   or %d\\n\"%(n,n)"
   ]
  },
  {
   "cell_type": "markdown",
   "metadata": {},
   "source": [
    "## Page 614 Example 11.18"
   ]
  },
  {
   "cell_type": "code",
   "execution_count": 47,
   "metadata": {
    "collapsed": false
   },
   "outputs": [
    {
     "name": "stdout",
     "output_type": "stream",
     "text": [
      "\n",
      "The values of R and n are\n",
      "\n",
      "\n",
      "\t1 \t 19.11\n",
      "\n",
      "\t2 \t 11.97\n",
      "\n",
      "\t5 \t 9.18\n",
      "\n",
      "\n",
      "The change in R and n can be seen as above\n",
      "\n"
     ]
    }
   ],
   "source": [
    "from sympy import symbols,solve\n",
    "R=[1 ,2 ,5, 10]\n",
    "Rm=0.83\n",
    "\n",
    "nm=8.5-1\n",
    "\n",
    "#X are points on X-axis of graph\n",
    "X=[]\n",
    "for i in range(0,3):\n",
    "    X.append((R[(i)]-Rm)/(R[(i)]+1))\n",
    "\n",
    "\n",
    "#Values at Y-axis for corresponding values of X-axis in graph are given by\n",
    "Y=[0.55, 0.32 ,0.15, 0.08]\n",
    "\n",
    "#where Y=(n+1)-(nm+1)/(n+2)\n",
    "\n",
    "N=[]\n",
    "for i in range(0,3):\n",
    "    n=symbols('x')\n",
    "    N.append(solve(((n+1)-(nm+1))-(Y[(i)]*(n+2)))[0])\n",
    "\n",
    "\n",
    "print\"\\nThe values of R and n are\\n\"\n",
    "for i in range(0,3):\n",
    "    print\"\\n\\t%d \\t %.2f\"%(R[i],N[i])\n",
    "\n",
    "\n",
    "print\"\\n\\nThe change in R and n can be seen as above\\n\""
   ]
  },
  {
   "cell_type": "markdown",
   "metadata": {},
   "source": [
    "## Page 615 Example 11.19"
   ]
  },
  {
   "cell_type": "code",
   "execution_count": 48,
   "metadata": {
    "collapsed": false
   },
   "outputs": [
    {
     "data": {
      "image/png": "[encoded data removed]",
      "text/plain": [
       "<matplotlib.figure.Figure at 0x7f07b06055d0>"
      ]
     },
     "metadata": {},
     "output_type": "display_data"
    },
    {
     "name": "stdout",
     "output_type": "stream",
     "text": [
      "\n",
      " Derivative calculated from the graph\n",
      "\n",
      " Ropt = 1.25\n",
      "\n",
      " R is approximately 144.2 percent of the minimum reflux condition\n"
     ]
    }
   ],
   "source": [
    "%matplotlib inline\n",
    "from matplotlib.pyplot import plot,title,xlabel,ylabel,show\n",
    "\n",
    "\n",
    "#Data from fig. 11.42\n",
    "a = [0, 0.02, 0.04, 0.06, 0.08, 0.1 ,0.2 ,0.4 ,0.6 ,0.8 ,1.0]\n",
    "b = [0.75, 0.62, 0.60, 0.57, 0.55, 0.52, 0.45, 0.30, 0.18, 0.09, 0]\n",
    "#a = (R-Rm)/(R+1)\n",
    "#b = [(n+1)-(nm+1)]/(n+2)\n",
    "R = [0.92, 1.08, 1.25 ,1.75 ,2.5 ,3.5, 5.0 ,7.0 ,9.0]\n",
    "n = [28.6 ,22.8 ,16.9 ,13.5 ,11.7 ,10.5 ,9.8 ,9.2 ,8.95]\n",
    "plot(n,R)\n",
    "title(\"Plot of R vs n\")\n",
    "xlabel(\"n\")\n",
    "ylabel(\"R\")\n",
    "show()\n",
    "print\"\\n Derivative calculated from the graph\"\n",
    "d = [110.0, 34.9 ,9.8 ,3.8 ,1.7 ,0.6 ,0.4 ,0.2 ,0.05]\n",
    "i=0\n",
    "while i <=8:\n",
    "   s = R[(i)]+1 - (n[(i)]+7.72)/d[(i)]\n",
    "   if s <=0.0001:\n",
    "       Ropt = R[(i)]\n",
    "       print\"\\n Ropt = %.2f\"%(Ropt)\n",
    "       break\n",
    "   \n",
    "   i=i+1\n",
    "\n",
    "print\"\\n R is approximately %.1f percent of the minimum reflux condition\"%(1.25/0.866666666*100)"
   ]
  },
  {
   "cell_type": "markdown",
   "metadata": {},
   "source": [
    "## Page 633 Example 11.20"
   ]
  },
  {
   "cell_type": "code",
   "execution_count": 49,
   "metadata": {
    "collapsed": false
   },
   "outputs": [
    {
     "name": "stdout",
     "output_type": "stream",
     "text": [
      "\n",
      "Efficiency is 0.87\n"
     ]
    }
   ],
   "source": [
    "from math import log10\n",
    "\n",
    "#Mole fraction\n",
    "xf=[0.2, 0.3, 0.2, 0.3]\n",
    "\n",
    "#Viscosity at mean tower temp. in mNs/m**2\n",
    "uL=[0.048, 0.112, 0.145, 0.188]\n",
    "\n",
    "#Viscosity of water in mNs/m**2\n",
    "uw=1\n",
    "\n",
    "sums=0\n",
    "for i in range(0,3):\n",
    "    sums=sums+(xf[(i)]*uL[(i)]/uw)\n",
    "\n",
    "\n",
    "#Efficiency by DRICKAMER and BRADFORD\n",
    "E=0.17-(0.616*log10(sums))\n",
    "\n",
    "print\"\\nEfficiency is %.2f\"%(E)\n"
   ]
  }
 ],
 "metadata": {
  "kernelspec": {
   "display_name": "Python 2",
   "language": "python",
   "name": "python2"
  },
  "language_info": {
   "codemirror_mode": {
    "name": "ipython",
    "version": 2
   },
   "file_extension": ".py",
   "mimetype": "text/x-python",
   "name": "python",
   "nbconvert_exporter": "python",
   "pygments_lexer": "ipython2",
   "version": "2.7.9"
  }
 },
 "nbformat": 4,
 "nbformat_minor": 0
}
