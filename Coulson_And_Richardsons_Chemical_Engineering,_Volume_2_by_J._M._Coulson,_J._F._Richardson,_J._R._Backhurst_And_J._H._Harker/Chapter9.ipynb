{
 "cells": [
  {
   "cell_type": "markdown",
   "metadata": {},
   "source": [
    "# Chapter 9 - CENTRIFUGAL SEPARATIONS"
   ]
  },
  {
   "cell_type": "markdown",
   "metadata": {},
   "source": [
    "## Page 482 Example 9.1"
   ]
  },
  {
   "cell_type": "code",
   "execution_count": 1,
   "metadata": {
    "collapsed": false
   },
   "outputs": [
    {
     "name": "stdout",
     "output_type": "stream",
     "text": [
      "\n",
      " Terminal falling velocity of particles of diameter = 2.45 m/sec\n",
      "\n",
      " E = 1.02*10**(4) m**2\n",
      "\n",
      " For coal-in-oil mixture\n",
      "\n",
      " uo = 3.92*10**-6 m/sec\n",
      "\n",
      " d = 4 um\n"
     ]
    }
   ],
   "source": [
    "from __future__ import division\n",
    "from math import sqrt\n",
    "d_particle = 5#          #particle size is in um\n",
    "p = 1000#               #density of water in kg/m**3\n",
    "ps = 2800#              #density of solids in kg/m**3\n",
    "viscosity = 10**(-3)#    #viscosity is in Ns/m**2\n",
    "uo = ((d_particle*10**(-6))**2)*(ps-p)*9.81/(18*viscosity)#\n",
    "print\"\\n Terminal falling velocity of particles of diameter = %.2f m/sec\"%(uo*10**5)#\n",
    "Q = 0.25#              #volumetric flow rate is in m**3/sec\n",
    "print\"\\n E = %.2f*10**(4) m**2\"%((Q/uo)*10**(-4))#\n",
    "\n",
    "print\"\\n For coal-in-oil mixture\"\n",
    "uo1 = 0.04/(Q/uo)#\n",
    "print\"\\n uo = %.2f*10**-6 m/sec\"%(uo1*10**6)#\n",
    "\n",
    "d = sqrt((18*0.01*uo1)/((1300-850)*9.81))#\n",
    "print\"\\n d = %d um\"%((d/3)*10**6)#"
   ]
  },
  {
   "cell_type": "markdown",
   "metadata": {},
   "source": [
    "## Page 488 Example 9.3"
   ]
  },
  {
   "cell_type": "code",
   "execution_count": 5,
   "metadata": {
    "collapsed": false
   },
   "outputs": [
    {
     "name": "stdout",
     "output_type": "stream",
     "text": [
      "\n",
      " the value of ru/v = 3.25*10**12\n",
      "\n",
      " Value of ro = 0.069   mm\n",
      "\n",
      " angular frequency = 432.1rad/s\n",
      " \n",
      " time required = 65173.320   secs\n"
     ]
    }
   ],
   "source": [
    "from sympy import symbols, solve\n",
    "from __future__ import division\n",
    "from math import sqrt,pi\n",
    "from scipy import log\n",
    "#In the filter press\n",
    "# V**2 + 2(AL/v)V = 2(-deltaP)A**2*t/(ruv)\n",
    "\n",
    "l = 0.025#         #l is in meters\n",
    "L = 0.003#         #L is in meters\n",
    "deltaP = 350#      #it is in N/m**2\n",
    "t = 3600#          #t is in secs\n",
    "\n",
    "# x = v/ru\n",
    "x = symbols('x')#\n",
    "x1 = solve(0.025**2 + 2*0.003*0.025 - 2*3.5*10**(5)*3600*x)[0]\n",
    "print\"\\n the value of ru/v = %.2f*10**12\"%((1/x1)*10**(-12))#\n",
    "\n",
    "#In the centrifuge\n",
    "R = 0.15#             #R is in meters\n",
    "H = 0.20#             #H is in meters\n",
    "V = 0.00225#          #V is in m**3\n",
    "r = symbols('r')\n",
    "r1 = solve(pi*(R**2 - r**2)*H-V)\n",
    "print\"\\n Value of ro = %.3f   mm\"%(r1[1]/2)#\n",
    "print\"\\n angular frequency = %.1frad/s\"%((r1[1]/2*10**3)*2*(pi))#\n",
    "\n",
    "#(R**2 -r**2)(1+2L/R)+2r**2ln(r/R) = 2vtpw**2/ru(R**2-ro**2)\n",
    "t = symbols('t')#\n",
    "t1 = solve((R**2 - r1[0]**2)*(1+2*(L/R))+2*(r1[0]**2)*log(r1[0]/R)-2*t*1000*408.4**(2)/(3.25*10**12)*(R**2-(r1[0]/2)**2))#\n",
    "print\" \\n time required = %.3f   secs\"%abs(t1[0])#"
   ]
  }
 ],
 "metadata": {
  "kernelspec": {
   "display_name": "Python 2",
   "language": "python",
   "name": "python2"
  },
  "language_info": {
   "codemirror_mode": {
    "name": "ipython",
    "version": 2
   },
   "file_extension": ".py",
   "mimetype": "text/x-python",
   "name": "python",
   "nbconvert_exporter": "python",
   "pygments_lexer": "ipython2",
   "version": "2.7.9"
  }
 },
 "nbformat": 4,
 "nbformat_minor": 0
}
