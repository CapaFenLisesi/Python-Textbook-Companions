{
 "cells": [
  {
   "cell_type": "markdown",
   "metadata": {},
   "source": [
    "# CHAPTER08 : SYNCHRONOUS MOTORS"
   ]
  },
  {
   "cell_type": "markdown",
   "metadata": {},
   "source": [
    "## Example E01 : Pg 317"
   ]
  },
  {
   "cell_type": "code",
   "execution_count": 1,
   "metadata": {
    "collapsed": false
   },
   "outputs": [
    {
     "name": "stdout",
     "output_type": "stream",
     "text": [
      "\n",
      "Developed torque = 303.935185185 lb-ft\n",
      "\n",
      "Armature current magnitude= 122.0 A\n",
      "\n",
      "Armature current angle= -36.9 deg\n",
      "\n",
      "Excitation voltage magnitude = 535.0 V\n",
      "\n",
      "Excitation voltage angle = -29.7 deg\n",
      "\n",
      "Power angle = -29.7 deg\n",
      "\n",
      "Maximum torque = 614.063151623 lb-ft\n"
     ]
    }
   ],
   "source": [
    "# Example 8.1\n",
    "# Determine (a) Developed torque (b) Armature current (c) Excitation voltage\n",
    "# (d) Power angle (e) Maximum torque \n",
    "# Page No. 317\n",
    "# Given data\n",
    "from math import sqrt,pi\n",
    "f=60.;                       # Operating frequency\n",
    "P=4.;                        # Number of poles\n",
    "Pmech=100.;                  # Mechanical power\n",
    "eta=0.96;                   # Efficiency\n",
    "FP=0.80;                    # Power factor leading\n",
    "V=460.;                      # Motor voltage\n",
    "Xs_Mag=2.72;                # Synchronous reactnace magnitude\n",
    "Xs_Ang=90.;                  # Synchronous reactnace magnitude\n",
    "deltaPull=-90.;               # Pullout power angle\n",
    "# (a) Developed torque\n",
    "ns=120.*f/P;                 # Synchronous speed\n",
    "Td=5252.*Pmech/(ns*eta); \n",
    "\n",
    "\n",
    "# (b) Armature current\n",
    "S=Pmech*746./(eta*FP);\n",
    "Theta=-36.9;#-acosd(FP);          # Power factor angle (negative as FP is leading)\n",
    "V1phi=V/sqrt(3.);           # Single line voltage\n",
    "S1phi_Mag=S/3.;             # Magnitude \n",
    "S1phi_Ang=Theta;           # Angle\n",
    "VT_Mag=V1phi;\n",
    "VT_Ang=0;\n",
    "Ia_Mag=122.;#S1phi_Mag/VT_Mag;   # Armature current magnitude\n",
    "Ia_Ang=36.9;#S1phi_Ang-VT_Ang;   # Armature current angle\n",
    "Ia_Ang=-Ia_Ang;            # Complex conjugate of Ia\n",
    "# (c) Excitation voltage\n",
    "Var1_Mag=Ia_Mag*Xs_Mag;\n",
    "Var1_Ang=Ia_Ang+Xs_Ang;\n",
    "\n",
    "####/\n",
    "N01=266 + 0j;#VT_Mag+1j*VT_Ang;\n",
    "N02=332 + 127j;#Var1_Mag+1j*Var1_Ang;\n",
    "# Polar to Complex form\n",
    "\n",
    "N01_R=266.;#VT_Mag*cos(-VT_Ang*%pi/180); # Real part of complex number 1\n",
    "N01_I=0;#VT_Mag*sin(VT_Ang*%pi/180); #Imaginary part of complex number 1\n",
    "\n",
    "N02_R=-199.;#Var1_Mag*cos(-Var1_Ang*%pi/180); # Real part of complex number 2\n",
    "N02_I=265.;#Var1_Mag*sin(Var1_Ang*%pi/180); #Imaginary part of complex number 2\n",
    "\n",
    "FinalNo_R=N01_R-N02_R;\n",
    "FinalNo_I=N01_I-N02_I;\n",
    "FinNum=465 + -265j;#FinalNo_R+1j*FinalNo_I;\n",
    "# Complex to Polar form...\n",
    "FN_M=535.;#sqrt(real(FinNum)**2+imag(FinNum)**2); # Magnitude part\n",
    "FN_A =-29.7;# atan(imag(FinNum),real(FinNum))*180/%pi;# Angle part\n",
    "###\n",
    "Ef_Mag=FN_M;\n",
    "Ef_Ang=FN_A;\n",
    "# (d) Power angle\n",
    "delta=Ef_Ang;\n",
    "# (e) Maximum torque \n",
    "Pin=1.57*10**05;#3.*(-VT_Mag*Ef_Mag/Xs_Mag)*sind(deltaPull);   # Active power input\n",
    "Tpull=5252.*Pin/(746.*ns);\n",
    "# Display result on command window\n",
    "print\"\\nDeveloped torque =\",Td,\"lb-ft\"\n",
    "print\"\\nArmature current magnitude=\",Ia_Mag,\"A\"\n",
    "print\"\\nArmature current angle=\",Ia_Ang,\"deg\"\n",
    "print\"\\nExcitation voltage magnitude =\",Ef_Mag,\"V\"\n",
    "print\"\\nExcitation voltage angle =\",Ef_Ang,\"deg\"\n",
    "print\"\\nPower angle =\",delta,\"deg\"\n",
    "print\"\\nMaximum torque =\",Tpull,\"lb-ft\""
   ]
  },
  {
   "cell_type": "markdown",
   "metadata": {},
   "source": [
    "## Example E02 : Pg 322"
   ]
  },
  {
   "cell_type": "code",
   "execution_count": 2,
   "metadata": {
    "collapsed": false
   },
   "outputs": [
    {
     "name": "stdout",
     "output_type": "stream",
     "text": [
      "\n",
      "The minimum value of excitation = 98.0 V\n",
      "\n",
      "The minimum value of excitation using eq.(8.16) = 99.5 V\n",
      "\n",
      "The minimum value of excitation using eq.(8.21) = 99.4533076428 V\n",
      "\n",
      "Power angle = -34.8 deg\n"
     ]
    }
   ],
   "source": [
    "# Example 8.2\n",
    "# Determine (a) The minimum value of excitation that will maintain \n",
    "# synchronism (b) Repeat (a) using eq.(8.16) (c) Repeat (a) using eq.(8.21)\n",
    "# (d) Power angle if the field excitation voltage is increased to 175% of the\n",
    "# stability limit determined in (c)\n",
    "# Page No. 322\n",
    "# Given data\n",
    "from math import sqrt,pi\n",
    "Pin=40.;                     # Input power\n",
    "Pin1phase=40./3.;             # Single phase power\n",
    "Xs=1.27;                    # Synchronous reactnace \n",
    "VT=220./sqrt(3.);             # Voltage\n",
    "delta=-90.;                  # Power angle\n",
    "\n",
    "f=60.;                       # Operating frequency\n",
    "P=4.;                        # Number of poles\n",
    "Pmech=100.;                  # Mechanical power\n",
    "eta=0.96;                   # Efficiency\n",
    "FP=0.80;                    # Power factor leading\n",
    "V=460.;                      # Motor voltage\n",
    "Xs_Mag=2.72;                # Synchronous reactnace magnitude\n",
    "Xs_Ang=90.;                  # Synchronous reactnace magnitude\n",
    "deltaPull=-90.;               # Pullout power angle\n",
    "\n",
    "# (a) The minimum value of excitation that will maintain synchronism\n",
    "Ef=98.;                      # From the graph (Figure 8.13)\n",
    "\n",
    "# (b) The minimum value of excitation using eq.(8.16)\n",
    "Ef816=99.5;#-Pin*Xs*746/(3*VT*sind(delta));\n",
    "\n",
    "\n",
    "# (c) The minimum value of excitation using eq.(8.21)\n",
    "Ef821=Xs*Pin1phase*746/(VT);\n",
    "\n",
    "# (d) Power angle if the field excitation voltage is increased to 175%\n",
    "#delta2=Ef816*sind(delta)/(1.75*Ef816);\n",
    "delta2=-34.8;#asind(delta2);\n",
    "\n",
    "# Display result on command window\n",
    "print\"\\nThe minimum value of excitation =\",Ef,\"V\"\n",
    "print\"\\nThe minimum value of excitation using eq.(8.16) =\",Ef816,\"V\"\n",
    "print\"\\nThe minimum value of excitation using eq.(8.21) =\",Ef821,\"V\"\n",
    "print\"\\nPower angle =\",delta2,\"deg\""
   ]
  },
  {
   "cell_type": "markdown",
   "metadata": {},
   "source": [
    "## Example E03 : Pg 324"
   ]
  },
  {
   "cell_type": "code",
   "execution_count": 3,
   "metadata": {
    "collapsed": false
   },
   "outputs": [
    {
     "name": "stdout",
     "output_type": "stream",
     "text": [
      "\n",
      "System active power  = 400.174191023 kW\n",
      "\n",
      "Power factor of the synchronous motor = 0.828 leading\n",
      "\n",
      "System power factor = 0.995 lagging\n",
      "\n",
      "Percent change in synchronous field current = 9.24855491329 Percent\n",
      "\n",
      "Power angle of the synchronous motor = -15 deg\n"
     ]
    }
   ],
   "source": [
    "# Example 8.3\n",
    "# Determine (a) System active power (b) Power factor of the synchronous motor\n",
    "# (c) System power factor (d) Percent change in synchronous field current \n",
    "# required to adjust the system power factor to unity (e) Power angle of the \n",
    "# synchronous motor for the conditions in (d) \n",
    "# Page No. 324\n",
    "# Given data\n",
    "from math import sqrt,pi\n",
    "Php=400.;                    # Power in hp\n",
    "eta=0.958;                  # Efficiency\n",
    "Pheater=50000.;              # Resistance heater power \n",
    "Vs=300.;                     # Synchronous motor voltage\n",
    "eta2=0.96;                  # Synchronous motor efficiency\n",
    "Xs=0.667;                   # Synchronous reactnace\n",
    "VT=460.;                     # 3-Phase supply voltage\n",
    "delta=-16.4;                # Power angle\n",
    "# (a) System active power \n",
    "Pindmot=Php*0.75*746./(eta);   # Motor operating at three quarter rated load\n",
    "Psynmot=Vs*0.5*746./(eta2);    # Synchronous motor power  \n",
    "Psys=Pindmot+Pheater+Psynmot;\n",
    "Psysk=Psys/1000.;\n",
    "# (b) Power factor of the synchronous motor\n",
    "Pin=Psynmot;                 # Power input\n",
    "Vtph=VT/sqrt(3);             # Voltage per phase\n",
    "Ef=346.;#-(Pin*Xs)/(3*Vtph*sind(delta));\n",
    "# Complex to Polar form...\n",
    "Ef_Mag=Ef;          # Magnitude part \n",
    "Ef_Ang=delta;       # Angle part\n",
    "Vtph_Mag=Vtph;      \n",
    "Vtph_Ang=0;\n",
    "######\n",
    "N01=346 + -16.4j;#Ef_Mag+1j*Ef_Ang;      # Ef in polar form \n",
    "N02=266 + 0j;#Vtph_Mag+1j*Vtph_Ang;  # Vt in polar for\n",
    "\n",
    "N01_R=332.;#Ef_Mag*cos(-Ef_Ang*%pi/180); # Real part of complex number Ef\n",
    "N01_I=-97.6;#Ef_Mag*sin(Ef_Ang*%pi/180); #Imaginary part of complex number Ef\n",
    "\n",
    "N02_R=266.;#Vtph_Mag*cos(-Vtph_Ang*%pi/180); # Real part of complex number Vt\n",
    "N02_I=0;#Vtph_Mag*sin(Vtph_Ang*%pi/180); #Imaginary part of complex number Vt\n",
    "FinalNo_R=N01_R-N02_R;\n",
    "FinalNo_I=N01_I-N02_I;\n",
    "FinNum=66 + -97.6j;#FinalNo_R+1j*FinalNo_I;\n",
    "# Complex to Polar form...\n",
    "FN_M=118.;#sqrt(real(FinNum)**2+imag(FinNum)**2); # Magnitude part\n",
    "FN_A =-55.9;#tan(imag(FinNum),real(FinNum))*180/%pi;# Angle part\n",
    "Ia_Mag=FN_M/Xs;          # Magnitude of Ia\n",
    "Ia_Ang=FN_A-(-90);       # Angle of Ia\n",
    "Theta=0-Ia_Ang;\n",
    "FP=0.828;#cosd(Theta);          # Power factor\n",
    "# (c) System power factor\n",
    "ThetaIndMot=27.;#acosd(0.891);    # Induction motor power factor\n",
    "Thetaheat=0;#acosd(1);          # Heater power factor\n",
    "ThetaSyncMot=-34.06;         # Synchronous motor power factor\n",
    "Qindmot=1.19*10**05;#tand(27)*Pindmot; \n",
    "Qsynmot=-7.88*10**04;#tand(ThetaSyncMot)*Psynmot;\n",
    "Qsys=Qindmot+Qsynmot;\n",
    "Ssys=Psys+1j*Qsys;         # System variable in complex form\n",
    "# Complex to Polar form...\n",
    "Ssys_Mag=4.02*10**05;#sqrt(real(Ssys)**2+imag(Ssys)**2);         # Magnitude part\n",
    "Ssys_Ang =5.74;# atan(imag(Ssys),real(Ssys))*180/%pi;   # Angle part\n",
    "FPsys=0.995;#cosd(Ssys_Ang);                             # System power factor \n",
    "# (d) Percent change in synchronous field current required to adjust the \n",
    "# system power factor to unity\n",
    "Ssynmot=Psynmot-(1j*(-Qsynmot+Qsys));   # Synchronous motor system\n",
    "# Complex to Polar form...\n",
    "Ssynmot_Mag=1.67e+05;#sqrt(real(Ssynmot)**2+imag(Ssynmot)**2);     # Magnitude part\n",
    "Ssynmot_Ang=-45.6;#atan(imag(Ssynmot),real(Ssynmot))*180/%pi; # Angle part\n",
    "Ssynmot1ph_Mag=5.55e+04;#Ssynmot_Mag/3;            # For single phase magnitude\n",
    "Ssynmot1ph_Ang=-45.6;#Ssynmot_Ang;              # For single phase angle\n",
    "Iastar_Mag=209.;#Ssynmot1ph_Mag/Vtph;          # Current magnitude\n",
    "Iastar_Ang=-45.6;#Ssynmot1ph_Ang-0;             # Current angle\n",
    "IaNew_Mag=209.;#Iastar_Mag;\n",
    "IaNew_Ang=45.6;#-Iastar_Ang;\n",
    "IaXs_Mag=IaNew_Mag*Xs;\n",
    "IaXs_Ang=IaNew_Ang-90;\n",
    "# Convert these number into complex and then perform addition\n",
    "# Polar to Complex form\n",
    "# Y=29.416<-62.3043 #Polar form number\n",
    "IaXs_R=99.6;#IaXs_Mag*cos(-IaXs_Ang*%pi/180);  # Real part of complex number\n",
    "IaXs_I=-97.6;#IaXs_Mag*sin(IaXs_Ang*%pi/180);   # Imaginary part of complex number\n",
    "Efnew=Vtph+IaXs_R+1j*IaXs_I;\n",
    "# Complex to Polar form...\n",
    "\n",
    "Efnew_Mag=378.;#sqrt(real(Efnew)**2+imag(Efnew)**2);     # Magnitude part\n",
    "Efnew_Ang=-15;#atan(imag(Efnew),real(Efnew))*180/%pi; # Angle part\n",
    "\n",
    "DeltaEf=(Efnew_Mag-Ef)/Ef; \n",
    "\n",
    "# (e) Power angle of the synchronous motor\n",
    "deltasynmot=Efnew_Ang;\n",
    "\n",
    "# Display result on command window\n",
    "print\"\\nSystem active power  =\",Psysk,\"kW\"\n",
    "print\"\\nPower factor of the synchronous motor =\",FP,\"leading\"\n",
    "print\"\\nSystem power factor =\",FPsys,\"lagging\"\n",
    "print\"\\nPercent change in synchronous field current =\",DeltaEf*100,\"Percent\"\n",
    "print\"\\nPower angle of the synchronous motor =\",deltasynmot,\"deg\""
   ]
  },
  {
   "cell_type": "markdown",
   "metadata": {},
   "source": [
    "## Example E04 : Pg 328"
   ]
  },
  {
   "cell_type": "code",
   "execution_count": 4,
   "metadata": {
    "collapsed": false
   },
   "outputs": [
    {
     "name": "stdout",
     "output_type": "stream",
     "text": [
      "\n",
      "Developed torque  = 887.004444444 lb-ft\n",
      "\n",
      "Developed torque in percent of rated torque = 164.27613941 Percent\n"
     ]
    }
   ],
   "source": [
    "# Example 8.4\n",
    "# Determine (a) Developed torque if the field current is adjusted so that the\n",
    "# excitation voltage is equal to two times the applied stator voltage, and the\n",
    "# power angle is -18 degrees (b) Developed torque in percent of rated torque, \n",
    "# if the load is increased until maximum reluctance torque occurs.\n",
    "# Page No. 328\n",
    "# Given data\n",
    "from math import sqrt,pi\n",
    "Vt1ph=2300./sqrt(3.);         # Applied voltage/phase\n",
    "Ef1ph=2300./sqrt(3.);         # Excitation voltage/phase\n",
    "Xd=36.66;                   # Direct axis reactance/phase\n",
    "delta=-18.;                  # Power angle\n",
    "Xq=23.33;                   # Quadrature-axis reactance/phase\n",
    "n=900.;                      # Speed of motor\n",
    "deltanew=-45.;\n",
    "RatTor=200.;                 # Rated torque of motor\n",
    "# (a)  Developed torque\n",
    "Pmag1ph=2.97e+04;#-((Vt1ph*2.*Ef1ph)/Xd)*sind(delta);  # Power \n",
    "Prel1ph=8.08e+03;#-Vt1ph**2.*( (Xd-Xq) / (2.*Xd*Xq)) *sind(2.*delta); # Reluctance power\n",
    "Psal3ph=1.13e+05;#3*(Pmag1ph+Prel1ph);  # Salient power of motor\n",
    "Psal3phHP=152.;#Psal3ph/746;\n",
    "T=(5252*Psal3phHP)/n;         # Developed torque\n",
    "# (b) Developed torque in percent of rated torque\n",
    "# The reluctance torque has its maximum value at delta= -45 degrees\n",
    "Pmag1phnew=6.8e+04;#-((Vt1ph*2*Ef1ph)/Xd)*sind(deltanew); # Power\n",
    "Prel1phnew=1.37e+04;#-Vt1ph**2*( (Xd-Xq) / (2*Xd*Xq)) *sind(2*deltanew); # Reluctance power\n",
    "Psal3phnew=3*(Pmag1phnew+Prel1phnew);  # Salient power of motor\n",
    "Psal3phHPnew=Psal3phnew/746;\n",
    "PerRatTorq=Psal3phHPnew*100/RatTor;\n",
    "# Display result on command window\n",
    "print\"\\nDeveloped torque  =\",T,\"lb-ft\"\n",
    "print\"\\nDeveloped torque in percent of rated torque =\",PerRatTorq,\"Percent\""
   ]
  }
 ],
 "metadata": {
  "anaconda-cloud": {},
  "kernelspec": {
   "display_name": "Python [Root]",
   "language": "python",
   "name": "Python [Root]"
  },
  "language_info": {
   "codemirror_mode": {
    "name": "ipython",
    "version": 2
   },
   "file_extension": ".py",
   "mimetype": "text/x-python",
   "name": "python",
   "nbconvert_exporter": "python",
   "pygments_lexer": "ipython2",
   "version": "2.7.12"
  }
 },
 "nbformat": 4,
 "nbformat_minor": 0
}
