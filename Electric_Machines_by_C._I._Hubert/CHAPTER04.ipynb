{
 "cells": [
  {
   "cell_type": "markdown",
   "metadata": {},
   "source": [
    "# CHAPTER04 : PRINCIPLES OF THREE PHASE INDUCTION MOTORS"
   ]
  },
  {
   "cell_type": "markdown",
   "metadata": {},
   "source": [
    "## Example E01 : Pg 140"
   ]
  },
  {
   "cell_type": "code",
   "execution_count": 1,
   "metadata": {
    "collapsed": false
   },
   "outputs": [
    {
     "name": "stdout",
     "output_type": "stream",
     "text": [
      "Synchronous speed of a six pole induction motor = 1020.0 r/min\n"
     ]
    }
   ],
   "source": [
    "#  Example 4.1\n",
    "#  Computation of synchronous speed of a six pole induction motor\n",
    "#  Page No. 140\n",
    "#  Given data\n",
    "f=60.;                #  Frequency\n",
    "p=6.;                 #  Number of poles\n",
    "fs=f*0.85;           #  Frequency is 85% of its rated value\n",
    "ns=120.*fs/p;         #  Synchronous speed\n",
    "\n",
    "#  Display result on command window\n",
    "print\"Synchronous speed of a six pole induction motor =\",ns,\"r/min\""
   ]
  },
  {
   "cell_type": "markdown",
   "metadata": {},
   "source": [
    "## Example E02 : Pg 143"
   ]
  },
  {
   "cell_type": "code",
   "execution_count": 2,
   "metadata": {
    "collapsed": false
   },
   "outputs": [
    {
     "name": "stdout",
     "output_type": "stream",
     "text": [
      "Synchronous speed = 1200.0 r/min\n",
      "Slip = 0.0833333333333\n",
      "Rotor frequency = 5.0 Hz\n",
      "Rotor voltage = 8.33333333333 V\n"
     ]
    }
   ],
   "source": [
    "#  Example 4.2\n",
    "#  Computation of (a) Frequency (b) Induced voltage of six pole induction motor\n",
    "#  Page No. 143\n",
    "#  Given data\n",
    "f=60.;                #  Frequency\n",
    "p=6.;                 #  Number of poles\n",
    "nr=1100.;             #  Rotor speed\n",
    "Ebr=100.;             #  Blocked rotor voltage\n",
    "\n",
    "#  (a) Synchronous speed\n",
    "ns=120.*f/p;              #  Synchronous speed\n",
    "\n",
    "#  (b) Slip\n",
    "s=(ns-nr)/ns;              #  Slip\n",
    "\n",
    "#  (c) Rotor frequency\n",
    "fr=s*f;              #  Rotor frequency\n",
    "\n",
    "#  (d) Rotor voltage\n",
    "Er=s*Ebr;              #  Rotor voltage\n",
    "\n",
    "\n",
    "#  Display result on command window\n",
    "print\"Synchronous speed =\",ns,\"r/min\"\n",
    "print\"Slip =\",s\n",
    "print\"Rotor frequency =\",fr,\"Hz\"\n",
    "print\"Rotor voltage =\",Er,\"V\""
   ]
  },
  {
   "cell_type": "markdown",
   "metadata": {},
   "source": [
    "## Example E03 : Pg 146"
   ]
  },
  {
   "cell_type": "code",
   "execution_count": 3,
   "metadata": {
    "collapsed": false
   },
   "outputs": [
    {
     "name": "stdout",
     "output_type": "stream",
     "text": [
      "Synchronous speed = 1200.0 r/min\n",
      "Slip = 0.03\n",
      "Rotor impedance magnitude = 3.38 Ohm\n",
      "Rotor impedance angle = 9.2 deg\n",
      "Rotor current magnitude = 44.3786982249 Ohm\n",
      "Rotor current angle = -9.2 deg\n",
      "Rotor current magnitude by changing the shaft load = 18.5643564356 Ohm\n",
      "Rotor current angle by changing the shaft load = -3.83 deg\n",
      "New rotor speed = 1185.12 r/min\n"
     ]
    }
   ],
   "source": [
    "#  Example 4.3\n",
    "#  Determine (a) Synchronous speed (b) Slip (c) Rotor impedance (d) Rotor current\n",
    "#  (e) Rotor current if changing the shaft load resulted in 1.24 percenr slip \n",
    "#  (f) Speed for the condition in (e) \n",
    "#  Page No. 146\n",
    "#  Given data\n",
    "fs=60.;                  #  Frequency\n",
    "p=6.;                    #  Number of poles\n",
    "nr=1164.;                #  Rotor speed\n",
    "Rr=0.10;                #  Equivalent resistance\n",
    "Xbr=0.54;               #  Equivalent reactance\n",
    "Ebr=150.;                #  Blocked rotor voltage per phase\n",
    "s1=0.0124;              #  Percent slip\n",
    "\n",
    "#  (a) Synchronous speed\n",
    "ns=120.*fs/p;               #  Speed \n",
    "\n",
    "#  (b) Slip\n",
    "s=(ns-nr)/ns; \n",
    "\n",
    "#  (c) Rotor impedance  \n",
    "Zr=3.33+0.54j;#(Rr/s)+%i*Xbr;\n",
    "#  Complex to Polar form...\n",
    "Zr_Mag=3.38;#sqrt(real(Zr)**2+imag(Zr)**2);         #  Magnitude part\n",
    "Zr_Ang=9.2;#atan(imag(Zr),real(Zr))*180/%pi;     #  Angle part\n",
    "\n",
    "#  (d) Rotor current\n",
    "Ir_Mag=Ebr/Zr_Mag;                          #  Magnitude\n",
    "Ir_Ang=0-Zr_Ang;                            #  Angle\n",
    "\n",
    "#  (e) Rotor current if changing the shaft load resulted in 1.24 percent slip \n",
    "Zrnew=8.06+0.54j;#Rr/s1+%i*Xbr;\n",
    "#  Complex to Polar form...\n",
    "Zrnew_Mag=8.08;#sqrt(real(Zrnew)**2+imag(Zrnew)**2);         #  Magnitude part\n",
    "Zrnew_Ang=3.83;#atan(imag(Zrnew),real(Zrnew))*180/%pi;     #  Angle part\n",
    "\n",
    "Irnew_Mag=Ebr/Zrnew_Mag;                             #  Magnitude\n",
    "Irnew_Ang=0-Zrnew_Ang;                               #  Angle\n",
    "\n",
    "#  (f) Speed for the condition in (e) \n",
    "nr=ns*(1-s1); \n",
    "\n",
    "#  Display result on command window\n",
    "print\"Synchronous speed =\",ns,\"r/min\"\n",
    "print\"Slip =\",s\n",
    "print\"Rotor impedance magnitude =\",Zr_Mag,\"Ohm\"\n",
    "print\"Rotor impedance angle =\",Zr_Ang,\"deg\"\n",
    "print\"Rotor current magnitude =\",Ir_Mag,\"Ohm\"\n",
    "print\"Rotor current angle =\",Ir_Ang,\"deg\"\n",
    "print\"Rotor current magnitude by changing the shaft load =\",Irnew_Mag,\"Ohm\"\n",
    "print\"Rotor current angle by changing the shaft load =\",Irnew_Ang,\"deg\"\n",
    "print\"New rotor speed =\",nr,\"r/min\""
   ]
  },
  {
   "cell_type": "markdown",
   "metadata": {},
   "source": [
    "## Example E04 : Pg 149"
   ]
  },
  {
   "cell_type": "code",
   "execution_count": 4,
   "metadata": {
    "collapsed": false
   },
   "outputs": [
    {
     "name": "stdout",
     "output_type": "stream",
     "text": [
      "Total three phase apparent power crossing the air gap (VA) =\n",
      "(19702.5958869+1.8711951419j)\n",
      "Active power component = 19700.0 W\n",
      "Reactive power component = 3200.0 var\n",
      "Rotor power factor = 0.987\n"
     ]
    }
   ],
   "source": [
    "#  Example 4.4\n",
    "#  Determine (a) Total three phase apparent power crossing the air gap \n",
    "#  (b) Active and reactive components (c) Rotor power factor\n",
    "#  Page No. 149\n",
    "#  Given data\n",
    "Ebr=150.;                #  Blocked rotor voltage per phase\n",
    "Ir_Mag=44.421;          #  Rotor current magnitude\n",
    "Ir_Ang=-9.2;            #  Rotor current angle\n",
    "Ir_magConj=9.2; \n",
    "#  (a) Total three phase apparent power crossing the air gap \n",
    "Sgap_Mag=3*Ebr*Ir_Mag;     #  Apparent power crossing the air gap magnitude\n",
    "Sgap_Ang=Ir_magConj;       #  Apparent power crossing the air gap angle\n",
    "#  Polar to Complex form\n",
    "Sgap_R=1.97*10.**4.;#Sgap_Mag*cos(-Sgap_Ang*%pi/180); #  Real part of complex number\n",
    "Sgap_I=3.2*10.**3.;#Sgap_Mag*sin(Sgap_Ang*%pi/180); # Imaginary part of complex number\n",
    "Sgap=1.97*10**4 + 3.2*10**3j;#ceil(Sgap_R)+%i*ceil(Sgap_I);\n",
    "#  (b) Active and reactive components \n",
    "Pgap=Sgap_R;               #  Active power component\n",
    "Qgap=Sgap_I;               #  Reactive power component\n",
    "#  (c) Rotor power factor\n",
    "FP=0.987;#cosd(Ir_magConj);\n",
    "#  Display result on command window\n",
    "print\"Total three phase apparent power crossing the air gap (VA) =\"\n",
    "print Sgap\n",
    "print\"Active power component =\",Pgap,\"W\"\n",
    "print\"Reactive power component =\",Qgap,\"var\"\n",
    "print\"Rotor power factor =\",FP"
   ]
  },
  {
   "cell_type": "markdown",
   "metadata": {},
   "source": [
    "## Example E05 : Pg 152"
   ]
  },
  {
   "cell_type": "code",
   "execution_count": 5,
   "metadata": {
    "collapsed": false
   },
   "outputs": [
    {
     "name": "stdout",
     "output_type": "stream",
     "text": [
      "Shaft speed = 1767.5308642 r/min\n",
      "Mechanical power developed in hp = 19.191689008 hp\n",
      "Developed torque = 57.0257372654 lb-ft\n"
     ]
    }
   ],
   "source": [
    "#  Example 4.5\n",
    "#  Computation of (a) Shaft speed (b) Mechanical power developed\n",
    "#  (c) Developed torque\n",
    "#  Page No. 152\n",
    "#  Given data\n",
    "Prcl=263.;               #  Rotor copper loss\n",
    "Pgap=14580.;             #  Power input to the rotor\n",
    "fs=60.;                  #  Frequency\n",
    "p=4.;                    #  Number of poles\n",
    "#  (a) Shaft speed\n",
    "s=Prcl/Pgap;               #  Slip\n",
    "ns=120.*fs/p;               #  Speed of stator\n",
    "nr=ns*(1.-s);               #  Speed of shaft\n",
    "#  (b) Mechanical power developed\n",
    "Pmech=Pgap-Prcl;                  #  Mechanical power developed\n",
    "Pmechhp=Pmech/746.;                #  Mechanical power developed in hp\n",
    "# (c) Developed torque\n",
    "TD=5252.*Pmechhp/nr;\n",
    "#  Display result on command window\n",
    "print\"Shaft speed =\",nr,\"r/min\"\n",
    "print\"Mechanical power developed in hp =\",Pmechhp,\"hp\"\n",
    "print\"Developed torque =\",TD,\"lb-ft\""
   ]
  },
  {
   "cell_type": "markdown",
   "metadata": {},
   "source": [
    "## Example E06 : Pg 159"
   ]
  },
  {
   "cell_type": "code",
   "execution_count": 6,
   "metadata": {
    "collapsed": false
   },
   "outputs": [
    {
     "name": "stdout",
     "output_type": "stream",
     "text": [
      "Power input = 81978.021978 W\n",
      "Total losses = 7378.02197802 W\n",
      "Air gap power = 77478.021978 W\n",
      "Shaft speed = 1176.00868024 r/min\n",
      "Power factor = 0.829769162985\n",
      "Combined windage, friction and stray load loss = 1329.02197802 W\n",
      "Shaft torque = 446.595343067 lb-ft\n"
     ]
    }
   ],
   "source": [
    "#  Example 4.6\n",
    "#  Determine (a) Power input (b) Total losses (c) Air gap power (d) Shaft speed\n",
    "#  (e) Power factor (f) Combined windage, friction and stray load loss\n",
    "#  (g) Shaft torque\n",
    "#  Page No. 159\n",
    "#  Given data\n",
    "import math\n",
    "Pshaft=74600.;                #  Shaft power\n",
    "eeta=0.910;                  #  Rated efficiency\n",
    "ns=1200.;                     #  Speed of stator\n",
    "Pcore=1697.;                  #  Power in core\n",
    "Pscl=2803.;                   #  Stator copper loss\n",
    "Prcl=1549.;                   #  Rotor copper loss\n",
    "fs=60.;                       #  Synchronous frequency\n",
    "p=6.;                         #  Number of poles\n",
    "Vline=230.;                   #  Line voltage\n",
    "Iline=248.;                   #  Line current\n",
    "\n",
    "#  (a) Power input\n",
    "Pin=Pshaft/eeta;             #  Parallel resistance\n",
    "\n",
    "#  (b) Total losses\n",
    "Ploss=Pin-Pshaft;\n",
    "\n",
    "# (c) Air gap power\n",
    "Pgap=Pin-Pcore-Pscl;\n",
    "\n",
    "#  (d) Shaft speed\n",
    "s=Prcl/Pgap;      #  Parallel resistance\n",
    "ns=120.*fs/p;\n",
    "nr=ns*(1-s);\n",
    "\n",
    "#  (e) Power factor\n",
    "Sin=math.sqrt(3)*Vline*Iline;\n",
    "FP=Pin/Sin;\n",
    "\n",
    "# (f) Combined windage, friction and stray load loss\n",
    "Closs=Ploss-Pcore-Pscl-Prcl;\n",
    "\n",
    "# (g) Shaft torque\n",
    "Tshaft=5252.*100./nr;\n",
    "\n",
    "\n",
    "#  Display result on command window\n",
    "print\"Power input =\",Pin,\"W\"\n",
    "print\"Total losses =\",Ploss,\"W\"\n",
    "print\"Air gap power =\",Pgap,\"W\"\n",
    "print\"Shaft speed =\",nr,\"r/min\"\n",
    "print\"Power factor =\",FP\n",
    "print\"Combined windage, friction and stray load loss =\",Closs,\"W\"\n",
    "print\"Shaft torque =\",Tshaft,\"lb-ft\""
   ]
  }
 ],
 "metadata": {
  "anaconda-cloud": {},
  "kernelspec": {
   "display_name": "Python [Root]",
   "language": "python",
   "name": "Python [Root]"
  },
  "language_info": {
   "codemirror_mode": {
    "name": "ipython",
    "version": 2
   },
   "file_extension": ".py",
   "mimetype": "text/x-python",
   "name": "python",
   "nbconvert_exporter": "python",
   "pygments_lexer": "ipython2",
   "version": "2.7.12"
  }
 },
 "nbformat": 4,
 "nbformat_minor": 0
}
