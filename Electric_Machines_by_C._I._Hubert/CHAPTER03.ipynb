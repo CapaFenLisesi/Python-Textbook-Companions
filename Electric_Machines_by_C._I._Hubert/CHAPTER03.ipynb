{
 "cells": [
  {
   "cell_type": "markdown",
   "metadata": {},
   "source": [
    "# CHAPTER03 : TRANSFORMER CONNECTIONS OPERATION AND SPECIALITY TRANSFORMERS"
   ]
  },
  {
   "cell_type": "markdown",
   "metadata": {},
   "source": [
    "## Example E01 : Pg 98"
   ]
  },
  {
   "cell_type": "code",
   "execution_count": 1,
   "metadata": {
    "collapsed": false
   },
   "outputs": [
    {
     "name": "stdout",
     "output_type": "stream",
     "text": [
      "Load current  = 8.0 A\n",
      "Incoming line current = 2.0 A\n",
      "Transformed current = 6.0 A\n",
      "Apparent power conducted = 1200.0 VA\n",
      "Apparent power transformed = 3600.0 VA\n"
     ]
    }
   ],
   "source": [
    "#  Example 3.1\n",
    "#  Computation of (a) Load current (b) Incoming line current\n",
    "#  (c) Transformed current (d) Apparent power conducted and apparent power transformed\n",
    "#  Page No. 98\n",
    "#  Given data\n",
    "NHS=400.;               #  Number of turns in the high side\n",
    "NLS=0.25*400.;          #  Number of turns in the low side\n",
    "VHS=2400.;              #  Voltage at the high side\n",
    "S=4800.;                #  Supply voltage\n",
    "\n",
    "#  (a) Load current\n",
    "a=NHS/NLS;             #  Transformer turn ratio  \n",
    "VLS=VHS/a;             #  Low side voltage      \n",
    "ILS=S/VLS;             #  Load current\n",
    "\n",
    "#  (b) Incoming line current\n",
    "IHS=ILS/a;    \n",
    "\n",
    "# (c)  Transformed current\n",
    "ITR=ILS-IHS;\n",
    "\n",
    "#  (d) Apparent power conducted and apparent power transformed\n",
    "\n",
    "SCOND=IHS*VLS;     #  Apparent power conducted\n",
    "STRANS=ITR*VLS;    #  Apparent power transformed  \n",
    "\n",
    "\n",
    "#  Display result on command window\n",
    "print\"Load current  =\",ILS,\"A\"\n",
    "print\"Incoming line current =\",IHS,\"A\"\n",
    "print\"Transformed current =\",ITR,\"A\"\n",
    "print\"Apparent power conducted =\",SCOND,\"VA\"\n",
    "print\"Apparent power transformed =\",STRANS,\"VA\""
   ]
  },
  {
   "cell_type": "markdown",
   "metadata": {},
   "source": [
    "## Example E02 : Pg 100"
   ]
  },
  {
   "cell_type": "code",
   "execution_count": 2,
   "metadata": {
    "collapsed": false
   },
   "outputs": [
    {
     "name": "stdout",
     "output_type": "stream",
     "text": [
      "Rated primary current = 41.6666666667 A\n",
      "Rated secondary current = 4.16666666667 A\n",
      "Apparent power rating = 110.0 KVA\n"
     ]
    }
   ],
   "source": [
    "#  Example 3.2\n",
    "#  Computation of (a) Rated primary and secondary currents when connected as \n",
    "#  autotransformer (b) Apparent power rating when connected as an autotransformer\n",
    "#  Page No. 100\n",
    "#  Given data\n",
    "S=10000.;              #  Supply voltage\n",
    "VLS=240.;              #  Voltage at the low side\n",
    "VHS=2400.;             #  Voltage at the high side\n",
    "Sw=10.;                #  Power rating\n",
    "#  (a) Rated primary and secondary currents when connected as autotransformer \n",
    "ILSWINDING=S/VLS;     #  Rated primary current\n",
    "IHSWINDING=S/VHS;     #  Rated secondary current\n",
    "#  (b) Apparent power rating when connected as an autotransformer\n",
    "a=VHS/VLS;                  #  Magnetic drop across R1\n",
    "Sat=(a+1)*Sw;    \n",
    "# Display result on command window\n",
    "print\"Rated primary current =\",ILSWINDING,\"A\"\n",
    "print\"Rated secondary current =\",IHSWINDING,\"A\"\n",
    "print\"Apparent power rating =\",Sat,\"KVA\""
   ]
  },
  {
   "cell_type": "markdown",
   "metadata": {},
   "source": [
    "## Example E03 : Pg 102"
   ]
  },
  {
   "cell_type": "code",
   "execution_count": 5,
   "metadata": {
    "collapsed": false
   },
   "outputs": [
    {
     "name": "stdout",
     "output_type": "stream",
     "text": [
      "Actual output voltage supplied to the air conditioner is = 233.2 V\n",
      "Actual output voltage assuming utilization voltage as 246 V is = 230.617793194 V\n"
     ]
    }
   ],
   "source": [
    "#  Example 3.3\n",
    "#  Computation of (a) Buck boost transformer parameters \n",
    "#  (b) Repeating the same assuming utilization voltage as 246V\n",
    "#  Page No. 102\n",
    "#  Given data\n",
    "S=10000.;              #  Supply voltage\n",
    "VLS=212.;              #  Voltage at the low side\n",
    "VHSNEW=246.;           #  New voltage at the high side\n",
    "a1=1.100;    \n",
    "a11=1.0667;\n",
    "#  (a) Buck boost transformer parameters \n",
    "VHS=a1*VLS;\n",
    "#  (b) Repeating the same assuming utilization voltage as 246V\n",
    "VLSNEW=VHSNEW/a11;  \n",
    "# Display result on command window\n",
    "print\"Actual output voltage supplied to the air conditioner is =\",VHS,\"V\"\n",
    "print\"Actual output voltage assuming utilization voltage as 246 V is =\",VLSNEW,\"V\""
   ]
  },
  {
   "cell_type": "markdown",
   "metadata": {},
   "source": [
    "## Example E04 : Pg 104"
   ]
  },
  {
   "cell_type": "code",
   "execution_count": 6,
   "metadata": {
    "collapsed": false
   },
   "outputs": [
    {
     "name": "stdout",
     "output_type": "stream",
     "text": [
      "Circulating current magnitude = 65.6 A\n",
      "Circulating current angle = -68.0 deg\n",
      "Circulating current as a percent of the rated current = 30.176 Percent\n",
      "Percent difference in secondary voltage = 2.22222222222 Percent\n"
     ]
    }
   ],
   "source": [
    "#  Example 3.4\n",
    "#  Determine (a) Circulating current in the paralleled secondaries \n",
    "#  (b) Circulating current as a percent of the rated current of transformer A \n",
    "#  (c) Percent difference in secondary voltage that caused the circulating current\n",
    "#  Page No. 104\n",
    "#  Given data\n",
    "S=100000.;              #  Transformer A and B rating \n",
    "VLSA=460.;              #  Voltage at the low side of transformer A\n",
    "VLSB=450.;              #  Voltage at the low side of transformer A\n",
    "RPUA=0.0136;           #  Percent resistance of transformer A\n",
    "XPUA=0.0350;           #  Percent reactance of transformer A\n",
    "RPUB=0.0140;           #  Percent resistance of transformer B\n",
    "XPUB=0.0332;           #  Percent reactance of transformer B\n",
    "#  (a) Circulating current in the paralleled secondaries \n",
    "IA= S/VLSA;               #  Rated low side current for transformer A\n",
    "IB= S/VLSB;               #  Rated low side current for transformer B\n",
    "ReqA=RPUA*VLSA/IA;        #  Equivalent resistance of transfomer A\n",
    "ReqB=RPUB*VLSB/IB;        #  Equivalent resistance of transfomer B\n",
    "XeqA=XPUA*VLSA/IA;        #  Equivalent reactance of transfomer A\n",
    "XeqB=XPUB*VLSB/IB;        #  Equivalent reactance of transfomer B\n",
    "#  Impedance of the closed loop formed by two secondaries is\n",
    "Zloop=0.0571+0.14j;#ReqA+%i*XeqA+ReqB+%i*XeqB; \n",
    "#  Complex to Polar form...\n",
    "Zloop_Mag=0.152;#sqrt(real(Zloop)**2+imag(Zloop)**2); #  Magnitude part\n",
    "Zloop_Ang=68.;#atan(imag(Zloop),real(Zloop))*180/%pi; #  Angle part\n",
    "Icirc_Mag=65.6;#(VLSA-VLSB)/Zloop_Mag; #  Circulating current magnitude\n",
    "Icirc_Ang=-68.;#0- Zloop_Ang;          #  Circulating current angle\n",
    "\n",
    "#  (b) Circulating current as a percent of the rated current of transformer A\n",
    "IcircA=Icirc_Mag*100/IA;\n",
    "#  (c) Percent difference in secondary voltage that caused the circulating current\n",
    "PD=(VLSA-VLSB)*100/VLSB;\n",
    "#  Display result on command window\n",
    "print\"Circulating current magnitude =\",Icirc_Mag,\"A\"\n",
    "print\"Circulating current angle =\",Icirc_Ang,\"deg\"\n",
    "print\"Circulating current as a percent of the rated current =\",IcircA,\"Percent\"\n",
    "print\"Percent difference in secondary voltage =\",PD,\"Percent\""
   ]
  },
  {
   "cell_type": "markdown",
   "metadata": {},
   "source": [
    "## Example E05 : Pg 107"
   ]
  },
  {
   "cell_type": "code",
   "execution_count": 7,
   "metadata": {
    "collapsed": false
   },
   "outputs": [
    {
     "name": "stdout",
     "output_type": "stream",
     "text": [
      "Rated high side current of transformer A = 31.25 A\n",
      "Rated high side current of transformer B = 83.3333333333 A\n",
      "Percent of total bank current drawn by transformer A = 3070.0 Percent\n",
      "Percent of total bank current drawn by transformer B = 6980.0 Percent\n",
      "Maximum load that can be handled by the bank = 101.791530945 A\n"
     ]
    }
   ],
   "source": [
    "#  Example 3.5\n",
    "#  Determine (a) Rated high side current of each transformer (b) Percent of the\n",
    "#  total bank-current drawn by each transformer (c) Maximum load that can be \n",
    "#  handled by the bank without overloading by one of the transformer\n",
    "#  Page No. 107\n",
    "#  Given data\n",
    "SA=75000.;              #  Transformer A rating\n",
    "SB=200000.;             #  Transformer B rating\n",
    "VHSA=2400.;             #  Voltage at the high side of transformer A\n",
    "VHSB=2400.;             #  Voltage at the high side of transformer B\n",
    "RPUA=1.64;             #  Percent resistance of transformer A\n",
    "XPUA=3.16;             #  Percent reactance of transformer A\n",
    "RPUB=1.10;             #  Percent resistance of transformer B\n",
    "XPUB=4.03;             #  Percent reactance of transformer B\n",
    "#  (a) Rated high side current of each transformer\n",
    "IArated=SA/VHSA;       #  High side rated current transformer A\n",
    "IBrated=SB/VHSB;       #  High side rated current transformer B\n",
    "#  (b) Percent of the total bank-current drawn by each transformer\n",
    "ZAper=1.64+3.16j;#RPUA+%i*XPUA;    #  Percent impadance for transformer A\n",
    "#  Complex to Polar form...\n",
    "ZAper_Mag=3.56;#sqrt(real(ZAper)**2+imag(ZAper)**2);      #  Magnitude part\n",
    "ZAper_Ang=62.6;#atan(imag(ZAper),real(ZAper))*180/%pi;  #  Angle part\n",
    "\n",
    "ZBper=1.1+4.03j;#RPUB+%i*XPUB;    #  Percent impadance for transformer B\n",
    "#  Complex to Polar form...\n",
    "ZBper_Mag=4.18;#sqrt(real(ZBper)**2+imag(ZBper)**2);      #  Magnitude part\n",
    "ZBper_Ang=74.7;#atan(imag(ZBper),real(ZBper))*180/%pi;  #  Angle part\n",
    "\n",
    "ZAbase=VHSA/IArated;                #  Base impedance of transformer A\n",
    "ZBbase=VHSB/IBrated;                #  Base impedance of transformer A\n",
    "\n",
    "ZeqA_Mag=ZAbase*ZAper_Mag/100;      #  Magnitude of equivalent impedance A\n",
    "ZeqA_Ang=ZAper_Ang;                 #  Angle of equivalent impedance A\n",
    "\n",
    "ZeqB_Mag=ZBbase*ZBper_Mag/100;      #  Magnitude of equivalent impedance B\n",
    "ZeqB_Ang=ZBper_Ang;                 #  Angle of equivalent impedance B\n",
    "\n",
    "YeqA_Mag=0.366;#1/ZeqA_Mag;                #  Magnitude of equivalent admittance A\n",
    "YeqA_Ang=-62.6;#0-ZeqA_Ang;                #  Angle of equivalent admittance A\n",
    "\n",
    "#  Polar to Complex form\n",
    "YeqA_R=0.168;#YeqA_Mag*cos(-YeqA_Ang*%pi/180); #  Real part of complex number\n",
    "YeqA_I=-0.325;#YeqA_Mag*sin(YeqA_Ang*%pi/180); # Imaginary part of complex number\n",
    "\n",
    "YeqB_Mag=0.831;#1/ZeqB_Mag;                #  Magnitude of equivalent admittance B\n",
    "YeqB_Ang=-74.7;#0-ZeqB_Ang;                #  Angle of equivalent admittance B\n",
    "\n",
    "#  Polar to Complex form\n",
    "\n",
    "YeqB_R=0.219;#YeqB_Mag*cos(-YeqB_Ang*%pi/180); #  Real part of complex number\n",
    "YeqB_I=-0.802;#YeqB_Mag*sin(YeqB_Ang*%pi/180); # Imaginary part of complex number\n",
    "YP=0.387+1.13j;#(YeqA_R - %i* YeqA_I)+(YeqB_R - %i* YeqB_I); #  Parallel admittance\n",
    "\n",
    " #  Complex to Polar form...\n",
    "YP_Mag=1.19;#sqrt(real(YP)**2+imag(YP)**2);      #  Magnitude part\n",
    "YP_Ang=71.;#atan(imag(YP),real(YP))*180/%pi;  #  Angle part\n",
    "\n",
    "IA=30.7;#YeqA_Mag/YP_Mag;                      #  Transformer A load\n",
    "IB=69.8;#YeqB_Mag/YP_Mag;                      #  Transformer A load\n",
    "IA=IA*100.;\n",
    "IB=IB*100.;\n",
    "\n",
    "#  (c) Maximum load that can be handled by the bank without overloading by \n",
    "#  one of the transformer\n",
    "Ibank=IArated/0.307;\n",
    "\n",
    "#  Display result on command window\n",
    "\n",
    "print\"Rated high side current of transformer A =\",IArated,\"A\"\n",
    "print\"Rated high side current of transformer B =\",IBrated,\"A\"\n",
    "print\"Percent of total bank current drawn by transformer A =\",IA,\"Percent\"\n",
    "print\"Percent of total bank current drawn by transformer B =\",IB,\"Percent\"\n",
    "print\"Maximum load that can be handled by the bank =\", Ibank,\"A\""
   ]
  },
  {
   "cell_type": "markdown",
   "metadata": {},
   "source": [
    "## Example E06 : Pg 109"
   ]
  },
  {
   "cell_type": "code",
   "execution_count": 8,
   "metadata": {
    "collapsed": false
   },
   "outputs": [
    {
     "name": "stdout",
     "output_type": "stream",
     "text": [
      "Percent of total bank current drawn by transformer A = 55.1594746717 Percent\n",
      "Percent of total bank current drawn by transformer B = 44.8405253283 Percent\n"
     ]
    }
   ],
   "source": [
    "#  Example 3.6\n",
    "#  Determine the percent of the total bank-current drawn by each transformer \n",
    "#  Page No. 109\n",
    "#  Given data\n",
    "ZaPU_R=0.0158;          #  Transformer A impedance real part\n",
    "ZaPU_I=0.0301;          #  Transformer A impedance imaginary part\n",
    "ZbPU_R=0.0109;          #  Transformer B impedance real part\n",
    "ZbPU_I=0.0398;          #  Transformer B impedance imaginary part\n",
    "SB=200000.;             #  Transformer B rating\n",
    "VHSA=2400.;             #  Voltage at the high side of transformer A\n",
    "VHSB=2400.;             #  Voltage at the high side of transformer B\n",
    "RPUA=1.64;             #  Percent resistance of transformer A\n",
    "XPUA=3.16;             #  Percent reactance of transformer A\n",
    "RPUB=1.10;             #  Percent resistance of transformer B\n",
    "XPUB=4.03;             #  Percent reactance of transformer B\n",
    "\n",
    "\n",
    "\n",
    "#  Base impedance of transformer A\n",
    "ZaPU=0.0158 + 0.0301j;#ZaPU_R+%i*ZaPU_I;\n",
    "#  Complex to Polar form...\n",
    "ZaPU_Mag=0.034;#sqrt(real(ZaPU)**2+imag(ZaPU)**2);      #  Magnitude part\n",
    "ZaPU_Ang=62.3;#atan(imag(ZaPU),real(ZaPU))*180/%pi;  #  Angle part\n",
    "\n",
    "#  Base impedance of transformer B\n",
    "ZbPU=0.0109+0.0398j;#ZbPU_R+%i*ZbPU_I;\n",
    "#  Complex to Polar form...\n",
    "ZbPU_Mag=0.0413;#sqrt(real(ZbPU)**2+imag(ZbPU)**2);      #  Magnitude part\n",
    "ZbPU_Ang=74.7;#atan(imag(ZbPU),real(ZbPU))*180/%pi;  #  Angle part\n",
    "\n",
    "#  Admittance of transformer A\n",
    "YaPU_Mag=29.4;#1/ZaPU_Mag;                #  Magnitude of equivalent admittance A\n",
    "YaPU_Ang=-62.3;#0-ZaPU_Ang;                #  Angle of equivalent admittance A\n",
    "\n",
    "#  Polar to Complex form\n",
    "\n",
    "YaPU_R=13.7;#YaPU_Mag*cos(-YaPU_Ang*%pi/180); #  Real part of complex number\n",
    "YaPU_I=-26;#YaPU_Mag*sin(YaPU_Ang*%pi/180); # Imaginary part of complex number\n",
    "\n",
    "#  Admittance of transformer B\n",
    "YbPU_Mag=24.2;#1/ZbPU_Mag;                #  Magnitude of equivalent admittance B\n",
    "YbPU_Ang=-74.7;#0-ZbPU_Ang;                #  Angle of equivalent admittance B\n",
    "#  Polar to Complex form\n",
    "\n",
    "YbPU_R=6.4;#YbPU_Mag*cos(-YbPU_Ang*%pi/180); #  Real part of complex number\n",
    "YbPU_I=-23.4;#YbPU_Mag*sin(YbPU_Ang*%pi/180); # Imaginary part of complex number\n",
    "\n",
    "#  Parallel admittance\n",
    "YP=20.1+49.4j;#(YaPU_R-%i*YaPU_I)+(YbPU_R-%i*YbPU_I);\n",
    "#  Complex to Polar form...\n",
    "YP_Mag=53.3;#sqrt(real(YP)**2+imag(YP)**2);      #  Magnitude part\n",
    "YP_Ang=67.9;#atan(imag(YP),real(YP))*180/%pi;  #  Angle part\n",
    "\n",
    "IA=YaPU_Mag/YP_Mag*100;                  #  Percent current drawn by transformer A \n",
    "IB=100-IA; \n",
    "\n",
    "#  Display the result on the command window\n",
    "print\"Percent of total bank current drawn by transformer A =\",IA,\"Percent\"\n",
    "print\"Percent of total bank current drawn by transformer B =\",IB,\"Percent\""
   ]
  },
  {
   "cell_type": "markdown",
   "metadata": {},
   "source": [
    "## Example E07 : Pg 113"
   ]
  },
  {
   "cell_type": "code",
   "execution_count": 9,
   "metadata": {
    "collapsed": false
   },
   "outputs": [
    {
     "name": "stdout",
     "output_type": "stream",
     "text": [
      "Bank ratio = 17.3333333333\n",
      "Transformer ratio = 10.007404666\n",
      "Rated line current for the high side = 20.8179183602 A\n",
      "Rated phase current for the high side = 20.8179183602 A\n",
      "Rated line  current for the low side = 360.843918244 A\n",
      "Rated phase current for the low side = 208.333333333 A\n"
     ]
    }
   ],
   "source": [
    "#  Example 3.7\n",
    "#  Computation of (a) Bank ratio (b) Transformer ratio (c) Rated line and phase \n",
    "#  currents for the high side (d) Rated line and phase currents for the low side\n",
    "#  Page No. 113\n",
    "#  Given data\n",
    "import math \n",
    "VLINEHS=4160.;               #  Number of turns in the high side\n",
    "VLINELS=240.;                #  Number of turns in the low side\n",
    "VHS=2400.;                   #  Voltage at the high side\n",
    "S=4800.;                     #  Supply voltage\n",
    "Vline=150000.;               #  Transformer rating\n",
    "\n",
    "#  (a) Bank ratio\n",
    "bankratio=VLINEHS/VLINELS;    \n",
    "\n",
    "#  (b) Transformer ratio\n",
    "Vphasep= VLINEHS/  math.sqrt(3);   #  For wye primary\n",
    "Vphases=VLINELS               #  For secondary\n",
    "TR=Vphasep/Vphases;           #  Transformer ratio \n",
    "\n",
    "# (c) Rated line and phase currents for the high side \n",
    "Ilinew=Vline/(math.sqrt(3)*VLINEHS);\n",
    "Iphasew=Ilinew;\n",
    "\n",
    "#  (d) Rated line and phase currents for the low side\n",
    "Ilined=Vline/(math.sqrt(3)*VLINELS);   \n",
    "Iphased=Ilined/math.sqrt(3);\n",
    "\n",
    "\n",
    "#  Display result on command window\n",
    "print\"Bank ratio =\",bankratio\n",
    "print\"Transformer ratio =\",TR\n",
    "print\"Rated line current for the high side =\",Ilinew,\"A\"\n",
    "print\"Rated phase current for the high side =\",Iphasew,\"A\"\n",
    "print\"Rated line  current for the low side =\",Ilined,\"A\"\n",
    "print\"Rated phase current for the low side =\",Iphased,\"A\""
   ]
  },
  {
   "cell_type": "markdown",
   "metadata": {},
   "source": [
    "## Example E08 : Pg 117"
   ]
  },
  {
   "cell_type": "code",
   "execution_count": 10,
   "metadata": {
    "collapsed": false
   },
   "outputs": [
    {
     "name": "stdout",
     "output_type": "stream",
     "text": [
      "Capacity of the bank when operating open-delta is = 43.275 kVA\n"
     ]
    }
   ],
   "source": [
    "#  Example 3.8\n",
    "#  Determine the maximum allowable power that the open-delta bank handle \n",
    "#  without overheating\n",
    "#  Page No. 117\n",
    "#  Given data\n",
    "S=25.;# Transformer rating\n",
    "#  Capacity of the delta-delta bank is\n",
    "Cddb=S*3;\n",
    "#  Capacity of the bank when operating open-delta is\n",
    "Cob=Cddb*0.577;\n",
    "# Display result on command window\n",
    "print\"Capacity of the bank when operating open-delta is =\",Cob,\"kVA\""
   ]
  },
  {
   "cell_type": "markdown",
   "metadata": {},
   "source": [
    "## Example E09 : Pg 117"
   ]
  },
  {
   "cell_type": "code",
   "execution_count": 11,
   "metadata": {
    "collapsed": false
   },
   "outputs": [
    {
     "name": "stdout",
     "output_type": "stream",
     "text": [
      "Minimum power rating required for each transformer = 32.075014955 kVA\n"
     ]
    }
   ],
   "source": [
    "# Example 3.9\n",
    "# Determine the minimum power rating required for each transformer\n",
    "# Page No. 117\n",
    "# Given data\n",
    "import math\n",
    "P=50000.;                      #  Transformer power rating\n",
    "Eline=120.;                    #  Line voltage\n",
    "FP=0.9                        #  Power factor lagging\n",
    "VL=120.;\n",
    "#Line current is\n",
    "Iline=P/(math.sqrt(3.)*Eline*FP);\n",
    "#Minimum power rating required for each transformer\n",
    "Pmin=VL*Iline/1000.;\n",
    "#Display result on command window\n",
    "print\"Minimum power rating required for each transformer =\",Pmin,\"kVA\""
   ]
  }
 ],
 "metadata": {
  "kernelspec": {
   "display_name": "Python [Root]",
   "language": "python",
   "name": "Python [Root]"
  },
  "language_info": {
   "codemirror_mode": {
    "name": "ipython",
    "version": 2
   },
   "file_extension": ".py",
   "mimetype": "text/x-python",
   "name": "python",
   "nbconvert_exporter": "python",
   "pygments_lexer": "ipython2",
   "version": "2.7.12"
  }
 },
 "nbformat": 4,
 "nbformat_minor": 0
}
