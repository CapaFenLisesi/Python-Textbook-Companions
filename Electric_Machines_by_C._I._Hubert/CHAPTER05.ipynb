{
 "cells": [
  {
   "cell_type": "markdown",
   "metadata": {},
   "source": [
    "# CHAPTER05 : CLASSIFICATION PERFORMANCE APPLICATIONS AND OPERATION OF THREE PHASE INDUCTION MACHINES"
   ]
  },
  {
   "cell_type": "markdown",
   "metadata": {},
   "source": [
    "## Example E01 : Pg 173"
   ]
  },
  {
   "cell_type": "code",
   "execution_count": 1,
   "metadata": {
    "collapsed": false
   },
   "outputs": [
    {
     "name": "stdout",
     "output_type": "stream",
     "text": [
      "Locked rotor torque = 102.756521739 lb-ft\n",
      "Breakdown torque = 86.772173913 lb-ft\n",
      "Pull up torque = 75.3547826087 lb-ft\n"
     ]
    }
   ],
   "source": [
    "#  Example 5.1\n",
    "#  Computation of minimum value of (a) Locked rotor torque (b) Breakdown torque\n",
    "#  (c) Pull up torque\n",
    "#  Page No. 173\n",
    "#  Given data\n",
    "f=60.;               #  Frequency in Hz\n",
    "p=6.;                #  Number of poles\n",
    "hp=10.;              #  Horsepower\n",
    "n=1150.;             #  Rated speed of machine\n",
    "ns=120.*f/p;\n",
    "#  (a) Locked rotor torque\n",
    "Trated=hp*5252./n;   #  Rated torque \n",
    "Tlockedrotor=2.25*Trated;\n",
    "#  (b) Breakdown torque\n",
    "Tbreakdown=1.90*Trated;\n",
    "#  (c) Pull up torque\n",
    "Tpullup=1.65*Trated;\n",
    "#  Display result on command window\n",
    "print\"Locked rotor torque =\",Tlockedrotor,\"lb-ft\"\n",
    "print\"Breakdown torque =\",Tbreakdown,\"lb-ft\"\n",
    "print\"Pull up torque =\",Tpullup,\"lb-ft\""
   ]
  },
  {
   "cell_type": "markdown",
   "metadata": {},
   "source": [
    "## Example E02 : Pg 180"
   ]
  },
  {
   "cell_type": "code",
   "execution_count": 2,
   "metadata": {
    "collapsed": false
   },
   "outputs": [
    {
     "name": "stdout",
     "output_type": "stream",
     "text": [
      "\n",
      "Slip = 0.0125\n",
      "\n",
      "Line current magnitude = 15.0898365811 A\n",
      "\n",
      "Line current angle = -30.2 deg\n",
      "\n",
      "Apparent power = 10390.9402326 W\n",
      "\n",
      "Active power = 6047.67163108 var\n",
      "\n",
      "Reactive power = 12022.7272727 VA\n",
      "\n",
      "Power factor of the motor = 0.864\n",
      "\n",
      "Equivalent rotor curret magnitude = 12.6578934123 A\n",
      "\n",
      "Equivalent rotor curret angle = -6.85 deg\n",
      "\n",
      "Stator copper loss = 136.621900826 W\n",
      "\n",
      "Rotor copper loss = 120.166699229 W\n",
      "\n",
      "Core loss = 606.519617558 W\n",
      "\n",
      "Air-gap power = 9613.33593829 W\n",
      "\n",
      "Mechanical power developed = 9493.16923906 W\n",
      "\n",
      "Developed torque = 56.3982375046 lb-ft\n",
      "\n",
      "Shaft horsepower = 12.5491045777 hp\n",
      "\n",
      "Shaft torque = 55.6184786853 lb-ft\n",
      "\n",
      "Effiency = 0.90094176325\n"
     ]
    }
   ],
   "source": [
    "# Example 5.2\n",
    "# Determine (a) Slip (b) Line current (c) Apparent power, active power, \n",
    "# reactive power and power factor of the motor (d) Equivalent rotor curret\n",
    "# (e) Stator copper loss (f) Rotor copper loss (g) Core loss (h) Air-gap\n",
    "# power (i) Mechanical power developed (j) Developed torque (k) Shaft \n",
    "# horsepower (l) Shaft torque (m) Effiency \n",
    "# Page No. 180\n",
    "# Given data\n",
    "from math import sqrt,pi,sin,cos \n",
    "f=60.;                   # Frequency\n",
    "P=6.;                    # Number of poles\n",
    "nr=1185.;\n",
    "R1=0.200;               # Motor resistance\n",
    "R2=0.250;\n",
    "X1=1.20;                # Motor reactance\n",
    "X2=1.29;\n",
    "Rfe=317.;                # Field resistance\n",
    "XM=42.;                  # Motor reactance\n",
    "V=460.;                  # Voltage rating\n",
    "PFPS=166.;               # Stray loss\n",
    "\n",
    "# (a) Slip \n",
    "ns=(120.*f)/P;\n",
    "s=(ns-nr)/ns;            # Speed difference\n",
    "\n",
    "# (b) Line current\n",
    "Z2=20 + 1.29j;#(R2/s)+%i*X2;\n",
    "# Complex to Polar form...\n",
    "Z2_Mag=20.;#sqrt(real(Z2)**2+imag(Z2)**2);       # Magnitude part\n",
    "Z2_Ang =3.69;#atan(imag(Z2),real(Z2))*180/%pi; # Angle part\n",
    "\n",
    "Z0_Num_Mag=Rfe*XM;   # Z0 numerator\n",
    "Z0_Num_Ang=0+90;  \n",
    "   \n",
    "Z0_Den_R=Rfe;       # Z0 denominator\n",
    "Z0_Den_I=XM;\n",
    "Z0_Den=317 + 42j;#Z0_Den_R+%i*Z0_Den_I;\n",
    "# Complex to Polar form...\n",
    "Z0_Den_Mag=320.;#sqrt(real(Z0_Den)**2+imag(Z0_Den)**2);       # Magnitude part\n",
    "Z0_Den_Ang =7.55;#atan(imag(Z0_Den),real(Z0_Den))*180/%pi; # Angle part\n",
    "\n",
    "Z0_Mag=Z0_Num_Mag/Z0_Den_Mag;            # Magnitude of Z0\n",
    "Z0_Ang=Z0_Num_Ang-Z0_Den_Ang;            # Angle of Z0\n",
    "\n",
    "# Polar to Complex form\n",
    "Z0_R=Z0_Mag*cos(-Z0_Ang*pi/180);       # Real part of complex number\n",
    "Z0_I=Z0_Mag*sin(Z0_Ang*pi/180);        # Imaginary part of complex number\n",
    "\n",
    "# ZP computation\n",
    "ZP_Num_Mag=Z2_Mag*Z0_Mag;              # ZP numerator magnitude\n",
    "ZP_Num_Ang=Z2_Ang+Z0_Ang;              # ZP numerator angle\n",
    "\n",
    "ZP_Den_R=25.5;#real(Z2)+Z0_R;                # Real part of ZP denominator\n",
    "ZP_Den_I=42.6;#imag(Z2)+Z0_I; \n",
    "ZP_Den=25.5 + 42.6j;#lZP_Den_R+%i*ZP_Den_I;           # ZP in complex form\n",
    "\n",
    "# Complex to Polar form...\n",
    "ZP_Den_Mag=49.6;#sqrt(real(ZP_Den)**2+imag(ZP_Den)**2);       # Magnitude part\n",
    "ZP_Den_Ang =59.1;#atan(imag(ZP_Den),real(ZP_Den))*180/%pi; # Angle part\n",
    "\n",
    "ZP_Mag=ZP_Num_Mag/ZP_Den_Mag;           # Final vlaue of ZP in polar form\n",
    "ZP_Ang=ZP_Num_Ang-ZP_Den_Ang;\n",
    "# Polar to Complex form\n",
    "ZP_R=ZP_Mag*cos(-ZP_Ang*pi/180);      # Real part of complex number\n",
    "ZP_I=ZP_Mag*sin(ZP_Ang*pi/180);       # Imaginary part of complex number\n",
    "\n",
    "# Zin computation\n",
    "ZP=15 + 7.65j;#ZP_R+%i*ZP_I;                       # Parallel impedance\n",
    "Z1=0.2 + 1.2j;#R1+%i*X1;\n",
    "Zin=Z1+ZP;                             # Input impedance\n",
    "# Complex to Polar form...\n",
    "Zin_Mag=17.6;#sqrt(real(Zin)**2+imag(Zin)**2);       # Magnitude part\n",
    "Zin_Ang =30.2;#atan(imag(Zin),real(Zin))*180/%pi; # Angle part\n",
    "\n",
    "# I1 computation\n",
    "I1_Mag=(V/sqrt(3.))/Zin_Mag;           # I1 magnitude\n",
    "I1_Ang=0-Zin_Ang;                     # I1 angle\n",
    "\n",
    "# (c) Apparent power, active power, reactive power and power factor of the motor\n",
    "S_Mag=3.*(V/sqrt(3.))*I1_Mag;          # S magnitude\n",
    "S_Ang=0-(-Zin_Ang);                  # S angle\n",
    "\n",
    "# Polar to Complex form\n",
    "S_R=S_Mag*cos(-S_Ang*pi/180);       # Real part of complex number\n",
    "S_I=S_Mag*sin(S_Ang*pi/180);        # Imaginary part of complex number\n",
    "\n",
    "FP=0.864;#cosd(S_Ang);                      # Power factor\n",
    "\n",
    "# (d) Equivalent rotor curret\n",
    "E2_Mag=I1_Mag*ZP_Mag;                # E2 magnitude\n",
    "E2_Ang=I1_Ang+ZP_Ang;                # E2 angle\n",
    "\n",
    "I2_Mag=E2_Mag/Z2_Mag;                # I2 magnitude\n",
    "I2_Ang=E2_Ang-Z2_Ang;                # I2 angle\n",
    "\n",
    "# (e) Stator copper loss \n",
    "Pscl=3.*I1_Mag**2.*R1;\n",
    "\n",
    "# (f) Rotor copper loss\n",
    "Prel=3.*I2_Mag**2.*R2;\n",
    "\n",
    "# (g) Core loss \n",
    "Pcore=3.*(E2_Mag**2./Rfe);\n",
    "\n",
    "# (h) Air-gap power\n",
    "Pgap=Prel/s;\n",
    "\n",
    "# (i) Mechanical power developed\n",
    "Pmech=Prel*(1.-s)/s;\n",
    "\n",
    "# (j) Developed torque \n",
    "TD=(21.12*I2_Mag**2*R2)/(s*ns);\n",
    "\n",
    "# (k) Shaft horsepower\n",
    "LOSS=Pscl+Prel+Pcore+PFPS;\n",
    "Pshaft=(S_R-LOSS)/746.;\n",
    "\n",
    "# (l) Shaft torque\n",
    "T=5252.*Pshaft/nr;\n",
    "\n",
    "# (m) Effiency \n",
    "eta=Pshaft/S_R*746.;\n",
    "\n",
    "# Display result on command window\n",
    "print\"\\nSlip =\",s\n",
    "print\"\\nLine current magnitude =\",I1_Mag,\"A\"\n",
    "print\"\\nLine current angle =\",I1_Ang,\"deg\"\n",
    "print\"\\nApparent power =\",S_R,\"W\"\n",
    "print\"\\nActive power =\",S_I,\"var\"\n",
    "print\"\\nReactive power =\",S_Mag,\"VA\"\n",
    "print\"\\nPower factor of the motor =\",FP\n",
    "print\"\\nEquivalent rotor curret magnitude =\",I2_Mag,\"A\"\n",
    "print\"\\nEquivalent rotor curret angle =\",I2_Ang,\"deg\"\n",
    "print\"\\nStator copper loss =\",Pscl,\"W\"\n",
    "print\"\\nRotor copper loss =\",Prel,\"W\"\n",
    "print\"\\nCore loss =\",Pcore,\"W\"\n",
    "print\"\\nAir-gap power =\",Pgap,\"W\"\n",
    "print\"\\nMechanical power developed =\",Pmech,\"W\"\n",
    "print\"\\nDeveloped torque =\",TD,\"lb-ft\"\n",
    "print\"\\nShaft horsepower =\",Pshaft,\"hp\"\n",
    "print\"\\nShaft torque =\",T,\"lb-ft\"\n",
    "print\"\\nEffiency =\",eta"
   ]
  },
  {
   "cell_type": "markdown",
   "metadata": {},
   "source": [
    "## Example E03 : Pg 184"
   ]
  },
  {
   "cell_type": "code",
   "execution_count": 3,
   "metadata": {
    "collapsed": false
   },
   "outputs": [
    {
     "name": "stdout",
     "output_type": "stream",
     "text": [
      "\n",
      "Speed at which maximum torque is developed = 1531.8 r/min\n",
      "\n",
      "Maximum torque that the machine can develop = 366.489979327 lb-ft\n",
      "\n",
      "Rated shaft torque = 119.977155911 lb-ft\n",
      "\n",
      "Maximum torque is developed at slip of 0.1490 and \n",
      "hence machine is placed in design A category\n"
     ]
    }
   ],
   "source": [
    "# Example 5.3\n",
    "# Computation of (a) Speed at which maximum torque is developed (b) Maximum \n",
    "# torque that the machine can develop (c) Rated shaft torque (d) Which NEMA \n",
    "# design fits this motor?\n",
    "# Page No. 184\n",
    "# Given data\n",
    "from math import sqrt\n",
    "f=60.;                  # Frequency in Hz\n",
    "p=4.;                   # Number of poles\n",
    "hp=40.;                 # Horsepower\n",
    "n=1751.;                # Rated speed of machine\n",
    "v=460./sqrt(3.);       # Voltage\n",
    "s=0.1490;              # Slip\n",
    "R2=0.153;              # Rotor resistance \n",
    "R1=0.102;\n",
    "X1=0.409;              # Rotor reactance\n",
    "X2=0.613;\n",
    "\n",
    "# (a) Speed at which maximum torque is developed \n",
    "STDmax=R2/(sqrt(R1**2.+(X1+X2)**2.));\n",
    "ns=120.*f/p;                          #stator spped\n",
    "nr=ns*(1.-s);\n",
    "\n",
    "# (b) Maximum torque that the machine can develop\n",
    "TDmax=(21.12*v**2.)/(2.*ns*(sqrt(R1**2.+(X1+X2)**2.)+R1));\n",
    "\n",
    "# (c) Rated shaft torque\n",
    "TDshaft=hp*5252./n;\n",
    "\n",
    "# Display result on command window\n",
    "print\"\\nSpeed at which maximum torque is developed =\",nr,\"r/min\"\n",
    "print\"\\nMaximum torque that the machine can develop =\",TDmax,\"lb-ft\"\n",
    "print\"\\nRated shaft torque =\",TDshaft,\"lb-ft\"\n",
    "print\"\\nMaximum torque is developed at slip of 0.1490 and \\nhence machine is placed in design A category\""
   ]
  },
  {
   "cell_type": "markdown",
   "metadata": {},
   "source": [
    "## Example E04 : Pg 185"
   ]
  },
  {
   "cell_type": "code",
   "execution_count": 4,
   "metadata": {
    "collapsed": false
   },
   "outputs": [
    {
     "name": "stdout",
     "output_type": "stream",
     "text": [
      "\n",
      " Amount of torque that must be removed from the motor shaft = 28.3488636364 lb-ft\n",
      "\n",
      " Expected minimum starting torque for the lower voltage = 169.197954545 lb-ft\n",
      "\n",
      " Percent change in developed torque = -19.0 Percent\n"
     ]
    }
   ],
   "source": [
    "# Example 5.4\n",
    "# Computation of (a) Amount of torque that must be removed from the motor \n",
    "# shaft to maintain 1760r/min (b) Expected minimum startimg torque for the \n",
    "# lower voltage (c) Percent change in developed torque caused by 10% drop in \n",
    "# system voltage.\n",
    "# Page No. 185\n",
    "# Given data\n",
    "hp=50.;              # Horsepower\n",
    "n=1760.;             # Rated speed of machine\n",
    "v1=460.;\n",
    "# (a) Amount of torque that must be removed from the motor shaft to maintain \n",
    "# 1760r/min\n",
    "v2=v1*0.90;\n",
    "Trated=hp*5252./n;       #Rated torque \n",
    "TD2=Trated*(v2/v1)**2.;\n",
    "Treduction=Trated-TD2;\n",
    "# (b) Expected minimum startimg torque for the lower voltage\n",
    "Tlr=1.40*Trated;\n",
    "Tlr2=Tlr*(v2/v1)**2;\n",
    "# (c) Percent change in developed torque caused by 10% drop in system voltage\n",
    "Tchange=(TD2-Trated)/Trated;\n",
    "Tchanger=(Tlr2-Tlr)/Tlr;\n",
    "# Display result on command window\n",
    "print\"\\n Amount of torque that must be removed from the motor shaft =\",Treduction,\"lb-ft\"\n",
    "print\"\\n Expected minimum starting torque for the lower voltage =\",Tlr2,\"lb-ft\"\n",
    "print\"\\n Percent change in developed torque =\",Tchanger*100,\"Percent\""
   ]
  },
  {
   "cell_type": "markdown",
   "metadata": {},
   "source": [
    "## Example E05 : Pg 187"
   ]
  },
  {
   "cell_type": "code",
   "execution_count": 5,
   "metadata": {
    "collapsed": false
   },
   "outputs": [
    {
     "name": "stdout",
     "output_type": "stream",
     "text": [
      "\n",
      "Shaft speed = 588.875 r/min\n",
      "\n",
      "Rotor current referred to the stator = 111.916287976 A\n"
     ]
    }
   ],
   "source": [
    "# Example 5.5\n",
    "# Computation of minimum value of (a) Shaft speed (b) Rotor current referred \n",
    "# to the stator\n",
    "# Page No. 187\n",
    "# Given data\n",
    "from math import sqrt\n",
    "f=60.;               # Frequency in Hz\n",
    "p=12.;               # Number of poles\n",
    "nr=591.1;           # Rated speed of machine\n",
    "v=575.;              # Voltage rating of the machine\n",
    "R2=0.055;\n",
    "\n",
    "# (a) Shaft speed\n",
    "ns=120.*f/p;        # Speed (r/min)\n",
    "s1=(ns-nr)/ns;     # Slip 1\n",
    "s2=1.25*s1;        # Slip 2\n",
    "nr1=ns*(1.-s2);\n",
    "\n",
    "# (b) Rotor current referred to the stator\n",
    "V=v/sqrt(3.);\n",
    "I2=V*s2/R2;\n",
    "\n",
    "# Display result on command window\n",
    "print\"\\nShaft speed =\",nr1,\"r/min\"\n",
    "print\"\\nRotor current referred to the stator =\",I2,\"A\""
   ]
  },
  {
   "cell_type": "markdown",
   "metadata": {},
   "source": [
    "## Example E06 : Pg 190"
   ]
  },
  {
   "cell_type": "code",
   "execution_count": 6,
   "metadata": {
    "collapsed": false
   },
   "outputs": [
    {
     "name": "stdout",
     "output_type": "stream",
     "text": [
      "\n",
      "New operating speed in case of voltage and frequency drop = 1100.72839506 r/min\n",
      "\n",
      "New shaft horsepower = 18.7358024691 hp\n"
     ]
    }
   ],
   "source": [
    "# Example 5.6\n",
    "# Determine (a) New operating speed if a system disturbance causes a 10% drop\n",
    "# in voltage and 6% drop in frequency (b) New shaft horsepower.\n",
    "# Page No. 190\n",
    "# Given data\n",
    "etaV=0.90;               # Efficiency related to voltage\n",
    "V=230.;                   # Voltage\n",
    "etaF=0.94;               # Efficiency related to voltage\n",
    "f=60.;                    # Frequency\n",
    "N=6.;                     # Number of poles\n",
    "nr1=1175.;                # Speed of motor\n",
    "P=20.;                    # Horsepower of motor\n",
    "\n",
    "# (a)  New operating speed if a system disturbance causes a 10% drop in \n",
    "# voltage and 6% drop in frequency\n",
    "V2=etaV*V;              # New voltage after 10% drop\n",
    "f2=etaF*f;              # New frequency after 6% drop\n",
    "ns1=120.*f/N;\n",
    "ns2=120.*0.94*f/N;\n",
    "s1=(ns1-nr1)/ns1;       # Speed difference\n",
    "\n",
    "s2=s1*((V/V2)**2.)*(f2/f);  \n",
    "nr2=ns2*(1.-s2);         # New speed\n",
    "\n",
    "# (b) New shaft horsepower\n",
    "P2=P*(nr2/nr1);         # With a constant torque load T2=T1\n",
    "\n",
    "# Display result on command window\n",
    "print\"\\nNew operating speed in case of voltage and frequency drop =\",nr2,\"r/min\"\n",
    "print\"\\nNew shaft horsepower =\",P2,\"hp\""
   ]
  },
  {
   "cell_type": "markdown",
   "metadata": {},
   "source": [
    "## Example E07 : Pg 192"
   ]
  },
  {
   "cell_type": "code",
   "execution_count": 7,
   "metadata": {
    "collapsed": false
   },
   "outputs": [
    {
     "name": "stdout",
     "output_type": "stream",
     "text": [
      "\n",
      " Expected locked-rotor line current = 173.32173913 A\n"
     ]
    }
   ],
   "source": [
    "# Example 5.7\n",
    "# Determine expected locked-rotor line current\n",
    "# Page No. 192\n",
    "# Given data\n",
    "Ir1=151.;                   # Rated current\n",
    "V1=230.;                    # Rated voltage\n",
    "V2=220.;                    # Motor starting voltage\n",
    "F1=60.;                     # Rated frequency\n",
    "F2=50.;                     # Motor starting frequency\n",
    "# Expected locked-rotor line current\n",
    "Ir2=Ir1*((V2/F2)/(V1/F1));\n",
    "# Display result on command window\n",
    "print\"\\n Expected locked-rotor line current =\",Ir2,\"A\""
   ]
  },
  {
   "cell_type": "markdown",
   "metadata": {},
   "source": [
    "## Example E08 : Pg 193"
   ]
  },
  {
   "cell_type": "code",
   "execution_count": 8,
   "metadata": {
    "collapsed": false
   },
   "outputs": [
    {
     "name": "stdout",
     "output_type": "stream",
     "text": [
      "\n",
      "Expected minimum locked-rotor torque = 270.102857143 lb-ft\n",
      "\n",
      "Expected minimum locked-rotor torque after drop = 265.465984372 lb-ft\n"
     ]
    }
   ],
   "source": [
    "# Example 5.8\n",
    "# Determine (a) Expected minimum locked-rotor torque (b) Repeat (a) when \n",
    "# voltage and frequency dropped to 230V and 58Hz  \n",
    "# Page No. 193\n",
    "# Given data\n",
    "HPrated=75.;            # Rated horsepower\n",
    "nrated=1750.;           # Rated speed\n",
    "V1=240.;                # Rated voltage\n",
    "V2=230.;                # Voltage after drop\n",
    "F1=60.;                 # Rated frequency\n",
    "F2=58.;                 # Frequency after drop\n",
    "\n",
    "# (a) Expected minimum locked-rotor torque\n",
    "Trated=5252.*HPrated/nrated;   # Rated torque\n",
    "Tlr=Trated*1.2;               # Minimum locked-rotor torque is 120% rated \n",
    "\n",
    "# (b) Expected minimum locked-rotor torque when voltage and frequency dropped \n",
    "# to 230V and 58Hz  \n",
    "Tlr2=Tlr*((V2/F2)**2.)*((F1/V1)**2.);\n",
    "\n",
    "# Display result on command window\n",
    "print\"\\nExpected minimum locked-rotor torque =\",Tlr,\"lb-ft\"\n",
    "print\"\\nExpected minimum locked-rotor torque after drop =\",Tlr2,\"lb-ft\""
   ]
  },
  {
   "cell_type": "markdown",
   "metadata": {},
   "source": [
    "## Example E09 : Pg 194"
   ]
  },
  {
   "cell_type": "code",
   "execution_count": 9,
   "metadata": {
    "collapsed": false
   },
   "outputs": [
    {
     "name": "stdout",
     "output_type": "stream",
     "text": [
      "\n",
      "Shaft speed = 1470.15519161 r/min\n",
      "\n",
      "Slip = 0.019896538928\n"
     ]
    }
   ],
   "source": [
    "# Example 5.9\n",
    "# Determine (a) Shaft r/min (b) Slip \n",
    "# Page No. 194\n",
    "# Given data\n",
    "from math import sqrt\n",
    "F1=60.;             # Rated frequency\n",
    "N=4.;               # Number of poles\n",
    "F2=50.;             # New frequency\n",
    "ns=1770.;           # Rated speed\n",
    "\n",
    "# (a) Shaft r/min\n",
    "ns60=120.*F1/N;       # Speed at rated ferquency \n",
    "ns50=120.*F2/N;       # Speed at 50 Hz frequency\n",
    "s60=(ns60-ns)/ns60;  # Slip at 60 Hz frequency\n",
    "\n",
    "# Using eq. (5.16) and by solving..s50=29.251/nr50\n",
    "# Using eq. (4.3) and solving for nr50 we get the quadratic equation..\n",
    "# Using various values of quadratic equations, we have\n",
    "a=1.;\n",
    "b=-1500.;\n",
    "c=43876.5;\n",
    "r1=(-b+sqrt(b**2-4*a*c))/(2.*a); # Root 1\n",
    "\n",
    "r2=(-b-sqrt(b**2-4*a*c))/(2.*a); # Root 2\n",
    "# Answer 'r2' is not valid\n",
    "\n",
    "# (b) Slip \n",
    "s50=(ns50-r1)/ns50;\n",
    "\n",
    "# Display result on command window\n",
    "print\"\\nShaft speed =\",r1,\"r/min\"\n",
    "print\"\\nSlip =\",s50"
   ]
  },
  {
   "cell_type": "markdown",
   "metadata": {},
   "source": [
    "## Example E10 : Pg 198"
   ]
  },
  {
   "cell_type": "code",
   "execution_count": 10,
   "metadata": {
    "collapsed": false
   },
   "outputs": [
    {
     "name": "stdout",
     "output_type": "stream",
     "text": [
      "\n",
      " Low range of rotor speed = 311.142857143 r/min\n",
      "\n",
      " High range of rotor speed = 504.0 r/min\n",
      "\n",
      " Required rheostat resistance = 0.114905179241 Ohm/phase\n"
     ]
    }
   ],
   "source": [
    "# Example 5.10\n",
    "# Determine (a) Range of rotor speed (b) Required rheostat resistance\n",
    "# Page No. 198\n",
    "# Given data\n",
    "from math import sqrt\n",
    "F=60.;                  # Frequency of motor\n",
    "P=14.;                  # Number of poles\n",
    "SL=0.395;              # Low speed point\n",
    "SH=0.02;               # High speed point\n",
    "Stdmax=0.74;           # Value at which TD is maximum (from curve B)\n",
    "R1=0.403;              # Motor resistance\n",
    "R2=0.317;\n",
    "X1=1.32;               # Motor reactance\n",
    "X2=1.32;\n",
    "a=3.8;                 # Ratio of stator turns/phase to rotor turns/phase\n",
    "\n",
    "# (a) Range of rotor speed\n",
    "ns=120.*F/P;           # Speed\n",
    "nrl=ns*(1.-SL);        # Rotor low speed\n",
    "nrh=ns*(1.-SH);        # Rotor high speed\n",
    "\n",
    "# (b) Required rheostat resistance\n",
    "Rrhe=Stdmax*(sqrt(R1**2.+(X1+X2)**2.))-R2;\n",
    "Rehereq=Rrhe/a**2.;\n",
    "\n",
    "# Display result on command window\n",
    "print\"\\n Low range of rotor speed =\",nrl,\"r/min\"\n",
    "print\"\\n High range of rotor speed =\",nrh,\"r/min\"\n",
    "print\"\\n Required rheostat resistance =\",Rehereq,\"Ohm/phase\""
   ]
  },
  {
   "cell_type": "markdown",
   "metadata": {},
   "source": [
    "## Example E11 : Pg 201"
   ]
  },
  {
   "cell_type": "code",
   "execution_count": 11,
   "metadata": {
    "collapsed": false
   },
   "outputs": [
    {
     "name": "stdout",
     "output_type": "stream",
     "text": [
      "\n",
      " Rotor frequency = 0.795 Hz\n",
      "\n",
      " Slip at which TDmax occurs = 0.079830908464\n",
      "\n",
      " Rotor speed at 1/2 rated torque = 1488.075 r/min\n",
      "\n",
      " Required rheostat resistance = 0.0627232651992 Ohm/phase\n",
      "\n",
      " Rated torque = 1423.16160282 lb-ft\n"
     ]
    }
   ],
   "source": [
    "# Example 5.11\n",
    "# Determine (a) Rotor frequency (b) Slip at which TDmax occurs (c) Rotor speed\n",
    "# at 1/2 rated torque load (d) Required rheostat resistance (e) Rated torque\n",
    "# Page No. 201\n",
    "# Given data\n",
    "from math import sqrt\n",
    "S=0.0159;                # Slip\n",
    "Fbr=50.;                  # Rated frequency\n",
    "R1=0.00536;              # Motor resistance\n",
    "R2=0.00613;\n",
    "X1=0.0383;               # Motor reactance\n",
    "X2=0.0383;\n",
    "Rrhe=0;                  # Initial rheostat resistance\n",
    "P=4.;                     # Number of poles\n",
    "NR=1000.;                 # Rated speed\n",
    "s1=0.0159;               # Slip of rheostat\n",
    "a=2.;                     # Stator to rotor turns ratio\n",
    "hp=400.;                  # Motor horsepower\n",
    "\n",
    "# (a) Rotor frequency\n",
    "fr=S*Fbr;\n",
    "\n",
    "# (b) Slip at which TDmax occurs\n",
    "Stdmax=(R2+Rrhe)/(sqrt(R1**2.+(X1+X2)**2.));\n",
    "\n",
    "# (c) Rotor speed at 1/2 rated torque load \n",
    "s=S*(0.5)*(R2/R2);  # Rotor speed at 1/2 rated torque\n",
    "ns=120.*Fbr/P;        \n",
    "nr=ns*(1.-s);         # Rotor speed\n",
    "\n",
    "# (d) Required rheostat resistance\n",
    "s2=(ns-NR)/ns;\n",
    "Rrhe2=((s2/s1)*(1./0.5)*(R2+Rrhe))-R2;  # rheostat resistance\n",
    "Rrheostat=Rrhe2/a**2.;\n",
    "\n",
    "# (e) Rated torque\n",
    "nr1=ns*(1.-s1);       # Rated speed\n",
    "T=hp*5252./nr1;\n",
    "\n",
    "\n",
    "\n",
    "# Display result on command window\n",
    "print\"\\n Rotor frequency =\",fr,\"Hz\"\n",
    "print\"\\n Slip at which TDmax occurs =\",Stdmax\n",
    "print\"\\n Rotor speed at 1/2 rated torque =\",nr,\"r/min\"\n",
    "print\"\\n Required rheostat resistance =\",Rrheostat,\"Ohm/phase\"\n",
    "print\"\\n Rated torque =\",T,\"lb-ft\""
   ]
  },
  {
   "cell_type": "markdown",
   "metadata": {},
   "source": [
    "## Example E12 : Pg 202"
   ]
  },
  {
   "cell_type": "code",
   "execution_count": 12,
   "metadata": {
    "collapsed": false
   },
   "outputs": [
    {
     "name": "stdout",
     "output_type": "stream",
     "text": [
      "\n",
      "Percent change in rotor circuit resistance = 77.7777777778 Percent increase\n"
     ]
    }
   ],
   "source": [
    "# Example 5.12\n",
    "# Determine the percent increase or decrease in rotor circuit resistance\n",
    "# Page No. 202\n",
    "# Given data\n",
    "Stdmax1=0.45;       # Maximum torque condition 1\n",
    "Stdmax2=0.80;       # Maximum torque condition 2\n",
    "# Percent increase or decrease in rotor circuit resistance\n",
    "PerCh=1/(Stdmax1/Stdmax2);\n",
    "PerCh=PerCh-1;\n",
    "# Display result on command window\n",
    "print\"\\nPercent change in rotor circuit resistance =\",PerCh*100,\"Percent increase\""
   ]
  },
  {
   "cell_type": "markdown",
   "metadata": {},
   "source": [
    "## Example E13 : Pg 208"
   ]
  },
  {
   "cell_type": "code",
   "execution_count": 13,
   "metadata": {
    "collapsed": false
   },
   "outputs": [
    {
     "name": "stdout",
     "output_type": "stream",
     "text": [
      "\n",
      " Lower limit of expected range of in-rush current = 1054.29179591 A\n",
      "\n",
      " Upper limit of expected range of in-rush current = 1186.0782704 A\n"
     ]
    }
   ],
   "source": [
    "# Example 5.13\n",
    "# Determine the expected in-rush current\n",
    "# Page No. 208\n",
    "# Given data\n",
    "from math import sqrt\n",
    "kva1=5.6;             # KVA/hp lower limit from table 5.9\n",
    "hp=150.;               # Motor horsepower\n",
    "Vline=460.;            # Line voltage\n",
    "kva2=6.3;             # KVA/hp upper limit from table 5.9\n",
    "# Expected in-rush current\n",
    "# Lower limit of expected range of in-rush current is\n",
    "Ilrss=(kva1*hp*1000)/(sqrt(3)*Vline);  \n",
    "# Upper limit of expected range of in-rush current is\n",
    "Iulss=(kva2*hp*1000)/(sqrt(3)*Vline);  \n",
    "# Display result on command window\n",
    "print\"\\n Lower limit of expected range of in-rush current =\",Ilrss,\"A\"\n",
    "print\"\\n Upper limit of expected range of in-rush current =\",Iulss,\"A\""
   ]
  },
  {
   "cell_type": "markdown",
   "metadata": {},
   "source": [
    "## Example E14 : Pg 211"
   ]
  },
  {
   "cell_type": "code",
   "execution_count": 14,
   "metadata": {
    "collapsed": false
   },
   "outputs": [
    {
     "name": "stdout",
     "output_type": "stream",
     "text": [
      "\n",
      "Percent voltage unbalance  = 2.58\n",
      "\n",
      "Expected approximate temperature rise  = 124.64408 deg C\n",
      "\n",
      " Expected insulation life = 7.2476842001 years\n",
      "\n",
      " Required derating of motor = 27.6 hp\n"
     ]
    }
   ],
   "source": [
    "# Example 5.14\n",
    "# Determine (a) Percent voltage unbalance (b) Expected approximate temp. rise\n",
    "# if operating at rated load in a 40 deg ambient (c) Expected insulation life \n",
    "# (d) Required derating of motor to prevent shortening isulation life.\n",
    "# Page No. 211\n",
    "# Given data\n",
    "from math import sqrt\n",
    "VL1=460.;                 # Line voltage 1\n",
    "VL2=455.;                 # Line voltage 2\n",
    "VL3=440.;                 # Line voltage 3 \n",
    "Trated=110.;              # Rated temp. (from table 5.8)\n",
    "hp=30.;                   # Motor horsepower\n",
    "\n",
    "# (a) Percent voltage unbalance \n",
    "Vavg=(VL1+VL2+VL3)/3.;        # Average line voltage\n",
    "\n",
    "#VD1=abs(VL1-Vavg);           # Voltage deviation from the average \n",
    "#VD2=abs(VL2-Vavg); \n",
    "#VD3=abs(VL3-Vavg); \n",
    "#VD=[VD1 VD2 VD3];          \n",
    "#VDMax=max(VD);               # Choose maximum value of voltage deviation\n",
    "PerUBV=2.58;#(VDMax/Vavg)*100;\n",
    "\n",
    "# (b) Expected approximate temp. rise if operating at rated load in a 40 deg\n",
    "PerDeltaT=2.*PerUBV**2.;        # Percent change in temp.\n",
    "Tubv=Trated*(1.+(PerDeltaT/100.));\n",
    "\n",
    "# (c) Expected insulation life \n",
    "DeltaT=Tubv-Trated;         # Percent increase in motor temp.\n",
    "RL=1./(2.**(DeltaT/10.));       # Relative life on insulation\n",
    "EL=RL*20;\n",
    "\n",
    "# (d) Required derating of motor to prevent shortening isulation life\n",
    "ReqDer=hp*0.92;\n",
    "\n",
    "# Display result on command window\n",
    "print\"\\nPercent voltage unbalance  =\",PerUBV\n",
    "print\"\\nExpected approximate temperature rise  =\",Tubv,\"deg C\"\n",
    "print\"\\n Expected insulation life =\",EL,\"years\"\n",
    "print\"\\n Required derating of motor =\",ReqDer,\"hp\""
   ]
  },
  {
   "cell_type": "markdown",
   "metadata": {},
   "source": [
    "## Example E15 : Pg 213"
   ]
  },
  {
   "cell_type": "code",
   "execution_count": 15,
   "metadata": {
    "collapsed": false
   },
   "outputs": [
    {
     "name": "stdout",
     "output_type": "stream",
     "text": [
      "\n",
      " Motor resistance 1 = 0.119131367292 Ohm\n",
      "\n",
      " Motor reactance 1 = 0.567292225201 Ohm\n",
      "\n",
      " Motor resistance 2 = 0.11345844504 Ohm\n",
      "\n",
      " Motor reactance 2 = 0.100978016086 Ohm\n",
      "\n",
      " Field resistance = 113.45844504 Ohm\n",
      "\n",
      " Reactance of motor = 20.8763538874 Ohm\n"
     ]
    }
   ],
   "source": [
    "# Example 5.15\n",
    "# Determine the machine parameters in ohms\n",
    "# Page No. 213\n",
    "# Given data\n",
    "from math import sqrt \n",
    "V=460.;             # Motor voltage\n",
    "hp=50.;             # Motor horsepower\n",
    "r1=0.021;          # Resistance\n",
    "r2=0.020;\n",
    "x1=0.100;          # Reactance\n",
    "x2=0.0178;\n",
    "rfe=20.;           \n",
    "Xm=3.68;           # Motor reactance\n",
    "\n",
    "# Machine parameters in ohms\n",
    "Vbase=V/sqrt(3.);         # Base voltage\n",
    "Pbase=hp*746./3.;          # Base power\n",
    "Zbase=Vbase**2./Pbase;     # Base impedance\n",
    "\n",
    "R1=r1*Zbase;\n",
    "X1=x1*Zbase;\n",
    "R2=r2*Zbase;\n",
    "X2=x2*Zbase;\n",
    "Rfe=rfe*Zbase;\n",
    "XM=Xm*Zbase;\n",
    "\n",
    "# Display result on command window\n",
    "print\"\\n Motor resistance 1 =\",R1,\"Ohm\"\n",
    "print\"\\n Motor reactance 1 =\",X1,\"Ohm\"\n",
    "print\"\\n Motor resistance 2 =\",R2,\"Ohm\"\n",
    "print\"\\n Motor reactance 2 =\",X2,\"Ohm\"\n",
    "print\"\\n Field resistance =\",Rfe,\"Ohm\"\n",
    "print\"\\n Reactance of motor =\",XM,\"Ohm\""
   ]
  },
  {
   "cell_type": "markdown",
   "metadata": {},
   "source": [
    "## Example E16 : Pg 218"
   ]
  },
  {
   "cell_type": "code",
   "execution_count": 16,
   "metadata": {
    "collapsed": false
   },
   "outputs": [
    {
     "name": "stdout",
     "output_type": "stream",
     "text": [
      "\n",
      " Motor resistance 1 = 0.101694915254 Ohm/phase\n",
      "\n",
      " Motor reactance 1 = 0.407379662436 Ohm/phase\n",
      "\n",
      " Motor resistance 2 =  0.153299139443 Ohm/phase\n",
      "\n",
      " Motor reactance 2 = 0.611069493654 Ohm/phase\n",
      "\n",
      " Reactance of motor = 7.58314688225 Ohm/phase\n",
      "\n",
      " Combined friction, windage and core loss = 1446.05864407 W/phase\n",
      "\n",
      " No-load current as a percent of rated current = 56.5743944637 Percent\n"
     ]
    }
   ],
   "source": [
    "# Example 5.16\n",
    "# Determine (a) R1, R2, X1, X2, XM and the combined core, friction and windage \n",
    "# loss (b) Express the no-load current as a percent of rated current\n",
    "# Page No. 218\n",
    "# Given data\n",
    "from math import sqrt\n",
    "P3ph=2573.4;                 # 3-ph power of induction motor\n",
    "Vline=36.2;                  # Line voltage\n",
    "Iline=58;                    # Line current\n",
    "P3phnl=4664.4;               # No load power\n",
    "Vlinenl=460.;                 # No load line volatge\n",
    "Ilinenl=32.7;                # No load line current\n",
    "Vdc=12.;                      # DC voltage\n",
    "Idc=59.;                      # DC current\n",
    "F1=60.;                       # Rated frequency\n",
    "F2=15.;                       # Test frequency\n",
    "Irated=57.8;                 # Rated current\n",
    " \n",
    "# (a) R1, R2, X1, X2, XM and the combined core, friction and windage loss\n",
    "Pbr15=P3ph/3.;                # Power/phase\n",
    "Vbr15=Vline/sqrt(3.);         # Voltage/phase\n",
    "Ibr15=Iline;\n",
    "PNL=P3phnl/3.;                # No load power/phase\n",
    "VNL=Vlinenl/sqrt(3.);         # No load voltage/phase\n",
    "INL=Ilinenl;                 # No load current/phase\n",
    "\n",
    "# Determination of R1\n",
    "Rdc=Vdc/Idc;\n",
    "R1=Rdc/2.;\n",
    "\n",
    "# Determination of R2\n",
    "Zbr15=Vbr15/Ibr15;          # Impedance\n",
    "Rbr15=Pbr15/Ibr15**2.;\n",
    "R2=Rbr15-R1;\n",
    "\n",
    "# Determination of X1 and X2\n",
    "Xbr15=sqrt(Zbr15**2.-Rbr15**2.);\n",
    "Xbr60=Xbr15*(F1/F2);\n",
    "X1=0.4*Xbr60;               # From Table 5.10\n",
    "X2=0.6*Xbr60;\n",
    "\n",
    "# Determination of XM\n",
    "SNL=VNL*INL;\n",
    "QNL=sqrt(SNL**2.-PNL**2.);\n",
    "XNL=QNL/INL**2.;\n",
    "XM=XNL-X1;\n",
    "\n",
    "# Determination of combined friction, windage and core loss\n",
    "Ploss=PNL-(INL**2.*R1);\n",
    "\n",
    "# (b) No-load current as a percent of rated current\n",
    "PerINL=INL*100./Irated;\n",
    "\n",
    "# Display result on command window\n",
    "print\"\\n Motor resistance 1 =\",R1,\"Ohm/phase\"\n",
    "print\"\\n Motor reactance 1 =\",X1,\"Ohm/phase\"\n",
    "print\"\\n Motor resistance 2 = \",R2,\"Ohm/phase\"\n",
    "print\"\\n Motor reactance 2 =\",X2,\"Ohm/phase\"\n",
    "print\"\\n Reactance of motor =\",XM,\"Ohm/phase\"\n",
    "print\"\\n Combined friction, windage and core loss =\",Ploss,\"W/phase\"\n",
    "print\"\\n No-load current as a percent of rated current =\",PerINL,\"Percent\""
   ]
  },
  {
   "cell_type": "markdown",
   "metadata": {},
   "source": [
    "## Example E17 : Pg 223"
   ]
  },
  {
   "cell_type": "code",
   "execution_count": 17,
   "metadata": {
    "collapsed": false
   },
   "outputs": [
    {
     "name": "stdout",
     "output_type": "stream",
     "text": [
      "Active power of the motor = -9232.86054488 W\n"
     ]
    }
   ],
   "source": [
    "# Example 5.17\n",
    "# Determine the active power that the motor, driven as an induction generator\n",
    "# delivers to the system.\n",
    "# Page No. 223\n",
    "# Given data\n",
    "from math import sqrt,pi,sin,cos\n",
    "ns=1200.;                # Speed\n",
    "nr=1215.;\n",
    "R1=0.200;               # Motor resistance\n",
    "R2=0.250;\n",
    "X1=1.20;                # Motor reactance\n",
    "X2=1.29;\n",
    "Rfe=317.;                # Field resistance\n",
    "XM=42.;                  # Motor reactance\n",
    "V=460.;                  # Voltage rating\n",
    "\n",
    "# Active power of the motor computation\n",
    "s=(ns-nr)/ns;            # Speed difference\n",
    "Z2=-20 + 1.29j;#(R2/s)+%i*X2;\n",
    "\n",
    "# Complex to Polar form...\n",
    "Z2_Mag=20.;#sqrt(real(Z2)**2+imag(Z2)**2);       # Magnitude part\n",
    "Z2_Ang =176.;#atan(imag(Z2),real(Z2))*180/%pi; # Angle part\n",
    "\n",
    "Z0_Num_Mag=Rfe*XM;   # Z0 numerator\n",
    "Z0_Num_Ang=0+90;  \n",
    "   \n",
    "Z0_Den_R=Rfe;       # Z0 denominator\n",
    "Z0_Den_I=XM;\n",
    "Z0_Den=317 + 42j;#Z0_Den_R+%i*Z0_Den_I;\n",
    "# Complex to Polar form...\n",
    "Z0_Den_Mag=320.;#sqrt(real(Z0_Den)**2+imag(Z0_Den)**2);       # Magnitude part\n",
    "Z0_Den_Ang =7.55;#atan(imag(Z0_Den),real(Z0_Den))*180/%pi; # Angle part\n",
    "\n",
    "Z0_Mag=Z0_Num_Mag/Z0_Den_Mag;            # Magnitude of Z0\n",
    "Z0_Ang=Z0_Num_Ang-Z0_Den_Ang;            # Angle of Z0\n",
    "\n",
    "# Polar to Complex form\n",
    "Z0_R=Z0_Mag*cos(-Z0_Ang*pi/180);       # Real part of complex number\n",
    "Z0_I=Z0_Mag*sin(Z0_Ang*pi/180);        # Imaginary part of complex number\n",
    "\n",
    "# ZP computation\n",
    "ZP_Num_Mag=Z2_Mag*Z0_Mag;              # ZP numerator magnitude\n",
    "ZP_Num_Ang=Z2_Ang+Z0_Ang;              # ZP numerator angle\n",
    "\n",
    "ZP_Den_R=-14.5;#real(Z2)+Z0_R;                # Real part of ZP denominator\n",
    "ZP_Den_I=42.6;#imag(Z2)+Z0_I; \n",
    "ZP_Den=-14.5 + 42.6j;#ZP_Den_R+%i*ZP_Den_I;           # ZP in complex form\n",
    "\n",
    "# Complex to Polar form...\n",
    "ZP_Den_Mag=45.;#sqrt(real(ZP_Den)**2+imag(ZP_Den)**2);       # Magnitude part\n",
    "ZP_Den_Ang =109.;# atan(imag(ZP_Den),real(ZP_Den))*180/%pi; # Angle part\n",
    "\n",
    "ZP_Mag=ZP_Num_Mag/ZP_Den_Mag;           # Final vlaue of ZP in polar form\n",
    "ZP_Ang=ZP_Num_Ang-ZP_Den_Ang;\n",
    "# Polar to Complex form\n",
    "ZP_R=ZP_Mag*cos(-ZP_Ang*pi/180);      # Real part of complex number\n",
    "ZP_I=ZP_Mag*sin(ZP_Ang*pi/180);       # Imaginary part of complex number\n",
    "\n",
    "# Zin computation\n",
    "ZP=-16.1 + 9.3j;#ZP_R+%i*ZP_I;                       # Parallel impedance\n",
    "Z1=0.2 + 1.2j;#R1+%i*X1;\n",
    "Zin=Z1+ZP;                             # Input impedance\n",
    "# Complex to Polar form...\n",
    "Zin_Mag=19.;#sqrt(real(Zin)**2+imag(Zin)**2);       # Magnitude part\n",
    "Zin_Ang =146.;#atan(imag(Zin),real(Zin))*180/%pi; # Angle part\n",
    "\n",
    "# I1 computation\n",
    "I1_Mag=(V/sqrt(3))/Zin_Mag;           # I1 magnitude\n",
    "I1_Ang=0-Zin_Ang;                     # I1 angle\n",
    "\n",
    "# S computation\n",
    "S_Mag=3*(V/sqrt(3))*I1_Mag;          # S magnitude\n",
    "S_Ang=0-(-Zin_Ang);                  # S angle\n",
    "\n",
    "# Polar to Complex form\n",
    "S_R=S_Mag*cos(-S_Ang*pi/180);       # Real part of complex number\n",
    "S_I=S_Mag*sin(S_Ang*pi/180);        # Imaginary part of complex number\n",
    "\n",
    "# Display result on command window\n",
    "print\"Active power of the motor =\",S_R,\"W\""
   ]
  },
  {
   "cell_type": "markdown",
   "metadata": {},
   "source": [
    "## Example E18 : Pg 231"
   ]
  },
  {
   "cell_type": "code",
   "execution_count": 18,
   "metadata": {
    "collapsed": false
   },
   "outputs": [
    {
     "name": "stdout",
     "output_type": "stream",
     "text": [
      "\n",
      "Locked rotor torque = 719.215600351 lb-ft\n",
      "\n",
      "Expected average in-rush current = 1051.15402271 A\n",
      "\n",
      "Locked rotor torque when motor is started at reduced voltage = 303.868591148 lb-ft\n",
      "\n",
      "In-rush line current = 443.95 A\n"
     ]
    }
   ],
   "source": [
    "# Example 5.18\n",
    "# Computation of (a) Locked rotor torque and the expected average in rush \n",
    "# current (b) Repeat part (a) assuming motor is started at reduced voltage \n",
    "# with 65% tap (c) In rush line current line current when starting at reduced \n",
    "# voltage\n",
    "# Page No. 231\n",
    "# Given data\n",
    "from math import sqrt\n",
    "P=125.;                 # Rated Voltage\n",
    "n=1141.;                # Speed of machine\n",
    "hp=125.;                # Horsepower rating of device \n",
    "Vline=460.;             # Line voltage\n",
    "ns=1200.;               # Stator speed\n",
    "s=0.125;               # Slip\n",
    "ILS=683.;               # Current at low side\n",
    "# (a) Locked rotor torque and the expected average in rush current\n",
    "Trated=P*5252./(n);                 # Rated torque\n",
    "Tlr=1.25*Trated;                   # Locked rotor torque\n",
    "kVA=(6.3+7.1)/2.;\n",
    "Ilr=(kVA*1000.*hp)/(Vline*sqrt(3.)); # In-rush current\n",
    "# (b) Locked rotor torque and the expected average in rush current when motor \n",
    "# is started at reduced voltage\n",
    "V2=0.65*Vline;                    # Voltage impressed across the stator\n",
    "I=Ilr*0.65;                       # Average in-rush current\n",
    "T2=Tlr*(V2/Vline)**2.;              # Locked rotor toreque\n",
    "nr=ns*(1.-s);\n",
    "# (c) In rush line current line current when starting at reduced voltage\n",
    "a=1./0.65;                         # Bank ratio of autotransformer\n",
    "IHS=ILS/a;\n",
    "# Display result on command window\n",
    "print\"\\nLocked rotor torque =\",Tlr,\"lb-ft\"\n",
    "print\"\\nExpected average in-rush current =\",Ilr,\"A\"\n",
    "print\"\\nLocked rotor torque when motor is started at reduced voltage =\",T2,\"lb-ft\"\n",
    "print\"\\nIn-rush line current =\",IHS,\"A\""
   ]
  },
  {
   "cell_type": "markdown",
   "metadata": {},
   "source": [
    "## Example E19 : Pg 233"
   ]
  },
  {
   "cell_type": "code",
   "execution_count": 19,
   "metadata": {
    "collapsed": false
   },
   "outputs": [
    {
     "name": "stdout",
     "output_type": "stream",
     "text": [
      "\n",
      " Locked rotor current per phase = 485.523078295 A\n",
      "\n",
      " Minimum locked rotor torque = 84.032 lb-ft\n",
      "\n",
      " Locked rotor current per phase when motor is delta connected = 1456.56923488 A\n",
      "\n",
      " Code letter = 19.3418647166\n"
     ]
    }
   ],
   "source": [
    "# Example 5.19\n",
    "# Computation of (a) Locked rotor current per phase and minimum locked rotor \n",
    "# torque when starting (b) Locked rotor current per phase when motor is delta \n",
    "# connected (c) Code letter \n",
    "# Page No.233\n",
    "# Given data\n",
    "from math import sqrt\n",
    "V=460.;                 # Rated Voltage\n",
    "Z=0.547;               # Locked rotor impedance\n",
    "n=1750.;                # Speed of machine\n",
    "hp=60.;                 # Horsepower rating of device\n",
    "f=60.;                  # Frequency of motor \n",
    "# (a) Locked rotor current per phase and minimum locked rotor torque \n",
    "Vphase=V/sqrt(3.);        # Voltage/phase\n",
    "Ilr1=Vphase/Z;            # Locked rotor current/phase\n",
    "Trated=hp*5252./(n);      # Rated torque\n",
    "Tlr=1.4*Trated;          # Locked rotor torque\n",
    "T2=Tlr*(Vphase/V)**2.;\n",
    "# (b) Locked rotor current per phase when motor is delta connected \n",
    "Ilr=V/Z;                 # Locked rotor current/phase\n",
    "Il=Ilr*sqrt(3.);          # Line current\n",
    "# (c) Code letter\n",
    "Slr=sqrt(3.)*V*Il/1000.;   # Code letter at rated voltage\n",
    "kVA=Slr/f;\n",
    "# Display result on command window\n",
    "print\"\\n Locked rotor current per phase =\",Ilr1,\"A\"\n",
    "print\"\\n Minimum locked rotor torque =\",T2,\"lb-ft\"\n",
    "print\"\\n Locked rotor current per phase when motor is delta connected =\",Il,\"A\"\n",
    "print\"\\n Code letter =\",kVA"
   ]
  },
  {
   "cell_type": "markdown",
   "metadata": {},
   "source": [
    "## Example E20 : Pg 235"
   ]
  },
  {
   "cell_type": "code",
   "execution_count": 20,
   "metadata": {
    "collapsed": false
   },
   "outputs": [
    {
     "name": "stdout",
     "output_type": "stream",
     "text": [
      "\n",
      "Resistance of the resistors required = 0.409208864143 Ohm\n",
      "\n",
      "Stator voltage per phase at locked rotor = 63.882 V\n",
      "\n",
      "Expected minimum locked rotor torque = 1.5 Trated\n"
     ]
    }
   ],
   "source": [
    "# Example 5.20\n",
    "# Computation of (a) Resistance of the resistors required to limit the locked \n",
    "# rotor current to 3 times rated current (b) Stator voltage per phase at \n",
    "# locked rotor (c) Expected minimum locked rotor torque when starting as a \n",
    "# percent of rated torque\n",
    "# Page No. 235\n",
    "# Given data\n",
    "from math import sqrt\n",
    "Ilr=3.*78.;                 # Locked rotor current\n",
    "Vbranch=132.79;           # Branch voltage\n",
    "Rlr=0.2549;               #Locked rotor resistance\n",
    "Xlr=0.0978;               #Locked rotor impedance\n",
    "f=60.;                     #Frequency of motor \n",
    "Zlr=0.273;\n",
    "\n",
    "# (a) Resistance of the resistors required to limit the locked rotor current \n",
    "# to 3 times rated current\n",
    "Rex=sqrt((Vbranch**2./Ilr**2.)-(Rlr**2.))-Xlr;\n",
    "\n",
    "# (b) Stator voltage per phase at locked rotor \n",
    "IZlr=Ilr*Zlr;\n",
    "VT1_N=IZlr;\n",
    "\n",
    "# (c) Expected minimum locked rotor torque when starting as a percent of \n",
    "# rated torque\n",
    "# From table 5.1 --> Minimum locked rotor torque = 150% rated torque\n",
    "\n",
    "# Display result on command window\n",
    "\n",
    "print\"\\nResistance of the resistors required =\",Rex,\"Ohm\"\n",
    "print\"\\nStator voltage per phase at locked rotor =\",VT1_N,\"V\"\n",
    "print'\\nExpected minimum locked rotor torque = 1.5 Trated'"
   ]
  },
  {
   "cell_type": "markdown",
   "metadata": {},
   "source": [
    "## Example E21 : Pg 236"
   ]
  },
  {
   "cell_type": "code",
   "execution_count": 21,
   "metadata": {
    "collapsed": false
   },
   "outputs": [
    {
     "name": "stdout",
     "output_type": "stream",
     "text": [
      "\n",
      "The inductance of each series connected inductor = 4.44444609821 mH\n",
      "\n",
      "The voltage rating of each series connected inductor = 80.4248018577 V\n"
     ]
    }
   ],
   "source": [
    "# Example 5.21\n",
    "# Computation of Inductance and voltage rating of each series connected \n",
    "# inductor required to limit the starting current to approximately 2*Irated. \n",
    "# Page No. 236\n",
    "# Given data\n",
    "from math import sqrt,pi\n",
    "KVA=6.7;                    # Average locked rotor KVA/hp\n",
    "hp=7.5;                     # Motor horsepower\n",
    "Vline=208.;                  # Line voltage\n",
    "I=48.;                       # Total current\n",
    "Rlr=0.294;                  # Locked rotor resistance\n",
    "Xlr=0.809;                  # Locked rotor impedance\n",
    "f=60.;                       # Frequency of motor\n",
    "\n",
    "# Corresponding approximate load current\n",
    "Ilr=KVA*1000.*hp/(sqrt(3.)*Vline);      \n",
    "Vphase=Vline/sqrt(3.);            # Voltage/phase\n",
    "\n",
    "# Applying ohm's law to one phase\n",
    "Zlr=Vphase/Ilr;               # Impedance\n",
    "Xex=sqrt((Vphase**2./I**2.)-(Rlr**2.))-Xlr;\n",
    "L=Xex/(2.*pi*f);\n",
    "L=L*10.**03;\n",
    "VXl=I*Xex;\n",
    "\n",
    "# Display result on command window\n",
    "print\"\\nThe inductance of each series connected inductor =\",L,\"mH\"\n",
    "print\"\\nThe voltage rating of each series connected inductor =\",VXl,\"V\""
   ]
  }
 ],
 "metadata": {
  "anaconda-cloud": {},
  "kernelspec": {
   "display_name": "Python [Root]",
   "language": "python",
   "name": "Python [Root]"
  },
  "language_info": {
   "codemirror_mode": {
    "name": "ipython",
    "version": 2
   },
   "file_extension": ".py",
   "mimetype": "text/x-python",
   "name": "python",
   "nbconvert_exporter": "python",
   "pygments_lexer": "ipython2",
   "version": "2.7.12"
  }
 },
 "nbformat": 4,
 "nbformat_minor": 0
}
