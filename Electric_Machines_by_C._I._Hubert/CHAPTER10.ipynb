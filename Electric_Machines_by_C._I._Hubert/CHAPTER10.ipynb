{
 "cells": [
  {
   "cell_type": "markdown",
   "metadata": {},
   "source": [
    "# CHAPTER10 : PRINCIPLES OF DIRECT CURRENT MACHINES"
   ]
  },
  {
   "cell_type": "markdown",
   "metadata": {},
   "source": [
    "## Example E01 : Pg 394"
   ]
  },
  {
   "cell_type": "code",
   "execution_count": 1,
   "metadata": {
    "collapsed": false
   },
   "outputs": [
    {
     "name": "stdout",
     "output_type": "stream",
     "text": [
      "Induced emf = 205.2 V\n",
      "Frequency of the rectangular voltage wave = 44.25 Hz\n"
     ]
    }
   ],
   "source": [
    "#  Example 10.1\n",
    "#  Computation of (a) Induced emf (b) Frequency of the rectangular voltage \n",
    "#  wave in the armature winding\n",
    "#  Page No. 394\n",
    "#  Given data\n",
    "E1=136.8;               #  Generated emf\n",
    "P=6.;                    #  Number of poles\n",
    "n=1180.;                 #  Operating speed of machine\n",
    "\n",
    "#  (a) Induced emf \n",
    "\n",
    "E2=E1*0.75*2.;\n",
    "\n",
    "#  (b) Frequency of the rectangular voltage wave in the armature winding\n",
    "\n",
    "f=P*n*0.75/120.;\n",
    "\n",
    "# Display result on command window\n",
    "print\"Induced emf =\",E2,\"V\"\n",
    "print\"Frequency of the rectangular voltage wave =\",f,\"Hz\""
   ]
  },
  {
   "cell_type": "markdown",
   "metadata": {},
   "source": [
    "## Example E02 : Pg 399"
   ]
  },
  {
   "cell_type": "code",
   "execution_count": 2,
   "metadata": {
    "collapsed": false
   },
   "outputs": [
    {
     "name": "stdout",
     "output_type": "stream",
     "text": [
      "Rheostat setting to obtain an induced emf of 290 V = 16.5662921348\n"
     ]
    }
   ],
   "source": [
    "#  Example 10.2\n",
    "#  Computation of rheostat setting required to obtain an induced emf of 290 V\n",
    "#  Page No. 399\n",
    "#  Given data\n",
    "Ebat=240.;               #  Induced emf\n",
    "If=8.9;                 #  Field current\n",
    "Rf=10.4;                #  Field resistance\n",
    "\n",
    "#  Rheostat setting required to obtain an induced emf of 290 V\n",
    "\n",
    "Rrheo=(Ebat/If)-Rf;\n",
    "\n",
    "#  Display result on command window\n",
    "print\"Rheostat setting to obtain an induced emf of 290 V =\",Rrheo"
   ]
  },
  {
   "cell_type": "markdown",
   "metadata": {},
   "source": [
    "## Example E03 : Pg 401"
   ]
  },
  {
   "cell_type": "code",
   "execution_count": 3,
   "metadata": {
    "collapsed": false
   },
   "outputs": [
    {
     "name": "stdout",
     "output_type": "stream",
     "text": [
      "No-load voltage if the voltage regulation is 2.3 percent = 245.52 V\n"
     ]
    }
   ],
   "source": [
    "#  Example 10.3\n",
    "#  Computation of no-load voltage if the voltage regulation is 2.3 percent\n",
    "#  Page No. 401\n",
    "#  Given data\n",
    "Vrated=240.;               #  Rated voltage\n",
    "VR=0.023;                 #  Voltage regulation\n",
    "\n",
    "\n",
    "#  No-load voltage if the voltage regulation is 2.3 percent\n",
    "\n",
    "Vnl=Vrated*(1.+VR);\n",
    "\n",
    "#  Display result on command window\n",
    "print\"No-load voltage if the voltage regulation is 2.3 percent =\",Vnl,\"V\""
   ]
  },
  {
   "cell_type": "markdown",
   "metadata": {},
   "source": [
    "## Example E04 : Pg 405"
   ]
  },
  {
   "cell_type": "code",
   "execution_count": 4,
   "metadata": {
    "collapsed": false
   },
   "outputs": [
    {
     "name": "stdout",
     "output_type": "stream",
     "text": [
      "Percentage reduction in field flux = -47.4191394394 Percent\n"
     ]
    }
   ],
   "source": [
    "#  Example 10.4\n",
    "#  Computation of percentage reduction in field flux required to obtain a \n",
    "#  speed of 1650 r/min while drawing an armature current of 50.4 A.\n",
    "#  Page No. 405\n",
    "#  Given data\n",
    "VT=240.;               #  Induced emf\n",
    "R=95.2;               #  Shunt field resistance\n",
    "IT=72.;                #  Total current\n",
    "Ra=0.242;             #  Armature resistance\n",
    "Ia2=50.4;             #  Armature current\n",
    "n1=850.;               #  Rated speed of shunt motor\n",
    "n2=1650.;              #  Speed of armature winding\n",
    "\n",
    "\n",
    "#  Percentage reduction in field flux\n",
    "\n",
    "If1=VT/R;             #  Field current\n",
    "Ia1=IT-If1;           #  Armature current\n",
    "Ea1=VT-Ia1*Ra;        #  Armature emf\n",
    "Ea2=VT-Ia2*Ra;\n",
    "phip2=(n1/n2)*(Ea2/Ea1);\n",
    "PerRed=(phip2-1.)*100.;\n",
    "\n",
    "\n",
    "\n",
    "#  Display result on command window\n",
    "print\"Percentage reduction in field flux =\",PerRed,\"Percent\""
   ]
  },
  {
   "cell_type": "markdown",
   "metadata": {},
   "source": [
    "## Example E05 : Pg 408"
   ]
  },
  {
   "cell_type": "code",
   "execution_count": 5,
   "metadata": {
    "collapsed": false
   },
   "outputs": [
    {
     "name": "stdout",
     "output_type": "stream",
     "text": [
      "No-load speed = 1820.0 r/min\n"
     ]
    }
   ],
   "source": [
    "#  Example 10.5\n",
    "#  Computation of no-load speed\n",
    "#  Page No. 408\n",
    "#  Given data\n",
    "nrated=1750.;               #  Rated speed\n",
    "SR=4.;                      #  Speed regulation\n",
    "#  No-load speed\n",
    "Snl=nrated*(1+SR/100);\n",
    "#  Display result on command window\n",
    "print\"No-load speed =\",Snl,\"r/min\""
   ]
  },
  {
   "cell_type": "markdown",
   "metadata": {},
   "source": [
    "## Example E06 : Pg 418"
   ]
  },
  {
   "cell_type": "code",
   "execution_count": 6,
   "metadata": {
    "collapsed": false
   },
   "outputs": [
    {
     "name": "stdout",
     "output_type": "stream",
     "text": [
      "Induced emf = 265.0 V\n"
     ]
    }
   ],
   "source": [
    "#  Example 10.6\n",
    "#  Computation of Induced emf\n",
    "#  Page No. 418\n",
    "#  Given data\n",
    "P=25000.;               #  Power of the generator\n",
    "VT=250.;                #  Rated voltade of the machine\n",
    "Ra=0.1053;             #  Armature resistance\n",
    "Rip=0.0306;            #  Resistance of interpolar winding\n",
    "Rcw=0.0141;            #  Resistance of compensating windings\n",
    "#  Induced emf\n",
    "Ia=P/VT;               #  Armature current\n",
    "Racir=Ra+Rip+Rcw;      #  Resistance of armature circuit\n",
    "Ea=VT+Ia*Racir;        #  Induced emf\n",
    "#  Display result on command window\n",
    "print\"Induced emf =\",Ea,\"V\""
   ]
  },
  {
   "cell_type": "markdown",
   "metadata": {},
   "source": [
    "## Example E07 : Pg 418"
   ]
  },
  {
   "cell_type": "code",
   "execution_count": 7,
   "metadata": {
    "collapsed": false
   },
   "outputs": [
    {
     "name": "stdout",
     "output_type": "stream",
     "text": [
      "Induced emf = 460.029864137 V\n"
     ]
    }
   ],
   "source": [
    "#  Example 10.7\n",
    "#  Computation of cemf\n",
    "#  Page No. 418\n",
    "#  Given data\n",
    "Rf=408.5;               #  Field resistance \n",
    "VT=500.;                 #  Rated voltade of the machine\n",
    "IT=51.0;                #  Total current\n",
    "Ra=0.602;               #  Armature resistance\n",
    "Ripcw=0.201;            #  Resistance of interpolar winding and compensating windings\n",
    "\n",
    "#  Induced emf\n",
    "If=VT/Rf;             #  Current\n",
    "Ia=IT-If;             #  Armature current\n",
    "Racir=Ra+Ripcw;       #  Resistance of armature circuit\n",
    "Ea=VT-Ia*Racir;      \n",
    "\n",
    "\n",
    "#  Display result on command window\n",
    "print\"Induced emf =\",Ea,\"V\""
   ]
  },
  {
   "cell_type": "markdown",
   "metadata": {},
   "source": [
    "## Example E08 : Pg 420"
   ]
  },
  {
   "cell_type": "code",
   "execution_count": 8,
   "metadata": {
    "collapsed": false
   },
   "outputs": [
    {
     "name": "stdout",
     "output_type": "stream",
     "text": [
      "New armature current = 32.0453177866 A\n"
     ]
    }
   ],
   "source": [
    "#  Example 10.8\n",
    "#  Computation of new armature current\n",
    "#  Page No. 420\n",
    "#  Given data\n",
    "Rf=120.;                #  Resistance of inserted resistor\n",
    "VT=240.;                #  Rated voltade of the machine\n",
    "IT=91.;                 #  Total current\n",
    "Racir=0.221;           #  Armature sircuit resistance\n",
    "n2=634.;                #  New speed after resistor was inserted\n",
    "n1=850.;                #  Rated speed OF THE MACHINE\n",
    "Rx=2.14;               #  Resistance inserted in series witH armature\n",
    "\n",
    "#  New armature current\n",
    "\n",
    "If=VT/Rf;           #  Resistor current\n",
    "Ia1=IT-If;          #  Armature current\n",
    "Ia2=(VT-(n2/n1)*(VT-Ia1*Racir))/(Racir+Rx);\n",
    "\n",
    "\n",
    "#  Display result on command window\n",
    "print\"New armature current =\",Ia2,\"A\""
   ]
  },
  {
   "cell_type": "markdown",
   "metadata": {},
   "source": [
    "## Example E09 : Pg 421"
   ]
  },
  {
   "cell_type": "code",
   "execution_count": 9,
   "metadata": {
    "collapsed": false
   },
   "outputs": [
    {
     "name": "stdout",
     "output_type": "stream",
     "text": [
      "Steady state armature current = 24.0 A\n",
      "Steady state speed = 3045.70319393 r/min\n"
     ]
    }
   ],
   "source": [
    "#  Example 10.9\n",
    "#  Computation of (a) Steady state armature current if a rheostat in the \n",
    "#  shunt field circuit reduces flux in air gap to 75% of its rated value \n",
    "#  (b) Steady state speed for the conditions in (a)\n",
    "#  Page No. 421\n",
    "#  Given data\n",
    "Rf=160.;               #  Field resistance\n",
    "VT=240.;               #  Rated voltade of the machine\n",
    "IT=37.5;              #  Total current\n",
    "Ra=0.213;             #  Armature resistance\n",
    "Rip=0.092;            #  Resistance of interpolar winding\n",
    "Rcw=0.065;            #  Resistance of compensating windings\n",
    "n1=2500.;              #  Rated speed of the machine\n",
    "\n",
    "\n",
    "#  (a) At rated conditions\n",
    "\n",
    "If=VT/Rf;               #  Field current\n",
    "Ia1=IT-If;              #  Armature current\n",
    "Ia2=Ia1*0.50*1./0.75;\n",
    "\n",
    "#  (b) steady state speed for the above mentioned conditions\n",
    "\n",
    "Racir=Ra+Rip+Rcw;\n",
    "\n",
    "n2=n1*(VT-(Ia2*(1.+Racir)))/0.75*(1./(VT-(Ia1*Racir)));\n",
    "\n",
    "\n",
    "#  Display result on command window\n",
    "\n",
    "print\"Steady state armature current =\",Ia2,\"A\"\n",
    "print\"Steady state speed =\",n2,\"r/min\""
   ]
  },
  {
   "cell_type": "markdown",
   "metadata": {},
   "source": [
    "## Example E10 : Pg 427"
   ]
  },
  {
   "cell_type": "code",
   "execution_count": 10,
   "metadata": {
    "collapsed": false
   },
   "outputs": [
    {
     "name": "stdout",
     "output_type": "stream",
     "text": [
      "Mechanical power developed= 31345.5180615 %0.0f W  31345.5180615\n",
      "Mechanical power developed= 42.0181207258 hp  42.0181207258\n",
      "Torque developed = 88.2689788611 lb-ft \n",
      "Shaft torque = 84.032 lb-ft \n"
     ]
    }
   ],
   "source": [
    "#  Example 10.10\n",
    "#  Computation of (a) Mechanical power developed (b) Torque developed \n",
    "#  (c) Shaft torque\n",
    "#  Page No.427\n",
    "#  Given data\n",
    "T=40.;                  #  Hp rating of motor\n",
    "Rf=95.3;               #  Field resistance\n",
    "VT=240.;                #  Rated voltade of the machine\n",
    "IT=140.;                #  Total current\n",
    "Racir=0.0873;          #  Armature circuit resistance\n",
    "n=2500.;                #  Rated speed of the machine\n",
    "\n",
    "\n",
    "#  (a) The mechanical power developed\n",
    "\n",
    "If=VT/Rf;               #  Field winding current\n",
    "Ia1=IT-If;              #  Armature current\n",
    "Ea=VT-Ia1*Racir;        #  Armature emf\n",
    "Pmech=Ea*Ia1;           #  Mechanical power\n",
    "Pmechhp=Ea*Ia1/746.;\n",
    "\n",
    "#  (b) Torque developed\n",
    "\n",
    "TD=7.04*Ea*Ia1/n;\n",
    "\n",
    "#  (c) Shaft torque\n",
    "\n",
    "Tshaft=T*5252./n;\n",
    "\n",
    "#  Display result on command window\n",
    "print\"Mechanical power developed=\",Pmech,\"%0.0f W \",Pmech\n",
    "print\"Mechanical power developed=\",Pmechhp,\"hp \",Pmechhp\n",
    "print\"Torque developed =\",TD,\"lb-ft \"\n",
    "print\"Shaft torque =\",Tshaft,\"lb-ft \""
   ]
  },
  {
   "cell_type": "markdown",
   "metadata": {},
   "source": [
    "## Example E11 : Pg 430"
   ]
  },
  {
   "cell_type": "code",
   "execution_count": 11,
   "metadata": {
    "collapsed": false
   },
   "outputs": [
    {
     "name": "stdout",
     "output_type": "stream",
     "text": [
      "Electrical losses = 4755.35625 W\n",
      "Rotational losses = 3540.64375 W\n",
      "Efficiency = 91.7698412698 Percent\n"
     ]
    }
   ],
   "source": [
    "#  Example 10.11\n",
    "#  Determine (a) Electrical losses (b) Rotational losses (c) Efficiency\n",
    "#  Page No. 430\n",
    "#  Given data\n",
    "T=124.;                    #  Hp rating of motor\n",
    "Rf=32.0;                  #  Field resistance\n",
    "VT=240.;                   #  Rated voltade of the machine\n",
    "IT=420.;                   #  Total current\n",
    "Ra=0.00872;               #  Armature resistance\n",
    "RipRcw=0.0038;            #  Resistance of interpolar winding and compensating windings\n",
    "Pout=92504.;\n",
    "Vb=2.0;                   #  Rated speed of the machine\n",
    "Racir=Ra+RipRcw;\n",
    "\n",
    "#  (a) Electrical losses \n",
    "\n",
    "If=VT/Rf;                  #  Field current\n",
    "Ia=IT-If;                  #  Armature current\n",
    "Pf=If**2.*Rf;                #  Field power\n",
    "Paipcw=Ia**2.*(Ra+RipRcw);\n",
    "Pb=Vb*Ia;                  #  Brush loss power\n",
    "Plosses=Pf+Paipcw+Pb;      #  Total power loss\n",
    "\n",
    "#  (b) Rotational losses\n",
    "\n",
    "Ea=VT-(Ia*Racir)-Vb;         #  Armature emf      \n",
    "Pmech=Ea*Ia;               #  Mechanical power\n",
    "Pshaft=T*746.;              #  Shaft power \n",
    "Protational=Pmech-Pshaft;\n",
    "\n",
    "#  (c) Ffficiency\n",
    "\n",
    "eeta=Pout/(VT*IT)*100.;\n",
    "\n",
    "#  Display result on command window\n",
    "\n",
    "print\"Electrical losses =\",Plosses,\"W\"\n",
    "print\"Rotational losses =\",Protational,\"W\"\n",
    "print\"Efficiency =\",eeta,\"Percent\""
   ]
  },
  {
   "cell_type": "markdown",
   "metadata": {},
   "source": [
    "## Example E12 : Pg 433"
   ]
  },
  {
   "cell_type": "code",
   "execution_count": 12,
   "metadata": {
    "collapsed": false
   },
   "outputs": [
    {
     "name": "stdout",
     "output_type": "stream",
     "text": [
      "Rated torque = 45.0171428571 lb-ft \n",
      "Armature current = 821.428571429 A\n",
      "Armature current for 200 percent rated torque = 109.042335766  %0.1f A \n",
      "External resistance required = 1.82927249846  %0.2f Ohm \n",
      "Locked rotor torque = 78.6736267891 lb-ft \n"
     ]
    }
   ],
   "source": [
    "#  Example 10.12\n",
    "#  Determine (a) Rated torque (b) Armature current at locked rotor if no\n",
    "#  starting resistance is used (c) External resistance required in the armature\n",
    "#  circuit that would limit the current and develop 200 percent rated torque\n",
    "#  when starting (d) Assuming the system voltage drops to 215V, determine the \n",
    "#  locked rotor torque using the external resistor in (c)\n",
    "#  Page No. 433\n",
    "#  Given data\n",
    "n=1750.;                   #  Rotor speed\n",
    "P=15.;                     #  Hp rating of motor\n",
    "VT=230.;                   #  Rated voltade of the machine\n",
    "Ea=0;\n",
    "Racir=0.280;              #  Armature circuit loss\n",
    "Rf=137.;                   #  Field resistance\n",
    "ItRated=56.2;             #  Total current drawn\n",
    "VT1=215.;                  #  Rated voltage after drop\n",
    "\n",
    "#  (a) Rated torque\n",
    "Trated=P*5252./n;\n",
    "\n",
    "#  (b) Armature current\n",
    "Ia=(VT-Ea)/Racir; \n",
    "\n",
    "#  (c) External resistance required\n",
    "If=VT/Rf;                      #  Field current\n",
    "IaRated=ItRated-If;            #  Rated armature current\n",
    "\n",
    "Ia2=IaRated*2.;                 #  Armature current for 200% rated torque\n",
    "\n",
    "Rx=((VT-Ea)/Ia2)-Racir;        #  External resistance required\n",
    "\n",
    "#  (d) Locked rotor torque \n",
    "If215=VT1/Rf;                  #  Field current at 215V\n",
    "Ia215=(VT1-Ea)/(Racir+Rx);     #  Armature current at 215V\n",
    "TD2=Trated*( (If215*Ia215) / (If*IaRated) );\n",
    "\n",
    "#  Display result on command window\n",
    "\n",
    "print\"Rated torque =\",Trated,\"lb-ft \"\n",
    "print\"Armature current =\",Ia,\"A\"\n",
    "print\"Armature current for 200 percent rated torque =\",Ia2,\" %0.1f A \"\n",
    "print\"External resistance required =\",Rx,\" %0.2f Ohm \"\n",
    "print\"Locked rotor torque =\",TD2,\"lb-ft \""
   ]
  }
 ],
 "metadata": {
  "anaconda-cloud": {},
  "kernelspec": {
   "display_name": "Python [Root]",
   "language": "python",
   "name": "Python [Root]"
  },
  "language_info": {
   "codemirror_mode": {
    "name": "ipython",
    "version": 2
   },
   "file_extension": ".py",
   "mimetype": "text/x-python",
   "name": "python",
   "nbconvert_exporter": "python",
   "pygments_lexer": "ipython2",
   "version": "2.7.12"
  }
 },
 "nbformat": 4,
 "nbformat_minor": 0
}
