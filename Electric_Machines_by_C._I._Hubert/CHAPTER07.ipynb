{
 "cells": [
  {
   "cell_type": "markdown",
   "metadata": {},
   "source": [
    "# CHAPTER07 : SPECIALITY MACHINES "
   ]
  },
  {
   "cell_type": "markdown",
   "metadata": {},
   "source": [
    "## Example E01 : Pg 282"
   ]
  },
  {
   "cell_type": "code",
   "execution_count": 1,
   "metadata": {
    "collapsed": false
   },
   "outputs": [
    {
     "name": "stdout",
     "output_type": "stream",
     "text": [
      "\n",
      " Torque load on the shaft = 29.1777777778 lb-ft \n",
      "\n",
      " Torque angle if the voltage drops to 224V = 41.9 deg\n",
      "\n",
      " Because torque angle is less than 45 degree, \n",
      " the rotor will not pull out of synchronism \n"
     ]
    }
   ],
   "source": [
    "# Example 7.1\n",
    "# Determine (a) Torque load on the shaft (b) Torque angle if the voltage \n",
    "# drops to 224V (c) Will the rotor pull out of synchronism?\n",
    "# Page No. 282\n",
    "# Given data\n",
    "f=60.;                 # Frequency\n",
    "P=4.;                  # Number of poles\n",
    "Pshaft=10.;            # Shaft power in hp\n",
    "V1=240.;               # Rated voltage\n",
    "V2=224.;               # New voltage\n",
    "phirel1=30.;           # Torque angle\n",
    "# (a) Torque load on the shaft\n",
    "ns=120.*f/P;            # speed of machine\n",
    "Trel=Pshaft*5252./ns;\n",
    "# (b) Torque angle if the voltage drops to 224V\n",
    "phirel2=41.9;#asind((V1**2./V2**2.)*sind(2.*phirel1))/2.\n",
    "# Display result on command window\n",
    "print\"\\n Torque load on the shaft =\",Trel,\"lb-ft \"\n",
    "print\"\\n Torque angle if the voltage drops to 224V =\",phirel2,\"deg\"\n",
    "print\"\\n Because torque angle is less than 45 degree, \\n the rotor will not pull out of synchronism \""
   ]
  },
  {
   "cell_type": "markdown",
   "metadata": {},
   "source": [
    "## Example E02 : Pg 287"
   ]
  },
  {
   "cell_type": "code",
   "execution_count": 2,
   "metadata": {
    "collapsed": false
   },
   "outputs": [
    {
     "name": "stdout",
     "output_type": "stream",
     "text": [
      "\n",
      " Resolution = 180.0\n",
      "\n",
      " Number of steps required for the rotor to make 20.6 revolutions = 3708.0\n",
      "\n",
      " Shaft speed if the stepping frequency is 1800 pulses/s = 10.0 r/s\n"
     ]
    }
   ],
   "source": [
    "# Example 7.2\n",
    "# Determine (a) Resolution (b) Number of steps required for the rotor to make \n",
    "# 20.6 revolutions (c) Shaft speed if the stepping frequency is 1800 pulses/s\n",
    "# Page No. 287\n",
    "# Given data\n",
    "betaa=2.;               # Step angle\n",
    "theta=20.6;            # Number of revolutions\n",
    "fp=1800.;               # Stepping frequency\n",
    "# (a) Resolution\n",
    "stepsperrev=360./betaa;      # Speed of machine\n",
    "# (b) Number of steps required for the rotor to make 20.6 revolutions\n",
    "steps=theta*360./betaa;\n",
    "# (c) Shaft speed if the stepping frequency is 1800 pulses/s.\n",
    "n=betaa*fp/360.;\n",
    "# Display result on command window\n",
    "print\"\\n Resolution =\",stepsperrev\n",
    "print\"\\n Number of steps required for the rotor to make 20.6 revolutions =\",steps\n",
    "print\"\\n Shaft speed if the stepping frequency is 1800 pulses/s =\",n,\"r/s\""
   ]
  },
  {
   "cell_type": "markdown",
   "metadata": {},
   "source": [
    "## Example E03 : Pg 299"
   ]
  },
  {
   "cell_type": "code",
   "execution_count": 3,
   "metadata": {
    "collapsed": false
   },
   "outputs": [
    {
     "name": "stdout",
     "output_type": "stream",
     "text": [
      "\n",
      "The synchronous speed = 24.0 m/s\n",
      "\n",
      "Rail speed assuming slip of 16.7 percent = 19.992 m/s\n"
     ]
    }
   ],
   "source": [
    "# Example 7.3\n",
    "# Determine (a) Synchronous speed (b) Rail speed assuming slip of 16.7%\n",
    "# Page No. 299\n",
    "# Given data\n",
    "f=50.;               # Frequency of machine\n",
    "tau=0.24;           # Pole pitch\n",
    "s=0.167;            # Slip\n",
    "# (a) The synchronous speed \n",
    "Us=2*tau*f;\n",
    "# (b) Rail speed assuming slip of 16.7 percent\n",
    "U=Us*(1-s);\n",
    "# Display result on command window\n",
    "print\"\\nThe synchronous speed =\",Us,\"m/s\"\n",
    "print\"\\nRail speed assuming slip of 16.7 percent =\",U,\"m/s\""
   ]
  }
 ],
 "metadata": {
  "anaconda-cloud": {},
  "kernelspec": {
   "display_name": "Python [Root]",
   "language": "python",
   "name": "Python [Root]"
  },
  "language_info": {
   "codemirror_mode": {
    "name": "ipython",
    "version": 2
   },
   "file_extension": ".py",
   "mimetype": "text/x-python",
   "name": "python",
   "nbconvert_exporter": "python",
   "pygments_lexer": "ipython2",
   "version": "2.7.12"
  }
 },
 "nbformat": 4,
 "nbformat_minor": 0
}
