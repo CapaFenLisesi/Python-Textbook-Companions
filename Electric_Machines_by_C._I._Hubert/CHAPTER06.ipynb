{
 "cells": [
  {
   "cell_type": "markdown",
   "metadata": {},
   "source": [
    "# CHAPTER06 : SINGLE PHASE INDUCTION MOTORS"
   ]
  },
  {
   "cell_type": "markdown",
   "metadata": {},
   "source": [
    "## Example E01 : Pg 257"
   ]
  },
  {
   "cell_type": "code",
   "execution_count": 1,
   "metadata": {
    "collapsed": false
   },
   "outputs": [
    {
     "name": "stdout",
     "output_type": "stream",
     "text": [
      "\n",
      " Main winding current magnitude = 29.8 A\n",
      "\n",
      " Main winding current angle = -60.3 deg\n",
      "\n",
      " Auxillary winding current magnitude = 9.66 A\n",
      "\n",
      " Auxillary winding current angle = -42.6 deg\n",
      "\n",
      " Phase displacement angle = 17.7 deg\n",
      "\n",
      " Locked rotor torque in terms of the machine constant = 87.4 .Ksp\n",
      "\n",
      " External resistance required = 5.25 Ohm\n",
      "\n",
      " Locked rotor torque = 22.5 .Ksp\n",
      "\n",
      " Percent increase in locked rotor torque = -74.2562929062 Percent increase\n"
     ]
    }
   ],
   "source": [
    "# Example 6.1\n",
    "# Determine (a) Locked rotor current in each winding (b) Phase displacement\n",
    "# angle between the two currents (c) Locked rotor torque in terms of the\n",
    "# machine constant (d) External resistance required in series with the auxillary\n",
    "# winding in order to obtain a 30 degree phase displacement between the currents\n",
    "# in the two windings (e) Locked rotor torque for the conditions in (d) \n",
    "# (f) Percent increase in locked rotor torque due to the addition of external\n",
    "# resistance  \n",
    "# Page No. 257\n",
    "# Given data\n",
    "Zmw=2.00+1j*3.50                # Main winding impedance\n",
    "Zaw=9.15+1j*8.40                # Auxillary winding impedance\n",
    "VT=120.;                         # Transformer voltage\n",
    "Xaw=8.40;                       # Auxillary winding reactance\n",
    "Raw=9.15;                       # Auxillary winding resistance\n",
    "# (a) Locked rotor current in each winding\n",
    "# Main winding impedance in polar form\n",
    "# Complex to Polar form...\n",
    "Zmw_Mag=4.03;#sqrt(real(Zmw)**2+imag(Zmw)**2);      # Magnitude part\n",
    "Zmw_Ang=60.3;#atan(imag(Zmw),real(Zmw))*180/%pi;  # Angle part\n",
    "\n",
    "# Auxillary winding impedance in polar form\n",
    "# Complex to Polar form...\n",
    "Zaw_Mag=12.4;#sqrt(real(Zaw)**2+imag(Zaw)**2);      # Magnitude part\n",
    "Zaw_Ang=42.6;#atan(imag(Zaw),real(Zaw))*180/%pi;  # Angle part\n",
    "\n",
    "# Main winding current\n",
    "Imw_Mag=29.8;#VT/Zmw_Mag;                 # Main winding current magnitude\n",
    "Imw_Ang=-60.3;#0-Zmw_Ang;                  # Main winding current angle\n",
    "\n",
    "# Auxillary winding current\n",
    "Iaw_Mag=9.66;#VT/Zaw_Mag;                 # Auxillary winding current magnitude\n",
    "Iaw_Ang=-42.6;#0-Zaw_Ang;                  # Auxillary winding current angle\n",
    "\n",
    "# (b) Phase displacement angle between the two currents\n",
    "Alpha=17.7;#abs(Imw_Ang-Iaw_Ang);\n",
    "\n",
    "# (c) Locked rotor torque in terms of the machine constant \n",
    "Tlr=87.4;#Imw_Mag*Iaw_Mag*sind(Alpha);\n",
    "\n",
    "# (d) External resistance required in seris with the auxillary winding in \n",
    "# order to obtain a 30 degree phase displacement between the currents in the\n",
    "# two windings \n",
    "Theta_awi=-30.3;#Imw_Ang+30;      # Required phase angle\n",
    "Theta_awz=30.3;#-Theta_awi;\n",
    "Rx=5.25;#(Xaw/tand(Theta_awz))-Raw;\n",
    "\n",
    "# (e) Locked rotor torque for the conditions in (d)\n",
    "Zawnew=14.4 + 8.4j;#Raw+Rx+1j*Xaw;            # Auxillary winding impedance\n",
    "# Complex to Polar form...\n",
    "Zmwnew_Mag=16.7;#sqrt(real(Zawnew)**2+imag(Zawnew)**2);      # Magnitude part\n",
    "Zmwnew_Ang=30.3;#atan(imag(Zawnew),real(Zawnew))*180/%pi;  # Angle part\n",
    "\n",
    "Iawnew_Mag=7.2;#VT/Zmwnew_Mag;         # Auxillary winding current magnitude\n",
    "Iawnew_Ang=-30.3;#0-Zmwnew_Ang;         # Auxillary winding current magnitude\n",
    "Tlenew=22.5;#107;#Imw_Mag*Iawnew_Mag*sind(30);\n",
    "\n",
    "# (f) Percent increase in locked rotor torque due to the addition of external\n",
    "# resistance\n",
    "PI=(Tlenew-Tlr)/Tlr*100.;\n",
    "\n",
    "\n",
    "# Display result on command window\n",
    "print\"\\n Main winding current magnitude =\",Imw_Mag,\"A\"\n",
    "print\"\\n Main winding current angle =\",Imw_Ang,\"deg\"\n",
    "print\"\\n Auxillary winding current magnitude =\",Iaw_Mag,\"A\"\n",
    "print\"\\n Auxillary winding current angle =\",Iaw_Ang,\"deg\"\n",
    "print\"\\n Phase displacement angle =\",Alpha,\"deg\"\n",
    "print\"\\n Locked rotor torque in terms of the machine constant =\",Tlr,\".Ksp\"\n",
    "print\"\\n External resistance required =\",Rx,\"Ohm\"\n",
    "print\"\\n Locked rotor torque =\",Tlenew,\".Ksp\"\n",
    "print\"\\n Percent increase in locked rotor torque =\",PI,\"Percent increase\""
   ]
  },
  {
   "cell_type": "markdown",
   "metadata": {},
   "source": [
    "## Example E02 : Pg 265"
   ]
  },
  {
   "cell_type": "code",
   "execution_count": 2,
   "metadata": {
    "collapsed": false
   },
   "outputs": [
    {
     "name": "stdout",
     "output_type": "stream",
     "text": [
      "\n",
      " Required capacitance = 1281.76980266 microF\n",
      "\n",
      " Percent increase in locked rotor torque = 216.526610644 Percent\n"
     ]
    }
   ],
   "source": [
    "# Example 6.2\n",
    "# Determine (a) Capacitance required in series with the auxillary winding \n",
    "# in order to obtain a 90 degree phase displacement between the current in \n",
    "# the main winding and the current in the auxillary winding at locked rotor  \n",
    "# (b) Locked rotor torque in terms of the machine constant \n",
    "# Page No. 265\n",
    "# Given data\n",
    "from math import sqrt,pi\n",
    "Zmw=2.00+1j*3.50                # Main winding impedance\n",
    "Zaw=9.15+1j*8.40                # Auxillary winding impedance\n",
    "VT=120.;                         # Transformer voltage\n",
    "Xaw=8.40;                       # Auxillary winding reactance\n",
    "Raw=9.15;                       # Auxillary winding resistance\n",
    "f=60.;                           # Frequency\n",
    "Tlr=107.1;                      # Original torque\n",
    "\n",
    "# (a) Capacitance required in series with the auxillary winding \n",
    "# Main winding impedance in polar form\n",
    "# Complex to Polar form...\n",
    "Zmw_Mag=4.03;#sqrt(real(Zmw)**2.+imag(Zmw)**2.);      # Magnitude part\n",
    "Zmw_Ang=60.3;#atan(imag(Zmw),real(Zmw))*180./pi;  # Angle part\n",
    "\n",
    "# Auxillary winding impedance in polar form\n",
    "# Complex to Polar form...\n",
    "Zaw_Mag=12.4;#sqrt(real(Zaw)**2.+imag(Zaw)**2.);      # Magnitude part\n",
    "Zaw_Ang=42.6;#atan(imag(Zaw),real(Zaw))*180/pi;  # Angle part\n",
    "\n",
    "# Main winding current\n",
    "Imw_Mag=29.8;#VT/Zmw_Mag;                 # Main winding current magnitude\n",
    "Imw_Ang=-60.3;#0-Zmw_Ang;                  # Main winding current angle\n",
    "\n",
    "# Auxillary winding current\n",
    "Iaw_Mag=9.66;#VT/Zaw_Mag;                 # Auxillary winding current magnitude\n",
    "Iaw_Ang=-42.6;#0-Zaw_Ang;                  # Auxillary winding current angle\n",
    "\n",
    "Theta_awi=90-60.26;               # Required phase angle\n",
    "Theta_awz=-Theta_awi;\n",
    "\n",
    "Xc=13.6;#Xaw-Raw*tand(Theta_awz);       # Capacitive reactance\n",
    "\n",
    "C=1./2.*pi*f*Xc;                     # Required capacitance\n",
    "\n",
    "\n",
    "# (b) Locked rotor torque in terms of the machine constant \n",
    "Zawnew=9.15 + -5.23j;#Raw+1j*Xaw-1j*Xc;            # Auxillary winding impedance\n",
    "# Complex to Polar form...\n",
    "Zawnew_Mag=10.5;#sqrt(real(Zawnew)**2+imag(Zawnew)**2);      # Magnitude part\n",
    "Zawnew_Ang=-29.7;#atan(imag(Zawnew),real(Zawnew))*180/%pi;  # Angle part\n",
    "\n",
    "Iawnew_Mag=11.4;#VT/Zawnew_Mag;           # Auxillary winding current magnitude\n",
    "Iawnew_Ang=29.7;#0-Zawnew_Ang;            # Auxillary winding current magnitude\n",
    "\n",
    "Tlenew=339.;#Imw_Mag*Iawnew_Mag*sind(90);\n",
    "\n",
    "# Percent change increase in locked rotor torque \n",
    "PI=(Tlenew-Tlr)/Tlr*100;\n",
    "\n",
    "\n",
    "# Display result on command window\n",
    "print\"\\n Required capacitance =\",C,\"microF\"\n",
    "print\"\\n Percent increase in locked rotor torque =\",PI,\"Percent\"\n",
    "\n",
    "#Note: Capacitor computation is wrong in the book"
   ]
  },
  {
   "cell_type": "markdown",
   "metadata": {},
   "source": [
    "## Example E03 : Pg 271"
   ]
  },
  {
   "cell_type": "code",
   "execution_count": 3,
   "metadata": {
    "collapsed": false
   },
   "outputs": [
    {
     "name": "stdout",
     "output_type": "stream",
     "text": [
      "\n",
      " NEMA standard horsepower rating of machine = 52.5 hp\n",
      "\n",
      " Required running capacitance = 1590.0 microF\n",
      "\n",
      " Additional capacitance required for starting = 12210.0 microF\n"
     ]
    }
   ],
   "source": [
    "# Example 6.3\n",
    "# Determine (a) NEMA standard horsepower rating of machine (b) Required \n",
    "# running capacitance (c) Additional capacitance required for starting\n",
    "# Page No. 271\n",
    "# Given data\n",
    "hp=35.;                # Power in hp\n",
    "p=3.;                  # Number of phase\n",
    "f=60.;                 # Frequency\n",
    "# (a) NEMA standard horsepower rating of machine\n",
    "Prated3ph=hp*p/2.;\n",
    "# (b)Required running capacitance\n",
    "C1=26.5*f;\n",
    "# (c) Additional capacitance required for starting.\n",
    "C2=230.*f-C1;\n",
    "# Display result on command window\n",
    "print\"\\n NEMA standard horsepower rating of machine =\",Prated3ph,\"hp\"\n",
    "print\"\\n Required running capacitance =\",C1,\"microF\"\n",
    "print\"\\n Additional capacitance required for starting =\",C2,\"microF\""
   ]
  },
  {
   "cell_type": "markdown",
   "metadata": {},
   "source": [
    "## Example E04 : Pg 274"
   ]
  },
  {
   "cell_type": "code",
   "execution_count": 4,
   "metadata": {
    "collapsed": false
   },
   "outputs": [
    {
     "name": "stdout",
     "output_type": "stream",
     "text": [
      "\n",
      " Motor line current = 41.4829962669 A\n",
      "\n",
      " Motor  phase current = 41.4829962669 A\n",
      "\n",
      " Motor line current if one line opens = 71.8506571845 A\n",
      "\n",
      " Motor phase current if one line opens = 71.8506571845 A\n",
      "\n",
      " Line  current if the power factor is 82.0 percent = 73.9536032484 A\n",
      "\n",
      " Phase current if the power factor is 82.0 percent = 73.9536032484 A\n"
     ]
    }
   ],
   "source": [
    "# Example 6.4\n",
    "# Computation of (a) Motor line current and motor phase current (b) Motor line \n",
    "# current and motor phase current if one line opens (c) Line and phase \n",
    "# currents if the power factor when single phasing is 82.0 percent.\n",
    "# Page No. 274\n",
    "# Given data\n",
    "from math import sqrt,pi\n",
    "Vline=2300.;                    # Line voltage\n",
    "Fp3ph=3.;                       # Frequency of three phase\n",
    "PF=0.844;                      # Power factor\n",
    "PF1=0.820;                     # 82.2 percent power factor\n",
    "Pin=350.*746./(0.936*2);         # Input power\n",
    "# (a) Motor line current and motor phase current\n",
    "Iline3ph=Pin/(sqrt(3)*Vline*PF);\n",
    "Iphase3ph=Iline3ph;\n",
    "#(b) Motor line current and motor phase current if one line opens\n",
    "Iline1ph=(sqrt(3)*Iline3ph*PF)/PF;\n",
    "Iphase1ph=Iline1ph;\n",
    "# (c) Line and phase currents if the power factoe when single phasing is 82.0 percent.\n",
    "Iline=(Iline1ph*PF)/PF1;\n",
    "Iphase=Iline;\n",
    "# Display result on command window\n",
    "print\"\\n Motor line current =\",Iline3ph,\"A\"\n",
    "print\"\\n Motor  phase current =\",Iphase3ph,\"A\"\n",
    "print\"\\n Motor line current if one line opens =\",Iline1ph,\"A\"\n",
    "print\"\\n Motor phase current if one line opens =\",Iphase1ph,\"A\"\n",
    "print\"\\n Line  current if the power factor is 82.0 percent =\",Iline,\"A\"\n",
    "print\"\\n Phase current if the power factor is 82.0 percent =\",Iphase,\"A\""
   ]
  }
 ],
 "metadata": {
  "anaconda-cloud": {},
  "kernelspec": {
   "display_name": "Python [Root]",
   "language": "python",
   "name": "Python [Root]"
  },
  "language_info": {
   "codemirror_mode": {
    "name": "ipython",
    "version": 2
   },
   "file_extension": ".py",
   "mimetype": "text/x-python",
   "name": "python",
   "nbconvert_exporter": "python",
   "pygments_lexer": "ipython2",
   "version": "2.7.12"
  }
 },
 "nbformat": 4,
 "nbformat_minor": 0
}
