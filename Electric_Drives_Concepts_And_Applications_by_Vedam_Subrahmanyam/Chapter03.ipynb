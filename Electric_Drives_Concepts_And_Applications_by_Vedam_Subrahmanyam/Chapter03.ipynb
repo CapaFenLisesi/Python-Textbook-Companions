{
 "cells": [
  {
   "cell_type": "markdown",
   "metadata": {},
   "source": [
    "# Chapter03: Converters for Feeding Electric Motors"
   ]
  },
  {
   "cell_type": "markdown",
   "metadata": {},
   "source": [
    "## Ex3_1:pg-273"
   ]
  },
  {
   "cell_type": "code",
   "execution_count": 1,
   "metadata": {
    "collapsed": false
   },
   "outputs": [
    {
     "name": "stdout",
     "output_type": "stream",
     "text": [
      "81.2623533876 =Current in the load in A \n"
     ]
    }
   ],
   "source": [
    "#Electric Drives:concepts and applications by V.subrahmanyam\n",
    "#Publisher:Tata McGraw-Hill \n",
    "#Edition:Second \n",
    "#Ex3_1\n",
    "import math\n",
    "Rd=2;#Resistance in ohm\n",
    "Eb=150;#Back emf in V\n",
    "Vs=400;#Supply voltage in V\n",
    "Alpha=0.52;#angle in radian\n",
    "Vdia=((2*math.sqrt(2)*Vs*math.cos(Alpha))/math.pi);\n",
    "Id=(Vdia-Eb)/Rd;\n",
    "Irms=Id/math.sqrt(2);\n",
    "print Id,\"=Current in the load in A \"\n"
   ]
  },
  {
   "cell_type": "markdown",
   "metadata": {},
   "source": [
    "## Ex3_2:pg-273"
   ]
  },
  {
   "cell_type": "code",
   "execution_count": 2,
   "metadata": {
    "collapsed": false
   },
   "outputs": [
    {
     "name": "stdout",
     "output_type": "stream",
     "text": [
      "88.1286627695 =The firing angle in degree \n"
     ]
    }
   ],
   "source": [
    "#Electric Drives:concepts and applications by V.subrahmanyam\n",
    "#Publisher:Tata McGraw-Hill \n",
    "#Edition:Second \n",
    "#Ex3_2\n",
    "import math\n",
    "Vs=400;#Supply voltage in V\n",
    "Id=80.88;#Current in A\n",
    "Rd=2;#Resistance in ohm\n",
    "Eb=-150;#Back emf in V\n",
    "Vdia=Id*Rd+Eb;\n",
    "a=math.acos((Vdia*math.pi)/(2*math.sqrt(2)*Vs));\n",
    "Alpha=(a*180)/math.pi;\n",
    "print Alpha,\"=The firing angle in degree \"\n"
   ]
  },
  {
   "cell_type": "markdown",
   "metadata": {},
   "source": [
    "## Ex3_3:pg-274"
   ]
  },
  {
   "cell_type": "code",
   "execution_count": 3,
   "metadata": {
    "collapsed": false
   },
   "outputs": [
    {
     "name": "stdout",
     "output_type": "stream",
     "text": [
      "5.19163041855 =The overlap angle in deg \n"
     ]
    }
   ],
   "source": [
    "#Electric Drives:concepts and applications by V.subrahmanyam\n",
    "#Publisher:Tata McGraw-Hill \n",
    "#Edition:Second \n",
    "#Ex3_3\n",
    "import math\n",
    "Id=80.88;#Current in A\n",
    "Rd=2;#Resistance in ohm\n",
    "Xc=0.628;#Reactance in ohm\n",
    "Vs=400;#Supply voltage in V\n",
    "Eb=150;#Back emf in V\n",
    "Z=Id*(Rd+(Xc/math.pi));\n",
    "a=math.acos((Z-Eb)/(0.9*Vs));\n",
    "Alpha=(a*180)/math.pi;\n",
    "c=math.cos(Alpha);\n",
    "d=-c/11;\n",
    "b=(Id*Xc*2)/(math.pi*Vs);\n",
    "X=d-b;\n",
    "e=math.acos(X);\n",
    "f=(e*180)/math.pi;\n",
    "u=f-Alpha;\n",
    "print u,\"=The overlap angle in deg \"\n"
   ]
  },
  {
   "cell_type": "markdown",
   "metadata": {},
   "source": [
    "## Ex3_4:pg-275"
   ]
  },
  {
   "cell_type": "code",
   "execution_count": 5,
   "metadata": {
    "collapsed": false
   },
   "outputs": [
    {
     "name": "stdout",
     "output_type": "stream",
     "text": [
      "7.10947929815 =The average value of dc current in A \n",
      "88.8684912269 =The average value of converter voltage in V \n",
      "0.745818730364 =The overlap angle in deg \n"
     ]
    }
   ],
   "source": [
    "#Electric Drives:concepts and applications by V.subrahmanyam\n",
    "#Publisher:Tata McGraw-Hill \n",
    "#Edition:Second \n",
    "#Ex3_4\n",
    "import math\n",
    "Vs=200.0;#Supply voltage in V\n",
    "Rd=12.5;#Resistance in ohm\n",
    "Xc=0.5;#Reactance in ohm\n",
    "pf=0.5;#Powerfactor\n",
    "Vdia=0.9*Vs*pf;\n",
    "Id=Vdia/(Rd+(Xc/math.pi));\n",
    "print Id,\"=The average value of dc current in A \"\n",
    "Vd=Id*Rd;\n",
    "print Vd,\"=The average value of converter voltage in V \"\n",
    "Vc=Vdia-Vd;\n",
    "X=pf-((Vc*2.0)/Vs);\n",
    "c=math.acos(X);\n",
    "d=(c*180.0)/math.pi;\n",
    "u=d-60;\n",
    "print u,\"=The overlap angle in deg \"\n",
    "#Result vary due to error in calculation of overlap angle in the textbook\n"
   ]
  },
  {
   "cell_type": "markdown",
   "metadata": {},
   "source": [
    "## Ex3_5:pg-276"
   ]
  },
  {
   "cell_type": "code",
   "execution_count": 7,
   "metadata": {
    "collapsed": false
   },
   "outputs": [
    {
     "name": "stdout",
     "output_type": "stream",
     "text": [
      "56.5714285714 =The average value of load current in A \n",
      "64.6230664748 =The overlap angle u in deg \n",
      "35.1257218105 =The overlap angle u1 in deg \n"
     ]
    }
   ],
   "source": [
    "#Electric Drives:concepts and applications by V.subrahmanyam\n",
    "#Publisher:Tata McGraw-Hill \n",
    "#Edition:Second \n",
    "#Ex3_5\n",
    "import math\n",
    "f=50.0;#Frequency in Hz\n",
    "Rd=2.5;#Resistance in ohm\n",
    "Lc=0.005;#Inductance in mH\n",
    "Vs=220.0;#Supply voltage in V\n",
    "pf=1;#Powerfactor\n",
    "pf1=0.866;#Powerfactor\n",
    "Xc=2*math.pi*f*Lc;\n",
    "Z=Rd+((2*Xc)/math.pi);\n",
    "Vdia=0.9*Vs*pf;\n",
    "Id=Vdia/Z;\n",
    "print Id,\"=The average value of load current in A \"\n",
    "Vd=Id*Rd;\n",
    "Vdc=Vdia-Vd;\n",
    "a=(1-((Vdc*2)/Vdia));\n",
    "b=math.acos(a);\n",
    "u=(b*180.0)/math.pi;\n",
    "print u,\"=The overlap angle u in deg \"\n",
    "Vdia1=0.9*Vs*pf1;\n",
    "Id1=Vdia1/Z;\n",
    "Vd1=Id1*Rd;\n",
    "Vdc1=Vdia1-Vd1;\n",
    "V=pf1-((Vdc1*2)/Vs);\n",
    "c=math.acos(V);\n",
    "d=(c*180.0)/math.pi;\n",
    "u1=d-30;\n",
    "print u1,\"=The overlap angle u1 in deg \"\n",
    "#Result vary due to error in calculation of overlap angle in the textbook\n"
   ]
  },
  {
   "cell_type": "markdown",
   "metadata": {},
   "source": [
    "## Ex3_6:pg-277"
   ]
  },
  {
   "cell_type": "code",
   "execution_count": 9,
   "metadata": {
    "collapsed": false
   },
   "outputs": [
    {
     "name": "stdout",
     "output_type": "stream",
     "text": [
      "3.57960292596 =The overlap angle in deg \n"
     ]
    }
   ],
   "source": [
    "#Electric Drives:concepts and applications by V.subrahmanyam\n",
    "#Publisher:Tata McGraw-Hill \n",
    "#Edition:Second \n",
    "#Ex3_6\n",
    "import math\n",
    "Vs=220.0;#Supply voltage in V\n",
    "f=50.0;#Frequency in Hz\n",
    "Eb=-200.0;#Back emf in V\n",
    "Rd=3.0;#Resistance in ohm\n",
    "Vdc=200.0;# voltage in V\n",
    "Xc=0.314;#Reactance in ohm\n",
    "L=0.001;#Inductance in mH\n",
    "pf=-0.5;#Powerfactor\n",
    "Vdia=0.9*Vs*pf;\n",
    "Id=(Vdia-Eb)/(Rd+((2*Xc)/math.pi));\n",
    "Vd=Id*Rd+Eb;\n",
    "a=-pf+((Vd*2)/Vdc);\n",
    "b=math.acos(a);\n",
    "c=(b*180.0)/math.pi;\n",
    "u=c-120;\n",
    "print u,\"=The overlap angle in deg \"\n",
    "#Result vary due to error in calculation of overlap angle in the textbook\n"
   ]
  },
  {
   "cell_type": "markdown",
   "metadata": {},
   "source": [
    "## Ex3_7:pg-278"
   ]
  },
  {
   "cell_type": "code",
   "execution_count": 10,
   "metadata": {
    "collapsed": false
   },
   "outputs": [
    {
     "name": "stdout",
     "output_type": "stream",
     "text": [
      "8.86857843179 =the overlap angle in deg \n"
     ]
    }
   ],
   "source": [
    "#Electric Drives:concepts and applications by V.subrahmanyam\n",
    "#Publisher:Tata McGraw-Hill \n",
    "#Edition:Second \n",
    "#Ex3_7\n",
    "import math\n",
    "Id=50.0;#Current in A\n",
    "Vs=220.0;#Supply voltage in V\n",
    "Vdio=257.4;# voltage in V\n",
    "f=50.0;#Frequency in Hz\n",
    "L=0.0015;#Inductance in mH\n",
    "pf=0.866;#Powerfactor \n",
    "Xc=2*math.pi*f*L;\n",
    "Vdia=1.17*Vs*pf;\n",
    "Vd=Vdia-((3*Id*Xc)/(2*math.pi));\n",
    "Vc=Vdia-Vd;\n",
    "a=pf-((Vc*2)/Vdio);\n",
    "b=math.acos(a);\n",
    "c=(b*180.0)/math.pi;\n",
    "u=c-30;\n",
    "print u,\"=the overlap angle in deg \"\n"
   ]
  },
  {
   "cell_type": "markdown",
   "metadata": {},
   "source": [
    "## Ex3_8:pg-280"
   ]
  },
  {
   "cell_type": "code",
   "execution_count": 11,
   "metadata": {
    "collapsed": false
   },
   "outputs": [
    {
     "name": "stdout",
     "output_type": "stream",
     "text": [
      "64.9 =load current in A \n",
      "20.6382 =Average value of load current in A \n",
      "35.7464109768 =Rms value of load current in A \n"
     ]
    }
   ],
   "source": [
    "#Electric Drives:concepts and applications by V.subrahmanyam\n",
    "#Publisher:Tata McGraw-Hill \n",
    "#Edition:Second \n",
    "#Ex3_8\n",
    "import math\n",
    "Rd=2.5;#Resistance in ohm\n",
    "V=250;# voltage in V\n",
    "f=50;#Frequency in Hz\n",
    "Vs=150;#Supply voltage in V\n",
    "pf=-0.5;#Powerfactor\n",
    "Eb=-250;#Back emf in V\n",
    "Xc=0.636;#Reactance in ohm\n",
    "Vdia=1.17*Vs*pf;\n",
    "Id=(Vdia-Eb)/Rd;\n",
    "print Id,\"=load current in A \"\n",
    "Ith=(Id*Xc)/2;\t\n",
    "print Ith,\"=Average value of load current in A \"\n",
    "Irms=math.sqrt(3)*Ith;\n",
    "print Irms,\"=Rms value of load current in A \"\n",
    "#Result vary due to error in calculation of current in the textbook\n"
   ]
  },
  {
   "cell_type": "markdown",
   "metadata": {},
   "source": [
    "## Ex3_9:pg-280"
   ]
  },
  {
   "cell_type": "code",
   "execution_count": 12,
   "metadata": {
    "collapsed": false
   },
   "outputs": [
    {
     "name": "stdout",
     "output_type": "stream",
     "text": [
      "26.8325105187 =The overlap angle in deg \n"
     ]
    }
   ],
   "source": [
    "#Electric Drives:concepts and applications by V.subrahmanyam\n",
    "#Publisher:Tata McGraw-Hill \n",
    "#Edition:Second \n",
    "#Ex3_9\n",
    "import math\n",
    "L=0.003;#Inductance in mH\n",
    "Id=64.9;#Current in A\n",
    "V=162.25;#voltage in V\n",
    "Vs=150;#Supply voltage in V\n",
    "f=50;#Frequency in Hz\n",
    "Rd=2.5;#Resistance in ohm\n",
    "Eb=-250;#Back emf in V\n",
    "pf=-0.5;#Powerfactor\n",
    "Xc=2*math.pi*f*L;\n",
    "Vdia=(Id*(Rd+((3*Xc)/(2*math.pi))))+Eb;\n",
    "a=Vdia/(1.17*Vs);\n",
    "b=math.acos(a);\n",
    "c=(b*180)/math.pi;\n",
    "Alpha=-0.3338;#angle in radian\n",
    "X=(3*Id*Xc)/(math.pi*Vs);\n",
    "d=math.acos(Alpha-X);\n",
    "e=(d*180)/math.pi;\n",
    "u=e-c;\n",
    "print u,\"=The overlap angle in deg \"\n",
    "#Result vary due to error in calculation of overlap angle in the textbook\n"
   ]
  },
  {
   "cell_type": "markdown",
   "metadata": {},
   "source": [
    "## Ex3_10:pg-280"
   ]
  },
  {
   "cell_type": "code",
   "execution_count": 13,
   "metadata": {
    "collapsed": false
   },
   "outputs": [
    {
     "name": "stdout",
     "output_type": "stream",
     "text": [
      "139.752 =Average value of load voltage in V \n",
      "9.3168 =Average value of load current in A \n",
      "1302.0414336 =Power dissipation in W \n"
     ]
    }
   ],
   "source": [
    "#Electric Drives:concepts and applications by V.subrahmanyam\n",
    "#Publisher:Tata McGraw-Hill \n",
    "#Edition:Second \n",
    "#Ex3_10\n",
    "import math\n",
    "Vs=400;#Supply voltage in V\n",
    "f=50;#Frequency in Hz\n",
    "Rd=15;#Resistance in ohm\n",
    "pf=0.2588;#Powerfactor\n",
    "Vdia=1.35*Vs*pf;\n",
    "print Vdia,\"=Average value of load voltage in V \"\n",
    "Id=Vdia/Rd;\n",
    "print Id,\"=Average value of load current in A \"\n",
    "P=Vdia*Id;\t\n",
    "print P,\"=Power dissipation in W \"\n"
   ]
  },
  {
   "cell_type": "markdown",
   "metadata": {},
   "source": [
    "## Ex3_11:pg-281"
   ]
  },
  {
   "cell_type": "code",
   "execution_count": 14,
   "metadata": {
    "collapsed": false
   },
   "outputs": [
    {
     "name": "stdout",
     "output_type": "stream",
     "text": [
      "0.24450211813 =The power factor \n"
     ]
    }
   ],
   "source": [
    "#Electric Drives:concepts and applications by V.subrahmanyam\n",
    "#Publisher:Tata McGraw-Hill \n",
    "#Edition:Second \n",
    "#Ex3_11\n",
    "import math\n",
    "Alpha=75;#angle in degree\n",
    "a=math.cos(Alpha);\n",
    "b=a/3.6;\n",
    "pf=(3*b)/math.pi;\n",
    "print pf,\"=The power factor \"\n"
   ]
  },
  {
   "cell_type": "markdown",
   "metadata": {},
   "source": [
    "## Ex3_12:pg-281"
   ]
  },
  {
   "cell_type": "code",
   "execution_count": 16,
   "metadata": {
    "collapsed": false
   },
   "outputs": [
    {
     "name": "stdout",
     "output_type": "stream",
     "text": [
      "20.7850558657 =The max current in A \n"
     ]
    }
   ],
   "source": [
    "#Electric Drives:concepts and applications by V.subrahmanyam\n",
    "#Publisher:Tata McGraw-Hill \n",
    "#Edition:Second \n",
    "#Ex3_12\n",
    "import math\n",
    "Vs=400;#Supply voltage in V\n",
    "Id=9.317;#Current in A\n",
    "pf=0.2588;#Powerfactor\n",
    "Vth=math.sqrt(2)*Vs;\n",
    "Ia=math.sqrt(2/3.0)*Id;\n",
    "Ith=Ia/math.sqrt(2);\n",
    "Imax=Ith/pf;\n",
    "print Imax,\"=The max current in A \"\n"
   ]
  },
  {
   "cell_type": "markdown",
   "metadata": {},
   "source": [
    "## Ex3_14:pg-282"
   ]
  },
  {
   "cell_type": "code",
   "execution_count": 18,
   "metadata": {
    "collapsed": false
   },
   "outputs": [
    {
     "name": "stdout",
     "output_type": "stream",
     "text": [
      "1.0 =Ripple factor \n"
     ]
    }
   ],
   "source": [
    "#Electric Drives:concepts and applications by V.subrahmanyam\n",
    "#Publisher:Tata McGraw-Hill \n",
    "#Edition:Second \n",
    "#Ex3_14\n",
    "import math\n",
    "t0=1.5;#Time in ms\n",
    "t1=3;#Time in ms\n",
    "Vs=200.0;#Supply voltage in V\n",
    "gama=t0/t1;\n",
    "Vl=gama*Vs;\n",
    "Vrms=math.sqrt(gama)*Vs;\n",
    "Rf=(math.sqrt(1-gama))/(math.sqrt(gama));\n",
    "print Rf,\"=Ripple factor \"\n"
   ]
  },
  {
   "cell_type": "markdown",
   "metadata": {},
   "source": [
    "## Ex3_14:pg-283"
   ]
  },
  {
   "cell_type": "code",
   "execution_count": 24,
   "metadata": {
    "collapsed": false
   },
   "outputs": [
    {
     "name": "stdout",
     "output_type": "stream",
     "text": [
      "1.0 =Ripple factor \n"
     ]
    }
   ],
   "source": [
    "#Electric Drives:concepts and applications by V.subrahmanyam\n",
    "#Publisher:Tata McGraw-Hill \n",
    "#Edition:Second \n",
    "#Ex3_14\n",
    "import math\n",
    "t0=1.5;#Time in ms\n",
    "t1=3;#Time in ms\n",
    "Vs=200.0;#Supply voltage in V\n",
    "gama=t0/t1;\n",
    "Vl=gama*Vs;\n",
    "Vrms=math.sqrt(gama)*Vs;\n",
    "Rf=(math.sqrt(1-gama))/(math.sqrt(gama));\n",
    "print Rf,\"=Ripple factor \"\n"
   ]
  },
  {
   "cell_type": "markdown",
   "metadata": {},
   "source": [
    "## Ex3_15:pg-284"
   ]
  },
  {
   "cell_type": "code",
   "execution_count": 22,
   "metadata": {
    "collapsed": false
   },
   "outputs": [
    {
     "name": "stdout",
     "output_type": "stream",
     "text": [
      "23.032 =Maximum current in A \n",
      "23.032 =Minimum current in A \n"
     ]
    }
   ],
   "source": [
    "#Electric Drives:concepts and applications by V.subrahmanyam\n",
    "#Publisher:Tata McGraw-Hill \n",
    "#Edition:Second \n",
    "#Ex3_15\n",
    "import math\n",
    "R=1.5;#Resistance in ohm\n",
    "L=3;#Inductance in H\n",
    "Ton=2;#Time in ms\n",
    "T=6;#Time in ms\n",
    "Vs=150.0;#Supply voltage in V\n",
    "t=Ton/T;\n",
    "tON=L/R;\n",
    "Vavg=T*Vs;\n",
    "Iavg=Vavg/R;\n",
    "P=(Iavg)**2*R;\n",
    "Io=23.032;\n",
    "I=1-math.exp(-t);\n",
    "I1=Io*math.exp(-t);\n",
    "Imax=(Vs/R)*I+I1;\n",
    "print Imax,\"=Maximum current in A \"\n",
    "Imin=Imax*math.exp(-2*t);\n",
    "print Imin,\"=Minimum current in A \"\n",
    "\n"
   ]
  }
 ],
 "metadata": {
  "kernelspec": {
   "display_name": "Python 2",
   "language": "python",
   "name": "python2"
  },
  "language_info": {
   "codemirror_mode": {
    "name": "ipython",
    "version": 2
   },
   "file_extension": ".py",
   "mimetype": "text/x-python",
   "name": "python",
   "nbconvert_exporter": "python",
   "pygments_lexer": "ipython2",
   "version": "2.7.11"
  }
 },
 "nbformat": 4,
 "nbformat_minor": 0
}
