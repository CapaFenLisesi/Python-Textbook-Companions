{
 "cells": [
  {
   "cell_type": "markdown",
   "metadata": {},
   "source": [
    "# Chapter04: Control of Electric Motors"
   ]
  },
  {
   "cell_type": "markdown",
   "metadata": {},
   "source": [
    "## Ex4_1:pg-441"
   ]
  },
  {
   "cell_type": "code",
   "execution_count": 2,
   "metadata": {
    "collapsed": false
   },
   "outputs": [
    {
     "name": "stdout",
     "output_type": "stream",
     "text": [
      "29.9336056693 =Iavg:\n"
     ]
    }
   ],
   "source": [
    "#Electric Drives:concepts and applications by V.subrahmanyam\n",
    "#Publisher:Tata McGraw-Hill \n",
    "#Edition:Second \n",
    "#Ex4_1\n",
    "import math\n",
    "Eb=50;# voltage in V\n",
    "V=120;# voltage in V\n",
    "f=50;#frequency in Hz\n",
    "R=10;# Resistance in ohm\n",
    "a=math.asin(Eb/(math.sqrt(2)*V));\n",
    "Alpha=(a*180)/math.pi;\n",
    "pf=0.9556;\n",
    "Iavg=(1/(2*math.pi*R))*((2*math.sqrt(2)*V*pf)-(Eb*(math.pi-(2*Alpha))));\n",
    "print Iavg,\"=Iavg:\"\n",
    "#answer wrong in the textbook due to error in calculation\n"
   ]
  },
  {
   "cell_type": "markdown",
   "metadata": {},
   "source": [
    "## Ex4_3:pg-442"
   ]
  },
  {
   "cell_type": "code",
   "execution_count": 3,
   "metadata": {
    "collapsed": false
   },
   "outputs": [
    {
     "name": "stdout",
     "output_type": "stream",
     "text": [
      "81.1519777932 =Effeciency in % \n"
     ]
    }
   ],
   "source": [
    "#Electric Drives:concepts and applications by V.subrahmanyam\n",
    "#Publisher:Tata McGraw-Hill \n",
    "#Edition:Second \n",
    "#Ex4_3\n",
    "import math\n",
    "P=10000;\n",
    "V=240;# voltage in V\n",
    "N=1000;#Speed in rpm\n",
    "Eff1=0.87;#Effeciency in %\n",
    "Vs=250;# voltage in V\n",
    "f=50;#frequency in Hz\n",
    "Alpha=0.5;#angle\n",
    "R=0.40;# Resistance in ohm\n",
    "Fdf=1;#fundamental displacement factor\n",
    "df=0.9;#distortion factor\n",
    "pf=0.9;#the power factor\n",
    "Pi=P/Eff1;\n",
    "I=Pi/V;\n",
    "Eb=V-(I*R);\n",
    "Vi=0.9*Vs;\n",
    "Eb1=Vi-(I*R);\n",
    "N1=(Eb1/Eb)*N;\n",
    "Pi1=V*I*pf*(10)**(-3);\n",
    "Pi2=(Pi1*N1)/N;\n",
    "Vc=0.9*Vs*Alpha;\n",
    "Eb2=Vc-(I*R);\n",
    "N2=(N*Eb2)/Eb;\n",
    "P0=((Pi1*N2)/N)*1000;\n",
    "Pi0=Vc*I;\n",
    "Eff=(P0/Pi0)*100;\n",
    "print Eff,\"=Effeciency in % \"\n",
    "#Result vary due to roundoff error\n"
   ]
  },
  {
   "cell_type": "markdown",
   "metadata": {},
   "source": [
    "## Ex4_4:pg-442"
   ]
  },
  {
   "cell_type": "code",
   "execution_count": 4,
   "metadata": {
    "collapsed": false
   },
   "outputs": [
    {
     "name": "stdout",
     "output_type": "stream",
     "text": [
      "0.7794 =powerfactor \n"
     ]
    }
   ],
   "source": [
    "#Electric Drives:concepts and applications by V.subrahmanyam\n",
    "#Publisher:Tata McGraw-Hill \n",
    "#Edition:Second \n",
    "#Ex4_4\n",
    "import math\n",
    "V=250;# voltage in V\n",
    "f=50;#frequency in Hz\n",
    "R=1.5;# Resistance in ohm\n",
    "L=30;#inductance in mH\n",
    "Eb=100;#Back emf in V\n",
    "Alpha=0.866;#angle \n",
    "Vc=0.9*V*Alpha;\n",
    "Id=(Vc-Eb)/R;\n",
    "P=Vc*Id*10**(-3);\n",
    "pf=0.9*Alpha;\n",
    "print pf,\"=powerfactor \"\n"
   ]
  },
  {
   "cell_type": "markdown",
   "metadata": {},
   "source": [
    "## Ex4_5:pg-443"
   ]
  },
  {
   "cell_type": "code",
   "execution_count": 5,
   "metadata": {
    "collapsed": false
   },
   "outputs": [
    {
     "name": "stdout",
     "output_type": "stream",
     "text": [
      "57.4863853668 =The firing angle in deg \n"
     ]
    }
   ],
   "source": [
    "#Electric Drives:concepts and applications by V.subrahmanyam\n",
    "#Publisher:Tata McGraw-Hill \n",
    "#Edition:Second \n",
    "#Ex4_5\n",
    "import math\n",
    "N=1800;#Speed in rpm\n",
    "I=60;#Current in A\n",
    "V=400;# voltage in V\n",
    "E=185;#Back emf in V\n",
    "N2=900;#Speed in rpm\n",
    "R=0.5;# Resistance in ohm\n",
    "Vs=V/2.34;\n",
    "Vl=V/1.35;\n",
    "Vi=V-(I*R);\n",
    "V=E+(I*R);\n",
    "a=math.acos(V/(2.34*Vs));\n",
    "Alpha=(a*180)/math.pi;\n",
    "print Alpha,\"=The firing angle in deg \"\n"
   ]
  },
  {
   "cell_type": "markdown",
   "metadata": {},
   "source": [
    "## Ex4_6:pg-444"
   ]
  },
  {
   "cell_type": "code",
   "execution_count": 6,
   "metadata": {
    "collapsed": false
   },
   "outputs": [
    {
     "name": "stdout",
     "output_type": "stream",
     "text": [
      "71.5063230096 =The firing angle in deg \n"
     ]
    }
   ],
   "source": [
    "#Electric Drives:concepts and applications by V.subrahmanyam\n",
    "#Publisher:Tata McGraw-Hill \n",
    "#Edition:Second \n",
    "#Ex4_6\n",
    "import math\n",
    "V=500;# voltage in V\n",
    "Vs=250;# voltage in V\n",
    "I=181;#Current in A\n",
    "N=1500;#Speed in rpm\n",
    "R=0.1;# Resistance in ohm\n",
    "f=50;#frequency in Hz\n",
    "Eb=Vs-(I*R);\n",
    "Eb1=Eb/3;\n",
    "A1=math.acos(Vs/(1.35*V));\n",
    "Alpha1=(A1*180)/math.pi;\n",
    "Ia2=I/9;\n",
    "V2=Eb1+(Ia2*R);\n",
    "A2=math.acos(V2/(1.35*V));\n",
    "Alpha2=(A2*180)/math.pi;\n",
    "Vl=Vs/1.35;\n",
    "A3=math.acos(V2/(1.35*Vl));\n",
    "Alpha3=(A3*180)/math.pi;\n",
    "print Alpha3,\"=The firing angle in deg \"\n"
   ]
  },
  {
   "cell_type": "markdown",
   "metadata": {},
   "source": [
    "## Ex4_7a:pg-445"
   ]
  },
  {
   "cell_type": "code",
   "execution_count": 7,
   "metadata": {
    "collapsed": false
   },
   "outputs": [
    {
     "name": "stdout",
     "output_type": "stream",
     "text": [
      "26.2447091004 =The firing angle in deg \n"
     ]
    }
   ],
   "source": [
    "#Electric Drives:concepts and applications by V.subrahmanyam\n",
    "#Publisher:Tata McGraw-Hill \n",
    "#Edition:Second \n",
    "#Ex4_7a\n",
    "import math\n",
    "V=300;# voltage in V\n",
    "Vt=363.25;# voltage in V\n",
    "f=60;#frequency in Hz\n",
    "Rd=0.02;# Resistance in ohm\n",
    "La=0.002;#inductance in H\n",
    "Id=500;#Current in A\n",
    "N=1500;#Speed in rpm\n",
    "Eb=Vt-(Id*Rd);\n",
    "A=math.acos(Vt/(1.35*V));\n",
    "Alpha=(A*180)/math.pi;\n",
    "print Alpha,\"=The firing angle in deg \"\n"
   ]
  },
  {
   "cell_type": "markdown",
   "metadata": {},
   "source": [
    "## Ex4_7b:pg-445"
   ]
  },
  {
   "cell_type": "code",
   "execution_count": 8,
   "metadata": {
    "collapsed": false
   },
   "outputs": [
    {
     "name": "stdout",
     "output_type": "stream",
     "text": [
      "173.25 =The back emf in V \n"
     ]
    }
   ],
   "source": [
    "#Electric Drives:concepts and applications by V.subrahmanyam\n",
    "#Publisher:Tata McGraw-Hill \n",
    "#Edition:Second \n",
    "#Ex4_7b\n",
    "import math\n",
    "V=300;# voltage in V\n",
    "Vt=363.25;# voltage in V\n",
    "f=60;#frequency in Hz\n",
    "Rd=0.02;# Resistance in ohm\n",
    "La=0.001;#inductance in H\n",
    "Id=500;#Current in A\n",
    "N=1500;#Speed in rpm\n",
    "Xc=2*math.pi*f*La;\n",
    "Z=Rd+((3*Xc)/math.pi);\n",
    "Eb=Vt-(Id*Z);\n",
    "print Eb,\"=The back emf in V \"\n"
   ]
  },
  {
   "cell_type": "markdown",
   "metadata": {},
   "source": [
    "## Ex4_8:pg-446"
   ]
  },
  {
   "cell_type": "code",
   "execution_count": 9,
   "metadata": {
    "collapsed": false
   },
   "outputs": [
    {
     "name": "stdout",
     "output_type": "stream",
     "text": [
      "0.479515813953 =The constant A \n"
     ]
    }
   ],
   "source": [
    "#Electric Drives:concepts and applications by V.subrahmanyam\n",
    "#Publisher:Tata McGraw-Hill \n",
    "#Edition:Second \n",
    "#Ex4_8\n",
    "import math\n",
    "V=600;# voltage in V\n",
    "R=0.16;# Resistance in ohm\n",
    "Ia=210;#Current in A\n",
    "N=600;#Speed in rpm\n",
    "n=10;#no of unit\n",
    "Eb=V-(Ia*R);\n",
    "Td=((Eb*Ia)/(2*math.pi*n));\n",
    "W=(2*math.pi*N)/60;\n",
    "A=Td/(W)**2;\n",
    "print A,\"=The constant A \"\n"
   ]
  },
  {
   "cell_type": "markdown",
   "metadata": {},
   "source": [
    "## Ex4_9:pg-447"
   ]
  },
  {
   "cell_type": "code",
   "execution_count": 10,
   "metadata": {
    "collapsed": false
   },
   "outputs": [
    {
     "name": "stdout",
     "output_type": "stream",
     "text": [
      "360.0 =The back emf in V \n",
      "139.321363317 =The firing angle1 in deg \n",
      "98.1111258306 =The firing angle2 in deg \n"
     ]
    }
   ],
   "source": [
    "#Electric Drives:concepts and applications by V.subrahmanyam\n",
    "#Publisher:Tata McGraw-Hill \n",
    "#Edition:Second \n",
    "#Ex4_9\n",
    "import math\n",
    "V1=500;# voltage in V\n",
    "V2=450;# voltage in V\n",
    "Vs=420;# voltage in V\n",
    "V=400;# voltage in V\n",
    "I=60;#Current in A\n",
    "R=1.5;# Resistance in ohm\n",
    "R1=5;# Resistance in ohm\n",
    "Eb=20;#Back emf in V\n",
    "f=50;#frequency in Hz\n",
    "Vl=V2+Eb;\t\t\n",
    "A=math.acos(Vl/(1.35*Vs));\n",
    "Alpha1=(A*180)/math.pi;\n",
    "Eb1=V2-(I*R);\n",
    "print Eb1,\"=The back emf in V \"\n",
    "V3=-V2-(I*R);\n",
    "Vc=-V2+Eb;\n",
    "A1=math.acos(Vc/(1.35*Vs));\n",
    "Alpha2=(A1*180)/math.pi;\n",
    "print Alpha2,\"=The firing angle1 in deg \"\n",
    "Eb2=-V-(I*R);\n",
    "Vc1=-V+Eb+(R1*I);\n",
    "A2=math.acos(Vc1/(1.35*Vs));\n",
    "Alpha3=(A2*180)/math.pi;\n",
    "print Alpha3,\"=The firing angle2 in deg \"\n"
   ]
  },
  {
   "cell_type": "markdown",
   "metadata": {},
   "source": [
    "## Ex4_10:pg-448"
   ]
  },
  {
   "cell_type": "code",
   "execution_count": 12,
   "metadata": {
    "collapsed": false
   },
   "outputs": [
    {
     "name": "stdout",
     "output_type": "stream",
     "text": [
      "0.1 =The inductance in Henry \n"
     ]
    }
   ],
   "source": [
    "#Electric Drives:concepts and applications by V.subrahmanyam\n",
    "#Publisher:Tata McGraw-Hill \n",
    "#Edition:Second \n",
    "#Ex4_10\n",
    "import math\n",
    "V=500.0;# voltage in V\n",
    "I=15.0;#Current in A\n",
    "t=0.6;#time in sec\n",
    "f=80;#frequency in Hz\n",
    "Vav=V*t;\n",
    "Vi=V-Vav;\n",
    "Ton=t/f;\n",
    "L=Vi*(Ton/I);\n",
    "print L,\"=The inductance in Henry \"\n"
   ]
  },
  {
   "cell_type": "markdown",
   "metadata": {},
   "source": [
    "## Ex4_14:pg-449"
   ]
  },
  {
   "cell_type": "code",
   "execution_count": 17,
   "metadata": {
    "collapsed": false
   },
   "outputs": [
    {
     "name": "stdout",
     "output_type": "stream",
     "text": [
      "0.8 =The time ratio \n"
     ]
    }
   ],
   "source": [
    "#Electric Drives:concepts and applications by V.subrahmanyam\n",
    "#Publisher:Tata McGraw-Hill \n",
    "#Edition:Second \n",
    "#Ex4_14\n",
    "import math\n",
    "V=440;# voltage in V\n",
    "R1=0.07;# Resistance in ohm\n",
    "R2=0.05;# Resistance in ohm\n",
    "X=0.2;#Reactance in ohm\n",
    "N=1420;#Speed in rpm\n",
    "Xm=20;#Reactance in ohm\n",
    "S1=80;#slip in rpm\n",
    "S2=500;#slip in rpm\n",
    "Ra=((S2/S1)*R2)-R2;\n",
    "R=2*Ra;\n",
    "Ra1=4*R2;\n",
    "T=(Ra1*2)/R;\n",
    "print T,\"=The time ratio \"\n"
   ]
  },
  {
   "cell_type": "markdown",
   "metadata": {},
   "source": [
    "## Ex4_15:pg-450"
   ]
  },
  {
   "cell_type": "code",
   "execution_count": 18,
   "metadata": {
    "collapsed": false
   },
   "outputs": [
    {
     "name": "stdout",
     "output_type": "stream",
     "text": [
      "115.887603041 =The firing angle in deg \n"
     ]
    }
   ],
   "source": [
    "#Electric Drives:concepts and applications by V.subrahmanyam\n",
    "#Publisher:Tata McGraw-Hill \n",
    "#Edition:Second \n",
    "#Ex4_15\n",
    "import math\n",
    "P=1000;\n",
    "N=1500;#Speed in rpm\n",
    "R2=0.06;# Resistance in ohm\n",
    "I2=125.6;#Current in A\n",
    "T=1.5;#Time in sec\n",
    "N1=1420;#Speed in rpm\n",
    "S=(R2*P)/N;\n",
    "K=((S/(2*math.pi*N))*(I2)**2*T)/(N1)**2;\n",
    "T1=K*(N1)**2;\n",
    "N2=750;#Speed in rpm\n",
    "S0=0.489;#No load slip\n",
    "S2=1.12;#load slip\n",
    "T2=K*(N2)**2;\n",
    "X1=(T2*S)/T1;\n",
    "A=math.acos(-S0/S2);\n",
    "Alpha=(A*180)/math.pi;\n",
    "print Alpha,\"=The firing angle in deg \"\n"
   ]
  },
  {
   "cell_type": "markdown",
   "metadata": {},
   "source": [
    "## Ex4_20:pg-452"
   ]
  },
  {
   "cell_type": "code",
   "execution_count": 21,
   "metadata": {
    "collapsed": false
   },
   "outputs": [
    {
     "name": "stdout",
     "output_type": "stream",
     "text": [
      "984.782608696 =The speed N1 in rpm \n",
      "968.47826087 =The speed N2 in rpm \n",
      "946.739130435 =The speed N3 in rpm \n"
     ]
    }
   ],
   "source": [
    "#Electric Drives:concepts and applications by V.subrahmanyam\n",
    "#Publisher:Tata McGraw-Hill \n",
    "#Edition:Second \n",
    "#Ex4_20\n",
    "import math\n",
    "R=0.05;# Resistance in ohm\n",
    "N0=1000.0;#Speed in rpm\n",
    "Rf=46.0;# Resistance in ohm\n",
    "I1=75.0;#Current in A\n",
    "I2=150;#Current in A\n",
    "I3=250.0;#Current in A\n",
    "V=230;# voltage in V\n",
    "Eb=230;#Back emf in V\n",
    "If=V/Rf;\n",
    "Ia1=I1-If;\n",
    "Eb1=V-(Ia1*R);\n",
    "N1=(Eb1/Eb)*N0;\n",
    "print N1,\"=The speed N1 in rpm \"\n",
    "Ia2=I2-If;\n",
    "Eb2=V-(Ia2*R);\n",
    "N2=(Eb2/Eb)*N0;\n",
    "print N2,\"=The speed N2 in rpm \"\n",
    "Ia3=I3-If;\n",
    "Eb3=V-(Ia3*R);\n",
    "N3=(Eb3/Eb)*N0;\n",
    "print N3,\"=The speed N3 in rpm \"\n",
    "\n"
   ]
  }
 ],
 "metadata": {
  "kernelspec": {
   "display_name": "Python 2",
   "language": "python",
   "name": "python2"
  },
  "language_info": {
   "codemirror_mode": {
    "name": "ipython",
    "version": 2
   },
   "file_extension": ".py",
   "mimetype": "text/x-python",
   "name": "python",
   "nbconvert_exporter": "python",
   "pygments_lexer": "ipython2",
   "version": "2.7.11"
  }
 },
 "nbformat": 4,
 "nbformat_minor": 0
}
