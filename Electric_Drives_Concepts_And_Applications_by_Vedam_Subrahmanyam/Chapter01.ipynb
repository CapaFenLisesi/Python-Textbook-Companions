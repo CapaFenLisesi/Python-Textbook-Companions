{
 "cells": [
  {
   "cell_type": "markdown",
   "metadata": {},
   "source": [
    "# Chapter01: Characterstics of Electric Motors"
   ]
  },
  {
   "cell_type": "markdown",
   "metadata": {},
   "source": [
    "## Ex1_1:pg-83"
   ]
  },
  {
   "cell_type": "code",
   "execution_count": 45,
   "metadata": {
    "collapsed": false
   },
   "outputs": [
    {
     "name": "stdout",
     "output_type": "stream",
     "text": [
      "615.2 =New speed in rpm \n"
     ]
    }
   ],
   "source": [
    "#Electric Drives  concepts and application by V.Subrahmanyam\n",
    "#Publisher:Tata McGraw-Hill \n",
    "#Edition:Second \n",
    "#Ex1_1\n",
    "import math\n",
    "V=500.0;# voltage v\n",
    "N1=900.0;# speed in rpm\n",
    "Ia1=45.0;#armature current in A\n",
    "Ia2=21.0;#armature current in A\n",
    "R=8;# resistance in ohm\n",
    "Ra=1;#armature resistance in ohm\n",
    "Eb1=V-(Ia1*Ra);\n",
    "Eb2=V-(9*Ia2);\n",
    "N2=N1*(Eb2/Eb1);\n",
    "print round(N2,1),\"=New speed in rpm \"\n"
   ]
  },
  {
   "cell_type": "markdown",
   "metadata": {},
   "source": [
    "## Ex1_2:pg-83"
   ]
  },
  {
   "cell_type": "code",
   "execution_count": 44,
   "metadata": {
    "collapsed": false
   },
   "outputs": [
    {
     "name": "stdout",
     "output_type": "stream",
     "text": [
      "6.93044450468 =The initial breaking torque in Nm \n"
     ]
    }
   ],
   "source": [
    "#Electric Drives:concepts and application by V.Subrahmanyam\n",
    "#Publisher:Tata McGraw-Hill \n",
    "#Edition:Second \n",
    "#Ex1_2\n",
    "import math\n",
    "V1=400.0;#supply voltage is V\n",
    "I1=70.0;#Current in A\n",
    "N1=78.5;#speed in rad/sec\n",
    "R1=0.3;#resistance in ohm\n",
    "I2=90.0;#current in A\n",
    "N2=31.4;#Speed in rpm\n",
    "Eb1=V1-(I1*R1);\n",
    "T1=(Eb1*I1)/N1;\n",
    "V2=V1+Eb1;\n",
    "R2=(V2/I2)-R1;\n",
    "T2=(Eb1*I2)/N1;\n",
    "Eb2=(Eb1*N2)/N1;\n",
    "I=(V1+Eb2)/R2;\n",
    "T=(Eb2+I)/N2;\n",
    "print T,\"=The initial breaking torque in Nm \"\n",
    "#Calculation error in the textbook\n"
   ]
  },
  {
   "cell_type": "markdown",
   "metadata": {},
   "source": [
    "## Ex1_3:pg-84"
   ]
  },
  {
   "cell_type": "code",
   "execution_count": 9,
   "metadata": {
    "collapsed": false
   },
   "outputs": [
    {
     "name": "stdout",
     "output_type": "stream",
     "text": [
      "7.68541150479 =External resistance required in ohm\n"
     ]
    }
   ],
   "source": [
    "#Electric drives concepts and application by V.Subrahmanyam\n",
    "#Publisher:Tata McGraw-Hill \n",
    "#Edition:Second \n",
    "#Ex1_3\n",
    "import math\n",
    "V=250.0;#supply voltage V\n",
    "Ia1=40.0;#Armature current in A\n",
    "R1=0.6;#Resistance in ohm\n",
    "N1=2.828;#speed in rpm\n",
    "N2=2;#speed in rpm\n",
    "Ia2=((Ia1)**2/N1)**(1.0/2);\n",
    "Eb1=V-(Ia1*R1);\n",
    "Eb=(Ia1/Ia2)*N2;\n",
    "Eb2=Eb1/Eb;\n",
    "R2=(V-Eb2)/Ia2;\n",
    "print R2,\"=External resistance required in ohm\"\n"
   ]
  },
  {
   "cell_type": "markdown",
   "metadata": {},
   "source": [
    "## Ex1_4a:pg-85"
   ]
  },
  {
   "cell_type": "code",
   "execution_count": 13,
   "metadata": {
    "collapsed": false
   },
   "outputs": [
    {
     "name": "stdout",
     "output_type": "stream",
     "text": [
      "9.09764027943 =the effeciency of the motor in % \n"
     ]
    }
   ],
   "source": [
    "#Electric Drives:concepts and applications by V.subrahmanyam\n",
    "#Publisher:Tata McGraw-Hill \n",
    "#Edition:Second \n",
    "#Ex1_4a\n",
    "import math\n",
    "V=440.0;# voltage in V\n",
    "Ia=80.0;# Current in A\n",
    "Na=1200.0;#Speed in rpm\n",
    "Na1=125.6;# Speed in rad/sec\n",
    "R1=0.55;# Resistance in ohm\n",
    "R2=110.0;# Resistance in ohm\n",
    "N0=600.0;# Speed in rpm\n",
    "N01=62.8;#Speed in rpm\n",
    "Nf=300.0;# Speed in rpm\n",
    "Nf1=31.4;# Speed in rpm\n",
    "Rsh=1.256;# Resistance in ohm\n",
    "E=V-(Ia*R1);\n",
    "K=E/Na1; \n",
    "E1=K*N01;\n",
    "Tf=K*Ia;\n",
    "E2=E1*(Nf/N0);\n",
    "V2=E2+(Ia*R1);\n",
    "Is=(V2/Rsh)+Ia;\n",
    "Il=Is+(V/R2);\n",
    "Pi=V*Il;\n",
    "Po=Tf*Nf1;\n",
    "Eff=(Po/Pi)*100;\n",
    "print Eff,\"=the effeciency of the motor in % \"\n"
   ]
  },
  {
   "cell_type": "markdown",
   "metadata": {},
   "source": [
    "## Ex1_4b:pg-86"
   ]
  },
  {
   "cell_type": "code",
   "execution_count": 16,
   "metadata": {
    "collapsed": false
   },
   "outputs": [
    {
     "name": "stdout",
     "output_type": "stream",
     "text": [
      "999.450641681 =No load speed in rpm \n",
      "230.176511417 =Full load speed in rpm \n"
     ]
    }
   ],
   "source": [
    "#Electric Drives:concepts and applications by V.subrahmanyam\n",
    "#Publisher:Tata McGraw-Hill \n",
    "#Edition:Second \n",
    "#Ex1_4b\n",
    "import math\n",
    "V=440.0;#voltage in V\n",
    "K=3.153;\n",
    "Ia=80.0;# Current in A\n",
    "Rs=2.0;#Resistance in ohm\n",
    "Rsh=1.5;#Resistance in ohm\n",
    "R1=0.55;#Resistance in ohm\n",
    "Alpha=(Rs/Rsh);\n",
    "Vo=(V/Alpha);\n",
    "No=(Vo/K);\n",
    "N=((60.0*No)/(2*math.pi));\n",
    "print N,\"=No load speed in rpm \"\n",
    "V2=((V/Rs)-Ia)/((1/Rs)+(1/Rsh));\n",
    "E2=V2-(Ia*R1);\n",
    "N2=N*(E2/Vo);\n",
    "print N2,\"=Full load speed in rpm \"\n"
   ]
  },
  {
   "cell_type": "markdown",
   "metadata": {},
   "source": [
    "## Ex1_5a:pg-87"
   ]
  },
  {
   "cell_type": "code",
   "execution_count": 46,
   "metadata": {
    "collapsed": false
   },
   "outputs": [
    {
     "name": "stdout",
     "output_type": "stream",
     "text": [
      "898.56 =The speed of the motor in rpm \n",
      "99.4718394324 =The torque developed in Nm \n"
     ]
    }
   ],
   "source": [
    "#Electric Drives:concepts and applications by V.subrahmanyam\n",
    "#Publisher:Tata McGraw-Hill \n",
    "#Edition:Second \n",
    "#Ex1_5a\n",
    "import math\n",
    "V=250;# voltage in V\n",
    "Ra=0.4;# Resistance in ohm\n",
    "Na=480;#Speed in rpm\n",
    "Va=125;# voltage in V\n",
    "Ia=40;#Current in A\n",
    "Vi=V-(Ra*Ia);\n",
    "N=Na*(Vi/Va);\n",
    "print N,\"=The speed of the motor in rpm \"\n",
    "N1=(2*math.pi*N)/60;\n",
    "T=(Vi*Ia)/N1;\n",
    "print T,\"=The torque developed in Nm \"\n"
   ]
  },
  {
   "cell_type": "markdown",
   "metadata": {},
   "source": [
    "## Ex1_5b:pg-87"
   ]
  },
  {
   "cell_type": "code",
   "execution_count": 47,
   "metadata": {
    "collapsed": false
   },
   "outputs": [
    {
     "name": "stdout",
     "output_type": "stream",
     "text": [
      "2.725 =The value of resistance in ohm\n",
      "99.4718394324 =The torque developed in Nm \n"
     ]
    }
   ],
   "source": [
    "#Electric Drives:concepts and applications by V.subrahmanyam\n",
    "#Publisher:Tata McGraw-Hill \n",
    "#Edition:Second \n",
    "#Ex1_5b\n",
    "import math\n",
    "V=250.0;# voltage in V\n",
    "I=40.0;#Current in A\n",
    "Ra=0.4;#Resistance in ohm\n",
    "Eb=125.0;# voltage in V\n",
    "Na=480.0;#Speed in rpm\n",
    "Re=(V-Eb-(I*Ra))/I;\n",
    "print Re,\"=The value of resistance in ohm\"\n",
    "T=(Eb*I)*60/(2*Na*math.pi);\n",
    "print T,\"=The torque developed in Nm \"\n",
    "#Result vary due to error in calculation of torque in the textbook\n"
   ]
  },
  {
   "cell_type": "markdown",
   "metadata": {},
   "source": [
    "## Ex1_6:pg-87"
   ]
  },
  {
   "cell_type": "code",
   "execution_count": 48,
   "metadata": {
    "collapsed": false
   },
   "outputs": [
    {
     "name": "stdout",
     "output_type": "stream",
     "text": [
      "480.763116057 =The speed of motor in rpm \n",
      "3.82460039115 =The torque in Nm \n"
     ]
    }
   ],
   "source": [
    "#Electric Drives:concepts and applications by V.subrahmanyam\n",
    "#Publisher:Tata McGraw-Hill \n",
    "#Edition:Second \n",
    "#Ex1_6\n",
    "import math\n",
    "V=250.0;# voltage in V\n",
    "I=40.0;#Current in A\n",
    "R1=2.725;# Resistance in ohm\n",
    "R2=3.5;# Resistance in ohm\n",
    "Rf=0.15;# Resistance in ohm\n",
    "N=480.0;#Speed in rpm\n",
    "V1=V-I*(R1+Rf);\n",
    "Ir=(V1/R2);\n",
    "Ia=I-Ir;\n",
    "Eb=V1-(Ia*Rf);\n",
    "Nm=N*(V1/Eb);\n",
    "print Nm,\"=The speed of motor in rpm \"\n",
    "#Result vary due to 125V is used instead of 135V in the textbook\n",
    "T=(Eb*Ia)/(2*math.pi*Nm/60);\n",
    "print T,\"=The torque in Nm \"\n"
   ]
  },
  {
   "cell_type": "markdown",
   "metadata": {},
   "source": [
    "## Ex1_7:pg-87"
   ]
  },
  {
   "cell_type": "code",
   "execution_count": 49,
   "metadata": {
    "collapsed": false
   },
   "outputs": [
    {
     "name": "stdout",
     "output_type": "stream",
     "text": [
      "242.984096386 =The speed of the motor in rpm \n",
      "99.4718394324 =The torque in Nm \n"
     ]
    }
   ],
   "source": [
    "#Electric Drives:concepts and applications by V.subrahmanyam\n",
    "#Publisher:Tata McGraw-Hill \n",
    "#Edition:Second \n",
    "#Ex1_7\n",
    "import math\n",
    "V=250;# voltage in V\n",
    "I=40;#Current in A\n",
    "Ro=0.4;# Resistance in ohm\n",
    "R1=2.725;# Resistance in ohm\n",
    "R2=3.5;# Resistance in ohm\n",
    "Eb=125;# voltage in V\n",
    "Na=480;#Speed in rpm\n",
    "Na1=50.24;#Speed in rad/sec\n",
    "R=((1/R1)+(1/R2));\n",
    "Vm=(V-(I*R1))/(R*R1);\n",
    "Em=Vm-(I*Ro);\n",
    "N=(Em/Eb)*Na;\n",
    "print N,\"=The speed of the motor in rpm \"\n",
    "N1=(2*math.pi*N)/60;\n",
    "Il=(V-Vm)/R1;\n",
    "Po=Em*I;\n",
    "T=Po/N1;\n",
    "print T,\"=The torque in Nm \"\n"
   ]
  },
  {
   "cell_type": "markdown",
   "metadata": {},
   "source": [
    "## Ex1_8:pg-89"
   ]
  },
  {
   "cell_type": "code",
   "execution_count": 50,
   "metadata": {
    "collapsed": false
   },
   "outputs": [
    {
     "name": "stdout",
     "output_type": "stream",
     "text": [
      "-84.7104 =The speed in rpm \n",
      "164.128535064 =The torque in Nm \n"
     ]
    }
   ],
   "source": [
    "#Electric Drives:concepts and applications by V.subrahmanyam\n",
    "#Publisher:Tata McGraw-Hill \n",
    "#Edition:Second \n",
    "#Ex1_8\n",
    "import math\n",
    "V=250.0;# voltage in V\n",
    "I=40.0;#Current in A\n",
    "R1=0.91;# Resistance in ohm\n",
    "Rs=0.95;# Resistance in ohm\n",
    "Eb=125.0;# voltage in V\n",
    "N1=480.0;#Speed in rpm\n",
    "Vm=Rs*I;\n",
    "Ia=I-((V-Vm)/2);\n",
    "Em=-Vm-(Ia*R1);\n",
    "N=-(Em/Eb)*N1;\n",
    "print N,\"=The speed in rpm \"\n",
    "N2=(2*math.pi*N)/60;\n",
    "T=(Em*Ia)/N2;\n",
    "print T,\"=The torque in Nm \"\n"
   ]
  },
  {
   "cell_type": "markdown",
   "metadata": {},
   "source": [
    "## Ex1_10:pg-90"
   ]
  },
  {
   "cell_type": "code",
   "execution_count": 51,
   "metadata": {
    "collapsed": false
   },
   "outputs": [
    {
     "name": "stdout",
     "output_type": "stream",
     "text": [
      "2.56 =Direct on line starting torque in Nm \n",
      "0.853333333333 =By Star/delta starter\n"
     ]
    }
   ],
   "source": [
    "#Electric Drives:concepts and applications by V.subrahmanyam\n",
    "#Publisher:Tata McGraw-Hill \n",
    "#Edition:Second \n",
    "#Ex1_10\n",
    "import math\n",
    "Sf=0.04;#Full load slip in %\n",
    "Ist=1.0;#Starting current in A\n",
    "If1=Ist/8.0;\n",
    "T=(8.0)**2*Sf;\n",
    "print T,\"=Direct on line starting torque in Nm \"\n",
    "S=T/3;\n",
    "print S,\"=By Star/delta starter\"\n"
   ]
  },
  {
   "cell_type": "markdown",
   "metadata": {},
   "source": [
    "## Ex1_11:pg-90"
   ]
  },
  {
   "cell_type": "code",
   "execution_count": 52,
   "metadata": {
    "collapsed": false
   },
   "outputs": [
    {
     "name": "stdout",
     "output_type": "stream",
     "text": [
      "1.28 =Torque in Nm \n"
     ]
    }
   ],
   "source": [
    "#Electric Drives:concepts and applications by V.subrahmanyam\n",
    "#Publisher:Tata McGraw-Hill \n",
    "#Edition:Second \n",
    "#Ex1_11\n",
    "import math\n",
    "Sf1=0.04;#Full load slip in %\n",
    "x=(8.0*3)**(1.0/2);\n",
    "Tst=(x)**2*Sf1;\n",
    "S=Sf1/2.0;\n",
    "T=(8)**2*S;\n",
    "print T,\"=Torque in Nm \"\n"
   ]
  },
  {
   "cell_type": "markdown",
   "metadata": {},
   "source": [
    "## Ex1_12:pg-91"
   ]
  },
  {
   "cell_type": "code",
   "execution_count": 53,
   "metadata": {
    "collapsed": false
   },
   "outputs": [
    {
     "name": "stdout",
     "output_type": "stream",
     "text": [
      "0.16 =Torque in Nm \n"
     ]
    }
   ],
   "source": [
    "#Electric Drives:concepts and applications by V.subrahmanyam\n",
    "#Publisher:Tata McGraw-Hill \n",
    "#Edition:Second \n",
    "#Ex1_12\n",
    "import math\n",
    "Sf=0.04;#Full load slip in %\n",
    "I=5;#Current in A\n",
    "Tst=(I)**2*Sf;\n",
    "x=((2.0/I)*100)**(1.0/2);\n",
    "T=(2.0/I)**2*(I)**2*Sf;\n",
    "print T,\"=Torque in Nm \"\n"
   ]
  },
  {
   "cell_type": "markdown",
   "metadata": {},
   "source": [
    "## Ex1_13:pg-92"
   ]
  },
  {
   "cell_type": "code",
   "execution_count": 54,
   "metadata": {
    "collapsed": false
   },
   "outputs": [
    {
     "name": "stdout",
     "output_type": "stream",
     "text": [
      "(6.53+2.08j) =The impedence of motor \n",
      "(1.0675+2.08j) =The impedence at plugging \n",
      "77019.1732775 =The braking torque in Nm \n"
     ]
    }
   ],
   "source": [
    "#Electric Drives:concepts and applications by V.subrahmanyam\n",
    "#Publisher:Tata McGraw-Hill \n",
    "#Edition:Second \n",
    "#Ex1_13\n",
    "import math\n",
    "V=500.0;#Voltage in V\n",
    "r1=0.13;#resistance in ohm\n",
    "r2=0.32;#resistance in ohm\n",
    "x1=0.6j;#reactance in ohm\n",
    "x2=1.48j;#reactance in ohm\n",
    "rm=250.0;#resistance in ohm\n",
    "xm=20;#reactance in ohm\n",
    "S=0.05;#Full load slip in %\n",
    "Z2=r1+x1+(r2/S)+x2;\n",
    "print Z2,\"=The impedence of motor \"\n",
    "I2=(V/(math.sqrt(3.0)*(6.853)));\n",
    "T1=3*(I2)**2*(r2/S);\n",
    "Sb=2-S;\n",
    "Sf=2-S+r1;\n",
    "Zb=r1+x1+(Sb/Sf)+x2;\n",
    "print Zb,\"=The impedence at plugging \"\n",
    "I=(V/(math.sqrt(3.0)*(2.336)));\n",
    "T2=3*(I)**2.0*(Sb/Sf);\n",
    "T=T1+T2;\n",
    "print T,\"=The braking torque in Nm \"\n"
   ]
  }
 ],
 "metadata": {
  "kernelspec": {
   "display_name": "Python 2",
   "language": "python",
   "name": "python2"
  },
  "language_info": {
   "codemirror_mode": {
    "name": "ipython",
    "version": 2
   },
   "file_extension": ".py",
   "mimetype": "text/x-python",
   "name": "python",
   "nbconvert_exporter": "python",
   "pygments_lexer": "ipython2",
   "version": "2.7.11"
  }
 },
 "nbformat": 4,
 "nbformat_minor": 0
}
