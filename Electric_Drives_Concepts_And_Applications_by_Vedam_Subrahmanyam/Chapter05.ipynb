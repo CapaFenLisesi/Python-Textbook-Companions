{
 "cells": [
  {
   "cell_type": "markdown",
   "metadata": {},
   "source": [
    "# Chapter 5:Rating and Heating of Motors"
   ]
  },
  {
   "cell_type": "markdown",
   "metadata": {},
   "source": [
    "## Ex5.1:pg-491"
   ]
  },
  {
   "cell_type": "code",
   "execution_count": 5,
   "metadata": {
    "collapsed": false
   },
   "outputs": [
    {
     "name": "stdout",
     "output_type": "stream",
     "text": [
      "43.606211467  is The final temperature in deg\n"
     ]
    }
   ],
   "source": [
    "#Electric Drives:concepts and applications by V.subrahmanyam\n",
    "#Example:5.1\n",
    "import math\n",
    " \n",
    "theta1=60;#Temperature rise of motor in degree\n",
    "theta2=40.0;#Temperature rise of motor in degree\n",
    "e=0.5;#exponential value\n",
    "I1=110.0;#current in A\n",
    "I2=125;#current in A\n",
    "t1=4;#Time in hour\n",
    "t2=8;#Time in hour\n",
    "theta=theta1/theta2;\n",
    "tough=-(1/math.log(0.5));\n",
    "thetam1=theta2/e;\n",
    "thetam2=thetam1*(I2/I1)**2;\n",
    "x=t1/(theta1*tough);\n",
    "a=math.e**-x;\n",
    "y=t2/(theta1*tough);\n",
    "b=math.e**-y;\n",
    "thetam=I2*((1-a)/(1-(a*b)));\n",
    "print thetam,\" is The final temperature in deg\"\n"
   ]
  },
  {
   "cell_type": "markdown",
   "metadata": {},
   "source": [
    "## Ex5.2:pg-492"
   ]
  },
  {
   "cell_type": "code",
   "execution_count": 6,
   "metadata": {
    "collapsed": false
   },
   "outputs": [
    {
     "name": "stdout",
     "output_type": "stream",
     "text": [
      "1.23972921698  is The permissible overloading \n"
     ]
    }
   ],
   "source": [
    "#Electric Drives:concepts and applications by V.subrahmanyam\n",
    "#Publisher:Tata McGraw-Hill \n",
    "#Edition:Second \n",
    "#Ex5_2\n",
    "import math\n",
    " \n",
    "T=100.0;#Temperature rise of motor in degree\n",
    "t1=2;#Time in hour\n",
    "t2=1.5;#Time in hour\n",
    "Alpha=0.5;#Angle in rad\n",
    "e=math.e**(-t1/t2);\n",
    "thetam=100.0/(1-e);\n",
    "t=thetam/T;\n",
    "x=math.sqrt((t*(Alpha+1))-Alpha);\n",
    "print x,\" is The permissible overloading \"\n"
   ]
  },
  {
   "cell_type": "markdown",
   "metadata": {},
   "source": [
    "## Ex5.3:pg-493"
   ]
  },
  {
   "cell_type": "code",
   "execution_count": 7,
   "metadata": {
    "collapsed": false
   },
   "outputs": [
    {
     "name": "stdout",
     "output_type": "stream",
     "text": [
      "1.071304005 is The permissible overloading of the motor \n"
     ]
    }
   ],
   "source": [
    "#Electric Drives:concepts and applications by V.subrahmanyam\n",
    "#Publisher:Tata McGraw-Hill \n",
    "#Edition:Second \n",
    "#Ex5_3\n",
    "import math\n",
    " \n",
    "Alpha=0.4;#Angle in rad\n",
    "T1=100;#Temperature rise of motor in degree\n",
    "T2=150.0;#Temperature rise of motor in degree\n",
    "P=125.0;#Power in KW\n",
    "t1=15;#Time in hour\n",
    "t2=30.0;#Time in hour\n",
    "x=-t1/T1;\n",
    "a=math.e**x;\n",
    "y=-t2/T2;\n",
    "b=math.e**y;\n",
    "p=math.sqrt(((Alpha+1)*(1-(a*b)))/(1-a)-Alpha);\n",
    "print p,\"is The permissible overloading of the motor \"\n",
    "\n"
   ]
  }
 ],
 "metadata": {
  "kernelspec": {
   "display_name": "Python 2",
   "language": "python",
   "name": "python2"
  },
  "language_info": {
   "codemirror_mode": {
    "name": "ipython",
    "version": 2
   },
   "file_extension": ".py",
   "mimetype": "text/x-python",
   "name": "python",
   "nbconvert_exporter": "python",
   "pygments_lexer": "ipython2",
   "version": "2.7.11"
  }
 },
 "nbformat": 4,
 "nbformat_minor": 0
}
