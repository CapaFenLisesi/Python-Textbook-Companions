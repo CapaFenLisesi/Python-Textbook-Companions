{
 "cells": [
  {
   "cell_type": "markdown",
   "metadata": {},
   "source": [
    "# Chapter 21 : Inductive Circuits"
   ]
  },
  {
   "cell_type": "markdown",
   "metadata": {},
   "source": [
    "## Example No. 21_1 Page No. 650"
   ]
  },
  {
   "cell_type": "code",
   "execution_count": 4,
   "metadata": {
    "collapsed": false
   },
   "outputs": [
    {
     "name": "stdout",
     "output_type": "stream",
     "text": [
      "Zt = 50.00 ohms\n",
      "I = 2.00 Ampers\n",
      "Vr = 60.00 Volts\n",
      "Vl = 80.00 Volts\n",
      "Theta z = 53.13 degree\n",
      "Sum of Voltage Drop = 100 which is Equal to Applied Voltage 100V \n"
     ]
    }
   ],
   "source": [
    "from math import sqrt,atan,pi\n",
    "# If a R=30 ohms and Xl=40 ohms are in series with 100V applied, find the following: Zt, I, Vr, Vl and Theta z. What is the phase angle between Vl and Vr with respect to I? Prove that the sum of the series voltage drop equals the applied voltage Vt\n",
    "\n",
    "# Given data\n",
    "\n",
    "R = 30.#     # Resistance=30 Ohms\n",
    "Xl = 40.#    # Inductive reactance=40 Ohms\n",
    "Vt = 100.#   # Applied voltage=100 Volts\n",
    "\n",
    "\n",
    "R1 = R*R#\n",
    "Xl1 = Xl*Xl#\n",
    "\n",
    "Zt = sqrt(R1+Xl1)#\n",
    "print 'Zt = %0.2f ohms'%Zt\n",
    "\n",
    "I = (Vt/Zt)#\n",
    "print  'I = %0.2f Ampers'%I\n",
    "\n",
    "Vr = I*R#\n",
    "print  'Vr = %0.2f Volts'%Vr\n",
    "\n",
    "Vl = I*Xl#\n",
    "print  'Vl = %0.2f Volts'%Vl\n",
    "\n",
    "Oz = atan(Xl/R)*180/pi\n",
    "print  'Theta z = %0.2f degree'%Oz\n",
    "\n",
    "#Prove that the sum of the series voltage drop equals the applied voltage Vt\n",
    "\n",
    "Vt = sqrt((Vr*Vr)+(Vl*Vl))#\n",
    "print  'Sum of Voltage Drop = %0.f which is Equal to Applied Voltage 100V '%Vt"
   ]
  },
  {
   "cell_type": "markdown",
   "metadata": {},
   "source": [
    "## Example No. 21_2 Page No.  654"
   ]
  },
  {
   "cell_type": "code",
   "execution_count": 5,
   "metadata": {
    "collapsed": false
   },
   "outputs": [
    {
     "name": "stdout",
     "output_type": "stream",
     "text": [
      "The Total Impedence = 268.33 Ohms\n"
     ]
    }
   ],
   "source": [
    "from math import sqrt\n",
    "# What is the total Z of a 600-Ohms\u0005 R in parallel with a 300 Ohms\u0005 Xl? Assume 600 V for the applied voltage.\n",
    "\n",
    "# Given data\n",
    "\n",
    "R = 600.#    # Resistance=600 Ohms\n",
    "Xl = 300.#   # Inductive reactance=300 Ohms\n",
    "V = 600.#    # Applied voltage=600 Volts\n",
    "\n",
    "Ir = V/R#\n",
    "Il = V/Xl#\n",
    "A = Ir*Ir#\n",
    "B = Il*Il#\n",
    "It = sqrt(A+B)#\n",
    "\n",
    "Zeq = V/It#\n",
    "print 'The Total Impedence = %0.2f Ohms'%Zeq"
   ]
  },
  {
   "cell_type": "markdown",
   "metadata": {},
   "source": [
    "## Example No. 21_3 Page No.  656"
   ]
  },
  {
   "cell_type": "code",
   "execution_count": 6,
   "metadata": {
    "collapsed": false
   },
   "outputs": [
    {
     "name": "stdout",
     "output_type": "stream",
     "text": [
      "The Q of Coil = 350.00\n"
     ]
    }
   ],
   "source": [
    "# An air-core coil has an Xl of 700 Ohms\u0005 and an Re of 2 Ohms\u0005. Calculate the value of Q for this coil.\n",
    "\n",
    "# Given data\n",
    "\n",
    "Xl = 700#   # Inductive reactance=700 Ohms\n",
    "Re = 2#     # AC effective resistance=2 Ohms\n",
    "\n",
    "Q = Xl/Re#\n",
    "print 'The Q of Coil = %0.2f'%Q"
   ]
  },
  {
   "cell_type": "markdown",
   "metadata": {},
   "source": [
    "## Example No. 21_4 Page No.  658"
   ]
  },
  {
   "cell_type": "code",
   "execution_count": 7,
   "metadata": {
    "collapsed": false
   },
   "outputs": [
    {
     "name": "stdout",
     "output_type": "stream",
     "text": [
      "The AC Effective Resistance = 1.57 Ohms\n"
     ]
    }
   ],
   "source": [
    "from math import pi\n",
    "# A 200 uH coil has a Q of 40 at 0.5 MHz. Find Re.\n",
    "\n",
    "# Given data\n",
    "\n",
    "L = 200.*10**-6#  # L of coil=200 uHenry\n",
    "Q = 400#         # Q=40\n",
    "f = 0.5*10**6#   # Frequency=0.5 MHz\n",
    "pi = 3.14#\n",
    "\n",
    "Xl = 2*pi*L*f#\n",
    "\n",
    "Re = Xl/Q#\n",
    "print 'The AC Effective Resistance = %0.2f Ohms'%Re"
   ]
  }
 ],
 "metadata": {
  "kernelspec": {
   "display_name": "Python 2",
   "language": "python",
   "name": "python2"
  },
  "language_info": {
   "codemirror_mode": {
    "name": "ipython",
    "version": 2
   },
   "file_extension": ".py",
   "mimetype": "text/x-python",
   "name": "python",
   "nbconvert_exporter": "python",
   "pygments_lexer": "ipython2",
   "version": "2.7.9"
  }
 },
 "nbformat": 4,
 "nbformat_minor": 0
}
