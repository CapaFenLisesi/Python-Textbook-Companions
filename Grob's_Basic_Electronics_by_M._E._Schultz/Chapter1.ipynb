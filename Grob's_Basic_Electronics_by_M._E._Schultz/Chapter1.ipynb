{
 "cells": [
  {
   "cell_type": "markdown",
   "metadata": {},
   "source": [
    "# Chapter 1 : Electricity"
   ]
  },
  {
   "cell_type": "markdown",
   "metadata": {},
   "source": [
    "## Example No. 1_5 Page No.  24"
   ]
  },
  {
   "cell_type": "code",
   "execution_count": 1,
   "metadata": {
    "collapsed": false
   },
   "outputs": [
    {
     "name": "stdout",
     "output_type": "stream",
     "text": [
      "The Output Voltage of a Battery = 7.20 Volts\n"
     ]
    }
   ],
   "source": [
    "# What is the output voltage of a battery that expends 3.6 J of energy in moving 0.5C of charge?\n",
    "\n",
    "# Given data\n",
    "\n",
    "W = 3.6#        # Work=3.6 Jouls\n",
    "Q = 0.5#        # Charge=0.5 Columb\n",
    "\n",
    "V = W/Q#\n",
    "print 'The Output Voltage of a Battery = %0.2f Volts'%V"
   ]
  },
  {
   "cell_type": "markdown",
   "metadata": {},
   "source": [
    "## Example No. 1_6 Page No.  24"
   ]
  },
  {
   "cell_type": "code",
   "execution_count": 2,
   "metadata": {
    "collapsed": false
   },
   "outputs": [
    {
     "name": "stdout",
     "output_type": "stream",
     "text": [
      "The Intensity of Charge Flow = 12.00 Amps\n"
     ]
    }
   ],
   "source": [
    "#The charge of 12 C moves past a given point every second. How much is the intensity of charge flow?\n",
    "\n",
    "# Given data\n",
    "\n",
    "Q = 12#        # Charge=12 Columb\n",
    "T = 1#          # Time=1 Sec i.e every second\n",
    "\n",
    "I = Q/T#\n",
    "print 'The Intensity of Charge Flow = %0.2f Amps'%I"
   ]
  },
  {
   "cell_type": "markdown",
   "metadata": {},
   "source": [
    "## Example No. 1_7 Page No.  24"
   ]
  },
  {
   "cell_type": "code",
   "execution_count": 3,
   "metadata": {
    "collapsed": false
   },
   "outputs": [
    {
     "name": "stdout",
     "output_type": "stream",
     "text": [
      "The Current = 5.00 Amps\n"
     ]
    }
   ],
   "source": [
    "# The charge of 5 C moves past a given point in 1 s. How much is the current?\n",
    "\n",
    "# Given data\n",
    "\n",
    "Q = 5#        # Charge=5 Columb\n",
    "T = 1#          # Time=1 Sec\n",
    "\n",
    "I = Q/T#\n",
    "print 'The Current = %0.2f Amps'%I"
   ]
  },
  {
   "cell_type": "markdown",
   "metadata": {},
   "source": [
    "## Example No. 1_8 Page No.  25"
   ]
  },
  {
   "cell_type": "code",
   "execution_count": 5,
   "metadata": {
    "collapsed": false
   },
   "outputs": [
    {
     "name": "stdout",
     "output_type": "stream",
     "text": [
      "The Resistance for Conductance value 0.05 S = 20.00 Ohms\n",
      "The Resistance for Conductance value 0.1 S = 10.00 Ohms\n"
     ]
    }
   ],
   "source": [
    "# Calculate the resistance for the following conductance values: (a) 0.05 S (b) 0.1 S\n",
    "\n",
    "# Given data\n",
    "\n",
    "G1 = 0.05#      # G1=0.05 Siemins\n",
    "G2 = 0.1#      # G1=0.1 Siemins\n",
    "\n",
    "R1 = 1/G1#\n",
    "print 'The Resistance for Conductance value 0.05 S = %0.2f Ohms'%R1\n",
    "\n",
    "R2 = 1/G2#\n",
    "print 'The Resistance for Conductance value 0.1 S = %0.2f Ohms'%R2"
   ]
  },
  {
   "cell_type": "markdown",
   "metadata": {},
   "source": [
    "## Example No. 1_9 Page No.  26"
   ]
  },
  {
   "cell_type": "code",
   "execution_count": 9,
   "metadata": {
    "collapsed": false
   },
   "outputs": [
    {
     "name": "stdout",
     "output_type": "stream",
     "text": [
      "The Conductance for Resistance value 1 kohms = 1e-03 Siemens\n",
      "OR 1 mS\n",
      "The Conductance for Resistance value 5 kohms = 2e-04 Siemens\n",
      "OR 200 uS\n"
     ]
    }
   ],
   "source": [
    "#Calculate the conductance for the following resistance values: (a) 1 kOhms \b(b)5 kOhms\n",
    "\n",
    "# Given data\n",
    "\n",
    "R1 = 1.0*10**3#      # R1=1k Ohms\n",
    "R2 = 5.0*10**3#       # R2=5k Ohms\n",
    "\n",
    "G1 = 1/R1#\n",
    "print 'The Conductance for Resistance value 1 kohms = %0.e Siemens'%G1\n",
    "print 'OR 1 mS'\n",
    "\n",
    "G2 = 1/R2#\n",
    "print 'The Conductance for Resistance value 5 kohms = %0.e Siemens'%G2\n",
    "print 'OR 200 uS'"
   ]
  }
 ],
 "metadata": {
  "kernelspec": {
   "display_name": "Python 2",
   "language": "python",
   "name": "python2"
  },
  "language_info": {
   "codemirror_mode": {
    "name": "ipython",
    "version": 2
   },
   "file_extension": ".py",
   "mimetype": "text/x-python",
   "name": "python",
   "nbconvert_exporter": "python",
   "pygments_lexer": "ipython2",
   "version": "2.7.9"
  }
 },
 "nbformat": 4,
 "nbformat_minor": 0
}
