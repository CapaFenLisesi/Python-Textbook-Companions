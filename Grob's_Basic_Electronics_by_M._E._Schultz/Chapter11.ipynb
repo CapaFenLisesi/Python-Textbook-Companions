{
 "cells": [
  {
   "cell_type": "markdown",
   "metadata": {},
   "source": [
    "# Chapter 11 : Conductors and Insulators"
   ]
  },
  {
   "cell_type": "markdown",
   "metadata": {},
   "source": [
    "## Example No. 11_1 Page No.  329"
   ]
  },
  {
   "cell_type": "code",
   "execution_count": 1,
   "metadata": {
    "collapsed": false
   },
   "outputs": [
    {
     "name": "stdout",
     "output_type": "stream",
     "text": [
      "The Circular Area = 25.00 cmils\n"
     ]
    }
   ],
   "source": [
    "# What is the area in circular mils of a wire with a diameter of 0.005 in.?\n",
    "\n",
    "# Given data\n",
    "\n",
    "Din = 0.005#        # Diameter in Inches=0.005 in.\n",
    "Dmil = 5#           # Diameter in Mils=5 mil.\n",
    "\n",
    "# 0.005 in. = 5 mil\n",
    "# Therefore: Din == Dmil\n",
    "\n",
    "A = Dmil*Dmil#\n",
    "print 'The Circular Area = %0.2f cmils'%A"
   ]
  },
  {
   "cell_type": "markdown",
   "metadata": {},
   "source": [
    "## Example No. 11_2 Page No.  335"
   ]
  },
  {
   "cell_type": "code",
   "execution_count": 3,
   "metadata": {
    "collapsed": false
   },
   "outputs": [
    {
     "name": "stdout",
     "output_type": "stream",
     "text": [
      "The Total Area = 3224.00 cmils\n"
     ]
    }
   ],
   "source": [
    "# A stranded wire is made up of 16 individual strands of No. 27 gage wire. What is its equivalent gage size in solid wire?\n",
    "\n",
    "# Given data\n",
    "\n",
    "N = 16#         # No. of strands=16\n",
    "A27 = 201.5     # Circular area of No. 27 Guage wire=201.5 cmils\n",
    "\n",
    "A = N*A27#\n",
    "print 'The Total Area = %0.2f cmils'%A"
   ]
  },
  {
   "cell_type": "markdown",
   "metadata": {},
   "source": [
    "## Example No. 11_3 Page No.  340"
   ]
  },
  {
   "cell_type": "code",
   "execution_count": 6,
   "metadata": {
    "collapsed": false
   },
   "outputs": [
    {
     "name": "stdout",
     "output_type": "stream",
     "text": [
      "The Resistance of 100 ft of No. 20 gage Copper Wire = 1.02 ohms\n"
     ]
    }
   ],
   "source": [
    "# How much is the resistance of 100 ft of No. 20 gage copper wire?\n",
    "\n",
    "# Given data\n",
    "\n",
    "roh = 10.4#         # roh or specific resistance=10.4 (for Copper)\n",
    "l = 100.#            # Lenght=100 feet\n",
    "A = 1022#           # Area of No. 20 Gage=1022 cmil\n",
    "\n",
    "R = roh*(l/A)#\n",
    "print 'The Resistance of 100 ft of No. 20 gage Copper Wire = %0.2f ohms'%R"
   ]
  },
  {
   "cell_type": "markdown",
   "metadata": {},
   "source": [
    "## Example No. 11_4 Page No.  342"
   ]
  },
  {
   "cell_type": "code",
   "execution_count": 7,
   "metadata": {
    "collapsed": false
   },
   "outputs": [
    {
     "name": "stdout",
     "output_type": "stream",
     "text": [
      "The Resistance of 100 ft of No. 20 gage Copper Wire = 2.04 ohms\n"
     ]
    }
   ],
   "source": [
    "# How much is the resistance of 100 ft of No. 23 gage copper wire?\n",
    "\n",
    "# Given data\n",
    "\n",
    "roh = 10.4#         # roh or specific resistance=10.4 (for Copper)\n",
    "l = 100#            # Lenght=100 feet\n",
    "A = 509.5#           # Area of No. 23 Gage=509.5 cmil\n",
    "\n",
    "R = roh*(l/A)#\n",
    "print 'The Resistance of 100 ft of No. 20 gage Copper Wire = %0.2f ohms'%R"
   ]
  },
  {
   "cell_type": "markdown",
   "metadata": {},
   "source": [
    "## Example No. 11_5 Page No.  344"
   ]
  },
  {
   "cell_type": "code",
   "execution_count": 9,
   "metadata": {
    "collapsed": false
   },
   "outputs": [
    {
     "name": "stdout",
     "output_type": "stream",
     "text": [
      "The Resistance of a Slab of Germanium = 11.00 ohms\n"
     ]
    }
   ],
   "source": [
    "# How much is the resistance of a slab of germanium 0.2 cm long with a crosssectional area of 1 sqcm?\n",
    "\n",
    "# Given data\n",
    "\n",
    "roh = 55.0#         # roh or specific resistance=55 (for Germanium)\n",
    "l = 0.2*10**-2#    # Lenght=100 feet\n",
    "A = 1.0*10**-2#      # Area=1 sqcm\n",
    "\n",
    "R = roh*(l/A)#\n",
    "print 'The Resistance of a Slab of Germanium = %0.2f ohms'%R"
   ]
  },
  {
   "cell_type": "markdown",
   "metadata": {},
   "source": [
    "## Example No. 11_6 Page No.  344"
   ]
  },
  {
   "cell_type": "code",
   "execution_count": 11,
   "metadata": {
    "collapsed": false
   },
   "outputs": [
    {
     "name": "stdout",
     "output_type": "stream",
     "text": [
      "The Resistance at 120°C = 21.00 ohms\n"
     ]
    }
   ],
   "source": [
    "# A tungsten wire has a 14-Ohms\u0002 R at 20°C. Calculate its resistance at 120°C.\n",
    "\n",
    "# Given data\n",
    "\n",
    "Tmax = 120.#         # Temp(max)=120 degree Centigrates\n",
    "Tmin = 20.#          # Temp(min)=20 degree Centigrates\n",
    "Ro = 14.#            # Wire Resistance=14 Ohms\n",
    "alpha = 0.005#      # Aplha=0.005 (for Tungsten)\n",
    "\n",
    "delta = Tmax-Tmin#\n",
    "\n",
    "Rt = Ro+Ro*(alpha*delta)#\n",
    "print 'The Resistance at 120°C = %0.2f ohms'%Rt"
   ]
  }
 ],
 "metadata": {
  "kernelspec": {
   "display_name": "Python 2",
   "language": "python",
   "name": "python2"
  },
  "language_info": {
   "codemirror_mode": {
    "name": "ipython",
    "version": 2
   },
   "file_extension": ".py",
   "mimetype": "text/x-python",
   "name": "python",
   "nbconvert_exporter": "python",
   "pygments_lexer": "ipython2",
   "version": "2.7.9"
  }
 },
 "nbformat": 4,
 "nbformat_minor": 0
}
