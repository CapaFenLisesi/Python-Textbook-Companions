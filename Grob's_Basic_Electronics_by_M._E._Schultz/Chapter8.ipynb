{
 "cells": [
  {
   "cell_type": "markdown",
   "metadata": {},
   "source": [
    "# Chapter 8 : Analog & Digital Multimeters"
   ]
  },
  {
   "cell_type": "markdown",
   "metadata": {},
   "source": [
    "## Example No. 8_1 Page No.  251"
   ]
  },
  {
   "cell_type": "code",
   "execution_count": 3,
   "metadata": {
    "collapsed": false
   },
   "outputs": [
    {
     "name": "stdout",
     "output_type": "stream",
     "text": [
      "The Current through Shunt at Full Scale Deflection = 0.000950 Amps\n",
      "i.e 950 uAmps\n"
     ]
    }
   ],
   "source": [
    "# A shunt extends the range of a 50-u\u0002A meter movement to 1 mA. How much is the current through the shunt at full-scale deflection?\n",
    "\n",
    "# Given data\n",
    "\n",
    "It = 1*10**-3#       # Total Current=1 mAmps\n",
    "Im = 50*10**-6#      # Current (cause of meter movement)=50 uAmps\n",
    "\n",
    "Is = It-Im#\n",
    "print 'The Current through Shunt at Full Scale Deflection = %0.6f Amps'%Is\n",
    "print 'i.e 950 uAmps'"
   ]
  },
  {
   "cell_type": "markdown",
   "metadata": {},
   "source": [
    "## Example No. 8_2 Page No.  252"
   ]
  },
  {
   "cell_type": "code",
   "execution_count": 5,
   "metadata": {
    "collapsed": false
   },
   "outputs": [
    {
     "name": "stdout",
     "output_type": "stream",
     "text": [
      "The Shunt Resistance Rs needed to extend the range to 500 uA = 111.11 Ohms\n"
     ]
    }
   ],
   "source": [
    "# A 50 u\u0002A meter movement has an Rm of 1000 Ohms\u0002. What Rs is needed to extend the range to 500 uA?\n",
    "\n",
    "# Given data\n",
    "\n",
    "It = 500*10**-6#     # Total Current=500u Amps\n",
    "Im = 50*10**-6#      # Current (cause of meter movement)=50 uAmps\n",
    "rm = 1000#          # Resistance of moving coil=1000 Ohms\n",
    "\n",
    "Is = It-Im#\n",
    "Vm = Im*rm#\n",
    "\n",
    "Rs = Vm/Is#\n",
    "print 'The Shunt Resistance Rs needed to extend the range to 500 uA = %0.2f Ohms'%Rs\n"
   ]
  }
 ],
 "metadata": {
  "kernelspec": {
   "display_name": "Python 2",
   "language": "python",
   "name": "python2"
  },
  "language_info": {
   "codemirror_mode": {
    "name": "ipython",
    "version": 2
   },
   "file_extension": ".py",
   "mimetype": "text/x-python",
   "name": "python",
   "nbconvert_exporter": "python",
   "pygments_lexer": "ipython2",
   "version": "2.7.9"
  }
 },
 "nbformat": 4,
 "nbformat_minor": 0
}
