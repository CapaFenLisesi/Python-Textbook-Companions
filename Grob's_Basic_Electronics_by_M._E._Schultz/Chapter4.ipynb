{
 "cells": [
  {
   "cell_type": "markdown",
   "metadata": {},
   "source": [
    "# Chapter 4 : Series Circuits"
   ]
  },
  {
   "cell_type": "markdown",
   "metadata": {},
   "source": [
    "## Example No. 4_1 Page No.  117"
   ]
  },
  {
   "cell_type": "code",
   "execution_count": 1,
   "metadata": {
    "collapsed": false
   },
   "outputs": [
    {
     "name": "stdout",
     "output_type": "stream",
     "text": [
      "The Combined Series Resistance = 20 Ohms\n"
     ]
    }
   ],
   "source": [
    "# Two resistances R1 and R2 of 5 Ohms\u0004 each and R3 of 10 Ohms\u0004 are in series. How much is Rt?\n",
    "\n",
    "# Given data\n",
    "\n",
    "R1 = 5#     # Resistor 1=5 Ohms\n",
    "R2 = 5#     # Resistor 2=5 Ohms\n",
    "R3 = 10#    # Resistor 3=10 Ohms\n",
    "\n",
    "Rt = R1+R2+R3#\n",
    "print 'The Combined Series Resistance = %0.f Ohms'%Rt"
   ]
  },
  {
   "cell_type": "markdown",
   "metadata": {},
   "source": [
    "## Example No. 4_2 Page No.  117"
   ]
  },
  {
   "cell_type": "code",
   "execution_count": 2,
   "metadata": {
    "collapsed": false
   },
   "outputs": [
    {
     "name": "stdout",
     "output_type": "stream",
     "text": [
      "The Current in Resistor R3 connected in Series = 4 Amps\n"
     ]
    }
   ],
   "source": [
    "#With 80 V applied across the series string, how much is the current in R3?\n",
    "\n",
    "# Given data\n",
    "\n",
    "Rt = 20#     # Total Resistance=20 Ohms\n",
    "Vt = 80#     # Applied Voltage=80 Volts\n",
    "\n",
    "I = Vt/Rt#\n",
    "print 'The Current in Resistor R3 connected in Series = %0.f Amps'%I"
   ]
  },
  {
   "cell_type": "markdown",
   "metadata": {},
   "source": [
    "## Example No. 4_3 Page No.  119"
   ]
  },
  {
   "cell_type": "code",
   "execution_count": 5,
   "metadata": {
    "collapsed": false
   },
   "outputs": [
    {
     "name": "stdout",
     "output_type": "stream",
     "text": [
      "The combined series resistance = 60 ohms\n",
      "The current = 0.20 Amps\n",
      "i.e 200 mA\n",
      "The Voltage Drop of Resistor R1 = 2.00 Volts\n",
      "The Voltage Drop of Resistor R2 = 4.00 Volts\n",
      "The Voltage Drop of Resistor R3 = 6.00 Volts\n"
     ]
    }
   ],
   "source": [
    "# Solve for Rt, I and the individual resistor voltage drops at R1, R2, R3.\n",
    "\n",
    "# Given data\n",
    "\n",
    "R1 = 10.#     # Resistor 1=10 Ohms\n",
    "R2 = 20.#     # Resistor 2=20 Ohms\n",
    "R3 = 30.#     # Resistor 3=30 Ohms\n",
    "Vt = 12.0#     # Applied Voltage=12 Volts\n",
    "\n",
    "Rt = R1+R2+R3#\n",
    "print 'The combined series resistance = %0.f ohms'%Rt\n",
    "\n",
    "I = Vt/Rt#\n",
    "print 'The current = %0.2f Amps'%I\n",
    "print 'i.e 200 mA'\n",
    "\n",
    "V1 = I*R1\n",
    "print 'The Voltage Drop of Resistor R1 = %0.2f Volts'%V1\n",
    "\n",
    "V2 = I*R2\n",
    "print 'The Voltage Drop of Resistor R2 = %0.2f Volts'%V2\n",
    "\n",
    "V3 = I*R3\n",
    "print 'The Voltage Drop of Resistor R3 = %0.2f Volts'%V3"
   ]
  },
  {
   "cell_type": "markdown",
   "metadata": {},
   "source": [
    "## Example No. 4_4 Page No.  123"
   ]
  },
  {
   "cell_type": "code",
   "execution_count": 7,
   "metadata": {
    "collapsed": false
   },
   "outputs": [
    {
     "name": "stdout",
     "output_type": "stream",
     "text": [
      "The Applied Voltage Vt = 280 Volts\n"
     ]
    }
   ],
   "source": [
    "# A voltage source produces an IR drop of 40 V across a 20 Ohms R1, 60 V across a 30 Ohms\u0004 R2, and 180 V across a 90 Ohms\u0004 R3, all in series. According to Kirchhoff’s voltage law, how much is the applied voltage Vt ?\n",
    "\n",
    "# Given data\n",
    "\n",
    "V1 = 40#     # Voltage drop at R1=40 Volts\n",
    "V2 = 60#     # Voltage drop at R2=60 Volts\n",
    "V3 = 180#    # Voltage drop at R3=180 Volts\n",
    "\n",
    "Vt = V1+V2+V3#\n",
    "print 'The Applied Voltage Vt = %0.f Volts'%Vt"
   ]
  },
  {
   "cell_type": "markdown",
   "metadata": {},
   "source": [
    "## Example No. 4_5 Page No.  123"
   ]
  },
  {
   "cell_type": "code",
   "execution_count": 8,
   "metadata": {
    "collapsed": false
   },
   "outputs": [
    {
     "name": "stdout",
     "output_type": "stream",
     "text": [
      "The Voltage Drop across Resistor R2 = 80 Volts\n"
     ]
    }
   ],
   "source": [
    "# An applied Vt of 120 V produces IR drops across two series resistors R 1 and R 2 If the voltage drop across R1 is 40 V, how much is the voltage drop across R2?\n",
    "\n",
    "# Given data\n",
    "\n",
    "V1 = 40#     # Voltage drop at R1=40 Volts\n",
    "Vt = 120#    # Applied Voltage=120 Volts\n",
    "\n",
    "V2 = Vt-V1#\n",
    "print 'The Voltage Drop across Resistor R2 = %0.f Volts'%V2"
   ]
  },
  {
   "cell_type": "markdown",
   "metadata": {},
   "source": [
    "## Example No. 4_6 Page No.  131"
   ]
  },
  {
   "cell_type": "code",
   "execution_count": 10,
   "metadata": {
    "collapsed": false
   },
   "outputs": [
    {
     "name": "stdout",
     "output_type": "stream",
     "text": [
      "The Voltage Drop of Resistor R1 = 6.00 Volts\n",
      "The Voltage Drop of Resistor R2 = 4.80 Volts\n",
      "The Voltage Drop of Resistor R3 = 7.20 Volts\n",
      "The Voltage Drop of Resistor R4 = 6.00 Volts\n",
      "The Resistor R3 is defective since it is open circuit and drops all the voltage arround it\n"
     ]
    }
   ],
   "source": [
    "# Assume that the series circuit in Fig. 4–20 has failed. A technician troubleshooting the circuit used a voltmeter to record the following resistor voltage drops. V1=0 V# V2=0 V# V3=24 V# V4=0 V. Based on these voltmeter readings, which component is defective and what type of defect is it? (Assume that only one component is defective.)\n",
    "\n",
    "# Given data\n",
    "\n",
    "R1 = 150.#     # Resistor 1=150 Ohms\n",
    "R2 = 120.#     # Resistor 2=120 Ohms\n",
    "R3 = 180.#     # Resistor 3=180 Ohms\n",
    "R4 = 150.#     # Resistor 4=150 Ohms\n",
    "Vt = 24.#      # Applied Voltage=24 Volts\n",
    "\n",
    "Rt = R1+R2+R3+R4#\n",
    "\n",
    "I = Vt/Rt#\n",
    "\n",
    "V1 = I*R1\n",
    "print 'The Voltage Drop of Resistor R1 = %0.2f Volts'%V1\n",
    "\n",
    "V2 = I*R2\n",
    "print 'The Voltage Drop of Resistor R2 = %0.2f Volts'%V2\n",
    "\n",
    "V3 = I*R3\n",
    "print 'The Voltage Drop of Resistor R3 = %0.2f Volts'%V3\n",
    "\n",
    "V4 = I*R4\n",
    "print 'The Voltage Drop of Resistor R4 = %0.2f Volts'%V4\n",
    "\n",
    "print 'The Resistor R3 is defective since it is open circuit and drops all the voltage arround it'"
   ]
  },
  {
   "cell_type": "markdown",
   "metadata": {},
   "source": [
    "## Example No. 4_7 Page No.  133"
   ]
  },
  {
   "cell_type": "code",
   "execution_count": 12,
   "metadata": {
    "collapsed": false
   },
   "outputs": [
    {
     "name": "stdout",
     "output_type": "stream",
     "text": [
      "Calculated from the Circuit\n",
      "The Voltage Drop of Resistor R1 = 6.00 Volts\n",
      "The Voltage Drop of Resistor R2 = 4.80 Volts\n",
      "The Voltage Drop of Resistor R3 = 7.20 Volts\n",
      "The Voltage Drop of Resistor R4 = 6.00 Volts\n"
     ]
    }
   ],
   "source": [
    "# Assume that the series circuit has failed. A technician troubleshooting the circuit used a voltmeter to record the following resistor voltage drops: V1 \u0005 8 V#V2 \u0005 6.4 V#V3 \u0005 9.6 V#V4 \u0005 0 V. Based on the voltmeter readings, which component is defective and what type of defect is it? (Assume that only one component is defective.)\n",
    "\n",
    "# Given data\n",
    "\n",
    "R1 = 150.#     # Resistor 1=150 Ohms\n",
    "R2 = 120.#     # Resistor 2=120 Ohms\n",
    "R3 = 180.#     # Resistor 3=180 Ohms\n",
    "R4 = 150.#     # Resistor 4=150 Ohms\n",
    "Vt = 24.#      # Applied Voltage=24 Volts\n",
    "\n",
    "print 'Calculated from the Circuit'\n",
    "\n",
    "Rt = R1+R2+R3+R4#\n",
    "\n",
    "I = Vt/Rt#\n",
    "\n",
    "V1 = I*R1\n",
    "print 'The Voltage Drop of Resistor R1 = %0.2f Volts'%V1\n",
    "\n",
    "V2 = I*R2\n",
    "print 'The Voltage Drop of Resistor R2 = %0.2f Volts'%V2\n",
    "\n",
    "V3 = I*R3\n",
    "print 'The Voltage Drop of Resistor R3 = %0.2f Volts'%V3\n",
    "\n",
    "V4 = I*R4\n",
    "print 'The Voltage Drop of Resistor R4 = %0.2f Volts'%V4\n"
   ]
  }
 ],
 "metadata": {
  "kernelspec": {
   "display_name": "Python 2",
   "language": "python",
   "name": "python2"
  },
  "language_info": {
   "codemirror_mode": {
    "name": "ipython",
    "version": 2
   },
   "file_extension": ".py",
   "mimetype": "text/x-python",
   "name": "python",
   "nbconvert_exporter": "python",
   "pygments_lexer": "ipython2",
   "version": "2.7.9"
  }
 },
 "nbformat": 4,
 "nbformat_minor": 0
}
