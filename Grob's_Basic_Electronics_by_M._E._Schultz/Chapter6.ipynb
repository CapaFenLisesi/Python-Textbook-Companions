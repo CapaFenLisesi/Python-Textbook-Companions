{
 "cells": [
  {
   "cell_type": "markdown",
   "metadata": {},
   "source": [
    "# Chapter 6 : Series-Parallel Crcuits"
   ]
  },
  {
   "cell_type": "markdown",
   "metadata": {},
   "source": [
    "## Example No. 6_1 Page No.  194"
   ]
  },
  {
   "cell_type": "code",
   "execution_count": 4,
   "metadata": {
    "collapsed": false
   },
   "outputs": [
    {
     "name": "stdout",
     "output_type": "stream",
     "text": [
      "The Unknown Resistance Rx = 564.20 ohms\n"
     ]
    }
   ],
   "source": [
    "# The Current in M1 reads 0 \u0002A with the standard resistor RS adjusted to 5642 Ohms\u0002. What is the value of the unknown resistor Rx?\n",
    "\n",
    "# Given data\n",
    "\n",
    "Rs = 5642.#          # Standard Resistor=5642 Ohms\n",
    "R1 = 1.*10**3#        # Resistor 1=1k Ohms\n",
    "R2 = 10.*10**3#       # Resistor 2=10k Ohms\n",
    "\n",
    "Rx = Rs*(R1/R2)#\n",
    "print 'The Unknown Resistance Rx = %0.2f ohms'%Rx"
   ]
  },
  {
   "cell_type": "markdown",
   "metadata": {},
   "source": [
    "## Example No. 6_2 Page No.  195"
   ]
  },
  {
   "cell_type": "code",
   "execution_count": 6,
   "metadata": {
    "collapsed": false
   },
   "outputs": [
    {
     "name": "stdout",
     "output_type": "stream",
     "text": [
      "The Unknown Resistance Rx(max) = 999.90 Ohms\n"
     ]
    }
   ],
   "source": [
    "# what is the maximum unknown resistance Rx that can be measured for the ratio arm values shown?\n",
    "\n",
    "# Given data\n",
    "\n",
    "Rsmax = 9999.#      # Standard Resistor(max)=9999 Ohms\n",
    "R1 = 1.*10**3#       # Resistor 1=1k Ohms\n",
    "R2 = 10.*10**3#       # Resistor 2=10k Ohms\n",
    "\n",
    "Rxmax = Rsmax*(R1/R2)#\n",
    "print 'The Unknown Resistance Rx(max) = %0.2f Ohms'%Rxmax"
   ]
  },
  {
   "cell_type": "markdown",
   "metadata": {},
   "source": [
    "## Example No. 6_3 Page No.  197"
   ]
  },
  {
   "cell_type": "code",
   "execution_count": 11,
   "metadata": {
    "collapsed": false
   },
   "outputs": [
    {
     "name": "stdout",
     "output_type": "stream",
     "text": [
      "The Resistance R(AB) = 100.00 ohms\n"
     ]
    }
   ],
   "source": [
    "# Assume that the series-parallel circuit in Fig. 6–15a has failed. A technician troubleshooting the circuit has measured the following voltages: V1 = 10.8 V# VAB = 9 V# V4 = 16.2 V. These voltage readings are shown in Fig. 6–15b. Based on the voltmeter readings shown, which component is defective and what type of defect does it have?\n",
    "\n",
    "# Given data\n",
    "\n",
    "V1 = 10.8#      # Voltage at R1=10.8 Volts\n",
    "Vab = 9.0#        # Voltage at point (AB)=9 Volts\n",
    "V4 = 16.2#      # Voltage at R4=16.2 Volts\n",
    "R1 = 120.0#       # Resistor 1=120 Ohms\n",
    "\n",
    "\n",
    "It = V1/R1#\n",
    "Rab = Vab/It#\n",
    "print 'The Resistance R(AB) = %0.2f ohms'%Rab\n",
    "\n"
   ]
  }
 ],
 "metadata": {
  "kernelspec": {
   "display_name": "Python 2",
   "language": "python",
   "name": "python2"
  },
  "language_info": {
   "codemirror_mode": {
    "name": "ipython",
    "version": 2
   },
   "file_extension": ".py",
   "mimetype": "text/x-python",
   "name": "python",
   "nbconvert_exporter": "python",
   "pygments_lexer": "ipython2",
   "version": "2.7.9"
  }
 },
 "nbformat": 4,
 "nbformat_minor": 0
}
