{
 "cells": [
  {
   "cell_type": "markdown",
   "metadata": {},
   "source": [
    "# Chapter 20 : Inductive Reactance"
   ]
  },
  {
   "cell_type": "markdown",
   "metadata": {},
   "source": [
    "## Example No. 20_1 Page No.  625"
   ]
  },
  {
   "cell_type": "code",
   "execution_count": 1,
   "metadata": {
    "collapsed": false
   },
   "outputs": [
    {
     "name": "stdout",
     "output_type": "stream",
     "text": [
      "The Inductive Reactance = 15709.22 Ohms\n"
     ]
    }
   ],
   "source": [
    "from math import pi\n",
    "# How much is Xl of a 6-mH L at 41.67 kHz?\n",
    "\n",
    "# Given data\n",
    "\n",
    "f = 41.67*10**3#     # Frequency=41.67 kHz\n",
    "L = 6.*10**-3#        # Inductor=6 mH\n",
    "\n",
    "Xl = 20*pi*f*L#\n",
    "print 'The Inductive Reactance = %0.2f Ohms'%Xl"
   ]
  },
  {
   "cell_type": "markdown",
   "metadata": {},
   "source": [
    "## Example No. 20_2 Page No.  627"
   ]
  },
  {
   "cell_type": "code",
   "execution_count": 3,
   "metadata": {
    "collapsed": false
   },
   "outputs": [
    {
     "name": "stdout",
     "output_type": "stream",
     "text": [
      "The Inductive Reactance = 37680 Ohms\n",
      "The Inductive Reactance = 1884 Ohms\n"
     ]
    }
   ],
   "source": [
    "from math import pi\n",
    "# Calculate the Xl of (a) a 10-H L at 60 Hz and (b) a 5-H L at 60 Hz.\n",
    "\n",
    "# Given  data\n",
    "\n",
    "f = 60.#     # Frequency=60 Hz\n",
    "L1 = 10.#    # Inductor 1=10 H\n",
    "L2 = 5.#     # Inductor 2=5 H\n",
    "pi = 3.14\n",
    "\n",
    "Xl1 = 20*pi*f*L1#\n",
    "print 'The Inductive Reactance = %0.f Ohms'%Xl1\n",
    "\n",
    "Xl2 = 2*pi*f*L2#\n",
    "print 'The Inductive Reactance = %0.f Ohms'%Xl2"
   ]
  },
  {
   "cell_type": "markdown",
   "metadata": {},
   "source": [
    "## Example No. 20_3 Page No.  629"
   ]
  },
  {
   "cell_type": "code",
   "execution_count": 5,
   "metadata": {
    "collapsed": false
   },
   "outputs": [
    {
     "name": "stdout",
     "output_type": "stream",
     "text": [
      "The Inductive Reactance = 1570 Ohms\n",
      "The Inductive Reactance = 15700 Ohms\n"
     ]
    }
   ],
   "source": [
    "from math import pi\n",
    "# Calculate the Xl of a 250-u\u0003H coil at (a) 1 MHz and (b) 10 MHz.\n",
    "\n",
    "# Given data\n",
    "\n",
    "f1 = 1.*10**6#    # Frequency1=1 MHz\n",
    "f2 = 10.0*10**6#   # Frequency2=10 MHz\n",
    "L = 250.0*10**-6#  # Inductor=250 uH\n",
    "pi = 3.14#\n",
    "\n",
    "# For 1 Mhz\n",
    "\n",
    "Xl1 = 2*pi*f1*L#\n",
    "print 'The Inductive Reactance = %0.f Ohms'%Xl1\n",
    "\n",
    "# For 10 Mhz\n",
    "\n",
    "Xl2 = 2*pi*f2*L#\n",
    "print 'The Inductive Reactance = %0.f Ohms'%Xl2"
   ]
  },
  {
   "cell_type": "markdown",
   "metadata": {},
   "source": [
    "## Example No. 20_4 Page No.  631"
   ]
  },
  {
   "cell_type": "code",
   "execution_count": 7,
   "metadata": {
    "collapsed": false
   },
   "outputs": [
    {
     "name": "stdout",
     "output_type": "stream",
     "text": [
      "The Inductive Reactance = 6280 Ohms\n"
     ]
    }
   ],
   "source": [
    "# A coil with negligible resistance has 62.8 V across it with 0.01 A of current. How much is Xl?\n",
    "\n",
    "# Given data\n",
    "\n",
    "Vl = 62.8#      # Voltage across coil=62.8 Volts\n",
    "Il = 0.01#      # Current in coil=0.01 Amps\n",
    "\n",
    "Xl = Vl/Il#\n",
    "print 'The Inductive Reactance = %0.f Ohms'%Xl"
   ]
  },
  {
   "cell_type": "markdown",
   "metadata": {},
   "source": [
    "## Example No. 20_5 Page No.  632"
   ]
  },
  {
   "cell_type": "code",
   "execution_count": 10,
   "metadata": {
    "collapsed": false
   },
   "outputs": [
    {
     "name": "stdout",
     "output_type": "stream",
     "text": [
      "The value of Inductor = 1.00 Henry\n"
     ]
    }
   ],
   "source": [
    "from math import pi\n",
    "# Calculate L of the coil when the frequency is 1000 Hz.\n",
    "\n",
    "# Given data\n",
    "\n",
    "Xl = 6280.#      # Inductive reactance=6280 Ohms\n",
    "f = 1000.#       # Frequency=1000 Hz\n",
    "pi = 3.14#\n",
    "\n",
    "L = Xl/(2.*pi*f)#\n",
    "print'The value of Inductor = %0.2f Henry'% L"
   ]
  },
  {
   "cell_type": "markdown",
   "metadata": {},
   "source": [
    "## Example No. 20_6 Page No.  633"
   ]
  },
  {
   "cell_type": "code",
   "execution_count": 12,
   "metadata": {
    "collapsed": false
   },
   "outputs": [
    {
     "name": "stdout",
     "output_type": "stream",
     "text": [
      "The value of Inductor = 2.08e-04 Henry\n",
      "i.e Approx 208.8*10**-6 OR 208.8 uH\n"
     ]
    }
   ],
   "source": [
    "from math import pi\n",
    "# Calculate L of a coil that has 15,700 Ohms\u0003 of Xl at 12 MHz.\n",
    "\n",
    "# Given data\n",
    "\n",
    "Xl = 15700.#    # Inductive reactance=15700 Ohms\n",
    "f = 12.0*10**6#   # Frequency=12 MHz\n",
    "pi = 3.14#\n",
    "\n",
    "L = Xl/(2*pi*f)#\n",
    "print'The value of Inductor = %0.2e Henry'% L\n",
    "print 'i.e Approx 208.8*10**-6 OR 208.8 uH'"
   ]
  },
  {
   "cell_type": "markdown",
   "metadata": {},
   "source": [
    "## Example No. 20_7 Page No.  634"
   ]
  },
  {
   "cell_type": "code",
   "execution_count": 13,
   "metadata": {
    "collapsed": false
   },
   "outputs": [
    {
     "name": "stdout",
     "output_type": "stream",
     "text": [
      "The Frequency = 159.15 Hertz\n"
     ]
    }
   ],
   "source": [
    "from math import pi\n",
    "# At what frequency will an inductance of 1 H have a reactance of 1000 \u0003?\n",
    "\n",
    "# Given data\n",
    "\n",
    "Xl = 1000.#    # Inductive reactance=1000 Ohms\n",
    "L = 1.#        # Inductor=1 H\n",
    "\n",
    "f = Xl/(2.*pi*L)#\n",
    "print 'The Frequency = %0.2f Hertz'%f"
   ]
  }
 ],
 "metadata": {
  "kernelspec": {
   "display_name": "Python 2",
   "language": "python",
   "name": "python2"
  },
  "language_info": {
   "codemirror_mode": {
    "name": "ipython",
    "version": 2
   },
   "file_extension": ".py",
   "mimetype": "text/x-python",
   "name": "python",
   "nbconvert_exporter": "python",
   "pygments_lexer": "ipython2",
   "version": "2.7.9"
  }
 },
 "nbformat": 4,
 "nbformat_minor": 0
}
