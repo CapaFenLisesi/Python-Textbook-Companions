{
 "cells": [
  {
   "cell_type": "markdown",
   "metadata": {},
   "source": [
    "# Chapter 18 : Capacitive Circuits"
   ]
  },
  {
   "cell_type": "markdown",
   "metadata": {},
   "source": [
    "## Example No. 18_1 Page No. 545"
   ]
  },
  {
   "cell_type": "code",
   "execution_count": 2,
   "metadata": {
    "collapsed": false
   },
   "outputs": [
    {
     "name": "stdout",
     "output_type": "stream",
     "text": [
      "Zt = 50.00 Ohms\n",
      "I = 2.00 Ampers\n",
      "Voltage Across Resistor = 60 Volts\n",
      "Voltage Across Capacitive Reactance = 80.00 Volts\n",
      "Theta z =-53.13 degree\n",
      "Sum of Voltage Drop is Equal to Applied Voltage of 100V = 100.00 Volts\n"
     ]
    }
   ],
   "source": [
    "from math import sqrt,pi,atan\n",
    "# If a R=30ohms and Xc=40ohms are in series with 100V applied, find the following: Zt, I, Vr, Vc and Theta z. What is the phase angle between Vc and Vr with respect to I? Prove that the sum of the series voltage drop equals the applied voltage Vt\n",
    "\n",
    "# Given data\n",
    "\n",
    "R = 30.#     # Resistance=30 Ohms\n",
    "Xc = 40.#    # Capacitive Reactance=40 Ohms\n",
    "Vt = 100.#   # Applied Voltage=100 Volts\n",
    "\n",
    "R1 = R*R#\n",
    "Xc1 = Xc*Xc#\n",
    "\n",
    "Zt = sqrt(R1+Xc1)#\n",
    "print 'Zt = %0.2f Ohms'%Zt\n",
    "\n",
    "I = (Vt/Zt)#\n",
    "print  'I = %0.2f Ampers'%I\n",
    "\n",
    "Vr = I*R#\n",
    "print  'Voltage Across Resistor = %02.f Volts'%Vr\n",
    "\n",
    "Vc = I*Xc#\n",
    "print  'Voltage Across Capacitive Reactance = %0.2f Volts'%Vc\n",
    "\n",
    "Oz = atan(-(Xc/R))*180/pi\n",
    "print  'Theta z =%0.2f degree'%Oz\n",
    "\n",
    "#Prove that the sum of the series voltage drop equals the applied voltage Vt\n",
    "\n",
    "Vt = sqrt((Vr*Vr)+(Vc*Vc))#\n",
    "print  'Sum of Voltage Drop is Equal to Applied Voltage of 100V = %0.2f Volts'%Vt"
   ]
  },
  {
   "cell_type": "markdown",
   "metadata": {},
   "source": [
    "## Example No. 18_2 Page No.  548"
   ]
  },
  {
   "cell_type": "code",
   "execution_count": 6,
   "metadata": {
    "collapsed": false
   },
   "outputs": [
    {
     "name": "stdout",
     "output_type": "stream",
     "text": [
      "The Total Current = 0.05 Amps\n",
      "i.e 50 mAmps\n",
      "The Equivqlent Impedence = 1440.00 Ohms\n",
      "i.e 1.44 kohms\n",
      "The Value of Theta I = 53.13 degrees\n"
     ]
    }
   ],
   "source": [
    "from math import sqrt,pi,atan\n",
    "# A 30-mA Ir is in parallel with another branch current of 40 mA for Ic. The applied voltage Va is 72 V. Calculate It, Zeq and Theta \u0002I.\n",
    "\n",
    "# Given data\n",
    "\n",
    "Ir = 30.*10**-3#  # Current Ir=30 mA\n",
    "Ic = 40.*10**-3#  # Current Ic=40 mA\n",
    "Va = 72.#        # Applied Voltage=72 Volts\n",
    "\n",
    "A = Ir*Ir#\n",
    "B = Ic*Ic#\n",
    "\n",
    "It = sqrt(A+B)#\n",
    "print 'The Total Current = %0.2f Amps'%It\n",
    "print 'i.e 50 mAmps'\n",
    "\n",
    "Zeq = Va/It#\n",
    "print 'The Equivqlent Impedence = %0.2f Ohms'%Zeq\n",
    "print 'i.e 1.44 kohms'\n",
    "\n",
    "Oi = atan(Ic/Ir)*180/pi\n",
    "print 'The Value of Theta I = %0.2f degrees'%Oi"
   ]
  }
 ],
 "metadata": {
  "kernelspec": {
   "display_name": "Python 2",
   "language": "python",
   "name": "python2"
  },
  "language_info": {
   "codemirror_mode": {
    "name": "ipython",
    "version": 2
   },
   "file_extension": ".py",
   "mimetype": "text/x-python",
   "name": "python",
   "nbconvert_exporter": "python",
   "pygments_lexer": "ipython2",
   "version": "2.7.9"
  }
 },
 "nbformat": 4,
 "nbformat_minor": 0
}
