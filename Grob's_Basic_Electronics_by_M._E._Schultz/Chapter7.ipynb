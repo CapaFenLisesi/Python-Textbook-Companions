{
 "cells": [
  {
   "cell_type": "markdown",
   "metadata": {},
   "source": [
    "# Chapter 7 : Voltage Dividers and Current Dividers"
   ]
  },
  {
   "cell_type": "markdown",
   "metadata": {},
   "source": [
    "## Example No. 7_1 Page No.  199"
   ]
  },
  {
   "cell_type": "code",
   "execution_count": 2,
   "metadata": {
    "collapsed": false
   },
   "outputs": [
    {
     "name": "stdout",
     "output_type": "stream",
     "text": [
      "The Voltage Drop across each Resistor = 60.00 Volts\n"
     ]
    }
   ],
   "source": [
    "# Three 50 Ohms resistors R1, R2 and R3 are in series across an applied voltage of 180 V. How much is the IR voltage drop across each resistor?\n",
    "\n",
    "# Given data\n",
    "\n",
    "R1 = 50*10**3#       # Resistor 1=50k Ohms\n",
    "R2 = 50*10**3#       # Resistor 2=50k Ohms\n",
    "R3 = 50.*10**3#       # Resistor 3=50k Ohms\n",
    "Vt = 180.#           # Applied Voltage=180 Volts\n",
    "\n",
    "R = R1              # R = R1 = R2 = R3\n",
    "Rt = R1+R2+R3#\n",
    "V = Vt*(R/Rt)#\n",
    "print 'The Voltage Drop across each Resistor = %0.2f Volts'%V"
   ]
  }
 ],
 "metadata": {
  "kernelspec": {
   "display_name": "Python 2",
   "language": "python",
   "name": "python2"
  },
  "language_info": {
   "codemirror_mode": {
    "name": "ipython",
    "version": 2
   },
   "file_extension": ".py",
   "mimetype": "text/x-python",
   "name": "python",
   "nbconvert_exporter": "python",
   "pygments_lexer": "ipython2",
   "version": "2.7.9"
  }
 },
 "nbformat": 4,
 "nbformat_minor": 0
}
