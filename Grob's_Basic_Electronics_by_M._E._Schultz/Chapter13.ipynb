{
 "cells": [
  {
   "cell_type": "markdown",
   "metadata": {},
   "source": [
    "# Chapter 13 : Magnetism"
   ]
  },
  {
   "cell_type": "markdown",
   "metadata": {},
   "source": [
    "## Example No. 13_1 Page No.  291"
   ]
  },
  {
   "cell_type": "code",
   "execution_count": 6,
   "metadata": {
    "collapsed": false
   },
   "outputs": [
    {
     "name": "stdout",
     "output_type": "stream",
     "text": [
      "The 25000 Maxwell = 2.50e-04 Wabers\n",
      "i.e 250*10**-6 Wb or 250 uWb\n",
      "The 0.005 Wabers = 500000.00 Maxwell\n",
      "i.e 5.0*10**5 Mx\n"
     ]
    }
   ],
   "source": [
    "# Make the following conversions: (a) 25,000 Mx to Wb# (b) 0.005 Wb to Mx.\n",
    "\n",
    "# Given data\n",
    "\n",
    "A = 25000.0#          # A=25000 Maxwell\n",
    "B = 0.005#          # B=0.005 Wabers\n",
    "C = 1*10**8#         # Conversion Factor\n",
    "\n",
    "Wb = A*(1.0/C)#\n",
    "print 'The 25000 Maxwell = %0.2e Wabers'%Wb\n",
    "print 'i.e 250*10**-6 Wb or 250 uWb'\n",
    "\n",
    "Mx = B*C#\n",
    "print 'The 0.005 Wabers = %0.2f Maxwell'%Mx\n",
    "print 'i.e 5.0*10**5 Mx'"
   ]
  },
  {
   "cell_type": "markdown",
   "metadata": {},
   "source": [
    "## Example No. 13_2 Page No.  392"
   ]
  },
  {
   "cell_type": "code",
   "execution_count": 8,
   "metadata": {
    "collapsed": false
   },
   "outputs": [
    {
     "name": "stdout",
     "output_type": "stream",
     "text": [
      "The Flux Density = 2000.00 Guass (G)\n"
     ]
    }
   ],
   "source": [
    "# With a flux of 10,000 Mx through a perpendicular area of 5 sqcm, what is the flux density in gauss?\n",
    "\n",
    "# Given data\n",
    "\n",
    "A = 5.#      # Area=5 sqcm\n",
    "flux = 10000.0# # Total Flux=10000 Mx\n",
    "\n",
    "B = flux/A#\n",
    "print 'The Flux Density = %0.2f Guass (G)'%B"
   ]
  },
  {
   "cell_type": "markdown",
   "metadata": {},
   "source": [
    "## Example No. 13_3 Page No.  394"
   ]
  },
  {
   "cell_type": "code",
   "execution_count": 9,
   "metadata": {
    "collapsed": false
   },
   "outputs": [
    {
     "name": "stdout",
     "output_type": "stream",
     "text": [
      "The Flux Density = 0.80 Tesla (T)\n"
     ]
    }
   ],
   "source": [
    "# With a flux of 400 u\u0002Wb through an area of 0.0005 sqm, what is the flux density B in tesla units?\n",
    "\n",
    "# Given data\n",
    "\n",
    "A = 0.0005#          # Area=0.0005 sqm\n",
    "flux = 400*10**-6#    # Total Flux=400 uWb\n",
    "\n",
    "B = flux/A#\n",
    "print 'The Flux Density = %0.2f Tesla (T)'%B"
   ]
  },
  {
   "cell_type": "markdown",
   "metadata": {},
   "source": [
    "## Example No. 13_4 Page No.  394"
   ]
  },
  {
   "cell_type": "code",
   "execution_count": 10,
   "metadata": {
    "collapsed": false
   },
   "outputs": [
    {
     "name": "stdout",
     "output_type": "stream",
     "text": [
      "The 0.003 Tesla = 30.00 Guass\n",
      "The 15,000 Guass = 1.50 Tesla\n"
     ]
    }
   ],
   "source": [
    "# Make the following conversions: (a) 0.003 T to G# (b) 15,000 G to T.\n",
    "\n",
    "# Given data\n",
    "\n",
    "A = 0.003#          # A=0.003 Tesla\n",
    "B = 15000.#          # B=15000 Guass\n",
    "C = 1.*10**4#         # Conversion Factor\n",
    "\n",
    "G = A*C#\n",
    "print 'The 0.003 Tesla = %0.2f Guass'%G\n",
    "\n",
    "T = B*(1/C)#\n",
    "print 'The 15,000 Guass = %0.2f Tesla'%T"
   ]
  }
 ],
 "metadata": {
  "kernelspec": {
   "display_name": "Python 2",
   "language": "python",
   "name": "python2"
  },
  "language_info": {
   "codemirror_mode": {
    "name": "ipython",
    "version": 2
   },
   "file_extension": ".py",
   "mimetype": "text/x-python",
   "name": "python",
   "nbconvert_exporter": "python",
   "pygments_lexer": "ipython2",
   "version": "2.7.9"
  }
 },
 "nbformat": 4,
 "nbformat_minor": 0
}
