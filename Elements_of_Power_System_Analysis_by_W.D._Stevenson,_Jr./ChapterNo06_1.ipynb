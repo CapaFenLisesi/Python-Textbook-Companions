{
 "metadata": {
  "name": ""
 },
 "nbformat": 3,
 "nbformat_minor": 0,
 "worksheets": [
  {
   "cells": [
    {
     "cell_type": "heading",
     "level": 1,
     "metadata": {},
     "source": [
      "Chapter 06 : System Modelling"
     ]
    },
    {
     "cell_type": "heading",
     "level": 2,
     "metadata": {},
     "source": [
      "Example 6.1, Page No 142"
     ]
    },
    {
     "cell_type": "code",
     "collapsed": false,
     "input": [
      "import math\n",
      "#initialisation of variables\n",
      "N_1 = 2000.0\n",
      "N_2 = 500.0\n",
      "V_1 = 1200.0*complex(math.cos(0),math.sin(0))\n",
      "I_1 = 5*complex(math.cos(-30*math.pi/180),math.sin(-30*math.pi/180))\n",
      "\n",
      "#Calculations\n",
      "a = N_1 / N_2\n",
      "V_2 = V_1/a\n",
      "I_2 = a * I_1\n",
      "Z_2 = V_2 / I_2\n",
      "Z1_2 = Z_2 * a**2\n",
      "\n",
      "#Results\n",
      "print( \"V_2 = {0:.2f}\".format(abs(V_2.real)))\n",
      "print(\"Angle = %.2f v \" %(math.degrees(math.atan2(V_2.imag,V_2.real))))\n",
      "print( \"I_2 = {0:.2f}\".format(abs(I_2.real)))\n",
      "print(\"Angle = %.2f A \" %(math.degrees(math.atan2(I_2.imag,I_2.real))))\n",
      "print( \"Z_2 = {0:.2f}\".format(abs(Z_2.real)))\n",
      "print(\"Angle = %.2f ohm \" %(math.degrees(math.atan2(Z_2.imag,Z_2.real))))\n",
      "print( \"Z1_2 = {0:.2f}\".format(abs(I_2.real)))\n",
      "print(\"Angle = %.2f ohm \" %(math.degrees(math.atan2(Z1_2.imag,Z1_2.real))))\n"
     ],
     "language": "python",
     "metadata": {},
     "outputs": [
      {
       "output_type": "stream",
       "stream": "stdout",
       "text": [
        "V_2 = 300.00\n",
        "Angle = 0.00 v \n",
        "I_2 = 17.32\n",
        "Angle = -30.00 A \n",
        "Z_2 = 12.99\n",
        "Angle = 30.00 ohm \n",
        "Z1_2 = 17.32\n",
        "Angle = 30.00 ohm \n"
       ]
      }
     ],
     "prompt_number": 12
    },
    {
     "cell_type": "heading",
     "level": 2,
     "metadata": {},
     "source": [
      "Example 6.2, Page No 144"
     ]
    },
    {
     "cell_type": "code",
     "collapsed": false,
     "input": [
      "import math\n",
      "#initialisation of variables\n",
      "N_1 = 2000.0\n",
      "N_2 = 500.0\n",
      "V_1 = 1200*complex(math.cos(0),math.sin(0))\n",
      "r1 = 2\n",
      "r2 = 0.125\n",
      "x1 = 8\n",
      "x2 = 0.5\n",
      "Z_2 = 12\n",
      "\n",
      "#Calculations\n",
      "a = N_1 / N_2\n",
      "R1 = r1 + a**2 * r2\n",
      "X1 = x1 + a**2 * x2\n",
      "Z1_2 = Z_2 * a**2\n",
      "\n",
      "I_1 = V_1 /(Z1_2+ complex(R1,X1))\n",
      "V_2 = I_1 * Z1_2 / a\n",
      "voltage_regulation = ((V_1/4)-abs(V_2))*100.0/V_2\n",
      "\n",
      "print( \"I_1 = {0:.2f}\".format(abs(I_1.real)))\n",
      "print(\"Angle = %.2f A \" %(math.degrees(math.atan2(I_1.imag,I_1.real))))\n",
      "print( \"V_2 = {0:.2f}\".format(abs(V_2.real)))\n",
      "print(\"Angle = %.2f V \" %(math.degrees(math.atan2(V_2.imag,V_2.real))))\n",
      "print( \"Voltage Regulation ={0:.5f}+{1:.5f}i\".format(voltage_regulation.real, voltage_regulation.imag))"
     ],
     "language": "python",
     "metadata": {},
     "outputs": [
      {
       "output_type": "stream",
       "stream": "stdout",
       "text": [
        "I_1 = 6.08\n",
        "Angle = -4.67 A \n",
        "V_2 = 291.93\n",
        "Angle = -4.67 V \n",
        "Voltage Regulation =2.41487+0.19713i\n"
       ]
      }
     ],
     "prompt_number": 13
    },
    {
     "cell_type": "heading",
     "level": 2,
     "metadata": {},
     "source": [
      "Example 6.3, Page No 145"
     ]
    },
    {
     "cell_type": "code",
     "collapsed": false,
     "input": [
      "import math\n",
      "#initialisation of variables\n",
      "P = 30e3\n",
      "V_lt = 120.0\n",
      "V_ht = 240.0\n",
      "\n",
      "#Calculations\n",
      "I_1 = P / V_lt\n",
      "I_2 = P / V_ht\n",
      "V_2 = V_lt + V_ht\n",
      "I_in = I_1 + I_2\n",
      "input_kva = I_in * V_lt / 1e3\n",
      "output_kva = I_2 * V_2 / 1e3\n",
      "\n",
      "#Results\n",
      "print(\" Input kVA = %.0f kVA \" %input_kva)\n",
      "print(\" Output kVA = %.0f kVA \" %output_kva)"
     ],
     "language": "python",
     "metadata": {},
     "outputs": [
      {
       "output_type": "stream",
       "stream": "stdout",
       "text": [
        " Input kVA = 45 kVA \n",
        " Output kVA = 45 kVA \n"
       ]
      }
     ],
     "prompt_number": 14
    },
    {
     "cell_type": "heading",
     "level": 2,
     "metadata": {},
     "source": [
      "Example 6.4 Page No 147"
     ]
    },
    {
     "cell_type": "code",
     "collapsed": false,
     "input": [
      "import math\n",
      "#initialisation of variables\n",
      "V_lt = 110.0\n",
      "V_ht = 440.0\n",
      "P = 2.5e3\n",
      "x_lt = 0.06\n",
      "\n",
      "#Calculations\n",
      "print('Viewed from low-tension side')\n",
      "lt_base_impedance = (V_lt)**2 / P\n",
      "print(\" Leakage reactance from low-tension side = %.2f ohm\" %x_lt)\n",
      "print(\" Low-tension base impedance = %.2f ohmn\" %lt_base_impedance)\n",
      "X_lt_pu = x_lt / lt_base_impedance\n",
      "print(\" Leakage reactance in per unit from Low-tension side = %.4f per unit \" %X_lt_pu)\n",
      "print('Viewed from high-tension side')\n",
      "x_ht = x_lt * (V_ht / V_lt)**2\n",
      "ht_base_impedance = (V_ht)**2 / P\n",
      "\n",
      "#Results\n",
      "print(\" Leakage reactance from high-tension side = %.2f ohm\" %x_ht)\n",
      "print(\" High-tension base impedance = %.2f ohmn\" %ht_base_impedance)\n",
      "X_ht_pu = x_ht / ht_base_impedance\n",
      "print(\" Leakage reactance in per unit from Low-tension side = %.4f per unit \" %X_ht_pu)"
     ],
     "language": "python",
     "metadata": {},
     "outputs": [
      {
       "output_type": "stream",
       "stream": "stdout",
       "text": [
        "Viewed from low-tension side\n",
        " Leakage reactance from low-tension side = 0.06 ohm\n",
        " Low-tension base impedance = 4.84 ohmn\n",
        " Leakage reactance in per unit from Low-tension side = 0.0124 per unit \n",
        "Viewed from high-tension side\n",
        " Leakage reactance from high-tension side = 0.96 ohm\n",
        " High-tension base impedance = 77.44 ohmn\n",
        " Leakage reactance in per unit from Low-tension side = 0.0124 per unit \n"
       ]
      }
     ],
     "prompt_number": 15
    },
    {
     "cell_type": "heading",
     "level": 2,
     "metadata": {},
     "source": [
      "Example 6.5, Page No 147"
     ]
    },
    {
     "cell_type": "code",
     "collapsed": false,
     "input": [
      "import math\n",
      "#initialisation of variables\n",
      "P_AB = 10e6\n",
      "V_AB_lt = 13.8e3\n",
      "V_AB_ht = 138e3\n",
      "x_AB = complex(0.1)\n",
      "P_BC = 10e6\n",
      "V_BC_lt = 69e3\n",
      "V_BC_ht = 138e3\n",
      "x_BC = complex(0.08)\n",
      "P_base_B = 10e6\n",
      "V_base_B = 138e3\n",
      "Z_L = 300\n",
      "V_load = 66e3\n",
      "\n",
      "#Calculations\n",
      "V_base_A = (V_AB_lt/V_AB_ht)*V_base_B\n",
      "V_base_C = (V_BC_lt/V_BC_ht)*V_base_B\n",
      "base_impedance_C = (V_base_C)**2 / P_BC\n",
      "Z_L_pu = Z_L / base_impedance_C\n",
      "\n",
      "#impedance diagram is shown in the xcos file\n",
      "V_load_pu = V_load / V_base_C\n",
      "I_L_pu = V_load_pu / Z_L_pu\n",
      "voltage_input = (I_L_pu * (x_AB + x_BC)) + V_load_pu\n",
      "voltage_regulation = (abs(voltage_input)-abs(V_load_pu))*100/abs(V_load_pu)\n",
      "\n",
      "#Results\n",
      "print(\" Voltage regulation = %.2f percent \" %voltage_regulation)"
     ],
     "language": "python",
     "metadata": {},
     "outputs": [
      {
       "output_type": "stream",
       "stream": "stdout",
       "text": [
        " Voltage regulation = 28.57 percent \n"
       ]
      }
     ],
     "prompt_number": 16
    },
    {
     "cell_type": "heading",
     "level": 2,
     "metadata": {},
     "source": [
      "Example 6.6, Page No 151"
     ]
    },
    {
     "cell_type": "code",
     "collapsed": false,
     "input": [
      "import math\n",
      "#initialisation of variables\n",
      "P = 25e6\n",
      "V_ht = 38.1e3\n",
      "V_lt = 3.81e3\n",
      "R_l = 0.6\n",
      "P_ht_base = 75e6\n",
      "V_ht_base = 66e3\n",
      "\n",
      "#Calculations\n",
      "#Low-tension side base ratings\n",
      "print('Low-tension side')\n",
      "P_lt_base = P_ht_base\n",
      "V_lt_base = (V_lt/(V_ht*math.sqrt(3)))*V_ht_base\n",
      "print(\" Base for low tension side is %.0f MVA,%.2f kV\" %(P_lt_base/1e6,V_lt_base/1e3))\n",
      "Z_lt_base = (V_lt_base)**2/P_lt_base\n",
      "R_lt_l_base = R_l / Z_lt_base\n",
      "print(\" Base impedance for the low-tension side = %.2f ohm\" %Z_lt_base)\n",
      "print(\" Per unit impedance of load on the low-tension side = %.2f per unit \" %R_lt_l_base)\n",
      "\n",
      "#Results\n",
      "print('High-tension side')\n",
      "R_l_ht = R_l * ((V_ht*math.sqrt(3))/V_lt)**2\n",
      "Z_ht_base = (V_ht_base)**2 / P_ht_base\n",
      "R_ht_l_base = R_l_ht / Z_ht_base\n",
      "print(\" Base impedance for the high-tension side = %.2f ohm\" %Z_ht_base)\n",
      "print(\" Per unit impedance of load on the high-tension side = %.2f per unit\" %R_ht_l_base)"
     ],
     "language": "python",
     "metadata": {},
     "outputs": [
      {
       "output_type": "stream",
       "stream": "stdout",
       "text": [
        "Low-tension side\n",
        " Base for low tension side is 75 MVA,3.81 kV\n",
        " Base impedance for the low-tension side = 0.19 ohm\n",
        " Per unit impedance of load on the low-tension side = 3.10 per unit \n",
        "High-tension side\n",
        " Base impedance for the high-tension side = 58.08 ohm\n",
        " Per unit impedance of load on the high-tension side = 3.10 per unit\n"
       ]
      }
     ],
     "prompt_number": 17
    },
    {
     "cell_type": "heading",
     "level": 2,
     "metadata": {},
     "source": [
      "Example 6.7 Page No 152"
     ]
    },
    {
     "cell_type": "code",
     "collapsed": false,
     "input": [
      "import math\n",
      "#initialisation of variables\n",
      "z = 0.121\n",
      "P = 400e6\n",
      "V_ht = 220e3\n",
      "V_lt = 22e3\n",
      "V_ht_base = 230e3\n",
      "P_ht_base = 100e6\n",
      "\n",
      "#Calculations\n",
      "z_pu = z * P / (V_lt)**2\n",
      "\n",
      "#Results\n",
      "print(\" On its own base the transformer reactance = %.2f per unit\" %z_pu)\n",
      "z_new_pu=(z_pu * (V_ht/P_ht_base)**2 * (P_ht_base/P))\n",
      "print(\" On the chosen base the reactance = %.4f per unit\" %z_new_pu)\n"
     ],
     "language": "python",
     "metadata": {},
     "outputs": [
      {
       "output_type": "stream",
       "stream": "stdout",
       "text": [
        " On its own base the transformer reactance = 0.10 per unit\n",
        " On the chosen base the reactance = 0.0000 per unit\n"
       ]
      }
     ],
     "prompt_number": 18
    },
    {
     "cell_type": "heading",
     "level": 2,
     "metadata": {},
     "source": [
      "Example 6.7, Page No 154"
     ]
    },
    {
     "cell_type": "code",
     "collapsed": false,
     "input": [
      "import math\n",
      "#initialisation of variables\n",
      "Z_ps = complex(0.07)\n",
      "P_ps_base = 15e6\n",
      "V_ps_base = 66e3\n",
      "\n",
      "Z_pt = complex(0.09)\n",
      "P_pt_base = 15e6\n",
      "V_pt_base = 66e3\n",
      "Z_st = complex(0.08)\n",
      "P_st_base = 10e6\n",
      "V_st_base = 13.2e3\n",
      "\n",
      "#Calculations\n",
      "Z_st_new = Z_st * P_ps_base / P_st_base\n",
      "Z_p = (Z_ps + Z_pt - Z_st_new)/2\n",
      "Z_s = (Z_ps - Z_pt + Z_st_new)/2\n",
      "Z_t = (-Z_ps + Z_pt + Z_st_new)/2\n",
      "\n",
      "#Results\n",
      "print( \"Z_p in per unit = {0:.5f}i\".format(Z_p.real))\n",
      "print( \"Z_s in per unit = {0:.5f}i\".format(Z_s.real))\n",
      "print( \"Z_t in per unit = {0:.5f}i\".format(Z_t.real))"
     ],
     "language": "python",
     "metadata": {},
     "outputs": [
      {
       "output_type": "stream",
       "stream": "stdout",
       "text": [
        "Z_p in per unit = 0.02000i\n",
        "Z_s in per unit = 0.05000i\n",
        "Z_t in per unit = 0.07000i\n"
       ]
      }
     ],
     "prompt_number": 19
    },
    {
     "cell_type": "heading",
     "level": 2,
     "metadata": {},
     "source": [
      "Example 6.9 Page No 155"
     ]
    },
    {
     "cell_type": "code",
     "collapsed": false,
     "input": [
      "import math\n",
      "#initialisation of variables\n",
      "Z_ps = complex(0.07)\n",
      "P_ps_base = 15e6\n",
      "V_ps_base = 66e3\n",
      "P_r_load = 5e6\n",
      "V_r_load = 2.3e3\n",
      "P_m = 7.5e6\n",
      "V_m = 13.2e3\n",
      "R_l = 1\n",
      "X_11 = 0.20\n",
      "\n",
      "Z_pt = complex(0.09)\n",
      "P_pt_base = 15e6\n",
      "V_pt_base = 66e3\n",
      "\n",
      "Z_st = complex(0.08)\n",
      "P_st_base = 10e6\n",
      "V_st_base = 13.2e3\n",
      "\n",
      "#Calculations\n",
      "Z_st_new = Z_st * P_ps_base / P_st_base\n",
      "Z_p = (Z_ps + Z_pt - Z_st_new)/2\n",
      "Z_s = (Z_ps - Z_pt + Z_st_new)/2\n",
      "Z_t = (-Z_ps + Z_pt + Z_st_new)/2\n",
      "\n",
      "R_pu = R_l * P_ps_base / P_r_load\n",
      "X11_pu = X_11 *  P_ps_base / P_m\n",
      "\n",
      "#Results\n",
      "print(\" On a base of 15MVA,2.3kV load resistance = %.1f per unit\" %R_pu)\n",
      "print(\" Reactance of the motor at a base of 15MVA,13.2kV = %.2f per unit\" %X11_pu)\n",
      "\n",
      "#Reactance diagram is drawn in the xcos file\n"
     ],
     "language": "python",
     "metadata": {},
     "outputs": [
      {
       "output_type": "stream",
       "stream": "stdout",
       "text": [
        " On a base of 15MVA,2.3kV load resistance = 3.0 per unit\n",
        " Reactance of the motor at a base of 15MVA,13.2kV = 0.40 per unit\n"
       ]
      }
     ],
     "prompt_number": 20
    },
    {
     "cell_type": "heading",
     "level": 2,
     "metadata": {},
     "source": [
      "Example 6.10 Page No 159"
     ]
    },
    {
     "cell_type": "code",
     "collapsed": false,
     "input": [
      "import math\n",
      "#initialisation of variables\n",
      "\n",
      "def pucalc(pu_Z_given,base_kV_given,base_kV_new,base_kVA_new,base_kVA_given):\n",
      "    X11=(pu_Z_given * (base_kV_given/base_kV_new)**2 * (base_kVA_new/base_kVA_given))\n",
      "    return X11\n",
      "\n",
      "\n",
      "P_g = 300e6\n",
      "V_g = 20e3\n",
      "X11_g = 0.20\n",
      "l = 64\n",
      "V_m = 13.2e3\n",
      "P_m1 = 200e6\n",
      "P_m2 = 100e6\n",
      "X11_m = 0.20\n",
      "T1_P = 350e6\n",
      "T1_vht = 230e3\n",
      "T1_vlt = 20e3\n",
      "x_T1 = 0.10\n",
      "T2_1_P = 100e6\n",
      "T2_1_vht = 127e3\n",
      "T2_1_vlt = 13.2e3\n",
      "x_T2 = 0.10\n",
      "x_line = 0.5\t\t#ohm per km\n",
      "V_base = V_g\n",
      "P_base = P_g\n",
      "\n",
      "#Calculations\n",
      "T2_P = 3*T2_1_P\n",
      "T2_vht = math.sqrt(3)*T2_1_vht\n",
      "T2_vlt = T2_1_vlt\n",
      "V_base_line = (T1_vht/T1_vlt)*V_base\n",
      "V_base_m = V_base_line * (T2_vlt/T2_vht)\n",
      "x_T1_base = x_T1 * (P_base/T1_P)\n",
      "x_T2_base = x_T2 * (T2_vlt/V_base_m)\n",
      "z_line_base = (V_base_line)**2/P_base\n",
      "x_line_pu = x_line * l / z_line_base\n",
      "X11_m1_pu = pucalc(X11_m,V_m,V_base_m,P_base,P_m1)\n",
      "X11_m2_pu = pucalc(X11_m,V_m,V_base_m,P_base,P_m2)\n",
      "\n",
      "#Results\n",
      "#Reactance diagram is given in xcos file\n",
      "print('Base Voltages in different parts of circuit')\n",
      "print(\" Generator voltage = %.0f kV\" %(V_g/1e3))\n",
      "print(\" Line voltage = %.0f kV\" %(V_base_line/1e3))\n",
      "print(\" Motor voltage = %.1f kV \" %(V_base_m/1e3))\n",
      "\n",
      "print('Base reactance in different parts of circuit')\n",
      "print(\" Transformer 1 reactance = %.4f per unit\" %x_T1_base)\n",
      "print(\" Transformer 2 reactance = %.4f per unit\" %x_T2_base)\n",
      "print(\" Line reactance = %.4f per unit\" %x_line_pu)\n",
      "print(\" Motor 1 reactance = %.4f per unit\" %X11_m1_pu)\n",
      "print(\" Motor 2 reactance = %.4f per unit\" %X11_m2_pu)\n",
      "#impedance diagram is shown in the xcos file\n"
     ],
     "language": "python",
     "metadata": {},
     "outputs": [
      {
       "output_type": "stream",
       "stream": "stdout",
       "text": [
        "Base Voltages in different parts of circuit\n",
        " Generator voltage = 20 kV\n",
        " Line voltage = 230 kV\n",
        " Motor voltage = 13.8 kV \n",
        "Base reactance in different parts of circuit\n",
        " Transformer 1 reactance = 0.0857 per unit\n",
        " Transformer 2 reactance = 0.0956 per unit\n",
        " Line reactance = 0.1815 per unit\n",
        " Motor 1 reactance = 0.2744 per unit\n",
        " Motor 2 reactance = 0.5488 per unit\n"
       ]
      }
     ],
     "prompt_number": 21
    },
    {
     "cell_type": "heading",
     "level": 2,
     "metadata": {},
     "source": [
      "Example 6.11 Page No 160"
     ]
    },
    {
     "cell_type": "code",
     "collapsed": false,
     "input": [
      "import math\n",
      "#initialisation of variables\n",
      "P_g = 300e6\n",
      "V_g = 20e3\n",
      "X11_g = 0.20\n",
      "l = 64\n",
      "V_m = 13.2e3\n",
      "P_m1 = 120e6\n",
      "P_m2 = 60e6\n",
      "X11_m = 0.20\n",
      "T1_P = 350e6\n",
      "T1_vht = 230e3\n",
      "T1_vlt = 20e3\n",
      "x_T1 = 0.10\n",
      "T2_1_P = 100e6\n",
      "T2_1_vht = 127e3\n",
      "T2_1_vlt = 13.2e3\n",
      "x_T2 = 0.10\n",
      "x_line = 0.5#onhm per km\n",
      "V_base = V_g\n",
      "P_base = P_g\n",
      "\n",
      "#Calculations\n",
      "T2_P = 3*T2_1_P\n",
      "T2_vht = math.sqrt(3)*T2_1_vht\n",
      "T2_vlt = T2_1_vlt\n",
      "V_base_line = (T1_vht/T1_vlt)*V_base\n",
      "V_base_m = V_base_line * (T2_vlt/T2_vht)\n",
      "x_T1_base = x_T1 * (P_base/T1_P)\n",
      "x_T2_base = x_T2 * (T2_vlt/V_base_m)\n",
      "z_line_base = (V_base_line)**2/P_base\n",
      "x_line_pu = x_line * l / z_line_base\n",
      "P = P_m1 + P_m2\n",
      "P_pu = P / P_base\n",
      "V = V_m / V_base_m\n",
      "I = P_pu / V\n",
      "Vg = V + I * (complex(x_T1_base) + complex(x_T2_base) + complex(x_line_pu))\n",
      "V_terminal = abs(Vg) * V_g\n",
      "\n",
      "#Results\n",
      "print(\" The generator terminal voltage = %.2f kV\" %(V_terminal / 1e3))\n"
     ],
     "language": "python",
     "metadata": {},
     "outputs": [
      {
       "output_type": "stream",
       "stream": "stdout",
       "text": [
        " The generator terminal voltage = 23.68 kV\n"
       ]
      }
     ],
     "prompt_number": 22
    }
   ],
   "metadata": {}
  }
 ]
}