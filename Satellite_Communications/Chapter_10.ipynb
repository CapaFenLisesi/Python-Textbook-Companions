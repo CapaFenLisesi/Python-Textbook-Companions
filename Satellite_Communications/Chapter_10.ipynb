{
 "metadata": {
  "name": "",
  "signature": "sha256:e0d184d1729c611848b690830ee717bb5bc71942466a1adef15c51a942411c9c"
 },
 "nbformat": 3,
 "nbformat_minor": 0,
 "worksheets": [
  {
   "cells": [
    {
     "cell_type": "heading",
     "level": 1,
     "metadata": {},
     "source": [
      "Chapter 10: Digital Signal"
     ]
    },
    {
     "cell_type": "heading",
     "level": 2,
     "metadata": {},
     "source": [
      "Example 10.1, Page 272"
     ]
    },
    {
     "cell_type": "code",
     "collapsed": false,
     "input": [
      "import math\n",
      "\n",
      "#Variable Declaration\n",
      "\n",
      "PR=0.01  #The Average power received(watts)\n",
      "Tb=0.0001  #Bit period(seconds)\n",
      "N0=10**-7  #Noise power(joule)\n",
      "\n",
      "#Calculations\n",
      "\n",
      "\n",
      "Eb=PR*Tb  #Energy per bit received (joule)\n",
      "x=math.sqrt(Eb/N0)\n",
      "\n",
      "from scipy import integrate\n",
      "f=lambda t:math.exp(-t**2)\n",
      "erf=integrate.quad(f,0,x)\n",
      "erf1=erf[0]*(2/math.pi**0.5)\n",
      "BER=(1-erf1)*(10**6)/2\n",
      "BER=round(BER,2)\n",
      "\n",
      "print \"The Bit error rate is\", BER,\"*10^-6\""
     ],
     "language": "python",
     "metadata": {},
     "outputs": [
      {
       "output_type": "stream",
       "stream": "stdout",
       "text": [
        "The Bit error rate is 3.87 *10^-6\n"
       ]
      }
     ],
     "prompt_number": 1
    },
    {
     "cell_type": "heading",
     "level": 2,
     "metadata": {},
     "source": [
      "EXample 10.2, Page 274"
     ]
    },
    {
     "cell_type": "code",
     "collapsed": false,
     "input": [
      "import math\n",
      "#Variable Declaration\n",
      "Rb=61   #Transmission rate (Mb/s)\n",
      "ENR=9.5 #Required Energy to noise ratio(dB)\n",
      "\n",
      "#Calculation\n",
      "\n",
      "Rb=10*math.log10(61*10**6)  #Converting Transmission rate to dB\n",
      "CNR=Rb+ENR  #Carrier to noise ratio\n",
      "CNR=round(CNR,2)\n",
      "#Results\n",
      "\n",
      "print \"Required Carrier to noise ratio is\", CNR,\"dB\""
     ],
     "language": "python",
     "metadata": {},
     "outputs": [
      {
       "output_type": "stream",
       "stream": "stdout",
       "text": [
        "Required Carrier to noise ratio is 87.35 dB\n"
       ]
      }
     ],
     "prompt_number": 2
    },
    {
     "cell_type": "heading",
     "level": 2,
     "metadata": {},
     "source": [
      "Example 10.3, Page 275"
     ]
    },
    {
     "cell_type": "code",
     "collapsed": false,
     "input": [
      "#Variable Declaration\n",
      "BER=10**-5  #Maximum allowable bit error rate\n",
      "\n",
      "#Calculation\n",
      "\n",
      "import math\n",
      "from pylab import*\n",
      "%pylab inline\n",
      "x=linspace(8,10,11)  #Eb/N0 ratio represented by x\n",
      "x1=x**0.5\n",
      "for i in range(0,11):\n",
      "   x[i]=10*math.log10(x[i])  #Converting x into decibels\n",
      "\n",
      "\n",
      "erf=linspace(0,0,11)  #Initialization for erf function\n",
      "Pe=linspace(0,0,11)   #Initialization for Probablity of error\n",
      "\n",
      "from scipy import integrate\n",
      "f=lambda t:math.exp(-t**2)\n",
      "for i in range(0,10):\n",
      "   k=integrate.quad(f,0,x1[i])\n",
      "   erf[i]=k[0]*(2/math.pi**0.5)    \n",
      "   Pe[i]=(1-erf[i])/2       #Probability of error\n",
      "\n",
      "y=linspace(9,9.59,5)\n",
      "z=linspace(BER,BER,5)\n",
      "a=linspace(9.59,9.59,5)\n",
      "b=linspace(0,BER,5)\n",
      "plot(x,Pe)\n",
      "plot(y,z)\n",
      "plot(a,b)\n",
      "xlabel('xdB')\n",
      "ylabel('Pe(x)')\n",
      "show() \n",
      "x=9.6   #The Eb/N0 ratio for Maximum BER(dB) from the graph\n",
      "EbN0=x+2 #Eb/N0 ratio with implementation margin\n",
      "#Results\n",
      "\n",
      "print \"The Eb/N0 ratio with allowable BER of 10^-5 and implementation margin of 2dB is\",EbN0,\"dB\"\n",
      "\n",
      "\n"
     ],
     "language": "python",
     "metadata": {},
     "outputs": [
      {
       "output_type": "stream",
       "stream": "stdout",
       "text": [
        "Populating the interactive namespace from numpy and matplotlib\n"
       ]
      },
      {
       "output_type": "stream",
       "stream": "stderr",
       "text": [
        "WARNING: pylab import has clobbered these variables: ['linalg', 'draw_if_interactive', 'random', 'power', 'info', 'fft']\n",
        "`%pylab --no-import-all` prevents importing * from pylab and numpy\n"
       ]
      },
      {
       "metadata": {},
       "output_type": "display_data",
       "png": "[encoded data removed]",
       "text": [
        "<matplotlib.figure.Figure at 0x3733c90>"
       ]
      },
      {
       "output_type": "stream",
       "stream": "stdout",
       "text": [
        "The Eb/N0 ratio with allowable BER of 10^-5 and implementation margin of 2dB is 11.6 dB\n"
       ]
      }
     ],
     "prompt_number": 1
    }
   ],
   "metadata": {}
  }
 ]
}