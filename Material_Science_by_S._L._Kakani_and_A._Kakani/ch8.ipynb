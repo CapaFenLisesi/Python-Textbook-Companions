{
 "metadata": {
  "name": "",
  "signature": "sha256:8d9d7c620087dc26d3b736b06237bc35091ff6c91c27f59b3c7ac61a9f3126bd"
 },
 "nbformat": 3,
 "nbformat_minor": 0,
 "worksheets": [
  {
   "cells": [
    {
     "cell_type": "heading",
     "level": 1,
     "metadata": {},
     "source": [
      "Chapter 8 :\n",
      "Mechanical Properties of\n",
      "Materials and Mechanical Tests"
     ]
    },
    {
     "cell_type": "heading",
     "level": 2,
     "metadata": {},
     "source": [
      "Example 8.1 Page No : 269"
     ]
    },
    {
     "cell_type": "code",
     "collapsed": false,
     "input": [
      "\n",
      "import math \n",
      "\n",
      "# Variables\n",
      "Y = 180*10**9;\t\t\t#Young's modulus of a certain material(in N/m**2)\n",
      "E = 1.8;\t\t\t#true surface energy (in J/m**2)\n",
      "c = (5./2)*10**-6;\t\t\t#Crack (in meter)\n",
      "\n",
      "# Calculation\n",
      "F_strength = math.sqrt((2*Y*E/(math.pi*c)))\n",
      "p = 1000*math.pi*c/(2*Y) - 1.8\n",
      "\n",
      "# Results\n",
      "print 'fracture strength = %.2f MN/m**2'%(F_strength*10**-6)\n",
      "print \"plastic work required to propogate the crack : %.1f \"%p\n",
      "\n",
      "# book answer is wrong\n"
     ],
     "language": "python",
     "metadata": {},
     "outputs": [
      {
       "output_type": "stream",
       "stream": "stdout",
       "text": [
        "fracture strength = 287.24 MN/m**2\n",
        "plastic work required to propogate the crack : -1.8 \n"
       ]
      }
     ],
     "prompt_number": 1
    },
    {
     "cell_type": "heading",
     "level": 2,
     "metadata": {},
     "source": [
      "Example 8.2 Page No : 270"
     ]
    },
    {
     "cell_type": "code",
     "collapsed": false,
     "input": [
      "\n",
      "\n",
      "import math \n",
      "\n",
      "# Variables\n",
      "d_o = 12.7;\t\t\t#tensile test specimen diameter (in mm)\n",
      "d = 12;\t\t\t#tensile test specimen diameter after load (in mm)\n",
      "P = 76*10**3;\t\t\t#load(in N)\n",
      "pi = 22./7;\n",
      "A_o = (pi/4)*(d_o**2);\t\t\t#Initial area of cross section(in mm**2)\n",
      "A = (pi/4)*(d**2);\t\t\t#area of cross section after load of 76 kN\n",
      "\n",
      "# Calculation\n",
      "E_stress = P/A_o;\t\t\t#engineering stress\n",
      "T_stress = P/A;\t\t\t#true stress\n",
      "T_strain = math.log(A_o/A);\t\t\t#true strain\n",
      "E_strain = math.exp(T_strain)-1;\t\t\t#engineering strain\n",
      "\n",
      "# Results\n",
      "print 'engineering stress in = %.f N/mm**2'%E_stress\n",
      "print 'true stress in = %.2f N/mm**2'%T_stress\n",
      "print 'engineering strain = %.2f'%E_strain\n",
      "print 'true strain = %.2f'%T_strain\n",
      "\n",
      "# rounding off error"
     ],
     "language": "python",
     "metadata": {},
     "outputs": [
      {
       "output_type": "stream",
       "stream": "stdout",
       "text": [
        "engineering stress in = 600 N/mm**2\n",
        "true stress in = 671.72 N/mm**2\n",
        "engineering strain = 0.12\n",
        "true strain = 0.11\n"
       ]
      }
     ],
     "prompt_number": 9
    },
    {
     "cell_type": "heading",
     "level": 2,
     "metadata": {},
     "source": [
      "Example 8.3 Page No : 271"
     ]
    },
    {
     "cell_type": "code",
     "collapsed": false,
     "input": [
      "\t\t\t\n",
      "import math \n",
      "\n",
      "# Variables\n",
      "Y = 210.*10**9;\t\t\t#Young's modulus of a certain material(in N/m**2)\n",
      "E = 10.;\t\t\t#true surface energy (in J/m**2)\n",
      "c = (100./2)*10**-6;\t\t\t#Crack (in meter)\n",
      "pi = 3.14;\n",
      "\n",
      "# Calculation\n",
      "F_strength = (2*Y*E/(pi*c))**(1/2.);\n",
      "\n",
      "# Results\n",
      "print 'fracture strength in %.1e Newton/m**2'%F_strength\n"
     ],
     "language": "python",
     "metadata": {},
     "outputs": [
      {
       "output_type": "stream",
       "stream": "stdout",
       "text": [
        "fracture strength in 1.6e+08 Newton/m**2\n"
       ]
      }
     ],
     "prompt_number": 4
    },
    {
     "cell_type": "heading",
     "level": 2,
     "metadata": {},
     "source": [
      "Example 8.4 Page No : 271"
     ]
    },
    {
     "cell_type": "code",
     "collapsed": false,
     "input": [
      "\t\t\t\n",
      "import math \n",
      "\n",
      "# Variables\n",
      "l_o = 305.*10**-3;\t\t\t#length of copper piece(in meter)\n",
      "E = 110.*10**9;\t\t\t#surface energy\n",
      "stress = 276.*10**6;\t\t\t#in Pa\n",
      "\n",
      "# Calculation\n",
      "dl = stress*l_o/E;\t\t\t#resultant elongation(in meter)\n",
      "\n",
      "# Results\n",
      "print 'resultant elongation in = %.2f mm'%(dl*10**3)\n"
     ],
     "language": "python",
     "metadata": {},
     "outputs": [
      {
       "output_type": "stream",
       "stream": "stdout",
       "text": [
        "resultant elongation in = 0.77 mm\n"
       ]
      }
     ],
     "prompt_number": 6
    },
    {
     "cell_type": "heading",
     "level": 2,
     "metadata": {},
     "source": [
      "Example 8.5 Page No : 271"
     ]
    },
    {
     "cell_type": "code",
     "collapsed": false,
     "input": [
      "\t\t\t\n",
      "import math \n",
      "\n",
      "# Variables\n",
      "T_stress = 415.;\t\t\t#True stress (in Megapascal)\n",
      "T_strain = 0.10;\t\t\t#True strain \n",
      "K = 1035.;\t\t\t#(in Megapascal)\n",
      "\n",
      "# Calculation\n",
      "n = (math.log(T_stress)-math.log(K))/math.log(T_strain);\t\t\t#\n",
      "\n",
      "# Results\n",
      "print 'Strain hardening exponent for an alloy = %.2f'%n\n"
     ],
     "language": "python",
     "metadata": {},
     "outputs": [
      {
       "output_type": "stream",
       "stream": "stdout",
       "text": [
        "Strain hardening exponent for an alloy = 0.40\n"
       ]
      }
     ],
     "prompt_number": 7
    }
   ],
   "metadata": {}
  }
 ]
}