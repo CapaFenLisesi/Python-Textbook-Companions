{
 "metadata": {
  "name": "",
  "signature": "sha256:c3307fcf5401111c18823817fd228cc6b9116793515454b94be6aa8bf3b80a0e"
 },
 "nbformat": 3,
 "nbformat_minor": 0,
 "worksheets": [
  {
   "cells": [
    {
     "cell_type": "heading",
     "level": 1,
     "metadata": {},
     "source": [
      "Chapter 14 :\n",
      "Electrical and Magnetic\n",
      "Properties of Materials"
     ]
    },
    {
     "cell_type": "heading",
     "level": 2,
     "metadata": {},
     "source": [
      "Example 14.1 Page No : 443"
     ]
    },
    {
     "cell_type": "code",
     "collapsed": false,
     "input": [
      "\t\t\t\n",
      "import math \n",
      "\n",
      "# Variables\n",
      "l = 100;\t\t\t#length of wire\n",
      "p = 2.66*10**(-8);\t\t\t#resistivity\n",
      "\n",
      "# Calculation\n",
      "A = 3*10**(-6);\t\t\t#cross sectional area\n",
      "R = p*l/A;\t\t\t#resismath.tance of an aluminium wire\n",
      "\n",
      "# Results\n",
      "print 'resistance of an aluminium wire = %.3e Ohm'%R\n"
     ],
     "language": "python",
     "metadata": {},
     "outputs": [
      {
       "output_type": "stream",
       "stream": "stdout",
       "text": [
        "resistance of an aluminium wire = 8.867e-01 Ohm\n"
       ]
      }
     ],
     "prompt_number": 6
    },
    {
     "cell_type": "heading",
     "level": 2,
     "metadata": {},
     "source": [
      "Example 14.2 Page No : 443"
     ]
    },
    {
     "cell_type": "code",
     "collapsed": false,
     "input": [
      "\t\t\t\n",
      "import math \n",
      "\n",
      "# Variables\n",
      "R_Cu = 1.56;\t\t\t#Resistivity of pure copper(in micro-ohm-cm)\n",
      "R_CuNi  =  4.06;\t\t\t#Resistivity of Cu containing two atomic percent (in micro-ohm-cm)\n",
      "R_Ni = (R_CuNi-R_Cu)/2;\t\t\t#Increase in resistivity due to one atomic % Ni\n",
      "\n",
      "# Calculation\n",
      "R_CuAg =  1.7;\t\t\t#resistivity of copper, containing one atomic percent silver (in micro-ohm-cm)\n",
      "R_Ag = R_CuAg-R_Cu;\t\t\t#Increase in resistivity due to one atomic % Ag\n",
      "R_CuNiAg = R_Cu+R_Ni+3*R_Ag;\t\t\t#Resistivity of copper alloy containing one atomic percent Ni and 3 atomic percent Ag\n",
      "\n",
      "# Results\n",
      "print 'Resistivity of copper alloy containing one atomic percent Ni and 3 atomic percent Ag = %.2f micro-ohm-cm'%R_CuNiAg\n"
     ],
     "language": "python",
     "metadata": {},
     "outputs": [
      {
       "output_type": "stream",
       "stream": "stdout",
       "text": [
        "Resistivity of copper alloy containing one atomic percent Ni and 3 atomic percent Ag = 3.23 micro-ohm-cm\n"
       ]
      }
     ],
     "prompt_number": 4
    },
    {
     "cell_type": "heading",
     "level": 2,
     "metadata": {},
     "source": [
      "Example 14.3 Page No : 443"
     ]
    },
    {
     "cell_type": "code",
     "collapsed": false,
     "input": [
      "\t\t\t\n",
      "import math \n",
      "\n",
      "# Variables\n",
      "R_Cu = 1.8*10**(-8);\t\t\t#resistivity of pure copper at room temperature \n",
      "R_CuNi = 7*10**(-8);\t\t\t#resistivity of Cu 4% Ni alloy at room temperature \n",
      "\n",
      "# Calculation\n",
      "R_Ni = (R_CuNi-R_Cu)/4;\t\t\t#resistivity due to Impurity scattering per % of Ni\n",
      "\n",
      "# Results\n",
      "print 'resistivity due to impurity scattering per percent of Ni in the Cu lattice = %.1e ohm-meter'%R_Ni\n"
     ],
     "language": "python",
     "metadata": {},
     "outputs": [
      {
       "output_type": "stream",
       "stream": "stdout",
       "text": [
        "resistivity due to impurity scattering per percent of Ni in the Cu lattice = 1.3e-08 ohm-meter\n"
       ]
      }
     ],
     "prompt_number": 5
    },
    {
     "cell_type": "heading",
     "level": 2,
     "metadata": {},
     "source": [
      "Example 14.4 Page No : 455"
     ]
    },
    {
     "cell_type": "code",
     "collapsed": false,
     "input": [
      "\t\t\t\n",
      "import math \n",
      "\n",
      "# Variables\n",
      "C = 10**(-9);\t\t\t#capacitance(in F)\n",
      "d = 2*10**(-3);\t\t\t#distance of separation in a parallel plate condenser\n",
      "E_o = 8.854*10**(-12);\t\t\t#dielectric consmath.tant\n",
      "\n",
      "# Calculation\n",
      "A = (10*10**(-3))*(10*10**(-3));\t\t\t#area of parallel plate condenser\n",
      "#C = E_o*E_r*A/d\n",
      "E_r = C*d/(E_o*A);\t\t\t#Relative dielectric constant\n",
      "\n",
      "# Results\n",
      "print 'Relative dielectric constant of a barium titanate crystal %.0f'%(E_r)\n"
     ],
     "language": "python",
     "metadata": {},
     "outputs": [
      {
       "output_type": "stream",
       "stream": "stdout",
       "text": [
        "Relative dielectric constant of a barium titanate crystal 2259\n"
       ]
      }
     ],
     "prompt_number": 3
    },
    {
     "cell_type": "heading",
     "level": 2,
     "metadata": {},
     "source": [
      "Example 14.5 Page No : 456"
     ]
    },
    {
     "cell_type": "code",
     "collapsed": false,
     "input": [
      "\t\t\t\n",
      "import math \n",
      "\n",
      "# Variables\n",
      "q = 1.6*10**(-19);\t\t\t#charge (in C)\n",
      "d_1 = 0.06\t\t\t#shift of the titanium ion from the body centre (in \u00c5)\n",
      "d_2 = 0.08\t\t\t#shift of the oxygen anions of the side faces (in \u00c5)\n",
      "d_3 = 0.06\t\t\t#shift of the oxygen anions of the top and bottom face (in \u00c5) \n",
      "\n",
      "# Calculation\n",
      "D_1 = d_1*10**(-10);\t\t\t#shift of the titanium ion from the body centre (in m)\n",
      "D_2 = d_2*10**(-10);\t\t\t#shift of the oxygen anions of the side faces (in m)\n",
      "D_3 = d_3*10**(-10);\t\t\t#shift of the oxygen anions of the top and bottom face (in m)\n",
      "U_1 = 4*q*D_1;\t\t\t#dipole moment due to two O2\u2013 ions on the four side faces(in C-m)\n",
      "U_2 = 2*q*D_2;\t\t\t#dipole moment due to one O2\u2013 on top and bottom(in C-m)\n",
      "U_3 = 4*q*D_3;\t\t\t#dipole moment due to one Ti4+ ion at body centre(in C-m)\n",
      "U = U_1+U_2+U_3;\t\t\t#Total dipole moment(in C-m)\n",
      "V = 4.03*((3.98)**2)*10**(-30);\t\t\t#volume(in m3)\n",
      "P = U/V;\t\t\t#polarization the total dipole moments per unit volume\n",
      "\n",
      "# Results\n",
      "print 'polarization = %.2f C/m**2'%P\n"
     ],
     "language": "python",
     "metadata": {},
     "outputs": [
      {
       "output_type": "stream",
       "stream": "stdout",
       "text": [
        "polarization = 0.16 C/m**2\n"
       ]
      }
     ],
     "prompt_number": 2
    },
    {
     "cell_type": "heading",
     "level": 2,
     "metadata": {},
     "source": [
      "Example 14.6 Page No : 478"
     ]
    },
    {
     "cell_type": "code",
     "collapsed": false,
     "input": [
      "\t\t\t\n",
      "import math \n",
      "\n",
      "# Variables\n",
      "V = ((2.87)**3)*10**(-30)\t\t\t#Volume of unit cell of BCC iron (in m**3)\n",
      "N = 2.\t\t\t#Number of atoms in the unit cell\n",
      "\n",
      "# Calculation\n",
      "M = 1750.*10**3;\t\t\t#saturation magnetization of BCC Iron A/m\n",
      "M_Net = V*M*(1./N)\t\t\t#net magnetic moment per atom\n",
      "Bohr_magneton = 9.273*10**(-24);\t\t\t#Bohr_magneton (magnetic moment) in A/m2\n",
      "M_moment = M_Net/Bohr_magneton;\t\t\t#The magnetic moment (in units of U_B)\n",
      "\n",
      "# Results\n",
      "print 'The magnetic moment (in units of U_B) = %.1f'%M_moment\n"
     ],
     "language": "python",
     "metadata": {},
     "outputs": [
      {
       "output_type": "stream",
       "stream": "stdout",
       "text": [
        "The magnetic moment (in units of U_B) = 2.2\n"
       ]
      }
     ],
     "prompt_number": 7
    },
    {
     "cell_type": "heading",
     "level": 2,
     "metadata": {},
     "source": [
      "Example 14.7 Page No : 479"
     ]
    },
    {
     "cell_type": "code",
     "collapsed": false,
     "input": [
      "\t\t\t\n",
      "import math \n",
      "\n",
      "# Variables\n",
      "p = 8.90*10**6;\t\t\t#density of nickel in gm/m3. \n",
      "N_A = 6.023*10**23;\t\t\t#Avogadro\u2019s number atoms/mol\n",
      "At_w = 58.71;\t\t\t#Atomic weight of Ni in gm/mol\n",
      "\n",
      "# Calculation\n",
      "N = p*N_A/At_w;\t\t\t#number of atoms/m3\n",
      "U_B = 9.273*10**(-24);\t\t\t#Bohr_magneton\n",
      "M_s = 0.60*U_B*N;\t\t\t#saturation magnetization\n",
      "pi = 22./7;\n",
      "U_o = 4*pi*10**(-7);\t\t\t#magnetic consmath.tant\n",
      "B_s = U_o*M_s;\t\t\t#Saturation flux density\n",
      "\n",
      "# Results\n",
      "print 'the saturation magnetization = %.1e'%M_s\n",
      "print 'Saturation flux density = %.2f'%B_s\n"
     ],
     "language": "python",
     "metadata": {},
     "outputs": [
      {
       "output_type": "stream",
       "stream": "stdout",
       "text": [
        "the saturation magnetization = 5.1e+05\n",
        "Saturation flux density = 0.64\n"
       ]
      }
     ],
     "prompt_number": 8
    },
    {
     "cell_type": "heading",
     "level": 2,
     "metadata": {},
     "source": [
      "Example 14.8 Page No : 479"
     ]
    },
    {
     "cell_type": "code",
     "collapsed": false,
     "input": [
      "\t\t\t\n",
      "import math \n",
      "\n",
      "# Variables\n",
      "#Each cubic unit cell of ferrous ferric oxide contains 8 Fe2+ and 16 Fe3+ ions and\n",
      "n_b = 32;\t\t\t#\n",
      "U_B = 9.273*10**(-24);\t\t\t#Bohr_magneton\n",
      "\n",
      "# Calculation\n",
      "a = 0.839*10**(-9);\t\t\t#the unit cell edge length in m\n",
      "V = a**3;\t\t\t#volume(in m3)\n",
      "M_s = n_b*U_B/V;\t\t\t#the saturation magnetization\n",
      "\n",
      "# Results\n",
      "print 'the saturation magnetization = %.0e A/m'%M_s\n"
     ],
     "language": "python",
     "metadata": {},
     "outputs": [
      {
       "output_type": "stream",
       "stream": "stdout",
       "text": [
        "the saturation magnetization = 5e+05 A/m\n"
       ]
      }
     ],
     "prompt_number": 7
    },
    {
     "cell_type": "heading",
     "level": 2,
     "metadata": {},
     "source": [
      "Example 14.9 Page No : 479"
     ]
    },
    {
     "cell_type": "code",
     "collapsed": false,
     "input": [
      "\n",
      "import math \n",
      "\n",
      "\n",
      "# Variables\n",
      "#hysteresis loss (Ph) and the induced emf loss (Pe) are proportional to the frequency\n",
      "#Pe is proportional to the square of the induced emf (Pe)\n",
      "#Pe + Ph  =  750 W (at 25 Hz)\n",
      "#4Pe + 2Ph  =  2300 W(at 50Hz)\n",
      "#solving equation\n",
      "P_e = 800./2;\t\t\t#induced emf loss \n",
      "\n",
      "# Calculation\n",
      "I_d = 4*P_e;\t\t\t#The eddy current loss at the normal voltage and frequency\n",
      "\n",
      "# Results\n",
      "print 'The eddy current loss at the normal voltage and frequency = %.0f W'%I_d\n"
     ],
     "language": "python",
     "metadata": {},
     "outputs": [
      {
       "output_type": "stream",
       "stream": "stdout",
       "text": [
        "The eddy current loss at the normal voltage and frequency = 1600 W\n"
       ]
      }
     ],
     "prompt_number": 1
    }
   ],
   "metadata": {}
  }
 ]
}