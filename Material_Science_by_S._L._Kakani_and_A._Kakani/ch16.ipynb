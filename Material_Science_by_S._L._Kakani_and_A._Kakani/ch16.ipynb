{
 "metadata": {
  "name": "",
  "signature": "sha256:56faf14394c3ea1277cb1f85c7bc70faefc404ada370b067ab1e7cf4d70ea9ba"
 },
 "nbformat": 3,
 "nbformat_minor": 0,
 "worksheets": [
  {
   "cells": [
    {
     "cell_type": "heading",
     "level": 1,
     "metadata": {},
     "source": [
      "Chapter 16 :\n",
      "Superconductivity and\n",
      "Superconducting Materials"
     ]
    },
    {
     "cell_type": "heading",
     "level": 2,
     "metadata": {},
     "source": [
      "Example 16.1 Page No : 551"
     ]
    },
    {
     "cell_type": "code",
     "collapsed": false,
     "input": [
      "\t\t\t\n",
      "import math \n",
      "\n",
      "# Variables\n",
      "T_c = 4.2;\t\t\t#critical temperature of mercury\n",
      "k = 1.4*10**(-23);\t\t\t#\n",
      "e = 1.6*10**(-19);\t\t\t#charge on the electron \n",
      "\n",
      "# Calculation\n",
      "E_g = 3*k*T_c;\t\t\t#energy gap (in Joule)\n",
      "E = E_g/e;\t\t\t#energy gap (in electron volt)\n",
      "h = 6.6*10**(-34)\t\t\t# in J-s\n",
      "c = 3*10**8;\t\t\t#in m/s\n",
      "wavelength = h*c/E_g;\t\t\t#wavelength of a photon (in m)\n",
      "\n",
      "# Results\n",
      "print 'energy gap = %.1e ev'%E\n",
      "print 'wavelength of a photon = %.1e m'%wavelength\n"
     ],
     "language": "python",
     "metadata": {},
     "outputs": [
      {
       "output_type": "stream",
       "stream": "stdout",
       "text": [
        "energy gap = 1.1e-03 ev\n",
        "wavelength of a photon = 1.1e-03 m\n"
       ]
      }
     ],
     "prompt_number": 1
    }
   ],
   "metadata": {}
  }
 ]
}