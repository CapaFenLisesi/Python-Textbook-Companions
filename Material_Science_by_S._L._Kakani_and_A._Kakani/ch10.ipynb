{
 "metadata": {
  "name": "",
  "signature": "sha256:8423f8dd8cef07dd1b306293d3f89231a94157a35ba4e1f68dddcd1c471e99b2"
 },
 "nbformat": 3,
 "nbformat_minor": 0,
 "worksheets": [
  {
   "cells": [
    {
     "cell_type": "heading",
     "level": 1,
     "metadata": {},
     "source": [
      "Chapter 10 :\n",
      "Heat Treatment"
     ]
    },
    {
     "cell_type": "heading",
     "level": 2,
     "metadata": {},
     "source": [
      "Example 10.1 Page No : 343"
     ]
    },
    {
     "cell_type": "code",
     "collapsed": false,
     "input": [
      "\t\t\t\n",
      "import math \n",
      "\n",
      "# Variables\n",
      "N = 8;\t\t\t#ASTM grain size number\n",
      "n = 2**(N-1);\t\t\t#Number of grains per inch square at a magnification\n",
      "N_1 = n*100.*100;\t\t\t#Number of grains per inch square without magnification\n",
      "\n",
      "# Calculation\n",
      "N_2 = N_1/(25.4)**2;\t\t\t#Number of grains per mm square without magnification\n",
      "A_a = 1./(N_2);\t\t\t#Average area of each grain(in mm**2)\n",
      "D = (A_a)**(1./2);\t\t\t#Average grain diameter(in mm)\n",
      "\n",
      "# Results\n",
      "print 'Average grain diameter = %.3f mm'%D\n"
     ],
     "language": "python",
     "metadata": {},
     "outputs": [
      {
       "output_type": "stream",
       "stream": "stdout",
       "text": [
        "Average grain diameter = 0.022 mm\n"
       ]
      }
     ],
     "prompt_number": 1
    }
   ],
   "metadata": {}
  }
 ]
}