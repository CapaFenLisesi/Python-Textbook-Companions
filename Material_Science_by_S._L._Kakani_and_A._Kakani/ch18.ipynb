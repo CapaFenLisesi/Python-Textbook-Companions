{
 "metadata": {
  "name": "",
  "signature": "sha256:c178e1bd9fc41dc391bdd628b47b12bf3cc848e75815d75ccf67815a215adacd"
 },
 "nbformat": 3,
 "nbformat_minor": 0,
 "worksheets": [
  {
   "cells": [
    {
     "cell_type": "heading",
     "level": 1,
     "metadata": {},
     "source": [
      "Chapter 18 :\n",
      "Composites"
     ]
    },
    {
     "cell_type": "heading",
     "level": 2,
     "metadata": {},
     "source": [
      "Example 18.1 Page No : 610"
     ]
    },
    {
     "cell_type": "code",
     "collapsed": false,
     "input": [
      "\t\t\t\n",
      "import math \n",
      "\n",
      "# Variables\n",
      "E_f = 69;\t\t\t#modulus of elasticity in GPa\n",
      "V_f = 40./100;\t\t\t#Volume of glass fibres %\n",
      "E_m = 3.4;\t\t\t#modulus (in GPa)\n",
      "V_m = 60./100;\t\t\t#Volume of polyester remath.sin %\n",
      "\n",
      "# Calculation\n",
      "E_cl = E_m*V_m+E_f*V_f;\t\t\t#modulus of elasticity (in Gpa)\n",
      "\n",
      "# Results\n",
      "print 'Modulus of elasticity is %.0f Gpa'%(E_cl)\n"
     ],
     "language": "python",
     "metadata": {},
     "outputs": [
      {
       "output_type": "stream",
       "stream": "stdout",
       "text": [
        "Modulus of elasticity is 30 Gpa\n"
       ]
      }
     ],
     "prompt_number": 2
    },
    {
     "cell_type": "heading",
     "level": 2,
     "metadata": {},
     "source": [
      "Example 18.2 Page No : 611"
     ]
    },
    {
     "cell_type": "code",
     "collapsed": false,
     "input": [
      "\t\t\t\n",
      "import math \n",
      "\n",
      "# Variables\n",
      "E_f = 69;\t\t\t#modulus of elasticity in GPa\n",
      "V_f = 40./100;\t\t\t#Volume of glass fibres %\n",
      "E_m = 3.4;\t\t\t#modulus (in GPa)\n",
      "V_m = 60./100;\t\t\t#Volume of polyester remath.sin %\n",
      "\n",
      "# Calculation\n",
      "E_cl = E_m*E_f/(E_m*V_f+E_f*V_m);\t\t\t#modulus of elasticity when the stress is applied perpendicular to the direction of the fibre alignment(in Gpa)\n",
      "\n",
      "# Results\n",
      "print 'modulus of elasticity when the stress is applied perpendicular to the direction of the fibre alignment = %.1f Gpa'%E_cl\n"
     ],
     "language": "python",
     "metadata": {},
     "outputs": [
      {
       "output_type": "stream",
       "stream": "stdout",
       "text": [
        "modulus of elasticity when the stress is applied perpendicular to the direction of the fibre alignment = 5.5 Gpa\n"
       ]
      }
     ],
     "prompt_number": 1
    }
   ],
   "metadata": {}
  }
 ]
}