{
 "metadata": {
  "name": "",
  "signature": "sha256:b68069a86d982f0fbb7f292544735818ed7473431281a6c20f1e7336e739e90b"
 },
 "nbformat": 3,
 "nbformat_minor": 0,
 "worksheets": [
  {
   "cells": [
    {
     "cell_type": "heading",
     "level": 1,
     "metadata": {},
     "source": [
      "Chapter 13 :\n",
      "Thermal and Optical\n",
      "Properties of Materials"
     ]
    },
    {
     "cell_type": "heading",
     "level": 2,
     "metadata": {},
     "source": [
      "Example 13.1 Page No : 417"
     ]
    },
    {
     "cell_type": "code",
     "collapsed": false,
     "input": [
      "\t\t\t\n",
      "import math \n",
      "\n",
      "# Variables \n",
      "alpha = 20*10**(-6);\t\t\t#linear coefficient of thermal expansion per\u00b0C\n",
      "Sigma = -(172);\t\t\t#compressive stress MPa\n",
      "T = 20;\t\t\t#Temprature at which rod is stress free(in \u00b0C)\n",
      "\n",
      "# Calculation\n",
      "E = 100*10**3;\t\t\t#modulus of elasticity (in MPa)\n",
      "T_f = T-(Sigma/(alpha*E));\t\t\t#maximum temperature the rod may be heated without exceeding a compressive stress of 172 MPa\n",
      "\n",
      "# Results\n",
      "print 'maximum temperature(in \u00b0C) the rod may be heated without exceeding a compressive stress of 172 MPa = %.0f \u00b0C'%T_f\n"
     ],
     "language": "python",
     "metadata": {},
     "outputs": [
      {
       "output_type": "stream",
       "stream": "stdout",
       "text": [
        "maximum temperature(in \u00b0C) the rod may be heated without exceeding a compressive stress of 172 MPa = 106 \u00b0C\n"
       ]
      }
     ],
     "prompt_number": 3
    }
   ],
   "metadata": {}
  }
 ]
}