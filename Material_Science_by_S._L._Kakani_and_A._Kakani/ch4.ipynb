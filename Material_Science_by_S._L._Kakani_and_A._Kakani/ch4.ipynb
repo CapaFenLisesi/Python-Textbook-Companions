{
 "metadata": {
  "name": "",
  "signature": "sha256:10485c06d3141b9088340f19ea6a7420664af7ae170cac60ae1844a81a9e618f"
 },
 "nbformat": 3,
 "nbformat_minor": 0,
 "worksheets": [
  {
   "cells": [
    {
     "cell_type": "heading",
     "level": 1,
     "metadata": {},
     "source": [
      "Chapter 4 :\n",
      "Bonds in solid"
     ]
    },
    {
     "cell_type": "heading",
     "level": 2,
     "metadata": {},
     "source": [
      "Example 4.1 Page No : 137"
     ]
    },
    {
     "cell_type": "code",
     "collapsed": false,
     "input": [
      "\t\t\t\n",
      "import math \n",
      "\n",
      "# Variables\n",
      "r_o = 2.8\t\t\t#interatomic distance in \u00c5\n",
      "R_o = 2.8*10**(-10);#interatomic distance in m\n",
      "u_o = 8.;\t\t\t#released energy in eV\n",
      "e = 1.6*10**(-19);\t#charge of electron in C\n",
      "U_o = 8.*e\t\t\t#released energy in Joule\n",
      "\n",
      "# Calculation\n",
      "A = (5./4)*U_o*(R_o**2);\t\t\t#proportionality constant for attraction in J-m2\n",
      "B = A*(R_o**8)/5;\t\t\t#proportionality constant for repulsion in J-m2\n",
      "r_c = (110*B/(6*A))**(1./8);\t\t\t#interatomic distance at which the dissociation occurs in m\n",
      "F = -(2/r_c**3)*(A-5*B/(r_c**8));\t\t\t#the force required to dissociate the molecule in N\n",
      "\n",
      "# Results\n",
      "print 'proportionality constant for attraction = %.2e J-m2'%A\n",
      "print 'proportionality constant for repulsion = %.2e J-m2'%B\n",
      "print 'interatomic distance at which the dissociation occurs = %.2e m'%r_c\n",
      "print 'the force required to dissociate the molecule = %.2e N'%F\n"
     ],
     "language": "python",
     "metadata": {},
     "outputs": [
      {
       "output_type": "stream",
       "stream": "stdout",
       "text": [
        "proportionality constant for attraction = 1.25e-37 J-m2\n",
        "proportionality constant for repulsion = 9.48e-115 J-m2\n",
        "interatomic distance at which the dissociation occurs = 3.29e-10 m\n",
        "the force required to dissociate the molecule = -5.11e-09 N\n"
       ]
      }
     ],
     "prompt_number": 1
    },
    {
     "cell_type": "heading",
     "level": 2,
     "metadata": {},
     "source": [
      "Example 4.2 Page No : 138"
     ]
    },
    {
     "cell_type": "code",
     "collapsed": false,
     "input": [
      "\t\t\t\n",
      "import math \n",
      "\n",
      "# Variables\n",
      "r_o = 3.14;\t\t\t#nearest neighbour equilibrium distance in \u00c5\n",
      "R_o = 3.14*10**(-10);\t\t\t#nearest neighbour equilibrium distance in m\n",
      "K = 5.747*10**(-11);\t\t\t#compressibility of KCl in m2/N\n",
      "M = 1.748;\t\t\t#Madelung constant\n",
      "pi = 22./7;\n",
      "\n",
      "# Calculation\n",
      "E_o = 8.854*10**(-12);\n",
      "q = 1.6*10**(-19);\t\t\t#electron charge\n",
      "n = 1+18*(R_o**4)*4*pi*E_o/(K*M*q**2);\n",
      "\n",
      "# Results\n",
      "print 'repulsive exponent n = %.1f'%n\n"
     ],
     "language": "python",
     "metadata": {},
     "outputs": [
      {
       "output_type": "stream",
       "stream": "stdout",
       "text": [
        "repulsive exponent n = 8.6\n"
       ]
      }
     ],
     "prompt_number": 2
    },
    {
     "cell_type": "heading",
     "level": 2,
     "metadata": {},
     "source": [
      "Example 4.3 Page No : 139"
     ]
    },
    {
     "cell_type": "code",
     "collapsed": false,
     "input": [
      "\t\t\t\n",
      "import math \n",
      "\n",
      "# Variables\n",
      "F_1 = 3.02*10**(-9);\t\t\t#force of attraction b/w ions of Na+ and Cl-\n",
      "Z_1 = +1;\n",
      "Z_2 = -1;\n",
      "e = 1.6*10**(-19);\n",
      "E_o = 8.854*10**-12;\n",
      "pi = 22./7;\n",
      "r_Na = 0.95;\t\t\t#ionic radius of Na+ ion\n",
      "\n",
      "# Calculation\n",
      "r = (-Z_1*Z_2*e**2/(4*pi*E_o*F_1))**(1./2);\t\t\t#Radius of ion in meter\n",
      "R = r/10**(-10);\t\t\t#Radius of ion in Angstrom\n",
      "r_Cl = (R-r_Na);\t\t\t#Radius of Cl- ion in Angstrom\n",
      "\n",
      "# Results\n",
      "print 'Ionic Radius of Cl- ion in = %.2f Angstrom'%r_Cl\n"
     ],
     "language": "python",
     "metadata": {},
     "outputs": [
      {
       "output_type": "stream",
       "stream": "stdout",
       "text": [
        "Ionic Radius of Cl- ion in = 1.81 Angstrom\n"
       ]
      }
     ],
     "prompt_number": 4
    },
    {
     "cell_type": "heading",
     "level": 2,
     "metadata": {},
     "source": [
      "Example 4.4 Page No : 139"
     ]
    },
    {
     "cell_type": "code",
     "collapsed": false,
     "input": [
      "\t\t\t\n",
      "import math \n",
      "\n",
      "# Variables\n",
      "Z_1 = +2;\n",
      "Z_2 = -2;\n",
      "r_Mg = 0.65;\t\t\t#radius of Mg++ ion\n",
      "r_S = 1.84;\t\t\t#radius of S-- ion\n",
      "r = r_Mg+r_S;\t\t\t#net radius(in Angstrom)\n",
      "\n",
      "# Calculation\n",
      "R = r*10**(-10);\t\t\t#net radius(in meter)\n",
      "e = 1.6*10**(-19);\n",
      "E_o = 8.854*10**-12;\n",
      "pi = 22./7;\n",
      "F = -Z_1*Z_2*e**2/(4*pi*E_o*R**2);\t\t\t#force of attraction between ions(in Newton)\n",
      "\n",
      "# Results\n",
      "print 'force of attraction between ions in = %.1e Newton'%F\n"
     ],
     "language": "python",
     "metadata": {},
     "outputs": [
      {
       "output_type": "stream",
       "stream": "stdout",
       "text": [
        "force of attraction between ions in = 1.5e-08 Newton\n"
       ]
      }
     ],
     "prompt_number": 5
    },
    {
     "cell_type": "heading",
     "level": 2,
     "metadata": {},
     "source": [
      "Example 4.5 Page No : 150"
     ]
    },
    {
     "cell_type": "code",
     "collapsed": false,
     "input": [
      "\t\t\t\n",
      "import math \n",
      "\n",
      "# Variables\n",
      "#Na atom requires +5.14 eV of energy. When this electron is transferred to a vacant position,it gives back \u20134.02 eV of energy\n",
      "E_1 = +5.14;\t\t\t#in eV\n",
      "E_2 = -4.02;\t\t\t#in eV\n",
      "\n",
      "# Calculation\n",
      "NET_energy = E_1+E_2;\t\t\t#in eV\n",
      "\n",
      "# Results\n",
      "print 'Net spent energy in whole process in = %.2f eV'%NET_energy\n"
     ],
     "language": "python",
     "metadata": {},
     "outputs": [
      {
       "output_type": "stream",
       "stream": "stdout",
       "text": [
        "Net spent energy in whole process in = 1.12 eV\n"
       ]
      }
     ],
     "prompt_number": 7
    },
    {
     "cell_type": "heading",
     "level": 2,
     "metadata": {},
     "source": [
      "Example 4.6 Page No : 150"
     ]
    },
    {
     "cell_type": "code",
     "collapsed": false,
     "input": [
      "\t\t\t\n",
      "import math \n",
      "\n",
      "# Variables\n",
      "Enthalpy = 6.02;\t\t\t#enthalpy of fusion of ice is 6.02 kJ/mol\n",
      "E_h = 20.5;\t\t\t#Hydrogen bond energy (in kJ/mol)\n",
      "#There are two moles of hydrogen bonds per mole of H2O in ice.\n",
      "\n",
      "# Calculation\n",
      "H_b = Enthalpy/(2*E_h);\t\t\t#the fraction of hydrogen bonds that are broken when ice melts\n",
      "\n",
      "# Results\n",
      "print 'fraction of hydrogen bonds that are broken when ice melts = %.2f'%H_b\n"
     ],
     "language": "python",
     "metadata": {},
     "outputs": [
      {
       "output_type": "stream",
       "stream": "stdout",
       "text": [
        "fraction of hydrogen bonds that are broken when ice melts = 0.15\n"
       ]
      }
     ],
     "prompt_number": 8
    }
   ],
   "metadata": {}
  }
 ]
}