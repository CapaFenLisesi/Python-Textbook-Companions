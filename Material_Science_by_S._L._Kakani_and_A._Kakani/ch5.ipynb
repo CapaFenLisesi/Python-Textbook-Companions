{
 "metadata": {
  "name": "",
  "signature": "sha256:b05ef4cea534c7f22454c6c7a4371d685f8afba36752efd7c83922caa2a73609"
 },
 "nbformat": 3,
 "nbformat_minor": 0,
 "worksheets": [
  {
   "cells": [
    {
     "cell_type": "heading",
     "level": 1,
     "metadata": {},
     "source": [
      "Chapter 5 :\n",
      "Electron Theory of Metals"
     ]
    },
    {
     "cell_type": "heading",
     "level": 2,
     "metadata": {},
     "source": [
      "Example 5.1 Page No : 169"
     ]
    },
    {
     "cell_type": "code",
     "collapsed": false,
     "input": [
      "\n",
      "import math \n",
      "\n",
      "\n",
      "# Variables\n",
      "#The probability that a particular quantum state at energy E is filled, is given by\n",
      "#f(E)  = 1/(1+exp(E-E_f)/kT)\n",
      "e = 1.6*10**(-19);\t\t\t#charge on the electron\n",
      "dE = 0.5*e;\t\t\t#E-E_f in joule\n",
      "\n",
      "# Calculation\n",
      "#0.01 = 1/(1+exp(x))\n",
      "#1+exp(x) = 100\n",
      "x = math.log(99);\n",
      "k = 1.38*10**(-23);\t\t\t#consmath.tant\n",
      "T = dE/(x*k);\t\t\t#temperature\n",
      "\n",
      "# Results\n",
      "print 'temperature at which there is one per cent probability that a state with an energy\\\n",
      " 0.5 eV above the Fermi energy will be \\noccupied by an electron in = %.0f K'%round(T)\n",
      "\n",
      "# rounding off error"
     ],
     "language": "python",
     "metadata": {},
     "outputs": [
      {
       "output_type": "stream",
       "stream": "stdout",
       "text": [
        "temperature at which there is one per cent probability that a state with an energy 0.5 eV above the Fermi energy will be \n",
        "occupied by an electron in = 1262 K\n"
       ]
      }
     ],
     "prompt_number": 13
    },
    {
     "cell_type": "heading",
     "level": 2,
     "metadata": {},
     "source": [
      "Example 5.2 Page No : 169"
     ]
    },
    {
     "cell_type": "code",
     "collapsed": false,
     "input": [
      "\t\t\t\n",
      "import math \n",
      "\n",
      "# Variables\n",
      "n = 10**19;\t\t\t#electrons per m**3\n",
      "V = 0.017;\t\t\t#applied voltage \n",
      "d = 0.27*10**-2;\t\t\t#dismath.tance with material\n",
      "e = 1.602*10**-19;\t\t\t#in coulomb\n",
      "m = 9.1*10**-31;\t\t\t#mass of an electron(in kg)\n",
      "\n",
      "# Calculation\n",
      "conductivity = 0.01;\t\t\t#in mho.m**-1)\n",
      "E = V/d;\t\t\t#Electric field(in V/m)\n",
      "v = (conductivity*E/(n*e))*10**2;\t\t\t#drift velocity of carriers(in meter/sec)\n",
      "\n",
      "# Results\n",
      "print 'drift velocity of carriers in = %.2f m/s'%v\n"
     ],
     "language": "python",
     "metadata": {},
     "outputs": [
      {
       "output_type": "stream",
       "stream": "stdout",
       "text": [
        "drift velocity of carriers in = 3.93 m/s\n"
       ]
      }
     ],
     "prompt_number": 2
    },
    {
     "cell_type": "heading",
     "level": 2,
     "metadata": {},
     "source": [
      "Example 5.3 Page No : 170"
     ]
    },
    {
     "cell_type": "code",
     "collapsed": false,
     "input": [
      "\t\t\t\n",
      "import math \n",
      "\n",
      "# Variables\n",
      "T = 300;\t\t\t#Temperature(in Kelevin)\n",
      "t = 2*10**-14;\t\t\t#time(in sec)\n",
      "V_c = 8.9;\t\t\t#volume of 63.54gm of copper(in cc)\n",
      "Aw_c = 63.54;\t\t\t#Atomic weight of copper(in a.m.u)\n",
      "e = 1.6*10**(-19);\n",
      "m = 9.1*10**-31;\n",
      "N_a = 6.023*10**23;\t\t\t#avogadro's number\n",
      "\n",
      "# Calculation\n",
      "n = (N_a/(Aw_c/V_c))*10**6;\t\t\t#Number of electrons per m**3\n",
      "conductivity = (e**2)*n*t/m;\t\t\t#conductivity of copper at 300K(in mho/m)\n",
      "\n",
      "# Results\n",
      "print 'conductivity of copper at 300K in = %.2e mho/m'%conductivity\n",
      "\n",
      "# note : answer in book is wrong.\n"
     ],
     "language": "python",
     "metadata": {},
     "outputs": [
      {
       "output_type": "stream",
       "stream": "stdout",
       "text": [
        "conductivity of copper at 300K in = 4.75e+07 mho/m\n"
       ]
      }
     ],
     "prompt_number": 3
    },
    {
     "cell_type": "heading",
     "level": 2,
     "metadata": {},
     "source": [
      "Example 5.4 Page No : 170"
     ]
    },
    {
     "cell_type": "code",
     "collapsed": false,
     "input": [
      "\t\t\t\n",
      "import math \n",
      "\n",
      "# Variables\n",
      "t = 10**(-14);\t\t\t#mean free time between the collisions(in second)\n",
      "e = 1.6*10**-19;\n",
      "m = 9.1*10**-31;\n",
      "\n",
      "# Calculation\n",
      "Mobility = e*t/m;\t\t\t#in m**2/V-s\n",
      "\n",
      "# Results\n",
      "print 'mobility of condution electron in = %.2e m**2/V-s'%Mobility\n"
     ],
     "language": "python",
     "metadata": {},
     "outputs": [
      {
       "output_type": "stream",
       "stream": "stdout",
       "text": [
        "mobility of condution electron in = 1.76e-03 m**2/V-s\n"
       ]
      }
     ],
     "prompt_number": 4
    },
    {
     "cell_type": "heading",
     "level": 2,
     "metadata": {},
     "source": [
      "Example 5.5 Page No : 170"
     ]
    },
    {
     "cell_type": "code",
     "collapsed": false,
     "input": [
      "\t\t\t\n",
      "import math \n",
      "\n",
      "# Variables\n",
      "n = 6.*10**23;\t\t\t#conduction electron per m**3\n",
      "conductivity = 6.5*10**7;\t\t\t#in mho/m\n",
      "E = 1.;\t\t\t#electric field intensity (in V/m)\n",
      "e = 1.602*10**-19;\n",
      "m = 9.1*10**-31;\n",
      "\n",
      "# Calculation\n",
      "Mobility = conductivity/(n*e);\t\t\t#in m**2/V-s\n",
      "v = Mobility*E;\t\t\t#drift velocity(in m/sec)\n",
      "\n",
      "# Results\n",
      "print 'mobility of condution electron in = %.2e m**2/V-s'%Mobility\n",
      "print 'drift velocity in = %.2e m/sec'%v\n"
     ],
     "language": "python",
     "metadata": {},
     "outputs": [
      {
       "output_type": "stream",
       "stream": "stdout",
       "text": [
        "mobility of condution electron in = 6.76e+02 m**2/V-s\n",
        "drift velocity in = 6.76e+02 m/sec\n"
       ]
      }
     ],
     "prompt_number": 14
    },
    {
     "cell_type": "heading",
     "level": 2,
     "metadata": {},
     "source": [
      "Example 5.6 Page No : 171"
     ]
    },
    {
     "cell_type": "code",
     "collapsed": false,
     "input": [
      "\t\t\t\n",
      "\n",
      "import math \n",
      "\n",
      "# Variables\n",
      "d = 10.5;\t\t\t#density of silver(in gm/cc)\n",
      "At_w = 107.9;       #atomic weight\n",
      "e = 1.6*10**-19;\n",
      "conductivity = 6.8*10**5;\t\t\t#in mho/centimeter\n",
      "\n",
      "# Calculation\n",
      "N = 6.023*10**23;\n",
      "n = N*d/At_w;\t\t\t#number of free electrons\n",
      "Mobility = conductivity/(n*e);\t\t\t#mobility of electrons(in cm**2/V-s);\n",
      "\n",
      "# Results\n",
      "print 'number of free electrons = %.2e'%n\n",
      "print 'mobility of electrons in = %.2f cm**2/V-s'%Mobility\n",
      "\n",
      "# rounding off error"
     ],
     "language": "python",
     "metadata": {},
     "outputs": [
      {
       "output_type": "stream",
       "stream": "stdout",
       "text": [
        "number of free electrons = 5.86e+22\n",
        "mobility of electrons in = 72.51 cm**2/V-s\n"
       ]
      }
     ],
     "prompt_number": 9
    },
    {
     "cell_type": "heading",
     "level": 2,
     "metadata": {},
     "source": [
      "Example 5.7 Page No : 172"
     ]
    },
    {
     "cell_type": "code",
     "collapsed": false,
     "input": [
      "\n",
      "\n",
      "import math \n",
      "\n",
      "# Variables\n",
      "E_f = 3.75;\t\t\t#Fermi energy(in eV)\n",
      "e = 1.602*10**-19;\n",
      "W_f = e*E_f;\t\t\t#fermi energy in joules\n",
      "t = 10**-14;\t\t\t#mean free time between the collisions(in second)\n",
      "\n",
      "# Calculation\n",
      "m = 9.1*10**-31;\t\t\t#mass of electron\n",
      "v_f = ((2*W_f)/m)**(1./2);\t\t\t#maximum velocity of an electron in a metal(in m/s)\n",
      "mobility = e*t/m;\t\t\t#mobility of electrons(in m**2/V-s)\n",
      "\n",
      "# Results\n",
      "print 'maximum velocity of an electron in a metal in = %.2e m/s'%v_f\n",
      "print 'mobility of electrons in = %.2e m**2/V-s'%mobility\n",
      "\n",
      "# incorrect answer in the textbook"
     ],
     "language": "python",
     "metadata": {},
     "outputs": [
      {
       "output_type": "stream",
       "stream": "stdout",
       "text": [
        "maximum velocity of an electron in a metal in = 1.15e+06 m/s\n",
        "mobility of electrons in = 1.76e-03 m**2/V-s\n"
       ]
      }
     ],
     "prompt_number": 4
    },
    {
     "cell_type": "heading",
     "level": 2,
     "metadata": {},
     "source": [
      "Example 5.8 Page No : 172"
     ]
    },
    {
     "cell_type": "code",
     "collapsed": false,
     "input": [
      "\t\t\t\n",
      "\n",
      "import math \n",
      "\n",
      "# Variables\n",
      "E_f = 2.1;\t\t\t#fermi energy(in eV)\n",
      "e = 1.602*10**-19;\n",
      "m = 9.1*10**-31;\n",
      "\n",
      "# Calculation\n",
      "W_f = e*E_f;\t\t\t#fermi energy in joules\n",
      "v_f = (2*W_f/m)**(1./2);\t\t\t#velocity of an electrons at fermi level(in m/sec)\n",
      "\n",
      "# Results\n",
      "print 'velocity of an electrons at fermi level in = %.1e m/sec'%v_f\n"
     ],
     "language": "python",
     "metadata": {},
     "outputs": [
      {
       "output_type": "stream",
       "stream": "stdout",
       "text": [
        "velocity of an electrons at fermi level in = 8.6e+05 m/sec\n"
       ]
      }
     ],
     "prompt_number": 12
    },
    {
     "cell_type": "heading",
     "level": 2,
     "metadata": {},
     "source": [
      "Example 5.9 Page No : 172"
     ]
    },
    {
     "cell_type": "code",
     "collapsed": false,
     "input": [
      "\t\t\t\n",
      "import math \n",
      "\n",
      "# Variables\n",
      "t = 10**-9;\t\t\t#collision time(in seconds)\n",
      "E_f = 7;\t\t\t#fermi energy(in eV)\n",
      "e = 1.6*10**-19;\n",
      "m = 9.1*10**-31;\n",
      "\n",
      "# Calculation\n",
      "W_f = E_f*e;\t\t\t#fermi energy(in joules)\n",
      "v_f = (2*W_f/m)**(1./2);\t\t\t#velocity of an electrons at fermi level(in m/sec)\n",
      "P = v_f*t;\t\t\t#Mean free path(in meter)\n",
      "\n",
      "# Results\n",
      "print 'Mean free path in = %.2e m'%P\n"
     ],
     "language": "python",
     "metadata": {},
     "outputs": [
      {
       "output_type": "stream",
       "stream": "stdout",
       "text": [
        "Mean free path in = 1.57e-03 meter\n"
       ]
      }
     ],
     "prompt_number": 16
    },
    {
     "cell_type": "heading",
     "level": 2,
     "metadata": {},
     "source": [
      "Example 5.10 Page No : 173"
     ]
    },
    {
     "cell_type": "code",
     "collapsed": false,
     "input": [
      "\t\t\t\n",
      "import math \n",
      "\n",
      "# Variables\n",
      "N_a = 6.023*10**23;\n",
      "V_c = 8.9;\t\t\t#volume of 63.54gm of copper(in cc)\n",
      "Aw_c = 63.54;\t\t\t#Atomic weight of copper(in a.m.u)\n",
      "\n",
      "# Calculation\n",
      "n = (N_a/(Aw_c/V_c))*10**6;\t\t\t#Number of electrons per m**3\n",
      "e = 1.6*10**-19;\n",
      "m = 9.1*10**-31;\n",
      "t = 2*10**-14;\t\t\t#collision time\n",
      "conductivity = n*(e**2)*t/m;\t\t\t#conductivity of copper\n",
      "\n",
      "# Results\n",
      "print 'conductivity of copper in = %.1e ohm**-1/m'%conductivity\n"
     ],
     "language": "python",
     "metadata": {},
     "outputs": [
      {
       "output_type": "stream",
       "stream": "stdout",
       "text": [
        "conductivity of copper in = 4.7e+07 ohm**-1/m\n"
       ]
      }
     ],
     "prompt_number": 17
    }
   ],
   "metadata": {}
  }
 ]
}