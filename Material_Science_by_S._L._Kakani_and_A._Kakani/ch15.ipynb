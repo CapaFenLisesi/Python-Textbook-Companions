{
 "metadata": {
  "name": "",
  "signature": "sha256:ba1924948de9c5df666fb8372fa076fb175eef8afac1d23c28cb6aaf92d05c98"
 },
 "nbformat": 3,
 "nbformat_minor": 0,
 "worksheets": [
  {
   "cells": [
    {
     "cell_type": "heading",
     "level": 1,
     "metadata": {},
     "source": [
      "Chapter 15 :\n",
      "Semiconductors"
     ]
    },
    {
     "cell_type": "heading",
     "level": 2,
     "metadata": {},
     "source": [
      "Example 15.1 Page No : 520"
     ]
    },
    {
     "cell_type": "code",
     "collapsed": false,
     "input": [
      "\t\t\t\n",
      "import math \n",
      "\n",
      "# Variables\n",
      "U_n = 1350.\t\t\t#mobility of electron in cm2/volt-sec  \n",
      "U_h = 480.\t\t\t#hole mobility in cm2/volt-sec\n",
      "\n",
      "# Calculation\n",
      "Sigma = 1.072*10**10\t\t\t#density of electron hole pair per cc at 300\u00b0K for a pure silicon crystal\n",
      "e = 1.6*10**(-19);\t\t\t#charge on the electron in C\n",
      "Sigma_i = Sigma*e*(U_n+U_h);\t\t\t#Conductivity of pure silicon crystal\n",
      "p_i = 1/(Sigma_i);\t\t\t#Resistivity of silicon crystal in Ohm-cm\n",
      "P_i = p_i*10**(-2);\t\t\t#Resistivity of silicon crystal in Ohm-m\n",
      "\n",
      "# Results\n",
      "print 'Conductivity of pure silicon crystal = %.2e mho/cm'%Sigma_i\n",
      "print 'Resistivity of silicon crystal = %.2e Ohm-m'%P_i\n"
     ],
     "language": "python",
     "metadata": {},
     "outputs": [
      {
       "output_type": "stream",
       "stream": "stdout",
       "text": [
        "Conductivity of pure silicon crystal = 3.14e-06 mho/cm\n",
        "Resistivity of silicon crystal = 3.19e+03 Ohm-m\n"
       ]
      }
     ],
     "prompt_number": 3
    },
    {
     "cell_type": "heading",
     "level": 2,
     "metadata": {},
     "source": [
      "Example 15.2 Page No : 521"
     ]
    },
    {
     "cell_type": "code",
     "collapsed": false,
     "input": [
      "\t\t\t\n",
      "import math \n",
      "\n",
      "# Variables\n",
      "U = 1200;\t\t\t#electron mobility in cm2/Volt-sec\n",
      "e = 1.6*10**(-19);\t\t\t#charge on the electron in C\n",
      "\n",
      "# Calculation\n",
      "n = 10**13;\t\t\t#concentration of phosphorus\n",
      "sigma = U*e*n;\t\t\t#conductivity of crystal in mho/cm\n",
      "p_i = 1/sigma;\t\t\t#resistivity of silicon wafer if all donor atom are active\n",
      "\n",
      "# Results\n",
      "print 'resistivity of silicon wafer if all donor atom are active is %.1e ohm-cm'%p_i\n"
     ],
     "language": "python",
     "metadata": {},
     "outputs": [
      {
       "output_type": "stream",
       "stream": "stdout",
       "text": [
        "resistivity of silicon wafer if all donor atom are active is 5.2e+02 ohm-cm\n"
       ]
      }
     ],
     "prompt_number": 2
    },
    {
     "cell_type": "heading",
     "level": 2,
     "metadata": {},
     "source": [
      "Example 15.3 Page No : 521"
     ]
    },
    {
     "cell_type": "code",
     "collapsed": false,
     "input": [
      "\t\t\t\n",
      "import math \n",
      "\n",
      "# Variables\n",
      "U_n = 3900\t\t\t#mobility of electron in cm2/volt-sec  \n",
      "U_h = 1900\t\t\t#hole mobility in cm2/volt-sec\n",
      "n_i = 2.5*10**13;\t\t\t#concentration of electron\n",
      "u_n = U_n*10**(-4);\t\t\t#mobility of electron in m2/volt-sec  \n",
      "u_h = U_h*10**(-4);\t\t\t#hole mobility in m2/volt-sec\n",
      "e = 1.6*10**(-19);\t\t\t#charge on the electron in C\n",
      "\n",
      "# Calculation\n",
      "Sigma_i = n_i*e*(u_n+u_h)*10**6;\t\t\t#Conductivity\n",
      "p_i = 1/(Sigma_i);\t\t\t#resistivity of intrinsic germanium rod\n",
      "l = 1*10**(-2);\t\t\t#length of germanium rod in m\n",
      "w = 1*10**(-3);\t\t\t#width of germanium rod in m\n",
      "t = 1*10**(-3);\t\t\t#thick of germanium rod in m\n",
      "A = w*t;\t\t\t#Area of cross section in m2\n",
      "R = p_i*l/A;\t\t\t#Resistance of an intrinsic germanium rod in Ohm\n",
      "\n",
      "# Results\n",
      "print 'Resistance of an intrinsic germanium rod is %.2f K-Ohm'%(R/10**3)\n"
     ],
     "language": "python",
     "metadata": {},
     "outputs": [
      {
       "output_type": "stream",
       "stream": "stdout",
       "text": [
        "Resistance of an intrinsic germanium rod is 4.31 K-Ohm\n"
       ]
      }
     ],
     "prompt_number": 1
    },
    {
     "cell_type": "heading",
     "level": 2,
     "metadata": {},
     "source": [
      "Example 15.4 Page No : 521"
     ]
    },
    {
     "cell_type": "code",
     "collapsed": false,
     "input": [
      "\t\t\t\n",
      "import math \n",
      "\n",
      "# Variables\n",
      "N_a = 1.1*10**20;\t\t\t#acceptor density in atoms/m3\n",
      "n_i = 2.5*10**19;\t\t\t#concentration of majority carrier per m3 \n",
      "\n",
      "# Calculation\n",
      "n_p = (n_i**2)/N_a;\t\t\t#intrinsic density \n",
      "R = n_p/n_i;\t\t\t#Ratio of n_p and n_i\n",
      "\n",
      "# Results\n",
      "print 'n_p/n_i = %.2f'%R\n",
      "\n",
      "# rounding off error"
     ],
     "language": "python",
     "metadata": {},
     "outputs": [
      {
       "output_type": "stream",
       "stream": "stdout",
       "text": [
        "n_p/n_i = 0.23\n"
       ]
      }
     ],
     "prompt_number": 1
    }
   ],
   "metadata": {}
  }
 ]
}