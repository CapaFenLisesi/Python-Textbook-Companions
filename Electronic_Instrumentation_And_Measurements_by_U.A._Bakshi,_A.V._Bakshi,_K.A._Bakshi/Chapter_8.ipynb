{
 "metadata": {
  "name": ""
 },
 "nbformat": 3,
 "nbformat_minor": 0,
 "worksheets": [
  {
   "cells": [
    {
     "cell_type": "heading",
     "level": 1,
     "metadata": {},
     "source": [
      "Chapter 8 : Instrument Calibration"
     ]
    },
    {
     "cell_type": "heading",
     "level": 2,
     "metadata": {},
     "source": [
      "Example - 8.1\n",
      " : Page No - 8.4"
     ]
    },
    {
     "cell_type": "code",
     "collapsed": false,
     "input": [
      "from __future__ import division\n",
      "from math import sqrt\n",
      "#Given data\n",
      "cor= -0.5 #correction\n",
      "Sr= 50 # scale reading\n",
      "Fs= 200 # full scale\n",
      "# When the reading is 50\n",
      "Error= cor/Sr*100 # % of reading\n",
      "print \"Error = %0.f %% of reading\" %Error\n",
      "Error= cor/Fs*100 # % of full scale\n",
      "print \"Error = %0.2f %% of full scale\" %Error\n",
      "\n"
     ],
     "language": "python",
     "metadata": {},
     "outputs": [
      {
       "output_type": "stream",
       "stream": "stdout",
       "text": [
        "Error = -1 % of reading\n",
        "Error = -0.25 % of full scale\n"
       ]
      }
     ],
     "prompt_number": 4
    }
   ],
   "metadata": {}
  }
 ]
}