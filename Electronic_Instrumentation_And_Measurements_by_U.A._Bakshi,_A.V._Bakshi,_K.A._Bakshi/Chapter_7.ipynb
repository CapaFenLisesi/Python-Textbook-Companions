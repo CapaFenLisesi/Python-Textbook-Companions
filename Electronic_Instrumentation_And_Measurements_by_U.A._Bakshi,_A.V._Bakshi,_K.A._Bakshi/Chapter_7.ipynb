{
 "metadata": {
  "name": ""
 },
 "nbformat": 3,
 "nbformat_minor": 0,
 "worksheets": [
  {
   "cells": [
    {
     "cell_type": "heading",
     "level": 1,
     "metadata": {},
     "source": [
      "Chapter 7 : Oscilloscopes"
     ]
    },
    {
     "cell_type": "heading",
     "level": 2,
     "metadata": {},
     "source": [
      "Example - 7.1\n",
      " : Page No - 7.26"
     ]
    },
    {
     "cell_type": "code",
     "collapsed": false,
     "input": [
      "from __future__ import division\n",
      "from math import sqrt\n",
      "#Given data\n",
      "BW = 25 #bandwidth in MHz\n",
      "Trd = 20 #rise time in ns\n",
      "Trd = Trd * 10**-9 # in s\n",
      "# BW = 0.35/Tro \n",
      "Tro = 0.35/(BW*10**6) # in s\n",
      "# Trd = sqrt( (Trs**2) + (Tro**2) ) \n",
      "Trs = sqrt( (Trd**2)-(Tro**2) ) # rise time of signal in sec\n",
      "Trs = Trs * 10**9 # in ns\n",
      "print \"The rise time of signal = %0.2f ns \" %Trs"
     ],
     "language": "python",
     "metadata": {},
     "outputs": [
      {
       "output_type": "stream",
       "stream": "stdout",
       "text": [
        "The rise time of signal = 14.28 ns \n"
       ]
      }
     ],
     "prompt_number": 2
    },
    {
     "cell_type": "heading",
     "level": 2,
     "metadata": {},
     "source": [
      "Example - 7.2\n",
      " : Page No - 7.26"
     ]
    },
    {
     "cell_type": "code",
     "collapsed": false,
     "input": [
      "#Given data\n",
      "Trs = 17 #rise time in \u00b5s\n",
      "Trs = Trs * 10**-6 # in s\n",
      "Trd = 21 # in \u00b5s\n",
      "Trd = Trd * 10**-6 # in s\n",
      "# Trd = sqrt( (Trs**2) + (Tro**2) ) \n",
      "Tro = sqrt( (Trd**2)- (Trs**2) ) # in sec\n",
      "BW = 0.35/Tro #band width  in Hz\n",
      "BW = BW * 10**-3 # in kHz\n",
      "print \"The band width = %0.3f kHz \" %BW"
     ],
     "language": "python",
     "metadata": {},
     "outputs": [
      {
       "output_type": "stream",
       "stream": "stdout",
       "text": [
        "The band width = 28.389 kHz \n"
       ]
      }
     ],
     "prompt_number": 3
    },
    {
     "cell_type": "heading",
     "level": 2,
     "metadata": {},
     "source": [
      "Example - 7.3\n",
      " : Page No - 7.36"
     ]
    },
    {
     "cell_type": "code",
     "collapsed": false,
     "input": [
      "#Given data\n",
      "subdivision = 1/5 #sub division in units\n",
      "positivepeak = 2.6 #positive peak in units\n",
      "Vpp = positivepeak + positivepeak #peak to peak in divisions\n",
      "verticalattenuation = 2 #vertical attenuation in mV/div\n",
      "verticalattenuation = verticalattenuation * 10**-3 # in V/div\n",
      "Vpp = Vpp * verticalattenuation # in V\n",
      "Vpp = Vpp * 10**3 # in mV\n",
      "Vm = Vpp/2  #amplitude of the sinusoidal voltage  in mV\n",
      "print \"The amplitude of the sinusoidal voltage = %0.1f mV \" %Vm\n",
      "V_RMS = Vm/sqrt(2) #r.m.s. value of the sinusoidal voltage in mV\n",
      "print \"The r.m.s. value of the sinusoidal voltage = %0.4f mV \" %V_RMS"
     ],
     "language": "python",
     "metadata": {},
     "outputs": [
      {
       "output_type": "stream",
       "stream": "stdout",
       "text": [
        "The amplitude of the sinusoidal voltage = 5.2 mV \n",
        "The r.m.s. value of the sinusoidal voltage = 3.6770 mV \n"
       ]
      }
     ],
     "prompt_number": 5
    },
    {
     "cell_type": "heading",
     "level": 2,
     "metadata": {},
     "source": [
      "Example - 7.4\n",
      " : Page No - 7.38"
     ]
    },
    {
     "cell_type": "code",
     "collapsed": false,
     "input": [
      "#Given data\n",
      "voltsBYdiv = 2 #volts per division in V/div\n",
      "Timebase = 2 #base time in ms/div\n",
      "Verticaloccupancy = 3 #Vertical occupancy in cm\n",
      "Vpp = voltsBYdiv*Verticaloccupancy #peak to peak voltage in V\n",
      "Vm = Vpp/2 # in V\n",
      "V_RMS = Vm/sqrt(2) #r.m.s. value of the voltage in V\n",
      "print \"The r.m.s. value of the voltage = %0.4f V \" %V_RMS\n",
      "Horizontaloccupancy = 2 #Horizontal occupancy in cm\n",
      "timeBYdiv = 2 #time per division in mV\n",
      "timeBYdiv = timeBYdiv*10**-3 # in V\n",
      "T = timeBYdiv*Horizontaloccupancy # in sec\n",
      "f = 1/T # in Hz\n",
      "print \"The frequency = %0.f Hz \" %f"
     ],
     "language": "python",
     "metadata": {},
     "outputs": [
      {
       "output_type": "stream",
       "stream": "stdout",
       "text": [
        "The r.m.s. value of the voltage = 2.1213 V \n",
        "The frequency = 250 Hz \n"
       ]
      }
     ],
     "prompt_number": 6
    },
    {
     "cell_type": "heading",
     "level": 2,
     "metadata": {},
     "source": [
      "Example - 7.5\n",
      " : Page No - 7.41"
     ]
    },
    {
     "cell_type": "code",
     "collapsed": false,
     "input": [
      "from math import asin\n",
      "from numpy import pi\n",
      "#Given data\n",
      "y1 = 8 # in units\n",
      "y2 = 10 # in units\n",
      "phi = asin(y1/y2)*180/pi # phase difference in degree\n",
      "print \"The phase difference = %0.2f degree \" %phi"
     ],
     "language": "python",
     "metadata": {},
     "outputs": [
      {
       "output_type": "stream",
       "stream": "stdout",
       "text": [
        "The phase difference = 53.13 degree \n"
       ]
      }
     ],
     "prompt_number": 10
    },
    {
     "cell_type": "heading",
     "level": 2,
     "metadata": {},
     "source": [
      "Example - 7.6\n",
      " : Page No - 7.42"
     ]
    },
    {
     "cell_type": "code",
     "collapsed": false,
     "input": [
      "#Given data\n",
      "verticaltangencies = 2 # vertical tangencies\n",
      "horizontaltangencies = 5 # horizontal tangencies\n",
      "f_H = 1 # frequency in kHz\n",
      "# f_V/f_H = horizontaltangencies/verticaltangencies \n",
      "f_V = (horizontaltangencies/verticaltangencies)*f_H #unknown frequency of vertical signal  in kHz\n",
      "print \"The unknown frequency of vertical signal = %0.1f kHz \" %f_V"
     ],
     "language": "python",
     "metadata": {},
     "outputs": [
      {
       "output_type": "stream",
       "stream": "stdout",
       "text": [
        "The unknown frequency of vertical signal = 2.5 kHz \n"
       ]
      }
     ],
     "prompt_number": 11
    },
    {
     "cell_type": "heading",
     "level": 2,
     "metadata": {},
     "source": [
      "Example - 7.7\n",
      " : Page No - 7.50"
     ]
    },
    {
     "cell_type": "code",
     "collapsed": false,
     "input": [
      "#Given data\n",
      "Cin = 35 # in pF\n",
      "# (R1+Rin)/Rin = 10 \n",
      "RinBYR1= 1/9 \n",
      "#while balance equation with compensating capacitor\n",
      "#  R1*C1 = Rin*(C2+Cin) \n",
      "C1= Cin*RinBYR1 #compansating capacitor  in pF\n",
      "print \"The compansating capacitor = %0.2f pF \" %C1"
     ],
     "language": "python",
     "metadata": {},
     "outputs": [
      {
       "output_type": "stream",
       "stream": "stdout",
       "text": [
        "The compansating capacitor = 3.89 pF \n"
       ]
      }
     ],
     "prompt_number": 12
    },
    {
     "cell_type": "heading",
     "level": 2,
     "metadata": {},
     "source": [
      "Example - 7.8\n",
      " : Page No - 7.68"
     ]
    },
    {
     "cell_type": "code",
     "collapsed": false,
     "input": [
      "#Given data\n",
      "n = 10 # number of cycle\n",
      "fs = 1 #signal frequency in kHz\n",
      "fs = fs * 10**3 # in Hz\n",
      "Timeperiod = n/fs #time period in sec\n",
      "Samplingfrequency = 1/Timeperiod #Sampling frequency in samples/sec\n",
      "print \"The sampling rate for 1 kHz = %0.f samples/sec \" %Samplingfrequency\n",
      "fs = 10 # in kHz\n",
      "fs = fs * 10**3 # in Hz\n",
      "Samplingperiod = n/fs #Sampling period in sec\n",
      "Samplingfrequency = 1/Samplingperiod #sampling rate for 10 kHz in samples/sec\n",
      "print \"The sampling rate for 10 kHz = %0.f samples/sec \" %Samplingfrequency"
     ],
     "language": "python",
     "metadata": {},
     "outputs": [
      {
       "output_type": "stream",
       "stream": "stdout",
       "text": [
        "The sampling rate for 1 kHz = 100 samples/sec \n",
        "The sampling rate for 10 kHz = 1000 samples/sec \n"
       ]
      }
     ],
     "prompt_number": 13
    },
    {
     "cell_type": "heading",
     "level": 2,
     "metadata": {},
     "source": [
      "Example - 7.9\n",
      " : Page No - 7.69"
     ]
    },
    {
     "cell_type": "code",
     "collapsed": false,
     "input": [
      "#Given data\n",
      "Samplingrate = 200 #Sampling rate in MS/s\n",
      "Samplingrate = Samplingrate * 10**6 # in S/s\n",
      "t_r = 1/Samplingrate #minimum rise time of pulse in s\n",
      "t_r = t_r * 10**9 # in ns\n",
      "print \"The minimum rise time of pulse = %0.f ns \" %t_r"
     ],
     "language": "python",
     "metadata": {},
     "outputs": [
      {
       "output_type": "stream",
       "stream": "stdout",
       "text": [
        "The minimum rise time of pulse = 5 ns \n"
       ]
      }
     ],
     "prompt_number": 14
    },
    {
     "cell_type": "heading",
     "level": 2,
     "metadata": {},
     "source": [
      "Example - 7.10\n",
      " : Page No - 7.76"
     ]
    },
    {
     "cell_type": "code",
     "collapsed": false,
     "input": [
      "#Given data\n",
      "Vd = 4 # vertical division\n",
      "Va = 0.5 #Vertical attenuation in V/Div\n",
      "App = Vd*Va #peak to peak amplitude in V\n",
      "print \"The peak to peak amplitude of the signal = %0.f V \" %App \n",
      "TimebyDiv = 2 #time per division in \u00b5s/Div\n",
      "Hd = 4 # horizontal division\n",
      "Time = Hd*TimebyDiv # in \u00b5s\n",
      "f = 1/(Time*10**-6) # frequency of signal in Hz\n",
      "f = f * 10**-3 # in kHz\n",
      "print \"The frequency of signal = %0.f kHz \" %f"
     ],
     "language": "python",
     "metadata": {},
     "outputs": [
      {
       "output_type": "stream",
       "stream": "stdout",
       "text": [
        "The peak to peak amplitude of the signal = 2 V \n",
        "The frequency of signal = 125 kHz \n"
       ]
      }
     ],
     "prompt_number": 15
    },
    {
     "cell_type": "heading",
     "level": 2,
     "metadata": {},
     "source": [
      "Example - 7.11\n",
      " : Page No - 7.76"
     ]
    },
    {
     "cell_type": "code",
     "collapsed": false,
     "input": [
      "#Given data\n",
      "Rin = 2 #resistance in Mohm\n",
      "Cin = 50 #capacitance in pF\n",
      "Cin = Cin * 10**-12 # in F\n",
      "# (R1+Rin)/Rin = 10 \n",
      "R1 = 9*Rin #resistance in Mohm\n",
      "print \"The value of R1 = %0.f M\u03a9 \" %R1\n",
      "R1 = R1*10**6 # in ohm\n",
      "Rin = Rin * 10**6 # in ohm\n",
      "# While balance equation with compensating capacitor\n",
      "# R1*C1 = Rin*(C2+Cin)\n",
      "C1 = (Rin*Cin)/R1 # in F(neglecting C2)\n",
      "C1 = C1 * 10**12 # in pF\n",
      "print \"The value of C1 = %0.2f pF \" %C1"
     ],
     "language": "python",
     "metadata": {},
     "outputs": [
      {
       "output_type": "stream",
       "stream": "stdout",
       "text": [
        "The value of R1 = 18 M\u03a9 \n",
        "The value of C1 = 5.56 pF \n"
       ]
      }
     ],
     "prompt_number": 16
    }
   ],
   "metadata": {}
  }
 ]
}