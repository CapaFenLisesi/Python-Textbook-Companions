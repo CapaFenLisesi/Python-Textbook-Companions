{
 "cells": [
  {
   "cell_type": "markdown",
   "metadata": {},
   "source": [
    "# Chapter 5- BJT AC Analysis"
   ]
  },
  {
   "cell_type": "markdown",
   "metadata": {},
   "source": [
    "## Example-5.1   Page No-256"
   ]
  },
  {
   "cell_type": "code",
   "execution_count": 45,
   "metadata": {
    "collapsed": false
   },
   "outputs": [
    {
     "name": "stdout",
     "output_type": "stream",
     "text": [
      "\n",
      "Case-I\n",
      "re= 10.6 ohm\n",
      "Input resistance= 1.07 kohm\n",
      "Output resistance= 3.0 kohm\n",
      "Voltage gain= -282.96\n",
      "\n",
      "Case-II\n",
      "Output resistance= 2.83 kohm\n",
      "Voltage gain= -266.95\n"
     ]
    }
   ],
   "source": [
    "#from the given figure:\n",
    "Vcc=12                #supply voltage in volts\n",
    "Vbe=0.7               #base emitterv voltage in volts\n",
    "Rb=470.0              #base resistor in kohm\n",
    "B=101\n",
    "Rc=3.0                #collector resistor in kohm\n",
    "ro=50.0               #resistance in kohm\n",
    "\n",
    "#calculation:\n",
    "print \"\\nCase-I\"\n",
    "#Case-I \n",
    "Ib=(Vcc-Vbe)/Rb       #base current in microA\n",
    "Ie=(B+1)*Ib              #emitter current in mA\n",
    "re=26/Ie                 #resistance in ohm\n",
    "X=B*re\n",
    "X=X/1000\n",
    "Zi=(Rb*X)/(Rb+X)   #input resistance in kohm\n",
    "Zo=Rc                    #resistance in kohm\n",
    "Av=-Rc/re                 #voltage gain\n",
    "\n",
    "print \"re=\",round(re,2),\"ohm\"\n",
    "print \"Input resistance=\",round(Zi,2),\"kohm\"\n",
    "print \"Output resistance=\",Zo,\"kohm\"\n",
    "print \"Voltage gain=\",round(Av*1000,2)\n",
    "\n",
    "\n",
    "#Case-II(ro=50kohm)\n",
    "Zo=(ro*Rc)/(ro+Rc)         #output  resistance in kohm\n",
    "Av=-Zo/re                 #voltage gain\n",
    "\n",
    "print \"\\nCase-II\"\n",
    "print \"Output resistance=\",round(Zo,2),\"kohm\"\n",
    "print \"Voltage gain=\",round(Av*1000,2)"
   ]
  },
  {
   "cell_type": "markdown",
   "metadata": {},
   "source": [
    "## Example-5.2   Page No-259"
   ]
  },
  {
   "cell_type": "code",
   "execution_count": 46,
   "metadata": {
    "collapsed": false
   },
   "outputs": [
    {
     "name": "stdout",
     "output_type": "stream",
     "text": [
      "\n",
      "Case-I\n",
      "re= 18.48 ohm\n",
      "Input resistance= 1.35 kohm\n",
      "Output resistance= 6.8 kohm\n",
      "Voltage gain= -367.89\n",
      "\n",
      "Case-II\n",
      "Output resistance= 5.99 kohm\n",
      "Voltage gain= -323.85\n"
     ]
    }
   ],
   "source": [
    "#from the given figure:\n",
    "Vcc=22                #supply voltage in volts\n",
    "Vbe=0.7               #base emitter voltage in volts\n",
    "R1=56.0                #resistor in kohm\n",
    "R2=8.2                 #resistor in kohm\n",
    "B=90.0\n",
    "Rc=6.8                #collector resistor in kohm\n",
    "Re=1.5                #emitter resistance in kohm\n",
    "\n",
    "#calculations:\n",
    "#Case-I\n",
    "\n",
    "Vb=(R2*Vcc)/(R1+R2)     #Base voltage in volts\n",
    "Ve=Vb-Vbe               #Emitter voltage in volts\n",
    "Ie=Ve/Re                #Emitter current in mA\n",
    "re=26/Ie                #in ohm\n",
    "R=(R1*R2)/(R1+R2)         #in ohm\n",
    "X=B*re\n",
    "X=X/1000\n",
    "Zi=(R*X)/(R+X)            #input resistance in kohm\n",
    "Zo=Rc                     #output resistance in kohm\n",
    "Av=-Rc/re                 #voltage gain\n",
    "print \n",
    "print \"Case-I\"\n",
    "print \"re=\",round(re,2),\"ohm\"\n",
    "print \"Input resistance=\",round(Zi,2),\"kohm\"\n",
    "print \"Output resistance=\",Zo,\"kohm\"\n",
    "print \"Voltage gain=\",round(Av*1000,2)\n",
    "\n",
    "#Case-II\n",
    "Zo=(Rc*ro)/(Rc+ro)        #output resistance in kohm\n",
    "Av=-Zo/re                 #voltage gain\n",
    "\n",
    "print \"\\nCase-II\"\n",
    "print \"Output resistance=\",round(Zo,2),\"kohm\"\n",
    "print \"Voltage gain=\",round(Av*1000,2)"
   ]
  },
  {
   "cell_type": "markdown",
   "metadata": {},
   "source": [
    "### Variation in answer is due to different precision value taken at each step of the answer"
   ]
  },
  {
   "cell_type": "markdown",
   "metadata": {},
   "source": [
    "## Example-5.3   Page No-263"
   ]
  },
  {
   "cell_type": "code",
   "execution_count": 47,
   "metadata": {
    "collapsed": false
   },
   "outputs": [
    {
     "name": "stdout",
     "output_type": "stream",
     "text": [
      "re= 5.99 ohm\n",
      "Input resistance= 59.34 kohm\n",
      "Output resistance= 2.2 kohm\n",
      "Voltage gain= -3.89\n"
     ]
    }
   ],
   "source": [
    "#from the given figure:\n",
    "Vcc=20                #supply voltage in volts\n",
    "Vbe=0.7               #base emitter voltage in volts\n",
    "Rb=470.0              #Base resistor in kohm\n",
    "B=120.0\n",
    "Rc=2.2                #collector resistor in kohm\n",
    "Re=0.56               #emitter resistance in kohm\n",
    "ro=40                 #in kohm\n",
    "\n",
    "#calculations:\n",
    "\n",
    "Ib=(Vcc-Vbe)/(Rb+(B+1)*Re)     #base current in microA\n",
    "Ie=(B+1)*Ib                    #emitter current in mA\n",
    "re=26/Ie                       #in ohm\n",
    "\n",
    "Zb=B*(re+Re*1000)\n",
    "Zb=Zb/1000\n",
    "Zi=(Rb*Zb)/(Rb+Zb)             #input resistance in kohm\n",
    "Zo=Rc                          #output resistance in kohm\n",
    "Av=-(B*Rc)/Zb                  #voltage gain\n",
    "\n",
    "print \"re=\",round(re,2),\"ohm\"\n",
    "print \"Input resistance=\",round(Zi,2),\"kohm\"\n",
    "print \"Output resistance=\",Zo,\"kohm\"\n",
    "print \"Voltage gain=\",round(Av,2)\n"
   ]
  },
  {
   "cell_type": "markdown",
   "metadata": {},
   "source": [
    "## Example-5.4   Page No-265"
   ]
  },
  {
   "cell_type": "code",
   "execution_count": 48,
   "metadata": {
    "collapsed": false
   },
   "outputs": [
    {
     "name": "stdout",
     "output_type": "stream",
     "text": [
      "re= 5.99 ohm\n",
      "Input resistance= 717.7 kohm\n",
      "Output resistance= 2.2 kohm\n",
      "Voltage gain= -367.28\n"
     ]
    }
   ],
   "source": [
    "#from the calculation of example 5.3:\n",
    "re=5.99                    #resistance in ohm\n",
    "Rb=470.0                   #Base resistor in kohm\n",
    "B=120.0\n",
    "Rc=2.2                #collector resistor in kohm\n",
    "\n",
    "#Calculation:\n",
    "Zb=B*re/1000\n",
    "Zi=(Rb*Zb)/(Rb+Zb)             #input resistance in kohm\n",
    "Zo=Rc                          #output resistance in kohm\n",
    "Av=-Rc/re                      #voltage gain\n",
    "\n",
    "print \"re=\",round(re,2),\"ohm\"\n",
    "print \"Input resistance=\",round(Zi*1000,2),\"kohm\"\n",
    "print \"Output resistance=\",Zo,\"kohm\"\n",
    "print \"Voltage gain=\",round(Av*1000,2)"
   ]
  },
  {
   "cell_type": "markdown",
   "metadata": {},
   "source": [
    "## Example-5.5   Page No-266"
   ]
  },
  {
   "cell_type": "code",
   "execution_count": 50,
   "metadata": {
    "collapsed": false
   },
   "outputs": [
    {
     "name": "stdout",
     "output_type": "stream",
     "text": [
      "re= 19.64 ohm\n",
      "Input resistance= 8.47 kohm\n",
      "Output resistance= 2.2 kohm\n",
      "Voltage gain= -3.24\n"
     ]
    }
   ],
   "source": [
    "#from the given figure:\n",
    "Vcc=16                #supply voltage in volts\n",
    "Vbe=0.7               #base emitter voltage in volts\n",
    "R1=90.0               #resistor in kohm\n",
    "R2=10.0               #resistor in kohm\n",
    "B=210.0\n",
    "Rc=2.2                #collector resistor in kohm\n",
    "Re=0.68               #emitter resistance in kohm\n",
    "ro=50                 #resistance in kohm\n",
    "\n",
    "#Calculations:\n",
    "\n",
    "Vb=(R2*Vcc)/(R1+R2)     #Base voltage in volts\n",
    "Ve=Vb-Vbe               #Emitter voltage in volts\n",
    "Ie=Ve/Re                #Emitter current in mA\n",
    "re=26/Ie                #in ohm\n",
    "Rb=(R1*R2)/(R1+R2)         #in ohm\n",
    "X=B*Re\n",
    "#X=X/1000\n",
    "Zi=(Rb*X)/(Rb+X)         #input resistance in kohm\n",
    "Zo=Rc                     #output resistance in kohm\n",
    "Av=-Rc/Re                 #voltage gain\n",
    " \n",
    "print \"re=\",round(re,2),\"ohm\"\n",
    "print \"Input resistance=\",round(Zi,2),\"kohm\"\n",
    "print \"Output resistance=\",Zo,\"kohm\"\n",
    "print \"Voltage gain=\",round(Av,2)"
   ]
  },
  {
   "cell_type": "markdown",
   "metadata": {},
   "source": [
    "## Example-5.6   Page No-266"
   ]
  },
  {
   "cell_type": "code",
   "execution_count": 58,
   "metadata": {
    "collapsed": false
   },
   "outputs": [
    {
     "name": "stdout",
     "output_type": "stream",
     "text": [
      "re= 19.64 ohm\n",
      "Input resistance= 2.83 kohm\n",
      "Output resistance= 2.2 kohm\n",
      "Voltage gain= -112.02\n"
     ]
    }
   ],
   "source": [
    "#from the answers obtained in example-5.5\n",
    "re=19.64\n",
    "B=210\n",
    "X=B*re\n",
    "X=X/1000\n",
    "Zi=(Rb*X)/(Rb+X)          #input resistance in kohm\n",
    "Zo=Rc                     #output resistance in kohm\n",
    "Av=-Rc/re                 #voltage gain\n",
    "\n",
    "print \"re=\",round(re,2),\"ohm\"\n",
    "print \"Input resistance=\",round(Zi,2),\"kohm\"\n",
    "print \"Output resistance=\",Zo,\"kohm\"\n",
    "print \"Voltage gain=\",round(Av*1000,2)"
   ]
  },
  {
   "cell_type": "markdown",
   "metadata": {},
   "source": [
    "## Example-5.8   Page No-272"
   ]
  },
  {
   "cell_type": "code",
   "execution_count": 60,
   "metadata": {
    "collapsed": false
   },
   "outputs": [
    {
     "name": "stdout",
     "output_type": "stream",
     "text": [
      "re= 20.0 ohm\n",
      "Input resistance= 19.61 kohm\n",
      "Output resistance= 5 kohm\n",
      "Voltage gain= 250.0\n"
     ]
    }
   ],
   "source": [
    "#from the given figure:\n",
    "alpha=0.98          #constant \n",
    "ro=1                #resistance in Mohm\n",
    "Rc=5                #collector resistance in kohm\n",
    "Re=1                #emitter resistance in kohm\n",
    "Vee=2               #emitter voltage in volts\n",
    "Vcc=8               #collector voltage in volts\n",
    "Vbe=0.7             #base emitter voltage in volts\n",
    "\n",
    "#calculations:\n",
    "\n",
    "Ie=(Vee-Vbe)/Re      #emitter current in mA\n",
    "re=26/Ie             #in ohm\n",
    "Re=Re*1000           #emitter resistance in ohm\n",
    "Zi=(Re*re)/(Re+re)   #input resistance in ohm\n",
    "Zo=Rc                #output resistance in kohm\n",
    "Av=Rc/re             #voltage gain\n",
    "\n",
    "\n",
    "print \"re=\",round(re,2),\"ohm\"\n",
    "print \"Input resistance=\",round(Zi,2),\"kohm\"\n",
    "print \"Output resistance=\",Zo,\"kohm\"\n",
    "print \"Voltage gain=\",round(Av*1000,2)"
   ]
  },
  {
   "cell_type": "markdown",
   "metadata": {},
   "source": [
    "## Example-5.11   Page No-284"
   ]
  },
  {
   "cell_type": "code",
   "execution_count": 2,
   "metadata": {
    "collapsed": false
   },
   "outputs": [
    {
     "name": "stdout",
     "output_type": "stream",
     "text": [
      "Avl= -170.98\n",
      "Avs= -133.54\n",
      "Zi= 1.07 kohm\n",
      "Zo= 3 kohm\n"
     ]
    }
   ],
   "source": [
    "#from the given question:\n",
    "Rc=3                #collector resistance in kohm\n",
    "Rl=4.7              #emitter resistance in kohm\n",
    "re=10.71            #resistance in ohm\n",
    "Zi=1.07             #input impedance in kohm\n",
    "Rs=0.3              #source resistance in kohm\n",
    "\n",
    "#calculation:\n",
    "X=(Rc*Rl)/(Rc+Rl)       #temporary variable\n",
    "Avl=(-X/re)*1000        #voltage gain with load\n",
    "Avs=(Zi*Avl)/(Zi+Rs)    #voltage gain with source impedance\n",
    "Zo=Rc\n",
    "\n",
    "print \"Avl=\",round(Avl,2)\n",
    "print \"Avs=\",round(Avs,2)\n",
    "print \"Zi=\",Zi,\"kohm\"\n",
    "print \"Zo=\",Zo,\"kohm\""
   ]
  },
  {
   "cell_type": "markdown",
   "metadata": {},
   "source": [
    "## Example-5.12   Page No-293"
   ]
  },
  {
   "cell_type": "code",
   "execution_count": 5,
   "metadata": {
    "collapsed": false
   },
   "outputs": [
    {
     "name": "stdout",
     "output_type": "stream",
     "text": [
      "a.)\n",
      "Avl= -170.91\n",
      "\n",
      "b.)\n",
      "Avs= -133.48\n"
     ]
    }
   ],
   "source": [
    "#from the given question:\n",
    "Avnl=-280           #no load voltage gain\n",
    "Rl=4.7              #emitter resistance in kohm\n",
    "Zi=1.07             #input impedance in kohm\n",
    "Rs=0.3              #source resistance in kohm\n",
    "Zo=3                 #output impedance in kohm\n",
    "\n",
    "#calculation:\n",
    "\n",
    "print \"a.)\"\n",
    "Avl=(Avnl*Rl)/(Zo+Rl)       #voltage gain with load\n",
    "print \"Avl=\",round(Avl,2)\n",
    "\n",
    "\n",
    "print \"\\nb.)\"\n",
    "X=(Avnl*Rl)/(Zo+Rl)       #temporary variable\n",
    "Avs=(Zi*X)/(Zi+Rs)        #gain with source impedance\n",
    "print \"Avs=\",round(Avs,2)"
   ]
  },
  {
   "cell_type": "markdown",
   "metadata": {},
   "source": [
    "## Example-5.17   Page No-300"
   ]
  },
  {
   "cell_type": "code",
   "execution_count": 29,
   "metadata": {
    "collapsed": false
   },
   "outputs": [
    {
     "name": "stdout",
     "output_type": "stream",
     "text": [
      "Base current= 2.6 microA\n",
      "Emitter current= 20.83 mA\n",
      "Emitter voltage= 8.12 V\n",
      "Base voltage= 9.72 V\n",
      "Collector voltage= 18 V\n"
     ]
    }
   ],
   "source": [
    "#from the given figure:\n",
    "Vcc=18                       #supply voltage in volts\n",
    "Rb=3.3                       #base resistance in Mohm\n",
    "B=8000\n",
    "Vbe=1.6                      #base emitter volateg in volts\n",
    "Re=390                       #emitter resistance in ohm\n",
    "\n",
    "\n",
    "#calculatons:\n",
    "X=B*Re                       #temporary volateg\n",
    "X=X/1000000\n",
    "Ib=(Vcc-Vbe)/(Rb+X)          #base current in microA\n",
    "Ie=(B+1)*Ib                  #emitter current in mA\n",
    "Ve=Ie*Re                     #emitter voltage in volts\n",
    "Ve=Ve/1000\n",
    "Vb=Ve/1000+Vbe               #base voltage in volts\n",
    "Vc=Vcc                       #collector voltage in volts\n",
    "\n",
    "print \"Base current=\",round(Ib,2),\"microA\"\n",
    "print \"Emitter current=\",round(Ie/1000,2),\"mA\"\n",
    "print \"Emitter voltage=\",round(Ve/1000,2),\"V\"\n",
    "print \"Base voltage=\",round(Vb,2),\"V\"\n",
    "print \"Collector voltage=\",Vc,\"V\""
   ]
  },
  {
   "cell_type": "markdown",
   "metadata": {
    "collapsed": true
   },
   "source": [
    "### Variation in answer is due to difference in precision of values taken at each step of the answer"
   ]
  },
  {
   "cell_type": "markdown",
   "metadata": {},
   "source": [
    "## Example-5.18   Page No-308"
   ]
  },
  {
   "cell_type": "code",
   "execution_count": 54,
   "metadata": {
    "collapsed": false
   },
   "outputs": [
    {
     "name": "stdout",
     "output_type": "stream",
     "text": [
      "Base current in Q1= 4.45 microA\n",
      "Base current in Q2= 0.62 mA\n",
      "Collector current in Q2= 112.07 mA\n",
      "Current through in Resistance Rc= 112.69 mA\n",
      "Emitter voltage in Q1= 9.55 V\n",
      "Base voltage in Q1= 8.85 V\n"
     ]
    }
   ],
   "source": [
    "#from the given figure:\n",
    "Vcc=18                       #supply voltage in volts\n",
    "Rb=2.0                       #base resistance in Mohm\n",
    "B1=140\n",
    "B2=180\n",
    "Rc=75.0                       #emitter resistance in ohm\n",
    "Vbe1=0.7                      #base emitter voltage in Volts\n",
    "\n",
    "#calculations:\n",
    "X=B1*B2*Rc                          #temporary variable\n",
    "X=X/1000000\n",
    "Ib1=(Vcc-Vbe1)/(Rb+X)               #base current in Q1 in microA\n",
    "Ib2=B1*Ib1                          #base current in Q2 in mA\n",
    "Ie1=Ic1=Ib2\n",
    "Ic2=B2*Ib2                          #collector current in Q2 in mA\n",
    "Ic=Ie1+Ic2                          #current through in Resistance Rc in mA\n",
    "G=(round((Ic/1000),2)*Rc)/1000       #temporary variable\n",
    "Ve1=Vcc-G                            #emitter voltage in volts in Q1\n",
    "Vb1=Ve1-Vbe1                         #base voltage in Q1 in volts\n",
    "\n",
    "print \"Base current in Q1=\",round(Ib1,2),\"microA\"\n",
    "print \"Base current in Q2=\",round(Ib2/1000,2),\"mA\"\n",
    "print \"Collector current in Q2=\",round(Ic2/1000,2),\"mA\"\n",
    "print \"Current through in Resistance Rc=\",round(Ic/1000,2),\"mA\"\n",
    "print \"Emitter voltage in Q1=\",round(Ve1,2),\"V\"\n",
    "print \"Base voltage in Q1=\",round(Vb1,2),\"V\""
   ]
  }
 ],
 "metadata": {
  "anaconda-cloud": {},
  "kernelspec": {
   "display_name": "Python [Root]",
   "language": "python",
   "name": "Python [Root]"
  },
  "language_info": {
   "codemirror_mode": {
    "name": "ipython",
    "version": 2
   },
   "file_extension": ".py",
   "mimetype": "text/x-python",
   "name": "python",
   "nbconvert_exporter": "python",
   "pygments_lexer": "ipython2",
   "version": "2.7.12"
  }
 },
 "nbformat": 4,
 "nbformat_minor": 0
}
