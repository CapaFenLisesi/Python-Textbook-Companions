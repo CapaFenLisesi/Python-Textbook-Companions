{
 "cells": [
  {
   "cell_type": "markdown",
   "metadata": {},
   "source": [
    "# Chapter-8  FET Amplifiers"
   ]
  },
  {
   "cell_type": "markdown",
   "metadata": {},
   "source": [
    "## Example-8.2         Page Number-475"
   ]
  },
  {
   "cell_type": "code",
   "execution_count": 5,
   "metadata": {
    "collapsed": false
   },
   "outputs": [
    {
     "name": "stdout",
     "output_type": "stream",
     "text": [
      "a.)\n",
      "gm= 3.5 mS\n",
      "\n",
      "b.)\n",
      "gm= 2.5 mS\n",
      "\n",
      "c.)\n",
      "gm= 1.5 mS\n"
     ]
    }
   ],
   "source": [
    "from math import *\n",
    "#Studying the transfer characterstics given:\n",
    "Idss=8                     #drain source saturation current in mA\n",
    "Vp=-4                      #pinch voltage in volts\n",
    "\n",
    "#calculation:\n",
    "\n",
    "gmo=2*Idss/abs(Vp)\n",
    "\n",
    "print \"a.)\"\n",
    "Vgs=-0.5                 #gate source voltage in volts\n",
    "gm=gmo*(1-(Vgs/Vp))      #in mS\n",
    "print \"gm=\",gm,\"mS\"\n",
    "\n",
    "print \"\\nb.)\"\n",
    "Vgs=-1.5                 #gate source voltage in volts\n",
    "gm=gmo*(1-(Vgs/Vp))      #in mS\n",
    "print \"gm=\",gm,\"mS\"\n",
    "\n",
    "print \"\\nc.)\"\n",
    "Vgs=-2.5                 #gate source voltage in volts\n",
    "gm=gmo*(1-(Vgs/Vp))      #in mS\n",
    "print \"gm=\",gm,\"mS\""
   ]
  },
  {
   "cell_type": "markdown",
   "metadata": {},
   "source": [
    "## Example-8.3         Page Number-476"
   ]
  },
  {
   "cell_type": "code",
   "execution_count": 11,
   "metadata": {
    "collapsed": false
   },
   "outputs": [
    {
     "name": "stdout",
     "output_type": "stream",
     "text": [
      "The plot is :\n"
     ]
    },
    {
     "data": {
      "image/png": "[encoded data removed]",
      "text/plain": [
       "<matplotlib.figure.Figure at 0x3d3e2b0>"
      ]
     },
     "metadata": {},
     "output_type": "display_data"
    }
   ],
   "source": [
    "import matplotlib.pyplot as plt\n",
    "%matplotlib inline\n",
    "\n",
    "print \"The plot is :\"\n",
    "\n",
    "y=[0,2,4]\n",
    "x=[-4,-2,0]\n",
    "plt.plot(x,y,'r')\n",
    "plt.xlabel('Vgs(V)---->')\n",
    "plt.ylabel('gm(S)---->')\n",
    "plt.xlim(0,-4)\n",
    "plt.ylim(0,4)\n",
    "plt.show()"
   ]
  },
  {
   "cell_type": "markdown",
   "metadata": {},
   "source": [
    "## Example-8.7         Page Number-482"
   ]
  },
  {
   "cell_type": "code",
   "execution_count": 17,
   "metadata": {
    "collapsed": false
   },
   "outputs": [
    {
     "name": "stdout",
     "output_type": "stream",
     "text": [
      "gm= 1.875 mS\n",
      "rd= 25.0 kohm\n",
      "Zi= 1.0 Mohm\n",
      "Zo= 1.85 kohm\n",
      "Voltage gain= -3.47\n",
      "Voltage gain without rd= -3.75\n"
     ]
    }
   ],
   "source": [
    "from math import *\n",
    "#from the given figure:\n",
    "Idss=10.0                     #drain source saturation current in mA\n",
    "Vp=-8.0                       #pinch voltage in volts\n",
    "Vdd=20.0                      #supply voltage in volts\n",
    "Rd=2.0                        #drain resistance in kohm\n",
    "Rg=1.0                        #gate resistance in Mohm\n",
    "Vgs=-2.0                      #gate source voltage in volts \n",
    "Id=5.625                      #drain current in mA\n",
    "yos=40.0                      #in microS\n",
    "\n",
    "#calculations:\n",
    "gmo=2*Idss/abs(Vp)            #in mS\n",
    "gm=gmo*(1-(Vgs/Vp))           #in mS\n",
    "rd=1/yos                      #in kohm\n",
    "Zi=Rg                         #input impedance in Mohm\n",
    "rd=rd*1000\n",
    "Zo=(Rd*rd)/(Rd+rd)            #output impedence in kohm\n",
    "Av=-gm*Zo                     #Voltage gain\n",
    "Avw=-gm*Rd                    #gain ignoring rd\n",
    "\n",
    "print \"gm=\",gm,\"mS\"\n",
    "print \"rd=\",rd,\"kohm\"\n",
    "print \"Zi=\",round(Zi,2),\"Mohm\"\n",
    "print \"Zo=\",round(Zo,2),\"kohm\"\n",
    "print \"Voltage gain=\",round(Av,2)\n",
    "print \"Voltage gain without rd=\",Avw"
   ]
  },
  {
   "cell_type": "markdown",
   "metadata": {
    "collapsed": true
   },
   "source": [
    "## Example-8.8         Page Number-487"
   ]
  },
  {
   "cell_type": "code",
   "execution_count": 3,
   "metadata": {
    "collapsed": false
   },
   "outputs": [
    {
     "name": "stdout",
     "output_type": "stream",
     "text": [
      "gm= 1.51 mS\n",
      "rd= 50.0 kohm\n",
      "Zi= 1.0 Mohm\n",
      "Zo= 3.3 kohm\n",
      "Voltage gain= -1.9\n",
      "Voltage gain without rd= -1.99\n"
     ]
    }
   ],
   "source": [
    "from math import *\n",
    "#from the given figure:\n",
    "Idss=8.0                      #drain source saturation current in mA\n",
    "Vp=-6.0                       #pinch voltage in volts\n",
    "Vdd=20.0                      #supply voltage in volts\n",
    "Rd=3.3                        #drain resistance in kohm\n",
    "Rg=1.0                        #gate resistance in Mohm\n",
    "Rs=1                          #source reisitance in kohm\n",
    "Vgs=-2.6                      #gate source voltage in volts \n",
    "Id=2.6                        #drain current in mA\n",
    "yos=20.0                      #in microS\n",
    "\n",
    "#calculations:\n",
    "gmo=2*Idss/abs(Vp)            #in mS\n",
    "gm=gmo*(1-(Vgs/Vp))           #in mS\n",
    "rd=1/yos                      #in kohm\n",
    "Zi=Rg                         #input impedance in Mohm\n",
    "rd=rd*1000\n",
    "#rd>10Rd\n",
    "Zo=Rd                         #output impedence in kohm\n",
    "X=-gm*Rd                      #temporary variable \n",
    "Y=1+gm*Rs                     #temporary variable\n",
    "Av=X/Y+((Rd+Rs)/rd)           #Voltage gain\n",
    "Avw=-gm*Rd/Y                  #gain ignoring rd\n",
    "\n",
    "print \"gm=\",round(gm,2),\"mS\"\n",
    "print \"rd=\",rd,\"kohm\"\n",
    "print \"Zi=\",round(Zi,2),\"Mohm\"\n",
    "print \"Zo=\",round(Zo,2),\"kohm\"\n",
    "print \"Voltage gain=\",round(Av,3)\n",
    "print \"Voltage gain without rd=\",round(Avw,2)"
   ]
  },
  {
   "cell_type": "markdown",
   "metadata": {},
   "source": [
    "## Example-8.9         Page Number-492"
   ]
  },
  {
   "cell_type": "code",
   "execution_count": 11,
   "metadata": {
    "collapsed": false
   },
   "outputs": [
    {
     "name": "stdout",
     "output_type": "stream",
     "text": [
      "gm= 2.25 mS\n",
      "rd= 20.0 kohm\n",
      "Zi (with rd) = 0.35 kohm\n",
      "Zi (without rd) = 0.32 kohm\n",
      "Zo (with rd) = 3.05 kohm\n",
      "Zo (without rd) = 3.6 kohm\n",
      "Voltage gain (with rd) = 7.02\n",
      "Output voltage (with rd) = 280.68 mV\n",
      "Voltage gain (without rd) = 8.1\n",
      "Output voltage (without rd) = 324.0 mV\n"
     ]
    }
   ],
   "source": [
    "from math import *\n",
    "#from the given figure:\n",
    "Idss=10.0                      #drain source saturation current in mA\n",
    "Vp=-4.0                       #pinch voltage in volts\n",
    "Vdd=12.0                      #supply voltage in volts\n",
    "Rd=3.6                        #drain resistance in kohm\n",
    "Rs=1.1                        #source reisitance in kohm\n",
    "Vgs=-2.2                      #gate source voltage in volts \n",
    "Id=2.03                       #drain current in mA\n",
    "yos=50.0                      #in microS\n",
    "Vi=40                         #inputvoltage in mV\n",
    "\n",
    "#calculations:\n",
    "gmo=2*Idss/abs(Vp)            #in mS\n",
    "gm=gmo*(1-(Vgs/Vp))           #in mS\n",
    "rd=1/yos                      #in kohm\n",
    "rd=rd*1000\n",
    "\n",
    "#CASE-I (with rd)\n",
    "Y=(rd+Rd)/(1+gm*rd)           #temporary variable\n",
    "Zi=(Rs*Y)/(Rs+Y)              #input impedance in kohm\n",
    "Zo=(Rd*rd)/(Rd+rd)            #output impedence in kohm\n",
    "X= gm*Rd                      #temporary variable \n",
    "Av=(X+(Rd/rd))/(1+(Rd/rd))    #Voltage gain\n",
    "Vo=Av*Vi                      #output voltage in mV\n",
    "\n",
    "#CASE-II (without rd)\n",
    "p=1/gm                         #temporary variable\n",
    "Zir=(Rs*p)/(Rs+p)              #input impedance in kohm\n",
    "Zor=Rd                         #output impedence in kohm\n",
    "Avr=gm*Rd                      #Voltage gain\n",
    "Vor=Avr*Vi                      #output voltage in mV\n",
    "\n",
    "print \"gm=\",round(gm,2),\"mS\"\n",
    "print \"rd=\",rd,\"kohm\"\n",
    "print \"Zi (with rd) =\",round(Zi,2),\"kohm\"\n",
    "print \"Zi (without rd) =\",round(Zir,2),\"kohm\"\n",
    "print \"Zo (with rd) =\",round(Zo,2),\"kohm\"\n",
    "print \"Zo (without rd) =\",round(Zor,2),\"kohm\"\n",
    "print \"Voltage gain (with rd) =\",round(Av,2)\n",
    "print \"Output voltage (with rd) =\",round(Vo,2),\"mV\"\n",
    "print \"Voltage gain (without rd) =\",round(Avr,2)\n",
    "print \"Output voltage (without rd) =\",round(Vor,2),\"mV\""
   ]
  },
  {
   "cell_type": "markdown",
   "metadata": {},
   "source": [
    "## Example-8.10         Page Number-496"
   ]
  },
  {
   "cell_type": "code",
   "execution_count": 14,
   "metadata": {
    "collapsed": false
   },
   "outputs": [
    {
     "name": "stdout",
     "output_type": "stream",
     "text": [
      "gm= 2.28 mS\n",
      "rd= 40.0 kohm\n",
      "Zi = 1.0 Mohm\n",
      "Zo (with rd) = 362.38 kohm\n",
      "Zo (without rd) = 365.69 kohm\n",
      "Voltage gain (with rd) = 0.83\n",
      "Voltage gain (without rd) = 0.83\n"
     ]
    }
   ],
   "source": [
    "from math import *\n",
    "#from the given figure:\n",
    "Idss=16.0                      #drain source saturation current in mA\n",
    "Vp=-4.0                       #pinch voltage in volts\n",
    "Vdd=9.0                      #supply voltage in volts\n",
    "Rs=2.2                        #source reisitance in kohm\n",
    "Vgs=-2.86                      #gate source voltage in volts \n",
    "Id=4.56                       #drain current in mA\n",
    "yos=25.0                      #in microS\n",
    "\n",
    "#calculations:\n",
    "gmo=2*Idss/abs(Vp)            #in mS\n",
    "gm=gmo*(1-(Vgs/Vp))           #in mS\n",
    "rd=1/yos                      #in kohm\n",
    "rd=rd*1000\n",
    "Zi=Rg                         #input impedance in Mohm\n",
    "\n",
    "#CASE-I (with rd)\n",
    "X= (rd*Rs)/(rd+Rs)                      #temporary variable \n",
    "y=1/gm                                  #temporary variable\n",
    "Zo=(X*y)/(X+y)                          #output impedence in kohm\n",
    "Av=(gm*X)/(1+gm*X)                      #Voltage gain\n",
    "\n",
    "#CASE-II (without rd)\n",
    "p=1/gm                         #temporary variable\n",
    "Zor=(Rs*p)/(Rs+p)              #output impedence in kohm\n",
    "Avr=(gm*Rs)/(1+gm*Rs)          #Voltage gain\n",
    "\n",
    "print \"gm=\",round(gm,2),\"mS\"\n",
    "print \"rd=\",rd,\"kohm\"\n",
    "print \"Zi =\",round(Zi,2),\"Mohm\"\n",
    "print \"Zo (with rd) =\",round(Zo*1000,2),\"kohm\"\n",
    "print \"Zo (without rd) =\",round(Zor*1000,2),\"kohm\"\n",
    "print \"Voltage gain (with rd) =\",round(Av,2)\n",
    "print \"Voltage gain (without rd) =\",round(Avr,2)"
   ]
  },
  {
   "cell_type": "markdown",
   "metadata": {},
   "source": [
    "## Example-8.11         Page Number-497"
   ]
  },
  {
   "cell_type": "code",
   "execution_count": 3,
   "metadata": {
    "collapsed": false
   },
   "outputs": [
    {
     "name": "stdout",
     "output_type": "stream",
     "text": [
      "gm= 4.47 mS\n",
      "rd= 100.0 kohm\n",
      "Zi = 9.17 Mohm\n",
      "Zo= 1.77 kohm\n",
      "Voltage gain= -8.04\n"
     ]
    }
   ],
   "source": [
    "from math import *\n",
    "#from the given figure:\n",
    "Idss=6.0                      #drain source saturation current in mA\n",
    "Vp=-3.0                       #pinch voltage in volts\n",
    "Vdd=18.0                      #supply voltage in volts\n",
    "Rs=150                        #source reisitance in ohm\n",
    "Vgs=0.35                      #gate source voltage in volts \n",
    "Id=7.6                        #drain current in mA\n",
    "yos=10.0                      #in microS\n",
    "Rd=1.8                        #drain resistance in kohm\n",
    "R1=110.0                      #resistance in Mohm\n",
    "R2=10.0                       #resistance in Mohm\n",
    "\n",
    "#calculations:\n",
    "gmo=2*Idss/abs(Vp)            #in mS\n",
    "gm=gmo*(1-(Vgs/Vp))           #in mS\n",
    "rd=1/yos                      #in kohm\n",
    "rd=rd*1000\n",
    "Zi=(R1*R2)/(R1+R2)            #input impedance in Mohm\n",
    "Zo= (rd*Rd)/(rd+Rd)           #output impedence in kohm\n",
    "Av=-gm*Rd                      #Voltage gain\n",
    "\n",
    "print \"gm=\",round(gm,2),\"mS\"\n",
    "print \"rd=\",rd,\"kohm\"\n",
    "print \"Zi =\",round(Zi,2),\"Mohm\"\n",
    "print \"Zo=\",round(Zo,2),\"kohm\"\n",
    "print \"Voltage gain=\",round(Av,2)"
   ]
  },
  {
   "cell_type": "markdown",
   "metadata": {},
   "source": [
    "## Example-8.12         Page Number-501"
   ]
  },
  {
   "cell_type": "code",
   "execution_count": 27,
   "metadata": {
    "collapsed": false
   },
   "outputs": [
    {
     "name": "stdout",
     "output_type": "stream",
     "text": [
      "gm= 1.63 mS\n",
      "rd= 50.0 kohm\n",
      "Zi (with rd) = 2.42 Mohm\n",
      "Zi (without rd) = 2.35 Mohm\n",
      "Zo (with rd) = 1.92 kohm\n",
      "Zo (without rd) = 2.0 kohm\n",
      "Voltage gain (with rd) = -3.14\n",
      "Voltage gain (without rd) = -3.26\n"
     ]
    }
   ],
   "source": [
    "#from the given figure:\n",
    "k=0.24*10**-3                   #constant in A/V2\n",
    "Vgsq=6.4                        #gate source voltage in volts at Q-point\n",
    "Idq=2.75                        #drain current in mA at Q-point\n",
    "Idon=6.0                         #drain current in mA\n",
    "Vgson=8.0                        #gate source voltage in volts\n",
    "Vgsth=3.0                        #gate source threshold voltage in voltage\n",
    "yos=20.0                         #in microS\n",
    "Rd=2.0                           #drain resistance in kohm\n",
    "Rf=10.0                          #gate resistance in Mohm\n",
    "\n",
    "#Calculation:\n",
    "gm=2*k*(Vgsq-Vgsth)            #in mS\n",
    "rd=1/yos                       #in kohm\n",
    "rd=rd*1000\n",
    "\n",
    "#CASE-I (with rd)\n",
    "Y=(rd*Rd)/(Rd+rd)            #temporary variable\n",
    "Y=Y/1000\n",
    "W=gm*Y*10**6                #converting values to ohm\n",
    "Zi=(Rf+Y)/(1+W)             #input impedance in Mohm\n",
    "Zo=(Rf*Y)/(Rf+Y)            #output impedence in kohm\n",
    "Av=-gm*1000*Zo               #Voltage gain\n",
    "\n",
    "#CASE-II (without rd)\n",
    "Zir=Rf/(1+gm*Rd*1000)          #input impedance in Mohm\n",
    "Zor=Rd                         #output impedence in kohm\n",
    "Avr=-gm*Rd                      #Voltage gain\n",
    "\n",
    "print \"gm=\",round(gm*1000,2),\"mS\"\n",
    "print \"rd=\",rd,\"kohm\"\n",
    "print \"Zi (with rd) =\",round(Zi,2),\"Mohm\"\n",
    "print \"Zi (without rd) =\",round(Zir,2),\"Mohm\"\n",
    "print \"Zo (with rd) =\",round(Zo*1000,2),\"kohm\"\n",
    "print \"Zo (without rd) =\",round(Zor,2),\"kohm\"\n",
    "print \"Voltage gain (with rd) =\",round(Av*1000,2)\n",
    "print \"Voltage gain (without rd) =\",round(Avr*1000,2)"
   ]
  },
  {
   "cell_type": "markdown",
   "metadata": {},
   "source": [
    "### Variation in results obtained may be due to different precision of answers taken at each step"
   ]
  },
  {
   "cell_type": "markdown",
   "metadata": {},
   "source": [
    "## Example-8.13         Page Number-503"
   ]
  },
  {
   "cell_type": "code",
   "execution_count": 6,
   "metadata": {
    "collapsed": false
   },
   "outputs": [
    {
     "name": "stdout",
     "output_type": "stream",
     "text": [
      "Rd= 2.08 kohm\n",
      "Vds= 9.17 V\n",
      "Zi = 10.0 Mohm\n",
      "Zo = 2.0 kohm\n"
     ]
    }
   ],
   "source": [
    "from math import *\n",
    "#from the given figure:\n",
    "Idss=10.0                      #drain source saturation current in mA\n",
    "Vp=-4.0                       #pinch voltage in volts\n",
    "Vdd=30.0                      #supply voltage in volts\n",
    "Rg=10.0                       #source reisitance in Mohm\n",
    "yos=20.0                      #in microS\n",
    "Av=-10                        #voltage gain\n",
    "\n",
    "#calculations:\n",
    "#At Vgs=0V,  gm=gmo\n",
    "gmo=2*Idss/abs(Vp)            #in mS\n",
    "Y=-Av/gmo                     #temprary variable\n",
    "rd=1/yos                      #in kohm\n",
    "Rd=(50*Y)/(50-Y)              #drain resistance in kohm\n",
    "Vds=Vdd-Idss*Rd               #drain source voltage in volts\n",
    "Zi=Rg                         #input impedance in Mohm\n",
    "rd=round(rd*1000,2)           #converting rd to kohm\n",
    "Zo=(Rd*rd)/(Rd+rd)            #output impedence in kohm\n",
    "\n",
    "print \"Rd=\",round(Rd,2),\"kohm\"\n",
    "print \"Vds=\",round(Vds,2),\"V\"\n",
    "print \"Zi =\",round(Zi,2),\"Mohm\"\n",
    "print \"Zo =\",round(Zo,2),\"kohm\""
   ]
  },
  {
   "cell_type": "markdown",
   "metadata": {},
   "source": [
    "## Example-8.15         Page Number-505"
   ]
  },
  {
   "cell_type": "code",
   "execution_count": 35,
   "metadata": {
    "collapsed": false
   },
   "outputs": [
    {
     "name": "stdout",
     "output_type": "stream",
     "text": [
      "Rs= 180.0 ohm\n",
      "Rd= 3.6 kohm\n"
     ]
    }
   ],
   "source": [
    "#from the given figure:\n",
    "Vgsq=-1                            #gate source voltage in volts at Qpoint\n",
    "Idq=5.625                          #drain current in mA\n",
    "gm=3.75*10**-3                     #in S\n",
    "Av=8                               #voltage gain\n",
    "#since the equation, Vgs=-Id*Rs has not changed,\n",
    "Rs=180.0                             #source resistance in ohm\n",
    "\n",
    "Rd=(Av*(1+gm*Rs))/gm               #drain resistance in kohm\n",
    "\n",
    "print \"Rs=\",Rs,\"ohm\"\n",
    "print \"Rd=\",round(Rd/1000,1),\"kohm\"\n"
   ]
  }
 ],
 "metadata": {
  "anaconda-cloud": {},
  "kernelspec": {
   "display_name": "Python [Root]",
   "language": "python",
   "name": "Python [Root]"
  },
  "language_info": {
   "codemirror_mode": {
    "name": "ipython",
    "version": 2
   },
   "file_extension": ".py",
   "mimetype": "text/x-python",
   "name": "python",
   "nbconvert_exporter": "python",
   "pygments_lexer": "ipython2",
   "version": "2.7.12"
  }
 },
 "nbformat": 4,
 "nbformat_minor": 0
}
