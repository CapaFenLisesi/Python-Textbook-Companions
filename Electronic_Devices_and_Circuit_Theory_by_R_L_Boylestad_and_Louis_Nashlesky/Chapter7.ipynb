{
 "cells": [
  {
   "cell_type": "markdown",
   "metadata": {},
   "source": [
    "# Chapter- 7   FET Biasing"
   ]
  },
  {
   "cell_type": "markdown",
   "metadata": {},
   "source": [
    "## Example-7.1            Page Number-416"
   ]
  },
  {
   "cell_type": "code",
   "execution_count": 4,
   "metadata": {
    "collapsed": false
   },
   "outputs": [
    {
     "name": "stdout",
     "output_type": "stream",
     "text": [
      "Vgs= -2.0 V\n",
      "Id= 5.625 mA\n",
      "Vds= 4.75 V\n",
      "Vd= 4.75 V\n",
      "Vg= -2.0 V\n",
      "Vs= 0 V\n"
     ]
    }
   ],
   "source": [
    "#from the given figure:\n",
    "Vdd=16.0                  #supply  voltage in volts\n",
    "Idss=10.0                 #drain source saturation current in mA\n",
    "Vp=-8.0                   #pinch off voltage in volts\n",
    "Rd=2.0                    #drain resistance in kohm\n",
    "Vgg=-2.0                  #gate voltage in volts\n",
    "\n",
    "#calculation:\n",
    "Vgs=Vgg                 #gate source voltage in volts\n",
    "X=(1-Vgs/Vp)**2         #temporary variable\n",
    "Id=Idss*X               #drain current in mA\n",
    "Vds=Vdd-Id*Rd           #drain source voltage in volts\n",
    "Vd=Vds                  #drain voltage in volts\n",
    "Vg=Vgs                  #gate voltage in volts\n",
    "Vs=0                    #source voltage in volts\n",
    "\n",
    "print \"Vgs=\",Vgs,\"V\"\n",
    "print \"Id=\",Id,\"mA\"\n",
    "print \"Vds=\",Vds,\"V\"\n",
    "print \"Vd=\",Vd,\"V\"\n",
    "print \"Vg=\",Vg,\"V\"\n",
    "print \"Vs=\",Vs,\"V\""
   ]
  },
  {
   "cell_type": "markdown",
   "metadata": {},
   "source": [
    "## Example-7.2            Page Number-419"
   ]
  },
  {
   "cell_type": "code",
   "execution_count": 6,
   "metadata": {
    "collapsed": false
   },
   "outputs": [
    {
     "name": "stdout",
     "output_type": "stream",
     "text": [
      "Id= 2.6 mA\n",
      "Vds= 8.82 V\n",
      "Vs= 2.6 V\n",
      "Vg= 0 V\n",
      "Vd= 11.42 V\n"
     ]
    }
   ],
   "source": [
    "#from the given figure:\n",
    "Vdd=20.0                  #supply  voltage in volts\n",
    "Idss=8.0                  #drain source saturation current in mA\n",
    "Vp=-6.0                   #pinch off voltage in volts\n",
    "Rd=3.3                    #drain resistance in kohm\n",
    "Rg=1.0                    #gate resistance in Mohm\n",
    "Rs=1                      #source resistance in kohm\n",
    "\n",
    "#drawing the load line and characterstics curve:\n",
    "#calculation:\n",
    "Id=2.6                  #drain current in mA\n",
    "Vds=Vdd-Id*(Rd+Rs)      #drain source voltage in volts\n",
    "Vs=Id*Rs                #source voltage in volts\n",
    "Vg=0                    #gate voltage in volts\n",
    "Vd=Vds+Vs               #drain voltage in volts\n",
    "\n",
    "print \"Id=\",Id,\"mA\"\n",
    "print \"Vds=\",Vds,\"V\"\n",
    "print \"Vs=\",Vs,\"V\"\n",
    "print \"Vg=\",Vg,\"V\"\n",
    "print \"Vd=\",Vd,\"V\""
   ]
  },
  {
   "cell_type": "markdown",
   "metadata": {},
   "source": [
    "## Example-7.5            Page Number-424"
   ]
  },
  {
   "cell_type": "code",
   "execution_count": 9,
   "metadata": {
    "collapsed": false
   },
   "outputs": [
    {
     "name": "stdout",
     "output_type": "stream",
     "text": [
      "Id= 2.4 mA\n",
      "Vgs= -1.8 V\n",
      "Vd= 10.24 V\n",
      "Vs= 3.6 V\n",
      "Vds= 6.64 V\n",
      "Vdg= 8.42 V\n"
     ]
    }
   ],
   "source": [
    "#from the given figure:\n",
    "Vdd=16.0                  #supply  voltage in volts\n",
    "Idss=8.0                  #drain source saturation current in mA\n",
    "Vp=-4.0                   #pinch off voltage in volts\n",
    "Rd=2.4                    #drain resistance in kohm\n",
    "R1=2.1                    #resistance in Mohm\n",
    "R2=270.0                  #resistance in kohm\n",
    "Rs=1.5                    #source resistance in kohm\n",
    "\n",
    "#drawing the load line and characterstics curve:\n",
    "#calculation:\n",
    "Vg=1.82                  #gate voltage in volts         \n",
    "Id=2.4                   #drain current in mA\n",
    "Vgs=-1.8                 #gate source voltage in volts\n",
    "Vd=Vdd-Id*Rd             #drain voltage in volts\n",
    "Vs=Id*Rs                 #source voltage in volts\n",
    "Vds=Vdd-Id*(Rd+Rs)       #drain source voltage in volts\n",
    "Vdg=Vd-Vg                #drain gate voltage in volts \n",
    "\n",
    "print \"Id=\",Id,\"mA\"\n",
    "print \"Vgs=\",Vgs,\"V\"\n",
    "print \"Vd=\",Vd,\"V\"\n",
    "print \"Vs=\",Vs,\"V\"\n",
    "print \"Vds=\",Vds,\"V\"\n",
    "print \"Vdg=\",Vdg,\"V\""
   ]
  },
  {
   "cell_type": "markdown",
   "metadata": {},
   "source": [
    "## Example-7.6            Page Number-427"
   ]
  },
  {
   "cell_type": "code",
   "execution_count": 12,
   "metadata": {
    "collapsed": false
   },
   "outputs": [
    {
     "name": "stdout",
     "output_type": "stream",
     "text": [
      "Id= 3.8 mA\n",
      "Vgs= -2.6 V\n",
      "Vd= 6.3 V\n",
      "Vg= 0 V\n",
      "Vs= 2.58 V\n",
      "Vds= 3.72 V\n"
     ]
    }
   ],
   "source": [
    "#from the given figure:\n",
    "Vdd=12.0                  #supply  voltage in volts\n",
    "Idss=12.0                 #drain source saturation current in mA\n",
    "Vp=-6.0                   #pinch off voltage in volts\n",
    "Rd=1.5                    #drain resistance in kohm\n",
    "Rs=680                    #source resistance in ohm\n",
    "\n",
    "#drawing the load line and characterstics curve:\n",
    "#calculation:\n",
    "Vg=0                     #gate voltage in volts         \n",
    "Id=3.8                   #drain current in mA\n",
    "Vgs=-2.6                 #gate source voltage in volts\n",
    "Vd=Vdd-Id*Rd             #drain voltage in volts\n",
    "Vs=Id*Rs                 #source voltage in volts\n",
    "Vds=Vd-Vs/1000           #drain source voltage in volts\n",
    "\n",
    "print \"Id=\",Id,\"mA\"\n",
    "print \"Vgs=\",Vgs,\"V\"\n",
    "print \"Vd=\",Vd,\"V\"\n",
    "print \"Vg=\",Vg,\"V\"\n",
    "print \"Vs=\",round(Vs/1000,2),\"V\"\n",
    "print \"Vds=\",round(Vds,2),\"V\""
   ]
  },
  {
   "cell_type": "markdown",
   "metadata": {},
   "source": [
    "## Example-7.7            Page Number-430"
   ]
  },
  {
   "cell_type": "code",
   "execution_count": 19,
   "metadata": {
    "collapsed": false
   },
   "outputs": [
    {
     "name": "stdout",
     "output_type": "stream",
     "text": [
      "Id= 3.1 mA\n",
      "Vgs= -0.8 V\n",
      "Vds= 10.1 V\n"
     ]
    }
   ],
   "source": [
    "#from the given figure:\n",
    "Vdd=18.0                  #supply  voltage in volts\n",
    "Idss=6.0                  #drain source saturation current in mA\n",
    "Vp=-3.0                   #pinch off voltage in volts\n",
    "Rd=1.8                    #drain resistance in kohm\n",
    "R1=110                    #resistance in Mohm\n",
    "R2=10.0                   #resistance in Mohm\n",
    "Rs=750.0                    #source resistance in ohm\n",
    "\n",
    "#drawing the load line and characterstics curve:\n",
    "#calculation:\n",
    "Vg=1.5                   #gate voltage in volts         \n",
    "Id=3.1                   #drain current in mA\n",
    "Vgs=-0.8                 #gate source voltage in volts\n",
    "Vds=Vdd-Id*(Rd+Rs/1000)       #drain source voltage in volts\n",
    "\n",
    "print \"Id=\",Id,\"mA\"\n",
    "print \"Vgs=\",Vgs,\"V\"\n",
    "print \"Vds=\",round(Vds,2),\"V\""
   ]
  },
  {
   "cell_type": "markdown",
   "metadata": {},
   "source": [
    "## Example-7.8            Page Number-431"
   ]
  },
  {
   "cell_type": "code",
   "execution_count": 20,
   "metadata": {
    "collapsed": false
   },
   "outputs": [
    {
     "name": "stdout",
     "output_type": "stream",
     "text": [
      "Id= 7.6 mA\n",
      "Vgs= 0.35 V\n",
      "Vds= 3.18 V\n"
     ]
    }
   ],
   "source": [
    "#from the given figure:\n",
    "Vdd=18.0                  #supply  voltage in volts\n",
    "Idss=6.0                  #drain source saturation current in mA\n",
    "Vp=-3.0                   #pinch off voltage in volts\n",
    "Rd=1.8                    #drain resistance in kohm\n",
    "R1=110                    #resistance in Mohm\n",
    "R2=10.0                   #resistance in Mohm\n",
    "Rs=150.0                    #source resistance in ohm\n",
    "\n",
    "#drawing the load line and characterstics curve:\n",
    "#calculation:         \n",
    "Id=7.6                   #drain current in mA\n",
    "Vgs=0.35                 #gate source voltage in volts\n",
    "Vds=Vdd-Id*(Rd+Rs/1000)       #drain source voltage in volts\n",
    "\n",
    "print \"Id=\",Id,\"mA\"\n",
    "print \"Vgs=\",Vgs,\"V\"\n",
    "print \"Vds=\",round(Vds,2),\"V\""
   ]
  },
  {
   "cell_type": "markdown",
   "metadata": {},
   "source": [
    "## Example-7.9            Page Number-432"
   ]
  },
  {
   "cell_type": "code",
   "execution_count": 22,
   "metadata": {
    "collapsed": false
   },
   "outputs": [
    {
     "name": "stdout",
     "output_type": "stream",
     "text": [
      "Id= 1.7 mA\n",
      "Vgs= -4.3 V\n",
      "Vds= 9.46 V\n"
     ]
    }
   ],
   "source": [
    "#from the given figure:\n",
    "Vdd=20.0                  #supply  voltage in volts\n",
    "Idss=8.0                  #drain source saturation current in mA\n",
    "Vp=-8.0                   #pinch off voltage in volts\n",
    "Rd=6.2                    #drain resistance in kohm\n",
    "Rs=2.4                    #source resistance in kohm\n",
    "Rg=1                      #gate resistance in Mohm\n",
    "\n",
    "#drawing the load line and characterstics curve:\n",
    "#calculation:         \n",
    "Id=1.7                   #drain current in mA\n",
    "Vgs=-4.3                 #gate source voltage in volts\n",
    "Vds=Vdd-Id*(Rd+Rs/1000)       #drain source voltage in volts\n",
    "\n",
    "print \"Id=\",Id,\"mA\"\n",
    "print \"Vgs=\",Vgs,\"V\"\n",
    "print \"Vds=\",round(Vds,2),\"V\""
   ]
  },
  {
   "cell_type": "markdown",
   "metadata": {},
   "source": [
    "## Example-7.10            Page Number-433"
   ]
  },
  {
   "cell_type": "code",
   "execution_count": 23,
   "metadata": {
    "collapsed": false
   },
   "outputs": [
    {
     "name": "stdout",
     "output_type": "stream",
     "text": [
      "Id= 10 mA\n",
      "Vgs= 0 V\n",
      "Vd= 5.0 V\n"
     ]
    }
   ],
   "source": [
    "#from the given figure:\n",
    "Vdd=20.0                  #supply  voltage in volts\n",
    "Idss=10.0                 #drain source saturation current in mA\n",
    "Vp=-4.0                   #pinch off voltage in volts\n",
    "Rd=1.5                    #drain resistance in kohm\n",
    "Vgs=0                      #gate source voltage in volts\n",
    "\n",
    "#calculation:  \n",
    "#since Vgs=0V, Id=Idss=10mA  \n",
    "Id=10                      #drain current in mA\n",
    "Vd=Vdd-Id*Rd               #drain voltage in volts\n",
    "\n",
    "print \"Id=\",Id,\"mA\"\n",
    "print \"Vgs=\",Vgs,\"V\"\n",
    "print \"Vd=\",round(Vd,2),\"V\""
   ]
  },
  {
   "cell_type": "markdown",
   "metadata": {},
   "source": [
    "## Example-7.14            Page Number-442"
   ]
  },
  {
   "cell_type": "code",
   "execution_count": 28,
   "metadata": {
    "collapsed": false
   },
   "outputs": [
    {
     "name": "stdout",
     "output_type": "stream",
     "text": [
      "Id= 1.0 mA\n",
      "Vgs= -2.6 V\n",
      "Ie= 1.0 mA\n",
      "Ib= 12.5 microA\n",
      "Vb= 10.125 V\n",
      "Ve= 9.43 V\n"
     ]
    }
   ],
   "source": [
    "#from the given figure:\n",
    "Vdd=16.0                  #supply  voltage in volts\n",
    "Idss=8.0                 #drain source saturation current in mA\n",
    "Vp=-4.0                   #pinch off voltage in volts\n",
    "Rc=3.6                    #collector resistance in kohm\n",
    "Rb=470                    #base resistance in kohm\n",
    "Rs=2.4                    #source resistance in kohm\n",
    "B=80\n",
    "Vbe=0.7                   #base emitter voltage in volts\n",
    "\n",
    "#drawing the load line and characterstics curve:\n",
    "#calculation:         \n",
    "Id=1.0                   #drain current in mA\n",
    "Vgs=-2.6                 #gate source voltage in volts\n",
    "Ie=Ic=Id                 #emitter current and collector current in mA\n",
    "Ib=Ic/B                  #base current in mA\n",
    "Vb=Vdd-Ib*Rb             #base voltage in volts\n",
    "Ve=Vd=Vb-Vbe             #base voltage in volts\n",
    "\n",
    "print \"Id=\",Id,\"mA\"\n",
    "print \"Vgs=\",Vgs,\"V\"\n",
    "print \"Ie=\",Ie,\"mA\"\n",
    "print \"Ib=\",round(Ib*1000,2),\"microA\"\n",
    "print \"Vb=\",round(Vb,3),\"V\"\n",
    "print \"Ve=\",round(Ve,2),\"V\""
   ]
  },
  {
   "cell_type": "markdown",
   "metadata": {},
   "source": [
    "## Example-7.16            Page Number-444"
   ]
  },
  {
   "cell_type": "code",
   "execution_count": 31,
   "metadata": {
    "collapsed": false
   },
   "outputs": [
    {
     "name": "stdout",
     "output_type": "stream",
     "text": [
      "Id= 2.22 mA\n",
      "Vg= 5.45 V\n",
      "Rs= 3.35 kohm\n"
     ]
    }
   ],
   "source": [
    "#from the given figure:\n",
    "Vdd=16.0                  #supply  voltage in volts\n",
    "Rd=1.8                    #drain resistance in kohm\n",
    "R1=91.0                   #resistance in kohm\n",
    "R2=47.0                   #resistance in kohm\n",
    "Vd=12                     #drain voltage in volts\n",
    "Vgs=-2                    #gate source voltage in volts\n",
    "\n",
    "#calculation:         \n",
    "Id=(Vdd-Vd)/Rd                     #drain current in mA\n",
    "Vg=(R2*Vdd)/(R2+R1)                #gate voltage in volts\n",
    "Rs=(Vg-Vgs)/Id                     #source resistance in kohm\n",
    "\n",
    "print \"Id=\",round(Id,2),\"mA\"\n",
    "print \"Vg=\",round(Vg,2),\"V\"\n",
    "print \"Rs=\",round(Rs,2),\"kohm\""
   ]
  },
  {
   "cell_type": "markdown",
   "metadata": {},
   "source": [
    "## Example-7.17            Page Number-444"
   ]
  },
  {
   "cell_type": "code",
   "execution_count": 34,
   "metadata": {
    "collapsed": false
   },
   "outputs": [
    {
     "name": "stdout",
     "output_type": "stream",
     "text": [
      "Vdd= 12.0 V\n",
      "Rd= 1.5 kohm\n"
     ]
    }
   ],
   "source": [
    "#from the given figure:\n",
    "Idon=4.0                    #drain current in mA\n",
    "Vgson=6.0                   #gate source voltage in volts\n",
    "Vgsth=3.0                   #gate source threshold voltage in volts\n",
    "\n",
    "#calculation:\n",
    "Id=Idon                           #drain current in mA\n",
    "Vgs=Vgson                         #gate voltage in volts\n",
    "Vdd=Vgs*2                         #drain voltage in volts\n",
    "Vds=Vdd/2                         #drain source voltage in volts\n",
    "Rd=(Vdd-Vds)/Idon                 #drain resistance in ohm\n",
    "\n",
    "print \"Vdd=\",round(Vdd,2),\"V\"\n",
    "print \"Rd=\",round(Rd,2),\"kohm\""
   ]
  }
 ],
 "metadata": {
  "anaconda-cloud": {},
  "kernelspec": {
   "display_name": "Python [Root]",
   "language": "python",
   "name": "Python [Root]"
  },
  "language_info": {
   "codemirror_mode": {
    "name": "ipython",
    "version": 2
   },
   "file_extension": ".py",
   "mimetype": "text/x-python",
   "name": "python",
   "nbconvert_exporter": "python",
   "pygments_lexer": "ipython2",
   "version": "2.7.12"
  }
 },
 "nbformat": 4,
 "nbformat_minor": 0
}
