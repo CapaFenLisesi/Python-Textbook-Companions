{
 "cells": [
  {
   "cell_type": "markdown",
   "metadata": {},
   "source": [
    "# Chapter 18 Refrigeration"
   ]
  },
  {
   "cell_type": "markdown",
   "metadata": {},
   "source": [
    "## Ex:18.1 Pg:784"
   ]
  },
  {
   "cell_type": "code",
   "execution_count": 1,
   "metadata": {
    "collapsed": false
   },
   "outputs": [
    {
     "name": "stdout",
     "output_type": "stream",
     "text": [
      "From steam tables,\n",
      "Coefficient of performance = 12.0 \n",
      "\n",
      " horsepower required per ton of refrigeration = 0.393 hp/ton refrigeration\n",
      "\n",
      " Work of compression = -62.8 Btu/lbm\n",
      "\n",
      " Work of expansion = 1.42 Btu/lbm\n"
     ]
    }
   ],
   "source": [
    "#Initialization of variables\n",
    "Ta=500 #R\n",
    "Tr=540 #R\n",
    "#calculations\n",
    "cop=Ta/(Tr-Ta)\n",
    "hp=4.71/cop\n",
    "print \"From steam tables,\"\n",
    "ha=48.02\n",
    "hb=46.6\n",
    "hc=824.1\n",
    "hd=886.9\n",
    "Wc=-(hd-hc)\n",
    "We=-(hb-ha)\n",
    "#results\n",
    "print \"Coefficient of performance = %.1f \"%(cop)\n",
    "print \"\\n horsepower required per ton of refrigeration = %.3f hp/ton refrigeration\"%(hp)\n",
    "print \"\\n Work of compression = %.1f Btu/lbm\"%(Wc)\n",
    "print \"\\n Work of expansion = %.2f Btu/lbm\"%(We)"
   ]
  },
  {
   "cell_type": "markdown",
   "metadata": {},
   "source": [
    "## Ex:18.2 Pg:785"
   ]
  },
  {
   "cell_type": "code",
   "execution_count": 2,
   "metadata": {
    "collapsed": false
   },
   "outputs": [
    {
     "name": "stdout",
     "output_type": "stream",
     "text": [
      "Coefficient of performance = 8.96\n"
     ]
    }
   ],
   "source": [
    "#Initialization of variables\n",
    "x=0.8\n",
    "he=26.28 #Btu/lbm\n",
    "hb=26.28 #Btu/lbm\n",
    "pe=98.76 #psia\n",
    "pc=51.68 #psia\n",
    "hc=82.71 #Btu/lbm\n",
    "hf=86.80+0.95\n",
    "#calculations\n",
    "dwisen=-(hf-hc)\n",
    "dwact=dwisen/x\n",
    "hd=hc-dwact\n",
    "cop=(hc-hb)/(hd-hc)\n",
    "#results\n",
    "print \"Coefficient of performance = %.2f\"%(cop)"
   ]
  },
  {
   "cell_type": "markdown",
   "metadata": {},
   "source": [
    "## Ex:18.3 Pg:785"
   ]
  },
  {
   "cell_type": "code",
   "execution_count": 3,
   "metadata": {
    "collapsed": false
   },
   "outputs": [
    {
     "name": "stdout",
     "output_type": "stream",
     "text": [
      "Work done = -100.1 Btu/lbm\n",
      "\n",
      " horsepower required per ton of refrigeration = 0.994 hp/ton refrigeration\n",
      "\n",
      " Coefficient of performance actual = 4.74 \n",
      "\n",
      " Ideal cop = 5.737\n",
      "\n",
      " relative efficiency = 0.826\n",
      "\n",
      " Mass flow rate = 0.422 lbm/min ton\n",
      "\n",
      " Compressor capacity = 3.44 cfm/ton\n"
     ]
    }
   ],
   "source": [
    "#Initialization of variables\n",
    "hc=613.3#btu/lbm\n",
    "hb=138.9#btu/lbm\n",
    "ha=138.9#btu/lbm\n",
    "hd=713.4 #btu/lbm\n",
    "ta=464.7 #R\n",
    "t0=545.7 #R\n",
    "v=8.150 #ft**3/lbm\n",
    "#calculations\n",
    "Qa=hc-hb\n",
    "Qr=ha-hd\n",
    "Wcd=Qa+Qr\n",
    "cop=abs(Qa/Wcd)\n",
    "hp=abs(4.71/cop)\n",
    "carnot=abs(ta/(t0-ta))\n",
    "rel=abs(cop/carnot)\n",
    "mass=200/Qa\n",
    "C=mass*v\n",
    "#results\n",
    "print \"Work done = %.1f Btu/lbm\"%(Wcd)\n",
    "print \"\\n horsepower required per ton of refrigeration = %.3f hp/ton refrigeration\"%(hp)\n",
    "print \"\\n Coefficient of performance actual = %.2f \"%(cop)\n",
    "print \"\\n Ideal cop = %.3f\"%(carnot)\n",
    "print \"\\n relative efficiency = %.3f\"%(rel)\n",
    "print \"\\n Mass flow rate = %.3f lbm/min ton\"%(mass)\n",
    "print \"\\n Compressor capacity = %.2f cfm/ton\"%(C)"
   ]
  },
  {
   "cell_type": "markdown",
   "metadata": {},
   "source": [
    "## Ex:18.4 Pg:786"
   ]
  },
  {
   "cell_type": "code",
   "execution_count": 4,
   "metadata": {
    "collapsed": false
   },
   "outputs": [
    {
     "name": "stdout",
     "output_type": "stream",
     "text": [
      "Pressure ratio = 5.74\n",
      "\n",
      " Heat = 25083 Btu/min\n",
      "\n",
      " Water make up required = 24.24 lbm/min\n",
      "\n",
      " Volume of vapor entering ejector = 58054 cfm\n",
      "The answers are a bit different due to rounding off error in textbook\n"
     ]
    }
   ],
   "source": [
    "#Initialization of variables\n",
    "pc=0.6982 #psia\n",
    "pe=0.1217 #psia\n",
    "m=200 #gal/min\n",
    "qual=0.98\n",
    "h1=23.07 #Btu/lbm\n",
    "h2=8.05  #Btu/lbm\n",
    "hw=1071.3\n",
    "#calculations\n",
    "rp=pc/pe\n",
    "m2=m/0.01602 *0.1388 #Conversion of units \n",
    "m2=1670\n",
    "dh=15.02\n",
    "Qa=m2*(h1-h2)\n",
    "h3=h2 + qual*hw\n",
    "m3=Qa/(h3-h1)\n",
    "v=0.016+ qual*2444\n",
    "C=m3*v\n",
    "#results\n",
    "print \"Pressure ratio = %.2f\"%(rp)\n",
    "print \"\\n Heat = %d Btu/min\"%(Qa)\n",
    "print \"\\n Water make up required = %.2f lbm/min\"%(m3)\n",
    "print \"\\n Volume of vapor entering ejector = %d cfm\"%(C)\n",
    "print \"The answers are a bit different due to rounding off error in textbook\""
   ]
  },
  {
   "cell_type": "markdown",
   "metadata": {},
   "source": [
    "## Ex:18.5 Pg:787"
   ]
  },
  {
   "cell_type": "code",
   "execution_count": 5,
   "metadata": {
    "collapsed": false
   },
   "outputs": [
    {
     "name": "stdout",
     "output_type": "stream",
     "text": [
      "From fig B-4,\n",
      "Appropraite notation from textbook has been used\n",
      "All are enthalpy values at different stages\n",
      "part a\n",
      "Work done = -18.08 Btu/lbm\n",
      "\n",
      " Heat = 47.22 Btu/lbm\n",
      "\n",
      " horsepower required per ton of refrigeration = 1.803 hp/ton refrigeration\n",
      "\n",
      " Coefficient of performance actual = 2.61 \n",
      "case 2\n",
      "\n",
      " Work done = -53.6 Btu/lbm\n",
      "\n",
      " Heat = 146.30 Btu/lbm\n",
      "\n",
      " horsepower required per ton of refrigeration = 1.726 hp/ton refrigeration\n",
      "\n",
      " Coefficient of performance actual = 2.73 \n",
      "part b\n",
      "\n",
      " Work done = -22.0 Btu/lbm\n",
      "\n",
      " Heat = 60.95 Btu/lbm\n",
      "\n",
      " horsepower required per ton of refrigeration = 1.702 hp/ton refrigeration\n",
      "\n",
      " Coefficient of performance actual = 2.77 \n"
     ]
    }
   ],
   "source": [
    "#Initialization of variables\n",
    "print \"From fig B-4,\"\n",
    "print \"Appropraite notation from textbook has been used\"\n",
    "print \"All are enthalpy values at different stages\"\n",
    "hc=73.5 #Btu/lbm\n",
    "hb=26.28 #Btu/lbm\n",
    "hd=91.58 #Btu/lbm\n",
    "hc2=190.7 #Btu/lbm\n",
    "hd2=244.3 #Btu/lbm\n",
    "hb2=44.4 #Btu/lbm\n",
    "m1=1 #lbm\n",
    "m2=0.461 #lbm\n",
    "hc1=73.5 #Btu/lbm\n",
    "hd1=83.35 #Btu/lbm \n",
    "hc2=190.7 #Btu/lbm \n",
    "hd2=244.3 #Btu/lbm\n",
    "hb1=12.55 #Btu/lbm \n",
    "hc22=197.58 #Btu/lbm \n",
    "hd22=224 #Btu/lbm\n",
    "#Calculations\n",
    "w1=hc-hd\n",
    "qa1=hc-hb\n",
    "cop1=abs(qa1/(w1))\n",
    "hp1=4.71/cop1\n",
    "w2=hc2-hd2\n",
    "qa2=hc2-hb2\n",
    "cop2=abs(qa2/(w2))\n",
    "hp2=4.71/cop2\n",
    "qa3=m1*(hc1-hb1)\n",
    "w3=m1*(hc1-hd1) + m2*(hc22-hd22)\n",
    "cop3=abs(qa3/w3)\n",
    "hp3=4.71/cop3\n",
    "#results\n",
    "print \"part a\"\n",
    "print \"Work done = %.2f Btu/lbm\"%(w1)\n",
    "print \"\\n Heat = %.2f Btu/lbm\"%(qa1)\n",
    "print \"\\n horsepower required per ton of refrigeration = %.3f hp/ton refrigeration\"%(hp1)\n",
    "print \"\\n Coefficient of performance actual = %.2f \"%(cop1)\n",
    "print \"case 2\"\n",
    "print \"\\n Work done = %.1f Btu/lbm\"%(w2)\n",
    "print \"\\n Heat = %.2f Btu/lbm\"%(qa2)\n",
    "print \"\\n horsepower required per ton of refrigeration = %.3f hp/ton refrigeration\"%(hp2)\n",
    "print \"\\n Coefficient of performance actual = %.2f \"%(cop2)\n",
    "print \"part b\"\n",
    "print \"\\n Work done = %.1f Btu/lbm\"%(w3)\n",
    "print \"\\n Heat = %.2f Btu/lbm\"%(qa3)\n",
    "print \"\\n horsepower required per ton of refrigeration = %.3f hp/ton refrigeration\"%(hp3)\n",
    "print \"\\n Coefficient of performance actual = %.2f \"%(cop3)"
   ]
  },
  {
   "cell_type": "markdown",
   "metadata": {},
   "source": [
    "## Ex:18.6 Pg:788"
   ]
  },
  {
   "cell_type": "code",
   "execution_count": 6,
   "metadata": {
    "collapsed": false
   },
   "outputs": [
    {
     "name": "stdout",
     "output_type": "stream",
     "text": [
      "From fig B-4,\n",
      "Appropraite notation from textbook has been used\n",
      "All are enthalpy values at different stages\n",
      "\n",
      " horsepower required per ton of refrigeration = 1.585 hp/ton refrigeration\n",
      "\n",
      " Coefficient of performance actual = 2.97 \n"
     ]
    }
   ],
   "source": [
    "#Initialization of variables\n",
    "print \"From fig B-4,\"\n",
    "print \"Appropraite notation from textbook has been used\"\n",
    "print \"All are enthalpy values at different stages\"\n",
    "ha=44.36 #Btu/lbm \n",
    "hc=18.04 #Btu/lbm\n",
    "hj=197.58 #Btu/lbm\n",
    "hh=213.5 #Btu/lbm \n",
    "hd=hc #Btu/lbm\n",
    "he=190.66 #Btu/lbm\n",
    "hk=241.25 #Btu/lbm\n",
    "#calculations\n",
    "m=(hc-ha)/(ha-hj)\n",
    "hi=(m*hj+hh)/(1+m)\n",
    "Qa=he-hd\n",
    "W=he-hh + (1+m)*(hi-hk)\n",
    "cop=abs(Qa/W)\n",
    "hp=4.71/cop\n",
    "#results\n",
    "print \"\\n horsepower required per ton of refrigeration = %.3f hp/ton refrigeration\"%(hp)\n",
    "print \"\\n Coefficient of performance actual = %.2f \"%(cop)"
   ]
  }
 ],
 "metadata": {
  "kernelspec": {
   "display_name": "Python 2",
   "language": "python",
   "name": "python2"
  },
  "language_info": {
   "codemirror_mode": {
    "name": "ipython",
    "version": 2
   },
   "file_extension": ".py",
   "mimetype": "text/x-python",
   "name": "python",
   "nbconvert_exporter": "python",
   "pygments_lexer": "ipython2",
   "version": "2.7.9"
  }
 },
 "nbformat": 4,
 "nbformat_minor": 0
}
