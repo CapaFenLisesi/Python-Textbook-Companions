{
 "cells": [
  {
   "cell_type": "markdown",
   "metadata": {},
   "source": [
    "# Chapter 17 Gas cycles and processes"
   ]
  },
  {
   "cell_type": "markdown",
   "metadata": {},
   "source": [
    "## Ex:17.1 Pg:768"
   ]
  },
  {
   "cell_type": "code",
   "execution_count": 2,
   "metadata": {
    "collapsed": false
   },
   "outputs": [
    {
     "name": "stdout",
     "output_type": "stream",
     "text": [
      "\n",
      " Thermal efficiency = 14.9 percent\n",
      "\n",
      " Moles of fuel burned per mol of air = 0.00177 mol fuel/mol air\n",
      "\n",
      " Mass ratio in pounds = 0.00866 lbm fuel/lbm air\n",
      "\n",
      " Air fuel ratio = 115 lbm air/lbm fuel\n"
     ]
    }
   ],
   "source": [
    "from __future__ import division\n",
    "\n",
    "#Initialization of variables\n",
    "ha=1033 #Btu/mol air\n",
    "hbd=2992 #Btu/mol air\n",
    "hc=7823 #Btu/mol air\n",
    "hdd=5142 #Btu/mol air\n",
    "Hv=2733000 #Btu/mol\n",
    "M=29\n",
    "#calculations\n",
    "Wt=hc-hdd\n",
    "Wc=ha-hbd\n",
    "Net=Wt+Wc\n",
    "Heat=hc-hbd\n",
    "etat=Net*100/Heat\n",
    "molair=Heat/Hv\n",
    "mr=molair*142/M\n",
    "Af=1/mr\n",
    "#results\n",
    "print \"\\n Thermal efficiency = %.1f percent\"%(etat)\n",
    "print \"\\n Moles of fuel burned per mol of air = %.5f mol fuel/mol air\"%(molair)\n",
    "print \"\\n Mass ratio in pounds = %.5f lbm fuel/lbm air\"%(mr)\n",
    "print \"\\n Air fuel ratio = %d lbm air/lbm fuel\"%(Af)"
   ]
  }
 ],
 "metadata": {
  "kernelspec": {
   "display_name": "Python 2",
   "language": "python",
   "name": "python2"
  },
  "language_info": {
   "codemirror_mode": {
    "name": "ipython",
    "version": 2
   },
   "file_extension": ".py",
   "mimetype": "text/x-python",
   "name": "python",
   "nbconvert_exporter": "python",
   "pygments_lexer": "ipython2",
   "version": "2.7.9"
  }
 },
 "nbformat": 4,
 "nbformat_minor": 0
}
