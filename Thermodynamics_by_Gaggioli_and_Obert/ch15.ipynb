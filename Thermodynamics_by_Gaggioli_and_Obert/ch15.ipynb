{
 "cells": [
  {
   "cell_type": "markdown",
   "metadata": {},
   "source": [
    "# Chapter 15 Vapor cycle and processes"
   ]
  },
  {
   "cell_type": "markdown",
   "metadata": {},
   "source": [
    "## Ex:15.1 Pg:697"
   ]
  },
  {
   "cell_type": "code",
   "execution_count": 1,
   "metadata": {
    "collapsed": false
   },
   "outputs": [
    {
     "name": "stdout",
     "output_type": "stream",
     "text": [
      "from steam tables,\n",
      "Thermal efficiency = 45 percent\n",
      "\n",
      " Furnace efficiency = 33.8 percent\n"
     ]
    }
   ],
   "source": [
    "#Initialization of variables\n",
    "p1=600 #psia\n",
    "p2=0.2563 #psia\n",
    "t1=486.21 #F\n",
    "t2=60 #F\n",
    "fur=0.75\n",
    "#calculations\n",
    "print \"from steam tables,\"\n",
    "h1=1203.2\n",
    "hf1=471.6\n",
    "hfg1=731.6\n",
    "h2=1088\n",
    "hf2=28.06\n",
    "hfg2=1059.9\n",
    "s1=1.4454\n",
    "sf1=0.6720\n",
    "sfg1=0.7734\n",
    "s2=2.0948\n",
    "sf2=0.0555\n",
    "sfg2=2.0393\n",
    "xd=(s1-sf2)/sfg2\n",
    "hd=hf2+xd*hfg2\n",
    "xa=0.3023\n",
    "ha=hf2+xa*hfg2\n",
    "wbc=0\n",
    "wda=0\n",
    "wcd=h1-hd\n",
    "wab=ha-hf1\n",
    "W=wab+wcd+wbc+wda\n",
    "Wrev=hfg1- (t2+459.7)*sfg1\n",
    "etat=(t1-t2)/(t1+459.7)\n",
    "eta=fur*etat\n",
    "#results\n",
    "print \"Thermal efficiency = %d percent\"%(etat*100)\n",
    "print \"\\n Furnace efficiency = %.1f percent\"%(eta*100)"
   ]
  },
  {
   "cell_type": "markdown",
   "metadata": {},
   "source": [
    "## Ex:15.2 Pg:698"
   ]
  },
  {
   "cell_type": "code",
   "execution_count": 2,
   "metadata": {
    "collapsed": false
   },
   "outputs": [
    {
     "name": "stdout",
     "output_type": "stream",
     "text": [
      "Thermal efficiency = 22.8 percent\n",
      "\n",
      " Overall efficiency = 17.1 percent\n"
     ]
    }
   ],
   "source": [
    "#Initialization of variables\n",
    "dhab=-123.1\n",
    "etac=0.5\n",
    "ha=348.5\n",
    "etaf=0.75\n",
    "eta=0.85\n",
    "hf=471.6\n",
    "hfg=731.6\n",
    "hc=1203.2\n",
    "dhcd=452.7\n",
    "#calculations\n",
    "dwabs=dhab/etac\n",
    "hbd=ha-dwabs\n",
    "dwcds=dhcd*eta\n",
    "dqa=hc-hbd\n",
    "etat=(dwcds+dwabs)/dqa\n",
    "eta=etat*etaf\n",
    "#results\n",
    "print \"Thermal efficiency = %.1f percent\"%(etat*100)\n",
    "print \"\\n Overall efficiency = %.1f percent\"%(eta*100)"
   ]
  },
  {
   "cell_type": "markdown",
   "metadata": {},
   "source": [
    "## Ex:15.3 Pg:699"
   ]
  },
  {
   "cell_type": "code",
   "execution_count": 3,
   "metadata": {
    "collapsed": false
   },
   "outputs": [
    {
     "name": "stdout",
     "output_type": "stream",
     "text": [
      "From steam tables,\n",
      "Thermal efficiency = 38.4 percent\n",
      "\n",
      " Overall efficiency = 32.7 percent\n"
     ]
    }
   ],
   "source": [
    "#Initialization of variables\n",
    "t=60 #F\n",
    "J=778.16\n",
    "p1=600 #psia\n",
    "p2=0.2563 #psia\n",
    "etaf=0.85 \n",
    "#calculations\n",
    "print \"From steam tables,\"\n",
    "vf=0.01604 #ft**3/lbm\n",
    "dw=-vf*(p1-p2)*144/J\n",
    "ha=28.06 #Btu/lbm\n",
    "hb=29.84 #Btu/lbm\n",
    "hd=1203.2 #Btu/lbm\n",
    "he=750.5 #Btu/lbm\n",
    "dqa=hd-hb\n",
    "dqr=ha-he\n",
    "dw=dqa+dqr\n",
    "dwturb=hd-he\n",
    "dwpump=ha-hb\n",
    "etat=dw/dqa\n",
    "eta=etat*etaf\n",
    "#results\n",
    "print \"Thermal efficiency = %.1f percent\"%(etat*100)\n",
    "print \"\\n Overall efficiency = %.1f percent\"%(eta*100)\n",
    "    "
   ]
  },
  {
   "cell_type": "markdown",
   "metadata": {},
   "source": [
    "## Ex:15.4 Pg:699"
   ]
  },
  {
   "cell_type": "code",
   "execution_count": 4,
   "metadata": {
    "collapsed": false
   },
   "outputs": [
    {
     "name": "stdout",
     "output_type": "stream",
     "text": [
      "Thermal efficiency = 32.5 percent\n",
      "\n",
      " Overall efficiency = 27.7 percent\n"
     ]
    }
   ],
   "source": [
    "#Initialization of variables\n",
    "dhab=-1.78\n",
    "etac=0.5\n",
    "ha=28.06\n",
    "eta=0.85\n",
    "hf=471.6\n",
    "hfg=731.6\n",
    "hd=1203.2\n",
    "dhcd=452.7\n",
    "#calculations\n",
    "dwabs=dhab/etac\n",
    "hbd=ha-dwabs\n",
    "dwcds=dhcd*eta\n",
    "dqa=hd-hbd\n",
    "etat=(dwcds+dwabs)/dqa\n",
    "eta=etat*eta\n",
    "#results\n",
    "print \"Thermal efficiency = %.1f percent\"%(etat*100)\n",
    "print \"\\n Overall efficiency = %.1f percent\"%(eta*100)"
   ]
  },
  {
   "cell_type": "markdown",
   "metadata": {},
   "source": [
    "## Ex:15.5 Pg:700"
   ]
  },
  {
   "cell_type": "code",
   "execution_count": 5,
   "metadata": {
    "collapsed": false
   },
   "outputs": [
    {
     "name": "stdout",
     "output_type": "stream",
     "text": [
      "Thermal efficiency in case 1= 46.5 percent\n",
      "\n",
      " Thermal efficiency in case 1= 40.9 percent\n",
      "\n",
      " High pressure work = 187.8 Btu/lbm\n",
      "\n",
      " Low pressure work = 451.5 Btu/lbm\n",
      "\n",
      " Net work = 639.3 Btu/lbm\n"
     ]
    }
   ],
   "source": [
    "#Initialization of variables\n",
    "sh=1.6070\n",
    "ph=94.8 #psia\n",
    "th=324 #F\n",
    "tr=60 #F\n",
    "hh=1186.2 \n",
    "pi=94.8 #psia\n",
    "hi=1399.5\n",
    "si=1.8265\n",
    "#calculations\n",
    "Q=hi-hh\n",
    "Hr=-(tr+459.7)*(si-sh)\n",
    "work= Q+Hr\n",
    "eff=work/Q\n",
    "Qa1=1557.5\n",
    "W1=637.1 \n",
    "etat=W1/Qa1\n",
    "he=1374\n",
    "hj=948\n",
    "Whp=he-hh\n",
    "Wlp=hi-hj\n",
    "Wnet=Whp+Wlp\n",
    "#results\n",
    "print \"Thermal efficiency in case 1= %.1f percent\"%(eff*100)\n",
    "print \"\\n Thermal efficiency in case 1= %.1f percent\"%(etat*100)\n",
    "print \"\\n High pressure work = %.1f Btu/lbm\"%(Whp)\n",
    "print \"\\n Low pressure work = %.1f Btu/lbm\"%(Wlp)\n",
    "print \"\\n Net work = %.1f Btu/lbm\"%(Wnet)"
   ]
  },
  {
   "cell_type": "markdown",
   "metadata": {},
   "source": [
    "## Ex:15.6 Pg:701"
   ]
  },
  {
   "cell_type": "code",
   "execution_count": 6,
   "metadata": {
    "collapsed": false
   },
   "outputs": [
    {
     "name": "stdout",
     "output_type": "stream",
     "text": [
      "thermal efficiency = 42.6 percent\n"
     ]
    }
   ],
   "source": [
    "#Initialization of variables\n",
    "p2=600 #psia\n",
    "p1=44 #psia\n",
    "te=486.21 #F\n",
    "tb=273.1 #F\n",
    "J=778.16\n",
    "p3=0.25 #psia\n",
    "#calculations\n",
    "hc=241.9\n",
    "hj=834.6\n",
    "y=1-0.805\n",
    "v1=0.0172\n",
    "v2=0.016\n",
    "ha=28.06\n",
    "hd=hc+v1*(p2-p1)*144/J\n",
    "hb=ha+v2*(p1-p3)*144/J\n",
    "hh=1374\n",
    "Qa=hh-hd\n",
    "Qr=(ha-hj)*(1-y)\n",
    "etat=(Qa+Qr)/Qa\n",
    "#results\n",
    "print \"thermal efficiency = %.1f percent\"%(etat*100)"
   ]
  }
 ],
 "metadata": {
  "kernelspec": {
   "display_name": "Python 2",
   "language": "python",
   "name": "python2"
  },
  "language_info": {
   "codemirror_mode": {
    "name": "ipython",
    "version": 2
   },
   "file_extension": ".py",
   "mimetype": "text/x-python",
   "name": "python",
   "nbconvert_exporter": "python",
   "pygments_lexer": "ipython2",
   "version": "2.7.9"
  }
 },
 "nbformat": 4,
 "nbformat_minor": 0
}
