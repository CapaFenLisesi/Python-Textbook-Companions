{
 "cells": [
  {
   "cell_type": "markdown",
   "metadata": {},
   "source": [
    "# Chapter 14 Psychrometrics"
   ]
  },
  {
   "cell_type": "markdown",
   "metadata": {},
   "source": [
    "## Ex:14.1 Pg:659"
   ]
  },
  {
   "cell_type": "code",
   "execution_count": 1,
   "metadata": {
    "collapsed": false
   },
   "outputs": [
    {
     "name": "stdout",
     "output_type": "stream",
     "text": [
      "from steam tables,\n",
      "part a\n",
      "partial pressure of water = 0.15207 psia\n",
      "\n",
      " dew temperature = 46 F\n",
      "part b\n",
      "density of water = 0.000474 lbm/ft**3\n",
      "\n",
      " in case 2, density of water = 0.000474 lbm/ft**3\n",
      "\n",
      " density of air = 0.072765 lbm/ft**3\n",
      "part c\n",
      "specific humidity  = 0.0065 lbm steam/lbm air\n",
      "part d\n",
      "In method 1, Degree of saturation = 0.293\n",
      "\n",
      " In method 2, Degree of saturation = 0.293\n"
     ]
    }
   ],
   "source": [
    "#Initialization of variables\n",
    "t1=80+460 #R\n",
    "ps=0.5069 #psia\n",
    "print \"from steam tables,\"\n",
    "vs=633.1 #ft**3/lbm\n",
    "phi=0.3\n",
    "R=85.6\n",
    "Ra=53.3\n",
    "p=14.696\n",
    "#calculations\n",
    "tdew=46 #F\n",
    "pw=phi*ps\n",
    "rhos=1/vs\n",
    "rhow=phi*rhos\n",
    "rhow2= pw*144/(R*t1)\n",
    "pa=p-pw\n",
    "rhoa= pa*144/(Ra*t1)\n",
    "w=rhow/rhoa\n",
    "mu=phi*(p-ps)/(p-pw)\n",
    "Ws=0.622*(ps/(p-ps))\n",
    "mu2=w/Ws\n",
    "#results\n",
    "print \"part a\"\n",
    "print \"partial pressure of water = %.5f psia\"%(pw)\n",
    "print \"\\n dew temperature = %d F\"%(tdew)\n",
    "print \"part b\"\n",
    "print \"density of water = %.6f lbm/ft**3\"%(rhow)\n",
    "print \"\\n in case 2, density of water = %.6f lbm/ft**3\"%(rhow2)\n",
    "print \"\\n density of air = %.6f lbm/ft**3\"%(rhoa)\n",
    "print \"part c\"\n",
    "print \"specific humidity  = %.4f lbm steam/lbm air\"%(w)\n",
    "print \"part d\"\n",
    "print \"In method 1, Degree of saturation = %.3f\"%(mu)\n",
    "print \"\\n In method 2, Degree of saturation = %.3f\"%(mu2)"
   ]
  },
  {
   "cell_type": "markdown",
   "metadata": {},
   "source": [
    "## Ex:14.2 Pg:659"
   ]
  },
  {
   "cell_type": "code",
   "execution_count": 2,
   "metadata": {
    "collapsed": false
   },
   "outputs": [
    {
     "name": "stdout",
     "output_type": "stream",
     "text": [
      "change in moisture content = 0.008857 lbm water/lbm dry air\n",
      "\n",
      " in grains, change = 62.00 grains water/lbm dry air\n",
      "The answers are a bit different due to rounding off error in textbook\n"
     ]
    }
   ],
   "source": [
    "#Initialization of variables\n",
    "p=14.696 #psia\n",
    "ps=0.0808  #psia\n",
    "ps2=0.5069 #psia\n",
    "phi2=0.5\n",
    "phi=0.6\n",
    "grain=7000\n",
    "#calculations\n",
    "pw=phi*ps\n",
    "w1=0.622*pw/(p-pw)\n",
    "pw2=phi2*ps2\n",
    "w2=0.622*pw2/(p-pw2)\n",
    "dw=w2-w1\n",
    "dwg=dw*grain\n",
    "#results\n",
    "print \"change in moisture content = %.6f lbm water/lbm dry air\"%(dw)\n",
    "print \"\\n in grains, change = %.2f grains water/lbm dry air\"%(dwg)\n",
    "print \"The answers are a bit different due to rounding off error in textbook\""
   ]
  },
  {
   "cell_type": "markdown",
   "metadata": {},
   "source": [
    "## Ex:14.3 Pg:660"
   ]
  },
  {
   "cell_type": "code",
   "execution_count": 3,
   "metadata": {
    "collapsed": false
   },
   "outputs": [
    {
     "name": "stdout",
     "output_type": "stream",
     "text": [
      "From steam tables,\n",
      "\n",
      " humidity ratio = 0.0064 lbm/lbm dry air\n",
      "\n",
      " relative humidity  = 29.7 percent\n",
      "\n",
      " Dew point = 46 F\n"
     ]
    }
   ],
   "source": [
    "#Initialization of variables\n",
    "t1=80 #F\n",
    "t2=60 #F\n",
    "p=14.696 #psia\n",
    "ps=0.507 #psia\n",
    "pss=0.256 #psia\n",
    "cp=0.24\n",
    "print \"From steam tables,\"\n",
    "#calculations\n",
    "ws=0.622*pss/(p-pss)\n",
    "w=(cp*(t2-t1) + ws*1060)/(1060+ 0.45*(t1-t2))\n",
    "pw=w*p/(0.622+w)\n",
    "phi=pw/ps\n",
    "td=46 #F\n",
    "#results\n",
    "print \"\\n humidity ratio = %.4f lbm/lbm dry air\"%(w)\n",
    "print \"\\n relative humidity  = %.1f percent\"%(phi*100)\n",
    "print \"\\n Dew point = %d F\"%(td)"
   ]
  },
  {
   "cell_type": "markdown",
   "metadata": {},
   "source": [
    "## Ex:14.4 Pg:661"
   ]
  },
  {
   "cell_type": "code",
   "execution_count": 4,
   "metadata": {
    "collapsed": false
   },
   "outputs": [
    {
     "name": "stdout",
     "output_type": "stream",
     "text": [
      "In case 1, enthalpy = 26.32 Btu/lbm dry air\n",
      "\n",
      " In case 1, sigma function = 26.14 Btu/lbm dry air\n",
      "\n",
      " In case 2, enthalpy = 26.47 Btu/lbm dry air\n",
      "\n",
      " In case 2, sigma function = 26.15 Btu/lbm dry air\n"
     ]
    }
   ],
   "source": [
    "#Initialization of variables\n",
    "W=0.0065  #lbm/lbm of dry air\n",
    "t=80 #F\n",
    "td=60 #F\n",
    "#calculations\n",
    "H=0.24*t+W*(1060+0.45*t)\n",
    "sig=H-W*(td-32)\n",
    "Ws=0.0111\n",
    "H2=0.24*td+Ws*(1060+0.45*td)\n",
    "sig2=H2-Ws*(td-32)\n",
    "#results\n",
    "print \"In case 1, enthalpy = %.2f Btu/lbm dry air\"%(H)\n",
    "print \"\\n In case 1, sigma function = %.2f Btu/lbm dry air\"%(sig)\n",
    "print \"\\n In case 2, enthalpy = %.2f Btu/lbm dry air\"%(H2)\n",
    "print \"\\n In case 2, sigma function = %.2f Btu/lbm dry air\"%(sig2)"
   ]
  },
  {
   "cell_type": "markdown",
   "metadata": {},
   "source": [
    "## Ex:14.5 Pg:662"
   ]
  },
  {
   "cell_type": "code",
   "execution_count": 5,
   "metadata": {
    "collapsed": false
   },
   "outputs": [
    {
     "name": "stdout",
     "output_type": "stream",
     "text": [
      "In case 1, Enthalpy = 9.41 Btu/lbm dry air\n",
      "\n",
      " In case 2, Enthalpy = 31.15 Btu/lbm dry air\n",
      "\n",
      " Heat added = 21.49 Btu/lbm dry air\n"
     ]
    }
   ],
   "source": [
    "#Initialization of variables\n",
    "t1=30 #F\n",
    "t2=60 #F\n",
    "t3=80 #F\n",
    "W1=0.00206\n",
    "W2=0.01090\n",
    "#calculations\n",
    "cm1=0.24+0.45*W1\n",
    "H1=cm1*t1+W1*1060\n",
    "cm2=0.24+0.45*W2\n",
    "H2=cm2*t3+W2*1060\n",
    "hf=t2-32\n",
    "dq=H2-H1-(W2-W1)*hf\n",
    "#results\n",
    "print \"In case 1, Enthalpy = %.2f Btu/lbm dry air\"%(H1)\n",
    "print \"\\n In case 2, Enthalpy = %.2f Btu/lbm dry air\"%(H2)\n",
    "print \"\\n Heat added = %.2f Btu/lbm dry air\"%(dq)"
   ]
  },
  {
   "cell_type": "markdown",
   "metadata": {},
   "source": [
    "## Ex:14.6 Pg:663"
   ]
  },
  {
   "cell_type": "code",
   "execution_count": 6,
   "metadata": {
    "collapsed": false
   },
   "outputs": [
    {
     "name": "stdout",
     "output_type": "stream",
     "text": [
      "using psychrometric charts,\n",
      "part a\n",
      "partial pressure of water = 0.15 psia\n",
      "\n",
      " dew temperature = 46 F\n",
      "part b\n",
      "density of water = 0.000000 lbm/ft**3\n",
      "\n",
      " density of air = 0.0728 lbm/ft**3\n",
      "part c\n",
      "specific humidity  = 0.00657 lbm water/lbm air\n"
     ]
    }
   ],
   "source": [
    "#Initialization of variables\n",
    "pw=0.15#psia\n",
    "print \"using psychrometric charts,\"\n",
    "tdew=46 #F\n",
    "#calculations\n",
    "va=13.74 #ft**3/lbm dry air\n",
    "rhoa=1/va\n",
    "V=13.74\n",
    "mw=46/7000\n",
    "rhow=mw/V\n",
    "w=0.00657\n",
    "#results\n",
    "print \"part a\"\n",
    "print \"partial pressure of water = %.2f psia\"%(pw)\n",
    "print \"\\n dew temperature = %d F\"%(tdew)\n",
    "print \"part b\"\n",
    "print \"density of water = %.6f lbm/ft**3\"%(rhow)\n",
    "print \"\\n density of air = %.4f lbm/ft**3\"%(rhoa)\n",
    "print \"part c\"\n",
    "print \"specific humidity  = %.5f lbm water/lbm air\"%(w)"
   ]
  },
  {
   "cell_type": "markdown",
   "metadata": {},
   "source": [
    "## Ex:14.7 Pg:664"
   ]
  },
  {
   "cell_type": "code",
   "execution_count": 7,
   "metadata": {
    "collapsed": false
   },
   "outputs": [
    {
     "name": "stdout",
     "output_type": "stream",
     "text": [
      "From humidity charts,\n",
      "Enthalpy change = 21.53 Btu/lbm dry air\n"
     ]
    }
   ],
   "source": [
    "#Initialization of variables\n",
    "W1=0.00206 #lbm/lbm dry air\n",
    "W2=0.01090 #lbm/lbm dry air\n",
    "t=60 #F\n",
    "print \"From humidity charts,\"\n",
    "#calculations\n",
    "dw=W1-W2\n",
    "hs=144.4\n",
    "hs2=66.8-32\n",
    "w1=14.4 #Btu/lbm\n",
    "ws1=20 #Btu/lbm\n",
    "w2=76.3 #Btu/lbm\n",
    "ws2=98.5 #Btu/lbm\n",
    "dwh1=-(w1-ws1)/7000 *hs\n",
    "H1=9.3+dwh1\n",
    "dwh2=(w2-ws2)/7000 *hs2\n",
    "H2=31.3+dwh2\n",
    "dwc=dw*(t-32)\n",
    "dq=H2-H1+dwc\n",
    "#results\n",
    "print \"Enthalpy change = %.2f Btu/lbm dry air\"%(dq)"
   ]
  },
  {
   "cell_type": "markdown",
   "metadata": {},
   "source": [
    "## Ex:14.8 Pg:665"
   ]
  },
  {
   "cell_type": "code",
   "execution_count": 8,
   "metadata": {
    "collapsed": false
   },
   "outputs": [
    {
     "name": "stdout",
     "output_type": "stream",
     "text": [
      "From psychrometric charts at 50 F and 80 F,\n",
      "The two initial states have been multiplied by 108/262 and distance 2-3 is located\n",
      "humidity = 0.83 \n",
      "\n",
      " Temperature = 62.5 F\n"
     ]
    }
   ],
   "source": [
    "#Initialization of variables\n",
    "print \"From psychrometric charts at 50 F and 80 F,\"\n",
    "va1=13 #ft**3/lbm dry air\n",
    "va2=13.88 #ft**3/lbm dry air\n",
    "flow=2000 #cfm\n",
    "#calculations\n",
    "ma1= flow/va1\n",
    "ma2=flow/va2\n",
    "print \"The two initial states have been multiplied by 108/262 and distance 2-3 is located\"\n",
    "t=62.5# F\n",
    "phi=0.83 #percent\n",
    "#results\n",
    "print \"humidity = %.2f \"%(phi)\n",
    "print \"\\n Temperature = %.1f F\"%(t)"
   ]
  },
  {
   "cell_type": "markdown",
   "metadata": {},
   "source": [
    "## Ex:14.9 Pg:666"
   ]
  },
  {
   "cell_type": "code",
   "execution_count": 9,
   "metadata": {
    "collapsed": false
   },
   "outputs": [
    {
     "name": "stdout",
     "output_type": "stream",
     "text": [
      "from psychrometric charts,\n",
      "Dry bulb temperature = 71.76 F\n",
      "\n",
      " percent humidity  = 0.80\n"
     ]
    }
   ],
   "source": [
    "#Initialization of variables\n",
    "t=90 #F\n",
    "ts=67.2 #F\n",
    "phi=0.3\n",
    "per=0.8\n",
    "#calculations\n",
    "dep=t-ts\n",
    "dt=dep*per\n",
    "tf=t-dt\n",
    "print \"from psychrometric charts,\"\n",
    "phi2=0.8\n",
    "#results\n",
    "print \"Dry bulb temperature = %.2f F\"%(tf)\n",
    "print \"\\n percent humidity  = %.2f\"%(phi2)"
   ]
  },
  {
   "cell_type": "markdown",
   "metadata": {},
   "source": [
    "## Ex:14.10 Pg:667"
   ]
  },
  {
   "cell_type": "code",
   "execution_count": 10,
   "metadata": {
    "collapsed": false
   },
   "outputs": [
    {
     "name": "stdout",
     "output_type": "stream",
     "text": [
      "From psychrometric charts,\n",
      "cooling range = 25 F\n",
      "\n",
      " Approach = 10 F\n",
      "\n",
      " amount of water cooled per pound of dry air = 1.216 lbm dry air/lbm dry air\n",
      "\n",
      " percentage of water lost by evaporation = 2.12 percent\n"
     ]
    }
   ],
   "source": [
    "#Initialization of variables\n",
    "m=1 #lbm\n",
    "t1=100 #F\n",
    "t2=75 #F\n",
    "db=65 #F\n",
    "print \"From psychrometric charts,\"\n",
    "t11=82 #F\n",
    "phi1=0.4\n",
    "H1=30 #Btu/lbm dry air\n",
    "w1=65 #grains/lbm dry air\n",
    "w2=250 #grains/lbm dry air\n",
    "#calculations\n",
    "cr=t1-t2\n",
    "appr=t2-db\n",
    "dmf3=(w2-w1)*0.0001427\n",
    "hf3=68\n",
    "hf4=43\n",
    "H2=62.2\n",
    "H1=30\n",
    "mf4= (H1-H2+ dmf3*hf3)/(hf4-hf3)\n",
    "per=dmf3/(dmf3+mf4)\n",
    "#results\n",
    "print \"cooling range = %d F\"%(cr)\n",
    "print \"\\n Approach = %d F\"%(appr)\n",
    "print \"\\n amount of water cooled per pound of dry air = %.3f lbm dry air/lbm dry air\"%(mf4)\n",
    "print \"\\n percentage of water lost by evaporation = %.2f percent\"%(per*100)"
   ]
  },
  {
   "cell_type": "markdown",
   "metadata": {},
   "source": [
    "## Ex:14.11 Pg:668"
   ]
  },
  {
   "cell_type": "code",
   "execution_count": 12,
   "metadata": {
    "collapsed": false
   },
   "outputs": [
    {
     "name": "stdout",
     "output_type": "stream",
     "text": [
      "flow rate of air = 449820 lbm/hr.It is equal to 99960 cfm\n",
      "\n",
      " Total heat transferred = 13494600 Btu/hr\n",
      "\n",
      " Enthalpy = 30.0 Btu/lbm dry air\n",
      "\n",
      " Using second method, Enthalpy = 30.0 Btu/lbm\n",
      "\n",
      " Performance factor = 3.309 \n",
      "\n",
      " logrithamic mean enthalpy difference = 2.48 . Estimated low percentage = 25 low\n",
      "The answers are a bit different due to rounding off error in textbook.\n"
     ]
    }
   ],
   "source": [
    "from math import log\n",
    "#Initialization of variables\n",
    "mfr=1\n",
    "water=900 #gallons\n",
    "t2=110 #F\n",
    "t1=80 #F\n",
    "cp1=1\n",
    "#calculations\n",
    "mfa=mfr*water*8.33*60\n",
    "mfc=mfa/(60*0.075)\n",
    "qa=mfa*(t2-t1)\n",
    "dH=qa/(mfc*4.5)\n",
    "dH2=mfr*cp1*(t2-t1)\n",
    "H1=23.73\n",
    "H2=5.08\n",
    "f=3.309\n",
    "lnmean=(H1-H2)/log(H1/H2)\n",
    "dtt=(t2-t1)/lnmean\n",
    "per=25\n",
    "#results\n",
    "print \"flow rate of air = %d lbm/hr.It is equal to %d cfm\"%(mfa,mfc)\n",
    "print \"\\n Total heat transferred = %d Btu/hr\"%(qa)\n",
    "print \"\\n Enthalpy = %.1f Btu/lbm dry air\"%(dH)\n",
    "print \"\\n Using second method, Enthalpy = %.1f Btu/lbm\"%(dH2)\n",
    "print \"\\n Performance factor = %.3f \"%(f)\n",
    "print \"\\n logrithamic mean enthalpy difference = %.2f . Estimated low percentage = %d low\"%(dtt,per)\n",
    "print \"The answers are a bit different due to rounding off error in textbook.\""
   ]
  }
 ],
 "metadata": {
  "kernelspec": {
   "display_name": "Python 2",
   "language": "python",
   "name": "python2"
  },
  "language_info": {
   "codemirror_mode": {
    "name": "ipython",
    "version": 2
   },
   "file_extension": ".py",
   "mimetype": "text/x-python",
   "name": "python",
   "nbconvert_exporter": "python",
   "pygments_lexer": "ipython2",
   "version": "2.7.9"
  }
 },
 "nbformat": 4,
 "nbformat_minor": 0
}
