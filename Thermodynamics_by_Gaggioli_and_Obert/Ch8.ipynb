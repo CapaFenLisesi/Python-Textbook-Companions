{
 "cells": [
  {
   "cell_type": "markdown",
   "metadata": {},
   "source": [
    "# Chapter 8 Second and third law topics"
   ]
  },
  {
   "cell_type": "markdown",
   "metadata": {},
   "source": [
    "## Ex:8.1 Pg:255"
   ]
  },
  {
   "cell_type": "code",
   "execution_count": 1,
   "metadata": {
    "collapsed": false
   },
   "outputs": [
    {
     "name": "stdout",
     "output_type": "stream",
     "text": [
      "dp by ds at constant volume = 275 F/ft**3/lbm\n",
      "The answer is a bit different due to rounding off error in textbook\n"
     ]
    }
   ],
   "source": [
    "#Initialization of variables\n",
    "P=500 #psia\n",
    "T=700 #F\n",
    "J=778\n",
    "#calculations\n",
    "dpds=1490 *144/J\n",
    "#results\n",
    "print \"dp by ds at constant volume = %d F/ft**3/lbm\"%(dpds)\n",
    "print \"The answer is a bit different due to rounding off error in textbook\""
   ]
  },
  {
   "cell_type": "markdown",
   "metadata": {},
   "source": [
    "## Ex:8.2 Pg:256"
   ]
  },
  {
   "cell_type": "code",
   "execution_count": 3,
   "metadata": {
    "collapsed": false
   },
   "outputs": [
    {
     "name": "stdout",
     "output_type": "stream",
     "text": [
      "Thermal efficiency = 66.5 percent\n"
     ]
    }
   ],
   "source": [
    "from __future__ import division\n",
    "from math import log\n",
    "#Initialization of variables\n",
    "cp=0.25 #Btu/lbm R\n",
    "T0=520 #R\n",
    "T1=3460 #R\n",
    "#calculations\n",
    "dq=cp*(T0-T1)\n",
    "ds=cp*log(T0/T1)\n",
    "dE=dq-T0*ds\n",
    "eta=dE/dq\n",
    "#results\n",
    "print \"Thermal efficiency = %.1f percent\"%(eta*100)"
   ]
  },
  {
   "cell_type": "markdown",
   "metadata": {},
   "source": [
    "## Ex:8.3 Pg:256"
   ]
  },
  {
   "cell_type": "code",
   "execution_count": 4,
   "metadata": {
    "collapsed": false
   },
   "outputs": [
    {
     "name": "stdout",
     "output_type": "stream",
     "text": [
      "Loss of available energy = -6774 Btu/lbm\n",
      "The answer is a bit different due to rounding off error in textbook\n"
     ]
    }
   ],
   "source": [
    "from __future__ import division\n",
    "from math import log\n",
    "#Initialization of variables\n",
    "cp=0.25 #Btu/lbm R\n",
    "T0=520 #R\n",
    "T1=3460 #R\n",
    "dG=21069 #Btu/lbm\n",
    "dH=21502 #Btu/lbm\n",
    "#calculations\n",
    "dq=cp*(T0-T1)\n",
    "ds=cp*log(T0/T1)\n",
    "dE=dq-T0*ds\n",
    "eta=dE/dq\n",
    "dw=eta*dH\n",
    "de=-dG+dw\n",
    "#results\n",
    "print \"Loss of available energy = %d Btu/lbm\"%(de)\n",
    "print \"The answer is a bit different due to rounding off error in textbook\""
   ]
  }
 ],
 "metadata": {
  "kernelspec": {
   "display_name": "Python 2",
   "language": "python",
   "name": "python2"
  },
  "language_info": {
   "codemirror_mode": {
    "name": "ipython",
    "version": 2
   },
   "file_extension": ".py",
   "mimetype": "text/x-python",
   "name": "python",
   "nbconvert_exporter": "python",
   "pygments_lexer": "ipython2",
   "version": "2.7.9"
  }
 },
 "nbformat": 4,
 "nbformat_minor": 0
}
