{
 "cells": [
  {
   "cell_type": "markdown",
   "metadata": {},
   "source": [
    "# Chapter 10 The pvt relationships"
   ]
  },
  {
   "cell_type": "markdown",
   "metadata": {},
   "source": [
    "## Ex:10.1 Pg:360"
   ]
  },
  {
   "cell_type": "code",
   "execution_count": 1,
   "metadata": {
    "collapsed": false
   },
   "outputs": [
    {
     "name": "stdout",
     "output_type": "stream",
     "text": [
      "For ideal gas case, Table B-6 and for vanderwaals case, Table B-8 have been used\n",
      "\n",
      " In vanderwaals equation, pressure = 50.0 atm\n",
      "\n",
      " In ideal gas case, pressure = 57.8 atm\n"
     ]
    }
   ],
   "source": [
    "#Initialization of variables\n",
    "m=1 #lbm\n",
    "T1=212+460 #R\n",
    "sv=0.193 #ft**3/lbm\n",
    "M=44\n",
    "a=924.2 #atm ft**2 /mole**2\n",
    "b=0.685 #ft**3/mol\n",
    "R=0.73 #atm ft**3/R mol\n",
    "#calculations\n",
    "v=sv*M\n",
    "p=R*T1/v\n",
    "p2=R*T1/(v-b) -a/v**2\n",
    "#results\n",
    "print \"For ideal gas case, Table B-6 and for vanderwaals case, Table B-8 have been used\"\n",
    "print \"\\n In vanderwaals equation, pressure = %.1f atm\"%(p2)\n",
    "print \"\\n In ideal gas case, pressure = %.1f atm\"%(p)"
   ]
  },
  {
   "cell_type": "markdown",
   "metadata": {},
   "source": [
    "## Ex:10.2 Pg:360"
   ]
  },
  {
   "cell_type": "code",
   "execution_count": 2,
   "metadata": {
    "collapsed": false
   },
   "outputs": [
    {
     "name": "stdout",
     "output_type": "stream",
     "text": [
      "volume = 8.481 ft**3/mole\n"
     ]
    }
   ],
   "source": [
    "#Initialization of variables\n",
    "m=1 #lbm\n",
    "p=50.9 #atm\n",
    "t=212+460 #R\n",
    "R=0.73\n",
    "#calculations\n",
    "pc=72.9 #atm\n",
    "tc=87.9 +460 #R\n",
    "pr=p/pc\n",
    "Tr=t/tc\n",
    "z=0.88\n",
    "v=z*R*t/p\n",
    "#results\n",
    "print \"volume = %.3f ft**3/mole\"%(v)"
   ]
  },
  {
   "cell_type": "markdown",
   "metadata": {},
   "source": [
    "## Ex:10.3 Pg:361"
   ]
  },
  {
   "cell_type": "code",
   "execution_count": 3,
   "metadata": {
    "collapsed": false
   },
   "outputs": [
    {
     "name": "stdout",
     "output_type": "stream",
     "text": [
      "Pressure = 50.8 atm\n"
     ]
    }
   ],
   "source": [
    "#Initialization of variables\n",
    "t=212+460 #R\n",
    "v=0.193 #ft**3/lbm\n",
    "M=44\n",
    "R=0.73\n",
    "#calculations\n",
    "tc=87.9+460 #F\n",
    "zc=0.275\n",
    "vc=1.51 #ft**3/mol\n",
    "tr=t/tc\n",
    "vr=v*M/vc\n",
    "vrd=vr*zc\n",
    "z=0.88\n",
    "p=z*R*t/(M*v)\n",
    "#results\n",
    "print \"Pressure = %.1f atm\"%(p)"
   ]
  }
 ],
 "metadata": {
  "kernelspec": {
   "display_name": "Python 2",
   "language": "python",
   "name": "python2"
  },
  "language_info": {
   "codemirror_mode": {
    "name": "ipython",
    "version": 2
   },
   "file_extension": ".py",
   "mimetype": "text/x-python",
   "name": "python",
   "nbconvert_exporter": "python",
   "pygments_lexer": "ipython2",
   "version": "2.7.9"
  }
 },
 "nbformat": 4,
 "nbformat_minor": 0
}
