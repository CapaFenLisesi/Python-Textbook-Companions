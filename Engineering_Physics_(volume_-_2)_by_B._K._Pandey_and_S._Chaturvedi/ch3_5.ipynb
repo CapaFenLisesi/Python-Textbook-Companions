{
 "metadata": {
  "name": "",
  "signature": "sha256:ce26666b75776c5b07c5f321f02f961249efef8c8458f3dae2110a523ce1ea02"
 },
 "nbformat": 3,
 "nbformat_minor": 0,
 "worksheets": [
  {
   "cells": [
    {
     "cell_type": "heading",
     "level": 1,
     "metadata": {},
     "source": [
      "Chapter 3 : X ray and Compton effect"
     ]
    },
    {
     "cell_type": "heading",
     "level": 2,
     "metadata": {},
     "source": [
      "Example 3.1  Page No134"
     ]
    },
    {
     "cell_type": "code",
     "collapsed": false,
     "input": [
      "import math \n",
      "#given that\n",
      "d = 2.82 # crystal spacing in angstrom\n",
      "n = 2 # order for longest pasmath.sing wavelength\n",
      "theta = 90 # angle for longest pasmath.sing wavelength\n",
      "print \"Example 3.1\"\n",
      "lambda1 = 2*d*math.sin(theta*math.pi/180)/n # Calculation of longest wavelength\n",
      "\n",
      "print \" Longest wavelength is %f angstrom. \"%(lambda1)\n"
     ],
     "language": "python",
     "metadata": {},
     "outputs": [
      {
       "output_type": "stream",
       "stream": "stdout",
       "text": [
        "Example 3.1\n",
        " Longest wavelength is 2.820000 angstrom. \n"
       ]
      }
     ],
     "prompt_number": 2
    },
    {
     "cell_type": "heading",
     "level": 2,
     "metadata": {},
     "source": [
      "Example 3.2  Page No134"
     ]
    },
    {
     "cell_type": "code",
     "collapsed": false,
     "input": [
      "import math \n",
      "#given that\n",
      "lambda1 = 0.3 # Wavelength in angstrom\n",
      "d = 0.5 # crystal spacing in angstrom\n",
      "n = 2 # order \n",
      "m = 3 # order\n",
      "print \"Example 3.2\"\n",
      "theta_n = math.asin(n*lambda1/(2*d))*180/math.pi # Calculation of angle for order n\n",
      "theta_m = math.asin(m*lambda1/(2*d))*180/math.pi  # Calculation of angle for order m\n",
      "\n",
      "print \"Angle for %dnd order maxima is %f degree. \"%(n,theta_n)\n",
      "print \"Angle for %drd order maxima is %f degree. \"%(m,theta_m)\n",
      "# Answers in book are 40.97 degree and 72.29 degree which are due to wrong calculation\n"
     ],
     "language": "python",
     "metadata": {},
     "outputs": [
      {
       "output_type": "stream",
       "stream": "stdout",
       "text": [
        "Example 3.2\n",
        "Angle for 2nd order maxima is 36.869898 degree. \n",
        "Angle for 3rd order maxima is 64.158067 degree. \n"
       ]
      }
     ],
     "prompt_number": 3
    },
    {
     "cell_type": "heading",
     "level": 2,
     "metadata": {},
     "source": [
      "Example 3.3  Page No139"
     ]
    },
    {
     "cell_type": "code",
     "collapsed": false,
     "input": [
      "import math \n",
      "\n",
      " \n",
      "#given that\n",
      "d = 1.87 # crystal spacing in angstrom\n",
      "n = 2 # order for longest pasmath.sing wavelength\n",
      "theta = 30 # angle for longest pasmath.sing wavelength\n",
      "print \"Example 3.3\"\n",
      "lambda1 = 2*d*math.sin(theta*math.pi/180)/n # Calculation of longest wavelength\n",
      "\n",
      "print \" Longest wavelength is %f angstrom. \"%(lambda1)\n",
      "\n"
     ],
     "language": "python",
     "metadata": {},
     "outputs": [
      {
       "output_type": "stream",
       "stream": "stdout",
       "text": [
        "Example 3.3\n",
        " Longest wavelength is 0.935000 angstrom. \n"
       ]
      }
     ],
     "prompt_number": 4
    },
    {
     "cell_type": "heading",
     "level": 2,
     "metadata": {},
     "source": [
      "Example 3.4  Page No143"
     ]
    },
    {
     "cell_type": "code",
     "collapsed": false,
     "input": [
      "import math \n",
      "#given that\n",
      "lambda1 = 3.6e-9 # Wavelength in cm\n",
      "theta = 4.8 # glancing angle in degree\n",
      "n = 1 # order \n",
      "\n",
      "print \"Example 3.4\"\n",
      "d = n*lambda1/(2*math.sin(theta*math.pi/180)) # calculation of crystal spacing in angstrom\n",
      "\n",
      "print \" Crystal spacing in angstrom is %e cm. \"%(d)\n",
      "\n"
     ],
     "language": "python",
     "metadata": {},
     "outputs": [
      {
       "output_type": "stream",
       "stream": "stdout",
       "text": [
        "Example 3.4\n",
        " Crystal spacing in angstrom is 2.151107e-08 cm. \n"
       ]
      }
     ],
     "prompt_number": 6
    },
    {
     "cell_type": "heading",
     "level": 2,
     "metadata": {},
     "source": [
      "Example 3.5  Page No146"
     ]
    },
    {
     "cell_type": "code",
     "collapsed": false,
     "input": [
      "import math \n",
      "#given that\n",
      "d = 2.5 # crystal spacing in angstrom\n",
      "n = 1 # order for longest pasmath.sing wavelength\n",
      "theta = 20 # angle for longest pasmath.sing wavelength\n",
      "print \"Example 3.5\"\n",
      "lambda1 = 2*d*math.sin(theta*math.pi/180)/n # Calculation of longest wavelength\n",
      "\n",
      "print \"Longest wavelength is %f angstrom. \"%(lambda1)\n",
      "\n",
      " \n"
     ],
     "language": "python",
     "metadata": {},
     "outputs": [
      {
       "output_type": "stream",
       "stream": "stdout",
       "text": [
        "Example 3.5\n",
        "Longest wavelength is 1.710101 angstrom. \n"
       ]
      }
     ],
     "prompt_number": 8
    },
    {
     "cell_type": "heading",
     "level": 2,
     "metadata": {},
     "source": [
      "Example 3.6  Page No146"
     ]
    },
    {
     "cell_type": "code",
     "collapsed": false,
     "input": [
      "import math \n",
      "#given that\n",
      "d = 2.5 # crystal spacing in angstrom\n",
      "n = 1 # order for longest pasmath.sing wavelength\n",
      "theta = 90 # angle for longest pasmath.sing wavelength\n",
      "print \"Example 3.6\"\n",
      "lambda1 = 2*d*math.sin(theta*math.pi/180)/n # Calculation of longest wavelength\n",
      "\n",
      "print \"Longest wavelength is  of %d angstrom. \"%(lambda1)\n"
     ],
     "language": "python",
     "metadata": {},
     "outputs": [
      {
       "output_type": "stream",
       "stream": "stdout",
       "text": [
        "Example 3.6\n",
        "Longest wavelength is  of 5 angstrom. \n"
       ]
      }
     ],
     "prompt_number": 9
    },
    {
     "cell_type": "heading",
     "level": 2,
     "metadata": {},
     "source": [
      "Example 3.7  Page No146"
     ]
    },
    {
     "cell_type": "code",
     "collapsed": false,
     "input": [
      "import math \n",
      "# given that\n",
      "theta1_deg = 5 # Absolut degree part of angle for first angle\n",
      "theta1_min = 23#remainder minute part of angle for first angle\n",
      "theta2_deg = 7 # Absolut degree part of angle for second angle\n",
      "theta2_min = 37#remainder minute part of angle for second angle\n",
      "theta3_deg = 9 # Absolut degree part of angle for third angle\n",
      "theta3_min = 25#remainder minute part of angle for third angle\n",
      "\n",
      "print \"Example 3.7 \"\n",
      "val1 = math.sin((theta1_deg+ theta1_min/60)*math.pi/180)# Sin value for first angle\n",
      "val2 = math.sin((theta2_deg+ theta2_min/60)*math.pi/180) #Sin value for second angle\n",
      "val3 = math.sin((theta3_deg+ theta3_min/60)*math.pi/180)#Sin value for third angle\n",
      "ratio_21 = val2/val1\n",
      "ratio_31 = val3/val1\n",
      "print \" Interatomic layer separation ratios in crystal are as 1 : %f : %f\"%(ratio_21,ratio_31)\n",
      "print \" Above relation shows that crystal is simple cubic crystal structure.\"\n",
      "\n"
     ],
     "language": "python",
     "metadata": {},
     "outputs": [
      {
       "output_type": "stream",
       "stream": "stdout",
       "text": [
        "Example 3.7 \n",
        " Interatomic layer separation ratios in crystal are as 1 : 1.398294 : 1.794884\n",
        " Above relation shows that crystal is simple cubic crystal structure.\n"
       ]
      }
     ],
     "prompt_number": 10
    },
    {
     "cell_type": "heading",
     "level": 2,
     "metadata": {},
     "source": [
      "Example 3.8  Page No146"
     ]
    },
    {
     "cell_type": "code",
     "collapsed": false,
     "input": [
      "import math \n",
      "#given that\n",
      "lambda1 = 1.2 # wavelength in angstrom\n",
      "theta_deg = 9 # angle fraction in degree\n",
      "theta_min = 30 # Angle fraction in minute\n",
      "print \"Example 3.8\"\n",
      "theta = theta_deg+theta_min/60 # Total angel\n",
      "for n in range(1,5):\n",
      "    d = lambda1/(n*2*math.sin(theta*math.pi/180)) # Inter layer spacing\n",
      "    print \" If order is %d then spacing is %f angstrom.\"%(n,d)\n",
      "\n",
      "\n",
      " \n"
     ],
     "language": "python",
     "metadata": {},
     "outputs": [
      {
       "output_type": "stream",
       "stream": "stdout",
       "text": [
        "Example 3.8\n",
        " If order is 1 then spacing is 3.835472 angstrom.\n",
        " If order is 2 then spacing is 1.917736 angstrom.\n",
        " If order is 3 then spacing is 1.278491 angstrom.\n",
        " If order is 4 then spacing is 0.958868 angstrom.\n"
       ]
      }
     ],
     "prompt_number": 11
    },
    {
     "cell_type": "heading",
     "level": 2,
     "metadata": {},
     "source": [
      "Example 3.9  Page No147"
     ]
    },
    {
     "cell_type": "code",
     "collapsed": false,
     "input": [
      "import math \n",
      "#given that\n",
      "h = 6.62e-34 # Planks consmath.tant\n",
      "m_e = 9.1e-31 # mass of electron in kg\n",
      "e = 1.6e-19 # charge on electron in coulomb\n",
      "v = 340 # Applied voltage in volt\n",
      "n = 1 # order for longest pasmath.sing wavelength\n",
      "theta = 60 # angle for longest pasmath.sing wavelength\n",
      "print \"Example 3.9\"\n",
      "lambda1= h/math.sqrt(2*m_e*e*v) # calculation of wavelength\n",
      "d = n*lambda1/(2*math.sin(theta*math.pi/180))# calculation of spacing of crystal\n",
      "\n",
      "print \"Spacing of crystal is %f angstrom. \"%(d*1e10)\n"
     ],
     "language": "python",
     "metadata": {},
     "outputs": [
      {
       "output_type": "stream",
       "stream": "stdout",
       "text": [
        "Example 3.9\n",
        "Spacing of crystal is 0.384116 angstrom. \n"
       ]
      }
     ],
     "prompt_number": 12
    },
    {
     "cell_type": "heading",
     "level": 2,
     "metadata": {},
     "source": [
      "Example 3.10  Page No149"
     ]
    },
    {
     "cell_type": "code",
     "collapsed": false,
     "input": [
      "import math \n",
      "#given that\n",
      "E = 100 # Energy of X ray beam in KeV\n",
      "theta = 30 # Scattering angle in degree\n",
      "m = 9.1e-31 # mass of electron in kg\n",
      "c = 3e8 # Speed of light in m/s\n",
      "print \"Example 3.10\"\n",
      "E_rest = m*c**2/(1.6e-19*1e3) # Rest mass energy in KeV\n",
      "k = 1/E + (1-math.cos(theta*math.pi/180))/(E_rest)\n",
      "del_e = E - 1/k # Energy of recoiled electron\n",
      "print \"  Energy of recoiled electron is %f KeV\"%(del_e)\n"
     ],
     "language": "python",
     "metadata": {},
     "outputs": [
      {
       "output_type": "stream",
       "stream": "stdout",
       "text": [
        "Example 3.10\n",
        "  Energy of recoiled electron is -3720.687014 KeV\n"
       ]
      }
     ],
     "prompt_number": 13
    },
    {
     "cell_type": "heading",
     "level": 2,
     "metadata": {},
     "source": [
      "Example 3.11  Page No154"
     ]
    },
    {
     "cell_type": "code",
     "collapsed": false,
     "input": [
      "import math \n",
      "#given that\n",
      "lambda1 = 1 #wavelength in angstrom\n",
      "h = 6.62e-34 # Planks consmath.tant\n",
      "m_e = 9.1e-31 # mass of electron in kg\n",
      "c = 3e8 # speed of light in m/sec\n",
      "theta = 90 # angle for longest pasmath.sing wavelength\n",
      "print \"Example 3.11\"\n",
      "d_lambda= h*(1-math.cos(theta*math.pi/180))/(m_e*c) # calculation of wavelength shift \n",
      "\n",
      "print \"Wavelength shift is %f angstrom. \"%(d_lambda*1e10)\n",
      "\n"
     ],
     "language": "python",
     "metadata": {},
     "outputs": [
      {
       "output_type": "stream",
       "stream": "stdout",
       "text": [
        "Example 3.11\n",
        "Wavelength shift is 0.024249 angstrom. \n"
       ]
      }
     ],
     "prompt_number": 14
    },
    {
     "cell_type": "heading",
     "level": 2,
     "metadata": {},
     "source": [
      "Example 3.12  Page No156"
     ]
    },
    {
     "cell_type": "code",
     "collapsed": false,
     "input": [
      "import math \n",
      "#given that\n",
      "lambda1 = 0.015 #wavelength in angstrom\n",
      "h = 6.63e-34 # Planks consmath.tant\n",
      "m_e = 9.1e-31 # mass of electron in kg\n",
      "c = 3e8 # speed of light in m/sec\n",
      "theta = 60 # angle for longest pasmath.sing wavelength\n",
      "print \"Example 3.12\"\n",
      "d_lambda= h*(1-math.cos(theta*math.pi/180))*1e10/(m_e*c) # calculation of wavelength shift in angstrom\n",
      "lambda_n = lambda1+d_lambda\n",
      "\n",
      "print \" Wavelength shift is %f angstrom. \"%(lambda_n)\n"
     ],
     "language": "python",
     "metadata": {},
     "outputs": [
      {
       "output_type": "stream",
       "stream": "stdout",
       "text": [
        "Example 3.12\n",
        " Wavelength shift is 0.027143 angstrom. \n"
       ]
      }
     ],
     "prompt_number": 15
    },
    {
     "cell_type": "heading",
     "level": 2,
     "metadata": {},
     "source": [
      "Example 3.13  Page No158"
     ]
    },
    {
     "cell_type": "code",
     "collapsed": false,
     "input": [
      "import math \n",
      "#given that\n",
      "lambda1 = 1 #wavelength in angstrom\n",
      "h = 6.63e-34 # Planks consmath.tant\n",
      "m_e = 9.1e-31 # mass of electron in kg\n",
      "c = 3e8 # speed of light in m/sec\n",
      "theta = 90 # angle for longest pasmath.sing wavelength\n",
      "print \"Example 3.13\"\n",
      "d_lambda= h*(1-math.cos(theta*math.pi/180))*1e10/(m_e*c) # calculation of wavelength shift in angstrom\n",
      "lambda_n = lambda1+d_lambda # Calculation of recoiled electron wavelength\n",
      "d_E = h*c*(lambda_n-lambda1)*1e10/(1.6e-19*lambda_n*lambda1)# Calculation of recoiled electron energy in eV\n",
      "print \"Wavelength shift is %f angstrom.\"%(lambda_n)\n",
      "print \"Energy of recoiled electron is %.f eV. \"%(( d_E))\n",
      "\n"
     ],
     "language": "python",
     "metadata": {},
     "outputs": [
      {
       "output_type": "stream",
       "stream": "stdout",
       "text": [
        "Example 3.13\n",
        "Wavelength shift is 1.024286 angstrom.\n",
        "Energy of recoiled electron is 295 eV. \n"
       ]
      }
     ],
     "prompt_number": 19
    },
    {
     "cell_type": "heading",
     "level": 2,
     "metadata": {},
     "source": [
      "Example 3.14  Page No163"
     ]
    },
    {
     "cell_type": "code",
     "collapsed": false,
     "input": [
      "import math \n",
      "#given that\n",
      "lambda1 = 1 #let wavelength in angstrom\n",
      "lambda_n = 2*lambda1 # recoiled electron wavelength\n",
      "h = 6.63e-34 # Planks consmath.tant\n",
      "m_e = 9.1e-31 # mass of electron in kg\n",
      "c = 3e8 # speed of light in m/sec\n",
      "theta = 90 # angle for longest pasmath.sing wavelength\n",
      "print \"Example 3.14\"\n",
      "lambda1 = h*1e10/(m_e*c) # calculation of wavelength in angstrom\n",
      "E = h*c*1e10/(lambda1*1.6e-19) # calculation of energy of electron\n",
      "\n",
      "print \"Wavelength shift is %f angstrom. \"%(lambda1)\n",
      "print \"Energy of recoiled electron is %f KeV. \"%(E/1e3)\n"
     ],
     "language": "python",
     "metadata": {},
     "outputs": [
      {
       "output_type": "stream",
       "stream": "stdout",
       "text": [
        "Example 3.14\n",
        "Wavelength shift is 0.024286 angstrom. \n",
        "Energy of recoiled electron is 511.875000 KeV. \n"
       ]
      }
     ],
     "prompt_number": 20
    },
    {
     "cell_type": "heading",
     "level": 2,
     "metadata": {},
     "source": [
      "Example 3.15  Page No168"
     ]
    },
    {
     "cell_type": "code",
     "collapsed": false,
     "input": [
      "import math \n",
      "#given that\n",
      "lambda1 = 2 #wavelength in angstrom\n",
      "h = 6.63e-34 # Planks consmath.tant\n",
      "m_e = 9.1e-31 # mass of electron in kg\n",
      "c = 3e8 # speed of light in m/sec\n",
      "theta = 45 # scattering angle \n",
      "print \"Example 3.15\"\n",
      "d_lambda= h*(1-math.cos(theta*math.pi/180))*1e10/(m_e*c) # calculation of wavelength shift in angstrom\n",
      "lambda_n = lambda1+d_lambda # Calculation of recoiled electron wavelength\n",
      "\n",
      "f = d_lambda/lambda1 # Calculation of fraction of energy lost by photon \n",
      "\n",
      "print \"Fraction of energy lost by photon is %f\"%(f)\n"
     ],
     "language": "python",
     "metadata": {},
     "outputs": [
      {
       "output_type": "stream",
       "stream": "stdout",
       "text": [
        "Example 3.15\n",
        "Fraction of energy lost by photon is 0.003557\n"
       ]
      }
     ],
     "prompt_number": 21
    },
    {
     "cell_type": "heading",
     "level": 2,
     "metadata": {},
     "source": [
      "Example 3.16  Page No171"
     ]
    },
    {
     "cell_type": "code",
     "collapsed": false,
     "input": [
      "import math \n",
      "\n",
      "#given that\n",
      "E_eV = 510 # Energy of gamma ray in keV\n",
      "lambda1 = 2 #wavelength in angstrom\n",
      "h = 6.63e-34 # Planks consmath.tant\n",
      "m_e = 9.1e-31 # mass of electron in kg\n",
      "c = 3e8 # speed of light in m/sec\n",
      "theta = 90 # scattering angle in degree\n",
      "print \"Example 3.16\"\n",
      "E_j = E_eV*1e3*1.6e-19 # Energy of gamma ray in Joule\n",
      "lambda1 = h*c*1e10/E_j # Calculation of wavelength in angstrom\n",
      "\n",
      "d_lambda= h*(1-math.cos(theta*math.pi/180))*1e10/(m_e*c) # calculation of wavelength shift in angstrom\n",
      "lambda_n = lambda1+d_lambda # Calculation of recoiled electron wavelength\n",
      "print \"Wavelength of scattered radiation is %f Angstrom \"%(lambda_n)\n",
      "\n"
     ],
     "language": "python",
     "metadata": {},
     "outputs": [
      {
       "output_type": "stream",
       "stream": "stdout",
       "text": [
        "Example 3.16\n",
        "Wavelength of scattered radiation is 0.048661 Angstrom \n"
       ]
      }
     ],
     "prompt_number": 22
    },
    {
     "cell_type": "heading",
     "level": 2,
     "metadata": {},
     "source": [
      "Example 3.17  Page No172"
     ]
    },
    {
     "cell_type": "code",
     "collapsed": false,
     "input": [
      "import math \n",
      "\n",
      "#given that\n",
      "lambda1 = 2 #wavelength in angstrom\n",
      "h = 6.63e-34 # Planks consmath.tant\n",
      "m_e = 9.1e-31 # mass of electron in kg\n",
      "c = 3e8 # speed of light in m/sec\n",
      "theta = 90 # angle for longest pasmath.sing wavelength\n",
      "print \"Example 3.17\"\n",
      "d_lambda= h*(1-math.cos(theta*math.pi/180))*1e10/(m_e*c) # calculation of wavelength shift in angstrom\n",
      "lambda_n = lambda1+d_lambda # Calculation of recoiled electron wavelength\n",
      "d_E = h*c*(lambda_n-lambda1)*1e10/(1.6e-19*lambda_n*lambda1)# Calculation of recoiled electron energy in eV\n",
      "print \" Scattered wavelength is %f angstrom.\"%(lambda_n)\n",
      "print \" Energy of recoiled electron is %feV. \"%(d_E)\n"
     ],
     "language": "python",
     "metadata": {},
     "outputs": [
      {
       "output_type": "stream",
       "stream": "stdout",
       "text": [
        "Example 3.17\n",
        " Scattered wavelength is 2.024286 angstrom.\n",
        " Energy of recoiled electron is 74.569954eV. \n"
       ]
      }
     ],
     "prompt_number": 23
    },
    {
     "cell_type": "heading",
     "level": 2,
     "metadata": {},
     "source": [
      "Example 3.18  Page No175"
     ]
    },
    {
     "cell_type": "code",
     "collapsed": false,
     "input": [
      "import math \n",
      " \n",
      "#given that\n",
      "E_eV = 510 # Energy of gamma ray in keV\n",
      "h = 6.63e-34 # Planks consmath.tant\n",
      "m_e = 9.1e-31 # mass of electron in kg\n",
      "c = 3e8 # speed of light in m/sec\n",
      "theta = 90 # scattering angle in degree\n",
      "print \"Example 3.18\"\n",
      "E_j = E_eV*1e3*1.6e-19 # Energy of gamma ray in Joule\n",
      "lambda1 = h*c/E_j # Calculation of wavelength in meter\n",
      "\n",
      "d_lambda= h*(1-math.cos(theta*math.pi/180))*1e10/(m_e*c) # calculation of wavelength shift in angstrom\n",
      "lambda_n = lambda1+d_lambda/1e10 # Calculation of recoiled electron wavelength\n",
      "d_E = h*c*(d_lambda/1e10)/(1.6e-19*lambda_n*lambda1)# Calculation of recoiled electron energy in eV\n",
      "psi= math.atan(1/(math.tan((theta*math.pi/180)/2)/(1+(h/(lambda1*m_e*c))))) \n",
      "phi_deg = 90 - psi*180/math.pi # Calculation of degree part of angle of recoiled electron \n",
      "phi_min = 60*(phi_deg - int(phi_deg))# Calculation of minute part of angle of recoiled electron \n",
      "print \"Wavelength of scattered radiation is %e m \"%(lambda_n)\n",
      "print \"Energy of recoiled electron is %f MeV.\"%(d_E/1e6)\n",
      "print \"Recoiled electron angle is %d degree%d minute \"%(phi_deg,phi_min)\n"
     ],
     "language": "python",
     "metadata": {},
     "outputs": [
      {
       "output_type": "stream",
       "stream": "stdout",
       "text": [
        "Example 3.18\n",
        "Wavelength of scattered radiation is 4.866071e-12 m \n",
        "Energy of recoiled electron is 0.254532 MeV.\n",
        "Recoiled electron angle is 26 degree36 minute \n"
       ]
      }
     ],
     "prompt_number": 27
    },
    {
     "cell_type": "heading",
     "level": 2,
     "metadata": {},
     "source": [
      "Example 3.19  Page No175"
     ]
    },
    {
     "cell_type": "code",
     "collapsed": false,
     "input": [
      "import math \n",
      "#given that\n",
      "nu = 2e19 # initial frequency of X ray photon\n",
      "h = 6.63e-34 # Planks consmath.tant\n",
      "m_e = 9.1e-31 # mass of electron in kg\n",
      "c = 3e8 # speed of light in m/sec\n",
      "theta = 90 # scattering angle in degree\n",
      "print \"Example 3.19\"\n",
      "d_lambda = h/(m_e*c) # calculation of wavelength shift\n",
      "k = 1./nu + d_lambda/c\n",
      "nu_1 = 1/k # Frequency after collision\n",
      "nu_1 = int(nu_1/1e18)*1e18 # rounding off\n",
      "print \"Frequency after collision is %e Hz \"%(nu_1)\n"
     ],
     "language": "python",
     "metadata": {},
     "outputs": [
      {
       "output_type": "stream",
       "stream": "stdout",
       "text": [
        "Example 3.19\n",
        "Frequency after collision is 1.700000e+19 Hz \n"
       ]
      }
     ],
     "prompt_number": 29
    },
    {
     "cell_type": "code",
     "collapsed": false,
     "input": [],
     "language": "python",
     "metadata": {},
     "outputs": []
    }
   ],
   "metadata": {}
  }
 ]
}