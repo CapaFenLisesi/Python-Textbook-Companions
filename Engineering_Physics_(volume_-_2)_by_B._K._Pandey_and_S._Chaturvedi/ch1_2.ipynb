{
 "metadata": {
  "name": "",
  "signature": "sha256:b4a0f0559d297d7743b1fffa63bdc97b5eb29843c8d1e8453183351781436bcb"
 },
 "nbformat": 3,
 "nbformat_minor": 0,
 "worksheets": [
  {
   "cells": [
    {
     "cell_type": "heading",
     "level": 1,
     "metadata": {},
     "source": [
      "Chapter 1 : De Broglie Matter Waves"
     ]
    },
    {
     "cell_type": "heading",
     "level": 2,
     "metadata": {},
     "source": [
      "Example 1.1  Page No3"
     ]
    },
    {
     "cell_type": "code",
     "collapsed": false,
     "input": [
      "import math \n",
      "#given that\n",
      "M = 6e24 # Mass of earth in Kg\n",
      "v = 3e4 # Orbital velocity of earth in m/s\n",
      "h = 6.625e-34 # Plank consmath.tant\n",
      "\n",
      "lambda1 = h/(M*v) # calculation of de Broglie wavelength\n",
      "\n",
      "print \" de Broglie wavelength of earth is %e m.\"%(lambda1)\n"
     ],
     "language": "python",
     "metadata": {},
     "outputs": [
      {
       "output_type": "stream",
       "stream": "stdout",
       "text": [
        " de Broglie wavelength of earth is 3.680556e-63 m.\n"
       ]
      }
     ],
     "prompt_number": 7
    },
    {
     "cell_type": "heading",
     "level": 2,
     "metadata": {},
     "source": [
      "Example 1.2  Page No4"
     ]
    },
    {
     "cell_type": "code",
     "collapsed": false,
     "input": [
      "import math \n",
      "#given that\n",
      "M = 1.        # Mass of object in Kg\n",
      "v = 10.       # velocity of object in m/s\n",
      "h = 6.625e-34 # Plank consmath.tant\n",
      "\n",
      "lambda1 = h/(M*v) # calculation of de Broglie wavelength\n",
      "\n",
      "print \" de Broglie wavelength of body is %e m.\"%(lambda1)\n"
     ],
     "language": "python",
     "metadata": {},
     "outputs": [
      {
       "output_type": "stream",
       "stream": "stdout",
       "text": [
        " de Broglie wavelength of body is 6.625000e-35 m.\n"
       ]
      }
     ],
     "prompt_number": 6
    },
    {
     "cell_type": "heading",
     "level": 2,
     "metadata": {},
     "source": [
      "Example 1.3  Page No7"
     ]
    },
    {
     "cell_type": "code",
     "collapsed": false,
     "input": [
      "import math \n",
      "# Given that\n",
      "m = 1e-30 # Mass of any object in Kg\n",
      "v = 1e5 # velocity of object in m/s\n",
      "h = 6.625e-34 # Plank consmath.tant\n",
      "\n",
      "lambda1 = h/(m*v) # calculation of de Broglie wavelength\n",
      "\n",
      "print \" de Broglie wavelength of body is %e m.\"%(lambda1)\n"
     ],
     "language": "python",
     "metadata": {},
     "outputs": [
      {
       "output_type": "stream",
       "stream": "stdout",
       "text": [
        " de Broglie wavelength of body is 6.625000e-09 m.\n"
       ]
      }
     ],
     "prompt_number": 9
    },
    {
     "cell_type": "heading",
     "level": 2,
     "metadata": {},
     "source": [
      "Example 1.4  Page No11"
     ]
    },
    {
     "cell_type": "code",
     "collapsed": false,
     "input": [
      "import math \n",
      "# Given that\n",
      "KE = 4.55e-25 # Kinetic energy of an electron in Joule\n",
      "m = 9.1e-31 # Mass of any object in Kg\n",
      "h = 6.62e-34 # Plank consmath.tant\n",
      "\n",
      "v = math.sqrt(2*KE/m) # Calculation of velocity of moving electron\n",
      "p = m*v #Calculation of momentum of moving electron\n",
      "lambda1 = h/p # calculation of de Broglie wavelength\n",
      "print \" velocity of electron is %e m/s.\"%(v)\n",
      "print \" momentum of electron is %e Kgm/s.\"%(p)\n",
      "print \" de Broglie wavelength of electron is %e m.\"%(lambda1)\n",
      "\n"
     ],
     "language": "python",
     "metadata": {},
     "outputs": [
      {
       "output_type": "stream",
       "stream": "stdout",
       "text": [
        " velocity of electron is 1.000000e+03 m/s.\n",
        " momentum of electron is 9.100000e-28 Kgm/s.\n",
        " de Broglie wavelength of electron is 7.274725e-07 m.\n"
       ]
      }
     ],
     "prompt_number": 11
    },
    {
     "cell_type": "heading",
     "level": 2,
     "metadata": {},
     "source": [
      "Example 1.5  Page No14"
     ]
    },
    {
     "cell_type": "code",
     "collapsed": false,
     "input": [
      "import math \n",
      "\n",
      "#Given that\n",
      "c = 3.e8 # speed of light in m/s\n",
      "v = c/20 # Speed of proton in m/s\n",
      "m = 1.67e-27 # Mass of proton in Kg\n",
      "h = 6.625e-34 # Plank consmath.tant\n",
      "\n",
      "lambda1 = h/(m*v) # calculation of de Broglie wavelength\n",
      "print \" de Broglie wavelength of proton is %e m.\"%(lambda1)\n",
      "# Answer in book is 6.645e-14m which is a calculation mistake\n"
     ],
     "language": "python",
     "metadata": {},
     "outputs": [
      {
       "output_type": "stream",
       "stream": "stdout",
       "text": [
        " de Broglie wavelength of proton is 2.644711e-14 m.\n"
       ]
      }
     ],
     "prompt_number": 13
    },
    {
     "cell_type": "heading",
     "level": 2,
     "metadata": {},
     "source": [
      "Example 1.6  Page No14"
     ]
    },
    {
     "cell_type": "code",
     "collapsed": false,
     "input": [
      "import math \n",
      "#Given that\n",
      "e = 12.8 # Energy of neutron in MeV\n",
      "c = 3e8 # speed of light in m/s\n",
      "m = 1.675e-27 # Mass of neutron in Kg\n",
      "h = 6.62e-34 # Plank consmath.tant\n",
      "rest_e = m*c**2/(1e6*1.6e-19)# rest mass energy of neutron in MeV\n",
      "if e/rest_e < 0.015 :\n",
      "    E = e;\n",
      "else:\n",
      "    E = rest_e +e;\n",
      "\n",
      "lambda1 = h/(math.sqrt(2*m*e*1e6*1.6e-19)) # calculation of de Broglie wavelength\n",
      "\n",
      "print \" de Broglie wavelength of neutron is %e angstrom.\"%( lambda1*1e10)\n",
      "# Answer in book is 8.04e-5 angstrom which is misprinted\n"
     ],
     "language": "python",
     "metadata": {},
     "outputs": [
      {
       "output_type": "stream",
       "stream": "stdout",
       "text": [
        " de Broglie wavelength of neutron is 7.992279e-05 angstrom.\n"
       ]
      }
     ],
     "prompt_number": 15
    },
    {
     "cell_type": "heading",
     "level": 2,
     "metadata": {},
     "source": [
      "Example 1.7  Page No15"
     ]
    },
    {
     "cell_type": "code",
     "collapsed": false,
     "input": [
      "import math \n",
      "#Given that\n",
      "e = 1.632e-19 # charge on electron in coulomb\n",
      "V = 50 # Applied voltage in volts\n",
      "m = 9.1e-31 # Mass of electron in Kg\n",
      "h = 6.62e-34 # Plank consmath.tant\n",
      "\n",
      "lambda1 = h/(math.sqrt(2*e*V*m)) # calculation of de Broglie wavelength\n",
      "print \" de Broglie wavelength of neutron is %f angstrom.\"%( lambda1*1e10)\n",
      "# Answer in book is 1.735 angstrom which is misprinted\n"
     ],
     "language": "python",
     "metadata": {},
     "outputs": [
      {
       "output_type": "stream",
       "stream": "stdout",
       "text": [
        " de Broglie wavelength of neutron is 1.717818 angstrom.\n"
       ]
      }
     ],
     "prompt_number": 16
    },
    {
     "cell_type": "heading",
     "level": 2,
     "metadata": {},
     "source": [
      "Example 1.9  Page No18"
     ]
    },
    {
     "cell_type": "code",
     "collapsed": false,
     "input": [
      "import math \n",
      "#Given that\n",
      "e = 1.6e-19 # charge on electron in coulomb\n",
      "V = 54 # Applied voltage in volts\n",
      "m = 9.1e-31 # Mass of electron in Kg\n",
      "h = 6.63e-34 # Plank consmath.tant\n",
      "\n",
      "lambda1 = h/(math.sqrt(2*e*V*m)) # calculation of de Broglie wavelength\n",
      "print \" de Broglie wavelength of neutron is %f angstrom.\"%( lambda1*1e10)\n"
     ],
     "language": "python",
     "metadata": {},
     "outputs": [
      {
       "output_type": "stream",
       "stream": "stdout",
       "text": [
        " de Broglie wavelength of neutron is 1.671941 angstrom.\n"
       ]
      }
     ],
     "prompt_number": 17
    },
    {
     "cell_type": "heading",
     "level": 2,
     "metadata": {},
     "source": [
      "Example 1.10  Page No21"
     ]
    },
    {
     "cell_type": "code",
     "collapsed": false,
     "input": [
      "import math \n",
      "#Given that\n",
      "E = 10 # Energy of electron in KeV\n",
      "m_e = 9.1e-31 # Mass of electron in Kg\n",
      "h = 6.63e-34 # Plank consmath.tant\n",
      "\n",
      "v = math.sqrt(2*E*1.6e-16/m_e) # Calculation of velocity of moving electron\n",
      "p = m_e*v #Calculation of momentum of moving electron\n",
      "lambda1 = h/p # calculation of de Broglie wavelength\n",
      "print \" velocity of electron is %0.2e m/s.\"%(v)\n",
      "print \" momentum of electron is %.3e Kgm/s.\"%(p)\n",
      "print \" de Broglie wavelength of electron is %.2f angstrom.\"%( lambda1*1e10)\n",
      " # Answers in book are v = 5.93e6 m/s, p = 5.397e-24 kgm/s, lambda = 1.23 angstrom\n",
      "# Which is due to wrong calculation\n"
     ],
     "language": "python",
     "metadata": {},
     "outputs": [
      {
       "output_type": "stream",
       "stream": "stdout",
       "text": [
        " velocity of electron is 5.93e+07 m/s.\n",
        " momentum of electron is 5.396e-23 Kgm/s.\n",
        " de Broglie wavelength of electron is 0.12 angstrom.\n"
       ]
      }
     ],
     "prompt_number": 19
    },
    {
     "cell_type": "heading",
     "level": 2,
     "metadata": {},
     "source": [
      "Example 1.11  Page No22"
     ]
    },
    {
     "cell_type": "code",
     "collapsed": false,
     "input": [
      "import math \n",
      "\n",
      "#Given that\n",
      "lambda1 = 1. # de Broglie wavelength of neutron in angstrom\n",
      "m = 1.67e-27 # Mass of electron in Kg\n",
      "h = 6.62e-34 # Plank consmath.tant\n",
      "\n",
      "v = h/(m*lambda1*1e-10) # Calculation of velocity of moving neutron\n",
      "E = 1./2*m*v**2 # Calculation of kinetic energy of moving neutron\n",
      "print \" velocity of neutron is %e m/s.\"%(v)\n",
      "print \" Kinetic energy of neutron is %f eV.\"%(E/1.6e-19)\n"
     ],
     "language": "python",
     "metadata": {},
     "outputs": [
      {
       "output_type": "stream",
       "stream": "stdout",
       "text": [
        " velocity of neutron is 3.964072e+03 m/s.\n",
        " Kinetic energy of neutron is 0.082007 eV.\n"
       ]
      }
     ],
     "prompt_number": 21
    },
    {
     "cell_type": "heading",
     "level": 2,
     "metadata": {},
     "source": [
      "Example 1.12  Page No26"
     ]
    },
    {
     "cell_type": "code",
     "collapsed": false,
     "input": [
      "import math \n",
      "\n",
      "\n",
      "#Given that\n",
      "E = 2 # Energy of accelerated electron in KeV\n",
      "m = 9.1e-31 # Mass of electron in Kg\n",
      "h = 6.62e-34 # Plank consmath.tant\n",
      "\n",
      "lambda1 = h/math.sqrt(2*m*E*1e3*1.6e-19) # Calculation of velocity of moving electron\n",
      "print \" Wavelength of electron is %e m.\"%(lambda1)\n",
      "# Answer in book is 2.74e-12m\n"
     ],
     "language": "python",
     "metadata": {},
     "outputs": [
      {
       "output_type": "stream",
       "stream": "stdout",
       "text": [
        " Wavelength of electron is 2.743136e-11 m.\n"
       ]
      }
     ],
     "prompt_number": 23
    },
    {
     "cell_type": "heading",
     "level": 2,
     "metadata": {},
     "source": [
      "Example 1.13  Page No28"
     ]
    },
    {
     "cell_type": "code",
     "collapsed": false,
     "input": [
      "import math \n",
      "\n",
      "\n",
      "#Given that\n",
      "v = 2e8 # speed of moving proton in m/s\n",
      "c = 3e8 # speed of light in m/s\n",
      "m = 1.67e-27 # Mass of proton in Kg\n",
      "h = 6.62e-34 # Plank consmath.tant\n",
      "\n",
      "lambda1 = h/(m*v/math.sqrt(1-(v/c)**2)) # Calculation of velocity of moving electron\n",
      "print \" Wavelength of electron is %e angstrom.\"%( lambda1*1e10)\n"
     ],
     "language": "python",
     "metadata": {},
     "outputs": [
      {
       "output_type": "stream",
       "stream": "stdout",
       "text": [
        " Wavelength of electron is 1.477322e-05 angstrom.\n"
       ]
      }
     ],
     "prompt_number": 24
    },
    {
     "cell_type": "heading",
     "level": 2,
     "metadata": {},
     "source": [
      "Example 1.14  Page No30"
     ]
    },
    {
     "cell_type": "code",
     "collapsed": false,
     "input": [
      "import math \n",
      "#given that\n",
      "lambda1 = 1.# wavelength in m/s\n",
      "m_e = 9.1e-31 # Mass of electron in Kg\n",
      "m_p = 1.67e-27 # Mass of proton in kg\n",
      "c = 3e8 # speed of light in m/s\n",
      "h = 6.63e-34 # Plank consmath.tant\n",
      "\n",
      "p_p = h/(lambda1*1e-10) # Momentum of photon\n",
      "p_e = h/(lambda1*1e-10) # Momentum of electron\n",
      "E_e = p_e**2/(2*m_e) +m_e*c**2 # Total energy of electron\n",
      "E_p = h*c/(lambda1*1e-10) # Total energy of photon\n",
      "K_e = p_e**2/(2*m_e) # Kinetic energy of electron \n",
      "K_p = h*c/(lambda1*1e-10)# Kinetic energy of photon\n",
      "r_K = K_e/K_p # Ratio of kinetic energies\n",
      "print \" Momentum of photon is %e Kgm/s while Momentum of electron is %e Kgm/s  which are equal.\"%(p_p,p_e)\n",
      "print \" Total Energy of photon is %f KeV while Total Energy of electron is %f MeV \"%(E_p/1.6e-19*1e3,(E_e/1.6e-19*1e6))\n",
      "print \" Ratio of kinetic energies is %e \"%(r_K)\n"
     ],
     "language": "python",
     "metadata": {},
     "outputs": [
      {
       "output_type": "stream",
       "stream": "stdout",
       "text": [
        " Momentum of photon is 6.630000e-24 Kgm/s while Momentum of electron is 6.630000e-24 Kgm/s  which are equal.\n",
        " Total Energy of photon is 12431250.000000 KeV while Total Energy of electron is 512025950892.857117 MeV \n",
        " Ratio of kinetic energies is 1.214286e-02 \n"
       ]
      }
     ],
     "prompt_number": 32
    },
    {
     "cell_type": "heading",
     "level": 2,
     "metadata": {},
     "source": [
      "Example 1.15  Page No31"
     ]
    },
    {
     "cell_type": "code",
     "collapsed": false,
     "input": [
      "import math \n",
      "\n",
      "#Given that\n",
      "e = 25 # Energy of neutron in eV\n",
      "c = 3e8 # speed of light in m/s\n",
      "m = 1.67e-27 # Mass of neutron in Kg\n",
      "h = 6.62e-34 # Plank consmath.tant\n",
      "\n",
      "rest_e = m*c**2/(1e6*1.6e-19)# rest mass energy of neutron in MeV\n",
      "if e/rest_e < 0.015:\n",
      "    E = e;\n",
      "else:\n",
      "    E = rest_e +e;\n",
      "\n",
      "lambda1 = h/(math.sqrt(2*m*e*1.6e-19)) # calculation of de Broglie wavelength\n",
      "print \" de Broglie wavelength of neutron is %f angstrom.\"%( lambda1*1e10)\n",
      "# Answer in book is 8.04e-5 angstrom \n"
     ],
     "language": "python",
     "metadata": {},
     "outputs": [
      {
       "output_type": "stream",
       "stream": "stdout",
       "text": [
        " de Broglie wavelength of neutron is 0.057274 angstrom.\n"
       ]
      }
     ],
     "prompt_number": 33
    },
    {
     "cell_type": "heading",
     "level": 2,
     "metadata": {},
     "source": [
      "Example 1.16  Page No36"
     ]
    },
    {
     "cell_type": "code",
     "collapsed": false,
     "input": [
      "import math \n",
      "#Given that\n",
      "e = 2*1.6e-19 # charge on alpha particle in coulomb\n",
      "V = 200 # Applied voltage in volts\n",
      "m = 4*1.67e-27 # Mass of alpha particle in Kg\n",
      "h = 6.63e-34 # Plank consmath.tant\n",
      "\n",
      "lambda1 = h/(math.sqrt(2*e*V*m)) # calculation of de Broglie wavelength\n",
      "print \" de Broglie wavelength of neutron is %f angstrom.\"%( lambda1*1e10)\n",
      "# while answer in book is 0.00715 angstrom\n"
     ],
     "language": "python",
     "metadata": {},
     "outputs": [
      {
       "output_type": "stream",
       "stream": "stdout",
       "text": [
        " de Broglie wavelength of neutron is 0.007170 angstrom.\n"
       ]
      }
     ],
     "prompt_number": 34
    },
    {
     "cell_type": "heading",
     "level": 2,
     "metadata": {},
     "source": [
      "Example 1.17  Page No41"
     ]
    },
    {
     "cell_type": "code",
     "collapsed": false,
     "input": [
      "import math \n",
      "#Given that\n",
      "M = 20 # Mass of ball in Kg\n",
      "V = 5 # velocity of of ball in m/s\n",
      "m = 9.1e-31 #Mass of electron in Kg\n",
      "v = 1e6 # velocity of of electron in m/s\n",
      "h = 6.62e-34 # Plank consmath.tant\n",
      "\n",
      "lambda_b = h/(M*V) # calculation of de Broglie wavelength for ball\n",
      "lambda_e = h/(m*v) # calculation of de Broglie wavelength electron\n",
      "print \" de Broglie wavelength of ball is %e angstrom.\"%(lambda_b*1e10)\n",
      "print \" de Broglie wavelength of electron is %f angstrom.\"%(lambda_e*1e10)\n",
      "# answer in book is 6.62e-22 angstrom for ball\n",
      "\n"
     ],
     "language": "python",
     "metadata": {},
     "outputs": [
      {
       "output_type": "stream",
       "stream": "stdout",
       "text": [
        " de Broglie wavelength of ball is 6.620000e-26 angstrom.\n",
        " de Broglie wavelength of electron is 7.274725 angstrom.\n"
       ]
      }
     ],
     "prompt_number": 35
    },
    {
     "cell_type": "heading",
     "level": 2,
     "metadata": {},
     "source": [
      "Example 1.18  Page No44"
     ]
    },
    {
     "cell_type": "code",
     "collapsed": false,
     "input": [
      "import math \n",
      "\n",
      "#Given that\n",
      "E = 1 # Energy of neutron in eV\n",
      "m = 1.67e-27 # Mass of neutron in Kg\n",
      "h = 6.62e-34 # Plank consmath.tant\n",
      "lambda1 = h/math.sqrt(2*m*E*1.6e-19) # Calculation of velocity of moving electron\n",
      "print \" Wavelength of electron is %f angstrom.\"%(lambda1*1e10)\n",
      "# Answer in book is 6.62e-22 angstrom\n"
     ],
     "language": "python",
     "metadata": {},
     "outputs": [
      {
       "output_type": "stream",
       "stream": "stdout",
       "text": [
        " Wavelength of electron is 0.286368 angstrom.\n"
       ]
      }
     ],
     "prompt_number": 36
    },
    {
     "cell_type": "heading",
     "level": 2,
     "metadata": {},
     "source": [
      "Example 1.19  Page No44"
     ]
    },
    {
     "cell_type": "code",
     "collapsed": false,
     "input": [
      "import math \n",
      "\n",
      "#Given that\n",
      "lambda1 = 0.5# wavelength of electron in angstrom\n",
      "m = 9.1e-31 # Mass of electron in Kg\n",
      "h = 6.62e-34 # Plank consmath.tant\n",
      "q = 1.6e-19 # charge on electron in coulomb\n",
      "\n",
      "V = h**2/(2*m*q*(lambda1*1e-10)**2) # Calculation of velocity of moving electron\n",
      "print \" Applied voltage on electron is %f V.\"%(V)\n",
      "# Answer in book is 601.6 Volt\n"
     ],
     "language": "python",
     "metadata": {},
     "outputs": [
      {
       "output_type": "stream",
       "stream": "stdout",
       "text": [
        " Applied voltage on electron is 601.983516 V.\n"
       ]
      }
     ],
     "prompt_number": 37
    },
    {
     "cell_type": "heading",
     "level": 2,
     "metadata": {},
     "source": [
      "Example 1.21  Page No46"
     ]
    },
    {
     "cell_type": "code",
     "collapsed": false,
     "input": [
      "import math \n",
      "#Given that\n",
      "k = 8.6e-5 # Boltzmann consmath.tant\n",
      "t = 37 # Temperature in degree Celsius\n",
      "h = 6.62e-34 # Plank consmath.tant\n",
      "m = 1.67e-27 # Mass of neutron\n",
      "\n",
      "lambda1 = h/math.sqrt(3*m*(k*1.6e-19)*(t+273))# Calculation of wavelength\n",
      "print \" Wavelength of neutron at %d degree Celsius is %f angstrom.\"%(t,lambda1*1e10)\n",
      "\n"
     ],
     "language": "python",
     "metadata": {},
     "outputs": [
      {
       "output_type": "stream",
       "stream": "stdout",
       "text": [
        " Wavelength of neutron at 37 degree Celsius is 1.432020 angstrom.\n"
       ]
      }
     ],
     "prompt_number": 38
    },
    {
     "cell_type": "heading",
     "level": 2,
     "metadata": {},
     "source": [
      "Example 1.22  Page No49"
     ]
    },
    {
     "cell_type": "code",
     "collapsed": false,
     "input": [
      "import math \n",
      "#Given that\n",
      "k = 8.6e-5 # Boltzmann consmath.tant\n",
      "t = 27 # Temperature in degree Celsius\n",
      "h = 6.62e-34 # Plank consmath.tant\n",
      "m = 6.7e-27 # Mass of helium atom\n",
      "\n",
      "lambda1 = h/math.sqrt(3*m*(k*1.6e-19)*(t+273))# Calculation of wavelength\n",
      "print \" Wavelength of helium at %d degree Celsius is %f angstrom.\"%(t,lambda1*1e10)\n"
     ],
     "language": "python",
     "metadata": {},
     "outputs": [
      {
       "output_type": "stream",
       "stream": "stdout",
       "text": [
        " Wavelength of helium at 27 degree Celsius is 0.726758 angstrom.\n"
       ]
      }
     ],
     "prompt_number": 39
    },
    {
     "cell_type": "heading",
     "level": 2,
     "metadata": {},
     "source": [
      "Example 1.23  Page No50"
     ]
    },
    {
     "cell_type": "code",
     "collapsed": false,
     "input": [
      "import math \n",
      "#Given that\n",
      "E = 200. # energy of electrons in eV\n",
      "x = 20. # dismath.tance of screen in cm\n",
      "D = 2. # diameter of ring in cm\n",
      "h = 6.62e-34 # Plank consmath.tant\n",
      "m = 9.1e-31 # Mass of electron in kg\n",
      "\n",
      "lambda1 = h/math.sqrt(2*m*E*1.6e-19) # Calculation of wavelength\n",
      "theta = (math.atan(D/(2*x)))\n",
      "d = lambda1/(2*math.sin(theta))# calculation of interatomic spacing of crystal\n",
      "print \" Interatomic spacing of crystal is %f angstrom.\"%(d*1e10)\n"
     ],
     "language": "python",
     "metadata": {},
     "outputs": [
      {
       "output_type": "stream",
       "stream": "stdout",
       "text": [
        " Interatomic spacing of crystal is 8.685393 angstrom.\n"
       ]
      }
     ],
     "prompt_number": 43
    },
    {
     "cell_type": "heading",
     "level": 2,
     "metadata": {},
     "source": [
      "Example 1.24  Page No52"
     ]
    },
    {
     "cell_type": "code",
     "collapsed": false,
     "input": [
      "import math \n",
      "\n",
      "#Given that\n",
      "r = 0.5 # Bohr radius of hydrogen in angstrom\n",
      "m = 9.1e-31 # Mass of neutron in Kg\n",
      "h = 6.6e-34 # Plank consmath.tant\n",
      "v = h/(2*math.pi*r*1e-10*m) # velocity of electron in ground state\n",
      "print \" Velocity of electron in ground state is %e m/s.\"%(v)\n",
      "# Answer in book is 2.31e6 m/s\n"
     ],
     "language": "python",
     "metadata": {},
     "outputs": [
      {
       "output_type": "stream",
       "stream": "stdout",
       "text": [
        " Velocity of electron in ground state is 2.308621e+06 m/s.\n"
       ]
      }
     ],
     "prompt_number": 45
    },
    {
     "cell_type": "heading",
     "level": 2,
     "metadata": {},
     "source": [
      "Example 1.25  Page No55"
     ]
    },
    {
     "cell_type": "code",
     "collapsed": false,
     "input": [
      "import math \n",
      "\n",
      "#Given that\n",
      "lambda1 = 5890 # wavelength of yellow radiation in angstrom\n",
      "m = 9.1e-31 # Mass of neutron in Kg\n",
      "h = 6.63e-34 # Plank consmath.tant\n",
      "v = h/(lambda1*1e-10*m) # velocity of electron in ground state\n",
      "print \" Velocity of electron in ground state is %.2e m/s.\"%(v)\n"
     ],
     "language": "python",
     "metadata": {},
     "outputs": [
      {
       "output_type": "stream",
       "stream": "stdout",
       "text": [
        " Velocity of electron in ground state is 1.24e+03 m/s.\n"
       ]
      }
     ],
     "prompt_number": 49
    },
    {
     "cell_type": "heading",
     "level": 2,
     "metadata": {},
     "source": [
      "Example 1.26  Page No56"
     ]
    },
    {
     "cell_type": "code",
     "collapsed": false,
     "input": [
      "import math \n",
      "\n",
      "#Given that\n",
      "lambda1 = 2 # wavelength of neutron in angstrom\n",
      "m = 1.67e-27 # Mass of neutron in Kg\n",
      "h = 6.63e-34 # Plank consmath.tant\n",
      "v = h/(lambda1*1e-10*m) # velocity of neutron\n",
      "k = 0.5*m*v**2 # Kinetic energy of neutron\n",
      "print \" Velocity of neutron is %e m/s.\"%(v)\n",
      "print \" Kinetic energy of neutron is %.3f eV.\"%(k/1.6e-19)\n"
     ],
     "language": "python",
     "metadata": {},
     "outputs": [
      {
       "output_type": "stream",
       "stream": "stdout",
       "text": [
        " Velocity of neutron is 1.985030e+03 m/s.\n",
        " Kinetic energy of neutron is 0.021 eV.\n"
       ]
      }
     ],
     "prompt_number": 53
    },
    {
     "cell_type": "heading",
     "level": 2,
     "metadata": {},
     "source": [
      "Example 1.29  Page No61"
     ]
    },
    {
     "cell_type": "code",
     "collapsed": false,
     "input": [
      "import math \n",
      "#given that\n",
      "v1 = 50 # Previous applied voltage\n",
      "v2 = 65 # final applied voltage\n",
      "k = 12.28 \n",
      "d = 0.91 # Spacing in a crystal in angstrom\n",
      "print \"Example 1.29\"\n",
      "\n",
      "lambda1 = k/math.sqrt(v1)\n",
      "theta= math.asin(lambda1/(2*d))# Angel for initial applied voltage\n",
      "lambda1 = k/math.sqrt(v2)# wavelength for final applied voltage\n",
      "theta1 = math.asin(lambda1/(2*d))# Angel for final applied voltage\n",
      "print \" For first order,  (sintheta) is %f  For second order sintheta must be %f  which is not possible \\\n",
      "for any value of angle.  So no maxima occur for higher orders \"%(math.sin(theta),2*math.sin(theta))\n",
      "print \" Angle of diffraction for first order of beam  is %f degree at %d Volts\"%(theta1*180/math.pi,v2)\n",
      "# Answer in book is 57.14 degree\n",
      "\n"
     ],
     "language": "python",
     "metadata": {},
     "outputs": [
      {
       "output_type": "stream",
       "stream": "stdout",
       "text": [
        "Example 1.29\n",
        " For first order,  (sintheta) is 0.954206  For second order sintheta must be 1.908411  which is not possible for any value of angle.  So no maxima occur for higher orders \n",
        " Angle of diffraction for first order of beam  is 56.813542 degree at 65 Volts\n"
       ]
      }
     ],
     "prompt_number": 62
    },
    {
     "cell_type": "heading",
     "level": 2,
     "metadata": {},
     "source": [
      "Example 1.30  Page No62"
     ]
    },
    {
     "cell_type": "code",
     "collapsed": false,
     "input": [
      "import math \n",
      "#Given that\n",
      "lambda1 = 680 # Wavelength in m\n",
      "g = 9.8 #Acceleration due to gravity\n",
      "print \"Example 1.30\"\n",
      "v_g = 1/2*math.sqrt(g*lambda1/(2*math.pi)) # Calculation of group velocity\n",
      "print \" Group velocity of seawater waves is %f m/s.\"%(v_g)\n",
      "# Answer in book is 16.29 m/s\n"
     ],
     "language": "python",
     "metadata": {},
     "outputs": [
      {
       "output_type": "stream",
       "stream": "stdout",
       "text": [
        "Example 1.30\n",
        " Group velocity of seawater waves is 0.000000 m/s.\n"
       ]
      }
     ],
     "prompt_number": 63
    },
    {
     "cell_type": "heading",
     "level": 2,
     "metadata": {},
     "source": [
      "Example 1.32  Page No64"
     ]
    },
    {
     "cell_type": "code",
     "collapsed": false,
     "input": [
      "import math \n",
      "#Given that\n",
      "lambda1 = 2e-13 # de Broglie wavelength of an electron in m\n",
      "c = 3e8 # Speed of light in m/s\n",
      "m = 9.1e-31 # Mass of electron in Kg\n",
      "h = 6.63e-34 # Plank consmath.tant\n",
      "print \"Example 1.32\"\n",
      "E = h*c/(lambda1*1.6e-19) \n",
      "E_rest = m*c**2/(1.6e-19) # Calculation of rest mass energy\n",
      "E_total = math.sqrt(E**2+E_rest**2) # Total energy in eV\n",
      "v_g = c*math.sqrt(1-(E_rest/E_total)**2) # Group velocity\n",
      "v_p  = c**2/v_g # Phase velocity\n",
      "print \" Group velocity of de Broglie waves is %fc  and phase velocity is %fc .\"%(v_g/c,v_p/c)\n"
     ],
     "language": "python",
     "metadata": {},
     "outputs": [
      {
       "output_type": "stream",
       "stream": "stdout",
       "text": [
        "Example 1.32\n",
        " Group velocity of de Broglie waves is 0.996626c  and phase velocity is 1.003385c .\n"
       ]
      }
     ],
     "prompt_number": 65
    },
    {
     "cell_type": "heading",
     "level": 2,
     "metadata": {},
     "source": [
      "Example 1.33  Page No68"
     ]
    },
    {
     "cell_type": "code",
     "collapsed": false,
     "input": [
      "import math \n",
      "\n",
      "#Given that\n",
      "lambda1 = 2e-12 # de Broglie wavelength of an electron in m\n",
      "c = 3e8 # Speed of light in m/s\n",
      "m = 9.1e-31 # Mass of electron in Kg\n",
      "h = 6.63e-34 # Plank consmath.tant\n",
      "print \"Example 1.33\"\n",
      "E = h*c/(lambda1*1.6e-19) # Energy due to momentum\n",
      "E_rest = m*c**2/(1.6e-19) # Calculation of rest mass energy\n",
      "E_total = math.sqrt(E**2+E_rest**2) # Total energy in eV\n",
      "KE = E_total - E_rest # Kinetic energy\n",
      "v_g = c*math.sqrt(1-(E_rest/E_total)**2) # Group velocity\n",
      "v_p  = c**2/v_g # Phase velocity\n",
      "\n",
      "print \" Kinetic energy of electron is %f KeV.\"%(KE/1000)\n",
      "print \" Group velocity of de Broglie waves is %fc m/s and phase velocity is %fc m/s.\"%(v_g/c,v_p/c)\n",
      "# Answer in book is v_g = 0.6035c & v_p = 1.657c\n"
     ],
     "language": "python",
     "metadata": {},
     "outputs": [
      {
       "output_type": "stream",
       "stream": "stdout",
       "text": [
        "Example 1.33\n",
        " Kinetic energy of electron is 293.330537 KeV.\n",
        " Group velocity of de Broglie waves is 0.771930c m/s and phase velocity is 1.295454c m/s.\n"
       ]
      }
     ],
     "prompt_number": 67
    }
   ],
   "metadata": {}
  }
 ]
}