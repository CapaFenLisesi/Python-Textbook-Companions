{
 "metadata": {
  "name": "",
  "signature": "sha256:5c15c522261c9a1964264eb127a07845e301723248156878641836ea3a61bbf4"
 },
 "nbformat": 3,
 "nbformat_minor": 0,
 "worksheets": [
  {
   "cells": [
    {
     "cell_type": "heading",
     "level": 1,
     "metadata": {},
     "source": [
      "Chapter 7 : Maxwells Equations and Electromagnetic Waves"
     ]
    },
    {
     "cell_type": "heading",
     "level": 2,
     "metadata": {},
     "source": [
      "Example 7.1  Page No220"
     ]
    },
    {
     "cell_type": "code",
     "collapsed": false,
     "input": [
      "import math \n",
      "\n",
      "#Given that\n",
      "p = 1000 # power in watt\n",
      "d = 2 # Dismath.tance from lamp in m\n",
      "epsilon_0 = 8.854e-12 # Permittivity of free space\n",
      "mu_0 = 4*math.pi*1e-7 # Permeability of free space\n",
      "print \"Example 7.1\"\n",
      "s = p/(4*math.pi*d**2)# Calculation of pointing vector\n",
      "E_H_ratio = math.sqrt(mu_0/epsilon_0) # Calculation of ratio of Electric field and magnetic field\n",
      "E= math.sqrt(E_H_ratio*s) # Calculation of  Electric field \n",
      "print \" Average value of electric field at distance %d m is %f Volt/m \"%(d,E)\n",
      "# Answer in book is 48.87 volt/m which is due to wrong calculation at intermediate steps\n"
     ],
     "language": "python",
     "metadata": {},
     "outputs": [
      {
       "output_type": "stream",
       "stream": "stdout",
       "text": [
        "Example 7.1\n",
        " Average value of electric field at distance 2 m is 86.573038 Volt/m \n"
       ]
      }
     ],
     "prompt_number": 3
    },
    {
     "cell_type": "heading",
     "level": 2,
     "metadata": {},
     "source": [
      "Example 7.2  Page No222"
     ]
    },
    {
     "cell_type": "code",
     "collapsed": false,
     "input": [
      "import math \n",
      " \n",
      "#Given that\n",
      "p = 2 # power in cal/min/cm**2\n",
      "\n",
      "epsilon_0 = 8.854e-12 # Permittivity of free space\n",
      "mu_0 = 4*math.pi*1e-7 # permeability of free space\n",
      "print \"Example 7.2\"\n",
      "s = p*4.2e4/60 # Calculation of pointing vector\n",
      "E_H_ratio = math.sqrt(mu_0/epsilon_0) # Calculation of ratio of Electric field and magnetic field\n",
      "E= math.sqrt(E_H_ratio*s) # Calculation of Electric field \n",
      "H = s/E # Calculation of Electric field \n",
      "\n",
      "print \" Average value of electric field  is %f Volt/m \"%(E*math.sqrt(2))\n",
      "print \" Average value of magnetic field is %f Amp turn/m \"%(H*math.sqrt(2))\n"
     ],
     "language": "python",
     "metadata": {},
     "outputs": [
      {
       "output_type": "stream",
       "stream": "stdout",
       "text": [
        "Example 7.2\n",
        " Average value of electric field  is 1027.061861 Volt/m \n",
        " Average value of magnetic field is 2.726223 Amp turn/m \n"
       ]
      }
     ],
     "prompt_number": 5
    },
    {
     "cell_type": "heading",
     "level": 2,
     "metadata": {},
     "source": [
      "Example 7.3  Page No225"
     ]
    },
    {
     "cell_type": "code",
     "collapsed": false,
     "input": [
      "import math \n",
      "\n",
      "#Given that\n",
      "mu_0 = 4*math.pi*1e-7 # permeability of free space\n",
      "mu = mu_0 #permeability of silver\n",
      "sigma = 3e7 # conductivity in mhos/m\n",
      "f = 1e8 # frequency in Hz\n",
      "print \"Example 7.3\"\n",
      "omega = 2*math.pi/f # Calculation of time period\n",
      "delta = math.sqrt(2/(omega*sigma*mu)) # Calculation of skin depth penetration\n",
      "Delta = int(delta/100)*100 # Rounding off\n",
      "print \" Skin depth penetration is %e cm. \"%(Delta*1e-6)\n",
      "\n"
     ],
     "language": "python",
     "metadata": {},
     "outputs": [
      {
       "output_type": "stream",
       "stream": "stdout",
       "text": [
        "Example 7.3\n",
        " Skin depth penetration is 9.000000e-04 cm. \n"
       ]
      }
     ],
     "prompt_number": 7
    },
    {
     "cell_type": "heading",
     "level": 2,
     "metadata": {},
     "source": [
      "Example 7.5  Page No229"
     ]
    },
    {
     "cell_type": "code",
     "collapsed": false,
     "input": [
      "import math \n",
      " \n",
      "#Given that\n",
      "k = 80 # relative Dielectric consmath.tant of sea water\n",
      "epsilon_0 = 1/9e9 # Permittivity of free space\n",
      "epsilon = 80*epsilon_0 # Permittivity of free space\n",
      "sigma = 4.3 # conductivity in mho/m\n",
      "delta = 10 # penetration depth in cm\n",
      "mu_0 = 4*math.pi*1e-7 # permeability f free space\n",
      "F = 1e8 # Given frequency in Hz\n",
      "print \"Example 7.5\"\n",
      "f = (1/(math.pi*mu_0*sigma))/(delta*1e-2)**2 # Calculation of frequency\n",
      "f1= round(f/1e8)*1e8 # Rounding off\n",
      "print \"Frequency required for penetration of depth %d cm is %e Hz\"%(delta,f1)\n",
      "omega = 2*math.pi*F\n",
      "x = 2*sigma/(epsilon*omega)\n",
      "if x>1:\n",
      "    print \" Sea water is good conductor at frequency lesser than 1e8 Hz \"\n",
      "\n"
     ],
     "language": "python",
     "metadata": {},
     "outputs": [
      {
       "output_type": "stream",
       "stream": "stdout",
       "text": [
        "Example 7.5\n",
        "Frequency required for penetration of depth 10 cm is 0.000000e+00 Hz\n",
        " Sea water is good conductor at frequency lesser than 1e8 Hz \n"
       ]
      }
     ],
     "prompt_number": 11
    },
    {
     "cell_type": "heading",
     "level": 2,
     "metadata": {},
     "source": [
      "Example 7.7  Page No234"
     ]
    },
    {
     "cell_type": "code",
     "collapsed": false,
     "input": [
      "import math \n",
      " \n",
      "#Given that\n",
      "k = 12 # relative Dielectric consmath.tant of sea water\n",
      "epsilon_0 = 1/9e9 # Permittivity of free space\n",
      "sigma = 2 # conductivity in mho/cm\n",
      "mu_0 = 4*math.pi*1e-7 # permeability f free space\n",
      "f= 1e9 # Given frequency in Hz\n",
      "F = 1e6 # Given frequency in Hz\n",
      "print \"Example 7.7\"\n",
      "delta = math.sqrt(2/(2*math.pi*F*mu_0*sigma*100)) # Calculation of frequency\n",
      "print \" For %eHz frequency, Penetration depth is %f cm\"%(F,delta*100)\n",
      "omega = 2*math.pi*f\n",
      "x = 2*sigma*100/(k*epsilon_0*omega)\n",
      "if x>1 :\n",
      "    print \" Silicon is good conductor at frequency lesser than 1e9 Hz \"\n",
      "\n",
      "# Answer in book is 3.6 cm\n"
     ],
     "language": "python",
     "metadata": {},
     "outputs": [
      {
       "output_type": "stream",
       "stream": "stdout",
       "text": [
        "Example 7.7\n",
        " For 1.000000e+06Hz frequency, Penetration depth is 3.558813 cm\n",
        " Silicon is good conductor at frequency lesser than 1e9 Hz \n"
       ]
      }
     ],
     "prompt_number": 12
    },
    {
     "cell_type": "heading",
     "level": 2,
     "metadata": {},
     "source": [
      "Example 7.8  Page No236"
     ]
    },
    {
     "cell_type": "code",
     "collapsed": false,
     "input": [
      "import math \n",
      "#Given that\n",
      "mu_0 = 4*math.pi*1e-7 # permeability of free space\n",
      "mu = mu_0 #permeability of silver\n",
      "sigma = 5.8e7 # conductivity in simens /m\n",
      "delta = 0.1 # Skin depth penetration in mm\n",
      "\n",
      "print \"Example 7.8\"\n",
      "f = 2/((delta*1e-3)**2*sigma*mu*2*math.pi) # Calculation of skin depth penetration\n",
      "print \" Required frequency is %.2e Hz\"%(f)\n",
      "print \" The incident electromagnetic wave is the radio part of spectrum.\"\n",
      "# Answer in book is 3.36e5 Hz. Difference is due to approximation at intermediate stages\n",
      "\n"
     ],
     "language": "python",
     "metadata": {},
     "outputs": [
      {
       "output_type": "stream",
       "stream": "stdout",
       "text": [
        "Example 7.8\n",
        " Required frequency is 4.37e+05 Hz\n",
        " The incident electromagnetic wave is the radio part of spectrum.\n"
       ]
      }
     ],
     "prompt_number": 13
    },
    {
     "cell_type": "heading",
     "level": 2,
     "metadata": {},
     "source": [
      "Example 7.9  Page No240"
     ]
    },
    {
     "cell_type": "code",
     "collapsed": false,
     "input": [
      "import math \n",
      " \n",
      " \n",
      "#Given that\n",
      "mu_0 = 4*math.pi*1e-7 # Permeability of free space\n",
      "mu = mu_0 #Permeability of silver\n",
      "sigma = 3e7 # conductivity in mhos/m\n",
      "f = 1e10 # frequency in Hz\n",
      "print \"Example 7.9\"\n",
      "delta = math.sqrt(1/(math.pi*sigma*f*mu)) # Calculation of skin depth penetration\n",
      "print \" Skin depth penetration is %f micrometre. \"%(delta*1e6)\n",
      "# Answer in book is 0.93 micrometer\n"
     ],
     "language": "python",
     "metadata": {},
     "outputs": [
      {
       "output_type": "stream",
       "stream": "stdout",
       "text": [
        "Example 7.9\n",
        " Skin depth penetration is 0.918881 micrometre. \n"
       ]
      }
     ],
     "prompt_number": 14
    },
    {
     "cell_type": "heading",
     "level": 2,
     "metadata": {},
     "source": [
      "Example 7.10  Page No241"
     ]
    },
    {
     "cell_type": "code",
     "collapsed": false,
     "input": [
      "import math \n",
      " \n",
      "#Given that\n",
      "p = 500 # power in watt\n",
      "d = 1 # Dismath.tance from lamp in m\n",
      "epsilon_0 = 8.854e-12 # Permittivity of free space\n",
      "mu_0 = 4*math.pi*1e-7 # Permeability of free space\n",
      "print \"Example 7.10\"\n",
      "s = p/(4*math.pi*d**2)# Calculation of pointing vector\n",
      "E_H_ratio = math.sqrt(mu_0/epsilon_0) # Calculation of ratio of Electric field and magnetic field\n",
      "H = s/E_H_ratio # Calculation of Electric field \n",
      "h = (H*100)/100 # rounding off for 2 decimal places\n",
      "E= p/(4*math.pi*h) # Calculation of Electric field \n",
      "print \" Average value of electric field at distance %d m is %f Volt/m \"%(d,E)\n",
      "print \" Average value of magnetic field at distance %d m is %f Amp-turn/m \"%(d,h)\n"
     ],
     "language": "python",
     "metadata": {},
     "outputs": [
      {
       "output_type": "stream",
       "stream": "stdout",
       "text": [
        "Example 7.10\n",
        " Average value of electric field at distance 1 m is 376.734309 Volt/m \n",
        " Average value of magnetic field at distance 1 m is 0.105615 Amp-turn/m \n"
       ]
      }
     ],
     "prompt_number": 18
    },
    {
     "cell_type": "heading",
     "level": 2,
     "metadata": {},
     "source": [
      "Example 7.11  Page No243"
     ]
    },
    {
     "cell_type": "code",
     "collapsed": false,
     "input": [
      "import math \n",
      " \n",
      "#Given that\n",
      "mu_0 = 4*math.pi*1e-7 # Permeability of free space\n",
      "mu = mu_0 #Permeability of silver\n",
      "sigma = 3.5e7 # conductivity in simens /m\n",
      "delta = 0.03 # Skin depth penetration in mm\n",
      "\n",
      "print \"Example 7.11\"\n",
      "\n",
      "f = 2/((delta*1e-3)**2*sigma*mu*2*math.pi) # Calculation of skin depth penetration\n",
      "print \" Required frequency is %d MHz.\"%(f/1e6)\n",
      "print \" The incident electromagnetic wave is the radio part of spectrum\"\n"
     ],
     "language": "python",
     "metadata": {},
     "outputs": [
      {
       "output_type": "stream",
       "stream": "stdout",
       "text": [
        "Example 7.11\n",
        " Required frequency is 8 MHz.\n",
        " The incident electromagnetic wave is the radio part of spectrum\n"
       ]
      }
     ],
     "prompt_number": 19
    },
    {
     "cell_type": "heading",
     "level": 2,
     "metadata": {},
     "source": [
      "Example 7.12  Page No244"
     ]
    },
    {
     "cell_type": "code",
     "collapsed": false,
     "input": [
      "import math \n",
      " \n",
      "#Given that\n",
      "p = 3.8e26 # power radiated by moon in watt\n",
      "d_sun = 1.44e11 # Dismath.tance between sun and earth in meter\n",
      "d_moon = 3e8 #Dismath.tance between moon and earth in meter\n",
      "epsilon_0 = 8.854e-12 # Permittivity of free space\n",
      "mu_0 = 4*math.pi*1e-7 # Permeability of free space\n",
      "print \"Example 7.12\"\n",
      "s = p/(4*math.pi*d_sun**2)# Calculation of solar energy received during solar eclipse in watt /m**2\n",
      "S = s*60/(4.2*1e4) # Unit conversion\n",
      "\n",
      "print \" Solar energy received during solar eclipse is %f Cal per min per m**2 \"%(S)\n",
      "# Ansewr in book is 2.1 cal per min per m**2\n"
     ],
     "language": "python",
     "metadata": {},
     "outputs": [
      {
       "output_type": "stream",
       "stream": "stdout",
       "text": [
        "Example 7.12\n",
        " Solar energy received during solar eclipse is 2.083295 Cal per min per m**2 \n"
       ]
      }
     ],
     "prompt_number": 20
    },
    {
     "cell_type": "heading",
     "level": 2,
     "metadata": {},
     "source": [
      "Example 7.13  Page No246"
     ]
    },
    {
     "cell_type": "code",
     "collapsed": false,
     "input": [
      "import math \n",
      "\n",
      " \n",
      "#Given that\n",
      "mu_0 = 4*math.pi*1e-7 # Permeability of free space\n",
      "mu = mu_0 #Permeability of silver\n",
      "sigma = 3.5e7 # conductivity in simens /m\n",
      "lambda1 = 6328. # Wavelength in angstrom\n",
      "c = 3e8# Speed of light in m/sec\n",
      "\n",
      "print \"Example 7.13\"\n",
      "f = c/(lambda1*1e-10)\n",
      "omega = 2*math.pi/f # Calculation of time period\n",
      "f = c/(lambda1*1e-10) # Calculation of frequency in Hz\n",
      "delta = math.sqrt(1/(math.pi*f*sigma*mu)) # Calculation of skin depth penetration\n",
      "print \" Skin depth penetration is %f nm. \"%(delta*1e9)\n",
      "# Answer in book is 3.9 mm, unit used in book is wrong\n"
     ],
     "language": "python",
     "metadata": {},
     "outputs": [
      {
       "output_type": "stream",
       "stream": "stdout",
       "text": [
        "Example 7.13\n",
        " Skin depth penetration is 3.907138 nm. \n"
       ]
      }
     ],
     "prompt_number": 21
    },
    {
     "cell_type": "code",
     "collapsed": false,
     "input": [],
     "language": "python",
     "metadata": {},
     "outputs": []
    }
   ],
   "metadata": {}
  }
 ]
}