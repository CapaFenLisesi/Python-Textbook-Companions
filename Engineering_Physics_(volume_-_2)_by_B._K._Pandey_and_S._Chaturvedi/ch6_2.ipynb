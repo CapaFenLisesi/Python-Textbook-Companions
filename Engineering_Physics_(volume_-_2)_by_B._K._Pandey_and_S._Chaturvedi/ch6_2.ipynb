{
 "metadata": {
  "name": "",
  "signature": "sha256:1843361d9b1f7d4765e522604cbb1bc8ff2515ffb02cdd416946cae448cf39a5"
 },
 "nbformat": 3,
 "nbformat_minor": 0,
 "worksheets": [
  {
   "cells": [
    {
     "cell_type": "heading",
     "level": 1,
     "metadata": {},
     "source": [
      "Chapter 6 : Ultrasonic Waves"
     ]
    },
    {
     "cell_type": "heading",
     "level": 2,
     "metadata": {},
     "source": [
      "Example 6.1  Page No207"
     ]
    },
    {
     "cell_type": "code",
     "collapsed": false,
     "input": [
      "import math \n",
      "\n",
      "#Given that\n",
      "E = 7.9e10 # Young\u2019s modulus in N/m**2\n",
      "rho = 2650 # Density in Kg/m**3\n",
      "t = 0.003 # Thickness of quartz crystal in m\n",
      "print \"Example 6.1\"\n",
      "v = math.sqrt(E/rho)# Calculation of velocity \n",
      "lambda1 = 2*t # Calculation of fundamental wavelength\n",
      "nu = v/lambda1 # Calculation of fundamental frequency\n",
      "print \"Fundamental frequency is %e Hz.\"%(nu)\n"
     ],
     "language": "python",
     "metadata": {},
     "outputs": [
      {
       "output_type": "stream",
       "stream": "stdout",
       "text": [
        "Example 6.1\n",
        "Fundamental frequency is 9.099957e+05 Hz.\n"
       ]
      }
     ],
     "prompt_number": 2
    },
    {
     "cell_type": "heading",
     "level": 2,
     "metadata": {},
     "source": [
      "Example 6.2  Page No208"
     ]
    },
    {
     "cell_type": "code",
     "collapsed": false,
     "input": [
      "import math \n",
      "\n",
      "#Given that\n",
      "v = 5760 # Velocity in m/s\n",
      "T = 1.6 # Thickness of quartz crystal in mm\n",
      "print \"Example 6.2\"\n",
      "nu = v/(2*T*1e-3)# Calculation of fundamental frequency\n",
      "print \"Fundamental frequency of crystal is %f MHz.\"%(nu/1e6)\n",
      "\n"
     ],
     "language": "python",
     "metadata": {},
     "outputs": [
      {
       "output_type": "stream",
       "stream": "stdout",
       "text": [
        "Example 6.2\n",
        "Fundamental frequency of crystal is 1.800000 MHz.\n"
       ]
      }
     ],
     "prompt_number": 3
    },
    {
     "cell_type": "heading",
     "level": 2,
     "metadata": {},
     "source": [
      "Example 6.3  Page No209"
     ]
    },
    {
     "cell_type": "code",
     "collapsed": false,
     "input": [
      "import math \n",
      " \n",
      "#Given that\n",
      "T =40. # Thickness of steel bar in cm\n",
      "t1 = 40. # Time in ms\n",
      "t2 = 80. # Time in ms\n",
      "print \"Example 6.3\"\n",
      "X = T*t1/t2 # Calculation of depth of defect\n",
      "print \"Depth of defect is %d cm.\"%(X)\n"
     ],
     "language": "python",
     "metadata": {},
     "outputs": [
      {
       "output_type": "stream",
       "stream": "stdout",
       "text": [
        "Example 6.3\n",
        "Depth of defect is 20 cm.\n"
       ]
      }
     ],
     "prompt_number": 4
    },
    {
     "cell_type": "heading",
     "level": 2,
     "metadata": {},
     "source": [
      "Example 6.4  Page No209"
     ]
    },
    {
     "cell_type": "code",
     "collapsed": false,
     "input": [
      "import math \n",
      "#Given that\n",
      "E = 7.9e10 # Young\u2019s modulus in N/m**2\n",
      "rho = 2650 # Density in Kg/m**3\n",
      "t = 0.006 # Thickness of quartz crystal in m\n",
      "print \"Example 6.4\"\n",
      "v = math.sqrt(E/rho)# Calculation of velocity \n",
      "lambda1 = 2*t # Calculation of fundamental wavelength\n",
      "nu = v/lambda1 # Calculation of fundamental frequency\n",
      "print \"Fundamental frequency is %e Hz.\"%(nu)\n",
      "\n"
     ],
     "language": "python",
     "metadata": {},
     "outputs": [
      {
       "output_type": "stream",
       "stream": "stdout",
       "text": [
        "Example 6.4\n",
        "Fundamental frequency is 4.549979e+05 Hz.\n"
       ]
      }
     ],
     "prompt_number": 6
    },
    {
     "cell_type": "heading",
     "level": 2,
     "metadata": {},
     "source": [
      "Example 6.5  Page No209"
     ]
    },
    {
     "cell_type": "code",
     "collapsed": false,
     "input": [
      "import math \n",
      "\n",
      "#Given that\n",
      "L = 1. # Inducmath.tance in Hanery\n",
      "nu = 2.e6 # Frequency in Hz\n",
      "print \"Example 6.5\"\n",
      "C= 1./(4*((math.pi)**2)*nu**2*L) # Calculation of capacimath.tance\n",
      "print \"Capacitance is %e microfarad.\"%(C*1e6)\n",
      "# Answer in book is 0.00634 micro Farad\n"
     ],
     "language": "python",
     "metadata": {},
     "outputs": [
      {
       "output_type": "stream",
       "stream": "stdout",
       "text": [
        "Example 6.5\n",
        "Capacitance is 6.332574e-09 microfarad.\n"
       ]
      }
     ],
     "prompt_number": 8
    }
   ],
   "metadata": {}
  }
 ]
}