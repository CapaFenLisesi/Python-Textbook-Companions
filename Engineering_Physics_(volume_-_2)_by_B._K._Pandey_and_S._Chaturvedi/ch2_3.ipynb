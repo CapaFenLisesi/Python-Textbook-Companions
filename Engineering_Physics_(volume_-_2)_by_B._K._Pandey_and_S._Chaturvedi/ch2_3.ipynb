{
 "metadata": {
  "name": "",
  "signature": "sha256:5ca2861748d43d40b34516562fe47bc041c8b35f6ea545c8e5309115cbc73a04"
 },
 "nbformat": 3,
 "nbformat_minor": 0,
 "worksheets": [
  {
   "cells": [
    {
     "cell_type": "heading",
     "level": 1,
     "metadata": {},
     "source": [
      "Chapter 2 : Uncertainty Principle and Schrodinger wave Equation"
     ]
    },
    {
     "cell_type": "heading",
     "level": 2,
     "metadata": {},
     "source": [
      "Example 2.1  Page No71"
     ]
    },
    {
     "cell_type": "code",
     "collapsed": false,
     "input": [
      "import math \n",
      "#given that\n",
      "del_x = 0.2 # Uncertainty in position in angstrom\n",
      "h = 6.63e-34 # Plank consmath.tant\n",
      "\n",
      "print \"Example 2.1\"\n",
      "h_bar = h / (2*math.pi) # consmath.tant\n",
      "del_p = h_bar/(2*del_x*1e-10) # Calculation of uncertainty in momentum\n",
      "print \" Uncertainty in momentum of particle is %e kgm/sec \"%(del_p)\n"
     ],
     "language": "python",
     "metadata": {},
     "outputs": [
      {
       "output_type": "stream",
       "stream": "stdout",
       "text": [
        "Example 2.1\n",
        " Uncertainty in momentum of particle is 2.637993e-24 kgm/sec \n"
       ]
      }
     ],
     "prompt_number": 2
    },
    {
     "cell_type": "heading",
     "level": 2,
     "metadata": {},
     "source": [
      "Example 2.2  Page No75"
     ]
    },
    {
     "cell_type": "code",
     "collapsed": false,
     "input": [
      "import math \n",
      "\n",
      "#given that\n",
      "del_x = 4e-10 # Uncertainty in position in m\n",
      "h = 6.63e-34 # Plank consmath.tant\n",
      "\n",
      "print \"Example 2.2\"\n",
      "h_bar = h / (2*math.pi) # consmath.tant\n",
      "del_p = h_bar/(2*del_x) # Calculation of uncertainty in momentum\n",
      "print \" Uncertainty in momentum of particle is %e kgm/sec.\"%(del_p)\n",
      "# Answer in book is given as 1.32e-23 kgm/sec\n"
     ],
     "language": "python",
     "metadata": {},
     "outputs": [
      {
       "output_type": "stream",
       "stream": "stdout",
       "text": [
        "Example 2.2\n",
        " Uncertainty in momentum of particle is 1.318997e-25 kgm/sec.\n"
       ]
      }
     ],
     "prompt_number": 3
    },
    {
     "cell_type": "heading",
     "level": 2,
     "metadata": {},
     "source": [
      "Example 2.3  Page No75"
     ]
    },
    {
     "cell_type": "code",
     "collapsed": false,
     "input": [
      "import math \n",
      " \n",
      "#given that\n",
      "v = 3e7 # Velocity of moving electron in m/s\n",
      "m = 9.1e-31 # mass of electron in kg\n",
      "h = 6.63e-34 # Plank consmath.tant\n",
      "c = 3e8 # speed of light in m/s\n",
      "print \"Example 2.3\"\n",
      "h_bar = h / (2*math.pi) # consmath.tant\n",
      "del_p = m*v/(math.sqrt(1-(v/c)**2)) # calculation of uncertainty in momentum\n",
      "del_x = h_bar/(2*del_p) # Calculation of uncertainty in position\n",
      "print \" Uncertainty in position of particle is %f angstrom.\"%(del_x*1e10)\n",
      "#Answer in book is 0.0194 angstrom which is due to umath.sing approximate values at intermediate steps\n",
      " \n"
     ],
     "language": "python",
     "metadata": {},
     "outputs": [
      {
       "output_type": "stream",
       "stream": "stdout",
       "text": [
        "Example 2.3\n",
        " Uncertainty in position of particle is 0.019229 angstrom.\n"
       ]
      }
     ],
     "prompt_number": 4
    },
    {
     "cell_type": "heading",
     "level": 2,
     "metadata": {},
     "source": [
      "Example 2.5  Page No80"
     ]
    },
    {
     "cell_type": "code",
     "collapsed": false,
     "input": [
      "import math \n",
      "#given that\n",
      "v = 1.05e4 # Velocity of moving electron in m/s\n",
      "v_error = 0.02 #Percentage error in measurement of velocity\n",
      "\n",
      "m = 9e-31 # mass of electron in kg\n",
      "h = 6.63e-34 # Plank consmath.tant\n",
      "print \"Example 2.5\"\n",
      "h_bar = h / (2*math.pi) # consmath.tant\n",
      "p = m*v\n",
      "del_p = v_error*p/100 # calculation of uncertainty in momentum\n",
      "del_x = h_bar/del_p\n",
      "print \" Uncertainty in position of particle is %e m.\"%(del_x)\n",
      "# Answer in book is given as 5.58e-3 m\n"
     ],
     "language": "python",
     "metadata": {},
     "outputs": [
      {
       "output_type": "stream",
       "stream": "stdout",
       "text": [
        "Example 2.5\n",
        " Uncertainty in position of particle is 5.583054e-05 m.\n"
       ]
      }
     ],
     "prompt_number": 5
    },
    {
     "cell_type": "heading",
     "level": 2,
     "metadata": {},
     "source": [
      "Example 2.6  Page No82"
     ]
    },
    {
     "cell_type": "code",
     "collapsed": false,
     "input": [
      "import math \n",
      "#given that\n",
      "v = 600 # Velocity of moving electron in m/s\n",
      "v_error = 0.005 #Percentage error in measurement of velocity\n",
      "m = 9.1e-31 # mass of electron in kg\n",
      "h = 6.63e-34 # Plank consmath.tant\n",
      "print \"Example 2.6\"\n",
      "h_bar = h / (2*math.pi) # consmath.tant\n",
      "p = m*v\n",
      "del_p = v_error*p/100 # calculation of uncertainty in momentum\n",
      "del_x = h_bar/(del_p) # Calculation of uncertainty in position\n",
      "print \" Uncertainty in position of particle is %e m.\"%(del_x)\n",
      "# Answer in book is 0.39e-2 m \n"
     ],
     "language": "python",
     "metadata": {},
     "outputs": [
      {
       "output_type": "stream",
       "stream": "stdout",
       "text": [
        "Example 2.6\n",
        " Uncertainty in position of particle is 3.865191e-03 m.\n"
       ]
      }
     ],
     "prompt_number": 7
    },
    {
     "cell_type": "heading",
     "level": 2,
     "metadata": {},
     "source": [
      "Example 2.7  Page No82"
     ]
    },
    {
     "cell_type": "code",
     "collapsed": false,
     "input": [
      "import math \n",
      "#given that\n",
      "del_x = 1 # let uncertainty in position is unity\n",
      "m_e = 9.1e-31 # mass of electron in kg\n",
      "m_p = 1.67e-27 # mass of proton in kg\n",
      "h = 6.63e-34 # Plank consmath.tant\n",
      "print \"Example 2.7\"\n",
      "h_bar = h / (2*math.pi) # consmath.tant\n",
      "del_v_ratio = m_p/m_e # calculation in uncertainties in the velocity of electron and proton\n",
      "print \" Ratio of uncertainties in the velocity of electron to proton is %d.\"%(del_v_ratio)\n"
     ],
     "language": "python",
     "metadata": {},
     "outputs": [
      {
       "output_type": "stream",
       "stream": "stdout",
       "text": [
        "Example 2.7\n",
        " Ratio of uncertainties in the velocity of electron to proton is 1835.\n"
       ]
      }
     ],
     "prompt_number": 8
    },
    {
     "cell_type": "heading",
     "level": 2,
     "metadata": {},
     "source": [
      "Example 2.8  Page No84"
     ]
    },
    {
     "cell_type": "code",
     "collapsed": false,
     "input": [
      "import math \n",
      "#given that\n",
      "r = 0.5 # radius of hydrogen atom in angstrom\n",
      "m_e = 9.1e-31 # mass of electron in kg\n",
      "h = 6.63e-34 # Plank consmath.tant\n",
      "print \"Example 2.8\"\n",
      "h_bar = h / (2*math.pi) # consmath.tant\n",
      "del_x = 2*r # calculation of uncertainty in position\n",
      "del_p = h_bar/(2*del_x*1e-10) # calculation of uncertainty in momentum\n",
      "p = del_p\n",
      "E = p**2/(2*m_e*1.6e-19)# Calculation of energy in eV\n",
      "print \" Kinetic energy needed by an electron to be  confined in electron is %.f eV.\"%((E*100)/100)\n",
      "\n"
     ],
     "language": "python",
     "metadata": {},
     "outputs": [
      {
       "output_type": "stream",
       "stream": "stdout",
       "text": [
        "Example 2.8\n",
        " Kinetic energy needed by an electron to be  confined in electron is 1 eV.\n"
       ]
      }
     ],
     "prompt_number": 11
    },
    {
     "cell_type": "heading",
     "level": 2,
     "metadata": {},
     "source": [
      "Example 2.9  Page No89"
     ]
    },
    {
     "cell_type": "code",
     "collapsed": false,
     "input": [
      "import math \n",
      "#given that\n",
      "v = 5e3 # Velocity of moving electron in m/s\n",
      "v_error = 0.003 #Percentage error in measurement of velocity\n",
      "\n",
      "m = 9.1e-31 # mass of electron in kg\n",
      "h = 6.63e-34 # Plank consmath.tant\n",
      "print \"Example 2.9\"\n",
      "h_bar = h / (2*math.pi) # consmath.tant\n",
      "p = m*v\n",
      "del_p = v_error*p/100 # calculation of uncertainty in momentum\n",
      "del_x = h_bar/(2*del_p) # Calculation of uncertainty in position\n",
      "print \" Uncertainty in position of particle is %e m.\"%(del_x)\n"
     ],
     "language": "python",
     "metadata": {},
     "outputs": [
      {
       "output_type": "stream",
       "stream": "stdout",
       "text": [
        "Example 2.9\n",
        " Uncertainty in position of particle is 3.865191e-04 m.\n"
       ]
      }
     ],
     "prompt_number": 12
    },
    {
     "cell_type": "heading",
     "level": 2,
     "metadata": {},
     "source": [
      "Example 2.10  Page No90"
     ]
    },
    {
     "cell_type": "code",
     "collapsed": false,
     "input": [
      "import math \n",
      " \n",
      "#given that\n",
      "r = 0.53 # radius of hydrogen atom in angstrom\n",
      "m_e = 9.1e-31 # mass of electron in kg\n",
      "h = 6.63e-34 # Plank consmath.tant\n",
      "print \"Example 2.10\"\n",
      "h_bar = h / (2*math.pi) # consmath.tant\n",
      "del_x = 2*r # calculation of uncertainty in position\n",
      "del_p = h_bar/(2*del_x*1e-10) # calculation of uncertainty in momentum\n",
      "p = del_p\n",
      "E = p**2/(2*m_e*1.6e-19)# Calculation of energy in eV\n",
      "print \" Kinetic energy needed by an electron to be  confined in electron is %f eV.\"%(E)\n",
      "# When problem is solved by del_x*del_p = h_bar, then minimum value of kinetic energy will become 13.6eV\n",
      "\n"
     ],
     "language": "python",
     "metadata": {},
     "outputs": [
      {
       "output_type": "stream",
       "stream": "stdout",
       "text": [
        "Example 2.10\n",
        " Kinetic energy needed by an electron to be  confined in electron is 0.850754 eV.\n"
       ]
      }
     ],
     "prompt_number": 13
    },
    {
     "cell_type": "heading",
     "level": 2,
     "metadata": {},
     "source": [
      "Example 2.11  Page No92"
     ]
    },
    {
     "cell_type": "code",
     "collapsed": false,
     "input": [
      "import math \n",
      " \n",
      "#given that\n",
      "del_t = 2.5e-14 # lifetime in exited state in micro sec\n",
      "h = 6.63e-34 # Plank consmath.tant\n",
      "print \"Example 2.11\"\n",
      "h_bar = h / (2*math.pi) # consmath.tant\n",
      "del_E = h_bar/(1.6e-19*del_t*1e-6) # calculation of uncertainty in momentum\n",
      "print \" Minimum error in measurement of energy of this state is %e eV.\"%(del_E)\n",
      "\n"
     ],
     "language": "python",
     "metadata": {},
     "outputs": [
      {
       "output_type": "stream",
       "stream": "stdout",
       "text": [
        "Example 2.11\n",
        " Minimum error in measurement of energy of this state is 2.637993e+04 eV.\n"
       ]
      }
     ],
     "prompt_number": 14
    },
    {
     "cell_type": "heading",
     "level": 2,
     "metadata": {},
     "source": [
      "Example 2.12  Page No92"
     ]
    },
    {
     "cell_type": "code",
     "collapsed": false,
     "input": [
      "import math \n",
      " \n",
      "#given that\n",
      "E_eV = 0.5# kinetic energy of electron in KeV\n",
      "del_x = 0.4 # Uncertainty in position in nm\n",
      "h = 6.63e-34 # Plank consmath.tant\n",
      "m = 9.1e-31 # mass of electron in kg\n",
      "print \"Example 2.12\"\n",
      "h_bar = h / (2*math.pi) # consmath.tant\n",
      "E_J = E_eV*1e3*1.6e-19\n",
      "p = math.sqrt(2*m*E_J) # Calculation of momentum in kgm/s\n",
      "del_p = h_bar/(2*del_x*1e-9) # Calculation of uncertainty in momentum\n",
      "per_error = del_p*100 / p # calculation of percentage error in momentum\n",
      "print \" Percentage error in momentum is %f percent.\"%(per_error)\n",
      "# Answer in book is 1.08 percentage\n"
     ],
     "language": "python",
     "metadata": {},
     "outputs": [
      {
       "output_type": "stream",
       "stream": "stdout",
       "text": [
        "Example 2.12\n",
        " Percentage error in momentum is 1.093108 percent.\n"
       ]
      }
     ],
     "prompt_number": 15
    },
    {
     "cell_type": "heading",
     "level": 2,
     "metadata": {},
     "source": [
      "Example 2.13  Page No95"
     ]
    },
    {
     "cell_type": "code",
     "collapsed": false,
     "input": [
      "import math \n",
      " \n",
      "#given that\n",
      "del_x = 2e-9 # Uncertainty in position in m\n",
      "h = 6.63e-34 # Plank consmath.tant\n",
      "m = 9.1e-31 # mass of electron in Kg\n",
      "print \"Example 2.13\"\n",
      "h_bar = h / (2*math.pi) # consmath.tant\n",
      "del_p = h_bar/(2*del_x) # Calculation of uncertainty in momentum\n",
      "del_v = del_p/m\n",
      "print \" Uncertainty in velocity of particle is %e m/s.\"%(del_v)\n"
     ],
     "language": "python",
     "metadata": {},
     "outputs": [
      {
       "output_type": "stream",
       "stream": "stdout",
       "text": [
        "Example 2.13\n",
        " Uncertainty in velocity of particle is 2.898894e+04 m/s.\n"
       ]
      }
     ],
     "prompt_number": 17
    },
    {
     "cell_type": "heading",
     "level": 2,
     "metadata": {},
     "source": [
      "Example 2.15  Page No97"
     ]
    },
    {
     "cell_type": "code",
     "collapsed": false,
     "input": [
      "import math \n",
      " \n",
      "#given that\n",
      "del_x = 5000 # Uncertainty in position in angstrom\n",
      "h = 6.63e-34 # Plank consmath.tant\n",
      "m = 200 # mass of ball in gram\n",
      "v = 6 # velocity of moving ball in m/s\n",
      "print \"Example 2.15\"\n",
      "h_bar = h / (2*math.pi) # consmath.tant\n",
      "del_p = h_bar/(2*del_x*1e-10) # Calculation of uncertainty in momentum\n",
      "p = m*v/1000 # Calculation of momentum\n",
      "per_error = del_p*100/p # Calculation of percentage error in calculation of momentum\n",
      "print \" Uncertainty in momentum of ball is %e kgm/s.\"%(del_p)\n",
      "print \" Percentage error in calculation of momentum is %e.\"%(per_error)\n",
      "\n"
     ],
     "language": "python",
     "metadata": {},
     "outputs": [
      {
       "output_type": "stream",
       "stream": "stdout",
       "text": [
        "Example 2.15\n",
        " Uncertainty in momentum of ball is 1.055197e-28 kgm/s.\n",
        " Percentage error in calculation of momentum is 1.055197e-26.\n"
       ]
      }
     ],
     "prompt_number": 18
    },
    {
     "cell_type": "heading",
     "level": 2,
     "metadata": {},
     "source": [
      "Example 2.16  Page No98"
     ]
    },
    {
     "cell_type": "code",
     "collapsed": false,
     "input": [
      "import math \n",
      " \n",
      "#given that\n",
      "c = 3e8 # speed of light in m/s\n",
      "v = c/10 # Velocity of moving proton in m/s\n",
      "v_error = 1 # Percentage error in measurement of velocity \n",
      "m = 1.67e-27 # mass of electron in kg\n",
      "h = 6.63e-34 # Plank consmath.tant\n",
      "\n",
      "print \"Example 2.16\"\n",
      "h_bar = h / (2*math.pi) # consmath.tant\n",
      "del_v = v*v_error/100# calculation of uncertainty in position\n",
      "del_x = h_bar/(2*m*del_v) # calculation of uncertainty in momentum\n",
      "print \" Uncertainty in position of particle is %e m.\"%(del_x)\n",
      "# Answer in book is 1.04e-13 m\n"
     ],
     "language": "python",
     "metadata": {},
     "outputs": [
      {
       "output_type": "stream",
       "stream": "stdout",
       "text": [
        "Example 2.16\n",
        " Uncertainty in position of particle is 1.053091e-13 m.\n"
       ]
      }
     ],
     "prompt_number": 19
    },
    {
     "cell_type": "heading",
     "level": 2,
     "metadata": {},
     "source": [
      "Example 2.17  Page No98"
     ]
    },
    {
     "cell_type": "code",
     "collapsed": false,
     "input": [
      "import math \n",
      " \n",
      "#given that\n",
      "del_x = 1e-9 # Uncertainty in position in m\n",
      "h = 6.63e-34 # Plank consmath.tant\n",
      "m = 200 # mass of ball in gram\n",
      "print \"Example 2.17\"\n",
      "h_bar = h / (2*math.pi) # consmath.tant\n",
      "del_v = h_bar/(2*del_x*m/1000) # Calculation of uncertainty in momentum\n",
      "print \" Uncertainty in velocity of ball is %e m/s.\"%(del_v)\n",
      "# Answer in book is 2.64e-25 m/s\n"
     ],
     "language": "python",
     "metadata": {},
     "outputs": [
      {
       "output_type": "stream",
       "stream": "stdout",
       "text": [
        "Example 2.17\n",
        " Uncertainty in velocity of ball is 2.637993e-25 m/s.\n"
       ]
      }
     ],
     "prompt_number": 20
    },
    {
     "cell_type": "heading",
     "level": 2,
     "metadata": {},
     "source": [
      "Example 2.18  Page No102"
     ]
    },
    {
     "cell_type": "code",
     "collapsed": false,
     "input": [
      "import math \n",
      "#given that\n",
      "del_t = 2e-12 # lifetime of exited state in  sec\n",
      "h = 6.63e-34 # Plank consmath.tant\n",
      "print \"Example 2.18\"\n",
      "h_bar = h / (2*math.pi) # consmath.tant\n",
      "del_E = h_bar/(1.6e-19*2*del_t) # calculation of uncertainty in momentum\n",
      "print \" Minimum error in measurement of energy of this state is %e eV.\"%(del_E)\n",
      "# Answer in book is 1.65e-4 eV\n",
      "\n",
      "\n",
      " \n"
     ],
     "language": "python",
     "metadata": {},
     "outputs": [
      {
       "output_type": "stream",
       "stream": "stdout",
       "text": [
        "Example 2.18\n",
        " Minimum error in measurement of energy of this state is 1.648746e-04 eV.\n"
       ]
      }
     ],
     "prompt_number": 21
    },
    {
     "cell_type": "heading",
     "level": 2,
     "metadata": {},
     "source": [
      "Example 2.19  Page No107"
     ]
    },
    {
     "cell_type": "code",
     "collapsed": false,
     "input": [
      "import math \n",
      "#given that\n",
      "del_t = 1e-8 # lifetime of exited state in  sec\n",
      "h = 6.63e-34 # Plank consmath.tant\n",
      "print \"Example 2.19\"\n",
      "h_bar = h / (2*math.pi) # consmath.tant\n",
      "del_nu = h_bar/(2*del_t*h) # calculation of uncertainty in frequency\n",
      "print \" Minimum error in measurement of  frequency of photon is %e per second.\"%(del_nu)\n",
      "# Answer in book is 8e6 per second\n"
     ],
     "language": "python",
     "metadata": {},
     "outputs": [
      {
       "output_type": "stream",
       "stream": "stdout",
       "text": [
        "Example 2.19\n",
        " Minimum error in measurement of  frequency of photon is 7.957747e+06 per second.\n"
       ]
      }
     ],
     "prompt_number": 22
    },
    {
     "cell_type": "heading",
     "level": 2,
     "metadata": {},
     "source": [
      "Example 2.20  Page No108"
     ]
    },
    {
     "cell_type": "code",
     "collapsed": false,
     "input": [
      "import math \n",
      "#given that\n",
      "del_v = 5.5e-20 # Uncertainty in velocity in m/s\n",
      "h = 6.63e-34 # Plank consmath.tant\n",
      "m = 1 # mass of dust particle in mg\n",
      "print \"Example 2.20\"\n",
      "h_bar = h / (2*math.pi) # consmath.tant\n",
      "del_x = h_bar/(2*del_v*m*1e-6) # Calculation of uncertainty in momentum\n",
      "print \" Uncertainty in position of ball is %f angstrom.\"%(del_x*1e10)\n",
      "# Answer in book is 9.6 angstrom\n",
      "\n"
     ],
     "language": "python",
     "metadata": {},
     "outputs": [
      {
       "output_type": "stream",
       "stream": "stdout",
       "text": [
        "Example 2.20\n",
        " Uncertainty in position of ball is 9.592702 angstrom.\n"
       ]
      }
     ],
     "prompt_number": 23
    },
    {
     "cell_type": "heading",
     "level": 2,
     "metadata": {},
     "source": [
      "Example 2.21  Page No110"
     ]
    },
    {
     "cell_type": "code",
     "collapsed": false,
     "input": [
      "import math \n",
      "\n",
      " \n",
      "#given that\n",
      "l = 1 # width of potential well in angstrom\n",
      "n = 1 # order corresponding to ground state\n",
      "h = 6.63e-34 # Plank consmath.tant\n",
      "m = 9.1e-31 # mass of electron in Kg\n",
      "print \"Example 2.21\"\n",
      "E = n**2*h**2/(8*m*(l*1e-10)**2) # Calculation of energy in Joule\n",
      "E_eV = E/1.6e-19 # Calculation of energy in eV\n",
      "\n",
      "print \" Energy of electron is %f eV.\"%(E_eV)\n",
      "# Answer in book is 37.74 eV angstrom\n"
     ],
     "language": "python",
     "metadata": {},
     "outputs": [
      {
       "output_type": "stream",
       "stream": "stdout",
       "text": [
        "Example 2.21\n",
        " Energy of electron is 37.737723 eV.\n"
       ]
      }
     ],
     "prompt_number": 24
    },
    {
     "cell_type": "heading",
     "level": 2,
     "metadata": {},
     "source": [
      "Example 2.24  Page No113"
     ]
    },
    {
     "cell_type": "code",
     "collapsed": false,
     "input": [
      "import math \n",
      " \n",
      "#given that\n",
      "l = 2.5e-10 # width of potential well in m\n",
      "h = 6.63e-34 # Plank consmath.tant\n",
      "m = 9.1e-31 # mass of electron in Kg\n",
      "print \"Example 2.24\"\n",
      "for n in range(1,3):\n",
      "    E = n**2*h**2/(8*m*l**2) # Calculation of energy in Joule\n",
      "    E_eV = E/1.6e-19 # Calculation of energy in eV\n",
      "    print \" Energy of electron for state %d is %f eV.\"%(n,E_eV);\n",
      "\n"
     ],
     "language": "python",
     "metadata": {},
     "outputs": [
      {
       "output_type": "stream",
       "stream": "stdout",
       "text": [
        "Example 2.24\n",
        " Energy of electron for state 1 is 6.038036 eV.\n",
        " Energy of electron for state 2 is 24.152143 eV.\n"
       ]
      }
     ],
     "prompt_number": 33
    },
    {
     "cell_type": "heading",
     "level": 2,
     "metadata": {},
     "source": [
      "Example 2.26  Page No117"
     ]
    },
    {
     "cell_type": "code",
     "collapsed": false,
     "input": [
      "import math \n",
      "# given that\n",
      "L = 1# let unit length\n",
      "l1 = 0.45*L # initial point\n",
      "l2 = 0.55*L # Final point\n",
      "\n",
      "\n",
      "print \"Example 2.26 \"\n",
      "p = (1/L)*((l2-(L/(2*math.pi) *math.sin(2*l2*math.pi/L)))- (l1-(L/(2*math.pi) *math.sin(2*l1*math.pi/L)))) # Calculation of probability of finding particle\n",
      "p_per = p*100 # probability of finding particle in percentage\n",
      "print \" Probability of finding electron between  %fL and %fL is %f percent.\"%(l2,l1,p_per)\n"
     ],
     "language": "python",
     "metadata": {},
     "outputs": [
      {
       "output_type": "stream",
       "stream": "stdout",
       "text": [
        "Example 2.26 \n",
        " Probability of finding electron between  0.550000L and 0.450000L is 19.836316 percent.\n"
       ]
      }
     ],
     "prompt_number": 30
    },
    {
     "cell_type": "heading",
     "level": 2,
     "metadata": {},
     "source": [
      "Example 2.27  Page No117"
     ]
    },
    {
     "cell_type": "code",
     "collapsed": false,
     "input": [
      "import math \n",
      "\n",
      " \n",
      "#given that\n",
      "l = 1e-8 # width of potential well in cm\n",
      "h = 6.63e-34 # Plank consmath.tant\n",
      "m = 9.1e-31 # mass of electron in Kg\n",
      "print \"Example 2.27\"\n",
      "E_1 = (h)**2/(8*m*(l*1e-2)**2) # Calculation of energy of ground state in Joule\n",
      "E_1_eV = E_1/1.6e-19 # Calculation of energy in eV\n",
      "E_2 = (2)**2*h**2/(8*m*(l*1e-2)**2) # Calculation of energy of first state in Joule\n",
      "E_2_eV = E_2/1.6e-19 # Calculation of energy in eV\n",
      "del_E = E_2_eV - E_1_eV # calculation of difference between first state and ground state\n",
      "print \" Difference between first state  and ground state energies is %f eV.\"%(del_E);\n",
      "# Answer in book is 113.04 eV\n",
      "\n"
     ],
     "language": "python",
     "metadata": {},
     "outputs": [
      {
       "output_type": "stream",
       "stream": "stdout",
       "text": [
        "Example 2.27\n",
        " Difference between first state  and ground state energies is 113.213170 eV.\n"
       ]
      }
     ],
     "prompt_number": 31
    },
    {
     "cell_type": "heading",
     "level": 2,
     "metadata": {},
     "source": [
      "Example 2.28  Page No121"
     ]
    },
    {
     "cell_type": "code",
     "collapsed": false,
     "input": [
      "import math \n",
      " \n",
      "#given that\n",
      "l = 1 # width of potential well in angstrom\n",
      "h = 6.63e-34 # Plank consmath.tant\n",
      "m = 9.1e-31 # mass of electron in Kg\n",
      "print \"Example 2.28\"\n",
      "for n in range(1,4):\n",
      "    lambda1 = 2.*l/n # Calculation of wavelength\n",
      "    E = n**2*h**2/(8*m*(l*1e-10)**2) # Calculation of energy in Joule\n",
      "    E_eV = E/1.6e-19 # Calculation of energy in eV\n",
      "    print \" For state:%d  Energy is %f eV & wavelength is %f angstrom \"%(n,E_eV,lambda1);\n",
      "\n"
     ],
     "language": "python",
     "metadata": {},
     "outputs": [
      {
       "output_type": "stream",
       "stream": "stdout",
       "text": [
        "Example 2.28\n",
        " For state:1  Energy is 37.737723 eV & wavelength is 2.000000 angstrom \n",
        " For state:2  Energy is 150.950893 eV & wavelength is 1.000000 angstrom \n",
        " For state:3  Energy is 339.639509 eV & wavelength is 0.666667 angstrom \n"
       ]
      }
     ],
     "prompt_number": 32
    },
    {
     "cell_type": "heading",
     "level": 2,
     "metadata": {},
     "source": [
      "Example 2.29  Page No122"
     ]
    },
    {
     "cell_type": "code",
     "collapsed": false,
     "input": [
      "import math \n",
      " \n",
      "#given that\n",
      "m = 100 #mass of ball in gram\n",
      "l = 1 # length of box in m\n",
      "h = 6.63e-34 # Plank consmath.tant\n",
      "print \"Example 2.29\"\n",
      "for n in range(1,4):\n",
      "    E = (n**2*h**2)/(8*m*1e-3*l**2*1.6e-19)\n",
      "    print \"  Energy state  E%d of ball is %e eV\"%(n,E)\n",
      "\n",
      "print \" As energy difference is very small so we cannot see energy states.\"\n"
     ],
     "language": "python",
     "metadata": {},
     "outputs": [
      {
       "output_type": "stream",
       "stream": "stdout",
       "text": [
        "Example 2.29\n",
        "  Energy state  E1 of ball is 3.434133e-48 eV\n",
        "  Energy state  E2 of ball is 1.373653e-47 eV\n",
        "  Energy state  E3 of ball is 3.090720e-47 eV\n",
        " As energy difference is very small so we cannot see energy states.\n"
       ]
      }
     ],
     "prompt_number": 34
    },
    {
     "cell_type": "heading",
     "level": 2,
     "metadata": {},
     "source": [
      "Example 2.30  Page No124"
     ]
    },
    {
     "cell_type": "code",
     "collapsed": false,
     "input": [
      "import math \n",
      " \n",
      "#given that\n",
      "l = 30. # width of potential well in angstrom\n",
      "x = l/2\n",
      "del_x = 2 # interval of length at centre in angstrom\n",
      "h = 6.63e-34 # Plank consmath.tant\n",
      "n = 1 # ground state\n",
      "print \"Example 2.30\"\n",
      "phi_x = ((math.sqrt(2/l))*math.sin(n*math.pi*x/l))**2 \n",
      "p = phi_x*del_x # Calculation of probability at centre\n",
      "print \" Probability of finding particle at centre is %d percent.\"%(p*100)\n",
      "# Answer given in book is 16 percent. It is due to wrong calculation \n"
     ],
     "language": "python",
     "metadata": {},
     "outputs": [
      {
       "output_type": "stream",
       "stream": "stdout",
       "text": [
        "Example 2.30\n",
        " Probability of finding particle at centre is 13 percent.\n"
       ]
      }
     ],
     "prompt_number": 37
    }
   ],
   "metadata": {}
  }
 ]
}