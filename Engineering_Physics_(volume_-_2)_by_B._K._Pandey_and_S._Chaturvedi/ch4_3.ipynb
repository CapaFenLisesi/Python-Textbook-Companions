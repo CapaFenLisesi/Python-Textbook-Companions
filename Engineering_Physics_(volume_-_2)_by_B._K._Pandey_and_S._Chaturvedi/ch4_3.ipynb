{
 "metadata": {
  "name": "",
  "signature": "sha256:98a33103545b2365c3949736414c5684c66408433d883a4d0f1b451b5a78b395"
 },
 "nbformat": 3,
 "nbformat_minor": 0,
 "worksheets": [
  {
   "cells": [
    {
     "cell_type": "heading",
     "level": 1,
     "metadata": {},
     "source": [
      "Chapter 4 : Dielectrics"
     ]
    },
    {
     "cell_type": "heading",
     "level": 2,
     "metadata": {},
     "source": [
      "Example 4.4  Page No177"
     ]
    },
    {
     "cell_type": "code",
     "collapsed": false,
     "input": [
      "import math \n",
      "\n",
      "#Given that\n",
      "epsilon_r = 1.000074 # Dielectric consmath.tant of He at 0C and 1atm\n",
      "epsilon_0 = 8.854e-12 # Permittivity of free space\n",
      "E = 100 # Electric field in V/m\n",
      "n = 2.68e27 # Electron density in no,/m**\n",
      "N_a = 6e23 # Avogadro number\n",
      "V = 22.4 # Volume at STP in litter\n",
      "print \"Example 4.4\"\n",
      "P = epsilon_0*(epsilon_r-1)*E # Calculation of polarization\n",
      "\n",
      "N = N_a/(V*1e-3)# Calculation of total number of atoms\n",
      "p = P/N # dipole moment per atom\n",
      "print \" Dipole moment per atom is %e Coulomb-meter \"%(p)\n",
      "# Answer in book is in different form and as 24.45e-40 coulomb-meter\n"
     ],
     "language": "python",
     "metadata": {},
     "outputs": [
      {
       "output_type": "stream",
       "stream": "stdout",
       "text": [
        "Example 4.4\n",
        " Dipole moment per atom is 2.446065e-39 Coulomb-meter \n"
       ]
      }
     ],
     "prompt_number": 1
    },
    {
     "cell_type": "heading",
     "level": 2,
     "metadata": {},
     "source": [
      "Example 4.6  Page No181"
     ]
    },
    {
     "cell_type": "code",
     "collapsed": false,
     "input": [
      "import math \n",
      "\n",
      "#Given that\n",
      "r = 0.055 # Radius of hydrogen atom in nm\n",
      "n = 9.8e26 # Number of atoms/cc\n",
      "\n",
      "epsilon_0 = 8.854e-12 # Permittivity of free space\n",
      "\n",
      "print \"Example 4.6\"\n",
      "alpha_e = 4*math.pi*epsilon_0*(r*1e-9)**3 # Calculation of electronic polarisability\n",
      "epsilon_r = 1+n*alpha_e/epsilon_0 # Calculation of relative permeability\n",
      "\n",
      "print \" Electronic polarisability is %e Fm**2  Relative permeability is %f \"%(alpha_e,epsilon_r)\n",
      "\n",
      "\n",
      " \n"
     ],
     "language": "python",
     "metadata": {},
     "outputs": [
      {
       "output_type": "stream",
       "stream": "stdout",
       "text": [
        "Example 4.6\n",
        " Electronic polarisability is 1.851132e-41 Fm**2  Relative permeability is 1.002049 \n"
       ]
      }
     ],
     "prompt_number": 3
    },
    {
     "cell_type": "heading",
     "level": 2,
     "metadata": {},
     "source": [
      "Example 4.8  Page No182"
     ]
    },
    {
     "cell_type": "code",
     "collapsed": false,
     "input": [
      "import math \n",
      " \n",
      "#Given that\n",
      "epsilon_0 = 8.854e-12 # Permittivity of free space\n",
      "E = 2000 # Electric field in V/m\n",
      "P = 6.4e-8 # Polarization in C/m**2\n",
      "print \"Example 4.8\"\n",
      "epsilon_r = 1+ P/(epsilon_0*E) # Calculation of relative permittivity\n",
      "\n",
      "print \" Relative permittivity is %f\"%(epsilon_r)\n",
      "\n",
      " \n"
     ],
     "language": "python",
     "metadata": {},
     "outputs": [
      {
       "output_type": "stream",
       "stream": "stdout",
       "text": [
        "Example 4.8\n",
        " Relative permittivity is 4.614186\n"
       ]
      }
     ],
     "prompt_number": 4
    },
    {
     "cell_type": "heading",
     "level": 2,
     "metadata": {},
     "source": [
      "Example 4.9  Page No183"
     ]
    },
    {
     "cell_type": "code",
     "collapsed": false,
     "input": [
      "import math \n",
      "\n",
      "#Given that\n",
      "alpha_e = 2e-40 # Electronic polarisability in Fm**2\n",
      "N = 4e28 # density in atoms/m**3\n",
      "epsilon_0 = 8.85e-12 # Permittivity of free space\n",
      "\n",
      "print \"Example 4.9\"\n",
      "epsilon_r = 1+ N*alpha_e/(epsilon_0) # Calculation of relative permittivity\n",
      "print \" Relative permittivity is %f\"%(epsilon_r)\n",
      "\n"
     ],
     "language": "python",
     "metadata": {},
     "outputs": [
      {
       "output_type": "stream",
       "stream": "stdout",
       "text": [
        "Example 4.9\n",
        " Relative permittivity is 1.903955\n"
       ]
      }
     ],
     "prompt_number": 5
    },
    {
     "cell_type": "heading",
     "level": 2,
     "metadata": {},
     "source": [
      "Example 4.10  Page No188"
     ]
    },
    {
     "cell_type": "code",
     "collapsed": false,
     "input": [
      "import math \n",
      "#Given that\n",
      "epsilon = 2.4e-10 # permitivity of a  dielectric material in C**2/N?m**2\n",
      "epsilon_0 = 8.854e-12 # Permittivity of free space\n",
      "\n",
      "print \"Example 4.10\"\n",
      "K = epsilon/epsilon_0  # Calculation of dielectric consmath.tant \n",
      "zai_e = epsilon_0*(K-1) # Calculation of electrical susceptibility \n",
      "\n",
      "print \" Relative permittivity is %f\"%(K)\n",
      "print \" Electrical susceptibility is %e C**2/Nm**2\"%(zai_e)\n",
      "\n"
     ],
     "language": "python",
     "metadata": {},
     "outputs": [
      {
       "output_type": "stream",
       "stream": "stdout",
       "text": [
        "Example 4.10\n",
        " Relative permittivity is 27.106393\n",
        " Electrical susceptibility is 2.311460e-10 C**2/Nm**2\n"
       ]
      }
     ],
     "prompt_number": 6
    },
    {
     "cell_type": "heading",
     "level": 2,
     "metadata": {},
     "source": [
      "Example 4.11  Page No189"
     ]
    },
    {
     "cell_type": "code",
     "collapsed": false,
     "input": [
      "import math \n",
      "\n",
      "#Given that\n",
      "V = 100 # Applied potential in Volt\n",
      "d = 1 # Separation between plates in cm\n",
      "k1 = 8 # Dielectric consmath.tant\n",
      "k2 = 9 #dielectric consmath.tant\n",
      "epsilon_0 = 8.854e-12 # Permittivity of free space\n",
      "\n",
      "print \"Example 4.11\"\n",
      "E_0 = V/(d*1e-2) # Calculation of electric field\n",
      "E = E_0/k1*k2 # Calculation of electric field\n",
      "D = k1*epsilon_0*E # Calculation of electrical print lacement vector\n",
      "P = (k1-1)*epsilon_0*E  # Calculation of electrical polarization \n",
      "\n",
      "print \" Magnitude of Electrical vector is %e Volt/meter\"%(E) # Answer in book is 1.125e3 Volt/meter\n",
      "\n",
      "print \" Magnitude of Electrical Displacement vector is %e C/m**2\"%(D)# Answer in book is 8.85e-8C/m**2\n",
      "\n",
      "print \" Magnitude of Electric polarization vector is %e C/m**2\"%(P)# Answer in book is 7.774e-8C/m**2\n"
     ],
     "language": "python",
     "metadata": {},
     "outputs": [
      {
       "output_type": "stream",
       "stream": "stdout",
       "text": [
        "Example 4.11\n",
        " Magnitude of Electrical vector is 1.125000e+04 Volt/meter\n",
        " Magnitude of Electrical Displacement vector is 7.968600e-07 C/m**2\n",
        " Magnitude of Electric polarization vector is 6.972525e-07 C/m**2\n"
       ]
      }
     ],
     "prompt_number": 7
    },
    {
     "cell_type": "heading",
     "level": 2,
     "metadata": {},
     "source": [
      "Example 4.12  Page No189"
     ]
    },
    {
     "cell_type": "code",
     "collapsed": false,
     "input": [
      "import math \n",
      "\n",
      "#Given that\n",
      "alpha_300 = 2.5e-39 # total polarisability in C**2m/N at 300 K\n",
      "alpha_600 = 1.75e-39 # total polarisability in C**2m/N at 600 K\n",
      "T1 = 300 # Initial temperature in Kelvin\n",
      "T2 = 600 # Final Temperature in Kelvin\n",
      "print \"Example 4.12\"\n",
      "b = (alpha_300-alpha_600)*T2\n",
      "al_def_300 = alpha_300 - b/300\n",
      "al_oriant_300 = b/300\n",
      "al_oriant_600 = b/600\n",
      "print \" Deformational Polarizability is %e C**2mN**-1\"%(al_def_300)\n",
      "print \" Orientational Polarizability at %d degree Celcius is %e C**2mN**-1\"%(T1,al_oriant_300)\n",
      "print \" Orientational Polarizability at %d degree Celcius is %e C**2mN**-1\"%(T2,al_oriant_600)\n"
     ],
     "language": "python",
     "metadata": {},
     "outputs": [
      {
       "output_type": "stream",
       "stream": "stdout",
       "text": [
        "Example 4.12\n",
        " Deformational Polarizability is 1.000000e-39 C**2mN**-1\n",
        " Orientational Polarizability at 300 degree Celcius is 1.500000e-39 C**2mN**-1\n",
        " Orientational Polarizability at 600 degree Celcius is 7.500000e-40 C**2mN**-1\n"
       ]
      }
     ],
     "prompt_number": 9
    },
    {
     "cell_type": "heading",
     "level": 2,
     "metadata": {},
     "source": [
      "Example 4.13  Page No189"
     ]
    },
    {
     "cell_type": "code",
     "collapsed": false,
     "input": [
      "import math \n",
      " \n",
      "#Given that\n",
      "alpha_e = 1.5e-40 # Electronic polarizability in Fm**2\n",
      "N = 4e28 # density in atoms/m**3\n",
      "epsilon_0 = 8.85e-12 # Permittivity of free space\n",
      "\n",
      "print \"Example 4.13\"\n",
      "k = N*alpha_e/(3*epsilon_0)\n",
      "epsilon_r = (1+ k*2)/(1-k)# Calculation of relative permittivity\n",
      "print \" Relative permittivity is %f\"%(epsilon_r)\n",
      "\n"
     ],
     "language": "python",
     "metadata": {},
     "outputs": [
      {
       "output_type": "stream",
       "stream": "stdout",
       "text": [
        "Example 4.13\n",
        " Relative permittivity is 1.875912\n"
       ]
      }
     ],
     "prompt_number": 10
    },
    {
     "cell_type": "heading",
     "level": 2,
     "metadata": {},
     "source": [
      "Example 4.14  Page No191"
     ]
    },
    {
     "cell_type": "code",
     "collapsed": false,
     "input": [
      "import math \n",
      " \n",
      "#Given that\n",
      "m = 32 # Atomic weight of sulphur\n",
      "d = 2.08 # Density in g/cm**3\n",
      "alpha_e = 3.5e-40 # Electronic polarizability in Fm**2\n",
      "N_a = 6.022e23 # Avogadro Number\n",
      "epsilon_0 = 8.85e-12 # Permittivity of free space\n",
      "\n",
      "print \"Example 4.14\"\n",
      "N = N_a*d*1e6/m # Calculation of Atoms per unit \n",
      "k = N*alpha_e/(3*epsilon_0)\n",
      "\n",
      "epsilon_r = (1+ k*2)/(1-k)# Calculation of relative permittivity\n",
      "print \" Relative permittivity is %f\"%(epsilon_r)\n",
      "# Answer in book is 4.17\n"
     ],
     "language": "python",
     "metadata": {},
     "outputs": [
      {
       "output_type": "stream",
       "stream": "stdout",
       "text": [
        "Example 4.14\n",
        " Relative permittivity is 4.198468\n"
       ]
      }
     ],
     "prompt_number": 11
    },
    {
     "cell_type": "heading",
     "level": 2,
     "metadata": {},
     "source": [
      "Example 4.15  Page No191"
     ]
    },
    {
     "cell_type": "code",
     "collapsed": false,
     "input": [
      "import math \n",
      " \n",
      "#Given that\n",
      "n = 1.5 # Refractive index\n",
      "epsilon = 5.6 # Static dielectric consmath.tant\n",
      "print \"Example 4.15\"\n",
      "per = (1-((n**2-1)/(n**2+2))*(epsilon+2)/(epsilon-1))*100 # Pecentage ionic polarisability\n",
      "print \" Percentage ionic polarizability is %f pecent\"%(per)\n",
      "# Answer in book is 5.14 %\n"
     ],
     "language": "python",
     "metadata": {},
     "outputs": [
      {
       "output_type": "stream",
       "stream": "stdout",
       "text": [
        "Example 4.15\n",
        " Percentage ionic polarizability is 51.406650 pecent\n"
       ]
      }
     ],
     "prompt_number": 12
    },
    {
     "cell_type": "heading",
     "level": 2,
     "metadata": {},
     "source": [
      "Example 4.16  Page No195"
     ]
    },
    {
     "cell_type": "code",
     "collapsed": false,
     "input": [
      "import math \n",
      "\n",
      " \n",
      "#Given that\n",
      "m = 32 # Atomic weight of sulphur\n",
      "d = 2050 # Density in Kg/m**3\n",
      "N_a = 6.022e23 # Avogadro Number\n",
      "epsilon_0 = 8.85e-12 # Permittivity of free space\n",
      "epsilon_r = 3.75 # Dielectric consmath.tant of sulphur\n",
      "\n",
      "print \"Example 4.16\"\n",
      "N = N_a*d*1e3/m # Calculation of Atoms per unit \n",
      "alpha_e = 3*epsilon_0*((epsilon_r-1)/(epsilon_r+2)) / N \n",
      "\n",
      "\n",
      "print \" Electronic polarizability  is %e Fm**2\"%(alpha_e)\n"
     ],
     "language": "python",
     "metadata": {},
     "outputs": [
      {
       "output_type": "stream",
       "stream": "stdout",
       "text": [
        "Example 4.16\n",
        " Electronic polarizability  is 3.291431e-40 Fm**2\n"
       ]
      }
     ],
     "prompt_number": 13
    },
    {
     "cell_type": "heading",
     "level": 2,
     "metadata": {},
     "source": [
      "Example 4.17  Page No199"
     ]
    },
    {
     "cell_type": "code",
     "collapsed": false,
     "input": [
      "import math \n",
      "\n",
      "#Given that\n",
      "n = 1.5 # Refractive index\n",
      "epsilon = 4. # Static dielectric consmath.tant\n",
      "epsilon_0 = 8.85e-12 # permittivity of free space\n",
      "print \"Example 4.17\"\n",
      "k1 = (epsilon-1)/(epsilon+2)\n",
      "k2 = (n**2-1)/(n**2+2)\n",
      "ratio = 1./((k1/k2)-1) \n",
      "print \" Ratio of electronic to ionic polarizability is %.2f .\"%(ratio)\n"
     ],
     "language": "python",
     "metadata": {},
     "outputs": [
      {
       "output_type": "stream",
       "stream": "stdout",
       "text": [
        "Example 4.17\n",
        " Ratio of electronic to ionic polarizability is 1.43 .\n"
       ]
      }
     ],
     "prompt_number": 16
    },
    {
     "cell_type": "heading",
     "level": 2,
     "metadata": {},
     "source": [
      "Example 4.18  Page No202"
     ]
    },
    {
     "cell_type": "code",
     "collapsed": false,
     "input": [
      "import math \n",
      "\n",
      "#Given that\n",
      "t = 1.8e-5 # Relaxation time in second\n",
      "epsilon_r = 1 # let\n",
      "print \"Example 4.18\"\n",
      "f = 1./(2*math.pi*t) # Calculation of frequency\n",
      "delta = math.atan(epsilon_r/epsilon_r)\n",
      "phi = 90 - delta*180/math.pi # Calculation of phase difference\n",
      "print \" Frequency is %f KHz\"%(f/1e3)\n",
      "print \" Phase difference between current and voltage is %d degree.\"%(phi)\n"
     ],
     "language": "python",
     "metadata": {},
     "outputs": [
      {
       "output_type": "stream",
       "stream": "stdout",
       "text": [
        "Example 4.18\n",
        " Frequency is 8.841941 KHz\n",
        " Phase difference between current and voltage is 45 degree.\n"
       ]
      }
     ],
     "prompt_number": 18
    }
   ],
   "metadata": {}
  }
 ]
}