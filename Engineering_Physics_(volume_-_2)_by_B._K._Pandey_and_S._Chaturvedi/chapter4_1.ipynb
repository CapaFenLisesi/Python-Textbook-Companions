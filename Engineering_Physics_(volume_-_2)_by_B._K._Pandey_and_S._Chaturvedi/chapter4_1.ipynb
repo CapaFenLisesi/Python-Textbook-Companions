{
 "cells": [
  {
   "cell_type": "markdown",
   "metadata": {},
   "source": [
    "# chapter4 :Dielectrics"
   ]
  },
  {
   "cell_type": "markdown",
   "metadata": {},
   "source": [
    "## example 4.4;page no:189"
   ]
  },
  {
   "cell_type": "code",
   "execution_count": 1,
   "metadata": {
    "collapsed": false
   },
   "outputs": [
    {
     "name": "stdout",
     "output_type": "stream",
     "text": [
      "Example 4.4,page no:189\n",
      "Dipole moment per atom in Coulomb-meter: 2.446e-39\n"
     ]
    }
   ],
   "source": [
    "#cal of Dipole moment per atom\n",
    "#intiation of all variables \n",
    "#given that\n",
    "import sys\n",
    "epsilon_r = 1.000074 # Dielectric constant of He at 0C and 1atm\n",
    "epsilon_0 = 8.854e-12 # Permittivity of free space\n",
    "E = 100 # Electric field in V/m\n",
    "n = 2.68e27 # Electron density in no,/m^\n",
    "N_a = 6e23 # Avogadro number\n",
    "V = 22.4 # Volume at STP in litter\n",
    "print(\"Example 4.4,page no:189\")\n",
    "P = epsilon_0*(epsilon_r-1)*E # Calculation of polarization\n",
    "N = N_a/(V*1e-3)# Calculation of total number of atoms\n",
    "p = P/N # dipole moment per atom\n",
    "print(\"Dipole moment per atom in Coulomb-meter:\"),round(p,42)\n",
    "# Answer in book is in different form and as 24.45e-40 coulomb-meter"
   ]
  },
  {
   "cell_type": "markdown",
   "metadata": {},
   "source": [
    "## example 4.6;page no:191"
   ]
  },
  {
   "cell_type": "code",
   "execution_count": 2,
   "metadata": {
    "collapsed": false
   },
   "outputs": [
    {
     "name": "stdout",
     "output_type": "stream",
     "text": [
      "Example 4.6,page no:191\n",
      "Electronic polarisability in Fm^2: 1.851e-41\n",
      "Relative permeability is: 1.002049\n"
     ]
    }
   ],
   "source": [
    "#cal of Electronic polarisability and Relative permeability\n",
    "#intiation of all variables \n",
    "#given that\n",
    "import math\n",
    "import sys\n",
    "r = 0.055 # Radius of hydrogen atom in nm\n",
    "n = 9.8e26 # Number of atoms/cc\n",
    "epsilon_0 = 8.854e-12 # Permittivity of free space\n",
    "print(\"Example 4.6,page no:191\")\n",
    "alpha_e = 4*math.pi*epsilon_0*(r*1e-9)**3 # Calculation of electronic polarisability\n",
    "epsilon_r = 1+n*alpha_e/epsilon_0 # Calculation of relative permeability\n",
    "print(\"Electronic polarisability in Fm^2:\"),round(alpha_e,44)\n",
    "print(\"Relative permeability is:\"),round(epsilon_r,6)"
   ]
  },
  {
   "cell_type": "markdown",
   "metadata": {},
   "source": [
    "## example 4.8;page no:192"
   ]
  },
  {
   "cell_type": "code",
   "execution_count": 3,
   "metadata": {
    "collapsed": false
   },
   "outputs": [
    {
     "name": "stdout",
     "output_type": "stream",
     "text": [
      "Example 4.8,page no:192\n",
      "Relative permittivity is: 4.614\n"
     ]
    }
   ],
   "source": [
    "#cal of Relative permittivity\n",
    "#intiation of all variables \n",
    "#given that\n",
    "import sys\n",
    "epsilon_0 = 8.854e-12 # Permittivity of free space\n",
    "E = 2000 # Electric field in V/m\n",
    "P = 6.4e-8 # Polarization in C/m^2\n",
    "print(\"Example 4.8,page no:192\")\n",
    "epsilon_r = 1+ P/(epsilon_0*E) # Calculation of relative permittivity\n",
    "print(\"Relative permittivity is:\"),round(epsilon_r,3)"
   ]
  },
  {
   "cell_type": "markdown",
   "metadata": {},
   "source": [
    "## example 4.9;page no:193"
   ]
  },
  {
   "cell_type": "code",
   "execution_count": 4,
   "metadata": {
    "collapsed": false
   },
   "outputs": [
    {
     "name": "stdout",
     "output_type": "stream",
     "text": [
      "Example 4.9,page no:193\n",
      "Relative permittivity is: 1.90395\n"
     ]
    }
   ],
   "source": [
    "#cal of Relative permittivity\n",
    "#intiation of all variables \n",
    "#given that\n",
    "import sys\n",
    "alpha_e = 2e-40 # Electronic polarisability in Fm^2\n",
    "N = 4e28 # density in atoms/m^3\n",
    "epsilon_0 = 8.85e-12 # Permittivity of free space\n",
    "print(\"Example 4.9,page no:193\")\n",
    "epsilon_r = 1+ N*alpha_e/(epsilon_0) # Calculation of relative permittivity\n",
    "print(\"Relative permittivity is:\"),round(epsilon_r,5)"
   ]
  },
  {
   "cell_type": "markdown",
   "metadata": {},
   "source": [
    "# example 4.10;page no:193"
   ]
  },
  {
   "cell_type": "code",
   "execution_count": 5,
   "metadata": {
    "collapsed": false
   },
   "outputs": [
    {
     "name": "stdout",
     "output_type": "stream",
     "text": [
      "Example 4.10,page no:193\n",
      "Relative permittivity is: 27.11\n",
      "Electrical susceptibility in C^2/Nm^2: 2.31e-10\n"
     ]
    }
   ],
   "source": [
    "#cal of Relative permittivity and Electrical susceptibility\n",
    "#intiation of all variables \n",
    "#given that\n",
    "import sys\n",
    "epsilon = 2.4e-10 # permitivity of a  dielectric material in C^2/N?m^2\n",
    "epsilon_0 = 8.854e-12 # Permittivity of free space\n",
    "print(\"Example 4.10,page no:193\")\n",
    "K = epsilon/epsilon_0  # Calculation of dielectric constant \n",
    "zai_e = epsilon_0*(K-1) # Calculation of electrical susceptibility \n",
    "print(\"Relative permittivity is:\"),round(K,2)\n",
    "print(\"Electrical susceptibility in C^2/Nm^2:\"),round(zai_e,12)"
   ]
  },
  {
   "cell_type": "markdown",
   "metadata": {},
   "source": [
    "## example 4.11;page no:194"
   ]
  },
  {
   "cell_type": "code",
   "execution_count": 6,
   "metadata": {
    "collapsed": false
   },
   "outputs": [
    {
     "name": "stdout",
     "output_type": "stream",
     "text": [
      "Example 4.11,page no:194\n",
      "Magnitude of Electrical vector in Volt/meter: 11250.0\n",
      "Magnitude of Electrical Displacement vector in C/m^2: 7.969e-07\n",
      "Magnitude of Electric polarization vector in C/m^2: 6.9725e-07\n"
     ]
    }
   ],
   "source": [
    "#cal of Magnitude of Electrical vector,Electrical Displacement and Electric polarization vector\n",
    "#intiation of all variables \n",
    "#given that\n",
    "import sys\n",
    "V = 100 # Applied potential in Volt\n",
    "d = 1 # Separation between plates in cm\n",
    "k1 = 8 # Dielectric constant\n",
    "k2 = 9 #dielectric constant\n",
    "epsilon_0 = 8.854e-12 # Permittivity of free space\n",
    "print(\"Example 4.11,page no:194\")\n",
    "E_0 = V/(d*1e-2) # Calculation of electric field\n",
    "E = E_0/k1*k2 # Calculation of electric field\n",
    "D = k1*epsilon_0*E # Calculation of electrical displacement vector\n",
    "P = (k1-1)*epsilon_0*E  # Calculation of electrical polarization \n",
    "print(\"Magnitude of Electrical vector in Volt/meter:\"),round(E,3) # Answer in book is 1.125e3 Volt/meter\n",
    "print(\"Magnitude of Electrical Displacement vector in C/m^2:\"),round(D,10)# Answer in book is 8.85e-8C/m^2\n",
    "print(\"Magnitude of Electric polarization vector in C/m^2:\"),round(P,11)# Answer in book is 7.774e-8C/m^2"
   ]
  },
  {
   "cell_type": "markdown",
   "metadata": {},
   "source": [
    "## example 4.12;page no:195"
   ]
  },
  {
   "cell_type": "code",
   "execution_count": 14,
   "metadata": {
    "collapsed": false
   },
   "outputs": [
    {
     "name": "stdout",
     "output_type": "stream",
     "text": [
      "Example 4.12,page no:195\n",
      "Deformational Polarizability in C^2mN^-1: 1e-39\n",
      "Orientational Polarizability at degree Celcius in C^2mN^-1: 1.5e-39\n",
      "Orientational Polarizability at degree Celcius in C^2mN^-1: 7.5e-40\n"
     ]
    }
   ],
   "source": [
    "#cal of Deformational Polarizability and Orientational Polarizability\n",
    "#intiation of all variables \n",
    "#given that\n",
    "alpha_300 = 2.5e-39 # total polarisability in C^2m/N at 300 K\n",
    "alpha_600 = 1.75e-39 # total polarisability in C^2m/N at 600 K\n",
    "T1 = 300 # Initial temperature in Kelvin\n",
    "T2 = 600 # Final Temperature in Kelvin\n",
    "print(\"Example 4.12,page no:195\")\n",
    "b = (alpha_300-alpha_600)*T2\n",
    "al_def_300 = alpha_300 - b/300\n",
    "al_oriant_300 = b/300\n",
    "al_oriant_600 = b/600\n",
    "print(\"Deformational Polarizability in C^2mN^-1:\"),round(al_def_300,40)\n",
    "print(\"Orientational Polarizability at degree Celcius in C^2mN^-1:\"),round(al_oriant_300,40)\n",
    "print(\"Orientational Polarizability at degree Celcius in C^2mN^-1:\"),round(al_oriant_600,41)"
   ]
  },
  {
   "cell_type": "markdown",
   "metadata": {},
   "source": [
    "## example 4.13;page no:202"
   ]
  },
  {
   "cell_type": "code",
   "execution_count": 8,
   "metadata": {
    "collapsed": false
   },
   "outputs": [
    {
     "name": "stdout",
     "output_type": "stream",
     "text": [
      "Example 4.13,page no:202\n",
      "Relative permittivity is: 1.88\n"
     ]
    }
   ],
   "source": [
    " #cal of Relative permittivity\n",
    "#intiation of all variables \n",
    "#given that\n",
    "#import sys\n",
    "alpha_e = 1.5e-40 # Electronic polarizability in Fm^2\n",
    "N = 4e28 # density in atoms/m^3\n",
    "epsilon_0 = 8.85e-12 # Permittivity of free space\n",
    "print(\"Example 4.13,page no:202\")\n",
    "k = N*alpha_e/(3*epsilon_0)\n",
    "epsilon_r = (1+ k*2)/(1-k)# Calculation of relative permittivity\n",
    "print(\"Relative permittivity is:\"),round(epsilon_r,2)"
   ]
  },
  {
   "cell_type": "markdown",
   "metadata": {},
   "source": [
    "# example 4.14;page no:202"
   ]
  },
  {
   "cell_type": "code",
   "execution_count": 9,
   "metadata": {
    "collapsed": false
   },
   "outputs": [
    {
     "name": "stdout",
     "output_type": "stream",
     "text": [
      "Example 4.14,page no:202\n",
      "Relative permittivity is: 4.2\n"
     ]
    }
   ],
   "source": [
    " #cal of Relative permittivity\n",
    "#intiation of all variables \n",
    "#given that\n",
    "#import sys\n",
    "m = 32 # Atomic weight of sulphur\n",
    "d = 2.08 # Density in g/cm^3\n",
    "alpha_e = 3.5e-40 # Electronic polarizability in Fm^2\n",
    "N_a = 6.022e23 # Avogadro Number\n",
    "epsilon_0 = 8.85e-12 # Permittivity of free space\n",
    "print(\"Example 4.14,page no:202\")\n",
    "N = N_a*d*1e6/m # Calculation of Atoms per unit \n",
    "k = N*alpha_e/(3*epsilon_0)\n",
    "epsilon_r = (1+ k*2)/(1-k)# Calculation of relative permittivity\n",
    "print(\"Relative permittivity is:\"),round(epsilon_r,2)\n",
    "# Answer in book is 4.17"
   ]
  },
  {
   "cell_type": "markdown",
   "metadata": {},
   "source": [
    "## example 4.15;page no:203"
   ]
  },
  {
   "cell_type": "code",
   "execution_count": 10,
   "metadata": {
    "collapsed": false
   },
   "outputs": [
    {
     "name": "stdout",
     "output_type": "stream",
     "text": [
      "Example 4.15,page no:203\n",
      "Percentage ionic polarizability in pecent: 51.41\n"
     ]
    }
   ],
   "source": [
    " #cal of Percentage ionic polarizability\n",
    "#intiation of all variables \n",
    "#given that\n",
    "#import sys\n",
    "n = 1.5 # Refractive index\n",
    "epsilon = 5.6 # Static dielectric constant\n",
    "print(\"Example 4.15,page no:203\")\n",
    "per = (1-((n**2-1)/(n**2+2))*(epsilon+2)/(epsilon-1))*100 # Pecentage ionic polarisability\n",
    "print(\"Percentage ionic polarizability in pecent:\"),round(per,2)\n",
    "# Answer in book is 5.14 %"
   ]
  },
  {
   "cell_type": "markdown",
   "metadata": {},
   "source": [
    "## example 4.16;page no:204"
   ]
  },
  {
   "cell_type": "code",
   "execution_count": 11,
   "metadata": {
    "collapsed": false
   },
   "outputs": [
    {
     "name": "stdout",
     "output_type": "stream",
     "text": [
      "Example 4.16,page no:204\n",
      "Electronic polarizability  in Fm^2: 3.29e-40\n"
     ]
    }
   ],
   "source": [
    " #cal of Electronic polarizability\n",
    "#intiation of all variables \n",
    "#given that\n",
    "#import sys\n",
    "m = 32 # Atomic weight of sulphur\n",
    "d = 2050 # Density in Kg/m^3\n",
    "N_a = 6.022e23 # Avogadro Number\n",
    "epsilon_0 = 8.85e-12 # Permittivity of free space\n",
    "epsilon_r = 3.75 # Dielectric constant of sulphur\n",
    "print(\"Example 4.16,page no:204\")\n",
    "N = N_a*d*1e3/m # Calculation of Atoms per unit \n",
    "alpha_e = 3*epsilon_0*((epsilon_r-1)/(epsilon_r+2)) / N \n",
    "print(\"Electronic polarizability  in Fm^2:\"),round(alpha_e,42)"
   ]
  },
  {
   "cell_type": "markdown",
   "metadata": {},
   "source": [
    "## example 4.17;page no:204"
   ]
  },
  {
   "cell_type": "code",
   "execution_count": 12,
   "metadata": {
    "collapsed": false
   },
   "outputs": [
    {
     "name": "stdout",
     "output_type": "stream",
     "text": [
      "Example 4.17,page no:204\n",
      "Ratio of electronic to ionic polarizability is: 1.43\n"
     ]
    }
   ],
   "source": [
    "#cal of Ratio of electronic to ionic polarizability\n",
    "#intiation of all variables \n",
    "#given that\n",
    "#import sys\n",
    "n = 1.5 # Refractive index\n",
    "epsilon = 4. # Static dielectric constant\n",
    "epsilon_0 = 8.85e-12 # permittivity of free space\n",
    "print(\"Example 4.17,page no:204\")\n",
    "k1 = (epsilon-1)/(epsilon+2)\n",
    "k2 = (n**2-1.)/(n**2+2.)\n",
    "ratio = 1./((k1/k2)-1.) \n",
    "print(\"Ratio of electronic to ionic polarizability is:\"),round(ratio,2)"
   ]
  },
  {
   "cell_type": "markdown",
   "metadata": {},
   "source": [
    "## example 4.18;page no:219"
   ]
  },
  {
   "cell_type": "code",
   "execution_count": 13,
   "metadata": {
    "collapsed": false
   },
   "outputs": [
    {
     "name": "stdout",
     "output_type": "stream",
     "text": [
      "Example 4.18,page no:219\n",
      "Frequency in KHz: 8.84\n",
      "Phase difference between current and voltage in degree: 45.0\n"
     ]
    }
   ],
   "source": [
    "#cal of Frequency and Phase difference between current and voltage\n",
    "#intiation of all variables \n",
    "#given that\n",
    "import math\n",
    "t = 1.8e-5 # Relaxation time in second\n",
    "epsilon_r = 1 # let\n",
    "print(\"Example 4.18,page no:219\")\n",
    "f = 1/(2*math.pi*t) # Calculation of frequency\n",
    "delta = math.atan(epsilon_r/epsilon_r)\n",
    "phi = 90 - delta*180/math.pi # Calculation of phase difference\n",
    "print(\"Frequency in KHz:\"),round(f/1e3,2)\n",
    "print(\"Phase difference between current and voltage in degree:\"),round(phi,0)"
   ]
  }
 ],
 "metadata": {
  "kernelspec": {
   "display_name": "Python 2",
   "language": "python",
   "name": "python2"
  },
  "language_info": {
   "codemirror_mode": {
    "name": "ipython",
    "version": 2
   },
   "file_extension": ".py",
   "mimetype": "text/x-python",
   "name": "python",
   "nbconvert_exporter": "python",
   "pygments_lexer": "ipython2",
   "version": "2.7.10"
  }
 },
 "nbformat": 4,
 "nbformat_minor": 0
}
