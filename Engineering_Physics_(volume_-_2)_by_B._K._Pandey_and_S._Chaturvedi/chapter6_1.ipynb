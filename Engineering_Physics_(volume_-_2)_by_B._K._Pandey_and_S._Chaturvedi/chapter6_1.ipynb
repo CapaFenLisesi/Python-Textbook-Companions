{
 "cells": [
  {
   "cell_type": "markdown",
   "metadata": {},
   "source": [
    "# chapter6 :Ultrasonic Waves"
   ]
  },
  {
   "cell_type": "markdown",
   "metadata": {},
   "source": [
    "## example 6.1;page no:262"
   ]
  },
  {
   "cell_type": "code",
   "execution_count": 1,
   "metadata": {
    "collapsed": false
   },
   "outputs": [
    {
     "name": "stdout",
     "output_type": "stream",
     "text": [
      "Example 6.1,page no:262\n",
      "Fundamental frequency in Hz in 10^5: 9.09996\n"
     ]
    }
   ],
   "source": [
    "#cal of Fundamental frequency\n",
    "#intiation of all variables \n",
    "#Given that\n",
    "import math\n",
    "E=7.9*10**10\n",
    "rho = 2650 # Density in Kg/m**3\n",
    "t = 0.003 # Thickness of quartz crystal in m\n",
    "print(\"Example 6.1,page no:262\")\n",
    "v = math.sqrt(E/rho)# Calculation of velocity \n",
    "lamda = 2*t # Calculation of fundamental wavelength\n",
    "nu = v/lamda # Calculation of fundamental frequency\n",
    "print(\"Fundamental frequency in Hz in 10^5:\"),round(nu/10**5,5)"
   ]
  },
  {
   "cell_type": "markdown",
   "metadata": {},
   "source": [
    "# example 6.2;page no:263"
   ]
  },
  {
   "cell_type": "code",
   "execution_count": 2,
   "metadata": {
    "collapsed": false
   },
   "outputs": [
    {
     "name": "stdout",
     "output_type": "stream",
     "text": [
      "Example 6.2,page no:263\n",
      "Fundamental frequency of crystal in MHz: 1.8\n"
     ]
    }
   ],
   "source": [
    "\n",
    "#cal of Fundamental frequency of crystal\n",
    "#intiation of all variables \n",
    "#Given that\n",
    "v = 5760 # Velocity in m/s\n",
    "T = 1.6 # Thickness of quartz crystal in mm\n",
    "print(\"Example 6.2,page no:263\")\n",
    "nu = v/(2*T*1e-3)# Calculation of fundamental frequency\n",
    "print(\"Fundamental frequency of crystal in MHz:\"),round(nu/1e6,1)"
   ]
  },
  {
   "cell_type": "markdown",
   "metadata": {},
   "source": [
    "## example 6.3;page no:264"
   ]
  },
  {
   "cell_type": "code",
   "execution_count": 3,
   "metadata": {
    "collapsed": false
   },
   "outputs": [
    {
     "name": "stdout",
     "output_type": "stream",
     "text": [
      "Example 6.3,page no:264\n",
      "Depth of defect in cm: 20\n"
     ]
    }
   ],
   "source": [
    "#cal of Depth of defect\n",
    "#intiation of all variables \n",
    "#Given that\n",
    "T =40 # Thickness of steel bar in cm\n",
    "t1 = 40 # Time in ms\n",
    "t2 = 80 # Time in ms\n",
    "print(\"Example 6.3,page no:264\")\n",
    "X = T*t1/t2 # Calculation of depth of defect\n",
    "print(\"Depth of defect in cm:\"),X"
   ]
  },
  {
   "cell_type": "markdown",
   "metadata": {},
   "source": [
    "# example 6.4;page no:264"
   ]
  },
  {
   "cell_type": "code",
   "execution_count": 4,
   "metadata": {
    "collapsed": false
   },
   "outputs": [
    {
     "name": "stdout",
     "output_type": "stream",
     "text": [
      "Example 6.4,page no:264\n",
      "Fundamental frequency in Hz in 10^5: 4.54998\n"
     ]
    }
   ],
   "source": [
    "#cal of Fundamental frequency\n",
    "#intiation of all variables \n",
    "#Given that\n",
    "import math\n",
    "E=7.9*10**10\n",
    "rho = 2650 # Density in Kg/m**3\n",
    "t = 0.006 # Thickness of quartz crystal in m\n",
    "print(\"Example 6.4,page no:264\")\n",
    "v = math.sqrt(E/rho)# Calculation of velocity \n",
    "lamda = 2*t # Calculation of fundamental wavelength\n",
    "nu = v/lamda # Calculation of fundamental frequency\n",
    "print(\"Fundamental frequency in Hz in 10^5:\"),round(nu/10**5,5)"
   ]
  },
  {
   "cell_type": "markdown",
   "metadata": {},
   "source": [
    "## example 6.5;page no:265"
   ]
  },
  {
   "cell_type": "code",
   "execution_count": 5,
   "metadata": {
    "collapsed": false
   },
   "outputs": [
    {
     "name": "stdout",
     "output_type": "stream",
     "text": [
      "Example 6.5,page no:265\n",
      "Capacitance in microfarad: 0.0\n"
     ]
    }
   ],
   "source": [
    "#cal of Capacitance\n",
    "#intiation of all variables \n",
    "#Given that\n",
    "import  math\n",
    "L = 1 # Inductance in Hanery\n",
    "nu = 2e6 # Frequency in Hz\n",
    "print(\"Example 6.5,page no:265\")\n",
    "C= 1/(4*((math.pi)**2)*nu**2*L) # Calculation of capacitance\n",
    "print(\"Capacitance in microfarad:\"),round(C*1e6,5)\n",
    "# Answer in book is 0.00634 micro Farad"
   ]
  }
 ],
 "metadata": {
  "kernelspec": {
   "display_name": "Python 2",
   "language": "python",
   "name": "python2"
  },
  "language_info": {
   "codemirror_mode": {
    "name": "ipython",
    "version": 2
   },
   "file_extension": ".py",
   "mimetype": "text/x-python",
   "name": "python",
   "nbconvert_exporter": "python",
   "pygments_lexer": "ipython2",
   "version": "2.7.10"
  }
 },
 "nbformat": 4,
 "nbformat_minor": 0
}
