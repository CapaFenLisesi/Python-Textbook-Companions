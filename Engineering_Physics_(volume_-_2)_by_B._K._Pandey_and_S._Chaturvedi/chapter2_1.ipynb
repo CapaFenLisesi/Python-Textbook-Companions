{
 "cells": [
  {
   "cell_type": "markdown",
   "metadata": {},
   "source": [
    "# chapter2 :Uncertainty principle and schrodinger wave equations"
   ]
  },
  {
   "cell_type": "markdown",
   "metadata": {},
   "source": [
    "## example 2.1;page no:77"
   ]
  },
  {
   "cell_type": "code",
   "execution_count": 1,
   "metadata": {
    "collapsed": false
   },
   "outputs": [
    {
     "name": "stdout",
     "output_type": "stream",
     "text": [
      "Example 2.1,page no:77\n",
      "Uncertainty in momentum of particle in kgm/sec: 2.64e-24\n"
     ]
    }
   ],
   "source": [
    "#cal of Uncertainty in momentum of particle\n",
    "#intiation of all variables \n",
    "#given that\n",
    "import math\n",
    "del_x = 0.2 # Uncertainty in position in angstrom\n",
    "h = 6.63e-34 # Plank constant\n",
    "print(\"Example 2.1,page no:77\")\n",
    "h_bar = h / (2*math.pi) # constant\n",
    "del_p = h_bar/(2*del_x*1e-10) # Calculation of uncertainty in momentum\n",
    "print(\"Uncertainty in momentum of particle in kgm/sec:\"),round(del_p,26)"
   ]
  },
  {
   "cell_type": "markdown",
   "metadata": {},
   "source": [
    "## example 2.2;page no:77"
   ]
  },
  {
   "cell_type": "code",
   "execution_count": 2,
   "metadata": {
    "collapsed": false
   },
   "outputs": [
    {
     "name": "stdout",
     "output_type": "stream",
     "text": [
      "Example 2.2,page no:77\n",
      "Uncertainty in momentum of particle in kgm/sec: 1.32e-25\n"
     ]
    }
   ],
   "source": [
    "#cal of Uncertainty in momentum of particle\n",
    "#intiation of all variables \n",
    "#given that\n",
    "import math\n",
    "del_x = 4e-10 # Uncertainty in position in m\n",
    "h = 6.63e-34 # Plank constant\n",
    "print(\"Example 2.2,page no:77\")\n",
    "h_bar = h / (2*math.pi) # constant\n",
    "del_p = h_bar/(2*del_x) # Calculation of uncertainty in momentum\n",
    "print(\"Uncertainty in momentum of particle in kgm/sec:\"),round(del_p,27)\n",
    "# Answer in book is given as 1.32e-23 kgm/sec"
   ]
  },
  {
   "cell_type": "markdown",
   "metadata": {},
   "source": [
    "## example 2.3;page no:78"
   ]
  },
  {
   "cell_type": "code",
   "execution_count": 3,
   "metadata": {
    "collapsed": false
   },
   "outputs": [
    {
     "name": "stdout",
     "output_type": "stream",
     "text": [
      "Example 2.3,page no:78\n",
      "Uncertainty in position of particle in angstrom: 0.0192\n"
     ]
    }
   ],
   "source": [
    "#cal of Uncertainty in position of particle\n",
    "#intiation of all variables \n",
    "#given that\n",
    "import math\n",
    "v = 3e7 # Velocity of moving electron in m/s\n",
    "m = 9.1e-31 # mass of electron in kg\n",
    "h = 6.63e-34 # Plank constant\n",
    "c = 3e8 # speed of light in m/s\n",
    "print(\"Example 2.3,page no:78\")\n",
    "h_bar = h / (2*math.pi) # constant\n",
    "del_p = m*v/(math.sqrt(1-(v/c)**2)) # calculation of uncertainty in momentum\n",
    "del_x = h_bar/(2*del_p) # Calculation of uncertainty in position\n",
    "print(\"Uncertainty in position of particle in angstrom:\"),round(del_x*1e10,4)\n",
    "#Answer in book is 0.0194 angstrom which is due to using approximate values at intermediate steps"
   ]
  },
  {
   "cell_type": "markdown",
   "metadata": {},
   "source": [
    "## example 2.5;page no:79"
   ]
  },
  {
   "cell_type": "code",
   "execution_count": 4,
   "metadata": {
    "collapsed": false
   },
   "outputs": [
    {
     "name": "stdout",
     "output_type": "stream",
     "text": [
      "Example 2.5,page no:79\n",
      "Uncertainty in position of particle in m: 5.58e-05\n"
     ]
    }
   ],
   "source": [
    "#cal of Uncertainty in position of particle\n",
    "#intiation of all variables \n",
    "#given that\n",
    "import math\n",
    "v = 1.05e4 # Velocity of moving electron in m/s\n",
    "v_error = 0.02 #Percentage error in measurement of velocity\n",
    "m = 9e-31 # mass of electron in kg\n",
    "h = 6.63e-34 # Plank constant\n",
    "print(\"Example 2.5,page no:79\")\n",
    "h_bar = h / (2*math.pi) # constant\n",
    "p = m*v\n",
    "del_p = v_error*p/100 # calculation of uncertainty in momentum\n",
    "del_x = h_bar/del_p\n",
    "print(\"Uncertainty in position of particle in m:\"),round(del_x,7)\n",
    "# Answer in book is given as 5.58e-3 m"
   ]
  },
  {
   "cell_type": "markdown",
   "metadata": {},
   "source": [
    "## example 2.6;page no:80"
   ]
  },
  {
   "cell_type": "code",
   "execution_count": 5,
   "metadata": {
    "collapsed": false
   },
   "outputs": [
    {
     "name": "stdout",
     "output_type": "stream",
     "text": [
      "Example 2.6,page no:80\n",
      "Uncertainty in position of particle in m: 0.0039\n"
     ]
    }
   ],
   "source": [
    "#cal of Uncertainty in position of particle\n",
    "#intiation of all variables \n",
    "#given that\n",
    "import math\n",
    "v = 600 # Velocity of moving electron in m/s\n",
    "v_error = 0.005 #Percentage error in measurement of velocity\n",
    "m = 9.1e-31 # mass of electron in kg\n",
    "h = 6.63e-34 # Plank constant\n",
    "print(\"Example 2.6,page no:80\")\n",
    "h_bar = h / (2*math.pi) # constant\n",
    "p = m*v\n",
    "del_p = v_error*p/100 # calculation of uncertainty in momentum\n",
    "del_x = h_bar/(del_p) # Calculation of uncertainty in position\n",
    "print(\"Uncertainty in position of particle in m:\"),round(del_x,4)\n",
    "# Answer in book is 0.39e-2 m "
   ]
  },
  {
   "cell_type": "markdown",
   "metadata": {},
   "source": [
    "## example 2.7;page no:80"
   ]
  },
  {
   "cell_type": "code",
   "execution_count": 6,
   "metadata": {
    "collapsed": false
   },
   "outputs": [
    {
     "name": "stdout",
     "output_type": "stream",
     "text": [
      "Example 2.7,page no:80\n",
      "Ratio of uncertainties in the velocity of electron to proton is: 1835.0\n"
     ]
    }
   ],
   "source": [
    "#cal of Ratio of uncertainties in the velocity of electron to proton\n",
    "#intiation of all variables \n",
    "#given that\n",
    "import math\n",
    "del_x = 1 # let uncertainty in position is unity\n",
    "m_e = 9.1e-31 # mass of electron in kg\n",
    "m_p = 1.67e-27 # mass of proton in kg\n",
    "h = 6.63e-34 # Plank constant\n",
    "print(\"Example 2.7,page no:80\")\n",
    "h_bar = h / (2*math.pi) # constant\n",
    "del_v_ratio = m_p/m_e # calculation in uncertainties in the velocity of electron and proton\n",
    "print(\"Ratio of uncertainties in the velocity of electron to proton is:\"),round(del_v_ratio,0)"
   ]
  },
  {
   "cell_type": "markdown",
   "metadata": {},
   "source": [
    "## example 2.8;page no:81"
   ]
  },
  {
   "cell_type": "code",
   "execution_count": 17,
   "metadata": {
    "collapsed": false
   },
   "outputs": [
    {
     "name": "stdout",
     "output_type": "stream",
     "text": [
      "Example 2.8,page no:81\n",
      "Kinetic energy needed by an electron to be confined in electron in eV: 0.96\n"
     ]
    }
   ],
   "source": [
    "#cal of Kinetic energy needed by an electron\n",
    "#intiation of all variables \n",
    "#given that\n",
    "import math\n",
    "r = 0.5 # radius of hydrogen atom in angstrom\n",
    "m_e = 9.1e-31 # mass of electron in kg\n",
    "h = 6.63e-34 # Plank constant\n",
    "print(\"Example 2.8,page no:81\")\n",
    "h_bar = h / (2*math.pi) # constant\n",
    "del_x = 2*r # calculation of uncertainty in position\n",
    "del_p = h_bar/(2*del_x*1e-10) # calculation of uncertainty in momentum\n",
    "p = del_p\n",
    "E = p**2/(2*m_e*1.6e-19)# Calculation of energy in eV\n",
    "print(\"Kinetic energy needed by an electron to be confined in electron in eV:\"),round(E,2)"
   ]
  },
  {
   "cell_type": "markdown",
   "metadata": {},
   "source": [
    "## example 2.9;page no:82"
   ]
  },
  {
   "cell_type": "code",
   "execution_count": 8,
   "metadata": {
    "collapsed": false
   },
   "outputs": [
    {
     "name": "stdout",
     "output_type": "stream",
     "text": [
      "Example 2.9,page no:82\n",
      "Uncertainty in position of particle in m: 0.0003865\n"
     ]
    }
   ],
   "source": [
    "#cal of Uncertainty in position of particle\n",
    "#intiation of all variables \n",
    "#given that\n",
    "import math\n",
    "v = 5e3 # Velocity of moving electron in m/s\n",
    "v_error = 0.003 #Percentage error in measurement of velocity\n",
    "m = 9.1e-31 # mass of electron in kg\n",
    "h = 6.63e-34 # Plank constant\n",
    "print(\"Example 2.9,page no:82\")\n",
    "h_bar = h / (2*math.pi) # constant\n",
    "p = m*v\n",
    "del_p = v_error*p/100 # calculation of uncertainty in momentum\n",
    "del_x = h_bar/(2*del_p) # Calculation of uncertainty in position\n",
    "print(\"Uncertainty in position of particle in m:\"),round(del_x,7)"
   ]
  },
  {
   "cell_type": "markdown",
   "metadata": {},
   "source": [
    "## example 2.10;page no:83"
   ]
  },
  {
   "cell_type": "code",
   "execution_count": 9,
   "metadata": {
    "collapsed": false
   },
   "outputs": [
    {
     "name": "stdout",
     "output_type": "stream",
     "text": [
      "Example 2.10,page no:83\n",
      "Kinetic energy needed by an electron to be confined in electron in eV: 0.851\n"
     ]
    }
   ],
   "source": [
    "#cal of Kinetic energy needed by an electron to be confined in electron\n",
    "#intiation of all variables \n",
    "#given that\n",
    "import math\n",
    "r = 0.53 # radius of hydrogen atom in angstrom\n",
    "m_e = 9.1e-31 # mass of electron in kg\n",
    "h = 6.63e-34 # Plank constant\n",
    "print(\"Example 2.10,page no:83\")\n",
    "h_bar = h / (2*math.pi) # constant\n",
    "del_x = 2*r # calculation of uncertainty in position\n",
    "del_p = h_bar/(2*del_x*1e-10) # calculation of uncertainty in momentum\n",
    "p = del_p\n",
    "E = p**2/(2*m_e*1.6e-19)# Calculation of energy in eV\n",
    "print(\"Kinetic energy needed by an electron to be confined in electron in eV:\"),round(E,3)\n",
    "# When problem is solved by del_x*del_p = h_bar, then minimum value of kinetic energy will become 13.6eV"
   ]
  },
  {
   "cell_type": "markdown",
   "metadata": {},
   "source": [
    "## example 2.11;page no:84"
   ]
  },
  {
   "cell_type": "code",
   "execution_count": 10,
   "metadata": {
    "collapsed": false
   },
   "outputs": [
    {
     "name": "stdout",
     "output_type": "stream",
     "text": [
      "Example 2.11,page no:84\n",
      "Minimum error in measurement of energy of this state in eV: 26379.9318\n"
     ]
    }
   ],
   "source": [
    "#cal of Minimum error in measurement of energy\n",
    "#intiation of all variables \n",
    "#given that\n",
    "import math\n",
    "del_t = 2.5e-14 # lifetime in exited state in micro sec\n",
    "h = 6.63e-34 # Plank constant\n",
    "print(\"Example 2.11,page no:84\")\n",
    "h_bar = h / (2*math.pi) # constant\n",
    "del_E = h_bar/(1.6e-19*del_t*1e-6) # calculation of uncertainty in momentum\n",
    "print(\"Minimum error in measurement of energy of this state in eV:\"),round(del_E,4)"
   ]
  },
  {
   "cell_type": "markdown",
   "metadata": {},
   "source": [
    "## example 2.12;page no:84"
   ]
  },
  {
   "cell_type": "code",
   "execution_count": 11,
   "metadata": {
    "collapsed": false
   },
   "outputs": [
    {
     "name": "stdout",
     "output_type": "stream",
     "text": [
      "Example 2.12,page no:84\n",
      "Percentage error in momentum in percent: 1.09\n"
     ]
    }
   ],
   "source": [
    "#cal of Percentage error in momentum\n",
    "#intiation of all variables \n",
    "#given that\n",
    "import math\n",
    "E_eV = 0.5# kinetic energy of electron in KeV\n",
    "del_x = 0.4 # Uncertainty in position in nm\n",
    "h = 6.63e-34 # Plank constant\n",
    "m = 9.1e-31 # mass of electron in kg\n",
    "print(\"Example 2.12,page no:84\")\n",
    "h_bar = h / (2*math.pi) # constant\n",
    "E_J = E_eV*1e3*1.6e-19\n",
    "p = math.sqrt(2*m*E_J) # Calculation of momentum in kgm/s\n",
    "del_p = h_bar/(2*del_x*1e-9) # Calculation of uncertainty in momentum\n",
    "per_error = del_p*100 / p # calculation of percentage error in momentum\n",
    "print(\"Percentage error in momentum in percent:\"),round(per_error,2)\n",
    "# Answer in book is 1.08 percentage"
   ]
  },
  {
   "cell_type": "markdown",
   "metadata": {},
   "source": [
    "## example 2.13;page no:85"
   ]
  },
  {
   "cell_type": "code",
   "execution_count": 12,
   "metadata": {
    "collapsed": false
   },
   "outputs": [
    {
     "name": "stdout",
     "output_type": "stream",
     "text": [
      "Example 2.13,page no:85\n",
      "Uncertainty in velocity of particle in m/s: 28988.9\n"
     ]
    }
   ],
   "source": [
    "#cal of Uncertainty in velocity of particle\n",
    "#intiation of all variables \n",
    "#given that\n",
    "import math\n",
    "del_x = 2e-9 # Uncertainty in position in m\n",
    "h = 6.63e-34 # Plank constant\n",
    "m = 9.1e-31 # mass of electron in Kg\n",
    "print(\"Example 2.13,page no:85\")\n",
    "h_bar = h / (2*math.pi) # constant\n",
    "del_p = h_bar/(2*del_x) # Calculation of uncertainty in momentum\n",
    "del_v = del_p/m\n",
    "print(\"Uncertainty in velocity of particle in m/s:\"),round(del_v,1)"
   ]
  },
  {
   "cell_type": "markdown",
   "metadata": {},
   "source": [
    "## example 2.15;page no:87"
   ]
  },
  {
   "cell_type": "code",
   "execution_count": 18,
   "metadata": {
    "collapsed": false
   },
   "outputs": [
    {
     "name": "stdout",
     "output_type": "stream",
     "text": [
      "Example 2.15,page no:87\n",
      "Uncertainty in momentum of ball in kgm/s: 1.055e-28\n",
      "Percentage error in calculation of momentum is: 9e-29\n"
     ]
    }
   ],
   "source": [
    "#cal of Uncertainty in momentum of ball and Percentage error in calculation of momentum\n",
    "#intiation of all variables \n",
    "#given that\n",
    "import math\n",
    "del_x = 5000. # Uncertainty in position in angstrom\n",
    "h = 6.63e-34 # Plank constant\n",
    "m = 200. # mass of ball in gram\n",
    "v = 6. # velocity of moving ball in m/s\n",
    "print(\"Example 2.15,page no:87\")\n",
    "h_bar = h / (2.*math.pi) # constant\n",
    "del_p = h_bar/(2.*del_x*1e-10) # Calculation of uncertainty in momentum\n",
    "p = m*v # Calculation of momentum\n",
    "per_error = del_p*1000./p # Calculation of percentage error in calculation of momentum\n",
    "print(\"Uncertainty in momentum of ball in kgm/s:\"),round(del_p,31)\n",
    "print(\"Percentage error in calculation of momentum is:\"),round(per_error,29)"
   ]
  },
  {
   "cell_type": "markdown",
   "metadata": {},
   "source": [
    "## example 2.16;page no:87"
   ]
  },
  {
   "cell_type": "code",
   "execution_count": 14,
   "metadata": {
    "collapsed": false
   },
   "outputs": [
    {
     "name": "stdout",
     "output_type": "stream",
     "text": [
      "Example 2.16,page no:87\n",
      "Uncertainty in position of particle in m: 1.05e-13\n"
     ]
    }
   ],
   "source": [
    "#cal of Uncertainty in position of particle\n",
    "#intiation of all variables \n",
    "#given that\n",
    "import math\n",
    "c = 3e8 # speed of light in m/s\n",
    "v = c/10 # Velocity of moving proton in m/s\n",
    "v_error = 1 # Percentage error in measurement of velocity \n",
    "m = 1.67e-27 # mass of electron in kg\n",
    "h = 6.63e-34 # Plank constant\n",
    "print(\"Example 2.16,page no:87\")\n",
    "h_bar = h / (2*math.pi) # constant\n",
    "del_v = v*v_error/100# calculation of uncertainty in position\n",
    "del_x = h_bar/(2*m*del_v) # calculation of uncertainty in momentum\n",
    "print(\"Uncertainty in position of particle in m:\"),round(del_x,15)\n",
    "# Answer in book is 1.04e-13 m"
   ]
  },
  {
   "cell_type": "markdown",
   "metadata": {},
   "source": [
    "## example 2.17;page no:88"
   ]
  },
  {
   "cell_type": "code",
   "execution_count": 15,
   "metadata": {
    "collapsed": false
   },
   "outputs": [
    {
     "name": "stdout",
     "output_type": "stream",
     "text": [
      "Example 2.17,page no:88\n",
      "Uncertainty in velocity of ball in m/s: 2.64e-25\n"
     ]
    }
   ],
   "source": [
    "#cal of Uncertainty in velocity of ball\n",
    "#intiation of all variables \n",
    "#given that\n",
    "import math\n",
    "del_x = 1e-9 # Uncertainty in position in m\n",
    "h = 6.63e-34 # Plank constant\n",
    "m = 200 # mass of ball in gram\n",
    "print(\"Example 2.17,page no:88\")\n",
    "h_bar = h / (2*math.pi) # constant\n",
    "del_v = h_bar/(2*del_x*m/1000) # Calculation of uncertainty in momentum\n",
    "print(\"Uncertainty in velocity of ball in m/s:\"),round(del_v,27)\n",
    "# Answer in book is 2.64e-25 m/s"
   ]
  },
  {
   "cell_type": "markdown",
   "metadata": {},
   "source": [
    "## example 2.18;page no:89"
   ]
  },
  {
   "cell_type": "code",
   "execution_count": 16,
   "metadata": {
    "collapsed": false
   },
   "outputs": [
    {
     "name": "stdout",
     "output_type": "stream",
     "text": [
      "Example 2.18,page no:89\n",
      "Minimum error in measurement of energy of this state in eV: 0.000165\n"
     ]
    }
   ],
   "source": [
    "#cal of Minimum error in measurement of energy\n",
    "#intiation of all variables \n",
    "#given that\n",
    "import math\n",
    "del_t = 2e-12 # lifetime of exited state in  sec\n",
    "h = 6.63e-34 # Plank constant\n",
    "print(\"Example 2.18,page no:89\")\n",
    "h_bar = h / (2*math.pi) # constant\n",
    "del_E = h_bar/(1.6e-19*2*del_t) # calculation of uncertainty in momentum\n",
    "print(\"Minimum error in measurement of energy of this state in eV:\"),round(del_E,6)\n",
    "# Answer in book is 1.65e-4 eV"
   ]
  },
  {
   "cell_type": "markdown",
   "metadata": {},
   "source": [
    "## example 2.19;page no:89"
   ]
  },
  {
   "cell_type": "code",
   "execution_count": 19,
   "metadata": {
    "collapsed": false
   },
   "outputs": [
    {
     "name": "stdout",
     "output_type": "stream",
     "text": [
      "Example 2.19,page no:89\n",
      "Minimum error in measurement of frequency of photon in per second: 7957747.2\n"
     ]
    }
   ],
   "source": [
    "#cal of Minimum error in measurement of frequency of photon\n",
    "#intiation of all variables \n",
    "#given that\n",
    "import math\n",
    "del_t = 1e-8 # lifetime of exited state in  sec\n",
    "h = 6.63e-34 # Plank constant\n",
    "print(\"Example 2.19,page no:89\")\n",
    "h_bar = h / (2*math.pi) # constant\n",
    "del_nu = h_bar/(2*del_t*h) # calculation of uncertainty in frequency\n",
    "print(\"Minimum error in measurement of frequency of photon in per second:\"),round(del_nu,1)\n",
    "# Answer in book is 8e6 per second"
   ]
  },
  {
   "cell_type": "markdown",
   "metadata": {},
   "source": [
    "## example 2.20;page no:90"
   ]
  },
  {
   "cell_type": "code",
   "execution_count": 20,
   "metadata": {
    "collapsed": false
   },
   "outputs": [
    {
     "name": "stdout",
     "output_type": "stream",
     "text": [
      "Example 2.20,page no:90\n",
      "Uncertainty in position of ball in angstrom: 9.6\n"
     ]
    }
   ],
   "source": [
    "#cal of Uncertainty in position of ball\n",
    "#intiation of all variables \n",
    "#given that\n",
    "import math\n",
    "del_v = 5.5e-20 # Uncertainty in velocity in m/s\n",
    "h = 6.63e-34 # Plank constant\n",
    "m = 1 # mass of dust particle in mg\n",
    "print(\"Example 2.20,page no:90\")\n",
    "h_bar = h / (2*math.pi) # constant\n",
    "del_x = h_bar/(2*del_v*m*1e-6) # Calculation of uncertainty in momentum\n",
    "print(\"Uncertainty in position of ball in angstrom:\"),round(del_x*1e10,1)\n",
    "# Answer in book is 9.6 angstrom"
   ]
  },
  {
   "cell_type": "markdown",
   "metadata": {},
   "source": [
    "## example 2.21;page no:101"
   ]
  },
  {
   "cell_type": "code",
   "execution_count": 21,
   "metadata": {
    "collapsed": false
   },
   "outputs": [
    {
     "name": "stdout",
     "output_type": "stream",
     "text": [
      "Example 2.21,page no:101\n",
      "Energy of electron in eV: 37.74\n"
     ]
    }
   ],
   "source": [
    "#cal of Energy of electron\n",
    "#intiation of all variables \n",
    "#given that\n",
    "l = 1 # width of potential well in angstrom\n",
    "n = 1 # order corresponding to ground state\n",
    "h = 6.63e-34 # Plank constant\n",
    "m = 9.1e-31 # mass of electron in Kg\n",
    "print(\"Example 2.21,page no:101\")\n",
    "E = n**2*h**2/(8*m*(l*1e-10)**2) # Calculation of energy in Joule\n",
    "E_eV = E/1.6e-19 # Calculation of energy in eV\n",
    "print(\"Energy of electron in eV:\"),round(E_eV,2)\n",
    "# Answer in book is 37.74 eV angstrom"
   ]
  },
  {
   "cell_type": "markdown",
   "metadata": {},
   "source": [
    "## example 2.24;page no:103"
   ]
  },
  {
   "cell_type": "code",
   "execution_count": 22,
   "metadata": {
    "collapsed": false
   },
   "outputs": [
    {
     "name": "stdout",
     "output_type": "stream",
     "text": [
      "Example 2.24,page no:103\n",
      "Energy of electron for state in eV: 6.04 24.15\n"
     ]
    }
   ],
   "source": [
    "#cal of Energy of electron for state\n",
    "#intiation of all variables \n",
    "#given that\n",
    "l = 2.5e-10 # width of potential well in m\n",
    "h = 6.63e-34 # Plank constant\n",
    "m = 9.1e-31 # mass of electron in Kg\n",
    "n1=1\n",
    "n2=2\n",
    "print(\"Example 2.24,page no:103\")\n",
    "E1 =n1**2*h**2/(8*m*l**2) # Calculation of energy in Joule\n",
    "E2 =n2**2*h**2/(8*m*l**2) # Calculation of energy in Joule\n",
    "E1_eV = E1/1.6e-19 # Calculation of energy in eV\n",
    "E2_eV = E2/1.6e-19 # Calculation of energy in eV\n",
    "print(\"Energy of electron for state in eV:\"),round(E1_eV,2),round(E2_eV,2)"
   ]
  },
  {
   "cell_type": "markdown",
   "metadata": {},
   "source": [
    "## example 2.26;page no:105"
   ]
  },
  {
   "cell_type": "code",
   "execution_count": 23,
   "metadata": {
    "collapsed": false
   },
   "outputs": [
    {
     "name": "stdout",
     "output_type": "stream",
     "text": [
      "Example 2.26,page no:105\n",
      "Probability of finding electron between L and L in percent: 19.84\n"
     ]
    }
   ],
   "source": [
    "#cal of Probability of finding electron\n",
    "#intiation of all variables \n",
    "#given that\n",
    "import math\n",
    "L = 1# let unit length\n",
    "l1 = 0.45*L # initial point\n",
    "l2 = 0.55*L # Final point\n",
    "print(\"Example 2.26,page no:105\")\n",
    "p = (1/L)*((l2-(L/(2*math.pi) *math.sin(2*l2*math.pi/L)))- (l1-(L/(2*math.pi) *math.sin(2*l1*math.pi/L)))) # Calculation of probability of finding particle\n",
    "p_per = p*100 # probability of finding particle in percentage\n",
    "print(\"Probability of finding electron between L and L in percent:\"),round(p_per,2)"
   ]
  },
  {
   "cell_type": "markdown",
   "metadata": {},
   "source": [
    "## example 2.27;page no:107"
   ]
  },
  {
   "cell_type": "code",
   "execution_count": 24,
   "metadata": {
    "collapsed": false
   },
   "outputs": [
    {
     "name": "stdout",
     "output_type": "stream",
     "text": [
      "Example 2.27,page no:107\n",
      "Difference between first state and ground state energies in eV: 113.21\n"
     ]
    }
   ],
   "source": [
    "#cal of Difference between first state and ground state energies\n",
    "#intiation of all variables \n",
    "#given that\n",
    "l = 1e-8 # width of potential well in cm\n",
    "h = 6.63e-34 # Plank constant\n",
    "m = 9.1e-31 # mass of electron in Kg\n",
    "print(\"Example 2.27,page no:107\")\n",
    "E_1 = (h)**2/(8*m*(l*1e-2)**2) # Calculation of energy of ground state in Joule\n",
    "E_1_eV = E_1/1.6e-19 # Calculation of energy in eV\n",
    "E_2 = (2)**2*h**2/(8*m*(l*1e-2)**2) # Calculation of energy of first state in Joule\n",
    "E_2_eV = E_2/1.6e-19 # Calculation of energy in eV\n",
    "del_E = E_2_eV - E_1_eV # calculation of difference between first state and ground state\n",
    "print(\"Difference between first state and ground state energies in eV:\"),round(del_E,2)\n",
    "# Answer in book is 113.04 eV"
   ]
  },
  {
   "cell_type": "markdown",
   "metadata": {},
   "source": [
    "## example 2.28;page no:107"
   ]
  },
  {
   "cell_type": "code",
   "execution_count": 25,
   "metadata": {
    "collapsed": false
   },
   "outputs": [
    {
     "name": "stdout",
     "output_type": "stream",
     "text": [
      "Example 2.28,page no:107\n",
      "For state: Energy in eV & wavelength in angstrom: 2 1 0.666666666667 37.7 151.0 339.6\n"
     ]
    }
   ],
   "source": [
    "#cal of de-broglie wave length and energy of electron\n",
    "#intiation of all variables \n",
    "#given that\n",
    "l = 1 # width of potential well in angstrom\n",
    "h = 6.63e-34 # Plank constant\n",
    "m = 9.1e-31 # mass of electron in Kg\n",
    "print(\"Example 2.28,page no:107\")\n",
    "n1=1\n",
    "n2=2\n",
    "n3=3.\n",
    "lamda1 = 2*l/n1 # Calculation of wavelength\n",
    "lamda2 = 2*l/n2 # Calculation of wavelength\n",
    "lamda3 = 2*l/n3 # Calculation of wavelength\n",
    "E1 = n1**2*h**2/(8*m*(l*1e-10)**2) # Calculation of energy in Joule\n",
    "E2 = n2**2*h**2/(8*m*(l*1e-10)**2) # Calculation of energy in Joule\n",
    "E3 = n3**2*h**2/(8*m*(l*1e-10)**2) # Calculation of energy in Joule\n",
    "E1_eV = E1/1.6e-19 # Calculation of energy in eV\n",
    "E2_eV = E2/1.6e-19 # Calculation of energy in eV\n",
    "E3_eV = E3/1.6e-19 # Calculation of energy in eV\n",
    "print(\"For state: Energy in eV & wavelength in angstrom:\"),lamda1,lamda2,lamda3,round(E1_eV,1),round(E2_eV,1),round(E3_eV,1)"
   ]
  },
  {
   "cell_type": "markdown",
   "metadata": {},
   "source": [
    "## example 2.29;page no:108"
   ]
  },
  {
   "cell_type": "code",
   "execution_count": 26,
   "metadata": {
    "collapsed": false
   },
   "outputs": [
    {
     "name": "stdout",
     "output_type": "stream",
     "text": [
      "Example 2.29;page no:108\n",
      "Energy state  E of ball in eV: 3.4341328125e-49 1.373653125e-48 3.09071953125e-48\n",
      "As energy difference is very small so we cannot see energy states:\n"
     ]
    }
   ],
   "source": [
    "#cal of Energy state  E of ball\n",
    "#intiation of all variables \n",
    "#given that\n",
    "#import math\n",
    "m = 1000. #mass of ball in gram\n",
    "l = 1. # length of box in m\n",
    "h = 6.63e-34 # Plank constant\n",
    "n1=1\n",
    "n2=2\n",
    "n3=3\n",
    "print(\"Example 2.29;page no:108\")\n",
    "#for n in range(1,3):\n",
    "E1 = (n1**2*h**2)/(8*m*1e-3*l**2*1.6e-19)\n",
    "E2 = (n2**2*h**2)/(8*m*1e-3*l**2*1.6e-19)\n",
    "E3 = (n3**2*h**2)/(8*m*1e-3*l**2*1.6e-19)\n",
    "print(\"Energy state  E of ball in eV:\"),E1,E2,E3\n",
    "print(\"As energy difference is very small so we cannot see energy states:\")"
   ]
  },
  {
   "cell_type": "markdown",
   "metadata": {},
   "source": [
    "# example 2.30;page no:109"
   ]
  },
  {
   "cell_type": "code",
   "execution_count": 27,
   "metadata": {
    "collapsed": false
   },
   "outputs": [
    {
     "name": "stdout",
     "output_type": "stream",
     "text": [
      "Example 2.30,page no:109\n",
      "Probability of finding particle at centre in percent: 13.3\n"
     ]
    }
   ],
   "source": [
    "#cal of Probability of finding particle at centre\n",
    "#intiation of all variables \n",
    "#given that\n",
    "import math\n",
    "l = 30. # width of potential well in angstrom\n",
    "x = l/2.\n",
    "del_x = 2. # interval of length at centre in angstrom\n",
    "h = 6.63e-34 # Plank constant\n",
    "n = 1. # ground state\n",
    "print(\"Example 2.30,page no:109\")\n",
    "phi_x = ((math.sqrt(2/l))*math.sin(n*math.pi*x/l))**2 \n",
    "p = phi_x*del_x # Calculation of probability at centre\n",
    "print(\"Probability of finding particle at centre in percent:\"),round(p*100,1)\n",
    "# Answer given in book is 16 percent. It is due to wrong calculation "
   ]
  }
 ],
 "metadata": {
  "kernelspec": {
   "display_name": "Python 2",
   "language": "python",
   "name": "python2"
  },
  "language_info": {
   "codemirror_mode": {
    "name": "ipython",
    "version": 2
   },
   "file_extension": ".py",
   "mimetype": "text/x-python",
   "name": "python",
   "nbconvert_exporter": "python",
   "pygments_lexer": "ipython2",
   "version": "2.7.10"
  }
 },
 "nbformat": 4,
 "nbformat_minor": 0
}
