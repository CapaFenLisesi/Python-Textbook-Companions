{
 "cells": [
  {
   "cell_type": "markdown",
   "metadata": {},
   "source": [
    "# chapter3 :X-rays and compton effect"
   ]
  },
  {
   "cell_type": "markdown",
   "metadata": {},
   "source": [
    "## example 3.1;page no:141"
   ]
  },
  {
   "cell_type": "code",
   "execution_count": 1,
   "metadata": {
    "collapsed": false
   },
   "outputs": [
    {
     "name": "stdout",
     "output_type": "stream",
     "text": [
      "Example 3.1,page no:141\n",
      "Longest wavelength in angstrom: 2.82\n"
     ]
    }
   ],
   "source": [
    "#cal of Longest wavelength\n",
    "#intiation of all variables \n",
    "#given that\n",
    "import math\n",
    "d = 2.82 # crystal spacing in angstrom\n",
    "n = 2 # order for longest passing wavelength\n",
    "theta = 90 # angle for longest passing wavelength\n",
    "print(\"Example 3.1,page no:141\")\n",
    "lamda = 2*d*math.sin(theta*math.pi/180)/n # Calculation of longest wavelength\n",
    "print(\"Longest wavelength in angstrom:\"),round(lamda,2)"
   ]
  },
  {
   "cell_type": "markdown",
   "metadata": {},
   "source": [
    "## example 3.2;page no:142"
   ]
  },
  {
   "cell_type": "code",
   "execution_count": 2,
   "metadata": {
    "collapsed": false
   },
   "outputs": [
    {
     "name": "stdout",
     "output_type": "stream",
     "text": [
      "Example 3.2,page no:142\n",
      "Angle for nd order maxima in degree: 36.87\n",
      "Angle for rd order maxima in degree: 64.16\n"
     ]
    }
   ],
   "source": [
    "#cal of Angle at which second and third order bragg's\n",
    "#intiation of all variables \n",
    "#given that\n",
    "import math\n",
    "lamda = 0.3 # Wavelength in angstrom\n",
    "d = 0.5 # crystal spacing in angstrom\n",
    "n = 2. # order \n",
    "m = 3. # order\n",
    "print(\"Example 3.2,page no:142\")\n",
    "theta_n = math.asin(n*lamda/(2*d))*180/math.pi # Calculation of angle for order n\n",
    "theta_m = math.asin(m*lamda/(2*d))*180/math.pi  # Calculation of angle for order m\n",
    "print(\"Angle for nd order maxima in degree:\"),round(theta_n,2)\n",
    "print(\"Angle for rd order maxima in degree:\"),round(theta_m,2)\n",
    "# Answers in book are 40.97 degree and 72.29 degree which are due to wrong calculation"
   ]
  },
  {
   "cell_type": "markdown",
   "metadata": {},
   "source": [
    "# example 3.3;page no:142"
   ]
  },
  {
   "cell_type": "code",
   "execution_count": 3,
   "metadata": {
    "collapsed": false
   },
   "outputs": [
    {
     "name": "stdout",
     "output_type": "stream",
     "text": [
      "Example 3.3,page no:142\n",
      "Longest wavelength in angstrom: 0.935\n"
     ]
    }
   ],
   "source": [
    "#cal of Longest wavelength\n",
    "#intiation of all variables \n",
    "#given that\n",
    "import math\n",
    "d = 1.87 # crystal spacing in angstrom\n",
    "n = 2 # order for longest passing wavelength\n",
    "theta = 30 # angle for longest passing wavelength\n",
    "print(\"Example 3.3,page no:142\")\n",
    "lamda = 2*d*math.sin(theta*math.pi/180)/n # Calculation of longest wavelength\n",
    "print(\"Longest wavelength in angstrom:\"),round(lamda,3)"
   ]
  },
  {
   "cell_type": "markdown",
   "metadata": {},
   "source": [
    "## example 3.4;page no:143"
   ]
  },
  {
   "cell_type": "code",
   "execution_count": 4,
   "metadata": {
    "collapsed": false
   },
   "outputs": [
    {
     "name": "stdout",
     "output_type": "stream",
     "text": [
      "Example 3.4,page no:143\n",
      "Crystal spacing in angstrom in cm: 2.15e-08\n"
     ]
    }
   ],
   "source": [
    "#cal of Crystal spacing\n",
    "#intiation of all variables \n",
    "#given that\n",
    "import math\n",
    "lamda = 3.6e-9 # Wavelength in cm\n",
    "theta = 4.8 # glancing angle in degree\n",
    "n = 1 # order \n",
    "print(\"Example 3.4,page no:143\")\n",
    "d = n*lamda/(2*math.sin(theta*math.pi/180)) # calculation of crystal spacing in angstrom\n",
    "print(\"Crystal spacing in angstrom in cm:\"),round(d,10)"
   ]
  },
  {
   "cell_type": "markdown",
   "metadata": {},
   "source": [
    "## example 3.5;page no:143"
   ]
  },
  {
   "cell_type": "code",
   "execution_count": 5,
   "metadata": {
    "collapsed": false
   },
   "outputs": [
    {
     "name": "stdout",
     "output_type": "stream",
     "text": [
      "Example 3.5,page no:143\n",
      "Longest wavelength in angstrom: 1.71\n"
     ]
    }
   ],
   "source": [
    "#cal of Longest wavelength\n",
    "#intiation of all variables \n",
    "#given that\n",
    "import math\n",
    "d = 2.5 # crystal spacing in angstrom\n",
    "n = 1 # order for longest passing wavelength\n",
    "theta = 20 # angle for longest passing wavelength\n",
    "print(\"Example 3.5,page no:143\")\n",
    "lamda = 2*d*math.sin(theta*math.pi/180)/n # Calculation of longest wavelength\n",
    "print(\"Longest wavelength in angstrom:\"),round(lamda,2)"
   ]
  },
  {
   "cell_type": "markdown",
   "metadata": {},
   "source": [
    "## example 3.6;page no:144"
   ]
  },
  {
   "cell_type": "code",
   "execution_count": 6,
   "metadata": {
    "collapsed": false
   },
   "outputs": [
    {
     "name": "stdout",
     "output_type": "stream",
     "text": [
      "Example 3.6,page no:144\n",
      "Longest wavelength is of angstrom: 5.0\n"
     ]
    }
   ],
   "source": [
    "#cal of Longest wavelength\n",
    "#intiation of all variables \n",
    "#given that\n",
    "import math\n",
    "d = 2.5 # crystal spacing in angstrom\n",
    "n = 1 # order for longest passing wavelength\n",
    "theta = 90 # angle for longest passing wavelength\n",
    "print(\"Example 3.6,page no:144\")\n",
    "lamda = 2*d*math.sin(theta*math.pi/180)/n # Calculation of longest wavelength\n",
    "print(\"Longest wavelength is of angstrom:\"),round(lamda)"
   ]
  },
  {
   "cell_type": "markdown",
   "metadata": {},
   "source": [
    "## example 3.7;page no:144"
   ]
  },
  {
   "cell_type": "code",
   "execution_count": 7,
   "metadata": {
    "collapsed": false
   },
   "outputs": [
    {
     "name": "stdout",
     "output_type": "stream",
     "text": [
      "Example 3.7,page no:144\n",
      "Interatomic layer separation ratios in crystal are as 1 : 1.4 1.8\n",
      "Above relation shows that crystal is simple cubic crystal structure.\n",
      "therefore Interatomic layer separation ratios in crystal is 1:1.4:1.77\n"
     ]
    }
   ],
   "source": [
    "#cal of Interatomic layer separation ratios in crystal\n",
    "#intiation of all variables \n",
    "#given that\n",
    "import math\n",
    "theta1_deg = 5 # Absolut degree part of angle for first angle\n",
    "theta1_min = 23#remainder minute part of angle for first angle\n",
    "theta2_deg = 7 # Absolut degree part of angle for second angle\n",
    "theta2_min = 37#remainder minute part of angle for second angle\n",
    "theta3_deg = 9 # Absolut degree part of angle for third angle\n",
    "theta3_min = 25#remainder minute part of angle for third angle\n",
    "print(\"Example 3.7,page no:144\")\n",
    "val1 = math.sin((theta1_deg+ theta1_min/60)*math.pi/180)# Sin value for first angle\n",
    "val2 = math.sin((theta2_deg+ theta2_min/60)*math.pi/180) #Sin value for second angle\n",
    "val3 = math.sin((theta3_deg+ theta3_min/60)*math.pi/180)#Sin value for third angle\n",
    "ratio_21 = val2/val1\n",
    "ratio_31 = val3/val1\n",
    "print(\"Interatomic layer separation ratios in crystal are as 1 :\"),round(ratio_21,1),round(ratio_31,1)\n",
    "print(\"Above relation shows that crystal is simple cubic crystal structure.\")\n",
    "print(\"therefore Interatomic layer separation ratios in crystal is 1:1.4:1.77\")"
   ]
  },
  {
   "cell_type": "markdown",
   "metadata": {},
   "source": [
    "## example 3.8;page no:145"
   ]
  },
  {
   "cell_type": "code",
   "execution_count": 8,
   "metadata": {
    "collapsed": false
   },
   "outputs": [
    {
     "name": "stdout",
     "output_type": "stream",
     "text": [
      "Example 3.8,page no:145\n",
      "If order is then spacing in angstrom: 3.64 1.82 1.21 0.91\n"
     ]
    }
   ],
   "source": [
    "#cal of possible spacing of this set of planes\n",
    "#intiation of all variables \n",
    "#given that\n",
    "import math\n",
    "lamda = 1.2 # wavelength in angstrom\n",
    "theta_deg = 9. # angle fraction in degree\n",
    "theta_min = 30. # Angle fraction in minute\n",
    "print(\"Example 3.8,page no:145\")\n",
    "theta = theta_deg+theta_min/60 # Total angel\n",
    "n1 =1\n",
    "n2 =2\n",
    "n3 =3\n",
    "n4 =4\n",
    "d1 = lamda/(n1*2*math.sin(theta*math.pi/180)) # Inter layer spacing\n",
    "d2 = lamda/(n2*2*math.sin(theta*math.pi/180)) # Inter layer spacing\n",
    "d3 = lamda/(n3*2*math.sin(theta*math.pi/180)) # Inter layer spacing\n",
    "d4 = lamda/(n4*2*math.sin(theta*math.pi/180)) # Inter layer spacing\n",
    "print(\"If order is then spacing in angstrom:\"),round(d1,2),round(d2,2),round(d3,2),round(d4,2)"
   ]
  },
  {
   "cell_type": "markdown",
   "metadata": {},
   "source": [
    "## example 3.9;page no:146"
   ]
  },
  {
   "cell_type": "code",
   "execution_count": 9,
   "metadata": {
    "collapsed": false
   },
   "outputs": [
    {
     "name": "stdout",
     "output_type": "stream",
     "text": [
      "Example 3.9,page no:146\n",
      "Spacing of crystal in angstrom: 0.384\n"
     ]
    }
   ],
   "source": [
    "#cal of Spacing of crystal\n",
    "#intiation of all variables \n",
    "#given that\n",
    "import math\n",
    "h = 6.62e-34 # Planks constant\n",
    "m_e = 9.1e-31 # mass of electron in kg\n",
    "e = 1.6e-19 # charge on electron in coulomb\n",
    "v = 340 # Applied voltage in volt\n",
    "n = 1 # order for longest passing wavelength\n",
    "theta = 60 # angle for longest passing wavelength\n",
    "print(\"Example 3.9,page no:146\")\n",
    "lamda= h/math.sqrt(2*m_e*e*v) # calculation of wavelength\n",
    "d = n*lamda/(2*math.sin(theta*math.pi/180))# calculation of spacing of crystal\n",
    "print(\"Spacing of crystal in angstrom:\"),round(d*1e10,3)"
   ]
  },
  {
   "cell_type": "markdown",
   "metadata": {},
   "source": [
    "## example 3.10;page no:147"
   ]
  },
  {
   "cell_type": "code",
   "execution_count": 10,
   "metadata": {
    "collapsed": false
   },
   "outputs": [
    {
     "name": "stdout",
     "output_type": "stream",
     "text": [
      "Example 3.10,page no:147\n",
      "Energy of recoiled electron in KeV: 2.55\n",
      "Example 3.10,page no:147\n",
      "Energy of recoiled electron in KeV: 2.55\n"
     ]
    }
   ],
   "source": [
    "#cal of Energy of recoiled electron\n",
    "#intiation of all variables \n",
    "#given that\n",
    "import math\n",
    "E = 100. # Energy of X ray beam in KeV\n",
    "theta = 30. # Scattering angle in degree\n",
    "m = 9.1e-31 # mass of electron in kg\n",
    "c = 3.e8 # Speed of light in m/s\n",
    "print(\"Example 3.10,page no:147\")\n",
    "E_rest = m*c**2/(1.6e-19*1e3) # Rest mass energy in KeV\n",
    "k = 1/E + (1-math.cos(theta*math.pi/180))/(E_rest)\n",
    "del_e = E - 1/k # Energy of recoiled electron\n",
    "print(\"Energy of recoiled electron in KeV:\"),round(del_e,2)\n",
    "#cal of Energy of recoiled electron\n",
    "#intiation of all variables \n",
    "#given that\n",
    "import math\n",
    "E = 100. # Energy of X ray beam in KeV\n",
    "theta = 30. # Scattering angle in degree\n",
    "m = 9.1e-31 # mass of electron in kg\n",
    "c = 3.e8 # Speed of light in m/s\n",
    "print(\"Example 3.10,page no:147\")\n",
    "E_rest = m*c**2/(1.6e-19*1e3) # Rest mass energy in KeV\n",
    "k = 1/E + (1-math.cos(theta*math.pi/180))/(E_rest)\n",
    "del_e = E - 1/k # Energy of recoiled electron\n",
    "print(\"Energy of recoiled electron in KeV:\"),round(del_e,2)"
   ]
  },
  {
   "cell_type": "markdown",
   "metadata": {},
   "source": [
    "## example 3.11;page no:148"
   ]
  },
  {
   "cell_type": "code",
   "execution_count": 11,
   "metadata": {
    "collapsed": false
   },
   "outputs": [
    {
     "name": "stdout",
     "output_type": "stream",
     "text": [
      "Example 3.11,page no:148\n",
      "Wavelength shift in angstrom: 0.0242\n"
     ]
    }
   ],
   "source": [
    "#cal of Wavelength shift\n",
    "#intiation of all variables \n",
    "#given that\n",
    "import math\n",
    "lamda = 1 #wavelength in angstrom\n",
    "h = 6.62e-34 # Planks constant\n",
    "m_e = 9.1e-31 # mass of electron in kg\n",
    "c = 3e8 # speed of light in m/sec\n",
    "theta = 90 # angle for longest passing wavelength\n",
    "print(\"Example 3.11,page no:148\")\n",
    "d_lamda= h*(1-math.cos(theta*math.pi/180))/(m_e*c) # calculation of wavelength shift \n",
    "print(\"Wavelength shift in angstrom:\"),round(d_lamda*1e10,4)"
   ]
  },
  {
   "cell_type": "markdown",
   "metadata": {},
   "source": [
    "## example 3.12;page no:149"
   ]
  },
  {
   "cell_type": "code",
   "execution_count": 12,
   "metadata": {
    "collapsed": false
   },
   "outputs": [
    {
     "name": "stdout",
     "output_type": "stream",
     "text": [
      "Example 3.12,page no:149\n",
      "Wavelength shift in angstrom: 0.027\n"
     ]
    }
   ],
   "source": [
    "#cal of Wavelength shift\n",
    "#intiation of all variables \n",
    "#given that\n",
    "import math\n",
    "lamda = 0.015 #wavelength in angstrom\n",
    "h = 6.63e-34 # Planks constant\n",
    "m_e = 9.1e-31 # mass of electron in kg\n",
    "c = 3e8 # speed of light in m/sec\n",
    "theta = 60 # angle for longest passing wavelength\n",
    "print(\"Example 3.12,page no:149\")\n",
    "d_lamda= h*(1-math.cos(theta*math.pi/180))*1e10/(m_e*c) # calculation of wavelength shift in angstrom\n",
    "lamda_n = lamda+d_lamda\n",
    "print(\"Wavelength shift in angstrom:\"),round(lamda_n,3)"
   ]
  },
  {
   "cell_type": "markdown",
   "metadata": {},
   "source": [
    "## example 3.13;page no:150"
   ]
  },
  {
   "cell_type": "code",
   "execution_count": 13,
   "metadata": {
    "collapsed": false
   },
   "outputs": [
    {
     "name": "stdout",
     "output_type": "stream",
     "text": [
      "Example 3.13,page no:150\n",
      "Wavelength shift in angstrom: 1.0243\n",
      "Energy of recoiled electron in eV: 295.0\n"
     ]
    }
   ],
   "source": [
    "#cal of Wavelength shift and Energy of recoiled electron\n",
    "#intiation of all variables \n",
    "#given that\n",
    "import math\n",
    "lamda = 1 #wavelength in angstrom\n",
    "h = 6.63e-34 # Planks constant\n",
    "m_e = 9.1e-31 # mass of electron in kg\n",
    "c = 3e8 # speed of light in m/sec\n",
    "theta = 90 # angle for longest passing wavelength\n",
    "print(\"Example 3.13,page no:150\")\n",
    "d_lamda= h*(1-math.cos(theta*math.pi/180))*1e10/(m_e*c) # calculation of wavelength shift in angstrom\n",
    "lamda_n = lamda+d_lamda # Calculation of recoiled electron wavelength\n",
    "d_E = h*c*(lamda_n-lamda)*1e10/(1.6e-19*lamda_n*lamda)# Calculation of recoiled electron energy in eV\n",
    "print(\"Wavelength shift in angstrom:\"),round(lamda_n,4)\n",
    "print(\"Energy of recoiled electron in eV:\"),round(d_E)"
   ]
  },
  {
   "cell_type": "markdown",
   "metadata": {},
   "source": [
    "## example 3.14;page no:151"
   ]
  },
  {
   "cell_type": "code",
   "execution_count": 14,
   "metadata": {
    "collapsed": false
   },
   "outputs": [
    {
     "name": "stdout",
     "output_type": "stream",
     "text": [
      "Example 3.14,page no:151\n",
      "Wavelength shift in angstrom: 0.0243\n",
      "Energy of recoiled electron in KeV: 511.88\n"
     ]
    }
   ],
   "source": [
    "#cal of wavelength shift and energy of recoiled electron\n",
    "#intiation of all variables \n",
    "#given that\n",
    "lamda = 1 #let wavelength in angstrom\n",
    "lamda_n = 2*lamda # recoiled electron wavelength\n",
    "h = 6.63e-34 # Planks constant\n",
    "m_e = 9.1e-31 # mass of electron in kg\n",
    "c = 3e8 # speed of light in m/sec\n",
    "theta = 90 # angle for longest passing wavelength\n",
    "print(\"Example 3.14,page no:151\")\n",
    "lamda = h*1e10/(m_e*c) # calculation of wavelength in angstrom\n",
    "E = h*c*1e10/(lamda*1.6e-19) # calculation of energy of electron\n",
    "print(\"Wavelength shift in angstrom:\"),round(lamda,4)\n",
    "print(\"Energy of recoiled electron in KeV:\"),round(E/1e3,2)"
   ]
  },
  {
   "cell_type": "markdown",
   "metadata": {},
   "source": [
    "## example 3.15;page no:152"
   ]
  },
  {
   "cell_type": "code",
   "execution_count": 15,
   "metadata": {
    "collapsed": false
   },
   "outputs": [
    {
     "name": "stdout",
     "output_type": "stream",
     "text": [
      "Example 3.15,page no:152\n",
      "Fraction of energy lost by photon is: 0.00356\n"
     ]
    }
   ],
   "source": [
    "#cal of Fraction of energy lost by photon\n",
    "#intiation of all variables \n",
    "#given that\n",
    "import math\n",
    "lamda = 2 #wavelength in angstrom\n",
    "h = 6.63e-34 # Planks constant\n",
    "m_e = 9.1e-31 # mass of electron in kg\n",
    "c = 3e8 # speed of light in m/sec\n",
    "theta = 45 # scattering angle \n",
    "print(\"Example 3.15,page no:152\")\n",
    "d_lamda= h*(1-math.cos(theta*math.pi/180))*1e10/(m_e*c) # calculation of wavelength shift in angstrom\n",
    "lamda_n = lamda+d_lamda # Calculation of recoiled electron wavelength\n",
    "f = d_lamda/lamda # Calculation of fraction of energy lost by photon \n",
    "print(\"Fraction of energy lost by photon is:\"),round(f,5)"
   ]
  },
  {
   "cell_type": "markdown",
   "metadata": {},
   "source": [
    "## example 3.16;page no:153"
   ]
  },
  {
   "cell_type": "code",
   "execution_count": 16,
   "metadata": {
    "collapsed": false
   },
   "outputs": [
    {
     "name": "stdout",
     "output_type": "stream",
     "text": [
      "Example 3.16,page no:153\n",
      "Wavelength of scattered radiation in Angstrom: 0.0487\n"
     ]
    }
   ],
   "source": [
    "#cal of wavelength of scattered radiation\n",
    "#intiation of all variables \n",
    "#given that\n",
    "import math\n",
    "E_eV = 510 # Energy of gamma ray in keV\n",
    "lamda = 2 #wavelength in angstrom\n",
    "h = 6.63e-34 # Planks constant\n",
    "m_e = 9.1e-31 # mass of electron in kg\n",
    "c = 3e8 # speed of light in m/sec\n",
    "theta = 90 # scattering angle in degree\n",
    "print(\"Example 3.16,page no:153\")\n",
    "E_j = E_eV*1e3*1.6e-19 # Energy of gamma ray in Joule\n",
    "lamda = h*c*1e10/E_j # Calculation of wavelength in angstrom\n",
    "d_lamda= h*(1-math.cos(theta*math.pi/180))*1e10/(m_e*c) # calculation of wavelength shift in angstrom\n",
    "lamda_n = lamda+d_lamda # Calculation of recoiled electron wavelength\n",
    "print(\"Wavelength of scattered radiation in Angstrom:\"),round(lamda_n,4)"
   ]
  },
  {
   "cell_type": "markdown",
   "metadata": {},
   "source": [
    "## example 3.17;page no:154"
   ]
  },
  {
   "cell_type": "code",
   "execution_count": 17,
   "metadata": {
    "collapsed": false
   },
   "outputs": [
    {
     "name": "stdout",
     "output_type": "stream",
     "text": [
      "Example 3.17,page no:154\n",
      "Scattered wavelength in angstrom: 2.0243\n",
      "Energy of recoiled electron in eV: 74.6\n"
     ]
    }
   ],
   "source": [
    "#cal of Scattered wavelength and Energy of recoiled electron\n",
    "#intiation of all variables \n",
    "#given that\n",
    "import math\n",
    "lamda = 2 #wavelength in angstrom\n",
    "h = 6.63e-34 # Planks constant\n",
    "m_e = 9.1e-31 # mass of electron in kg\n",
    "c = 3e8 # speed of light in m/sec\n",
    "theta = 90 # angle for longest passing wavelength\n",
    "print(\"Example 3.17,page no:154\")\n",
    "d_lamda= h*(1-math.cos(theta*math.pi/180))*1e10/(m_e*c) # calculation of wavelength shift in angstrom\n",
    "lamda_n = lamda+d_lamda # Calculation of recoiled electron wavelength\n",
    "d_E = h*c*(lamda_n-lamda)*1e10/(1.6e-19*lamda_n*lamda)# Calculation of recoiled electron energy in eV\n",
    "print(\"Scattered wavelength in angstrom:\"),round(lamda_n,4)\n",
    "print(\"Energy of recoiled electron in eV:\"),round(d_E,1)"
   ]
  },
  {
   "cell_type": "markdown",
   "metadata": {},
   "source": [
    "## example 3.18;page no:155"
   ]
  },
  {
   "cell_type": "code",
   "execution_count": 18,
   "metadata": {
    "collapsed": false
   },
   "outputs": [
    {
     "name": "stdout",
     "output_type": "stream",
     "text": [
      "Example 3.18,page no:155\n",
      "Wavelength of scattered radiation in m: 4.87e-12\n",
      "Energy of recoiled electron in MeV: 0.255\n"
     ]
    }
   ],
   "source": [
    "#cal of Wavelength of scattered radiation and Energy of recoiled electron\n",
    "#intiation of all variables \n",
    "#given that\n",
    "import math\n",
    "E_eV = 510 # Energy of gamma ray in keV\n",
    "h = 6.63e-34 # Planks constant\n",
    "m_e = 9.1e-31 # mass of electron in kg\n",
    "c = 3e8 # speed of light in m/sec\n",
    "theta = 90 # scattering angle in degree\n",
    "print(\"Example 3.18,page no:155\")\n",
    "E_j = E_eV*1e3*1.6e-19 # Energy of gamma ray in Joule\n",
    "lamda = h*c/E_j # Calculation of wavelength in meter\n",
    "d_lamda= h*(1-math.cos(theta*math.pi/180))*1e10/(m_e*c) # calculation of wavelength shift in angstrom\n",
    "lamda_n = lamda+d_lamda/1e10 # Calculation of recoiled electron wavelength\n",
    "d_E = h*c*(d_lamda/1e10)/(1.6e-19*lamda_n*lamda)# Calculation of recoiled electron energy in eV\n",
    "psi= math.atan(1/(math.tan((theta*math.pi/180)/2)/(1+(h/(lamda*m_e*c))))) \n",
    "phi_deg = 90 -psi*180/math.pi # Calculation of degree part of angle of recoiled electron \n",
    "#phi_min = 60*(phi_deg - floor(phi_deg))# Calculation of minute part of angle of recoiled electron \n",
    "print(\"Wavelength of scattered radiation in m:\"),round(lamda_n,14)\n",
    "print(\"Energy of recoiled electron in MeV:\"),round(d_E/1e6,3)\n",
    "#print(\"Recoiled electron angle in degree minute:\"),round(phi_deg),round(phi_min)"
   ]
  },
  {
   "cell_type": "markdown",
   "metadata": {},
   "source": [
    "## example 3.19;page no:157"
   ]
  },
  {
   "cell_type": "code",
   "execution_count": 19,
   "metadata": {
    "collapsed": false
   },
   "outputs": [
    {
     "name": "stdout",
     "output_type": "stream",
     "text": [
      "Example 3.19,page no:157\n",
      "Frequency after collision in Hz: 1.72131147541e+19\n"
     ]
    }
   ],
   "source": [
    "#cal of Frequency after collision\n",
    "#intiation of all variables \n",
    "#given that\n",
    "nu = 2e19 # initial frequency of X ray photon\n",
    "h = 6.63e-34 # Planks constant\n",
    "m_e = 9.1e-31 # mass of electron in kg\n",
    "c = 3e8 # speed of light in m/sec\n",
    "theta = 90 # scattering angle in degree\n",
    "print(\"Example 3.19,page no:157\")\n",
    "d_lamda = h/(m_e*c) # calculation of wavelength shift\n",
    "k = 1/nu + d_lamda/c\n",
    "nu_1 = 1/k # Frequency after collision\n",
    "nu_1 = (nu_1/1e18)*1e18 # rounding off\n",
    "print(\"Frequency after collision in Hz:\"),round(nu_1,19)"
   ]
  }
 ],
 "metadata": {
  "kernelspec": {
   "display_name": "Python 2",
   "language": "python",
   "name": "python2"
  },
  "language_info": {
   "codemirror_mode": {
    "name": "ipython",
    "version": 2
   },
   "file_extension": ".py",
   "mimetype": "text/x-python",
   "name": "python",
   "nbconvert_exporter": "python",
   "pygments_lexer": "ipython2",
   "version": "2.7.10"
  }
 },
 "nbformat": 4,
 "nbformat_minor": 0
}
