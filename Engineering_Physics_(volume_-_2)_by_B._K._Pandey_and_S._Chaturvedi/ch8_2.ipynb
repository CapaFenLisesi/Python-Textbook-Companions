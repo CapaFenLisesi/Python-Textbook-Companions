{
 "metadata": {
  "name": "",
  "signature": "sha256:497ece365171c1444da23921d16f63e0c1b4e77fbb7335ff607952ae9c43252d"
 },
 "nbformat": 3,
 "nbformat_minor": 0,
 "worksheets": [
  {
   "cells": [
    {
     "cell_type": "heading",
     "level": 1,
     "metadata": {},
     "source": [
      "Chapter 8 : Superconductivity"
     ]
    },
    {
     "cell_type": "heading",
     "level": 2,
     "metadata": {},
     "source": [
      "Example 8.1  Page No251"
     ]
    },
    {
     "cell_type": "code",
     "collapsed": false,
     "input": [
      "import math \n",
      "# Given that\n",
      "H_c_0=  0.0306# Critical Field in tesla\n",
      "T_c = 3.7 # Critical temperature in kelvin\n",
      "T = 2 # Temperature in kelvin\n",
      "print \"Example 8.1\"\n",
      "print \"Smath.radians(numpy.arcmath.tan(ard formula used \\tH_c = H_c_0*1-T/T_c**2  \"\n",
      "H_c = H_c_0*(1-(T/T_c)**2) # Calculation of critical field\n",
      "\n",
      "print \"Magnetic Field at %d K is %f tesla.\"%(T,H_c)\n"
     ],
     "language": "python",
     "metadata": {},
     "outputs": [
      {
       "output_type": "stream",
       "stream": "stdout",
       "text": [
        "Example 8.1\n",
        "Smath.radians(numpy.arcmath.tan(ard formula used \tH_c = H_c_0*1-T/T_c**2  \n",
        "Magnetic Field at 2 K is 0.021659 tesla.\n"
       ]
      }
     ],
     "prompt_number": 15
    },
    {
     "cell_type": "heading",
     "level": 2,
     "metadata": {},
     "source": [
      "Example 8.2  Page No255"
     ]
    },
    {
     "cell_type": "code",
     "collapsed": false,
     "input": [
      "import math \n",
      "\n",
      "# Given that\n",
      "H_c=  3.3e4 # # Magnetic field in A/m\n",
      "T_c = 7.2 # Critical temperature in kelvin\n",
      "T = 5 # Temperature in kelvin\n",
      "print \"Example 8.2\"\n",
      "print \"Smath.radians(numpy.arcmath.tan(ard formula used \\tH_c = H_c_0*1-T/T_c**2  \"\n",
      "H_c_0 = H_c*(1-(T/T_c)**2)**(-1) # Calculation of critical field\n",
      "print \"Magnetic Field at %d K is %e A/m\"%(T,H_c_0)\n"
     ],
     "language": "python",
     "metadata": {},
     "outputs": [
      {
       "output_type": "stream",
       "stream": "stdout",
       "text": [
        "Example 8.2\n",
        "Smath.radians(numpy.arcmath.tan(ard formula used \tH_c = H_c_0*1-T/T_c**2  \n",
        "Magnetic Field at 5 K is 6.373770e+04 A/m\n"
       ]
      }
     ],
     "prompt_number": 2
    },
    {
     "cell_type": "heading",
     "level": 2,
     "metadata": {},
     "source": [
      "Example 8.3  Page No257"
     ]
    },
    {
     "cell_type": "code",
     "collapsed": false,
     "input": [
      "import math \n",
      "\n",
      "# Given that\n",
      "H_c_0= 1 # Let \n",
      "H_c= 0.1 * H_c_0 # Magnetic field in A/m\n",
      "T_c = 7.2 # Critical temperature in kelvin\n",
      "\n",
      "print \"Example 8.3\"\n",
      "print \"Smath.radians(numpy.arcmath.tan(ard formula used \\tH_c = H_c_0*1-T/T_c**2  \"\n",
      "T = T_c*math.sqrt(1- (H_c/H_c_0)) # Calculation of Temperature\n",
      "\n",
      "print \"Required temperature is %f K.\"%(T)\n"
     ],
     "language": "python",
     "metadata": {},
     "outputs": [
      {
       "output_type": "stream",
       "stream": "stdout",
       "text": [
        "Example 8.3\n",
        "Smath.radians(numpy.arcmath.tan(ard formula used \tH_c = H_c_0*1-T/T_c**2  \n",
        "Required temperature is 6.830520 K.\n"
       ]
      }
     ],
     "prompt_number": 3
    },
    {
     "cell_type": "heading",
     "level": 2,
     "metadata": {},
     "source": [
      "Example 8.4  Page No257"
     ]
    },
    {
     "cell_type": "code",
     "collapsed": false,
     "input": [
      "import math \n",
      "\n",
      "\n",
      "# Given that\n",
      "H_c_0=  0.0803# Critical Field in tesla\n",
      "T_c = 7.2 # Critical temperature in kelvin\n",
      "T = 4.2 # Temperature in kelvin\n",
      "print \"Example 8.4\"\n",
      "print \"Smath.radians(numpy.arcmath.tan(ard formula used \\tH_c = H_c_0*1-T/T_c**2  \"\n",
      "H_c = H_c_0*(1-(T/T_c)**2) # Calculation of critical field\n",
      "\n",
      "print \"Magnetic Field at %d K is %f tesla.\"%(T,H_c)\n",
      "# Answer in book is 0.0548 tesla\n"
     ],
     "language": "python",
     "metadata": {},
     "outputs": [
      {
       "output_type": "stream",
       "stream": "stdout",
       "text": [
        "Example 8.4\n",
        "Smath.radians(numpy.arcmath.tan(ard formula used \tH_c = H_c_0*1-T/T_c**2  \n",
        "Magnetic Field at 4 K is 0.052976 tesla.\n"
       ]
      }
     ],
     "prompt_number": 4
    },
    {
     "cell_type": "heading",
     "level": 2,
     "metadata": {},
     "source": [
      "Example 8.5  Page No261"
     ]
    },
    {
     "cell_type": "code",
     "collapsed": false,
     "input": [
      "import math \n",
      "\n",
      "\n",
      "# Given that\n",
      "H_c_0= 1.5e5# Critical field in A/m \n",
      "H_c= 1.05e5 # Magnetic field in A/m\n",
      "T_c = 9.2 # Critical temperature in kelvin\n",
      "\n",
      "print  \"Example 8.5\"\n",
      "print \"Smath.radians(numpy.arcmath.tan(ard formula used \\tH_c = H_c_0*1-T/T_c**2  \"\n",
      "T = T_c*math.sqrt(1- (H_c/H_c_0)) # Calculation of Temperature\n",
      "\n",
      "print \"Required temperature is %f K.\"%(T)\n"
     ],
     "language": "python",
     "metadata": {},
     "outputs": [
      {
       "output_type": "stream",
       "stream": "stdout",
       "text": [
        "Example 8.5\n",
        "Smath.radians(numpy.arcmath.tan(ard formula used \tH_c = H_c_0*1-T/T_c**2  \n",
        "Required temperature is 5.039048 K.\n"
       ]
      }
     ],
     "prompt_number": 5
    },
    {
     "cell_type": "heading",
     "level": 2,
     "metadata": {},
     "source": [
      "Example 8.6  Page No264"
     ]
    },
    {
     "cell_type": "code",
     "collapsed": false,
     "input": [
      "import math \n",
      "\n",
      "\n",
      "# Given that\n",
      "H_c_0= 2e5# Critical field in A/m \n",
      "H_c= 1e5 # Magnetic field in A/m\n",
      "T_c = 8 # Critical temperature  in kelvin\n",
      "\n",
      "print \"Example 8.6\"\n",
      "print \"Smath.radians(numpy.arcmath.tan(ard formula used \\tH_c = H_c_0*1-T/T_c**2  \"\n",
      "T = T_c/math.sqrt(1- (H_c/H_c_0)) # Calculation of Temperature\n",
      "\n",
      "print \"Required temperature is %f K.\"%(T)\n"
     ],
     "language": "python",
     "metadata": {},
     "outputs": [
      {
       "output_type": "stream",
       "stream": "stdout",
       "text": [
        "Example 8.6\n",
        "Smath.radians(numpy.arcmath.tan(ard formula used \tH_c = H_c_0*1-T/T_c**2  \n",
        "Required temperature is 11.313708 K.\n"
       ]
      }
     ],
     "prompt_number": 6
    },
    {
     "cell_type": "heading",
     "level": 2,
     "metadata": {},
     "source": [
      "Example 8.7  Page No265"
     ]
    },
    {
     "cell_type": "code",
     "collapsed": false,
     "input": [
      "import math \n",
      "\n",
      "# Given that\n",
      "H_c_0= 8e5# Critical field in A/m \n",
      "H_c= 4e4 # Magnetic field in A/m\n",
      "T_c = 7.26 # Critical temperature in kelvin\n",
      "\n",
      "print \"Example 8.7\"\n",
      "print \"Smath.radians(numpy.arcmath.tan(ard formula used \\tH_c = H_c_0*1-T/T_c**2  \"\n",
      "T = T_c*math.sqrt(1- (H_c/H_c_0)) # Calculation of Temperature\n",
      "\n",
      "print \"Required temperature is %f K.\"%(T)\n"
     ],
     "language": "python",
     "metadata": {},
     "outputs": [
      {
       "output_type": "stream",
       "stream": "stdout",
       "text": [
        "Example 8.7\n",
        "Smath.radians(numpy.arcmath.tan(ard formula used \tH_c = H_c_0*1-T/T_c**2  \n",
        "Required temperature is 7.076173 K.\n"
       ]
      }
     ],
     "prompt_number": 7
    },
    {
     "cell_type": "heading",
     "level": 2,
     "metadata": {},
     "source": [
      "Example 8.8  Page No268"
     ]
    },
    {
     "cell_type": "code",
     "collapsed": false,
     "input": [
      "import math \n",
      "\n",
      "# Given that\n",
      "T1 = 14 # Temp in K\n",
      "T2 = 13 # Temp in K\n",
      "T = 4.2 # Temp in K\n",
      "Hc_T1 = 0.176 # Critical field at Temp T1\n",
      "Hc_T2 = 0.528 # Critical field at Temp T2\n",
      "\n",
      "print \"Example 8.8\"\n",
      "print \"Smath.radians(numpy.arcmath.tan(ard formula used \\tH_c = H_c_0*1-T/T_c**2  \"\n",
      "T_c = math.sqrt((T1**2*(Hc_T2/Hc_T1)- T2**2) /(Hc_T2/Hc_T1 - 1)) # Calculation of transition temperature\n",
      "t_c = (T_c*10)/10 # Rounding off two two decimal places\n",
      "Hc_0 = Hc_T1/(1-(T1/t_c)**2) # Calculation of critical field\n",
      "Hc_T = Hc_0*(1-(T/t_c)**2) # Calculation of critical field \n",
      "\n",
      "print \" Transition temperature is %f K.\"%(t_c)\n",
      "print \"Critical field at %f K is %fT.\"%(T,Hc_0)\n",
      "print \"Critical field at 0 K is %fT.\"%(Hc_T)\n",
      "# Answer in book is 2.588 T for 0 K and 2.37 for 4.2 K\n"
     ],
     "language": "python",
     "metadata": {},
     "outputs": [
      {
       "output_type": "stream",
       "stream": "stdout",
       "text": [
        "Example 8.8\n",
        "Smath.radians(numpy.arcmath.tan(ard formula used \tH_c = H_c_0*1-T/T_c**2  \n",
        " Transition temperature is 14.474115 K.\n",
        "Critical field at 4.200000 K is 2.731259T.\n",
        "Critical field at 0 K is 2.501286T.\n"
       ]
      }
     ],
     "prompt_number": 10
    },
    {
     "cell_type": "heading",
     "level": 2,
     "metadata": {},
     "source": [
      "Example 8.9  Page No273"
     ]
    },
    {
     "cell_type": "code",
     "collapsed": false,
     "input": [
      "import math \n",
      "\n",
      "# Given that\n",
      "m_0 = 9.1e-31 # Mass of electron in kg\n",
      "mu_0 = 1.256e-6# SI\n",
      "e = 1.6e-19 # Charge on electron in coulomb\n",
      "eta_s = 1e28 # superelectron density in  no. per cube\n",
      "T_1 = 0 # First temp in kelvin\n",
      "T_2 = 1 # Second temp in kelvin\n",
      "T_c = 3 # Critical temp in kelvin\n",
      "\n",
      "print \"Example 8.9\"\n",
      "print \"Smath.radians(numpy.arcmath.tan(ard formula used \\tlambda_0 = math.sqrtm_0/mu_0*eta_s*e**2\"\n",
      "lambda_0 = math.sqrt(m_0/(mu_0*eta_s*e**2))# Calculation of penetration depth at 0K\n",
      "lambda_t = lambda_0/math.sqrt(1-(T_2/T_c)**4) # Calculation of penetration depth at 2K\n",
      "\n",
      "print \"Penetration depth at %d K is %d angestrom.\"%(T_1,lambda_0*1e10)\n",
      "print \"Penetration depth at %d K is %f angestrom.\"%(T_2,lambda_t*1e10)\n"
     ],
     "language": "python",
     "metadata": {},
     "outputs": [
      {
       "output_type": "stream",
       "stream": "stdout",
       "text": [
        "Example 8.9\n",
        "Smath.radians(numpy.arcmath.tan(ard formula used \tlambda_0 = math.sqrtm_0/mu_0*eta_s*e**2\n",
        "Penetration depth at 0 K is 531 angestrom.\n",
        "Penetration depth at 1 K is 531.992971 angestrom.\n"
       ]
      }
     ],
     "prompt_number": 12
    },
    {
     "cell_type": "heading",
     "level": 2,
     "metadata": {},
     "source": [
      "Example 8.10  Page No277"
     ]
    },
    {
     "cell_type": "code",
     "collapsed": false,
     "input": [
      "import math \n",
      "\n",
      "# Given that\n",
      "T_1 = 3.5 # Temperature in kelvin\n",
      "T_c = 4.153 # Critical temp in kelvin\n",
      "lambda_t = 750 # Penetration depth at T_1 in angstrom\n",
      "print \"Example 8.10\"\n",
      "print \"Smath.radians(numpy.arcmath.tan(ard formula used lambda_0 = lambda_t*math.sqrt1-T_1/T_c**4 \"\n",
      "\n",
      "lambda_0 = lambda_t*math.sqrt(1-(T_1/T_c)**4) # Calculation of penetration depth at 3.5K\n",
      "print \" Penetration depth at 0 K is %f angstrom.\"%(lambda_0)\n",
      "\n",
      "\n"
     ],
     "language": "python",
     "metadata": {},
     "outputs": [
      {
       "output_type": "stream",
       "stream": "stdout",
       "text": [
        "Example 8.10\n",
        "Smath.radians(numpy.arcmath.tan(ard formula used lambda_0 = lambda_t*math.sqrt1-T_1/T_c**4 \n",
        " Penetration depth at 0 K is 527.960928 angstrom.\n"
       ]
      }
     ],
     "prompt_number": 13
    },
    {
     "cell_type": "code",
     "collapsed": false,
     "input": [],
     "language": "python",
     "metadata": {},
     "outputs": []
    }
   ],
   "metadata": {}
  }
 ]
}