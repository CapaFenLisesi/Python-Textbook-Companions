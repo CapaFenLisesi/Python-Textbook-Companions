{
 "metadata": {
  "name": "",
  "signature": "sha256:70a62a4d8104a5170dca82f519a0ca63c8b7c13d833950e937b1650a45a6a6fc"
 },
 "nbformat": 3,
 "nbformat_minor": 0,
 "worksheets": [
  {
   "cells": [
    {
     "cell_type": "heading",
     "level": 1,
     "metadata": {},
     "source": [
      "Chapter 2- Moving from C to C++"
     ]
    },
    {
     "cell_type": "heading",
     "level": 2,
     "metadata": {},
     "source": [
      "Example-hello.c, Page no-32"
     ]
    },
    {
     "cell_type": "code",
     "collapsed": false,
     "input": [
      "print \"Hello World\" #printing a statement"
     ],
     "language": "python",
     "metadata": {},
     "outputs": [
      {
       "output_type": "stream",
       "stream": "stdout",
       "text": [
        "Hello World\n"
       ]
      }
     ],
     "prompt_number": 1
    },
    {
     "cell_type": "heading",
     "level": 2,
     "metadata": {},
     "source": [
      "Example-hello.cpp, Page no-32"
     ]
    },
    {
     "cell_type": "code",
     "collapsed": false,
     "input": [
      "print \"Hello World\" #printing a statement"
     ],
     "language": "python",
     "metadata": {},
     "outputs": [
      {
       "output_type": "stream",
       "stream": "stdout",
       "text": [
        "Hello World\n"
       ]
      }
     ],
     "prompt_number": 2
    },
    {
     "cell_type": "heading",
     "level": 2,
     "metadata": {},
     "source": [
      "Example-output.cpp, Page no-36"
     ]
    },
    {
     "cell_type": "code",
     "collapsed": false,
     "input": [
      "msg=\"C++ cout object\"\n",
      "sex='M'\n",
      "age=24\n",
      "number=420.5\n",
      "print sex, \n",
      "print \" \", age, \" \", number\n",
      "print msg\n",
      "print '%d%d%d' %(1,2,3)\n",
      "print number+1\n",
      "print 99.99"
     ],
     "language": "python",
     "metadata": {},
     "outputs": [
      {
       "output_type": "stream",
       "stream": "stdout",
       "text": [
        "M   24   420.5\n",
        "C++ cout object\n",
        "123\n",
        "421.5\n",
        "99.99\n"
       ]
      }
     ],
     "prompt_number": 1
    },
    {
     "cell_type": "heading",
     "level": 2,
     "metadata": {},
     "source": [
      "Example-read.cpp, Page no-38"
     ]
    },
    {
     "cell_type": "code",
     "collapsed": false,
     "input": [
      "name=[None]*25   #char name[25]\n",
      "address=[None]*25 #char address[25]\n",
      "name=raw_input(\"Enter name: \") #take input from user\n",
      "age=int(raw_input(\"Enter Age: \"))\n",
      "address=raw_input(\"Enter address: \")\n",
      "print \"The data entered are: \"\n",
      "print \"Name =\", name\n",
      "print \"Age =\", age\n",
      "print \"Address =\", address"
     ],
     "language": "python",
     "metadata": {},
     "outputs": [
      {
       "name": "stdout",
       "output_type": "stream",
       "stream": "stdout",
       "text": [
        "Enter name: Rajkumar\n"
       ]
      },
      {
       "name": "stdout",
       "output_type": "stream",
       "stream": "stdout",
       "text": [
        "Enter Age: 24\n"
       ]
      },
      {
       "name": "stdout",
       "output_type": "stream",
       "stream": "stdout",
       "text": [
        "Enter address: C-DAC-Bangalore\n"
       ]
      },
      {
       "output_type": "stream",
       "stream": "stdout",
       "text": [
        "The data entered are: \n",
        "Name = Rajkumar\n",
        "Age = 24\n",
        "Address = C-DAC-Bangalore\n"
       ]
      }
     ],
     "prompt_number": 4
    },
    {
     "cell_type": "heading",
     "level": 2,
     "metadata": {},
     "source": [
      "Example-simpint.cpp, Page no-41"
     ]
    },
    {
     "cell_type": "code",
     "collapsed": false,
     "input": [
      "principle=int(raw_input(\"Enter Principle Amount: \"))\n",
      "time=int(raw_input(\"Enter time (in years): \"))\n",
      "rate=int(raw_input(\"Enter Rate of Interest: \"))\n",
      "SimpInt=(principle*time*rate)/100\n",
      "print \"Simple Interest =\", SimpInt\n",
      "total= principle + SimpInt\n",
      "print \"Total Amount =\", total"
     ],
     "language": "python",
     "metadata": {},
     "outputs": [
      {
       "name": "stdout",
       "output_type": "stream",
       "stream": "stdout",
       "text": [
        "Enter Principle Amount: 1000\n"
       ]
      },
      {
       "name": "stdout",
       "output_type": "stream",
       "stream": "stdout",
       "text": [
        "Enter time (in years): 2\n"
       ]
      },
      {
       "name": "stdout",
       "output_type": "stream",
       "stream": "stdout",
       "text": [
        "Enter Rate of Interest: 5\n"
       ]
      },
      {
       "output_type": "stream",
       "stream": "stdout",
       "text": [
        "Simple Interest = 100\n",
        "Total Amount = 1100\n"
       ]
      }
     ],
     "prompt_number": 6
    },
    {
     "cell_type": "heading",
     "level": 2,
     "metadata": {},
     "source": [
      "Example-area.cpp, Page no-42"
     ]
    },
    {
     "cell_type": "code",
     "collapsed": false,
     "input": [
      "PI=3.1452 \n",
      "radius=float(raw_input(\"Enter Radius of Circle: \"))\n",
      "area=PI*radius*radius\n",
      "print \"Area of Circle =\", area"
     ],
     "language": "python",
     "metadata": {},
     "outputs": [
      {
       "name": "stdout",
       "output_type": "stream",
       "stream": "stdout",
       "text": [
        "Enter Radius of Circle: 2\n"
       ]
      },
      {
       "output_type": "stream",
       "stream": "stdout",
       "text": [
        "Area of Circle = 12.5808\n"
       ]
      }
     ],
     "prompt_number": 1
    },
    {
     "cell_type": "heading",
     "level": 2,
     "metadata": {},
     "source": [
      "Example-disp.c, Page no-43"
     ]
    },
    {
     "cell_type": "code",
     "collapsed": false,
     "input": [
      "def display(msg): #pass by reference\n",
      "    print msg\n",
      "    msg=\"Misuse\"\n",
      "    return msg\n",
      "string=[None]*15\n",
      "string=\"Hello World\"\n",
      "string=display(string)\n",
      "print string"
     ],
     "language": "python",
     "metadata": {},
     "outputs": [
      {
       "output_type": "stream",
       "stream": "stdout",
       "text": [
        "Hello World\n",
        "Misuse\n"
       ]
      }
     ],
     "prompt_number": 5
    },
    {
     "cell_type": "heading",
     "level": 2,
     "metadata": {},
     "source": [
      "Example-disp.cpp, Page No-44"
     ]
    },
    {
     "cell_type": "code",
     "collapsed": false,
     "input": [
      "def display(msg): #pass by value\n",
      "    print msg\n",
      "string=[None]*15\n",
      "string=\"Hello World\"\n",
      "display(string)\n",
      "print string"
     ],
     "language": "python",
     "metadata": {},
     "outputs": [
      {
       "output_type": "stream",
       "stream": "stdout",
       "text": [
        "Hello World\n",
        "Hello World\n"
       ]
      }
     ],
     "prompt_number": 6
    },
    {
     "cell_type": "heading",
     "level": 2,
     "metadata": {},
     "source": [
      "Example-global.cpp, Page no-45"
     ]
    },
    {
     "cell_type": "code",
     "collapsed": false,
     "input": [
      "num=20\n",
      "def main():\n",
      "    global num\n",
      "    x=num\n",
      "    num=10\n",
      "    print \"Local =\", num\n",
      "    print \"Global =\",x\n",
      "    print \"Global+Local =\", x+num\n",
      "main()"
     ],
     "language": "python",
     "metadata": {},
     "outputs": [
      {
       "output_type": "stream",
       "stream": "stdout",
       "text": [
        "Local = 10\n",
        "Global = 20\n",
        "Global+Local = 30\n"
       ]
      }
     ],
     "prompt_number": 2
    },
    {
     "cell_type": "heading",
     "level": 2,
     "metadata": {},
     "source": [
      "Example-loop.cpp, Page no-45"
     ]
    },
    {
     "cell_type": "code",
     "collapsed": false,
     "input": [
      "counter=50\n",
      "def main():\n",
      "    global counter\n",
      "    x=counter\n",
      "    for counter in range(1, 10):\n",
      "        print x/counter\n",
      "main()"
     ],
     "language": "python",
     "metadata": {},
     "outputs": [
      {
       "output_type": "stream",
       "stream": "stdout",
       "text": [
        "50\n",
        "25\n",
        "16\n",
        "12\n",
        "10\n",
        "8\n",
        "7\n",
        "6\n",
        "5\n"
       ]
      }
     ],
     "prompt_number": 3
    },
    {
     "cell_type": "heading",
     "level": 2,
     "metadata": {},
     "source": [
      "Example-var1.cpp, Page no-46"
     ]
    },
    {
     "cell_type": "code",
     "collapsed": false,
     "input": [
      "for i in range(5):\n",
      "    print i\n",
      "i+=1;\n",
      "print i"
     ],
     "language": "python",
     "metadata": {},
     "outputs": [
      {
       "output_type": "stream",
       "stream": "stdout",
       "text": [
        "0\n",
        "1\n",
        "2\n",
        "3\n",
        "4\n",
        "5\n"
       ]
      }
     ],
     "prompt_number": 4
    },
    {
     "cell_type": "heading",
     "level": 2,
     "metadata": {},
     "source": [
      "Example-def2.cpp, Page no-46"
     ]
    },
    {
     "cell_type": "code",
     "collapsed": false,
     "input": [
      "a=10\n",
      "def main():\n",
      "    global a\n",
      "    global_a=a\n",
      "    print global_a\n",
      "    a=20\n",
      "    def temp():\n",
      "        a=30\n",
      "        print a\n",
      "        print global_a\n",
      "    temp()\n",
      "    print a\n",
      "    print global_a\n",
      "main()"
     ],
     "language": "python",
     "metadata": {},
     "outputs": [
      {
       "output_type": "stream",
       "stream": "stdout",
       "text": [
        "10\n",
        "30\n",
        "10\n",
        "20\n",
        "10\n"
       ]
      }
     ],
     "prompt_number": 1
    },
    {
     "cell_type": "heading",
     "level": 2,
     "metadata": {},
     "source": [
      "Example-refvar.cpp, Page no-48"
     ]
    },
    {
     "cell_type": "code",
     "collapsed": false,
     "input": [
      "a=z=1\n",
      "b=2\n",
      "c=3\n",
      "print \"a=\",a, \"b=\", b, \"c=\", c, \"z=\", z\n",
      "a=z=b\n",
      "print \"a=\",a, \"b=\", b, \"c=\", c, \"z=\", z\n",
      "a=z=c\n",
      "print \"a=\",a, \"b=\", b, \"c=\", c, \"z=\", z\n",
      "print \"&a=\", hex(id(a)),\"&b=\", hex(id(b)) , \"&c=\", hex(id(c))"
     ],
     "language": "python",
     "metadata": {},
     "outputs": [
      {
       "output_type": "stream",
       "stream": "stdout",
       "text": [
        "a= 1 b= 2 c= 3 z= 1\n",
        "a= 2 b= 2 c= 3 z= 2\n",
        "a= 3 b= 2 c= 3 z= 3\n",
        "&a= 0x1d95f68L &b= 0x1d95f80L &c= 0x1d95f68L\n"
       ]
      }
     ],
     "prompt_number": 1
    },
    {
     "cell_type": "heading",
     "level": 2,
     "metadata": {},
     "source": [
      "Example-reftest.cpp, Page no-49"
     ]
    },
    {
     "cell_type": "code",
     "collapsed": false,
     "input": [
      "from ctypes import c_int, pointer\n",
      "n=c_int(100)\n",
      "p=pointer(n)\n",
      "m=p[0]\n",
      "print \"n =\", n.value, \"m =\", m, \"*p =\", p[0]\n",
      "k=c_int(100)\n",
      "p=pointer(k)\n",
      "k.value=200\n",
      "print \"n =\", n.value, \"m =\", m, \"*p =\", p[0]"
     ],
     "language": "python",
     "metadata": {},
     "outputs": [
      {
       "output_type": "stream",
       "stream": "stdout",
       "text": [
        "n = 100 m = 100 *p = 100\n",
        "n = 100 m = 100 *p = 200\n"
       ]
      }
     ],
     "prompt_number": 3
    },
    {
     "cell_type": "heading",
     "level": 2,
     "metadata": {},
     "source": [
      "Example-newmax.cpp, Page no-50"
     ]
    },
    {
     "cell_type": "code",
     "collapsed": false,
     "input": [
      "def Max(a, b):\n",
      "    if(a>b):\n",
      "        return a\n",
      "    else:\n",
      "        return b\n",
      "x, y=[int(x) for x in raw_input(\"Enter two integers: \").split()] #takes input in a single line separated by white space\n",
      "print \"Maximum =\", Max(x,y)"
     ],
     "language": "python",
     "metadata": {},
     "outputs": [
      {
       "name": "stdout",
       "output_type": "stream",
       "stream": "stdout",
       "text": [
        "Enter two integers: 10 20\n"
       ]
      },
      {
       "output_type": "stream",
       "stream": "stdout",
       "text": [
        "Maximum = 20\n"
       ]
      }
     ],
     "prompt_number": 1
    },
    {
     "cell_type": "heading",
     "level": 2,
     "metadata": {},
     "source": [
      "Example-swap.cpp, Page no-53"
     ]
    },
    {
     "cell_type": "code",
     "collapsed": false,
     "input": [
      "def swap (x, y): #pass by reference\n",
      "    i=x\n",
      "    x=y\n",
      "    y=i\n",
      "    return x, y\n",
      "a, b=[int(x) for x in raw_input(\"Enter two integers <a, b>: \").split()]\n",
      "(a,b)=swap(a, b)\n",
      "print \"On swapping <a, b>:\", a, b "
     ],
     "language": "python",
     "metadata": {},
     "outputs": [
      {
       "name": "stdout",
       "output_type": "stream",
       "stream": "stdout",
       "text": [
        "Enter two integers <a, b>: 2 3\n"
       ]
      },
      {
       "output_type": "stream",
       "stream": "stdout",
       "text": [
        "On swapping <a, b>: 3 2\n"
       ]
      }
     ],
     "prompt_number": 3
    },
    {
     "cell_type": "heading",
     "level": 2,
     "metadata": {},
     "source": [
      "Example-square.cpp, Page no-54"
     ]
    },
    {
     "cell_type": "code",
     "collapsed": false,
     "input": [
      "def square(x):\n",
      "    x=x*x\n",
      "    return x\n",
      "num=float(raw_input('Enter a number <float>: '))\n",
      "print 'Its square =', square(num)"
     ],
     "language": "python",
     "metadata": {},
     "outputs": [
      {
       "name": "stdout",
       "output_type": "stream",
       "stream": "stdout",
       "text": [
        "Enter a number <float>: 5.5\n"
       ]
      },
      {
       "output_type": "stream",
       "stream": "stdout",
       "text": [
        "Its square = 30.25\n"
       ]
      }
     ],
     "prompt_number": 1
    },
    {
     "cell_type": "heading",
     "level": 2,
     "metadata": {},
     "source": [
      "Example-show.c, Page no-56"
     ]
    },
    {
     "cell_type": "code",
     "collapsed": false,
     "input": [
      "def show_integer(val):\n",
      "    print \"Integer: \", val\n",
      "def show_double(val):\n",
      "    print \"Double: \", val\n",
      "def show_string(val):\n",
      "    print \"String: \", val\n",
      "show_integer(420)\n",
      "show_double(3.1415)\n",
      "show_string(\"Hello World\\n!\")"
     ],
     "language": "python",
     "metadata": {},
     "outputs": [
      {
       "output_type": "stream",
       "stream": "stdout",
       "text": [
        "Integer:  420\n",
        "Double:  3.1415\n",
        "String:  Hello World\n",
        "!\n"
       ]
      }
     ],
     "prompt_number": 7
    },
    {
     "cell_type": "heading",
     "level": 2,
     "metadata": {},
     "source": [
      "Example-Show.cpp, Page no-56"
     ]
    },
    {
     "cell_type": "code",
     "collapsed": false,
     "input": [
      "def show(val): #function overloading\n",
      "    if (isinstance(val, int)):\n",
      "        print \"Integer: \", val\n",
      "    if (isinstance(val, float)):\n",
      "        print \"Double: \", val\n",
      "    if(isinstance(val, str)):\n",
      "        print \"String: \", val\n",
      "show(420)\n",
      "show(3.1415)\n",
      "show(\"Hello World\\n!\")"
     ],
     "language": "python",
     "metadata": {},
     "outputs": [
      {
       "output_type": "stream",
       "stream": "stdout",
       "text": [
        "Integer:  420\n",
        "Double:  3.1415\n",
        "String:  Hello World\n",
        "!\n"
       ]
      }
     ],
     "prompt_number": 1
    },
    {
     "cell_type": "heading",
     "level": 2,
     "metadata": {},
     "source": [
      "Example-prnstr.cpp, Page no-58"
     ]
    },
    {
     "cell_type": "code",
     "collapsed": false,
     "input": [
      "def showstring(string=\"Hello World!\"): #default arguments\n",
      "    print string\n",
      "showstring(\"Here is an explicit argument\")\n",
      "showstring()"
     ],
     "language": "python",
     "metadata": {},
     "outputs": [
      {
       "output_type": "stream",
       "stream": "stdout",
       "text": [
        "Here is an explicit argument\n",
        "Hello World!\n"
       ]
      }
     ],
     "prompt_number": 2
    },
    {
     "cell_type": "heading",
     "level": 2,
     "metadata": {},
     "source": [
      "Example-defarg1.cpp, Page no-59"
     ]
    },
    {
     "cell_type": "code",
     "collapsed": false,
     "input": [
      "import sys\n",
      "def PrintLine(ch='-', RepeatCount=70): #default arguments\n",
      "    print \"\\n\"\n",
      "    for i in range(RepeatCount):\n",
      "        sys.stdout.write(ch)\n",
      "PrintLine()\n",
      "PrintLine('!')\n",
      "PrintLine('*', 40)\n",
      "PrintLine('R', 55)"
     ],
     "language": "python",
     "metadata": {},
     "outputs": [
      {
       "output_type": "stream",
       "stream": "stdout",
       "text": [
        "\n",
        "\n",
        "----------------------------------------------------------------------\n",
        "\n",
        "!!!!!!!!!!!!!!!!!!!!!!!!!!!!!!!!!!!!!!!!!!!!!!!!!!!!!!!!!!!!!!!!!!!!!!\n",
        "\n",
        "****************************************\n",
        "\n",
        "RRRRRRRRRRRRRRRRRRRRRRRRRRRRRRRRRRRRRRRRRRRRRRRRRRRRRRR"
       ]
      }
     ],
     "prompt_number": 3
    },
    {
     "cell_type": "heading",
     "level": 2,
     "metadata": {},
     "source": [
      "Example-defarg2, Page no-59"
     ]
    },
    {
     "cell_type": "code",
     "collapsed": false,
     "input": [
      "import sys\n",
      "def PrintLine(ch='-', RepeatCount=70, nLines=1): #default arguments\n",
      "    for j in range(nLines):\n",
      "        print \"\\n\"\n",
      "        for i in range(RepeatCount):\n",
      "            sys.stdout.write(ch)\n",
      "PrintLine()\n",
      "PrintLine('!')\n",
      "PrintLine('*', 40)\n",
      "PrintLine('R', 55)\n",
      "PrintLine('&', 25, 2)"
     ],
     "language": "python",
     "metadata": {},
     "outputs": [
      {
       "output_type": "stream",
       "stream": "stdout",
       "text": [
        "\n",
        "\n",
        "----------------------------------------------------------------------\n",
        "\n",
        "!!!!!!!!!!!!!!!!!!!!!!!!!!!!!!!!!!!!!!!!!!!!!!!!!!!!!!!!!!!!!!!!!!!!!!\n",
        "\n",
        "****************************************\n",
        "\n",
        "RRRRRRRRRRRRRRRRRRRRRRRRRRRRRRRRRRRRRRRRRRRRRRRRRRRRRRR\n",
        "\n",
        "&&&&&&&&&&&&&&&&&&&&&&&&&\n",
        "\n",
        "&&&&&&&&&&&&&&&&&&&&&&&&&"
       ]
      }
     ],
     "prompt_number": 4
    },
    {
     "cell_type": "heading",
     "level": 2,
     "metadata": {},
     "source": [
      "Example-date1.cpp, Page no-61"
     ]
    },
    {
     "cell_type": "code",
     "collapsed": false,
     "input": [
      "from collections import namedtuple\n",
      "struct_date = namedtuple('struct_date', 'day month year')\n",
      "d1 = struct_date(26, 3, 1958)\n",
      "d2 = struct_date(14, 4, 1971)\n",
      "d3 = struct_date(1, 9, 1973)\n",
      "print \"Birth Date of the First Author:\", \n",
      "print \"%s-%s-%s\" %(d1.day, d1.month, d1.year)\n",
      "print \"Birth Date of the Second Author:\", \n",
      "print \"%s-%s-%s\" %(d2.day, d2.month, d2.year)\n",
      "print \"Birth Date of the Third Author:\",\n",
      "print \"%s-%s-%s\" %(d3.day, d3.month, d3.year)"
     ],
     "language": "python",
     "metadata": {},
     "outputs": [
      {
       "output_type": "stream",
       "stream": "stdout",
       "text": [
        "Birth Date of the First Author: 26-3-1958\n",
        "Birth Date of the Second Author: 14-4-1971\n",
        "Birth Date of the Third Author: 1-9-1973\n"
       ]
      }
     ],
     "prompt_number": 1
    },
    {
     "cell_type": "heading",
     "level": 2,
     "metadata": {},
     "source": [
      "Example-date2.cpp, Page no-63"
     ]
    },
    {
     "cell_type": "code",
     "collapsed": false,
     "input": [
      "from ctypes import Structure, c_int\n",
      "class date(Structure):\n",
      "    _fields_=[(\"day\", c_int),(\"month\", c_int),(\"year\",c_int)]\n",
      "    def show(self):\n",
      "            print \"%s-%s-%s\" %(self.day, self.month, self.year)\n",
      "d1=date(26, 3, 1958)\n",
      "d2 = date(14, 4, 1971)\n",
      "d3 = date(1, 9, 1973)\n",
      "print \"Birth Date of the First Author:\", \n",
      "d1.show()\n",
      "print \"Birth Date of the Second Author:\", \n",
      "d2.show()\n",
      "print \"Birth Date of the Third Author:\",\n",
      "d3.show()"
     ],
     "language": "python",
     "metadata": {},
     "outputs": [
      {
       "output_type": "stream",
       "stream": "stdout",
       "text": [
        "Birth Date of the First Author: 26-3-1958\n",
        "Birth Date of the Second Author: 14-4-1971\n",
        "Birth Date of the Third Author: 1-9-1973\n"
       ]
      }
     ],
     "prompt_number": 1
    },
    {
     "cell_type": "heading",
     "level": 2,
     "metadata": {},
     "source": [
      "Example-cast.cpp, Page no-65"
     ]
    },
    {
     "cell_type": "code",
     "collapsed": false,
     "input": [
      "a=int\n",
      "b=420.5\n",
      "print \"int(10.4) =\", int(10.4)\n",
      "print \"int(10.99) =\", int(10.99)\n",
      "print \"b =\", b\n",
      "a=int(b)\n",
      "print \"a = int(b) =\", a\n",
      "b=float(a)+1.5\n",
      "print \"b = float(a)+1.5 =\", b"
     ],
     "language": "python",
     "metadata": {},
     "outputs": [
      {
       "output_type": "stream",
       "stream": "stdout",
       "text": [
        "int(10.4) = 10\n",
        "int(10.99) = 10\n",
        "b = 420.5\n",
        "a = int(b) = 420\n",
        "b = float(a)+1.5 = 421.5\n"
       ]
      }
     ],
     "prompt_number": 1
    },
    {
     "cell_type": "heading",
     "level": 2,
     "metadata": {},
     "source": [
      "Example-mswap.cpp, Page no-66"
     ]
    },
    {
     "cell_type": "code",
     "collapsed": false,
     "input": [
      "def swap(x, y):\n",
      "    t=x\n",
      "    x=y\n",
      "    y=t\n",
      "    return x, y\n",
      "ch1, ch2=raw_input(\"Enter two Characters <ch1, ch2>: \").split()\n",
      "ch1, ch2=swap(ch1, ch2)\n",
      "print \"On swapping <ch1, ch2>:\", ch1, ch2\n",
      "a, b=[int(x) for x in raw_input(\"Enter integers <a, b>: \").split()]\n",
      "a, b=swap(a, b)\n",
      "print \"On swapping <a, b>:\", a, b\n",
      "c, d=[float(x) for x in raw_input(\"Enter floats <c, d>: \").split()]\n",
      "c, d=swap(c, d)\n",
      "print \"On swapping <c, d>:\", c, d"
     ],
     "language": "python",
     "metadata": {},
     "outputs": [
      {
       "name": "stdout",
       "output_type": "stream",
       "stream": "stdout",
       "text": [
        "Enter two Characters <ch1, ch2>: R K\n"
       ]
      },
      {
       "output_type": "stream",
       "stream": "stdout",
       "text": [
        "On swapping <ch1, ch2>: K R\n"
       ]
      },
      {
       "name": "stdout",
       "output_type": "stream",
       "stream": "stdout",
       "text": [
        "Enter integers <a, b>: 5 10\n"
       ]
      },
      {
       "output_type": "stream",
       "stream": "stdout",
       "text": [
        "On swapping <a, b>: 10 5\n"
       ]
      },
      {
       "name": "stdout",
       "output_type": "stream",
       "stream": "stdout",
       "text": [
        "Enter floats <c, d>: 20.5 99.5\n"
       ]
      },
      {
       "output_type": "stream",
       "stream": "stdout",
       "text": [
        "On swapping <c, d>: 99.5 20.5\n"
       ]
      }
     ],
     "prompt_number": 1
    },
    {
     "cell_type": "heading",
     "level": 2,
     "metadata": {},
     "source": [
      "Example-gswap.cpp, Page no-67"
     ]
    },
    {
     "cell_type": "code",
     "collapsed": false,
     "input": [
      "def swap(x, y):\n",
      "    t=x\n",
      "    x=y\n",
      "    y=t\n",
      "    return x, y\n",
      "ch1, ch2=raw_input(\"Enter two Characters <ch1, ch2>: \").split()\n",
      "ch1, ch2=swap(ch1, ch2)\n",
      "print \"On swapping <ch1, ch2>:\", ch1, ch2\n",
      "a, b=[int(x) for x in raw_input(\"Enter integers <a, b>: \").split()]\n",
      "a, b=swap(a, b)\n",
      "print \"On swapping <a, b>:\", a, b\n",
      "c, d=[float(x) for x in raw_input(\"Enter floats <c, d>: \").split()]\n",
      "c, d=swap(c, d)\n",
      "print \"On swapping <c, d>:\", c, d"
     ],
     "language": "python",
     "metadata": {},
     "outputs": [
      {
       "name": "stdout",
       "output_type": "stream",
       "stream": "stdout",
       "text": [
        "Enter two Characters <ch1, ch2>: R K\n"
       ]
      },
      {
       "output_type": "stream",
       "stream": "stdout",
       "text": [
        "On swapping <ch1, ch2>: K R\n"
       ]
      },
      {
       "name": "stdout",
       "output_type": "stream",
       "stream": "stdout",
       "text": [
        "Enter integers <a, b>: 5 10\n"
       ]
      },
      {
       "output_type": "stream",
       "stream": "stdout",
       "text": [
        "On swapping <a, b>: 10 5\n"
       ]
      },
      {
       "name": "stdout",
       "output_type": "stream",
       "stream": "stdout",
       "text": [
        "Enter floats <c, d>: 20.5 99.5\n"
       ]
      },
      {
       "output_type": "stream",
       "stream": "stdout",
       "text": [
        "On swapping <c, d>: 99.5 20.5\n"
       ]
      }
     ],
     "prompt_number": 4
    },
    {
     "cell_type": "heading",
     "level": 2,
     "metadata": {},
     "source": [
      "Example-vector.cpp, Page no-72"
     ]
    },
    {
     "cell_type": "code",
     "collapsed": false,
     "input": [
      "def AddVectors(a, b, c, size):\n",
      "    for i in range(size):\n",
      "        c[i]=a[i]+b[i]\n",
      "def ReadVector(vector, size):\n",
      "    for i in range(size):\n",
      "        vector[i]=int(raw_input())\n",
      "def ShowVector(vector, size):\n",
      "    for i in range(size):\n",
      "        print vector[i],\n",
      "vec_size=int(raw_input(\"Enter size of vector: \"))\n",
      "x=[int]*vec_size\n",
      "y=[int]*vec_size\n",
      "z=[int]*vec_size\n",
      "print \"Enter Elements of vector x: \"\n",
      "ReadVector(x, vec_size)\n",
      "print \"Enter Elements of vector y: \"\n",
      "ReadVector(y, vec_size)\n",
      "AddVectors(x, y, z, vec_size)\n",
      "print \"Summation Vector z=a+b:\",\n",
      "ShowVector(z, vec_size)\n",
      "del x\n",
      "del y\n",
      "del z"
     ],
     "language": "python",
     "metadata": {},
     "outputs": [
      {
       "name": "stdout",
       "output_type": "stream",
       "stream": "stdout",
       "text": [
        "Enter size of vector: 5\n"
       ]
      },
      {
       "output_type": "stream",
       "stream": "stdout",
       "text": [
        "Enter Elements of vector x: \n"
       ]
      },
      {
       "name": "stdout",
       "output_type": "stream",
       "stream": "stdout",
       "text": [
        "1\n"
       ]
      },
      {
       "name": "stdout",
       "output_type": "stream",
       "stream": "stdout",
       "text": [
        "2\n"
       ]
      },
      {
       "name": "stdout",
       "output_type": "stream",
       "stream": "stdout",
       "text": [
        "3\n"
       ]
      },
      {
       "name": "stdout",
       "output_type": "stream",
       "stream": "stdout",
       "text": [
        "4\n"
       ]
      },
      {
       "name": "stdout",
       "output_type": "stream",
       "stream": "stdout",
       "text": [
        "5\n"
       ]
      },
      {
       "output_type": "stream",
       "stream": "stdout",
       "text": [
        "Enter Elements of vector y: \n"
       ]
      },
      {
       "name": "stdout",
       "output_type": "stream",
       "stream": "stdout",
       "text": [
        "2\n"
       ]
      },
      {
       "name": "stdout",
       "output_type": "stream",
       "stream": "stdout",
       "text": [
        "3\n"
       ]
      },
      {
       "name": "stdout",
       "output_type": "stream",
       "stream": "stdout",
       "text": [
        "1\n"
       ]
      },
      {
       "name": "stdout",
       "output_type": "stream",
       "stream": "stdout",
       "text": [
        "0\n"
       ]
      },
      {
       "name": "stdout",
       "output_type": "stream",
       "stream": "stdout",
       "text": [
        "4\n"
       ]
      },
      {
       "output_type": "stream",
       "stream": "stdout",
       "text": [
        "Summation Vector z=a+b: 3 5 4 4 9\n"
       ]
      }
     ],
     "prompt_number": 1
    },
    {
     "cell_type": "heading",
     "level": 2,
     "metadata": {},
     "source": [
      "Example Page no-73"
     ]
    },
    {
     "cell_type": "code",
     "collapsed": false,
     "input": [
      "def area(s1, s2=None):#function overloading and default parameters\n",
      "    if (isinstance(s1, int)):\n",
      "        if(isinstance(s2, int)):\n",
      "            return (s1*s2)\n",
      "        else:\n",
      "            return (s1*s1)\n",
      "    elif (isinstance(s1, float)):\n",
      "        return (3.14*s1*s1)\n",
      "s=int(raw_input(\"Enter the side length of the square: \"))\n",
      "l, b=[int(x) for x in raw_input(\"Enter the length and breadth of the rectangle: \").split()]\n",
      "r=float(raw_input(\"Enter the radius of the circle: \"))\n",
      "print \"Area of square = \", area(s)\n",
      "print \"Area of rectangle = \", area(l, b)\n",
      "print \"Area of circle = \", area(r)"
     ],
     "language": "python",
     "metadata": {},
     "outputs": [
      {
       "name": "stdout",
       "output_type": "stream",
       "stream": "stdout",
       "text": [
        "Enter the side length of the square: 2\n"
       ]
      },
      {
       "name": "stdout",
       "output_type": "stream",
       "stream": "stdout",
       "text": [
        "Enter the length and breadth of the rectangle: 2 4\n"
       ]
      },
      {
       "name": "stdout",
       "output_type": "stream",
       "stream": "stdout",
       "text": [
        "Enter the radius of the circle: 2.5\n"
       ]
      },
      {
       "output_type": "stream",
       "stream": "stdout",
       "text": [
        "Area of square =  4\n",
        "Area of rectangle =  8\n",
        "Area of circle =  19.625\n"
       ]
      }
     ],
     "prompt_number": 1
    }
   ],
   "metadata": {}
  }
 ]
}