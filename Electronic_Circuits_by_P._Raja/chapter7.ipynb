{
 "metadata": {
  "name": "",
  "signature": ""
 },
 "nbformat": 3,
 "nbformat_minor": 0,
 "worksheets": [
  {
   "cells": [
    {
     "cell_type": "heading",
     "level": 1,
     "metadata": {},
     "source": [
      "Solved Examination Paper"
     ]
    },
    {
     "cell_type": "heading",
     "level": 2,
     "metadata": {},
     "source": [
      "Exa 1.b - page 476"
     ]
    },
    {
     "cell_type": "code",
     "collapsed": false,
     "input": [
      "# Given data\n",
      "R1= 10 # in k\u03a9\n",
      "R2= 10 # in k\u03a9\n",
      "Rf= 50 # in k\u03a9\n",
      "V= 2 # in V\n",
      "V1= V*R1/(R1+R2) # in V\n",
      "V01= -Rf/R1*V1 # in V\n",
      "print \"The value of V1 = %0.f Volts\" %(V1)\n",
      "print \"The value of V01 = %0.f Volts\" %(V01)"
     ],
     "language": "python",
     "metadata": {},
     "outputs": [
      {
       "output_type": "stream",
       "stream": "stdout",
       "text": [
        "The value of V1 = 1 Volts\n",
        "The value of V01 = -5 Volts\n"
       ]
      }
     ],
     "prompt_number": 2
    },
    {
     "cell_type": "heading",
     "level": 2,
     "metadata": {},
     "source": [
      "Exa 2.a - page 479"
     ]
    },
    {
     "cell_type": "code",
     "collapsed": false,
     "input": [
      "# Given data\n",
      "V_P= -4 # in V\n",
      "I_DSS= 10 # in mA\n",
      "V_GS= 0 # in V\n",
      "R_D= 1.8 # in k\u03a9\n",
      "V_DD= 20 # in V\n",
      "I_D= I_DSS*(1-V_GS/V_P)**2 # in mA\n",
      "# Applying KVL to the circuit, we get V_DD= I_D*R_D+V_D\n",
      "V_D= V_DD-I_D*R_D # in V\n",
      "print \"The value of I_D = %0.f mA\" %(I_D)\n",
      "print \"The value of V_D = %0.f Volts\" %V_D"
     ],
     "language": "python",
     "metadata": {},
     "outputs": [
      {
       "output_type": "stream",
       "stream": "stdout",
       "text": [
        "The value of I_D = 10 mA\n",
        "The value of V_D = 2 Volts\n"
       ]
      }
     ],
     "prompt_number": 4
    },
    {
     "cell_type": "heading",
     "level": 2,
     "metadata": {},
     "source": [
      "Exa 2.c - page 480"
     ]
    },
    {
     "cell_type": "code",
     "collapsed": false,
     "input": [
      "# Given data\n",
      "V_GS= 3 # in V\n",
      "Vth= 1 # in V\n",
      "unCox= 25 # in mA/V**2\n",
      "unCox= unCox*10**-3 # in A/V**2\n",
      "W=3 # in \u00b5m\n",
      "L=1 # in \u00b5m\n",
      "r_DS= 1/(unCox*W/L*(V_GS-Vth)) # in \u03a9\n",
      "print \"The value of r_DS = %0.2f \u03a9 \" %r_DS"
     ],
     "language": "python",
     "metadata": {},
     "outputs": [
      {
       "output_type": "stream",
       "stream": "stdout",
       "text": [
        "The value of r_DS = 6.67 \u03a9 \n"
       ]
      }
     ],
     "prompt_number": 5
    },
    {
     "cell_type": "heading",
     "level": 2,
     "metadata": {},
     "source": [
      "Exa 3.b - page 481"
     ]
    },
    {
     "cell_type": "code",
     "collapsed": false,
     "input": [
      "# Given data\n",
      "I_CQ= 10 # in mA\n",
      "I_CQ= I_CQ*10**-3 # in A\n",
      "V_CQ= 5 # in V\n",
      "V_CC= 10 # in V\n",
      "R_C= 0.4 # in k\u03a9\n",
      "R_C= R_C*10**3 # in \u03a9\n",
      "V_BE= 0.075 # in V\n",
      "V_BB= 0.175 # in V\n",
      "beta=100 \n",
      "beta_max=120 \n",
      "beta_min= 40 \n",
      "# Applying KVL we get, V_CQ= V_CC-I_C*(R_C+R_E)\n",
      "R_E= (V_CC-V_CQ)/I_CQ-R_C # in \u03a9\n",
      "print \"The value of R_E = %0.f \u03a9\" %( R_E)\n",
      "I_B= I_CQ/beta # in A\n",
      "R_B= (V_BB-V_BE)/I_B # in \u03a9\n",
      "print \"The value of R_B = %0.f k\u03a9\" %(R_B*10**-3)\n",
      "I_Cmax= beta_max*I_B # in A\n",
      "I_Cmin= beta_min*I_B # in A\n",
      "delta_I_CQ= I_Cmax-I_Cmin # in A\n",
      "print \"The value of delta_I_C = %0.f mA\" %(delta_I_CQ*10**3)"
     ],
     "language": "python",
     "metadata": {},
     "outputs": [
      {
       "output_type": "stream",
       "stream": "stdout",
       "text": [
        "The value of R_E = 100 \u03a9\n",
        "The value of R_B = 1 k\u03a9\n",
        "The value of delta_I_C = 8 mA\n"
       ]
      }
     ],
     "prompt_number": 7
    }
   ],
   "metadata": {}
  }
 ]
}
