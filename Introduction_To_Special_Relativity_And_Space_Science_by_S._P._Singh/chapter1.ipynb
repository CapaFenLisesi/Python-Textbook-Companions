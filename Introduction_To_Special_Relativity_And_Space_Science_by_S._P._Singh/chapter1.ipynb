{
 "metadata": {
  "celltoolbar": "Raw Cell Format",
  "name": "",
  "signature": "sha256:6d16aa491b2c243890af0fd0f2df062d36f0cc57c9a30417b495f7ce9d60a0d9"
 },
 "nbformat": 3,
 "nbformat_minor": 0,
 "worksheets": [
  {
   "cells": [
    {
     "cell_type": "heading",
     "level": 1,
     "metadata": {},
     "source": [
      "Introduction To Special Relativity And Space Science (By S.P. Singh)"
     ]
    },
    {
     "cell_type": "heading",
     "level": 1,
     "metadata": {},
     "source": [
      "CHAPTER NUMBER 1 : Interference Diffraction and Polarization"
     ]
    },
    {
     "cell_type": "heading",
     "level": 2,
     "metadata": {},
     "source": [
      "EXAMPLE 1.1 : (Page Number 46)"
     ]
    },
    {
     "cell_type": "code",
     "collapsed": false,
     "input": [
      "import math \n",
      "#Given that\n",
      "Beta=0.10#fringe width in cm\n",
      "D=200# separation between source and screen in cm\n",
      "lambda1=0.00055# wavelength of incident light in cm \n",
      "d= (D*lambda1)/ (10*Beta)\n",
      "print \"   Standard formula used    beta= lambda1*D/d  \"\n",
      "print \"  Separation between sources is \",d,\" cm.  \""
     ],
     "language": "python",
     "metadata": {},
     "outputs": [
      {
       "output_type": "stream",
       "stream": "stdout",
       "text": [
        "   Standard formula used    beta= lambda1*D/d  \n",
        "  Separation between sources is  0.11  cm.  \n"
       ]
      }
     ],
     "prompt_number": 16
    },
    {
     "cell_type": "heading",
     "level": 2,
     "metadata": {},
     "source": [
      "EXAMPLE 1.2 : (PAGE NUMBER 47)"
     ]
    },
    {
     "cell_type": "code",
     "collapsed": false,
     "input": [
      "import math\n",
      "#Given that\n",
      "D=80# separation between source and screen in cm\n",
      "d=0.18# separation between sources in cm \n",
      "n=4# order of fringe\n",
      "x_n=1.08# distance from central bright fringe in cm  \n",
      "print \"Standard formula used     x_n= n*lambda1*D/d \"\n",
      "\n",
      "lambda1=d*x_n/(D*n)*1e7\n",
      "print  \"Wavelength of light used is\" ,lambda1, \"Angstrom.\""
     ],
     "language": "python",
     "metadata": {},
     "outputs": [
      {
       "output_type": "stream",
       "stream": "stdout",
       "text": [
        "Standard formula used     x_n= n*lambda1*D/d \n",
        "Wavelength of light used is 6075.0 Angstrom.\n"
       ]
      }
     ],
     "prompt_number": 7
    },
    {
     "cell_type": "heading",
     "level": 2,
     "metadata": {},
     "source": [
      "EXAMPLE NUMBER 1.3 : (PAGE NUMBER 47)"
     ]
    },
    {
     "cell_type": "code",
     "collapsed": false,
     "input": [
      "import math\n",
      "#Given that\n",
      "beta=0.0320#fringe width in cm\n",
      "D=100# separation between source and screen in cm\n",
      "d=0.184# separation between sources in cm \n",
      "print \"   Standard formula used   beta=lambda1*D/d  \"\n",
      "lambda1=d*beta/D*1e8\n",
      "print \"Wavelength of light used is\" ,lambda1,\"Angstrom.\""
     ],
     "language": "python",
     "metadata": {},
     "outputs": [
      {
       "output_type": "stream",
       "stream": "stdout",
       "text": [
        "   Standard formula used   beta=lambda1*D/d  \n",
        "Wavelength of light used is 5888.0 Angstrom.\n"
       ]
      }
     ],
     "prompt_number": 6
    },
    {
     "cell_type": "heading",
     "level": 2,
     "metadata": {},
     "source": [
      "EXAMPLE NUMBER 1.4 : (Page Number 47)"
     ]
    },
    {
     "cell_type": "code",
     "collapsed": false,
     "input": [
      "import math\n",
      " #Given that\n",
      "beta=0.02 #fringe width in cm\n",
      "D=100 # separation between source and screen in cm\n",
      "u=30 # separation between slit and convex lens in cm\n",
      "I=0.7 # separation between two images of slits on screen in cm\n",
      "print\"   Standard formula used   beta=lambda1*D/d  \" \n",
      "v=100-u\n",
      "O=I*u/v\n",
      "d=O\n",
      "lambda1=d*beta/D*1e8\n",
      "print\"  Wavelength of light used is\",lambda1, \"Angstrom.\""
     ],
     "language": "python",
     "metadata": {},
     "outputs": [
      {
       "output_type": "stream",
       "stream": "stdout",
       "text": [
        "   Standard formula used   beta=lambda1*D/d  \n",
        "  Wavelength of light used is 6000.0 Angstrom.\n"
       ]
      }
     ],
     "prompt_number": 8
    },
    {
     "cell_type": "heading",
     "level": 2,
     "metadata": {},
     "source": [
      "EXAMPLE NUMBER 1.5 : (Page Number 47)"
     ]
    },
    {
     "cell_type": "code",
     "collapsed": false,
     "input": [
      "import math\n",
      "#Given that\n",
      "x_n=1.88# fringe separation of nth fringe from central fringe in cm \n",
      "N=20# order of fringe\n",
      "beta=0.02#fringe width in cm\n",
      "D=120# separation between source and eyepiece in cm\n",
      "d=0.076# separation between sources in cm \n",
      "print \"   Standard formula used     beta= lambda1*D/d  \"\n",
      "beta=x_n/N # calculation of angle formed\n",
      "lambda1=d*beta/D*1e8 # calculation of Wavelength of light\n",
      "print \"  Wavelength of light used is\", round(lambda1,4) , \"Angstrom.\""
     ],
     "language": "python",
     "metadata": {},
     "outputs": [
      {
       "output_type": "stream",
       "stream": "stdout",
       "text": [
        "   Standard formula used     beta= lambda1*D/d  \n",
        "  Wavelength of light used is 5953.3333 Angstrom.\n"
       ]
      }
     ],
     "prompt_number": 2
    },
    {
     "cell_type": "heading",
     "level": 2,
     "metadata": {},
     "source": [
      "EXAMPLE NUMBER 1.6 : (Page Number 48)"
     ]
    },
    {
     "cell_type": "code",
     "collapsed": false,
     "input": [
      "import math\n",
      "#Given that\n",
      "mu = 1.5 #refractive index of plane glass prism\n",
      "theta = pi / 180 #angle of prism\n",
      "y1 = 10 #separation between slit and biprism in cm \n",
      "y2 = 100 #separation sbetween biprism and screen in cm \n",
      "lambda1 = 0.00005893#wavelength of incident light in cm \n",
      "print \"  Standard formula used   Beta = (D * lambda1) / d\"\n",
      "d = 2 * ( mu -1) * theta * y1\n",
      "D =  y1 + y2\n",
      "Beta = (D * lambda1) / d\n",
      "print \"  Fringe width observed at distance 1 meter  is\",round(Beta,4)\n"
     ],
     "language": "python",
     "metadata": {},
     "outputs": [
      {
       "output_type": "stream",
       "stream": "stdout",
       "text": [
        "  Standard formula used   Beta = (D * lambda1) / d\n",
        "  Fringe width observed at distance 1 meter  is 0.0371\n"
       ]
      }
     ],
     "prompt_number": 4
    },
    {
     "cell_type": "heading",
     "level": 2,
     "metadata": {},
     "source": [
      "EXAMPLE NUMBER 1.7 : (Page Number 49)"
     ]
    },
    {
     "cell_type": "code",
     "collapsed": false,
     "input": [
      "import math\n",
      "#Given that\n",
      "mu=1.52#refractive index of plane glass prism\n",
      "theta1=pi/180#angle of prism\n",
      "y1=25#separation between slit and biprism in cm \n",
      "y2=175#separation between biprism and screen in cm \n",
      "lambda1=0.000055#wavelength of incident light in cm \n",
      "beta1=0.02#fringe width in cm\n",
      "print \"   Standard formula used     beta= lambda1*D/d.  \"\n",
      "D=y1+y2\n",
      "d= (D*lambda1)/beta1\n",
      "theta1=d/(2*(mu-1)*y1)\n",
      "vertex_angle=180-(2*theta1*180/pi)\n",
      "print \"  Vertex angle of biprism  is\",round(vertex_angle,4),\"degree.\""
     ],
     "language": "python",
     "metadata": {},
     "outputs": [
      {
       "output_type": "stream",
       "stream": "stdout",
       "text": [
        "   Standard formula used     beta= lambda1*D/d.  \n",
        "  Vertex angle of biprism  is 177.5759 degree.\n"
       ]
      }
     ],
     "prompt_number": 3
    },
    {
     "cell_type": "heading",
     "level": 2,
     "metadata": {},
     "source": [
      "EXAMPLE NUMBER 1.8 : (Page Number 49)"
     ]
    },
    {
     "cell_type": "code",
     "collapsed": false,
     "input": [
      "import math\n",
      "#Given that\n",
      "mu=1.60#refractive index of plane glass prism\n",
      "lambda1=0.0000589#wavelength of incident light in cm \n",
      "N=15#order of fringe\n",
      "print \"   Standard formula used     del_x = D/2d *(mu-1)*t  \"\n",
      "t=N*lambda1/(mu-1)\n",
      "print \"  Thickness of sheet is\", round(t,4),\"cm.\""
     ],
     "language": "python",
     "metadata": {},
     "outputs": [
      {
       "output_type": "stream",
       "stream": "stdout",
       "text": [
        "   Standard formula used     del_x = D/2d *(mu-1)*t  \n",
        "  Thickness of sheet is 0.0015 cm.\n"
       ]
      }
     ],
     "prompt_number": 5
    },
    {
     "cell_type": "heading",
     "level": 2,
     "metadata": {},
     "source": [
      "EXAMPLE NUMBER 1.9 : (Page Number 50)"
     ]
    },
    {
     "cell_type": "code",
     "collapsed": false,
     "input": [
      "import math\n",
      "#Given that\n",
      "t=0.00035#thickness of glass sheet in cm\n",
      "lambda1=0.000055#wavelength of incident light in cm \n",
      "N=4#order of fringe\n",
      "print \"   Standard formula used     (mu \u2013 1 )*t = n* lambda1  \"\n",
      "mu=N*lambda1/t+1\n",
      "print \"  Refractive index of sheet is\", round(mu,4)"
     ],
     "language": "python",
     "metadata": {},
     "outputs": [
      {
       "output_type": "stream",
       "stream": "stdout",
       "text": [
        "   Standard formula used     (mu \u2013 1 )*t = n* lambda1  \n",
        "  Refractive index of sheet is 1.6286\n"
       ]
      }
     ],
     "prompt_number": 7
    },
    {
     "cell_type": "heading",
     "level": 2,
     "metadata": {},
     "source": [
      "EXAMPLE NUMBER 1.10 : (Page Number 50)"
     ]
    },
    {
     "cell_type": "code",
     "collapsed": false,
     "input": [
      "import math\n",
      "#Given that\n",
      "t = 5e-5 #thickness of soap film in cm \n",
      "theta1 = 35 #angle of view in degree\n",
      "mu = 1.33 #refractive index of soap film \n",
      "\n",
      "a = 0\n",
      "print \"Standard formula used is  2*mu*t*cos(r) = n*lambda1 \"\n",
      "r = arcsin(sin(theta1 * pi /180) / mu)\n",
      "for n in range(1,3):\n",
      "    lambda1 = 2 * mu * t * cos(r) / n\n",
      "    if lambda1 > t:\n",
      "        a = a + 1\n",
      "    \n",
      "\n",
      "print \"    The lowest order n =\",a,\" will be absent in visible region.\""
     ],
     "language": "python",
     "metadata": {},
     "outputs": [
      {
       "output_type": "stream",
       "stream": "stdout",
       "text": [
        "Standard formula used is  2*mu*t*cos(r) = n*lambda1 \n",
        "    The lowest order n = 2  will be absent in visible region.\n"
       ]
      }
     ],
     "prompt_number": 1
    },
    {
     "cell_type": "heading",
     "level": 2,
     "metadata": {},
     "source": [
      "EXAMPLE NUMBER 1.11 : (Page Number 50)"
     ]
    },
    {
     "cell_type": "code",
     "collapsed": false,
     "input": [
      "import math\n",
      "#Given that\n",
      "D=120#separation between source and screen in cm\n",
      "d=0.00075#separation between sources in cm \n",
      "l=1.888#transverse distance moved by eyepiece in cm\n",
      "N=25#order of fringe\n",
      "print \"   Standard formula used   beta=lambda1*D/d  \"\n",
      "lambda1=d*l/(D*N)*1e10\n",
      "print \"  Wavelength of light used is .\", lambda1, \"Angstrom\""
     ],
     "language": "python",
     "metadata": {},
     "outputs": [
      {
       "output_type": "stream",
       "stream": "stdout",
       "text": [
        "   Standard formula used   beta=lambda1*D/d  \n",
        "  Wavelength of light used is . 4720.0 Angstrom\n"
       ]
      }
     ],
     "prompt_number": 2
    },
    {
     "cell_type": "heading",
     "level": 2,
     "metadata": {},
     "source": [
      "EXAMPLE NUMBER 1.12 : (Page Number 51)"
     ]
    },
    {
     "cell_type": "code",
     "collapsed": false,
     "input": [
      "import math\n",
      "#Given that\n",
      "D15=0.59#diameter of 15th newton\u2019s ring in cm\n",
      "D5=0.336#diameter of 5th newton\u2019s ring in cm\n",
      "R=100#radius of Plano convex lens in cm\n",
      "p=15-5\n",
      "print \"   Standard formula used   D_a**2 \u2013 D_b**2 = 4*p*R*lambda1  \"\n",
      "lambda1=(D15**2 - D5**2)/(4*p*R)*1e8\n",
      "print \"  Wavelength of light used is \", lambda1, \"Angstrom.\""
     ],
     "language": "python",
     "metadata": {},
     "outputs": [
      {
       "output_type": "stream",
       "stream": "stdout",
       "text": [
        "   Standard formula used   D_a**2 \u2013 D_b**2 = 4*p*R*lambda1  \n",
        "  Wavelength of light used is  5880.1 Angstrom.\n"
       ]
      }
     ],
     "prompt_number": 3
    },
    {
     "cell_type": "heading",
     "level": 2,
     "metadata": {},
     "source": [
      "EXAMPLE NUMBER 1.13 : (Page Number 52)"
     ]
    },
    {
     "cell_type": "code",
     "collapsed": false,
     "input": [
      "import math\n",
      "#Given\n",
      "t=40 #length of tube in cm\n",
      "lambda1=5e-5 #wavelength of incident light in cm \n",
      "n=150#order of fringe\n",
      "print \"   Standard formula used     (mu \u2013 1 )*t = n* lambda1  \"\n",
      "t=n*lambda1/t+1\n",
      "print \"  Refractive index of oil film is .\", t"
     ],
     "language": "python",
     "metadata": {},
     "outputs": [
      {
       "output_type": "stream",
       "stream": "stdout",
       "text": [
        "   Standard formula used     (mu \u2013 1 )*t = n* lambda1  \n",
        "  Refractive index of oil film is . 1.0001875\n"
       ]
      }
     ],
     "prompt_number": 4
    },
    {
     "cell_type": "heading",
     "level": 2,
     "metadata": {},
     "source": [
      "EXAMPLE NUMBER 1.14 : (Page Number 52)"
     ]
    },
    {
     "cell_type": "code",
     "collapsed": false,
     "input": [
      "import math\n",
      "#Given\n",
      "no_fringe = 250 #Number of fringes observed through telescope\n",
      "lambda11 = 4e-5#wavelength of incident light in cm \n",
      "lambda12 = 6.5e-5 #wavelength of incident light in cm \n",
      "print \"   Standard formula used    2*t = p*lambda1\"\n",
      "p =  no_fringe * lambda11 / (lambda12- lambda11)\n",
      "t = p * lambda12 / 2\n",
      "print \"  Thickness  of air film  is.  \", t,\"cm\""
     ],
     "language": "python",
     "metadata": {},
     "outputs": [
      {
       "output_type": "stream",
       "stream": "stdout",
       "text": [
        "   Standard formula used    2*t = p*lambda1\n",
        "  Thickness  of air film  is.   0.013 cm\n"
       ]
      }
     ],
     "prompt_number": 5
    },
    {
     "cell_type": "heading",
     "level": 2,
     "metadata": {},
     "source": [
      "EXAMPLE NUMBER 1.15 : (Page Number 52)"
     ]
    },
    {
     "cell_type": "code",
     "collapsed": false,
     "input": [
      "import math\n",
      "#Given\n",
      "mu_oil=1.3#refractive index of oil\n",
      "mu_glass=1.5#refractive index of glass\n",
      "lambda11=5e-7#wavelength of incident light in cm \n",
      "lambda12=7e-7#wavelength of incident light in cm \n",
      "print \"   Standard formula used     2*mu*t*cos r = (p +0.5)*lambda1  \"\n",
      "p= ((lambda12+lambda11)/ (lambda12-lambda11))/2\n",
      "t= ((p+0.5)*lambda11)/ (2*mu_oil)*1e10\n",
      "x=ceil(t)\n",
      "print \"  Thickness of oil film  is \",round(t,4), \"Angstrom.\""
     ],
     "language": "python",
     "metadata": {},
     "outputs": [
      {
       "output_type": "stream",
       "stream": "stdout",
       "text": [
        "   Standard formula used     2*mu*t*cos r = (p +0.5)*lambda1  \n",
        "  Thickness of oil film  is  6730.7692 Angstrom.\n"
       ]
      }
     ],
     "prompt_number": 7
    },
    {
     "cell_type": "heading",
     "level": 2,
     "metadata": {},
     "source": [
      "EXAMPLE NUMBER 1.16 : (Page Number 53)"
     ]
    },
    {
     "cell_type": "code",
     "collapsed": false,
     "input": [
      "import math\n",
      "#Given\n",
      "lambda1=5.6e-5#wavelength of incident light in cm \n",
      "f=4#focal length in meter\n",
      "mu=1.5#refractive index of glass\\\n",
      "n=4#order of fringe\n",
      "print \"   Standard formula used     D_n= sqrt(2*(2*n-1)*lambda1*R  \"\n",
      "R= (mu-1)*2*f\n",
      "D_4=sqrt (2*(2*n-1)*lambda1*R*100)\n",
      "print \"Diameter of 4th bright fringe is\",D_4,\"cm.\""
     ],
     "language": "python",
     "metadata": {},
     "outputs": [
      {
       "output_type": "stream",
       "stream": "stdout",
       "text": [
        "   Standard formula used     D_n= sqrt(2*(2*n-1)*lambda1*R  \n",
        "Diameter of 4th bright fringe is 0.56 cm.\n"
       ]
      }
     ],
     "prompt_number": 8
    },
    {
     "cell_type": "heading",
     "level": 2,
     "metadata": {},
     "source": [
      "EXAMPLE NUMBER 1.17 : (Page Number 53)"
     ]
    },
    {
     "cell_type": "code",
     "collapsed": false,
     "input": [
      "import math\n",
      "#Given\n",
      "D_5=0.336#diameter of fifth ring in cm\n",
      "D_15=0.59#diameter of fifteenth ring in cm\n",
      "lambda1=5.893e-5#wavelength of incident light in cm \n",
      "p=10\n",
      "print \"   Standard formula used     D_(n+p) **2 \u2013 D_n**2 = 4*p*R*lambda1  \"\n",
      "r= ((D_15**2-D_5**2)/ (4*p*lambda1))\n",
      "print \"   Radius of curvature of Plano-convex lens is  \",round(r,4),\"cm\""
     ],
     "language": "python",
     "metadata": {},
     "outputs": [
      {
       "output_type": "stream",
       "stream": "stdout",
       "text": [
        "   Standard formula used     D_(n+p) **2 \u2013 D_n**2 = 4*p*R*lambda1  \n",
        "   Radius of curvature of Plano-convex lens is   99.7811 cm\n"
       ]
      }
     ],
     "prompt_number": 10
    },
    {
     "cell_type": "heading",
     "level": 2,
     "metadata": {},
     "source": [
      "EXAMPLE NUMBER 1.18a : (Page Number 54)"
     ]
    },
    {
     "cell_type": "code",
     "collapsed": false,
     "input": [
      "import math\n",
      "#Given\n",
      "D_10=0.5#diameter of 10th dark ring\n",
      "lambda1=5.9e-5#wavelength of incident light in cm \n",
      "n=10#order of ring \n",
      "print \"   Standard formula used     r_n**2 = n*lambda1*R  \"\n",
      "r=D_10/2\n",
      "R=r**2/ (n*lambda1)/1000\n",
      "print \"Radius of curvature is  \",round(R,4),\"m\""
     ],
     "language": "python",
     "metadata": {},
     "outputs": [
      {
       "output_type": "stream",
       "stream": "stdout",
       "text": [
        "   Standard formula used     r_n**2 = n*lambda1*R  \n",
        "Radius of curvature is   0.1059 m\n"
       ]
      }
     ],
     "prompt_number": 12
    },
    {
     "cell_type": "heading",
     "level": 2,
     "metadata": {},
     "source": [
      "EXAMPLE NUMBER 1.18b : (Page Number 54)"
     ]
    },
    {
     "cell_type": "code",
     "collapsed": false,
     "input": [
      "import math\n",
      "#Given\n",
      "lambda1=5.9e-5#wavelength of incident light in cm \n",
      "n=10#order of ring \n",
      "print \"   Standard formula used     2t = n*lambda1  \"\n",
      "t=n*lambda1/200\n",
      "print \" Thickness of air film is  \",t,\"m.\""
     ],
     "language": "python",
     "metadata": {},
     "outputs": [
      {
       "output_type": "stream",
       "stream": "stdout",
       "text": [
        "   Standard formula used     2t = n*lambda1  \n",
        " Thickness of air film is   2.95e-06 m.\n"
       ]
      }
     ],
     "prompt_number": 13
    },
    {
     "cell_type": "heading",
     "level": 2,
     "metadata": {},
     "source": [
      "EXAMPLE NUMBER 1.19 : (Page Number 54)"
     ]
    },
    {
     "cell_type": "code",
     "collapsed": false,
     "input": [
      "import math\n",
      "#Given\n",
      "mu=4/3\n",
      "D_10=0.6#diameter of tenth ring in cm\n",
      "lambda1=6.0e-5#wavelength of incident light in cm \n",
      "n=10#order of ring \n",
      "print \"   Standard formula used     D_n**2 = 4*n*lambda1*R/mu  \"\n",
      "R= (mu*D_10**2/ (4*n*lambda1))\n",
      "W=ceil(R);\n",
      "print \" Radius of curvature of lens is \",W,\"cm.\" "
     ],
     "language": "python",
     "metadata": {},
     "outputs": [
      {
       "output_type": "stream",
       "stream": "stdout",
       "text": [
        "   Standard formula used     D_n**2 = 4*n*lambda1*R/mu  \n",
        " Radius of curvature of lens is  150.0 cm.\n"
       ]
      }
     ],
     "prompt_number": 14
    },
    {
     "cell_type": "heading",
     "level": 2,
     "metadata": {},
     "source": [
      "EXAMPLE NUMBER 1.20 : (Page Number 54)"
     ]
    },
    {
     "cell_type": "code",
     "collapsed": false,
     "input": [
      "import math\n",
      "#Given\n",
      "grating_element=6000#lines per centimeter\n",
      "theta=30#angle of second order spectral line in degree \n",
      "n=2#order\n",
      "print \"   Standard formula used     n*lambda1= (a+b)*sin(theta)  \"\n",
      "lambda1=sin(theta*pi/180)/(grating_element*n)\n",
      "print \" Wavelength is \",lambda1,\"cm.\""
     ],
     "language": "python",
     "metadata": {},
     "outputs": [
      {
       "output_type": "stream",
       "stream": "stdout",
       "text": [
        "   Standard formula used     n*lambda1= (a+b)*sin(theta)  \n",
        " Wavelength is  4.16666666667e-05 cm.\n"
       ]
      }
     ],
     "prompt_number": 15
    },
    {
     "cell_type": "heading",
     "level": 2,
     "metadata": {},
     "source": [
      "EXAMPLE NUMBER 1.21 : (Page Number 55)"
     ]
    },
    {
     "cell_type": "code",
     "collapsed": false,
     "input": [
      "import math\n",
      "#GivenS\n",
      "lambda11=6.2e-5# wavelength of monochromatic light in cm\n",
      "grating_element= 0.0002# lines per centimeter(1/5000)\n",
      "theta11=90# angle of second order spectral line in degree \n",
      "print \"   Standard formula used     n*lambda11= (a+b)*sin(theta11)   \"\n",
      "n=grating_element/lambda11\n",
      "print \" Maximum order n = \",round(n,4),\"may be seen in between the given wavelength spectrum.\""
     ],
     "language": "python",
     "metadata": {},
     "outputs": [
      {
       "output_type": "stream",
       "stream": "stdout",
       "text": [
        "   Standard formula used     n*lambda11= (a+b)*sin(theta11)   \n",
        " Maximum order n =  3.2258 may be seen in between the given wavelength spectrum.\n"
       ]
      }
     ],
     "prompt_number": 23
    },
    {
     "cell_type": "heading",
     "level": 2,
     "metadata": {},
     "source": [
      "EXAMPLE NUMBER 1.22 : (Page Number 55)"
     ]
    },
    {
     "cell_type": "code",
     "collapsed": false,
     "input": [
      "import math\n",
      "#Given\n",
      "lambda11=5.5e-5# wavelength of monochromatic light in cm\n",
      "grating_element=0.00025# lines per centimeter(1/4000)\n",
      "n=3# order of spectrum\n",
      "print \"   Standard formula used     n*lambda11= (a+b)*sin(theta11) \"\n",
      "sin_theta11=n*lambda11/grating_element\n",
      "cos_theta11=sqrt(1-sin_theta11**2)\n",
      "disp_pow=n/ (grating_element*cos_theta11)\n",
      "print \" Dispersive power   is    \",round(disp_pow,4)"
     ],
     "language": "python",
     "metadata": {},
     "outputs": [
      {
       "output_type": "stream",
       "stream": "stdout",
       "text": [
        "   Standard formula used     n*lambda11= (a+b)*sin(theta11) \n",
        " Dispersive power   is     15973.046\n"
       ]
      }
     ],
     "prompt_number": 24
    },
    {
     "cell_type": "heading",
     "level": 2,
     "metadata": {},
     "source": [
      "EXAMPLE NUMBER 1.23a : (Page Number 56)"
     ]
    },
    {
     "cell_type": "code",
     "collapsed": false,
     "input": [
      "import math\n",
      "# Given That\n",
      "lambda111=5.89e-5# wavelength in cm\n",
      "lambda112=5.896e-5#wavelength in cm\n",
      "n=1# for second order spectrum\n",
      "t = 2 # width of detraction grating\n",
      "grating_element = 425 # no. of lines per cm\n",
      "print \"   Standard formula used     lambda11 / d_lambda11 = n*N  \"\n",
      "total_line = t * grating_element\n",
      "print \"  Total number of lines on diffraction grating is\",total_line, \"So\"\n",
      "N=lambda111/ (lambda112-lambda111)/n\n",
      "if N > total_line:\n",
      "    print \"   Lines will not be resolved in \",n,\" order .\"\n",
      "    print \" as\", round(N,4), \" lines are required  for diffraction \"\n",
      "else: \n",
      "    print \" as \",round(N,4),\"  lines are required  for diffraction are.  \"\n",
      "    print \"  Lines will be resolved in \",n,\" order\""
     ],
     "language": "python",
     "metadata": {},
     "outputs": [
      {
       "output_type": "stream",
       "stream": "stdout",
       "text": [
        "   Standard formula used     lambda11 / d_lambda11 = n*N  \n",
        "  Total number of lines on diffraction grating is 850 So\n",
        "   Lines will not be resolved in  1  order .\n",
        " as 981.6667  lines are required  for diffraction \n"
       ]
      }
     ],
     "prompt_number": 32
    },
    {
     "cell_type": "heading",
     "level": 2,
     "metadata": {},
     "source": [
      "EXAMPLE NUMBER 1.23b : (Page Number 56)"
     ]
    },
    {
     "cell_type": "code",
     "collapsed": false,
     "input": [
      "import math\n",
      "# Given That\n",
      "lambda111=5.89e-5# wavelength in cm\n",
      "lambda112=5.896e-5#wavelength in cm\n",
      "n=2# for second order spectrum\n",
      "t = 2 # width of diffraction grating \n",
      "grating_element = 425 # no. of lines per cm\n",
      "print \"   Standard formula used     lambda11 / d_lambda11 = n*N  \"\n",
      "total_line = t * grating_element\n",
      "print \"  Total number of lines on diffraction grating\",total_line,\", So\"\n",
      "N=lambda111/ (lambda112-lambda111)/n\n",
      "if N > total_line:\n",
      "    print \" Lines will not be resolved in\",n,\" order.\"\n",
      "    print \" as \",round(N,4),\"lines are required  for diffraction are  \"\n",
      "else:\n",
      "    print \"  Lines will be resolved in\",n,\"order\"\n",
      "    print \" as \",round(N,4),\" lines are required  for diffraction are . \""
     ],
     "language": "python",
     "metadata": {},
     "outputs": [
      {
       "output_type": "stream",
       "stream": "stdout",
       "text": [
        "   Standard formula used     lambda11 / d_lambda11 = n*N  \n",
        "  Total number of lines on diffraction grating 850 , So\n",
        "  Lines will be resolved in 2 order\n",
        " as  490.8333  lines are required  for diffraction are . \n"
       ]
      }
     ],
     "prompt_number": 33
    },
    {
     "cell_type": "heading",
     "level": 2,
     "metadata": {},
     "source": [
      "EXAMPLE NUMBER 1.24 : (Page Number 56)"
     ]
    },
    {
     "cell_type": "code",
     "collapsed": false,
     "input": [
      "import math\n",
      "# Given That\n",
      "lambda111=5.89e-5# wavelength in cm\n",
      "lambda112=5.896e-5#wavelength in cm\n",
      "t=2.5# width of grating in cm\n",
      "n=2# for second order spectrum\n",
      "print \"   Standard formula used     lambda11 / d_lambda11 = n*N  \"\n",
      "N=lambda111/ (lambda112-lambda111)/n\n",
      "grating_element=N/t\n",
      "print \" Minimum number of lines required is \",round(grating_element,4)"
     ],
     "language": "python",
     "metadata": {},
     "outputs": [
      {
       "output_type": "stream",
       "stream": "stdout",
       "text": [
        "   Standard formula used     lambda11 / d_lambda11 = n*N  \n",
        " Minimum number of lines required is  196.3333\n"
       ]
      }
     ],
     "prompt_number": 35
    },
    {
     "cell_type": "heading",
     "level": 2,
     "metadata": {},
     "source": [
      "EXAMPLE NUMBER 1.25 : (Page Number 56)"
     ]
    },
    {
     "cell_type": "code",
     "collapsed": false,
     "input": [
      "import math\n",
      "# Given That\n",
      "a=12e-5# slit width in cm\n",
      "lambda111=5.89e-5# wavelength in cm\n",
      "lambda112=5.896e-5#wavelength in cm\n",
      "n=2# for second order spectrum\n",
      "print \"   Standard formula used     lambda11 / d_lambda11 = n*N   \"\n",
      "d_lambda11 = lambda112-lambda111\n",
      "grating_element= lambda111/ (d_lambda11*n)\n",
      "print \" Minimum number of lines required is \", ceil(grating_element)"
     ],
     "language": "python",
     "metadata": {},
     "outputs": [
      {
       "output_type": "stream",
       "stream": "stdout",
       "text": [
        "   Standard formula used     lambda11 / d_lambda11 = n*N   \n",
        " Minimum number of lines required is  491.0\n"
       ]
      }
     ],
     "prompt_number": 36
    },
    {
     "cell_type": "heading",
     "level": 2,
     "metadata": {},
     "source": [
      "EXAMPLE NUMBER 1.26 : (Page Number 57)"
     ]
    },
    {
     "cell_type": "code",
     "collapsed": false,
     "input": [
      "import math\n",
      "# Given That\n",
      "a = 12e-5 # slit width in cm\n",
      "lambda11 = 6e-5 # wavelength in cm\n",
      "print \"   Standard formula used     a*sin(theta11) = lambda11  \"\n",
      "theta11 = arcsin((lambda11 / a))\n",
      "print \" Half angular width of central bright maxima is \",ceil (theta11 * 180 / pi),\" degree .\""
     ],
     "language": "python",
     "metadata": {},
     "outputs": [
      {
       "output_type": "stream",
       "stream": "stdout",
       "text": [
        "   Standard formula used     a*sin(theta11) = lambda11  \n",
        " Half angular width of central bright maxima is  31.0  degree .\n"
       ]
      }
     ],
     "prompt_number": 37
    },
    {
     "cell_type": "heading",
     "level": 2,
     "metadata": {},
     "source": [
      "EXAMPLE NUMBER 1.27 : (Page Number 58)"
     ]
    },
    {
     "cell_type": "code",
     "collapsed": false,
     "input": [
      "import math\n",
      "# Given That\n",
      "lambda111 = 5.9e-5 # wavelength in cm\n",
      "lambda112 = 5.896e-5 #wavelength in cm\n",
      "lambda11 = 5.89e-5 # wavelength in cm\n",
      "grating_element = 4000 # lines per cm\n",
      "t = 4 # width of grating in  cm\n",
      "n = 1 # for first order spectrum\n",
      "print \"   Standard formula used     lambda11 / d_lambda11 = n*N \"\n",
      "N = t * grating_element\n",
      "Resolv_pow = lambda11 /(lambda112 - lambda11)\n",
      "N = Resolv_pow / n\n",
      "if grating_element > N: \n",
      "     print \"Grating will well resolve two spectral lines.  \" "
     ],
     "language": "python",
     "metadata": {},
     "outputs": [
      {
       "output_type": "stream",
       "stream": "stdout",
       "text": [
        "   Standard formula used     lambda11 / d_lambda11 = n*N \n",
        "Grating will well resolve two spectral lines.  \n"
       ]
      }
     ],
     "prompt_number": 39
    },
    {
     "cell_type": "heading",
     "level": 2,
     "metadata": {},
     "source": [
      "EXAMPLE NUMBER 1.28 : (Page Number 58)"
     ]
    },
    {
     "cell_type": "code",
     "collapsed": false,
     "input": [
      "import math\n",
      "# Given That\n",
      "aperture=6.4e-3# linear aperture in cm\n",
      "lambda11=6.24e-5# wavelength in cm\n",
      "f=50# separation between lens and screen in cm\n",
      "n=1# for first order spectrum\n",
      "print \"   Standard formula used     a*sin(theta11 ) = lambda11  \"\n",
      "sin_theta11=n*lambda11/aperture\n",
      "d=f*sin_theta11\n",
      "print \" Distance between the center and the first fringe is\",ceil((d*100)/100),\" cm. \""
     ],
     "language": "python",
     "metadata": {},
     "outputs": [
      {
       "output_type": "stream",
       "stream": "stdout",
       "text": [
        "   Standard formula used     a*sin(theta11 ) = lambda11  \n",
        " Distance between the center and the first fringe is 1.0  cm. \n"
       ]
      }
     ],
     "prompt_number": 41
    },
    {
     "cell_type": "heading",
     "level": 2,
     "metadata": {},
     "source": [
      "EXAMPLE NUMBER 1.29 : (Page Number 59)"
     ]
    },
    {
     "cell_type": "code",
     "collapsed": false,
     "input": [
      "import math\n",
      "# Given That\n",
      "theta11 = 60 # angle between plane of vibration of incident beam with optic axis\n",
      "print \"Standard formula used is   I = A**2*cos**2(theta11)  \"\n",
      "ratio = (tan(theta11*pi /180))**2    # ratio of extraordinary and aordinary intensites\n",
      "print \"Ratio of extraordinary and ordinary intensites is \", ratio\n"
     ],
     "language": "python",
     "metadata": {},
     "outputs": [
      {
       "output_type": "stream",
       "stream": "stdout",
       "text": [
        "Standard formula used is   I = A**2*cos**2(theta11)  \n",
        "Ratio of extraordinary and ordinary intensites is  3.0\n"
       ]
      }
     ],
     "prompt_number": 42
    },
    {
     "cell_type": "heading",
     "level": 2,
     "metadata": {},
     "source": [
      "EXAMPLE NUMBER 1.30 : (Page Number 59)"
     ]
    },
    {
     "cell_type": "code",
     "collapsed": false,
     "input": [
      "import math\n",
      "# Given That\n",
      "mu_e = 1.553 # refractive index of quartz plate for extra ordinary light\n",
      "mu_o = 1.544 # refractive index of quartz plate for ordinary light\n",
      "lambda11 = 5.89e-5 # wavelength of light in Angstrom.\n",
      "print \"Standard formula used is   lambda11= 2t(mu_e-mu_o)  \"\n",
      "t = lambda11 / (2 * (mu_e - mu_o))\n",
      "print \"Thickness of half wave plate of quartz is \",round(t,4),\" cm.\""
     ],
     "language": "python",
     "metadata": {},
     "outputs": [
      {
       "output_type": "stream",
       "stream": "stdout",
       "text": [
        "Standard formula used is   lambda11= 2t(mu_e-mu_o)  \n",
        "Thickness of half wave plate of quartz is  0.00327222222222  cm.\n"
       ]
      }
     ],
     "prompt_number": 43
    },
    {
     "cell_type": "heading",
     "level": 2,
     "metadata": {},
     "source": [
      "EXAMPLE NUMBER 1.31 : (Page Number 59)"
     ]
    },
    {
     "cell_type": "code",
     "collapsed": false,
     "input": [
      "import math\n",
      "# Given That\n",
      "lambda1=5e-5# wavelength in cm\n",
      "mu_e=1.5533# refractive index for extraordinary light\n",
      "mu_o=1.5422# refractive index for ordinary light\n",
      "print \"   Standard formula used     lambda1= 2t (mu_e-mu_o) \"\n",
      "t=lambda1/ (2*(mu_e-mu_o)) # calculation of Thickness of half wave plate of quartz\n",
      "print \"Thickness of half wave plate of quartz is\",round(t,4),\" cm\""
     ],
     "language": "python",
     "metadata": {},
     "outputs": [
      {
       "output_type": "stream",
       "stream": "stdout",
       "text": [
        "   Standard formula used     lambda1= 2t (mu_e-mu_o) \n",
        "Thickness of half wave plate of quartz is 0.0023  cm\n"
       ]
      }
     ],
     "prompt_number": 45
    },
    {
     "cell_type": "heading",
     "level": 2,
     "metadata": {},
     "source": [
      "EXAMPLE NUMBER 1.32 : (Page Number 60)"
     ]
    },
    {
     "cell_type": "code",
     "collapsed": false,
     "input": [
      "import math\n",
      "# Given That\n",
      "lambda1=5.89e-5# wavelength in cm\n",
      "rotation=(pi/18)# rotation of plane of polarization in degree per cm\n",
      "print \"   Standard formula used     delta=pi*d*del_mu/lambda1  \"\n",
      "del_mu=rotation*lambda1/ (pi)\n",
      "print \"Difference in refractive indices of substance is\",round(del_mu,6)"
     ],
     "language": "python",
     "metadata": {},
     "outputs": [
      {
       "output_type": "stream",
       "stream": "stdout",
       "text": [
        "   Standard formula used     delta=pi*d*del_mu/lambda1  \n",
        "Difference in refractive indices of substance is 3e-06\n"
       ]
      }
     ],
     "prompt_number": 50
    },
    {
     "cell_type": "heading",
     "level": 2,
     "metadata": {},
     "source": [
      "EXAMPLE NUMBER 1.33 : (Page Number 60)"
     ]
    },
    {
     "cell_type": "code",
     "collapsed": false,
     "input": [
      "import math\n",
      "# Given That\n",
      "rotation=13.2# in degree\n",
      "conc=0.1# gram per cubic cm\n",
      "l=2# length of tube in dm\n",
      "print \"   Standard formula used     delta=pi*d*del_mu/lambda1  \"\n",
      "s= (rotation*(pi/180))/ (l*conc)\n",
      "specific_rotation=s*180/pi\n",
      "print \"Specific rotation of sample is  \",specific_rotation,\"degree.\""
     ],
     "language": "python",
     "metadata": {},
     "outputs": [
      {
       "output_type": "stream",
       "stream": "stdout",
       "text": [
        "   Standard formula used     delta=pi*d*del_mu/lambda1  \n",
        "Specific rotation of sample is   66.0 degree.\n"
       ]
      }
     ],
     "prompt_number": 51
    }
   ],
   "metadata": {}
  }
 ]
}