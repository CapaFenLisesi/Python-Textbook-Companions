{
 "metadata": {
  "celltoolbar": "Raw Cell Format",
  "name": "",
  "signature": "sha256:793b50b951bc2494d178bb955682b2d6da29e9b14f958e845f1a4cd1f91cc684"
 },
 "nbformat": 3,
 "nbformat_minor": 0,
 "worksheets": [
  {
   "cells": [
    {
     "cell_type": "heading",
     "level": 1,
     "metadata": {},
     "source": [
      "Introduction To Special Relativity And Space Science (By S.P. Singh)"
     ]
    },
    {
     "cell_type": "heading",
     "level": 1,
     "metadata": {},
     "source": [
      "CHAPTER NUMBER 6 : RELATIVISTIC KINEMATICS AND PARADOXES IN RELATIVITY"
     ]
    },
    {
     "cell_type": "heading",
     "level": 2,
     "metadata": {},
     "source": [
      "EXAMPLE NUMBER 6.1 : (Page Number 221)"
     ]
    },
    {
     "cell_type": "code",
     "collapsed": false,
     "input": [
      "import math\n",
      "   #Given that\n",
      "c = 3e8    # speed of light in m/s\n",
      "v = 0.8* c    # velocity of rod\n",
      "l1 = 1    # let \n",
      "theta1 = 60    # anlge between length of rod and speed in degree\n",
      "l_x = l1 * math.cos(theta1 * pi /180) * math.sqrt (1-(v /c)**2)\n",
      "l_y = l1 * math.sin(theta1 * pi /180)\n",
      "l2 = math.sqrt (l_x**2 + l_y**2)\n",
      "per_contrtaction = (l1 - l2) / l1 *100\n",
      "angle = math.atan (l_y/l_x)\n",
      "print \"Percentage contraction in rod is \",round(per_contrtaction,4),\" and apparant orientation is \",round(math.tan(angle),4),\"\""
     ],
     "language": "python",
     "metadata": {},
     "outputs": [
      {
       "output_type": "stream",
       "stream": "stdout",
       "text": [
        "Percentage contraction in rod is  8.3645  and apparant orientation is  2.8832 \n"
       ]
      }
     ],
     "prompt_number": 102
    },
    {
     "cell_type": "heading",
     "level": 2,
     "metadata": {},
     "source": [
      "EXAMPLE NUMBER 6.2 : (Page Number 222)"
     ]
    },
    {
     "cell_type": "code",
     "collapsed": false,
     "input": [
      "import math\n",
      "   #Given that\n",
      "c = 3e8    # speed of light in m/s\n",
      "u_x_ = -3e8    # velocity of first photon in ground frame in m/s\n",
      "v = -3e8    # velocity of second photon in ground frame in m/s\n",
      "print \"Standard formula used is  u_x = (u_x_ + v) / (1 + v * u_x_ / c**2) \"\n",
      "u_x = (u_x_ + v) / (1 + v * u_x_ / c**2)    # calculation of Velocity of photon with respect to another\n",
      "print \"Velocity of photon with respect to another is \",(u_x / c),\" * c   Thus photons are approaching each other.\""
     ],
     "language": "python",
     "metadata": {},
     "outputs": [
      {
       "output_type": "stream",
       "stream": "stdout",
       "text": [
        "Standard formula used is  u_x = (u_x_ + v) / (1 + v * u_x_ / c**2) \n",
        "Velocity of photon with respect to another is  -1.0  * c   Thus photons are approaching each other.\n"
       ]
      }
     ],
     "prompt_number": 108
    },
    {
     "cell_type": "heading",
     "level": 2,
     "metadata": {},
     "source": [
      "EXAMPLE NUMBER 6.3 : (Page Number 222)"
     ]
    },
    {
     "cell_type": "code",
     "collapsed": false,
     "input": [
      "import math\n",
      "   #Given that\n",
      "c = 3e8    # speed of light in m/s\n",
      "u_x_ = -0.9 * c    # velocity of first spaceship in ground frame in m/s\n",
      "v = -0.9 *c    # velocity of second spaceship in ground frame in m/s\n",
      "print \"Standard formula used is  u_x = (u_x_ + v) / (1 + v * u_x_ / c**2) \"\n",
      "u_x = (u_x_ + v) / (1 + v * u_x_ / c**2)    # calculation of Velocity of photon\n",
      "print \"Velocity of photon with respect to another is \",round(u_x / c,4),\" c.\""
     ],
     "language": "python",
     "metadata": {},
     "outputs": [
      {
       "output_type": "stream",
       "stream": "stdout",
       "text": [
        "Standard formula used is  u_x = (u_x_ + v) / (1 + v * u_x_ / c**2) \n",
        "Velocity of photon with respect to another is  -0.9945  c.\n"
       ]
      }
     ],
     "prompt_number": 111
    },
    {
     "cell_type": "heading",
     "level": 2,
     "metadata": {},
     "source": [
      "EXAMPLE NUMBER 6.4 : (Page Number 223)"
     ]
    },
    {
     "cell_type": "code",
     "collapsed": false,
     "input": [
      "import math\n",
      "   #Given that\n",
      "E = 7.5e11    # Energy in kWh\n",
      "c = 3e8    # speed of light in m/s\n",
      "print \"  Standard formula used   E = m*c**2\"\n",
      "m = (E *3.6e6) / c**2   # calculation of Amount of mass consumed\n",
      "print \"  Amount of mass consumed is \",m,\" kg.\""
     ],
     "language": "python",
     "metadata": {},
     "outputs": [
      {
       "output_type": "stream",
       "stream": "stdout",
       "text": [
        "  Standard formula used   E = m*c**2\n",
        "  Amount of mass consumed is  30.0  kg.\n"
       ]
      }
     ],
     "prompt_number": 112
    },
    {
     "cell_type": "heading",
     "level": 2,
     "metadata": {},
     "source": [
      "EXAMPLE NUMBER 6.5 : (Page Number 223)"
     ]
    },
    {
     "cell_type": "code",
     "collapsed": false,
     "input": [
      "import math\n",
      "   #Given that\n",
      "m = 4    # mass of substance consumed fully in kg\n",
      "c = 3e8    # speed of light in m/s\n",
      "print \"  Standard formula used   E = m*c**2\"\n",
      "E = m * c**2   # calculation of Amount of energy produced\n",
      "print \"  Amount of energy produced is \",E,\" J.\"\n"
     ],
     "language": "python",
     "metadata": {},
     "outputs": [
      {
       "output_type": "stream",
       "stream": "stdout",
       "text": [
        "  Standard formula used   E = m*c**2\n",
        "  Amount of energy produced is  3.6e+17  J.\n"
       ]
      }
     ],
     "prompt_number": 113
    },
    {
     "cell_type": "heading",
     "level": 2,
     "metadata": {},
     "source": [
      "EXAMPLE NUMBER 6.6 : (Page Number 223)"
     ]
    },
    {
     "cell_type": "code",
     "collapsed": false,
     "input": [
      "\n",
      "import math\n",
      "   #Given that\n",
      "m_0 = 1e-24    # mass of moving particle in kg\n",
      "v = 1.8e8    # speed of particle in m/s\n",
      "c = 3e8    # speed of light in m/s\n",
      "print \"  Standard formula used   m = m_o/ math.sqrt ( 1- (v/c)**2)\"\n",
      "m = m_0 / math.sqrt(1 - (v / c)**2)    # calculation of Relativistic mass of particle\n",
      "print \"  Relativistic mass of particle is \",m,\" kg.\""
     ],
     "language": "python",
     "metadata": {},
     "outputs": [
      {
       "output_type": "stream",
       "stream": "stdout",
       "text": [
        "  Standard formula used   m = m_o/ math.sqrt ( 1- (v/c)**2)\n",
        "  Relativistic mass of particle is  1.25e-24  kg.\n"
       ]
      }
     ],
     "prompt_number": 114
    },
    {
     "cell_type": "heading",
     "level": 2,
     "metadata": {},
     "source": [
      "EXAMPLE NUMBER 6.7 : (Page Number 223)"
     ]
    },
    {
     "cell_type": "code",
     "collapsed": false,
     "input": [
      "import math\n",
      "   #Given that\n",
      "c = 3e8    # speed of light in m/s\n",
      "v = 0.5 * c    # speed of particle in m/s\n",
      "\n",
      "print \"  Standard formula used   m = m_o/math.sqrt ( 1- (v/c)**2)\"\n",
      "ratio = math.sqrt(1- (v /c)**2)    # calculation of Ratio of rest mass and relativistic mass of particle\n",
      "print \"  Ratio of rest mass and relativistic mass of particle is \",round(ratio,4),\".\""
     ],
     "language": "python",
     "metadata": {},
     "outputs": [
      {
       "output_type": "stream",
       "stream": "stdout",
       "text": [
        "  Standard formula used   m = m_o/math.sqrt ( 1- (v/c)**2)\n",
        "  Ratio of rest mass and relativistic mass of particle is  0.866 .\n"
       ]
      }
     ],
     "prompt_number": 116
    },
    {
     "cell_type": "heading",
     "level": 2,
     "metadata": {},
     "source": [
      "EXAMPLE NUMBER 6.8a : (Page Number 224)"
     ]
    },
    {
     "cell_type": "code",
     "collapsed": false,
     "input": [
      "import math\n",
      "   #Given that\n",
      "ratio = 0.5    # Ratio of lengths of spaceship\n",
      "c = 3e8    # speed of light in m/s\n",
      "print \"Standard formula used   l = l_o* math.sqrt ( 1- (v/c)**2)\"\n",
      "v = c * math.sqrt(1 - ratio**2)    # calculation of Speed of spaceship\n",
      "print \"  Speed of spaceship is \",v,\" m/s.\""
     ],
     "language": "python",
     "metadata": {},
     "outputs": [
      {
       "output_type": "stream",
       "stream": "stdout",
       "text": [
        "  Standard formula used   l = l_o* math.sqrt ( 1- (v/c)**2)\n",
        "  Speed of spaceship is  259807621.135  m/s.\n"
       ]
      }
     ],
     "prompt_number": 119
    },
    {
     "cell_type": "heading",
     "level": 2,
     "metadata": {},
     "source": [
      "EXAMPLE NUMBER 6.8b : (Page Number 224)"
     ]
    },
    {
     "cell_type": "code",
     "collapsed": false,
     "input": [
      "import math\n",
      "   #Given that\n",
      "c = 3e8    # speed of light in m/s\n",
      "v = 2.598e8    # speed of spaceship\n",
      "t_0 = 1    # time in second\n",
      "print \"  Standard formula used   t= t_o/ math.sqrt ( 1- (v/c)**2)\"\n",
      "t = t_0 / math.sqrt(1 - (v **2 / c **2) )    # calculation of Time corresponding to 1 sec\n",
      "print \"  Time corresponding to 1 sec is \",math.ceil (t),\" sec.\""
     ],
     "language": "python",
     "metadata": {},
     "outputs": [
      {
       "output_type": "stream",
       "stream": "stdout",
       "text": [
        "   Standard formula used   t= t_o/ math.sqrt ( 1- (v/c)**2)\n",
        "  Time corresponding to 1 sec is  2.0  sec.\n"
       ]
      }
     ],
     "prompt_number": 121
    },
    {
     "cell_type": "heading",
     "level": 2,
     "metadata": {},
     "source": [
      "EXAMPLE NUMBER 6.9 : (Page Number 224)"
     ]
    },
    {
     "cell_type": "code",
     "collapsed": false,
     "input": [
      "import math\n",
      "   #Given that\n",
      "c = 3e8    # speed of light in m/s\n",
      "v = 2.4e8    # speed of meson\n",
      "t_0 = 2e-8    # lifetime of meson in second\n",
      "print \"  Standard formula used \"\n",
      "t = t_0 / math.sqrt(1 - (v  / c )**2 )    # calculation of Lifetime of meson\n",
      "print \"  Lifetime of meson is \",t,\" sec.\""
     ],
     "language": "python",
     "metadata": {},
     "outputs": [
      {
       "output_type": "stream",
       "stream": "stdout",
       "text": [
        "  Standard formula used \n",
        "  Lifetime of meson is  3.33333333333e-08  sec.\n"
       ]
      }
     ],
     "prompt_number": 122
    },
    {
     "cell_type": "heading",
     "level": 2,
     "metadata": {},
     "source": [
      "EXAMPLE NUMBER 6.10 : (Page Number 225)"
     ]
    },
    {
     "cell_type": "code",
     "collapsed": false,
     "input": [
      "import math\n",
      "   #Given that\n",
      "c = 3e8    # speed of light in m/s\n",
      "m_0 = 1    # atomic mass in amu\n",
      "m = 3 * m_0    # relativistic mass\n",
      "print \"  Standard formula used  l = l_o * math.sqrt ( 1- (v/c)**2)\"\n",
      "v = c * math.sqrt(1- (m_0 / m)**2)    # calculation of Velocity of particle\n",
      "print \"  Velocity of particle is \",v / c,\" c.\"\n"
     ],
     "language": "python",
     "metadata": {},
     "outputs": [
      {
       "output_type": "stream",
       "stream": "stdout",
       "text": [
        "  Standard formula used  l = l_o * math.sqrt ( 1- (v/c)**2)\n",
        "  Velocity of particle is  1.0  c.\n"
       ]
      }
     ],
     "prompt_number": 123
    },
    {
     "cell_type": "heading",
     "level": 2,
     "metadata": {},
     "source": [
      "EXAMPLE NUMBER 6.11 : (Page Number 225)"
     ]
    },
    {
     "cell_type": "code",
     "collapsed": false,
     "input": [
      "import math\n",
      "   #Given that\n",
      "mass_ratio = 0.5    # Ratio of rest mass and relativistic mass  \n",
      "c = 3e8    # speed of light in m/s\n",
      "print \"  Standard formula used   m = m_o / math.sqrt ( 1- (v/c)**2) \"\n",
      "v = c * math.sqrt(1- mass_ratio**2)    # calculation of Velocity of particle\n",
      "print \"  Velocity of particle is \",v / c,\" c.\"\n"
     ],
     "language": "python",
     "metadata": {},
     "outputs": [
      {
       "output_type": "stream",
       "stream": "stdout",
       "text": [
        "  Standard formula used   m = m_o / math.sqrt ( 1- (v/c)**2) \n",
        "  Velocity of particle is  0.866025403784  c.\n"
       ]
      }
     ],
     "prompt_number": 124
    },
    {
     "cell_type": "heading",
     "level": 2,
     "metadata": {},
     "source": [
      "EXAMPLE NUMBER 6.12a : (Page Number 226)"
     ]
    },
    {
     "cell_type": "code",
     "collapsed": false,
     "input": [
      "import math\n",
      "   #Given that\n",
      "c = 3e8    # speed of light in m/s\n",
      "u_x_ = -2e8    # velocity of first photon in ground frame in m/s\n",
      "v = -2e8    # velocity of second photon in ground frame in m/s\n",
      "m_0 = 3e-25\n",
      "print \"  Standard formula used   u_x = (u_x_ + v) / (1 + v * u_x_ / c**2)\"\n",
      "u_x = (u_x_ + v) / (1 + v * u_x_ / c**2)    # calculation of Velocity of photon with respect to another\n",
      "m = m_0 / math.sqrt(1 - (u_x / c)**2)    # calculation of Relativistic mass of particle with respect to another\n",
      "print \"  Velocity of photon with respect to another is \",u_x,\" m/s.\"\n",
      "print \"  Relativistic mass of particle with respect to another is \",m,\" kg.\"\n"
     ],
     "language": "python",
     "metadata": {},
     "outputs": [
      {
       "output_type": "stream",
       "stream": "stdout",
       "text": [
        "  Standard formula used   u_x = (u_x_ + v) / (1 + v * u_x_ / c**2)\n",
        "  Velocity of photon with respect to another is  -276923076.923  m/s.\n",
        "  Relativistic mass of particle with respect to another is  7.8e-25  kg.\n"
       ]
      }
     ],
     "prompt_number": 125
    },
    {
     "cell_type": "heading",
     "level": 2,
     "metadata": {},
     "source": [
      "EXAMPLE NUMBER 6.12b : (Page Number 227)"
     ]
    },
    {
     "cell_type": "code",
     "collapsed": false,
     "input": [
      "import math\n",
      "   #Given that \n",
      "c = 3e8    # speed of light in m/s\n",
      "ratio = 1.95e+03    # Ratio of relativistic mass and rest mass\n",
      "print \"  Standard formula used   m = m_o/ math.sqrt ( 1- (v/c)**2)\"\n",
      "ratio_1 = 1 /(2* ratio**2)       # calculation of ratio of velocity to velocity of light for\t\n",
      "print \"  Ratio of velocity to velocity of light for particle is 1 -  \",ratio_1,\" .\""
     ],
     "language": "python",
     "metadata": {},
     "outputs": [
      {
       "output_type": "stream",
       "stream": "stdout",
       "text": [
        "  Standard formula used   m = m_o/ math.sqrt ( 1- (v/c)**2)\n",
        "  Ratio of velocity to velocity of light for particle is 1 -   1.31492439185e-07  .\n"
       ]
      }
     ],
     "prompt_number": 126
    },
    {
     "cell_type": "heading",
     "level": 2,
     "metadata": {},
     "source": [
      "EXAMPLE NUMBER 6.13 : (Page Number 226)"
     ]
    },
    {
     "cell_type": "code",
     "collapsed": false,
     "input": [
      "import math\n",
      "   #Given that\n",
      "c = 3e8    # speed of light in m/s\n",
      "u = 0.9*c    # velocity of first particle with respect to other in m/s\n",
      "density1 = 19.3e-3    # density of gold in rest frame\n",
      "print \"  Standard formula used   m = m_o/ math.sqrt ( 1- (v/c)**2)   and   l = l_o* math.sqrt ( 1- (v/c)**2) \"\n",
      "mass_ratio = math.sqrt (1 - (u/c)**2)    # calculation of ratio of relativistic mass\n",
      "volume_ratio = 1 / math.sqrt (1 - (u/ c)**2)    # calculation of ratio of relativistic volume\n",
      "density2 = density1 * (volume_ratio /mass_ratio )    #calculation of ratio of relativistic density\n",
      "print \"  Relativistic density of rod in moving frame is \",density2,\".\""
     ],
     "language": "python",
     "metadata": {},
     "outputs": [
      {
       "output_type": "stream",
       "stream": "stdout",
       "text": [
        "  Standard formula used   m = m_o/ math.sqrt ( 1- (v/c)**2)   and   l = l_o* math.sqrt ( 1- (v/c)**2) \n",
        "  Relativistic density of rod in moving frame is  0.101578947368 .\n"
       ]
      }
     ],
     "prompt_number": 127
    },
    {
     "cell_type": "heading",
     "level": 2,
     "metadata": {},
     "source": [
      "EXAMPLE NUMBER 6.14a : (Page Number 227)"
     ]
    },
    {
     "cell_type": "code",
     "collapsed": false,
     "input": [
      "import math\n",
      "   #Given that\n",
      "E = 1e9    # energy of electron in eV  \n",
      "c = 3e8    # speed of light in m/s\n",
      "m_0 = 9.1e-31    # mass of electron in kg\n",
      "print \"  Standard formula used    E = m*c**2\"\n",
      "m = E / c**2 * 1.6e-19         # calculation of relativistic mass of particle\n",
      "ratio = m / m_0   # calculation of Ratio of relativistic mass and rest mass of particle\n",
      "print \"  Ratio of relativistic mass and rest mass  of particle is \",ratio,\".\"\n"
     ],
     "language": "python",
     "metadata": {},
     "outputs": [
      {
       "output_type": "stream",
       "stream": "stdout",
       "text": [
        "  Standard formula used    E = m*c**2\n",
        "  Ratio of relativistic mass and rest mass  of particle is  1953.6019536 .\n"
       ]
      }
     ],
     "prompt_number": 128
    },
    {
     "cell_type": "heading",
     "level": 2,
     "metadata": {},
     "source": [
      "EXAMPLE NUMBER 6.14b : (Page Number 227)"
     ]
    },
    {
     "cell_type": "code",
     "collapsed": false,
     "input": [
      "import math\n",
      "   #Given that \n",
      "c = 3e8    # speed of light in m/s\n",
      "ratio = 1.95e+03    # Ratio of relativistic mass and rest mass\n",
      "print \"  Standard formula used   m = m_o/ math.sqrt ( 1- (v/c)**2)\"\n",
      "ratio_1 = 1 /(2* ratio**2)       # calculation of ratio of velocity to velocity of light for\t\n",
      "print \"  Ratio of velocity to velocity of light for particle is 1 -  \",ratio_1,\" .\"\n"
     ],
     "language": "python",
     "metadata": {},
     "outputs": [
      {
       "output_type": "stream",
       "stream": "stdout",
       "text": [
        "  Standard formula used   m = m_o/ math.sqrt ( 1- (v/c)**2)\n",
        "  Ratio of velocity to velocity of light for particle is 1 -   1.31492439185e-07  .\n"
       ]
      }
     ],
     "prompt_number": 129
    },
    {
     "cell_type": "heading",
     "level": 2,
     "metadata": {},
     "source": [
      "EXAMPLE NUMBER 6.14c : (Page Number 227)"
     ]
    },
    {
     "cell_type": "code",
     "collapsed": false,
     "input": [
      "import math\n",
      "   #Given that \n",
      "m = 9e-31    # mass in kg\n",
      "E = 1e9    # Energy of accelerated electron in eV\n",
      "c = 3e8    # speed of light in m/s\n",
      "print \"  Standard formula used   E = m*c**2\"\n",
      "E_0 = m * c**2   # calculation of rest mass energy\n",
      "ratio = E / E_0 *1.6e-19   # calculation of Ratio of energy to rest mass energy\n",
      "print \"  Ratio of energy to rest mass energy is \",ratio,\".\"\n"
     ],
     "language": "python",
     "metadata": {},
     "outputs": [
      {
       "output_type": "stream",
       "stream": "stdout",
       "text": [
        "  Standard formula used   E = m*c**2\n",
        "  Ratio of energy to rest mass energy is  1975.30864198 .\n"
       ]
      }
     ],
     "prompt_number": 130
    },
    {
     "cell_type": "heading",
     "level": 2,
     "metadata": {},
     "source": [
      "EXAMPLE NUMBER 6.15 : (Page Number 228)"
     ]
    },
    {
     "cell_type": "code",
     "collapsed": false,
     "input": [
      "import math\n",
      "   #Given that \n",
      "c = 3e8    # speed of light in m/s\n",
      "v = 0.6 * c    # velocity of rod wrt laboratory\n",
      "l_ = 1    # length of rod measured by observer in lab\n",
      "print \"  Standard formula used   l = l_o* math.sqrt ( 1- (v/c)**2)\"\n",
      "l = l_ / math.sqrt (1 - (v / c)**2)     # calculation of Proper length of rod  \n",
      "print \"  Proper length of rod  is \",l,\" m.\""
     ],
     "language": "python",
     "metadata": {},
     "outputs": [
      {
       "output_type": "stream",
       "stream": "stdout",
       "text": [
        "  Standard formula used   l = l_o* math.sqrt ( 1- (v/c)**2)\n",
        "  Proper length of rod  is  1.25  m.\n"
       ]
      }
     ],
     "prompt_number": 133
    },
    {
     "cell_type": "heading",
     "level": 2,
     "metadata": {},
     "source": [
      "EXAMPLE NUMBER 6.16 : (Page Number 228)"
     ]
    },
    {
     "cell_type": "code",
     "collapsed": false,
     "input": [
      "import math\n",
      "   #Given that \n",
      "c = 3e8    # speed of light in m/s\n",
      "v = 0.9 * c    # velocity of rod wrt laboratory\n",
      "proper_time = 2.5e-8    # proper mean life time of mesons\n",
      "print \"  Standard formula used   t = t_o /math.sqrt ( 1- (v/c)**2)\"\n",
      "t = proper_time / math.sqrt (1 - (v / c)**2)    # calculation of New mean life time\n",
      "print \"  New mean life time is \",t,\" s.\"\n"
     ],
     "language": "python",
     "metadata": {},
     "outputs": [
      {
       "output_type": "stream",
       "stream": "stdout",
       "text": [
        "  Standard formula used   t = t_o /math.sqrt ( 1- (v/c)**2)\n",
        "  New mean life time is  5.73539334676e-08  s.\n"
       ]
      }
     ],
     "prompt_number": 134
    },
    {
     "cell_type": "heading",
     "level": 2,
     "metadata": {},
     "source": [
      "EXAMPLE NUMBER 6.17 : (Page Number 229)"
     ]
    },
    {
     "cell_type": "code",
     "collapsed": false,
     "input": [
      "\n",
      "import math\n",
      "   #Given that\n",
      "E = 1    # energy of electron in MeV  \n",
      "c = 3e8    # speed of light in m/s\n",
      "m_0 = 9e-31    # rest mass of electron\n",
      "print \"  Standard formula used   m = m_o* math.sqrt ( 1- (v/c)**2)   and   E=m*c**2\"\n",
      "m = E * 1.6e-13 / c**2   # calculation of mass of electron\n",
      "v = c * math.sqrt(1 - (m_0 / m)**2)    # calculation of Velocity of electron\n",
      "print \"  Velocity of electron is \",v,\" m/s.\""
     ],
     "language": "python",
     "metadata": {},
     "outputs": [
      {
       "output_type": "stream",
       "stream": "stdout",
       "text": [
        "  Standard formula used   m = m_o* math.sqrt ( 1- (v/c)**2)   and   E=m*c**2\n",
        "  Velocity of electron is  258716030.379  m/s.\n"
       ]
      }
     ],
     "prompt_number": 135
    },
    {
     "cell_type": "heading",
     "level": 2,
     "metadata": {},
     "source": [
      "EXAMPLE NUMBER 6.19 : (Page Number 230)"
     ]
    },
    {
     "cell_type": "code",
     "collapsed": false,
     "input": [
      "import math\n",
      "   #Given that \n",
      "c = 3e8    # speed of light in m/s\n",
      "v = 0.99 * c     # velocity of particle\n",
      "proper_time = 2.2e-6    # proper mean life time of mesons\n",
      "print \"  Standard formula used   t = t_o /math.sqrt ( 1- (v/c)**2)\"\n",
      "t = proper_time / math.sqrt (1 - (v / c)**2)    # calculation of time period\n",
      "d = v *t   # calculation of Distance travelled by particle\n",
      "print \"  Distance traveled by particle is \",d,\" m.\""
     ],
     "language": "python",
     "metadata": {},
     "outputs": [
      {
       "output_type": "stream",
       "stream": "stdout",
       "text": [
        "  Standard formula used   t = t_o /math.sqrt ( 1- (v/c)**2)\n",
        "  Distance traveled by particle is  4631.82979352  m.\n"
       ]
      }
     ],
     "prompt_number": 136
    },
    {
     "cell_type": "heading",
     "level": 2,
     "metadata": {},
     "source": [
      "EXAMPLE NUMBER 6.20 : (Page Number 230)"
     ]
    },
    {
     "cell_type": "code",
     "collapsed": false,
     "input": [
      "import math\n",
      "   #Given that \n",
      "c = 3e8    # speed of light in m/s\n",
      "m = 1    # let \n",
      "m_change = 1    # change in mass in percentage by increamath.sing velocity\n",
      "print \"  Standard formula used   m = m_o* math.sqrt ( 1- (v/c)**2) \"\n",
      "v = c * math.sqrt (1 - (m / (m + m_change/100))**2)    # calculation of Velocity required to increase mass by one percent\n",
      "print  \"  Velocity required to increase mass by one perfect is \",v,\" m/s.\""
     ],
     "language": "python",
     "metadata": {},
     "outputs": [
      {
       "output_type": "stream",
       "stream": "stdout",
       "text": [
        "  Standard formula used   m = m_o* math.sqrt ( 1- (v/c)**2) \n",
        "  Velocity required to increase mass by one perfect is  0.0  m/s.\n"
       ]
      }
     ],
     "prompt_number": 137
    },
    {
     "cell_type": "heading",
     "level": 2,
     "metadata": {},
     "source": [
      "EXAMPLE NUMBER 6.21 : (Page Number 231)"
     ]
    },
    {
     "cell_type": "code",
     "collapsed": false,
     "input": [
      "import math\n",
      "   #Given that \n",
      "c = 3e8    # speed of light in m/s\n",
      "m_ratio = 2000    # ratio of rest mass and relativistic mass\n",
      "print \"  Standard formula used   m = m_o* math.sqrt ( 1- (v/c)**2) \"\n",
      "v = c * math.sqrt (1 - (1/m_ratio)**2)    # calculation of Velocity required to increase mass by 2000 times\n",
      "\t\n",
      "print  \"  Velocity required to increase mass by 2000 times is \",c,\" - \",(c -v),\" m/s.\""
     ],
     "language": "python",
     "metadata": {},
     "outputs": [
      {
       "output_type": "stream",
       "stream": "stdout",
       "text": [
        "  Standard formula used   m = m_o* math.sqrt ( 1- (v/c)**2) \n",
        "  Velocity required to increase mass by 2000 times is  300000000.0  -  0.0  m/s.\n"
       ]
      }
     ],
     "prompt_number": 138
    },
    {
     "cell_type": "heading",
     "level": 2,
     "metadata": {},
     "source": [
      "EXAMPLE NUMBER 6.22 : (Page Number 231)"
     ]
    },
    {
     "cell_type": "code",
     "collapsed": false,
     "input": [
      "import math\n",
      "   #Given that \n",
      "h = 6.63e-34    # plank's constant\n",
      "c = 3e8    # speed of light in m/s\n",
      "lambda1 = 5e-4    # wavelength of photon in angstrom\n",
      "e_rest_mass = 0.511    # rest mass of electron in Mev/c**2\n",
      "p_rest_mass = 0.511    # rest mass of electron in Mev/c**2\n",
      "print \"  Standard formula used   E_total = E_rest + E_kinetic\"\n",
      "k = (((h * c  / (lambda1 * 1.6e-23 ))  - (e_rest_mass + p_rest_mass))) /2    # calculation of Energy of each particle\n",
      "print  \"  Energy of each particle is  \",k,\" MeV.\"   "
     ],
     "language": "python",
     "metadata": {},
     "outputs": [
      {
       "output_type": "stream",
       "stream": "stdout",
       "text": [
        "  Standard formula used   E_total = E_rest + E_kinetic\n",
        "  Energy of each particle is   11.92025  MeV.\n"
       ]
      }
     ],
     "prompt_number": 139
    },
    {
     "cell_type": "heading",
     "level": 2,
     "metadata": {},
     "source": [
      "EXAMPLE NUMBER 6.23 : (Page Number 232)"
     ]
    },
    {
     "cell_type": "code",
     "collapsed": false,
     "input": [
      "import math\n",
      "   #Given that \n",
      "h = 6.63e-34    # plank's constant\n",
      "c = 3e8    # speed of light in m/s\n",
      "p_rest_mass = 938    # rest mass of proton in Mev/\n",
      "ap_rest_mass = 938    # rest mass of antiproton in Mev\n",
      "print \"  Standard formula used   E = h* c / lambda1\"\n",
      "lambda1 = h * c / ((p_rest_mass + ap_rest_mass) * 1.6e-19)    # calculation of  Threshold wavelength for proton - antiproton production\n",
      "print  \"  Threshold wavelength for proton - antiproton production is  \",round((lambda1 / 1e-10),4),\" angstrom.\""
     ],
     "language": "python",
     "metadata": {},
     "outputs": [
      {
       "output_type": "stream",
       "stream": "stdout",
       "text": [
        "  Standard formula used   E = h* c / lambda1\n",
        "  Threshold wavelength for proton - antiproton production is   6.6265  angstrom.\n"
       ]
      }
     ],
     "prompt_number": 141
    },
    {
     "cell_type": "heading",
     "level": 2,
     "metadata": {},
     "source": [
      "EXAMPLE NUMBER 6.24 : (Page Number 232)"
     ]
    },
    {
     "cell_type": "code",
     "collapsed": false,
     "input": [
      "import math\n",
      "   #Given that\n",
      "c = 3e8    # speed of light in m/s\n",
      "p_rest_mass = 0.938    # rest mass energy of proton in BeV\n",
      "KE = 1    # kinetic energy of proton in BeV \n",
      "print \"  Standard formula used E**2 = p**2*c**2 + m_o**2*c**4*\"\n",
      "E = KE + p_rest_mass   # calculation of energy of particle\n",
      "p = (math.sqrt (E**2 *1e6 - (p_rest_mass * 1e3)**2)) *(1.6e-19)*(1e9) / c   # calculation of Momentum of photon\n",
      "print  \"  Momentum of photon is \",p,\" kg m/s.\"\n"
     ],
     "language": "python",
     "metadata": {},
     "outputs": [
      {
       "output_type": "stream",
       "stream": "stdout",
       "text": [
        "  Standard formula used E**2 = p**2*c**2 + m_o**2*c**4*\n",
        "  Momentum of photon is  9.04467922163e-16  kg m/s.\n"
       ]
      }
     ],
     "prompt_number": 142
    },
    {
     "cell_type": "heading",
     "level": 2,
     "metadata": {},
     "source": [
      "EXAMPLE NUMBER 6.26 : (Page Number 228)"
     ]
    },
    {
     "cell_type": "code",
     "collapsed": false,
     "input": [
      "import math\n",
      "   #Given that \n",
      "c = 3e8    # speed of light in m/s\n",
      "t = 8e-6    # mean life of meson \n",
      "l = 10    # distance of meson from earth surface\n",
      "print \"  Standard formula used   l = l_o* math.sqrt ( 1- (v/c)**2)\"\n",
      "v = l*1e3/ math.sqrt( t**2 +(l * 1e3 /c)**2)    # calculation of relative speed of meson with respect to\n",
      "print \"  Relative speed of meson with respect to earth  is \",round(v/c,4),\" c .\""
     ],
     "language": "python",
     "metadata": {},
     "outputs": [
      {
       "output_type": "stream",
       "stream": "stdout",
       "text": [
        "  Standard formula used   l = l_o* math.sqrt ( 1- (v/c)**2)\n",
        "  Relative speed of meson with respect to earth  is  0.9724  c .\n"
       ]
      }
     ],
     "prompt_number": 144
    },
    {
     "cell_type": "heading",
     "level": 2,
     "metadata": {},
     "source": [
      "EXAMPLE NUMBER 6.27 : (Page Number 228)"
     ]
    },
    {
     "cell_type": "code",
     "collapsed": false,
     "input": [
      "import math\n",
      "   #Given that \n",
      "c = 3e8    # speed of light in m/s\n",
      "v = 0.8 *c    # velocity of rod in m/s\n",
      "m_0 = 1.673e-27    # rest mass of proton in kg\n",
      "print \"  Standard formula used   E_total = KE + E_mass\"\n",
      "K_E = m_0 * c**2 *(1/math.sqrt(1-(v/c)**2) - 1) / 1.6e-13    # calculation of Kinetic energy of proton\n",
      "print \"  Kinetic energy of proton is \",K_E,\"MeV.\""
     ],
     "language": "python",
     "metadata": {},
     "outputs": [
      {
       "output_type": "stream",
       "stream": "stdout",
       "text": [
        "  Standard formula used   E_total = KE + E_mass\n",
        "  Kinetic energy of proton is  627.375 MeV.\n"
       ]
      }
     ],
     "prompt_number": 145
    }
   ],
   "metadata": {}
  }
 ]
}