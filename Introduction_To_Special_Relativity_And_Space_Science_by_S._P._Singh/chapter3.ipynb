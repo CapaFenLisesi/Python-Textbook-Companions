{
 "metadata": {
  "celltoolbar": "Raw Cell Format",
  "name": "",
  "signature": "sha256:298577a77052f52e0ce70fb27b3579d87d3fedef0cd6a87e444fd7a59a204e46"
 },
 "nbformat": 3,
 "nbformat_minor": 0,
 "worksheets": [
  {
   "cells": [
    {
     "cell_type": "heading",
     "level": 1,
     "metadata": {},
     "source": [
      "Introduction To Special Relativity And Space Science (By S.P. Singh)"
     ]
    },
    {
     "cell_type": "heading",
     "level": 1,
     "metadata": {},
     "source": [
      "CHAPTER NUMBER 3 : DUAL NATURE OF LIGHT"
     ]
    },
    {
     "cell_type": "heading",
     "level": 2,
     "metadata": {},
     "source": [
      "EXAMPLE NUMBER 3.1 : (Page Number 135)"
     ]
    },
    {
     "cell_type": "code",
     "collapsed": false,
     "input": [
      "import math\n",
      "   #Given that\n",
      "h = 6.6e-34    # plank's constant\n",
      "nu = 2e15    # frequency in Hz\n",
      "phi1 = 6.72e-19\n",
      "m = 9e-31\n",
      "print \"Standard formula Used   ( 1/2)*m*v**2 = h*nu - phi1\"\n",
      "v = math.sqrt((h * nu)/ m )    #calculation of maximum velocity of photoelectron\n",
      "print \"  Maximum velocity of photoelectron can be \",v,\"  m/s.. \""
     ],
     "language": "python",
     "metadata": {},
     "outputs": [
      {
       "output_type": "stream",
       "stream": "stdout",
       "text": [
        "Standard formula Used   ( 1/2)*m*v**2 = h*nu - phi1\n",
        "  Maximum velocity of photoelectron can be  1211060.14164   m/s.. \n"
       ]
      }
     ],
     "prompt_number": 2
    },
    {
     "cell_type": "heading",
     "level": 2,
     "metadata": {},
     "source": [
      "EXAMPLE NUMBER 3.2 : (Page Number 135)"
     ]
    },
    {
     "cell_type": "code",
     "collapsed": false,
     "input": [
      "import math\n",
      "   #Given that\n",
      "h = 6.6e-34    # plank's constant\n",
      "lambda1_threshold = 2.4e-7    # threshold wavelength in cm\n",
      "lambda1 = 2e-7    # wavelength of irradicated light in photo emmission\n",
      "c = 3e8\n",
      "print \"  Standard formula Used   E = h * (nu1 \u2013 nu2)\"\n",
      "E = h * c * ((lambda1_threshold - lambda1)/(lambda1 *lambda1_threshold))/1.6e-19    # calculation of nergy of photoelectrons\n",
      "print \"  Energy of photoelectrons emitted is \",E,\"  eV\""
     ],
     "language": "python",
     "metadata": {},
     "outputs": [
      {
       "output_type": "stream",
       "stream": "stdout",
       "text": [
        "  Standard formula Used   E = h * (nu1 \u2013 nu2)\n",
        "  Energy of photoelectrons emitted is  1.03125   eV\n"
       ]
      }
     ],
     "prompt_number": 3
    },
    {
     "cell_type": "heading",
     "level": 2,
     "metadata": {},
     "source": [
      "EXAMPLE NUMBER 3.3 : (Page Number 136)"
     ]
    },
    {
     "cell_type": "code",
     "collapsed": false,
     "input": [
      "import math\n",
      "   #Given that\n",
      "applied_voltage = 4e4    # in volt\n",
      "h = 6.624e-34    # plank's constant\n",
      "c = 3e8    # speed of light\n",
      "e = 1.6e-19    # charge on electron\n",
      "print \"  Standard formula Used   E = h*c/lambda1\"\n",
      "lambda1 = h * c / ( e * applied_voltage) *1e10    #calculation of Shortest wavelength emitted\n",
      "print \"  Shortest wavelength emitted is \",lambda1,\" Angstrom.\" "
     ],
     "language": "python",
     "metadata": {},
     "outputs": [
      {
       "output_type": "stream",
       "stream": "stdout",
       "text": [
        "  Standard formula Used   E = h*c/lambda1\n",
        "  Shortest wavelength emitted is  0.3105  Angstrom.\n"
       ]
      }
     ],
     "prompt_number": 4
    },
    {
     "cell_type": "heading",
     "level": 2,
     "metadata": {},
     "source": [
      "EXAMPLE NUMBER 3.4 : (Page Number 136)"
     ]
    },
    {
     "cell_type": "code",
     "collapsed": false,
     "input": [
      "import math\n",
      "   #Given that\n",
      "E = 1e3    # energy of moving electron in eV\n",
      "h = 6.624e-34    # plank's constant\n",
      "c = 3e8    # speed of light\n",
      "e = 1.6e-19    # charge on electron\n",
      "m_e = 9.1e-31\n",
      "print \"  Standard formula Used   E =(1/2)*m *v**2\"\n",
      "v = math.sqrt(2 * E * 1.6e-19/ m_e)    #calculation of Velocity of moving electron\n",
      "print \"  Velocity of moving electron is \",v,\"  m/s.\"\n"
     ],
     "language": "python",
     "metadata": {},
     "outputs": [
      {
       "output_type": "stream",
       "stream": "stdout",
       "text": [
        "  Standard formula Used   E =(1/2)*m *v**2\n",
        "  Velocity of moving electron is  18752289.2375   m/s.\n"
       ]
      }
     ],
     "prompt_number": 5
    },
    {
     "cell_type": "heading",
     "level": 2,
     "metadata": {},
     "source": [
      "EXAMPLE NUMBER 3.5 : (Page Number 137)"
     ]
    },
    {
     "cell_type": "code",
     "collapsed": false,
     "input": [
      "import math\n",
      "   #Given that\n",
      "phi1 = 6    # work function in eV\n",
      "h = 6.624e-34    # plank's constant\n",
      "c = 3e8    # speed of light\n",
      "e = 1.6e-19    # charge on electron\n",
      "m_e = 9.1e-31\n",
      "print \"  Standard formula Used   phi1 = h * nu\"\n",
      "lambda1 = h * c / (phi1 * e) * 1e10   #calculation of Longest wavelength to eject electron\n",
      "print \"  Longest wavelength to eject electron is \",lambda1,\"  Angstroms. \""
     ],
     "language": "python",
     "metadata": {},
     "outputs": [
      {
       "output_type": "stream",
       "stream": "stdout",
       "text": [
        "  Standard formula Used   phi1 = h * nu\n",
        "  Longest wavelength to eject electron is  2070.0   Angstroms. \n"
       ]
      }
     ],
     "prompt_number": 6
    },
    {
     "cell_type": "heading",
     "level": 2,
     "metadata": {},
     "source": [
      "EXAMPLE NUMBER 3.6 : (Page Number 137)"
     ]
    },
    {
     "cell_type": "code",
     "collapsed": false,
     "input": [
      "import math\n",
      "   #Given that\n",
      "pi = 3.14\n",
      "theta1 =pi/2    # scattering angle of photon\n",
      "h = 6.624e-34    # plank's constant\n",
      "c = 3e8    # speed of light\n",
      "e = 1.6e-19    # charge on electron in coloumb\n",
      "m_e = 9.1e-31    # mass of electron in kg\n",
      "print \"  Standard formula Used   delta_lambda1 = h * (1 - cos (theta1 )) / ( m_e * c)\"\n",
      "delta_lambda1 = h * (1 - math.cos(theta1 )) /( m_e * c)    #calculation of Change in wavelength of electron\n",
      "print \"  Change in wavelength of electron is \",round(delta_lambda1*1e10,4),\"  Angstrom. \" "
     ],
     "language": "python",
     "metadata": {},
     "outputs": [
      {
       "output_type": "stream",
       "stream": "stdout",
       "text": [
        "  Standard formula Used   delta_lambda1 = h * (1 - cos (theta1 )) / ( m_e * c)\n",
        "  Change in wavelength of electron is  0.0242   Angstrom. \n"
       ]
      }
     ],
     "prompt_number": 12
    },
    {
     "cell_type": "heading",
     "level": 2,
     "metadata": {},
     "source": [
      "EXAMPLE NUMBER 3.7 : (Page Number 137)"
     ]
    },
    {
     "cell_type": "code",
     "collapsed": false,
     "input": [
      "import math\n",
      "   #Given that\n",
      "angle = pi/2    # scattering angle of photon\n",
      "h = 6.624e-34    # plank's constant\n",
      "v = 2e6    # speed of particle\n",
      "e = 1.6e-19    # charge on electron\n",
      "m = 1e-3    # mass of particle in kg\n",
      "print \"  Standard formula Used   lambda1 = h / (m * v)\"\n",
      "lambda1 = h / (m * v)    #calculation of de Broglie wavelength of particle\n",
      "print \"  de Broglie wavelength of particle is \",lambda1,\"  m.\" \n",
      "print \"  Here the de Broglie wavelength is too small to be detected. This wavelength is far smaller than the wavelength of X ray.  Hence diffraction experiment with such a stream of particle will not be successful.\""
     ],
     "language": "python",
     "metadata": {},
     "outputs": [
      {
       "output_type": "stream",
       "stream": "stdout",
       "text": [
        "  Standard formula Used   lambda1 = h / (m * v)\n",
        "  de Broglie wavelength of particle is  3.312e-37   m.\n",
        "  Here the de Broglie wavelength is too small to be detected. This wavelength is far smaller than the wavelength of X ray.  Hence diffraction experiment with such a stream of particle will not be successful.\n"
       ]
      }
     ],
     "prompt_number": 13
    },
    {
     "cell_type": "heading",
     "level": 2,
     "metadata": {},
     "source": [
      "EXAMPLE NUMBER 3.8a : (Page Number 138)"
     ]
    },
    {
     "cell_type": "code",
     "collapsed": false,
     "input": [
      "import math\n",
      "   #Given that\n",
      "lambda1 = 4.3e-7    # wavelength of light in meter\n",
      "phi1_Ni = 5    # work function of nickel in eV\n",
      "h = 6.624e-34    # plank's constant\n",
      "c = 3e8    # speed of light\n",
      "m_e = 9.1e-31    # mass of electron in kg\n",
      "lambda1_threshold = h * c / (phi1_Ni*1e-19)    #calculation of longest wavelength required\n",
      "if lambda1_threshold < lambda1:\n",
      "    print \"  As the threshold wavelength is less than wavelength of incident radiation   So electron will not be ejected  \"\n",
      "else:\n",
      "    v = math.sqrt((2*h*c*(lambda1-lambda1_threshold))/(m*lambda1_threshold*lambda1))    #calculation of ejected velocity Electron\n",
      "    print \"  As the threshold wavelength is greater than wavelength of incident radiation So electron will be ejected with velocity \",v,\". \""
     ],
     "language": "python",
     "metadata": {},
     "outputs": [
      {
       "output_type": "stream",
       "stream": "stdout",
       "text": [
        "  As the threshold wavelength is less than wavelength of incident radiation   So electron will not be ejected  \n"
       ]
      }
     ],
     "prompt_number": 21
    },
    {
     "cell_type": "heading",
     "level": 2,
     "metadata": {},
     "source": [
      "EXAMPLE NUMBER 3.8b : (Page Number 138)"
     ]
    },
    {
     "cell_type": "code",
     "collapsed": false,
     "input": [
      "import math\n",
      "   #Given that\n",
      "lambda1 = 4.3e-7    # wavelength of light in meter\n",
      "phi1_K = 2.3    # work function of nickel in eV\n",
      "h = 6.624e-34    # plank's constant\n",
      "c = 3e8    # speed of light\n",
      "m_e = 9.1e-31    # mass of electron in kg\n",
      "lambda1_threshold = h * c / (phi1_K *1.6e-19)    #calculation of longest wavelength required\n",
      "if lambda1_threshold < lambda1:\n",
      "    print \"As the threshold wavelength is less than wavelength of incident radiation Solectron will not be ejected  \"\n",
      "else:\n",
      "    v = math.sqrt((2* h * c *( lambda1_threshold - lambda1)) / (m_e * lambda1_threshold * lambda1 ))    #calculation of ejected velocity Electron\n",
      "    print \"  As the threshold wavelength is greater than wavelength of incident radiation So   electron will be ejected with velocity \",v,\" m/s. \"\n"
     ],
     "language": "python",
     "metadata": {},
     "outputs": [
      {
       "output_type": "stream",
       "stream": "stdout",
       "text": [
        "  As the threshold wavelength is greater than wavelength of incident radiation So   electron will be ejected with velocity  454862.700897  m/s. \n"
       ]
      }
     ],
     "prompt_number": 24
    },
    {
     "cell_type": "heading",
     "level": 2,
     "metadata": {},
     "source": [
      "EXAMPLE NUMBER 3.9 : (Page Number 139)"
     ]
    },
    {
     "cell_type": "code",
     "collapsed": false,
     "input": [
      "import math\n",
      "   #Given that\n",
      "d = 3.04    # inter layer separation in Angstrom\n",
      "theta1 = 14.7    # in degree\n",
      "n = 2    # order of brags reflection\n",
      "print \"  Standard formula Used   2 * d * sin(theta1) = n * lambda1\"\n",
      "lambda1 = 2 * d * math.sin( theta1 * (pi /180))/ n      #calculation of wavelength making second order Braggs reflection\n",
      "print \"   Second order brags reflection occurs at \",theta1,\" degree for the wavelength \",lambda1,\" Angstrom \""
     ],
     "language": "python",
     "metadata": {},
     "outputs": [
      {
       "output_type": "stream",
       "stream": "stdout",
       "text": [
        "  Standard formula Used   2 * d * sin(theta1) = n * lambda1\n",
        "   Second order brags reflection occurs at  14.7  degree for the wavelength  0.771041684638  Angstrom \n"
       ]
      }
     ],
     "prompt_number": 27
    },
    {
     "cell_type": "heading",
     "level": 2,
     "metadata": {},
     "source": [
      "EXAMPLE NUMBER 3.10a : (Page Number 139)"
     ]
    },
    {
     "cell_type": "code",
     "collapsed": false,
     "input": [
      "import math\n",
      "   #Given that\n",
      "lambda1 = 0.52    # wavelength in angstrom\n",
      "theta1 = 5    # in degree\n",
      "n = 1    # order of brags reflection\n",
      "print \"  Standard formula Used   2 * d * sin(theta1) = n * lambda1 \"\n",
      "d = n * lambda1 / (2 * math.sin (theta1 * pi / 180))\n",
      "   #calculation of separation between adjacent layers of crystals\n",
      "print \"  Separation between adjacent layers of crystals is \",d,\" angstrom. \""
     ],
     "language": "python",
     "metadata": {},
     "outputs": [
      {
       "output_type": "stream",
       "stream": "stdout",
       "text": [
        "  Standard formula Used   2 * d * sin(theta1) = n * lambda1 \n",
        "  Separation between adjacent layers of crystals is  2.98467470674  angstrom. \n"
       ]
      }
     ],
     "prompt_number": 29
    },
    {
     "cell_type": "heading",
     "level": 2,
     "metadata": {},
     "source": [
      "EXAMPLE NUMBER 3.10b : (Page Number 139)"
     ]
    },
    {
     "cell_type": "code",
     "collapsed": false,
     "input": [
      "import math\n",
      "   #Given that\n",
      "n = 2    # order \n",
      "lambda1 = 5.2e-11    # wavelength in Angstrom \n",
      "d = 2.98e-10    # interatomic separation in Angstrom\n",
      "print \"  Standard formula Used   2 * d * sin(theta1) = n * lambda1 \"\n",
      "theta1_rad = math.asin ( (n * lambda1) / ( 2 * d))    #calculation of angle for secondary maxima in radian\n",
      "theta1_deg = theta1_rad * 180 / pi    #calculation of angle for secondary maxima in degree\n",
      "print \"  Angle for secondary maxima is  \",theta1_deg,\". \""
     ],
     "language": "python",
     "metadata": {},
     "outputs": [
      {
       "output_type": "stream",
       "stream": "stdout",
       "text": [
        "  Standard formula Used   2 * d * sin(theta1) = n * lambda1 \n",
        "  Angle for secondary maxima is   10.0544644405 . \n"
       ]
      }
     ],
     "prompt_number": 32
    },
    {
     "cell_type": "heading",
     "level": 2,
     "metadata": {},
     "source": [
      "EXAMPLE NUMBER 3.11 : (Page Number 140)"
     ]
    },
    {
     "cell_type": "code",
     "collapsed": false,
     "input": [
      "import math\n",
      "   #Given that\n",
      "nu = 3.2e19    # frequency in hartz\n",
      "theta1 = 90    # angle of scattered photon in degree\n",
      "m_e = 9.1e-31    # mass of electron in Kg\n",
      "c = 3e8    # speed of light in m/s\n",
      "h = 6.626e-34    # plank's constant\n",
      "print \"  Standard formula Used   delta_lambda1 = h * (1 - math.cos (theta1 )) / ( m_e * c)\"\n",
      "lambda1 = c / nu   #calculation of incident wavelength\n",
      "lambda1_shift = h *(1 - math.cos(theta1 * pi / 180))/ ( m_e * c)    #calculation of shift in wavelength\n",
      "lambda11 = lambda1 + lambda1_shift   #calculation of wavelength of scattered photon\n",
      "nu1 = c / lambda11   #calculation of Frequency after scattering  \n",
      "print \"  Frequency after scattering  is \",nu1,\" Hz. \""
     ],
     "language": "python",
     "metadata": {},
     "outputs": [
      {
       "output_type": "stream",
       "stream": "stdout",
       "text": [
        "  Standard formula Used   delta_lambda1 = h * (1 - math.cos (theta1 )) / ( m_e * c)\n",
        "  Frequency after scattering  is  2.54233550954e+19  Hz. \n"
       ]
      }
     ],
     "prompt_number": 33
    },
    {
     "cell_type": "heading",
     "level": 2,
     "metadata": {},
     "source": [
      "EXAMPLE NUMBER 3.12 : (Page Number 140)"
     ]
    },
    {
     "cell_type": "code",
     "collapsed": false,
     "input": [
      "import math\n",
      "   #Given that\n",
      "r = 1e-14    # radius of nucleus of atom in meter\n",
      "h = 6.626e-34    # Plank's constant\n",
      "print \"  Standard formula Used   delta_p * delta_x >= h /(2*pi)\"\n",
      "del_x = 2 * r    #calculation of Uncertainty in position\n",
      "del_p = h / (2 * pi * del_x)    #calculation of Uncertainty in momentum\n",
      "print \"  Uncertainty in momentum is \",del_p,\" Kg-m/s. \""
     ],
     "language": "python",
     "metadata": {},
     "outputs": [
      {
       "output_type": "stream",
       "stream": "stdout",
       "text": [
        "  Standard formula Used   delta_p * delta_x >= h /(2*pi)\n",
        "  Uncertainty in momentum is  5.27547770701e-21  Kg-m/s. \n"
       ]
      }
     ],
     "prompt_number": 34
    },
    {
     "cell_type": "heading",
     "level": 2,
     "metadata": {},
     "source": [
      "EXAMPLE NUMBER 3.13 : (Page Number 140)"
     ]
    },
    {
     "cell_type": "code",
     "collapsed": false,
     "input": [
      "import math\n",
      "   #Given that\n",
      "v = 300    # speed of electron in m/s\n",
      "accuracy = 1e-4    # accuracy in speed\n",
      "h = 6.6e-34    # Plank's constant\n",
      "m_e = 9.1e-31    # mass of electron in Kg\n",
      "print \"  Standard formula Used   delta_p * delta_x >= h /(2*pi)\"\n",
      "del_p =  accuracy * m_e * v     #calculation of Uncertainty in  momentum\n",
      "del_x = h / (4 * pi * del_p)     #calculation of Uncertainty in position\n",
      "print \"  Uncertainty in position of electron is \",del_x*1000,\" mm. \""
     ],
     "language": "python",
     "metadata": {},
     "outputs": [
      {
       "output_type": "stream",
       "stream": "stdout",
       "text": [
        "  Standard formula Used   delta_p * delta_x >= h /(2*pi)\n",
        "  Uncertainty in position of electron is  1.92482676559  mm. \n"
       ]
      }
     ],
     "prompt_number": 35
    },
    {
     "cell_type": "heading",
     "level": 2,
     "metadata": {},
     "source": [
      "EXAMPLE NUMBER 3.14 : (Page Number 141)"
     ]
    },
    {
     "cell_type": "code",
     "collapsed": false,
     "input": [
      "import math\n",
      "   #Given that\n",
      "lambda11 = 6560    # wavelength in Angstrom\n",
      "n1 = 1    # transition state no\n",
      "n2 = 2    # transition state no\n",
      "n3 = 3    # transition state no.\n",
      "print \"  Standard formula Used    For Balmer Series   1/lambda1 =  R*(1-(1/n)**2)    For Lyman series   1/lambda1 =  R*((1/2)**2 -(1/n)**2)\"\n",
      "lambda12 = (n2**2 * n1**2) *(n3**2 - n2**2) /( (n2**2 - n1**2) * (n3**2 * n2**2)) * lambda11     #calculation of Wavelength of first line of Lyman series\n",
      "print \"   Wavelength of first line of Lyman series is \",lambda12,\" Angstrom. \""
     ],
     "language": "python",
     "metadata": {},
     "outputs": [
      {
       "output_type": "stream",
       "stream": "stdout",
       "text": [
        "  Standard formula Used    For Balmer Series   1/lambda1 =  R*(1-(1/n)**2)    For Lyman series   1/lambda1 =  R*((1/2)**2 -(1/n)**2)\n",
        "   Wavelength of first line of Lyman series is  0  Angstrom. \n"
       ]
      }
     ],
     "prompt_number": 36
    },
    {
     "cell_type": "heading",
     "level": 2,
     "metadata": {},
     "source": [
      "EXAMPLE NUMBER 3.15 : (Page Number 142)"
     ]
    },
    {
     "cell_type": "code",
     "collapsed": false,
     "input": [
      "import math\n",
      "   #Given that\n",
      "m = 2e-3    # mass of linear harmonic oscillator in kg\n",
      "k = 100    # spring constant in N/m\n",
      "h = 6.6e-34    # Plank's constant \n",
      "print \"  Standard formula Used   f =  math.sqrt(k / m )   U = 1/2* h * nu \"\n",
      "nu1 = math.sqrt(k / m ) / (2 * pi)    #calculation of frequency of linear harmonic oscillator\n",
      "U = 1/2* h * nu1    #calculation of Zero point energy of a linear harmonic oscillator  \n",
      "print \"  Zero point energy of a linear harmonic oscillator  is \",U,\" J.\""
     ],
     "language": "python",
     "metadata": {},
     "outputs": [
      {
       "output_type": "stream",
       "stream": "stdout",
       "text": [
        "  Standard formula Used   f =  math.sqrt(k / m )   U = 1/2* h * nu \n",
        "  Zero point energy of a linear harmonic oscillator  is  0.0  J.\n"
       ]
      }
     ],
     "prompt_number": 39
    },
    {
     "cell_type": "heading",
     "level": 2,
     "metadata": {},
     "source": [
      "EXAMPLE NUMBER 3.16a : (Page Number 142)"
     ]
    },
    {
     "cell_type": "code",
     "collapsed": false,
     "input": [
      "import math\n",
      "   #Given that\n",
      "R = 1.097    # Rydberg\u2019s constant\n",
      "n1 = 1    # transition state no\n",
      "n2 = 2    # transition state no\n",
      "print \"  Standard formula Used   For Lyman series 1/lambda1 = R*((1/2) **2 - (1/n) **2)\"\n",
      "nu1 = R * (n2**2 - n1**2) / (n1**2 * n2**2)    #calculation of frequency of first line of Lyman series\n",
      "lambda11 = 1/ nu1   #calculation of Wavelength of first line of Lyman series\n",
      "print \"  Wavelength of first line of Lyman series is \",lambda11 *1000,\" Angstrom. \""
     ],
     "language": "python",
     "metadata": {},
     "outputs": [
      {
       "output_type": "stream",
       "stream": "stdout",
       "text": [
        "  Standard formula Used   For Lyman series 1/lambda1 = R*((1/2) **2 - (1/n) **2)\n",
        "  Wavelength of first line of Lyman series is  1215.43603768  Angstrom. \n"
       ]
      }
     ],
     "prompt_number": 40
    },
    {
     "cell_type": "heading",
     "level": 2,
     "metadata": {},
     "source": [
      "EXAMPLE NUMBER 3.16b : (Page Number 142)"
     ]
    },
    {
     "cell_type": "code",
     "collapsed": false,
     "input": [
      "import math\n",
      "   #Given that\n",
      "R = 1.097    # Rydberg\u2019s constant\n",
      "n1 = 1    # transition state no\n",
      "n2 = 3    # transition state no\n",
      "print \"  Standard formula Used   For Lyman series 1/lambda1 =  R*((1/2)**2 -(1/n)**2)\"\n",
      "nu1 = R * (n2**2 - n1**2) / (n1**2 * n2**2)    #calculation of frequency of first line of Lyman series\n",
      "lambda11 = 1/ nu1    #calculation of Wavelength of first line of Lyman series\n",
      "print \"  Wavelength of second line of Lyman series is \",lambda11 *1000 ,\" Angstrom. \""
     ],
     "language": "python",
     "metadata": {},
     "outputs": [
      {
       "output_type": "stream",
       "stream": "stdout",
       "text": [
        "  Standard formula Used   For Lyman series 1/lambda1 =  R*((1/2)**2 -(1/n)**2)\n",
        "  Wavelength of second line of Lyman series is  1025.52415679  Angstrom. \n"
       ]
      }
     ],
     "prompt_number": 41
    },
    {
     "cell_type": "heading",
     "level": 2,
     "metadata": {},
     "source": [
      "EXAMPLE NUMBER 3.17 : (Page Number 143)"
     ]
    },
    {
     "cell_type": "code",
     "collapsed": false,
     "input": [
      "import math\n",
      "   #Given that\n",
      "lambda11 = 4700    # wavelength in Angstrom\n",
      "lambda12 = 1.4e-5   #wavelength in cm \n",
      "temp1 = 6174    # temperature of a black of in kelvin\n",
      "print \"  Standard formula Used   lambda1 * T = constant\"\n",
      "temp2 = lambda11 * temp1 / (lambda12 * 1e8)    #calculation of temperature\n",
      "print \"  Blackbody will emit  wavelength 1.4e-5 cm at \",temp2,\" K.\""
     ],
     "language": "python",
     "metadata": {},
     "outputs": [
      {
       "output_type": "stream",
       "stream": "stdout",
       "text": [
        "  Standard formula Used   lambda1 * T = constant\n",
        "  Blackbody will emit  wavelength 1.4e-5 cm at  20727.0  K.\n"
       ]
      }
     ],
     "prompt_number": 42
    },
    {
     "cell_type": "heading",
     "level": 2,
     "metadata": {},
     "source": [
      "EXAMPLE NUMBER 3.19a : (Page Number 144)"
     ]
    },
    {
     "cell_type": "code",
     "collapsed": false,
     "input": [
      "import math\n",
      "   #Given that\n",
      "lambda1 = 1    # wavelength in Angstrom\n",
      "theta1 = 90    # angle of scattered photon in degree\n",
      "m_e = 9.11e-31    # mass of electron in Kg\n",
      "c = 3e8    # speed of light in m/s\n",
      "h = 6.63e-34    # plank's constant\n",
      "print \"  Standard formula Used   delta_lambda1 = h * (1 - math.cos (theta1 )) / ( m_e * c)\"\n",
      "lambda1_shift = h *(1 - math.cos(theta1 * pi / 180))/ ( m_e * c)    #calculation of Change in frequency  \n",
      "print \"  Change in frequency  is \",round(lambda1_shift * 1e10,4),\" Hz. \""
     ],
     "language": "python",
     "metadata": {},
     "outputs": [
      {
       "output_type": "stream",
       "stream": "stdout",
       "text": [
        "  Standard formula Used   delta_lambda1 = h * (1 - math.cos (theta1 )) / ( m_e * c)\n",
        "  Change in frequency  is  0.0242  Hz. \n"
       ]
      }
     ],
     "prompt_number": 46
    },
    {
     "cell_type": "heading",
     "level": 2,
     "metadata": {},
     "source": [
      "EXAMPLE NUMBER 3.19b : (Page Number 144)"
     ]
    },
    {
     "cell_type": "code",
     "collapsed": false,
     "input": [
      "import math\n",
      "   #Given that\n",
      "lambda11 = 1    # wavelength in Angstrom\n",
      "lambda12 = 1.0243    # wavelength in Angstrom\n",
      "c = 3e8    # speed of light in m/s\n",
      "h = 6.63e-34    # plank's constant\n",
      "print \"  Standard formula Used   E= h *(nu1 \u2013 nu2)\"\n",
      "K = h * c * (( lambda12 - lambda11 )/ (lambda11 * lambda12 )) *(10e9 / 1.6e-19)      #calculation of Kinetic energy imparted to recoiling\n",
      "print \"  Kinetic energy imparted to recoiling electron is \",round(K,4),\" eV.\""
     ],
     "language": "python",
     "metadata": {},
     "outputs": [
      {
       "output_type": "stream",
       "stream": "stdout",
       "text": [
        "  Standard formula Used   E= h *(nu1 \u2013 nu2)\n",
        "  Kinetic energy imparted to recoiling electron is  294.913  eV.\n"
       ]
      }
     ],
     "prompt_number": 48
    },
    {
     "cell_type": "heading",
     "level": 2,
     "metadata": {},
     "source": [
      "EXAMPLE NUMBER 3.20 : (Page Number 145)"
     ]
    },
    {
     "cell_type": "code",
     "collapsed": false,
     "input": [
      "import math\n",
      "   #Given that\n",
      "theta1 = 90    # angle of scattered photon in degree\n",
      "E_rest = 938.3    # rest mass energy of a proton in MeV\n",
      "E = 12   # energy of scattered proton in Mev\n",
      "c = 3e8    # speed of light in m/s\n",
      "h = 6.63e-34    # plank's constant\n",
      "print \"  Standard formula Used   delta_lambda1 = h * (1 - math.cos (theta1 )) / ( m_e * c)\"\n",
      "lambda1 = h * c / ( E * 1.6e-13)    #calculation of incident wavelength\n",
      "lambda11 = lambda1 + h * c / (E_rest * 1.6e-13)       #calculation of wavelength of scattered photon\n",
      "print \"  wavelength of scattered photon is  \",round(lambda11 * 1e10,4),\" Angstrom. \""
     ],
     "language": "python",
     "metadata": {},
     "outputs": [
      {
       "output_type": "stream",
       "stream": "stdout",
       "text": [
        "  Standard formula Used   delta_lambda1 = h * (1 - math.cos (theta1 )) / ( m_e * c)\n",
        "  wavelength of scattered photon is   0.001  Angstrom. \n"
       ]
      }
     ],
     "prompt_number": 50
    },
    {
     "cell_type": "heading",
     "level": 2,
     "metadata": {},
     "source": [
      "EXAMPLE NUMBER 3.21 : (Page Number 146)"
     ]
    },
    {
     "cell_type": "code",
     "collapsed": false,
     "input": [
      "import math\n",
      "   #Given that\n",
      "lambda11 = 1.321    # wavelength of L- alpha line for platinum\n",
      "lambda12 = 4.174    # wavelength of l - alpha line of unknown substance \n",
      "z1= 78   # atomic number of platinum\n",
      "c = 3e8    # speed of light in m/s\n",
      "b = 7.4    # constant  for L - alpha line\n",
      "print \"  Standard formula Used   math.sqrt(nu1)= a*(Z-b)\"\n",
      "z2 = b + (z1 - b) * math.sqrt(lambda11 / lambda12)    #calculation of the unknown substance has atomic number\n",
      "print\"  The unknown substance has atomic number \",round(z2,4),\". \""
     ],
     "language": "python",
     "metadata": {},
     "outputs": [
      {
       "output_type": "stream",
       "stream": "stdout",
       "text": [
        "  Standard formula Used   math.sqrt(nu1)= a*(Z-b)\n",
        "  The unknown substance has atomic number  47.1173 . \n"
       ]
      }
     ],
     "prompt_number": 52
    },
    {
     "cell_type": "heading",
     "level": 2,
     "metadata": {},
     "source": [
      "EXAMPLE NUMBER 3.22 : (Page Number 146)"
     ]
    },
    {
     "cell_type": "code",
     "collapsed": false,
     "input": [
      "import math\n",
      "   #Given that\n",
      "h = 6.6e-34    # plank's constant\n",
      "m_e = 9.1e-31    # mass of electron in kg\n",
      "L = 1e-10    # length of box of particle in m\n",
      "print \"  Standard formula Used   E= h**2 * (n_x**2+n_y**2+n_z**2) / (8*m*L**2)\"\n",
      "sum = 0 \n",
      "n_y = 1\n",
      "for n_x in range(1,3):\n",
      "    for n_z in range(1,2):\n",
      "                sum = n_x+n_y+n_z\n",
      "                if sum<6:\n",
      "                     E = h**2 * (n_x**2+n_y**2+n_z**2)/ (1.6e-19*8*m_e*L**2)    # calculation of energy\n",
      "                print \"    E\",n_x,\"\",n_y,\"\",n_z,\" is  \",round(E,4),\" eV. \"\n",
      "                "
     ],
     "language": "python",
     "metadata": {},
     "outputs": [
      {
       "output_type": "stream",
       "stream": "stdout",
       "text": [
        "  Standard formula Used   E= h**2 * (n_x**2+n_y**2+n_z**2) / (8*m*L**2)\n",
        "    E 1  1  1  is   112.1909  eV. \n",
        "    E 2  1  1  is   224.3819  eV. \n"
       ]
      }
     ],
     "prompt_number": 59
    }
   ],
   "metadata": {}
  }
 ]
}