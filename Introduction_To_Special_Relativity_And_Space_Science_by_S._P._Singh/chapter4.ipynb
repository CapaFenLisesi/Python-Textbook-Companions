{
 "metadata": {
  "celltoolbar": "Raw Cell Format",
  "name": "",
  "signature": "sha256:f8e371890eb406aafac15ba8670d03c8a3095e6b35699d2159ffa08e7f4ec7d6"
 },
 "nbformat": 3,
 "nbformat_minor": 0,
 "worksheets": [
  {
   "cells": [
    {
     "cell_type": "heading",
     "level": 1,
     "metadata": {},
     "source": [
      "Introduction To Special Relativity And Space Science (By S.P. Singh)"
     ]
    },
    {
     "cell_type": "heading",
     "level": 1,
     "metadata": {},
     "source": [
      "CHAPTER NUMBER 4 : FRAME OF REFERNCE "
     ]
    },
    {
     "cell_type": "heading",
     "level": 2,
     "metadata": {},
     "source": [
      "EXAMPLE NUMBER 4.1 : (Page Number 176)"
     ]
    },
    {
     "cell_type": "code",
     "collapsed": false,
     "input": [
      "import math\n",
      "   #Given that\n",
      "F = [2.5,4.5,-5]    # F is a force vector act through origin\n",
      "F_magnitude = math.sqrt ( 2.5**2 + 4.5**2 + (-5)**2)\n",
      "theta1_x = (180 / pi ) * math.acos ( 2.5 / F_magnitude)\n",
      "theta1_y = (180 / pi ) * math.acos ( 4.5 / F_magnitude)\n",
      "theta1_z = (180 / pi ) * math.acos ( -5 / F_magnitude)\n",
      "print \"   Magnitude of force F is \",round(F_magnitude,4),\" N\"\n",
      "print \"   Angle made with X - axis is \",round(theta1_x,4),\" degree\"\n",
      "print \"   Angle made with Y - axis is \",round(theta1_y,4),\" degree\"\n",
      "print \"   Angle made with Z - axis is \",round(theta1_z,4),\" degree\""
     ],
     "language": "python",
     "metadata": {},
     "outputs": [
      {
       "output_type": "stream",
       "stream": "stdout",
       "text": [
        "   Magnitude of force F is  7.1764  N\n",
        "   Angle made with X - axis is  69.6479  degree\n",
        "   Angle made with Y - axis is  51.1924  degree\n",
        "   Angle made with Z - axis is  134.2335  degree\n"
       ]
      }
     ],
     "prompt_number": 64
    },
    {
     "cell_type": "heading",
     "level": 2,
     "metadata": {},
     "source": [
      "EXAMPLE NUMBER 4.2a : (Page Number 176)"
     ]
    },
    {
     "cell_type": "code",
     "collapsed": false,
     "input": [
      "import math\n",
      "   #Given that\n",
      "r = [2,2,2*math.sqrt(2)]\n",
      "r_magnitude = math.sqrt ( 2**2 + 2**2 + (2*math.sqrt(2))**2)\n",
      "math.cos_x =  ( 2 / r_magnitude)\n",
      "math.cos_y = ( 2 / r_magnitude)\n",
      "math.cos_z = ( 2.8284 / r_magnitude)\n",
      "print \"   Directional math.comath.sine in X - axis is \",math.cos_x,\" \" \n",
      "print \"   Directional math.comath.sine in Y - axis is \",math.cos_y,\" \"\n",
      "print \"   Directional math.comath.sine in Z - axis is \",math.cos_z,\" \" "
     ],
     "language": "python",
     "metadata": {},
     "outputs": [
      {
       "output_type": "stream",
       "stream": "stdout",
       "text": [
        "   Directional math.comath.sine in X - axis is  0.5  \n",
        "   Directional math.comath.sine in Y - axis is  0.5  \n",
        "   Directional math.comath.sine in Z - axis is  0.7071  \n"
       ]
      }
     ],
     "prompt_number": 65
    },
    {
     "cell_type": "heading",
     "level": 2,
     "metadata": {},
     "source": [
      "EXAMPLE NUMBER 4.2b : (Page Number 176)"
     ]
    },
    {
     "cell_type": "code",
     "collapsed": false,
     "input": [
      "\n",
      "import math\n",
      "   #Given that\n",
      "r_xz = [2,2.8282]\n",
      "r_xz = math.sqrt (2**2 + (2.8282)**2)\n",
      "r_yz = math.sqrt (2**2 + (2.8282)**2)\n",
      "print \"   Projection of vector r in xz plane is \",round(r_xz,4),\"\"\n",
      "print \"   projection of vector r in yz plane is \",round(r_yz,4),\"\"\n"
     ],
     "language": "python",
     "metadata": {},
     "outputs": [
      {
       "output_type": "stream",
       "stream": "stdout",
       "text": [
        "   Projection of vector r in xz plane is  3.4639 \n",
        "   projection of vector r in yz plane is  3.4639 \n"
       ]
      }
     ],
     "prompt_number": 67
    },
    {
     "cell_type": "heading",
     "level": 2,
     "metadata": {},
     "source": [
      "EXAMPLE NUMBER 4.4 : (Page Number 177)"
     ]
    },
    {
     "cell_type": "code",
     "collapsed": false,
     "input": [
      "import math\n",
      "   #Given that\n",
      "v_w_x = 40 * math.cos(45 * pi / 180)    # x component of wind blow in miles/h\n",
      "v_w_y = 40 * math.sin(45 * pi /180)    # y component of wind blow in miles/h\n",
      "r_x = 200    # distance  of destination point in x direction in miles\n",
      "r_y = 0    # distance  of destination point in y direction in miles\n",
      "t = 40    # time taken by aeroplane to reach destination in minutes\n",
      "print \"Standard formula used is V = V1 + V2 + .....+ V_n   \"\n",
      "v_x = (r_x)/t *60    # x - component of velocity  required to reach destination in time in miles/h\n",
      "v_y = r_y /t *60    # x - component of velocity  required to reach destination in time in miles/h \n",
      "v_p_x = v_x - v_w_x    # x component of aeroplane velocity in miles/h\n",
      "v_p_y = v_y - v_w_y    # y component of aeroplane velocity in miles/h\n",
      "print \"Vector of velocity of pilot with respect to moving air is \",round(v_p_x,4),\" +i \",round(v_p_y,4),\"j miles/h   where i and j stands for east and north respectively \""
     ],
     "language": "python",
     "metadata": {},
     "outputs": [
      {
       "output_type": "stream",
       "stream": "stdout",
       "text": [
        "Standard formula used is V = V1 + V2 + .....+ V_n   \n",
        "Vector of velocity of pilot with respect to moving air is  271.7045  +i  -28.273 j miles/h   where i and j stands for east and north respectively \n"
       ]
      }
     ],
     "prompt_number": 82
    },
    {
     "cell_type": "heading",
     "level": 2,
     "metadata": {},
     "source": [
      "EXAMPLE NUMBER 4.5 : (Page Number 178)"
     ]
    },
    {
     "cell_type": "code",
     "collapsed": false,
     "input": [
      "import math\n",
      "   #Given that\n",
      "R_e = 6.4e6    # radius of earth in m\n",
      "T = 8.64e4    # time period of one rotation of earth\n",
      "theta1_pole = 90    # angle between pole and rotational axis \n",
      "theta1_equator = 0    # angle between equator and rotational axis \n",
      "g_pole = 9.8    # gravitational acceleration at pole in m/s**2\n",
      "print \"Standard formula used is g1 = g - R_e*f**2*(math.cos(theta1))**2   \"\n",
      "f = 2 * pi / T    # rotational frequency of earth\n",
      "g_equator = g_pole -  R_e * f**2\n",
      "del_g = g_pole - g_equator\n",
      "print \"Difference in gravitational acceleration at pole and equator is \",round(del_g,4),\" m/s^2 \""
     ],
     "language": "python",
     "metadata": {},
     "outputs": [
      {
       "output_type": "stream",
       "stream": "stdout",
       "text": [
        "Standard formula used is g1 = g - R_e*f**2*(math.cos(theta1))**2   \n",
        "Difference in gravitational acceleration at pole and equator is  0.0338  m/s^2 \n"
       ]
      }
     ],
     "prompt_number": 87
    },
    {
     "cell_type": "heading",
     "level": 2,
     "metadata": {},
     "source": [
      "EXAMPLE NUMBER 4.6 : (Page Number 178)"
     ]
    },
    {
     "cell_type": "code",
     "collapsed": false,
     "input": [
      "import math\n",
      "   #Given that\n",
      "R_e = 6.4e6    # radius of earth in m\n",
      "theta1_pole = 90    # angle between pole and rotational axis \n",
      "theta1_equator = 0    # angle between equator and rotational axis \n",
      "g_pole = 10    # gravitational acceleration at pole in m/s**2\n",
      "g_equator = 0    # gravitational acceleration at equator in m/s**2\n",
      "print \"Standard formula used is g1 = g - R_e*f**2*(math.cos(theta1))**2   \"\n",
      "f = math.sqrt (g_pole / R_e)\n",
      "T = 2 * pi / f / 3.6e3\n",
      "print \"Angular velocity of Earth will be \",f,\" rad/s   Time period would be \",round(T,4),\" hours\""
     ],
     "language": "python",
     "metadata": {},
     "outputs": [
      {
       "output_type": "stream",
       "stream": "stdout",
       "text": [
        " Standard formula used is g1 = g - R_e*f**2*(math.cos(theta1))**2   \n",
        "Angular velocity of Earth will be  0.00125  rad/s   Time period would be  1.3956  hours\n"
       ]
      }
     ],
     "prompt_number": 91
    },
    {
     "cell_type": "heading",
     "level": 2,
     "metadata": {},
     "source": [
      "EXAMPLE NUMBER 4.7 : (Page Number 179)"
     ]
    },
    {
     "cell_type": "code",
     "collapsed": false,
     "input": [
      "import math\n",
      "   #Given that\n",
      "g_pole = 9.8    # gravitational acceleration at pole\n",
      "m = 1    # mass of substance in kg\n",
      "R_e = 6.4e6    # radius of earth in m\n",
      "print \"Standard formula used is   coriolis force = -2*m*f x v   \"\n",
      "g_equator = 0.75 *g_pole    # gravitational acceleration at equator in m/s**2\n",
      "f = math.sqrt ((g_pole - g_equator)/ R_e)\n",
      "print \"Angular velocity of Earth will be \",round(f,4),\" rad/s .  \""
     ],
     "language": "python",
     "metadata": {},
     "outputs": [
      {
       "output_type": "stream",
       "stream": "stdout",
       "text": [
        "Standard formula used is   coriolis force = -2*m*f x v   \n",
        "Angular velocity of Earth will be  0.0006  rad/s .  \n"
       ]
      }
     ],
     "prompt_number": 93
    },
    {
     "cell_type": "heading",
     "level": 2,
     "metadata": {},
     "source": [
      "EXAMPLE NUMBER 4.8 : (Page Number 180)"
     ]
    },
    {
     "cell_type": "code",
     "collapsed": false,
     "input": [
      "import math\n",
      "   #Given that\n",
      "m = 1    # mass of particle in kg\n",
      "theta1 = 30    # latitude position in degree\n",
      "v = 0.5    # velocity of particle in km/s in north direction\n",
      "print \"Standard formula used is coriolis Force = 2*mass*angular velocity X velocity \"\n",
      "f_x = -2*m*2*pi * v*1000*(-1)*math.sin(theta1*pi/180)/86400    # coriolis force in east direction\n",
      "f_z = -2*m*2*pi * v*1000*math.cos(theta1*pi/180)/86400    # coriolis force in verticle direction\n",
      "F = math.sqrt(f_x**2+f_z**2)\n",
      "alpha1 = -(math.atan(f_z/f_x)) *180 /pi\n",
      "print \"Magnitude and direction  of coriolis force on particle are   \",round(F,4),\" N and \",round(alpha1,4),\" degree with east respectively\""
     ],
     "language": "python",
     "metadata": {},
     "outputs": [
      {
       "output_type": "stream",
       "stream": "stdout",
       "text": [
        "Standard formula used is coriolis Force = 2*mass*angular velocity X velocity \n",
        "Magnitude and direction  of coriolis force on particle are    0.0727  N and  60.0456  degree with east respectively\n"
       ]
      }
     ],
     "prompt_number": 98
    }
   ],
   "metadata": {}
  }
 ]
}