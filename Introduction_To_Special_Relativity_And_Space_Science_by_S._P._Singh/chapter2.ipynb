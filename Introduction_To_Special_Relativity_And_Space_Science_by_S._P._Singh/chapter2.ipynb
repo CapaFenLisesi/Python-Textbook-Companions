{
 "metadata": {
  "celltoolbar": "Raw Cell Format",
  "name": "",
  "signature": "sha256:e947beb3ffb405c3d0892bb10c6aab85cb0a3dce379086da0969a259c86de015"
 },
 "nbformat": 3,
 "nbformat_minor": 0,
 "worksheets": [
  {
   "cells": [
    {
     "cell_type": "heading",
     "level": 1,
     "metadata": {},
     "source": [
      "Introduction To Special Relativity And Space Science (By S.P. Singh)"
     ]
    },
    {
     "cell_type": "heading",
     "level": 1,
     "metadata": {},
     "source": [
      "CHAPTER NUMBER 2 : ELECTROMAGNETIC WAVES"
     ]
    },
    {
     "cell_type": "heading",
     "level": 2,
     "metadata": {},
     "source": [
      "EXAMPLE NUMBER 2.3 : (Page Number 80)"
     ]
    },
    {
     "cell_type": "code",
     "collapsed": false,
     "input": [
      "import math\n",
      "# Given That\n",
      "I = 2.4 # intensity of radiation in Watt per meter square\n",
      "epsilon1_0 = 8.85e-12\n",
      "c = 3e8\n",
      "E = sqrt ((2* I)/ (c * epsilon1_0)) # calculation of amplitude of electric field is\n",
      "print \"Amplitude of electric field is \",round(E,4),\" N/C  \""
     ],
     "language": "python",
     "metadata": {},
     "outputs": [
      {
       "output_type": "stream",
       "stream": "stdout",
       "text": [
        "Amplitude of electric field is  42.5195  N/C  \n"
       ]
      }
     ],
     "prompt_number": 20
    },
    {
     "cell_type": "heading",
     "level": 2,
     "metadata": {},
     "source": [
      "EXAMPLE NUMBER 2.4 : (Page Number 80)"
     ]
    },
    {
     "cell_type": "code",
     "collapsed": false,
     "input": [
      "import math\n",
      "# Given That\n",
      "l = 75 # length of laser beam in cm\n",
      "power = 6e-3 # power of beam in mW\n",
      "c = 3e8\n",
      "t = l / ( c * 100) #calculation of time taken to cover distance\n",
      "U =  power/1000 * t#calculation of Energy stored in given length\n",
      "print \"Energy stored in given length is \",U,\" J  \""
     ],
     "language": "python",
     "metadata": {},
     "outputs": [
      {
       "output_type": "stream",
       "stream": "stdout",
       "text": [
        "Energy stored in given length is  1.5e-14  J  \n"
       ]
      }
     ],
     "prompt_number": 22
    },
    {
     "cell_type": "heading",
     "level": 2,
     "metadata": {},
     "source": [
      "EXAMPLE NUMBER 2.6 : (Page Number 81)"
     ]
    },
    {
     "cell_type": "code",
     "collapsed": false,
     "input": [
      "import math\n",
      "# Given That\n",
      "E_0 = 300 # maximum electric field in electromagnetic wave in w/m\n",
      "v = 2e8 # speed of moving electron in m/s along y - axis\n",
      "c = 3e8 # speed of light in m/s\n",
      "q = 1.6e-19 # charge on electron in coulomb\n",
      "B_0  = E_0 / c # calculation of magnitude of maximum magnetic field\n",
      "F_e = q*E_0 # calculation of electromagnetic force on electron in N\n",
      "F_b = q*v*B_0 # calculation of magnetic force on electron in N\n",
      "print \"The maximum electric force on electron is  \",F_e,\" N along y -axis  \"\n",
      "print \"The maximum magnetic force on electron is  \",F_b,\" N along z - axis \""
     ],
     "language": "python",
     "metadata": {},
     "outputs": [
      {
       "output_type": "stream",
       "stream": "stdout",
       "text": [
        "The maximum electric force on electron is   4.8e-17  N along y -axis  \n",
        "The maximum magnetic force on electron is   3.2e-17  N along z - axis \n"
       ]
      }
     ],
     "prompt_number": 26
    },
    {
     "cell_type": "heading",
     "level": 2,
     "metadata": {},
     "source": [
      "EXAMPLE NUMBER 2.7 : (Page Number 82)"
     ]
    },
    {
     "cell_type": "code",
     "collapsed": false,
     "input": [
      "import math\n",
      "# Given That\n",
      "d = 1.5e11 # separation between earth and sun in meter\n",
      "power_sun = 3.8e26# power radiated by sun in W\n",
      "c = 3e8\n",
      "s = power_sun /(4 * pi * (d**2)) #calculation of Energy received per unit surface area per unit time\n",
      "p =  s / c # calculation of Pressure applied by sun radiations on earth\n",
      "print \"Energy received per unit surface area per unit time is \",s,\"\"\n",
      "print \"  Pressure applied by sun radiations on earth is \",p,\" N/m**2  \""
     ],
     "language": "python",
     "metadata": {},
     "outputs": [
      {
       "output_type": "stream",
       "stream": "stdout",
       "text": [
        "Energy received per unit surface area per unit time is  1343.975075 \n",
        "  Pressure applied by sun radiations on earth is  4.47991691666e-06  N/m**2  \n"
       ]
      }
     ],
     "prompt_number": 30
    },
    {
     "cell_type": "heading",
     "level": 2,
     "metadata": {},
     "source": [
      "EXAMPLE NUMBER 2.8 : (Page Number 83)"
     ]
    },
    {
     "cell_type": "code",
     "collapsed": false,
     "input": [
      "import math\n",
      "# Given That\n",
      "E = 100 # magnitude of electric field perpendicular to X axis in N/C\n",
      "r = 10 # radius of circle in cm\n",
      "ds = (r*1e-2)**2 #calculation of area of coil\n",
      "phi1 = E*ds #calculation of Flux through coil\n",
      "print \"Flux through coil is  \",phi1,\" Nm/C  \""
     ],
     "language": "python",
     "metadata": {},
     "outputs": [
      {
       "output_type": "stream",
       "stream": "stdout",
       "text": [
        "Flux through coil is   1.0  Nm/C  \n"
       ]
      }
     ],
     "prompt_number": 31
    },
    {
     "cell_type": "heading",
     "level": 2,
     "metadata": {},
     "source": [
      "EXAMPLE NUMBER 2.9 : (Page Number 84)"
     ]
    },
    {
     "cell_type": "code",
     "collapsed": false,
     "input": [
      "import math\n",
      "# Given That\n",
      "sigma1 = 2e-6 # surface charge density in c/m**2 on XY plane\n",
      "theta1 = 60 # angle between normal and X axis on degree\n",
      "r = 10 # radius of circle in cm\n",
      "epsilon1_0 = 8.85e-12 # permitivity of free space\n",
      "print \"standard formula used   phi1 = sigma1*A*cos(theta1)/(2*epsilon1_0)   \"\n",
      "phi1 = sigma1* pi*(r*1e-2)**2 * cos (theta1*pi/180) / (2*epsilon1_0) #calculation of Flux through coil\n",
      "print \"Flux through coil is  \",round(phi1,4),\" Nm**2/C.  \""
     ],
     "language": "python",
     "metadata": {},
     "outputs": [
      {
       "output_type": "stream",
       "stream": "stdout",
       "text": [
        "standard formula used   phi1 = sigma1*A*cos(theta1)/(2*epsilon1_0)   \n",
        "Flux through coil is   1774.9111  Nm**2/C.  \n"
       ]
      }
     ],
     "prompt_number": 33
    },
    {
     "cell_type": "heading",
     "level": 2,
     "metadata": {},
     "source": [
      "EXAMPLE NUMBER 2.10 : (Page Number 84)"
     ]
    },
    {
     "cell_type": "code",
     "collapsed": false,
     "input": [
      "import math\n",
      "# Given That\n",
      "A = 200 # magnitude of electric field in V/m**2\n",
      "epsilon1_0 = 8.85e-12 # permittivity of free space\n",
      "a = 20 # radius of sphere in cm\n",
      "q = 4*pi * epsilon1_0*A*(a*1e-2)**3  #calculation of Charge contained in sphere\n",
      "print \"Charge contained in sphere is  \",q,\" C.  \""
     ],
     "language": "python",
     "metadata": {},
     "outputs": [
      {
       "output_type": "stream",
       "stream": "stdout",
       "text": [
        "Charge contained in sphere is   1.77939807899e-10  C.  \n"
       ]
      }
     ],
     "prompt_number": 35
    },
    {
     "cell_type": "heading",
     "level": 2,
     "metadata": {},
     "source": [
      "EXAMPLE NUMBER 2.11 : (Page Number 84)"
     ]
    },
    {
     "cell_type": "code",
     "collapsed": false,
     "input": [
      "import math\n",
      "# Given That\n",
      "B = 0.2 #  magnetic field in T\n",
      "del_r = 1 # rate of change of decrement in loop radius in cm/s\n",
      "r =  20 # radius of frame in cm\n",
      "R = 10 # resistance of frame in m ohm\n",
      "e =  2* pi * B *r *1e-2* del_r*1e-2 # magnitude of emf induced in coil\n",
      "i = (e) / (R*1e-3) #calculation of Current induced due to changing magnetic field\n",
      "print \"Current induced due to changing magnetic field is \",round(i,4),\" A  \" "
     ],
     "language": "python",
     "metadata": {},
     "outputs": [
      {
       "output_type": "stream",
       "stream": "stdout",
       "text": [
        "Current induced due to changing magnetic field is  0.2513  A  \n"
       ]
      }
     ],
     "prompt_number": 37
    },
    {
     "cell_type": "heading",
     "level": 2,
     "metadata": {},
     "source": [
      "EXAMPLE NUMBER 2.12 : (Page Number 85)"
     ]
    },
    {
     "cell_type": "code",
     "collapsed": false,
     "input": [
      "import math\n",
      "# Given That\n",
      "phi1 = 0.02 # rate of change of magnetic field in T/s\n",
      "r =  2 # radius of frame in cm\n",
      "R = 2 # resistance of frame in m ohm\n",
      "a = pi * (r*1e-2)**2\n",
      "e =  a * phi1 # magnitude of emf  induced in coil\n",
      "i = (e) / (R*1e-3) \n",
      "print \"Current induced due to changing magnetic field is \",round(i*1000,4),\" mA  \" "
     ],
     "language": "python",
     "metadata": {},
     "outputs": [
      {
       "output_type": "stream",
       "stream": "stdout",
       "text": [
        "Current induced due to changing magnetic field is  12.5664  mA  \n"
       ]
      }
     ],
     "prompt_number": 40
    },
    {
     "cell_type": "heading",
     "level": 2,
     "metadata": {},
     "source": [
      "EXAMPLE NUMBER 2.13 : (Page Number 86)"
     ]
    },
    {
     "cell_type": "code",
     "collapsed": false,
     "input": [
      "import math\n",
      "# Given That\n",
      "r = 7e8 # radius sun in meter\n",
      "power_sun = 3.8e26# power radiated by sun in W\n",
      "s = power_sun /(4 * pi * (r**2)) #calculation of Pressure applied by sun radiations on earth\n",
      "print \"Pressure applied by sun radiations on earth is \",s,\" W/m**2  \""
     ],
     "language": "python",
     "metadata": {},
     "outputs": [
      {
       "output_type": "stream",
       "stream": "stdout",
       "text": [
        "Pressure applied by sun radiations on earth is  61713141.1989  W/m**2  \n"
       ]
      }
     ],
     "prompt_number": 41
    },
    {
     "cell_type": "heading",
     "level": 2,
     "metadata": {},
     "source": [
      "EXAMPLE NUMBER 2.14 : (Page Number 86)"
     ]
    },
    {
     "cell_type": "code",
     "collapsed": false,
     "input": [
      "import math\n",
      "# Given That\n",
      "solar_const = 2 # energy received by earth from sun in Cal/min cm2\n",
      "mu_not = 1.2566e-6 # universal constant\n",
      "epsilon1_not = 8.85e-12 # universal constant\n",
      "ratio = sqrt(mu_not / epsilon1_not) # constant\n",
      "E = sqrt (ratio *4.2 * solar_const / 6e-3) \n",
      "E_not = E * sqrt(2) #calculation of Amplitude of electric  vectors\n",
      "H_not = E_not / ratio#calculation of Amplitude of magnetic vectors\n",
      "print \"Amplitude of electrical and magnetic vectors are given as \",round(E_not,4),\" V/m and \",round(H_not,4),\" A/m\""
     ],
     "language": "python",
     "metadata": {},
     "outputs": [
      {
       "output_type": "stream",
       "stream": "stdout",
       "text": [
        "Amplitude of electrical and magnetic vectors are given as  1027.1703  V/m and  2.7259  A/m\n"
       ]
      }
     ],
     "prompt_number": 43
    },
    {
     "cell_type": "heading",
     "level": 2,
     "metadata": {},
     "source": [
      "EXAMPLE NUMBER 2.15 : (Page Number 87)"
     ]
    },
    {
     "cell_type": "code",
     "collapsed": false,
     "input": [
      "import math\n",
      "# Given That\n",
      "r = 1 # distance from lamp in meter\n",
      "power = 100# power radiated by lamp in W\n",
      "mu_not = 1.2566e-6 # universal constant\n",
      "epsilon1_not = 8.85e-12 # universal constant\n",
      "s = power /(4 * pi * (r**2)) #calculation of intensity at a distance\n",
      "ratio = sqrt(mu_not / epsilon1_not) #calculation of a constant\n",
      "E = sqrt (ratio * s) #calculation of Average value of intensity of electric field\n",
      "print \"Average value of intensity of electric field is \",round(E,4),\" V/m  \""
     ],
     "language": "python",
     "metadata": {},
     "outputs": [
      {
       "output_type": "stream",
       "stream": "stdout",
       "text": [
        "Average value of intensity of electric field is  54.7594  V/m  \n"
       ]
      }
     ],
     "prompt_number": 45
    }
   ],
   "metadata": {}
  }
 ]
}