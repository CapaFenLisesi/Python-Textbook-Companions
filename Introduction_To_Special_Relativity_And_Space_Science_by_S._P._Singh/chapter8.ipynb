{
 "metadata": {
  "celltoolbar": "Raw Cell Format",
  "name": "",
  "signature": "sha256:a1667c7d867f455afa57bbe2aeebf3ad5a048e4d2a2c649146fd254fe4b81f4b"
 },
 "nbformat": 3,
 "nbformat_minor": 0,
 "worksheets": [
  {
   "cells": [
    {
     "cell_type": "heading",
     "level": 1,
     "metadata": {},
     "source": [
      "Introduction To Special Relativity And Space Science (By S.P. Singh)"
     ]
    },
    {
     "cell_type": "heading",
     "level": 1,
     "metadata": {},
     "source": [
      "CHAPTER NUMBER 8 : OUR SOLAR SYSTEM"
     ]
    },
    {
     "cell_type": "heading",
     "level": 2,
     "metadata": {},
     "source": [
      "EXAMPLE NUMBER 8.4a : (Page Number 300)"
     ]
    },
    {
     "cell_type": "code",
     "collapsed": false,
     "input": [
      "\n",
      "import math\n",
      "   #Given that\n",
      "t1 = 1    # time period of satellite s1 in hours\n",
      "t2 = 8    # time period of satellite s2 in hour\n",
      "r1 = 1.2e4    # radius of orbit of satellite s1 in km\n",
      "print \"Standard formula r2/r1 = (t2/t1)**(2/3)\"\n",
      "r2 = r1 * (t2/t1)**(2/3)    # calculation of radius of orbit of satellite s2 in km\n",
      "v1 = 2 * pi * r1 / t1     # calculation of speed of satellite s1 in km/h\n",
      "v2 = 2 * pi * r2 / t2     # calculation of speed of satellite s2 in km/h\n",
      "del_v = v2 - v1    # calculation of relative speed of satellites in km/h\n",
      "\n",
      "print \"   Relative speed of satellite s2 wrt satellite s1 is \",del_v,\" km/h.\""
     ],
     "language": "python",
     "metadata": {},
     "outputs": [
      {
       "output_type": "stream",
       "stream": "stdout",
       "text": [
        "Standard formula r2/r1 = (t2/t1)**(2/3)\n",
        "   Relative speed of satellite s2 wrt satellite s1 is  -65940.0  km/h.\n"
       ]
      }
     ],
     "prompt_number": 146
    },
    {
     "cell_type": "heading",
     "level": 2,
     "metadata": {},
     "source": [
      "EXAMPLE NUMBER 8.5 : (Page Number 300)"
     ]
    },
    {
     "cell_type": "code",
     "collapsed": false,
     "input": [
      "import math\n",
      "   #Given that\n",
      "h = 2620    # distance of satellite from surface of Earth in km\n",
      "R_e = 6400    # radius of Earth in km\n",
      "M_e = 6e24    # mass of Earth in kg\n",
      "G = 6.67e-11    # universal gravitational constant \n",
      "print \"Standard formula used  \\t v_o = math.sqrt(G*M_e/r)   \"\n",
      "print \"  \\t T = 2 * pi * r / v_o   \"\n",
      "r = R_e + h\n",
      "v_o = math.sqrt(G * M_e / (r * 1e3))\n",
      "T = 2 * pi * r*1000 / (v_o*3600)\n",
      "print \"  Orbital velocity of satellite is \",round(v_o / 1000,4),\" km/s   period of revolution is \",round(T,4),\" h.\""
     ],
     "language": "python",
     "metadata": {},
     "outputs": [
      {
       "output_type": "stream",
       "stream": "stdout",
       "text": [
        "Standard formula used  \t v_o = math.sqrt(G*M_e/r)   \n",
        "  \t T = 2 * pi * r / v_o   \n",
        "  Orbital velocity of satellite is  6.6609  km/s   period of revolution is  2.3623  h.\n"
       ]
      }
     ],
     "prompt_number": 152
    },
    {
     "cell_type": "heading",
     "level": 2,
     "metadata": {},
     "source": [
      "EXAMPLE NUMBER 8.6 : (Page Number 301)"
     ]
    },
    {
     "cell_type": "code",
     "collapsed": false,
     "input": [
      "import math\n",
      "   #Given that\n",
      "h = 3e5    # distance of satellite from surface of Earth in m\n",
      "R_e = 6.38e6    # radius of Earth in km\n",
      "M_e = 6e24    # mass of Earth in kg\n",
      "g = 9.8    # gravitational acceleration in m/s2 \n",
      "print \"Standard formula used v_o = math.sqrt(G*M_e/r)   \"\n",
      "print \"Standard formula used T = 2 * pi * r / v_o   \"\n",
      "r = R_e + h   # calculation of effective distance between Earth and satellite\n",
      "\n",
      "G = g * R_e**2 / M_e   # calculation of gravitational constant \n",
      "v_o = math.sqrt(G * M_e / r) / 1000   # calculation of orbital velocity of satellite\n",
      "T = 2 * pi * r / (v_o * 1000) / 3.6e3    # calculation of period of revolution of satellite\n",
      "\n",
      "print \"  Orbital velocity of satellite is \",round(v_o,4),\" km/s    period of revolution is \",round(T,4),\" h.\""
     ],
     "language": "python",
     "metadata": {},
     "outputs": [
      {
       "output_type": "stream",
       "stream": "stdout",
       "text": [
        "Standard formula used v_o = math.sqrt(G*M_e/r)   \n",
        "Standard formula used T = 2 * pi * r / v_o   \n",
        "  Orbital velocity of satellite is  7.7276  km/s    period of revolution is  1.508  h.\n"
       ]
      }
     ],
     "prompt_number": 154
    },
    {
     "cell_type": "heading",
     "level": 2,
     "metadata": {},
     "source": [
      "EXAMPLE NUMBER 8.7 : (Page Number 301)"
     ]
    },
    {
     "cell_type": "code",
     "collapsed": false,
     "input": [
      "\n",
      "import math\n",
      "   #Given that\n",
      "t = 27.3    # period of lunar orbit around Earth in days\n",
      "r = 3.9e5    # distance of satellite from  Earth in km\n",
      "G = 6.67e-11    # universal gravitational constant \n",
      "print \"Standard formula used   T = 2 * pi * math.sqrt ((r**3)/G*M_e)   \"\n",
      "T = t * 24 * 60 * 60   # calculation of time in seconds\n",
      "M_e = 4 * pi**2 * (r * 1000)**3 / (G * T**2)    # calculation of mass of Earth\n",
      "print \"  Estimated mass of Earth is \",M_e,\" kg.\""
     ],
     "language": "python",
     "metadata": {},
     "outputs": [
      {
       "output_type": "stream",
       "stream": "stdout",
       "text": [
        "Standard formula used   T = 2 * pi * math.sqrt ((r**3)/G*M_e)   \n",
        "  Estimated mass of Earth is  6.30426551023e+24  kg.\n"
       ]
      }
     ],
     "prompt_number": 156
    },
    {
     "cell_type": "heading",
     "level": 2,
     "metadata": {},
     "source": [
      "EXAMPLE NUMBER 8.8 : (Page Number 302)"
     ]
    },
    {
     "cell_type": "code",
     "collapsed": false,
     "input": [
      "import math\n",
      "   #Given that\n",
      "t = 1    # period of  Earth's revolution around Sun in years\n",
      "r = 1.5e8    # distance between Sun and Earth in km\n",
      "G = 6.67e-11    # Universal gravitational constant\n",
      "print \"Standard formula used T = 2 * pi * math.sqrt ((r**3)/G*M_e)   \"\n",
      "T = t * 24 * 60 * 60 *356   # calculation of time period in seconds\n",
      "M_s = 4 * pi**2 * (r * 1000)**3 / (G * T**2)    # calculation of mass of Sun\n",
      "print \"  Estimated mass of Sun is \",M_s,\" kg.\""
     ],
     "language": "python",
     "metadata": {},
     "outputs": [
      {
       "output_type": "stream",
       "stream": "stdout",
       "text": [
        "Standard formula used T = 2 * pi * math.sqrt ((r**3)/G*M_e)   \n",
        "  Estimated mass of Sun is  2.10930678583e+30  kg.\n"
       ]
      }
     ],
     "prompt_number": 157
    },
    {
     "cell_type": "heading",
     "level": 2,
     "metadata": {},
     "source": [
      "EXAMPLE NUMBER 8.9 : (Page Number 302)"
     ]
    },
    {
     "cell_type": "code",
     "collapsed": false,
     "input": [
      "import math\n",
      "   #Given that\n",
      "R_e = 6.4e6    # radius of Earth in km\n",
      "M_e = 6e24    # mass of Earth in kg\n",
      "G = 6.67e-11    # universal gravitational constant\n",
      "u = 6e3    # initial speed of rocket in m/s\n",
      "print \"Standard formula used U_f - U_i = 1/2 * m *(u**2 - v**2)  \"\n",
      "h = ((R_e * 1e3)**2 * u**2) / (2 * G * M_e - R_e * u**2) / 1000       # calculation of Height reached by rocket before returning to Earth\n",
      "\n",
      "print \"  Height reached by rocket before returning is \",h,\" km.\""
     ],
     "language": "python",
     "metadata": {},
     "outputs": [
      {
       "output_type": "stream",
       "stream": "stdout",
       "text": [
        "Standard formula used U_f - U_i = 1/2 * m *(u**2 - v**2)  \n",
        "  Height reached by rocket before returning is  2586947368.42  km.\n"
       ]
      }
     ],
     "prompt_number": 158
    },
    {
     "cell_type": "heading",
     "level": 2,
     "metadata": {},
     "source": [
      "EXAMPLE NUMBER 8.10 : (Page Number 303)"
     ]
    },
    {
     "cell_type": "code",
     "collapsed": false,
     "input": [
      "import math\n",
      "   #Given that\n",
      "R_e = 6.4e6    # radius of Earth in km\n",
      "M_e = 6e24    # mass of Earth in kg\n",
      "G = 6.67e-11    # universal gravitational constant\n",
      "print \"Standard formula used U_f - U_i = 1/2 * m *(u**2 - v**2)  \"\n",
      "h = 10 * R_e\n",
      "v = math.sqrt (2 *h * G * M_e / (R_e * h))     # calculation of velocity required by mass to reach given height\n",
      "print \"  Velocity required by mass is \",round(v,4),\" m/s.\"\n"
     ],
     "language": "python",
     "metadata": {},
     "outputs": [
      {
       "output_type": "stream",
       "stream": "stdout",
       "text": [
        "Standard formula used U_f - U_i = 1/2 * m *(u**2 - v**2)  \n",
        "  Velocity required by mass is  11183.1346  m/s.\n"
       ]
      }
     ],
     "prompt_number": 160
    },
    {
     "cell_type": "heading",
     "level": 2,
     "metadata": {},
     "source": [
      "EXAMPLE NUMBER 8.11 : (Page Number 304)"
     ]
    },
    {
     "cell_type": "code",
     "collapsed": false,
     "input": [
      "import math\n",
      "   #Given that\n",
      "r1 = 1e12    # distance of first planet from Sun in m\n",
      "r2 = 1e13    #distance of first planet from Sun in m \n",
      "print \"Standard formula used T**2 = k* r**3\"\n",
      "print \"  Standers formula used v = 2 * pi * r / T\"\n",
      "r_ratio = r1 / r2    # r_ratio is ratio of distances from Sun\n",
      "T_ratio = r_ratio**(3/2)    #calculation of Ratio of time period\n",
      "v_ratio = r_ratio / T_ratio    # calculation of ratio of speed\n",
      "\n",
      "print \"   Ratio of time period is \",T_ratio,\" and ratio of speed is \",v_ratio,\" .\""
     ],
     "language": "python",
     "metadata": {},
     "outputs": [
      {
       "output_type": "stream",
       "stream": "stdout",
       "text": [
        "Standard formula used T**2 = k* r**3\n",
        "  Standers formula used v = 2 * pi * r / T\n",
        "   Ratio of time period is  0.1  and ratio of speed is  1.0  .\n"
       ]
      }
     ],
     "prompt_number": 161
    },
    {
     "cell_type": "heading",
     "level": 2,
     "metadata": {},
     "source": [
      "EXAMPLE NUMBER 8.12 : (Page Number 305)"
     ]
    },
    {
     "cell_type": "code",
     "collapsed": false,
     "input": [
      "\n",
      "import math\n",
      "   #Given that\n",
      "r1 = 1.5e8    # distance of Earth from Sun in km\n",
      "t1 = 1    # let \n",
      "print \"  Standard formula used T**2 = k* r**3\"\n",
      "t2 = 29.5 * t1   # calculation of time period of Saturn\n",
      "r2 = r1 * (t2 / t1) ** (2/3)    #calculation of distance of stern from Sun\n",
      "\n",
      "print \"   Distance of Saturn from Sun is \",r2,\" km .\""
     ],
     "language": "python",
     "metadata": {},
     "outputs": [
      {
       "output_type": "stream",
       "stream": "stdout",
       "text": [
        "  Standard formula used T**2 = k* r**3\n",
        "   Distance of Saturn from Sun is  150000000.0  km .\n"
       ]
      }
     ],
     "prompt_number": 162
    },
    {
     "cell_type": "heading",
     "level": 2,
     "metadata": {},
     "source": [
      "EXAMPLE NUMBER 8.13 : (Page Number 305)"
     ]
    },
    {
     "cell_type": "code",
     "collapsed": false,
     "input": [
      "import math\n",
      "   #Given that\n",
      "r_peri = 360    # distance of perigee of satellite from Earth surface in km\n",
      "r_apo = 2500    # distance of apogee of satellite from Earth surface in km\n",
      "R_e = 6400    # radius of Earth in km\n",
      "v_p = 30000    # speed of satellite at apogee position in km/h\n",
      "print \"  Standard formula used v * r = k \"\n",
      "r_p = r_peri + R_e    # calculation of distance of perigee\n",
      "r_a = r_apo + R_e   # calculation of distance of apogee\n",
      "v_a = v_p * r_p / r_a    # calculation of speed at apogee\n",
      "print \"   Speed at perigee is \",v_p,\" km/h and at apogee is \",v_a,\" km/h .\""
     ],
     "language": "python",
     "metadata": {},
     "outputs": [
      {
       "output_type": "stream",
       "stream": "stdout",
       "text": [
        "  Standard formula used v * r = k \n",
        "   Speed at perigee is  30000  km/h and at apogee is  22786  km/h .\n"
       ]
      }
     ],
     "prompt_number": 165
    },
    {
     "cell_type": "heading",
     "level": 2,
     "metadata": {},
     "source": [
      "EXAMPLE NUMBER 8.14 : (Page Number 306)"
     ]
    },
    {
     "cell_type": "code",
     "collapsed": false,
     "input": [
      "import math\n",
      "   #Given that\n",
      "h = 600    # distance of satellite from surface of Earth in km\n",
      "R_e = 6400    # radius of Earth in km\n",
      "m_s = 100     # mass of satellite in kg\n",
      "g = 10    # gravitational acceleration in m/s2 \n",
      "v_y = 2500    # upward velocity of launched satellite\n",
      "print \"  Standard formula used 1/2 *(m_s * v **2 / r) = g * R_E**2 * m /R_e**2 \"\n",
      "r = R_e + h   # calculation of effective height of satellite\n",
      "\n",
      "v = math.sqrt (g * (R_e * 1e3)**2 / (r * 1e3))    # calculation of orbital velocity of satellite\n",
      "\n",
      "P_x = m_s * v   # calculation of momentum in x direction\n",
      "P_y = m_s * v_y   # calculation of momentum in y direction\n",
      "U = math.sqrt(P_x**2 + P_y**2 )    # calculation of magnitude of impulse required\n",
      "\n",
      "theta1 = (180 / pi) * math.atan (P_y / P_x )    # calculation of direction of impulse required\n",
      "print \"  Magnitude and direction of impulse required are respectively \",round(U,4),\"kgm/s and \",round(theta1,4),\" degree.\""
     ],
     "language": "python",
     "metadata": {},
     "outputs": [
      {
       "output_type": "stream",
       "stream": "stdout",
       "text": [
        "  Standard formula used 1/2 *(m_s * v **2 / r) = g * R_E**2 * m /R_e**2 \n",
        "  Magnitude and direction of impulse required are respectively  804762.6092 kgm/s and  18.1076  degree.\n"
       ]
      }
     ],
     "prompt_number": 168
    },
    {
     "cell_type": "heading",
     "level": 2,
     "metadata": {},
     "source": [
      "EXAMPLE NUMBER 8.15a : (Page Number 306)"
     ]
    },
    {
     "cell_type": "code",
     "collapsed": false,
     "input": [
      "import math\n",
      "\n",
      "   #Given that\n",
      "b_e = 13.6    # Binding energy of electron to proton in eV\n",
      "c= 3e8    # speed of light in m/s\n",
      "print \"  Standard formula used E = m*c**2\"\n",
      "del_m = b_e * (1.6e-19) / c**2 * 1000 \n",
      "print \"  Loss in mass during formation of 1 atom of hydrogen is \",del_m,\" g.\""
     ],
     "language": "python",
     "metadata": {},
     "outputs": [
      {
       "output_type": "stream",
       "stream": "stdout",
       "text": [
        "  Standard formula used E = m*c**2\n",
        "  Loss in mass during formation of 1 atom of hydrogen is  2.41777777778e-32  g.\n"
       ]
      }
     ],
     "prompt_number": 169
    },
    {
     "cell_type": "heading",
     "level": 2,
     "metadata": {},
     "source": [
      "EXAMPLE NUMBER 8.15b : (Page Number 306)"
     ]
    },
    {
     "cell_type": "code",
     "collapsed": false,
     "input": [
      "import math\n",
      "   #Given that\n",
      "M_p = 1.6725e-24    # mass of proton in g\n",
      "M_n = 1.6748e-24    # mass of neutron in g\n",
      "M_d = 3.3433e-24    # mass of deuteron in g\n",
      "c= 3e8    # speed of light in m/s\n",
      "print \"  Standard formula used E = m*c**2\"\n",
      "del_m = M_p + M_n - M_d    # calculation of Loss in mass during formation of 1 atom of hydrogen\n",
      "\n",
      "b_e = (del_m / 1000) * c**2 / (1.6e-19 * 1e6)    # calculation of Binding energy of deuteron\n",
      "\n",
      "print \"  Binding energy of deuteron is \",b_e,\" MeV.\""
     ],
     "language": "python",
     "metadata": {},
     "outputs": [
      {
       "output_type": "stream",
       "stream": "stdout",
       "text": [
        "  Standard formula used E = m*c**2\n",
        "  Binding energy of deuteron is  2.25  MeV.\n"
       ]
      }
     ],
     "prompt_number": 170
    }
   ],
   "metadata": {}
  }
 ]
}