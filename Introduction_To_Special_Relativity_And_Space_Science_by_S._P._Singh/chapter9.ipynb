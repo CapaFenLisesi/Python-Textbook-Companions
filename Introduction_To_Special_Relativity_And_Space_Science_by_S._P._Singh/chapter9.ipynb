{
 "metadata": {
  "celltoolbar": "Raw Cell Format",
  "name": "",
  "signature": "sha256:09741842b6ad6d0042da48a2477bfaa206b5fce73cac693b520a26d64f27686a"
 },
 "nbformat": 3,
 "nbformat_minor": 0,
 "worksheets": [
  {
   "cells": [
    {
     "cell_type": "heading",
     "level": 1,
     "metadata": {},
     "source": [
      "Introduction To Special Relativity And Space Science (By S.P. Singh)"
     ]
    },
    {
     "cell_type": "heading",
     "level": 1,
     "metadata": {},
     "source": [
      "CHAPTER NUMBER 9 : STARS AND THEIR CLASSIFICATION"
     ]
    },
    {
     "cell_type": "heading",
     "level": 2,
     "metadata": {},
     "source": [
      "EXAMPLE NUMBER 9.1 : (Page Number 332)"
     ]
    },
    {
     "cell_type": "code",
     "collapsed": false,
     "input": [
      "import math\n",
      "   #Given that\n",
      "m_i = 15    # initial magnitude of supernova\n",
      "m_f = 2    # final magnitude of supernova\n",
      "print \"Standard formula used  \\t M = m - 2.5log(L/L_0) \"\n",
      "del_m = m_i - m_f    # calculation of change in magnitude\n",
      "brightness_ratio = 100**(del_m/5)     # calculation of increment in brightness ratio.\n",
      "print \"  In two days novas brightness is increased by \",math.ceil(brightness_ratio / 10000)*10000,\" times nearly\""
     ],
     "language": "python",
     "metadata": {},
     "outputs": [
      {
       "output_type": "stream",
       "stream": "stdout",
       "text": [
        " Standard formula used  \t M = m - 2.5log(L/L_0) \n",
        "  In two days novas brightness is increased by  10000.0  times nearly\n"
       ]
      }
     ],
     "prompt_number": 172
    },
    {
     "cell_type": "heading",
     "level": 2,
     "metadata": {},
     "source": [
      "EXAMPLE NUMBER 9.2a : (Page Number 333)"
     ]
    },
    {
     "cell_type": "code",
     "collapsed": false,
     "input": [
      "import math\n",
      "   #Given that\n",
      "b_ratio = 2    # ratio of light output in a period \n",
      "print \"Standard formula used  \\t M = m - 2.5log(L/L_0) \"\n",
      "del_m = 2.5 * math.log10(b_ratio)    # calulation of change in magnitude\n",
      "print \"  Change in magnitude is \",round(del_m,4) ,\" times\""
     ],
     "language": "python",
     "metadata": {},
     "outputs": [
      {
       "output_type": "stream",
       "stream": "stdout",
       "text": [
        "Standard formula used  \t M = m - 2.5log(L/L_0) \n",
        "  Change in magnitude is  0.7526  times\n"
       ]
      }
     ],
     "prompt_number": 175
    },
    {
     "cell_type": "heading",
     "level": 2,
     "metadata": {},
     "source": [
      "EXAMPLE NUMBER 9.2b : (Page Number 333)"
     ]
    },
    {
     "cell_type": "code",
     "collapsed": false,
     "input": [
      "import math\n",
      "   # given that\n",
      "m_capella = 0.05    # magnitude of brightness of capella at 14 parsecs\n",
      "m_sun = 4.8    # absolute magnitude of brightness of sun\n",
      "d = 14    # distance of capella in parsecs\n",
      "D = 10    # distance of capella considerd for observation\n",
      "print \"Standard formula used  \\t M = m - 2.5log(L/L_0) \"\n",
      "M_capella = m_capella - 5*math.log10(d/D)    # calculation of absolute magnitude of brightness at distance of 10 parsecs\n",
      "del_m = m_sun - M_capella    # difference between absolute magnitude of sun and capella\n",
      "ratio = 10**(del_m/2.5) \n",
      "print \"  Capella is  \",round(ratio,4),\" times brighter than sun.\"\n"
     ],
     "language": "python",
     "metadata": {},
     "outputs": [
      {
       "output_type": "stream",
       "stream": "stdout",
       "text": [
        "Standard formula used  \t M = m - 2.5log(L/L_0) \n",
        "  Capella is   79.4328  times brighter than sun.\n"
       ]
      }
     ],
     "prompt_number": 178
    },
    {
     "cell_type": "code",
     "collapsed": false,
     "input": [],
     "language": "python",
     "metadata": {},
     "outputs": []
    }
   ],
   "metadata": {}
  }
 ]
}