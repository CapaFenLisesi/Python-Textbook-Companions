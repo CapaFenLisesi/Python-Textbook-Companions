{
 "cells": [
  {
   "cell_type": "markdown",
   "metadata": {},
   "source": [
    "# Chapter 8 - Linear Programming and Game Theory"
   ]
  },
  {
   "cell_type": "markdown",
   "metadata": {},
   "source": [
    "## Ex:8.2.2 Pg: 238"
   ]
  },
  {
   "cell_type": "code",
   "execution_count": 2,
   "metadata": {
    "collapsed": false
   },
   "outputs": [
    {
     "name": "stdout",
     "output_type": "stream",
     "text": [
      "New corner: [ 0.          0.          0.          0.33333333  3.        ]\n",
      "Minimum cost: -9.33333333333\n"
     ]
    }
   ],
   "source": [
    "from scipy.optimize import linprog\n",
    "from numpy import array, transpose\n",
    "A=array([[1, 0 ,1 ,6, 2],[0, 1, 1, 0, 3]])\n",
    "b=transpose(array([8, 9]))\n",
    "c=transpose(array([0, 0, 7 ,-1, -3]))\n",
    "lb=transpose(array([0, 0 ,0 ,0 ,0]))\n",
    "ub=[]\n",
    "ans=linprog(c,A,b)\n",
    "x=ans.x\n",
    "f=ans.fun\n",
    "print 'New corner:',x\n",
    "print 'Minimum cost:',f"
   ]
  }
 ],
 "metadata": {
  "kernelspec": {
   "display_name": "Python 2",
   "language": "python",
   "name": "python2"
  },
  "language_info": {
   "codemirror_mode": {
    "name": "ipython",
    "version": 2
   },
   "file_extension": ".py",
   "mimetype": "text/x-python",
   "name": "python",
   "nbconvert_exporter": "python",
   "pygments_lexer": "ipython2",
   "version": "2.7.9"
  }
 },
 "nbformat": 4,
 "nbformat_minor": 0
}
