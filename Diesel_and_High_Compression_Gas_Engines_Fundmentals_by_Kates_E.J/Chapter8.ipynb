{
 "metadata": {
  "name": "",
  "signature": "sha256:737c25ab146839416edc37d8814a5fc3a04ddf79b32a9b1013fd164c94bed389"
 },
 "nbformat": 3,
 "nbformat_minor": 0,
 "worksheets": [
  {
   "cells": [
    {
     "cell_type": "heading",
     "level": 1,
     "metadata": {},
     "source": [
      "Chapter8-Engine Rating and Performance"
     ]
    },
    {
     "cell_type": "heading",
     "level": 2,
     "metadata": {},
     "source": [
      "Ex1-pg125"
     ]
    },
    {
     "cell_type": "code",
     "collapsed": false,
     "input": [
      "#given\n",
      "#find brake mean effective pressure\n",
      "bhp=150.\n",
      "D=8.\n",
      "L=10**0.5\n",
      "M=5.\n",
      "N=600.\n",
      "#substutting bmep\n",
      "Bmep=1008000*(150./(8.*8.*5.*600.*10**0.5))\n",
      "print\"%s %.2f %s\"%(\"brake mean effective power\",Bmep/3.32,\"psi\")\n"
     ],
     "language": "python",
     "metadata": {},
     "outputs": [
      {
       "output_type": "stream",
       "stream": "stdout",
       "text": [
        "brake mean effective power 75.01 psi\n"
       ]
      }
     ],
     "prompt_number": 1
    },
    {
     "cell_type": "heading",
     "level": 2,
     "metadata": {},
     "source": [
      "Ex2-pg130"
     ]
    },
    {
     "cell_type": "code",
     "collapsed": false,
     "input": [
      "#given\n",
      "import math\n",
      "#find the piston speed of enigne running\n",
      "N=1200.\n",
      "x=5**(0.5)\n",
      "y=4**(0.5)\n",
      "#setting equations\n",
      "Ps=(N*x)/(6.)\n",
      "print\"%s %.2f %s\"%(\"piston speed\",Ps*2.46,\"ft\")\n",
      "#2.46 is converting into units\n",
      "\n"
     ],
     "language": "python",
     "metadata": {},
     "outputs": [
      {
       "output_type": "stream",
       "stream": "stdout",
       "text": [
        "piston speed 1100.15 ft\n"
       ]
      }
     ],
     "prompt_number": 2
    },
    {
     "cell_type": "heading",
     "level": 2,
     "metadata": {},
     "source": [
      "Ex3-pg136"
     ]
    },
    {
     "cell_type": "code",
     "collapsed": false,
     "input": [
      "#given\n",
      "#test of diesel engine correct the fuel consumption\n",
      "import math\n",
      "x=18900.\n",
      "y=19350.\n",
      "#for given fuel consumption of 0.46 lb \n",
      "#finding the 19350 fuel consumption is\n",
      "Cf=(x/y)*0.46\n",
      "print\"%s %.2f %s\"%(\"correct fuel consumption\",Cf,\"lb per hour\")\n"
     ],
     "language": "python",
     "metadata": {},
     "outputs": [
      {
       "output_type": "stream",
       "stream": "stdout",
       "text": [
        "correct fuel consumption 0.45 lb per hour\n"
       ]
      }
     ],
     "prompt_number": 3
    },
    {
     "cell_type": "heading",
     "level": 2,
     "metadata": {},
     "source": [
      "Ex4-pg137"
     ]
    },
    {
     "cell_type": "code",
     "collapsed": false,
     "input": [
      "#given\n",
      "#find total heat consumption of low heat value basis \n",
      "import math\n",
      "#heat consumption of gaseous fuel ,low heat value\n",
      "x=6.8\n",
      "y=950.\n",
      "H=x*y\n",
      "#heat consumption of pilot value\n",
      "e=0.021\n",
      "f=19350.\n",
      "E=e*f\n",
      "T=H+E\n",
      "print\"%s %.2f %s\"%(\"total heat consumption value\",T,\"per bhp\")\n"
     ],
     "language": "python",
     "metadata": {},
     "outputs": [
      {
       "output_type": "stream",
       "stream": "stdout",
       "text": [
        "total heat consumption value 6866.35 per bhp\n"
       ]
      }
     ],
     "prompt_number": 4
    }
   ],
   "metadata": {}
  }
 ]
}