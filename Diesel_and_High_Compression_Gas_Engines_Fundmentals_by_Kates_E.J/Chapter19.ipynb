{
 "metadata": {
  "name": "",
  "signature": "sha256:0a0dd37bdc7db5c1b4ca75c4955576312772179eda17923e843e67249eea1b0b"
 },
 "nbformat": 3,
 "nbformat_minor": 0,
 "worksheets": [
  {
   "cells": [
    {
     "cell_type": "heading",
     "level": 1,
     "metadata": {},
     "source": [
      "Chapter19-Auxiliary Systems"
     ]
    },
    {
     "cell_type": "heading",
     "level": 2,
     "metadata": {},
     "source": [
      "Ex1-pg379"
     ]
    },
    {
     "cell_type": "code",
     "collapsed": false,
     "input": [
      "#given\n",
      "#page no 379\n",
      "#find the amount heat absourbed by the cooling system\n",
      "import math\n",
      "hp=300.\n",
      "F=0.38\n",
      "f=19200.\n",
      "hi=0.30\n",
      "Hi=hp*F*f\n",
      "C=hi*Hi\n",
      "Cs=C/hp\n",
      "print\"%s %.2f %s\"%(\"heat lost to cooling system\",Cs,\"per bhp-hr\")\n"
     ],
     "language": "python",
     "metadata": {},
     "outputs": [
      {
       "output_type": "stream",
       "stream": "stdout",
       "text": [
        "heat lost to cooling system 2188.80 per bhp-hr\n"
       ]
      }
     ],
     "prompt_number": 1
    },
    {
     "cell_type": "heading",
     "level": 2,
     "metadata": {},
     "source": [
      "Ex2-pg379"
     ]
    },
    {
     "cell_type": "code",
     "collapsed": false,
     "input": [
      "#given\n",
      "#page no 379\n",
      "import math\n",
      "#find the gallons of water it is neccasry to pump\n",
      "x=160.\n",
      "h=2600.\n",
      "t=60.\n",
      "#part (a)\n",
      "#water temperaute rise in 15 deg\n",
      "Cs=x*h\n",
      "print \"part a\"\n",
      "Hcs=Cs/t\n",
      "#absorbs per minutes is 15\n",
      "Aw=Hcs/15.\n",
      "#gals of water per min 8.33\n",
      "G=Aw/8.33\n",
      "print\"%s %.2f %s\"%(\"amount of water\",Aw,\"gpm\")\n",
      "print\"%s %.2f %s\"%(\"amount of water\",G,\"gpm\")\n",
      "print\"partb\"\n",
      "#pound of water required to absorb is 45 deg\n",
      "Aw1=Hcs/45.\n",
      "#gallon per water required per min 8.33\n",
      "G1=Aw1/8.33\n",
      "print\"%s %.2f %s\"%(\"amount of water required of 45 deg\",Aw1,\"gpm\")\n",
      "print\"%s %.2f %s\"%(\"gallon of water required of 45 deg\",G1,\"gpm\")\n",
      "\n",
      "\n"
     ],
     "language": "python",
     "metadata": {},
     "outputs": [
      {
       "output_type": "stream",
       "stream": "stdout",
       "text": [
        "part a\n",
        "amount of water 462.22 gpm\n",
        "amount of water 55.49 gpm\n",
        "partb\n",
        "amount of water required of 45 deg 154.07 gpm\n",
        "gallon of water required of 45 deg 18.50 gpm\n"
       ]
      }
     ],
     "prompt_number": 2
    },
    {
     "cell_type": "heading",
     "level": 2,
     "metadata": {},
     "source": [
      "Ex3-pg389"
     ]
    },
    {
     "cell_type": "code",
     "collapsed": false,
     "input": [
      "#given\n",
      "import math\n",
      "#page no 389\n",
      "#find how many gallons will a 64-inches \n",
      "#two thirds of 6 is 4 \n",
      "l=120+4+4\n",
      "#from table \n",
      "#capacity of full tank\n",
      "Cf=13.93*l\n",
      "print\"%s %.2f %s\"%(\"capacity of full tank\",Cf,\"gal\")\n",
      "\n"
     ],
     "language": "python",
     "metadata": {},
     "outputs": [
      {
       "output_type": "stream",
       "stream": "stdout",
       "text": [
        "capacity of full tank 1783.04 gal\n"
       ]
      }
     ],
     "prompt_number": 3
    },
    {
     "cell_type": "heading",
     "level": 2,
     "metadata": {},
     "source": [
      "Ex4-pg389"
     ]
    },
    {
     "cell_type": "code",
     "collapsed": false,
     "input": [
      "#given\n",
      "#how many gallon does the same tank hold of 25 inches\n",
      "x=25.\n",
      "y=64\n",
      "z=x/y\n",
      "print\"%s %.2f %s\"%(\"gallons does hold\",z,\"\")\n",
      "#volume fraction\n",
      "#1783 is last problem got result we are using it same one\n",
      "Z=0.3611\n",
      "Ct=Z*1783.\n",
      "print\"%s %.2f %s\"%(\"content of tank\",Ct,\"gal\")\n"
     ],
     "language": "python",
     "metadata": {},
     "outputs": [
      {
       "output_type": "stream",
       "stream": "stdout",
       "text": [
        "gallons does hold 0.39 \n",
        "content of tank 643.84 gal\n"
       ]
      }
     ],
     "prompt_number": 2
    },
    {
     "cell_type": "heading",
     "level": 2,
     "metadata": {},
     "source": [
      "Ex4_1-pg394"
     ]
    },
    {
     "cell_type": "code",
     "collapsed": false,
     "input": [
      "#given\n",
      "#page no 394\n",
      "#find out how much air enter in cylinder \n",
      "#as th amount water air taken into engine per hour \n",
      "x=300\n",
      "c=3.9\n",
      "t=60.\n",
      "D=1.2*70200./(1000.)\n",
      "#dust entering \n",
      "#engine in 1 year \n",
      "E=D*9.*250.\n",
      "De=E/7000.\n",
      "print\"%s %.2f %s\"%(\"dust entering engine \",De,\"\")"
     ],
     "language": "python",
     "metadata": {},
     "outputs": [
      {
       "output_type": "stream",
       "stream": "stdout",
       "text": [
        "dust entering engine  27.08 \n"
       ]
      }
     ],
     "prompt_number": 1
    }
   ],
   "metadata": {}
  }
 ]
}