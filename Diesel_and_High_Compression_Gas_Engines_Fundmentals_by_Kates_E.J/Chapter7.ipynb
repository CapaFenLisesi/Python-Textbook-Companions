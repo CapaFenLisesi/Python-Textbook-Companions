{
 "metadata": {
  "name": "",
  "signature": "sha256:04f751b480a168c32320aa1a4f25365f0c332ba45913aa789b4bd2240724cfad"
 },
 "nbformat": 3,
 "nbformat_minor": 0,
 "worksheets": [
  {
   "cells": [
    {
     "cell_type": "heading",
     "level": 1,
     "metadata": {},
     "source": [
      "Chapter7-Engine Power and Fuel Consumption"
     ]
    },
    {
     "cell_type": "heading",
     "level": 2,
     "metadata": {},
     "source": [
      "Ex1-pg109"
     ]
    },
    {
     "cell_type": "code",
     "collapsed": false,
     "input": [
      "#given\n",
      "import math\n",
      "#find the brake horse power\n",
      "N=1150.\n",
      "Wt=151.\n",
      "l=4.\n",
      "Wo=22.\n",
      "#finding netforce\n",
      "#f=Wt-Wo\n",
      "F=Wt-Wo\n",
      "#then as\n",
      "R=4.\n",
      "#calculating Brake horse power\n",
      "Bhp=F*R*N/(5250.)\n",
      "print\"%s %.2f %s\"%(\"braking horse power\",Bhp,\"bhp\")\n"
     ],
     "language": "python",
     "metadata": {},
     "outputs": [
      {
       "output_type": "stream",
       "stream": "stdout",
       "text": [
        "braking horse power 113.03 bhp\n"
       ]
      }
     ],
     "prompt_number": 1
    },
    {
     "cell_type": "heading",
     "level": 2,
     "metadata": {},
     "source": [
      "Ex2-pg111"
     ]
    },
    {
     "cell_type": "code",
     "collapsed": false,
     "input": [
      "#given\n",
      "#find out what is torque produced by and engine \n",
      "N=850.\n",
      "bhp=62.\n",
      "#by writting terms in equation \n",
      "#5250 is dividing equation\n",
      "T=5250*bhp/(N)\n",
      "print\"%s %.2f %s\"%(\"torque produced by an engine\",T,\"lb-ft\")"
     ],
     "language": "python",
     "metadata": {},
     "outputs": [
      {
       "output_type": "stream",
       "stream": "stdout",
       "text": [
        "torque produced by an engine 382.94 lb-ft\n"
       ]
      }
     ],
     "prompt_number": 1
    },
    {
     "cell_type": "heading",
     "level": 2,
     "metadata": {},
     "source": [
      "Ex3-pg112"
     ]
    },
    {
     "cell_type": "code",
     "collapsed": false,
     "input": [
      "#given\n",
      "#find out brake mean effective pressure of a 6-cylinder\n",
      "D=5**0.75\n",
      "bhp=120.\n",
      "l=8.\n",
      "m=6.\n",
      "n=1000.\n",
      "bmep=1008000*((bhp/(D**2)*l*m*n))\n",
      "print\"%s %.2f %s\"%(\"brake mean effective pressure\",bmep/2.95,\"psi\")"
     ],
     "language": "python",
     "metadata": {},
     "outputs": [
      {
       "output_type": "stream",
       "stream": "stdout",
       "text": [
        "brake mean effective pressure 176037824580.37 psi\n"
       ]
      }
     ],
     "prompt_number": 5
    },
    {
     "cell_type": "heading",
     "level": 2,
     "metadata": {},
     "source": [
      "Ex4-pg113"
     ]
    },
    {
     "cell_type": "code",
     "collapsed": false,
     "input": [
      "#compute brake mean effective pressure\n",
      "#given\n",
      "T=350.\n",
      "D=4**0.25\n",
      "L=5\n",
      "M=4\n",
      "#bmep for 4-cycle engine=192*t\n",
      "bmep=192*(T/(D**2)*L*M)\n",
      "#bmep for 2-cycle engine \n",
      "bmep2=bmep/2\n",
      "print\"%s %.2f %s\"%(\"bmep for 4-cycle\",bmep,\"psi\")\n",
      "print\"%s %.2f %s\"%(\"bmep for 2-cycle\",bmep,\"psi\")"
     ],
     "language": "python",
     "metadata": {},
     "outputs": [
      {
       "output_type": "stream",
       "stream": "stdout",
       "text": [
        "bmep for 4-cycle 672000.00 psi\n",
        "bmep for 2-cycle 672000.00 psi\n"
       ]
      }
     ],
     "prompt_number": 6
    },
    {
     "cell_type": "heading",
     "level": 2,
     "metadata": {},
     "source": [
      "Ex5-pg114"
     ]
    },
    {
     "cell_type": "code",
     "collapsed": false,
     "input": [
      "#given\n",
      "#find out mechanical efficency of an engine\n",
      "bhp=57.\n",
      "ihp=19.\n",
      "ihp1=ihp+bhp\n",
      "\n",
      "#computing according to equtaion\n",
      "Me=(bhp/ihp1)*100.\n",
      "print\"%s %.2f %s\"%(\"mechanical efficency\",Me,\"percent\")"
     ],
     "language": "python",
     "metadata": {},
     "outputs": [
      {
       "output_type": "stream",
       "stream": "stdout",
       "text": [
        "mechanical efficency 75.00 percent\n"
       ]
      }
     ],
     "prompt_number": 2
    },
    {
     "cell_type": "heading",
     "level": 2,
     "metadata": {},
     "source": [
      "Ex6-pg115"
     ]
    },
    {
     "cell_type": "code",
     "collapsed": false,
     "input": [
      "#find the mechanical efficency of the diesel engine \n",
      "#fid we set forth constant \n",
      "fhp=19\n",
      "bhp=57/2.\n",
      "ihp=bhp+fhp\n",
      "Bhp=(bhp/ihp)*100\n",
      "print\"%s %.2f %s\"%(\"mechanical efficeny\",Bhp,\"bhp\")"
     ],
     "language": "python",
     "metadata": {},
     "outputs": [
      {
       "output_type": "stream",
       "stream": "stdout",
       "text": [
        "mechanical efficeny 60.00 bhp\n"
       ]
      }
     ],
     "prompt_number": 3
    },
    {
     "cell_type": "heading",
     "level": 2,
     "metadata": {},
     "source": [
      "Ex7-pg117"
     ]
    },
    {
     "cell_type": "code",
     "collapsed": false,
     "input": [
      "#find the brake thermal efficency of an engine \n",
      "#given\n",
      "w=16.2\n",
      "t=20.\n",
      "p=126.\n",
      "q=19300.\n",
      "#during 20 minutes period of the test 126 bhp for a period 1/3 hour 126*(1/3.)\n",
      "btu=42.*2544.\n",
      "hi=16.2*19300.\n",
      "bth=(btu/hi)*100.\n",
      "print\"%s %.2f %s\"%(\"brake thermal efficency\",bth,\"percent\")\n"
     ],
     "language": "python",
     "metadata": {},
     "outputs": [
      {
       "output_type": "stream",
       "stream": "stdout",
       "text": [
        "brake thermal efficency 34.17 percent\n"
       ]
      }
     ],
     "prompt_number": 2
    },
    {
     "cell_type": "heading",
     "level": 2,
     "metadata": {},
     "source": [
      "Ex8-pg118"
     ]
    },
    {
     "cell_type": "code",
     "collapsed": false,
     "input": [
      "#find the brake thermal efficency\n",
      "#given\n",
      "f=0.44\n",
      "q=19500\n",
      "#for each bhp output is 2544\n",
      "hi=f*q\n",
      "bth=(2544./hi)*100.\n",
      "print\"%s %.2f %s\"%(\"brake thermal efficency\",bth,\"bhp\")"
     ],
     "language": "python",
     "metadata": {},
     "outputs": [
      {
       "output_type": "stream",
       "stream": "stdout",
       "text": [
        "brake thermal efficency 29.65 bhp\n"
       ]
      }
     ],
     "prompt_number": 3
    },
    {
     "cell_type": "heading",
     "level": 2,
     "metadata": {},
     "source": [
      "Ex9-pg118"
     ]
    },
    {
     "cell_type": "code",
     "collapsed": false,
     "input": [
      "#find fuel consumption when using fuel 18\n",
      "#given\n",
      "bth=38.\n",
      "#calculating heat input\n",
      "#1 bhp 2544\n",
      "hi=(2544./bth)*100.\n",
      "print\"%s %.2f %s\"%(\"heat input\",hi,\"btu per hp\")\n",
      "F=hi/18390.\n",
      "print\"%s %.2f %s\"%(\"fuel consumption\",F,\"lb\")\n"
     ],
     "language": "python",
     "metadata": {},
     "outputs": [
      {
       "output_type": "stream",
       "stream": "stdout",
       "text": [
        "heat input 6694.74 btu per hp\n",
        "fuel consumption 0.36 lb\n"
       ]
      }
     ],
     "prompt_number": 4
    }
   ],
   "metadata": {}
  }
 ]
}