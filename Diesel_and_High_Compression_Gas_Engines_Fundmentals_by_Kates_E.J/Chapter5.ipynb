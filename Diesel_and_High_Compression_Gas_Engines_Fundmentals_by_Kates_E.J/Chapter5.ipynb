{
 "metadata": {
  "name": "",
  "signature": "sha256:fef0bfe16bb766d61c55d7abce00a03d90744b0d062da59a25a40a9ae9f5911d"
 },
 "nbformat": 3,
 "nbformat_minor": 0,
 "worksheets": [
  {
   "cells": [
    {
     "cell_type": "heading",
     "level": 1,
     "metadata": {},
     "source": [
      "Chapter5-Heat and Combustion"
     ]
    },
    {
     "cell_type": "heading",
     "level": 2,
     "metadata": {},
     "source": [
      "Ex1-pg76"
     ]
    },
    {
     "cell_type": "code",
     "collapsed": false,
     "input": [
      "#given\n",
      "#find the heat required \n",
      "t2=185\n",
      "t1=95\n",
      "W1=42\n",
      "cp=0.5\n",
      "g=0.92\n",
      "w1=8.31*g\n",
      "W=W1*w1\n",
      "Q=W*cp*(t2-t1)\n",
      "print(W)\n",
      "print\"%s %.2f %s\"%(\"heat required is\",Q,\"\")\n",
      "\n",
      "#answer is slighlty different due to roundoff error "
     ],
     "language": "python",
     "metadata": {},
     "outputs": [
      {
       "output_type": "stream",
       "stream": "stdout",
       "text": [
        "321.0984\n",
        "heat required is 14449.43 \n"
       ]
      }
     ],
     "prompt_number": 1
    },
    {
     "cell_type": "heading",
     "level": 2,
     "metadata": {},
     "source": [
      "Ex2-pg79"
     ]
    },
    {
     "cell_type": "code",
     "collapsed": false,
     "input": [
      "#given\n",
      "#find the back pressure and heat required \n",
      "import math\n",
      "g=9.\n",
      "w1=0.0361\n",
      "Bp=g*w1\n",
      "#as 1 psi =2.036\n",
      "Bp1=Bp*2.0326\n",
      "print\"%s %.3f %s\"%(\"back pressure\",Bp,\"\")\n",
      "print\"%s %.2f %s\"%(\"heat required is\",Bp1,\"\")"
     ],
     "language": "python",
     "metadata": {},
     "outputs": [
      {
       "output_type": "stream",
       "stream": "stdout",
       "text": [
        "back pressure 0.325 \n",
        "heat required is 0.66 \n"
       ]
      }
     ],
     "prompt_number": 2
    },
    {
     "cell_type": "heading",
     "level": 2,
     "metadata": {},
     "source": [
      "Ex3-pg80"
     ]
    },
    {
     "cell_type": "code",
     "collapsed": false,
     "input": [
      "#given\n",
      "#find the total weight of a given temperature and velocity\n",
      "import math\n",
      "v=9500.\n",
      "p=5.\n",
      "t=180.\n",
      "V=v/(12.**3)\n",
      "#normal barometric pressure 14.7\n",
      "bP=p+14.7\n",
      "bP1=144.*bP\n",
      "#640 is total temperature conveting into k\n",
      "W=(bP1*V)/(53.3*640.)\n",
      "\n",
      "print\"%s %.2f %s\"%(\"total weight\",W,\"\")"
     ],
     "language": "python",
     "metadata": {},
     "outputs": [
      {
       "output_type": "stream",
       "stream": "stdout",
       "text": [
        "total weight 0.42 \n"
       ]
      }
     ],
     "prompt_number": 3
    },
    {
     "cell_type": "heading",
     "level": 2,
     "metadata": {},
     "source": [
      "Ex4-pg81"
     ]
    },
    {
     "cell_type": "code",
     "collapsed": false,
     "input": [
      "#given\n",
      "import math\n",
      "#find the rate of flow outlet\n",
      "t=600.\n",
      "c=1200.\n",
      "t2=400.\n",
      "AT=t+460.\n",
      "AT1=t2+460.\n",
      "Rfo=c*(AT1/AT)\n",
      "print\"%s %.2f %s\"%(\"Rate of flow outlet\",Rfo,\"\")"
     ],
     "language": "python",
     "metadata": {},
     "outputs": [
      {
       "output_type": "stream",
       "stream": "stdout",
       "text": [
        "Rate of flow outlet 973.58 \n"
       ]
      }
     ],
     "prompt_number": 2
    },
    {
     "cell_type": "heading",
     "level": 2,
     "metadata": {},
     "source": [
      "Ex5-pg81"
     ]
    },
    {
     "cell_type": "code",
     "collapsed": false,
     "input": [
      "#given\n",
      "import math\n",
      "#find the final pressure gage and convert absloute temperature to normal temprature \n",
      "a=210.\n",
      "t=160.\n",
      "t2=60.\n",
      "#absloute temperature to convert is 460\n",
      "AT=160.+460.\n",
      "AT1=60.+460.\n",
      "IP=210.+14.7\n",
      "FP=IP*(520./620.)\n",
      "print(FP)\n",
      "FPg=(FP-14.7)\n",
      "print\"%s %.2f %s\"%(\"final pressue gage is\",FPg,\"\")"
     ],
     "language": "python",
     "metadata": {},
     "outputs": [
      {
       "output_type": "stream",
       "stream": "stdout",
       "text": [
        "188.458064516\n",
        "final pressue gage is 173.76 \n"
       ]
      }
     ],
     "prompt_number": 5
    },
    {
     "cell_type": "heading",
     "level": 2,
     "metadata": {},
     "source": [
      "Ex6-pg81"
     ]
    },
    {
     "cell_type": "code",
     "collapsed": false,
     "input": [
      "#given\n",
      "import math\n",
      "#find the final pressure gage\n",
      "a=240.\n",
      "b=15.\n",
      "IP=14.7\n",
      "FP=IP*(a/b)\n",
      "Fpg=FP-IP\n",
      "print\"%s %.2f %s\"%(\"final pressure gage is\",Fpg,\"\")"
     ],
     "language": "python",
     "metadata": {},
     "outputs": [
      {
       "output_type": "stream",
       "stream": "stdout",
       "text": [
        "final pressue gage is 220.50 \n"
       ]
      }
     ],
     "prompt_number": 6
    },
    {
     "cell_type": "heading",
     "level": 2,
     "metadata": {},
     "source": [
      "Ex7-pg85"
     ]
    },
    {
     "cell_type": "code",
     "collapsed": false,
     "input": [
      "#given\n",
      "#find out weight of hydrogen\n",
      "import math\n",
      "#1lb hydrogen +8 lb oxygen gives\n",
      "T=1.+8.\n",
      "#this problem deals with 24 lb oxygen so\n",
      "t=24./8.\n",
      "#multiplying all equation by 3\n",
      "TT=3+24\n",
      "\n",
      "print\"%s %.2f %s\"%(\"3 lb of hydrogen requires\",TT,\"lb\")"
     ],
     "language": "python",
     "metadata": {},
     "outputs": [
      {
       "output_type": "stream",
       "stream": "stdout",
       "text": [
        "3 lb of hydrogen requires 27.00 lb\n"
       ]
      }
     ],
     "prompt_number": 10
    },
    {
     "cell_type": "heading",
     "level": 2,
     "metadata": {},
     "source": [
      "Ex8-pg86"
     ]
    },
    {
     "cell_type": "code",
     "collapsed": false,
     "input": [
      "#given\n",
      "o=0.14\n",
      "h=0.86\n",
      "O=120*o\n",
      "H=120*h\n",
      "O2=134.4+275.5\n",
      "print\"%s %.2f %s\"%(\"Total O2 uniting with oil\",O2,\"\")"
     ],
     "language": "python",
     "metadata": {},
     "outputs": [
      {
       "output_type": "stream",
       "stream": "stdout",
       "text": [
        "Total O2 uniting with oil 409.90 \n"
       ]
      }
     ],
     "prompt_number": 7
    },
    {
     "cell_type": "heading",
     "level": 2,
     "metadata": {},
     "source": [
      "Ex9-pg87"
     ]
    },
    {
     "cell_type": "code",
     "collapsed": false,
     "input": [
      "import math\n",
      "#find the total weight and airfuel ratio\n",
      "#given data\n",
      "O2=409.9\n",
      "lb=0.231\n",
      "w=409.9\n",
      "W=w/lb\n",
      "AFR=W/120.\n",
      "print\"%s %.2f %s\"%(\"toatl weight\",W,\"\")\n",
      "print\"%s %.2f %s\"%(\"air fuel ratio\",AFR,\"\")"
     ],
     "language": "python",
     "metadata": {},
     "outputs": [
      {
       "output_type": "stream",
       "stream": "stdout",
       "text": [
        "toatl weight 1774.46 \n",
        "air fuel ratio 14.79 \n"
       ]
      }
     ],
     "prompt_number": 1
    }
   ],
   "metadata": {}
  }
 ]
}