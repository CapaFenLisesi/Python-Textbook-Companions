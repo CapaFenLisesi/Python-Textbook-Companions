{
 "metadata": {
  "name": "",
  "signature": "sha256:b4ba8641549f203e8fea11318b963810a10e4c60714677d1e612b112f1a26eec"
 },
 "nbformat": 3,
 "nbformat_minor": 0,
 "worksheets": [
  {
   "cells": [
    {
     "cell_type": "heading",
     "level": 1,
     "metadata": {},
     "source": [
      "Chapter4-Basic Terms of Physics and Engineering"
     ]
    },
    {
     "cell_type": "heading",
     "level": 2,
     "metadata": {},
     "source": [
      "Ex1-pg61"
     ]
    },
    {
     "cell_type": "code",
     "collapsed": false,
     "input": [
      "#find the area piston for given parameters\n",
      "#given\n",
      "a=3.\n",
      "#diameter squared\n",
      "#calculation\n",
      "A=0.785*3**2\n",
      "print\"%s %.2f %s\"%(\"area of piston \",A,\"\")\n"
     ],
     "language": "python",
     "metadata": {},
     "outputs": [
      {
       "output_type": "stream",
       "stream": "stdout",
       "text": [
        "area of piston  7.07 \n"
       ]
      }
     ],
     "prompt_number": 1
    },
    {
     "cell_type": "heading",
     "level": 2,
     "metadata": {},
     "source": [
      "Ex2-pg62"
     ]
    },
    {
     "cell_type": "code",
     "collapsed": false,
     "input": [
      "#given\n",
      "#find the area of piston and displacement of that piston\n",
      "a=3.\n",
      "b=4.\n",
      "A=0.785*3**2\n",
      "print\"%s %.2f %s\"%(\"area of piston \",A,\"\")\n",
      "D=A*b\n",
      "#by using above results\n",
      "print\"%s %.2f %s\"%(\"displacement of piston \",D,\"cu in\")"
     ],
     "language": "python",
     "metadata": {},
     "outputs": [
      {
       "output_type": "stream",
       "stream": "stdout",
       "text": [
        "area of piston  7.07 \n",
        "displacement of piston  28.26 cu in\n"
       ]
      }
     ],
     "prompt_number": 2
    },
    {
     "cell_type": "heading",
     "level": 2,
     "metadata": {},
     "source": [
      "Ex3-pg63"
     ]
    },
    {
     "cell_type": "code",
     "collapsed": false,
     "input": [
      "#given\n",
      "#find the piston speed\n",
      "pa=9.\n",
      "S=1600.\n",
      "#average piston velocity =distance traveld/time to travel\n",
      "#first divide by 1 min and u will get same result late divide by 12 because to express per minute\n",
      "Ps=(pa*S)/(12.)\n",
      "print\"%s %.2f %s\"%(\"piston speed \",Ps,\"ft per min\")"
     ],
     "language": "python",
     "metadata": {},
     "outputs": [
      {
       "output_type": "stream",
       "stream": "stdout",
       "text": [
        "piston speed  1200.00 ft per min\n"
       ]
      }
     ],
     "prompt_number": 3
    },
    {
     "cell_type": "heading",
     "level": 2,
     "metadata": {},
     "source": [
      "Ex4-pg65"
     ]
    },
    {
     "cell_type": "code",
     "collapsed": false,
     "input": [
      "#given\n",
      "#compute the average acceleration  `\n",
      "#pressure= force/area\n",
      "#first express the velocity in ft per sec.time\n",
      "t=5.\n",
      "v=9000.\n",
      "Min=(9000./60.)\n",
      "Aa=(Min/t)\n",
      "print\"%s %.2f %s\"%(\"average acceleration\",Aa,\"ft per sec^2\")"
     ],
     "language": "python",
     "metadata": {},
     "outputs": [
      {
       "output_type": "stream",
       "stream": "stdout",
       "text": [
        "average acceleration 30.00 ft per sec^2\n"
       ]
      }
     ],
     "prompt_number": 4
    },
    {
     "cell_type": "heading",
     "level": 2,
     "metadata": {},
     "source": [
      "Ex5-pg65"
     ]
    },
    {
     "cell_type": "code",
     "collapsed": false,
     "input": [
      "#compute the pressure force\n",
      "#given\n",
      "w=12000.\n",
      "p=6.\n",
      "a=10**2\n",
      "f=p*a\n",
      "P=w/f\n",
      "print\"%s %.2f %s\"%(\"pressure  \",P,\"Psi\")"
     ],
     "language": "python",
     "metadata": {},
     "outputs": [
      {
       "output_type": "stream",
       "stream": "stdout",
       "text": [
        "pressure   20.00 Psi\n"
       ]
      }
     ],
     "prompt_number": 5
    },
    {
     "cell_type": "heading",
     "level": 2,
     "metadata": {},
     "source": [
      "Ex6-pg66"
     ]
    },
    {
     "cell_type": "code",
     "collapsed": false,
     "input": [
      "#given\n",
      "#compute the gas force action on pistion \n",
      "#use the figure to compute it \n",
      "p=500.\n",
      "D=5**2\n",
      "#force=pressure*area\n",
      "area=0.785*D\n",
      "F=p*area\n",
      "print\"%s %.2f %s\"%(\"force \",F,\"lb\")"
     ],
     "language": "python",
     "metadata": {},
     "outputs": [
      {
       "output_type": "stream",
       "stream": "stdout",
       "text": [
        "force  9812.50 lb\n"
       ]
      }
     ],
     "prompt_number": 6
    },
    {
     "cell_type": "heading",
     "level": 2,
     "metadata": {},
     "source": [
      "Ex7-pg67"
     ]
    },
    {
     "cell_type": "code",
     "collapsed": false,
     "input": [
      "#given\n",
      "#find the ratio of weight of certain volume \n",
      "Oil=1*8.34\n",
      "g=0.89\n",
      "#weight of the oil equal to weight of 1 gal\n",
      "w=Oil*g\n",
      "print\"%s %.2f %s\"%(\"wegiht of gal \",w,\"lb per gal\")"
     ],
     "language": "python",
     "metadata": {},
     "outputs": [
      {
       "output_type": "stream",
       "stream": "stdout",
       "text": [
        "wegiht of gal  7.42 lb per gal\n"
       ]
      }
     ],
     "prompt_number": 1
    },
    {
     "cell_type": "heading",
     "level": 2,
     "metadata": {},
     "source": [
      "Ex8-pg69"
     ]
    },
    {
     "cell_type": "code",
     "collapsed": false,
     "input": [
      "#given\n",
      "#find out what is mass of an engine piston that wieghs\n",
      "w=55.\n",
      "#mass weight divide  by 32.2\n",
      "#because it convets to lb\n",
      "M=w/32.2\n",
      "print\"%s %.2f %s\"%(\"mass of an engine\",M,\"lb\")"
     ],
     "language": "python",
     "metadata": {},
     "outputs": [
      {
       "output_type": "stream",
       "stream": "stdout",
       "text": [
        "mass of an engine 1.71 lb\n"
       ]
      }
     ],
     "prompt_number": 2
    },
    {
     "cell_type": "heading",
     "level": 2,
     "metadata": {},
     "source": [
      "Ex9-pg69"
     ]
    },
    {
     "cell_type": "code",
     "collapsed": false,
     "input": [
      "#find the work neccasry to raise a weight\n",
      "#given\n",
      "import math\n",
      "w=150.\n",
      "d=8.\n",
      "Work=w*d\n",
      "print\"%s %.2f %s\"%(\"work necesary \",Work,\"ft-lb\")\n",
      "\n"
     ],
     "language": "python",
     "metadata": {},
     "outputs": [
      {
       "output_type": "stream",
       "stream": "stdout",
       "text": [
        "work necesary  1200.00 ft-lb\n"
       ]
      }
     ],
     "prompt_number": 3
    },
    {
     "cell_type": "heading",
     "level": 2,
     "metadata": {},
     "source": [
      "Ex10-pg70"
     ]
    },
    {
     "cell_type": "code",
     "collapsed": false,
     "input": [
      "#given\n",
      "#find out power required to do in three cases:\n",
      "import math\n",
      "w=150.\n",
      "d=8.\n",
      "Work=w*d\n",
      "print\"%s %.2f %s\"%(\"work necesary \",Work,\"ft-lb\")\n",
      "\n",
      "#case(1)\n",
      "t1=2.\n",
      "power=Work/t1\n",
      "Horsepower=power/550.\n",
      "print\"%s %.2f %s\"%(\"powe requiered  for time \",power,\"ft-lb\")\n",
      "#case(2)\n",
      "t2=8.\n",
      "power=Work/t2\n",
      "Horsepower=power/550.\n",
      "print\"%s %.2f %s\"%(\"for power requiered at t2 \",power,\"ft-lb per sec\")\n"
     ],
     "language": "python",
     "metadata": {},
     "outputs": [
      {
       "output_type": "stream",
       "stream": "stdout",
       "text": [
        "work necesary  1200.00 ft-lb\n",
        "powe requiered  for time  600.00 ft-lb\n",
        "for power requiered at t2  150.00 ft-lb per sec\n"
       ]
      }
     ],
     "prompt_number": 4
    },
    {
     "cell_type": "heading",
     "level": 2,
     "metadata": {},
     "source": [
      "Ex11-pg70"
     ]
    },
    {
     "cell_type": "code",
     "collapsed": false,
     "input": [
      "#find the electric generator to takes 150 kn \n",
      "#given\n",
      "import math\n",
      "g=150.\n",
      "a=1.341\n",
      "p=g*a\n",
      "print\"%s %.2f %s\"%(\"equilient horse power\",p,\"hp\")"
     ],
     "language": "python",
     "metadata": {},
     "outputs": [
      {
       "output_type": "stream",
       "stream": "stdout",
       "text": [
        "equilient horse power 201.15 hp\n"
       ]
      }
     ],
     "prompt_number": 5
    },
    {
     "cell_type": "heading",
     "level": 2,
     "metadata": {},
     "source": [
      "Ex12-pg73"
     ]
    },
    {
     "cell_type": "code",
     "collapsed": false,
     "input": [
      "#find the work done by exhaust gases \n",
      "#given\n",
      "import math\n",
      "w=500.\n",
      "v1=9000.\n",
      "v2=5400.\n",
      "t=60.\n",
      "V1=v1/t\n",
      "V2=v2/t\n",
      "hp=32.2\n",
      "KE1=(1/2.)*(500/32.2)*(150**2)\n",
      "KE2=(1/2.)*(500/32.2)*(90**2)\n",
      "W=KE1-KE2\n",
      "print\"%s %.2f %s\"%(\"workdone\",W,\"ft-lb\")\n",
      "\n",
      "#answer is wrong in textbook"
     ],
     "language": "python",
     "metadata": {},
     "outputs": [
      {
       "output_type": "stream",
       "stream": "stdout",
       "text": [
        "workdone 111801.24 ft-lb\n"
       ]
      }
     ],
     "prompt_number": 6
    }
   ],
   "metadata": {}
  }
 ]
}