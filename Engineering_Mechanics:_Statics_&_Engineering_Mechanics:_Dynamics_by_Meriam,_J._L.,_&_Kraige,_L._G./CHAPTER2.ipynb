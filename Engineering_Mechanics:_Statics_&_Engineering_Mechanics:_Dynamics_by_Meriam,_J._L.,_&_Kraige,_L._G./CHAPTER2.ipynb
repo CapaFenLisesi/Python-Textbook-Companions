{
 "cells": [
  {
   "cell_type": "markdown",
   "metadata": {},
   "source": [
    "# CHAPTER 2:KINEMATICS OF PARTICLES"
   ]
  },
  {
   "cell_type": "markdown",
   "metadata": {
    "collapsed": true
   },
   "source": [
    "## SAMPLE PROBLEM 2/1,PAGE NUMBER:27"
   ]
  },
  {
   "cell_type": "code",
   "execution_count": null,
   "metadata": {
    "collapsed": false
   },
   "outputs": [],
   "source": [
    "import math\n",
    "# Variable declaration\n",
    "# s=2t**3-24t+6;\n",
    "v_a=72;# Velocity in m/s\n",
    "v_b=30;# Velocity in m/s\n",
    "t_0=1;# s\n",
    "t_1=4;# s\n",
    "\n",
    "# Calculation\n",
    "# v=6t**2-24;\n",
    "# a=12t;\n",
    "# (a)\n",
    "t=math.sqrt((v_a+24)/6);# Time in s\n",
    "# (b)\n",
    "a=math.sqrt((v_b+24)/6);# Time in s\n",
    "# (c)\n",
    "s4=((2*t_1**3)-(24*t)+6);# m\n",
    "s1=((2*t_0**3)-(24*t_0)+6)# m;\n",
    "deltaS=s4-s1;# The net displacement during the specified interval in m\n",
    "print\"\\n(a)The time required for the particle to reach a velocity of 72 m/s from its initial condition at t=0 is %1.0f s.\\n(b)The acceleration of the particle a=%2.0f m/s**2 \\n(c)The net displacement,deltaS=%2.0f m\"%(t,a,deltaS);\n"
   ]
  },
  {
   "cell_type": "markdown",
   "metadata": {
    "collapsed": true
   },
   "source": [
    "## SAMPLE PROBLEM 2/2,PAGE NUMBER:28"
   ]
  },
  {
   "cell_type": "code",
   "execution_count": null,
   "metadata": {
    "collapsed": false
   },
   "outputs": [],
   "source": [
    "import math\n",
    "# Variable declaration\n",
    "v_x=50;# The initial velocity in ft/sec\n",
    "a_x=-10;# The acceleration in ft/sec**2\n",
    "t_0=8;# s\n",
    "t_1=12;# s\n",
    "\n",
    "# Calculation\n",
    "# v_x=90-10t; ft/sec\n",
    "v_x0=(90-(10*t_0));# The velocity in ft/sec\n",
    "v_x1=(90-(10*t_1));# The velocity in ft/sec\n",
    "# x=-5t**2+90t-80; ft\n",
    "x_0=(-5*t_0**2)+(90*t_0)-80;# ft\n",
    "x_1=(-5*t_1**2)+(90*t_1)-80;# ft\n",
    "# The maximum positive x-coordinate is,then, the value of x for t=9 sec which is\n",
    "t=9;# sec\n",
    "x_max=(-5*t**2)+(90*t)-80;# ft\n",
    "print\"\\nThe velocity of the particle for the conditions of t=8 sec and t=12 sec,v_x=%2.0f ft/sec & v_x=%2.0f ft/sec\"%(v_x0,v_x1)\n",
    "print\"\\nThe x-coordinate of the particle for the conditions of t=8 sec and t=12 sec, x=%3.0f ft & x=%3.0f ft\"%(x_0,x_1)\n",
    "print\"\\nThe maximum positive x-coordinate reached by the particle,x_max=%3.0f ft\"%x_max\n"
   ]
  },
  {
   "cell_type": "markdown",
   "metadata": {
    "collapsed": true
   },
   "source": [
    "## SAMPLE PROBLEM 2/5,PAGE NUMBER:46"
   ]
  },
  {
   "cell_type": "code",
   "execution_count": null,
   "metadata": {
    "collapsed": false
   },
   "outputs": [],
   "source": [
    "%matplotlib inline\n",
    "import math\n",
    "from matplotlib.pyplot import plot,suptitle,xlabel,ylabel\n",
    "import numpy as np\n",
    "# Variable declaration\n",
    "# v_x=50-60t;\n",
    "# y=100-4t**2;\n",
    "# where v_x is in meters per second, y is in meters, and t is in seconds.\n",
    "\n",
    "# Calculation\n",
    "# x=50t-8t**2;\n",
    "a_x=-16;# The x-component of the acceleration in m/s**2\n",
    "# v_y=-8t; The y-component of the velocity in m/s\n",
    "a_y=-8;# The y-component of the acceleration in m/s**2\n",
    "# When y=0,\n",
    "t=math.sqrt(100/4);\n",
    "v_x=50-(16*t);\n",
    "v_y=-8*(t);\n",
    "v=math.sqrt((v_x**2)+(v_y**2));# m/s\n",
    "a=math.sqrt(a_x**2+a_y**2);# m/s**2\n",
    "print\"\\nThe velocity,v=%2.0fi+(%2.0fj) m/s \\nThe acceleration,a=%2.0fi+(%1.0fj) m/s**2\"%(v_x,v_y,a_x,a_y);\n",
    "y=[0,20,40,60,80,100];# m \n",
    "t=[math.sqrt((100-y[0])/4),math.sqrt((100-y[1])/4),math.sqrt((100-y[2])/4),math.sqrt((100-y[3])/4),math.sqrt((100-y[4])/4),math.sqrt((100-y[5])/4)];# s\n",
    "x=[((50*t[0])-(8*t[0]**2)),((50*t[1])-(8*t[1]**2)),((50*t[2])-(8*t[2]**2)),((50*t[3])-(8*t[3]**2)),((50*t[4])-(8*t[4]**2)),((50*t[5])-(8*t[5]**2))];# m\n",
    "v_x=[50-(16*(t[0])),50-(16*t[1]),50-(16*t[2]),50-(16*t[3]),50-(16*t[4]),50-(16*t[5])];\n",
    "v_y=[-8*(t[0]),-8*(t[1]),-8*(t[2]),-8*(t[3]),-8*(t[4]),-8*(t[5])];\n",
    "v=[math.sqrt((v_x[0]**2)+(v_y[0]**2)),math.sqrt((v_x[1]**2)+(v_y[1]**2)),math.sqrt((v_x[2]**2)+(v_y[2]**2)),math.sqrt((v_x[3]**2)+(v_y[3]**2)),math.sqrt((v_x[4]**2)+(v_y[4]**2)),math.sqrt((v_x[5]**2)+(v_y[5]**2))],;# m/s\n",
    "a=math.sqrt(a_x**2+a_y**2);# m/s**2\n",
    "plot(x,y,'*-',color='green')\n",
    "xlabel('x,m')\n",
    "ylabel('y,m')\n",
    "   \n",
    "    "
   ]
  },
  {
   "cell_type": "markdown",
   "metadata": {
    "collapsed": true
   },
   "source": [
    "## SAMPLE PROBLEM 2/6,PAGE NUMBER:47"
   ]
  },
  {
   "cell_type": "code",
   "execution_count": null,
   "metadata": {
    "collapsed": false
   },
   "outputs": [],
   "source": [
    "import math\n",
    "from scipy.optimize import fsolve\n",
    "# Variable declaration\n",
    "v_0=80;# The launch speed in ft/sec\n",
    "theta=35;# The launch angle in degree\n",
    "m=8;# lb\n",
    "g=32.2;# The acceleration due to gravity in ft/sec**2\n",
    "y_0=6;# ft\n",
    "x_0=0;# ft\n",
    "x=100+30;# ft\n",
    "\n",
    "# Calculation\n",
    "v_x0=v_0*math.cos(theta);# ft/sec\n",
    "t=(x-x_0)/v_x0;# s\n",
    "v_y0=v_0*math.sin(theta);# ft/sec\n",
    "y=(y_0+(v_y0*t))-((1/2)*g*t**2);# ft\n",
    "# (a)\n",
    "# We now find the flight time by setting\n",
    "y_01=20;# ft\n",
    "def equations(p):\n",
    "    t_f=p\n",
    "    return((y_0+(v_y0*t_f)-((1/2)*g*t_f**2)))-y_01;\n",
    "t_f=fsolve(equations,(1))\n",
    "x=x_0+(v_x0*t_f);# ft\n",
    "print\"\\n(a)The time duration of the flight,t_f=%1.2f s\"%t_f;\n",
    "#(b)\n",
    "print\"\\n(b)Thus the point of first impact is (x,y)=(%3.0f,%2.0f)ft\"%(x,y_01);\n",
    "# (c)\n",
    "v_y=0;# ft\n",
    "h=((v_y0**2-v_y**2)/(2*g))+6;# ft\n",
    "print\"\\n(c)The maximum height above the horizontal field attained by the ball,h=%2.1f ft\"%h;\n",
    "# (d)\n",
    "v_x=v_x0;# ft/sec\n",
    "v_y=v_y0-(g*t_f);# ft/sec\n",
    "print\"\\n(d)The impact velocity,v=%2.1f i+(%2.1f j) ft/sec\"%(v_x,v_y);\n",
    "x=100+30;# ft (given)\n",
    "v_0=75;# ft/sec (given)\n",
    "v_x0=v_0*math.cos(theta);# ft/sec\n",
    "t=(x-x_0)/v_x0;# s\n",
    "v_y0=v_0*math.sin(theta);# ft/sec\n",
    "y=(y_0+(v_y0*t))-((1/2)*g*t**2);# ft\n",
    "print\"\\n   The point of impact is (x,y)=(%3.0f,%2.1f)ft\"%(x,y);\n"
   ]
  },
  {
   "cell_type": "markdown",
   "metadata": {
    "collapsed": true
   },
   "source": [
    "## SAMPLE PROBLEM 2/7,PAGE NUMBER:57"
   ]
  },
  {
   "cell_type": "code",
   "execution_count": null,
   "metadata": {
    "collapsed": false,
    "scrolled": true
   },
   "outputs": [],
   "source": [
    "import math\n",
    "# Variable declaration\n",
    "a=3;# m/s**2\n",
    "v_A=100;# km/h\n",
    "v_C=50;# km/h\n",
    "s=120;# m\n",
    "\n",
    "# Calculation\n",
    "v_A=((v_A*(1000)*3600**-1));# The velocity in m/s\n",
    "v_C=((v_C*(1000)*3600**-1));# The velocity in m/s\n",
    "a_t=((v_C**2-v_A**2)/(2*s));# The acceleration in m/s**2\n",
    "# (a) Condition at A.\n",
    "a_n=math.sqrt(a**2-a_t**2);# The acceleration in m/s**2\n",
    "rho_A=v_A**2*a_n**-1;# The radius of curvature at A in m\n",
    "# (b) Condition at B.\n",
    "a_n=0;# m/s**2\n",
    "a_b=a_n+a_t;# The acceleration at the inflection point B in m/s**2\n",
    "# (c) Condition at C.\n",
    "rho=150;# The radius of curvature of the hump at C in m\n",
    "a_n=v_C**2/rho;# The normal acceleration in m/s**2\n",
    "a=math.sqrt(a_n**2+a_t**2);# The total acceleration at C in m/s**2\n",
    "print\"\\n(a)The radius of curvature at A,rho=%3.0f m\"%rho_A\n",
    "print\"\\n(b)The acceleration at the inflection point B,a=%1.2f m/s**2\"%a_b\n",
    "print\"\\n(c)The total acceleration at C,a=%1.2f m/s**2\"%a\n",
    "\n"
   ]
  },
  {
   "cell_type": "markdown",
   "metadata": {
    "collapsed": true
   },
   "source": [
    "## SAMPLE PROBLEM 2/8,PAGE NUMBER:58"
   ]
  },
  {
   "cell_type": "code",
   "execution_count": null,
   "metadata": {
    "collapsed": false
   },
   "outputs": [],
   "source": [
    "import math\n",
    "# Variable declaration\n",
    "g=30;# The acceleration due to gravity in ft/sec**2\n",
    "theta=15;# The direction of its trajectory in degree\n",
    "v=12000;# The velocity in mi/hr\n",
    "a_x=20;# The horizontal component of acceleration in ft/sec**2\n",
    "a_y=g;# The downward acceleration component in ft/sec**2\n",
    "\n",
    "# Calculation\n",
    "a_n=(a_y*math.cos(theta*math.pi/180))-(a_x*math.sin(theta*math.pi/180));# The normal component of acceleration in ft/sec**2\n",
    "a_t=(a_y*math.sin(theta*math.pi/180))+(a_x*math.cos(theta*math.pi/180));# The tangential component of acceleration in ft/sec**2\n",
    "# (a)\n",
    "v=v*44/30;# ft/sec\n",
    "rho=v**2/a_n;# The radius of curvature in ft\n",
    "# (b)\n",
    "vdot=a_t;# The t-component of acceleration in ft/sec**2\n",
    "# (c)\n",
    "betadot=v/rho;# The angular rate of line GC in rad/sec\n",
    "# (d)\n",
    "a=[a_n,a_t];# The total acceleration in ft/sec**2\n",
    "print\"\\n(a)The radius of curvature,rho=%2.2e ft \\n(b)The t-component of acceleration,v_dot=%2.1f ft/sec**2 \\n(c)The angular rate of line GC,betadot=%2.2e rad/sec \\n(d)The total acceleration,a=%2.1f e_n+%2.1f e_t ft/sec**2\"%(rho,vdot,betadot,a[0],a[1]);\n"
   ]
  },
  {
   "cell_type": "markdown",
   "metadata": {
    "collapsed": true
   },
   "source": [
    "## SAMPLE PROBLEM 2/9,PAGE NUMBER:69"
   ]
  },
  {
   "cell_type": "code",
   "execution_count": null,
   "metadata": {
    "collapsed": false
   },
   "outputs": [],
   "source": [
    "import math\n",
    "# Variable declaration\n",
    "# theta=0.2t+0.02t**3;\n",
    "# r=0.2+0.04t**2;\n",
    "t=3;# s\n",
    "\n",
    "import math\n",
    "# Variable declaration\n",
    "# theta=0.2t+0.02t**3;\n",
    "# Variable declaration\n",
    "# theta=0.2t+0.02t**3;\n",
    "# r=0.2+0.04t**2;\n",
    "t=3;# s\n",
    "\n",
    "# Calculation\n",
    "r_3=0.2+(0.04*t**2);# m\n",
    "rdot_3=0.08*t;# m/s\n",
    "rdotdot_3=0.08;# m/s**2\n",
    "theta_3=(0.2*t)+(0.02*t**3);# rad\n",
    "thetadot_3=0.2+(0.06*t**2);# rad/s\n",
    "thetadotdot_3=0.12*t;# rad/s**2\n",
    "v_r=rdot_3;# m/s\n",
    "v_theta=r_3*thetadot_3;# m/s\n",
    "v=math.sqrt(v_r**2+v_theta**2);# m/s\n",
    "a_r=rdotdot_3-(r_3*thetadot_3**2);# m/s**2\n",
    "a_theta=((r_3*thetadotdot_3)+(2*rdot_3*thetadot_3));# m/s**2\n",
    "a=math.sqrt(a_r**2+a_theta**2);# m/s**2\n",
    "print\"\\nThe magnitudes of the velocity and acceleration of the slider, v=%0.3f m/s and a=%0.3f m/s**2\"%(v,a);\n"
   ]
  },
  {
   "cell_type": "markdown",
   "metadata": {},
   "source": [
    "## SAMPLE PROBLEM 2/10,PAGE NUMBER:70"
   ]
  },
  {
   "cell_type": "code",
   "execution_count": null,
   "metadata": {
    "collapsed": false
   },
   "outputs": [],
   "source": [
    "# Variable declaration\n",
    "theta_i=30;# degrees\n",
    "r=25*10**4;# ft\n",
    "rdot=4000;# ft/sec\n",
    "theta=0.80;# deg/sec\n",
    "g=31.4;# ft/sec**2\n",
    "\n",
    "# Calculation\n",
    "v_r=rdot;# ft/sec\n",
    "v_theta=r*(theta*math.pi/180);# ft/sec\n",
    "v=math.sqrt(v_r**2+v_theta**2);# ft/sec\n",
    "a_r=-g*math.cos(theta_i*math.pi/180);# ft/sec**2\n",
    "a_theta=g*math.sin(theta_i*math.pi/180);# ft/sec**2\n",
    "rdotdot=a_r+(r*(theta*(math.pi/180))**2);# ft/sec**2\n",
    "thetadotdot=(a_theta-(2*rdot*theta*math.pi/180))/r;# ft/sec**2\n",
    "print\"\\nThe velocity of the rocket,v=%4.0f ft/sec \\nrdotdot=%2.1f ft/sec**2 and thetadotdot=%1.2e rad/sec**2\"%(v,rdotdot,thetadotdot);\n"
   ]
  },
  {
   "cell_type": "markdown",
   "metadata": {
    "collapsed": true
   },
   "source": [
    "## SAMPLE PROBLEM 2/12,PAGE NUMBER:83"
   ]
  },
  {
   "cell_type": "code",
   "execution_count": null,
   "metadata": {
    "collapsed": false
   },
   "outputs": [],
   "source": [
    "import math\n",
    "# Variable declaration\n",
    "v_0=250;# km/h\n",
    "theta_i=15;# degree\n",
    "a=0.8;# m/s**2\n",
    "t=60;# seconds\n",
    "s_0=0;# m\n",
    "x=3000;# m\n",
    "\n",
    "# Calculation\n",
    "# (a)\n",
    "v_0=v_0/3.6;# m/s\n",
    "v=v_0+(a*t);# m/s\n",
    "s=s_0+(v_0*t)+((a*t**2)/2);# m\n",
    "y=s*math.cos(theta_i*math.pi/180);# m\n",
    "theta=math.atan(y/x)*180/math.pi;# degree\n",
    "r=math.sqrt(x**2+y**2);# m\n",
    "v_xy=v*math.cos(theta_i*math.pi/180);# m/s\n",
    "v_r=v_xy*math.sin(theta*math.pi/180);# m/s\n",
    "v_theta=v_xy*math.cos(theta*math.pi/180);# m/s\n",
    "thetadot=v_theta/r;# rad/s\n",
    "zdot=v*math.sin(theta_i*math.pi/180);# m/s\n",
    "v_z=zdot;# m/s\n",
    "# (b)\n",
    "z=y*math.tan(theta_i*math.pi/180);# m\n",
    "phi=math.degrees(math.atan(z/r));# degree\n",
    "R=math.sqrt(r**2+z**2);# m\n",
    "v_R=(v_r*math.cos(phi*math.pi/180))+(zdot*math.sin(phi*math.pi/180));# m/s\n",
    "v_phi=(zdot*(math.cos(phi*math.pi/180)))-(v_r*math.sin(phi*math.pi/180));# m/s\n",
    "phidot=v_phi/R;# m/s\n",
    "print\"\\n(a)v_r=%2.1f m/s \\n   thetadot=%1.2e rad/s \\n   zdot=v_z=%2.1f m/s \\n(b)v_R=%3.1f m/s \\n   thetadot=%1.2e rad/s \\n   phidot=%1.3e rad/s\"%(v_r,thetadot,zdot,v_R,thetadot,phidot);\n"
   ]
  },
  {
   "cell_type": "markdown",
   "metadata": {
    "collapsed": true
   },
   "source": [
    "## SAMPLE PROBLEM 2/13,PAGE NUMBER:90"
   ]
  },
  {
   "cell_type": "code",
   "execution_count": null,
   "metadata": {
    "collapsed": false
   },
   "outputs": [],
   "source": [
    "import math\n",
    "from scipy.optimize import fsolve\n",
    "# Variable declaration\n",
    "v_A=800;# km/h\n",
    "theta_1=45*math.pi/180;# degree\n",
    "theta_2=60*math.pi/180;# degree\n",
    "theta_3=75*math.pi/180;# degree\n",
    "\n",
    "# Calculation\n",
    "# [i] Graphical.\n",
    "v_BA=586;# km/h\n",
    "v_B=717;# km/h\n",
    "print\"nv_BA=%3.0f km/h and v_B=%3.0f km/h\"%(v_BA,v_B);\n",
    "# (II) Trigonometric.\n",
    "v_B=(math.sin(theta_2)*v_A)/math.sin(theta_3);# km/h\n",
    "print\"\\nv_B=%3.0f km/h\"%v_B;\n",
    "# (III) Vector Algebra\n",
    "def equations(p):\n",
    "    v_BA,v_B=p\n",
    "    return((v_A-(v_BA*math.cos(theta_2)))-(v_B*math.cos(theta_1)),(v_B*math.sin(theta_1))-(v_BA*math.sin(theta_2)));\n",
    "v_BA,v_B=fsolve(equations,(1,1))\n",
    "print\"\\nv_BA=%3.0f km/h and v_B=%3.0f km/h\"%(v_BA,v_B);\n"
   ]
  },
  {
   "cell_type": "markdown",
   "metadata": {
    "collapsed": true
   },
   "source": [
    "## SAMPLE PROBLEM 2/14,PAGE NUMBER:91"
   ]
  },
  {
   "cell_type": "code",
   "execution_count": null,
   "metadata": {
    "collapsed": false
   },
   "outputs": [],
   "source": [
    "import math\n",
    "# Variable declaration\n",
    "v_A=45;# mi/hr\n",
    "v_B=30;# mi/hr\n",
    "a_A=3;# ft/sec**2\n",
    "theta_1=30;# degree\n",
    "theta_2=60;# degree\n",
    "rho=440;# The radius of curvature in ft\n",
    "\n",
    "# Calculation\n",
    "# Velocity\n",
    "v_A=v_A*(5280*3600**-1);# ft/sec\n",
    "v_B=v_B*(5280*3600**-1);# ft/sec\n",
    "# By the application of the law of cosines and the law of sines gives\n",
    "v_BA=math.sqrt(v_A**2+v_B**2-(2*v_A*v_B*math.cos(theta_2*math.pi/180)));# ft/sec\n",
    "theta=math.degrees(math.asin((v_B*math.sin(theta_2*math.pi/180))/v_BA));# degree\n",
    "# Acceleration\n",
    "a_B=(v_B)**2/rho;# ft/sec**2\n",
    "a_BAx=a_B*math.cos(theta_1*math.pi/180)-a_A;# ft/sec**2\n",
    "a_BAy=a_B*math.sin(theta_1*math.pi/180);# ft/sec**2\n",
    "a_BA=math.sqrt(a_BAx**2+a_BAy**2);# ft/sec**2\n",
    "beta=180-math.degrees((math.asin((a_B/a_BA)*math.sin(theta_1*math.pi/180))));# degree\n",
    "print\"\\nv_BA=%2.1f ft/sec \\ntheta=%2.1f degree \\na_AB=%1.2f ft/sec**2 \\nbeta=%2.1f degree\"%(v_BA,theta,a_BA,beta);\n"
   ]
  },
  {
   "cell_type": "markdown",
   "metadata": {
    "collapsed": true
   },
   "source": [
    "## SAMPLE PROBLEM 2/15,PAGE NUMBER:100"
   ]
  },
  {
   "cell_type": "code",
   "execution_count": null,
   "metadata": {
    "collapsed": false
   },
   "outputs": [],
   "source": [
    "import math\n",
    "# Variable declaration\n",
    "v_A=0.3;# m/s\n",
    "\n",
    "# Calculation\n",
    "# Solution [i].\n",
    "# v_A=y_A,v_B=y_B\n",
    "v_B=-(2*v_A)/3;# m/s\n",
    "print\"\\nThe velocity of B,v_B=%0.1f m/s\"%v_B;\n",
    "# Solution (II).\n",
    "v_B=abs((2*v_A)/3);# m/s\n",
    "print\"\\nThe velocity of B,v_B=%0.1f m/s (upward)\"%v_B;\n"
   ]
  }
 ],
 "metadata": {
  "kernelspec": {
   "display_name": "Python 2",
   "language": "python",
   "name": "python2"
  },
  "language_info": {
   "codemirror_mode": {
    "name": "ipython",
    "version": 2
   },
   "file_extension": ".py",
   "mimetype": "text/x-python",
   "name": "python",
   "nbconvert_exporter": "python",
   "pygments_lexer": "ipython2",
   "version": "2.7.11"
  }
 },
 "nbformat": 4,
 "nbformat_minor": 0
}
