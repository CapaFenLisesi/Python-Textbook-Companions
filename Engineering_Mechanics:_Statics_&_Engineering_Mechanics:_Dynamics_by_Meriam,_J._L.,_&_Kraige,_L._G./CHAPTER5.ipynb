{
 "cells": [
  {
   "cell_type": "markdown",
   "metadata": {
    "collapsed": false
   },
   "source": [
    "# CHAPTER 5:PLANE KINEMATICS OF RIGID BODIES"
   ]
  },
  {
   "cell_type": "markdown",
   "metadata": {
    "collapsed": true
   },
   "source": [
    "## SAMPLE PROBLEM 5/1,PAGE NUMBER:331"
   ]
  },
  {
   "cell_type": "code",
   "execution_count": null,
   "metadata": {
    "collapsed": false
   },
   "outputs": [],
   "source": [
    "import math\n",
    "import sympy\n",
    "# Given data\n",
    "n_1=1800;# rev/min\n",
    "t_0=0;# s\n",
    "# alpha=4t;\n",
    "n_2=900;# rev/min\n",
    "\n",
    "# Calculation\n",
    "# (a)\n",
    "omega_1=(-2*math.pi*n_1)/60;# rad/s\n",
    "# omega=-(60*math.pi)+2t**2\n",
    "omega_2=(-2*math.pi*n_2)/60;# rad/s\n",
    "t=math.sqrt((omega_2-omega_1)/2);# s\n",
    "# (b)\n",
    "# The flywheel changes direction when its angular velocity is momentarily zero. Thus,\n",
    "t_b=math.sqrt((0-omega_1)/2);# s\n",
    "# (c)\n",
    "t_0=0;# s\n",
    "t_1=t_b;# s\n",
    "theta_1=sympy.integrate((omega_1+(2*t**2)),('t',t_0,t_1));# rad\n",
    "N_1=abs(-theta_1/(2*math.pi));# rev(clockwise)\n",
    "t_1=t_b;# s\n",
    "t_2=14;# s\n",
    "theta_2=sympy.integrate((omega_1+(2*t**2)),('t',t_1,t_2));# rad\n",
    "N_2=theta_2/(2*math.pi);# rev\n",
    "N=N_1+N_2;# rev\n",
    "print\"\\n(a)The time required for the flywheel to reduce its clockwise angular speed,t=%1.2f s \\n(b)The time required for the flywheel to reverse its direction of rotation,t=%1.2f s \\n(c)The total number of revolutions,N=%3.0f rev\"%(t,t_b,N);\n"
   ]
  },
  {
   "cell_type": "markdown",
   "metadata": {
    "collapsed": true
   },
   "source": [
    "## SAMPLE PROBLEM 5/2,PAGE NUMBER:332"
   ]
  },
  {
   "cell_type": "code",
   "execution_count": null,
   "metadata": {
    "collapsed": false
   },
   "outputs": [],
   "source": [
    "import math\n",
    "# Given data\n",
    "v=3;# ft/sec\n",
    "s=4;# ft\n",
    "d_C=48;# inch\n",
    "d_B=36;# inch\n",
    "d_A=12;# inch\n",
    "r_A=d_A/2;# inch\n",
    "r_C=d_C/2;# inch\n",
    "r_B=d_B/2;# inch\n",
    "\n",
    "# Calculation\n",
    "# (a)\n",
    "a=v**2/(2*s);# ft/sec**2\n",
    "a_t=a;# ft/sec**2\n",
    "a_n=v**2/(r_C/12);# ft/sec**2\n",
    "a_C=math.sqrt(a_n**2+a_t**2);# ft/sec**2\n",
    "# (b)\n",
    "omega_B=v/(r_C/12);# rad/sec\n",
    "alpha_B=a_t/(r_C/12);# rad/sec**2\n",
    "omega_A=(r_B/r_A)*omega_B;# rad/sec CW\n",
    "alpha_A=(r_B/r_A)*alpha_B;# rad/sec**2 CW\n",
    "print\"\\n(a)The acceleration of point C on the cable in contact with the drum,a_C=%1.2f ft/sec**2 \\n(b)The angular velocity and angular accelerationof the pinion A,omega_A=%1.1f rad/sec CW and alpha_A=%1.3f rad/sec**2 CW\"%(a_C,omega_A,alpha_A);\n"
   ]
  },
  {
   "cell_type": "markdown",
   "metadata": {
    "collapsed": true
   },
   "source": [
    "## SAMPLE PROBLEM 5/3,PAGE NUMBER:332"
   ]
  },
  {
   "cell_type": "code",
   "execution_count": null,
   "metadata": {
    "collapsed": false
   },
   "outputs": [],
   "source": [
    "import math\n",
    "from numpy.linalg import norm\n",
    "# Given data\n",
    "alpha=4;# rad/s**2\n",
    "omega=-2;# rad/s\n",
    "x=0.4;# m\n",
    "y=0.3;# m\n",
    "\n",
    "# Calculation\n",
    "# Using the right-hand rule gives\n",
    "# omega=-2k rad/s and alpha=+4k rad/s**2\n",
    "r=[x,y];# m\n",
    "v=[-omega*r[1],omega*r[0]];# (i,j) (k*i=j)(k*j=-i) m/s\n",
    "a_n=[-omega*v[1],omega*v[0]];# m/s**2\n",
    "a_t=[-alpha*r[1],alpha*r[0]];# m/s**2\n",
    "a=a_n+a_t;# m/s**2\n",
    "print\"\\nThe vector expression for the velocity,v=%0.1fi+(%0.1f)j m/s \\nThe vector expression for the acceleration of point A,a=%2.1fi+%0.1fj m/s**2\"%(v[0],v[1],a[0],a[1]);\n",
    "v=norm(v);# m/s\n",
    "a=norm(a);# m/s**2\n"
   ]
  },
  {
   "cell_type": "markdown",
   "metadata": {
    "collapsed": true
   },
   "source": [
    "## SAMPLE PROBLEM 5/5,PAGE NUMBER:340"
   ]
  },
  {
   "cell_type": "code",
   "execution_count": null,
   "metadata": {
    "collapsed": false
   },
   "outputs": [],
   "source": [
    "import math\n",
    "# Given data\n",
    "r_1=4;# inch\n",
    "r_2=4;# inch\n",
    "# Case(a)\n",
    "# Pulley 1:\n",
    "omega_1a=0;# rad/sec\n",
    "omega_dot=0;# rad/sec\n",
    "alpha_1a=omega_dot;\n",
    "# Pulley 2:\n",
    "omega_2a=2;# rad/sec\n",
    "alpha_2a=-3;# rad/sec**2\n",
    "# Case(b)\n",
    "# Pulley 1:\n",
    "omega_1b=1;# rad/sec\n",
    "alpha_1b=4;# rad/sec**2\n",
    "# Pulley 2:\n",
    "omega_2b=2;# rad/sec\n",
    "alpha_2b=-2;# rad/sec**2\n",
    "ABbar=12;# inch\n",
    "AObar=4;# inch\n",
    "\n",
    "# Calculation\n",
    "# Case (a)\n",
    "v_D=r_2*omega_2a;# in/sec\n",
    "a_D=r_2*alpha_2a;# in/sec\n",
    "omega=v_D*ABbar**-1;# rad/sec\n",
    "alpha=a_D/ABbar;# in/sec**2\n",
    "v_O=AObar*omega;# rad/sec (CCW)\n",
    "a_O=AObar*alpha;# rad/sec**2 (CW)\n",
    "print\"\\n(a)omega=%0.3f rad/sec (CCW)\\n   alpha=%1.0f rad/sec**2 (CW) \\n   v_O=%1.3f in/sec \\n   a_O=%1.0f in/sec**2\"%(omega,alpha,v_O,a_O);\n",
    "# Case (b)\n",
    "v_C=r_1*omega_1b;# in/sec\n",
    "v_D=r_2*omega_2b;# in/sec\n",
    "a_C=r_1*alpha_1b;# in/sec**2\n",
    "a_D=r_2*alpha_2b;# in/sec**2\n",
    "omega=(v_D-v_C)*ABbar**-1;# rad/sec (CCW)\n",
    "alpha=(a_D-a_C)/ABbar;# rad/sec**2 (CW)\n",
    "v_O=v_C+(AObar*omega);# in/sec\n",
    "a_O=a_C+(AObar*alpha);# in/sec\n",
    "print\"\\n(b)omega=%0.3f rad/sec (CCW)\\n   alpha=%1.0f rad/sec**2 (CW) \\n   v_O=%1.3f in/sec \\n   a_O=%1.0f in/sec**2\"%(omega,alpha,v_O,a_O);\n"
   ]
  },
  {
   "cell_type": "markdown",
   "metadata": {
    "collapsed": true
   },
   "source": [
    "## SAMPLE PROBLEM 5/6,PAGE NUMBER:341"
   ]
  },
  {
   "cell_type": "code",
   "execution_count": null,
   "metadata": {
    "collapsed": false
   },
   "outputs": [],
   "source": [
    "import math\n",
    "# Given data\n",
    "v_A=0.3;# m/s\n",
    "b=0.2;# m\n",
    "theta=30;# degree\n",
    "\n",
    "# Calculation\n",
    "v_B=-v_A*math.tan(theta*math.pi/180);# m/s\n",
    "a_B=-((v_A**2)/b)*(math.acos(theta*math.pi/180))**3;# m/s**2\n",
    "omega=(v_A/b)*math.acos(theta*math.pi/180);# rad/s\n",
    "alpha=((v_A**2)/b**2)*(math.acos(theta*math.pi/180))**2*math.tan(theta*math.pi/180);# rad/s**2\n",
    "print\"\\nThe velocity of the center of the roller B in the horizontal guide,v_B=%1.4f m/s \\nThe acceleration of the center of the roller B in the horizontal guide,a_B=%0.3f m/s**2 \\nThe angular velocity of edge CB,omega=%1.3f rad/s \\nThe angular acceleration of edge CB,alpha=%1.3f rad/sec**2\"%(v_B,a_B,omega,alpha);\n"
   ]
  },
  {
   "cell_type": "markdown",
   "metadata": {
    "collapsed": true
   },
   "source": [
    "## SAMPLE PROBLEM 5/7,PAGE NUMBER:351"
   ]
  },
  {
   "cell_type": "code",
   "execution_count": null,
   "metadata": {
    "collapsed": false
   },
   "outputs": [],
   "source": [
    "import math\n",
    "from numpy.linalg import det,norm\n",
    "# Given data\n",
    "r=0.300;# m\n",
    "v_O=3;# m/s\n",
    "theta=30;# degree\n",
    "r_0=0.200;# m\n",
    "ACbar=0.436;# m\n",
    "OCbar=0.300;# m\n",
    "\n",
    "# Calculation\n",
    "# Solution I (Scalar-Geometric)\n",
    "omega=v_O/r;# rad/s\n",
    "v_AO=r_0*omega;# m/s\n",
    "v_A=math.sqrt(v_O**2+v_AO**2+(2*v_O*v_AO*math.cos(theta*math.pi/180)));# m/s\n",
    "v_AC=(ACbar/OCbar)*v_O;# m/s\n",
    "v_A=v_AC;# m/s\n",
    "print\"\\nThe velocity of point A on the wheel,v_A=%1.2f m/s\"%v_A;\n",
    "# Solution II (Vector)\n",
    "omega=[0,0,-omega];# rad/s\n",
    "r_0=[(r_0*-math.cos(theta*math.pi/180)),(r_0*math.sin(theta*math.pi/180)),0];# m\n",
    "v_O=[v_O,0,0];# m/s\n",
    "v_AO1=det([(omega[1],omega[2]),(r_0[1],r_0[2])]);# m/s\n",
    "v_AO2=-det([(omega[0],omega[2]),(r_0[0],r_0[2])]);# m/s\n",
    "v_AO3=det([(omega[0],omega[1]),(r_0[0],r_0[1])]);# m/s\n",
    "v_AO=[v_AO1,v_AO2,v_AO3];# m/s\n",
    "v_A=v_O+v_AO;# m/s\n",
    "print\"\\nThe velocity of point A on the wheel,v_A=%1.0fi+%1.3fj m/s\"%(v_A[0],v_A[1]);\n",
    "v_A=norm(v_A);# m/s\n",
    "\n"
   ]
  },
  {
   "cell_type": "markdown",
   "metadata": {
    "collapsed": true
   },
   "source": [
    "## SAMPLE PROBLEM 5/8,PAGE NUMBER:352"
   ]
  },
  {
   "cell_type": "code",
   "execution_count": null,
   "metadata": {
    "collapsed": false
   },
   "outputs": [],
   "source": [
    "import math\n",
    "# Given data\n",
    "OCbar=0.250;# m\n",
    "omega=2;# rad/s\n",
    "OAbar=0.100;# m\n",
    "OBbar=0.050;# m\n",
    "ABbar=0.075;# m\n",
    "\n",
    "# Calculation\n",
    "# Solution I (Vector)\n",
    "r_A=[0,0.100,0];# (i,j,k) m\n",
    "r_B=[-0.75,0,0];# (i,j,k) m\n",
    "r_AB=[-0.175,0.50,0];# (i,j,k) m\n",
    "# omega_OA*r=(omega_CB*r_B)+(omega_AB*r_AB);\n",
    "# omega_OA=omega_OA*k\n",
    "# omega_CB=2k\n",
    "# omega_AB=omega_ABk\n",
    "# Matching coefficients of the respective i- and j-terms gives\n",
    "omega_AB=-(25*6)*(25*7)**-1;# rad/s\n",
    "omega_OA=(50*omega_AB)/100;# rad/s\n",
    "print\"\\n(I)The angular velocity of OA,omega_OA=%0.3f rad/s \\n   The angular velocity of AB,omega_AB=%0.3f rad/s\"%(omega_OA,omega_AB);\n",
    "# Solution II (Scalar-Geometric)\n",
    "r_A=0.100;# m\n",
    "r_B=0.075;# m\n",
    "v_B=r_B*omega;# m/s\n",
    "tantheta=(OAbar-OBbar)/(OCbar-r_B);\n",
    "# v_AB=v_B/ cos(theta);\n",
    "# ABbar= (OCbar-r_AB)/ cos(theta);\n",
    "v_A=v_B*tantheta;# m/s\n",
    "omega_AB=(v_B)/(OCbar-r_B);# rad/s CW\n",
    "omega_OA=v_A/OAbar;# rad/s CW\n",
    "print\"\\n(II)The angular velocity of OA,omega_OA=%0.3f rad/s \\n    The angular velocity of AB,omega_AB=%0.3f rad/s\"%(omega_OA,omega_AB);\n"
   ]
  },
  {
   "cell_type": "markdown",
   "metadata": {
    "collapsed": true
   },
   "source": [
    "## SAMPLE PROBLEM 5/9,PAGE NUMBER:353"
   ]
  },
  {
   "cell_type": "code",
   "execution_count": null,
   "metadata": {
    "collapsed": false
   },
   "outputs": [],
   "source": [
    "import math\n",
    "# Given data\n",
    "n=1500;# rev/min\n",
    "theta=60;# degree\n",
    "r=5;# inch\n",
    "d_AG=10;# The distance from A to G in inch\n",
    "d_GB=4;# The distance from G to B in inch\n",
    "d_AB=14;# The distance from A to B in inch\n",
    "\n",
    "# Calculation\n",
    "v_B=(r*12**-1)*((2*math.pi*n)/60);# ft/sec\n",
    "# From the law of sines,\n",
    "beta=math.asin(r/(d_AB/math.sin(theta*math.pi/180)));# degree\n",
    "theta_3=30;# degree\n",
    "theta_1=90-beta;# degree\n",
    "theta_2=180-theta_3-theta_1;# degree\n",
    "v_A=(v_B*math.sin(theta_2*math.pi/180))/math.sin(theta_1*math.pi/180);# ft/sec\n",
    "v_AB=(v_B*math.sin(theta_3*math.pi/180))/math.sin(theta_1*math.pi/180);# ft/sec\n",
    "ABbar=d_AB/12;# ft\n",
    "omega_AB=v_AB/ABbar;# rad/sec\n",
    "GBbar=d_GB/12;# ft\n",
    "v_GB=(GBbar/ABbar)*v_AB;# ft/sec\n",
    "# From velocity diagram\n",
    "v_G=64.1;# ft/sec\n",
    "print\"\\nThe velocity of the piston A,v_A=%2.1f ft/sec \\nThe velocity of point G on the connecting rod,v_G=%2.1f ft/sec \\nThe angular velocity of the connecting rod,omega_AB=%2.1f rad/sec\"%(v_A,v_G,omega_AB);\n",
    "\n"
   ]
  },
  {
   "cell_type": "markdown",
   "metadata": {
    "collapsed": true
   },
   "source": [
    "## SAMPLE PROBLEM 5/10,PAGE NUMBER:354"
   ]
  },
  {
   "cell_type": "code",
   "execution_count": null,
   "metadata": {
    "collapsed": false
   },
   "outputs": [],
   "source": [
    "\n",
    "import math\n",
    "# Given data\n",
    "v_B=0.8;# The velocity in m/s\n",
    "theta=30;# degree\n",
    "d_co=18;# The distance in inch\n",
    "\n",
    "# Calculation\n",
    "v_A=v_B*math.cos(theta*math.pi/180);# ft/sec\n",
    "OAbar=(d_co/12)/(math.cos(theta*math.pi/180));# ft\n",
    "omega=v_A/(OAbar);# rad/sec CCW\n",
    "print\"\\nThe angular velocity of the slotted arm,omega=%0.3f rad/sec CCW\"%omega;\n"
   ]
  },
  {
   "cell_type": "markdown",
   "metadata": {
    "collapsed": true
   },
   "source": [
    "## SAMPLE PROBLEM 5/11,PAGE NUMBER:364"
   ]
  },
  {
   "cell_type": "code",
   "execution_count": null,
   "metadata": {
    "collapsed": false
   },
   "outputs": [],
   "source": [
    "import math\n",
    "# Given data\n",
    "r=0.300;# m\n",
    "r_0=0.200;# m\n",
    "v_o=3;# m/s\n",
    "OCbar=r;# m\n",
    "theta=120;# degree\n",
    "\n",
    "# Calculation\n",
    "omega=v_o/OCbar;# rad/s\n",
    "ACbar=math.sqrt(r**2+r_0**2-(2*r*r_0*math.cos(theta*math.pi/180)));# m\n",
    "v_A=ACbar*omega;# m/s\n",
    "print\"\\nThe velocity of point A for the position indicated,v_A=%1.2f m/s\"%v_A;\n"
   ]
  },
  {
   "cell_type": "markdown",
   "metadata": {
    "collapsed": true
   },
   "source": [
    "## SAMPLE PROBLEM 5/12,PAGE NUMBER:364"
   ]
  },
  {
   "cell_type": "code",
   "execution_count": null,
   "metadata": {
    "collapsed": false
   },
   "outputs": [],
   "source": [
    "import math\n",
    "# Given data\n",
    "omega_OB=10;# rad/sec\n",
    "theta=45;# degree\n",
    "OBbar=(6*math.sqrt(2))/12;# ft\n",
    "BCbar=(14*math.sqrt(2))/12;# ft\n",
    "ACbar=14/12;# ft\n",
    "CDbar=15.23/12;# ft\n",
    "\n",
    "# Calculation\n",
    "omega_BC=(OBbar*omega_OB)/BCbar;# rad/sec CCW\n",
    "v_A=ACbar*omega_BC;# ft/sec\n",
    "v_D=CDbar*omega_BC;# ft/sec\n",
    "print\"\\nThe velocity of A,v_A=%1.2f ft/sec \\nThe velocity of D,v_D=%1.2f ft/sec \\nThe angular velocity of link AB,omega_AB=%1.2f rad/sec CCW\"%(v_A,v_D,omega_BC);\n"
   ]
  },
  {
   "cell_type": "markdown",
   "metadata": {
    "collapsed": true
   },
   "source": [
    "## SAMPLE PROBLEM 5/14,PAGE NUMBER:375"
   ]
  },
  {
   "cell_type": "code",
   "execution_count": null,
   "metadata": {
    "collapsed": false
   },
   "outputs": [],
   "source": [
    "import math\n",
    "from scipy.optimize import fsolve\n",
    "# Given data\n",
    "omega_CB=2;# rad/s\n",
    "r_A=100;# mm\n",
    "r_B=75;# mm\n",
    "OCbar=250;# mm\n",
    "\n",
    "# Calculation\n",
    "omega_AB=-6/7;# rad/s\n",
    "omega_OA=-3/7;# rad/s\n",
    "# The acceleration equation is a_A=a_B+(a_A/B)_n+(a_A/B)_t;\n",
    "# a_A=(alpha_OA*r_A)+(omega_OA*(omega_OA*r_A))\n",
    "# a_A=(-100*alpha_OA)i-((100)*(3/7)**2)j mm/s**2\n",
    "# a_B=(alpha_CB*r_B)+(omega_CB*(omega_CB*r_B)) mm/s**2\n",
    "# a_B=300i mm/s**2\n",
    "# (a_A/B)n=omega_AB*(omega_AB*r_AB)\n",
    "# (a_A/B)n=(6/7)**2*(175i-50j) mm/s**2\n",
    "# (a_A/B)t= alpha_AB*r_A/B\n",
    "# (a_A/B)t=(-50*alpha_AB)i-(175*alpha_AB)j mm/s**2\n",
    "# Equate separately the coefficients of the i-terms and the coefficients of the j-terms to give\n",
    "def eqn(p):\n",
    "    alpha_OA,alpha_AB=p\n",
    "    X1=(-100*alpha_OA)-(429-(50*alpha_AB));\n",
    "    X2=(-18.37)-(-36.7-(175*alpha_AB));\n",
    "    return(X1,X2)\n",
    "alpha_OA,alpha_AB=fsolve(eqn,(1,1));\n",
    "print\"\\nThe angular acceleration of link AB,alpha_AB=%0.4f rad/s**2 \\nThe angular acceleration of link OA,alpha_OA=%1.2f rad/s**2\"%(alpha_AB,alpha_OA);\n"
   ]
  },
  {
   "cell_type": "markdown",
   "metadata": {
    "collapsed": true
   },
   "source": [
    "## SAMPLE PROBLEM 5/15,PAGE NUMBER:376"
   ]
  },
  {
   "cell_type": "code",
   "execution_count": null,
   "metadata": {
    "collapsed": false
   },
   "outputs": [],
   "source": [
    "import math\n",
    "from scipy.optimize import fsolve\n",
    "# Given data\n",
    "N=1500;# rev/min\n",
    "theta_1=60*math.pi/180;# degree\n",
    "r=5*12**-1;# ft\n",
    "ABbar=14*12**-1;# ft\n",
    "\n",
    "# Calculation\n",
    "omega=(2*math.pi*N)/60;# rad/s\n",
    "a_B=r*omega**2;# ft/sec**2\n",
    "omega_AB=29.5;# rad/sec\n",
    "a_AB_n=ABbar*omega_AB**2;\n",
    "# If we adopt an algebraic solution using the geometry of the acceleration polygon, we first compute the angle between AB and the horizontal. With the law of sines, this angle becomes 18.02 degree.\n",
    "theta_2=18.02*math.pi/180;# degreB\n",
    "def equations(p):\n",
    "    a_AB,a_A=p;\n",
    "    return((((a_B*math.cos(theta_1)+(a_AB_n*math.cos(theta_2)-(a_AB*math.sin(theta_2)))-a_A),(((a_B*math.sin(theta_1))-(a_AB_n*math.sin(theta_2))-(a_AB*math.cos(theta_2)))-0))));\n",
    "a_AB,a_A=fsolve(equations,(1,1))\n",
    "r=ABbar;# ft\n",
    "alpha_AB=a_AB/r;# rad/sec**2\n",
    "print\"\\nThe acceleration of the piston A,a_A=%4.0f ft/sec**2 \\nThe angular acceleration of the connecting rod AB,alpha_AB=%4.0f rad/sec**2\"%(a_A,alpha_AB);\n"
   ]
  },
  {
   "cell_type": "markdown",
   "metadata": {
    "collapsed": true
   },
   "source": [
    "## SAMPLE PROBLEM 5/16,PAGE NUMBER:391"
   ]
  },
  {
   "cell_type": "code",
   "execution_count": null,
   "metadata": {
    "collapsed": false
   },
   "outputs": [],
   "source": [
    "\n",
    "import math\n",
    "from numpy.linalg import norm\n",
    "# Given data\n",
    "omega=4;# rad/sec\n",
    "omegadot=10;# rad/sec**2\n",
    "r=6;# in\n",
    "rdot=5;# in/sec\n",
    "rdotdot=81;# in/sec**2\n",
    "\n",
    "# Calculation\n",
    "# Velocity\n",
    "v_rel=rdot;# (k) in/sec\n",
    "v_A=[v_rel,(omega*r)];# in/sec\n",
    "print\"\\nv_A=%1.0fi+%2.0fj in/sec\"%(v_A[0],v_A[1]);\n",
    "v_A=norm(v_A);# in/sec\n",
    "print\"\\nv_A=%2.1f in/sec\"%v_A;\n",
    "# Acceleration\n",
    "# Assume O=omega*(omega*r);O_1=omegadot*r;O_2=(2*omega*v_rel);\n",
    "O=-(omega*(omega*r));# in/sec**2\n",
    "O_1=-omegadot*r;# in/sec**2\n",
    "O_2=2*(omega)*(v_rel);# in/sec**2\n",
    "a_rel=rdotdot;# in/sec**2\n",
    "a_A=[(a_rel+O),(O_2+O_1)];# in/sec**2\n",
    "print\"\\na_A=%2.0fi+(%2.0f)j in/sec**2\"%(a_A[0],a_A[1]);\n",
    "a_A=norm(a_A);# in/sec**2\n",
    "print\"\\na_A=%2.0f in/sec\"%a_A;\n"
   ]
  },
  {
   "cell_type": "markdown",
   "metadata": {
    "collapsed": true
   },
   "source": [
    "## SAMPLE PROBLEM 5/17,PAGE NUMBER:392"
   ]
  },
  {
   "cell_type": "code",
   "execution_count": null,
   "metadata": {
    "collapsed": false
   },
   "outputs": [],
   "source": [
    "import math\n",
    "# Given data\n",
    "omega=2;# rad/sec\n",
    "theta=45;# degree\n",
    "OCbar=450;# mm\n",
    "CAbar=225;# mm\n",
    "\n",
    "# Calculation\n",
    "# v_A=omega_CA*r_CA;\n",
    "# v_A=(225/math.sqrt(2))omega_CA*(i-j)\n",
    "OPbar=math.sqrt((OCbar-CAbar)**2+(CAbar)**2);# mm\n",
    "r=OPbar;# mm\n",
    "omega=omega;#(k) rad/s\n",
    "O=omega*r;# mm/s\n",
    "# Substitution into the relative-velocity equation gives\n",
    "# (225/math.sqrt(2))omega_CA*(i-j)=(450*math.sqrt(2)j+xdoti)\n",
    "# Equating separately the coefficients of the i and j terms yields\n",
    "omega_CA=O/(225/math.sqrt(2));# mm/s\n",
    "xdot=(225/math.sqrt(2))*omega_CA;# mm/s\n",
    "v_rel=xdot;# mm/s\n",
    "v_A=CAbar*abs(omega_CA);# mm/s\n",
    "v_P=OPbar*omega;# mm/s\n",
    "v_AP=abs(v_rel);# mm/s\n",
    "omega_AC=v_A/CAbar;# rad/s\n",
    "print\"\\nThe actual angular velocity of CA,omega_CA=%1.0f rad/s \\nThe velocity of A relative to the rotating slot in OD,xdot=v_rel=%3.2f mm/s \\nThe velocity of pin A,v_A=%3.0f mm/s\"%(omega_CA,xdot,v_A);\n"
   ]
  },
  {
   "cell_type": "markdown",
   "metadata": {
    "collapsed": true
   },
   "source": [
    "## SAMPLE PROBLEM 5/18,PAGE NUMBER:393"
   ]
  },
  {
   "cell_type": "code",
   "execution_count": null,
   "metadata": {
    "collapsed": false
   },
   "outputs": [],
   "source": [
    "import math\n",
    "# Given data\n",
    "omega=2;# rad/s\n",
    "theta=45;# degree\n",
    "OCbar=450;# mm\n",
    "CAbar=225;# mm\n",
    "\n",
    "# Calculation\n",
    "# a_A=(omegadot*r)+(omega*(omega*r))+(2*omega*v_rel)+a_rel\n",
    "# a_A=(omegadot_CA*r_CA)+omega_CA*(omega_CA*r_CA)\n",
    "# a_A=[omegadot_CA*(225/math.sqrt(2))*(-i-j)]-[4k*(-4k*225/math.sqrt(2))*(-i-j)]\n",
    "omega=2;# rad/s\n",
    "r=CAbar*math.sqrt(2);# mm\n",
    "omega_CA=-4;# rad/s\n",
    "v_rel=(-OCbar*math.sqrt(2));# mm/s\n",
    "# Assume O=omega*(omega*r);O_1=omegadot*r;O_2=(2*omega*v_rel);\n",
    "O_1=0;# mm/s**2\n",
    "O_2=omega*(omega*r);# mm/s**2\n",
    "O_2=2*omega*v_rel;# mm/s**2\n",
    "# a_rel=xdotdot;\n",
    "# [(1/math.sqrt(2))*(225omegadot_CA+3600)i]+[(1/math.sqrt(2))*(-225omegadot_CA+3600)j] =(900*math.sqrt(2))i-(1800*math.sqrt(2))j+xdotdoti\n",
    "omegadot_CA=(((-1800*math.sqrt(2))*math.sqrt(2))-3600)/-225;# rad/s**2\n",
    "xdotdot=(((225*omegadot_CA)+3600)/math.sqrt(2))-(-900*math.sqrt(2));# mm/s**2\n",
    "print\"\\nThe angular acceleration of AC,omega_CA=%2.0f rad/s \\nThe acceleration of A relative to the rotating slot in OD,xdotdot=%4.0f mm/s\"%(omegadot_CA,xdotdot);\n"
   ]
  },
  {
   "cell_type": "markdown",
   "metadata": {
    "collapsed": true
   },
   "source": [
    "## SAMPLE PROBLEM 5/19,PAGE NUMBER:394"
   ]
  },
  {
   "cell_type": "code",
   "execution_count": null,
   "metadata": {
    "collapsed": false
   },
   "outputs": [],
   "source": [
    "\n",
    "import math\n",
    "# Given data\n",
    "v_B=150;# (i) m/s\n",
    "v_A=100;# (i) m/s\n",
    "rho=400;# m\n",
    "r=-100;# m\n",
    "\n",
    "# Calculation\n",
    "omega=v_B*rho**-1;# (k) rad/s\n",
    "r_AB=r;# (j) m\n",
    "v_rel=v_A-(v_B+(-(omega*r)));# (i) m/s\n",
    "a_A=0;# m/s**2\n",
    "a_B=(v_B)**2*rho**-1;# m/s**2\n",
    "omegadot=0;# rad/s\n",
    "a_rel=(a_A-((a_B)+(omegadot*r)+(omega*(omega*r))+(2*(omega*v_rel))));# m/s**2\n",
    "print\"\\nThe instantaneous velocity,v_rel=%2.1fi m/s \\nThe instantaneous acceleration,a=%1.2fk m/s**2\"%(v_rel,a_rel);\n",
    "v_AB=v_A-v_B;# (i) m/s\n",
    "a_AB=a_A-a_B;# (j) m/s**2\n"
   ]
  }
 ],
 "metadata": {
  "kernelspec": {
   "display_name": "Python 2",
   "language": "python",
   "name": "python2"
  },
  "language_info": {
   "codemirror_mode": {
    "name": "ipython",
    "version": 2
   },
   "file_extension": ".py",
   "mimetype": "text/x-python",
   "name": "python",
   "nbconvert_exporter": "python",
   "pygments_lexer": "ipython2",
   "version": "2.7.11"
  }
 },
 "nbformat": 4,
 "nbformat_minor": 0
}
