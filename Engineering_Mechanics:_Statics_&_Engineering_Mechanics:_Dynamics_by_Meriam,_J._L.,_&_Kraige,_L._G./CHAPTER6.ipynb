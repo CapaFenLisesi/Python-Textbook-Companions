{
 "cells": [
  {
   "cell_type": "markdown",
   "metadata": {},
   "source": [
    "# CHAPTER 6:PLANE KINETICS OF RIGID BODIES"
   ]
  },
  {
   "cell_type": "markdown",
   "metadata": {
    "collapsed": true
   },
   "source": [
    "## SAMPLE PROBLEM 6/1,PAGE NUMBER:422"
   ]
  },
  {
   "cell_type": "code",
   "execution_count": null,
   "metadata": {
    "collapsed": false,
    "scrolled": true
   },
   "outputs": [],
   "source": [
    "import math\n",
    "from scipy.optimize import fsolve\n",
    "# Given data\n",
    "W=3220;# lb\n",
    "v=44;# m/s (30 mi/hr)\n",
    "s=200;# ft\n",
    "mu=0.8;# The effective coefficient of friction between the tires and the road\n",
    "g=32.2;# The acceleration due to gravity in ft/sec**2\n",
    "d_G=24;# inch\n",
    "d_BG=60;# inch\n",
    "d_GA=60;# inch\n",
    "\n",
    "# Calculation\n",
    "abar=v**2*(2*s)**-1;# ft/sec**2\n",
    "theta=math.atan((1*10**-1))*180/math.pi;# degree\n",
    "W_h=W*math.cos(theta*math.pi/180);# lb\n",
    "W_v=W*math.sin(theta*math.pi/180);# lb\n",
    "mabar=(W/g)*abar;# lb\n",
    "# SigmaF_x = m*abar_x\n",
    "F=mabar+W_v;# lb\n",
    "def equations(p):\n",
    "    N_1,N_2=p\n",
    "    return(N_1+N_2-W_h,((d_GA*N_1+(F*d_G)-(N_2*d_BG))))\n",
    "N_1,N_2=fsolve(equations,(10,10))\n",
    "FbyN_2=F/N_2;\n",
    "print\"\\nThe friction force under the rear driving wheels,F=%3.0f lb \\nThe normal force under each pair of wheels,N_1=%4.0f lb & N_2=%4.0f lb\"%(F,N_1,N_2);"
   ]
  },
  {
   "cell_type": "markdown",
   "metadata": {
    "collapsed": true
   },
   "source": [
    "## SAMPLE PROBLEM 6/2,PAGE NUMBER:423"
   ]
  },
  {
   "cell_type": "code",
   "execution_count": null,
   "metadata": {
    "collapsed": false
   },
   "outputs": [],
   "source": [
    "import math\n",
    "#Given data\n",
    "m=150;#kg\n",
    "M=5;#kN\n",
    "theta=30;#degree\n",
    "ACbar=1.5;#m\n",
    "BDbar=1.5;#m\n",
    "ABbar=1.8;#m\n",
    "g=9.81;#The acceleration due to gravity in m/s**2\n",
    "\n",
    "#Calculation\n",
    "#SigmaM_C=0\n",
    "A_t=M/ACbar;#kN\n",
    "#SigmaF_t=m*abar_t\n",
    "#alpha=14.81-6.54*cos(theta);\n",
    "wsquare_30=(29.6*theta*math.pi/180)-(13.08*math.sin(theta*math.pi/180));#(rad/s)**2\n",
    "alpha_30=14.81-(6.54*math.cos(theta*math.pi/180));#rad/s**2\n",
    "A_n=(m*1000**-1)*ACbar*wsquare_30;#kN\n",
    "A_t=(m*1000**-1)*BDbar*alpha_30;#kN\n",
    "#SigmaM_A=m*abar*d\n",
    "B=((A_n*(ABbar-0.6)*math.cos(theta*math.pi/180))+(A_t*0.6))/(ABbar*math.cos(theta*math.pi/180));#kN\n",
    "print\"\\nThe force in the link DB,B=%1.2f kN\"%B;\n"
   ]
  },
  {
   "cell_type": "markdown",
   "metadata": {
    "collapsed": true
   },
   "source": [
    "## SAMPLE PROBLEM 6/3,PAGE NUMBER:432"
   ]
  },
  {
   "cell_type": "code",
   "execution_count": null,
   "metadata": {
    "collapsed": false
   },
   "outputs": [],
   "source": [
    "import math\n",
    "from scipy.optimize import fsolve\n",
    "# Given data\n",
    "W_b=644;# lb\n",
    "r_i=12;# inch\n",
    "r_o=24;# inch\n",
    "theta=45;# degree\n",
    "P=400;# lb\n",
    "k_o=18;# inch\n",
    "W=322;# lb\n",
    "g=32.2;# lb\n",
    "\n",
    "# Calculation\n",
    "# Solution 1\n",
    "# I=k**2*m\n",
    "k=k_o*12**-1;# ft**2\n",
    "Ibar=k**2*(W/g);# lb-ft-sec**2\n",
    "def equations(p):\n",
    "    T,alpha,a=p\n",
    "# SigmaM_G=Ibar*alpha\n",
    "# SigmaF_y=m*a_y\n",
    "# a_t=r*a;\n",
    "    return((((P*(r_o/12))-(T*(r_i/12)))-(Ibar*alpha)),((T-W_b)-((W_b/g)*a)),(a-((r_i/12)*alpha)))\n",
    "T,alpha,a=fsolve(equations,(100,1,1))\n",
    "# SigmaF_x=0\n",
    "O_x=P*math.cos(theta*math.pi/180);# lb\n",
    "# SigmaF_y=0\n",
    "O_y=W+T+(P*math.sin(theta*math.pi/180));# lb\n",
    "O=math.sqrt(O_x**2+O_y**2);# lb\n",
    "print\"\\nSolution I:T=%3.0f lb,alpha=%1.2f rad/sec**2,a=%1.2f ft/sec**2,O=%4.0f lb\"%(T,alpha,a,O);\n",
    "# Solution 2\n",
    "def equations(p):\n",
    "    alpha,a=p\n",
    "# SigmaM_o=(Ibar*alpha)+(m*abar*d)\n",
    "# a_t=r*a;\n",
    "    return((((P*(r_o/12))-(W_b*(r_i/12)))-((Ibar*alpha)+((W_b/g)*a*(r_i/12)))),(a-((r_i/12)*alpha)))\n",
    "alpha,a=fsolve(equations,(1,1))\n",
    "# SigmaF_y=Sigmam*(a_ybar)\n",
    "O_y=(W+W_b+(P*math.sin(theta*math.pi/180)))+(((W/g)*(0))+((W_b/g)*alpha));# lb\n",
    "# SigmaF_x=Sigmam*(a_xbar)\n",
    "O_x=P*math.sin(theta*math.pi/180);# lb\n"
   ]
  },
  {
   "cell_type": "markdown",
   "metadata": {
    "collapsed": true
   },
   "source": [
    "## SAMPLE PROBLEM 6/4,PAGE NUMBER:433"
   ]
  },
  {
   "cell_type": "code",
   "execution_count": null,
   "metadata": {
    "collapsed": false
   },
   "outputs": [],
   "source": [
    "import math\n",
    "# Given data\n",
    "m=7.5;# kg\n",
    "rbar=0.250;# m\n",
    "k_o=0.295;# m\n",
    "theta_1=0;# degree\n",
    "theta_2=60;# degree\n",
    "g=9.81;# The acceleration due to gravity in m/s**2\n",
    "\n",
    "# Calculation\n",
    "# SigmaM_o=I_o*alpha;\n",
    "# alpha=28.2*cos(theta);\n",
    "wsquare=48.8;# (rad/s)**2\n",
    "# SigmaF_n=m*rbar*omega**2;\n",
    "O_n=(m*rbar*wsquare)+(m*g*math.sin(theta_2*math.pi/180));# N\n",
    "# SigmaF_t=m*rbar*alpha;\n",
    "O_t=(m*g*math.cos(theta_2*math.pi/180))-(m*rbar*28.2*math.cos(theta_2*math.pi/180));# N\n",
    "O=math.sqrt(O_n**2+O_t**2);# N\n",
    "q=k_o**2/(rbar);# The distance in m\n",
    "# SigmaM_Q=0\n",
    "O_t=(m*g*math.cos(theta_2*math.pi/180)*(q-rbar))/q;# N\n",
    "print\"\\nThe total force supported by the bearing,O=%3.1f N \\nO_t=%2.2f N\"%(O,O_t);\n"
   ]
  },
  {
   "cell_type": "markdown",
   "metadata": {
    "collapsed": true
   },
   "source": [
    "## SAMPLE PROBLEM 6/5,PAGE NUMBER:446"
   ]
  },
  {
   "cell_type": "code",
   "execution_count": null,
   "metadata": {
    "collapsed": false
   },
   "outputs": [],
   "source": [
    "import math\n",
    "# Given data\n",
    "r=6*12**-1;# ft\n",
    "mu_s=0.15;# The coefficients of static friction\n",
    "mu_k=0.12;# The coefficients of kinetic friction\n",
    "theta=20;# degree\n",
    "g=32.2;# The acceleration due to gravity in ft/sec**2\n",
    "x=10;# ft\n",
    "\n",
    "# Calculation\n",
    "# SigmaF_x=m*abar_x----> mg*math.sin(theta*math.pi/180)-F=m*abar\n",
    "# SigmaF_x=m*abar_y----> N-mg*math.cos(theta*math.pi/180)=0\n",
    "# SigmaM_G=Ibar*alpha---> F*r=m*r**2*alpha\n",
    "abar=(g/2)*math.sin(theta*math.pi/180);# ft/sec**2\n",
    "# SigmaM_G=Ibar*alpha+m*abar*d----->mgr*sin(theta)=mr**2*(abar/r)+ m*abar*r\n",
    "# From the above equations,we solve using the coefficients of mg\n",
    "F=math.sin(theta*math.pi/180)-(math.sin(theta*math.pi/180))/2;# N\n",
    "N=math.cos(theta*math.pi/180);# N\n",
    "F_max=mu_s*N;# N\n",
    "F=mu_k*N;# N\n",
    "# SigmaF_x=m*abar_x\n",
    "abar=(math.sin(theta*math.pi/180)-F)*g;# ft/sec**2\n",
    "alpha=(F*g)/r;# rad/sec**2\n",
    "t=math.sqrt((2*x)/abar);# sec\n",
    "print\"\\nThe angular acceleration of the hoop,alpha=%1.2f ft/sec**2 \\nThe time t for the hoop to move a distance of 10 ft down the incline,t=%1.3f sec\"%(alpha,t);\n"
   ]
  },
  {
   "cell_type": "markdown",
   "metadata": {
    "collapsed": true
   },
   "source": [
    "## SAMPLE PROBLEM 6/6,PAGE NUMBER:447"
   ]
  },
  {
   "cell_type": "code",
   "execution_count": null,
   "metadata": {
    "collapsed": false
   },
   "outputs": [],
   "source": [
    "# SAMPLE PROBLEM 6/6\n",
    "import math\n",
    "from scipy.optimize import fsolve\n",
    "# Given data\n",
    "alpha_0=3;# rad/s**2\n",
    "m=70;# kg\n",
    "k=0.250;# The radius of gyration in m\n",
    "mu_s=0.25;# The coefficient of static friction\n",
    "g=9.81;# The acceleration due to gravity in m/s**2\n",
    "DCbar=0.30;# m\n",
    "r_A=0.250;# m\n",
    "r_Bi=0.150;# m\n",
    "r_Bo=0.450;# m\n",
    "\n",
    "# Calculation\n",
    "a_t=r_A*alpha_0;# m/s**2\n",
    "alpha=a_t*DCbar**-1;# rad/s**2\n",
    "abar=r_Bo*alpha;# m/s**2\n",
    "def equations(p):\n",
    "    F,T=p\n",
    "    N=(m*g);# N\n",
    "    # SigmaF_x=m*abar_x\n",
    "    # SigmaM_G=Ibar*alpha\n",
    "    return(((F-T)-(m*-abar)),(((r_Bo*F)-(r_Bi*T))-(m*k**2*alpha)))\n",
    "F,T=fsolve(equations,(10,100))\n",
    "print\"\\nThe tension in the cable,T=%3.1f N \\nThe friction force exerted by the horizontal surface on the spool,F=%2.1f N\"%(T,F);\n",
    "N=(m*g);# N\n",
    "F_max=mu_s*N;# N\n",
    "# If the coefficient of static friction had been 0.1\n",
    "mu_s=0.1;# The coefficient of static friction\n",
    "F=mu_s*(m*g);# N\n",
    "# SigmaM_C=Ibar*alpha + m*abar*r\n",
    "T=((m*(r_A**2)*alpha)+(m*abar*r_Bo))/DCbar;# N\n",
    "print\"\\nThe tension in the cable,T=%3.1f N\"%T;\n"
   ]
  },
  {
   "cell_type": "markdown",
   "metadata": {
    "collapsed": true
   },
   "source": [
    "## SAMPLE PROBLEM 6/7,PAGE NUMBER:448"
   ]
  },
  {
   "cell_type": "code",
   "execution_count": null,
   "metadata": {
    "collapsed": false
   },
   "outputs": [],
   "source": [
    "import math\n",
    "from scipy.optimize import fsolve\n",
    "# Given data\n",
    "W=60;# lb\n",
    "theta=30*math.pi/180;# degree\n",
    "F=30;# lb\n",
    "BGbar=2;# ft\n",
    "AGbar=2;# ft\n",
    "l=4;# ft\n",
    "g=32.2;# The acceleration due to gravity in ft/sec**2\n",
    "\n",
    "# Calculation\n",
    "# abar_x=abar*cos(theta)=1.732*alpha;\n",
    "# abar_y=abar*sin(theta)=1.0*alpha;\n",
    "def equations(p):\n",
    "    A,B,alpha=p\n",
    "    # SigmaM_G=Ibar*alpha;\n",
    "    # SigmaF_x=m*abar_x;\n",
    "    # SigmaF_y=m*abar_y;\n",
    "    return((((F*(2*math.cos(theta)))-(A*(AGbar*math.sin(theta)))+(B*(BGbar*math.cos(theta))))-((1*12**-1)*(W/g)*l**2*alpha)),((F-B)-((W/g)*(2*math.cos(theta)*alpha))),((A-W)-((W/g)*2*math.sin(theta)*alpha)));\n",
    "A,B,alpha=fsolve(equations,(10,10,1))\n",
    "print\"\\nThe forces on the small end rollers ,A=%2.1f lb and B=%2.2f lb \\nThe resulting angular acceleration of the bar,alpha=%1.2f rad/sec**2\"%(A,B,alpha);\n",
    "# Alternative solution\n",
    "# SigmaM_C=(Ibar*alpha)+(Sigma m*abar*d)\n",
    "alpha=((F*(l*math.cos(theta)))-(W*2*math.sin(theta)))/(((1*12**-1)*(W/g)*l**2)+((W/g)*1.732*2*math.cos(theta))+((W/g)*1*2*math.sin(theta)));# rad/sec**2\n",
    "# SigmaF_x=m*abar_x;\n",
    "abar_y=2*alpha*math.sin(theta);# ft\n",
    "A=((W/g)*abar_y)+W;# lb\n",
    "# SigmaF_x=m*abar_x;\n",
    "abar_x=2*alpha*math.cos(theta);# ft\n",
    "B=F-((W/g)*abar_x);# lb\n",
    "print\"\\nAlternative solution: \\nThe forces on the small end rollers ,A=%2.1f lb and B=%2.2f lb \\nThe resulting angular acceleration of the bar,alpha=%1.2f rad/sec**2\"%(A,B,alpha);\n"
   ]
  },
  {
   "cell_type": "markdown",
   "metadata": {
    "collapsed": true
   },
   "source": [
    "## SAMPLE PROBLEM 6/9,PAGE NUMBER:464"
   ]
  },
  {
   "cell_type": "code",
   "execution_count": null,
   "metadata": {
    "collapsed": false
   },
   "outputs": [],
   "source": [
    "import math\n",
    "# Given data\n",
    "F=100;# N\n",
    "m=40;# kg\n",
    "k=0.150;# m\n",
    "theta=15;# degree\n",
    "r_i=0.100;# m\n",
    "r_o=0.200;# m\n",
    "l=3;# The distance in m\n",
    "g=9.81;# The acceleration due to gravity in m/s**2\n",
    "\n",
    "# Calculation\n",
    "W=m*g;# N\n",
    "l=(r_o+r_i)/r_i;# m\n",
    "U_12=(F*((r_o+r_i)/r_i)*l)-((W*math.sin(theta*math.pi/180)*l));# J\n",
    "T_1=0;# J\n",
    "# T_2=((1/2)*m*vbar**2)+((1/2)*Ibar*omega**2);\n",
    "# The work-energy equation gives\n",
    "omega=math.sqrt((T_1+U_12)/((m*(r_i)**2/2)+((m*k**2/2))));# rad/s\n",
    "# Alternatively, the kinetic energy of the wheel may be written\n",
    "# T=(1/2)*I_C*omega**2\n",
    "P_100=F*(r_o+r_i)*omega;# W\n",
    "print\"The power input,P=%3.0f W\"%P_100;\n"
   ]
  },
  {
   "cell_type": "markdown",
   "metadata": {
    "collapsed": true
   },
   "source": [
    "## SAMPLE PROBLEM 6/10,PAGE NUMBER:465"
   ]
  },
  {
   "cell_type": "code",
   "execution_count": null,
   "metadata": {
    "collapsed": false
   },
   "outputs": [],
   "source": [
    "import math\n",
    "# Given data\n",
    "l=4;# ft\n",
    "W=40;# The weight of the slender bar in N\n",
    "theta=30;# degree\n",
    "k=30;# The stiffness of the spring in lb/in\n",
    "ABbar=24;# inch\n",
    "BDbar=24;# inch\n",
    "h=-2;# inch\n",
    "g=32.2;# The acceleration due to gravity in ft/sec**2\n",
    "\n",
    "\n",
    "# Calculation\n",
    "# (a)\n",
    "# T=[[(1/2)*m*v**2]+((1/2)*I_G*omega**2)];\n",
    "# T=1.449*omega**2;\n",
    "T_1=0;# ft-lb\n",
    "U_12=0;# ft-lb\n",
    "V_1=0;# ft-lb\n",
    "V_2=W*((2*math.cos(theta*math.pi/180))-2);# ft-lb\n",
    "# We now substitute into the energy equation and obtain\n",
    "omega=math.sqrt(((T_1+V_1+U_12)-(V_2))/1.449);# rad/sec\n",
    "# (b)\n",
    "x=ABbar-18;# ft\n",
    "V_1=0;# ft-lb\n",
    "V_3=(1/2)*k*(x**2)/12;# ft-lb\n",
    "# T=(1/2)*I_A*omega**2;\n",
    "# T_3=0.828*v_B**2;\n",
    "U_13=0;# ft-lb\n",
    "# The final gravitational potential energy is\n",
    "V_3p=W*h;# ft-lb\n",
    "v_B=math.sqrt(((T_1+V_1+U_13)-(V_3+V_3p))/0.828);# ft-lb\n",
    "print\"\\n(a)The angular velocity of the bar,omega=%1.2f rad/sec \\n(b)The velocity with which B strikes the horizontal surface,v_B=%1.2f ft/sec\"%(omega,v_B);\n"
   ]
  },
  {
   "cell_type": "markdown",
   "metadata": {
    "collapsed": true
   },
   "source": [
    "## SAMPLE PROBLEM 6/11,PAGE NUMBER:466"
   ]
  },
  {
   "cell_type": "code",
   "execution_count": null,
   "metadata": {
    "collapsed": false
   },
   "outputs": [],
   "source": [
    "import math\n",
    "from scipy.optimize import fsolve\n",
    "# Given data\n",
    "m=30;# kg\n",
    "k=0.100;# m\n",
    "m_OB=10;# kg\n",
    "m_c=7;# kg\n",
    "K=30;# kN/m\n",
    "theta=45;# degree\n",
    "l=0.375;# m\n",
    "g=9.81;# m/s**2\n",
    "\n",
    "# Calculation\n",
    "# (a)\n",
    "# T_2=[2*((1/2)*I_G*omega**2]+[(1/2)*m*v**2];\n",
    "# T_2= 6.83*v_B**2;\n",
    "T_1=0;# J\n",
    "l_b=l/math.sqrt(2);# m\n",
    "V_1=(2*m_OB*g*(l_b/2))+(m_c*g*l_b);# J\n",
    "V_2=0;# J\n",
    "U_12=0;# J\n",
    "v_B=math.sqrt(((T_1+V_1+U_12)-(V_2))/6.83);# m/s\n",
    "# (b)\n",
    "T_3=0;# J\n",
    "U_13=0;# J\n",
    "def equations(p):\n",
    "    x=p;\n",
    "    return((T_1+V_1+U_13)-(T_3+((-2*m_OB*g*(x/2))-(m_c*g*x)+(K*10**3*x**2/2))));\n",
    "x=fsolve(equations,(1))\n",
    "x=x*1000;# mm\n",
    "print\"\\n(a)The velocity of the collar as it first strikes the spring,v_B=%1.2f m/s \\n(b)The maximum deformation of the spring,x=%2.1f mm\"%(v_B,x);\n"
   ]
  },
  {
   "cell_type": "markdown",
   "metadata": {
    "collapsed": true
   },
   "source": [
    "## SAMPLE PROBLEM 6/12,PAGE NUMBER:479"
   ]
  },
  {
   "cell_type": "code",
   "execution_count": null,
   "metadata": {
    "collapsed": false
   },
   "outputs": [],
   "source": [
    "import math\n",
    "# Given data\n",
    "m_A=3;# kg\n",
    "m=2;# kg\n",
    "k=0.060;# The radius of gyration in m\n",
    "k=1.2;# The spring stiffness in kN/m\n",
    "F=80;# N\n",
    "g=9.81;# The acceleration due to gravity in m/s**2\n",
    "\n",
    "# Calculation\n",
    "# dT_rack=3a dx\n",
    "# dT_gear=0.781a dx\n",
    "# dV_rack=29.4 dx\n",
    "# dV_gear=9.81 dx\n",
    "# dV_spring=24 dx\n",
    "# Canceling dx and solving for a give\n",
    "a=(80-(29.4+9.81+24))/(3+0.781);\n",
    "print\"\\nThe acceleration of rack A,a=%1.2f m/s**2\"%a;\n"
   ]
  },
  {
   "cell_type": "markdown",
   "metadata": {
    "collapsed": true
   },
   "source": [
    "## SAMPLE PROBLEM 6/14,PAGE NUMBER:491"
   ]
  },
  {
   "cell_type": "code",
   "execution_count": null,
   "metadata": {
    "collapsed": false
   },
   "outputs": [],
   "source": [
    "import math\n",
    "import sympy\n",
    "from scipy.optimize import fsolve\n",
    "# Given data\n",
    "# P=1.5*t;\n",
    "r_i=9*12**-1;# ft\n",
    "r_o=18*12**-1;# ft\n",
    "t_1=0;# s\n",
    "t_2=10;# s\n",
    "k=10*12**-1;# ft\n",
    "W=120;# lb\n",
    "g=32.2;# The acceleration due to gravity in ft/sec**2\n",
    "v_1=-3;# ft/sec\n",
    "\n",
    "# Calculation\n",
    "def equations(p):\n",
    "    F,omega_2=p;\n",
    "    f_1=(((W/g)*v_1)+((1.5*((t_2-t_1)**2)*2**-1)-(F*(t_2-t_1)))-((W/g)*r_o*omega_2));\n",
    "    f_2=((((W/g)*k**2*(v_1/r_o))+(((r_o*F*(t_2-t_1))-(r_i*1.5*(t_2-t_1)**2)*2**-1)))-((W/g)*k**2*omega_2));\n",
    "    return(f_1,f_2)\n",
    "F,omega_2=fsolve(equations,(10,1))\n",
    "print\"\\nThe angular velocity of the wheel,omega_2=%1.2f rad/sec\"%omega_2;\n"
   ]
  },
  {
   "cell_type": "markdown",
   "metadata": {
    "collapsed": true
   },
   "source": [
    "## SAMPLE PROBLEM 6/15,PAGE NUMBER:492"
   ]
  },
  {
   "cell_type": "code",
   "execution_count": null,
   "metadata": {
    "collapsed": false
   },
   "outputs": [],
   "source": [
    "import math\n",
    "# Given data\n",
    "m_E=30;# kg\n",
    "m_D=40;# kg\n",
    "v_1=1.2;# m/s\n",
    "t_1=0;# s\n",
    "t_2=5;# s\n",
    "F=380;# N\n",
    "d=0.375;# m\n",
    "k_o=0.250;# m\n",
    "g=9.81;# m/s**2\n",
    "\n",
    "# Calculation\n",
    "# [H_O1+(integral(t_2 to t_2))SigmaM_Odt=H_O2]\n",
    "# Integrating we get\n",
    "M=((((F*0.750)*t_2)-(((m_E+m_D)*g*d)*t_2))-(((F*0.750)*t_1)-(((m_E+m_D)*g*d)*t_1)));# N.m.s\n",
    "Ibar=(m_E)*k_o**2;# kg-m**2\n",
    "omega_1=v_1*d**-1;#rad/sec\n",
    "H_O1=-((m_E+m_D)*v_1*d)-(Ibar*(v_1/d));# N.m.s\n",
    "# H_O2=-(m_E+m_D*v_2*d)-(Ibar*(v_2/d));\n",
    "# H_O2=11.72*omega_2;\n",
    "# Substituting into the momentum equation gives\n",
    "omega_2=(H_O1+M)/11.72;# N.m.s\n",
    "# [G_1+(integral(t_2 to t_2))SigmaFdt=G_2]\n",
    "m=m_E+m_D;# kg\n",
    "G_1=m*-(v_1);# (kg.m/s)\n",
    "G_2=m*(d*omega_2);# (kg.m/s)\n",
    "# Integrating\n",
    "# SigmaF=[T*(t_2)+(F*t_2)-(m*g*t_2)]-[T*(t_1)+(F*t_1)-(m*g*t_1)];\n",
    "T=((G_2-G_1)-(((F*t_2)-(m*g*t_2))-((F*t_1)-(m*g*t_1))))/(t_2-t_1);# N\n",
    "print\"\\nThe angular velocity,omega_2=%1.2f rad/s counter clockwise \\nThe tension in the cable,T=%3.0f N\"%(omega_2,T);\n"
   ]
  }
 ],
 "metadata": {
  "kernelspec": {
   "display_name": "Python 2",
   "language": "python",
   "name": "python2"
  },
  "language_info": {
   "codemirror_mode": {
    "name": "ipython",
    "version": 2
   },
   "file_extension": ".py",
   "mimetype": "text/x-python",
   "name": "python",
   "nbconvert_exporter": "python",
   "pygments_lexer": "ipython2",
   "version": "2.7.11"
  }
 },
 "nbformat": 4,
 "nbformat_minor": 0
}
