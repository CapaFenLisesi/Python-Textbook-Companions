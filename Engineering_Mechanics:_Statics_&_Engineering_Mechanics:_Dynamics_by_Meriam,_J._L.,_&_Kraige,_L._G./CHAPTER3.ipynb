{
 "cells": [
  {
   "cell_type": "markdown",
   "metadata": {},
   "source": [
    "# CHAPTER 3:KINETICS OF PARTICLES"
   ]
  },
  {
   "cell_type": "markdown",
   "metadata": {
    "collapsed": true
   },
   "source": [
    "## SAMPLE PROBLEM 3/1,PAGE NUMBER:126"
   ]
  },
  {
   "cell_type": "code",
   "execution_count": null,
   "metadata": {
    "collapsed": false
   },
   "outputs": [],
   "source": [
    "import math\n",
    "\n",
    "# Variable Declaration\n",
    "m_m=75;# The mass of the man in kg\n",
    "m_t=750;# The total mass of the elevator in kg\n",
    "T=8300;# The tension T in the hoisting cable in N\n",
    "t_ll=0;# Lower limit of integration\n",
    "t_ul=3;# Upper limit of integration\n",
    "g=9.81;# The acceleration due to gravity in m/s**2\n",
    "\n",
    "# Calculation\n",
    "W=m_t*g;# The total weight of the elevator\n",
    "# From the free-body diagram of the elevator,SigmaF_y=m*a_y\n",
    "SigmaF_y=T-W;# N\n",
    "a_y=SigmaF_y/(m_t);# The acceleration in m/s**2\n",
    "# From the free-body diagram of the man,SigmaF_y=m*a_y\n",
    "W_m=m_m*g;# Weight of the man in N\n",
    "R=(m_m*a_y)+W_m;# The equal and opposite reaction R in N\n",
    "# The velocity reached at the end of the 3 seconds is delv=integral(a.dt),integrating this equation we get\n",
    "v=a_y*(t_ul-t_ll);# The velocity in m/s\n",
    "print\"The equal and opposite reaction,R=\",R,\"N\"\n",
    "print\"The velocity reached at the end of the 3 seconds,v=\",round(v,2),\"m/s\"\n",
    "\n"
   ]
  },
  {
   "cell_type": "markdown",
   "metadata": {
    "collapsed": true
   },
   "source": [
    "## SAMPLE PROBLEM 3/2,PAGE NUMBER:126"
   ]
  },
  {
   "cell_type": "code",
   "execution_count": null,
   "metadata": {
    "collapsed": false
   },
   "outputs": [],
   "source": [
    "import math\n",
    "\n",
    "# Variable Declaration\n",
    "m=200;# The mass of the car in kg\n",
    "T=2.4;# The cable tension in kN\n",
    "g=9.81;# The acceleration due to gravity in m/s**2\n",
    "\n",
    "# Calculation\n",
    "W=(m*g)/1000;# The weight of the car in kN\n",
    "# In y direction,SigmaF_y=0\n",
    "x=5;#  adjacent side\n",
    "y=12;#  opposite side\n",
    "r=13;#   hypotenuse\n",
    "P=((T*x)/r)+((W*y)/r);# The total force exerted by the supporting cable on the wheels in N\n",
    "print\"The total force exerted by the supporting cable on the wheels,P=\",round(P,2),\"kN\"\n",
    "# In x direction,SigmaF_x=m*a_x\n",
    "x=12;# #  adjacent side\n",
    "y=5;# opposite side\n",
    "r=13;# #  hypotenuse\n",
    "a=((((T*1000*x)/r)-((W*1000*y)/r))/m);# #  The acceleration of the car in m/s**2\n",
    "print\"The acceleration of the car,a=\",round(a,2),\"m/s**2\"\n",
    "\n"
   ]
  },
  {
   "cell_type": "markdown",
   "metadata": {},
   "source": [
    "## SAMPLE PROBLEM 3/3,PAGE NUMBER:127"
   ]
  },
  {
   "cell_type": "code",
   "execution_count": null,
   "metadata": {
    "collapsed": false
   },
   "outputs": [],
   "source": [
    "import math\n",
    "from scipy.optimize import fsolve\n",
    "# Variable declaration\n",
    "m_A=250;# The mass of concrete block A in lb\n",
    "m=400;# lb\n",
    "theta=30;# degree\n",
    "mu_k=0.5;# The coefficient of kinetic friction between the log and the ramp\n",
    "x=20;# ft\n",
    "g=32.2;# The acceleration due to gravity in ft/sec**2\n",
    "\n",
    "# Calculation\n",
    "# SigmaF_y=0;\n",
    "N=m*math.cos(theta*math.pi/180);# lb\n",
    "# SigmaF_x=ma_x;\n",
    "def equations(p):\n",
    "    T,a_A,a_C=p\n",
    "    return((0-((2*a_C)+a_A)),(((mu_k*N)-(2*T)+(m*math.sin(theta*math.pi/180)))-((m/g)*a_C)),((m_A-T)-((m_A/g)*a_A)))\n",
    "T,a_A,a_C=fsolve(equations,(100,1,1))\n",
    "v_A=math.sqrt(2*a_A*x);# ft/sec\n",
    "print\"\\nThe velocity of the block as it hits the ground at B,v_A=%2.2f ft/sec\"%v_A;"
   ]
  },
  {
   "cell_type": "markdown",
   "metadata": {},
   "source": [
    "## SAMPLE PROBLEM 3/4,PAGE NUMBER:128"
   ]
  },
  {
   "cell_type": "code",
   "execution_count": null,
   "metadata": {
    "collapsed": false
   },
   "outputs": [],
   "source": [
    "import math\n",
    "import sympy\n",
    "\n",
    "# Variable Declaration\n",
    "m=10;# The mass in kg\n",
    "v=2;# The speed in m/s\n",
    "R=8;# N\n",
    "\n",
    "# Calculation\n",
    "t = sympy.Symbol('t')\n",
    "k=R/v**2;# N.s**2/m**2\n",
    "# SigmaF_x=ma_x;\n",
    "v_0=v;# m/s\n",
    "v=v_0/2;# m/s\n",
    "t_r=5*((1/v)-(0.5));# The time requirwd to reduce the speed in s\n",
    "print\"\\nThe time t required for it to reduce its speed to 1 m/s,t=%1.2f s\"%t_r\n",
    "t_0=0;# s\n",
    "t_1=2.5;# s\n",
    "x=sympy.integrate((10/(5+(2*t))),('t',t_0,t_1));\n",
    "print\"\\nThe corresponding travel distance,x=%1.2f m\"%x;\n"
   ]
  },
  {
   "cell_type": "markdown",
   "metadata": {
    "collapsed": true
   },
   "source": [
    "## SAMPLE PROBLEM 3/8,PAGE NUMBER:140"
   ]
  },
  {
   "cell_type": "code",
   "execution_count": null,
   "metadata": {
    "collapsed": false
   },
   "outputs": [],
   "source": [
    "import math\n",
    "import numpy\n",
    "\n",
    "# Variable Declaration\n",
    "m=1500;# The mass of the car in kg\n",
    "v_A=100;# The velocity in km/h\n",
    "v_C=50;# The velocity in km/h\n",
    "rho_A=400;# The radius of curvature in m\n",
    "rho_C=80;# The radius of curvature in m\n",
    "delta_s=200;# m\n",
    "\n",
    "# Calculation\n",
    "a_t=abs((((v_C/3.6)**2)-((v_A/3.6)**2))/(2*delta_s));# The tangential acceleration in m/s**2\n",
    "a_na=((v_A/3.6)**2)/rho_A;# The normal components of acceleration at A in m/s**2\n",
    "a_nb=0;# The normal components of acceleration at B in m/s**2\n",
    "a_nc=((v_C/3.6)**2)/rho_C;# The normal components of acceleration at C in m/s**2\n",
    "F_t=m*a_t;# N\n",
    "F_na=m*a_na;# N\n",
    "F_nb=m*a_nb;# N\n",
    "F_nc=m*a_nc;# N\n",
    "F_a=math.sqrt(F_na**2+F_t**2);# The total horizontal force acting on the tires at A in N\n",
    "F_b=math.sqrt(F_nb**2+F_t**2);# The total horizontal force acting on the tires at B in N\n",
    "F_c=math.sqrt(F_nc**2+F_t**2);# The total horizontal force acting on the tires at C in N\n",
    "print\"\\nAt A,F=%4.0f N \\nAt B,F=%4.0f N \\nAt C,F=%4.0f N\"%(F_a,F_b,F_c);"
   ]
  },
  {
   "cell_type": "markdown",
   "metadata": {},
   "source": [
    "## SAMPLE PROBLEM 3/9,PAGE NUMBER:141"
   ]
  },
  {
   "cell_type": "code",
   "execution_count": null,
   "metadata": {
    "collapsed": false
   },
   "outputs": [],
   "source": [
    "import math\n",
    "# Variable Declaration\n",
    "h=200;# The altitude in mi\n",
    "R=3959;# mi\n",
    "g=32.234;# The acceleration due to gravity in ft/sec**2\n",
    "\n",
    "# Calculation\n",
    "# SigmaF_n=ma_n;\n",
    "v=(R*5280)*math.sqrt(g/((R+h)*5280));# ft/sec\n",
    "print\"\\nThe velocity required for the spacecraft,v=%5.0f ft/sec\"%v;\n"
   ]
  },
  {
   "cell_type": "markdown",
   "metadata": {
    "collapsed": true
   },
   "source": [
    "## SAMPLE PROBLEM 3/11,PAGE NUMBER:162"
   ]
  },
  {
   "cell_type": "code",
   "execution_count": null,
   "metadata": {
    "collapsed": false
   },
   "outputs": [],
   "source": [
    "import math\n",
    "# Variable Declaration\n",
    "m=50;# kg\n",
    "v_1=4;# m/s\n",
    "mu_k=0.30;# The coefficient of kinetic friction \n",
    "g=9.81;# The acceleration due to gravity in m/sec**2\n",
    "s=10;# m\n",
    "theta=15;# degree\n",
    "R=474;# N\n",
    "\n",
    "# Calculation\n",
    "U_12=((m*g)*s*math.sin(theta*math.pi/180))-(mu_k*R*(s));# The total work done on the crate during the motion in J\n",
    "v_2=math.sqrt((((m*v_1**2)/2)+U_12)/((m/2)));# The velocity of the crate in m/s\n",
    "print\"\\nThe velocity of the crate,v_2=%1.2f m/s\"%v_2;"
   ]
  },
  {
   "cell_type": "markdown",
   "metadata": {
    "collapsed": true
   },
   "source": [
    "## SAMPLE PROBLEM 3/12,PAGE NUMBER:162"
   ]
  },
  {
   "cell_type": "code",
   "execution_count": null,
   "metadata": {
    "collapsed": false
   },
   "outputs": [],
   "source": [
    "import math\n",
    "# Variable Declaration\n",
    "m=80;# kg\n",
    "v=72;# km/h\n",
    "s=75;# m\n",
    "mu_sa=0.30;# The coefficient of static friction \n",
    "mu_ka=0.28;# The coefficient of kinetic friction\n",
    "mu_sb=0.25;# The coefficient of static friction \n",
    "mu_kb=0.20;# The coefficient of kinetic friction\n",
    "g=9.81;# The acceleration due to gravity in m/sec**2\n",
    "\n",
    "# Calculation\n",
    "a=(v/3.6)**2/(2*s);# m/s**2\n",
    "# Case(a)\n",
    "F=m*a;# The friction force on the block in N\n",
    "U_12=F*s;# The work done in J\n",
    "print\"\\n(a)The work done by the friction force acting on the crate,U_12=%5.0f J (or) %2.0f kJ\"%(U_12,U_12/1000);\n",
    "# Case(b)\n",
    "F=mu_sb*m*g;# N\n",
    "F=mu_kb*m*g;# N\n",
    "a_b=F/m;# The acceleration in m/s**2\n",
    "deltaS=(a_b/a)*s;# The displacement of a crate in m\n",
    "U_12=F*deltaS;# The work done in J\n",
    "print\"\\n(b)The work done by the friction force acting on the crate,U_12=%4.0f J (or) %1.2f kJ\"%(U_12,U_12/1000);\n"
   ]
  },
  {
   "cell_type": "markdown",
   "metadata": {
    "collapsed": true
   },
   "source": [
    "## SAMPLE PROBLEM 3/13,PAGE NUMBER:163"
   ]
  },
  {
   "cell_type": "code",
   "execution_count": null,
   "metadata": {
    "collapsed": false
   },
   "outputs": [],
   "source": [
    "import math\n",
    "# Variable Declaration\n",
    "m=50;# The mass of the block in kg\n",
    "F=300;# N\n",
    "x_1=0.233;# m\n",
    "k=80;# The spring stifness in N/m\n",
    "x=1.2;# m\n",
    "y=0.9;# m\n",
    "\n",
    "# Calculation\n",
    "x_2=x_1+x;# m\n",
    "U_12=(1/2)*k*(x_1**2-x_2**2);# The work done by the spring force acting on the block in J\n",
    "s=math.sqrt(x**2+y**2)-y;# m\n",
    "W=F*s;# The work done in J\n",
    "T_1=0;# J\n",
    "v=math.sqrt(((U_12+W)*2)/m);# m/s\n",
    "print\"\\nThe velocity of the block as it reaches position B,v=%1.2f m/s\"%v;\n"
   ]
  },
  {
   "cell_type": "markdown",
   "metadata": {
    "collapsed": true
   },
   "source": [
    "## SAMPLE PROBLEM 3/14,PAGE NUMBER:164"
   ]
  },
  {
   "cell_type": "code",
   "execution_count": null,
   "metadata": {
    "collapsed": false
   },
   "outputs": [],
   "source": [
    "import math\n",
    "# Variable Declaration\n",
    "F=800;# lb\n",
    "theta=30;# degree\n",
    "v=4;# ft/sec\n",
    "P=6;# hp\n",
    "P_i=8;# hp\n",
    "g=32.2;# The acceleration due to gravity in ft/sec**2\n",
    "\n",
    "# Calculation\n",
    "N=(F*math.sin(theta*math.pi/180));# lb\n",
    "# SigmaF_x=0;\n",
    "T=(P*550)/v;# The tension in the cable in N\n",
    "mu_k=(T-(F*math.sin(theta*math.pi/180)))/N;# The coefficient of kinetic friction\n",
    "T=(P_i*550)/v;# lb\n",
    "a=(g*(T-(N*mu_k)-(F*math.sin(theta*math.pi/180))))/F;# The acceleration in ft/sec**2\n",
    "print\"\\nThe corresponding instantaneous acceleration of the log,a=%2.2f ft/sec**2\"%a;\n"
   ]
  },
  {
   "cell_type": "markdown",
   "metadata": {
    "collapsed": true
   },
   "source": [
    "## SAMPLE PROBLEM 3/15,PAGE NUMBER:180"
   ]
  },
  {
   "cell_type": "code",
   "execution_count": null,
   "metadata": {
    "collapsed": false
   },
   "outputs": [],
   "source": [
    "import math\n",
    "# Variable Declaration\n",
    "h_1=500;# km\n",
    "v_1=30000;# km/h\n",
    "h_2=1200;# km\n",
    "g=9.81;# The acceleration due to gravity in m/sec**2\n",
    "R=6371;# km\n",
    "\n",
    "# Calculation\n",
    "v_2=math.sqrt((v_1/3.6)**2+(2*g*(R*10**3)**2*((10**-3/(R+h_2))-(10**-3/(R+h_1)))));\n",
    "print\"\\nThe velocity of the satellite as it reaches point B,v_2=%4.0f m/s (or) v_2=%5.0f km/h\"%(v_2,v_2*3.6);"
   ]
  },
  {
   "cell_type": "markdown",
   "metadata": {
    "collapsed": true
   },
   "source": [
    "## SAMPLE PROBLEM 3/16,PAGE NUMBER:180"
   ]
  },
  {
   "cell_type": "code",
   "execution_count": null,
   "metadata": {
    "collapsed": false
   },
   "outputs": [],
   "source": [
    "import math\n",
    "# Variable Declaration\n",
    "mg=6;# lb\n",
    "k=2;# lb/in\n",
    "g=32.2;# The acceleration due to gravity in ft/sec**2\n",
    "h=24;# in\n",
    "x_1=24/12;# ft\n",
    "x_2=(((24*math.sqrt(2))/12)-(24/12));# ft\n",
    "\n",
    "# Calculation\n",
    "# The reaction of the rod on the slider is normal to the motion and does no work.\n",
    "T_1=0;# ft-lb\n",
    "U_12=0;# ft-lb\n",
    "# We define the datum to be at the level of position 1, so that the gravitational potential energies are\n",
    "V_1g=0;# ft-lb\n",
    "V_2g=-(mg)*(h/12);# ft-lb\n",
    "V_1e=((k*12)*(x_1)**2)/2;# ft-lb\n",
    "V_2e=((k*12)*(x_2)**2)/2;# ft-lb\n",
    "v_2=math.sqrt(((T_1+(V_1g+V_1e)+U_12)-(V_2g+V_2e))*(2*(g/mg)));# ft/sec\n",
    "print\"\\nThe velocity of the slider as it passes position 2,v_2=%2.1f ft/sec\"%v_2;\n"
   ]
  },
  {
   "cell_type": "markdown",
   "metadata": {
    "collapsed": true
   },
   "source": [
    "## SAMPLE PROBLEM 3/17,PAGE NUMBER:180"
   ]
  },
  {
   "cell_type": "code",
   "execution_count": null,
   "metadata": {
    "collapsed": false
   },
   "outputs": [],
   "source": [
    "import math\n",
    "# Variable Declaration\n",
    "m=10;# kg\n",
    "k=60;# N/m\n",
    "F=250;# N\n",
    "theta=30;# degree\n",
    "ABbar=1.5;# m\n",
    "BCbar=0.9;# m\n",
    "g=9.81;# The acceleration due to gravity in m/sec**2\n",
    "d_AC=1.2;# The distance in m\n",
    "d_BC=0.9;# The distance in m\n",
    "\n",
    "# Calculation\n",
    "s=ABbar-BCbar;# m\n",
    "U_ac=F*s;# J\n",
    "V_Ag=0;# The initial gravitational potential energy in J\n",
    "T_A=(1/2)*m*V_Ag**2;# N.m\n",
    "V_Cg=m*g*(d_AC*math.sin(theta*math.pi/180));# The final gravitational potential energy in J\n",
    "x_A=s;# m\n",
    "x_B=s+d_AC;# m\n",
    "V_Ae=(k*(x_A)**2)/2;# The initial elastic potential energy in J\n",
    "V_Ce=(k*(x_B)**2)/2;# The final elastic potential energy in J\n",
    "# Substitution into the alternative work-energy equation 3/21a gives\n",
    "v_c=math.sqrt((((T_A+V_Ag+V_Ae+U_ac)-(V_Cg+V_Ce))*2)/m);# m/s\n",
    "print\"\\nThe velocity of the slider as it passes point C,v_C=%0.3f m/s\"%v_c;"
   ]
  },
  {
   "cell_type": "markdown",
   "metadata": {},
   "source": [
    "## SAMPLE PROBLEM 3/18,PAGE NUMBER:181"
   ]
  },
  {
   "cell_type": "code",
   "execution_count": null,
   "metadata": {
    "collapsed": false,
    "scrolled": false
   },
   "outputs": [],
   "source": [
    "%matplotlib inline\n",
    "import math\n",
    "from scipy.optimize import fsolve\n",
    "import matplotlib.pyplot as plt\n",
    "from matplotlib.pyplot import plot,suptitle,xlabel,ylabel\n",
    "# Variable Declaration\n",
    "m_A=2;# kg\n",
    "m_B=4;# kg\n",
    "L=0.5;# m\n",
    "K_theta=13;# N.m/rad\n",
    "g=9.81;# The acceleration due to gravity in m/sec**2\n",
    "\n",
    "# Calculation\n",
    "# (a)\n",
    "# T_1+V_1+U_12=T_2+V_2\n",
    "def eqn(p):\n",
    "    v_A=p\n",
    "    return((((1*2**-1)*m_A*v_A**2)+((1*2**-1)*m_B*(v_A/4)**2)-(m_A*g*L)-(m_B*g*(L*math.sqrt(2)*4**-1))+((1*2**-1)*K_theta*(math.pi/2)**2))-0);\n",
    "v_A=fsolve(eqn,(1));# m/s\n",
    "print\"\\nThe speed of particle A,v_A=%0.3f m/s\"%v_A;\n",
    "# (b)\n",
    "theta=[0,10,20,30,40,50,60,70,80,90];\n",
    "v_A1=(math.sqrt(((m_A*g*L*(1-math.cos(theta[0]*math.pi*180**-1)))+((m_B*g*(1*2**-1)*(((L*math.sqrt(2))*2**-1)-((2*(L*2**-1)*math.sin((((90-(theta[0]))*2**-1))*math.pi*180**-1))))))-((1*2**-1)*K_theta*(theta[0]*(math.pi*180**-1))**2))/(((1*2**-1)*m_A)+((1*2**-1)*m_B*((1*4**-1)*math.cos((((90-(theta[0])))*2**-1)*math.pi*180**-1))**2))))\n",
    "v_A2=(math.sqrt(((m_A*g*L*(1-math.cos(theta[1]*math.pi*180**-1)))+((m_B*g*(1*2**-1)*(((L*math.sqrt(2))*2**-1)-((2*(L*2**-1)*math.sin((((90-(theta[1]))*2**-1))*math.pi*180**-1))))))-((1*2**-1)*K_theta*(theta[1]*(math.pi*180**-1))**2))/(((1*2**-1)*m_A)+((1*2**-1)*m_B*((1*4**-1)*math.cos((((90-(theta[1])))*2**-1)*math.pi*180**-1))**2))))\n",
    "v_A3=(math.sqrt(((m_A*g*L*(1-math.cos(theta[2]*math.pi*180**-1)))+((m_B*g*(1*2**-1)*(((L*math.sqrt(2))*2**-1)-((2*(L*2**-1)*math.sin((((90-(theta[2]))*2**-1))*math.pi*180**-1))))))-((1*2**-1)*K_theta*(theta[2]*(math.pi*180**-1))**2))/(((1*2**-1)*m_A)+((1*2**-1)*m_B*((1*4**-1)*math.cos((((90-(theta[2])))*2**-1)*math.pi*180**-1))**2))))\n",
    "v_A4=(math.sqrt(((m_A*g*L*(1-math.cos(theta[3]*math.pi*180**-1)))+((m_B*g*(1*2**-1)*(((L*math.sqrt(2))*2**-1)-((2*(L*2**-1)*math.sin((((90-(theta[3]))*2**-1))*math.pi*180**-1))))))-((1*2**-1)*K_theta*(theta[3]*(math.pi*180**-1))**2))/(((1*2**-1)*m_A)+((1*2**-1)*m_B*((1*4**-1)*math.cos((((90-(theta[3])))*2**-1)*math.pi*180**-1))**2))))\n",
    "v_A5=(math.sqrt(((m_A*g*L*(1-math.cos(theta[4]*math.pi*180**-1)))+((m_B*g*(1*2**-1)*(((L*math.sqrt(2))*2**-1)-((2*(L*2**-1)*math.sin((((90-(theta[4]))*2**-1))*math.pi*180**-1))))))-((1*2**-1)*K_theta*(theta[4]*(math.pi*180**-1))**2))/(((1*2**-1)*m_A)+((1*2**-1)*m_B*((1*4**-1)*math.cos((((90-(theta[4])))*2**-1)*math.pi*180**-1))**2))))\n",
    "v_A6=(math.sqrt(((m_A*g*L*(1-math.cos(theta[5]*math.pi*180**-1)))+((m_B*g*(1*2**-1)*(((L*math.sqrt(2))*2**-1)-((2*(L*2**-1)*math.sin((((90-(theta[5]))*2**-1))*math.pi*180**-1))))))-((1*2**-1)*K_theta*(theta[5]*(math.pi*180**-1))**2))/(((1*2**-1)*m_A)+((1*2**-1)*m_B*((1*4**-1)*math.cos((((90-(theta[5])))*2**-1)*math.pi*180**-1))**2))))\n",
    "v_A7=(math.sqrt(((m_A*g*L*(1-math.cos(theta[6]*math.pi*180**-1)))+((m_B*g*(1*2**-1)*(((L*math.sqrt(2))*2**-1)-((2*(L*2**-1)*math.sin((((90-(theta[6]))*2**-1))*math.pi*180**-1))))))-((1*2**-1)*K_theta*(theta[6]*(math.pi*180**-1))**2))/(((1*2**-1)*m_A)+((1*2**-1)*m_B*((1*4**-1)*math.cos((((90-(theta[6])))*2**-1)*math.pi*180**-1))**2))))\n",
    "v_A8=(math.sqrt(((m_A*g*L*(1-math.cos(theta[7]*math.pi*180**-1)))+((m_B*g*(1*2**-1)*(((L*math.sqrt(2))*2**-1)-((2*(L*2**-1)*math.sin((((90-(theta[7]))*2**-1))*math.pi*180**-1))))))-((1*2**-1)*K_theta*(theta[7]*(math.pi*180**-1))**2))/(((1*2**-1)*m_A)+((1*2**-1)*m_B*((1*4**-1)*math.cos((((90-(theta[7])))*2**-1)*math.pi*180**-1))**2))))\n",
    "v_A9=(math.sqrt(((m_A*g*L*(1-math.cos(theta[8]*math.pi*180**-1)))+((m_B*g*(1*2**-1)*(((L*math.sqrt(2))*2**-1)-((2*(L*2**-1)*math.sin((((90-(theta[8]))*2**-1))*math.pi*180**-1))))))-((1*2**-1)*K_theta*(theta[8]*(math.pi*180**-1))**2))/(((1*2**-1)*m_A)+((1*2**-1)*m_B*((1*4**-1)*math.cos((((90-(theta[8])))*2**-1)*math.pi*180**-1))**2))))\n",
    "v_A10=(math.sqrt(((m_A*g*L*(1-math.cos(theta[9]*math.pi*180**-1)))+((m_B*g*(1*2**-1)*(((L*math.sqrt(2))*2**-1)-((2*(L*2**-1)*math.sin((((90-(theta[9]))*2**-1))*math.pi*180**-1))))))-((1*2**-1)*K_theta*(theta[9]*(math.pi*180**-1))**2))/(((1*2**-1)*m_A)+((1*2**-1)*m_B*((1*4**-1)*math.cos((((90-(theta[9])))*2**-1)*math.pi*180**-1))**2))))\n",
    "v_A=[v_A1,v_A2,v_A3,v_A4,v_A5,v_A6,v_A7,v_A8,v_A9,v_A10];# m/s\n",
    "plt.plot(theta,v_A,color='red');\n",
    "xlabel('theta,deg');\n",
    "ylabel('v_A,m/s');\n",
    "print\"\\nThe maximum value of v_A is seen to be (v_A)_max=1.400 m/s at theta=56.4 degree.\";\n",
    "plt.show()"
   ]
  },
  {
   "cell_type": "markdown",
   "metadata": {},
   "source": [
    "## SAMPLE PROBLEM 3/19,PAGE NUMBER:194"
   ]
  },
  {
   "cell_type": "code",
   "execution_count": null,
   "metadata": {
    "collapsed": false
   },
   "outputs": [],
   "source": [
    "import math\n",
    "# Variable Declaration\n",
    "v_1=50;# ft/sec\n",
    "v_2=70;# ft/sec\n",
    "theta=15;# degree\n",
    "dt=0.02;# sec\n",
    "g=32.2;# The acceleration due to gravity in ft/sec**2\n",
    "\n",
    "# Calculation\n",
    "W=2*16**-1;# N\n",
    "v_1x=v_1;# ft/sec\n",
    "v_2x=v_2;# ft/sec\n",
    "v_1y=0;# ft/sec\n",
    "v_2y=v_2;# ft/sec\n",
    "R_x=(((W/g)*(v_2x*math.cos(theta*math.pi/180)))+((W/g)*(v_1x)))/dt;# lb\n",
    "R_y=(((W/g)*(v_2y*math.sin(theta*math.pi/180)))+((W/g)*(v_1y)))/dt;# lb\n",
    "R=math.sqrt(R_x**2+R_y**2);# lb\n",
    "beta=math.degrees(math.atan(R_y/R_x));# degree\n",
    "print\"\\nThe magnitude of the average force exerted by the racket on the ball,R=%2.1f lb \\nThe angle made by R with the horizontal,beta=%1.2f degree\"%(R,beta);\n"
   ]
  },
  {
   "cell_type": "markdown",
   "metadata": {
    "collapsed": true
   },
   "source": [
    "## SAMPLE PROBLEM 3/20,PAGE NUMBER:196"
   ]
  },
  {
   "cell_type": "code",
   "execution_count": null,
   "metadata": {
    "collapsed": false
   },
   "outputs": [],
   "source": [
    "import math\n",
    "# Variable Declaration\n",
    "# G=(3/2)*(t**2+3)j-((2/3)*(t**3-4))k\n",
    "z=2;# lb\n",
    "t=2;# sec\n",
    "\n",
    "# Calculation\n",
    "F=[(3*t),(2-(2*t**2))];# lb\n",
    "F_r=math.sqrt(F[0]**2+F[1]**2);# lb\n",
    "print\"\\nF=%1.0fj+(%1.0fk)lb \\nF=%1.3f lb\"%(F[0],F[1],F_r);\n"
   ]
  },
  {
   "cell_type": "markdown",
   "metadata": {
    "collapsed": true
   },
   "source": [
    "## SAMPLE PROBLEM 3/21,PAGE NUMBER:196"
   ]
  },
  {
   "cell_type": "code",
   "execution_count": null,
   "metadata": {
    "collapsed": false
   },
   "outputs": [],
   "source": [
    "import math\n",
    "from numpy.linalg import norm\n",
    "# Variable Declaration\n",
    "m=0.5;# kg\n",
    "v_1x=10;# m/s\n",
    "v_1y=0;# m/s\n",
    "t_1=1;# s\n",
    "t_2=2;# s\n",
    "t_3=3;# s\n",
    "\n",
    "# Calculation\n",
    "v_2x=((m*v_1x)-((4*(t_1))+(2*(t_3-t_1))))/(m);# m/s\n",
    "v_2y=((m*v_1y)+((1*(t_2))+(2*(t_3-t_2))))/(m);# m/s\n",
    "v_2=[v_2x,v_2y];# m/s\n",
    "v_2=norm(v_2);# m/s\n",
    "theta_x=180+math.atan(v_2y/v_2x)*math.pi/180;# degree\n",
    "print\"\\nThe velocity of the particle at the end of the 3-s interval,v_2=%2.0f m/s \\ntheta_x=%3.1f degree\"%(v_2,theta_x);\n",
    "\n"
   ]
  },
  {
   "cell_type": "markdown",
   "metadata": {
    "collapsed": true
   },
   "source": [
    "## SAMPLE PROBLEM 3/22,PAGE NUMBER:196"
   ]
  },
  {
   "cell_type": "code",
   "execution_count": null,
   "metadata": {
    "collapsed": false
   },
   "outputs": [],
   "source": [
    "import math\n",
    "# Variable Declaration\n",
    "m=150;#  kg\n",
    "v_1=4;#  m/s\n",
    "t_0=0;#  s\n",
    "t_1=4;#  s\n",
    "P=600;#  N\n",
    "t_2=8;#  s\n",
    "theta=30;#  degree\n",
    "g=9.81;#  The acceleration due to gravity in m/sec**2\n",
    "\n",
    "# Calculation\n",
    "deltat=(m*0)+((m*v_1)-((v_1*2*P)/2)+(m*g*math.sin(theta*math.pi/180)))/((2*P)+(m*g*math.sin(theta*math.pi/180)));#  s\n",
    "t_a=v_1+deltat;#  s\n",
    "v_2x=((m*-v_1)+((v_1*2*P)/2)+(v_1*2*P)-(m*g*math.sin(theta*math.pi/180)*t_2))/m;#  m/s\n",
    "print\"\\n(a)The time at which the skip reverses its direction,t_a=%1.2f s \\n(b)The velocity of the skip,v_2x=%1.2f m/s\"%(t_a,v_2x);\n"
   ]
  },
  {
   "cell_type": "markdown",
   "metadata": {
    "collapsed": true
   },
   "source": [
    "##  SAMPLE PROBLEM 3/23,PAGE NUMBER:196"
   ]
  },
  {
   "cell_type": "code",
   "execution_count": null,
   "metadata": {
    "collapsed": false
   },
   "outputs": [],
   "source": [
    "import math\n",
    "# Variable Declaration\n",
    "m_1=0.050;#   kg\n",
    "m_2=4;#   kg\n",
    "v_1=600;#  m/s\n",
    "v_2=12;#  m/s\n",
    "theta=30;#   degree\n",
    "\n",
    "\n",
    "# Calculation\n",
    "v_2=[(m_2*v_2*math.cos(theta*math.pi/180))/(m_1+m_2),((m_1*v_1)+(m_2*v_2*math.sin(theta*math.pi/180)))/(m_1+m_2)];#  m/s\n",
    "v_x=v_2[0];#  m/s\n",
    "v_y=v_2[1];#  m/s\n",
    "V_2=math.sqrt((v_x**2+v_y**2));#  m/s\n",
    "theta=math.atan((v_y/v_x))*math.pi/180;#  degree\n",
    "print\"\\nThe velocity of the block and embedded bullet immediately after impact,v_2=%2.2fi+%2.2fj m/s \\nThe final velocity and its direction are given by v_2=%2.2f m/s and theta=%2.1f degree\"%(v_x,v_y,V_2,theta);\n",
    "\n",
    "\n"
   ]
  },
  {
   "cell_type": "markdown",
   "metadata": {
    "collapsed": true
   },
   "source": [
    "##  SAMPLE PROBLEM 3/24,PAGE NUMBER:209"
   ]
  },
  {
   "cell_type": "code",
   "execution_count": null,
   "metadata": {
    "collapsed": false
   },
   "outputs": [],
   "source": [
    "import math\n",
    "from numpy.linalg import det\n",
    "\n",
    "# Variable Declaration\n",
    "F=10;#   N\n",
    "m=2;#  kg\n",
    "v=5;#  m/s \n",
    "x=3;#  m\n",
    "y=6;#  m\n",
    "z=4;#  m\n",
    "\n",
    "# Calculation\n",
    "r=[x,y,z];#  m\n",
    "mv=[0,(m*v),0];#  (kg.m/s)\n",
    "H_o1=det([[r[1],r[2]],[mv[1],mv[2]]]);#   N.m/s\n",
    "H_o2=-det([[r[0],r[2]],[mv[0],mv[2]]])#  N.m/s\n",
    "H_o3=det([[r[0],r[1]],[mv[0],mv[1]]]);#  N.m/s\n",
    "H_O=[H_o1,H_o2,H_o3];#  N.m/s\n",
    "F=[0,0,F];#  N.m/s\n",
    "Hdot_o1=det([[r[1],r[2]],[F[1],F[2]]]);#  N.m\n",
    "Hdot_o2=-det([[r[0],r[2]],[F[0],F[2]]]);#  N.m\n",
    "Hdot_o3=det([[r[0],r[1]],[F[0],F[1]]]);#  N.m\n",
    "Hdot_O=[Hdot_o1,Hdot_o2,Hdot_o3];#  N.m\n",
    "print\"\\nThe angular momentum H_O about point O,H_O=%2.0fi+(%2.0f)j+%2.0fk N.m/s \\nThe time derivative,Hdot=%2.0fi+(%2.0f)j+%2.0fk N.m\"%(H_O[0],H_O[1],H_O[2],Hdot_O[0],Hdot_O[1],Hdot_O[2]);\n"
   ]
  },
  {
   "cell_type": "markdown",
   "metadata": {
    "collapsed": true
   },
   "source": [
    "## SAMPLE PROBLEM 3/25,PAGE NUMBER:209"
   ]
  },
  {
   "cell_type": "code",
   "execution_count": null,
   "metadata": {
    "collapsed": false
   },
   "outputs": [],
   "source": [
    "\n",
    "import math\n",
    "v_A=740;#  m/s\n",
    "r_A=6000*10**6;#  km\n",
    "r_B=75*10**6;#  km\n",
    "\n",
    "# Calculation\n",
    "v_B=(r_A*v_A)/r_B;#  m/s\n",
    "print\"\\nThe speed of comet at the point B of closest approach to the sun,v_B=%5.0f m/s\"%v_B;\n"
   ]
  },
  {
   "cell_type": "markdown",
   "metadata": {
    "collapsed": true
   },
   "source": [
    "## SAMPLE PROBLEM 3/28,PAGE NUMBER:221"
   ]
  },
  {
   "cell_type": "code",
   "execution_count": null,
   "metadata": {
    "collapsed": false
   },
   "outputs": [],
   "source": [
    "import math\n",
    "# Variable Declaration\n",
    "m=800;#  kg\n",
    "g=9.81;#  m/s**2\n",
    "h=2;#  m\n",
    "m_p=2400;#  kg\n",
    "h_1=0.1;#  m\n",
    "\n",
    "# Calculation\n",
    "v_r=math.sqrt(2*g*h);#  m/s\n",
    "v_ra=math.sqrt(2*g*h_1);#  m/s\n",
    "# (a)\n",
    "v_pa=(((m*v_r)+0)+(m*v_ra))/m_p;#  m/s\n",
    "# (b)\n",
    "e=(v_pa+v_ra)/(v_r+0);#  The coefficient of restitution\n",
    "# (c)\n",
    "T=m*g*h;#  J\n",
    "T_a=((m*v_ra**2)/2)+((m_p*v_pa**2)/2);#  J\n",
    "E_l=((T-T_a)/T)*100;#  The percentage loss of energy(%)\n",
    "print\"\\n(a)The velocity of the pile immediately after impact,v_p=%1.2f m/s \\n(b)The coefficient of restitution,e=%0.3f \\n(c)The percentage loss of energy due to the impact is %2.1f percentage.\"%(v_pa,e,E_l);\n"
   ]
  },
  {
   "cell_type": "markdown",
   "metadata": {
    "collapsed": true
   },
   "source": [
    "## SAMPLE PROBLEM 3/29,PAGE NUMBER:221"
   ]
  },
  {
   "cell_type": "code",
   "execution_count": null,
   "metadata": {
    "collapsed": false
   },
   "outputs": [],
   "source": [
    "import math\n",
    "# Variable Declaration\n",
    "v_1=50;#   m/s\n",
    "v_2=0;#   m/s\n",
    "e=0.5;#  The effective coefficient of restitution\n",
    "theta=30;#  degree\n",
    "\n",
    "# Calculation\n",
    "v_1an=e*v_1*math.sin(theta*math.pi/180);#   ft/sec\n",
    "v_1at=v_1*math.cos(theta*math.pi/180);#   ft/sec\n",
    "#  Assume ' as a\n",
    "v_a=math.sqrt((v_1an)**2+(v_1at)**2);#   ft/sec\n",
    "theta_a=math.atan((v_1an/v_1at))*math.pi/180;#  degree\n",
    "print\"\\nThe rebound velocity and its angle are then v_a=%2.1f ft/sec and theta_a=%2.1f degree\"%(v_a,theta_a);\n"
   ]
  },
  {
   "cell_type": "markdown",
   "metadata": {
    "collapsed": true
   },
   "source": [
    "##  SAMPLE PROBLEM 3/30,PAGE NUMBER:222"
   ]
  },
  {
   "cell_type": "code",
   "execution_count": null,
   "metadata": {
    "collapsed": false
   },
   "outputs": [],
   "source": [
    "import math\n",
    "from numpy.linalg import solve\n",
    "# Variable Declaration\n",
    "v_1=6;#   m/s\n",
    "v_2=0;#   m/s\n",
    "e=0.6;#  The coefficient-of-restitution\n",
    "theta=30;#  degree\n",
    "\n",
    "# Calculation\n",
    "v_1n=v_1*math.cos(theta*math.pi/180);#  m/s\n",
    "v_1t=v_1*math.sin(theta*math.pi/180);#  m/s\n",
    "v_2n=0;#  m/s\n",
    "v_2t=v_2n;#  m/s\n",
    "A=([1,1],[1,-1]);# \n",
    "B=([v_1n+0,(e*v_1n)]);# \n",
    "v=solve(A,B);# \n",
    "v_1an=v[0];#  m/s\n",
    "v_2an=v[1];#  m/s\n",
    "v_1at=v_1t;#  m/s\n",
    "v_2at=v_2t;#  m/s\n",
    "v_1a=math.sqrt((v_1an)**2+(v_1at)**2);#  m/s\n",
    "v_2a=math.sqrt((v_2an)**2+(v_2at)**2);#  m/s\n",
    "thetaa=math.atan((v_1an/v_1at)*math.pi/180)*math.pi/180;#  m/s\n",
    "# The kinetic energies just before and just after impact, with m=m1=m2,are\n",
    "T=18;#  m\n",
    "T_a=13.68;#  m\n",
    "E_l=((T-T_a)/T)*100;#  The percentage energy loss(%)\n",
    "print\"\\nThe final speeds of the particles v_1a=%1.2f m/s ,v_2a=%1.2f m/s \\nThe angle which v_1a makes with the t-direction,theta=%2.2f degree \\nThe percentage energy loss is %2.0f percentage.\"%(v_1a,v_2a,thetaa,E_l);\n",
    "\n"
   ]
  },
  {
   "cell_type": "markdown",
   "metadata": {
    "collapsed": true
   },
   "source": [
    "## SAMPLE PROBLEM 3/31,PAGE NUMBER:236"
   ]
  },
  {
   "cell_type": "code",
   "execution_count": null,
   "metadata": {
    "collapsed": false
   },
   "outputs": [],
   "source": [
    "import math\n",
    "# Variable Declaration\n",
    "h_1=2000;#   The perigee altitude in km\n",
    "h_2=4000;#   The apogee altitude in km\n",
    "h_c=2500;#   The  altitude of the satellite in km\n",
    "g=9.825;#    The acceleration due to gravity in m/sec**2\n",
    "R=12742/2;#  km\n",
    "\n",
    "# Calculation\n",
    "# (a)\n",
    "r_max=R+h_2;#  km\n",
    "r_min=R+h_1;#  km\n",
    "a=(r_min+r_max)/2;#  km\n",
    "v_P=(R*10**3*math.sqrt(g*(a*10**3)**-1)*math.sqrt(r_max/r_min));#  m/s\n",
    "v_A=(R*10**3*math.sqrt(g*(a*10**3)**-1)*math.sqrt(r_min*r_max**-1));#  m/s\n",
    "# (b)\n",
    "r=R+h_c;#  km\n",
    "v_C=math.sqrt((2*g*(R*10**3)**2)*((1*r**-1)-(1*(2*a)**-1))*(1*(10**3)**-1));#  m/s\n",
    "# (c)\n",
    "tau=(2*math.pi*((a*10**3)**(3*2**-1)))/((R*10**3)*math.sqrt(g));#  km\n",
    "tau_h=tau*3600**-1;#  km\n",
    "print\"\\n(a)The necessary perigee velocity,v_P=%4.0f m/s (or) %5.0f km/h \\n   The necessary apogee velocity,v_A=%4.0f m/s (or) %5.0f km/h \\n(b)The velocity at point C,v_C=%4.0f m/s (or) %5.0f km/h \\n(c)The period of the orbit,tau=%1.3f h\"%(v_P,v_P*3.6,v_A,v_A*3.6,v_C,v_C*3.6,tau_h);\n"
   ]
  }
 ],
 "metadata": {
  "kernelspec": {
   "display_name": "Python 2",
   "language": "python",
   "name": "python2"
  },
  "language_info": {
   "codemirror_mode": {
    "name": "ipython",
    "version": 2
   },
   "file_extension": ".py",
   "mimetype": "text/x-python",
   "name": "python",
   "nbconvert_exporter": "python",
   "pygments_lexer": "ipython2",
   "version": "2.7.11"
  }
 },
 "nbformat": 4,
 "nbformat_minor": 0
}
