{
 "cells": [
  {
   "cell_type": "markdown",
   "metadata": {},
   "source": [
    "# CHAPTER 7:INTRODUCTION TO THREE-DIMENSIONAL DYNAMICS OF RIGID BODIES"
   ]
  },
  {
   "cell_type": "markdown",
   "metadata": {},
   "source": [
    "## SAMPLE PROBLEM 7/1,PAGE NUMBER:519"
   ]
  },
  {
   "cell_type": "code",
   "execution_count": null,
   "metadata": {
    "collapsed": false
   },
   "outputs": [],
   "source": [
    "import math\n",
    "from numpy.linalg import det\n",
    "# Variable declaration\n",
    "L=0.8;# m\n",
    "N=60;# rev/min\n",
    "betadot=4;# rad/s\n",
    "beta=30;# degree\n",
    "\n",
    "# Solution\n",
    "# (a)\n",
    "omega_x=betadot;# (i) rad/s\n",
    "omega_z=(2*math.pi*N/60);# (k) rad/s\n",
    "omega=[omega_x,0,omega_z];# (i,j,k) rad/s\n",
    "print\"(a)The angular velocity of OA,omega=%1.0fi+%1.2fk rad/s\"%(omega[0],omega[2]);\n",
    "# (b)\n",
    "omegadot_z=0;# (k) rad/s\n",
    "omegadot_x=omega_z*omega_x;# (i) rad/s\n",
    "alpha=omegadot_x+omegadot_z;# (j) rad/s**2\n",
    "alpha=[0,alpha,0];# (i,j,k) rad/s**2\n",
    "print\"(b)The angular acceleration of OA,alpha=%2.1fj rad/s**2\"%(alpha[1]);\n",
    "# (c)\n",
    "r=[0,0.693,0.4];# m\n",
    "# v=omega*r;\n",
    "v_1=det([(omega[0],omega[2]),(r[1],r[2])]);# m/s\n",
    "v_2=-det([(omega[0],omega[2]),(r[0],r[2])]);# m/s\n",
    "v_3=det([(omega[0],omega[1]),(r[0],r[1])]);# m/s\n",
    "v=[v_1,v_2,v_3];# m/s\n",
    "print\"(c)The velocity of point A,v=%1.2fi+(%1.2f)j+%1.2fk m/s\"%(v[0],v[1],v[2]);\n",
    "# (d)\n",
    "a_1=det([(alpha[1],alpha[2]),(r[1],r[2])])+det([(omega[1],omega[2]),(v[1],v[2])]);# m/s**2\n",
    "a_2=-det([(alpha[0],alpha[2]),(r[0],r[2])])+(-det([(omega[0],omega[2]),(v[0],v[2])]));# m/s**2\n",
    "a_3=det([(alpha[0],alpha[1]),(r[0],r[1])])+det([(omega[0],omega[1]),(v[0],v[1])]);# m/s**2\n",
    "a=[a_1,a_2,a_3];# m/s**2\n",
    "print\"(d)The acceleration of point A,v=%2.1fi+(%2.1f)j+(%1.2f)k m/s**2\"%(a[0],a[1],a[2]);\n"
   ]
  },
  {
   "cell_type": "markdown",
   "metadata": {},
   "source": [
    "## SAMPLE PROBLEM 7/2,PAGE NUMBER:520"
   ]
  },
  {
   "cell_type": "code",
   "execution_count": null,
   "metadata": {
    "collapsed": false
   },
   "outputs": [],
   "source": [
    "import math\n",
    "from numpy.linalg import det\n",
    "# Variable declaration\n",
    "N_0=120;# rev/min\n",
    "N=60;# rev/min\n",
    "gamma=30;# degree\n",
    "OCbar=10;# inch\n",
    "CAbar=5;# inch\n",
    "theta=30;# degree\n",
    "\n",
    "# Calculation\n",
    "# (a)\n",
    "omega_0=(2*math.pi*N_0)/60;# rad/sec\n",
    "omega_1=(2*math.pi*N)/60;# rad/sec\n",
    "omega=[0,(omega_1*math.cos(gamma*math.pi/180)),(omega_0+(omega_1*math.sin(theta*math.pi/180)))];# rad/sec\n",
    "print\"(a)The angular velocity,omega=%1.2fj+%2.2fk rad/s\"%(omega[1],omega[2]);\n",
    "alpha=[(omega_1*omega_0*math.cos(theta*math.pi/180)),0,0];# rad/sec**2\n",
    "print\"(b)The angular acceleration,alpha=%2.1fi rad/s**2\"%alpha[1];   \n",
    "r=[0,5,10];# inch\n",
    "# (c)\n",
    "# v=omega*r;\n",
    "v_1=det([(omega[1],omega[2]),(r[1],r[2])]);# in/sec\n",
    "v_2=-det([(omega[0],omega[2]),(r[0],r[2])]);# in/sec\n",
    "v_3=det([(omega[0],omega[1]),(r[0],r[1])]);# in/sec\n",
    "v=[v_1,v_2,v_3];# in/sec\n",
    "print\"(c)The velocity of point A,v=%2.1fi+(%1.0f)j+%1.fk in/sec\"%(v[0],v[1],v[2]);\n",
    "# a=(alpha*r)+(omega*v)\n",
    "a_1=det([(alpha[1],alpha[2]),(r[1],r[2])])+det([(omega[1],omega[2]),(v[1],v[2])]);# in/sec**2\n",
    "a_2=-det([(alpha[0],alpha[2]),(r[0],r[2])])+(-det([(omega[0],omega[2]),(v[0],v[2])]));# in/sec**2\n",
    "a_3=det([(alpha[0],alpha[1]),(r[0],r[1])])+det([(omega[0],omega[1]),(v[0],v[1])]);# in/sec**2\n",
    "a=[a_1,a_2,a_3];# in/sec**2\n",
    "print\"   The acceleration of point A,a=%1.0fi+(%1.0f)j+%3.0fk in/sec**2\"%(a[0],a[1],a[2]);\n"
   ]
  },
  {
   "cell_type": "markdown",
   "metadata": {},
   "source": [
    "## SAMPLE PROBLEM 7/3,PAGE NUMBER:530"
   ]
  },
  {
   "cell_type": "code",
   "execution_count": null,
   "metadata": {
    "collapsed": false
   },
   "outputs": [],
   "source": [
    "from numpy.linalg import norm\n",
    "from scipy.optimize import fsolve\n",
    "# Variable declaration\n",
    "omega_1=6;# rad/s\n",
    "r_x=50;# mm\n",
    "r_y=100;# mm\n",
    "r_z=100;# mm\n",
    "\n",
    "# Calculation\n",
    "# v_A=r_x*omega_2;\n",
    "v_B=r_y*omega_1;# (i) mm/s\n",
    "# v_A=v_B+(omega_n*r_A/B);\n",
    "# Expanding the determinant and equating the coefficients of the i, j, k terms give\n",
    "def equations(p):\n",
    "    omega_nx,omega_ny,omega_nz,omega_2=p\n",
    "    return((-6-(omega_ny-omega_nz)),(omega_2-((-2*omega_nx)+omega_nz)),(0-((2*omega_nx)-omega_ny)),(((r_x*omega_nx)+(r_y*omega_ny)+(r_z*omega_nz))))\n",
    "omega_nx,omega_ny,omega_nz,omega_2=fsolve(equations,(1,1,1,1))\n",
    "omega_n=[omega_nx,omega_ny,omega_nz];# rad/s\n",
    "omega_n=norm(omega_n);# rad/s\n",
    "print\"\\nThe angular velocity of crank DA,omega_2=%1.0f rad/s\\nThe angular velocity of link AB,omega_n=%1.3f rad/s\"%(omega_2,omega_n);\n"
   ]
  },
  {
   "cell_type": "markdown",
   "metadata": {},
   "source": [
    "## SAMPLE PROBLEM 7/4,PAGE NUMBER:531"
   ]
  },
  {
   "cell_type": "code",
   "execution_count": null,
   "metadata": {
    "collapsed": false
   },
   "outputs": [],
   "source": [
    "import math\n",
    "from numpy.linalg import norm\n",
    "from scipy.optimize import fsolve\n",
    "# Variable declaration\n",
    "# From sample problem 7/3\n",
    "omega_1=6;# rad/s\n",
    "omega_2=6;# rad/s\n",
    "r_x=50;# mm\n",
    "r_y=100;# mm\n",
    "r_z=100;# mm\n",
    "omega_n=2*math.sqrt(5);# rad/s\n",
    "\n",
    "# Calculation\n",
    "r_AB=[r_x,r_y,r_z];# mm\n",
    "# a_A=[r_x*omega_2**2]i+[r_x*omegadot]j;\n",
    "# a_B=[r_y*omega_1**2]k+[0]i;\n",
    "omegadot=[(omega_n**2*r_AB[0]),(omega_n**2*r_AB[1]),(omega_n**2*r_AB[2])];# rad/s**2\n",
    "# omegadot*r_A/B=(100*omegadot_ny-100*omegadot_nz)i+(50*omegadot_nz-100*omegadot_nx)j+(100*omegadot_nx-50omegadot_ny)k\n",
    "def equations(p):\n",
    "    omegadot_nx,omegadot_ny,omegadot_nz,omegadot_2=p\n",
    "    return((28-(omegadot_ny-omegadot_nz)),((omegadot_2+40)-((-2*omegadot_nx)+omegadot_nz)),(-32-((2*omegadot_nx)-omegadot_ny)),(((2*omegadot_nx)+(4*omegadot_ny)+(4*omegadot_nz))))\n",
    "omegadot_nx,omegadot_ny,omegadot_nz,omegadot_2=fsolve(equations,(1,1,1,1))\n",
    "omegadot_nv=[omegadot_nx,omegadot_ny,omegadot_nz];# rad/s**2\n",
    "omegadot_n=norm(omegadot_nv);# rad/s**2\n",
    "print\"The angular acceleration of crank AD,omegadot_2=%2.0f rad/s\\nomegadot_n=%1.0fi+%1.0fj+(%1.0f)z rad/s**2\\nThe angular acceleration of link AB,omegadot_n=%2.2f rad/s\"%(omegadot_2,omegadot_nv[0],omegadot_nv[1],omegadot_nv[2],omegadot_n);\n",
    "\n"
   ]
  },
  {
   "cell_type": "markdown",
   "metadata": {},
   "source": [
    "## SAMPLE PROBLEM 7/5,PAGE NUMBER:532"
   ]
  },
  {
   "cell_type": "code",
   "execution_count": null,
   "metadata": {
    "collapsed": false
   },
   "outputs": [],
   "source": [
    "import math\n",
    "from numpy.linalg import det,norm\n",
    "# Variable declaration\n",
    "omega=3;# rad/s\n",
    "p=8;# rad/s\n",
    "gamma=30;# degree\n",
    "y=0.300;# m\n",
    "z=0.120;# m\n",
    "\n",
    "# Calculation\n",
    "# Velocity\n",
    "omega=[0,0,3];# rad/s\n",
    "r_B=[0,0.350,0];# m\n",
    "v_B1=det([(omega[1],omega[2]),(r_B[1],r_B[2])]);# m/s\n",
    "v_B2=-det([(omega[0],omega[2]),(r_B[0],r_B[2])]);# m/s\n",
    "v_B3=det([(omega[0],omega[1]),(r_B[0],r_B[1])]);# m/s\n",
    "v_B=[v_B1,v_B2,v_B3];# m/s\n",
    "# Note that k*i=J=jcos(gamma*math.pi/180)-ksin(gamma),K*j=-i*cos(gamma*math.pi/180) and K*k=i*sin(gamma)\n",
    "r_AB=[0,y,z];# m\n",
    "# omega*r_AB=3K*(yj+zk);\n",
    "omegaintor_AB=(-(omega[2]*(y*math.cos(gamma*math.pi/180))))+(omega[2]*(z*math.sin(gamma*math.pi/180)));# m/s\n",
    "p=[0,8,0];# rad/s\n",
    "v_rel1=det([(p[1],p[2]),(r_AB[1],r_AB[2])]);# m/s\n",
    "v_rel2=-det([(p[0],p[2]),(r_AB[0],r_AB[2])]);# m/s\n",
    "v_rel3=det([(p[0],p[1]),(r_AB[0],r_AB[1])]);# m/s\n",
    "v_rel=[v_rel1,v_rel2,v_rel3];# m/s\n",
    "v_A=v_B[0]+omegaintor_AB+v_rel[0];# m/s\n",
    "print\"The velocity of point A,v_A=%0.4fi m/s\"%v_A;\n",
    "# Acceleration\n",
    "a_B1=det([(omega[1],omega[2]),(v_B[1],v_B[2])]);# m/s**2\n",
    "a_B2=-det([(omega[0],omega[2]),(v_B[0],v_B[2])]);# m/s**2\n",
    "a_B3=det([(omega[0],omega[1]),(v_B[0],v_B[1])]);# m/s**2\n",
    "a_B=[a_B1,a_B2,a_B3];# m/s**2\n",
    "a_B=[0,((a_B[1]*(math.cos(gamma*math.pi/180)))),-(a_B[1]*(math.sin(gamma*math.pi/180)))];# m/s**2\n",
    "omegadot=0;# m/s**2\n",
    "# Assume O=omega*(omega*r_A/B)\n",
    "O=[0,((omega[2]*omegaintor_AB*(math.cos(gamma*math.pi/180)))),-omega[2]*(omegaintor_AB*(math.sin(gamma*math.pi/180)))];# m/s**2\n",
    "# Assume O_1=2*omega*v_rel\n",
    "O_1=[0,((2*omega[2]*v_rel[0]*(math.cos(gamma*math.pi/180)))),-2*omega[2]*(v_rel[0]*(math.sin(gamma*math.pi/180)))];# m/s**2\n",
    "a_rel1=det([(p[1],p[2]),(v_rel[1],v_rel[2])]);# m/s**2\n",
    "a_rel2=-det([(p[0],p[2]),(v_rel[0],v_rel[2])]);# m/s**2\n",
    "a_rel3=det([(p[0],p[1]),(v_rel[0],v_rel[1])]);# m/s**2\n",
    "a_rel=[a_rel1,a_rel2,a_rel3];# m/s**2\n",
    "a_A=[(a_B[0]+(omegadot*r_AB[0])+O[0]+O_1[0]+a_rel1),(a_B[1]+(omegadot*r_AB[1])+O[1]+O_1[1]+a_rel2),(a_B[2]+(omegadot*r_AB[2])+O[2]+O_1[2]+a_rel3)];# m/s**2\n",
    "a_A=norm(a_A);# m/s**2\n",
    "print\"The acceleration of point A,a_A=%1.2f m/s\"%a_A;\n",
    "# Angular Acceleration\n",
    "# Note that k*i=J=jcos(gamma*math.pi/180)-ksin(gamma),K*j=-i*cos(gamma*math.pi/180) and K*k=i*sin(gamma)\n",
    "omega=[3,8];# rad/s (K,j)(k*j=-i*cos(gamma*math.pi/180))\n",
    "alpha=(0+(-omega[0]*omega[1]*math.cos(gamma*math.pi/180)));# (i) rad/s**2\n",
    "print\"The angular acceleration of the disk,alpha=%2.1fi rad/s**2\"%alpha;\n"
   ]
  },
  {
   "cell_type": "markdown",
   "metadata": {},
   "source": [
    "## SAMPLE PROBLEM 7/6,PAGE NUMBER:544"
   ]
  },
  {
   "cell_type": "code",
   "execution_count": null,
   "metadata": {
    "collapsed": false
   },
   "outputs": [],
   "source": [
    "import math\n",
    "# Variable declaration\n",
    "m=70;# The mass of bent plate in kg\n",
    "omega=30;# rad/s\n",
    "x_A=0.125;# m\n",
    "y_A=0.100;# m\n",
    "x_B=0.075;# m\n",
    "y_B=.150;# m\n",
    "d_x=0.0375;# m\n",
    "d_y=0.125;# m\n",
    "d_z=0.075;# m\n",
    "\n",
    "# Calculation\n",
    "# Part A\n",
    "m_A=x_A*y_A*m;# kg\n",
    "m_B=x_B*y_B*m;# kg\n",
    "I_xxA=((m_A/12)*(y_A**2+x_A**2))+(m_A*((x_A/2)**2+(y_A/2)**2));# kg.m**2\n",
    "I_yyA=(m_A/3)*(y_A)**2;# kg.m**2\n",
    "I_zzA=(m_A/3)*(x_A)**2;# kg.m**2\n",
    "I_xyA=0;# kg.m**2\n",
    "I_xzA=0;# kg.m**2\n",
    "I_yzA=0+(m_A*(x_A/2)*(y_A/2));# kg.m**2\n",
    "# Part B\n",
    "I_xxB=((m_B/12)*(y_B**2))+((m_B)*(d_y**2+d_z**2));# kg.m**2\n",
    "I_yyB=((m_B/12)*(x_B**2+y_B**2))+(m_B*(d_x**2+d_z**2));# kg.m**2\n",
    "I_zzB=((m_B/12)*(x_B**2))+(m_B*((x_A)**2+(d_x**2)));# kg.m**2\n",
    "I_xyB=0+(m_B*d_x*d_y);# kg.m**2\n",
    "I_xzB=0+(m_B*d_x*d_z);# kg.m**2\n",
    "I_yzB=0+(m_B*d_y*d_z);# kg.m**2\n",
    "I_xx=I_xxA+I_xxB;# kg.m**2\n",
    "I_yy=I_yyA+I_yyB;# kg.m**2\n",
    "I_zz=I_zzA+I_zzB;# kg.m**2\n",
    "I_xy=I_xyA+I_xyB;# kg.m**2\n",
    "I_xz=I_xzA+I_xzB;# kg.m**2\n",
    "I_yz=I_yzA+I_yzB;# kg.m**2\n",
    "# (a)\n",
    "H_o=[-(omega*I_xz),-(omega*I_yz),(omega*I_zz)];# The angular momentum of the body in N.m.s\n",
    "# (b)\n",
    "T=((omega)*(H_o[2]))/2;#(k.i=0,k.j=0,k.k=1) The kinetic energy in J\n",
    "print\"(a)The angular momentum H of the plate about point O,H_O=%0.4fi+(%0.4f)j+%0.4fk\\n(b)The kinetic energy of the plate,T=%1.2f J\"%(H_o[0],H_o[1],H_o[2],T);\n"
   ]
  },
  {
   "cell_type": "markdown",
   "metadata": {},
   "source": [
    "## SAMPLE PROBLEM 7/8,PAGE NUMBER:566"
   ]
  },
  {
   "cell_type": "code",
   "execution_count": null,
   "metadata": {
    "collapsed": false
   },
   "outputs": [],
   "source": [
    "import math\n",
    "# Variable declaration\n",
    "m=1000;# The mass of turbine rotor in kg\n",
    "k=0.200;# m\n",
    "N=500;# rev/min\n",
    "rho=400;# The radius of gyration in m\n",
    "v=25*0.514;# m/s\n",
    "d_AG=0.6;# m\n",
    "d_GB=0.9;# m\n",
    "d_AB=d_AG+d_GB;# m\n",
    "g=9.81;# The acceleration due to gravity in m/s**2\n",
    "\n",
    "# Calculation\n",
    "# The moment principle from statics easily gives\n",
    "W=m*g;# N\n",
    "R_1=(m*g)*d_AG;# N\n",
    "R_2=W-R_1;# N\n",
    "omega=(v/rho);# rad/s\n",
    "I=m*k**2;# kg-m**2\n",
    "deltaR=(I*omega*((2*math.pi*N)/60))/d_AB;\n",
    "R_A=R_1-deltaR;# N\n",
    "R_B=R_2+deltaR;# N\n",
    "print\"The vertical components of the bearing reactions at A and B,R_A=%4.0f N and R_B=%4.0f N\"%(R_A,R_B);\n",
    "# The answer provided in the textbook is wrong\n"
   ]
  },
  {
   "cell_type": "markdown",
   "metadata": {},
   "source": [
    "## SAMPLE PROBLEM 7/9,PAGE NUMBER:567"
   ]
  },
  {
   "cell_type": "code",
   "execution_count": null,
   "metadata": {
    "collapsed": false
   },
   "outputs": [],
   "source": [
    "# SAMPLE PROBLEM 7/9\n",
    "import math\n",
    "# Variable declaration\n",
    "t=4;# s\n",
    "theta=20;# degree\n",
    "p=(2*math.pi)/4;# rad/s\n",
    "\n",
    "# Calculation\n",
    "# (a)\n",
    "# I_zz=(56/3)*mr**2;\n",
    "# I_xx=(32/3)*mr**2;\n",
    "# By using coefficient of I_xx and I_zz\n",
    "I=56/3;# The moment of inertia\n",
    "I_0=32/3;# The moment of inertia\n",
    "costheta=1;# radian\n",
    "n=I/((I_0-I)*costheta);# The ratio of angular rates\n",
    "# (b)\n",
    "tau=((2*math.pi)/p)*abs(((I_0-I)/I)*math.cos(theta*math.pi/180));# s\n",
    "beta=math.atan((I/I_0)*math.tan(theta));# degree\n",
    "print\"(a)The number of complete cycles,n=%1.2f \\n   The minus sign indicates retrograde precession where, in the present case,and p are essentially of opposite sense. Thus, the station will make seven wobbles for every three revolutions.\\n(b)The period of precession,tau=%1.3f s\"%(n,tau);\n"
   ]
  }
 ],
 "metadata": {
  "kernelspec": {
   "display_name": "Python 2",
   "language": "python",
   "name": "python2"
  },
  "language_info": {
   "codemirror_mode": {
    "name": "ipython",
    "version": 2
   },
   "file_extension": ".py",
   "mimetype": "text/x-python",
   "name": "python",
   "nbconvert_exporter": "python",
   "pygments_lexer": "ipython2",
   "version": "2.7.11"
  }
 },
 "nbformat": 4,
 "nbformat_minor": 0
}
