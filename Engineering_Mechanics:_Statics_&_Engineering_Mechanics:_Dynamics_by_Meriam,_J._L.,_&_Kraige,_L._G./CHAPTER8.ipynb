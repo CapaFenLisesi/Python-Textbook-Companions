{
 "cells": [
  {
   "cell_type": "markdown",
   "metadata": {
    "collapsed": true
   },
   "source": [
    "# CHAPTER 8:ENERGY METHODS"
   ]
  },
  {
   "cell_type": "markdown",
   "metadata": {
    "collapsed": true
   },
   "source": [
    "## SAMPLE PROBLEM 8/1,PAGE NUMBER:592"
   ]
  },
  {
   "cell_type": "code",
   "execution_count": null,
   "metadata": {
    "collapsed": false
   },
   "outputs": [],
   "source": [
    "import math\n",
    "# Given data \n",
    "W=25;# The weight of the body in lb\n",
    "k=160;# lb/ft\n",
    "v=2;# The downward velocity in  ft/sec\n",
    "g=32.2;# The acceleration due to gravity in ft/sec^2\n",
    "\n",
    "# Calculation\n",
    "# (a)\n",
    "delta_st=W/k;# The static spring deflection in ft\n",
    "delta_st=delta_st*12;# in\n",
    "# (b)\n",
    "omega_n=math.sqrt(k/(W/g));# The natural frequency of the system in rad/sec\n",
    "f_n=omega_n*(1/(2*math.pi));# The natural frequency of the system in cycles/sec\n",
    "# (c)\n",
    "tau=1/f_n;# The system period in sec\n",
    "print\"\\n(a)The static spring deflection,delta_st=%0.4f ft (or)%1.3f in \\n(b)The natural frequency of the system,omega_n=%2.2f rad/sec \\n   The natural frequency of the system,f_n=%0.3f sec \\n(c)The system period,tau=%0.3f sec\"%(delta_st/12,delta_st,omega_n,f_n,tau);\n"
   ]
  },
  {
   "cell_type": "markdown",
   "metadata": {
    "collapsed": true
   },
   "source": [
    "## SAMPLE PROBLEM 8/2,PAGE NUMBER:592"
   ]
  },
  {
   "cell_type": "code",
   "execution_count": null,
   "metadata": {
    "collapsed": false
   },
   "outputs": [],
   "source": [
    "import math\n",
    "\n",
    "#Variable Declaration\n",
    "m=8;# kg\n",
    "s=0.2;# m\n",
    "t_1=0;# s\n",
    "t_2=2;# s\n",
    "c=20;# N.s/m\n",
    "k=32;# N/m\n",
    "\n",
    "#Calculation\n",
    "omega_n=math.sqrt(k/m);# rad/s\n",
    "eta=c/(2*m*omega_n);# The damping ratio\n",
    "omega_d=omega_n*math.sqrt(1-(eta**2));#The damped natural frequency in rad/s\n",
    "x_2=0.256*math.exp(-1.25*t_2)*math.sin(((1.561*t_2)+0.896)*180/math.pi);# m\n",
    "print\"\\nThe displacement in meters, x_2=%0.5f m\"%x_2;\n",
    "\n"
   ]
  },
  {
   "cell_type": "markdown",
   "metadata": {
    "collapsed": true
   },
   "source": [
    "## SAMPLE PROBLEM 8/4,PAGE NUMBER:608"
   ]
  },
  {
   "cell_type": "code",
   "execution_count": null,
   "metadata": {
    "collapsed": false
   },
   "outputs": [],
   "source": [
    "import math\n",
    "\n",
    "#Variable Declaration\n",
    "m=50;#  kg\n",
    "k=7500;# Number of springs\n",
    "# x_B=0.002cos50t\n",
    "omega=50;# rad/s\n",
    "b=0.002;# m\n",
    "k=7500;# The stiffness of the spring in N/m\n",
    "\n",
    "#Calculation\n",
    "omega_n=math.sqrt((4*k/m));# The resonant frequency in rad/s\n",
    "X=b/(1-(omega/omega_n)**2);# m\n",
    "print\"\\nThe amplitude of the steady-state motion of the instrument,X=%1.2e m (or) %0.3f mm\"%(X,X*10**3);"
   ]
  },
  {
   "cell_type": "markdown",
   "metadata": {
    "collapsed": true
   },
   "source": [
    "## SAMPLE PROBLEM 8/6,PAGE NUMBER:608"
   ]
  },
  {
   "cell_type": "code",
   "execution_count": null,
   "metadata": {
    "collapsed": false
   },
   "outputs": [],
   "source": [
    "import math\n",
    "\n",
    "#Variable Declaration\n",
    "m=100;# The mass of piston in lb\n",
    "k=200;# The spring stiffness in lb/in\n",
    "c=85;# The damping coefficient in lb-sec/ft\n",
    "# A fluctuating pressure p=0.625sin30t in lb/in**2;\n",
    "omega=30;# rad/s\n",
    "a=80;# The top surface area of the piston in in**2\n",
    "g=32.2;# The acceleration due to gravity in ft/sec**2\n",
    "\n",
    "#Calculation\n",
    "omega_n=math.sqrt((k*12)/(m/g));# The natural frequency of the system in rad/s\n",
    "Zeta=c/(2*(m/g)*omega_n);# Damping ratio\n",
    "#At steady state condition,\n",
    "p=0.625;# lb/in**2\n",
    "F_0=(p*a);# lb\n",
    "X=(F_0/(k*12))/math.sqrt(((1-(omega/omega_n)**2)**2)+(((2*Zeta*omega)/omega_n)**2));# The steady-state amplitude in ft\n",
    "phi=math.atan(((2*Zeta*(omega/omega_n))/(1-((omega/omega_n)**2))));#The phase angle in rad\n",
    "F_trmax=X*math.sqrt(((k*12)**2)+((c**2)*(omega**2)));#The maximum force transmitted to the base in lb\n",
    "print\"\\nThe steady-state displacement as a function of time,x_p=%0.5fsin(%2.0ft-(%1.3f))ft \\nThe maximum force transmitted to the base,(F_tr)_max=%2.1f lb\"%(X,omega,phi,F_trmax);\n"
   ]
  },
  {
   "cell_type": "markdown",
   "metadata": {
    "collapsed": true
   },
   "source": [
    "## SAMPLE PROBLEM 8/7,PAGE NUMBER:616"
   ]
  },
  {
   "cell_type": "code",
   "execution_count": null,
   "metadata": {
    "collapsed": false
   },
   "outputs": [],
   "source": [
    "import math\n",
    "\n",
    "#Variable Declaration\n",
    "rbar=0.9;# Distance in m\n",
    "k_o=0.95;# The radius of gyration in m\n",
    "g=9.81; #The acceleration due to gravity in m/s**2\n",
    "\n",
    "#Calculation\n",
    "tau=2*math.pi*math.sqrt((k_o)**2/(g*rbar));# The period for small oscillations about the pivot in s\n",
    "print\"The period for small oscillations about the pivot is\",round(tau,2),\"s\"\n"
   ]
  },
  {
   "cell_type": "markdown",
   "metadata": {
    "collapsed": true
   },
   "source": [
    "## SAMPLE PROBLEM 8/9,PAGE NUMBER:617"
   ]
  },
  {
   "cell_type": "code",
   "execution_count": null,
   "metadata": {
    "collapsed": false
   },
   "outputs": [],
   "source": [
    "import math\n",
    "\n",
    "#Variable Declaration\n",
    "m=50;#The mass of cylinder in kg\n",
    "r=0.5;#The radius of the cylinder in m\n",
    "k=75;#The spring constant in N/m\n",
    "c=10;#The damping coefficient in N.s/m\n",
    "x=-0.2;# m\n",
    "t=0;# s\n",
    "\n",
    "#Calculation\n",
    "#(a)\n",
    "omega_n=math.sqrt((2*k)/(3*m));# The undamped natural frequency in rad/s\n",
    "#(b)\n",
    "Zeta=((c/(m*omega_n))/3);# The damping ratio\n",
    "#(c)\n",
    "omega_d=omega_n*math.sqrt(1-(Zeta)**2);# The damped natural frequency in rad/s\n",
    "#(d)\n",
    "tau_d=(2*math.pi)/omega_d;# The period of the damped system in s\n",
    "\n",
    "# Result\n",
    "print\"The undamped natural frequency is\",round(omega_n,0),\"rad/s\"\n",
    "print\"The damping ratio is\",round(Zeta,4)\n",
    "print\"The damped natural frequency is\",round(omega_d,3),\"rad/s\"\n",
    "print\"The period of the damped system is\",round(tau_d,2),\"s\"\n"
   ]
  },
  {
   "cell_type": "markdown",
   "metadata": {
    "collapsed": true
   },
   "source": [
    "## SAMPLE PROBLEM 8/11,PAGE NUMBER:627"
   ]
  },
  {
   "cell_type": "code",
   "execution_count": null,
   "metadata": {
    "collapsed": false
   },
   "outputs": [],
   "source": [
    "import math\n",
    "\n",
    "#Variable Declaration\n",
    "m_c=3;# Mass of the collar in kg\n",
    "m_l=1.2;# Mass of the links in kg\n",
    "k=1.5;# The stiffness of the spring in kN/m\n",
    "g=9.81;# The acceleration due to gravity in m/s^2\n",
    "\n",
    "#Calculation\n",
    "P=(m_c*g)+(2*(1/2)*m_l*g);#The compression P in the spring in N\n",
    "delta_st=P/(k*10**3);# The corresponding static deflection of the spring in m\n",
    "# V_g=-5.89y J.....(1)\n",
    "# V=750y**2  J.....(2)\n",
    "# T=1.9y**2   .....(3)\n",
    "# T_max=y_max with ydot=ydot_max.....(5)\n",
    "omega_n=math.sqrt(750/1.9);\n",
    "print\"The natural frequency of vertical vibration,omega_n=\",round(omega_n,2),\"Hz\"\n"
   ]
  }
 ],
 "metadata": {
  "kernelspec": {
   "display_name": "Python 2",
   "language": "python",
   "name": "python2"
  },
  "language_info": {
   "codemirror_mode": {
    "name": "ipython",
    "version": 2
   },
   "file_extension": ".py",
   "mimetype": "text/x-python",
   "name": "python",
   "nbconvert_exporter": "python",
   "pygments_lexer": "ipython2",
   "version": "2.7.11"
  }
 },
 "nbformat": 4,
 "nbformat_minor": 0
}
