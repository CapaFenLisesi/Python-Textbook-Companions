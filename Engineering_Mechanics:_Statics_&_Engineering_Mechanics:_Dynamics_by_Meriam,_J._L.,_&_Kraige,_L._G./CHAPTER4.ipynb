{
 "cells": [
  {
   "cell_type": "markdown",
   "metadata": {},
   "source": [
    "# CHAPTER 4:KINETICS OF SYSTEMS OF  PARTICLES"
   ]
  },
  {
   "cell_type": "markdown",
   "metadata": {
    "collapsed": true
   },
   "source": [
    "## SAMPLE PROBLEM 4/4,PAGE NUMBER:279"
   ]
  },
  {
   "cell_type": "code",
   "execution_count": null,
   "metadata": {
    "collapsed": false
   },
   "outputs": [],
   "source": [
    "import math\n",
    "# Variable declaration\n",
    "m=20;# kg\n",
    "u_z=300;# m/s\n",
    "g=9.81;# m/s**2\n",
    "m_a=5;# kg\n",
    "m_b=9;# kg\n",
    "m_c=6;# kg\n",
    "theta=45;# degree\n",
    "s=4000;# m\n",
    "x=3;# m\n",
    "y=4;# m\n",
    "r=5;# m\n",
    "h_a=500;# m\n",
    "\n",
    "# Calculation\n",
    "t=(u_z*y)/(r*g);# The time required for the shell to reach P in s\n",
    "h=u_z**2/(2*g);# The verticl rise in m\n",
    "v_a=math.sqrt(2*g*h_a);# m/s\n",
    "v_b=s/t;# m/s\n",
    "v_c=[((m*u_z*(x/r))-(m_b*v_b*math.cos(theta*math.pi/180)))/6,(m_b*v_b*math.sin(theta*math.pi/180))/6,(m_a*v_a)/6];# m/s\n",
    "v_c=math.sqrt((v_c[0])**2+(v_c[1])**2+(v_c[2])**2);# m/s\n",
    "print\"\\nThe velocity which fragment C has immediately after the explosion,v_C=%3.0f m/s\"%v_c;\n"
   ]
  },
  {
   "cell_type": "markdown",
   "metadata": {
    "collapsed": true
   },
   "source": [
    "## SAMPLE PROBLEM 4/5,PAGE NUMBER:280"
   ]
  },
  {
   "cell_type": "code",
   "execution_count": null,
   "metadata": {
    "collapsed": false
   },
   "outputs": [],
   "source": [
    "import math\n",
    "# Variable declaration\n",
    "g=32.2;# The acceleration due to gravity in ft/sec**2\n",
    "n_12=80;# rev/min\n",
    "n_34=100;# rev/min\n",
    "W_a=32.2;# lb\n",
    "W_b=3.22;# lb\n",
    "n=4;# Number of balls\n",
    "vbar=4;# m/s\n",
    "r_12=18*12**-1;# ft\n",
    "r_34=12*12**-1;# ft\n",
    "\n",
    "# Calculation\n",
    "# (a)Kinetic energy\n",
    "v_rel12=r_12*((2*math.pi*n_12)/60);# ft/sec\n",
    "v_rel34=r_34*((2*math.pi*n_34)/60);# ft/sec\n",
    "ke=(((W_a/g)+(n*(W_b/g)))/2)*(vbar)**2;# ft-lb\n",
    "ke_r=(2*((W_b/g)*v_rel12**2)/2)+(2*((W_b/g)*v_rel34**2)/2);# The rotational part of the kinetic energy in f\n",
    "T=ke+ke_r;# The total kinetic energy in ft-lb\n",
    "# (b)Linear momentum\n",
    "G=((W_a/g)+(n*(W_b/g)))*vbar;# ft-lb-sec\n",
    "# (c)Angular momentum about O.\n",
    "H_O=(2*((W_b/g)*r_12*v_rel12))-(2*(W_b/g)*r_34*v_rel34);# lb-sec\n",
    "print\"\\n(a)The kinetic energy,T=%2.0f ft-lb \\n(b)The magnitude of the linear momentum,G=%1.1f lb-sec \\n(c)The magnitude of the angular momentum about point O,H_O=%1.3f ft-lb-sec\"%(T,G,H_O);\n"
   ]
  }
 ],
 "metadata": {
  "kernelspec": {
   "display_name": "Python 2",
   "language": "python",
   "name": "python2"
  },
  "language_info": {
   "codemirror_mode": {
    "name": "ipython",
    "version": 2
   },
   "file_extension": ".py",
   "mimetype": "text/x-python",
   "name": "python",
   "nbconvert_exporter": "python",
   "pygments_lexer": "ipython2",
   "version": "2.7.11"
  }
 },
 "nbformat": 4,
 "nbformat_minor": 0
}
