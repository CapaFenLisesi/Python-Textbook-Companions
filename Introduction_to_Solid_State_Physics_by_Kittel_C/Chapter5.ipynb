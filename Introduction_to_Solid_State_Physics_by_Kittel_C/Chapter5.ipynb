{
 "metadata": {
  "name": "Chapter_5_Kittel"
 },
 "nbformat": 3,
 "nbformat_minor": 0,
 "worksheets": [
  {
   "cells": [
    {
     "cell_type": "heading",
     "level": 1,
     "metadata": {},
     "source": "Chapter 5 : Phonons and Lattice Vibrations\n"
    },
    {
     "cell_type": "heading",
     "level": 2,
     "metadata": {},
     "source": "Example 1: Generation of phonons, Page 137"
    },
    {
     "cell_type": "code",
     "collapsed": false,
     "input": "# importing modules\nfrom __future__ import division\nimport math\n\n# Variable declaration\n\nl = 4 * 10**(-5);  # the wavelength in cm for visible light -4000 Angstrom\nVs = 5 * 10**(5);  # velocity of sound in  cm/sec\nn = 1.5 ;          # refractive index of the crystal\n\nNu = (2*Vs*2*3.14*n)/(l);    # Nu = [2Vs(2*3.14)*n/l]*sin(psi/2)  and here sin(psi/2)=1\n\n#Result\n\nprint \" The maximum phonon frequency is \", Nu , \" per sec\"\n\n",
     "language": "python",
     "metadata": {},
     "outputs": [
      {
       "output_type": "stream",
       "stream": "stdout",
       "text": " The maximum phonon frequency is  2.355e+11  per sec\n"
      }
     ],
     "prompt_number": 1
    },
    {
     "cell_type": "code",
     "collapsed": false,
     "input": "",
     "language": "python",
     "metadata": {},
     "outputs": []
    }
   ],
   "metadata": {}
  }
 ]
}