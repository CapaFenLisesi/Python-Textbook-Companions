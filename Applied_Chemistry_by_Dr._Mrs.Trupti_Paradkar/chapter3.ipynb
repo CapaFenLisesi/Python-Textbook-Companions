{
  "worksheets": [
    {
      "cells": [
        {
          "level": 1,
          "cell_type": "heading",
          "source": "Chapter 3:Lubricants"
        },
        {
          "level": 2,
          "cell_type": "heading",
          "source": "Example no:1,Page no:27"
        },
        {
          "cell_type": "code",
          "input": "#Variable declaration\nwt_oil=4.55#weight f oil saponified(gms)#\nvolume=2.1#volume of alcoholic KOH consumed to neutralize fatty acids(ml)#\nnormality_KOH=0.02#normality of KOH #\n\n#Calculation\nA=volume*normality_KOH*56./wt_oil#formula for acid value#\n\n#Result\nprint\"\\nAcid value of oil is \",round(A,3),\"mg/g\"\n\n",
          "outputs": [
            {
              "stream": "stdout",
              "text": "\nAcid value of oil is 0.517 mg/g\n",
              "output_type": "stream"
            }
          ],
          "language": "python",
          "metadata": {
            "cellView": null,
            "executionInfo": null
          }
        },
        {
          "level": 2,
          "cell_type": "heading",
          "source": "Example no:2,Page no:28"
        },
        {
          "cell_type": "code",
          "input": "#Variable declaration\nwt_oil=10.#weight f oil saponified(gms)#\nvolume=2.4#volume of alcoholic KOH consumed to neutralize fatty acids(ml)#\nnormality_KOH=0.02#normality of KOH #\n\n#Calculation\nA=volume*normality_KOH*56./wt_oil#formula for acid value#\n\n#Result\nprint\"\\nAcid value of oil is \",round(A,3)-.001,\"mg/g\"\nprint\"\\nAs the acid value is more than 0.1, oil cannot be used for lubrication\"\n\n",
          "outputs": [
            {
              "stream": "stdout",
              "text": "\nAcid value of oil is 0.268 mg/g\n\nAs the acid value is more than 0.1, oil cannot be used for lubrication\n",
              "output_type": "stream"
            }
          ],
          "language": "python",
          "metadata": {
            "cellView": null,
            "executionInfo": null
          }
        },
        {
          "level": 2,
          "cell_type": "heading",
          "source": "Example no:3,Page no:28"
        },
        {
          "cell_type": "code",
          "input": "#Variable declaration\nvol_oil=20.#volume of oil saponified(ml)#\nden_oil=0.86#density f oil saponified(gm/ml)#\nvolume=2.5#volume of alcoholic KOH consumed to neutralize fatty acids(ml)#\nnormality_KOH=0.1#normality of KOH #\n\n#Calculation\nwt_oil=vol_oil*den_oil\nA=volume*normality_KOH*56./wt_oil#formula for acid value#\n\n#Result\nprint\"\\nAcid value of oil is \",round(A,3),\"mg/g\"\n\n",
          "outputs": [
            {
              "stream": "stdout",
              "text": "\nAcid value of oil is 0.814 mg/g\n",
              "output_type": "stream"
            }
          ],
          "language": "python",
          "metadata": {
            "cellView": null,
            "executionInfo": null
          }
        },
        {
          "level": 2,
          "cell_type": "heading",
          "source": "Example no:4,Page no:29"
        },
        {
          "cell_type": "code",
          "input": "#Variable declaration\nvol_oil=10.#volume of oil saponified(ml)#\nden_oil=0.92#density f oil saponified(gm/ml)#\nvolume=4#volume of alcoholic KOH consumed to neutralize fatty acids(ml)#\nnormality_KOH=0.01#normality of KOH #\n\n#Calculation\nwt_oil=vol_oil*den_oil\nA=volume*normality_KOH*56./wt_oil#formula for acid value#\n\n#Result\nprint\"\\nAcid value of oil is \",round(A,3),\"mg/g\"\n\n",
          "outputs": [
            {
              "stream": "stdout",
              "text": "\nAcid value of oil is 0.243 mg/g\n",
              "output_type": "stream"
            }
          ],
          "language": "python",
          "metadata": {
            "cellView": null,
            "executionInfo": null
          }
        },
        {
          "level": 2,
          "cell_type": "heading",
          "source": "Example no:5,Page no:27"
        },
        {
          "cell_type": "code",
          "input": "#Variable declaration\nvol_oil=9.#volume of oil saponified(ml)#\nden_oil=0.81#density f oil saponified(gm/ml)#\nvolume=1.5#volume of alcoholic KOH consumed to neutralize fatty acids(ml)#\nnormality_KOH=0.04#normality of KOH #\n\n#Calculation\nwt_oil=vol_oil*den_oil\nA=volume*normality_KOH*56./wt_oil#formula for acid value#\n\n#Result\nprint\"\\nAcid value of oil is \",round(A,3),\"mg/g\"\n\n",
          "outputs": [
            {
              "stream": "stdout",
              "text": "\nAcid value of oil is 0.461 mg/g\n",
              "output_type": "stream"
            }
          ],
          "language": "python",
          "metadata": {
            "cellView": null,
            "executionInfo": null
          }
        },
        {
          "level": 2,
          "cell_type": "heading",
          "source": "Example no:6,Page no:30"
        },
        {
          "cell_type": "code",
          "input": "#Variable declaration\nvol_oil=20.#volume of oil saponified(ml)#\nden_oil=0.86#density f oil saponified(gm/ml)#\nvolume=2.8#volume of alcoholic KOH consumed to neutralize fatty acids(ml)#\nnormality_KOH=1./10.#normality of KOH #\n\n#Calculation\nwt_oil=vol_oil*den_oil\nA=volume*normality_KOH*56./wt_oil#formula for acid value#\n\n#Result\nprint\"\\nAcid value of oil is \",round(A,3)-.001,\"mg/g\"\nprint\"\\nAs the acid value is more than 0.1, oil cannot be used for lubrication\"\n\n",
          "outputs": [
            {
              "stream": "stdout",
              "text": "\nAcid value of oil is 0.911 mg/g\n\nAs the acid value is more than 0.1, oil cannot be used for lubrication\n",
              "output_type": "stream"
            }
          ],
          "language": "python",
          "metadata": {
            "cellView": null,
            "executionInfo": null
          }
        },
        {
          "level": 2,
          "cell_type": "heading",
          "source": "Example no:7,Page no:30"
        },
        {
          "cell_type": "code",
          "input": "#Variable declaration\nvol_oil=7.#volume of oil saponified(ml)#\nden_oil=0.88#density f oil saponified(gm/ml)#\nvolume=3.8#volume of alcoholic KOH consumed to neutralize fatty acids(ml)#\nnormality_KOH=0.02#normality of KOH #\n\n#Calculation\nwt_oil=vol_oil*den_oil\nA=volume*normality_KOH*56./wt_oil#formula for acid value#\n\n#Result\nprint\"\\nAcid value of oil is \",round(A,2),\"mg/g\"\nprint\"\\nAs the acid value is more than 0.1, oil cannot be used for lubrication\"\n\n",
          "outputs": [
            {
              "stream": "stdout",
              "text": "\nAcid value of oil is 0.69 mg/g\n\nAs the acid value is more than 0.1, oil cannot be used for lubrication\n",
              "output_type": "stream"
            }
          ],
          "language": "python",
          "metadata": {
            "cellView": null,
            "executionInfo": null
          }
        },
        {
          "level": 2,
          "cell_type": "heading",
          "source": "Example no:8,Page no:31"
        },
        {
          "cell_type": "code",
          "input": "#Variable declaration\nvol_oil=6.#volume of oil saponified(ml)#\nden_oil=0.91#density f oil saponified(gm/ml)#\nvolume=2.6#volume of alcoholic KOH consumed to neutralize fatty acids(ml)#\nnormality_KOH=0.02#normality of KOH #\n\n#Calculation\nwt_oil=vol_oil*den_oil\nA=volume*normality_KOH*56./wt_oil#formula for acid value#\n\n#Result\nprint\"\\nAcid value of oil is \",round(A,3),\"mg/g\"\nprint\"\\nAs the acid value is more than 0.1, oil cannot be used for lubrication\"\n\n",
          "outputs": [
            {
              "stream": "stdout",
              "text": "\nAcid value of oil is 0.533 mg/g\n\nAs the acid value is more than 0.1, oil cannot be used for lubrication\n",
              "output_type": "stream"
            }
          ],
          "language": "python",
          "metadata": {
            "cellView": null,
            "executionInfo": null
          }
        },
        {
          "level": 2,
          "cell_type": "heading",
          "source": "Example no:9,Page no:31"
        },
        {
          "cell_type": "code",
          "input": "#Variable declaration\nwt_oil=1.3#weight f oil saponified(gms)#\nvolume=0.8#volume of alcoholic KOH consumed to neutralize fatty acids(ml)#\nnormality_KOH=0.001#normality of KOH #\n\n#Calculation\nA=volume*normality_KOH*56./wt_oil#formula for acid value#\n\n#Result\nprint\"\\nAcid value of oil is \",round(A,5),\"mg/g\"\nprint\"\\nAs the acid value is less than 0.1, oil can be used for lubrication\"\n\n",
          "outputs": [
            {
              "stream": "stdout",
              "text": "\nAcid value of oil is 0.0.03446 mg/g\n\nAs the acid value is less than 0.1, oil can be used for lubrication\n",
              "output_type": "stream"
            }
          ],
          "language": "python",
          "metadata": {
            "cellView": null,
            "executionInfo": null
          }
        },
        {
          "level": 2,
          "cell_type": "heading",
          "source": "Example no:10,Page no:32"
        },
        {
          "cell_type": "code",
          "input": "#Variable declaration\nvol_oil=10.#volume of oil saponified(ml)#\nden_oil=0.91#density f oil saponified(gm/ml)#\nvolume=5.#volume of alcoholic KOH consumed to neutralize fatty acids(ml)#\nnormality_KOH=1./50#normality of KOH #\n\n#Calculation\nwt_oil=vol_oil*den_oil\nA=volume*normality_KOH*56./wt_oil#formula for acid value#\n\n#Result\nprint\"\\nAcid value of oil is \",round(A,3),\"mg/g\"\nprint\"\\nAs the acid value is more than 0.1, oil cannot be used for lubrication\"\n\n",
          "outputs": [
            {
              "stream": "stdout",
              "text": "\nAcid value of oil is 0.615 mg/g\n\nAs the acid value is more than 0.1, oil cannot be used for lubrication\n",
              "output_type": "stream"
            }
          ],
          "language": "python",
          "metadata": {
            "cellView": null,
            "executionInfo": null
          }
        },
        {
          "level": 2,
          "cell_type": "heading",
          "source": "Example no:1,Page no:33"
        },
        {
          "cell_type": "code",
          "input": "#Variable declaration\nwt_oil=2.5#weight f oil saponified(gms)#\nblank=49.0#volume blank titration reading(ml)#\nback=26.4#volume back titration reading(ml)#\n\n#Calculation\nvolume=blank-back#volume of alcoholic KOH consumed(ml)#\nnormality_KOH=0.4#normality of KOH#\nS=volume*normality_KOH*56/wt_oil#formula for saponification value#\n\n#Result\nprint\"\\nSaponification value of oil is \",round(S,3),\"mg/g\"\n\n",
          "outputs": [
            {
              "stream": "stdout",
              "text": "\nSaponification value of oil is 202.496 mg/g\n",
              "output_type": "stream"
            }
          ],
          "language": "python",
          "metadata": {
            "cellView": null,
            "executionInfo": null
          }
        },
        {
          "level": 2,
          "cell_type": "heading",
          "source": "Example no:2,Page no:33"
        },
        {
          "cell_type": "code",
          "input": "#Variable declaration\nwt_oil=5.#weight f oil saponified(gms)#\nblank=44.0#volume blank titration reading(ml)#\nback=17.#volume back titration reading(ml)#\n\n#Calculation\nvolume=blank-back#volume of alcoholic KOH consumed(ml)#\nnormality_KOH=0.5#normality of KOH#\nS=volume*normality_KOH*56/wt_oil#formula for saponification value#\n\n#Result\nprint\"\\nSaponification value of oil is \",round(S,1),\"mg/g\"\n\n",
          "outputs": [
            {
              "stream": "stdout",
              "text": "\nSaponification value of oil is 151.2 mg/g\n",
              "output_type": "stream"
            }
          ],
          "language": "python",
          "metadata": {
            "cellView": null,
            "executionInfo": null
          }
        },
        {
          "level": 2,
          "cell_type": "heading",
          "source": "Example no:3,Page no:34"
        },
        {
          "cell_type": "code",
          "input": "#Variable declaration\nS=180.#Saponification value of oil#\nwt_oil=1.#weight f oil saponified(gms)#\nblank=50.#volume blank titration reading(ml)#\nnormality_KOH=0.4#normality of KOH #\n\n#Calculation\nvolume=S*wt_oil/(normality_KOH*56)#formula for saponification value#\nback=blank-volume#volume of alcoholic KOH consumed(ml)#\n\n#Result\nprint\"\\nQuantity of alcoholic KOH required per gram is \",round(back),\"ml\"\n\n",
          "outputs": [
            {
              "stream": "stdout",
              "text": "\nQuantity of alcoholic KOH required per gram is 42.0 ml\n",
              "output_type": "stream"
            }
          ],
          "language": "python",
          "metadata": {
            "cellView": null,
            "executionInfo": null
          }
        },
        {
          "level": 2,
          "cell_type": "heading",
          "source": "Example no:4,Page no:35"
        },
        {
          "cell_type": "code",
          "input": "#Variable declaration\nwt_oil=2.5#weight f oil saponified(gms)#\nblank=40.#volume blank titration reading(ml)#\nback=20.#volume back titration reading(ml)#\nnormality_KOH=0.25#normality of KOH #\nnormality_HCl=.5#normality of HCl#\n\n#Calculation\ne=normality_HCl/normality_KOH#for equivalence in titration #\nvolume=(blank-back)*e#volume of alcoholic KOH consumed(ml)#\nS=volume*normality_KOH*56/wt_oil#formula for saponification value#\n\n#Result\nprint\"\\nSaponification value of oil is \",round(S),\"mg/g\"\n\n",
          "outputs": [
            {
              "stream": "stdout",
              "text": "\nSaponification value of oil is 224.0 mg/g\n",
              "output_type": "stream"
            }
          ],
          "language": "python",
          "metadata": {
            "cellView": null,
            "executionInfo": null
          }
        },
        {
          "level": 2,
          "cell_type": "heading",
          "source": "Example no:5,Page no:35"
        },
        {
          "cell_type": "code",
          "input": "#Variable declaration\nS_C=192.#Saponification value of castor oil#\nwt_oil=16.#weight f oil saponified(gms)#\nblank=45.#volume blank titration reading(ml)#\nback=31.5#volume back titration reading(ml)#\nvolume=blank-back#volume of alcoholic KOH consumed(ml)#\nN_H=0.5#normality of HCl in titration#\n\n#Calculation\nV_H=blank#volume of HCl in titration(ml)#\nV_K=50.#volume of KOH in titration(ml)#\nN_K=N_H*V_H/V_K#normality of KOH for equivalence#\nS_blended=volume*N_K*56./wt_oil#formula for saponification value#\npc_C=(S_blended/S_C)*100#blend percentage#\n\n#Result\nprint\"\\nPercentage of castor oil in blend is \",round(pc_C,3),\"%\"\n\n",
          "outputs": [
            {
              "stream": "stdout",
              "text": "\nPercentage of castor oil in blend is 11.074 %\n",
              "output_type": "stream"
            }
          ],
          "language": "python",
          "metadata": {
            "cellView": null,
            "executionInfo": null
          }
        },
        {
          "level": 2,
          "cell_type": "heading",
          "source": "Example no:6,Page no:36"
        },
        {
          "cell_type": "code",
          "input": "#Variable declaration\nwt_oil=3.#weight f oil saponified(gms)#\nblank=36.0#volume blank titration reading(ml)#\nback=12.#volume back titration reading(ml)#\n\n#Calculation\nvolume=blank-back#volume of alcoholic KOH consumed(ml)#\nnormality_KOH=0.5#normality of KOH#\nS=volume*normality_KOH*56/wt_oil#formula for saponification value#\n\n#Result\nprint\"\\nSaponification value of oil is \",round(S),\"mg/g\"\n\n",
          "outputs": [
            {
              "stream": "stdout",
              "text": "\nSaponification value of oil is 224.0 mg/g\n",
              "output_type": "stream"
            }
          ],
          "language": "python",
          "metadata": {
            "cellView": null,
            "executionInfo": null
          }
        },
        {
          "level": 2,
          "cell_type": "heading",
          "source": "Example no:7,Page no:37"
        },
        {
          "cell_type": "code",
          "input": "#Variable declaration\nwt_oil=1.55#weight f oil saponified(gms)#\nblank=20.0#volume blank titration reading(ml)#\nback=15.#volume back titration reading(ml)#\n\n#Calculation\nvolume=blank-back#volume of alcoholic KOH consumed(ml)#\nnormality_KOH=0.5#normality of KOH#\nS=volume*normality_KOH*56/wt_oil#formula for saponification value#\n\n#Result\nprint\"\\nSaponification value of oil is \",round(S,2),\"mg/g\"\n\n",
          "outputs": [
            {
              "stream": "stdout",
              "text": "\nSaponification value of oil is 90.32 mg/g\n",
              "output_type": "stream"
            }
          ],
          "language": "python",
          "metadata": {
            "cellView": null,
            "executionInfo": null
          }
        },
        {
          "level": 2,
          "cell_type": "heading",
          "source": "Example no:8,Page no:37"
        },
        {
          "cell_type": "code",
          "input": "#Variable declaration\nwt_oil=1.25#weight f oil saponified(gms)#\nblank=50.0#volume blank titration reading(ml)#\nback=7.5#volume back titration reading(ml)#\n\n#Calculation\nvolume=blank-back#volume of alcoholic KOH consumed(ml)#\nnormality_KOH=0.1#normality of KOH#\nS=volume*normality_KOH*56/wt_oil#formula for saponification value#\n\n#Result\nprint\"\\nSaponification value of oil is \",round(S,1),\"mg/g\"\n\n",
          "outputs": [
            {
              "stream": "stdout",
              "text": "\nSaponification value of oil is 190.4 mg/g\n",
              "output_type": "stream"
            }
          ],
          "language": "python",
          "metadata": {
            "cellView": null,
            "executionInfo": null
          }
        },
        {
          "level": 2,
          "cell_type": "heading",
          "source": "Example no:9,Page no:38"
        },
        {
          "cell_type": "code",
          "input": "#Variable declaration\nS_C=188.#Saponification value of castor oil#\nwt_oil=12.3#weight f oil saponified(gms)#\nblank=45.#volume blank titration reading(ml)#\nback=30.2#volume back titration reading(ml)#\n\n#Calculation\nvolume=blank-back#volume of alcoholic KOH consumed(ml)#\nN=0.5#normality of KOH for equivalence#\nS_blended=volume*N*56./wt_oil#formula for saponification value#\npc_C=(S_blended/S_C)*100\n\n#Result\nprint\"\\nPercentage of castor oil in blend is \",round(pc_C,2),\"%\"\n\n",
          "outputs": [
            {
              "stream": "stdout",
              "text": "\nAcid value of oil is 17.92 %\n",
              "output_type": "stream"
            }
          ],
          "language": "python",
          "metadata": {
            "cellView": null,
            "executionInfo": null
          }
        },
        {
          "level": 2,
          "cell_type": "heading",
          "source": "Example no:10,Page no:38"
        },
        {
          "cell_type": "code",
          "input": "#Variable declaration\nS_C=191.#Saponification value of castor oil#\nwt_oil=2.5#weight f oil saponified(gms)#\nblank=40.#volume blank titration reading(ml)#\nback=24.#volume back titration reading(ml)#\n\n#Calculation\nvolume=blank-back#volume of alcoholic KOH consumed(ml)#\nN=0.5#normality of KOH for equivalence#\nS_blended=volume*N*56./wt_oil#formula for saponification value#\npc_C=(S_blended/S_C)*100\n\n#Result\nprint\"\\nPercentage of castor oil in blend is \",round(pc_C,2),\"%\"\n\n",
          "outputs": [
            {
              "stream": "stdout",
              "text": "\nPercentage of castor oil in blend is 93.82 %\n",
              "output_type": "stream"
            }
          ],
          "language": "python",
          "metadata": {
            "cellView": null,
            "executionInfo": null
          }
        }
      ]
    }
  ],
  "metadata": {
    "name": "chapter3.ipynb",
    "colabVersion": "0.1"
  },
  "nbformat": 3,
  "nbformat_minor": 0
}