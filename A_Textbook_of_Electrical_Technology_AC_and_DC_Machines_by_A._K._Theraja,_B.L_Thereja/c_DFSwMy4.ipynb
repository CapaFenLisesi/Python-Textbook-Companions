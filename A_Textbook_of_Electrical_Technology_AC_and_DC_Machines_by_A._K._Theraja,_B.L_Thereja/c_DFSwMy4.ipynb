{
 "metadata": {
  "name": "",
  "signature": "sha256:e71bef33b0871199556c73182ec6cd28497a9d9d16612973a23ee2cceda4b35b"
 },
 "nbformat": 3,
 "nbformat_minor": 0,
 "worksheets": [
  {
   "cells": [
    {
     "cell_type": "heading",
     "level": 1,
     "metadata": {},
     "source": [
      "Chapter 26: D.C. Generators"
     ]
    },
    {
     "cell_type": "heading",
     "level": 2,
     "metadata": {},
     "source": [
      "Example Number 26.3, Page Number:912"
     ]
    },
    {
     "cell_type": "code",
     "collapsed": false,
     "input": [
      "#variable declaration\n",
      "i=450#A\n",
      "v=230#v\n",
      "rs=50#ohm\n",
      "ra=.03#ohm\n",
      "\n",
      "#calculations\n",
      "ish=v/rs\n",
      "ia=i+ish\n",
      "va=ia*ra\n",
      "E=v+va\n",
      "\n",
      "#result\n",
      "print \"e.m.f. generated in the armature= \",E,\" V\""
     ],
     "language": "python",
     "metadata": {},
     "outputs": [
      {
       "output_type": "stream",
       "stream": "stdout",
       "text": [
        "e.m.f. generated in the armature=  243.62  V\n"
       ]
      }
     ],
     "prompt_number": 2
    },
    {
     "cell_type": "heading",
     "level": 2,
     "metadata": {},
     "source": [
      "Example Number 26.4, Page Number:913"
     ]
    },
    {
     "cell_type": "code",
     "collapsed": false,
     "input": [
      "#variable declaration\n",
      "i=50#A\n",
      "v=500#v\n",
      "rs=250#ohm\n",
      "ra=.05#ohm\n",
      "rseries=0.03#ohm\n",
      "b=1#V\n",
      "\n",
      "#calculations\n",
      "ish=v/rs\n",
      "ia=i+ish\n",
      "vs=ia*rseries\n",
      "va=ia*ra\n",
      "vb=ish*b\n",
      "E=v+va+vs+vb\n",
      "\n",
      "#result\n",
      "print \"generated voltage in the armature= \",E,\" V\""
     ],
     "language": "python",
     "metadata": {},
     "outputs": [
      {
       "output_type": "stream",
       "stream": "stdout",
       "text": [
        "generated voltage in the armature=  506.16  V\n"
       ]
      }
     ],
     "prompt_number": 2
    },
    {
     "cell_type": "heading",
     "level": 2,
     "metadata": {},
     "source": [
      "Example Number 26.5, Page Number:913"
     ]
    },
    {
     "cell_type": "code",
     "collapsed": false,
     "input": [
      "#variable declaration\n",
      "i=30#A\n",
      "v=220#v\n",
      "rs=200#ohm\n",
      "ra=.05#ohm\n",
      "rseries=0.30#ohm\n",
      "b=1#V\n",
      "\n",
      "#calculations\n",
      "vs=i*rseries\n",
      "vshunt=v+vs\n",
      "ish=vshunt/v\n",
      "ia=i+ish\n",
      "vb=b*2\n",
      "E=v+vs+vb+(ia*ra)\n",
      "\n",
      "#result\n",
      "print \"generated voltage in the armature= \",E,\" V\""
     ],
     "language": "python",
     "metadata": {},
     "outputs": [
      {
       "output_type": "stream",
       "stream": "stdout",
       "text": [
        "generated voltage in the armature=  232.552045455  V\n"
       ]
      }
     ],
     "prompt_number": 1
    },
    {
     "cell_type": "heading",
     "level": 2,
     "metadata": {},
     "source": [
      "Example Number 26.6, Page Number:913"
     ]
    },
    {
     "cell_type": "code",
     "collapsed": true,
     "input": [
      "#variable declaration\n",
      "v=230.0#v\n",
      "i=150.0#A\n",
      "rs=92.0#ohm\n",
      "rseries=0.015#ohm\n",
      "rd=0.03#ohm(divertor)\n",
      "ra=0.032#ohm\n",
      "\n",
      "#calculations\n",
      "ish=v/rs\n",
      "ia=i+ish\n",
      "sdr=(rd*rseries)/(rd+rseries)\n",
      "tr=ra+sdr\n",
      "vd=ia*tr\n",
      "Eg=v+vd\n",
      "tp=Eg*ia\n",
      "pl=(ia*ia*ra)+(ia*ia*sdr)+(v*ish)+(v*i)\n",
      "\n",
      "#resuts\n",
      "print \"i) Induced e.m.f.= \",Eg,\" V\"\n",
      "print \"ii)Total power generated= \",tp,\" W\"\n",
      "print \"iii)Distribution of the total power:\"\n",
      "print \" power lost in armature=                \", ia*ia*ra\n",
      "print \"power lost in series field and divider= \", ia*ia*sdr\n",
      "print \"power dissipated in shunt winding=      \", v*ish\n",
      "print \"power delivered to load=                \", v*i\n",
      "print \"                                         ------------\"\n",
      "print \"Total=                                  \", pl"
     ],
     "language": "python",
     "metadata": {},
     "outputs": [
      {
       "output_type": "stream",
       "stream": "stdout",
       "text": [
        "i) Induced e.m.f.=  236.405  V\n",
        "ii)Total power generated=  36051.7625  W\n",
        "iii)Distribution of the total power:\n",
        " power lost in armature=                 744.2\n",
        "power lost in series field and divider=  232.5625\n",
        "power dissipated in shunt winding=       575.0\n",
        "power delivered to load=                 34500.0\n",
        "                                         ------------\n",
        "Total=                                   36051.7625\n"
       ]
      }
     ],
     "prompt_number": 1
    },
    {
     "cell_type": "heading",
     "level": 2,
     "metadata": {},
     "source": [
      "Example Number 26.7, Page Number:914"
     ]
    },
    {
     "cell_type": "code",
     "collapsed": false,
     "input": [
      "#variable declaration\n",
      "p=300000.0#w\n",
      "v=600.0#v\n",
      "sr=75.0#ohm\n",
      "abr=0.03#ohm\n",
      "cr=0.011#ohm\n",
      "rseries=0.012#ohm\n",
      "dr=0.036#ohm\n",
      "\n",
      "#calculatons\n",
      "io=p/v#output current\n",
      "ish=v/sr\n",
      "ia=io+ish\n",
      "sdr=(rseries*dr)/(rseries+dr)\n",
      "tr=abr+cr+sdr\n",
      "vd=ia*tr\n",
      "va=v+vd\n",
      "pg=va*ia\n",
      "W=pg/1000\n",
      "\n",
      "#result\n",
      "print \"Voltage generatedby the armature= \",va,\" V\"\n",
      "print \"Power generated by the armature= \",W, \"kW\""
     ],
     "language": "python",
     "metadata": {},
     "outputs": [
      {
       "output_type": "stream",
       "stream": "stdout",
       "text": [
        "Voltage generatedby the armature=  625.4  V\n",
        "Power generated by the armature=  317.7032 kW\n"
       ]
      }
     ],
     "prompt_number": 11
    },
    {
     "cell_type": "heading",
     "level": 2,
     "metadata": {},
     "source": [
      "Example Number 26.8, Page Number:915"
     ]
    },
    {
     "cell_type": "code",
     "collapsed": false,
     "input": [
      "import math\n",
      "#variable declaration\n",
      "phi=7*math.pow(10,-3)\n",
      "z=51*20\n",
      "a=p=4\n",
      "n=1500#r.p.m\n",
      "\n",
      "#calculations\n",
      "Eg=(phi*z*n*p)/(a*60)\n",
      "\n",
      "#result\n",
      "print \"Voltage generated= \",Eg,\" V\""
     ],
     "language": "python",
     "metadata": {},
     "outputs": [
      {
       "output_type": "stream",
       "stream": "stdout",
       "text": [
        "Voltage generated=  178.5  V\n"
       ]
      }
     ],
     "prompt_number": 13
    },
    {
     "cell_type": "heading",
     "level": 2,
     "metadata": {},
     "source": [
      "Example Number 26.9, Page Number:916"
     ]
    },
    {
     "cell_type": "code",
     "collapsed": false,
     "input": [
      "#variable declaration\n",
      "p=a=8\n",
      "phi=0.05#Wb\n",
      "n=1200#rpm\n",
      "N=500#armature conductor\n",
      "\n",
      "#calculations\n",
      "E=phi*(n/60)*(p/a)*N\n",
      "\n",
      "#result\n",
      "print \"e.m.f generated= \",E,\" V\"\n"
     ],
     "language": "python",
     "metadata": {},
     "outputs": [
      {
       "output_type": "stream",
       "stream": "stdout",
       "text": [
        "e.m.f generated=  500.0  V\n"
       ]
      }
     ],
     "prompt_number": 22
    },
    {
     "cell_type": "heading",
     "level": 2,
     "metadata": {},
     "source": [
      "Example Number 26.10, Page Number:916"
     ]
    },
    {
     "cell_type": "code",
     "collapsed": false,
     "input": [
      "#variable declaration\n",
      "v=127#v\n",
      "vt=120#v(terminal voltage)\n",
      "r=15#ohms\n",
      "i1=8.47#A\n",
      "ra=0.02#ohms\n",
      "fi=8#A\n",
      "\n",
      "#calculations\n",
      "Eg=v+(i1*ra)\n",
      "ia=(Eg-vt)/ra\n",
      "il=ia-fi\n",
      "\n",
      "#result\n",
      "print \"Load current \",il,\" A\""
     ],
     "language": "python",
     "metadata": {},
     "outputs": [
      {
       "output_type": "stream",
       "stream": "stdout",
       "text": [
        "Load current  350.47  A\n"
       ]
      }
     ],
     "prompt_number": 24
    },
    {
     "cell_type": "heading",
     "level": 2,
     "metadata": {},
     "source": [
      "Example Number 26.11(a), Page Number:917"
     ]
    },
    {
     "cell_type": "code",
     "collapsed": false,
     "input": [
      "#variable declaration\n",
      "p=8\n",
      "z=778\n",
      "n=500\n",
      "ra=0.24\n",
      "rl=12.5\n",
      "r=250\n",
      "v=250\n",
      "a=2\n",
      "#calculations\n",
      "il=v/rl\n",
      "si=v/r\n",
      "ai=il+si\n",
      "emf=v+(ai*ra)\n",
      "phi=(emf*60*a)/(p*z*n)\n",
      "\n",
      "#result\n",
      "print \"armature current= \",ai,\" A\"\n",
      "print \"induced e.m.f.= \",emf,\" V\"\n",
      "print \"flux per pole= \",round(phi*1000,2),\" mWb\""
     ],
     "language": "python",
     "metadata": {},
     "outputs": [
      {
       "output_type": "stream",
       "stream": "stdout",
       "text": [
        "armature current=  21.0  A\n",
        "induced e.m.f.=  255.04  V\n",
        "flux per pole=  9.83  mWb\n"
       ]
      }
     ],
     "prompt_number": 2
    },
    {
     "cell_type": "heading",
     "level": 2,
     "metadata": {},
     "source": [
      "Example Number 26.11(b), Page Number:916"
     ]
    },
    {
     "cell_type": "code",
     "collapsed": false,
     "input": [
      "#variable declaration\n",
      "p=a=4\n",
      "P=5000.0#w\n",
      "P2=2500.0#W\n",
      "v=250.0#v\n",
      "ra=0.2#ohm\n",
      "r=250.0#ohm\n",
      "z=120\n",
      "N=1000#rpm\n",
      "\n",
      "#calculations\n",
      "gc=P/v\n",
      "li=P2/v\n",
      "ti=gc+li\n",
      "fc=1\n",
      "ai=ti+fc\n",
      "ard=ai*ra\n",
      "emf=v+ard+2\n",
      "phi=(emf*60*a)/(p*z*N)\n",
      "ac_perparralelpath=ai/p\n",
      "\n",
      "#result\n",
      "print \"Flux per pole= \",phi*1000,\" mWb\"\n",
      "print \"Armature current per parallel path= \",ac_perparralelpath,\" A\""
     ],
     "language": "python",
     "metadata": {},
     "outputs": [
      {
       "output_type": "stream",
       "stream": "stdout",
       "text": [
        "Flux per pole=  129.1  mWb\n",
        "Armature current per parallel path=  7.75  A\n"
       ]
      }
     ],
     "prompt_number": 5
    },
    {
     "cell_type": "heading",
     "level": 2,
     "metadata": {},
     "source": [
      "Example Number 26.12, Page Number:918"
     ]
    },
    {
     "cell_type": "code",
     "collapsed": false,
     "input": [
      "#variable declaration\n",
      "i=200.0#A\n",
      "v=125.0#V\n",
      "n1=1000#rpm\n",
      "n2=800#rpm\n",
      "ra=0.04#ohm\n",
      "bd=2.0#V(brush drop)\n",
      "\n",
      "#calculations\n",
      "R=v/i\n",
      "E1=v+(i*ra)+bd\n",
      "E2=(E1*n2)/n1\n",
      "il=(E2-bd)/0.675\n",
      "\n",
      "#result\n",
      "print \"Load current when speed drops to 800 r.p.m.= \",round(il,2),\" A\"\n"
     ],
     "language": "python",
     "metadata": {},
     "outputs": [
      {
       "output_type": "stream",
       "stream": "stdout",
       "text": [
        "Load current when speed drops to 800 r.p.m.=  157.04  A\n"
       ]
      }
     ],
     "prompt_number": 8
    },
    {
     "cell_type": "heading",
     "level": 2,
     "metadata": {},
     "source": [
      "Example Number 26.13, Page Number:918"
     ]
    },
    {
     "cell_type": "code",
     "collapsed": false,
     "input": [
      "import math\n",
      "#variable declaration\n",
      "p=4\n",
      "n=900 #rpm\n",
      "V=220#V\n",
      "E=240#V\n",
      "ra=0.2#ohm\n",
      "phi=10#mWb\n",
      "N=8\n",
      "\n",
      "#calculations\n",
      "ia=(E-V)/ra\n",
      "Z=(E*600*2)/(phi*math.pow(10,-3)*n*p)\n",
      "#since there ae 8 turns in a coil,it means there are 16 active conductor\n",
      "number_of_coils=Z/16\n",
      "\n",
      "#result\n",
      "print \"armature current= \",ia,\" A\"\n",
      "print \"number of coils= \",number_of_coils"
     ],
     "language": "python",
     "metadata": {},
     "outputs": [
      {
       "output_type": "stream",
       "stream": "stdout",
       "text": [
        "armature current=  100.0  A\n",
        "number of coils=  500.0\n"
       ]
      }
     ],
     "prompt_number": 6
    },
    {
     "cell_type": "heading",
     "level": 2,
     "metadata": {},
     "source": [
      "Example Number 26.14, Page Number:919"
     ]
    },
    {
     "cell_type": "code",
     "collapsed": false,
     "input": [
      "#variable declaration\n",
      "V=120.0#V\n",
      "ra=0.06#ohm\n",
      "rs=25#ohm\n",
      "rsw=0.04#ohm(series winding)\n",
      "il=100.0#A\n",
      "#i)Long shunt\n",
      "ish=V/rs\n",
      "ia=il+ish\n",
      "vd=ia*rsw\n",
      "vda=ia*ra\n",
      "E=V+vd+vda\n",
      "\n",
      "print \"Induced e.m.f. when the machine is connected to long shunt= \",E,\" V\"\n",
      "print \"Armature current when the machine is connected to long shunt=\",ia,\" A\"\n",
      "\n",
      "#i)Short shunt\n",
      "vds=il*rsw\n",
      "vs=V+vds\n",
      "ish=vs/rs\n",
      "ia=il+ish\n",
      "vd=ia*rsw\n",
      "vda=ia*ra\n",
      "E=V+vd+vda\n",
      "\n",
      "print \"Induced e.m.f. when the machine is connected to short shunt= \",E,\" V\"\n",
      "print \"Armature current when the machine is connected to short shunt=\",ia,\" A\"\n"
     ],
     "language": "python",
     "metadata": {},
     "outputs": [
      {
       "output_type": "stream",
       "stream": "stdout",
       "text": [
        "Induced e.m.f. when the machine is connected to long shunt=  130.48  V\n",
        "Armature current when the machine is connected to long shunt= 104.8  A\n",
        "Induced e.m.f. when the machine is connected to short shunt=  130.496  V\n",
        "Armature current when the machine is connected to short shunt= 104.96  A\n"
       ]
      }
     ],
     "prompt_number": 3
    },
    {
     "cell_type": "heading",
     "level": 2,
     "metadata": {},
     "source": [
      "Example Number 26.15, Page Number:920"
     ]
    },
    {
     "cell_type": "code",
     "collapsed": false,
     "input": [
      "#variable declaration\n",
      "p=25000.0#W\n",
      "V=500.0#V\n",
      "ra=0.03#ohm\n",
      "rs=200.0#ohm\n",
      "rseries=0.04#ohm\n",
      "vb=1.0#V\n",
      "n=1200#rpm\n",
      "phi=0.02#Wb\n",
      "\n",
      "#calculations\n",
      "i=p/V\n",
      "ish=V/rs\n",
      "ia=i+ish\n",
      "p=4\n",
      "vds=ia*rseries\n",
      "vda=ia*ra\n",
      "vdb=vb*2\n",
      "E=V+vds+vda+vdb\n",
      "Z=(E*60*4)/(phi*n*p)\n",
      "\n",
      "#result\n",
      "print \"The e.m.f. generated= \",E,\" V\"\n",
      "print \"The number of conductors=\",Z"
     ],
     "language": "python",
     "metadata": {},
     "outputs": [
      {
       "output_type": "stream",
       "stream": "stdout",
       "text": [
        "The e.m.f. generated=  505.675  V\n",
        "The number of conductors= 1264.1875\n"
       ]
      }
     ],
     "prompt_number": 15
    },
    {
     "cell_type": "heading",
     "level": 2,
     "metadata": {},
     "source": [
      "Example Number 26.16, Page Number:920"
     ]
    },
    {
     "cell_type": "code",
     "collapsed": false,
     "input": [
      "#variable declaration\n",
      "p=4\n",
      "n=750#rpm\n",
      "e=240.0#V\n",
      "z=792\n",
      "phi=0.0145#Wb\n",
      "\n",
      "#calculations\n",
      "phi_working=(e*60*2)/(n*z*p)\n",
      "lambda_=phi/phi_working\n",
      "\n",
      "#results\n",
      "print \"Leakage coefficient= \",round(lambda_,1)"
     ],
     "language": "python",
     "metadata": {},
     "outputs": [
      {
       "output_type": "stream",
       "stream": "stdout",
       "text": [
        "Leakage coefficient=  1.2\n"
       ]
      }
     ],
     "prompt_number": 9
    },
    {
     "cell_type": "heading",
     "level": 2,
     "metadata": {},
     "source": [
      "Example Number 26.17, Page Number:920"
     ]
    },
    {
     "cell_type": "code",
     "collapsed": false,
     "input": [
      "#variable declaration\n",
      "p=a=4\n",
      "phi=0.07#Wb\n",
      "t=220\n",
      "rt=0.004#ohm\n",
      "n=900#rpm\n",
      "ia=50.0#A\n",
      "\n",
      "#calculations\n",
      "z=2*t\n",
      "E=(phi*z*n*p)/(60*a)\n",
      "rtotal=t*rt\n",
      "r_eachpath=rtotal/p\n",
      "ra=r_eachpath/a\n",
      "vda=ia*ra\n",
      "V=E-vda\n",
      "\n",
      "#result\n",
      "print \"Terminal Voltage= \",V, \" V\"\n"
     ],
     "language": "python",
     "metadata": {},
     "outputs": [
      {
       "output_type": "stream",
       "stream": "stdout",
       "text": [
        "Terminal Voltage=  459.25  V\n"
       ]
      }
     ],
     "prompt_number": 27
    },
    {
     "cell_type": "heading",
     "level": 2,
     "metadata": {},
     "source": [
      "Example Number 26.18, Page Number:920"
     ]
    },
    {
     "cell_type": "code",
     "collapsed": false,
     "input": [
      "#variable declaration\n",
      "p=a=4\n",
      "phi=0.07#Wb\n",
      "t=220\n",
      "rturn=0.004#ohm\n",
      "rs=100.0#ohm\n",
      "rsc=0.02#ohm\n",
      "n=900#rpm\n",
      "ia=50.0#A\n",
      "\n",
      "#calculations\n",
      "z=2*t\n",
      "E=(phi*z*n*p)/(60*a)\n",
      "ra=0.055#ohm\n",
      "ra=ra+rsc\n",
      "va=ia*ra\n",
      "v=E-va\n",
      "ish=v/rs\n",
      "i=ia-ish\n",
      "output=v*i\n",
      "\n",
      "#result\n",
      "print \"Output= \",round(output/1000,3),\" kW\""
     ],
     "language": "python",
     "metadata": {},
     "outputs": [
      {
       "output_type": "stream",
       "stream": "stdout",
       "text": [
        "Output=  20.813  kW\n"
       ]
      }
     ],
     "prompt_number": 15
    },
    {
     "cell_type": "heading",
     "level": 2,
     "metadata": {},
     "source": [
      "Example Number 26.19, Page Number:921"
     ]
    },
    {
     "cell_type": "code",
     "collapsed": false,
     "input": [
      "#variable declaration\n",
      "n1=1200#rpm\n",
      "ia=200#A\n",
      "v=125#V\n",
      "n2=1000#rpm\n",
      "ra=0.04#ohm\n",
      "vb=2#V\n",
      "\n",
      "#calculations\n",
      "E1=v+vb+(ia*ra)\n",
      "E2=E1*n2/n1*0.8\n",
      "\n",
      "#results\n",
      "print \"Generated e.m.f. when field current is reduced to 80%=\",E2,\" V\""
     ],
     "language": "python",
     "metadata": {},
     "outputs": [
      {
       "output_type": "stream",
       "stream": "stdout",
       "text": [
        "Generated e.m.f. when field current is reduced to 80%= 90.0  V\n"
       ]
      }
     ],
     "prompt_number": 35
    },
    {
     "cell_type": "heading",
     "level": 2,
     "metadata": {},
     "source": [
      "Example Number 26.20(a), Page Number:921"
     ]
    },
    {
     "cell_type": "code",
     "collapsed": false,
     "input": [
      "#variable declaration\n",
      "p=4\n",
      "rs=100.0#ohm\n",
      "ra=1.0#ohm\n",
      "z=378\n",
      "phi=0.02#Wb\n",
      "rl=10.0#ohm\n",
      "n=1000#rpm\n",
      "a=2\n",
      "\n",
      "#calculations\n",
      "E=(phi*z*n*p)/(60*a)\n",
      "V=(100.0/111.0)*E\n",
      "il=V/rl\n",
      "P=il*V\n",
      "\n",
      "#result\n",
      "print \"Power absorbed by the load is= \",P,\" W\"\n"
     ],
     "language": "python",
     "metadata": {},
     "outputs": [
      {
       "output_type": "stream",
       "stream": "stdout",
       "text": [
        "Power absorbed by the load is=  5154.12710007  W\n"
       ]
      }
     ],
     "prompt_number": 50
    },
    {
     "cell_type": "heading",
     "level": 2,
     "metadata": {},
     "source": [
      "Example Number 26.20(b), Page Number:921"
     ]
    },
    {
     "cell_type": "code",
     "collapsed": false,
     "input": [
      "#variable declaration\n",
      "p=a=4\n",
      "z=300\n",
      "phi=0.1#Wb\n",
      "n=1000#rpm\n",
      "ra=0.2#rpm\n",
      "rf=125#ohm\n",
      "il=90#A\n",
      "\n",
      "#calculations\n",
      "E=(phi*z*n*p)/(60*a)\n",
      "ifield=E/rf\n",
      "ia=ifield+il\n",
      "V=E-(ia*ra)\n",
      "\n",
      "#result\n",
      "print \"Terminal voltage= \",V,\" V\""
     ],
     "language": "python",
     "metadata": {},
     "outputs": [
      {
       "output_type": "stream",
       "stream": "stdout",
       "text": [
        "Terminal voltage=  481.2  V\n"
       ]
      }
     ],
     "prompt_number": 51
    },
    {
     "cell_type": "heading",
     "level": 2,
     "metadata": {},
     "source": [
      "Example Number 26.21(a), Page Number:922"
     ]
    },
    {
     "cell_type": "code",
     "collapsed": false,
     "input": [
      "#variable declaration\n",
      "p=6\n",
      "n=1200#rpm\n",
      "e=250.0#V\n",
      "d=350.0#mm\n",
      "air_gap=3.0#mm\n",
      "al=260.0#mm\n",
      "fringing=0.8\n",
      "coils=96\n",
      "t=3\n",
      "\n",
      "#calculations\n",
      "z=t*coils*2\n",
      "a=p*2\n",
      "phi=(e*60*a)/(n*z*p)\n",
      "di=d+air_gap\n",
      "pole_arc=(3.14*di*fringing)/6\n",
      "B=phi/(pole_arc*0.000001*al)\n",
      "\n",
      "#result\n",
      "print \"flux per pole= \",phi,\" Wb\"\n",
      "print \"effective pole arc lenght= \",pole_arc*0.001,\" m\"\n",
      "print \"flux density= \",B,\" T\"\n"
     ],
     "language": "python",
     "metadata": {},
     "outputs": [
      {
       "output_type": "stream",
       "stream": "stdout",
       "text": [
        "flux per pole=  0.0434027777778  Wb\n",
        "effective pole arc lenght=  0.147789333333  m\n",
        "flux density=  1.12953862717  T\n"
       ]
      }
     ],
     "prompt_number": 57
    },
    {
     "cell_type": "heading",
     "level": 2,
     "metadata": {},
     "source": [
      "Example Number 26.21(b), Page Number:922"
     ]
    },
    {
     "cell_type": "code",
     "collapsed": false,
     "input": [
      "import math\n",
      "#variable declaration\n",
      "p=a=4\n",
      "z=1200\n",
      "e=250.0#v\n",
      "n=500#rpm\n",
      "b=35.0#cm\n",
      "ratio=0.7\n",
      "lpole=20.0#cm\n",
      "\n",
      "#calculations\n",
      "pole_pitch=(b*3.14)/p\n",
      "polearc=ratio*pole_pitch\n",
      "pole_area=polearc*lpole\n",
      "phi=(e*60*a)/(n*z*p)\n",
      "mean_flux=phi/(pole_area*math.pow(10,-4))\n",
      "              \n",
      "#result\n",
      "print \"Mean flux density= \",mean_flux,\" Wb/m2\""
     ],
     "language": "python",
     "metadata": {},
     "outputs": [
      {
       "output_type": "stream",
       "stream": "stdout",
       "text": [
        "Mean flux density=  0.649941505265  Wb/m2\n"
       ]
      }
     ],
     "prompt_number": 67
    },
    {
     "cell_type": "heading",
     "level": 2,
     "metadata": {},
     "source": [
      "Example Number 26.21(d), Page Number:923"
     ]
    },
    {
     "cell_type": "code",
     "collapsed": false,
     "input": [
      "#variable declaration\n",
      "i=200.0#A\n",
      "v=100.0#V\n",
      "ra=0.04#ohm\n",
      "rseries=0.03#ohm\n",
      "rs=60.0#ohm\n",
      "\n",
      "#calculations\n",
      "va=v+(i*rseries)\n",
      "ish=va/rs\n",
      "ia=i+ish\n",
      "e=va+(ia*ra)\n",
      "\n",
      "#long shunt\n",
      "ishunt=v/rs\n",
      "vd=ia*(ra+rseries)\n",
      "e2=v+vd\n",
      "\n",
      "#result\n",
      "print \"emf generated(short shunt)\",e,\" V\"\n",
      "print \"emf generated(long shunt)\",e2,\" V\"\n",
      "\n",
      "\n",
      "#result\n",
      "print "
     ],
     "language": "python",
     "metadata": {},
     "outputs": [
      {
       "output_type": "stream",
       "stream": "stdout",
       "text": [
        "emf generated(short shunt) 114.070666667  V\n",
        "emf generated(long shunt) 114.123666667  V\n",
        "\n"
       ]
      }
     ],
     "prompt_number": 73
    },
    {
     "cell_type": "heading",
     "level": 2,
     "metadata": {},
     "source": [
      "Example Number 26.22, Page Number:923"
     ]
    },
    {
     "cell_type": "code",
     "collapsed": false,
     "input": [
      "#variable declaration\n",
      "n=1000#rpm\n",
      "w=20000.0#W\n",
      "v=220.0#v\n",
      "ra=0.04#ohm\n",
      "rs=110.0#ohm\n",
      "rseries=0.05#ohm\n",
      "efficiency=.85\n",
      "\n",
      "#calculations\n",
      "il=w/v\n",
      "i_f=v/rs\n",
      "ia=il+i_f\n",
      "ip=w/efficiency#input power\n",
      "total_loss=ip-w\n",
      "copper_loss=(ia*ia*(ra+rseries))+(i_f*i_f*rs)\n",
      "ironloss=total_loss-copper_loss\n",
      "omega=2*3.14*n/60\n",
      "T=ip/omega\n",
      "\n",
      "#omega\n",
      "print \"Copper loss= \",copper_loss,\" W\"\n",
      "print \"Iron and friction loss= \",ironloss,\" W\"\n",
      "print \"Torque developed by the prime mover= \",T,\"Nw-m\"\n"
     ],
     "language": "python",
     "metadata": {},
     "outputs": [
      {
       "output_type": "stream",
       "stream": "stdout",
       "text": [
        "Copper loss=  1216.88892562  W\n",
        "Iron and friction loss=  2312.52283909  W\n",
        "Torque developed by the prime mover=  224.803297115 Nw-m\n"
       ]
      }
     ],
     "prompt_number": 75
    },
    {
     "cell_type": "heading",
     "level": 2,
     "metadata": {},
     "source": [
      "Example Number 26.23, Page Number:928"
     ]
    },
    {
     "cell_type": "code",
     "collapsed": false,
     "input": [
      "#variable declartaion\n",
      "power=10000.0#W\n",
      "v=250.0#V\n",
      "p=a=6\n",
      "n=1000.0#rpm\n",
      "z=534\n",
      "cu_loss=0.64*1000#W\n",
      "vbd=1.0#V\n",
      "\n",
      "#calculations\n",
      "ia=power/v\n",
      "ra=cu_loss/(ia*ia)\n",
      "E=v+(ia*ra)+vbd\n",
      "phi=(E*60*a)/(n*z*p)\n",
      "\n",
      "#result\n",
      "print \"flux per pole= \",phi*1000,\" mWb\""
     ],
     "language": "python",
     "metadata": {},
     "outputs": [
      {
       "output_type": "stream",
       "stream": "stdout",
       "text": [
        "flux per pole=  30.0  mWb\n"
       ]
      }
     ],
     "prompt_number": 25
    },
    {
     "cell_type": "heading",
     "level": 2,
     "metadata": {},
     "source": [
      "Example Number 26.24(a), Page Number:928"
     ]
    },
    {
     "cell_type": "code",
     "collapsed": false,
     "input": [
      "#variable declaration\n",
      "i=195#A\n",
      "pd=250#V\n",
      "ra=0.02#ohm\n",
      "rsh=50#ohm\n",
      "p=250#W\n",
      "strayloss=950#W\n",
      "#calculations\n",
      "ish=pd/rsh\n",
      "ia=i+ish\n",
      "vda=ia*ra\n",
      "E=pd+vda\n",
      "cu_loss=(ia*ia*ra)+(pd*ish)\n",
      "output_prime=(pd*i)+strayloss+cu_loss\n",
      "power_a=output_prime-strayloss\n",
      "neu_m=(power_a/output_prime)\n",
      "neu_e=(pd*i)/((pd*i)+cu_loss)\n",
      "neu_c=(pd*i)/output_prime\n",
      "\n",
      "#result\n",
      "print \"a)e.m.f. generated= \",E,\" V\"\n",
      "print \" b)Cu losses= \",cu_loss,\" W\"\n",
      "print \" c)output of prime mover= \",output_prime,\" W\"\n",
      "print \" d)mechanical efficiency= \",neu_m*100,\" %\"\n",
      "print \"   electrical efficiency= \",neu_e*100,\" %\"\n",
      "print \"   commercial efficiency= \",neu_c*100,\" %\"\n",
      "\n"
     ],
     "language": "python",
     "metadata": {},
     "outputs": [
      {
       "output_type": "stream",
       "stream": "stdout",
       "text": [
        "a)e.m.f. generated=  254.0  V\n",
        " b)Cu losses=  2050.0  W\n",
        " c)output of prime mover=  51750.0  W\n",
        " d)mechanical efficiency=  98.1642512077  %\n",
        "   electrical efficiency=  95.9645669291  %\n",
        "   commercial efficiency=  94.2028985507  %\n"
       ]
      }
     ],
     "prompt_number": 30
    },
    {
     "cell_type": "heading",
     "level": 2,
     "metadata": {},
     "source": [
      "Example Number 26.24(b), Page Number:929"
     ]
    },
    {
     "cell_type": "code",
     "collapsed": false,
     "input": [
      "#variable declaration\n",
      "v=500.0#V\n",
      "i=5.0#A\n",
      "ra=0.15#ohm\n",
      "rf=200.0#ohm\n",
      "il=40.0#A\n",
      "\n",
      "#calculations\n",
      "output=v*il\n",
      "total_loss=(v*i*0.5)+((il+i*0.5)*(il+i*0.5)*ra)+(v*i*0.5)\n",
      "efficiency=output/(output+total_loss)\n",
      "\n",
      "#result\n",
      "print \"Efficiency= \",efficiency*100,\" %\""
     ],
     "language": "python",
     "metadata": {},
     "outputs": [
      {
       "output_type": "stream",
       "stream": "stdout",
       "text": [
        "Efficiency=  87.8312542029  %\n"
       ]
      }
     ],
     "prompt_number": 39
    },
    {
     "cell_type": "heading",
     "level": 2,
     "metadata": {},
     "source": [
      "Example Number 26.25, Page Number:929"
     ]
    },
    {
     "cell_type": "code",
     "collapsed": false,
     "input": [
      "import math\n",
      "#variable declaration\n",
      "i=196#A\n",
      "v=220#V\n",
      "stray_loss=720#W\n",
      "rsh=55#ohm\n",
      "e=0.88\n",
      "\n",
      "#calculations\n",
      "output=v*i\n",
      "inpute=output/e\n",
      "total_loss=inpute-output\n",
      "ish=v/rsh\n",
      "ia=i+ish\n",
      "cu_loss=v*ish\n",
      "constant_loss=cu_loss+stray_loss\n",
      "culoss_a=total_loss-constant_loss\n",
      "ra=culoss_a/(ia*ia)\n",
      "I=math.sqrt(constant_loss/ra)\n",
      "\n",
      "#result\n",
      "print \"Load curent corresponding to maximum efficiency\",I,\" A\" "
     ],
     "language": "python",
     "metadata": {},
     "outputs": [
      {
       "output_type": "stream",
       "stream": "stdout",
       "text": [
        "Load curent corresponding to maximum efficiency 122.283568103  A\n"
       ]
      }
     ],
     "prompt_number": 1
    },
    {
     "cell_type": "heading",
     "level": 2,
     "metadata": {},
     "source": [
      "Example Number 26.26, Page Number:929"
     ]
    },
    {
     "cell_type": "code",
     "collapsed": false,
     "input": [
      "#variable declaration\n",
      "n=1000#rpm\n",
      "p=22*1000#w\n",
      "v=220#V\n",
      "ra=0.05#ohm\n",
      "rsh=110#ohm\n",
      "rseries=0.06#ohm\n",
      "efficiency=.88\n",
      "\n",
      "#calculations\n",
      "ish=v/rsh\n",
      "I=p/v\n",
      "ia=ish+I\n",
      "vdseries=ia*rseries\n",
      "cu_loss=(ia*ia*ra)+(ia*ia*rseries)+(rsh*ish*ish)\n",
      "total_loss=(p/efficiency)-p\n",
      "strayloss=total_loss-cu_loss\n",
      "T=(p/efficiency*60)/(2*3.14*n)\n",
      "\n",
      "#result\n",
      "print \"a)cu losses= \",cu_loss,\" W\"\n",
      "print \"b)iron and friction loss= \",strayloss,\" W\"\n",
      "print \"c)Torque exerted by the prime mover= \",T,\" N-m\""
     ],
     "language": "python",
     "metadata": {},
     "outputs": [
      {
       "output_type": "stream",
       "stream": "stdout",
       "text": [
        "a)cu losses=  1584.44  W\n",
        "b)iron and friction loss=  1415.56  W\n",
        "c)Torque exerted by the prime mover=  238.853503185  N-m\n"
       ]
      }
     ],
     "prompt_number": 7
    },
    {
     "cell_type": "heading",
     "level": 2,
     "metadata": {},
     "source": [
      "Example Number 26.27, Page Number:930"
     ]
    },
    {
     "cell_type": "code",
     "collapsed": false,
     "input": [
      "#variable declaration\n",
      "p=4\n",
      "i=20#A\n",
      "r=10#ohm\n",
      "ra=0.5#ohm\n",
      "rsh=50#ohm\n",
      "vdb=1#V(voltage drop per brush)\n",
      "\n",
      "#calculations\n",
      "v=i*r\n",
      "ish=v/rsh\n",
      "ia=i+ish\n",
      "E=v+(ia*ra)+(2*vdb)\n",
      "totalpower=E*ia\n",
      "output=v*i\n",
      "efficiency=output/totalpower\n",
      "\n",
      "#result\n",
      "print \"induced e.m.f.= \",E,\" V\"\n",
      "print \"efficiency= \",efficiency*100,\" %\""
     ],
     "language": "python",
     "metadata": {},
     "outputs": [
      {
       "output_type": "stream",
       "stream": "stdout",
       "text": [
        "induced e.m.f.=  214.0  V\n",
        "efficiency=  77.8816199377  %\n"
       ]
      }
     ],
     "prompt_number": 2
    },
    {
     "cell_type": "heading",
     "level": 2,
     "metadata": {},
     "source": [
      "Example Number 26.28, Page Number:930"
     ]
    },
    {
     "cell_type": "code",
     "collapsed": false,
     "input": [
      "#variable declaration\n",
      "v=240#V\n",
      "i=100#A\n",
      "ra=0.1#ohm\n",
      "rseries=0.02#ohm\n",
      "ri=0.025#ohm\n",
      "rsh=100#ohm\n",
      "ironloss=1000#W\n",
      "frictionloss=500#W\n",
      "\n",
      "#calculations\n",
      "output=v*i\n",
      "totalra=ra+rseries+ri\n",
      "ish=v/rsh\n",
      "ia=i+ish\n",
      "copperloss=ia*ia*totalra\n",
      "shculoss=ish*v\n",
      "total_loss=copperloss+ironloss+frictionloss+shculoss\n",
      "efficiency=output/(output+total_loss)\n",
      "\n",
      "#result\n",
      "print \"F.L. efficiency of the machine= \",efficiency*100,\" %\""
     ],
     "language": "python",
     "metadata": {},
     "outputs": [
      {
       "output_type": "stream",
       "stream": "stdout",
       "text": [
        "F.L. efficiency of the machine=  87.3089843128  %\n"
       ]
      }
     ],
     "prompt_number": 25
    },
    {
     "cell_type": "heading",
     "level": 2,
     "metadata": {},
     "source": [
      "Example Number 26.29, Page Number:930"
     ]
    },
    {
     "cell_type": "code",
     "collapsed": false,
     "input": [
      "import math\n",
      "from sympy.solvers import solve\n",
      "from sympy import Symbol\n",
      "#variable declaration\n",
      "A=Symbol('A')\n",
      "B=Symbol('B')\n",
      "ironloss=8#kW\n",
      "r=0.25#reduction in speed\n",
      "n_ironloss=5#kW\n",
      "\n",
      "#calculations\n",
      "ans=solve([ironloss-(A*1+B*1**2),n_ironloss-(A*(1-r)+B*(1-r)**2)],[A,B])\n",
      "wh=ans[A]\n",
      "we=ans[B]\n",
      "wh2=ans[A]*0.5\n",
      "we2=ans[B]*0.5**2\n",
      "\n",
      "#result\n",
      "print \"i)full speed:\"\n",
      "print \"Wh=\",round(wh,3),\"kW\"\n",
      "print \"We=\",round(we,3),\"kW\"\n",
      "print \"ii)half speed:\"\n",
      "print \"Wh=\",round(wh2,3),\"kW\"\n",
      "print \"We=\",round(we2,3),\"kW\""
     ],
     "language": "python",
     "metadata": {},
     "outputs": [
      {
       "output_type": "stream",
       "stream": "stdout",
       "text": [
        "i)full speed:\n",
        "Wh= 2.667 kW\n",
        "We= 5.333 kW\n",
        "ii)half speed:\n",
        "Wh= 1.333 kW\n",
        "We= 1.333 kW\n"
       ]
      }
     ],
     "prompt_number": 7
    },
    {
     "cell_type": "heading",
     "level": 2,
     "metadata": {},
     "source": [
      "Example Number 26.30, Page Number:931"
     ]
    },
    {
     "cell_type": "code",
     "collapsed": false,
     "input": [
      "import math\n",
      "from sympy.solvers import solve\n",
      "from sympy import Symbol\n",
      "#variable declaration\n",
      "N=Symbol('N')\n",
      "n=1000.0#rpm\n",
      "wh=250.0#w\n",
      "we=100.0#w\n",
      "\n",
      "#calculations\n",
      "A=wh/(n/60)\n",
      "B=we/((n/60)**2)\n",
      "new_loss=(wh+we)/2\n",
      "ans=solve([new_loss-A*N-B*(N**2)],[N])\n",
      "\n",
      "#result\n",
      "print \"Speed at which total loss will be halved=\",ans[1],\"r.p.s\""
     ],
     "language": "python",
     "metadata": {},
     "outputs": [
      {
       "output_type": "stream",
       "stream": "stdout",
       "text": [
        "Speed at which total loss will be halved= (9.50045787200216,) r.p.s\n"
       ]
      }
     ],
     "prompt_number": 29
    },
    {
     "cell_type": "heading",
     "level": 2,
     "metadata": {},
     "source": [
      "Example Number 26.31, Page Number:931"
     ]
    },
    {
     "cell_type": "code",
     "collapsed": false,
     "input": [
      "#variable declaration\n",
      "output=10.0*1000#W\n",
      "v=240.0#V\n",
      "ra=0.6#ohm\n",
      "rsh=160.0#ohm\n",
      "mechcoreloss=500.0#W\n",
      "culoss=360.0#W\n",
      "\n",
      "#calculations\n",
      "ish=v/rsh\n",
      "i=output/v\n",
      "ia=ish+i\n",
      "culossa=ia*ia*ra\n",
      "totalloss=culoss+mechcoreloss+culossa\n",
      "inputp=output+totalloss\n",
      "efficiency=output/inputp\n",
      "\n",
      "#result\n",
      "print \"Power required= \",inputp*0.001,\" kW\"\n",
      "print \"efficinecy= \",efficiency*100,\" %\""
     ],
     "language": "python",
     "metadata": {},
     "outputs": [
      {
       "output_type": "stream",
       "stream": "stdout",
       "text": [
        "Power required=  11.9780166667  kW\n",
        "efficinecy=  83.486275552  %\n"
       ]
      }
     ],
     "prompt_number": 30
    },
    {
     "cell_type": "heading",
     "level": 2,
     "metadata": {},
     "source": [
      "Example Number 26.32, Page Number:932"
     ]
    },
    {
     "cell_type": "code",
     "collapsed": false,
     "input": [
      "#variable declaration\n",
      "p=110*1000#W\n",
      "v=220#V\n",
      "ra=0.01#ohm\n",
      "rse=0.002#ohm\n",
      "rsh=110#ohm\n",
      "\n",
      "#calculations\n",
      "il=p/v\n",
      "ish=v/rsh\n",
      "ia=il+ish\n",
      "E=v+ia*(ra+rse)\n",
      "\n",
      "#result\n",
      "print \"induced emf= \",E,\" V\""
     ],
     "language": "python",
     "metadata": {},
     "outputs": [
      {
       "output_type": "stream",
       "stream": "stdout",
       "text": [
        "induced emf=  226.024  V\n"
       ]
      }
     ],
     "prompt_number": 31
    },
    {
     "cell_type": "heading",
     "level": 2,
     "metadata": {},
     "source": [
      "Example Number 26.33 Page Number:932"
     ]
    },
    {
     "cell_type": "code",
     "collapsed": false,
     "input": [
      "#variable declaration\n",
      "p=4\n",
      "E=216.0#V\n",
      "n=600.0#rpm\n",
      "slots=144\n",
      "con=6\n",
      "n2=500.0#rpm\n",
      "\n",
      "#calculations\n",
      "z=con*slots\n",
      "a=p\n",
      "phi=(E*60*a)/(n*z*p)\n",
      "a=2\n",
      "armatureE=(phi*z*n2*p)/(60*a)\n",
      "\n",
      "#result\n",
      "print \"the armature emf= \",armatureE,\" V\""
     ],
     "language": "python",
     "metadata": {},
     "outputs": [
      {
       "output_type": "stream",
       "stream": "stdout",
       "text": [
        "the armature emf=  360.0  V\n"
       ]
      }
     ],
     "prompt_number": 34
    },
    {
     "cell_type": "heading",
     "level": 2,
     "metadata": {},
     "source": [
      "Example Number 26.34 Page Number:933"
     ]
    },
    {
     "cell_type": "code",
     "collapsed": false,
     "input": [
      "#variable declaration\n",
      "p=4\n",
      "r=0.15#ohm\n",
      "\n",
      "#calculations\n",
      "ar=p*r\n",
      "\n",
      "#result\n",
      "print \"armature resistance=\",ar"
     ],
     "language": "python",
     "metadata": {},
     "outputs": [
      {
       "output_type": "stream",
       "stream": "stdout",
       "text": [
        "armature resistance= 0.6\n"
       ]
      }
     ],
     "prompt_number": 30
    },
    {
     "cell_type": "code",
     "collapsed": false,
     "input": [],
     "language": "python",
     "metadata": {},
     "outputs": []
    }
   ],
   "metadata": {}
  }
 ]
}