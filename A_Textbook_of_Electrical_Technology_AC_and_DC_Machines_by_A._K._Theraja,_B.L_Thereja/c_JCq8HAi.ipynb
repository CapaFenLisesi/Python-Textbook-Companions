{
 "metadata": {
  "name": "",
  "signature": "sha256:fc88e8a107629d62ff7c77f84f67a9d9da67e1160053ed6d930ef88cb4cc11d6"
 },
 "nbformat": 3,
 "nbformat_minor": 0,
 "worksheets": [
  {
   "cells": [
    {
     "cell_type": "heading",
     "level": 1,
     "metadata": {},
     "source": [
      "Chapter 27: Armature Reaction and Commutation"
     ]
    },
    {
     "cell_type": "heading",
     "level": 2,
     "metadata": {},
     "source": [
      "Example Number 27.1, Page Number:943"
     ]
    },
    {
     "cell_type": "code",
     "collapsed": false,
     "input": [
      "#variable declaration\n",
      "p=4\n",
      "z=722\n",
      "ia=100.0#A\n",
      "theta_m=8.0#degrees\n",
      "\n",
      "#calculatons\n",
      "i=ia/2\n",
      "atd_perpole=z*i*theta_m/360\n",
      "atc_perpole=z*i*((1/(2.0*p))-(theta_m/360.0))\n",
      "\n",
      "#result\n",
      "print \"armature demagnetization=\",atd_perpole\n",
      "print \"cross-magnetization=\",atc_perpole"
     ],
     "language": "python",
     "metadata": {},
     "outputs": [
      {
       "output_type": "stream",
       "stream": "stdout",
       "text": [
        "armature demagnetization= 802.222222222\n",
        "cross-magnetization= 3710.27777778\n"
       ]
      }
     ],
     "prompt_number": 1
    },
    {
     "cell_type": "heading",
     "level": 2,
     "metadata": {},
     "source": [
      "Example Number 27.2, Page Number:943"
     ]
    },
    {
     "cell_type": "code",
     "collapsed": false,
     "input": [
      "#variable declaration\n",
      "p=8\n",
      "z=1280\n",
      "v=500#V\n",
      "ia=200.0#A\n",
      "commuter=160\n",
      "advanced_segments=4\n",
      "\n",
      "#calculatons\n",
      "i=ia/8\n",
      "theta_m=advanced_segments*360/commuter\n",
      "atd_perpole=z*i*theta_m/360\n",
      "atc_perpole=z*i*((1/(2.0*p))-(theta_m/360.0))\n",
      "\n",
      "#result\n",
      "print \"armature demagnetization=\",atd_perpole\n",
      "print \"cross-magnetization=\",atc_perpole"
     ],
     "language": "python",
     "metadata": {},
     "outputs": [
      {
       "output_type": "stream",
       "stream": "stdout",
       "text": [
        "armature demagnetization= 800.0\n",
        "cross-magnetization= 1200.0\n"
       ]
      }
     ],
     "prompt_number": 12
    },
    {
     "cell_type": "heading",
     "level": 2,
     "metadata": {},
     "source": [
      "Example Number 27.3(a), Page Number:943"
     ]
    },
    {
     "cell_type": "code",
     "collapsed": false,
     "input": [
      "#variable declaration\n",
      "p=4\n",
      "z=880\n",
      "ia=120.0#A\n",
      "theta_m=3.0#degrees\n",
      "n=1100#tturns/pole\n",
      "#calculatons\n",
      "i=ia/2\n",
      "atd_perpole=z*i*theta_m/360\n",
      "atc_perpole=z*i*((1/(2.0*p))-(theta_m/360.0))\n",
      "iadditional=(atd_perpole/n)\n",
      "\n",
      "\n",
      "#result\n",
      "print \"a)armature demagnetization=\",atd_perpole,\"AT\"\n",
      "print \"b)cross-magnetization=\",atc_perpole,\"AT\"\n",
      "print \"c)additional field current=\",iadditional,\"A\""
     ],
     "language": "python",
     "metadata": {},
     "outputs": [
      {
       "output_type": "stream",
       "stream": "stdout",
       "text": [
        "a)armature demagnetization= 440.0 AT\n",
        "b)cross-magnetization= 6160.0 AT\n",
        "c)additional field current= 0.4 A\n"
       ]
      }
     ],
     "prompt_number": 17
    },
    {
     "cell_type": "heading",
     "level": 2,
     "metadata": {},
     "source": [
      "Example Number 27.3(b), Page Number:943"
     ]
    },
    {
     "cell_type": "code",
     "collapsed": false,
     "input": [
      "#variable declaration\n",
      "p=4\n",
      "z=480\n",
      "ia=150.0#A\n",
      "theta_m=10.0*2#degrees\n",
      "\n",
      "#calculatons\n",
      "i=ia/4\n",
      "total=(z*i)/(2*p)\n",
      "atd_perpole=total*(2*theta_m/180)\n",
      "atc_perpole=total*(1-(2*theta_m/180))\n",
      "\n",
      "#result\n",
      "print \"armature demagnetization=\",atd_perpole\n",
      "print \"cross-magnetization=\",atc_perpole"
     ],
     "language": "python",
     "metadata": {},
     "outputs": [
      {
       "output_type": "stream",
       "stream": "stdout",
       "text": [
        "armature demagnetization= 500.0\n",
        "cross-magnetization= 1750.0\n"
       ]
      }
     ],
     "prompt_number": 27
    },
    {
     "cell_type": "heading",
     "level": 2,
     "metadata": {},
     "source": [
      "Example Number 27.4, Page Number:944"
     ]
    },
    {
     "cell_type": "code",
     "collapsed": false,
     "input": [
      "#variable declaration\n",
      "z=492\n",
      "theta_m=10.0\n",
      "ia=143.0+10.0\n",
      "\n",
      "#calculations\n",
      "i1=ia/2#wave wound\n",
      "i2=ia/4#lap wound\n",
      "atd_perpole1=z*i1*theta_m/360#wave wound\n",
      "extra_shunt1=atd_perpole1/theta_m\n",
      "atd_perpole2=z*i2*(theta_m/360.0)#lap wound\n",
      "extra_shunt2=atd_perpole2/theta_m\n",
      "#result\n",
      "print \"wave wound:\"\n",
      "print \"demagnetization per pole=\",atd_perpole1,\"AT\"\n",
      "print \"extra shunt field turns=\",int(extra_shunt1)\n",
      "print \"lap wound:\"\n",
      "print \"demagnetization per pole=\",atd_perpole2,\"AT\"\n",
      "print \"extra shunt field turns=\",int(extra_shunt2)"
     ],
     "language": "python",
     "metadata": {},
     "outputs": [
      {
       "output_type": "stream",
       "stream": "stdout",
       "text": [
        "wave wound:\n",
        "demagnetization per pole= 1045.5 AT\n",
        "extra shunt field turns= 104\n",
        "lap wound:\n",
        "demagnetization per pole= 522.75 AT\n",
        "extra shunt field turns= 52\n"
       ]
      }
     ],
     "prompt_number": 32
    },
    {
     "cell_type": "heading",
     "level": 2,
     "metadata": {},
     "source": [
      "Example Number 27.5, Page Number:944"
     ]
    },
    {
     "cell_type": "code",
     "collapsed": false,
     "input": [
      "#variable declaration\n",
      "pole=4\n",
      "p=50*1000.0#W\n",
      "v=250.0#V\n",
      "z=400\n",
      "commuter=4\n",
      "rsh=50.0#ohm\n",
      "a=2\n",
      "\n",
      "#calculations\n",
      "i=p/v\n",
      "ish=v/rsh\n",
      "ia=i+ish\n",
      "i=ia/2\n",
      "segments=z/a\n",
      "theta=pole*360.0/segments\n",
      "atd=z*i*(theta/360)\n",
      "extra=atd/ish\n",
      "\n",
      "#result\n",
      "print \"demagnetisation=\",atd,\"AT\"\n",
      "print \"extra shunt turns/poles\",extra"
     ],
     "language": "python",
     "metadata": {},
     "outputs": [
      {
       "output_type": "stream",
       "stream": "stdout",
       "text": [
        "demagnetisation= 820.0 AT\n",
        "extra shunt turns/poles 164.0\n"
       ]
      }
     ],
     "prompt_number": 35
    },
    {
     "cell_type": "heading",
     "level": 2,
     "metadata": {},
     "source": [
      "Example Number 27.6, Page Number:943"
     ]
    },
    {
     "cell_type": "code",
     "collapsed": false,
     "input": [
      "#variable declaration\n",
      "z=500\n",
      "ia=200.0#A\n",
      "p=6\n",
      "theta=10.0#degrees\n",
      "lambda_=1.3\n",
      "\n",
      "#calculations\n",
      "i=ia/2\n",
      "atc=((1/(2.0*p))-(theta/360.0))*z*i\n",
      "atd=z*i*theta/360\n",
      "extra=lambda_*atd/ia\n",
      "\n",
      "#result\n",
      "print \"i)cross magnetization ampere-turns=\",atc\n",
      "print \"ii)back ampere-turns\",atd\n",
      "print \"iii)series turns required to balance the demagnetising ampere turns\",int(extra)"
     ],
     "language": "python",
     "metadata": {},
     "outputs": [
      {
       "output_type": "stream",
       "stream": "stdout",
       "text": [
        "i)cross magnetization ampere-turns= 2777.77777778\n",
        "ii)back ampere-turns 1388.88888889\n",
        "iii)series turns required to balance the demagnetising ampere turns 9\n"
       ]
      }
     ],
     "prompt_number": 45
    },
    {
     "cell_type": "heading",
     "level": 2,
     "metadata": {},
     "source": [
      "Example Number 27.7, Page Number:945"
     ]
    },
    {
     "cell_type": "code",
     "collapsed": false,
     "input": [
      "#variable declaration\n",
      "p=22.38#kW\n",
      "v=440.0#V\n",
      "pole=4\n",
      "z=840\n",
      "commutator=140\n",
      "efficiency=0.88\n",
      "ish=1.8#A\n",
      "back=1.5\n",
      "\n",
      "#calculations\n",
      "motor_input=p*1000.0/efficiency\n",
      "input_i=motor_input/v\n",
      "ia=input_i-ish\n",
      "i=ia/2.0\n",
      "theta=back*360/commutator\n",
      "atd=z*i*(theta/360.0)\n",
      "atc=((1/(2.0*pole))-(theta/360.0))*z*i\n",
      "#result\n",
      "print \"armature demagnetization amp-turns/pole=\",atd\n",
      "print \"distorting amp-turns/pole=\",atc"
     ],
     "language": "python",
     "metadata": {},
     "outputs": [
      {
       "output_type": "stream",
       "stream": "stdout",
       "text": [
        "armature demagnetization amp-turns/pole= 251.998140496\n",
        "distorting amp-turns/pole= 2687.98016529\n"
       ]
      }
     ],
     "prompt_number": 59
    },
    {
     "cell_type": "heading",
     "level": 2,
     "metadata": {},
     "source": [
      "Example Number 27.8, Page Number:945"
     ]
    },
    {
     "cell_type": "code",
     "collapsed": false,
     "input": [
      "#variable declaration\n",
      "v=400#V\n",
      "ia=1000#A\n",
      "p=10\n",
      "z=860\n",
      "per=0.7\n",
      "\n",
      "#calculations\n",
      "i=ia/p\n",
      "at=per/p*z*(i/2)\n",
      "\n",
      "#result\n",
      "print \"AT/pole for compensation winding=\",at"
     ],
     "language": "python",
     "metadata": {},
     "outputs": [
      {
       "output_type": "stream",
       "stream": "stdout",
       "text": [
        "AT/pole for compensation winding= 3010.0\n"
       ]
      }
     ],
     "prompt_number": 62
    },
    {
     "cell_type": "heading",
     "level": 2,
     "metadata": {},
     "source": [
      "Example Number 27.9, Page Number:948"
     ]
    },
    {
     "cell_type": "code",
     "collapsed": false,
     "input": [
      "#variable declaration\n",
      "n=800.0#rpm\n",
      "segment=123\n",
      "wb=3\n",
      "#calculations\n",
      "v=n/60.0*segment\n",
      "commutation=wb/v\n",
      "\n",
      "#result\n",
      "print \"commutation time=\",commutation*1000,\"millisecond\""
     ],
     "language": "python",
     "metadata": {},
     "outputs": [
      {
       "output_type": "stream",
       "stream": "stdout",
       "text": [
        "commutation time= 1.82926829268 millisecond\n"
       ]
      }
     ],
     "prompt_number": 64
    },
    {
     "cell_type": "heading",
     "level": 2,
     "metadata": {},
     "source": [
      "Example Number 27.10, Page Number:948"
     ]
    },
    {
     "cell_type": "code",
     "collapsed": false,
     "input": [
      "#variable declaration\n",
      "p=4\n",
      "n=1500#rpm\n",
      "d=30#cm\n",
      "ia=150#A\n",
      "wb=1.25#cm\n",
      "L=0.07*0.001#H\n",
      "\n",
      "#calculation\n",
      "i=ia/2\n",
      "v=3.14*d*(n/60)\n",
      "tc=wb/v\n",
      "E=L*2*i/tc\n",
      "\n",
      "#result\n",
      "print \"average emf=\",E,\"V\""
     ],
     "language": "python",
     "metadata": {},
     "outputs": [
      {
       "output_type": "stream",
       "stream": "stdout",
       "text": [
        "average emf= 19.782 V\n"
       ]
      }
     ],
     "prompt_number": 65
    },
    {
     "cell_type": "heading",
     "level": 2,
     "metadata": {},
     "source": [
      "Example Number 27.11, Page Number:949"
     ]
    },
    {
     "cell_type": "code",
     "collapsed": false,
     "input": [
      "import math\n",
      "#variable declaration\n",
      "segments=55\n",
      "n=900\n",
      "wb=1.74\n",
      "L=153*math.pow(10,-6)#H\n",
      "i=27#A\n",
      "\n",
      "#calculations\n",
      "v=segments*n/60\n",
      "Tc=wb/v\n",
      "E=L*2*i/Tc\n",
      "\n",
      "#result\n",
      "print \"average emf=\",E,\"V\"\n"
     ],
     "language": "python",
     "metadata": {},
     "outputs": [
      {
       "output_type": "stream",
       "stream": "stdout",
       "text": [
        "average emf= 3.91732758621 V\n"
       ]
      }
     ],
     "prompt_number": 67
    },
    {
     "cell_type": "heading",
     "level": 2,
     "metadata": {},
     "source": [
      "Example Number 27.12, Page Number:949"
     ]
    },
    {
     "cell_type": "code",
     "collapsed": false,
     "input": [
      "#variable declaration\n",
      "p=4\n",
      "n=1500.0#rpm\n",
      "ia=150.0#A\n",
      "z=64\n",
      "wb=1.2\n",
      "L=0.05#mH\n",
      "\n",
      "#calculations\n",
      "L=L*0.001\n",
      "v=n/60*z\n",
      "tc=wb/v\n",
      "i=ia/p\n",
      "#i.linear\n",
      "E1=L*2*i/tc\n",
      "#ii.sinusoidal\n",
      "E2=1.11*E1\n",
      "\n",
      "#result\n",
      "print \"Linear commutation,E=\",E1,\"V\"\n",
      "print \"Sinosoidal commutation,E=\",E2,\"V\"\n"
     ],
     "language": "python",
     "metadata": {},
     "outputs": [
      {
       "output_type": "stream",
       "stream": "stdout",
       "text": [
        "Linear commutation,E= 5.0 V\n",
        "Sinosoidal commutation,E= 5.55 V\n"
       ]
      }
     ],
     "prompt_number": 68
    },
    {
     "cell_type": "heading",
     "level": 2,
     "metadata": {},
     "source": [
      "Example Number 27.13, Page Number:951"
     ]
    },
    {
     "cell_type": "code",
     "collapsed": false,
     "input": [
      "import math\n",
      "#variable declaration\n",
      "p=6\n",
      "B=0.5#Wb/m2\n",
      "Ig=4.0#mm\n",
      "ia=500.0#A\n",
      "z=540\n",
      "\n",
      "#calculations\n",
      "arm_mmf=z*(ia/p)/(2*p)\n",
      "compole=int(B*Ig*0.001/(4*3.14*math.pow(10,-7)))\n",
      "mag=0.1*compole\n",
      "total_compole=int(compole+mag)\n",
      "total_mmf=arm_mmf+total_compole\n",
      "Ncp=total_mmf/ia\n",
      "\n",
      "#result\n",
      "print \"Number of turns on each commutating pole=\",int(Ncp)"
     ],
     "language": "python",
     "metadata": {},
     "outputs": [
      {
       "output_type": "stream",
       "stream": "stdout",
       "text": [
        "Number of turns on each commutating pole= 11\n"
       ]
      }
     ],
     "prompt_number": 89
    },
    {
     "cell_type": "heading",
     "level": 2,
     "metadata": {},
     "source": [
      "Example Number 27.14, Page Number:957"
     ]
    },
    {
     "cell_type": "code",
     "collapsed": false,
     "input": [
      "#variable declaration\n",
      "p1=100.0#kW\n",
      "V1=250#V\n",
      "p2=300.0#kW\n",
      "V2=250#V\n",
      "i1=200#A\n",
      "i2=500#A\n",
      "il=600#A\n",
      "\n",
      "#calculations\n",
      "delI1=p1/(p1+p2)*il\n",
      "delI2=p2/(p1+p2)*il\n",
      "\n",
      "#result\n",
      "print \"Current supplied by generator 1 with additional load=\",delI1,\"A\"\n",
      "print \"Current supplied by generator 2 with additional load=\",delI2,\"A\""
     ],
     "language": "python",
     "metadata": {},
     "outputs": [
      {
       "output_type": "stream",
       "stream": "stdout",
       "text": [
        "Current supplied by generator 1 with additional load= 150.0 A\n",
        "Current supplied by generator 2 with additional load= 450.0 A\n"
       ]
      }
     ],
     "prompt_number": 92
    },
    {
     "cell_type": "heading",
     "level": 2,
     "metadata": {},
     "source": [
      "Example Number 27.15, Page Number:957"
     ]
    },
    {
     "cell_type": "code",
     "collapsed": false,
     "input": [
      "import math\n",
      "from sympy.solvers import solve\n",
      "from sympy import Symbol\n",
      "#variable declaration\n",
      "i1=Symbol('i1')\n",
      "i2=Symbol('i2')\n",
      "v_nl1=270#V\n",
      "v_l=220#V\n",
      "il1=35#A\n",
      "v_nl2=280#V\n",
      "il2=50#A\n",
      "il=60#A\n",
      "\n",
      "#calculations\n",
      "#generator 1\n",
      "vd1=v_nl1-v_l\n",
      "vd_pa=vd1/il1#voltage drop per ampere\n",
      "#generator 2\n",
      "vd_pa2=(v_nl2-v_l)/il2\n",
      "#270=(10/7)i1=280-1.2*i2\n",
      "ans=solve([4.2*i2-5*i1-35,i1+i2-60],[i1,i2])\n",
      "v=v_nl2-vd_pa2*ans[i2]\n",
      "o1=v*ans[i1]/1000.0\n",
      "o2=v*ans[i2]/1000.0\n",
      "\n",
      "#result\n",
      "print \"output current of first machine=\",round(ans[i1],1)\n",
      "print \"output current of second machine=\",round(ans[i2],1)\n",
      "print \"output of first machine=\",round(o1,1),\"kW\"\n",
      "print \"output of second machine=\",round(o2,1),\"kW\"\n"
     ],
     "language": "python",
     "metadata": {},
     "outputs": [
      {
       "output_type": "stream",
       "stream": "stdout",
       "text": [
        "output current of first machine= 23.6\n",
        "output current of second machine= 36.4\n",
        "output of first machine= 5.7 kW\n",
        "output of second machine= 8.9 kW\n"
       ]
      }
     ],
     "prompt_number": 6
    },
    {
     "cell_type": "heading",
     "level": 2,
     "metadata": {},
     "source": [
      "Example Number 27.16, Page Number:958"
     ]
    },
    {
     "cell_type": "code",
     "collapsed": false,
     "input": [
      "import math\n",
      "from sympy.solvers import solve\n",
      "from sympy import Symbol\n",
      "#variable declaration\n",
      "i1=Symbol('i1')\n",
      "i2=Symbol('i2')\n",
      "v=Symbol('v')\n",
      "ra=0.01#ohm\n",
      "rf=20#ohm\n",
      "i=4000#A\n",
      "v1=210#V\n",
      "v2=220#V\n",
      "\n",
      "#calculations\n",
      "#V+(i1+v/20)*0.01=210\n",
      "#V+(i2+v/20)*0.01=220\n",
      "#solving the above two equations we have i1-i2=1000\n",
      "ans=solve([i1-i2-1000,i1+i2-4000],[i1,i2])\n",
      "V=solve([v1-(ans[i1]+v/20)*0.01-v],[v])\n",
      "o1=V[v]*ans[i1]/1000\n",
      "o2=V[v]*ans[i2]/1000\n",
      "\n",
      "#result\n",
      "print \"Bus bar voltage=\",V[v],\"V\"\n",
      "print \"output of first generator=\",o1,\"kW\"\n",
      "print \"output of second generator=\",o2,\"kW\"\n"
     ],
     "language": "python",
     "metadata": {},
     "outputs": [
      {
       "output_type": "stream",
       "stream": "stdout",
       "text": [
        "Bus bar voltage= 184.907546226887 V\n",
        "output of first generator= 462.268865567216 kW\n",
        "output of second generator= 277.361319340330 kW\n"
       ]
      }
     ],
     "prompt_number": 15
    },
    {
     "cell_type": "heading",
     "level": 2,
     "metadata": {},
     "source": [
      "Example Number 27.17, Page Number:959"
     ]
    },
    {
     "cell_type": "code",
     "collapsed": false,
     "input": [
      "import math\n",
      "from sympy.solvers import solve\n",
      "from sympy import Symbol\n",
      "#variable declaration\n",
      "i1=Symbol('i1')\n",
      "i2=Symbol('i2')\n",
      "i=250.0#A\n",
      "v1=50.0#kW\n",
      "v2=100.0#kW\n",
      "v=500.0#V\n",
      "r1=0.06\n",
      "r2=0.04\n",
      "\n",
      "#calculations\n",
      "#generator 1\n",
      "vd1=v*r1\n",
      "il1=v1*1000/v\n",
      "i_d1=vd1/il1\n",
      "#generator 2\n",
      "vd2=v*r2\n",
      "il2=v2*1000/v\n",
      "i_d2=vd2/il2\n",
      "#3i1/10=i2/10\n",
      "ans=solve([i1+i2-i,3*i1-i2],[i1,i2])\n",
      "v=v-(3*ans[i1]/10)\n",
      "\n",
      "#result\n",
      "print \"current delivered to first machine=\",round(ans[i1],1),\"A\"\n",
      "print \"current delivered to second machine=\",round(ans[i2],1),\"A\"\n",
      "print \"terminal voltage=\",round(v,1),\"V\""
     ],
     "language": "python",
     "metadata": {},
     "outputs": [
      {
       "output_type": "stream",
       "stream": "stdout",
       "text": [
        "current delivered to first machine= 62.5 A\n",
        "current delivered to second machine= 187.5 A\n",
        "terminal voltage= 481.3 V\n"
       ]
      }
     ],
     "prompt_number": 19
    },
    {
     "cell_type": "heading",
     "level": 2,
     "metadata": {},
     "source": [
      "Example Number 27.18, Page Number:959"
     ]
    },
    {
     "cell_type": "code",
     "collapsed": false,
     "input": [
      "import math\n",
      "from sympy.solvers import solve\n",
      "from sympy import Symbol\n",
      "#variable declaration\n",
      "x1=Symbol('x1')\n",
      "x2=Symbol('x2')\n",
      "i1=Symbol('i1')\n",
      "i2=Symbol('i2')\n",
      "v=125.0#V\n",
      "w1=250.0#kW\n",
      "v1=119.0#V\n",
      "w2=200.0#kW\n",
      "v2=116.0#V\n",
      "i=3500.0#A\n",
      "\n",
      "#calculations\n",
      "#v=125-[(125-119)(x1/100)] for generator 1\n",
      "#v=125-[(125-116)(x2/100)] for generator 2\n",
      "#(250x1*1000/100)+(200x2*1000/100)=v*3500\n",
      "#v=125-6x1/100\n",
      "ans=solve([(250.0*x1*1000.0/100.0)+(200.0*(2.0*x1*1000.0)/300.0)-((125.0-((6.0*x1)/100.0))*3500.0)],[x1])\n",
      "V=v-(6.0*ans[x1]/100.0)\n",
      "ans2=solve([V-(v-((v-v2)*(x2/100.0)))],[x2])\n",
      "ratio=ans[x1]/ans2[x2]\n",
      "I=solve([ratio-((i1*w2)/(i2*w1)),i1+i2-i],[i1,i2])\n",
      "print \"I1=\",round(I[i1],0),\"A\"\n",
      "print \"I2=\",round(I[i2],0),\"A\""
     ],
     "language": "python",
     "metadata": {},
     "outputs": [
      {
       "output_type": "stream",
       "stream": "stdout",
       "text": [
        "I1= 2283.0 A\n",
        "I2= 1217.0 A\n"
       ]
      }
     ],
     "prompt_number": 23
    },
    {
     "cell_type": "heading",
     "level": 2,
     "metadata": {},
     "source": [
      "Example Number 27.19, Page Number:960"
     ]
    },
    {
     "cell_type": "code",
     "collapsed": false,
     "input": [
      "import math\n",
      "from sympy.solvers import solve\n",
      "from sympy import Symbol\n",
      "#variable declaration\n",
      "IA=Symbol('IA')\n",
      "IB=Symbol('IB')\n",
      "va1=240.0#V\n",
      "va2=220.0#v\n",
      "ia=200.0#A\n",
      "vb1=245.0#V\n",
      "vb2=220.0#V\n",
      "ib=150.0#A\n",
      "i=300.0#A\n",
      "\n",
      "#calculations\n",
      "I=solve([(va1-((va1-va2)*IA/ia))-(vb1-((vb1-vb2)*IB/ib)),IA+IB-i],[IA,IB])\n",
      "vbus=va1-((va1-va2)*I[IA]/ia)\n",
      "#result\n",
      "print \"IA=\",round(I[IA],2),\"A\"\n",
      "print \"IB=\",round(I[IB],2),\"A\"\n",
      "print \"V bus=\",round(vbus,2),\"V\""
     ],
     "language": "python",
     "metadata": {},
     "outputs": [
      {
       "output_type": "stream",
       "stream": "stdout",
       "text": [
        "IA= 168.75 A\n",
        "IB= 131.25 A\n",
        "V bus= 223.13 V\n"
       ]
      }
     ],
     "prompt_number": 16
    },
    {
     "cell_type": "heading",
     "level": 2,
     "metadata": {},
     "source": [
      "Example Number 27.20, Page Number:961"
     ]
    },
    {
     "cell_type": "code",
     "collapsed": false,
     "input": [
      "import math\n",
      "from sympy.solvers import solve\n",
      "from sympy import Symbol\n",
      "#variable declaration\n",
      "i1=Symbol('i1')\n",
      "i2=Symbol('i2')\n",
      "n=5.0#number ofshunt generators\n",
      "ra=0.1#ohm\n",
      "p=250.0#kW\n",
      "v=500.0#V\n",
      "incr=0.04#increase in current\n",
      "\n",
      "#calculations\n",
      "load=p/n\n",
      "o=load*1000.0/v\n",
      "a_drop=ra*o\n",
      "emf=v+a_drop\n",
      "incr=incr*emf\n",
      "emf1=emf+incr\n",
      "#emf1-ra*i1=V\n",
      "#emf-ra*i2=V\n",
      "I=solve([emf1-emf-ra*(i1-i2),i1+4.1*i2-510],[i1,i2])\n",
      "V=I[i1]+4.0*I[i2]#V=i1+4*i2\n",
      "o1=V*I[i1]/1000.0\n",
      "o2=V*I[i2]/1000.0\n",
      "\n",
      "#result\n",
      "print \"Power output of first machine=\",round(o1),\"kW\"\n",
      "print \"Power output of second machine=\",round(o2,2),\"kW\"\n",
      "print \"Terminal voltage=\",round(V),\"V\""
     ],
     "language": "python",
     "metadata": {},
     "outputs": [
      {
       "output_type": "stream",
       "stream": "stdout",
       "text": [
        "Power output of first machine= 133.0 kW\n",
        "Power output of second machine= 30.24 kW\n",
        "Terminal voltage= 504.0 V\n"
       ]
      }
     ],
     "prompt_number": 14
    },
    {
     "cell_type": "heading",
     "level": 2,
     "metadata": {},
     "source": [
      "Example Number 27.21, Page Number:961"
     ]
    },
    {
     "cell_type": "code",
     "collapsed": false,
     "input": [
      "import math\n",
      "from sympy.solvers import solve\n",
      "from sympy import Symbol\n",
      "#variable declaration\n",
      "V=Symbol('V')\n",
      "i=1500.0#A\n",
      "ra1=0.5#ohm\n",
      "emf1=400.0#V\n",
      "ra2=0.04#ohm\n",
      "emf2=440.0#V\n",
      "rs1=100.0#ohm\n",
      "rs2=80.0#ohm\n",
      "\n",
      "#calculations\n",
      "#i2=1500-i1\n",
      "#ish1=v/100, ish2=v/80\n",
      "#ia1=i1+v/100, ia2=i2+v/80\n",
      "ans=solve([(0.5/0.04)-((emf1-1.005*V)/(1.0005*V-380))],[V])\n",
      "i1=(emf1-1.005*ans[V])/0.5\n",
      "i2=i-i1\n",
      "o1=ans[V]*i1/1000\n",
      "o2=ans[V]*i2/1000\n",
      "#result\n",
      "print \"I1=\",round(i1,2),\"A\"\n",
      "print \"I2=\",round(i2,2),\"A\"\n",
      "print \"Terminal Voltage=\",round(ans[V],2),\"V\""
     ],
     "language": "python",
     "metadata": {},
     "outputs": [
      {
       "output_type": "stream",
       "stream": "stdout",
       "text": [
        "I1= 33.86 A\n",
        "I2= 1466.14 A\n",
        "Terminal Voltage= 381.16 V\n"
       ]
      }
     ],
     "prompt_number": 2
    },
    {
     "cell_type": "heading",
     "level": 2,
     "metadata": {},
     "source": [
      "Example Number 27.22, Page Number:962"
     ]
    },
    {
     "cell_type": "code",
     "collapsed": false,
     "input": [
      "import math\n",
      "from sympy.solvers import solve\n",
      "from sympy import Symbol\n",
      "#variable declaration\n",
      "V=Symbol('V')\n",
      "I=Symbol('I')\n",
      "v1=250#V\n",
      "ra1=0.24#ohm\n",
      "rf1=100#ohm\n",
      "v2=248#V\n",
      "ra2=0.12#ohm\n",
      "rf2=100#ohm\n",
      "i=40#A\n",
      "ir=0.172#ohm\n",
      "\n",
      "#calculations\n",
      "ans=solve([V+((I+V/rf1)*ra1)-v1,V+((I+V/rf2)*ra2)-v2],[I,V])\n",
      "ib=i-2*ans[I]\n",
      "vd=ib*ir\n",
      "eb=ans[V]+vd\n",
      "\n",
      "#result\n",
      "print \"emf of battery=\",round(eb),\"V\""
     ],
     "language": "python",
     "metadata": {},
     "outputs": [
      {
       "output_type": "stream",
       "stream": "stdout",
       "text": [
        "emf of battery= 248.0 V\n"
       ]
      }
     ],
     "prompt_number": 24
    },
    {
     "cell_type": "heading",
     "level": 2,
     "metadata": {},
     "source": [
      "Example Number 27.23, Page Number:963"
     ]
    },
    {
     "cell_type": "code",
     "collapsed": false,
     "input": [
      "#variable declaration\n",
      "va=400#V\n",
      "ra=0.25#ohm\n",
      "vb=410#V\n",
      "rb=0.4#ohm\n",
      "V=390#V\n",
      "\n",
      "#calculations\n",
      "loada=(va-V)/ra\n",
      "loadb=(vb-V)/rb\n",
      "pa=loada*V\n",
      "pb=loadb*V\n",
      "net_v=vb-va\n",
      "total_r=ra+rb\n",
      "i=net_v/total_r\n",
      "terminal_v=va+(i*ra)\n",
      "power_AtoB=terminal_v*i\n",
      "\n",
      "#result\n",
      "print \"Current=\",i,\"A\"\n",
      "print \"Voltage=\",terminal_v,\"V\"\n",
      "print \"Power=\",power_AtoB,\"W\"\n"
     ],
     "language": "python",
     "metadata": {},
     "outputs": [
      {
       "output_type": "stream",
       "stream": "stdout",
       "text": [
        "Current= 15.3846153846 A\n",
        "Voltage= 403.846153846 V\n",
        "Power= 6213.01775148 W\n"
       ]
      }
     ],
     "prompt_number": 4
    },
    {
     "cell_type": "heading",
     "level": 2,
     "metadata": {},
     "source": [
      "Example Number 27.24, Page Number:964"
     ]
    },
    {
     "cell_type": "code",
     "collapsed": false,
     "input": [
      "import math\n",
      "from sympy.solvers import solve\n",
      "from sympy import Symbol\n",
      "#variable declaration\n",
      "v=Symbol('v')\n",
      "i=500.0#A\n",
      "ra1=0.01#ohm\n",
      "ra2=0.02#ohm\n",
      "sw1=0.004#ohm\n",
      "sw2=0.006#ohm\n",
      "e1=240.0#V\n",
      "e2=244.0#V\n",
      "\n",
      "#calculations\n",
      "V=solve([(((e1-v)/ra1)+((e2-v)/ra2)-i)],[v])\n",
      "i1=(e1-V[v])/ra1\n",
      "i2=(e2-V[v])/ra2\n",
      "#ratio of series winding (1/0.004):(1/0.0006) or 3:2\n",
      "is1=i*3/5\n",
      "is2=i*2/5\n",
      "vbus=V[v]-(is1*sw1)\n",
      "\n",
      "#result\n",
      "print \"I1=\",round(i1),\"A\"\n",
      "print \"I2=\",round(i2),\"A\"\n",
      "print \"Current in series winding:\"\n",
      "print \"generator A=\",round(is1),\"A\"\n",
      "print \"generator B=\",round(is2),\"B\"\n",
      "print \"Bus bar voltage=\",round(vbus,1),\"V\""
     ],
     "language": "python",
     "metadata": {},
     "outputs": [
      {
       "output_type": "stream",
       "stream": "stdout",
       "text": [
        "I1= 200.0 A\n",
        "I2= 300.0 A\n",
        "Current in series winding:\n",
        "generator A= 300.0 A\n",
        "generator B= 200.0 B\n",
        "Bus bar voltage= 236.8 V\n"
       ]
      }
     ],
     "prompt_number": 7
    },
    {
     "cell_type": "code",
     "collapsed": false,
     "input": [],
     "language": "python",
     "metadata": {},
     "outputs": []
    }
   ],
   "metadata": {}
  }
 ]
}