{
 "metadata": {
  "name": "",
  "signature": "sha256:add10f49c90b647cf79b01d40fd4e1ca71068a8e9a13aad0c70f06cfeaabeda4"
 },
 "nbformat": 3,
 "nbformat_minor": 0,
 "worksheets": [
  {
   "cells": [
    {
     "cell_type": "heading",
     "level": 1,
     "metadata": {},
     "source": [
      "Chapter 35: Computations and Circle Diagrams"
     ]
    },
    {
     "cell_type": "heading",
     "level": 2,
     "metadata": {},
     "source": [
      "Example Number 35.1, Page Number:1316"
     ]
    },
    {
     "cell_type": "code",
     "collapsed": false,
     "input": [
      "import math\n",
      "#variable declaration\n",
      "i=10#A\n",
      "p=450#W\n",
      "v=110#V\n",
      "r=0.05#ohm\n",
      "loss=135#w\n",
      "\n",
      "#calculations\n",
      "cu_loss=3*i**2*r\n",
      "core_loss=p-loss-cu_loss\n",
      "volt=v/math.sqrt(3)\n",
      "g=core_loss/(3*(v/math.sqrt(3))**2)\n",
      "y=i*math.sqrt(3)/v\n",
      "b=math.sqrt(y**2-g**2)\n",
      "\n",
      "#result\n",
      "print \"exciting conductance=\",g,\"seimens/phase\"\n",
      "print \"susceptance/phase=\",b,\"seimens/phase\""
     ],
     "language": "python",
     "metadata": {},
     "outputs": [
      {
       "output_type": "stream",
       "stream": "stdout",
       "text": [
        "exciting conductance= 0.0247933884298 seimens/phase\n",
        "susceptance/phase= 0.155494939853 seimens/phase\n"
       ]
      }
     ],
     "prompt_number": 1
    },
    {
     "cell_type": "heading",
     "level": 2,
     "metadata": {},
     "source": [
      "Example Number 35.2, Page Number:1317"
     ]
    },
    {
     "cell_type": "code",
     "collapsed": false,
     "input": [
      "import math\n",
      "#variable declaration\n",
      "v=110.0#V\n",
      "i=25.0#A\n",
      "v2=30.0#V\n",
      "inpt=440.0#W\n",
      "loss=40.0#W\n",
      "r=0.1#ohm\n",
      "ratio=1.6\n",
      "\n",
      "#calculations\n",
      "vs=v2/math.sqrt(3)\n",
      "z01=vs/i\n",
      "losses=inpt-loss\n",
      "r01=losses/(3*i**2)\n",
      "x01=math.sqrt(z01**2-r01**2)\n",
      "dc_r=r/2.0\n",
      "ac_r=dc_r*ratio\n",
      "effective_r=r01-ac_r\n",
      "\n",
      "#result\n",
      "print \"x01=\",x01,\"ohm\"\n",
      "print \"r1=\",ac_r,\"ohm\"\n",
      "print \"r2=\",effective_r,\"ohm\""
     ],
     "language": "python",
     "metadata": {},
     "outputs": [
      {
       "output_type": "stream",
       "stream": "stdout",
       "text": [
        "x01= 0.659157711696 ohm\n",
        "r1= 0.08 ohm\n",
        "r2= 0.133333333333 ohm\n"
       ]
      }
     ],
     "prompt_number": 8
    },
    {
     "cell_type": "heading",
     "level": 2,
     "metadata": {},
     "source": [
      "Example Number 35.10, Page Number:1333"
     ]
    },
    {
     "cell_type": "code",
     "collapsed": false,
     "input": [
      "import math\n",
      "#variable declaration\n",
      "ratio=1/4.0\n",
      "slip=3.0\n",
      "ratio2=4.0\n",
      "\n",
      "#calculations\n",
      "K=math.sqrt(ratio/((ratio2**2)*0.01*slip))\n",
      "\n",
      "#result\n",
      "print \"Percentage Tapping=\",K*100,\"%\""
     ],
     "language": "python",
     "metadata": {},
     "outputs": [
      {
       "output_type": "stream",
       "stream": "stdout",
       "text": [
        "Percentage Tapping= 72.1687836487 %\n"
       ]
      }
     ],
     "prompt_number": 18
    },
    {
     "cell_type": "heading",
     "level": 2,
     "metadata": {},
     "source": [
      "Example Number 35.11, Page Number:1333"
     ]
    },
    {
     "cell_type": "code",
     "collapsed": false,
     "input": [
      "import math\n",
      "#variable declaration\n",
      "load=14.92#kW\n",
      "v1=400#V\n",
      "n=950#rpm\n",
      "f=50.0#Hz\n",
      "v2=400#V\n",
      "ratio=1.8\n",
      "i=30#A\n",
      "\n",
      "#calculations\n",
      "v=v1/math.sqrt(ratio)\n",
      "If=6*v*i/v1\n",
      "K=v/v1\n",
      "kisc=K**2*6*i\n",
      "ts_tf=(1/6.0)*6**2*(f/1000.0)\n",
      "\n",
      "#result\n",
      "print \"a)voltage=\",v,\"V\"\n",
      "print \"b)current=\",If,\"A\"\n",
      "print \"c)line current=\",kisc,\"A\"\n",
      "print \"d)percentage=\",ts_tf*100,\"%\""
     ],
     "language": "python",
     "metadata": {},
     "outputs": [
      {
       "output_type": "stream",
       "stream": "stdout",
       "text": [
        "a)voltage= 298.142397 V\n",
        "b)current= 134.16407865 A\n",
        "c)line current= 100.0 A\n",
        "d)percentage= 30.0 %\n"
       ]
      }
     ],
     "prompt_number": 22
    },
    {
     "cell_type": "heading",
     "level": 2,
     "metadata": {},
     "source": [
      "Example Number 35.12, Page Number:1334"
     ]
    },
    {
     "cell_type": "code",
     "collapsed": false,
     "input": [
      "import math\n",
      "#variable declaration\n",
      "ratio=5.0\n",
      "per=5\n",
      "\n",
      "#calculations\n",
      "k=math.sqrt(ratio/3)\n",
      "tst_tf=(3.0/5)*5**2*0.01*per*100\n",
      "\n",
      "#result\n",
      "print \"auto-transformation ratio=\",tst_tf,\"%\""
     ],
     "language": "python",
     "metadata": {},
     "outputs": [
      {
       "output_type": "stream",
       "stream": "stdout",
       "text": [
        "auto-transformation ratio= 75.0 %\n"
       ]
      }
     ],
     "prompt_number": 29
    },
    {
     "cell_type": "heading",
     "level": 2,
     "metadata": {},
     "source": [
      "Example Number 35.13, Page Number:1334"
     ]
    },
    {
     "cell_type": "code",
     "collapsed": false,
     "input": [
      "import math\n",
      "#variable declaration\n",
      "v=400.0#V\n",
      "per=3.5\n",
      "v2=92.0#V\n",
      "\n",
      "#calculations\n",
      "k=math.sqrt(2/(v/v2))\n",
      "ts_tf=k**2*(v/v2)**2*0.01*per\n",
      "\n",
      "#result\n",
      "print \"auto-transformation ratio=\",ts_tf*100,\"%\""
     ],
     "language": "python",
     "metadata": {},
     "outputs": [
      {
       "output_type": "stream",
       "stream": "stdout",
       "text": [
        "auto-transformation ratio= 30.4347826087 %\n"
       ]
      }
     ],
     "prompt_number": 31
    },
    {
     "cell_type": "heading",
     "level": 2,
     "metadata": {},
     "source": [
      "Example Number 35.14, Page Number:1336"
     ]
    },
    {
     "cell_type": "code",
     "collapsed": false,
     "input": [
      "import math\n",
      "#variable declaration\n",
      "load=12.0#kW\n",
      "v=440.0#V\n",
      "efficiency=0.85\n",
      "pf=0.8\n",
      "i=45.0#A\n",
      "v2=220.0#V\n",
      "\n",
      "#calculations\n",
      "isc=i*v/v2\n",
      "if_=load*1000/(efficiency*math.sqrt(3)*pf*v)\n",
      "ist=isc/math.sqrt(3)\n",
      "ratio=ist/if_\n",
      "\n",
      "#result\n",
      "print \"ratio=\",ratio"
     ],
     "language": "python",
     "metadata": {},
     "outputs": [
      {
       "output_type": "stream",
       "stream": "stdout",
       "text": [
        "ratio= 2.244\n"
       ]
      }
     ],
     "prompt_number": 34
    },
    {
     "cell_type": "heading",
     "level": 2,
     "metadata": {},
     "source": [
      "Example Number 35.15, Page Number:1336"
     ]
    },
    {
     "cell_type": "code",
     "collapsed": false,
     "input": [
      "import math\n",
      "#variable declaration\n",
      "i=60.0#A\n",
      "n1=940.0#rpm\n",
      "t=150.0#N-m\n",
      "i2=300.0#A\n",
      "\n",
      "#calculations\n",
      "sf=(1000-n1)/1000\n",
      "tst=t*(i2/i)**2*sf\n",
      "s_i=i2/3\n",
      "sd_tst=tst/3\n",
      "\n",
      "#result\n",
      "print \"Starting torque=\",tst,\"N-m\"\n",
      "print\"when star/delta is used:\"\n",
      "print \"starting current=\",s_i,\"A\"\n",
      "print \"starting torque=\",sd_tst,\"N-m\""
     ],
     "language": "python",
     "metadata": {},
     "outputs": [
      {
       "output_type": "stream",
       "stream": "stdout",
       "text": [
        "Starting torque= 225.0 N-m\n",
        "when star/delta is used:\n",
        "starting current= 100.0 A\n",
        "starting torque= 75.0 N-m\n"
       ]
      }
     ],
     "prompt_number": 37
    },
    {
     "cell_type": "heading",
     "level": 2,
     "metadata": {},
     "source": [
      "Example Number 35.16, Page Number:1336"
     ]
    },
    {
     "cell_type": "code",
     "collapsed": false,
     "input": [
      "import math\n",
      "#variable declaration\n",
      "tapping=70.7\n",
      "ratio=6.0\n",
      "slip=4.0\n",
      "\n",
      "#calculation\n",
      "tst_tf=(1.0/3.0)*ratio**2.0*slip*0.01\n",
      "tst_tf2=(1.0/2)*ratio**2.0*slip*0.01\n",
      "\n",
      "#result\n",
      "print \"star-delta switch:starting torque=\",tst_tf*100,\"%\"\n",
      "print \"auto-transformer switch:starting torque=\",tst_tf2*100,\"%\""
     ],
     "language": "python",
     "metadata": {},
     "outputs": [
      {
       "output_type": "stream",
       "stream": "stdout",
       "text": [
        "star-delta switch:starting torque= 48.0 %\n",
        "auto-transformer switch:starting torque= 72.0 %\n"
       ]
      }
     ],
     "prompt_number": 48
    },
    {
     "cell_type": "heading",
     "level": 2,
     "metadata": {},
     "source": [
      "Example Number 35.17, Page Number:1337"
     ]
    },
    {
     "cell_type": "code",
     "collapsed": false,
     "input": [
      "import math\n",
      "#variable declaration\n",
      "load=11.2#W\n",
      "f=50.0#Hz\n",
      "v=400.0#V\n",
      "n=960.0#rpm\n",
      "i=86.4#A\n",
      "efficiency=0.88\n",
      "pf=0.85\n",
      "\n",
      "#calculations\n",
      "isc=i/math.sqrt(3)\n",
      "ist=isc/math.sqrt(3)\n",
      "il=load*1000/(efficiency*pf*math.sqrt(3)*v)\n",
      "iph=il/math.sqrt(3)\n",
      "tst_tf=(ist*math.sqrt(3)/il)**2*0.05\n",
      "\n",
      "#result\n",
      "print \"starting torque=\",tst_tf*100,\"%\""
     ],
     "language": "python",
     "metadata": {},
     "outputs": [
      {
       "output_type": "stream",
       "stream": "stdout",
       "text": [
        "starting torque= 26.6369577796 %\n"
       ]
      }
     ],
     "prompt_number": 49
    },
    {
     "cell_type": "heading",
     "level": 2,
     "metadata": {},
     "source": [
      "Example Number 35.18, Page Number:1337"
     ]
    },
    {
     "cell_type": "code",
     "collapsed": false,
     "input": [
      "import math\n",
      "#variable declaration\n",
      "output=10.0#kW\n",
      "v=400.0#V\n",
      "pf=0.85\n",
      "efficiency=0.88\n",
      "v2=200.0#V\n",
      "i=40.0#A\n",
      "\n",
      "#calculations\n",
      "il=load*1000/(efficiency*math.sqrt(3)*v*pf)\n",
      "isc=i*v/v2\n",
      "iscp=isc/math.sqrt(3)\n",
      "ist=iscp/math.sqrt(3)\n",
      "ratio=ist/il\n",
      "\n",
      "#result\n",
      "print \"ratio=\",ratio"
     ],
     "language": "python",
     "metadata": {},
     "outputs": [
      {
       "output_type": "stream",
       "stream": "stdout",
       "text": [
        "ratio= 1.23388000387\n"
       ]
      }
     ],
     "prompt_number": 53
    },
    {
     "cell_type": "heading",
     "level": 2,
     "metadata": {},
     "source": [
      "Example Number 35.19, Page Number:1337"
     ]
    },
    {
     "cell_type": "code",
     "collapsed": false,
     "input": [
      "#variable declaration\n",
      "load=3.73*1000#W\n",
      "v=400.0#V\n",
      "f=50.0#Hz\n",
      "slip=4.5\n",
      "t=250.0\n",
      "i=650.0\n",
      "tap=60.0\n",
      "\n",
      "#calculation\n",
      "il=i/3\n",
      "im=i/3\n",
      "tst=t/3\n",
      "ilm=(tap/100)**2*i\n",
      "imk=(tap/100)*i\n",
      "tstk=(tap/100)**2*t\n",
      "\n",
      "#result\n",
      "print \"star/delta:\"\n",
      "print \"line current=\",il,\"%\"\n",
      "print \"motor current=\",im,\"%\"\n",
      "print \"starting torque=\",tst,\"%\"\n",
      "print \"60% taps:\"\n",
      "print \"line current=\",ilm,\"%\"\n",
      "print \"motor current=\",imk,\"%\"\n",
      "print \"starting torque=\",tstk,\"%\""
     ],
     "language": "python",
     "metadata": {},
     "outputs": [
      {
       "output_type": "stream",
       "stream": "stdout",
       "text": [
        " star/delta:\n",
        "line current= 216.666666667 %\n",
        "motor current= 216.666666667 %\n",
        "starting torque= 83.3333333333 %\n",
        "60% taps:\n",
        "line current= 234.0 %\n",
        "motor current= 390.0 %\n",
        "starting torque= 90.0 %\n"
       ]
      }
     ],
     "prompt_number": 55
    },
    {
     "cell_type": "heading",
     "level": 2,
     "metadata": {},
     "source": [
      "Example Number 35.20, Page Number:1338"
     ]
    },
    {
     "cell_type": "code",
     "collapsed": false,
     "input": [
      "#variable declaration\n",
      "load=180.0\n",
      "flt=35.0\n",
      "tap=75.0\n",
      "\n",
      "#calculations\n",
      "isc=load*3.0/100\n",
      "isck=tap**2*isc/100\n",
      "sf=flt*3\n",
      "tst_tf=tap**2*sf/100\n",
      "#result\n",
      "print \"starting current=\",isck,\"%\"\n",
      "print \"starting torque=\",tst_tf/100,\"%\""
     ],
     "language": "python",
     "metadata": {},
     "outputs": [
      {
       "output_type": "stream",
       "stream": "stdout",
       "text": [
        "starting current= 303.75 %\n",
        "starting torque= 59.0625 %\n"
       ]
      }
     ],
     "prompt_number": 68
    },
    {
     "cell_type": "heading",
     "level": 2,
     "metadata": {},
     "source": [
      "Example Number 35.21, Page Number:1338"
     ]
    },
    {
     "cell_type": "code",
     "collapsed": false,
     "input": [
      "\n",
      "#variable declaration\n",
      "w=7.46#kW\n",
      "ic=1.7\n",
      "t=35.0\n",
      "ratio=60.0\n",
      "\n",
      "#calculations\n",
      "sf=t*3/100\n",
      "il1=ic*3\n",
      "tst=(ratio/1000)**2*sf*10000\n",
      "il2=(ratio/100)*3*ic\n",
      "\n",
      "#results\n",
      "print \"auto-starter:\"\n",
      "print \"line-current=\",il1,\"%\"\n",
      "print \"torque=\",tst,\"%\"\n",
      "print \"voltage decreased to 60%\"\n",
      "print \"line-current\",il2,\"%\"\n",
      "print \"torque=\",tst,\"%\""
     ],
     "language": "python",
     "metadata": {},
     "outputs": [
      {
       "output_type": "stream",
       "stream": "stdout",
       "text": [
        "auto-starter:\n",
        "line-current= 5.1 %\n",
        "torque= 37.8 %\n",
        "voltage decreased to 60%\n",
        "line-current 3.06 %\n",
        "torque= 37.8 %\n"
       ]
      }
     ],
     "prompt_number": 71
    },
    {
     "cell_type": "heading",
     "level": 2,
     "metadata": {},
     "source": [
      "Example Number 35.22, Page Number:1342"
     ]
    },
    {
     "cell_type": "code",
     "collapsed": false,
     "input": [
      "import math\n",
      "\n",
      "#variable declaration\n",
      "slip=2.0\n",
      "r=0.02#ohm\n",
      "n=6.0\n",
      "#calculations\n",
      "smax=r2=slip/100.0\n",
      "R1=r2/smax\n",
      "K=math.pow(smax,1.0/5)\n",
      "R2=K*R1\n",
      "R3=K*R2\n",
      "R4=K*R3\n",
      "R5=K*R4\n",
      "p1=R1-R2\n",
      "p2=R2-R3\n",
      "p3=R3-R4\n",
      "p4=R4-R5\n",
      "p5=R5-r2\n",
      "\n",
      "#result\n",
      "print \"resistances of various starter sections:\"\n",
      "print \"p1=\",p1,\"ohm\"\n",
      "print \"p2=\",p2,\"ohm\"\n",
      "print \"p3=\",p3,\"ohm\"\n",
      "print \"p4=\",p4,\"ohm\"\n",
      "print \"p5=\",p5,\"ohm\"\n",
      "\n"
     ],
     "language": "python",
     "metadata": {},
     "outputs": [
      {
       "output_type": "stream",
       "stream": "stdout",
       "text": [
        "resistances of various starter sections:\n",
        "p1= 0.542694948073 ohm\n",
        "p2= 0.248177141409 ohm\n",
        "p3= 0.113492660539 ohm\n",
        "p4= 0.0519007670213 ohm\n",
        "p5= 0.0237344829577 ohm\n"
       ]
      }
     ],
     "prompt_number": 107
    },
    {
     "cell_type": "heading",
     "level": 2,
     "metadata": {},
     "source": [
      "Example Number 35.23, Page Number:1345"
     ]
    },
    {
     "cell_type": "code",
     "collapsed": false,
     "input": [
      "import math\n",
      "#variable declaration\n",
      "primary=complex(1,3)\n",
      "outer=complex(3,1)\n",
      "inner=complex(0.6,5)\n",
      "s=4\n",
      "outer2=complex(3/(s*0.01),1)\n",
      "inner2=complex(0.6/(s*0.01),5)\n",
      "v=440#V\n",
      "\n",
      "\n",
      "#calculations\n",
      "#s=1\n",
      "z01=primary+1/((1/outer)+(1/inner))\n",
      "current_per_phase=v/abs(z01)\n",
      "torque=3*current_per_phase**2*(z01.real-1)\n",
      "\n",
      "print \"s=1: torque=\",torque,\"synch watt\"\n",
      "\n",
      "#s=4\n",
      "z01=primary+1/((1/outer2)+(1/inner2))\n",
      "current_per_phase=v/abs(z01)\n",
      "torque=3*current_per_phase**2*(z01.real-1)\n",
      "\n",
      "print \"s=4: torque=\",torque,\"synch watt\"\n",
      "\n"
     ],
     "language": "python",
     "metadata": {},
     "outputs": [
      {
       "output_type": "stream",
       "stream": "stdout",
       "text": [
        "s=1: torque= 35065.3642462 synch watt\n",
        "s=4: torque= 32129.9449695 synch watt\n"
       ]
      }
     ],
     "prompt_number": 11
    },
    {
     "cell_type": "heading",
     "level": 2,
     "metadata": {},
     "source": [
      "Example Number 35.24, Page Number:1346"
     ]
    },
    {
     "cell_type": "code",
     "collapsed": false,
     "input": [
      "import math\n",
      "#variable declaration\n",
      "inner=complex(0.4,2)\n",
      "outer=complex(2,0.4)\n",
      "s=5\n",
      "inner2=complex(0.4/(s*0.01),2)\n",
      "outer2=complex(2/(s*0.01),0.4)\n",
      "print \n",
      "#calculations\n",
      "#s=1\n",
      "zi=abs(inner)\n",
      "zo=abs(outer)\n",
      "r_ratio=inner.imag/outer.imag\n",
      "to_ti=r_ratio*(zo/zi)**2\n",
      "print \"Ratio of torques when s=1:\",to_ti\n",
      "\n",
      "#s=5\n",
      "zi=abs(inner2)\n",
      "zo=abs(outer2)\n",
      "print zi\n",
      "r_ratio=inner2.imag/outer2.imag\n",
      "to_ti=r_ratio*(zi/zo)**2\n",
      "\n",
      "print \"Ratio of torques when s=5:\",to_ti"
     ],
     "language": "python",
     "metadata": {},
     "outputs": [
      {
       "output_type": "stream",
       "stream": "stdout",
       "text": [
        "\n",
        "Ratio of torques when s=1: 5.0\n",
        "8.24621125124\n",
        "Ratio of torques when s=5: 0.212478752125\n"
       ]
      }
     ],
     "prompt_number": 37
    },
    {
     "cell_type": "heading",
     "level": 2,
     "metadata": {},
     "source": [
      "Example Number 35.25, Page Number:1346"
     ]
    },
    {
     "cell_type": "code",
     "collapsed": false,
     "input": [
      "import math\n",
      "#variable declaration\n",
      "s=5\n",
      "zi=complex(0.05,0.4)\n",
      "zo=complex(0.5,0.1)\n",
      "v=100#V\n",
      "\n",
      "#calculations\n",
      "#s=1\n",
      "z=zo*zi/(zo+zi)\n",
      "r2=z.real\n",
      "z=abs(z)\n",
      "i2=v/z\n",
      "t=i2**2*r2\n",
      "print \"s=1:torque=\",t,\"synch watts\"\n",
      "\n",
      "#s=0.01\n",
      "zi=complex(0.05/(s*0.01),0.4)\n",
      "zo=complex(0.5/(s*0.01),0.1)\n",
      "z=zo*zi/(zo+zi)\n",
      "r2=z.real\n",
      "z=abs(z)\n",
      "i2=v/z\n",
      "t=i2**2*r2\n",
      "print \"s=5:torque=\",t,\"synch watts\""
     ],
     "language": "python",
     "metadata": {},
     "outputs": [
      {
       "output_type": "stream",
       "stream": "stdout",
       "text": [
        "s=1:torque= 22307.6923077 synch watts\n",
        "s=5:torque= 9620.58966517 synch watts\n"
       ]
      }
     ],
     "prompt_number": 43
    },
    {
     "cell_type": "heading",
     "level": 2,
     "metadata": {},
     "source": [
      "Example Number 35.26, Page Number:1348"
     ]
    },
    {
     "cell_type": "code",
     "collapsed": false,
     "input": [
      "import math\n",
      "from sympy.solvers import solve\n",
      "from sympy import Symbol\n",
      "#variable declaration\n",
      "s=Symbol('s')\n",
      "z2=complex(2,1.2)\n",
      "z1=complex(0.5,3.5)\n",
      "#Z1=((2/s)^2+1.2^2)^0.5\n",
      "#Z2=((0.5/s)^2+3.5^2)^0.5\n",
      "#T1=T2\n",
      "ans=solve([(((2**2)/(s**2))+1.2**2)-((((0.5**2)/(s**2))+3.5**2)*4)],[s])\n",
      "print \"slip=\",round(ans[1][0]*100,1),\"%\""
     ],
     "language": "python",
     "metadata": {},
     "outputs": [
      {
       "output_type": "stream",
       "stream": "stdout",
       "text": [
        "slip= 25.1 %\n"
       ]
      }
     ],
     "prompt_number": 6
    },
    {
     "cell_type": "heading",
     "level": 2,
     "metadata": {},
     "source": [
      "Example Number 35.27, Page Number:1347"
     ]
    },
    {
     "cell_type": "code",
     "collapsed": false,
     "input": [
      "import math\n",
      "#variable declaration\n",
      "zo=complex(1,0)\n",
      "zi=complex(0.15,3)\n",
      "v=250#V\n",
      "n=1000#rpm\n",
      "\n",
      "#calculations\n",
      "z2=zo*zi/(zo+zi)\n",
      "stator=complex(0.25,3.5)\n",
      "z01=z2+stator\n",
      "i=complex(v,0)/z01\n",
      "i=abs(i)\n",
      "cu_loss=i**2*z01.real\n",
      "T=cu_loss*3/(2*math.pi*(n/60))\n",
      "#result\n",
      "print \"torque=\",T,\"N-m\""
     ],
     "language": "python",
     "metadata": {},
     "outputs": [
      {
       "output_type": "stream",
       "stream": "stdout",
       "text": [
        "torque= 135.560320318 N-m\n"
       ]
      }
     ],
     "prompt_number": 49
    },
    {
     "cell_type": "heading",
     "level": 2,
     "metadata": {},
     "source": [
      "Example Number 35.28, Page Number:1348"
     ]
    },
    {
     "cell_type": "code",
     "collapsed": false,
     "input": [
      "import math\n",
      "#variable declaration\n",
      "z1=complex(1,2.8)\n",
      "zo=complex(3,1)\n",
      "zi=complex(0.5,5)\n",
      "v=440#V\n",
      "s=0.04\n",
      "\n",
      "#calculations\n",
      "#s=1\n",
      "z2=zo*zi/(zo+zi)\n",
      "z01=z1+z2\n",
      "i2=v/z01\n",
      "r2=z2.real\n",
      "t=abs(i2)**2*r2\n",
      "\n",
      "print \"s=1:torque=\",t,\"synch. watt\"\n",
      "\n",
      "#s=0.04\n",
      "zo=complex(3.0/s,1.0)\n",
      "zi=complex(0.5/s,5.0)\n",
      "z2=zo*zi/(zo+zi)\n",
      "z01=z1+z2\n",
      "i2=v/z01\n",
      "r2=z2.real\n",
      "t=abs(i2)**2*r2\n",
      "print \"s=4:torque=\",t,\"synch. watt\""
     ],
     "language": "python",
     "metadata": {},
     "outputs": [
      {
       "output_type": "stream",
       "stream": "stdout",
       "text": [
        "s=1:torque= 12388.3258184 synch. watt\n",
        "s=4:torque= 11489.1141244 synch. watt\n"
       ]
      }
     ],
     "prompt_number": 58
    },
    {
     "cell_type": "heading",
     "level": 2,
     "metadata": {},
     "source": [
      "Example Number 35.29, Page Number:1351"
     ]
    },
    {
     "cell_type": "code",
     "collapsed": false,
     "input": [
      "#variable declaration\n",
      "f=50.0#Hz\n",
      "r=0.30#ohm\n",
      "n1=1440.0#rpm\n",
      "n2=1320.0#rpm\n",
      "ns=120.0*f/4.0\n",
      "#calculations\n",
      "s1=(ns-n1)/ns\n",
      "s2=(ns-n2)/ns\n",
      "r=s2*r/s1-r\n",
      "\n",
      "#result\n",
      "print \"external resistance=\",r,\"ohm\""
     ],
     "language": "python",
     "metadata": {},
     "outputs": [
      {
       "output_type": "stream",
       "stream": "stdout",
       "text": [
        "external resistance= 0.6 ohm\n"
       ]
      }
     ],
     "prompt_number": 60
    },
    {
     "cell_type": "heading",
     "level": 2,
     "metadata": {},
     "source": [
      "Example Number 35.30, Page Number:1348"
     ]
    },
    {
     "cell_type": "code",
     "collapsed": false,
     "input": [
      "#variable declaration\n",
      "f=50.0#Hz\n",
      "s=0.03\n",
      "ratio=10.0\n",
      "r=0.2\n",
      "\n",
      "#calculations\n",
      "ns=120*f/6\n",
      "s1=s\n",
      "n1=ns*(1-s1)\n",
      "n2=n1-10*n1/100\n",
      "s2=(ns-n2)/ns\n",
      "r=s2*r/s1-r\n",
      "\n",
      "#result\n",
      "print \"external resistance=\",r,\"ohm\""
     ],
     "language": "python",
     "metadata": {},
     "outputs": [
      {
       "output_type": "stream",
       "stream": "stdout",
       "text": [
        "external resistance= 0.646666666667 ohm\n"
       ]
      }
     ],
     "prompt_number": 61
    },
    {
     "cell_type": "heading",
     "level": 2,
     "metadata": {},
     "source": [
      "Example Number 35.31, Page Number:1354"
     ]
    },
    {
     "cell_type": "code",
     "collapsed": false,
     "input": [
      "#Variable declaration\n",
      "f=50#Hz\n",
      "s=0.02\n",
      "\n",
      "#calculations\n",
      "nsc=120*f/10\n",
      "n=(1-s)*nsc\n",
      "nsa=120*f/6\n",
      "sa=(nsa-n)/nsa\n",
      "f_=sa*f\n",
      "n_=(120*f_)/4\n",
      "sb=(n_-n)/n_\n",
      "f__=sb*f_\n",
      "\n",
      "#resu;t\n",
      "print \"f_=\",f_,\"Hz\"\n",
      "print \"f_ _=\",f__,\"Hz\""
     ],
     "language": "python",
     "metadata": {},
     "outputs": [
      {
       "output_type": "stream",
       "stream": "stdout",
       "text": [
        "f_= 20.6 Hz\n",
        "f_ _= 1.0 Hz\n"
       ]
      }
     ],
     "prompt_number": 69
    },
    {
     "cell_type": "heading",
     "level": 2,
     "metadata": {},
     "source": [
      "Example Number 35.32, Page Number:1354"
     ]
    },
    {
     "cell_type": "code",
     "collapsed": false,
     "input": [
      "#variable declaration\n",
      "f=50.0#Hz\n",
      "f2=1.0#Hz\n",
      "\n",
      "#calculations\n",
      "nsc=120*f/10\n",
      "s=f2/f\n",
      "n=nsc-s*nsc\n",
      "nsa=120*f/4\n",
      "sa=(nsa-n)/nsa\n",
      "f1=sa*f\n",
      "n2=120*f1/6\n",
      "sb=(n2-n)/n2\n",
      "\n",
      "#result\n",
      "print \"sa=\",sa*100,\"%\"\n",
      "print \"sb=\",sb*100,\"%\""
     ],
     "language": "python",
     "metadata": {},
     "outputs": [
      {
       "output_type": "stream",
       "stream": "stdout",
       "text": [
        "sa= 60.8 %\n",
        "sb= 3.28947368421 %\n"
       ]
      }
     ],
     "prompt_number": 75
    },
    {
     "cell_type": "heading",
     "level": 2,
     "metadata": {},
     "source": [
      "Example Number 35.33, Page Number:1354"
     ]
    },
    {
     "cell_type": "code",
     "collapsed": false,
     "input": [
      "#variable declaration\n",
      "f=50#Hz\n",
      "load=74.6#kW\n",
      "\n",
      "#calculations\n",
      "nsc=120*f/10\n",
      "output=load*4/10\n",
      "\n",
      "#result\n",
      "print \"speed of set=\",nsc,\"rpm\"\n",
      "print \"electric power transferred=\",output,\"kW\""
     ],
     "language": "python",
     "metadata": {},
     "outputs": [
      {
       "output_type": "stream",
       "stream": "stdout",
       "text": [
        "speed of set= 600 rpm\n",
        "electric power transferred= 29.84 kW\n"
       ]
      }
     ],
     "prompt_number": 79
    },
    {
     "cell_type": "heading",
     "level": 2,
     "metadata": {},
     "source": [
      "Example Number 35.34, Page Number:1355"
     ]
    },
    {
     "cell_type": "code",
     "collapsed": false,
     "input": [
      "#variable declaration\n",
      "f=50#Hz\n",
      "load=25#kW\n",
      "\n",
      "#calculations\n",
      "nsc=120*f/10\n",
      "output=load*4/10\n",
      "\n",
      "#result\n",
      "print \"speed of set=\",nsc,\"rpm\"\n",
      "print \"electric power transferred=\",output,\"kW\""
     ],
     "language": "python",
     "metadata": {},
     "outputs": [
      {
       "output_type": "stream",
       "stream": "stdout",
       "text": [
        "speed of set= 600 rpm\n",
        "electric power transferred= 10 kW\n"
       ]
      }
     ],
     "prompt_number": 78
    },
    {
     "cell_type": "code",
     "collapsed": false,
     "input": [],
     "language": "python",
     "metadata": {},
     "outputs": []
    }
   ],
   "metadata": {}
  }
 ]
}