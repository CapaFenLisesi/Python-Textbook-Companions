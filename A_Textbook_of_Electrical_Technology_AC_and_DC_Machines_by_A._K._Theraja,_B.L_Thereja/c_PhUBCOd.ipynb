{
 "metadata": {
  "name": "",
  "signature": "sha256:c262c33cbbcf1d1756b9358f8cf1d8ed92f53825858905e2598fd8e15870c7ca"
 },
 "nbformat": 3,
 "nbformat_minor": 0,
 "worksheets": [
  {
   "cells": [
    {
     "cell_type": "heading",
     "level": 1,
     "metadata": {},
     "source": [
      "Chapter 39: Special Machines"
     ]
    },
    {
     "cell_type": "heading",
     "level": 2,
     "metadata": {},
     "source": [
      "Example Number 39.1, Page Number:1537"
     ]
    },
    {
     "cell_type": "code",
     "collapsed": false,
     "input": [
      "#variable description\n",
      "p=8.0 #number of poles\n",
      "tp=5.0 #number of teeth for each pole\n",
      "nr=50.0 #number of rotor teeth\n",
      "\n",
      "#calculation\n",
      "ns=p*tp #number of stator teeth\n",
      "B=((nr-ns)*360)/(nr*ns) #stepping angle\n",
      "\n",
      "#result\n",
      "print \"stepping angle is \",B,\"degrees\"\n"
     ],
     "language": "python",
     "metadata": {},
     "outputs": [
      {
       "output_type": "stream",
       "stream": "stdout",
       "text": [
        "stepping angle is  1.8 degrees\n"
       ]
      }
     ],
     "prompt_number": 10
    },
    {
     "cell_type": "heading",
     "level": 2,
     "metadata": {},
     "source": [
      "Example Number 39.2, Page Number:1537"
     ]
    },
    {
     "cell_type": "code",
     "collapsed": false,
     "input": [
      "#variable declaration\n",
      "B=2.5\n",
      "rn=25\n",
      "f=3600\n",
      "\n",
      "#calculation\n",
      "r=360/B\n",
      "s=r*rn\n",
      "n=(B*f)/360\n",
      "\n",
      "#result\n",
      "print \"Resolution =\",int(r),\"steps/revolution\"\n",
      "print \" Number of steps required for the shaft to make 25 revolutions =\",int(s)\n",
      "print \" Shaft speed\", int(n),\"rps\"\n"
     ],
     "language": "python",
     "metadata": {},
     "outputs": [
      {
       "output_type": "stream",
       "stream": "stdout",
       "text": [
        " Resolution = 144 steps/revolution\n",
        "Number of steps required for the shaft to make 25 revolutions = 3600\n",
        "Shaft speed 25 rps\n"
       ]
      }
     ],
     "prompt_number": 14
    },
    {
     "cell_type": "heading",
     "level": 2,
     "metadata": {},
     "source": [
      "Example Number 39.3, Page Number:1544"
     ]
    },
    {
     "cell_type": "code",
     "collapsed": false,
     "input": [
      "#variable declaration\n",
      "B=15 #stepping angle\n",
      "pn=3 #number of phases\n",
      "nr=360/(pn*B) #number of rotor teeth\n",
      "\n",
      "#number of stator teeth\n",
      "ns1=((360*nr)/(360-(nr*B))) #ns>nr\n",
      "ns2=((360*nr)/(360+(nr*B))) #nr>ns\n",
      "\n",
      "#result\n",
      "print \"When ns>nr: ns= \",ns1\n",
      "print \"When nr>ns: ns= \",ns2"
     ],
     "language": "python",
     "metadata": {},
     "outputs": [
      {
       "output_type": "stream",
       "stream": "stdout",
       "text": [
        "When ns>nr: ns=  12\n",
        "When nr>ns: ns=  6\n"
       ]
      }
     ],
     "prompt_number": 40
    },
    {
     "cell_type": "heading",
     "level": 2,
     "metadata": {},
     "source": [
      "Example Number 39.4, Page Number:1545"
     ]
    },
    {
     "cell_type": "code",
     "collapsed": false,
     "input": [
      "#variable declaration\n",
      "B=1.8\n",
      "pn=4\n",
      "\n",
      "#calculation\n",
      "nr=360/(pn*B) #number of rotor teeth\n",
      "ns=nr\n",
      "\n",
      "#result\n",
      "print \"Number of rotor teeth = \",int(nr)\n",
      "print \"Number of statot teeth = \",int(ns)"
     ],
     "language": "python",
     "metadata": {},
     "outputs": [
      {
       "output_type": "stream",
       "stream": "stdout",
       "text": [
        "Number of rotor teeth =  50.0\n",
        "Number of statot teeth =  50.0\n"
       ]
      }
     ],
     "prompt_number": 18
    },
    {
     "cell_type": "heading",
     "level": 2,
     "metadata": {},
     "source": [
      "Example Number 39.5, Page Number:1555"
     ]
    },
    {
     "cell_type": "code",
     "collapsed": false,
     "input": [
      "import math\n",
      "\n",
      "#variable declaration\n",
      "er=20\n",
      "\n",
      "#calculation\n",
      "a=40\n",
      "e2=er*math.cos(math.radians(a))\n",
      "e1=er*math.cos(math.radians(a-120))\n",
      "e3=er*math.cos(math.radians(a+120))\n",
      "\n",
      "#result\n",
      "print \"a) For a=40 degrees\"\n",
      "print \"   e2s=\" ,e2,\"V\"\n",
      "print \"   e1s=\" ,e1,\"V\"\n",
      "print \"   e3s=\" ,e3,\"V\"\n",
      "\n",
      "#calculation\n",
      "a=(-40)\n",
      "e2=er*math.cos(math.radians(a))\n",
      "e1=er*math.cos(math.radians(a-120))\n",
      "e3=er*math.cos(math.radians(a+120))\n",
      "\n",
      "#result\n",
      "print \"b) For a=-40 degrees\"\n",
      "print \"   e2s=\" ,e2,\"V\"\n",
      "print \"   e1s=\" ,e1,\"V\"\n",
      "print \"   e3s=\" ,e3,\"V\"\n",
      "\n",
      "#calculation\n",
      "a=30\n",
      "e12=math.sqrt(3)*er*math.cos(math.radians(a-150))\n",
      "e23=math.sqrt(3)*er*math.cos(math.radians(a-30))\n",
      "e31=math.sqrt(3)*er*math.cos(math.radians(a+90))\n",
      "\n",
      "#result\n",
      "print \"c) For a=30 degrees\"\n",
      "print \"   e12=\" ,e12,\"V\"\n",
      "print \"   e23=\" ,e23,\"V\"\n",
      "print \"   e31=\" ,e31,\"V\""
     ],
     "language": "python",
     "metadata": {},
     "outputs": [
      {
       "output_type": "stream",
       "stream": "stdout",
       "text": [
        "a) For a=40 degrees\n",
        "   e2s= 15.3208888624 V\n",
        "   e1s= 3.47296355334 V\n",
        "   e3s= -18.7938524157 V\n",
        "b) For a=-40 degrees\n",
        "   e2s= 15.3208888624 V\n",
        "   e1s= -18.7938524157 V\n",
        "   e3s= 3.47296355334 V\n",
        "c) For a=30 degrees\n",
        "   e12= -17.3205080757 V\n",
        "   e23= 34.6410161514 V\n",
        "   e31= -17.3205080757 V\n"
       ]
      }
     ],
     "prompt_number": 41
    }
   ],
   "metadata": {}
  }
 ]
}