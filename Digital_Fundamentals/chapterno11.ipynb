{
 "metadata": {
  "name": "",
  "signature": "sha256:c5ab44aeefcd14a70c068db0add65ea39fa6bef29922dd16383e688b74325b23"
 },
 "nbformat": 3,
 "nbformat_minor": 0,
 "worksheets": [
  {
   "cells": [
    {
     "cell_type": "heading",
     "level": 1,
     "metadata": {},
     "source": [
      "Chapter No 11:Integrated Circuit Technologies"
     ]
    },
    {
     "cell_type": "heading",
     "level": 2,
     "metadata": {},
     "source": [
      "Example NO:11-1, Page NO:456"
     ]
    },
    {
     "cell_type": "code",
     "collapsed": false,
     "input": [
      "print'The propogation delay times,tphl and tlph,are indicated in part (B) of the figure.In this case,the delays are measured between the 50% points of the corresponding edges of the input and output pulses.The values of tphl and tplh are not necessarily equal but in many cases they are the same.'"
     ],
     "language": "python",
     "metadata": {},
     "outputs": [
      {
       "output_type": "stream",
       "stream": "stdout",
       "text": [
        "The propogation delay times,tphl and tlph,are indicated in part (B) of the figure.In this case,the delays are measured between the 50% points of the corresponding edges of the input and output pulses.The values of tphl and tplh are not necessarily equal but in many cases they are the same.\n"
       ]
      }
     ],
     "prompt_number": 1
    },
    {
     "cell_type": "heading",
     "level": 2,
     "metadata": {},
     "source": [
      "Example NO:11-2, Page NO:457"
     ]
    },
    {
     "cell_type": "code",
     "collapsed": false,
     "input": [
      "#variable:\n",
      "V=5             #Vcc\n",
      "I=1*10**-3      #Icch\n",
      "K=2.5*10**-3    #Iccl\n",
      "\n",
      "#Equation:\n",
      "P=V*(I+K)/2\n",
      "S=5*10**-9*P\n",
      "\n",
      "#Solutions:\n",
      "print\"Pd=\",P,\"W\"\n",
      "print\"SPP=\",S,\"J\""
     ],
     "language": "python",
     "metadata": {},
     "outputs": [
      {
       "output_type": "stream",
       "stream": "stdout",
       "text": [
        "Pd= 0.00875 W\n",
        "SPP= 4.375e-11 J\n"
       ]
      }
     ],
     "prompt_number": 19
    },
    {
     "cell_type": "heading",
     "level": 2,
     "metadata": {},
     "source": [
      "Example NO:11-3, Page NO:465"
     ]
    },
    {
     "cell_type": "code",
     "collapsed": false,
     "input": [
      "print'(a) For 5V CMOS:'\n",
      "#variable declaration\n",
      "Vih=3.5\n",
      "Vil=1.5\n",
      "Voh=4.4\n",
      "Vol=0.33\n",
      "\n",
      "#Formula\n",
      "Vnh=Voh-Vih\n",
      "Vnl=Vil-Vol\n",
      "\n",
      "\n",
      "#Solutions:\n",
      "print'Vnh=',Vnh,'V'\n",
      "print'Vnl=',Vnl,'V'"
     ],
     "language": "python",
     "metadata": {},
     "outputs": [
      {
       "output_type": "stream",
       "stream": "stdout",
       "text": [
        "(a) For 5V CMOS:\n",
        "Vnh= 0.9 V\n",
        "Vnl= 1.17 V\n"
       ]
      }
     ],
     "prompt_number": 22
    },
    {
     "cell_type": "code",
     "collapsed": false,
     "input": [
      "print'(b) For TTL:'\n",
      "#variable declaration\n",
      "Vih=2\n",
      "Vil=0.8\n",
      "Voh=2.4\n",
      "Vol=0.4\n",
      "\n",
      "#Formula\n",
      "Vnh=Voh-Vih\n",
      "Vnl=Vil-Vol\n",
      "\n",
      "\n",
      "#Solutions:\n",
      "print'Vnh=',Vnh,'V'\n",
      "print'Vnl=',Vnl,'V'"
     ],
     "language": "python",
     "metadata": {},
     "outputs": [
      {
       "output_type": "stream",
       "stream": "stdout",
       "text": [
        "(b) For TTL:\n",
        "Vnh= 0.4 V\n",
        "Vnl= 0.4 V\n"
       ]
      }
     ],
     "prompt_number": 23
    },
    {
     "cell_type": "heading",
     "level": 2,
     "metadata": {},
     "source": [
      "Example NO:11-4,Page NO:516"
     ]
    },
    {
     "cell_type": "code",
     "collapsed": false,
     "input": [
      "#variable declaration\n",
      "Vcc=5\n",
      "Icch=2*10**-6\n",
      "Iccl=3.6*10**-6\n",
      "\n",
      "#Formula\n",
      "Icc=(Icch+Iccl)/2\n",
      "Pd=Vcc*Icc\n",
      "\n",
      "\n",
      "#Solutions:\n",
      "print'Average Icc=',Icc,'A'\n",
      "print'Average Power dissipation Pd=',Pd,'W'"
     ],
     "language": "python",
     "metadata": {},
     "outputs": [
      {
       "output_type": "stream",
       "stream": "stdout",
       "text": [
        "Average Icc= 2.8e-06 A\n",
        "Average Power dissipation Pd= 1.4e-05 W\n"
       ]
      }
     ],
     "prompt_number": 25
    },
    {
     "cell_type": "heading",
     "level": 2,
     "metadata": {},
     "source": [
      "Example NO:11-5, Page NO:481"
     ]
    },
    {
     "cell_type": "code",
     "collapsed": false,
     "input": [
      "print'Total source current(in HIGH output state):'\n",
      "print'Iih(max)=40*10**-6 A per input.'\n",
      "print'It(source)=5inputs*40*10**-6/input= 200*10**-6 A'\n",
      "print'Total source current(in LOW output state):'\n",
      "print'Iil(max)=-1.6*10**-6 A per input.'\n",
      "print'It(source)=5inputs*-1.6*10**-6/input=-8*10**-6 A'\n"
     ],
     "language": "python",
     "metadata": {},
     "outputs": [
      {
       "output_type": "stream",
       "stream": "stdout",
       "text": [
        "Total source current(in HIGH output state):\n",
        "Iih(max)=40*10**-6 A per input.\n",
        "It(source)=5inputs*40*10**-6/input= 200*10**-6 A\n",
        "Total source current(in LOW output state):\n",
        "Iil(max)=-1.6*10**-6 A per input.\n",
        "It(source)=5inputs*-1.6*10**-6/input=-8*10**-6 A\n"
       ]
      }
     ],
     "prompt_number": 29
    },
    {
     "cell_type": "heading",
     "level": 2,
     "metadata": {},
     "source": [
      "Example NO:11-6,Page NO:481"
     ]
    },
    {
     "cell_type": "code",
     "collapsed": false,
     "input": [
      "print'According to Datasheet, the current parameters are as follows:'\n",
      "\n",
      "#Variable Declaration\n",
      "Iih=40*10**-6\n",
      "Ioh=400*10**-6\n",
      "Iil=1.6*10**-3\n",
      "Iol=16*10**-3\n",
      "\n",
      "#Formula:\n",
      "HF=Ioh/Iih\n",
      "LW=Iol/Iil\n",
      "\n",
      "#Solutions:\n",
      "print'Fan-out for the HIGH output state is calculated as follows:Current Ioh(max) is the maximum current that the gate can source to a load..Each load input requires an Iih(max) of 40*10**-6 A.The HIGH-state fan-out is',HF,\n",
      "print'\\nFor the LOW output state, fan-out is calculated as follows:Iol(max) is the maximum current that the gate can sink.Each load input produces an Iil(max) of -1.6*10**-3 A.The LOW-state fan-out is:',LW,"
     ],
     "language": "python",
     "metadata": {},
     "outputs": [
      {
       "output_type": "stream",
       "stream": "stdout",
       "text": [
        " According to Datasheet, the current parameters are as follows:\n",
        "Fan-out for the HIGH output state is calculated as follows:Current Ioh(max) is the maximum current that the gate can source to a load..Each load input requires an Iih(max) of 40*10**-6 A.The HIGH-state fan-out is 10.0 \n",
        "For the LOW output state, fan-out is calculated as follows:Iol(max) is the maximum current that the gate can sink.Each load input produces an Iil(max) of -1.6*10**-3 A.The LOW-state fan-out is: 10.0\n"
       ]
      }
     ],
     "prompt_number": 34
    },
    {
     "cell_type": "heading",
     "level": 2,
     "metadata": {},
     "source": [
      "Example NO:11-7, Page NO:483"
     ]
    },
    {
     "cell_type": "code",
     "collapsed": false,
     "input": [
      "print'The ouput expression is :'\n",
      "print'X=ABCDEFGH'\n",
      "print'The wired-AND connection of the four 2-input AND gates creates an 8-input AND gate.'"
     ],
     "language": "python",
     "metadata": {},
     "outputs": [
      {
       "output_type": "stream",
       "stream": "stdout",
       "text": [
        "The ouput expression is :\n",
        "X=ABCDEFGH\n",
        "The wired-AND connection of the four 2-input AND gates creates an 8-input AND gate.\n"
       ]
      }
     ],
     "prompt_number": 35
    },
    {
     "cell_type": "heading",
     "level": 2,
     "metadata": {},
     "source": [
      "Example NO:11-8, Page NO:483"
     ]
    },
    {
     "cell_type": "code",
     "collapsed": false,
     "input": [
      "print'(a)X=ABCDEFGH'\n",
      "print'(b) 4(1.6)mA=6.4mA'\n",
      "\n",
      "print'Irp=Iol(max)-6.4*10*10**-3=23.6*10**-3 A'\n",
      "print'Rp=(Vcc-Vol(max)/Irp)= 195 ohm'"
     ],
     "language": "python",
     "metadata": {},
     "outputs": [
      {
       "output_type": "stream",
       "stream": "stdout",
       "text": [
        "(a)X=ABCDEFGH\n",
        "(b) 4(1.6)mA=6.4mA\n",
        "Irp=Iol(max)-6.4*10*10**-3=23.6*10**-3 A\n",
        "Rp=(Vcc-Vol(max)/Irp)= 195 ohm\n"
       ]
      }
     ],
     "prompt_number": 36
    },
    {
     "cell_type": "heading",
     "level": 2,
     "metadata": {},
     "source": [
      "Example NO:11-9, Page NO:485"
     ]
    },
    {
     "cell_type": "code",
     "collapsed": false,
     "input": [
      "print'Vrl=3.4V'\n",
      "print'Rl=Vrl/I=170 ohm'"
     ],
     "language": "python",
     "metadata": {},
     "outputs": [
      {
       "output_type": "stream",
       "stream": "stdout",
       "text": [
        "Vrl=3.4V\n",
        "Rl=Vrl/I=170 ohm\n"
       ]
      }
     ],
     "prompt_number": 37
    },
    {
     "cell_type": "code",
     "collapsed": false,
     "input": [],
     "language": "python",
     "metadata": {},
     "outputs": []
    }
   ],
   "metadata": {}
  }
 ]
}