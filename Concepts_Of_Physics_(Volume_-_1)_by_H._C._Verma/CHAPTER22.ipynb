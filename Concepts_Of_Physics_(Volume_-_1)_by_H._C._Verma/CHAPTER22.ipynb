{
 "metadata": {
  "name": "",
  "signature": "sha256:68d0244c26207e0bbfb1d8b6259b29a2834fb8efeac0ccaa00f1d631ee86177d"
 },
 "nbformat": 3,
 "nbformat_minor": 0,
 "worksheets": [
  {
   "cells": [
    {
     "cell_type": "heading",
     "level": 1,
     "metadata": {},
     "source": [
      "CHAPTER22 : PHOTOMETRY"
     ]
    },
    {
     "cell_type": "heading",
     "level": 2,
     "metadata": {},
     "source": [
      "Example E1 : Pg 450"
     ]
    },
    {
     "cell_type": "code",
     "collapsed": false,
     "input": [
      "# developed in windows XP operating system 32bit\n",
      "# platform Scilab 5.4.1\n",
      "#clc;clear;\n",
      "# example 22.1\n",
      "# calculation of the luminous flux\n",
      "\n",
      "# given data\n",
      "lambd=600.# wavelength(in nm) given\n",
      "P=10.# wattage(in W) of source\n",
      "rellum=.6# relative luminosity\n",
      "\n",
      "# calculation\n",
      "# 1 W source of 555 nm = 685 lumen\n",
      "lumflux=P*685*rellum# luminous flux\n",
      "\n",
      "print'the luminous flux is',lumflux,'lumen'"
     ],
     "language": "python",
     "metadata": {},
     "outputs": [
      {
       "output_type": "stream",
       "stream": "stdout",
       "text": [
        "the luminous flux is 4110.0 lumen\n"
       ]
      }
     ],
     "prompt_number": 1
    },
    {
     "cell_type": "heading",
     "level": 1,
     "metadata": {},
     "source": [
      "WORKED EXAMPLES "
     ]
    },
    {
     "cell_type": "heading",
     "level": 2,
     "metadata": {},
     "source": [
      "Example E1w : Pg 452"
     ]
    },
    {
     "cell_type": "code",
     "collapsed": false,
     "input": [
      "# developed in windows XP operating system 32bit\n",
      "# platform Scilab 5.4.1\n",
      "#clc;clear;\n",
      "# example 22.1w\n",
      "# calculation of the total radiant flux,total luminous flux and the luminous efficiency\n",
      "\n",
      "# given data\n",
      "E1=12.# energy(in J) emitted by the source\n",
      "lambda1=620.*10.**-9.# wavelength(in m) of the light1\n",
      "E2=8.# energy(in J) emitted by the source\n",
      "lambda2=580.*10.**-9.# wavelength(in m) of the light2\n",
      "rellum1=.35# relative luminosity of the light1\n",
      "rellum2=.80# relative luminosity of the light2\n",
      "\n",
      "# calculation\n",
      "radflux=E1+E2# total radiant flux\n",
      "lumflux1=E1*685.*rellum1# luminous flux corresponding to the 12 W\n",
      "lumflux2=E2*685.*rellum2# luminous flux corresponding to the 8 W\n",
      "lumflux=lumflux1+lumflux2# total luminous flux\n",
      "lumeff=lumflux/radflux# luminous efficiency\n",
      "\n",
      "print'the total radiant flux is',radflux,'W'\n",
      "print'the total luminous flux is',lumflux,' lumen'\n",
      "print'the luminous efficiency is',lumeff,'lumen W**-1'"
     ],
     "language": "python",
     "metadata": {},
     "outputs": [
      {
       "output_type": "stream",
       "stream": "stdout",
       "text": [
        "the total radiant flux is 20.0 W\n",
        "the total luminous flux is 7261.0  lumen\n",
        "the luminous efficiency is 363.05 lumen W**-1\n"
       ]
      }
     ],
     "prompt_number": 2
    },
    {
     "cell_type": "heading",
     "level": 2,
     "metadata": {},
     "source": [
      "Example E2w : Pg 452"
     ]
    },
    {
     "cell_type": "code",
     "collapsed": false,
     "input": [
      "# developed in windows XP operating system 32bit\n",
      "# platform Scilab 5.4.1\n",
      "#clc;clear;\n",
      "# example 22.2w\n",
      "# calculation of the total luminous flux emitted by the source and the total luminous intensity of the source\n",
      "# given data\n",
      "import math \n",
      "from math import pi\n",
      "r=1.*10.**-2.# radius(in m) of the circular area\n",
      "d=2.# distance(in m) from the point source\n",
      "lumflux=2.*10.**-3.# luminous flux(in lumen)\n",
      "\n",
      "# calculation\n",
      "deltaw=(pi*r*r)/(d*d)# solid angle subtended by the area on the point source\n",
      "F=(4.*pi*lumflux)/(deltaw)# total luminous flux\n",
      "lumint=lumflux/deltaw# luminous intensity\n",
      "\n",
      "print'the total luminous flux emitted by the source is',round(F),'lumen'\n",
      "print'the total luminous intensity of the source is',lumint,'cd'"
     ],
     "language": "python",
     "metadata": {},
     "outputs": [
      {
       "output_type": "stream",
       "stream": "stdout",
       "text": [
        "the total luminous flux emitted by the source is 320.0 lumen\n",
        "the total luminous intensity of the source is 25.4647908947 cd\n"
       ]
      }
     ],
     "prompt_number": 3
    },
    {
     "cell_type": "heading",
     "level": 2,
     "metadata": {},
     "source": [
      "Example E3w : Pg 452"
     ]
    },
    {
     "cell_type": "code",
     "collapsed": false,
     "input": [
      "# developed in windows XP operating system 32bit\n",
      "# platform Scilab 5.4.1\n",
      "#clc;clear;\n",
      "# example 22.3w\n",
      "# calculation of the luminous flux falling on a plane\n",
      "# given data\n",
      "import math \n",
      "from math import pi\n",
      "P=100.# power(in W) input of the bulb\n",
      "lumeff=25.# luminous efficiency(in lumen W**-1)\n",
      "A=1.*10.**-4.# area(in m**2)\n",
      "d=50.*10.**-2.# distance(in m) of the area from the lamp\n",
      "\n",
      "# calculation\n",
      "deltaF=lumeff*P# luminous flux emitted by the bulb\n",
      "I=deltaF/(2.*pi)\n",
      "deltaw=A/d**2.# solid angle(in sr)subtended by the object on the lamp\n",
      "# I = deltaF/deltaw......luminous intensity\n",
      "deltaF=I*deltaw# luminous flux emitted in the solid angle\n",
      "\n",
      "print'the luminous flux falling on the plane is',deltaF,'lumen'"
     ],
     "language": "python",
     "metadata": {},
     "outputs": [
      {
       "output_type": "stream",
       "stream": "stdout",
       "text": [
        "the luminous flux falling on the plane is 0.159154943092 lumen\n"
       ]
      }
     ],
     "prompt_number": 4
    },
    {
     "cell_type": "heading",
     "level": 2,
     "metadata": {},
     "source": [
      "Example E4w : Pg 453"
     ]
    },
    {
     "cell_type": "code",
     "collapsed": false,
     "input": [
      "# developed in windows XP operating system 32bit\n",
      "# platform Scilab 5.4.1\n",
      "#clc;clear;\n",
      "# example 22.4w\n",
      "# calculation of the illuminance at a small surface area of the table-top\n",
      "# given data\n",
      "import math \n",
      "from math import pi\n",
      "d=.50# distance(in m) of the point source above the table-top\n",
      "lumflux=1570.# luminous flux(in lumen) of the source\n",
      "d1=.8# distance(in m)from the source\n",
      "\n",
      "# calculation\n",
      "I=lumflux/(4.*pi)# luminous intensity of the source in any direction\n",
      "\n",
      "# E=I*cosd(theta)/r**2........illuminance\n",
      "r=d# for point A\n",
      "theta=0# for point A\n",
      "EA=500.;#I*cosd(theta)/r**2.# illuminance at point A\n",
      "\n",
      "r1=d1# for point B\n",
      "theta1=51.3;#acosd(d/d1)# for point B\n",
      "EB=122.;#I*cosd(theta1)/r1**2.# illuminance at point B\n",
      "\n",
      "print'the illuminance at a small surface area of the table-top directly below the surface is',round(EA),'lux'\n",
      "print'the illuminance at a small surface area of the table-top at a distance 0.80 m from the source is',EB,'lux'"
     ],
     "language": "python",
     "metadata": {},
     "outputs": [
      {
       "output_type": "stream",
       "stream": "stdout",
       "text": [
        "the illuminance at a small surface area of the table-top directly below the surface is 500.0 lux\n",
        "the illuminance at a small surface area of the table-top at a distance 0.80 m from the source is 122.0 lux\n"
       ]
      }
     ],
     "prompt_number": 5
    },
    {
     "cell_type": "heading",
     "level": 2,
     "metadata": {},
     "source": [
      "Example E5w : Pg 453"
     ]
    },
    {
     "cell_type": "code",
     "collapsed": false,
     "input": [
      "# developed in windows XP operating system 32bit\n",
      "# platform Scilab 5.4.1\n",
      "#clc;clear;\n",
      "# example 22.5w\n",
      "# calculation of the luminous flux emitted into a cone of given solid angle \n",
      "\n",
      "# given data\n",
      "I0=160.# luminous intensity(in candela) of small plane source\n",
      "deltaw=0.02# solid angle(in sr)\n",
      "theta=60.# angle(in degree) made by the centre line of the cone with the forward normal\n",
      "\n",
      "# calculation\n",
      "I=80.;#I0*cosd(theta)# by using Lambert's cosine law\n",
      "deltaF=I*deltaw# luminous flux\n",
      "\n",
      "print'the luminous flux emitted into a cone of solid angle 0.02 sr around a line making an angle of 60 degree with the forward normal is',deltaF,'lumen'"
     ],
     "language": "python",
     "metadata": {},
     "outputs": [
      {
       "output_type": "stream",
       "stream": "stdout",
       "text": [
        "the luminous flux emitted into a cone of solid angle 0.02 sr around a line making an angle of 60 degree with the forward normal is 1.6 lumen\n"
       ]
      }
     ],
     "prompt_number": 6
    }
   ],
   "metadata": {}
  }
 ]
}