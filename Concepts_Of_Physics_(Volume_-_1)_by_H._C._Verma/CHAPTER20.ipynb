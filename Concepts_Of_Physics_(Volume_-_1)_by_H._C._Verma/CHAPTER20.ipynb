{
 "metadata": {
  "name": "",
  "signature": "sha256:1233b4e99fe5728873ca711d3df87308a0e4552f8dcca4aba24014e812ed042e"
 },
 "nbformat": 3,
 "nbformat_minor": 0,
 "worksheets": [
  {
   "cells": [
    {
     "cell_type": "heading",
     "level": 1,
     "metadata": {},
     "source": [
      "CHAPTER20 : DISPERSION AND SPECTRA"
     ]
    },
    {
     "cell_type": "heading",
     "level": 2,
     "metadata": {},
     "source": [
      "Example E1 : Pg 435"
     ]
    },
    {
     "cell_type": "code",
     "collapsed": false,
     "input": [
      "# developed in windows XP operating system 32bit\n",
      "# platform Scilab 5.4.1\n",
      "#clc;clear;\n",
      "# example 20.1\n",
      "# calculation of the printersive power of the flint glass\n",
      "\n",
      "# given data\n",
      "mur=1.613# refractive index of flint glass for the red light\n",
      "mu=1.620# refractive index of flint glass for the yellow light\n",
      "muv=1.632# refractive index of flint glass for the violet light\n",
      "\n",
      "# calculation\n",
      "w=(muv-mur)/(mu-1.)# definition of the printersive power\n",
      "\n",
      "print'the dispersive power of the flint glass is',w"
     ],
     "language": "python",
     "metadata": {},
     "outputs": [
      {
       "output_type": "stream",
       "stream": "stdout",
       "text": [
        "the dispersive power of the flint glass is 0.0306451612903\n"
       ]
      }
     ],
     "prompt_number": 1
    },
    {
     "cell_type": "heading",
     "level": 2,
     "metadata": {},
     "source": [
      "Example E2 : Pg 435"
     ]
    },
    {
     "cell_type": "code",
     "collapsed": false,
     "input": [
      "# developed in windows XP operating system 32bit\n",
      "# platform Scilab 5.4.1\n",
      "#clc;clear;\n",
      "# example 20.2\n",
      "# calculation of the printersive power of the material of the lens\n",
      "\n",
      "# given data\n",
      "fr=90.# focal length(in cm) for the red light\n",
      "fv=86.4# focal length(in cm) for the violet light\n",
      "\n",
      "# calculation\n",
      "# (1/f) = (mu-1) * ((1/R1) - (1/R2))\n",
      "# muv - 1 =K/fv.....and.....mur - 1 = K/fr\n",
      "# let m = muv - mur and K = 1\n",
      "m=((1./fv)-(1./fr))\n",
      "# muy - 1 = ((muv + mur)/2) - 1 = (K/2)*((1/fv) - (1/fr))\n",
      "# let n = muy -1 and K = 1\n",
      "n=(1./2.)*((1./fv)+(1./fr))\n",
      "# w = (muv-mur)/(mu-1).........definition of the printersive power\n",
      "w=m/n\n",
      "\n",
      "print'the dispersive power of the material of the lens is',w"
     ],
     "language": "python",
     "metadata": {},
     "outputs": [
      {
       "output_type": "stream",
       "stream": "stdout",
       "text": [
        "the dispersive power of the material of the lens is 0.0408163265306\n"
       ]
      }
     ],
     "prompt_number": 2
    },
    {
     "cell_type": "heading",
     "level": 1,
     "metadata": {},
     "source": [
      "WORKED EXAMPLES "
     ]
    },
    {
     "cell_type": "heading",
     "level": 2,
     "metadata": {},
     "source": [
      "Example E1w : Pg 440"
     ]
    },
    {
     "cell_type": "code",
     "collapsed": false,
     "input": [
      "# developed in windows XP operating system 32bit\n",
      "# platform Scilab 5.4.1\n",
      "#clc;clear;\n",
      "# example 20.1w\n",
      "# calculation of the angular printersion produced by a thin prism of the flint glass\n",
      "\n",
      "# given data\n",
      "\n",
      "mur=1.613# refractive index of flint glass for the red light\n",
      "muv=1.632# refractive index of flint glass for the violet light\n",
      "A=5# refracting angle(in degree)\n",
      "\n",
      "# calculation\n",
      "delta=(muv-mur)*A# angular printersion\n",
      "\n",
      "print'the angular dispersion produced by the thin prism of the flint glass is',delta,'degree'"
     ],
     "language": "python",
     "metadata": {},
     "outputs": [
      {
       "output_type": "stream",
       "stream": "stdout",
       "text": [
        "the angular dispersion produced by the thin prism of the flint glass is 0.095 degree\n"
       ]
      }
     ],
     "prompt_number": 3
    },
    {
     "cell_type": "heading",
     "level": 2,
     "metadata": {},
     "source": [
      "Example E2w : Pg 440"
     ]
    },
    {
     "cell_type": "code",
     "collapsed": false,
     "input": [
      "# developed in windows XP operating system 32bit\n",
      "# platform Scilab 5.4.1\n",
      "#clc;clear;\n",
      "# example 20.2w\n",
      "# calculation of the angle of flint glass prism and angular printersion produced by the combination\n",
      "\n",
      "# given data\n",
      "A=5.# angle of crown glass prism(in degree)\n",
      "mur=1.514# refractive index of crown glass for the red light\n",
      "mu=1.517# refractive index of crown glass for the yellow light\n",
      "muv=1.523# refractive index of crown glass for the violet light\n",
      "murdash=1.613# refractive index of flint glass for the red light\n",
      "mudash=1.620# refractive index of flint glass for the yellow light\n",
      "muvdash=1.632# refractive index of flint glass for the violet light\n",
      "\n",
      "# calculation\n",
      "# delta = (mu - 1) * A.......deviation produced by the prism\n",
      "# D = ((mu - 1)*A) - ((mudash - 1)*Adash)....net deviation\n",
      "# net deviation for the mean ray is equal to zero\n",
      "Adash=((mu-1)/(mudash-1))*A# angle of flint glass prism\n",
      "# deltav - deltar = (muv - mur)*A.........................for crown glass prism\n",
      "# deltavdash - deltardash = (muvdash - murdash)*Adash...for flint glass prism\n",
      "delta=((muv-mur)*A)-((muvdash-murdash)*Adash)# net angular printersion\n",
      "\n",
      "print'the angle of flint glass prism needed is',Adash,'degree'\n",
      "print'the angular printersion produced by the combination is',abs(delta),'degree'"
     ],
     "language": "python",
     "metadata": {},
     "outputs": [
      {
       "output_type": "stream",
       "stream": "stdout",
       "text": [
        "the angle of flint glass prism needed is 4.16935483871 degree\n",
        "the angular printersion produced by the combination is 0.0342177419355 degree\n"
       ]
      }
     ],
     "prompt_number": 4
    },
    {
     "cell_type": "heading",
     "level": 2,
     "metadata": {},
     "source": [
      "Example E3w : Pg 441"
     ]
    },
    {
     "cell_type": "code",
     "collapsed": false,
     "input": [
      "# developed in windows XP operating system 32bit\n",
      "# platform Scilab 5.4.1\n",
      "#clc;clear;\n",
      "# example 20.3w\n",
      "# calculation of the refracting angles of the two prisms\n",
      "\n",
      "# given data\n",
      "w=0.03# printersive power of crown glass\n",
      "wdash=0.05# printersive power of flint glass\n",
      "delta=1# deviation(in degree) produced\n",
      "mu=1.517# refractive index for crown glass\n",
      "mudash=1.621# refractive index for flint glass\n",
      "\n",
      "# calculation\n",
      "# w = (muv - mur)/(mu - 1)........printersive power\n",
      "# (muv - mur)*A = (mu-1)*w*A......angular printersion\n",
      "m=((mu-1.)/(mudash-1.))*(w/wdash)\n",
      "# Adash = A*m........(1)\n",
      "# net deviation produced is delta\n",
      "A=delta/((mu-1.)-((mudash-1.)*m))# refracting angle of crown glass\n",
      "Adash=A*m# refracting angle of flint glass\n",
      "\n",
      "print'the refracting angle of the crown prism is',A,'degree'\n",
      "print'the refracting angle of the flint prism is',Adash,'degree'"
     ],
     "language": "python",
     "metadata": {},
     "outputs": [
      {
       "output_type": "stream",
       "stream": "stdout",
       "text": [
        "the refracting angle of the crown prism is 4.83558994197 degree\n",
        "the refracting angle of the flint prism is 2.4154589372 degree\n"
       ]
      }
     ],
     "prompt_number": 5
    }
   ],
   "metadata": {}
  }
 ]
}